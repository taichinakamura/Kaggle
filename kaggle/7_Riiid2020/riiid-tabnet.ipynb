{
 "cells": [
  {
   "cell_type": "markdown",
   "metadata": {
    "papermill": {
     "duration": 0.023826,
     "end_time": "2020-12-24T00:26:55.103517",
     "exception": false,
     "start_time": "2020-12-24T00:26:55.079691",
     "status": "completed"
    },
    "tags": []
   },
   "source": [
    "- copy fe of lgb version 70\n",
    "- 1st tabnet with 9 basic features"
   ]
  },
  {
   "cell_type": "code",
   "execution_count": 1,
   "metadata": {
    "_cell_guid": "b1076dfc-b9ad-4769-8c92-a6c4dae69d19",
    "_uuid": "8f2839f25d086af736a60e9eeb907d3b93b6e0e5",
    "execution": {
     "iopub.execute_input": "2020-12-24T00:26:55.156524Z",
     "iopub.status.busy": "2020-12-24T00:26:55.155647Z",
     "iopub.status.idle": "2020-12-24T00:27:25.225273Z",
     "shell.execute_reply": "2020-12-24T00:27:25.224108Z"
    },
    "papermill": {
     "duration": 30.099034,
     "end_time": "2020-12-24T00:27:25.225413",
     "exception": false,
     "start_time": "2020-12-24T00:26:55.126379",
     "status": "completed"
    },
    "tags": []
   },
   "outputs": [],
   "source": [
    "!pip install ../input/python-datatable/datatable-0.11.0-cp37-cp37m-manylinux2010_x86_64.whl > /dev/null 2>&1"
   ]
  },
  {
   "cell_type": "code",
   "execution_count": 2,
   "metadata": {
    "execution": {
     "iopub.execute_input": "2020-12-24T00:27:25.281461Z",
     "iopub.status.busy": "2020-12-24T00:27:25.280827Z",
     "iopub.status.idle": "2020-12-24T00:27:53.436975Z",
     "shell.execute_reply": "2020-12-24T00:27:53.435695Z"
    },
    "papermill": {
     "duration": 28.187935,
     "end_time": "2020-12-24T00:27:53.437097",
     "exception": false,
     "start_time": "2020-12-24T00:27:25.249162",
     "status": "completed"
    },
    "tags": []
   },
   "outputs": [
    {
     "name": "stdout",
     "output_type": "stream",
     "text": [
      "Processing /kaggle/input/pytorchtabnet/pytorch_tabnet-2.0.1-py3-none-any.whl\r\n",
      "Requirement already satisfied: numpy<2.0,>=1.17 in /opt/conda/lib/python3.7/site-packages (from pytorch-tabnet==2.0.1) (1.18.5)\r\n",
      "Requirement already satisfied: scikit_learn>0.21 in /opt/conda/lib/python3.7/site-packages (from pytorch-tabnet==2.0.1) (0.23.2)\r\n",
      "Requirement already satisfied: scipy>1.4 in /opt/conda/lib/python3.7/site-packages (from pytorch-tabnet==2.0.1) (1.4.1)\r\n",
      "Requirement already satisfied: tqdm<5.0,>=4.36 in /opt/conda/lib/python3.7/site-packages (from pytorch-tabnet==2.0.1) (4.45.0)\r\n",
      "Requirement already satisfied: torch<2.0,>=1.2 in /opt/conda/lib/python3.7/site-packages (from pytorch-tabnet==2.0.1) (1.6.0)\r\n",
      "Requirement already satisfied: threadpoolctl>=2.0.0 in /opt/conda/lib/python3.7/site-packages (from scikit_learn>0.21->pytorch-tabnet==2.0.1) (2.1.0)\r\n",
      "Requirement already satisfied: joblib>=0.11 in /opt/conda/lib/python3.7/site-packages (from scikit_learn>0.21->pytorch-tabnet==2.0.1) (0.14.1)\r\n",
      "Requirement already satisfied: future in /opt/conda/lib/python3.7/site-packages (from torch<2.0,>=1.2->pytorch-tabnet==2.0.1) (0.18.2)\r\n",
      "Installing collected packages: pytorch-tabnet\r\n",
      "Successfully installed pytorch-tabnet-2.0.1\r\n"
     ]
    }
   ],
   "source": [
    "! pip install /kaggle/input/pytorchtabnet/pytorch_tabnet-2.0.1-py3-none-any.whl"
   ]
  },
  {
   "cell_type": "code",
   "execution_count": 3,
   "metadata": {
    "_cell_guid": "79c7e3d0-c299-4dcb-8224-4455121ee9b0",
    "_uuid": "d629ff2d2480ee46fbb7e2d37f6b5fab8052498a",
    "execution": {
     "iopub.execute_input": "2020-12-24T00:27:53.497129Z",
     "iopub.status.busy": "2020-12-24T00:27:53.496313Z",
     "iopub.status.idle": "2020-12-24T00:27:56.621611Z",
     "shell.execute_reply": "2020-12-24T00:27:56.620337Z"
    },
    "papermill": {
     "duration": 3.158511,
     "end_time": "2020-12-24T00:27:56.621760",
     "exception": false,
     "start_time": "2020-12-24T00:27:53.463249",
     "status": "completed"
    },
    "tags": []
   },
   "outputs": [
    {
     "data": {
      "text/html": [
       "<style type='text/css'>\n",
       ".datatable table.frame { margin-bottom: 0; }\n",
       ".datatable table.frame thead { border-bottom: none; }\n",
       ".datatable table.frame tr.coltypes td {  color: #FFFFFF;  line-height: 6px;  padding: 0 0.5em;}\n",
       ".datatable .bool    { background: #DDDD99; }\n",
       ".datatable .object  { background: #565656; }\n",
       ".datatable .int     { background: #5D9E5D; }\n",
       ".datatable .float   { background: #4040CC; }\n",
       ".datatable .str     { background: #CC4040; }\n",
       ".datatable .row_index {  background: var(--jp-border-color3);  border-right: 1px solid var(--jp-border-color0);  color: var(--jp-ui-font-color3);  font-size: 9px;}\n",
       ".datatable .frame tr.coltypes .row_index {  background: var(--jp-border-color0);}\n",
       ".datatable th:nth-child(2) { padding-left: 12px; }\n",
       ".datatable .hellipsis {  color: var(--jp-cell-editor-border-color);}\n",
       ".datatable .vellipsis {  background: var(--jp-layout-color0);  color: var(--jp-cell-editor-border-color);}\n",
       ".datatable .na {  color: var(--jp-cell-editor-border-color);  font-size: 80%;}\n",
       ".datatable .footer { font-size: 9px; }\n",
       ".datatable .frame_dimensions {  background: var(--jp-border-color3);  border-top: 1px solid var(--jp-border-color0);  color: var(--jp-ui-font-color3);  display: inline-block;  opacity: 0.6;  padding: 1px 10px 1px 5px;}\n",
       ".datatable .frame thead tr.colnames {  background-image: url('data:image/png;base64,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');  background-repeat: repeat-x;  background-size: 14px;  height: 28px;}\n",
       "</style>\n"
      ],
      "text/plain": [
       "<IPython.core.display.HTML object>"
      ]
     },
     "metadata": {},
     "output_type": "display_data"
    }
   ],
   "source": [
    "import gc\n",
    "import os\n",
    "import random\n",
    "import pickle\n",
    "import torch\n",
    "import numpy as np\n",
    "import pandas as pd\n",
    "from numba import jit\n",
    "import riiideducation\n",
    "import datatable as dt\n",
    "from bitarray import bitarray\n",
    "from functools import partial\n",
    "from collections import defaultdict\n",
    "from pytorch_tabnet.tab_model import TabNetClassifier\n",
    "\n",
    "_ = np.seterr(divide='ignore', invalid='ignore')\n",
    "pd.set_option(\"max_rows\", 100)\n",
    "pd.set_option(\"max_columns\", 100)\n",
    "\n",
    "random.seed(1)"
   ]
  },
  {
   "cell_type": "code",
   "execution_count": 4,
   "metadata": {
    "execution": {
     "iopub.execute_input": "2020-12-24T00:27:56.685032Z",
     "iopub.status.busy": "2020-12-24T00:27:56.683237Z",
     "iopub.status.idle": "2020-12-24T00:27:56.685786Z",
     "shell.execute_reply": "2020-12-24T00:27:56.686261Z"
    },
    "papermill": {
     "duration": 0.038715,
     "end_time": "2020-12-24T00:27:56.686392",
     "exception": false,
     "start_time": "2020-12-24T00:27:56.647677",
     "status": "completed"
    },
    "tags": []
   },
   "outputs": [],
   "source": [
    "def make_bitarray():\n",
    "    a = bitarray(32737, endian='little')\n",
    "    a.setall(True)   \n",
    "    return a\n",
    "\n",
    "def clear_mem():\n",
    "    %reset -f out\n",
    "    %reset -f in\n",
    "    gc.collect()"
   ]
  },
  {
   "cell_type": "markdown",
   "metadata": {
    "papermill": {
     "duration": 0.025783,
     "end_time": "2020-12-24T00:27:56.737461",
     "exception": false,
     "start_time": "2020-12-24T00:27:56.711678",
     "status": "completed"
    },
    "tags": []
   },
   "source": [
    "# Preprocess"
   ]
  },
  {
   "cell_type": "code",
   "execution_count": 5,
   "metadata": {
    "execution": {
     "iopub.execute_input": "2020-12-24T00:27:56.795984Z",
     "iopub.status.busy": "2020-12-24T00:27:56.795170Z",
     "iopub.status.idle": "2020-12-24T00:27:56.797984Z",
     "shell.execute_reply": "2020-12-24T00:27:56.797507Z"
    },
    "papermill": {
     "duration": 0.033975,
     "end_time": "2020-12-24T00:27:56.798079",
     "exception": false,
     "start_time": "2020-12-24T00:27:56.764104",
     "status": "completed"
    },
    "tags": []
   },
   "outputs": [],
   "source": [
    "data_types_dict = {\n",
    "    'timestamp': 'int64',\n",
    "    'user_id': 'int32', \n",
    "    'content_id': 'int16', \n",
    "    'answered_correctly': 'int8', \n",
    "    'prior_question_elapsed_time': 'float32', \n",
    "    'prior_question_had_explanation': 'bool',\n",
    "}\n",
    "target = 'answered_correctly'"
   ]
  },
  {
   "cell_type": "code",
   "execution_count": 6,
   "metadata": {
    "execution": {
     "iopub.execute_input": "2020-12-24T00:27:56.854757Z",
     "iopub.status.busy": "2020-12-24T00:27:56.853906Z",
     "iopub.status.idle": "2020-12-24T00:30:09.744318Z",
     "shell.execute_reply": "2020-12-24T00:30:09.743674Z"
    },
    "papermill": {
     "duration": 132.920655,
     "end_time": "2020-12-24T00:30:09.744516",
     "exception": false,
     "start_time": "2020-12-24T00:27:56.823861",
     "status": "completed"
    },
    "tags": []
   },
   "outputs": [],
   "source": [
    "train_df = dt.fread('../input/riiid-test-answer-prediction/train.csv', columns=set(data_types_dict.keys())).to_pandas()"
   ]
  },
  {
   "cell_type": "code",
   "execution_count": 7,
   "metadata": {
    "execution": {
     "iopub.execute_input": "2020-12-24T00:30:09.811112Z",
     "iopub.status.busy": "2020-12-24T00:30:09.810203Z",
     "iopub.status.idle": "2020-12-24T00:30:41.762769Z",
     "shell.execute_reply": "2020-12-24T00:30:41.762202Z"
    },
    "papermill": {
     "duration": 31.99111,
     "end_time": "2020-12-24T00:30:41.762890",
     "exception": false,
     "start_time": "2020-12-24T00:30:09.771780",
     "status": "completed"
    },
    "tags": []
   },
   "outputs": [],
   "source": [
    "train_df = train_df[train_df[target] != -1].reset_index(drop=True)\n",
    "\n",
    "train_df['prior_question_had_explanation'] = train_df['prior_question_had_explanation'].fillna(False).astype('int8')\n",
    "train_df['prior_question_elapsed_time'].fillna(0, inplace=True)\n",
    "\n",
    "train_df = train_df.astype(data_types_dict)"
   ]
  },
  {
   "cell_type": "code",
   "execution_count": 8,
   "metadata": {
    "execution": {
     "iopub.execute_input": "2020-12-24T00:30:41.821794Z",
     "iopub.status.busy": "2020-12-24T00:30:41.820634Z",
     "iopub.status.idle": "2020-12-24T00:30:49.843155Z",
     "shell.execute_reply": "2020-12-24T00:30:49.842537Z"
    },
    "papermill": {
     "duration": 8.053913,
     "end_time": "2020-12-24T00:30:49.843326",
     "exception": false,
     "start_time": "2020-12-24T00:30:41.789413",
     "status": "completed"
    },
    "tags": []
   },
   "outputs": [],
   "source": [
    "train_size = 24\n",
    "valid_size = 6\n",
    "    \n",
    "train_index = list(train_df.groupby('user_id').tail(train_size).index)"
   ]
  },
  {
   "cell_type": "code",
   "execution_count": 9,
   "metadata": {
    "execution": {
     "iopub.execute_input": "2020-12-24T00:30:49.905410Z",
     "iopub.status.busy": "2020-12-24T00:30:49.904214Z",
     "iopub.status.idle": "2020-12-24T00:30:58.418955Z",
     "shell.execute_reply": "2020-12-24T00:30:58.418252Z"
    },
    "papermill": {
     "duration": 8.548915,
     "end_time": "2020-12-24T00:30:58.419064",
     "exception": false,
     "start_time": "2020-12-24T00:30:49.870149",
     "status": "completed"
    },
    "tags": []
   },
   "outputs": [],
   "source": [
    "train_df[\"count\"] = 1\n",
    "\n",
    "# normal cumsum\n",
    "count_array = train_df.groupby(\"user_id\")[\"count\"].cumsum().values\n",
    "count_array = count_array[train_index]\n",
    "train_df.drop(\"count\", axis=1, inplace=True)"
   ]
  },
  {
   "cell_type": "code",
   "execution_count": 10,
   "metadata": {
    "execution": {
     "iopub.execute_input": "2020-12-24T00:30:58.477654Z",
     "iopub.status.busy": "2020-12-24T00:30:58.475759Z",
     "iopub.status.idle": "2020-12-24T00:30:58.478334Z",
     "shell.execute_reply": "2020-12-24T00:30:58.478800Z"
    },
    "papermill": {
     "duration": 0.033213,
     "end_time": "2020-12-24T00:30:58.478910",
     "exception": false,
     "start_time": "2020-12-24T00:30:58.445697",
     "status": "completed"
    },
    "tags": []
   },
   "outputs": [],
   "source": [
    "#timediff_array = train_df.groupby(\"user_id\")[\"timestamp\"].diff().values\n",
    "#timediff_array = timediff_array[train_index]\n",
    "#clear_mem()\n",
    "\n",
    "#timediff2_array = train_df.groupby(\"user_id\")[\"timestamp\"].diff(2).values\n",
    "#timediff2_array = timediff2_array[train_index]\n",
    "#clear_mem()\n",
    "\n",
    "#timediff3_array = train_df.groupby(\"user_id\")[\"timestamp\"].diff(3).values\n",
    "#timediff3_array = timediff3_array[train_index]\n",
    "#clear_mem()\n",
    "\n",
    "#timediff4_array = train_df.groupby(\"user_id\")[\"timestamp\"].diff(4).values\n",
    "#timediff4_array = timediff4_array[train_index]\n",
    "#clear_mem()\n",
    "\n",
    "#user_timestamp_max_dict = train_df.groupby(\"user_id\")[\"timestamp\"].apply(lambda x: x[-4:].values).to_dict(defaultdict(partial(np.ndarray, 0, dtype=\"int64\")))\n",
    "\n",
    "#train_df.drop(\"timestamp\", axis=1, inplace=True)\n",
    "#time_dd_array = timediff2_array - timediff_array"
   ]
  },
  {
   "cell_type": "code",
   "execution_count": 11,
   "metadata": {
    "execution": {
     "iopub.execute_input": "2020-12-24T00:31:00.237256Z",
     "iopub.status.busy": "2020-12-24T00:30:59.313771Z",
     "iopub.status.idle": "2020-12-24T00:31:02.035642Z",
     "shell.execute_reply": "2020-12-24T00:31:02.036662Z"
    },
    "papermill": {
     "duration": 3.531456,
     "end_time": "2020-12-24T00:31:02.036856",
     "exception": false,
     "start_time": "2020-12-24T00:30:58.505400",
     "status": "completed"
    },
    "tags": []
   },
   "outputs": [],
   "source": [
    "# prior_question_elapsed_time\n",
    "prior_question_elapsed_time_array = train_df.prior_question_elapsed_time.values\n",
    "train_df.drop(\"prior_question_elapsed_time\", axis =1, inplace=True)\n",
    "prior_question_elapsed_time_array = prior_question_elapsed_time_array[train_index]"
   ]
  },
  {
   "cell_type": "code",
   "execution_count": 12,
   "metadata": {
    "execution": {
     "iopub.execute_input": "2020-12-24T00:31:02.140395Z",
     "iopub.status.busy": "2020-12-24T00:31:02.139465Z",
     "iopub.status.idle": "2020-12-24T00:31:05.554091Z",
     "shell.execute_reply": "2020-12-24T00:31:05.553134Z"
    },
    "papermill": {
     "duration": 3.4651,
     "end_time": "2020-12-24T00:31:05.554260",
     "exception": false,
     "start_time": "2020-12-24T00:31:02.089160",
     "status": "completed"
    },
    "tags": []
   },
   "outputs": [],
   "source": [
    "prior_question_had_explanation_array = train_df.prior_question_had_explanation.values\n",
    "train_df.drop('prior_question_had_explanation', axis=1, inplace=True)\n",
    "prior_question_had_explanation_array = prior_question_had_explanation_array[train_index]"
   ]
  },
  {
   "cell_type": "code",
   "execution_count": 13,
   "metadata": {
    "execution": {
     "iopub.execute_input": "2020-12-24T00:31:05.706353Z",
     "iopub.status.busy": "2020-12-24T00:31:05.705598Z",
     "iopub.status.idle": "2020-12-24T00:31:20.117077Z",
     "shell.execute_reply": "2020-12-24T00:31:20.115976Z"
    },
    "papermill": {
     "duration": 14.535643,
     "end_time": "2020-12-24T00:31:20.117204",
     "exception": false,
     "start_time": "2020-12-24T00:31:05.581561",
     "status": "completed"
    },
    "tags": []
   },
   "outputs": [],
   "source": [
    "questions_df = pd.read_csv(\n",
    "    '../input/riiid-test-answer-prediction/questions.csv', \n",
    "    usecols=[0, 3], \n",
    "    dtype={'question_id': 'int16', 'part': 'int8'} \n",
    ")\n",
    "\n",
    "additional_q_df = pd.read_csv('../input/riiid-question-clustering/question_cmnts.csv')\n",
    "questions_df[\"community\"] = additional_q_df[\"community\"].astype('int8')\n",
    "del additional_q_df \n",
    "    \n",
    "train_df = pd.merge(train_df, questions_df, left_on='content_id', right_on='question_id', how='left', right_index=True).reset_index(drop=True)\n",
    "train_df.drop(columns=['question_id'], inplace=True)"
   ]
  },
  {
   "cell_type": "code",
   "execution_count": 14,
   "metadata": {
    "execution": {
     "iopub.execute_input": "2020-12-24T00:31:20.182131Z",
     "iopub.status.busy": "2020-12-24T00:31:20.180923Z",
     "iopub.status.idle": "2020-12-24T00:31:38.367100Z",
     "shell.execute_reply": "2020-12-24T00:31:38.366557Z"
    },
    "papermill": {
     "duration": 18.221406,
     "end_time": "2020-12-24T00:31:38.367219",
     "exception": false,
     "start_time": "2020-12-24T00:31:20.145813",
     "status": "completed"
    },
    "tags": []
   },
   "outputs": [],
   "source": [
    "train_df['lag'] = train_df.groupby('user_id')[target].shift()\n",
    "cum = train_df.groupby('user_id')['lag'].agg(['cumsum', 'cumcount'])\n",
    "user_correctness_array = np.array(cum['cumsum'] / cum['cumcount'])\n",
    "user_correctness_array = user_correctness_array[train_index]\n",
    "train_df.drop(columns=['lag'], inplace=True)\n",
    "del cum"
   ]
  },
  {
   "cell_type": "code",
   "execution_count": 15,
   "metadata": {
    "execution": {
     "iopub.execute_input": "2020-12-24T00:31:38.438927Z",
     "iopub.status.busy": "2020-12-24T00:31:38.437733Z",
     "iopub.status.idle": "2020-12-24T00:32:39.768608Z",
     "shell.execute_reply": "2020-12-24T00:32:39.767440Z"
    },
    "papermill": {
     "duration": 61.373147,
     "end_time": "2020-12-24T00:32:39.768756",
     "exception": false,
     "start_time": "2020-12-24T00:31:38.395609",
     "status": "completed"
    },
    "tags": []
   },
   "outputs": [],
   "source": [
    "@jit\n",
    "def part_count_calc(P):\n",
    "    ans = []\n",
    "    part_count = [0] * 8\n",
    "    for i in range(len(P)):\n",
    "        part_count[P[i]] += 1\n",
    "        ans.append(part_count[P[i]])\n",
    "    return np.array(ans)\n",
    "\n",
    "@jit\n",
    "def part_count_dict_calc(P):\n",
    "    part_count = [0] * 8\n",
    "    for i in range(len(P)):\n",
    "        part_count[P[i]] += 1\n",
    "    return np.array(part_count)\n",
    "\n",
    "def part_dict_init():\n",
    "    ans = [0] * 8\n",
    "    return np.array(ans)\n",
    "\n",
    "\n",
    "part_count_array = train_df.groupby(\"user_id\").apply(lambda x: part_count_calc(x[\"part\"].values))\n",
    "part_count_array = np.hstack(part_count_array)\n",
    "part_count_array = part_count_array[train_index]\n",
    "part_ratio_array = part_count_array / count_array\n",
    "\n",
    "user_part_count_dict = train_df.groupby(\"user_id\").apply(lambda x: part_count_dict_calc(x[\"part\"].values)).to_dict(defaultdict(part_dict_init))\n",
    "\n",
    "part_array = train_df.part.values\n",
    "train_df.drop(\"part\", axis=1, inplace=True)\n",
    "part_array = part_array[train_index]"
   ]
  },
  {
   "cell_type": "code",
   "execution_count": 16,
   "metadata": {
    "execution": {
     "iopub.execute_input": "2020-12-24T00:32:39.837419Z",
     "iopub.status.busy": "2020-12-24T00:32:39.836526Z",
     "iopub.status.idle": "2020-12-24T00:32:53.185965Z",
     "shell.execute_reply": "2020-12-24T00:32:53.189211Z"
    },
    "papermill": {
     "duration": 13.391725,
     "end_time": "2020-12-24T00:32:53.189501",
     "exception": false,
     "start_time": "2020-12-24T00:32:39.797776",
     "status": "completed"
    },
    "tags": []
   },
   "outputs": [
    {
     "name": "stdout",
     "output_type": "stream",
     "text": [
      "Flushing output cache (0 entries)\n",
      "Flushing input history\n",
      "Flushing output cache (0 entries)\n",
      "Flushing input history\n"
     ]
    }
   ],
   "source": [
    "user_agg = train_df.groupby('user_id')[target].agg(['sum', 'count'])\n",
    "user_sum_dict = user_agg['sum'].astype('int16').to_dict(defaultdict(int))\n",
    "del user_agg['sum']\n",
    "user_count_dict = user_agg['count'].astype('int16').to_dict(defaultdict(int))\n",
    "del user_agg['count']\n",
    "clear_mem()\n",
    "\n",
    "#\n",
    "content_agg = train_df.groupby('content_id')[target].agg(['sum', 'count'])\n",
    "content_sum_dict = content_agg['sum'].astype('int32').to_dict(defaultdict(int))\n",
    "content_count_dict = content_agg['count'].astype('int32').to_dict(defaultdict(int))\n",
    "\n",
    "content_count_array = train_df['content_id'].map(content_agg['count']).astype('int32').values\n",
    "content_id_array = train_df['content_id'].map(content_agg['sum'] / content_agg['count']).values\n",
    "del content_agg\n",
    "clear_mem()"
   ]
  },
  {
   "cell_type": "code",
   "execution_count": 17,
   "metadata": {
    "execution": {
     "iopub.execute_input": "2020-12-24T00:32:53.257067Z",
     "iopub.status.busy": "2020-12-24T00:32:53.256449Z",
     "iopub.status.idle": "2020-12-24T00:33:08.160896Z",
     "shell.execute_reply": "2020-12-24T00:33:08.160088Z"
    },
    "papermill": {
     "duration": 14.939576,
     "end_time": "2020-12-24T00:33:08.161033",
     "exception": false,
     "start_time": "2020-12-24T00:32:53.221457",
     "status": "completed"
    },
    "tags": []
   },
   "outputs": [],
   "source": [
    "# benefit of solving difficult questions\n",
    "\n",
    "#point_array = 1 / (content_id_array + 0.1)\n",
    "with open('../input/riiid-premade-data/got_point_array.pickle','rb') as f:\n",
    "    got_point_array = pickle.load(f)\n",
    "got_point_array = got_point_array[train_index]\n",
    "    \n",
    "with open('../input/riiid-premade-data/user_point_sum_dict.pickle','rb') as f:\n",
    "    user_point_sum_dict = pickle.load(f)\n",
    "\n",
    "content_id_array = content_id_array[train_index]\n",
    "content_count_array = content_count_array[train_index]"
   ]
  },
  {
   "cell_type": "code",
   "execution_count": 18,
   "metadata": {
    "execution": {
     "iopub.execute_input": "2020-12-24T00:33:08.225508Z",
     "iopub.status.busy": "2020-12-24T00:33:08.224889Z",
     "iopub.status.idle": "2020-12-24T00:33:17.997531Z",
     "shell.execute_reply": "2020-12-24T00:33:17.995658Z"
    },
    "papermill": {
     "duration": 9.806933,
     "end_time": "2020-12-24T00:33:17.997669",
     "exception": false,
     "start_time": "2020-12-24T00:33:08.190736",
     "status": "completed"
    },
    "tags": []
   },
   "outputs": [],
   "source": [
    "with open('../input/riiid-premade-data/answered_correctly_last7_array.pickle','rb') as f:\n",
    "    answered_correctly_last7_array = pickle.load(f)\n",
    "answered_correctly_last7_array = answered_correctly_last7_array[train_index]\n",
    "    \n",
    "with open('../input/riiid-premade-data/user_last7_answer_dict.pickle','rb') as f:\n",
    "    user_last7_answer_dict = pickle.load(f)"
   ]
  },
  {
   "cell_type": "code",
   "execution_count": 19,
   "metadata": {
    "execution": {
     "iopub.execute_input": "2020-12-24T00:33:20.976455Z",
     "iopub.status.busy": "2020-12-24T00:33:18.860615Z",
     "iopub.status.idle": "2020-12-24T00:33:20.999707Z",
     "shell.execute_reply": "2020-12-24T00:33:20.998883Z"
    },
    "papermill": {
     "duration": 2.97064,
     "end_time": "2020-12-24T00:33:20.999859",
     "exception": false,
     "start_time": "2020-12-24T00:33:18.029219",
     "status": "completed"
    },
    "tags": []
   },
   "outputs": [],
   "source": [
    "answered_correctly_array = train_df[target].values\n",
    "train_df.drop(target, axis=1, inplace=True)\n",
    "answered_correctly_array = answered_correctly_array[train_index]"
   ]
  },
  {
   "cell_type": "markdown",
   "metadata": {
    "papermill": {
     "duration": 0.02864,
     "end_time": "2020-12-24T00:33:21.059434",
     "exception": false,
     "start_time": "2020-12-24T00:33:21.030794",
     "status": "completed"
    },
    "tags": []
   },
   "source": [
    "# data formation"
   ]
  },
  {
   "cell_type": "code",
   "execution_count": 20,
   "metadata": {
    "execution": {
     "iopub.execute_input": "2020-12-24T00:33:21.167520Z",
     "iopub.status.busy": "2020-12-24T00:33:21.165655Z",
     "iopub.status.idle": "2020-12-24T00:33:34.622496Z",
     "shell.execute_reply": "2020-12-24T00:33:34.620956Z"
    },
    "papermill": {
     "duration": 13.533645,
     "end_time": "2020-12-24T00:33:34.622653",
     "exception": false,
     "start_time": "2020-12-24T00:33:21.089008",
     "status": "completed"
    },
    "tags": []
   },
   "outputs": [],
   "source": [
    "train_df = train_df[train_df.index.isin(train_index)].reset_index(drop=True)\n",
    "valid_index = list(train_df.groupby('user_id').tail(valid_size).index)\n",
    "train_index = list(train_df[~train_df.index.isin(valid_index)].index)\n",
    "\n",
    "del train_df"
   ]
  },
  {
   "cell_type": "code",
   "execution_count": 21,
   "metadata": {
    "execution": {
     "iopub.execute_input": "2020-12-24T00:33:34.704667Z",
     "iopub.status.busy": "2020-12-24T00:33:34.703839Z",
     "iopub.status.idle": "2020-12-24T00:33:34.707742Z",
     "shell.execute_reply": "2020-12-24T00:33:34.708401Z"
    },
    "papermill": {
     "duration": 0.046828,
     "end_time": "2020-12-24T00:33:34.708556",
     "exception": false,
     "start_time": "2020-12-24T00:33:34.661728",
     "status": "completed"
    },
    "tags": []
   },
   "outputs": [
    {
     "name": "stdout",
     "output_type": "stream",
     "text": [
      "9\n"
     ]
    }
   ],
   "source": [
    "features_dict = {\n",
    "    'content_id': content_id_array,\n",
    "    'prior_question_elapsed_time': prior_question_elapsed_time_array,\n",
    "    'prior_question_had_explanation':  prior_question_had_explanation_array,\n",
    "    'user_correctness': user_correctness_array,\n",
    "    'part': part_array,\n",
    "    'content_count': content_count_array,\n",
    "    'count': count_array,\n",
    "    #'first_attempt': first_attempt_array,\n",
    "    #'unique_attempt': unique_attempt_array,\n",
    "    #'part_count': part_count_array,\n",
    "    #'part_ratio': part_ratio_array,\n",
    "    #'prior_question_had_explanation_mean': prior_question_had_explanation_mean_array,\n",
    "    'got_point': got_point_array,\n",
    "    'answered_correctly_last7': answered_correctly_last7_array,   \n",
    "    #'timediff': timediff_array,\n",
    "    #'timediff2': timediff2_array,\n",
    "    #'timediff3': timediff3_array,\n",
    "    #'timediff4': timediff4_array,\n",
    "    #'community': community_array,\n",
    "    #'tag_acc': tag_acc_array,\n",
    "    #'community_count': community_count_array,\n",
    "    #'time_dd': time_dd_array,\n",
    "}\n",
    "\n",
    "features = list(features_dict.keys())\n",
    "print(len(features))"
   ]
  },
  {
   "cell_type": "code",
   "execution_count": 22,
   "metadata": {
    "execution": {
     "iopub.execute_input": "2020-12-24T00:33:36.083221Z",
     "iopub.status.busy": "2020-12-24T00:33:36.082032Z",
     "iopub.status.idle": "2020-12-24T00:33:54.108052Z",
     "shell.execute_reply": "2020-12-24T00:33:54.106580Z"
    },
    "papermill": {
     "duration": 19.368858,
     "end_time": "2020-12-24T00:33:54.108178",
     "exception": false,
     "start_time": "2020-12-24T00:33:34.739320",
     "status": "completed"
    },
    "tags": []
   },
   "outputs": [],
   "source": [
    "X_train = np.ndarray(shape=(len(train_index), len(features)), dtype=np.float32)\n",
    "X_valid = np.ndarray(shape=(len(valid_index), len(features)), dtype=np.float32)\n",
    "\n",
    "for idx, feature in enumerate(features):\n",
    "    X_train[:,idx] = features_dict[feature][train_index].astype(np.float32).reshape(-1)\n",
    "    X_valid[:,idx] = features_dict[feature][valid_index].astype(np.float32).reshape(-1)\n",
    "    del features_dict[feature]\n",
    "y_train = answered_correctly_array[train_index].astype(np.float32)\n",
    "y_valid = answered_correctly_array[valid_index].astype(np.float32)\n",
    "\n",
    "X_train = np.nan_to_num(X_train, nan=-1)\n",
    "X_valid = np.nan_to_num(X_valid, nan=-1)"
   ]
  },
  {
   "cell_type": "code",
   "execution_count": 23,
   "metadata": {
    "execution": {
     "iopub.execute_input": "2020-12-24T00:33:54.177130Z",
     "iopub.status.busy": "2020-12-24T00:33:54.175795Z",
     "iopub.status.idle": "2020-12-24T00:33:54.180020Z",
     "shell.execute_reply": "2020-12-24T00:33:54.177781Z"
    },
    "papermill": {
     "duration": 0.041503,
     "end_time": "2020-12-24T00:33:54.180258",
     "exception": false,
     "start_time": "2020-12-24T00:33:54.138755",
     "status": "completed"
    },
    "tags": []
   },
   "outputs": [
    {
     "name": "stdout",
     "output_type": "stream",
     "text": [
      "(6536675, 10) (2360984, 10)\n"
     ]
    }
   ],
   "source": [
    "print((len(train_index), len(features)+1), (len(valid_index), len(features)+1))"
   ]
  },
  {
   "cell_type": "markdown",
   "metadata": {
    "papermill": {
     "duration": 0.03048,
     "end_time": "2020-12-24T00:33:54.241986",
     "exception": false,
     "start_time": "2020-12-24T00:33:54.211506",
     "status": "completed"
    },
    "tags": []
   },
   "source": [
    "# Train"
   ]
  },
  {
   "cell_type": "code",
   "execution_count": 24,
   "metadata": {
    "execution": {
     "iopub.execute_input": "2020-12-24T00:33:54.312667Z",
     "iopub.status.busy": "2020-12-24T00:33:54.311927Z",
     "iopub.status.idle": "2020-12-24T00:33:54.746499Z",
     "shell.execute_reply": "2020-12-24T00:33:54.747474Z"
    },
    "papermill": {
     "duration": 0.475168,
     "end_time": "2020-12-24T00:33:54.747638",
     "exception": false,
     "start_time": "2020-12-24T00:33:54.272470",
     "status": "completed"
    },
    "tags": []
   },
   "outputs": [],
   "source": [
    "def seed_everything(seed_value=1234):\n",
    "    random.seed(seed_value)\n",
    "    np.random.seed(seed_value)\n",
    "    torch.manual_seed(seed_value)\n",
    "    os.environ['PYTHONHASHSEED'] = str(seed_value)\n",
    "    \n",
    "    if torch.cuda.is_available(): \n",
    "        torch.cuda.manual_seed(seed_value)\n",
    "        torch.cuda.manual_seed_all(seed_value)\n",
    "        torch.backends.cudnn.deterministic = True\n",
    "        torch.backends.cudnn.benchmark = False\n",
    "        \n",
    "seed_everything()"
   ]
  },
  {
   "cell_type": "code",
   "execution_count": 25,
   "metadata": {
    "execution": {
     "iopub.execute_input": "2020-12-24T00:33:54.818851Z",
     "iopub.status.busy": "2020-12-24T00:33:54.818022Z",
     "iopub.status.idle": "2020-12-24T00:33:54.828772Z",
     "shell.execute_reply": "2020-12-24T00:33:54.829692Z"
    },
    "papermill": {
     "duration": 0.051517,
     "end_time": "2020-12-24T00:33:54.829840",
     "exception": false,
     "start_time": "2020-12-24T00:33:54.778323",
     "status": "completed"
    },
    "tags": []
   },
   "outputs": [
    {
     "name": "stdout",
     "output_type": "stream",
     "text": [
      "Device used : cuda\n"
     ]
    }
   ],
   "source": [
    "BS = 2**12\n",
    "\n",
    "# Training for more epoch might improve the model performance\n",
    "# at the cost of longer training time\n",
    "MAX_EPOCH = 10\n",
    "\n",
    "# Defining TabNet model\n",
    "model = TabNetClassifier(n_d=32, n_a=32, n_steps=3, gamma=1.2,\n",
    "                         n_independent=2, n_shared=2,\n",
    "                         lambda_sparse=0., seed=0,\n",
    "                         #cat_idxs=cat_idxs,\n",
    "                         #cat_dims=cat_dims,\n",
    "                         cat_emb_dim=1,\n",
    "                         mask_type='entmax',\n",
    "                         device_name='auto',\n",
    "                         optimizer_fn=torch.optim.Adam,\n",
    "                         optimizer_params=dict(lr=2e-2),\n",
    "                         scheduler_params=dict(max_lr=0.05,\n",
    "                                               steps_per_epoch=int(X_train.shape[0] / BS),\n",
    "                                               epochs=MAX_EPOCH,\n",
    "                                               #final_div_factor=100,\n",
    "                                               is_batch_level=True),\n",
    "                         scheduler_fn=torch.optim.lr_scheduler.OneCycleLR,\n",
    "                         verbose=1,)"
   ]
  },
  {
   "cell_type": "code",
   "execution_count": 26,
   "metadata": {
    "execution": {
     "iopub.execute_input": "2020-12-24T00:33:54.900811Z",
     "iopub.status.busy": "2020-12-24T00:33:54.899733Z",
     "iopub.status.idle": "2020-12-24T01:13:57.344141Z",
     "shell.execute_reply": "2020-12-24T01:13:57.342810Z"
    },
    "papermill": {
     "duration": 2402.482579,
     "end_time": "2020-12-24T01:13:57.344274",
     "exception": false,
     "start_time": "2020-12-24T00:33:54.861695",
     "status": "completed"
    },
    "tags": []
   },
   "outputs": [
    {
     "name": "stdout",
     "output_type": "stream",
     "text": [
      "training starts\n",
      "epoch 0  | loss: 0.59093 | valid_auc: 0.74045 |  0:03:42s\n",
      "epoch 1  | loss: 0.58329 | valid_auc: 0.74086 |  0:07:24s\n",
      "epoch 2  | loss: 0.58269 | valid_auc: 0.73931 |  0:11:07s\n",
      "epoch 3  | loss: 0.58225 | valid_auc: 0.7398  |  0:14:49s\n",
      "epoch 4  | loss: 0.58191 | valid_auc: 0.74079 |  0:18:34s\n",
      "epoch 5  | loss: 0.58153 | valid_auc: 0.74207 |  0:22:22s\n",
      "epoch 6  | loss: 0.58095 | valid_auc: 0.74289 |  0:26:10s\n",
      "epoch 7  | loss: 0.58034 | valid_auc: 0.74294 |  0:29:57s\n",
      "epoch 8  | loss: 0.57975 | valid_auc: 0.74394 |  0:33:46s\n",
      "epoch 9  | loss: 0.57935 | valid_auc: 0.74398 |  0:37:34s\n",
      "Stop training because you reached max_epochs = 10 with best_epoch = 9 and best_valid_auc = 0.74398\n",
      "Best weights from best epoch are automatically used!\n"
     ]
    }
   ],
   "source": [
    "print(\"training starts\")\n",
    "   \n",
    "model.fit(X_train=X_train, y_train=y_train,\n",
    "          eval_set=[(X_valid, y_valid)],\n",
    "          eval_name=[\"valid\"],\n",
    "          eval_metric=[\"auc\"],\n",
    "          batch_size=BS,\n",
    "          virtual_batch_size=256,\n",
    "          max_epochs=MAX_EPOCH,\n",
    "          drop_last=True,\n",
    "          pin_memory=True,\n",
    "         )\n",
    "del X_train, y_train, X_valid, y_valid"
   ]
  },
  {
   "cell_type": "code",
   "execution_count": 27,
   "metadata": {
    "execution": {
     "iopub.execute_input": "2020-12-24T01:13:57.428991Z",
     "iopub.status.busy": "2020-12-24T01:13:57.428136Z",
     "iopub.status.idle": "2020-12-24T01:13:57.434946Z",
     "shell.execute_reply": "2020-12-24T01:13:57.429634Z"
    },
    "papermill": {
     "duration": 0.053109,
     "end_time": "2020-12-24T01:13:57.435082",
     "exception": false,
     "start_time": "2020-12-24T01:13:57.381973",
     "status": "completed"
    },
    "tags": []
   },
   "outputs": [
    {
     "name": "stdout",
     "output_type": "stream",
     "text": [
      "part 0.027835686964623168\n",
      "prior_question_had_explanation 0.029674689418849046\n",
      "content_count 0.04014042527218193\n",
      "count 0.06285561913021365\n",
      "prior_question_elapsed_time 0.09199648946615266\n",
      "answered_correctly_last7 0.10747717340587076\n",
      "user_correctness 0.14732948082232145\n",
      "got_point 0.19070977274626114\n",
      "content_id 0.3019806627735262\n"
     ]
    }
   ],
   "source": [
    "feat_importances = model.feature_importances_\n",
    "indices = np.argsort(feat_importances)\n",
    "for i in indices:\n",
    "    print(features[i], feat_importances[i])"
   ]
  },
  {
   "cell_type": "code",
   "execution_count": 28,
   "metadata": {
    "execution": {
     "iopub.execute_input": "2020-12-24T01:13:57.520889Z",
     "iopub.status.busy": "2020-12-24T01:13:57.518996Z",
     "iopub.status.idle": "2020-12-24T01:13:57.521573Z",
     "shell.execute_reply": "2020-12-24T01:13:57.522079Z"
    },
    "papermill": {
     "duration": 0.04514,
     "end_time": "2020-12-24T01:13:57.522184",
     "exception": false,
     "start_time": "2020-12-24T01:13:57.477044",
     "status": "completed"
    },
    "tags": []
   },
   "outputs": [],
   "source": [
    "#saving_path = \"../\"\n",
    "#model.save_model(saving_path)"
   ]
  },
  {
   "cell_type": "markdown",
   "metadata": {
    "papermill": {
     "duration": 0.038686,
     "end_time": "2020-12-24T01:13:57.597826",
     "exception": false,
     "start_time": "2020-12-24T01:13:57.559140",
     "status": "completed"
    },
    "tags": []
   },
   "source": [
    "# Inference"
   ]
  },
  {
   "cell_type": "code",
   "execution_count": 29,
   "metadata": {
    "execution": {
     "iopub.execute_input": "2020-12-24T01:13:57.678102Z",
     "iopub.status.busy": "2020-12-24T01:13:57.677287Z",
     "iopub.status.idle": "2020-12-24T01:13:57.680413Z",
     "shell.execute_reply": "2020-12-24T01:13:57.679824Z"
    },
    "papermill": {
     "duration": 0.04576,
     "end_time": "2020-12-24T01:13:57.680524",
     "exception": false,
     "start_time": "2020-12-24T01:13:57.634764",
     "status": "completed"
    },
    "tags": []
   },
   "outputs": [],
   "source": [
    "env = riiideducation.make_env()\n",
    "iter_test = env.iter_test()\n",
    "prior_test_df = None"
   ]
  },
  {
   "cell_type": "code",
   "execution_count": 30,
   "metadata": {
    "execution": {
     "iopub.execute_input": "2020-12-24T01:13:57.777910Z",
     "iopub.status.busy": "2020-12-24T01:13:57.766500Z",
     "iopub.status.idle": "2020-12-24T01:13:58.487487Z",
     "shell.execute_reply": "2020-12-24T01:13:58.488205Z"
    },
    "papermill": {
     "duration": 0.770283,
     "end_time": "2020-12-24T01:13:58.488422",
     "exception": false,
     "start_time": "2020-12-24T01:13:57.718139",
     "status": "completed"
    },
    "tags": []
   },
   "outputs": [
    {
     "name": "stdout",
     "output_type": "stream",
     "text": [
      "CPU times: user 296 ms, sys: 38 ms, total: 334 ms\n",
      "Wall time: 707 ms\n"
     ]
    }
   ],
   "source": [
    "%%time\n",
    "for (test_df, sample_prediction_df) in iter_test:\n",
    "    if prior_test_df is not None:\n",
    "        prior_test_df[target] = eval(test_df['prior_group_answers_correct'].iloc[0])\n",
    "        prior_test_df = prior_test_df[prior_test_df[target] != -1].reset_index(drop=True)\n",
    "        \n",
    "        user_ids = prior_test_df['user_id'].values\n",
    "        content_ids = prior_test_df['content_id'].values\n",
    "        targets = prior_test_df[target].values\n",
    "                 \n",
    "        #for user_id, content_id, answered_correctly, first_attempt_ornot, prior_explanation, prior_point, prior_community in zip(user_ids, \n",
    "        #                                                    content_ids, \n",
    "        #                                                    targets, \n",
    "        #                                                    prior_f_attempt_arrays,\n",
    "        #                                                    p_prior_question_had_explanation,\n",
    "        #                                                    prior_point_array,\n",
    "        #                                                    prior_community_arrays):\n",
    "            \n",
    "        for user_id, content_id, answered_correctly, prior_point in zip(user_ids, \n",
    "                                                            content_ids, \n",
    "                                                            targets, \n",
    "                                                            prior_point_array):\n",
    "            \n",
    "            user_sum_dict[user_id] += answered_correctly\n",
    "            user_count_dict[user_id] += 1\n",
    "            content_sum_dict[content_id] += answered_correctly\n",
    "            content_count_dict[content_id] += 1\n",
    "            #user_unique_dict[user_id] += first_attempt_ornot\n",
    "            #user_prior_question_had_explanation_sum_dict[user_id] += prior_explanation\n",
    "            user_point_sum_dict[user_id] += prior_point * answered_correctly\n",
    "            if len(user_last7_answer_dict[user_id])==7:\n",
    "                user_last7_answer_dict[user_id] = np.concatenate([user_last7_answer_dict[user_id],[answered_correctly]])[1:]\n",
    "            else:\n",
    "                user_last7_answer_dict[user_id] = np.concatenate([user_last7_answer_dict[user_id],[answered_correctly]])\n",
    "            \n",
    "            #user_community_correct_dict[user_id][prior_community] += answered_correctly\n",
    "            #user_community_count_dict[user_id][prior_community] += 1\n",
    "            #community_count_dict[prior_community] += 1            \n",
    "\n",
    "    prior_test_df = test_df.copy()\n",
    "           \n",
    "    test_df = test_df[test_df['content_type_id'] == 0].reset_index(drop=True)\n",
    "    test_df = pd.merge(test_df, questions_df, left_on='content_id', right_on='question_id', how='left', right_index=True).reset_index(drop=True)\n",
    "    test_df['prior_question_had_explanation'] = test_df['prior_question_had_explanation'].fillna(False).astype('int8')\n",
    "    test_df['prior_question_elapsed_time'] = test_df['prior_question_elapsed_time'].fillna(0)\n",
    "\n",
    "    p_prior_question_had_explanation = test_df['prior_question_had_explanation'].values\n",
    "    prior_community_arrays = test_df['community'].values\n",
    "    \n",
    "    user_sum = np.zeros(len(test_df), dtype=np.int16)\n",
    "    user_count = np.zeros(len(test_df), dtype=np.int16)\n",
    "    content_sum = np.zeros(len(test_df), dtype=np.int32)\n",
    "    content_count = np.zeros(len(test_df), dtype=np.int32)\n",
    "    part_count = np.zeros(len(test_df), dtype=np.int32)\n",
    "    first_attempt_values = []\n",
    "    user_unique_count = np.zeros(len(test_df), dtype=np.int32)\n",
    "    user_prior_question_had_explanation_sum = np.zeros(len(test_df), dtype=np.int32)\n",
    "    got_point_array = np.zeros(len(test_df), dtype=np.float32)\n",
    "    user_last7_accuracy_array = np.zeros(len(test_df), dtype=np.float32)\n",
    "    timediff_array = np.zeros(len(test_df), dtype = np.int64)\n",
    "    timediff2_array = np.zeros(len(test_df), dtype = np.int64)\n",
    "    timediff3_array = np.zeros(len(test_df), dtype = np.int64)\n",
    "    timediff4_array = np.zeros(len(test_df), dtype = np.int64)\n",
    "    tag_acc_array = np.zeros(len(test_df), dtype=np.float32)\n",
    "    community_count_array = np.zeros(len(test_df), dtype=np.int32)\n",
    "    time_dd_array = np.zeros(len(test_df), dtype = np.int64)\n",
    "    \n",
    "    for i, (user_id, content_id, timestamp, community, part) in enumerate(zip(test_df['user_id'].values, \n",
    "                                                             test_df['content_id'].values,\n",
    "                                                             test_df['timestamp'].values,\n",
    "                                                             test_df['community'].values,\n",
    "                                                             test_df['part'].values)):\n",
    "        user_sum[i] = user_sum_dict[user_id]\n",
    "        user_count[i] = user_count_dict[user_id]\n",
    "        content_sum[i] = content_sum_dict[content_id]\n",
    "        content_count[i] = content_count_dict[content_id]\n",
    "        #part_count[i] = user_part_count_dict[user_id][part] + 1\n",
    "        #user_part_count_dict[user_id][part] += 1\n",
    "        #first_attempt_values.append(user_content_dict[user_id][content_id])\n",
    "        #user_content_dict[user_id][content_id] = False             \n",
    "        #user_unique_count[i] = user_unique_dict[user_id]\n",
    "        #user_prior_question_had_explanation_sum[i] = user_prior_question_had_explanation_sum_dict[user_id]\n",
    "        got_point_array[i] = user_point_sum_dict[user_id]\n",
    "        \n",
    "        if len(user_last7_answer_dict[user_id])==7:\n",
    "            user_last7_accuracy_array[i] = user_last7_answer_dict[user_id].mean()\n",
    "        else:\n",
    "            user_last7_accuracy_array[i] = np.nan\n",
    "            \n",
    "        #if len(user_timestamp_max_dict[user_id]) ==0:\n",
    "        #   timediff_array[i] = -1\n",
    "        #    timediff2_array[i] = -1\n",
    "        #    timediff3_array[i] = -1\n",
    "        #    timediff4_array[i] = -1\n",
    "        #    time_dd_array[i] = -1\n",
    "        #    user_timestamp_max_dict[user_id] = np.concatenate([user_timestamp_max_dict[user_id],[timestamp]])\n",
    "            \n",
    "        #elif len(user_timestamp_max_dict[user_id]) ==1:\n",
    "        #    timediff_array[i] = timestamp - user_timestamp_max_dict[user_id][0]\n",
    "        #    timediff2_array[i] = -1\n",
    "        #    timediff3_array[i] = -1\n",
    "        #    timediff4_array[i] = -1\n",
    "        #    time_dd_array[i] = -1\n",
    "        #    user_timestamp_max_dict[user_id] = np.concatenate([user_timestamp_max_dict[user_id],[timestamp]])\n",
    "            \n",
    "        #elif len(user_timestamp_max_dict[user_id]) ==2:\n",
    "        #    timediff_array[i] = timestamp - user_timestamp_max_dict[user_id][1]\n",
    "        #    timediff2_array[i] = timestamp - user_timestamp_max_dict[user_id][0]\n",
    "        #    timediff3_array[i] = -1\n",
    "        #    timediff4_array[i] = -1\n",
    "        #    time_dd_array[i] = timediff2_array[i] - timediff_array[i]\n",
    "        #    user_timestamp_max_dict[user_id] = np.concatenate([user_timestamp_max_dict[user_id],[timestamp]])  \n",
    "            \n",
    "        #elif len(user_timestamp_max_dict[user_id]) ==3:\n",
    "        #    timediff_array[i] = timestamp - user_timestamp_max_dict[user_id][2]\n",
    "        #    timediff2_array[i] = timestamp - user_timestamp_max_dict[user_id][1]\n",
    "        #    timediff3_array[i] = timestamp - user_timestamp_max_dict[user_id][0]\n",
    "        #    timediff4_array[i] = -1\n",
    "        #    time_dd_array[i] = timediff2_array[i] - timediff_array[i]\n",
    "        #    user_timestamp_max_dict[user_id] = np.concatenate([user_timestamp_max_dict[user_id],[timestamp]]) \n",
    "    \n",
    "        #else:\n",
    "        #    timediff_array[i] = timestamp - user_timestamp_max_dict[user_id][3]\n",
    "        #    timediff2_array[i] = timestamp - user_timestamp_max_dict[user_id][2]\n",
    "        #    timediff3_array[i] = timestamp - user_timestamp_max_dict[user_id][1]\n",
    "        #    timediff4_array[i] = timestamp - user_timestamp_max_dict[user_id][0]\n",
    "        #    time_dd_array[i] = timediff2_array[i] - timediff_array[i]\n",
    "        #    user_timestamp_max_dict[user_id] = np.concatenate([user_timestamp_max_dict[user_id],[timestamp]])[1:]  \n",
    "            \n",
    "        #if user_community_count_dict[user_id][community] == 0:\n",
    "        #    tag_acc_array[i] = -1\n",
    "        #else:\n",
    "        #    tag_acc_array[i] = user_community_correct_dict[user_id][community] / user_community_count_dict[user_id][community]\n",
    "            \n",
    "        #community_count_array[i] = community_count_dict[community]\n",
    "     \n",
    "    test_df['count'] = 1\n",
    "    test_df['count'] = test_df.groupby(\"user_id\")[\"count\"].cumsum()\n",
    "    test_df['count'] += user_count\n",
    "    test_df['user_correctness'] = user_sum / user_count\n",
    "    test_df['content_count'] = content_count\n",
    "    test_df['content_id'] = content_sum / content_count\n",
    "    #test_df['part_count'] = part_count\n",
    "    #test_df['part_ratio'] = part_count / test_df['count'].values\n",
    "    #test_df[\"first_attempt\"] = first_attempt_values\n",
    "    #test_df[\"unique_attempt\"] = test_df.groupby(\"user_id\")[\"first_attempt\"].cumsum()\n",
    "    #test_df[\"unique_attempt\"] += user_unique_count\n",
    "    #test_df['prior_question_had_explanation_mean'] = user_prior_question_had_explanation_sum / user_count\n",
    "    test_df['got_point'] = got_point_array / user_count\n",
    "    test_df['answered_correctly_last7'] = user_last7_accuracy_array\n",
    "    #test_df['timediff'] = timediff_array\n",
    "    #test_df['timediff2'] = timediff2_array\n",
    "    #test_df['timediff3'] = timediff3_array\n",
    "    #test_df['timediff4'] = timediff4_array\n",
    "    #test_df['tag_acc'] = tag_acc_array\n",
    "    #test_df['community_count'] = community_count_array\n",
    "    #test_df['time_dd'] = time_dd_array\n",
    "\n",
    "    #prior_f_attempt_arrays = test_df['first_attempt'].values\n",
    "    prior_point_array = 1 / (test_df.content_id.values + 0.1)\n",
    "    \n",
    "    X_test = np.nan_to_num(test_df[features].values, nan=-1)\n",
    "    test_df[target] =  model.predict_proba(X_test)[:, -1]\n",
    "    \n",
    "    env.predict(test_df[['row_id', target]])"
   ]
  },
  {
   "cell_type": "code",
   "execution_count": null,
   "metadata": {
    "papermill": {
     "duration": 0.037234,
     "end_time": "2020-12-24T01:13:58.565244",
     "exception": false,
     "start_time": "2020-12-24T01:13:58.528010",
     "status": "completed"
    },
    "tags": []
   },
   "outputs": [],
   "source": []
  }
 ],
 "metadata": {
  "kernelspec": {
   "display_name": "Python 3",
   "language": "python",
   "name": "python3"
  },
  "language_info": {
   "codemirror_mode": {
    "name": "ipython",
    "version": 3
   },
   "file_extension": ".py",
   "mimetype": "text/x-python",
   "name": "python",
   "nbconvert_exporter": "python",
   "pygments_lexer": "ipython3",
   "version": "3.7.6"
  },
  "papermill": {
   "duration": 2829.049833,
   "end_time": "2020-12-24T01:14:00.004549",
   "environment_variables": {},
   "exception": null,
   "input_path": "__notebook__.ipynb",
   "output_path": "__notebook__.ipynb",
   "parameters": {},
   "start_time": "2020-12-24T00:26:50.954716",
   "version": "2.1.0"
  }
 },
 "nbformat": 4,
 "nbformat_minor": 4
}
