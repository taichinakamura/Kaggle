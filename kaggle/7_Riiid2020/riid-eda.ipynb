{
 "cells": [
  {
   "cell_type": "code",
   "execution_count": 1,
   "metadata": {
    "_cell_guid": "b1076dfc-b9ad-4769-8c92-a6c4dae69d19",
    "_uuid": "8f2839f25d086af736a60e9eeb907d3b93b6e0e5",
    "execution": {
     "iopub.execute_input": "2020-10-15T14:04:23.571930Z",
     "iopub.status.busy": "2020-10-15T14:04:23.571125Z",
     "iopub.status.idle": "2020-10-15T14:04:24.692659Z",
     "shell.execute_reply": "2020-10-15T14:04:24.691805Z"
    },
    "papermill": {
     "duration": 1.149728,
     "end_time": "2020-10-15T14:04:24.692801",
     "exception": false,
     "start_time": "2020-10-15T14:04:23.543073",
     "status": "completed"
    },
    "tags": []
   },
   "outputs": [],
   "source": [
    "import sys\n",
    "import pandas as pd\n",
    "import numpy as np\n",
    "import matplotlib.pyplot as plt\n",
    "import seaborn as sns\n",
    "import feather"
   ]
  },
  {
   "cell_type": "code",
   "execution_count": 2,
   "metadata": {
    "_cell_guid": "79c7e3d0-c299-4dcb-8224-4455121ee9b0",
    "_uuid": "d629ff2d2480ee46fbb7e2d37f6b5fab8052498a",
    "execution": {
     "iopub.execute_input": "2020-10-15T14:04:24.742768Z",
     "iopub.status.busy": "2020-10-15T14:04:24.742015Z",
     "iopub.status.idle": "2020-10-15T14:04:32.228394Z",
     "shell.execute_reply": "2020-10-15T14:04:32.227694Z"
    },
    "papermill": {
     "duration": 7.514102,
     "end_time": "2020-10-15T14:04:32.228526",
     "exception": false,
     "start_time": "2020-10-15T14:04:24.714424",
     "status": "completed"
    },
    "tags": []
   },
   "outputs": [],
   "source": [
    "DIR =\"../input/riiid-test-answer-prediction/\"\n",
    "lectures = pd.read_csv(DIR+\"lectures.csv\")\n",
    "questions = pd.read_csv(DIR+\"questions.csv\")\n",
    "example_test = pd.read_csv(DIR+\"example_test.csv\")\n",
    "train = pd.read_feather(\"../input/riid-train/train.feather\")"
   ]
  },
  {
   "cell_type": "markdown",
   "metadata": {
    "papermill": {
     "duration": 0.020949,
     "end_time": "2020-10-15T14:04:32.273606",
     "exception": false,
     "start_time": "2020-10-15T14:04:32.252657",
     "status": "completed"
    },
    "tags": []
   },
   "source": [
    "# train\n",
    "- row_id: (int64) ID code for the row.\n",
    "- timestamp: (int64) the time between this user interaction and the first event completion from that user.\n",
    "- user_id: (int32) ID code for the user.\n",
    "- content_id: (int16) ID code for the user interaction\n",
    "- content_type_id: (int8) 0 if the event was a question being posed to the user, 1 if the event was the user watching a lecture.\n",
    "- task_container_id: (int16) Id code for the batch of questions or lectures. For example, a user might see three questions in a row before  seeing the explanations for any of them. Those three would all share a task_container_id.\n",
    "- user_answer: (int8) the user's answer to the question, if any. Read -1 as null, for lectures.\n",
    "- answered_correctly: (int8) if the user responded correctly. Read -1 as null, for lectures.\n",
    "- prior_question_elapsed_time: (float32) The average time it took a user to answer each question in the previous question bundle, ignoring any lectures in between. Is null for a user's first question bundle or lecture. Note that the time is the average time a user took to solve each question in the previous bundle.\n",
    "- prior_question_had_explanation: (bool) Whether or not the user saw an explanation and the correct response(s) after answering the previous question bundle, ignoring any lectures in between. The value is shared across a single question bundle, and is null for a user's first question bundle or lecture. Typically the first several questions a user sees were part of an onboarding diagnostic test where they did not get any feedback.\n",
    "\n",
    "- content_type_id = 0なら、questions.csvと結合できる, content_type_id = 1なら、lectures.csvと結合できる"
   ]
  },
  {
   "cell_type": "code",
   "execution_count": 3,
   "metadata": {
    "execution": {
     "iopub.execute_input": "2020-10-15T14:04:32.323563Z",
     "iopub.status.busy": "2020-10-15T14:04:32.322627Z",
     "iopub.status.idle": "2020-10-15T14:04:32.327455Z",
     "shell.execute_reply": "2020-10-15T14:04:32.326724Z"
    },
    "papermill": {
     "duration": 0.032822,
     "end_time": "2020-10-15T14:04:32.327578",
     "exception": false,
     "start_time": "2020-10-15T14:04:32.294756",
     "status": "completed"
    },
    "tags": []
   },
   "outputs": [
    {
     "data": {
      "text/plain": [
       "(101230332, 10)"
      ]
     },
     "execution_count": 3,
     "metadata": {},
     "output_type": "execute_result"
    }
   ],
   "source": [
    "train.shape"
   ]
  },
  {
   "cell_type": "code",
   "execution_count": 4,
   "metadata": {
    "execution": {
     "iopub.execute_input": "2020-10-15T14:04:32.383088Z",
     "iopub.status.busy": "2020-10-15T14:04:32.382340Z",
     "iopub.status.idle": "2020-10-15T14:04:32.393021Z",
     "shell.execute_reply": "2020-10-15T14:04:32.392409Z"
    },
    "papermill": {
     "duration": 0.043283,
     "end_time": "2020-10-15T14:04:32.393140",
     "exception": false,
     "start_time": "2020-10-15T14:04:32.349857",
     "status": "completed"
    },
    "tags": []
   },
   "outputs": [
    {
     "data": {
      "text/html": [
       "<div>\n",
       "<style scoped>\n",
       "    .dataframe tbody tr th:only-of-type {\n",
       "        vertical-align: middle;\n",
       "    }\n",
       "\n",
       "    .dataframe tbody tr th {\n",
       "        vertical-align: top;\n",
       "    }\n",
       "\n",
       "    .dataframe thead th {\n",
       "        text-align: right;\n",
       "    }\n",
       "</style>\n",
       "<table border=\"1\" class=\"dataframe\">\n",
       "  <thead>\n",
       "    <tr style=\"text-align: right;\">\n",
       "      <th></th>\n",
       "      <th>row_id</th>\n",
       "      <th>timestamp</th>\n",
       "      <th>user_id</th>\n",
       "      <th>content_id</th>\n",
       "      <th>content_type_id</th>\n",
       "      <th>task_container_id</th>\n",
       "      <th>user_answer</th>\n",
       "      <th>answered_correctly</th>\n",
       "      <th>prior_question_elapsed_time</th>\n",
       "      <th>prior_question_had_explanation</th>\n",
       "    </tr>\n",
       "  </thead>\n",
       "  <tbody>\n",
       "    <tr>\n",
       "      <th>0</th>\n",
       "      <td>0</td>\n",
       "      <td>0</td>\n",
       "      <td>115</td>\n",
       "      <td>5692</td>\n",
       "      <td>0</td>\n",
       "      <td>1</td>\n",
       "      <td>3</td>\n",
       "      <td>1</td>\n",
       "      <td>4294967295</td>\n",
       "      <td>None</td>\n",
       "    </tr>\n",
       "    <tr>\n",
       "      <th>1</th>\n",
       "      <td>1</td>\n",
       "      <td>56943</td>\n",
       "      <td>115</td>\n",
       "      <td>5716</td>\n",
       "      <td>0</td>\n",
       "      <td>2</td>\n",
       "      <td>2</td>\n",
       "      <td>1</td>\n",
       "      <td>37000</td>\n",
       "      <td>False</td>\n",
       "    </tr>\n",
       "    <tr>\n",
       "      <th>2</th>\n",
       "      <td>2</td>\n",
       "      <td>118363</td>\n",
       "      <td>115</td>\n",
       "      <td>128</td>\n",
       "      <td>0</td>\n",
       "      <td>0</td>\n",
       "      <td>0</td>\n",
       "      <td>1</td>\n",
       "      <td>55000</td>\n",
       "      <td>False</td>\n",
       "    </tr>\n",
       "    <tr>\n",
       "      <th>3</th>\n",
       "      <td>3</td>\n",
       "      <td>131167</td>\n",
       "      <td>115</td>\n",
       "      <td>7860</td>\n",
       "      <td>0</td>\n",
       "      <td>3</td>\n",
       "      <td>0</td>\n",
       "      <td>1</td>\n",
       "      <td>19000</td>\n",
       "      <td>False</td>\n",
       "    </tr>\n",
       "    <tr>\n",
       "      <th>4</th>\n",
       "      <td>4</td>\n",
       "      <td>137965</td>\n",
       "      <td>115</td>\n",
       "      <td>7922</td>\n",
       "      <td>0</td>\n",
       "      <td>4</td>\n",
       "      <td>1</td>\n",
       "      <td>1</td>\n",
       "      <td>11000</td>\n",
       "      <td>False</td>\n",
       "    </tr>\n",
       "  </tbody>\n",
       "</table>\n",
       "</div>"
      ],
      "text/plain": [
       "   row_id  timestamp  user_id  content_id  content_type_id  task_container_id  \\\n",
       "0       0          0      115        5692                0                  1   \n",
       "1       1      56943      115        5716                0                  2   \n",
       "2       2     118363      115         128                0                  0   \n",
       "3       3     131167      115        7860                0                  3   \n",
       "4       4     137965      115        7922                0                  4   \n",
       "\n",
       "   user_answer  answered_correctly  prior_question_elapsed_time  \\\n",
       "0            3                   1                   4294967295   \n",
       "1            2                   1                        37000   \n",
       "2            0                   1                        55000   \n",
       "3            0                   1                        19000   \n",
       "4            1                   1                        11000   \n",
       "\n",
       "  prior_question_had_explanation  \n",
       "0                           None  \n",
       "1                          False  \n",
       "2                          False  \n",
       "3                          False  \n",
       "4                          False  "
      ]
     },
     "execution_count": 4,
     "metadata": {},
     "output_type": "execute_result"
    }
   ],
   "source": [
    "train.head()"
   ]
  },
  {
   "cell_type": "code",
   "execution_count": 5,
   "metadata": {
    "execution": {
     "iopub.execute_input": "2020-10-15T14:04:32.443632Z",
     "iopub.status.busy": "2020-10-15T14:04:32.442818Z",
     "iopub.status.idle": "2020-10-15T14:04:33.542758Z",
     "shell.execute_reply": "2020-10-15T14:04:33.542134Z"
    },
    "papermill": {
     "duration": 1.127339,
     "end_time": "2020-10-15T14:04:33.542892",
     "exception": false,
     "start_time": "2020-10-15T14:04:32.415553",
     "status": "completed"
    },
    "tags": []
   },
   "outputs": [
    {
     "data": {
      "text/plain": [
       "393656"
      ]
     },
     "execution_count": 5,
     "metadata": {},
     "output_type": "execute_result"
    }
   ],
   "source": [
    "len(train.user_id.unique())"
   ]
  },
  {
   "cell_type": "code",
   "execution_count": 6,
   "metadata": {
    "execution": {
     "iopub.execute_input": "2020-10-15T14:04:33.594845Z",
     "iopub.status.busy": "2020-10-15T14:04:33.594035Z",
     "iopub.status.idle": "2020-10-15T14:04:34.478651Z",
     "shell.execute_reply": "2020-10-15T14:04:34.478021Z"
    },
    "papermill": {
     "duration": 0.912848,
     "end_time": "2020-10-15T14:04:34.478775",
     "exception": false,
     "start_time": "2020-10-15T14:04:33.565927",
     "status": "completed"
    },
    "tags": []
   },
   "outputs": [
    {
     "data": {
      "text/plain": [
       "array([  115,   124,  2746,  5382,  8623,  8701, 12741, 13134, 24418,\n",
       "       24600], dtype=uint32)"
      ]
     },
     "execution_count": 6,
     "metadata": {},
     "output_type": "execute_result"
    }
   ],
   "source": [
    "train.user_id.unique()[:10]"
   ]
  },
  {
   "cell_type": "code",
   "execution_count": 7,
   "metadata": {
    "execution": {
     "iopub.execute_input": "2020-10-15T14:04:34.532204Z",
     "iopub.status.busy": "2020-10-15T14:04:34.531494Z",
     "iopub.status.idle": "2020-10-15T14:04:35.054014Z",
     "shell.execute_reply": "2020-10-15T14:04:35.053245Z"
    },
    "papermill": {
     "duration": 0.551771,
     "end_time": "2020-10-15T14:04:35.054136",
     "exception": false,
     "start_time": "2020-10-15T14:04:34.502365",
     "status": "completed"
    },
    "tags": []
   },
   "outputs": [
    {
     "data": {
      "text/html": [
       "<div>\n",
       "<style scoped>\n",
       "    .dataframe tbody tr th:only-of-type {\n",
       "        vertical-align: middle;\n",
       "    }\n",
       "\n",
       "    .dataframe tbody tr th {\n",
       "        vertical-align: top;\n",
       "    }\n",
       "\n",
       "    .dataframe thead th {\n",
       "        text-align: right;\n",
       "    }\n",
       "</style>\n",
       "<table border=\"1\" class=\"dataframe\">\n",
       "  <thead>\n",
       "    <tr style=\"text-align: right;\">\n",
       "      <th></th>\n",
       "      <th>row_id</th>\n",
       "      <th>timestamp</th>\n",
       "      <th>user_id</th>\n",
       "      <th>content_id</th>\n",
       "      <th>content_type_id</th>\n",
       "      <th>task_container_id</th>\n",
       "      <th>user_answer</th>\n",
       "      <th>answered_correctly</th>\n",
       "      <th>prior_question_elapsed_time</th>\n",
       "      <th>prior_question_had_explanation</th>\n",
       "    </tr>\n",
       "  </thead>\n",
       "  <tbody>\n",
       "    <tr>\n",
       "      <th>76</th>\n",
       "      <td>76</td>\n",
       "      <td>0</td>\n",
       "      <td>2746</td>\n",
       "      <td>5273</td>\n",
       "      <td>0</td>\n",
       "      <td>0</td>\n",
       "      <td>1</td>\n",
       "      <td>0</td>\n",
       "      <td>4294967295</td>\n",
       "      <td>None</td>\n",
       "    </tr>\n",
       "    <tr>\n",
       "      <th>77</th>\n",
       "      <td>77</td>\n",
       "      <td>21592</td>\n",
       "      <td>2746</td>\n",
       "      <td>758</td>\n",
       "      <td>0</td>\n",
       "      <td>1</td>\n",
       "      <td>0</td>\n",
       "      <td>0</td>\n",
       "      <td>28000</td>\n",
       "      <td>False</td>\n",
       "    </tr>\n",
       "    <tr>\n",
       "      <th>78</th>\n",
       "      <td>78</td>\n",
       "      <td>49069</td>\n",
       "      <td>2746</td>\n",
       "      <td>5976</td>\n",
       "      <td>0</td>\n",
       "      <td>2</td>\n",
       "      <td>3</td>\n",
       "      <td>0</td>\n",
       "      <td>17000</td>\n",
       "      <td>False</td>\n",
       "    </tr>\n",
       "    <tr>\n",
       "      <th>79</th>\n",
       "      <td>79</td>\n",
       "      <td>72254</td>\n",
       "      <td>2746</td>\n",
       "      <td>236</td>\n",
       "      <td>0</td>\n",
       "      <td>3</td>\n",
       "      <td>3</td>\n",
       "      <td>1</td>\n",
       "      <td>24000</td>\n",
       "      <td>False</td>\n",
       "    </tr>\n",
       "    <tr>\n",
       "      <th>80</th>\n",
       "      <td>80</td>\n",
       "      <td>91945</td>\n",
       "      <td>2746</td>\n",
       "      <td>404</td>\n",
       "      <td>0</td>\n",
       "      <td>4</td>\n",
       "      <td>3</td>\n",
       "      <td>0</td>\n",
       "      <td>20000</td>\n",
       "      <td>False</td>\n",
       "    </tr>\n",
       "    <tr>\n",
       "      <th>81</th>\n",
       "      <td>81</td>\n",
       "      <td>111621</td>\n",
       "      <td>2746</td>\n",
       "      <td>382</td>\n",
       "      <td>0</td>\n",
       "      <td>5</td>\n",
       "      <td>0</td>\n",
       "      <td>1</td>\n",
       "      <td>16000</td>\n",
       "      <td>False</td>\n",
       "    </tr>\n",
       "    <tr>\n",
       "      <th>82</th>\n",
       "      <td>82</td>\n",
       "      <td>134341</td>\n",
       "      <td>2746</td>\n",
       "      <td>405</td>\n",
       "      <td>0</td>\n",
       "      <td>6</td>\n",
       "      <td>1</td>\n",
       "      <td>1</td>\n",
       "      <td>16000</td>\n",
       "      <td>False</td>\n",
       "    </tr>\n",
       "    <tr>\n",
       "      <th>83</th>\n",
       "      <td>83</td>\n",
       "      <td>234605</td>\n",
       "      <td>2746</td>\n",
       "      <td>873</td>\n",
       "      <td>0</td>\n",
       "      <td>7</td>\n",
       "      <td>3</td>\n",
       "      <td>1</td>\n",
       "      <td>19000</td>\n",
       "      <td>False</td>\n",
       "    </tr>\n",
       "    <tr>\n",
       "      <th>84</th>\n",
       "      <td>84</td>\n",
       "      <td>283894</td>\n",
       "      <td>2746</td>\n",
       "      <td>531</td>\n",
       "      <td>0</td>\n",
       "      <td>8</td>\n",
       "      <td>0</td>\n",
       "      <td>1</td>\n",
       "      <td>18000</td>\n",
       "      <td>True</td>\n",
       "    </tr>\n",
       "    <tr>\n",
       "      <th>85</th>\n",
       "      <td>85</td>\n",
       "      <td>328640</td>\n",
       "      <td>2746</td>\n",
       "      <td>775</td>\n",
       "      <td>0</td>\n",
       "      <td>9</td>\n",
       "      <td>3</td>\n",
       "      <td>0</td>\n",
       "      <td>18000</td>\n",
       "      <td>True</td>\n",
       "    </tr>\n",
       "    <tr>\n",
       "      <th>86</th>\n",
       "      <td>86</td>\n",
       "      <td>357471</td>\n",
       "      <td>2746</td>\n",
       "      <td>294</td>\n",
       "      <td>0</td>\n",
       "      <td>10</td>\n",
       "      <td>3</td>\n",
       "      <td>1</td>\n",
       "      <td>20000</td>\n",
       "      <td>True</td>\n",
       "    </tr>\n",
       "    <tr>\n",
       "      <th>87</th>\n",
       "      <td>87</td>\n",
       "      <td>384415</td>\n",
       "      <td>2746</td>\n",
       "      <td>714</td>\n",
       "      <td>0</td>\n",
       "      <td>11</td>\n",
       "      <td>3</td>\n",
       "      <td>1</td>\n",
       "      <td>13000</td>\n",
       "      <td>True</td>\n",
       "    </tr>\n",
       "    <tr>\n",
       "      <th>88</th>\n",
       "      <td>88</td>\n",
       "      <td>428637</td>\n",
       "      <td>2746</td>\n",
       "      <td>297</td>\n",
       "      <td>0</td>\n",
       "      <td>12</td>\n",
       "      <td>0</td>\n",
       "      <td>0</td>\n",
       "      <td>13000</td>\n",
       "      <td>True</td>\n",
       "    </tr>\n",
       "    <tr>\n",
       "      <th>89</th>\n",
       "      <td>89</td>\n",
       "      <td>653762</td>\n",
       "      <td>2746</td>\n",
       "      <td>6808</td>\n",
       "      <td>1</td>\n",
       "      <td>14</td>\n",
       "      <td>-1</td>\n",
       "      <td>-1</td>\n",
       "      <td>4294967295</td>\n",
       "      <td>False</td>\n",
       "    </tr>\n",
       "    <tr>\n",
       "      <th>90</th>\n",
       "      <td>90</td>\n",
       "      <td>674559</td>\n",
       "      <td>2746</td>\n",
       "      <td>297</td>\n",
       "      <td>0</td>\n",
       "      <td>15</td>\n",
       "      <td>3</td>\n",
       "      <td>1</td>\n",
       "      <td>16000</td>\n",
       "      <td>True</td>\n",
       "    </tr>\n",
       "    <tr>\n",
       "      <th>91</th>\n",
       "      <td>91</td>\n",
       "      <td>704065</td>\n",
       "      <td>2746</td>\n",
       "      <td>775</td>\n",
       "      <td>0</td>\n",
       "      <td>16</td>\n",
       "      <td>3</td>\n",
       "      <td>0</td>\n",
       "      <td>15000</td>\n",
       "      <td>True</td>\n",
       "    </tr>\n",
       "    <tr>\n",
       "      <th>92</th>\n",
       "      <td>92</td>\n",
       "      <td>735114</td>\n",
       "      <td>2746</td>\n",
       "      <td>1295</td>\n",
       "      <td>0</td>\n",
       "      <td>13</td>\n",
       "      <td>3</td>\n",
       "      <td>1</td>\n",
       "      <td>16000</td>\n",
       "      <td>True</td>\n",
       "    </tr>\n",
       "    <tr>\n",
       "      <th>93</th>\n",
       "      <td>93</td>\n",
       "      <td>761885</td>\n",
       "      <td>2746</td>\n",
       "      <td>10684</td>\n",
       "      <td>0</td>\n",
       "      <td>17</td>\n",
       "      <td>0</td>\n",
       "      <td>1</td>\n",
       "      <td>17000</td>\n",
       "      <td>True</td>\n",
       "    </tr>\n",
       "    <tr>\n",
       "      <th>94</th>\n",
       "      <td>94</td>\n",
       "      <td>800255</td>\n",
       "      <td>2746</td>\n",
       "      <td>1014</td>\n",
       "      <td>0</td>\n",
       "      <td>18</td>\n",
       "      <td>0</td>\n",
       "      <td>0</td>\n",
       "      <td>19000</td>\n",
       "      <td>True</td>\n",
       "    </tr>\n",
       "    <tr>\n",
       "      <th>95</th>\n",
       "      <td>95</td>\n",
       "      <td>835457</td>\n",
       "      <td>2746</td>\n",
       "      <td>484</td>\n",
       "      <td>0</td>\n",
       "      <td>19</td>\n",
       "      <td>0</td>\n",
       "      <td>1</td>\n",
       "      <td>20000</td>\n",
       "      <td>True</td>\n",
       "    </tr>\n",
       "  </tbody>\n",
       "</table>\n",
       "</div>"
      ],
      "text/plain": [
       "    row_id  timestamp  user_id  content_id  content_type_id  \\\n",
       "76      76          0     2746        5273                0   \n",
       "77      77      21592     2746         758                0   \n",
       "78      78      49069     2746        5976                0   \n",
       "79      79      72254     2746         236                0   \n",
       "80      80      91945     2746         404                0   \n",
       "81      81     111621     2746         382                0   \n",
       "82      82     134341     2746         405                0   \n",
       "83      83     234605     2746         873                0   \n",
       "84      84     283894     2746         531                0   \n",
       "85      85     328640     2746         775                0   \n",
       "86      86     357471     2746         294                0   \n",
       "87      87     384415     2746         714                0   \n",
       "88      88     428637     2746         297                0   \n",
       "89      89     653762     2746        6808                1   \n",
       "90      90     674559     2746         297                0   \n",
       "91      91     704065     2746         775                0   \n",
       "92      92     735114     2746        1295                0   \n",
       "93      93     761885     2746       10684                0   \n",
       "94      94     800255     2746        1014                0   \n",
       "95      95     835457     2746         484                0   \n",
       "\n",
       "    task_container_id  user_answer  answered_correctly  \\\n",
       "76                  0            1                   0   \n",
       "77                  1            0                   0   \n",
       "78                  2            3                   0   \n",
       "79                  3            3                   1   \n",
       "80                  4            3                   0   \n",
       "81                  5            0                   1   \n",
       "82                  6            1                   1   \n",
       "83                  7            3                   1   \n",
       "84                  8            0                   1   \n",
       "85                  9            3                   0   \n",
       "86                 10            3                   1   \n",
       "87                 11            3                   1   \n",
       "88                 12            0                   0   \n",
       "89                 14           -1                  -1   \n",
       "90                 15            3                   1   \n",
       "91                 16            3                   0   \n",
       "92                 13            3                   1   \n",
       "93                 17            0                   1   \n",
       "94                 18            0                   0   \n",
       "95                 19            0                   1   \n",
       "\n",
       "    prior_question_elapsed_time prior_question_had_explanation  \n",
       "76                   4294967295                           None  \n",
       "77                        28000                          False  \n",
       "78                        17000                          False  \n",
       "79                        24000                          False  \n",
       "80                        20000                          False  \n",
       "81                        16000                          False  \n",
       "82                        16000                          False  \n",
       "83                        19000                          False  \n",
       "84                        18000                           True  \n",
       "85                        18000                           True  \n",
       "86                        20000                           True  \n",
       "87                        13000                           True  \n",
       "88                        13000                           True  \n",
       "89                   4294967295                          False  \n",
       "90                        16000                           True  \n",
       "91                        15000                           True  \n",
       "92                        16000                           True  \n",
       "93                        17000                           True  \n",
       "94                        19000                           True  \n",
       "95                        20000                           True  "
      ]
     },
     "execution_count": 7,
     "metadata": {},
     "output_type": "execute_result"
    }
   ],
   "source": [
    "train[train.user_id==2746]"
   ]
  },
  {
   "cell_type": "code",
   "execution_count": 8,
   "metadata": {
    "execution": {
     "iopub.execute_input": "2020-10-15T14:04:35.109389Z",
     "iopub.status.busy": "2020-10-15T14:04:35.108595Z",
     "iopub.status.idle": "2020-10-15T14:04:54.184197Z",
     "shell.execute_reply": "2020-10-15T14:04:54.184754Z"
    },
    "papermill": {
     "duration": 19.105872,
     "end_time": "2020-10-15T14:04:54.184915",
     "exception": false,
     "start_time": "2020-10-15T14:04:35.079043",
     "status": "completed"
    },
    "tags": []
   },
   "outputs": [
    {
     "data": {
      "text/plain": [
       "<matplotlib.axes._subplots.AxesSubplot at 0x7f426b1e89d0>"
      ]
     },
     "execution_count": 8,
     "metadata": {},
     "output_type": "execute_result"
    },
    {
     "data": {
      "image/png": "[encoded data removed]",
      "text/plain": [
       "<Figure size 432x288 with 1 Axes>"
      ]
     },
     "metadata": {
      "needs_background": "light"
     },
     "output_type": "display_data"
    }
   ],
   "source": [
    "train.timestamp.plot(kind=\"hist\")"
   ]
  },
  {
   "cell_type": "code",
   "execution_count": 9,
   "metadata": {
    "execution": {
     "iopub.execute_input": "2020-10-15T14:04:54.242579Z",
     "iopub.status.busy": "2020-10-15T14:04:54.241856Z",
     "iopub.status.idle": "2020-10-15T14:04:58.303762Z",
     "shell.execute_reply": "2020-10-15T14:04:58.304564Z"
    },
    "papermill": {
     "duration": 4.093726,
     "end_time": "2020-10-15T14:04:58.304783",
     "exception": false,
     "start_time": "2020-10-15T14:04:54.211057",
     "status": "completed"
    },
    "tags": []
   },
   "outputs": [
    {
     "data": {
      "text/plain": [
       "6116     213605\n",
       "6173     202106\n",
       "4120     199372\n",
       "175      195861\n",
       "7876     190170\n",
       "          ...  \n",
       "10006         1\n",
       "10007         1\n",
       "10008         1\n",
       "1484          1\n",
       "21169         1\n",
       "Name: content_id, Length: 13782, dtype: int64"
      ]
     },
     "execution_count": 9,
     "metadata": {},
     "output_type": "execute_result"
    }
   ],
   "source": [
    "train.content_id.value_counts()"
   ]
  },
  {
   "cell_type": "code",
   "execution_count": 10,
   "metadata": {
    "execution": {
     "iopub.execute_input": "2020-10-15T14:04:58.380220Z",
     "iopub.status.busy": "2020-10-15T14:04:58.373150Z",
     "iopub.status.idle": "2020-10-15T14:04:58.385534Z",
     "shell.execute_reply": "2020-10-15T14:04:58.384890Z"
    },
    "papermill": {
     "duration": 0.050466,
     "end_time": "2020-10-15T14:04:58.385675",
     "exception": false,
     "start_time": "2020-10-15T14:04:58.335209",
     "status": "completed"
    },
    "tags": []
   },
   "outputs": [
    {
     "name": "stdout",
     "output_type": "stream",
     "text": [
      "<class 'pandas.core.frame.DataFrame'>\n",
      "RangeIndex: 101230332 entries, 0 to 101230331\n",
      "Data columns (total 10 columns):\n",
      " #   Column                          Dtype \n",
      "---  ------                          ----- \n",
      " 0   row_id                          uint32\n",
      " 1   timestamp                       uint64\n",
      " 2   user_id                         uint32\n",
      " 3   content_id                      uint16\n",
      " 4   content_type_id                 uint8 \n",
      " 5   task_container_id               uint16\n",
      " 6   user_answer                     int8  \n",
      " 7   answered_correctly              int8  \n",
      " 8   prior_question_elapsed_time     uint32\n",
      " 9   prior_question_had_explanation  object\n",
      "dtypes: int8(2), object(1), uint16(2), uint32(3), uint64(1), uint8(1)\n",
      "memory usage: 3.3+ GB\n"
     ]
    }
   ],
   "source": [
    "train.info()"
   ]
  },
  {
   "cell_type": "markdown",
   "metadata": {
    "papermill": {
     "duration": 0.031486,
     "end_time": "2020-10-15T14:04:58.446290",
     "exception": false,
     "start_time": "2020-10-15T14:04:58.414804",
     "status": "completed"
    },
    "tags": []
   },
   "source": [
    "# lecture\n",
    "- lectures.csv: metadata for the lectures watched by users as they progress in their education.\n",
    "- lecture_id: foreign key for the train/test content_id column, when the content type is lecture (1).\n",
    "- part: top level category code for the lecture.\n",
    "- tag: one tag codes for the lecture. The meaning of the tags will not be provided, but these codes are sufficient for clustering the lectures together.\n",
    "- type_of: brief description of the core purpose of the lecture"
   ]
  },
  {
   "cell_type": "code",
   "execution_count": 11,
   "metadata": {
    "execution": {
     "iopub.execute_input": "2020-10-15T14:04:58.508454Z",
     "iopub.status.busy": "2020-10-15T14:04:58.507639Z",
     "iopub.status.idle": "2020-10-15T14:04:58.512056Z",
     "shell.execute_reply": "2020-10-15T14:04:58.511379Z"
    },
    "papermill": {
     "duration": 0.037653,
     "end_time": "2020-10-15T14:04:58.512172",
     "exception": false,
     "start_time": "2020-10-15T14:04:58.474519",
     "status": "completed"
    },
    "tags": []
   },
   "outputs": [
    {
     "data": {
      "text/plain": [
       "(418, 4)"
      ]
     },
     "execution_count": 11,
     "metadata": {},
     "output_type": "execute_result"
    }
   ],
   "source": [
    "lectures.shape"
   ]
  },
  {
   "cell_type": "code",
   "execution_count": 12,
   "metadata": {
    "execution": {
     "iopub.execute_input": "2020-10-15T14:04:58.580875Z",
     "iopub.status.busy": "2020-10-15T14:04:58.579867Z",
     "iopub.status.idle": "2020-10-15T14:04:58.584432Z",
     "shell.execute_reply": "2020-10-15T14:04:58.585016Z"
    },
    "papermill": {
     "duration": 0.044449,
     "end_time": "2020-10-15T14:04:58.585177",
     "exception": false,
     "start_time": "2020-10-15T14:04:58.540728",
     "status": "completed"
    },
    "tags": []
   },
   "outputs": [
    {
     "data": {
      "text/html": [
       "<div>\n",
       "<style scoped>\n",
       "    .dataframe tbody tr th:only-of-type {\n",
       "        vertical-align: middle;\n",
       "    }\n",
       "\n",
       "    .dataframe tbody tr th {\n",
       "        vertical-align: top;\n",
       "    }\n",
       "\n",
       "    .dataframe thead th {\n",
       "        text-align: right;\n",
       "    }\n",
       "</style>\n",
       "<table border=\"1\" class=\"dataframe\">\n",
       "  <thead>\n",
       "    <tr style=\"text-align: right;\">\n",
       "      <th></th>\n",
       "      <th>lecture_id</th>\n",
       "      <th>tag</th>\n",
       "      <th>part</th>\n",
       "      <th>type_of</th>\n",
       "    </tr>\n",
       "  </thead>\n",
       "  <tbody>\n",
       "    <tr>\n",
       "      <th>0</th>\n",
       "      <td>89</td>\n",
       "      <td>159</td>\n",
       "      <td>5</td>\n",
       "      <td>concept</td>\n",
       "    </tr>\n",
       "    <tr>\n",
       "      <th>1</th>\n",
       "      <td>100</td>\n",
       "      <td>70</td>\n",
       "      <td>1</td>\n",
       "      <td>concept</td>\n",
       "    </tr>\n",
       "    <tr>\n",
       "      <th>2</th>\n",
       "      <td>185</td>\n",
       "      <td>45</td>\n",
       "      <td>6</td>\n",
       "      <td>concept</td>\n",
       "    </tr>\n",
       "    <tr>\n",
       "      <th>3</th>\n",
       "      <td>192</td>\n",
       "      <td>79</td>\n",
       "      <td>5</td>\n",
       "      <td>solving question</td>\n",
       "    </tr>\n",
       "    <tr>\n",
       "      <th>4</th>\n",
       "      <td>317</td>\n",
       "      <td>156</td>\n",
       "      <td>5</td>\n",
       "      <td>solving question</td>\n",
       "    </tr>\n",
       "  </tbody>\n",
       "</table>\n",
       "</div>"
      ],
      "text/plain": [
       "   lecture_id  tag  part           type_of\n",
       "0          89  159     5           concept\n",
       "1         100   70     1           concept\n",
       "2         185   45     6           concept\n",
       "3         192   79     5  solving question\n",
       "4         317  156     5  solving question"
      ]
     },
     "execution_count": 12,
     "metadata": {},
     "output_type": "execute_result"
    }
   ],
   "source": [
    "lectures.head()"
   ]
  },
  {
   "cell_type": "code",
   "execution_count": 13,
   "metadata": {
    "execution": {
     "iopub.execute_input": "2020-10-15T14:04:58.656639Z",
     "iopub.status.busy": "2020-10-15T14:04:58.655717Z",
     "iopub.status.idle": "2020-10-15T14:04:58.659242Z",
     "shell.execute_reply": "2020-10-15T14:04:58.659855Z"
    },
    "papermill": {
     "duration": 0.045455,
     "end_time": "2020-10-15T14:04:58.660008",
     "exception": false,
     "start_time": "2020-10-15T14:04:58.614553",
     "status": "completed"
    },
    "tags": []
   },
   "outputs": [
    {
     "name": "stdout",
     "output_type": "stream",
     "text": [
      "<class 'pandas.core.frame.DataFrame'>\n",
      "RangeIndex: 418 entries, 0 to 417\n",
      "Data columns (total 4 columns):\n",
      " #   Column      Non-Null Count  Dtype \n",
      "---  ------      --------------  ----- \n",
      " 0   lecture_id  418 non-null    int64 \n",
      " 1   tag         418 non-null    int64 \n",
      " 2   part        418 non-null    int64 \n",
      " 3   type_of     418 non-null    object\n",
      "dtypes: int64(3), object(1)\n",
      "memory usage: 13.2+ KB\n"
     ]
    }
   ],
   "source": [
    "lectures.info()"
   ]
  },
  {
   "cell_type": "code",
   "execution_count": 14,
   "metadata": {
    "execution": {
     "iopub.execute_input": "2020-10-15T14:04:58.731575Z",
     "iopub.status.busy": "2020-10-15T14:04:58.730673Z",
     "iopub.status.idle": "2020-10-15T14:04:58.735745Z",
     "shell.execute_reply": "2020-10-15T14:04:58.735153Z"
    },
    "papermill": {
     "duration": 0.043991,
     "end_time": "2020-10-15T14:04:58.735879",
     "exception": false,
     "start_time": "2020-10-15T14:04:58.691888",
     "status": "completed"
    },
    "tags": []
   },
   "outputs": [
    {
     "data": {
      "text/plain": [
       "136    7\n",
       "116    6\n",
       "134    6\n",
       "27     6\n",
       "161    6\n",
       "      ..\n",
       "99     1\n",
       "57     1\n",
       "90     1\n",
       "83     1\n",
       "187    1\n",
       "Name: tag, Length: 151, dtype: int64"
      ]
     },
     "execution_count": 14,
     "metadata": {},
     "output_type": "execute_result"
    }
   ],
   "source": [
    "lectures.tag.value_counts() # 一部タグに重複あり"
   ]
  },
  {
   "cell_type": "code",
   "execution_count": 15,
   "metadata": {
    "execution": {
     "iopub.execute_input": "2020-10-15T14:04:58.804966Z",
     "iopub.status.busy": "2020-10-15T14:04:58.804069Z",
     "iopub.status.idle": "2020-10-15T14:04:58.808108Z",
     "shell.execute_reply": "2020-10-15T14:04:58.808829Z"
    },
    "papermill": {
     "duration": 0.042645,
     "end_time": "2020-10-15T14:04:58.808983",
     "exception": false,
     "start_time": "2020-10-15T14:04:58.766338",
     "status": "completed"
    },
    "tags": []
   },
   "outputs": [
    {
     "data": {
      "text/plain": [
       "5    143\n",
       "6     83\n",
       "2     56\n",
       "1     54\n",
       "7     32\n",
       "4     31\n",
       "3     19\n",
       "Name: part, dtype: int64"
      ]
     },
     "execution_count": 15,
     "metadata": {},
     "output_type": "execute_result"
    }
   ],
   "source": [
    "lectures.part.value_counts() # 一部タグに重複あり"
   ]
  },
  {
   "cell_type": "code",
   "execution_count": 16,
   "metadata": {
    "execution": {
     "iopub.execute_input": "2020-10-15T14:04:58.877026Z",
     "iopub.status.busy": "2020-10-15T14:04:58.875996Z",
     "iopub.status.idle": "2020-10-15T14:04:58.885260Z",
     "shell.execute_reply": "2020-10-15T14:04:58.884518Z"
    },
    "papermill": {
     "duration": 0.045059,
     "end_time": "2020-10-15T14:04:58.885403",
     "exception": false,
     "start_time": "2020-10-15T14:04:58.840344",
     "status": "completed"
    },
    "tags": []
   },
   "outputs": [
    {
     "data": {
      "text/plain": [
       "concept             222\n",
       "solving question    186\n",
       "intention             7\n",
       "starter               3\n",
       "Name: type_of, dtype: int64"
      ]
     },
     "execution_count": 16,
     "metadata": {},
     "output_type": "execute_result"
    }
   ],
   "source": [
    "lectures.type_of.value_counts() # 一部タグに重複あり"
   ]
  },
  {
   "cell_type": "markdown",
   "metadata": {
    "papermill": {
     "duration": 0.03054,
     "end_time": "2020-10-15T14:04:58.947260",
     "exception": false,
     "start_time": "2020-10-15T14:04:58.916720",
     "status": "completed"
    },
    "tags": []
   },
   "source": [
    "# questions\n",
    "- questions.csv: metadata for the questions posed to users.\n",
    "- question_id: foreign key for the train/test content_id column, when the content type is question (0).\n",
    "- bundle_id: code for which questions are served together.\n",
    "- correct_answer: the answer to the question. Can be compared with the train user_answer column to check if the user was right.\n",
    "- part: the relevant section of the TOEIC test.\n",
    "- tags: one or more detailed tag codes for the question. The meaning of the tags will not be provided, but these codes are sufficient for clustering the questions together."
   ]
  },
  {
   "cell_type": "code",
   "execution_count": 17,
   "metadata": {
    "execution": {
     "iopub.execute_input": "2020-10-15T14:04:59.015151Z",
     "iopub.status.busy": "2020-10-15T14:04:59.014244Z",
     "iopub.status.idle": "2020-10-15T14:04:59.018466Z",
     "shell.execute_reply": "2020-10-15T14:04:59.019067Z"
    },
    "papermill": {
     "duration": 0.041121,
     "end_time": "2020-10-15T14:04:59.019221",
     "exception": false,
     "start_time": "2020-10-15T14:04:58.978100",
     "status": "completed"
    },
    "tags": []
   },
   "outputs": [
    {
     "data": {
      "text/plain": [
       "(13523, 5)"
      ]
     },
     "execution_count": 17,
     "metadata": {},
     "output_type": "execute_result"
    }
   ],
   "source": [
    "questions.shape"
   ]
  },
  {
   "cell_type": "code",
   "execution_count": 18,
   "metadata": {
    "execution": {
     "iopub.execute_input": "2020-10-15T14:04:59.094392Z",
     "iopub.status.busy": "2020-10-15T14:04:59.093513Z",
     "iopub.status.idle": "2020-10-15T14:04:59.098065Z",
     "shell.execute_reply": "2020-10-15T14:04:59.097360Z"
    },
    "papermill": {
     "duration": 0.047026,
     "end_time": "2020-10-15T14:04:59.098184",
     "exception": false,
     "start_time": "2020-10-15T14:04:59.051158",
     "status": "completed"
    },
    "tags": []
   },
   "outputs": [
    {
     "data": {
      "text/html": [
       "<div>\n",
       "<style scoped>\n",
       "    .dataframe tbody tr th:only-of-type {\n",
       "        vertical-align: middle;\n",
       "    }\n",
       "\n",
       "    .dataframe tbody tr th {\n",
       "        vertical-align: top;\n",
       "    }\n",
       "\n",
       "    .dataframe thead th {\n",
       "        text-align: right;\n",
       "    }\n",
       "</style>\n",
       "<table border=\"1\" class=\"dataframe\">\n",
       "  <thead>\n",
       "    <tr style=\"text-align: right;\">\n",
       "      <th></th>\n",
       "      <th>question_id</th>\n",
       "      <th>bundle_id</th>\n",
       "      <th>correct_answer</th>\n",
       "      <th>part</th>\n",
       "      <th>tags</th>\n",
       "    </tr>\n",
       "  </thead>\n",
       "  <tbody>\n",
       "    <tr>\n",
       "      <th>0</th>\n",
       "      <td>0</td>\n",
       "      <td>0</td>\n",
       "      <td>0</td>\n",
       "      <td>1</td>\n",
       "      <td>51 131 162 38</td>\n",
       "    </tr>\n",
       "    <tr>\n",
       "      <th>1</th>\n",
       "      <td>1</td>\n",
       "      <td>1</td>\n",
       "      <td>1</td>\n",
       "      <td>1</td>\n",
       "      <td>131 36 81</td>\n",
       "    </tr>\n",
       "    <tr>\n",
       "      <th>2</th>\n",
       "      <td>2</td>\n",
       "      <td>2</td>\n",
       "      <td>0</td>\n",
       "      <td>1</td>\n",
       "      <td>131 101 162 92</td>\n",
       "    </tr>\n",
       "    <tr>\n",
       "      <th>3</th>\n",
       "      <td>3</td>\n",
       "      <td>3</td>\n",
       "      <td>0</td>\n",
       "      <td>1</td>\n",
       "      <td>131 149 162 29</td>\n",
       "    </tr>\n",
       "    <tr>\n",
       "      <th>4</th>\n",
       "      <td>4</td>\n",
       "      <td>4</td>\n",
       "      <td>3</td>\n",
       "      <td>1</td>\n",
       "      <td>131 5 162 38</td>\n",
       "    </tr>\n",
       "  </tbody>\n",
       "</table>\n",
       "</div>"
      ],
      "text/plain": [
       "   question_id  bundle_id  correct_answer  part            tags\n",
       "0            0          0               0     1   51 131 162 38\n",
       "1            1          1               1     1       131 36 81\n",
       "2            2          2               0     1  131 101 162 92\n",
       "3            3          3               0     1  131 149 162 29\n",
       "4            4          4               3     1    131 5 162 38"
      ]
     },
     "execution_count": 18,
     "metadata": {},
     "output_type": "execute_result"
    }
   ],
   "source": [
    "questions.head()"
   ]
  },
  {
   "cell_type": "code",
   "execution_count": 19,
   "metadata": {
    "execution": {
     "iopub.execute_input": "2020-10-15T14:04:59.176830Z",
     "iopub.status.busy": "2020-10-15T14:04:59.170974Z",
     "iopub.status.idle": "2020-10-15T14:04:59.181259Z",
     "shell.execute_reply": "2020-10-15T14:04:59.180591Z"
    },
    "papermill": {
     "duration": 0.050845,
     "end_time": "2020-10-15T14:04:59.181415",
     "exception": false,
     "start_time": "2020-10-15T14:04:59.130570",
     "status": "completed"
    },
    "tags": []
   },
   "outputs": [
    {
     "name": "stdout",
     "output_type": "stream",
     "text": [
      "<class 'pandas.core.frame.DataFrame'>\n",
      "RangeIndex: 13523 entries, 0 to 13522\n",
      "Data columns (total 5 columns):\n",
      " #   Column          Non-Null Count  Dtype \n",
      "---  ------          --------------  ----- \n",
      " 0   question_id     13523 non-null  int64 \n",
      " 1   bundle_id       13523 non-null  int64 \n",
      " 2   correct_answer  13523 non-null  int64 \n",
      " 3   part            13523 non-null  int64 \n",
      " 4   tags            13522 non-null  object\n",
      "dtypes: int64(4), object(1)\n",
      "memory usage: 528.4+ KB\n"
     ]
    }
   ],
   "source": [
    "questions.info()"
   ]
  },
  {
   "cell_type": "code",
   "execution_count": 20,
   "metadata": {
    "execution": {
     "iopub.execute_input": "2020-10-15T14:04:59.253443Z",
     "iopub.status.busy": "2020-10-15T14:04:59.252677Z",
     "iopub.status.idle": "2020-10-15T14:04:59.257582Z",
     "shell.execute_reply": "2020-10-15T14:04:59.258104Z"
    },
    "papermill": {
     "duration": 0.043672,
     "end_time": "2020-10-15T14:04:59.258251",
     "exception": false,
     "start_time": "2020-10-15T14:04:59.214579",
     "status": "completed"
    },
    "tags": []
   },
   "outputs": [
    {
     "data": {
      "text/plain": [
       "13523"
      ]
     },
     "execution_count": 20,
     "metadata": {},
     "output_type": "execute_result"
    }
   ],
   "source": [
    "len(questions.question_id.unique()) # question_id is unique"
   ]
  },
  {
   "cell_type": "code",
   "execution_count": 21,
   "metadata": {
    "execution": {
     "iopub.execute_input": "2020-10-15T14:04:59.330709Z",
     "iopub.status.busy": "2020-10-15T14:04:59.329973Z",
     "iopub.status.idle": "2020-10-15T14:04:59.335323Z",
     "shell.execute_reply": "2020-10-15T14:04:59.334701Z"
    },
    "papermill": {
     "duration": 0.043517,
     "end_time": "2020-10-15T14:04:59.335443",
     "exception": false,
     "start_time": "2020-10-15T14:04:59.291926",
     "status": "completed"
    },
    "tags": []
   },
   "outputs": [
    {
     "data": {
      "text/plain": [
       "9765"
      ]
     },
     "execution_count": 21,
     "metadata": {},
     "output_type": "execute_result"
    }
   ],
   "source": [
    "len(questions.bundle_id.unique()) # question_id is not unique"
   ]
  },
  {
   "cell_type": "code",
   "execution_count": 22,
   "metadata": {
    "execution": {
     "iopub.execute_input": "2020-10-15T14:04:59.410753Z",
     "iopub.status.busy": "2020-10-15T14:04:59.408125Z",
     "iopub.status.idle": "2020-10-15T14:04:59.415560Z",
     "shell.execute_reply": "2020-10-15T14:04:59.414811Z"
    },
    "papermill": {
     "duration": 0.046229,
     "end_time": "2020-10-15T14:04:59.415687",
     "exception": false,
     "start_time": "2020-10-15T14:04:59.369458",
     "status": "completed"
    },
    "tags": []
   },
   "outputs": [
    {
     "data": {
      "text/plain": [
       "5    5511\n",
       "2    1647\n",
       "3    1562\n",
       "4    1439\n",
       "6    1212\n",
       "7    1160\n",
       "1     992\n",
       "Name: part, dtype: int64"
      ]
     },
     "execution_count": 22,
     "metadata": {},
     "output_type": "execute_result"
    }
   ],
   "source": [
    "questions.part.value_counts()"
   ]
  },
  {
   "cell_type": "markdown",
   "metadata": {
    "papermill": {
     "duration": 0.034327,
     "end_time": "2020-10-15T14:04:59.484672",
     "exception": false,
     "start_time": "2020-10-15T14:04:59.450345",
     "status": "completed"
    },
    "tags": []
   },
   "source": [
    "# example_test\n",
    "- row_id: (int64) ID code for the row.\n",
    "- timestamp: (int64) the time between this user interaction and the first event completion from that user.\n",
    "- user_id: (int32) ID code for the user.\n",
    "- content_id: (int16) ID code for the user interaction\n",
    "- content_type_id: (int8) 0 if the event was a question being posed to the user, 1 if the event was the user watching a lecture.\n",
    "- task_container_id: (int16) Id code for the batch of questions or lectures. For example, a user might see three questions in a row before seeing the explanations for any of them. Those three would all share a task_container_id.\n",
    "- user_answer: (int8) the user's answer to the question, if any. Read -1 as null, for lectures.\n",
    "- answered_correctly: (int8) if the user responded correctly. Read -1 as null, for lectures.\n",
    "- prior_question_elapsed_time: (float32) The average time it took a user to answer each question in the previous question bundle, ignoring any lectures in between. Is null for a user's first question bundle or lecture. Note that the time is the average time a user took to solve each question in the previous bundle.\n",
    "- prior_question_had_explanation: (bool) Whether or not the user saw an explanation and the correct response(s) after answering the previous question bundle, ignoring any lectures in between. The value is shared across a single question bundle, and is null for a user's first question bundle or lecture. Typically the first several questions a user sees were part of an onboarding diagnostic test where they did not get any feedback."
   ]
  },
  {
   "cell_type": "code",
   "execution_count": 23,
   "metadata": {
    "execution": {
     "iopub.execute_input": "2020-10-15T14:04:59.571584Z",
     "iopub.status.busy": "2020-10-15T14:04:59.570808Z",
     "iopub.status.idle": "2020-10-15T14:04:59.575953Z",
     "shell.execute_reply": "2020-10-15T14:04:59.575224Z"
    },
    "papermill": {
     "duration": 0.056141,
     "end_time": "2020-10-15T14:04:59.576078",
     "exception": false,
     "start_time": "2020-10-15T14:04:59.519937",
     "status": "completed"
    },
    "tags": []
   },
   "outputs": [
    {
     "data": {
      "text/html": [
       "<div>\n",
       "<style scoped>\n",
       "    .dataframe tbody tr th:only-of-type {\n",
       "        vertical-align: middle;\n",
       "    }\n",
       "\n",
       "    .dataframe tbody tr th {\n",
       "        vertical-align: top;\n",
       "    }\n",
       "\n",
       "    .dataframe thead th {\n",
       "        text-align: right;\n",
       "    }\n",
       "</style>\n",
       "<table border=\"1\" class=\"dataframe\">\n",
       "  <thead>\n",
       "    <tr style=\"text-align: right;\">\n",
       "      <th></th>\n",
       "      <th>row_id</th>\n",
       "      <th>group_num</th>\n",
       "      <th>timestamp</th>\n",
       "      <th>user_id</th>\n",
       "      <th>content_id</th>\n",
       "      <th>content_type_id</th>\n",
       "      <th>task_container_id</th>\n",
       "      <th>prior_question_elapsed_time</th>\n",
       "      <th>prior_question_had_explanation</th>\n",
       "      <th>prior_group_answers_correct</th>\n",
       "      <th>prior_group_responses</th>\n",
       "    </tr>\n",
       "  </thead>\n",
       "  <tbody>\n",
       "    <tr>\n",
       "      <th>0</th>\n",
       "      <td>0</td>\n",
       "      <td>0</td>\n",
       "      <td>0</td>\n",
       "      <td>275030867</td>\n",
       "      <td>5729</td>\n",
       "      <td>0</td>\n",
       "      <td>0</td>\n",
       "      <td>NaN</td>\n",
       "      <td>NaN</td>\n",
       "      <td>[]</td>\n",
       "      <td>[]</td>\n",
       "    </tr>\n",
       "    <tr>\n",
       "      <th>1</th>\n",
       "      <td>1</td>\n",
       "      <td>0</td>\n",
       "      <td>13309898705</td>\n",
       "      <td>554169193</td>\n",
       "      <td>12010</td>\n",
       "      <td>0</td>\n",
       "      <td>4427</td>\n",
       "      <td>19000.0</td>\n",
       "      <td>True</td>\n",
       "      <td>NaN</td>\n",
       "      <td>NaN</td>\n",
       "    </tr>\n",
       "    <tr>\n",
       "      <th>2</th>\n",
       "      <td>2</td>\n",
       "      <td>0</td>\n",
       "      <td>4213672059</td>\n",
       "      <td>1720860329</td>\n",
       "      <td>457</td>\n",
       "      <td>0</td>\n",
       "      <td>240</td>\n",
       "      <td>17000.0</td>\n",
       "      <td>True</td>\n",
       "      <td>NaN</td>\n",
       "      <td>NaN</td>\n",
       "    </tr>\n",
       "    <tr>\n",
       "      <th>3</th>\n",
       "      <td>3</td>\n",
       "      <td>0</td>\n",
       "      <td>62798072960</td>\n",
       "      <td>288641214</td>\n",
       "      <td>13262</td>\n",
       "      <td>0</td>\n",
       "      <td>266</td>\n",
       "      <td>23000.0</td>\n",
       "      <td>True</td>\n",
       "      <td>NaN</td>\n",
       "      <td>NaN</td>\n",
       "    </tr>\n",
       "    <tr>\n",
       "      <th>4</th>\n",
       "      <td>4</td>\n",
       "      <td>0</td>\n",
       "      <td>10585422061</td>\n",
       "      <td>1728340777</td>\n",
       "      <td>6119</td>\n",
       "      <td>0</td>\n",
       "      <td>162</td>\n",
       "      <td>72400.0</td>\n",
       "      <td>True</td>\n",
       "      <td>NaN</td>\n",
       "      <td>NaN</td>\n",
       "    </tr>\n",
       "  </tbody>\n",
       "</table>\n",
       "</div>"
      ],
      "text/plain": [
       "   row_id  group_num    timestamp     user_id  content_id  content_type_id  \\\n",
       "0       0          0            0   275030867        5729                0   \n",
       "1       1          0  13309898705   554169193       12010                0   \n",
       "2       2          0   4213672059  1720860329         457                0   \n",
       "3       3          0  62798072960   288641214       13262                0   \n",
       "4       4          0  10585422061  1728340777        6119                0   \n",
       "\n",
       "   task_container_id  prior_question_elapsed_time  \\\n",
       "0                  0                          NaN   \n",
       "1               4427                      19000.0   \n",
       "2                240                      17000.0   \n",
       "3                266                      23000.0   \n",
       "4                162                      72400.0   \n",
       "\n",
       "  prior_question_had_explanation prior_group_answers_correct  \\\n",
       "0                            NaN                          []   \n",
       "1                           True                         NaN   \n",
       "2                           True                         NaN   \n",
       "3                           True                         NaN   \n",
       "4                           True                         NaN   \n",
       "\n",
       "  prior_group_responses  \n",
       "0                    []  \n",
       "1                   NaN  \n",
       "2                   NaN  \n",
       "3                   NaN  \n",
       "4                   NaN  "
      ]
     },
     "execution_count": 23,
     "metadata": {},
     "output_type": "execute_result"
    }
   ],
   "source": [
    "example_test.head()"
   ]
  },
  {
   "cell_type": "code",
   "execution_count": null,
   "metadata": {
    "papermill": {
     "duration": 0.03485,
     "end_time": "2020-10-15T14:04:59.646497",
     "exception": false,
     "start_time": "2020-10-15T14:04:59.611647",
     "status": "completed"
    },
    "tags": []
   },
   "outputs": [],
   "source": []
  }
 ],
 "metadata": {
  "kernelspec": {
   "display_name": "Python 3",
   "language": "python",
   "name": "python3"
  },
  "language_info": {
   "codemirror_mode": {
    "name": "ipython",
    "version": 3
   },
   "file_extension": ".py",
   "mimetype": "text/x-python",
   "name": "python",
   "nbconvert_exporter": "python",
   "pygments_lexer": "ipython3",
   "version": "3.7.6"
  },
  "papermill": {
   "duration": 41.945052,
   "end_time": "2020-10-15T14:05:00.706423",
   "environment_variables": {},
   "exception": null,
   "input_path": "__notebook__.ipynb",
   "output_path": "__notebook__.ipynb",
   "parameters": {},
   "start_time": "2020-10-15T14:04:18.761371",
   "version": "2.1.0"
  }
 },
 "nbformat": 4,
 "nbformat_minor": 4
}
