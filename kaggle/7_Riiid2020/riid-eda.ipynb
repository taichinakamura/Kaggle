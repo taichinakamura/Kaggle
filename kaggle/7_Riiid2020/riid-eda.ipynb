{
 "cells": [
  {
   "cell_type": "code",
   "execution_count": 1,
   "metadata": {
    "_cell_guid": "b1076dfc-b9ad-4769-8c92-a6c4dae69d19",
    "_uuid": "8f2839f25d086af736a60e9eeb907d3b93b6e0e5",
    "execution": {
     "iopub.execute_input": "2020-10-24T12:26:40.957631Z",
     "iopub.status.busy": "2020-10-24T12:26:40.956773Z",
     "iopub.status.idle": "2020-10-24T12:26:42.241337Z",
     "shell.execute_reply": "2020-10-24T12:26:42.240446Z"
    },
    "papermill": {
     "duration": 1.35831,
     "end_time": "2020-10-24T12:26:42.241516",
     "exception": false,
     "start_time": "2020-10-24T12:26:40.883206",
     "status": "completed"
    },
    "tags": []
   },
   "outputs": [
    {
     "name": "stderr",
     "output_type": "stream",
     "text": [
      "/opt/conda/lib/python3.7/site-packages/ipykernel_launcher.py:8: TqdmDeprecationWarning: This function will be removed in tqdm==5.0.0\n",
      "Please use `tqdm.notebook.*` instead of `tqdm._tqdm_notebook.*`\n",
      "  \n",
      "/opt/conda/lib/python3.7/site-packages/tqdm/std.py:666: FutureWarning: The Panel class is removed from pandas. Accessing it from the top-level namespace will also be removed in the next version\n",
      "  from pandas import Panel\n"
     ]
    }
   ],
   "source": [
    "import sys\n",
    "import pandas as pd\n",
    "import numpy as np\n",
    "import matplotlib.pyplot as plt\n",
    "import seaborn as sns\n",
    "import feather\n",
    "from tqdm import tqdm_notebook as tqdm\n",
    "from tqdm._tqdm_notebook import tqdm_notebook\n",
    "\n",
    "import riiideducation\n",
    "tqdm_notebook.pandas(desc=\"progress: \")\n",
    "\n",
    "pd.set_option(\"max_rows\", 100)"
   ]
  },
  {
   "cell_type": "code",
   "execution_count": 2,
   "metadata": {
    "_cell_guid": "79c7e3d0-c299-4dcb-8224-4455121ee9b0",
    "_uuid": "d629ff2d2480ee46fbb7e2d37f6b5fab8052498a",
    "execution": {
     "iopub.execute_input": "2020-10-24T12:26:42.384007Z",
     "iopub.status.busy": "2020-10-24T12:26:42.382857Z",
     "iopub.status.idle": "2020-10-24T12:26:50.258855Z",
     "shell.execute_reply": "2020-10-24T12:26:50.258015Z"
    },
    "papermill": {
     "duration": 7.950442,
     "end_time": "2020-10-24T12:26:50.258986",
     "exception": false,
     "start_time": "2020-10-24T12:26:42.308544",
     "status": "completed"
    },
    "tags": []
   },
   "outputs": [],
   "source": [
    "DIR =\"../input/riiid-test-answer-prediction/\"\n",
    "lectures = pd.read_csv(DIR+\"lectures.csv\")\n",
    "questions = pd.read_csv(DIR+\"questions.csv\")\n",
    "example_test = pd.read_csv(DIR+\"example_test.csv\")\n",
    "train = pd.read_feather(\"../input/riid-train/train.feather\")"
   ]
  },
  {
   "cell_type": "markdown",
   "metadata": {
    "papermill": {
     "duration": 0.06465,
     "end_time": "2020-10-24T12:26:50.388644",
     "exception": false,
     "start_time": "2020-10-24T12:26:50.323994",
     "status": "completed"
    },
    "tags": []
   },
   "source": [
    "# train\n",
    "- row_id: (int64) ID code for the row.\n",
    "- timestamp: (int64) the time between this user interaction and the first event completion from that user.\n",
    "- user_id: (int32) ID code for the user.\n",
    "- content_id: (int16) ID code for the user interaction\n",
    "- content_type_id: (int8) 0 if the event was a question being posed to the user, 1 if the event was the user watching a lecture.\n",
    "- task_container_id: (int16) Id code for the batch of questions or lectures. For example, a user might see three questions in a row before  seeing the explanations for any of them. Those three would all share a task_container_id.\n",
    "- user_answer: (int8) the user's answer to the question, if any. Read -1 as null, for lectures.\n",
    "- answered_correctly: (int8) if the user responded correctly. Read -1 as null, for lectures.\n",
    "- prior_question_elapsed_time: (float32) The average time it took a user to answer each question in the previous question bundle, ignoring any lectures in between. Is null for a user's first question bundle or lecture. Note that the time is the average time a user took to solve each question in the previous bundle.\n",
    "- prior_question_had_explanation: (bool) Whether or not the user saw an explanation and the correct response(s) after answering the previous question bundle, ignoring any lectures in between. The value is shared across a single question bundle, and is null for a user's first question bundle or lecture. Typically the first several questions a user sees were part of an onboarding diagnostic test where they did not get any feedback.\n",
    "\n",
    "- content_type_id = 0なら、questions.csvと結合できる, content_type_id = 1なら、lectures.csvと結合できる"
   ]
  },
  {
   "cell_type": "code",
   "execution_count": 3,
   "metadata": {
    "execution": {
     "iopub.execute_input": "2020-10-24T12:26:50.526836Z",
     "iopub.status.busy": "2020-10-24T12:26:50.525795Z",
     "iopub.status.idle": "2020-10-24T12:26:50.531447Z",
     "shell.execute_reply": "2020-10-24T12:26:50.530649Z"
    },
    "papermill": {
     "duration": 0.078134,
     "end_time": "2020-10-24T12:26:50.531585",
     "exception": false,
     "start_time": "2020-10-24T12:26:50.453451",
     "status": "completed"
    },
    "tags": []
   },
   "outputs": [
    {
     "data": {
      "text/plain": [
       "(101230332, 10)"
      ]
     },
     "execution_count": 3,
     "metadata": {},
     "output_type": "execute_result"
    }
   ],
   "source": [
    "train.shape"
   ]
  },
  {
   "cell_type": "code",
   "execution_count": 4,
   "metadata": {
    "execution": {
     "iopub.execute_input": "2020-10-24T12:26:50.674829Z",
     "iopub.status.busy": "2020-10-24T12:26:50.673683Z",
     "iopub.status.idle": "2020-10-24T12:26:50.686011Z",
     "shell.execute_reply": "2020-10-24T12:26:50.685406Z"
    },
    "papermill": {
     "duration": 0.089203,
     "end_time": "2020-10-24T12:26:50.686164",
     "exception": false,
     "start_time": "2020-10-24T12:26:50.596961",
     "status": "completed"
    },
    "tags": []
   },
   "outputs": [
    {
     "data": {
      "text/html": [
       "<div>\n",
       "<style scoped>\n",
       "    .dataframe tbody tr th:only-of-type {\n",
       "        vertical-align: middle;\n",
       "    }\n",
       "\n",
       "    .dataframe tbody tr th {\n",
       "        vertical-align: top;\n",
       "    }\n",
       "\n",
       "    .dataframe thead th {\n",
       "        text-align: right;\n",
       "    }\n",
       "</style>\n",
       "<table border=\"1\" class=\"dataframe\">\n",
       "  <thead>\n",
       "    <tr style=\"text-align: right;\">\n",
       "      <th></th>\n",
       "      <th>row_id</th>\n",
       "      <th>timestamp</th>\n",
       "      <th>user_id</th>\n",
       "      <th>content_id</th>\n",
       "      <th>content_type_id</th>\n",
       "      <th>task_container_id</th>\n",
       "      <th>user_answer</th>\n",
       "      <th>answered_correctly</th>\n",
       "      <th>prior_question_elapsed_time</th>\n",
       "      <th>prior_question_had_explanation</th>\n",
       "    </tr>\n",
       "  </thead>\n",
       "  <tbody>\n",
       "    <tr>\n",
       "      <th>0</th>\n",
       "      <td>0</td>\n",
       "      <td>0</td>\n",
       "      <td>115</td>\n",
       "      <td>5692</td>\n",
       "      <td>0</td>\n",
       "      <td>1</td>\n",
       "      <td>3</td>\n",
       "      <td>1</td>\n",
       "      <td>4294967295</td>\n",
       "      <td>None</td>\n",
       "    </tr>\n",
       "    <tr>\n",
       "      <th>1</th>\n",
       "      <td>1</td>\n",
       "      <td>56943</td>\n",
       "      <td>115</td>\n",
       "      <td>5716</td>\n",
       "      <td>0</td>\n",
       "      <td>2</td>\n",
       "      <td>2</td>\n",
       "      <td>1</td>\n",
       "      <td>37000</td>\n",
       "      <td>False</td>\n",
       "    </tr>\n",
       "    <tr>\n",
       "      <th>2</th>\n",
       "      <td>2</td>\n",
       "      <td>118363</td>\n",
       "      <td>115</td>\n",
       "      <td>128</td>\n",
       "      <td>0</td>\n",
       "      <td>0</td>\n",
       "      <td>0</td>\n",
       "      <td>1</td>\n",
       "      <td>55000</td>\n",
       "      <td>False</td>\n",
       "    </tr>\n",
       "    <tr>\n",
       "      <th>3</th>\n",
       "      <td>3</td>\n",
       "      <td>131167</td>\n",
       "      <td>115</td>\n",
       "      <td>7860</td>\n",
       "      <td>0</td>\n",
       "      <td>3</td>\n",
       "      <td>0</td>\n",
       "      <td>1</td>\n",
       "      <td>19000</td>\n",
       "      <td>False</td>\n",
       "    </tr>\n",
       "    <tr>\n",
       "      <th>4</th>\n",
       "      <td>4</td>\n",
       "      <td>137965</td>\n",
       "      <td>115</td>\n",
       "      <td>7922</td>\n",
       "      <td>0</td>\n",
       "      <td>4</td>\n",
       "      <td>1</td>\n",
       "      <td>1</td>\n",
       "      <td>11000</td>\n",
       "      <td>False</td>\n",
       "    </tr>\n",
       "  </tbody>\n",
       "</table>\n",
       "</div>"
      ],
      "text/plain": [
       "   row_id  timestamp  user_id  content_id  content_type_id  task_container_id  \\\n",
       "0       0          0      115        5692                0                  1   \n",
       "1       1      56943      115        5716                0                  2   \n",
       "2       2     118363      115         128                0                  0   \n",
       "3       3     131167      115        7860                0                  3   \n",
       "4       4     137965      115        7922                0                  4   \n",
       "\n",
       "   user_answer  answered_correctly  prior_question_elapsed_time  \\\n",
       "0            3                   1                   4294967295   \n",
       "1            2                   1                        37000   \n",
       "2            0                   1                        55000   \n",
       "3            0                   1                        19000   \n",
       "4            1                   1                        11000   \n",
       "\n",
       "  prior_question_had_explanation  \n",
       "0                           None  \n",
       "1                          False  \n",
       "2                          False  \n",
       "3                          False  \n",
       "4                          False  "
      ]
     },
     "execution_count": 4,
     "metadata": {},
     "output_type": "execute_result"
    }
   ],
   "source": [
    "train.head()"
   ]
  },
  {
   "cell_type": "code",
   "execution_count": 5,
   "metadata": {
    "execution": {
     "iopub.execute_input": "2020-10-24T12:26:50.827003Z",
     "iopub.status.busy": "2020-10-24T12:26:50.826261Z",
     "iopub.status.idle": "2020-10-24T12:27:14.872204Z",
     "shell.execute_reply": "2020-10-24T12:27:14.871505Z"
    },
    "papermill": {
     "duration": 24.11873,
     "end_time": "2020-10-24T12:27:14.872338",
     "exception": false,
     "start_time": "2020-10-24T12:26:50.753608",
     "status": "completed"
    },
    "tags": []
   },
   "outputs": [
    {
     "data": {
      "text/html": [
       "<div>\n",
       "<style scoped>\n",
       "    .dataframe tbody tr th:only-of-type {\n",
       "        vertical-align: middle;\n",
       "    }\n",
       "\n",
       "    .dataframe tbody tr th {\n",
       "        vertical-align: top;\n",
       "    }\n",
       "\n",
       "    .dataframe thead th {\n",
       "        text-align: right;\n",
       "    }\n",
       "</style>\n",
       "<table border=\"1\" class=\"dataframe\">\n",
       "  <thead>\n",
       "    <tr style=\"text-align: right;\">\n",
       "      <th></th>\n",
       "      <th>row_id</th>\n",
       "      <th>timestamp</th>\n",
       "      <th>user_id</th>\n",
       "      <th>content_id</th>\n",
       "      <th>content_type_id</th>\n",
       "      <th>task_container_id</th>\n",
       "      <th>user_answer</th>\n",
       "      <th>answered_correctly</th>\n",
       "      <th>prior_question_elapsed_time</th>\n",
       "    </tr>\n",
       "  </thead>\n",
       "  <tbody>\n",
       "    <tr>\n",
       "      <th>count</th>\n",
       "      <td>1.012303e+08</td>\n",
       "      <td>1.012303e+08</td>\n",
       "      <td>1.012303e+08</td>\n",
       "      <td>1.012303e+08</td>\n",
       "      <td>1.012303e+08</td>\n",
       "      <td>1.012303e+08</td>\n",
       "      <td>1.012303e+08</td>\n",
       "      <td>1.012303e+08</td>\n",
       "      <td>1.012303e+08</td>\n",
       "    </tr>\n",
       "    <tr>\n",
       "      <th>mean</th>\n",
       "      <td>5.061517e+07</td>\n",
       "      <td>7.703644e+09</td>\n",
       "      <td>1.076732e+09</td>\n",
       "      <td>5.219605e+03</td>\n",
       "      <td>1.935222e-02</td>\n",
       "      <td>9.040624e+02</td>\n",
       "      <td>1.376123e+00</td>\n",
       "      <td>6.251644e-01</td>\n",
       "      <td>9.979512e+07</td>\n",
       "    </tr>\n",
       "    <tr>\n",
       "      <th>std</th>\n",
       "      <td>2.922268e+07</td>\n",
       "      <td>1.159266e+10</td>\n",
       "      <td>6.197163e+08</td>\n",
       "      <td>3.866359e+03</td>\n",
       "      <td>1.377596e-01</td>\n",
       "      <td>1.358302e+03</td>\n",
       "      <td>1.192896e+00</td>\n",
       "      <td>5.225307e-01</td>\n",
       "      <td>6.469552e+08</td>\n",
       "    </tr>\n",
       "    <tr>\n",
       "      <th>min</th>\n",
       "      <td>0.000000e+00</td>\n",
       "      <td>0.000000e+00</td>\n",
       "      <td>1.150000e+02</td>\n",
       "      <td>0.000000e+00</td>\n",
       "      <td>0.000000e+00</td>\n",
       "      <td>0.000000e+00</td>\n",
       "      <td>-1.000000e+00</td>\n",
       "      <td>-1.000000e+00</td>\n",
       "      <td>0.000000e+00</td>\n",
       "    </tr>\n",
       "    <tr>\n",
       "      <th>25%</th>\n",
       "      <td>2.530758e+07</td>\n",
       "      <td>5.243436e+08</td>\n",
       "      <td>5.408116e+08</td>\n",
       "      <td>2.063000e+03</td>\n",
       "      <td>0.000000e+00</td>\n",
       "      <td>1.040000e+02</td>\n",
       "      <td>0.000000e+00</td>\n",
       "      <td>0.000000e+00</td>\n",
       "      <td>1.600000e+04</td>\n",
       "    </tr>\n",
       "    <tr>\n",
       "      <th>50%</th>\n",
       "      <td>5.061517e+07</td>\n",
       "      <td>2.674234e+09</td>\n",
       "      <td>1.071781e+09</td>\n",
       "      <td>5.026000e+03</td>\n",
       "      <td>0.000000e+00</td>\n",
       "      <td>3.820000e+02</td>\n",
       "      <td>1.000000e+00</td>\n",
       "      <td>1.000000e+00</td>\n",
       "      <td>2.100000e+04</td>\n",
       "    </tr>\n",
       "    <tr>\n",
       "      <th>75%</th>\n",
       "      <td>7.592275e+07</td>\n",
       "      <td>9.924551e+09</td>\n",
       "      <td>1.615742e+09</td>\n",
       "      <td>7.425000e+03</td>\n",
       "      <td>0.000000e+00</td>\n",
       "      <td>1.094000e+03</td>\n",
       "      <td>3.000000e+00</td>\n",
       "      <td>1.000000e+00</td>\n",
       "      <td>3.066600e+04</td>\n",
       "    </tr>\n",
       "    <tr>\n",
       "      <th>max</th>\n",
       "      <td>1.012303e+08</td>\n",
       "      <td>8.742577e+10</td>\n",
       "      <td>2.147483e+09</td>\n",
       "      <td>3.273600e+04</td>\n",
       "      <td>1.000000e+00</td>\n",
       "      <td>9.999000e+03</td>\n",
       "      <td>3.000000e+00</td>\n",
       "      <td>1.000000e+00</td>\n",
       "      <td>4.294967e+09</td>\n",
       "    </tr>\n",
       "  </tbody>\n",
       "</table>\n",
       "</div>"
      ],
      "text/plain": [
       "             row_id     timestamp       user_id    content_id  \\\n",
       "count  1.012303e+08  1.012303e+08  1.012303e+08  1.012303e+08   \n",
       "mean   5.061517e+07  7.703644e+09  1.076732e+09  5.219605e+03   \n",
       "std    2.922268e+07  1.159266e+10  6.197163e+08  3.866359e+03   \n",
       "min    0.000000e+00  0.000000e+00  1.150000e+02  0.000000e+00   \n",
       "25%    2.530758e+07  5.243436e+08  5.408116e+08  2.063000e+03   \n",
       "50%    5.061517e+07  2.674234e+09  1.071781e+09  5.026000e+03   \n",
       "75%    7.592275e+07  9.924551e+09  1.615742e+09  7.425000e+03   \n",
       "max    1.012303e+08  8.742577e+10  2.147483e+09  3.273600e+04   \n",
       "\n",
       "       content_type_id  task_container_id   user_answer  answered_correctly  \\\n",
       "count     1.012303e+08       1.012303e+08  1.012303e+08        1.012303e+08   \n",
       "mean      1.935222e-02       9.040624e+02  1.376123e+00        6.251644e-01   \n",
       "std       1.377596e-01       1.358302e+03  1.192896e+00        5.225307e-01   \n",
       "min       0.000000e+00       0.000000e+00 -1.000000e+00       -1.000000e+00   \n",
       "25%       0.000000e+00       1.040000e+02  0.000000e+00        0.000000e+00   \n",
       "50%       0.000000e+00       3.820000e+02  1.000000e+00        1.000000e+00   \n",
       "75%       0.000000e+00       1.094000e+03  3.000000e+00        1.000000e+00   \n",
       "max       1.000000e+00       9.999000e+03  3.000000e+00        1.000000e+00   \n",
       "\n",
       "       prior_question_elapsed_time  \n",
       "count                 1.012303e+08  \n",
       "mean                  9.979512e+07  \n",
       "std                   6.469552e+08  \n",
       "min                   0.000000e+00  \n",
       "25%                   1.600000e+04  \n",
       "50%                   2.100000e+04  \n",
       "75%                   3.066600e+04  \n",
       "max                   4.294967e+09  "
      ]
     },
     "execution_count": 5,
     "metadata": {},
     "output_type": "execute_result"
    }
   ],
   "source": [
    "train.describe()"
   ]
  },
  {
   "cell_type": "code",
   "execution_count": 6,
   "metadata": {
    "execution": {
     "iopub.execute_input": "2020-10-24T12:27:15.013627Z",
     "iopub.status.busy": "2020-10-24T12:27:15.012837Z",
     "iopub.status.idle": "2020-10-24T12:27:15.752873Z",
     "shell.execute_reply": "2020-10-24T12:27:15.752216Z"
    },
    "papermill": {
     "duration": 0.813242,
     "end_time": "2020-10-24T12:27:15.753001",
     "exception": false,
     "start_time": "2020-10-24T12:27:14.939759",
     "status": "completed"
    },
    "tags": []
   },
   "outputs": [
    {
     "data": {
      "text/plain": [
       "393656"
      ]
     },
     "execution_count": 6,
     "metadata": {},
     "output_type": "execute_result"
    }
   ],
   "source": [
    "len(train.user_id.unique())"
   ]
  },
  {
   "cell_type": "code",
   "execution_count": 7,
   "metadata": {
    "execution": {
     "iopub.execute_input": "2020-10-24T12:27:15.897930Z",
     "iopub.status.busy": "2020-10-24T12:27:15.897050Z",
     "iopub.status.idle": "2020-10-24T12:27:16.636285Z",
     "shell.execute_reply": "2020-10-24T12:27:16.635640Z"
    },
    "papermill": {
     "duration": 0.812829,
     "end_time": "2020-10-24T12:27:16.636427",
     "exception": false,
     "start_time": "2020-10-24T12:27:15.823598",
     "status": "completed"
    },
    "tags": []
   },
   "outputs": [
    {
     "data": {
      "text/plain": [
       "array([  115,   124,  2746,  5382,  8623,  8701, 12741, 13134, 24418,\n",
       "       24600], dtype=uint32)"
      ]
     },
     "execution_count": 7,
     "metadata": {},
     "output_type": "execute_result"
    }
   ],
   "source": [
    "train.user_id.unique()[:10]"
   ]
  },
  {
   "cell_type": "code",
   "execution_count": 8,
   "metadata": {
    "execution": {
     "iopub.execute_input": "2020-10-24T12:27:16.781260Z",
     "iopub.status.busy": "2020-10-24T12:27:16.779640Z",
     "iopub.status.idle": "2020-10-24T12:27:39.745866Z",
     "shell.execute_reply": "2020-10-24T12:27:39.745223Z"
    },
    "papermill": {
     "duration": 23.041201,
     "end_time": "2020-10-24T12:27:39.746004",
     "exception": false,
     "start_time": "2020-10-24T12:27:16.704803",
     "status": "completed"
    },
    "tags": []
   },
   "outputs": [
    {
     "data": {
      "text/plain": [
       "                                user_id   \n",
       "row_id                          115            46\n",
       "                                124            30\n",
       "                                2746           20\n",
       "                                5382          128\n",
       "                                8623          112\n",
       "                                             ... \n",
       "prior_question_had_explanation  2147470770    227\n",
       "                                2147470777    757\n",
       "                                2147481750     49\n",
       "                                2147482216    279\n",
       "                                2147482888     26\n",
       "Length: 3542904, dtype: int64"
      ]
     },
     "execution_count": 8,
     "metadata": {},
     "output_type": "execute_result"
    }
   ],
   "source": [
    "train.groupby(['user_id']).count().unstack()"
   ]
  },
  {
   "cell_type": "code",
   "execution_count": 9,
   "metadata": {
    "execution": {
     "iopub.execute_input": "2020-10-24T12:27:39.890005Z",
     "iopub.status.busy": "2020-10-24T12:27:39.889251Z",
     "iopub.status.idle": "2020-10-24T12:27:40.269770Z",
     "shell.execute_reply": "2020-10-24T12:27:40.269093Z"
    },
    "papermill": {
     "duration": 0.455312,
     "end_time": "2020-10-24T12:27:40.269909",
     "exception": false,
     "start_time": "2020-10-24T12:27:39.814597",
     "status": "completed"
    },
    "tags": []
   },
   "outputs": [
    {
     "data": {
      "text/html": [
       "<div>\n",
       "<style scoped>\n",
       "    .dataframe tbody tr th:only-of-type {\n",
       "        vertical-align: middle;\n",
       "    }\n",
       "\n",
       "    .dataframe tbody tr th {\n",
       "        vertical-align: top;\n",
       "    }\n",
       "\n",
       "    .dataframe thead th {\n",
       "        text-align: right;\n",
       "    }\n",
       "</style>\n",
       "<table border=\"1\" class=\"dataframe\">\n",
       "  <thead>\n",
       "    <tr style=\"text-align: right;\">\n",
       "      <th></th>\n",
       "      <th>row_id</th>\n",
       "      <th>timestamp</th>\n",
       "      <th>user_id</th>\n",
       "      <th>content_id</th>\n",
       "      <th>content_type_id</th>\n",
       "      <th>task_container_id</th>\n",
       "      <th>user_answer</th>\n",
       "      <th>answered_correctly</th>\n",
       "      <th>prior_question_elapsed_time</th>\n",
       "      <th>prior_question_had_explanation</th>\n",
       "    </tr>\n",
       "  </thead>\n",
       "  <tbody>\n",
       "    <tr>\n",
       "      <th>76</th>\n",
       "      <td>76</td>\n",
       "      <td>0</td>\n",
       "      <td>2746</td>\n",
       "      <td>5273</td>\n",
       "      <td>0</td>\n",
       "      <td>0</td>\n",
       "      <td>1</td>\n",
       "      <td>0</td>\n",
       "      <td>4294967295</td>\n",
       "      <td>None</td>\n",
       "    </tr>\n",
       "    <tr>\n",
       "      <th>77</th>\n",
       "      <td>77</td>\n",
       "      <td>21592</td>\n",
       "      <td>2746</td>\n",
       "      <td>758</td>\n",
       "      <td>0</td>\n",
       "      <td>1</td>\n",
       "      <td>0</td>\n",
       "      <td>0</td>\n",
       "      <td>28000</td>\n",
       "      <td>False</td>\n",
       "    </tr>\n",
       "    <tr>\n",
       "      <th>78</th>\n",
       "      <td>78</td>\n",
       "      <td>49069</td>\n",
       "      <td>2746</td>\n",
       "      <td>5976</td>\n",
       "      <td>0</td>\n",
       "      <td>2</td>\n",
       "      <td>3</td>\n",
       "      <td>0</td>\n",
       "      <td>17000</td>\n",
       "      <td>False</td>\n",
       "    </tr>\n",
       "    <tr>\n",
       "      <th>79</th>\n",
       "      <td>79</td>\n",
       "      <td>72254</td>\n",
       "      <td>2746</td>\n",
       "      <td>236</td>\n",
       "      <td>0</td>\n",
       "      <td>3</td>\n",
       "      <td>3</td>\n",
       "      <td>1</td>\n",
       "      <td>24000</td>\n",
       "      <td>False</td>\n",
       "    </tr>\n",
       "    <tr>\n",
       "      <th>80</th>\n",
       "      <td>80</td>\n",
       "      <td>91945</td>\n",
       "      <td>2746</td>\n",
       "      <td>404</td>\n",
       "      <td>0</td>\n",
       "      <td>4</td>\n",
       "      <td>3</td>\n",
       "      <td>0</td>\n",
       "      <td>20000</td>\n",
       "      <td>False</td>\n",
       "    </tr>\n",
       "    <tr>\n",
       "      <th>81</th>\n",
       "      <td>81</td>\n",
       "      <td>111621</td>\n",
       "      <td>2746</td>\n",
       "      <td>382</td>\n",
       "      <td>0</td>\n",
       "      <td>5</td>\n",
       "      <td>0</td>\n",
       "      <td>1</td>\n",
       "      <td>16000</td>\n",
       "      <td>False</td>\n",
       "    </tr>\n",
       "    <tr>\n",
       "      <th>82</th>\n",
       "      <td>82</td>\n",
       "      <td>134341</td>\n",
       "      <td>2746</td>\n",
       "      <td>405</td>\n",
       "      <td>0</td>\n",
       "      <td>6</td>\n",
       "      <td>1</td>\n",
       "      <td>1</td>\n",
       "      <td>16000</td>\n",
       "      <td>False</td>\n",
       "    </tr>\n",
       "    <tr>\n",
       "      <th>83</th>\n",
       "      <td>83</td>\n",
       "      <td>234605</td>\n",
       "      <td>2746</td>\n",
       "      <td>873</td>\n",
       "      <td>0</td>\n",
       "      <td>7</td>\n",
       "      <td>3</td>\n",
       "      <td>1</td>\n",
       "      <td>19000</td>\n",
       "      <td>False</td>\n",
       "    </tr>\n",
       "    <tr>\n",
       "      <th>84</th>\n",
       "      <td>84</td>\n",
       "      <td>283894</td>\n",
       "      <td>2746</td>\n",
       "      <td>531</td>\n",
       "      <td>0</td>\n",
       "      <td>8</td>\n",
       "      <td>0</td>\n",
       "      <td>1</td>\n",
       "      <td>18000</td>\n",
       "      <td>True</td>\n",
       "    </tr>\n",
       "    <tr>\n",
       "      <th>85</th>\n",
       "      <td>85</td>\n",
       "      <td>328640</td>\n",
       "      <td>2746</td>\n",
       "      <td>775</td>\n",
       "      <td>0</td>\n",
       "      <td>9</td>\n",
       "      <td>3</td>\n",
       "      <td>0</td>\n",
       "      <td>18000</td>\n",
       "      <td>True</td>\n",
       "    </tr>\n",
       "    <tr>\n",
       "      <th>86</th>\n",
       "      <td>86</td>\n",
       "      <td>357471</td>\n",
       "      <td>2746</td>\n",
       "      <td>294</td>\n",
       "      <td>0</td>\n",
       "      <td>10</td>\n",
       "      <td>3</td>\n",
       "      <td>1</td>\n",
       "      <td>20000</td>\n",
       "      <td>True</td>\n",
       "    </tr>\n",
       "    <tr>\n",
       "      <th>87</th>\n",
       "      <td>87</td>\n",
       "      <td>384415</td>\n",
       "      <td>2746</td>\n",
       "      <td>714</td>\n",
       "      <td>0</td>\n",
       "      <td>11</td>\n",
       "      <td>3</td>\n",
       "      <td>1</td>\n",
       "      <td>13000</td>\n",
       "      <td>True</td>\n",
       "    </tr>\n",
       "    <tr>\n",
       "      <th>88</th>\n",
       "      <td>88</td>\n",
       "      <td>428637</td>\n",
       "      <td>2746</td>\n",
       "      <td>297</td>\n",
       "      <td>0</td>\n",
       "      <td>12</td>\n",
       "      <td>0</td>\n",
       "      <td>0</td>\n",
       "      <td>13000</td>\n",
       "      <td>True</td>\n",
       "    </tr>\n",
       "    <tr>\n",
       "      <th>89</th>\n",
       "      <td>89</td>\n",
       "      <td>653762</td>\n",
       "      <td>2746</td>\n",
       "      <td>6808</td>\n",
       "      <td>1</td>\n",
       "      <td>14</td>\n",
       "      <td>-1</td>\n",
       "      <td>-1</td>\n",
       "      <td>4294967295</td>\n",
       "      <td>False</td>\n",
       "    </tr>\n",
       "    <tr>\n",
       "      <th>90</th>\n",
       "      <td>90</td>\n",
       "      <td>674559</td>\n",
       "      <td>2746</td>\n",
       "      <td>297</td>\n",
       "      <td>0</td>\n",
       "      <td>15</td>\n",
       "      <td>3</td>\n",
       "      <td>1</td>\n",
       "      <td>16000</td>\n",
       "      <td>True</td>\n",
       "    </tr>\n",
       "    <tr>\n",
       "      <th>91</th>\n",
       "      <td>91</td>\n",
       "      <td>704065</td>\n",
       "      <td>2746</td>\n",
       "      <td>775</td>\n",
       "      <td>0</td>\n",
       "      <td>16</td>\n",
       "      <td>3</td>\n",
       "      <td>0</td>\n",
       "      <td>15000</td>\n",
       "      <td>True</td>\n",
       "    </tr>\n",
       "    <tr>\n",
       "      <th>92</th>\n",
       "      <td>92</td>\n",
       "      <td>735114</td>\n",
       "      <td>2746</td>\n",
       "      <td>1295</td>\n",
       "      <td>0</td>\n",
       "      <td>13</td>\n",
       "      <td>3</td>\n",
       "      <td>1</td>\n",
       "      <td>16000</td>\n",
       "      <td>True</td>\n",
       "    </tr>\n",
       "    <tr>\n",
       "      <th>93</th>\n",
       "      <td>93</td>\n",
       "      <td>761885</td>\n",
       "      <td>2746</td>\n",
       "      <td>10684</td>\n",
       "      <td>0</td>\n",
       "      <td>17</td>\n",
       "      <td>0</td>\n",
       "      <td>1</td>\n",
       "      <td>17000</td>\n",
       "      <td>True</td>\n",
       "    </tr>\n",
       "    <tr>\n",
       "      <th>94</th>\n",
       "      <td>94</td>\n",
       "      <td>800255</td>\n",
       "      <td>2746</td>\n",
       "      <td>1014</td>\n",
       "      <td>0</td>\n",
       "      <td>18</td>\n",
       "      <td>0</td>\n",
       "      <td>0</td>\n",
       "      <td>19000</td>\n",
       "      <td>True</td>\n",
       "    </tr>\n",
       "    <tr>\n",
       "      <th>95</th>\n",
       "      <td>95</td>\n",
       "      <td>835457</td>\n",
       "      <td>2746</td>\n",
       "      <td>484</td>\n",
       "      <td>0</td>\n",
       "      <td>19</td>\n",
       "      <td>0</td>\n",
       "      <td>1</td>\n",
       "      <td>20000</td>\n",
       "      <td>True</td>\n",
       "    </tr>\n",
       "  </tbody>\n",
       "</table>\n",
       "</div>"
      ],
      "text/plain": [
       "    row_id  timestamp  user_id  content_id  content_type_id  \\\n",
       "76      76          0     2746        5273                0   \n",
       "77      77      21592     2746         758                0   \n",
       "78      78      49069     2746        5976                0   \n",
       "79      79      72254     2746         236                0   \n",
       "80      80      91945     2746         404                0   \n",
       "81      81     111621     2746         382                0   \n",
       "82      82     134341     2746         405                0   \n",
       "83      83     234605     2746         873                0   \n",
       "84      84     283894     2746         531                0   \n",
       "85      85     328640     2746         775                0   \n",
       "86      86     357471     2746         294                0   \n",
       "87      87     384415     2746         714                0   \n",
       "88      88     428637     2746         297                0   \n",
       "89      89     653762     2746        6808                1   \n",
       "90      90     674559     2746         297                0   \n",
       "91      91     704065     2746         775                0   \n",
       "92      92     735114     2746        1295                0   \n",
       "93      93     761885     2746       10684                0   \n",
       "94      94     800255     2746        1014                0   \n",
       "95      95     835457     2746         484                0   \n",
       "\n",
       "    task_container_id  user_answer  answered_correctly  \\\n",
       "76                  0            1                   0   \n",
       "77                  1            0                   0   \n",
       "78                  2            3                   0   \n",
       "79                  3            3                   1   \n",
       "80                  4            3                   0   \n",
       "81                  5            0                   1   \n",
       "82                  6            1                   1   \n",
       "83                  7            3                   1   \n",
       "84                  8            0                   1   \n",
       "85                  9            3                   0   \n",
       "86                 10            3                   1   \n",
       "87                 11            3                   1   \n",
       "88                 12            0                   0   \n",
       "89                 14           -1                  -1   \n",
       "90                 15            3                   1   \n",
       "91                 16            3                   0   \n",
       "92                 13            3                   1   \n",
       "93                 17            0                   1   \n",
       "94                 18            0                   0   \n",
       "95                 19            0                   1   \n",
       "\n",
       "    prior_question_elapsed_time prior_question_had_explanation  \n",
       "76                   4294967295                           None  \n",
       "77                        28000                          False  \n",
       "78                        17000                          False  \n",
       "79                        24000                          False  \n",
       "80                        20000                          False  \n",
       "81                        16000                          False  \n",
       "82                        16000                          False  \n",
       "83                        19000                          False  \n",
       "84                        18000                           True  \n",
       "85                        18000                           True  \n",
       "86                        20000                           True  \n",
       "87                        13000                           True  \n",
       "88                        13000                           True  \n",
       "89                   4294967295                          False  \n",
       "90                        16000                           True  \n",
       "91                        15000                           True  \n",
       "92                        16000                           True  \n",
       "93                        17000                           True  \n",
       "94                        19000                           True  \n",
       "95                        20000                           True  "
      ]
     },
     "execution_count": 9,
     "metadata": {},
     "output_type": "execute_result"
    }
   ],
   "source": [
    "train[train.user_id==2746] # task_container_id doesn't monotonically increase"
   ]
  },
  {
   "cell_type": "code",
   "execution_count": 10,
   "metadata": {
    "execution": {
     "iopub.execute_input": "2020-10-24T12:27:40.417911Z",
     "iopub.status.busy": "2020-10-24T12:27:40.417113Z",
     "iopub.status.idle": "2020-10-24T12:27:41.597013Z",
     "shell.execute_reply": "2020-10-24T12:27:41.596389Z"
    },
    "papermill": {
     "duration": 1.255275,
     "end_time": "2020-10-24T12:27:41.597181",
     "exception": false,
     "start_time": "2020-10-24T12:27:40.341906",
     "status": "completed"
    },
    "tags": []
   },
   "outputs": [
    {
     "data": {
      "text/plain": [
       " 0    0.278439\n",
       " 1    0.266620\n",
       " 3    0.257678\n",
       " 2    0.177911\n",
       "-1    0.019352\n",
       "Name: user_answer, dtype: float64"
      ]
     },
     "execution_count": 10,
     "metadata": {},
     "output_type": "execute_result"
    }
   ],
   "source": [
    "train.user_answer.value_counts(normalize=True)"
   ]
  },
  {
   "cell_type": "code",
   "execution_count": 11,
   "metadata": {
    "execution": {
     "iopub.execute_input": "2020-10-24T12:27:41.746747Z",
     "iopub.status.busy": "2020-10-24T12:27:41.745169Z",
     "iopub.status.idle": "2020-10-24T12:27:58.448223Z",
     "shell.execute_reply": "2020-10-24T12:27:58.447501Z"
    },
    "papermill": {
     "duration": 16.780469,
     "end_time": "2020-10-24T12:27:58.448361",
     "exception": false,
     "start_time": "2020-10-24T12:27:41.667892",
     "status": "completed"
    },
    "tags": []
   },
   "outputs": [
    {
     "data": {
      "text/html": [
       "<div>\n",
       "<style scoped>\n",
       "    .dataframe tbody tr th:only-of-type {\n",
       "        vertical-align: middle;\n",
       "    }\n",
       "\n",
       "    .dataframe tbody tr th {\n",
       "        vertical-align: top;\n",
       "    }\n",
       "\n",
       "    .dataframe thead th {\n",
       "        text-align: right;\n",
       "    }\n",
       "</style>\n",
       "<table border=\"1\" class=\"dataframe\">\n",
       "  <thead>\n",
       "    <tr style=\"text-align: right;\">\n",
       "      <th>user_answer</th>\n",
       "      <th>-1</th>\n",
       "      <th>0</th>\n",
       "      <th>1</th>\n",
       "      <th>2</th>\n",
       "      <th>3</th>\n",
       "      <th>max</th>\n",
       "    </tr>\n",
       "    <tr>\n",
       "      <th>user_id</th>\n",
       "      <th></th>\n",
       "      <th></th>\n",
       "      <th></th>\n",
       "      <th></th>\n",
       "      <th></th>\n",
       "      <th></th>\n",
       "    </tr>\n",
       "  </thead>\n",
       "  <tbody>\n",
       "    <tr>\n",
       "      <th>115</th>\n",
       "      <td>NaN</td>\n",
       "      <td>0.239130</td>\n",
       "      <td>0.239130</td>\n",
       "      <td>0.239130</td>\n",
       "      <td>0.282609</td>\n",
       "      <td>0.282609</td>\n",
       "    </tr>\n",
       "    <tr>\n",
       "      <th>124</th>\n",
       "      <td>NaN</td>\n",
       "      <td>0.233333</td>\n",
       "      <td>0.200000</td>\n",
       "      <td>0.266667</td>\n",
       "      <td>0.300000</td>\n",
       "      <td>0.300000</td>\n",
       "    </tr>\n",
       "    <tr>\n",
       "      <th>2746</th>\n",
       "      <td>0.050000</td>\n",
       "      <td>0.350000</td>\n",
       "      <td>0.100000</td>\n",
       "      <td>NaN</td>\n",
       "      <td>0.500000</td>\n",
       "      <td>0.500000</td>\n",
       "    </tr>\n",
       "    <tr>\n",
       "      <th>5382</th>\n",
       "      <td>0.023438</td>\n",
       "      <td>0.304688</td>\n",
       "      <td>0.273438</td>\n",
       "      <td>0.125000</td>\n",
       "      <td>0.273438</td>\n",
       "      <td>0.304688</td>\n",
       "    </tr>\n",
       "    <tr>\n",
       "      <th>8623</th>\n",
       "      <td>0.026786</td>\n",
       "      <td>0.303571</td>\n",
       "      <td>0.258929</td>\n",
       "      <td>0.133929</td>\n",
       "      <td>0.276786</td>\n",
       "      <td>0.303571</td>\n",
       "    </tr>\n",
       "    <tr>\n",
       "      <th>...</th>\n",
       "      <td>...</td>\n",
       "      <td>...</td>\n",
       "      <td>...</td>\n",
       "      <td>...</td>\n",
       "      <td>...</td>\n",
       "      <td>...</td>\n",
       "    </tr>\n",
       "    <tr>\n",
       "      <th>2147470770</th>\n",
       "      <td>0.008772</td>\n",
       "      <td>0.311404</td>\n",
       "      <td>0.285088</td>\n",
       "      <td>0.109649</td>\n",
       "      <td>0.285088</td>\n",
       "      <td>0.311404</td>\n",
       "    </tr>\n",
       "    <tr>\n",
       "      <th>2147470777</th>\n",
       "      <td>0.007916</td>\n",
       "      <td>0.274406</td>\n",
       "      <td>0.275726</td>\n",
       "      <td>0.187335</td>\n",
       "      <td>0.254617</td>\n",
       "      <td>0.275726</td>\n",
       "    </tr>\n",
       "    <tr>\n",
       "      <th>2147481750</th>\n",
       "      <td>NaN</td>\n",
       "      <td>0.440000</td>\n",
       "      <td>0.280000</td>\n",
       "      <td>0.080000</td>\n",
       "      <td>0.200000</td>\n",
       "      <td>0.440000</td>\n",
       "    </tr>\n",
       "    <tr>\n",
       "      <th>2147482216</th>\n",
       "      <td>0.017857</td>\n",
       "      <td>0.328571</td>\n",
       "      <td>0.275000</td>\n",
       "      <td>0.096429</td>\n",
       "      <td>0.282143</td>\n",
       "      <td>0.328571</td>\n",
       "    </tr>\n",
       "    <tr>\n",
       "      <th>2147482888</th>\n",
       "      <td>NaN</td>\n",
       "      <td>0.296296</td>\n",
       "      <td>0.259259</td>\n",
       "      <td>0.185185</td>\n",
       "      <td>0.259259</td>\n",
       "      <td>0.296296</td>\n",
       "    </tr>\n",
       "  </tbody>\n",
       "</table>\n",
       "<p>393656 rows × 6 columns</p>\n",
       "</div>"
      ],
      "text/plain": [
       "user_answer        -1         0         1         2         3       max\n",
       "user_id                                                                \n",
       "115               NaN  0.239130  0.239130  0.239130  0.282609  0.282609\n",
       "124               NaN  0.233333  0.200000  0.266667  0.300000  0.300000\n",
       "2746         0.050000  0.350000  0.100000       NaN  0.500000  0.500000\n",
       "5382         0.023438  0.304688  0.273438  0.125000  0.273438  0.304688\n",
       "8623         0.026786  0.303571  0.258929  0.133929  0.276786  0.303571\n",
       "...               ...       ...       ...       ...       ...       ...\n",
       "2147470770   0.008772  0.311404  0.285088  0.109649  0.285088  0.311404\n",
       "2147470777   0.007916  0.274406  0.275726  0.187335  0.254617  0.275726\n",
       "2147481750        NaN  0.440000  0.280000  0.080000  0.200000  0.440000\n",
       "2147482216   0.017857  0.328571  0.275000  0.096429  0.282143  0.328571\n",
       "2147482888        NaN  0.296296  0.259259  0.185185  0.259259  0.296296\n",
       "\n",
       "[393656 rows x 6 columns]"
      ]
     },
     "execution_count": 11,
     "metadata": {},
     "output_type": "execute_result"
    }
   ],
   "source": [
    "tmp = train.groupby(\"user_id\")['user_answer'].value_counts(normalize=True).unstack()\n",
    "tmp[\"max\"] = tmp.max(axis=1)\n",
    "tmp"
   ]
  },
  {
   "cell_type": "code",
   "execution_count": 12,
   "metadata": {
    "execution": {
     "iopub.execute_input": "2020-10-24T12:27:58.597399Z",
     "iopub.status.busy": "2020-10-24T12:27:58.596624Z",
     "iopub.status.idle": "2020-10-24T12:27:58.604387Z",
     "shell.execute_reply": "2020-10-24T12:27:58.604936Z"
    },
    "papermill": {
     "duration": 0.085491,
     "end_time": "2020-10-24T12:27:58.605165",
     "exception": false,
     "start_time": "2020-10-24T12:27:58.519674",
     "status": "completed"
    },
    "tags": []
   },
   "outputs": [
    {
     "data": {
      "text/plain": [
       "(0.4178082191780822, 0.00010211375472276115)"
      ]
     },
     "execution_count": 12,
     "metadata": {},
     "output_type": "execute_result"
    }
   ],
   "source": [
    "tmp[-1].max(), tmp[-1].min()"
   ]
  },
  {
   "cell_type": "code",
   "execution_count": 13,
   "metadata": {
    "execution": {
     "iopub.execute_input": "2020-10-24T12:27:58.757341Z",
     "iopub.status.busy": "2020-10-24T12:27:58.756541Z",
     "iopub.status.idle": "2020-10-24T12:27:58.792384Z",
     "shell.execute_reply": "2020-10-24T12:27:58.792957Z"
    },
    "papermill": {
     "duration": 0.114662,
     "end_time": "2020-10-24T12:27:58.793151",
     "exception": false,
     "start_time": "2020-10-24T12:27:58.678489",
     "status": "completed"
    },
    "tags": []
   },
   "outputs": [
    {
     "data": {
      "text/html": [
       "<div>\n",
       "<style scoped>\n",
       "    .dataframe tbody tr th:only-of-type {\n",
       "        vertical-align: middle;\n",
       "    }\n",
       "\n",
       "    .dataframe tbody tr th {\n",
       "        vertical-align: top;\n",
       "    }\n",
       "\n",
       "    .dataframe thead th {\n",
       "        text-align: right;\n",
       "    }\n",
       "</style>\n",
       "<table border=\"1\" class=\"dataframe\">\n",
       "  <thead>\n",
       "    <tr style=\"text-align: right;\">\n",
       "      <th>user_answer</th>\n",
       "      <th>-1</th>\n",
       "      <th>0</th>\n",
       "      <th>1</th>\n",
       "      <th>2</th>\n",
       "      <th>3</th>\n",
       "      <th>max</th>\n",
       "    </tr>\n",
       "    <tr>\n",
       "      <th>user_id</th>\n",
       "      <th></th>\n",
       "      <th></th>\n",
       "      <th></th>\n",
       "      <th></th>\n",
       "      <th></th>\n",
       "      <th></th>\n",
       "    </tr>\n",
       "  </thead>\n",
       "  <tbody>\n",
       "    <tr>\n",
       "      <th>839109</th>\n",
       "      <td>NaN</td>\n",
       "      <td>0.033333</td>\n",
       "      <td>0.900000</td>\n",
       "      <td>0.033333</td>\n",
       "      <td>0.033333</td>\n",
       "      <td>0.900000</td>\n",
       "    </tr>\n",
       "    <tr>\n",
       "      <th>1880240</th>\n",
       "      <td>NaN</td>\n",
       "      <td>NaN</td>\n",
       "      <td>1.000000</td>\n",
       "      <td>NaN</td>\n",
       "      <td>NaN</td>\n",
       "      <td>1.000000</td>\n",
       "    </tr>\n",
       "    <tr>\n",
       "      <th>3258925</th>\n",
       "      <td>NaN</td>\n",
       "      <td>0.166667</td>\n",
       "      <td>0.750000</td>\n",
       "      <td>0.083333</td>\n",
       "      <td>NaN</td>\n",
       "      <td>0.750000</td>\n",
       "    </tr>\n",
       "    <tr>\n",
       "      <th>4625823</th>\n",
       "      <td>NaN</td>\n",
       "      <td>NaN</td>\n",
       "      <td>0.866667</td>\n",
       "      <td>0.066667</td>\n",
       "      <td>0.066667</td>\n",
       "      <td>0.866667</td>\n",
       "    </tr>\n",
       "    <tr>\n",
       "      <th>5657069</th>\n",
       "      <td>NaN</td>\n",
       "      <td>0.764706</td>\n",
       "      <td>0.117647</td>\n",
       "      <td>0.058824</td>\n",
       "      <td>0.058824</td>\n",
       "      <td>0.764706</td>\n",
       "    </tr>\n",
       "    <tr>\n",
       "      <th>...</th>\n",
       "      <td>...</td>\n",
       "      <td>...</td>\n",
       "      <td>...</td>\n",
       "      <td>...</td>\n",
       "      <td>...</td>\n",
       "      <td>...</td>\n",
       "    </tr>\n",
       "    <tr>\n",
       "      <th>2140850387</th>\n",
       "      <td>0.017857</td>\n",
       "      <td>0.142857</td>\n",
       "      <td>0.714286</td>\n",
       "      <td>NaN</td>\n",
       "      <td>0.125000</td>\n",
       "      <td>0.714286</td>\n",
       "    </tr>\n",
       "    <tr>\n",
       "      <th>2143785492</th>\n",
       "      <td>NaN</td>\n",
       "      <td>0.064516</td>\n",
       "      <td>0.806452</td>\n",
       "      <td>0.032258</td>\n",
       "      <td>0.096774</td>\n",
       "      <td>0.806452</td>\n",
       "    </tr>\n",
       "    <tr>\n",
       "      <th>2143792798</th>\n",
       "      <td>NaN</td>\n",
       "      <td>0.266667</td>\n",
       "      <td>0.700000</td>\n",
       "      <td>0.033333</td>\n",
       "      <td>NaN</td>\n",
       "      <td>0.700000</td>\n",
       "    </tr>\n",
       "    <tr>\n",
       "      <th>2144440240</th>\n",
       "      <td>NaN</td>\n",
       "      <td>0.062500</td>\n",
       "      <td>0.718750</td>\n",
       "      <td>0.125000</td>\n",
       "      <td>0.093750</td>\n",
       "      <td>0.718750</td>\n",
       "    </tr>\n",
       "    <tr>\n",
       "      <th>2146337466</th>\n",
       "      <td>NaN</td>\n",
       "      <td>NaN</td>\n",
       "      <td>0.733333</td>\n",
       "      <td>0.166667</td>\n",
       "      <td>0.100000</td>\n",
       "      <td>0.733333</td>\n",
       "    </tr>\n",
       "  </tbody>\n",
       "</table>\n",
       "<p>1194 rows × 6 columns</p>\n",
       "</div>"
      ],
      "text/plain": [
       "user_answer        -1         0         1         2         3       max\n",
       "user_id                                                                \n",
       "839109            NaN  0.033333  0.900000  0.033333  0.033333  0.900000\n",
       "1880240           NaN       NaN  1.000000       NaN       NaN  1.000000\n",
       "3258925           NaN  0.166667  0.750000  0.083333       NaN  0.750000\n",
       "4625823           NaN       NaN  0.866667  0.066667  0.066667  0.866667\n",
       "5657069           NaN  0.764706  0.117647  0.058824  0.058824  0.764706\n",
       "...               ...       ...       ...       ...       ...       ...\n",
       "2140850387   0.017857  0.142857  0.714286       NaN  0.125000  0.714286\n",
       "2143785492        NaN  0.064516  0.806452  0.032258  0.096774  0.806452\n",
       "2143792798        NaN  0.266667  0.700000  0.033333       NaN  0.700000\n",
       "2144440240        NaN  0.062500  0.718750  0.125000  0.093750  0.718750\n",
       "2146337466        NaN       NaN  0.733333  0.166667  0.100000  0.733333\n",
       "\n",
       "[1194 rows x 6 columns]"
      ]
     },
     "execution_count": 13,
     "metadata": {},
     "output_type": "execute_result"
    }
   ],
   "source": [
    "tmp[tmp[\"max\"]>=0.7]"
   ]
  },
  {
   "cell_type": "code",
   "execution_count": 14,
   "metadata": {
    "execution": {
     "iopub.execute_input": "2020-10-24T12:27:58.944802Z",
     "iopub.status.busy": "2020-10-24T12:27:58.943677Z",
     "iopub.status.idle": "2020-10-24T12:27:58.947411Z",
     "shell.execute_reply": "2020-10-24T12:27:58.946566Z"
    },
    "papermill": {
     "duration": 0.081084,
     "end_time": "2020-10-24T12:27:58.947551",
     "exception": false,
     "start_time": "2020-10-24T12:27:58.866467",
     "status": "completed"
    },
    "tags": []
   },
   "outputs": [],
   "source": [
    "#tmp = train[train.user_id==2746].copy()\n",
    "#tmp[\"task_container_id\"] = tmp[\"task_container_id\"].transform(lambda x: pd.factorize(x)[0]).astype('int16')\n",
    "#tmp\n",
    "#train['task_container_id'] = (\n",
    "#    train\n",
    "#    .groupby('user_id')['task_container_id']\n",
    "#    .transform(lambda x: pd.factorize(x)[0])\n",
    "#    .astype('int16')\n",
    "#)"
   ]
  },
  {
   "cell_type": "code",
   "execution_count": 15,
   "metadata": {
    "execution": {
     "iopub.execute_input": "2020-10-24T12:27:59.104027Z",
     "iopub.status.busy": "2020-10-24T12:27:59.103166Z",
     "iopub.status.idle": "2020-10-24T12:27:59.106406Z",
     "shell.execute_reply": "2020-10-24T12:27:59.105617Z"
    },
    "papermill": {
     "duration": 0.081833,
     "end_time": "2020-10-24T12:27:59.106543",
     "exception": false,
     "start_time": "2020-10-24T12:27:59.024710",
     "status": "completed"
    },
    "tags": []
   },
   "outputs": [],
   "source": [
    "del tmp"
   ]
  },
  {
   "cell_type": "code",
   "execution_count": 16,
   "metadata": {
    "execution": {
     "iopub.execute_input": "2020-10-24T12:27:59.259432Z",
     "iopub.status.busy": "2020-10-24T12:27:59.258596Z",
     "iopub.status.idle": "2020-10-24T12:27:59.262105Z",
     "shell.execute_reply": "2020-10-24T12:27:59.261349Z"
    },
    "papermill": {
     "duration": 0.081071,
     "end_time": "2020-10-24T12:27:59.262243",
     "exception": false,
     "start_time": "2020-10-24T12:27:59.181172",
     "status": "completed"
    },
    "tags": []
   },
   "outputs": [],
   "source": [
    "#tmp = train[train.user_id==115].copy()\n",
    "#tmp[\"task_container_id\"] = tmp[\"task_container_id\"].transform(lambda x: pd.factorize(x)[0]).astype('int16')\n",
    "#tmp"
   ]
  },
  {
   "cell_type": "code",
   "execution_count": 17,
   "metadata": {
    "execution": {
     "iopub.execute_input": "2020-10-24T12:27:59.417295Z",
     "iopub.status.busy": "2020-10-24T12:27:59.416505Z",
     "iopub.status.idle": "2020-10-24T12:28:13.463882Z",
     "shell.execute_reply": "2020-10-24T12:28:13.463243Z"
    },
    "papermill": {
     "duration": 14.126478,
     "end_time": "2020-10-24T12:28:13.464021",
     "exception": false,
     "start_time": "2020-10-24T12:27:59.337543",
     "status": "completed"
    },
    "tags": []
   },
   "outputs": [
    {
     "data": {
      "text/plain": [
       "<matplotlib.axes._subplots.AxesSubplot at 0x7f1401393e10>"
      ]
     },
     "execution_count": 17,
     "metadata": {},
     "output_type": "execute_result"
    },
    {
     "data": {
      "image/png": "[encoded data removed]",
      "text/plain": [
       "<Figure size 432x288 with 1 Axes>"
      ]
     },
     "metadata": {
      "needs_background": "light"
     },
     "output_type": "display_data"
    }
   ],
   "source": [
    "train.timestamp.plot(kind=\"hist\")"
   ]
  },
  {
   "cell_type": "code",
   "execution_count": 18,
   "metadata": {
    "execution": {
     "iopub.execute_input": "2020-10-24T12:28:13.625037Z",
     "iopub.status.busy": "2020-10-24T12:28:13.624141Z",
     "iopub.status.idle": "2020-10-24T12:28:17.848427Z",
     "shell.execute_reply": "2020-10-24T12:28:17.847446Z"
    },
    "papermill": {
     "duration": 4.30662,
     "end_time": "2020-10-24T12:28:17.848627",
     "exception": false,
     "start_time": "2020-10-24T12:28:13.542007",
     "status": "completed"
    },
    "tags": []
   },
   "outputs": [
    {
     "data": {
      "text/plain": [
       "6116     213605\n",
       "6173     202106\n",
       "4120     199372\n",
       "175      195861\n",
       "7876     190170\n",
       "          ...  \n",
       "10006         1\n",
       "10007         1\n",
       "10008         1\n",
       "1484          1\n",
       "21169         1\n",
       "Name: content_id, Length: 13782, dtype: int64"
      ]
     },
     "execution_count": 18,
     "metadata": {},
     "output_type": "execute_result"
    }
   ],
   "source": [
    "train.content_id.value_counts()"
   ]
  },
  {
   "cell_type": "code",
   "execution_count": 19,
   "metadata": {
    "execution": {
     "iopub.execute_input": "2020-10-24T12:28:18.028658Z",
     "iopub.status.busy": "2020-10-24T12:28:18.027629Z",
     "iopub.status.idle": "2020-10-24T12:28:18.032253Z",
     "shell.execute_reply": "2020-10-24T12:28:18.031294Z"
    },
    "papermill": {
     "duration": 0.101876,
     "end_time": "2020-10-24T12:28:18.032425",
     "exception": false,
     "start_time": "2020-10-24T12:28:17.930549",
     "status": "completed"
    },
    "tags": []
   },
   "outputs": [
    {
     "name": "stdout",
     "output_type": "stream",
     "text": [
      "<class 'pandas.core.frame.DataFrame'>\n",
      "RangeIndex: 101230332 entries, 0 to 101230331\n",
      "Data columns (total 10 columns):\n",
      " #   Column                          Dtype \n",
      "---  ------                          ----- \n",
      " 0   row_id                          uint32\n",
      " 1   timestamp                       uint64\n",
      " 2   user_id                         uint32\n",
      " 3   content_id                      uint16\n",
      " 4   content_type_id                 uint8 \n",
      " 5   task_container_id               uint16\n",
      " 6   user_answer                     int8  \n",
      " 7   answered_correctly              int8  \n",
      " 8   prior_question_elapsed_time     uint32\n",
      " 9   prior_question_had_explanation  object\n",
      "dtypes: int8(2), object(1), uint16(2), uint32(3), uint64(1), uint8(1)\n",
      "memory usage: 3.3+ GB\n"
     ]
    }
   ],
   "source": [
    "train.info()"
   ]
  },
  {
   "cell_type": "code",
   "execution_count": 20,
   "metadata": {
    "execution": {
     "iopub.execute_input": "2020-10-24T12:28:18.195951Z",
     "iopub.status.busy": "2020-10-24T12:28:18.194875Z",
     "iopub.status.idle": "2020-10-24T12:28:31.643425Z",
     "shell.execute_reply": "2020-10-24T12:28:31.643973Z"
    },
    "papermill": {
     "duration": 13.529832,
     "end_time": "2020-10-24T12:28:31.644160",
     "exception": false,
     "start_time": "2020-10-24T12:28:18.114328",
     "status": "completed"
    },
    "tags": []
   },
   "outputs": [
    {
     "data": {
      "text/plain": [
       "row_id                                 0\n",
       "timestamp                              0\n",
       "user_id                                0\n",
       "content_id                             0\n",
       "content_type_id                        0\n",
       "task_container_id                      0\n",
       "user_answer                            0\n",
       "answered_correctly                     0\n",
       "prior_question_elapsed_time            0\n",
       "prior_question_had_explanation    392506\n",
       "dtype: int64"
      ]
     },
     "execution_count": 20,
     "metadata": {},
     "output_type": "execute_result"
    }
   ],
   "source": [
    "# null value in prior_question_had_explanation_only, but other variables include -1 as missing value \n",
    "train.isnull().sum()"
   ]
  },
  {
   "cell_type": "code",
   "execution_count": 21,
   "metadata": {
    "execution": {
     "iopub.execute_input": "2020-10-24T12:28:31.809918Z",
     "iopub.status.busy": "2020-10-24T12:28:31.808299Z",
     "iopub.status.idle": "2020-10-24T12:30:14.011272Z",
     "shell.execute_reply": "2020-10-24T12:30:14.010414Z"
    },
    "papermill": {
     "duration": 102.290822,
     "end_time": "2020-10-24T12:30:14.011419",
     "exception": false,
     "start_time": "2020-10-24T12:28:31.720597",
     "status": "completed"
    },
    "tags": []
   },
   "outputs": [
    {
     "data": {
      "text/plain": [
       "<matplotlib.axes._subplots.AxesSubplot at 0x7f13f0319ed0>"
      ]
     },
     "execution_count": 21,
     "metadata": {},
     "output_type": "execute_result"
    },
    {
     "data": {
      "image/png": "[encoded data removed]",
      "text/plain": [
       "<Figure size 432x288 with 1 Axes>"
      ]
     },
     "metadata": {
      "needs_background": "light"
     },
     "output_type": "display_data"
    }
   ],
   "source": [
    "# data num per user_id\n",
    "train.groupby(\"user_id\").agg(\"max\")[\"task_container_id\"].plot(kind=\"hist\")"
   ]
  },
  {
   "cell_type": "code",
   "execution_count": 22,
   "metadata": {
    "execution": {
     "iopub.execute_input": "2020-10-24T12:30:14.187449Z",
     "iopub.status.busy": "2020-10-24T12:30:14.186386Z",
     "iopub.status.idle": "2020-10-24T12:30:14.315980Z",
     "shell.execute_reply": "2020-10-24T12:30:14.315264Z"
    },
    "papermill": {
     "duration": 0.220524,
     "end_time": "2020-10-24T12:30:14.316138",
     "exception": false,
     "start_time": "2020-10-24T12:30:14.095614",
     "status": "completed"
    },
    "tags": []
   },
   "outputs": [
    {
     "data": {
      "text/plain": [
       "0.019352223402764303"
      ]
     },
     "execution_count": 22,
     "metadata": {},
     "output_type": "execute_result"
    }
   ],
   "source": [
    "train[\"content_type_id\"].sum() / train.shape[0] # lectureはわずか2%"
   ]
  },
  {
   "cell_type": "code",
   "execution_count": 23,
   "metadata": {
    "execution": {
     "iopub.execute_input": "2020-10-24T12:30:39.327227Z",
     "iopub.status.busy": "2020-10-24T12:30:39.326411Z",
     "iopub.status.idle": "2020-10-24T12:30:39.374575Z",
     "shell.execute_reply": "2020-10-24T12:30:39.373813Z"
    },
    "papermill": {
     "duration": 24.975332,
     "end_time": "2020-10-24T12:30:39.374706",
     "exception": false,
     "start_time": "2020-10-24T12:30:14.399374",
     "status": "completed"
    },
    "tags": []
   },
   "outputs": [
    {
     "data": {
      "text/plain": [
       "True     0.889404\n",
       "False    0.110596\n",
       "Name: prior_question_had_explanation, dtype: float64"
      ]
     },
     "execution_count": 23,
     "metadata": {},
     "output_type": "execute_result"
    }
   ],
   "source": [
    "# had explanation in almost 90%\n",
    "train[\"prior_question_had_explanation\"].value_counts(normalize=True)"
   ]
  },
  {
   "cell_type": "code",
   "execution_count": 24,
   "metadata": {
    "execution": {
     "iopub.execute_input": "2020-10-24T12:30:39.540829Z",
     "iopub.status.busy": "2020-10-24T12:30:39.539767Z",
     "iopub.status.idle": "2020-10-24T12:30:39.543281Z",
     "shell.execute_reply": "2020-10-24T12:30:39.542645Z"
    },
    "papermill": {
     "duration": 0.08802,
     "end_time": "2020-10-24T12:30:39.543407",
     "exception": false,
     "start_time": "2020-10-24T12:30:39.455387",
     "status": "completed"
    },
    "tags": []
   },
   "outputs": [],
   "source": [
    "#train = train.merge(questions[[\"question_id\", \"part\"]], how=\"left\", left_on=['content_id'], right_on=['question_id'])\n",
    "#train = train.loc[train['answered_correctly'] != -1].reset_index(drop=True)\n",
    "#tmp = train.groupby('part').agg({'answered_correctly': ['mean']}).copy()\n",
    "#tmp.columns = ['correct_rate']\n",
    "#tmp"
   ]
  },
  {
   "cell_type": "markdown",
   "metadata": {
    "papermill": {
     "duration": 0.079521,
     "end_time": "2020-10-24T12:30:39.703744",
     "exception": false,
     "start_time": "2020-10-24T12:30:39.624223",
     "status": "completed"
    },
    "tags": []
   },
   "source": [
    "# lecture\n",
    "- lectures.csv: metadata for the lectures watched by users as they progress in their education.\n",
    "- lecture_id: foreign key for the train/test content_id column, when the content type is lecture (1).\n",
    "- part: top level category code for the lecture.\n",
    "- tag: one tag codes for the lecture. The meaning of the tags will not be provided, but these codes are sufficient for clustering the lectures together.\n",
    "- type_of: brief description of the core purpose of the lecture"
   ]
  },
  {
   "cell_type": "code",
   "execution_count": 25,
   "metadata": {
    "execution": {
     "iopub.execute_input": "2020-10-24T12:30:39.868983Z",
     "iopub.status.busy": "2020-10-24T12:30:39.867731Z",
     "iopub.status.idle": "2020-10-24T12:30:39.873220Z",
     "shell.execute_reply": "2020-10-24T12:30:39.872583Z"
    },
    "papermill": {
     "duration": 0.09033,
     "end_time": "2020-10-24T12:30:39.873354",
     "exception": false,
     "start_time": "2020-10-24T12:30:39.783024",
     "status": "completed"
    },
    "tags": []
   },
   "outputs": [
    {
     "data": {
      "text/plain": [
       "(418, 4)"
      ]
     },
     "execution_count": 25,
     "metadata": {},
     "output_type": "execute_result"
    }
   ],
   "source": [
    "lectures.shape"
   ]
  },
  {
   "cell_type": "code",
   "execution_count": 26,
   "metadata": {
    "execution": {
     "iopub.execute_input": "2020-10-24T12:30:40.043986Z",
     "iopub.status.busy": "2020-10-24T12:30:40.043172Z",
     "iopub.status.idle": "2020-10-24T12:30:40.059826Z",
     "shell.execute_reply": "2020-10-24T12:30:40.059191Z"
    },
    "papermill": {
     "duration": 0.106605,
     "end_time": "2020-10-24T12:30:40.059969",
     "exception": false,
     "start_time": "2020-10-24T12:30:39.953364",
     "status": "completed"
    },
    "tags": []
   },
   "outputs": [
    {
     "data": {
      "text/html": [
       "<div>\n",
       "<style scoped>\n",
       "    .dataframe tbody tr th:only-of-type {\n",
       "        vertical-align: middle;\n",
       "    }\n",
       "\n",
       "    .dataframe tbody tr th {\n",
       "        vertical-align: top;\n",
       "    }\n",
       "\n",
       "    .dataframe thead th {\n",
       "        text-align: right;\n",
       "    }\n",
       "</style>\n",
       "<table border=\"1\" class=\"dataframe\">\n",
       "  <thead>\n",
       "    <tr style=\"text-align: right;\">\n",
       "      <th></th>\n",
       "      <th>lecture_id</th>\n",
       "      <th>tag</th>\n",
       "      <th>part</th>\n",
       "    </tr>\n",
       "  </thead>\n",
       "  <tbody>\n",
       "    <tr>\n",
       "      <th>count</th>\n",
       "      <td>418.000000</td>\n",
       "      <td>418.000000</td>\n",
       "      <td>418.000000</td>\n",
       "    </tr>\n",
       "    <tr>\n",
       "      <th>mean</th>\n",
       "      <td>16983.401914</td>\n",
       "      <td>94.480861</td>\n",
       "      <td>4.267943</td>\n",
       "    </tr>\n",
       "    <tr>\n",
       "      <th>std</th>\n",
       "      <td>9426.164660</td>\n",
       "      <td>53.586487</td>\n",
       "      <td>1.872424</td>\n",
       "    </tr>\n",
       "    <tr>\n",
       "      <th>min</th>\n",
       "      <td>89.000000</td>\n",
       "      <td>0.000000</td>\n",
       "      <td>1.000000</td>\n",
       "    </tr>\n",
       "    <tr>\n",
       "      <th>25%</th>\n",
       "      <td>9026.250000</td>\n",
       "      <td>50.250000</td>\n",
       "      <td>2.000000</td>\n",
       "    </tr>\n",
       "    <tr>\n",
       "      <th>50%</th>\n",
       "      <td>17161.500000</td>\n",
       "      <td>94.500000</td>\n",
       "      <td>5.000000</td>\n",
       "    </tr>\n",
       "    <tr>\n",
       "      <th>75%</th>\n",
       "      <td>24906.250000</td>\n",
       "      <td>140.000000</td>\n",
       "      <td>6.000000</td>\n",
       "    </tr>\n",
       "    <tr>\n",
       "      <th>max</th>\n",
       "      <td>32736.000000</td>\n",
       "      <td>187.000000</td>\n",
       "      <td>7.000000</td>\n",
       "    </tr>\n",
       "  </tbody>\n",
       "</table>\n",
       "</div>"
      ],
      "text/plain": [
       "         lecture_id         tag        part\n",
       "count    418.000000  418.000000  418.000000\n",
       "mean   16983.401914   94.480861    4.267943\n",
       "std     9426.164660   53.586487    1.872424\n",
       "min       89.000000    0.000000    1.000000\n",
       "25%     9026.250000   50.250000    2.000000\n",
       "50%    17161.500000   94.500000    5.000000\n",
       "75%    24906.250000  140.000000    6.000000\n",
       "max    32736.000000  187.000000    7.000000"
      ]
     },
     "execution_count": 26,
     "metadata": {},
     "output_type": "execute_result"
    }
   ],
   "source": [
    "lectures.describe()"
   ]
  },
  {
   "cell_type": "code",
   "execution_count": 27,
   "metadata": {
    "execution": {
     "iopub.execute_input": "2020-10-24T12:30:40.232795Z",
     "iopub.status.busy": "2020-10-24T12:30:40.231805Z",
     "iopub.status.idle": "2020-10-24T12:30:40.236769Z",
     "shell.execute_reply": "2020-10-24T12:30:40.236052Z"
    },
    "papermill": {
     "duration": 0.095999,
     "end_time": "2020-10-24T12:30:40.236897",
     "exception": false,
     "start_time": "2020-10-24T12:30:40.140898",
     "status": "completed"
    },
    "tags": []
   },
   "outputs": [
    {
     "data": {
      "text/html": [
       "<div>\n",
       "<style scoped>\n",
       "    .dataframe tbody tr th:only-of-type {\n",
       "        vertical-align: middle;\n",
       "    }\n",
       "\n",
       "    .dataframe tbody tr th {\n",
       "        vertical-align: top;\n",
       "    }\n",
       "\n",
       "    .dataframe thead th {\n",
       "        text-align: right;\n",
       "    }\n",
       "</style>\n",
       "<table border=\"1\" class=\"dataframe\">\n",
       "  <thead>\n",
       "    <tr style=\"text-align: right;\">\n",
       "      <th></th>\n",
       "      <th>lecture_id</th>\n",
       "      <th>tag</th>\n",
       "      <th>part</th>\n",
       "      <th>type_of</th>\n",
       "    </tr>\n",
       "  </thead>\n",
       "  <tbody>\n",
       "    <tr>\n",
       "      <th>0</th>\n",
       "      <td>89</td>\n",
       "      <td>159</td>\n",
       "      <td>5</td>\n",
       "      <td>concept</td>\n",
       "    </tr>\n",
       "    <tr>\n",
       "      <th>1</th>\n",
       "      <td>100</td>\n",
       "      <td>70</td>\n",
       "      <td>1</td>\n",
       "      <td>concept</td>\n",
       "    </tr>\n",
       "    <tr>\n",
       "      <th>2</th>\n",
       "      <td>185</td>\n",
       "      <td>45</td>\n",
       "      <td>6</td>\n",
       "      <td>concept</td>\n",
       "    </tr>\n",
       "    <tr>\n",
       "      <th>3</th>\n",
       "      <td>192</td>\n",
       "      <td>79</td>\n",
       "      <td>5</td>\n",
       "      <td>solving question</td>\n",
       "    </tr>\n",
       "    <tr>\n",
       "      <th>4</th>\n",
       "      <td>317</td>\n",
       "      <td>156</td>\n",
       "      <td>5</td>\n",
       "      <td>solving question</td>\n",
       "    </tr>\n",
       "  </tbody>\n",
       "</table>\n",
       "</div>"
      ],
      "text/plain": [
       "   lecture_id  tag  part           type_of\n",
       "0          89  159     5           concept\n",
       "1         100   70     1           concept\n",
       "2         185   45     6           concept\n",
       "3         192   79     5  solving question\n",
       "4         317  156     5  solving question"
      ]
     },
     "execution_count": 27,
     "metadata": {},
     "output_type": "execute_result"
    }
   ],
   "source": [
    "lectures.head()"
   ]
  },
  {
   "cell_type": "code",
   "execution_count": 28,
   "metadata": {
    "execution": {
     "iopub.execute_input": "2020-10-24T12:30:40.409214Z",
     "iopub.status.busy": "2020-10-24T12:30:40.408281Z",
     "iopub.status.idle": "2020-10-24T12:30:40.412743Z",
     "shell.execute_reply": "2020-10-24T12:30:40.412061Z"
    },
    "papermill": {
     "duration": 0.094197,
     "end_time": "2020-10-24T12:30:40.412876",
     "exception": false,
     "start_time": "2020-10-24T12:30:40.318679",
     "status": "completed"
    },
    "tags": []
   },
   "outputs": [
    {
     "data": {
      "text/plain": [
       "array([ 79, 156, 134,  80, 101,  74,  43, 109, 142, 140,   1,  26, 173,\n",
       "         7,  64, 141, 124, 161,   4,  94,  70, 119, 177,  54,  50, 116,\n",
       "        93, 136, 127,  53, 130,  13,  36,  62, 181, 164, 163,  85,  91,\n",
       "         9,  28,  98, 159,  27, 149,  61, 166,  14, 113, 182,  55,  49,\n",
       "       106,  47,  60, 179,  71,  82,  44,  25, 108,  96,   5, 152,  16,\n",
       "        73, 178,  42,  40,   6, 157,  33,  51, 133,  48, 167,  68,  95,\n",
       "        30, 174,  20,  66,  37,  45, 105, 151, 123, 114, 180,  89, 168,\n",
       "        78, 111,  52,  34,   8, 184, 176,  72, 129, 128,  65, 125, 170,\n",
       "       104,  69,   0])"
      ]
     },
     "execution_count": 28,
     "metadata": {},
     "output_type": "execute_result"
    }
   ],
   "source": [
    "lectures[lectures.type_of==\"solving question\"][\"tag\"].unique()"
   ]
  },
  {
   "cell_type": "code",
   "execution_count": 29,
   "metadata": {
    "execution": {
     "iopub.execute_input": "2020-10-24T12:30:40.587060Z",
     "iopub.status.busy": "2020-10-24T12:30:40.581722Z",
     "iopub.status.idle": "2020-10-24T12:30:40.591919Z",
     "shell.execute_reply": "2020-10-24T12:30:40.591185Z"
    },
    "papermill": {
     "duration": 0.097304,
     "end_time": "2020-10-24T12:30:40.592047",
     "exception": false,
     "start_time": "2020-10-24T12:30:40.494743",
     "status": "completed"
    },
    "tags": []
   },
   "outputs": [
    {
     "name": "stdout",
     "output_type": "stream",
     "text": [
      "<class 'pandas.core.frame.DataFrame'>\n",
      "RangeIndex: 418 entries, 0 to 417\n",
      "Data columns (total 4 columns):\n",
      " #   Column      Non-Null Count  Dtype \n",
      "---  ------      --------------  ----- \n",
      " 0   lecture_id  418 non-null    int64 \n",
      " 1   tag         418 non-null    int64 \n",
      " 2   part        418 non-null    int64 \n",
      " 3   type_of     418 non-null    object\n",
      "dtypes: int64(3), object(1)\n",
      "memory usage: 13.2+ KB\n"
     ]
    }
   ],
   "source": [
    "lectures.info()"
   ]
  },
  {
   "cell_type": "code",
   "execution_count": 30,
   "metadata": {
    "execution": {
     "iopub.execute_input": "2020-10-24T12:30:40.768042Z",
     "iopub.status.busy": "2020-10-24T12:30:40.767131Z",
     "iopub.status.idle": "2020-10-24T12:30:40.772197Z",
     "shell.execute_reply": "2020-10-24T12:30:40.771505Z"
    },
    "papermill": {
     "duration": 0.096222,
     "end_time": "2020-10-24T12:30:40.772342",
     "exception": false,
     "start_time": "2020-10-24T12:30:40.676120",
     "status": "completed"
    },
    "tags": []
   },
   "outputs": [
    {
     "data": {
      "text/plain": [
       "136    7\n",
       "116    6\n",
       "134    6\n",
       "27     6\n",
       "161    6\n",
       "      ..\n",
       "99     1\n",
       "57     1\n",
       "90     1\n",
       "83     1\n",
       "187    1\n",
       "Name: tag, Length: 151, dtype: int64"
      ]
     },
     "execution_count": 30,
     "metadata": {},
     "output_type": "execute_result"
    }
   ],
   "source": [
    "lectures.tag.value_counts() # 一部タグに重複あり"
   ]
  },
  {
   "cell_type": "code",
   "execution_count": 31,
   "metadata": {
    "execution": {
     "iopub.execute_input": "2020-10-24T12:30:40.949554Z",
     "iopub.status.busy": "2020-10-24T12:30:40.948463Z",
     "iopub.status.idle": "2020-10-24T12:30:40.952823Z",
     "shell.execute_reply": "2020-10-24T12:30:40.953532Z"
    },
    "papermill": {
     "duration": 0.097328,
     "end_time": "2020-10-24T12:30:40.953701",
     "exception": false,
     "start_time": "2020-10-24T12:30:40.856373",
     "status": "completed"
    },
    "tags": []
   },
   "outputs": [
    {
     "data": {
      "text/plain": [
       "5    143\n",
       "6     83\n",
       "2     56\n",
       "1     54\n",
       "7     32\n",
       "4     31\n",
       "3     19\n",
       "Name: part, dtype: int64"
      ]
     },
     "execution_count": 31,
     "metadata": {},
     "output_type": "execute_result"
    }
   ],
   "source": [
    "lectures.part.value_counts() # 一部タグに重複あり"
   ]
  },
  {
   "cell_type": "code",
   "execution_count": 32,
   "metadata": {
    "execution": {
     "iopub.execute_input": "2020-10-24T12:30:41.132552Z",
     "iopub.status.busy": "2020-10-24T12:30:41.131615Z",
     "iopub.status.idle": "2020-10-24T12:30:41.136523Z",
     "shell.execute_reply": "2020-10-24T12:30:41.135882Z"
    },
    "papermill": {
     "duration": 0.097888,
     "end_time": "2020-10-24T12:30:41.136675",
     "exception": false,
     "start_time": "2020-10-24T12:30:41.038787",
     "status": "completed"
    },
    "tags": []
   },
   "outputs": [
    {
     "data": {
      "text/plain": [
       "concept             222\n",
       "solving question    186\n",
       "intention             7\n",
       "starter               3\n",
       "Name: type_of, dtype: int64"
      ]
     },
     "execution_count": 32,
     "metadata": {},
     "output_type": "execute_result"
    }
   ],
   "source": [
    "lectures.type_of.value_counts() # 一部タグに重複あり"
   ]
  },
  {
   "cell_type": "code",
   "execution_count": 33,
   "metadata": {
    "execution": {
     "iopub.execute_input": "2020-10-24T12:30:41.368325Z",
     "iopub.status.busy": "2020-10-24T12:30:41.367199Z",
     "iopub.status.idle": "2020-10-24T12:30:41.371145Z",
     "shell.execute_reply": "2020-10-24T12:30:41.371687Z"
    },
    "papermill": {
     "duration": 0.097353,
     "end_time": "2020-10-24T12:30:41.371853",
     "exception": false,
     "start_time": "2020-10-24T12:30:41.274500",
     "status": "completed"
    },
    "tags": []
   },
   "outputs": [
    {
     "data": {
      "text/plain": [
       "lecture_id    0\n",
       "tag           0\n",
       "part          0\n",
       "type_of       0\n",
       "dtype: int64"
      ]
     },
     "execution_count": 33,
     "metadata": {},
     "output_type": "execute_result"
    }
   ],
   "source": [
    "lectures.isnull().sum() # no missing value"
   ]
  },
  {
   "cell_type": "code",
   "execution_count": 34,
   "metadata": {
    "execution": {
     "iopub.execute_input": "2020-10-24T12:30:41.548401Z",
     "iopub.status.busy": "2020-10-24T12:30:41.547536Z",
     "iopub.status.idle": "2020-10-24T12:30:41.552557Z",
     "shell.execute_reply": "2020-10-24T12:30:41.551794Z"
    },
    "papermill": {
     "duration": 0.09574,
     "end_time": "2020-10-24T12:30:41.552688",
     "exception": false,
     "start_time": "2020-10-24T12:30:41.456948",
     "status": "completed"
    },
    "tags": []
   },
   "outputs": [
    {
     "data": {
      "text/plain": [
       "418"
      ]
     },
     "execution_count": 34,
     "metadata": {},
     "output_type": "execute_result"
    }
   ],
   "source": [
    "len(lectures.lecture_id.unique())"
   ]
  },
  {
   "cell_type": "code",
   "execution_count": 35,
   "metadata": {
    "execution": {
     "iopub.execute_input": "2020-10-24T12:30:41.733543Z",
     "iopub.status.busy": "2020-10-24T12:30:41.731975Z",
     "iopub.status.idle": "2020-10-24T12:30:42.483761Z",
     "shell.execute_reply": "2020-10-24T12:30:42.482979Z"
    },
    "papermill": {
     "duration": 0.843958,
     "end_time": "2020-10-24T12:30:42.483892",
     "exception": false,
     "start_time": "2020-10-24T12:30:41.639934",
     "status": "completed"
    },
    "tags": []
   },
   "outputs": [
    {
     "data": {
      "text/plain": [
       "417"
      ]
     },
     "execution_count": 35,
     "metadata": {},
     "output_type": "execute_result"
    }
   ],
   "source": [
    "len(set(lectures.lecture_id.unique()) & set(train.content_id.unique()))"
   ]
  },
  {
   "cell_type": "code",
   "execution_count": 36,
   "metadata": {
    "execution": {
     "iopub.execute_input": "2020-10-24T12:30:42.665302Z",
     "iopub.status.busy": "2020-10-24T12:30:42.664457Z",
     "iopub.status.idle": "2020-10-24T12:30:43.402026Z",
     "shell.execute_reply": "2020-10-24T12:30:43.401242Z"
    },
    "papermill": {
     "duration": 0.830886,
     "end_time": "2020-10-24T12:30:43.402183",
     "exception": false,
     "start_time": "2020-10-24T12:30:42.571297",
     "status": "completed"
    },
    "tags": []
   },
   "outputs": [
    {
     "data": {
      "text/plain": [
       "{28098}"
      ]
     },
     "execution_count": 36,
     "metadata": {},
     "output_type": "execute_result"
    }
   ],
   "source": [
    "# lecture id 28098 isn't included in training set\n",
    "set(lectures.lecture_id.unique()) - set(set(lectures.lecture_id.unique()) & set(train.content_id.unique()))"
   ]
  },
  {
   "cell_type": "code",
   "execution_count": 37,
   "metadata": {
    "execution": {
     "iopub.execute_input": "2020-10-24T12:30:43.589606Z",
     "iopub.status.busy": "2020-10-24T12:30:43.588430Z",
     "iopub.status.idle": "2020-10-24T12:30:43.592560Z",
     "shell.execute_reply": "2020-10-24T12:30:43.593111Z"
    },
    "papermill": {
     "duration": 0.103029,
     "end_time": "2020-10-24T12:30:43.593283",
     "exception": false,
     "start_time": "2020-10-24T12:30:43.490254",
     "status": "completed"
    },
    "tags": []
   },
   "outputs": [
    {
     "data": {
      "text/html": [
       "<div>\n",
       "<style scoped>\n",
       "    .dataframe tbody tr th:only-of-type {\n",
       "        vertical-align: middle;\n",
       "    }\n",
       "\n",
       "    .dataframe tbody tr th {\n",
       "        vertical-align: top;\n",
       "    }\n",
       "\n",
       "    .dataframe thead th {\n",
       "        text-align: right;\n",
       "    }\n",
       "</style>\n",
       "<table border=\"1\" class=\"dataframe\">\n",
       "  <thead>\n",
       "    <tr style=\"text-align: right;\">\n",
       "      <th></th>\n",
       "      <th>lecture_id</th>\n",
       "      <th>tag</th>\n",
       "      <th>part</th>\n",
       "      <th>type_of</th>\n",
       "    </tr>\n",
       "  </thead>\n",
       "  <tbody>\n",
       "    <tr>\n",
       "      <th>355</th>\n",
       "      <td>28098</td>\n",
       "      <td>166</td>\n",
       "      <td>6</td>\n",
       "      <td>solving question</td>\n",
       "    </tr>\n",
       "  </tbody>\n",
       "</table>\n",
       "</div>"
      ],
      "text/plain": [
       "     lecture_id  tag  part           type_of\n",
       "355       28098  166     6  solving question"
      ]
     },
     "execution_count": 37,
     "metadata": {},
     "output_type": "execute_result"
    }
   ],
   "source": [
    "lectures[lectures.lecture_id==28098]"
   ]
  },
  {
   "cell_type": "code",
   "execution_count": 38,
   "metadata": {
    "execution": {
     "iopub.execute_input": "2020-10-24T12:30:43.778294Z",
     "iopub.status.busy": "2020-10-24T12:30:43.777382Z",
     "iopub.status.idle": "2020-10-24T12:30:43.781726Z",
     "shell.execute_reply": "2020-10-24T12:30:43.782294Z"
    },
    "papermill": {
     "duration": 0.098837,
     "end_time": "2020-10-24T12:30:43.782473",
     "exception": false,
     "start_time": "2020-10-24T12:30:43.683636",
     "status": "completed"
    },
    "tags": []
   },
   "outputs": [
    {
     "data": {
      "text/plain": [
       "151"
      ]
     },
     "execution_count": 38,
     "metadata": {},
     "output_type": "execute_result"
    }
   ],
   "source": [
    "len(lectures.tag.unique()) # overlap in tag"
   ]
  },
  {
   "cell_type": "code",
   "execution_count": 39,
   "metadata": {
    "execution": {
     "iopub.execute_input": "2020-10-24T12:30:43.965168Z",
     "iopub.status.busy": "2020-10-24T12:30:43.964101Z",
     "iopub.status.idle": "2020-10-24T12:30:43.967023Z",
     "shell.execute_reply": "2020-10-24T12:30:43.967644Z"
    },
    "papermill": {
     "duration": 0.096984,
     "end_time": "2020-10-24T12:30:43.967804",
     "exception": false,
     "start_time": "2020-10-24T12:30:43.870820",
     "status": "completed"
    },
    "tags": []
   },
   "outputs": [],
   "source": [
    "#lectures['type_of'] = lectures['type_of'].replace('solving question', 'solving_question')\n",
    "#lectures = pd.get_dummies(lectures, columns=['part', 'type_of'])"
   ]
  },
  {
   "cell_type": "code",
   "execution_count": 40,
   "metadata": {
    "execution": {
     "iopub.execute_input": "2020-10-24T12:30:44.152309Z",
     "iopub.status.busy": "2020-10-24T12:30:44.151174Z",
     "iopub.status.idle": "2020-10-24T12:30:44.154753Z",
     "shell.execute_reply": "2020-10-24T12:30:44.154175Z"
    },
    "papermill": {
     "duration": 0.097315,
     "end_time": "2020-10-24T12:30:44.154884",
     "exception": false,
     "start_time": "2020-10-24T12:30:44.057569",
     "status": "completed"
    },
    "tags": []
   },
   "outputs": [],
   "source": [
    "#part_lectures_columns = [column for column in lectures.columns if column.startswith('part')]\n",
    "#types_of_lectures_columns = [column for column in lectures.columns if column.startswith('type_of_')]"
   ]
  },
  {
   "cell_type": "markdown",
   "metadata": {
    "papermill": {
     "duration": 0.088341,
     "end_time": "2020-10-24T12:30:44.332289",
     "exception": false,
     "start_time": "2020-10-24T12:30:44.243948",
     "status": "completed"
    },
    "tags": []
   },
   "source": [
    "# questions\n",
    "- questions.csv: metadata for the questions posed to users.\n",
    "- question_id: foreign key for the train/test content_id column, when the content type is question (0).\n",
    "- bundle_id: code for which questions are served together.\n",
    "- correct_answer: the answer to the question. Can be compared with the train user_answer column to check if the user was right.\n",
    "- part: the relevant section of the TOEIC test.\n",
    "- tags: one or more detailed tag codes for the question. The meaning of the tags will not be provided, but these codes are sufficient for clustering the questions together."
   ]
  },
  {
   "cell_type": "code",
   "execution_count": 41,
   "metadata": {
    "execution": {
     "iopub.execute_input": "2020-10-24T12:30:44.516266Z",
     "iopub.status.busy": "2020-10-24T12:30:44.515050Z",
     "iopub.status.idle": "2020-10-24T12:30:44.520053Z",
     "shell.execute_reply": "2020-10-24T12:30:44.519305Z"
    },
    "papermill": {
     "duration": 0.098923,
     "end_time": "2020-10-24T12:30:44.520224",
     "exception": false,
     "start_time": "2020-10-24T12:30:44.421301",
     "status": "completed"
    },
    "tags": []
   },
   "outputs": [
    {
     "data": {
      "text/plain": [
       "(13523, 5)"
      ]
     },
     "execution_count": 41,
     "metadata": {},
     "output_type": "execute_result"
    }
   ],
   "source": [
    "questions.shape"
   ]
  },
  {
   "cell_type": "code",
   "execution_count": 42,
   "metadata": {
    "execution": {
     "iopub.execute_input": "2020-10-24T12:30:44.717451Z",
     "iopub.status.busy": "2020-10-24T12:30:44.713493Z",
     "iopub.status.idle": "2020-10-24T12:30:44.722915Z",
     "shell.execute_reply": "2020-10-24T12:30:44.722141Z"
    },
    "papermill": {
     "duration": 0.113283,
     "end_time": "2020-10-24T12:30:44.723046",
     "exception": false,
     "start_time": "2020-10-24T12:30:44.609763",
     "status": "completed"
    },
    "tags": []
   },
   "outputs": [
    {
     "data": {
      "text/plain": [
       "8                    738\n",
       "73                   617\n",
       "53                   523\n",
       "1                    413\n",
       "96                   373\n",
       "                    ... \n",
       "157 12 102             1\n",
       "84 145 42 135 162      1\n",
       "82 150 162 38          1\n",
       "118 42 46 135          1\n",
       "129 17 56 38 102       1\n",
       "Name: tags, Length: 1519, dtype: int64"
      ]
     },
     "execution_count": 42,
     "metadata": {},
     "output_type": "execute_result"
    }
   ],
   "source": [
    "questions[\"tags\"].value_counts()"
   ]
  },
  {
   "cell_type": "code",
   "execution_count": 43,
   "metadata": {
    "execution": {
     "iopub.execute_input": "2020-10-24T12:30:44.913422Z",
     "iopub.status.busy": "2020-10-24T12:30:44.912510Z",
     "iopub.status.idle": "2020-10-24T12:30:44.917483Z",
     "shell.execute_reply": "2020-10-24T12:30:44.916699Z"
    },
    "papermill": {
     "duration": 0.103183,
     "end_time": "2020-10-24T12:30:44.917617",
     "exception": false,
     "start_time": "2020-10-24T12:30:44.814434",
     "status": "completed"
    },
    "tags": []
   },
   "outputs": [
    {
     "data": {
      "text/plain": [
       "0    0.274791\n",
       "3    0.262072\n",
       "1    0.257191\n",
       "2    0.205945\n",
       "Name: correct_answer, dtype: float64"
      ]
     },
     "execution_count": 43,
     "metadata": {},
     "output_type": "execute_result"
    }
   ],
   "source": [
    "questions.correct_answer.value_counts(normalize=True) # 2 has the smallest ratio of correct answer"
   ]
  },
  {
   "cell_type": "code",
   "execution_count": 44,
   "metadata": {
    "execution": {
     "iopub.execute_input": "2020-10-24T12:30:45.111826Z",
     "iopub.status.busy": "2020-10-24T12:30:45.110869Z",
     "iopub.status.idle": "2020-10-24T12:30:45.116368Z",
     "shell.execute_reply": "2020-10-24T12:30:45.115706Z"
    },
    "papermill": {
     "duration": 0.107914,
     "end_time": "2020-10-24T12:30:45.116525",
     "exception": false,
     "start_time": "2020-10-24T12:30:45.008611",
     "status": "completed"
    },
    "tags": []
   },
   "outputs": [
    {
     "data": {
      "text/html": [
       "<div>\n",
       "<style scoped>\n",
       "    .dataframe tbody tr th:only-of-type {\n",
       "        vertical-align: middle;\n",
       "    }\n",
       "\n",
       "    .dataframe tbody tr th {\n",
       "        vertical-align: top;\n",
       "    }\n",
       "\n",
       "    .dataframe thead th {\n",
       "        text-align: right;\n",
       "    }\n",
       "</style>\n",
       "<table border=\"1\" class=\"dataframe\">\n",
       "  <thead>\n",
       "    <tr style=\"text-align: right;\">\n",
       "      <th></th>\n",
       "      <th>question_id</th>\n",
       "      <th>bundle_id</th>\n",
       "      <th>correct_answer</th>\n",
       "      <th>part</th>\n",
       "      <th>tags</th>\n",
       "    </tr>\n",
       "  </thead>\n",
       "  <tbody>\n",
       "    <tr>\n",
       "      <th>0</th>\n",
       "      <td>0</td>\n",
       "      <td>0</td>\n",
       "      <td>0</td>\n",
       "      <td>1</td>\n",
       "      <td>51 131 162 38</td>\n",
       "    </tr>\n",
       "    <tr>\n",
       "      <th>1</th>\n",
       "      <td>1</td>\n",
       "      <td>1</td>\n",
       "      <td>1</td>\n",
       "      <td>1</td>\n",
       "      <td>131 36 81</td>\n",
       "    </tr>\n",
       "    <tr>\n",
       "      <th>2</th>\n",
       "      <td>2</td>\n",
       "      <td>2</td>\n",
       "      <td>0</td>\n",
       "      <td>1</td>\n",
       "      <td>131 101 162 92</td>\n",
       "    </tr>\n",
       "    <tr>\n",
       "      <th>3</th>\n",
       "      <td>3</td>\n",
       "      <td>3</td>\n",
       "      <td>0</td>\n",
       "      <td>1</td>\n",
       "      <td>131 149 162 29</td>\n",
       "    </tr>\n",
       "    <tr>\n",
       "      <th>4</th>\n",
       "      <td>4</td>\n",
       "      <td>4</td>\n",
       "      <td>3</td>\n",
       "      <td>1</td>\n",
       "      <td>131 5 162 38</td>\n",
       "    </tr>\n",
       "  </tbody>\n",
       "</table>\n",
       "</div>"
      ],
      "text/plain": [
       "   question_id  bundle_id  correct_answer  part            tags\n",
       "0            0          0               0     1   51 131 162 38\n",
       "1            1          1               1     1       131 36 81\n",
       "2            2          2               0     1  131 101 162 92\n",
       "3            3          3               0     1  131 149 162 29\n",
       "4            4          4               3     1    131 5 162 38"
      ]
     },
     "execution_count": 44,
     "metadata": {},
     "output_type": "execute_result"
    }
   ],
   "source": [
    "questions.head()"
   ]
  },
  {
   "cell_type": "code",
   "execution_count": 45,
   "metadata": {
    "execution": {
     "iopub.execute_input": "2020-10-24T12:30:45.313068Z",
     "iopub.status.busy": "2020-10-24T12:30:45.306988Z",
     "iopub.status.idle": "2020-10-24T12:30:45.317752Z",
     "shell.execute_reply": "2020-10-24T12:30:45.316963Z"
    },
    "papermill": {
     "duration": 0.109948,
     "end_time": "2020-10-24T12:30:45.317894",
     "exception": false,
     "start_time": "2020-10-24T12:30:45.207946",
     "status": "completed"
    },
    "tags": []
   },
   "outputs": [
    {
     "name": "stdout",
     "output_type": "stream",
     "text": [
      "<class 'pandas.core.frame.DataFrame'>\n",
      "RangeIndex: 13523 entries, 0 to 13522\n",
      "Data columns (total 5 columns):\n",
      " #   Column          Non-Null Count  Dtype \n",
      "---  ------          --------------  ----- \n",
      " 0   question_id     13523 non-null  int64 \n",
      " 1   bundle_id       13523 non-null  int64 \n",
      " 2   correct_answer  13523 non-null  int64 \n",
      " 3   part            13523 non-null  int64 \n",
      " 4   tags            13522 non-null  object\n",
      "dtypes: int64(4), object(1)\n",
      "memory usage: 528.4+ KB\n"
     ]
    }
   ],
   "source": [
    "questions.info()"
   ]
  },
  {
   "cell_type": "code",
   "execution_count": 46,
   "metadata": {
    "execution": {
     "iopub.execute_input": "2020-10-24T12:30:45.512590Z",
     "iopub.status.busy": "2020-10-24T12:30:45.511625Z",
     "iopub.status.idle": "2020-10-24T12:30:45.517189Z",
     "shell.execute_reply": "2020-10-24T12:30:45.517726Z"
    },
    "papermill": {
     "duration": 0.103694,
     "end_time": "2020-10-24T12:30:45.517897",
     "exception": false,
     "start_time": "2020-10-24T12:30:45.414203",
     "status": "completed"
    },
    "tags": []
   },
   "outputs": [
    {
     "data": {
      "text/plain": [
       "13523"
      ]
     },
     "execution_count": 46,
     "metadata": {},
     "output_type": "execute_result"
    }
   ],
   "source": [
    "len(questions.question_id.unique()) # question_id is unique"
   ]
  },
  {
   "cell_type": "code",
   "execution_count": 47,
   "metadata": {
    "execution": {
     "iopub.execute_input": "2020-10-24T12:30:45.710772Z",
     "iopub.status.busy": "2020-10-24T12:30:45.709668Z",
     "iopub.status.idle": "2020-10-24T12:30:45.715515Z",
     "shell.execute_reply": "2020-10-24T12:30:45.714922Z"
    },
    "papermill": {
     "duration": 0.104025,
     "end_time": "2020-10-24T12:30:45.715649",
     "exception": false,
     "start_time": "2020-10-24T12:30:45.611624",
     "status": "completed"
    },
    "tags": []
   },
   "outputs": [
    {
     "data": {
      "text/plain": [
       "9765"
      ]
     },
     "execution_count": 47,
     "metadata": {},
     "output_type": "execute_result"
    }
   ],
   "source": [
    "len(questions.bundle_id.unique()) # bundle_id is not unique"
   ]
  },
  {
   "cell_type": "code",
   "execution_count": 48,
   "metadata": {
    "execution": {
     "iopub.execute_input": "2020-10-24T12:30:45.935220Z",
     "iopub.status.busy": "2020-10-24T12:30:45.931221Z",
     "iopub.status.idle": "2020-10-24T12:30:45.941063Z",
     "shell.execute_reply": "2020-10-24T12:30:45.940431Z"
    },
    "papermill": {
     "duration": 0.131545,
     "end_time": "2020-10-24T12:30:45.941239",
     "exception": false,
     "start_time": "2020-10-24T12:30:45.809694",
     "status": "completed"
    },
    "tags": []
   },
   "outputs": [
    {
     "data": {
      "text/plain": [
       "5    5511\n",
       "2    1647\n",
       "3    1562\n",
       "4    1439\n",
       "6    1212\n",
       "7    1160\n",
       "1     992\n",
       "Name: part, dtype: int64"
      ]
     },
     "execution_count": 48,
     "metadata": {},
     "output_type": "execute_result"
    }
   ],
   "source": [
    "questions.part.value_counts()"
   ]
  },
  {
   "cell_type": "code",
   "execution_count": 49,
   "metadata": {
    "execution": {
     "iopub.execute_input": "2020-10-24T12:30:46.144425Z",
     "iopub.status.busy": "2020-10-24T12:30:46.143265Z",
     "iopub.status.idle": "2020-10-24T12:30:46.150465Z",
     "shell.execute_reply": "2020-10-24T12:30:46.149682Z"
    },
    "papermill": {
     "duration": 0.110061,
     "end_time": "2020-10-24T12:30:46.150592",
     "exception": false,
     "start_time": "2020-10-24T12:30:46.040531",
     "status": "completed"
    },
    "tags": []
   },
   "outputs": [
    {
     "data": {
      "text/plain": [
       "question_id       0\n",
       "bundle_id         0\n",
       "correct_answer    0\n",
       "part              0\n",
       "tags              1\n",
       "dtype: int64"
      ]
     },
     "execution_count": 49,
     "metadata": {},
     "output_type": "execute_result"
    }
   ],
   "source": [
    "questions.isnull().sum()"
   ]
  },
  {
   "cell_type": "markdown",
   "metadata": {
    "papermill": {
     "duration": 0.094738,
     "end_time": "2020-10-24T12:30:46.341136",
     "exception": false,
     "start_time": "2020-10-24T12:30:46.246398",
     "status": "completed"
    },
    "tags": []
   },
   "source": [
    "# combi of question and lecture"
   ]
  },
  {
   "cell_type": "code",
   "execution_count": 50,
   "metadata": {
    "execution": {
     "iopub.execute_input": "2020-10-24T12:30:46.560343Z",
     "iopub.status.busy": "2020-10-24T12:30:46.546686Z",
     "iopub.status.idle": "2020-10-24T12:30:54.868386Z",
     "shell.execute_reply": "2020-10-24T12:30:54.867663Z"
    },
    "papermill": {
     "duration": 8.42457,
     "end_time": "2020-10-24T12:30:54.868547",
     "exception": false,
     "start_time": "2020-10-24T12:30:46.443977",
     "status": "completed"
    },
    "tags": []
   },
   "outputs": [],
   "source": [
    "# https://stackoverflow.com/questions/16236684/apply-pandas-function-to-column-to-create-multiple-new-columns\n",
    "# https://stackoverflow.com/questions/16228248/how-can-i-get-list-of-values-from-dict\n",
    "def calc(tags):\n",
    "    type_count = {'concept':0, 'solving question': 0, 'intention': 0, 'starter':0}\n",
    "    try:\n",
    "        tag_list = tags.split(\" \")\n",
    "        type_list = list(lectures[lectures.tag.isin(tag_list)][\"type_of\"])\n",
    "    except:\n",
    "        ans = list(type_count.values())\n",
    "        return ans[0], ans[1], ans[2], ans[3] \n",
    "    for ele in type_list:\n",
    "        type_count[ele] += 1\n",
    "    ans = list(type_count.values())\n",
    "    #print(tag_list, type_list ,ans)\n",
    "    return ans[0], ans[1], ans[2], ans[3] \n",
    "questions['concept'], questions['solving question'], questions['intention'], questions['starter'] = zip(*questions['tags'].map(calc))\n",
    "#questions.apply(lambda x: calc(x), axis=1)"
   ]
  },
  {
   "cell_type": "code",
   "execution_count": 51,
   "metadata": {
    "execution": {
     "iopub.execute_input": "2020-10-24T12:30:55.069686Z",
     "iopub.status.busy": "2020-10-24T12:30:55.068694Z",
     "iopub.status.idle": "2020-10-24T12:30:55.073409Z",
     "shell.execute_reply": "2020-10-24T12:30:55.072792Z"
    },
    "papermill": {
     "duration": 0.109875,
     "end_time": "2020-10-24T12:30:55.073541",
     "exception": false,
     "start_time": "2020-10-24T12:30:54.963666",
     "status": "completed"
    },
    "tags": []
   },
   "outputs": [
    {
     "data": {
      "text/html": [
       "<div>\n",
       "<style scoped>\n",
       "    .dataframe tbody tr th:only-of-type {\n",
       "        vertical-align: middle;\n",
       "    }\n",
       "\n",
       "    .dataframe tbody tr th {\n",
       "        vertical-align: top;\n",
       "    }\n",
       "\n",
       "    .dataframe thead th {\n",
       "        text-align: right;\n",
       "    }\n",
       "</style>\n",
       "<table border=\"1\" class=\"dataframe\">\n",
       "  <thead>\n",
       "    <tr style=\"text-align: right;\">\n",
       "      <th></th>\n",
       "      <th>lecture_id</th>\n",
       "      <th>tag</th>\n",
       "      <th>part</th>\n",
       "      <th>type_of</th>\n",
       "    </tr>\n",
       "  </thead>\n",
       "  <tbody>\n",
       "  </tbody>\n",
       "</table>\n",
       "</div>"
      ],
      "text/plain": [
       "Empty DataFrame\n",
       "Columns: [lecture_id, tag, part, type_of]\n",
       "Index: []"
      ]
     },
     "execution_count": 51,
     "metadata": {},
     "output_type": "execute_result"
    }
   ],
   "source": [
    "lectures[lectures.tag==38]"
   ]
  },
  {
   "cell_type": "code",
   "execution_count": 52,
   "metadata": {
    "execution": {
     "iopub.execute_input": "2020-10-24T12:30:55.280119Z",
     "iopub.status.busy": "2020-10-24T12:30:55.279026Z",
     "iopub.status.idle": "2020-10-24T12:30:55.283646Z",
     "shell.execute_reply": "2020-10-24T12:30:55.284257Z"
    },
    "papermill": {
     "duration": 0.115552,
     "end_time": "2020-10-24T12:30:55.284418",
     "exception": false,
     "start_time": "2020-10-24T12:30:55.168866",
     "status": "completed"
    },
    "tags": []
   },
   "outputs": [
    {
     "data": {
      "text/html": [
       "<div>\n",
       "<style scoped>\n",
       "    .dataframe tbody tr th:only-of-type {\n",
       "        vertical-align: middle;\n",
       "    }\n",
       "\n",
       "    .dataframe tbody tr th {\n",
       "        vertical-align: top;\n",
       "    }\n",
       "\n",
       "    .dataframe thead th {\n",
       "        text-align: right;\n",
       "    }\n",
       "</style>\n",
       "<table border=\"1\" class=\"dataframe\">\n",
       "  <thead>\n",
       "    <tr style=\"text-align: right;\">\n",
       "      <th></th>\n",
       "      <th>question_id</th>\n",
       "      <th>bundle_id</th>\n",
       "      <th>correct_answer</th>\n",
       "      <th>part</th>\n",
       "      <th>tags</th>\n",
       "      <th>concept</th>\n",
       "      <th>solving question</th>\n",
       "      <th>intention</th>\n",
       "      <th>starter</th>\n",
       "    </tr>\n",
       "  </thead>\n",
       "  <tbody>\n",
       "    <tr>\n",
       "      <th>0</th>\n",
       "      <td>0</td>\n",
       "      <td>0</td>\n",
       "      <td>0</td>\n",
       "      <td>1</td>\n",
       "      <td>51 131 162 38</td>\n",
       "      <td>1</td>\n",
       "      <td>1</td>\n",
       "      <td>0</td>\n",
       "      <td>0</td>\n",
       "    </tr>\n",
       "    <tr>\n",
       "      <th>1</th>\n",
       "      <td>1</td>\n",
       "      <td>1</td>\n",
       "      <td>1</td>\n",
       "      <td>1</td>\n",
       "      <td>131 36 81</td>\n",
       "      <td>1</td>\n",
       "      <td>3</td>\n",
       "      <td>0</td>\n",
       "      <td>0</td>\n",
       "    </tr>\n",
       "    <tr>\n",
       "      <th>2</th>\n",
       "      <td>2</td>\n",
       "      <td>2</td>\n",
       "      <td>0</td>\n",
       "      <td>1</td>\n",
       "      <td>131 101 162 92</td>\n",
       "      <td>1</td>\n",
       "      <td>3</td>\n",
       "      <td>0</td>\n",
       "      <td>0</td>\n",
       "    </tr>\n",
       "    <tr>\n",
       "      <th>3</th>\n",
       "      <td>3</td>\n",
       "      <td>3</td>\n",
       "      <td>0</td>\n",
       "      <td>1</td>\n",
       "      <td>131 149 162 29</td>\n",
       "      <td>1</td>\n",
       "      <td>3</td>\n",
       "      <td>0</td>\n",
       "      <td>0</td>\n",
       "    </tr>\n",
       "    <tr>\n",
       "      <th>4</th>\n",
       "      <td>4</td>\n",
       "      <td>4</td>\n",
       "      <td>3</td>\n",
       "      <td>1</td>\n",
       "      <td>131 5 162 38</td>\n",
       "      <td>1</td>\n",
       "      <td>1</td>\n",
       "      <td>0</td>\n",
       "      <td>0</td>\n",
       "    </tr>\n",
       "  </tbody>\n",
       "</table>\n",
       "</div>"
      ],
      "text/plain": [
       "   question_id  bundle_id  correct_answer  part            tags  concept  \\\n",
       "0            0          0               0     1   51 131 162 38        1   \n",
       "1            1          1               1     1       131 36 81        1   \n",
       "2            2          2               0     1  131 101 162 92        1   \n",
       "3            3          3               0     1  131 149 162 29        1   \n",
       "4            4          4               3     1    131 5 162 38        1   \n",
       "\n",
       "   solving question  intention  starter  \n",
       "0                 1          0        0  \n",
       "1                 3          0        0  \n",
       "2                 3          0        0  \n",
       "3                 3          0        0  \n",
       "4                 1          0        0  "
      ]
     },
     "execution_count": 52,
     "metadata": {},
     "output_type": "execute_result"
    }
   ],
   "source": [
    "questions.head()"
   ]
  },
  {
   "cell_type": "markdown",
   "metadata": {
    "papermill": {
     "duration": 0.097924,
     "end_time": "2020-10-24T12:30:55.479401",
     "exception": false,
     "start_time": "2020-10-24T12:30:55.381477",
     "status": "completed"
    },
    "tags": []
   },
   "source": [
    "# example_test\n",
    "- row_id: (int64) ID code for the row.\n",
    "- timestamp: (int64) the time between this user interaction and the first event completion from that user.\n",
    "- user_id: (int32) ID code for the user.\n",
    "- content_id: (int16) ID code for the user interaction\n",
    "- content_type_id: (int8) 0 if the event was a question being posed to the user, 1 if the event was the user watching a lecture.\n",
    "- task_container_id: (int16) Id code for the batch of questions or lectures. For example, a user might see three questions in a row before seeing the explanations for any of them. Those three would all share a task_container_id.\n",
    "- user_answer: (int8) the user's answer to the question, if any. Read -1 as null, for lectures.\n",
    "- answered_correctly: (int8) if the user responded correctly. Read -1 as null, for lectures.\n",
    "- prior_question_elapsed_time: (float32) The average time it took a user to answer each question in the previous question bundle, ignoring any lectures in between. Is null for a user's first question bundle or lecture. Note that the time is the average time a user took to solve each question in the previous bundle.\n",
    "- prior_question_had_explanation: (bool) Whether or not the user saw an explanation and the correct response(s) after answering the previous question bundle, ignoring any lectures in between. The value is shared across a single question bundle, and is null for a user's first question bundle or lecture. Typically the first several questions a user sees were part of an onboarding diagnostic test where they did not get any feedback."
   ]
  },
  {
   "cell_type": "code",
   "execution_count": 53,
   "metadata": {
    "execution": {
     "iopub.execute_input": "2020-10-24T12:30:55.691128Z",
     "iopub.status.busy": "2020-10-24T12:30:55.689913Z",
     "iopub.status.idle": "2020-10-24T12:30:55.694838Z",
     "shell.execute_reply": "2020-10-24T12:30:55.694159Z"
    },
    "papermill": {
     "duration": 0.118266,
     "end_time": "2020-10-24T12:30:55.695015",
     "exception": false,
     "start_time": "2020-10-24T12:30:55.576749",
     "status": "completed"
    },
    "tags": []
   },
   "outputs": [
    {
     "data": {
      "text/html": [
       "<div>\n",
       "<style scoped>\n",
       "    .dataframe tbody tr th:only-of-type {\n",
       "        vertical-align: middle;\n",
       "    }\n",
       "\n",
       "    .dataframe tbody tr th {\n",
       "        vertical-align: top;\n",
       "    }\n",
       "\n",
       "    .dataframe thead th {\n",
       "        text-align: right;\n",
       "    }\n",
       "</style>\n",
       "<table border=\"1\" class=\"dataframe\">\n",
       "  <thead>\n",
       "    <tr style=\"text-align: right;\">\n",
       "      <th></th>\n",
       "      <th>row_id</th>\n",
       "      <th>group_num</th>\n",
       "      <th>timestamp</th>\n",
       "      <th>user_id</th>\n",
       "      <th>content_id</th>\n",
       "      <th>content_type_id</th>\n",
       "      <th>task_container_id</th>\n",
       "      <th>prior_question_elapsed_time</th>\n",
       "      <th>prior_question_had_explanation</th>\n",
       "      <th>prior_group_answers_correct</th>\n",
       "      <th>prior_group_responses</th>\n",
       "    </tr>\n",
       "  </thead>\n",
       "  <tbody>\n",
       "    <tr>\n",
       "      <th>0</th>\n",
       "      <td>0</td>\n",
       "      <td>0</td>\n",
       "      <td>0</td>\n",
       "      <td>275030867</td>\n",
       "      <td>5729</td>\n",
       "      <td>0</td>\n",
       "      <td>0</td>\n",
       "      <td>NaN</td>\n",
       "      <td>NaN</td>\n",
       "      <td>[]</td>\n",
       "      <td>[]</td>\n",
       "    </tr>\n",
       "    <tr>\n",
       "      <th>1</th>\n",
       "      <td>1</td>\n",
       "      <td>0</td>\n",
       "      <td>13309898705</td>\n",
       "      <td>554169193</td>\n",
       "      <td>12010</td>\n",
       "      <td>0</td>\n",
       "      <td>4427</td>\n",
       "      <td>19000.0</td>\n",
       "      <td>True</td>\n",
       "      <td>NaN</td>\n",
       "      <td>NaN</td>\n",
       "    </tr>\n",
       "    <tr>\n",
       "      <th>2</th>\n",
       "      <td>2</td>\n",
       "      <td>0</td>\n",
       "      <td>4213672059</td>\n",
       "      <td>1720860329</td>\n",
       "      <td>457</td>\n",
       "      <td>0</td>\n",
       "      <td>240</td>\n",
       "      <td>17000.0</td>\n",
       "      <td>True</td>\n",
       "      <td>NaN</td>\n",
       "      <td>NaN</td>\n",
       "    </tr>\n",
       "    <tr>\n",
       "      <th>3</th>\n",
       "      <td>3</td>\n",
       "      <td>0</td>\n",
       "      <td>62798072960</td>\n",
       "      <td>288641214</td>\n",
       "      <td>13262</td>\n",
       "      <td>0</td>\n",
       "      <td>266</td>\n",
       "      <td>23000.0</td>\n",
       "      <td>True</td>\n",
       "      <td>NaN</td>\n",
       "      <td>NaN</td>\n",
       "    </tr>\n",
       "    <tr>\n",
       "      <th>4</th>\n",
       "      <td>4</td>\n",
       "      <td>0</td>\n",
       "      <td>10585422061</td>\n",
       "      <td>1728340777</td>\n",
       "      <td>6119</td>\n",
       "      <td>0</td>\n",
       "      <td>162</td>\n",
       "      <td>72400.0</td>\n",
       "      <td>True</td>\n",
       "      <td>NaN</td>\n",
       "      <td>NaN</td>\n",
       "    </tr>\n",
       "  </tbody>\n",
       "</table>\n",
       "</div>"
      ],
      "text/plain": [
       "   row_id  group_num    timestamp     user_id  content_id  content_type_id  \\\n",
       "0       0          0            0   275030867        5729                0   \n",
       "1       1          0  13309898705   554169193       12010                0   \n",
       "2       2          0   4213672059  1720860329         457                0   \n",
       "3       3          0  62798072960   288641214       13262                0   \n",
       "4       4          0  10585422061  1728340777        6119                0   \n",
       "\n",
       "   task_container_id  prior_question_elapsed_time  \\\n",
       "0                  0                          NaN   \n",
       "1               4427                      19000.0   \n",
       "2                240                      17000.0   \n",
       "3                266                      23000.0   \n",
       "4                162                      72400.0   \n",
       "\n",
       "  prior_question_had_explanation prior_group_answers_correct  \\\n",
       "0                            NaN                          []   \n",
       "1                           True                         NaN   \n",
       "2                           True                         NaN   \n",
       "3                           True                         NaN   \n",
       "4                           True                         NaN   \n",
       "\n",
       "  prior_group_responses  \n",
       "0                    []  \n",
       "1                   NaN  \n",
       "2                   NaN  \n",
       "3                   NaN  \n",
       "4                   NaN  "
      ]
     },
     "execution_count": 53,
     "metadata": {},
     "output_type": "execute_result"
    }
   ],
   "source": [
    "example_test.head()"
   ]
  },
  {
   "cell_type": "code",
   "execution_count": 54,
   "metadata": {
    "execution": {
     "iopub.execute_input": "2020-10-24T12:30:55.899428Z",
     "iopub.status.busy": "2020-10-24T12:30:55.898520Z",
     "iopub.status.idle": "2020-10-24T12:30:56.031442Z",
     "shell.execute_reply": "2020-10-24T12:30:56.030629Z"
    },
    "papermill": {
     "duration": 0.237091,
     "end_time": "2020-10-24T12:30:56.031580",
     "exception": false,
     "start_time": "2020-10-24T12:30:55.794489",
     "status": "completed"
    },
    "tags": []
   },
   "outputs": [
    {
     "data": {
      "text/html": [
       "<div>\n",
       "<style scoped>\n",
       "    .dataframe tbody tr th:only-of-type {\n",
       "        vertical-align: middle;\n",
       "    }\n",
       "\n",
       "    .dataframe tbody tr th {\n",
       "        vertical-align: top;\n",
       "    }\n",
       "\n",
       "    .dataframe thead th {\n",
       "        text-align: right;\n",
       "    }\n",
       "</style>\n",
       "<table border=\"1\" class=\"dataframe\">\n",
       "  <thead>\n",
       "    <tr style=\"text-align: right;\">\n",
       "      <th></th>\n",
       "      <th>row_id</th>\n",
       "      <th>timestamp</th>\n",
       "      <th>user_id</th>\n",
       "      <th>content_id</th>\n",
       "      <th>content_type_id</th>\n",
       "      <th>task_container_id</th>\n",
       "      <th>user_answer</th>\n",
       "      <th>answered_correctly</th>\n",
       "      <th>prior_question_elapsed_time</th>\n",
       "      <th>prior_question_had_explanation</th>\n",
       "    </tr>\n",
       "  </thead>\n",
       "  <tbody>\n",
       "    <tr>\n",
       "      <th>25924315</th>\n",
       "      <td>25924315</td>\n",
       "      <td>0</td>\n",
       "      <td>554169193</td>\n",
       "      <td>3927</td>\n",
       "      <td>0</td>\n",
       "      <td>0</td>\n",
       "      <td>1</td>\n",
       "      <td>1</td>\n",
       "      <td>4294967295</td>\n",
       "      <td>None</td>\n",
       "    </tr>\n",
       "    <tr>\n",
       "      <th>25924316</th>\n",
       "      <td>25924316</td>\n",
       "      <td>24904</td>\n",
       "      <td>554169193</td>\n",
       "      <td>939</td>\n",
       "      <td>0</td>\n",
       "      <td>1</td>\n",
       "      <td>0</td>\n",
       "      <td>1</td>\n",
       "      <td>23000</td>\n",
       "      <td>False</td>\n",
       "    </tr>\n",
       "    <tr>\n",
       "      <th>25924317</th>\n",
       "      <td>25924317</td>\n",
       "      <td>59273</td>\n",
       "      <td>554169193</td>\n",
       "      <td>6683</td>\n",
       "      <td>0</td>\n",
       "      <td>2</td>\n",
       "      <td>1</td>\n",
       "      <td>0</td>\n",
       "      <td>19000</td>\n",
       "      <td>False</td>\n",
       "    </tr>\n",
       "    <tr>\n",
       "      <th>25924318</th>\n",
       "      <td>25924318</td>\n",
       "      <td>95917</td>\n",
       "      <td>554169193</td>\n",
       "      <td>5658</td>\n",
       "      <td>0</td>\n",
       "      <td>3</td>\n",
       "      <td>3</td>\n",
       "      <td>1</td>\n",
       "      <td>30000</td>\n",
       "      <td>False</td>\n",
       "    </tr>\n",
       "    <tr>\n",
       "      <th>25924319</th>\n",
       "      <td>25924319</td>\n",
       "      <td>112132</td>\n",
       "      <td>554169193</td>\n",
       "      <td>6202</td>\n",
       "      <td>0</td>\n",
       "      <td>4</td>\n",
       "      <td>2</td>\n",
       "      <td>1</td>\n",
       "      <td>31000</td>\n",
       "      <td>False</td>\n",
       "    </tr>\n",
       "    <tr>\n",
       "      <th>...</th>\n",
       "      <td>...</td>\n",
       "      <td>...</td>\n",
       "      <td>...</td>\n",
       "      <td>...</td>\n",
       "      <td>...</td>\n",
       "      <td>...</td>\n",
       "      <td>...</td>\n",
       "      <td>...</td>\n",
       "      <td>...</td>\n",
       "      <td>...</td>\n",
       "    </tr>\n",
       "    <tr>\n",
       "      <th>25929669</th>\n",
       "      <td>25929669</td>\n",
       "      <td>13134944873</td>\n",
       "      <td>554169193</td>\n",
       "      <td>13469</td>\n",
       "      <td>0</td>\n",
       "      <td>4417</td>\n",
       "      <td>3</td>\n",
       "      <td>1</td>\n",
       "      <td>19000</td>\n",
       "      <td>True</td>\n",
       "    </tr>\n",
       "    <tr>\n",
       "      <th>25929670</th>\n",
       "      <td>25929670</td>\n",
       "      <td>13134970085</td>\n",
       "      <td>554169193</td>\n",
       "      <td>13307</td>\n",
       "      <td>0</td>\n",
       "      <td>4418</td>\n",
       "      <td>0</td>\n",
       "      <td>1</td>\n",
       "      <td>6000</td>\n",
       "      <td>True</td>\n",
       "    </tr>\n",
       "    <tr>\n",
       "      <th>25929671</th>\n",
       "      <td>25929671</td>\n",
       "      <td>13309652232</td>\n",
       "      <td>554169193</td>\n",
       "      <td>12256</td>\n",
       "      <td>0</td>\n",
       "      <td>4419</td>\n",
       "      <td>1</td>\n",
       "      <td>0</td>\n",
       "      <td>9000</td>\n",
       "      <td>True</td>\n",
       "    </tr>\n",
       "    <tr>\n",
       "      <th>25929672</th>\n",
       "      <td>25929672</td>\n",
       "      <td>13309683400</td>\n",
       "      <td>554169193</td>\n",
       "      <td>1074</td>\n",
       "      <td>0</td>\n",
       "      <td>4420</td>\n",
       "      <td>0</td>\n",
       "      <td>0</td>\n",
       "      <td>40000</td>\n",
       "      <td>True</td>\n",
       "    </tr>\n",
       "    <tr>\n",
       "      <th>25929673</th>\n",
       "      <td>25929673</td>\n",
       "      <td>13309714078</td>\n",
       "      <td>554169193</td>\n",
       "      <td>10684</td>\n",
       "      <td>0</td>\n",
       "      <td>4421</td>\n",
       "      <td>0</td>\n",
       "      <td>1</td>\n",
       "      <td>18000</td>\n",
       "      <td>True</td>\n",
       "    </tr>\n",
       "  </tbody>\n",
       "</table>\n",
       "<p>5359 rows × 10 columns</p>\n",
       "</div>"
      ],
      "text/plain": [
       "            row_id    timestamp    user_id  content_id  content_type_id  \\\n",
       "25924315  25924315            0  554169193        3927                0   \n",
       "25924316  25924316        24904  554169193         939                0   \n",
       "25924317  25924317        59273  554169193        6683                0   \n",
       "25924318  25924318        95917  554169193        5658                0   \n",
       "25924319  25924319       112132  554169193        6202                0   \n",
       "...            ...          ...        ...         ...              ...   \n",
       "25929669  25929669  13134944873  554169193       13469                0   \n",
       "25929670  25929670  13134970085  554169193       13307                0   \n",
       "25929671  25929671  13309652232  554169193       12256                0   \n",
       "25929672  25929672  13309683400  554169193        1074                0   \n",
       "25929673  25929673  13309714078  554169193       10684                0   \n",
       "\n",
       "          task_container_id  user_answer  answered_correctly  \\\n",
       "25924315                  0            1                   1   \n",
       "25924316                  1            0                   1   \n",
       "25924317                  2            1                   0   \n",
       "25924318                  3            3                   1   \n",
       "25924319                  4            2                   1   \n",
       "...                     ...          ...                 ...   \n",
       "25929669               4417            3                   1   \n",
       "25929670               4418            0                   1   \n",
       "25929671               4419            1                   0   \n",
       "25929672               4420            0                   0   \n",
       "25929673               4421            0                   1   \n",
       "\n",
       "          prior_question_elapsed_time prior_question_had_explanation  \n",
       "25924315                   4294967295                           None  \n",
       "25924316                        23000                          False  \n",
       "25924317                        19000                          False  \n",
       "25924318                        30000                          False  \n",
       "25924319                        31000                          False  \n",
       "...                               ...                            ...  \n",
       "25929669                        19000                           True  \n",
       "25929670                         6000                           True  \n",
       "25929671                         9000                           True  \n",
       "25929672                        40000                           True  \n",
       "25929673                        18000                           True  \n",
       "\n",
       "[5359 rows x 10 columns]"
      ]
     },
     "execution_count": 54,
     "metadata": {},
     "output_type": "execute_result"
    }
   ],
   "source": [
    "train[train.user_id ==554169193]"
   ]
  },
  {
   "cell_type": "code",
   "execution_count": 55,
   "metadata": {
    "execution": {
     "iopub.execute_input": "2020-10-24T12:30:56.238951Z",
     "iopub.status.busy": "2020-10-24T12:30:56.238141Z",
     "iopub.status.idle": "2020-10-24T12:31:32.605969Z",
     "shell.execute_reply": "2020-10-24T12:31:32.606743Z"
    },
    "papermill": {
     "duration": 36.474932,
     "end_time": "2020-10-24T12:31:32.606950",
     "exception": false,
     "start_time": "2020-10-24T12:30:56.132018",
     "status": "completed"
    },
    "tags": []
   },
   "outputs": [
    {
     "name": "stdout",
     "output_type": "stream",
     "text": [
      "!\n",
      "554169193\n",
      "1720860329\n",
      "288641214\n",
      "1728340777\n",
      "1364159702\n",
      "1521618396\n",
      "1317245193\n",
      "1700555100\n",
      "998511398\n",
      "1422853669\n",
      "1096784725\n",
      "385471210\n",
      "1202386221\n",
      "2018567473\n",
      "1233875513\n",
      "891955351\n",
      "1981166446\n",
      "1637273633\n",
      "2030979309\n",
      "319060572\n",
      "98059812\n",
      "674533997\n",
      "555691277\n",
      "775113212\n",
      "1219481379\n",
      "1148874033\n",
      "1281335472\n",
      "2002570769\n",
      "706626847\n",
      "1357500007\n",
      "1599808246\n",
      "1305988022\n",
      "1310228392\n",
      "2093197291\n",
      "1468996389\n",
      "1838324752\n",
      "2103436554\n",
      "311890082\n",
      "1817433235\n",
      "1900527744\n",
      "7792299\n"
     ]
    }
   ],
   "source": [
    "# all user_id in test data is included in training data as well if the corresponding timestamp is not 0.\n",
    "for i in example_test.user_id.unique():\n",
    "    if i in list(train.user_id.unique()):\n",
    "        print(i)\n",
    "    else:\n",
    "        print(\"!\")"
   ]
  },
  {
   "cell_type": "markdown",
   "metadata": {
    "papermill": {
     "duration": 0.114489,
     "end_time": "2020-10-24T12:31:32.837728",
     "exception": false,
     "start_time": "2020-10-24T12:31:32.723239",
     "status": "completed"
    },
    "tags": []
   },
   "source": [
    "# public test"
   ]
  },
  {
   "cell_type": "code",
   "execution_count": 56,
   "metadata": {
    "execution": {
     "iopub.execute_input": "2020-10-24T12:31:33.077662Z",
     "iopub.status.busy": "2020-10-24T12:31:33.076819Z",
     "iopub.status.idle": "2020-10-24T12:31:33.084010Z",
     "shell.execute_reply": "2020-10-24T12:31:33.084594Z"
    },
    "papermill": {
     "duration": 0.131979,
     "end_time": "2020-10-24T12:31:33.084782",
     "exception": false,
     "start_time": "2020-10-24T12:31:32.952803",
     "status": "completed"
    },
    "tags": []
   },
   "outputs": [],
   "source": [
    "public_test = pd.read_csv(\"../input/riid-test/test.csv\")"
   ]
  },
  {
   "cell_type": "code",
   "execution_count": 57,
   "metadata": {
    "execution": {
     "iopub.execute_input": "2020-10-24T12:31:33.350620Z",
     "iopub.status.busy": "2020-10-24T12:31:33.349782Z",
     "iopub.status.idle": "2020-10-24T12:31:33.354690Z",
     "shell.execute_reply": "2020-10-24T12:31:33.355327Z"
    },
    "papermill": {
     "duration": 0.155076,
     "end_time": "2020-10-24T12:31:33.355492",
     "exception": false,
     "start_time": "2020-10-24T12:31:33.200416",
     "status": "completed"
    },
    "tags": []
   },
   "outputs": [
    {
     "data": {
      "text/html": [
       "<div>\n",
       "<style scoped>\n",
       "    .dataframe tbody tr th:only-of-type {\n",
       "        vertical-align: middle;\n",
       "    }\n",
       "\n",
       "    .dataframe tbody tr th {\n",
       "        vertical-align: top;\n",
       "    }\n",
       "\n",
       "    .dataframe thead th {\n",
       "        text-align: right;\n",
       "    }\n",
       "</style>\n",
       "<table border=\"1\" class=\"dataframe\">\n",
       "  <thead>\n",
       "    <tr style=\"text-align: right;\">\n",
       "      <th></th>\n",
       "      <th>row_id</th>\n",
       "      <th>user_id</th>\n",
       "      <th>content_id</th>\n",
       "      <th>content_type_id</th>\n",
       "      <th>task_container_id</th>\n",
       "      <th>prior_question_elapsed_time</th>\n",
       "      <th>prior_question_had_explanation</th>\n",
       "      <th>prior_group_answers_correct</th>\n",
       "      <th>prior_group_responses</th>\n",
       "      <th>mean_user_accuracy</th>\n",
       "      <th>mean_accuracy_by_content</th>\n",
       "      <th>answered_correctly</th>\n",
       "    </tr>\n",
       "  </thead>\n",
       "  <tbody>\n",
       "    <tr>\n",
       "      <th>0</th>\n",
       "      <td>74</td>\n",
       "      <td>275030867</td>\n",
       "      <td>8308</td>\n",
       "      <td>0</td>\n",
       "      <td>3</td>\n",
       "      <td>15000.0</td>\n",
       "      <td>0</td>\n",
       "      <td>[1, 1, 1, 1, 0, 1, 1, 0, 0, 1, 0, 0, 1, 1, 0, ...</td>\n",
       "      <td>[0, 1, 0, 0, 1, 1, 0, 0, 1, 1, 1, 0, 3, 0, 0, ...</td>\n",
       "      <td>0.500000</td>\n",
       "      <td>0.626737</td>\n",
       "      <td>0.660656</td>\n",
       "    </tr>\n",
       "    <tr>\n",
       "      <th>1</th>\n",
       "      <td>75</td>\n",
       "      <td>1305988022</td>\n",
       "      <td>396</td>\n",
       "      <td>0</td>\n",
       "      <td>4163</td>\n",
       "      <td>19000.0</td>\n",
       "      <td>1</td>\n",
       "      <td>0.5</td>\n",
       "      <td>0.5</td>\n",
       "      <td>0.596905</td>\n",
       "      <td>0.733943</td>\n",
       "      <td>0.662372</td>\n",
       "    </tr>\n",
       "    <tr>\n",
       "      <th>2</th>\n",
       "      <td>76</td>\n",
       "      <td>1310228392</td>\n",
       "      <td>11869</td>\n",
       "      <td>0</td>\n",
       "      <td>1458</td>\n",
       "      <td>26333.0</td>\n",
       "      <td>1</td>\n",
       "      <td>0.5</td>\n",
       "      <td>0.5</td>\n",
       "      <td>0.795016</td>\n",
       "      <td>0.412793</td>\n",
       "      <td>0.660814</td>\n",
       "    </tr>\n",
       "    <tr>\n",
       "      <th>3</th>\n",
       "      <td>77</td>\n",
       "      <td>1310228392</td>\n",
       "      <td>11871</td>\n",
       "      <td>0</td>\n",
       "      <td>1458</td>\n",
       "      <td>26333.0</td>\n",
       "      <td>1</td>\n",
       "      <td>0.5</td>\n",
       "      <td>0.5</td>\n",
       "      <td>0.795016</td>\n",
       "      <td>0.861466</td>\n",
       "      <td>0.665208</td>\n",
       "    </tr>\n",
       "    <tr>\n",
       "      <th>4</th>\n",
       "      <td>78</td>\n",
       "      <td>1310228392</td>\n",
       "      <td>11870</td>\n",
       "      <td>0</td>\n",
       "      <td>1458</td>\n",
       "      <td>26333.0</td>\n",
       "      <td>1</td>\n",
       "      <td>0.5</td>\n",
       "      <td>0.5</td>\n",
       "      <td>0.795016</td>\n",
       "      <td>0.455850</td>\n",
       "      <td>0.661772</td>\n",
       "    </tr>\n",
       "    <tr>\n",
       "      <th>5</th>\n",
       "      <td>79</td>\n",
       "      <td>1310228392</td>\n",
       "      <td>11872</td>\n",
       "      <td>0</td>\n",
       "      <td>1458</td>\n",
       "      <td>26333.0</td>\n",
       "      <td>1</td>\n",
       "      <td>0.5</td>\n",
       "      <td>0.5</td>\n",
       "      <td>0.795016</td>\n",
       "      <td>0.330109</td>\n",
       "      <td>0.660814</td>\n",
       "    </tr>\n",
       "    <tr>\n",
       "      <th>6</th>\n",
       "      <td>80</td>\n",
       "      <td>1310228392</td>\n",
       "      <td>11868</td>\n",
       "      <td>0</td>\n",
       "      <td>1458</td>\n",
       "      <td>26333.0</td>\n",
       "      <td>1</td>\n",
       "      <td>0.5</td>\n",
       "      <td>0.5</td>\n",
       "      <td>0.795016</td>\n",
       "      <td>0.809360</td>\n",
       "      <td>0.665208</td>\n",
       "    </tr>\n",
       "    <tr>\n",
       "      <th>7</th>\n",
       "      <td>81</td>\n",
       "      <td>1637273633</td>\n",
       "      <td>5935</td>\n",
       "      <td>0</td>\n",
       "      <td>3149</td>\n",
       "      <td>19000.0</td>\n",
       "      <td>1</td>\n",
       "      <td>0.5</td>\n",
       "      <td>0.5</td>\n",
       "      <td>0.645136</td>\n",
       "      <td>0.647611</td>\n",
       "      <td>0.663928</td>\n",
       "    </tr>\n",
       "    <tr>\n",
       "      <th>8</th>\n",
       "      <td>82</td>\n",
       "      <td>674533997</td>\n",
       "      <td>6000</td>\n",
       "      <td>0</td>\n",
       "      <td>1046</td>\n",
       "      <td>10000.0</td>\n",
       "      <td>1</td>\n",
       "      <td>0.5</td>\n",
       "      <td>0.5</td>\n",
       "      <td>0.623612</td>\n",
       "      <td>0.435323</td>\n",
       "      <td>0.658971</td>\n",
       "    </tr>\n",
       "    <tr>\n",
       "      <th>9</th>\n",
       "      <td>84</td>\n",
       "      <td>2093197291</td>\n",
       "      <td>12611</td>\n",
       "      <td>0</td>\n",
       "      <td>5448</td>\n",
       "      <td>28750.0</td>\n",
       "      <td>1</td>\n",
       "      <td>0.5</td>\n",
       "      <td>0.5</td>\n",
       "      <td>0.791287</td>\n",
       "      <td>0.713415</td>\n",
       "      <td>0.663928</td>\n",
       "    </tr>\n",
       "    <tr>\n",
       "      <th>10</th>\n",
       "      <td>86</td>\n",
       "      <td>1202386221</td>\n",
       "      <td>438</td>\n",
       "      <td>0</td>\n",
       "      <td>139</td>\n",
       "      <td>17000.0</td>\n",
       "      <td>1</td>\n",
       "      <td>0.5</td>\n",
       "      <td>0.5</td>\n",
       "      <td>0.476923</td>\n",
       "      <td>0.713112</td>\n",
       "      <td>0.662372</td>\n",
       "    </tr>\n",
       "    <tr>\n",
       "      <th>11</th>\n",
       "      <td>87</td>\n",
       "      <td>1468996389</td>\n",
       "      <td>2470</td>\n",
       "      <td>0</td>\n",
       "      <td>230</td>\n",
       "      <td>26000.0</td>\n",
       "      <td>1</td>\n",
       "      <td>0.5</td>\n",
       "      <td>0.5</td>\n",
       "      <td>0.677966</td>\n",
       "      <td>0.681641</td>\n",
       "      <td>0.663928</td>\n",
       "    </tr>\n",
       "    <tr>\n",
       "      <th>12</th>\n",
       "      <td>88</td>\n",
       "      <td>1468996389</td>\n",
       "      <td>2471</td>\n",
       "      <td>0</td>\n",
       "      <td>230</td>\n",
       "      <td>26000.0</td>\n",
       "      <td>1</td>\n",
       "      <td>0.5</td>\n",
       "      <td>0.5</td>\n",
       "      <td>0.677966</td>\n",
       "      <td>0.957245</td>\n",
       "      <td>0.665208</td>\n",
       "    </tr>\n",
       "    <tr>\n",
       "      <th>13</th>\n",
       "      <td>89</td>\n",
       "      <td>1468996389</td>\n",
       "      <td>2472</td>\n",
       "      <td>0</td>\n",
       "      <td>230</td>\n",
       "      <td>26000.0</td>\n",
       "      <td>1</td>\n",
       "      <td>0.5</td>\n",
       "      <td>0.5</td>\n",
       "      <td>0.677966</td>\n",
       "      <td>0.901965</td>\n",
       "      <td>0.665208</td>\n",
       "    </tr>\n",
       "    <tr>\n",
       "      <th>14</th>\n",
       "      <td>90</td>\n",
       "      <td>555691277</td>\n",
       "      <td>573</td>\n",
       "      <td>0</td>\n",
       "      <td>54</td>\n",
       "      <td>18000.0</td>\n",
       "      <td>1</td>\n",
       "      <td>0.5</td>\n",
       "      <td>0.5</td>\n",
       "      <td>0.506494</td>\n",
       "      <td>0.708035</td>\n",
       "      <td>0.662372</td>\n",
       "    </tr>\n",
       "    <tr>\n",
       "      <th>15</th>\n",
       "      <td>91</td>\n",
       "      <td>1838324752</td>\n",
       "      <td>10435</td>\n",
       "      <td>0</td>\n",
       "      <td>299</td>\n",
       "      <td>26000.0</td>\n",
       "      <td>1</td>\n",
       "      <td>0.5</td>\n",
       "      <td>0.5</td>\n",
       "      <td>0.602532</td>\n",
       "      <td>0.870466</td>\n",
       "      <td>0.664355</td>\n",
       "    </tr>\n",
       "    <tr>\n",
       "      <th>16</th>\n",
       "      <td>92</td>\n",
       "      <td>2103436554</td>\n",
       "      <td>1722</td>\n",
       "      <td>0</td>\n",
       "      <td>1033</td>\n",
       "      <td>23333.0</td>\n",
       "      <td>1</td>\n",
       "      <td>0.5</td>\n",
       "      <td>0.5</td>\n",
       "      <td>0.582201</td>\n",
       "      <td>0.702692</td>\n",
       "      <td>0.662372</td>\n",
       "    </tr>\n",
       "    <tr>\n",
       "      <th>17</th>\n",
       "      <td>93</td>\n",
       "      <td>2103436554</td>\n",
       "      <td>1721</td>\n",
       "      <td>0</td>\n",
       "      <td>1033</td>\n",
       "      <td>23333.0</td>\n",
       "      <td>1</td>\n",
       "      <td>0.5</td>\n",
       "      <td>0.5</td>\n",
       "      <td>0.582201</td>\n",
       "      <td>0.838202</td>\n",
       "      <td>0.664355</td>\n",
       "    </tr>\n",
       "    <tr>\n",
       "      <th>18</th>\n",
       "      <td>94</td>\n",
       "      <td>2103436554</td>\n",
       "      <td>1723</td>\n",
       "      <td>0</td>\n",
       "      <td>1033</td>\n",
       "      <td>23333.0</td>\n",
       "      <td>1</td>\n",
       "      <td>0.5</td>\n",
       "      <td>0.5</td>\n",
       "      <td>0.582201</td>\n",
       "      <td>0.803497</td>\n",
       "      <td>0.664355</td>\n",
       "    </tr>\n",
       "    <tr>\n",
       "      <th>19</th>\n",
       "      <td>95</td>\n",
       "      <td>311890082</td>\n",
       "      <td>2029</td>\n",
       "      <td>0</td>\n",
       "      <td>212</td>\n",
       "      <td>26000.0</td>\n",
       "      <td>1</td>\n",
       "      <td>0.5</td>\n",
       "      <td>0.5</td>\n",
       "      <td>0.621019</td>\n",
       "      <td>0.781309</td>\n",
       "      <td>0.664172</td>\n",
       "    </tr>\n",
       "    <tr>\n",
       "      <th>20</th>\n",
       "      <td>96</td>\n",
       "      <td>311890082</td>\n",
       "      <td>2028</td>\n",
       "      <td>0</td>\n",
       "      <td>212</td>\n",
       "      <td>26000.0</td>\n",
       "      <td>1</td>\n",
       "      <td>0.5</td>\n",
       "      <td>0.5</td>\n",
       "      <td>0.621019</td>\n",
       "      <td>0.363436</td>\n",
       "      <td>0.658971</td>\n",
       "    </tr>\n",
       "    <tr>\n",
       "      <th>21</th>\n",
       "      <td>97</td>\n",
       "      <td>311890082</td>\n",
       "      <td>2027</td>\n",
       "      <td>0</td>\n",
       "      <td>212</td>\n",
       "      <td>26000.0</td>\n",
       "      <td>1</td>\n",
       "      <td>0.5</td>\n",
       "      <td>0.5</td>\n",
       "      <td>0.621019</td>\n",
       "      <td>0.542899</td>\n",
       "      <td>0.660880</td>\n",
       "    </tr>\n",
       "    <tr>\n",
       "      <th>22</th>\n",
       "      <td>98</td>\n",
       "      <td>1817433235</td>\n",
       "      <td>12135</td>\n",
       "      <td>0</td>\n",
       "      <td>392</td>\n",
       "      <td>7000.0</td>\n",
       "      <td>1</td>\n",
       "      <td>0.5</td>\n",
       "      <td>0.5</td>\n",
       "      <td>0.737245</td>\n",
       "      <td>0.818599</td>\n",
       "      <td>0.665208</td>\n",
       "    </tr>\n",
       "    <tr>\n",
       "      <th>23</th>\n",
       "      <td>99</td>\n",
       "      <td>998511398</td>\n",
       "      <td>10646</td>\n",
       "      <td>0</td>\n",
       "      <td>395</td>\n",
       "      <td>26000.0</td>\n",
       "      <td>1</td>\n",
       "      <td>0.5</td>\n",
       "      <td>0.5</td>\n",
       "      <td>0.476948</td>\n",
       "      <td>0.787074</td>\n",
       "      <td>0.662995</td>\n",
       "    </tr>\n",
       "    <tr>\n",
       "      <th>24</th>\n",
       "      <td>100</td>\n",
       "      <td>1422853669</td>\n",
       "      <td>1098</td>\n",
       "      <td>0</td>\n",
       "      <td>87</td>\n",
       "      <td>22000.0</td>\n",
       "      <td>1</td>\n",
       "      <td>0.5</td>\n",
       "      <td>0.5</td>\n",
       "      <td>0.725000</td>\n",
       "      <td>0.692264</td>\n",
       "      <td>0.663928</td>\n",
       "    </tr>\n",
       "    <tr>\n",
       "      <th>25</th>\n",
       "      <td>101</td>\n",
       "      <td>554169193</td>\n",
       "      <td>1043</td>\n",
       "      <td>0</td>\n",
       "      <td>4429</td>\n",
       "      <td>18000.0</td>\n",
       "      <td>1</td>\n",
       "      <td>0.5</td>\n",
       "      <td>0.5</td>\n",
       "      <td>0.658145</td>\n",
       "      <td>0.647893</td>\n",
       "      <td>0.663928</td>\n",
       "    </tr>\n",
       "    <tr>\n",
       "      <th>26</th>\n",
       "      <td>102</td>\n",
       "      <td>1317245193</td>\n",
       "      <td>12145</td>\n",
       "      <td>0</td>\n",
       "      <td>5317</td>\n",
       "      <td>17000.0</td>\n",
       "      <td>1</td>\n",
       "      <td>0.5</td>\n",
       "      <td>0.5</td>\n",
       "      <td>0.540950</td>\n",
       "      <td>0.804707</td>\n",
       "      <td>0.664083</td>\n",
       "    </tr>\n",
       "    <tr>\n",
       "      <th>27</th>\n",
       "      <td>103</td>\n",
       "      <td>1900527744</td>\n",
       "      <td>3005</td>\n",
       "      <td>0</td>\n",
       "      <td>1179</td>\n",
       "      <td>24667.0</td>\n",
       "      <td>1</td>\n",
       "      <td>0.5</td>\n",
       "      <td>0.5</td>\n",
       "      <td>0.592864</td>\n",
       "      <td>0.692480</td>\n",
       "      <td>0.662372</td>\n",
       "    </tr>\n",
       "    <tr>\n",
       "      <th>28</th>\n",
       "      <td>104</td>\n",
       "      <td>1900527744</td>\n",
       "      <td>3004</td>\n",
       "      <td>0</td>\n",
       "      <td>1179</td>\n",
       "      <td>24667.0</td>\n",
       "      <td>1</td>\n",
       "      <td>0.5</td>\n",
       "      <td>0.5</td>\n",
       "      <td>0.592864</td>\n",
       "      <td>0.415560</td>\n",
       "      <td>0.658971</td>\n",
       "    </tr>\n",
       "    <tr>\n",
       "      <th>29</th>\n",
       "      <td>105</td>\n",
       "      <td>1900527744</td>\n",
       "      <td>3003</td>\n",
       "      <td>0</td>\n",
       "      <td>1179</td>\n",
       "      <td>24667.0</td>\n",
       "      <td>1</td>\n",
       "      <td>0.5</td>\n",
       "      <td>0.5</td>\n",
       "      <td>0.592864</td>\n",
       "      <td>0.733529</td>\n",
       "      <td>0.662372</td>\n",
       "    </tr>\n",
       "    <tr>\n",
       "      <th>30</th>\n",
       "      <td>106</td>\n",
       "      <td>7792299</td>\n",
       "      <td>7908</td>\n",
       "      <td>0</td>\n",
       "      <td>676</td>\n",
       "      <td>19000.0</td>\n",
       "      <td>1</td>\n",
       "      <td>0.5</td>\n",
       "      <td>0.5</td>\n",
       "      <td>0.570781</td>\n",
       "      <td>0.612414</td>\n",
       "      <td>0.660880</td>\n",
       "    </tr>\n",
       "    <tr>\n",
       "      <th>31</th>\n",
       "      <td>107</td>\n",
       "      <td>288641214</td>\n",
       "      <td>9077</td>\n",
       "      <td>0</td>\n",
       "      <td>269</td>\n",
       "      <td>25000.0</td>\n",
       "      <td>1</td>\n",
       "      <td>0.5</td>\n",
       "      <td>0.5</td>\n",
       "      <td>0.660650</td>\n",
       "      <td>0.635659</td>\n",
       "      <td>0.663328</td>\n",
       "    </tr>\n",
       "    <tr>\n",
       "      <th>32</th>\n",
       "      <td>108</td>\n",
       "      <td>2018567473</td>\n",
       "      <td>12119</td>\n",
       "      <td>0</td>\n",
       "      <td>591</td>\n",
       "      <td>20000.0</td>\n",
       "      <td>1</td>\n",
       "      <td>0.5</td>\n",
       "      <td>0.5</td>\n",
       "      <td>0.728353</td>\n",
       "      <td>0.923789</td>\n",
       "      <td>0.665208</td>\n",
       "    </tr>\n",
       "  </tbody>\n",
       "</table>\n",
       "</div>"
      ],
      "text/plain": [
       "    row_id     user_id  content_id  content_type_id  task_container_id  \\\n",
       "0       74   275030867        8308                0                  3   \n",
       "1       75  1305988022         396                0               4163   \n",
       "2       76  1310228392       11869                0               1458   \n",
       "3       77  1310228392       11871                0               1458   \n",
       "4       78  1310228392       11870                0               1458   \n",
       "5       79  1310228392       11872                0               1458   \n",
       "6       80  1310228392       11868                0               1458   \n",
       "7       81  1637273633        5935                0               3149   \n",
       "8       82   674533997        6000                0               1046   \n",
       "9       84  2093197291       12611                0               5448   \n",
       "10      86  1202386221         438                0                139   \n",
       "11      87  1468996389        2470                0                230   \n",
       "12      88  1468996389        2471                0                230   \n",
       "13      89  1468996389        2472                0                230   \n",
       "14      90   555691277         573                0                 54   \n",
       "15      91  1838324752       10435                0                299   \n",
       "16      92  2103436554        1722                0               1033   \n",
       "17      93  2103436554        1721                0               1033   \n",
       "18      94  2103436554        1723                0               1033   \n",
       "19      95   311890082        2029                0                212   \n",
       "20      96   311890082        2028                0                212   \n",
       "21      97   311890082        2027                0                212   \n",
       "22      98  1817433235       12135                0                392   \n",
       "23      99   998511398       10646                0                395   \n",
       "24     100  1422853669        1098                0                 87   \n",
       "25     101   554169193        1043                0               4429   \n",
       "26     102  1317245193       12145                0               5317   \n",
       "27     103  1900527744        3005                0               1179   \n",
       "28     104  1900527744        3004                0               1179   \n",
       "29     105  1900527744        3003                0               1179   \n",
       "30     106     7792299        7908                0                676   \n",
       "31     107   288641214        9077                0                269   \n",
       "32     108  2018567473       12119                0                591   \n",
       "\n",
       "    prior_question_elapsed_time  prior_question_had_explanation  \\\n",
       "0                       15000.0                               0   \n",
       "1                       19000.0                               1   \n",
       "2                       26333.0                               1   \n",
       "3                       26333.0                               1   \n",
       "4                       26333.0                               1   \n",
       "5                       26333.0                               1   \n",
       "6                       26333.0                               1   \n",
       "7                       19000.0                               1   \n",
       "8                       10000.0                               1   \n",
       "9                       28750.0                               1   \n",
       "10                      17000.0                               1   \n",
       "11                      26000.0                               1   \n",
       "12                      26000.0                               1   \n",
       "13                      26000.0                               1   \n",
       "14                      18000.0                               1   \n",
       "15                      26000.0                               1   \n",
       "16                      23333.0                               1   \n",
       "17                      23333.0                               1   \n",
       "18                      23333.0                               1   \n",
       "19                      26000.0                               1   \n",
       "20                      26000.0                               1   \n",
       "21                      26000.0                               1   \n",
       "22                       7000.0                               1   \n",
       "23                      26000.0                               1   \n",
       "24                      22000.0                               1   \n",
       "25                      18000.0                               1   \n",
       "26                      17000.0                               1   \n",
       "27                      24667.0                               1   \n",
       "28                      24667.0                               1   \n",
       "29                      24667.0                               1   \n",
       "30                      19000.0                               1   \n",
       "31                      25000.0                               1   \n",
       "32                      20000.0                               1   \n",
       "\n",
       "                          prior_group_answers_correct  \\\n",
       "0   [1, 1, 1, 1, 0, 1, 1, 0, 0, 1, 0, 0, 1, 1, 0, ...   \n",
       "1                                                 0.5   \n",
       "2                                                 0.5   \n",
       "3                                                 0.5   \n",
       "4                                                 0.5   \n",
       "5                                                 0.5   \n",
       "6                                                 0.5   \n",
       "7                                                 0.5   \n",
       "8                                                 0.5   \n",
       "9                                                 0.5   \n",
       "10                                                0.5   \n",
       "11                                                0.5   \n",
       "12                                                0.5   \n",
       "13                                                0.5   \n",
       "14                                                0.5   \n",
       "15                                                0.5   \n",
       "16                                                0.5   \n",
       "17                                                0.5   \n",
       "18                                                0.5   \n",
       "19                                                0.5   \n",
       "20                                                0.5   \n",
       "21                                                0.5   \n",
       "22                                                0.5   \n",
       "23                                                0.5   \n",
       "24                                                0.5   \n",
       "25                                                0.5   \n",
       "26                                                0.5   \n",
       "27                                                0.5   \n",
       "28                                                0.5   \n",
       "29                                                0.5   \n",
       "30                                                0.5   \n",
       "31                                                0.5   \n",
       "32                                                0.5   \n",
       "\n",
       "                                prior_group_responses  mean_user_accuracy  \\\n",
       "0   [0, 1, 0, 0, 1, 1, 0, 0, 1, 1, 1, 0, 3, 0, 0, ...            0.500000   \n",
       "1                                                 0.5            0.596905   \n",
       "2                                                 0.5            0.795016   \n",
       "3                                                 0.5            0.795016   \n",
       "4                                                 0.5            0.795016   \n",
       "5                                                 0.5            0.795016   \n",
       "6                                                 0.5            0.795016   \n",
       "7                                                 0.5            0.645136   \n",
       "8                                                 0.5            0.623612   \n",
       "9                                                 0.5            0.791287   \n",
       "10                                                0.5            0.476923   \n",
       "11                                                0.5            0.677966   \n",
       "12                                                0.5            0.677966   \n",
       "13                                                0.5            0.677966   \n",
       "14                                                0.5            0.506494   \n",
       "15                                                0.5            0.602532   \n",
       "16                                                0.5            0.582201   \n",
       "17                                                0.5            0.582201   \n",
       "18                                                0.5            0.582201   \n",
       "19                                                0.5            0.621019   \n",
       "20                                                0.5            0.621019   \n",
       "21                                                0.5            0.621019   \n",
       "22                                                0.5            0.737245   \n",
       "23                                                0.5            0.476948   \n",
       "24                                                0.5            0.725000   \n",
       "25                                                0.5            0.658145   \n",
       "26                                                0.5            0.540950   \n",
       "27                                                0.5            0.592864   \n",
       "28                                                0.5            0.592864   \n",
       "29                                                0.5            0.592864   \n",
       "30                                                0.5            0.570781   \n",
       "31                                                0.5            0.660650   \n",
       "32                                                0.5            0.728353   \n",
       "\n",
       "    mean_accuracy_by_content  answered_correctly  \n",
       "0                   0.626737            0.660656  \n",
       "1                   0.733943            0.662372  \n",
       "2                   0.412793            0.660814  \n",
       "3                   0.861466            0.665208  \n",
       "4                   0.455850            0.661772  \n",
       "5                   0.330109            0.660814  \n",
       "6                   0.809360            0.665208  \n",
       "7                   0.647611            0.663928  \n",
       "8                   0.435323            0.658971  \n",
       "9                   0.713415            0.663928  \n",
       "10                  0.713112            0.662372  \n",
       "11                  0.681641            0.663928  \n",
       "12                  0.957245            0.665208  \n",
       "13                  0.901965            0.665208  \n",
       "14                  0.708035            0.662372  \n",
       "15                  0.870466            0.664355  \n",
       "16                  0.702692            0.662372  \n",
       "17                  0.838202            0.664355  \n",
       "18                  0.803497            0.664355  \n",
       "19                  0.781309            0.664172  \n",
       "20                  0.363436            0.658971  \n",
       "21                  0.542899            0.660880  \n",
       "22                  0.818599            0.665208  \n",
       "23                  0.787074            0.662995  \n",
       "24                  0.692264            0.663928  \n",
       "25                  0.647893            0.663928  \n",
       "26                  0.804707            0.664083  \n",
       "27                  0.692480            0.662372  \n",
       "28                  0.415560            0.658971  \n",
       "29                  0.733529            0.662372  \n",
       "30                  0.612414            0.660880  \n",
       "31                  0.635659            0.663328  \n",
       "32                  0.923789            0.665208  "
      ]
     },
     "execution_count": 57,
     "metadata": {},
     "output_type": "execute_result"
    }
   ],
   "source": [
    "public_test"
   ]
  },
  {
   "cell_type": "code",
   "execution_count": 58,
   "metadata": {
    "execution": {
     "iopub.execute_input": "2020-10-24T12:31:33.595862Z",
     "iopub.status.busy": "2020-10-24T12:31:33.595107Z",
     "iopub.status.idle": "2020-10-24T12:31:33.598823Z",
     "shell.execute_reply": "2020-10-24T12:31:33.598026Z"
    },
    "papermill": {
     "duration": 0.124129,
     "end_time": "2020-10-24T12:31:33.598955",
     "exception": false,
     "start_time": "2020-10-24T12:31:33.474826",
     "status": "completed"
    },
    "tags": []
   },
   "outputs": [],
   "source": [
    "#train[train.user_id==275030867] #probably, the row in the test data represents first question answer of the user"
   ]
  },
  {
   "cell_type": "code",
   "execution_count": 59,
   "metadata": {
    "execution": {
     "iopub.execute_input": "2020-10-24T12:31:33.839469Z",
     "iopub.status.busy": "2020-10-24T12:31:33.838380Z",
     "iopub.status.idle": "2020-10-24T12:31:33.842069Z",
     "shell.execute_reply": "2020-10-24T12:31:33.841321Z"
    },
    "papermill": {
     "duration": 0.124908,
     "end_time": "2020-10-24T12:31:33.842232",
     "exception": false,
     "start_time": "2020-10-24T12:31:33.717324",
     "status": "completed"
    },
    "tags": []
   },
   "outputs": [],
   "source": [
    "#train[train.user_id==1305988022]"
   ]
  },
  {
   "cell_type": "markdown",
   "metadata": {
    "papermill": {
     "duration": 0.119407,
     "end_time": "2020-10-24T12:31:34.078965",
     "exception": false,
     "start_time": "2020-10-24T12:31:33.959558",
     "status": "completed"
    },
    "tags": []
   },
   "source": [
    "# how to make features"
   ]
  },
  {
   "cell_type": "code",
   "execution_count": 60,
   "metadata": {
    "execution": {
     "iopub.execute_input": "2020-10-24T12:31:34.324530Z",
     "iopub.status.busy": "2020-10-24T12:31:34.323704Z",
     "iopub.status.idle": "2020-10-24T12:31:42.608407Z",
     "shell.execute_reply": "2020-10-24T12:31:42.607731Z"
    },
    "papermill": {
     "duration": 8.412757,
     "end_time": "2020-10-24T12:31:42.608551",
     "exception": false,
     "start_time": "2020-10-24T12:31:34.195794",
     "status": "completed"
    },
    "tags": []
   },
   "outputs": [],
   "source": [
    "# preprocess\n",
    "train = pd.read_feather(\"../input/riid-train/train.feather\")\n",
    "#train = train.loc[train['answered_correctly'] != -1].reset_index(drop=True)\n",
    "questions = pd.read_csv(\"../input/riiid-test-answer-prediction/questions.csv\")\n",
    "train = train[train.user_id.isin([2746, 5382, 8623,  8701, 12741, 13134, 24418, 24600])].copy() #115, 124,\n",
    "train['task_container_id'] = (train.groupby('user_id')['task_container_id'].transform(lambda x: pd.factorize(x)[0]).astype('int16'))\n",
    "train = train.merge(questions[[\"question_id\", \"part\"]], how=\"left\", left_on=['content_id'], right_on=['question_id'])"
   ]
  },
  {
   "cell_type": "code",
   "execution_count": 61,
   "metadata": {
    "execution": {
     "iopub.execute_input": "2020-10-24T12:31:42.849720Z",
     "iopub.status.busy": "2020-10-24T12:31:42.848863Z",
     "iopub.status.idle": "2020-10-24T12:31:42.858442Z",
     "shell.execute_reply": "2020-10-24T12:31:42.857765Z"
    },
    "papermill": {
     "duration": 0.132462,
     "end_time": "2020-10-24T12:31:42.858573",
     "exception": false,
     "start_time": "2020-10-24T12:31:42.726111",
     "status": "completed"
    },
    "tags": []
   },
   "outputs": [
    {
     "data": {
      "text/plain": [
       "user_id  content_type_id\n",
       "2746     0                    19\n",
       "         1                     1\n",
       "5382     0                   125\n",
       "         1                     3\n",
       "8623     0                   109\n",
       "         1                     3\n",
       "8701     0                    17\n",
       "12741    0                   265\n",
       "         1                     6\n",
       "13134    0                  1243\n",
       "         1                     7\n",
       "24418    0                  6283\n",
       "         1                   181\n",
       "24600    0                    50\n",
       "Name: content_type_id, dtype: int64"
      ]
     },
     "execution_count": 61,
     "metadata": {},
     "output_type": "execute_result"
    }
   ],
   "source": [
    "train.groupby([\"user_id\"])[\"content_type_id\"].value_counts()"
   ]
  },
  {
   "cell_type": "code",
   "execution_count": 62,
   "metadata": {
    "execution": {
     "iopub.execute_input": "2020-10-24T12:31:43.134810Z",
     "iopub.status.busy": "2020-10-24T12:31:43.133657Z",
     "iopub.status.idle": "2020-10-24T12:31:43.139765Z",
     "shell.execute_reply": "2020-10-24T12:31:43.138983Z"
    },
    "papermill": {
     "duration": 0.162488,
     "end_time": "2020-10-24T12:31:43.139900",
     "exception": false,
     "start_time": "2020-10-24T12:31:42.977412",
     "status": "completed"
    },
    "tags": []
   },
   "outputs": [
    {
     "data": {
      "text/html": [
       "<div>\n",
       "<style scoped>\n",
       "    .dataframe tbody tr th:only-of-type {\n",
       "        vertical-align: middle;\n",
       "    }\n",
       "\n",
       "    .dataframe tbody tr th {\n",
       "        vertical-align: top;\n",
       "    }\n",
       "\n",
       "    .dataframe thead th {\n",
       "        text-align: right;\n",
       "    }\n",
       "</style>\n",
       "<table border=\"1\" class=\"dataframe\">\n",
       "  <thead>\n",
       "    <tr style=\"text-align: right;\">\n",
       "      <th></th>\n",
       "      <th>row_id</th>\n",
       "      <th>timestamp</th>\n",
       "      <th>user_id</th>\n",
       "      <th>content_id</th>\n",
       "      <th>content_type_id</th>\n",
       "      <th>task_container_id</th>\n",
       "      <th>user_answer</th>\n",
       "      <th>answered_correctly</th>\n",
       "      <th>prior_question_elapsed_time</th>\n",
       "      <th>prior_question_had_explanation</th>\n",
       "      <th>question_id</th>\n",
       "      <th>part</th>\n",
       "    </tr>\n",
       "  </thead>\n",
       "  <tbody>\n",
       "    <tr>\n",
       "      <th>0</th>\n",
       "      <td>76</td>\n",
       "      <td>0</td>\n",
       "      <td>2746</td>\n",
       "      <td>5273</td>\n",
       "      <td>0</td>\n",
       "      <td>0</td>\n",
       "      <td>1</td>\n",
       "      <td>0</td>\n",
       "      <td>4294967295</td>\n",
       "      <td>None</td>\n",
       "      <td>5273.0</td>\n",
       "      <td>5.0</td>\n",
       "    </tr>\n",
       "    <tr>\n",
       "      <th>1</th>\n",
       "      <td>77</td>\n",
       "      <td>21592</td>\n",
       "      <td>2746</td>\n",
       "      <td>758</td>\n",
       "      <td>0</td>\n",
       "      <td>1</td>\n",
       "      <td>0</td>\n",
       "      <td>0</td>\n",
       "      <td>28000</td>\n",
       "      <td>False</td>\n",
       "      <td>758.0</td>\n",
       "      <td>2.0</td>\n",
       "    </tr>\n",
       "    <tr>\n",
       "      <th>2</th>\n",
       "      <td>78</td>\n",
       "      <td>49069</td>\n",
       "      <td>2746</td>\n",
       "      <td>5976</td>\n",
       "      <td>0</td>\n",
       "      <td>2</td>\n",
       "      <td>3</td>\n",
       "      <td>0</td>\n",
       "      <td>17000</td>\n",
       "      <td>False</td>\n",
       "      <td>5976.0</td>\n",
       "      <td>5.0</td>\n",
       "    </tr>\n",
       "    <tr>\n",
       "      <th>3</th>\n",
       "      <td>79</td>\n",
       "      <td>72254</td>\n",
       "      <td>2746</td>\n",
       "      <td>236</td>\n",
       "      <td>0</td>\n",
       "      <td>3</td>\n",
       "      <td>3</td>\n",
       "      <td>1</td>\n",
       "      <td>24000</td>\n",
       "      <td>False</td>\n",
       "      <td>236.0</td>\n",
       "      <td>2.0</td>\n",
       "    </tr>\n",
       "    <tr>\n",
       "      <th>4</th>\n",
       "      <td>80</td>\n",
       "      <td>91945</td>\n",
       "      <td>2746</td>\n",
       "      <td>404</td>\n",
       "      <td>0</td>\n",
       "      <td>4</td>\n",
       "      <td>3</td>\n",
       "      <td>0</td>\n",
       "      <td>20000</td>\n",
       "      <td>False</td>\n",
       "      <td>404.0</td>\n",
       "      <td>2.0</td>\n",
       "    </tr>\n",
       "    <tr>\n",
       "      <th>5</th>\n",
       "      <td>81</td>\n",
       "      <td>111621</td>\n",
       "      <td>2746</td>\n",
       "      <td>382</td>\n",
       "      <td>0</td>\n",
       "      <td>5</td>\n",
       "      <td>0</td>\n",
       "      <td>1</td>\n",
       "      <td>16000</td>\n",
       "      <td>False</td>\n",
       "      <td>382.0</td>\n",
       "      <td>2.0</td>\n",
       "    </tr>\n",
       "    <tr>\n",
       "      <th>6</th>\n",
       "      <td>82</td>\n",
       "      <td>134341</td>\n",
       "      <td>2746</td>\n",
       "      <td>405</td>\n",
       "      <td>0</td>\n",
       "      <td>6</td>\n",
       "      <td>1</td>\n",
       "      <td>1</td>\n",
       "      <td>16000</td>\n",
       "      <td>False</td>\n",
       "      <td>405.0</td>\n",
       "      <td>2.0</td>\n",
       "    </tr>\n",
       "    <tr>\n",
       "      <th>7</th>\n",
       "      <td>83</td>\n",
       "      <td>234605</td>\n",
       "      <td>2746</td>\n",
       "      <td>873</td>\n",
       "      <td>0</td>\n",
       "      <td>7</td>\n",
       "      <td>3</td>\n",
       "      <td>1</td>\n",
       "      <td>19000</td>\n",
       "      <td>False</td>\n",
       "      <td>873.0</td>\n",
       "      <td>2.0</td>\n",
       "    </tr>\n",
       "    <tr>\n",
       "      <th>8</th>\n",
       "      <td>84</td>\n",
       "      <td>283894</td>\n",
       "      <td>2746</td>\n",
       "      <td>531</td>\n",
       "      <td>0</td>\n",
       "      <td>8</td>\n",
       "      <td>0</td>\n",
       "      <td>1</td>\n",
       "      <td>18000</td>\n",
       "      <td>True</td>\n",
       "      <td>531.0</td>\n",
       "      <td>2.0</td>\n",
       "    </tr>\n",
       "    <tr>\n",
       "      <th>9</th>\n",
       "      <td>85</td>\n",
       "      <td>328640</td>\n",
       "      <td>2746</td>\n",
       "      <td>775</td>\n",
       "      <td>0</td>\n",
       "      <td>9</td>\n",
       "      <td>3</td>\n",
       "      <td>0</td>\n",
       "      <td>18000</td>\n",
       "      <td>True</td>\n",
       "      <td>775.0</td>\n",
       "      <td>2.0</td>\n",
       "    </tr>\n",
       "    <tr>\n",
       "      <th>10</th>\n",
       "      <td>86</td>\n",
       "      <td>357471</td>\n",
       "      <td>2746</td>\n",
       "      <td>294</td>\n",
       "      <td>0</td>\n",
       "      <td>10</td>\n",
       "      <td>3</td>\n",
       "      <td>1</td>\n",
       "      <td>20000</td>\n",
       "      <td>True</td>\n",
       "      <td>294.0</td>\n",
       "      <td>2.0</td>\n",
       "    </tr>\n",
       "    <tr>\n",
       "      <th>11</th>\n",
       "      <td>87</td>\n",
       "      <td>384415</td>\n",
       "      <td>2746</td>\n",
       "      <td>714</td>\n",
       "      <td>0</td>\n",
       "      <td>11</td>\n",
       "      <td>3</td>\n",
       "      <td>1</td>\n",
       "      <td>13000</td>\n",
       "      <td>True</td>\n",
       "      <td>714.0</td>\n",
       "      <td>2.0</td>\n",
       "    </tr>\n",
       "    <tr>\n",
       "      <th>12</th>\n",
       "      <td>88</td>\n",
       "      <td>428637</td>\n",
       "      <td>2746</td>\n",
       "      <td>297</td>\n",
       "      <td>0</td>\n",
       "      <td>12</td>\n",
       "      <td>0</td>\n",
       "      <td>0</td>\n",
       "      <td>13000</td>\n",
       "      <td>True</td>\n",
       "      <td>297.0</td>\n",
       "      <td>2.0</td>\n",
       "    </tr>\n",
       "    <tr>\n",
       "      <th>13</th>\n",
       "      <td>89</td>\n",
       "      <td>653762</td>\n",
       "      <td>2746</td>\n",
       "      <td>6808</td>\n",
       "      <td>1</td>\n",
       "      <td>13</td>\n",
       "      <td>-1</td>\n",
       "      <td>-1</td>\n",
       "      <td>4294967295</td>\n",
       "      <td>False</td>\n",
       "      <td>6808.0</td>\n",
       "      <td>6.0</td>\n",
       "    </tr>\n",
       "    <tr>\n",
       "      <th>14</th>\n",
       "      <td>90</td>\n",
       "      <td>674559</td>\n",
       "      <td>2746</td>\n",
       "      <td>297</td>\n",
       "      <td>0</td>\n",
       "      <td>14</td>\n",
       "      <td>3</td>\n",
       "      <td>1</td>\n",
       "      <td>16000</td>\n",
       "      <td>True</td>\n",
       "      <td>297.0</td>\n",
       "      <td>2.0</td>\n",
       "    </tr>\n",
       "    <tr>\n",
       "      <th>15</th>\n",
       "      <td>91</td>\n",
       "      <td>704065</td>\n",
       "      <td>2746</td>\n",
       "      <td>775</td>\n",
       "      <td>0</td>\n",
       "      <td>15</td>\n",
       "      <td>3</td>\n",
       "      <td>0</td>\n",
       "      <td>15000</td>\n",
       "      <td>True</td>\n",
       "      <td>775.0</td>\n",
       "      <td>2.0</td>\n",
       "    </tr>\n",
       "    <tr>\n",
       "      <th>16</th>\n",
       "      <td>92</td>\n",
       "      <td>735114</td>\n",
       "      <td>2746</td>\n",
       "      <td>1295</td>\n",
       "      <td>0</td>\n",
       "      <td>16</td>\n",
       "      <td>3</td>\n",
       "      <td>1</td>\n",
       "      <td>16000</td>\n",
       "      <td>True</td>\n",
       "      <td>1295.0</td>\n",
       "      <td>2.0</td>\n",
       "    </tr>\n",
       "    <tr>\n",
       "      <th>17</th>\n",
       "      <td>93</td>\n",
       "      <td>761885</td>\n",
       "      <td>2746</td>\n",
       "      <td>10684</td>\n",
       "      <td>0</td>\n",
       "      <td>17</td>\n",
       "      <td>0</td>\n",
       "      <td>1</td>\n",
       "      <td>17000</td>\n",
       "      <td>True</td>\n",
       "      <td>10684.0</td>\n",
       "      <td>2.0</td>\n",
       "    </tr>\n",
       "    <tr>\n",
       "      <th>18</th>\n",
       "      <td>94</td>\n",
       "      <td>800255</td>\n",
       "      <td>2746</td>\n",
       "      <td>1014</td>\n",
       "      <td>0</td>\n",
       "      <td>18</td>\n",
       "      <td>0</td>\n",
       "      <td>0</td>\n",
       "      <td>19000</td>\n",
       "      <td>True</td>\n",
       "      <td>1014.0</td>\n",
       "      <td>2.0</td>\n",
       "    </tr>\n",
       "    <tr>\n",
       "      <th>19</th>\n",
       "      <td>95</td>\n",
       "      <td>835457</td>\n",
       "      <td>2746</td>\n",
       "      <td>484</td>\n",
       "      <td>0</td>\n",
       "      <td>19</td>\n",
       "      <td>0</td>\n",
       "      <td>1</td>\n",
       "      <td>20000</td>\n",
       "      <td>True</td>\n",
       "      <td>484.0</td>\n",
       "      <td>2.0</td>\n",
       "    </tr>\n",
       "    <tr>\n",
       "      <th>20</th>\n",
       "      <td>96</td>\n",
       "      <td>0</td>\n",
       "      <td>5382</td>\n",
       "      <td>5000</td>\n",
       "      <td>0</td>\n",
       "      <td>0</td>\n",
       "      <td>0</td>\n",
       "      <td>1</td>\n",
       "      <td>4294967295</td>\n",
       "      <td>None</td>\n",
       "      <td>5000.0</td>\n",
       "      <td>5.0</td>\n",
       "    </tr>\n",
       "    <tr>\n",
       "      <th>21</th>\n",
       "      <td>97</td>\n",
       "      <td>39828</td>\n",
       "      <td>5382</td>\n",
       "      <td>3944</td>\n",
       "      <td>0</td>\n",
       "      <td>1</td>\n",
       "      <td>1</td>\n",
       "      <td>0</td>\n",
       "      <td>24000</td>\n",
       "      <td>False</td>\n",
       "      <td>3944.0</td>\n",
       "      <td>5.0</td>\n",
       "    </tr>\n",
       "    <tr>\n",
       "      <th>22</th>\n",
       "      <td>98</td>\n",
       "      <td>132189</td>\n",
       "      <td>5382</td>\n",
       "      <td>217</td>\n",
       "      <td>0</td>\n",
       "      <td>2</td>\n",
       "      <td>0</td>\n",
       "      <td>1</td>\n",
       "      <td>35000</td>\n",
       "      <td>False</td>\n",
       "      <td>217.0</td>\n",
       "      <td>2.0</td>\n",
       "    </tr>\n",
       "    <tr>\n",
       "      <th>23</th>\n",
       "      <td>99</td>\n",
       "      <td>153727</td>\n",
       "      <td>5382</td>\n",
       "      <td>5844</td>\n",
       "      <td>0</td>\n",
       "      <td>3</td>\n",
       "      <td>1</td>\n",
       "      <td>0</td>\n",
       "      <td>88000</td>\n",
       "      <td>False</td>\n",
       "      <td>5844.0</td>\n",
       "      <td>5.0</td>\n",
       "    </tr>\n",
       "    <tr>\n",
       "      <th>24</th>\n",
       "      <td>100</td>\n",
       "      <td>169080</td>\n",
       "      <td>5382</td>\n",
       "      <td>5965</td>\n",
       "      <td>0</td>\n",
       "      <td>4</td>\n",
       "      <td>2</td>\n",
       "      <td>1</td>\n",
       "      <td>18000</td>\n",
       "      <td>False</td>\n",
       "      <td>5965.0</td>\n",
       "      <td>5.0</td>\n",
       "    </tr>\n",
       "    <tr>\n",
       "      <th>25</th>\n",
       "      <td>101</td>\n",
       "      <td>178049</td>\n",
       "      <td>5382</td>\n",
       "      <td>4990</td>\n",
       "      <td>0</td>\n",
       "      <td>5</td>\n",
       "      <td>3</td>\n",
       "      <td>1</td>\n",
       "      <td>12000</td>\n",
       "      <td>False</td>\n",
       "      <td>4990.0</td>\n",
       "      <td>5.0</td>\n",
       "    </tr>\n",
       "    <tr>\n",
       "      <th>26</th>\n",
       "      <td>102</td>\n",
       "      <td>274437</td>\n",
       "      <td>5382</td>\n",
       "      <td>5235</td>\n",
       "      <td>0</td>\n",
       "      <td>6</td>\n",
       "      <td>0</td>\n",
       "      <td>1</td>\n",
       "      <td>5000</td>\n",
       "      <td>False</td>\n",
       "      <td>5235.0</td>\n",
       "      <td>5.0</td>\n",
       "    </tr>\n",
       "    <tr>\n",
       "      <th>27</th>\n",
       "      <td>103</td>\n",
       "      <td>348777</td>\n",
       "      <td>5382</td>\n",
       "      <td>6050</td>\n",
       "      <td>0</td>\n",
       "      <td>7</td>\n",
       "      <td>3</td>\n",
       "      <td>1</td>\n",
       "      <td>92000</td>\n",
       "      <td>False</td>\n",
       "      <td>6050.0</td>\n",
       "      <td>5.0</td>\n",
       "    </tr>\n",
       "    <tr>\n",
       "      <th>28</th>\n",
       "      <td>104</td>\n",
       "      <td>367177</td>\n",
       "      <td>5382</td>\n",
       "      <td>5721</td>\n",
       "      <td>0</td>\n",
       "      <td>8</td>\n",
       "      <td>1</td>\n",
       "      <td>0</td>\n",
       "      <td>70000</td>\n",
       "      <td>False</td>\n",
       "      <td>5721.0</td>\n",
       "      <td>5.0</td>\n",
       "    </tr>\n",
       "    <tr>\n",
       "      <th>29</th>\n",
       "      <td>105</td>\n",
       "      <td>451108</td>\n",
       "      <td>5382</td>\n",
       "      <td>5580</td>\n",
       "      <td>0</td>\n",
       "      <td>9</td>\n",
       "      <td>3</td>\n",
       "      <td>0</td>\n",
       "      <td>14000</td>\n",
       "      <td>False</td>\n",
       "      <td>5580.0</td>\n",
       "      <td>5.0</td>\n",
       "    </tr>\n",
       "  </tbody>\n",
       "</table>\n",
       "</div>"
      ],
      "text/plain": [
       "    row_id  timestamp  user_id  content_id  content_type_id  \\\n",
       "0       76          0     2746        5273                0   \n",
       "1       77      21592     2746         758                0   \n",
       "2       78      49069     2746        5976                0   \n",
       "3       79      72254     2746         236                0   \n",
       "4       80      91945     2746         404                0   \n",
       "5       81     111621     2746         382                0   \n",
       "6       82     134341     2746         405                0   \n",
       "7       83     234605     2746         873                0   \n",
       "8       84     283894     2746         531                0   \n",
       "9       85     328640     2746         775                0   \n",
       "10      86     357471     2746         294                0   \n",
       "11      87     384415     2746         714                0   \n",
       "12      88     428637     2746         297                0   \n",
       "13      89     653762     2746        6808                1   \n",
       "14      90     674559     2746         297                0   \n",
       "15      91     704065     2746         775                0   \n",
       "16      92     735114     2746        1295                0   \n",
       "17      93     761885     2746       10684                0   \n",
       "18      94     800255     2746        1014                0   \n",
       "19      95     835457     2746         484                0   \n",
       "20      96          0     5382        5000                0   \n",
       "21      97      39828     5382        3944                0   \n",
       "22      98     132189     5382         217                0   \n",
       "23      99     153727     5382        5844                0   \n",
       "24     100     169080     5382        5965                0   \n",
       "25     101     178049     5382        4990                0   \n",
       "26     102     274437     5382        5235                0   \n",
       "27     103     348777     5382        6050                0   \n",
       "28     104     367177     5382        5721                0   \n",
       "29     105     451108     5382        5580                0   \n",
       "\n",
       "    task_container_id  user_answer  answered_correctly  \\\n",
       "0                   0            1                   0   \n",
       "1                   1            0                   0   \n",
       "2                   2            3                   0   \n",
       "3                   3            3                   1   \n",
       "4                   4            3                   0   \n",
       "5                   5            0                   1   \n",
       "6                   6            1                   1   \n",
       "7                   7            3                   1   \n",
       "8                   8            0                   1   \n",
       "9                   9            3                   0   \n",
       "10                 10            3                   1   \n",
       "11                 11            3                   1   \n",
       "12                 12            0                   0   \n",
       "13                 13           -1                  -1   \n",
       "14                 14            3                   1   \n",
       "15                 15            3                   0   \n",
       "16                 16            3                   1   \n",
       "17                 17            0                   1   \n",
       "18                 18            0                   0   \n",
       "19                 19            0                   1   \n",
       "20                  0            0                   1   \n",
       "21                  1            1                   0   \n",
       "22                  2            0                   1   \n",
       "23                  3            1                   0   \n",
       "24                  4            2                   1   \n",
       "25                  5            3                   1   \n",
       "26                  6            0                   1   \n",
       "27                  7            3                   1   \n",
       "28                  8            1                   0   \n",
       "29                  9            3                   0   \n",
       "\n",
       "    prior_question_elapsed_time prior_question_had_explanation  question_id  \\\n",
       "0                    4294967295                           None       5273.0   \n",
       "1                         28000                          False        758.0   \n",
       "2                         17000                          False       5976.0   \n",
       "3                         24000                          False        236.0   \n",
       "4                         20000                          False        404.0   \n",
       "5                         16000                          False        382.0   \n",
       "6                         16000                          False        405.0   \n",
       "7                         19000                          False        873.0   \n",
       "8                         18000                           True        531.0   \n",
       "9                         18000                           True        775.0   \n",
       "10                        20000                           True        294.0   \n",
       "11                        13000                           True        714.0   \n",
       "12                        13000                           True        297.0   \n",
       "13                   4294967295                          False       6808.0   \n",
       "14                        16000                           True        297.0   \n",
       "15                        15000                           True        775.0   \n",
       "16                        16000                           True       1295.0   \n",
       "17                        17000                           True      10684.0   \n",
       "18                        19000                           True       1014.0   \n",
       "19                        20000                           True        484.0   \n",
       "20                   4294967295                           None       5000.0   \n",
       "21                        24000                          False       3944.0   \n",
       "22                        35000                          False        217.0   \n",
       "23                        88000                          False       5844.0   \n",
       "24                        18000                          False       5965.0   \n",
       "25                        12000                          False       4990.0   \n",
       "26                         5000                          False       5235.0   \n",
       "27                        92000                          False       6050.0   \n",
       "28                        70000                          False       5721.0   \n",
       "29                        14000                          False       5580.0   \n",
       "\n",
       "    part  \n",
       "0    5.0  \n",
       "1    2.0  \n",
       "2    5.0  \n",
       "3    2.0  \n",
       "4    2.0  \n",
       "5    2.0  \n",
       "6    2.0  \n",
       "7    2.0  \n",
       "8    2.0  \n",
       "9    2.0  \n",
       "10   2.0  \n",
       "11   2.0  \n",
       "12   2.0  \n",
       "13   6.0  \n",
       "14   2.0  \n",
       "15   2.0  \n",
       "16   2.0  \n",
       "17   2.0  \n",
       "18   2.0  \n",
       "19   2.0  \n",
       "20   5.0  \n",
       "21   5.0  \n",
       "22   2.0  \n",
       "23   5.0  \n",
       "24   5.0  \n",
       "25   5.0  \n",
       "26   5.0  \n",
       "27   5.0  \n",
       "28   5.0  \n",
       "29   5.0  "
      ]
     },
     "execution_count": 62,
     "metadata": {},
     "output_type": "execute_result"
    }
   ],
   "source": [
    "train.head(30)"
   ]
  },
  {
   "cell_type": "code",
   "execution_count": 63,
   "metadata": {
    "execution": {
     "iopub.execute_input": "2020-10-24T12:31:43.386892Z",
     "iopub.status.busy": "2020-10-24T12:31:43.386119Z",
     "iopub.status.idle": "2020-10-24T12:31:43.447239Z",
     "shell.execute_reply": "2020-10-24T12:31:43.445377Z"
    },
    "papermill": {
     "duration": 0.1882,
     "end_time": "2020-10-24T12:31:43.447380",
     "exception": false,
     "start_time": "2020-10-24T12:31:43.259180",
     "status": "completed"
    },
    "tags": []
   },
   "outputs": [
    {
     "data": {
      "application/vnd.jupyter.widget-view+json": {
       "model_id": "2636677694a344b08f2b93f4622fc7b8",
       "version_major": 2,
       "version_minor": 0
      },
      "text/plain": [
       "HBox(children=(FloatProgress(value=0.0, description='progress: ', max=8.0, style=ProgressStyle(description_wid…"
      ]
     },
     "metadata": {},
     "output_type": "display_data"
    },
    {
     "name": "stdout",
     "output_type": "stream",
     "text": [
      "\n"
     ]
    }
   ],
   "source": [
    "tmp = train.groupby([\"user_id\"])['content_type_id'].progress_apply(lambda x: pd.DataFrame([0] + (x==1).cumsum().tolist()[:-1])) "
   ]
  },
  {
   "cell_type": "code",
   "execution_count": 64,
   "metadata": {
    "execution": {
     "iopub.execute_input": "2020-10-24T12:31:43.696091Z",
     "iopub.status.busy": "2020-10-24T12:31:43.694850Z",
     "iopub.status.idle": "2020-10-24T12:31:43.699111Z",
     "shell.execute_reply": "2020-10-24T12:31:43.698323Z"
    },
    "papermill": {
     "duration": 0.13057,
     "end_time": "2020-10-24T12:31:43.699256",
     "exception": false,
     "start_time": "2020-10-24T12:31:43.568686",
     "status": "completed"
    },
    "tags": []
   },
   "outputs": [],
   "source": [
    "# to calculate lecture ratio before ans\n",
    "\n",
    "#tmp = train.groupby([\"user_id\"])['content_type_id'].apply(lambda x: pd.DataFrame([0] + (x==1).cumsum().tolist()[:-1])) #.reset_index(drop=True)[0].values\n",
    "#tmp = tmp.groupby(\"user_id\")[0].apply(lambda x: pd.DataFrame([0 if i == 0 else x.iloc[i]/i for i in range(len(x))])) old\n",
    "#tmp = tmp.groupby(\"user_id\")[0].apply(lambda x: pd.DataFrame(np.divide(np.array(x, dtype=float), np.arange(len(x))))) #new\n",
    "#tmp.fillna(0, inplace=True)\n",
    "#tmp.head(30)"
   ]
  },
  {
   "cell_type": "code",
   "execution_count": 65,
   "metadata": {
    "execution": {
     "iopub.execute_input": "2020-10-24T12:31:43.951265Z",
     "iopub.status.busy": "2020-10-24T12:31:43.950230Z",
     "iopub.status.idle": "2020-10-24T12:31:43.953703Z",
     "shell.execute_reply": "2020-10-24T12:31:43.952962Z"
    },
    "papermill": {
     "duration": 0.1294,
     "end_time": "2020-10-24T12:31:43.953844",
     "exception": false,
     "start_time": "2020-10-24T12:31:43.824444",
     "status": "completed"
    },
    "tags": []
   },
   "outputs": [],
   "source": [
    "# another way to calculate\n",
    "\n",
    "#lecture_id = list(lectures.lecture_id.unique())\n",
    "#tmp = train.groupby([\"user_id\"])['content_id'].apply(lambda x: pd.DataFrame([0] + (x.isin(lecture_id)).cumsum().tolist()[:-1])) #.reset_index(drop=True)[0].values\n",
    "#tmp = tmp.groupby(\"user_id\")[0].apply(lambda x: pd.DataFrame(np.divide(np.array(x, dtype=float), np.arange(len(x))))) #new\n",
    "#tmp.fillna(0, inplace=True)\n",
    "#tmp.head(30)"
   ]
  },
  {
   "cell_type": "code",
   "execution_count": 66,
   "metadata": {
    "execution": {
     "iopub.execute_input": "2020-10-24T12:31:44.203370Z",
     "iopub.status.busy": "2020-10-24T12:31:44.202601Z",
     "iopub.status.idle": "2020-10-24T12:31:44.212625Z",
     "shell.execute_reply": "2020-10-24T12:31:44.211886Z"
    },
    "papermill": {
     "duration": 0.136624,
     "end_time": "2020-10-24T12:31:44.212757",
     "exception": false,
     "start_time": "2020-10-24T12:31:44.076133",
     "status": "completed"
    },
    "tags": []
   },
   "outputs": [
    {
     "data": {
      "text/plain": [
       "user_id  user_answer\n",
       "2746      3             0.500000\n",
       "          0             0.350000\n",
       "          1             0.100000\n",
       "         -1             0.050000\n",
       "5382      0             0.304688\n",
       "          1             0.273438\n",
       "          3             0.273438\n",
       "          2             0.125000\n",
       "         -1             0.023438\n",
       "8623      0             0.303571\n",
       "          3             0.276786\n",
       "          1             0.258929\n",
       "          2             0.133929\n",
       "         -1             0.026786\n",
       "8701      0             0.470588\n",
       "          3             0.294118\n",
       "          1             0.117647\n",
       "          2             0.117647\n",
       "12741     0             0.276753\n",
       "          2             0.261993\n",
       "          1             0.232472\n",
       "          3             0.206642\n",
       "         -1             0.022140\n",
       "13134     0             0.303200\n",
       "          3             0.282400\n",
       "          1             0.278400\n",
       "          2             0.130400\n",
       "         -1             0.005600\n",
       "24418     1             0.271040\n",
       "          0             0.269183\n",
       "          3             0.258509\n",
       "          2             0.173267\n",
       "         -1             0.028001\n",
       "24600     0             0.320000\n",
       "          1             0.240000\n",
       "          3             0.240000\n",
       "          2             0.200000\n",
       "Name: user_answer, dtype: float64"
      ]
     },
     "execution_count": 66,
     "metadata": {},
     "output_type": "execute_result"
    }
   ],
   "source": [
    "train.groupby(\"user_id\")['user_answer'].value_counts(normalize=True)"
   ]
  },
  {
   "cell_type": "code",
   "execution_count": 67,
   "metadata": {
    "execution": {
     "iopub.execute_input": "2020-10-24T12:31:44.462097Z",
     "iopub.status.busy": "2020-10-24T12:31:44.461098Z",
     "iopub.status.idle": "2020-10-24T12:31:44.464209Z",
     "shell.execute_reply": "2020-10-24T12:31:44.463610Z"
    },
    "papermill": {
     "duration": 0.129512,
     "end_time": "2020-10-24T12:31:44.464346",
     "exception": false,
     "start_time": "2020-10-24T12:31:44.334834",
     "status": "completed"
    },
    "tags": []
   },
   "outputs": [],
   "source": [
    "# accuracy by user_id and part\n",
    "\n",
    "#tmp = train.groupby(['user_id', 'part']).agg({'answered_correctly': ['count']}).unstack().values\n",
    "#np.nansum(tmp[:,4:], axis=1), np.nansum(tmp[:,:4], axis=1)"
   ]
  },
  {
   "cell_type": "code",
   "execution_count": 68,
   "metadata": {
    "execution": {
     "iopub.execute_input": "2020-10-24T12:31:44.714182Z",
     "iopub.status.busy": "2020-10-24T12:31:44.713221Z",
     "iopub.status.idle": "2020-10-24T12:31:44.716898Z",
     "shell.execute_reply": "2020-10-24T12:31:44.715933Z"
    },
    "papermill": {
     "duration": 0.130605,
     "end_time": "2020-10-24T12:31:44.717047",
     "exception": false,
     "start_time": "2020-10-24T12:31:44.586442",
     "status": "completed"
    },
    "tags": []
   },
   "outputs": [],
   "source": [
    "#tmp1 = pd.DataFrame(train.groupby(['user_id', 'part']).agg({'answered_correctly': ['count']}).unstack())\n",
    "#tmp1.columns = [1,2,3,4,5,6,7]\n",
    "#tmp1[\"read\"], tmp1[\"listen\"] = tmp1.iloc[:,4:].sum(axis=1), tmp1.iloc[:,:4].sum(axis=1)\n",
    "#tmp1.drop([1,2,3,4,5,6,7], axis=1,inplace=True)\n",
    "\n",
    "#tmp = pd.DataFrame(train.groupby(['user_id', 'part']).agg({'answered_correctly': ['sum']}).unstack())\n",
    "#tmp.columns = [1,2,3,4,5,6,7]\n",
    "#tmp[\"read\"], tmp[\"listen\"] = tmp.iloc[:,4:].sum(axis=1), tmp.iloc[:,:4].sum(axis=1)\n",
    "#tmp.drop([1,2,3,4,5,6,7], axis=1,inplace=True)\n",
    "#tmp[\"read\"] /= tmp1[\"read\"]\n",
    "#tmp[\"listen\"] /= tmp1[\"listen\"]\n",
    "\n",
    "#tmp"
   ]
  },
  {
   "cell_type": "code",
   "execution_count": 69,
   "metadata": {
    "execution": {
     "iopub.execute_input": "2020-10-24T12:31:44.968855Z",
     "iopub.status.busy": "2020-10-24T12:31:44.967727Z",
     "iopub.status.idle": "2020-10-24T12:31:44.971563Z",
     "shell.execute_reply": "2020-10-24T12:31:44.970938Z"
    },
    "papermill": {
     "duration": 0.130304,
     "end_time": "2020-10-24T12:31:44.971698",
     "exception": false,
     "start_time": "2020-10-24T12:31:44.841394",
     "status": "completed"
    },
    "tags": []
   },
   "outputs": [],
   "source": [
    "#part1_g = pd.DataFrame(train.groupby([\"user_id\"])['part'].apply(lambda x: x==1))\n",
    "#part2_g = pd.DataFrame(train.groupby([\"user_id\"])['part'].apply(lambda x: x==2))\n",
    "#part3_g = pd.DataFrame(train.groupby([\"user_id\"])['part'].apply(lambda x: x==3))\n",
    "#part4_g = pd.DataFrame(train.groupby([\"user_id\"])['part'].apply(lambda x: x==4))\n",
    "#np.logical_or(part2_g.values ,part1_g.values, part3_g.values).cumsum()"
   ]
  },
  {
   "cell_type": "code",
   "execution_count": 70,
   "metadata": {
    "execution": {
     "iopub.execute_input": "2020-10-24T12:31:45.220669Z",
     "iopub.status.busy": "2020-10-24T12:31:45.219867Z",
     "iopub.status.idle": "2020-10-24T12:31:45.223313Z",
     "shell.execute_reply": "2020-10-24T12:31:45.222666Z"
    },
    "papermill": {
     "duration": 0.129127,
     "end_time": "2020-10-24T12:31:45.223455",
     "exception": false,
     "start_time": "2020-10-24T12:31:45.094328",
     "status": "completed"
    },
    "tags": []
   },
   "outputs": [],
   "source": [
    "#tmp = train.groupby(['user_id', 'part']).agg({'answered_correctly': ['mean']}).copy().unstack()\n",
    "#tmp.columns = [\"part1_acc\", \"part2_acc\", \"part3_acc\", \"part4_acc\", \"part5_acc\", \"part6_acc\", \"part7_acc\"]\n",
    "#train.merge(tmp, how=\"left\", on=['user_id'])"
   ]
  },
  {
   "cell_type": "code",
   "execution_count": 71,
   "metadata": {
    "execution": {
     "iopub.execute_input": "2020-10-24T12:31:45.475874Z",
     "iopub.status.busy": "2020-10-24T12:31:45.475067Z",
     "iopub.status.idle": "2020-10-24T12:31:45.478722Z",
     "shell.execute_reply": "2020-10-24T12:31:45.477996Z"
    },
    "papermill": {
     "duration": 0.129911,
     "end_time": "2020-10-24T12:31:45.478851",
     "exception": false,
     "start_time": "2020-10-24T12:31:45.348940",
     "status": "completed"
    },
    "tags": []
   },
   "outputs": [],
   "source": [
    "# to calculate acc before ans\n",
    "# https://stackoverflow.com/questions/37997668/pandas-number-rows-within-group-in-increasing-order\n",
    "\n",
    "# cumsum correct answer by user_id\n",
    "#tmp1 = train.groupby(['user_id'])['answered_correctly'].apply(lambda x: pd.concat([pd.DataFrame([0]), x.cumsum()[:-1]])).reset_index(drop=True).values\n",
    "# cumsum total try by user_id\n",
    "#tmp2 = train.groupby(['user_id']).cumcount().values # total try\n",
    "#tmp = [(tmp1[i]/tmp2[i])[0] if tmp2[i] != 0 else -1 for i in range(len(tmp1))]\n",
    "#len(tmp)"
   ]
  },
  {
   "cell_type": "code",
   "execution_count": 72,
   "metadata": {
    "execution": {
     "iopub.execute_input": "2020-10-24T12:31:45.742588Z",
     "iopub.status.busy": "2020-10-24T12:31:45.731425Z",
     "iopub.status.idle": "2020-10-24T12:31:45.979557Z",
     "shell.execute_reply": "2020-10-24T12:31:45.978866Z"
    },
    "papermill": {
     "duration": 0.378713,
     "end_time": "2020-10-24T12:31:45.979693",
     "exception": false,
     "start_time": "2020-10-24T12:31:45.600980",
     "status": "completed"
    },
    "tags": []
   },
   "outputs": [],
   "source": [
    "df = train.copy()\n",
    "part1_cumsum = df.groupby([\"user_id\"])['part'].apply(lambda x: pd.DataFrame([0] + (x==1).cumsum().tolist()[:-1])).reset_index(drop=True)[0].values\n",
    "part2_cumsum = df.groupby([\"user_id\"])['part'].apply(lambda x: pd.DataFrame([0] + (x==2).cumsum().tolist()[:-1])).reset_index(drop=True)[0].values\n",
    "part3_cumsum = df.groupby([\"user_id\"])['part'].apply(lambda x: pd.DataFrame([0] + (x==3).cumsum().tolist()[:-1])).reset_index(drop=True)[0].values\n",
    "part4_cumsum = df.groupby([\"user_id\"])['part'].apply(lambda x: pd.DataFrame([0] + (x==4).cumsum().tolist()[:-1])).reset_index(drop=True)[0].values\n",
    "part5_cumsum = df.groupby([\"user_id\"])['part'].apply(lambda x: pd.DataFrame([0] + (x==5).cumsum().tolist()[:-1])).reset_index(drop=True)[0].values\n",
    "part6_cumsum = df.groupby([\"user_id\"])['part'].apply(lambda x: pd.DataFrame([0] + (x==6).cumsum().tolist()[:-1])).reset_index(drop=True)[0].values\n",
    "part7_cumsum = df.groupby([\"user_id\"])['part'].apply(lambda x: pd.DataFrame([0] + (x==7).cumsum().tolist()[:-1])).reset_index(drop=True)[0].values\n",
    "\n",
    "# logical bool if part is matched by user\n",
    "part1_g = pd.DataFrame(df.groupby([\"user_id\"])['part'].apply(lambda x: x==1))\n",
    "part2_g = pd.DataFrame(df.groupby([\"user_id\"])['part'].apply(lambda x: x==2))\n",
    "part3_g = pd.DataFrame(df.groupby([\"user_id\"])['part'].apply(lambda x: x==3))\n",
    "part4_g = pd.DataFrame(df.groupby([\"user_id\"])['part'].apply(lambda x: x==4))\n",
    "part5_g = pd.DataFrame(df.groupby([\"user_id\"])['part'].apply(lambda x: x==5))\n",
    "part6_g = pd.DataFrame(df.groupby([\"user_id\"])['part'].apply(lambda x: x==6))\n",
    "part7_g = pd.DataFrame(df.groupby([\"user_id\"])['part'].apply(lambda x: x==7))\n",
    "# logical bool if answer is correct by user\n",
    "acc_g = pd.DataFrame(df.groupby([\"user_id\"])['answered_correctly'].apply(lambda x: x==1))\n",
    "        \n",
    "listen_cumsum = part1_cumsum + part2_cumsum  + part3_cumsum + part4_cumsum\n",
    "read_cumsum = part5_cumsum + part6_cumsum  + part7_cumsum\n",
    "        \n",
    "listen_g = np.logical_or(np.logical_or(part1_g.values, part2_g.values, part3_g.values), part4_g.values)\n",
    "read_g = np.logical_or(part5_g.values, part6_g.values, part7_g.values)\n",
    "\n",
    "listen_acc_cumsum = np.logical_and(acc_g.values ,listen_g)\n",
    "read_acc_cumsum = np.logical_and(acc_g.values ,read_g)\n",
    "\n",
    "df[\"read_and_ok\"] = read_acc_cumsum\n",
    "df[\"listen_and_ok\"] = listen_acc_cumsum\n",
    "        \n",
    "read_acc_cumsum = df.groupby([\"user_id\"])['read_and_ok'].apply(lambda x: pd.DataFrame([0] + (x==1).cumsum().tolist()[:-1])).reset_index(drop=True)[0].values\n",
    "listen_acc_cumsum = df.groupby([\"user_id\"])['listen_and_ok'].apply(lambda x: pd.DataFrame([0] + (x==1).cumsum().tolist()[:-1])).reset_index(drop=True)[0].values\n",
    "\n",
    "read_acc_rate = [read_acc_cumsum[i] / read_cumsum[i] if read_cumsum[i] != 0 else -1 for i in range(len(read_cumsum))]\n",
    "listen_acc_rate = [listen_acc_cumsum[i] / listen_cumsum[i] if listen_cumsum[i] != 0 else -1 for i in range(len(listen_cumsum))]        \n",
    "\n",
    "df[\"read_acc\"] = read_acc_rate\n",
    "df[\"listen_acc\"] = listen_acc_rate"
   ]
  },
  {
   "cell_type": "code",
   "execution_count": 73,
   "metadata": {
    "execution": {
     "iopub.execute_input": "2020-10-24T12:31:46.250871Z",
     "iopub.status.busy": "2020-10-24T12:31:46.239732Z",
     "iopub.status.idle": "2020-10-24T12:31:46.372346Z",
     "shell.execute_reply": "2020-10-24T12:31:46.372933Z"
    },
    "papermill": {
     "duration": 0.267121,
     "end_time": "2020-10-24T12:31:46.373151",
     "exception": false,
     "start_time": "2020-10-24T12:31:46.106030",
     "status": "completed"
    },
    "tags": []
   },
   "outputs": [],
   "source": [
    "ans1_cumsum = train.groupby([\"user_id\"])['user_answer'].apply(lambda x: pd.DataFrame([0] + (x==1).cumsum().tolist()[:-1])).reset_index(drop=True)[0].values\n",
    "ans2_cumsum = train.groupby([\"user_id\"])['user_answer'].apply(lambda x: pd.DataFrame([0] + (x==2).cumsum().tolist()[:-1])).reset_index(drop=True)[0].values\n",
    "ans3_cumsum = train.groupby([\"user_id\"])['user_answer'].apply(lambda x: pd.DataFrame([0] + (x==3).cumsum().tolist()[:-1])).reset_index(drop=True)[0].values\n",
    "ans4_cumsum = train.groupby([\"user_id\"])['user_answer'].apply(lambda x: pd.DataFrame([0] + (x==4).cumsum().tolist()[:-1])).reset_index(drop=True)[0].values\n",
    "total_cumsum = ans1_cumsum + ans2_cumsum + ans3_cumsum + ans4_cumsum\n",
    "\n",
    "ans1_ratio = [ans1_cumsum[i] / total_cumsum[i] if total_cumsum[i] != 0 else -1 for i in range(len(total_cumsum))]\n",
    "ans2_ratio = [ans1_cumsum[i] / total_cumsum[i] if total_cumsum[i] != 0 else -1 for i in range(len(total_cumsum))]\n",
    "ans3_ratio = [ans1_cumsum[i] / total_cumsum[i] if total_cumsum[i] != 0 else -1 for i in range(len(total_cumsum))]\n",
    "ans4_ratio = [ans1_cumsum[i] / total_cumsum[i] if total_cumsum[i] != 0 else -1 for i in range(len(total_cumsum))]"
   ]
  },
  {
   "cell_type": "code",
   "execution_count": 74,
   "metadata": {
    "execution": {
     "iopub.execute_input": "2020-10-24T12:31:46.631149Z",
     "iopub.status.busy": "2020-10-24T12:31:46.629933Z",
     "iopub.status.idle": "2020-10-24T12:31:46.632862Z",
     "shell.execute_reply": "2020-10-24T12:31:46.633438Z"
    },
    "papermill": {
     "duration": 0.136385,
     "end_time": "2020-10-24T12:31:46.633614",
     "exception": false,
     "start_time": "2020-10-24T12:31:46.497229",
     "status": "completed"
    },
    "tags": []
   },
   "outputs": [],
   "source": [
    "# cumsum of part1 trial\n",
    "#part1_cumsum = train.groupby([\"user_id\"])['part'].apply(lambda x: pd.DataFrame([0] + (x==1).cumsum().tolist()[:-1])).reset_index(drop=True)[0].values\n",
    "#part2_cumsum = train.groupby([\"user_id\"])['part'].apply(lambda x: pd.DataFrame([0] + (x==2).cumsum().tolist()[:-1])).reset_index(drop=True)[0].values\n",
    "#part3_cumsum = train.groupby([\"user_id\"])['part'].apply(lambda x: pd.DataFrame([0] + (x==3).cumsum().tolist()[:-1])).reset_index(drop=True)[0].values\n",
    "#part4_cumsum = train.groupby([\"user_id\"])['part'].apply(lambda x: pd.DataFrame([0] + (x==4).cumsum().tolist()[:-1])).reset_index(drop=True)[0].values\n",
    "#part5_cumsum = train.groupby([\"user_id\"])['part'].apply(lambda x: pd.DataFrame([0] + (x==5).cumsum().tolist()[:-1])).reset_index(drop=True)[0].values\n",
    "#part6_cumsum = train.groupby([\"user_id\"])['part'].apply(lambda x: pd.DataFrame([0] + (x==6).cumsum().tolist()[:-1])).reset_index(drop=True)[0].values\n",
    "#part7_cumsum = train.groupby([\"user_id\"])['part'].apply(lambda x: pd.DataFrame([0] + (x==7).cumsum().tolist()[:-1])).reset_index(drop=True)[0].values\n",
    "\n",
    "#part1_g = pd.DataFrame(train.groupby([\"user_id\"])['part'].apply(lambda x: x==1))\n",
    "#part2_g = pd.DataFrame(train.groupby([\"user_id\"])['part'].apply(lambda x: x==2))\n",
    "#part3_g = pd.DataFrame(train.groupby([\"user_id\"])['part'].apply(lambda x: x==3))\n",
    "#part4_g = pd.DataFrame(train.groupby([\"user_id\"])['part'].apply(lambda x: x==4))\n",
    "#part5_g = pd.DataFrame(train.groupby([\"user_id\"])['part'].apply(lambda x: x==5))\n",
    "#part6_g = pd.DataFrame(train.groupby([\"user_id\"])['part'].apply(lambda x: x==6))\n",
    "#part7_g = pd.DataFrame(train.groupby([\"user_id\"])['part'].apply(lambda x: x==7))\n",
    "#acc_g = pd.DataFrame(train.groupby([\"user_id\"])['answered_correctly'].apply(lambda x: x==1))\n",
    "\n",
    "# cumsum of correct num per part \n",
    "#part1_acc_cumsum = np.logical_and(acc_g.values ,part1_g.values)#.cumsum().tolist()[:-1]\n",
    "#part2_acc_cumsum = np.logical_and(acc_g.values ,part2_g.values)#.cumsum().tolist()[:-1]\n",
    "#part3_acc_cumsum = np.logical_and(acc_g.values ,part3_g.values)#.cumsum().tolist()[:-1]\n",
    "#part4_acc_cumsum = np.logical_and(acc_g.values ,part4_g.values)#.cumsum().tolist()[:-1]\n",
    "#part5_acc_cumsum = np.logical_and(acc_g.values ,part5_g.values)#.cumsum().tolist()[:-1]\n",
    "#part6_acc_cumsum = np.logical_and(acc_g.values ,part6_g.values)#.cumsum().tolist()[:-1]\n",
    "#part7_acc_cumsum = np.logical_and(acc_g.values ,part7_g.values)#.cumsum().tolist()[:-1]\n",
    "#train[\"part1_and_ok\"] = part1_acc_cumsum\n",
    "#train[\"part2_and_ok\"] = part2_acc_cumsum\n",
    "#train[\"part3_and_ok\"] = part3_acc_cumsum\n",
    "#train[\"part4_and_ok\"] = part4_acc_cumsum\n",
    "#train[\"part5_and_ok\"] = part5_acc_cumsum\n",
    "#train[\"part6_and_ok\"] = part6_acc_cumsum\n",
    "#train[\"part7_and_ok\"] = part7_acc_cumsum\n",
    "#part1_acc_cumsum = train.groupby([\"user_id\"])['part1_and_ok'].apply(lambda x: pd.DataFrame([0] + (x==1).cumsum().tolist()[:-1])).reset_index(drop=True)[0].values\n",
    "#part2_acc_cumsum = train.groupby([\"user_id\"])['part2_and_ok'].apply(lambda x: pd.DataFrame([0] + (x==1).cumsum().tolist()[:-1])).reset_index(drop=True)[0].values\n",
    "#part3_acc_cumsum = train.groupby([\"user_id\"])['part3_and_ok'].apply(lambda x: pd.DataFrame([0] + (x==1).cumsum().tolist()[:-1])).reset_index(drop=True)[0].values\n",
    "#part4_acc_cumsum = train.groupby([\"user_id\"])['part4_and_ok'].apply(lambda x: pd.DataFrame([0] + (x==1).cumsum().tolist()[:-1])).reset_index(drop=True)[0].values\n",
    "#part5_acc_cumsum = train.groupby([\"user_id\"])['part5_and_ok'].apply(lambda x: pd.DataFrame([0] + (x==1).cumsum().tolist()[:-1])).reset_index(drop=True)[0].values\n",
    "#part6_acc_cumsum = train.groupby([\"user_id\"])['part6_and_ok'].apply(lambda x: pd.DataFrame([0] + (x==1).cumsum().tolist()[:-1])).reset_index(drop=True)[0].values\n",
    "#part7_acc_cumsum = train.groupby([\"user_id\"])['part7_and_ok'].apply(lambda x: pd.DataFrame([0] + (x==1).cumsum().tolist()[:-1])).reset_index(drop=True)[0].values\n",
    "\n",
    "#part1_acc_rate = [part1_acc_cumsum[i]/ part1_cumsum[i] if part1_cumsum[i] != 0 else -1 for i in range(len(part1_cumsum))]\n",
    "#part2_acc_rate = [part2_acc_cumsum[i]/ part2_cumsum[i] if part2_cumsum[i] != 0 else -1 for i in range(len(part2_cumsum))]\n",
    "#part3_acc_rate = [part3_acc_cumsum[i]/ part3_cumsum[i] if part3_cumsum[i] != 0 else -1 for i in range(len(part3_cumsum))]\n",
    "#part4_acc_rate = [part4_acc_cumsum[i]/ part4_cumsum[i] if part4_cumsum[i] != 0 else -1 for i in range(len(part4_cumsum))]\n",
    "#part5_acc_rate = [part5_acc_cumsum[i]/ part5_cumsum[i] if part5_cumsum[i] != 0 else -1 for i in range(len(part5_cumsum))]\n",
    "#part6_acc_rate = [part6_acc_cumsum[i]/ part6_cumsum[i] if part6_cumsum[i] != 0 else -1 for i in range(len(part6_cumsum))]\n",
    "#part7_acc_rate = [part7_acc_cumsum[i]/ part7_cumsum[i] if part7_cumsum[i] != 0 else -1 for i in range(len(part7_cumsum))]"
   ]
  },
  {
   "cell_type": "code",
   "execution_count": 75,
   "metadata": {
    "execution": {
     "iopub.execute_input": "2020-10-24T12:31:46.887365Z",
     "iopub.status.busy": "2020-10-24T12:31:46.886241Z",
     "iopub.status.idle": "2020-10-24T12:31:46.889828Z",
     "shell.execute_reply": "2020-10-24T12:31:46.889103Z"
    },
    "papermill": {
     "duration": 0.13097,
     "end_time": "2020-10-24T12:31:46.889953",
     "exception": false,
     "start_time": "2020-10-24T12:31:46.758983",
     "status": "completed"
    },
    "tags": []
   },
   "outputs": [],
   "source": [
    "# https://stackoverflow.com/questions/15705630/get-the-rows-which-have-the-max-count-in-groups-using-groupby\n",
    "#max_idx = train.groupby(['user_id'])['task_container_id'].transform(max) == train['task_container_id']\n",
    "#min_idx = train.groupby(['user_id'])['task_container_id'].transform(min) == train['task_container_id']\n",
    "#train[max_idx|min_idx]"
   ]
  },
  {
   "cell_type": "code",
   "execution_count": 76,
   "metadata": {
    "execution": {
     "iopub.execute_input": "2020-10-24T12:31:47.145306Z",
     "iopub.status.busy": "2020-10-24T12:31:47.144133Z",
     "iopub.status.idle": "2020-10-24T12:31:47.148147Z",
     "shell.execute_reply": "2020-10-24T12:31:47.147400Z"
    },
    "papermill": {
     "duration": 0.134818,
     "end_time": "2020-10-24T12:31:47.148276",
     "exception": false,
     "start_time": "2020-10-24T12:31:47.013458",
     "status": "completed"
    },
    "tags": []
   },
   "outputs": [],
   "source": [
    "#user_answers_df = train.groupby('user_id').agg({'answered_correctly': ['mean']}).copy()\n",
    "#user_answers_df.columns = ['correct_rate_before_ans']"
   ]
  },
  {
   "cell_type": "code",
   "execution_count": 77,
   "metadata": {
    "execution": {
     "iopub.execute_input": "2020-10-24T12:31:47.400895Z",
     "iopub.status.busy": "2020-10-24T12:31:47.400033Z",
     "iopub.status.idle": "2020-10-24T12:31:47.403408Z",
     "shell.execute_reply": "2020-10-24T12:31:47.402635Z"
    },
    "papermill": {
     "duration": 0.130967,
     "end_time": "2020-10-24T12:31:47.403550",
     "exception": false,
     "start_time": "2020-10-24T12:31:47.272583",
     "status": "completed"
    },
    "tags": []
   },
   "outputs": [],
   "source": [
    "#tmp = train.groupby('part').agg({'answered_correctly': ['mean']}).copy()\n",
    "#tmp.columns = ['correct_rate']"
   ]
  },
  {
   "cell_type": "code",
   "execution_count": 78,
   "metadata": {
    "execution": {
     "iopub.execute_input": "2020-10-24T12:31:47.658051Z",
     "iopub.status.busy": "2020-10-24T12:31:47.657283Z",
     "iopub.status.idle": "2020-10-24T12:31:47.659962Z",
     "shell.execute_reply": "2020-10-24T12:31:47.660598Z"
    },
    "papermill": {
     "duration": 0.132343,
     "end_time": "2020-10-24T12:31:47.660795",
     "exception": false,
     "start_time": "2020-10-24T12:31:47.528452",
     "status": "completed"
    },
    "tags": []
   },
   "outputs": [],
   "source": [
    "# target encoding + moving average not to cause target leakage\n",
    "#AGGS = [\n",
    "#    ('answered_correctly', 2, ['user_id'], ['mean']),\n",
    "#    ('answered_correctly', 3, ['user_id'], ['mean']),\n",
    "#    ('answered_correctly', 1, [\"user_id\", \"part\"], [\"mean\"])\n",
    "#]\n",
    "\n",
    "#for on, lag, by, hows in AGGS:\n",
    "\n",
    "#    agg = train.groupby(by)[on].apply(lambda x: (\n",
    "#        x\n",
    "#        .shift(1)\n",
    "#        .rolling(window=lag, min_periods=1)\n",
    "#        .agg(hows)\n",
    "#    ))\n",
    "#    agg = agg.rename(columns={\n",
    "#        how: f'{how}_of_last_{lag}_{on}_by_' + '_and_'.join(by)\n",
    "#        for how in hows\n",
    "#    })\n",
    "\n",
    "#    train = train.join(agg)"
   ]
  },
  {
   "cell_type": "code",
   "execution_count": 79,
   "metadata": {
    "execution": {
     "iopub.execute_input": "2020-10-24T12:31:47.919936Z",
     "iopub.status.busy": "2020-10-24T12:31:47.918838Z",
     "iopub.status.idle": "2020-10-24T12:31:47.922428Z",
     "shell.execute_reply": "2020-10-24T12:31:47.921688Z"
    },
    "papermill": {
     "duration": 0.133273,
     "end_time": "2020-10-24T12:31:47.922557",
     "exception": false,
     "start_time": "2020-10-24T12:31:47.789284",
     "status": "completed"
    },
    "tags": []
   },
   "outputs": [],
   "source": [
    "#train.groupby(\"user_id\").tail(2)#.groupby(\"user_id\").agg(\"mean\")[\"answered_correctly\"]"
   ]
  },
  {
   "cell_type": "code",
   "execution_count": 80,
   "metadata": {
    "execution": {
     "iopub.execute_input": "2020-10-24T12:31:48.175939Z",
     "iopub.status.busy": "2020-10-24T12:31:48.175023Z",
     "iopub.status.idle": "2020-10-24T12:31:48.178131Z",
     "shell.execute_reply": "2020-10-24T12:31:48.177355Z"
    },
    "papermill": {
     "duration": 0.131913,
     "end_time": "2020-10-24T12:31:48.178279",
     "exception": false,
     "start_time": "2020-10-24T12:31:48.046366",
     "status": "completed"
    },
    "tags": []
   },
   "outputs": [],
   "source": [
    "# ratio of user answer (not used)\n",
    "\n",
    "#user_answer_ratio = train.groupby(\"user_id\")['user_answer'].value_counts(normalize=True).unstack()\n",
    "#user_answer_ratio.columns = [\"ans1\", \"ans2\", \"ans3\", \"ans4\"]\n",
    "\n",
    "#ans1_cumsum = train.groupby([\"user_id\"])['user_answer'].apply(lambda x: pd.DataFrame([0] + (x==1).cumsum().tolist()[:-1])).reset_index(drop=True)[0].values\n",
    "#ans2_cumsum = train.groupby([\"user_id\"])['user_answer'].apply(lambda x: pd.DataFrame([0] + (x==2).cumsum().tolist()[:-1])).reset_index(drop=True)[0].values\n",
    "#ans3_cumsum = train.groupby([\"user_id\"])['user_answer'].apply(lambda x: pd.DataFrame([0] + (x==3).cumsum().tolist()[:-1])).reset_index(drop=True)[0].values\n",
    "#ans4_cumsum = train.groupby([\"user_id\"])['user_answer'].apply(lambda x: pd.DataFrame([0] + (x==4).cumsum().tolist()[:-1])).reset_index(drop=True)[0].values\n",
    "#total_cumsum = ans1_cumsum + ans2_cumsum + ans3_cumsum + ans4_cumsum\n",
    "\n",
    "#ans1_ratio = [ans1_cumsum[i] / total_cumsum[i] if total_cumsum[i] != 0 else -1 for i in range(len(total_cumsum))]\n",
    "#ans2_ratio = [ans2_cumsum[i] / total_cumsum[i] if total_cumsum[i] != 0 else -1 for i in range(len(total_cumsum))]\n",
    "#ans3_ratio = [ans3_cumsum[i] / total_cumsum[i] if total_cumsum[i] != 0 else -1 for i in range(len(total_cumsum))]\n",
    "#ans4_ratio = [ans4_cumsum[i] / total_cumsum[i] if total_cumsum[i] != 0 else -1 for i in range(len(total_cumsum))]"
   ]
  },
  {
   "cell_type": "markdown",
   "metadata": {
    "papermill": {
     "duration": 0.125015,
     "end_time": "2020-10-24T12:31:48.428940",
     "exception": false,
     "start_time": "2020-10-24T12:31:48.303925",
     "status": "completed"
    },
    "tags": []
   },
   "source": [
    "# unrealized fe part"
   ]
  },
  {
   "cell_type": "code",
   "execution_count": 81,
   "metadata": {
    "execution": {
     "iopub.execute_input": "2020-10-24T12:31:48.706625Z",
     "iopub.status.busy": "2020-10-24T12:31:48.704540Z",
     "iopub.status.idle": "2020-10-24T12:31:48.805523Z",
     "shell.execute_reply": "2020-10-24T12:31:48.804517Z"
    },
    "papermill": {
     "duration": 0.253424,
     "end_time": "2020-10-24T12:31:48.805687",
     "exception": false,
     "start_time": "2020-10-24T12:31:48.552263",
     "status": "completed"
    },
    "tags": []
   },
   "outputs": [
    {
     "ename": "KeyError",
     "evalue": "\"Columns not found: 'part'\"",
     "output_type": "error",
     "traceback": [
      "\u001b[0;31m---------------------------------------------------------------------------\u001b[0m",
      "\u001b[0;31mKeyError\u001b[0m                                  Traceback (most recent call last)",
      "\u001b[0;32m<ipython-input-81-9d686ed279a8>\u001b[0m in \u001b[0;36m<module>\u001b[0;34m\u001b[0m\n\u001b[1;32m      7\u001b[0m \u001b[0mtrain_lectures\u001b[0m \u001b[0;34m=\u001b[0m \u001b[0mtrain\u001b[0m\u001b[0;34m[\u001b[0m\u001b[0mtrain\u001b[0m\u001b[0;34m[\u001b[0m\u001b[0;34m'content_type_id'\u001b[0m\u001b[0;34m]\u001b[0m \u001b[0;34m==\u001b[0m \u001b[0;36m1\u001b[0m\u001b[0;34m]\u001b[0m\u001b[0;34m.\u001b[0m\u001b[0mmerge\u001b[0m\u001b[0;34m(\u001b[0m\u001b[0mlectures\u001b[0m\u001b[0;34m,\u001b[0m \u001b[0mright_on\u001b[0m\u001b[0;34m=\u001b[0m\u001b[0;34m'lecture_id'\u001b[0m\u001b[0;34m,\u001b[0m \u001b[0mleft_on\u001b[0m\u001b[0;34m=\u001b[0m\u001b[0;34m'content_id'\u001b[0m\u001b[0;34m,\u001b[0m \u001b[0mhow\u001b[0m\u001b[0;34m=\u001b[0m\u001b[0;34m'left'\u001b[0m\u001b[0;34m)\u001b[0m\u001b[0;34m\u001b[0m\u001b[0;34m\u001b[0m\u001b[0m\n\u001b[1;32m      8\u001b[0m \u001b[0;34m\u001b[0m\u001b[0m\n\u001b[0;32m----> 9\u001b[0;31m \u001b[0muser_lecture_stats_part\u001b[0m \u001b[0;34m=\u001b[0m \u001b[0mtrain_lectures\u001b[0m\u001b[0;34m.\u001b[0m\u001b[0mgroupby\u001b[0m\u001b[0;34m(\u001b[0m\u001b[0;34m'user_id'\u001b[0m\u001b[0;34m)\u001b[0m\u001b[0;34m[\u001b[0m\u001b[0mpart_lectures_columns\u001b[0m \u001b[0;34m+\u001b[0m \u001b[0mtypes_of_lectures_columns\u001b[0m\u001b[0;34m]\u001b[0m\u001b[0;34m.\u001b[0m\u001b[0msum\u001b[0m\u001b[0;34m(\u001b[0m\u001b[0;34m)\u001b[0m\u001b[0;34m\u001b[0m\u001b[0;34m\u001b[0m\u001b[0m\n\u001b[0m\u001b[1;32m     10\u001b[0m \u001b[0;34m\u001b[0m\u001b[0m\n\u001b[1;32m     11\u001b[0m \u001b[0muser_lecture_stats_part\u001b[0m\u001b[0;34m\u001b[0m\u001b[0;34m\u001b[0m\u001b[0m\n",
      "\u001b[0;32m/opt/conda/lib/python3.7/site-packages/pandas/core/groupby/generic.py\u001b[0m in \u001b[0;36m__getitem__\u001b[0;34m(self, key)\u001b[0m\n\u001b[1;32m   1648\u001b[0m                 \u001b[0mstacklevel\u001b[0m\u001b[0;34m=\u001b[0m\u001b[0;36m2\u001b[0m\u001b[0;34m,\u001b[0m\u001b[0;34m\u001b[0m\u001b[0;34m\u001b[0m\u001b[0m\n\u001b[1;32m   1649\u001b[0m             )\n\u001b[0;32m-> 1650\u001b[0;31m         \u001b[0;32mreturn\u001b[0m \u001b[0msuper\u001b[0m\u001b[0;34m(\u001b[0m\u001b[0;34m)\u001b[0m\u001b[0;34m.\u001b[0m\u001b[0m__getitem__\u001b[0m\u001b[0;34m(\u001b[0m\u001b[0mkey\u001b[0m\u001b[0;34m)\u001b[0m\u001b[0;34m\u001b[0m\u001b[0;34m\u001b[0m\u001b[0m\n\u001b[0m\u001b[1;32m   1651\u001b[0m \u001b[0;34m\u001b[0m\u001b[0m\n\u001b[1;32m   1652\u001b[0m     \u001b[0;32mdef\u001b[0m \u001b[0m_gotitem\u001b[0m\u001b[0;34m(\u001b[0m\u001b[0mself\u001b[0m\u001b[0;34m,\u001b[0m \u001b[0mkey\u001b[0m\u001b[0;34m,\u001b[0m \u001b[0mndim\u001b[0m\u001b[0;34m:\u001b[0m \u001b[0mint\u001b[0m\u001b[0;34m,\u001b[0m \u001b[0msubset\u001b[0m\u001b[0;34m=\u001b[0m\u001b[0;32mNone\u001b[0m\u001b[0;34m)\u001b[0m\u001b[0;34m:\u001b[0m\u001b[0;34m\u001b[0m\u001b[0;34m\u001b[0m\u001b[0m\n",
      "\u001b[0;32m/opt/conda/lib/python3.7/site-packages/pandas/core/base.py\u001b[0m in \u001b[0;36m__getitem__\u001b[0;34m(self, key)\u001b[0m\n\u001b[1;32m    216\u001b[0m             \u001b[0;32mif\u001b[0m \u001b[0mlen\u001b[0m\u001b[0;34m(\u001b[0m\u001b[0mself\u001b[0m\u001b[0;34m.\u001b[0m\u001b[0mobj\u001b[0m\u001b[0;34m.\u001b[0m\u001b[0mcolumns\u001b[0m\u001b[0;34m.\u001b[0m\u001b[0mintersection\u001b[0m\u001b[0;34m(\u001b[0m\u001b[0mkey\u001b[0m\u001b[0;34m)\u001b[0m\u001b[0;34m)\u001b[0m \u001b[0;34m!=\u001b[0m \u001b[0mlen\u001b[0m\u001b[0;34m(\u001b[0m\u001b[0mkey\u001b[0m\u001b[0;34m)\u001b[0m\u001b[0;34m:\u001b[0m\u001b[0;34m\u001b[0m\u001b[0;34m\u001b[0m\u001b[0m\n\u001b[1;32m    217\u001b[0m                 \u001b[0mbad_keys\u001b[0m \u001b[0;34m=\u001b[0m \u001b[0mlist\u001b[0m\u001b[0;34m(\u001b[0m\u001b[0mset\u001b[0m\u001b[0;34m(\u001b[0m\u001b[0mkey\u001b[0m\u001b[0;34m)\u001b[0m\u001b[0;34m.\u001b[0m\u001b[0mdifference\u001b[0m\u001b[0;34m(\u001b[0m\u001b[0mself\u001b[0m\u001b[0;34m.\u001b[0m\u001b[0mobj\u001b[0m\u001b[0;34m.\u001b[0m\u001b[0mcolumns\u001b[0m\u001b[0;34m)\u001b[0m\u001b[0;34m)\u001b[0m\u001b[0;34m\u001b[0m\u001b[0;34m\u001b[0m\u001b[0m\n\u001b[0;32m--> 218\u001b[0;31m                 \u001b[0;32mraise\u001b[0m \u001b[0mKeyError\u001b[0m\u001b[0;34m(\u001b[0m\u001b[0;34mf\"Columns not found: {str(bad_keys)[1:-1]}\"\u001b[0m\u001b[0;34m)\u001b[0m\u001b[0;34m\u001b[0m\u001b[0;34m\u001b[0m\u001b[0m\n\u001b[0m\u001b[1;32m    219\u001b[0m             \u001b[0;32mreturn\u001b[0m \u001b[0mself\u001b[0m\u001b[0;34m.\u001b[0m\u001b[0m_gotitem\u001b[0m\u001b[0;34m(\u001b[0m\u001b[0mlist\u001b[0m\u001b[0;34m(\u001b[0m\u001b[0mkey\u001b[0m\u001b[0;34m)\u001b[0m\u001b[0;34m,\u001b[0m \u001b[0mndim\u001b[0m\u001b[0;34m=\u001b[0m\u001b[0;36m2\u001b[0m\u001b[0;34m)\u001b[0m\u001b[0;34m\u001b[0m\u001b[0;34m\u001b[0m\u001b[0m\n\u001b[1;32m    220\u001b[0m \u001b[0;34m\u001b[0m\u001b[0m\n",
      "\u001b[0;31mKeyError\u001b[0m: \"Columns not found: 'part'\""
     ]
    }
   ],
   "source": [
    "#lectures['type_of'] = lectures['type_of'].replace('solving question', 'solving_question')\n",
    "#lectures = pd.get_dummies(lectures, columns=['part', 'type_of'])\n",
    "\n",
    "part_lectures_columns = [column for column in lectures.columns if column.startswith('part')]\n",
    "types_of_lectures_columns = [column for column in lectures.columns if column.startswith('type_of_')]\n",
    "\n",
    "train_lectures = train[train['content_type_id'] == 1].merge(lectures, right_on='lecture_id', left_on='content_id', how='left')\n",
    "\n",
    "user_lecture_stats_part = train_lectures.groupby('user_id')[part_lectures_columns + types_of_lectures_columns].sum()\n",
    "\n",
    "user_lecture_stats_part\n",
    "\n",
    "\n",
    "# extract lecture info\n",
    "\n",
    "#lectures['type_of'] = lectures['type_of'].replace('solving question', 'solving_question')\n",
    "#lectures = pd.get_dummies(lectures, columns=['part', 'type_of'])\n",
    "\n",
    "part_lectures_columns = [column for column in lectures.columns if column.startswith('part')]\n",
    "types_of_lectures_columns = [column for column in lectures.columns if column.startswith('type_of_')]\n",
    "\n",
    "tmp = train.merge(lectures, right_on='lecture_id', left_on='content_id', how='left')\n",
    "tmp[part_lectures_columns+types_of_lectures_columns] = tmp[part_lectures_columns+types_of_lectures_columns].fillna(0)\n",
    "\n",
    "tmp[\"part1_lec\"] = tmp.groupby(\"user_id\")[part_lectures_columns[0]].apply(lambda x: pd.concat([pd.DataFrame([0]), x.cumsum()[:-1]])).reset_index(drop=True).values\n",
    "tmp[\"part2_lec\"] = tmp.groupby(\"user_id\")[part_lectures_columns[1]].apply(lambda x: pd.concat([pd.DataFrame([0]), x.cumsum()[:-1]])).reset_index(drop=True).values\n",
    "tmp[\"part3_lec\"] = tmp.groupby(\"user_id\")[part_lectures_columns[2]].apply(lambda x: pd.concat([pd.DataFrame([0]), x.cumsum()[:-1]])).reset_index(drop=True).values\n",
    "tmp[\"part4_lec\"] = tmp.groupby(\"user_id\")[part_lectures_columns[3]].apply(lambda x: pd.concat([pd.DataFrame([0]), x.cumsum()[:-1]])).reset_index(drop=True).values\n",
    "tmp[\"part5_lec\"] = tmp.groupby(\"user_id\")[part_lectures_columns[4]].apply(lambda x: pd.concat([pd.DataFrame([0]), x.cumsum()[:-1]])).reset_index(drop=True).values\n",
    "tmp[\"part6_lec\"] = tmp.groupby(\"user_id\")[part_lectures_columns[5]].apply(lambda x: pd.concat([pd.DataFrame([0]), x.cumsum()[:-1]])).reset_index(drop=True).values\n",
    "tmp[\"part7_lec\"] = tmp.groupby(\"user_id\")[part_lectures_columns[6]].apply(lambda x: pd.concat([pd.DataFrame([0]), x.cumsum()[:-1]])).reset_index(drop=True).values"
   ]
  }
 ],
 "metadata": {
  "kernelspec": {
   "display_name": "Python 3",
   "language": "python",
   "name": "python3"
  },
  "language_info": {
   "codemirror_mode": {
    "name": "ipython",
    "version": 3
   },
   "file_extension": ".py",
   "mimetype": "text/x-python",
   "name": "python",
   "nbconvert_exporter": "python",
   "pygments_lexer": "ipython3",
   "version": "3.7.6"
  },
  "papermill": {
   "duration": 313.908309,
   "end_time": "2020-10-24T12:31:49.240362",
   "environment_variables": {},
   "exception": null,
   "input_path": "__notebook__.ipynb",
   "output_path": "__notebook__.ipynb",
   "parameters": {},
   "start_time": "2020-10-24T12:26:35.332053",
   "version": "2.1.0"
  },
  "widgets": {
   "application/vnd.jupyter.widget-state+json": {
    "state": {
     "237d7f600f604910abfd63481780c9a9": {
      "model_module": "@jupyter-widgets/controls",
      "model_module_version": "1.5.0",
      "model_name": "ProgressStyleModel",
      "state": {
       "_model_module": "@jupyter-widgets/controls",
       "_model_module_version": "1.5.0",
       "_model_name": "ProgressStyleModel",
       "_view_count": null,
       "_view_module": "@jupyter-widgets/base",
       "_view_module_version": "1.2.0",
       "_view_name": "StyleView",
       "bar_color": null,
       "description_width": "initial"
      }
     },
     "2636677694a344b08f2b93f4622fc7b8": {
      "model_module": "@jupyter-widgets/controls",
      "model_module_version": "1.5.0",
      "model_name": "HBoxModel",
      "state": {
       "_dom_classes": [],
       "_model_module": "@jupyter-widgets/controls",
       "_model_module_version": "1.5.0",
       "_model_name": "HBoxModel",
       "_view_count": null,
       "_view_module": "@jupyter-widgets/controls",
       "_view_module_version": "1.5.0",
       "_view_name": "HBoxView",
       "box_style": "",
       "children": [
        "IPY_MODEL_663dbdce56ad41aeb88e6f9823f046a4",
        "IPY_MODEL_972848e4e4724d14b3e9a191facbea98"
       ],
       "layout": "IPY_MODEL_55229f962e3f43fdade84ae654ccc414"
      }
     },
     "55229f962e3f43fdade84ae654ccc414": {
      "model_module": "@jupyter-widgets/base",
      "model_module_version": "1.2.0",
      "model_name": "LayoutModel",
      "state": {
       "_model_module": "@jupyter-widgets/base",
       "_model_module_version": "1.2.0",
       "_model_name": "LayoutModel",
       "_view_count": null,
       "_view_module": "@jupyter-widgets/base",
       "_view_module_version": "1.2.0",
       "_view_name": "LayoutView",
       "align_content": null,
       "align_items": null,
       "align_self": null,
       "border": null,
       "bottom": null,
       "display": null,
       "flex": null,
       "flex_flow": null,
       "grid_area": null,
       "grid_auto_columns": null,
       "grid_auto_flow": null,
       "grid_auto_rows": null,
       "grid_column": null,
       "grid_gap": null,
       "grid_row": null,
       "grid_template_areas": null,
       "grid_template_columns": null,
       "grid_template_rows": null,
       "height": null,
       "justify_content": null,
       "justify_items": null,
       "left": null,
       "margin": null,
       "max_height": null,
       "max_width": null,
       "min_height": null,
       "min_width": null,
       "object_fit": null,
       "object_position": null,
       "order": null,
       "overflow": null,
       "overflow_x": null,
       "overflow_y": null,
       "padding": null,
       "right": null,
       "top": null,
       "visibility": null,
       "width": null
      }
     },
     "663dbdce56ad41aeb88e6f9823f046a4": {
      "model_module": "@jupyter-widgets/controls",
      "model_module_version": "1.5.0",
      "model_name": "FloatProgressModel",
      "state": {
       "_dom_classes": [],
       "_model_module": "@jupyter-widgets/controls",
       "_model_module_version": "1.5.0",
       "_model_name": "FloatProgressModel",
       "_view_count": null,
       "_view_module": "@jupyter-widgets/controls",
       "_view_module_version": "1.5.0",
       "_view_name": "ProgressView",
       "bar_style": "success",
       "description": "progress: 100%",
       "description_tooltip": null,
       "layout": "IPY_MODEL_8e92112f06ff46928937e23a3fbc1de6",
       "max": 8.0,
       "min": 0.0,
       "orientation": "horizontal",
       "style": "IPY_MODEL_237d7f600f604910abfd63481780c9a9",
       "value": 8.0
      }
     },
     "8e92112f06ff46928937e23a3fbc1de6": {
      "model_module": "@jupyter-widgets/base",
      "model_module_version": "1.2.0",
      "model_name": "LayoutModel",
      "state": {
       "_model_module": "@jupyter-widgets/base",
       "_model_module_version": "1.2.0",
       "_model_name": "LayoutModel",
       "_view_count": null,
       "_view_module": "@jupyter-widgets/base",
       "_view_module_version": "1.2.0",
       "_view_name": "LayoutView",
       "align_content": null,
       "align_items": null,
       "align_self": null,
       "border": null,
       "bottom": null,
       "display": null,
       "flex": null,
       "flex_flow": null,
       "grid_area": null,
       "grid_auto_columns": null,
       "grid_auto_flow": null,
       "grid_auto_rows": null,
       "grid_column": null,
       "grid_gap": null,
       "grid_row": null,
       "grid_template_areas": null,
       "grid_template_columns": null,
       "grid_template_rows": null,
       "height": null,
       "justify_content": null,
       "justify_items": null,
       "left": null,
       "margin": null,
       "max_height": null,
       "max_width": null,
       "min_height": null,
       "min_width": null,
       "object_fit": null,
       "object_position": null,
       "order": null,
       "overflow": null,
       "overflow_x": null,
       "overflow_y": null,
       "padding": null,
       "right": null,
       "top": null,
       "visibility": null,
       "width": null
      }
     },
     "972848e4e4724d14b3e9a191facbea98": {
      "model_module": "@jupyter-widgets/controls",
      "model_module_version": "1.5.0",
      "model_name": "HTMLModel",
      "state": {
       "_dom_classes": [],
       "_model_module": "@jupyter-widgets/controls",
       "_model_module_version": "1.5.0",
       "_model_name": "HTMLModel",
       "_view_count": null,
       "_view_module": "@jupyter-widgets/controls",
       "_view_module_version": "1.5.0",
       "_view_name": "HTMLView",
       "description": "",
       "description_tooltip": null,
       "layout": "IPY_MODEL_b1f83ac270c64ecdb5b71ccb71cac5cd",
       "placeholder": "​",
       "style": "IPY_MODEL_de89fd13c9314d4ba5224e857ba1de7d",
       "value": " 8/8 [00:02&lt;00:00,  3.40it/s]"
      }
     },
     "b1f83ac270c64ecdb5b71ccb71cac5cd": {
      "model_module": "@jupyter-widgets/base",
      "model_module_version": "1.2.0",
      "model_name": "LayoutModel",
      "state": {
       "_model_module": "@jupyter-widgets/base",
       "_model_module_version": "1.2.0",
       "_model_name": "LayoutModel",
       "_view_count": null,
       "_view_module": "@jupyter-widgets/base",
       "_view_module_version": "1.2.0",
       "_view_name": "LayoutView",
       "align_content": null,
       "align_items": null,
       "align_self": null,
       "border": null,
       "bottom": null,
       "display": null,
       "flex": null,
       "flex_flow": null,
       "grid_area": null,
       "grid_auto_columns": null,
       "grid_auto_flow": null,
       "grid_auto_rows": null,
       "grid_column": null,
       "grid_gap": null,
       "grid_row": null,
       "grid_template_areas": null,
       "grid_template_columns": null,
       "grid_template_rows": null,
       "height": null,
       "justify_content": null,
       "justify_items": null,
       "left": null,
       "margin": null,
       "max_height": null,
       "max_width": null,
       "min_height": null,
       "min_width": null,
       "object_fit": null,
       "object_position": null,
       "order": null,
       "overflow": null,
       "overflow_x": null,
       "overflow_y": null,
       "padding": null,
       "right": null,
       "top": null,
       "visibility": null,
       "width": null
      }
     },
     "de89fd13c9314d4ba5224e857ba1de7d": {
      "model_module": "@jupyter-widgets/controls",
      "model_module_version": "1.5.0",
      "model_name": "DescriptionStyleModel",
      "state": {
       "_model_module": "@jupyter-widgets/controls",
       "_model_module_version": "1.5.0",
       "_model_name": "DescriptionStyleModel",
       "_view_count": null,
       "_view_module": "@jupyter-widgets/base",
       "_view_module_version": "1.2.0",
       "_view_name": "StyleView",
       "description_width": ""
      }
     }
    },
    "version_major": 2,
    "version_minor": 0
   }
  }
 },
 "nbformat": 4,
 "nbformat_minor": 4
}
