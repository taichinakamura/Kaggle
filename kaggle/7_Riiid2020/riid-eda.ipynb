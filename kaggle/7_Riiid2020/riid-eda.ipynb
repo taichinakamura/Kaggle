{
 "cells": [
  {
   "cell_type": "code",
   "execution_count": 1,
   "metadata": {
    "_cell_guid": "b1076dfc-b9ad-4769-8c92-a6c4dae69d19",
    "_uuid": "8f2839f25d086af736a60e9eeb907d3b93b6e0e5",
    "execution": {
     "iopub.execute_input": "2020-10-20T11:57:20.787398Z",
     "iopub.status.busy": "2020-10-20T11:57:20.786599Z",
     "iopub.status.idle": "2020-10-20T11:57:21.958091Z",
     "shell.execute_reply": "2020-10-20T11:57:21.957329Z"
    },
    "papermill": {
     "duration": 1.224919,
     "end_time": "2020-10-20T11:57:21.958232",
     "exception": false,
     "start_time": "2020-10-20T11:57:20.733313",
     "status": "completed"
    },
    "tags": []
   },
   "outputs": [],
   "source": [
    "import sys\n",
    "import pandas as pd\n",
    "import numpy as np\n",
    "import matplotlib.pyplot as plt\n",
    "import seaborn as sns\n",
    "import feather\n",
    "from tqdm import tqdm_notebook as tqdm\n",
    "\n",
    "pd.set_option(\"max_rows\", 100)"
   ]
  },
  {
   "cell_type": "code",
   "execution_count": 2,
   "metadata": {
    "_cell_guid": "79c7e3d0-c299-4dcb-8224-4455121ee9b0",
    "_uuid": "d629ff2d2480ee46fbb7e2d37f6b5fab8052498a",
    "execution": {
     "iopub.execute_input": "2020-10-20T11:57:22.057514Z",
     "iopub.status.busy": "2020-10-20T11:57:22.056660Z",
     "iopub.status.idle": "2020-10-20T11:57:29.460724Z",
     "shell.execute_reply": "2020-10-20T11:57:29.459928Z"
    },
    "papermill": {
     "duration": 7.456697,
     "end_time": "2020-10-20T11:57:29.460872",
     "exception": false,
     "start_time": "2020-10-20T11:57:22.004175",
     "status": "completed"
    },
    "tags": []
   },
   "outputs": [],
   "source": [
    "DIR =\"../input/riiid-test-answer-prediction/\"\n",
    "lectures = pd.read_csv(DIR+\"lectures.csv\")\n",
    "questions = pd.read_csv(DIR+\"questions.csv\")\n",
    "example_test = pd.read_csv(DIR+\"example_test.csv\")\n",
    "train = pd.read_feather(\"../input/riid-train/train.feather\")"
   ]
  },
  {
   "cell_type": "markdown",
   "metadata": {
    "papermill": {
     "duration": 0.045235,
     "end_time": "2020-10-20T11:57:29.551659",
     "exception": false,
     "start_time": "2020-10-20T11:57:29.506424",
     "status": "completed"
    },
    "tags": []
   },
   "source": [
    "# train\n",
    "- row_id: (int64) ID code for the row.\n",
    "- timestamp: (int64) the time between this user interaction and the first event completion from that user.\n",
    "- user_id: (int32) ID code for the user.\n",
    "- content_id: (int16) ID code for the user interaction\n",
    "- content_type_id: (int8) 0 if the event was a question being posed to the user, 1 if the event was the user watching a lecture.\n",
    "- task_container_id: (int16) Id code for the batch of questions or lectures. For example, a user might see three questions in a row before  seeing the explanations for any of them. Those three would all share a task_container_id.\n",
    "- user_answer: (int8) the user's answer to the question, if any. Read -1 as null, for lectures.\n",
    "- answered_correctly: (int8) if the user responded correctly. Read -1 as null, for lectures.\n",
    "- prior_question_elapsed_time: (float32) The average time it took a user to answer each question in the previous question bundle, ignoring any lectures in between. Is null for a user's first question bundle or lecture. Note that the time is the average time a user took to solve each question in the previous bundle.\n",
    "- prior_question_had_explanation: (bool) Whether or not the user saw an explanation and the correct response(s) after answering the previous question bundle, ignoring any lectures in between. The value is shared across a single question bundle, and is null for a user's first question bundle or lecture. Typically the first several questions a user sees were part of an onboarding diagnostic test where they did not get any feedback.\n",
    "\n",
    "- content_type_id = 0なら、questions.csvと結合できる, content_type_id = 1なら、lectures.csvと結合できる"
   ]
  },
  {
   "cell_type": "code",
   "execution_count": 3,
   "metadata": {
    "execution": {
     "iopub.execute_input": "2020-10-20T11:57:29.649637Z",
     "iopub.status.busy": "2020-10-20T11:57:29.648729Z",
     "iopub.status.idle": "2020-10-20T11:57:29.653472Z",
     "shell.execute_reply": "2020-10-20T11:57:29.652895Z"
    },
    "papermill": {
     "duration": 0.056619,
     "end_time": "2020-10-20T11:57:29.653604",
     "exception": false,
     "start_time": "2020-10-20T11:57:29.596985",
     "status": "completed"
    },
    "tags": []
   },
   "outputs": [
    {
     "data": {
      "text/plain": [
       "(101230332, 10)"
      ]
     },
     "execution_count": 3,
     "metadata": {},
     "output_type": "execute_result"
    }
   ],
   "source": [
    "train.shape"
   ]
  },
  {
   "cell_type": "code",
   "execution_count": 4,
   "metadata": {
    "execution": {
     "iopub.execute_input": "2020-10-20T11:57:29.758833Z",
     "iopub.status.busy": "2020-10-20T11:57:29.758064Z",
     "iopub.status.idle": "2020-10-20T11:57:29.769061Z",
     "shell.execute_reply": "2020-10-20T11:57:29.768354Z"
    },
    "papermill": {
     "duration": 0.068559,
     "end_time": "2020-10-20T11:57:29.769194",
     "exception": false,
     "start_time": "2020-10-20T11:57:29.700635",
     "status": "completed"
    },
    "tags": []
   },
   "outputs": [
    {
     "data": {
      "text/html": [
       "<div>\n",
       "<style scoped>\n",
       "    .dataframe tbody tr th:only-of-type {\n",
       "        vertical-align: middle;\n",
       "    }\n",
       "\n",
       "    .dataframe tbody tr th {\n",
       "        vertical-align: top;\n",
       "    }\n",
       "\n",
       "    .dataframe thead th {\n",
       "        text-align: right;\n",
       "    }\n",
       "</style>\n",
       "<table border=\"1\" class=\"dataframe\">\n",
       "  <thead>\n",
       "    <tr style=\"text-align: right;\">\n",
       "      <th></th>\n",
       "      <th>row_id</th>\n",
       "      <th>timestamp</th>\n",
       "      <th>user_id</th>\n",
       "      <th>content_id</th>\n",
       "      <th>content_type_id</th>\n",
       "      <th>task_container_id</th>\n",
       "      <th>user_answer</th>\n",
       "      <th>answered_correctly</th>\n",
       "      <th>prior_question_elapsed_time</th>\n",
       "      <th>prior_question_had_explanation</th>\n",
       "    </tr>\n",
       "  </thead>\n",
       "  <tbody>\n",
       "    <tr>\n",
       "      <th>0</th>\n",
       "      <td>0</td>\n",
       "      <td>0</td>\n",
       "      <td>115</td>\n",
       "      <td>5692</td>\n",
       "      <td>0</td>\n",
       "      <td>1</td>\n",
       "      <td>3</td>\n",
       "      <td>1</td>\n",
       "      <td>4294967295</td>\n",
       "      <td>None</td>\n",
       "    </tr>\n",
       "    <tr>\n",
       "      <th>1</th>\n",
       "      <td>1</td>\n",
       "      <td>56943</td>\n",
       "      <td>115</td>\n",
       "      <td>5716</td>\n",
       "      <td>0</td>\n",
       "      <td>2</td>\n",
       "      <td>2</td>\n",
       "      <td>1</td>\n",
       "      <td>37000</td>\n",
       "      <td>False</td>\n",
       "    </tr>\n",
       "    <tr>\n",
       "      <th>2</th>\n",
       "      <td>2</td>\n",
       "      <td>118363</td>\n",
       "      <td>115</td>\n",
       "      <td>128</td>\n",
       "      <td>0</td>\n",
       "      <td>0</td>\n",
       "      <td>0</td>\n",
       "      <td>1</td>\n",
       "      <td>55000</td>\n",
       "      <td>False</td>\n",
       "    </tr>\n",
       "    <tr>\n",
       "      <th>3</th>\n",
       "      <td>3</td>\n",
       "      <td>131167</td>\n",
       "      <td>115</td>\n",
       "      <td>7860</td>\n",
       "      <td>0</td>\n",
       "      <td>3</td>\n",
       "      <td>0</td>\n",
       "      <td>1</td>\n",
       "      <td>19000</td>\n",
       "      <td>False</td>\n",
       "    </tr>\n",
       "    <tr>\n",
       "      <th>4</th>\n",
       "      <td>4</td>\n",
       "      <td>137965</td>\n",
       "      <td>115</td>\n",
       "      <td>7922</td>\n",
       "      <td>0</td>\n",
       "      <td>4</td>\n",
       "      <td>1</td>\n",
       "      <td>1</td>\n",
       "      <td>11000</td>\n",
       "      <td>False</td>\n",
       "    </tr>\n",
       "  </tbody>\n",
       "</table>\n",
       "</div>"
      ],
      "text/plain": [
       "   row_id  timestamp  user_id  content_id  content_type_id  task_container_id  \\\n",
       "0       0          0      115        5692                0                  1   \n",
       "1       1      56943      115        5716                0                  2   \n",
       "2       2     118363      115         128                0                  0   \n",
       "3       3     131167      115        7860                0                  3   \n",
       "4       4     137965      115        7922                0                  4   \n",
       "\n",
       "   user_answer  answered_correctly  prior_question_elapsed_time  \\\n",
       "0            3                   1                   4294967295   \n",
       "1            2                   1                        37000   \n",
       "2            0                   1                        55000   \n",
       "3            0                   1                        19000   \n",
       "4            1                   1                        11000   \n",
       "\n",
       "  prior_question_had_explanation  \n",
       "0                           None  \n",
       "1                          False  \n",
       "2                          False  \n",
       "3                          False  \n",
       "4                          False  "
      ]
     },
     "execution_count": 4,
     "metadata": {},
     "output_type": "execute_result"
    }
   ],
   "source": [
    "train.head()"
   ]
  },
  {
   "cell_type": "code",
   "execution_count": 5,
   "metadata": {
    "execution": {
     "iopub.execute_input": "2020-10-20T11:57:29.869611Z",
     "iopub.status.busy": "2020-10-20T11:57:29.868738Z",
     "iopub.status.idle": "2020-10-20T11:57:30.809260Z",
     "shell.execute_reply": "2020-10-20T11:57:30.808479Z"
    },
    "papermill": {
     "duration": 0.992771,
     "end_time": "2020-10-20T11:57:30.809399",
     "exception": false,
     "start_time": "2020-10-20T11:57:29.816628",
     "status": "completed"
    },
    "tags": []
   },
   "outputs": [
    {
     "data": {
      "text/plain": [
       "393656"
      ]
     },
     "execution_count": 5,
     "metadata": {},
     "output_type": "execute_result"
    }
   ],
   "source": [
    "len(train.user_id.unique())"
   ]
  },
  {
   "cell_type": "code",
   "execution_count": 6,
   "metadata": {
    "execution": {
     "iopub.execute_input": "2020-10-20T11:57:30.912379Z",
     "iopub.status.busy": "2020-10-20T11:57:30.910920Z",
     "iopub.status.idle": "2020-10-20T11:57:31.645122Z",
     "shell.execute_reply": "2020-10-20T11:57:31.644360Z"
    },
    "papermill": {
     "duration": 0.787312,
     "end_time": "2020-10-20T11:57:31.645247",
     "exception": false,
     "start_time": "2020-10-20T11:57:30.857935",
     "status": "completed"
    },
    "tags": []
   },
   "outputs": [
    {
     "data": {
      "text/plain": [
       "array([  115,   124,  2746,  5382,  8623,  8701, 12741, 13134, 24418,\n",
       "       24600], dtype=uint32)"
      ]
     },
     "execution_count": 6,
     "metadata": {},
     "output_type": "execute_result"
    }
   ],
   "source": [
    "train.user_id.unique()[:10]"
   ]
  },
  {
   "cell_type": "code",
   "execution_count": 7,
   "metadata": {
    "execution": {
     "iopub.execute_input": "2020-10-20T11:57:31.746472Z",
     "iopub.status.busy": "2020-10-20T11:57:31.745524Z",
     "iopub.status.idle": "2020-10-20T11:57:32.140417Z",
     "shell.execute_reply": "2020-10-20T11:57:32.139658Z"
    },
    "papermill": {
     "duration": 0.447554,
     "end_time": "2020-10-20T11:57:32.140545",
     "exception": false,
     "start_time": "2020-10-20T11:57:31.692991",
     "status": "completed"
    },
    "tags": []
   },
   "outputs": [
    {
     "data": {
      "text/html": [
       "<div>\n",
       "<style scoped>\n",
       "    .dataframe tbody tr th:only-of-type {\n",
       "        vertical-align: middle;\n",
       "    }\n",
       "\n",
       "    .dataframe tbody tr th {\n",
       "        vertical-align: top;\n",
       "    }\n",
       "\n",
       "    .dataframe thead th {\n",
       "        text-align: right;\n",
       "    }\n",
       "</style>\n",
       "<table border=\"1\" class=\"dataframe\">\n",
       "  <thead>\n",
       "    <tr style=\"text-align: right;\">\n",
       "      <th></th>\n",
       "      <th>row_id</th>\n",
       "      <th>timestamp</th>\n",
       "      <th>user_id</th>\n",
       "      <th>content_id</th>\n",
       "      <th>content_type_id</th>\n",
       "      <th>task_container_id</th>\n",
       "      <th>user_answer</th>\n",
       "      <th>answered_correctly</th>\n",
       "      <th>prior_question_elapsed_time</th>\n",
       "      <th>prior_question_had_explanation</th>\n",
       "    </tr>\n",
       "  </thead>\n",
       "  <tbody>\n",
       "    <tr>\n",
       "      <th>76</th>\n",
       "      <td>76</td>\n",
       "      <td>0</td>\n",
       "      <td>2746</td>\n",
       "      <td>5273</td>\n",
       "      <td>0</td>\n",
       "      <td>0</td>\n",
       "      <td>1</td>\n",
       "      <td>0</td>\n",
       "      <td>4294967295</td>\n",
       "      <td>None</td>\n",
       "    </tr>\n",
       "    <tr>\n",
       "      <th>77</th>\n",
       "      <td>77</td>\n",
       "      <td>21592</td>\n",
       "      <td>2746</td>\n",
       "      <td>758</td>\n",
       "      <td>0</td>\n",
       "      <td>1</td>\n",
       "      <td>0</td>\n",
       "      <td>0</td>\n",
       "      <td>28000</td>\n",
       "      <td>False</td>\n",
       "    </tr>\n",
       "    <tr>\n",
       "      <th>78</th>\n",
       "      <td>78</td>\n",
       "      <td>49069</td>\n",
       "      <td>2746</td>\n",
       "      <td>5976</td>\n",
       "      <td>0</td>\n",
       "      <td>2</td>\n",
       "      <td>3</td>\n",
       "      <td>0</td>\n",
       "      <td>17000</td>\n",
       "      <td>False</td>\n",
       "    </tr>\n",
       "    <tr>\n",
       "      <th>79</th>\n",
       "      <td>79</td>\n",
       "      <td>72254</td>\n",
       "      <td>2746</td>\n",
       "      <td>236</td>\n",
       "      <td>0</td>\n",
       "      <td>3</td>\n",
       "      <td>3</td>\n",
       "      <td>1</td>\n",
       "      <td>24000</td>\n",
       "      <td>False</td>\n",
       "    </tr>\n",
       "    <tr>\n",
       "      <th>80</th>\n",
       "      <td>80</td>\n",
       "      <td>91945</td>\n",
       "      <td>2746</td>\n",
       "      <td>404</td>\n",
       "      <td>0</td>\n",
       "      <td>4</td>\n",
       "      <td>3</td>\n",
       "      <td>0</td>\n",
       "      <td>20000</td>\n",
       "      <td>False</td>\n",
       "    </tr>\n",
       "    <tr>\n",
       "      <th>81</th>\n",
       "      <td>81</td>\n",
       "      <td>111621</td>\n",
       "      <td>2746</td>\n",
       "      <td>382</td>\n",
       "      <td>0</td>\n",
       "      <td>5</td>\n",
       "      <td>0</td>\n",
       "      <td>1</td>\n",
       "      <td>16000</td>\n",
       "      <td>False</td>\n",
       "    </tr>\n",
       "    <tr>\n",
       "      <th>82</th>\n",
       "      <td>82</td>\n",
       "      <td>134341</td>\n",
       "      <td>2746</td>\n",
       "      <td>405</td>\n",
       "      <td>0</td>\n",
       "      <td>6</td>\n",
       "      <td>1</td>\n",
       "      <td>1</td>\n",
       "      <td>16000</td>\n",
       "      <td>False</td>\n",
       "    </tr>\n",
       "    <tr>\n",
       "      <th>83</th>\n",
       "      <td>83</td>\n",
       "      <td>234605</td>\n",
       "      <td>2746</td>\n",
       "      <td>873</td>\n",
       "      <td>0</td>\n",
       "      <td>7</td>\n",
       "      <td>3</td>\n",
       "      <td>1</td>\n",
       "      <td>19000</td>\n",
       "      <td>False</td>\n",
       "    </tr>\n",
       "    <tr>\n",
       "      <th>84</th>\n",
       "      <td>84</td>\n",
       "      <td>283894</td>\n",
       "      <td>2746</td>\n",
       "      <td>531</td>\n",
       "      <td>0</td>\n",
       "      <td>8</td>\n",
       "      <td>0</td>\n",
       "      <td>1</td>\n",
       "      <td>18000</td>\n",
       "      <td>True</td>\n",
       "    </tr>\n",
       "    <tr>\n",
       "      <th>85</th>\n",
       "      <td>85</td>\n",
       "      <td>328640</td>\n",
       "      <td>2746</td>\n",
       "      <td>775</td>\n",
       "      <td>0</td>\n",
       "      <td>9</td>\n",
       "      <td>3</td>\n",
       "      <td>0</td>\n",
       "      <td>18000</td>\n",
       "      <td>True</td>\n",
       "    </tr>\n",
       "    <tr>\n",
       "      <th>86</th>\n",
       "      <td>86</td>\n",
       "      <td>357471</td>\n",
       "      <td>2746</td>\n",
       "      <td>294</td>\n",
       "      <td>0</td>\n",
       "      <td>10</td>\n",
       "      <td>3</td>\n",
       "      <td>1</td>\n",
       "      <td>20000</td>\n",
       "      <td>True</td>\n",
       "    </tr>\n",
       "    <tr>\n",
       "      <th>87</th>\n",
       "      <td>87</td>\n",
       "      <td>384415</td>\n",
       "      <td>2746</td>\n",
       "      <td>714</td>\n",
       "      <td>0</td>\n",
       "      <td>11</td>\n",
       "      <td>3</td>\n",
       "      <td>1</td>\n",
       "      <td>13000</td>\n",
       "      <td>True</td>\n",
       "    </tr>\n",
       "    <tr>\n",
       "      <th>88</th>\n",
       "      <td>88</td>\n",
       "      <td>428637</td>\n",
       "      <td>2746</td>\n",
       "      <td>297</td>\n",
       "      <td>0</td>\n",
       "      <td>12</td>\n",
       "      <td>0</td>\n",
       "      <td>0</td>\n",
       "      <td>13000</td>\n",
       "      <td>True</td>\n",
       "    </tr>\n",
       "    <tr>\n",
       "      <th>89</th>\n",
       "      <td>89</td>\n",
       "      <td>653762</td>\n",
       "      <td>2746</td>\n",
       "      <td>6808</td>\n",
       "      <td>1</td>\n",
       "      <td>14</td>\n",
       "      <td>-1</td>\n",
       "      <td>-1</td>\n",
       "      <td>4294967295</td>\n",
       "      <td>False</td>\n",
       "    </tr>\n",
       "    <tr>\n",
       "      <th>90</th>\n",
       "      <td>90</td>\n",
       "      <td>674559</td>\n",
       "      <td>2746</td>\n",
       "      <td>297</td>\n",
       "      <td>0</td>\n",
       "      <td>15</td>\n",
       "      <td>3</td>\n",
       "      <td>1</td>\n",
       "      <td>16000</td>\n",
       "      <td>True</td>\n",
       "    </tr>\n",
       "    <tr>\n",
       "      <th>91</th>\n",
       "      <td>91</td>\n",
       "      <td>704065</td>\n",
       "      <td>2746</td>\n",
       "      <td>775</td>\n",
       "      <td>0</td>\n",
       "      <td>16</td>\n",
       "      <td>3</td>\n",
       "      <td>0</td>\n",
       "      <td>15000</td>\n",
       "      <td>True</td>\n",
       "    </tr>\n",
       "    <tr>\n",
       "      <th>92</th>\n",
       "      <td>92</td>\n",
       "      <td>735114</td>\n",
       "      <td>2746</td>\n",
       "      <td>1295</td>\n",
       "      <td>0</td>\n",
       "      <td>13</td>\n",
       "      <td>3</td>\n",
       "      <td>1</td>\n",
       "      <td>16000</td>\n",
       "      <td>True</td>\n",
       "    </tr>\n",
       "    <tr>\n",
       "      <th>93</th>\n",
       "      <td>93</td>\n",
       "      <td>761885</td>\n",
       "      <td>2746</td>\n",
       "      <td>10684</td>\n",
       "      <td>0</td>\n",
       "      <td>17</td>\n",
       "      <td>0</td>\n",
       "      <td>1</td>\n",
       "      <td>17000</td>\n",
       "      <td>True</td>\n",
       "    </tr>\n",
       "    <tr>\n",
       "      <th>94</th>\n",
       "      <td>94</td>\n",
       "      <td>800255</td>\n",
       "      <td>2746</td>\n",
       "      <td>1014</td>\n",
       "      <td>0</td>\n",
       "      <td>18</td>\n",
       "      <td>0</td>\n",
       "      <td>0</td>\n",
       "      <td>19000</td>\n",
       "      <td>True</td>\n",
       "    </tr>\n",
       "    <tr>\n",
       "      <th>95</th>\n",
       "      <td>95</td>\n",
       "      <td>835457</td>\n",
       "      <td>2746</td>\n",
       "      <td>484</td>\n",
       "      <td>0</td>\n",
       "      <td>19</td>\n",
       "      <td>0</td>\n",
       "      <td>1</td>\n",
       "      <td>20000</td>\n",
       "      <td>True</td>\n",
       "    </tr>\n",
       "  </tbody>\n",
       "</table>\n",
       "</div>"
      ],
      "text/plain": [
       "    row_id  timestamp  user_id  content_id  content_type_id  \\\n",
       "76      76          0     2746        5273                0   \n",
       "77      77      21592     2746         758                0   \n",
       "78      78      49069     2746        5976                0   \n",
       "79      79      72254     2746         236                0   \n",
       "80      80      91945     2746         404                0   \n",
       "81      81     111621     2746         382                0   \n",
       "82      82     134341     2746         405                0   \n",
       "83      83     234605     2746         873                0   \n",
       "84      84     283894     2746         531                0   \n",
       "85      85     328640     2746         775                0   \n",
       "86      86     357471     2746         294                0   \n",
       "87      87     384415     2746         714                0   \n",
       "88      88     428637     2746         297                0   \n",
       "89      89     653762     2746        6808                1   \n",
       "90      90     674559     2746         297                0   \n",
       "91      91     704065     2746         775                0   \n",
       "92      92     735114     2746        1295                0   \n",
       "93      93     761885     2746       10684                0   \n",
       "94      94     800255     2746        1014                0   \n",
       "95      95     835457     2746         484                0   \n",
       "\n",
       "    task_container_id  user_answer  answered_correctly  \\\n",
       "76                  0            1                   0   \n",
       "77                  1            0                   0   \n",
       "78                  2            3                   0   \n",
       "79                  3            3                   1   \n",
       "80                  4            3                   0   \n",
       "81                  5            0                   1   \n",
       "82                  6            1                   1   \n",
       "83                  7            3                   1   \n",
       "84                  8            0                   1   \n",
       "85                  9            3                   0   \n",
       "86                 10            3                   1   \n",
       "87                 11            3                   1   \n",
       "88                 12            0                   0   \n",
       "89                 14           -1                  -1   \n",
       "90                 15            3                   1   \n",
       "91                 16            3                   0   \n",
       "92                 13            3                   1   \n",
       "93                 17            0                   1   \n",
       "94                 18            0                   0   \n",
       "95                 19            0                   1   \n",
       "\n",
       "    prior_question_elapsed_time prior_question_had_explanation  \n",
       "76                   4294967295                           None  \n",
       "77                        28000                          False  \n",
       "78                        17000                          False  \n",
       "79                        24000                          False  \n",
       "80                        20000                          False  \n",
       "81                        16000                          False  \n",
       "82                        16000                          False  \n",
       "83                        19000                          False  \n",
       "84                        18000                           True  \n",
       "85                        18000                           True  \n",
       "86                        20000                           True  \n",
       "87                        13000                           True  \n",
       "88                        13000                           True  \n",
       "89                   4294967295                          False  \n",
       "90                        16000                           True  \n",
       "91                        15000                           True  \n",
       "92                        16000                           True  \n",
       "93                        17000                           True  \n",
       "94                        19000                           True  \n",
       "95                        20000                           True  "
      ]
     },
     "execution_count": 7,
     "metadata": {},
     "output_type": "execute_result"
    }
   ],
   "source": [
    "train[train.user_id==2746] # task_container_id doesn't monotonically increase"
   ]
  },
  {
   "cell_type": "code",
   "execution_count": 8,
   "metadata": {
    "execution": {
     "iopub.execute_input": "2020-10-20T11:57:32.247965Z",
     "iopub.status.busy": "2020-10-20T11:57:32.247124Z",
     "iopub.status.idle": "2020-10-20T11:57:32.368749Z",
     "shell.execute_reply": "2020-10-20T11:57:32.369348Z"
    },
    "papermill": {
     "duration": 0.178755,
     "end_time": "2020-10-20T11:57:32.369511",
     "exception": false,
     "start_time": "2020-10-20T11:57:32.190756",
     "status": "completed"
    },
    "tags": []
   },
   "outputs": [
    {
     "data": {
      "text/html": [
       "<div>\n",
       "<style scoped>\n",
       "    .dataframe tbody tr th:only-of-type {\n",
       "        vertical-align: middle;\n",
       "    }\n",
       "\n",
       "    .dataframe tbody tr th {\n",
       "        vertical-align: top;\n",
       "    }\n",
       "\n",
       "    .dataframe thead th {\n",
       "        text-align: right;\n",
       "    }\n",
       "</style>\n",
       "<table border=\"1\" class=\"dataframe\">\n",
       "  <thead>\n",
       "    <tr style=\"text-align: right;\">\n",
       "      <th></th>\n",
       "      <th>row_id</th>\n",
       "      <th>timestamp</th>\n",
       "      <th>user_id</th>\n",
       "      <th>content_id</th>\n",
       "      <th>content_type_id</th>\n",
       "      <th>task_container_id</th>\n",
       "      <th>user_answer</th>\n",
       "      <th>answered_correctly</th>\n",
       "      <th>prior_question_elapsed_time</th>\n",
       "      <th>prior_question_had_explanation</th>\n",
       "    </tr>\n",
       "  </thead>\n",
       "  <tbody>\n",
       "    <tr>\n",
       "      <th>76</th>\n",
       "      <td>76</td>\n",
       "      <td>0</td>\n",
       "      <td>2746</td>\n",
       "      <td>5273</td>\n",
       "      <td>0</td>\n",
       "      <td>0</td>\n",
       "      <td>1</td>\n",
       "      <td>0</td>\n",
       "      <td>4294967295</td>\n",
       "      <td>None</td>\n",
       "    </tr>\n",
       "    <tr>\n",
       "      <th>77</th>\n",
       "      <td>77</td>\n",
       "      <td>21592</td>\n",
       "      <td>2746</td>\n",
       "      <td>758</td>\n",
       "      <td>0</td>\n",
       "      <td>1</td>\n",
       "      <td>0</td>\n",
       "      <td>0</td>\n",
       "      <td>28000</td>\n",
       "      <td>False</td>\n",
       "    </tr>\n",
       "    <tr>\n",
       "      <th>78</th>\n",
       "      <td>78</td>\n",
       "      <td>49069</td>\n",
       "      <td>2746</td>\n",
       "      <td>5976</td>\n",
       "      <td>0</td>\n",
       "      <td>2</td>\n",
       "      <td>3</td>\n",
       "      <td>0</td>\n",
       "      <td>17000</td>\n",
       "      <td>False</td>\n",
       "    </tr>\n",
       "    <tr>\n",
       "      <th>79</th>\n",
       "      <td>79</td>\n",
       "      <td>72254</td>\n",
       "      <td>2746</td>\n",
       "      <td>236</td>\n",
       "      <td>0</td>\n",
       "      <td>3</td>\n",
       "      <td>3</td>\n",
       "      <td>1</td>\n",
       "      <td>24000</td>\n",
       "      <td>False</td>\n",
       "    </tr>\n",
       "    <tr>\n",
       "      <th>80</th>\n",
       "      <td>80</td>\n",
       "      <td>91945</td>\n",
       "      <td>2746</td>\n",
       "      <td>404</td>\n",
       "      <td>0</td>\n",
       "      <td>4</td>\n",
       "      <td>3</td>\n",
       "      <td>0</td>\n",
       "      <td>20000</td>\n",
       "      <td>False</td>\n",
       "    </tr>\n",
       "    <tr>\n",
       "      <th>81</th>\n",
       "      <td>81</td>\n",
       "      <td>111621</td>\n",
       "      <td>2746</td>\n",
       "      <td>382</td>\n",
       "      <td>0</td>\n",
       "      <td>5</td>\n",
       "      <td>0</td>\n",
       "      <td>1</td>\n",
       "      <td>16000</td>\n",
       "      <td>False</td>\n",
       "    </tr>\n",
       "    <tr>\n",
       "      <th>82</th>\n",
       "      <td>82</td>\n",
       "      <td>134341</td>\n",
       "      <td>2746</td>\n",
       "      <td>405</td>\n",
       "      <td>0</td>\n",
       "      <td>6</td>\n",
       "      <td>1</td>\n",
       "      <td>1</td>\n",
       "      <td>16000</td>\n",
       "      <td>False</td>\n",
       "    </tr>\n",
       "    <tr>\n",
       "      <th>83</th>\n",
       "      <td>83</td>\n",
       "      <td>234605</td>\n",
       "      <td>2746</td>\n",
       "      <td>873</td>\n",
       "      <td>0</td>\n",
       "      <td>7</td>\n",
       "      <td>3</td>\n",
       "      <td>1</td>\n",
       "      <td>19000</td>\n",
       "      <td>False</td>\n",
       "    </tr>\n",
       "    <tr>\n",
       "      <th>84</th>\n",
       "      <td>84</td>\n",
       "      <td>283894</td>\n",
       "      <td>2746</td>\n",
       "      <td>531</td>\n",
       "      <td>0</td>\n",
       "      <td>8</td>\n",
       "      <td>0</td>\n",
       "      <td>1</td>\n",
       "      <td>18000</td>\n",
       "      <td>True</td>\n",
       "    </tr>\n",
       "    <tr>\n",
       "      <th>85</th>\n",
       "      <td>85</td>\n",
       "      <td>328640</td>\n",
       "      <td>2746</td>\n",
       "      <td>775</td>\n",
       "      <td>0</td>\n",
       "      <td>9</td>\n",
       "      <td>3</td>\n",
       "      <td>0</td>\n",
       "      <td>18000</td>\n",
       "      <td>True</td>\n",
       "    </tr>\n",
       "    <tr>\n",
       "      <th>86</th>\n",
       "      <td>86</td>\n",
       "      <td>357471</td>\n",
       "      <td>2746</td>\n",
       "      <td>294</td>\n",
       "      <td>0</td>\n",
       "      <td>10</td>\n",
       "      <td>3</td>\n",
       "      <td>1</td>\n",
       "      <td>20000</td>\n",
       "      <td>True</td>\n",
       "    </tr>\n",
       "    <tr>\n",
       "      <th>87</th>\n",
       "      <td>87</td>\n",
       "      <td>384415</td>\n",
       "      <td>2746</td>\n",
       "      <td>714</td>\n",
       "      <td>0</td>\n",
       "      <td>11</td>\n",
       "      <td>3</td>\n",
       "      <td>1</td>\n",
       "      <td>13000</td>\n",
       "      <td>True</td>\n",
       "    </tr>\n",
       "    <tr>\n",
       "      <th>88</th>\n",
       "      <td>88</td>\n",
       "      <td>428637</td>\n",
       "      <td>2746</td>\n",
       "      <td>297</td>\n",
       "      <td>0</td>\n",
       "      <td>12</td>\n",
       "      <td>0</td>\n",
       "      <td>0</td>\n",
       "      <td>13000</td>\n",
       "      <td>True</td>\n",
       "    </tr>\n",
       "    <tr>\n",
       "      <th>89</th>\n",
       "      <td>89</td>\n",
       "      <td>653762</td>\n",
       "      <td>2746</td>\n",
       "      <td>6808</td>\n",
       "      <td>1</td>\n",
       "      <td>13</td>\n",
       "      <td>-1</td>\n",
       "      <td>-1</td>\n",
       "      <td>4294967295</td>\n",
       "      <td>False</td>\n",
       "    </tr>\n",
       "    <tr>\n",
       "      <th>90</th>\n",
       "      <td>90</td>\n",
       "      <td>674559</td>\n",
       "      <td>2746</td>\n",
       "      <td>297</td>\n",
       "      <td>0</td>\n",
       "      <td>14</td>\n",
       "      <td>3</td>\n",
       "      <td>1</td>\n",
       "      <td>16000</td>\n",
       "      <td>True</td>\n",
       "    </tr>\n",
       "    <tr>\n",
       "      <th>91</th>\n",
       "      <td>91</td>\n",
       "      <td>704065</td>\n",
       "      <td>2746</td>\n",
       "      <td>775</td>\n",
       "      <td>0</td>\n",
       "      <td>15</td>\n",
       "      <td>3</td>\n",
       "      <td>0</td>\n",
       "      <td>15000</td>\n",
       "      <td>True</td>\n",
       "    </tr>\n",
       "    <tr>\n",
       "      <th>92</th>\n",
       "      <td>92</td>\n",
       "      <td>735114</td>\n",
       "      <td>2746</td>\n",
       "      <td>1295</td>\n",
       "      <td>0</td>\n",
       "      <td>16</td>\n",
       "      <td>3</td>\n",
       "      <td>1</td>\n",
       "      <td>16000</td>\n",
       "      <td>True</td>\n",
       "    </tr>\n",
       "    <tr>\n",
       "      <th>93</th>\n",
       "      <td>93</td>\n",
       "      <td>761885</td>\n",
       "      <td>2746</td>\n",
       "      <td>10684</td>\n",
       "      <td>0</td>\n",
       "      <td>17</td>\n",
       "      <td>0</td>\n",
       "      <td>1</td>\n",
       "      <td>17000</td>\n",
       "      <td>True</td>\n",
       "    </tr>\n",
       "    <tr>\n",
       "      <th>94</th>\n",
       "      <td>94</td>\n",
       "      <td>800255</td>\n",
       "      <td>2746</td>\n",
       "      <td>1014</td>\n",
       "      <td>0</td>\n",
       "      <td>18</td>\n",
       "      <td>0</td>\n",
       "      <td>0</td>\n",
       "      <td>19000</td>\n",
       "      <td>True</td>\n",
       "    </tr>\n",
       "    <tr>\n",
       "      <th>95</th>\n",
       "      <td>95</td>\n",
       "      <td>835457</td>\n",
       "      <td>2746</td>\n",
       "      <td>484</td>\n",
       "      <td>0</td>\n",
       "      <td>19</td>\n",
       "      <td>0</td>\n",
       "      <td>1</td>\n",
       "      <td>20000</td>\n",
       "      <td>True</td>\n",
       "    </tr>\n",
       "  </tbody>\n",
       "</table>\n",
       "</div>"
      ],
      "text/plain": [
       "    row_id  timestamp  user_id  content_id  content_type_id  \\\n",
       "76      76          0     2746        5273                0   \n",
       "77      77      21592     2746         758                0   \n",
       "78      78      49069     2746        5976                0   \n",
       "79      79      72254     2746         236                0   \n",
       "80      80      91945     2746         404                0   \n",
       "81      81     111621     2746         382                0   \n",
       "82      82     134341     2746         405                0   \n",
       "83      83     234605     2746         873                0   \n",
       "84      84     283894     2746         531                0   \n",
       "85      85     328640     2746         775                0   \n",
       "86      86     357471     2746         294                0   \n",
       "87      87     384415     2746         714                0   \n",
       "88      88     428637     2746         297                0   \n",
       "89      89     653762     2746        6808                1   \n",
       "90      90     674559     2746         297                0   \n",
       "91      91     704065     2746         775                0   \n",
       "92      92     735114     2746        1295                0   \n",
       "93      93     761885     2746       10684                0   \n",
       "94      94     800255     2746        1014                0   \n",
       "95      95     835457     2746         484                0   \n",
       "\n",
       "    task_container_id  user_answer  answered_correctly  \\\n",
       "76                  0            1                   0   \n",
       "77                  1            0                   0   \n",
       "78                  2            3                   0   \n",
       "79                  3            3                   1   \n",
       "80                  4            3                   0   \n",
       "81                  5            0                   1   \n",
       "82                  6            1                   1   \n",
       "83                  7            3                   1   \n",
       "84                  8            0                   1   \n",
       "85                  9            3                   0   \n",
       "86                 10            3                   1   \n",
       "87                 11            3                   1   \n",
       "88                 12            0                   0   \n",
       "89                 13           -1                  -1   \n",
       "90                 14            3                   1   \n",
       "91                 15            3                   0   \n",
       "92                 16            3                   1   \n",
       "93                 17            0                   1   \n",
       "94                 18            0                   0   \n",
       "95                 19            0                   1   \n",
       "\n",
       "    prior_question_elapsed_time prior_question_had_explanation  \n",
       "76                   4294967295                           None  \n",
       "77                        28000                          False  \n",
       "78                        17000                          False  \n",
       "79                        24000                          False  \n",
       "80                        20000                          False  \n",
       "81                        16000                          False  \n",
       "82                        16000                          False  \n",
       "83                        19000                          False  \n",
       "84                        18000                           True  \n",
       "85                        18000                           True  \n",
       "86                        20000                           True  \n",
       "87                        13000                           True  \n",
       "88                        13000                           True  \n",
       "89                   4294967295                          False  \n",
       "90                        16000                           True  \n",
       "91                        15000                           True  \n",
       "92                        16000                           True  \n",
       "93                        17000                           True  \n",
       "94                        19000                           True  \n",
       "95                        20000                           True  "
      ]
     },
     "execution_count": 8,
     "metadata": {},
     "output_type": "execute_result"
    }
   ],
   "source": [
    "tmp = train[train.user_id==2746].copy()\n",
    "tmp[\"task_container_id\"] = tmp[\"task_container_id\"].transform(lambda x: pd.factorize(x)[0]).astype('int16')\n",
    "tmp\n",
    "#train['task_container_id'] = (\n",
    "#    train\n",
    "#    .groupby('user_id')['task_container_id']\n",
    "#    .transform(lambda x: pd.factorize(x)[0])\n",
    "#    .astype('int16')\n",
    "#)"
   ]
  },
  {
   "cell_type": "code",
   "execution_count": 9,
   "metadata": {
    "execution": {
     "iopub.execute_input": "2020-10-20T11:57:32.475422Z",
     "iopub.status.busy": "2020-10-20T11:57:32.474394Z",
     "iopub.status.idle": "2020-10-20T11:57:32.477662Z",
     "shell.execute_reply": "2020-10-20T11:57:32.476951Z"
    },
    "papermill": {
     "duration": 0.057895,
     "end_time": "2020-10-20T11:57:32.477783",
     "exception": false,
     "start_time": "2020-10-20T11:57:32.419888",
     "status": "completed"
    },
    "tags": []
   },
   "outputs": [],
   "source": [
    "del tmp"
   ]
  },
  {
   "cell_type": "code",
   "execution_count": 10,
   "metadata": {
    "execution": {
     "iopub.execute_input": "2020-10-20T11:57:32.583449Z",
     "iopub.status.busy": "2020-10-20T11:57:32.582690Z",
     "iopub.status.idle": "2020-10-20T11:57:32.585565Z",
     "shell.execute_reply": "2020-10-20T11:57:32.584855Z"
    },
    "papermill": {
     "duration": 0.057556,
     "end_time": "2020-10-20T11:57:32.585693",
     "exception": false,
     "start_time": "2020-10-20T11:57:32.528137",
     "status": "completed"
    },
    "tags": []
   },
   "outputs": [],
   "source": [
    "#tmp = train[train.user_id==115].copy()\n",
    "#tmp[\"task_container_id\"] = tmp[\"task_container_id\"].transform(lambda x: pd.factorize(x)[0]).astype('int16')\n",
    "#tmp"
   ]
  },
  {
   "cell_type": "code",
   "execution_count": 11,
   "metadata": {
    "execution": {
     "iopub.execute_input": "2020-10-20T11:57:32.693172Z",
     "iopub.status.busy": "2020-10-20T11:57:32.692360Z",
     "iopub.status.idle": "2020-10-20T11:57:47.452636Z",
     "shell.execute_reply": "2020-10-20T11:57:47.451998Z"
    },
    "papermill": {
     "duration": 14.816385,
     "end_time": "2020-10-20T11:57:47.452762",
     "exception": false,
     "start_time": "2020-10-20T11:57:32.636377",
     "status": "completed"
    },
    "tags": []
   },
   "outputs": [
    {
     "data": {
      "text/plain": [
       "<matplotlib.axes._subplots.AxesSubplot at 0x7f0a203b2ed0>"
      ]
     },
     "execution_count": 11,
     "metadata": {},
     "output_type": "execute_result"
    },
    {
     "data": {
      "image/png": "[encoded data removed]",
      "text/plain": [
       "<Figure size 432x288 with 1 Axes>"
      ]
     },
     "metadata": {
      "needs_background": "light"
     },
     "output_type": "display_data"
    }
   ],
   "source": [
    "train.timestamp.plot(kind=\"hist\")"
   ]
  },
  {
   "cell_type": "code",
   "execution_count": 12,
   "metadata": {
    "execution": {
     "iopub.execute_input": "2020-10-20T11:57:47.562665Z",
     "iopub.status.busy": "2020-10-20T11:57:47.561889Z",
     "iopub.status.idle": "2020-10-20T11:57:51.554167Z",
     "shell.execute_reply": "2020-10-20T11:57:51.553561Z"
    },
    "papermill": {
     "duration": 4.049492,
     "end_time": "2020-10-20T11:57:51.554294",
     "exception": false,
     "start_time": "2020-10-20T11:57:47.504802",
     "status": "completed"
    },
    "tags": []
   },
   "outputs": [
    {
     "data": {
      "text/plain": [
       "6116     213605\n",
       "6173     202106\n",
       "4120     199372\n",
       "175      195861\n",
       "7876     190170\n",
       "          ...  \n",
       "10006         1\n",
       "10007         1\n",
       "10008         1\n",
       "1484          1\n",
       "21169         1\n",
       "Name: content_id, Length: 13782, dtype: int64"
      ]
     },
     "execution_count": 12,
     "metadata": {},
     "output_type": "execute_result"
    }
   ],
   "source": [
    "train.content_id.value_counts()"
   ]
  },
  {
   "cell_type": "code",
   "execution_count": 13,
   "metadata": {
    "execution": {
     "iopub.execute_input": "2020-10-20T11:57:51.677351Z",
     "iopub.status.busy": "2020-10-20T11:57:51.676510Z",
     "iopub.status.idle": "2020-10-20T11:57:51.680401Z",
     "shell.execute_reply": "2020-10-20T11:57:51.679637Z"
    },
    "papermill": {
     "duration": 0.073718,
     "end_time": "2020-10-20T11:57:51.680526",
     "exception": false,
     "start_time": "2020-10-20T11:57:51.606808",
     "status": "completed"
    },
    "tags": []
   },
   "outputs": [
    {
     "name": "stdout",
     "output_type": "stream",
     "text": [
      "<class 'pandas.core.frame.DataFrame'>\n",
      "RangeIndex: 101230332 entries, 0 to 101230331\n",
      "Data columns (total 10 columns):\n",
      " #   Column                          Dtype \n",
      "---  ------                          ----- \n",
      " 0   row_id                          uint32\n",
      " 1   timestamp                       uint64\n",
      " 2   user_id                         uint32\n",
      " 3   content_id                      uint16\n",
      " 4   content_type_id                 uint8 \n",
      " 5   task_container_id               uint16\n",
      " 6   user_answer                     int8  \n",
      " 7   answered_correctly              int8  \n",
      " 8   prior_question_elapsed_time     uint32\n",
      " 9   prior_question_had_explanation  object\n",
      "dtypes: int8(2), object(1), uint16(2), uint32(3), uint64(1), uint8(1)\n",
      "memory usage: 3.3+ GB\n"
     ]
    }
   ],
   "source": [
    "train.info()"
   ]
  },
  {
   "cell_type": "code",
   "execution_count": 14,
   "metadata": {
    "execution": {
     "iopub.execute_input": "2020-10-20T11:57:51.793190Z",
     "iopub.status.busy": "2020-10-20T11:57:51.792372Z",
     "iopub.status.idle": "2020-10-20T11:58:05.040876Z",
     "shell.execute_reply": "2020-10-20T11:58:05.040251Z"
    },
    "papermill": {
     "duration": 13.306582,
     "end_time": "2020-10-20T11:58:05.041012",
     "exception": false,
     "start_time": "2020-10-20T11:57:51.734430",
     "status": "completed"
    },
    "tags": []
   },
   "outputs": [
    {
     "data": {
      "text/plain": [
       "row_id                                 0\n",
       "timestamp                              0\n",
       "user_id                                0\n",
       "content_id                             0\n",
       "content_type_id                        0\n",
       "task_container_id                      0\n",
       "user_answer                            0\n",
       "answered_correctly                     0\n",
       "prior_question_elapsed_time            0\n",
       "prior_question_had_explanation    392506\n",
       "dtype: int64"
      ]
     },
     "execution_count": 14,
     "metadata": {},
     "output_type": "execute_result"
    }
   ],
   "source": [
    "# null value in prior_question_had_explanation_only, but other variables include -1 as missing value \n",
    "train.isnull().sum()"
   ]
  },
  {
   "cell_type": "code",
   "execution_count": 15,
   "metadata": {
    "execution": {
     "iopub.execute_input": "2020-10-20T11:58:05.156210Z",
     "iopub.status.busy": "2020-10-20T11:58:05.155338Z",
     "iopub.status.idle": "2020-10-20T11:59:45.262039Z",
     "shell.execute_reply": "2020-10-20T11:59:45.261375Z"
    },
    "papermill": {
     "duration": 100.167178,
     "end_time": "2020-10-20T11:59:45.262174",
     "exception": false,
     "start_time": "2020-10-20T11:58:05.094996",
     "status": "completed"
    },
    "tags": []
   },
   "outputs": [
    {
     "data": {
      "text/plain": [
       "<matplotlib.axes._subplots.AxesSubplot at 0x7f0a202171d0>"
      ]
     },
     "execution_count": 15,
     "metadata": {},
     "output_type": "execute_result"
    },
    {
     "data": {
      "image/png": "[encoded data removed]",
      "text/plain": [
       "<Figure size 432x288 with 1 Axes>"
      ]
     },
     "metadata": {
      "needs_background": "light"
     },
     "output_type": "display_data"
    }
   ],
   "source": [
    "# data num per user_id\n",
    "train.groupby(\"user_id\").agg(\"max\")[\"task_container_id\"].plot(kind=\"hist\")"
   ]
  },
  {
   "cell_type": "code",
   "execution_count": 16,
   "metadata": {
    "execution": {
     "iopub.execute_input": "2020-10-20T11:59:45.378987Z",
     "iopub.status.busy": "2020-10-20T11:59:45.378224Z",
     "iopub.status.idle": "2020-10-20T11:59:45.496583Z",
     "shell.execute_reply": "2020-10-20T11:59:45.495962Z"
    },
    "papermill": {
     "duration": 0.178907,
     "end_time": "2020-10-20T11:59:45.496706",
     "exception": false,
     "start_time": "2020-10-20T11:59:45.317799",
     "status": "completed"
    },
    "tags": []
   },
   "outputs": [
    {
     "data": {
      "text/plain": [
       "0.019352223402764303"
      ]
     },
     "execution_count": 16,
     "metadata": {},
     "output_type": "execute_result"
    }
   ],
   "source": [
    "train[\"content_type_id\"].sum() / train.shape[0] # lectureはわずか2%"
   ]
  },
  {
   "cell_type": "code",
   "execution_count": 17,
   "metadata": {
    "execution": {
     "iopub.execute_input": "2020-10-20T11:59:45.615614Z",
     "iopub.status.busy": "2020-10-20T11:59:45.614794Z",
     "iopub.status.idle": "2020-10-20T11:59:45.618468Z",
     "shell.execute_reply": "2020-10-20T11:59:45.617722Z"
    },
    "papermill": {
     "duration": 0.066266,
     "end_time": "2020-10-20T11:59:45.618590",
     "exception": false,
     "start_time": "2020-10-20T11:59:45.552324",
     "status": "completed"
    },
    "tags": []
   },
   "outputs": [
    {
     "data": {
      "text/plain": [
       "0             None\n",
       "1            False\n",
       "2            False\n",
       "3            False\n",
       "4            False\n",
       "             ...  \n",
       "101230327     True\n",
       "101230328     True\n",
       "101230329     True\n",
       "101230330     True\n",
       "101230331     True\n",
       "Name: prior_question_had_explanation, Length: 101230332, dtype: object"
      ]
     },
     "execution_count": 17,
     "metadata": {},
     "output_type": "execute_result"
    }
   ],
   "source": [
    "train[\"prior_question_had_explanation\"]"
   ]
  },
  {
   "cell_type": "code",
   "execution_count": 18,
   "metadata": {
    "execution": {
     "iopub.execute_input": "2020-10-20T11:59:45.736536Z",
     "iopub.status.busy": "2020-10-20T11:59:45.735491Z",
     "iopub.status.idle": "2020-10-20T11:59:45.738949Z",
     "shell.execute_reply": "2020-10-20T11:59:45.738316Z"
    },
    "papermill": {
     "duration": 0.064315,
     "end_time": "2020-10-20T11:59:45.739082",
     "exception": false,
     "start_time": "2020-10-20T11:59:45.674767",
     "status": "completed"
    },
    "tags": []
   },
   "outputs": [],
   "source": [
    "#train = train.merge(questions[[\"question_id\", \"part\"]], how=\"left\", left_on=['content_id'], right_on=['question_id'])\n",
    "#train = train.loc[train['answered_correctly'] != -1].reset_index(drop=True)\n",
    "#tmp = train.groupby('part').agg({'answered_correctly': ['mean']}).copy()\n",
    "#tmp.columns = ['correct_rate']\n",
    "#tmp"
   ]
  },
  {
   "cell_type": "markdown",
   "metadata": {
    "papermill": {
     "duration": 0.055672,
     "end_time": "2020-10-20T11:59:45.851010",
     "exception": false,
     "start_time": "2020-10-20T11:59:45.795338",
     "status": "completed"
    },
    "tags": []
   },
   "source": [
    "# lecture\n",
    "- lectures.csv: metadata for the lectures watched by users as they progress in their education.\n",
    "- lecture_id: foreign key for the train/test content_id column, when the content type is lecture (1).\n",
    "- part: top level category code for the lecture.\n",
    "- tag: one tag codes for the lecture. The meaning of the tags will not be provided, but these codes are sufficient for clustering the lectures together.\n",
    "- type_of: brief description of the core purpose of the lecture"
   ]
  },
  {
   "cell_type": "code",
   "execution_count": 19,
   "metadata": {
    "execution": {
     "iopub.execute_input": "2020-10-20T11:59:45.972533Z",
     "iopub.status.busy": "2020-10-20T11:59:45.971641Z",
     "iopub.status.idle": "2020-10-20T11:59:45.975909Z",
     "shell.execute_reply": "2020-10-20T11:59:45.975324Z"
    },
    "papermill": {
     "duration": 0.06778,
     "end_time": "2020-10-20T11:59:45.976035",
     "exception": false,
     "start_time": "2020-10-20T11:59:45.908255",
     "status": "completed"
    },
    "tags": []
   },
   "outputs": [
    {
     "data": {
      "text/plain": [
       "(418, 4)"
      ]
     },
     "execution_count": 19,
     "metadata": {},
     "output_type": "execute_result"
    }
   ],
   "source": [
    "lectures.shape"
   ]
  },
  {
   "cell_type": "code",
   "execution_count": 20,
   "metadata": {
    "execution": {
     "iopub.execute_input": "2020-10-20T11:59:46.102599Z",
     "iopub.status.busy": "2020-10-20T11:59:46.101494Z",
     "iopub.status.idle": "2020-10-20T11:59:46.106272Z",
     "shell.execute_reply": "2020-10-20T11:59:46.105638Z"
    },
    "papermill": {
     "duration": 0.071999,
     "end_time": "2020-10-20T11:59:46.106393",
     "exception": false,
     "start_time": "2020-10-20T11:59:46.034394",
     "status": "completed"
    },
    "tags": []
   },
   "outputs": [
    {
     "data": {
      "text/html": [
       "<div>\n",
       "<style scoped>\n",
       "    .dataframe tbody tr th:only-of-type {\n",
       "        vertical-align: middle;\n",
       "    }\n",
       "\n",
       "    .dataframe tbody tr th {\n",
       "        vertical-align: top;\n",
       "    }\n",
       "\n",
       "    .dataframe thead th {\n",
       "        text-align: right;\n",
       "    }\n",
       "</style>\n",
       "<table border=\"1\" class=\"dataframe\">\n",
       "  <thead>\n",
       "    <tr style=\"text-align: right;\">\n",
       "      <th></th>\n",
       "      <th>lecture_id</th>\n",
       "      <th>tag</th>\n",
       "      <th>part</th>\n",
       "      <th>type_of</th>\n",
       "    </tr>\n",
       "  </thead>\n",
       "  <tbody>\n",
       "    <tr>\n",
       "      <th>0</th>\n",
       "      <td>89</td>\n",
       "      <td>159</td>\n",
       "      <td>5</td>\n",
       "      <td>concept</td>\n",
       "    </tr>\n",
       "    <tr>\n",
       "      <th>1</th>\n",
       "      <td>100</td>\n",
       "      <td>70</td>\n",
       "      <td>1</td>\n",
       "      <td>concept</td>\n",
       "    </tr>\n",
       "    <tr>\n",
       "      <th>2</th>\n",
       "      <td>185</td>\n",
       "      <td>45</td>\n",
       "      <td>6</td>\n",
       "      <td>concept</td>\n",
       "    </tr>\n",
       "    <tr>\n",
       "      <th>3</th>\n",
       "      <td>192</td>\n",
       "      <td>79</td>\n",
       "      <td>5</td>\n",
       "      <td>solving question</td>\n",
       "    </tr>\n",
       "    <tr>\n",
       "      <th>4</th>\n",
       "      <td>317</td>\n",
       "      <td>156</td>\n",
       "      <td>5</td>\n",
       "      <td>solving question</td>\n",
       "    </tr>\n",
       "  </tbody>\n",
       "</table>\n",
       "</div>"
      ],
      "text/plain": [
       "   lecture_id  tag  part           type_of\n",
       "0          89  159     5           concept\n",
       "1         100   70     1           concept\n",
       "2         185   45     6           concept\n",
       "3         192   79     5  solving question\n",
       "4         317  156     5  solving question"
      ]
     },
     "execution_count": 20,
     "metadata": {},
     "output_type": "execute_result"
    }
   ],
   "source": [
    "lectures.head()"
   ]
  },
  {
   "cell_type": "code",
   "execution_count": 21,
   "metadata": {
    "execution": {
     "iopub.execute_input": "2020-10-20T11:59:46.234028Z",
     "iopub.status.busy": "2020-10-20T11:59:46.232921Z",
     "iopub.status.idle": "2020-10-20T11:59:46.237295Z",
     "shell.execute_reply": "2020-10-20T11:59:46.236631Z"
    },
    "papermill": {
     "duration": 0.07252,
     "end_time": "2020-10-20T11:59:46.237425",
     "exception": false,
     "start_time": "2020-10-20T11:59:46.164905",
     "status": "completed"
    },
    "tags": []
   },
   "outputs": [
    {
     "data": {
      "text/plain": [
       "array([ 79, 156, 134,  80, 101,  74,  43, 109, 142, 140,   1,  26, 173,\n",
       "         7,  64, 141, 124, 161,   4,  94,  70, 119, 177,  54,  50, 116,\n",
       "        93, 136, 127,  53, 130,  13,  36,  62, 181, 164, 163,  85,  91,\n",
       "         9,  28,  98, 159,  27, 149,  61, 166,  14, 113, 182,  55,  49,\n",
       "       106,  47,  60, 179,  71,  82,  44,  25, 108,  96,   5, 152,  16,\n",
       "        73, 178,  42,  40,   6, 157,  33,  51, 133,  48, 167,  68,  95,\n",
       "        30, 174,  20,  66,  37,  45, 105, 151, 123, 114, 180,  89, 168,\n",
       "        78, 111,  52,  34,   8, 184, 176,  72, 129, 128,  65, 125, 170,\n",
       "       104,  69,   0])"
      ]
     },
     "execution_count": 21,
     "metadata": {},
     "output_type": "execute_result"
    }
   ],
   "source": [
    "lectures[lectures.type_of==\"solving question\"][\"tag\"].unique()"
   ]
  },
  {
   "cell_type": "code",
   "execution_count": 22,
   "metadata": {
    "execution": {
     "iopub.execute_input": "2020-10-20T11:59:46.366776Z",
     "iopub.status.busy": "2020-10-20T11:59:46.365944Z",
     "iopub.status.idle": "2020-10-20T11:59:46.370113Z",
     "shell.execute_reply": "2020-10-20T11:59:46.369446Z"
    },
    "papermill": {
     "duration": 0.073969,
     "end_time": "2020-10-20T11:59:46.370255",
     "exception": false,
     "start_time": "2020-10-20T11:59:46.296286",
     "status": "completed"
    },
    "tags": []
   },
   "outputs": [
    {
     "name": "stdout",
     "output_type": "stream",
     "text": [
      "<class 'pandas.core.frame.DataFrame'>\n",
      "RangeIndex: 418 entries, 0 to 417\n",
      "Data columns (total 4 columns):\n",
      " #   Column      Non-Null Count  Dtype \n",
      "---  ------      --------------  ----- \n",
      " 0   lecture_id  418 non-null    int64 \n",
      " 1   tag         418 non-null    int64 \n",
      " 2   part        418 non-null    int64 \n",
      " 3   type_of     418 non-null    object\n",
      "dtypes: int64(3), object(1)\n",
      "memory usage: 13.2+ KB\n"
     ]
    }
   ],
   "source": [
    "lectures.info()"
   ]
  },
  {
   "cell_type": "code",
   "execution_count": 23,
   "metadata": {
    "execution": {
     "iopub.execute_input": "2020-10-20T11:59:46.503096Z",
     "iopub.status.busy": "2020-10-20T11:59:46.502064Z",
     "iopub.status.idle": "2020-10-20T11:59:46.507524Z",
     "shell.execute_reply": "2020-10-20T11:59:46.506737Z"
    },
    "papermill": {
     "duration": 0.078399,
     "end_time": "2020-10-20T11:59:46.507698",
     "exception": false,
     "start_time": "2020-10-20T11:59:46.429299",
     "status": "completed"
    },
    "tags": []
   },
   "outputs": [
    {
     "data": {
      "text/plain": [
       "136    7\n",
       "116    6\n",
       "134    6\n",
       "27     6\n",
       "161    6\n",
       "      ..\n",
       "99     1\n",
       "57     1\n",
       "90     1\n",
       "83     1\n",
       "187    1\n",
       "Name: tag, Length: 151, dtype: int64"
      ]
     },
     "execution_count": 23,
     "metadata": {},
     "output_type": "execute_result"
    }
   ],
   "source": [
    "lectures.tag.value_counts() # 一部タグに重複あり"
   ]
  },
  {
   "cell_type": "code",
   "execution_count": 24,
   "metadata": {
    "execution": {
     "iopub.execute_input": "2020-10-20T11:59:46.653717Z",
     "iopub.status.busy": "2020-10-20T11:59:46.652546Z",
     "iopub.status.idle": "2020-10-20T11:59:46.657287Z",
     "shell.execute_reply": "2020-10-20T11:59:46.657919Z"
    },
    "papermill": {
     "duration": 0.080749,
     "end_time": "2020-10-20T11:59:46.658107",
     "exception": false,
     "start_time": "2020-10-20T11:59:46.577358",
     "status": "completed"
    },
    "tags": []
   },
   "outputs": [
    {
     "data": {
      "text/plain": [
       "5    143\n",
       "6     83\n",
       "2     56\n",
       "1     54\n",
       "7     32\n",
       "4     31\n",
       "3     19\n",
       "Name: part, dtype: int64"
      ]
     },
     "execution_count": 24,
     "metadata": {},
     "output_type": "execute_result"
    }
   ],
   "source": [
    "lectures.part.value_counts() # 一部タグに重複あり"
   ]
  },
  {
   "cell_type": "code",
   "execution_count": 25,
   "metadata": {
    "execution": {
     "iopub.execute_input": "2020-10-20T11:59:46.800534Z",
     "iopub.status.busy": "2020-10-20T11:59:46.799492Z",
     "iopub.status.idle": "2020-10-20T11:59:46.804548Z",
     "shell.execute_reply": "2020-10-20T11:59:46.803814Z"
    },
    "papermill": {
     "duration": 0.078686,
     "end_time": "2020-10-20T11:59:46.804668",
     "exception": false,
     "start_time": "2020-10-20T11:59:46.725982",
     "status": "completed"
    },
    "tags": []
   },
   "outputs": [
    {
     "data": {
      "text/plain": [
       "concept             222\n",
       "solving question    186\n",
       "intention             7\n",
       "starter               3\n",
       "Name: type_of, dtype: int64"
      ]
     },
     "execution_count": 25,
     "metadata": {},
     "output_type": "execute_result"
    }
   ],
   "source": [
    "lectures.type_of.value_counts() # 一部タグに重複あり"
   ]
  },
  {
   "cell_type": "code",
   "execution_count": 26,
   "metadata": {
    "execution": {
     "iopub.execute_input": "2020-10-20T11:59:46.934341Z",
     "iopub.status.busy": "2020-10-20T11:59:46.933170Z",
     "iopub.status.idle": "2020-10-20T11:59:46.953157Z",
     "shell.execute_reply": "2020-10-20T11:59:46.953988Z"
    },
    "papermill": {
     "duration": 0.088593,
     "end_time": "2020-10-20T11:59:46.954193",
     "exception": false,
     "start_time": "2020-10-20T11:59:46.865600",
     "status": "completed"
    },
    "tags": []
   },
   "outputs": [
    {
     "data": {
      "text/plain": [
       "lecture_id    0\n",
       "tag           0\n",
       "part          0\n",
       "type_of       0\n",
       "dtype: int64"
      ]
     },
     "execution_count": 26,
     "metadata": {},
     "output_type": "execute_result"
    }
   ],
   "source": [
    "lectures.isnull().sum() # no missing value"
   ]
  },
  {
   "cell_type": "markdown",
   "metadata": {
    "papermill": {
     "duration": 0.080905,
     "end_time": "2020-10-20T11:59:47.127020",
     "exception": false,
     "start_time": "2020-10-20T11:59:47.046115",
     "status": "completed"
    },
    "tags": []
   },
   "source": [
    "# questions\n",
    "- questions.csv: metadata for the questions posed to users.\n",
    "- question_id: foreign key for the train/test content_id column, when the content type is question (0).\n",
    "- bundle_id: code for which questions are served together.\n",
    "- correct_answer: the answer to the question. Can be compared with the train user_answer column to check if the user was right.\n",
    "- part: the relevant section of the TOEIC test.\n",
    "- tags: one or more detailed tag codes for the question. The meaning of the tags will not be provided, but these codes are sufficient for clustering the questions together."
   ]
  },
  {
   "cell_type": "code",
   "execution_count": 27,
   "metadata": {
    "execution": {
     "iopub.execute_input": "2020-10-20T11:59:47.261993Z",
     "iopub.status.busy": "2020-10-20T11:59:47.260890Z",
     "iopub.status.idle": "2020-10-20T11:59:47.265269Z",
     "shell.execute_reply": "2020-10-20T11:59:47.264522Z"
    },
    "papermill": {
     "duration": 0.075666,
     "end_time": "2020-10-20T11:59:47.265400",
     "exception": false,
     "start_time": "2020-10-20T11:59:47.189734",
     "status": "completed"
    },
    "tags": []
   },
   "outputs": [
    {
     "data": {
      "text/plain": [
       "(13523, 5)"
      ]
     },
     "execution_count": 27,
     "metadata": {},
     "output_type": "execute_result"
    }
   ],
   "source": [
    "questions.shape"
   ]
  },
  {
   "cell_type": "code",
   "execution_count": 28,
   "metadata": {
    "execution": {
     "iopub.execute_input": "2020-10-20T11:59:47.400934Z",
     "iopub.status.busy": "2020-10-20T11:59:47.399999Z",
     "iopub.status.idle": "2020-10-20T11:59:47.404201Z",
     "shell.execute_reply": "2020-10-20T11:59:47.404755Z"
    },
    "papermill": {
     "duration": 0.077544,
     "end_time": "2020-10-20T11:59:47.404935",
     "exception": false,
     "start_time": "2020-10-20T11:59:47.327391",
     "status": "completed"
    },
    "tags": []
   },
   "outputs": [
    {
     "data": {
      "text/html": [
       "<div>\n",
       "<style scoped>\n",
       "    .dataframe tbody tr th:only-of-type {\n",
       "        vertical-align: middle;\n",
       "    }\n",
       "\n",
       "    .dataframe tbody tr th {\n",
       "        vertical-align: top;\n",
       "    }\n",
       "\n",
       "    .dataframe thead th {\n",
       "        text-align: right;\n",
       "    }\n",
       "</style>\n",
       "<table border=\"1\" class=\"dataframe\">\n",
       "  <thead>\n",
       "    <tr style=\"text-align: right;\">\n",
       "      <th></th>\n",
       "      <th>question_id</th>\n",
       "      <th>bundle_id</th>\n",
       "      <th>correct_answer</th>\n",
       "      <th>part</th>\n",
       "      <th>tags</th>\n",
       "    </tr>\n",
       "  </thead>\n",
       "  <tbody>\n",
       "    <tr>\n",
       "      <th>0</th>\n",
       "      <td>0</td>\n",
       "      <td>0</td>\n",
       "      <td>0</td>\n",
       "      <td>1</td>\n",
       "      <td>51 131 162 38</td>\n",
       "    </tr>\n",
       "    <tr>\n",
       "      <th>1</th>\n",
       "      <td>1</td>\n",
       "      <td>1</td>\n",
       "      <td>1</td>\n",
       "      <td>1</td>\n",
       "      <td>131 36 81</td>\n",
       "    </tr>\n",
       "    <tr>\n",
       "      <th>2</th>\n",
       "      <td>2</td>\n",
       "      <td>2</td>\n",
       "      <td>0</td>\n",
       "      <td>1</td>\n",
       "      <td>131 101 162 92</td>\n",
       "    </tr>\n",
       "    <tr>\n",
       "      <th>3</th>\n",
       "      <td>3</td>\n",
       "      <td>3</td>\n",
       "      <td>0</td>\n",
       "      <td>1</td>\n",
       "      <td>131 149 162 29</td>\n",
       "    </tr>\n",
       "    <tr>\n",
       "      <th>4</th>\n",
       "      <td>4</td>\n",
       "      <td>4</td>\n",
       "      <td>3</td>\n",
       "      <td>1</td>\n",
       "      <td>131 5 162 38</td>\n",
       "    </tr>\n",
       "  </tbody>\n",
       "</table>\n",
       "</div>"
      ],
      "text/plain": [
       "   question_id  bundle_id  correct_answer  part            tags\n",
       "0            0          0               0     1   51 131 162 38\n",
       "1            1          1               1     1       131 36 81\n",
       "2            2          2               0     1  131 101 162 92\n",
       "3            3          3               0     1  131 149 162 29\n",
       "4            4          4               3     1    131 5 162 38"
      ]
     },
     "execution_count": 28,
     "metadata": {},
     "output_type": "execute_result"
    }
   ],
   "source": [
    "questions.head()"
   ]
  },
  {
   "cell_type": "code",
   "execution_count": 29,
   "metadata": {
    "execution": {
     "iopub.execute_input": "2020-10-20T11:59:47.544314Z",
     "iopub.status.busy": "2020-10-20T11:59:47.538764Z",
     "iopub.status.idle": "2020-10-20T11:59:47.549550Z",
     "shell.execute_reply": "2020-10-20T11:59:47.548918Z"
    },
    "papermill": {
     "duration": 0.081945,
     "end_time": "2020-10-20T11:59:47.549681",
     "exception": false,
     "start_time": "2020-10-20T11:59:47.467736",
     "status": "completed"
    },
    "tags": []
   },
   "outputs": [
    {
     "name": "stdout",
     "output_type": "stream",
     "text": [
      "<class 'pandas.core.frame.DataFrame'>\n",
      "RangeIndex: 13523 entries, 0 to 13522\n",
      "Data columns (total 5 columns):\n",
      " #   Column          Non-Null Count  Dtype \n",
      "---  ------          --------------  ----- \n",
      " 0   question_id     13523 non-null  int64 \n",
      " 1   bundle_id       13523 non-null  int64 \n",
      " 2   correct_answer  13523 non-null  int64 \n",
      " 3   part            13523 non-null  int64 \n",
      " 4   tags            13522 non-null  object\n",
      "dtypes: int64(4), object(1)\n",
      "memory usage: 528.4+ KB\n"
     ]
    }
   ],
   "source": [
    "questions.info()"
   ]
  },
  {
   "cell_type": "code",
   "execution_count": 30,
   "metadata": {
    "execution": {
     "iopub.execute_input": "2020-10-20T11:59:47.682027Z",
     "iopub.status.busy": "2020-10-20T11:59:47.681252Z",
     "iopub.status.idle": "2020-10-20T11:59:47.688299Z",
     "shell.execute_reply": "2020-10-20T11:59:47.687586Z"
    },
    "papermill": {
     "duration": 0.075456,
     "end_time": "2020-10-20T11:59:47.688457",
     "exception": false,
     "start_time": "2020-10-20T11:59:47.613001",
     "status": "completed"
    },
    "tags": []
   },
   "outputs": [
    {
     "data": {
      "text/plain": [
       "13523"
      ]
     },
     "execution_count": 30,
     "metadata": {},
     "output_type": "execute_result"
    }
   ],
   "source": [
    "len(questions.question_id.unique()) # question_id is unique"
   ]
  },
  {
   "cell_type": "code",
   "execution_count": 31,
   "metadata": {
    "execution": {
     "iopub.execute_input": "2020-10-20T11:59:47.826435Z",
     "iopub.status.busy": "2020-10-20T11:59:47.825359Z",
     "iopub.status.idle": "2020-10-20T11:59:47.831535Z",
     "shell.execute_reply": "2020-10-20T11:59:47.830754Z"
    },
    "papermill": {
     "duration": 0.075265,
     "end_time": "2020-10-20T11:59:47.831660",
     "exception": false,
     "start_time": "2020-10-20T11:59:47.756395",
     "status": "completed"
    },
    "tags": []
   },
   "outputs": [
    {
     "data": {
      "text/plain": [
       "9765"
      ]
     },
     "execution_count": 31,
     "metadata": {},
     "output_type": "execute_result"
    }
   ],
   "source": [
    "len(questions.bundle_id.unique()) # bundle_id is not unique"
   ]
  },
  {
   "cell_type": "code",
   "execution_count": 32,
   "metadata": {
    "execution": {
     "iopub.execute_input": "2020-10-20T11:59:47.969554Z",
     "iopub.status.busy": "2020-10-20T11:59:47.968630Z",
     "iopub.status.idle": "2020-10-20T11:59:47.976664Z",
     "shell.execute_reply": "2020-10-20T11:59:47.976038Z"
    },
    "papermill": {
     "duration": 0.078852,
     "end_time": "2020-10-20T11:59:47.976789",
     "exception": false,
     "start_time": "2020-10-20T11:59:47.897937",
     "status": "completed"
    },
    "tags": []
   },
   "outputs": [
    {
     "data": {
      "text/plain": [
       "5    5511\n",
       "2    1647\n",
       "3    1562\n",
       "4    1439\n",
       "6    1212\n",
       "7    1160\n",
       "1     992\n",
       "Name: part, dtype: int64"
      ]
     },
     "execution_count": 32,
     "metadata": {},
     "output_type": "execute_result"
    }
   ],
   "source": [
    "questions.part.value_counts()"
   ]
  },
  {
   "cell_type": "code",
   "execution_count": 33,
   "metadata": {
    "execution": {
     "iopub.execute_input": "2020-10-20T11:59:48.115538Z",
     "iopub.status.busy": "2020-10-20T11:59:48.114729Z",
     "iopub.status.idle": "2020-10-20T11:59:48.121125Z",
     "shell.execute_reply": "2020-10-20T11:59:48.121719Z"
    },
    "papermill": {
     "duration": 0.078888,
     "end_time": "2020-10-20T11:59:48.121895",
     "exception": false,
     "start_time": "2020-10-20T11:59:48.043007",
     "status": "completed"
    },
    "tags": []
   },
   "outputs": [
    {
     "data": {
      "text/plain": [
       "question_id       0\n",
       "bundle_id         0\n",
       "correct_answer    0\n",
       "part              0\n",
       "tags              1\n",
       "dtype: int64"
      ]
     },
     "execution_count": 33,
     "metadata": {},
     "output_type": "execute_result"
    }
   ],
   "source": [
    "questions.isnull().sum()"
   ]
  },
  {
   "cell_type": "markdown",
   "metadata": {
    "papermill": {
     "duration": 0.065072,
     "end_time": "2020-10-20T11:59:48.252414",
     "exception": false,
     "start_time": "2020-10-20T11:59:48.187342",
     "status": "completed"
    },
    "tags": []
   },
   "source": [
    "# combi of question and lecture"
   ]
  },
  {
   "cell_type": "code",
   "execution_count": 34,
   "metadata": {
    "execution": {
     "iopub.execute_input": "2020-10-20T11:59:48.395066Z",
     "iopub.status.busy": "2020-10-20T11:59:48.391498Z",
     "iopub.status.idle": "2020-10-20T11:59:56.443443Z",
     "shell.execute_reply": "2020-10-20T11:59:56.442685Z"
    },
    "papermill": {
     "duration": 8.125768,
     "end_time": "2020-10-20T11:59:56.443577",
     "exception": false,
     "start_time": "2020-10-20T11:59:48.317809",
     "status": "completed"
    },
    "tags": []
   },
   "outputs": [],
   "source": [
    "# https://stackoverflow.com/questions/16236684/apply-pandas-function-to-column-to-create-multiple-new-columns\n",
    "# https://stackoverflow.com/questions/16228248/how-can-i-get-list-of-values-from-dict\n",
    "def calc(tags):\n",
    "    type_count = {'concept':0, 'solving question': 0, 'intention': 0, 'starter':0}\n",
    "    try:\n",
    "        tag_list = tags.split(\" \")\n",
    "        type_list = list(lectures[lectures.tag.isin(tag_list)][\"type_of\"])\n",
    "    except:\n",
    "        ans = list(type_count.values())\n",
    "        return ans[0], ans[1], ans[2], ans[3] \n",
    "    for ele in type_list:\n",
    "        type_count[ele] += 1\n",
    "    ans = list(type_count.values())\n",
    "    #print(tag_list, type_list ,ans)\n",
    "    return ans[0], ans[1], ans[2], ans[3] \n",
    "questions['concept'], questions['solving question'], questions['intention'], questions['starter'] = zip(*questions['tags'].map(calc))\n",
    "#questions.apply(lambda x: calc(x), axis=1)"
   ]
  },
  {
   "cell_type": "code",
   "execution_count": 35,
   "metadata": {
    "execution": {
     "iopub.execute_input": "2020-10-20T11:59:56.586971Z",
     "iopub.status.busy": "2020-10-20T11:59:56.585805Z",
     "iopub.status.idle": "2020-10-20T11:59:56.590163Z",
     "shell.execute_reply": "2020-10-20T11:59:56.589584Z"
    },
    "papermill": {
     "duration": 0.079787,
     "end_time": "2020-10-20T11:59:56.590303",
     "exception": false,
     "start_time": "2020-10-20T11:59:56.510516",
     "status": "completed"
    },
    "tags": []
   },
   "outputs": [
    {
     "data": {
      "text/html": [
       "<div>\n",
       "<style scoped>\n",
       "    .dataframe tbody tr th:only-of-type {\n",
       "        vertical-align: middle;\n",
       "    }\n",
       "\n",
       "    .dataframe tbody tr th {\n",
       "        vertical-align: top;\n",
       "    }\n",
       "\n",
       "    .dataframe thead th {\n",
       "        text-align: right;\n",
       "    }\n",
       "</style>\n",
       "<table border=\"1\" class=\"dataframe\">\n",
       "  <thead>\n",
       "    <tr style=\"text-align: right;\">\n",
       "      <th></th>\n",
       "      <th>lecture_id</th>\n",
       "      <th>tag</th>\n",
       "      <th>part</th>\n",
       "      <th>type_of</th>\n",
       "    </tr>\n",
       "  </thead>\n",
       "  <tbody>\n",
       "  </tbody>\n",
       "</table>\n",
       "</div>"
      ],
      "text/plain": [
       "Empty DataFrame\n",
       "Columns: [lecture_id, tag, part, type_of]\n",
       "Index: []"
      ]
     },
     "execution_count": 35,
     "metadata": {},
     "output_type": "execute_result"
    }
   ],
   "source": [
    "lectures[lectures.tag==38]"
   ]
  },
  {
   "cell_type": "code",
   "execution_count": 36,
   "metadata": {
    "execution": {
     "iopub.execute_input": "2020-10-20T11:59:56.737763Z",
     "iopub.status.busy": "2020-10-20T11:59:56.736899Z",
     "iopub.status.idle": "2020-10-20T11:59:56.741445Z",
     "shell.execute_reply": "2020-10-20T11:59:56.740682Z"
    },
    "papermill": {
     "duration": 0.084851,
     "end_time": "2020-10-20T11:59:56.741570",
     "exception": false,
     "start_time": "2020-10-20T11:59:56.656719",
     "status": "completed"
    },
    "tags": []
   },
   "outputs": [
    {
     "data": {
      "text/html": [
       "<div>\n",
       "<style scoped>\n",
       "    .dataframe tbody tr th:only-of-type {\n",
       "        vertical-align: middle;\n",
       "    }\n",
       "\n",
       "    .dataframe tbody tr th {\n",
       "        vertical-align: top;\n",
       "    }\n",
       "\n",
       "    .dataframe thead th {\n",
       "        text-align: right;\n",
       "    }\n",
       "</style>\n",
       "<table border=\"1\" class=\"dataframe\">\n",
       "  <thead>\n",
       "    <tr style=\"text-align: right;\">\n",
       "      <th></th>\n",
       "      <th>question_id</th>\n",
       "      <th>bundle_id</th>\n",
       "      <th>correct_answer</th>\n",
       "      <th>part</th>\n",
       "      <th>tags</th>\n",
       "      <th>concept</th>\n",
       "      <th>solving question</th>\n",
       "      <th>intention</th>\n",
       "      <th>starter</th>\n",
       "    </tr>\n",
       "  </thead>\n",
       "  <tbody>\n",
       "    <tr>\n",
       "      <th>0</th>\n",
       "      <td>0</td>\n",
       "      <td>0</td>\n",
       "      <td>0</td>\n",
       "      <td>1</td>\n",
       "      <td>51 131 162 38</td>\n",
       "      <td>1</td>\n",
       "      <td>1</td>\n",
       "      <td>0</td>\n",
       "      <td>0</td>\n",
       "    </tr>\n",
       "    <tr>\n",
       "      <th>1</th>\n",
       "      <td>1</td>\n",
       "      <td>1</td>\n",
       "      <td>1</td>\n",
       "      <td>1</td>\n",
       "      <td>131 36 81</td>\n",
       "      <td>1</td>\n",
       "      <td>3</td>\n",
       "      <td>0</td>\n",
       "      <td>0</td>\n",
       "    </tr>\n",
       "    <tr>\n",
       "      <th>2</th>\n",
       "      <td>2</td>\n",
       "      <td>2</td>\n",
       "      <td>0</td>\n",
       "      <td>1</td>\n",
       "      <td>131 101 162 92</td>\n",
       "      <td>1</td>\n",
       "      <td>3</td>\n",
       "      <td>0</td>\n",
       "      <td>0</td>\n",
       "    </tr>\n",
       "    <tr>\n",
       "      <th>3</th>\n",
       "      <td>3</td>\n",
       "      <td>3</td>\n",
       "      <td>0</td>\n",
       "      <td>1</td>\n",
       "      <td>131 149 162 29</td>\n",
       "      <td>1</td>\n",
       "      <td>3</td>\n",
       "      <td>0</td>\n",
       "      <td>0</td>\n",
       "    </tr>\n",
       "    <tr>\n",
       "      <th>4</th>\n",
       "      <td>4</td>\n",
       "      <td>4</td>\n",
       "      <td>3</td>\n",
       "      <td>1</td>\n",
       "      <td>131 5 162 38</td>\n",
       "      <td>1</td>\n",
       "      <td>1</td>\n",
       "      <td>0</td>\n",
       "      <td>0</td>\n",
       "    </tr>\n",
       "  </tbody>\n",
       "</table>\n",
       "</div>"
      ],
      "text/plain": [
       "   question_id  bundle_id  correct_answer  part            tags  concept  \\\n",
       "0            0          0               0     1   51 131 162 38        1   \n",
       "1            1          1               1     1       131 36 81        1   \n",
       "2            2          2               0     1  131 101 162 92        1   \n",
       "3            3          3               0     1  131 149 162 29        1   \n",
       "4            4          4               3     1    131 5 162 38        1   \n",
       "\n",
       "   solving question  intention  starter  \n",
       "0                 1          0        0  \n",
       "1                 3          0        0  \n",
       "2                 3          0        0  \n",
       "3                 3          0        0  \n",
       "4                 1          0        0  "
      ]
     },
     "execution_count": 36,
     "metadata": {},
     "output_type": "execute_result"
    }
   ],
   "source": [
    "questions.head()"
   ]
  },
  {
   "cell_type": "markdown",
   "metadata": {
    "papermill": {
     "duration": 0.119697,
     "end_time": "2020-10-20T11:59:56.928997",
     "exception": false,
     "start_time": "2020-10-20T11:59:56.809300",
     "status": "completed"
    },
    "tags": []
   },
   "source": [
    "# example_test\n",
    "- row_id: (int64) ID code for the row.\n",
    "- timestamp: (int64) the time between this user interaction and the first event completion from that user.\n",
    "- user_id: (int32) ID code for the user.\n",
    "- content_id: (int16) ID code for the user interaction\n",
    "- content_type_id: (int8) 0 if the event was a question being posed to the user, 1 if the event was the user watching a lecture.\n",
    "- task_container_id: (int16) Id code for the batch of questions or lectures. For example, a user might see three questions in a row before seeing the explanations for any of them. Those three would all share a task_container_id.\n",
    "- user_answer: (int8) the user's answer to the question, if any. Read -1 as null, for lectures.\n",
    "- answered_correctly: (int8) if the user responded correctly. Read -1 as null, for lectures.\n",
    "- prior_question_elapsed_time: (float32) The average time it took a user to answer each question in the previous question bundle, ignoring any lectures in between. Is null for a user's first question bundle or lecture. Note that the time is the average time a user took to solve each question in the previous bundle.\n",
    "- prior_question_had_explanation: (bool) Whether or not the user saw an explanation and the correct response(s) after answering the previous question bundle, ignoring any lectures in between. The value is shared across a single question bundle, and is null for a user's first question bundle or lecture. Typically the first several questions a user sees were part of an onboarding diagnostic test where they did not get any feedback."
   ]
  },
  {
   "cell_type": "code",
   "execution_count": 37,
   "metadata": {
    "execution": {
     "iopub.execute_input": "2020-10-20T11:59:57.082816Z",
     "iopub.status.busy": "2020-10-20T11:59:57.081695Z",
     "iopub.status.idle": "2020-10-20T11:59:57.086641Z",
     "shell.execute_reply": "2020-10-20T11:59:57.086044Z"
    },
    "papermill": {
     "duration": 0.089099,
     "end_time": "2020-10-20T11:59:57.086773",
     "exception": false,
     "start_time": "2020-10-20T11:59:56.997674",
     "status": "completed"
    },
    "tags": []
   },
   "outputs": [
    {
     "data": {
      "text/html": [
       "<div>\n",
       "<style scoped>\n",
       "    .dataframe tbody tr th:only-of-type {\n",
       "        vertical-align: middle;\n",
       "    }\n",
       "\n",
       "    .dataframe tbody tr th {\n",
       "        vertical-align: top;\n",
       "    }\n",
       "\n",
       "    .dataframe thead th {\n",
       "        text-align: right;\n",
       "    }\n",
       "</style>\n",
       "<table border=\"1\" class=\"dataframe\">\n",
       "  <thead>\n",
       "    <tr style=\"text-align: right;\">\n",
       "      <th></th>\n",
       "      <th>row_id</th>\n",
       "      <th>group_num</th>\n",
       "      <th>timestamp</th>\n",
       "      <th>user_id</th>\n",
       "      <th>content_id</th>\n",
       "      <th>content_type_id</th>\n",
       "      <th>task_container_id</th>\n",
       "      <th>prior_question_elapsed_time</th>\n",
       "      <th>prior_question_had_explanation</th>\n",
       "      <th>prior_group_answers_correct</th>\n",
       "      <th>prior_group_responses</th>\n",
       "    </tr>\n",
       "  </thead>\n",
       "  <tbody>\n",
       "    <tr>\n",
       "      <th>0</th>\n",
       "      <td>0</td>\n",
       "      <td>0</td>\n",
       "      <td>0</td>\n",
       "      <td>275030867</td>\n",
       "      <td>5729</td>\n",
       "      <td>0</td>\n",
       "      <td>0</td>\n",
       "      <td>NaN</td>\n",
       "      <td>NaN</td>\n",
       "      <td>[]</td>\n",
       "      <td>[]</td>\n",
       "    </tr>\n",
       "    <tr>\n",
       "      <th>1</th>\n",
       "      <td>1</td>\n",
       "      <td>0</td>\n",
       "      <td>13309898705</td>\n",
       "      <td>554169193</td>\n",
       "      <td>12010</td>\n",
       "      <td>0</td>\n",
       "      <td>4427</td>\n",
       "      <td>19000.0</td>\n",
       "      <td>True</td>\n",
       "      <td>NaN</td>\n",
       "      <td>NaN</td>\n",
       "    </tr>\n",
       "    <tr>\n",
       "      <th>2</th>\n",
       "      <td>2</td>\n",
       "      <td>0</td>\n",
       "      <td>4213672059</td>\n",
       "      <td>1720860329</td>\n",
       "      <td>457</td>\n",
       "      <td>0</td>\n",
       "      <td>240</td>\n",
       "      <td>17000.0</td>\n",
       "      <td>True</td>\n",
       "      <td>NaN</td>\n",
       "      <td>NaN</td>\n",
       "    </tr>\n",
       "    <tr>\n",
       "      <th>3</th>\n",
       "      <td>3</td>\n",
       "      <td>0</td>\n",
       "      <td>62798072960</td>\n",
       "      <td>288641214</td>\n",
       "      <td>13262</td>\n",
       "      <td>0</td>\n",
       "      <td>266</td>\n",
       "      <td>23000.0</td>\n",
       "      <td>True</td>\n",
       "      <td>NaN</td>\n",
       "      <td>NaN</td>\n",
       "    </tr>\n",
       "    <tr>\n",
       "      <th>4</th>\n",
       "      <td>4</td>\n",
       "      <td>0</td>\n",
       "      <td>10585422061</td>\n",
       "      <td>1728340777</td>\n",
       "      <td>6119</td>\n",
       "      <td>0</td>\n",
       "      <td>162</td>\n",
       "      <td>72400.0</td>\n",
       "      <td>True</td>\n",
       "      <td>NaN</td>\n",
       "      <td>NaN</td>\n",
       "    </tr>\n",
       "  </tbody>\n",
       "</table>\n",
       "</div>"
      ],
      "text/plain": [
       "   row_id  group_num    timestamp     user_id  content_id  content_type_id  \\\n",
       "0       0          0            0   275030867        5729                0   \n",
       "1       1          0  13309898705   554169193       12010                0   \n",
       "2       2          0   4213672059  1720860329         457                0   \n",
       "3       3          0  62798072960   288641214       13262                0   \n",
       "4       4          0  10585422061  1728340777        6119                0   \n",
       "\n",
       "   task_container_id  prior_question_elapsed_time  \\\n",
       "0                  0                          NaN   \n",
       "1               4427                      19000.0   \n",
       "2                240                      17000.0   \n",
       "3                266                      23000.0   \n",
       "4                162                      72400.0   \n",
       "\n",
       "  prior_question_had_explanation prior_group_answers_correct  \\\n",
       "0                            NaN                          []   \n",
       "1                           True                         NaN   \n",
       "2                           True                         NaN   \n",
       "3                           True                         NaN   \n",
       "4                           True                         NaN   \n",
       "\n",
       "  prior_group_responses  \n",
       "0                    []  \n",
       "1                   NaN  \n",
       "2                   NaN  \n",
       "3                   NaN  \n",
       "4                   NaN  "
      ]
     },
     "execution_count": 37,
     "metadata": {},
     "output_type": "execute_result"
    }
   ],
   "source": [
    "example_test.head()"
   ]
  },
  {
   "cell_type": "code",
   "execution_count": 38,
   "metadata": {
    "execution": {
     "iopub.execute_input": "2020-10-20T11:59:57.229311Z",
     "iopub.status.busy": "2020-10-20T11:59:57.228509Z",
     "iopub.status.idle": "2020-10-20T11:59:57.357731Z",
     "shell.execute_reply": "2020-10-20T11:59:57.356989Z"
    },
    "papermill": {
     "duration": 0.202735,
     "end_time": "2020-10-20T11:59:57.357877",
     "exception": false,
     "start_time": "2020-10-20T11:59:57.155142",
     "status": "completed"
    },
    "tags": []
   },
   "outputs": [
    {
     "data": {
      "text/html": [
       "<div>\n",
       "<style scoped>\n",
       "    .dataframe tbody tr th:only-of-type {\n",
       "        vertical-align: middle;\n",
       "    }\n",
       "\n",
       "    .dataframe tbody tr th {\n",
       "        vertical-align: top;\n",
       "    }\n",
       "\n",
       "    .dataframe thead th {\n",
       "        text-align: right;\n",
       "    }\n",
       "</style>\n",
       "<table border=\"1\" class=\"dataframe\">\n",
       "  <thead>\n",
       "    <tr style=\"text-align: right;\">\n",
       "      <th></th>\n",
       "      <th>row_id</th>\n",
       "      <th>timestamp</th>\n",
       "      <th>user_id</th>\n",
       "      <th>content_id</th>\n",
       "      <th>content_type_id</th>\n",
       "      <th>task_container_id</th>\n",
       "      <th>user_answer</th>\n",
       "      <th>answered_correctly</th>\n",
       "      <th>prior_question_elapsed_time</th>\n",
       "      <th>prior_question_had_explanation</th>\n",
       "    </tr>\n",
       "  </thead>\n",
       "  <tbody>\n",
       "    <tr>\n",
       "      <th>25924315</th>\n",
       "      <td>25924315</td>\n",
       "      <td>0</td>\n",
       "      <td>554169193</td>\n",
       "      <td>3927</td>\n",
       "      <td>0</td>\n",
       "      <td>0</td>\n",
       "      <td>1</td>\n",
       "      <td>1</td>\n",
       "      <td>4294967295</td>\n",
       "      <td>None</td>\n",
       "    </tr>\n",
       "    <tr>\n",
       "      <th>25924316</th>\n",
       "      <td>25924316</td>\n",
       "      <td>24904</td>\n",
       "      <td>554169193</td>\n",
       "      <td>939</td>\n",
       "      <td>0</td>\n",
       "      <td>1</td>\n",
       "      <td>0</td>\n",
       "      <td>1</td>\n",
       "      <td>23000</td>\n",
       "      <td>False</td>\n",
       "    </tr>\n",
       "    <tr>\n",
       "      <th>25924317</th>\n",
       "      <td>25924317</td>\n",
       "      <td>59273</td>\n",
       "      <td>554169193</td>\n",
       "      <td>6683</td>\n",
       "      <td>0</td>\n",
       "      <td>2</td>\n",
       "      <td>1</td>\n",
       "      <td>0</td>\n",
       "      <td>19000</td>\n",
       "      <td>False</td>\n",
       "    </tr>\n",
       "    <tr>\n",
       "      <th>25924318</th>\n",
       "      <td>25924318</td>\n",
       "      <td>95917</td>\n",
       "      <td>554169193</td>\n",
       "      <td>5658</td>\n",
       "      <td>0</td>\n",
       "      <td>3</td>\n",
       "      <td>3</td>\n",
       "      <td>1</td>\n",
       "      <td>30000</td>\n",
       "      <td>False</td>\n",
       "    </tr>\n",
       "    <tr>\n",
       "      <th>25924319</th>\n",
       "      <td>25924319</td>\n",
       "      <td>112132</td>\n",
       "      <td>554169193</td>\n",
       "      <td>6202</td>\n",
       "      <td>0</td>\n",
       "      <td>4</td>\n",
       "      <td>2</td>\n",
       "      <td>1</td>\n",
       "      <td>31000</td>\n",
       "      <td>False</td>\n",
       "    </tr>\n",
       "    <tr>\n",
       "      <th>...</th>\n",
       "      <td>...</td>\n",
       "      <td>...</td>\n",
       "      <td>...</td>\n",
       "      <td>...</td>\n",
       "      <td>...</td>\n",
       "      <td>...</td>\n",
       "      <td>...</td>\n",
       "      <td>...</td>\n",
       "      <td>...</td>\n",
       "      <td>...</td>\n",
       "    </tr>\n",
       "    <tr>\n",
       "      <th>25929669</th>\n",
       "      <td>25929669</td>\n",
       "      <td>13134944873</td>\n",
       "      <td>554169193</td>\n",
       "      <td>13469</td>\n",
       "      <td>0</td>\n",
       "      <td>4417</td>\n",
       "      <td>3</td>\n",
       "      <td>1</td>\n",
       "      <td>19000</td>\n",
       "      <td>True</td>\n",
       "    </tr>\n",
       "    <tr>\n",
       "      <th>25929670</th>\n",
       "      <td>25929670</td>\n",
       "      <td>13134970085</td>\n",
       "      <td>554169193</td>\n",
       "      <td>13307</td>\n",
       "      <td>0</td>\n",
       "      <td>4418</td>\n",
       "      <td>0</td>\n",
       "      <td>1</td>\n",
       "      <td>6000</td>\n",
       "      <td>True</td>\n",
       "    </tr>\n",
       "    <tr>\n",
       "      <th>25929671</th>\n",
       "      <td>25929671</td>\n",
       "      <td>13309652232</td>\n",
       "      <td>554169193</td>\n",
       "      <td>12256</td>\n",
       "      <td>0</td>\n",
       "      <td>4419</td>\n",
       "      <td>1</td>\n",
       "      <td>0</td>\n",
       "      <td>9000</td>\n",
       "      <td>True</td>\n",
       "    </tr>\n",
       "    <tr>\n",
       "      <th>25929672</th>\n",
       "      <td>25929672</td>\n",
       "      <td>13309683400</td>\n",
       "      <td>554169193</td>\n",
       "      <td>1074</td>\n",
       "      <td>0</td>\n",
       "      <td>4420</td>\n",
       "      <td>0</td>\n",
       "      <td>0</td>\n",
       "      <td>40000</td>\n",
       "      <td>True</td>\n",
       "    </tr>\n",
       "    <tr>\n",
       "      <th>25929673</th>\n",
       "      <td>25929673</td>\n",
       "      <td>13309714078</td>\n",
       "      <td>554169193</td>\n",
       "      <td>10684</td>\n",
       "      <td>0</td>\n",
       "      <td>4421</td>\n",
       "      <td>0</td>\n",
       "      <td>1</td>\n",
       "      <td>18000</td>\n",
       "      <td>True</td>\n",
       "    </tr>\n",
       "  </tbody>\n",
       "</table>\n",
       "<p>5359 rows × 10 columns</p>\n",
       "</div>"
      ],
      "text/plain": [
       "            row_id    timestamp    user_id  content_id  content_type_id  \\\n",
       "25924315  25924315            0  554169193        3927                0   \n",
       "25924316  25924316        24904  554169193         939                0   \n",
       "25924317  25924317        59273  554169193        6683                0   \n",
       "25924318  25924318        95917  554169193        5658                0   \n",
       "25924319  25924319       112132  554169193        6202                0   \n",
       "...            ...          ...        ...         ...              ...   \n",
       "25929669  25929669  13134944873  554169193       13469                0   \n",
       "25929670  25929670  13134970085  554169193       13307                0   \n",
       "25929671  25929671  13309652232  554169193       12256                0   \n",
       "25929672  25929672  13309683400  554169193        1074                0   \n",
       "25929673  25929673  13309714078  554169193       10684                0   \n",
       "\n",
       "          task_container_id  user_answer  answered_correctly  \\\n",
       "25924315                  0            1                   1   \n",
       "25924316                  1            0                   1   \n",
       "25924317                  2            1                   0   \n",
       "25924318                  3            3                   1   \n",
       "25924319                  4            2                   1   \n",
       "...                     ...          ...                 ...   \n",
       "25929669               4417            3                   1   \n",
       "25929670               4418            0                   1   \n",
       "25929671               4419            1                   0   \n",
       "25929672               4420            0                   0   \n",
       "25929673               4421            0                   1   \n",
       "\n",
       "          prior_question_elapsed_time prior_question_had_explanation  \n",
       "25924315                   4294967295                           None  \n",
       "25924316                        23000                          False  \n",
       "25924317                        19000                          False  \n",
       "25924318                        30000                          False  \n",
       "25924319                        31000                          False  \n",
       "...                               ...                            ...  \n",
       "25929669                        19000                           True  \n",
       "25929670                         6000                           True  \n",
       "25929671                         9000                           True  \n",
       "25929672                        40000                           True  \n",
       "25929673                        18000                           True  \n",
       "\n",
       "[5359 rows x 10 columns]"
      ]
     },
     "execution_count": 38,
     "metadata": {},
     "output_type": "execute_result"
    }
   ],
   "source": [
    "train[train.user_id ==554169193]"
   ]
  },
  {
   "cell_type": "code",
   "execution_count": 39,
   "metadata": {
    "execution": {
     "iopub.execute_input": "2020-10-20T11:59:57.502976Z",
     "iopub.status.busy": "2020-10-20T11:59:57.502194Z",
     "iopub.status.idle": "2020-10-20T12:00:34.405988Z",
     "shell.execute_reply": "2020-10-20T12:00:34.405347Z"
    },
    "papermill": {
     "duration": 36.979425,
     "end_time": "2020-10-20T12:00:34.406166",
     "exception": false,
     "start_time": "2020-10-20T11:59:57.426741",
     "status": "completed"
    },
    "tags": []
   },
   "outputs": [
    {
     "name": "stdout",
     "output_type": "stream",
     "text": [
      "!\n",
      "554169193\n",
      "1720860329\n",
      "288641214\n",
      "1728340777\n",
      "1364159702\n",
      "1521618396\n",
      "1317245193\n",
      "1700555100\n",
      "998511398\n",
      "1422853669\n",
      "1096784725\n",
      "385471210\n",
      "1202386221\n",
      "2018567473\n",
      "1233875513\n",
      "891955351\n",
      "1981166446\n",
      "1637273633\n",
      "2030979309\n",
      "319060572\n",
      "98059812\n",
      "674533997\n",
      "555691277\n",
      "775113212\n",
      "1219481379\n",
      "1148874033\n",
      "1281335472\n",
      "2002570769\n",
      "706626847\n",
      "1357500007\n",
      "1599808246\n",
      "1305988022\n",
      "1310228392\n",
      "2093197291\n",
      "1468996389\n",
      "1838324752\n",
      "2103436554\n",
      "311890082\n",
      "1817433235\n",
      "1900527744\n",
      "7792299\n"
     ]
    }
   ],
   "source": [
    "# all user_id in test data is included in training data as well if the corresponding timestamp is not 0.\n",
    "for i in example_test.user_id.unique():\n",
    "    if i in list(train.user_id.unique()):\n",
    "        print(i)\n",
    "    else:\n",
    "        print(\"!\")"
   ]
  },
  {
   "cell_type": "markdown",
   "metadata": {
    "papermill": {
     "duration": 0.086185,
     "end_time": "2020-10-20T12:00:34.579155",
     "exception": false,
     "start_time": "2020-10-20T12:00:34.492970",
     "status": "completed"
    },
    "tags": []
   },
   "source": [
    "# public test"
   ]
  },
  {
   "cell_type": "code",
   "execution_count": 40,
   "metadata": {
    "execution": {
     "iopub.execute_input": "2020-10-20T12:00:34.762048Z",
     "iopub.status.busy": "2020-10-20T12:00:34.760888Z",
     "iopub.status.idle": "2020-10-20T12:00:34.769286Z",
     "shell.execute_reply": "2020-10-20T12:00:34.768487Z"
    },
    "papermill": {
     "duration": 0.103276,
     "end_time": "2020-10-20T12:00:34.769419",
     "exception": false,
     "start_time": "2020-10-20T12:00:34.666143",
     "status": "completed"
    },
    "tags": []
   },
   "outputs": [],
   "source": [
    "public_test = pd.read_csv(\"../input/riid-test/test.csv\")"
   ]
  },
  {
   "cell_type": "code",
   "execution_count": 41,
   "metadata": {
    "execution": {
     "iopub.execute_input": "2020-10-20T12:00:34.976119Z",
     "iopub.status.busy": "2020-10-20T12:00:34.975242Z",
     "iopub.status.idle": "2020-10-20T12:00:34.980806Z",
     "shell.execute_reply": "2020-10-20T12:00:34.980098Z"
    },
    "papermill": {
     "duration": 0.124924,
     "end_time": "2020-10-20T12:00:34.980950",
     "exception": false,
     "start_time": "2020-10-20T12:00:34.856026",
     "status": "completed"
    },
    "tags": []
   },
   "outputs": [
    {
     "data": {
      "text/html": [
       "<div>\n",
       "<style scoped>\n",
       "    .dataframe tbody tr th:only-of-type {\n",
       "        vertical-align: middle;\n",
       "    }\n",
       "\n",
       "    .dataframe tbody tr th {\n",
       "        vertical-align: top;\n",
       "    }\n",
       "\n",
       "    .dataframe thead th {\n",
       "        text-align: right;\n",
       "    }\n",
       "</style>\n",
       "<table border=\"1\" class=\"dataframe\">\n",
       "  <thead>\n",
       "    <tr style=\"text-align: right;\">\n",
       "      <th></th>\n",
       "      <th>row_id</th>\n",
       "      <th>user_id</th>\n",
       "      <th>content_id</th>\n",
       "      <th>content_type_id</th>\n",
       "      <th>task_container_id</th>\n",
       "      <th>prior_question_elapsed_time</th>\n",
       "      <th>prior_question_had_explanation</th>\n",
       "      <th>prior_group_answers_correct</th>\n",
       "      <th>prior_group_responses</th>\n",
       "      <th>mean_user_accuracy</th>\n",
       "      <th>mean_accuracy_by_content</th>\n",
       "      <th>answered_correctly</th>\n",
       "    </tr>\n",
       "  </thead>\n",
       "  <tbody>\n",
       "    <tr>\n",
       "      <th>0</th>\n",
       "      <td>74</td>\n",
       "      <td>275030867</td>\n",
       "      <td>8308</td>\n",
       "      <td>0</td>\n",
       "      <td>3</td>\n",
       "      <td>15000.0</td>\n",
       "      <td>0</td>\n",
       "      <td>[1, 1, 1, 1, 0, 1, 1, 0, 0, 1, 0, 0, 1, 1, 0, ...</td>\n",
       "      <td>[0, 1, 0, 0, 1, 1, 0, 0, 1, 1, 1, 0, 3, 0, 0, ...</td>\n",
       "      <td>0.500000</td>\n",
       "      <td>0.626737</td>\n",
       "      <td>0.660656</td>\n",
       "    </tr>\n",
       "    <tr>\n",
       "      <th>1</th>\n",
       "      <td>75</td>\n",
       "      <td>1305988022</td>\n",
       "      <td>396</td>\n",
       "      <td>0</td>\n",
       "      <td>4163</td>\n",
       "      <td>19000.0</td>\n",
       "      <td>1</td>\n",
       "      <td>0.5</td>\n",
       "      <td>0.5</td>\n",
       "      <td>0.596905</td>\n",
       "      <td>0.733943</td>\n",
       "      <td>0.662372</td>\n",
       "    </tr>\n",
       "    <tr>\n",
       "      <th>2</th>\n",
       "      <td>76</td>\n",
       "      <td>1310228392</td>\n",
       "      <td>11869</td>\n",
       "      <td>0</td>\n",
       "      <td>1458</td>\n",
       "      <td>26333.0</td>\n",
       "      <td>1</td>\n",
       "      <td>0.5</td>\n",
       "      <td>0.5</td>\n",
       "      <td>0.795016</td>\n",
       "      <td>0.412793</td>\n",
       "      <td>0.660814</td>\n",
       "    </tr>\n",
       "    <tr>\n",
       "      <th>3</th>\n",
       "      <td>77</td>\n",
       "      <td>1310228392</td>\n",
       "      <td>11871</td>\n",
       "      <td>0</td>\n",
       "      <td>1458</td>\n",
       "      <td>26333.0</td>\n",
       "      <td>1</td>\n",
       "      <td>0.5</td>\n",
       "      <td>0.5</td>\n",
       "      <td>0.795016</td>\n",
       "      <td>0.861466</td>\n",
       "      <td>0.665208</td>\n",
       "    </tr>\n",
       "    <tr>\n",
       "      <th>4</th>\n",
       "      <td>78</td>\n",
       "      <td>1310228392</td>\n",
       "      <td>11870</td>\n",
       "      <td>0</td>\n",
       "      <td>1458</td>\n",
       "      <td>26333.0</td>\n",
       "      <td>1</td>\n",
       "      <td>0.5</td>\n",
       "      <td>0.5</td>\n",
       "      <td>0.795016</td>\n",
       "      <td>0.455850</td>\n",
       "      <td>0.661772</td>\n",
       "    </tr>\n",
       "    <tr>\n",
       "      <th>5</th>\n",
       "      <td>79</td>\n",
       "      <td>1310228392</td>\n",
       "      <td>11872</td>\n",
       "      <td>0</td>\n",
       "      <td>1458</td>\n",
       "      <td>26333.0</td>\n",
       "      <td>1</td>\n",
       "      <td>0.5</td>\n",
       "      <td>0.5</td>\n",
       "      <td>0.795016</td>\n",
       "      <td>0.330109</td>\n",
       "      <td>0.660814</td>\n",
       "    </tr>\n",
       "    <tr>\n",
       "      <th>6</th>\n",
       "      <td>80</td>\n",
       "      <td>1310228392</td>\n",
       "      <td>11868</td>\n",
       "      <td>0</td>\n",
       "      <td>1458</td>\n",
       "      <td>26333.0</td>\n",
       "      <td>1</td>\n",
       "      <td>0.5</td>\n",
       "      <td>0.5</td>\n",
       "      <td>0.795016</td>\n",
       "      <td>0.809360</td>\n",
       "      <td>0.665208</td>\n",
       "    </tr>\n",
       "    <tr>\n",
       "      <th>7</th>\n",
       "      <td>81</td>\n",
       "      <td>1637273633</td>\n",
       "      <td>5935</td>\n",
       "      <td>0</td>\n",
       "      <td>3149</td>\n",
       "      <td>19000.0</td>\n",
       "      <td>1</td>\n",
       "      <td>0.5</td>\n",
       "      <td>0.5</td>\n",
       "      <td>0.645136</td>\n",
       "      <td>0.647611</td>\n",
       "      <td>0.663928</td>\n",
       "    </tr>\n",
       "    <tr>\n",
       "      <th>8</th>\n",
       "      <td>82</td>\n",
       "      <td>674533997</td>\n",
       "      <td>6000</td>\n",
       "      <td>0</td>\n",
       "      <td>1046</td>\n",
       "      <td>10000.0</td>\n",
       "      <td>1</td>\n",
       "      <td>0.5</td>\n",
       "      <td>0.5</td>\n",
       "      <td>0.623612</td>\n",
       "      <td>0.435323</td>\n",
       "      <td>0.658971</td>\n",
       "    </tr>\n",
       "    <tr>\n",
       "      <th>9</th>\n",
       "      <td>84</td>\n",
       "      <td>2093197291</td>\n",
       "      <td>12611</td>\n",
       "      <td>0</td>\n",
       "      <td>5448</td>\n",
       "      <td>28750.0</td>\n",
       "      <td>1</td>\n",
       "      <td>0.5</td>\n",
       "      <td>0.5</td>\n",
       "      <td>0.791287</td>\n",
       "      <td>0.713415</td>\n",
       "      <td>0.663928</td>\n",
       "    </tr>\n",
       "    <tr>\n",
       "      <th>10</th>\n",
       "      <td>86</td>\n",
       "      <td>1202386221</td>\n",
       "      <td>438</td>\n",
       "      <td>0</td>\n",
       "      <td>139</td>\n",
       "      <td>17000.0</td>\n",
       "      <td>1</td>\n",
       "      <td>0.5</td>\n",
       "      <td>0.5</td>\n",
       "      <td>0.476923</td>\n",
       "      <td>0.713112</td>\n",
       "      <td>0.662372</td>\n",
       "    </tr>\n",
       "    <tr>\n",
       "      <th>11</th>\n",
       "      <td>87</td>\n",
       "      <td>1468996389</td>\n",
       "      <td>2470</td>\n",
       "      <td>0</td>\n",
       "      <td>230</td>\n",
       "      <td>26000.0</td>\n",
       "      <td>1</td>\n",
       "      <td>0.5</td>\n",
       "      <td>0.5</td>\n",
       "      <td>0.677966</td>\n",
       "      <td>0.681641</td>\n",
       "      <td>0.663928</td>\n",
       "    </tr>\n",
       "    <tr>\n",
       "      <th>12</th>\n",
       "      <td>88</td>\n",
       "      <td>1468996389</td>\n",
       "      <td>2471</td>\n",
       "      <td>0</td>\n",
       "      <td>230</td>\n",
       "      <td>26000.0</td>\n",
       "      <td>1</td>\n",
       "      <td>0.5</td>\n",
       "      <td>0.5</td>\n",
       "      <td>0.677966</td>\n",
       "      <td>0.957245</td>\n",
       "      <td>0.665208</td>\n",
       "    </tr>\n",
       "    <tr>\n",
       "      <th>13</th>\n",
       "      <td>89</td>\n",
       "      <td>1468996389</td>\n",
       "      <td>2472</td>\n",
       "      <td>0</td>\n",
       "      <td>230</td>\n",
       "      <td>26000.0</td>\n",
       "      <td>1</td>\n",
       "      <td>0.5</td>\n",
       "      <td>0.5</td>\n",
       "      <td>0.677966</td>\n",
       "      <td>0.901965</td>\n",
       "      <td>0.665208</td>\n",
       "    </tr>\n",
       "    <tr>\n",
       "      <th>14</th>\n",
       "      <td>90</td>\n",
       "      <td>555691277</td>\n",
       "      <td>573</td>\n",
       "      <td>0</td>\n",
       "      <td>54</td>\n",
       "      <td>18000.0</td>\n",
       "      <td>1</td>\n",
       "      <td>0.5</td>\n",
       "      <td>0.5</td>\n",
       "      <td>0.506494</td>\n",
       "      <td>0.708035</td>\n",
       "      <td>0.662372</td>\n",
       "    </tr>\n",
       "    <tr>\n",
       "      <th>15</th>\n",
       "      <td>91</td>\n",
       "      <td>1838324752</td>\n",
       "      <td>10435</td>\n",
       "      <td>0</td>\n",
       "      <td>299</td>\n",
       "      <td>26000.0</td>\n",
       "      <td>1</td>\n",
       "      <td>0.5</td>\n",
       "      <td>0.5</td>\n",
       "      <td>0.602532</td>\n",
       "      <td>0.870466</td>\n",
       "      <td>0.664355</td>\n",
       "    </tr>\n",
       "    <tr>\n",
       "      <th>16</th>\n",
       "      <td>92</td>\n",
       "      <td>2103436554</td>\n",
       "      <td>1722</td>\n",
       "      <td>0</td>\n",
       "      <td>1033</td>\n",
       "      <td>23333.0</td>\n",
       "      <td>1</td>\n",
       "      <td>0.5</td>\n",
       "      <td>0.5</td>\n",
       "      <td>0.582201</td>\n",
       "      <td>0.702692</td>\n",
       "      <td>0.662372</td>\n",
       "    </tr>\n",
       "    <tr>\n",
       "      <th>17</th>\n",
       "      <td>93</td>\n",
       "      <td>2103436554</td>\n",
       "      <td>1721</td>\n",
       "      <td>0</td>\n",
       "      <td>1033</td>\n",
       "      <td>23333.0</td>\n",
       "      <td>1</td>\n",
       "      <td>0.5</td>\n",
       "      <td>0.5</td>\n",
       "      <td>0.582201</td>\n",
       "      <td>0.838202</td>\n",
       "      <td>0.664355</td>\n",
       "    </tr>\n",
       "    <tr>\n",
       "      <th>18</th>\n",
       "      <td>94</td>\n",
       "      <td>2103436554</td>\n",
       "      <td>1723</td>\n",
       "      <td>0</td>\n",
       "      <td>1033</td>\n",
       "      <td>23333.0</td>\n",
       "      <td>1</td>\n",
       "      <td>0.5</td>\n",
       "      <td>0.5</td>\n",
       "      <td>0.582201</td>\n",
       "      <td>0.803497</td>\n",
       "      <td>0.664355</td>\n",
       "    </tr>\n",
       "    <tr>\n",
       "      <th>19</th>\n",
       "      <td>95</td>\n",
       "      <td>311890082</td>\n",
       "      <td>2029</td>\n",
       "      <td>0</td>\n",
       "      <td>212</td>\n",
       "      <td>26000.0</td>\n",
       "      <td>1</td>\n",
       "      <td>0.5</td>\n",
       "      <td>0.5</td>\n",
       "      <td>0.621019</td>\n",
       "      <td>0.781309</td>\n",
       "      <td>0.664172</td>\n",
       "    </tr>\n",
       "    <tr>\n",
       "      <th>20</th>\n",
       "      <td>96</td>\n",
       "      <td>311890082</td>\n",
       "      <td>2028</td>\n",
       "      <td>0</td>\n",
       "      <td>212</td>\n",
       "      <td>26000.0</td>\n",
       "      <td>1</td>\n",
       "      <td>0.5</td>\n",
       "      <td>0.5</td>\n",
       "      <td>0.621019</td>\n",
       "      <td>0.363436</td>\n",
       "      <td>0.658971</td>\n",
       "    </tr>\n",
       "    <tr>\n",
       "      <th>21</th>\n",
       "      <td>97</td>\n",
       "      <td>311890082</td>\n",
       "      <td>2027</td>\n",
       "      <td>0</td>\n",
       "      <td>212</td>\n",
       "      <td>26000.0</td>\n",
       "      <td>1</td>\n",
       "      <td>0.5</td>\n",
       "      <td>0.5</td>\n",
       "      <td>0.621019</td>\n",
       "      <td>0.542899</td>\n",
       "      <td>0.660880</td>\n",
       "    </tr>\n",
       "    <tr>\n",
       "      <th>22</th>\n",
       "      <td>98</td>\n",
       "      <td>1817433235</td>\n",
       "      <td>12135</td>\n",
       "      <td>0</td>\n",
       "      <td>392</td>\n",
       "      <td>7000.0</td>\n",
       "      <td>1</td>\n",
       "      <td>0.5</td>\n",
       "      <td>0.5</td>\n",
       "      <td>0.737245</td>\n",
       "      <td>0.818599</td>\n",
       "      <td>0.665208</td>\n",
       "    </tr>\n",
       "    <tr>\n",
       "      <th>23</th>\n",
       "      <td>99</td>\n",
       "      <td>998511398</td>\n",
       "      <td>10646</td>\n",
       "      <td>0</td>\n",
       "      <td>395</td>\n",
       "      <td>26000.0</td>\n",
       "      <td>1</td>\n",
       "      <td>0.5</td>\n",
       "      <td>0.5</td>\n",
       "      <td>0.476948</td>\n",
       "      <td>0.787074</td>\n",
       "      <td>0.662995</td>\n",
       "    </tr>\n",
       "    <tr>\n",
       "      <th>24</th>\n",
       "      <td>100</td>\n",
       "      <td>1422853669</td>\n",
       "      <td>1098</td>\n",
       "      <td>0</td>\n",
       "      <td>87</td>\n",
       "      <td>22000.0</td>\n",
       "      <td>1</td>\n",
       "      <td>0.5</td>\n",
       "      <td>0.5</td>\n",
       "      <td>0.725000</td>\n",
       "      <td>0.692264</td>\n",
       "      <td>0.663928</td>\n",
       "    </tr>\n",
       "    <tr>\n",
       "      <th>25</th>\n",
       "      <td>101</td>\n",
       "      <td>554169193</td>\n",
       "      <td>1043</td>\n",
       "      <td>0</td>\n",
       "      <td>4429</td>\n",
       "      <td>18000.0</td>\n",
       "      <td>1</td>\n",
       "      <td>0.5</td>\n",
       "      <td>0.5</td>\n",
       "      <td>0.658145</td>\n",
       "      <td>0.647893</td>\n",
       "      <td>0.663928</td>\n",
       "    </tr>\n",
       "    <tr>\n",
       "      <th>26</th>\n",
       "      <td>102</td>\n",
       "      <td>1317245193</td>\n",
       "      <td>12145</td>\n",
       "      <td>0</td>\n",
       "      <td>5317</td>\n",
       "      <td>17000.0</td>\n",
       "      <td>1</td>\n",
       "      <td>0.5</td>\n",
       "      <td>0.5</td>\n",
       "      <td>0.540950</td>\n",
       "      <td>0.804707</td>\n",
       "      <td>0.664083</td>\n",
       "    </tr>\n",
       "    <tr>\n",
       "      <th>27</th>\n",
       "      <td>103</td>\n",
       "      <td>1900527744</td>\n",
       "      <td>3005</td>\n",
       "      <td>0</td>\n",
       "      <td>1179</td>\n",
       "      <td>24667.0</td>\n",
       "      <td>1</td>\n",
       "      <td>0.5</td>\n",
       "      <td>0.5</td>\n",
       "      <td>0.592864</td>\n",
       "      <td>0.692480</td>\n",
       "      <td>0.662372</td>\n",
       "    </tr>\n",
       "    <tr>\n",
       "      <th>28</th>\n",
       "      <td>104</td>\n",
       "      <td>1900527744</td>\n",
       "      <td>3004</td>\n",
       "      <td>0</td>\n",
       "      <td>1179</td>\n",
       "      <td>24667.0</td>\n",
       "      <td>1</td>\n",
       "      <td>0.5</td>\n",
       "      <td>0.5</td>\n",
       "      <td>0.592864</td>\n",
       "      <td>0.415560</td>\n",
       "      <td>0.658971</td>\n",
       "    </tr>\n",
       "    <tr>\n",
       "      <th>29</th>\n",
       "      <td>105</td>\n",
       "      <td>1900527744</td>\n",
       "      <td>3003</td>\n",
       "      <td>0</td>\n",
       "      <td>1179</td>\n",
       "      <td>24667.0</td>\n",
       "      <td>1</td>\n",
       "      <td>0.5</td>\n",
       "      <td>0.5</td>\n",
       "      <td>0.592864</td>\n",
       "      <td>0.733529</td>\n",
       "      <td>0.662372</td>\n",
       "    </tr>\n",
       "    <tr>\n",
       "      <th>30</th>\n",
       "      <td>106</td>\n",
       "      <td>7792299</td>\n",
       "      <td>7908</td>\n",
       "      <td>0</td>\n",
       "      <td>676</td>\n",
       "      <td>19000.0</td>\n",
       "      <td>1</td>\n",
       "      <td>0.5</td>\n",
       "      <td>0.5</td>\n",
       "      <td>0.570781</td>\n",
       "      <td>0.612414</td>\n",
       "      <td>0.660880</td>\n",
       "    </tr>\n",
       "    <tr>\n",
       "      <th>31</th>\n",
       "      <td>107</td>\n",
       "      <td>288641214</td>\n",
       "      <td>9077</td>\n",
       "      <td>0</td>\n",
       "      <td>269</td>\n",
       "      <td>25000.0</td>\n",
       "      <td>1</td>\n",
       "      <td>0.5</td>\n",
       "      <td>0.5</td>\n",
       "      <td>0.660650</td>\n",
       "      <td>0.635659</td>\n",
       "      <td>0.663328</td>\n",
       "    </tr>\n",
       "    <tr>\n",
       "      <th>32</th>\n",
       "      <td>108</td>\n",
       "      <td>2018567473</td>\n",
       "      <td>12119</td>\n",
       "      <td>0</td>\n",
       "      <td>591</td>\n",
       "      <td>20000.0</td>\n",
       "      <td>1</td>\n",
       "      <td>0.5</td>\n",
       "      <td>0.5</td>\n",
       "      <td>0.728353</td>\n",
       "      <td>0.923789</td>\n",
       "      <td>0.665208</td>\n",
       "    </tr>\n",
       "  </tbody>\n",
       "</table>\n",
       "</div>"
      ],
      "text/plain": [
       "    row_id     user_id  content_id  content_type_id  task_container_id  \\\n",
       "0       74   275030867        8308                0                  3   \n",
       "1       75  1305988022         396                0               4163   \n",
       "2       76  1310228392       11869                0               1458   \n",
       "3       77  1310228392       11871                0               1458   \n",
       "4       78  1310228392       11870                0               1458   \n",
       "5       79  1310228392       11872                0               1458   \n",
       "6       80  1310228392       11868                0               1458   \n",
       "7       81  1637273633        5935                0               3149   \n",
       "8       82   674533997        6000                0               1046   \n",
       "9       84  2093197291       12611                0               5448   \n",
       "10      86  1202386221         438                0                139   \n",
       "11      87  1468996389        2470                0                230   \n",
       "12      88  1468996389        2471                0                230   \n",
       "13      89  1468996389        2472                0                230   \n",
       "14      90   555691277         573                0                 54   \n",
       "15      91  1838324752       10435                0                299   \n",
       "16      92  2103436554        1722                0               1033   \n",
       "17      93  2103436554        1721                0               1033   \n",
       "18      94  2103436554        1723                0               1033   \n",
       "19      95   311890082        2029                0                212   \n",
       "20      96   311890082        2028                0                212   \n",
       "21      97   311890082        2027                0                212   \n",
       "22      98  1817433235       12135                0                392   \n",
       "23      99   998511398       10646                0                395   \n",
       "24     100  1422853669        1098                0                 87   \n",
       "25     101   554169193        1043                0               4429   \n",
       "26     102  1317245193       12145                0               5317   \n",
       "27     103  1900527744        3005                0               1179   \n",
       "28     104  1900527744        3004                0               1179   \n",
       "29     105  1900527744        3003                0               1179   \n",
       "30     106     7792299        7908                0                676   \n",
       "31     107   288641214        9077                0                269   \n",
       "32     108  2018567473       12119                0                591   \n",
       "\n",
       "    prior_question_elapsed_time  prior_question_had_explanation  \\\n",
       "0                       15000.0                               0   \n",
       "1                       19000.0                               1   \n",
       "2                       26333.0                               1   \n",
       "3                       26333.0                               1   \n",
       "4                       26333.0                               1   \n",
       "5                       26333.0                               1   \n",
       "6                       26333.0                               1   \n",
       "7                       19000.0                               1   \n",
       "8                       10000.0                               1   \n",
       "9                       28750.0                               1   \n",
       "10                      17000.0                               1   \n",
       "11                      26000.0                               1   \n",
       "12                      26000.0                               1   \n",
       "13                      26000.0                               1   \n",
       "14                      18000.0                               1   \n",
       "15                      26000.0                               1   \n",
       "16                      23333.0                               1   \n",
       "17                      23333.0                               1   \n",
       "18                      23333.0                               1   \n",
       "19                      26000.0                               1   \n",
       "20                      26000.0                               1   \n",
       "21                      26000.0                               1   \n",
       "22                       7000.0                               1   \n",
       "23                      26000.0                               1   \n",
       "24                      22000.0                               1   \n",
       "25                      18000.0                               1   \n",
       "26                      17000.0                               1   \n",
       "27                      24667.0                               1   \n",
       "28                      24667.0                               1   \n",
       "29                      24667.0                               1   \n",
       "30                      19000.0                               1   \n",
       "31                      25000.0                               1   \n",
       "32                      20000.0                               1   \n",
       "\n",
       "                          prior_group_answers_correct  \\\n",
       "0   [1, 1, 1, 1, 0, 1, 1, 0, 0, 1, 0, 0, 1, 1, 0, ...   \n",
       "1                                                 0.5   \n",
       "2                                                 0.5   \n",
       "3                                                 0.5   \n",
       "4                                                 0.5   \n",
       "5                                                 0.5   \n",
       "6                                                 0.5   \n",
       "7                                                 0.5   \n",
       "8                                                 0.5   \n",
       "9                                                 0.5   \n",
       "10                                                0.5   \n",
       "11                                                0.5   \n",
       "12                                                0.5   \n",
       "13                                                0.5   \n",
       "14                                                0.5   \n",
       "15                                                0.5   \n",
       "16                                                0.5   \n",
       "17                                                0.5   \n",
       "18                                                0.5   \n",
       "19                                                0.5   \n",
       "20                                                0.5   \n",
       "21                                                0.5   \n",
       "22                                                0.5   \n",
       "23                                                0.5   \n",
       "24                                                0.5   \n",
       "25                                                0.5   \n",
       "26                                                0.5   \n",
       "27                                                0.5   \n",
       "28                                                0.5   \n",
       "29                                                0.5   \n",
       "30                                                0.5   \n",
       "31                                                0.5   \n",
       "32                                                0.5   \n",
       "\n",
       "                                prior_group_responses  mean_user_accuracy  \\\n",
       "0   [0, 1, 0, 0, 1, 1, 0, 0, 1, 1, 1, 0, 3, 0, 0, ...            0.500000   \n",
       "1                                                 0.5            0.596905   \n",
       "2                                                 0.5            0.795016   \n",
       "3                                                 0.5            0.795016   \n",
       "4                                                 0.5            0.795016   \n",
       "5                                                 0.5            0.795016   \n",
       "6                                                 0.5            0.795016   \n",
       "7                                                 0.5            0.645136   \n",
       "8                                                 0.5            0.623612   \n",
       "9                                                 0.5            0.791287   \n",
       "10                                                0.5            0.476923   \n",
       "11                                                0.5            0.677966   \n",
       "12                                                0.5            0.677966   \n",
       "13                                                0.5            0.677966   \n",
       "14                                                0.5            0.506494   \n",
       "15                                                0.5            0.602532   \n",
       "16                                                0.5            0.582201   \n",
       "17                                                0.5            0.582201   \n",
       "18                                                0.5            0.582201   \n",
       "19                                                0.5            0.621019   \n",
       "20                                                0.5            0.621019   \n",
       "21                                                0.5            0.621019   \n",
       "22                                                0.5            0.737245   \n",
       "23                                                0.5            0.476948   \n",
       "24                                                0.5            0.725000   \n",
       "25                                                0.5            0.658145   \n",
       "26                                                0.5            0.540950   \n",
       "27                                                0.5            0.592864   \n",
       "28                                                0.5            0.592864   \n",
       "29                                                0.5            0.592864   \n",
       "30                                                0.5            0.570781   \n",
       "31                                                0.5            0.660650   \n",
       "32                                                0.5            0.728353   \n",
       "\n",
       "    mean_accuracy_by_content  answered_correctly  \n",
       "0                   0.626737            0.660656  \n",
       "1                   0.733943            0.662372  \n",
       "2                   0.412793            0.660814  \n",
       "3                   0.861466            0.665208  \n",
       "4                   0.455850            0.661772  \n",
       "5                   0.330109            0.660814  \n",
       "6                   0.809360            0.665208  \n",
       "7                   0.647611            0.663928  \n",
       "8                   0.435323            0.658971  \n",
       "9                   0.713415            0.663928  \n",
       "10                  0.713112            0.662372  \n",
       "11                  0.681641            0.663928  \n",
       "12                  0.957245            0.665208  \n",
       "13                  0.901965            0.665208  \n",
       "14                  0.708035            0.662372  \n",
       "15                  0.870466            0.664355  \n",
       "16                  0.702692            0.662372  \n",
       "17                  0.838202            0.664355  \n",
       "18                  0.803497            0.664355  \n",
       "19                  0.781309            0.664172  \n",
       "20                  0.363436            0.658971  \n",
       "21                  0.542899            0.660880  \n",
       "22                  0.818599            0.665208  \n",
       "23                  0.787074            0.662995  \n",
       "24                  0.692264            0.663928  \n",
       "25                  0.647893            0.663928  \n",
       "26                  0.804707            0.664083  \n",
       "27                  0.692480            0.662372  \n",
       "28                  0.415560            0.658971  \n",
       "29                  0.733529            0.662372  \n",
       "30                  0.612414            0.660880  \n",
       "31                  0.635659            0.663328  \n",
       "32                  0.923789            0.665208  "
      ]
     },
     "execution_count": 41,
     "metadata": {},
     "output_type": "execute_result"
    }
   ],
   "source": [
    "public_test"
   ]
  },
  {
   "cell_type": "code",
   "execution_count": 42,
   "metadata": {
    "execution": {
     "iopub.execute_input": "2020-10-20T12:00:35.163368Z",
     "iopub.status.busy": "2020-10-20T12:00:35.162288Z",
     "iopub.status.idle": "2020-10-20T12:00:35.165860Z",
     "shell.execute_reply": "2020-10-20T12:00:35.165119Z"
    },
    "papermill": {
     "duration": 0.096197,
     "end_time": "2020-10-20T12:00:35.166002",
     "exception": false,
     "start_time": "2020-10-20T12:00:35.069805",
     "status": "completed"
    },
    "tags": []
   },
   "outputs": [],
   "source": [
    "#train[train.user_id==275030867] #probably, the row in the test data represents first question answer of the user"
   ]
  },
  {
   "cell_type": "code",
   "execution_count": 43,
   "metadata": {
    "execution": {
     "iopub.execute_input": "2020-10-20T12:00:35.349105Z",
     "iopub.status.busy": "2020-10-20T12:00:35.348197Z",
     "iopub.status.idle": "2020-10-20T12:00:35.351606Z",
     "shell.execute_reply": "2020-10-20T12:00:35.350835Z"
    },
    "papermill": {
     "duration": 0.096243,
     "end_time": "2020-10-20T12:00:35.351736",
     "exception": false,
     "start_time": "2020-10-20T12:00:35.255493",
     "status": "completed"
    },
    "tags": []
   },
   "outputs": [],
   "source": [
    "#train[train.user_id==1305988022]"
   ]
  },
  {
   "cell_type": "markdown",
   "metadata": {
    "papermill": {
     "duration": 0.087881,
     "end_time": "2020-10-20T12:00:35.528007",
     "exception": false,
     "start_time": "2020-10-20T12:00:35.440126",
     "status": "completed"
    },
    "tags": []
   },
   "source": [
    "# how to make features"
   ]
  },
  {
   "cell_type": "code",
   "execution_count": 44,
   "metadata": {
    "execution": {
     "iopub.execute_input": "2020-10-20T12:00:35.711323Z",
     "iopub.status.busy": "2020-10-20T12:00:35.710508Z",
     "iopub.status.idle": "2020-10-20T12:00:35.713913Z",
     "shell.execute_reply": "2020-10-20T12:00:35.713164Z"
    },
    "papermill": {
     "duration": 0.09724,
     "end_time": "2020-10-20T12:00:35.714055",
     "exception": false,
     "start_time": "2020-10-20T12:00:35.616815",
     "status": "completed"
    },
    "tags": []
   },
   "outputs": [],
   "source": [
    "# preprocess\n",
    "#train = pd.read_feather(\"../input/riid-train/train.feather\")\n",
    "#train = train.loc[train['answered_correctly'] != -1].reset_index(drop=True)\n",
    "#questions = pd.read_csv(\"../input/riiid-test-answer-prediction/questions.csv\")\n",
    "#train = train[train.user_id.isin([115, 124, 2746, 5382, 8623,  8701, 12741, 13134, 24418, 24600])].copy()\n",
    "#train['task_container_id'] = (train.groupby('user_id')['task_container_id'].transform(lambda x: pd.factorize(x)[0]).astype('int16'))\n",
    "#train = train.merge(questions[[\"question_id\", \"part\"]], how=\"left\", left_on=['content_id'], right_on=['question_id'])"
   ]
  },
  {
   "cell_type": "code",
   "execution_count": 45,
   "metadata": {
    "execution": {
     "iopub.execute_input": "2020-10-20T12:00:35.897162Z",
     "iopub.status.busy": "2020-10-20T12:00:35.896186Z",
     "iopub.status.idle": "2020-10-20T12:00:35.899519Z",
     "shell.execute_reply": "2020-10-20T12:00:35.898762Z"
    },
    "papermill": {
     "duration": 0.096517,
     "end_time": "2020-10-20T12:00:35.899651",
     "exception": false,
     "start_time": "2020-10-20T12:00:35.803134",
     "status": "completed"
    },
    "tags": []
   },
   "outputs": [],
   "source": [
    "#tmp = train.groupby(['user_id', 'part']).agg({'answered_correctly': ['count']}).unstack().values\n",
    "#tmp1 = train.groupby(['user_id', 'part']).agg({'answered_correctly': ['sum']}).unstack().values\n",
    "#np.nansum(tmp[:,4:], axis=1), np.nansum(tmp[:,:4], axis=1)"
   ]
  },
  {
   "cell_type": "code",
   "execution_count": 46,
   "metadata": {
    "execution": {
     "iopub.execute_input": "2020-10-20T12:00:36.085168Z",
     "iopub.status.busy": "2020-10-20T12:00:36.084112Z",
     "iopub.status.idle": "2020-10-20T12:00:36.086986Z",
     "shell.execute_reply": "2020-10-20T12:00:36.087520Z"
    },
    "papermill": {
     "duration": 0.098072,
     "end_time": "2020-10-20T12:00:36.087688",
     "exception": false,
     "start_time": "2020-10-20T12:00:35.989616",
     "status": "completed"
    },
    "tags": []
   },
   "outputs": [],
   "source": [
    "#tmp1 = pd.DataFrame(train.groupby(['user_id', 'part']).agg({'answered_correctly': ['count']}).unstack())\n",
    "#tmp1.columns = [1,2,3,4,5,6,7]\n",
    "#tmp1[\"read\"], tmp1[\"listen\"] = tmp1.iloc[:,4:].sum(axis=1), tmp1.iloc[:,:4].sum(axis=1)\n",
    "#tmp1.drop([1,2,3,4,5,6,7], axis=1,inplace=True)\n",
    "\n",
    "#tmp = pd.DataFrame(train.groupby(['user_id', 'part']).agg({'answered_correctly': ['sum']}).unstack())\n",
    "#tmp.columns = [1,2,3,4,5,6,7]\n",
    "#tmp[\"read\"], tmp[\"listen\"] = tmp.iloc[:,4:].sum(axis=1), tmp.iloc[:,:4].sum(axis=1)\n",
    "#tmp.drop([1,2,3,4,5,6,7], axis=1,inplace=True)\n",
    "#tmp[\"read\"] /= tmp1[\"read\"]\n",
    "#tmp[\"listen\"] /= tmp1[\"listen\"]\n",
    "\n",
    "#tmp"
   ]
  },
  {
   "cell_type": "code",
   "execution_count": 47,
   "metadata": {
    "execution": {
     "iopub.execute_input": "2020-10-20T12:00:36.271107Z",
     "iopub.status.busy": "2020-10-20T12:00:36.269987Z",
     "iopub.status.idle": "2020-10-20T12:00:36.273455Z",
     "shell.execute_reply": "2020-10-20T12:00:36.272820Z"
    },
    "papermill": {
     "duration": 0.096649,
     "end_time": "2020-10-20T12:00:36.273575",
     "exception": false,
     "start_time": "2020-10-20T12:00:36.176926",
     "status": "completed"
    },
    "tags": []
   },
   "outputs": [],
   "source": [
    "#part1_g = pd.DataFrame(train.groupby([\"user_id\"])['part'].apply(lambda x: x==1))\n",
    "#part2_g = pd.DataFrame(train.groupby([\"user_id\"])['part'].apply(lambda x: x==2))\n",
    "#part3_g = pd.DataFrame(train.groupby([\"user_id\"])['part'].apply(lambda x: x==3))\n",
    "#part4_g = pd.DataFrame(train.groupby([\"user_id\"])['part'].apply(lambda x: x==4))\n",
    "#np.logical_or(part2_g.values ,part1_g.values, part3_g.values).cumsum()"
   ]
  },
  {
   "cell_type": "code",
   "execution_count": 48,
   "metadata": {
    "execution": {
     "iopub.execute_input": "2020-10-20T12:00:36.456419Z",
     "iopub.status.busy": "2020-10-20T12:00:36.455305Z",
     "iopub.status.idle": "2020-10-20T12:00:36.458695Z",
     "shell.execute_reply": "2020-10-20T12:00:36.457981Z"
    },
    "papermill": {
     "duration": 0.096606,
     "end_time": "2020-10-20T12:00:36.458813",
     "exception": false,
     "start_time": "2020-10-20T12:00:36.362207",
     "status": "completed"
    },
    "tags": []
   },
   "outputs": [],
   "source": [
    "#tmp = train.groupby(['user_id', 'part']).agg({'answered_correctly': ['mean']}).copy().unstack()\n",
    "#tmp.columns = [\"part1_acc\", \"part2_acc\", \"part3_acc\", \"part4_acc\", \"part5_acc\", \"part6_acc\", \"part7_acc\"]\n",
    "#train.merge(tmp, how=\"left\", on=['user_id'])"
   ]
  },
  {
   "cell_type": "code",
   "execution_count": 49,
   "metadata": {
    "execution": {
     "iopub.execute_input": "2020-10-20T12:00:36.643489Z",
     "iopub.status.busy": "2020-10-20T12:00:36.642715Z",
     "iopub.status.idle": "2020-10-20T12:00:36.646070Z",
     "shell.execute_reply": "2020-10-20T12:00:36.646599Z"
    },
    "papermill": {
     "duration": 0.097735,
     "end_time": "2020-10-20T12:00:36.646766",
     "exception": false,
     "start_time": "2020-10-20T12:00:36.549031",
     "status": "completed"
    },
    "tags": []
   },
   "outputs": [],
   "source": [
    "# to calculate acc before ans\n",
    "# https://stackoverflow.com/questions/37997668/pandas-number-rows-within-group-in-increasing-order\n",
    "\n",
    "# cumsum correct answer by user_id\n",
    "#tmp1 = train.groupby(['user_id'])['answered_correctly'].apply(lambda x: pd.concat([pd.DataFrame([0]), x.cumsum()[:-1]])).reset_index(drop=True).values\n",
    "# cumsum total try by user_id\n",
    "#tmp2 = train.groupby(['user_id']).cumcount().values # total try\n",
    "#tmp = [(tmp1[i]/tmp2[i])[0] if tmp2[i] != 0 else -1 for i in range(len(tmp1))]\n",
    "#len(tmp)"
   ]
  },
  {
   "cell_type": "code",
   "execution_count": 50,
   "metadata": {
    "execution": {
     "iopub.execute_input": "2020-10-20T12:00:36.833155Z",
     "iopub.status.busy": "2020-10-20T12:00:36.832294Z",
     "iopub.status.idle": "2020-10-20T12:00:36.835209Z",
     "shell.execute_reply": "2020-10-20T12:00:36.835755Z"
    },
    "papermill": {
     "duration": 0.099134,
     "end_time": "2020-10-20T12:00:36.835933",
     "exception": false,
     "start_time": "2020-10-20T12:00:36.736799",
     "status": "completed"
    },
    "tags": []
   },
   "outputs": [],
   "source": [
    "# cumsum of part1 trial\n",
    "#part1_cumsum = train.groupby([\"user_id\"])['part'].apply(lambda x: pd.DataFrame([0] + (x==1).cumsum().tolist()[:-1])).reset_index(drop=True)[0].values\n",
    "#part2_cumsum = train.groupby([\"user_id\"])['part'].apply(lambda x: pd.DataFrame([0] + (x==2).cumsum().tolist()[:-1])).reset_index(drop=True)[0].values\n",
    "#part3_cumsum = train.groupby([\"user_id\"])['part'].apply(lambda x: pd.DataFrame([0] + (x==3).cumsum().tolist()[:-1])).reset_index(drop=True)[0].values\n",
    "#part4_cumsum = train.groupby([\"user_id\"])['part'].apply(lambda x: pd.DataFrame([0] + (x==4).cumsum().tolist()[:-1])).reset_index(drop=True)[0].values\n",
    "#part5_cumsum = train.groupby([\"user_id\"])['part'].apply(lambda x: pd.DataFrame([0] + (x==5).cumsum().tolist()[:-1])).reset_index(drop=True)[0].values\n",
    "#part6_cumsum = train.groupby([\"user_id\"])['part'].apply(lambda x: pd.DataFrame([0] + (x==6).cumsum().tolist()[:-1])).reset_index(drop=True)[0].values\n",
    "#part7_cumsum = train.groupby([\"user_id\"])['part'].apply(lambda x: pd.DataFrame([0] + (x==7).cumsum().tolist()[:-1])).reset_index(drop=True)[0].values\n",
    "\n",
    "#part1_g = pd.DataFrame(train.groupby([\"user_id\"])['part'].apply(lambda x: x==1))\n",
    "#part2_g = pd.DataFrame(train.groupby([\"user_id\"])['part'].apply(lambda x: x==2))\n",
    "#part3_g = pd.DataFrame(train.groupby([\"user_id\"])['part'].apply(lambda x: x==3))\n",
    "#part4_g = pd.DataFrame(train.groupby([\"user_id\"])['part'].apply(lambda x: x==4))\n",
    "#part5_g = pd.DataFrame(train.groupby([\"user_id\"])['part'].apply(lambda x: x==5))\n",
    "#part6_g = pd.DataFrame(train.groupby([\"user_id\"])['part'].apply(lambda x: x==6))\n",
    "#part7_g = pd.DataFrame(train.groupby([\"user_id\"])['part'].apply(lambda x: x==7))\n",
    "#acc_g = pd.DataFrame(train.groupby([\"user_id\"])['answered_correctly'].apply(lambda x: x==1))\n",
    "\n",
    "# cumsum of correct num per part \n",
    "#part1_acc_cumsum = np.logical_and(acc_g.values ,part1_g.values)#.cumsum().tolist()[:-1]\n",
    "#part2_acc_cumsum = np.logical_and(acc_g.values ,part2_g.values)#.cumsum().tolist()[:-1]\n",
    "#part3_acc_cumsum = np.logical_and(acc_g.values ,part3_g.values)#.cumsum().tolist()[:-1]\n",
    "#part4_acc_cumsum = np.logical_and(acc_g.values ,part4_g.values)#.cumsum().tolist()[:-1]\n",
    "#part5_acc_cumsum = np.logical_and(acc_g.values ,part5_g.values)#.cumsum().tolist()[:-1]\n",
    "#part6_acc_cumsum = np.logical_and(acc_g.values ,part6_g.values)#.cumsum().tolist()[:-1]\n",
    "#part7_acc_cumsum = np.logical_and(acc_g.values ,part7_g.values)#.cumsum().tolist()[:-1]\n",
    "#train[\"part1_and_ok\"] = part1_acc_cumsum\n",
    "#train[\"part2_and_ok\"] = part2_acc_cumsum\n",
    "#train[\"part3_and_ok\"] = part3_acc_cumsum\n",
    "#train[\"part4_and_ok\"] = part4_acc_cumsum\n",
    "#train[\"part5_and_ok\"] = part5_acc_cumsum\n",
    "#train[\"part6_and_ok\"] = part6_acc_cumsum\n",
    "#train[\"part7_and_ok\"] = part7_acc_cumsum\n",
    "#part1_acc_cumsum = train.groupby([\"user_id\"])['part1_and_ok'].apply(lambda x: pd.DataFrame([0] + (x==1).cumsum().tolist()[:-1])).reset_index(drop=True)[0].values\n",
    "#part2_acc_cumsum = train.groupby([\"user_id\"])['part2_and_ok'].apply(lambda x: pd.DataFrame([0] + (x==1).cumsum().tolist()[:-1])).reset_index(drop=True)[0].values\n",
    "#part3_acc_cumsum = train.groupby([\"user_id\"])['part3_and_ok'].apply(lambda x: pd.DataFrame([0] + (x==1).cumsum().tolist()[:-1])).reset_index(drop=True)[0].values\n",
    "#part4_acc_cumsum = train.groupby([\"user_id\"])['part4_and_ok'].apply(lambda x: pd.DataFrame([0] + (x==1).cumsum().tolist()[:-1])).reset_index(drop=True)[0].values\n",
    "#part5_acc_cumsum = train.groupby([\"user_id\"])['part5_and_ok'].apply(lambda x: pd.DataFrame([0] + (x==1).cumsum().tolist()[:-1])).reset_index(drop=True)[0].values\n",
    "#part6_acc_cumsum = train.groupby([\"user_id\"])['part6_and_ok'].apply(lambda x: pd.DataFrame([0] + (x==1).cumsum().tolist()[:-1])).reset_index(drop=True)[0].values\n",
    "#part7_acc_cumsum = train.groupby([\"user_id\"])['part7_and_ok'].apply(lambda x: pd.DataFrame([0] + (x==1).cumsum().tolist()[:-1])).reset_index(drop=True)[0].values\n",
    "\n",
    "#part1_acc_rate = [part1_acc_cumsum[i]/ part1_cumsum[i] if part1_cumsum[i] != 0 else -1 for i in range(len(part1_cumsum))]\n",
    "#part2_acc_rate = [part2_acc_cumsum[i]/ part2_cumsum[i] if part2_cumsum[i] != 0 else -1 for i in range(len(part2_cumsum))]\n",
    "#part3_acc_rate = [part3_acc_cumsum[i]/ part3_cumsum[i] if part3_cumsum[i] != 0 else -1 for i in range(len(part3_cumsum))]\n",
    "#part4_acc_rate = [part4_acc_cumsum[i]/ part4_cumsum[i] if part4_cumsum[i] != 0 else -1 for i in range(len(part4_cumsum))]\n",
    "#part5_acc_rate = [part5_acc_cumsum[i]/ part5_cumsum[i] if part5_cumsum[i] != 0 else -1 for i in range(len(part5_cumsum))]\n",
    "#part6_acc_rate = [part6_acc_cumsum[i]/ part6_cumsum[i] if part6_cumsum[i] != 0 else -1 for i in range(len(part6_cumsum))]\n",
    "#part7_acc_rate = [part7_acc_cumsum[i]/ part7_cumsum[i] if part7_cumsum[i] != 0 else -1 for i in range(len(part7_cumsum))]"
   ]
  },
  {
   "cell_type": "code",
   "execution_count": 51,
   "metadata": {
    "execution": {
     "iopub.execute_input": "2020-10-20T12:00:37.023312Z",
     "iopub.status.busy": "2020-10-20T12:00:37.022508Z",
     "iopub.status.idle": "2020-10-20T12:00:37.025891Z",
     "shell.execute_reply": "2020-10-20T12:00:37.025273Z"
    },
    "papermill": {
     "duration": 0.099517,
     "end_time": "2020-10-20T12:00:37.026019",
     "exception": false,
     "start_time": "2020-10-20T12:00:36.926502",
     "status": "completed"
    },
    "tags": []
   },
   "outputs": [],
   "source": [
    "# https://stackoverflow.com/questions/15705630/get-the-rows-which-have-the-max-count-in-groups-using-groupby\n",
    "#max_idx = train.groupby(['user_id'])['task_container_id'].transform(max) == train['task_container_id']\n",
    "#min_idx = train.groupby(['user_id'])['task_container_id'].transform(min) == train['task_container_id']\n",
    "#train[max_idx|min_idx]"
   ]
  },
  {
   "cell_type": "code",
   "execution_count": 52,
   "metadata": {
    "execution": {
     "iopub.execute_input": "2020-10-20T12:00:37.212356Z",
     "iopub.status.busy": "2020-10-20T12:00:37.211611Z",
     "iopub.status.idle": "2020-10-20T12:00:37.215209Z",
     "shell.execute_reply": "2020-10-20T12:00:37.214446Z"
    },
    "papermill": {
     "duration": 0.098784,
     "end_time": "2020-10-20T12:00:37.215343",
     "exception": false,
     "start_time": "2020-10-20T12:00:37.116559",
     "status": "completed"
    },
    "tags": []
   },
   "outputs": [],
   "source": [
    "#user_answers_df = train.groupby('user_id').agg({'answered_correctly': ['mean']}).copy()\n",
    "#user_answers_df.columns = ['correct_rate_before_ans']"
   ]
  },
  {
   "cell_type": "code",
   "execution_count": 53,
   "metadata": {
    "execution": {
     "iopub.execute_input": "2020-10-20T12:00:37.400901Z",
     "iopub.status.busy": "2020-10-20T12:00:37.400110Z",
     "iopub.status.idle": "2020-10-20T12:00:37.403430Z",
     "shell.execute_reply": "2020-10-20T12:00:37.402768Z"
    },
    "papermill": {
     "duration": 0.097742,
     "end_time": "2020-10-20T12:00:37.403572",
     "exception": false,
     "start_time": "2020-10-20T12:00:37.305830",
     "status": "completed"
    },
    "tags": []
   },
   "outputs": [],
   "source": [
    "#tmp = train.groupby('part').agg({'answered_correctly': ['mean']}).copy()\n",
    "#tmp.columns = ['correct_rate']"
   ]
  },
  {
   "cell_type": "code",
   "execution_count": 54,
   "metadata": {
    "execution": {
     "iopub.execute_input": "2020-10-20T12:00:37.590482Z",
     "iopub.status.busy": "2020-10-20T12:00:37.589388Z",
     "iopub.status.idle": "2020-10-20T12:00:37.592082Z",
     "shell.execute_reply": "2020-10-20T12:00:37.592632Z"
    },
    "papermill": {
     "duration": 0.098623,
     "end_time": "2020-10-20T12:00:37.592792",
     "exception": false,
     "start_time": "2020-10-20T12:00:37.494169",
     "status": "completed"
    },
    "tags": []
   },
   "outputs": [],
   "source": [
    "# target encoding + moving average not to cause target leakage\n",
    "#AGGS = [\n",
    "#    ('answered_correctly', 2, ['user_id'], ['mean']),\n",
    "#    ('answered_correctly', 3, ['user_id'], ['mean']),\n",
    "#    ('answered_correctly', 1, [\"user_id\", \"part\"], [\"mean\"])\n",
    "#]\n",
    "\n",
    "#for on, lag, by, hows in AGGS:\n",
    "\n",
    "#    agg = train.groupby(by)[on].apply(lambda x: (\n",
    "#        x\n",
    "#        .shift(1)\n",
    "#        .rolling(window=lag, min_periods=1)\n",
    "#        .agg(hows)\n",
    "#    ))\n",
    "#    agg = agg.rename(columns={\n",
    "#        how: f'{how}_of_last_{lag}_{on}_by_' + '_and_'.join(by)\n",
    "#        for how in hows\n",
    "#    })\n",
    "\n",
    "#    train = train.join(agg)"
   ]
  },
  {
   "cell_type": "code",
   "execution_count": 55,
   "metadata": {
    "execution": {
     "iopub.execute_input": "2020-10-20T12:00:37.779774Z",
     "iopub.status.busy": "2020-10-20T12:00:37.778724Z",
     "iopub.status.idle": "2020-10-20T12:00:37.781506Z",
     "shell.execute_reply": "2020-10-20T12:00:37.782075Z"
    },
    "papermill": {
     "duration": 0.098829,
     "end_time": "2020-10-20T12:00:37.782237",
     "exception": false,
     "start_time": "2020-10-20T12:00:37.683408",
     "status": "completed"
    },
    "tags": []
   },
   "outputs": [],
   "source": [
    "#train.groupby(\"user_id\").tail(2)#.groupby(\"user_id\").agg(\"mean\")[\"answered_correctly\"]"
   ]
  },
  {
   "cell_type": "code",
   "execution_count": null,
   "metadata": {
    "papermill": {
     "duration": 0.089783,
     "end_time": "2020-10-20T12:00:37.962183",
     "exception": false,
     "start_time": "2020-10-20T12:00:37.872400",
     "status": "completed"
    },
    "tags": []
   },
   "outputs": [],
   "source": []
  }
 ],
 "metadata": {
  "kernelspec": {
   "display_name": "Python 3",
   "language": "python",
   "name": "python3"
  },
  "language_info": {
   "codemirror_mode": {
    "name": "ipython",
    "version": 3
   },
   "file_extension": ".py",
   "mimetype": "text/x-python",
   "name": "python",
   "nbconvert_exporter": "python",
   "pygments_lexer": "ipython3",
   "version": "3.7.6"
  },
  "papermill": {
   "duration": 202.550014,
   "end_time": "2020-10-20T12:00:38.362937",
   "environment_variables": {},
   "exception": null,
   "input_path": "__notebook__.ipynb",
   "output_path": "__notebook__.ipynb",
   "parameters": {},
   "start_time": "2020-10-20T11:57:15.812923",
   "version": "2.1.0"
  }
 },
 "nbformat": 4,
 "nbformat_minor": 4
}
