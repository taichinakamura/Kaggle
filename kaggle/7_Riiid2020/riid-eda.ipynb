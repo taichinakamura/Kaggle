{
 "cells": [
  {
   "cell_type": "code",
   "execution_count": 1,
   "metadata": {
    "_cell_guid": "b1076dfc-b9ad-4769-8c92-a6c4dae69d19",
    "_uuid": "8f2839f25d086af736a60e9eeb907d3b93b6e0e5",
    "execution": {
     "iopub.execute_input": "2020-12-06T10:54:40.110749Z",
     "iopub.status.busy": "2020-12-06T10:54:40.109842Z",
     "iopub.status.idle": "2020-12-06T10:54:41.906848Z",
     "shell.execute_reply": "2020-12-06T10:54:41.906029Z"
    },
    "papermill": {
     "duration": 1.882971,
     "end_time": "2020-12-06T10:54:41.906980",
     "exception": false,
     "start_time": "2020-12-06T10:54:40.024009",
     "status": "completed"
    },
    "tags": []
   },
   "outputs": [
    {
     "name": "stderr",
     "output_type": "stream",
     "text": [
      "/opt/conda/lib/python3.7/site-packages/ipykernel_launcher.py:8: TqdmDeprecationWarning: This function will be removed in tqdm==5.0.0\n",
      "Please use `tqdm.notebook.*` instead of `tqdm._tqdm_notebook.*`\n",
      "  \n",
      "/opt/conda/lib/python3.7/site-packages/tqdm/std.py:666: FutureWarning: The Panel class is removed from pandas. Accessing it from the top-level namespace will also be removed in the next version\n",
      "  from pandas import Panel\n"
     ]
    }
   ],
   "source": [
    "import sys\n",
    "import pandas as pd\n",
    "import numpy as np\n",
    "import matplotlib.pyplot as plt\n",
    "import seaborn as sns\n",
    "import feather\n",
    "from tqdm import tqdm_notebook as tqdm\n",
    "from tqdm._tqdm_notebook import tqdm_notebook\n",
    "from collections import defaultdict\n",
    "from bitarray import bitarray\n",
    "import networkx as nx\n",
    "from scipy import signal\n",
    "\n",
    "import riiideducation\n",
    "tqdm_notebook.pandas(desc=\"progress: \")\n",
    "\n",
    "pd.set_option(\"max_rows\", 1000)"
   ]
  },
  {
   "cell_type": "code",
   "execution_count": 2,
   "metadata": {
    "_cell_guid": "79c7e3d0-c299-4dcb-8224-4455121ee9b0",
    "_uuid": "d629ff2d2480ee46fbb7e2d37f6b5fab8052498a",
    "execution": {
     "iopub.execute_input": "2020-12-06T10:54:42.067445Z",
     "iopub.status.busy": "2020-12-06T10:54:42.066593Z",
     "iopub.status.idle": "2020-12-06T10:54:55.164414Z",
     "shell.execute_reply": "2020-12-06T10:54:55.163723Z"
    },
    "papermill": {
     "duration": 13.179823,
     "end_time": "2020-12-06T10:54:55.164578",
     "exception": false,
     "start_time": "2020-12-06T10:54:41.984755",
     "status": "completed"
    },
    "tags": []
   },
   "outputs": [],
   "source": [
    "DIR =\"../input/riiid-test-answer-prediction/\"\n",
    "lectures = pd.read_csv(DIR+\"lectures.csv\")\n",
    "questions = pd.read_csv(DIR+\"questions.csv\")\n",
    "example_test = pd.read_csv(DIR+\"example_test.csv\")\n",
    "train = pd.read_feather(\"../input/riid-train/train.feather\")"
   ]
  },
  {
   "cell_type": "markdown",
   "metadata": {
    "papermill": {
     "duration": 0.074581,
     "end_time": "2020-12-06T10:54:55.313998",
     "exception": false,
     "start_time": "2020-12-06T10:54:55.239417",
     "status": "completed"
    },
    "tags": []
   },
   "source": [
    "# train\n",
    "- row_id: (int64) ID code for the row.\n",
    "- timestamp: (int64) the time between this user interaction and the first event completion from that user.\n",
    "- user_id: (int32) ID code for the user.\n",
    "- content_id: (int16) ID code for the user interaction\n",
    "- content_type_id: (int8) 0 if the event was a question being posed to the user, 1 if the event was the user watching a lecture.\n",
    "- task_container_id: (int16) Id code for the batch of questions or lectures. For example, a user might see three questions in a row before  seeing the explanations for any of them. Those three would all share a task_container_id.\n",
    "- user_answer: (int8) the user's answer to the question, if any. Read -1 as null, for lectures.\n",
    "- answered_correctly: (int8) if the user responded correctly. Read -1 as null, for lectures.\n",
    "- prior_question_elapsed_time: (float32) The average time it took a user to answer each question in the previous question bundle, ignoring any lectures in between. Is null for a user's first question bundle or lecture. Note that the time is the average time a user took to solve each question in the previous bundle.\n",
    "- prior_question_had_explanation: (bool) Whether or not the user saw an explanation and the correct response(s) after answering the previous question bundle, ignoring any lectures in between. The value is shared across a single question bundle, and is null for a user's first question bundle or lecture. Typically the first several questions a user sees were part of an onboarding diagnostic test where they did not get any feedback.\n",
    "\n",
    "- content_type_id = 0なら、questions.csvと結合できる, content_type_id = 1なら、lectures.csvと結合できる"
   ]
  },
  {
   "cell_type": "code",
   "execution_count": 3,
   "metadata": {
    "execution": {
     "iopub.execute_input": "2020-12-06T10:54:55.471947Z",
     "iopub.status.busy": "2020-12-06T10:54:55.470758Z",
     "iopub.status.idle": "2020-12-06T10:54:57.777558Z",
     "shell.execute_reply": "2020-12-06T10:54:57.776783Z"
    },
    "papermill": {
     "duration": 2.389623,
     "end_time": "2020-12-06T10:54:57.777697",
     "exception": false,
     "start_time": "2020-12-06T10:54:55.388074",
     "status": "completed"
    },
    "tags": []
   },
   "outputs": [],
   "source": [
    "train.drop([\"row_id\", \"user_answer\", \"content_type_id\", \"task_container_id\", \"prior_question_elapsed_time\", \"prior_question_had_explanation\"], axis=1, inplace=True) #"
   ]
  },
  {
   "cell_type": "code",
   "execution_count": 4,
   "metadata": {
    "execution": {
     "iopub.execute_input": "2020-12-06T10:54:57.941367Z",
     "iopub.status.busy": "2020-12-06T10:54:57.940538Z",
     "iopub.status.idle": "2020-12-06T10:54:57.950751Z",
     "shell.execute_reply": "2020-12-06T10:54:57.951578Z"
    },
    "papermill": {
     "duration": 0.097399,
     "end_time": "2020-12-06T10:54:57.951748",
     "exception": false,
     "start_time": "2020-12-06T10:54:57.854349",
     "status": "completed"
    },
    "tags": []
   },
   "outputs": [
    {
     "data": {
      "text/html": [
       "<div>\n",
       "<style scoped>\n",
       "    .dataframe tbody tr th:only-of-type {\n",
       "        vertical-align: middle;\n",
       "    }\n",
       "\n",
       "    .dataframe tbody tr th {\n",
       "        vertical-align: top;\n",
       "    }\n",
       "\n",
       "    .dataframe thead th {\n",
       "        text-align: right;\n",
       "    }\n",
       "</style>\n",
       "<table border=\"1\" class=\"dataframe\">\n",
       "  <thead>\n",
       "    <tr style=\"text-align: right;\">\n",
       "      <th></th>\n",
       "      <th>timestamp</th>\n",
       "      <th>user_id</th>\n",
       "      <th>content_id</th>\n",
       "      <th>answered_correctly</th>\n",
       "    </tr>\n",
       "  </thead>\n",
       "  <tbody>\n",
       "    <tr>\n",
       "      <th>0</th>\n",
       "      <td>0</td>\n",
       "      <td>115</td>\n",
       "      <td>5692</td>\n",
       "      <td>1</td>\n",
       "    </tr>\n",
       "    <tr>\n",
       "      <th>1</th>\n",
       "      <td>56943</td>\n",
       "      <td>115</td>\n",
       "      <td>5716</td>\n",
       "      <td>1</td>\n",
       "    </tr>\n",
       "    <tr>\n",
       "      <th>2</th>\n",
       "      <td>118363</td>\n",
       "      <td>115</td>\n",
       "      <td>128</td>\n",
       "      <td>1</td>\n",
       "    </tr>\n",
       "    <tr>\n",
       "      <th>3</th>\n",
       "      <td>131167</td>\n",
       "      <td>115</td>\n",
       "      <td>7860</td>\n",
       "      <td>1</td>\n",
       "    </tr>\n",
       "    <tr>\n",
       "      <th>4</th>\n",
       "      <td>137965</td>\n",
       "      <td>115</td>\n",
       "      <td>7922</td>\n",
       "      <td>1</td>\n",
       "    </tr>\n",
       "  </tbody>\n",
       "</table>\n",
       "</div>"
      ],
      "text/plain": [
       "   timestamp  user_id  content_id  answered_correctly\n",
       "0          0      115        5692                   1\n",
       "1      56943      115        5716                   1\n",
       "2     118363      115         128                   1\n",
       "3     131167      115        7860                   1\n",
       "4     137965      115        7922                   1"
      ]
     },
     "execution_count": 4,
     "metadata": {},
     "output_type": "execute_result"
    }
   ],
   "source": [
    "train.head()"
   ]
  },
  {
   "cell_type": "code",
   "execution_count": 5,
   "metadata": {
    "execution": {
     "iopub.execute_input": "2020-12-06T10:54:58.120188Z",
     "iopub.status.busy": "2020-12-06T10:54:58.119403Z",
     "iopub.status.idle": "2020-12-06T10:54:58.122647Z",
     "shell.execute_reply": "2020-12-06T10:54:58.123261Z"
    },
    "papermill": {
     "duration": 0.092772,
     "end_time": "2020-12-06T10:54:58.123423",
     "exception": false,
     "start_time": "2020-12-06T10:54:58.030651",
     "status": "completed"
    },
    "tags": []
   },
   "outputs": [
    {
     "name": "stdout",
     "output_type": "stream",
     "text": [
      "<class 'pandas.core.frame.DataFrame'>\n",
      "RangeIndex: 101230332 entries, 0 to 101230331\n",
      "Data columns (total 4 columns):\n",
      " #   Column              Dtype \n",
      "---  ------              ----- \n",
      " 0   timestamp           uint64\n",
      " 1   user_id             uint32\n",
      " 2   content_id          uint16\n",
      " 3   answered_correctly  int8  \n",
      "dtypes: int8(1), uint16(1), uint32(1), uint64(1)\n",
      "memory usage: 1.4 GB\n"
     ]
    }
   ],
   "source": [
    "train.info()"
   ]
  },
  {
   "cell_type": "code",
   "execution_count": 6,
   "metadata": {
    "execution": {
     "iopub.execute_input": "2020-12-06T10:54:58.284878Z",
     "iopub.status.busy": "2020-12-06T10:54:58.284012Z",
     "iopub.status.idle": "2020-12-06T10:54:59.403054Z",
     "shell.execute_reply": "2020-12-06T10:54:59.402295Z"
    },
    "papermill": {
     "duration": 1.202139,
     "end_time": "2020-12-06T10:54:59.403198",
     "exception": false,
     "start_time": "2020-12-06T10:54:58.201059",
     "status": "completed"
    },
    "tags": []
   },
   "outputs": [
    {
     "data": {
      "text/plain": [
       "13782"
      ]
     },
     "execution_count": 6,
     "metadata": {},
     "output_type": "execute_result"
    }
   ],
   "source": [
    "len(train.content_id.unique())"
   ]
  },
  {
   "cell_type": "code",
   "execution_count": 7,
   "metadata": {
    "execution": {
     "iopub.execute_input": "2020-12-06T10:54:59.578933Z",
     "iopub.status.busy": "2020-12-06T10:54:59.577871Z",
     "iopub.status.idle": "2020-12-06T10:54:59.583588Z",
     "shell.execute_reply": "2020-12-06T10:54:59.582855Z"
    },
    "papermill": {
     "duration": 0.099294,
     "end_time": "2020-12-06T10:54:59.583717",
     "exception": false,
     "start_time": "2020-12-06T10:54:59.484423",
     "status": "completed"
    },
    "tags": []
   },
   "outputs": [
    {
     "data": {
      "text/html": [
       "<div>\n",
       "<style scoped>\n",
       "    .dataframe tbody tr th:only-of-type {\n",
       "        vertical-align: middle;\n",
       "    }\n",
       "\n",
       "    .dataframe tbody tr th {\n",
       "        vertical-align: top;\n",
       "    }\n",
       "\n",
       "    .dataframe thead th {\n",
       "        text-align: right;\n",
       "    }\n",
       "</style>\n",
       "<table border=\"1\" class=\"dataframe\">\n",
       "  <thead>\n",
       "    <tr style=\"text-align: right;\">\n",
       "      <th></th>\n",
       "      <th>timestamp</th>\n",
       "      <th>user_id</th>\n",
       "      <th>content_id</th>\n",
       "      <th>answered_correctly</th>\n",
       "    </tr>\n",
       "  </thead>\n",
       "  <tbody>\n",
       "    <tr>\n",
       "      <th>0</th>\n",
       "      <td>0</td>\n",
       "      <td>115</td>\n",
       "      <td>5692</td>\n",
       "      <td>1</td>\n",
       "    </tr>\n",
       "    <tr>\n",
       "      <th>1</th>\n",
       "      <td>56943</td>\n",
       "      <td>115</td>\n",
       "      <td>5716</td>\n",
       "      <td>1</td>\n",
       "    </tr>\n",
       "    <tr>\n",
       "      <th>2</th>\n",
       "      <td>118363</td>\n",
       "      <td>115</td>\n",
       "      <td>128</td>\n",
       "      <td>1</td>\n",
       "    </tr>\n",
       "    <tr>\n",
       "      <th>3</th>\n",
       "      <td>131167</td>\n",
       "      <td>115</td>\n",
       "      <td>7860</td>\n",
       "      <td>1</td>\n",
       "    </tr>\n",
       "    <tr>\n",
       "      <th>4</th>\n",
       "      <td>137965</td>\n",
       "      <td>115</td>\n",
       "      <td>7922</td>\n",
       "      <td>1</td>\n",
       "    </tr>\n",
       "    <tr>\n",
       "      <th>5</th>\n",
       "      <td>157063</td>\n",
       "      <td>115</td>\n",
       "      <td>156</td>\n",
       "      <td>1</td>\n",
       "    </tr>\n",
       "    <tr>\n",
       "      <th>6</th>\n",
       "      <td>176092</td>\n",
       "      <td>115</td>\n",
       "      <td>51</td>\n",
       "      <td>1</td>\n",
       "    </tr>\n",
       "    <tr>\n",
       "      <th>7</th>\n",
       "      <td>194190</td>\n",
       "      <td>115</td>\n",
       "      <td>50</td>\n",
       "      <td>1</td>\n",
       "    </tr>\n",
       "    <tr>\n",
       "      <th>8</th>\n",
       "      <td>212463</td>\n",
       "      <td>115</td>\n",
       "      <td>7896</td>\n",
       "      <td>1</td>\n",
       "    </tr>\n",
       "    <tr>\n",
       "      <th>9</th>\n",
       "      <td>230983</td>\n",
       "      <td>115</td>\n",
       "      <td>7863</td>\n",
       "      <td>1</td>\n",
       "    </tr>\n",
       "  </tbody>\n",
       "</table>\n",
       "</div>"
      ],
      "text/plain": [
       "   timestamp  user_id  content_id  answered_correctly\n",
       "0          0      115        5692                   1\n",
       "1      56943      115        5716                   1\n",
       "2     118363      115         128                   1\n",
       "3     131167      115        7860                   1\n",
       "4     137965      115        7922                   1\n",
       "5     157063      115         156                   1\n",
       "6     176092      115          51                   1\n",
       "7     194190      115          50                   1\n",
       "8     212463      115        7896                   1\n",
       "9     230983      115        7863                   1"
      ]
     },
     "execution_count": 7,
     "metadata": {},
     "output_type": "execute_result"
    }
   ],
   "source": [
    "train.head(10)"
   ]
  },
  {
   "cell_type": "code",
   "execution_count": 8,
   "metadata": {
    "execution": {
     "iopub.execute_input": "2020-12-06T10:54:59.747546Z",
     "iopub.status.busy": "2020-12-06T10:54:59.746750Z",
     "iopub.status.idle": "2020-12-06T10:55:00.645551Z",
     "shell.execute_reply": "2020-12-06T10:55:00.644747Z"
    },
    "papermill": {
     "duration": 0.984047,
     "end_time": "2020-12-06T10:55:00.645676",
     "exception": false,
     "start_time": "2020-12-06T10:54:59.661629",
     "status": "completed"
    },
    "tags": []
   },
   "outputs": [],
   "source": [
    "lec_index = list(train[train[\"answered_correctly\"]==-1].index)"
   ]
  },
  {
   "cell_type": "code",
   "execution_count": 9,
   "metadata": {
    "execution": {
     "iopub.execute_input": "2020-12-06T10:55:00.860835Z",
     "iopub.status.busy": "2020-12-06T10:55:00.855570Z",
     "iopub.status.idle": "2020-12-06T10:55:10.778335Z",
     "shell.execute_reply": "2020-12-06T10:55:10.778925Z"
    },
    "papermill": {
     "duration": 10.055672,
     "end_time": "2020-12-06T10:55:10.779090",
     "exception": false,
     "start_time": "2020-12-06T10:55:00.723418",
     "status": "completed"
    },
    "tags": []
   },
   "outputs": [
    {
     "data": {
      "text/plain": [
       "0.4478886725540279"
      ]
     },
     "execution_count": 9,
     "metadata": {},
     "output_type": "execute_result"
    }
   ],
   "source": [
    "# accuracy before lecture\n",
    "lec_before_index = [i-1 for i in lec_index] \n",
    "train[(train.index.isin(lec_before_index)) & (train[\"answered_correctly\"]!=-1)][\"answered_correctly\"].mean()"
   ]
  },
  {
   "cell_type": "code",
   "execution_count": 10,
   "metadata": {
    "execution": {
     "iopub.execute_input": "2020-12-06T10:55:10.946134Z",
     "iopub.status.busy": "2020-12-06T10:55:10.944989Z",
     "iopub.status.idle": "2020-12-06T10:55:14.559958Z",
     "shell.execute_reply": "2020-12-06T10:55:14.559165Z"
    },
    "papermill": {
     "duration": 3.702397,
     "end_time": "2020-12-06T10:55:14.560080",
     "exception": false,
     "start_time": "2020-12-06T10:55:10.857683",
     "status": "completed"
    },
    "tags": []
   },
   "outputs": [
    {
     "data": {
      "text/plain": [
       "0.6572355454194717"
      ]
     },
     "execution_count": 10,
     "metadata": {},
     "output_type": "execute_result"
    }
   ],
   "source": [
    "# overall accuracy mean\n",
    "train[train[\"answered_correctly\"] != -1][\"answered_correctly\"].mean()"
   ]
  },
  {
   "cell_type": "code",
   "execution_count": 11,
   "metadata": {
    "execution": {
     "iopub.execute_input": "2020-12-06T10:55:14.737330Z",
     "iopub.status.busy": "2020-12-06T10:55:14.732205Z",
     "iopub.status.idle": "2020-12-06T10:55:23.399580Z",
     "shell.execute_reply": "2020-12-06T10:55:23.398778Z"
    },
    "papermill": {
     "duration": 8.760314,
     "end_time": "2020-12-06T10:55:23.399731",
     "exception": false,
     "start_time": "2020-12-06T10:55:14.639417",
     "status": "completed"
    },
    "tags": []
   },
   "outputs": [
    {
     "data": {
      "text/plain": [
       "0.7273451867124833"
      ]
     },
     "execution_count": 11,
     "metadata": {},
     "output_type": "execute_result"
    }
   ],
   "source": [
    "# accuracy after lecture\n",
    "lec_after_index = [i+1 for i in lec_index] \n",
    "train[(train.index.isin(lec_after_index)) & (train[\"answered_correctly\"]!=-1)][\"answered_correctly\"].mean()"
   ]
  },
  {
   "cell_type": "code",
   "execution_count": 12,
   "metadata": {
    "execution": {
     "iopub.execute_input": "2020-12-06T10:55:23.564237Z",
     "iopub.status.busy": "2020-12-06T10:55:23.563100Z",
     "iopub.status.idle": "2020-12-06T10:55:23.567618Z",
     "shell.execute_reply": "2020-12-06T10:55:23.567013Z"
    },
    "papermill": {
     "duration": 0.088717,
     "end_time": "2020-12-06T10:55:23.567744",
     "exception": false,
     "start_time": "2020-12-06T10:55:23.479027",
     "status": "completed"
    },
    "tags": []
   },
   "outputs": [
    {
     "data": {
      "text/plain": [
       "(1959032, 1959032)"
      ]
     },
     "execution_count": 12,
     "metadata": {},
     "output_type": "execute_result"
    }
   ],
   "source": [
    "len(lec_after_index), len(lec_before_index)"
   ]
  },
  {
   "cell_type": "code",
   "execution_count": 13,
   "metadata": {
    "execution": {
     "iopub.execute_input": "2020-12-06T10:55:23.732549Z",
     "iopub.status.busy": "2020-12-06T10:55:23.731574Z",
     "iopub.status.idle": "2020-12-06T10:55:23.735118Z",
     "shell.execute_reply": "2020-12-06T10:55:23.734358Z"
    },
    "papermill": {
     "duration": 0.087845,
     "end_time": "2020-12-06T10:55:23.735267",
     "exception": false,
     "start_time": "2020-12-06T10:55:23.647422",
     "status": "completed"
    },
    "tags": []
   },
   "outputs": [],
   "source": [
    "#tmp = train.iloc[:100,:].copy()\n",
    "#first_day = np.datetime64('2015-01-01')\n",
    "#time_values = tmp[\"timestamp\"].values\n",
    "#values = [first_day + np.timedelta64(time_values[0], 'D') for i in time_values]\n",
    "#tmp[\"times\"] = values\n",
    "#tmp.groupby(['user_id'])[[\"times\", \"answered_correctly\"]].apply(lambda x:x.ewm(halflife='1 days', times=pd.DatetimeIndex(x.times)).mean())"
   ]
  },
  {
   "cell_type": "code",
   "execution_count": 14,
   "metadata": {
    "execution": {
     "iopub.execute_input": "2020-12-06T10:55:23.903360Z",
     "iopub.status.busy": "2020-12-06T10:55:23.902590Z",
     "iopub.status.idle": "2020-12-06T10:55:34.217505Z",
     "shell.execute_reply": "2020-12-06T10:55:34.216710Z"
    },
    "papermill": {
     "duration": 10.400901,
     "end_time": "2020-12-06T10:55:34.217631",
     "exception": false,
     "start_time": "2020-12-06T10:55:23.816730",
     "status": "completed"
    },
    "tags": []
   },
   "outputs": [],
   "source": [
    "mod_train = train[train[\"answered_correctly\"] != -1].reset_index(drop=True).copy()\n",
    "mod_train[\"timestamp\"] = (train['timestamp'] // 86400000) + 1 "
   ]
  },
  {
   "cell_type": "code",
   "execution_count": 15,
   "metadata": {
    "execution": {
     "iopub.execute_input": "2020-12-06T10:55:34.384383Z",
     "iopub.status.busy": "2020-12-06T10:55:34.383604Z",
     "iopub.status.idle": "2020-12-06T10:55:37.272306Z",
     "shell.execute_reply": "2020-12-06T10:55:37.271536Z"
    },
    "papermill": {
     "duration": 2.97446,
     "end_time": "2020-12-06T10:55:37.272433",
     "exception": false,
     "start_time": "2020-12-06T10:55:34.297973",
     "status": "completed"
    },
    "tags": []
   },
   "outputs": [
    {
     "data": {
      "text/plain": [
       "[<matplotlib.lines.Line2D at 0x7f60e8747190>]"
      ]
     },
     "execution_count": 15,
     "metadata": {},
     "output_type": "execute_result"
    },
    {
     "data": {
      "image/png": "[encoded data removed]",
      "text/plain": [
       "<Figure size 720x360 with 1 Axes>"
      ]
     },
     "metadata": {
      "needs_background": "light"
     },
     "output_type": "display_data"
    }
   ],
   "source": [
    "plt.figure(figsize=(10,5))\n",
    "plt.plot(mod_train.groupby(\"timestamp\")[\"answered_correctly\"].agg([\"mean\"]))"
   ]
  },
  {
   "cell_type": "code",
   "execution_count": 16,
   "metadata": {
    "execution": {
     "iopub.execute_input": "2020-12-06T10:55:37.444704Z",
     "iopub.status.busy": "2020-12-06T10:55:37.443905Z",
     "iopub.status.idle": "2020-12-06T10:55:39.763827Z",
     "shell.execute_reply": "2020-12-06T10:55:39.763051Z"
    },
    "papermill": {
     "duration": 2.408731,
     "end_time": "2020-12-06T10:55:39.763948",
     "exception": false,
     "start_time": "2020-12-06T10:55:37.355217",
     "status": "completed"
    },
    "tags": []
   },
   "outputs": [
    {
     "data": {
      "text/plain": [
       "<matplotlib.axes._subplots.AxesSubplot at 0x7f604a372c90>"
      ]
     },
     "execution_count": 16,
     "metadata": {},
     "output_type": "execute_result"
    },
    {
     "data": {
      "text/plain": [
       "<Figure size 1440x360 with 0 Axes>"
      ]
     },
     "metadata": {},
     "output_type": "display_data"
    },
    {
     "data": {
      "image/png": "[encoded data removed]",
      "text/plain": [
       "<Figure size 432x288 with 1 Axes>"
      ]
     },
     "metadata": {
      "needs_background": "light"
     },
     "output_type": "display_data"
    }
   ],
   "source": [
    "plt.figure(figsize=(20,5))\n",
    "mod_train.groupby(\"timestamp\")[\"answered_correctly\"].agg([\"count\"]).plot()"
   ]
  },
  {
   "cell_type": "code",
   "execution_count": 17,
   "metadata": {
    "execution": {
     "iopub.execute_input": "2020-12-06T10:55:39.938879Z",
     "iopub.status.busy": "2020-12-06T10:55:39.938089Z",
     "iopub.status.idle": "2020-12-06T10:55:39.941363Z",
     "shell.execute_reply": "2020-12-06T10:55:39.940594Z"
    },
    "papermill": {
     "duration": 0.091742,
     "end_time": "2020-12-06T10:55:39.941486",
     "exception": false,
     "start_time": "2020-12-06T10:55:39.849744",
     "status": "completed"
    },
    "tags": []
   },
   "outputs": [],
   "source": [
    "#user_learning_time = train.drop_duplicates([\"user_id\",\"timestamp\"])[[\"timestamp\", \"user_id\"]].copy().reset_index(drop=True)\n",
    "#user_learning_time[\"blank\"] = user_learning_time.groupby(\"user_id\")[\"timestamp\"].diff()\n",
    "#user_learning_time[\"blank\"] -= 1\n",
    "#user_learning_time[\"blank\"] = user_learning_time[\"blank\"].fillna(0)\n",
    "#train = train.merge(user_learning_time, on=[\"user_id\", \"timestamp\"])\n",
    "#train.groupby(\"blank\")[\"answered_correctly\"].agg([\"std\"]).plot()\n",
    "#train.groupby(\"blank\")[\"answered_correctly\"].agg([\"mean\"]).plot()\n",
    "#train[\"mod_blank\"] = train[\"blank\"].apply(lambda x: 1 if x <=5 else 0)\n",
    "#train.groupby(\"mod_blank\")[\"answered_correctly\"].agg([\"mean\"]).plot()"
   ]
  },
  {
   "cell_type": "code",
   "execution_count": 18,
   "metadata": {
    "execution": {
     "iopub.execute_input": "2020-12-06T10:55:40.116944Z",
     "iopub.status.busy": "2020-12-06T10:55:40.115865Z",
     "iopub.status.idle": "2020-12-06T10:55:40.119649Z",
     "shell.execute_reply": "2020-12-06T10:55:40.118931Z"
    },
    "papermill": {
     "duration": 0.092759,
     "end_time": "2020-12-06T10:55:40.119769",
     "exception": false,
     "start_time": "2020-12-06T10:55:40.027010",
     "status": "completed"
    },
    "tags": []
   },
   "outputs": [],
   "source": [
    "# from atma\n",
    "#tmp = user_learning_time[user_learning_time.user_id==115].copy()\n",
    "#tmp[\"cont_logdays\"] = tmp.timestamp.diff().ne(1).cumsum()\n",
    "#tmp[\"cont_logdays\"] = tmp.groupby(['cont_logdays']).cumcount()+1\n",
    "\n",
    "#user_learning_time = train.drop_duplicates([\"user_id\",\"timestamp\"])[[\"timestamp\", \"user_id\"]].copy().reset_index(drop=True)\n",
    "#user_learning_time[\"new_blank\"] = user_learning_time.groupby(\"user_id\")[\"timestamp\"].diff().ne(1).cumsum()\n",
    "#user_learning_time[\"new_blank\"] = user_learning_time.groupby([\"user_id\", 'new_blank']).cumcount()+1\n",
    "#user_learning_time.head()"
   ]
  },
  {
   "cell_type": "code",
   "execution_count": 19,
   "metadata": {
    "execution": {
     "iopub.execute_input": "2020-12-06T10:55:40.296824Z",
     "iopub.status.busy": "2020-12-06T10:55:40.295261Z",
     "iopub.status.idle": "2020-12-06T10:55:51.665763Z",
     "shell.execute_reply": "2020-12-06T10:55:51.664959Z"
    },
    "papermill": {
     "duration": 11.461579,
     "end_time": "2020-12-06T10:55:51.665894",
     "exception": false,
     "start_time": "2020-12-06T10:55:40.204315",
     "status": "completed"
    },
    "tags": []
   },
   "outputs": [
    {
     "data": {
      "text/html": [
       "<div>\n",
       "<style scoped>\n",
       "    .dataframe tbody tr th:only-of-type {\n",
       "        vertical-align: middle;\n",
       "    }\n",
       "\n",
       "    .dataframe tbody tr th {\n",
       "        vertical-align: top;\n",
       "    }\n",
       "\n",
       "    .dataframe thead th {\n",
       "        text-align: right;\n",
       "    }\n",
       "</style>\n",
       "<table border=\"1\" class=\"dataframe\">\n",
       "  <thead>\n",
       "    <tr style=\"text-align: right;\">\n",
       "      <th></th>\n",
       "      <th>timestamp</th>\n",
       "      <th>user_id</th>\n",
       "      <th>content_id</th>\n",
       "      <th>answered_correctly</th>\n",
       "    </tr>\n",
       "  </thead>\n",
       "  <tbody>\n",
       "    <tr>\n",
       "      <th>count</th>\n",
       "      <td>1.012303e+08</td>\n",
       "      <td>1.012303e+08</td>\n",
       "      <td>1.012303e+08</td>\n",
       "      <td>1.012303e+08</td>\n",
       "    </tr>\n",
       "    <tr>\n",
       "      <th>mean</th>\n",
       "      <td>7.703644e+09</td>\n",
       "      <td>1.076732e+09</td>\n",
       "      <td>5.219605e+03</td>\n",
       "      <td>6.251644e-01</td>\n",
       "    </tr>\n",
       "    <tr>\n",
       "      <th>std</th>\n",
       "      <td>1.159266e+10</td>\n",
       "      <td>6.197163e+08</td>\n",
       "      <td>3.866359e+03</td>\n",
       "      <td>5.225307e-01</td>\n",
       "    </tr>\n",
       "    <tr>\n",
       "      <th>min</th>\n",
       "      <td>0.000000e+00</td>\n",
       "      <td>1.150000e+02</td>\n",
       "      <td>0.000000e+00</td>\n",
       "      <td>-1.000000e+00</td>\n",
       "    </tr>\n",
       "    <tr>\n",
       "      <th>25%</th>\n",
       "      <td>5.243436e+08</td>\n",
       "      <td>5.408116e+08</td>\n",
       "      <td>2.063000e+03</td>\n",
       "      <td>0.000000e+00</td>\n",
       "    </tr>\n",
       "    <tr>\n",
       "      <th>50%</th>\n",
       "      <td>2.674234e+09</td>\n",
       "      <td>1.071781e+09</td>\n",
       "      <td>5.026000e+03</td>\n",
       "      <td>1.000000e+00</td>\n",
       "    </tr>\n",
       "    <tr>\n",
       "      <th>75%</th>\n",
       "      <td>9.924551e+09</td>\n",
       "      <td>1.615742e+09</td>\n",
       "      <td>7.425000e+03</td>\n",
       "      <td>1.000000e+00</td>\n",
       "    </tr>\n",
       "    <tr>\n",
       "      <th>max</th>\n",
       "      <td>8.742577e+10</td>\n",
       "      <td>2.147483e+09</td>\n",
       "      <td>3.273600e+04</td>\n",
       "      <td>1.000000e+00</td>\n",
       "    </tr>\n",
       "  </tbody>\n",
       "</table>\n",
       "</div>"
      ],
      "text/plain": [
       "          timestamp       user_id    content_id  answered_correctly\n",
       "count  1.012303e+08  1.012303e+08  1.012303e+08        1.012303e+08\n",
       "mean   7.703644e+09  1.076732e+09  5.219605e+03        6.251644e-01\n",
       "std    1.159266e+10  6.197163e+08  3.866359e+03        5.225307e-01\n",
       "min    0.000000e+00  1.150000e+02  0.000000e+00       -1.000000e+00\n",
       "25%    5.243436e+08  5.408116e+08  2.063000e+03        0.000000e+00\n",
       "50%    2.674234e+09  1.071781e+09  5.026000e+03        1.000000e+00\n",
       "75%    9.924551e+09  1.615742e+09  7.425000e+03        1.000000e+00\n",
       "max    8.742577e+10  2.147483e+09  3.273600e+04        1.000000e+00"
      ]
     },
     "execution_count": 19,
     "metadata": {},
     "output_type": "execute_result"
    }
   ],
   "source": [
    "train.describe()"
   ]
  },
  {
   "cell_type": "code",
   "execution_count": 20,
   "metadata": {
    "execution": {
     "iopub.execute_input": "2020-12-06T10:55:51.843756Z",
     "iopub.status.busy": "2020-12-06T10:55:51.842924Z",
     "iopub.status.idle": "2020-12-06T10:55:52.579007Z",
     "shell.execute_reply": "2020-12-06T10:55:52.578065Z"
    },
    "papermill": {
     "duration": 0.827332,
     "end_time": "2020-12-06T10:55:52.579194",
     "exception": false,
     "start_time": "2020-12-06T10:55:51.751862",
     "status": "completed"
    },
    "tags": []
   },
   "outputs": [
    {
     "data": {
      "text/plain": [
       "393656"
      ]
     },
     "execution_count": 20,
     "metadata": {},
     "output_type": "execute_result"
    }
   ],
   "source": [
    "len(train.user_id.unique())"
   ]
  },
  {
   "cell_type": "code",
   "execution_count": 21,
   "metadata": {
    "execution": {
     "iopub.execute_input": "2020-12-06T10:55:52.758625Z",
     "iopub.status.busy": "2020-12-06T10:55:52.757551Z",
     "iopub.status.idle": "2020-12-06T10:55:52.760818Z",
     "shell.execute_reply": "2020-12-06T10:55:52.760210Z"
    },
    "papermill": {
     "duration": 0.093057,
     "end_time": "2020-12-06T10:55:52.760940",
     "exception": false,
     "start_time": "2020-12-06T10:55:52.667883",
     "status": "completed"
    },
    "tags": []
   },
   "outputs": [],
   "source": [
    "#tmp = train[train.user_id==115].copy()\n",
    "#tmp[\"task_container_id\"] = tmp[\"task_container_id\"].transform(lambda x: pd.factorize(x)[0]).astype('int16')\n",
    "#tmp"
   ]
  },
  {
   "cell_type": "code",
   "execution_count": 22,
   "metadata": {
    "execution": {
     "iopub.execute_input": "2020-12-06T10:55:52.938783Z",
     "iopub.status.busy": "2020-12-06T10:55:52.937955Z",
     "iopub.status.idle": "2020-12-06T10:55:56.533135Z",
     "shell.execute_reply": "2020-12-06T10:55:56.532394Z"
    },
    "papermill": {
     "duration": 3.685933,
     "end_time": "2020-12-06T10:55:56.533274",
     "exception": false,
     "start_time": "2020-12-06T10:55:52.847341",
     "status": "completed"
    },
    "tags": []
   },
   "outputs": [
    {
     "data": {
      "text/plain": [
       "6116    213605\n",
       "6173    202106\n",
       "4120    199372\n",
       "175     195861\n",
       "7876    190170\n",
       "Name: content_id, dtype: int64"
      ]
     },
     "execution_count": 22,
     "metadata": {},
     "output_type": "execute_result"
    }
   ],
   "source": [
    "train.content_id.value_counts().head()"
   ]
  },
  {
   "cell_type": "code",
   "execution_count": 23,
   "metadata": {
    "execution": {
     "iopub.execute_input": "2020-12-06T10:55:56.710510Z",
     "iopub.status.busy": "2020-12-06T10:55:56.709709Z",
     "iopub.status.idle": "2020-12-06T10:55:57.559435Z",
     "shell.execute_reply": "2020-12-06T10:55:57.558571Z"
    },
    "papermill": {
     "duration": 0.940075,
     "end_time": "2020-12-06T10:55:57.559567",
     "exception": false,
     "start_time": "2020-12-06T10:55:56.619492",
     "status": "completed"
    },
    "tags": []
   },
   "outputs": [
    {
     "data": {
      "text/plain": [
       "timestamp             0\n",
       "user_id               0\n",
       "content_id            0\n",
       "answered_correctly    0\n",
       "dtype: int64"
      ]
     },
     "execution_count": 23,
     "metadata": {},
     "output_type": "execute_result"
    }
   ],
   "source": [
    "# null value in prior_question_had_explanation_only, but other variables include -1 as missing value in user_answer and answered_correctly\n",
    "train.isnull().sum()"
   ]
  },
  {
   "cell_type": "code",
   "execution_count": 24,
   "metadata": {
    "execution": {
     "iopub.execute_input": "2020-12-06T10:55:57.742061Z",
     "iopub.status.busy": "2020-12-06T10:55:57.740983Z",
     "iopub.status.idle": "2020-12-06T10:55:57.744382Z",
     "shell.execute_reply": "2020-12-06T10:55:57.743751Z"
    },
    "papermill": {
     "duration": 0.096042,
     "end_time": "2020-12-06T10:55:57.744508",
     "exception": false,
     "start_time": "2020-12-06T10:55:57.648466",
     "status": "completed"
    },
    "tags": []
   },
   "outputs": [],
   "source": [
    "# data num per user_id\n",
    "#train.groupby(\"user_id\").agg(\"max\")[\"task_container_id\"].plot(kind=\"hist\")"
   ]
  },
  {
   "cell_type": "code",
   "execution_count": 25,
   "metadata": {
    "execution": {
     "iopub.execute_input": "2020-12-06T10:55:57.922527Z",
     "iopub.status.busy": "2020-12-06T10:55:57.921747Z",
     "iopub.status.idle": "2020-12-06T10:55:57.924644Z",
     "shell.execute_reply": "2020-12-06T10:55:57.923922Z"
    },
    "papermill": {
     "duration": 0.093481,
     "end_time": "2020-12-06T10:55:57.924771",
     "exception": false,
     "start_time": "2020-12-06T10:55:57.831290",
     "status": "completed"
    },
    "tags": []
   },
   "outputs": [],
   "source": [
    "#train[\"content_type_id\"].sum() / train.shape[0] # lectureはわずか2%"
   ]
  },
  {
   "cell_type": "code",
   "execution_count": 26,
   "metadata": {
    "execution": {
     "iopub.execute_input": "2020-12-06T10:55:58.106158Z",
     "iopub.status.busy": "2020-12-06T10:55:58.105055Z",
     "iopub.status.idle": "2020-12-06T10:55:58.108562Z",
     "shell.execute_reply": "2020-12-06T10:55:58.107809Z"
    },
    "papermill": {
     "duration": 0.096644,
     "end_time": "2020-12-06T10:55:58.108689",
     "exception": false,
     "start_time": "2020-12-06T10:55:58.012045",
     "status": "completed"
    },
    "tags": []
   },
   "outputs": [],
   "source": [
    "#print(train.groupby(\"user_id\")[\"content_type_id\"].mean().max(), train.groupby(\"user_id\")[\"content_type_id\"].mean().min())\n",
    "#print(train.groupby(\"user_id\")[\"content_type_id\"].mean().mean())"
   ]
  },
  {
   "cell_type": "code",
   "execution_count": 27,
   "metadata": {
    "execution": {
     "iopub.execute_input": "2020-12-06T10:55:58.288690Z",
     "iopub.status.busy": "2020-12-06T10:55:58.287782Z",
     "iopub.status.idle": "2020-12-06T10:55:58.290637Z",
     "shell.execute_reply": "2020-12-06T10:55:58.291211Z"
    },
    "papermill": {
     "duration": 0.095344,
     "end_time": "2020-12-06T10:55:58.291373",
     "exception": false,
     "start_time": "2020-12-06T10:55:58.196029",
     "status": "completed"
    },
    "tags": []
   },
   "outputs": [],
   "source": [
    "# had explanation in almost 90%\n",
    "# train[\"prior_question_had_explanation\"].value_counts(normalize=True)"
   ]
  },
  {
   "cell_type": "code",
   "execution_count": 28,
   "metadata": {
    "execution": {
     "iopub.execute_input": "2020-12-06T10:55:58.471969Z",
     "iopub.status.busy": "2020-12-06T10:55:58.471225Z",
     "iopub.status.idle": "2020-12-06T10:55:58.474285Z",
     "shell.execute_reply": "2020-12-06T10:55:58.473557Z"
    },
    "papermill": {
     "duration": 0.095023,
     "end_time": "2020-12-06T10:55:58.474411",
     "exception": false,
     "start_time": "2020-12-06T10:55:58.379388",
     "status": "completed"
    },
    "tags": []
   },
   "outputs": [],
   "source": [
    "#train = train.merge(questions[[\"question_id\", \"part\"]], how=\"left\", left_on=['content_id'], right_on=['question_id'])\n",
    "#train = train.loc[train['answered_correctly'] != -1].reset_index(drop=True)\n",
    "#tmp = train.groupby('part').agg({'answered_correctly': ['mean']}).copy()\n",
    "#tmp.columns = ['correct_rate']\n",
    "#tmp"
   ]
  },
  {
   "cell_type": "code",
   "execution_count": 29,
   "metadata": {
    "execution": {
     "iopub.execute_input": "2020-12-06T10:55:58.805424Z",
     "iopub.status.busy": "2020-12-06T10:55:58.799233Z",
     "iopub.status.idle": "2020-12-06T10:56:02.526242Z",
     "shell.execute_reply": "2020-12-06T10:56:02.526809Z"
    },
    "papermill": {
     "duration": 3.965239,
     "end_time": "2020-12-06T10:56:02.526986",
     "exception": false,
     "start_time": "2020-12-06T10:55:58.561747",
     "status": "completed"
    },
    "tags": []
   },
   "outputs": [
    {
     "name": "stdout",
     "output_type": "stream",
     "text": [
      "388\n",
      "212\n",
      "489\n",
      "887\n",
      "1569\n",
      "1569\n",
      "2497\n",
      "3211\n",
      "3112\n",
      "1417\n"
     ]
    }
   ],
   "source": [
    "tmp = train.groupby(\"content_id\")[\"answered_correctly\"].mean().reset_index()\n",
    "print(len(tmp[tmp.answered_correctly<0.2][\"content_id\"]))\n",
    "print(len(tmp[(tmp.answered_correctly>=0.2) & (tmp.answered_correctly<0.3)][\"content_id\"]))\n",
    "print(len(tmp[(tmp.answered_correctly>=0.3) & (tmp.answered_correctly<0.4)][\"content_id\"]))\n",
    "print(len(tmp[(tmp.answered_correctly>=0.4) & (tmp.answered_correctly<0.5)][\"content_id\"]))\n",
    "print(len(tmp[(tmp.answered_correctly>=0.5) & (tmp.answered_correctly<0.6)][\"content_id\"]))\n",
    "print(len(tmp[(tmp.answered_correctly>=0.5) & (tmp.answered_correctly<0.6)][\"content_id\"]))\n",
    "print(len(tmp[(tmp.answered_correctly>=0.6) & (tmp.answered_correctly<0.7)][\"content_id\"]))\n",
    "print(len(tmp[(tmp.answered_correctly>=0.7) & (tmp.answered_correctly<0.8)][\"content_id\"]))\n",
    "print(len(tmp[(tmp.answered_correctly>=0.8) & (tmp.answered_correctly<0.9)][\"content_id\"]))\n",
    "print(len(tmp[(tmp.answered_correctly>=0.9)][\"content_id\"]))"
   ]
  },
  {
   "cell_type": "markdown",
   "metadata": {
    "papermill": {
     "duration": 0.088731,
     "end_time": "2020-12-06T10:56:02.707131",
     "exception": false,
     "start_time": "2020-12-06T10:56:02.618400",
     "status": "completed"
    },
    "tags": []
   },
   "source": [
    "# lecture\n",
    "- lectures.csv: metadata for the lectures watched by users as they progress in their education.\n",
    "- lecture_id: foreign key for the train/test content_id column, when the content type is lecture (1).\n",
    "- part: top level category code for the lecture.\n",
    "- tag: one tag codes for the lecture. The meaning of the tags will not be provided, but these codes are sufficient for clustering the lectures together.\n",
    "- type_of: brief description of the core purpose of the lecture"
   ]
  },
  {
   "cell_type": "code",
   "execution_count": 30,
   "metadata": {
    "execution": {
     "iopub.execute_input": "2020-12-06T10:56:02.890911Z",
     "iopub.status.busy": "2020-12-06T10:56:02.890063Z",
     "iopub.status.idle": "2020-12-06T10:56:02.894852Z",
     "shell.execute_reply": "2020-12-06T10:56:02.894274Z"
    },
    "papermill": {
     "duration": 0.099582,
     "end_time": "2020-12-06T10:56:02.894980",
     "exception": false,
     "start_time": "2020-12-06T10:56:02.795398",
     "status": "completed"
    },
    "tags": []
   },
   "outputs": [
    {
     "data": {
      "text/plain": [
       "(418, 4)"
      ]
     },
     "execution_count": 30,
     "metadata": {},
     "output_type": "execute_result"
    }
   ],
   "source": [
    "lectures.shape"
   ]
  },
  {
   "cell_type": "code",
   "execution_count": 31,
   "metadata": {
    "execution": {
     "iopub.execute_input": "2020-12-06T10:56:03.100414Z",
     "iopub.status.busy": "2020-12-06T10:56:03.087502Z",
     "iopub.status.idle": "2020-12-06T10:56:03.105432Z",
     "shell.execute_reply": "2020-12-06T10:56:03.104637Z"
    },
    "papermill": {
     "duration": 0.120086,
     "end_time": "2020-12-06T10:56:03.105560",
     "exception": false,
     "start_time": "2020-12-06T10:56:02.985474",
     "status": "completed"
    },
    "tags": []
   },
   "outputs": [
    {
     "data": {
      "text/html": [
       "<div>\n",
       "<style scoped>\n",
       "    .dataframe tbody tr th:only-of-type {\n",
       "        vertical-align: middle;\n",
       "    }\n",
       "\n",
       "    .dataframe tbody tr th {\n",
       "        vertical-align: top;\n",
       "    }\n",
       "\n",
       "    .dataframe thead th {\n",
       "        text-align: right;\n",
       "    }\n",
       "</style>\n",
       "<table border=\"1\" class=\"dataframe\">\n",
       "  <thead>\n",
       "    <tr style=\"text-align: right;\">\n",
       "      <th></th>\n",
       "      <th>lecture_id</th>\n",
       "      <th>tag</th>\n",
       "      <th>part</th>\n",
       "    </tr>\n",
       "  </thead>\n",
       "  <tbody>\n",
       "    <tr>\n",
       "      <th>count</th>\n",
       "      <td>418.000000</td>\n",
       "      <td>418.000000</td>\n",
       "      <td>418.000000</td>\n",
       "    </tr>\n",
       "    <tr>\n",
       "      <th>mean</th>\n",
       "      <td>16983.401914</td>\n",
       "      <td>94.480861</td>\n",
       "      <td>4.267943</td>\n",
       "    </tr>\n",
       "    <tr>\n",
       "      <th>std</th>\n",
       "      <td>9426.164660</td>\n",
       "      <td>53.586487</td>\n",
       "      <td>1.872424</td>\n",
       "    </tr>\n",
       "    <tr>\n",
       "      <th>min</th>\n",
       "      <td>89.000000</td>\n",
       "      <td>0.000000</td>\n",
       "      <td>1.000000</td>\n",
       "    </tr>\n",
       "    <tr>\n",
       "      <th>25%</th>\n",
       "      <td>9026.250000</td>\n",
       "      <td>50.250000</td>\n",
       "      <td>2.000000</td>\n",
       "    </tr>\n",
       "    <tr>\n",
       "      <th>50%</th>\n",
       "      <td>17161.500000</td>\n",
       "      <td>94.500000</td>\n",
       "      <td>5.000000</td>\n",
       "    </tr>\n",
       "    <tr>\n",
       "      <th>75%</th>\n",
       "      <td>24906.250000</td>\n",
       "      <td>140.000000</td>\n",
       "      <td>6.000000</td>\n",
       "    </tr>\n",
       "    <tr>\n",
       "      <th>max</th>\n",
       "      <td>32736.000000</td>\n",
       "      <td>187.000000</td>\n",
       "      <td>7.000000</td>\n",
       "    </tr>\n",
       "  </tbody>\n",
       "</table>\n",
       "</div>"
      ],
      "text/plain": [
       "         lecture_id         tag        part\n",
       "count    418.000000  418.000000  418.000000\n",
       "mean   16983.401914   94.480861    4.267943\n",
       "std     9426.164660   53.586487    1.872424\n",
       "min       89.000000    0.000000    1.000000\n",
       "25%     9026.250000   50.250000    2.000000\n",
       "50%    17161.500000   94.500000    5.000000\n",
       "75%    24906.250000  140.000000    6.000000\n",
       "max    32736.000000  187.000000    7.000000"
      ]
     },
     "execution_count": 31,
     "metadata": {},
     "output_type": "execute_result"
    }
   ],
   "source": [
    "lectures.describe()"
   ]
  },
  {
   "cell_type": "code",
   "execution_count": 32,
   "metadata": {
    "execution": {
     "iopub.execute_input": "2020-12-06T10:56:03.302095Z",
     "iopub.status.busy": "2020-12-06T10:56:03.300892Z",
     "iopub.status.idle": "2020-12-06T10:56:03.305450Z",
     "shell.execute_reply": "2020-12-06T10:56:03.304707Z"
    },
    "papermill": {
     "duration": 0.10681,
     "end_time": "2020-12-06T10:56:03.305573",
     "exception": false,
     "start_time": "2020-12-06T10:56:03.198763",
     "status": "completed"
    },
    "tags": []
   },
   "outputs": [
    {
     "data": {
      "text/html": [
       "<div>\n",
       "<style scoped>\n",
       "    .dataframe tbody tr th:only-of-type {\n",
       "        vertical-align: middle;\n",
       "    }\n",
       "\n",
       "    .dataframe tbody tr th {\n",
       "        vertical-align: top;\n",
       "    }\n",
       "\n",
       "    .dataframe thead th {\n",
       "        text-align: right;\n",
       "    }\n",
       "</style>\n",
       "<table border=\"1\" class=\"dataframe\">\n",
       "  <thead>\n",
       "    <tr style=\"text-align: right;\">\n",
       "      <th></th>\n",
       "      <th>lecture_id</th>\n",
       "      <th>tag</th>\n",
       "      <th>part</th>\n",
       "      <th>type_of</th>\n",
       "    </tr>\n",
       "  </thead>\n",
       "  <tbody>\n",
       "    <tr>\n",
       "      <th>0</th>\n",
       "      <td>89</td>\n",
       "      <td>159</td>\n",
       "      <td>5</td>\n",
       "      <td>concept</td>\n",
       "    </tr>\n",
       "    <tr>\n",
       "      <th>1</th>\n",
       "      <td>100</td>\n",
       "      <td>70</td>\n",
       "      <td>1</td>\n",
       "      <td>concept</td>\n",
       "    </tr>\n",
       "    <tr>\n",
       "      <th>2</th>\n",
       "      <td>185</td>\n",
       "      <td>45</td>\n",
       "      <td>6</td>\n",
       "      <td>concept</td>\n",
       "    </tr>\n",
       "    <tr>\n",
       "      <th>3</th>\n",
       "      <td>192</td>\n",
       "      <td>79</td>\n",
       "      <td>5</td>\n",
       "      <td>solving question</td>\n",
       "    </tr>\n",
       "    <tr>\n",
       "      <th>4</th>\n",
       "      <td>317</td>\n",
       "      <td>156</td>\n",
       "      <td>5</td>\n",
       "      <td>solving question</td>\n",
       "    </tr>\n",
       "  </tbody>\n",
       "</table>\n",
       "</div>"
      ],
      "text/plain": [
       "   lecture_id  tag  part           type_of\n",
       "0          89  159     5           concept\n",
       "1         100   70     1           concept\n",
       "2         185   45     6           concept\n",
       "3         192   79     5  solving question\n",
       "4         317  156     5  solving question"
      ]
     },
     "execution_count": 32,
     "metadata": {},
     "output_type": "execute_result"
    }
   ],
   "source": [
    "lectures.head()"
   ]
  },
  {
   "cell_type": "code",
   "execution_count": 33,
   "metadata": {
    "execution": {
     "iopub.execute_input": "2020-12-06T10:56:03.554103Z",
     "iopub.status.busy": "2020-12-06T10:56:03.553003Z",
     "iopub.status.idle": "2020-12-06T10:56:03.558240Z",
     "shell.execute_reply": "2020-12-06T10:56:03.557489Z"
    },
    "papermill": {
     "duration": 0.107021,
     "end_time": "2020-12-06T10:56:03.558362",
     "exception": false,
     "start_time": "2020-12-06T10:56:03.451341",
     "status": "completed"
    },
    "tags": []
   },
   "outputs": [
    {
     "data": {
      "text/plain": [
       "array([ 79, 156, 134,  80, 101,  74,  43, 109, 142, 140,   1,  26, 173,\n",
       "         7,  64, 141, 124, 161,   4,  94,  70, 119, 177,  54,  50, 116,\n",
       "        93, 136, 127,  53, 130,  13,  36,  62, 181, 164, 163,  85,  91,\n",
       "         9,  28,  98, 159,  27, 149,  61, 166,  14, 113, 182,  55,  49,\n",
       "       106,  47,  60, 179,  71,  82,  44,  25, 108,  96,   5, 152,  16,\n",
       "        73, 178,  42,  40,   6, 157,  33,  51, 133,  48, 167,  68,  95,\n",
       "        30, 174,  20,  66,  37,  45, 105, 151, 123, 114, 180,  89, 168,\n",
       "        78, 111,  52,  34,   8, 184, 176,  72, 129, 128,  65, 125, 170,\n",
       "       104,  69,   0])"
      ]
     },
     "execution_count": 33,
     "metadata": {},
     "output_type": "execute_result"
    }
   ],
   "source": [
    "lectures[lectures.type_of==\"solving question\"][\"tag\"].unique()"
   ]
  },
  {
   "cell_type": "code",
   "execution_count": 34,
   "metadata": {
    "execution": {
     "iopub.execute_input": "2020-12-06T10:56:03.754223Z",
     "iopub.status.busy": "2020-12-06T10:56:03.753275Z",
     "iopub.status.idle": "2020-12-06T10:56:03.757145Z",
     "shell.execute_reply": "2020-12-06T10:56:03.757731Z"
    },
    "papermill": {
     "duration": 0.10781,
     "end_time": "2020-12-06T10:56:03.757900",
     "exception": false,
     "start_time": "2020-12-06T10:56:03.650090",
     "status": "completed"
    },
    "tags": []
   },
   "outputs": [
    {
     "name": "stdout",
     "output_type": "stream",
     "text": [
      "<class 'pandas.core.frame.DataFrame'>\n",
      "RangeIndex: 418 entries, 0 to 417\n",
      "Data columns (total 4 columns):\n",
      " #   Column      Non-Null Count  Dtype \n",
      "---  ------      --------------  ----- \n",
      " 0   lecture_id  418 non-null    int64 \n",
      " 1   tag         418 non-null    int64 \n",
      " 2   part        418 non-null    int64 \n",
      " 3   type_of     418 non-null    object\n",
      "dtypes: int64(3), object(1)\n",
      "memory usage: 13.2+ KB\n"
     ]
    }
   ],
   "source": [
    "lectures.info()"
   ]
  },
  {
   "cell_type": "code",
   "execution_count": 35,
   "metadata": {
    "execution": {
     "iopub.execute_input": "2020-12-06T10:56:03.950255Z",
     "iopub.status.busy": "2020-12-06T10:56:03.949204Z",
     "iopub.status.idle": "2020-12-06T10:56:03.953336Z",
     "shell.execute_reply": "2020-12-06T10:56:03.952681Z"
    },
    "papermill": {
     "duration": 0.102978,
     "end_time": "2020-12-06T10:56:03.953466",
     "exception": false,
     "start_time": "2020-12-06T10:56:03.850488",
     "status": "completed"
    },
    "tags": []
   },
   "outputs": [
    {
     "data": {
      "text/plain": [
       "(0, 187)"
      ]
     },
     "execution_count": 35,
     "metadata": {},
     "output_type": "execute_result"
    }
   ],
   "source": [
    "lectures.tag.min(), lectures.tag.max()"
   ]
  },
  {
   "cell_type": "code",
   "execution_count": 36,
   "metadata": {
    "execution": {
     "iopub.execute_input": "2020-12-06T10:56:04.151100Z",
     "iopub.status.busy": "2020-12-06T10:56:04.150270Z",
     "iopub.status.idle": "2020-12-06T10:56:04.154381Z",
     "shell.execute_reply": "2020-12-06T10:56:04.153631Z"
    },
    "papermill": {
     "duration": 0.105204,
     "end_time": "2020-12-06T10:56:04.154507",
     "exception": false,
     "start_time": "2020-12-06T10:56:04.049303",
     "status": "completed"
    },
    "tags": []
   },
   "outputs": [
    {
     "data": {
      "text/plain": [
       "136    7\n",
       "116    6\n",
       "134    6\n",
       "27     6\n",
       "161    6\n",
       "Name: tag, dtype: int64"
      ]
     },
     "execution_count": 36,
     "metadata": {},
     "output_type": "execute_result"
    }
   ],
   "source": [
    "lectures.tag.value_counts().head() # 一部タグに重複あり"
   ]
  },
  {
   "cell_type": "code",
   "execution_count": 37,
   "metadata": {
    "execution": {
     "iopub.execute_input": "2020-12-06T10:56:04.353632Z",
     "iopub.status.busy": "2020-12-06T10:56:04.352411Z",
     "iopub.status.idle": "2020-12-06T10:56:04.356636Z",
     "shell.execute_reply": "2020-12-06T10:56:04.357554Z"
    },
    "papermill": {
     "duration": 0.110052,
     "end_time": "2020-12-06T10:56:04.357774",
     "exception": false,
     "start_time": "2020-12-06T10:56:04.247722",
     "status": "completed"
    },
    "tags": []
   },
   "outputs": [
    {
     "data": {
      "text/plain": [
       "5    143\n",
       "6     83\n",
       "2     56\n",
       "1     54\n",
       "7     32\n",
       "4     31\n",
       "3     19\n",
       "Name: part, dtype: int64"
      ]
     },
     "execution_count": 37,
     "metadata": {},
     "output_type": "execute_result"
    }
   ],
   "source": [
    "lectures.part.value_counts() # 一部タグに重複あり"
   ]
  },
  {
   "cell_type": "code",
   "execution_count": 38,
   "metadata": {
    "execution": {
     "iopub.execute_input": "2020-12-06T10:56:04.560099Z",
     "iopub.status.busy": "2020-12-06T10:56:04.559095Z",
     "iopub.status.idle": "2020-12-06T10:56:04.563340Z",
     "shell.execute_reply": "2020-12-06T10:56:04.563931Z"
    },
    "papermill": {
     "duration": 0.107238,
     "end_time": "2020-12-06T10:56:04.564082",
     "exception": false,
     "start_time": "2020-12-06T10:56:04.456844",
     "status": "completed"
    },
    "tags": []
   },
   "outputs": [
    {
     "data": {
      "text/plain": [
       "concept             222\n",
       "solving question    186\n",
       "intention             7\n",
       "starter               3\n",
       "Name: type_of, dtype: int64"
      ]
     },
     "execution_count": 38,
     "metadata": {},
     "output_type": "execute_result"
    }
   ],
   "source": [
    "lectures.type_of.value_counts() "
   ]
  },
  {
   "cell_type": "code",
   "execution_count": 39,
   "metadata": {
    "execution": {
     "iopub.execute_input": "2020-12-06T10:56:04.766492Z",
     "iopub.status.busy": "2020-12-06T10:56:04.765466Z",
     "iopub.status.idle": "2020-12-06T10:56:04.770136Z",
     "shell.execute_reply": "2020-12-06T10:56:04.769509Z"
    },
    "papermill": {
     "duration": 0.111447,
     "end_time": "2020-12-06T10:56:04.770300",
     "exception": false,
     "start_time": "2020-12-06T10:56:04.658853",
     "status": "completed"
    },
    "tags": []
   },
   "outputs": [
    {
     "data": {
      "text/plain": [
       "lecture_id    0\n",
       "tag           0\n",
       "part          0\n",
       "type_of       0\n",
       "dtype: int64"
      ]
     },
     "execution_count": 39,
     "metadata": {},
     "output_type": "execute_result"
    }
   ],
   "source": [
    "lectures.isnull().sum() # no missing value"
   ]
  },
  {
   "cell_type": "code",
   "execution_count": 40,
   "metadata": {
    "execution": {
     "iopub.execute_input": "2020-12-06T10:56:04.969445Z",
     "iopub.status.busy": "2020-12-06T10:56:04.968620Z",
     "iopub.status.idle": "2020-12-06T10:56:04.974474Z",
     "shell.execute_reply": "2020-12-06T10:56:04.973668Z"
    },
    "papermill": {
     "duration": 0.107836,
     "end_time": "2020-12-06T10:56:04.974610",
     "exception": false,
     "start_time": "2020-12-06T10:56:04.866774",
     "status": "completed"
    },
    "tags": []
   },
   "outputs": [
    {
     "data": {
      "text/plain": [
       "418"
      ]
     },
     "execution_count": 40,
     "metadata": {},
     "output_type": "execute_result"
    }
   ],
   "source": [
    "len(lectures.lecture_id.unique())"
   ]
  },
  {
   "cell_type": "code",
   "execution_count": 41,
   "metadata": {
    "execution": {
     "iopub.execute_input": "2020-12-06T10:56:05.180363Z",
     "iopub.status.busy": "2020-12-06T10:56:05.179164Z",
     "iopub.status.idle": "2020-12-06T10:56:06.087492Z",
     "shell.execute_reply": "2020-12-06T10:56:06.086661Z"
    },
    "papermill": {
     "duration": 1.015961,
     "end_time": "2020-12-06T10:56:06.087630",
     "exception": false,
     "start_time": "2020-12-06T10:56:05.071669",
     "status": "completed"
    },
    "tags": []
   },
   "outputs": [
    {
     "data": {
      "text/plain": [
       "417"
      ]
     },
     "execution_count": 41,
     "metadata": {},
     "output_type": "execute_result"
    }
   ],
   "source": [
    "len(set(lectures.lecture_id.unique()) & set(train.content_id.unique()))"
   ]
  },
  {
   "cell_type": "code",
   "execution_count": 42,
   "metadata": {
    "execution": {
     "iopub.execute_input": "2020-12-06T10:56:06.285788Z",
     "iopub.status.busy": "2020-12-06T10:56:06.284826Z",
     "iopub.status.idle": "2020-12-06T10:56:06.288121Z",
     "shell.execute_reply": "2020-12-06T10:56:06.287523Z"
    },
    "papermill": {
     "duration": 0.10365,
     "end_time": "2020-12-06T10:56:06.288268",
     "exception": false,
     "start_time": "2020-12-06T10:56:06.184618",
     "status": "completed"
    },
    "tags": []
   },
   "outputs": [],
   "source": [
    "# lecture id 28098 isn't included in training set\n",
    "# set(lectures.lecture_id.unique()) - set(set(lectures.lecture_id.unique()) & set(train.content_id.unique()))"
   ]
  },
  {
   "cell_type": "code",
   "execution_count": 43,
   "metadata": {
    "execution": {
     "iopub.execute_input": "2020-12-06T10:56:06.511627Z",
     "iopub.status.busy": "2020-12-06T10:56:06.510734Z",
     "iopub.status.idle": "2020-12-06T10:56:06.515830Z",
     "shell.execute_reply": "2020-12-06T10:56:06.515121Z"
    },
    "papermill": {
     "duration": 0.112964,
     "end_time": "2020-12-06T10:56:06.515952",
     "exception": false,
     "start_time": "2020-12-06T10:56:06.402988",
     "status": "completed"
    },
    "tags": []
   },
   "outputs": [
    {
     "data": {
      "text/html": [
       "<div>\n",
       "<style scoped>\n",
       "    .dataframe tbody tr th:only-of-type {\n",
       "        vertical-align: middle;\n",
       "    }\n",
       "\n",
       "    .dataframe tbody tr th {\n",
       "        vertical-align: top;\n",
       "    }\n",
       "\n",
       "    .dataframe thead th {\n",
       "        text-align: right;\n",
       "    }\n",
       "</style>\n",
       "<table border=\"1\" class=\"dataframe\">\n",
       "  <thead>\n",
       "    <tr style=\"text-align: right;\">\n",
       "      <th></th>\n",
       "      <th>lecture_id</th>\n",
       "      <th>tag</th>\n",
       "      <th>part</th>\n",
       "      <th>type_of</th>\n",
       "    </tr>\n",
       "  </thead>\n",
       "  <tbody>\n",
       "    <tr>\n",
       "      <th>355</th>\n",
       "      <td>28098</td>\n",
       "      <td>166</td>\n",
       "      <td>6</td>\n",
       "      <td>solving question</td>\n",
       "    </tr>\n",
       "  </tbody>\n",
       "</table>\n",
       "</div>"
      ],
      "text/plain": [
       "     lecture_id  tag  part           type_of\n",
       "355       28098  166     6  solving question"
      ]
     },
     "execution_count": 43,
     "metadata": {},
     "output_type": "execute_result"
    }
   ],
   "source": [
    "lectures[lectures.lecture_id==28098]"
   ]
  },
  {
   "cell_type": "code",
   "execution_count": 44,
   "metadata": {
    "execution": {
     "iopub.execute_input": "2020-12-06T10:56:06.716835Z",
     "iopub.status.busy": "2020-12-06T10:56:06.715928Z",
     "iopub.status.idle": "2020-12-06T10:56:06.721232Z",
     "shell.execute_reply": "2020-12-06T10:56:06.720494Z"
    },
    "papermill": {
     "duration": 0.108378,
     "end_time": "2020-12-06T10:56:06.721358",
     "exception": false,
     "start_time": "2020-12-06T10:56:06.612980",
     "status": "completed"
    },
    "tags": []
   },
   "outputs": [
    {
     "data": {
      "text/plain": [
       "151"
      ]
     },
     "execution_count": 44,
     "metadata": {},
     "output_type": "execute_result"
    }
   ],
   "source": [
    "len(lectures.tag.unique()) # overlap in tag"
   ]
  },
  {
   "cell_type": "code",
   "execution_count": 45,
   "metadata": {
    "execution": {
     "iopub.execute_input": "2020-12-06T10:56:06.923593Z",
     "iopub.status.busy": "2020-12-06T10:56:06.922638Z",
     "iopub.status.idle": "2020-12-06T10:56:06.925212Z",
     "shell.execute_reply": "2020-12-06T10:56:06.925922Z"
    },
    "papermill": {
     "duration": 0.106083,
     "end_time": "2020-12-06T10:56:06.926079",
     "exception": false,
     "start_time": "2020-12-06T10:56:06.819996",
     "status": "completed"
    },
    "tags": []
   },
   "outputs": [],
   "source": [
    "#lectures['type_of'] = lectures['type_of'].replace('solving question', 'solving_question')\n",
    "#lectures = pd.get_dummies(lectures, columns=['part', 'type_of'])"
   ]
  },
  {
   "cell_type": "code",
   "execution_count": 46,
   "metadata": {
    "execution": {
     "iopub.execute_input": "2020-12-06T10:56:07.131275Z",
     "iopub.status.busy": "2020-12-06T10:56:07.130159Z",
     "iopub.status.idle": "2020-12-06T10:56:07.133213Z",
     "shell.execute_reply": "2020-12-06T10:56:07.133823Z"
    },
    "papermill": {
     "duration": 0.107626,
     "end_time": "2020-12-06T10:56:07.133979",
     "exception": false,
     "start_time": "2020-12-06T10:56:07.026353",
     "status": "completed"
    },
    "tags": []
   },
   "outputs": [],
   "source": [
    "#part_lectures_columns = [column for column in lectures.columns if column.startswith('part')]\n",
    "#types_of_lectures_columns = [column for column in lectures.columns if column.startswith('type_of_')]"
   ]
  },
  {
   "cell_type": "code",
   "execution_count": 47,
   "metadata": {
    "execution": {
     "iopub.execute_input": "2020-12-06T10:56:07.341339Z",
     "iopub.status.busy": "2020-12-06T10:56:07.340504Z",
     "iopub.status.idle": "2020-12-06T10:56:07.867944Z",
     "shell.execute_reply": "2020-12-06T10:56:07.867132Z"
    },
    "papermill": {
     "duration": 0.635584,
     "end_time": "2020-12-06T10:56:07.868082",
     "exception": false,
     "start_time": "2020-12-06T10:56:07.232498",
     "status": "completed"
    },
    "tags": []
   },
   "outputs": [],
   "source": [
    "train_lec = train[train[\"answered_correctly\"] == -1].reset_index(drop=True)\n",
    "train_lec = train_lec.merge(lectures[[\"lecture_id\", \"tag\"]], left_on=\"content_id\", right_on=\"lecture_id\", how=\"left\")\n",
    "train_lec.drop([\"lecture_id\"], axis=1, inplace=True)"
   ]
  },
  {
   "cell_type": "code",
   "execution_count": 48,
   "metadata": {
    "execution": {
     "iopub.execute_input": "2020-12-06T10:56:08.080188Z",
     "iopub.status.busy": "2020-12-06T10:56:08.079025Z",
     "iopub.status.idle": "2020-12-06T10:56:08.082655Z",
     "shell.execute_reply": "2020-12-06T10:56:08.083242Z"
    },
    "papermill": {
     "duration": 0.115521,
     "end_time": "2020-12-06T10:56:08.083396",
     "exception": false,
     "start_time": "2020-12-06T10:56:07.967875",
     "status": "completed"
    },
    "tags": []
   },
   "outputs": [
    {
     "data": {
      "text/html": [
       "<div>\n",
       "<style scoped>\n",
       "    .dataframe tbody tr th:only-of-type {\n",
       "        vertical-align: middle;\n",
       "    }\n",
       "\n",
       "    .dataframe tbody tr th {\n",
       "        vertical-align: top;\n",
       "    }\n",
       "\n",
       "    .dataframe thead th {\n",
       "        text-align: right;\n",
       "    }\n",
       "</style>\n",
       "<table border=\"1\" class=\"dataframe\">\n",
       "  <thead>\n",
       "    <tr style=\"text-align: right;\">\n",
       "      <th></th>\n",
       "      <th>timestamp</th>\n",
       "      <th>user_id</th>\n",
       "      <th>content_id</th>\n",
       "      <th>answered_correctly</th>\n",
       "      <th>tag</th>\n",
       "    </tr>\n",
       "  </thead>\n",
       "  <tbody>\n",
       "    <tr>\n",
       "      <th>0</th>\n",
       "      <td>653762</td>\n",
       "      <td>2746</td>\n",
       "      <td>6808</td>\n",
       "      <td>-1</td>\n",
       "      <td>129</td>\n",
       "    </tr>\n",
       "    <tr>\n",
       "      <th>1</th>\n",
       "      <td>10183847</td>\n",
       "      <td>5382</td>\n",
       "      <td>16736</td>\n",
       "      <td>-1</td>\n",
       "      <td>40</td>\n",
       "    </tr>\n",
       "    <tr>\n",
       "      <th>2</th>\n",
       "      <td>1424348597</td>\n",
       "      <td>5382</td>\n",
       "      <td>30207</td>\n",
       "      <td>-1</td>\n",
       "      <td>43</td>\n",
       "    </tr>\n",
       "    <tr>\n",
       "      <th>3</th>\n",
       "      <td>1425557777</td>\n",
       "      <td>5382</td>\n",
       "      <td>18545</td>\n",
       "      <td>-1</td>\n",
       "      <td>58</td>\n",
       "    </tr>\n",
       "    <tr>\n",
       "      <th>4</th>\n",
       "      <td>405813029</td>\n",
       "      <td>8623</td>\n",
       "      <td>10540</td>\n",
       "      <td>-1</td>\n",
       "      <td>99</td>\n",
       "    </tr>\n",
       "  </tbody>\n",
       "</table>\n",
       "</div>"
      ],
      "text/plain": [
       "    timestamp  user_id  content_id  answered_correctly  tag\n",
       "0      653762     2746        6808                  -1  129\n",
       "1    10183847     5382       16736                  -1   40\n",
       "2  1424348597     5382       30207                  -1   43\n",
       "3  1425557777     5382       18545                  -1   58\n",
       "4   405813029     8623       10540                  -1   99"
      ]
     },
     "execution_count": 48,
     "metadata": {},
     "output_type": "execute_result"
    }
   ],
   "source": [
    "train_lec.head()"
   ]
  },
  {
   "cell_type": "code",
   "execution_count": 49,
   "metadata": {
    "execution": {
     "iopub.execute_input": "2020-12-06T10:56:08.287939Z",
     "iopub.status.busy": "2020-12-06T10:56:08.287102Z",
     "iopub.status.idle": "2020-12-06T10:56:08.393704Z",
     "shell.execute_reply": "2020-12-06T10:56:08.394300Z"
    },
    "papermill": {
     "duration": 0.211514,
     "end_time": "2020-12-06T10:56:08.394453",
     "exception": false,
     "start_time": "2020-12-06T10:56:08.182939",
     "status": "completed"
    },
    "tags": []
   },
   "outputs": [
    {
     "data": {
      "text/html": [
       "<div>\n",
       "<style scoped>\n",
       "    .dataframe tbody tr th:only-of-type {\n",
       "        vertical-align: middle;\n",
       "    }\n",
       "\n",
       "    .dataframe tbody tr th {\n",
       "        vertical-align: top;\n",
       "    }\n",
       "\n",
       "    .dataframe thead th {\n",
       "        text-align: right;\n",
       "    }\n",
       "</style>\n",
       "<table border=\"1\" class=\"dataframe\">\n",
       "  <thead>\n",
       "    <tr style=\"text-align: right;\">\n",
       "      <th></th>\n",
       "      <th>user_id</th>\n",
       "      <th>lec_num</th>\n",
       "    </tr>\n",
       "  </thead>\n",
       "  <tbody>\n",
       "    <tr>\n",
       "      <th>0</th>\n",
       "      <td>372519499</td>\n",
       "      <td>397</td>\n",
       "    </tr>\n",
       "    <tr>\n",
       "      <th>1</th>\n",
       "      <td>353540103</td>\n",
       "      <td>395</td>\n",
       "    </tr>\n",
       "    <tr>\n",
       "      <th>2</th>\n",
       "      <td>105239469</td>\n",
       "      <td>389</td>\n",
       "    </tr>\n",
       "    <tr>\n",
       "      <th>3</th>\n",
       "      <td>1066383521</td>\n",
       "      <td>386</td>\n",
       "    </tr>\n",
       "    <tr>\n",
       "      <th>4</th>\n",
       "      <td>2066672014</td>\n",
       "      <td>386</td>\n",
       "    </tr>\n",
       "    <tr>\n",
       "      <th>5</th>\n",
       "      <td>194669131</td>\n",
       "      <td>385</td>\n",
       "    </tr>\n",
       "    <tr>\n",
       "      <th>6</th>\n",
       "      <td>1109748920</td>\n",
       "      <td>379</td>\n",
       "    </tr>\n",
       "    <tr>\n",
       "      <th>7</th>\n",
       "      <td>499347415</td>\n",
       "      <td>377</td>\n",
       "    </tr>\n",
       "    <tr>\n",
       "      <th>8</th>\n",
       "      <td>1660941992</td>\n",
       "      <td>368</td>\n",
       "    </tr>\n",
       "    <tr>\n",
       "      <th>9</th>\n",
       "      <td>617553217</td>\n",
       "      <td>363</td>\n",
       "    </tr>\n",
       "    <tr>\n",
       "      <th>10</th>\n",
       "      <td>2126450600</td>\n",
       "      <td>331</td>\n",
       "    </tr>\n",
       "    <tr>\n",
       "      <th>11</th>\n",
       "      <td>1471961784</td>\n",
       "      <td>328</td>\n",
       "    </tr>\n",
       "    <tr>\n",
       "      <th>12</th>\n",
       "      <td>1822049140</td>\n",
       "      <td>321</td>\n",
       "    </tr>\n",
       "    <tr>\n",
       "      <th>13</th>\n",
       "      <td>543872492</td>\n",
       "      <td>319</td>\n",
       "    </tr>\n",
       "    <tr>\n",
       "      <th>14</th>\n",
       "      <td>1842816145</td>\n",
       "      <td>318</td>\n",
       "    </tr>\n",
       "    <tr>\n",
       "      <th>15</th>\n",
       "      <td>1591307821</td>\n",
       "      <td>314</td>\n",
       "    </tr>\n",
       "    <tr>\n",
       "      <th>16</th>\n",
       "      <td>73289878</td>\n",
       "      <td>309</td>\n",
       "    </tr>\n",
       "    <tr>\n",
       "      <th>17</th>\n",
       "      <td>801103753</td>\n",
       "      <td>308</td>\n",
       "    </tr>\n",
       "    <tr>\n",
       "      <th>18</th>\n",
       "      <td>19594546</td>\n",
       "      <td>306</td>\n",
       "    </tr>\n",
       "    <tr>\n",
       "      <th>19</th>\n",
       "      <td>1885938019</td>\n",
       "      <td>305</td>\n",
       "    </tr>\n",
       "    <tr>\n",
       "      <th>20</th>\n",
       "      <td>2053461581</td>\n",
       "      <td>303</td>\n",
       "    </tr>\n",
       "    <tr>\n",
       "      <th>21</th>\n",
       "      <td>1170061539</td>\n",
       "      <td>301</td>\n",
       "    </tr>\n",
       "    <tr>\n",
       "      <th>22</th>\n",
       "      <td>817562598</td>\n",
       "      <td>295</td>\n",
       "    </tr>\n",
       "    <tr>\n",
       "      <th>23</th>\n",
       "      <td>1106635691</td>\n",
       "      <td>292</td>\n",
       "    </tr>\n",
       "    <tr>\n",
       "      <th>24</th>\n",
       "      <td>2019060752</td>\n",
       "      <td>290</td>\n",
       "    </tr>\n",
       "    <tr>\n",
       "      <th>25</th>\n",
       "      <td>984283195</td>\n",
       "      <td>287</td>\n",
       "    </tr>\n",
       "    <tr>\n",
       "      <th>26</th>\n",
       "      <td>270648383</td>\n",
       "      <td>285</td>\n",
       "    </tr>\n",
       "    <tr>\n",
       "      <th>27</th>\n",
       "      <td>1579080070</td>\n",
       "      <td>283</td>\n",
       "    </tr>\n",
       "    <tr>\n",
       "      <th>28</th>\n",
       "      <td>1647693501</td>\n",
       "      <td>280</td>\n",
       "    </tr>\n",
       "    <tr>\n",
       "      <th>29</th>\n",
       "      <td>1340545976</td>\n",
       "      <td>279</td>\n",
       "    </tr>\n",
       "    <tr>\n",
       "      <th>30</th>\n",
       "      <td>840609943</td>\n",
       "      <td>277</td>\n",
       "    </tr>\n",
       "    <tr>\n",
       "      <th>31</th>\n",
       "      <td>748264128</td>\n",
       "      <td>277</td>\n",
       "    </tr>\n",
       "    <tr>\n",
       "      <th>32</th>\n",
       "      <td>2147012157</td>\n",
       "      <td>277</td>\n",
       "    </tr>\n",
       "    <tr>\n",
       "      <th>33</th>\n",
       "      <td>418450893</td>\n",
       "      <td>276</td>\n",
       "    </tr>\n",
       "    <tr>\n",
       "      <th>34</th>\n",
       "      <td>796163934</td>\n",
       "      <td>276</td>\n",
       "    </tr>\n",
       "    <tr>\n",
       "      <th>35</th>\n",
       "      <td>1628208000</td>\n",
       "      <td>274</td>\n",
       "    </tr>\n",
       "    <tr>\n",
       "      <th>36</th>\n",
       "      <td>334983695</td>\n",
       "      <td>274</td>\n",
       "    </tr>\n",
       "    <tr>\n",
       "      <th>37</th>\n",
       "      <td>432948231</td>\n",
       "      <td>271</td>\n",
       "    </tr>\n",
       "    <tr>\n",
       "      <th>38</th>\n",
       "      <td>777265903</td>\n",
       "      <td>269</td>\n",
       "    </tr>\n",
       "    <tr>\n",
       "      <th>39</th>\n",
       "      <td>759303007</td>\n",
       "      <td>269</td>\n",
       "    </tr>\n",
       "    <tr>\n",
       "      <th>40</th>\n",
       "      <td>876029203</td>\n",
       "      <td>268</td>\n",
       "    </tr>\n",
       "    <tr>\n",
       "      <th>41</th>\n",
       "      <td>1911961857</td>\n",
       "      <td>267</td>\n",
       "    </tr>\n",
       "    <tr>\n",
       "      <th>42</th>\n",
       "      <td>1892339121</td>\n",
       "      <td>266</td>\n",
       "    </tr>\n",
       "    <tr>\n",
       "      <th>43</th>\n",
       "      <td>941178541</td>\n",
       "      <td>265</td>\n",
       "    </tr>\n",
       "    <tr>\n",
       "      <th>44</th>\n",
       "      <td>568340409</td>\n",
       "      <td>265</td>\n",
       "    </tr>\n",
       "    <tr>\n",
       "      <th>45</th>\n",
       "      <td>1541420520</td>\n",
       "      <td>263</td>\n",
       "    </tr>\n",
       "    <tr>\n",
       "      <th>46</th>\n",
       "      <td>1409311952</td>\n",
       "      <td>263</td>\n",
       "    </tr>\n",
       "    <tr>\n",
       "      <th>47</th>\n",
       "      <td>600233417</td>\n",
       "      <td>263</td>\n",
       "    </tr>\n",
       "    <tr>\n",
       "      <th>48</th>\n",
       "      <td>557534472</td>\n",
       "      <td>260</td>\n",
       "    </tr>\n",
       "    <tr>\n",
       "      <th>49</th>\n",
       "      <td>1962284087</td>\n",
       "      <td>259</td>\n",
       "    </tr>\n",
       "    <tr>\n",
       "      <th>50</th>\n",
       "      <td>1117971667</td>\n",
       "      <td>259</td>\n",
       "    </tr>\n",
       "    <tr>\n",
       "      <th>51</th>\n",
       "      <td>2026632072</td>\n",
       "      <td>257</td>\n",
       "    </tr>\n",
       "    <tr>\n",
       "      <th>52</th>\n",
       "      <td>252577391</td>\n",
       "      <td>257</td>\n",
       "    </tr>\n",
       "    <tr>\n",
       "      <th>53</th>\n",
       "      <td>1504754245</td>\n",
       "      <td>255</td>\n",
       "    </tr>\n",
       "    <tr>\n",
       "      <th>54</th>\n",
       "      <td>1554140383</td>\n",
       "      <td>255</td>\n",
       "    </tr>\n",
       "    <tr>\n",
       "      <th>55</th>\n",
       "      <td>1585689303</td>\n",
       "      <td>253</td>\n",
       "    </tr>\n",
       "    <tr>\n",
       "      <th>56</th>\n",
       "      <td>870330384</td>\n",
       "      <td>253</td>\n",
       "    </tr>\n",
       "    <tr>\n",
       "      <th>57</th>\n",
       "      <td>982799167</td>\n",
       "      <td>251</td>\n",
       "    </tr>\n",
       "    <tr>\n",
       "      <th>58</th>\n",
       "      <td>448193529</td>\n",
       "      <td>251</td>\n",
       "    </tr>\n",
       "    <tr>\n",
       "      <th>59</th>\n",
       "      <td>1617330386</td>\n",
       "      <td>251</td>\n",
       "    </tr>\n",
       "    <tr>\n",
       "      <th>60</th>\n",
       "      <td>1991343787</td>\n",
       "      <td>250</td>\n",
       "    </tr>\n",
       "    <tr>\n",
       "      <th>61</th>\n",
       "      <td>1711763367</td>\n",
       "      <td>250</td>\n",
       "    </tr>\n",
       "    <tr>\n",
       "      <th>62</th>\n",
       "      <td>78746375</td>\n",
       "      <td>250</td>\n",
       "    </tr>\n",
       "    <tr>\n",
       "      <th>63</th>\n",
       "      <td>1057531137</td>\n",
       "      <td>250</td>\n",
       "    </tr>\n",
       "    <tr>\n",
       "      <th>64</th>\n",
       "      <td>266177441</td>\n",
       "      <td>250</td>\n",
       "    </tr>\n",
       "    <tr>\n",
       "      <th>65</th>\n",
       "      <td>1885174788</td>\n",
       "      <td>249</td>\n",
       "    </tr>\n",
       "    <tr>\n",
       "      <th>66</th>\n",
       "      <td>179166721</td>\n",
       "      <td>249</td>\n",
       "    </tr>\n",
       "    <tr>\n",
       "      <th>67</th>\n",
       "      <td>949653604</td>\n",
       "      <td>248</td>\n",
       "    </tr>\n",
       "    <tr>\n",
       "      <th>68</th>\n",
       "      <td>1789975458</td>\n",
       "      <td>248</td>\n",
       "    </tr>\n",
       "    <tr>\n",
       "      <th>69</th>\n",
       "      <td>40224694</td>\n",
       "      <td>248</td>\n",
       "    </tr>\n",
       "    <tr>\n",
       "      <th>70</th>\n",
       "      <td>752628933</td>\n",
       "      <td>247</td>\n",
       "    </tr>\n",
       "    <tr>\n",
       "      <th>71</th>\n",
       "      <td>601595056</td>\n",
       "      <td>246</td>\n",
       "    </tr>\n",
       "    <tr>\n",
       "      <th>72</th>\n",
       "      <td>311873587</td>\n",
       "      <td>245</td>\n",
       "    </tr>\n",
       "    <tr>\n",
       "      <th>73</th>\n",
       "      <td>1489487053</td>\n",
       "      <td>245</td>\n",
       "    </tr>\n",
       "    <tr>\n",
       "      <th>74</th>\n",
       "      <td>1011114174</td>\n",
       "      <td>244</td>\n",
       "    </tr>\n",
       "    <tr>\n",
       "      <th>75</th>\n",
       "      <td>21478365</td>\n",
       "      <td>242</td>\n",
       "    </tr>\n",
       "    <tr>\n",
       "      <th>76</th>\n",
       "      <td>1050893437</td>\n",
       "      <td>241</td>\n",
       "    </tr>\n",
       "    <tr>\n",
       "      <th>77</th>\n",
       "      <td>1254701614</td>\n",
       "      <td>241</td>\n",
       "    </tr>\n",
       "    <tr>\n",
       "      <th>78</th>\n",
       "      <td>237670867</td>\n",
       "      <td>240</td>\n",
       "    </tr>\n",
       "    <tr>\n",
       "      <th>79</th>\n",
       "      <td>1249200523</td>\n",
       "      <td>240</td>\n",
       "    </tr>\n",
       "    <tr>\n",
       "      <th>80</th>\n",
       "      <td>2085205424</td>\n",
       "      <td>239</td>\n",
       "    </tr>\n",
       "    <tr>\n",
       "      <th>81</th>\n",
       "      <td>1684314896</td>\n",
       "      <td>239</td>\n",
       "    </tr>\n",
       "    <tr>\n",
       "      <th>82</th>\n",
       "      <td>917146905</td>\n",
       "      <td>239</td>\n",
       "    </tr>\n",
       "    <tr>\n",
       "      <th>83</th>\n",
       "      <td>1715874750</td>\n",
       "      <td>238</td>\n",
       "    </tr>\n",
       "    <tr>\n",
       "      <th>84</th>\n",
       "      <td>984324327</td>\n",
       "      <td>238</td>\n",
       "    </tr>\n",
       "    <tr>\n",
       "      <th>85</th>\n",
       "      <td>1065666280</td>\n",
       "      <td>237</td>\n",
       "    </tr>\n",
       "    <tr>\n",
       "      <th>86</th>\n",
       "      <td>1497685179</td>\n",
       "      <td>236</td>\n",
       "    </tr>\n",
       "    <tr>\n",
       "      <th>87</th>\n",
       "      <td>2046759203</td>\n",
       "      <td>236</td>\n",
       "    </tr>\n",
       "    <tr>\n",
       "      <th>88</th>\n",
       "      <td>2066553825</td>\n",
       "      <td>236</td>\n",
       "    </tr>\n",
       "    <tr>\n",
       "      <th>89</th>\n",
       "      <td>1960008154</td>\n",
       "      <td>235</td>\n",
       "    </tr>\n",
       "    <tr>\n",
       "      <th>90</th>\n",
       "      <td>2048349971</td>\n",
       "      <td>235</td>\n",
       "    </tr>\n",
       "    <tr>\n",
       "      <th>91</th>\n",
       "      <td>66756934</td>\n",
       "      <td>234</td>\n",
       "    </tr>\n",
       "    <tr>\n",
       "      <th>92</th>\n",
       "      <td>859858156</td>\n",
       "      <td>234</td>\n",
       "    </tr>\n",
       "    <tr>\n",
       "      <th>93</th>\n",
       "      <td>589919004</td>\n",
       "      <td>233</td>\n",
       "    </tr>\n",
       "    <tr>\n",
       "      <th>94</th>\n",
       "      <td>1646268151</td>\n",
       "      <td>233</td>\n",
       "    </tr>\n",
       "    <tr>\n",
       "      <th>95</th>\n",
       "      <td>1855499594</td>\n",
       "      <td>231</td>\n",
       "    </tr>\n",
       "    <tr>\n",
       "      <th>96</th>\n",
       "      <td>80655348</td>\n",
       "      <td>231</td>\n",
       "    </tr>\n",
       "    <tr>\n",
       "      <th>97</th>\n",
       "      <td>2013211642</td>\n",
       "      <td>231</td>\n",
       "    </tr>\n",
       "    <tr>\n",
       "      <th>98</th>\n",
       "      <td>1845771272</td>\n",
       "      <td>231</td>\n",
       "    </tr>\n",
       "    <tr>\n",
       "      <th>99</th>\n",
       "      <td>637024641</td>\n",
       "      <td>230</td>\n",
       "    </tr>\n",
       "    <tr>\n",
       "      <th>100</th>\n",
       "      <td>1743444187</td>\n",
       "      <td>230</td>\n",
       "    </tr>\n",
       "    <tr>\n",
       "      <th>101</th>\n",
       "      <td>1909183937</td>\n",
       "      <td>229</td>\n",
       "    </tr>\n",
       "    <tr>\n",
       "      <th>102</th>\n",
       "      <td>1388011101</td>\n",
       "      <td>228</td>\n",
       "    </tr>\n",
       "    <tr>\n",
       "      <th>103</th>\n",
       "      <td>1775472333</td>\n",
       "      <td>228</td>\n",
       "    </tr>\n",
       "    <tr>\n",
       "      <th>104</th>\n",
       "      <td>1175507548</td>\n",
       "      <td>227</td>\n",
       "    </tr>\n",
       "    <tr>\n",
       "      <th>105</th>\n",
       "      <td>680002984</td>\n",
       "      <td>227</td>\n",
       "    </tr>\n",
       "    <tr>\n",
       "      <th>106</th>\n",
       "      <td>926750008</td>\n",
       "      <td>227</td>\n",
       "    </tr>\n",
       "    <tr>\n",
       "      <th>107</th>\n",
       "      <td>894881938</td>\n",
       "      <td>226</td>\n",
       "    </tr>\n",
       "    <tr>\n",
       "      <th>108</th>\n",
       "      <td>675552772</td>\n",
       "      <td>226</td>\n",
       "    </tr>\n",
       "    <tr>\n",
       "      <th>109</th>\n",
       "      <td>743740413</td>\n",
       "      <td>226</td>\n",
       "    </tr>\n",
       "    <tr>\n",
       "      <th>110</th>\n",
       "      <td>1246623759</td>\n",
       "      <td>225</td>\n",
       "    </tr>\n",
       "    <tr>\n",
       "      <th>111</th>\n",
       "      <td>737451118</td>\n",
       "      <td>225</td>\n",
       "    </tr>\n",
       "    <tr>\n",
       "      <th>112</th>\n",
       "      <td>821236639</td>\n",
       "      <td>224</td>\n",
       "    </tr>\n",
       "    <tr>\n",
       "      <th>113</th>\n",
       "      <td>1277204940</td>\n",
       "      <td>224</td>\n",
       "    </tr>\n",
       "    <tr>\n",
       "      <th>114</th>\n",
       "      <td>594958457</td>\n",
       "      <td>223</td>\n",
       "    </tr>\n",
       "    <tr>\n",
       "      <th>115</th>\n",
       "      <td>923462708</td>\n",
       "      <td>223</td>\n",
       "    </tr>\n",
       "    <tr>\n",
       "      <th>116</th>\n",
       "      <td>140804458</td>\n",
       "      <td>222</td>\n",
       "    </tr>\n",
       "    <tr>\n",
       "      <th>117</th>\n",
       "      <td>1607744378</td>\n",
       "      <td>222</td>\n",
       "    </tr>\n",
       "    <tr>\n",
       "      <th>118</th>\n",
       "      <td>634707013</td>\n",
       "      <td>222</td>\n",
       "    </tr>\n",
       "    <tr>\n",
       "      <th>119</th>\n",
       "      <td>856894755</td>\n",
       "      <td>222</td>\n",
       "    </tr>\n",
       "    <tr>\n",
       "      <th>120</th>\n",
       "      <td>927919260</td>\n",
       "      <td>222</td>\n",
       "    </tr>\n",
       "    <tr>\n",
       "      <th>121</th>\n",
       "      <td>2106150194</td>\n",
       "      <td>222</td>\n",
       "    </tr>\n",
       "    <tr>\n",
       "      <th>122</th>\n",
       "      <td>1551089977</td>\n",
       "      <td>222</td>\n",
       "    </tr>\n",
       "    <tr>\n",
       "      <th>123</th>\n",
       "      <td>2146130037</td>\n",
       "      <td>222</td>\n",
       "    </tr>\n",
       "    <tr>\n",
       "      <th>124</th>\n",
       "      <td>9418512</td>\n",
       "      <td>221</td>\n",
       "    </tr>\n",
       "    <tr>\n",
       "      <th>125</th>\n",
       "      <td>1143668148</td>\n",
       "      <td>221</td>\n",
       "    </tr>\n",
       "    <tr>\n",
       "      <th>126</th>\n",
       "      <td>1691870871</td>\n",
       "      <td>220</td>\n",
       "    </tr>\n",
       "    <tr>\n",
       "      <th>127</th>\n",
       "      <td>302279895</td>\n",
       "      <td>220</td>\n",
       "    </tr>\n",
       "    <tr>\n",
       "      <th>128</th>\n",
       "      <td>887148730</td>\n",
       "      <td>220</td>\n",
       "    </tr>\n",
       "    <tr>\n",
       "      <th>129</th>\n",
       "      <td>177898308</td>\n",
       "      <td>220</td>\n",
       "    </tr>\n",
       "    <tr>\n",
       "      <th>130</th>\n",
       "      <td>1178051538</td>\n",
       "      <td>219</td>\n",
       "    </tr>\n",
       "    <tr>\n",
       "      <th>131</th>\n",
       "      <td>1890647047</td>\n",
       "      <td>219</td>\n",
       "    </tr>\n",
       "    <tr>\n",
       "      <th>132</th>\n",
       "      <td>659206129</td>\n",
       "      <td>219</td>\n",
       "    </tr>\n",
       "    <tr>\n",
       "      <th>133</th>\n",
       "      <td>1925125619</td>\n",
       "      <td>218</td>\n",
       "    </tr>\n",
       "    <tr>\n",
       "      <th>134</th>\n",
       "      <td>197212993</td>\n",
       "      <td>218</td>\n",
       "    </tr>\n",
       "    <tr>\n",
       "      <th>135</th>\n",
       "      <td>146277388</td>\n",
       "      <td>218</td>\n",
       "    </tr>\n",
       "    <tr>\n",
       "      <th>136</th>\n",
       "      <td>1362530215</td>\n",
       "      <td>218</td>\n",
       "    </tr>\n",
       "    <tr>\n",
       "      <th>137</th>\n",
       "      <td>1451132808</td>\n",
       "      <td>217</td>\n",
       "    </tr>\n",
       "    <tr>\n",
       "      <th>138</th>\n",
       "      <td>2027530632</td>\n",
       "      <td>217</td>\n",
       "    </tr>\n",
       "    <tr>\n",
       "      <th>139</th>\n",
       "      <td>1946535291</td>\n",
       "      <td>217</td>\n",
       "    </tr>\n",
       "    <tr>\n",
       "      <th>140</th>\n",
       "      <td>151754001</td>\n",
       "      <td>216</td>\n",
       "    </tr>\n",
       "    <tr>\n",
       "      <th>141</th>\n",
       "      <td>383318667</td>\n",
       "      <td>216</td>\n",
       "    </tr>\n",
       "    <tr>\n",
       "      <th>142</th>\n",
       "      <td>1666928127</td>\n",
       "      <td>215</td>\n",
       "    </tr>\n",
       "    <tr>\n",
       "      <th>143</th>\n",
       "      <td>523178045</td>\n",
       "      <td>215</td>\n",
       "    </tr>\n",
       "    <tr>\n",
       "      <th>144</th>\n",
       "      <td>1336891279</td>\n",
       "      <td>213</td>\n",
       "    </tr>\n",
       "    <tr>\n",
       "      <th>145</th>\n",
       "      <td>688783730</td>\n",
       "      <td>213</td>\n",
       "    </tr>\n",
       "    <tr>\n",
       "      <th>146</th>\n",
       "      <td>1280271547</td>\n",
       "      <td>212</td>\n",
       "    </tr>\n",
       "    <tr>\n",
       "      <th>147</th>\n",
       "      <td>228942244</td>\n",
       "      <td>212</td>\n",
       "    </tr>\n",
       "    <tr>\n",
       "      <th>148</th>\n",
       "      <td>1322798662</td>\n",
       "      <td>212</td>\n",
       "    </tr>\n",
       "    <tr>\n",
       "      <th>149</th>\n",
       "      <td>1434268900</td>\n",
       "      <td>212</td>\n",
       "    </tr>\n",
       "    <tr>\n",
       "      <th>150</th>\n",
       "      <td>1138637073</td>\n",
       "      <td>212</td>\n",
       "    </tr>\n",
       "    <tr>\n",
       "      <th>151</th>\n",
       "      <td>1631024157</td>\n",
       "      <td>212</td>\n",
       "    </tr>\n",
       "    <tr>\n",
       "      <th>152</th>\n",
       "      <td>681439144</td>\n",
       "      <td>211</td>\n",
       "    </tr>\n",
       "    <tr>\n",
       "      <th>153</th>\n",
       "      <td>349737886</td>\n",
       "      <td>211</td>\n",
       "    </tr>\n",
       "    <tr>\n",
       "      <th>154</th>\n",
       "      <td>890948103</td>\n",
       "      <td>210</td>\n",
       "    </tr>\n",
       "    <tr>\n",
       "      <th>155</th>\n",
       "      <td>674059223</td>\n",
       "      <td>210</td>\n",
       "    </tr>\n",
       "    <tr>\n",
       "      <th>156</th>\n",
       "      <td>704477540</td>\n",
       "      <td>210</td>\n",
       "    </tr>\n",
       "    <tr>\n",
       "      <th>157</th>\n",
       "      <td>152716286</td>\n",
       "      <td>210</td>\n",
       "    </tr>\n",
       "    <tr>\n",
       "      <th>158</th>\n",
       "      <td>187897716</td>\n",
       "      <td>210</td>\n",
       "    </tr>\n",
       "    <tr>\n",
       "      <th>159</th>\n",
       "      <td>498127773</td>\n",
       "      <td>210</td>\n",
       "    </tr>\n",
       "    <tr>\n",
       "      <th>160</th>\n",
       "      <td>1895801597</td>\n",
       "      <td>210</td>\n",
       "    </tr>\n",
       "    <tr>\n",
       "      <th>161</th>\n",
       "      <td>1810191310</td>\n",
       "      <td>210</td>\n",
       "    </tr>\n",
       "    <tr>\n",
       "      <th>162</th>\n",
       "      <td>1744560980</td>\n",
       "      <td>210</td>\n",
       "    </tr>\n",
       "    <tr>\n",
       "      <th>163</th>\n",
       "      <td>1790448705</td>\n",
       "      <td>210</td>\n",
       "    </tr>\n",
       "    <tr>\n",
       "      <th>164</th>\n",
       "      <td>1261090344</td>\n",
       "      <td>210</td>\n",
       "    </tr>\n",
       "    <tr>\n",
       "      <th>165</th>\n",
       "      <td>325608238</td>\n",
       "      <td>209</td>\n",
       "    </tr>\n",
       "    <tr>\n",
       "      <th>166</th>\n",
       "      <td>1114635318</td>\n",
       "      <td>209</td>\n",
       "    </tr>\n",
       "    <tr>\n",
       "      <th>167</th>\n",
       "      <td>1008459064</td>\n",
       "      <td>209</td>\n",
       "    </tr>\n",
       "    <tr>\n",
       "      <th>168</th>\n",
       "      <td>1910440848</td>\n",
       "      <td>208</td>\n",
       "    </tr>\n",
       "    <tr>\n",
       "      <th>169</th>\n",
       "      <td>468630264</td>\n",
       "      <td>208</td>\n",
       "    </tr>\n",
       "    <tr>\n",
       "      <th>170</th>\n",
       "      <td>219329529</td>\n",
       "      <td>208</td>\n",
       "    </tr>\n",
       "    <tr>\n",
       "      <th>171</th>\n",
       "      <td>633187476</td>\n",
       "      <td>208</td>\n",
       "    </tr>\n",
       "    <tr>\n",
       "      <th>172</th>\n",
       "      <td>1591915333</td>\n",
       "      <td>208</td>\n",
       "    </tr>\n",
       "    <tr>\n",
       "      <th>173</th>\n",
       "      <td>533356822</td>\n",
       "      <td>207</td>\n",
       "    </tr>\n",
       "    <tr>\n",
       "      <th>174</th>\n",
       "      <td>749590636</td>\n",
       "      <td>207</td>\n",
       "    </tr>\n",
       "    <tr>\n",
       "      <th>175</th>\n",
       "      <td>1230466169</td>\n",
       "      <td>207</td>\n",
       "    </tr>\n",
       "    <tr>\n",
       "      <th>176</th>\n",
       "      <td>1546797887</td>\n",
       "      <td>206</td>\n",
       "    </tr>\n",
       "    <tr>\n",
       "      <th>177</th>\n",
       "      <td>39058542</td>\n",
       "      <td>206</td>\n",
       "    </tr>\n",
       "    <tr>\n",
       "      <th>178</th>\n",
       "      <td>915035792</td>\n",
       "      <td>206</td>\n",
       "    </tr>\n",
       "    <tr>\n",
       "      <th>179</th>\n",
       "      <td>1588901629</td>\n",
       "      <td>205</td>\n",
       "    </tr>\n",
       "    <tr>\n",
       "      <th>180</th>\n",
       "      <td>2017360622</td>\n",
       "      <td>205</td>\n",
       "    </tr>\n",
       "    <tr>\n",
       "      <th>181</th>\n",
       "      <td>510966075</td>\n",
       "      <td>205</td>\n",
       "    </tr>\n",
       "    <tr>\n",
       "      <th>182</th>\n",
       "      <td>1902193495</td>\n",
       "      <td>204</td>\n",
       "    </tr>\n",
       "    <tr>\n",
       "      <th>183</th>\n",
       "      <td>561362925</td>\n",
       "      <td>204</td>\n",
       "    </tr>\n",
       "    <tr>\n",
       "      <th>184</th>\n",
       "      <td>1050734046</td>\n",
       "      <td>204</td>\n",
       "    </tr>\n",
       "    <tr>\n",
       "      <th>185</th>\n",
       "      <td>274847391</td>\n",
       "      <td>204</td>\n",
       "    </tr>\n",
       "    <tr>\n",
       "      <th>186</th>\n",
       "      <td>945115285</td>\n",
       "      <td>204</td>\n",
       "    </tr>\n",
       "    <tr>\n",
       "      <th>187</th>\n",
       "      <td>1516972072</td>\n",
       "      <td>204</td>\n",
       "    </tr>\n",
       "    <tr>\n",
       "      <th>188</th>\n",
       "      <td>2052063543</td>\n",
       "      <td>204</td>\n",
       "    </tr>\n",
       "    <tr>\n",
       "      <th>189</th>\n",
       "      <td>542145757</td>\n",
       "      <td>203</td>\n",
       "    </tr>\n",
       "    <tr>\n",
       "      <th>190</th>\n",
       "      <td>673486079</td>\n",
       "      <td>203</td>\n",
       "    </tr>\n",
       "    <tr>\n",
       "      <th>191</th>\n",
       "      <td>753136741</td>\n",
       "      <td>203</td>\n",
       "    </tr>\n",
       "    <tr>\n",
       "      <th>192</th>\n",
       "      <td>1681025390</td>\n",
       "      <td>203</td>\n",
       "    </tr>\n",
       "    <tr>\n",
       "      <th>193</th>\n",
       "      <td>581444733</td>\n",
       "      <td>202</td>\n",
       "    </tr>\n",
       "    <tr>\n",
       "      <th>194</th>\n",
       "      <td>647624821</td>\n",
       "      <td>202</td>\n",
       "    </tr>\n",
       "    <tr>\n",
       "      <th>195</th>\n",
       "      <td>1743383962</td>\n",
       "      <td>202</td>\n",
       "    </tr>\n",
       "    <tr>\n",
       "      <th>196</th>\n",
       "      <td>1818053521</td>\n",
       "      <td>202</td>\n",
       "    </tr>\n",
       "    <tr>\n",
       "      <th>197</th>\n",
       "      <td>2043239975</td>\n",
       "      <td>202</td>\n",
       "    </tr>\n",
       "    <tr>\n",
       "      <th>198</th>\n",
       "      <td>949559656</td>\n",
       "      <td>202</td>\n",
       "    </tr>\n",
       "    <tr>\n",
       "      <th>199</th>\n",
       "      <td>66439738</td>\n",
       "      <td>202</td>\n",
       "    </tr>\n",
       "    <tr>\n",
       "      <th>200</th>\n",
       "      <td>558001119</td>\n",
       "      <td>202</td>\n",
       "    </tr>\n",
       "    <tr>\n",
       "      <th>201</th>\n",
       "      <td>1456724937</td>\n",
       "      <td>201</td>\n",
       "    </tr>\n",
       "    <tr>\n",
       "      <th>202</th>\n",
       "      <td>292688440</td>\n",
       "      <td>201</td>\n",
       "    </tr>\n",
       "    <tr>\n",
       "      <th>203</th>\n",
       "      <td>754939115</td>\n",
       "      <td>201</td>\n",
       "    </tr>\n",
       "    <tr>\n",
       "      <th>204</th>\n",
       "      <td>1048390336</td>\n",
       "      <td>201</td>\n",
       "    </tr>\n",
       "    <tr>\n",
       "      <th>205</th>\n",
       "      <td>1467491321</td>\n",
       "      <td>200</td>\n",
       "    </tr>\n",
       "    <tr>\n",
       "      <th>206</th>\n",
       "      <td>65235770</td>\n",
       "      <td>200</td>\n",
       "    </tr>\n",
       "    <tr>\n",
       "      <th>207</th>\n",
       "      <td>619582916</td>\n",
       "      <td>200</td>\n",
       "    </tr>\n",
       "    <tr>\n",
       "      <th>208</th>\n",
       "      <td>424863093</td>\n",
       "      <td>200</td>\n",
       "    </tr>\n",
       "    <tr>\n",
       "      <th>209</th>\n",
       "      <td>1430438958</td>\n",
       "      <td>200</td>\n",
       "    </tr>\n",
       "    <tr>\n",
       "      <th>210</th>\n",
       "      <td>2042598372</td>\n",
       "      <td>200</td>\n",
       "    </tr>\n",
       "    <tr>\n",
       "      <th>211</th>\n",
       "      <td>1494396452</td>\n",
       "      <td>200</td>\n",
       "    </tr>\n",
       "  </tbody>\n",
       "</table>\n",
       "</div>"
      ],
      "text/plain": [
       "        user_id  lec_num\n",
       "0     372519499      397\n",
       "1     353540103      395\n",
       "2     105239469      389\n",
       "3    1066383521      386\n",
       "4    2066672014      386\n",
       "5     194669131      385\n",
       "6    1109748920      379\n",
       "7     499347415      377\n",
       "8    1660941992      368\n",
       "9     617553217      363\n",
       "10   2126450600      331\n",
       "11   1471961784      328\n",
       "12   1822049140      321\n",
       "13    543872492      319\n",
       "14   1842816145      318\n",
       "15   1591307821      314\n",
       "16     73289878      309\n",
       "17    801103753      308\n",
       "18     19594546      306\n",
       "19   1885938019      305\n",
       "20   2053461581      303\n",
       "21   1170061539      301\n",
       "22    817562598      295\n",
       "23   1106635691      292\n",
       "24   2019060752      290\n",
       "25    984283195      287\n",
       "26    270648383      285\n",
       "27   1579080070      283\n",
       "28   1647693501      280\n",
       "29   1340545976      279\n",
       "30    840609943      277\n",
       "31    748264128      277\n",
       "32   2147012157      277\n",
       "33    418450893      276\n",
       "34    796163934      276\n",
       "35   1628208000      274\n",
       "36    334983695      274\n",
       "37    432948231      271\n",
       "38    777265903      269\n",
       "39    759303007      269\n",
       "40    876029203      268\n",
       "41   1911961857      267\n",
       "42   1892339121      266\n",
       "43    941178541      265\n",
       "44    568340409      265\n",
       "45   1541420520      263\n",
       "46   1409311952      263\n",
       "47    600233417      263\n",
       "48    557534472      260\n",
       "49   1962284087      259\n",
       "50   1117971667      259\n",
       "51   2026632072      257\n",
       "52    252577391      257\n",
       "53   1504754245      255\n",
       "54   1554140383      255\n",
       "55   1585689303      253\n",
       "56    870330384      253\n",
       "57    982799167      251\n",
       "58    448193529      251\n",
       "59   1617330386      251\n",
       "60   1991343787      250\n",
       "61   1711763367      250\n",
       "62     78746375      250\n",
       "63   1057531137      250\n",
       "64    266177441      250\n",
       "65   1885174788      249\n",
       "66    179166721      249\n",
       "67    949653604      248\n",
       "68   1789975458      248\n",
       "69     40224694      248\n",
       "70    752628933      247\n",
       "71    601595056      246\n",
       "72    311873587      245\n",
       "73   1489487053      245\n",
       "74   1011114174      244\n",
       "75     21478365      242\n",
       "76   1050893437      241\n",
       "77   1254701614      241\n",
       "78    237670867      240\n",
       "79   1249200523      240\n",
       "80   2085205424      239\n",
       "81   1684314896      239\n",
       "82    917146905      239\n",
       "83   1715874750      238\n",
       "84    984324327      238\n",
       "85   1065666280      237\n",
       "86   1497685179      236\n",
       "87   2046759203      236\n",
       "88   2066553825      236\n",
       "89   1960008154      235\n",
       "90   2048349971      235\n",
       "91     66756934      234\n",
       "92    859858156      234\n",
       "93    589919004      233\n",
       "94   1646268151      233\n",
       "95   1855499594      231\n",
       "96     80655348      231\n",
       "97   2013211642      231\n",
       "98   1845771272      231\n",
       "99    637024641      230\n",
       "100  1743444187      230\n",
       "101  1909183937      229\n",
       "102  1388011101      228\n",
       "103  1775472333      228\n",
       "104  1175507548      227\n",
       "105   680002984      227\n",
       "106   926750008      227\n",
       "107   894881938      226\n",
       "108   675552772      226\n",
       "109   743740413      226\n",
       "110  1246623759      225\n",
       "111   737451118      225\n",
       "112   821236639      224\n",
       "113  1277204940      224\n",
       "114   594958457      223\n",
       "115   923462708      223\n",
       "116   140804458      222\n",
       "117  1607744378      222\n",
       "118   634707013      222\n",
       "119   856894755      222\n",
       "120   927919260      222\n",
       "121  2106150194      222\n",
       "122  1551089977      222\n",
       "123  2146130037      222\n",
       "124     9418512      221\n",
       "125  1143668148      221\n",
       "126  1691870871      220\n",
       "127   302279895      220\n",
       "128   887148730      220\n",
       "129   177898308      220\n",
       "130  1178051538      219\n",
       "131  1890647047      219\n",
       "132   659206129      219\n",
       "133  1925125619      218\n",
       "134   197212993      218\n",
       "135   146277388      218\n",
       "136  1362530215      218\n",
       "137  1451132808      217\n",
       "138  2027530632      217\n",
       "139  1946535291      217\n",
       "140   151754001      216\n",
       "141   383318667      216\n",
       "142  1666928127      215\n",
       "143   523178045      215\n",
       "144  1336891279      213\n",
       "145   688783730      213\n",
       "146  1280271547      212\n",
       "147   228942244      212\n",
       "148  1322798662      212\n",
       "149  1434268900      212\n",
       "150  1138637073      212\n",
       "151  1631024157      212\n",
       "152   681439144      211\n",
       "153   349737886      211\n",
       "154   890948103      210\n",
       "155   674059223      210\n",
       "156   704477540      210\n",
       "157   152716286      210\n",
       "158   187897716      210\n",
       "159   498127773      210\n",
       "160  1895801597      210\n",
       "161  1810191310      210\n",
       "162  1744560980      210\n",
       "163  1790448705      210\n",
       "164  1261090344      210\n",
       "165   325608238      209\n",
       "166  1114635318      209\n",
       "167  1008459064      209\n",
       "168  1910440848      208\n",
       "169   468630264      208\n",
       "170   219329529      208\n",
       "171   633187476      208\n",
       "172  1591915333      208\n",
       "173   533356822      207\n",
       "174   749590636      207\n",
       "175  1230466169      207\n",
       "176  1546797887      206\n",
       "177    39058542      206\n",
       "178   915035792      206\n",
       "179  1588901629      205\n",
       "180  2017360622      205\n",
       "181   510966075      205\n",
       "182  1902193495      204\n",
       "183   561362925      204\n",
       "184  1050734046      204\n",
       "185   274847391      204\n",
       "186   945115285      204\n",
       "187  1516972072      204\n",
       "188  2052063543      204\n",
       "189   542145757      203\n",
       "190   673486079      203\n",
       "191   753136741      203\n",
       "192  1681025390      203\n",
       "193   581444733      202\n",
       "194   647624821      202\n",
       "195  1743383962      202\n",
       "196  1818053521      202\n",
       "197  2043239975      202\n",
       "198   949559656      202\n",
       "199    66439738      202\n",
       "200   558001119      202\n",
       "201  1456724937      201\n",
       "202   292688440      201\n",
       "203   754939115      201\n",
       "204  1048390336      201\n",
       "205  1467491321      200\n",
       "206    65235770      200\n",
       "207   619582916      200\n",
       "208   424863093      200\n",
       "209  1430438958      200\n",
       "210  2042598372      200\n",
       "211  1494396452      200"
      ]
     },
     "execution_count": 49,
     "metadata": {},
     "output_type": "execute_result"
    }
   ],
   "source": [
    "tmp = train_lec.user_id.value_counts().reset_index(drop=False)\n",
    "tmp.columns = [\"user_id\", \"lec_num\"]\n",
    "tmp[tmp.lec_num>=200]"
   ]
  },
  {
   "cell_type": "code",
   "execution_count": 50,
   "metadata": {
    "execution": {
     "iopub.execute_input": "2020-12-06T10:56:08.618819Z",
     "iopub.status.busy": "2020-12-06T10:56:08.617441Z",
     "iopub.status.idle": "2020-12-06T10:56:09.602110Z",
     "shell.execute_reply": "2020-12-06T10:56:09.602741Z"
    },
    "papermill": {
     "duration": 1.107848,
     "end_time": "2020-12-06T10:56:09.602899",
     "exception": false,
     "start_time": "2020-12-06T10:56:08.495051",
     "status": "completed"
    },
    "tags": []
   },
   "outputs": [
    {
     "data": {
      "text/plain": [
       "<matplotlib.axes._subplots.AxesSubplot at 0x7f6048bb9750>"
      ]
     },
     "execution_count": 50,
     "metadata": {},
     "output_type": "execute_result"
    },
    {
     "data": {
      "image/png": "[encoded data removed]",
      "text/plain": [
       "<Figure size 432x288 with 1 Axes>"
      ]
     },
     "metadata": {
      "needs_background": "light"
     },
     "output_type": "display_data"
    }
   ],
   "source": [
    "def calc(row):\n",
    "    return len(row[\"tag\"].intersection(row[\"tags\"]))\n",
    "\n",
    "user_id = 2042598372\n",
    "sample_df = train[train.user_id==user_id].copy().reset_index(drop=True)\n",
    "\n",
    "sample_df = sample_df.merge(lectures[[\"lecture_id\", \"tag\"]], left_on=\"content_id\", right_on=\"lecture_id\", how=\"left\")\n",
    "sample_df = pd.merge(sample_df, questions[[\"question_id\", \"part\", \"tags\"]], left_on='content_id', right_on='question_id', how='left', right_index=True).reset_index(drop=True)\n",
    "sample_df.drop([\"question_id\", \"lecture_id\"], axis=1, inplace=True)\n",
    "\n",
    "sample_df[\"tag\"] = sample_df[\"tag\"].astype(str).replace(\"nan\", \"\").cumsum()\n",
    "sample_df[\"tag\"] = sample_df[\"tag\"].apply(lambda x: x.replace('.0', ', '))\n",
    "sample_df[\"tag\"] = sample_df[\"tag\"].apply(lambda x: set(x))\n",
    "sample_df[\"tags\"] = sample_df[\"tags\"].apply(lambda x: str(x).replace(' ', ', '))\n",
    "sample_df[\"tags\"] = sample_df[\"tags\"].apply(lambda x: set(x))\n",
    "\n",
    "sample_df = sample_df[sample_df[\"answered_correctly\"] != -1].reset_index(drop=True)\n",
    "\n",
    "sample_df[\"experience\"] = sample_df.apply(calc, axis=1)\n",
    "sample_df[\"experience\"] = sample_df[\"experience\"].apply(lambda x: 1 if x>=1 else 0)\n",
    "sample_df.drop([\"tag\", \"tags\"], axis=1, inplace=True)\n",
    "tmp = sample_df.groupby([\"experience\"])[\"answered_correctly\"].agg([\"mean\"])\n",
    "tmp.plot()"
   ]
  },
  {
   "cell_type": "markdown",
   "metadata": {
    "papermill": {
     "duration": 0.10446,
     "end_time": "2020-12-06T10:56:09.812908",
     "exception": false,
     "start_time": "2020-12-06T10:56:09.708448",
     "status": "completed"
    },
    "tags": []
   },
   "source": [
    "# questions\n",
    "- questions.csv: metadata for the questions posed to users.\n",
    "- question_id: foreign key for the train/test content_id column, when the content type is question (0).\n",
    "- bundle_id: code for which questions are served together.\n",
    "- correct_answer: the answer to the question. Can be compared with the train user_answer column to check if the user was right.\n",
    "- part: the relevant section of the TOEIC test.\n",
    "- tags: one or more detailed tag codes for the question. The meaning of the tags will not be provided, but these codes are sufficient for clustering the questions together."
   ]
  },
  {
   "cell_type": "code",
   "execution_count": 51,
   "metadata": {
    "execution": {
     "iopub.execute_input": "2020-12-06T10:56:10.037439Z",
     "iopub.status.busy": "2020-12-06T10:56:10.026763Z",
     "iopub.status.idle": "2020-12-06T10:56:10.070200Z",
     "shell.execute_reply": "2020-12-06T10:56:10.069465Z"
    },
    "papermill": {
     "duration": 0.154461,
     "end_time": "2020-12-06T10:56:10.070325",
     "exception": false,
     "start_time": "2020-12-06T10:56:09.915864",
     "status": "completed"
    },
    "tags": []
   },
   "outputs": [
    {
     "data": {
      "text/html": [
       "<div>\n",
       "<style scoped>\n",
       "    .dataframe tbody tr th:only-of-type {\n",
       "        vertical-align: middle;\n",
       "    }\n",
       "\n",
       "    .dataframe tbody tr th {\n",
       "        vertical-align: top;\n",
       "    }\n",
       "\n",
       "    .dataframe thead th {\n",
       "        text-align: right;\n",
       "    }\n",
       "</style>\n",
       "<table border=\"1\" class=\"dataframe\">\n",
       "  <thead>\n",
       "    <tr style=\"text-align: right;\">\n",
       "      <th></th>\n",
       "      <th>question_id</th>\n",
       "      <th>bundle_id</th>\n",
       "      <th>correct_answer</th>\n",
       "      <th>part</th>\n",
       "      <th>tags</th>\n",
       "    </tr>\n",
       "  </thead>\n",
       "  <tbody>\n",
       "    <tr>\n",
       "      <th>0</th>\n",
       "      <td>0</td>\n",
       "      <td>0</td>\n",
       "      <td>0</td>\n",
       "      <td>1</td>\n",
       "      <td>[51, 131, 162, 38]</td>\n",
       "    </tr>\n",
       "    <tr>\n",
       "      <th>1</th>\n",
       "      <td>1</td>\n",
       "      <td>1</td>\n",
       "      <td>1</td>\n",
       "      <td>1</td>\n",
       "      <td>[131, 36, 81]</td>\n",
       "    </tr>\n",
       "    <tr>\n",
       "      <th>2</th>\n",
       "      <td>2</td>\n",
       "      <td>2</td>\n",
       "      <td>0</td>\n",
       "      <td>1</td>\n",
       "      <td>[131, 101, 162, 92]</td>\n",
       "    </tr>\n",
       "    <tr>\n",
       "      <th>3</th>\n",
       "      <td>3</td>\n",
       "      <td>3</td>\n",
       "      <td>0</td>\n",
       "      <td>1</td>\n",
       "      <td>[131, 149, 162, 29]</td>\n",
       "    </tr>\n",
       "    <tr>\n",
       "      <th>4</th>\n",
       "      <td>4</td>\n",
       "      <td>4</td>\n",
       "      <td>3</td>\n",
       "      <td>1</td>\n",
       "      <td>[131, 5, 162, 38]</td>\n",
       "    </tr>\n",
       "  </tbody>\n",
       "</table>\n",
       "</div>"
      ],
      "text/plain": [
       "   question_id  bundle_id  correct_answer  part                 tags\n",
       "0            0          0               0     1   [51, 131, 162, 38]\n",
       "1            1          1               1     1        [131, 36, 81]\n",
       "2            2          2               0     1  [131, 101, 162, 92]\n",
       "3            3          3               0     1  [131, 149, 162, 29]\n",
       "4            4          4               3     1    [131, 5, 162, 38]"
      ]
     },
     "execution_count": 51,
     "metadata": {},
     "output_type": "execute_result"
    }
   ],
   "source": [
    "questions['tags'] = questions['tags'].apply(lambda ts: [int(x) for x in str(ts).split() if x != 'nan'])\n",
    "questions.head()"
   ]
  },
  {
   "cell_type": "code",
   "execution_count": 52,
   "metadata": {
    "execution": {
     "iopub.execute_input": "2020-12-06T10:56:10.284006Z",
     "iopub.status.busy": "2020-12-06T10:56:10.282941Z",
     "iopub.status.idle": "2020-12-06T10:56:10.287404Z",
     "shell.execute_reply": "2020-12-06T10:56:10.286779Z"
    },
    "papermill": {
     "duration": 0.112578,
     "end_time": "2020-12-06T10:56:10.287523",
     "exception": false,
     "start_time": "2020-12-06T10:56:10.174945",
     "status": "completed"
    },
    "tags": []
   },
   "outputs": [
    {
     "data": {
      "text/plain": [
       "(13523, 5)"
      ]
     },
     "execution_count": 52,
     "metadata": {},
     "output_type": "execute_result"
    }
   ],
   "source": [
    "questions.shape"
   ]
  },
  {
   "cell_type": "code",
   "execution_count": 53,
   "metadata": {
    "execution": {
     "iopub.execute_input": "2020-12-06T10:56:10.511414Z",
     "iopub.status.busy": "2020-12-06T10:56:10.501006Z",
     "iopub.status.idle": "2020-12-06T10:56:10.527837Z",
     "shell.execute_reply": "2020-12-06T10:56:10.527201Z"
    },
    "papermill": {
     "duration": 0.136559,
     "end_time": "2020-12-06T10:56:10.527959",
     "exception": false,
     "start_time": "2020-12-06T10:56:10.391400",
     "status": "completed"
    },
    "tags": []
   },
   "outputs": [
    {
     "data": {
      "text/plain": [
       "(6, 0)"
      ]
     },
     "execution_count": 53,
     "metadata": {},
     "output_type": "execute_result"
    }
   ],
   "source": [
    "questions['tags'].apply(lambda x: len(x)).max(), questions['tags'].apply(lambda x: len(x)).min() #max: 6, min: 1"
   ]
  },
  {
   "cell_type": "code",
   "execution_count": 54,
   "metadata": {
    "execution": {
     "iopub.execute_input": "2020-12-06T10:56:10.745468Z",
     "iopub.status.busy": "2020-12-06T10:56:10.742265Z",
     "iopub.status.idle": "2020-12-06T10:56:10.749609Z",
     "shell.execute_reply": "2020-12-06T10:56:10.750156Z"
    },
    "papermill": {
     "duration": 0.117644,
     "end_time": "2020-12-06T10:56:10.750346",
     "exception": false,
     "start_time": "2020-12-06T10:56:10.632702",
     "status": "completed"
    },
    "tags": []
   },
   "outputs": [
    {
     "data": {
      "text/plain": [
       "0    0.274791\n",
       "3    0.262072\n",
       "1    0.257191\n",
       "2    0.205945\n",
       "Name: correct_answer, dtype: float64"
      ]
     },
     "execution_count": 54,
     "metadata": {},
     "output_type": "execute_result"
    }
   ],
   "source": [
    "questions.correct_answer.value_counts(normalize=True) # 2 has the smallest ratio of correct answer"
   ]
  },
  {
   "cell_type": "code",
   "execution_count": 55,
   "metadata": {
    "execution": {
     "iopub.execute_input": "2020-12-06T10:56:10.968403Z",
     "iopub.status.busy": "2020-12-06T10:56:10.967357Z",
     "iopub.status.idle": "2020-12-06T10:56:10.972716Z",
     "shell.execute_reply": "2020-12-06T10:56:10.971967Z"
    },
    "papermill": {
     "duration": 0.117093,
     "end_time": "2020-12-06T10:56:10.972838",
     "exception": false,
     "start_time": "2020-12-06T10:56:10.855745",
     "status": "completed"
    },
    "tags": []
   },
   "outputs": [
    {
     "data": {
      "text/plain": [
       "13523"
      ]
     },
     "execution_count": 55,
     "metadata": {},
     "output_type": "execute_result"
    }
   ],
   "source": [
    "len(questions.question_id.unique())"
   ]
  },
  {
   "cell_type": "code",
   "execution_count": 56,
   "metadata": {
    "execution": {
     "iopub.execute_input": "2020-12-06T10:56:11.195405Z",
     "iopub.status.busy": "2020-12-06T10:56:11.194530Z",
     "iopub.status.idle": "2020-12-06T10:56:11.199226Z",
     "shell.execute_reply": "2020-12-06T10:56:11.198476Z"
    },
    "papermill": {
     "duration": 0.11854,
     "end_time": "2020-12-06T10:56:11.199353",
     "exception": false,
     "start_time": "2020-12-06T10:56:11.080813",
     "status": "completed"
    },
    "tags": []
   },
   "outputs": [
    {
     "data": {
      "text/plain": [
       "question_id       10033\n",
       "bundle_id         10033\n",
       "correct_answer        2\n",
       "part                  6\n",
       "tags                 []\n",
       "Name: 10033, dtype: object"
      ]
     },
     "execution_count": 56,
     "metadata": {},
     "output_type": "execute_result"
    }
   ],
   "source": [
    "#questions[questions['tags'].isna()]\n",
    "questions.iloc[10033][:]"
   ]
  },
  {
   "cell_type": "code",
   "execution_count": 57,
   "metadata": {
    "execution": {
     "iopub.execute_input": "2020-12-06T10:56:11.421364Z",
     "iopub.status.busy": "2020-12-06T10:56:11.418890Z",
     "iopub.status.idle": "2020-12-06T10:56:11.426083Z",
     "shell.execute_reply": "2020-12-06T10:56:11.425373Z"
    },
    "papermill": {
     "duration": 0.120818,
     "end_time": "2020-12-06T10:56:11.426227",
     "exception": false,
     "start_time": "2020-12-06T10:56:11.305409",
     "status": "completed"
    },
    "tags": []
   },
   "outputs": [
    {
     "data": {
      "text/plain": [
       "question_id       0\n",
       "bundle_id         0\n",
       "correct_answer    0\n",
       "part              0\n",
       "tags              0\n",
       "dtype: int64"
      ]
     },
     "execution_count": 57,
     "metadata": {},
     "output_type": "execute_result"
    }
   ],
   "source": [
    "questions.isnull().sum()"
   ]
  },
  {
   "cell_type": "code",
   "execution_count": 58,
   "metadata": {
    "execution": {
     "iopub.execute_input": "2020-12-06T10:56:11.665987Z",
     "iopub.status.busy": "2020-12-06T10:56:11.648749Z",
     "iopub.status.idle": "2020-12-06T10:56:13.297656Z",
     "shell.execute_reply": "2020-12-06T10:56:13.298326Z"
    },
    "papermill": {
     "duration": 1.765863,
     "end_time": "2020-12-06T10:56:13.298494",
     "exception": false,
     "start_time": "2020-12-06T10:56:11.532631",
     "status": "completed"
    },
    "tags": []
   },
   "outputs": [
    {
     "data": {
      "text/html": [
       "<div>\n",
       "<style scoped>\n",
       "    .dataframe tbody tr th:only-of-type {\n",
       "        vertical-align: middle;\n",
       "    }\n",
       "\n",
       "    .dataframe tbody tr th {\n",
       "        vertical-align: top;\n",
       "    }\n",
       "\n",
       "    .dataframe thead th {\n",
       "        text-align: right;\n",
       "    }\n",
       "</style>\n",
       "<table border=\"1\" class=\"dataframe\">\n",
       "  <thead>\n",
       "    <tr style=\"text-align: right;\">\n",
       "      <th></th>\n",
       "      <th>tag</th>\n",
       "      <th>questions</th>\n",
       "    </tr>\n",
       "  </thead>\n",
       "  <tbody>\n",
       "    <tr>\n",
       "      <th>0</th>\n",
       "      <td>51</td>\n",
       "      <td>{0, 12801, 12928, 10628, 11, 12, 12815, 12820,...</td>\n",
       "    </tr>\n",
       "    <tr>\n",
       "      <th>1</th>\n",
       "      <td>131</td>\n",
       "      <td>{0, 1, 2, 3, 4, 5, 8, 10, 11, 12, 13, 14, 16, ...</td>\n",
       "    </tr>\n",
       "    <tr>\n",
       "      <th>2</th>\n",
       "      <td>162</td>\n",
       "      <td>{0, 2, 3, 4, 5, 6, 7, 8, 7330, 17, 2065, 19, 2...</td>\n",
       "    </tr>\n",
       "    <tr>\n",
       "      <th>3</th>\n",
       "      <td>38</td>\n",
       "      <td>{0, 4, 10, 14, 20, 24, 30, 33, 36, 39, 40, 44,...</td>\n",
       "    </tr>\n",
       "    <tr>\n",
       "      <th>4</th>\n",
       "      <td>36</td>\n",
       "      <td>{1, 10, 12811, 7957, 10523, 12835, 10660, 7975...</td>\n",
       "    </tr>\n",
       "  </tbody>\n",
       "</table>\n",
       "</div>"
      ],
      "text/plain": [
       "   tag                                          questions\n",
       "0   51  {0, 12801, 12928, 10628, 11, 12, 12815, 12820,...\n",
       "1  131  {0, 1, 2, 3, 4, 5, 8, 10, 11, 12, 13, 14, 16, ...\n",
       "2  162  {0, 2, 3, 4, 5, 6, 7, 8, 7330, 17, 2065, 19, 2...\n",
       "3   38  {0, 4, 10, 14, 20, 24, 30, 33, 36, 39, 40, 44,...\n",
       "4   36  {1, 10, 12811, 7957, 10523, 12835, 10660, 7975..."
      ]
     },
     "execution_count": 58,
     "metadata": {},
     "output_type": "execute_result"
    }
   ],
   "source": [
    "tag_to_questions = {}\n",
    "for i, row in questions.iterrows():\n",
    "    for t in row['tags']:\n",
    "        if t not in tag_to_questions:\n",
    "            tag_to_questions[t] = set()\n",
    "        tag_to_questions[t].add(row['question_id'])\n",
    "tags_df = pd.DataFrame([{'tag':t,'questions':qs}for t,qs in tag_to_questions.items()])\n",
    "tags_df.head()"
   ]
  },
  {
   "cell_type": "code",
   "execution_count": 59,
   "metadata": {
    "execution": {
     "iopub.execute_input": "2020-12-06T10:56:13.531194Z",
     "iopub.status.busy": "2020-12-06T10:56:13.530035Z",
     "iopub.status.idle": "2020-12-06T10:56:14.004506Z",
     "shell.execute_reply": "2020-12-06T10:56:14.005061Z"
    },
    "papermill": {
     "duration": 0.598977,
     "end_time": "2020-12-06T10:56:14.005248",
     "exception": false,
     "start_time": "2020-12-06T10:56:13.406271",
     "status": "completed"
    },
    "tags": []
   },
   "outputs": [
    {
     "data": {
      "image/png": "[encoded data removed]",
      "text/plain": [
       "<Figure size 432x288 with 1 Axes>"
      ]
     },
     "metadata": {
      "needs_background": "light"
     },
     "output_type": "display_data"
    }
   ],
   "source": [
    "questions['multitag'] = questions['tags'].apply(lambda ts: len(ts)>1)\n",
    "\n",
    "def calc_fract_multitagged(tag_row):\n",
    "    tag_qs = questions[questions['question_id'].isin(tag_row['questions'])]\n",
    "    return tag_qs[tag_qs['multitag']==True].size/tag_qs.size\n",
    "tags_df['fraction_multitagged'] = tags_df.apply(calc_fract_multitagged, axis=1)\n",
    "plt.hist(tags_df['fraction_multitagged'])\n",
    "plt.show()"
   ]
  },
  {
   "cell_type": "code",
   "execution_count": 60,
   "metadata": {
    "execution": {
     "iopub.execute_input": "2020-12-06T10:56:14.231440Z",
     "iopub.status.busy": "2020-12-06T10:56:14.230624Z",
     "iopub.status.idle": "2020-12-06T10:56:14.234034Z",
     "shell.execute_reply": "2020-12-06T10:56:14.233320Z"
    },
    "papermill": {
     "duration": 0.11897,
     "end_time": "2020-12-06T10:56:14.234193",
     "exception": false,
     "start_time": "2020-12-06T10:56:14.115223",
     "status": "completed"
    },
    "tags": []
   },
   "outputs": [],
   "source": [
    "tags_df[\"questions_no\"] = tags_df[\"questions\"].apply(lambda x: len(x))"
   ]
  },
  {
   "cell_type": "code",
   "execution_count": 61,
   "metadata": {
    "execution": {
     "iopub.execute_input": "2020-12-06T10:56:14.608408Z",
     "iopub.status.busy": "2020-12-06T10:56:14.457041Z",
     "iopub.status.idle": "2020-12-06T10:56:14.856150Z",
     "shell.execute_reply": "2020-12-06T10:56:14.855565Z"
    },
    "papermill": {
     "duration": 0.51353,
     "end_time": "2020-12-06T10:56:14.856313",
     "exception": false,
     "start_time": "2020-12-06T10:56:14.342783",
     "status": "completed"
    },
    "tags": []
   },
   "outputs": [
    {
     "data": {
      "text/plain": [
       "<matplotlib.axes._subplots.AxesSubplot at 0x7f604a19ba50>"
      ]
     },
     "execution_count": 61,
     "metadata": {},
     "output_type": "execute_result"
    },
    {
     "data": {
      "image/png": "[encoded data removed]",
      "text/plain": [
       "<Figure size 432x288 with 1 Axes>"
      ]
     },
     "metadata": {
      "needs_background": "light"
     },
     "output_type": "display_data"
    }
   ],
   "source": [
    "sns.distplot(tags_df.questions_no)"
   ]
  },
  {
   "cell_type": "code",
   "execution_count": 62,
   "metadata": {
    "execution": {
     "iopub.execute_input": "2020-12-06T10:56:15.089097Z",
     "iopub.status.busy": "2020-12-06T10:56:15.087585Z",
     "iopub.status.idle": "2020-12-06T10:56:15.456733Z",
     "shell.execute_reply": "2020-12-06T10:56:15.456055Z"
    },
    "papermill": {
     "duration": 0.487469,
     "end_time": "2020-12-06T10:56:15.456867",
     "exception": false,
     "start_time": "2020-12-06T10:56:14.969398",
     "status": "completed"
    },
    "tags": []
   },
   "outputs": [
    {
     "data": {
      "image/png": "[encoded data removed]",
      "text/plain": [
       "<Figure size 432x288 with 1 Axes>"
      ]
     },
     "metadata": {
      "needs_background": "light"
     },
     "output_type": "display_data"
    }
   ],
   "source": [
    "def calc_tag_parts(tag_row):\n",
    "    tag_qs = questions[questions['question_id'].isin(tag_row['questions'])]\n",
    "    return tuple(tag_qs['part'].unique())\n",
    "tags_df['parts'] = tags_df.apply(calc_tag_parts, axis=1)\n",
    "\n",
    "part_sizes = tags_df.groupby('parts').size()\n",
    "plt.bar(range(len(part_sizes)), part_sizes)\n",
    "plt.xticks(range(len(part_sizes)),part_sizes.index, rotation=80)\n",
    "plt.title('number of tags which span a given combination of test parts')\n",
    "plt.show()"
   ]
  },
  {
   "cell_type": "code",
   "execution_count": 63,
   "metadata": {
    "execution": {
     "iopub.execute_input": "2020-12-06T10:56:15.735391Z",
     "iopub.status.busy": "2020-12-06T10:56:15.727778Z",
     "iopub.status.idle": "2020-12-06T10:56:15.743074Z",
     "shell.execute_reply": "2020-12-06T10:56:15.742305Z"
    },
    "papermill": {
     "duration": 0.174505,
     "end_time": "2020-12-06T10:56:15.743220",
     "exception": false,
     "start_time": "2020-12-06T10:56:15.568715",
     "status": "completed"
    },
    "tags": []
   },
   "outputs": [
    {
     "data": {
      "text/html": [
       "<div>\n",
       "<style scoped>\n",
       "    .dataframe tbody tr th:only-of-type {\n",
       "        vertical-align: middle;\n",
       "    }\n",
       "\n",
       "    .dataframe tbody tr th {\n",
       "        vertical-align: top;\n",
       "    }\n",
       "\n",
       "    .dataframe thead th {\n",
       "        text-align: right;\n",
       "    }\n",
       "</style>\n",
       "<table border=\"1\" class=\"dataframe\">\n",
       "  <thead>\n",
       "    <tr style=\"text-align: right;\">\n",
       "      <th></th>\n",
       "      <th>tag</th>\n",
       "      <th>questions</th>\n",
       "      <th>fraction_multitagged</th>\n",
       "      <th>questions_no</th>\n",
       "      <th>parts</th>\n",
       "    </tr>\n",
       "  </thead>\n",
       "  <tbody>\n",
       "    <tr>\n",
       "      <th>0</th>\n",
       "      <td>51</td>\n",
       "      <td>{0, 12801, 12928, 10628, 11, 12, 12815, 12820,...</td>\n",
       "      <td>1.0</td>\n",
       "      <td>71</td>\n",
       "      <td>(1,)</td>\n",
       "    </tr>\n",
       "    <tr>\n",
       "      <th>1</th>\n",
       "      <td>131</td>\n",
       "      <td>{0, 1, 2, 3, 4, 5, 8, 10, 11, 12, 13, 14, 16, ...</td>\n",
       "      <td>1.0</td>\n",
       "      <td>650</td>\n",
       "      <td>(1,)</td>\n",
       "    </tr>\n",
       "    <tr>\n",
       "      <th>2</th>\n",
       "      <td>162</td>\n",
       "      <td>{0, 2, 3, 4, 5, 6, 7, 8, 7330, 17, 2065, 19, 2...</td>\n",
       "      <td>1.0</td>\n",
       "      <td>914</td>\n",
       "      <td>(1, 2, 3, 4, 6, 7)</td>\n",
       "    </tr>\n",
       "    <tr>\n",
       "      <th>3</th>\n",
       "      <td>38</td>\n",
       "      <td>{0, 4, 10, 14, 20, 24, 30, 33, 36, 39, 40, 44,...</td>\n",
       "      <td>1.0</td>\n",
       "      <td>2256</td>\n",
       "      <td>(1, 2, 3, 4)</td>\n",
       "    </tr>\n",
       "    <tr>\n",
       "      <th>4</th>\n",
       "      <td>36</td>\n",
       "      <td>{1, 10, 12811, 7957, 10523, 12835, 10660, 7975...</td>\n",
       "      <td>1.0</td>\n",
       "      <td>35</td>\n",
       "      <td>(1,)</td>\n",
       "    </tr>\n",
       "    <tr>\n",
       "      <th>5</th>\n",
       "      <td>81</td>\n",
       "      <td>{1, 5, 9, 11, 15, 19, 21, 25, 29, 31, 35, 37, ...</td>\n",
       "      <td>1.0</td>\n",
       "      <td>1969</td>\n",
       "      <td>(1, 2, 3, 4)</td>\n",
       "    </tr>\n",
       "    <tr>\n",
       "      <th>6</th>\n",
       "      <td>101</td>\n",
       "      <td>{2, 12802, 12809, 138, 14, 10384, 147, 12822, ...</td>\n",
       "      <td>1.0</td>\n",
       "      <td>52</td>\n",
       "      <td>(1,)</td>\n",
       "    </tr>\n",
       "    <tr>\n",
       "      <th>7</th>\n",
       "      <td>92</td>\n",
       "      <td>{2, 6, 8, 12, 16, 18, 22, 26, 28, 32, 34, 38, ...</td>\n",
       "      <td>1.0</td>\n",
       "      <td>2269</td>\n",
       "      <td>(1, 2, 3, 4)</td>\n",
       "    </tr>\n",
       "    <tr>\n",
       "      <th>8</th>\n",
       "      <td>149</td>\n",
       "      <td>{128, 3, 10500, 5, 12806, 7946, 140, 7949, 128...</td>\n",
       "      <td>1.0</td>\n",
       "      <td>53</td>\n",
       "      <td>(1,)</td>\n",
       "    </tr>\n",
       "    <tr>\n",
       "      <th>9</th>\n",
       "      <td>29</td>\n",
       "      <td>{3, 7, 13, 17, 23, 27, 43, 47, 53, 57, 73, 77,...</td>\n",
       "      <td>1.0</td>\n",
       "      <td>1707</td>\n",
       "      <td>(1, 2, 3, 4)</td>\n",
       "    </tr>\n",
       "    <tr>\n",
       "      <th>10</th>\n",
       "      <td>5</td>\n",
       "      <td>{4, 12805, 13, 12813, 22, 35, 12856, 12872, 75...</td>\n",
       "      <td>1.0</td>\n",
       "      <td>85</td>\n",
       "      <td>(1,)</td>\n",
       "    </tr>\n",
       "    <tr>\n",
       "      <th>11</th>\n",
       "      <td>10</td>\n",
       "      <td>{6, 9, 19, 21, 23, 24, 25, 27, 34, 38, 39, 44,...</td>\n",
       "      <td>1.0</td>\n",
       "      <td>293</td>\n",
       "      <td>(1,)</td>\n",
       "    </tr>\n",
       "    <tr>\n",
       "      <th>12</th>\n",
       "      <td>94</td>\n",
       "      <td>{10496, 6, 10631, 10634, 10507, 142, 10388, 10...</td>\n",
       "      <td>1.0</td>\n",
       "      <td>27</td>\n",
       "      <td>(1,)</td>\n",
       "    </tr>\n",
       "    <tr>\n",
       "      <th>13</th>\n",
       "      <td>61</td>\n",
       "      <td>{12675, 7, 12680, 12683, 12684, 15, 18, 7954, ...</td>\n",
       "      <td>1.0</td>\n",
       "      <td>49</td>\n",
       "      <td>(1,)</td>\n",
       "    </tr>\n",
       "    <tr>\n",
       "      <th>14</th>\n",
       "      <td>110</td>\n",
       "      <td>{12675, 7, 12680, 12683, 12684, 15, 18, 7954, ...</td>\n",
       "      <td>1.0</td>\n",
       "      <td>49</td>\n",
       "      <td>(1,)</td>\n",
       "    </tr>\n",
       "    <tr>\n",
       "      <th>15</th>\n",
       "      <td>13</td>\n",
       "      <td>{12929, 8, 144, 148, 10390, 10525, 29, 7967, 4...</td>\n",
       "      <td>1.0</td>\n",
       "      <td>24</td>\n",
       "      <td>(1,)</td>\n",
       "    </tr>\n",
       "    <tr>\n",
       "      <th>16</th>\n",
       "      <td>164</td>\n",
       "      <td>{7936, 10624, 10625, 12672, 12673, 12676, 1267...</td>\n",
       "      <td>1.0</td>\n",
       "      <td>56</td>\n",
       "      <td>(1,)</td>\n",
       "    </tr>\n",
       "    <tr>\n",
       "      <th>17</th>\n",
       "      <td>99</td>\n",
       "      <td>{10497, 130, 10503, 10637, 10638, 10639, 16, 1...</td>\n",
       "      <td>1.0</td>\n",
       "      <td>36</td>\n",
       "      <td>(1,)</td>\n",
       "    </tr>\n",
       "    <tr>\n",
       "      <th>18</th>\n",
       "      <td>93</td>\n",
       "      <td>{133, 12934, 136, 10509, 7950, 11664, 17, 149,...</td>\n",
       "      <td>1.0</td>\n",
       "      <td>58</td>\n",
       "      <td>(1,)</td>\n",
       "    </tr>\n",
       "    <tr>\n",
       "      <th>19</th>\n",
       "      <td>70</td>\n",
       "      <td>{137, 12681, 10635, 12685, 12686, 10385, 10386...</td>\n",
       "      <td>1.0</td>\n",
       "      <td>46</td>\n",
       "      <td>(1,)</td>\n",
       "    </tr>\n",
       "  </tbody>\n",
       "</table>\n",
       "</div>"
      ],
      "text/plain": [
       "    tag                                          questions  \\\n",
       "0    51  {0, 12801, 12928, 10628, 11, 12, 12815, 12820,...   \n",
       "1   131  {0, 1, 2, 3, 4, 5, 8, 10, 11, 12, 13, 14, 16, ...   \n",
       "2   162  {0, 2, 3, 4, 5, 6, 7, 8, 7330, 17, 2065, 19, 2...   \n",
       "3    38  {0, 4, 10, 14, 20, 24, 30, 33, 36, 39, 40, 44,...   \n",
       "4    36  {1, 10, 12811, 7957, 10523, 12835, 10660, 7975...   \n",
       "5    81  {1, 5, 9, 11, 15, 19, 21, 25, 29, 31, 35, 37, ...   \n",
       "6   101  {2, 12802, 12809, 138, 14, 10384, 147, 12822, ...   \n",
       "7    92  {2, 6, 8, 12, 16, 18, 22, 26, 28, 32, 34, 38, ...   \n",
       "8   149  {128, 3, 10500, 5, 12806, 7946, 140, 7949, 128...   \n",
       "9    29  {3, 7, 13, 17, 23, 27, 43, 47, 53, 57, 73, 77,...   \n",
       "10    5  {4, 12805, 13, 12813, 22, 35, 12856, 12872, 75...   \n",
       "11   10  {6, 9, 19, 21, 23, 24, 25, 27, 34, 38, 39, 44,...   \n",
       "12   94  {10496, 6, 10631, 10634, 10507, 142, 10388, 10...   \n",
       "13   61  {12675, 7, 12680, 12683, 12684, 15, 18, 7954, ...   \n",
       "14  110  {12675, 7, 12680, 12683, 12684, 15, 18, 7954, ...   \n",
       "15   13  {12929, 8, 144, 148, 10390, 10525, 29, 7967, 4...   \n",
       "16  164  {7936, 10624, 10625, 12672, 12673, 12676, 1267...   \n",
       "17   99  {10497, 130, 10503, 10637, 10638, 10639, 16, 1...   \n",
       "18   93  {133, 12934, 136, 10509, 7950, 11664, 17, 149,...   \n",
       "19   70  {137, 12681, 10635, 12685, 12686, 10385, 10386...   \n",
       "\n",
       "    fraction_multitagged  questions_no               parts  \n",
       "0                    1.0            71                (1,)  \n",
       "1                    1.0           650                (1,)  \n",
       "2                    1.0           914  (1, 2, 3, 4, 6, 7)  \n",
       "3                    1.0          2256        (1, 2, 3, 4)  \n",
       "4                    1.0            35                (1,)  \n",
       "5                    1.0          1969        (1, 2, 3, 4)  \n",
       "6                    1.0            52                (1,)  \n",
       "7                    1.0          2269        (1, 2, 3, 4)  \n",
       "8                    1.0            53                (1,)  \n",
       "9                    1.0          1707        (1, 2, 3, 4)  \n",
       "10                   1.0            85                (1,)  \n",
       "11                   1.0           293                (1,)  \n",
       "12                   1.0            27                (1,)  \n",
       "13                   1.0            49                (1,)  \n",
       "14                   1.0            49                (1,)  \n",
       "15                   1.0            24                (1,)  \n",
       "16                   1.0            56                (1,)  \n",
       "17                   1.0            36                (1,)  \n",
       "18                   1.0            58                (1,)  \n",
       "19                   1.0            46                (1,)  "
      ]
     },
     "execution_count": 63,
     "metadata": {},
     "output_type": "execute_result"
    }
   ],
   "source": [
    "tags_df.head(20)"
   ]
  },
  {
   "cell_type": "code",
   "execution_count": 64,
   "metadata": {
    "execution": {
     "iopub.execute_input": "2020-12-06T10:56:16.037668Z",
     "iopub.status.busy": "2020-12-06T10:56:16.013510Z",
     "iopub.status.idle": "2020-12-06T10:56:16.043965Z",
     "shell.execute_reply": "2020-12-06T10:56:16.043072Z"
    },
    "papermill": {
     "duration": 0.171441,
     "end_time": "2020-12-06T10:56:16.044130",
     "exception": false,
     "start_time": "2020-12-06T10:56:15.872689",
     "status": "completed"
    },
    "tags": []
   },
   "outputs": [
    {
     "data": {
      "text/html": [
       "<div>\n",
       "<style scoped>\n",
       "    .dataframe tbody tr th:only-of-type {\n",
       "        vertical-align: middle;\n",
       "    }\n",
       "\n",
       "    .dataframe tbody tr th {\n",
       "        vertical-align: top;\n",
       "    }\n",
       "\n",
       "    .dataframe thead th {\n",
       "        text-align: right;\n",
       "    }\n",
       "</style>\n",
       "<table border=\"1\" class=\"dataframe\">\n",
       "  <thead>\n",
       "    <tr style=\"text-align: right;\">\n",
       "      <th></th>\n",
       "      <th>tag</th>\n",
       "      <th>questions</th>\n",
       "      <th>fraction_multitagged</th>\n",
       "      <th>questions_no</th>\n",
       "      <th>parts</th>\n",
       "    </tr>\n",
       "  </thead>\n",
       "  <tbody>\n",
       "    <tr>\n",
       "      <th>57</th>\n",
       "      <td>74</td>\n",
       "      <td>{2048, 2051, 12291, 2058, 2060, 12300, 12303, ...</td>\n",
       "      <td>1.0</td>\n",
       "      <td>476</td>\n",
       "      <td>(3, 4)</td>\n",
       "    </tr>\n",
       "    <tr>\n",
       "      <th>58</th>\n",
       "      <td>136</td>\n",
       "      <td>{12289, 2050, 2052, 12293, 2054, 2055, 2056, 2...</td>\n",
       "      <td>1.0</td>\n",
       "      <td>1033</td>\n",
       "      <td>(3, 4)</td>\n",
       "    </tr>\n",
       "    <tr>\n",
       "      <th>59</th>\n",
       "      <td>82</td>\n",
       "      <td>{12290, 12292, 12299, 2062, 12305, 2067, 2068,...</td>\n",
       "      <td>1.0</td>\n",
       "      <td>527</td>\n",
       "      <td>(3, 4)</td>\n",
       "    </tr>\n",
       "    <tr>\n",
       "      <th>60</th>\n",
       "      <td>106</td>\n",
       "      <td>{12288, 2049, 2069, 12312, 2075, 12315, 12318,...</td>\n",
       "      <td>1.0</td>\n",
       "      <td>457</td>\n",
       "      <td>(3, 4)</td>\n",
       "    </tr>\n",
       "    <tr>\n",
       "      <th>61</th>\n",
       "      <td>157</td>\n",
       "      <td>{1537, 2053, 3077, 2568, 2059, 1548, 1549, 257...</td>\n",
       "      <td>1.0</td>\n",
       "      <td>206</td>\n",
       "      <td>(3, 4)</td>\n",
       "    </tr>\n",
       "    <tr>\n",
       "      <th>62</th>\n",
       "      <td>113</td>\n",
       "      <td>{3074, 3076, 3079, 3082, 11813, 1575, 11816, 1...</td>\n",
       "      <td>1.0</td>\n",
       "      <td>156</td>\n",
       "      <td>(3, 4)</td>\n",
       "    </tr>\n",
       "    <tr>\n",
       "      <th>63</th>\n",
       "      <td>161</td>\n",
       "      <td>{2561, 2564, 2567, 2570, 2573, 2577, 11795, 25...</td>\n",
       "      <td>1.0</td>\n",
       "      <td>146</td>\n",
       "      <td>(3, 4)</td>\n",
       "    </tr>\n",
       "  </tbody>\n",
       "</table>\n",
       "</div>"
      ],
      "text/plain": [
       "    tag                                          questions  \\\n",
       "57   74  {2048, 2051, 12291, 2058, 2060, 12300, 12303, ...   \n",
       "58  136  {12289, 2050, 2052, 12293, 2054, 2055, 2056, 2...   \n",
       "59   82  {12290, 12292, 12299, 2062, 12305, 2067, 2068,...   \n",
       "60  106  {12288, 2049, 2069, 12312, 2075, 12315, 12318,...   \n",
       "61  157  {1537, 2053, 3077, 2568, 2059, 1548, 1549, 257...   \n",
       "62  113  {3074, 3076, 3079, 3082, 11813, 1575, 11816, 1...   \n",
       "63  161  {2561, 2564, 2567, 2570, 2573, 2577, 11795, 25...   \n",
       "\n",
       "    fraction_multitagged  questions_no   parts  \n",
       "57                   1.0           476  (3, 4)  \n",
       "58                   1.0          1033  (3, 4)  \n",
       "59                   1.0           527  (3, 4)  \n",
       "60                   1.0           457  (3, 4)  \n",
       "61                   1.0           206  (3, 4)  \n",
       "62                   1.0           156  (3, 4)  \n",
       "63                   1.0           146  (3, 4)  "
      ]
     },
     "execution_count": 64,
     "metadata": {},
     "output_type": "execute_result"
    }
   ],
   "source": [
    "tags_df[tags_df.parts == (3,4)]"
   ]
  },
  {
   "cell_type": "code",
   "execution_count": 65,
   "metadata": {
    "execution": {
     "iopub.execute_input": "2020-12-06T10:56:16.306948Z",
     "iopub.status.busy": "2020-12-06T10:56:16.292509Z",
     "iopub.status.idle": "2020-12-06T10:56:16.311325Z",
     "shell.execute_reply": "2020-12-06T10:56:16.312128Z"
    },
    "papermill": {
     "duration": 0.148108,
     "end_time": "2020-12-06T10:56:16.312367",
     "exception": false,
     "start_time": "2020-12-06T10:56:16.164259",
     "status": "completed"
    },
    "tags": []
   },
   "outputs": [
    {
     "data": {
      "text/html": [
       "<div>\n",
       "<style scoped>\n",
       "    .dataframe tbody tr th:only-of-type {\n",
       "        vertical-align: middle;\n",
       "    }\n",
       "\n",
       "    .dataframe tbody tr th {\n",
       "        vertical-align: top;\n",
       "    }\n",
       "\n",
       "    .dataframe thead th {\n",
       "        text-align: right;\n",
       "    }\n",
       "</style>\n",
       "<table border=\"1\" class=\"dataframe\">\n",
       "  <thead>\n",
       "    <tr style=\"text-align: right;\">\n",
       "      <th></th>\n",
       "      <th>tag</th>\n",
       "      <th>questions</th>\n",
       "      <th>fraction_multitagged</th>\n",
       "      <th>questions_no</th>\n",
       "      <th>parts</th>\n",
       "    </tr>\n",
       "  </thead>\n",
       "  <tbody>\n",
       "    <tr>\n",
       "      <th>84</th>\n",
       "      <td>66</td>\n",
       "      <td>{5508, 5509, 5892, 4363, 5518, 4367, 4368, 616...</td>\n",
       "      <td>0.0</td>\n",
       "      <td>41</td>\n",
       "      <td>(5,)</td>\n",
       "    </tr>\n",
       "    <tr>\n",
       "      <th>85</th>\n",
       "      <td>108</td>\n",
       "      <td>{9088, 3841, 5154, 5156, 9129, 3628, 8494, 517...</td>\n",
       "      <td>0.0</td>\n",
       "      <td>20</td>\n",
       "      <td>(5,)</td>\n",
       "    </tr>\n",
       "    <tr>\n",
       "      <th>90</th>\n",
       "      <td>15</td>\n",
       "      <td>{8640, 8641, 8642, 8643, 8644, 6661, 5615, 561...</td>\n",
       "      <td>0.0</td>\n",
       "      <td>12</td>\n",
       "      <td>(5,)</td>\n",
       "    </tr>\n",
       "    <tr>\n",
       "      <th>102</th>\n",
       "      <td>57</td>\n",
       "      <td>{3717, 9487, 9488, 9489, 9490, 3731, 9491, 949...</td>\n",
       "      <td>0.0</td>\n",
       "      <td>10</td>\n",
       "      <td>(5,)</td>\n",
       "    </tr>\n",
       "    <tr>\n",
       "      <th>116</th>\n",
       "      <td>112</td>\n",
       "      <td>{9503, 9495, 9496, 9497, 9498, 9499, 9500, 950...</td>\n",
       "      <td>0.0</td>\n",
       "      <td>10</td>\n",
       "      <td>(5,)</td>\n",
       "    </tr>\n",
       "    <tr>\n",
       "      <th>132</th>\n",
       "      <td>78</td>\n",
       "      <td>{4100, 4261, 6668, 4495, 4496, 5694}</td>\n",
       "      <td>0.0</td>\n",
       "      <td>6</td>\n",
       "      <td>(5,)</td>\n",
       "    </tr>\n",
       "    <tr>\n",
       "      <th>135</th>\n",
       "      <td>31</td>\n",
       "      <td>{8645, 8646, 8647, 5192, 8648, 8649, 9259, 423...</td>\n",
       "      <td>0.0</td>\n",
       "      <td>10</td>\n",
       "      <td>(5,)</td>\n",
       "    </tr>\n",
       "    <tr>\n",
       "      <th>138</th>\n",
       "      <td>34</td>\n",
       "      <td>{4258, 5698, 6087, 4821, 4664, 6394}</td>\n",
       "      <td>0.0</td>\n",
       "      <td>6</td>\n",
       "      <td>(5,)</td>\n",
       "    </tr>\n",
       "    <tr>\n",
       "      <th>142</th>\n",
       "      <td>124</td>\n",
       "      <td>{8638, 6318, 8630, 8631, 8632, 8633, 8634, 863...</td>\n",
       "      <td>0.0</td>\n",
       "      <td>12</td>\n",
       "      <td>(5,)</td>\n",
       "    </tr>\n",
       "    <tr>\n",
       "      <th>147</th>\n",
       "      <td>167</td>\n",
       "      <td>{6114, 6117, 6118, 9477, 9478, 9479, 9480, 948...</td>\n",
       "      <td>0.0</td>\n",
       "      <td>11</td>\n",
       "      <td>(5,)</td>\n",
       "    </tr>\n",
       "  </tbody>\n",
       "</table>\n",
       "</div>"
      ],
      "text/plain": [
       "     tag                                          questions  \\\n",
       "84    66  {5508, 5509, 5892, 4363, 5518, 4367, 4368, 616...   \n",
       "85   108  {9088, 3841, 5154, 5156, 9129, 3628, 8494, 517...   \n",
       "90    15  {8640, 8641, 8642, 8643, 8644, 6661, 5615, 561...   \n",
       "102   57  {3717, 9487, 9488, 9489, 9490, 3731, 9491, 949...   \n",
       "116  112  {9503, 9495, 9496, 9497, 9498, 9499, 9500, 950...   \n",
       "132   78               {4100, 4261, 6668, 4495, 4496, 5694}   \n",
       "135   31  {8645, 8646, 8647, 5192, 8648, 8649, 9259, 423...   \n",
       "138   34               {4258, 5698, 6087, 4821, 4664, 6394}   \n",
       "142  124  {8638, 6318, 8630, 8631, 8632, 8633, 8634, 863...   \n",
       "147  167  {6114, 6117, 6118, 9477, 9478, 9479, 9480, 948...   \n",
       "\n",
       "     fraction_multitagged  questions_no parts  \n",
       "84                    0.0            41  (5,)  \n",
       "85                    0.0            20  (5,)  \n",
       "90                    0.0            12  (5,)  \n",
       "102                   0.0            10  (5,)  \n",
       "116                   0.0            10  (5,)  \n",
       "132                   0.0             6  (5,)  \n",
       "135                   0.0            10  (5,)  \n",
       "138                   0.0             6  (5,)  \n",
       "142                   0.0            12  (5,)  \n",
       "147                   0.0            11  (5,)  "
      ]
     },
     "execution_count": 65,
     "metadata": {},
     "output_type": "execute_result"
    }
   ],
   "source": [
    "tags_df[tags_df.parts == (5,)]"
   ]
  },
  {
   "cell_type": "code",
   "execution_count": 66,
   "metadata": {
    "execution": {
     "iopub.execute_input": "2020-12-06T10:56:16.598120Z",
     "iopub.status.busy": "2020-12-06T10:56:16.565497Z",
     "iopub.status.idle": "2020-12-06T10:56:16.634761Z",
     "shell.execute_reply": "2020-12-06T10:56:16.634158Z"
    },
    "papermill": {
     "duration": 0.203871,
     "end_time": "2020-12-06T10:56:16.634902",
     "exception": false,
     "start_time": "2020-12-06T10:56:16.431031",
     "status": "completed"
    },
    "tags": []
   },
   "outputs": [
    {
     "data": {
      "text/html": [
       "<div>\n",
       "<style scoped>\n",
       "    .dataframe tbody tr th:only-of-type {\n",
       "        vertical-align: middle;\n",
       "    }\n",
       "\n",
       "    .dataframe tbody tr th {\n",
       "        vertical-align: top;\n",
       "    }\n",
       "\n",
       "    .dataframe thead th {\n",
       "        text-align: right;\n",
       "    }\n",
       "</style>\n",
       "<table border=\"1\" class=\"dataframe\">\n",
       "  <thead>\n",
       "    <tr style=\"text-align: right;\">\n",
       "      <th></th>\n",
       "      <th>tag</th>\n",
       "      <th>questions</th>\n",
       "      <th>fraction_multitagged</th>\n",
       "      <th>questions_no</th>\n",
       "      <th>parts</th>\n",
       "    </tr>\n",
       "  </thead>\n",
       "  <tbody>\n",
       "    <tr>\n",
       "      <th>78</th>\n",
       "      <td>4</td>\n",
       "      <td>{11520, 3969, 3970, 13440, 8198, 13324, 6414, ...</td>\n",
       "      <td>0.0</td>\n",
       "      <td>50</td>\n",
       "      <td>(5, 6)</td>\n",
       "    </tr>\n",
       "    <tr>\n",
       "      <th>79</th>\n",
       "      <td>166</td>\n",
       "      <td>{11267, 11524, 8714, 11532, 13452, 11534, 3603...</td>\n",
       "      <td>0.0</td>\n",
       "      <td>60</td>\n",
       "      <td>(5, 6)</td>\n",
       "    </tr>\n",
       "    <tr>\n",
       "      <th>80</th>\n",
       "      <td>85</td>\n",
       "      <td>{4992, 13320, 9100, 4114, 4755, 3609, 11420, 6...</td>\n",
       "      <td>0.0</td>\n",
       "      <td>24</td>\n",
       "      <td>(5, 6)</td>\n",
       "    </tr>\n",
       "    <tr>\n",
       "      <th>81</th>\n",
       "      <td>156</td>\n",
       "      <td>{9094, 4999, 5001, 13450, 5004, 5006, 5007, 50...</td>\n",
       "      <td>0.0</td>\n",
       "      <td>43</td>\n",
       "      <td>(5, 6)</td>\n",
       "    </tr>\n",
       "    <tr>\n",
       "      <th>84</th>\n",
       "      <td>66</td>\n",
       "      <td>{5508, 5509, 5892, 4363, 5518, 4367, 4368, 616...</td>\n",
       "      <td>0.0</td>\n",
       "      <td>41</td>\n",
       "      <td>(5,)</td>\n",
       "    </tr>\n",
       "    <tr>\n",
       "      <th>85</th>\n",
       "      <td>108</td>\n",
       "      <td>{9088, 3841, 5154, 5156, 9129, 3628, 8494, 517...</td>\n",
       "      <td>0.0</td>\n",
       "      <td>20</td>\n",
       "      <td>(5,)</td>\n",
       "    </tr>\n",
       "    <tr>\n",
       "      <th>87</th>\n",
       "      <td>72</td>\n",
       "      <td>{11266, 8453, 8455, 8456, 6028, 8461, 8465, 60...</td>\n",
       "      <td>0.0</td>\n",
       "      <td>72</td>\n",
       "      <td>(5, 6)</td>\n",
       "    </tr>\n",
       "    <tr>\n",
       "      <th>88</th>\n",
       "      <td>95</td>\n",
       "      <td>{9283, 10211, 5702, 5704, 9289, 5614, 3632, 36...</td>\n",
       "      <td>0.0</td>\n",
       "      <td>17</td>\n",
       "      <td>(5, 6)</td>\n",
       "    </tr>\n",
       "    <tr>\n",
       "      <th>90</th>\n",
       "      <td>15</td>\n",
       "      <td>{8640, 8641, 8642, 8643, 8644, 6661, 5615, 561...</td>\n",
       "      <td>0.0</td>\n",
       "      <td>12</td>\n",
       "      <td>(5,)</td>\n",
       "    </tr>\n",
       "    <tr>\n",
       "      <th>93</th>\n",
       "      <td>75</td>\n",
       "      <td>{6669, 3864, 4519, 9776, 4791, 3639, 10175, 48...</td>\n",
       "      <td>0.0</td>\n",
       "      <td>23</td>\n",
       "      <td>(5, 6)</td>\n",
       "    </tr>\n",
       "    <tr>\n",
       "      <th>94</th>\n",
       "      <td>49</td>\n",
       "      <td>{5600, 10016, 8610, 8611, 8612, 8613, 8614, 10...</td>\n",
       "      <td>0.0</td>\n",
       "      <td>16</td>\n",
       "      <td>(5, 6)</td>\n",
       "    </tr>\n",
       "    <tr>\n",
       "      <th>98</th>\n",
       "      <td>125</td>\n",
       "      <td>{5379, 5382, 3719, 5383, 5386, 5388, 5390, 423...</td>\n",
       "      <td>0.0</td>\n",
       "      <td>57</td>\n",
       "      <td>(5, 6)</td>\n",
       "    </tr>\n",
       "    <tr>\n",
       "      <th>99</th>\n",
       "      <td>133</td>\n",
       "      <td>{5376, 13441, 13314, 8195, 3718, 9992, 13321, ...</td>\n",
       "      <td>0.0</td>\n",
       "      <td>62</td>\n",
       "      <td>(5, 6)</td>\n",
       "    </tr>\n",
       "    <tr>\n",
       "      <th>100</th>\n",
       "      <td>152</td>\n",
       "      <td>{10368, 5378, 4230, 3720, 5385, 3851, 5387, 37...</td>\n",
       "      <td>0.0</td>\n",
       "      <td>53</td>\n",
       "      <td>(5, 6)</td>\n",
       "    </tr>\n",
       "    <tr>\n",
       "      <th>101</th>\n",
       "      <td>181</td>\n",
       "      <td>{3713, 3971, 3973, 3975, 10762, 13327, 4117, 5...</td>\n",
       "      <td>0.0</td>\n",
       "      <td>52</td>\n",
       "      <td>(5, 6)</td>\n",
       "    </tr>\n",
       "    <tr>\n",
       "      <th>102</th>\n",
       "      <td>57</td>\n",
       "      <td>{3717, 9487, 9488, 9489, 9490, 3731, 9491, 949...</td>\n",
       "      <td>0.0</td>\n",
       "      <td>10</td>\n",
       "      <td>(5,)</td>\n",
       "    </tr>\n",
       "    <tr>\n",
       "      <th>108</th>\n",
       "      <td>47</td>\n",
       "      <td>{6144, 6533, 10373, 3853, 10893, 3855, 9231, 9...</td>\n",
       "      <td>0.0</td>\n",
       "      <td>33</td>\n",
       "      <td>(5, 6)</td>\n",
       "    </tr>\n",
       "    <tr>\n",
       "      <th>111</th>\n",
       "      <td>43</td>\n",
       "      <td>{4256, 5696, 11703, 4259, 4260, 4103, 11431, 4...</td>\n",
       "      <td>0.0</td>\n",
       "      <td>18</td>\n",
       "      <td>(5, 6)</td>\n",
       "    </tr>\n",
       "    <tr>\n",
       "      <th>114</th>\n",
       "      <td>28</td>\n",
       "      <td>{5254, 5255, 5256, 5257, 8716, 5261, 8720, 872...</td>\n",
       "      <td>0.0</td>\n",
       "      <td>25</td>\n",
       "      <td>(5, 6)</td>\n",
       "    </tr>\n",
       "    <tr>\n",
       "      <th>115</th>\n",
       "      <td>177</td>\n",
       "      <td>{8706, 3972, 3974, 3976, 3977, 11531, 6156, 52...</td>\n",
       "      <td>0.0</td>\n",
       "      <td>38</td>\n",
       "      <td>(5, 6)</td>\n",
       "    </tr>\n",
       "    <tr>\n",
       "      <th>116</th>\n",
       "      <td>112</td>\n",
       "      <td>{9503, 9495, 9496, 9497, 9498, 9499, 9500, 950...</td>\n",
       "      <td>0.0</td>\n",
       "      <td>10</td>\n",
       "      <td>(5,)</td>\n",
       "    </tr>\n",
       "    <tr>\n",
       "      <th>117</th>\n",
       "      <td>134</td>\n",
       "      <td>{9216, 4481, 9217, 9218, 4228, 9219, 4102, 921...</td>\n",
       "      <td>0.0</td>\n",
       "      <td>65</td>\n",
       "      <td>(5, 6)</td>\n",
       "    </tr>\n",
       "    <tr>\n",
       "      <th>119</th>\n",
       "      <td>168</td>\n",
       "      <td>{4994, 11523, 4996, 9092, 10889, 9101, 11022, ...</td>\n",
       "      <td>0.0</td>\n",
       "      <td>46</td>\n",
       "      <td>(5, 6)</td>\n",
       "    </tr>\n",
       "    <tr>\n",
       "      <th>120</th>\n",
       "      <td>24</td>\n",
       "      <td>{3878, 8525, 8526, 8527, 8528, 8529, 8530, 853...</td>\n",
       "      <td>0.0</td>\n",
       "      <td>17</td>\n",
       "      <td>(5, 6)</td>\n",
       "    </tr>\n",
       "    <tr>\n",
       "      <th>122</th>\n",
       "      <td>174</td>\n",
       "      <td>{8715, 8717, 11149, 8719, 5264, 3985, 5265, 52...</td>\n",
       "      <td>0.0</td>\n",
       "      <td>42</td>\n",
       "      <td>(5, 6)</td>\n",
       "    </tr>\n",
       "    <tr>\n",
       "      <th>123</th>\n",
       "      <td>14</td>\n",
       "      <td>{11264, 11274, 13322, 11276, 10771, 5656, 1130...</td>\n",
       "      <td>0.0</td>\n",
       "      <td>232</td>\n",
       "      <td>(5, 6)</td>\n",
       "    </tr>\n",
       "    <tr>\n",
       "      <th>130</th>\n",
       "      <td>175</td>\n",
       "      <td>{9093, 5005, 9105, 6167, 11173, 9047, 4089, 44...</td>\n",
       "      <td>0.0</td>\n",
       "      <td>20</td>\n",
       "      <td>(5, 6)</td>\n",
       "    </tr>\n",
       "    <tr>\n",
       "      <th>131</th>\n",
       "      <td>45</td>\n",
       "      <td>{5248, 5249, 4099, 4740, 5251, 5252, 5253, 108...</td>\n",
       "      <td>0.0</td>\n",
       "      <td>50</td>\n",
       "      <td>(5, 6)</td>\n",
       "    </tr>\n",
       "    <tr>\n",
       "      <th>132</th>\n",
       "      <td>78</td>\n",
       "      <td>{4100, 4261, 6668, 4495, 4496, 5694}</td>\n",
       "      <td>0.0</td>\n",
       "      <td>6</td>\n",
       "      <td>(5,)</td>\n",
       "    </tr>\n",
       "    <tr>\n",
       "      <th>135</th>\n",
       "      <td>31</td>\n",
       "      <td>{8645, 8646, 8647, 5192, 8648, 8649, 9259, 423...</td>\n",
       "      <td>0.0</td>\n",
       "      <td>10</td>\n",
       "      <td>(5,)</td>\n",
       "    </tr>\n",
       "    <tr>\n",
       "      <th>136</th>\n",
       "      <td>25</td>\n",
       "      <td>{13317, 4240, 11285, 10909, 10782, 11422, 1334...</td>\n",
       "      <td>0.0</td>\n",
       "      <td>34</td>\n",
       "      <td>(5, 6)</td>\n",
       "    </tr>\n",
       "    <tr>\n",
       "      <th>137</th>\n",
       "      <td>151</td>\n",
       "      <td>{4257, 4807, 8200, 10023, 4939, 11260, 4493, 4...</td>\n",
       "      <td>0.0</td>\n",
       "      <td>16</td>\n",
       "      <td>(5, 6)</td>\n",
       "    </tr>\n",
       "    <tr>\n",
       "      <th>138</th>\n",
       "      <td>34</td>\n",
       "      <td>{4258, 5698, 6087, 4821, 4664, 6394}</td>\n",
       "      <td>0.0</td>\n",
       "      <td>6</td>\n",
       "      <td>(5,)</td>\n",
       "    </tr>\n",
       "    <tr>\n",
       "      <th>142</th>\n",
       "      <td>124</td>\n",
       "      <td>{8638, 6318, 8630, 8631, 8632, 8633, 8634, 863...</td>\n",
       "      <td>0.0</td>\n",
       "      <td>12</td>\n",
       "      <td>(5,)</td>\n",
       "    </tr>\n",
       "    <tr>\n",
       "      <th>143</th>\n",
       "      <td>115</td>\n",
       "      <td>{5002, 9482, 9483, 9484, 9485, 9486, 6523, 441...</td>\n",
       "      <td>0.0</td>\n",
       "      <td>21</td>\n",
       "      <td>(5, 6)</td>\n",
       "    </tr>\n",
       "    <tr>\n",
       "      <th>146</th>\n",
       "      <td>182</td>\n",
       "      <td>{10273, 5701, 11207, 4556, 4718, 9998, 8400, 8...</td>\n",
       "      <td>0.0</td>\n",
       "      <td>13</td>\n",
       "      <td>(5, 6)</td>\n",
       "    </tr>\n",
       "    <tr>\n",
       "      <th>147</th>\n",
       "      <td>167</td>\n",
       "      <td>{6114, 6117, 6118, 9477, 9478, 9479, 9480, 948...</td>\n",
       "      <td>0.0</td>\n",
       "      <td>11</td>\n",
       "      <td>(5,)</td>\n",
       "    </tr>\n",
       "    <tr>\n",
       "      <th>148</th>\n",
       "      <td>58</td>\n",
       "      <td>{6120, 6185, 10283, 8396, 8397, 8398, 8399, 53...</td>\n",
       "      <td>0.0</td>\n",
       "      <td>11</td>\n",
       "      <td>(5, 6)</td>\n",
       "    </tr>\n",
       "    <tr>\n",
       "      <th>187</th>\n",
       "      <td>86</td>\n",
       "      <td>{11624}</td>\n",
       "      <td>0.0</td>\n",
       "      <td>1</td>\n",
       "      <td>(6,)</td>\n",
       "    </tr>\n",
       "  </tbody>\n",
       "</table>\n",
       "</div>"
      ],
      "text/plain": [
       "     tag                                          questions  \\\n",
       "78     4  {11520, 3969, 3970, 13440, 8198, 13324, 6414, ...   \n",
       "79   166  {11267, 11524, 8714, 11532, 13452, 11534, 3603...   \n",
       "80    85  {4992, 13320, 9100, 4114, 4755, 3609, 11420, 6...   \n",
       "81   156  {9094, 4999, 5001, 13450, 5004, 5006, 5007, 50...   \n",
       "84    66  {5508, 5509, 5892, 4363, 5518, 4367, 4368, 616...   \n",
       "85   108  {9088, 3841, 5154, 5156, 9129, 3628, 8494, 517...   \n",
       "87    72  {11266, 8453, 8455, 8456, 6028, 8461, 8465, 60...   \n",
       "88    95  {9283, 10211, 5702, 5704, 9289, 5614, 3632, 36...   \n",
       "90    15  {8640, 8641, 8642, 8643, 8644, 6661, 5615, 561...   \n",
       "93    75  {6669, 3864, 4519, 9776, 4791, 3639, 10175, 48...   \n",
       "94    49  {5600, 10016, 8610, 8611, 8612, 8613, 8614, 10...   \n",
       "98   125  {5379, 5382, 3719, 5383, 5386, 5388, 5390, 423...   \n",
       "99   133  {5376, 13441, 13314, 8195, 3718, 9992, 13321, ...   \n",
       "100  152  {10368, 5378, 4230, 3720, 5385, 3851, 5387, 37...   \n",
       "101  181  {3713, 3971, 3973, 3975, 10762, 13327, 4117, 5...   \n",
       "102   57  {3717, 9487, 9488, 9489, 9490, 3731, 9491, 949...   \n",
       "108   47  {6144, 6533, 10373, 3853, 10893, 3855, 9231, 9...   \n",
       "111   43  {4256, 5696, 11703, 4259, 4260, 4103, 11431, 4...   \n",
       "114   28  {5254, 5255, 5256, 5257, 8716, 5261, 8720, 872...   \n",
       "115  177  {8706, 3972, 3974, 3976, 3977, 11531, 6156, 52...   \n",
       "116  112  {9503, 9495, 9496, 9497, 9498, 9499, 9500, 950...   \n",
       "117  134  {9216, 4481, 9217, 9218, 4228, 9219, 4102, 921...   \n",
       "119  168  {4994, 11523, 4996, 9092, 10889, 9101, 11022, ...   \n",
       "120   24  {3878, 8525, 8526, 8527, 8528, 8529, 8530, 853...   \n",
       "122  174  {8715, 8717, 11149, 8719, 5264, 3985, 5265, 52...   \n",
       "123   14  {11264, 11274, 13322, 11276, 10771, 5656, 1130...   \n",
       "130  175  {9093, 5005, 9105, 6167, 11173, 9047, 4089, 44...   \n",
       "131   45  {5248, 5249, 4099, 4740, 5251, 5252, 5253, 108...   \n",
       "132   78               {4100, 4261, 6668, 4495, 4496, 5694}   \n",
       "135   31  {8645, 8646, 8647, 5192, 8648, 8649, 9259, 423...   \n",
       "136   25  {13317, 4240, 11285, 10909, 10782, 11422, 1334...   \n",
       "137  151  {4257, 4807, 8200, 10023, 4939, 11260, 4493, 4...   \n",
       "138   34               {4258, 5698, 6087, 4821, 4664, 6394}   \n",
       "142  124  {8638, 6318, 8630, 8631, 8632, 8633, 8634, 863...   \n",
       "143  115  {5002, 9482, 9483, 9484, 9485, 9486, 6523, 441...   \n",
       "146  182  {10273, 5701, 11207, 4556, 4718, 9998, 8400, 8...   \n",
       "147  167  {6114, 6117, 6118, 9477, 9478, 9479, 9480, 948...   \n",
       "148   58  {6120, 6185, 10283, 8396, 8397, 8398, 8399, 53...   \n",
       "187   86                                            {11624}   \n",
       "\n",
       "     fraction_multitagged  questions_no   parts  \n",
       "78                    0.0            50  (5, 6)  \n",
       "79                    0.0            60  (5, 6)  \n",
       "80                    0.0            24  (5, 6)  \n",
       "81                    0.0            43  (5, 6)  \n",
       "84                    0.0            41    (5,)  \n",
       "85                    0.0            20    (5,)  \n",
       "87                    0.0            72  (5, 6)  \n",
       "88                    0.0            17  (5, 6)  \n",
       "90                    0.0            12    (5,)  \n",
       "93                    0.0            23  (5, 6)  \n",
       "94                    0.0            16  (5, 6)  \n",
       "98                    0.0            57  (5, 6)  \n",
       "99                    0.0            62  (5, 6)  \n",
       "100                   0.0            53  (5, 6)  \n",
       "101                   0.0            52  (5, 6)  \n",
       "102                   0.0            10    (5,)  \n",
       "108                   0.0            33  (5, 6)  \n",
       "111                   0.0            18  (5, 6)  \n",
       "114                   0.0            25  (5, 6)  \n",
       "115                   0.0            38  (5, 6)  \n",
       "116                   0.0            10    (5,)  \n",
       "117                   0.0            65  (5, 6)  \n",
       "119                   0.0            46  (5, 6)  \n",
       "120                   0.0            17  (5, 6)  \n",
       "122                   0.0            42  (5, 6)  \n",
       "123                   0.0           232  (5, 6)  \n",
       "130                   0.0            20  (5, 6)  \n",
       "131                   0.0            50  (5, 6)  \n",
       "132                   0.0             6    (5,)  \n",
       "135                   0.0            10    (5,)  \n",
       "136                   0.0            34  (5, 6)  \n",
       "137                   0.0            16  (5, 6)  \n",
       "138                   0.0             6    (5,)  \n",
       "142                   0.0            12    (5,)  \n",
       "143                   0.0            21  (5, 6)  \n",
       "146                   0.0            13  (5, 6)  \n",
       "147                   0.0            11    (5,)  \n",
       "148                   0.0            11  (5, 6)  \n",
       "187                   0.0             1    (6,)  "
      ]
     },
     "execution_count": 66,
     "metadata": {},
     "output_type": "execute_result"
    }
   ],
   "source": [
    "tags_df[tags_df.fraction_multitagged == 0]"
   ]
  },
  {
   "cell_type": "code",
   "execution_count": 67,
   "metadata": {
    "execution": {
     "iopub.execute_input": "2020-12-06T10:56:16.883609Z",
     "iopub.status.busy": "2020-12-06T10:56:16.882487Z",
     "iopub.status.idle": "2020-12-06T10:56:16.887040Z",
     "shell.execute_reply": "2020-12-06T10:56:16.886410Z"
    },
    "papermill": {
     "duration": 0.136939,
     "end_time": "2020-12-06T10:56:16.887164",
     "exception": false,
     "start_time": "2020-12-06T10:56:16.750225",
     "status": "completed"
    },
    "tags": []
   },
   "outputs": [
    {
     "data": {
      "text/html": [
       "<div>\n",
       "<style scoped>\n",
       "    .dataframe tbody tr th:only-of-type {\n",
       "        vertical-align: middle;\n",
       "    }\n",
       "\n",
       "    .dataframe tbody tr th {\n",
       "        vertical-align: top;\n",
       "    }\n",
       "\n",
       "    .dataframe thead th {\n",
       "        text-align: right;\n",
       "    }\n",
       "</style>\n",
       "<table border=\"1\" class=\"dataframe\">\n",
       "  <thead>\n",
       "    <tr style=\"text-align: right;\">\n",
       "      <th></th>\n",
       "      <th>tag</th>\n",
       "      <th>questions</th>\n",
       "      <th>fraction_multitagged</th>\n",
       "      <th>questions_no</th>\n",
       "      <th>parts</th>\n",
       "    </tr>\n",
       "  </thead>\n",
       "  <tbody>\n",
       "    <tr>\n",
       "      <th>2</th>\n",
       "      <td>162</td>\n",
       "      <td>{0, 2, 3, 4, 5, 6, 7, 8, 7330, 17, 2065, 19, 2...</td>\n",
       "      <td>1.0</td>\n",
       "      <td>914</td>\n",
       "      <td>(1, 2, 3, 4, 6, 7)</td>\n",
       "    </tr>\n",
       "  </tbody>\n",
       "</table>\n",
       "</div>"
      ],
      "text/plain": [
       "   tag                                          questions  \\\n",
       "2  162  {0, 2, 3, 4, 5, 6, 7, 8, 7330, 17, 2065, 19, 2...   \n",
       "\n",
       "   fraction_multitagged  questions_no               parts  \n",
       "2                   1.0           914  (1, 2, 3, 4, 6, 7)  "
      ]
     },
     "execution_count": 67,
     "metadata": {},
     "output_type": "execute_result"
    }
   ],
   "source": [
    "tags_df[tags_df['tag']==162]"
   ]
  },
  {
   "cell_type": "code",
   "execution_count": 68,
   "metadata": {
    "execution": {
     "iopub.execute_input": "2020-12-06T10:56:17.139652Z",
     "iopub.status.busy": "2020-12-06T10:56:17.133071Z",
     "iopub.status.idle": "2020-12-06T10:56:19.335956Z",
     "shell.execute_reply": "2020-12-06T10:56:19.336525Z"
    },
    "papermill": {
     "duration": 2.333491,
     "end_time": "2020-12-06T10:56:19.336733",
     "exception": false,
     "start_time": "2020-12-06T10:56:17.003242",
     "status": "completed"
    },
    "tags": []
   },
   "outputs": [
    {
     "data": {
      "image/png": "[encoded data removed]",
      "text/plain": [
       "<Figure size 1080x1080 with 8 Axes>"
      ]
     },
     "metadata": {
      "needs_background": "light"
     },
     "output_type": "display_data"
    }
   ],
   "source": [
    "fig, axarr = plt.subplots(4, 2, figsize=(15, 15))\n",
    "flat_axes_list = [item for sublist in axarr for item in sublist]\n",
    "\n",
    "fig.tight_layout()\n",
    "\n",
    "for part in range(1,8):\n",
    "    # I want to specifically limit the logic to questions and tags in this part\n",
    "    def calc_multitagged_in_part(tag_row):\n",
    "        part_qs = questions[questions['part']==part]\n",
    "        tag_qs = part_qs[part_qs['question_id'].isin(tag_row['questions'])]\n",
    "        return tag_qs[tag_qs['multitag']==True].size/tag_qs.size\n",
    "    part_multitagged = tags_df[tags_df['parts'].apply(lambda ps: part in ps)].apply(calc_multitagged_in_part, axis=1)\n",
    "    ax = flat_axes_list[part-1]\n",
    "    ax.set_title(f'part {part}')\n",
    "    ax.hist(part_multitagged, bins=[x/10 for x in range(11)])"
   ]
  },
  {
   "cell_type": "markdown",
   "metadata": {
    "papermill": {
     "duration": 0.118279,
     "end_time": "2020-12-06T10:56:19.573096",
     "exception": false,
     "start_time": "2020-12-06T10:56:19.454817",
     "status": "completed"
    },
    "tags": []
   },
   "source": [
    "# combine lecture and question"
   ]
  },
  {
   "cell_type": "code",
   "execution_count": 69,
   "metadata": {
    "execution": {
     "iopub.execute_input": "2020-12-06T10:56:19.816630Z",
     "iopub.status.busy": "2020-12-06T10:56:19.815742Z",
     "iopub.status.idle": "2020-12-06T10:56:19.823421Z",
     "shell.execute_reply": "2020-12-06T10:56:19.822599Z"
    },
    "papermill": {
     "duration": 0.132908,
     "end_time": "2020-12-06T10:56:19.823558",
     "exception": false,
     "start_time": "2020-12-06T10:56:19.690650",
     "status": "completed"
    },
    "tags": []
   },
   "outputs": [],
   "source": [
    "tags_df['num_lectures'] = lectures.groupby('tag').count()['lecture_id']\n",
    "tags_df['num_lectures'] = tags_df['num_lectures'].fillna(0).astype(int)"
   ]
  },
  {
   "cell_type": "code",
   "execution_count": 70,
   "metadata": {
    "execution": {
     "iopub.execute_input": "2020-12-06T10:56:20.074751Z",
     "iopub.status.busy": "2020-12-06T10:56:20.073092Z",
     "iopub.status.idle": "2020-12-06T10:56:20.262641Z",
     "shell.execute_reply": "2020-12-06T10:56:20.261839Z"
    },
    "papermill": {
     "duration": 0.320165,
     "end_time": "2020-12-06T10:56:20.262767",
     "exception": false,
     "start_time": "2020-12-06T10:56:19.942602",
     "status": "completed"
    },
    "tags": []
   },
   "outputs": [
    {
     "data": {
      "image/png": "[encoded data removed]",
      "text/plain": [
       "<Figure size 432x288 with 1 Axes>"
      ]
     },
     "metadata": {
      "needs_background": "light"
     },
     "output_type": "display_data"
    }
   ],
   "source": [
    "plt.hist(tags_df['num_lectures'], bins=range(9))\n",
    "plt.title('Histogram of the number of lectures a particular tag has')\n",
    "plt.show()"
   ]
  },
  {
   "cell_type": "code",
   "execution_count": 71,
   "metadata": {
    "execution": {
     "iopub.execute_input": "2020-12-06T10:56:20.527048Z",
     "iopub.status.busy": "2020-12-06T10:56:20.525920Z",
     "iopub.status.idle": "2020-12-06T10:56:20.530784Z",
     "shell.execute_reply": "2020-12-06T10:56:20.530219Z"
    },
    "papermill": {
     "duration": 0.149339,
     "end_time": "2020-12-06T10:56:20.530916",
     "exception": false,
     "start_time": "2020-12-06T10:56:20.381577",
     "status": "completed"
    },
    "tags": []
   },
   "outputs": [
    {
     "data": {
      "text/html": [
       "<div>\n",
       "<style scoped>\n",
       "    .dataframe tbody tr th:only-of-type {\n",
       "        vertical-align: middle;\n",
       "    }\n",
       "\n",
       "    .dataframe tbody tr th {\n",
       "        vertical-align: top;\n",
       "    }\n",
       "\n",
       "    .dataframe thead th {\n",
       "        text-align: right;\n",
       "    }\n",
       "</style>\n",
       "<table border=\"1\" class=\"dataframe\">\n",
       "  <thead>\n",
       "    <tr style=\"text-align: right;\">\n",
       "      <th></th>\n",
       "      <th>tag</th>\n",
       "      <th>questions</th>\n",
       "      <th>fraction_multitagged</th>\n",
       "      <th>questions_no</th>\n",
       "      <th>parts</th>\n",
       "      <th>num_lectures</th>\n",
       "    </tr>\n",
       "  </thead>\n",
       "  <tbody>\n",
       "    <tr>\n",
       "      <th>0</th>\n",
       "      <td>51</td>\n",
       "      <td>{0, 12801, 12928, 10628, 11, 12, 12815, 12820,...</td>\n",
       "      <td>1.0</td>\n",
       "      <td>71</td>\n",
       "      <td>(1,)</td>\n",
       "      <td>2</td>\n",
       "    </tr>\n",
       "    <tr>\n",
       "      <th>1</th>\n",
       "      <td>131</td>\n",
       "      <td>{0, 1, 2, 3, 4, 5, 8, 10, 11, 12, 13, 14, 16, ...</td>\n",
       "      <td>1.0</td>\n",
       "      <td>650</td>\n",
       "      <td>(1,)</td>\n",
       "      <td>4</td>\n",
       "    </tr>\n",
       "    <tr>\n",
       "      <th>2</th>\n",
       "      <td>162</td>\n",
       "      <td>{0, 2, 3, 4, 5, 6, 7, 8, 7330, 17, 2065, 19, 2...</td>\n",
       "      <td>1.0</td>\n",
       "      <td>914</td>\n",
       "      <td>(1, 2, 3, 4, 6, 7)</td>\n",
       "      <td>1</td>\n",
       "    </tr>\n",
       "    <tr>\n",
       "      <th>3</th>\n",
       "      <td>38</td>\n",
       "      <td>{0, 4, 10, 14, 20, 24, 30, 33, 36, 39, 40, 44,...</td>\n",
       "      <td>1.0</td>\n",
       "      <td>2256</td>\n",
       "      <td>(1, 2, 3, 4)</td>\n",
       "      <td>0</td>\n",
       "    </tr>\n",
       "    <tr>\n",
       "      <th>4</th>\n",
       "      <td>36</td>\n",
       "      <td>{1, 10, 12811, 7957, 10523, 12835, 10660, 7975...</td>\n",
       "      <td>1.0</td>\n",
       "      <td>35</td>\n",
       "      <td>(1,)</td>\n",
       "      <td>4</td>\n",
       "    </tr>\n",
       "  </tbody>\n",
       "</table>\n",
       "</div>"
      ],
      "text/plain": [
       "   tag                                          questions  \\\n",
       "0   51  {0, 12801, 12928, 10628, 11, 12, 12815, 12820,...   \n",
       "1  131  {0, 1, 2, 3, 4, 5, 8, 10, 11, 12, 13, 14, 16, ...   \n",
       "2  162  {0, 2, 3, 4, 5, 6, 7, 8, 7330, 17, 2065, 19, 2...   \n",
       "3   38  {0, 4, 10, 14, 20, 24, 30, 33, 36, 39, 40, 44,...   \n",
       "4   36  {1, 10, 12811, 7957, 10523, 12835, 10660, 7975...   \n",
       "\n",
       "   fraction_multitagged  questions_no               parts  num_lectures  \n",
       "0                   1.0            71                (1,)             2  \n",
       "1                   1.0           650                (1,)             4  \n",
       "2                   1.0           914  (1, 2, 3, 4, 6, 7)             1  \n",
       "3                   1.0          2256        (1, 2, 3, 4)             0  \n",
       "4                   1.0            35                (1,)             4  "
      ]
     },
     "execution_count": 71,
     "metadata": {},
     "output_type": "execute_result"
    }
   ],
   "source": [
    "tags_df.head()"
   ]
  },
  {
   "cell_type": "code",
   "execution_count": 72,
   "metadata": {
    "execution": {
     "iopub.execute_input": "2020-12-06T10:56:20.779287Z",
     "iopub.status.busy": "2020-12-06T10:56:20.778165Z",
     "iopub.status.idle": "2020-12-06T10:56:49.376822Z",
     "shell.execute_reply": "2020-12-06T10:56:49.014009Z"
    },
    "papermill": {
     "duration": 28.726504,
     "end_time": "2020-12-06T10:56:49.377005",
     "exception": false,
     "start_time": "2020-12-06T10:56:20.650501",
     "status": "completed"
    },
    "tags": []
   },
   "outputs": [
    {
     "name": "stderr",
     "output_type": "stream",
     "text": [
      "/opt/conda/lib/python3.7/site-packages/ipykernel_launcher.py:2: TqdmDeprecationWarning: This function will be removed in tqdm==5.0.0\n",
      "Please use `tqdm.notebook.tqdm` instead of `tqdm.tqdm_notebook`\n",
      "  \n"
     ]
    },
    {
     "data": {
      "application/vnd.jupyter.widget-view+json": {
       "model_id": "529531050f1e44b9a7b7a060538038ad",
       "version_major": 2,
       "version_minor": 0
      },
      "text/plain": [
       "HBox(children=(FloatProgress(value=0.0, max=13523.0), HTML(value='')))"
      ]
     },
     "metadata": {},
     "output_type": "display_data"
    },
    {
     "name": "stdout",
     "output_type": "stream",
     "text": [
      "\n"
     ]
    }
   ],
   "source": [
    "values = []\n",
    "for i in tqdm(range(questions.shape[0])):\n",
    "    if len(questions.iloc[i][\"tags\"]) > 0:\n",
    "        values.append(sum([tags_df[tags_df.tag==j][\"num_lectures\"].values for j in questions.iloc[i][\"tags\"]])[0])\n",
    "    else:\n",
    "        values.append(0)\n",
    "\n",
    "questions[\"num_of_lectures\"] = values"
   ]
  },
  {
   "cell_type": "code",
   "execution_count": 73,
   "metadata": {
    "execution": {
     "iopub.execute_input": "2020-12-06T10:56:49.634840Z",
     "iopub.status.busy": "2020-12-06T10:56:49.633718Z",
     "iopub.status.idle": "2020-12-06T10:56:53.220110Z",
     "shell.execute_reply": "2020-12-06T10:56:53.219440Z"
    },
    "papermill": {
     "duration": 3.718361,
     "end_time": "2020-12-06T10:56:53.220252",
     "exception": false,
     "start_time": "2020-12-06T10:56:49.501891",
     "status": "completed"
    },
    "tags": []
   },
   "outputs": [],
   "source": [
    "content_acc_mean = mod_train.groupby(\"content_id\")[\"answered_correctly\"].agg([\"mean\"])\n",
    "questions = questions.merge(content_acc_mean, left_on=\"question_id\", right_on=\"content_id\", how=\"left\")"
   ]
  },
  {
   "cell_type": "code",
   "execution_count": 74,
   "metadata": {
    "execution": {
     "iopub.execute_input": "2020-12-06T10:56:53.475825Z",
     "iopub.status.busy": "2020-12-06T10:56:53.474707Z",
     "iopub.status.idle": "2020-12-06T10:56:53.490308Z",
     "shell.execute_reply": "2020-12-06T10:56:53.490893Z"
    },
    "papermill": {
     "duration": 0.146913,
     "end_time": "2020-12-06T10:56:53.491051",
     "exception": false,
     "start_time": "2020-12-06T10:56:53.344138",
     "status": "completed"
    },
    "tags": []
   },
   "outputs": [
    {
     "data": {
      "text/html": [
       "<div>\n",
       "<style scoped>\n",
       "    .dataframe tbody tr th:only-of-type {\n",
       "        vertical-align: middle;\n",
       "    }\n",
       "\n",
       "    .dataframe tbody tr th {\n",
       "        vertical-align: top;\n",
       "    }\n",
       "\n",
       "    .dataframe thead th {\n",
       "        text-align: right;\n",
       "    }\n",
       "</style>\n",
       "<table border=\"1\" class=\"dataframe\">\n",
       "  <thead>\n",
       "    <tr style=\"text-align: right;\">\n",
       "      <th></th>\n",
       "      <th>mean</th>\n",
       "      <th>num_of_lectures</th>\n",
       "    </tr>\n",
       "  </thead>\n",
       "  <tbody>\n",
       "    <tr>\n",
       "      <th>mean</th>\n",
       "      <td>1.000000</td>\n",
       "      <td>0.146969</td>\n",
       "    </tr>\n",
       "    <tr>\n",
       "      <th>num_of_lectures</th>\n",
       "      <td>0.146969</td>\n",
       "      <td>1.000000</td>\n",
       "    </tr>\n",
       "  </tbody>\n",
       "</table>\n",
       "</div>"
      ],
      "text/plain": [
       "                     mean  num_of_lectures\n",
       "mean             1.000000         0.146969\n",
       "num_of_lectures  0.146969         1.000000"
      ]
     },
     "execution_count": 74,
     "metadata": {},
     "output_type": "execute_result"
    }
   ],
   "source": [
    "questions[[\"mean\", \"num_of_lectures\"]].corr()"
   ]
  },
  {
   "cell_type": "markdown",
   "metadata": {
    "papermill": {
     "duration": 0.125007,
     "end_time": "2020-12-06T10:56:53.742314",
     "exception": false,
     "start_time": "2020-12-06T10:56:53.617307",
     "status": "completed"
    },
    "tags": []
   },
   "source": [
    "# example_test\n",
    "- row_id: (int64) ID code for the row.\n",
    "- timestamp: (int64) the time between this user interaction and the first event completion from that user.\n",
    "- user_id: (int32) ID code for the user.\n",
    "- content_id: (int16) ID code for the user interaction\n",
    "- content_type_id: (int8) 0 if the event was a question being posed to the user, 1 if the event was the user watching a lecture.\n",
    "- task_container_id: (int16) Id code for the batch of questions or lectures. For example, a user might see three questions in a row before seeing the explanations for any of them. Those three would all share a task_container_id.\n",
    "- user_answer: (int8) the user's answer to the question, if any. Read -1 as null, for lectures.\n",
    "- answered_correctly: (int8) if the user responded correctly. Read -1 as null, for lectures.\n",
    "- prior_question_elapsed_time: (float32) The average time it took a user to answer each question in the previous question bundle, ignoring any lectures in between. Is null for a user's first question bundle or lecture. Note that the time is the average time a user took to solve each question in the previous bundle.\n",
    "- prior_question_had_explanation: (bool) Whether or not the user saw an explanation and the correct response(s) after answering the previous question bundle, ignoring any lectures in between. The value is shared across a single question bundle, and is null for a user's first question bundle or lecture. Typically the first several questions a user sees were part of an onboarding diagnostic test where they did not get any feedback."
   ]
  },
  {
   "cell_type": "code",
   "execution_count": 75,
   "metadata": {
    "execution": {
     "iopub.execute_input": "2020-12-06T10:56:54.011688Z",
     "iopub.status.busy": "2020-12-06T10:56:54.010644Z",
     "iopub.status.idle": "2020-12-06T10:56:54.015099Z",
     "shell.execute_reply": "2020-12-06T10:56:54.015745Z"
    },
    "papermill": {
     "duration": 0.147565,
     "end_time": "2020-12-06T10:56:54.015915",
     "exception": false,
     "start_time": "2020-12-06T10:56:53.868350",
     "status": "completed"
    },
    "tags": []
   },
   "outputs": [
    {
     "data": {
      "text/html": [
       "<div>\n",
       "<style scoped>\n",
       "    .dataframe tbody tr th:only-of-type {\n",
       "        vertical-align: middle;\n",
       "    }\n",
       "\n",
       "    .dataframe tbody tr th {\n",
       "        vertical-align: top;\n",
       "    }\n",
       "\n",
       "    .dataframe thead th {\n",
       "        text-align: right;\n",
       "    }\n",
       "</style>\n",
       "<table border=\"1\" class=\"dataframe\">\n",
       "  <thead>\n",
       "    <tr style=\"text-align: right;\">\n",
       "      <th></th>\n",
       "      <th>row_id</th>\n",
       "      <th>group_num</th>\n",
       "      <th>timestamp</th>\n",
       "      <th>user_id</th>\n",
       "      <th>content_id</th>\n",
       "      <th>content_type_id</th>\n",
       "      <th>task_container_id</th>\n",
       "      <th>prior_question_elapsed_time</th>\n",
       "      <th>prior_question_had_explanation</th>\n",
       "      <th>prior_group_answers_correct</th>\n",
       "      <th>prior_group_responses</th>\n",
       "    </tr>\n",
       "  </thead>\n",
       "  <tbody>\n",
       "    <tr>\n",
       "      <th>0</th>\n",
       "      <td>0</td>\n",
       "      <td>0</td>\n",
       "      <td>0</td>\n",
       "      <td>275030867</td>\n",
       "      <td>5729</td>\n",
       "      <td>0</td>\n",
       "      <td>0</td>\n",
       "      <td>NaN</td>\n",
       "      <td>NaN</td>\n",
       "      <td>[]</td>\n",
       "      <td>[]</td>\n",
       "    </tr>\n",
       "    <tr>\n",
       "      <th>1</th>\n",
       "      <td>1</td>\n",
       "      <td>0</td>\n",
       "      <td>13309898705</td>\n",
       "      <td>554169193</td>\n",
       "      <td>12010</td>\n",
       "      <td>0</td>\n",
       "      <td>4427</td>\n",
       "      <td>19000.0</td>\n",
       "      <td>True</td>\n",
       "      <td>NaN</td>\n",
       "      <td>NaN</td>\n",
       "    </tr>\n",
       "    <tr>\n",
       "      <th>2</th>\n",
       "      <td>2</td>\n",
       "      <td>0</td>\n",
       "      <td>4213672059</td>\n",
       "      <td>1720860329</td>\n",
       "      <td>457</td>\n",
       "      <td>0</td>\n",
       "      <td>240</td>\n",
       "      <td>17000.0</td>\n",
       "      <td>True</td>\n",
       "      <td>NaN</td>\n",
       "      <td>NaN</td>\n",
       "    </tr>\n",
       "    <tr>\n",
       "      <th>3</th>\n",
       "      <td>3</td>\n",
       "      <td>0</td>\n",
       "      <td>62798072960</td>\n",
       "      <td>288641214</td>\n",
       "      <td>13262</td>\n",
       "      <td>0</td>\n",
       "      <td>266</td>\n",
       "      <td>23000.0</td>\n",
       "      <td>True</td>\n",
       "      <td>NaN</td>\n",
       "      <td>NaN</td>\n",
       "    </tr>\n",
       "    <tr>\n",
       "      <th>4</th>\n",
       "      <td>4</td>\n",
       "      <td>0</td>\n",
       "      <td>10585422061</td>\n",
       "      <td>1728340777</td>\n",
       "      <td>6119</td>\n",
       "      <td>0</td>\n",
       "      <td>162</td>\n",
       "      <td>72400.0</td>\n",
       "      <td>True</td>\n",
       "      <td>NaN</td>\n",
       "      <td>NaN</td>\n",
       "    </tr>\n",
       "  </tbody>\n",
       "</table>\n",
       "</div>"
      ],
      "text/plain": [
       "   row_id  group_num    timestamp     user_id  content_id  content_type_id  \\\n",
       "0       0          0            0   275030867        5729                0   \n",
       "1       1          0  13309898705   554169193       12010                0   \n",
       "2       2          0   4213672059  1720860329         457                0   \n",
       "3       3          0  62798072960   288641214       13262                0   \n",
       "4       4          0  10585422061  1728340777        6119                0   \n",
       "\n",
       "   task_container_id  prior_question_elapsed_time  \\\n",
       "0                  0                          NaN   \n",
       "1               4427                      19000.0   \n",
       "2                240                      17000.0   \n",
       "3                266                      23000.0   \n",
       "4                162                      72400.0   \n",
       "\n",
       "  prior_question_had_explanation prior_group_answers_correct  \\\n",
       "0                            NaN                          []   \n",
       "1                           True                         NaN   \n",
       "2                           True                         NaN   \n",
       "3                           True                         NaN   \n",
       "4                           True                         NaN   \n",
       "\n",
       "  prior_group_responses  \n",
       "0                    []  \n",
       "1                   NaN  \n",
       "2                   NaN  \n",
       "3                   NaN  \n",
       "4                   NaN  "
      ]
     },
     "execution_count": 75,
     "metadata": {},
     "output_type": "execute_result"
    }
   ],
   "source": [
    "example_test.head()"
   ]
  },
  {
   "cell_type": "code",
   "execution_count": 76,
   "metadata": {
    "execution": {
     "iopub.execute_input": "2020-12-06T10:56:54.272744Z",
     "iopub.status.busy": "2020-12-06T10:56:54.271926Z",
     "iopub.status.idle": "2020-12-06T10:56:54.274470Z",
     "shell.execute_reply": "2020-12-06T10:56:54.275042Z"
    },
    "papermill": {
     "duration": 0.132775,
     "end_time": "2020-12-06T10:56:54.275236",
     "exception": false,
     "start_time": "2020-12-06T10:56:54.142461",
     "status": "completed"
    },
    "tags": []
   },
   "outputs": [],
   "source": [
    "#%%timeit\n",
    "#test1 = pd.merge(example_test, questions, left_on='content_id', right_on='question_id', how='left')"
   ]
  },
  {
   "cell_type": "code",
   "execution_count": 77,
   "metadata": {
    "execution": {
     "iopub.execute_input": "2020-12-06T10:56:54.536521Z",
     "iopub.status.busy": "2020-12-06T10:56:54.535448Z",
     "iopub.status.idle": "2020-12-06T10:56:54.538786Z",
     "shell.execute_reply": "2020-12-06T10:56:54.538030Z"
    },
    "papermill": {
     "duration": 0.135485,
     "end_time": "2020-12-06T10:56:54.538908",
     "exception": false,
     "start_time": "2020-12-06T10:56:54.403423",
     "status": "completed"
    },
    "tags": []
   },
   "outputs": [],
   "source": [
    "#%%timeit\n",
    "#test2 = pd.merge(example_test, questions, left_on='content_id', right_on='question_id', how='left', right_index=True).reset_index(drop=True)"
   ]
  },
  {
   "cell_type": "markdown",
   "metadata": {
    "papermill": {
     "duration": 0.124833,
     "end_time": "2020-12-06T10:56:54.791286",
     "exception": false,
     "start_time": "2020-12-06T10:56:54.666453",
     "status": "completed"
    },
    "tags": []
   },
   "source": [
    "# how to make features"
   ]
  },
  {
   "cell_type": "code",
   "execution_count": 78,
   "metadata": {
    "execution": {
     "iopub.execute_input": "2020-12-06T10:56:55.050616Z",
     "iopub.status.busy": "2020-12-06T10:56:55.049529Z",
     "iopub.status.idle": "2020-12-06T10:56:55.052890Z",
     "shell.execute_reply": "2020-12-06T10:56:55.052303Z"
    },
    "papermill": {
     "duration": 0.133604,
     "end_time": "2020-12-06T10:56:55.053015",
     "exception": false,
     "start_time": "2020-12-06T10:56:54.919411",
     "status": "completed"
    },
    "tags": []
   },
   "outputs": [],
   "source": [
    "#train = pd.merge(train, questions[[\"question_id\", \"part\", \"tags\"]], left_on='content_id', right_on='question_id', how='left', right_index=True).reset_index(drop=True)\n",
    "#train.drop(\"question_id\", axis=1, inplace=True) #\"tags\""
   ]
  },
  {
   "cell_type": "code",
   "execution_count": 79,
   "metadata": {
    "execution": {
     "iopub.execute_input": "2020-12-06T10:56:55.308987Z",
     "iopub.status.busy": "2020-12-06T10:56:55.308002Z",
     "iopub.status.idle": "2020-12-06T10:56:55.311462Z",
     "shell.execute_reply": "2020-12-06T10:56:55.310682Z"
    },
    "papermill": {
     "duration": 0.1322,
     "end_time": "2020-12-06T10:56:55.311589",
     "exception": false,
     "start_time": "2020-12-06T10:56:55.179389",
     "status": "completed"
    },
    "tags": []
   },
   "outputs": [],
   "source": [
    "#train = train[train[\"answered_correctly\"] != -1].reset_index(drop=True)"
   ]
  },
  {
   "cell_type": "code",
   "execution_count": 80,
   "metadata": {
    "execution": {
     "iopub.execute_input": "2020-12-06T10:56:55.565245Z",
     "iopub.status.busy": "2020-12-06T10:56:55.564075Z",
     "iopub.status.idle": "2020-12-06T10:56:55.568793Z",
     "shell.execute_reply": "2020-12-06T10:56:55.567998Z"
    },
    "papermill": {
     "duration": 0.133024,
     "end_time": "2020-12-06T10:56:55.568919",
     "exception": false,
     "start_time": "2020-12-06T10:56:55.435895",
     "status": "completed"
    },
    "tags": []
   },
   "outputs": [],
   "source": [
    "#train.head()"
   ]
  },
  {
   "cell_type": "code",
   "execution_count": 81,
   "metadata": {
    "execution": {
     "iopub.execute_input": "2020-12-06T10:56:55.824833Z",
     "iopub.status.busy": "2020-12-06T10:56:55.823715Z",
     "iopub.status.idle": "2020-12-06T10:56:55.826821Z",
     "shell.execute_reply": "2020-12-06T10:56:55.826051Z"
    },
    "papermill": {
     "duration": 0.132603,
     "end_time": "2020-12-06T10:56:55.826943",
     "exception": false,
     "start_time": "2020-12-06T10:56:55.694340",
     "status": "completed"
    },
    "tags": []
   },
   "outputs": [],
   "source": [
    "# although tag information per user can be obtained, it builds features based on all activities.\n",
    "\n",
    "#def join(df):\n",
    "#    x = [str(e) for e in list(df)]\n",
    "#    return \" \".join(x)\n",
    "\n",
    "#from sklearn.feature_extraction.text import TfidfVectorizer\n",
    "#from sklearn.decomposition import TruncatedSVD\n",
    "\n",
    "#ids = [\"tags\"]\n",
    "#concatenated_ = train[ids + [\"user_id\"]].copy().reset_index(drop=True)\n",
    "\n",
    "#for id_ in ids:\n",
    "#    print(id_)\n",
    "#    docs = concatenated_.groupby(\"user_id\")[id_].apply(join)\n",
    "#    max_features = int(concatenated_[id_].nunique() * 0.8)\n",
    "#    tv = TfidfVectorizer(max_features=max_features)\n",
    "#    X = tv.fit_transform(docs)\n",
    "\n",
    "#    n_components = 5\n",
    "#    svd = TruncatedSVD(n_components=n_components)\n",
    "#    X = svd.fit_transform(X)\n",
    "#    df = pd.DataFrame(X, columns=[f\"tfidf_{id_}_{i}\" for i in range(n_components)])\n",
    "#    df.index = docs.index"
   ]
  },
  {
   "cell_type": "code",
   "execution_count": 82,
   "metadata": {
    "execution": {
     "iopub.execute_input": "2020-12-06T10:56:56.083636Z",
     "iopub.status.busy": "2020-12-06T10:56:56.082674Z",
     "iopub.status.idle": "2020-12-06T10:56:56.086099Z",
     "shell.execute_reply": "2020-12-06T10:56:56.085484Z"
    },
    "papermill": {
     "duration": 0.133847,
     "end_time": "2020-12-06T10:56:56.086244",
     "exception": false,
     "start_time": "2020-12-06T10:56:55.952397",
     "status": "completed"
    },
    "tags": []
   },
   "outputs": [],
   "source": [
    "#def join(df):\n",
    "#    x = [str(e) for e in list(df)]\n",
    "#    return \" \".join(x)\n",
    "\n",
    "#ids = [\"tags\"]\n",
    "\n",
    "#for id_ in ids:\n",
    "#    print(id_)\n",
    "#    docs = questions.groupby(\"question_id\")[id_].apply(join)\n",
    "#    max_features = int(questions[id_].nunique() * 0.8)\n",
    "#    tv = TfidfVectorizer(max_features=max_features)\n",
    "#    X = tv.fit_transform(docs)\n",
    "\n",
    "#    n_components = 5\n",
    "#    svd = TruncatedSVD(n_components=n_components)\n",
    "#    X = svd.fit_transform(X)\n",
    "#    df = pd.DataFrame(X, columns=[f\"tfidf_{id_}_{i}\" for i in range(n_components)])\n",
    "#    df.index = docs.index"
   ]
  },
  {
   "cell_type": "code",
   "execution_count": 83,
   "metadata": {
    "execution": {
     "iopub.execute_input": "2020-12-06T10:56:56.342543Z",
     "iopub.status.busy": "2020-12-06T10:56:56.341419Z",
     "iopub.status.idle": "2020-12-06T10:56:56.344885Z",
     "shell.execute_reply": "2020-12-06T10:56:56.344308Z"
    },
    "papermill": {
     "duration": 0.132606,
     "end_time": "2020-12-06T10:56:56.345013",
     "exception": false,
     "start_time": "2020-12-06T10:56:56.212407",
     "status": "completed"
    },
    "tags": []
   },
   "outputs": [],
   "source": [
    "#train[\"prev1_content_id\"] = train.groupby(\"user_id\")[\"content_id\"].shift(1)\n",
    "#(train.iloc[:500][\"prev1_content_id\"].apply(lambda x: str(x)) + train.iloc[:500][\"content_id\"].apply(lambda x: str(x))).value_counts()"
   ]
  },
  {
   "cell_type": "code",
   "execution_count": 84,
   "metadata": {
    "execution": {
     "iopub.execute_input": "2020-12-06T10:56:56.607654Z",
     "iopub.status.busy": "2020-12-06T10:56:56.606696Z",
     "iopub.status.idle": "2020-12-06T10:56:56.609909Z",
     "shell.execute_reply": "2020-12-06T10:56:56.610653Z"
    },
    "papermill": {
     "duration": 0.141668,
     "end_time": "2020-12-06T10:56:56.610820",
     "exception": false,
     "start_time": "2020-12-06T10:56:56.469152",
     "status": "completed"
    },
    "tags": []
   },
   "outputs": [],
   "source": [
    "#train_users = list(train.user_id.unique())\n",
    "#user_check = np.isin(example_test.user_id.values, train_users)\n",
    "#example_test[user_check]\n",
    "\n",
    "#user_check = np.isin(example_test.user_id.values, train_users)\n",
    "#preds = np.zeros(len(example_test)) \n",
    "#pred_existing_users = model.predict(example_test.loc[user_check,features])\n",
    "#pred_new_users = model2.predict(example_test.loc[~user_check,features])\n",
    "#preds[user_check] = pred_existing_users\n",
    "#preds[~user_check] = pred_new_users "
   ]
  },
  {
   "cell_type": "code",
   "execution_count": 85,
   "metadata": {
    "execution": {
     "iopub.execute_input": "2020-12-06T10:56:56.884390Z",
     "iopub.status.busy": "2020-12-06T10:56:56.883572Z",
     "iopub.status.idle": "2020-12-06T10:56:56.885978Z",
     "shell.execute_reply": "2020-12-06T10:56:56.886559Z"
    },
    "papermill": {
     "duration": 0.136887,
     "end_time": "2020-12-06T10:56:56.886720",
     "exception": false,
     "start_time": "2020-12-06T10:56:56.749833",
     "status": "completed"
    },
    "tags": []
   },
   "outputs": [],
   "source": [
    "# how to make first_attempt\n",
    "# takes about 10 minutes\n",
    "#train[\"first_attempt\"] = train[[\"row_id\", \"user_id\", \"content_id\"]].groupby(\"user_id\").progress_apply(lambda x: \n",
    "#                                                                    pd.DataFrame(np.isin(x[\"row_id\"].values, x.drop_duplicates(\"content_id\")[\"row_id\"].values))).values\n",
    "\n",
    "#for i in list(train.user_id.unique())[:10]:\n",
    "#    tmp1 = np.isin(train[train.user_id==i][\"row_id\"].values, train[train.user_id==i].groupby(\"content_id\").first()[\"row_id\"].values)\n",
    "#    tmp2 = np.isin(train[train.user_id==i][\"row_id\"], train[train.user_id==i].drop_duplicates(\"content_id\")[\"row_id\"])\n",
    "#    print(i, np.all(tmp1 == tmp2))\n",
    "\n",
    "#train[[\"row_id\", \"first_attempt\"]].to_csv(\"content_first_attempt.csv\", index=False)"
   ]
  },
  {
   "cell_type": "code",
   "execution_count": 86,
   "metadata": {
    "execution": {
     "iopub.execute_input": "2020-12-06T10:56:57.143323Z",
     "iopub.status.busy": "2020-12-06T10:56:57.142192Z",
     "iopub.status.idle": "2020-12-06T10:56:57.145805Z",
     "shell.execute_reply": "2020-12-06T10:56:57.145161Z"
    },
    "papermill": {
     "duration": 0.133152,
     "end_time": "2020-12-06T10:56:57.145941",
     "exception": false,
     "start_time": "2020-12-06T10:56:57.012789",
     "status": "completed"
    },
    "tags": []
   },
   "outputs": [],
   "source": [
    "#mod_train = train.iloc[:100,:].copy()\n",
    "#mod_train[\"first_attempt\"] = mod_train[[\"row_id\", \"user_id\", \"content_id\"]].groupby(\"user_id\").progress_apply(lambda x: \n",
    "#                                                                    pd.DataFrame(np.isin(x[\"row_id\"].values, x.drop_duplicates(\"content_id\")[\"row_id\"].values))).values\n",
    "#mod_train.head()"
   ]
  },
  {
   "cell_type": "code",
   "execution_count": 87,
   "metadata": {
    "execution": {
     "iopub.execute_input": "2020-12-06T10:56:57.403515Z",
     "iopub.status.busy": "2020-12-06T10:56:57.402604Z",
     "iopub.status.idle": "2020-12-06T10:56:57.405265Z",
     "shell.execute_reply": "2020-12-06T10:56:57.405861Z"
    },
    "papermill": {
     "duration": 0.133313,
     "end_time": "2020-12-06T10:56:57.406024",
     "exception": false,
     "start_time": "2020-12-06T10:56:57.272711",
     "status": "completed"
    },
    "tags": []
   },
   "outputs": [],
   "source": [
    "#%%time\n",
    "#user_content_agg = train.groupby(\"user_id\")[\"content_id\"].unique().reset_index().set_index(\"user_id\")\n",
    "\n",
    "#value = []\n",
    "#for j in user_content_agg.index:\n",
    "#    a = bitarray(32737, endian='little')\n",
    "#    a.setall(True)\n",
    "#    for i in user_content_agg.loc[j][0]:\n",
    "#        a[i] = 0\n",
    "#    value.append(a)\n",
    "    \n",
    "#user_content_agg[\"content_exp\"] = value\n",
    "\n",
    "#user_content_dict = user_content_agg[\"content_exp\"].to_dict(defaultdict(int))"
   ]
  },
  {
   "cell_type": "code",
   "execution_count": 88,
   "metadata": {
    "execution": {
     "iopub.execute_input": "2020-12-06T10:56:57.661503Z",
     "iopub.status.busy": "2020-12-06T10:56:57.660391Z",
     "iopub.status.idle": "2020-12-06T10:56:57.663787Z",
     "shell.execute_reply": "2020-12-06T10:56:57.663104Z"
    },
    "papermill": {
     "duration": 0.133202,
     "end_time": "2020-12-06T10:56:57.663909",
     "exception": false,
     "start_time": "2020-12-06T10:56:57.530707",
     "status": "completed"
    },
    "tags": []
   },
   "outputs": [],
   "source": [
    "#user_content_dict = user_content_agg[\"content_exp\"].to_dict()\n",
    "#mod_first_attempt_values = []\n",
    "#for i, (user_id, content_id) in enumerate(zip(example_test['user_id'].values, example_test['content_id'].values)):\n",
    "#    if not user_id in user_content_dict.keys():\n",
    "#        a = bitarray(32737, endian='little')\n",
    "#        a.setall(True)   \n",
    "#        user_content_dict[user_id] = a\n",
    "#    mod_first_attempt_values.append(user_content_dict[user_id][content_id])\n",
    "#    user_content_dict[user_id][content_id] = False "
   ]
  },
  {
   "cell_type": "code",
   "execution_count": 89,
   "metadata": {
    "execution": {
     "iopub.execute_input": "2020-12-06T10:56:57.920670Z",
     "iopub.status.busy": "2020-12-06T10:56:57.919712Z",
     "iopub.status.idle": "2020-12-06T10:56:57.922974Z",
     "shell.execute_reply": "2020-12-06T10:56:57.922213Z"
    },
    "papermill": {
     "duration": 0.134212,
     "end_time": "2020-12-06T10:56:57.923106",
     "exception": false,
     "start_time": "2020-12-06T10:56:57.788894",
     "status": "completed"
    },
    "tags": []
   },
   "outputs": [],
   "source": [
    "#def make_bitarray():\n",
    "#    a = bitarray(32737, endian='little')\n",
    "#    a.setall(True)   \n",
    "#    return a\n",
    "    \n",
    "#user_content_dict = user_content_agg[\"content_exp\"].to_dict(defaultdict(make_bitarray))\n",
    "#mod_first_attempt_values2 = []\n",
    "#for i, (user_id, content_id) in enumerate(zip(example_test['user_id'].values, example_test['content_id'].values)):\n",
    "#    mod_first_attempt_values2.append(user_content_dict[user_id][content_id])\n",
    "#    user_content_dict[user_id][content_id] = False "
   ]
  },
  {
   "cell_type": "code",
   "execution_count": 90,
   "metadata": {
    "execution": {
     "iopub.execute_input": "2020-12-06T10:56:58.181733Z",
     "iopub.status.busy": "2020-12-06T10:56:58.180749Z",
     "iopub.status.idle": "2020-12-06T10:56:58.183635Z",
     "shell.execute_reply": "2020-12-06T10:56:58.184194Z"
    },
    "papermill": {
     "duration": 0.135098,
     "end_time": "2020-12-06T10:56:58.184356",
     "exception": false,
     "start_time": "2020-12-06T10:56:58.049258",
     "status": "completed"
    },
    "tags": []
   },
   "outputs": [],
   "source": [
    "#user_content_dict = user_content_agg[\"content_exp\"].to_dict(defaultdict(int))\n",
    "#first_attempt_values = []\n",
    "#for i, (user_id, content_id) in enumerate(zip(example_test['user_id'].values, example_test['content_id'].values)):\n",
    "#    if not user_id in user_content_agg.index:\n",
    "#        a = bitarray(32737, endian='little')\n",
    "#        a.setall(True)   \n",
    "#        user_content_dict[user_id] = a\n",
    "#    first_attempt_values.append(user_content_dict[user_id][content_id])\n",
    "#    user_content_dict[user_id][content_id] = False "
   ]
  },
  {
   "cell_type": "code",
   "execution_count": 91,
   "metadata": {
    "execution": {
     "iopub.execute_input": "2020-12-06T10:56:58.441582Z",
     "iopub.status.busy": "2020-12-06T10:56:58.440786Z",
     "iopub.status.idle": "2020-12-06T10:56:58.443912Z",
     "shell.execute_reply": "2020-12-06T10:56:58.443293Z"
    },
    "papermill": {
     "duration": 0.133061,
     "end_time": "2020-12-06T10:56:58.444028",
     "exception": false,
     "start_time": "2020-12-06T10:56:58.310967",
     "status": "completed"
    },
    "tags": []
   },
   "outputs": [],
   "source": [
    "#for i, (user_id, content_id) in enumerate(zip(example_test['user_id'].values, example_test['content_id'].values)):\n",
    "#    print(i,train[(train[\"user_id\"]==user_id) & (train[\"content_id\"]==content_id)].shape, mod_first_attempt_values2[i])"
   ]
  },
  {
   "cell_type": "code",
   "execution_count": 92,
   "metadata": {
    "execution": {
     "iopub.execute_input": "2020-12-06T10:56:58.700252Z",
     "iopub.status.busy": "2020-12-06T10:56:58.699485Z",
     "iopub.status.idle": "2020-12-06T10:56:58.702245Z",
     "shell.execute_reply": "2020-12-06T10:56:58.701530Z"
    },
    "papermill": {
     "duration": 0.13247,
     "end_time": "2020-12-06T10:56:58.702367",
     "exception": false,
     "start_time": "2020-12-06T10:56:58.569897",
     "status": "completed"
    },
    "tags": []
   },
   "outputs": [],
   "source": [
    "#example_test[\"first_attempt\"] = first_attempt_values"
   ]
  },
  {
   "cell_type": "code",
   "execution_count": 93,
   "metadata": {
    "execution": {
     "iopub.execute_input": "2020-12-06T10:56:58.960399Z",
     "iopub.status.busy": "2020-12-06T10:56:58.959574Z",
     "iopub.status.idle": "2020-12-06T10:56:58.963118Z",
     "shell.execute_reply": "2020-12-06T10:56:58.962507Z"
    },
    "papermill": {
     "duration": 0.134652,
     "end_time": "2020-12-06T10:56:58.963268",
     "exception": false,
     "start_time": "2020-12-06T10:56:58.828616",
     "status": "completed"
    },
    "tags": []
   },
   "outputs": [],
   "source": [
    "#from bitarray import bitarray\n",
    "#sample_list = []\n",
    "#for i in range(393656):\n",
    "#    a = bitarray(13782, endian='little') # important to setup a fixed endianess.\n",
    "#    a.setall(True)\n",
    "#    sample_list.append(a)"
   ]
  },
  {
   "cell_type": "code",
   "execution_count": 94,
   "metadata": {
    "execution": {
     "iopub.execute_input": "2020-12-06T10:56:59.226246Z",
     "iopub.status.busy": "2020-12-06T10:56:59.225210Z",
     "iopub.status.idle": "2020-12-06T10:56:59.228318Z",
     "shell.execute_reply": "2020-12-06T10:56:59.227544Z"
    },
    "papermill": {
     "duration": 0.135235,
     "end_time": "2020-12-06T10:56:59.228446",
     "exception": false,
     "start_time": "2020-12-06T10:56:59.093211",
     "status": "completed"
    },
    "tags": []
   },
   "outputs": [],
   "source": [
    "#user_agg = train.groupby('user_id')['answered_correctly'].agg(['sum', 'count'])\n",
    "#user_count_dict = user_agg['count'].astype('int16').to_dict(defaultdict(int))\n",
    "#user_count_dict"
   ]
  },
  {
   "cell_type": "code",
   "execution_count": 95,
   "metadata": {
    "execution": {
     "iopub.execute_input": "2020-12-06T10:56:59.556738Z",
     "iopub.status.busy": "2020-12-06T10:56:59.555532Z",
     "iopub.status.idle": "2020-12-06T10:56:59.558811Z",
     "shell.execute_reply": "2020-12-06T10:56:59.558168Z"
    },
    "papermill": {
     "duration": 0.146287,
     "end_time": "2020-12-06T10:56:59.558943",
     "exception": false,
     "start_time": "2020-12-06T10:56:59.412656",
     "status": "completed"
    },
    "tags": []
   },
   "outputs": [],
   "source": [
    "#user_try = train.groupby('user_id')['row_id'].agg([\"count\"])\n",
    "#user_try_dict = user_try['count'].astype('int16').to_dict(defaultdict(int))\n",
    "#user_try_dict.head()"
   ]
  },
  {
   "cell_type": "code",
   "execution_count": 96,
   "metadata": {
    "execution": {
     "iopub.execute_input": "2020-12-06T10:56:59.825117Z",
     "iopub.status.busy": "2020-12-06T10:56:59.824094Z",
     "iopub.status.idle": "2020-12-06T10:56:59.827524Z",
     "shell.execute_reply": "2020-12-06T10:56:59.826726Z"
    },
    "papermill": {
     "duration": 0.136329,
     "end_time": "2020-12-06T10:56:59.827670",
     "exception": false,
     "start_time": "2020-12-06T10:56:59.691341",
     "status": "completed"
    },
    "tags": []
   },
   "outputs": [],
   "source": [
    "#user_count_dict == user_try_dict"
   ]
  }
 ],
 "metadata": {
  "kernelspec": {
   "display_name": "Python 3",
   "language": "python",
   "name": "python3"
  },
  "language_info": {
   "codemirror_mode": {
    "name": "ipython",
    "version": 3
   },
   "file_extension": ".py",
   "mimetype": "text/x-python",
   "name": "python",
   "nbconvert_exporter": "python",
   "pygments_lexer": "ipython3",
   "version": "3.7.6"
  },
  "papermill": {
   "duration": 145.179821,
   "end_time": "2020-12-06T10:57:00.066013",
   "environment_variables": {},
   "exception": null,
   "input_path": "__notebook__.ipynb",
   "output_path": "__notebook__.ipynb",
   "parameters": {},
   "start_time": "2020-12-06T10:54:34.886192",
   "version": "2.1.0"
  },
  "widgets": {
   "application/vnd.jupyter.widget-state+json": {
    "state": {
     "0d1c45eb070047a9b0dee4726f6a8a16": {
      "model_module": "@jupyter-widgets/controls",
      "model_module_version": "1.5.0",
      "model_name": "ProgressStyleModel",
      "state": {
       "_model_module": "@jupyter-widgets/controls",
       "_model_module_version": "1.5.0",
       "_model_name": "ProgressStyleModel",
       "_view_count": null,
       "_view_module": "@jupyter-widgets/base",
       "_view_module_version": "1.2.0",
       "_view_name": "StyleView",
       "bar_color": null,
       "description_width": "initial"
      }
     },
     "2e4d2d2627504d0485bfd8d98b64d387": {
      "model_module": "@jupyter-widgets/base",
      "model_module_version": "1.2.0",
      "model_name": "LayoutModel",
      "state": {
       "_model_module": "@jupyter-widgets/base",
       "_model_module_version": "1.2.0",
       "_model_name": "LayoutModel",
       "_view_count": null,
       "_view_module": "@jupyter-widgets/base",
       "_view_module_version": "1.2.0",
       "_view_name": "LayoutView",
       "align_content": null,
       "align_items": null,
       "align_self": null,
       "border": null,
       "bottom": null,
       "display": null,
       "flex": null,
       "flex_flow": null,
       "grid_area": null,
       "grid_auto_columns": null,
       "grid_auto_flow": null,
       "grid_auto_rows": null,
       "grid_column": null,
       "grid_gap": null,
       "grid_row": null,
       "grid_template_areas": null,
       "grid_template_columns": null,
       "grid_template_rows": null,
       "height": null,
       "justify_content": null,
       "justify_items": null,
       "left": null,
       "margin": null,
       "max_height": null,
       "max_width": null,
       "min_height": null,
       "min_width": null,
       "object_fit": null,
       "object_position": null,
       "order": null,
       "overflow": null,
       "overflow_x": null,
       "overflow_y": null,
       "padding": null,
       "right": null,
       "top": null,
       "visibility": null,
       "width": null
      }
     },
     "529531050f1e44b9a7b7a060538038ad": {
      "model_module": "@jupyter-widgets/controls",
      "model_module_version": "1.5.0",
      "model_name": "HBoxModel",
      "state": {
       "_dom_classes": [],
       "_model_module": "@jupyter-widgets/controls",
       "_model_module_version": "1.5.0",
       "_model_name": "HBoxModel",
       "_view_count": null,
       "_view_module": "@jupyter-widgets/controls",
       "_view_module_version": "1.5.0",
       "_view_name": "HBoxView",
       "box_style": "",
       "children": [
        "IPY_MODEL_568afa84c37642fc94f94ce289a4a3b8",
        "IPY_MODEL_7d5463e2a0e747da9dbc74d821cdd42e"
       ],
       "layout": "IPY_MODEL_2e4d2d2627504d0485bfd8d98b64d387"
      }
     },
     "568afa84c37642fc94f94ce289a4a3b8": {
      "model_module": "@jupyter-widgets/controls",
      "model_module_version": "1.5.0",
      "model_name": "FloatProgressModel",
      "state": {
       "_dom_classes": [],
       "_model_module": "@jupyter-widgets/controls",
       "_model_module_version": "1.5.0",
       "_model_name": "FloatProgressModel",
       "_view_count": null,
       "_view_module": "@jupyter-widgets/controls",
       "_view_module_version": "1.5.0",
       "_view_name": "ProgressView",
       "bar_style": "success",
       "description": "100%",
       "description_tooltip": null,
       "layout": "IPY_MODEL_ae4b0fb587134513a34b6ef2f0978b3b",
       "max": 13523.0,
       "min": 0.0,
       "orientation": "horizontal",
       "style": "IPY_MODEL_0d1c45eb070047a9b0dee4726f6a8a16",
       "value": 13523.0
      }
     },
     "7d5463e2a0e747da9dbc74d821cdd42e": {
      "model_module": "@jupyter-widgets/controls",
      "model_module_version": "1.5.0",
      "model_name": "HTMLModel",
      "state": {
       "_dom_classes": [],
       "_model_module": "@jupyter-widgets/controls",
       "_model_module_version": "1.5.0",
       "_model_name": "HTMLModel",
       "_view_count": null,
       "_view_module": "@jupyter-widgets/controls",
       "_view_module_version": "1.5.0",
       "_view_name": "HTMLView",
       "description": "",
       "description_tooltip": null,
       "layout": "IPY_MODEL_daa9be79cc3b46c2a7b8b3fc64182a5c",
       "placeholder": "​",
       "style": "IPY_MODEL_a190c710617e4bd7b8329b03f1d633a1",
       "value": " 13523/13523 [00:28&lt;00:00, 479.60it/s]"
      }
     },
     "a190c710617e4bd7b8329b03f1d633a1": {
      "model_module": "@jupyter-widgets/controls",
      "model_module_version": "1.5.0",
      "model_name": "DescriptionStyleModel",
      "state": {
       "_model_module": "@jupyter-widgets/controls",
       "_model_module_version": "1.5.0",
       "_model_name": "DescriptionStyleModel",
       "_view_count": null,
       "_view_module": "@jupyter-widgets/base",
       "_view_module_version": "1.2.0",
       "_view_name": "StyleView",
       "description_width": ""
      }
     },
     "ae4b0fb587134513a34b6ef2f0978b3b": {
      "model_module": "@jupyter-widgets/base",
      "model_module_version": "1.2.0",
      "model_name": "LayoutModel",
      "state": {
       "_model_module": "@jupyter-widgets/base",
       "_model_module_version": "1.2.0",
       "_model_name": "LayoutModel",
       "_view_count": null,
       "_view_module": "@jupyter-widgets/base",
       "_view_module_version": "1.2.0",
       "_view_name": "LayoutView",
       "align_content": null,
       "align_items": null,
       "align_self": null,
       "border": null,
       "bottom": null,
       "display": null,
       "flex": null,
       "flex_flow": null,
       "grid_area": null,
       "grid_auto_columns": null,
       "grid_auto_flow": null,
       "grid_auto_rows": null,
       "grid_column": null,
       "grid_gap": null,
       "grid_row": null,
       "grid_template_areas": null,
       "grid_template_columns": null,
       "grid_template_rows": null,
       "height": null,
       "justify_content": null,
       "justify_items": null,
       "left": null,
       "margin": null,
       "max_height": null,
       "max_width": null,
       "min_height": null,
       "min_width": null,
       "object_fit": null,
       "object_position": null,
       "order": null,
       "overflow": null,
       "overflow_x": null,
       "overflow_y": null,
       "padding": null,
       "right": null,
       "top": null,
       "visibility": null,
       "width": null
      }
     },
     "daa9be79cc3b46c2a7b8b3fc64182a5c": {
      "model_module": "@jupyter-widgets/base",
      "model_module_version": "1.2.0",
      "model_name": "LayoutModel",
      "state": {
       "_model_module": "@jupyter-widgets/base",
       "_model_module_version": "1.2.0",
       "_model_name": "LayoutModel",
       "_view_count": null,
       "_view_module": "@jupyter-widgets/base",
       "_view_module_version": "1.2.0",
       "_view_name": "LayoutView",
       "align_content": null,
       "align_items": null,
       "align_self": null,
       "border": null,
       "bottom": null,
       "display": null,
       "flex": null,
       "flex_flow": null,
       "grid_area": null,
       "grid_auto_columns": null,
       "grid_auto_flow": null,
       "grid_auto_rows": null,
       "grid_column": null,
       "grid_gap": null,
       "grid_row": null,
       "grid_template_areas": null,
       "grid_template_columns": null,
       "grid_template_rows": null,
       "height": null,
       "justify_content": null,
       "justify_items": null,
       "left": null,
       "margin": null,
       "max_height": null,
       "max_width": null,
       "min_height": null,
       "min_width": null,
       "object_fit": null,
       "object_position": null,
       "order": null,
       "overflow": null,
       "overflow_x": null,
       "overflow_y": null,
       "padding": null,
       "right": null,
       "top": null,
       "visibility": null,
       "width": null
      }
     }
    },
    "version_major": 2,
    "version_minor": 0
   }
  }
 },
 "nbformat": 4,
 "nbformat_minor": 4
}
