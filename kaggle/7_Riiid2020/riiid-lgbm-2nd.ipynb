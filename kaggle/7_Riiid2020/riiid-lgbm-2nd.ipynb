{
 "cells": [
  {
   "cell_type": "markdown",
   "metadata": {
    "papermill": {
     "duration": 0.029734,
     "end_time": "2020-12-02T13:50:01.418491",
     "exception": false,
     "start_time": "2020-12-02T13:50:01.388757",
     "status": "completed"
    },
    "tags": []
   },
   "source": [
    "- add lec num"
   ]
  },
  {
   "cell_type": "code",
   "execution_count": 1,
   "metadata": {
    "_cell_guid": "b1076dfc-b9ad-4769-8c92-a6c4dae69d19",
    "_uuid": "8f2839f25d086af736a60e9eeb907d3b93b6e0e5",
    "execution": {
     "iopub.execute_input": "2020-12-02T13:50:01.478970Z",
     "iopub.status.busy": "2020-12-02T13:50:01.478023Z",
     "iopub.status.idle": "2020-12-02T13:50:30.365926Z",
     "shell.execute_reply": "2020-12-02T13:50:30.365269Z"
    },
    "papermill": {
     "duration": 28.921281,
     "end_time": "2020-12-02T13:50:30.366056",
     "exception": false,
     "start_time": "2020-12-02T13:50:01.444775",
     "status": "completed"
    },
    "tags": []
   },
   "outputs": [],
   "source": [
    "!pip install ../input/python-datatable/datatable-0.11.0-cp37-cp37m-manylinux2010_x86_64.whl > /dev/null 2>&1"
   ]
  },
  {
   "cell_type": "code",
   "execution_count": 2,
   "metadata": {
    "_cell_guid": "79c7e3d0-c299-4dcb-8224-4455121ee9b0",
    "_uuid": "d629ff2d2480ee46fbb7e2d37f6b5fab8052498a",
    "execution": {
     "iopub.execute_input": "2020-12-02T13:50:30.411279Z",
     "iopub.status.busy": "2020-12-02T13:50:30.410655Z",
     "iopub.status.idle": "2020-12-02T13:50:31.340258Z",
     "shell.execute_reply": "2020-12-02T13:50:31.339410Z"
    },
    "papermill": {
     "duration": 0.95619,
     "end_time": "2020-12-02T13:50:31.340387",
     "exception": false,
     "start_time": "2020-12-02T13:50:30.384197",
     "status": "completed"
    },
    "tags": []
   },
   "outputs": [
    {
     "data": {
      "text/html": [
       "<style type='text/css'>\n",
       ".datatable table.frame { margin-bottom: 0; }\n",
       ".datatable table.frame thead { border-bottom: none; }\n",
       ".datatable table.frame tr.coltypes td {  color: #FFFFFF;  line-height: 6px;  padding: 0 0.5em;}\n",
       ".datatable .bool    { background: #DDDD99; }\n",
       ".datatable .object  { background: #565656; }\n",
       ".datatable .int     { background: #5D9E5D; }\n",
       ".datatable .float   { background: #4040CC; }\n",
       ".datatable .str     { background: #CC4040; }\n",
       ".datatable .row_index {  background: var(--jp-border-color3);  border-right: 1px solid var(--jp-border-color0);  color: var(--jp-ui-font-color3);  font-size: 9px;}\n",
       ".datatable .frame tr.coltypes .row_index {  background: var(--jp-border-color0);}\n",
       ".datatable th:nth-child(2) { padding-left: 12px; }\n",
       ".datatable .hellipsis {  color: var(--jp-cell-editor-border-color);}\n",
       ".datatable .vellipsis {  background: var(--jp-layout-color0);  color: var(--jp-cell-editor-border-color);}\n",
       ".datatable .na {  color: var(--jp-cell-editor-border-color);  font-size: 80%;}\n",
       ".datatable .footer { font-size: 9px; }\n",
       ".datatable .frame_dimensions {  background: var(--jp-border-color3);  border-top: 1px solid var(--jp-border-color0);  color: var(--jp-ui-font-color3);  display: inline-block;  opacity: 0.6;  padding: 1px 10px 1px 5px;}\n",
       ".datatable .frame thead tr.colnames {  background-image: url('data:image/png;base64,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');  background-repeat: repeat-x;  background-size: 14px;  height: 28px;}\n",
       "</style>\n"
      ],
      "text/plain": [
       "<IPython.core.display.HTML object>"
      ]
     },
     "metadata": {},
     "output_type": "display_data"
    },
    {
     "name": "stderr",
     "output_type": "stream",
     "text": [
      "/opt/conda/lib/python3.7/site-packages/ipykernel_launcher.py:11: TqdmDeprecationWarning: This function will be removed in tqdm==5.0.0\n",
      "Please use `tqdm.notebook.*` instead of `tqdm._tqdm_notebook.*`\n",
      "  # This is added back by InteractiveShellApp.init_path()\n",
      "/opt/conda/lib/python3.7/site-packages/tqdm/std.py:666: FutureWarning: The Panel class is removed from pandas. Accessing it from the top-level namespace will also be removed in the next version\n",
      "  from pandas import Panel\n"
     ]
    }
   ],
   "source": [
    "import numpy as np\n",
    "import pandas as pd\n",
    "from collections import defaultdict\n",
    "import datatable as dt\n",
    "import lightgbm as lgb\n",
    "from matplotlib import pyplot as plt\n",
    "import riiideducation\n",
    "from bitarray import bitarray\n",
    "from lightgbm import LGBMClassifier\n",
    "\n",
    "from tqdm._tqdm_notebook import tqdm_notebook\n",
    "tqdm_notebook.pandas(desc=\"progress: \")\n",
    "\n",
    "_ = np.seterr(divide='ignore', invalid='ignore')"
   ]
  },
  {
   "cell_type": "code",
   "execution_count": 3,
   "metadata": {
    "execution": {
     "iopub.execute_input": "2020-12-02T13:50:31.402946Z",
     "iopub.status.busy": "2020-12-02T13:50:31.402293Z",
     "iopub.status.idle": "2020-12-02T13:50:31.406304Z",
     "shell.execute_reply": "2020-12-02T13:50:31.405646Z"
    },
    "papermill": {
     "duration": 0.037207,
     "end_time": "2020-12-02T13:50:31.406403",
     "exception": false,
     "start_time": "2020-12-02T13:50:31.369196",
     "status": "completed"
    },
    "tags": []
   },
   "outputs": [],
   "source": [
    "def make_bitarray():\n",
    "    a = bitarray(32737, endian='little')\n",
    "    a.setall(True)   \n",
    "    return a"
   ]
  },
  {
   "cell_type": "markdown",
   "metadata": {
    "papermill": {
     "duration": 0.018538,
     "end_time": "2020-12-02T13:50:31.443880",
     "exception": false,
     "start_time": "2020-12-02T13:50:31.425342",
     "status": "completed"
    },
    "tags": []
   },
   "source": [
    "# Preprocess"
   ]
  },
  {
   "cell_type": "code",
   "execution_count": 4,
   "metadata": {
    "execution": {
     "iopub.execute_input": "2020-12-02T13:50:31.487915Z",
     "iopub.status.busy": "2020-12-02T13:50:31.486801Z",
     "iopub.status.idle": "2020-12-02T13:50:31.490073Z",
     "shell.execute_reply": "2020-12-02T13:50:31.489405Z"
    },
    "papermill": {
     "duration": 0.027352,
     "end_time": "2020-12-02T13:50:31.490204",
     "exception": false,
     "start_time": "2020-12-02T13:50:31.462852",
     "status": "completed"
    },
    "tags": []
   },
   "outputs": [],
   "source": [
    "data_types_dict = {\n",
    "    #'row_id': 'uint32',\n",
    "    'timestamp': 'uint64',\n",
    "    'user_id': 'int32', \n",
    "    'content_id': 'int16', \n",
    "    'answered_correctly': 'int8', \n",
    "    'prior_question_elapsed_time': 'float32', \n",
    "    'prior_question_had_explanation': 'bool'\n",
    "}\n",
    "target = 'answered_correctly'"
   ]
  },
  {
   "cell_type": "code",
   "execution_count": 5,
   "metadata": {
    "execution": {
     "iopub.execute_input": "2020-12-02T13:50:31.556855Z",
     "iopub.status.busy": "2020-12-02T13:50:31.556227Z",
     "iopub.status.idle": "2020-12-02T13:51:52.781806Z",
     "shell.execute_reply": "2020-12-02T13:51:52.780952Z"
    },
    "papermill": {
     "duration": 81.263137,
     "end_time": "2020-12-02T13:51:52.781933",
     "exception": false,
     "start_time": "2020-12-02T13:50:31.518796",
     "status": "completed"
    },
    "tags": []
   },
   "outputs": [],
   "source": [
    "train_df = dt.fread('../input/riiid-test-answer-prediction/train.csv', columns=set(data_types_dict.keys())).to_pandas()\n",
    "train_df['lec_num'] = train_df[target] == -1\n",
    "user_lec_agg = train_df.groupby(\"user_id\")[\"lec_num\"].sum()\n",
    "train_df['lec_num'] = train_df.groupby(\"user_id\")[\"lec_num\"].cumsum()\n",
    "\n",
    "#lectures = pd.read_csv(\"../input/riiid-test-answer-prediction/lectures.csv\")\n",
    "#train_lec = train_df[train_df[\"answered_correctly\"] == -1].copy().reset_index(drop=True)\n",
    "#train_lec = train_lec.astype(data_types_dict)\n",
    "#train_lec = train_lec.merge(lectures[[\"lecture_id\", \"tag\"]], left_on=\"content_id\", right_on=\"lecture_id\", how=\"left\")\n",
    "#train_lec.drop([\"lecture_id\"], axis=1, inplace=True)\n",
    "#train_lec[\"tag\"] = train_lec[\"tag\"].astype(str)\n",
    "#train_lec[\"tag\"] = train_lec.groupby(\"user_id\")[\"tag\"].apply(lambda x: (x+' ').cumsum())\n",
    "\n",
    "train_df = train_df[train_df[target] != -1].reset_index(drop=True)\n",
    "train_df['prior_question_had_explanation'].fillna(False, inplace=True)\n",
    "train_df['timestamp'] = (train_df['timestamp'] // 86400000) + 1 # days from start\n",
    "train_df = train_df.astype(data_types_dict)\n",
    "\n",
    "#user_learning_time = train_df.drop_duplicates([\"user_id\",\"timestamp\"])[[\"timestamp\", \"user_id\"]].copy().reset_index(drop=True)\n",
    "#user_learning_time[\"blank\"] = user_learning_time.groupby(\"user_id\")[\"timestamp\"].diff()\n",
    "#user_learning_time[\"blank\"] -= 1\n",
    "#user_learning_time[\"blank\"] = user_learning_time[\"blank\"].fillna(0)\n",
    "\n",
    "train_size = 24\n",
    "valid_size = 6\n",
    "train_index = list(train_df.groupby('user_id').tail(train_size).index)"
   ]
  },
  {
   "cell_type": "code",
   "execution_count": 6,
   "metadata": {
    "execution": {
     "iopub.execute_input": "2020-12-02T13:51:52.849937Z",
     "iopub.status.busy": "2020-12-02T13:51:52.849188Z",
     "iopub.status.idle": "2020-12-02T13:52:10.753861Z",
     "shell.execute_reply": "2020-12-02T13:52:10.753176Z"
    },
    "papermill": {
     "duration": 17.942758,
     "end_time": "2020-12-02T13:52:10.753970",
     "exception": false,
     "start_time": "2020-12-02T13:51:52.811212",
     "status": "completed"
    },
    "tags": []
   },
   "outputs": [],
   "source": [
    "questions_df = pd.read_csv(\n",
    "    '../input/riiid-test-answer-prediction/questions.csv', \n",
    "    usecols=[0, 3], #, 4\n",
    "    dtype={'question_id': 'int16', 'part': 'int8'}  #, 'tags': 'object'\n",
    ")\n",
    "train_df = pd.merge(train_df, questions_df, left_on='content_id', right_on='question_id', how='left', right_index=True).reset_index(drop=True)\n",
    "train_df.drop(columns=['question_id'], inplace=True)"
   ]
  },
  {
   "cell_type": "code",
   "execution_count": 7,
   "metadata": {
    "execution": {
     "iopub.execute_input": "2020-12-02T13:52:10.800662Z",
     "iopub.status.busy": "2020-12-02T13:52:10.799676Z",
     "iopub.status.idle": "2020-12-02T13:52:25.273433Z",
     "shell.execute_reply": "2020-12-02T13:52:25.272848Z"
    },
    "papermill": {
     "duration": 14.499757,
     "end_time": "2020-12-02T13:52:25.273550",
     "exception": false,
     "start_time": "2020-12-02T13:52:10.773793",
     "status": "completed"
    },
    "tags": []
   },
   "outputs": [],
   "source": [
    "train_df['lag'] = train_df.groupby('user_id')[target].shift()\n",
    "cum = train_df.groupby('user_id')['lag'].agg(['cumsum', 'cumcount'])\n",
    "user_correctness_array = np.array(cum['cumsum'] / cum['cumcount'])\n",
    "user_correctness_array = user_correctness_array[train_index]\n",
    "train_df.drop(columns=['lag'], inplace=True)\n",
    "del cum"
   ]
  },
  {
   "cell_type": "code",
   "execution_count": 8,
   "metadata": {
    "execution": {
     "iopub.execute_input": "2020-12-02T13:52:25.320715Z",
     "iopub.status.busy": "2020-12-02T13:52:25.320092Z",
     "iopub.status.idle": "2020-12-02T13:52:51.463171Z",
     "shell.execute_reply": "2020-12-02T13:52:51.462599Z"
    },
    "papermill": {
     "duration": 26.169796,
     "end_time": "2020-12-02T13:52:51.463288",
     "exception": false,
     "start_time": "2020-12-02T13:52:25.293492",
     "status": "completed"
    },
    "tags": []
   },
   "outputs": [],
   "source": [
    "train_df[\"reading_part\"] = train_df[\"part\"] >=5\n",
    "train_df[\"reading_part\"] = train_df[\"reading_part\"].astype(\"int8\")\n",
    "train_df['reading_part_lag'] = train_df.groupby('user_id')[\"reading_part\"].shift()\n",
    "cum = train_df.groupby('user_id')['reading_part_lag'].agg(['cumsum']) \n",
    "reading_part_count_array = cum['cumsum'].values\n",
    "reading_part_count_array = reading_part_count_array[train_index] \n",
    "train_df.drop(columns=['reading_part_lag', 'reading_part'], inplace=True)\n",
    "del cum"
   ]
  },
  {
   "cell_type": "code",
   "execution_count": 9,
   "metadata": {
    "execution": {
     "iopub.execute_input": "2020-12-02T13:52:51.511445Z",
     "iopub.status.busy": "2020-12-02T13:52:51.510750Z",
     "iopub.status.idle": "2020-12-02T13:53:32.474574Z",
     "shell.execute_reply": "2020-12-02T13:53:32.475056Z"
    },
    "papermill": {
     "duration": 40.991974,
     "end_time": "2020-12-02T13:53:32.475205",
     "exception": false,
     "start_time": "2020-12-02T13:52:51.483231",
     "status": "completed"
    },
    "tags": []
   },
   "outputs": [],
   "source": [
    "train_df[\"listening_part\"] = (train_df[\"part\"] >=1) | (train_df[\"part\"] <=4)\n",
    "train_df[\"listening_part\"] = train_df[\"listening_part\"].astype(\"int8\")\n",
    "train_df['listening_part_lag'] = train_df.groupby('user_id')[\"listening_part\"].shift()\n",
    "cum = train_df.groupby('user_id')['listening_part_lag'].agg(['cumsum']) \n",
    "listening_part_count_array = cum['cumsum'].values\n",
    "listening_part_count_array = listening_part_count_array[train_index]\n",
    "train_df.drop(columns=['listening_part_lag', 'listening_part'], inplace=True)\n",
    "del cum"
   ]
  },
  {
   "cell_type": "code",
   "execution_count": 10,
   "metadata": {
    "execution": {
     "iopub.execute_input": "2020-12-02T13:53:32.521783Z",
     "iopub.status.busy": "2020-12-02T13:53:32.521179Z",
     "iopub.status.idle": "2020-12-02T13:54:00.968239Z",
     "shell.execute_reply": "2020-12-02T13:54:00.967691Z"
    },
    "papermill": {
     "duration": 28.473126,
     "end_time": "2020-12-02T13:54:00.968350",
     "exception": false,
     "start_time": "2020-12-02T13:53:32.495224",
     "status": "completed"
    },
    "tags": []
   },
   "outputs": [],
   "source": [
    "#train_df[\"first_attempt\"] = train_df[[\"row_id\", \"user_id\", \"content_id\"]].groupby(\"user_id\").progress_apply(lambda x: \n",
    "#                               pd.DataFrame(np.isin(x[\"row_id\"].values, x.drop_duplicates(\"content_id\")[\"row_id\"].values))).values\n",
    "#train_df.drop(\"row_id\", axis=1, inplace=True)\n",
    "\n",
    "first_attempt_df = pd.read_csv(\"../input/riiid-additional-data/content_first_attempt.csv\")\n",
    "first_attempt_array = first_attempt_df.first_attempt.values\n",
    "first_attempt_array = first_attempt_array[train_index]\n",
    "del first_attempt_df"
   ]
  },
  {
   "cell_type": "code",
   "execution_count": 11,
   "metadata": {
    "execution": {
     "iopub.execute_input": "2020-12-02T13:54:01.017987Z",
     "iopub.status.busy": "2020-12-02T13:54:01.017206Z",
     "iopub.status.idle": "2020-12-02T13:54:16.166335Z",
     "shell.execute_reply": "2020-12-02T13:54:16.165637Z"
    },
    "papermill": {
     "duration": 15.177866,
     "end_time": "2020-12-02T13:54:16.166468",
     "exception": false,
     "start_time": "2020-12-02T13:54:00.988602",
     "status": "completed"
    },
    "tags": []
   },
   "outputs": [],
   "source": [
    "user_agg = train_df.groupby('user_id')[target].agg(['sum', 'count'])\n",
    "content_agg = train_df.groupby('content_id')[target].agg(['sum', 'count'])\n",
    "\n",
    "user_sum_dict = user_agg['sum'].astype('int16').to_dict(defaultdict(int))\n",
    "user_count_dict = user_agg['count'].astype('int16').to_dict(defaultdict(int))\n",
    "content_sum_dict = content_agg['sum'].astype('int32').to_dict(defaultdict(int))\n",
    "content_count_dict = content_agg['count'].astype('int32').to_dict(defaultdict(int))\n",
    "\n",
    "content_count_array = train_df['content_id'].map(content_agg['count']).astype('int32').values\n",
    "content_id_array = train_df['content_id'].map(content_agg['sum'] / content_agg['count']).values\n",
    "content_count_array = content_count_array[train_index]\n",
    "content_id_array = content_id_array[train_index]\n",
    "\n",
    "del user_agg, content_agg"
   ]
  },
  {
   "cell_type": "code",
   "execution_count": 12,
   "metadata": {
    "execution": {
     "iopub.execute_input": "2020-12-02T13:54:16.243193Z",
     "iopub.status.busy": "2020-12-02T13:54:16.241981Z",
     "iopub.status.idle": "2020-12-02T13:56:37.416778Z",
     "shell.execute_reply": "2020-12-02T13:56:37.417510Z"
    },
    "papermill": {
     "duration": 141.220769,
     "end_time": "2020-12-02T13:56:37.417694",
     "exception": false,
     "start_time": "2020-12-02T13:54:16.196925",
     "status": "completed"
    },
    "tags": []
   },
   "outputs": [
    {
     "name": "stdout",
     "output_type": "stream",
     "text": [
      "CPU times: user 2min 16s, sys: 4.18 s, total: 2min 21s\n",
      "Wall time: 2min 21s\n"
     ]
    }
   ],
   "source": [
    "%%time\n",
    "user_content_agg = train_df.groupby(\"user_id\")[\"content_id\"].unique().reset_index().set_index(\"user_id\")\n",
    "\n",
    "value = []\n",
    "for j in user_content_agg.index:\n",
    "    a = bitarray(32737, endian='little')\n",
    "    a.setall(True)\n",
    "    for i in user_content_agg.loc[j][0]:\n",
    "        a[i] = 0\n",
    "    value.append(a)\n",
    "    \n",
    "user_content_agg[\"content_exp\"] = value\n",
    "\n",
    "user_content_dict = user_content_agg[\"content_exp\"].to_dict(defaultdict(make_bitarray))\n",
    "del user_content_agg"
   ]
  },
  {
   "cell_type": "code",
   "execution_count": 13,
   "metadata": {
    "execution": {
     "iopub.execute_input": "2020-12-02T13:56:37.485242Z",
     "iopub.status.busy": "2020-12-02T13:56:37.484587Z",
     "iopub.status.idle": "2020-12-02T13:56:43.779303Z",
     "shell.execute_reply": "2020-12-02T13:56:43.778758Z"
    },
    "papermill": {
     "duration": 6.33095,
     "end_time": "2020-12-02T13:56:43.779413",
     "exception": false,
     "start_time": "2020-12-02T13:56:37.448463",
     "status": "completed"
    },
    "tags": []
   },
   "outputs": [],
   "source": [
    "train_df[\"count\"] = 1\n",
    "count_array = train_df.groupby(\"user_id\")[\"count\"].cumsum().values\n",
    "count_array = count_array[train_index]\n",
    "train_df.drop(\"count\", axis=1, inplace=True)"
   ]
  },
  {
   "cell_type": "code",
   "execution_count": 14,
   "metadata": {
    "execution": {
     "iopub.execute_input": "2020-12-02T13:56:43.826516Z",
     "iopub.status.busy": "2020-12-02T13:56:43.825824Z",
     "iopub.status.idle": "2020-12-02T13:56:54.497206Z",
     "shell.execute_reply": "2020-12-02T13:56:54.496643Z"
    },
    "papermill": {
     "duration": 10.697033,
     "end_time": "2020-12-02T13:56:54.497317",
     "exception": false,
     "start_time": "2020-12-02T13:56:43.800284",
     "status": "completed"
    },
    "tags": []
   },
   "outputs": [],
   "source": [
    "train_df[\"count_inday\"] = 1\n",
    "count_inday_array = train_df.groupby([\"user_id\",\"timestamp\"])[\"count_inday\"].cumsum().values\n",
    "count_inday_array = count_inday_array[train_index]\n",
    "train_df.drop(\"count_inday\", axis=1, inplace=True)"
   ]
  },
  {
   "cell_type": "code",
   "execution_count": 15,
   "metadata": {
    "execution": {
     "iopub.execute_input": "2020-12-02T13:56:54.545447Z",
     "iopub.status.busy": "2020-12-02T13:56:54.544520Z",
     "iopub.status.idle": "2020-12-02T13:57:01.117852Z",
     "shell.execute_reply": "2020-12-02T13:57:01.117461Z"
    },
    "papermill": {
     "duration": 6.599152,
     "end_time": "2020-12-02T13:57:01.117928",
     "exception": false,
     "start_time": "2020-12-02T13:56:54.518776",
     "status": "completed"
    },
    "tags": []
   },
   "outputs": [],
   "source": [
    "train_df = train_df.groupby('user_id').tail(train_size).reset_index(drop=True)"
   ]
  },
  {
   "cell_type": "code",
   "execution_count": 16,
   "metadata": {
    "execution": {
     "iopub.execute_input": "2020-12-02T13:57:01.151588Z",
     "iopub.status.busy": "2020-12-02T13:57:01.151136Z",
     "iopub.status.idle": "2020-12-02T13:57:01.154256Z",
     "shell.execute_reply": "2020-12-02T13:57:01.153894Z"
    },
    "papermill": {
     "duration": 0.021475,
     "end_time": "2020-12-02T13:57:01.154330",
     "exception": false,
     "start_time": "2020-12-02T13:57:01.132855",
     "status": "completed"
    },
    "tags": []
   },
   "outputs": [],
   "source": [
    "#train_df = pd.concat([train_df, train_lec])\n",
    "#train_df = train_df.sort_values(\"row_id\", ascending=True).reset_index(drop=True)\n",
    "#del train_lec\n",
    "#train_df[\"tag\"] = train_df[\"tag\"].astype(str).replace(\"nan\", \"\")\n",
    "#train_df[\"tag\"] = train_df.groupby(\"user_id\")[\"tag\"].apply(lambda x: x.cumsum())\n",
    "#train_df = train_df[train_df[target] != -1].reset_index(drop=True)\n",
    "#tag_array = train_df.tag.values\n",
    "#tags_array = train_df.tags.values\n",
    "#train_df.drop([\"row_id\", \"tag\", \"tags\"], axis=1, inplace=True)\n",
    "\n",
    "#experience_array = [len(set(tag_array[i]).intersection(set(tags_array[i].replace(' ', ',')))) for i in range(train_df.shape[0])]"
   ]
  },
  {
   "cell_type": "code",
   "execution_count": 17,
   "metadata": {
    "execution": {
     "iopub.execute_input": "2020-12-02T13:57:01.207952Z",
     "iopub.status.busy": "2020-12-02T13:57:01.202121Z",
     "iopub.status.idle": "2020-12-02T13:57:04.251932Z",
     "shell.execute_reply": "2020-12-02T13:57:04.251260Z"
    },
    "papermill": {
     "duration": 3.083128,
     "end_time": "2020-12-02T13:57:04.252074",
     "exception": false,
     "start_time": "2020-12-02T13:57:01.168946",
     "status": "completed"
    },
    "tags": []
   },
   "outputs": [],
   "source": [
    "train_df['content_count'] = content_count_array\n",
    "train_df['content_id'] = content_id_array\n",
    "train_df['user_correctness'] = user_correctness_array\n",
    "train_df['reading_part_count'] = reading_part_count_array \n",
    "train_df['listening_part_count'] = listening_part_count_array \n",
    "train_df['first_attempt'] = first_attempt_array\n",
    "train_df['count'] = count_array\n",
    "train_df['count_inday'] = count_inday_array\n",
    "#train_df[\"experience\"] = experience_array\n",
    "#train_df[\"experience\"] = train_df[\"experience\"].apply(lambda x: 1 if x>=1 else 0)\n",
    "#train_df = train_df.merge(user_learning_time, on=[\"user_id\", \"timestamp\"])\n",
    "#del user_learning_time\n",
    "    \n",
    "user_listening_agg = train_df.groupby('user_id')[\"listening_part_count\"].agg(['max'])\n",
    "user_reading_agg = train_df.groupby('user_id')[\"reading_part_count\"].agg(['max'])\n",
    "user_reading_agg['max'].fillna(0,inplace=True)\n",
    "user_listening_agg['max'].fillna(0,inplace=True)\n",
    "\n",
    "user_reading_dict = user_reading_agg['max'].astype('int32').to_dict(defaultdict(int))\n",
    "user_listening_dict = user_listening_agg['max'].astype('int32').to_dict(defaultdict(int))\n",
    "\n",
    "user_timestamp_dict = train_df.groupby(\"user_id\").tail(1)[\"timestamp\"].to_dict(defaultdict(int))\n",
    "user_count_inday_dict = train_df.groupby(\"user_id\").tail(1)[\"count_inday\"].to_dict(defaultdict(int))\n",
    "\n",
    "user_lec_dict = user_lec_agg.astype('int32').to_dict(defaultdict(int))\n",
    "\n",
    "del user_reading_agg, user_listening_agg, user_lec_agg"
   ]
  },
  {
   "cell_type": "code",
   "execution_count": 18,
   "metadata": {
    "execution": {
     "iopub.execute_input": "2020-12-02T13:57:04.303121Z",
     "iopub.status.busy": "2020-12-02T13:57:04.301821Z",
     "iopub.status.idle": "2020-12-02T13:57:06.019828Z",
     "shell.execute_reply": "2020-12-02T13:57:06.019001Z"
    },
    "papermill": {
     "duration": 1.745273,
     "end_time": "2020-12-02T13:57:06.019954",
     "exception": false,
     "start_time": "2020-12-02T13:57:04.274681",
     "status": "completed"
    },
    "tags": []
   },
   "outputs": [
    {
     "data": {
      "text/html": [
       "<div>\n",
       "<style scoped>\n",
       "    .dataframe tbody tr th:only-of-type {\n",
       "        vertical-align: middle;\n",
       "    }\n",
       "\n",
       "    .dataframe tbody tr th {\n",
       "        vertical-align: top;\n",
       "    }\n",
       "\n",
       "    .dataframe thead th {\n",
       "        text-align: right;\n",
       "    }\n",
       "</style>\n",
       "<table border=\"1\" class=\"dataframe\">\n",
       "  <thead>\n",
       "    <tr style=\"text-align: right;\">\n",
       "      <th></th>\n",
       "      <th>timestamp</th>\n",
       "      <th>user_id</th>\n",
       "      <th>content_id</th>\n",
       "      <th>answered_correctly</th>\n",
       "      <th>prior_question_elapsed_time</th>\n",
       "      <th>prior_question_had_explanation</th>\n",
       "      <th>lec_num</th>\n",
       "      <th>part</th>\n",
       "      <th>content_count</th>\n",
       "      <th>user_correctness</th>\n",
       "      <th>reading_part_count</th>\n",
       "      <th>listening_part_count</th>\n",
       "      <th>first_attempt</th>\n",
       "      <th>count</th>\n",
       "      <th>count_inday</th>\n",
       "    </tr>\n",
       "  </thead>\n",
       "  <tbody>\n",
       "    <tr>\n",
       "      <th>0</th>\n",
       "      <td>1</td>\n",
       "      <td>115</td>\n",
       "      <td>0.687217</td>\n",
       "      <td>0</td>\n",
       "      <td>19000.0</td>\n",
       "      <td>False</td>\n",
       "      <td>0</td>\n",
       "      <td>1</td>\n",
       "      <td>36674</td>\n",
       "      <td>0.727273</td>\n",
       "      <td>2.0</td>\n",
       "      <td>22.0</td>\n",
       "      <td>True</td>\n",
       "      <td>23</td>\n",
       "      <td>23</td>\n",
       "    </tr>\n",
       "    <tr>\n",
       "      <th>1</th>\n",
       "      <td>1</td>\n",
       "      <td>115</td>\n",
       "      <td>0.608222</td>\n",
       "      <td>0</td>\n",
       "      <td>21000.0</td>\n",
       "      <td>False</td>\n",
       "      <td>0</td>\n",
       "      <td>1</td>\n",
       "      <td>47047</td>\n",
       "      <td>0.695652</td>\n",
       "      <td>2.0</td>\n",
       "      <td>23.0</td>\n",
       "      <td>True</td>\n",
       "      <td>24</td>\n",
       "      <td>24</td>\n",
       "    </tr>\n",
       "    <tr>\n",
       "      <th>2</th>\n",
       "      <td>1</td>\n",
       "      <td>115</td>\n",
       "      <td>0.601824</td>\n",
       "      <td>1</td>\n",
       "      <td>22000.0</td>\n",
       "      <td>False</td>\n",
       "      <td>0</td>\n",
       "      <td>1</td>\n",
       "      <td>40452</td>\n",
       "      <td>0.666667</td>\n",
       "      <td>2.0</td>\n",
       "      <td>24.0</td>\n",
       "      <td>True</td>\n",
       "      <td>25</td>\n",
       "      <td>25</td>\n",
       "    </tr>\n",
       "    <tr>\n",
       "      <th>3</th>\n",
       "      <td>1</td>\n",
       "      <td>115</td>\n",
       "      <td>0.418436</td>\n",
       "      <td>1</td>\n",
       "      <td>16000.0</td>\n",
       "      <td>False</td>\n",
       "      <td>0</td>\n",
       "      <td>1</td>\n",
       "      <td>190170</td>\n",
       "      <td>0.680000</td>\n",
       "      <td>2.0</td>\n",
       "      <td>25.0</td>\n",
       "      <td>True</td>\n",
       "      <td>26</td>\n",
       "      <td>26</td>\n",
       "    </tr>\n",
       "    <tr>\n",
       "      <th>4</th>\n",
       "      <td>1</td>\n",
       "      <td>115</td>\n",
       "      <td>0.474545</td>\n",
       "      <td>1</td>\n",
       "      <td>20000.0</td>\n",
       "      <td>False</td>\n",
       "      <td>0</td>\n",
       "      <td>1</td>\n",
       "      <td>56707</td>\n",
       "      <td>0.692308</td>\n",
       "      <td>2.0</td>\n",
       "      <td>26.0</td>\n",
       "      <td>True</td>\n",
       "      <td>27</td>\n",
       "      <td>27</td>\n",
       "    </tr>\n",
       "  </tbody>\n",
       "</table>\n",
       "</div>"
      ],
      "text/plain": [
       "   timestamp  user_id  content_id  answered_correctly  \\\n",
       "0          1      115    0.687217                   0   \n",
       "1          1      115    0.608222                   0   \n",
       "2          1      115    0.601824                   1   \n",
       "3          1      115    0.418436                   1   \n",
       "4          1      115    0.474545                   1   \n",
       "\n",
       "   prior_question_elapsed_time  prior_question_had_explanation  lec_num  part  \\\n",
       "0                      19000.0                           False        0     1   \n",
       "1                      21000.0                           False        0     1   \n",
       "2                      22000.0                           False        0     1   \n",
       "3                      16000.0                           False        0     1   \n",
       "4                      20000.0                           False        0     1   \n",
       "\n",
       "   content_count  user_correctness  reading_part_count  listening_part_count  \\\n",
       "0          36674          0.727273                 2.0                  22.0   \n",
       "1          47047          0.695652                 2.0                  23.0   \n",
       "2          40452          0.666667                 2.0                  24.0   \n",
       "3         190170          0.680000                 2.0                  25.0   \n",
       "4          56707          0.692308                 2.0                  26.0   \n",
       "\n",
       "   first_attempt  count  count_inday  \n",
       "0           True     23           23  \n",
       "1           True     24           24  \n",
       "2           True     25           25  \n",
       "3           True     26           26  \n",
       "4           True     27           27  "
      ]
     },
     "execution_count": 18,
     "metadata": {},
     "output_type": "execute_result"
    }
   ],
   "source": [
    "valid_df = train_df.groupby('user_id').tail(valid_size)\n",
    "train_df.drop(valid_df.index, inplace=True)\n",
    "train_df.head()"
   ]
  },
  {
   "cell_type": "code",
   "execution_count": 19,
   "metadata": {
    "execution": {
     "iopub.execute_input": "2020-12-02T13:57:06.091330Z",
     "iopub.status.busy": "2020-12-02T13:57:06.090401Z",
     "iopub.status.idle": "2020-12-02T13:57:06.094806Z",
     "shell.execute_reply": "2020-12-02T13:57:06.093997Z"
    },
    "papermill": {
     "duration": 0.041611,
     "end_time": "2020-12-02T13:57:06.094930",
     "exception": false,
     "start_time": "2020-12-02T13:57:06.053319",
     "status": "completed"
    },
    "tags": []
   },
   "outputs": [
    {
     "name": "stdout",
     "output_type": "stream",
     "text": [
      "(6536675, 15) (2360984, 15)\n"
     ]
    }
   ],
   "source": [
    "print(train_df.shape, valid_df.shape)"
   ]
  },
  {
   "cell_type": "markdown",
   "metadata": {
    "papermill": {
     "duration": 0.034271,
     "end_time": "2020-12-02T13:57:06.162722",
     "exception": false,
     "start_time": "2020-12-02T13:57:06.128451",
     "status": "completed"
    },
    "tags": []
   },
   "source": [
    "# Train"
   ]
  },
  {
   "cell_type": "code",
   "execution_count": 20,
   "metadata": {
    "execution": {
     "iopub.execute_input": "2020-12-02T13:57:06.258896Z",
     "iopub.status.busy": "2020-12-02T13:57:06.258263Z",
     "iopub.status.idle": "2020-12-02T13:57:06.261748Z",
     "shell.execute_reply": "2020-12-02T13:57:06.261229Z"
    },
    "papermill": {
     "duration": 0.065253,
     "end_time": "2020-12-02T13:57:06.261849",
     "exception": false,
     "start_time": "2020-12-02T13:57:06.196596",
     "status": "completed"
    },
    "tags": []
   },
   "outputs": [
    {
     "name": "stdout",
     "output_type": "stream",
     "text": [
      "13\n"
     ]
    }
   ],
   "source": [
    "features = [\n",
    "    'content_id',\n",
    "    'prior_question_elapsed_time',\n",
    "    'prior_question_had_explanation',\n",
    "    'user_correctness',\n",
    "    'part',\n",
    "    'content_count',\n",
    "    'count',\n",
    "    'reading_part_count',\n",
    "    'listening_part_count',\n",
    "    'first_attempt',\n",
    "    'timestamp',\n",
    "    'count_inday',\n",
    "    'lec_num',\n",
    " #   'blank',\n",
    "]\n",
    "\n",
    "params = {\n",
    "    'objective': 'binary',\n",
    "    'seed': 42,\n",
    "    'metric': 'auc',\n",
    "    'learning_rate': 0.05,\n",
    "    'max_bin': 800,\n",
    "    'num_leaves': 80\n",
    "}\n",
    "print(len(features))"
   ]
  },
  {
   "cell_type": "code",
   "execution_count": 21,
   "metadata": {
    "execution": {
     "iopub.execute_input": "2020-12-02T13:57:06.381455Z",
     "iopub.status.busy": "2020-12-02T13:57:06.357445Z",
     "iopub.status.idle": "2020-12-02T14:59:35.613376Z",
     "shell.execute_reply": "2020-12-02T14:59:35.612264Z"
    },
    "papermill": {
     "duration": 3749.32889,
     "end_time": "2020-12-02T14:59:35.613553",
     "exception": false,
     "start_time": "2020-12-02T13:57:06.284663",
     "status": "completed"
    },
    "tags": []
   },
   "outputs": [
    {
     "name": "stdout",
     "output_type": "stream",
     "text": [
      "Training until validation scores don't improve for 50 rounds\n",
      "[50]\ttraining's auc: 0.75702\tvalid_1's auc: 0.741587\n",
      "[100]\ttraining's auc: 0.759422\tvalid_1's auc: 0.744684\n",
      "[150]\ttraining's auc: 0.760536\tvalid_1's auc: 0.745894\n",
      "[200]\ttraining's auc: 0.761127\tvalid_1's auc: 0.746343\n",
      "[250]\ttraining's auc: 0.761525\tvalid_1's auc: 0.746552\n",
      "[300]\ttraining's auc: 0.761867\tvalid_1's auc: 0.746707\n",
      "[350]\ttraining's auc: 0.762173\tvalid_1's auc: 0.746812\n",
      "[400]\ttraining's auc: 0.762478\tvalid_1's auc: 0.74693\n",
      "[450]\ttraining's auc: 0.762775\tvalid_1's auc: 0.747041\n",
      "[500]\ttraining's auc: 0.76307\tvalid_1's auc: 0.747165\n",
      "[550]\ttraining's auc: 0.763338\tvalid_1's auc: 0.747221\n",
      "[600]\ttraining's auc: 0.763618\tvalid_1's auc: 0.747308\n",
      "[650]\ttraining's auc: 0.763893\tvalid_1's auc: 0.747404\n",
      "[700]\ttraining's auc: 0.764135\tvalid_1's auc: 0.747465\n",
      "[750]\ttraining's auc: 0.764386\tvalid_1's auc: 0.747507\n",
      "[800]\ttraining's auc: 0.764627\tvalid_1's auc: 0.747551\n",
      "[850]\ttraining's auc: 0.764863\tvalid_1's auc: 0.74758\n",
      "[900]\ttraining's auc: 0.765091\tvalid_1's auc: 0.747616\n",
      "[950]\ttraining's auc: 0.765341\tvalid_1's auc: 0.74768\n",
      "[1000]\ttraining's auc: 0.765564\tvalid_1's auc: 0.74771\n",
      "[1050]\ttraining's auc: 0.765786\tvalid_1's auc: 0.747743\n",
      "[1100]\ttraining's auc: 0.766003\tvalid_1's auc: 0.747779\n",
      "[1150]\ttraining's auc: 0.766217\tvalid_1's auc: 0.747802\n",
      "[1200]\ttraining's auc: 0.766442\tvalid_1's auc: 0.747823\n",
      "[1250]\ttraining's auc: 0.766661\tvalid_1's auc: 0.747849\n",
      "[1300]\ttraining's auc: 0.766884\tvalid_1's auc: 0.747883\n",
      "[1350]\ttraining's auc: 0.767103\tvalid_1's auc: 0.747914\n",
      "[1400]\ttraining's auc: 0.767315\tvalid_1's auc: 0.747929\n",
      "[1450]\ttraining's auc: 0.76755\tvalid_1's auc: 0.747972\n",
      "[1500]\ttraining's auc: 0.767771\tvalid_1's auc: 0.747994\n",
      "[1550]\ttraining's auc: 0.767994\tvalid_1's auc: 0.748007\n",
      "[1600]\ttraining's auc: 0.768171\tvalid_1's auc: 0.748011\n",
      "[1650]\ttraining's auc: 0.768379\tvalid_1's auc: 0.748028\n",
      "[1700]\ttraining's auc: 0.768582\tvalid_1's auc: 0.748045\n",
      "[1750]\ttraining's auc: 0.768769\tvalid_1's auc: 0.748054\n",
      "[1800]\ttraining's auc: 0.768958\tvalid_1's auc: 0.748062\n",
      "[1850]\ttraining's auc: 0.769164\tvalid_1's auc: 0.748088\n",
      "[1900]\ttraining's auc: 0.769364\tvalid_1's auc: 0.748107\n",
      "[1950]\ttraining's auc: 0.769576\tvalid_1's auc: 0.748127\n",
      "[2000]\ttraining's auc: 0.769778\tvalid_1's auc: 0.748138\n",
      "Early stopping, best iteration is:\n",
      "[1992]\ttraining's auc: 0.769748\tvalid_1's auc: 0.748139\n"
     ]
    },
    {
     "data": {
      "image/png": "[encoded data removed]",
      "text/plain": [
       "<Figure size 432x288 with 1 Axes>"
      ]
     },
     "metadata": {
      "needs_background": "light"
     },
     "output_type": "display_data"
    }
   ],
   "source": [
    "tr_data = lgb.Dataset(train_df[features], label=train_df[target])\n",
    "va_data = lgb.Dataset(valid_df[features], label=valid_df[target])\n",
    "\n",
    "model = lgb.train(\n",
    "    params, \n",
    "    tr_data, \n",
    "    num_boost_round=10000,\n",
    "    valid_sets=[tr_data, va_data], \n",
    "    early_stopping_rounds=50,\n",
    "    verbose_eval=50\n",
    "    )\n",
    "\n",
    "lgb.plot_importance(model, importance_type='gain')\n",
    "plt.show()"
   ]
  },
  {
   "cell_type": "markdown",
   "metadata": {
    "papermill": {
     "duration": 0.038251,
     "end_time": "2020-12-02T14:59:35.708547",
     "exception": false,
     "start_time": "2020-12-02T14:59:35.670296",
     "status": "completed"
    },
    "tags": []
   },
   "source": [
    "# Inference"
   ]
  },
  {
   "cell_type": "code",
   "execution_count": 22,
   "metadata": {
    "execution": {
     "iopub.execute_input": "2020-12-02T14:59:35.792761Z",
     "iopub.status.busy": "2020-12-02T14:59:35.791903Z",
     "iopub.status.idle": "2020-12-02T14:59:35.794546Z",
     "shell.execute_reply": "2020-12-02T14:59:35.795186Z"
    },
    "papermill": {
     "duration": 0.047272,
     "end_time": "2020-12-02T14:59:35.795356",
     "exception": false,
     "start_time": "2020-12-02T14:59:35.748084",
     "status": "completed"
    },
    "tags": []
   },
   "outputs": [],
   "source": [
    "env = riiideducation.make_env()\n",
    "iter_test = env.iter_test()\n",
    "prior_test_df = None"
   ]
  },
  {
   "cell_type": "code",
   "execution_count": 23,
   "metadata": {
    "execution": {
     "iopub.execute_input": "2020-12-02T14:59:35.929783Z",
     "iopub.status.busy": "2020-12-02T14:59:35.923320Z",
     "iopub.status.idle": "2020-12-02T14:59:36.043082Z",
     "shell.execute_reply": "2020-12-02T14:59:36.043554Z"
    },
    "papermill": {
     "duration": 0.189781,
     "end_time": "2020-12-02T14:59:36.043709",
     "exception": false,
     "start_time": "2020-12-02T14:59:35.853928",
     "status": "completed"
    },
    "tags": []
   },
   "outputs": [
    {
     "ename": "KeyError",
     "evalue": "\"['lec_num'] not in index\"",
     "output_type": "error",
     "traceback": [
      "\u001b[0;31m---------------------------------------------------------------------------\u001b[0m",
      "\u001b[0;31mKeyError\u001b[0m                                  Traceback (most recent call last)",
      "\u001b[0;32m<timed exec>\u001b[0m in \u001b[0;36m<module>\u001b[0;34m\u001b[0m\n",
      "\u001b[0;32m/opt/conda/lib/python3.7/site-packages/pandas/core/frame.py\u001b[0m in \u001b[0;36m__getitem__\u001b[0;34m(self, key)\u001b[0m\n\u001b[1;32m   2906\u001b[0m             \u001b[0;32mif\u001b[0m \u001b[0mis_iterator\u001b[0m\u001b[0;34m(\u001b[0m\u001b[0mkey\u001b[0m\u001b[0;34m)\u001b[0m\u001b[0;34m:\u001b[0m\u001b[0;34m\u001b[0m\u001b[0;34m\u001b[0m\u001b[0m\n\u001b[1;32m   2907\u001b[0m                 \u001b[0mkey\u001b[0m \u001b[0;34m=\u001b[0m \u001b[0mlist\u001b[0m\u001b[0;34m(\u001b[0m\u001b[0mkey\u001b[0m\u001b[0;34m)\u001b[0m\u001b[0;34m\u001b[0m\u001b[0;34m\u001b[0m\u001b[0m\n\u001b[0;32m-> 2908\u001b[0;31m             \u001b[0mindexer\u001b[0m \u001b[0;34m=\u001b[0m \u001b[0mself\u001b[0m\u001b[0;34m.\u001b[0m\u001b[0mloc\u001b[0m\u001b[0;34m.\u001b[0m\u001b[0m_get_listlike_indexer\u001b[0m\u001b[0;34m(\u001b[0m\u001b[0mkey\u001b[0m\u001b[0;34m,\u001b[0m \u001b[0maxis\u001b[0m\u001b[0;34m=\u001b[0m\u001b[0;36m1\u001b[0m\u001b[0;34m,\u001b[0m \u001b[0mraise_missing\u001b[0m\u001b[0;34m=\u001b[0m\u001b[0;32mTrue\u001b[0m\u001b[0;34m)\u001b[0m\u001b[0;34m[\u001b[0m\u001b[0;36m1\u001b[0m\u001b[0;34m]\u001b[0m\u001b[0;34m\u001b[0m\u001b[0;34m\u001b[0m\u001b[0m\n\u001b[0m\u001b[1;32m   2909\u001b[0m \u001b[0;34m\u001b[0m\u001b[0m\n\u001b[1;32m   2910\u001b[0m         \u001b[0;31m# take() does not accept boolean indexers\u001b[0m\u001b[0;34m\u001b[0m\u001b[0;34m\u001b[0m\u001b[0;34m\u001b[0m\u001b[0m\n",
      "\u001b[0;32m/opt/conda/lib/python3.7/site-packages/pandas/core/indexing.py\u001b[0m in \u001b[0;36m_get_listlike_indexer\u001b[0;34m(self, key, axis, raise_missing)\u001b[0m\n\u001b[1;32m   1252\u001b[0m             \u001b[0mkeyarr\u001b[0m\u001b[0;34m,\u001b[0m \u001b[0mindexer\u001b[0m\u001b[0;34m,\u001b[0m \u001b[0mnew_indexer\u001b[0m \u001b[0;34m=\u001b[0m \u001b[0max\u001b[0m\u001b[0;34m.\u001b[0m\u001b[0m_reindex_non_unique\u001b[0m\u001b[0;34m(\u001b[0m\u001b[0mkeyarr\u001b[0m\u001b[0;34m)\u001b[0m\u001b[0;34m\u001b[0m\u001b[0;34m\u001b[0m\u001b[0m\n\u001b[1;32m   1253\u001b[0m \u001b[0;34m\u001b[0m\u001b[0m\n\u001b[0;32m-> 1254\u001b[0;31m         \u001b[0mself\u001b[0m\u001b[0;34m.\u001b[0m\u001b[0m_validate_read_indexer\u001b[0m\u001b[0;34m(\u001b[0m\u001b[0mkeyarr\u001b[0m\u001b[0;34m,\u001b[0m \u001b[0mindexer\u001b[0m\u001b[0;34m,\u001b[0m \u001b[0maxis\u001b[0m\u001b[0;34m,\u001b[0m \u001b[0mraise_missing\u001b[0m\u001b[0;34m=\u001b[0m\u001b[0mraise_missing\u001b[0m\u001b[0;34m)\u001b[0m\u001b[0;34m\u001b[0m\u001b[0;34m\u001b[0m\u001b[0m\n\u001b[0m\u001b[1;32m   1255\u001b[0m         \u001b[0;32mreturn\u001b[0m \u001b[0mkeyarr\u001b[0m\u001b[0;34m,\u001b[0m \u001b[0mindexer\u001b[0m\u001b[0;34m\u001b[0m\u001b[0;34m\u001b[0m\u001b[0m\n\u001b[1;32m   1256\u001b[0m \u001b[0;34m\u001b[0m\u001b[0m\n",
      "\u001b[0;32m/opt/conda/lib/python3.7/site-packages/pandas/core/indexing.py\u001b[0m in \u001b[0;36m_validate_read_indexer\u001b[0;34m(self, key, indexer, axis, raise_missing)\u001b[0m\n\u001b[1;32m   1302\u001b[0m             \u001b[0;32mif\u001b[0m \u001b[0mraise_missing\u001b[0m\u001b[0;34m:\u001b[0m\u001b[0;34m\u001b[0m\u001b[0;34m\u001b[0m\u001b[0m\n\u001b[1;32m   1303\u001b[0m                 \u001b[0mnot_found\u001b[0m \u001b[0;34m=\u001b[0m \u001b[0mlist\u001b[0m\u001b[0;34m(\u001b[0m\u001b[0mset\u001b[0m\u001b[0;34m(\u001b[0m\u001b[0mkey\u001b[0m\u001b[0;34m)\u001b[0m \u001b[0;34m-\u001b[0m \u001b[0mset\u001b[0m\u001b[0;34m(\u001b[0m\u001b[0max\u001b[0m\u001b[0;34m)\u001b[0m\u001b[0;34m)\u001b[0m\u001b[0;34m\u001b[0m\u001b[0;34m\u001b[0m\u001b[0m\n\u001b[0;32m-> 1304\u001b[0;31m                 \u001b[0;32mraise\u001b[0m \u001b[0mKeyError\u001b[0m\u001b[0;34m(\u001b[0m\u001b[0;34mf\"{not_found} not in index\"\u001b[0m\u001b[0;34m)\u001b[0m\u001b[0;34m\u001b[0m\u001b[0;34m\u001b[0m\u001b[0m\n\u001b[0m\u001b[1;32m   1305\u001b[0m \u001b[0;34m\u001b[0m\u001b[0m\n\u001b[1;32m   1306\u001b[0m             \u001b[0;31m# we skip the warning on Categorical\u001b[0m\u001b[0;34m\u001b[0m\u001b[0;34m\u001b[0m\u001b[0;34m\u001b[0m\u001b[0m\n",
      "\u001b[0;31mKeyError\u001b[0m: \"['lec_num'] not in index\""
     ]
    }
   ],
   "source": [
    "%%time\n",
    "\n",
    "for (test_df, sample_prediction_df) in iter_test:\n",
    "    if prior_test_df is not None:\n",
    "        prior_test_df[target] = eval(test_df['prior_group_answers_correct'].iloc[0])\n",
    "        \n",
    "        user_ids = prior_test_df['user_id'].values\n",
    "        content_type_ids = prior_test_df['content_type_id'].values\n",
    "        for user_id, content_type_ornot in zip(user_ids, content_type_ids):\n",
    "            user_lec_dict[user_id] += content_type_ornot\n",
    "        \n",
    "        prior_test_df = prior_test_df[prior_test_df[target] != -1].reset_index(drop=True)\n",
    "        \n",
    "        user_ids = prior_test_df['user_id'].values\n",
    "        content_ids = prior_test_df['content_id'].values\n",
    "        targets = prior_test_df[target].values\n",
    "        parts = prior_part_arrays\n",
    "        \n",
    "        for user_id, content_id, answered_correctly, part in zip(user_ids, content_ids, targets, parts):\n",
    "            user_sum_dict[user_id] += answered_correctly\n",
    "            user_count_dict[user_id] += 1\n",
    "            content_sum_dict[content_id] += answered_correctly\n",
    "            content_count_dict[content_id] += 1\n",
    "            if part <=4:\n",
    "                user_listening_dict[user_id] +=1\n",
    "            else:\n",
    "                user_reading_dict[user_id] +=1\n",
    "\n",
    "    prior_test_df = test_df.copy()\n",
    "    test_df[\"lec\"] = test_df.groupby(\"user_id\")[\"content_type_id\"].cumsum()\n",
    "    \n",
    "    test_df = test_df[test_df['content_type_id'] == 0].reset_index(drop=True)\n",
    "    test_df = pd.merge(test_df, questions_df, left_on='content_id', right_on='question_id', how='left', right_index=True).reset_index(drop=True)\n",
    "    test_df['prior_question_had_explanation'] = test_df['prior_question_had_explanation'].fillna(False).astype('bool')    \n",
    "    test_df['timestamp'] = (test_df['timestamp'] // 86400000) + 1\n",
    "    \n",
    "    prior_part_arrays = test_df['part'].values\n",
    "    \n",
    "    user_sum = np.zeros(len(test_df), dtype=np.int16)\n",
    "    user_count = np.zeros(len(test_df), dtype=np.int16)\n",
    "    content_sum = np.zeros(len(test_df), dtype=np.int32)\n",
    "    content_count = np.zeros(len(test_df), dtype=np.int32)\n",
    "    listening_count = np.zeros(len(test_df), dtype=np.int32)\n",
    "    reading_count = np.zeros(len(test_df), dtype=np.int32)\n",
    "    user_count_inday = np.zeros(len(test_df), dtype=np.int32)\n",
    "    first_attempt_values = []\n",
    "    user_lec_count = np.zeros(len(test_df), dtype=np.int32)\n",
    "    \n",
    "    for i, (user_id, content_id, timestamp) in enumerate(zip(test_df['user_id'].values, test_df['content_id'].values, test_df['timestamp'].values)):\n",
    "        user_sum[i] = user_sum_dict[user_id]\n",
    "        user_count[i] = user_count_dict[user_id]\n",
    "        content_sum[i] = content_sum_dict[content_id]\n",
    "        content_count[i] = content_count_dict[content_id]\n",
    "        listening_count[i] = user_listening_dict[user_id]\n",
    "        reading_count[i] = user_reading_dict[user_id]\n",
    "        first_attempt_values.append(user_content_dict[user_id][content_id])\n",
    "        user_content_dict[user_id][content_id] = False \n",
    "        if user_timestamp_dict[user_id] == timestamp:\n",
    "            user_count_inday_dict[user_id] += 1\n",
    "        else:\n",
    "            user_count_inday_dict[user_id] = 1\n",
    "            user_timestamp_dict[user_id] = timestamp\n",
    "        user_count_inday[i] = user_count_inday_dict[user_id]\n",
    "        user_lec_count[i] = user_lec_dict[user_id]\n",
    "            \n",
    "    test_df['user_correctness'] = user_sum / user_count\n",
    "    test_df['content_count'] = content_count\n",
    "    test_df['content_id'] = content_sum / content_count\n",
    "    test_df['count'] = 1\n",
    "    test_df['count'] = test_df.groupby(\"user_id\")[\"count\"].cumsum()\n",
    "    test_df['count'] += user_count\n",
    "    test_df['reading_part_count'] = reading_count\n",
    "    test_df['listening_part_count'] = listening_count\n",
    "    test_df[\"first_attempt\"] = first_attempt_values\n",
    "    test_df['count_inday'] = user_count_inday\n",
    "    test_df[\"lec\"] += user_lec_count\n",
    "     \n",
    "    test_df[target] = model.predict(test_df[features])\n",
    "    env.predict(test_df[['row_id', target]])"
   ]
  },
  {
   "cell_type": "code",
   "execution_count": null,
   "metadata": {
    "papermill": {
     "duration": 0.039159,
     "end_time": "2020-12-02T14:59:36.122820",
     "exception": false,
     "start_time": "2020-12-02T14:59:36.083661",
     "status": "completed"
    },
    "tags": []
   },
   "outputs": [],
   "source": []
  }
 ],
 "metadata": {
  "kernelspec": {
   "display_name": "Python 3",
   "language": "python",
   "name": "python3"
  },
  "language_info": {
   "codemirror_mode": {
    "name": "ipython",
    "version": 3
   },
   "file_extension": ".py",
   "mimetype": "text/x-python",
   "name": "python",
   "nbconvert_exporter": "python",
   "pygments_lexer": "ipython3",
   "version": "3.7.6"
  },
  "papermill": {
   "duration": 4178.927443,
   "end_time": "2020-12-02T14:59:36.370642",
   "environment_variables": {},
   "exception": null,
   "input_path": "__notebook__.ipynb",
   "output_path": "__notebook__.ipynb",
   "parameters": {},
   "start_time": "2020-12-02T13:49:57.443199",
   "version": "2.1.0"
  }
 },
 "nbformat": 4,
 "nbformat_minor": 4
}
