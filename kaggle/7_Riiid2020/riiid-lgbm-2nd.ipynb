{
 "cells": [
  {
   "cell_type": "markdown",
   "metadata": {
    "papermill": {
     "duration": 0.025433,
     "end_time": "2020-12-03T23:25:29.573266",
     "exception": false,
     "start_time": "2020-12-03T23:25:29.547833",
     "status": "completed"
    },
    "tags": []
   },
   "source": [
    "- make full training option, try full training\n",
    "- cancel lec_num\n",
    "- modify timestamp"
   ]
  },
  {
   "cell_type": "code",
   "execution_count": 1,
   "metadata": {
    "_cell_guid": "b1076dfc-b9ad-4769-8c92-a6c4dae69d19",
    "_uuid": "8f2839f25d086af736a60e9eeb907d3b93b6e0e5",
    "execution": {
     "iopub.execute_input": "2020-12-03T23:25:29.626643Z",
     "iopub.status.busy": "2020-12-03T23:25:29.625738Z",
     "iopub.status.idle": "2020-12-03T23:26:01.275724Z",
     "shell.execute_reply": "2020-12-03T23:26:01.274890Z"
    },
    "papermill": {
     "duration": 31.679188,
     "end_time": "2020-12-03T23:26:01.275896",
     "exception": false,
     "start_time": "2020-12-03T23:25:29.596708",
     "status": "completed"
    },
    "tags": []
   },
   "outputs": [],
   "source": [
    "!pip install ../input/python-datatable/datatable-0.11.0-cp37-cp37m-manylinux2010_x86_64.whl > /dev/null 2>&1"
   ]
  },
  {
   "cell_type": "code",
   "execution_count": 2,
   "metadata": {
    "_cell_guid": "79c7e3d0-c299-4dcb-8224-4455121ee9b0",
    "_uuid": "d629ff2d2480ee46fbb7e2d37f6b5fab8052498a",
    "execution": {
     "iopub.execute_input": "2020-12-03T23:26:01.331149Z",
     "iopub.status.busy": "2020-12-03T23:26:01.330074Z",
     "iopub.status.idle": "2020-12-03T23:26:02.642914Z",
     "shell.execute_reply": "2020-12-03T23:26:02.642234Z"
    },
    "papermill": {
     "duration": 1.343598,
     "end_time": "2020-12-03T23:26:02.643091",
     "exception": false,
     "start_time": "2020-12-03T23:26:01.299493",
     "status": "completed"
    },
    "tags": []
   },
   "outputs": [
    {
     "data": {
      "text/html": [
       "<style type='text/css'>\n",
       ".datatable table.frame { margin-bottom: 0; }\n",
       ".datatable table.frame thead { border-bottom: none; }\n",
       ".datatable table.frame tr.coltypes td {  color: #FFFFFF;  line-height: 6px;  padding: 0 0.5em;}\n",
       ".datatable .bool    { background: #DDDD99; }\n",
       ".datatable .object  { background: #565656; }\n",
       ".datatable .int     { background: #5D9E5D; }\n",
       ".datatable .float   { background: #4040CC; }\n",
       ".datatable .str     { background: #CC4040; }\n",
       ".datatable .row_index {  background: var(--jp-border-color3);  border-right: 1px solid var(--jp-border-color0);  color: var(--jp-ui-font-color3);  font-size: 9px;}\n",
       ".datatable .frame tr.coltypes .row_index {  background: var(--jp-border-color0);}\n",
       ".datatable th:nth-child(2) { padding-left: 12px; }\n",
       ".datatable .hellipsis {  color: var(--jp-cell-editor-border-color);}\n",
       ".datatable .vellipsis {  background: var(--jp-layout-color0);  color: var(--jp-cell-editor-border-color);}\n",
       ".datatable .na {  color: var(--jp-cell-editor-border-color);  font-size: 80%;}\n",
       ".datatable .footer { font-size: 9px; }\n",
       ".datatable .frame_dimensions {  background: var(--jp-border-color3);  border-top: 1px solid var(--jp-border-color0);  color: var(--jp-ui-font-color3);  display: inline-block;  opacity: 0.6;  padding: 1px 10px 1px 5px;}\n",
       ".datatable .frame thead tr.colnames {  background-image: url('data:image/png;base64,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');  background-repeat: repeat-x;  background-size: 14px;  height: 28px;}\n",
       "</style>\n"
      ],
      "text/plain": [
       "<IPython.core.display.HTML object>"
      ]
     },
     "metadata": {},
     "output_type": "display_data"
    },
    {
     "name": "stderr",
     "output_type": "stream",
     "text": [
      "/opt/conda/lib/python3.7/site-packages/ipykernel_launcher.py:11: TqdmDeprecationWarning: This function will be removed in tqdm==5.0.0\n",
      "Please use `tqdm.notebook.*` instead of `tqdm._tqdm_notebook.*`\n",
      "  # This is added back by InteractiveShellApp.init_path()\n",
      "/opt/conda/lib/python3.7/site-packages/tqdm/std.py:666: FutureWarning: The Panel class is removed from pandas. Accessing it from the top-level namespace will also be removed in the next version\n",
      "  from pandas import Panel\n"
     ]
    }
   ],
   "source": [
    "import numpy as np\n",
    "import pandas as pd\n",
    "from collections import defaultdict\n",
    "import datatable as dt\n",
    "import lightgbm as lgb\n",
    "from matplotlib import pyplot as plt\n",
    "import riiideducation\n",
    "from bitarray import bitarray\n",
    "from lightgbm import LGBMClassifier\n",
    "\n",
    "from tqdm._tqdm_notebook import tqdm_notebook\n",
    "tqdm_notebook.pandas(desc=\"progress: \")\n",
    "\n",
    "_ = np.seterr(divide='ignore', invalid='ignore')"
   ]
  },
  {
   "cell_type": "code",
   "execution_count": 3,
   "metadata": {
    "execution": {
     "iopub.execute_input": "2020-12-03T23:26:02.699792Z",
     "iopub.status.busy": "2020-12-03T23:26:02.698795Z",
     "iopub.status.idle": "2020-12-03T23:26:02.702473Z",
     "shell.execute_reply": "2020-12-03T23:26:02.701665Z"
    },
    "papermill": {
     "duration": 0.034359,
     "end_time": "2020-12-03T23:26:02.702604",
     "exception": false,
     "start_time": "2020-12-03T23:26:02.668245",
     "status": "completed"
    },
    "tags": []
   },
   "outputs": [],
   "source": [
    "def make_bitarray():\n",
    "    a = bitarray(32737, endian='little')\n",
    "    a.setall(True)   \n",
    "    return a"
   ]
  },
  {
   "cell_type": "code",
   "execution_count": 4,
   "metadata": {
    "execution": {
     "iopub.execute_input": "2020-12-03T23:26:02.756507Z",
     "iopub.status.busy": "2020-12-03T23:26:02.755733Z",
     "iopub.status.idle": "2020-12-03T23:26:02.760223Z",
     "shell.execute_reply": "2020-12-03T23:26:02.759518Z"
    },
    "papermill": {
     "duration": 0.032929,
     "end_time": "2020-12-03T23:26:02.760364",
     "exception": false,
     "start_time": "2020-12-03T23:26:02.727435",
     "status": "completed"
    },
    "tags": []
   },
   "outputs": [],
   "source": [
    "FULL_TRAIN = True"
   ]
  },
  {
   "cell_type": "markdown",
   "metadata": {
    "papermill": {
     "duration": 0.0245,
     "end_time": "2020-12-03T23:26:02.810661",
     "exception": false,
     "start_time": "2020-12-03T23:26:02.786161",
     "status": "completed"
    },
    "tags": []
   },
   "source": [
    "# Preprocess"
   ]
  },
  {
   "cell_type": "code",
   "execution_count": 5,
   "metadata": {
    "execution": {
     "iopub.execute_input": "2020-12-03T23:26:02.865242Z",
     "iopub.status.busy": "2020-12-03T23:26:02.864453Z",
     "iopub.status.idle": "2020-12-03T23:26:02.868604Z",
     "shell.execute_reply": "2020-12-03T23:26:02.867834Z"
    },
    "papermill": {
     "duration": 0.034232,
     "end_time": "2020-12-03T23:26:02.868733",
     "exception": false,
     "start_time": "2020-12-03T23:26:02.834501",
     "status": "completed"
    },
    "tags": []
   },
   "outputs": [],
   "source": [
    "data_types_dict = {\n",
    "    #'row_id': 'uint32',\n",
    "    'timestamp': 'uint64',\n",
    "    'user_id': 'int32', \n",
    "    'content_id': 'int16', \n",
    "    'answered_correctly': 'int8', \n",
    "    'prior_question_elapsed_time': 'float32', \n",
    "    'prior_question_had_explanation': 'bool'\n",
    "}\n",
    "target = 'answered_correctly'"
   ]
  },
  {
   "cell_type": "code",
   "execution_count": 6,
   "metadata": {
    "execution": {
     "iopub.execute_input": "2020-12-03T23:26:02.927653Z",
     "iopub.status.busy": "2020-12-03T23:26:02.926030Z",
     "iopub.status.idle": "2020-12-03T23:28:24.205701Z",
     "shell.execute_reply": "2020-12-03T23:28:24.204990Z"
    },
    "papermill": {
     "duration": 141.312681,
     "end_time": "2020-12-03T23:28:24.205858",
     "exception": false,
     "start_time": "2020-12-03T23:26:02.893177",
     "status": "completed"
    },
    "tags": []
   },
   "outputs": [],
   "source": [
    "train_df = dt.fread('../input/riiid-test-answer-prediction/train.csv', columns=set(data_types_dict.keys())).to_pandas()\n",
    "\n",
    "#lectures = pd.read_csv(\"../input/riiid-test-answer-prediction/lectures.csv\")\n",
    "#train_lec = train_df[train_df[\"answered_correctly\"] == -1].copy().reset_index(drop=True)\n",
    "#train_lec = train_lec.astype(data_types_dict)\n",
    "#train_lec = train_lec.merge(lectures[[\"lecture_id\", \"tag\"]], left_on=\"content_id\", right_on=\"lecture_id\", how=\"left\")\n",
    "#train_lec.drop([\"lecture_id\"], axis=1, inplace=True)\n",
    "#train_lec[\"tag\"] = train_lec[\"tag\"].astype(str)\n",
    "#train_lec[\"tag\"] = train_lec.groupby(\"user_id\")[\"tag\"].apply(lambda x: (x+' ').cumsum())\n",
    "\n",
    "train_df = train_df[train_df[target] != -1].reset_index(drop=True)\n",
    "train_df['prior_question_had_explanation'].fillna(False, inplace=True)\n",
    "train_df['timestamp'] = (train_df['timestamp'] // 86400000) + 1 # days from start\n",
    "train_df = train_df.astype(data_types_dict)\n",
    "\n",
    "#user_learning_time = train_df.drop_duplicates([\"user_id\",\"timestamp\"])[[\"timestamp\", \"user_id\"]].copy().reset_index(drop=True)\n",
    "#user_learning_time[\"blank\"] = user_learning_time.groupby(\"user_id\")[\"timestamp\"].diff()\n",
    "#user_learning_time[\"blank\"] -= 1\n",
    "#user_learning_time[\"blank\"] = user_learning_time[\"blank\"].fillna(0)\n",
    "#user_learning_time[\"cont_days\"] = user_learning_time.groupby(\"user_id\")[\"timestamp\"].diff().ne(1).cumsum()\n",
    "#user_learning_time[\"cont_days\"] = user_learning_time.groupby([\"user_id\", 'cont_days']).cumcount()+1\n",
    "\n",
    "if FULL_TRAIN:\n",
    "    train_size = 40\n",
    "else:\n",
    "    train_size = 24\n",
    "    valid_size = 6\n",
    "train_index = list(train_df.groupby('user_id').tail(train_size).index)"
   ]
  },
  {
   "cell_type": "code",
   "execution_count": 7,
   "metadata": {
    "execution": {
     "iopub.execute_input": "2020-12-03T23:28:24.267701Z",
     "iopub.status.busy": "2020-12-03T23:28:24.266949Z",
     "iopub.status.idle": "2020-12-03T23:28:41.256531Z",
     "shell.execute_reply": "2020-12-03T23:28:41.257148Z"
    },
    "papermill": {
     "duration": 17.027001,
     "end_time": "2020-12-03T23:28:41.257337",
     "exception": false,
     "start_time": "2020-12-03T23:28:24.230336",
     "status": "completed"
    },
    "tags": []
   },
   "outputs": [],
   "source": [
    "questions_df = pd.read_csv(\n",
    "    '../input/riiid-test-answer-prediction/questions.csv', \n",
    "    usecols=[0, 3], #, 4\n",
    "    dtype={'question_id': 'int16', 'part': 'int8'}  #, 'tags': 'object'\n",
    ")\n",
    "train_df = pd.merge(train_df, questions_df, left_on='content_id', right_on='question_id', how='left', right_index=True).reset_index(drop=True)\n",
    "train_df.drop(columns=['question_id'], inplace=True)"
   ]
  },
  {
   "cell_type": "code",
   "execution_count": 8,
   "metadata": {
    "execution": {
     "iopub.execute_input": "2020-12-03T23:28:41.315783Z",
     "iopub.status.busy": "2020-12-03T23:28:41.314773Z",
     "iopub.status.idle": "2020-12-03T23:29:01.897327Z",
     "shell.execute_reply": "2020-12-03T23:29:01.896653Z"
    },
    "papermill": {
     "duration": 20.615245,
     "end_time": "2020-12-03T23:29:01.897467",
     "exception": false,
     "start_time": "2020-12-03T23:28:41.282222",
     "status": "completed"
    },
    "tags": []
   },
   "outputs": [],
   "source": [
    "train_df['lag'] = train_df.groupby('user_id')[target].shift()\n",
    "cum = train_df.groupby('user_id')['lag'].agg(['cumsum', 'cumcount'])\n",
    "user_correctness_array = np.array(cum['cumsum'] / cum['cumcount'])\n",
    "user_correctness_array = user_correctness_array[train_index]\n",
    "train_df.drop(columns=['lag'], inplace=True)\n",
    "del cum"
   ]
  },
  {
   "cell_type": "code",
   "execution_count": 9,
   "metadata": {
    "execution": {
     "iopub.execute_input": "2020-12-03T23:29:01.955508Z",
     "iopub.status.busy": "2020-12-03T23:29:01.954716Z",
     "iopub.status.idle": "2020-12-03T23:29:41.755760Z",
     "shell.execute_reply": "2020-12-03T23:29:41.755113Z"
    },
    "papermill": {
     "duration": 39.833838,
     "end_time": "2020-12-03T23:29:41.755923",
     "exception": false,
     "start_time": "2020-12-03T23:29:01.922085",
     "status": "completed"
    },
    "tags": []
   },
   "outputs": [],
   "source": [
    "train_df[\"reading_part\"] = train_df[\"part\"] >=5\n",
    "train_df[\"reading_part\"] = train_df[\"reading_part\"].astype(\"int8\")\n",
    "train_df['reading_part_lag'] = train_df.groupby('user_id')[\"reading_part\"].shift()\n",
    "cum = train_df.groupby('user_id')['reading_part_lag'].agg(['cumsum']) \n",
    "reading_part_count_array = cum['cumsum'].values\n",
    "reading_part_count_array = reading_part_count_array[train_index] \n",
    "train_df.drop(columns=['reading_part_lag', 'reading_part'], inplace=True)\n",
    "del cum"
   ]
  },
  {
   "cell_type": "code",
   "execution_count": 10,
   "metadata": {
    "execution": {
     "iopub.execute_input": "2020-12-03T23:29:41.817255Z",
     "iopub.status.busy": "2020-12-03T23:29:41.815710Z",
     "iopub.status.idle": "2020-12-03T23:30:22.028020Z",
     "shell.execute_reply": "2020-12-03T23:30:22.027211Z"
    },
    "papermill": {
     "duration": 40.247076,
     "end_time": "2020-12-03T23:30:22.028174",
     "exception": false,
     "start_time": "2020-12-03T23:29:41.781098",
     "status": "completed"
    },
    "tags": []
   },
   "outputs": [],
   "source": [
    "train_df[\"listening_part\"] = (train_df[\"part\"] >=1) | (train_df[\"part\"] <=4)\n",
    "train_df[\"listening_part\"] = train_df[\"listening_part\"].astype(\"int8\")\n",
    "train_df['listening_part_lag'] = train_df.groupby('user_id')[\"listening_part\"].shift()\n",
    "cum = train_df.groupby('user_id')['listening_part_lag'].agg(['cumsum']) \n",
    "listening_part_count_array = cum['cumsum'].values\n",
    "listening_part_count_array = listening_part_count_array[train_index]\n",
    "train_df.drop(columns=['listening_part_lag', 'listening_part'], inplace=True)\n",
    "del cum"
   ]
  },
  {
   "cell_type": "code",
   "execution_count": 11,
   "metadata": {
    "execution": {
     "iopub.execute_input": "2020-12-03T23:30:22.091705Z",
     "iopub.status.busy": "2020-12-03T23:30:22.090831Z",
     "iopub.status.idle": "2020-12-03T23:30:57.302554Z",
     "shell.execute_reply": "2020-12-03T23:30:57.301245Z"
    },
    "papermill": {
     "duration": 35.24923,
     "end_time": "2020-12-03T23:30:57.302738",
     "exception": false,
     "start_time": "2020-12-03T23:30:22.053508",
     "status": "completed"
    },
    "tags": []
   },
   "outputs": [],
   "source": [
    "#train_df[\"first_attempt\"] = train_df[[\"row_id\", \"user_id\", \"content_id\"]].groupby(\"user_id\").progress_apply(lambda x: \n",
    "#                               pd.DataFrame(np.isin(x[\"row_id\"].values, x.drop_duplicates(\"content_id\")[\"row_id\"].values))).values\n",
    "#train_df.drop(\"row_id\", axis=1, inplace=True)\n",
    "\n",
    "first_attempt_df = pd.read_csv(\"../input/riiid-additional-data/content_first_attempt.csv\")\n",
    "first_attempt_array = first_attempt_df.first_attempt.values\n",
    "first_attempt_array = first_attempt_array[train_index]\n",
    "del first_attempt_df"
   ]
  },
  {
   "cell_type": "code",
   "execution_count": 12,
   "metadata": {
    "execution": {
     "iopub.execute_input": "2020-12-03T23:30:57.376595Z",
     "iopub.status.busy": "2020-12-03T23:30:57.375297Z",
     "iopub.status.idle": "2020-12-03T23:31:16.069707Z",
     "shell.execute_reply": "2020-12-03T23:31:16.068902Z"
    },
    "papermill": {
     "duration": 18.737431,
     "end_time": "2020-12-03T23:31:16.069855",
     "exception": false,
     "start_time": "2020-12-03T23:30:57.332424",
     "status": "completed"
    },
    "tags": []
   },
   "outputs": [],
   "source": [
    "user_agg = train_df.groupby('user_id')[target].agg(['sum', 'count'])\n",
    "content_agg = train_df.groupby('content_id')[target].agg(['sum', 'count'])\n",
    "\n",
    "user_sum_dict = user_agg['sum'].astype('int16').to_dict(defaultdict(int))\n",
    "user_count_dict = user_agg['count'].astype('int16').to_dict(defaultdict(int))\n",
    "content_sum_dict = content_agg['sum'].astype('int32').to_dict(defaultdict(int))\n",
    "content_count_dict = content_agg['count'].astype('int32').to_dict(defaultdict(int))\n",
    "\n",
    "content_count_array = train_df['content_id'].map(content_agg['count']).astype('int32').values\n",
    "content_id_array = train_df['content_id'].map(content_agg['sum'] / content_agg['count']).values\n",
    "content_count_array = content_count_array[train_index]\n",
    "content_id_array = content_id_array[train_index]\n",
    "\n",
    "del user_agg, content_agg"
   ]
  },
  {
   "cell_type": "code",
   "execution_count": 13,
   "metadata": {
    "execution": {
     "iopub.execute_input": "2020-12-03T23:31:16.129444Z",
     "iopub.status.busy": "2020-12-03T23:31:16.128594Z",
     "iopub.status.idle": "2020-12-03T23:33:45.359608Z",
     "shell.execute_reply": "2020-12-03T23:33:45.360270Z"
    },
    "papermill": {
     "duration": 149.264864,
     "end_time": "2020-12-03T23:33:45.360442",
     "exception": false,
     "start_time": "2020-12-03T23:31:16.095578",
     "status": "completed"
    },
    "tags": []
   },
   "outputs": [
    {
     "name": "stdout",
     "output_type": "stream",
     "text": [
      "CPU times: user 2min 26s, sys: 2.82 s, total: 2min 29s\n",
      "Wall time: 2min 29s\n"
     ]
    }
   ],
   "source": [
    "%%time\n",
    "user_content_agg = train_df.groupby(\"user_id\")[\"content_id\"].unique().reset_index().set_index(\"user_id\")\n",
    "\n",
    "value = []\n",
    "for j in user_content_agg.index:\n",
    "    a = bitarray(32737, endian='little')\n",
    "    a.setall(True)\n",
    "    for i in user_content_agg.loc[j][0]:\n",
    "        a[i] = 0\n",
    "    value.append(a)\n",
    "    \n",
    "user_content_agg[\"content_exp\"] = value\n",
    "\n",
    "user_content_dict = user_content_agg[\"content_exp\"].to_dict(defaultdict(make_bitarray))\n",
    "del user_content_agg"
   ]
  },
  {
   "cell_type": "code",
   "execution_count": 14,
   "metadata": {
    "execution": {
     "iopub.execute_input": "2020-12-03T23:33:45.420299Z",
     "iopub.status.busy": "2020-12-03T23:33:45.419199Z",
     "iopub.status.idle": "2020-12-03T23:33:54.482406Z",
     "shell.execute_reply": "2020-12-03T23:33:54.481576Z"
    },
    "papermill": {
     "duration": 9.096303,
     "end_time": "2020-12-03T23:33:54.482546",
     "exception": false,
     "start_time": "2020-12-03T23:33:45.386243",
     "status": "completed"
    },
    "tags": []
   },
   "outputs": [],
   "source": [
    "train_df[\"count\"] = 1\n",
    "count_array = train_df.groupby(\"user_id\")[\"count\"].cumsum().values\n",
    "count_array = count_array[train_index]\n",
    "train_df.drop(\"count\", axis=1, inplace=True)"
   ]
  },
  {
   "cell_type": "code",
   "execution_count": 15,
   "metadata": {
    "execution": {
     "iopub.execute_input": "2020-12-03T23:33:54.544367Z",
     "iopub.status.busy": "2020-12-03T23:33:54.542919Z",
     "iopub.status.idle": "2020-12-03T23:34:08.728393Z",
     "shell.execute_reply": "2020-12-03T23:34:08.727725Z"
    },
    "papermill": {
     "duration": 14.218646,
     "end_time": "2020-12-03T23:34:08.728538",
     "exception": false,
     "start_time": "2020-12-03T23:33:54.509892",
     "status": "completed"
    },
    "tags": []
   },
   "outputs": [],
   "source": [
    "train_df[\"count_inday\"] = 1\n",
    "count_inday_array = train_df.groupby([\"user_id\",\"timestamp\"])[\"count_inday\"].cumsum().values\n",
    "count_inday_array = count_inday_array[train_index]\n",
    "train_df.drop(\"count_inday\", axis=1, inplace=True)"
   ]
  },
  {
   "cell_type": "code",
   "execution_count": 16,
   "metadata": {
    "execution": {
     "iopub.execute_input": "2020-12-03T23:34:08.788528Z",
     "iopub.status.busy": "2020-12-03T23:34:08.787672Z",
     "iopub.status.idle": "2020-12-03T23:34:16.367562Z",
     "shell.execute_reply": "2020-12-03T23:34:16.366926Z"
    },
    "papermill": {
     "duration": 7.612519,
     "end_time": "2020-12-03T23:34:16.367699",
     "exception": false,
     "start_time": "2020-12-03T23:34:08.755180",
     "status": "completed"
    },
    "tags": []
   },
   "outputs": [],
   "source": [
    "train_df = train_df.groupby('user_id').tail(train_size).reset_index(drop=True)"
   ]
  },
  {
   "cell_type": "code",
   "execution_count": 17,
   "metadata": {
    "execution": {
     "iopub.execute_input": "2020-12-03T23:34:16.425539Z",
     "iopub.status.busy": "2020-12-03T23:34:16.424722Z",
     "iopub.status.idle": "2020-12-03T23:34:16.428229Z",
     "shell.execute_reply": "2020-12-03T23:34:16.427481Z"
    },
    "papermill": {
     "duration": 0.0343,
     "end_time": "2020-12-03T23:34:16.428360",
     "exception": false,
     "start_time": "2020-12-03T23:34:16.394060",
     "status": "completed"
    },
    "tags": []
   },
   "outputs": [],
   "source": [
    "#train_df = pd.concat([train_df, train_lec])\n",
    "#train_df = train_df.sort_values(\"row_id\", ascending=True).reset_index(drop=True)\n",
    "#del train_lec\n",
    "#train_df[\"tag\"] = train_df[\"tag\"].astype(str).replace(\"nan\", \"\")\n",
    "#train_df[\"tag\"] = train_df.groupby(\"user_id\")[\"tag\"].apply(lambda x: x.cumsum())\n",
    "#train_df = train_df[train_df[target] != -1].reset_index(drop=True)\n",
    "#tag_array = train_df.tag.values\n",
    "#tags_array = train_df.tags.values\n",
    "#train_df.drop([\"row_id\", \"tag\", \"tags\"], axis=1, inplace=True)\n",
    "\n",
    "#experience_array = [len(set(tag_array[i]).intersection(set(tags_array[i].replace(' ', ',')))) for i in range(train_df.shape[0])]"
   ]
  },
  {
   "cell_type": "code",
   "execution_count": 18,
   "metadata": {
    "execution": {
     "iopub.execute_input": "2020-12-03T23:34:16.505456Z",
     "iopub.status.busy": "2020-12-03T23:34:16.500289Z",
     "iopub.status.idle": "2020-12-03T23:34:31.485203Z",
     "shell.execute_reply": "2020-12-03T23:34:31.484536Z"
    },
    "papermill": {
     "duration": 15.030389,
     "end_time": "2020-12-03T23:34:31.485348",
     "exception": false,
     "start_time": "2020-12-03T23:34:16.454959",
     "status": "completed"
    },
    "tags": []
   },
   "outputs": [],
   "source": [
    "train_df['content_count'] = content_count_array\n",
    "train_df['content_id'] = content_id_array\n",
    "train_df['user_correctness'] = user_correctness_array\n",
    "train_df['reading_part_count'] = reading_part_count_array \n",
    "train_df['listening_part_count'] = listening_part_count_array \n",
    "train_df['first_attempt'] = first_attempt_array\n",
    "train_df['count'] = count_array\n",
    "train_df['count_inday'] = count_inday_array\n",
    "train_df[\"mod_timestamp\"] = train_df[\"timestamp\"].apply(lambda x: 0 if x>=2 else x)\n",
    "\n",
    "#train_df[\"experience\"] = experience_array\n",
    "#train_df[\"experience\"] = train_df[\"experience\"].apply(lambda x: 1 if x>=1 else 0)\n",
    "\n",
    "#train_df = train_df.merge(user_learning_time, on=[\"user_id\", \"timestamp\"])\n",
    "#del user_learning_time\n",
    "    \n",
    "user_listening_agg = train_df.groupby('user_id')[\"listening_part_count\"].agg(['max'])\n",
    "user_reading_agg = train_df.groupby('user_id')[\"reading_part_count\"].agg(['max'])\n",
    "user_reading_agg['max'].fillna(0,inplace=True)\n",
    "user_listening_agg['max'].fillna(0,inplace=True)\n",
    "\n",
    "user_reading_dict = user_reading_agg['max'].astype('int32').to_dict(defaultdict(int))\n",
    "user_listening_dict = user_listening_agg['max'].astype('int32').to_dict(defaultdict(int))\n",
    "\n",
    "user_timestamp_dict = train_df.groupby(\"user_id\").tail(1)[\"timestamp\"].to_dict(defaultdict(int))\n",
    "user_count_inday_dict = train_df.groupby(\"user_id\").tail(1)[\"count_inday\"].to_dict(defaultdict(int))\n",
    "\n",
    "#user_lec_dict = user_lec_agg.astype('int32').to_dict(defaultdict(int))\n",
    "\n",
    "del user_reading_agg, user_listening_agg #, user_lec_agg"
   ]
  },
  {
   "cell_type": "code",
   "execution_count": 19,
   "metadata": {
    "execution": {
     "iopub.execute_input": "2020-12-03T23:34:31.545725Z",
     "iopub.status.busy": "2020-12-03T23:34:31.544728Z",
     "iopub.status.idle": "2020-12-03T23:34:31.547180Z",
     "shell.execute_reply": "2020-12-03T23:34:31.547765Z"
    },
    "papermill": {
     "duration": 0.035931,
     "end_time": "2020-12-03T23:34:31.547947",
     "exception": false,
     "start_time": "2020-12-03T23:34:31.512016",
     "status": "completed"
    },
    "tags": []
   },
   "outputs": [],
   "source": [
    "if FULL_TRAIN == False:\n",
    "    valid_df = train_df.groupby('user_id').tail(valid_size)\n",
    "    train_df.drop(valid_df.index, inplace=True)\n",
    "    train_df.head()"
   ]
  },
  {
   "cell_type": "code",
   "execution_count": 20,
   "metadata": {
    "execution": {
     "iopub.execute_input": "2020-12-03T23:34:31.607728Z",
     "iopub.status.busy": "2020-12-03T23:34:31.606793Z",
     "iopub.status.idle": "2020-12-03T23:34:31.610197Z",
     "shell.execute_reply": "2020-12-03T23:34:31.610774Z"
    },
    "papermill": {
     "duration": 0.03604,
     "end_time": "2020-12-03T23:34:31.610958",
     "exception": false,
     "start_time": "2020-12-03T23:34:31.574918",
     "status": "completed"
    },
    "tags": []
   },
   "outputs": [
    {
     "name": "stdout",
     "output_type": "stream",
     "text": [
      "(12942217, 15)\n"
     ]
    }
   ],
   "source": [
    "if FULL_TRAIN:\n",
    "    print(train_df.shape)\n",
    "else:\n",
    "    print(train_df.shape, valid_df.shape)"
   ]
  },
  {
   "cell_type": "markdown",
   "metadata": {
    "papermill": {
     "duration": 0.026996,
     "end_time": "2020-12-03T23:34:31.665208",
     "exception": false,
     "start_time": "2020-12-03T23:34:31.638212",
     "status": "completed"
    },
    "tags": []
   },
   "source": [
    "# Train"
   ]
  },
  {
   "cell_type": "code",
   "execution_count": 21,
   "metadata": {
    "execution": {
     "iopub.execute_input": "2020-12-03T23:34:31.728459Z",
     "iopub.status.busy": "2020-12-03T23:34:31.727492Z",
     "iopub.status.idle": "2020-12-03T23:34:31.731839Z",
     "shell.execute_reply": "2020-12-03T23:34:31.731235Z"
    },
    "papermill": {
     "duration": 0.039469,
     "end_time": "2020-12-03T23:34:31.731969",
     "exception": false,
     "start_time": "2020-12-03T23:34:31.692500",
     "status": "completed"
    },
    "tags": []
   },
   "outputs": [
    {
     "name": "stdout",
     "output_type": "stream",
     "text": [
      "12\n"
     ]
    }
   ],
   "source": [
    "features = [\n",
    "    'content_id',\n",
    "    'prior_question_elapsed_time',\n",
    "    'prior_question_had_explanation',\n",
    "    'user_correctness',\n",
    "    'part',\n",
    "    'content_count',\n",
    "    'count',\n",
    "    'reading_part_count',\n",
    "    'listening_part_count',\n",
    "    'first_attempt',\n",
    "    'mod_timestamp',\n",
    "    'count_inday',\n",
    "]\n",
    "\n",
    "params = {\n",
    "    'objective': 'binary',\n",
    "    'seed': 42,\n",
    "    'metric': 'auc',\n",
    "    'learning_rate': 0.05,\n",
    "    'max_bin': 800,\n",
    "    'num_leaves': 80\n",
    "}\n",
    "print(len(features))"
   ]
  },
  {
   "cell_type": "code",
   "execution_count": 22,
   "metadata": {
    "execution": {
     "iopub.execute_input": "2020-12-03T23:34:32.034746Z",
     "iopub.status.busy": "2020-12-03T23:34:31.933439Z",
     "iopub.status.idle": "2020-12-03T23:58:39.559752Z",
     "shell.execute_reply": "2020-12-03T23:58:39.561332Z"
    },
    "papermill": {
     "duration": 1447.802047,
     "end_time": "2020-12-03T23:58:39.561916",
     "exception": false,
     "start_time": "2020-12-03T23:34:31.759869",
     "status": "completed"
    },
    "tags": []
   },
   "outputs": [],
   "source": [
    "tr_data = lgb.Dataset(train_df[features], label=train_df[target])\n",
    "\n",
    "if FULL_TRAIN:\n",
    "    model = lgb.train(\n",
    "        params, \n",
    "        tr_data, \n",
    "        num_boost_round=2500,\n",
    "        valid_sets=None, \n",
    "        )\n",
    "else:\n",
    "    va_data = lgb.Dataset(valid_df[features], label=valid_df[target])\n",
    "\n",
    "    model = lgb.train(\n",
    "        params, \n",
    "        tr_data, \n",
    "        num_boost_round=10000,\n",
    "        valid_sets=[tr_data, va_data], \n",
    "        early_stopping_rounds=50,\n",
    "        verbose_eval=50\n",
    "        )\n",
    "\n",
    "    lgb.plot_importance(model, importance_type='gain')\n",
    "    plt.show()"
   ]
  },
  {
   "cell_type": "markdown",
   "metadata": {
    "papermill": {
     "duration": 0.033687,
     "end_time": "2020-12-03T23:58:39.633614",
     "exception": false,
     "start_time": "2020-12-03T23:58:39.599927",
     "status": "completed"
    },
    "tags": []
   },
   "source": [
    "# Inference"
   ]
  },
  {
   "cell_type": "code",
   "execution_count": 23,
   "metadata": {
    "execution": {
     "iopub.execute_input": "2020-12-03T23:58:39.719001Z",
     "iopub.status.busy": "2020-12-03T23:58:39.717900Z",
     "iopub.status.idle": "2020-12-03T23:58:39.721539Z",
     "shell.execute_reply": "2020-12-03T23:58:39.720926Z"
    },
    "papermill": {
     "duration": 0.044092,
     "end_time": "2020-12-03T23:58:39.721672",
     "exception": false,
     "start_time": "2020-12-03T23:58:39.677580",
     "status": "completed"
    },
    "tags": []
   },
   "outputs": [],
   "source": [
    "env = riiideducation.make_env()\n",
    "iter_test = env.iter_test()\n",
    "prior_test_df = None"
   ]
  },
  {
   "cell_type": "code",
   "execution_count": 24,
   "metadata": {
    "execution": {
     "iopub.execute_input": "2020-12-03T23:58:39.802096Z",
     "iopub.status.busy": "2020-12-03T23:58:39.801207Z",
     "iopub.status.idle": "2020-12-03T23:58:40.789744Z",
     "shell.execute_reply": "2020-12-03T23:58:40.788784Z"
    },
    "papermill": {
     "duration": 1.039897,
     "end_time": "2020-12-03T23:58:40.789934",
     "exception": false,
     "start_time": "2020-12-03T23:58:39.750037",
     "status": "completed"
    },
    "tags": []
   },
   "outputs": [
    {
     "name": "stdout",
     "output_type": "stream",
     "text": [
      "CPU times: user 1.48 s, sys: 82.3 ms, total: 1.56 s\n",
      "Wall time: 988 ms\n"
     ]
    }
   ],
   "source": [
    "%%time\n",
    "\n",
    "for (test_df, sample_prediction_df) in iter_test:\n",
    "    if prior_test_df is not None:\n",
    "        prior_test_df[target] = eval(test_df['prior_group_answers_correct'].iloc[0])\n",
    "        prior_test_df = prior_test_df[prior_test_df[target] != -1].reset_index(drop=True)\n",
    "        \n",
    "        user_ids = prior_test_df['user_id'].values\n",
    "        content_ids = prior_test_df['content_id'].values\n",
    "        targets = prior_test_df[target].values\n",
    "        parts = prior_part_arrays\n",
    "        \n",
    "        for user_id, content_id, answered_correctly, part in zip(user_ids, content_ids, targets, parts):\n",
    "            user_sum_dict[user_id] += answered_correctly\n",
    "            user_count_dict[user_id] += 1\n",
    "            content_sum_dict[content_id] += answered_correctly\n",
    "            content_count_dict[content_id] += 1\n",
    "            if part <=4:\n",
    "                user_listening_dict[user_id] +=1\n",
    "            else:\n",
    "                user_reading_dict[user_id] +=1\n",
    "\n",
    "    prior_test_df = test_df.copy()\n",
    "    \n",
    "    test_df = test_df[test_df['content_type_id'] == 0].reset_index(drop=True)\n",
    "    test_df = pd.merge(test_df, questions_df, left_on='content_id', right_on='question_id', how='left', right_index=True).reset_index(drop=True)\n",
    "    test_df['prior_question_had_explanation'] = test_df['prior_question_had_explanation'].fillna(False).astype('bool')    \n",
    "    test_df['timestamp'] = (test_df['timestamp'] // 86400000) + 1\n",
    "    \n",
    "    prior_part_arrays = test_df['part'].values\n",
    "    \n",
    "    user_sum = np.zeros(len(test_df), dtype=np.int16)\n",
    "    user_count = np.zeros(len(test_df), dtype=np.int16)\n",
    "    content_sum = np.zeros(len(test_df), dtype=np.int32)\n",
    "    content_count = np.zeros(len(test_df), dtype=np.int32)\n",
    "    listening_count = np.zeros(len(test_df), dtype=np.int32)\n",
    "    reading_count = np.zeros(len(test_df), dtype=np.int32)\n",
    "    user_count_inday = np.zeros(len(test_df), dtype=np.int32)\n",
    "    first_attempt_values = []\n",
    "    \n",
    "    for i, (user_id, content_id, timestamp) in enumerate(zip(test_df['user_id'].values, test_df['content_id'].values, test_df['timestamp'].values)):\n",
    "        user_sum[i] = user_sum_dict[user_id]\n",
    "        user_count[i] = user_count_dict[user_id]\n",
    "        content_sum[i] = content_sum_dict[content_id]\n",
    "        content_count[i] = content_count_dict[content_id]\n",
    "        listening_count[i] = user_listening_dict[user_id]\n",
    "        reading_count[i] = user_reading_dict[user_id]\n",
    "        first_attempt_values.append(user_content_dict[user_id][content_id])\n",
    "        user_content_dict[user_id][content_id] = False \n",
    "        if user_timestamp_dict[user_id] == timestamp:\n",
    "            user_count_inday_dict[user_id] += 1\n",
    "        else:\n",
    "            user_count_inday_dict[user_id] = 1\n",
    "            user_timestamp_dict[user_id] = timestamp\n",
    "        user_count_inday[i] = user_count_inday_dict[user_id]\n",
    "            \n",
    "    test_df['user_correctness'] = user_sum / user_count\n",
    "    test_df['content_count'] = content_count\n",
    "    test_df['content_id'] = content_sum / content_count\n",
    "    test_df['count'] = 1\n",
    "    test_df['count'] = test_df.groupby(\"user_id\")[\"count\"].cumsum()\n",
    "    test_df['count'] += user_count\n",
    "    test_df['reading_part_count'] = reading_count\n",
    "    test_df['listening_part_count'] = listening_count\n",
    "    test_df[\"first_attempt\"] = first_attempt_values\n",
    "    test_df['count_inday'] = user_count_inday\n",
    "    test_df[\"mod_timestamp\"] = test_df[\"timestamp\"].apply(lambda x: 0 if x>=2 else x)\n",
    "     \n",
    "    test_df[target] = model.predict(test_df[features])\n",
    "    env.predict(test_df[['row_id', target]])"
   ]
  },
  {
   "cell_type": "code",
   "execution_count": null,
   "metadata": {
    "papermill": {
     "duration": 0.028503,
     "end_time": "2020-12-03T23:58:40.847594",
     "exception": false,
     "start_time": "2020-12-03T23:58:40.819091",
     "status": "completed"
    },
    "tags": []
   },
   "outputs": [],
   "source": []
  }
 ],
 "metadata": {
  "kernelspec": {
   "display_name": "Python 3",
   "language": "python",
   "name": "python3"
  },
  "language_info": {
   "codemirror_mode": {
    "name": "ipython",
    "version": 3
   },
   "file_extension": ".py",
   "mimetype": "text/x-python",
   "name": "python",
   "nbconvert_exporter": "python",
   "pygments_lexer": "ipython3",
   "version": "3.7.6"
  },
  "papermill": {
   "duration": 1997.724451,
   "end_time": "2020-12-03T23:58:41.926386",
   "environment_variables": {},
   "exception": null,
   "input_path": "__notebook__.ipynb",
   "output_path": "__notebook__.ipynb",
   "parameters": {},
   "start_time": "2020-12-03T23:25:24.201935",
   "version": "2.1.0"
  }
 },
 "nbformat": 4,
 "nbformat_minor": 4
}
