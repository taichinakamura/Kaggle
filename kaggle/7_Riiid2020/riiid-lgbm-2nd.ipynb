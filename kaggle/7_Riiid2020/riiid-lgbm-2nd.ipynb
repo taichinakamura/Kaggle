{
 "cells": [
  {
   "cell_type": "markdown",
   "metadata": {
    "papermill": {
     "duration": 0.026725,
     "end_time": "2020-12-15T23:30:36.978518",
     "exception": false,
     "start_time": "2020-12-15T23:30:36.951793",
     "status": "completed"
    },
    "tags": []
   },
   "source": [
    "- renew question tag group and accuracy in the group (dataset version 4)\n",
    "- early stopping 15"
   ]
  },
  {
   "cell_type": "code",
   "execution_count": 1,
   "metadata": {
    "_cell_guid": "b1076dfc-b9ad-4769-8c92-a6c4dae69d19",
    "_uuid": "8f2839f25d086af736a60e9eeb907d3b93b6e0e5",
    "execution": {
     "iopub.execute_input": "2020-12-15T23:30:37.031410Z",
     "iopub.status.busy": "2020-12-15T23:30:37.030077Z",
     "iopub.status.idle": "2020-12-15T23:31:07.504848Z",
     "shell.execute_reply": "2020-12-15T23:31:07.503566Z"
    },
    "papermill": {
     "duration": 30.501971,
     "end_time": "2020-12-15T23:31:07.505011",
     "exception": false,
     "start_time": "2020-12-15T23:30:37.003040",
     "status": "completed"
    },
    "tags": []
   },
   "outputs": [],
   "source": [
    "!pip install ../input/python-datatable/datatable-0.11.0-cp37-cp37m-manylinux2010_x86_64.whl > /dev/null 2>&1"
   ]
  },
  {
   "cell_type": "code",
   "execution_count": 2,
   "metadata": {
    "_cell_guid": "79c7e3d0-c299-4dcb-8224-4455121ee9b0",
    "_uuid": "d629ff2d2480ee46fbb7e2d37f6b5fab8052498a",
    "execution": {
     "iopub.execute_input": "2020-12-15T23:31:07.563360Z",
     "iopub.status.busy": "2020-12-15T23:31:07.562676Z",
     "iopub.status.idle": "2020-12-15T23:31:09.593620Z",
     "shell.execute_reply": "2020-12-15T23:31:09.594158Z"
    },
    "papermill": {
     "duration": 2.064616,
     "end_time": "2020-12-15T23:31:09.594305",
     "exception": false,
     "start_time": "2020-12-15T23:31:07.529689",
     "status": "completed"
    },
    "tags": []
   },
   "outputs": [
    {
     "data": {
      "text/html": [
       "<style type='text/css'>\n",
       ".datatable table.frame { margin-bottom: 0; }\n",
       ".datatable table.frame thead { border-bottom: none; }\n",
       ".datatable table.frame tr.coltypes td {  color: #FFFFFF;  line-height: 6px;  padding: 0 0.5em;}\n",
       ".datatable .bool    { background: #DDDD99; }\n",
       ".datatable .object  { background: #565656; }\n",
       ".datatable .int     { background: #5D9E5D; }\n",
       ".datatable .float   { background: #4040CC; }\n",
       ".datatable .str     { background: #CC4040; }\n",
       ".datatable .row_index {  background: var(--jp-border-color3);  border-right: 1px solid var(--jp-border-color0);  color: var(--jp-ui-font-color3);  font-size: 9px;}\n",
       ".datatable .frame tr.coltypes .row_index {  background: var(--jp-border-color0);}\n",
       ".datatable th:nth-child(2) { padding-left: 12px; }\n",
       ".datatable .hellipsis {  color: var(--jp-cell-editor-border-color);}\n",
       ".datatable .vellipsis {  background: var(--jp-layout-color0);  color: var(--jp-cell-editor-border-color);}\n",
       ".datatable .na {  color: var(--jp-cell-editor-border-color);  font-size: 80%;}\n",
       ".datatable .footer { font-size: 9px; }\n",
       ".datatable .frame_dimensions {  background: var(--jp-border-color3);  border-top: 1px solid var(--jp-border-color0);  color: var(--jp-ui-font-color3);  display: inline-block;  opacity: 0.6;  padding: 1px 10px 1px 5px;}\n",
       ".datatable .frame thead tr.colnames {  background-image: url('data:image/png;base64,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');  background-repeat: repeat-x;  background-size: 14px;  height: 28px;}\n",
       "</style>\n"
      ],
      "text/plain": [
       "<IPython.core.display.HTML object>"
      ]
     },
     "metadata": {},
     "output_type": "display_data"
    },
    {
     "name": "stderr",
     "output_type": "stream",
     "text": [
      "/opt/conda/lib/python3.7/site-packages/ipykernel_launcher.py:12: TqdmDeprecationWarning: This function will be removed in tqdm==5.0.0\n",
      "Please use `tqdm.notebook.*` instead of `tqdm._tqdm_notebook.*`\n",
      "  if sys.path[0] == '':\n",
      "/opt/conda/lib/python3.7/site-packages/tqdm/std.py:666: FutureWarning: The Panel class is removed from pandas. Accessing it from the top-level namespace will also be removed in the next version\n",
      "  from pandas import Panel\n"
     ]
    }
   ],
   "source": [
    "import gc\n",
    "import numpy as np\n",
    "import pandas as pd\n",
    "from collections import defaultdict\n",
    "import datatable as dt\n",
    "import lightgbm as lgb\n",
    "from matplotlib import pyplot as plt\n",
    "import riiideducation\n",
    "from bitarray import bitarray\n",
    "from functools import partial\n",
    "\n",
    "from tqdm._tqdm_notebook import tqdm_notebook\n",
    "from numba import jit\n",
    "import random\n",
    "\n",
    "tqdm_notebook.pandas(desc=\"progress: \")\n",
    "\n",
    "_ = np.seterr(divide='ignore', invalid='ignore')\n",
    "pd.set_option(\"max_rows\", 100)\n",
    "pd.set_option(\"max_columns\", 100)\n",
    "\n",
    "random.seed(1)"
   ]
  },
  {
   "cell_type": "code",
   "execution_count": 3,
   "metadata": {
    "execution": {
     "iopub.execute_input": "2020-12-15T23:31:09.649754Z",
     "iopub.status.busy": "2020-12-15T23:31:09.648699Z",
     "iopub.status.idle": "2020-12-15T23:31:09.658720Z",
     "shell.execute_reply": "2020-12-15T23:31:09.659223Z"
    },
    "papermill": {
     "duration": 0.03918,
     "end_time": "2020-12-15T23:31:09.659386",
     "exception": false,
     "start_time": "2020-12-15T23:31:09.620206",
     "status": "completed"
    },
    "tags": []
   },
   "outputs": [],
   "source": [
    "def make_bitarray():\n",
    "    a = bitarray(32737, endian='little')\n",
    "    a.setall(True)   \n",
    "    return a\n",
    "\n",
    "def clear_mem():\n",
    "    %reset -f out\n",
    "    %reset -f in\n",
    "    gc.collect()"
   ]
  },
  {
   "cell_type": "code",
   "execution_count": 4,
   "metadata": {
    "execution": {
     "iopub.execute_input": "2020-12-15T23:31:09.714855Z",
     "iopub.status.busy": "2020-12-15T23:31:09.713796Z",
     "iopub.status.idle": "2020-12-15T23:31:09.718024Z",
     "shell.execute_reply": "2020-12-15T23:31:09.718479Z"
    },
    "papermill": {
     "duration": 0.033702,
     "end_time": "2020-12-15T23:31:09.718667",
     "exception": false,
     "start_time": "2020-12-15T23:31:09.684965",
     "status": "completed"
    },
    "tags": []
   },
   "outputs": [],
   "source": [
    "FULL_TRAIN = False\n",
    "CV_SCHEME = \"original\" #\"time\""
   ]
  },
  {
   "cell_type": "markdown",
   "metadata": {
    "papermill": {
     "duration": 0.025323,
     "end_time": "2020-12-15T23:31:09.769570",
     "exception": false,
     "start_time": "2020-12-15T23:31:09.744247",
     "status": "completed"
    },
    "tags": []
   },
   "source": [
    "# Preprocess"
   ]
  },
  {
   "cell_type": "code",
   "execution_count": 5,
   "metadata": {
    "execution": {
     "iopub.execute_input": "2020-12-15T23:31:09.826784Z",
     "iopub.status.busy": "2020-12-15T23:31:09.825686Z",
     "iopub.status.idle": "2020-12-15T23:31:09.831406Z",
     "shell.execute_reply": "2020-12-15T23:31:09.831945Z"
    },
    "papermill": {
     "duration": 0.036357,
     "end_time": "2020-12-15T23:31:09.832119",
     "exception": false,
     "start_time": "2020-12-15T23:31:09.795762",
     "status": "completed"
    },
    "tags": []
   },
   "outputs": [],
   "source": [
    "data_types_dict = {\n",
    "    #'row_id': 'uint32',\n",
    "    'timestamp': 'int64',\n",
    "    'user_id': 'int32', \n",
    "    'content_id': 'int16', \n",
    "    #'content_type_id': 'int8',\n",
    "    'answered_correctly': 'int8', \n",
    "    'prior_question_elapsed_time': 'float32', \n",
    "    'prior_question_had_explanation': 'bool',\n",
    "}\n",
    "target = 'answered_correctly'"
   ]
  },
  {
   "cell_type": "code",
   "execution_count": 6,
   "metadata": {
    "execution": {
     "iopub.execute_input": "2020-12-15T23:31:09.887945Z",
     "iopub.status.busy": "2020-12-15T23:31:09.886896Z",
     "iopub.status.idle": "2020-12-15T23:33:11.119773Z",
     "shell.execute_reply": "2020-12-15T23:33:11.119107Z"
    },
    "papermill": {
     "duration": 121.261872,
     "end_time": "2020-12-15T23:33:11.119948",
     "exception": false,
     "start_time": "2020-12-15T23:31:09.858076",
     "status": "completed"
    },
    "tags": []
   },
   "outputs": [],
   "source": [
    "train_df = dt.fread('../input/riiid-test-answer-prediction/train.csv', columns=set(data_types_dict.keys())).to_pandas()\n",
    "train_df = train_df[train_df[target] != -1].reset_index(drop=True)\n",
    "\n",
    "train_df['prior_question_had_explanation'].fillna(False, inplace=True)\n",
    "train_df['prior_question_elapsed_time'].fillna(0, inplace=True)\n",
    "\n",
    "train_df['day_timestamp'] = (train_df['timestamp'] // 86400000) + 1 # days from start\n",
    "train_df = train_df.astype(data_types_dict)"
   ]
  },
  {
   "cell_type": "code",
   "execution_count": 7,
   "metadata": {
    "execution": {
     "iopub.execute_input": "2020-12-15T23:33:11.187511Z",
     "iopub.status.busy": "2020-12-15T23:33:11.186785Z",
     "iopub.status.idle": "2020-12-15T23:33:19.031035Z",
     "shell.execute_reply": "2020-12-15T23:33:19.030001Z"
    },
    "papermill": {
     "duration": 7.883077,
     "end_time": "2020-12-15T23:33:19.031164",
     "exception": false,
     "start_time": "2020-12-15T23:33:11.148087",
     "status": "completed"
    },
    "tags": []
   },
   "outputs": [],
   "source": [
    "if CV_SCHEME==\"time\":\n",
    "    max_timestamp_u = train_df[['user_id','timestamp']].groupby(['user_id']).agg(['max']).reset_index()\n",
    "    max_timestamp_u.columns = ['user_id', 'max_time_stamp']\n",
    "    MAX_TIME_STAMP = max_timestamp_u.max_time_stamp.max()\n",
    "\n",
    "    def rand_time(max_time_stamp):\n",
    "        interval = MAX_TIME_STAMP - max_time_stamp\n",
    "        rand_time_stamp = random.randint(0,interval)\n",
    "        return rand_time_stamp\n",
    "\n",
    "    max_timestamp_u['rand_time_stamp'] = max_timestamp_u.max_time_stamp.apply(rand_time)\n",
    "    train_df = train_df.merge(max_timestamp_u, on='user_id', how='left')\n",
    "    train_df['viretual_time_stamp'] = train_df.timestamp + train_df['rand_time_stamp']\n",
    "\n",
    "    del train_df['max_time_stamp']\n",
    "    del train_df['rand_time_stamp']\n",
    "    del max_timestamp_u\n",
    "\n",
    "    train_index = list(train_df['viretual_time_stamp'].nlargest(10000000).index)\n",
    "\n",
    "else:\n",
    "    if FULL_TRAIN:\n",
    "        train_size = 200\n",
    "    else:\n",
    "        train_size = 24\n",
    "        valid_size = 6\n",
    "    \n",
    "    train_index = list(train_df.groupby('user_id').tail(train_size).index)"
   ]
  },
  {
   "cell_type": "code",
   "execution_count": 8,
   "metadata": {
    "execution": {
     "iopub.execute_input": "2020-12-15T23:33:19.100775Z",
     "iopub.status.busy": "2020-12-15T23:33:19.099564Z",
     "iopub.status.idle": "2020-12-15T23:33:28.145391Z",
     "shell.execute_reply": "2020-12-15T23:33:28.144365Z"
    },
    "papermill": {
     "duration": 9.082462,
     "end_time": "2020-12-15T23:33:28.145536",
     "exception": false,
     "start_time": "2020-12-15T23:33:19.063074",
     "status": "completed"
    },
    "tags": []
   },
   "outputs": [],
   "source": [
    "train_df[\"count\"] = 1\n",
    "\n",
    "# normal cumsum\n",
    "count_array = train_df.groupby(\"user_id\")[\"count\"].cumsum().values\n",
    "count_array = count_array[train_index]\n",
    "train_df.drop(\"count\", axis=1, inplace=True)"
   ]
  },
  {
   "cell_type": "code",
   "execution_count": 9,
   "metadata": {
    "execution": {
     "iopub.execute_input": "2020-12-15T23:33:28.206184Z",
     "iopub.status.busy": "2020-12-15T23:33:28.205438Z",
     "iopub.status.idle": "2020-12-15T23:33:48.436056Z",
     "shell.execute_reply": "2020-12-15T23:33:48.435374Z"
    },
    "papermill": {
     "duration": 20.26408,
     "end_time": "2020-12-15T23:33:48.436175",
     "exception": false,
     "start_time": "2020-12-15T23:33:28.172095",
     "status": "completed"
    },
    "tags": []
   },
   "outputs": [],
   "source": [
    "train_df[\"count_inday\"] = 1\n",
    "count_inday_array = train_df.groupby([\"user_id\",\"day_timestamp\"])[\"count_inday\"].cumsum().values\n",
    "train_df[\"count_inday\"] = count_inday_array\n",
    "\n",
    "user_count_inday_dict = train_df.groupby(\"user_id\").tail(1)[\"count_inday\"].to_dict(defaultdict(int))\n",
    "count_inday_array = count_inday_array[train_index]\n",
    "train_df.drop(\"count_inday\", axis=1, inplace=True)"
   ]
  },
  {
   "cell_type": "code",
   "execution_count": 10,
   "metadata": {
    "execution": {
     "iopub.execute_input": "2020-12-15T23:33:48.497428Z",
     "iopub.status.busy": "2020-12-15T23:33:48.496002Z",
     "iopub.status.idle": "2020-12-15T23:33:58.050926Z",
     "shell.execute_reply": "2020-12-15T23:33:58.050225Z"
    },
    "papermill": {
     "duration": 9.588333,
     "end_time": "2020-12-15T23:33:58.051043",
     "exception": false,
     "start_time": "2020-12-15T23:33:48.462710",
     "status": "completed"
    },
    "tags": []
   },
   "outputs": [],
   "source": [
    "user_day_timestamp_dict = train_df.groupby(\"user_id\").tail(1)[\"day_timestamp\"].to_dict(defaultdict(int))\n",
    "day_timestamp_array = train_df[\"day_timestamp\"].values\n",
    "train_df.drop(\"day_timestamp\", axis=1, inplace=True)\n",
    "day_timestamp_array = day_timestamp_array[train_index]"
   ]
  },
  {
   "cell_type": "code",
   "execution_count": 11,
   "metadata": {
    "execution": {
     "iopub.execute_input": "2020-12-15T23:33:58.115816Z",
     "iopub.status.busy": "2020-12-15T23:33:58.114371Z",
     "iopub.status.idle": "2020-12-15T23:37:11.150833Z",
     "shell.execute_reply": "2020-12-15T23:37:11.151411Z"
    },
    "papermill": {
     "duration": 193.074071,
     "end_time": "2020-12-15T23:37:11.151609",
     "exception": false,
     "start_time": "2020-12-15T23:33:58.077538",
     "status": "completed"
    },
    "tags": []
   },
   "outputs": [
    {
     "name": "stdout",
     "output_type": "stream",
     "text": [
      "Flushing output cache (0 entries)\n",
      "Flushing input history\n",
      "Flushing output cache (0 entries)\n",
      "Flushing input history\n"
     ]
    }
   ],
   "source": [
    "timediff_array = train_df.groupby(\"user_id\")[\"timestamp\"].diff().values\n",
    "timediff_array = timediff_array[train_index]\n",
    "clear_mem()\n",
    "\n",
    "timediff2_array = train_df.groupby(\"user_id\")[\"timestamp\"].diff(2).values\n",
    "timediff2_array = timediff2_array[train_index]\n",
    "clear_mem()\n",
    "\n",
    "user_timestamp_max_dict = train_df.groupby(\"user_id\")[\"timestamp\"].apply(lambda x: x[-2:].values).to_dict(defaultdict(partial(np.ndarray, 0, dtype=\"int64\")))\n",
    "train_df.drop(\"timestamp\", axis=1, inplace=True)\n",
    "timediff_array = np.nan_to_num(timediff_array, nan=-1)\n",
    "timediff2_array = np.nan_to_num(timediff2_array, nan=-1)"
   ]
  },
  {
   "cell_type": "code",
   "execution_count": 12,
   "metadata": {
    "execution": {
     "iopub.execute_input": "2020-12-15T23:37:11.211807Z",
     "iopub.status.busy": "2020-12-15T23:37:11.211134Z",
     "iopub.status.idle": "2020-12-15T23:37:14.399741Z",
     "shell.execute_reply": "2020-12-15T23:37:14.400253Z"
    },
    "papermill": {
     "duration": 3.219772,
     "end_time": "2020-12-15T23:37:14.400425",
     "exception": false,
     "start_time": "2020-12-15T23:37:11.180653",
     "status": "completed"
    },
    "tags": []
   },
   "outputs": [],
   "source": [
    "prior_question_elapsed_time_array = train_df.prior_question_elapsed_time.values\n",
    "train_df.drop(\"prior_question_elapsed_time\", axis =1, inplace=True)\n",
    "prior_question_elapsed_time_array = prior_question_elapsed_time_array[train_index]"
   ]
  },
  {
   "cell_type": "code",
   "execution_count": 13,
   "metadata": {
    "execution": {
     "iopub.execute_input": "2020-12-15T23:37:14.460711Z",
     "iopub.status.busy": "2020-12-15T23:37:14.459655Z",
     "iopub.status.idle": "2020-12-15T23:37:29.261103Z",
     "shell.execute_reply": "2020-12-15T23:37:29.260472Z"
    },
    "papermill": {
     "duration": 14.832681,
     "end_time": "2020-12-15T23:37:29.261256",
     "exception": false,
     "start_time": "2020-12-15T23:37:14.428575",
     "status": "completed"
    },
    "tags": []
   },
   "outputs": [],
   "source": [
    "questions_df = pd.read_csv(\n",
    "    '../input/riiid-test-answer-prediction/questions.csv', \n",
    "    usecols=[0, 3], #4\n",
    "    dtype={'question_id': 'int16', 'part': 'int8'}  #'tags': 'str'\n",
    ")\n",
    "\n",
    "additional_q_df = pd.read_csv('../input/riiid-question-clustering/question_cmnts.csv')\n",
    "questions_df[\"community\"] = additional_q_df[\"community\"].astype('int8')\n",
    "del additional_q_df \n",
    "    \n",
    "#questions_df['tags'] = questions_df['tags'].apply(lambda ts: [int(x) for x in str(ts).split() if x != 'nan'])\n",
    "\n",
    "train_df = pd.merge(train_df, questions_df, left_on='content_id', right_on='question_id', how='left', right_index=True).reset_index(drop=True)\n",
    "train_df.drop(columns=['question_id'], inplace=True)"
   ]
  },
  {
   "cell_type": "code",
   "execution_count": 14,
   "metadata": {
    "execution": {
     "iopub.execute_input": "2020-12-15T23:37:29.347017Z",
     "iopub.status.busy": "2020-12-15T23:37:29.345431Z",
     "iopub.status.idle": "2020-12-15T23:37:29.349750Z",
     "shell.execute_reply": "2020-12-15T23:37:29.350275Z"
    },
    "papermill": {
     "duration": 0.059828,
     "end_time": "2020-12-15T23:37:29.350455",
     "exception": false,
     "start_time": "2020-12-15T23:37:29.290627",
     "status": "completed"
    },
    "tags": []
   },
   "outputs": [],
   "source": [
    "community_num = len(questions_df.community.unique())\n",
    "\n",
    "@jit\n",
    "def tag_accuracy(A, C):\n",
    "    ans = []\n",
    "    community_count = [0] * community_num\n",
    "    community_correct = [0] * community_num\n",
    "    for i in range(len(C)):\n",
    "        if community_count[C[i]]==0:\n",
    "            ans.append(-1)\n",
    "        else:\n",
    "            ans.append(community_correct[C[i]]/community_count[C[i]])\n",
    "        community_count[C[i]] +=1\n",
    "        community_correct[C[i]] += A[i]\n",
    "    return np.array(ans)\n",
    "\n",
    "@jit\n",
    "def tag_correct_last(A, C):\n",
    "    community_correct = [0] * community_num\n",
    "    for i in range(len(C)):\n",
    "        community_correct[C[i]] += A[i]\n",
    "    return np.array(community_correct)\n",
    "\n",
    "@jit\n",
    "def tag_count_last(A, C):\n",
    "    community_count = [0] * community_num\n",
    "    for i in range(len(C)):\n",
    "        community_count[C[i]] +=1\n",
    "    return np.array(community_count)\n",
    "\n",
    "def init_dict():\n",
    "    ans = [0] * community_num\n",
    "    return np.array(ans)"
   ]
  },
  {
   "cell_type": "code",
   "execution_count": 15,
   "metadata": {
    "execution": {
     "iopub.execute_input": "2020-12-15T23:37:29.415920Z",
     "iopub.status.busy": "2020-12-15T23:37:29.415138Z",
     "iopub.status.idle": "2020-12-15T23:39:27.590788Z",
     "shell.execute_reply": "2020-12-15T23:39:27.591390Z"
    },
    "papermill": {
     "duration": 118.207826,
     "end_time": "2020-12-15T23:39:27.591590",
     "exception": false,
     "start_time": "2020-12-15T23:37:29.383764",
     "status": "completed"
    },
    "tags": []
   },
   "outputs": [],
   "source": [
    "tag_acc_array = train_df.groupby(\"user_id\").apply(lambda x: tag_accuracy(x[\"answered_correctly\"].values, x[\"community\"].values)).values\n",
    "tag_acc_array = np.hstack(tag_acc_array)\n",
    "tag_acc_array = tag_acc_array[train_index]\n",
    "\n",
    "user_community_count_dict = train_df.groupby(\"user_id\").apply(lambda x: tag_count_last(x[\"answered_correctly\"].values, x[\"community\"].values)).to_dict(defaultdict(init_dict))\n",
    "user_community_correct_dict = train_df.groupby(\"user_id\").apply(lambda x: tag_correct_last(x[\"answered_correctly\"].values, x[\"community\"].values)).to_dict(defaultdict(init_dict))\n",
    "    \n",
    "community_array = train_df[\"community\"].values\n",
    "community_array = community_array[train_index]\n",
    "train_df.drop('community', axis=1, inplace=True)"
   ]
  },
  {
   "cell_type": "code",
   "execution_count": 16,
   "metadata": {
    "execution": {
     "iopub.execute_input": "2020-12-15T23:39:27.659118Z",
     "iopub.status.busy": "2020-12-15T23:39:27.657661Z",
     "iopub.status.idle": "2020-12-15T23:39:42.545039Z",
     "shell.execute_reply": "2020-12-15T23:39:42.545578Z"
    },
    "papermill": {
     "duration": 14.925218,
     "end_time": "2020-12-15T23:39:42.545745",
     "exception": false,
     "start_time": "2020-12-15T23:39:27.620527",
     "status": "completed"
    },
    "tags": []
   },
   "outputs": [],
   "source": [
    "train_df['lag'] = train_df.groupby('user_id')[target].shift()\n",
    "cum = train_df.groupby('user_id')['lag'].agg(['cumsum', 'cumcount'])\n",
    "user_correctness_array = np.array(cum['cumsum'] / cum['cumcount'])\n",
    "user_correctness_array = user_correctness_array[train_index]\n",
    "train_df.drop(columns=['lag'], inplace=True)\n",
    "del cum"
   ]
  },
  {
   "cell_type": "code",
   "execution_count": 17,
   "metadata": {
    "execution": {
     "iopub.execute_input": "2020-12-15T23:39:42.607703Z",
     "iopub.status.busy": "2020-12-15T23:39:42.606906Z",
     "iopub.status.idle": "2020-12-15T23:44:12.834852Z",
     "shell.execute_reply": "2020-12-15T23:44:12.834134Z"
    },
    "papermill": {
     "duration": 270.259934,
     "end_time": "2020-12-15T23:44:12.835031",
     "exception": false,
     "start_time": "2020-12-15T23:39:42.575097",
     "status": "completed"
    },
    "tags": []
   },
   "outputs": [
    {
     "name": "stdout",
     "output_type": "stream",
     "text": [
      "1\n",
      "2\n",
      "3\n",
      "4\n",
      "5\n",
      "6\n",
      "7\n"
     ]
    }
   ],
   "source": [
    "#\n",
    "print(1)\n",
    "train_df[\"part_count\"] = train_df[\"part\"] ==1\n",
    "train_df[\"part_count\"] = train_df[\"part_count\"].astype(\"int8\")\n",
    "train_df['part_count_lag'] = train_df.groupby('user_id')[\"part_count\"].shift()\n",
    "part1_count_array = train_df.groupby('user_id')['part_count_lag'].agg(['cumsum']).values\n",
    "train_df[\"part1_count\"] = part1_count_array\n",
    "\n",
    "part1_count_agg = train_df.groupby('user_id')[\"part1_count\"].agg(['max'])\n",
    "part1_count_agg['max'].fillna(0,inplace=True)\n",
    "part1_count_dict = part1_count_agg['max'].astype('int32').to_dict(defaultdict(int))\n",
    "del part1_count_agg\n",
    "train_df.drop(\"part1_count\", axis=1, inplace=True)\n",
    "part1_count_array = part1_count_array[train_index] \n",
    "\n",
    "#\n",
    "print(2)\n",
    "train_df[\"part_count\"] = train_df[\"part\"] ==2\n",
    "train_df[\"part_count\"] = train_df[\"part_count\"].astype(\"int8\")\n",
    "train_df['part_count_lag'] = train_df.groupby('user_id')[\"part_count\"].shift()\n",
    "part2_count_array = train_df.groupby('user_id')['part_count_lag'].agg(['cumsum']).values\n",
    "train_df[\"part2_count\"] = part2_count_array\n",
    "\n",
    "part2_count_agg = train_df.groupby('user_id')[\"part2_count\"].agg(['max'])\n",
    "part2_count_agg['max'].fillna(0,inplace=True)\n",
    "part2_count_dict = part2_count_agg['max'].astype('int32').to_dict(defaultdict(int))\n",
    "del part2_count_agg\n",
    "train_df.drop(\"part2_count\", axis=1, inplace=True)\n",
    "part2_count_array = part2_count_array[train_index] \n",
    "\n",
    "#\n",
    "print(3)\n",
    "train_df[\"part_count\"] = train_df[\"part\"] ==3\n",
    "train_df[\"part_count\"] = train_df[\"part_count\"].astype(\"int8\")\n",
    "train_df['part_count_lag'] = train_df.groupby('user_id')[\"part_count\"].shift()\n",
    "part3_count_array = train_df.groupby('user_id')['part_count_lag'].agg(['cumsum']).values\n",
    "train_df[\"part3_count\"] = part3_count_array\n",
    "\n",
    "part3_count_agg = train_df.groupby('user_id')[\"part3_count\"].agg(['max'])\n",
    "part3_count_agg['max'].fillna(0,inplace=True)\n",
    "part3_count_dict = part3_count_agg['max'].astype('int32').to_dict(defaultdict(int))\n",
    "del part3_count_agg\n",
    "train_df.drop(\"part3_count\", axis=1, inplace=True)\n",
    "part3_count_array = part3_count_array[train_index] \n",
    "\n",
    "#\n",
    "print(4)\n",
    "train_df[\"part_count\"] = train_df[\"part\"] ==4\n",
    "train_df[\"part_count\"] = train_df[\"part_count\"].astype(\"int8\")\n",
    "train_df['part_count_lag'] = train_df.groupby('user_id')[\"part_count\"].shift()\n",
    "part4_count_array = train_df.groupby('user_id')['part_count_lag'].agg(['cumsum']).values\n",
    "train_df[\"part4_count\"] = part4_count_array\n",
    "\n",
    "part4_count_agg = train_df.groupby('user_id')[\"part4_count\"].agg(['max'])\n",
    "part4_count_agg['max'].fillna(0,inplace=True)\n",
    "part4_count_dict = part4_count_agg['max'].astype('int32').to_dict(defaultdict(int))\n",
    "del part4_count_agg\n",
    "train_df.drop(\"part4_count\", axis=1, inplace=True)\n",
    "part4_count_array = part4_count_array[train_index] \n",
    "\n",
    "#\n",
    "print(5)\n",
    "train_df[\"part_count\"] = train_df[\"part\"] ==5\n",
    "train_df[\"part_count\"] = train_df[\"part_count\"].astype(\"int8\")\n",
    "train_df['part_count_lag'] = train_df.groupby('user_id')[\"part_count\"].shift()\n",
    "part5_count_array = train_df.groupby('user_id')['part_count_lag'].agg(['cumsum']).values\n",
    "train_df[\"part5_count\"] = part5_count_array\n",
    "\n",
    "part5_count_agg = train_df.groupby('user_id')[\"part5_count\"].agg(['max'])\n",
    "part5_count_agg['max'].fillna(0,inplace=True)\n",
    "part5_count_dict = part5_count_agg['max'].astype('int32').to_dict(defaultdict(int))\n",
    "del part5_count_agg\n",
    "train_df.drop(\"part5_count\", axis=1, inplace=True)\n",
    "part5_count_array = part5_count_array[train_index] \n",
    "\n",
    "#\n",
    "print(6)\n",
    "train_df[\"part_count\"] = train_df[\"part\"] ==6\n",
    "train_df[\"part_count\"] = train_df[\"part_count\"].astype(\"int8\")\n",
    "train_df['part_count_lag'] = train_df.groupby('user_id')[\"part_count\"].shift()\n",
    "part6_count_array = train_df.groupby('user_id')['part_count_lag'].agg(['cumsum']).values\n",
    "train_df[\"part6_count\"] = part6_count_array\n",
    "\n",
    "part6_count_agg = train_df.groupby('user_id')[\"part6_count\"].agg(['max'])\n",
    "part6_count_agg['max'].fillna(0,inplace=True)\n",
    "part6_count_dict = part6_count_agg['max'].astype('int32').to_dict(defaultdict(int))\n",
    "del part6_count_agg\n",
    "train_df.drop(\"part6_count\", axis=1, inplace=True)\n",
    "part6_count_array = part6_count_array[train_index] \n",
    "\n",
    "#\n",
    "print(7)\n",
    "train_df[\"part_count\"] = train_df[\"part\"] ==7\n",
    "train_df[\"part_count\"] = train_df[\"part_count\"].astype(\"int8\")\n",
    "train_df['part_count_lag'] = train_df.groupby('user_id')[\"part_count\"].shift()\n",
    "part7_count_array = train_df.groupby('user_id')['part_count_lag'].agg(['cumsum']).values\n",
    "train_df.drop(columns=['part_count_lag', 'part_count'], inplace=True)\n",
    "train_df[\"part7_count\"] = part7_count_array\n",
    "\n",
    "part7_count_agg = train_df.groupby('user_id')[\"part7_count\"].agg(['max'])\n",
    "part7_count_agg['max'].fillna(0,inplace=True)\n",
    "part7_count_dict = part7_count_agg['max'].astype('int32').to_dict(defaultdict(int))\n",
    "del part7_count_agg\n",
    "train_df.drop(\"part7_count\", axis=1, inplace=True)\n",
    "part7_count_array = part7_count_array[train_index] \n",
    "\n",
    "part_array = train_df.part.values\n",
    "train_df.drop(\"part\", axis=1, inplace=True)\n",
    "part_array = part_array[train_index]"
   ]
  },
  {
   "cell_type": "code",
   "execution_count": 18,
   "metadata": {
    "execution": {
     "iopub.execute_input": "2020-12-15T23:44:12.901937Z",
     "iopub.status.busy": "2020-12-15T23:44:12.900902Z",
     "iopub.status.idle": "2020-12-15T23:44:44.921363Z",
     "shell.execute_reply": "2020-12-15T23:44:44.919560Z"
    },
    "papermill": {
     "duration": 32.055095,
     "end_time": "2020-12-15T23:44:44.921555",
     "exception": false,
     "start_time": "2020-12-15T23:44:12.866460",
     "status": "completed"
    },
    "tags": []
   },
   "outputs": [],
   "source": [
    "# prior_question_had_explanation_mean\n",
    "train_df['lag'] = train_df.groupby('user_id')['prior_question_had_explanation'].shift().astype(bool)\n",
    "cum = train_df.groupby('user_id')['lag'].agg(['cumsum', 'cumcount'])\n",
    "prior_question_had_explanation_mean_array = np.array(cum['cumsum'] / cum['cumcount'])\n",
    "prior_question_had_explanation_mean_array = prior_question_had_explanation_mean_array[train_index]\n",
    "\n",
    "user_prior_question_had_explanation_sum_agg = train_df.groupby('user_id')[\"prior_question_had_explanation\"].agg(['sum'])\n",
    "user_prior_question_had_explanation_sum_dict = user_prior_question_had_explanation_sum_agg['sum'].astype('int32').to_dict(defaultdict(int))\n",
    "train_df.drop(columns=['lag'], inplace=True)\n",
    "del cum, user_prior_question_had_explanation_sum_agg\n",
    "\n",
    "prior_question_had_explanation_array = train_df.prior_question_had_explanation.values\n",
    "train_df.drop('prior_question_had_explanation', axis=1, inplace=True)\n",
    "prior_question_had_explanation_array = prior_question_had_explanation_array[train_index]"
   ]
  },
  {
   "cell_type": "code",
   "execution_count": 19,
   "metadata": {
    "execution": {
     "iopub.execute_input": "2020-12-15T23:44:45.003851Z",
     "iopub.status.busy": "2020-12-15T23:44:45.002911Z",
     "iopub.status.idle": "2020-12-15T23:45:30.623831Z",
     "shell.execute_reply": "2020-12-15T23:45:30.624803Z"
    },
    "papermill": {
     "duration": 45.670533,
     "end_time": "2020-12-15T23:45:30.625064",
     "exception": false,
     "start_time": "2020-12-15T23:44:44.954531",
     "status": "completed"
    },
    "tags": []
   },
   "outputs": [
    {
     "name": "stdout",
     "output_type": "stream",
     "text": [
      "Flushing output cache (0 entries)\n",
      "Flushing input history\n"
     ]
    }
   ],
   "source": [
    "first_attempt_df = pd.read_csv(\"../input/riiid-additional-data/content_first_attempt.csv\")\n",
    "first_attempt_array = first_attempt_df.first_attempt.values\n",
    "train_df[\"first_attempt\"] = first_attempt_array\n",
    "\n",
    "unique_attempt_array= train_df.groupby(\"user_id\")[\"first_attempt\"].cumsum().values\n",
    "train_df[\"unique_attempt\"] = unique_attempt_array\n",
    "user_unique_agg = train_df.groupby('user_id')[\"unique_attempt\"].agg(['max'])\n",
    "user_unique_dict = user_unique_agg['max'].astype('int32').to_dict(defaultdict(int))\n",
    "\n",
    "first_attempt_array = first_attempt_array[train_index]\n",
    "unique_attempt_array = unique_attempt_array[train_index]\n",
    "train_df.drop(['first_attempt', 'unique_attempt'], axis=1, inplace=True)\n",
    "del first_attempt_df, user_unique_agg\n",
    "\n",
    "clear_mem()"
   ]
  },
  {
   "cell_type": "code",
   "execution_count": 20,
   "metadata": {
    "execution": {
     "iopub.execute_input": "2020-12-15T23:45:30.712284Z",
     "iopub.status.busy": "2020-12-15T23:45:30.711598Z",
     "iopub.status.idle": "2020-12-15T23:45:43.589684Z",
     "shell.execute_reply": "2020-12-15T23:45:43.589031Z"
    },
    "papermill": {
     "duration": 12.926026,
     "end_time": "2020-12-15T23:45:43.589810",
     "exception": false,
     "start_time": "2020-12-15T23:45:30.663784",
     "status": "completed"
    },
    "tags": []
   },
   "outputs": [
    {
     "name": "stdout",
     "output_type": "stream",
     "text": [
      "Flushing output cache (0 entries)\n",
      "Flushing input history\n",
      "Flushing output cache (0 entries)\n",
      "Flushing input history\n"
     ]
    }
   ],
   "source": [
    "#########\n",
    "user_agg = train_df.groupby('user_id')[target].agg(['sum', 'count'])\n",
    "user_sum_dict = user_agg['sum'].astype('int16').to_dict(defaultdict(int))\n",
    "del user_agg['sum']\n",
    "user_count_dict = user_agg['count'].astype('int16').to_dict(defaultdict(int))\n",
    "del user_agg['count']\n",
    "clear_mem()\n",
    "\n",
    "#\n",
    "content_agg = train_df.groupby('content_id')[target].agg(['sum', 'count'])\n",
    "content_sum_dict = content_agg['sum'].astype('int32').to_dict(defaultdict(int))\n",
    "content_count_dict = content_agg['count'].astype('int32').to_dict(defaultdict(int))\n",
    "\n",
    "content_count_array = train_df['content_id'].map(content_agg['count']).astype('int32').values\n",
    "content_id_array = train_df['content_id'].map(content_agg['sum'] / content_agg['count']).values\n",
    "del content_agg\n",
    "clear_mem()"
   ]
  },
  {
   "cell_type": "code",
   "execution_count": 21,
   "metadata": {
    "execution": {
     "iopub.execute_input": "2020-12-15T23:45:43.661936Z",
     "iopub.status.busy": "2020-12-15T23:45:43.660606Z",
     "iopub.status.idle": "2020-12-15T23:45:49.282228Z",
     "shell.execute_reply": "2020-12-15T23:45:49.281332Z"
    },
    "papermill": {
     "duration": 5.658942,
     "end_time": "2020-12-15T23:45:49.282368",
     "exception": false,
     "start_time": "2020-12-15T23:45:43.623426",
     "status": "completed"
    },
    "tags": []
   },
   "outputs": [
    {
     "name": "stdout",
     "output_type": "stream",
     "text": [
      "Flushing output cache (0 entries)\n",
      "Flushing input history\n"
     ]
    }
   ],
   "source": [
    "# benefit of solving difficult questions\n",
    "point_array = 1 / (content_id_array + 0.1)\n",
    "content_id_array = content_id_array[train_index]\n",
    "content_count_array = content_count_array[train_index]\n",
    "clear_mem()"
   ]
  },
  {
   "cell_type": "code",
   "execution_count": 22,
   "metadata": {
    "execution": {
     "iopub.execute_input": "2020-12-15T23:45:49.362188Z",
     "iopub.status.busy": "2020-12-15T23:45:49.361448Z",
     "iopub.status.idle": "2020-12-15T23:46:12.961748Z",
     "shell.execute_reply": "2020-12-15T23:46:12.961173Z"
    },
    "papermill": {
     "duration": 23.644426,
     "end_time": "2020-12-15T23:46:12.961871",
     "exception": false,
     "start_time": "2020-12-15T23:45:49.317445",
     "status": "completed"
    },
    "tags": []
   },
   "outputs": [
    {
     "name": "stdout",
     "output_type": "stream",
     "text": [
      "Flushing output cache (0 entries)\n",
      "Flushing input history\n"
     ]
    }
   ],
   "source": [
    "###########\n",
    "train_df[\"got_point\"] = point_array * train_df[\"answered_correctly\"].values\n",
    "del point_array\n",
    "user_point_agg = train_df.groupby('user_id')[\"got_point\"].agg(['sum'])\n",
    "user_point_sum_dict = user_point_agg['sum'].astype('float32').to_dict(defaultdict(float))\n",
    "del user_point_agg\n",
    "\n",
    "train_df['lag'] = train_df.groupby('user_id')[\"got_point\"].shift()\n",
    "cum = train_df.groupby('user_id')['lag'].agg(['cumsum', 'cumcount'])\n",
    "got_point_array = np.array(cum['cumsum'] / cum['cumcount'])\n",
    "train_df.drop(columns=['lag', 'got_point'], inplace=True)\n",
    "del cum\n",
    "got_point_array = got_point_array[train_index]\n",
    "clear_mem()"
   ]
  },
  {
   "cell_type": "code",
   "execution_count": 23,
   "metadata": {
    "execution": {
     "iopub.execute_input": "2020-12-15T23:46:13.039394Z",
     "iopub.status.busy": "2020-12-15T23:46:13.038699Z",
     "iopub.status.idle": "2020-12-15T23:48:23.137597Z",
     "shell.execute_reply": "2020-12-15T23:48:23.138137Z"
    },
    "papermill": {
     "duration": 130.141729,
     "end_time": "2020-12-15T23:48:23.138305",
     "exception": false,
     "start_time": "2020-12-15T23:46:12.996576",
     "status": "completed"
    },
    "tags": []
   },
   "outputs": [
    {
     "name": "stdout",
     "output_type": "stream",
     "text": [
      "CPU times: user 2min 7s, sys: 2.82 s, total: 2min 9s\n",
      "Wall time: 2min 10s\n"
     ]
    }
   ],
   "source": [
    "%%time\n",
    "user_content_agg = train_df.groupby(\"user_id\")[\"content_id\"].unique().reset_index().set_index(\"user_id\")\n",
    "\n",
    "value = []\n",
    "for j in user_content_agg.index:\n",
    "    a = bitarray(32737, endian='little')\n",
    "    a.setall(True)\n",
    "    for i in user_content_agg.loc[j][0]:\n",
    "        a[i] = 0\n",
    "    value.append(a)\n",
    "    \n",
    "user_content_agg[\"content_exp\"] = value\n",
    "user_content_dict = user_content_agg[\"content_exp\"].to_dict(defaultdict(make_bitarray))\n",
    "del user_content_agg, value\n",
    "train_df.drop([\"content_id\"], axis=1, inplace=True)"
   ]
  },
  {
   "cell_type": "code",
   "execution_count": 24,
   "metadata": {
    "execution": {
     "iopub.execute_input": "2020-12-15T23:48:23.211988Z",
     "iopub.status.busy": "2020-12-15T23:48:23.211315Z",
     "iopub.status.idle": "2020-12-15T23:49:23.895305Z",
     "shell.execute_reply": "2020-12-15T23:49:23.894557Z"
    },
    "papermill": {
     "duration": 60.722002,
     "end_time": "2020-12-15T23:49:23.895430",
     "exception": false,
     "start_time": "2020-12-15T23:48:23.173428",
     "status": "completed"
    },
    "tags": []
   },
   "outputs": [],
   "source": [
    "@jit\n",
    "def accuracy_last7(A):\n",
    "    ans = []\n",
    "    for i in range(len(A)):\n",
    "        if i < 7:\n",
    "            ans.append(np.nan)\n",
    "        else:\n",
    "            ans.append(np.mean(A[i-7:i]))       \n",
    "    return np.array(ans)\n",
    "\n",
    "answered_correctly_last7_array = train_df.groupby(\"user_id\").apply(lambda x: accuracy_last7(x[\"answered_correctly\"].values))\n",
    "answered_correctly_last7_array = np.hstack(answered_correctly_last7_array)\n",
    "answered_correctly_last7_array = answered_correctly_last7_array[train_index]\n",
    "user_last7_answer_dict = train_df.groupby(\"user_id\")[\"answered_correctly\"].apply(lambda x: \n",
    "                                                                                 x[-7:].values).to_dict(defaultdict(partial(np.ndarray, 0, dtype=\"int8\")))"
   ]
  },
  {
   "cell_type": "code",
   "execution_count": 25,
   "metadata": {
    "execution": {
     "iopub.execute_input": "2020-12-15T23:49:26.358827Z",
     "iopub.status.busy": "2020-12-15T23:49:26.357743Z",
     "iopub.status.idle": "2020-12-15T23:49:26.384644Z",
     "shell.execute_reply": "2020-12-15T23:49:26.385153Z"
    },
    "papermill": {
     "duration": 2.454323,
     "end_time": "2020-12-15T23:49:26.385316",
     "exception": false,
     "start_time": "2020-12-15T23:49:23.930993",
     "status": "completed"
    },
    "tags": []
   },
   "outputs": [],
   "source": [
    "answered_correctly_array = train_df[target].values\n",
    "train_df.drop(target, axis=1, inplace=True)\n",
    "answered_correctly_array = answered_correctly_array[train_index]"
   ]
  },
  {
   "cell_type": "markdown",
   "metadata": {
    "papermill": {
     "duration": 0.035505,
     "end_time": "2020-12-15T23:49:26.456602",
     "exception": false,
     "start_time": "2020-12-15T23:49:26.421097",
     "status": "completed"
    },
    "tags": []
   },
   "source": [
    "# data formation"
   ]
  },
  {
   "cell_type": "code",
   "execution_count": 26,
   "metadata": {
    "execution": {
     "iopub.execute_input": "2020-12-15T23:49:26.581648Z",
     "iopub.status.busy": "2020-12-15T23:49:26.580434Z",
     "iopub.status.idle": "2020-12-15T23:49:39.395167Z",
     "shell.execute_reply": "2020-12-15T23:49:39.395691Z"
    },
    "papermill": {
     "duration": 12.902049,
     "end_time": "2020-12-15T23:49:39.395866",
     "exception": false,
     "start_time": "2020-12-15T23:49:26.493817",
     "status": "completed"
    },
    "tags": []
   },
   "outputs": [],
   "source": [
    "if not FULL_TRAIN:\n",
    "    train_df = train_df[train_df.index.isin(train_index)].reset_index(drop=True)\n",
    "    if CV_SCHEME == \"original\":\n",
    "        valid_index = list(train_df.groupby('user_id').tail(valid_size).index)\n",
    "    else:\n",
    "        valid_index = list(train_df['viretual_time_stamp'].nlargest(2500000).index)\n",
    "    train_index = list(train_df[~train_df.index.isin(valid_index)].index)\n",
    "del train_df"
   ]
  },
  {
   "cell_type": "code",
   "execution_count": 27,
   "metadata": {
    "execution": {
     "iopub.execute_input": "2020-12-15T23:49:39.472106Z",
     "iopub.status.busy": "2020-12-15T23:49:39.471005Z",
     "iopub.status.idle": "2020-12-15T23:49:39.482957Z",
     "shell.execute_reply": "2020-12-15T23:49:39.483798Z"
    },
    "papermill": {
     "duration": 0.052683,
     "end_time": "2020-12-15T23:49:39.484036",
     "exception": false,
     "start_time": "2020-12-15T23:49:39.431353",
     "status": "completed"
    },
    "tags": []
   },
   "outputs": [
    {
     "name": "stdout",
     "output_type": "stream",
     "text": [
      "25\n"
     ]
    }
   ],
   "source": [
    "features_dict = {\n",
    "    'content_id': content_id_array,\n",
    "    'prior_question_elapsed_time': prior_question_elapsed_time_array,\n",
    "    'prior_question_had_explanation':  prior_question_had_explanation_array,\n",
    "    'user_correctness': user_correctness_array,\n",
    "    'part': part_array,\n",
    "    'content_count': content_count_array,\n",
    "    'count': count_array,\n",
    "    'first_attempt': first_attempt_array,\n",
    "    'day_timestamp': day_timestamp_array,\n",
    "    'count_inday': count_inday_array,\n",
    "    'unique_attempt': unique_attempt_array,\n",
    "    'part1_count': part1_count_array,\n",
    "    'part2_count': part2_count_array,\n",
    "    'part3_count': part3_count_array,\n",
    "    'part4_count': part4_count_array,\n",
    "    'part5_count': part5_count_array,\n",
    "    'part6_count': part6_count_array,\n",
    "    'part7_count': part7_count_array,\n",
    "    'prior_question_had_explanation_mean': prior_question_had_explanation_mean_array,\n",
    "    'got_point': got_point_array,\n",
    "    'answered_correctly_last7': answered_correctly_last7_array,   \n",
    "    'timediff': timediff_array,\n",
    "    'timediff2': timediff2_array,\n",
    "    'community': community_array,\n",
    "    'tag_acc': tag_acc_array,\n",
    "}\n",
    "\n",
    "features = list(features_dict.keys())\n",
    "print(len(features))\n",
    "\n",
    "del content_count_array, content_id_array, user_correctness_array, first_attempt_array, count_array, prior_question_had_explanation_mean_array\n",
    "del part1_count_array, part2_count_array, part3_count_array, part4_count_array, part5_count_array, part6_count_array, part7_count_array\n",
    "del answered_correctly_last7_array, timediff_array, timediff2_array, community_array, tag_acc_array"
   ]
  },
  {
   "cell_type": "code",
   "execution_count": 28,
   "metadata": {
    "execution": {
     "iopub.execute_input": "2020-12-15T23:49:39.564673Z",
     "iopub.status.busy": "2020-12-15T23:49:39.563796Z",
     "iopub.status.idle": "2020-12-15T23:49:39.570360Z",
     "shell.execute_reply": "2020-12-15T23:49:39.571052Z"
    },
    "papermill": {
     "duration": 0.048311,
     "end_time": "2020-12-15T23:49:39.571302",
     "exception": false,
     "start_time": "2020-12-15T23:49:39.522991",
     "status": "completed"
    },
    "tags": []
   },
   "outputs": [
    {
     "name": "stdout",
     "output_type": "stream",
     "text": [
      "(6536675, 26) (2360984, 26)\n"
     ]
    }
   ],
   "source": [
    "if FULL_TRAIN:\n",
    "    print(len(train_index), len(features)+1)\n",
    "else:\n",
    "    print((len(train_index), len(features)+1), (len(valid_index), len(features)+1))"
   ]
  },
  {
   "cell_type": "markdown",
   "metadata": {
    "papermill": {
     "duration": 0.037915,
     "end_time": "2020-12-15T23:49:39.648238",
     "exception": false,
     "start_time": "2020-12-15T23:49:39.610323",
     "status": "completed"
    },
    "tags": []
   },
   "source": [
    "# Train"
   ]
  },
  {
   "cell_type": "code",
   "execution_count": 29,
   "metadata": {
    "execution": {
     "iopub.execute_input": "2020-12-15T23:49:39.731753Z",
     "iopub.status.busy": "2020-12-15T23:49:39.730804Z",
     "iopub.status.idle": "2020-12-15T23:49:39.734026Z",
     "shell.execute_reply": "2020-12-15T23:49:39.733425Z"
    },
    "papermill": {
     "duration": 0.047024,
     "end_time": "2020-12-15T23:49:39.734147",
     "exception": false,
     "start_time": "2020-12-15T23:49:39.687123",
     "status": "completed"
    },
    "tags": []
   },
   "outputs": [],
   "source": [
    "params = {\n",
    "    'objective': 'binary',\n",
    "    'seed': 42,\n",
    "    'metric': 'auc',\n",
    "    'learning_rate': 0.05,\n",
    "    'max_bin': 800,\n",
    "    'num_leaves': 80\n",
    "}"
   ]
  },
  {
   "cell_type": "code",
   "execution_count": 30,
   "metadata": {
    "execution": {
     "iopub.execute_input": "2020-12-15T23:49:41.308808Z",
     "iopub.status.busy": "2020-12-15T23:49:41.308037Z",
     "iopub.status.idle": "2020-12-16T00:54:34.443536Z",
     "shell.execute_reply": "2020-12-16T00:54:34.444751Z"
    },
    "papermill": {
     "duration": 3894.673478,
     "end_time": "2020-12-16T00:54:34.445677",
     "exception": false,
     "start_time": "2020-12-15T23:49:39.772199",
     "status": "completed"
    },
    "tags": []
   },
   "outputs": [
    {
     "name": "stdout",
     "output_type": "stream",
     "text": [
      "Training until validation scores don't improve for 15 rounds\n",
      "[50]\ttraining's auc: 0.76492\tvalid_1's auc: 0.750461\n",
      "[100]\ttraining's auc: 0.769307\tvalid_1's auc: 0.755675\n",
      "[150]\ttraining's auc: 0.7715\tvalid_1's auc: 0.758048\n",
      "[200]\ttraining's auc: 0.772764\tvalid_1's auc: 0.759185\n",
      "[250]\ttraining's auc: 0.773587\tvalid_1's auc: 0.759838\n",
      "[300]\ttraining's auc: 0.774224\tvalid_1's auc: 0.760254\n",
      "[350]\ttraining's auc: 0.774727\tvalid_1's auc: 0.760611\n",
      "[400]\ttraining's auc: 0.775242\tvalid_1's auc: 0.760942\n",
      "[450]\ttraining's auc: 0.775705\tvalid_1's auc: 0.76119\n",
      "[500]\ttraining's auc: 0.776151\tvalid_1's auc: 0.761423\n",
      "[550]\ttraining's auc: 0.776539\tvalid_1's auc: 0.761586\n",
      "[600]\ttraining's auc: 0.776904\tvalid_1's auc: 0.76173\n",
      "[650]\ttraining's auc: 0.777249\tvalid_1's auc: 0.761859\n",
      "[700]\ttraining's auc: 0.777611\tvalid_1's auc: 0.762\n",
      "[750]\ttraining's auc: 0.777952\tvalid_1's auc: 0.762105\n",
      "[800]\ttraining's auc: 0.778266\tvalid_1's auc: 0.7622\n",
      "[850]\ttraining's auc: 0.778592\tvalid_1's auc: 0.762295\n",
      "[900]\ttraining's auc: 0.778906\tvalid_1's auc: 0.762371\n",
      "[950]\ttraining's auc: 0.779227\tvalid_1's auc: 0.762476\n",
      "[1000]\ttraining's auc: 0.779508\tvalid_1's auc: 0.762553\n",
      "[1050]\ttraining's auc: 0.779815\tvalid_1's auc: 0.762644\n",
      "[1100]\ttraining's auc: 0.780118\tvalid_1's auc: 0.762726\n",
      "[1150]\ttraining's auc: 0.780395\tvalid_1's auc: 0.762774\n",
      "[1200]\ttraining's auc: 0.780678\tvalid_1's auc: 0.762831\n",
      "[1250]\ttraining's auc: 0.780965\tvalid_1's auc: 0.762885\n",
      "[1300]\ttraining's auc: 0.781273\tvalid_1's auc: 0.762948\n",
      "[1350]\ttraining's auc: 0.781537\tvalid_1's auc: 0.762982\n",
      "[1400]\ttraining's auc: 0.78182\tvalid_1's auc: 0.76305\n",
      "[1450]\ttraining's auc: 0.782112\tvalid_1's auc: 0.763107\n",
      "[1500]\ttraining's auc: 0.782379\tvalid_1's auc: 0.763143\n",
      "[1550]\ttraining's auc: 0.782652\tvalid_1's auc: 0.763195\n",
      "[1600]\ttraining's auc: 0.782932\tvalid_1's auc: 0.763253\n",
      "[1650]\ttraining's auc: 0.783198\tvalid_1's auc: 0.763294\n",
      "[1700]\ttraining's auc: 0.783466\tvalid_1's auc: 0.763334\n",
      "[1750]\ttraining's auc: 0.783714\tvalid_1's auc: 0.763357\n",
      "[1800]\ttraining's auc: 0.783985\tvalid_1's auc: 0.763404\n",
      "[1850]\ttraining's auc: 0.784265\tvalid_1's auc: 0.763465\n",
      "[1900]\ttraining's auc: 0.784531\tvalid_1's auc: 0.763507\n",
      "[1950]\ttraining's auc: 0.784793\tvalid_1's auc: 0.763542\n",
      "[2000]\ttraining's auc: 0.785041\tvalid_1's auc: 0.763566\n",
      "[2050]\ttraining's auc: 0.785289\tvalid_1's auc: 0.763588\n",
      "Early stopping, best iteration is:\n",
      "[2053]\ttraining's auc: 0.785306\tvalid_1's auc: 0.76359\n"
     ]
    }
   ],
   "source": [
    "if FULL_TRAIN:\n",
    "    X_train = np.ndarray(shape=(len(train_index), len(features)), dtype=np.float32)\n",
    "\n",
    "    for idx, feature in enumerate(features):\n",
    "        X_train[:,idx] = features_dict[feature].astype(np.float32).reshape(-1)\n",
    "        del features_dict[feature]\n",
    "    y_train = answered_correctly_array.astype(np.float32)\n",
    "    tr_data = lgb.Dataset(X_train, label=y_train)\n",
    "    print(\"Full training starts\")\n",
    "    model = lgb.train(\n",
    "        params, \n",
    "        tr_data, \n",
    "        num_boost_round=3500,\n",
    "        valid_sets=None, \n",
    "        )\n",
    "    del X_train, y_train\n",
    "\n",
    "else:\n",
    "    X_train = np.ndarray(shape=(len(train_index), len(features)), dtype=np.float32)\n",
    "    X_valid = np.ndarray(shape=(len(valid_index), len(features)), dtype=np.float32)\n",
    "\n",
    "    for idx, feature in enumerate(features):\n",
    "        X_train[:,idx] = features_dict[feature][train_index].astype(np.float32).reshape(-1)\n",
    "        X_valid[:,idx] = features_dict[feature][valid_index].astype(np.float32).reshape(-1)\n",
    "        del features_dict[feature]\n",
    "    y_train = answered_correctly_array[train_index].astype(np.float32)\n",
    "    y_valid = answered_correctly_array[valid_index].astype(np.float32)\n",
    "\n",
    "    tr_data = lgb.Dataset(X_train, label=y_train)\n",
    "    va_data = lgb.Dataset(X_valid, label=y_valid)\n",
    "\n",
    "    model = lgb.train(\n",
    "        params, \n",
    "        tr_data, \n",
    "        num_boost_round=10000,\n",
    "        valid_sets=[tr_data, va_data], \n",
    "        early_stopping_rounds=15,\n",
    "        verbose_eval=50\n",
    "        )\n",
    "    del X_train, y_train, X_valid, y_valid"
   ]
  },
  {
   "cell_type": "markdown",
   "metadata": {
    "papermill": {
     "duration": 0.050903,
     "end_time": "2020-12-16T00:54:34.687818",
     "exception": false,
     "start_time": "2020-12-16T00:54:34.636915",
     "status": "completed"
    },
    "tags": []
   },
   "source": [
    "# Inference"
   ]
  },
  {
   "cell_type": "code",
   "execution_count": 31,
   "metadata": {
    "execution": {
     "iopub.execute_input": "2020-12-16T00:54:34.804695Z",
     "iopub.status.busy": "2020-12-16T00:54:34.804033Z",
     "iopub.status.idle": "2020-12-16T00:54:34.807028Z",
     "shell.execute_reply": "2020-12-16T00:54:34.806534Z"
    },
    "papermill": {
     "duration": 0.063108,
     "end_time": "2020-12-16T00:54:34.807142",
     "exception": false,
     "start_time": "2020-12-16T00:54:34.744034",
     "status": "completed"
    },
    "tags": []
   },
   "outputs": [],
   "source": [
    "env = riiideducation.make_env()\n",
    "iter_test = env.iter_test()\n",
    "prior_test_df = None"
   ]
  },
  {
   "cell_type": "code",
   "execution_count": 32,
   "metadata": {
    "execution": {
     "iopub.execute_input": "2020-12-16T00:54:34.944962Z",
     "iopub.status.busy": "2020-12-16T00:54:34.936593Z",
     "iopub.status.idle": "2020-12-16T00:54:37.704193Z",
     "shell.execute_reply": "2020-12-16T00:54:37.705005Z"
    },
    "papermill": {
     "duration": 2.847615,
     "end_time": "2020-12-16T00:54:37.705238",
     "exception": false,
     "start_time": "2020-12-16T00:54:34.857623",
     "status": "completed"
    },
    "tags": []
   },
   "outputs": [
    {
     "name": "stdout",
     "output_type": "stream",
     "text": [
      "CPU times: user 3.27 s, sys: 118 ms, total: 3.39 s\n",
      "Wall time: 2.75 s\n"
     ]
    }
   ],
   "source": [
    "%%time\n",
    "for (test_df, sample_prediction_df) in iter_test:\n",
    "    if prior_test_df is not None:\n",
    "        prior_test_df[target] = eval(test_df['prior_group_answers_correct'].iloc[0])\n",
    "        prior_test_df = prior_test_df[prior_test_df[target] != -1].reset_index(drop=True)\n",
    "        \n",
    "        user_ids = prior_test_df['user_id'].values\n",
    "        content_ids = prior_test_df['content_id'].values\n",
    "        targets = prior_test_df[target].values\n",
    "         \n",
    "        for user_id, content_id, answered_correctly, part, first_attempt_ornot, prior_explanation, prior_point, prior_community in zip(user_ids, content_ids, \n",
    "                                                            targets, \n",
    "                                                            prior_part_arrays, \n",
    "                                                            prior_f_attempt_arrays,\n",
    "                                                            p_prior_question_had_explanation,\n",
    "                                                            prior_point_array,\n",
    "                                                            prior_community_arrays):\n",
    "            user_sum_dict[user_id] += answered_correctly\n",
    "            user_count_dict[user_id] += 1\n",
    "            content_sum_dict[content_id] += answered_correctly\n",
    "            content_count_dict[content_id] += 1\n",
    "            if part == 1:\n",
    "                part1_count_dict[user_id] +=1\n",
    "            elif part == 2:\n",
    "                part2_count_dict[user_id] +=1\n",
    "            elif part == 3:\n",
    "                part3_count_dict[user_id] +=1\n",
    "            elif part == 4:\n",
    "                part4_count_dict[user_id] +=1\n",
    "            elif part == 5:\n",
    "                part5_count_dict[user_id] +=1\n",
    "            elif part == 6:\n",
    "                part6_count_dict[user_id] +=1\n",
    "            else:\n",
    "                part7_count_dict[user_id] +=1\n",
    "            user_unique_dict[user_id] += first_attempt_ornot\n",
    "            user_prior_question_had_explanation_sum_dict[user_id] += prior_explanation\n",
    "            user_point_sum_dict[user_id] += prior_point * answered_correctly\n",
    "            if len(user_last7_answer_dict[user_id])==7:\n",
    "                user_last7_answer_dict[user_id] = np.concatenate([user_last7_answer_dict[user_id],[answered_correctly]])[1:]\n",
    "            else:\n",
    "                user_last7_answer_dict[user_id] = np.concatenate([user_last7_answer_dict[user_id],[answered_correctly]])\n",
    "            \n",
    "            user_community_correct_dict[user_id][prior_community] += answered_correctly\n",
    "            user_community_count_dict[user_id][prior_community] += 1\n",
    "            \n",
    "    prior_test_df = test_df.copy()\n",
    "\n",
    "    test_df = test_df[test_df['content_type_id'] == 0].reset_index(drop=True)\n",
    "    test_df = pd.merge(test_df, questions_df, left_on='content_id', right_on='question_id', how='left', right_index=True).reset_index(drop=True)\n",
    "    test_df['prior_question_had_explanation'] = test_df['prior_question_had_explanation'].fillna(False).astype('bool')\n",
    "    test_df['prior_question_elapsed_time'] = test_df['prior_question_elapsed_time'].fillna(0)\n",
    "    test_df['day_timestamp'] = (test_df['timestamp'] // 86400000) + 1\n",
    "\n",
    "    prior_part_arrays = test_df['part'].values\n",
    "    p_prior_question_had_explanation = test_df['prior_question_had_explanation'].values\n",
    "    prior_community_arrays = test_df['community'].values\n",
    "    \n",
    "    user_sum = np.zeros(len(test_df), dtype=np.int16)\n",
    "    user_count = np.zeros(len(test_df), dtype=np.int16)\n",
    "    content_sum = np.zeros(len(test_df), dtype=np.int32)\n",
    "    content_count = np.zeros(len(test_df), dtype=np.int32)\n",
    "    part1_count = np.zeros(len(test_df), dtype=np.int32)\n",
    "    part2_count = np.zeros(len(test_df), dtype=np.int32)\n",
    "    part3_count = np.zeros(len(test_df), dtype=np.int32)\n",
    "    part4_count = np.zeros(len(test_df), dtype=np.int32)\n",
    "    part5_count = np.zeros(len(test_df), dtype=np.int32)\n",
    "    part6_count = np.zeros(len(test_df), dtype=np.int32)\n",
    "    part7_count = np.zeros(len(test_df), dtype=np.int32)\n",
    "    user_count_inday = np.zeros(len(test_df), dtype=np.int32)\n",
    "    first_attempt_values = []\n",
    "    user_unique_count = np.zeros(len(test_df), dtype=np.int32)\n",
    "    user_prior_question_had_explanation_sum = np.zeros(len(test_df), dtype=np.int32)\n",
    "    got_point_array = np.zeros(len(test_df), dtype=np.float32)\n",
    "    user_last7_accuracy_array = np.zeros(len(test_df), dtype=np.float32)\n",
    "    timediff_array = np.zeros(len(test_df), dtype = np.int64)\n",
    "    timediff2_array = np.zeros(len(test_df), dtype = np.int64)\n",
    "    tag_acc_array = np.zeros(len(test_df), dtype=np.float32)\n",
    "\n",
    "    for i, (user_id, content_id, day_timestamp, timestamp, community) in enumerate(zip(test_df['user_id'].values, test_df['content_id'].values,\n",
    "                                                             test_df['day_timestamp'].values,\n",
    "                                                             test_df['timestamp'].values,\n",
    "                                                             test_df['community'].values)):\n",
    "        user_sum[i] = user_sum_dict[user_id]\n",
    "        user_count[i] = user_count_dict[user_id]\n",
    "        content_sum[i] = content_sum_dict[content_id]\n",
    "        content_count[i] = content_count_dict[content_id]\n",
    "        part1_count[i] = part1_count_dict[user_id]\n",
    "        part2_count[i] = part2_count_dict[user_id]\n",
    "        part3_count[i] = part3_count_dict[user_id]\n",
    "        part4_count[i] = part4_count_dict[user_id]\n",
    "        part5_count[i] = part5_count_dict[user_id]\n",
    "        part6_count[i] = part6_count_dict[user_id]\n",
    "        part7_count[i] = part7_count_dict[user_id]\n",
    "        first_attempt_values.append(user_content_dict[user_id][content_id])\n",
    "        user_content_dict[user_id][content_id] = False \n",
    "        \n",
    "        if user_day_timestamp_dict[user_id] == day_timestamp:\n",
    "            user_count_inday_dict[user_id] += 1\n",
    "        else:\n",
    "            user_count_inday_dict[user_id] = 1\n",
    "            user_day_timestamp_dict[user_id] = day_timestamp\n",
    "            \n",
    "        user_count_inday[i] = user_count_inday_dict[user_id]\n",
    "        user_unique_count[i] = user_unique_dict[user_id]\n",
    "        user_prior_question_had_explanation_sum[i] = user_prior_question_had_explanation_sum_dict[user_id]\n",
    "        got_point_array[i] = user_point_sum_dict[user_id]\n",
    "        \n",
    "        if len(user_last7_answer_dict[user_id])==7:\n",
    "            user_last7_accuracy_array[i] = user_last7_answer_dict[user_id].mean()\n",
    "        else:\n",
    "            user_last7_accuracy_array[i] = np.nan\n",
    "        \n",
    "        if len(user_timestamp_max_dict[user_id]) ==0:\n",
    "            timediff_array[i] = -1\n",
    "            timediff2_array[i] = -1\n",
    "            user_timestamp_max_dict[user_id] = np.concatenate([user_timestamp_max_dict[user_id],[timestamp]])\n",
    "            \n",
    "        elif len(user_timestamp_max_dict[user_id]) ==1:\n",
    "            timediff_array[i] = timestamp - user_timestamp_max_dict[user_id][0]\n",
    "            timediff2_array[i] = -1\n",
    "            user_timestamp_max_dict[user_id] = np.concatenate([user_timestamp_max_dict[user_id],[timestamp]])\n",
    "            \n",
    "        else:\n",
    "            timediff_array[i] = timestamp - user_timestamp_max_dict[user_id][1]\n",
    "            timediff2_array[i] = timestamp - user_timestamp_max_dict[user_id][0]\n",
    "            user_timestamp_max_dict[user_id] = np.concatenate([user_timestamp_max_dict[user_id],[timestamp]])[1:]                     \n",
    "            \n",
    "        if user_community_count_dict[user_id][community] == 0:\n",
    "            tag_acc_array[i] = np.nan\n",
    "        else:\n",
    "            tag_acc_array[i] = user_community_correct_dict[user_id][community] / user_community_count_dict[user_id][community]\n",
    "        \n",
    "    test_df['user_correctness'] = user_sum / user_count\n",
    "    test_df['content_count'] = content_count\n",
    "    test_df['content_id'] = content_sum / content_count\n",
    "    test_df['count'] = 1\n",
    "    test_df['count'] = test_df.groupby(\"user_id\")[\"count\"].cumsum()\n",
    "    test_df['count'] += user_count\n",
    "    test_df['part1_count'] = part1_count\n",
    "    test_df['part2_count'] = part2_count\n",
    "    test_df['part3_count'] = part3_count\n",
    "    test_df['part4_count'] = part4_count\n",
    "    test_df['part5_count'] = part5_count\n",
    "    test_df['part6_count'] = part6_count\n",
    "    test_df['part7_count'] = part7_count\n",
    "    test_df[\"first_attempt\"] = first_attempt_values\n",
    "    test_df['count_inday'] = user_count_inday\n",
    "    test_df[\"unique_attempt\"] = test_df.groupby(\"user_id\")[\"first_attempt\"].cumsum()\n",
    "    test_df[\"unique_attempt\"] += user_unique_count\n",
    "    test_df['prior_question_had_explanation_mean'] = user_prior_question_had_explanation_sum / user_count\n",
    "    test_df['got_point'] = got_point_array / user_count\n",
    "    test_df['answered_correctly_last7'] = user_last7_accuracy_array\n",
    "    test_df['timediff'] = timediff_array\n",
    "    test_df['timediff2'] = timediff2_array\n",
    "    test_df['tag_acc'] = tag_acc_array\n",
    "    \n",
    "    prior_f_attempt_arrays = test_df['first_attempt'].values\n",
    "    prior_point_array = 1 / (test_df.content_id.values + 0.1)\n",
    "\n",
    "    test_df[target] = model.predict(test_df[features])\n",
    "    env.predict(test_df[['row_id', target]])"
   ]
  },
  {
   "cell_type": "code",
   "execution_count": null,
   "metadata": {
    "papermill": {
     "duration": 0.053536,
     "end_time": "2020-12-16T00:54:37.814335",
     "exception": false,
     "start_time": "2020-12-16T00:54:37.760799",
     "status": "completed"
    },
    "tags": []
   },
   "outputs": [],
   "source": []
  }
 ],
 "metadata": {
  "kernelspec": {
   "display_name": "Python 3",
   "language": "python",
   "name": "python3"
  },
  "language_info": {
   "codemirror_mode": {
    "name": "ipython",
    "version": 3
   },
   "file_extension": ".py",
   "mimetype": "text/x-python",
   "name": "python",
   "nbconvert_exporter": "python",
   "pygments_lexer": "ipython3",
   "version": "3.7.6"
  },
  "papermill": {
   "duration": 5046.006571,
   "end_time": "2020-12-16T00:54:38.187067",
   "environment_variables": {},
   "exception": null,
   "input_path": "__notebook__.ipynb",
   "output_path": "__notebook__.ipynb",
   "parameters": {},
   "start_time": "2020-12-15T23:30:32.180496",
   "version": "2.1.0"
  }
 },
 "nbformat": 4,
 "nbformat_minor": 4
}
