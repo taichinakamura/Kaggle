{
 "cells": [
  {
   "cell_type": "markdown",
   "metadata": {
    "papermill": {
     "duration": 0.042306,
     "end_time": "2020-12-29T04:22:17.254843",
     "exception": false,
     "start_time": "2020-12-29T04:22:17.212537",
     "status": "completed"
    },
    "tags": []
   },
   "source": [
    "- return to original cv\n",
    "- add bundle_id from ver 78\n",
    "- early stopping to 10"
   ]
  },
  {
   "cell_type": "code",
   "execution_count": 1,
   "metadata": {
    "_cell_guid": "b1076dfc-b9ad-4769-8c92-a6c4dae69d19",
    "_uuid": "8f2839f25d086af736a60e9eeb907d3b93b6e0e5",
    "execution": {
     "iopub.execute_input": "2020-12-29T04:22:17.345427Z",
     "iopub.status.busy": "2020-12-29T04:22:17.344792Z",
     "iopub.status.idle": "2020-12-29T04:22:49.423395Z",
     "shell.execute_reply": "2020-12-29T04:22:49.422590Z"
    },
    "papermill": {
     "duration": 32.126767,
     "end_time": "2020-12-29T04:22:49.423533",
     "exception": false,
     "start_time": "2020-12-29T04:22:17.296766",
     "status": "completed"
    },
    "tags": []
   },
   "outputs": [],
   "source": [
    "!pip install ../input/python-datatable/datatable-0.11.0-cp37-cp37m-manylinux2010_x86_64.whl > /dev/null 2>&1"
   ]
  },
  {
   "cell_type": "code",
   "execution_count": 2,
   "metadata": {
    "_cell_guid": "79c7e3d0-c299-4dcb-8224-4455121ee9b0",
    "_uuid": "d629ff2d2480ee46fbb7e2d37f6b5fab8052498a",
    "execution": {
     "iopub.execute_input": "2020-12-29T04:22:49.513274Z",
     "iopub.status.busy": "2020-12-29T04:22:49.512183Z",
     "iopub.status.idle": "2020-12-29T04:22:51.634220Z",
     "shell.execute_reply": "2020-12-29T04:22:51.634894Z"
    },
    "papermill": {
     "duration": 2.171875,
     "end_time": "2020-12-29T04:22:51.635149",
     "exception": false,
     "start_time": "2020-12-29T04:22:49.463274",
     "status": "completed"
    },
    "tags": []
   },
   "outputs": [
    {
     "data": {
      "text/html": [
       "<style type='text/css'>\n",
       ".datatable table.frame { margin-bottom: 0; }\n",
       ".datatable table.frame thead { border-bottom: none; }\n",
       ".datatable table.frame tr.coltypes td {  color: #FFFFFF;  line-height: 6px;  padding: 0 0.5em;}\n",
       ".datatable .bool    { background: #DDDD99; }\n",
       ".datatable .object  { background: #565656; }\n",
       ".datatable .int     { background: #5D9E5D; }\n",
       ".datatable .float   { background: #4040CC; }\n",
       ".datatable .str     { background: #CC4040; }\n",
       ".datatable .row_index {  background: var(--jp-border-color3);  border-right: 1px solid var(--jp-border-color0);  color: var(--jp-ui-font-color3);  font-size: 9px;}\n",
       ".datatable .frame tr.coltypes .row_index {  background: var(--jp-border-color0);}\n",
       ".datatable th:nth-child(2) { padding-left: 12px; }\n",
       ".datatable .hellipsis {  color: var(--jp-cell-editor-border-color);}\n",
       ".datatable .vellipsis {  background: var(--jp-layout-color0);  color: var(--jp-cell-editor-border-color);}\n",
       ".datatable .na {  color: var(--jp-cell-editor-border-color);  font-size: 80%;}\n",
       ".datatable .footer { font-size: 9px; }\n",
       ".datatable .frame_dimensions {  background: var(--jp-border-color3);  border-top: 1px solid var(--jp-border-color0);  color: var(--jp-ui-font-color3);  display: inline-block;  opacity: 0.6;  padding: 1px 10px 1px 5px;}\n",
       ".datatable .frame thead tr.colnames {  background-image: url('data:image/png;base64,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');  background-repeat: repeat-x;  background-size: 14px;  height: 28px;}\n",
       "</style>\n"
      ],
      "text/plain": [
       "<IPython.core.display.HTML object>"
      ]
     },
     "metadata": {},
     "output_type": "display_data"
    }
   ],
   "source": [
    "import gc\n",
    "import random\n",
    "import pickle\n",
    "import numpy as np\n",
    "import pandas as pd\n",
    "from numba import jit\n",
    "import riiideducation\n",
    "import datatable as dt\n",
    "import lightgbm as lgb\n",
    "from bitarray import bitarray\n",
    "from functools import partial\n",
    "from collections import defaultdict\n",
    "\n",
    "_ = np.seterr(divide='ignore', invalid='ignore')\n",
    "pd.set_option(\"max_rows\", 100)\n",
    "pd.set_option(\"max_columns\", 100)\n",
    "\n",
    "random.seed(1)"
   ]
  },
  {
   "cell_type": "code",
   "execution_count": 3,
   "metadata": {
    "execution": {
     "iopub.execute_input": "2020-12-29T04:22:51.733918Z",
     "iopub.status.busy": "2020-12-29T04:22:51.733115Z",
     "iopub.status.idle": "2020-12-29T04:22:51.738838Z",
     "shell.execute_reply": "2020-12-29T04:22:51.739512Z"
    },
    "papermill": {
     "duration": 0.062668,
     "end_time": "2020-12-29T04:22:51.739672",
     "exception": false,
     "start_time": "2020-12-29T04:22:51.677004",
     "status": "completed"
    },
    "tags": []
   },
   "outputs": [],
   "source": [
    "def make_bitarray():\n",
    "    a = bitarray(32737, endian='little')\n",
    "    a.setall(True)   \n",
    "    return a\n",
    "\n",
    "def clear_mem():\n",
    "    %reset -f out\n",
    "    %reset -f in\n",
    "    gc.collect()"
   ]
  },
  {
   "cell_type": "code",
   "execution_count": 4,
   "metadata": {
    "execution": {
     "iopub.execute_input": "2020-12-29T04:22:51.828279Z",
     "iopub.status.busy": "2020-12-29T04:22:51.827439Z",
     "iopub.status.idle": "2020-12-29T04:22:51.831390Z",
     "shell.execute_reply": "2020-12-29T04:22:51.830815Z"
    },
    "papermill": {
     "duration": 0.050731,
     "end_time": "2020-12-29T04:22:51.831500",
     "exception": false,
     "start_time": "2020-12-29T04:22:51.780769",
     "status": "completed"
    },
    "tags": []
   },
   "outputs": [],
   "source": [
    "FULL_TRAIN = False\n",
    "CV_SCHEME = \"original\" #\"time\""
   ]
  },
  {
   "cell_type": "markdown",
   "metadata": {
    "papermill": {
     "duration": 0.029631,
     "end_time": "2020-12-29T04:22:51.891197",
     "exception": false,
     "start_time": "2020-12-29T04:22:51.861566",
     "status": "completed"
    },
    "tags": []
   },
   "source": [
    "# Preprocess"
   ]
  },
  {
   "cell_type": "code",
   "execution_count": 5,
   "metadata": {
    "execution": {
     "iopub.execute_input": "2020-12-29T04:22:51.957833Z",
     "iopub.status.busy": "2020-12-29T04:22:51.957008Z",
     "iopub.status.idle": "2020-12-29T04:22:51.959843Z",
     "shell.execute_reply": "2020-12-29T04:22:51.959193Z"
    },
    "papermill": {
     "duration": 0.039193,
     "end_time": "2020-12-29T04:22:51.959949",
     "exception": false,
     "start_time": "2020-12-29T04:22:51.920756",
     "status": "completed"
    },
    "tags": []
   },
   "outputs": [],
   "source": [
    "data_types_dict = {\n",
    "    'timestamp': 'int64',\n",
    "    'user_id': 'int32', \n",
    "    'content_id': 'int16', \n",
    "    'answered_correctly': 'int8', \n",
    "    'prior_question_elapsed_time': 'float32', \n",
    "    'prior_question_had_explanation': 'bool',\n",
    "}\n",
    "target = 'answered_correctly'"
   ]
  },
  {
   "cell_type": "code",
   "execution_count": 6,
   "metadata": {
    "execution": {
     "iopub.execute_input": "2020-12-29T04:22:52.027480Z",
     "iopub.status.busy": "2020-12-29T04:22:52.026633Z",
     "iopub.status.idle": "2020-12-29T04:24:27.407007Z",
     "shell.execute_reply": "2020-12-29T04:24:27.406165Z"
    },
    "papermill": {
     "duration": 95.418058,
     "end_time": "2020-12-29T04:24:27.407172",
     "exception": false,
     "start_time": "2020-12-29T04:22:51.989114",
     "status": "completed"
    },
    "tags": []
   },
   "outputs": [],
   "source": [
    "train_df = dt.fread('../input/riiid-test-answer-prediction/train.csv', columns=set(data_types_dict.keys())).to_pandas()"
   ]
  },
  {
   "cell_type": "code",
   "execution_count": 7,
   "metadata": {
    "execution": {
     "iopub.execute_input": "2020-12-29T04:24:27.507611Z",
     "iopub.status.busy": "2020-12-29T04:24:27.501826Z",
     "iopub.status.idle": "2020-12-29T04:25:23.207112Z",
     "shell.execute_reply": "2020-12-29T04:25:23.206365Z"
    },
    "papermill": {
     "duration": 55.756864,
     "end_time": "2020-12-29T04:25:23.207261",
     "exception": false,
     "start_time": "2020-12-29T04:24:27.450397",
     "status": "completed"
    },
    "tags": []
   },
   "outputs": [],
   "source": [
    "@jit\n",
    "def time_from_lec(A, T):\n",
    "    ans = np.zeros(len(T))\n",
    "    prev = 0\n",
    "    flg = False\n",
    "    for i in range(len(A)):\n",
    "        if A[i] == -1:\n",
    "            flg = True\n",
    "            prev = T[i]\n",
    "            \n",
    "        if flg:\n",
    "            ans[i] = T[i]-prev\n",
    "        else:\n",
    "            ans[i] = -1\n",
    "            \n",
    "    return ans\n",
    "\n",
    "time_from_lec_array = train_df.groupby(\"user_id\").apply(lambda x: time_from_lec(x[\"answered_correctly\"].values, x[\"timestamp\"].values))\n",
    "time_from_lec_array = np.hstack(time_from_lec_array)\n",
    "train_df[\"time_from_lec\"] = time_from_lec_array\n",
    "del time_from_lec_array\n",
    "\n",
    "user_last_lec_time_dict = train_df[train_df[target] == -1].groupby(\"user_id\").tail(1)[\"timestamp\"].to_dict(defaultdict(lambda: -1))"
   ]
  },
  {
   "cell_type": "code",
   "execution_count": 8,
   "metadata": {
    "execution": {
     "iopub.execute_input": "2020-12-29T04:25:23.302848Z",
     "iopub.status.busy": "2020-12-29T04:25:23.301925Z",
     "iopub.status.idle": "2020-12-29T04:25:53.914944Z",
     "shell.execute_reply": "2020-12-29T04:25:53.915626Z"
    },
    "papermill": {
     "duration": 30.665216,
     "end_time": "2020-12-29T04:25:53.915814",
     "exception": false,
     "start_time": "2020-12-29T04:25:23.250598",
     "status": "completed"
    },
    "tags": []
   },
   "outputs": [],
   "source": [
    "train_df = train_df[train_df[target] != -1].reset_index(drop=True)\n",
    "\n",
    "time_from_lec_array = train_df[\"time_from_lec\"].values\n",
    "del train_df[\"time_from_lec\"]\n",
    "\n",
    "train_df['prior_question_had_explanation'] = train_df['prior_question_had_explanation'].fillna(False).astype('int8')\n",
    "train_df['prior_question_elapsed_time'].fillna(0, inplace=True)\n",
    "\n",
    "train_df = train_df.astype(data_types_dict)"
   ]
  },
  {
   "cell_type": "code",
   "execution_count": 9,
   "metadata": {
    "execution": {
     "iopub.execute_input": "2020-12-29T04:25:54.017035Z",
     "iopub.status.busy": "2020-12-29T04:25:54.009521Z",
     "iopub.status.idle": "2020-12-29T04:26:03.370175Z",
     "shell.execute_reply": "2020-12-29T04:26:03.368186Z"
    },
    "papermill": {
     "duration": 9.41202,
     "end_time": "2020-12-29T04:26:03.370327",
     "exception": false,
     "start_time": "2020-12-29T04:25:53.958307",
     "status": "completed"
    },
    "tags": []
   },
   "outputs": [],
   "source": [
    "if CV_SCHEME==\"time\":\n",
    "    max_timestamp_u = train_df[['user_id','timestamp']].groupby(['user_id']).agg(['max']).reset_index()\n",
    "    max_timestamp_u.columns = ['user_id', 'max_time_stamp']\n",
    "    MAX_TIME_STAMP = max_timestamp_u.max_time_stamp.max()\n",
    "\n",
    "    def rand_time(max_time_stamp):\n",
    "        interval = MAX_TIME_STAMP - max_time_stamp\n",
    "        rand_time_stamp = random.randint(0,interval)\n",
    "        return rand_time_stamp\n",
    "\n",
    "    max_timestamp_u['rand_time_stamp'] = max_timestamp_u.max_time_stamp.apply(rand_time)\n",
    "    train_df = train_df.merge(max_timestamp_u, on='user_id', how='left')\n",
    "    train_df['viretual_time_stamp'] = train_df.timestamp + train_df['rand_time_stamp']\n",
    "\n",
    "    del train_df['max_time_stamp']\n",
    "    del train_df['rand_time_stamp']\n",
    "    del max_timestamp_u\n",
    "\n",
    "    train_index = list(train_df['viretual_time_stamp'].nlargest(10000000).index)\n",
    "\n",
    "else:\n",
    "    if FULL_TRAIN:\n",
    "        train_size = 200\n",
    "    else:\n",
    "        train_size = 24\n",
    "        valid_size = 6\n",
    "    \n",
    "    train_index = list(train_df.groupby('user_id').tail(train_size).index)"
   ]
  },
  {
   "cell_type": "code",
   "execution_count": 10,
   "metadata": {
    "execution": {
     "iopub.execute_input": "2020-12-29T04:26:05.183619Z",
     "iopub.status.busy": "2020-12-29T04:26:05.182717Z",
     "iopub.status.idle": "2020-12-29T04:26:05.289208Z",
     "shell.execute_reply": "2020-12-29T04:26:05.288411Z"
    },
    "papermill": {
     "duration": 1.883729,
     "end_time": "2020-12-29T04:26:05.289357",
     "exception": false,
     "start_time": "2020-12-29T04:26:03.405628",
     "status": "completed"
    },
    "tags": []
   },
   "outputs": [],
   "source": [
    "time_from_lec_array = time_from_lec_array[train_index]"
   ]
  },
  {
   "cell_type": "code",
   "execution_count": 11,
   "metadata": {
    "execution": {
     "iopub.execute_input": "2020-12-29T04:26:05.388562Z",
     "iopub.status.busy": "2020-12-29T04:26:05.387692Z",
     "iopub.status.idle": "2020-12-29T04:26:49.601035Z",
     "shell.execute_reply": "2020-12-29T04:26:49.600259Z"
    },
    "papermill": {
     "duration": 44.269459,
     "end_time": "2020-12-29T04:26:49.601196",
     "exception": false,
     "start_time": "2020-12-29T04:26:05.331737",
     "status": "completed"
    },
    "tags": []
   },
   "outputs": [],
   "source": [
    "@jit\n",
    "def count_by_bundle(T):\n",
    "    ans = np.zeros(len(T))\n",
    "    prev_time = -1\n",
    "    count = 0\n",
    "    for i in range(len(T)):\n",
    "        if i == 0:\n",
    "            ans[i] = 0\n",
    "        elif prev_time == T[i]:\n",
    "            ans[i] = ans[i-1]\n",
    "        else:\n",
    "            ans[i] = count          \n",
    "        prev_time = T[i]\n",
    "        count += 1\n",
    "    return ans\n",
    "\n",
    "count_array = train_df.groupby(\"user_id\").apply(lambda x: count_by_bundle(x[\"timestamp\"].values))\n",
    "count_array = np.hstack(count_array)\n",
    "count_array = count_array[train_index]\n",
    "count_zero_index = count_array == 0"
   ]
  },
  {
   "cell_type": "code",
   "execution_count": 12,
   "metadata": {
    "execution": {
     "iopub.execute_input": "2020-12-29T04:26:49.701956Z",
     "iopub.status.busy": "2020-12-29T04:26:49.691672Z",
     "iopub.status.idle": "2020-12-29T04:33:18.853815Z",
     "shell.execute_reply": "2020-12-29T04:33:18.854650Z"
    },
    "papermill": {
     "duration": 389.209945,
     "end_time": "2020-12-29T04:33:18.854998",
     "exception": false,
     "start_time": "2020-12-29T04:26:49.645053",
     "status": "completed"
    },
    "tags": []
   },
   "outputs": [],
   "source": [
    "@jit\n",
    "def timediff_by_bundle(T):\n",
    "    ans = np.zeros(len(T))\n",
    "    prev_time = 0\n",
    "    for i in range(len(T)): \n",
    "        if i == 0:\n",
    "            ans[i] = np.nan\n",
    "        elif prev_time == T[i]:\n",
    "            ans[i] = ans[i-1]\n",
    "        else:\n",
    "            ans[i] = T[i] - prev_time\n",
    "        prev_time = T[i]\n",
    "    return ans\n",
    "\n",
    "timediff_array = train_df.groupby(\"user_id\").apply(lambda x: timediff_by_bundle(x[\"timestamp\"].values))\n",
    "timediff_array = np.hstack(timediff_array)\n",
    "timediff_array = timediff_array[train_index]\n",
    "\n",
    "@jit\n",
    "def timediff2_by_bundle(T):\n",
    "    ans = np.zeros(len(T))\n",
    "    prev_time = [-1, -1]\n",
    "    for i in range(len(T)): \n",
    "        if i == 0 or i == 1:\n",
    "            ans[i] = np.nan     \n",
    "        elif prev_time[1] == T[i]:\n",
    "            ans[i] = ans[i-1]\n",
    "        else:\n",
    "            ans[i] = T[i]-prev_time[0]\n",
    "            \n",
    "        if prev_time[0] == -1:\n",
    "            prev_time[0] = T[i]\n",
    "        elif prev_time[0] != T[i] and prev_time[1] == -1:\n",
    "            prev_time[1] = T[i]\n",
    "        elif T[i] not in prev_time:\n",
    "            prev_time[0] = prev_time[1]\n",
    "            prev_time[1] = T[i]\n",
    "    return ans\n",
    "\n",
    "timediff2_array = train_df.groupby(\"user_id\").apply(lambda x: timediff2_by_bundle(x[\"timestamp\"].values))\n",
    "timediff2_array = np.hstack(timediff2_array)\n",
    "timediff2_array = timediff2_array[train_index]\n",
    "\n",
    "@jit\n",
    "def timediff3_by_bundle(T):\n",
    "    ans = np.zeros(len(T))\n",
    "    prev_time = [-1, -1, -1]\n",
    "    for i in range(len(T)): \n",
    "        if i == 0 or i == 1 or i ==2:\n",
    "            ans[i] = np.nan\n",
    "        elif prev_time[2] == T[i]:\n",
    "            ans[i] = ans[i-1]\n",
    "        else:\n",
    "            ans[i] = T[i]-prev_time[0]\n",
    "            \n",
    "        if prev_time[0] == -1:\n",
    "            prev_time[0] = T[i]\n",
    "        elif prev_time[0] != T[i] and prev_time[1] == -1:\n",
    "            prev_time[1] = T[i]\n",
    "        elif prev_time[1] != T[i] and prev_time[2] == -1:\n",
    "            prev_time[2] = T[i]\n",
    "        elif T[i] not in prev_time:\n",
    "            prev_time[0] = prev_time[1]\n",
    "            prev_time[1] = prev_time[2]\n",
    "            prev_time[2] = T[i]\n",
    "    return ans\n",
    "\n",
    "timediff3_array = train_df.groupby(\"user_id\").apply(lambda x: timediff3_by_bundle(x[\"timestamp\"].values))\n",
    "timediff3_array = np.hstack(timediff3_array)\n",
    "timediff3_array = timediff3_array[train_index]\n",
    "\n",
    "@jit\n",
    "def timediff4_by_bundle(T):\n",
    "    ans = np.zeros(len(T))\n",
    "    prev_time = [-1, -1, -1, -1]\n",
    "    for i in range(len(T)): \n",
    "        if i == 0 or i == 1 or i ==2 or i == 3:\n",
    "            ans[i] = np.nan     \n",
    "        elif prev_time[3] == T[i]:\n",
    "            ans[i] = ans[i-1]\n",
    "        else:\n",
    "            ans[i] = T[i]- prev_time[0]\n",
    "            \n",
    "        if prev_time[0] == -1:\n",
    "            prev_time[0] = T[i]\n",
    "        elif prev_time[0] != T[i] and prev_time[1] == -1:\n",
    "            prev_time[1] = T[i]\n",
    "        elif prev_time[1] != T[i] and prev_time[2] == -1:\n",
    "            prev_time[2] = T[i]\n",
    "        elif prev_time[2] != T[i] and prev_time[3] == -1:\n",
    "            prev_time[3] = T[i]\n",
    "        elif T[i] not in prev_time:\n",
    "            prev_time[0] = prev_time[1]\n",
    "            prev_time[1] = prev_time[2]\n",
    "            prev_time[2] = prev_time[3]\n",
    "            prev_time[3] = T[i]\n",
    "    return ans\n",
    "\n",
    "timediff4_array = train_df.groupby(\"user_id\").apply(lambda x: timediff4_by_bundle(x[\"timestamp\"].values))\n",
    "timediff4_array = np.hstack(timediff4_array)\n",
    "timediff4_array = timediff4_array[train_index]\n",
    "\n",
    "user_timestamp_max_dict = train_df.groupby(\"user_id\")[\"timestamp\"].apply(lambda x: x.drop_duplicates()[-4:].values).to_dict(defaultdict(partial(np.ndarray, 0, dtype=\"int64\")))\n",
    "\n",
    "time_dd_array = timediff2_array - timediff_array\n",
    "timediff_array = np.nan_to_num(timediff_array, nan=-1)\n",
    "timediff2_array = np.nan_to_num(timediff2_array, nan=-1)\n",
    "timediff3_array = np.nan_to_num(timediff3_array, nan=-1)\n",
    "timediff4_array = np.nan_to_num(timediff4_array, nan=-1)\n",
    "time_dd_array = np.nan_to_num(time_dd_array, nan=-1)"
   ]
  },
  {
   "cell_type": "code",
   "execution_count": 13,
   "metadata": {
    "execution": {
     "iopub.execute_input": "2020-12-29T04:33:18.964996Z",
     "iopub.status.busy": "2020-12-29T04:33:18.955162Z",
     "iopub.status.idle": "2020-12-29T04:34:27.938533Z",
     "shell.execute_reply": "2020-12-29T04:34:27.937783Z"
    },
    "papermill": {
     "duration": 69.037121,
     "end_time": "2020-12-29T04:34:27.938677",
     "exception": false,
     "start_time": "2020-12-29T04:33:18.901556",
     "status": "completed"
    },
    "tags": []
   },
   "outputs": [],
   "source": [
    "@jit\n",
    "def elapsed_time_mean_by_bundle(E, T):\n",
    "    ans = np.zeros(len(T))\n",
    "    count = 0\n",
    "    prev_time = -1 \n",
    "    for i in range(len(T)): \n",
    "        if prev_time == T[i]:\n",
    "            ans[i] = ans[i-1]\n",
    "        else:\n",
    "            ans[i] = count\n",
    "        prev_time = T[i]\n",
    "        count = count + E[i]\n",
    "    return ans\n",
    "\n",
    "prior_question_elapsed_time_mean_array = train_df.groupby(\"user_id\").apply(lambda x: \n",
    "                                                                         elapsed_time_mean_by_bundle(x[\"prior_question_elapsed_time\"].values, \n",
    "                                                                                                     x[\"timestamp\"].values))\n",
    "prior_question_elapsed_time_mean_array = np.hstack(prior_question_elapsed_time_mean_array)\n",
    "prior_question_elapsed_time_mean_array = prior_question_elapsed_time_mean_array[train_index]\n",
    "prior_question_elapsed_time_mean_array = prior_question_elapsed_time_mean_array / count_array\n",
    "prior_question_elapsed_time_mean_array[count_zero_index] = -1\n",
    "\n",
    "user_prior_question_elapsed_time_sum_agg = train_df.groupby('user_id')[\"prior_question_elapsed_time\"].agg(['sum'])\n",
    "user_prior_question_elapsed_time_sum_dict = user_prior_question_elapsed_time_sum_agg['sum'].astype('int32').to_dict(defaultdict(int))\n",
    "del user_prior_question_elapsed_time_sum_agg\n",
    "\n",
    "prior_question_elapsed_time_array = train_df.prior_question_elapsed_time.values\n",
    "train_df.drop(\"prior_question_elapsed_time\", axis =1, inplace=True)\n",
    "prior_question_elapsed_time_array = prior_question_elapsed_time_array[train_index]"
   ]
  },
  {
   "cell_type": "code",
   "execution_count": 14,
   "metadata": {
    "execution": {
     "iopub.execute_input": "2020-12-29T04:34:28.048739Z",
     "iopub.status.busy": "2020-12-29T04:34:28.047809Z",
     "iopub.status.idle": "2020-12-29T04:34:46.932760Z",
     "shell.execute_reply": "2020-12-29T04:34:46.933485Z"
    },
    "papermill": {
     "duration": 18.951104,
     "end_time": "2020-12-29T04:34:46.933665",
     "exception": false,
     "start_time": "2020-12-29T04:34:27.982561",
     "status": "completed"
    },
    "tags": []
   },
   "outputs": [],
   "source": [
    "questions_df = pd.read_csv(\n",
    "    '../input/riiid-test-answer-prediction/questions.csv', \n",
    "    usecols=[0, 1, 3], \n",
    "    dtype={'question_id': 'int16', 'bundle_id': 'int16', 'part': 'int8'} \n",
    ")\n",
    "\n",
    "additional_q_df = pd.read_csv('../input/riiid-question-clustering/question_cmnts.csv')\n",
    "questions_df[\"community\"] = additional_q_df[\"community\"].astype('int8')\n",
    "del additional_q_df \n",
    "    \n",
    "train_df = pd.merge(train_df, questions_df, left_on='content_id', right_on='question_id', how='left', right_index=True).reset_index(drop=True)\n",
    "train_df.drop(columns=['question_id'], inplace=True)"
   ]
  },
  {
   "cell_type": "code",
   "execution_count": 15,
   "metadata": {
    "execution": {
     "iopub.execute_input": "2020-12-29T04:34:47.029040Z",
     "iopub.status.busy": "2020-12-29T04:34:47.028184Z",
     "iopub.status.idle": "2020-12-29T04:34:48.772259Z",
     "shell.execute_reply": "2020-12-29T04:34:48.773184Z"
    },
    "papermill": {
     "duration": 1.795638,
     "end_time": "2020-12-29T04:34:48.773398",
     "exception": false,
     "start_time": "2020-12-29T04:34:46.977760",
     "status": "completed"
    },
    "tags": []
   },
   "outputs": [],
   "source": [
    "# bundle_agg = train_df.groupby('bundle_id')[target].agg(['sum', 'count'])\n",
    "# bundle_sum_dict = bundle_agg['sum'].astype('int32').to_dict(defaultdict(int))\n",
    "# bundle_count_dict = bundle_agg['count'].astype('int32').to_dict(defaultdict(int))\n",
    "# del bundle_agg\n",
    "\n",
    "# bundle_correctness_array = train_df['bundle_id'].map(bundle_agg['sum'] / bundle_agg['count']).values\n",
    "# bundle_correctness_array = bundle_correctness_array[train_index]\n",
    "# bundle_count_array = train_df['bundle_id'].map(bundle_agg['count']).astype('int32').values\n",
    "# bundle_count_array = bundle_count_array[train_index]\n",
    "\n",
    "bundle_id_array = train_df[\"bundle_id\"].values\n",
    "del train_df[\"bundle_id\"]\n",
    "bundle_id_array = bundle_id_array[train_index]"
   ]
  },
  {
   "cell_type": "code",
   "execution_count": 16,
   "metadata": {
    "execution": {
     "iopub.execute_input": "2020-12-29T04:34:48.875753Z",
     "iopub.status.busy": "2020-12-29T04:34:48.874868Z",
     "iopub.status.idle": "2020-12-29T04:34:48.917354Z",
     "shell.execute_reply": "2020-12-29T04:34:48.918187Z"
    },
    "papermill": {
     "duration": 0.099818,
     "end_time": "2020-12-29T04:34:48.918405",
     "exception": false,
     "start_time": "2020-12-29T04:34:48.818587",
     "status": "completed"
    },
    "tags": []
   },
   "outputs": [
    {
     "name": "stdout",
     "output_type": "stream",
     "text": [
      "76\n"
     ]
    }
   ],
   "source": [
    "###\n",
    "community_num = len(questions_df.community.unique())\n",
    "print(community_num)\n",
    "\n",
    "@jit\n",
    "def tag_accuracy(A, C):\n",
    "    ans = []\n",
    "    community_count = [0] * community_num\n",
    "    community_correct = [0] * community_num\n",
    "    for i in range(len(C)):\n",
    "        if community_count[C[i]]==0:\n",
    "            ans.append(-1)\n",
    "        else:\n",
    "            ans.append(community_correct[C[i]]/community_count[C[i]])\n",
    "        community_count[C[i]] +=1\n",
    "        community_correct[C[i]] += A[i]\n",
    "    return np.array(ans)\n",
    "\n",
    "@jit\n",
    "def tag_correct_last(A, C):\n",
    "    community_correct = [0] * community_num\n",
    "    for i in range(len(C)):\n",
    "        community_correct[C[i]] += A[i]\n",
    "    return np.array(community_correct)\n",
    "\n",
    "@jit\n",
    "def tag_count_last(A, C):\n",
    "    community_count = [0] * community_num\n",
    "    for i in range(len(C)):\n",
    "        community_count[C[i]] +=1\n",
    "    return np.array(community_count)\n",
    "\n",
    "def init_dict():\n",
    "    ans = [0] * community_num\n",
    "    return np.array(ans)"
   ]
  },
  {
   "cell_type": "code",
   "execution_count": 17,
   "metadata": {
    "execution": {
     "iopub.execute_input": "2020-12-29T04:34:49.018874Z",
     "iopub.status.busy": "2020-12-29T04:34:49.017787Z",
     "iopub.status.idle": "2020-12-29T04:37:50.950860Z",
     "shell.execute_reply": "2020-12-29T04:37:50.951949Z"
    },
    "papermill": {
     "duration": 181.983459,
     "end_time": "2020-12-29T04:37:50.952360",
     "exception": false,
     "start_time": "2020-12-29T04:34:48.968901",
     "status": "completed"
    },
    "tags": []
   },
   "outputs": [],
   "source": [
    "###\n",
    "tag_acc_array = train_df.groupby(\"user_id\").apply(lambda x: tag_accuracy(x[\"answered_correctly\"].values, x[\"community\"].values))\n",
    "tag_acc_array = np.hstack(tag_acc_array)\n",
    "tag_acc_array = tag_acc_array[train_index]\n",
    "\n",
    "user_community_count_dict = train_df.groupby(\"user_id\").apply(lambda x: tag_count_last(x[\"answered_correctly\"].values, x[\"community\"].values)).to_dict(defaultdict(init_dict))\n",
    "user_community_correct_dict = train_df.groupby(\"user_id\").apply(lambda x: tag_correct_last(x[\"answered_correctly\"].values, x[\"community\"].values)).to_dict(defaultdict(init_dict))\n",
    "    \n",
    "#\n",
    "community_agg = train_df.groupby('community')[target].agg(['count'])\n",
    "community_count_dict = community_agg['count'].astype('int32').to_dict(defaultdict(int))\n",
    "community_count_array = train_df['community'].map(community_agg['count']).astype('int32').values\n",
    "del community_agg\n",
    "community_count_array = community_count_array[train_index]\n",
    "    \n",
    "community_array = train_df[\"community\"].values\n",
    "community_array = community_array[train_index]\n",
    "train_df.drop('community', axis=1, inplace=True)"
   ]
  },
  {
   "cell_type": "code",
   "execution_count": 18,
   "metadata": {
    "execution": {
     "iopub.execute_input": "2020-12-29T04:37:51.054173Z",
     "iopub.status.busy": "2020-12-29T04:37:51.052751Z",
     "iopub.status.idle": "2020-12-29T04:38:50.161504Z",
     "shell.execute_reply": "2020-12-29T04:38:50.160663Z"
    },
    "papermill": {
     "duration": 59.160385,
     "end_time": "2020-12-29T04:38:50.161656",
     "exception": false,
     "start_time": "2020-12-29T04:37:51.001271",
     "status": "completed"
    },
    "tags": []
   },
   "outputs": [],
   "source": [
    "@jit\n",
    "def user_correctness_by_bundle(A, T):\n",
    "    ans = np.zeros(len(T))\n",
    "    count = np.zeros(len(T))\n",
    "    correct = np.zeros(len(T))\n",
    "    prev_time = 0\n",
    "    for i in range(len(T)): \n",
    "        if i == 0:\n",
    "            ans[i] = -1\n",
    "        elif prev_time == T[i]:\n",
    "            ans[i] = ans[i-1]\n",
    "        else:\n",
    "            if count[i-1] == 0:\n",
    "                ans[i] = -1\n",
    "            else:\n",
    "                ans[i] = correct[i-1] / count[i-1]\n",
    "        count[i] = count[i-1] + 1\n",
    "        correct[i] = correct[i-1] + A[i]\n",
    "        prev_time = T[i]\n",
    "    return ans\n",
    "\n",
    "user_correctness_array = train_df.groupby(\"user_id\").apply(lambda x: user_correctness_by_bundle(x[\"answered_correctly\"].values,\n",
    "                                                                                                x[\"timestamp\"].values))\n",
    "user_correctness_array = np.hstack(user_correctness_array)\n",
    "user_correctness_array = user_correctness_array[train_index]"
   ]
  },
  {
   "cell_type": "code",
   "execution_count": 19,
   "metadata": {
    "execution": {
     "iopub.execute_input": "2020-12-29T04:38:50.279629Z",
     "iopub.status.busy": "2020-12-29T04:38:50.267556Z",
     "iopub.status.idle": "2020-12-29T04:40:29.132425Z",
     "shell.execute_reply": "2020-12-29T04:40:29.133690Z"
    },
    "papermill": {
     "duration": 98.923013,
     "end_time": "2020-12-29T04:40:29.133931",
     "exception": false,
     "start_time": "2020-12-29T04:38:50.210918",
     "status": "completed"
    },
    "tags": []
   },
   "outputs": [],
   "source": [
    "@jit\n",
    "def part_count_by_bundle(P, T):\n",
    "    ans = np.zeros(len(T))\n",
    "    part_count = [0] * 8\n",
    "    prev_time = -1\n",
    "    for i in range(len(T)):\n",
    "        if i == 0:\n",
    "            ans[i] = 0\n",
    "        elif prev_time == T[i]:\n",
    "            ans[i] = ans[i-1]\n",
    "        else:\n",
    "            ans[i] = part_count[P[i]]            \n",
    "        prev_time = T[i]\n",
    "        part_count[P[i]] += 1\n",
    "    return ans \n",
    "\n",
    "@jit\n",
    "def part_count_dict_calc(P):\n",
    "    part_count = [0] * 8\n",
    "    for i in range(len(P)):\n",
    "        part_count[P[i]] += 1\n",
    "    return np.array(part_count)\n",
    "\n",
    "def part_dict_init():\n",
    "    ans = [0] * 8\n",
    "    return np.array(ans)\n",
    "\n",
    "part_count_array = train_df.groupby(\"user_id\").apply(lambda x: part_count_by_bundle(x[\"part\"].values,\n",
    "                                                                                    x[\"timestamp\"].values))\n",
    "part_count_array = np.hstack(part_count_array)\n",
    "part_count_array = part_count_array[train_index]\n",
    "part_ratio_array = part_count_array / count_array\n",
    "part_ratio_array[count_zero_index] = -1\n",
    "\n",
    "user_part_count_dict = train_df.groupby(\"user_id\").apply(lambda x: part_count_dict_calc(x[\"part\"].values)).to_dict(defaultdict(part_dict_init))\n",
    "\n",
    "part_array = train_df.part.values\n",
    "train_df.drop(\"part\", axis=1, inplace=True)\n",
    "part_array = part_array[train_index]"
   ]
  },
  {
   "cell_type": "code",
   "execution_count": 20,
   "metadata": {
    "execution": {
     "iopub.execute_input": "2020-12-29T04:40:29.242678Z",
     "iopub.status.busy": "2020-12-29T04:40:29.241747Z",
     "iopub.status.idle": "2020-12-29T04:41:35.485445Z",
     "shell.execute_reply": "2020-12-29T04:41:35.484661Z"
    },
    "papermill": {
     "duration": 66.293739,
     "end_time": "2020-12-29T04:41:35.485596",
     "exception": false,
     "start_time": "2020-12-29T04:40:29.191857",
     "status": "completed"
    },
    "tags": []
   },
   "outputs": [],
   "source": [
    "@jit\n",
    "def had_explanation_mean_by_bundle(E, T):\n",
    "    ans = np.zeros(len(T))\n",
    "    count = 0\n",
    "    prev_time = -1 \n",
    "    for i in range(len(T)): \n",
    "        if prev_time == T[i]:\n",
    "            ans[i] = ans[i-1]\n",
    "        else:\n",
    "            ans[i] = count\n",
    "        prev_time = T[i]\n",
    "        count = count + E[i]\n",
    "    return ans\n",
    "\n",
    "prior_question_had_explanation_mean_array = train_df.groupby(\"user_id\").apply(lambda x: \n",
    "                                                                         had_explanation_mean_by_bundle(x[\"prior_question_had_explanation\"].values, \n",
    "                                                                                                        x[\"timestamp\"].values))\n",
    "prior_question_had_explanation_mean_array = np.hstack(prior_question_had_explanation_mean_array)\n",
    "prior_question_had_explanation_mean_array = prior_question_had_explanation_mean_array[train_index]\n",
    "prior_question_had_explanation_mean_array = prior_question_had_explanation_mean_array / count_array\n",
    "prior_question_had_explanation_mean_array[count_zero_index] = -1\n",
    "\n",
    "user_prior_question_had_explanation_sum_agg = train_df.groupby('user_id')[\"prior_question_had_explanation\"].agg(['sum'])\n",
    "user_prior_question_had_explanation_sum_dict = user_prior_question_had_explanation_sum_agg['sum'].astype('int32').to_dict(defaultdict(int))\n",
    "del user_prior_question_had_explanation_sum_agg\n",
    "\n",
    "prior_question_had_explanation_array = train_df.prior_question_had_explanation.values\n",
    "train_df.drop('prior_question_had_explanation', axis=1, inplace=True)\n",
    "prior_question_had_explanation_array = prior_question_had_explanation_array[train_index]"
   ]
  },
  {
   "cell_type": "code",
   "execution_count": 21,
   "metadata": {
    "execution": {
     "iopub.execute_input": "2020-12-29T04:41:35.587206Z",
     "iopub.status.busy": "2020-12-29T04:41:35.586325Z",
     "iopub.status.idle": "2020-12-29T04:42:13.655563Z",
     "shell.execute_reply": "2020-12-29T04:42:13.656404Z"
    },
    "papermill": {
     "duration": 38.125007,
     "end_time": "2020-12-29T04:42:13.656582",
     "exception": false,
     "start_time": "2020-12-29T04:41:35.531575",
     "status": "completed"
    },
    "tags": []
   },
   "outputs": [
    {
     "name": "stdout",
     "output_type": "stream",
     "text": [
      "Flushing output cache (0 entries)\n",
      "Flushing input history\n"
     ]
    }
   ],
   "source": [
    "first_attempt_df = pd.read_csv(\"../input/riiidpremadedatabundle/content_first_attempt.csv\")\n",
    "first_attempt_array = first_attempt_df.first_attempt.values\n",
    "train_df[\"first_attempt\"] = first_attempt_array\n",
    "\n",
    "unique_attempt_array= train_df.groupby(\"user_id\")[\"first_attempt\"].cumsum().values\n",
    "train_df[\"unique_attempt\"] = unique_attempt_array\n",
    "user_unique_agg = train_df.groupby('user_id')[\"unique_attempt\"].agg(['max'])\n",
    "user_unique_dict = user_unique_agg['max'].astype('int32').to_dict(defaultdict(int))\n",
    "\n",
    "first_attempt_array = first_attempt_array[train_index]\n",
    "unique_attempt_array = unique_attempt_array[train_index]\n",
    "train_df.drop(['first_attempt', 'unique_attempt'], axis=1, inplace=True)\n",
    "del first_attempt_df, user_unique_agg\n",
    "\n",
    "clear_mem()"
   ]
  },
  {
   "cell_type": "code",
   "execution_count": 22,
   "metadata": {
    "execution": {
     "iopub.execute_input": "2020-12-29T04:42:13.763437Z",
     "iopub.status.busy": "2020-12-29T04:42:13.762349Z",
     "iopub.status.idle": "2020-12-29T04:43:02.520468Z",
     "shell.execute_reply": "2020-12-29T04:43:02.519515Z"
    },
    "papermill": {
     "duration": 48.818371,
     "end_time": "2020-12-29T04:43:02.520635",
     "exception": false,
     "start_time": "2020-12-29T04:42:13.702264",
     "status": "completed"
    },
    "tags": []
   },
   "outputs": [
    {
     "name": "stdout",
     "output_type": "stream",
     "text": [
      "Flushing output cache (0 entries)\n",
      "Flushing input history\n",
      "Flushing output cache (0 entries)\n",
      "Flushing input history\n",
      "0.0\n"
     ]
    }
   ],
   "source": [
    "user_agg = train_df.groupby('user_id')[target].agg(['sum', 'count'])\n",
    "user_sum_dict = user_agg['sum'].astype('int16').to_dict(defaultdict(int))\n",
    "del user_agg['sum']\n",
    "user_count_dict = user_agg['count'].astype('int16').to_dict(defaultdict(int))\n",
    "del user_agg['count']\n",
    "clear_mem()\n",
    "\n",
    "#\n",
    "content_agg = train_df.groupby('content_id')[target].agg(['sum', 'count'])\n",
    "content_sum_dict = content_agg['sum'].astype('int32').to_dict(defaultdict(int))\n",
    "content_count_dict = content_agg['count'].astype('int32').to_dict(defaultdict(int))\n",
    "\n",
    "content_count_array = train_df['content_id'].map(content_agg['count']).astype('int32').values\n",
    "content_id_array = train_df['content_id'].map(content_agg['sum'] / content_agg['count']).values\n",
    "del content_agg\n",
    "clear_mem()\n",
    "print(min(content_id_array))"
   ]
  },
  {
   "cell_type": "code",
   "execution_count": 23,
   "metadata": {
    "execution": {
     "iopub.execute_input": "2020-12-29T04:43:02.640784Z",
     "iopub.status.busy": "2020-12-29T04:43:02.639611Z",
     "iopub.status.idle": "2020-12-29T04:43:19.976925Z",
     "shell.execute_reply": "2020-12-29T04:43:19.976047Z"
    },
    "papermill": {
     "duration": 17.407051,
     "end_time": "2020-12-29T04:43:19.977065",
     "exception": false,
     "start_time": "2020-12-29T04:43:02.570014",
     "status": "completed"
    },
    "tags": []
   },
   "outputs": [],
   "source": [
    "with open('../input/riiidpremadedatabundle/got_point_array.pickle', 'rb') as f:\n",
    "    got_point_array = pickle.load(f)\n",
    "got_point_array = got_point_array[train_index]\n",
    "got_point_array = got_point_array / count_array\n",
    "got_point_array[count_zero_index] = -1\n",
    "    \n",
    "with open('../input/riiidpremadedatabundle/user_point_sum_dict.pickle', 'rb') as f: \n",
    "    user_point_sum_dict = pickle.load(f)\n",
    "\n",
    "content_id_array = content_id_array[train_index]\n",
    "content_count_array = content_count_array[train_index]"
   ]
  },
  {
   "cell_type": "code",
   "execution_count": 24,
   "metadata": {
    "execution": {
     "iopub.execute_input": "2020-12-29T04:43:21.222138Z",
     "iopub.status.busy": "2020-12-29T04:43:20.926769Z",
     "iopub.status.idle": "2020-12-29T04:43:40.053592Z",
     "shell.execute_reply": "2020-12-29T04:43:40.054292Z"
    },
    "papermill": {
     "duration": 20.02751,
     "end_time": "2020-12-29T04:43:40.054480",
     "exception": false,
     "start_time": "2020-12-29T04:43:20.026970",
     "status": "completed"
    },
    "tags": []
   },
   "outputs": [],
   "source": [
    "train_df.drop([\"content_id\"], axis=1, inplace=True)\n",
    "\n",
    "with open('../input/riiidpremadedatabundle/user_content_dict.pickle', 'rb') as f: \n",
    "    user_content_dict = pickle.load(f)"
   ]
  },
  {
   "cell_type": "code",
   "execution_count": 25,
   "metadata": {
    "execution": {
     "iopub.execute_input": "2020-12-29T04:43:40.203733Z",
     "iopub.status.busy": "2020-12-29T04:43:40.180994Z",
     "iopub.status.idle": "2020-12-29T04:43:54.149748Z",
     "shell.execute_reply": "2020-12-29T04:43:54.148907Z"
    },
    "papermill": {
     "duration": 14.046167,
     "end_time": "2020-12-29T04:43:54.149892",
     "exception": false,
     "start_time": "2020-12-29T04:43:40.103725",
     "status": "completed"
    },
    "tags": []
   },
   "outputs": [],
   "source": [
    "def init_last7():\n",
    "    ans = [-1] * 7\n",
    "    return np.array(ans)\n",
    "\n",
    "with open('../input/riiidpremadedatabundle/answered_correctly_last7_array.pickle','rb') as f:\n",
    "    answered_correctly_last7_array = pickle.load(f)\n",
    "answered_correctly_last7_array = answered_correctly_last7_array[train_index]\n",
    "    \n",
    "with open('../input/riiidpremadedatabundle/user_last_count7_dict.pickle','rb') as f:\n",
    "    user_last_count7_dict = pickle.load(f)\n",
    "\n",
    "with open('../input/riiidpremadedatabundle/user_last_correct7_dict.pickle','rb') as f:\n",
    "    user_last_correct7_dict = pickle.load(f)"
   ]
  },
  {
   "cell_type": "code",
   "execution_count": 26,
   "metadata": {
    "execution": {
     "iopub.execute_input": "2020-12-29T04:43:54.259411Z",
     "iopub.status.busy": "2020-12-29T04:43:54.258565Z",
     "iopub.status.idle": "2020-12-29T04:44:16.207415Z",
     "shell.execute_reply": "2020-12-29T04:44:16.206596Z"
    },
    "papermill": {
     "duration": 22.008035,
     "end_time": "2020-12-29T04:44:16.207670",
     "exception": false,
     "start_time": "2020-12-29T04:43:54.199635",
     "status": "completed"
    },
    "tags": []
   },
   "outputs": [],
   "source": [
    "with open('../input/riiidpremadedatabundle/continuous_correct_array.pickle','rb') as f:\n",
    "    continuous_correct_array = pickle.load(f)\n",
    "continuous_correct_array=continuous_correct_array[train_index]\n",
    "    \n",
    "with open('../input/riiidpremadedatabundle/continuous_correct_dict.pickle','rb') as f:\n",
    "    continuous_correct_dict = pickle.load(f)\n",
    "    \n",
    "with open('../input/riiidpremadedatabundle/continuous_incorrect_array.pickle','rb') as f:\n",
    "    continuous_incorrect_array = pickle.load(f)\n",
    "continuous_incorrect_array=continuous_incorrect_array[train_index]\n",
    "    \n",
    "with open('../input/riiidpremadedatabundle/continuous_incorrect_dict.pickle','rb') as f:\n",
    "    continuous_incorrect_dict = pickle.load(f)"
   ]
  },
  {
   "cell_type": "code",
   "execution_count": 27,
   "metadata": {
    "execution": {
     "iopub.execute_input": "2020-12-29T04:44:17.768294Z",
     "iopub.status.busy": "2020-12-29T04:44:17.141170Z",
     "iopub.status.idle": "2020-12-29T04:44:19.451487Z",
     "shell.execute_reply": "2020-12-29T04:44:19.452218Z"
    },
    "papermill": {
     "duration": 3.193098,
     "end_time": "2020-12-29T04:44:19.452437",
     "exception": false,
     "start_time": "2020-12-29T04:44:16.259339",
     "status": "completed"
    },
    "tags": []
   },
   "outputs": [],
   "source": [
    "answered_correctly_array = train_df[target].values\n",
    "train_df.drop(target, axis=1, inplace=True)\n",
    "answered_correctly_array = answered_correctly_array[train_index]"
   ]
  },
  {
   "cell_type": "markdown",
   "metadata": {
    "papermill": {
     "duration": 0.050881,
     "end_time": "2020-12-29T04:44:19.555111",
     "exception": false,
     "start_time": "2020-12-29T04:44:19.504230",
     "status": "completed"
    },
    "tags": []
   },
   "source": [
    "# data formation"
   ]
  },
  {
   "cell_type": "code",
   "execution_count": 28,
   "metadata": {
    "execution": {
     "iopub.execute_input": "2020-12-29T04:44:19.727575Z",
     "iopub.status.busy": "2020-12-29T04:44:19.674327Z",
     "iopub.status.idle": "2020-12-29T04:44:36.535049Z",
     "shell.execute_reply": "2020-12-29T04:44:36.533853Z"
    },
    "papermill": {
     "duration": 16.928418,
     "end_time": "2020-12-29T04:44:36.535216",
     "exception": false,
     "start_time": "2020-12-29T04:44:19.606798",
     "status": "completed"
    },
    "tags": []
   },
   "outputs": [],
   "source": [
    "if not FULL_TRAIN:\n",
    "    train_df = train_df[train_df.index.isin(train_index)].reset_index(drop=True)\n",
    "    if CV_SCHEME == \"original\":\n",
    "        valid_index = list(train_df.groupby('user_id').tail(valid_size).index)\n",
    "    else:\n",
    "        valid_index = list(train_df['viretual_time_stamp'].nlargest(2500000).index)\n",
    "    train_index = list(train_df[~train_df.index.isin(valid_index)].index)\n",
    "del train_df"
   ]
  },
  {
   "cell_type": "code",
   "execution_count": 29,
   "metadata": {
    "execution": {
     "iopub.execute_input": "2020-12-29T04:44:36.650206Z",
     "iopub.status.busy": "2020-12-29T04:44:36.645213Z",
     "iopub.status.idle": "2020-12-29T04:44:36.658278Z",
     "shell.execute_reply": "2020-12-29T04:44:36.657563Z"
    },
    "papermill": {
     "duration": 0.073507,
     "end_time": "2020-12-29T04:44:36.658411",
     "exception": false,
     "start_time": "2020-12-29T04:44:36.584904",
     "status": "completed"
    },
    "tags": []
   },
   "outputs": [
    {
     "name": "stdout",
     "output_type": "stream",
     "text": [
      "27\n"
     ]
    }
   ],
   "source": [
    "features_dict = {\n",
    "    'content_id': content_id_array,\n",
    "    'prior_question_elapsed_time': prior_question_elapsed_time_array,\n",
    "    'prior_question_had_explanation':  prior_question_had_explanation_array,\n",
    "    'user_correctness': user_correctness_array,\n",
    "    'part': part_array,\n",
    "    'content_count': content_count_array,\n",
    "    'count': count_array,\n",
    "    'first_attempt': first_attempt_array,\n",
    "    'unique_attempt': unique_attempt_array,\n",
    "    'part_count': part_count_array,\n",
    "    'part_ratio': part_ratio_array,\n",
    "    'prior_question_had_explanation_mean': prior_question_had_explanation_mean_array,\n",
    "    'got_point': got_point_array,\n",
    "    'answered_correctly_last7': answered_correctly_last7_array,   \n",
    "    'timediff': timediff_array,\n",
    "    'timediff2': timediff2_array,\n",
    "    'timediff3': timediff3_array,\n",
    "    'timediff4': timediff4_array,\n",
    "    'community': community_array,\n",
    "    'tag_acc': tag_acc_array,\n",
    "    'community_count': community_count_array,\n",
    "    'time_dd': time_dd_array,\n",
    "    'continuous_correct': continuous_correct_array,\n",
    "    'continuous_incorrect': continuous_incorrect_array,\n",
    "    'prior_question_elapsed_time_mean': prior_question_elapsed_time_mean_array,\n",
    "    'time_from_lec': time_from_lec_array,\n",
    "    'bundle_id': bundle_id_array,\n",
    "}\n",
    "\n",
    "features = list(features_dict.keys())\n",
    "print(len(features))\n",
    "\n",
    "del content_id_array, prior_question_elapsed_time_array, prior_question_had_explanation_array,\n",
    "del user_correctness_array, part_array,\n",
    "del content_count_array, count_array, first_attempt_array, unique_attempt_array,\n",
    "del part_ratio_array, part_count_array,\n",
    "del prior_question_had_explanation_mean_array, prior_question_elapsed_time_mean_array, got_point_array, \n",
    "del answered_correctly_last7_array, timediff_array, timediff2_array, timediff3_array, timediff4_array,\n",
    "del community_array,\n",
    "del tag_acc_array, community_count_array, time_dd_array, continuous_correct_array, continuous_incorrect_array\n",
    "del time_from_lec_array, bundle_id_array"
   ]
  },
  {
   "cell_type": "code",
   "execution_count": 30,
   "metadata": {
    "execution": {
     "iopub.execute_input": "2020-12-29T04:44:36.768380Z",
     "iopub.status.busy": "2020-12-29T04:44:36.767476Z",
     "iopub.status.idle": "2020-12-29T04:44:36.773721Z",
     "shell.execute_reply": "2020-12-29T04:44:36.772878Z"
    },
    "papermill": {
     "duration": 0.06493,
     "end_time": "2020-12-29T04:44:36.773852",
     "exception": false,
     "start_time": "2020-12-29T04:44:36.708922",
     "status": "completed"
    },
    "tags": []
   },
   "outputs": [
    {
     "name": "stdout",
     "output_type": "stream",
     "text": [
      "(6536675, 28) (2360984, 28)\n"
     ]
    }
   ],
   "source": [
    "if FULL_TRAIN:\n",
    "    print(len(train_index), len(features)+1)\n",
    "else:\n",
    "    print((len(train_index), len(features)+1), (len(valid_index), len(features)+1))"
   ]
  },
  {
   "cell_type": "markdown",
   "metadata": {
    "papermill": {
     "duration": 0.051383,
     "end_time": "2020-12-29T04:44:36.877287",
     "exception": false,
     "start_time": "2020-12-29T04:44:36.825904",
     "status": "completed"
    },
    "tags": []
   },
   "source": [
    "# Train"
   ]
  },
  {
   "cell_type": "code",
   "execution_count": 31,
   "metadata": {
    "execution": {
     "iopub.execute_input": "2020-12-29T04:44:36.988582Z",
     "iopub.status.busy": "2020-12-29T04:44:36.987550Z",
     "iopub.status.idle": "2020-12-29T04:44:36.992903Z",
     "shell.execute_reply": "2020-12-29T04:44:36.992099Z"
    },
    "papermill": {
     "duration": 0.06403,
     "end_time": "2020-12-29T04:44:36.993022",
     "exception": false,
     "start_time": "2020-12-29T04:44:36.928992",
     "status": "completed"
    },
    "tags": []
   },
   "outputs": [],
   "source": [
    "params = {\n",
    "    'objective': 'binary',\n",
    "    'seed': 42,\n",
    "    'metric': 'auc',\n",
    "    'learning_rate': 0.05,\n",
    "    'max_bin': 600,\n",
    "    'num_leaves': 80,\n",
    "    #'bagging_fraction': 0.8,\n",
    "    #'bagging_freq': 1,\n",
    "}"
   ]
  },
  {
   "cell_type": "code",
   "execution_count": 32,
   "metadata": {
    "execution": {
     "iopub.execute_input": "2020-12-29T04:44:38.469704Z",
     "iopub.status.busy": "2020-12-29T04:44:37.106316Z",
     "iopub.status.idle": "2020-12-29T04:45:30.413385Z",
     "shell.execute_reply": "2020-12-29T04:45:30.412569Z"
    },
    "papermill": {
     "duration": 53.368861,
     "end_time": "2020-12-29T04:45:30.413556",
     "exception": false,
     "start_time": "2020-12-29T04:44:37.044695",
     "status": "completed"
    },
    "tags": []
   },
   "outputs": [],
   "source": [
    "if FULL_TRAIN:\n",
    "    X_train = np.ndarray(shape=(len(train_index), len(features)), dtype=np.float32)\n",
    "\n",
    "    for idx, feature in enumerate(features):\n",
    "        X_train[:,idx] = features_dict[feature].astype(np.float32).reshape(-1)\n",
    "        del features_dict[feature]\n",
    "    y_train = answered_correctly_array.astype(np.float32)\n",
    "    tr_data = lgb.Dataset(X_train, label=y_train)\n",
    "else:\n",
    "    X_train = np.ndarray(shape=(len(train_index), len(features)), dtype=np.float32)\n",
    "    X_valid = np.ndarray(shape=(len(valid_index), len(features)), dtype=np.float32)\n",
    "\n",
    "    for idx, feature in enumerate(features):\n",
    "        X_train[:,idx] = features_dict[feature][train_index].astype(np.float32).reshape(-1)\n",
    "        X_valid[:,idx] = features_dict[feature][valid_index].astype(np.float32).reshape(-1)\n",
    "        del features_dict[feature]\n",
    "    y_train = answered_correctly_array[train_index].astype(np.float32)\n",
    "    y_valid = answered_correctly_array[valid_index].astype(np.float32)\n",
    "\n",
    "    tr_data = lgb.Dataset(X_train, label=y_train)\n",
    "    va_data = lgb.Dataset(X_valid, label=y_valid)"
   ]
  },
  {
   "cell_type": "code",
   "execution_count": 33,
   "metadata": {
    "execution": {
     "iopub.execute_input": "2020-12-29T04:45:30.530596Z",
     "iopub.status.busy": "2020-12-29T04:45:30.529729Z",
     "iopub.status.idle": "2020-12-29T05:49:46.120579Z",
     "shell.execute_reply": "2020-12-29T05:49:46.122136Z"
    },
    "papermill": {
     "duration": 3855.655262,
     "end_time": "2020-12-29T05:49:46.122434",
     "exception": false,
     "start_time": "2020-12-29T04:45:30.467172",
     "status": "completed"
    },
    "tags": []
   },
   "outputs": [
    {
     "name": "stdout",
     "output_type": "stream",
     "text": [
      "training starts\n",
      "Training until validation scores don't improve for 10 rounds\n",
      "[50]\ttraining's auc: 0.766009\tvalid_1's auc: 0.752416\n",
      "[100]\ttraining's auc: 0.770948\tvalid_1's auc: 0.758493\n",
      "[150]\ttraining's auc: 0.773438\tvalid_1's auc: 0.761061\n",
      "[200]\ttraining's auc: 0.774898\tvalid_1's auc: 0.762351\n",
      "[250]\ttraining's auc: 0.7759\tvalid_1's auc: 0.763157\n",
      "[300]\ttraining's auc: 0.776614\tvalid_1's auc: 0.763648\n",
      "[350]\ttraining's auc: 0.777211\tvalid_1's auc: 0.764022\n",
      "[400]\ttraining's auc: 0.777755\tvalid_1's auc: 0.764318\n",
      "[450]\ttraining's auc: 0.778251\tvalid_1's auc: 0.764557\n",
      "[500]\ttraining's auc: 0.77872\tvalid_1's auc: 0.764782\n",
      "[550]\ttraining's auc: 0.77914\tvalid_1's auc: 0.76497\n",
      "[600]\ttraining's auc: 0.779535\tvalid_1's auc: 0.765125\n",
      "[650]\ttraining's auc: 0.779899\tvalid_1's auc: 0.765261\n",
      "[700]\ttraining's auc: 0.780288\tvalid_1's auc: 0.765426\n",
      "[750]\ttraining's auc: 0.780663\tvalid_1's auc: 0.765579\n",
      "[800]\ttraining's auc: 0.781017\tvalid_1's auc: 0.765676\n",
      "[850]\ttraining's auc: 0.781384\tvalid_1's auc: 0.765822\n",
      "[900]\ttraining's auc: 0.781706\tvalid_1's auc: 0.765921\n",
      "[950]\ttraining's auc: 0.782033\tvalid_1's auc: 0.766035\n",
      "[1000]\ttraining's auc: 0.782328\tvalid_1's auc: 0.766099\n",
      "[1050]\ttraining's auc: 0.782672\tvalid_1's auc: 0.766208\n",
      "[1100]\ttraining's auc: 0.782997\tvalid_1's auc: 0.766297\n",
      "[1150]\ttraining's auc: 0.783296\tvalid_1's auc: 0.766368\n",
      "[1200]\ttraining's auc: 0.783586\tvalid_1's auc: 0.766424\n",
      "[1250]\ttraining's auc: 0.783911\tvalid_1's auc: 0.766518\n",
      "[1300]\ttraining's auc: 0.784245\tvalid_1's auc: 0.766594\n",
      "[1350]\ttraining's auc: 0.784547\tvalid_1's auc: 0.766662\n",
      "[1400]\ttraining's auc: 0.784871\tvalid_1's auc: 0.76675\n",
      "[1450]\ttraining's auc: 0.785175\tvalid_1's auc: 0.766812\n",
      "[1500]\ttraining's auc: 0.785467\tvalid_1's auc: 0.766876\n",
      "[1550]\ttraining's auc: 0.785761\tvalid_1's auc: 0.766931\n",
      "[1600]\ttraining's auc: 0.786048\tvalid_1's auc: 0.766978\n",
      "[1650]\ttraining's auc: 0.786345\tvalid_1's auc: 0.767025\n",
      "[1700]\ttraining's auc: 0.786626\tvalid_1's auc: 0.767079\n",
      "[1750]\ttraining's auc: 0.786884\tvalid_1's auc: 0.767101\n",
      "[1800]\ttraining's auc: 0.787182\tvalid_1's auc: 0.767181\n",
      "Early stopping, best iteration is:\n",
      "[1825]\ttraining's auc: 0.787322\tvalid_1's auc: 0.767201\n"
     ]
    }
   ],
   "source": [
    "print(\"training starts\")\n",
    "if FULL_TRAIN:\n",
    "    model = lgb.train(\n",
    "        params, \n",
    "        tr_data, \n",
    "        num_boost_round=3000,\n",
    "        valid_sets=None, \n",
    "        )\n",
    "    del X_train, y_train\n",
    "else:\n",
    "    model = lgb.train(\n",
    "        params, \n",
    "        tr_data, \n",
    "        num_boost_round= 2500,\n",
    "        valid_sets=[tr_data, va_data], \n",
    "        early_stopping_rounds=10, #in original cv, 5 in time cv\n",
    "        verbose_eval=50\n",
    "        )\n",
    "    del X_train, y_train, X_valid, y_valid"
   ]
  },
  {
   "cell_type": "markdown",
   "metadata": {
    "papermill": {
     "duration": 0.080232,
     "end_time": "2020-12-29T05:49:46.289215",
     "exception": false,
     "start_time": "2020-12-29T05:49:46.208983",
     "status": "completed"
    },
    "tags": []
   },
   "source": [
    "# Inference"
   ]
  },
  {
   "cell_type": "code",
   "execution_count": 34,
   "metadata": {
    "execution": {
     "iopub.execute_input": "2020-12-29T05:49:46.444981Z",
     "iopub.status.busy": "2020-12-29T05:49:46.444116Z",
     "iopub.status.idle": "2020-12-29T05:49:46.448964Z",
     "shell.execute_reply": "2020-12-29T05:49:46.448264Z"
    },
    "papermill": {
     "duration": 0.086717,
     "end_time": "2020-12-29T05:49:46.449133",
     "exception": false,
     "start_time": "2020-12-29T05:49:46.362416",
     "status": "completed"
    },
    "tags": []
   },
   "outputs": [],
   "source": [
    "env = riiideducation.make_env()\n",
    "iter_test = env.iter_test()\n",
    "prior_test_df = None"
   ]
  },
  {
   "cell_type": "code",
   "execution_count": 35,
   "metadata": {
    "execution": {
     "iopub.execute_input": "2020-12-29T05:49:46.621177Z",
     "iopub.status.busy": "2020-12-29T05:49:46.614715Z",
     "iopub.status.idle": "2020-12-29T05:49:47.622344Z",
     "shell.execute_reply": "2020-12-29T05:49:47.622942Z"
    },
    "papermill": {
     "duration": 1.101173,
     "end_time": "2020-12-29T05:49:47.623168",
     "exception": false,
     "start_time": "2020-12-29T05:49:46.521995",
     "status": "completed"
    },
    "tags": []
   },
   "outputs": [
    {
     "name": "stdout",
     "output_type": "stream",
     "text": [
      "CPU times: user 1.56 s, sys: 82.1 ms, total: 1.64 s\n",
      "Wall time: 957 ms\n"
     ]
    }
   ],
   "source": [
    "%%time\n",
    "for (test_df, sample_prediction_df) in iter_test:\n",
    "    if prior_test_df is not None:\n",
    "        prior_test_df[target] = eval(test_df['prior_group_answers_correct'].iloc[0])\n",
    "        prior_test_df = prior_test_df[prior_test_df[target] != -1].reset_index(drop=True)\n",
    "        \n",
    "        user_ids = prior_test_df['user_id'].values\n",
    "        content_ids = prior_test_df['content_id'].values\n",
    "        targets = prior_test_df[target].values\n",
    "        timestamps = prior_test_df['timestamp'].values\n",
    "                 \n",
    "        for (user_id, content_id, answered_correctly, first_attempt_ornot, prior_explanation,\n",
    "             prior_point, prior_community, prior_timestamp, prior_part, prior_elapsed) in zip(user_ids, \n",
    "                                                            content_ids, \n",
    "                                                            targets, \n",
    "                                                            prior_f_attempt_arrays,\n",
    "                                                            p_prior_question_had_explanation,\n",
    "                                                            prior_point_array,\n",
    "                                                            prior_community_arrays,\n",
    "                                                            timestamps,\n",
    "                                                            prior_part_array,\n",
    "                                                            p_prior_question_elapsed_time):\n",
    "            \n",
    "            user_sum_dict[user_id] += answered_correctly\n",
    "            user_count_dict[user_id] += 1\n",
    "            content_sum_dict[content_id] += answered_correctly\n",
    "            content_count_dict[content_id] += 1\n",
    "            user_unique_dict[user_id] += first_attempt_ornot\n",
    "            user_prior_question_had_explanation_sum_dict[user_id] += prior_explanation\n",
    "            user_prior_question_elapsed_time_sum_dict[user_id] += prior_elapsed\n",
    "            user_point_sum_dict[user_id] += prior_point * answered_correctly\n",
    "            user_part_count_dict[user_id][prior_part] += 1\n",
    "            user_community_correct_dict[user_id][prior_community] += answered_correctly\n",
    "            user_community_count_dict[user_id][prior_community] += 1\n",
    "            community_count_dict[prior_community] += 1  \n",
    "            \n",
    "            if np.sum(user_timestamp_max_dict[user_id] == prior_timestamp) == 0:\n",
    "                if len(user_timestamp_max_dict[user_id]) <= 3: \n",
    "                    user_timestamp_max_dict[user_id] = np.concatenate([user_timestamp_max_dict[user_id],[prior_timestamp]])\n",
    "                else:\n",
    "                    user_timestamp_max_dict[user_id] = np.concatenate([user_timestamp_max_dict[user_id],[prior_timestamp]])[1:]  \n",
    "                user_last_count7_dict[user_id] = np.concatenate([user_last_count7_dict[user_id],[1]])[1:]\n",
    "                user_last_correct7_dict[user_id] = np.concatenate([user_last_correct7_dict[user_id],[answered_correctly]])[1:]\n",
    "            else:\n",
    "                user_last_count7_dict[user_id][-1] += 1\n",
    "                user_last_correct7_dict[user_id][-1] += answered_correctly\n",
    "                    \n",
    "            if answered_correctly == 1:\n",
    "                continuous_correct_dict[user_id] += 1\n",
    "                continuous_incorrect_dict[user_id] = 0\n",
    "            else:\n",
    "                continuous_correct_dict[user_id] = 0\n",
    "                continuous_incorrect_dict[user_id] += 1\n",
    "                    \n",
    "    prior_test_df = test_df.copy()\n",
    "    \n",
    "    time_from_last_lec_array = np.zeros(len(test_df), dtype = np.int64)\n",
    "    for i, (user_id, content_type_id, timestamp) in enumerate(zip(test_df['user_id'].values, test_df['content_type_id'].values,\n",
    "                                                             test_df['timestamp'].values)):\n",
    "        if content_type_id == 1:\n",
    "            time_from_last_lec_array[i] = 0\n",
    "            user_last_lec_time_dict[user_id] = timestamp\n",
    "        else:\n",
    "            if user_last_lec_time_dict[user_id] != -1:\n",
    "                time_from_last_lec_array[i] = timestamp - user_last_lec_time_dict[user_id]\n",
    "            else:\n",
    "                time_from_last_lec_array[i] = -1\n",
    "    test_df['time_from_lec'] = time_from_last_lec_array \n",
    "           \n",
    "    test_df = test_df[test_df['content_type_id'] == 0].reset_index(drop=True)\n",
    "    test_df = pd.merge(test_df, questions_df, left_on='content_id', right_on='question_id', how='left', right_index=True).reset_index(drop=True)\n",
    "    test_df['prior_question_had_explanation'] = test_df['prior_question_had_explanation'].fillna(False).astype('int8')\n",
    "    test_df['prior_question_elapsed_time'] = test_df['prior_question_elapsed_time'].fillna(0)\n",
    "\n",
    "    p_prior_question_elapsed_time = test_df['prior_question_elapsed_time'].values\n",
    "    p_prior_question_had_explanation = test_df['prior_question_had_explanation'].values\n",
    "    prior_community_arrays = test_df['community'].values\n",
    "    prior_part_array = test_df['part'].values\n",
    "   \n",
    "    first_attempt_values = []\n",
    "    user_sum = np.zeros(len(test_df), dtype=np.int16)\n",
    "    user_count = np.zeros(len(test_df), dtype=np.int16)\n",
    "    content_sum = np.zeros(len(test_df), dtype=np.int32)\n",
    "    content_count = np.zeros(len(test_df), dtype=np.int32)\n",
    "    part_count = np.zeros(len(test_df), dtype=np.int32)\n",
    "    part_ratio_array = np.zeros(len(test_df), dtype=np.float32)\n",
    "    user_correctness_array = np.zeros(len(test_df), dtype=np.float32)\n",
    "    user_unique_count = np.zeros(len(test_df), dtype=np.int32)\n",
    "    user_prior_question_had_explanation_mean_array = np.zeros(len(test_df), dtype=np.float32)\n",
    "    user_prior_question_elapsed_time_mean_array = np.zeros(len(test_df), dtype=np.float32)\n",
    "    got_point_array = np.zeros(len(test_df), dtype=np.float32)\n",
    "    user_last7_accuracy_array = np.zeros(len(test_df), dtype=np.float32)\n",
    "    timediff_array = np.zeros(len(test_df), dtype = np.int64)\n",
    "    timediff2_array = np.zeros(len(test_df), dtype = np.int64)\n",
    "    timediff3_array = np.zeros(len(test_df), dtype = np.int64)\n",
    "    timediff4_array = np.zeros(len(test_df), dtype = np.int64)\n",
    "    tag_acc_array = np.zeros(len(test_df), dtype=np.float32)\n",
    "    community_count_array = np.zeros(len(test_df), dtype=np.int32)\n",
    "    time_dd_array = np.zeros(len(test_df), dtype = np.int64)\n",
    "    user_con_correct_array = np.zeros(len(test_df), dtype=np.int16)\n",
    "    user_con_incorrect_array = np.zeros(len(test_df), dtype=np.int16)\n",
    "    \n",
    "    for i, (user_id, content_id, timestamp, community, part) in enumerate(zip(test_df['user_id'].values, \n",
    "                                                             test_df['content_id'].values,\n",
    "                                                             test_df['timestamp'].values,\n",
    "                                                             test_df['community'].values,\n",
    "                                                             test_df['part'].values)):\n",
    "        user_sum[i] = user_sum_dict[user_id]\n",
    "        user_count[i] = user_count_dict[user_id]\n",
    "        content_sum[i] = content_sum_dict[content_id]\n",
    "        content_count[i] = content_count_dict[content_id]\n",
    "        part_count[i] = user_part_count_dict[user_id][part]\n",
    "        first_attempt_values.append(user_content_dict[user_id][content_id])\n",
    "        user_content_dict[user_id][content_id] = False             \n",
    "        user_unique_count[i] = user_unique_dict[user_id]\n",
    "        if user_count[i] != 0:\n",
    "            user_correctness_array[i] = user_sum[i] / user_count[i]\n",
    "            part_ratio_array[i] = part_count[i] / user_count[i]\n",
    "            user_prior_question_had_explanation_mean_array[i] = user_prior_question_had_explanation_sum_dict[user_id] / user_count[i]\n",
    "            user_prior_question_elapsed_time_mean_array[i] = user_prior_question_elapsed_time_sum_dict[user_id] / user_count[i]\n",
    "        else:\n",
    "            user_correctness_array[i] = -1\n",
    "            part_ratio_array[i] = -1\n",
    "            user_prior_question_had_explanation_mean_array[i] = -1\n",
    "            user_prior_question_elapsed_time_mean_array[i] = -1\n",
    "        \n",
    "        if np.sum(user_last_count7_dict != -1)==7:\n",
    "            user_last7_accuracy_array[i] = user_last_correct7_dict[user_id].sum() / user_last_count7_dict[user_id].sum()\n",
    "        else:\n",
    "            user_last7_accuracy_array[i] = np.nan\n",
    "\n",
    "        if len(user_timestamp_max_dict[user_id]) ==0:\n",
    "            timediff_array[i] = -1\n",
    "            timediff2_array[i] = -1\n",
    "            timediff3_array[i] = -1\n",
    "            timediff4_array[i] = -1\n",
    "            time_dd_array[i] = -1\n",
    "            \n",
    "        elif len(user_timestamp_max_dict[user_id]) ==1:\n",
    "            timediff_array[i] = timestamp - user_timestamp_max_dict[user_id][0]\n",
    "            timediff2_array[i] = -1\n",
    "            timediff3_array[i] = -1\n",
    "            timediff4_array[i] = -1\n",
    "            time_dd_array[i] = -1\n",
    "            \n",
    "        elif len(user_timestamp_max_dict[user_id]) ==2:\n",
    "            timediff_array[i] = timestamp - user_timestamp_max_dict[user_id][1]\n",
    "            timediff2_array[i] = timestamp - user_timestamp_max_dict[user_id][0]\n",
    "            timediff3_array[i] = -1\n",
    "            timediff4_array[i] = -1\n",
    "            time_dd_array[i] = timediff2_array[i] - timediff_array[i]\n",
    "            \n",
    "        elif len(user_timestamp_max_dict[user_id]) ==3:\n",
    "            timediff_array[i] = timestamp - user_timestamp_max_dict[user_id][2]\n",
    "            timediff2_array[i] = timestamp - user_timestamp_max_dict[user_id][1]\n",
    "            timediff3_array[i] = timestamp - user_timestamp_max_dict[user_id][0]\n",
    "            timediff4_array[i] = -1\n",
    "            time_dd_array[i] = timediff2_array[i] - timediff_array[i]\n",
    "    \n",
    "        else:\n",
    "            timediff_array[i] = timestamp - user_timestamp_max_dict[user_id][3]\n",
    "            timediff2_array[i] = timestamp - user_timestamp_max_dict[user_id][2]\n",
    "            timediff3_array[i] = timestamp - user_timestamp_max_dict[user_id][1]\n",
    "            timediff4_array[i] = timestamp - user_timestamp_max_dict[user_id][0]\n",
    "            time_dd_array[i] = timediff2_array[i] - timediff_array[i]\n",
    "            \n",
    "        if user_community_count_dict[user_id][community] == 0:\n",
    "            tag_acc_array[i] = -1\n",
    "        else:\n",
    "            tag_acc_array[i] = user_community_correct_dict[user_id][community] / user_community_count_dict[user_id][community]\n",
    "\n",
    "        got_point_array[i] = user_point_sum_dict[user_id]\n",
    "        community_count_array[i] = community_count_dict[community]\n",
    "        user_con_correct_array[i] = continuous_correct_dict[user_id]\n",
    "        user_con_incorrect_array[i] = continuous_incorrect_dict[user_id]\n",
    "     \n",
    "    test_df['count'] = user_count\n",
    "    test_df['user_correctness'] = user_correctness_array\n",
    "    test_df['content_count'] = content_count\n",
    "    test_df['content_id'] = content_sum / content_count\n",
    "    test_df['part_count'] = part_count\n",
    "    test_df['part_ratio'] = part_ratio_array\n",
    "    test_df[\"first_attempt\"] = first_attempt_values\n",
    "    test_df[\"unique_attempt\"] = test_df.groupby(\"user_id\")[\"first_attempt\"].cumsum()\n",
    "    test_df[\"unique_attempt\"] += user_unique_count\n",
    "    test_df['prior_question_had_explanation_mean'] = user_prior_question_had_explanation_mean_array\n",
    "    \n",
    "    test_df['prior_question_elapsed_time_mean'] = user_prior_question_elapsed_time_mean_array\n",
    "    test_df['got_point'] = got_point_array / user_count\n",
    "    test_df['answered_correctly_last7'] = user_last7_accuracy_array\n",
    "    test_df['timediff'] = timediff_array\n",
    "    test_df['timediff2'] = timediff2_array\n",
    "    test_df['timediff3'] = timediff3_array\n",
    "    test_df['timediff4'] = timediff4_array\n",
    "    test_df['tag_acc'] = tag_acc_array\n",
    "    test_df['community_count'] = community_count_array\n",
    "    test_df['time_dd'] = time_dd_array\n",
    "    test_df['continuous_correct'] = user_con_correct_array\n",
    "    test_df['continuous_incorrect'] = user_con_incorrect_array\n",
    "\n",
    "    prior_f_attempt_arrays = test_df['first_attempt'].values\n",
    "    prior_point_array = 1 / (test_df.content_id.values + 0.1)\n",
    "    \n",
    "    test_df[target] = model.predict(test_df[features])\n",
    "    env.predict(test_df[['row_id', target]])"
   ]
  },
  {
   "cell_type": "code",
   "execution_count": null,
   "metadata": {
    "papermill": {
     "duration": 0.07345,
     "end_time": "2020-12-29T05:49:47.772794",
     "exception": false,
     "start_time": "2020-12-29T05:49:47.699344",
     "status": "completed"
    },
    "tags": []
   },
   "outputs": [],
   "source": []
  }
 ],
 "metadata": {
  "kernelspec": {
   "display_name": "Python 3",
   "language": "python",
   "name": "python3"
  },
  "language_info": {
   "codemirror_mode": {
    "name": "ipython",
    "version": 3
   },
   "file_extension": ".py",
   "mimetype": "text/x-python",
   "name": "python",
   "nbconvert_exporter": "python",
   "pygments_lexer": "ipython3",
   "version": "3.7.6"
  },
  "papermill": {
   "duration": 5256.454284,
   "end_time": "2020-12-29T05:49:48.259369",
   "environment_variables": {},
   "exception": null,
   "input_path": "__notebook__.ipynb",
   "output_path": "__notebook__.ipynb",
   "parameters": {},
   "start_time": "2020-12-29T04:22:11.805085",
   "version": "2.1.0"
  }
 },
 "nbformat": 4,
 "nbformat_minor": 4
}
