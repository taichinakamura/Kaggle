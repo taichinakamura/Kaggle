{
 "cells": [
  {
   "cell_type": "markdown",
   "metadata": {
    "papermill": {
     "duration": 0.022028,
     "end_time": "2020-12-02T08:38:30.693364",
     "exception": false,
     "start_time": "2020-12-02T08:38:30.671336",
     "status": "completed"
    },
    "tags": []
   },
   "source": [
    "- add days from start, count_inday"
   ]
  },
  {
   "cell_type": "code",
   "execution_count": 1,
   "metadata": {
    "_cell_guid": "b1076dfc-b9ad-4769-8c92-a6c4dae69d19",
    "_uuid": "8f2839f25d086af736a60e9eeb907d3b93b6e0e5",
    "execution": {
     "iopub.execute_input": "2020-12-02T08:38:30.758336Z",
     "iopub.status.busy": "2020-12-02T08:38:30.757383Z",
     "iopub.status.idle": "2020-12-02T08:39:01.542748Z",
     "shell.execute_reply": "2020-12-02T08:39:01.541547Z"
    },
    "papermill": {
     "duration": 30.820638,
     "end_time": "2020-12-02T08:39:01.542883",
     "exception": false,
     "start_time": "2020-12-02T08:38:30.722245",
     "status": "completed"
    },
    "tags": []
   },
   "outputs": [],
   "source": [
    "!pip install ../input/python-datatable/datatable-0.11.0-cp37-cp37m-manylinux2010_x86_64.whl > /dev/null 2>&1"
   ]
  },
  {
   "cell_type": "code",
   "execution_count": 2,
   "metadata": {
    "_cell_guid": "79c7e3d0-c299-4dcb-8224-4455121ee9b0",
    "_uuid": "d629ff2d2480ee46fbb7e2d37f6b5fab8052498a",
    "execution": {
     "iopub.execute_input": "2020-12-02T08:39:01.610041Z",
     "iopub.status.busy": "2020-12-02T08:39:01.609031Z",
     "iopub.status.idle": "2020-12-02T08:39:02.723428Z",
     "shell.execute_reply": "2020-12-02T08:39:02.723929Z"
    },
    "papermill": {
     "duration": 1.152214,
     "end_time": "2020-12-02T08:39:02.724078",
     "exception": false,
     "start_time": "2020-12-02T08:39:01.571864",
     "status": "completed"
    },
    "tags": []
   },
   "outputs": [
    {
     "data": {
      "text/html": [
       "<style type='text/css'>\n",
       ".datatable table.frame { margin-bottom: 0; }\n",
       ".datatable table.frame thead { border-bottom: none; }\n",
       ".datatable table.frame tr.coltypes td {  color: #FFFFFF;  line-height: 6px;  padding: 0 0.5em;}\n",
       ".datatable .bool    { background: #DDDD99; }\n",
       ".datatable .object  { background: #565656; }\n",
       ".datatable .int     { background: #5D9E5D; }\n",
       ".datatable .float   { background: #4040CC; }\n",
       ".datatable .str     { background: #CC4040; }\n",
       ".datatable .row_index {  background: var(--jp-border-color3);  border-right: 1px solid var(--jp-border-color0);  color: var(--jp-ui-font-color3);  font-size: 9px;}\n",
       ".datatable .frame tr.coltypes .row_index {  background: var(--jp-border-color0);}\n",
       ".datatable th:nth-child(2) { padding-left: 12px; }\n",
       ".datatable .hellipsis {  color: var(--jp-cell-editor-border-color);}\n",
       ".datatable .vellipsis {  background: var(--jp-layout-color0);  color: var(--jp-cell-editor-border-color);}\n",
       ".datatable .na {  color: var(--jp-cell-editor-border-color);  font-size: 80%;}\n",
       ".datatable .footer { font-size: 9px; }\n",
       ".datatable .frame_dimensions {  background: var(--jp-border-color3);  border-top: 1px solid var(--jp-border-color0);  color: var(--jp-ui-font-color3);  display: inline-block;  opacity: 0.6;  padding: 1px 10px 1px 5px;}\n",
       ".datatable .frame thead tr.colnames {  background-image: url('data:image/png;base64,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');  background-repeat: repeat-x;  background-size: 14px;  height: 28px;}\n",
       "</style>\n"
      ],
      "text/plain": [
       "<IPython.core.display.HTML object>"
      ]
     },
     "metadata": {},
     "output_type": "display_data"
    },
    {
     "name": "stderr",
     "output_type": "stream",
     "text": [
      "/opt/conda/lib/python3.7/site-packages/ipykernel_launcher.py:10: TqdmDeprecationWarning: This function will be removed in tqdm==5.0.0\n",
      "Please use `tqdm.notebook.*` instead of `tqdm._tqdm_notebook.*`\n",
      "  # Remove the CWD from sys.path while we load stuff.\n",
      "/opt/conda/lib/python3.7/site-packages/tqdm/std.py:666: FutureWarning: The Panel class is removed from pandas. Accessing it from the top-level namespace will also be removed in the next version\n",
      "  from pandas import Panel\n"
     ]
    }
   ],
   "source": [
    "import numpy as np\n",
    "import pandas as pd\n",
    "from collections import defaultdict\n",
    "import datatable as dt\n",
    "import lightgbm as lgb\n",
    "from matplotlib import pyplot as plt\n",
    "import riiideducation\n",
    "from bitarray import bitarray\n",
    "\n",
    "from tqdm._tqdm_notebook import tqdm_notebook\n",
    "tqdm_notebook.pandas(desc=\"progress: \")\n",
    "\n",
    "_ = np.seterr(divide='ignore', invalid='ignore')"
   ]
  },
  {
   "cell_type": "code",
   "execution_count": 3,
   "metadata": {
    "execution": {
     "iopub.execute_input": "2020-12-02T08:39:02.771470Z",
     "iopub.status.busy": "2020-12-02T08:39:02.770602Z",
     "iopub.status.idle": "2020-12-02T08:39:02.772845Z",
     "shell.execute_reply": "2020-12-02T08:39:02.773478Z"
    },
    "papermill": {
     "duration": 0.028111,
     "end_time": "2020-12-02T08:39:02.773642",
     "exception": false,
     "start_time": "2020-12-02T08:39:02.745531",
     "status": "completed"
    },
    "tags": []
   },
   "outputs": [],
   "source": [
    "def make_bitarray():\n",
    "    a = bitarray(32737, endian='little')\n",
    "    a.setall(True)   \n",
    "    return a"
   ]
  },
  {
   "cell_type": "markdown",
   "metadata": {
    "papermill": {
     "duration": 0.020951,
     "end_time": "2020-12-02T08:39:02.820431",
     "exception": false,
     "start_time": "2020-12-02T08:39:02.799480",
     "status": "completed"
    },
    "tags": []
   },
   "source": [
    "# Preprocess"
   ]
  },
  {
   "cell_type": "code",
   "execution_count": 4,
   "metadata": {
    "execution": {
     "iopub.execute_input": "2020-12-02T08:39:02.867157Z",
     "iopub.status.busy": "2020-12-02T08:39:02.866508Z",
     "iopub.status.idle": "2020-12-02T08:39:02.869107Z",
     "shell.execute_reply": "2020-12-02T08:39:02.868627Z"
    },
    "papermill": {
     "duration": 0.027591,
     "end_time": "2020-12-02T08:39:02.869200",
     "exception": false,
     "start_time": "2020-12-02T08:39:02.841609",
     "status": "completed"
    },
    "tags": []
   },
   "outputs": [],
   "source": [
    "data_types_dict = {\n",
    "    #'row_id': 'uint32',\n",
    "    'timestamp': 'uint64',\n",
    "    'user_id': 'int32', \n",
    "    'content_id': 'int16', \n",
    "    'answered_correctly': 'int8', \n",
    "    'prior_question_elapsed_time': 'float32', \n",
    "    'prior_question_had_explanation': 'bool'\n",
    "}\n",
    "target = 'answered_correctly'"
   ]
  },
  {
   "cell_type": "code",
   "execution_count": 5,
   "metadata": {
    "execution": {
     "iopub.execute_input": "2020-12-02T08:39:02.920362Z",
     "iopub.status.busy": "2020-12-02T08:39:02.919567Z",
     "iopub.status.idle": "2020-12-02T08:40:21.056752Z",
     "shell.execute_reply": "2020-12-02T08:40:21.056070Z"
    },
    "papermill": {
     "duration": 78.166332,
     "end_time": "2020-12-02T08:40:21.056867",
     "exception": false,
     "start_time": "2020-12-02T08:39:02.890535",
     "status": "completed"
    },
    "tags": []
   },
   "outputs": [],
   "source": [
    "train_df = dt.fread('../input/riiid-test-answer-prediction/train.csv', columns=set(data_types_dict.keys())).to_pandas()\n",
    "\n",
    "#train_df['lec_num'] = train_df[target] == -1\n",
    "#user_lec_agg = train_df.groupby(\"user_id\")[\"lec_num\"].sum()\n",
    "#train_df['lec_num'] = train_df.groupby(\"user_id\")[\"lec_num\"].cumsum()\n",
    "\n",
    "#lectures = pd.read_csv(\"../input/riiid-test-answer-prediction/lectures.csv\")\n",
    "#train_lec = train_df[train_df[\"answered_correctly\"] == -1].copy().reset_index(drop=True)\n",
    "#train_lec = train_lec.astype(data_types_dict)\n",
    "#train_lec = train_lec.merge(lectures[[\"lecture_id\", \"tag\"]], left_on=\"content_id\", right_on=\"lecture_id\", how=\"left\")\n",
    "#train_lec.drop([\"lecture_id\"], axis=1, inplace=True)\n",
    "#train_lec[\"tag\"] = train_lec[\"tag\"].astype(str)\n",
    "#train_lec[\"tag\"] = train_lec.groupby(\"user_id\")[\"tag\"].apply(lambda x: (x+' ').cumsum())\n",
    "\n",
    "train_df = train_df[train_df[target] != -1].reset_index(drop=True)\n",
    "train_df['prior_question_had_explanation'].fillna(False, inplace=True)\n",
    "train_df['timestamp'] = (train_df['timestamp'] // 86400000) + 1 # days from start\n",
    "train_df = train_df.astype(data_types_dict)\n",
    "train_index = list(train_df.groupby('user_id').tail(24).index)"
   ]
  },
  {
   "cell_type": "code",
   "execution_count": 6,
   "metadata": {
    "execution": {
     "iopub.execute_input": "2020-12-02T08:40:21.307646Z",
     "iopub.status.busy": "2020-12-02T08:40:21.306925Z",
     "iopub.status.idle": "2020-12-02T08:40:38.157311Z",
     "shell.execute_reply": "2020-12-02T08:40:38.157815Z"
    },
    "papermill": {
     "duration": 17.079869,
     "end_time": "2020-12-02T08:40:38.157958",
     "exception": false,
     "start_time": "2020-12-02T08:40:21.078089",
     "status": "completed"
    },
    "tags": []
   },
   "outputs": [],
   "source": [
    "questions_df = pd.read_csv(\n",
    "    '../input/riiid-test-answer-prediction/questions.csv', \n",
    "    usecols=[0, 3], #, 4\n",
    "    dtype={'question_id': 'int16', 'part': 'int8'}  #, 'tags': 'object'\n",
    ")\n",
    "train_df = pd.merge(train_df, questions_df, left_on='content_id', right_on='question_id', how='left', right_index=True).reset_index(drop=True)\n",
    "train_df.drop(columns=['question_id'], inplace=True)"
   ]
  },
  {
   "cell_type": "code",
   "execution_count": 7,
   "metadata": {
    "execution": {
     "iopub.execute_input": "2020-12-02T08:40:38.209336Z",
     "iopub.status.busy": "2020-12-02T08:40:38.208066Z",
     "iopub.status.idle": "2020-12-02T08:40:52.651887Z",
     "shell.execute_reply": "2020-12-02T08:40:52.651145Z"
    },
    "papermill": {
     "duration": 14.473213,
     "end_time": "2020-12-02T08:40:52.652024",
     "exception": false,
     "start_time": "2020-12-02T08:40:38.178811",
     "status": "completed"
    },
    "tags": []
   },
   "outputs": [],
   "source": [
    "train_df['lag'] = train_df.groupby('user_id')[target].shift()\n",
    "cum = train_df.groupby('user_id')['lag'].agg(['cumsum', 'cumcount'])\n",
    "user_correctness_array = np.array(cum['cumsum'] / cum['cumcount'])\n",
    "user_correctness_array = user_correctness_array[train_index]\n",
    "train_df.drop(columns=['lag'], inplace=True)\n",
    "del cum"
   ]
  },
  {
   "cell_type": "code",
   "execution_count": 8,
   "metadata": {
    "execution": {
     "iopub.execute_input": "2020-12-02T08:40:52.722881Z",
     "iopub.status.busy": "2020-12-02T08:40:52.722108Z",
     "iopub.status.idle": "2020-12-02T08:41:17.915476Z",
     "shell.execute_reply": "2020-12-02T08:41:17.914920Z"
    },
    "papermill": {
     "duration": 25.231678,
     "end_time": "2020-12-02T08:41:17.915590",
     "exception": false,
     "start_time": "2020-12-02T08:40:52.683912",
     "status": "completed"
    },
    "tags": []
   },
   "outputs": [],
   "source": [
    "train_df[\"reading_part\"] = train_df[\"part\"] >=5\n",
    "train_df[\"reading_part\"] = train_df[\"reading_part\"].astype(\"int8\")\n",
    "train_df['reading_part_lag'] = train_df.groupby('user_id')[\"reading_part\"].shift()\n",
    "cum = train_df.groupby('user_id')['reading_part_lag'].agg(['cumsum']) \n",
    "reading_part_count_array = cum['cumsum'].values\n",
    "reading_part_count_array = reading_part_count_array[train_index] \n",
    "train_df.drop(columns=['reading_part_lag', 'reading_part'], inplace=True)\n",
    "del cum"
   ]
  },
  {
   "cell_type": "code",
   "execution_count": 9,
   "metadata": {
    "execution": {
     "iopub.execute_input": "2020-12-02T08:41:17.966883Z",
     "iopub.status.busy": "2020-12-02T08:41:17.965824Z",
     "iopub.status.idle": "2020-12-02T08:41:58.278956Z",
     "shell.execute_reply": "2020-12-02T08:41:58.278374Z"
    },
    "papermill": {
     "duration": 40.342584,
     "end_time": "2020-12-02T08:41:58.279082",
     "exception": false,
     "start_time": "2020-12-02T08:41:17.936498",
     "status": "completed"
    },
    "tags": []
   },
   "outputs": [],
   "source": [
    "train_df[\"listening_part\"] = (train_df[\"part\"] >=1) | (train_df[\"part\"] <=4)\n",
    "train_df[\"listening_part\"] = train_df[\"listening_part\"].astype(\"int8\")\n",
    "train_df['listening_part_lag'] = train_df.groupby('user_id')[\"listening_part\"].shift()\n",
    "cum = train_df.groupby('user_id')['listening_part_lag'].agg(['cumsum']) \n",
    "listening_part_count_array = cum['cumsum'].values\n",
    "listening_part_count_array = listening_part_count_array[train_index]\n",
    "train_df.drop(columns=['listening_part_lag', 'listening_part'], inplace=True)\n",
    "del cum"
   ]
  },
  {
   "cell_type": "code",
   "execution_count": 10,
   "metadata": {
    "execution": {
     "iopub.execute_input": "2020-12-02T08:41:58.339203Z",
     "iopub.status.busy": "2020-12-02T08:41:58.338536Z",
     "iopub.status.idle": "2020-12-02T08:42:29.995083Z",
     "shell.execute_reply": "2020-12-02T08:42:29.995773Z"
    },
    "papermill": {
     "duration": 31.692035,
     "end_time": "2020-12-02T08:42:29.995941",
     "exception": false,
     "start_time": "2020-12-02T08:41:58.303906",
     "status": "completed"
    },
    "tags": []
   },
   "outputs": [],
   "source": [
    "#train_df[\"first_attempt\"] = train_df[[\"row_id\", \"user_id\", \"content_id\"]].groupby(\"user_id\").progress_apply(lambda x: \n",
    "#                               pd.DataFrame(np.isin(x[\"row_id\"].values, x.drop_duplicates(\"content_id\")[\"row_id\"].values))).values\n",
    "#train_df.drop(\"row_id\", axis=1, inplace=True)\n",
    "\n",
    "first_attempt_df = pd.read_csv(\"../input/riiid-additional-data/content_first_attempt.csv\")\n",
    "first_attempt_array = first_attempt_df.first_attempt.values\n",
    "first_attempt_array = first_attempt_array[train_index]\n",
    "del first_attempt_df"
   ]
  },
  {
   "cell_type": "code",
   "execution_count": 11,
   "metadata": {
    "execution": {
     "iopub.execute_input": "2020-12-02T08:42:30.069463Z",
     "iopub.status.busy": "2020-12-02T08:42:30.068624Z",
     "iopub.status.idle": "2020-12-02T08:42:42.785530Z",
     "shell.execute_reply": "2020-12-02T08:42:42.784667Z"
    },
    "papermill": {
     "duration": 12.757927,
     "end_time": "2020-12-02T08:42:42.785661",
     "exception": false,
     "start_time": "2020-12-02T08:42:30.027734",
     "status": "completed"
    },
    "tags": []
   },
   "outputs": [],
   "source": [
    "user_agg = train_df.groupby('user_id')[target].agg(['sum', 'count'])\n",
    "content_agg = train_df.groupby('content_id')[target].agg(['sum', 'count'])\n",
    "\n",
    "user_sum_dict = user_agg['sum'].astype('int16').to_dict(defaultdict(int))\n",
    "user_count_dict = user_agg['count'].astype('int16').to_dict(defaultdict(int))\n",
    "content_sum_dict = content_agg['sum'].astype('int32').to_dict(defaultdict(int))\n",
    "content_count_dict = content_agg['count'].astype('int32').to_dict(defaultdict(int))\n",
    "\n",
    "content_count_array = train_df['content_id'].map(content_agg['count']).astype('int32').values\n",
    "content_id_array = train_df['content_id'].map(content_agg['sum'] / content_agg['count']).values\n",
    "content_count_array = content_count_array[train_index]\n",
    "content_id_array = content_id_array[train_index]\n",
    "\n",
    "del user_agg, content_agg"
   ]
  },
  {
   "cell_type": "code",
   "execution_count": 12,
   "metadata": {
    "execution": {
     "iopub.execute_input": "2020-12-02T08:42:42.838320Z",
     "iopub.status.busy": "2020-12-02T08:42:42.837484Z",
     "iopub.status.idle": "2020-12-02T08:45:13.808122Z",
     "shell.execute_reply": "2020-12-02T08:45:13.809120Z"
    },
    "papermill": {
     "duration": 151.000228,
     "end_time": "2020-12-02T08:45:13.809343",
     "exception": false,
     "start_time": "2020-12-02T08:42:42.809115",
     "status": "completed"
    },
    "tags": []
   },
   "outputs": [
    {
     "name": "stdout",
     "output_type": "stream",
     "text": [
      "CPU times: user 2min 26s, sys: 4.46 s, total: 2min 30s\n",
      "Wall time: 2min 30s\n"
     ]
    }
   ],
   "source": [
    "%%time\n",
    "user_content_agg = train_df.groupby(\"user_id\")[\"content_id\"].unique().reset_index().set_index(\"user_id\")\n",
    "\n",
    "value = []\n",
    "for j in user_content_agg.index:\n",
    "    a = bitarray(32737, endian='little')\n",
    "    a.setall(True)\n",
    "    for i in user_content_agg.loc[j][0]:\n",
    "        a[i] = 0\n",
    "    value.append(a)\n",
    "    \n",
    "user_content_agg[\"content_exp\"] = value\n",
    "\n",
    "user_content_dict = user_content_agg[\"content_exp\"].to_dict(defaultdict(make_bitarray))\n",
    "del user_content_agg"
   ]
  },
  {
   "cell_type": "code",
   "execution_count": 13,
   "metadata": {
    "execution": {
     "iopub.execute_input": "2020-12-02T08:45:13.884008Z",
     "iopub.status.busy": "2020-12-02T08:45:13.883305Z",
     "iopub.status.idle": "2020-12-02T08:45:20.327432Z",
     "shell.execute_reply": "2020-12-02T08:45:20.326874Z"
    },
    "papermill": {
     "duration": 6.484556,
     "end_time": "2020-12-02T08:45:20.327549",
     "exception": false,
     "start_time": "2020-12-02T08:45:13.842993",
     "status": "completed"
    },
    "tags": []
   },
   "outputs": [],
   "source": [
    "train_df[\"count\"] = 1\n",
    "count_array = train_df.groupby(\"user_id\")[\"count\"].cumsum().values\n",
    "count_array = count_array[train_index]\n",
    "train_df.drop(\"count\", axis=1, inplace=True)"
   ]
  },
  {
   "cell_type": "code",
   "execution_count": 14,
   "metadata": {
    "execution": {
     "iopub.execute_input": "2020-12-02T08:45:20.378794Z",
     "iopub.status.busy": "2020-12-02T08:45:20.377937Z",
     "iopub.status.idle": "2020-12-02T08:45:31.229029Z",
     "shell.execute_reply": "2020-12-02T08:45:31.228170Z"
    },
    "papermill": {
     "duration": 10.878723,
     "end_time": "2020-12-02T08:45:31.229159",
     "exception": false,
     "start_time": "2020-12-02T08:45:20.350436",
     "status": "completed"
    },
    "tags": []
   },
   "outputs": [],
   "source": [
    "train_df[\"count_inday\"] = 1\n",
    "count_inday_array = train_df.groupby([\"user_id\",\"timestamp\"])[\"count_inday\"].cumsum().values\n",
    "count_inday_array = count_inday_array[train_index]\n",
    "train_df.drop(\"count_inday\", axis=1, inplace=True)"
   ]
  },
  {
   "cell_type": "code",
   "execution_count": 15,
   "metadata": {
    "execution": {
     "iopub.execute_input": "2020-12-02T08:45:31.302241Z",
     "iopub.status.busy": "2020-12-02T08:45:31.301218Z",
     "iopub.status.idle": "2020-12-02T08:45:37.121428Z",
     "shell.execute_reply": "2020-12-02T08:45:37.120882Z"
    },
    "papermill": {
     "duration": 5.858384,
     "end_time": "2020-12-02T08:45:37.121551",
     "exception": false,
     "start_time": "2020-12-02T08:45:31.263167",
     "status": "completed"
    },
    "tags": []
   },
   "outputs": [],
   "source": [
    "train_df = train_df.groupby('user_id').tail(24).reset_index(drop=True)"
   ]
  },
  {
   "cell_type": "code",
   "execution_count": 16,
   "metadata": {
    "execution": {
     "iopub.execute_input": "2020-12-02T08:45:37.169580Z",
     "iopub.status.busy": "2020-12-02T08:45:37.168913Z",
     "iopub.status.idle": "2020-12-02T08:45:37.173084Z",
     "shell.execute_reply": "2020-12-02T08:45:37.172595Z"
    },
    "papermill": {
     "duration": 0.029497,
     "end_time": "2020-12-02T08:45:37.173179",
     "exception": false,
     "start_time": "2020-12-02T08:45:37.143682",
     "status": "completed"
    },
    "tags": []
   },
   "outputs": [],
   "source": [
    "#train_df = pd.concat([train_df, train_lec])\n",
    "#train_df = train_df.sort_values(\"row_id\", ascending=True).reset_index(drop=True)\n",
    "#del train_lec\n",
    "#train_df[\"tag\"] = train_df[\"tag\"].astype(str).replace(\"nan\", \"\")\n",
    "#train_df[\"tag\"] = train_df.groupby(\"user_id\")[\"tag\"].apply(lambda x: x.cumsum())\n",
    "#train_df = train_df[train_df[target] != -1].reset_index(drop=True)\n",
    "#tag_array = train_df.tag.values\n",
    "#tags_array = train_df.tags.values\n",
    "#train_df.drop([\"row_id\", \"tag\", \"tags\"], axis=1, inplace=True)\n",
    "\n",
    "#experience_array = [len(set(tag_array[i]).intersection(set(tags_array[i].replace(' ', ',')))) for i in range(train_df.shape[0])]"
   ]
  },
  {
   "cell_type": "code",
   "execution_count": 17,
   "metadata": {
    "execution": {
     "iopub.execute_input": "2020-12-02T08:45:37.224265Z",
     "iopub.status.busy": "2020-12-02T08:45:37.223686Z",
     "iopub.status.idle": "2020-12-02T08:45:37.317490Z",
     "shell.execute_reply": "2020-12-02T08:45:37.316860Z"
    },
    "papermill": {
     "duration": 0.122522,
     "end_time": "2020-12-02T08:45:37.317588",
     "exception": false,
     "start_time": "2020-12-02T08:45:37.195066",
     "status": "completed"
    },
    "tags": []
   },
   "outputs": [],
   "source": [
    "train_df['content_count'] = content_count_array\n",
    "train_df['content_id'] = content_id_array\n",
    "train_df['user_correctness'] = user_correctness_array\n",
    "train_df['reading_part_count'] = reading_part_count_array \n",
    "train_df['listening_part_count'] = listening_part_count_array \n",
    "train_df['first_attempt'] = first_attempt_array\n",
    "train_df['count'] = count_array\n",
    "train_df['count_inday'] = count_inday_array\n",
    "#train_df[\"experience\"] = experience_array\n",
    "#train_df[\"experience\"] = train_df[\"experience\"].apply(lambda x: 1 if x>=1 else 0)"
   ]
  },
  {
   "cell_type": "code",
   "execution_count": 18,
   "metadata": {
    "execution": {
     "iopub.execute_input": "2020-12-02T08:45:37.366826Z",
     "iopub.status.busy": "2020-12-02T08:45:37.366156Z",
     "iopub.status.idle": "2020-12-02T08:45:37.371088Z",
     "shell.execute_reply": "2020-12-02T08:45:37.370189Z"
    },
    "papermill": {
     "duration": 0.030738,
     "end_time": "2020-12-02T08:45:37.371228",
     "exception": false,
     "start_time": "2020-12-02T08:45:37.340490",
     "status": "completed"
    },
    "tags": []
   },
   "outputs": [],
   "source": [
    "#del tag_array, tags_array\n",
    "#del first_attempt_array, count_array, experience_array\n",
    "#del content_count_array, content_id_array, user_correctness_array, reading_part_ratio_array, listening_part_ratio_array"
   ]
  },
  {
   "cell_type": "code",
   "execution_count": 19,
   "metadata": {
    "execution": {
     "iopub.execute_input": "2020-12-02T08:45:37.485869Z",
     "iopub.status.busy": "2020-12-02T08:45:37.483452Z",
     "iopub.status.idle": "2020-12-02T08:45:40.706999Z",
     "shell.execute_reply": "2020-12-02T08:45:40.706484Z"
    },
    "papermill": {
     "duration": 3.301749,
     "end_time": "2020-12-02T08:45:40.707164",
     "exception": false,
     "start_time": "2020-12-02T08:45:37.405415",
     "status": "completed"
    },
    "tags": []
   },
   "outputs": [],
   "source": [
    "user_listening_agg = train_df.groupby('user_id')[\"listening_part_count\"].agg(['max'])\n",
    "user_reading_agg = train_df.groupby('user_id')[\"reading_part_count\"].agg(['max'])\n",
    "user_reading_agg['max'].fillna(0,inplace=True)\n",
    "user_listening_agg['max'].fillna(0,inplace=True)\n",
    "\n",
    "user_reading_dict = user_reading_agg['max'].astype('int32').to_dict(defaultdict(int))\n",
    "user_listening_dict = user_listening_agg['max'].astype('int32').to_dict(defaultdict(int))\n",
    "\n",
    "user_timestamp_dict = train_df.groupby(\"user_id\").tail(1)[\"timestamp\"].to_dict(defaultdict(int))\n",
    "user_count_inday_dict = train_df.groupby(\"user_id\").tail(1)[\"count_inday\"].to_dict(defaultdict(int))\n",
    "\n",
    "#user_lec_dict = user_lec_agg.astype('int32').to_dict(defaultdict(int))\n",
    "\n",
    "del user_reading_agg, user_listening_agg #, user_lec_agg"
   ]
  },
  {
   "cell_type": "code",
   "execution_count": 20,
   "metadata": {
    "execution": {
     "iopub.execute_input": "2020-12-02T08:45:40.758948Z",
     "iopub.status.busy": "2020-12-02T08:45:40.757991Z",
     "iopub.status.idle": "2020-12-02T08:45:42.467561Z",
     "shell.execute_reply": "2020-12-02T08:45:42.466957Z"
    },
    "papermill": {
     "duration": 1.737368,
     "end_time": "2020-12-02T08:45:42.467703",
     "exception": false,
     "start_time": "2020-12-02T08:45:40.730335",
     "status": "completed"
    },
    "tags": []
   },
   "outputs": [],
   "source": [
    "valid_df = train_df.groupby('user_id').tail(6)\n",
    "train_df.drop(valid_df.index, inplace=True)"
   ]
  },
  {
   "cell_type": "code",
   "execution_count": 21,
   "metadata": {
    "execution": {
     "iopub.execute_input": "2020-12-02T08:45:42.530944Z",
     "iopub.status.busy": "2020-12-02T08:45:42.524908Z",
     "iopub.status.idle": "2020-12-02T08:45:42.544146Z",
     "shell.execute_reply": "2020-12-02T08:45:42.543571Z"
    },
    "papermill": {
     "duration": 0.049341,
     "end_time": "2020-12-02T08:45:42.544248",
     "exception": false,
     "start_time": "2020-12-02T08:45:42.494907",
     "status": "completed"
    },
    "tags": []
   },
   "outputs": [
    {
     "data": {
      "text/html": [
       "<div>\n",
       "<style scoped>\n",
       "    .dataframe tbody tr th:only-of-type {\n",
       "        vertical-align: middle;\n",
       "    }\n",
       "\n",
       "    .dataframe tbody tr th {\n",
       "        vertical-align: top;\n",
       "    }\n",
       "\n",
       "    .dataframe thead th {\n",
       "        text-align: right;\n",
       "    }\n",
       "</style>\n",
       "<table border=\"1\" class=\"dataframe\">\n",
       "  <thead>\n",
       "    <tr style=\"text-align: right;\">\n",
       "      <th></th>\n",
       "      <th>timestamp</th>\n",
       "      <th>user_id</th>\n",
       "      <th>content_id</th>\n",
       "      <th>answered_correctly</th>\n",
       "      <th>prior_question_elapsed_time</th>\n",
       "      <th>prior_question_had_explanation</th>\n",
       "      <th>part</th>\n",
       "      <th>content_count</th>\n",
       "      <th>user_correctness</th>\n",
       "      <th>reading_part_count</th>\n",
       "      <th>listening_part_count</th>\n",
       "      <th>first_attempt</th>\n",
       "      <th>count</th>\n",
       "      <th>count_inday</th>\n",
       "    </tr>\n",
       "  </thead>\n",
       "  <tbody>\n",
       "    <tr>\n",
       "      <th>0</th>\n",
       "      <td>1</td>\n",
       "      <td>115</td>\n",
       "      <td>0.687217</td>\n",
       "      <td>0</td>\n",
       "      <td>19000.0</td>\n",
       "      <td>False</td>\n",
       "      <td>1</td>\n",
       "      <td>36674</td>\n",
       "      <td>0.727273</td>\n",
       "      <td>2.0</td>\n",
       "      <td>22.0</td>\n",
       "      <td>True</td>\n",
       "      <td>23</td>\n",
       "      <td>23</td>\n",
       "    </tr>\n",
       "    <tr>\n",
       "      <th>1</th>\n",
       "      <td>1</td>\n",
       "      <td>115</td>\n",
       "      <td>0.608222</td>\n",
       "      <td>0</td>\n",
       "      <td>21000.0</td>\n",
       "      <td>False</td>\n",
       "      <td>1</td>\n",
       "      <td>47047</td>\n",
       "      <td>0.695652</td>\n",
       "      <td>2.0</td>\n",
       "      <td>23.0</td>\n",
       "      <td>True</td>\n",
       "      <td>24</td>\n",
       "      <td>24</td>\n",
       "    </tr>\n",
       "    <tr>\n",
       "      <th>2</th>\n",
       "      <td>1</td>\n",
       "      <td>115</td>\n",
       "      <td>0.601824</td>\n",
       "      <td>1</td>\n",
       "      <td>22000.0</td>\n",
       "      <td>False</td>\n",
       "      <td>1</td>\n",
       "      <td>40452</td>\n",
       "      <td>0.666667</td>\n",
       "      <td>2.0</td>\n",
       "      <td>24.0</td>\n",
       "      <td>True</td>\n",
       "      <td>25</td>\n",
       "      <td>25</td>\n",
       "    </tr>\n",
       "    <tr>\n",
       "      <th>3</th>\n",
       "      <td>1</td>\n",
       "      <td>115</td>\n",
       "      <td>0.418436</td>\n",
       "      <td>1</td>\n",
       "      <td>16000.0</td>\n",
       "      <td>False</td>\n",
       "      <td>1</td>\n",
       "      <td>190170</td>\n",
       "      <td>0.680000</td>\n",
       "      <td>2.0</td>\n",
       "      <td>25.0</td>\n",
       "      <td>True</td>\n",
       "      <td>26</td>\n",
       "      <td>26</td>\n",
       "    </tr>\n",
       "    <tr>\n",
       "      <th>4</th>\n",
       "      <td>1</td>\n",
       "      <td>115</td>\n",
       "      <td>0.474545</td>\n",
       "      <td>1</td>\n",
       "      <td>20000.0</td>\n",
       "      <td>False</td>\n",
       "      <td>1</td>\n",
       "      <td>56707</td>\n",
       "      <td>0.692308</td>\n",
       "      <td>2.0</td>\n",
       "      <td>26.0</td>\n",
       "      <td>True</td>\n",
       "      <td>27</td>\n",
       "      <td>27</td>\n",
       "    </tr>\n",
       "  </tbody>\n",
       "</table>\n",
       "</div>"
      ],
      "text/plain": [
       "   timestamp  user_id  content_id  answered_correctly  \\\n",
       "0          1      115    0.687217                   0   \n",
       "1          1      115    0.608222                   0   \n",
       "2          1      115    0.601824                   1   \n",
       "3          1      115    0.418436                   1   \n",
       "4          1      115    0.474545                   1   \n",
       "\n",
       "   prior_question_elapsed_time  prior_question_had_explanation  part  \\\n",
       "0                      19000.0                           False     1   \n",
       "1                      21000.0                           False     1   \n",
       "2                      22000.0                           False     1   \n",
       "3                      16000.0                           False     1   \n",
       "4                      20000.0                           False     1   \n",
       "\n",
       "   content_count  user_correctness  reading_part_count  listening_part_count  \\\n",
       "0          36674          0.727273                 2.0                  22.0   \n",
       "1          47047          0.695652                 2.0                  23.0   \n",
       "2          40452          0.666667                 2.0                  24.0   \n",
       "3         190170          0.680000                 2.0                  25.0   \n",
       "4          56707          0.692308                 2.0                  26.0   \n",
       "\n",
       "   first_attempt  count  count_inday  \n",
       "0           True     23           23  \n",
       "1           True     24           24  \n",
       "2           True     25           25  \n",
       "3           True     26           26  \n",
       "4           True     27           27  "
      ]
     },
     "execution_count": 21,
     "metadata": {},
     "output_type": "execute_result"
    }
   ],
   "source": [
    "train_df.head()"
   ]
  },
  {
   "cell_type": "markdown",
   "metadata": {
    "papermill": {
     "duration": 0.023743,
     "end_time": "2020-12-02T08:45:42.592093",
     "exception": false,
     "start_time": "2020-12-02T08:45:42.568350",
     "status": "completed"
    },
    "tags": []
   },
   "source": [
    "# Train"
   ]
  },
  {
   "cell_type": "code",
   "execution_count": 22,
   "metadata": {
    "execution": {
     "iopub.execute_input": "2020-12-02T08:45:42.653152Z",
     "iopub.status.busy": "2020-12-02T08:45:42.652193Z",
     "iopub.status.idle": "2020-12-02T08:45:42.658675Z",
     "shell.execute_reply": "2020-12-02T08:45:42.659523Z"
    },
    "papermill": {
     "duration": 0.043578,
     "end_time": "2020-12-02T08:45:42.659742",
     "exception": false,
     "start_time": "2020-12-02T08:45:42.616164",
     "status": "completed"
    },
    "tags": []
   },
   "outputs": [
    {
     "name": "stdout",
     "output_type": "stream",
     "text": [
      "12\n"
     ]
    }
   ],
   "source": [
    "features = [\n",
    "    'content_id',\n",
    "    'prior_question_elapsed_time',\n",
    "    'prior_question_had_explanation',\n",
    "    'user_correctness',\n",
    "    'part',\n",
    "    'content_count',\n",
    "    'count',\n",
    "    'reading_part_count',\n",
    "    'listening_part_count',\n",
    "    'first_attempt',\n",
    "    'timestamp',\n",
    "    'count_inday'\n",
    "]\n",
    "\n",
    "params = {\n",
    "    'objective': 'binary',\n",
    "    'seed': 42,\n",
    "    'metric': 'auc',\n",
    "    'learning_rate': 0.05,\n",
    "    'max_bin': 800,\n",
    "    'num_leaves': 80\n",
    "}\n",
    "print(len(features))"
   ]
  },
  {
   "cell_type": "code",
   "execution_count": 23,
   "metadata": {
    "execution": {
     "iopub.execute_input": "2020-12-02T08:45:42.837771Z",
     "iopub.status.busy": "2020-12-02T08:45:42.800722Z",
     "iopub.status.idle": "2020-12-02T09:53:55.145027Z",
     "shell.execute_reply": "2020-12-02T09:53:55.146434Z"
    },
    "papermill": {
     "duration": 4092.44996,
     "end_time": "2020-12-02T09:53:55.146696",
     "exception": false,
     "start_time": "2020-12-02T08:45:42.696736",
     "status": "completed"
    },
    "tags": []
   },
   "outputs": [
    {
     "name": "stdout",
     "output_type": "stream",
     "text": [
      "Training until validation scores don't improve for 50 rounds\n",
      "[50]\ttraining's auc: 0.756888\tvalid_1's auc: 0.741381\n",
      "[100]\ttraining's auc: 0.759258\tvalid_1's auc: 0.744375\n",
      "[150]\ttraining's auc: 0.760377\tvalid_1's auc: 0.745566\n",
      "[200]\ttraining's auc: 0.760927\tvalid_1's auc: 0.745966\n",
      "[250]\ttraining's auc: 0.761319\tvalid_1's auc: 0.746185\n",
      "[300]\ttraining's auc: 0.761666\tvalid_1's auc: 0.746388\n",
      "[350]\ttraining's auc: 0.761981\tvalid_1's auc: 0.746509\n",
      "[400]\ttraining's auc: 0.762305\tvalid_1's auc: 0.746654\n",
      "[450]\ttraining's auc: 0.762577\tvalid_1's auc: 0.746751\n",
      "[500]\ttraining's auc: 0.762839\tvalid_1's auc: 0.746842\n",
      "[550]\ttraining's auc: 0.7631\tvalid_1's auc: 0.746914\n",
      "[600]\ttraining's auc: 0.763359\tvalid_1's auc: 0.746994\n",
      "[650]\ttraining's auc: 0.763574\tvalid_1's auc: 0.747029\n",
      "[700]\ttraining's auc: 0.763814\tvalid_1's auc: 0.747089\n",
      "[750]\ttraining's auc: 0.764052\tvalid_1's auc: 0.747144\n",
      "[800]\ttraining's auc: 0.764297\tvalid_1's auc: 0.747195\n",
      "[850]\ttraining's auc: 0.764522\tvalid_1's auc: 0.747231\n",
      "[900]\ttraining's auc: 0.764748\tvalid_1's auc: 0.747267\n",
      "[950]\ttraining's auc: 0.764971\tvalid_1's auc: 0.747304\n",
      "[1000]\ttraining's auc: 0.765196\tvalid_1's auc: 0.747347\n",
      "[1050]\ttraining's auc: 0.765424\tvalid_1's auc: 0.747381\n",
      "[1100]\ttraining's auc: 0.765645\tvalid_1's auc: 0.74741\n",
      "[1150]\ttraining's auc: 0.76585\tvalid_1's auc: 0.747433\n",
      "[1200]\ttraining's auc: 0.766071\tvalid_1's auc: 0.747461\n",
      "[1250]\ttraining's auc: 0.766256\tvalid_1's auc: 0.747478\n",
      "[1300]\ttraining's auc: 0.76647\tvalid_1's auc: 0.747507\n",
      "[1350]\ttraining's auc: 0.766694\tvalid_1's auc: 0.747555\n",
      "[1400]\ttraining's auc: 0.7669\tvalid_1's auc: 0.747582\n",
      "[1450]\ttraining's auc: 0.767123\tvalid_1's auc: 0.747598\n",
      "[1500]\ttraining's auc: 0.767322\tvalid_1's auc: 0.747614\n",
      "[1550]\ttraining's auc: 0.767529\tvalid_1's auc: 0.747642\n",
      "[1600]\ttraining's auc: 0.767725\tvalid_1's auc: 0.747651\n",
      "[1650]\ttraining's auc: 0.767902\tvalid_1's auc: 0.747661\n",
      "[1700]\ttraining's auc: 0.768107\tvalid_1's auc: 0.74768\n",
      "[1750]\ttraining's auc: 0.768299\tvalid_1's auc: 0.747694\n",
      "[1800]\ttraining's auc: 0.768489\tvalid_1's auc: 0.747709\n",
      "[1850]\ttraining's auc: 0.768693\tvalid_1's auc: 0.747722\n",
      "[1900]\ttraining's auc: 0.768874\tvalid_1's auc: 0.747724\n",
      "[1950]\ttraining's auc: 0.769045\tvalid_1's auc: 0.747727\n",
      "[2000]\ttraining's auc: 0.769223\tvalid_1's auc: 0.747739\n",
      "[2050]\ttraining's auc: 0.769417\tvalid_1's auc: 0.74775\n",
      "[2100]\ttraining's auc: 0.769608\tvalid_1's auc: 0.747758\n",
      "[2150]\ttraining's auc: 0.769797\tvalid_1's auc: 0.747766\n",
      "[2200]\ttraining's auc: 0.769987\tvalid_1's auc: 0.747782\n",
      "[2250]\ttraining's auc: 0.770212\tvalid_1's auc: 0.747798\n",
      "[2300]\ttraining's auc: 0.770396\tvalid_1's auc: 0.747807\n",
      "[2350]\ttraining's auc: 0.770578\tvalid_1's auc: 0.747809\n",
      "[2400]\ttraining's auc: 0.770764\tvalid_1's auc: 0.747829\n",
      "[2450]\ttraining's auc: 0.770943\tvalid_1's auc: 0.747831\n",
      "[2500]\ttraining's auc: 0.771121\tvalid_1's auc: 0.747827\n",
      "Early stopping, best iteration is:\n",
      "[2467]\ttraining's auc: 0.771009\tvalid_1's auc: 0.747834\n"
     ]
    },
    {
     "data": {
      "image/png": "[encoded data removed]",
      "text/plain": [
       "<Figure size 432x288 with 1 Axes>"
      ]
     },
     "metadata": {
      "needs_background": "light"
     },
     "output_type": "display_data"
    }
   ],
   "source": [
    "tr_data = lgb.Dataset(train_df[features], label=train_df[target])\n",
    "va_data = lgb.Dataset(valid_df[features], label=valid_df[target])\n",
    "\n",
    "model = lgb.train(\n",
    "    params, \n",
    "    tr_data, \n",
    "    num_boost_round=10000,\n",
    "    valid_sets=[tr_data, va_data], \n",
    "    early_stopping_rounds=50,\n",
    "    verbose_eval=50\n",
    ")\n",
    "\n",
    "lgb.plot_importance(model, importance_type='gain')\n",
    "plt.show()"
   ]
  },
  {
   "cell_type": "markdown",
   "metadata": {
    "papermill": {
     "duration": 0.0611,
     "end_time": "2020-12-02T09:53:55.266959",
     "exception": false,
     "start_time": "2020-12-02T09:53:55.205859",
     "status": "completed"
    },
    "tags": []
   },
   "source": [
    "# Inference"
   ]
  },
  {
   "cell_type": "code",
   "execution_count": 24,
   "metadata": {
    "execution": {
     "iopub.execute_input": "2020-12-02T09:53:55.408106Z",
     "iopub.status.busy": "2020-12-02T09:53:55.407302Z",
     "iopub.status.idle": "2020-12-02T09:53:55.410257Z",
     "shell.execute_reply": "2020-12-02T09:53:55.409557Z"
    },
    "papermill": {
     "duration": 0.077598,
     "end_time": "2020-12-02T09:53:55.410413",
     "exception": false,
     "start_time": "2020-12-02T09:53:55.332815",
     "status": "completed"
    },
    "tags": []
   },
   "outputs": [],
   "source": [
    "env = riiideducation.make_env()\n",
    "iter_test = env.iter_test()\n",
    "prior_test_df = None"
   ]
  },
  {
   "cell_type": "code",
   "execution_count": 25,
   "metadata": {
    "execution": {
     "iopub.execute_input": "2020-12-02T09:53:55.557391Z",
     "iopub.status.busy": "2020-12-02T09:53:55.551484Z",
     "iopub.status.idle": "2020-12-02T09:53:56.146379Z",
     "shell.execute_reply": "2020-12-02T09:53:56.145476Z"
    },
    "papermill": {
     "duration": 0.671104,
     "end_time": "2020-12-02T09:53:56.146524",
     "exception": false,
     "start_time": "2020-12-02T09:53:55.475420",
     "status": "completed"
    },
    "tags": []
   },
   "outputs": [
    {
     "name": "stdout",
     "output_type": "stream",
     "text": [
      "CPU times: user 1.16 s, sys: 49.1 ms, total: 1.21 s\n",
      "Wall time: 585 ms\n"
     ]
    }
   ],
   "source": [
    "%%time\n",
    "\n",
    "for (test_df, sample_prediction_df) in iter_test:\n",
    "    if prior_test_df is not None:\n",
    "        prior_test_df[target] = eval(test_df['prior_group_answers_correct'].iloc[0])\n",
    "        prior_test_df = prior_test_df[prior_test_df[target] != -1].reset_index(drop=True)\n",
    "        \n",
    "        user_ids = prior_test_df['user_id'].values\n",
    "        content_ids = prior_test_df['content_id'].values\n",
    "        targets = prior_test_df[target].values\n",
    "        parts = prior_part_arrays\n",
    "        \n",
    "        for user_id, content_id, answered_correctly, part in zip(user_ids, content_ids, targets, parts):\n",
    "            user_sum_dict[user_id] += answered_correctly\n",
    "            user_count_dict[user_id] += 1\n",
    "            content_sum_dict[content_id] += answered_correctly\n",
    "            content_count_dict[content_id] += 1\n",
    "            if part <=4:\n",
    "                user_listening_dict[user_id] +=1\n",
    "            else:\n",
    "                user_reading_dict[user_id] +=1\n",
    "\n",
    "    prior_test_df = test_df.copy()\n",
    "    \n",
    "    test_df = test_df[test_df['content_type_id'] == 0].reset_index(drop=True)\n",
    "    test_df = pd.merge(test_df, questions_df, left_on='content_id', right_on='question_id', how='left', right_index=True).reset_index(drop=True)\n",
    "    test_df['prior_question_had_explanation'] = test_df['prior_question_had_explanation'].fillna(False).astype('bool')    \n",
    "    test_df['timestamp'] = (test_df['timestamp'] // 86400000) + 1\n",
    "    \n",
    "    prior_part_arrays = test_df['part'].values\n",
    "    \n",
    "    user_sum = np.zeros(len(test_df), dtype=np.int16)\n",
    "    user_count = np.zeros(len(test_df), dtype=np.int16)\n",
    "    content_sum = np.zeros(len(test_df), dtype=np.int32)\n",
    "    content_count = np.zeros(len(test_df), dtype=np.int32)\n",
    "    listening_count = np.zeros(len(test_df), dtype=np.int32)\n",
    "    reading_count = np.zeros(len(test_df), dtype=np.int32)\n",
    "    user_count_inday = np.zeros(len(test_df), dtype=np.int32)\n",
    "    first_attempt_values = []\n",
    "    \n",
    "    for i, (user_id, content_id, timestamp) in enumerate(zip(test_df['user_id'].values, test_df['content_id'].values, test_df['timestamp'].values)):\n",
    "        user_sum[i] = user_sum_dict[user_id]\n",
    "        user_count[i] = user_count_dict[user_id]\n",
    "        content_sum[i] = content_sum_dict[content_id]\n",
    "        content_count[i] = content_count_dict[content_id]\n",
    "        listening_count[i] = user_listening_dict[user_id]\n",
    "        reading_count[i] = user_reading_dict[user_id]\n",
    "        first_attempt_values.append(user_content_dict[user_id][content_id])\n",
    "        user_content_dict[user_id][content_id] = False \n",
    "        if user_timestamp_dict[user_id] == timestamp:\n",
    "            user_count_inday_dict[user_id] += 1\n",
    "        else:\n",
    "            user_count_inday_dict[user_id] = 1\n",
    "            user_timestamp_dict[user_id] = timestamp\n",
    "        user_count_inday[i] = user_count_inday_dict[user_id]\n",
    "            \n",
    "    test_df['user_correctness'] = user_sum / user_count\n",
    "    test_df['content_count'] = content_count\n",
    "    test_df['content_id'] = content_sum / content_count\n",
    "    test_df['count'] = 1\n",
    "    test_df['count'] = test_df.groupby(\"user_id\")[\"count\"].cumsum()\n",
    "    test_df['count'] += user_count\n",
    "    test_df['reading_part_count'] = reading_count\n",
    "    test_df['listening_part_count'] = listening_count\n",
    "    test_df[\"first_attempt\"] = first_attempt_values\n",
    "    test_df['count_inday'] = user_count_inday\n",
    " \n",
    "    test_df[target] = model.predict(test_df[features])\n",
    "    env.predict(test_df[['row_id', target]])"
   ]
  },
  {
   "cell_type": "code",
   "execution_count": null,
   "metadata": {
    "papermill": {
     "duration": 0.065136,
     "end_time": "2020-12-02T09:53:56.278374",
     "exception": false,
     "start_time": "2020-12-02T09:53:56.213238",
     "status": "completed"
    },
    "tags": []
   },
   "outputs": [],
   "source": []
  }
 ],
 "metadata": {
  "kernelspec": {
   "display_name": "Python 3",
   "language": "python",
   "name": "python3"
  },
  "language_info": {
   "codemirror_mode": {
    "name": "ipython",
    "version": 3
   },
   "file_extension": ".py",
   "mimetype": "text/x-python",
   "name": "python",
   "nbconvert_exporter": "python",
   "pygments_lexer": "ipython3",
   "version": "3.7.6"
  },
  "papermill": {
   "duration": 4530.947092,
   "end_time": "2020-12-02T09:53:56.557510",
   "environment_variables": {},
   "exception": null,
   "input_path": "__notebook__.ipynb",
   "output_path": "__notebook__.ipynb",
   "parameters": {},
   "start_time": "2020-12-02T08:38:25.610418",
   "version": "2.1.0"
  }
 },
 "nbformat": 4,
 "nbformat_minor": 4
}
