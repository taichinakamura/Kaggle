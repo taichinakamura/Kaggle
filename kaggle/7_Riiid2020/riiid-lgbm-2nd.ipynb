{
 "cells": [
  {
   "cell_type": "markdown",
   "metadata": {
    "papermill": {
     "duration": 0.019439,
     "end_time": "2020-12-19T00:23:17.499848",
     "exception": false,
     "start_time": "2020-12-19T00:23:17.480409",
     "status": "completed"
    },
    "tags": []
   },
   "source": [
    "- focus on this part count and create part ratio (= cut 5 features) from version 45\n",
    "- modify mistake in version 50"
   ]
  },
  {
   "cell_type": "code",
   "execution_count": 1,
   "metadata": {
    "_cell_guid": "b1076dfc-b9ad-4769-8c92-a6c4dae69d19",
    "_uuid": "8f2839f25d086af736a60e9eeb907d3b93b6e0e5",
    "execution": {
     "iopub.execute_input": "2020-12-19T00:23:17.539492Z",
     "iopub.status.busy": "2020-12-19T00:23:17.538861Z",
     "iopub.status.idle": "2020-12-19T00:23:46.819906Z",
     "shell.execute_reply": "2020-12-19T00:23:46.819033Z"
    },
    "papermill": {
     "duration": 29.301868,
     "end_time": "2020-12-19T00:23:46.820053",
     "exception": false,
     "start_time": "2020-12-19T00:23:17.518185",
     "status": "completed"
    },
    "tags": []
   },
   "outputs": [],
   "source": [
    "!pip install ../input/python-datatable/datatable-0.11.0-cp37-cp37m-manylinux2010_x86_64.whl > /dev/null 2>&1"
   ]
  },
  {
   "cell_type": "code",
   "execution_count": 2,
   "metadata": {
    "_cell_guid": "79c7e3d0-c299-4dcb-8224-4455121ee9b0",
    "_uuid": "d629ff2d2480ee46fbb7e2d37f6b5fab8052498a",
    "execution": {
     "iopub.execute_input": "2020-12-19T00:23:46.867378Z",
     "iopub.status.busy": "2020-12-19T00:23:46.866456Z",
     "iopub.status.idle": "2020-12-19T00:23:49.047416Z",
     "shell.execute_reply": "2020-12-19T00:23:49.048006Z"
    },
    "papermill": {
     "duration": 2.208816,
     "end_time": "2020-12-19T00:23:49.048153",
     "exception": false,
     "start_time": "2020-12-19T00:23:46.839337",
     "status": "completed"
    },
    "tags": []
   },
   "outputs": [
    {
     "data": {
      "text/html": [
       "<style type='text/css'>\n",
       ".datatable table.frame { margin-bottom: 0; }\n",
       ".datatable table.frame thead { border-bottom: none; }\n",
       ".datatable table.frame tr.coltypes td {  color: #FFFFFF;  line-height: 6px;  padding: 0 0.5em;}\n",
       ".datatable .bool    { background: #DDDD99; }\n",
       ".datatable .object  { background: #565656; }\n",
       ".datatable .int     { background: #5D9E5D; }\n",
       ".datatable .float   { background: #4040CC; }\n",
       ".datatable .str     { background: #CC4040; }\n",
       ".datatable .row_index {  background: var(--jp-border-color3);  border-right: 1px solid var(--jp-border-color0);  color: var(--jp-ui-font-color3);  font-size: 9px;}\n",
       ".datatable .frame tr.coltypes .row_index {  background: var(--jp-border-color0);}\n",
       ".datatable th:nth-child(2) { padding-left: 12px; }\n",
       ".datatable .hellipsis {  color: var(--jp-cell-editor-border-color);}\n",
       ".datatable .vellipsis {  background: var(--jp-layout-color0);  color: var(--jp-cell-editor-border-color);}\n",
       ".datatable .na {  color: var(--jp-cell-editor-border-color);  font-size: 80%;}\n",
       ".datatable .footer { font-size: 9px; }\n",
       ".datatable .frame_dimensions {  background: var(--jp-border-color3);  border-top: 1px solid var(--jp-border-color0);  color: var(--jp-ui-font-color3);  display: inline-block;  opacity: 0.6;  padding: 1px 10px 1px 5px;}\n",
       ".datatable .frame thead tr.colnames {  background-image: url('data:image/png;base64,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');  background-repeat: repeat-x;  background-size: 14px;  height: 28px;}\n",
       "</style>\n"
      ],
      "text/plain": [
       "<IPython.core.display.HTML object>"
      ]
     },
     "metadata": {},
     "output_type": "display_data"
    },
    {
     "name": "stderr",
     "output_type": "stream",
     "text": [
      "/opt/conda/lib/python3.7/site-packages/ipykernel_launcher.py:13: TqdmDeprecationWarning: This function will be removed in tqdm==5.0.0\n",
      "Please use `tqdm.notebook.*` instead of `tqdm._tqdm_notebook.*`\n",
      "  del sys.path[0]\n",
      "/opt/conda/lib/python3.7/site-packages/tqdm/std.py:666: FutureWarning: The Panel class is removed from pandas. Accessing it from the top-level namespace will also be removed in the next version\n",
      "  from pandas import Panel\n"
     ]
    }
   ],
   "source": [
    "import gc\n",
    "import numpy as np\n",
    "import pandas as pd\n",
    "from collections import defaultdict\n",
    "import datatable as dt\n",
    "import lightgbm as lgb\n",
    "from matplotlib import pyplot as plt\n",
    "import riiideducation\n",
    "from bitarray import bitarray\n",
    "from functools import partial\n",
    "import pickle\n",
    "\n",
    "from tqdm._tqdm_notebook import tqdm_notebook\n",
    "from numba import jit\n",
    "import random\n",
    "\n",
    "tqdm_notebook.pandas(desc=\"progress: \")\n",
    "\n",
    "_ = np.seterr(divide='ignore', invalid='ignore')\n",
    "pd.set_option(\"max_rows\", 100)\n",
    "pd.set_option(\"max_columns\", 100)\n",
    "\n",
    "random.seed(1)"
   ]
  },
  {
   "cell_type": "code",
   "execution_count": 3,
   "metadata": {
    "execution": {
     "iopub.execute_input": "2020-12-19T00:23:49.100730Z",
     "iopub.status.busy": "2020-12-19T00:23:49.095913Z",
     "iopub.status.idle": "2020-12-19T00:23:49.103782Z",
     "shell.execute_reply": "2020-12-19T00:23:49.103148Z"
    },
    "papermill": {
     "duration": 0.035754,
     "end_time": "2020-12-19T00:23:49.103896",
     "exception": false,
     "start_time": "2020-12-19T00:23:49.068142",
     "status": "completed"
    },
    "tags": []
   },
   "outputs": [],
   "source": [
    "def make_bitarray():\n",
    "    a = bitarray(32737, endian='little')\n",
    "    a.setall(True)   \n",
    "    return a\n",
    "\n",
    "def clear_mem():\n",
    "    %reset -f out\n",
    "    %reset -f in\n",
    "    gc.collect()\n",
    "    \n",
    "@jit\n",
    "def accuracy_last7(A):\n",
    "    ans = []\n",
    "    for i in range(len(A)):\n",
    "        if i < 7:\n",
    "            ans.append(np.nan)\n",
    "        else:\n",
    "            ans.append(np.mean(A[i-7:i]))       \n",
    "    return np.array(ans)"
   ]
  },
  {
   "cell_type": "code",
   "execution_count": 4,
   "metadata": {
    "execution": {
     "iopub.execute_input": "2020-12-19T00:23:49.147644Z",
     "iopub.status.busy": "2020-12-19T00:23:49.147051Z",
     "iopub.status.idle": "2020-12-19T00:23:49.150529Z",
     "shell.execute_reply": "2020-12-19T00:23:49.149953Z"
    },
    "papermill": {
     "duration": 0.027025,
     "end_time": "2020-12-19T00:23:49.150670",
     "exception": false,
     "start_time": "2020-12-19T00:23:49.123645",
     "status": "completed"
    },
    "tags": []
   },
   "outputs": [],
   "source": [
    "FULL_TRAIN = False\n",
    "CV_SCHEME = \"original\" #\"time\""
   ]
  },
  {
   "cell_type": "markdown",
   "metadata": {
    "papermill": {
     "duration": 0.020104,
     "end_time": "2020-12-19T00:23:49.191549",
     "exception": false,
     "start_time": "2020-12-19T00:23:49.171445",
     "status": "completed"
    },
    "tags": []
   },
   "source": [
    "# Preprocess"
   ]
  },
  {
   "cell_type": "code",
   "execution_count": 5,
   "metadata": {
    "execution": {
     "iopub.execute_input": "2020-12-19T00:23:49.236157Z",
     "iopub.status.busy": "2020-12-19T00:23:49.235547Z",
     "iopub.status.idle": "2020-12-19T00:23:49.238367Z",
     "shell.execute_reply": "2020-12-19T00:23:49.237924Z"
    },
    "papermill": {
     "duration": 0.026941,
     "end_time": "2020-12-19T00:23:49.238489",
     "exception": false,
     "start_time": "2020-12-19T00:23:49.211548",
     "status": "completed"
    },
    "tags": []
   },
   "outputs": [],
   "source": [
    "data_types_dict = {\n",
    "    #'row_id': 'uint32',\n",
    "    'timestamp': 'int64',\n",
    "    'user_id': 'int32', \n",
    "    'content_id': 'int16', \n",
    "    #'content_type_id': 'int8',\n",
    "    'answered_correctly': 'int8', \n",
    "    'prior_question_elapsed_time': 'float32', \n",
    "    'prior_question_had_explanation': 'bool',\n",
    "}\n",
    "target = 'answered_correctly'"
   ]
  },
  {
   "cell_type": "code",
   "execution_count": 6,
   "metadata": {
    "execution": {
     "iopub.execute_input": "2020-12-19T00:23:49.283316Z",
     "iopub.status.busy": "2020-12-19T00:23:49.282678Z",
     "iopub.status.idle": "2020-12-19T00:25:21.372471Z",
     "shell.execute_reply": "2020-12-19T00:25:21.373160Z"
    },
    "papermill": {
     "duration": 92.115143,
     "end_time": "2020-12-19T00:25:21.373306",
     "exception": false,
     "start_time": "2020-12-19T00:23:49.258163",
     "status": "completed"
    },
    "tags": []
   },
   "outputs": [],
   "source": [
    "train_df = dt.fread('../input/riiid-test-answer-prediction/train.csv', columns=set(data_types_dict.keys())).to_pandas()"
   ]
  },
  {
   "cell_type": "code",
   "execution_count": 7,
   "metadata": {
    "execution": {
     "iopub.execute_input": "2020-12-19T00:25:21.417899Z",
     "iopub.status.busy": "2020-12-19T00:25:21.417217Z",
     "iopub.status.idle": "2020-12-19T00:25:48.043535Z",
     "shell.execute_reply": "2020-12-19T00:25:48.042487Z"
    },
    "papermill": {
     "duration": 26.649914,
     "end_time": "2020-12-19T00:25:48.043698",
     "exception": false,
     "start_time": "2020-12-19T00:25:21.393784",
     "status": "completed"
    },
    "tags": []
   },
   "outputs": [],
   "source": [
    "train_df = train_df[train_df[target] != -1].reset_index(drop=True)\n",
    "\n",
    "train_df['prior_question_had_explanation'].fillna(False, inplace=True)\n",
    "train_df['prior_question_elapsed_time'].fillna(0, inplace=True)\n",
    "\n",
    "train_df['day_timestamp'] = (train_df['timestamp'] // 86400000) + 1 # days from start\n",
    "train_df = train_df.astype(data_types_dict)"
   ]
  },
  {
   "cell_type": "code",
   "execution_count": 8,
   "metadata": {
    "execution": {
     "iopub.execute_input": "2020-12-19T00:25:48.093956Z",
     "iopub.status.busy": "2020-12-19T00:25:48.092883Z",
     "iopub.status.idle": "2020-12-19T00:25:55.561657Z",
     "shell.execute_reply": "2020-12-19T00:25:55.562164Z"
    },
    "papermill": {
     "duration": 7.498291,
     "end_time": "2020-12-19T00:25:55.562304",
     "exception": false,
     "start_time": "2020-12-19T00:25:48.064013",
     "status": "completed"
    },
    "tags": []
   },
   "outputs": [],
   "source": [
    "if CV_SCHEME==\"time\":\n",
    "    max_timestamp_u = train_df[['user_id','timestamp']].groupby(['user_id']).agg(['max']).reset_index()\n",
    "    max_timestamp_u.columns = ['user_id', 'max_time_stamp']\n",
    "    MAX_TIME_STAMP = max_timestamp_u.max_time_stamp.max()\n",
    "\n",
    "    def rand_time(max_time_stamp):\n",
    "        interval = MAX_TIME_STAMP - max_time_stamp\n",
    "        rand_time_stamp = random.randint(0,interval)\n",
    "        return rand_time_stamp\n",
    "\n",
    "    max_timestamp_u['rand_time_stamp'] = max_timestamp_u.max_time_stamp.apply(rand_time)\n",
    "    train_df = train_df.merge(max_timestamp_u, on='user_id', how='left')\n",
    "    train_df['viretual_time_stamp'] = train_df.timestamp + train_df['rand_time_stamp']\n",
    "\n",
    "    del train_df['max_time_stamp']\n",
    "    del train_df['rand_time_stamp']\n",
    "    del max_timestamp_u\n",
    "\n",
    "    train_index = list(train_df['viretual_time_stamp'].nlargest(10000000).index)\n",
    "\n",
    "else:\n",
    "    if FULL_TRAIN:\n",
    "        train_size = 300\n",
    "    else:\n",
    "        train_size = 24\n",
    "        valid_size = 6\n",
    "    \n",
    "    train_index = list(train_df.groupby('user_id').tail(train_size).index)"
   ]
  },
  {
   "cell_type": "code",
   "execution_count": 9,
   "metadata": {
    "execution": {
     "iopub.execute_input": "2020-12-19T00:25:55.606102Z",
     "iopub.status.busy": "2020-12-19T00:25:55.605410Z",
     "iopub.status.idle": "2020-12-19T00:26:03.528629Z",
     "shell.execute_reply": "2020-12-19T00:26:03.529095Z"
    },
    "papermill": {
     "duration": 7.946773,
     "end_time": "2020-12-19T00:26:03.529254",
     "exception": false,
     "start_time": "2020-12-19T00:25:55.582481",
     "status": "completed"
    },
    "tags": []
   },
   "outputs": [],
   "source": [
    "train_df[\"count\"] = 1\n",
    "\n",
    "# normal cumsum\n",
    "count_array = train_df.groupby(\"user_id\")[\"count\"].cumsum().values\n",
    "count_array = count_array[train_index]\n",
    "train_df.drop(\"count\", axis=1, inplace=True)"
   ]
  },
  {
   "cell_type": "code",
   "execution_count": 10,
   "metadata": {
    "execution": {
     "iopub.execute_input": "2020-12-19T00:26:03.584771Z",
     "iopub.status.busy": "2020-12-19T00:26:03.583813Z",
     "iopub.status.idle": "2020-12-19T00:26:22.854665Z",
     "shell.execute_reply": "2020-12-19T00:26:22.853863Z"
    },
    "papermill": {
     "duration": 19.297783,
     "end_time": "2020-12-19T00:26:22.854794",
     "exception": false,
     "start_time": "2020-12-19T00:26:03.557011",
     "status": "completed"
    },
    "tags": []
   },
   "outputs": [],
   "source": [
    "train_df[\"count_inday\"] = 1\n",
    "count_inday_array = train_df.groupby([\"user_id\",\"day_timestamp\"])[\"count_inday\"].cumsum().values\n",
    "train_df[\"count_inday\"] = count_inday_array\n",
    "\n",
    "user_count_inday_dict = train_df.groupby(\"user_id\").tail(1)[\"count_inday\"].to_dict(defaultdict(int))\n",
    "count_inday_array = count_inday_array[train_index]\n",
    "train_df.drop(\"count_inday\", axis=1, inplace=True)"
   ]
  },
  {
   "cell_type": "code",
   "execution_count": 11,
   "metadata": {
    "execution": {
     "iopub.execute_input": "2020-12-19T00:26:22.901994Z",
     "iopub.status.busy": "2020-12-19T00:26:22.901360Z",
     "iopub.status.idle": "2020-12-19T00:26:31.220427Z",
     "shell.execute_reply": "2020-12-19T00:26:31.219866Z"
    },
    "papermill": {
     "duration": 8.345322,
     "end_time": "2020-12-19T00:26:31.220541",
     "exception": false,
     "start_time": "2020-12-19T00:26:22.875219",
     "status": "completed"
    },
    "tags": []
   },
   "outputs": [],
   "source": [
    "user_day_timestamp_dict = train_df.groupby(\"user_id\").tail(1)[\"day_timestamp\"].to_dict(defaultdict(int))\n",
    "day_timestamp_array = train_df[\"day_timestamp\"].values\n",
    "train_df.drop(\"day_timestamp\", axis=1, inplace=True)\n",
    "day_timestamp_array = day_timestamp_array[train_index]"
   ]
  },
  {
   "cell_type": "code",
   "execution_count": 12,
   "metadata": {
    "execution": {
     "iopub.execute_input": "2020-12-19T00:26:31.270245Z",
     "iopub.status.busy": "2020-12-19T00:26:31.269551Z",
     "iopub.status.idle": "2020-12-19T00:29:11.878839Z",
     "shell.execute_reply": "2020-12-19T00:29:11.878287Z"
    },
    "papermill": {
     "duration": 160.63758,
     "end_time": "2020-12-19T00:29:11.878965",
     "exception": false,
     "start_time": "2020-12-19T00:26:31.241385",
     "status": "completed"
    },
    "tags": []
   },
   "outputs": [
    {
     "name": "stdout",
     "output_type": "stream",
     "text": [
      "Flushing output cache (0 entries)\n",
      "Flushing input history\n",
      "Flushing output cache (0 entries)\n",
      "Flushing input history\n"
     ]
    }
   ],
   "source": [
    "timediff_array = train_df.groupby(\"user_id\")[\"timestamp\"].diff().values\n",
    "timediff_array = timediff_array[train_index]\n",
    "clear_mem()\n",
    "\n",
    "timediff2_array = train_df.groupby(\"user_id\")[\"timestamp\"].diff(2).values\n",
    "timediff2_array = timediff2_array[train_index]\n",
    "clear_mem()\n",
    "\n",
    "user_timestamp_max_dict = train_df.groupby(\"user_id\")[\"timestamp\"].apply(lambda x: x[-2:].values).to_dict(defaultdict(partial(np.ndarray, 0, dtype=\"int64\")))\n",
    "train_df.drop(\"timestamp\", axis=1, inplace=True)\n",
    "timediff_array = np.nan_to_num(timediff_array, nan=-1)\n",
    "timediff2_array = np.nan_to_num(timediff2_array, nan=-1)"
   ]
  },
  {
   "cell_type": "code",
   "execution_count": 13,
   "metadata": {
    "execution": {
     "iopub.execute_input": "2020-12-19T00:29:13.829738Z",
     "iopub.status.busy": "2020-12-19T00:29:12.621896Z",
     "iopub.status.idle": "2020-12-19T00:29:13.868289Z",
     "shell.execute_reply": "2020-12-19T00:29:13.867379Z"
    },
    "papermill": {
     "duration": 1.968094,
     "end_time": "2020-12-19T00:29:13.868473",
     "exception": false,
     "start_time": "2020-12-19T00:29:11.900379",
     "status": "completed"
    },
    "tags": []
   },
   "outputs": [],
   "source": [
    "prior_question_elapsed_time_array = train_df.prior_question_elapsed_time.values\n",
    "train_df.drop(\"prior_question_elapsed_time\", axis =1, inplace=True)\n",
    "prior_question_elapsed_time_array = prior_question_elapsed_time_array[train_index]"
   ]
  },
  {
   "cell_type": "code",
   "execution_count": 14,
   "metadata": {
    "execution": {
     "iopub.execute_input": "2020-12-19T00:29:13.931034Z",
     "iopub.status.busy": "2020-12-19T00:29:13.930415Z",
     "iopub.status.idle": "2020-12-19T00:29:28.733346Z",
     "shell.execute_reply": "2020-12-19T00:29:28.732807Z"
    },
    "papermill": {
     "duration": 14.836106,
     "end_time": "2020-12-19T00:29:28.733467",
     "exception": false,
     "start_time": "2020-12-19T00:29:13.897361",
     "status": "completed"
    },
    "tags": []
   },
   "outputs": [],
   "source": [
    "questions_df = pd.read_csv(\n",
    "    '../input/riiid-test-answer-prediction/questions.csv', \n",
    "    usecols=[0, 3], #4\n",
    "    dtype={'question_id': 'int16', 'part': 'int8'}  #'tags': 'str'\n",
    ")\n",
    "\n",
    "additional_q_df = pd.read_csv('../input/riiid-question-clustering/question_cmnts.csv')\n",
    "questions_df[\"community\"] = additional_q_df[\"community\"].astype('int8')\n",
    "del additional_q_df \n",
    "    \n",
    "train_df = pd.merge(train_df, questions_df, left_on='content_id', right_on='question_id', how='left', right_index=True).reset_index(drop=True)\n",
    "train_df.drop(columns=['question_id'], inplace=True)"
   ]
  },
  {
   "cell_type": "code",
   "execution_count": 15,
   "metadata": {
    "execution": {
     "iopub.execute_input": "2020-12-19T00:29:28.800976Z",
     "iopub.status.busy": "2020-12-19T00:29:28.799680Z",
     "iopub.status.idle": "2020-12-19T00:29:28.805727Z",
     "shell.execute_reply": "2020-12-19T00:29:28.806321Z"
    },
    "papermill": {
     "duration": 0.050975,
     "end_time": "2020-12-19T00:29:28.806508",
     "exception": false,
     "start_time": "2020-12-19T00:29:28.755533",
     "status": "completed"
    },
    "tags": []
   },
   "outputs": [
    {
     "name": "stdout",
     "output_type": "stream",
     "text": [
      "76\n"
     ]
    }
   ],
   "source": [
    "community_num = len(questions_df.community.unique())\n",
    "print(community_num)\n",
    "\n",
    "@jit\n",
    "def tag_accuracy(A, C):\n",
    "    ans = []\n",
    "    community_count = [0] * community_num\n",
    "    community_correct = [0] * community_num\n",
    "    for i in range(len(C)):\n",
    "        if community_count[C[i]]==0:\n",
    "            ans.append(-1)\n",
    "        else:\n",
    "            ans.append(community_correct[C[i]]/community_count[C[i]])\n",
    "        community_count[C[i]] +=1\n",
    "        community_correct[C[i]] += A[i]\n",
    "    return np.array(ans)\n",
    "\n",
    "@jit\n",
    "def tag_correct_last(A, C):\n",
    "    community_correct = [0] * community_num\n",
    "    for i in range(len(C)):\n",
    "        community_correct[C[i]] += A[i]\n",
    "    return np.array(community_correct)\n",
    "\n",
    "@jit\n",
    "def tag_count_last(A, C):\n",
    "    community_count = [0] * community_num\n",
    "    for i in range(len(C)):\n",
    "        community_count[C[i]] +=1\n",
    "    return np.array(community_count)\n",
    "\n",
    "def init_dict():\n",
    "    ans = [0] * community_num\n",
    "    return np.array(ans)"
   ]
  },
  {
   "cell_type": "code",
   "execution_count": 16,
   "metadata": {
    "execution": {
     "iopub.execute_input": "2020-12-19T00:29:28.860491Z",
     "iopub.status.busy": "2020-12-19T00:29:28.859886Z",
     "iopub.status.idle": "2020-12-19T00:31:06.265564Z",
     "shell.execute_reply": "2020-12-19T00:31:06.265063Z"
    },
    "papermill": {
     "duration": 97.437326,
     "end_time": "2020-12-19T00:31:06.265707",
     "exception": false,
     "start_time": "2020-12-19T00:29:28.828381",
     "status": "completed"
    },
    "tags": []
   },
   "outputs": [],
   "source": [
    "#\n",
    "tag_acc_array = train_df.groupby(\"user_id\").apply(lambda x: tag_accuracy(x[\"answered_correctly\"].values, x[\"community\"].values))\n",
    "tag_acc_array = np.hstack(tag_acc_array)\n",
    "tag_acc_array = tag_acc_array[train_index]\n",
    "\n",
    "user_community_count_dict = train_df.groupby(\"user_id\").apply(lambda x: tag_count_last(x[\"answered_correctly\"].values, x[\"community\"].values)).to_dict(defaultdict(init_dict))\n",
    "user_community_correct_dict = train_df.groupby(\"user_id\").apply(lambda x: tag_correct_last(x[\"answered_correctly\"].values, x[\"community\"].values)).to_dict(defaultdict(init_dict))\n",
    "    \n",
    "#\n",
    "community_agg = train_df.groupby('community')[target].agg(['count'])\n",
    "community_count_dict = community_agg['count'].astype('int32').to_dict(defaultdict(int))\n",
    "community_count_array = train_df['community'].map(community_agg['count']).astype('int32').values\n",
    "del community_agg\n",
    "community_count_array = community_count_array[train_index]\n",
    "    \n",
    "community_array = train_df[\"community\"].values\n",
    "community_array = community_array[train_index]\n",
    "train_df.drop('community', axis=1, inplace=True)"
   ]
  },
  {
   "cell_type": "code",
   "execution_count": 17,
   "metadata": {
    "execution": {
     "iopub.execute_input": "2020-12-19T00:31:06.316208Z",
     "iopub.status.busy": "2020-12-19T00:31:06.315600Z",
     "iopub.status.idle": "2020-12-19T00:31:20.042004Z",
     "shell.execute_reply": "2020-12-19T00:31:20.041040Z"
    },
    "papermill": {
     "duration": 13.754615,
     "end_time": "2020-12-19T00:31:20.042128",
     "exception": false,
     "start_time": "2020-12-19T00:31:06.287513",
     "status": "completed"
    },
    "tags": []
   },
   "outputs": [],
   "source": [
    "train_df['lag'] = train_df.groupby('user_id')[target].shift()\n",
    "cum = train_df.groupby('user_id')['lag'].agg(['cumsum', 'cumcount'])\n",
    "user_correctness_array = np.array(cum['cumsum'] / cum['cumcount'])\n",
    "user_correctness_array = user_correctness_array[train_index]\n",
    "train_df.drop(columns=['lag'], inplace=True)\n",
    "del cum"
   ]
  },
  {
   "cell_type": "code",
   "execution_count": 18,
   "metadata": {
    "execution": {
     "iopub.execute_input": "2020-12-19T00:31:20.109429Z",
     "iopub.status.busy": "2020-12-19T00:31:20.108774Z",
     "iopub.status.idle": "2020-12-19T00:32:04.852932Z",
     "shell.execute_reply": "2020-12-19T00:32:04.852252Z"
    },
    "papermill": {
     "duration": 44.787943,
     "end_time": "2020-12-19T00:32:04.853063",
     "exception": false,
     "start_time": "2020-12-19T00:31:20.065120",
     "status": "completed"
    },
    "tags": []
   },
   "outputs": [],
   "source": [
    "@jit\n",
    "def part_count_calc(P):\n",
    "    ans = []\n",
    "    part_count = [0] * 8\n",
    "    for i in range(len(P)):\n",
    "        part_count[P[i]] += 1\n",
    "        ans.append(part_count[P[i]])\n",
    "    return np.array(ans)\n",
    "\n",
    "@jit\n",
    "def part_count_dict_calc(P):\n",
    "    part_count = [0] * 8\n",
    "    for i in range(len(P)):\n",
    "        part_count[P[i]] += 1\n",
    "    return np.array(part_count)\n",
    "\n",
    "def part_dict_init():\n",
    "    ans = [0] * 8\n",
    "    return np.array(ans)\n",
    "\n",
    "part_count_array = train_df.groupby(\"user_id\").apply(lambda x: part_count_calc(x[\"part\"].values))\n",
    "part_count_array = np.hstack(part_count_array)\n",
    "part_count_array = part_count_array[train_index]\n",
    "part_ratio_array = part_count_array / count_array\n",
    "\n",
    "user_part_count_dict = train_df.groupby(\"user_id\").apply(lambda x: part_count_dict_calc(x[\"part\"].values)).to_dict(defaultdict(part_dict_init))\n",
    "\n",
    "part_array = train_df.part.values\n",
    "train_df.drop(\"part\", axis=1, inplace=True)\n",
    "part_array = part_array[train_index]"
   ]
  },
  {
   "cell_type": "code",
   "execution_count": 19,
   "metadata": {
    "execution": {
     "iopub.execute_input": "2020-12-19T00:32:04.907013Z",
     "iopub.status.busy": "2020-12-19T00:32:04.905635Z",
     "iopub.status.idle": "2020-12-19T00:32:26.050442Z",
     "shell.execute_reply": "2020-12-19T00:32:26.049174Z"
    },
    "papermill": {
     "duration": 21.175263,
     "end_time": "2020-12-19T00:32:26.050601",
     "exception": false,
     "start_time": "2020-12-19T00:32:04.875338",
     "status": "completed"
    },
    "tags": []
   },
   "outputs": [],
   "source": [
    "# prior_question_had_explanation_mean\n",
    "train_df['lag'] = train_df.groupby('user_id')['prior_question_had_explanation'].shift().astype(bool)\n",
    "cum = train_df.groupby('user_id')['lag'].agg(['cumsum', 'cumcount'])\n",
    "prior_question_had_explanation_mean_array = np.array(cum['cumsum'] / cum['cumcount'])\n",
    "prior_question_had_explanation_mean_array = prior_question_had_explanation_mean_array[train_index]\n",
    "\n",
    "user_prior_question_had_explanation_sum_agg = train_df.groupby('user_id')[\"prior_question_had_explanation\"].agg(['sum'])\n",
    "user_prior_question_had_explanation_sum_dict = user_prior_question_had_explanation_sum_agg['sum'].astype('int32').to_dict(defaultdict(int))\n",
    "train_df.drop(columns=['lag'], inplace=True)\n",
    "del cum, user_prior_question_had_explanation_sum_agg\n",
    "\n",
    "prior_question_had_explanation_array = train_df.prior_question_had_explanation.values\n",
    "train_df.drop('prior_question_had_explanation', axis=1, inplace=True)\n",
    "prior_question_had_explanation_array = prior_question_had_explanation_array[train_index]"
   ]
  },
  {
   "cell_type": "code",
   "execution_count": 20,
   "metadata": {
    "execution": {
     "iopub.execute_input": "2020-12-19T00:32:26.109789Z",
     "iopub.status.busy": "2020-12-19T00:32:26.109139Z",
     "iopub.status.idle": "2020-12-19T00:33:01.185742Z",
     "shell.execute_reply": "2020-12-19T00:33:01.186223Z"
    },
    "papermill": {
     "duration": 35.112926,
     "end_time": "2020-12-19T00:33:01.186412",
     "exception": false,
     "start_time": "2020-12-19T00:32:26.073486",
     "status": "completed"
    },
    "tags": []
   },
   "outputs": [
    {
     "name": "stdout",
     "output_type": "stream",
     "text": [
      "Flushing output cache (0 entries)\n",
      "Flushing input history\n"
     ]
    }
   ],
   "source": [
    "first_attempt_df = pd.read_csv(\"../input/riiid-additional-data/content_first_attempt.csv\")\n",
    "first_attempt_array = first_attempt_df.first_attempt.values\n",
    "train_df[\"first_attempt\"] = first_attempt_array\n",
    "\n",
    "unique_attempt_array= train_df.groupby(\"user_id\")[\"first_attempt\"].cumsum().values\n",
    "train_df[\"unique_attempt\"] = unique_attempt_array\n",
    "user_unique_agg = train_df.groupby('user_id')[\"unique_attempt\"].agg(['max'])\n",
    "user_unique_dict = user_unique_agg['max'].astype('int32').to_dict(defaultdict(int))\n",
    "\n",
    "first_attempt_array = first_attempt_array[train_index]\n",
    "unique_attempt_array = unique_attempt_array[train_index]\n",
    "train_df.drop(['first_attempt', 'unique_attempt'], axis=1, inplace=True)\n",
    "del first_attempt_df, user_unique_agg\n",
    "\n",
    "clear_mem()"
   ]
  },
  {
   "cell_type": "code",
   "execution_count": 21,
   "metadata": {
    "execution": {
     "iopub.execute_input": "2020-12-19T00:33:01.247915Z",
     "iopub.status.busy": "2020-12-19T00:33:01.247191Z",
     "iopub.status.idle": "2020-12-19T00:33:12.777127Z",
     "shell.execute_reply": "2020-12-19T00:33:12.777552Z"
    },
    "papermill": {
     "duration": 11.566947,
     "end_time": "2020-12-19T00:33:12.777740",
     "exception": false,
     "start_time": "2020-12-19T00:33:01.210793",
     "status": "completed"
    },
    "tags": []
   },
   "outputs": [
    {
     "name": "stdout",
     "output_type": "stream",
     "text": [
      "Flushing output cache (0 entries)\n",
      "Flushing input history\n",
      "Flushing output cache (0 entries)\n",
      "Flushing input history\n"
     ]
    }
   ],
   "source": [
    "user_agg = train_df.groupby('user_id')[target].agg(['sum', 'count'])\n",
    "user_sum_dict = user_agg['sum'].astype('int16').to_dict(defaultdict(int))\n",
    "del user_agg['sum']\n",
    "user_count_dict = user_agg['count'].astype('int16').to_dict(defaultdict(int))\n",
    "del user_agg['count']\n",
    "clear_mem()\n",
    "\n",
    "#\n",
    "content_agg = train_df.groupby('content_id')[target].agg(['sum', 'count'])\n",
    "content_sum_dict = content_agg['sum'].astype('int32').to_dict(defaultdict(int))\n",
    "content_count_dict = content_agg['count'].astype('int32').to_dict(defaultdict(int))\n",
    "\n",
    "content_count_array = train_df['content_id'].map(content_agg['count']).astype('int32').values\n",
    "content_id_array = train_df['content_id'].map(content_agg['sum'] / content_agg['count']).values\n",
    "del content_agg\n",
    "clear_mem()"
   ]
  },
  {
   "cell_type": "code",
   "execution_count": 22,
   "metadata": {
    "execution": {
     "iopub.execute_input": "2020-12-19T00:33:12.828917Z",
     "iopub.status.busy": "2020-12-19T00:33:12.828213Z",
     "iopub.status.idle": "2020-12-19T00:33:15.743586Z",
     "shell.execute_reply": "2020-12-19T00:33:15.742794Z"
    },
    "papermill": {
     "duration": 2.942674,
     "end_time": "2020-12-19T00:33:15.743719",
     "exception": false,
     "start_time": "2020-12-19T00:33:12.801045",
     "status": "completed"
    },
    "tags": []
   },
   "outputs": [
    {
     "name": "stdout",
     "output_type": "stream",
     "text": [
      "Flushing output cache (0 entries)\n",
      "Flushing input history\n"
     ]
    }
   ],
   "source": [
    "# benefit of solving difficult questions\n",
    "point_array = 1 / (content_id_array + 0.1)\n",
    "content_id_array = content_id_array[train_index]\n",
    "content_count_array = content_count_array[train_index]\n",
    "clear_mem()"
   ]
  },
  {
   "cell_type": "code",
   "execution_count": 23,
   "metadata": {
    "execution": {
     "iopub.execute_input": "2020-12-19T00:33:15.825941Z",
     "iopub.status.busy": "2020-12-19T00:33:15.824972Z",
     "iopub.status.idle": "2020-12-19T00:34:57.238891Z",
     "shell.execute_reply": "2020-12-19T00:34:57.239700Z"
    },
    "papermill": {
     "duration": 101.45706,
     "end_time": "2020-12-19T00:34:57.239885",
     "exception": false,
     "start_time": "2020-12-19T00:33:15.782825",
     "status": "completed"
    },
    "tags": []
   },
   "outputs": [
    {
     "name": "stdout",
     "output_type": "stream",
     "text": [
      "CPU times: user 1min 37s, sys: 3.52 s, total: 1min 41s\n",
      "Wall time: 1min 41s\n"
     ]
    }
   ],
   "source": [
    "%%time\n",
    "user_content_agg = train_df.groupby(\"user_id\")[\"content_id\"].unique().reset_index().set_index(\"user_id\")\n",
    "\n",
    "value = []\n",
    "for j in user_content_agg.index:\n",
    "    a = bitarray(32737, endian='little')\n",
    "    a.setall(True)\n",
    "    for i in user_content_agg.loc[j][0]:\n",
    "        a[i] = 0\n",
    "    value.append(a)\n",
    "    \n",
    "user_content_agg[\"content_exp\"] = value\n",
    "user_content_dict = user_content_agg[\"content_exp\"].to_dict(defaultdict(make_bitarray))\n",
    "del user_content_agg, value\n",
    "train_df.drop([\"content_id\"], axis=1, inplace=True)"
   ]
  },
  {
   "cell_type": "code",
   "execution_count": 24,
   "metadata": {
    "execution": {
     "iopub.execute_input": "2020-12-19T00:34:57.295743Z",
     "iopub.status.busy": "2020-12-19T00:34:57.295029Z",
     "iopub.status.idle": "2020-12-19T00:35:21.261726Z",
     "shell.execute_reply": "2020-12-19T00:35:21.262212Z"
    },
    "papermill": {
     "duration": 23.99873,
     "end_time": "2020-12-19T00:35:21.262368",
     "exception": false,
     "start_time": "2020-12-19T00:34:57.263638",
     "status": "completed"
    },
    "tags": []
   },
   "outputs": [
    {
     "name": "stdout",
     "output_type": "stream",
     "text": [
      "Flushing output cache (0 entries)\n",
      "Flushing input history\n"
     ]
    }
   ],
   "source": [
    "###########\n",
    "train_df[\"got_point\"] = point_array * train_df[\"answered_correctly\"].values\n",
    "del point_array\n",
    "user_point_agg = train_df.groupby('user_id')[\"got_point\"].agg(['sum'])\n",
    "user_point_sum_dict = user_point_agg['sum'].astype('float32').to_dict(defaultdict(float))\n",
    "del user_point_agg\n",
    "\n",
    "train_df['lag'] = train_df.groupby('user_id')[\"got_point\"].shift()\n",
    "cum = train_df.groupby('user_id')['lag'].agg(['cumsum', 'cumcount'])\n",
    "got_point_array = np.array(cum['cumsum'] / cum['cumcount'])\n",
    "train_df.drop(columns=['lag', 'got_point'], inplace=True)\n",
    "del cum\n",
    "got_point_array = got_point_array[train_index]\n",
    "clear_mem()"
   ]
  },
  {
   "cell_type": "code",
   "execution_count": 25,
   "metadata": {
    "execution": {
     "iopub.execute_input": "2020-12-19T00:35:21.318207Z",
     "iopub.status.busy": "2020-12-19T00:35:21.317626Z",
     "iopub.status.idle": "2020-12-19T00:36:11.459621Z",
     "shell.execute_reply": "2020-12-19T00:36:11.459018Z"
    },
    "papermill": {
     "duration": 50.17275,
     "end_time": "2020-12-19T00:36:11.459743",
     "exception": false,
     "start_time": "2020-12-19T00:35:21.286993",
     "status": "completed"
    },
    "tags": []
   },
   "outputs": [],
   "source": [
    "answered_correctly_last7_array = train_df.groupby(\"user_id\").apply(lambda x: accuracy_last7(x[\"answered_correctly\"].values))\n",
    "answered_correctly_last7_array = np.hstack(answered_correctly_last7_array)\n",
    "answered_correctly_last7_array = answered_correctly_last7_array[train_index]\n",
    "user_last7_answer_dict = train_df.groupby(\"user_id\")[\"answered_correctly\"].apply(lambda x: \n",
    "                                                                                 x[-7:].values).to_dict(defaultdict(partial(np.ndarray, 0, dtype=\"int8\")))"
   ]
  },
  {
   "cell_type": "code",
   "execution_count": 26,
   "metadata": {
    "execution": {
     "iopub.execute_input": "2020-12-19T00:36:12.603374Z",
     "iopub.status.busy": "2020-12-19T00:36:12.602368Z",
     "iopub.status.idle": "2020-12-19T00:36:12.626347Z",
     "shell.execute_reply": "2020-12-19T00:36:12.625503Z"
    },
    "papermill": {
     "duration": 1.142133,
     "end_time": "2020-12-19T00:36:12.626476",
     "exception": false,
     "start_time": "2020-12-19T00:36:11.484343",
     "status": "completed"
    },
    "tags": []
   },
   "outputs": [],
   "source": [
    "answered_correctly_array = train_df[target].values\n",
    "train_df.drop(target, axis=1, inplace=True)\n",
    "answered_correctly_array = answered_correctly_array[train_index]"
   ]
  },
  {
   "cell_type": "markdown",
   "metadata": {
    "papermill": {
     "duration": 0.024536,
     "end_time": "2020-12-19T00:36:12.676679",
     "exception": false,
     "start_time": "2020-12-19T00:36:12.652143",
     "status": "completed"
    },
    "tags": []
   },
   "source": [
    "# data formation"
   ]
  },
  {
   "cell_type": "code",
   "execution_count": 27,
   "metadata": {
    "execution": {
     "iopub.execute_input": "2020-12-19T00:36:12.776321Z",
     "iopub.status.busy": "2020-12-19T00:36:12.736552Z",
     "iopub.status.idle": "2020-12-19T00:36:23.673041Z",
     "shell.execute_reply": "2020-12-19T00:36:23.672383Z"
    },
    "papermill": {
     "duration": 10.971363,
     "end_time": "2020-12-19T00:36:23.673161",
     "exception": false,
     "start_time": "2020-12-19T00:36:12.701798",
     "status": "completed"
    },
    "tags": []
   },
   "outputs": [],
   "source": [
    "if not FULL_TRAIN:\n",
    "    train_df = train_df[train_df.index.isin(train_index)].reset_index(drop=True)\n",
    "    if CV_SCHEME == \"original\":\n",
    "        valid_index = list(train_df.groupby('user_id').tail(valid_size).index)\n",
    "    else:\n",
    "        valid_index = list(train_df['viretual_time_stamp'].nlargest(2500000).index)\n",
    "    train_index = list(train_df[~train_df.index.isin(valid_index)].index)\n",
    "del train_df"
   ]
  },
  {
   "cell_type": "code",
   "execution_count": 28,
   "metadata": {
    "execution": {
     "iopub.execute_input": "2020-12-19T00:36:23.731691Z",
     "iopub.status.busy": "2020-12-19T00:36:23.730986Z",
     "iopub.status.idle": "2020-12-19T00:36:23.735151Z",
     "shell.execute_reply": "2020-12-19T00:36:23.734335Z"
    },
    "papermill": {
     "duration": 0.036783,
     "end_time": "2020-12-19T00:36:23.735295",
     "exception": false,
     "start_time": "2020-12-19T00:36:23.698512",
     "status": "completed"
    },
    "tags": []
   },
   "outputs": [
    {
     "name": "stdout",
     "output_type": "stream",
     "text": [
      "21\n"
     ]
    }
   ],
   "source": [
    "features_dict = {\n",
    "    'content_id': content_id_array,\n",
    "    'prior_question_elapsed_time': prior_question_elapsed_time_array,\n",
    "    'prior_question_had_explanation':  prior_question_had_explanation_array,\n",
    "    'user_correctness': user_correctness_array,\n",
    "    'part': part_array,\n",
    "    'content_count': content_count_array,\n",
    "    'count': count_array,\n",
    "    'first_attempt': first_attempt_array,\n",
    "    'day_timestamp': day_timestamp_array,\n",
    "    'count_inday': count_inday_array,\n",
    "    'unique_attempt': unique_attempt_array,\n",
    "    'part_count': part_count_array,\n",
    "    'part_ratio': part_ratio_array,\n",
    "    'prior_question_had_explanation_mean': prior_question_had_explanation_mean_array,\n",
    "    'got_point': got_point_array,\n",
    "    'answered_correctly_last7': answered_correctly_last7_array,   \n",
    "    'timediff': timediff_array,\n",
    "    'timediff2': timediff2_array,\n",
    "    'community': community_array,\n",
    "    'tag_acc': tag_acc_array,\n",
    "    'community_count': community_count_array,\n",
    "}\n",
    "\n",
    "features = list(features_dict.keys())\n",
    "print(len(features))\n",
    "\n",
    "del content_count_array, content_id_array, user_correctness_array, \n",
    "del first_attempt_array, count_array, prior_question_had_explanation_mean_array\n",
    "del part_count_array, part_ratio_array\n",
    "del answered_correctly_last7_array, timediff_array, timediff2_array, community_array,\n",
    "del tag_acc_array, community_count_array"
   ]
  },
  {
   "cell_type": "code",
   "execution_count": 29,
   "metadata": {
    "execution": {
     "iopub.execute_input": "2020-12-19T00:36:23.792247Z",
     "iopub.status.busy": "2020-12-19T00:36:23.791673Z",
     "iopub.status.idle": "2020-12-19T00:36:23.794721Z",
     "shell.execute_reply": "2020-12-19T00:36:23.795172Z"
    },
    "papermill": {
     "duration": 0.034118,
     "end_time": "2020-12-19T00:36:23.795302",
     "exception": false,
     "start_time": "2020-12-19T00:36:23.761184",
     "status": "completed"
    },
    "tags": []
   },
   "outputs": [
    {
     "name": "stdout",
     "output_type": "stream",
     "text": [
      "(6536675, 22) (2360984, 22)\n"
     ]
    }
   ],
   "source": [
    "if FULL_TRAIN:\n",
    "    print(len(train_index), len(features)+1)\n",
    "else:\n",
    "    print((len(train_index), len(features)+1), (len(valid_index), len(features)+1))"
   ]
  },
  {
   "cell_type": "markdown",
   "metadata": {
    "papermill": {
     "duration": 0.025193,
     "end_time": "2020-12-19T00:36:23.845781",
     "exception": false,
     "start_time": "2020-12-19T00:36:23.820588",
     "status": "completed"
    },
    "tags": []
   },
   "source": [
    "# Train"
   ]
  },
  {
   "cell_type": "code",
   "execution_count": 30,
   "metadata": {
    "execution": {
     "iopub.execute_input": "2020-12-19T00:36:23.900144Z",
     "iopub.status.busy": "2020-12-19T00:36:23.899512Z",
     "iopub.status.idle": "2020-12-19T00:36:23.903267Z",
     "shell.execute_reply": "2020-12-19T00:36:23.903720Z"
    },
    "papermill": {
     "duration": 0.031943,
     "end_time": "2020-12-19T00:36:23.903849",
     "exception": false,
     "start_time": "2020-12-19T00:36:23.871906",
     "status": "completed"
    },
    "tags": []
   },
   "outputs": [],
   "source": [
    "params = {\n",
    "    'objective': 'binary',\n",
    "    'seed': 42,\n",
    "    'metric': 'auc',\n",
    "    'learning_rate': 0.05,\n",
    "    'max_bin': 800,\n",
    "    'num_leaves': 80\n",
    "}"
   ]
  },
  {
   "cell_type": "code",
   "execution_count": 31,
   "metadata": {
    "execution": {
     "iopub.execute_input": "2020-12-19T00:36:23.959311Z",
     "iopub.status.busy": "2020-12-19T00:36:23.958714Z",
     "iopub.status.idle": "2020-12-19T00:36:41.171584Z",
     "shell.execute_reply": "2020-12-19T00:36:41.170848Z"
    },
    "papermill": {
     "duration": 17.242076,
     "end_time": "2020-12-19T00:36:41.171716",
     "exception": false,
     "start_time": "2020-12-19T00:36:23.929640",
     "status": "completed"
    },
    "tags": []
   },
   "outputs": [],
   "source": [
    "if FULL_TRAIN:\n",
    "    X_train = np.ndarray(shape=(len(train_index), len(features)), dtype=np.float32)\n",
    "\n",
    "    for idx, feature in enumerate(features):\n",
    "        X_train[:,idx] = features_dict[feature].astype(np.float32).reshape(-1)\n",
    "        del features_dict[feature]\n",
    "    y_train = answered_correctly_array.astype(np.float32)\n",
    "    tr_data = lgb.Dataset(X_train, label=y_train)\n",
    "else:\n",
    "    X_train = np.ndarray(shape=(len(train_index), len(features)), dtype=np.float32)\n",
    "    X_valid = np.ndarray(shape=(len(valid_index), len(features)), dtype=np.float32)\n",
    "\n",
    "    for idx, feature in enumerate(features):\n",
    "        X_train[:,idx] = features_dict[feature][train_index].astype(np.float32).reshape(-1)\n",
    "        X_valid[:,idx] = features_dict[feature][valid_index].astype(np.float32).reshape(-1)\n",
    "        del features_dict[feature]\n",
    "    y_train = answered_correctly_array[train_index].astype(np.float32)\n",
    "    y_valid = answered_correctly_array[valid_index].astype(np.float32)\n",
    "\n",
    "    tr_data = lgb.Dataset(X_train, label=y_train)\n",
    "    va_data = lgb.Dataset(X_valid, label=y_valid)"
   ]
  },
  {
   "cell_type": "code",
   "execution_count": 32,
   "metadata": {
    "execution": {
     "iopub.execute_input": "2020-12-19T00:36:41.229818Z",
     "iopub.status.busy": "2020-12-19T00:36:41.229153Z",
     "iopub.status.idle": "2020-12-19T01:32:45.302284Z",
     "shell.execute_reply": "2020-12-19T01:32:45.303467Z"
    },
    "papermill": {
     "duration": 3364.106631,
     "end_time": "2020-12-19T01:32:45.303984",
     "exception": false,
     "start_time": "2020-12-19T00:36:41.197353",
     "status": "completed"
    },
    "tags": []
   },
   "outputs": [
    {
     "name": "stdout",
     "output_type": "stream",
     "text": [
      "training starts\n",
      "Training until validation scores don't improve for 15 rounds\n",
      "[50]\ttraining's auc: 0.764868\tvalid_1's auc: 0.750469\n",
      "[100]\ttraining's auc: 0.769273\tvalid_1's auc: 0.755658\n",
      "[150]\ttraining's auc: 0.771474\tvalid_1's auc: 0.757989\n",
      "[200]\ttraining's auc: 0.772781\tvalid_1's auc: 0.759257\n",
      "[250]\ttraining's auc: 0.773619\tvalid_1's auc: 0.759923\n",
      "[300]\ttraining's auc: 0.774234\tvalid_1's auc: 0.760348\n",
      "[350]\ttraining's auc: 0.774769\tvalid_1's auc: 0.760659\n",
      "[400]\ttraining's auc: 0.775259\tvalid_1's auc: 0.76091\n",
      "[450]\ttraining's auc: 0.775675\tvalid_1's auc: 0.76111\n",
      "[500]\ttraining's auc: 0.776105\tvalid_1's auc: 0.761301\n",
      "[550]\ttraining's auc: 0.776475\tvalid_1's auc: 0.76146\n",
      "[600]\ttraining's auc: 0.776871\tvalid_1's auc: 0.761658\n",
      "[650]\ttraining's auc: 0.777269\tvalid_1's auc: 0.761869\n",
      "[700]\ttraining's auc: 0.777615\tvalid_1's auc: 0.76199\n",
      "[750]\ttraining's auc: 0.77792\tvalid_1's auc: 0.762077\n",
      "[800]\ttraining's auc: 0.778256\tvalid_1's auc: 0.762198\n",
      "[850]\ttraining's auc: 0.778631\tvalid_1's auc: 0.762352\n",
      "[900]\ttraining's auc: 0.778931\tvalid_1's auc: 0.762438\n",
      "[950]\ttraining's auc: 0.779212\tvalid_1's auc: 0.762505\n",
      "[1000]\ttraining's auc: 0.779525\tvalid_1's auc: 0.76259\n",
      "[1050]\ttraining's auc: 0.779815\tvalid_1's auc: 0.76266\n",
      "[1100]\ttraining's auc: 0.780104\tvalid_1's auc: 0.762719\n",
      "[1150]\ttraining's auc: 0.780392\tvalid_1's auc: 0.762787\n",
      "[1200]\ttraining's auc: 0.780685\tvalid_1's auc: 0.762865\n",
      "[1250]\ttraining's auc: 0.780992\tvalid_1's auc: 0.76295\n",
      "[1300]\ttraining's auc: 0.781274\tvalid_1's auc: 0.762999\n",
      "[1350]\ttraining's auc: 0.781562\tvalid_1's auc: 0.763049\n",
      "[1400]\ttraining's auc: 0.781858\tvalid_1's auc: 0.763121\n",
      "[1450]\ttraining's auc: 0.782124\tvalid_1's auc: 0.763174\n",
      "[1500]\ttraining's auc: 0.782409\tvalid_1's auc: 0.763234\n",
      "[1550]\ttraining's auc: 0.78266\tvalid_1's auc: 0.763273\n",
      "[1600]\ttraining's auc: 0.782923\tvalid_1's auc: 0.763316\n",
      "[1650]\ttraining's auc: 0.783165\tvalid_1's auc: 0.763348\n",
      "[1700]\ttraining's auc: 0.783417\tvalid_1's auc: 0.763375\n",
      "[1750]\ttraining's auc: 0.783676\tvalid_1's auc: 0.76341\n",
      "[1800]\ttraining's auc: 0.783924\tvalid_1's auc: 0.763448\n",
      "[1850]\ttraining's auc: 0.784196\tvalid_1's auc: 0.763513\n",
      "[1900]\ttraining's auc: 0.784456\tvalid_1's auc: 0.76355\n",
      "[1950]\ttraining's auc: 0.78471\tvalid_1's auc: 0.763592\n",
      "Did not meet early stopping. Best iteration is:\n",
      "[1950]\ttraining's auc: 0.78471\tvalid_1's auc: 0.763592\n"
     ]
    }
   ],
   "source": [
    "print(\"training starts\")\n",
    "if FULL_TRAIN:\n",
    "    model = lgb.train(\n",
    "        params, \n",
    "        tr_data, \n",
    "        num_boost_round=3500,\n",
    "        valid_sets=None, \n",
    "        )\n",
    "    del X_train, y_train\n",
    "\n",
    "else:\n",
    "    model = lgb.train(\n",
    "        params, \n",
    "        tr_data, \n",
    "        num_boost_round=1950,\n",
    "        valid_sets=[tr_data, va_data], \n",
    "        early_stopping_rounds=15,\n",
    "        verbose_eval=50\n",
    "        )\n",
    "    del X_train, y_train, X_valid, y_valid"
   ]
  },
  {
   "cell_type": "markdown",
   "metadata": {
    "papermill": {
     "duration": 0.05572,
     "end_time": "2020-12-19T01:32:45.414872",
     "exception": false,
     "start_time": "2020-12-19T01:32:45.359152",
     "status": "completed"
    },
    "tags": []
   },
   "source": [
    "# Inference"
   ]
  },
  {
   "cell_type": "code",
   "execution_count": 33,
   "metadata": {
    "execution": {
     "iopub.execute_input": "2020-12-19T01:32:45.507348Z",
     "iopub.status.busy": "2020-12-19T01:32:45.506511Z",
     "iopub.status.idle": "2020-12-19T01:32:45.509656Z",
     "shell.execute_reply": "2020-12-19T01:32:45.509044Z"
    },
    "papermill": {
     "duration": 0.046704,
     "end_time": "2020-12-19T01:32:45.509777",
     "exception": false,
     "start_time": "2020-12-19T01:32:45.463073",
     "status": "completed"
    },
    "tags": []
   },
   "outputs": [],
   "source": [
    "env = riiideducation.make_env()\n",
    "iter_test = env.iter_test()\n",
    "prior_test_df = None"
   ]
  },
  {
   "cell_type": "code",
   "execution_count": 34,
   "metadata": {
    "execution": {
     "iopub.execute_input": "2020-12-19T01:32:45.619521Z",
     "iopub.status.busy": "2020-12-19T01:32:45.611240Z",
     "iopub.status.idle": "2020-12-19T01:32:46.504671Z",
     "shell.execute_reply": "2020-12-19T01:32:46.504014Z"
    },
    "papermill": {
     "duration": 0.949569,
     "end_time": "2020-12-19T01:32:46.504836",
     "exception": false,
     "start_time": "2020-12-19T01:32:45.555267",
     "status": "completed"
    },
    "tags": []
   },
   "outputs": [
    {
     "name": "stdout",
     "output_type": "stream",
     "text": [
      "CPU times: user 1.36 s, sys: 142 ms, total: 1.51 s\n",
      "Wall time: 885 ms\n"
     ]
    }
   ],
   "source": [
    "%%time\n",
    "for (test_df, sample_prediction_df) in iter_test:\n",
    "    if prior_test_df is not None:\n",
    "        prior_test_df[target] = eval(test_df['prior_group_answers_correct'].iloc[0])\n",
    "        prior_test_df = prior_test_df[prior_test_df[target] != -1].reset_index(drop=True)\n",
    "        \n",
    "        user_ids = prior_test_df['user_id'].values\n",
    "        content_ids = prior_test_df['content_id'].values\n",
    "        targets = prior_test_df[target].values\n",
    "         \n",
    "        for user_id, content_id, answered_correctly, first_attempt_ornot, prior_explanation, prior_point, prior_community in zip(user_ids, content_ids, \n",
    "                                                            targets, \n",
    "                                                            prior_f_attempt_arrays,\n",
    "                                                            p_prior_question_had_explanation,\n",
    "                                                            prior_point_array,\n",
    "                                                            prior_community_arrays):\n",
    "            user_sum_dict[user_id] += answered_correctly\n",
    "            user_count_dict[user_id] += 1\n",
    "            content_sum_dict[content_id] += answered_correctly\n",
    "            content_count_dict[content_id] += 1\n",
    "            user_unique_dict[user_id] += first_attempt_ornot\n",
    "            user_prior_question_had_explanation_sum_dict[user_id] += prior_explanation\n",
    "            user_point_sum_dict[user_id] += prior_point * answered_correctly\n",
    "            if len(user_last7_answer_dict[user_id])==7:\n",
    "                user_last7_answer_dict[user_id] = np.concatenate([user_last7_answer_dict[user_id],[answered_correctly]])[1:]\n",
    "            else:\n",
    "                user_last7_answer_dict[user_id] = np.concatenate([user_last7_answer_dict[user_id],[answered_correctly]])\n",
    "            \n",
    "            user_community_correct_dict[user_id][prior_community] += answered_correctly\n",
    "            user_community_count_dict[user_id][prior_community] += 1\n",
    "            community_count_dict[prior_community] += 1\n",
    "            \n",
    "    prior_test_df = test_df.copy()\n",
    "           \n",
    "    test_df = test_df[test_df['content_type_id'] == 0].reset_index(drop=True)\n",
    "    test_df = pd.merge(test_df, questions_df, left_on='content_id', right_on='question_id', how='left', right_index=True).reset_index(drop=True)\n",
    "    test_df['prior_question_had_explanation'] = test_df['prior_question_had_explanation'].fillna(False).astype('bool')\n",
    "    test_df['prior_question_elapsed_time'] = test_df['prior_question_elapsed_time'].fillna(0)\n",
    "    test_df['day_timestamp'] = (test_df['timestamp'] // 86400000) + 1\n",
    "\n",
    "    p_prior_question_had_explanation = test_df['prior_question_had_explanation'].values\n",
    "    prior_community_arrays = test_df['community'].values\n",
    "    \n",
    "    user_sum = np.zeros(len(test_df), dtype=np.int16)\n",
    "    user_count = np.zeros(len(test_df), dtype=np.int16)\n",
    "    content_sum = np.zeros(len(test_df), dtype=np.int32)\n",
    "    content_count = np.zeros(len(test_df), dtype=np.int32)\n",
    "    part_count = np.zeros(len(test_df), dtype=np.int32)\n",
    "    user_count_inday = np.zeros(len(test_df), dtype=np.int32)\n",
    "    first_attempt_values = []\n",
    "    user_unique_count = np.zeros(len(test_df), dtype=np.int32)\n",
    "    user_prior_question_had_explanation_sum = np.zeros(len(test_df), dtype=np.int32)\n",
    "    got_point_array = np.zeros(len(test_df), dtype=np.float32)\n",
    "    user_last7_accuracy_array = np.zeros(len(test_df), dtype=np.float32)\n",
    "    timediff_array = np.zeros(len(test_df), dtype = np.int64)\n",
    "    timediff2_array = np.zeros(len(test_df), dtype = np.int64)\n",
    "    tag_acc_array = np.zeros(len(test_df), dtype=np.float32)\n",
    "    community_count_array = np.zeros(len(test_df), dtype=np.int32)\n",
    "\n",
    "    for i, (user_id, content_id, day_timestamp, timestamp, community, part) in enumerate(zip(test_df['user_id'].values, test_df['content_id'].values,\n",
    "                                                             test_df['day_timestamp'].values,\n",
    "                                                             test_df['timestamp'].values,\n",
    "                                                             test_df['community'].values,\n",
    "                                                             test_df['part'].values)):\n",
    "        user_sum[i] = user_sum_dict[user_id]\n",
    "        user_count[i] = user_count_dict[user_id]\n",
    "        content_sum[i] = content_sum_dict[content_id]\n",
    "        content_count[i] = content_count_dict[content_id]\n",
    "        part_count[i] = user_part_count_dict[user_id][part] + 1\n",
    "        user_part_count_dict[user_id][part] += 1\n",
    "        first_attempt_values.append(user_content_dict[user_id][content_id])\n",
    "        user_content_dict[user_id][content_id] = False \n",
    "        \n",
    "        if user_day_timestamp_dict[user_id] == day_timestamp:\n",
    "            user_count_inday_dict[user_id] += 1\n",
    "        else:\n",
    "            user_count_inday_dict[user_id] = 1\n",
    "            user_day_timestamp_dict[user_id] = day_timestamp\n",
    "            \n",
    "        user_count_inday[i] = user_count_inday_dict[user_id]\n",
    "        user_unique_count[i] = user_unique_dict[user_id]\n",
    "        user_prior_question_had_explanation_sum[i] = user_prior_question_had_explanation_sum_dict[user_id]\n",
    "        got_point_array[i] = user_point_sum_dict[user_id]\n",
    "        \n",
    "        if len(user_last7_answer_dict[user_id])==7:\n",
    "            user_last7_accuracy_array[i] = user_last7_answer_dict[user_id].mean()\n",
    "        else:\n",
    "            user_last7_accuracy_array[i] = np.nan\n",
    "        \n",
    "        if len(user_timestamp_max_dict[user_id]) ==0:\n",
    "            timediff_array[i] = -1\n",
    "            timediff2_array[i] = -1\n",
    "            user_timestamp_max_dict[user_id] = np.concatenate([user_timestamp_max_dict[user_id],[timestamp]])\n",
    "            \n",
    "        elif len(user_timestamp_max_dict[user_id]) ==1:\n",
    "            timediff_array[i] = timestamp - user_timestamp_max_dict[user_id][0]\n",
    "            timediff2_array[i] = -1\n",
    "            user_timestamp_max_dict[user_id] = np.concatenate([user_timestamp_max_dict[user_id],[timestamp]])\n",
    "            \n",
    "        else:\n",
    "            timediff_array[i] = timestamp - user_timestamp_max_dict[user_id][1]\n",
    "            timediff2_array[i] = timestamp - user_timestamp_max_dict[user_id][0]\n",
    "            user_timestamp_max_dict[user_id] = np.concatenate([user_timestamp_max_dict[user_id],[timestamp]])[1:]                     \n",
    "            \n",
    "        if user_community_count_dict[user_id][community] == 0:\n",
    "            tag_acc_array[i] = -1\n",
    "        else:\n",
    "            tag_acc_array[i] = user_community_correct_dict[user_id][community] / user_community_count_dict[user_id][community]\n",
    "            \n",
    "        community_count_array[i] = community_count_dict[community]\n",
    "        \n",
    "    test_df['user_correctness'] = user_sum / user_count\n",
    "    test_df['content_count'] = content_count\n",
    "    test_df['content_id'] = content_sum / content_count\n",
    "    test_df['count'] = 1\n",
    "    test_df['count'] = test_df.groupby(\"user_id\")[\"count\"].cumsum()\n",
    "    test_df['count'] += user_count\n",
    "    test_df['part_count'] = part_count\n",
    "    test_df['part_ratio'] = part_count / test_df['count'].values\n",
    "    test_df[\"first_attempt\"] = first_attempt_values\n",
    "    test_df['count_inday'] = user_count_inday\n",
    "    test_df[\"unique_attempt\"] = test_df.groupby(\"user_id\")[\"first_attempt\"].cumsum()\n",
    "    test_df[\"unique_attempt\"] += user_unique_count\n",
    "    test_df['prior_question_had_explanation_mean'] = user_prior_question_had_explanation_sum / user_count\n",
    "    test_df['got_point'] = got_point_array / user_count\n",
    "    test_df['answered_correctly_last7'] = user_last7_accuracy_array\n",
    "    test_df['timediff'] = timediff_array\n",
    "    test_df['timediff2'] = timediff2_array\n",
    "    test_df['tag_acc'] = tag_acc_array\n",
    "    test_df['community_count'] = community_count_array\n",
    "    \n",
    "    prior_f_attempt_arrays = test_df['first_attempt'].values\n",
    "    prior_point_array = 1 / (test_df.content_id.values + 0.1)\n",
    "    \n",
    "    test_df[target] = model.predict(test_df[features])\n",
    "    env.predict(test_df[['row_id', target]])"
   ]
  },
  {
   "cell_type": "code",
   "execution_count": null,
   "metadata": {
    "papermill": {
     "duration": 0.036079,
     "end_time": "2020-12-19T01:32:46.577593",
     "exception": false,
     "start_time": "2020-12-19T01:32:46.541514",
     "status": "completed"
    },
    "tags": []
   },
   "outputs": [],
   "source": []
  }
 ],
 "metadata": {
  "kernelspec": {
   "display_name": "Python 3",
   "language": "python",
   "name": "python3"
  },
  "language_info": {
   "codemirror_mode": {
    "name": "ipython",
    "version": 3
   },
   "file_extension": ".py",
   "mimetype": "text/x-python",
   "name": "python",
   "nbconvert_exporter": "python",
   "pygments_lexer": "ipython3",
   "version": "3.7.6"
  },
  "papermill": {
   "duration": 4174.017488,
   "end_time": "2020-12-19T01:32:46.924288",
   "environment_variables": {},
   "exception": null,
   "input_path": "__notebook__.ipynb",
   "output_path": "__notebook__.ipynb",
   "parameters": {},
   "start_time": "2020-12-19T00:23:12.906800",
   "version": "2.1.0"
  }
 },
 "nbformat": 4,
 "nbformat_minor": 4
}
