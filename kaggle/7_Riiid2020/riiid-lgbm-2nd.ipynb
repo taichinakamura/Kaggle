{
 "cells": [
  {
   "cell_type": "markdown",
   "metadata": {
    "papermill": {
     "duration": 0.019585,
     "end_time": "2020-11-27T11:17:09.336514",
     "exception": false,
     "start_time": "2020-11-27T11:17:09.316929",
     "status": "completed"
    },
    "tags": []
   },
   "source": [
    "- add user try count"
   ]
  },
  {
   "cell_type": "code",
   "execution_count": 1,
   "metadata": {
    "_cell_guid": "b1076dfc-b9ad-4769-8c92-a6c4dae69d19",
    "_uuid": "8f2839f25d086af736a60e9eeb907d3b93b6e0e5",
    "execution": {
     "iopub.execute_input": "2020-11-27T11:17:09.377086Z",
     "iopub.status.busy": "2020-11-27T11:17:09.376315Z",
     "iopub.status.idle": "2020-11-27T11:17:39.660427Z",
     "shell.execute_reply": "2020-11-27T11:17:39.659732Z"
    },
    "papermill": {
     "duration": 30.307349,
     "end_time": "2020-11-27T11:17:39.660570",
     "exception": false,
     "start_time": "2020-11-27T11:17:09.353221",
     "status": "completed"
    },
    "tags": []
   },
   "outputs": [],
   "source": [
    "!pip install ../input/python-datatable/datatable-0.11.0-cp37-cp37m-manylinux2010_x86_64.whl > /dev/null 2>&1"
   ]
  },
  {
   "cell_type": "code",
   "execution_count": 2,
   "metadata": {
    "_cell_guid": "79c7e3d0-c299-4dcb-8224-4455121ee9b0",
    "_uuid": "d629ff2d2480ee46fbb7e2d37f6b5fab8052498a",
    "execution": {
     "iopub.execute_input": "2020-11-27T11:17:39.702710Z",
     "iopub.status.busy": "2020-11-27T11:17:39.701663Z",
     "iopub.status.idle": "2020-11-27T11:17:40.803601Z",
     "shell.execute_reply": "2020-11-27T11:17:40.804228Z"
    },
    "papermill": {
     "duration": 1.126518,
     "end_time": "2020-11-27T11:17:40.804402",
     "exception": false,
     "start_time": "2020-11-27T11:17:39.677884",
     "status": "completed"
    },
    "tags": []
   },
   "outputs": [
    {
     "data": {
      "text/html": [
       "<style type='text/css'>\n",
       ".datatable table.frame { margin-bottom: 0; }\n",
       ".datatable table.frame thead { border-bottom: none; }\n",
       ".datatable table.frame tr.coltypes td {  color: #FFFFFF;  line-height: 6px;  padding: 0 0.5em;}\n",
       ".datatable .bool    { background: #DDDD99; }\n",
       ".datatable .object  { background: #565656; }\n",
       ".datatable .int     { background: #5D9E5D; }\n",
       ".datatable .float   { background: #4040CC; }\n",
       ".datatable .str     { background: #CC4040; }\n",
       ".datatable .row_index {  background: var(--jp-border-color3);  border-right: 1px solid var(--jp-border-color0);  color: var(--jp-ui-font-color3);  font-size: 9px;}\n",
       ".datatable .frame tr.coltypes .row_index {  background: var(--jp-border-color0);}\n",
       ".datatable th:nth-child(2) { padding-left: 12px; }\n",
       ".datatable .hellipsis {  color: var(--jp-cell-editor-border-color);}\n",
       ".datatable .vellipsis {  background: var(--jp-layout-color0);  color: var(--jp-cell-editor-border-color);}\n",
       ".datatable .na {  color: var(--jp-cell-editor-border-color);  font-size: 80%;}\n",
       ".datatable .footer { font-size: 9px; }\n",
       ".datatable .frame_dimensions {  background: var(--jp-border-color3);  border-top: 1px solid var(--jp-border-color0);  color: var(--jp-ui-font-color3);  display: inline-block;  opacity: 0.6;  padding: 1px 10px 1px 5px;}\n",
       "</style>\n"
      ],
      "text/plain": [
       "<IPython.core.display.HTML object>"
      ]
     },
     "metadata": {},
     "output_type": "display_data"
    }
   ],
   "source": [
    "import numpy as np\n",
    "import pandas as pd\n",
    "from collections import defaultdict\n",
    "import datatable as dt\n",
    "import lightgbm as lgb\n",
    "from matplotlib import pyplot as plt\n",
    "import riiideducation\n",
    "\n",
    "_ = np.seterr(divide='ignore', invalid='ignore')"
   ]
  },
  {
   "cell_type": "markdown",
   "metadata": {
    "papermill": {
     "duration": 0.017333,
     "end_time": "2020-11-27T11:17:40.840228",
     "exception": false,
     "start_time": "2020-11-27T11:17:40.822895",
     "status": "completed"
    },
    "tags": []
   },
   "source": [
    "# Preprocess"
   ]
  },
  {
   "cell_type": "code",
   "execution_count": 3,
   "metadata": {
    "execution": {
     "iopub.execute_input": "2020-11-27T11:17:40.881899Z",
     "iopub.status.busy": "2020-11-27T11:17:40.881088Z",
     "iopub.status.idle": "2020-11-27T11:17:40.884493Z",
     "shell.execute_reply": "2020-11-27T11:17:40.883711Z"
    },
    "papermill": {
     "duration": 0.026682,
     "end_time": "2020-11-27T11:17:40.884612",
     "exception": false,
     "start_time": "2020-11-27T11:17:40.857930",
     "status": "completed"
    },
    "tags": []
   },
   "outputs": [],
   "source": [
    "data_types_dict = {\n",
    "    'user_id': 'int32', \n",
    "    'content_id': 'int16', \n",
    "    'answered_correctly': 'int8', \n",
    "    'prior_question_elapsed_time': 'float32', \n",
    "    'prior_question_had_explanation': 'bool'\n",
    "}\n",
    "target = 'answered_correctly'"
   ]
  },
  {
   "cell_type": "code",
   "execution_count": 4,
   "metadata": {
    "execution": {
     "iopub.execute_input": "2020-11-27T11:17:40.927991Z",
     "iopub.status.busy": "2020-11-27T11:17:40.927195Z",
     "iopub.status.idle": "2020-11-27T11:18:55.449761Z",
     "shell.execute_reply": "2020-11-27T11:18:55.448956Z"
    },
    "papermill": {
     "duration": 74.547382,
     "end_time": "2020-11-27T11:18:55.449915",
     "exception": false,
     "start_time": "2020-11-27T11:17:40.902533",
     "status": "completed"
    },
    "tags": []
   },
   "outputs": [],
   "source": [
    "train_df = dt.fread('../input/riiid-test-answer-prediction/train.csv', columns=set(data_types_dict.keys())).to_pandas()\n",
    "train_df = train_df[train_df[target] != -1].reset_index(drop=True)\n",
    "train_df['prior_question_had_explanation'].fillna(False, inplace=True)\n",
    "train_df = train_df.astype(data_types_dict)"
   ]
  },
  {
   "cell_type": "code",
   "execution_count": 5,
   "metadata": {
    "execution": {
     "iopub.execute_input": "2020-11-27T11:18:55.495565Z",
     "iopub.status.busy": "2020-11-27T11:18:55.494715Z",
     "iopub.status.idle": "2020-11-27T11:19:13.731435Z",
     "shell.execute_reply": "2020-11-27T11:19:13.730818Z"
    },
    "papermill": {
     "duration": 18.26333,
     "end_time": "2020-11-27T11:19:13.731568",
     "exception": false,
     "start_time": "2020-11-27T11:18:55.468238",
     "status": "completed"
    },
    "tags": []
   },
   "outputs": [],
   "source": [
    "train_df['lag'] = train_df.groupby('user_id')[target].shift()\n",
    "cum = train_df.groupby('user_id')['lag'].agg(['cumsum', 'cumcount'])\n",
    "train_df['user_correctness'] = cum['cumsum'] / cum['cumcount']\n",
    "train_df.drop(columns=['lag'], inplace=True)"
   ]
  },
  {
   "cell_type": "code",
   "execution_count": 6,
   "metadata": {
    "execution": {
     "iopub.execute_input": "2020-11-27T11:19:13.774909Z",
     "iopub.status.busy": "2020-11-27T11:19:13.774184Z",
     "iopub.status.idle": "2020-11-27T11:19:23.202491Z",
     "shell.execute_reply": "2020-11-27T11:19:23.201740Z"
    },
    "papermill": {
     "duration": 9.452657,
     "end_time": "2020-11-27T11:19:23.202615",
     "exception": false,
     "start_time": "2020-11-27T11:19:13.749958",
     "status": "completed"
    },
    "tags": []
   },
   "outputs": [],
   "source": [
    "user_agg = train_df.groupby('user_id')[target].agg(['sum', 'count'])\n",
    "content_agg = train_df.groupby('content_id')[target].agg(['sum', 'count'])"
   ]
  },
  {
   "cell_type": "code",
   "execution_count": 7,
   "metadata": {
    "execution": {
     "iopub.execute_input": "2020-11-27T11:19:23.245694Z",
     "iopub.status.busy": "2020-11-27T11:19:23.244937Z",
     "iopub.status.idle": "2020-11-27T11:19:27.047153Z",
     "shell.execute_reply": "2020-11-27T11:19:27.046363Z"
    },
    "papermill": {
     "duration": 3.825869,
     "end_time": "2020-11-27T11:19:27.047276",
     "exception": false,
     "start_time": "2020-11-27T11:19:23.221407",
     "status": "completed"
    },
    "tags": []
   },
   "outputs": [],
   "source": [
    "train_df[\"count\"] = 1\n",
    "train_df[\"count\"] = train_df.groupby(\"user_id\")[\"count\"].cumsum()"
   ]
  },
  {
   "cell_type": "code",
   "execution_count": 8,
   "metadata": {
    "execution": {
     "iopub.execute_input": "2020-11-27T11:19:27.091019Z",
     "iopub.status.busy": "2020-11-27T11:19:27.090219Z",
     "iopub.status.idle": "2020-11-27T11:19:34.819771Z",
     "shell.execute_reply": "2020-11-27T11:19:34.819001Z"
    },
    "papermill": {
     "duration": 7.753792,
     "end_time": "2020-11-27T11:19:34.819941",
     "exception": false,
     "start_time": "2020-11-27T11:19:27.066149",
     "status": "completed"
    },
    "tags": []
   },
   "outputs": [],
   "source": [
    "train_df = train_df.groupby('user_id').tail(24).reset_index(drop=True)"
   ]
  },
  {
   "cell_type": "code",
   "execution_count": 9,
   "metadata": {
    "execution": {
     "iopub.execute_input": "2020-11-27T11:19:34.876176Z",
     "iopub.status.busy": "2020-11-27T11:19:34.875135Z",
     "iopub.status.idle": "2020-11-27T11:19:36.669624Z",
     "shell.execute_reply": "2020-11-27T11:19:36.668858Z"
    },
    "papermill": {
     "duration": 1.828116,
     "end_time": "2020-11-27T11:19:36.669745",
     "exception": false,
     "start_time": "2020-11-27T11:19:34.841629",
     "status": "completed"
    },
    "tags": []
   },
   "outputs": [],
   "source": [
    "questions_df = pd.read_csv(\n",
    "    '../input/riiid-test-answer-prediction/questions.csv', \n",
    "    usecols=[0, 3],\n",
    "    dtype={'question_id': 'int16', 'part': 'int8'}\n",
    ")\n",
    "train_df = pd.merge(train_df, questions_df, left_on='content_id', right_on='question_id', how='left')\n",
    "train_df.drop(columns=['question_id'], inplace=True)"
   ]
  },
  {
   "cell_type": "code",
   "execution_count": 10,
   "metadata": {
    "execution": {
     "iopub.execute_input": "2020-11-27T11:19:36.714666Z",
     "iopub.status.busy": "2020-11-27T11:19:36.713882Z",
     "iopub.status.idle": "2020-11-27T11:19:36.996266Z",
     "shell.execute_reply": "2020-11-27T11:19:36.995484Z"
    },
    "papermill": {
     "duration": 0.307567,
     "end_time": "2020-11-27T11:19:36.996391",
     "exception": false,
     "start_time": "2020-11-27T11:19:36.688824",
     "status": "completed"
    },
    "tags": []
   },
   "outputs": [],
   "source": [
    "train_df['content_count'] = train_df['content_id'].map(content_agg['count']).astype('int32')\n",
    "train_df['content_id'] = train_df['content_id'].map(content_agg['sum'] / content_agg['count'])"
   ]
  },
  {
   "cell_type": "code",
   "execution_count": 11,
   "metadata": {
    "execution": {
     "iopub.execute_input": "2020-11-27T11:19:37.040741Z",
     "iopub.status.busy": "2020-11-27T11:19:37.039979Z",
     "iopub.status.idle": "2020-11-27T11:19:40.237205Z",
     "shell.execute_reply": "2020-11-27T11:19:40.236420Z"
    },
    "papermill": {
     "duration": 3.221893,
     "end_time": "2020-11-27T11:19:40.237328",
     "exception": false,
     "start_time": "2020-11-27T11:19:37.015435",
     "status": "completed"
    },
    "tags": []
   },
   "outputs": [],
   "source": [
    "valid_df = train_df.groupby('user_id').tail(6)\n",
    "train_df.drop(valid_df.index, inplace=True)"
   ]
  },
  {
   "cell_type": "code",
   "execution_count": 12,
   "metadata": {
    "execution": {
     "iopub.execute_input": "2020-11-27T11:19:40.286527Z",
     "iopub.status.busy": "2020-11-27T11:19:40.282968Z",
     "iopub.status.idle": "2020-11-27T11:19:40.298756Z",
     "shell.execute_reply": "2020-11-27T11:19:40.299322Z"
    },
    "papermill": {
     "duration": 0.042123,
     "end_time": "2020-11-27T11:19:40.299476",
     "exception": false,
     "start_time": "2020-11-27T11:19:40.257353",
     "status": "completed"
    },
    "tags": []
   },
   "outputs": [
    {
     "data": {
      "text/html": [
       "<div>\n",
       "<style scoped>\n",
       "    .dataframe tbody tr th:only-of-type {\n",
       "        vertical-align: middle;\n",
       "    }\n",
       "\n",
       "    .dataframe tbody tr th {\n",
       "        vertical-align: top;\n",
       "    }\n",
       "\n",
       "    .dataframe thead th {\n",
       "        text-align: right;\n",
       "    }\n",
       "</style>\n",
       "<table border=\"1\" class=\"dataframe\">\n",
       "  <thead>\n",
       "    <tr style=\"text-align: right;\">\n",
       "      <th></th>\n",
       "      <th>user_id</th>\n",
       "      <th>content_id</th>\n",
       "      <th>answered_correctly</th>\n",
       "      <th>prior_question_elapsed_time</th>\n",
       "      <th>prior_question_had_explanation</th>\n",
       "      <th>user_correctness</th>\n",
       "      <th>count</th>\n",
       "      <th>part</th>\n",
       "      <th>content_count</th>\n",
       "    </tr>\n",
       "  </thead>\n",
       "  <tbody>\n",
       "    <tr>\n",
       "      <th>0</th>\n",
       "      <td>115</td>\n",
       "      <td>0.687217</td>\n",
       "      <td>0</td>\n",
       "      <td>19000.0</td>\n",
       "      <td>False</td>\n",
       "      <td>0.727273</td>\n",
       "      <td>23</td>\n",
       "      <td>1</td>\n",
       "      <td>36674</td>\n",
       "    </tr>\n",
       "    <tr>\n",
       "      <th>1</th>\n",
       "      <td>115</td>\n",
       "      <td>0.608222</td>\n",
       "      <td>0</td>\n",
       "      <td>21000.0</td>\n",
       "      <td>False</td>\n",
       "      <td>0.695652</td>\n",
       "      <td>24</td>\n",
       "      <td>1</td>\n",
       "      <td>47047</td>\n",
       "    </tr>\n",
       "    <tr>\n",
       "      <th>2</th>\n",
       "      <td>115</td>\n",
       "      <td>0.601824</td>\n",
       "      <td>1</td>\n",
       "      <td>22000.0</td>\n",
       "      <td>False</td>\n",
       "      <td>0.666667</td>\n",
       "      <td>25</td>\n",
       "      <td>1</td>\n",
       "      <td>40452</td>\n",
       "    </tr>\n",
       "    <tr>\n",
       "      <th>3</th>\n",
       "      <td>115</td>\n",
       "      <td>0.418436</td>\n",
       "      <td>1</td>\n",
       "      <td>16000.0</td>\n",
       "      <td>False</td>\n",
       "      <td>0.680000</td>\n",
       "      <td>26</td>\n",
       "      <td>1</td>\n",
       "      <td>190170</td>\n",
       "    </tr>\n",
       "    <tr>\n",
       "      <th>4</th>\n",
       "      <td>115</td>\n",
       "      <td>0.474545</td>\n",
       "      <td>1</td>\n",
       "      <td>20000.0</td>\n",
       "      <td>False</td>\n",
       "      <td>0.692308</td>\n",
       "      <td>27</td>\n",
       "      <td>1</td>\n",
       "      <td>56707</td>\n",
       "    </tr>\n",
       "  </tbody>\n",
       "</table>\n",
       "</div>"
      ],
      "text/plain": [
       "   user_id  content_id  answered_correctly  prior_question_elapsed_time  \\\n",
       "0      115    0.687217                   0                      19000.0   \n",
       "1      115    0.608222                   0                      21000.0   \n",
       "2      115    0.601824                   1                      22000.0   \n",
       "3      115    0.418436                   1                      16000.0   \n",
       "4      115    0.474545                   1                      20000.0   \n",
       "\n",
       "   prior_question_had_explanation  user_correctness  count  part  \\\n",
       "0                           False          0.727273     23     1   \n",
       "1                           False          0.695652     24     1   \n",
       "2                           False          0.666667     25     1   \n",
       "3                           False          0.680000     26     1   \n",
       "4                           False          0.692308     27     1   \n",
       "\n",
       "   content_count  \n",
       "0          36674  \n",
       "1          47047  \n",
       "2          40452  \n",
       "3         190170  \n",
       "4          56707  "
      ]
     },
     "execution_count": 12,
     "metadata": {},
     "output_type": "execute_result"
    }
   ],
   "source": [
    "train_df.head()"
   ]
  },
  {
   "cell_type": "markdown",
   "metadata": {
    "papermill": {
     "duration": 0.02005,
     "end_time": "2020-11-27T11:19:40.339719",
     "exception": false,
     "start_time": "2020-11-27T11:19:40.319669",
     "status": "completed"
    },
    "tags": []
   },
   "source": [
    "# Train"
   ]
  },
  {
   "cell_type": "code",
   "execution_count": 13,
   "metadata": {
    "execution": {
     "iopub.execute_input": "2020-11-27T11:19:40.387162Z",
     "iopub.status.busy": "2020-11-27T11:19:40.386388Z",
     "iopub.status.idle": "2020-11-27T11:19:40.389376Z",
     "shell.execute_reply": "2020-11-27T11:19:40.389990Z"
    },
    "papermill": {
     "duration": 0.03016,
     "end_time": "2020-11-27T11:19:40.390144",
     "exception": false,
     "start_time": "2020-11-27T11:19:40.359984",
     "status": "completed"
    },
    "tags": []
   },
   "outputs": [],
   "source": [
    "features = [\n",
    "    'content_id',\n",
    "    'prior_question_elapsed_time',\n",
    "    'prior_question_had_explanation',\n",
    "    'user_correctness',\n",
    "    'part',\n",
    "    'content_count',\n",
    "    'count'\n",
    "]\n",
    "\n",
    "params = {\n",
    "    'objective': 'binary',\n",
    "    'seed': 42,\n",
    "    'metric': 'auc',\n",
    "    'learning_rate': 0.05,\n",
    "    'max_bin': 800,\n",
    "    'num_leaves': 80\n",
    "}"
   ]
  },
  {
   "cell_type": "code",
   "execution_count": 14,
   "metadata": {
    "execution": {
     "iopub.execute_input": "2020-11-27T11:19:40.599825Z",
     "iopub.status.busy": "2020-11-27T11:19:40.521436Z",
     "iopub.status.idle": "2020-11-27T12:14:11.174892Z",
     "shell.execute_reply": "2020-11-27T12:14:11.176211Z"
    },
    "papermill": {
     "duration": 3270.766191,
     "end_time": "2020-11-27T12:14:11.176677",
     "exception": false,
     "start_time": "2020-11-27T11:19:40.410486",
     "status": "completed"
    },
    "tags": []
   },
   "outputs": [
    {
     "name": "stdout",
     "output_type": "stream",
     "text": [
      "Training until validation scores don't improve for 50 rounds\n",
      "[50]\ttraining's auc: 0.752454\tvalid_1's auc: 0.734687\n",
      "[100]\ttraining's auc: 0.754207\tvalid_1's auc: 0.736617\n",
      "[150]\ttraining's auc: 0.754958\tvalid_1's auc: 0.737303\n",
      "[200]\ttraining's auc: 0.755351\tvalid_1's auc: 0.737538\n",
      "[250]\ttraining's auc: 0.755664\tvalid_1's auc: 0.737711\n",
      "[300]\ttraining's auc: 0.755959\tvalid_1's auc: 0.737862\n",
      "[350]\ttraining's auc: 0.756238\tvalid_1's auc: 0.737999\n",
      "[400]\ttraining's auc: 0.756467\tvalid_1's auc: 0.738069\n",
      "[450]\ttraining's auc: 0.756723\tvalid_1's auc: 0.738184\n",
      "[500]\ttraining's auc: 0.756919\tvalid_1's auc: 0.738238\n",
      "[550]\ttraining's auc: 0.757148\tvalid_1's auc: 0.738299\n",
      "[600]\ttraining's auc: 0.757322\tvalid_1's auc: 0.738326\n",
      "[650]\ttraining's auc: 0.757523\tvalid_1's auc: 0.738363\n",
      "[700]\ttraining's auc: 0.7577\tvalid_1's auc: 0.738395\n",
      "[750]\ttraining's auc: 0.757926\tvalid_1's auc: 0.738452\n",
      "[800]\ttraining's auc: 0.758144\tvalid_1's auc: 0.738506\n",
      "[850]\ttraining's auc: 0.758339\tvalid_1's auc: 0.738542\n",
      "[900]\ttraining's auc: 0.758541\tvalid_1's auc: 0.738576\n",
      "[950]\ttraining's auc: 0.758722\tvalid_1's auc: 0.738597\n",
      "[1000]\ttraining's auc: 0.75891\tvalid_1's auc: 0.738624\n",
      "[1050]\ttraining's auc: 0.759089\tvalid_1's auc: 0.73865\n",
      "[1100]\ttraining's auc: 0.759267\tvalid_1's auc: 0.738675\n",
      "[1150]\ttraining's auc: 0.759441\tvalid_1's auc: 0.738695\n",
      "[1200]\ttraining's auc: 0.759614\tvalid_1's auc: 0.738716\n",
      "[1250]\ttraining's auc: 0.759794\tvalid_1's auc: 0.738746\n",
      "[1300]\ttraining's auc: 0.759953\tvalid_1's auc: 0.738756\n",
      "[1350]\ttraining's auc: 0.760125\tvalid_1's auc: 0.738763\n",
      "[1400]\ttraining's auc: 0.760296\tvalid_1's auc: 0.738772\n",
      "[1450]\ttraining's auc: 0.760465\tvalid_1's auc: 0.738797\n",
      "[1500]\ttraining's auc: 0.760675\tvalid_1's auc: 0.738828\n",
      "[1550]\ttraining's auc: 0.760853\tvalid_1's auc: 0.738845\n",
      "[1600]\ttraining's auc: 0.761036\tvalid_1's auc: 0.738863\n",
      "[1650]\ttraining's auc: 0.761225\tvalid_1's auc: 0.73889\n",
      "[1700]\ttraining's auc: 0.761407\tvalid_1's auc: 0.738908\n",
      "[1750]\ttraining's auc: 0.761578\tvalid_1's auc: 0.738925\n",
      "[1800]\ttraining's auc: 0.761731\tvalid_1's auc: 0.738925\n",
      "[1850]\ttraining's auc: 0.7619\tvalid_1's auc: 0.738935\n",
      "[1900]\ttraining's auc: 0.762077\tvalid_1's auc: 0.738938\n",
      "Early stopping, best iteration is:\n",
      "[1891]\ttraining's auc: 0.762046\tvalid_1's auc: 0.738942\n"
     ]
    },
    {
     "data": {
      "image/png": "[encoded data removed]",
      "text/plain": [
       "<Figure size 432x288 with 1 Axes>"
      ]
     },
     "metadata": {
      "needs_background": "light"
     },
     "output_type": "display_data"
    }
   ],
   "source": [
    "tr_data = lgb.Dataset(train_df[features], label=train_df[target])\n",
    "va_data = lgb.Dataset(valid_df[features], label=valid_df[target])\n",
    "\n",
    "model = lgb.train(\n",
    "    params, \n",
    "    tr_data, \n",
    "    num_boost_round=10000,\n",
    "    valid_sets=[tr_data, va_data], \n",
    "    early_stopping_rounds=50,\n",
    "    verbose_eval=50\n",
    ")\n",
    "\n",
    "# model.save_model(f'model.txt')\n",
    "lgb.plot_importance(model, importance_type='gain')\n",
    "plt.show()"
   ]
  },
  {
   "cell_type": "markdown",
   "metadata": {
    "papermill": {
     "duration": 0.048292,
     "end_time": "2020-11-27T12:14:11.269330",
     "exception": false,
     "start_time": "2020-11-27T12:14:11.221038",
     "status": "completed"
    },
    "tags": []
   },
   "source": [
    "# Inference"
   ]
  },
  {
   "cell_type": "code",
   "execution_count": 15,
   "metadata": {
    "execution": {
     "iopub.execute_input": "2020-11-27T12:14:11.356380Z",
     "iopub.status.busy": "2020-11-27T12:14:11.355298Z",
     "iopub.status.idle": "2020-11-27T12:14:11.826734Z",
     "shell.execute_reply": "2020-11-27T12:14:11.826084Z"
    },
    "papermill": {
     "duration": 0.5198,
     "end_time": "2020-11-27T12:14:11.826887",
     "exception": false,
     "start_time": "2020-11-27T12:14:11.307087",
     "status": "completed"
    },
    "tags": []
   },
   "outputs": [],
   "source": [
    "user_sum_dict = user_agg['sum'].astype('int16').to_dict(defaultdict(int))\n",
    "user_count_dict = user_agg['count'].astype('int16').to_dict(defaultdict(int))\n",
    "content_sum_dict = content_agg['sum'].astype('int32').to_dict(defaultdict(int))\n",
    "content_count_dict = content_agg['count'].astype('int32').to_dict(defaultdict(int))"
   ]
  },
  {
   "cell_type": "code",
   "execution_count": 16,
   "metadata": {
    "execution": {
     "iopub.execute_input": "2020-11-27T12:14:11.910603Z",
     "iopub.status.busy": "2020-11-27T12:14:11.909725Z",
     "iopub.status.idle": "2020-11-27T12:14:11.913060Z",
     "shell.execute_reply": "2020-11-27T12:14:11.912326Z"
    },
    "papermill": {
     "duration": 0.048237,
     "end_time": "2020-11-27T12:14:11.913182",
     "exception": false,
     "start_time": "2020-11-27T12:14:11.864945",
     "status": "completed"
    },
    "tags": []
   },
   "outputs": [],
   "source": [
    "# model = lgb.Booster(model_file='../input/riiid-lgbm-starter/model.txt')\n",
    "env = riiideducation.make_env()\n",
    "iter_test = env.iter_test()\n",
    "prior_test_df = None"
   ]
  },
  {
   "cell_type": "code",
   "execution_count": 17,
   "metadata": {
    "execution": {
     "iopub.execute_input": "2020-11-27T12:14:12.016655Z",
     "iopub.status.busy": "2020-11-27T12:14:12.015890Z",
     "iopub.status.idle": "2020-11-27T12:14:12.788499Z",
     "shell.execute_reply": "2020-11-27T12:14:12.789076Z"
    },
    "papermill": {
     "duration": 0.838108,
     "end_time": "2020-11-27T12:14:12.789242",
     "exception": false,
     "start_time": "2020-11-27T12:14:11.951134",
     "status": "completed"
    },
    "tags": []
   },
   "outputs": [
    {
     "name": "stdout",
     "output_type": "stream",
     "text": [
      "CPU times: user 1.29 s, sys: 80 ms, total: 1.37 s\n",
      "Wall time: 771 ms\n"
     ]
    }
   ],
   "source": [
    "%%time\n",
    "\n",
    "for (test_df, sample_prediction_df) in iter_test:\n",
    "    if prior_test_df is not None:\n",
    "        prior_test_df[target] = eval(test_df['prior_group_answers_correct'].iloc[0])\n",
    "        prior_test_df = prior_test_df[prior_test_df[target] != -1].reset_index(drop=True)\n",
    "        \n",
    "        user_ids = prior_test_df['user_id'].values\n",
    "        content_ids = prior_test_df['content_id'].values\n",
    "        targets = prior_test_df[target].values\n",
    "        \n",
    "        for user_id, content_id, answered_correctly in zip(user_ids, content_ids, targets):\n",
    "            user_sum_dict[user_id] += answered_correctly\n",
    "            user_count_dict[user_id] += 1\n",
    "            content_sum_dict[content_id] += answered_correctly\n",
    "            content_count_dict[content_id] += 1\n",
    "\n",
    "    prior_test_df = test_df.copy()\n",
    "    \n",
    "    test_df = test_df[test_df['content_type_id'] == 0].reset_index(drop=True)\n",
    "    test_df = pd.merge(test_df, questions_df, left_on='content_id', right_on='question_id', how='left')\n",
    "    test_df['prior_question_had_explanation'] = test_df['prior_question_had_explanation'].fillna(False).astype('bool')    \n",
    "    \n",
    "    user_sum = np.zeros(len(test_df), dtype=np.int16)\n",
    "    user_count = np.zeros(len(test_df), dtype=np.int16)\n",
    "    content_sum = np.zeros(len(test_df), dtype=np.int32)\n",
    "    content_count = np.zeros(len(test_df), dtype=np.int32)\n",
    "    \n",
    "    for i, (user_id, content_id) in enumerate(zip(test_df['user_id'].values, test_df['content_id'].values)):\n",
    "        user_sum[i] = user_sum_dict[user_id]\n",
    "        user_count[i] = user_count_dict[user_id]\n",
    "        content_sum[i] = content_sum_dict[content_id]\n",
    "        content_count[i] = content_count_dict[content_id]\n",
    "\n",
    "    test_df['user_correctness'] = user_sum / user_count\n",
    "    test_df['content_count'] = content_count\n",
    "    test_df['content_id'] = content_sum / content_count\n",
    "    test_df['count'] = 1\n",
    "    test_df['count'] = test_df.groupby(\"user_id\")[\"count\"].cumsum()\n",
    "    test_df['count'] += user_count\n",
    "    \n",
    "    test_df[target] = model.predict(test_df[features])\n",
    "    env.predict(test_df[['row_id', target]])"
   ]
  },
  {
   "cell_type": "code",
   "execution_count": null,
   "metadata": {
    "papermill": {
     "duration": 0.038155,
     "end_time": "2020-11-27T12:14:12.866511",
     "exception": false,
     "start_time": "2020-11-27T12:14:12.828356",
     "status": "completed"
    },
    "tags": []
   },
   "outputs": [],
   "source": []
  }
 ],
 "metadata": {
  "kernelspec": {
   "display_name": "Python 3",
   "language": "python",
   "name": "python3"
  },
  "language_info": {
   "codemirror_mode": {
    "name": "ipython",
    "version": 3
   },
   "file_extension": ".py",
   "mimetype": "text/x-python",
   "name": "python",
   "nbconvert_exporter": "python",
   "pygments_lexer": "ipython3",
   "version": "3.7.6"
  },
  "papermill": {
   "duration": 3428.440628,
   "end_time": "2020-11-27T12:14:13.014047",
   "environment_variables": {},
   "exception": null,
   "input_path": "__notebook__.ipynb",
   "output_path": "__notebook__.ipynb",
   "parameters": {},
   "start_time": "2020-11-27T11:17:04.573419",
   "version": "2.1.0"
  }
 },
 "nbformat": 4,
 "nbformat_minor": 4
}
