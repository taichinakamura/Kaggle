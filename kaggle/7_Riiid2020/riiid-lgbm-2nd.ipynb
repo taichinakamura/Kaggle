{
 "cells": [
  {
   "cell_type": "markdown",
   "metadata": {
    "papermill": {
     "duration": 0.018804,
     "end_time": "2020-11-29T03:13:24.762897",
     "exception": false,
     "start_time": "2020-11-29T03:13:24.744093",
     "status": "completed"
    },
    "tags": []
   },
   "source": [
    "- fast connection of questions.csv\n",
    "- calculate first_attempt in advance"
   ]
  },
  {
   "cell_type": "code",
   "execution_count": 1,
   "metadata": {
    "_cell_guid": "b1076dfc-b9ad-4769-8c92-a6c4dae69d19",
    "_uuid": "8f2839f25d086af736a60e9eeb907d3b93b6e0e5",
    "execution": {
     "iopub.execute_input": "2020-11-29T03:13:24.802695Z",
     "iopub.status.busy": "2020-11-29T03:13:24.801840Z",
     "iopub.status.idle": "2020-11-29T03:13:54.674428Z",
     "shell.execute_reply": "2020-11-29T03:13:54.673837Z"
    },
    "papermill": {
     "duration": 29.894661,
     "end_time": "2020-11-29T03:13:54.674536",
     "exception": false,
     "start_time": "2020-11-29T03:13:24.779875",
     "status": "completed"
    },
    "tags": []
   },
   "outputs": [],
   "source": [
    "!pip install ../input/python-datatable/datatable-0.11.0-cp37-cp37m-manylinux2010_x86_64.whl > /dev/null 2>&1"
   ]
  },
  {
   "cell_type": "code",
   "execution_count": 2,
   "metadata": {
    "_cell_guid": "79c7e3d0-c299-4dcb-8224-4455121ee9b0",
    "_uuid": "d629ff2d2480ee46fbb7e2d37f6b5fab8052498a",
    "execution": {
     "iopub.execute_input": "2020-11-29T03:13:54.718660Z",
     "iopub.status.busy": "2020-11-29T03:13:54.717828Z",
     "iopub.status.idle": "2020-11-29T03:13:55.795646Z",
     "shell.execute_reply": "2020-11-29T03:13:55.795039Z"
    },
    "papermill": {
     "duration": 1.103436,
     "end_time": "2020-11-29T03:13:55.795758",
     "exception": false,
     "start_time": "2020-11-29T03:13:54.692322",
     "status": "completed"
    },
    "tags": []
   },
   "outputs": [
    {
     "data": {
      "text/html": [
       "<style type='text/css'>\n",
       ".datatable table.frame { margin-bottom: 0; }\n",
       ".datatable table.frame thead { border-bottom: none; }\n",
       ".datatable table.frame tr.coltypes td {  color: #FFFFFF;  line-height: 6px;  padding: 0 0.5em;}\n",
       ".datatable .bool    { background: #DDDD99; }\n",
       ".datatable .object  { background: #565656; }\n",
       ".datatable .int     { background: #5D9E5D; }\n",
       ".datatable .float   { background: #4040CC; }\n",
       ".datatable .str     { background: #CC4040; }\n",
       ".datatable .row_index {  background: var(--jp-border-color3);  border-right: 1px solid var(--jp-border-color0);  color: var(--jp-ui-font-color3);  font-size: 9px;}\n",
       ".datatable .frame tr.coltypes .row_index {  background: var(--jp-border-color0);}\n",
       ".datatable th:nth-child(2) { padding-left: 12px; }\n",
       ".datatable .hellipsis {  color: var(--jp-cell-editor-border-color);}\n",
       ".datatable .vellipsis {  background: var(--jp-layout-color0);  color: var(--jp-cell-editor-border-color);}\n",
       ".datatable .na {  color: var(--jp-cell-editor-border-color);  font-size: 80%;}\n",
       ".datatable .footer { font-size: 9px; }\n",
       ".datatable .frame_dimensions {  background: var(--jp-border-color3);  border-top: 1px solid var(--jp-border-color0);  color: var(--jp-ui-font-color3);  display: inline-block;  opacity: 0.6;  padding: 1px 10px 1px 5px;}\n",
       "</style>\n"
      ],
      "text/plain": [
       "<IPython.core.display.HTML object>"
      ]
     },
     "metadata": {},
     "output_type": "display_data"
    },
    {
     "name": "stderr",
     "output_type": "stream",
     "text": [
      "/opt/conda/lib/python3.7/site-packages/ipykernel_launcher.py:10: TqdmDeprecationWarning: This function will be removed in tqdm==5.0.0\n",
      "Please use `tqdm.notebook.*` instead of `tqdm._tqdm_notebook.*`\n",
      "  # Remove the CWD from sys.path while we load stuff.\n",
      "/opt/conda/lib/python3.7/site-packages/tqdm/std.py:666: FutureWarning: The Panel class is removed from pandas. Accessing it from the top-level namespace will also be removed in the next version\n",
      "  from pandas import Panel\n"
     ]
    }
   ],
   "source": [
    "import numpy as np\n",
    "import pandas as pd\n",
    "from collections import defaultdict\n",
    "import datatable as dt\n",
    "import lightgbm as lgb\n",
    "from matplotlib import pyplot as plt\n",
    "import riiideducation\n",
    "from bitarray import bitarray\n",
    "\n",
    "from tqdm._tqdm_notebook import tqdm_notebook\n",
    "tqdm_notebook.pandas(desc=\"progress: \")\n",
    "\n",
    "_ = np.seterr(divide='ignore', invalid='ignore')"
   ]
  },
  {
   "cell_type": "markdown",
   "metadata": {
    "papermill": {
     "duration": 0.017974,
     "end_time": "2020-11-29T03:13:55.832704",
     "exception": false,
     "start_time": "2020-11-29T03:13:55.814730",
     "status": "completed"
    },
    "tags": []
   },
   "source": [
    "# Preprocess"
   ]
  },
  {
   "cell_type": "code",
   "execution_count": 3,
   "metadata": {
    "execution": {
     "iopub.execute_input": "2020-11-29T03:13:55.875621Z",
     "iopub.status.busy": "2020-11-29T03:13:55.874552Z",
     "iopub.status.idle": "2020-11-29T03:13:55.877468Z",
     "shell.execute_reply": "2020-11-29T03:13:55.876953Z"
    },
    "papermill": {
     "duration": 0.026777,
     "end_time": "2020-11-29T03:13:55.877565",
     "exception": false,
     "start_time": "2020-11-29T03:13:55.850788",
     "status": "completed"
    },
    "tags": []
   },
   "outputs": [],
   "source": [
    "data_types_dict = {\n",
    "    #'row_id': 'uint32',\n",
    "    'user_id': 'int32', \n",
    "    'content_id': 'int16', \n",
    "    'answered_correctly': 'int8', \n",
    "    'prior_question_elapsed_time': 'float32', \n",
    "    'prior_question_had_explanation': 'bool'\n",
    "}\n",
    "target = 'answered_correctly'"
   ]
  },
  {
   "cell_type": "code",
   "execution_count": 4,
   "metadata": {
    "execution": {
     "iopub.execute_input": "2020-11-29T03:13:55.919470Z",
     "iopub.status.busy": "2020-11-29T03:13:55.918859Z",
     "iopub.status.idle": "2020-11-29T03:15:00.898210Z",
     "shell.execute_reply": "2020-11-29T03:15:00.898697Z"
    },
    "papermill": {
     "duration": 65.00309,
     "end_time": "2020-11-29T03:15:00.898863",
     "exception": false,
     "start_time": "2020-11-29T03:13:55.895773",
     "status": "completed"
    },
    "tags": []
   },
   "outputs": [],
   "source": [
    "train_df = dt.fread('../input/riiid-test-answer-prediction/train.csv', columns=set(data_types_dict.keys())).to_pandas()\n",
    "train_df = train_df[train_df[target] != -1].reset_index(drop=True)\n",
    "train_df['prior_question_had_explanation'].fillna(False, inplace=True)\n",
    "train_df = train_df.astype(data_types_dict)"
   ]
  },
  {
   "cell_type": "code",
   "execution_count": 5,
   "metadata": {
    "execution": {
     "iopub.execute_input": "2020-11-29T03:15:00.948842Z",
     "iopub.status.busy": "2020-11-29T03:15:00.948115Z",
     "iopub.status.idle": "2020-11-29T03:15:12.675195Z",
     "shell.execute_reply": "2020-11-29T03:15:12.674355Z"
    },
    "papermill": {
     "duration": 11.757403,
     "end_time": "2020-11-29T03:15:12.675350",
     "exception": false,
     "start_time": "2020-11-29T03:15:00.917947",
     "status": "completed"
    },
    "tags": []
   },
   "outputs": [],
   "source": [
    "questions_df = pd.read_csv(\n",
    "    '../input/riiid-test-answer-prediction/questions.csv', \n",
    "    usecols=[0, 3],\n",
    "    dtype={'question_id': 'int16', 'part': 'int8'}\n",
    ")\n",
    "train_df = pd.merge(train_df, questions_df, left_on='content_id', right_on='question_id', how='left', right_index=True).reset_index(drop=True)\n",
    "train_df.drop(columns=['question_id'], inplace=True)"
   ]
  },
  {
   "cell_type": "code",
   "execution_count": 6,
   "metadata": {
    "execution": {
     "iopub.execute_input": "2020-11-29T03:15:12.737365Z",
     "iopub.status.busy": "2020-11-29T03:15:12.736679Z",
     "iopub.status.idle": "2020-11-29T03:15:25.601517Z",
     "shell.execute_reply": "2020-11-29T03:15:25.602226Z"
    },
    "papermill": {
     "duration": 12.899373,
     "end_time": "2020-11-29T03:15:25.602420",
     "exception": false,
     "start_time": "2020-11-29T03:15:12.703047",
     "status": "completed"
    },
    "tags": []
   },
   "outputs": [],
   "source": [
    "train_df['lag'] = train_df.groupby('user_id')[target].shift()\n",
    "cum = train_df.groupby('user_id')['lag'].agg(['cumsum', 'cumcount'])\n",
    "train_df['user_correctness'] = cum['cumsum'] / cum['cumcount']\n",
    "train_df.drop(columns=['lag'], inplace=True)\n",
    "del cum"
   ]
  },
  {
   "cell_type": "code",
   "execution_count": 7,
   "metadata": {
    "execution": {
     "iopub.execute_input": "2020-11-29T03:15:25.664781Z",
     "iopub.status.busy": "2020-11-29T03:15:25.663981Z",
     "iopub.status.idle": "2020-11-29T03:15:50.860819Z",
     "shell.execute_reply": "2020-11-29T03:15:50.860210Z"
    },
    "papermill": {
     "duration": 25.230002,
     "end_time": "2020-11-29T03:15:50.860934",
     "exception": false,
     "start_time": "2020-11-29T03:15:25.630932",
     "status": "completed"
    },
    "tags": []
   },
   "outputs": [],
   "source": [
    "train_df[\"reading_part\"] = train_df[\"part\"] >=5\n",
    "train_df[\"reading_part\"] = train_df[\"reading_part\"].astype(\"int8\")\n",
    "train_df['reading_part_lag'] = train_df.groupby('user_id')[\"reading_part\"].shift()\n",
    "cum = train_df.groupby('user_id')['reading_part_lag'].agg(['cumsum']) \n",
    "train_df['reading_part_ratio'] = cum['cumsum'] \n",
    "train_df.drop(columns=['reading_part_lag', 'reading_part'], inplace=True)\n",
    "del cum"
   ]
  },
  {
   "cell_type": "code",
   "execution_count": 8,
   "metadata": {
    "execution": {
     "iopub.execute_input": "2020-11-29T03:15:50.909741Z",
     "iopub.status.busy": "2020-11-29T03:15:50.909076Z",
     "iopub.status.idle": "2020-11-29T03:16:31.835977Z",
     "shell.execute_reply": "2020-11-29T03:16:31.835447Z"
    },
    "papermill": {
     "duration": 40.955632,
     "end_time": "2020-11-29T03:16:31.836108",
     "exception": false,
     "start_time": "2020-11-29T03:15:50.880476",
     "status": "completed"
    },
    "tags": []
   },
   "outputs": [],
   "source": [
    "train_df[\"listening_part\"] = (train_df[\"part\"] >=1) | (train_df[\"part\"] <=4)\n",
    "train_df[\"listening_part\"] = train_df[\"listening_part\"].astype(\"int8\")\n",
    "train_df['listening_part_lag'] = train_df.groupby('user_id')[\"listening_part\"].shift()\n",
    "cum = train_df.groupby('user_id')['listening_part_lag'].agg(['cumsum']) \n",
    "train_df['listening_part_ratio'] = cum['cumsum'] \n",
    "train_df.drop(columns=['listening_part_lag', 'listening_part'], inplace=True)\n",
    "del cum"
   ]
  },
  {
   "cell_type": "code",
   "execution_count": 9,
   "metadata": {
    "execution": {
     "iopub.execute_input": "2020-11-29T03:16:31.880233Z",
     "iopub.status.busy": "2020-11-29T03:16:31.879578Z",
     "iopub.status.idle": "2020-11-29T03:16:58.003296Z",
     "shell.execute_reply": "2020-11-29T03:16:58.002586Z"
    },
    "papermill": {
     "duration": 26.148325,
     "end_time": "2020-11-29T03:16:58.003431",
     "exception": false,
     "start_time": "2020-11-29T03:16:31.855106",
     "status": "completed"
    },
    "tags": []
   },
   "outputs": [],
   "source": [
    "#train_df[\"first_attempt\"] = train_df[[\"row_id\", \"user_id\", \"content_id\"]].groupby(\"user_id\").progress_apply(lambda x: \n",
    "#                                                                    pd.DataFrame(np.isin(x[\"row_id\"].values, x.drop_duplicates(\"content_id\")[\"row_id\"].values))).values\n",
    "#train_df.drop(\"row_id\", axis=1, inplace=True)\n",
    "first_attempt_df = pd.read_csv(\"../input/riiid-additional-data/content_first_attempt.csv\")\n",
    "train_df[\"first_attempt\"] = first_attempt_df.first_attempt\n",
    "del first_attempt_df"
   ]
  },
  {
   "cell_type": "code",
   "execution_count": 10,
   "metadata": {
    "execution": {
     "iopub.execute_input": "2020-11-29T03:16:58.067674Z",
     "iopub.status.busy": "2020-11-29T03:16:58.066660Z",
     "iopub.status.idle": "2020-11-29T03:17:07.207905Z",
     "shell.execute_reply": "2020-11-29T03:17:07.207373Z"
    },
    "papermill": {
     "duration": 9.175159,
     "end_time": "2020-11-29T03:17:07.208016",
     "exception": false,
     "start_time": "2020-11-29T03:16:58.032857",
     "status": "completed"
    },
    "tags": []
   },
   "outputs": [],
   "source": [
    "user_agg = train_df.groupby('user_id')[target].agg(['sum', 'count'])\n",
    "content_agg = train_df.groupby('content_id')[target].agg(['sum', 'count'])"
   ]
  },
  {
   "cell_type": "code",
   "execution_count": 11,
   "metadata": {
    "execution": {
     "iopub.execute_input": "2020-11-29T03:17:07.254605Z",
     "iopub.status.busy": "2020-11-29T03:17:07.253981Z",
     "iopub.status.idle": "2020-11-29T03:17:12.277851Z",
     "shell.execute_reply": "2020-11-29T03:17:12.277292Z"
    },
    "papermill": {
     "duration": 5.050775,
     "end_time": "2020-11-29T03:17:12.277976",
     "exception": false,
     "start_time": "2020-11-29T03:17:07.227201",
     "status": "completed"
    },
    "tags": []
   },
   "outputs": [],
   "source": [
    "user_listening_agg = train_df.groupby('user_id')[\"listening_part_ratio\"].agg(['max'])\n",
    "user_reading_agg = train_df.groupby('user_id')[\"reading_part_ratio\"].agg(['max'])\n",
    "user_reading_agg['max'].fillna(0,inplace=True)\n",
    "user_listening_agg['max'].fillna(0,inplace=True)"
   ]
  },
  {
   "cell_type": "code",
   "execution_count": 12,
   "metadata": {
    "execution": {
     "iopub.execute_input": "2020-11-29T03:17:12.325203Z",
     "iopub.status.busy": "2020-11-29T03:17:12.324354Z",
     "iopub.status.idle": "2020-11-29T03:19:20.657832Z",
     "shell.execute_reply": "2020-11-29T03:19:20.658679Z"
    },
    "papermill": {
     "duration": 128.360352,
     "end_time": "2020-11-29T03:19:20.658836",
     "exception": false,
     "start_time": "2020-11-29T03:17:12.298484",
     "status": "completed"
    },
    "tags": []
   },
   "outputs": [
    {
     "name": "stdout",
     "output_type": "stream",
     "text": [
      "CPU times: user 2min 5s, sys: 3.25 s, total: 2min 8s\n",
      "Wall time: 2min 8s\n"
     ]
    }
   ],
   "source": [
    "%%time\n",
    "user_content_agg = train_df.groupby(\"user_id\")[\"content_id\"].unique().reset_index().set_index(\"user_id\")\n",
    "\n",
    "value = []\n",
    "for j in user_content_agg.index:\n",
    "    a = bitarray(32737, endian='little')\n",
    "    a.setall(True)\n",
    "    for i in user_content_agg.loc[j][0]:\n",
    "        a[i] = 0\n",
    "    value.append(a)\n",
    "    \n",
    "user_content_agg[\"content_exp\"] = value"
   ]
  },
  {
   "cell_type": "code",
   "execution_count": 13,
   "metadata": {
    "execution": {
     "iopub.execute_input": "2020-11-29T03:19:20.724423Z",
     "iopub.status.busy": "2020-11-29T03:19:20.723507Z",
     "iopub.status.idle": "2020-11-29T03:19:23.871647Z",
     "shell.execute_reply": "2020-11-29T03:19:23.872124Z"
    },
    "papermill": {
     "duration": 3.183591,
     "end_time": "2020-11-29T03:19:23.872284",
     "exception": false,
     "start_time": "2020-11-29T03:19:20.688693",
     "status": "completed"
    },
    "tags": []
   },
   "outputs": [],
   "source": [
    "train_df[\"count\"] = 1\n",
    "train_df[\"count\"] = train_df.groupby(\"user_id\")[\"count\"].cumsum()"
   ]
  },
  {
   "cell_type": "code",
   "execution_count": 14,
   "metadata": {
    "execution": {
     "iopub.execute_input": "2020-11-29T03:19:23.919486Z",
     "iopub.status.busy": "2020-11-29T03:19:23.918024Z",
     "iopub.status.idle": "2020-11-29T03:19:32.255382Z",
     "shell.execute_reply": "2020-11-29T03:19:32.254506Z"
    },
    "papermill": {
     "duration": 8.362915,
     "end_time": "2020-11-29T03:19:32.255514",
     "exception": false,
     "start_time": "2020-11-29T03:19:23.892599",
     "status": "completed"
    },
    "tags": []
   },
   "outputs": [],
   "source": [
    "train_df = train_df.groupby('user_id').tail(24).reset_index(drop=True)"
   ]
  },
  {
   "cell_type": "code",
   "execution_count": 15,
   "metadata": {
    "execution": {
     "iopub.execute_input": "2020-11-29T03:19:32.336147Z",
     "iopub.status.busy": "2020-11-29T03:19:32.334981Z",
     "iopub.status.idle": "2020-11-29T03:19:32.588720Z",
     "shell.execute_reply": "2020-11-29T03:19:32.588061Z"
    },
    "papermill": {
     "duration": 0.296795,
     "end_time": "2020-11-29T03:19:32.588826",
     "exception": false,
     "start_time": "2020-11-29T03:19:32.292031",
     "status": "completed"
    },
    "tags": []
   },
   "outputs": [],
   "source": [
    "train_df['content_count'] = train_df['content_id'].map(content_agg['count']).astype('int32')\n",
    "train_df['content_id'] = train_df['content_id'].map(content_agg['sum'] / content_agg['count'])"
   ]
  },
  {
   "cell_type": "code",
   "execution_count": 16,
   "metadata": {
    "execution": {
     "iopub.execute_input": "2020-11-29T03:19:32.635472Z",
     "iopub.status.busy": "2020-11-29T03:19:32.634156Z",
     "iopub.status.idle": "2020-11-29T03:19:34.397476Z",
     "shell.execute_reply": "2020-11-29T03:19:34.396739Z"
    },
    "papermill": {
     "duration": 1.788761,
     "end_time": "2020-11-29T03:19:34.397615",
     "exception": false,
     "start_time": "2020-11-29T03:19:32.608854",
     "status": "completed"
    },
    "tags": []
   },
   "outputs": [],
   "source": [
    "valid_df = train_df.groupby('user_id').tail(6)\n",
    "train_df.drop(valid_df.index, inplace=True)"
   ]
  },
  {
   "cell_type": "code",
   "execution_count": 17,
   "metadata": {
    "execution": {
     "iopub.execute_input": "2020-11-29T03:19:34.471991Z",
     "iopub.status.busy": "2020-11-29T03:19:34.470882Z",
     "iopub.status.idle": "2020-11-29T03:19:34.483693Z",
     "shell.execute_reply": "2020-11-29T03:19:34.482980Z"
    },
    "papermill": {
     "duration": 0.055251,
     "end_time": "2020-11-29T03:19:34.483826",
     "exception": false,
     "start_time": "2020-11-29T03:19:34.428575",
     "status": "completed"
    },
    "tags": []
   },
   "outputs": [
    {
     "data": {
      "text/html": [
       "<div>\n",
       "<style scoped>\n",
       "    .dataframe tbody tr th:only-of-type {\n",
       "        vertical-align: middle;\n",
       "    }\n",
       "\n",
       "    .dataframe tbody tr th {\n",
       "        vertical-align: top;\n",
       "    }\n",
       "\n",
       "    .dataframe thead th {\n",
       "        text-align: right;\n",
       "    }\n",
       "</style>\n",
       "<table border=\"1\" class=\"dataframe\">\n",
       "  <thead>\n",
       "    <tr style=\"text-align: right;\">\n",
       "      <th></th>\n",
       "      <th>user_id</th>\n",
       "      <th>content_id</th>\n",
       "      <th>answered_correctly</th>\n",
       "      <th>prior_question_elapsed_time</th>\n",
       "      <th>prior_question_had_explanation</th>\n",
       "      <th>part</th>\n",
       "      <th>user_correctness</th>\n",
       "      <th>reading_part_ratio</th>\n",
       "      <th>listening_part_ratio</th>\n",
       "      <th>first_attempt</th>\n",
       "      <th>count</th>\n",
       "      <th>content_count</th>\n",
       "    </tr>\n",
       "  </thead>\n",
       "  <tbody>\n",
       "    <tr>\n",
       "      <th>0</th>\n",
       "      <td>115</td>\n",
       "      <td>0.687217</td>\n",
       "      <td>0</td>\n",
       "      <td>19000.0</td>\n",
       "      <td>False</td>\n",
       "      <td>1</td>\n",
       "      <td>0.727273</td>\n",
       "      <td>2.0</td>\n",
       "      <td>22.0</td>\n",
       "      <td>True</td>\n",
       "      <td>23</td>\n",
       "      <td>36674</td>\n",
       "    </tr>\n",
       "    <tr>\n",
       "      <th>1</th>\n",
       "      <td>115</td>\n",
       "      <td>0.608222</td>\n",
       "      <td>0</td>\n",
       "      <td>21000.0</td>\n",
       "      <td>False</td>\n",
       "      <td>1</td>\n",
       "      <td>0.695652</td>\n",
       "      <td>2.0</td>\n",
       "      <td>23.0</td>\n",
       "      <td>True</td>\n",
       "      <td>24</td>\n",
       "      <td>47047</td>\n",
       "    </tr>\n",
       "    <tr>\n",
       "      <th>2</th>\n",
       "      <td>115</td>\n",
       "      <td>0.601824</td>\n",
       "      <td>1</td>\n",
       "      <td>22000.0</td>\n",
       "      <td>False</td>\n",
       "      <td>1</td>\n",
       "      <td>0.666667</td>\n",
       "      <td>2.0</td>\n",
       "      <td>24.0</td>\n",
       "      <td>True</td>\n",
       "      <td>25</td>\n",
       "      <td>40452</td>\n",
       "    </tr>\n",
       "    <tr>\n",
       "      <th>3</th>\n",
       "      <td>115</td>\n",
       "      <td>0.418436</td>\n",
       "      <td>1</td>\n",
       "      <td>16000.0</td>\n",
       "      <td>False</td>\n",
       "      <td>1</td>\n",
       "      <td>0.680000</td>\n",
       "      <td>2.0</td>\n",
       "      <td>25.0</td>\n",
       "      <td>True</td>\n",
       "      <td>26</td>\n",
       "      <td>190170</td>\n",
       "    </tr>\n",
       "    <tr>\n",
       "      <th>4</th>\n",
       "      <td>115</td>\n",
       "      <td>0.474545</td>\n",
       "      <td>1</td>\n",
       "      <td>20000.0</td>\n",
       "      <td>False</td>\n",
       "      <td>1</td>\n",
       "      <td>0.692308</td>\n",
       "      <td>2.0</td>\n",
       "      <td>26.0</td>\n",
       "      <td>True</td>\n",
       "      <td>27</td>\n",
       "      <td>56707</td>\n",
       "    </tr>\n",
       "  </tbody>\n",
       "</table>\n",
       "</div>"
      ],
      "text/plain": [
       "   user_id  content_id  answered_correctly  prior_question_elapsed_time  \\\n",
       "0      115    0.687217                   0                      19000.0   \n",
       "1      115    0.608222                   0                      21000.0   \n",
       "2      115    0.601824                   1                      22000.0   \n",
       "3      115    0.418436                   1                      16000.0   \n",
       "4      115    0.474545                   1                      20000.0   \n",
       "\n",
       "   prior_question_had_explanation  part  user_correctness  reading_part_ratio  \\\n",
       "0                           False     1          0.727273                 2.0   \n",
       "1                           False     1          0.695652                 2.0   \n",
       "2                           False     1          0.666667                 2.0   \n",
       "3                           False     1          0.680000                 2.0   \n",
       "4                           False     1          0.692308                 2.0   \n",
       "\n",
       "   listening_part_ratio  first_attempt  count  content_count  \n",
       "0                  22.0           True     23          36674  \n",
       "1                  23.0           True     24          47047  \n",
       "2                  24.0           True     25          40452  \n",
       "3                  25.0           True     26         190170  \n",
       "4                  26.0           True     27          56707  "
      ]
     },
     "execution_count": 17,
     "metadata": {},
     "output_type": "execute_result"
    }
   ],
   "source": [
    "train_df.head()"
   ]
  },
  {
   "cell_type": "markdown",
   "metadata": {
    "papermill": {
     "duration": 0.031069,
     "end_time": "2020-11-29T03:19:34.546725",
     "exception": false,
     "start_time": "2020-11-29T03:19:34.515656",
     "status": "completed"
    },
    "tags": []
   },
   "source": [
    "# Train"
   ]
  },
  {
   "cell_type": "code",
   "execution_count": 18,
   "metadata": {
    "execution": {
     "iopub.execute_input": "2020-11-29T03:19:34.617096Z",
     "iopub.status.busy": "2020-11-29T03:19:34.616031Z",
     "iopub.status.idle": "2020-11-29T03:19:34.618743Z",
     "shell.execute_reply": "2020-11-29T03:19:34.619563Z"
    },
    "papermill": {
     "duration": 0.041552,
     "end_time": "2020-11-29T03:19:34.619717",
     "exception": false,
     "start_time": "2020-11-29T03:19:34.578165",
     "status": "completed"
    },
    "tags": []
   },
   "outputs": [],
   "source": [
    "features = [\n",
    "    'content_id',\n",
    "    'prior_question_elapsed_time',\n",
    "    'prior_question_had_explanation',\n",
    "    'user_correctness',\n",
    "    'part',\n",
    "    'content_count',\n",
    "    'count',\n",
    "    'reading_part_ratio',\n",
    "    'listening_part_ratio',\n",
    "    'first_attempt',\n",
    "]\n",
    "\n",
    "params = {\n",
    "    'objective': 'binary',\n",
    "    'seed': 42,\n",
    "    'metric': 'auc',\n",
    "    'learning_rate': 0.05,\n",
    "    'max_bin': 800,\n",
    "    'num_leaves': 80\n",
    "}"
   ]
  },
  {
   "cell_type": "code",
   "execution_count": 19,
   "metadata": {
    "execution": {
     "iopub.execute_input": "2020-11-29T03:19:34.776281Z",
     "iopub.status.busy": "2020-11-29T03:19:34.770725Z",
     "iopub.status.idle": "2020-11-29T04:20:12.211465Z",
     "shell.execute_reply": "2020-11-29T04:20:12.212083Z"
    },
    "papermill": {
     "duration": 3637.560746,
     "end_time": "2020-11-29T04:20:12.212403",
     "exception": false,
     "start_time": "2020-11-29T03:19:34.651657",
     "status": "completed"
    },
    "tags": []
   },
   "outputs": [
    {
     "name": "stdout",
     "output_type": "stream",
     "text": [
      "Training until validation scores don't improve for 50 rounds\n",
      "[50]\ttraining's auc: 0.756817\tvalid_1's auc: 0.741142\n",
      "[100]\ttraining's auc: 0.759094\tvalid_1's auc: 0.74385\n",
      "[150]\ttraining's auc: 0.760175\tvalid_1's auc: 0.74499\n",
      "[200]\ttraining's auc: 0.760673\tvalid_1's auc: 0.745348\n",
      "[250]\ttraining's auc: 0.761031\tvalid_1's auc: 0.745554\n",
      "[300]\ttraining's auc: 0.761374\tvalid_1's auc: 0.74575\n",
      "[350]\ttraining's auc: 0.761702\tvalid_1's auc: 0.74591\n",
      "[400]\ttraining's auc: 0.762005\tvalid_1's auc: 0.746045\n",
      "[450]\ttraining's auc: 0.762281\tvalid_1's auc: 0.746156\n",
      "[500]\ttraining's auc: 0.762532\tvalid_1's auc: 0.746244\n",
      "[550]\ttraining's auc: 0.762767\tvalid_1's auc: 0.746331\n",
      "[600]\ttraining's auc: 0.762998\tvalid_1's auc: 0.746402\n",
      "[650]\ttraining's auc: 0.763246\tvalid_1's auc: 0.746485\n",
      "[700]\ttraining's auc: 0.763454\tvalid_1's auc: 0.746533\n",
      "[750]\ttraining's auc: 0.763681\tvalid_1's auc: 0.746593\n",
      "[800]\ttraining's auc: 0.763951\tvalid_1's auc: 0.746692\n",
      "[850]\ttraining's auc: 0.764158\tvalid_1's auc: 0.746721\n",
      "[900]\ttraining's auc: 0.764374\tvalid_1's auc: 0.746764\n",
      "[950]\ttraining's auc: 0.764584\tvalid_1's auc: 0.746799\n",
      "[1000]\ttraining's auc: 0.764783\tvalid_1's auc: 0.746823\n",
      "[1050]\ttraining's auc: 0.764977\tvalid_1's auc: 0.746851\n",
      "[1100]\ttraining's auc: 0.765172\tvalid_1's auc: 0.746879\n",
      "[1150]\ttraining's auc: 0.765353\tvalid_1's auc: 0.746899\n",
      "[1200]\ttraining's auc: 0.765531\tvalid_1's auc: 0.746917\n",
      "[1250]\ttraining's auc: 0.765707\tvalid_1's auc: 0.746926\n",
      "[1300]\ttraining's auc: 0.765888\tvalid_1's auc: 0.746944\n",
      "[1350]\ttraining's auc: 0.7661\tvalid_1's auc: 0.746984\n",
      "[1400]\ttraining's auc: 0.766297\tvalid_1's auc: 0.747026\n",
      "[1450]\ttraining's auc: 0.766492\tvalid_1's auc: 0.747062\n",
      "[1500]\ttraining's auc: 0.766673\tvalid_1's auc: 0.747088\n",
      "[1550]\ttraining's auc: 0.766844\tvalid_1's auc: 0.747101\n",
      "[1600]\ttraining's auc: 0.767022\tvalid_1's auc: 0.747119\n",
      "[1650]\ttraining's auc: 0.767206\tvalid_1's auc: 0.74713\n",
      "[1700]\ttraining's auc: 0.76738\tvalid_1's auc: 0.747137\n",
      "[1750]\ttraining's auc: 0.767573\tvalid_1's auc: 0.747167\n",
      "[1800]\ttraining's auc: 0.767733\tvalid_1's auc: 0.747168\n",
      "[1850]\ttraining's auc: 0.767904\tvalid_1's auc: 0.747189\n",
      "[1900]\ttraining's auc: 0.768085\tvalid_1's auc: 0.74721\n",
      "[1950]\ttraining's auc: 0.768247\tvalid_1's auc: 0.747221\n",
      "[2000]\ttraining's auc: 0.768413\tvalid_1's auc: 0.747226\n",
      "[2050]\ttraining's auc: 0.768573\tvalid_1's auc: 0.74723\n",
      "Early stopping, best iteration is:\n",
      "[2010]\ttraining's auc: 0.768444\tvalid_1's auc: 0.747231\n"
     ]
    },
    {
     "data": {
      "image/png": "[encoded data removed]",
      "text/plain": [
       "<Figure size 432x288 with 1 Axes>"
      ]
     },
     "metadata": {
      "needs_background": "light"
     },
     "output_type": "display_data"
    }
   ],
   "source": [
    "tr_data = lgb.Dataset(train_df[features], label=train_df[target])\n",
    "va_data = lgb.Dataset(valid_df[features], label=valid_df[target])\n",
    "\n",
    "model = lgb.train(\n",
    "    params, \n",
    "    tr_data, \n",
    "    num_boost_round=10000,\n",
    "    valid_sets=[tr_data, va_data], \n",
    "    early_stopping_rounds=50,\n",
    "    verbose_eval=50\n",
    ")\n",
    "\n",
    "lgb.plot_importance(model, importance_type='gain')\n",
    "plt.show()"
   ]
  },
  {
   "cell_type": "markdown",
   "metadata": {
    "papermill": {
     "duration": 0.037414,
     "end_time": "2020-11-29T04:20:12.289297",
     "exception": false,
     "start_time": "2020-11-29T04:20:12.251883",
     "status": "completed"
    },
    "tags": []
   },
   "source": [
    "# Inference"
   ]
  },
  {
   "cell_type": "code",
   "execution_count": 20,
   "metadata": {
    "execution": {
     "iopub.execute_input": "2020-11-29T04:20:12.376945Z",
     "iopub.status.busy": "2020-11-29T04:20:12.376296Z",
     "iopub.status.idle": "2020-11-29T04:20:13.311158Z",
     "shell.execute_reply": "2020-11-29T04:20:13.310508Z"
    },
    "papermill": {
     "duration": 0.984492,
     "end_time": "2020-11-29T04:20:13.311299",
     "exception": false,
     "start_time": "2020-11-29T04:20:12.326807",
     "status": "completed"
    },
    "tags": []
   },
   "outputs": [],
   "source": [
    "def make_bitarray():\n",
    "    a = bitarray(32737, endian='little')\n",
    "    a.setall(True)   \n",
    "    return a\n",
    "\n",
    "user_sum_dict = user_agg['sum'].astype('int16').to_dict(defaultdict(int))\n",
    "user_count_dict = user_agg['count'].astype('int16').to_dict(defaultdict(int))\n",
    "content_sum_dict = content_agg['sum'].astype('int32').to_dict(defaultdict(int))\n",
    "content_count_dict = content_agg['count'].astype('int32').to_dict(defaultdict(int))\n",
    "user_reading_dict = user_reading_agg['max'].astype('int32').to_dict(defaultdict(int))\n",
    "user_listening_dict = user_listening_agg['max'].astype('int32').to_dict(defaultdict(int))\n",
    "user_content_dict = user_content_agg[\"content_exp\"].to_dict(defaultdict(make_bitarray))"
   ]
  },
  {
   "cell_type": "code",
   "execution_count": 21,
   "metadata": {
    "execution": {
     "iopub.execute_input": "2020-11-29T04:20:13.391568Z",
     "iopub.status.busy": "2020-11-29T04:20:13.390845Z",
     "iopub.status.idle": "2020-11-29T04:20:13.394527Z",
     "shell.execute_reply": "2020-11-29T04:20:13.393995Z"
    },
    "papermill": {
     "duration": 0.046238,
     "end_time": "2020-11-29T04:20:13.394642",
     "exception": false,
     "start_time": "2020-11-29T04:20:13.348404",
     "status": "completed"
    },
    "tags": []
   },
   "outputs": [],
   "source": [
    "env = riiideducation.make_env()\n",
    "iter_test = env.iter_test()\n",
    "prior_test_df = None"
   ]
  },
  {
   "cell_type": "code",
   "execution_count": 22,
   "metadata": {
    "execution": {
     "iopub.execute_input": "2020-11-29T04:20:13.591960Z",
     "iopub.status.busy": "2020-11-29T04:20:13.591308Z",
     "iopub.status.idle": "2020-11-29T04:20:14.350172Z",
     "shell.execute_reply": "2020-11-29T04:20:14.349316Z"
    },
    "papermill": {
     "duration": 0.917601,
     "end_time": "2020-11-29T04:20:14.350362",
     "exception": false,
     "start_time": "2020-11-29T04:20:13.432761",
     "status": "completed"
    },
    "tags": []
   },
   "outputs": [
    {
     "name": "stdout",
     "output_type": "stream",
     "text": [
      "CPU times: user 1.22 s, sys: 48 ms, total: 1.27 s\n",
      "Wall time: 755 ms\n"
     ]
    }
   ],
   "source": [
    "%%time\n",
    "\n",
    "for (test_df, sample_prediction_df) in iter_test:\n",
    "    if prior_test_df is not None:\n",
    "        prior_test_df[target] = eval(test_df['prior_group_answers_correct'].iloc[0])\n",
    "        prior_test_df = prior_test_df[prior_test_df[target] != -1].reset_index(drop=True)\n",
    "        \n",
    "        user_ids = prior_test_df['user_id'].values\n",
    "        content_ids = prior_test_df['content_id'].values\n",
    "        targets = prior_test_df[target].values\n",
    "        parts = prior_part_arrays\n",
    "        \n",
    "        for user_id, content_id, answered_correctly, part in zip(user_ids, content_ids, targets, parts):\n",
    "            user_sum_dict[user_id] += answered_correctly\n",
    "            user_count_dict[user_id] += 1\n",
    "            content_sum_dict[content_id] += answered_correctly\n",
    "            content_count_dict[content_id] += 1\n",
    "            if part <=4:\n",
    "                user_listening_dict[user_id] +=1\n",
    "            else:\n",
    "                user_reading_dict[user_id] +=1\n",
    "\n",
    "    prior_test_df = test_df.copy()\n",
    "    \n",
    "    test_df = test_df[test_df['content_type_id'] == 0].reset_index(drop=True)\n",
    "    test_df = pd.merge(test_df, questions_df, left_on='content_id', right_on='question_id', how='left', right_index=True).reset_index(drop=True)\n",
    "    test_df['prior_question_had_explanation'] = test_df['prior_question_had_explanation'].fillna(False).astype('bool')    \n",
    "    \n",
    "    prior_part_arrays = test_df['part'].values\n",
    "    \n",
    "    user_sum = np.zeros(len(test_df), dtype=np.int16)\n",
    "    user_count = np.zeros(len(test_df), dtype=np.int16)\n",
    "    content_sum = np.zeros(len(test_df), dtype=np.int32)\n",
    "    content_count = np.zeros(len(test_df), dtype=np.int32)\n",
    "    listening_count = np.zeros(len(test_df), dtype=np.int32)\n",
    "    reading_count = np.zeros(len(test_df), dtype=np.int32)\n",
    "    first_attempt_values = []\n",
    "    \n",
    "    for i, (user_id, content_id) in enumerate(zip(test_df['user_id'].values, test_df['content_id'].values)):\n",
    "        user_sum[i] = user_sum_dict[user_id]\n",
    "        user_count[i] = user_count_dict[user_id]\n",
    "        content_sum[i] = content_sum_dict[content_id]\n",
    "        content_count[i] = content_count_dict[content_id]\n",
    "        listening_count[i] = user_listening_dict[user_id]\n",
    "        reading_count[i] = user_reading_dict[user_id]\n",
    "        first_attempt_values.append(user_content_dict[user_id][content_id])\n",
    "        user_content_dict[user_id][content_id] = False \n",
    "\n",
    "    test_df['user_correctness'] = user_sum / user_count\n",
    "    test_df['content_count'] = content_count\n",
    "    test_df['content_id'] = content_sum / content_count\n",
    "    test_df['count'] = 1\n",
    "    test_df['count'] = test_df.groupby(\"user_id\")[\"count\"].cumsum()\n",
    "    test_df['count'] += user_count\n",
    "    test_df['reading_part_ratio'] = reading_count\n",
    "    test_df['listening_part_ratio'] = listening_count\n",
    "    test_df[\"first_attempt\"] = first_attempt_values\n",
    "    \n",
    "    test_df[target] = model.predict(test_df[features])\n",
    "    env.predict(test_df[['row_id', target]])"
   ]
  },
  {
   "cell_type": "code",
   "execution_count": null,
   "metadata": {
    "papermill": {
     "duration": 0.055869,
     "end_time": "2020-11-29T04:20:14.463730",
     "exception": false,
     "start_time": "2020-11-29T04:20:14.407861",
     "status": "completed"
    },
    "tags": []
   },
   "outputs": [],
   "source": []
  }
 ],
 "metadata": {
  "kernelspec": {
   "display_name": "Python 3",
   "language": "python",
   "name": "python3"
  },
  "language_info": {
   "codemirror_mode": {
    "name": "ipython",
    "version": 3
   },
   "file_extension": ".py",
   "mimetype": "text/x-python",
   "name": "python",
   "nbconvert_exporter": "python",
   "pygments_lexer": "ipython3",
   "version": "3.7.6"
  },
  "papermill": {
   "duration": 4014.370357,
   "end_time": "2020-11-29T04:20:14.730673",
   "environment_variables": {},
   "exception": null,
   "input_path": "__notebook__.ipynb",
   "output_path": "__notebook__.ipynb",
   "parameters": {},
   "start_time": "2020-11-29T03:13:20.360316",
   "version": "2.1.0"
  }
 },
 "nbformat": 4,
 "nbformat_minor": 4
}
