{
 "cells": [
  {
   "cell_type": "markdown",
   "metadata": {
    "papermill": {
     "duration": 0.023403,
     "end_time": "2020-12-01T02:17:43.442495",
     "exception": false,
     "start_time": "2020-12-01T02:17:43.419092",
     "status": "completed"
    },
    "tags": []
   },
   "source": [
    "- add lecture num, unique content num"
   ]
  },
  {
   "cell_type": "code",
   "execution_count": 1,
   "metadata": {
    "_cell_guid": "b1076dfc-b9ad-4769-8c92-a6c4dae69d19",
    "_uuid": "8f2839f25d086af736a60e9eeb907d3b93b6e0e5",
    "execution": {
     "iopub.execute_input": "2020-12-01T02:17:43.495674Z",
     "iopub.status.busy": "2020-12-01T02:17:43.494658Z",
     "iopub.status.idle": "2020-12-01T02:18:14.892299Z",
     "shell.execute_reply": "2020-12-01T02:18:14.892920Z"
    },
    "papermill": {
     "duration": 31.428206,
     "end_time": "2020-12-01T02:18:14.893143",
     "exception": false,
     "start_time": "2020-12-01T02:17:43.464937",
     "status": "completed"
    },
    "tags": []
   },
   "outputs": [],
   "source": [
    "!pip install ../input/python-datatable/datatable-0.11.0-cp37-cp37m-manylinux2010_x86_64.whl > /dev/null 2>&1"
   ]
  },
  {
   "cell_type": "code",
   "execution_count": 2,
   "metadata": {
    "_cell_guid": "79c7e3d0-c299-4dcb-8224-4455121ee9b0",
    "_uuid": "d629ff2d2480ee46fbb7e2d37f6b5fab8052498a",
    "execution": {
     "iopub.execute_input": "2020-12-01T02:18:14.947945Z",
     "iopub.status.busy": "2020-12-01T02:18:14.947077Z",
     "iopub.status.idle": "2020-12-01T02:18:16.242794Z",
     "shell.execute_reply": "2020-12-01T02:18:16.241937Z"
    },
    "papermill": {
     "duration": 1.327381,
     "end_time": "2020-12-01T02:18:16.242982",
     "exception": false,
     "start_time": "2020-12-01T02:18:14.915601",
     "status": "completed"
    },
    "tags": []
   },
   "outputs": [
    {
     "data": {
      "text/html": [
       "<style type='text/css'>\n",
       ".datatable table.frame { margin-bottom: 0; }\n",
       ".datatable table.frame thead { border-bottom: none; }\n",
       ".datatable table.frame tr.coltypes td {  color: #FFFFFF;  line-height: 6px;  padding: 0 0.5em;}\n",
       ".datatable .bool    { background: #DDDD99; }\n",
       ".datatable .object  { background: #565656; }\n",
       ".datatable .int     { background: #5D9E5D; }\n",
       ".datatable .float   { background: #4040CC; }\n",
       ".datatable .str     { background: #CC4040; }\n",
       ".datatable .row_index {  background: var(--jp-border-color3);  border-right: 1px solid var(--jp-border-color0);  color: var(--jp-ui-font-color3);  font-size: 9px;}\n",
       ".datatable .frame tr.coltypes .row_index {  background: var(--jp-border-color0);}\n",
       ".datatable th:nth-child(2) { padding-left: 12px; }\n",
       ".datatable .hellipsis {  color: var(--jp-cell-editor-border-color);}\n",
       ".datatable .vellipsis {  background: var(--jp-layout-color0);  color: var(--jp-cell-editor-border-color);}\n",
       ".datatable .na {  color: var(--jp-cell-editor-border-color);  font-size: 80%;}\n",
       ".datatable .footer { font-size: 9px; }\n",
       ".datatable .frame_dimensions {  background: var(--jp-border-color3);  border-top: 1px solid var(--jp-border-color0);  color: var(--jp-ui-font-color3);  display: inline-block;  opacity: 0.6;  padding: 1px 10px 1px 5px;}\n",
       ".datatable .frame thead tr.colnames {  background-image: url('data:image/png;base64,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');  background-repeat: repeat-x;  background-size: 14px;  height: 28px;}\n",
       "</style>\n"
      ],
      "text/plain": [
       "<IPython.core.display.HTML object>"
      ]
     },
     "metadata": {},
     "output_type": "display_data"
    },
    {
     "name": "stderr",
     "output_type": "stream",
     "text": [
      "/opt/conda/lib/python3.7/site-packages/ipykernel_launcher.py:10: TqdmDeprecationWarning: This function will be removed in tqdm==5.0.0\n",
      "Please use `tqdm.notebook.*` instead of `tqdm._tqdm_notebook.*`\n",
      "  # Remove the CWD from sys.path while we load stuff.\n",
      "/opt/conda/lib/python3.7/site-packages/tqdm/std.py:666: FutureWarning: The Panel class is removed from pandas. Accessing it from the top-level namespace will also be removed in the next version\n",
      "  from pandas import Panel\n"
     ]
    }
   ],
   "source": [
    "import numpy as np\n",
    "import pandas as pd\n",
    "from collections import defaultdict\n",
    "import datatable as dt\n",
    "import lightgbm as lgb\n",
    "from matplotlib import pyplot as plt\n",
    "import riiideducation\n",
    "from bitarray import bitarray\n",
    "\n",
    "from tqdm._tqdm_notebook import tqdm_notebook\n",
    "tqdm_notebook.pandas(desc=\"progress: \")\n",
    "\n",
    "_ = np.seterr(divide='ignore', invalid='ignore')"
   ]
  },
  {
   "cell_type": "markdown",
   "metadata": {
    "papermill": {
     "duration": 0.023143,
     "end_time": "2020-12-01T02:18:16.291755",
     "exception": false,
     "start_time": "2020-12-01T02:18:16.268612",
     "status": "completed"
    },
    "tags": []
   },
   "source": [
    "# Preprocess"
   ]
  },
  {
   "cell_type": "code",
   "execution_count": 3,
   "metadata": {
    "execution": {
     "iopub.execute_input": "2020-12-01T02:18:16.345993Z",
     "iopub.status.busy": "2020-12-01T02:18:16.344662Z",
     "iopub.status.idle": "2020-12-01T02:18:16.348632Z",
     "shell.execute_reply": "2020-12-01T02:18:16.347841Z"
    },
    "papermill": {
     "duration": 0.033601,
     "end_time": "2020-12-01T02:18:16.348758",
     "exception": false,
     "start_time": "2020-12-01T02:18:16.315157",
     "status": "completed"
    },
    "tags": []
   },
   "outputs": [],
   "source": [
    "data_types_dict = {\n",
    "    #'row_id': 'uint32',\n",
    "    'user_id': 'int32', \n",
    "    'content_id': 'int16', \n",
    "    'answered_correctly': 'int8', \n",
    "    'prior_question_elapsed_time': 'float32', \n",
    "    'prior_question_had_explanation': 'bool'\n",
    "}\n",
    "target = 'answered_correctly'"
   ]
  },
  {
   "cell_type": "code",
   "execution_count": 4,
   "metadata": {
    "execution": {
     "iopub.execute_input": "2020-12-01T02:18:16.406473Z",
     "iopub.status.busy": "2020-12-01T02:18:16.405659Z",
     "iopub.status.idle": "2020-12-01T02:19:40.172623Z",
     "shell.execute_reply": "2020-12-01T02:19:40.171800Z"
    },
    "papermill": {
     "duration": 83.800261,
     "end_time": "2020-12-01T02:19:40.172770",
     "exception": false,
     "start_time": "2020-12-01T02:18:16.372509",
     "status": "completed"
    },
    "tags": []
   },
   "outputs": [],
   "source": [
    "train_df = dt.fread('../input/riiid-test-answer-prediction/train.csv', columns=set(data_types_dict.keys())).to_pandas()\n",
    "\n",
    "train_df['lec'] = train_df[target] == -1\n",
    "user_lec_agg = train_df.groupby(\"user_id\")[\"lec\"].sum()\n",
    "train_df['lec'] = train_df.groupby(\"user_id\")[\"lec\"].cumsum()\n",
    "\n",
    "train_df = train_df[train_df[target] != -1].reset_index(drop=True)\n",
    "train_df['prior_question_had_explanation'].fillna(False, inplace=True)\n",
    "train_df = train_df.astype(data_types_dict)"
   ]
  },
  {
   "cell_type": "code",
   "execution_count": 5,
   "metadata": {
    "execution": {
     "iopub.execute_input": "2020-12-01T02:19:40.235322Z",
     "iopub.status.busy": "2020-12-01T02:19:40.234421Z",
     "iopub.status.idle": "2020-12-01T02:19:56.101346Z",
     "shell.execute_reply": "2020-12-01T02:19:56.100630Z"
    },
    "papermill": {
     "duration": 15.903769,
     "end_time": "2020-12-01T02:19:56.101483",
     "exception": false,
     "start_time": "2020-12-01T02:19:40.197714",
     "status": "completed"
    },
    "tags": []
   },
   "outputs": [],
   "source": [
    "questions_df = pd.read_csv(\n",
    "    '../input/riiid-test-answer-prediction/questions.csv', \n",
    "    usecols=[0, 3],\n",
    "    dtype={'question_id': 'int16', 'part': 'int8'}\n",
    ")\n",
    "train_df = pd.merge(train_df, questions_df, left_on='content_id', right_on='question_id', how='left', right_index=True).reset_index(drop=True)\n",
    "train_df.drop(columns=['question_id'], inplace=True)"
   ]
  },
  {
   "cell_type": "code",
   "execution_count": 6,
   "metadata": {
    "execution": {
     "iopub.execute_input": "2020-12-01T02:19:56.159741Z",
     "iopub.status.busy": "2020-12-01T02:19:56.158845Z",
     "iopub.status.idle": "2020-12-01T02:20:14.537320Z",
     "shell.execute_reply": "2020-12-01T02:20:14.536603Z"
    },
    "papermill": {
     "duration": 18.41101,
     "end_time": "2020-12-01T02:20:14.537484",
     "exception": false,
     "start_time": "2020-12-01T02:19:56.126474",
     "status": "completed"
    },
    "tags": []
   },
   "outputs": [],
   "source": [
    "train_df['lag'] = train_df.groupby('user_id')[target].shift()\n",
    "cum = train_df.groupby('user_id')['lag'].agg(['cumsum', 'cumcount'])\n",
    "train_df['user_correctness'] = cum['cumsum'] / cum['cumcount']\n",
    "train_df.drop(columns=['lag'], inplace=True)\n",
    "del cum"
   ]
  },
  {
   "cell_type": "code",
   "execution_count": 7,
   "metadata": {
    "execution": {
     "iopub.execute_input": "2020-12-01T02:20:14.596273Z",
     "iopub.status.busy": "2020-12-01T02:20:14.595084Z",
     "iopub.status.idle": "2020-12-01T02:20:53.965679Z",
     "shell.execute_reply": "2020-12-01T02:20:53.964891Z"
    },
    "papermill": {
     "duration": 39.403712,
     "end_time": "2020-12-01T02:20:53.965812",
     "exception": false,
     "start_time": "2020-12-01T02:20:14.562100",
     "status": "completed"
    },
    "tags": []
   },
   "outputs": [],
   "source": [
    "train_df[\"reading_part\"] = train_df[\"part\"] >=5\n",
    "train_df[\"reading_part\"] = train_df[\"reading_part\"].astype(\"int8\")\n",
    "train_df['reading_part_lag'] = train_df.groupby('user_id')[\"reading_part\"].shift()\n",
    "cum = train_df.groupby('user_id')['reading_part_lag'].agg(['cumsum']) \n",
    "train_df['reading_part_ratio'] = cum['cumsum'] \n",
    "train_df.drop(columns=['reading_part_lag', 'reading_part'], inplace=True)\n",
    "del cum"
   ]
  },
  {
   "cell_type": "code",
   "execution_count": 8,
   "metadata": {
    "execution": {
     "iopub.execute_input": "2020-12-01T02:20:54.025986Z",
     "iopub.status.busy": "2020-12-01T02:20:54.025088Z",
     "iopub.status.idle": "2020-12-01T02:21:35.300975Z",
     "shell.execute_reply": "2020-12-01T02:21:35.300265Z"
    },
    "papermill": {
     "duration": 41.310625,
     "end_time": "2020-12-01T02:21:35.301122",
     "exception": false,
     "start_time": "2020-12-01T02:20:53.990497",
     "status": "completed"
    },
    "tags": []
   },
   "outputs": [],
   "source": [
    "train_df[\"listening_part\"] = (train_df[\"part\"] >=1) | (train_df[\"part\"] <=4)\n",
    "train_df[\"listening_part\"] = train_df[\"listening_part\"].astype(\"int8\")\n",
    "train_df['listening_part_lag'] = train_df.groupby('user_id')[\"listening_part\"].shift()\n",
    "cum = train_df.groupby('user_id')['listening_part_lag'].agg(['cumsum']) \n",
    "train_df['listening_part_ratio'] = cum['cumsum'] \n",
    "train_df.drop(columns=['listening_part_lag', 'listening_part'], inplace=True)\n",
    "del cum"
   ]
  },
  {
   "cell_type": "code",
   "execution_count": 9,
   "metadata": {
    "execution": {
     "iopub.execute_input": "2020-12-01T02:21:35.360210Z",
     "iopub.status.busy": "2020-12-01T02:21:35.359361Z",
     "iopub.status.idle": "2020-12-01T02:22:05.585412Z",
     "shell.execute_reply": "2020-12-01T02:22:05.584699Z"
    },
    "papermill": {
     "duration": 30.259611,
     "end_time": "2020-12-01T02:22:05.585552",
     "exception": false,
     "start_time": "2020-12-01T02:21:35.325941",
     "status": "completed"
    },
    "tags": []
   },
   "outputs": [],
   "source": [
    "first_attempt_df = pd.read_csv(\"../input/riiid-additional-data/content_first_attempt.csv\")\n",
    "train_df[\"first_attempt\"] = first_attempt_df.first_attempt\n",
    "train_df[\"unique_attempt\"] = train_df.groupby(\"user_id\")[\"first_attempt\"].cumsum()\n",
    "del first_attempt_df"
   ]
  },
  {
   "cell_type": "code",
   "execution_count": 10,
   "metadata": {
    "execution": {
     "iopub.execute_input": "2020-12-01T02:22:05.646468Z",
     "iopub.status.busy": "2020-12-01T02:22:05.645625Z",
     "iopub.status.idle": "2020-12-01T02:22:15.257266Z",
     "shell.execute_reply": "2020-12-01T02:22:15.256601Z"
    },
    "papermill": {
     "duration": 9.646973,
     "end_time": "2020-12-01T02:22:15.257457",
     "exception": false,
     "start_time": "2020-12-01T02:22:05.610484",
     "status": "completed"
    },
    "tags": []
   },
   "outputs": [],
   "source": [
    "user_agg = train_df.groupby('user_id')[target].agg(['sum', 'count'])\n",
    "content_agg = train_df.groupby('content_id')[target].agg(['sum', 'count'])"
   ]
  },
  {
   "cell_type": "code",
   "execution_count": 11,
   "metadata": {
    "execution": {
     "iopub.execute_input": "2020-12-01T02:22:15.316217Z",
     "iopub.status.busy": "2020-12-01T02:22:15.315369Z",
     "iopub.status.idle": "2020-12-01T02:22:20.850881Z",
     "shell.execute_reply": "2020-12-01T02:22:20.850234Z"
    },
    "papermill": {
     "duration": 5.568551,
     "end_time": "2020-12-01T02:22:20.851017",
     "exception": false,
     "start_time": "2020-12-01T02:22:15.282466",
     "status": "completed"
    },
    "tags": []
   },
   "outputs": [],
   "source": [
    "user_listening_agg = train_df.groupby('user_id')[\"listening_part_ratio\"].agg(['max'])\n",
    "user_reading_agg = train_df.groupby('user_id')[\"reading_part_ratio\"].agg(['max'])\n",
    "user_reading_agg['max'].fillna(0,inplace=True)\n",
    "user_listening_agg['max'].fillna(0,inplace=True)"
   ]
  },
  {
   "cell_type": "code",
   "execution_count": 12,
   "metadata": {
    "execution": {
     "iopub.execute_input": "2020-12-01T02:22:20.907829Z",
     "iopub.status.busy": "2020-12-01T02:22:20.907017Z",
     "iopub.status.idle": "2020-12-01T02:22:24.239796Z",
     "shell.execute_reply": "2020-12-01T02:22:24.238948Z"
    },
    "papermill": {
     "duration": 3.363698,
     "end_time": "2020-12-01T02:22:24.239966",
     "exception": false,
     "start_time": "2020-12-01T02:22:20.876268",
     "status": "completed"
    },
    "tags": []
   },
   "outputs": [],
   "source": [
    "user_unique_agg = train_df.groupby('user_id')[\"unique_attempt\"].agg(['sum'])"
   ]
  },
  {
   "cell_type": "code",
   "execution_count": 13,
   "metadata": {
    "execution": {
     "iopub.execute_input": "2020-12-01T02:22:24.304230Z",
     "iopub.status.busy": "2020-12-01T02:22:24.303431Z",
     "iopub.status.idle": "2020-12-01T02:24:56.670973Z",
     "shell.execute_reply": "2020-12-01T02:24:56.671731Z"
    },
    "papermill": {
     "duration": 152.403906,
     "end_time": "2020-12-01T02:24:56.671920",
     "exception": false,
     "start_time": "2020-12-01T02:22:24.268014",
     "status": "completed"
    },
    "tags": []
   },
   "outputs": [
    {
     "name": "stdout",
     "output_type": "stream",
     "text": [
      "CPU times: user 2min 28s, sys: 3.66 s, total: 2min 32s\n",
      "Wall time: 2min 32s\n"
     ]
    }
   ],
   "source": [
    "%%time\n",
    "user_content_agg = train_df.groupby(\"user_id\")[\"content_id\"].unique().reset_index().set_index(\"user_id\")\n",
    "\n",
    "value = []\n",
    "for j in user_content_agg.index:\n",
    "    a = bitarray(32737, endian='little')\n",
    "    a.setall(True)\n",
    "    for i in user_content_agg.loc[j][0]:\n",
    "        a[i] = 0\n",
    "    value.append(a)\n",
    "    \n",
    "user_content_agg[\"content_exp\"] = value"
   ]
  },
  {
   "cell_type": "code",
   "execution_count": 14,
   "metadata": {
    "execution": {
     "iopub.execute_input": "2020-12-01T02:24:56.730960Z",
     "iopub.status.busy": "2020-12-01T02:24:56.729716Z",
     "iopub.status.idle": "2020-12-01T02:25:01.495270Z",
     "shell.execute_reply": "2020-12-01T02:25:01.494466Z"
    },
    "papermill": {
     "duration": 4.797995,
     "end_time": "2020-12-01T02:25:01.495425",
     "exception": false,
     "start_time": "2020-12-01T02:24:56.697430",
     "status": "completed"
    },
    "tags": []
   },
   "outputs": [],
   "source": [
    "train_df[\"count\"] = 1\n",
    "train_df[\"count\"] = train_df.groupby(\"user_id\")[\"count\"].cumsum()"
   ]
  },
  {
   "cell_type": "code",
   "execution_count": 15,
   "metadata": {
    "execution": {
     "iopub.execute_input": "2020-12-01T02:25:01.555917Z",
     "iopub.status.busy": "2020-12-01T02:25:01.554237Z",
     "iopub.status.idle": "2020-12-01T02:25:13.847501Z",
     "shell.execute_reply": "2020-12-01T02:25:13.846766Z"
    },
    "papermill": {
     "duration": 12.325976,
     "end_time": "2020-12-01T02:25:13.847665",
     "exception": false,
     "start_time": "2020-12-01T02:25:01.521689",
     "status": "completed"
    },
    "tags": []
   },
   "outputs": [],
   "source": [
    "train_df = train_df.groupby('user_id').tail(24).reset_index(drop=True)"
   ]
  },
  {
   "cell_type": "code",
   "execution_count": 16,
   "metadata": {
    "execution": {
     "iopub.execute_input": "2020-12-01T02:25:13.911746Z",
     "iopub.status.busy": "2020-12-01T02:25:13.910802Z",
     "iopub.status.idle": "2020-12-01T02:25:14.235934Z",
     "shell.execute_reply": "2020-12-01T02:25:14.234740Z"
    },
    "papermill": {
     "duration": 0.360873,
     "end_time": "2020-12-01T02:25:14.236092",
     "exception": false,
     "start_time": "2020-12-01T02:25:13.875219",
     "status": "completed"
    },
    "tags": []
   },
   "outputs": [],
   "source": [
    "train_df['content_count'] = train_df['content_id'].map(content_agg['count']).astype('int32')\n",
    "train_df['content_id'] = train_df['content_id'].map(content_agg['sum'] / content_agg['count'])"
   ]
  },
  {
   "cell_type": "code",
   "execution_count": 17,
   "metadata": {
    "execution": {
     "iopub.execute_input": "2020-12-01T02:25:14.296047Z",
     "iopub.status.busy": "2020-12-01T02:25:14.294944Z",
     "iopub.status.idle": "2020-12-01T02:25:14.298157Z",
     "shell.execute_reply": "2020-12-01T02:25:14.297399Z"
    },
    "papermill": {
     "duration": 0.034857,
     "end_time": "2020-12-01T02:25:14.298285",
     "exception": false,
     "start_time": "2020-12-01T02:25:14.263428",
     "status": "completed"
    },
    "tags": []
   },
   "outputs": [],
   "source": [
    "# train_df['question_type'] = train_df[\"part\"] > 4\n",
    "# train_df['difficulty'] = train_df[\"part\"] - 4 * train_df['question_type']"
   ]
  },
  {
   "cell_type": "code",
   "execution_count": 18,
   "metadata": {
    "execution": {
     "iopub.execute_input": "2020-12-01T02:25:14.358944Z",
     "iopub.status.busy": "2020-12-01T02:25:14.357277Z",
     "iopub.status.idle": "2020-12-01T02:25:17.129415Z",
     "shell.execute_reply": "2020-12-01T02:25:17.129987Z"
    },
    "papermill": {
     "duration": 2.805413,
     "end_time": "2020-12-01T02:25:17.130159",
     "exception": false,
     "start_time": "2020-12-01T02:25:14.324746",
     "status": "completed"
    },
    "tags": []
   },
   "outputs": [],
   "source": [
    "valid_df = train_df.groupby('user_id').tail(6)\n",
    "train_df.drop(valid_df.index, inplace=True)"
   ]
  },
  {
   "cell_type": "code",
   "execution_count": 19,
   "metadata": {
    "execution": {
     "iopub.execute_input": "2020-12-01T02:25:17.199373Z",
     "iopub.status.busy": "2020-12-01T02:25:17.192729Z",
     "iopub.status.idle": "2020-12-01T02:25:17.219248Z",
     "shell.execute_reply": "2020-12-01T02:25:17.218411Z"
    },
    "papermill": {
     "duration": 0.061767,
     "end_time": "2020-12-01T02:25:17.219398",
     "exception": false,
     "start_time": "2020-12-01T02:25:17.157631",
     "status": "completed"
    },
    "tags": []
   },
   "outputs": [
    {
     "data": {
      "text/html": [
       "<div>\n",
       "<style scoped>\n",
       "    .dataframe tbody tr th:only-of-type {\n",
       "        vertical-align: middle;\n",
       "    }\n",
       "\n",
       "    .dataframe tbody tr th {\n",
       "        vertical-align: top;\n",
       "    }\n",
       "\n",
       "    .dataframe thead th {\n",
       "        text-align: right;\n",
       "    }\n",
       "</style>\n",
       "<table border=\"1\" class=\"dataframe\">\n",
       "  <thead>\n",
       "    <tr style=\"text-align: right;\">\n",
       "      <th></th>\n",
       "      <th>user_id</th>\n",
       "      <th>content_id</th>\n",
       "      <th>answered_correctly</th>\n",
       "      <th>prior_question_elapsed_time</th>\n",
       "      <th>prior_question_had_explanation</th>\n",
       "      <th>lec</th>\n",
       "      <th>part</th>\n",
       "      <th>user_correctness</th>\n",
       "      <th>reading_part_ratio</th>\n",
       "      <th>listening_part_ratio</th>\n",
       "      <th>first_attempt</th>\n",
       "      <th>unique_attempt</th>\n",
       "      <th>count</th>\n",
       "      <th>content_count</th>\n",
       "    </tr>\n",
       "  </thead>\n",
       "  <tbody>\n",
       "    <tr>\n",
       "      <th>0</th>\n",
       "      <td>115</td>\n",
       "      <td>0.687217</td>\n",
       "      <td>0</td>\n",
       "      <td>19000.0</td>\n",
       "      <td>False</td>\n",
       "      <td>0</td>\n",
       "      <td>1</td>\n",
       "      <td>0.727273</td>\n",
       "      <td>2.0</td>\n",
       "      <td>22.0</td>\n",
       "      <td>True</td>\n",
       "      <td>23</td>\n",
       "      <td>23</td>\n",
       "      <td>36674</td>\n",
       "    </tr>\n",
       "    <tr>\n",
       "      <th>1</th>\n",
       "      <td>115</td>\n",
       "      <td>0.608222</td>\n",
       "      <td>0</td>\n",
       "      <td>21000.0</td>\n",
       "      <td>False</td>\n",
       "      <td>0</td>\n",
       "      <td>1</td>\n",
       "      <td>0.695652</td>\n",
       "      <td>2.0</td>\n",
       "      <td>23.0</td>\n",
       "      <td>True</td>\n",
       "      <td>24</td>\n",
       "      <td>24</td>\n",
       "      <td>47047</td>\n",
       "    </tr>\n",
       "    <tr>\n",
       "      <th>2</th>\n",
       "      <td>115</td>\n",
       "      <td>0.601824</td>\n",
       "      <td>1</td>\n",
       "      <td>22000.0</td>\n",
       "      <td>False</td>\n",
       "      <td>0</td>\n",
       "      <td>1</td>\n",
       "      <td>0.666667</td>\n",
       "      <td>2.0</td>\n",
       "      <td>24.0</td>\n",
       "      <td>True</td>\n",
       "      <td>25</td>\n",
       "      <td>25</td>\n",
       "      <td>40452</td>\n",
       "    </tr>\n",
       "    <tr>\n",
       "      <th>3</th>\n",
       "      <td>115</td>\n",
       "      <td>0.418436</td>\n",
       "      <td>1</td>\n",
       "      <td>16000.0</td>\n",
       "      <td>False</td>\n",
       "      <td>0</td>\n",
       "      <td>1</td>\n",
       "      <td>0.680000</td>\n",
       "      <td>2.0</td>\n",
       "      <td>25.0</td>\n",
       "      <td>True</td>\n",
       "      <td>26</td>\n",
       "      <td>26</td>\n",
       "      <td>190170</td>\n",
       "    </tr>\n",
       "    <tr>\n",
       "      <th>4</th>\n",
       "      <td>115</td>\n",
       "      <td>0.474545</td>\n",
       "      <td>1</td>\n",
       "      <td>20000.0</td>\n",
       "      <td>False</td>\n",
       "      <td>0</td>\n",
       "      <td>1</td>\n",
       "      <td>0.692308</td>\n",
       "      <td>2.0</td>\n",
       "      <td>26.0</td>\n",
       "      <td>True</td>\n",
       "      <td>27</td>\n",
       "      <td>27</td>\n",
       "      <td>56707</td>\n",
       "    </tr>\n",
       "  </tbody>\n",
       "</table>\n",
       "</div>"
      ],
      "text/plain": [
       "   user_id  content_id  answered_correctly  prior_question_elapsed_time  \\\n",
       "0      115    0.687217                   0                      19000.0   \n",
       "1      115    0.608222                   0                      21000.0   \n",
       "2      115    0.601824                   1                      22000.0   \n",
       "3      115    0.418436                   1                      16000.0   \n",
       "4      115    0.474545                   1                      20000.0   \n",
       "\n",
       "   prior_question_had_explanation  lec  part  user_correctness  \\\n",
       "0                           False    0     1          0.727273   \n",
       "1                           False    0     1          0.695652   \n",
       "2                           False    0     1          0.666667   \n",
       "3                           False    0     1          0.680000   \n",
       "4                           False    0     1          0.692308   \n",
       "\n",
       "   reading_part_ratio  listening_part_ratio  first_attempt  unique_attempt  \\\n",
       "0                 2.0                  22.0           True              23   \n",
       "1                 2.0                  23.0           True              24   \n",
       "2                 2.0                  24.0           True              25   \n",
       "3                 2.0                  25.0           True              26   \n",
       "4                 2.0                  26.0           True              27   \n",
       "\n",
       "   count  content_count  \n",
       "0     23          36674  \n",
       "1     24          47047  \n",
       "2     25          40452  \n",
       "3     26         190170  \n",
       "4     27          56707  "
      ]
     },
     "execution_count": 19,
     "metadata": {},
     "output_type": "execute_result"
    }
   ],
   "source": [
    "train_df.head()"
   ]
  },
  {
   "cell_type": "markdown",
   "metadata": {
    "papermill": {
     "duration": 0.027966,
     "end_time": "2020-12-01T02:25:17.276141",
     "exception": false,
     "start_time": "2020-12-01T02:25:17.248175",
     "status": "completed"
    },
    "tags": []
   },
   "source": [
    "# Train"
   ]
  },
  {
   "cell_type": "code",
   "execution_count": 20,
   "metadata": {
    "execution": {
     "iopub.execute_input": "2020-12-01T02:25:17.341583Z",
     "iopub.status.busy": "2020-12-01T02:25:17.340479Z",
     "iopub.status.idle": "2020-12-01T02:25:17.344033Z",
     "shell.execute_reply": "2020-12-01T02:25:17.343453Z"
    },
    "papermill": {
     "duration": 0.039562,
     "end_time": "2020-12-01T02:25:17.344176",
     "exception": false,
     "start_time": "2020-12-01T02:25:17.304614",
     "status": "completed"
    },
    "tags": []
   },
   "outputs": [],
   "source": [
    "features = [\n",
    "    'content_id',\n",
    "    'prior_question_elapsed_time',\n",
    "    'prior_question_had_explanation',\n",
    "    'user_correctness',\n",
    "    'part',\n",
    "    'content_count',\n",
    "    'count',\n",
    "    'reading_part_ratio',\n",
    "    'listening_part_ratio',\n",
    "    'first_attempt',\n",
    "    'unique_attempt',\n",
    "    'lec',\n",
    "]\n",
    "\n",
    "params = {\n",
    "    'objective': 'binary',\n",
    "    'seed': 42,\n",
    "    'metric': 'auc',\n",
    "    'learning_rate': 0.05,\n",
    "    'max_bin': 800,\n",
    "    'num_leaves': 80\n",
    "}"
   ]
  },
  {
   "cell_type": "code",
   "execution_count": 21,
   "metadata": {
    "execution": {
     "iopub.execute_input": "2020-12-01T02:25:17.641159Z",
     "iopub.status.busy": "2020-12-01T02:25:17.629495Z",
     "iopub.status.idle": "2020-12-01T03:45:27.077672Z",
     "shell.execute_reply": "2020-12-01T03:45:27.076393Z"
    },
    "papermill": {
     "duration": 4809.705368,
     "end_time": "2020-12-01T03:45:27.078073",
     "exception": false,
     "start_time": "2020-12-01T02:25:17.372705",
     "status": "completed"
    },
    "tags": []
   },
   "outputs": [
    {
     "name": "stdout",
     "output_type": "stream",
     "text": [
      "Training until validation scores don't improve for 50 rounds\n",
      "[50]\ttraining's auc: 0.756944\tvalid_1's auc: 0.741358\n",
      "[100]\ttraining's auc: 0.759259\tvalid_1's auc: 0.74417\n",
      "[150]\ttraining's auc: 0.76037\tvalid_1's auc: 0.745346\n",
      "[200]\ttraining's auc: 0.760937\tvalid_1's auc: 0.745828\n",
      "[250]\ttraining's auc: 0.76135\tvalid_1's auc: 0.746097\n",
      "[300]\ttraining's auc: 0.761724\tvalid_1's auc: 0.746314\n",
      "[350]\ttraining's auc: 0.762065\tvalid_1's auc: 0.746488\n",
      "[400]\ttraining's auc: 0.762397\tvalid_1's auc: 0.746657\n",
      "[450]\ttraining's auc: 0.762666\tvalid_1's auc: 0.74677\n",
      "[500]\ttraining's auc: 0.762909\tvalid_1's auc: 0.746837\n",
      "[550]\ttraining's auc: 0.763221\tvalid_1's auc: 0.746964\n",
      "[600]\ttraining's auc: 0.763449\tvalid_1's auc: 0.747022\n",
      "[650]\ttraining's auc: 0.763712\tvalid_1's auc: 0.747105\n",
      "[700]\ttraining's auc: 0.763932\tvalid_1's auc: 0.747158\n",
      "[750]\ttraining's auc: 0.764152\tvalid_1's auc: 0.747202\n",
      "[800]\ttraining's auc: 0.764383\tvalid_1's auc: 0.74725\n",
      "[850]\ttraining's auc: 0.764616\tvalid_1's auc: 0.747295\n",
      "[900]\ttraining's auc: 0.764844\tvalid_1's auc: 0.747331\n",
      "[950]\ttraining's auc: 0.765066\tvalid_1's auc: 0.747366\n",
      "[1000]\ttraining's auc: 0.765277\tvalid_1's auc: 0.747386\n",
      "[1050]\ttraining's auc: 0.765486\tvalid_1's auc: 0.747418\n",
      "[1100]\ttraining's auc: 0.76568\tvalid_1's auc: 0.747442\n",
      "[1150]\ttraining's auc: 0.765905\tvalid_1's auc: 0.747479\n",
      "[1200]\ttraining's auc: 0.766111\tvalid_1's auc: 0.747512\n",
      "[1250]\ttraining's auc: 0.766316\tvalid_1's auc: 0.747539\n",
      "[1300]\ttraining's auc: 0.766523\tvalid_1's auc: 0.747571\n",
      "[1350]\ttraining's auc: 0.76675\tvalid_1's auc: 0.747621\n",
      "[1400]\ttraining's auc: 0.766943\tvalid_1's auc: 0.747643\n",
      "[1450]\ttraining's auc: 0.767129\tvalid_1's auc: 0.747657\n",
      "[1500]\ttraining's auc: 0.767327\tvalid_1's auc: 0.747681\n",
      "[1550]\ttraining's auc: 0.767525\tvalid_1's auc: 0.747697\n",
      "[1600]\ttraining's auc: 0.767706\tvalid_1's auc: 0.747709\n",
      "[1650]\ttraining's auc: 0.767907\tvalid_1's auc: 0.747726\n",
      "[1700]\ttraining's auc: 0.768086\tvalid_1's auc: 0.747743\n",
      "[1750]\ttraining's auc: 0.768259\tvalid_1's auc: 0.747753\n",
      "[1800]\ttraining's auc: 0.768454\tvalid_1's auc: 0.747779\n",
      "[1850]\ttraining's auc: 0.768656\tvalid_1's auc: 0.7478\n",
      "[1900]\ttraining's auc: 0.768859\tvalid_1's auc: 0.747826\n",
      "[1950]\ttraining's auc: 0.769063\tvalid_1's auc: 0.747837\n",
      "[2000]\ttraining's auc: 0.76926\tvalid_1's auc: 0.74785\n",
      "[2050]\ttraining's auc: 0.76944\tvalid_1's auc: 0.747852\n",
      "[2100]\ttraining's auc: 0.769632\tvalid_1's auc: 0.747871\n",
      "[2150]\ttraining's auc: 0.76983\tvalid_1's auc: 0.747883\n",
      "[2200]\ttraining's auc: 0.770024\tvalid_1's auc: 0.747894\n",
      "[2250]\ttraining's auc: 0.770212\tvalid_1's auc: 0.747901\n",
      "[2300]\ttraining's auc: 0.77041\tvalid_1's auc: 0.747914\n",
      "[2350]\ttraining's auc: 0.770587\tvalid_1's auc: 0.747919\n",
      "[2400]\ttraining's auc: 0.770754\tvalid_1's auc: 0.74792\n",
      "[2450]\ttraining's auc: 0.770942\tvalid_1's auc: 0.747921\n",
      "[2500]\ttraining's auc: 0.77114\tvalid_1's auc: 0.747941\n",
      "[2550]\ttraining's auc: 0.771318\tvalid_1's auc: 0.74795\n",
      "[2600]\ttraining's auc: 0.771477\tvalid_1's auc: 0.74795\n",
      "[2650]\ttraining's auc: 0.771661\tvalid_1's auc: 0.747951\n",
      "Early stopping, best iteration is:\n",
      "[2605]\ttraining's auc: 0.771497\tvalid_1's auc: 0.747953\n"
     ]
    },
    {
     "data": {
      "image/png": "[encoded data removed]",
      "text/plain": [
       "<Figure size 432x288 with 1 Axes>"
      ]
     },
     "metadata": {
      "needs_background": "light"
     },
     "output_type": "display_data"
    }
   ],
   "source": [
    "tr_data = lgb.Dataset(train_df[features], label=train_df[target])\n",
    "va_data = lgb.Dataset(valid_df[features], label=valid_df[target])\n",
    "\n",
    "model = lgb.train(\n",
    "    params, \n",
    "    tr_data, \n",
    "    num_boost_round=10000,\n",
    "    valid_sets=[tr_data, va_data], \n",
    "    early_stopping_rounds=50,\n",
    "    verbose_eval=50\n",
    ")\n",
    "\n",
    "lgb.plot_importance(model, importance_type='gain')\n",
    "plt.show()"
   ]
  },
  {
   "cell_type": "markdown",
   "metadata": {
    "papermill": {
     "duration": 0.051128,
     "end_time": "2020-12-01T03:45:27.181518",
     "exception": false,
     "start_time": "2020-12-01T03:45:27.130390",
     "status": "completed"
    },
    "tags": []
   },
   "source": [
    "# Inference"
   ]
  },
  {
   "cell_type": "code",
   "execution_count": 22,
   "metadata": {
    "execution": {
     "iopub.execute_input": "2020-12-01T03:45:27.324510Z",
     "iopub.status.busy": "2020-12-01T03:45:27.323369Z",
     "iopub.status.idle": "2020-12-01T03:45:29.306852Z",
     "shell.execute_reply": "2020-12-01T03:45:29.306146Z"
    },
    "papermill": {
     "duration": 2.070173,
     "end_time": "2020-12-01T03:45:29.307017",
     "exception": false,
     "start_time": "2020-12-01T03:45:27.236844",
     "status": "completed"
    },
    "tags": []
   },
   "outputs": [],
   "source": [
    "def make_bitarray():\n",
    "    a = bitarray(32737, endian='little')\n",
    "    a.setall(True)   \n",
    "    return a\n",
    "\n",
    "user_sum_dict = user_agg['sum'].astype('int16').to_dict(defaultdict(int))\n",
    "user_count_dict = user_agg['count'].astype('int16').to_dict(defaultdict(int))\n",
    "content_sum_dict = content_agg['sum'].astype('int32').to_dict(defaultdict(int))\n",
    "content_count_dict = content_agg['count'].astype('int32').to_dict(defaultdict(int))\n",
    "user_reading_dict = user_reading_agg['max'].astype('int32').to_dict(defaultdict(int))\n",
    "user_listening_dict = user_listening_agg['max'].astype('int32').to_dict(defaultdict(int))\n",
    "user_content_dict = user_content_agg[\"content_exp\"].to_dict(defaultdict(make_bitarray))\n",
    "user_unique_dict = user_unique_agg['sum'].astype('int32').to_dict(defaultdict(int))\n",
    "user_lec_dict = user_lec_agg.astype('int32').to_dict(defaultdict(int))"
   ]
  },
  {
   "cell_type": "code",
   "execution_count": 23,
   "metadata": {
    "execution": {
     "iopub.execute_input": "2020-12-01T03:45:29.420535Z",
     "iopub.status.busy": "2020-12-01T03:45:29.419560Z",
     "iopub.status.idle": "2020-12-01T03:45:29.423123Z",
     "shell.execute_reply": "2020-12-01T03:45:29.422490Z"
    },
    "papermill": {
     "duration": 0.063357,
     "end_time": "2020-12-01T03:45:29.423260",
     "exception": false,
     "start_time": "2020-12-01T03:45:29.359903",
     "status": "completed"
    },
    "tags": []
   },
   "outputs": [],
   "source": [
    "env = riiideducation.make_env()\n",
    "iter_test = env.iter_test()\n",
    "prior_test_df = None"
   ]
  },
  {
   "cell_type": "code",
   "execution_count": 24,
   "metadata": {
    "execution": {
     "iopub.execute_input": "2020-12-01T03:45:29.593200Z",
     "iopub.status.busy": "2020-12-01T03:45:29.587908Z",
     "iopub.status.idle": "2020-12-01T03:45:30.602004Z",
     "shell.execute_reply": "2020-12-01T03:45:30.601140Z"
    },
    "papermill": {
     "duration": 1.12607,
     "end_time": "2020-12-01T03:45:30.602139",
     "exception": false,
     "start_time": "2020-12-01T03:45:29.476069",
     "status": "completed"
    },
    "tags": []
   },
   "outputs": [
    {
     "name": "stdout",
     "output_type": "stream",
     "text": [
      "CPU times: user 1.44 s, sys: 142 ms, total: 1.58 s\n",
      "Wall time: 1e+03 ms\n"
     ]
    }
   ],
   "source": [
    "%%time\n",
    "\n",
    "for (test_df, sample_prediction_df) in iter_test:\n",
    "    if prior_test_df is not None:\n",
    "        prior_test_df[target] = eval(test_df['prior_group_answers_correct'].iloc[0])\n",
    "        \n",
    "        user_ids = prior_test_df['user_id'].values\n",
    "        content_type_ids = prior_test_df['content_type_id'].values\n",
    "        for user_id, content_type_ornot in zip(user_ids, content_type_ids):\n",
    "            user_lec_dict[user_id] += content_type_ornot\n",
    "        \n",
    "        prior_test_df = prior_test_df[prior_test_df[target] != -1].reset_index(drop=True)\n",
    "        \n",
    "        user_ids = prior_test_df['user_id'].values\n",
    "        content_ids = prior_test_df['content_id'].values\n",
    "        targets = prior_test_df[target].values\n",
    "        parts = prior_part_arrays\n",
    "        prior_first_attempts = prior_f_attempt_arrays\n",
    "        \n",
    "        for user_id, content_id, answered_correctly, part, first_attempt_ornot in zip(user_ids, content_ids, targets, parts, prior_first_attempts):\n",
    "            user_sum_dict[user_id] += answered_correctly\n",
    "            user_count_dict[user_id] += 1\n",
    "            content_sum_dict[content_id] += answered_correctly\n",
    "            content_count_dict[content_id] += 1\n",
    "            if part <=4:\n",
    "                user_listening_dict[user_id] +=1\n",
    "            else:\n",
    "                user_reading_dict[user_id] +=1\n",
    "            user_unique_dict[user_id] += first_attempt_ornot\n",
    "\n",
    "    prior_test_df = test_df.copy()\n",
    "    test_df[\"lec\"] = test_df.groupby(\"user_id\")[\"content_type_id\"].cumsum()\n",
    "    test_df = test_df[test_df['content_type_id'] == 0].reset_index(drop=True)\n",
    "    test_df = pd.merge(test_df, questions_df, left_on='content_id', right_on='question_id', how='left', right_index=True).reset_index(drop=True)\n",
    "    test_df['prior_question_had_explanation'] = test_df['prior_question_had_explanation'].fillna(False).astype('bool')    \n",
    "    \n",
    "    prior_part_arrays = test_df['part'].values\n",
    "    \n",
    "    user_sum = np.zeros(len(test_df), dtype=np.int16)\n",
    "    user_count = np.zeros(len(test_df), dtype=np.int16)\n",
    "    content_sum = np.zeros(len(test_df), dtype=np.int32)\n",
    "    content_count = np.zeros(len(test_df), dtype=np.int32)\n",
    "    listening_count = np.zeros(len(test_df), dtype=np.int32)\n",
    "    reading_count = np.zeros(len(test_df), dtype=np.int32)\n",
    "    first_attempt_values = []\n",
    "    user_unique_count = np.zeros(len(test_df), dtype=np.int32)\n",
    "    user_lec_count = np.zeros(len(test_df), dtype=np.int32)\n",
    "    \n",
    "    for i, (user_id, content_id) in enumerate(zip(test_df['user_id'].values, test_df['content_id'].values)):\n",
    "        user_sum[i] = user_sum_dict[user_id]\n",
    "        user_count[i] = user_count_dict[user_id]\n",
    "        content_sum[i] = content_sum_dict[content_id]\n",
    "        content_count[i] = content_count_dict[content_id]\n",
    "        listening_count[i] = user_listening_dict[user_id]\n",
    "        reading_count[i] = user_reading_dict[user_id]\n",
    "        first_attempt_values.append(user_content_dict[user_id][content_id])\n",
    "        user_unique_count[i] = user_unique_dict[user_id]\n",
    "        user_lec_count[i] = user_lec_dict[user_id]\n",
    "\n",
    "    test_df['user_correctness'] = user_sum / user_count\n",
    "    test_df['content_count'] = content_count\n",
    "    test_df['content_id'] = content_sum / content_count\n",
    "    test_df['count'] = 1\n",
    "    test_df['count'] = test_df.groupby(\"user_id\")[\"count\"].cumsum()\n",
    "    test_df['count'] += user_count\n",
    "    test_df['reading_part_ratio'] = reading_count\n",
    "    test_df['listening_part_ratio'] = listening_count\n",
    "    test_df[\"first_attempt\"] = first_attempt_values\n",
    "    test_df[\"unique_attempt\"] = test_df.groupby(\"user_id\")[\"first_attempt\"].cumsum()\n",
    "    test_df[\"unique_attempt\"] + user_unique_count\n",
    "    test_df[\"lec\"] += user_lec_count\n",
    "    \n",
    "    prior_f_attempt_arrays = test_df['first_attempt'].values\n",
    "    \n",
    "    test_df[target] = model.predict(test_df[features])\n",
    "    env.predict(test_df[['row_id', target]])"
   ]
  },
  {
   "cell_type": "code",
   "execution_count": null,
   "metadata": {
    "papermill": {
     "duration": 0.052197,
     "end_time": "2020-12-01T03:45:30.706792",
     "exception": false,
     "start_time": "2020-12-01T03:45:30.654595",
     "status": "completed"
    },
    "tags": []
   },
   "outputs": [],
   "source": []
  }
 ],
 "metadata": {
  "kernelspec": {
   "display_name": "Python 3",
   "language": "python",
   "name": "python3"
  },
  "language_info": {
   "codemirror_mode": {
    "name": "ipython",
    "version": 3
   },
   "file_extension": ".py",
   "mimetype": "text/x-python",
   "name": "python",
   "nbconvert_exporter": "python",
   "pygments_lexer": "ipython3",
   "version": "3.7.6"
  },
  "papermill": {
   "duration": 5274.192702,
   "end_time": "2020-12-01T03:45:30.976497",
   "environment_variables": {},
   "exception": null,
   "input_path": "__notebook__.ipynb",
   "output_path": "__notebook__.ipynb",
   "parameters": {},
   "start_time": "2020-12-01T02:17:36.783795",
   "version": "2.1.0"
  }
 },
 "nbformat": 4,
 "nbformat_minor": 4
}
