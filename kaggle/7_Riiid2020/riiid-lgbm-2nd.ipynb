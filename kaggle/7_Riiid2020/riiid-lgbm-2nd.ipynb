{
 "cells": [
  {
   "cell_type": "markdown",
   "metadata": {
    "papermill": {
     "duration": 0.031417,
     "end_time": "2020-12-23T09:58:38.507487",
     "exception": false,
     "start_time": "2020-12-23T09:58:38.476070",
     "status": "completed"
    },
    "tags": []
   },
   "source": [
    "- cut prior_elapsed_time_mean, continuous_correct, continuous_incorrect\n",
    "- add elo_rating"
   ]
  },
  {
   "cell_type": "code",
   "execution_count": 1,
   "metadata": {
    "_cell_guid": "b1076dfc-b9ad-4769-8c92-a6c4dae69d19",
    "_uuid": "8f2839f25d086af736a60e9eeb907d3b93b6e0e5",
    "execution": {
     "iopub.execute_input": "2020-12-23T09:58:38.573391Z",
     "iopub.status.busy": "2020-12-23T09:58:38.572441Z",
     "iopub.status.idle": "2020-12-23T09:59:10.314966Z",
     "shell.execute_reply": "2020-12-23T09:59:10.313494Z"
    },
    "papermill": {
     "duration": 31.778276,
     "end_time": "2020-12-23T09:59:10.315120",
     "exception": false,
     "start_time": "2020-12-23T09:58:38.536844",
     "status": "completed"
    },
    "tags": []
   },
   "outputs": [],
   "source": [
    "!pip install ../input/python-datatable/datatable-0.11.0-cp37-cp37m-manylinux2010_x86_64.whl > /dev/null 2>&1"
   ]
  },
  {
   "cell_type": "code",
   "execution_count": 2,
   "metadata": {
    "_cell_guid": "79c7e3d0-c299-4dcb-8224-4455121ee9b0",
    "_uuid": "d629ff2d2480ee46fbb7e2d37f6b5fab8052498a",
    "execution": {
     "iopub.execute_input": "2020-12-23T09:59:10.379725Z",
     "iopub.status.busy": "2020-12-23T09:59:10.379004Z",
     "iopub.status.idle": "2020-12-23T09:59:12.810753Z",
     "shell.execute_reply": "2020-12-23T09:59:12.810073Z"
    },
    "papermill": {
     "duration": 2.468798,
     "end_time": "2020-12-23T09:59:12.810915",
     "exception": false,
     "start_time": "2020-12-23T09:59:10.342117",
     "status": "completed"
    },
    "tags": []
   },
   "outputs": [
    {
     "data": {
      "text/html": [
       "<style type='text/css'>\n",
       ".datatable table.frame { margin-bottom: 0; }\n",
       ".datatable table.frame thead { border-bottom: none; }\n",
       ".datatable table.frame tr.coltypes td {  color: #FFFFFF;  line-height: 6px;  padding: 0 0.5em;}\n",
       ".datatable .bool    { background: #DDDD99; }\n",
       ".datatable .object  { background: #565656; }\n",
       ".datatable .int     { background: #5D9E5D; }\n",
       ".datatable .float   { background: #4040CC; }\n",
       ".datatable .str     { background: #CC4040; }\n",
       ".datatable .row_index {  background: var(--jp-border-color3);  border-right: 1px solid var(--jp-border-color0);  color: var(--jp-ui-font-color3);  font-size: 9px;}\n",
       ".datatable .frame tr.coltypes .row_index {  background: var(--jp-border-color0);}\n",
       ".datatable th:nth-child(2) { padding-left: 12px; }\n",
       ".datatable .hellipsis {  color: var(--jp-cell-editor-border-color);}\n",
       ".datatable .vellipsis {  background: var(--jp-layout-color0);  color: var(--jp-cell-editor-border-color);}\n",
       ".datatable .na {  color: var(--jp-cell-editor-border-color);  font-size: 80%;}\n",
       ".datatable .footer { font-size: 9px; }\n",
       ".datatable .frame_dimensions {  background: var(--jp-border-color3);  border-top: 1px solid var(--jp-border-color0);  color: var(--jp-ui-font-color3);  display: inline-block;  opacity: 0.6;  padding: 1px 10px 1px 5px;}\n",
       ".datatable .frame thead tr.colnames {  background-image: url('data:image/png;base64,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');  background-repeat: repeat-x;  background-size: 14px;  height: 28px;}\n",
       "</style>\n"
      ],
      "text/plain": [
       "<IPython.core.display.HTML object>"
      ]
     },
     "metadata": {},
     "output_type": "display_data"
    }
   ],
   "source": [
    "import gc\n",
    "import random\n",
    "import pickle\n",
    "import numpy as np\n",
    "import pandas as pd\n",
    "from numba import jit\n",
    "import riiideducation\n",
    "import datatable as dt\n",
    "import lightgbm as lgb\n",
    "from bitarray import bitarray\n",
    "from functools import partial\n",
    "from collections import defaultdict\n",
    "\n",
    "_ = np.seterr(divide='ignore', invalid='ignore')\n",
    "pd.set_option(\"max_rows\", 100)\n",
    "pd.set_option(\"max_columns\", 100)\n",
    "\n",
    "random.seed(1)"
   ]
  },
  {
   "cell_type": "code",
   "execution_count": 3,
   "metadata": {
    "execution": {
     "iopub.execute_input": "2020-12-23T09:59:12.886227Z",
     "iopub.status.busy": "2020-12-23T09:59:12.881221Z",
     "iopub.status.idle": "2020-12-23T09:59:12.890357Z",
     "shell.execute_reply": "2020-12-23T09:59:12.889645Z"
    },
    "papermill": {
     "duration": 0.050341,
     "end_time": "2020-12-23T09:59:12.890503",
     "exception": false,
     "start_time": "2020-12-23T09:59:12.840162",
     "status": "completed"
    },
    "tags": []
   },
   "outputs": [],
   "source": [
    "def make_bitarray():\n",
    "    a = bitarray(32737, endian='little')\n",
    "    a.setall(True)   \n",
    "    return a\n",
    "\n",
    "def clear_mem():\n",
    "    %reset -f out\n",
    "    %reset -f in\n",
    "    gc.collect()"
   ]
  },
  {
   "cell_type": "code",
   "execution_count": 4,
   "metadata": {
    "execution": {
     "iopub.execute_input": "2020-12-23T09:59:12.958314Z",
     "iopub.status.busy": "2020-12-23T09:59:12.957295Z",
     "iopub.status.idle": "2020-12-23T09:59:12.960748Z",
     "shell.execute_reply": "2020-12-23T09:59:12.960084Z"
    },
    "papermill": {
     "duration": 0.039923,
     "end_time": "2020-12-23T09:59:12.960917",
     "exception": false,
     "start_time": "2020-12-23T09:59:12.920994",
     "status": "completed"
    },
    "tags": []
   },
   "outputs": [],
   "source": [
    "FULL_TRAIN = False\n",
    "CV_SCHEME = \"original\" #\"time\" "
   ]
  },
  {
   "cell_type": "markdown",
   "metadata": {
    "papermill": {
     "duration": 0.029525,
     "end_time": "2020-12-23T09:59:13.020132",
     "exception": false,
     "start_time": "2020-12-23T09:59:12.990607",
     "status": "completed"
    },
    "tags": []
   },
   "source": [
    "# Preprocess"
   ]
  },
  {
   "cell_type": "code",
   "execution_count": 5,
   "metadata": {
    "execution": {
     "iopub.execute_input": "2020-12-23T09:59:13.084868Z",
     "iopub.status.busy": "2020-12-23T09:59:13.084134Z",
     "iopub.status.idle": "2020-12-23T09:59:13.087719Z",
     "shell.execute_reply": "2020-12-23T09:59:13.087145Z"
    },
    "papermill": {
     "duration": 0.038521,
     "end_time": "2020-12-23T09:59:13.087856",
     "exception": false,
     "start_time": "2020-12-23T09:59:13.049335",
     "status": "completed"
    },
    "tags": []
   },
   "outputs": [],
   "source": [
    "data_types_dict = {\n",
    "    'timestamp': 'int64',\n",
    "    'user_id': 'int32', \n",
    "    'content_id': 'int16', \n",
    "    'answered_correctly': 'int8', \n",
    "    'prior_question_elapsed_time': 'float32', \n",
    "    'prior_question_had_explanation': 'bool',\n",
    "}\n",
    "target = 'answered_correctly'"
   ]
  },
  {
   "cell_type": "code",
   "execution_count": 6,
   "metadata": {
    "execution": {
     "iopub.execute_input": "2020-12-23T09:59:13.154723Z",
     "iopub.status.busy": "2020-12-23T09:59:13.153912Z",
     "iopub.status.idle": "2020-12-23T10:00:55.206288Z",
     "shell.execute_reply": "2020-12-23T10:00:55.204945Z"
    },
    "papermill": {
     "duration": 102.088936,
     "end_time": "2020-12-23T10:00:55.206556",
     "exception": false,
     "start_time": "2020-12-23T09:59:13.117620",
     "status": "completed"
    },
    "tags": []
   },
   "outputs": [],
   "source": [
    "train_df = dt.fread('../input/riiid-test-answer-prediction/train.csv', columns=set(data_types_dict.keys())).to_pandas()"
   ]
  },
  {
   "cell_type": "code",
   "execution_count": 7,
   "metadata": {
    "execution": {
     "iopub.execute_input": "2020-12-23T10:00:55.289638Z",
     "iopub.status.busy": "2020-12-23T10:00:55.288549Z",
     "iopub.status.idle": "2020-12-23T10:01:28.686736Z",
     "shell.execute_reply": "2020-12-23T10:01:28.685555Z"
    },
    "papermill": {
     "duration": 33.444486,
     "end_time": "2020-12-23T10:01:28.686894",
     "exception": false,
     "start_time": "2020-12-23T10:00:55.242408",
     "status": "completed"
    },
    "tags": []
   },
   "outputs": [],
   "source": [
    "train_df = train_df[train_df[target] != -1].reset_index(drop=True)\n",
    "\n",
    "train_df['prior_question_had_explanation'].fillna(False, inplace=True)\n",
    "train_df['prior_question_elapsed_time'].fillna(0, inplace=True)\n",
    "\n",
    "train_df = train_df.astype(data_types_dict)"
   ]
  },
  {
   "cell_type": "code",
   "execution_count": 8,
   "metadata": {
    "execution": {
     "iopub.execute_input": "2020-12-23T10:01:28.759114Z",
     "iopub.status.busy": "2020-12-23T10:01:28.755368Z",
     "iopub.status.idle": "2020-12-23T10:01:39.199103Z",
     "shell.execute_reply": "2020-12-23T10:01:39.198484Z"
    },
    "papermill": {
     "duration": 10.482424,
     "end_time": "2020-12-23T10:01:39.199246",
     "exception": false,
     "start_time": "2020-12-23T10:01:28.716822",
     "status": "completed"
    },
    "tags": []
   },
   "outputs": [],
   "source": [
    "if CV_SCHEME==\"time\":\n",
    "    max_timestamp_u = train_df[['user_id','timestamp']].groupby(['user_id']).agg(['max']).reset_index()\n",
    "    max_timestamp_u.columns = ['user_id', 'max_time_stamp']\n",
    "    MAX_TIME_STAMP = max_timestamp_u.max_time_stamp.max()\n",
    "\n",
    "    def rand_time(max_time_stamp):\n",
    "        interval = MAX_TIME_STAMP - max_time_stamp\n",
    "        rand_time_stamp = random.randint(0,interval)\n",
    "        return rand_time_stamp\n",
    "\n",
    "    max_timestamp_u['rand_time_stamp'] = max_timestamp_u.max_time_stamp.apply(rand_time)\n",
    "    train_df = train_df.merge(max_timestamp_u, on='user_id', how='left')\n",
    "    train_df['viretual_time_stamp'] = train_df.timestamp + train_df['rand_time_stamp']\n",
    "\n",
    "    del train_df['max_time_stamp']\n",
    "    del train_df['rand_time_stamp']\n",
    "    del max_timestamp_u\n",
    "\n",
    "    train_index = list(train_df['viretual_time_stamp'].nlargest(10000000).index)\n",
    "\n",
    "else:\n",
    "    if FULL_TRAIN:\n",
    "        train_size = 200\n",
    "    else:\n",
    "        train_size = 24\n",
    "        valid_size = 6\n",
    "    \n",
    "    train_index = list(train_df.groupby('user_id').tail(train_size).index)"
   ]
  },
  {
   "cell_type": "code",
   "execution_count": 9,
   "metadata": {
    "execution": {
     "iopub.execute_input": "2020-12-23T10:01:39.265224Z",
     "iopub.status.busy": "2020-12-23T10:01:39.262874Z",
     "iopub.status.idle": "2020-12-23T10:01:50.193609Z",
     "shell.execute_reply": "2020-12-23T10:01:50.192862Z"
    },
    "papermill": {
     "duration": 10.966061,
     "end_time": "2020-12-23T10:01:50.193743",
     "exception": false,
     "start_time": "2020-12-23T10:01:39.227682",
     "status": "completed"
    },
    "tags": []
   },
   "outputs": [],
   "source": [
    "train_df[\"count\"] = 1\n",
    "\n",
    "# normal cumsum\n",
    "count_array = train_df.groupby(\"user_id\")[\"count\"].cumsum().values\n",
    "count_array = count_array[train_index]\n",
    "train_df.drop(\"count\", axis=1, inplace=True)"
   ]
  },
  {
   "cell_type": "code",
   "execution_count": 10,
   "metadata": {
    "execution": {
     "iopub.execute_input": "2020-12-23T10:01:50.266301Z",
     "iopub.status.busy": "2020-12-23T10:01:50.260079Z",
     "iopub.status.idle": "2020-12-23T10:08:13.327351Z",
     "shell.execute_reply": "2020-12-23T10:08:13.328201Z"
    },
    "papermill": {
     "duration": 383.106141,
     "end_time": "2020-12-23T10:08:13.328436",
     "exception": false,
     "start_time": "2020-12-23T10:01:50.222295",
     "status": "completed"
    },
    "tags": []
   },
   "outputs": [
    {
     "name": "stdout",
     "output_type": "stream",
     "text": [
      "Flushing output cache (0 entries)\n",
      "Flushing input history\n",
      "Flushing output cache (0 entries)\n",
      "Flushing input history\n",
      "Flushing output cache (0 entries)\n",
      "Flushing input history\n",
      "Flushing output cache (0 entries)\n",
      "Flushing input history\n"
     ]
    }
   ],
   "source": [
    "timediff_array = train_df.groupby(\"user_id\")[\"timestamp\"].diff().values\n",
    "timediff_array = timediff_array[train_index]\n",
    "clear_mem()\n",
    "\n",
    "timediff2_array = train_df.groupby(\"user_id\")[\"timestamp\"].diff(2).values\n",
    "timediff2_array = timediff2_array[train_index]\n",
    "clear_mem()\n",
    "\n",
    "timediff3_array = train_df.groupby(\"user_id\")[\"timestamp\"].diff(3).values\n",
    "timediff3_array = timediff3_array[train_index]\n",
    "clear_mem()\n",
    "\n",
    "timediff4_array = train_df.groupby(\"user_id\")[\"timestamp\"].diff(4).values\n",
    "timediff4_array = timediff4_array[train_index]\n",
    "clear_mem()\n",
    "\n",
    "user_timestamp_max_dict = train_df.groupby(\"user_id\")[\"timestamp\"].apply(lambda x: x[-4:].values).to_dict(defaultdict(partial(np.ndarray, 0, dtype=\"int64\")))\n",
    "\n",
    "train_df.drop(\"timestamp\", axis=1, inplace=True)\n",
    "time_dd_array = timediff2_array - timediff_array\n",
    "\n",
    "timediff_array = np.nan_to_num(timediff_array, nan=-1)\n",
    "timediff2_array = np.nan_to_num(timediff2_array, nan=-1)\n",
    "timediff3_array = np.nan_to_num(timediff3_array, nan=-1)\n",
    "timediff4_array = np.nan_to_num(timediff4_array, nan=-1)\n",
    "time_dd_array = np.nan_to_num(time_dd_array, nan=-1)"
   ]
  },
  {
   "cell_type": "code",
   "execution_count": 11,
   "metadata": {
    "execution": {
     "iopub.execute_input": "2020-12-23T10:08:14.763369Z",
     "iopub.status.busy": "2020-12-23T10:08:14.427153Z",
     "iopub.status.idle": "2020-12-23T10:08:16.782311Z",
     "shell.execute_reply": "2020-12-23T10:08:16.781471Z"
    },
    "papermill": {
     "duration": 3.422573,
     "end_time": "2020-12-23T10:08:16.782459",
     "exception": false,
     "start_time": "2020-12-23T10:08:13.359886",
     "status": "completed"
    },
    "tags": []
   },
   "outputs": [],
   "source": [
    "# prior_question_elapsed_time\n",
    "prior_question_elapsed_time_array = train_df.prior_question_elapsed_time.values\n",
    "train_df.drop(\"prior_question_elapsed_time\", axis =1, inplace=True)\n",
    "prior_question_elapsed_time_array = prior_question_elapsed_time_array[train_index]"
   ]
  },
  {
   "cell_type": "code",
   "execution_count": 12,
   "metadata": {
    "execution": {
     "iopub.execute_input": "2020-12-23T10:08:16.861369Z",
     "iopub.status.busy": "2020-12-23T10:08:16.860564Z",
     "iopub.status.idle": "2020-12-23T10:08:37.924306Z",
     "shell.execute_reply": "2020-12-23T10:08:37.923671Z"
    },
    "papermill": {
     "duration": 21.110751,
     "end_time": "2020-12-23T10:08:37.924440",
     "exception": false,
     "start_time": "2020-12-23T10:08:16.813689",
     "status": "completed"
    },
    "tags": []
   },
   "outputs": [],
   "source": [
    "questions_df = pd.read_csv(\n",
    "    '../input/riiid-test-answer-prediction/questions.csv', \n",
    "    usecols=[0, 3], \n",
    "    dtype={'question_id': 'int16', 'part': 'int8'} \n",
    ")\n",
    "\n",
    "additional_q_df = pd.read_csv('../input/riiid-question-clustering/question_cmnts.csv')\n",
    "questions_df[\"community\"] = additional_q_df[\"community\"].astype('int8')\n",
    "del additional_q_df \n",
    "    \n",
    "train_df = pd.merge(train_df, questions_df, left_on='content_id', right_on='question_id', how='left', right_index=True).reset_index(drop=True)\n",
    "train_df.drop(columns=['question_id'], inplace=True)"
   ]
  },
  {
   "cell_type": "code",
   "execution_count": 13,
   "metadata": {
    "execution": {
     "iopub.execute_input": "2020-12-23T10:08:38.024571Z",
     "iopub.status.busy": "2020-12-23T10:08:38.023743Z",
     "iopub.status.idle": "2020-12-23T10:08:38.029904Z",
     "shell.execute_reply": "2020-12-23T10:08:38.029241Z"
    },
    "papermill": {
     "duration": 0.07255,
     "end_time": "2020-12-23T10:08:38.030033",
     "exception": false,
     "start_time": "2020-12-23T10:08:37.957483",
     "status": "completed"
    },
    "tags": []
   },
   "outputs": [
    {
     "name": "stdout",
     "output_type": "stream",
     "text": [
      "76\n"
     ]
    }
   ],
   "source": [
    "community_num = len(questions_df.community.unique())\n",
    "print(community_num)\n",
    "\n",
    "@jit\n",
    "def tag_accuracy(A, C):\n",
    "    ans = []\n",
    "    community_count = [0] * community_num\n",
    "    community_correct = [0] * community_num\n",
    "    for i in range(len(C)):\n",
    "        if community_count[C[i]]==0:\n",
    "            ans.append(-1)\n",
    "        else:\n",
    "            ans.append(community_correct[C[i]]/community_count[C[i]])\n",
    "        community_count[C[i]] +=1\n",
    "        community_correct[C[i]] += A[i]\n",
    "    return np.array(ans)\n",
    "\n",
    "@jit\n",
    "def tag_correct_last(A, C):\n",
    "    community_correct = [0] * community_num\n",
    "    for i in range(len(C)):\n",
    "        community_correct[C[i]] += A[i]\n",
    "    return np.array(community_correct)\n",
    "\n",
    "@jit\n",
    "def tag_count_last(A, C):\n",
    "    community_count = [0] * community_num\n",
    "    for i in range(len(C)):\n",
    "        community_count[C[i]] +=1\n",
    "    return np.array(community_count)\n",
    "\n",
    "def init_dict():\n",
    "    ans = [0] * community_num\n",
    "    return np.array(ans)"
   ]
  },
  {
   "cell_type": "code",
   "execution_count": 14,
   "metadata": {
    "execution": {
     "iopub.execute_input": "2020-12-23T10:08:38.110310Z",
     "iopub.status.busy": "2020-12-23T10:08:38.108338Z",
     "iopub.status.idle": "2020-12-23T10:10:56.436785Z",
     "shell.execute_reply": "2020-12-23T10:10:56.437466Z"
    },
    "papermill": {
     "duration": 138.376586,
     "end_time": "2020-12-23T10:10:56.437969",
     "exception": false,
     "start_time": "2020-12-23T10:08:38.061383",
     "status": "completed"
    },
    "tags": []
   },
   "outputs": [],
   "source": [
    "#\n",
    "tag_acc_array = train_df.groupby(\"user_id\").apply(lambda x: tag_accuracy(x[\"answered_correctly\"].values, x[\"community\"].values))\n",
    "tag_acc_array = np.hstack(tag_acc_array)\n",
    "tag_acc_array = tag_acc_array[train_index]\n",
    "\n",
    "user_community_count_dict = train_df.groupby(\"user_id\").apply(lambda x: tag_count_last(x[\"answered_correctly\"].values, x[\"community\"].values)).to_dict(defaultdict(init_dict))\n",
    "user_community_correct_dict = train_df.groupby(\"user_id\").apply(lambda x: tag_correct_last(x[\"answered_correctly\"].values, x[\"community\"].values)).to_dict(defaultdict(init_dict))\n",
    "    \n",
    "#\n",
    "community_agg = train_df.groupby('community')[target].agg(['count'])\n",
    "community_count_dict = community_agg['count'].astype('int32').to_dict(defaultdict(int))\n",
    "community_count_array = train_df['community'].map(community_agg['count']).astype('int32').values\n",
    "del community_agg\n",
    "community_count_array = community_count_array[train_index]\n",
    "    \n",
    "community_array = train_df[\"community\"].values\n",
    "community_array = community_array[train_index]\n",
    "train_df.drop('community', axis=1, inplace=True)"
   ]
  },
  {
   "cell_type": "code",
   "execution_count": 15,
   "metadata": {
    "execution": {
     "iopub.execute_input": "2020-12-23T10:10:56.524608Z",
     "iopub.status.busy": "2020-12-23T10:10:56.522752Z",
     "iopub.status.idle": "2020-12-23T10:11:19.300614Z",
     "shell.execute_reply": "2020-12-23T10:11:19.299015Z"
    },
    "papermill": {
     "duration": 22.822854,
     "end_time": "2020-12-23T10:11:19.300785",
     "exception": false,
     "start_time": "2020-12-23T10:10:56.477931",
     "status": "completed"
    },
    "tags": []
   },
   "outputs": [],
   "source": [
    "train_df['lag'] = train_df.groupby('user_id')[target].shift()\n",
    "cum = train_df.groupby('user_id')['lag'].agg(['cumsum', 'cumcount'])\n",
    "user_correctness_array = np.array(cum['cumsum'] / cum['cumcount'])\n",
    "user_correctness_array = user_correctness_array[train_index]\n",
    "train_df.drop(columns=['lag'], inplace=True)\n",
    "del cum"
   ]
  },
  {
   "cell_type": "code",
   "execution_count": 16,
   "metadata": {
    "execution": {
     "iopub.execute_input": "2020-12-23T10:11:19.401605Z",
     "iopub.status.busy": "2020-12-23T10:11:19.400804Z",
     "iopub.status.idle": "2020-12-23T10:12:22.497274Z",
     "shell.execute_reply": "2020-12-23T10:12:22.496454Z"
    },
    "papermill": {
     "duration": 63.16419,
     "end_time": "2020-12-23T10:12:22.497428",
     "exception": false,
     "start_time": "2020-12-23T10:11:19.333238",
     "status": "completed"
    },
    "tags": []
   },
   "outputs": [],
   "source": [
    "@jit\n",
    "def part_count_calc(P):\n",
    "    ans = []\n",
    "    part_count = [0] * 8\n",
    "    for i in range(len(P)):\n",
    "        part_count[P[i]] += 1\n",
    "        ans.append(part_count[P[i]])\n",
    "    return np.array(ans)\n",
    "\n",
    "@jit\n",
    "def part_count_dict_calc(P):\n",
    "    part_count = [0] * 8\n",
    "    for i in range(len(P)):\n",
    "        part_count[P[i]] += 1\n",
    "    return np.array(part_count)\n",
    "\n",
    "def part_dict_init():\n",
    "    ans = [0] * 8\n",
    "    return np.array(ans)\n",
    "\n",
    "\n",
    "part_count_array = train_df.groupby(\"user_id\").apply(lambda x: part_count_calc(x[\"part\"].values))\n",
    "part_count_array = np.hstack(part_count_array)\n",
    "part_count_array = part_count_array[train_index]\n",
    "part_ratio_array = part_count_array / count_array\n",
    "\n",
    "user_part_count_dict = train_df.groupby(\"user_id\").apply(lambda x: part_count_dict_calc(x[\"part\"].values)).to_dict(defaultdict(part_dict_init))\n",
    "\n",
    "part_array = train_df.part.values\n",
    "train_df.drop(\"part\", axis=1, inplace=True)\n",
    "part_array = part_array[train_index]"
   ]
  },
  {
   "cell_type": "code",
   "execution_count": 17,
   "metadata": {
    "execution": {
     "iopub.execute_input": "2020-12-23T10:12:22.577358Z",
     "iopub.status.busy": "2020-12-23T10:12:22.574831Z",
     "iopub.status.idle": "2020-12-23T10:12:56.151057Z",
     "shell.execute_reply": "2020-12-23T10:12:56.150172Z"
    },
    "papermill": {
     "duration": 33.619679,
     "end_time": "2020-12-23T10:12:56.151226",
     "exception": false,
     "start_time": "2020-12-23T10:12:22.531547",
     "status": "completed"
    },
    "tags": []
   },
   "outputs": [],
   "source": [
    "# user-wise prior_question_had_explanation_mean\n",
    "train_df['lag'] = train_df.groupby('user_id')['prior_question_had_explanation'].shift().astype(bool)\n",
    "cum = train_df.groupby('user_id')['lag'].agg(['cumsum', 'cumcount'])\n",
    "prior_question_had_explanation_mean_array = np.array(cum['cumsum'] / cum['cumcount'])\n",
    "prior_question_had_explanation_mean_array = prior_question_had_explanation_mean_array[train_index]\n",
    "\n",
    "user_prior_question_had_explanation_sum_agg = train_df.groupby('user_id')[\"prior_question_had_explanation\"].agg(['sum'])\n",
    "user_prior_question_had_explanation_sum_dict = user_prior_question_had_explanation_sum_agg['sum'].astype('int32').to_dict(defaultdict(int))\n",
    "train_df.drop(columns=['lag'], inplace=True)\n",
    "del cum, user_prior_question_had_explanation_sum_agg\n",
    "\n",
    "prior_question_had_explanation_array = train_df.prior_question_had_explanation.values\n",
    "train_df.drop('prior_question_had_explanation', axis=1, inplace=True)\n",
    "prior_question_had_explanation_array = prior_question_had_explanation_array[train_index]"
   ]
  },
  {
   "cell_type": "code",
   "execution_count": 18,
   "metadata": {
    "execution": {
     "iopub.execute_input": "2020-12-23T10:12:56.234437Z",
     "iopub.status.busy": "2020-12-23T10:12:56.232101Z",
     "iopub.status.idle": "2020-12-23T10:13:45.591584Z",
     "shell.execute_reply": "2020-12-23T10:13:45.590793Z"
    },
    "papermill": {
     "duration": 49.403153,
     "end_time": "2020-12-23T10:13:45.591734",
     "exception": false,
     "start_time": "2020-12-23T10:12:56.188581",
     "status": "completed"
    },
    "tags": []
   },
   "outputs": [
    {
     "name": "stdout",
     "output_type": "stream",
     "text": [
      "Flushing output cache (0 entries)\n",
      "Flushing input history\n"
     ]
    }
   ],
   "source": [
    "first_attempt_df = pd.read_csv(\"../input/riiid-additional-data/content_first_attempt.csv\")\n",
    "first_attempt_array = first_attempt_df.first_attempt.values\n",
    "train_df[\"first_attempt\"] = first_attempt_array\n",
    "\n",
    "unique_attempt_array= train_df.groupby(\"user_id\")[\"first_attempt\"].cumsum().values\n",
    "train_df[\"unique_attempt\"] = unique_attempt_array\n",
    "user_unique_agg = train_df.groupby('user_id')[\"unique_attempt\"].agg(['max'])\n",
    "user_unique_dict = user_unique_agg['max'].astype('int32').to_dict(defaultdict(int))\n",
    "\n",
    "first_attempt_array = first_attempt_array[train_index]\n",
    "unique_attempt_array = unique_attempt_array[train_index]\n",
    "train_df.drop(['first_attempt', 'unique_attempt'], axis=1, inplace=True)\n",
    "del first_attempt_df, user_unique_agg\n",
    "\n",
    "clear_mem()"
   ]
  },
  {
   "cell_type": "code",
   "execution_count": 19,
   "metadata": {
    "execution": {
     "iopub.execute_input": "2020-12-23T10:13:45.670945Z",
     "iopub.status.busy": "2020-12-23T10:13:45.667170Z",
     "iopub.status.idle": "2020-12-23T10:14:01.946317Z",
     "shell.execute_reply": "2020-12-23T10:14:01.946866Z"
    },
    "papermill": {
     "duration": 16.32285,
     "end_time": "2020-12-23T10:14:01.947078",
     "exception": false,
     "start_time": "2020-12-23T10:13:45.624228",
     "status": "completed"
    },
    "tags": []
   },
   "outputs": [
    {
     "name": "stdout",
     "output_type": "stream",
     "text": [
      "Flushing output cache (0 entries)\n",
      "Flushing input history\n",
      "Flushing output cache (0 entries)\n",
      "Flushing input history\n"
     ]
    }
   ],
   "source": [
    "user_agg = train_df.groupby('user_id')[target].agg(['sum', 'count'])\n",
    "user_sum_dict = user_agg['sum'].astype('int16').to_dict(defaultdict(int))\n",
    "del user_agg['sum']\n",
    "user_count_dict = user_agg['count'].astype('int16').to_dict(defaultdict(int))\n",
    "del user_agg['count']\n",
    "clear_mem()\n",
    "\n",
    "#\n",
    "content_agg = train_df.groupby('content_id')[target].agg(['sum', 'count'])\n",
    "content_sum_dict = content_agg['sum'].astype('int32').to_dict(defaultdict(int))\n",
    "content_count_dict = content_agg['count'].astype('int32').to_dict(defaultdict(int))\n",
    "\n",
    "content_count_array = train_df['content_id'].map(content_agg['count']).astype('int32').values\n",
    "content_id_array = train_df['content_id'].map(content_agg['sum'] / content_agg['count']).values\n",
    "del content_agg\n",
    "clear_mem()"
   ]
  },
  {
   "cell_type": "code",
   "execution_count": 20,
   "metadata": {
    "execution": {
     "iopub.execute_input": "2020-12-23T10:14:02.024996Z",
     "iopub.status.busy": "2020-12-23T10:14:02.024214Z",
     "iopub.status.idle": "2020-12-23T10:14:19.352898Z",
     "shell.execute_reply": "2020-12-23T10:14:19.351214Z"
    },
    "papermill": {
     "duration": 17.371421,
     "end_time": "2020-12-23T10:14:19.353133",
     "exception": false,
     "start_time": "2020-12-23T10:14:01.981712",
     "status": "completed"
    },
    "tags": []
   },
   "outputs": [],
   "source": [
    "# benefit of solving difficult questions\n",
    "\n",
    "#point_array = 1 / (content_id_array + 0.1)\n",
    "with open('../input/riiid-premade-data/got_point_array.pickle','rb') as f:\n",
    "    got_point_array = pickle.load(f)\n",
    "got_point_array = got_point_array[train_index]\n",
    "    \n",
    "with open('../input/riiid-premade-data/user_point_sum_dict.pickle','rb') as f:\n",
    "    user_point_sum_dict = pickle.load(f)\n",
    "\n",
    "content_id_array = content_id_array[train_index]\n",
    "content_count_array = content_count_array[train_index]"
   ]
  },
  {
   "cell_type": "code",
   "execution_count": 21,
   "metadata": {
    "execution": {
     "iopub.execute_input": "2020-12-23T10:14:20.133777Z",
     "iopub.status.busy": "2020-12-23T10:14:19.899763Z",
     "iopub.status.idle": "2020-12-23T10:14:38.665445Z",
     "shell.execute_reply": "2020-12-23T10:14:38.664737Z"
    },
    "papermill": {
     "duration": 19.273264,
     "end_time": "2020-12-23T10:14:38.665640",
     "exception": false,
     "start_time": "2020-12-23T10:14:19.392376",
     "status": "completed"
    },
    "tags": []
   },
   "outputs": [],
   "source": [
    "train_df.drop([\"content_id\"], axis=1, inplace=True)\n",
    "\n",
    "with open('../input/riiid-premade-data/user_content_dict.pickle','rb') as f:\n",
    "    user_content_dict = pickle.load(f)"
   ]
  },
  {
   "cell_type": "code",
   "execution_count": 22,
   "metadata": {
    "execution": {
     "iopub.execute_input": "2020-12-23T10:14:38.809080Z",
     "iopub.status.busy": "2020-12-23T10:14:38.792657Z",
     "iopub.status.idle": "2020-12-23T10:14:52.155608Z",
     "shell.execute_reply": "2020-12-23T10:14:52.154945Z"
    },
    "papermill": {
     "duration": 13.45209,
     "end_time": "2020-12-23T10:14:52.155836",
     "exception": false,
     "start_time": "2020-12-23T10:14:38.703746",
     "status": "completed"
    },
    "tags": []
   },
   "outputs": [],
   "source": [
    "with open('../input/riiid-premade-data/answered_correctly_last7_array.pickle','rb') as f:\n",
    "    answered_correctly_last7_array = pickle.load(f)\n",
    "answered_correctly_last7_array = answered_correctly_last7_array[train_index]\n",
    "    \n",
    "with open('../input/riiid-premade-data/user_last7_answer_dict.pickle','rb') as f:\n",
    "    user_last7_answer_dict = pickle.load(f)"
   ]
  },
  {
   "cell_type": "code",
   "execution_count": 23,
   "metadata": {
    "execution": {
     "iopub.execute_input": "2020-12-23T10:14:52.244768Z",
     "iopub.status.busy": "2020-12-23T10:14:52.243946Z",
     "iopub.status.idle": "2020-12-23T10:14:59.498049Z",
     "shell.execute_reply": "2020-12-23T10:14:59.497429Z"
    },
    "papermill": {
     "duration": 7.300801,
     "end_time": "2020-12-23T10:14:59.498205",
     "exception": false,
     "start_time": "2020-12-23T10:14:52.197404",
     "status": "completed"
    },
    "tags": []
   },
   "outputs": [],
   "source": [
    "with open('../input/elo-rating-data/correct_estimation.pickle','rb') as f:\n",
    "    correct_estimation_array = pickle.load(f)\n",
    "correct_estimation_array = correct_estimation_array[train_index]"
   ]
  },
  {
   "cell_type": "code",
   "execution_count": 24,
   "metadata": {
    "execution": {
     "iopub.execute_input": "2020-12-23T10:15:02.327233Z",
     "iopub.status.busy": "2020-12-23T10:15:00.262643Z",
     "iopub.status.idle": "2020-12-23T10:15:02.365246Z",
     "shell.execute_reply": "2020-12-23T10:15:02.363746Z"
    },
    "papermill": {
     "duration": 2.831805,
     "end_time": "2020-12-23T10:15:02.365495",
     "exception": false,
     "start_time": "2020-12-23T10:14:59.533690",
     "status": "completed"
    },
    "tags": []
   },
   "outputs": [],
   "source": [
    "answered_correctly_array = train_df[target].values\n",
    "train_df.drop(target, axis=1, inplace=True)\n",
    "answered_correctly_array = answered_correctly_array[train_index]"
   ]
  },
  {
   "cell_type": "markdown",
   "metadata": {
    "papermill": {
     "duration": 0.041343,
     "end_time": "2020-12-23T10:15:02.451470",
     "exception": false,
     "start_time": "2020-12-23T10:15:02.410127",
     "status": "completed"
    },
    "tags": []
   },
   "source": [
    "# data formation"
   ]
  },
  {
   "cell_type": "code",
   "execution_count": 25,
   "metadata": {
    "execution": {
     "iopub.execute_input": "2020-12-23T10:15:03.452193Z",
     "iopub.status.busy": "2020-12-23T10:15:02.663335Z",
     "iopub.status.idle": "2020-12-23T10:15:26.417043Z",
     "shell.execute_reply": "2020-12-23T10:15:26.416263Z"
    },
    "papermill": {
     "duration": 23.925411,
     "end_time": "2020-12-23T10:15:26.417202",
     "exception": false,
     "start_time": "2020-12-23T10:15:02.491791",
     "status": "completed"
    },
    "tags": []
   },
   "outputs": [],
   "source": [
    "if not FULL_TRAIN:\n",
    "    train_df = train_df[train_df.index.isin(train_index)].reset_index(drop=True)\n",
    "    if CV_SCHEME == \"original\":\n",
    "        valid_index = list(train_df.groupby('user_id').tail(valid_size).index)\n",
    "    else:\n",
    "        valid_index = list(train_df['viretual_time_stamp'].nlargest(2500000).index)\n",
    "    train_index = list(train_df[~train_df.index.isin(valid_index)].index)\n",
    "del train_df"
   ]
  },
  {
   "cell_type": "code",
   "execution_count": 26,
   "metadata": {
    "execution": {
     "iopub.execute_input": "2020-12-23T10:15:26.502635Z",
     "iopub.status.busy": "2020-12-23T10:15:26.501889Z",
     "iopub.status.idle": "2020-12-23T10:15:26.505579Z",
     "shell.execute_reply": "2020-12-23T10:15:26.506111Z"
    },
    "papermill": {
     "duration": 0.053563,
     "end_time": "2020-12-23T10:15:26.506288",
     "exception": false,
     "start_time": "2020-12-23T10:15:26.452725",
     "status": "completed"
    },
    "tags": []
   },
   "outputs": [
    {
     "name": "stdout",
     "output_type": "stream",
     "text": [
      "23\n"
     ]
    }
   ],
   "source": [
    "features_dict = {\n",
    "    'content_id': content_id_array,\n",
    "    'prior_question_elapsed_time': prior_question_elapsed_time_array,\n",
    "    'prior_question_had_explanation':  prior_question_had_explanation_array,\n",
    "    'user_correctness': user_correctness_array,\n",
    "    'part': part_array,\n",
    "    'content_count': content_count_array,\n",
    "    'count': count_array,\n",
    "    'first_attempt': first_attempt_array,\n",
    "    'unique_attempt': unique_attempt_array,\n",
    "    'part_count': part_count_array,\n",
    "    'part_ratio': part_ratio_array,\n",
    "    'prior_question_had_explanation_mean': prior_question_had_explanation_mean_array,\n",
    "    'got_point': got_point_array,\n",
    "    'answered_correctly_last7': answered_correctly_last7_array,   \n",
    "    'timediff': timediff_array,\n",
    "    'timediff2': timediff2_array,\n",
    "    'timediff3': timediff3_array,\n",
    "    'timediff4': timediff4_array,\n",
    "    'community': community_array,\n",
    "    'tag_acc': tag_acc_array,\n",
    "    'community_count': community_count_array,\n",
    "    'time_dd': time_dd_array,\n",
    "    'correct_estimation': correct_estimation_array\n",
    "}\n",
    "\n",
    "features = list(features_dict.keys())\n",
    "print(len(features))\n",
    "\n",
    "del content_id_array, prior_question_elapsed_time_array, prior_question_had_explanation_array,\n",
    "del user_correctness_array, part_array,\n",
    "del content_count_array, count_array, first_attempt_array, unique_attempt_array,\n",
    "del part_ratio_array, part_count_array,\n",
    "del prior_question_had_explanation_mean_array, got_point_array, \n",
    "del answered_correctly_last7_array, timediff_array, timediff2_array, timediff3_array, timediff4_array,\n",
    "del community_array,\n",
    "del tag_acc_array, community_count_array, time_dd_array"
   ]
  },
  {
   "cell_type": "code",
   "execution_count": 27,
   "metadata": {
    "execution": {
     "iopub.execute_input": "2020-12-23T10:15:26.583060Z",
     "iopub.status.busy": "2020-12-23T10:15:26.581974Z",
     "iopub.status.idle": "2020-12-23T10:15:26.590814Z",
     "shell.execute_reply": "2020-12-23T10:15:26.590022Z"
    },
    "papermill": {
     "duration": 0.048484,
     "end_time": "2020-12-23T10:15:26.590996",
     "exception": false,
     "start_time": "2020-12-23T10:15:26.542512",
     "status": "completed"
    },
    "tags": []
   },
   "outputs": [
    {
     "name": "stdout",
     "output_type": "stream",
     "text": [
      "(6536675, 24) (2360984, 24)\n"
     ]
    }
   ],
   "source": [
    "if FULL_TRAIN:\n",
    "    print(len(train_index), len(features)+1)\n",
    "else:\n",
    "    print((len(train_index), len(features)+1), (len(valid_index), len(features)+1))"
   ]
  },
  {
   "cell_type": "markdown",
   "metadata": {
    "papermill": {
     "duration": 0.038464,
     "end_time": "2020-12-23T10:15:26.666321",
     "exception": false,
     "start_time": "2020-12-23T10:15:26.627857",
     "status": "completed"
    },
    "tags": []
   },
   "source": [
    "# Train"
   ]
  },
  {
   "cell_type": "code",
   "execution_count": 28,
   "metadata": {
    "execution": {
     "iopub.execute_input": "2020-12-23T10:15:26.745910Z",
     "iopub.status.busy": "2020-12-23T10:15:26.745127Z",
     "iopub.status.idle": "2020-12-23T10:15:26.750717Z",
     "shell.execute_reply": "2020-12-23T10:15:26.751189Z"
    },
    "papermill": {
     "duration": 0.045599,
     "end_time": "2020-12-23T10:15:26.751361",
     "exception": false,
     "start_time": "2020-12-23T10:15:26.705762",
     "status": "completed"
    },
    "tags": []
   },
   "outputs": [],
   "source": [
    "params = {\n",
    "    'objective': 'binary',\n",
    "    'seed': 42,\n",
    "    'metric': 'auc',\n",
    "    'learning_rate': 0.05,\n",
    "    'max_bin': 800,\n",
    "    'num_leaves': 80\n",
    "}"
   ]
  },
  {
   "cell_type": "code",
   "execution_count": 29,
   "metadata": {
    "execution": {
     "iopub.execute_input": "2020-12-23T10:15:26.828154Z",
     "iopub.status.busy": "2020-12-23T10:15:26.827388Z",
     "iopub.status.idle": "2020-12-23T10:16:19.237150Z",
     "shell.execute_reply": "2020-12-23T10:16:19.235372Z"
    },
    "papermill": {
     "duration": 52.449667,
     "end_time": "2020-12-23T10:16:19.237387",
     "exception": false,
     "start_time": "2020-12-23T10:15:26.787720",
     "status": "completed"
    },
    "tags": []
   },
   "outputs": [],
   "source": [
    "if FULL_TRAIN:\n",
    "    X_train = np.ndarray(shape=(len(train_index), len(features)), dtype=np.float32)\n",
    "\n",
    "    for idx, feature in enumerate(features):\n",
    "        X_train[:,idx] = features_dict[feature].astype(np.float32).reshape(-1)\n",
    "        del features_dict[feature]\n",
    "    y_train = answered_correctly_array.astype(np.float32)\n",
    "    tr_data = lgb.Dataset(X_train, label=y_train)\n",
    "else:\n",
    "    X_train = np.ndarray(shape=(len(train_index), len(features)), dtype=np.float32)\n",
    "    X_valid = np.ndarray(shape=(len(valid_index), len(features)), dtype=np.float32)\n",
    "\n",
    "    for idx, feature in enumerate(features):\n",
    "        X_train[:,idx] = features_dict[feature][train_index].astype(np.float32).reshape(-1)\n",
    "        X_valid[:,idx] = features_dict[feature][valid_index].astype(np.float32).reshape(-1)\n",
    "        del features_dict[feature]\n",
    "    y_train = answered_correctly_array[train_index].astype(np.float32)\n",
    "    y_valid = answered_correctly_array[valid_index].astype(np.float32)\n",
    "\n",
    "    tr_data = lgb.Dataset(X_train, label=y_train)\n",
    "    va_data = lgb.Dataset(X_valid, label=y_valid)"
   ]
  },
  {
   "cell_type": "code",
   "execution_count": 30,
   "metadata": {
    "execution": {
     "iopub.execute_input": "2020-12-23T10:16:19.325847Z",
     "iopub.status.busy": "2020-12-23T10:16:19.324269Z",
     "iopub.status.idle": "2020-12-23T10:16:20.556229Z",
     "shell.execute_reply": "2020-12-23T10:16:20.555277Z"
    },
    "papermill": {
     "duration": 1.282388,
     "end_time": "2020-12-23T10:16:20.556682",
     "exception": false,
     "start_time": "2020-12-23T10:16:19.274294",
     "status": "completed"
    },
    "tags": []
   },
   "outputs": [],
   "source": [
    "import optuna\n",
    "from optuna import Trial\n",
    "from sklearn.metrics import roc_auc_score\n",
    "\n",
    "def objective(trial: Trial, fast_check=True, target_meter=0, return_info=False):      \n",
    "    params = {\n",
    "        'objective': 'binary',\n",
    "        'seed': 42,\n",
    "        'metric': 'auc',\n",
    "        'learning_rate': 0.05,\n",
    "        'max_bin': 800,\n",
    "        #'num_leaves': 80\n",
    "        #'num_leaves': trial.suggest_int('num_leaves', 2, 128),\n",
    "        #'max_depth': trial.suggest_int('max_depth', 1, 10),\n",
    "        'learning_rate': trial.suggest_uniform('learning_rate', 0.01, 0.1),\n",
    "        #'lambda_l1': trial.suggest_loguniform('lambda_l1', 1e-8, 10.0),\n",
    "        #'lambda_l2': trial.suggest_loguniform('lambda_l2', 1e-8, 10.0),\n",
    "        #\"bagging_freq\": 5,\n",
    "        #\"bagging_fraction\": trial.suggest_uniform('bagging_fraction', 0.1, 1.0),\n",
    "        #\"feature_fraction\": trial.suggest_uniform('feature_fraction', 0.4, 1.0),\n",
    "    }\n",
    "    \n",
    "    model = lgb.train(params, tr_data ,valid_sets=[tr_data, va_data],\n",
    "           num_boost_round=1950,early_stopping_rounds=15,verbose_eval = 50)\n",
    "    valid_predict = model.predict(X_valid, num_iteration = model.best_iteration)\n",
    "    valid_score = roc_auc_score(y_valid, valid_predict)\n",
    "    \n",
    "    return valid_score\n",
    "\n",
    "#study = optuna.create_study(direction='maximize') #maximize or minimize\n",
    "#study.optimize(objective, n_trials=3)\n",
    "#print('Best trial: score {}, params {}'.format(study.best_trial.value, study.best_trial.params))"
   ]
  },
  {
   "cell_type": "code",
   "execution_count": 31,
   "metadata": {
    "execution": {
     "iopub.execute_input": "2020-12-23T10:16:20.641795Z",
     "iopub.status.busy": "2020-12-23T10:16:20.641103Z",
     "iopub.status.idle": "2020-12-23T11:26:57.532722Z",
     "shell.execute_reply": "2020-12-23T11:26:57.533785Z"
    },
    "papermill": {
     "duration": 4236.939304,
     "end_time": "2020-12-23T11:26:57.534241",
     "exception": false,
     "start_time": "2020-12-23T10:16:20.594937",
     "status": "completed"
    },
    "tags": []
   },
   "outputs": [
    {
     "name": "stdout",
     "output_type": "stream",
     "text": [
      "training starts\n",
      "Training until validation scores don't improve for 15 rounds\n",
      "[50]\ttraining's auc: 0.769103\tvalid_1's auc: 0.756622\n",
      "[100]\ttraining's auc: 0.772841\tvalid_1's auc: 0.760828\n",
      "[150]\ttraining's auc: 0.774753\tvalid_1's auc: 0.762671\n",
      "[200]\ttraining's auc: 0.775828\tvalid_1's auc: 0.763563\n",
      "[250]\ttraining's auc: 0.776464\tvalid_1's auc: 0.764001\n",
      "[300]\ttraining's auc: 0.777024\tvalid_1's auc: 0.76433\n",
      "[350]\ttraining's auc: 0.777489\tvalid_1's auc: 0.764586\n",
      "[400]\ttraining's auc: 0.777987\tvalid_1's auc: 0.764912\n",
      "[450]\ttraining's auc: 0.778431\tvalid_1's auc: 0.765177\n",
      "[500]\ttraining's auc: 0.778823\tvalid_1's auc: 0.765391\n",
      "[550]\ttraining's auc: 0.779235\tvalid_1's auc: 0.765578\n",
      "[600]\ttraining's auc: 0.779595\tvalid_1's auc: 0.765713\n",
      "[650]\ttraining's auc: 0.77999\tvalid_1's auc: 0.765903\n",
      "[700]\ttraining's auc: 0.78031\tvalid_1's auc: 0.766015\n",
      "[750]\ttraining's auc: 0.780626\tvalid_1's auc: 0.766132\n",
      "[800]\ttraining's auc: 0.78096\tvalid_1's auc: 0.766243\n",
      "[850]\ttraining's auc: 0.781261\tvalid_1's auc: 0.766334\n",
      "[900]\ttraining's auc: 0.781582\tvalid_1's auc: 0.766429\n",
      "[950]\ttraining's auc: 0.781901\tvalid_1's auc: 0.766525\n",
      "[1000]\ttraining's auc: 0.782224\tvalid_1's auc: 0.76661\n",
      "[1050]\ttraining's auc: 0.782505\tvalid_1's auc: 0.76667\n",
      "[1100]\ttraining's auc: 0.78279\tvalid_1's auc: 0.766728\n",
      "[1150]\ttraining's auc: 0.783078\tvalid_1's auc: 0.766786\n",
      "[1200]\ttraining's auc: 0.783382\tvalid_1's auc: 0.76686\n",
      "[1250]\ttraining's auc: 0.783676\tvalid_1's auc: 0.766922\n",
      "[1300]\ttraining's auc: 0.783963\tvalid_1's auc: 0.766993\n",
      "[1350]\ttraining's auc: 0.78424\tvalid_1's auc: 0.767056\n",
      "[1400]\ttraining's auc: 0.784489\tvalid_1's auc: 0.767091\n",
      "[1450]\ttraining's auc: 0.784765\tvalid_1's auc: 0.767143\n",
      "[1500]\ttraining's auc: 0.785015\tvalid_1's auc: 0.767171\n",
      "[1550]\ttraining's auc: 0.785272\tvalid_1's auc: 0.767214\n",
      "[1600]\ttraining's auc: 0.785535\tvalid_1's auc: 0.767234\n",
      "[1650]\ttraining's auc: 0.785792\tvalid_1's auc: 0.767252\n",
      "[1700]\ttraining's auc: 0.786058\tvalid_1's auc: 0.767288\n",
      "[1750]\ttraining's auc: 0.7863\tvalid_1's auc: 0.767309\n",
      "[1800]\ttraining's auc: 0.78653\tvalid_1's auc: 0.767328\n",
      "[1850]\ttraining's auc: 0.786776\tvalid_1's auc: 0.767347\n",
      "[1900]\ttraining's auc: 0.787005\tvalid_1's auc: 0.767366\n",
      "Early stopping, best iteration is:\n",
      "[1889]\ttraining's auc: 0.786955\tvalid_1's auc: 0.767367\n"
     ]
    }
   ],
   "source": [
    "print(\"training starts\")\n",
    "if FULL_TRAIN:\n",
    "    model = lgb.train(\n",
    "        params, \n",
    "        tr_data, \n",
    "        num_boost_round=3000,\n",
    "        valid_sets=None, \n",
    "        )\n",
    "    del X_train, y_train\n",
    "else:\n",
    "    model = lgb.train(\n",
    "        params, \n",
    "        tr_data, \n",
    "        num_boost_round= 1950,\n",
    "        valid_sets=[tr_data, va_data], \n",
    "        early_stopping_rounds=15,\n",
    "        verbose_eval=50\n",
    "        )\n",
    "    del X_train, y_train, X_valid, y_valid"
   ]
  },
  {
   "cell_type": "markdown",
   "metadata": {
    "papermill": {
     "duration": 0.07047,
     "end_time": "2020-12-23T11:26:57.682572",
     "exception": false,
     "start_time": "2020-12-23T11:26:57.612102",
     "status": "completed"
    },
    "tags": []
   },
   "source": [
    "# Inference"
   ]
  },
  {
   "cell_type": "code",
   "execution_count": 32,
   "metadata": {
    "execution": {
     "iopub.execute_input": "2020-12-23T11:26:57.807953Z",
     "iopub.status.busy": "2020-12-23T11:26:57.806995Z",
     "iopub.status.idle": "2020-12-23T11:26:57.834339Z",
     "shell.execute_reply": "2020-12-23T11:26:57.835008Z"
    },
    "papermill": {
     "duration": 0.097609,
     "end_time": "2020-12-23T11:26:57.835207",
     "exception": false,
     "start_time": "2020-12-23T11:26:57.737598",
     "status": "completed"
    },
    "tags": []
   },
   "outputs": [],
   "source": [
    "# elo functions\n",
    "def get_new_theta(is_good_answer, beta, left_asymptote, theta, nb_previous_answers):\n",
    "    return theta + learning_rate_theta(nb_previous_answers) * (\n",
    "        is_good_answer - probability_of_good_answer(theta, beta, left_asymptote)\n",
    "    )\n",
    "\n",
    "def get_new_beta(is_good_answer, beta, left_asymptote, theta, nb_previous_answers):\n",
    "    return beta - learning_rate_beta(nb_previous_answers) * (\n",
    "        is_good_answer - probability_of_good_answer(theta, beta, left_asymptote)\n",
    "    )\n",
    "\n",
    "def learning_rate_theta(nb_answers):\n",
    "    return max(0.3 / (1 + 0.01 * nb_answers), 0.04)\n",
    "\n",
    "def learning_rate_beta(nb_answers):\n",
    "    return 1 / (1 + 0.05 * nb_answers)\n",
    "\n",
    "def probability_of_good_answer(theta, beta, left_asymptote):\n",
    "    return left_asymptote + (1 - left_asymptote) * sigmoid(theta - beta)\n",
    "\n",
    "def sigmoid(x):\n",
    "    return 1 / (1 + np.exp(-x))\n",
    "\n",
    "# for test data\n",
    "def update_parameters(answers_df, student_parameters, item_parameters, granularity_feature_name='content_id'):\n",
    "    for user_id, item_id, left_asymptote, answered_correctly in zip(\n",
    "        answers_df.user_id.values, \n",
    "        answers_df[granularity_feature_name].values, \n",
    "        answers_df.left_asymptote.values, \n",
    "        answers_df.answered_correctly.values):\n",
    "        if user_id not in student_parameters:\n",
    "            student_parameters[user_id] = {'theta': 0, 'nb_answers': 0}\n",
    "        if item_id not in item_parameters:\n",
    "            item_parameters[item_id] = {'beta': 0, 'nb_answers': 0}\n",
    "            \n",
    "        theta = student_parameters[user_id]['theta']\n",
    "        beta = item_parameters[item_id]['beta']\n",
    "\n",
    "        student_parameters[user_id]['theta'] = get_new_theta(\n",
    "            answered_correctly, beta, left_asymptote, theta, student_parameters[user_id]['nb_answers']\n",
    "        )\n",
    "        item_parameters[item_id]['beta'] = get_new_beta(\n",
    "            answered_correctly, beta, left_asymptote, theta, item_parameters[item_id]['nb_answers']\n",
    "        )\n",
    "        \n",
    "        student_parameters[user_id]['nb_answers'] += 1\n",
    "        item_parameters[item_id]['nb_answers'] += 1\n",
    "        \n",
    "    return student_parameters, item_parameters\n",
    "\n",
    "# final output\n",
    "def estimate_probas(test_df, student_parameters, item_parameters, granularity_feature_name='content_id'):\n",
    "    probability_of_success_list = []\n",
    "    \n",
    "    for user_id, item_id, left_asymptote in zip(test_df.user_id.values, test_df[granularity_feature_name].values, test_df.left_asymptote.values):\n",
    "        theta = student_parameters[user_id]['theta'] if user_id in student_parameters else 0\n",
    "        beta = item_parameters[item_id]['beta'] if item_id in item_parameters else 0\n",
    "\n",
    "        probability_of_success_list.append(probability_of_good_answer(theta, beta, left_asymptote))\n",
    "\n",
    "    return probability_of_success_list"
   ]
  },
  {
   "cell_type": "code",
   "execution_count": 33,
   "metadata": {
    "execution": {
     "iopub.execute_input": "2020-12-23T11:26:57.955298Z",
     "iopub.status.busy": "2020-12-23T11:26:57.954545Z",
     "iopub.status.idle": "2020-12-23T11:26:59.939148Z",
     "shell.execute_reply": "2020-12-23T11:26:59.937346Z"
    },
    "papermill": {
     "duration": 2.047054,
     "end_time": "2020-12-23T11:26:59.939323",
     "exception": false,
     "start_time": "2020-12-23T11:26:57.892269",
     "status": "completed"
    },
    "tags": []
   },
   "outputs": [],
   "source": [
    "with open('../input/elo-rating-data/item_parameters.pickle','rb') as f:\n",
    "    item_parameters = pickle.load(f)\n",
    "    \n",
    "with open('../input/elo-rating-data/student_parameters.pickle','rb') as f:\n",
    "    student_parameters = pickle.load(f)"
   ]
  },
  {
   "cell_type": "code",
   "execution_count": 34,
   "metadata": {
    "execution": {
     "iopub.execute_input": "2020-12-23T11:27:00.053185Z",
     "iopub.status.busy": "2020-12-23T11:27:00.052371Z",
     "iopub.status.idle": "2020-12-23T11:27:00.055618Z",
     "shell.execute_reply": "2020-12-23T11:27:00.054949Z"
    },
    "papermill": {
     "duration": 0.063818,
     "end_time": "2020-12-23T11:27:00.055757",
     "exception": false,
     "start_time": "2020-12-23T11:26:59.991939",
     "status": "completed"
    },
    "tags": []
   },
   "outputs": [],
   "source": [
    "env = riiideducation.make_env()\n",
    "iter_test = env.iter_test()\n",
    "prior_test_df = None"
   ]
  },
  {
   "cell_type": "code",
   "execution_count": 35,
   "metadata": {
    "execution": {
     "iopub.execute_input": "2020-12-23T11:27:00.188665Z",
     "iopub.status.busy": "2020-12-23T11:27:00.177426Z",
     "iopub.status.idle": "2020-12-23T11:27:01.379405Z",
     "shell.execute_reply": "2020-12-23T11:27:01.378101Z"
    },
    "papermill": {
     "duration": 1.268727,
     "end_time": "2020-12-23T11:27:01.379845",
     "exception": false,
     "start_time": "2020-12-23T11:27:00.111118",
     "status": "completed"
    },
    "tags": []
   },
   "outputs": [
    {
     "name": "stdout",
     "output_type": "stream",
     "text": [
      "CPU times: user 1.67 s, sys: 126 ms, total: 1.79 s\n",
      "Wall time: 1.17 s\n"
     ]
    }
   ],
   "source": [
    "%%time\n",
    "for (test_df, sample_prediction_df) in iter_test:\n",
    "    if prior_test_df is not None:\n",
    "        prior_test_df[target] = eval(test_df['prior_group_answers_correct'].iloc[0])\n",
    "        prior_test_df = prior_test_df[prior_test_df[target] != -1].reset_index(drop=True)\n",
    "        prior_test_df['left_asymptote'] = 1/4\n",
    "        \n",
    "        user_ids = prior_test_df['user_id'].values\n",
    "        content_ids = prior_test_df['content_id'].values\n",
    "        targets = prior_test_df[target].values\n",
    "        \n",
    "        student_parameters, item_parameters = update_parameters(prior_test_df, student_parameters, item_parameters)\n",
    "         \n",
    "        for user_id, content_id, answered_correctly, first_attempt_ornot, prior_explanation, prior_point, prior_community in zip(user_ids, \n",
    "                                                            content_ids, \n",
    "                                                            targets, \n",
    "                                                            prior_f_attempt_arrays,\n",
    "                                                            p_prior_question_had_explanation,\n",
    "                                                            prior_point_array,\n",
    "                                                            prior_community_arrays):\n",
    "            \n",
    "            user_sum_dict[user_id] += answered_correctly\n",
    "            user_count_dict[user_id] += 1\n",
    "            content_sum_dict[content_id] += answered_correctly\n",
    "            content_count_dict[content_id] += 1\n",
    "            user_unique_dict[user_id] += first_attempt_ornot\n",
    "            user_prior_question_had_explanation_sum_dict[user_id] += prior_explanation\n",
    "            user_point_sum_dict[user_id] += prior_point * answered_correctly\n",
    "            if len(user_last7_answer_dict[user_id])==7:\n",
    "                user_last7_answer_dict[user_id] = np.concatenate([user_last7_answer_dict[user_id],[answered_correctly]])[1:]\n",
    "            else:\n",
    "                user_last7_answer_dict[user_id] = np.concatenate([user_last7_answer_dict[user_id],[answered_correctly]])\n",
    "            \n",
    "            user_community_correct_dict[user_id][prior_community] += answered_correctly\n",
    "            user_community_count_dict[user_id][prior_community] += 1\n",
    "            community_count_dict[prior_community] += 1            \n",
    "\n",
    "    prior_test_df = test_df.copy()\n",
    "           \n",
    "    test_df = test_df[test_df['content_type_id'] == 0].reset_index(drop=True)\n",
    "    test_df['left_asymptote'] = 1/4\n",
    "    test_df = pd.merge(test_df, questions_df, left_on='content_id', right_on='question_id', how='left', right_index=True).reset_index(drop=True)\n",
    "    test_df['prior_question_had_explanation'] = test_df['prior_question_had_explanation'].fillna(False).astype('bool')\n",
    "    test_df['prior_question_elapsed_time'] = test_df['prior_question_elapsed_time'].fillna(0)\n",
    "\n",
    "    p_prior_question_had_explanation = test_df['prior_question_had_explanation'].values\n",
    "    prior_community_arrays = test_df['community'].values\n",
    "    \n",
    "    user_sum = np.zeros(len(test_df), dtype=np.int16)\n",
    "    user_count = np.zeros(len(test_df), dtype=np.int16)\n",
    "    content_sum = np.zeros(len(test_df), dtype=np.int32)\n",
    "    content_count = np.zeros(len(test_df), dtype=np.int32)\n",
    "    part_count = np.zeros(len(test_df), dtype=np.int32)\n",
    "    first_attempt_values = []\n",
    "    user_unique_count = np.zeros(len(test_df), dtype=np.int32)\n",
    "    user_prior_question_had_explanation_sum = np.zeros(len(test_df), dtype=np.int32)\n",
    "    got_point_array = np.zeros(len(test_df), dtype=np.float32)\n",
    "    user_last7_accuracy_array = np.zeros(len(test_df), dtype=np.float32)\n",
    "    timediff_array = np.zeros(len(test_df), dtype = np.int64)\n",
    "    timediff2_array = np.zeros(len(test_df), dtype = np.int64)\n",
    "    timediff3_array = np.zeros(len(test_df), dtype = np.int64)\n",
    "    timediff4_array = np.zeros(len(test_df), dtype = np.int64)\n",
    "    tag_acc_array = np.zeros(len(test_df), dtype=np.float32)\n",
    "    community_count_array = np.zeros(len(test_df), dtype=np.int32)\n",
    "    time_dd_array = np.zeros(len(test_df), dtype = np.int64)\n",
    "    \n",
    "    for i, (user_id, content_id, timestamp, community, part) in enumerate(zip(test_df['user_id'].values, \n",
    "                                                             test_df['content_id'].values,\n",
    "                                                             test_df['timestamp'].values,\n",
    "                                                             test_df['community'].values,\n",
    "                                                             test_df['part'].values)):\n",
    "        user_sum[i] = user_sum_dict[user_id]\n",
    "        user_count[i] = user_count_dict[user_id]\n",
    "        content_sum[i] = content_sum_dict[content_id]\n",
    "        content_count[i] = content_count_dict[content_id]\n",
    "        part_count[i] = user_part_count_dict[user_id][part] + 1\n",
    "        user_part_count_dict[user_id][part] += 1\n",
    "        first_attempt_values.append(user_content_dict[user_id][content_id])\n",
    "        user_content_dict[user_id][content_id] = False             \n",
    "        user_unique_count[i] = user_unique_dict[user_id]\n",
    "        user_prior_question_had_explanation_sum[i] = user_prior_question_had_explanation_sum_dict[user_id]\n",
    "        got_point_array[i] = user_point_sum_dict[user_id]\n",
    "        \n",
    "        if len(user_last7_answer_dict[user_id])==7:\n",
    "            user_last7_accuracy_array[i] = user_last7_answer_dict[user_id].mean()\n",
    "        else:\n",
    "            user_last7_accuracy_array[i] = np.nan\n",
    "            \n",
    "        if len(user_timestamp_max_dict[user_id]) ==0:\n",
    "            timediff_array[i] = -1\n",
    "            timediff2_array[i] = -1\n",
    "            timediff3_array[i] = -1\n",
    "            timediff4_array[i] = -1\n",
    "            time_dd_array[i] = -1\n",
    "            user_timestamp_max_dict[user_id] = np.concatenate([user_timestamp_max_dict[user_id],[timestamp]])\n",
    "            \n",
    "        elif len(user_timestamp_max_dict[user_id]) ==1:\n",
    "            timediff_array[i] = timestamp - user_timestamp_max_dict[user_id][0]\n",
    "            timediff2_array[i] = -1\n",
    "            timediff3_array[i] = -1\n",
    "            timediff4_array[i] = -1\n",
    "            time_dd_array[i] = -1\n",
    "            user_timestamp_max_dict[user_id] = np.concatenate([user_timestamp_max_dict[user_id],[timestamp]])\n",
    "            \n",
    "        elif len(user_timestamp_max_dict[user_id]) ==2:\n",
    "            timediff_array[i] = timestamp - user_timestamp_max_dict[user_id][1]\n",
    "            timediff2_array[i] = timestamp - user_timestamp_max_dict[user_id][0]\n",
    "            timediff3_array[i] = -1\n",
    "            timediff4_array[i] = -1\n",
    "            time_dd_array[i] = timediff2_array[i] - timediff_array[i]\n",
    "            user_timestamp_max_dict[user_id] = np.concatenate([user_timestamp_max_dict[user_id],[timestamp]])  \n",
    "            \n",
    "        elif len(user_timestamp_max_dict[user_id]) ==3:\n",
    "            timediff_array[i] = timestamp - user_timestamp_max_dict[user_id][2]\n",
    "            timediff2_array[i] = timestamp - user_timestamp_max_dict[user_id][1]\n",
    "            timediff3_array[i] = timestamp - user_timestamp_max_dict[user_id][0]\n",
    "            timediff4_array[i] = -1\n",
    "            time_dd_array[i] = timediff2_array[i] - timediff_array[i]\n",
    "            user_timestamp_max_dict[user_id] = np.concatenate([user_timestamp_max_dict[user_id],[timestamp]]) \n",
    "    \n",
    "        else:\n",
    "            timediff_array[i] = timestamp - user_timestamp_max_dict[user_id][3]\n",
    "            timediff2_array[i] = timestamp - user_timestamp_max_dict[user_id][2]\n",
    "            timediff3_array[i] = timestamp - user_timestamp_max_dict[user_id][1]\n",
    "            timediff4_array[i] = timestamp - user_timestamp_max_dict[user_id][0]\n",
    "            time_dd_array[i] = timediff2_array[i] - timediff_array[i]\n",
    "            user_timestamp_max_dict[user_id] = np.concatenate([user_timestamp_max_dict[user_id],[timestamp]])[1:]  \n",
    "            \n",
    "        if user_community_count_dict[user_id][community] == 0:\n",
    "            tag_acc_array[i] = -1\n",
    "        else:\n",
    "            tag_acc_array[i] = user_community_correct_dict[user_id][community] / user_community_count_dict[user_id][community]\n",
    "            \n",
    "        community_count_array[i] = community_count_dict[community]\n",
    "     \n",
    "    test_df['count'] = 1\n",
    "    test_df['count'] = test_df.groupby(\"user_id\")[\"count\"].cumsum()\n",
    "    test_df['count'] += user_count\n",
    "    test_df['user_correctness'] = user_sum / user_count\n",
    "    test_df['content_count'] = content_count\n",
    "    test_df['content_id'] = content_sum / content_count\n",
    "    test_df['part_count'] = part_count\n",
    "    test_df['part_ratio'] = part_count / test_df['count'].values\n",
    "    test_df[\"first_attempt\"] = first_attempt_values\n",
    "    test_df[\"unique_attempt\"] = test_df.groupby(\"user_id\")[\"first_attempt\"].cumsum()\n",
    "    test_df[\"unique_attempt\"] += user_unique_count\n",
    "    test_df['prior_question_had_explanation_mean'] = user_prior_question_had_explanation_sum / user_count\n",
    "    test_df['got_point'] = got_point_array / user_count\n",
    "    test_df['answered_correctly_last7'] = user_last7_accuracy_array\n",
    "    test_df['timediff'] = timediff_array\n",
    "    test_df['timediff2'] = timediff2_array\n",
    "    test_df['timediff3'] = timediff3_array\n",
    "    test_df['timediff4'] = timediff4_array\n",
    "    test_df['tag_acc'] = tag_acc_array\n",
    "    test_df['community_count'] = community_count_array\n",
    "    test_df['time_dd'] = time_dd_array\n",
    "    test_df['correct_estimation'] = estimate_probas(test_df, student_parameters, item_parameters)\n",
    "\n",
    "    prior_f_attempt_arrays = test_df['first_attempt'].values\n",
    "    prior_point_array = 1 / (test_df.content_id.values + 0.1)\n",
    "    \n",
    "    test_df[target] = model.predict(test_df[features])\n",
    "    env.predict(test_df[['row_id', target]])"
   ]
  },
  {
   "cell_type": "code",
   "execution_count": null,
   "metadata": {
    "papermill": {
     "duration": 0.059644,
     "end_time": "2020-12-23T11:27:01.512458",
     "exception": false,
     "start_time": "2020-12-23T11:27:01.452814",
     "status": "completed"
    },
    "tags": []
   },
   "outputs": [],
   "source": []
  }
 ],
 "metadata": {
  "kernelspec": {
   "display_name": "Python 3",
   "language": "python",
   "name": "python3"
  },
  "language_info": {
   "codemirror_mode": {
    "name": "ipython",
    "version": 3
   },
   "file_extension": ".py",
   "mimetype": "text/x-python",
   "name": "python",
   "nbconvert_exporter": "python",
   "pygments_lexer": "ipython3",
   "version": "3.7.6"
  },
  "papermill": {
   "duration": 5309.318428,
   "end_time": "2020-12-23T11:27:02.189811",
   "environment_variables": {},
   "exception": null,
   "input_path": "__notebook__.ipynb",
   "output_path": "__notebook__.ipynb",
   "parameters": {},
   "start_time": "2020-12-23T09:58:32.871383",
   "version": "2.1.0"
  }
 },
 "nbformat": 4,
 "nbformat_minor": 4
}
