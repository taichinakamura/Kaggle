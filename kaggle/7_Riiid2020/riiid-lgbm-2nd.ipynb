{
 "cells": [
  {
   "cell_type": "markdown",
   "metadata": {
    "papermill": {
     "duration": 0.022371,
     "end_time": "2020-11-28T04:17:14.484977",
     "exception": false,
     "start_time": "2020-11-28T04:17:14.462606",
     "status": "completed"
    },
    "tags": []
   },
   "source": [
    "- add question_id"
   ]
  },
  {
   "cell_type": "code",
   "execution_count": 1,
   "metadata": {
    "_cell_guid": "b1076dfc-b9ad-4769-8c92-a6c4dae69d19",
    "_uuid": "8f2839f25d086af736a60e9eeb907d3b93b6e0e5",
    "execution": {
     "iopub.execute_input": "2020-11-28T04:17:14.530752Z",
     "iopub.status.busy": "2020-11-28T04:17:14.530017Z",
     "iopub.status.idle": "2020-11-28T04:17:44.699324Z",
     "shell.execute_reply": "2020-11-28T04:17:44.698640Z"
    },
    "papermill": {
     "duration": 30.195005,
     "end_time": "2020-11-28T04:17:44.699460",
     "exception": false,
     "start_time": "2020-11-28T04:17:14.504455",
     "status": "completed"
    },
    "tags": []
   },
   "outputs": [],
   "source": [
    "!pip install ../input/python-datatable/datatable-0.11.0-cp37-cp37m-manylinux2010_x86_64.whl > /dev/null 2>&1"
   ]
  },
  {
   "cell_type": "code",
   "execution_count": 2,
   "metadata": {
    "_cell_guid": "79c7e3d0-c299-4dcb-8224-4455121ee9b0",
    "_uuid": "d629ff2d2480ee46fbb7e2d37f6b5fab8052498a",
    "execution": {
     "iopub.execute_input": "2020-11-28T04:17:44.748081Z",
     "iopub.status.busy": "2020-11-28T04:17:44.747030Z",
     "iopub.status.idle": "2020-11-28T04:17:45.916139Z",
     "shell.execute_reply": "2020-11-28T04:17:45.915339Z"
    },
    "papermill": {
     "duration": 1.196882,
     "end_time": "2020-11-28T04:17:45.916263",
     "exception": false,
     "start_time": "2020-11-28T04:17:44.719381",
     "status": "completed"
    },
    "tags": []
   },
   "outputs": [
    {
     "data": {
      "text/html": [
       "<style type='text/css'>\n",
       ".datatable table.frame { margin-bottom: 0; }\n",
       ".datatable table.frame thead { border-bottom: none; }\n",
       ".datatable table.frame tr.coltypes td {  color: #FFFFFF;  line-height: 6px;  padding: 0 0.5em;}\n",
       ".datatable .bool    { background: #DDDD99; }\n",
       ".datatable .object  { background: #565656; }\n",
       ".datatable .int     { background: #5D9E5D; }\n",
       ".datatable .float   { background: #4040CC; }\n",
       ".datatable .str     { background: #CC4040; }\n",
       ".datatable .row_index {  background: var(--jp-border-color3);  border-right: 1px solid var(--jp-border-color0);  color: var(--jp-ui-font-color3);  font-size: 9px;}\n",
       ".datatable .frame tr.coltypes .row_index {  background: var(--jp-border-color0);}\n",
       ".datatable th:nth-child(2) { padding-left: 12px; }\n",
       ".datatable .hellipsis {  color: var(--jp-cell-editor-border-color);}\n",
       ".datatable .vellipsis {  background: var(--jp-layout-color0);  color: var(--jp-cell-editor-border-color);}\n",
       ".datatable .na {  color: var(--jp-cell-editor-border-color);  font-size: 80%;}\n",
       ".datatable .footer { font-size: 9px; }\n",
       ".datatable .frame_dimensions {  background: var(--jp-border-color3);  border-top: 1px solid var(--jp-border-color0);  color: var(--jp-ui-font-color3);  display: inline-block;  opacity: 0.6;  padding: 1px 10px 1px 5px;}\n",
       "</style>\n"
      ],
      "text/plain": [
       "<IPython.core.display.HTML object>"
      ]
     },
     "metadata": {},
     "output_type": "display_data"
    }
   ],
   "source": [
    "import numpy as np\n",
    "import pandas as pd\n",
    "from collections import defaultdict\n",
    "import datatable as dt\n",
    "import lightgbm as lgb\n",
    "from matplotlib import pyplot as plt\n",
    "import riiideducation\n",
    "\n",
    "_ = np.seterr(divide='ignore', invalid='ignore')"
   ]
  },
  {
   "cell_type": "markdown",
   "metadata": {
    "papermill": {
     "duration": 0.020106,
     "end_time": "2020-11-28T04:17:45.957465",
     "exception": false,
     "start_time": "2020-11-28T04:17:45.937359",
     "status": "completed"
    },
    "tags": []
   },
   "source": [
    "# Preprocess"
   ]
  },
  {
   "cell_type": "code",
   "execution_count": 3,
   "metadata": {
    "execution": {
     "iopub.execute_input": "2020-11-28T04:17:46.004258Z",
     "iopub.status.busy": "2020-11-28T04:17:46.003513Z",
     "iopub.status.idle": "2020-11-28T04:17:46.006467Z",
     "shell.execute_reply": "2020-11-28T04:17:46.007065Z"
    },
    "papermill": {
     "duration": 0.029297,
     "end_time": "2020-11-28T04:17:46.007214",
     "exception": false,
     "start_time": "2020-11-28T04:17:45.977917",
     "status": "completed"
    },
    "tags": []
   },
   "outputs": [],
   "source": [
    "data_types_dict = {\n",
    "    'user_id': 'int32', \n",
    "    'content_id': 'int16', \n",
    "    'answered_correctly': 'int8', \n",
    "    'prior_question_elapsed_time': 'float32', \n",
    "    'prior_question_had_explanation': 'bool'\n",
    "}\n",
    "target = 'answered_correctly'"
   ]
  },
  {
   "cell_type": "code",
   "execution_count": 4,
   "metadata": {
    "execution": {
     "iopub.execute_input": "2020-11-28T04:17:46.056421Z",
     "iopub.status.busy": "2020-11-28T04:17:46.055461Z",
     "iopub.status.idle": "2020-11-28T04:18:59.636936Z",
     "shell.execute_reply": "2020-11-28T04:18:59.636282Z"
    },
    "papermill": {
     "duration": 73.609076,
     "end_time": "2020-11-28T04:18:59.637073",
     "exception": false,
     "start_time": "2020-11-28T04:17:46.027997",
     "status": "completed"
    },
    "tags": []
   },
   "outputs": [],
   "source": [
    "train_df = dt.fread('../input/riiid-test-answer-prediction/train.csv', columns=set(data_types_dict.keys())).to_pandas()\n",
    "train_df = train_df[train_df[target] != -1].reset_index(drop=True)\n",
    "train_df['prior_question_had_explanation'].fillna(False, inplace=True)\n",
    "train_df = train_df.astype(data_types_dict)"
   ]
  },
  {
   "cell_type": "code",
   "execution_count": 5,
   "metadata": {
    "execution": {
     "iopub.execute_input": "2020-11-28T04:18:59.691747Z",
     "iopub.status.busy": "2020-11-28T04:18:59.690496Z",
     "iopub.status.idle": "2020-11-28T04:19:16.837208Z",
     "shell.execute_reply": "2020-11-28T04:19:16.836492Z"
    },
    "papermill": {
     "duration": 17.179057,
     "end_time": "2020-11-28T04:19:16.837336",
     "exception": false,
     "start_time": "2020-11-28T04:18:59.658279",
     "status": "completed"
    },
    "tags": []
   },
   "outputs": [],
   "source": [
    "questions_df = pd.read_csv(\n",
    "    '../input/riiid-test-answer-prediction/questions.csv', \n",
    "    usecols=[0, 3],\n",
    "    dtype={'question_id': 'int16', 'part': 'int8'}\n",
    ")\n",
    "train_df = pd.merge(train_df, questions_df, left_on='content_id', right_on='question_id', how='left')\n",
    "#train_df.drop(columns=['question_id'], inplace=True)"
   ]
  },
  {
   "cell_type": "code",
   "execution_count": 6,
   "metadata": {
    "execution": {
     "iopub.execute_input": "2020-11-28T04:19:16.887987Z",
     "iopub.status.busy": "2020-11-28T04:19:16.887188Z",
     "iopub.status.idle": "2020-11-28T04:19:46.439343Z",
     "shell.execute_reply": "2020-11-28T04:19:46.439890Z"
    },
    "papermill": {
     "duration": 29.581491,
     "end_time": "2020-11-28T04:19:46.440064",
     "exception": false,
     "start_time": "2020-11-28T04:19:16.858573",
     "status": "completed"
    },
    "tags": []
   },
   "outputs": [],
   "source": [
    "train_df['lag'] = train_df.groupby('user_id')[target].shift()\n",
    "cum = train_df.groupby('user_id')['lag'].agg(['cumsum', 'cumcount'])\n",
    "train_df['user_correctness'] = cum['cumsum'] / cum['cumcount']\n",
    "train_df.drop(columns=['lag'], inplace=True)\n",
    "del cum"
   ]
  },
  {
   "cell_type": "code",
   "execution_count": 7,
   "metadata": {
    "execution": {
     "iopub.execute_input": "2020-11-28T04:19:46.491535Z",
     "iopub.status.busy": "2020-11-28T04:19:46.490736Z",
     "iopub.status.idle": "2020-11-28T04:20:26.120172Z",
     "shell.execute_reply": "2020-11-28T04:20:26.119371Z"
    },
    "papermill": {
     "duration": 39.658752,
     "end_time": "2020-11-28T04:20:26.120309",
     "exception": false,
     "start_time": "2020-11-28T04:19:46.461557",
     "status": "completed"
    },
    "tags": []
   },
   "outputs": [],
   "source": [
    "train_df[\"reading_part\"] = train_df[\"part\"] >=5\n",
    "train_df[\"reading_part\"] = train_df[\"reading_part\"].astype(\"int8\")\n",
    "train_df['reading_part_lag'] = train_df.groupby('user_id')[\"reading_part\"].shift()\n",
    "cum = train_df.groupby('user_id')['reading_part_lag'].agg(['cumsum']) \n",
    "train_df['reading_part_ratio'] = cum['cumsum'] \n",
    "train_df.drop(columns=['reading_part_lag', 'reading_part'], inplace=True)\n",
    "del cum"
   ]
  },
  {
   "cell_type": "code",
   "execution_count": 8,
   "metadata": {
    "execution": {
     "iopub.execute_input": "2020-11-28T04:20:26.174394Z",
     "iopub.status.busy": "2020-11-28T04:20:26.173618Z",
     "iopub.status.idle": "2020-11-28T04:21:07.931433Z",
     "shell.execute_reply": "2020-11-28T04:21:07.932041Z"
    },
    "papermill": {
     "duration": 41.789138,
     "end_time": "2020-11-28T04:21:07.932241",
     "exception": false,
     "start_time": "2020-11-28T04:20:26.143103",
     "status": "completed"
    },
    "tags": []
   },
   "outputs": [],
   "source": [
    "train_df[\"listening_part\"] = (train_df[\"part\"] >=1) | (train_df[\"part\"] <=4)\n",
    "train_df[\"listening_part\"] = train_df[\"listening_part\"].astype(\"int8\")\n",
    "train_df['listening_part_lag'] = train_df.groupby('user_id')[\"listening_part\"].shift()\n",
    "cum = train_df.groupby('user_id')['listening_part_lag'].agg(['cumsum']) \n",
    "train_df['listening_part_ratio'] = cum['cumsum'] \n",
    "train_df.drop(columns=['listening_part_lag', 'listening_part'], inplace=True)\n",
    "del cum"
   ]
  },
  {
   "cell_type": "code",
   "execution_count": 9,
   "metadata": {
    "execution": {
     "iopub.execute_input": "2020-11-28T04:21:07.982759Z",
     "iopub.status.busy": "2020-11-28T04:21:07.982045Z",
     "iopub.status.idle": "2020-11-28T04:21:17.385154Z",
     "shell.execute_reply": "2020-11-28T04:21:17.385717Z"
    },
    "papermill": {
     "duration": 9.431511,
     "end_time": "2020-11-28T04:21:17.385890",
     "exception": false,
     "start_time": "2020-11-28T04:21:07.954379",
     "status": "completed"
    },
    "tags": []
   },
   "outputs": [],
   "source": [
    "user_agg = train_df.groupby('user_id')[target].agg(['sum', 'count'])\n",
    "content_agg = train_df.groupby('content_id')[target].agg(['sum', 'count'])"
   ]
  },
  {
   "cell_type": "code",
   "execution_count": 10,
   "metadata": {
    "execution": {
     "iopub.execute_input": "2020-11-28T04:21:17.435762Z",
     "iopub.status.busy": "2020-11-28T04:21:17.435045Z",
     "iopub.status.idle": "2020-11-28T04:21:22.862573Z",
     "shell.execute_reply": "2020-11-28T04:21:22.861859Z"
    },
    "papermill": {
     "duration": 5.454823,
     "end_time": "2020-11-28T04:21:22.862693",
     "exception": false,
     "start_time": "2020-11-28T04:21:17.407870",
     "status": "completed"
    },
    "tags": []
   },
   "outputs": [],
   "source": [
    "user_listening_agg = train_df.groupby('user_id')[\"listening_part_ratio\"].agg(['max'])\n",
    "user_reading_agg = train_df.groupby('user_id')[\"reading_part_ratio\"].agg(['max'])"
   ]
  },
  {
   "cell_type": "code",
   "execution_count": 11,
   "metadata": {
    "execution": {
     "iopub.execute_input": "2020-11-28T04:21:22.914204Z",
     "iopub.status.busy": "2020-11-28T04:21:22.912649Z",
     "iopub.status.idle": "2020-11-28T04:21:26.690947Z",
     "shell.execute_reply": "2020-11-28T04:21:26.690326Z"
    },
    "papermill": {
     "duration": 3.805854,
     "end_time": "2020-11-28T04:21:26.691078",
     "exception": false,
     "start_time": "2020-11-28T04:21:22.885224",
     "status": "completed"
    },
    "tags": []
   },
   "outputs": [],
   "source": [
    "train_df[\"count\"] = 1\n",
    "train_df[\"count\"] = train_df.groupby(\"user_id\")[\"count\"].cumsum()"
   ]
  },
  {
   "cell_type": "code",
   "execution_count": 12,
   "metadata": {
    "execution": {
     "iopub.execute_input": "2020-11-28T04:21:26.742403Z",
     "iopub.status.busy": "2020-11-28T04:21:26.740959Z",
     "iopub.status.idle": "2020-11-28T04:21:34.084018Z",
     "shell.execute_reply": "2020-11-28T04:21:34.083252Z"
    },
    "papermill": {
     "duration": 7.370863,
     "end_time": "2020-11-28T04:21:34.084139",
     "exception": false,
     "start_time": "2020-11-28T04:21:26.713276",
     "status": "completed"
    },
    "tags": []
   },
   "outputs": [],
   "source": [
    "train_df = train_df.groupby('user_id').tail(24).reset_index(drop=True)"
   ]
  },
  {
   "cell_type": "code",
   "execution_count": 13,
   "metadata": {
    "execution": {
     "iopub.execute_input": "2020-11-28T04:21:34.135969Z",
     "iopub.status.busy": "2020-11-28T04:21:34.135185Z",
     "iopub.status.idle": "2020-11-28T04:21:34.425602Z",
     "shell.execute_reply": "2020-11-28T04:21:34.424996Z"
    },
    "papermill": {
     "duration": 0.319131,
     "end_time": "2020-11-28T04:21:34.425730",
     "exception": false,
     "start_time": "2020-11-28T04:21:34.106599",
     "status": "completed"
    },
    "tags": []
   },
   "outputs": [],
   "source": [
    "train_df['content_count'] = train_df['content_id'].map(content_agg['count']).astype('int32')\n",
    "train_df['content_id'] = train_df['content_id'].map(content_agg['sum'] / content_agg['count'])"
   ]
  },
  {
   "cell_type": "code",
   "execution_count": 14,
   "metadata": {
    "execution": {
     "iopub.execute_input": "2020-11-28T04:21:34.476679Z",
     "iopub.status.busy": "2020-11-28T04:21:34.475916Z",
     "iopub.status.idle": "2020-11-28T04:21:37.202106Z",
     "shell.execute_reply": "2020-11-28T04:21:37.201318Z"
    },
    "papermill": {
     "duration": 2.75399,
     "end_time": "2020-11-28T04:21:37.202230",
     "exception": false,
     "start_time": "2020-11-28T04:21:34.448240",
     "status": "completed"
    },
    "tags": []
   },
   "outputs": [],
   "source": [
    "valid_df = train_df.groupby('user_id').tail(6)\n",
    "train_df.drop(valid_df.index, inplace=True)"
   ]
  },
  {
   "cell_type": "code",
   "execution_count": 15,
   "metadata": {
    "execution": {
     "iopub.execute_input": "2020-11-28T04:21:37.259996Z",
     "iopub.status.busy": "2020-11-28T04:21:37.253657Z",
     "iopub.status.idle": "2020-11-28T04:21:37.272488Z",
     "shell.execute_reply": "2020-11-28T04:21:37.273035Z"
    },
    "papermill": {
     "duration": 0.048287,
     "end_time": "2020-11-28T04:21:37.273188",
     "exception": false,
     "start_time": "2020-11-28T04:21:37.224901",
     "status": "completed"
    },
    "tags": []
   },
   "outputs": [
    {
     "data": {
      "text/html": [
       "<div>\n",
       "<style scoped>\n",
       "    .dataframe tbody tr th:only-of-type {\n",
       "        vertical-align: middle;\n",
       "    }\n",
       "\n",
       "    .dataframe tbody tr th {\n",
       "        vertical-align: top;\n",
       "    }\n",
       "\n",
       "    .dataframe thead th {\n",
       "        text-align: right;\n",
       "    }\n",
       "</style>\n",
       "<table border=\"1\" class=\"dataframe\">\n",
       "  <thead>\n",
       "    <tr style=\"text-align: right;\">\n",
       "      <th></th>\n",
       "      <th>user_id</th>\n",
       "      <th>content_id</th>\n",
       "      <th>answered_correctly</th>\n",
       "      <th>prior_question_elapsed_time</th>\n",
       "      <th>prior_question_had_explanation</th>\n",
       "      <th>question_id</th>\n",
       "      <th>part</th>\n",
       "      <th>user_correctness</th>\n",
       "      <th>reading_part_ratio</th>\n",
       "      <th>listening_part_ratio</th>\n",
       "      <th>count</th>\n",
       "      <th>content_count</th>\n",
       "    </tr>\n",
       "  </thead>\n",
       "  <tbody>\n",
       "    <tr>\n",
       "      <th>0</th>\n",
       "      <td>115</td>\n",
       "      <td>0.687217</td>\n",
       "      <td>0</td>\n",
       "      <td>19000.0</td>\n",
       "      <td>False</td>\n",
       "      <td>45</td>\n",
       "      <td>1</td>\n",
       "      <td>0.727273</td>\n",
       "      <td>2.0</td>\n",
       "      <td>22.0</td>\n",
       "      <td>23</td>\n",
       "      <td>36674</td>\n",
       "    </tr>\n",
       "    <tr>\n",
       "      <th>1</th>\n",
       "      <td>115</td>\n",
       "      <td>0.608222</td>\n",
       "      <td>0</td>\n",
       "      <td>21000.0</td>\n",
       "      <td>False</td>\n",
       "      <td>185</td>\n",
       "      <td>1</td>\n",
       "      <td>0.695652</td>\n",
       "      <td>2.0</td>\n",
       "      <td>23.0</td>\n",
       "      <td>24</td>\n",
       "      <td>47047</td>\n",
       "    </tr>\n",
       "    <tr>\n",
       "      <th>2</th>\n",
       "      <td>115</td>\n",
       "      <td>0.601824</td>\n",
       "      <td>1</td>\n",
       "      <td>22000.0</td>\n",
       "      <td>False</td>\n",
       "      <td>55</td>\n",
       "      <td>1</td>\n",
       "      <td>0.666667</td>\n",
       "      <td>2.0</td>\n",
       "      <td>24.0</td>\n",
       "      <td>25</td>\n",
       "      <td>40452</td>\n",
       "    </tr>\n",
       "    <tr>\n",
       "      <th>3</th>\n",
       "      <td>115</td>\n",
       "      <td>0.418436</td>\n",
       "      <td>1</td>\n",
       "      <td>16000.0</td>\n",
       "      <td>False</td>\n",
       "      <td>7876</td>\n",
       "      <td>1</td>\n",
       "      <td>0.680000</td>\n",
       "      <td>2.0</td>\n",
       "      <td>25.0</td>\n",
       "      <td>26</td>\n",
       "      <td>190170</td>\n",
       "    </tr>\n",
       "    <tr>\n",
       "      <th>4</th>\n",
       "      <td>115</td>\n",
       "      <td>0.474545</td>\n",
       "      <td>1</td>\n",
       "      <td>20000.0</td>\n",
       "      <td>False</td>\n",
       "      <td>6</td>\n",
       "      <td>1</td>\n",
       "      <td>0.692308</td>\n",
       "      <td>2.0</td>\n",
       "      <td>26.0</td>\n",
       "      <td>27</td>\n",
       "      <td>56707</td>\n",
       "    </tr>\n",
       "  </tbody>\n",
       "</table>\n",
       "</div>"
      ],
      "text/plain": [
       "   user_id  content_id  answered_correctly  prior_question_elapsed_time  \\\n",
       "0      115    0.687217                   0                      19000.0   \n",
       "1      115    0.608222                   0                      21000.0   \n",
       "2      115    0.601824                   1                      22000.0   \n",
       "3      115    0.418436                   1                      16000.0   \n",
       "4      115    0.474545                   1                      20000.0   \n",
       "\n",
       "   prior_question_had_explanation  question_id  part  user_correctness  \\\n",
       "0                           False           45     1          0.727273   \n",
       "1                           False          185     1          0.695652   \n",
       "2                           False           55     1          0.666667   \n",
       "3                           False         7876     1          0.680000   \n",
       "4                           False            6     1          0.692308   \n",
       "\n",
       "   reading_part_ratio  listening_part_ratio  count  content_count  \n",
       "0                 2.0                  22.0     23          36674  \n",
       "1                 2.0                  23.0     24          47047  \n",
       "2                 2.0                  24.0     25          40452  \n",
       "3                 2.0                  25.0     26         190170  \n",
       "4                 2.0                  26.0     27          56707  "
      ]
     },
     "execution_count": 15,
     "metadata": {},
     "output_type": "execute_result"
    }
   ],
   "source": [
    "train_df.head()"
   ]
  },
  {
   "cell_type": "markdown",
   "metadata": {
    "papermill": {
     "duration": 0.022954,
     "end_time": "2020-11-28T04:21:37.319490",
     "exception": false,
     "start_time": "2020-11-28T04:21:37.296536",
     "status": "completed"
    },
    "tags": []
   },
   "source": [
    "# Train"
   ]
  },
  {
   "cell_type": "code",
   "execution_count": 16,
   "metadata": {
    "execution": {
     "iopub.execute_input": "2020-11-28T04:21:37.376627Z",
     "iopub.status.busy": "2020-11-28T04:21:37.375610Z",
     "iopub.status.idle": "2020-11-28T04:21:37.379218Z",
     "shell.execute_reply": "2020-11-28T04:21:37.378495Z"
    },
    "papermill": {
     "duration": 0.035157,
     "end_time": "2020-11-28T04:21:37.379337",
     "exception": false,
     "start_time": "2020-11-28T04:21:37.344180",
     "status": "completed"
    },
    "tags": []
   },
   "outputs": [],
   "source": [
    "features = [\n",
    "    'content_id',\n",
    "    'prior_question_elapsed_time',\n",
    "    'prior_question_had_explanation',\n",
    "    'user_correctness',\n",
    "    'part',\n",
    "    'content_count',\n",
    "    'count',\n",
    "    'reading_part_ratio',\n",
    "    'listening_part_ratio',\n",
    "    'question_id'\n",
    "]\n",
    "\n",
    "params = {\n",
    "    'objective': 'binary',\n",
    "    'seed': 42,\n",
    "    'metric': 'auc',\n",
    "    'learning_rate': 0.05,\n",
    "    'max_bin': 800,\n",
    "    'num_leaves': 80\n",
    "}"
   ]
  },
  {
   "cell_type": "code",
   "execution_count": 17,
   "metadata": {
    "execution": {
     "iopub.execute_input": "2020-11-28T04:21:37.574495Z",
     "iopub.status.busy": "2020-11-28T04:21:37.505865Z",
     "iopub.status.idle": "2020-11-28T05:40:34.413115Z",
     "shell.execute_reply": "2020-11-28T05:40:34.412296Z"
    },
    "papermill": {
     "duration": 4737.010161,
     "end_time": "2020-11-28T05:40:34.413308",
     "exception": false,
     "start_time": "2020-11-28T04:21:37.403147",
     "status": "completed"
    },
    "tags": []
   },
   "outputs": [
    {
     "name": "stdout",
     "output_type": "stream",
     "text": [
      "Training until validation scores don't improve for 50 rounds\n",
      "[50]\ttraining's auc: 0.752875\tvalid_1's auc: 0.735284\n",
      "[100]\ttraining's auc: 0.75499\tvalid_1's auc: 0.737673\n",
      "[150]\ttraining's auc: 0.756086\tvalid_1's auc: 0.738756\n",
      "[200]\ttraining's auc: 0.756607\tvalid_1's auc: 0.739107\n",
      "[250]\ttraining's auc: 0.756973\tvalid_1's auc: 0.739288\n",
      "[300]\ttraining's auc: 0.757314\tvalid_1's auc: 0.739451\n",
      "[350]\ttraining's auc: 0.757632\tvalid_1's auc: 0.739566\n",
      "[400]\ttraining's auc: 0.757932\tvalid_1's auc: 0.739682\n",
      "[450]\ttraining's auc: 0.758167\tvalid_1's auc: 0.739756\n",
      "[500]\ttraining's auc: 0.758441\tvalid_1's auc: 0.739861\n",
      "[550]\ttraining's auc: 0.758692\tvalid_1's auc: 0.739942\n",
      "[600]\ttraining's auc: 0.758951\tvalid_1's auc: 0.740017\n",
      "[650]\ttraining's auc: 0.759193\tvalid_1's auc: 0.740075\n",
      "[700]\ttraining's auc: 0.759451\tvalid_1's auc: 0.740138\n",
      "[750]\ttraining's auc: 0.759668\tvalid_1's auc: 0.740181\n",
      "[800]\ttraining's auc: 0.759891\tvalid_1's auc: 0.74024\n",
      "[850]\ttraining's auc: 0.760092\tvalid_1's auc: 0.740287\n",
      "[900]\ttraining's auc: 0.760298\tvalid_1's auc: 0.740325\n",
      "[950]\ttraining's auc: 0.760514\tvalid_1's auc: 0.740359\n",
      "[1000]\ttraining's auc: 0.760702\tvalid_1's auc: 0.740379\n",
      "[1050]\ttraining's auc: 0.760912\tvalid_1's auc: 0.740417\n",
      "[1100]\ttraining's auc: 0.761112\tvalid_1's auc: 0.740445\n",
      "[1150]\ttraining's auc: 0.761346\tvalid_1's auc: 0.740489\n",
      "[1200]\ttraining's auc: 0.761549\tvalid_1's auc: 0.740513\n",
      "[1250]\ttraining's auc: 0.761774\tvalid_1's auc: 0.740552\n",
      "[1300]\ttraining's auc: 0.762004\tvalid_1's auc: 0.740605\n",
      "[1350]\ttraining's auc: 0.762216\tvalid_1's auc: 0.740642\n",
      "[1400]\ttraining's auc: 0.762407\tvalid_1's auc: 0.74067\n",
      "[1450]\ttraining's auc: 0.762616\tvalid_1's auc: 0.740705\n",
      "[1500]\ttraining's auc: 0.762814\tvalid_1's auc: 0.740723\n",
      "[1550]\ttraining's auc: 0.762977\tvalid_1's auc: 0.740728\n",
      "[1600]\ttraining's auc: 0.763154\tvalid_1's auc: 0.740745\n",
      "[1650]\ttraining's auc: 0.763362\tvalid_1's auc: 0.740779\n",
      "[1700]\ttraining's auc: 0.763538\tvalid_1's auc: 0.740784\n",
      "[1750]\ttraining's auc: 0.763738\tvalid_1's auc: 0.740799\n",
      "[1800]\ttraining's auc: 0.763907\tvalid_1's auc: 0.740812\n",
      "[1850]\ttraining's auc: 0.764071\tvalid_1's auc: 0.740822\n",
      "[1900]\ttraining's auc: 0.76424\tvalid_1's auc: 0.740824\n",
      "[1950]\ttraining's auc: 0.764412\tvalid_1's auc: 0.740829\n",
      "[2000]\ttraining's auc: 0.764595\tvalid_1's auc: 0.740841\n",
      "[2050]\ttraining's auc: 0.764781\tvalid_1's auc: 0.740845\n",
      "[2100]\ttraining's auc: 0.764958\tvalid_1's auc: 0.74086\n",
      "[2150]\ttraining's auc: 0.765124\tvalid_1's auc: 0.740866\n",
      "[2200]\ttraining's auc: 0.765303\tvalid_1's auc: 0.740872\n",
      "[2250]\ttraining's auc: 0.76549\tvalid_1's auc: 0.740885\n",
      "[2300]\ttraining's auc: 0.765681\tvalid_1's auc: 0.740899\n",
      "[2350]\ttraining's auc: 0.765848\tvalid_1's auc: 0.740897\n",
      "[2400]\ttraining's auc: 0.766029\tvalid_1's auc: 0.740911\n",
      "[2450]\ttraining's auc: 0.766209\tvalid_1's auc: 0.740926\n",
      "[2500]\ttraining's auc: 0.76637\tvalid_1's auc: 0.740928\n",
      "[2550]\ttraining's auc: 0.766543\tvalid_1's auc: 0.740933\n",
      "[2600]\ttraining's auc: 0.766712\tvalid_1's auc: 0.740938\n",
      "[2650]\ttraining's auc: 0.766889\tvalid_1's auc: 0.740949\n",
      "[2700]\ttraining's auc: 0.767041\tvalid_1's auc: 0.740946\n",
      "Early stopping, best iteration is:\n",
      "[2658]\ttraining's auc: 0.766918\tvalid_1's auc: 0.74095\n"
     ]
    },
    {
     "data": {
      "image/png": "[encoded data removed]",
      "text/plain": [
       "<Figure size 432x288 with 1 Axes>"
      ]
     },
     "metadata": {
      "needs_background": "light"
     },
     "output_type": "display_data"
    }
   ],
   "source": [
    "tr_data = lgb.Dataset(train_df[features], label=train_df[target])\n",
    "va_data = lgb.Dataset(valid_df[features], label=valid_df[target])\n",
    "\n",
    "model = lgb.train(\n",
    "    params, \n",
    "    tr_data, \n",
    "    num_boost_round=10000,\n",
    "    valid_sets=[tr_data, va_data], \n",
    "    early_stopping_rounds=50,\n",
    "    verbose_eval=50\n",
    ")\n",
    "\n",
    "# model.save_model(f'model.txt')\n",
    "lgb.plot_importance(model, importance_type='gain')\n",
    "plt.show()"
   ]
  },
  {
   "cell_type": "markdown",
   "metadata": {
    "papermill": {
     "duration": 0.047053,
     "end_time": "2020-11-28T05:40:34.519826",
     "exception": false,
     "start_time": "2020-11-28T05:40:34.472773",
     "status": "completed"
    },
    "tags": []
   },
   "source": [
    "# Inference"
   ]
  },
  {
   "cell_type": "code",
   "execution_count": 18,
   "metadata": {
    "execution": {
     "iopub.execute_input": "2020-11-28T05:40:34.629850Z",
     "iopub.status.busy": "2020-11-28T05:40:34.628693Z",
     "iopub.status.idle": "2020-11-28T05:40:34.653065Z",
     "shell.execute_reply": "2020-11-28T05:40:34.652443Z"
    },
    "papermill": {
     "duration": 0.080139,
     "end_time": "2020-11-28T05:40:34.653201",
     "exception": false,
     "start_time": "2020-11-28T05:40:34.573062",
     "status": "completed"
    },
    "tags": []
   },
   "outputs": [],
   "source": [
    "user_reading_agg['max'].fillna(0,inplace=True)\n",
    "user_listening_agg['max'].fillna(0,inplace=True)"
   ]
  },
  {
   "cell_type": "code",
   "execution_count": 19,
   "metadata": {
    "execution": {
     "iopub.execute_input": "2020-11-28T05:40:34.757791Z",
     "iopub.status.busy": "2020-11-28T05:40:34.757053Z",
     "iopub.status.idle": "2020-11-28T05:40:35.764771Z",
     "shell.execute_reply": "2020-11-28T05:40:35.764123Z"
    },
    "papermill": {
     "duration": 1.064182,
     "end_time": "2020-11-28T05:40:35.764907",
     "exception": false,
     "start_time": "2020-11-28T05:40:34.700725",
     "status": "completed"
    },
    "tags": []
   },
   "outputs": [],
   "source": [
    "user_sum_dict = user_agg['sum'].astype('int16').to_dict(defaultdict(int))\n",
    "user_count_dict = user_agg['count'].astype('int16').to_dict(defaultdict(int))\n",
    "content_sum_dict = content_agg['sum'].astype('int32').to_dict(defaultdict(int))\n",
    "content_count_dict = content_agg['count'].astype('int32').to_dict(defaultdict(int))\n",
    "user_reading_dict = user_reading_agg['max'].astype('int32').to_dict(defaultdict(int))\n",
    "user_listening_dict = user_listening_agg['max'].astype('int32').to_dict(defaultdict(int))"
   ]
  },
  {
   "cell_type": "code",
   "execution_count": 20,
   "metadata": {
    "execution": {
     "iopub.execute_input": "2020-11-28T05:40:35.866300Z",
     "iopub.status.busy": "2020-11-28T05:40:35.865508Z",
     "iopub.status.idle": "2020-11-28T05:40:35.868012Z",
     "shell.execute_reply": "2020-11-28T05:40:35.868565Z"
    },
    "papermill": {
     "duration": 0.056082,
     "end_time": "2020-11-28T05:40:35.868724",
     "exception": false,
     "start_time": "2020-11-28T05:40:35.812642",
     "status": "completed"
    },
    "tags": []
   },
   "outputs": [],
   "source": [
    "# model = lgb.Booster(model_file='../input/riiid-lgbm-starter/model.txt')\n",
    "env = riiideducation.make_env()\n",
    "iter_test = env.iter_test()\n",
    "prior_test_df = None"
   ]
  },
  {
   "cell_type": "code",
   "execution_count": 21,
   "metadata": {
    "execution": {
     "iopub.execute_input": "2020-11-28T05:40:36.003687Z",
     "iopub.status.busy": "2020-11-28T05:40:36.002794Z",
     "iopub.status.idle": "2020-11-28T05:40:36.891119Z",
     "shell.execute_reply": "2020-11-28T05:40:36.890366Z"
    },
    "papermill": {
     "duration": 0.974692,
     "end_time": "2020-11-28T05:40:36.891240",
     "exception": false,
     "start_time": "2020-11-28T05:40:35.916548",
     "status": "completed"
    },
    "tags": []
   },
   "outputs": [
    {
     "name": "stdout",
     "output_type": "stream",
     "text": [
      "CPU times: user 1.32 s, sys: 75 ms, total: 1.39 s\n",
      "Wall time: 885 ms\n"
     ]
    }
   ],
   "source": [
    "%%time\n",
    "\n",
    "for (test_df, sample_prediction_df) in iter_test:\n",
    "    if prior_test_df is not None:\n",
    "        prior_test_df[target] = eval(test_df['prior_group_answers_correct'].iloc[0])\n",
    "        prior_test_df = prior_test_df[prior_test_df[target] != -1].reset_index(drop=True)\n",
    "        \n",
    "        user_ids = prior_test_df['user_id'].values\n",
    "        content_ids = prior_test_df['content_id'].values\n",
    "        targets = prior_test_df[target].values\n",
    "        parts = prior_part_arrays\n",
    "        \n",
    "        for user_id, content_id, answered_correctly, part in zip(user_ids, content_ids, targets, parts):\n",
    "            user_sum_dict[user_id] += answered_correctly\n",
    "            user_count_dict[user_id] += 1\n",
    "            content_sum_dict[content_id] += answered_correctly\n",
    "            content_count_dict[content_id] += 1\n",
    "            if part <=4:\n",
    "                user_listening_dict[user_id] +=1\n",
    "            else:\n",
    "                user_reading_dict[user_id] +=1\n",
    "\n",
    "    prior_test_df = test_df.copy()\n",
    "    \n",
    "    test_df = test_df[test_df['content_type_id'] == 0].reset_index(drop=True)\n",
    "    test_df = pd.merge(test_df, questions_df, left_on='content_id', right_on='question_id', how='left')\n",
    "    test_df['prior_question_had_explanation'] = test_df['prior_question_had_explanation'].fillna(False).astype('bool')    \n",
    "    \n",
    "    prior_part_arrays = test_df['part'].values\n",
    "    \n",
    "    user_sum = np.zeros(len(test_df), dtype=np.int16)\n",
    "    user_count = np.zeros(len(test_df), dtype=np.int16)\n",
    "    content_sum = np.zeros(len(test_df), dtype=np.int32)\n",
    "    content_count = np.zeros(len(test_df), dtype=np.int32)\n",
    "    listening_count = np.zeros(len(test_df), dtype=np.int32)\n",
    "    reading_count = np.zeros(len(test_df), dtype=np.int32)\n",
    "    \n",
    "    for i, (user_id, content_id) in enumerate(zip(test_df['user_id'].values, test_df['content_id'].values)):\n",
    "        user_sum[i] = user_sum_dict[user_id]\n",
    "        user_count[i] = user_count_dict[user_id]\n",
    "        content_sum[i] = content_sum_dict[content_id]\n",
    "        content_count[i] = content_count_dict[content_id]\n",
    "        listening_count[i] = user_listening_dict[user_id]\n",
    "        reading_count[i] = user_reading_dict[user_id]\n",
    "\n",
    "    test_df['user_correctness'] = user_sum / user_count\n",
    "    test_df['content_count'] = content_count\n",
    "    test_df['content_id'] = content_sum / content_count\n",
    "    test_df['count'] = 1\n",
    "    test_df['count'] = test_df.groupby(\"user_id\")[\"count\"].cumsum()\n",
    "    test_df['count'] += user_count\n",
    "    test_df['reading_part_ratio'] = reading_count\n",
    "    test_df['listening_part_ratio'] = listening_count\n",
    "    \n",
    "    test_df[target] = model.predict(test_df[features])\n",
    "    env.predict(test_df[['row_id', target]])"
   ]
  },
  {
   "cell_type": "code",
   "execution_count": null,
   "metadata": {
    "papermill": {
     "duration": 0.048017,
     "end_time": "2020-11-28T05:40:36.987532",
     "exception": false,
     "start_time": "2020-11-28T05:40:36.939515",
     "status": "completed"
    },
    "tags": []
   },
   "outputs": [],
   "source": []
  }
 ],
 "metadata": {
  "kernelspec": {
   "display_name": "Python 3",
   "language": "python",
   "name": "python3"
  },
  "language_info": {
   "codemirror_mode": {
    "name": "ipython",
    "version": 3
   },
   "file_extension": ".py",
   "mimetype": "text/x-python",
   "name": "python",
   "nbconvert_exporter": "python",
   "pygments_lexer": "ipython3",
   "version": "3.7.6"
  },
  "papermill": {
   "duration": 5007.450087,
   "end_time": "2020-11-28T05:40:37.146151",
   "environment_variables": {},
   "exception": null,
   "input_path": "__notebook__.ipynb",
   "output_path": "__notebook__.ipynb",
   "parameters": {},
   "start_time": "2020-11-28T04:17:09.696064",
   "version": "2.1.0"
  }
 },
 "nbformat": 4,
 "nbformat_minor": 4
}
