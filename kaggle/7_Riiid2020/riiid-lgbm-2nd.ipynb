{
 "cells": [
  {
   "cell_type": "markdown",
   "metadata": {
    "papermill": {
     "duration": 0.027448,
     "end_time": "2020-12-09T06:32:09.988543",
     "exception": false,
     "start_time": "2020-12-09T06:32:09.961095",
     "status": "completed"
    },
    "tags": []
   },
   "source": [
    "- execute full training (size=40, boost_round=3500)"
   ]
  },
  {
   "cell_type": "code",
   "execution_count": 1,
   "metadata": {
    "_cell_guid": "b1076dfc-b9ad-4769-8c92-a6c4dae69d19",
    "_uuid": "8f2839f25d086af736a60e9eeb907d3b93b6e0e5",
    "execution": {
     "iopub.execute_input": "2020-12-09T06:32:10.042479Z",
     "iopub.status.busy": "2020-12-09T06:32:10.041594Z",
     "iopub.status.idle": "2020-12-09T06:32:41.219024Z",
     "shell.execute_reply": "2020-12-09T06:32:41.218329Z"
    },
    "papermill": {
     "duration": 31.207173,
     "end_time": "2020-12-09T06:32:41.219154",
     "exception": false,
     "start_time": "2020-12-09T06:32:10.011981",
     "status": "completed"
    },
    "tags": []
   },
   "outputs": [],
   "source": [
    "!pip install ../input/python-datatable/datatable-0.11.0-cp37-cp37m-manylinux2010_x86_64.whl > /dev/null 2>&1"
   ]
  },
  {
   "cell_type": "code",
   "execution_count": 2,
   "metadata": {
    "_cell_guid": "79c7e3d0-c299-4dcb-8224-4455121ee9b0",
    "_uuid": "d629ff2d2480ee46fbb7e2d37f6b5fab8052498a",
    "execution": {
     "iopub.execute_input": "2020-12-09T06:32:41.276331Z",
     "iopub.status.busy": "2020-12-09T06:32:41.275296Z",
     "iopub.status.idle": "2020-12-09T06:32:42.856916Z",
     "shell.execute_reply": "2020-12-09T06:32:42.856128Z"
    },
    "papermill": {
     "duration": 1.614466,
     "end_time": "2020-12-09T06:32:42.857057",
     "exception": false,
     "start_time": "2020-12-09T06:32:41.242591",
     "status": "completed"
    },
    "tags": []
   },
   "outputs": [
    {
     "data": {
      "text/html": [
       "<style type='text/css'>\n",
       ".datatable table.frame { margin-bottom: 0; }\n",
       ".datatable table.frame thead { border-bottom: none; }\n",
       ".datatable table.frame tr.coltypes td {  color: #FFFFFF;  line-height: 6px;  padding: 0 0.5em;}\n",
       ".datatable .bool    { background: #DDDD99; }\n",
       ".datatable .object  { background: #565656; }\n",
       ".datatable .int     { background: #5D9E5D; }\n",
       ".datatable .float   { background: #4040CC; }\n",
       ".datatable .str     { background: #CC4040; }\n",
       ".datatable .row_index {  background: var(--jp-border-color3);  border-right: 1px solid var(--jp-border-color0);  color: var(--jp-ui-font-color3);  font-size: 9px;}\n",
       ".datatable .frame tr.coltypes .row_index {  background: var(--jp-border-color0);}\n",
       ".datatable th:nth-child(2) { padding-left: 12px; }\n",
       ".datatable .hellipsis {  color: var(--jp-cell-editor-border-color);}\n",
       ".datatable .vellipsis {  background: var(--jp-layout-color0);  color: var(--jp-cell-editor-border-color);}\n",
       ".datatable .na {  color: var(--jp-cell-editor-border-color);  font-size: 80%;}\n",
       ".datatable .footer { font-size: 9px; }\n",
       ".datatable .frame_dimensions {  background: var(--jp-border-color3);  border-top: 1px solid var(--jp-border-color0);  color: var(--jp-ui-font-color3);  display: inline-block;  opacity: 0.6;  padding: 1px 10px 1px 5px;}\n",
       ".datatable .frame thead tr.colnames {  background-image: url('data:image/png;base64,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');  background-repeat: repeat-x;  background-size: 14px;  height: 28px;}\n",
       "</style>\n"
      ],
      "text/plain": [
       "<IPython.core.display.HTML object>"
      ]
     },
     "metadata": {},
     "output_type": "display_data"
    },
    {
     "name": "stderr",
     "output_type": "stream",
     "text": [
      "/opt/conda/lib/python3.7/site-packages/ipykernel_launcher.py:13: TqdmDeprecationWarning: This function will be removed in tqdm==5.0.0\n",
      "Please use `tqdm.notebook.*` instead of `tqdm._tqdm_notebook.*`\n",
      "  del sys.path[0]\n",
      "/opt/conda/lib/python3.7/site-packages/tqdm/std.py:666: FutureWarning: The Panel class is removed from pandas. Accessing it from the top-level namespace will also be removed in the next version\n",
      "  from pandas import Panel\n"
     ]
    }
   ],
   "source": [
    "import numpy as np\n",
    "import pandas as pd\n",
    "from collections import defaultdict\n",
    "import datatable as dt\n",
    "import lightgbm as lgb\n",
    "from matplotlib import pyplot as plt\n",
    "import riiideducation\n",
    "from bitarray import bitarray\n",
    "from sklearn.feature_extraction.text import TfidfVectorizer\n",
    "from sklearn.decomposition import TruncatedSVD\n",
    "from sklearn.cluster import KMeans\n",
    "\n",
    "from tqdm._tqdm_notebook import tqdm_notebook\n",
    "tqdm_notebook.pandas(desc=\"progress: \")\n",
    "\n",
    "_ = np.seterr(divide='ignore', invalid='ignore')\n",
    "pd.set_option(\"max_columns\", 50)\n",
    "pd.set_option(\"max_columns\", 100)"
   ]
  },
  {
   "cell_type": "code",
   "execution_count": 3,
   "metadata": {
    "execution": {
     "iopub.execute_input": "2020-12-09T06:32:42.921913Z",
     "iopub.status.busy": "2020-12-09T06:32:42.920893Z",
     "iopub.status.idle": "2020-12-09T06:32:42.924900Z",
     "shell.execute_reply": "2020-12-09T06:32:42.924038Z"
    },
    "papermill": {
     "duration": 0.041409,
     "end_time": "2020-12-09T06:32:42.925031",
     "exception": false,
     "start_time": "2020-12-09T06:32:42.883622",
     "status": "completed"
    },
    "tags": []
   },
   "outputs": [],
   "source": [
    "def make_bitarray():\n",
    "    a = bitarray(32737, endian='little')\n",
    "    a.setall(True)   \n",
    "    return a"
   ]
  },
  {
   "cell_type": "code",
   "execution_count": 4,
   "metadata": {
    "execution": {
     "iopub.execute_input": "2020-12-09T06:32:42.981900Z",
     "iopub.status.busy": "2020-12-09T06:32:42.980115Z",
     "iopub.status.idle": "2020-12-09T06:32:42.985577Z",
     "shell.execute_reply": "2020-12-09T06:32:42.984519Z"
    },
    "papermill": {
     "duration": 0.034426,
     "end_time": "2020-12-09T06:32:42.985751",
     "exception": false,
     "start_time": "2020-12-09T06:32:42.951325",
     "status": "completed"
    },
    "tags": []
   },
   "outputs": [],
   "source": [
    "FULL_TRAIN = True"
   ]
  },
  {
   "cell_type": "markdown",
   "metadata": {
    "papermill": {
     "duration": 0.024968,
     "end_time": "2020-12-09T06:32:43.041695",
     "exception": false,
     "start_time": "2020-12-09T06:32:43.016727",
     "status": "completed"
    },
    "tags": []
   },
   "source": [
    "# Preprocess"
   ]
  },
  {
   "cell_type": "code",
   "execution_count": 5,
   "metadata": {
    "execution": {
     "iopub.execute_input": "2020-12-09T06:32:43.100233Z",
     "iopub.status.busy": "2020-12-09T06:32:43.099077Z",
     "iopub.status.idle": "2020-12-09T06:32:43.102355Z",
     "shell.execute_reply": "2020-12-09T06:32:43.101327Z"
    },
    "papermill": {
     "duration": 0.035095,
     "end_time": "2020-12-09T06:32:43.102524",
     "exception": false,
     "start_time": "2020-12-09T06:32:43.067429",
     "status": "completed"
    },
    "tags": []
   },
   "outputs": [],
   "source": [
    "data_types_dict = {\n",
    "    #'row_id': 'uint32',\n",
    "    'timestamp': 'uint64',\n",
    "    'user_id': 'int32', \n",
    "    'content_id': 'int16', \n",
    "    #'content_type_id': 'int8',\n",
    "    'answered_correctly': 'int8', \n",
    "    'prior_question_elapsed_time': 'float32', \n",
    "    'prior_question_had_explanation': 'bool',\n",
    "}\n",
    "target = 'answered_correctly'"
   ]
  },
  {
   "cell_type": "code",
   "execution_count": 6,
   "metadata": {
    "execution": {
     "iopub.execute_input": "2020-12-09T06:32:43.166502Z",
     "iopub.status.busy": "2020-12-09T06:32:43.165424Z",
     "iopub.status.idle": "2020-12-09T06:34:23.352640Z",
     "shell.execute_reply": "2020-12-09T06:34:23.351962Z"
    },
    "papermill": {
     "duration": 100.219575,
     "end_time": "2020-12-09T06:34:23.352788",
     "exception": false,
     "start_time": "2020-12-09T06:32:43.133213",
     "status": "completed"
    },
    "tags": []
   },
   "outputs": [],
   "source": [
    "train_df = dt.fread('../input/riiid-test-answer-prediction/train.csv', columns=set(data_types_dict.keys())).to_pandas()\n",
    "\n",
    "#lectures = pd.read_csv(\"../input/riiid-test-answer-prediction/lectures.csv\")\n",
    "#lectures = lectures.astype({\"lecture_id\": 'int16', 'part': 'int8'})\n",
    "#train_df = train_df.merge(lectures[['lecture_id', 'part']], left_on=\"content_id\", right_on=\"lecture_id\", how=\"left\")\n",
    "\n",
    "#train_df[\"last_lecture\"] = train_df.groupby(\"user_id\")[\"lecture_id\"].shift()\n",
    "#train_df.drop(\"lecture_id\", axis=1, inplace=True)"
   ]
  },
  {
   "cell_type": "code",
   "execution_count": 7,
   "metadata": {
    "execution": {
     "iopub.execute_input": "2020-12-09T06:34:23.424289Z",
     "iopub.status.busy": "2020-12-09T06:34:23.423450Z",
     "iopub.status.idle": "2020-12-09T06:35:07.670363Z",
     "shell.execute_reply": "2020-12-09T06:35:07.669696Z"
    },
    "papermill": {
     "duration": 44.292117,
     "end_time": "2020-12-09T06:35:07.670505",
     "exception": false,
     "start_time": "2020-12-09T06:34:23.378388",
     "status": "completed"
    },
    "tags": []
   },
   "outputs": [],
   "source": [
    "train_df = train_df[train_df[target] != -1].reset_index(drop=True)\n",
    "\n",
    "#last_lecture_array = train_df.groupby(\"user_id\")[\"last_lecture\"].ffill().values\n",
    "#train_df.drop(\"last_lecture\", axis=1, inplace=True)\n",
    "\n",
    "train_df['prior_question_had_explanation'].fillna(False, inplace=True)\n",
    "train_df['prior_question_elapsed_time'].fillna(0, inplace=True)\n",
    "\n",
    "train_df['timestamp'] = (train_df['timestamp'] // 86400000) + 1 # days from start\n",
    "train_df = train_df.astype(data_types_dict)\n",
    "\n",
    "if FULL_TRAIN:\n",
    "    train_size = 40\n",
    "else:\n",
    "    train_size = 24\n",
    "    valid_size = 6\n",
    "    \n",
    "train_index = list(train_df.groupby('user_id').tail(train_size).index)\n",
    "#last_lecture_array = last_lecture_array[train_index]"
   ]
  },
  {
   "cell_type": "code",
   "execution_count": 8,
   "metadata": {
    "execution": {
     "iopub.execute_input": "2020-12-09T06:35:07.735781Z",
     "iopub.status.busy": "2020-12-09T06:35:07.735035Z",
     "iopub.status.idle": "2020-12-09T06:35:23.511521Z",
     "shell.execute_reply": "2020-12-09T06:35:23.510746Z"
    },
    "papermill": {
     "duration": 15.81573,
     "end_time": "2020-12-09T06:35:23.511648",
     "exception": false,
     "start_time": "2020-12-09T06:35:07.695918",
     "status": "completed"
    },
    "tags": []
   },
   "outputs": [],
   "source": [
    "questions_df = pd.read_csv(\n",
    "    '../input/riiid-test-answer-prediction/questions.csv', \n",
    "    usecols=[0, 3, 4], \n",
    "    dtype={'question_id': 'int16', 'part': 'int8', 'tags': 'str'} \n",
    ")\n",
    "\n",
    "train_df = pd.merge(train_df, questions_df[[\"question_id\", \"part\"]], left_on='content_id', right_on='question_id', how='left', right_index=True).reset_index(drop=True)\n",
    "train_df.drop(columns=['question_id'], inplace=True)"
   ]
  },
  {
   "cell_type": "code",
   "execution_count": 9,
   "metadata": {
    "execution": {
     "iopub.execute_input": "2020-12-09T06:35:23.571332Z",
     "iopub.status.busy": "2020-12-09T06:35:23.570502Z",
     "iopub.status.idle": "2020-12-09T06:35:43.648298Z",
     "shell.execute_reply": "2020-12-09T06:35:43.647635Z"
    },
    "papermill": {
     "duration": 20.11135,
     "end_time": "2020-12-09T06:35:43.648471",
     "exception": false,
     "start_time": "2020-12-09T06:35:23.537121",
     "status": "completed"
    },
    "tags": []
   },
   "outputs": [],
   "source": [
    "train_df['lag'] = train_df.groupby('user_id')[target].shift()\n",
    "cum = train_df.groupby('user_id')['lag'].agg(['cumsum', 'cumcount'])\n",
    "user_correctness_array = np.array(cum['cumsum'] / cum['cumcount'])\n",
    "user_correctness_array = user_correctness_array[train_index]\n",
    "train_df.drop(columns=['lag'], inplace=True)\n",
    "del cum"
   ]
  },
  {
   "cell_type": "code",
   "execution_count": 10,
   "metadata": {
    "execution": {
     "iopub.execute_input": "2020-12-09T06:35:43.858219Z",
     "iopub.status.busy": "2020-12-09T06:35:43.841950Z",
     "iopub.status.idle": "2020-12-09T06:40:29.796123Z",
     "shell.execute_reply": "2020-12-09T06:40:29.797004Z"
    },
    "papermill": {
     "duration": 286.12329,
     "end_time": "2020-12-09T06:40:29.797399",
     "exception": false,
     "start_time": "2020-12-09T06:35:43.674109",
     "status": "completed"
    },
    "tags": []
   },
   "outputs": [
    {
     "name": "stdout",
     "output_type": "stream",
     "text": [
      "1\n",
      "2\n",
      "3\n",
      "4\n",
      "5\n",
      "6\n",
      "7\n"
     ]
    }
   ],
   "source": [
    "#\n",
    "print(1)\n",
    "train_df[\"part_count\"] = train_df[\"part\"] ==1\n",
    "train_df[\"part_count\"] = train_df[\"part_count\"].astype(\"int8\")\n",
    "train_df['part_count_lag'] = train_df.groupby('user_id')[\"part_count\"].shift()\n",
    "part1_count_array = train_df.groupby('user_id')['part_count_lag'].agg(['cumsum']).values\n",
    "part1_count_array = part1_count_array[train_index] \n",
    "train_df.drop(columns=['part_count_lag', 'part_count'], inplace=True)\n",
    "\n",
    "#\n",
    "print(2)\n",
    "train_df[\"part_count\"] = train_df[\"part\"] ==2\n",
    "train_df[\"part_count\"] = train_df[\"part_count\"].astype(\"int8\")\n",
    "train_df['part_count_lag'] = train_df.groupby('user_id')[\"part_count\"].shift()\n",
    "part2_count_array = train_df.groupby('user_id')['part_count_lag'].agg(['cumsum']).values\n",
    "part2_count_array = part2_count_array[train_index] \n",
    "train_df.drop(columns=['part_count_lag', 'part_count'], inplace=True)\n",
    "\n",
    "#\n",
    "print(3)\n",
    "train_df[\"part_count\"] = train_df[\"part\"] ==3\n",
    "train_df[\"part_count\"] = train_df[\"part_count\"].astype(\"int8\")\n",
    "train_df['part_count_lag'] = train_df.groupby('user_id')[\"part_count\"].shift()\n",
    "part3_count_array = train_df.groupby('user_id')['part_count_lag'].agg(['cumsum']).values\n",
    "part3_count_array = part3_count_array[train_index] \n",
    "train_df.drop(columns=['part_count_lag', 'part_count'], inplace=True)\n",
    "\n",
    "#\n",
    "print(4)\n",
    "train_df[\"part_count\"] = train_df[\"part\"] ==4\n",
    "train_df[\"part_count\"] = train_df[\"part_count\"].astype(\"int8\")\n",
    "train_df['part_count_lag'] = train_df.groupby('user_id')[\"part_count\"].shift()\n",
    "part4_count_array = train_df.groupby('user_id')['part_count_lag'].agg(['cumsum']).values\n",
    "part4_count_array = part4_count_array[train_index] \n",
    "train_df.drop(columns=['part_count_lag', 'part_count'], inplace=True)\n",
    "\n",
    "#\n",
    "print(5)\n",
    "train_df[\"part_count\"] = train_df[\"part\"] ==5\n",
    "train_df[\"part_count\"] = train_df[\"part_count\"].astype(\"int8\")\n",
    "train_df['part_count_lag'] = train_df.groupby('user_id')[\"part_count\"].shift()\n",
    "part5_count_array = train_df.groupby('user_id')['part_count_lag'].agg(['cumsum']).values\n",
    "part5_count_array = part5_count_array[train_index] \n",
    "train_df.drop(columns=['part_count_lag', 'part_count'], inplace=True)\n",
    "\n",
    "#\n",
    "print(6)\n",
    "train_df[\"part_count\"] = train_df[\"part\"] ==6\n",
    "train_df[\"part_count\"] = train_df[\"part_count\"].astype(\"int8\")\n",
    "train_df['part_count_lag'] = train_df.groupby('user_id')[\"part_count\"].shift()\n",
    "part6_count_array = train_df.groupby('user_id')['part_count_lag'].agg(['cumsum']).values\n",
    "part6_count_array = part6_count_array[train_index] \n",
    "train_df.drop(columns=['part_count_lag', 'part_count'], inplace=True)\n",
    "\n",
    "#\n",
    "print(7)\n",
    "train_df[\"part_count\"] = train_df[\"part\"] ==7\n",
    "train_df[\"part_count\"] = train_df[\"part_count\"].astype(\"int8\")\n",
    "train_df['part_count_lag'] = train_df.groupby('user_id')[\"part_count\"].shift()\n",
    "part7_count_array = train_df.groupby('user_id')['part_count_lag'].agg(['cumsum']).values\n",
    "part7_count_array = part7_count_array[train_index] \n",
    "train_df.drop(columns=['part_count_lag', 'part_count'], inplace=True)"
   ]
  },
  {
   "cell_type": "code",
   "execution_count": 11,
   "metadata": {
    "execution": {
     "iopub.execute_input": "2020-12-09T06:40:29.870894Z",
     "iopub.status.busy": "2020-12-09T06:40:29.869403Z",
     "iopub.status.idle": "2020-12-09T06:41:00.474607Z",
     "shell.execute_reply": "2020-12-09T06:41:00.473821Z"
    },
    "papermill": {
     "duration": 30.644132,
     "end_time": "2020-12-09T06:41:00.474740",
     "exception": false,
     "start_time": "2020-12-09T06:40:29.830608",
     "status": "completed"
    },
    "tags": []
   },
   "outputs": [],
   "source": [
    "# prior_question_had_explanation_mean\n",
    "train_df['lag'] = train_df.groupby('user_id')['prior_question_had_explanation'].shift().astype(bool)\n",
    "cum = train_df.groupby('user_id')['lag'].agg(['cumsum', 'cumcount'])\n",
    "prior_question_had_explanation_mean_array = np.array(cum['cumsum'] / cum['cumcount'])\n",
    "prior_question_had_explanation_mean_array = prior_question_had_explanation_mean_array[train_index]\n",
    "\n",
    "user_prior_question_had_explanation_sum_agg = train_df.groupby('user_id')[\"prior_question_had_explanation\"].agg(['sum'])\n",
    "user_prior_question_had_explanation_sum_dict = user_prior_question_had_explanation_sum_agg['sum'].astype('int32').to_dict(defaultdict(int))\n",
    "train_df.drop(columns=['lag'], inplace=True)\n",
    "del cum, user_prior_question_had_explanation_sum_agg"
   ]
  },
  {
   "cell_type": "code",
   "execution_count": 12,
   "metadata": {
    "execution": {
     "iopub.execute_input": "2020-12-09T06:41:00.548255Z",
     "iopub.status.busy": "2020-12-09T06:41:00.547408Z",
     "iopub.status.idle": "2020-12-09T06:41:50.925015Z",
     "shell.execute_reply": "2020-12-09T06:41:50.924059Z"
    },
    "papermill": {
     "duration": 50.421504,
     "end_time": "2020-12-09T06:41:50.925244",
     "exception": false,
     "start_time": "2020-12-09T06:41:00.503740",
     "status": "completed"
    },
    "tags": []
   },
   "outputs": [],
   "source": [
    "first_attempt_df = pd.read_csv(\"../input/riiid-additional-data/content_first_attempt.csv\")\n",
    "first_attempt_array = first_attempt_df.first_attempt.values\n",
    "train_df[\"first_attempt\"] = first_attempt_array\n",
    "\n",
    "unique_attempt_array= train_df.groupby(\"user_id\")[\"first_attempt\"].cumsum().values\n",
    "train_df[\"unique_attempt\"] = unique_attempt_array\n",
    "user_unique_agg = train_df.groupby('user_id')[\"unique_attempt\"].agg(['max'])\n",
    "user_unique_dict = user_unique_agg['max'].astype('int32').to_dict(defaultdict(int))\n",
    "\n",
    "first_attempt_array = first_attempt_array[train_index]\n",
    "unique_attempt_array = unique_attempt_array[train_index]\n",
    "train_df.drop(['first_attempt', 'unique_attempt'], axis=1, inplace=True)\n",
    "del first_attempt_df, user_unique_agg"
   ]
  },
  {
   "cell_type": "code",
   "execution_count": 13,
   "metadata": {
    "execution": {
     "iopub.execute_input": "2020-12-09T06:41:51.018135Z",
     "iopub.status.busy": "2020-12-09T06:41:51.017341Z",
     "iopub.status.idle": "2020-12-09T06:43:34.253327Z",
     "shell.execute_reply": "2020-12-09T06:43:34.252399Z"
    },
    "papermill": {
     "duration": 103.297575,
     "end_time": "2020-12-09T06:43:34.253508",
     "exception": false,
     "start_time": "2020-12-09T06:41:50.955933",
     "status": "completed"
    },
    "tags": []
   },
   "outputs": [],
   "source": [
    "user_agg = train_df.groupby('user_id')[target].agg(['sum', 'count'])\n",
    "content_agg = train_df.groupby('content_id')[target].agg(['sum', 'count'])\n",
    "\n",
    "user_sum_dict = user_agg['sum'].astype('int16').to_dict(defaultdict(int))\n",
    "user_count_dict = user_agg['count'].astype('int16').to_dict(defaultdict(int))\n",
    "content_sum_dict = content_agg['sum'].astype('int32').to_dict(defaultdict(int))\n",
    "content_count_dict = content_agg['count'].astype('int32').to_dict(defaultdict(int))\n",
    "\n",
    "content_count_array = train_df['content_id'].map(content_agg['count']).astype('int32').values\n",
    "content_id_array = train_df['content_id'].map(content_agg['sum'] / content_agg['count']).values\n",
    "\n",
    "# benefit of solving difficult questions\n",
    "# https://stackoverflow.com/questions/35215161/most-efficient-way-to-map-function-over-numpy-array\n",
    "func = lambda t: 1/(t + 0.1)\n",
    "vfunc = np.vectorize(func)\n",
    "point_array = vfunc(content_id_array)\n",
    "train_df[\"point\"] = point_array\n",
    "train_df[\"got_point\"] = point_array * train_df[\"answered_correctly\"].values\n",
    "user_point_agg = train_df.groupby('user_id')[\"got_point\"].agg(['sum'])\n",
    "user_point_sum_dict = user_point_agg['sum'].astype('float32').to_dict(defaultdict(float))\n",
    "\n",
    "train_df['lag'] = train_df.groupby('user_id')[\"got_point\"].shift()\n",
    "cum = train_df.groupby('user_id')['lag'].agg(['cumsum', 'cumcount'])\n",
    "got_point_array = np.array(cum['cumsum'] / cum['cumcount'])\n",
    "train_df.drop(columns=['lag'], inplace=True)\n",
    "\n",
    "train_df.drop(columns=['point', 'got_point'], inplace=True)\n",
    "del cum, user_agg, content_agg\n",
    "\n",
    "content_count_array = content_count_array[train_index]\n",
    "content_id_array = content_id_array[train_index]\n",
    "got_point_array = got_point_array[train_index]"
   ]
  },
  {
   "cell_type": "code",
   "execution_count": 14,
   "metadata": {
    "execution": {
     "iopub.execute_input": "2020-12-09T06:43:34.322539Z",
     "iopub.status.busy": "2020-12-09T06:43:34.321050Z",
     "iopub.status.idle": "2020-12-09T06:46:01.653459Z",
     "shell.execute_reply": "2020-12-09T06:46:01.654089Z"
    },
    "papermill": {
     "duration": 147.370835,
     "end_time": "2020-12-09T06:46:01.654296",
     "exception": false,
     "start_time": "2020-12-09T06:43:34.283461",
     "status": "completed"
    },
    "tags": []
   },
   "outputs": [
    {
     "name": "stdout",
     "output_type": "stream",
     "text": [
      "CPU times: user 2min 24s, sys: 2.93 s, total: 2min 27s\n",
      "Wall time: 2min 27s\n"
     ]
    }
   ],
   "source": [
    "%%time\n",
    "user_content_agg = train_df.groupby(\"user_id\")[\"content_id\"].unique().reset_index().set_index(\"user_id\")\n",
    "\n",
    "value = []\n",
    "for j in user_content_agg.index:\n",
    "    a = bitarray(32737, endian='little')\n",
    "    a.setall(True)\n",
    "    for i in user_content_agg.loc[j][0]:\n",
    "        a[i] = 0\n",
    "    value.append(a)\n",
    "    \n",
    "user_content_agg[\"content_exp\"] = value\n",
    "\n",
    "user_content_dict = user_content_agg[\"content_exp\"].to_dict(defaultdict(make_bitarray))\n",
    "del user_content_agg"
   ]
  },
  {
   "cell_type": "code",
   "execution_count": 15,
   "metadata": {
    "execution": {
     "iopub.execute_input": "2020-12-09T06:46:01.721960Z",
     "iopub.status.busy": "2020-12-09T06:46:01.720644Z",
     "iopub.status.idle": "2020-12-09T06:46:10.802006Z",
     "shell.execute_reply": "2020-12-09T06:46:10.801243Z"
    },
    "papermill": {
     "duration": 9.117858,
     "end_time": "2020-12-09T06:46:10.802137",
     "exception": false,
     "start_time": "2020-12-09T06:46:01.684279",
     "status": "completed"
    },
    "tags": []
   },
   "outputs": [],
   "source": [
    "train_df[\"count\"] = 1\n",
    "count_array = train_df.groupby(\"user_id\")[\"count\"].cumsum().values\n",
    "count_array = count_array[train_index]\n",
    "train_df.drop(\"count\", axis=1, inplace=True)"
   ]
  },
  {
   "cell_type": "code",
   "execution_count": 16,
   "metadata": {
    "execution": {
     "iopub.execute_input": "2020-12-09T06:46:10.868530Z",
     "iopub.status.busy": "2020-12-09T06:46:10.867725Z",
     "iopub.status.idle": "2020-12-09T06:46:24.540701Z",
     "shell.execute_reply": "2020-12-09T06:46:24.539833Z"
    },
    "papermill": {
     "duration": 13.708864,
     "end_time": "2020-12-09T06:46:24.540846",
     "exception": false,
     "start_time": "2020-12-09T06:46:10.831982",
     "status": "completed"
    },
    "tags": []
   },
   "outputs": [],
   "source": [
    "train_df[\"count_inday\"] = 1\n",
    "count_inday_array = train_df.groupby([\"user_id\",\"timestamp\"])[\"count_inday\"].cumsum().values\n",
    "count_inday_array = count_inday_array[train_index]\n",
    "train_df.drop(\"count_inday\", axis=1, inplace=True)"
   ]
  },
  {
   "cell_type": "code",
   "execution_count": 17,
   "metadata": {
    "execution": {
     "iopub.execute_input": "2020-12-09T06:46:24.608967Z",
     "iopub.status.busy": "2020-12-09T06:46:24.608182Z",
     "iopub.status.idle": "2020-12-09T06:46:32.081383Z",
     "shell.execute_reply": "2020-12-09T06:46:32.080584Z"
    },
    "papermill": {
     "duration": 7.509678,
     "end_time": "2020-12-09T06:46:32.081581",
     "exception": false,
     "start_time": "2020-12-09T06:46:24.571903",
     "status": "completed"
    },
    "tags": []
   },
   "outputs": [],
   "source": [
    "train_df = train_df.groupby('user_id').tail(train_size).reset_index(drop=True)"
   ]
  },
  {
   "cell_type": "code",
   "execution_count": 18,
   "metadata": {
    "execution": {
     "iopub.execute_input": "2020-12-09T06:46:32.190526Z",
     "iopub.status.busy": "2020-12-09T06:46:32.189423Z",
     "iopub.status.idle": "2020-12-09T06:46:41.846818Z",
     "shell.execute_reply": "2020-12-09T06:46:41.846080Z"
    },
    "papermill": {
     "duration": 9.728221,
     "end_time": "2020-12-09T06:46:41.846949",
     "exception": false,
     "start_time": "2020-12-09T06:46:32.118728",
     "status": "completed"
    },
    "tags": []
   },
   "outputs": [],
   "source": [
    "train_df['content_count'] = content_count_array\n",
    "train_df['content_id'] = content_id_array\n",
    "train_df['user_correctness'] = user_correctness_array\n",
    "train_df['first_attempt'] = first_attempt_array\n",
    "train_df['count'] = count_array\n",
    "train_df['count_inday'] = count_inday_array\n",
    "train_df['unique_attempt'] = unique_attempt_array\n",
    "train_df['part1_count'] = part1_count_array\n",
    "train_df['part2_count'] = part2_count_array\n",
    "train_df['part3_count'] = part3_count_array\n",
    "train_df['part4_count'] = part4_count_array\n",
    "train_df['part5_count'] = part5_count_array\n",
    "train_df['part6_count'] = part6_count_array\n",
    "train_df['part7_count'] = part7_count_array\n",
    "train_df['prior_question_had_explanation_mean'] = prior_question_had_explanation_mean_array\n",
    "train_df['got_point'] = got_point_array\n",
    "#train_df['last_lecture'] = last_lecture_array\n",
    "\n",
    "part1_count_agg = train_df.groupby('user_id')[\"part1_count\"].agg(['max'])\n",
    "part2_count_agg = train_df.groupby('user_id')[\"part2_count\"].agg(['max'])\n",
    "part3_count_agg = train_df.groupby('user_id')[\"part3_count\"].agg(['max'])\n",
    "part4_count_agg = train_df.groupby('user_id')[\"part4_count\"].agg(['max'])\n",
    "part5_count_agg = train_df.groupby('user_id')[\"part5_count\"].agg(['max'])\n",
    "part6_count_agg = train_df.groupby('user_id')[\"part6_count\"].agg(['max'])\n",
    "part7_count_agg = train_df.groupby('user_id')[\"part7_count\"].agg(['max'])\n",
    "part1_count_agg['max'].fillna(0,inplace=True)\n",
    "part2_count_agg['max'].fillna(0,inplace=True)\n",
    "part3_count_agg['max'].fillna(0,inplace=True)\n",
    "part4_count_agg['max'].fillna(0,inplace=True)\n",
    "part5_count_agg['max'].fillna(0,inplace=True)\n",
    "part6_count_agg['max'].fillna(0,inplace=True)\n",
    "part7_count_agg['max'].fillna(0,inplace=True)\n",
    "part1_count_dict = part1_count_agg['max'].astype('int32').to_dict(defaultdict(int))\n",
    "part2_count_dict = part2_count_agg['max'].astype('int32').to_dict(defaultdict(int))\n",
    "part3_count_dict = part3_count_agg['max'].astype('int32').to_dict(defaultdict(int))\n",
    "part4_count_dict = part4_count_agg['max'].astype('int32').to_dict(defaultdict(int))\n",
    "part5_count_dict = part5_count_agg['max'].astype('int32').to_dict(defaultdict(int))\n",
    "part6_count_dict = part6_count_agg['max'].astype('int32').to_dict(defaultdict(int))\n",
    "part7_count_dict = part7_count_agg['max'].astype('int32').to_dict(defaultdict(int))\n",
    "\n",
    "user_timestamp_dict = train_df.groupby(\"user_id\").tail(1)[\"timestamp\"].to_dict(defaultdict(int))\n",
    "user_count_inday_dict = train_df.groupby(\"user_id\").tail(1)[\"count_inday\"].to_dict(defaultdict(int))\n",
    "#user_last_lecture_dict = train_df.groupby(\"user_id\").tail(1)[\"last_lecture\"].to_dict(defaultdict(int))\n",
    "\n",
    "del part1_count_agg, part2_count_agg, part3_count_agg, part4_count_agg, part5_count_agg, part6_count_agg, part7_count_agg"
   ]
  },
  {
   "cell_type": "code",
   "execution_count": 19,
   "metadata": {
    "execution": {
     "iopub.execute_input": "2020-12-09T06:46:41.918377Z",
     "iopub.status.busy": "2020-12-09T06:46:41.917426Z",
     "iopub.status.idle": "2020-12-09T06:46:41.921821Z",
     "shell.execute_reply": "2020-12-09T06:46:41.922411Z"
    },
    "papermill": {
     "duration": 0.044758,
     "end_time": "2020-12-09T06:46:41.922570",
     "exception": false,
     "start_time": "2020-12-09T06:46:41.877812",
     "status": "completed"
    },
    "tags": []
   },
   "outputs": [
    {
     "name": "stdout",
     "output_type": "stream",
     "text": [
      "20\n",
      "['user_id']\n"
     ]
    }
   ],
   "source": [
    "features = [\n",
    "    'content_id',\n",
    "    'prior_question_elapsed_time',\n",
    "    'prior_question_had_explanation',\n",
    "    'user_correctness',\n",
    "    'part',\n",
    "    'content_count',\n",
    "    'count',\n",
    "    'first_attempt',\n",
    "    'timestamp', #?\n",
    "    'count_inday', #?\n",
    "    'unique_attempt', #?\n",
    "    'part1_count',\n",
    "    'part2_count',\n",
    "    'part3_count',\n",
    "    'part4_count',\n",
    "    'part5_count',\n",
    "    'part6_count',\n",
    "    'part7_count', \n",
    "    'prior_question_had_explanation_mean',\n",
    "    'got_point',\n",
    "]\n",
    "\n",
    "print(len(features))\n",
    "drop_cols = [i for i in train_df.columns if i not in features + [target]]\n",
    "print(drop_cols)"
   ]
  },
  {
   "cell_type": "code",
   "execution_count": 20,
   "metadata": {
    "execution": {
     "iopub.execute_input": "2020-12-09T06:46:41.994834Z",
     "iopub.status.busy": "2020-12-09T06:46:41.994039Z",
     "iopub.status.idle": "2020-12-09T06:46:42.801571Z",
     "shell.execute_reply": "2020-12-09T06:46:42.802529Z"
    },
    "papermill": {
     "duration": 0.848966,
     "end_time": "2020-12-09T06:46:42.802799",
     "exception": false,
     "start_time": "2020-12-09T06:46:41.953833",
     "status": "completed"
    },
    "tags": []
   },
   "outputs": [
    {
     "name": "stdout",
     "output_type": "stream",
     "text": [
      "(12942217, 21)\n"
     ]
    }
   ],
   "source": [
    "if FULL_TRAIN:\n",
    "    train_df.drop(drop_cols, axis=1, inplace=True)\n",
    "    print(train_df.shape)\n",
    "else:\n",
    "    valid_df = train_df.groupby('user_id').tail(valid_size).copy()\n",
    "    train_df.drop(valid_df.index, inplace=True)\n",
    "    train_df.drop(drop_cols, axis=1, inplace=True)\n",
    "    valid_df.drop(drop_cols, axis=1, inplace=True)\n",
    "    print(train_df.shape, valid_df.shape)"
   ]
  },
  {
   "cell_type": "code",
   "execution_count": 21,
   "metadata": {
    "execution": {
     "iopub.execute_input": "2020-12-09T06:46:42.906390Z",
     "iopub.status.busy": "2020-12-09T06:46:42.903940Z",
     "iopub.status.idle": "2020-12-09T06:46:42.931363Z",
     "shell.execute_reply": "2020-12-09T06:46:42.932322Z"
    },
    "papermill": {
     "duration": 0.084782,
     "end_time": "2020-12-09T06:46:42.932554",
     "exception": false,
     "start_time": "2020-12-09T06:46:42.847772",
     "status": "completed"
    },
    "tags": []
   },
   "outputs": [
    {
     "data": {
      "text/html": [
       "<div>\n",
       "<style scoped>\n",
       "    .dataframe tbody tr th:only-of-type {\n",
       "        vertical-align: middle;\n",
       "    }\n",
       "\n",
       "    .dataframe tbody tr th {\n",
       "        vertical-align: top;\n",
       "    }\n",
       "\n",
       "    .dataframe thead th {\n",
       "        text-align: right;\n",
       "    }\n",
       "</style>\n",
       "<table border=\"1\" class=\"dataframe\">\n",
       "  <thead>\n",
       "    <tr style=\"text-align: right;\">\n",
       "      <th></th>\n",
       "      <th>timestamp</th>\n",
       "      <th>content_id</th>\n",
       "      <th>answered_correctly</th>\n",
       "      <th>prior_question_elapsed_time</th>\n",
       "      <th>prior_question_had_explanation</th>\n",
       "      <th>part</th>\n",
       "      <th>content_count</th>\n",
       "      <th>user_correctness</th>\n",
       "      <th>first_attempt</th>\n",
       "      <th>count</th>\n",
       "      <th>count_inday</th>\n",
       "      <th>unique_attempt</th>\n",
       "      <th>part1_count</th>\n",
       "      <th>part2_count</th>\n",
       "      <th>part3_count</th>\n",
       "      <th>part4_count</th>\n",
       "      <th>part5_count</th>\n",
       "      <th>part6_count</th>\n",
       "      <th>part7_count</th>\n",
       "      <th>prior_question_had_explanation_mean</th>\n",
       "      <th>got_point</th>\n",
       "    </tr>\n",
       "  </thead>\n",
       "  <tbody>\n",
       "    <tr>\n",
       "      <th>0</th>\n",
       "      <td>1</td>\n",
       "      <td>0.929730</td>\n",
       "      <td>1</td>\n",
       "      <td>17000.0</td>\n",
       "      <td>False</td>\n",
       "      <td>1</td>\n",
       "      <td>24107</td>\n",
       "      <td>1.000000</td>\n",
       "      <td>True</td>\n",
       "      <td>7</td>\n",
       "      <td>7</td>\n",
       "      <td>7</td>\n",
       "      <td>4.0</td>\n",
       "      <td>0.0</td>\n",
       "      <td>0.0</td>\n",
       "      <td>0.0</td>\n",
       "      <td>2.0</td>\n",
       "      <td>0.0</td>\n",
       "      <td>0.0</td>\n",
       "      <td>0.166667</td>\n",
       "      <td>1.030735</td>\n",
       "    </tr>\n",
       "    <tr>\n",
       "      <th>1</th>\n",
       "      <td>1</td>\n",
       "      <td>0.918368</td>\n",
       "      <td>1</td>\n",
       "      <td>17000.0</td>\n",
       "      <td>False</td>\n",
       "      <td>1</td>\n",
       "      <td>21401</td>\n",
       "      <td>1.000000</td>\n",
       "      <td>True</td>\n",
       "      <td>8</td>\n",
       "      <td>8</td>\n",
       "      <td>8</td>\n",
       "      <td>5.0</td>\n",
       "      <td>0.0</td>\n",
       "      <td>0.0</td>\n",
       "      <td>0.0</td>\n",
       "      <td>2.0</td>\n",
       "      <td>0.0</td>\n",
       "      <td>0.0</td>\n",
       "      <td>0.142857</td>\n",
       "      <td>1.022220</td>\n",
       "    </tr>\n",
       "    <tr>\n",
       "      <th>2</th>\n",
       "      <td>1</td>\n",
       "      <td>0.944852</td>\n",
       "      <td>1</td>\n",
       "      <td>16000.0</td>\n",
       "      <td>False</td>\n",
       "      <td>1</td>\n",
       "      <td>22086</td>\n",
       "      <td>1.000000</td>\n",
       "      <td>True</td>\n",
       "      <td>9</td>\n",
       "      <td>9</td>\n",
       "      <td>9</td>\n",
       "      <td>6.0</td>\n",
       "      <td>0.0</td>\n",
       "      <td>0.0</td>\n",
       "      <td>0.0</td>\n",
       "      <td>2.0</td>\n",
       "      <td>0.0</td>\n",
       "      <td>0.0</td>\n",
       "      <td>0.125000</td>\n",
       "      <td>1.017188</td>\n",
       "    </tr>\n",
       "    <tr>\n",
       "      <th>3</th>\n",
       "      <td>1</td>\n",
       "      <td>0.895253</td>\n",
       "      <td>1</td>\n",
       "      <td>16000.0</td>\n",
       "      <td>False</td>\n",
       "      <td>1</td>\n",
       "      <td>48307</td>\n",
       "      <td>1.000000</td>\n",
       "      <td>True</td>\n",
       "      <td>10</td>\n",
       "      <td>10</td>\n",
       "      <td>10</td>\n",
       "      <td>7.0</td>\n",
       "      <td>0.0</td>\n",
       "      <td>0.0</td>\n",
       "      <td>0.0</td>\n",
       "      <td>2.0</td>\n",
       "      <td>0.0</td>\n",
       "      <td>0.0</td>\n",
       "      <td>0.111111</td>\n",
       "      <td>1.010508</td>\n",
       "    </tr>\n",
       "    <tr>\n",
       "      <th>4</th>\n",
       "      <td>1</td>\n",
       "      <td>0.882571</td>\n",
       "      <td>0</td>\n",
       "      <td>17000.0</td>\n",
       "      <td>False</td>\n",
       "      <td>1</td>\n",
       "      <td>22422</td>\n",
       "      <td>1.000000</td>\n",
       "      <td>True</td>\n",
       "      <td>11</td>\n",
       "      <td>11</td>\n",
       "      <td>11</td>\n",
       "      <td>8.0</td>\n",
       "      <td>0.0</td>\n",
       "      <td>0.0</td>\n",
       "      <td>0.0</td>\n",
       "      <td>2.0</td>\n",
       "      <td>0.0</td>\n",
       "      <td>0.0</td>\n",
       "      <td>0.100000</td>\n",
       "      <td>1.009934</td>\n",
       "    </tr>\n",
       "    <tr>\n",
       "      <th>5</th>\n",
       "      <td>1</td>\n",
       "      <td>0.876527</td>\n",
       "      <td>0</td>\n",
       "      <td>22000.0</td>\n",
       "      <td>False</td>\n",
       "      <td>1</td>\n",
       "      <td>21446</td>\n",
       "      <td>0.909091</td>\n",
       "      <td>True</td>\n",
       "      <td>12</td>\n",
       "      <td>12</td>\n",
       "      <td>12</td>\n",
       "      <td>9.0</td>\n",
       "      <td>0.0</td>\n",
       "      <td>0.0</td>\n",
       "      <td>0.0</td>\n",
       "      <td>2.0</td>\n",
       "      <td>0.0</td>\n",
       "      <td>0.0</td>\n",
       "      <td>0.090909</td>\n",
       "      <td>0.918122</td>\n",
       "    </tr>\n",
       "    <tr>\n",
       "      <th>6</th>\n",
       "      <td>1</td>\n",
       "      <td>0.845941</td>\n",
       "      <td>0</td>\n",
       "      <td>23000.0</td>\n",
       "      <td>False</td>\n",
       "      <td>1</td>\n",
       "      <td>20200</td>\n",
       "      <td>0.833333</td>\n",
       "      <td>True</td>\n",
       "      <td>13</td>\n",
       "      <td>13</td>\n",
       "      <td>13</td>\n",
       "      <td>10.0</td>\n",
       "      <td>0.0</td>\n",
       "      <td>0.0</td>\n",
       "      <td>0.0</td>\n",
       "      <td>2.0</td>\n",
       "      <td>0.0</td>\n",
       "      <td>0.0</td>\n",
       "      <td>0.083333</td>\n",
       "      <td>0.841612</td>\n",
       "    </tr>\n",
       "    <tr>\n",
       "      <th>7</th>\n",
       "      <td>1</td>\n",
       "      <td>0.826184</td>\n",
       "      <td>1</td>\n",
       "      <td>21000.0</td>\n",
       "      <td>False</td>\n",
       "      <td>1</td>\n",
       "      <td>180858</td>\n",
       "      <td>0.769231</td>\n",
       "      <td>True</td>\n",
       "      <td>14</td>\n",
       "      <td>14</td>\n",
       "      <td>14</td>\n",
       "      <td>11.0</td>\n",
       "      <td>0.0</td>\n",
       "      <td>0.0</td>\n",
       "      <td>0.0</td>\n",
       "      <td>2.0</td>\n",
       "      <td>0.0</td>\n",
       "      <td>0.0</td>\n",
       "      <td>0.076923</td>\n",
       "      <td>0.776873</td>\n",
       "    </tr>\n",
       "    <tr>\n",
       "      <th>8</th>\n",
       "      <td>1</td>\n",
       "      <td>0.849775</td>\n",
       "      <td>1</td>\n",
       "      <td>24000.0</td>\n",
       "      <td>False</td>\n",
       "      <td>1</td>\n",
       "      <td>29955</td>\n",
       "      <td>0.785714</td>\n",
       "      <td>True</td>\n",
       "      <td>15</td>\n",
       "      <td>15</td>\n",
       "      <td>15</td>\n",
       "      <td>12.0</td>\n",
       "      <td>0.0</td>\n",
       "      <td>0.0</td>\n",
       "      <td>0.0</td>\n",
       "      <td>2.0</td>\n",
       "      <td>0.0</td>\n",
       "      <td>0.0</td>\n",
       "      <td>0.071429</td>\n",
       "      <td>0.798503</td>\n",
       "    </tr>\n",
       "    <tr>\n",
       "      <th>9</th>\n",
       "      <td>1</td>\n",
       "      <td>0.798608</td>\n",
       "      <td>1</td>\n",
       "      <td>22000.0</td>\n",
       "      <td>False</td>\n",
       "      <td>1</td>\n",
       "      <td>20686</td>\n",
       "      <td>0.800000</td>\n",
       "      <td>True</td>\n",
       "      <td>16</td>\n",
       "      <td>16</td>\n",
       "      <td>16</td>\n",
       "      <td>13.0</td>\n",
       "      <td>0.0</td>\n",
       "      <td>0.0</td>\n",
       "      <td>0.0</td>\n",
       "      <td>2.0</td>\n",
       "      <td>0.0</td>\n",
       "      <td>0.0</td>\n",
       "      <td>0.066667</td>\n",
       "      <td>0.815462</td>\n",
       "    </tr>\n",
       "  </tbody>\n",
       "</table>\n",
       "</div>"
      ],
      "text/plain": [
       "   timestamp  content_id  answered_correctly  prior_question_elapsed_time  \\\n",
       "0          1    0.929730                   1                      17000.0   \n",
       "1          1    0.918368                   1                      17000.0   \n",
       "2          1    0.944852                   1                      16000.0   \n",
       "3          1    0.895253                   1                      16000.0   \n",
       "4          1    0.882571                   0                      17000.0   \n",
       "5          1    0.876527                   0                      22000.0   \n",
       "6          1    0.845941                   0                      23000.0   \n",
       "7          1    0.826184                   1                      21000.0   \n",
       "8          1    0.849775                   1                      24000.0   \n",
       "9          1    0.798608                   1                      22000.0   \n",
       "\n",
       "   prior_question_had_explanation  part  content_count  user_correctness  \\\n",
       "0                           False     1          24107          1.000000   \n",
       "1                           False     1          21401          1.000000   \n",
       "2                           False     1          22086          1.000000   \n",
       "3                           False     1          48307          1.000000   \n",
       "4                           False     1          22422          1.000000   \n",
       "5                           False     1          21446          0.909091   \n",
       "6                           False     1          20200          0.833333   \n",
       "7                           False     1         180858          0.769231   \n",
       "8                           False     1          29955          0.785714   \n",
       "9                           False     1          20686          0.800000   \n",
       "\n",
       "   first_attempt  count  count_inday  unique_attempt  part1_count  \\\n",
       "0           True      7            7               7          4.0   \n",
       "1           True      8            8               8          5.0   \n",
       "2           True      9            9               9          6.0   \n",
       "3           True     10           10              10          7.0   \n",
       "4           True     11           11              11          8.0   \n",
       "5           True     12           12              12          9.0   \n",
       "6           True     13           13              13         10.0   \n",
       "7           True     14           14              14         11.0   \n",
       "8           True     15           15              15         12.0   \n",
       "9           True     16           16              16         13.0   \n",
       "\n",
       "   part2_count  part3_count  part4_count  part5_count  part6_count  \\\n",
       "0          0.0          0.0          0.0          2.0          0.0   \n",
       "1          0.0          0.0          0.0          2.0          0.0   \n",
       "2          0.0          0.0          0.0          2.0          0.0   \n",
       "3          0.0          0.0          0.0          2.0          0.0   \n",
       "4          0.0          0.0          0.0          2.0          0.0   \n",
       "5          0.0          0.0          0.0          2.0          0.0   \n",
       "6          0.0          0.0          0.0          2.0          0.0   \n",
       "7          0.0          0.0          0.0          2.0          0.0   \n",
       "8          0.0          0.0          0.0          2.0          0.0   \n",
       "9          0.0          0.0          0.0          2.0          0.0   \n",
       "\n",
       "   part7_count  prior_question_had_explanation_mean  got_point  \n",
       "0          0.0                             0.166667   1.030735  \n",
       "1          0.0                             0.142857   1.022220  \n",
       "2          0.0                             0.125000   1.017188  \n",
       "3          0.0                             0.111111   1.010508  \n",
       "4          0.0                             0.100000   1.009934  \n",
       "5          0.0                             0.090909   0.918122  \n",
       "6          0.0                             0.083333   0.841612  \n",
       "7          0.0                             0.076923   0.776873  \n",
       "8          0.0                             0.071429   0.798503  \n",
       "9          0.0                             0.066667   0.815462  "
      ]
     },
     "execution_count": 21,
     "metadata": {},
     "output_type": "execute_result"
    }
   ],
   "source": [
    "train_df.head(10)"
   ]
  },
  {
   "cell_type": "markdown",
   "metadata": {
    "papermill": {
     "duration": 0.033228,
     "end_time": "2020-12-09T06:46:43.000897",
     "exception": false,
     "start_time": "2020-12-09T06:46:42.967669",
     "status": "completed"
    },
    "tags": []
   },
   "source": [
    "# Train"
   ]
  },
  {
   "cell_type": "code",
   "execution_count": 22,
   "metadata": {
    "execution": {
     "iopub.execute_input": "2020-12-09T06:46:43.074693Z",
     "iopub.status.busy": "2020-12-09T06:46:43.073539Z",
     "iopub.status.idle": "2020-12-09T06:46:43.077205Z",
     "shell.execute_reply": "2020-12-09T06:46:43.076316Z"
    },
    "papermill": {
     "duration": 0.042907,
     "end_time": "2020-12-09T06:46:43.077397",
     "exception": false,
     "start_time": "2020-12-09T06:46:43.034490",
     "status": "completed"
    },
    "tags": []
   },
   "outputs": [],
   "source": [
    "params = {\n",
    "    'objective': 'binary',\n",
    "    'seed': 42,\n",
    "    'metric': 'auc',\n",
    "    'learning_rate': 0.05,\n",
    "    'max_bin': 800,\n",
    "    'num_leaves': 80\n",
    "}"
   ]
  },
  {
   "cell_type": "code",
   "execution_count": 23,
   "metadata": {
    "execution": {
     "iopub.execute_input": "2020-12-09T06:46:43.226777Z",
     "iopub.status.busy": "2020-12-09T06:46:43.225377Z",
     "iopub.status.idle": "2020-12-09T07:31:17.280921Z",
     "shell.execute_reply": "2020-12-09T07:31:17.282410Z"
    },
    "papermill": {
     "duration": 2674.163391,
     "end_time": "2020-12-09T07:31:17.282990",
     "exception": false,
     "start_time": "2020-12-09T06:46:43.119599",
     "status": "completed"
    },
    "tags": []
   },
   "outputs": [
    {
     "name": "stdout",
     "output_type": "stream",
     "text": [
      "Full training starts\n"
     ]
    }
   ],
   "source": [
    "if FULL_TRAIN:\n",
    "    X_train = np.ndarray(shape=(train_df.shape[0], len(features)), dtype=np.float32)\n",
    "    y_train = np.ndarray(shape=(train_df.shape[0], 1), dtype=np.float32)\n",
    "    for idx, feature in enumerate(features):\n",
    "        X_train[:,idx] = train_df[feature].values.astype(np.float32)\n",
    "        train_df.drop(feature, axis=1, inplace=True)\n",
    "    y_train = train_df[target].values.astype(np.float32)\n",
    "    train_df.drop(target, axis=1, inplace=True)\n",
    "\n",
    "    tr_data = lgb.Dataset(X_train, label=y_train)\n",
    "    print(\"Full training starts\")\n",
    "    model = lgb.train(\n",
    "        params, \n",
    "        tr_data, \n",
    "        num_boost_round=3500,\n",
    "        valid_sets=None, \n",
    "        )\n",
    "else:    \n",
    "    X_train = np.ndarray(shape=(train_df.shape[0], len(features)), dtype=np.float32)\n",
    "    y_train = np.ndarray(shape=(train_df.shape[0], 1), dtype=np.float32)\n",
    "    for idx, feature in enumerate(features):\n",
    "        X_train[:,idx] = train_df[feature].values.astype(np.float32)\n",
    "        train_df.drop(feature, axis=1, inplace=True)\n",
    "    y_train = train_df[target].values.astype(np.float32)\n",
    "    train_df.drop(target, axis=1, inplace=True)\n",
    "    tr_data = lgb.Dataset(X_train, label=y_train)\n",
    "    \n",
    "    X_valid = np.ndarray(shape=(valid_df.shape[0], len(features)), dtype=np.float32)\n",
    "    y_valid = np.ndarray(shape=(valid_df.shape[0], 1), dtype=np.float32)\n",
    "    for idx, feature in enumerate(features):\n",
    "        X_valid[:,idx] = valid_df[feature].values.astype(np.float32)\n",
    "        valid_df.drop(feature, axis=1, inplace=True)\n",
    "    y_valid = valid_df[target].values.astype(np.float32)\n",
    "    valid_df.drop(target, axis=1, inplace=True)\n",
    "    va_data = lgb.Dataset(X_valid, label=y_valid)\n",
    "\n",
    "    model = lgb.train(\n",
    "        params, \n",
    "        tr_data, \n",
    "        num_boost_round=10000,\n",
    "        valid_sets=[tr_data, va_data], \n",
    "        early_stopping_rounds=50,\n",
    "        verbose_eval=50\n",
    "        )"
   ]
  },
  {
   "cell_type": "markdown",
   "metadata": {
    "papermill": {
     "duration": 0.038395,
     "end_time": "2020-12-09T07:31:17.388384",
     "exception": false,
     "start_time": "2020-12-09T07:31:17.349989",
     "status": "completed"
    },
    "tags": []
   },
   "source": [
    "# Inference"
   ]
  },
  {
   "cell_type": "code",
   "execution_count": 24,
   "metadata": {
    "execution": {
     "iopub.execute_input": "2020-12-09T07:31:17.477200Z",
     "iopub.status.busy": "2020-12-09T07:31:17.475528Z",
     "iopub.status.idle": "2020-12-09T07:31:17.479011Z",
     "shell.execute_reply": "2020-12-09T07:31:17.478273Z"
    },
    "papermill": {
     "duration": 0.055992,
     "end_time": "2020-12-09T07:31:17.479140",
     "exception": false,
     "start_time": "2020-12-09T07:31:17.423148",
     "status": "completed"
    },
    "tags": []
   },
   "outputs": [],
   "source": [
    "env = riiideducation.make_env()\n",
    "iter_test = env.iter_test()\n",
    "prior_test_df = None"
   ]
  },
  {
   "cell_type": "code",
   "execution_count": 25,
   "metadata": {
    "execution": {
     "iopub.execute_input": "2020-12-09T07:31:17.749240Z",
     "iopub.status.busy": "2020-12-09T07:31:17.557216Z",
     "iopub.status.idle": "2020-12-09T07:31:18.748588Z",
     "shell.execute_reply": "2020-12-09T07:31:18.747601Z"
    },
    "papermill": {
     "duration": 1.235031,
     "end_time": "2020-12-09T07:31:18.748723",
     "exception": false,
     "start_time": "2020-12-09T07:31:17.513692",
     "status": "completed"
    },
    "tags": []
   },
   "outputs": [
    {
     "name": "stdout",
     "output_type": "stream",
     "text": [
      "CPU times: user 1.58 s, sys: 77.3 ms, total: 1.65 s\n",
      "Wall time: 986 ms\n"
     ]
    }
   ],
   "source": [
    "%%time\n",
    "\n",
    "for (test_df, sample_prediction_df) in iter_test:\n",
    "    if prior_test_df is not None:\n",
    "        prior_test_df[target] = eval(test_df['prior_group_answers_correct'].iloc[0])\n",
    "        prior_test_df = prior_test_df[prior_test_df[target] != -1].reset_index(drop=True)\n",
    "        \n",
    "        user_ids = prior_test_df['user_id'].values\n",
    "        content_ids = prior_test_df['content_id'].values\n",
    "        targets = prior_test_df[target].values\n",
    "         \n",
    "        for user_id, content_id, answered_correctly, part, first_attempt_ornot, prior_explanation, prior_point in zip(user_ids, content_ids, \n",
    "                                                            targets, \n",
    "                                                            prior_part_arrays, \n",
    "                                                            prior_f_attempt_arrays,\n",
    "                                                            p_prior_question_had_explanation,\n",
    "                                                            prior_point_array):\n",
    "            user_sum_dict[user_id] += answered_correctly\n",
    "            user_count_dict[user_id] += 1\n",
    "            content_sum_dict[content_id] += answered_correctly\n",
    "            content_count_dict[content_id] += 1\n",
    "            if part == 1:\n",
    "                part1_count_dict[user_id] +=1\n",
    "            elif part == 2:\n",
    "                part2_count_dict[user_id] +=1\n",
    "            elif part == 3:\n",
    "                part3_count_dict[user_id] +=1\n",
    "            elif part == 4:\n",
    "                part4_count_dict[user_id] +=1\n",
    "            elif part == 5:\n",
    "                part5_count_dict[user_id] +=1\n",
    "            elif part == 6:\n",
    "                part6_count_dict[user_id] +=1\n",
    "            else:\n",
    "                part7_count_dict[user_id] +=1\n",
    "            user_unique_dict[user_id] += first_attempt_ornot\n",
    "            user_prior_question_had_explanation_sum_dict[user_id] += prior_explanation\n",
    "            user_point_sum_dict[user_id] += prior_point * answered_correctly\n",
    "\n",
    "    prior_test_df = test_df.copy()\n",
    "    \n",
    "    test_df = test_df[test_df['content_type_id'] == 0].reset_index(drop=True)\n",
    "    test_df = pd.merge(test_df, questions_df, left_on='content_id', right_on='question_id', how='left', right_index=True).reset_index(drop=True)\n",
    "    test_df['prior_question_had_explanation'] = test_df['prior_question_had_explanation'].fillna(False).astype('bool')\n",
    "    test_df['prior_question_elapsed_time'] = test_df['prior_question_elapsed_time'].fillna(0)\n",
    "    test_df['timestamp'] = (test_df['timestamp'] // 86400000) + 1\n",
    "    \n",
    "    prior_part_arrays = test_df['part'].values\n",
    "    p_prior_question_had_explanation = test_df['prior_question_had_explanation'].values\n",
    "    \n",
    "    user_sum = np.zeros(len(test_df), dtype=np.int16)\n",
    "    user_count = np.zeros(len(test_df), dtype=np.int16)\n",
    "    content_sum = np.zeros(len(test_df), dtype=np.int32)\n",
    "    content_count = np.zeros(len(test_df), dtype=np.int32)\n",
    "    part1_count = np.zeros(len(test_df), dtype=np.int32)\n",
    "    part2_count = np.zeros(len(test_df), dtype=np.int32)\n",
    "    part3_count = np.zeros(len(test_df), dtype=np.int32)\n",
    "    part4_count = np.zeros(len(test_df), dtype=np.int32)\n",
    "    part5_count = np.zeros(len(test_df), dtype=np.int32)\n",
    "    part6_count = np.zeros(len(test_df), dtype=np.int32)\n",
    "    part7_count = np.zeros(len(test_df), dtype=np.int32)\n",
    "    user_count_inday = np.zeros(len(test_df), dtype=np.int32)\n",
    "    first_attempt_values = []\n",
    "    user_unique_count = np.zeros(len(test_df), dtype=np.int32)\n",
    "    user_prior_question_had_explanation_sum = np.zeros(len(test_df), dtype=np.int32)\n",
    "    got_point_array = np.zeros(len(test_df), dtype=np.float32)\n",
    "    \n",
    "    for i, (user_id, content_id, timestamp) in enumerate(zip(test_df['user_id'].values, test_df['content_id'].values, test_df['timestamp'].values)):\n",
    "        user_sum[i] = user_sum_dict[user_id]\n",
    "        user_count[i] = user_count_dict[user_id]\n",
    "        content_sum[i] = content_sum_dict[content_id]\n",
    "        content_count[i] = content_count_dict[content_id]\n",
    "        part1_count[i] = part1_count_dict[user_id]\n",
    "        part2_count[i] = part2_count_dict[user_id]\n",
    "        part3_count[i] = part3_count_dict[user_id]\n",
    "        part4_count[i] = part4_count_dict[user_id]\n",
    "        part5_count[i] = part5_count_dict[user_id]\n",
    "        part6_count[i] = part6_count_dict[user_id]\n",
    "        part7_count[i] = part7_count_dict[user_id]\n",
    "        first_attempt_values.append(user_content_dict[user_id][content_id])\n",
    "        user_content_dict[user_id][content_id] = False \n",
    "        if user_timestamp_dict[user_id] == timestamp:\n",
    "            user_count_inday_dict[user_id] += 1\n",
    "        else:\n",
    "            user_count_inday_dict[user_id] = 1\n",
    "            user_timestamp_dict[user_id] = timestamp\n",
    "        user_count_inday[i] = user_count_inday_dict[user_id]\n",
    "        user_unique_count[i] = user_unique_dict[user_id]\n",
    "        user_prior_question_had_explanation_sum[i] = user_prior_question_had_explanation_sum_dict[user_id]\n",
    "        got_point_array[i] = user_point_sum_dict[user_id]\n",
    "            \n",
    "    test_df['user_correctness'] = user_sum / user_count\n",
    "    test_df['content_count'] = content_count\n",
    "    test_df['content_id'] = content_sum / content_count\n",
    "    test_df['count'] = 1\n",
    "    test_df['count'] = test_df.groupby(\"user_id\")[\"count\"].cumsum()\n",
    "    test_df['count'] += user_count\n",
    "    test_df['part1_count'] = part1_count\n",
    "    test_df['part2_count'] = part2_count\n",
    "    test_df['part3_count'] = part3_count\n",
    "    test_df['part4_count'] = part4_count\n",
    "    test_df['part5_count'] = part5_count\n",
    "    test_df['part6_count'] = part6_count\n",
    "    test_df['part7_count'] = part7_count\n",
    "    test_df[\"first_attempt\"] = first_attempt_values\n",
    "    test_df['count_inday'] = user_count_inday\n",
    "    test_df[\"unique_attempt\"] = test_df.groupby(\"user_id\")[\"first_attempt\"].cumsum()\n",
    "    test_df[\"unique_attempt\"] += user_unique_count\n",
    "    test_df['prior_question_had_explanation_mean'] = user_prior_question_had_explanation_sum / user_count\n",
    "    test_df['got_point'] = got_point_array / user_count\n",
    "\n",
    "    prior_f_attempt_arrays = test_df['first_attempt'].values\n",
    "    prior_point_array = vfunc(test_df.content_id.values)\n",
    "\n",
    "    test_df[target] = model.predict(test_df[features])\n",
    "    env.predict(test_df[['row_id', target]])"
   ]
  },
  {
   "cell_type": "code",
   "execution_count": null,
   "metadata": {
    "papermill": {
     "duration": 0.033726,
     "end_time": "2020-12-09T07:31:18.816965",
     "exception": false,
     "start_time": "2020-12-09T07:31:18.783239",
     "status": "completed"
    },
    "tags": []
   },
   "outputs": [],
   "source": []
  }
 ],
 "metadata": {
  "kernelspec": {
   "display_name": "Python 3",
   "language": "python",
   "name": "python3"
  },
  "language_info": {
   "codemirror_mode": {
    "name": "ipython",
    "version": 3
   },
   "file_extension": ".py",
   "mimetype": "text/x-python",
   "name": "python",
   "nbconvert_exporter": "python",
   "pygments_lexer": "ipython3",
   "version": "3.7.6"
  },
  "papermill": {
   "duration": 3555.235622,
   "end_time": "2020-12-09T07:31:20.043713",
   "environment_variables": {},
   "exception": null,
   "input_path": "__notebook__.ipynb",
   "output_path": "__notebook__.ipynb",
   "parameters": {},
   "start_time": "2020-12-09T06:32:04.808091",
   "version": "2.1.0"
  }
 },
 "nbformat": 4,
 "nbformat_minor": 4
}
