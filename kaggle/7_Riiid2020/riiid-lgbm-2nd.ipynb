{
 "cells": [
  {
   "cell_type": "markdown",
   "metadata": {
    "papermill": {
     "duration": 0.027991,
     "end_time": "2020-12-17T14:42:26.163575",
     "exception": false,
     "start_time": "2020-12-17T14:42:26.135584",
     "status": "completed"
    },
    "tags": []
   },
   "source": [
    "- tag clustering dataset version 4\n",
    "- add time from last lecture"
   ]
  },
  {
   "cell_type": "code",
   "execution_count": 1,
   "metadata": {
    "_cell_guid": "b1076dfc-b9ad-4769-8c92-a6c4dae69d19",
    "_uuid": "8f2839f25d086af736a60e9eeb907d3b93b6e0e5",
    "execution": {
     "iopub.execute_input": "2020-12-17T14:42:26.227580Z",
     "iopub.status.busy": "2020-12-17T14:42:26.226874Z",
     "iopub.status.idle": "2020-12-17T14:42:56.848548Z",
     "shell.execute_reply": "2020-12-17T14:42:56.847842Z"
    },
    "papermill": {
     "duration": 30.656027,
     "end_time": "2020-12-17T14:42:56.848663",
     "exception": false,
     "start_time": "2020-12-17T14:42:26.192636",
     "status": "completed"
    },
    "tags": []
   },
   "outputs": [],
   "source": [
    "!pip install ../input/python-datatable/datatable-0.11.0-cp37-cp37m-manylinux2010_x86_64.whl > /dev/null 2>&1"
   ]
  },
  {
   "cell_type": "code",
   "execution_count": 2,
   "metadata": {
    "_cell_guid": "79c7e3d0-c299-4dcb-8224-4455121ee9b0",
    "_uuid": "d629ff2d2480ee46fbb7e2d37f6b5fab8052498a",
    "execution": {
     "iopub.execute_input": "2020-12-17T14:42:56.913550Z",
     "iopub.status.busy": "2020-12-17T14:42:56.912860Z",
     "iopub.status.idle": "2020-12-17T14:42:58.865228Z",
     "shell.execute_reply": "2020-12-17T14:42:58.864398Z"
    },
    "papermill": {
     "duration": 1.988953,
     "end_time": "2020-12-17T14:42:58.865352",
     "exception": false,
     "start_time": "2020-12-17T14:42:56.876399",
     "status": "completed"
    },
    "tags": []
   },
   "outputs": [
    {
     "data": {
      "text/html": [
       "<style type='text/css'>\n",
       ".datatable table.frame { margin-bottom: 0; }\n",
       ".datatable table.frame thead { border-bottom: none; }\n",
       ".datatable table.frame tr.coltypes td {  color: #FFFFFF;  line-height: 6px;  padding: 0 0.5em;}\n",
       ".datatable .bool    { background: #DDDD99; }\n",
       ".datatable .object  { background: #565656; }\n",
       ".datatable .int     { background: #5D9E5D; }\n",
       ".datatable .float   { background: #4040CC; }\n",
       ".datatable .str     { background: #CC4040; }\n",
       ".datatable .row_index {  background: var(--jp-border-color3);  border-right: 1px solid var(--jp-border-color0);  color: var(--jp-ui-font-color3);  font-size: 9px;}\n",
       ".datatable .frame tr.coltypes .row_index {  background: var(--jp-border-color0);}\n",
       ".datatable th:nth-child(2) { padding-left: 12px; }\n",
       ".datatable .hellipsis {  color: var(--jp-cell-editor-border-color);}\n",
       ".datatable .vellipsis {  background: var(--jp-layout-color0);  color: var(--jp-cell-editor-border-color);}\n",
       ".datatable .na {  color: var(--jp-cell-editor-border-color);  font-size: 80%;}\n",
       ".datatable .footer { font-size: 9px; }\n",
       ".datatable .frame_dimensions {  background: var(--jp-border-color3);  border-top: 1px solid var(--jp-border-color0);  color: var(--jp-ui-font-color3);  display: inline-block;  opacity: 0.6;  padding: 1px 10px 1px 5px;}\n",
       ".datatable .frame thead tr.colnames {  background-image: url('data:image/png;base64,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');  background-repeat: repeat-x;  background-size: 14px;  height: 28px;}\n",
       "</style>\n"
      ],
      "text/plain": [
       "<IPython.core.display.HTML object>"
      ]
     },
     "metadata": {},
     "output_type": "display_data"
    },
    {
     "name": "stderr",
     "output_type": "stream",
     "text": [
      "/opt/conda/lib/python3.7/site-packages/ipykernel_launcher.py:12: TqdmDeprecationWarning: This function will be removed in tqdm==5.0.0\n",
      "Please use `tqdm.notebook.*` instead of `tqdm._tqdm_notebook.*`\n",
      "  if sys.path[0] == '':\n",
      "/opt/conda/lib/python3.7/site-packages/tqdm/std.py:666: FutureWarning: The Panel class is removed from pandas. Accessing it from the top-level namespace will also be removed in the next version\n",
      "  from pandas import Panel\n"
     ]
    }
   ],
   "source": [
    "import gc\n",
    "import numpy as np\n",
    "import pandas as pd\n",
    "from collections import defaultdict\n",
    "import datatable as dt\n",
    "import lightgbm as lgb\n",
    "from matplotlib import pyplot as plt\n",
    "import riiideducation\n",
    "from bitarray import bitarray\n",
    "from functools import partial\n",
    "\n",
    "from tqdm._tqdm_notebook import tqdm_notebook\n",
    "from numba import jit\n",
    "import random\n",
    "\n",
    "tqdm_notebook.pandas(desc=\"progress: \")\n",
    "\n",
    "_ = np.seterr(divide='ignore', invalid='ignore')\n",
    "pd.set_option(\"max_rows\", 100)\n",
    "pd.set_option(\"max_columns\", 100)\n",
    "\n",
    "random.seed(1)"
   ]
  },
  {
   "cell_type": "code",
   "execution_count": 3,
   "metadata": {
    "execution": {
     "iopub.execute_input": "2020-12-17T14:42:58.942076Z",
     "iopub.status.busy": "2020-12-17T14:42:58.935188Z",
     "iopub.status.idle": "2020-12-17T14:42:58.954128Z",
     "shell.execute_reply": "2020-12-17T14:42:58.953319Z"
    },
    "papermill": {
     "duration": 0.059346,
     "end_time": "2020-12-17T14:42:58.954267",
     "exception": false,
     "start_time": "2020-12-17T14:42:58.894921",
     "status": "completed"
    },
    "tags": []
   },
   "outputs": [],
   "source": [
    "def make_bitarray():\n",
    "    a = bitarray(32737, endian='little')\n",
    "    a.setall(True)   \n",
    "    return a\n",
    "\n",
    "def clear_mem():\n",
    "    %reset -f out\n",
    "    %reset -f in\n",
    "    gc.collect()\n",
    "    \n",
    "@jit\n",
    "def accuracy_last7(A):\n",
    "    ans = []\n",
    "    for i in range(len(A)):\n",
    "        if i < 7:\n",
    "            ans.append(np.nan)\n",
    "        else:\n",
    "            ans.append(np.mean(A[i-7:i]))       \n",
    "    return np.array(ans)\n",
    "\n",
    "@jit\n",
    "def mean_last5(A):\n",
    "    ans = []\n",
    "    for i in range(len(A)):\n",
    "        if i < 5:\n",
    "            ans.append(np.nan)\n",
    "        else:\n",
    "            ans.append(np.mean(A[i-5:i]))       \n",
    "    return np.array(ans)"
   ]
  },
  {
   "cell_type": "code",
   "execution_count": 4,
   "metadata": {
    "execution": {
     "iopub.execute_input": "2020-12-17T14:42:59.019150Z",
     "iopub.status.busy": "2020-12-17T14:42:59.018112Z",
     "iopub.status.idle": "2020-12-17T14:42:59.021108Z",
     "shell.execute_reply": "2020-12-17T14:42:59.021561Z"
    },
    "papermill": {
     "duration": 0.037333,
     "end_time": "2020-12-17T14:42:59.021719",
     "exception": false,
     "start_time": "2020-12-17T14:42:58.984386",
     "status": "completed"
    },
    "tags": []
   },
   "outputs": [],
   "source": [
    "FULL_TRAIN = False\n",
    "CV_SCHEME = \"original\" #\"time\""
   ]
  },
  {
   "cell_type": "markdown",
   "metadata": {
    "papermill": {
     "duration": 0.028928,
     "end_time": "2020-12-17T14:42:59.080867",
     "exception": false,
     "start_time": "2020-12-17T14:42:59.051939",
     "status": "completed"
    },
    "tags": []
   },
   "source": [
    "# Preprocess"
   ]
  },
  {
   "cell_type": "code",
   "execution_count": 5,
   "metadata": {
    "execution": {
     "iopub.execute_input": "2020-12-17T14:42:59.145719Z",
     "iopub.status.busy": "2020-12-17T14:42:59.144611Z",
     "iopub.status.idle": "2020-12-17T14:42:59.149214Z",
     "shell.execute_reply": "2020-12-17T14:42:59.148603Z"
    },
    "papermill": {
     "duration": 0.039193,
     "end_time": "2020-12-17T14:42:59.149334",
     "exception": false,
     "start_time": "2020-12-17T14:42:59.110141",
     "status": "completed"
    },
    "tags": []
   },
   "outputs": [],
   "source": [
    "data_types_dict = {\n",
    "    #'row_id': 'uint32',\n",
    "    'timestamp': 'int64',\n",
    "    'user_id': 'int32', \n",
    "    'content_id': 'int16', \n",
    "    #'content_type_id': 'int8',\n",
    "    'answered_correctly': 'int8', \n",
    "    'prior_question_elapsed_time': 'float32', \n",
    "    'prior_question_had_explanation': 'bool',\n",
    "}\n",
    "target = 'answered_correctly'"
   ]
  },
  {
   "cell_type": "code",
   "execution_count": 6,
   "metadata": {
    "execution": {
     "iopub.execute_input": "2020-12-17T14:42:59.217367Z",
     "iopub.status.busy": "2020-12-17T14:42:59.216343Z",
     "iopub.status.idle": "2020-12-17T14:44:30.981782Z",
     "shell.execute_reply": "2020-12-17T14:44:30.982547Z"
    },
    "papermill": {
     "duration": 91.800978,
     "end_time": "2020-12-17T14:44:30.982742",
     "exception": false,
     "start_time": "2020-12-17T14:42:59.181764",
     "status": "completed"
    },
    "tags": []
   },
   "outputs": [],
   "source": [
    "train_df = dt.fread('../input/riiid-test-answer-prediction/train.csv', columns=set(data_types_dict.keys())).to_pandas()"
   ]
  },
  {
   "cell_type": "code",
   "execution_count": 7,
   "metadata": {
    "execution": {
     "iopub.execute_input": "2020-12-17T14:44:31.055704Z",
     "iopub.status.busy": "2020-12-17T14:44:31.054719Z",
     "iopub.status.idle": "2020-12-17T14:45:17.512329Z",
     "shell.execute_reply": "2020-12-17T14:45:17.513088Z"
    },
    "papermill": {
     "duration": 46.495132,
     "end_time": "2020-12-17T14:45:17.513244",
     "exception": false,
     "start_time": "2020-12-17T14:44:31.018112",
     "status": "completed"
    },
    "tags": []
   },
   "outputs": [
    {
     "name": "stdout",
     "output_type": "stream",
     "text": [
      "CPU times: user 40.2 s, sys: 6.54 s, total: 46.8 s\n",
      "Wall time: 46.4 s\n"
     ]
    }
   ],
   "source": [
    "%%time\n",
    "@jit\n",
    "def time_from_lec_calc(A, T):\n",
    "    ans = []\n",
    "    prev = 0\n",
    "    flg = False\n",
    "    for i in range(len(A)):\n",
    "        if A[i] == -1:\n",
    "            flg = True\n",
    "            prev = T[i]          \n",
    "        if flg:\n",
    "            ans.append(T[i]-prev)\n",
    "        else:\n",
    "            ans.append(-1)      \n",
    "    return np.array(ans)\n",
    "\n",
    "time_from_last_lec_array = train_df.groupby(\"user_id\").apply(lambda x: time_from_lec_calc(x[\"answered_correctly\"].values, x[\"timestamp\"].values))\n",
    "time_from_last_lec_array = np.hstack(time_from_last_lec_array).astype('int64')\n",
    "train_df[\"time_from_last_lec\"] = time_from_last_lec_array\n",
    "del time_from_last_lec_array\n",
    "\n",
    "user_last_lec_time_dict = train_df[train_df[target] == -1].groupby(\"user_id\").tail(1)[\"timestamp\"].to_dict(defaultdict(lambda: -1))"
   ]
  },
  {
   "cell_type": "code",
   "execution_count": 8,
   "metadata": {
    "execution": {
     "iopub.execute_input": "2020-12-17T14:45:17.596082Z",
     "iopub.status.busy": "2020-12-17T14:45:17.595049Z",
     "iopub.status.idle": "2020-12-17T14:45:53.739958Z",
     "shell.execute_reply": "2020-12-17T14:45:53.739243Z"
    },
    "papermill": {
     "duration": 36.196039,
     "end_time": "2020-12-17T14:45:53.740086",
     "exception": false,
     "start_time": "2020-12-17T14:45:17.544047",
     "status": "completed"
    },
    "tags": []
   },
   "outputs": [],
   "source": [
    "train_df = train_df[train_df[target] != -1].reset_index(drop=True)\n",
    "\n",
    "time_from_last_lec_array = train_df[\"time_from_last_lec\"].values\n",
    "train_df.drop(\"time_from_last_lec\", axis=1, inplace=True)\n",
    "\n",
    "train_df['prior_question_had_explanation'].fillna(False, inplace=True)\n",
    "train_df['prior_question_elapsed_time'].fillna(0, inplace=True)\n",
    "\n",
    "train_df['day_timestamp'] = (train_df['timestamp'] // 86400000) + 1 # days from start\n",
    "train_df = train_df.astype(data_types_dict)"
   ]
  },
  {
   "cell_type": "code",
   "execution_count": 9,
   "metadata": {
    "execution": {
     "iopub.execute_input": "2020-12-17T14:45:53.815666Z",
     "iopub.status.busy": "2020-12-17T14:45:53.814274Z",
     "iopub.status.idle": "2020-12-17T14:46:01.317255Z",
     "shell.execute_reply": "2020-12-17T14:46:01.316574Z"
    },
    "papermill": {
     "duration": 7.546069,
     "end_time": "2020-12-17T14:46:01.317370",
     "exception": false,
     "start_time": "2020-12-17T14:45:53.771301",
     "status": "completed"
    },
    "tags": []
   },
   "outputs": [],
   "source": [
    "if CV_SCHEME==\"time\":\n",
    "    max_timestamp_u = train_df[['user_id','timestamp']].groupby(['user_id']).agg(['max']).reset_index()\n",
    "    max_timestamp_u.columns = ['user_id', 'max_time_stamp']\n",
    "    MAX_TIME_STAMP = max_timestamp_u.max_time_stamp.max()\n",
    "\n",
    "    def rand_time(max_time_stamp):\n",
    "        interval = MAX_TIME_STAMP - max_time_stamp\n",
    "        rand_time_stamp = random.randint(0,interval)\n",
    "        return rand_time_stamp\n",
    "\n",
    "    max_timestamp_u['rand_time_stamp'] = max_timestamp_u.max_time_stamp.apply(rand_time)\n",
    "    train_df = train_df.merge(max_timestamp_u, on='user_id', how='left')\n",
    "    train_df['viretual_time_stamp'] = train_df.timestamp + train_df['rand_time_stamp']\n",
    "\n",
    "    del train_df['max_time_stamp']\n",
    "    del train_df['rand_time_stamp']\n",
    "    del max_timestamp_u\n",
    "\n",
    "    train_index = list(train_df['viretual_time_stamp'].nlargest(10000000).index)\n",
    "\n",
    "else:\n",
    "    if FULL_TRAIN:\n",
    "        train_size = 100\n",
    "    else:\n",
    "        train_size = 24\n",
    "        valid_size = 6\n",
    "    \n",
    "    train_index = list(train_df.groupby('user_id').tail(train_size).index)"
   ]
  },
  {
   "cell_type": "code",
   "execution_count": 10,
   "metadata": {
    "execution": {
     "iopub.execute_input": "2020-12-17T14:46:03.254236Z",
     "iopub.status.busy": "2020-12-17T14:46:03.253151Z",
     "iopub.status.idle": "2020-12-17T14:46:03.379256Z",
     "shell.execute_reply": "2020-12-17T14:46:03.378659Z"
    },
    "papermill": {
     "duration": 2.032187,
     "end_time": "2020-12-17T14:46:03.379382",
     "exception": false,
     "start_time": "2020-12-17T14:46:01.347195",
     "status": "completed"
    },
    "tags": []
   },
   "outputs": [],
   "source": [
    "time_from_last_lec_array = time_from_last_lec_array[train_index]"
   ]
  },
  {
   "cell_type": "code",
   "execution_count": 11,
   "metadata": {
    "execution": {
     "iopub.execute_input": "2020-12-17T14:46:03.448703Z",
     "iopub.status.busy": "2020-12-17T14:46:03.447384Z",
     "iopub.status.idle": "2020-12-17T14:46:12.422556Z",
     "shell.execute_reply": "2020-12-17T14:46:12.421961Z"
    },
    "papermill": {
     "duration": 9.012823,
     "end_time": "2020-12-17T14:46:12.422688",
     "exception": false,
     "start_time": "2020-12-17T14:46:03.409865",
     "status": "completed"
    },
    "tags": []
   },
   "outputs": [],
   "source": [
    "train_df[\"count\"] = 1\n",
    "\n",
    "# normal cumsum\n",
    "count_array = train_df.groupby(\"user_id\")[\"count\"].cumsum().values\n",
    "count_array = count_array[train_index]\n",
    "train_df.drop(\"count\", axis=1, inplace=True)"
   ]
  },
  {
   "cell_type": "code",
   "execution_count": 12,
   "metadata": {
    "execution": {
     "iopub.execute_input": "2020-12-17T14:46:12.500704Z",
     "iopub.status.busy": "2020-12-17T14:46:12.499982Z",
     "iopub.status.idle": "2020-12-17T14:46:32.226303Z",
     "shell.execute_reply": "2020-12-17T14:46:32.226875Z"
    },
    "papermill": {
     "duration": 19.76803,
     "end_time": "2020-12-17T14:46:32.227022",
     "exception": false,
     "start_time": "2020-12-17T14:46:12.458992",
     "status": "completed"
    },
    "tags": []
   },
   "outputs": [],
   "source": [
    "train_df[\"count_inday\"] = 1\n",
    "count_inday_array = train_df.groupby([\"user_id\",\"day_timestamp\"])[\"count_inday\"].cumsum().values\n",
    "train_df[\"count_inday\"] = count_inday_array\n",
    "\n",
    "user_count_inday_dict = train_df.groupby(\"user_id\").tail(1)[\"count_inday\"].to_dict(defaultdict(int))\n",
    "count_inday_array = count_inday_array[train_index]\n",
    "train_df.drop(\"count_inday\", axis=1, inplace=True)"
   ]
  },
  {
   "cell_type": "code",
   "execution_count": 13,
   "metadata": {
    "execution": {
     "iopub.execute_input": "2020-12-17T14:46:32.295458Z",
     "iopub.status.busy": "2020-12-17T14:46:32.294752Z",
     "iopub.status.idle": "2020-12-17T14:46:41.904908Z",
     "shell.execute_reply": "2020-12-17T14:46:41.904185Z"
    },
    "papermill": {
     "duration": 9.647091,
     "end_time": "2020-12-17T14:46:41.905028",
     "exception": false,
     "start_time": "2020-12-17T14:46:32.257937",
     "status": "completed"
    },
    "tags": []
   },
   "outputs": [],
   "source": [
    "user_day_timestamp_dict = train_df.groupby(\"user_id\").tail(1)[\"day_timestamp\"].to_dict(defaultdict(int))\n",
    "day_timestamp_array = train_df[\"day_timestamp\"].values\n",
    "train_df.drop(\"day_timestamp\", axis=1, inplace=True)\n",
    "day_timestamp_array = day_timestamp_array[train_index]"
   ]
  },
  {
   "cell_type": "code",
   "execution_count": 14,
   "metadata": {
    "execution": {
     "iopub.execute_input": "2020-12-17T14:46:42.078112Z",
     "iopub.status.busy": "2020-12-17T14:46:42.076629Z",
     "iopub.status.idle": "2020-12-17T14:49:50.150793Z",
     "shell.execute_reply": "2020-12-17T14:49:50.149985Z"
    },
    "papermill": {
     "duration": 188.213917,
     "end_time": "2020-12-17T14:49:50.150934",
     "exception": false,
     "start_time": "2020-12-17T14:46:41.937017",
     "status": "completed"
    },
    "tags": []
   },
   "outputs": [
    {
     "name": "stdout",
     "output_type": "stream",
     "text": [
      "Flushing output cache (0 entries)\n",
      "Flushing input history\n",
      "Flushing output cache (0 entries)\n",
      "Flushing input history\n"
     ]
    }
   ],
   "source": [
    "timediff_array = train_df.groupby(\"user_id\")[\"timestamp\"].diff().values\n",
    "timediff_array = timediff_array[train_index]\n",
    "clear_mem()\n",
    "\n",
    "timediff2_array = train_df.groupby(\"user_id\")[\"timestamp\"].diff(2).values\n",
    "timediff2_array = timediff2_array[train_index]\n",
    "clear_mem()\n",
    "\n",
    "user_timestamp_max_dict = train_df.groupby(\"user_id\")[\"timestamp\"].apply(lambda x: x[-2:].values).to_dict(defaultdict(partial(np.ndarray, 0, dtype=\"int64\")))\n",
    "train_df.drop(\"timestamp\", axis=1, inplace=True)\n",
    "timediff_array = np.nan_to_num(timediff_array, nan=-1)\n",
    "timediff2_array = np.nan_to_num(timediff2_array, nan=-1)"
   ]
  },
  {
   "cell_type": "code",
   "execution_count": 15,
   "metadata": {
    "execution": {
     "iopub.execute_input": "2020-12-17T14:49:50.243044Z",
     "iopub.status.busy": "2020-12-17T14:49:50.242107Z",
     "iopub.status.idle": "2020-12-17T14:49:53.433703Z",
     "shell.execute_reply": "2020-12-17T14:49:53.434336Z"
    },
    "papermill": {
     "duration": 3.243788,
     "end_time": "2020-12-17T14:49:53.434485",
     "exception": false,
     "start_time": "2020-12-17T14:49:50.190697",
     "status": "completed"
    },
    "tags": []
   },
   "outputs": [],
   "source": [
    "prior_question_elapsed_time_array = train_df.prior_question_elapsed_time.values\n",
    "train_df.drop(\"prior_question_elapsed_time\", axis =1, inplace=True)\n",
    "prior_question_elapsed_time_array = prior_question_elapsed_time_array[train_index]"
   ]
  },
  {
   "cell_type": "code",
   "execution_count": 16,
   "metadata": {
    "execution": {
     "iopub.execute_input": "2020-12-17T14:49:53.504239Z",
     "iopub.status.busy": "2020-12-17T14:49:53.503571Z",
     "iopub.status.idle": "2020-12-17T14:50:07.992005Z",
     "shell.execute_reply": "2020-12-17T14:50:07.990937Z"
    },
    "papermill": {
     "duration": 14.525323,
     "end_time": "2020-12-17T14:50:07.992154",
     "exception": false,
     "start_time": "2020-12-17T14:49:53.466831",
     "status": "completed"
    },
    "tags": []
   },
   "outputs": [],
   "source": [
    "questions_df = pd.read_csv(\n",
    "    '../input/riiid-test-answer-prediction/questions.csv', \n",
    "    usecols=[0, 3], #4\n",
    "    dtype={'question_id': 'int16', 'part': 'int8'}  #'tags': 'str'\n",
    ")\n",
    "\n",
    "additional_q_df = pd.read_csv('../input/riiid-question-clustering/question_cmnts.csv')\n",
    "questions_df[\"community\"] = additional_q_df[\"community\"].astype('int8')\n",
    "del additional_q_df \n",
    "    \n",
    "#questions_df['tags'] = questions_df['tags'].apply(lambda ts: [int(x) for x in str(ts).split() if x != 'nan'])\n",
    "\n",
    "train_df = pd.merge(train_df, questions_df, left_on='content_id', right_on='question_id', how='left', right_index=True).reset_index(drop=True)\n",
    "train_df.drop(columns=['question_id'], inplace=True)"
   ]
  },
  {
   "cell_type": "code",
   "execution_count": 17,
   "metadata": {
    "execution": {
     "iopub.execute_input": "2020-12-17T14:50:08.076375Z",
     "iopub.status.busy": "2020-12-17T14:50:08.075659Z",
     "iopub.status.idle": "2020-12-17T14:50:08.091353Z",
     "shell.execute_reply": "2020-12-17T14:50:08.090760Z"
    },
    "papermill": {
     "duration": 0.066435,
     "end_time": "2020-12-17T14:50:08.091484",
     "exception": false,
     "start_time": "2020-12-17T14:50:08.025049",
     "status": "completed"
    },
    "tags": []
   },
   "outputs": [
    {
     "name": "stdout",
     "output_type": "stream",
     "text": [
      "76\n"
     ]
    }
   ],
   "source": [
    "community_num = len(questions_df.community.unique())\n",
    "print(community_num)\n",
    "\n",
    "@jit\n",
    "def tag_accuracy(A, C):\n",
    "    ans = []\n",
    "    community_count = [0] * community_num\n",
    "    community_correct = [0] * community_num\n",
    "    for i in range(len(C)):\n",
    "        if community_count[C[i]]==0:\n",
    "            ans.append(-1)\n",
    "        else:\n",
    "            ans.append(community_correct[C[i]]/community_count[C[i]])\n",
    "        community_count[C[i]] +=1\n",
    "        community_correct[C[i]] += A[i]\n",
    "    return np.array(ans)\n",
    "\n",
    "@jit\n",
    "def tag_correct_last(A, C):\n",
    "    community_correct = [0] * community_num\n",
    "    for i in range(len(C)):\n",
    "        community_correct[C[i]] += A[i]\n",
    "    return np.array(community_correct)\n",
    "\n",
    "@jit\n",
    "def tag_count_last(A, C):\n",
    "    community_count = [0] * community_num\n",
    "    for i in range(len(C)):\n",
    "        community_count[C[i]] +=1\n",
    "    return np.array(community_count)\n",
    "\n",
    "def init_dict():\n",
    "    ans = [0] * community_num\n",
    "    return np.array(ans)"
   ]
  },
  {
   "cell_type": "code",
   "execution_count": 18,
   "metadata": {
    "execution": {
     "iopub.execute_input": "2020-12-17T14:50:08.171239Z",
     "iopub.status.busy": "2020-12-17T14:50:08.170244Z",
     "iopub.status.idle": "2020-12-17T14:52:12.623793Z",
     "shell.execute_reply": "2020-12-17T14:52:12.622868Z"
    },
    "papermill": {
     "duration": 124.499195,
     "end_time": "2020-12-17T14:52:12.624006",
     "exception": false,
     "start_time": "2020-12-17T14:50:08.124811",
     "status": "completed"
    },
    "tags": []
   },
   "outputs": [],
   "source": [
    "#\n",
    "tag_acc_array = train_df.groupby(\"user_id\").apply(lambda x: tag_accuracy(x[\"answered_correctly\"].values, x[\"community\"].values))\n",
    "tag_acc_array = np.hstack(tag_acc_array)\n",
    "tag_acc_array = tag_acc_array[train_index]\n",
    "\n",
    "user_community_count_dict = train_df.groupby(\"user_id\").apply(lambda x: tag_count_last(x[\"answered_correctly\"].values, x[\"community\"].values)).to_dict(defaultdict(init_dict))\n",
    "user_community_correct_dict = train_df.groupby(\"user_id\").apply(lambda x: tag_correct_last(x[\"answered_correctly\"].values, x[\"community\"].values)).to_dict(defaultdict(init_dict))\n",
    "    \n",
    "#\n",
    "community_agg = train_df.groupby('community')[target].agg(['count'])\n",
    "community_count_dict = community_agg['count'].astype('int32').to_dict(defaultdict(int))\n",
    "community_count_array = train_df['community'].map(community_agg['count']).astype('int32').values\n",
    "del community_agg\n",
    "community_count_array = community_count_array[train_index]\n",
    "    \n",
    "community_array = train_df[\"community\"].values\n",
    "community_array = community_array[train_index]\n",
    "train_df.drop('community', axis=1, inplace=True)"
   ]
  },
  {
   "cell_type": "code",
   "execution_count": 19,
   "metadata": {
    "execution": {
     "iopub.execute_input": "2020-12-17T14:52:12.702394Z",
     "iopub.status.busy": "2020-12-17T14:52:12.701567Z",
     "iopub.status.idle": "2020-12-17T14:52:27.580942Z",
     "shell.execute_reply": "2020-12-17T14:52:27.580123Z"
    },
    "papermill": {
     "duration": 14.920835,
     "end_time": "2020-12-17T14:52:27.581070",
     "exception": false,
     "start_time": "2020-12-17T14:52:12.660235",
     "status": "completed"
    },
    "tags": []
   },
   "outputs": [],
   "source": [
    "train_df['lag'] = train_df.groupby('user_id')[target].shift()\n",
    "cum = train_df.groupby('user_id')['lag'].agg(['cumsum', 'cumcount'])\n",
    "user_correctness_array = np.array(cum['cumsum'] / cum['cumcount'])\n",
    "user_correctness_array = user_correctness_array[train_index]\n",
    "train_df.drop(columns=['lag'], inplace=True)\n",
    "del cum"
   ]
  },
  {
   "cell_type": "code",
   "execution_count": 20,
   "metadata": {
    "execution": {
     "iopub.execute_input": "2020-12-17T14:52:27.713678Z",
     "iopub.status.busy": "2020-12-17T14:52:27.696078Z",
     "iopub.status.idle": "2020-12-17T14:56:56.614905Z",
     "shell.execute_reply": "2020-12-17T14:56:56.614197Z"
    },
    "papermill": {
     "duration": 269.000972,
     "end_time": "2020-12-17T14:56:56.615029",
     "exception": false,
     "start_time": "2020-12-17T14:52:27.614057",
     "status": "completed"
    },
    "tags": []
   },
   "outputs": [
    {
     "name": "stdout",
     "output_type": "stream",
     "text": [
      "1\n",
      "2\n",
      "3\n",
      "4\n",
      "5\n",
      "6\n",
      "7\n"
     ]
    }
   ],
   "source": [
    "#\n",
    "print(1)\n",
    "train_df[\"part_count\"] = train_df[\"part\"] ==1\n",
    "train_df[\"part_count\"] = train_df[\"part_count\"].astype(\"int8\")\n",
    "train_df['part_count_lag'] = train_df.groupby('user_id')[\"part_count\"].shift()\n",
    "part1_count_array = train_df.groupby('user_id')['part_count_lag'].agg(['cumsum']).values\n",
    "train_df[\"part1_count\"] = part1_count_array\n",
    "\n",
    "part1_count_agg = train_df.groupby('user_id')[\"part1_count\"].agg(['max'])\n",
    "part1_count_agg['max'].fillna(0,inplace=True)\n",
    "part1_count_dict = part1_count_agg['max'].astype('int32').to_dict(defaultdict(int))\n",
    "del part1_count_agg\n",
    "train_df.drop(\"part1_count\", axis=1, inplace=True)\n",
    "part1_count_array = part1_count_array[train_index] \n",
    "\n",
    "#\n",
    "print(2)\n",
    "train_df[\"part_count\"] = train_df[\"part\"] ==2\n",
    "train_df[\"part_count\"] = train_df[\"part_count\"].astype(\"int8\")\n",
    "train_df['part_count_lag'] = train_df.groupby('user_id')[\"part_count\"].shift()\n",
    "part2_count_array = train_df.groupby('user_id')['part_count_lag'].agg(['cumsum']).values\n",
    "train_df[\"part2_count\"] = part2_count_array\n",
    "\n",
    "part2_count_agg = train_df.groupby('user_id')[\"part2_count\"].agg(['max'])\n",
    "part2_count_agg['max'].fillna(0,inplace=True)\n",
    "part2_count_dict = part2_count_agg['max'].astype('int32').to_dict(defaultdict(int))\n",
    "del part2_count_agg\n",
    "train_df.drop(\"part2_count\", axis=1, inplace=True)\n",
    "part2_count_array = part2_count_array[train_index] \n",
    "\n",
    "#\n",
    "print(3)\n",
    "train_df[\"part_count\"] = train_df[\"part\"] ==3\n",
    "train_df[\"part_count\"] = train_df[\"part_count\"].astype(\"int8\")\n",
    "train_df['part_count_lag'] = train_df.groupby('user_id')[\"part_count\"].shift()\n",
    "part3_count_array = train_df.groupby('user_id')['part_count_lag'].agg(['cumsum']).values\n",
    "train_df[\"part3_count\"] = part3_count_array\n",
    "\n",
    "part3_count_agg = train_df.groupby('user_id')[\"part3_count\"].agg(['max'])\n",
    "part3_count_agg['max'].fillna(0,inplace=True)\n",
    "part3_count_dict = part3_count_agg['max'].astype('int32').to_dict(defaultdict(int))\n",
    "del part3_count_agg\n",
    "train_df.drop(\"part3_count\", axis=1, inplace=True)\n",
    "part3_count_array = part3_count_array[train_index] \n",
    "\n",
    "#\n",
    "print(4)\n",
    "train_df[\"part_count\"] = train_df[\"part\"] ==4\n",
    "train_df[\"part_count\"] = train_df[\"part_count\"].astype(\"int8\")\n",
    "train_df['part_count_lag'] = train_df.groupby('user_id')[\"part_count\"].shift()\n",
    "part4_count_array = train_df.groupby('user_id')['part_count_lag'].agg(['cumsum']).values\n",
    "train_df[\"part4_count\"] = part4_count_array\n",
    "\n",
    "part4_count_agg = train_df.groupby('user_id')[\"part4_count\"].agg(['max'])\n",
    "part4_count_agg['max'].fillna(0,inplace=True)\n",
    "part4_count_dict = part4_count_agg['max'].astype('int32').to_dict(defaultdict(int))\n",
    "del part4_count_agg\n",
    "train_df.drop(\"part4_count\", axis=1, inplace=True)\n",
    "part4_count_array = part4_count_array[train_index] \n",
    "\n",
    "#\n",
    "print(5)\n",
    "train_df[\"part_count\"] = train_df[\"part\"] ==5\n",
    "train_df[\"part_count\"] = train_df[\"part_count\"].astype(\"int8\")\n",
    "train_df['part_count_lag'] = train_df.groupby('user_id')[\"part_count\"].shift()\n",
    "part5_count_array = train_df.groupby('user_id')['part_count_lag'].agg(['cumsum']).values\n",
    "train_df[\"part5_count\"] = part5_count_array\n",
    "\n",
    "part5_count_agg = train_df.groupby('user_id')[\"part5_count\"].agg(['max'])\n",
    "part5_count_agg['max'].fillna(0,inplace=True)\n",
    "part5_count_dict = part5_count_agg['max'].astype('int32').to_dict(defaultdict(int))\n",
    "del part5_count_agg\n",
    "train_df.drop(\"part5_count\", axis=1, inplace=True)\n",
    "part5_count_array = part5_count_array[train_index] \n",
    "\n",
    "#\n",
    "print(6)\n",
    "train_df[\"part_count\"] = train_df[\"part\"] ==6\n",
    "train_df[\"part_count\"] = train_df[\"part_count\"].astype(\"int8\")\n",
    "train_df['part_count_lag'] = train_df.groupby('user_id')[\"part_count\"].shift()\n",
    "part6_count_array = train_df.groupby('user_id')['part_count_lag'].agg(['cumsum']).values\n",
    "train_df[\"part6_count\"] = part6_count_array\n",
    "\n",
    "part6_count_agg = train_df.groupby('user_id')[\"part6_count\"].agg(['max'])\n",
    "part6_count_agg['max'].fillna(0,inplace=True)\n",
    "part6_count_dict = part6_count_agg['max'].astype('int32').to_dict(defaultdict(int))\n",
    "del part6_count_agg\n",
    "train_df.drop(\"part6_count\", axis=1, inplace=True)\n",
    "part6_count_array = part6_count_array[train_index] \n",
    "\n",
    "#\n",
    "print(7)\n",
    "train_df[\"part_count\"] = train_df[\"part\"] ==7\n",
    "train_df[\"part_count\"] = train_df[\"part_count\"].astype(\"int8\")\n",
    "train_df['part_count_lag'] = train_df.groupby('user_id')[\"part_count\"].shift()\n",
    "part7_count_array = train_df.groupby('user_id')['part_count_lag'].agg(['cumsum']).values\n",
    "train_df.drop(columns=['part_count_lag', 'part_count'], inplace=True)\n",
    "train_df[\"part7_count\"] = part7_count_array\n",
    "\n",
    "part7_count_agg = train_df.groupby('user_id')[\"part7_count\"].agg(['max'])\n",
    "part7_count_agg['max'].fillna(0,inplace=True)\n",
    "part7_count_dict = part7_count_agg['max'].astype('int32').to_dict(defaultdict(int))\n",
    "del part7_count_agg\n",
    "train_df.drop(\"part7_count\", axis=1, inplace=True)\n",
    "part7_count_array = part7_count_array[train_index] \n",
    "\n",
    "part_array = train_df.part.values\n",
    "train_df.drop(\"part\", axis=1, inplace=True)\n",
    "part_array = part_array[train_index]"
   ]
  },
  {
   "cell_type": "code",
   "execution_count": 21,
   "metadata": {
    "execution": {
     "iopub.execute_input": "2020-12-17T14:56:56.699652Z",
     "iopub.status.busy": "2020-12-17T14:56:56.698221Z",
     "iopub.status.idle": "2020-12-17T14:57:22.893573Z",
     "shell.execute_reply": "2020-12-17T14:57:22.892531Z"
    },
    "papermill": {
     "duration": 26.242564,
     "end_time": "2020-12-17T14:57:22.893704",
     "exception": false,
     "start_time": "2020-12-17T14:56:56.651140",
     "status": "completed"
    },
    "tags": []
   },
   "outputs": [],
   "source": [
    "# prior_question_had_explanation_mean\n",
    "train_df['lag'] = train_df.groupby('user_id')['prior_question_had_explanation'].shift().astype(bool)\n",
    "cum = train_df.groupby('user_id')['lag'].agg(['cumsum', 'cumcount'])\n",
    "prior_question_had_explanation_mean_array = np.array(cum['cumsum'] / cum['cumcount'])\n",
    "prior_question_had_explanation_mean_array = prior_question_had_explanation_mean_array[train_index]\n",
    "\n",
    "user_prior_question_had_explanation_sum_agg = train_df.groupby('user_id')[\"prior_question_had_explanation\"].agg(['sum'])\n",
    "user_prior_question_had_explanation_sum_dict = user_prior_question_had_explanation_sum_agg['sum'].astype('int32').to_dict(defaultdict(int))\n",
    "train_df.drop(columns=['lag'], inplace=True)\n",
    "del cum, user_prior_question_had_explanation_sum_agg\n",
    "\n",
    "prior_question_had_explanation_array = train_df.prior_question_had_explanation.values\n",
    "train_df.drop('prior_question_had_explanation', axis=1, inplace=True)\n",
    "prior_question_had_explanation_array = prior_question_had_explanation_array[train_index]"
   ]
  },
  {
   "cell_type": "code",
   "execution_count": 22,
   "metadata": {
    "execution": {
     "iopub.execute_input": "2020-12-17T14:57:22.982924Z",
     "iopub.status.busy": "2020-12-17T14:57:22.982238Z",
     "iopub.status.idle": "2020-12-17T14:58:08.835371Z",
     "shell.execute_reply": "2020-12-17T14:58:08.835961Z"
    },
    "papermill": {
     "duration": 45.905544,
     "end_time": "2020-12-17T14:58:08.836136",
     "exception": false,
     "start_time": "2020-12-17T14:57:22.930592",
     "status": "completed"
    },
    "tags": []
   },
   "outputs": [
    {
     "name": "stdout",
     "output_type": "stream",
     "text": [
      "Flushing output cache (0 entries)\n",
      "Flushing input history\n"
     ]
    }
   ],
   "source": [
    "first_attempt_df = pd.read_csv(\"../input/riiid-additional-data/content_first_attempt.csv\")\n",
    "first_attempt_array = first_attempt_df.first_attempt.values\n",
    "train_df[\"first_attempt\"] = first_attempt_array\n",
    "\n",
    "unique_attempt_array= train_df.groupby(\"user_id\")[\"first_attempt\"].cumsum().values\n",
    "train_df[\"unique_attempt\"] = unique_attempt_array\n",
    "user_unique_agg = train_df.groupby('user_id')[\"unique_attempt\"].agg(['max'])\n",
    "user_unique_dict = user_unique_agg['max'].astype('int32').to_dict(defaultdict(int))\n",
    "\n",
    "first_attempt_array = first_attempt_array[train_index]\n",
    "unique_attempt_array = unique_attempt_array[train_index]\n",
    "train_df.drop(['first_attempt', 'unique_attempt'], axis=1, inplace=True)\n",
    "del first_attempt_df, user_unique_agg\n",
    "\n",
    "clear_mem()"
   ]
  },
  {
   "cell_type": "code",
   "execution_count": 23,
   "metadata": {
    "execution": {
     "iopub.execute_input": "2020-12-17T14:58:08.922411Z",
     "iopub.status.busy": "2020-12-17T14:58:08.921243Z",
     "iopub.status.idle": "2020-12-17T14:58:21.581405Z",
     "shell.execute_reply": "2020-12-17T14:58:21.581943Z"
    },
    "papermill": {
     "duration": 12.709334,
     "end_time": "2020-12-17T14:58:21.582094",
     "exception": false,
     "start_time": "2020-12-17T14:58:08.872760",
     "status": "completed"
    },
    "tags": []
   },
   "outputs": [
    {
     "name": "stdout",
     "output_type": "stream",
     "text": [
      "Flushing output cache (0 entries)\n",
      "Flushing input history\n",
      "Flushing output cache (0 entries)\n",
      "Flushing input history\n"
     ]
    }
   ],
   "source": [
    "#########\n",
    "user_agg = train_df.groupby('user_id')[target].agg(['sum', 'count'])\n",
    "user_sum_dict = user_agg['sum'].astype('int16').to_dict(defaultdict(int))\n",
    "del user_agg['sum']\n",
    "user_count_dict = user_agg['count'].astype('int16').to_dict(defaultdict(int))\n",
    "del user_agg['count']\n",
    "clear_mem()\n",
    "\n",
    "#\n",
    "content_agg = train_df.groupby('content_id')[target].agg(['sum', 'count'])\n",
    "content_sum_dict = content_agg['sum'].astype('int32').to_dict(defaultdict(int))\n",
    "content_count_dict = content_agg['count'].astype('int32').to_dict(defaultdict(int))\n",
    "\n",
    "content_count_array = train_df['content_id'].map(content_agg['count']).astype('int32').values\n",
    "content_id_array = train_df['content_id'].map(content_agg['sum'] / content_agg['count']).values\n",
    "del content_agg\n",
    "clear_mem()"
   ]
  },
  {
   "cell_type": "code",
   "execution_count": 24,
   "metadata": {
    "execution": {
     "iopub.execute_input": "2020-12-17T14:58:21.663449Z",
     "iopub.status.busy": "2020-12-17T14:58:21.661950Z",
     "iopub.status.idle": "2020-12-17T14:58:27.233137Z",
     "shell.execute_reply": "2020-12-17T14:58:27.232589Z"
    },
    "papermill": {
     "duration": 5.614135,
     "end_time": "2020-12-17T14:58:27.233260",
     "exception": false,
     "start_time": "2020-12-17T14:58:21.619125",
     "status": "completed"
    },
    "tags": []
   },
   "outputs": [
    {
     "name": "stdout",
     "output_type": "stream",
     "text": [
      "Flushing output cache (0 entries)\n",
      "Flushing input history\n"
     ]
    }
   ],
   "source": [
    "# benefit of solving difficult questions\n",
    "point_array = 1 / (content_id_array + 0.1)\n",
    "content_id_array = content_id_array[train_index]\n",
    "content_count_array = content_count_array[train_index]\n",
    "clear_mem()"
   ]
  },
  {
   "cell_type": "code",
   "execution_count": 25,
   "metadata": {
    "execution": {
     "iopub.execute_input": "2020-12-17T14:58:27.319707Z",
     "iopub.status.busy": "2020-12-17T14:58:27.319005Z",
     "iopub.status.idle": "2020-12-17T14:58:47.184606Z",
     "shell.execute_reply": "2020-12-17T14:58:47.183877Z"
    },
    "papermill": {
     "duration": 19.913673,
     "end_time": "2020-12-17T14:58:47.184744",
     "exception": false,
     "start_time": "2020-12-17T14:58:27.271071",
     "status": "completed"
    },
    "tags": []
   },
   "outputs": [
    {
     "name": "stdout",
     "output_type": "stream",
     "text": [
      "Flushing output cache (0 entries)\n",
      "Flushing input history\n"
     ]
    }
   ],
   "source": [
    "###########\n",
    "train_df[\"got_point\"] = point_array * train_df[\"answered_correctly\"].values\n",
    "del point_array\n",
    "user_point_agg = train_df.groupby('user_id')[\"got_point\"].agg(['sum'])\n",
    "user_point_sum_dict = user_point_agg['sum'].astype('float32').to_dict(defaultdict(float))\n",
    "del user_point_agg\n",
    "\n",
    "train_df['lag'] = train_df.groupby('user_id')[\"got_point\"].shift()\n",
    "cum = train_df.groupby('user_id')['lag'].agg(['cumsum', 'cumcount'])\n",
    "got_point_array = np.array(cum['cumsum'] / cum['cumcount'])\n",
    "train_df.drop(columns=['lag', 'got_point'], inplace=True)\n",
    "del cum\n",
    "got_point_array = got_point_array[train_index]\n",
    "clear_mem()"
   ]
  },
  {
   "cell_type": "code",
   "execution_count": 26,
   "metadata": {
    "execution": {
     "iopub.execute_input": "2020-12-17T14:58:47.290522Z",
     "iopub.status.busy": "2020-12-17T14:58:47.289851Z",
     "iopub.status.idle": "2020-12-17T15:00:58.741773Z",
     "shell.execute_reply": "2020-12-17T15:00:58.742422Z"
    },
    "papermill": {
     "duration": 131.506723,
     "end_time": "2020-12-17T15:00:58.742591",
     "exception": false,
     "start_time": "2020-12-17T14:58:47.235868",
     "status": "completed"
    },
    "tags": []
   },
   "outputs": [
    {
     "name": "stdout",
     "output_type": "stream",
     "text": [
      "CPU times: user 2min 7s, sys: 3.59 s, total: 2min 11s\n",
      "Wall time: 2min 11s\n"
     ]
    }
   ],
   "source": [
    "%%time\n",
    "user_content_agg = train_df.groupby(\"user_id\")[\"content_id\"].unique().reset_index().set_index(\"user_id\")\n",
    "\n",
    "value = []\n",
    "for j in user_content_agg.index:\n",
    "    a = bitarray(32737, endian='little')\n",
    "    a.setall(True)\n",
    "    for i in user_content_agg.loc[j][0]:\n",
    "        a[i] = 0\n",
    "    value.append(a)\n",
    "    \n",
    "user_content_agg[\"content_exp\"] = value\n",
    "user_content_dict = user_content_agg[\"content_exp\"].to_dict(defaultdict(make_bitarray))\n",
    "del user_content_agg, value\n",
    "train_df.drop([\"content_id\"], axis=1, inplace=True)"
   ]
  },
  {
   "cell_type": "code",
   "execution_count": 27,
   "metadata": {
    "execution": {
     "iopub.execute_input": "2020-12-17T15:00:58.834647Z",
     "iopub.status.busy": "2020-12-17T15:00:58.833535Z",
     "iopub.status.idle": "2020-12-17T15:02:00.610059Z",
     "shell.execute_reply": "2020-12-17T15:02:00.609302Z"
    },
    "papermill": {
     "duration": 61.824283,
     "end_time": "2020-12-17T15:02:00.610189",
     "exception": false,
     "start_time": "2020-12-17T15:00:58.785906",
     "status": "completed"
    },
    "tags": []
   },
   "outputs": [],
   "source": [
    "answered_correctly_last7_array = train_df.groupby(\"user_id\").apply(lambda x: accuracy_last7(x[\"answered_correctly\"].values))\n",
    "answered_correctly_last7_array = np.hstack(answered_correctly_last7_array)\n",
    "answered_correctly_last7_array = answered_correctly_last7_array[train_index]\n",
    "user_last7_answer_dict = train_df.groupby(\"user_id\")[\"answered_correctly\"].apply(lambda x: \n",
    "                                                                                 x[-7:].values).to_dict(defaultdict(partial(np.ndarray, 0, dtype=\"int8\")))"
   ]
  },
  {
   "cell_type": "code",
   "execution_count": 28,
   "metadata": {
    "execution": {
     "iopub.execute_input": "2020-12-17T15:02:00.703291Z",
     "iopub.status.busy": "2020-12-17T15:02:00.702375Z",
     "iopub.status.idle": "2020-12-17T15:02:38.467098Z",
     "shell.execute_reply": "2020-12-17T15:02:38.466321Z"
    },
    "papermill": {
     "duration": 37.816601,
     "end_time": "2020-12-17T15:02:38.467233",
     "exception": false,
     "start_time": "2020-12-17T15:02:00.650632",
     "status": "completed"
    },
    "tags": []
   },
   "outputs": [],
   "source": [
    "@jit\n",
    "def target2dec(A):\n",
    "    ans = [A[0]]\n",
    "    for i in range(1, len(A)): \n",
    "        total = ans[-1] * 0.1 + A[i]\n",
    "        ans.append(total)\n",
    "    return np.array(ans)\n",
    "\n",
    "# target2dec\n",
    "target_dec_array = train_df.groupby(\"user_id\").apply(lambda x: target2dec(x[\"answered_correctly\"].values))\n",
    "target_dec_array = np.hstack(target_dec_array)\n",
    "train_df[\"target_dec\"] = target_dec_array\n",
    "del target_dec_array\n",
    "target_dec_dict = train_df.groupby(\"user_id\").tail(1)[\"target_dec\"].to_dict(defaultdict(lambda: -1))\n",
    "target_dec_array = train_df.groupby(\"user_id\")[\"target_dec\"].shift().values\n",
    "target_dec_array = target_dec_array[train_index]\n",
    "train_df.drop(\"target_dec\", axis=1, inplace=True)"
   ]
  },
  {
   "cell_type": "code",
   "execution_count": 29,
   "metadata": {
    "execution": {
     "iopub.execute_input": "2020-12-17T15:02:40.861226Z",
     "iopub.status.busy": "2020-12-17T15:02:40.859946Z",
     "iopub.status.idle": "2020-12-17T15:02:40.882160Z",
     "shell.execute_reply": "2020-12-17T15:02:40.882658Z"
    },
    "papermill": {
     "duration": 2.37596,
     "end_time": "2020-12-17T15:02:40.882833",
     "exception": false,
     "start_time": "2020-12-17T15:02:38.506873",
     "status": "completed"
    },
    "tags": []
   },
   "outputs": [],
   "source": [
    "answered_correctly_array = train_df[target].values\n",
    "train_df.drop(target, axis=1, inplace=True)\n",
    "answered_correctly_array = answered_correctly_array[train_index]"
   ]
  },
  {
   "cell_type": "markdown",
   "metadata": {
    "papermill": {
     "duration": 0.03895,
     "end_time": "2020-12-17T15:02:40.961530",
     "exception": false,
     "start_time": "2020-12-17T15:02:40.922580",
     "status": "completed"
    },
    "tags": []
   },
   "source": [
    "# data formation"
   ]
  },
  {
   "cell_type": "code",
   "execution_count": 30,
   "metadata": {
    "execution": {
     "iopub.execute_input": "2020-12-17T15:02:41.065670Z",
     "iopub.status.busy": "2020-12-17T15:02:41.064407Z",
     "iopub.status.idle": "2020-12-17T15:02:53.370155Z",
     "shell.execute_reply": "2020-12-17T15:02:53.369565Z"
    },
    "papermill": {
     "duration": 12.363046,
     "end_time": "2020-12-17T15:02:53.370272",
     "exception": false,
     "start_time": "2020-12-17T15:02:41.007226",
     "status": "completed"
    },
    "tags": []
   },
   "outputs": [],
   "source": [
    "if not FULL_TRAIN:\n",
    "    train_df = train_df[train_df.index.isin(train_index)].reset_index(drop=True)\n",
    "    if CV_SCHEME == \"original\":\n",
    "        valid_index = list(train_df.groupby('user_id').tail(valid_size).index)\n",
    "    else:\n",
    "        valid_index = list(train_df['viretual_time_stamp'].nlargest(2500000).index)\n",
    "    train_index = list(train_df[~train_df.index.isin(valid_index)].index)\n",
    "del train_df"
   ]
  },
  {
   "cell_type": "code",
   "execution_count": 31,
   "metadata": {
    "execution": {
     "iopub.execute_input": "2020-12-17T15:02:53.462805Z",
     "iopub.status.busy": "2020-12-17T15:02:53.461945Z",
     "iopub.status.idle": "2020-12-17T15:02:53.465652Z",
     "shell.execute_reply": "2020-12-17T15:02:53.466280Z"
    },
    "papermill": {
     "duration": 0.056187,
     "end_time": "2020-12-17T15:02:53.466422",
     "exception": false,
     "start_time": "2020-12-17T15:02:53.410235",
     "status": "completed"
    },
    "tags": []
   },
   "outputs": [
    {
     "name": "stdout",
     "output_type": "stream",
     "text": [
      "28\n"
     ]
    }
   ],
   "source": [
    "features_dict = {\n",
    "    'content_id': content_id_array,\n",
    "    'prior_question_elapsed_time': prior_question_elapsed_time_array,\n",
    "    'prior_question_had_explanation':  prior_question_had_explanation_array,\n",
    "    'user_correctness': user_correctness_array,\n",
    "    'part': part_array,\n",
    "    'content_count': content_count_array,\n",
    "    'count': count_array,\n",
    "    'first_attempt': first_attempt_array,\n",
    "    'day_timestamp': day_timestamp_array,\n",
    "    'count_inday': count_inday_array,\n",
    "    'unique_attempt': unique_attempt_array,\n",
    "    'part1_count': part1_count_array,\n",
    "    'part2_count': part2_count_array,\n",
    "    'part3_count': part3_count_array,\n",
    "    'part4_count': part4_count_array,\n",
    "    'part5_count': part5_count_array,\n",
    "    'part6_count': part6_count_array,\n",
    "    'part7_count': part7_count_array,\n",
    "    'prior_question_had_explanation_mean': prior_question_had_explanation_mean_array,\n",
    "    'got_point': got_point_array,\n",
    "    'answered_correctly_last7': answered_correctly_last7_array,   \n",
    "    'timediff': timediff_array,\n",
    "    'timediff2': timediff2_array,\n",
    "    'community': community_array,\n",
    "    'tag_acc': tag_acc_array,\n",
    "    'community_count': community_count_array,\n",
    "    'target_dec': target_dec_array,\n",
    "    'time_from_last_lec': time_from_last_lec_array\n",
    "}\n",
    "\n",
    "features = list(features_dict.keys())\n",
    "print(len(features))\n",
    "\n",
    "del content_count_array, content_id_array, user_correctness_array, \n",
    "del first_attempt_array, count_array, prior_question_had_explanation_mean_array\n",
    "del part1_count_array, part2_count_array, part3_count_array, part4_count_array, \n",
    "del part5_count_array, part6_count_array, part7_count_array\n",
    "del answered_correctly_last7_array, timediff_array, timediff2_array, community_array,\n",
    "del tag_acc_array, community_count_array, target_dec_array, time_from_last_lec_array"
   ]
  },
  {
   "cell_type": "code",
   "execution_count": 32,
   "metadata": {
    "execution": {
     "iopub.execute_input": "2020-12-17T15:02:53.554207Z",
     "iopub.status.busy": "2020-12-17T15:02:53.553265Z",
     "iopub.status.idle": "2020-12-17T15:02:53.557291Z",
     "shell.execute_reply": "2020-12-17T15:02:53.556612Z"
    },
    "papermill": {
     "duration": 0.050429,
     "end_time": "2020-12-17T15:02:53.557400",
     "exception": false,
     "start_time": "2020-12-17T15:02:53.506971",
     "status": "completed"
    },
    "tags": []
   },
   "outputs": [
    {
     "name": "stdout",
     "output_type": "stream",
     "text": [
      "(6536675, 29) (2360984, 29)\n"
     ]
    }
   ],
   "source": [
    "if FULL_TRAIN:\n",
    "    print(len(train_index), len(features)+1)\n",
    "else:\n",
    "    print((len(train_index), len(features)+1), (len(valid_index), len(features)+1))"
   ]
  },
  {
   "cell_type": "markdown",
   "metadata": {
    "papermill": {
     "duration": 0.03969,
     "end_time": "2020-12-17T15:02:53.637331",
     "exception": false,
     "start_time": "2020-12-17T15:02:53.597641",
     "status": "completed"
    },
    "tags": []
   },
   "source": [
    "# Train"
   ]
  },
  {
   "cell_type": "code",
   "execution_count": 33,
   "metadata": {
    "execution": {
     "iopub.execute_input": "2020-12-17T15:02:53.723804Z",
     "iopub.status.busy": "2020-12-17T15:02:53.723013Z",
     "iopub.status.idle": "2020-12-17T15:02:53.725985Z",
     "shell.execute_reply": "2020-12-17T15:02:53.725339Z"
    },
    "papermill": {
     "duration": 0.04858,
     "end_time": "2020-12-17T15:02:53.726095",
     "exception": false,
     "start_time": "2020-12-17T15:02:53.677515",
     "status": "completed"
    },
    "tags": []
   },
   "outputs": [],
   "source": [
    "params = {\n",
    "    'objective': 'binary',\n",
    "    'seed': 42,\n",
    "    'metric': 'auc',\n",
    "    'learning_rate': 0.05,\n",
    "    'max_bin': 800,\n",
    "    'num_leaves': 80\n",
    "}"
   ]
  },
  {
   "cell_type": "code",
   "execution_count": 34,
   "metadata": {
    "execution": {
     "iopub.execute_input": "2020-12-17T15:02:53.912209Z",
     "iopub.status.busy": "2020-12-17T15:02:53.817609Z",
     "iopub.status.idle": "2020-12-17T15:03:52.374122Z",
     "shell.execute_reply": "2020-12-17T15:03:52.374638Z"
    },
    "papermill": {
     "duration": 58.608204,
     "end_time": "2020-12-17T15:03:52.374829",
     "exception": false,
     "start_time": "2020-12-17T15:02:53.766625",
     "status": "completed"
    },
    "tags": []
   },
   "outputs": [],
   "source": [
    "if FULL_TRAIN:\n",
    "    X_train = np.ndarray(shape=(len(train_index), len(features)), dtype=np.float32)\n",
    "\n",
    "    for idx, feature in enumerate(features):\n",
    "        X_train[:,idx] = features_dict[feature].astype(np.float32).reshape(-1)\n",
    "        del features_dict[feature]\n",
    "    y_train = answered_correctly_array.astype(np.float32)\n",
    "    tr_data = lgb.Dataset(X_train, label=y_train)\n",
    "else:\n",
    "    X_train = np.ndarray(shape=(len(train_index), len(features)), dtype=np.float32)\n",
    "    X_valid = np.ndarray(shape=(len(valid_index), len(features)), dtype=np.float32)\n",
    "\n",
    "    for idx, feature in enumerate(features):\n",
    "        X_train[:,idx] = features_dict[feature][train_index].astype(np.float32).reshape(-1)\n",
    "        X_valid[:,idx] = features_dict[feature][valid_index].astype(np.float32).reshape(-1)\n",
    "        del features_dict[feature]\n",
    "    y_train = answered_correctly_array[train_index].astype(np.float32)\n",
    "    y_valid = answered_correctly_array[valid_index].astype(np.float32)\n",
    "\n",
    "    tr_data = lgb.Dataset(X_train, label=y_train)\n",
    "    va_data = lgb.Dataset(X_valid, label=y_valid)"
   ]
  },
  {
   "cell_type": "code",
   "execution_count": 35,
   "metadata": {
    "execution": {
     "iopub.execute_input": "2020-12-17T15:03:52.460875Z",
     "iopub.status.busy": "2020-12-17T15:03:52.460176Z",
     "iopub.status.idle": "2020-12-17T15:59:29.163379Z",
     "shell.execute_reply": "2020-12-17T15:59:29.164154Z"
    },
    "papermill": {
     "duration": 3336.747741,
     "end_time": "2020-12-17T15:59:29.164405",
     "exception": false,
     "start_time": "2020-12-17T15:03:52.416664",
     "status": "completed"
    },
    "tags": []
   },
   "outputs": [
    {
     "name": "stdout",
     "output_type": "stream",
     "text": [
      "training starts\n",
      "Training until validation scores don't improve for 25 rounds\n",
      "[50]\ttraining's auc: 0.765456\tvalid_1's auc: 0.751352\n",
      "[100]\ttraining's auc: 0.770132\tvalid_1's auc: 0.75688\n",
      "[150]\ttraining's auc: 0.772376\tvalid_1's auc: 0.759346\n",
      "[200]\ttraining's auc: 0.773737\tvalid_1's auc: 0.760604\n",
      "[250]\ttraining's auc: 0.774585\tvalid_1's auc: 0.761255\n",
      "[300]\ttraining's auc: 0.775309\tvalid_1's auc: 0.761797\n",
      "[350]\ttraining's auc: 0.775897\tvalid_1's auc: 0.762153\n",
      "[400]\ttraining's auc: 0.776386\tvalid_1's auc: 0.762395\n",
      "[450]\ttraining's auc: 0.776844\tvalid_1's auc: 0.76263\n",
      "[500]\ttraining's auc: 0.777262\tvalid_1's auc: 0.762826\n",
      "[550]\ttraining's auc: 0.777669\tvalid_1's auc: 0.762999\n",
      "[600]\ttraining's auc: 0.778089\tvalid_1's auc: 0.763176\n",
      "[650]\ttraining's auc: 0.77846\tvalid_1's auc: 0.763335\n",
      "[700]\ttraining's auc: 0.778829\tvalid_1's auc: 0.763474\n",
      "[750]\ttraining's auc: 0.779224\tvalid_1's auc: 0.76363\n",
      "[800]\ttraining's auc: 0.779534\tvalid_1's auc: 0.763696\n",
      "[850]\ttraining's auc: 0.779881\tvalid_1's auc: 0.763801\n",
      "[900]\ttraining's auc: 0.78025\tvalid_1's auc: 0.763962\n",
      "[950]\ttraining's auc: 0.78056\tvalid_1's auc: 0.764026\n",
      "[1000]\ttraining's auc: 0.78089\tvalid_1's auc: 0.764121\n",
      "[1050]\ttraining's auc: 0.781185\tvalid_1's auc: 0.764167\n",
      "[1100]\ttraining's auc: 0.781492\tvalid_1's auc: 0.764241\n",
      "[1150]\ttraining's auc: 0.781785\tvalid_1's auc: 0.764297\n",
      "[1200]\ttraining's auc: 0.782122\tvalid_1's auc: 0.764399\n",
      "[1250]\ttraining's auc: 0.782425\tvalid_1's auc: 0.764476\n",
      "[1300]\ttraining's auc: 0.782692\tvalid_1's auc: 0.764534\n",
      "[1350]\ttraining's auc: 0.782956\tvalid_1's auc: 0.764561\n",
      "[1400]\ttraining's auc: 0.783255\tvalid_1's auc: 0.764607\n",
      "[1450]\ttraining's auc: 0.783546\tvalid_1's auc: 0.764667\n",
      "[1500]\ttraining's auc: 0.78383\tvalid_1's auc: 0.764719\n",
      "[1550]\ttraining's auc: 0.784086\tvalid_1's auc: 0.764751\n",
      "[1600]\ttraining's auc: 0.784383\tvalid_1's auc: 0.764819\n",
      "[1650]\ttraining's auc: 0.784638\tvalid_1's auc: 0.764846\n",
      "[1700]\ttraining's auc: 0.784908\tvalid_1's auc: 0.764888\n",
      "[1750]\ttraining's auc: 0.785166\tvalid_1's auc: 0.764915\n",
      "[1800]\ttraining's auc: 0.785428\tvalid_1's auc: 0.764941\n",
      "[1850]\ttraining's auc: 0.785721\tvalid_1's auc: 0.764994\n",
      "[1900]\ttraining's auc: 0.785972\tvalid_1's auc: 0.765009\n",
      "Early stopping, best iteration is:\n",
      "[1879]\ttraining's auc: 0.78587\tvalid_1's auc: 0.765012\n"
     ]
    }
   ],
   "source": [
    "print(\"training starts\")\n",
    "if FULL_TRAIN:\n",
    "    model = lgb.train(\n",
    "        params, \n",
    "        tr_data, \n",
    "        num_boost_round=3500,\n",
    "        valid_sets=None, \n",
    "        )\n",
    "    del X_train, y_train\n",
    "\n",
    "else:\n",
    "    model = lgb.train(\n",
    "        params, \n",
    "        tr_data, \n",
    "        num_boost_round=10000,\n",
    "        valid_sets=[tr_data, va_data], \n",
    "        early_stopping_rounds=25,\n",
    "        verbose_eval=50\n",
    "        )\n",
    "    del X_train, y_train, X_valid, y_valid"
   ]
  },
  {
   "cell_type": "markdown",
   "metadata": {
    "papermill": {
     "duration": 0.066469,
     "end_time": "2020-12-17T15:59:29.329443",
     "exception": false,
     "start_time": "2020-12-17T15:59:29.262974",
     "status": "completed"
    },
    "tags": []
   },
   "source": [
    "# Inference"
   ]
  },
  {
   "cell_type": "code",
   "execution_count": 36,
   "metadata": {
    "execution": {
     "iopub.execute_input": "2020-12-17T15:59:29.444651Z",
     "iopub.status.busy": "2020-12-17T15:59:29.443978Z",
     "iopub.status.idle": "2020-12-17T15:59:29.451053Z",
     "shell.execute_reply": "2020-12-17T15:59:29.451605Z"
    },
    "papermill": {
     "duration": 0.067526,
     "end_time": "2020-12-17T15:59:29.451768",
     "exception": false,
     "start_time": "2020-12-17T15:59:29.384242",
     "status": "completed"
    },
    "tags": []
   },
   "outputs": [],
   "source": [
    "env = riiideducation.make_env()\n",
    "iter_test = env.iter_test()\n",
    "prior_test_df = None"
   ]
  },
  {
   "cell_type": "code",
   "execution_count": 37,
   "metadata": {
    "execution": {
     "iopub.execute_input": "2020-12-17T15:59:29.566390Z",
     "iopub.status.busy": "2020-12-17T15:59:29.565513Z",
     "iopub.status.idle": "2020-12-17T15:59:32.054599Z",
     "shell.execute_reply": "2020-12-17T15:59:32.053679Z"
    },
    "papermill": {
     "duration": 2.548351,
     "end_time": "2020-12-17T15:59:32.054810",
     "exception": false,
     "start_time": "2020-12-17T15:59:29.506459",
     "status": "completed"
    },
    "tags": []
   },
   "outputs": [
    {
     "name": "stdout",
     "output_type": "stream",
     "text": [
      "CPU times: user 2.97 s, sys: 127 ms, total: 3.1 s\n",
      "Wall time: 2.45 s\n"
     ]
    }
   ],
   "source": [
    "%%time\n",
    "for (test_df, sample_prediction_df) in iter_test:\n",
    "    if prior_test_df is not None:\n",
    "        prior_test_df[target] = eval(test_df['prior_group_answers_correct'].iloc[0])\n",
    "        prior_test_df = prior_test_df[prior_test_df[target] != -1].reset_index(drop=True)\n",
    "        \n",
    "        user_ids = prior_test_df['user_id'].values\n",
    "        content_ids = prior_test_df['content_id'].values\n",
    "        targets = prior_test_df[target].values\n",
    "         \n",
    "        for user_id, content_id, answered_correctly, part, first_attempt_ornot, prior_explanation, prior_point, prior_community in zip(user_ids, content_ids, \n",
    "                                                            targets, \n",
    "                                                            prior_part_arrays, \n",
    "                                                            prior_f_attempt_arrays,\n",
    "                                                            p_prior_question_had_explanation,\n",
    "                                                            prior_point_array,\n",
    "                                                            prior_community_arrays):\n",
    "            user_sum_dict[user_id] += answered_correctly\n",
    "            user_count_dict[user_id] += 1\n",
    "            content_sum_dict[content_id] += answered_correctly\n",
    "            content_count_dict[content_id] += 1\n",
    "            if part == 1:\n",
    "                part1_count_dict[user_id] +=1\n",
    "            elif part == 2:\n",
    "                part2_count_dict[user_id] +=1\n",
    "            elif part == 3:\n",
    "                part3_count_dict[user_id] +=1\n",
    "            elif part == 4:\n",
    "                part4_count_dict[user_id] +=1\n",
    "            elif part == 5:\n",
    "                part5_count_dict[user_id] +=1\n",
    "            elif part == 6:\n",
    "                part6_count_dict[user_id] +=1\n",
    "            else:\n",
    "                part7_count_dict[user_id] +=1\n",
    "            user_unique_dict[user_id] += first_attempt_ornot\n",
    "            user_prior_question_had_explanation_sum_dict[user_id] += prior_explanation\n",
    "            user_point_sum_dict[user_id] += prior_point * answered_correctly\n",
    "            if len(user_last7_answer_dict[user_id])==7:\n",
    "                user_last7_answer_dict[user_id] = np.concatenate([user_last7_answer_dict[user_id],[answered_correctly]])[1:]\n",
    "            else:\n",
    "                user_last7_answer_dict[user_id] = np.concatenate([user_last7_answer_dict[user_id],[answered_correctly]])\n",
    "            \n",
    "            user_community_correct_dict[user_id][prior_community] += answered_correctly\n",
    "            user_community_count_dict[user_id][prior_community] += 1\n",
    "            community_count_dict[prior_community] += 1\n",
    "            \n",
    "            if target_dec_dict[user_id] == -1:\n",
    "                target_dec_dict[user_id] = answered_correctly\n",
    "            else:\n",
    "                target_dec_dict[user_id] = answered_correctly + 0.1 * target_dec_dict[user_id]\n",
    "            \n",
    "    prior_test_df = test_df.copy()\n",
    "    \n",
    "    time_from_last_lec_array = np.zeros(len(test_df), dtype = np.int64)\n",
    "    for i, (user_id, content_type_id, timestamp) in enumerate(zip(test_df['user_id'].values, test_df['content_type_id'].values,\n",
    "                                                             test_df['timestamp'].values)):\n",
    "        if content_type_id == 1:\n",
    "            time_from_last_lec_array[i] = 0\n",
    "            user_last_lec_time_dict[user_id] = timestamp\n",
    "        else:\n",
    "            if user_last_lec_time_dict[user_id] != -1:\n",
    "                time_from_last_lec_array[i] = timestamp - user_last_lec_time_dict[user_id]\n",
    "            else:\n",
    "                time_from_last_lec_array[i] = -1\n",
    "           \n",
    "    test_df['time_from_last_lec'] = time_from_last_lec_array \n",
    "    test_df = test_df[test_df['content_type_id'] == 0].reset_index(drop=True)\n",
    "    test_df = pd.merge(test_df, questions_df, left_on='content_id', right_on='question_id', how='left', right_index=True).reset_index(drop=True)\n",
    "    test_df['prior_question_had_explanation'] = test_df['prior_question_had_explanation'].fillna(False).astype('bool')\n",
    "    test_df['prior_question_elapsed_time'] = test_df['prior_question_elapsed_time'].fillna(0)\n",
    "    test_df['day_timestamp'] = (test_df['timestamp'] // 86400000) + 1\n",
    "\n",
    "    prior_part_arrays = test_df['part'].values\n",
    "    p_prior_question_had_explanation = test_df['prior_question_had_explanation'].values\n",
    "    prior_community_arrays = test_df['community'].values\n",
    "    \n",
    "    user_sum = np.zeros(len(test_df), dtype=np.int16)\n",
    "    user_count = np.zeros(len(test_df), dtype=np.int16)\n",
    "    content_sum = np.zeros(len(test_df), dtype=np.int32)\n",
    "    content_count = np.zeros(len(test_df), dtype=np.int32)\n",
    "    part1_count = np.zeros(len(test_df), dtype=np.int32)\n",
    "    part2_count = np.zeros(len(test_df), dtype=np.int32)\n",
    "    part3_count = np.zeros(len(test_df), dtype=np.int32)\n",
    "    part4_count = np.zeros(len(test_df), dtype=np.int32)\n",
    "    part5_count = np.zeros(len(test_df), dtype=np.int32)\n",
    "    part6_count = np.zeros(len(test_df), dtype=np.int32)\n",
    "    part7_count = np.zeros(len(test_df), dtype=np.int32)\n",
    "    user_count_inday = np.zeros(len(test_df), dtype=np.int32)\n",
    "    first_attempt_values = []\n",
    "    user_unique_count = np.zeros(len(test_df), dtype=np.int32)\n",
    "    user_prior_question_had_explanation_sum = np.zeros(len(test_df), dtype=np.int32)\n",
    "    got_point_array = np.zeros(len(test_df), dtype=np.float32)\n",
    "    user_last7_accuracy_array = np.zeros(len(test_df), dtype=np.float32)\n",
    "    timediff_array = np.zeros(len(test_df), dtype = np.int64)\n",
    "    timediff2_array = np.zeros(len(test_df), dtype = np.int64)\n",
    "    tag_acc_array = np.zeros(len(test_df), dtype=np.float32)\n",
    "    community_count_array = np.zeros(len(test_df), dtype=np.int32)\n",
    "    target2dec_array = np.zeros(len(test_df), dtype=np.float32)\n",
    "\n",
    "    for i, (user_id, content_id, day_timestamp, timestamp, community) in enumerate(zip(test_df['user_id'].values, test_df['content_id'].values,\n",
    "                                                             test_df['day_timestamp'].values,\n",
    "                                                             test_df['timestamp'].values,\n",
    "                                                             test_df['community'].values)):\n",
    "        user_sum[i] = user_sum_dict[user_id]\n",
    "        user_count[i] = user_count_dict[user_id]\n",
    "        content_sum[i] = content_sum_dict[content_id]\n",
    "        content_count[i] = content_count_dict[content_id]\n",
    "        part1_count[i] = part1_count_dict[user_id]\n",
    "        part2_count[i] = part2_count_dict[user_id]\n",
    "        part3_count[i] = part3_count_dict[user_id]\n",
    "        part4_count[i] = part4_count_dict[user_id]\n",
    "        part5_count[i] = part5_count_dict[user_id]\n",
    "        part6_count[i] = part6_count_dict[user_id]\n",
    "        part7_count[i] = part7_count_dict[user_id]\n",
    "        first_attempt_values.append(user_content_dict[user_id][content_id])\n",
    "        user_content_dict[user_id][content_id] = False \n",
    "        \n",
    "        if user_day_timestamp_dict[user_id] == day_timestamp:\n",
    "            user_count_inday_dict[user_id] += 1\n",
    "        else:\n",
    "            user_count_inday_dict[user_id] = 1\n",
    "            user_day_timestamp_dict[user_id] = day_timestamp\n",
    "            \n",
    "        user_count_inday[i] = user_count_inday_dict[user_id]\n",
    "        user_unique_count[i] = user_unique_dict[user_id]\n",
    "        user_prior_question_had_explanation_sum[i] = user_prior_question_had_explanation_sum_dict[user_id]\n",
    "        got_point_array[i] = user_point_sum_dict[user_id]\n",
    "        \n",
    "        if len(user_last7_answer_dict[user_id])==7:\n",
    "            user_last7_accuracy_array[i] = user_last7_answer_dict[user_id].mean()\n",
    "        else:\n",
    "            user_last7_accuracy_array[i] = np.nan\n",
    "        \n",
    "        if len(user_timestamp_max_dict[user_id]) ==0:\n",
    "            timediff_array[i] = -1\n",
    "            timediff2_array[i] = -1\n",
    "            user_timestamp_max_dict[user_id] = np.concatenate([user_timestamp_max_dict[user_id],[timestamp]])\n",
    "            \n",
    "        elif len(user_timestamp_max_dict[user_id]) ==1:\n",
    "            timediff_array[i] = timestamp - user_timestamp_max_dict[user_id][0]\n",
    "            timediff2_array[i] = -1\n",
    "            user_timestamp_max_dict[user_id] = np.concatenate([user_timestamp_max_dict[user_id],[timestamp]])\n",
    "            \n",
    "        else:\n",
    "            timediff_array[i] = timestamp - user_timestamp_max_dict[user_id][1]\n",
    "            timediff2_array[i] = timestamp - user_timestamp_max_dict[user_id][0]\n",
    "            user_timestamp_max_dict[user_id] = np.concatenate([user_timestamp_max_dict[user_id],[timestamp]])[1:]                     \n",
    "            \n",
    "        if user_community_count_dict[user_id][community] == 0:\n",
    "            tag_acc_array[i] = -1\n",
    "        else:\n",
    "            tag_acc_array[i] = user_community_correct_dict[user_id][community] / user_community_count_dict[user_id][community]\n",
    "            \n",
    "        community_count_array[i] = community_count_dict[community]\n",
    "        \n",
    "        if target_dec_dict[user_id] == -1:\n",
    "            target2dec_array[i] = np.nan\n",
    "        else:\n",
    "            target2dec_array[i] = target_dec_dict[user_id]\n",
    "        \n",
    "    test_df['user_correctness'] = user_sum / user_count\n",
    "    test_df['content_count'] = content_count\n",
    "    test_df['content_id'] = content_sum / content_count\n",
    "    test_df['count'] = 1\n",
    "    test_df['count'] = test_df.groupby(\"user_id\")[\"count\"].cumsum()\n",
    "    test_df['count'] += user_count\n",
    "    test_df['part1_count'] = part1_count\n",
    "    test_df['part2_count'] = part2_count\n",
    "    test_df['part3_count'] = part3_count\n",
    "    test_df['part4_count'] = part4_count\n",
    "    test_df['part5_count'] = part5_count\n",
    "    test_df['part6_count'] = part6_count\n",
    "    test_df['part7_count'] = part7_count\n",
    "    test_df[\"first_attempt\"] = first_attempt_values\n",
    "    test_df['count_inday'] = user_count_inday\n",
    "    test_df[\"unique_attempt\"] = test_df.groupby(\"user_id\")[\"first_attempt\"].cumsum()\n",
    "    test_df[\"unique_attempt\"] += user_unique_count\n",
    "    test_df['prior_question_had_explanation_mean'] = user_prior_question_had_explanation_sum / user_count\n",
    "    test_df['got_point'] = got_point_array / user_count\n",
    "    test_df['answered_correctly_last7'] = user_last7_accuracy_array\n",
    "    test_df['timediff'] = timediff_array\n",
    "    test_df['timediff2'] = timediff2_array\n",
    "    test_df['tag_acc'] = tag_acc_array\n",
    "    test_df['community_count'] = community_count_array\n",
    "    test_df['target_dec'] = target2dec_array\n",
    "    \n",
    "    prior_f_attempt_arrays = test_df['first_attempt'].values\n",
    "    prior_point_array = 1 / (test_df.content_id.values + 0.1)\n",
    "    \n",
    "    test_df[target] = model.predict(test_df[features])\n",
    "    env.predict(test_df[['row_id', target]])"
   ]
  },
  {
   "cell_type": "code",
   "execution_count": null,
   "metadata": {
    "papermill": {
     "duration": 0.090966,
     "end_time": "2020-12-17T15:59:32.267941",
     "exception": false,
     "start_time": "2020-12-17T15:59:32.176975",
     "status": "completed"
    },
    "tags": []
   },
   "outputs": [],
   "source": []
  }
 ],
 "metadata": {
  "kernelspec": {
   "display_name": "Python 3",
   "language": "python",
   "name": "python3"
  },
  "language_info": {
   "codemirror_mode": {
    "name": "ipython",
    "version": 3
   },
   "file_extension": ".py",
   "mimetype": "text/x-python",
   "name": "python",
   "nbconvert_exporter": "python",
   "pygments_lexer": "ipython3",
   "version": "3.7.6"
  },
  "papermill": {
   "duration": 4631.61335,
   "end_time": "2020-12-17T15:59:32.976787",
   "environment_variables": {},
   "exception": null,
   "input_path": "__notebook__.ipynb",
   "output_path": "__notebook__.ipynb",
   "parameters": {},
   "start_time": "2020-12-17T14:42:21.363437",
   "version": "2.1.0"
  }
 },
 "nbformat": 4,
 "nbformat_minor": 4
}
