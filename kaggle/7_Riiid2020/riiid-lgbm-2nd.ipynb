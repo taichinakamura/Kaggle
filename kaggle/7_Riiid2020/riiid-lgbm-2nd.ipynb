{
 "cells": [
  {
   "cell_type": "markdown",
   "metadata": {
    "papermill": {
     "duration": 0.028342,
     "end_time": "2020-12-18T14:29:16.830149",
     "exception": false,
     "start_time": "2020-12-18T14:29:16.801807",
     "status": "completed"
    },
    "tags": []
   },
   "source": [
    "- focus on this part count and create part ratio (= cut 5 features)"
   ]
  },
  {
   "cell_type": "code",
   "execution_count": 1,
   "metadata": {
    "_cell_guid": "b1076dfc-b9ad-4769-8c92-a6c4dae69d19",
    "_uuid": "8f2839f25d086af736a60e9eeb907d3b93b6e0e5",
    "execution": {
     "iopub.execute_input": "2020-12-18T14:29:16.892624Z",
     "iopub.status.busy": "2020-12-18T14:29:16.891891Z",
     "iopub.status.idle": "2020-12-18T14:29:47.618891Z",
     "shell.execute_reply": "2020-12-18T14:29:47.618071Z"
    },
    "papermill": {
     "duration": 30.76018,
     "end_time": "2020-12-18T14:29:47.619018",
     "exception": false,
     "start_time": "2020-12-18T14:29:16.858838",
     "status": "completed"
    },
    "tags": []
   },
   "outputs": [],
   "source": [
    "!pip install ../input/python-datatable/datatable-0.11.0-cp37-cp37m-manylinux2010_x86_64.whl > /dev/null 2>&1"
   ]
  },
  {
   "cell_type": "code",
   "execution_count": 2,
   "metadata": {
    "_cell_guid": "79c7e3d0-c299-4dcb-8224-4455121ee9b0",
    "_uuid": "d629ff2d2480ee46fbb7e2d37f6b5fab8052498a",
    "execution": {
     "iopub.execute_input": "2020-12-18T14:29:47.684434Z",
     "iopub.status.busy": "2020-12-18T14:29:47.683385Z",
     "iopub.status.idle": "2020-12-18T14:29:49.813685Z",
     "shell.execute_reply": "2020-12-18T14:29:49.812607Z"
    },
    "papermill": {
     "duration": 2.167282,
     "end_time": "2020-12-18T14:29:49.813845",
     "exception": false,
     "start_time": "2020-12-18T14:29:47.646563",
     "status": "completed"
    },
    "tags": []
   },
   "outputs": [
    {
     "data": {
      "text/html": [
       "<style type='text/css'>\n",
       ".datatable table.frame { margin-bottom: 0; }\n",
       ".datatable table.frame thead { border-bottom: none; }\n",
       ".datatable table.frame tr.coltypes td {  color: #FFFFFF;  line-height: 6px;  padding: 0 0.5em;}\n",
       ".datatable .bool    { background: #DDDD99; }\n",
       ".datatable .object  { background: #565656; }\n",
       ".datatable .int     { background: #5D9E5D; }\n",
       ".datatable .float   { background: #4040CC; }\n",
       ".datatable .str     { background: #CC4040; }\n",
       ".datatable .row_index {  background: var(--jp-border-color3);  border-right: 1px solid var(--jp-border-color0);  color: var(--jp-ui-font-color3);  font-size: 9px;}\n",
       ".datatable .frame tr.coltypes .row_index {  background: var(--jp-border-color0);}\n",
       ".datatable th:nth-child(2) { padding-left: 12px; }\n",
       ".datatable .hellipsis {  color: var(--jp-cell-editor-border-color);}\n",
       ".datatable .vellipsis {  background: var(--jp-layout-color0);  color: var(--jp-cell-editor-border-color);}\n",
       ".datatable .na {  color: var(--jp-cell-editor-border-color);  font-size: 80%;}\n",
       ".datatable .footer { font-size: 9px; }\n",
       ".datatable .frame_dimensions {  background: var(--jp-border-color3);  border-top: 1px solid var(--jp-border-color0);  color: var(--jp-ui-font-color3);  display: inline-block;  opacity: 0.6;  padding: 1px 10px 1px 5px;}\n",
       ".datatable .frame thead tr.colnames {  background-image: url('data:image/png;base64,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');  background-repeat: repeat-x;  background-size: 14px;  height: 28px;}\n",
       "</style>\n"
      ],
      "text/plain": [
       "<IPython.core.display.HTML object>"
      ]
     },
     "metadata": {},
     "output_type": "display_data"
    },
    {
     "name": "stderr",
     "output_type": "stream",
     "text": [
      "/opt/conda/lib/python3.7/site-packages/ipykernel_launcher.py:13: TqdmDeprecationWarning: This function will be removed in tqdm==5.0.0\n",
      "Please use `tqdm.notebook.*` instead of `tqdm._tqdm_notebook.*`\n",
      "  del sys.path[0]\n",
      "/opt/conda/lib/python3.7/site-packages/tqdm/std.py:666: FutureWarning: The Panel class is removed from pandas. Accessing it from the top-level namespace will also be removed in the next version\n",
      "  from pandas import Panel\n"
     ]
    }
   ],
   "source": [
    "import gc\n",
    "import numpy as np\n",
    "import pandas as pd\n",
    "from collections import defaultdict\n",
    "import datatable as dt\n",
    "import lightgbm as lgb\n",
    "from matplotlib import pyplot as plt\n",
    "import riiideducation\n",
    "from bitarray import bitarray\n",
    "from functools import partial\n",
    "import pickle\n",
    "\n",
    "from tqdm._tqdm_notebook import tqdm_notebook\n",
    "from numba import jit\n",
    "import random\n",
    "\n",
    "tqdm_notebook.pandas(desc=\"progress: \")\n",
    "\n",
    "_ = np.seterr(divide='ignore', invalid='ignore')\n",
    "pd.set_option(\"max_rows\", 100)\n",
    "pd.set_option(\"max_columns\", 100)\n",
    "\n",
    "random.seed(1)"
   ]
  },
  {
   "cell_type": "code",
   "execution_count": 3,
   "metadata": {
    "execution": {
     "iopub.execute_input": "2020-12-18T14:29:49.890056Z",
     "iopub.status.busy": "2020-12-18T14:29:49.880821Z",
     "iopub.status.idle": "2020-12-18T14:29:49.893676Z",
     "shell.execute_reply": "2020-12-18T14:29:49.892988Z"
    },
    "papermill": {
     "duration": 0.051115,
     "end_time": "2020-12-18T14:29:49.893806",
     "exception": false,
     "start_time": "2020-12-18T14:29:49.842691",
     "status": "completed"
    },
    "tags": []
   },
   "outputs": [],
   "source": [
    "def make_bitarray():\n",
    "    a = bitarray(32737, endian='little')\n",
    "    a.setall(True)   \n",
    "    return a\n",
    "\n",
    "def clear_mem():\n",
    "    %reset -f out\n",
    "    %reset -f in\n",
    "    gc.collect()\n",
    "    \n",
    "@jit\n",
    "def accuracy_last7(A):\n",
    "    ans = []\n",
    "    for i in range(len(A)):\n",
    "        if i < 7:\n",
    "            ans.append(np.nan)\n",
    "        else:\n",
    "            ans.append(np.mean(A[i-7:i]))       \n",
    "    return np.array(ans)"
   ]
  },
  {
   "cell_type": "code",
   "execution_count": 4,
   "metadata": {
    "execution": {
     "iopub.execute_input": "2020-12-18T14:29:49.955588Z",
     "iopub.status.busy": "2020-12-18T14:29:49.954843Z",
     "iopub.status.idle": "2020-12-18T14:29:49.958592Z",
     "shell.execute_reply": "2020-12-18T14:29:49.957997Z"
    },
    "papermill": {
     "duration": 0.036791,
     "end_time": "2020-12-18T14:29:49.958724",
     "exception": false,
     "start_time": "2020-12-18T14:29:49.921933",
     "status": "completed"
    },
    "tags": []
   },
   "outputs": [],
   "source": [
    "FULL_TRAIN = False\n",
    "CV_SCHEME = \"original\" #\"time\""
   ]
  },
  {
   "cell_type": "markdown",
   "metadata": {
    "papermill": {
     "duration": 0.027937,
     "end_time": "2020-12-18T14:29:50.014869",
     "exception": false,
     "start_time": "2020-12-18T14:29:49.986932",
     "status": "completed"
    },
    "tags": []
   },
   "source": [
    "# Preprocess"
   ]
  },
  {
   "cell_type": "code",
   "execution_count": 5,
   "metadata": {
    "execution": {
     "iopub.execute_input": "2020-12-18T14:29:50.078527Z",
     "iopub.status.busy": "2020-12-18T14:29:50.077654Z",
     "iopub.status.idle": "2020-12-18T14:29:50.080841Z",
     "shell.execute_reply": "2020-12-18T14:29:50.080284Z"
    },
    "papermill": {
     "duration": 0.038054,
     "end_time": "2020-12-18T14:29:50.080961",
     "exception": false,
     "start_time": "2020-12-18T14:29:50.042907",
     "status": "completed"
    },
    "tags": []
   },
   "outputs": [],
   "source": [
    "data_types_dict = {\n",
    "    #'row_id': 'uint32',\n",
    "    'timestamp': 'int64',\n",
    "    'user_id': 'int32', \n",
    "    'content_id': 'int16', \n",
    "    #'content_type_id': 'int8',\n",
    "    'answered_correctly': 'int8', \n",
    "    'prior_question_elapsed_time': 'float32', \n",
    "    'prior_question_had_explanation': 'bool',\n",
    "}\n",
    "target = 'answered_correctly'"
   ]
  },
  {
   "cell_type": "code",
   "execution_count": 6,
   "metadata": {
    "execution": {
     "iopub.execute_input": "2020-12-18T14:29:50.143553Z",
     "iopub.status.busy": "2020-12-18T14:29:50.142827Z",
     "iopub.status.idle": "2020-12-18T14:31:45.663129Z",
     "shell.execute_reply": "2020-12-18T14:31:45.662280Z"
    },
    "papermill": {
     "duration": 115.553999,
     "end_time": "2020-12-18T14:31:45.663280",
     "exception": false,
     "start_time": "2020-12-18T14:29:50.109281",
     "status": "completed"
    },
    "tags": []
   },
   "outputs": [],
   "source": [
    "train_df = dt.fread('../input/riiid-test-answer-prediction/train.csv', columns=set(data_types_dict.keys())).to_pandas()"
   ]
  },
  {
   "cell_type": "code",
   "execution_count": 7,
   "metadata": {
    "execution": {
     "iopub.execute_input": "2020-12-18T14:31:45.732494Z",
     "iopub.status.busy": "2020-12-18T14:31:45.731647Z",
     "iopub.status.idle": "2020-12-18T14:33:19.206574Z",
     "shell.execute_reply": "2020-12-18T14:33:19.207201Z"
    },
    "papermill": {
     "duration": 93.514141,
     "end_time": "2020-12-18T14:33:19.207396",
     "exception": false,
     "start_time": "2020-12-18T14:31:45.693255",
     "status": "completed"
    },
    "tags": []
   },
   "outputs": [
    {
     "name": "stdout",
     "output_type": "stream",
     "text": [
      "CPU times: user 1min 21s, sys: 12.7 s, total: 1min 33s\n",
      "Wall time: 1min 33s\n"
     ]
    }
   ],
   "source": [
    "%%time\n",
    "@jit\n",
    "def time_from_lec_calc(A, T):\n",
    "    ans = []\n",
    "    prev = 0\n",
    "    flg = False\n",
    "    for i in range(len(A)):\n",
    "        if A[i] == -1:\n",
    "            flg = True\n",
    "            prev = T[i]          \n",
    "        if flg:\n",
    "            ans.append(T[i]-prev)\n",
    "        else:\n",
    "            ans.append(-1)      \n",
    "    return np.array(ans)\n",
    "\n",
    "question_index = list(train_df[train_df[target] != -1].index)\n",
    "\n",
    "time_from_last_lec_array = train_df[[\"answered_correctly\",\"timestamp\",\"user_id\"]].groupby(\"user_id\").apply(lambda x: time_from_lec_calc(x[\"answered_correctly\"].values, x[\"timestamp\"].values))\n",
    "time_from_last_lec_array = np.hstack(time_from_last_lec_array).astype('int64')\n",
    "time_from_last_lec_array = time_from_last_lec_array[question_index]\n",
    "\n",
    "user_last_lec_time_dict = train_df[train_df[target] == -1].groupby(\"user_id\").tail(1)[\"timestamp\"].to_dict(defaultdict(lambda: -1))\n",
    "del question_index"
   ]
  },
  {
   "cell_type": "code",
   "execution_count": 8,
   "metadata": {
    "execution": {
     "iopub.execute_input": "2020-12-18T14:33:19.286916Z",
     "iopub.status.busy": "2020-12-18T14:33:19.285814Z",
     "iopub.status.idle": "2020-12-18T14:33:51.127150Z",
     "shell.execute_reply": "2020-12-18T14:33:51.128662Z"
    },
    "papermill": {
     "duration": 31.891194,
     "end_time": "2020-12-18T14:33:51.129066",
     "exception": false,
     "start_time": "2020-12-18T14:33:19.237872",
     "status": "completed"
    },
    "tags": []
   },
   "outputs": [],
   "source": [
    "train_df = train_df[train_df[target] != -1].reset_index(drop=True)\n",
    "\n",
    "train_df['prior_question_had_explanation'].fillna(False, inplace=True)\n",
    "train_df['prior_question_elapsed_time'].fillna(0, inplace=True)\n",
    "\n",
    "train_df['day_timestamp'] = (train_df['timestamp'] // 86400000) + 1 # days from start\n",
    "train_df = train_df.astype(data_types_dict)"
   ]
  },
  {
   "cell_type": "code",
   "execution_count": 9,
   "metadata": {
    "execution": {
     "iopub.execute_input": "2020-12-18T14:33:51.193237Z",
     "iopub.status.busy": "2020-12-18T14:33:51.192439Z",
     "iopub.status.idle": "2020-12-18T14:33:59.459242Z",
     "shell.execute_reply": "2020-12-18T14:33:59.459798Z"
    },
    "papermill": {
     "duration": 8.3003,
     "end_time": "2020-12-18T14:33:59.459966",
     "exception": false,
     "start_time": "2020-12-18T14:33:51.159666",
     "status": "completed"
    },
    "tags": []
   },
   "outputs": [],
   "source": [
    "if CV_SCHEME==\"time\":\n",
    "    max_timestamp_u = train_df[['user_id','timestamp']].groupby(['user_id']).agg(['max']).reset_index()\n",
    "    max_timestamp_u.columns = ['user_id', 'max_time_stamp']\n",
    "    MAX_TIME_STAMP = max_timestamp_u.max_time_stamp.max()\n",
    "\n",
    "    def rand_time(max_time_stamp):\n",
    "        interval = MAX_TIME_STAMP - max_time_stamp\n",
    "        rand_time_stamp = random.randint(0,interval)\n",
    "        return rand_time_stamp\n",
    "\n",
    "    max_timestamp_u['rand_time_stamp'] = max_timestamp_u.max_time_stamp.apply(rand_time)\n",
    "    train_df = train_df.merge(max_timestamp_u, on='user_id', how='left')\n",
    "    train_df['viretual_time_stamp'] = train_df.timestamp + train_df['rand_time_stamp']\n",
    "\n",
    "    del train_df['max_time_stamp']\n",
    "    del train_df['rand_time_stamp']\n",
    "    del max_timestamp_u\n",
    "\n",
    "    train_index = list(train_df['viretual_time_stamp'].nlargest(10000000).index)\n",
    "\n",
    "else:\n",
    "    if FULL_TRAIN:\n",
    "        train_size = 100\n",
    "    else:\n",
    "        train_size = 24\n",
    "        valid_size = 6\n",
    "    \n",
    "    train_index = list(train_df.groupby('user_id').tail(train_size).index)"
   ]
  },
  {
   "cell_type": "code",
   "execution_count": 10,
   "metadata": {
    "execution": {
     "iopub.execute_input": "2020-12-18T14:34:01.440491Z",
     "iopub.status.busy": "2020-12-18T14:34:01.439762Z",
     "iopub.status.idle": "2020-12-18T14:34:01.494730Z",
     "shell.execute_reply": "2020-12-18T14:34:01.493983Z"
    },
    "papermill": {
     "duration": 2.004838,
     "end_time": "2020-12-18T14:34:01.494864",
     "exception": false,
     "start_time": "2020-12-18T14:33:59.490026",
     "status": "completed"
    },
    "tags": []
   },
   "outputs": [],
   "source": [
    "time_from_last_lec_array = time_from_last_lec_array[train_index]"
   ]
  },
  {
   "cell_type": "code",
   "execution_count": 11,
   "metadata": {
    "execution": {
     "iopub.execute_input": "2020-12-18T14:34:01.562224Z",
     "iopub.status.busy": "2020-12-18T14:34:01.561244Z",
     "iopub.status.idle": "2020-12-18T14:34:10.606500Z",
     "shell.execute_reply": "2020-12-18T14:34:10.605378Z"
    },
    "papermill": {
     "duration": 9.082233,
     "end_time": "2020-12-18T14:34:10.606641",
     "exception": false,
     "start_time": "2020-12-18T14:34:01.524408",
     "status": "completed"
    },
    "tags": []
   },
   "outputs": [],
   "source": [
    "train_df[\"count\"] = 1\n",
    "\n",
    "# normal cumsum\n",
    "count_array = train_df.groupby(\"user_id\")[\"count\"].cumsum().values\n",
    "count_array = count_array[train_index]\n",
    "train_df.drop(\"count\", axis=1, inplace=True)"
   ]
  },
  {
   "cell_type": "code",
   "execution_count": 12,
   "metadata": {
    "execution": {
     "iopub.execute_input": "2020-12-18T14:34:10.685891Z",
     "iopub.status.busy": "2020-12-18T14:34:10.684515Z",
     "iopub.status.idle": "2020-12-18T14:34:31.427808Z",
     "shell.execute_reply": "2020-12-18T14:34:31.426805Z"
    },
    "papermill": {
     "duration": 20.7909,
     "end_time": "2020-12-18T14:34:31.427941",
     "exception": false,
     "start_time": "2020-12-18T14:34:10.637041",
     "status": "completed"
    },
    "tags": []
   },
   "outputs": [],
   "source": [
    "train_df[\"count_inday\"] = 1\n",
    "count_inday_array = train_df.groupby([\"user_id\",\"day_timestamp\"])[\"count_inday\"].cumsum().values\n",
    "train_df[\"count_inday\"] = count_inday_array\n",
    "\n",
    "user_count_inday_dict = train_df.groupby(\"user_id\").tail(1)[\"count_inday\"].to_dict(defaultdict(int))\n",
    "count_inday_array = count_inday_array[train_index]\n",
    "train_df.drop(\"count_inday\", axis=1, inplace=True)"
   ]
  },
  {
   "cell_type": "code",
   "execution_count": 13,
   "metadata": {
    "execution": {
     "iopub.execute_input": "2020-12-18T14:34:31.496246Z",
     "iopub.status.busy": "2020-12-18T14:34:31.494749Z",
     "iopub.status.idle": "2020-12-18T14:34:41.224765Z",
     "shell.execute_reply": "2020-12-18T14:34:41.223558Z"
    },
    "papermill": {
     "duration": 9.767165,
     "end_time": "2020-12-18T14:34:41.224912",
     "exception": false,
     "start_time": "2020-12-18T14:34:31.457747",
     "status": "completed"
    },
    "tags": []
   },
   "outputs": [],
   "source": [
    "user_day_timestamp_dict = train_df.groupby(\"user_id\").tail(1)[\"day_timestamp\"].to_dict(defaultdict(int))\n",
    "day_timestamp_array = train_df[\"day_timestamp\"].values\n",
    "train_df.drop(\"day_timestamp\", axis=1, inplace=True)\n",
    "day_timestamp_array = day_timestamp_array[train_index]"
   ]
  },
  {
   "cell_type": "code",
   "execution_count": 14,
   "metadata": {
    "execution": {
     "iopub.execute_input": "2020-12-18T14:34:41.296521Z",
     "iopub.status.busy": "2020-12-18T14:34:41.295739Z",
     "iopub.status.idle": "2020-12-18T14:37:55.719805Z",
     "shell.execute_reply": "2020-12-18T14:37:55.720387Z"
    },
    "papermill": {
     "duration": 194.464946,
     "end_time": "2020-12-18T14:37:55.720603",
     "exception": false,
     "start_time": "2020-12-18T14:34:41.255657",
     "status": "completed"
    },
    "tags": []
   },
   "outputs": [
    {
     "name": "stdout",
     "output_type": "stream",
     "text": [
      "Flushing output cache (0 entries)\n",
      "Flushing input history\n",
      "Flushing output cache (0 entries)\n",
      "Flushing input history\n"
     ]
    }
   ],
   "source": [
    "timediff_array = train_df.groupby(\"user_id\")[\"timestamp\"].diff().values\n",
    "timediff_array = timediff_array[train_index]\n",
    "clear_mem()\n",
    "\n",
    "timediff2_array = train_df.groupby(\"user_id\")[\"timestamp\"].diff(2).values\n",
    "timediff2_array = timediff2_array[train_index]\n",
    "clear_mem()\n",
    "\n",
    "user_timestamp_max_dict = train_df.groupby(\"user_id\")[\"timestamp\"].apply(lambda x: x[-2:].values).to_dict(defaultdict(partial(np.ndarray, 0, dtype=\"int64\")))\n",
    "train_df.drop(\"timestamp\", axis=1, inplace=True)\n",
    "timediff_array = np.nan_to_num(timediff_array, nan=-1)\n",
    "timediff2_array = np.nan_to_num(timediff2_array, nan=-1)"
   ]
  },
  {
   "cell_type": "code",
   "execution_count": 15,
   "metadata": {
    "execution": {
     "iopub.execute_input": "2020-12-18T14:37:55.787848Z",
     "iopub.status.busy": "2020-12-18T14:37:55.787089Z",
     "iopub.status.idle": "2020-12-18T14:37:58.955817Z",
     "shell.execute_reply": "2020-12-18T14:37:58.956394Z"
    },
    "papermill": {
     "duration": 3.204679,
     "end_time": "2020-12-18T14:37:58.956549",
     "exception": false,
     "start_time": "2020-12-18T14:37:55.751870",
     "status": "completed"
    },
    "tags": []
   },
   "outputs": [],
   "source": [
    "prior_question_elapsed_time_array = train_df.prior_question_elapsed_time.values\n",
    "train_df.drop(\"prior_question_elapsed_time\", axis =1, inplace=True)\n",
    "prior_question_elapsed_time_array = prior_question_elapsed_time_array[train_index]"
   ]
  },
  {
   "cell_type": "code",
   "execution_count": 16,
   "metadata": {
    "execution": {
     "iopub.execute_input": "2020-12-18T14:37:59.023096Z",
     "iopub.status.busy": "2020-12-18T14:37:59.022410Z",
     "iopub.status.idle": "2020-12-18T14:38:14.296719Z",
     "shell.execute_reply": "2020-12-18T14:38:14.295928Z"
    },
    "papermill": {
     "duration": 15.309029,
     "end_time": "2020-12-18T14:38:14.296846",
     "exception": false,
     "start_time": "2020-12-18T14:37:58.987817",
     "status": "completed"
    },
    "tags": []
   },
   "outputs": [],
   "source": [
    "questions_df = pd.read_csv(\n",
    "    '../input/riiid-test-answer-prediction/questions.csv', \n",
    "    usecols=[0, 3], #4\n",
    "    dtype={'question_id': 'int16', 'part': 'int8'}  #'tags': 'str'\n",
    ")\n",
    "\n",
    "additional_q_df = pd.read_csv('../input/riiid-question-clustering/question_cmnts.csv')\n",
    "questions_df[\"community\"] = additional_q_df[\"community\"].astype('int8')\n",
    "del additional_q_df \n",
    "    \n",
    "train_df = pd.merge(train_df, questions_df, left_on='content_id', right_on='question_id', how='left', right_index=True).reset_index(drop=True)\n",
    "train_df.drop(columns=['question_id'], inplace=True)"
   ]
  },
  {
   "cell_type": "code",
   "execution_count": 17,
   "metadata": {
    "execution": {
     "iopub.execute_input": "2020-12-18T14:38:14.389069Z",
     "iopub.status.busy": "2020-12-18T14:38:14.386769Z",
     "iopub.status.idle": "2020-12-18T14:38:14.392051Z",
     "shell.execute_reply": "2020-12-18T14:38:14.392633Z"
    },
    "papermill": {
     "duration": 0.064124,
     "end_time": "2020-12-18T14:38:14.392784",
     "exception": false,
     "start_time": "2020-12-18T14:38:14.328660",
     "status": "completed"
    },
    "tags": []
   },
   "outputs": [
    {
     "name": "stdout",
     "output_type": "stream",
     "text": [
      "76\n"
     ]
    }
   ],
   "source": [
    "community_num = len(questions_df.community.unique())\n",
    "print(community_num)\n",
    "\n",
    "@jit\n",
    "def tag_accuracy(A, C):\n",
    "    ans = []\n",
    "    community_count = [0] * community_num\n",
    "    community_correct = [0] * community_num\n",
    "    for i in range(len(C)):\n",
    "        if community_count[C[i]]==0:\n",
    "            ans.append(-1)\n",
    "        else:\n",
    "            ans.append(community_correct[C[i]]/community_count[C[i]])\n",
    "        community_count[C[i]] +=1\n",
    "        community_correct[C[i]] += A[i]\n",
    "    return np.array(ans)\n",
    "\n",
    "@jit\n",
    "def tag_correct_last(A, C):\n",
    "    community_correct = [0] * community_num\n",
    "    for i in range(len(C)):\n",
    "        community_correct[C[i]] += A[i]\n",
    "    return np.array(community_correct)\n",
    "\n",
    "@jit\n",
    "def tag_count_last(A, C):\n",
    "    community_count = [0] * community_num\n",
    "    for i in range(len(C)):\n",
    "        community_count[C[i]] +=1\n",
    "    return np.array(community_count)\n",
    "\n",
    "def init_dict():\n",
    "    ans = [0] * community_num\n",
    "    return np.array(ans)"
   ]
  },
  {
   "cell_type": "code",
   "execution_count": 18,
   "metadata": {
    "execution": {
     "iopub.execute_input": "2020-12-18T14:38:14.469152Z",
     "iopub.status.busy": "2020-12-18T14:38:14.465258Z",
     "iopub.status.idle": "2020-12-18T14:40:17.613017Z",
     "shell.execute_reply": "2020-12-18T14:40:17.612346Z"
    },
    "papermill": {
     "duration": 123.18878,
     "end_time": "2020-12-18T14:40:17.613165",
     "exception": false,
     "start_time": "2020-12-18T14:38:14.424385",
     "status": "completed"
    },
    "tags": []
   },
   "outputs": [],
   "source": [
    "#\n",
    "tag_acc_array = train_df.groupby(\"user_id\").apply(lambda x: tag_accuracy(x[\"answered_correctly\"].values, x[\"community\"].values))\n",
    "tag_acc_array = np.hstack(tag_acc_array)\n",
    "tag_acc_array = tag_acc_array[train_index]\n",
    "\n",
    "user_community_count_dict = train_df.groupby(\"user_id\").apply(lambda x: tag_count_last(x[\"answered_correctly\"].values, x[\"community\"].values)).to_dict(defaultdict(init_dict))\n",
    "user_community_correct_dict = train_df.groupby(\"user_id\").apply(lambda x: tag_correct_last(x[\"answered_correctly\"].values, x[\"community\"].values)).to_dict(defaultdict(init_dict))\n",
    "    \n",
    "#\n",
    "community_agg = train_df.groupby('community')[target].agg(['count'])\n",
    "community_count_dict = community_agg['count'].astype('int32').to_dict(defaultdict(int))\n",
    "community_count_array = train_df['community'].map(community_agg['count']).astype('int32').values\n",
    "del community_agg\n",
    "community_count_array = community_count_array[train_index]\n",
    "    \n",
    "community_array = train_df[\"community\"].values\n",
    "community_array = community_array[train_index]\n",
    "train_df.drop('community', axis=1, inplace=True)"
   ]
  },
  {
   "cell_type": "code",
   "execution_count": 19,
   "metadata": {
    "execution": {
     "iopub.execute_input": "2020-12-18T14:40:17.686765Z",
     "iopub.status.busy": "2020-12-18T14:40:17.685951Z",
     "iopub.status.idle": "2020-12-18T14:40:32.647011Z",
     "shell.execute_reply": "2020-12-18T14:40:32.646289Z"
    },
    "papermill": {
     "duration": 15.001554,
     "end_time": "2020-12-18T14:40:32.647131",
     "exception": false,
     "start_time": "2020-12-18T14:40:17.645577",
     "status": "completed"
    },
    "tags": []
   },
   "outputs": [],
   "source": [
    "train_df['lag'] = train_df.groupby('user_id')[target].shift()\n",
    "cum = train_df.groupby('user_id')['lag'].agg(['cumsum', 'cumcount'])\n",
    "user_correctness_array = np.array(cum['cumsum'] / cum['cumcount'])\n",
    "user_correctness_array = user_correctness_array[train_index]\n",
    "train_df.drop(columns=['lag'], inplace=True)\n",
    "del cum"
   ]
  },
  {
   "cell_type": "code",
   "execution_count": 20,
   "metadata": {
    "execution": {
     "iopub.execute_input": "2020-12-18T14:40:32.738644Z",
     "iopub.status.busy": "2020-12-18T14:40:32.737169Z",
     "iopub.status.idle": "2020-12-18T14:41:29.119590Z",
     "shell.execute_reply": "2020-12-18T14:41:29.118976Z"
    },
    "papermill": {
     "duration": 56.440817,
     "end_time": "2020-12-18T14:41:29.119740",
     "exception": false,
     "start_time": "2020-12-18T14:40:32.678923",
     "status": "completed"
    },
    "tags": []
   },
   "outputs": [],
   "source": [
    "@jit\n",
    "def part_count_calc(P):\n",
    "    ans = []\n",
    "    part_count = [0] * 8\n",
    "    for i in range(len(P)):\n",
    "        part_count[P[i]] += 1\n",
    "        ans.append(part_count[P[i]])\n",
    "    return np.array(ans)\n",
    "\n",
    "@jit\n",
    "def part_count_dict_calc(P):\n",
    "    part_count = [0] * 8\n",
    "    for i in range(len(P)):\n",
    "        part_count[P[i]] += 1\n",
    "    return np.array(part_count)\n",
    "\n",
    "def part_dict_init():\n",
    "    ans = [0] * 8\n",
    "    return np.array(ans)\n",
    "\n",
    "part_count_array = train_df.groupby(\"user_id\").apply(lambda x: part_count_calc(x[\"part\"].values))\n",
    "part_count_array = np.hstack(part_count_array)\n",
    "part_count_array = part_count_array[train_index]\n",
    "part_ratio_array = part_count_array / count_array\n",
    "\n",
    "user_part_count_dict = train_df.groupby(\"user_id\").apply(lambda x: part_count_dict_calc(x[\"part\"].values)).to_dict(defaultdict(part_dict_init))\n",
    "\n",
    "part_array = train_df.part.values\n",
    "train_df.drop(\"part\", axis=1, inplace=True)\n",
    "part_array = part_array[train_index]"
   ]
  },
  {
   "cell_type": "code",
   "execution_count": 21,
   "metadata": {
    "execution": {
     "iopub.execute_input": "2020-12-18T14:41:29.195791Z",
     "iopub.status.busy": "2020-12-18T14:41:29.195089Z",
     "iopub.status.idle": "2020-12-18T14:41:55.753686Z",
     "shell.execute_reply": "2020-12-18T14:41:55.754261Z"
    },
    "papermill": {
     "duration": 26.601832,
     "end_time": "2020-12-18T14:41:55.754464",
     "exception": false,
     "start_time": "2020-12-18T14:41:29.152632",
     "status": "completed"
    },
    "tags": []
   },
   "outputs": [],
   "source": [
    "# prior_question_had_explanation_mean\n",
    "train_df['lag'] = train_df.groupby('user_id')['prior_question_had_explanation'].shift().astype(bool)\n",
    "cum = train_df.groupby('user_id')['lag'].agg(['cumsum', 'cumcount'])\n",
    "prior_question_had_explanation_mean_array = np.array(cum['cumsum'] / cum['cumcount'])\n",
    "prior_question_had_explanation_mean_array = prior_question_had_explanation_mean_array[train_index]\n",
    "\n",
    "user_prior_question_had_explanation_sum_agg = train_df.groupby('user_id')[\"prior_question_had_explanation\"].agg(['sum'])\n",
    "user_prior_question_had_explanation_sum_dict = user_prior_question_had_explanation_sum_agg['sum'].astype('int32').to_dict(defaultdict(int))\n",
    "train_df.drop(columns=['lag'], inplace=True)\n",
    "del cum, user_prior_question_had_explanation_sum_agg\n",
    "\n",
    "prior_question_had_explanation_array = train_df.prior_question_had_explanation.values\n",
    "train_df.drop('prior_question_had_explanation', axis=1, inplace=True)\n",
    "prior_question_had_explanation_array = prior_question_had_explanation_array[train_index]"
   ]
  },
  {
   "cell_type": "code",
   "execution_count": 22,
   "metadata": {
    "execution": {
     "iopub.execute_input": "2020-12-18T14:41:55.824028Z",
     "iopub.status.busy": "2020-12-18T14:41:55.823229Z",
     "iopub.status.idle": "2020-12-18T14:42:44.514435Z",
     "shell.execute_reply": "2020-12-18T14:42:44.513843Z"
    },
    "papermill": {
     "duration": 48.727371,
     "end_time": "2020-12-18T14:42:44.514562",
     "exception": false,
     "start_time": "2020-12-18T14:41:55.787191",
     "status": "completed"
    },
    "tags": []
   },
   "outputs": [
    {
     "name": "stdout",
     "output_type": "stream",
     "text": [
      "Flushing output cache (0 entries)\n",
      "Flushing input history\n"
     ]
    }
   ],
   "source": [
    "first_attempt_df = pd.read_csv(\"../input/riiid-additional-data/content_first_attempt.csv\")\n",
    "first_attempt_array = first_attempt_df.first_attempt.values\n",
    "train_df[\"first_attempt\"] = first_attempt_array\n",
    "\n",
    "unique_attempt_array= train_df.groupby(\"user_id\")[\"first_attempt\"].cumsum().values\n",
    "train_df[\"unique_attempt\"] = unique_attempt_array\n",
    "user_unique_agg = train_df.groupby('user_id')[\"unique_attempt\"].agg(['max'])\n",
    "user_unique_dict = user_unique_agg['max'].astype('int32').to_dict(defaultdict(int))\n",
    "\n",
    "first_attempt_array = first_attempt_array[train_index]\n",
    "unique_attempt_array = unique_attempt_array[train_index]\n",
    "train_df.drop(['first_attempt', 'unique_attempt'], axis=1, inplace=True)\n",
    "del first_attempt_df, user_unique_agg\n",
    "\n",
    "clear_mem()"
   ]
  },
  {
   "cell_type": "code",
   "execution_count": 23,
   "metadata": {
    "execution": {
     "iopub.execute_input": "2020-12-18T14:42:44.593333Z",
     "iopub.status.busy": "2020-12-18T14:42:44.592652Z",
     "iopub.status.idle": "2020-12-18T14:42:56.862570Z",
     "shell.execute_reply": "2020-12-18T14:42:56.861841Z"
    },
    "papermill": {
     "duration": 12.315117,
     "end_time": "2020-12-18T14:42:56.862694",
     "exception": false,
     "start_time": "2020-12-18T14:42:44.547577",
     "status": "completed"
    },
    "tags": []
   },
   "outputs": [
    {
     "name": "stdout",
     "output_type": "stream",
     "text": [
      "Flushing output cache (0 entries)\n",
      "Flushing input history\n",
      "Flushing output cache (0 entries)\n",
      "Flushing input history\n"
     ]
    }
   ],
   "source": [
    "#########\n",
    "user_agg = train_df.groupby('user_id')[target].agg(['sum', 'count'])\n",
    "user_sum_dict = user_agg['sum'].astype('int16').to_dict(defaultdict(int))\n",
    "del user_agg['sum']\n",
    "user_count_dict = user_agg['count'].astype('int16').to_dict(defaultdict(int))\n",
    "del user_agg['count']\n",
    "clear_mem()\n",
    "\n",
    "#\n",
    "content_agg = train_df.groupby('content_id')[target].agg(['sum', 'count'])\n",
    "content_sum_dict = content_agg['sum'].astype('int32').to_dict(defaultdict(int))\n",
    "content_count_dict = content_agg['count'].astype('int32').to_dict(defaultdict(int))\n",
    "\n",
    "content_count_array = train_df['content_id'].map(content_agg['count']).astype('int32').values\n",
    "content_id_array = train_df['content_id'].map(content_agg['sum'] / content_agg['count']).values\n",
    "del content_agg\n",
    "clear_mem()"
   ]
  },
  {
   "cell_type": "code",
   "execution_count": 24,
   "metadata": {
    "execution": {
     "iopub.execute_input": "2020-12-18T14:42:56.943467Z",
     "iopub.status.busy": "2020-12-18T14:42:56.941892Z",
     "iopub.status.idle": "2020-12-18T14:43:02.420127Z",
     "shell.execute_reply": "2020-12-18T14:43:02.420706Z"
    },
    "papermill": {
     "duration": 5.524125,
     "end_time": "2020-12-18T14:43:02.420885",
     "exception": false,
     "start_time": "2020-12-18T14:42:56.896760",
     "status": "completed"
    },
    "tags": []
   },
   "outputs": [
    {
     "name": "stdout",
     "output_type": "stream",
     "text": [
      "Flushing output cache (0 entries)\n",
      "Flushing input history\n"
     ]
    }
   ],
   "source": [
    "# benefit of solving difficult questions\n",
    "point_array = 1 / (content_id_array + 0.1)\n",
    "content_id_array = content_id_array[train_index]\n",
    "content_count_array = content_count_array[train_index]\n",
    "clear_mem()"
   ]
  },
  {
   "cell_type": "code",
   "execution_count": 25,
   "metadata": {
    "execution": {
     "iopub.execute_input": "2020-12-18T14:43:02.501833Z",
     "iopub.status.busy": "2020-12-18T14:43:02.501014Z",
     "iopub.status.idle": "2020-12-18T14:43:22.356952Z",
     "shell.execute_reply": "2020-12-18T14:43:22.357475Z"
    },
    "papermill": {
     "duration": 19.90151,
     "end_time": "2020-12-18T14:43:22.357617",
     "exception": false,
     "start_time": "2020-12-18T14:43:02.456107",
     "status": "completed"
    },
    "tags": []
   },
   "outputs": [
    {
     "name": "stdout",
     "output_type": "stream",
     "text": [
      "Flushing output cache (0 entries)\n",
      "Flushing input history\n"
     ]
    }
   ],
   "source": [
    "###########\n",
    "train_df[\"got_point\"] = point_array * train_df[\"answered_correctly\"].values\n",
    "del point_array\n",
    "user_point_agg = train_df.groupby('user_id')[\"got_point\"].agg(['sum'])\n",
    "user_point_sum_dict = user_point_agg['sum'].astype('float32').to_dict(defaultdict(float))\n",
    "del user_point_agg\n",
    "\n",
    "train_df['lag'] = train_df.groupby('user_id')[\"got_point\"].shift()\n",
    "cum = train_df.groupby('user_id')['lag'].agg(['cumsum', 'cumcount'])\n",
    "got_point_array = np.array(cum['cumsum'] / cum['cumcount'])\n",
    "train_df.drop(columns=['lag', 'got_point'], inplace=True)\n",
    "del cum\n",
    "got_point_array = got_point_array[train_index]\n",
    "clear_mem()"
   ]
  },
  {
   "cell_type": "code",
   "execution_count": 26,
   "metadata": {
    "execution": {
     "iopub.execute_input": "2020-12-18T14:43:22.449146Z",
     "iopub.status.busy": "2020-12-18T14:43:22.447914Z",
     "iopub.status.idle": "2020-12-18T14:45:36.962308Z",
     "shell.execute_reply": "2020-12-18T14:45:36.962900Z"
    },
    "papermill": {
     "duration": 134.569848,
     "end_time": "2020-12-18T14:45:36.963116",
     "exception": false,
     "start_time": "2020-12-18T14:43:22.393268",
     "status": "completed"
    },
    "tags": []
   },
   "outputs": [
    {
     "name": "stdout",
     "output_type": "stream",
     "text": [
      "CPU times: user 2min 10s, sys: 3.57 s, total: 2min 14s\n",
      "Wall time: 2min 14s\n"
     ]
    }
   ],
   "source": [
    "%%time\n",
    "user_content_agg = train_df.groupby(\"user_id\")[\"content_id\"].unique().reset_index().set_index(\"user_id\")\n",
    "\n",
    "value = []\n",
    "for j in user_content_agg.index:\n",
    "    a = bitarray(32737, endian='little')\n",
    "    a.setall(True)\n",
    "    for i in user_content_agg.loc[j][0]:\n",
    "        a[i] = 0\n",
    "    value.append(a)\n",
    "    \n",
    "user_content_agg[\"content_exp\"] = value\n",
    "user_content_dict = user_content_agg[\"content_exp\"].to_dict(defaultdict(make_bitarray))\n",
    "del user_content_agg, value\n",
    "train_df.drop([\"content_id\"], axis=1, inplace=True)"
   ]
  },
  {
   "cell_type": "code",
   "execution_count": 27,
   "metadata": {
    "execution": {
     "iopub.execute_input": "2020-12-18T14:45:37.040919Z",
     "iopub.status.busy": "2020-12-18T14:45:37.040110Z",
     "iopub.status.idle": "2020-12-18T14:46:39.022606Z",
     "shell.execute_reply": "2020-12-18T14:46:39.023170Z"
    },
    "papermill": {
     "duration": 62.024129,
     "end_time": "2020-12-18T14:46:39.023391",
     "exception": false,
     "start_time": "2020-12-18T14:45:36.999262",
     "status": "completed"
    },
    "tags": []
   },
   "outputs": [],
   "source": [
    "answered_correctly_last7_array = train_df.groupby(\"user_id\").apply(lambda x: accuracy_last7(x[\"answered_correctly\"].values))\n",
    "answered_correctly_last7_array = np.hstack(answered_correctly_last7_array)\n",
    "answered_correctly_last7_array = answered_correctly_last7_array[train_index]\n",
    "user_last7_answer_dict = train_df.groupby(\"user_id\")[\"answered_correctly\"].apply(lambda x: \n",
    "                                                                                 x[-7:].values).to_dict(defaultdict(partial(np.ndarray, 0, dtype=\"int8\")))"
   ]
  },
  {
   "cell_type": "code",
   "execution_count": 28,
   "metadata": {
    "execution": {
     "iopub.execute_input": "2020-12-18T14:46:41.437505Z",
     "iopub.status.busy": "2020-12-18T14:46:41.436291Z",
     "iopub.status.idle": "2020-12-18T14:46:41.460434Z",
     "shell.execute_reply": "2020-12-18T14:46:41.459403Z"
    },
    "papermill": {
     "duration": 2.399235,
     "end_time": "2020-12-18T14:46:41.460568",
     "exception": false,
     "start_time": "2020-12-18T14:46:39.061333",
     "status": "completed"
    },
    "tags": []
   },
   "outputs": [],
   "source": [
    "answered_correctly_array = train_df[target].values\n",
    "train_df.drop(target, axis=1, inplace=True)\n",
    "answered_correctly_array = answered_correctly_array[train_index]"
   ]
  },
  {
   "cell_type": "markdown",
   "metadata": {
    "papermill": {
     "duration": 0.038841,
     "end_time": "2020-12-18T14:46:41.537927",
     "exception": false,
     "start_time": "2020-12-18T14:46:41.499086",
     "status": "completed"
    },
    "tags": []
   },
   "source": [
    "# data formation"
   ]
  },
  {
   "cell_type": "code",
   "execution_count": 29,
   "metadata": {
    "execution": {
     "iopub.execute_input": "2020-12-18T14:46:41.624712Z",
     "iopub.status.busy": "2020-12-18T14:46:41.623910Z",
     "iopub.status.idle": "2020-12-18T14:46:54.132725Z",
     "shell.execute_reply": "2020-12-18T14:46:54.133311Z"
    },
    "papermill": {
     "duration": 12.55754,
     "end_time": "2020-12-18T14:46:54.133495",
     "exception": false,
     "start_time": "2020-12-18T14:46:41.575955",
     "status": "completed"
    },
    "tags": []
   },
   "outputs": [],
   "source": [
    "if not FULL_TRAIN:\n",
    "    train_df = train_df[train_df.index.isin(train_index)].reset_index(drop=True)\n",
    "    if CV_SCHEME == \"original\":\n",
    "        valid_index = list(train_df.groupby('user_id').tail(valid_size).index)\n",
    "    else:\n",
    "        valid_index = list(train_df['viretual_time_stamp'].nlargest(2500000).index)\n",
    "    train_index = list(train_df[~train_df.index.isin(valid_index)].index)\n",
    "del train_df"
   ]
  },
  {
   "cell_type": "code",
   "execution_count": 30,
   "metadata": {
    "execution": {
     "iopub.execute_input": "2020-12-18T14:46:54.220565Z",
     "iopub.status.busy": "2020-12-18T14:46:54.219663Z",
     "iopub.status.idle": "2020-12-18T14:46:54.223090Z",
     "shell.execute_reply": "2020-12-18T14:46:54.224279Z"
    },
    "papermill": {
     "duration": 0.053331,
     "end_time": "2020-12-18T14:46:54.224511",
     "exception": false,
     "start_time": "2020-12-18T14:46:54.171180",
     "status": "completed"
    },
    "tags": []
   },
   "outputs": [
    {
     "name": "stdout",
     "output_type": "stream",
     "text": [
      "22\n"
     ]
    }
   ],
   "source": [
    "features_dict = {\n",
    "    'content_id': content_id_array,\n",
    "    'prior_question_elapsed_time': prior_question_elapsed_time_array,\n",
    "    'prior_question_had_explanation':  prior_question_had_explanation_array,\n",
    "    'user_correctness': user_correctness_array,\n",
    "    'part': part_array,\n",
    "    'content_count': content_count_array,\n",
    "    'count': count_array,\n",
    "    'first_attempt': first_attempt_array,\n",
    "    'day_timestamp': day_timestamp_array,\n",
    "    'count_inday': count_inday_array,\n",
    "    'unique_attempt': unique_attempt_array,\n",
    "    'part_count': part_count_array,\n",
    "    'part_ratio': part_ratio_array,\n",
    "    'prior_question_had_explanation_mean': prior_question_had_explanation_mean_array,\n",
    "    'got_point': got_point_array,\n",
    "    'answered_correctly_last7': answered_correctly_last7_array,   \n",
    "    'timediff': timediff_array,\n",
    "    'timediff2': timediff2_array,\n",
    "    'community': community_array,\n",
    "    'tag_acc': tag_acc_array,\n",
    "    'community_count': community_count_array,\n",
    "    'time_from_last_lec': time_from_last_lec_array\n",
    "}\n",
    "\n",
    "features = list(features_dict.keys())\n",
    "print(len(features))\n",
    "\n",
    "del content_count_array, content_id_array, user_correctness_array, \n",
    "del first_attempt_array, count_array, prior_question_had_explanation_mean_array\n",
    "del part_count_array, part_ratio_array\n",
    "del answered_correctly_last7_array, timediff_array, timediff2_array, community_array,\n",
    "del tag_acc_array, community_count_array, time_from_last_lec_array"
   ]
  },
  {
   "cell_type": "code",
   "execution_count": 31,
   "metadata": {
    "execution": {
     "iopub.execute_input": "2020-12-18T14:46:54.309561Z",
     "iopub.status.busy": "2020-12-18T14:46:54.308714Z",
     "iopub.status.idle": "2020-12-18T14:46:54.314629Z",
     "shell.execute_reply": "2020-12-18T14:46:54.313259Z"
    },
    "papermill": {
     "duration": 0.050317,
     "end_time": "2020-12-18T14:46:54.314822",
     "exception": false,
     "start_time": "2020-12-18T14:46:54.264505",
     "status": "completed"
    },
    "tags": []
   },
   "outputs": [
    {
     "name": "stdout",
     "output_type": "stream",
     "text": [
      "(6536675, 23) (2360984, 23)\n"
     ]
    }
   ],
   "source": [
    "if FULL_TRAIN:\n",
    "    print(len(train_index), len(features)+1)\n",
    "else:\n",
    "    print((len(train_index), len(features)+1), (len(valid_index), len(features)+1))"
   ]
  },
  {
   "cell_type": "markdown",
   "metadata": {
    "papermill": {
     "duration": 0.037838,
     "end_time": "2020-12-18T14:46:54.392249",
     "exception": false,
     "start_time": "2020-12-18T14:46:54.354411",
     "status": "completed"
    },
    "tags": []
   },
   "source": [
    "# Train"
   ]
  },
  {
   "cell_type": "code",
   "execution_count": 32,
   "metadata": {
    "execution": {
     "iopub.execute_input": "2020-12-18T14:46:54.475727Z",
     "iopub.status.busy": "2020-12-18T14:46:54.474729Z",
     "iopub.status.idle": "2020-12-18T14:46:54.478632Z",
     "shell.execute_reply": "2020-12-18T14:46:54.478096Z"
    },
    "papermill": {
     "duration": 0.048351,
     "end_time": "2020-12-18T14:46:54.478763",
     "exception": false,
     "start_time": "2020-12-18T14:46:54.430412",
     "status": "completed"
    },
    "tags": []
   },
   "outputs": [],
   "source": [
    "params = {\n",
    "    'objective': 'binary',\n",
    "    'seed': 42,\n",
    "    'metric': 'auc',\n",
    "    'learning_rate': 0.05,\n",
    "    'max_bin': 800,\n",
    "    'num_leaves': 80\n",
    "}"
   ]
  },
  {
   "cell_type": "code",
   "execution_count": 33,
   "metadata": {
    "execution": {
     "iopub.execute_input": "2020-12-18T14:46:54.665463Z",
     "iopub.status.busy": "2020-12-18T14:46:54.660019Z",
     "iopub.status.idle": "2020-12-18T14:47:41.113972Z",
     "shell.execute_reply": "2020-12-18T14:47:41.114496Z"
    },
    "papermill": {
     "duration": 46.596847,
     "end_time": "2020-12-18T14:47:41.114679",
     "exception": false,
     "start_time": "2020-12-18T14:46:54.517832",
     "status": "completed"
    },
    "tags": []
   },
   "outputs": [],
   "source": [
    "if FULL_TRAIN:\n",
    "    X_train = np.ndarray(shape=(len(train_index), len(features)), dtype=np.float32)\n",
    "\n",
    "    for idx, feature in enumerate(features):\n",
    "        X_train[:,idx] = features_dict[feature].astype(np.float32).reshape(-1)\n",
    "        del features_dict[feature]\n",
    "    y_train = answered_correctly_array.astype(np.float32)\n",
    "    tr_data = lgb.Dataset(X_train, label=y_train)\n",
    "else:\n",
    "    X_train = np.ndarray(shape=(len(train_index), len(features)), dtype=np.float32)\n",
    "    X_valid = np.ndarray(shape=(len(valid_index), len(features)), dtype=np.float32)\n",
    "\n",
    "    for idx, feature in enumerate(features):\n",
    "        X_train[:,idx] = features_dict[feature][train_index].astype(np.float32).reshape(-1)\n",
    "        X_valid[:,idx] = features_dict[feature][valid_index].astype(np.float32).reshape(-1)\n",
    "        del features_dict[feature]\n",
    "    y_train = answered_correctly_array[train_index].astype(np.float32)\n",
    "    y_valid = answered_correctly_array[valid_index].astype(np.float32)\n",
    "\n",
    "    tr_data = lgb.Dataset(X_train, label=y_train)\n",
    "    va_data = lgb.Dataset(X_valid, label=y_valid)"
   ]
  },
  {
   "cell_type": "code",
   "execution_count": 34,
   "metadata": {
    "execution": {
     "iopub.execute_input": "2020-12-18T14:47:41.195712Z",
     "iopub.status.busy": "2020-12-18T14:47:41.194685Z",
     "iopub.status.idle": "2020-12-18T15:45:14.093874Z",
     "shell.execute_reply": "2020-12-18T15:45:14.095102Z"
    },
    "papermill": {
     "duration": 3452.942714,
     "end_time": "2020-12-18T15:45:14.096045",
     "exception": false,
     "start_time": "2020-12-18T14:47:41.153331",
     "status": "completed"
    },
    "tags": []
   },
   "outputs": [
    {
     "name": "stdout",
     "output_type": "stream",
     "text": [
      "training starts\n",
      "Training until validation scores don't improve for 25 rounds\n",
      "[50]\ttraining's auc: 0.765276\tvalid_1's auc: 0.751154\n",
      "[100]\ttraining's auc: 0.76983\tvalid_1's auc: 0.756422\n",
      "[150]\ttraining's auc: 0.772079\tvalid_1's auc: 0.758816\n",
      "[200]\ttraining's auc: 0.773463\tvalid_1's auc: 0.760101\n",
      "[250]\ttraining's auc: 0.774377\tvalid_1's auc: 0.760854\n",
      "[300]\ttraining's auc: 0.775049\tvalid_1's auc: 0.761335\n",
      "[350]\ttraining's auc: 0.775592\tvalid_1's auc: 0.761657\n",
      "[400]\ttraining's auc: 0.776049\tvalid_1's auc: 0.761885\n",
      "[450]\ttraining's auc: 0.776452\tvalid_1's auc: 0.762058\n",
      "[500]\ttraining's auc: 0.77684\tvalid_1's auc: 0.76221\n",
      "[550]\ttraining's auc: 0.777215\tvalid_1's auc: 0.762365\n",
      "[600]\ttraining's auc: 0.777618\tvalid_1's auc: 0.762544\n",
      "[650]\ttraining's auc: 0.77798\tvalid_1's auc: 0.762708\n",
      "[700]\ttraining's auc: 0.778337\tvalid_1's auc: 0.762879\n",
      "[750]\ttraining's auc: 0.778662\tvalid_1's auc: 0.763018\n",
      "[800]\ttraining's auc: 0.779007\tvalid_1's auc: 0.763128\n",
      "[850]\ttraining's auc: 0.779343\tvalid_1's auc: 0.763226\n",
      "[900]\ttraining's auc: 0.779649\tvalid_1's auc: 0.763317\n",
      "[950]\ttraining's auc: 0.779985\tvalid_1's auc: 0.76342\n",
      "[1000]\ttraining's auc: 0.780275\tvalid_1's auc: 0.763497\n",
      "[1050]\ttraining's auc: 0.780583\tvalid_1's auc: 0.763585\n",
      "[1100]\ttraining's auc: 0.780904\tvalid_1's auc: 0.763681\n",
      "[1150]\ttraining's auc: 0.781226\tvalid_1's auc: 0.763766\n",
      "[1200]\ttraining's auc: 0.781508\tvalid_1's auc: 0.763833\n",
      "[1250]\ttraining's auc: 0.78178\tvalid_1's auc: 0.763893\n",
      "[1300]\ttraining's auc: 0.782068\tvalid_1's auc: 0.763942\n",
      "[1350]\ttraining's auc: 0.782348\tvalid_1's auc: 0.763998\n",
      "[1400]\ttraining's auc: 0.782636\tvalid_1's auc: 0.764058\n",
      "[1450]\ttraining's auc: 0.782922\tvalid_1's auc: 0.764127\n",
      "[1500]\ttraining's auc: 0.783184\tvalid_1's auc: 0.764162\n",
      "[1550]\ttraining's auc: 0.78346\tvalid_1's auc: 0.764219\n",
      "[1600]\ttraining's auc: 0.7837\tvalid_1's auc: 0.764248\n",
      "[1650]\ttraining's auc: 0.78397\tvalid_1's auc: 0.764275\n",
      "[1700]\ttraining's auc: 0.784203\tvalid_1's auc: 0.764297\n",
      "[1750]\ttraining's auc: 0.784458\tvalid_1's auc: 0.764331\n",
      "[1800]\ttraining's auc: 0.784704\tvalid_1's auc: 0.764353\n",
      "[1850]\ttraining's auc: 0.784977\tvalid_1's auc: 0.764394\n",
      "[1900]\ttraining's auc: 0.785225\tvalid_1's auc: 0.764411\n",
      "[1950]\ttraining's auc: 0.785495\tvalid_1's auc: 0.764439\n",
      "Did not meet early stopping. Best iteration is:\n",
      "[1950]\ttraining's auc: 0.785495\tvalid_1's auc: 0.764439\n"
     ]
    }
   ],
   "source": [
    "print(\"training starts\")\n",
    "if FULL_TRAIN:\n",
    "    model = lgb.train(\n",
    "        params, \n",
    "        tr_data, \n",
    "        num_boost_round=3500,\n",
    "        valid_sets=None, \n",
    "        )\n",
    "    del X_train, y_train\n",
    "\n",
    "else:\n",
    "    model = lgb.train(\n",
    "        params, \n",
    "        tr_data, \n",
    "        num_boost_round=1950,\n",
    "        valid_sets=[tr_data, va_data], \n",
    "        early_stopping_rounds=25,\n",
    "        verbose_eval=50\n",
    "        )\n",
    "    del X_train, y_train, X_valid, y_valid"
   ]
  },
  {
   "cell_type": "markdown",
   "metadata": {
    "papermill": {
     "duration": 0.066908,
     "end_time": "2020-12-18T15:45:14.231728",
     "exception": false,
     "start_time": "2020-12-18T15:45:14.164820",
     "status": "completed"
    },
    "tags": []
   },
   "source": [
    "# Inference"
   ]
  },
  {
   "cell_type": "code",
   "execution_count": 35,
   "metadata": {
    "execution": {
     "iopub.execute_input": "2020-12-18T15:45:14.354585Z",
     "iopub.status.busy": "2020-12-18T15:45:14.353768Z",
     "iopub.status.idle": "2020-12-18T15:45:14.357154Z",
     "shell.execute_reply": "2020-12-18T15:45:14.356638Z"
    },
    "papermill": {
     "duration": 0.069608,
     "end_time": "2020-12-18T15:45:14.357274",
     "exception": false,
     "start_time": "2020-12-18T15:45:14.287666",
     "status": "completed"
    },
    "tags": []
   },
   "outputs": [],
   "source": [
    "env = riiideducation.make_env()\n",
    "iter_test = env.iter_test()\n",
    "prior_test_df = None"
   ]
  },
  {
   "cell_type": "code",
   "execution_count": 36,
   "metadata": {
    "execution": {
     "iopub.execute_input": "2020-12-18T15:45:14.744547Z",
     "iopub.status.busy": "2020-12-18T15:45:14.738827Z",
     "iopub.status.idle": "2020-12-18T15:45:16.795073Z",
     "shell.execute_reply": "2020-12-18T15:45:16.795586Z"
    },
    "papermill": {
     "duration": 2.382447,
     "end_time": "2020-12-18T15:45:16.795753",
     "exception": false,
     "start_time": "2020-12-18T15:45:14.413306",
     "status": "completed"
    },
    "tags": []
   },
   "outputs": [
    {
     "name": "stdout",
     "output_type": "stream",
     "text": [
      "CPU times: user 2.56 s, sys: 112 ms, total: 2.67 s\n",
      "Wall time: 2.03 s\n"
     ]
    }
   ],
   "source": [
    "%%time\n",
    "for (test_df, sample_prediction_df) in iter_test:\n",
    "    if prior_test_df is not None:\n",
    "        prior_test_df[target] = eval(test_df['prior_group_answers_correct'].iloc[0])\n",
    "        prior_test_df = prior_test_df[prior_test_df[target] != -1].reset_index(drop=True)\n",
    "        \n",
    "        user_ids = prior_test_df['user_id'].values\n",
    "        content_ids = prior_test_df['content_id'].values\n",
    "        targets = prior_test_df[target].values\n",
    "         \n",
    "        for user_id, content_id, answered_correctly, first_attempt_ornot, prior_explanation, prior_point, prior_community in zip(user_ids, content_ids, \n",
    "                                                            targets, \n",
    "                                                            prior_f_attempt_arrays,\n",
    "                                                            p_prior_question_had_explanation,\n",
    "                                                            prior_point_array,\n",
    "                                                            prior_community_arrays):\n",
    "            user_sum_dict[user_id] += answered_correctly\n",
    "            user_count_dict[user_id] += 1\n",
    "            content_sum_dict[content_id] += answered_correctly\n",
    "            content_count_dict[content_id] += 1\n",
    "            user_unique_dict[user_id] += first_attempt_ornot\n",
    "            user_prior_question_had_explanation_sum_dict[user_id] += prior_explanation\n",
    "            user_point_sum_dict[user_id] += prior_point * answered_correctly\n",
    "            if len(user_last7_answer_dict[user_id])==7:\n",
    "                user_last7_answer_dict[user_id] = np.concatenate([user_last7_answer_dict[user_id],[answered_correctly]])[1:]\n",
    "            else:\n",
    "                user_last7_answer_dict[user_id] = np.concatenate([user_last7_answer_dict[user_id],[answered_correctly]])\n",
    "            \n",
    "            user_community_correct_dict[user_id][prior_community] += answered_correctly\n",
    "            user_community_count_dict[user_id][prior_community] += 1\n",
    "            community_count_dict[prior_community] += 1\n",
    "            \n",
    "    prior_test_df = test_df.copy()\n",
    "    \n",
    "    time_from_last_lec_array = np.zeros(len(test_df), dtype = np.int64)\n",
    "    for i, (user_id, content_type_id, timestamp) in enumerate(zip(test_df['user_id'].values, test_df['content_type_id'].values,\n",
    "                                                             test_df['timestamp'].values)):\n",
    "        if content_type_id == 1:\n",
    "            time_from_last_lec_array[i] = 0\n",
    "            user_last_lec_time_dict[user_id] = timestamp\n",
    "        else:\n",
    "            if user_last_lec_time_dict[user_id] != -1:\n",
    "                time_from_last_lec_array[i] = timestamp - user_last_lec_time_dict[user_id]\n",
    "            else:\n",
    "                time_from_last_lec_array[i] = -1\n",
    "           \n",
    "    test_df['time_from_last_lec'] = time_from_last_lec_array \n",
    "    test_df = test_df[test_df['content_type_id'] == 0].reset_index(drop=True)\n",
    "    test_df = pd.merge(test_df, questions_df, left_on='content_id', right_on='question_id', how='left', right_index=True).reset_index(drop=True)\n",
    "    test_df['prior_question_had_explanation'] = test_df['prior_question_had_explanation'].fillna(False).astype('bool')\n",
    "    test_df['prior_question_elapsed_time'] = test_df['prior_question_elapsed_time'].fillna(0)\n",
    "    test_df['day_timestamp'] = (test_df['timestamp'] // 86400000) + 1\n",
    "\n",
    "    p_prior_question_had_explanation = test_df['prior_question_had_explanation'].values\n",
    "    prior_community_arrays = test_df['community'].values\n",
    "    \n",
    "    user_sum = np.zeros(len(test_df), dtype=np.int16)\n",
    "    user_count = np.zeros(len(test_df), dtype=np.int16)\n",
    "    content_sum = np.zeros(len(test_df), dtype=np.int32)\n",
    "    content_count = np.zeros(len(test_df), dtype=np.int32)\n",
    "    part_count = np.zeros(len(test_df), dtype=np.int32)\n",
    "    user_count_inday = np.zeros(len(test_df), dtype=np.int32)\n",
    "    first_attempt_values = []\n",
    "    user_unique_count = np.zeros(len(test_df), dtype=np.int32)\n",
    "    user_prior_question_had_explanation_sum = np.zeros(len(test_df), dtype=np.int32)\n",
    "    got_point_array = np.zeros(len(test_df), dtype=np.float32)\n",
    "    user_last7_accuracy_array = np.zeros(len(test_df), dtype=np.float32)\n",
    "    timediff_array = np.zeros(len(test_df), dtype = np.int64)\n",
    "    timediff2_array = np.zeros(len(test_df), dtype = np.int64)\n",
    "    tag_acc_array = np.zeros(len(test_df), dtype=np.float32)\n",
    "    community_count_array = np.zeros(len(test_df), dtype=np.int32)\n",
    "\n",
    "    for i, (user_id, content_id, day_timestamp, timestamp, community, part) in enumerate(zip(test_df['user_id'].values, test_df['content_id'].values,\n",
    "                                                             test_df['day_timestamp'].values,\n",
    "                                                             test_df['timestamp'].values,\n",
    "                                                             test_df['community'].values,\n",
    "                                                             test_df['part'].values)):\n",
    "        user_sum[i] = user_sum_dict[user_id]\n",
    "        user_count[i] = user_count_dict[user_id]\n",
    "        content_sum[i] = content_sum_dict[content_id]\n",
    "        content_count[i] = content_count_dict[content_id]\n",
    "        part_count[i] = user_part_count_dict[user_id][part] + 1\n",
    "        user_part_count_dict[user_id][part] += 1\n",
    "        first_attempt_values.append(user_content_dict[user_id][content_id])\n",
    "        user_content_dict[user_id][content_id] = False \n",
    "        \n",
    "        if user_day_timestamp_dict[user_id] == day_timestamp:\n",
    "            user_count_inday_dict[user_id] += 1\n",
    "        else:\n",
    "            user_count_inday_dict[user_id] = 1\n",
    "            user_day_timestamp_dict[user_id] = day_timestamp\n",
    "            \n",
    "        user_count_inday[i] = user_count_inday_dict[user_id]\n",
    "        user_unique_count[i] = user_unique_dict[user_id]\n",
    "        user_prior_question_had_explanation_sum[i] = user_prior_question_had_explanation_sum_dict[user_id]\n",
    "        got_point_array[i] = user_point_sum_dict[user_id]\n",
    "        \n",
    "        if len(user_last7_answer_dict[user_id])==7:\n",
    "            user_last7_accuracy_array[i] = user_last7_answer_dict[user_id].mean()\n",
    "        else:\n",
    "            user_last7_accuracy_array[i] = np.nan\n",
    "        \n",
    "        if len(user_timestamp_max_dict[user_id]) ==0:\n",
    "            timediff_array[i] = -1\n",
    "            timediff2_array[i] = -1\n",
    "            user_timestamp_max_dict[user_id] = np.concatenate([user_timestamp_max_dict[user_id],[timestamp]])\n",
    "            \n",
    "        elif len(user_timestamp_max_dict[user_id]) ==1:\n",
    "            timediff_array[i] = timestamp - user_timestamp_max_dict[user_id][0]\n",
    "            timediff2_array[i] = -1\n",
    "            user_timestamp_max_dict[user_id] = np.concatenate([user_timestamp_max_dict[user_id],[timestamp]])\n",
    "            \n",
    "        else:\n",
    "            timediff_array[i] = timestamp - user_timestamp_max_dict[user_id][1]\n",
    "            timediff2_array[i] = timestamp - user_timestamp_max_dict[user_id][0]\n",
    "            user_timestamp_max_dict[user_id] = np.concatenate([user_timestamp_max_dict[user_id],[timestamp]])[1:]                     \n",
    "            \n",
    "        if user_community_count_dict[user_id][community] == 0:\n",
    "            tag_acc_array[i] = -1\n",
    "        else:\n",
    "            tag_acc_array[i] = user_community_correct_dict[user_id][community] / user_community_count_dict[user_id][community]\n",
    "            \n",
    "        community_count_array[i] = community_count_dict[community]\n",
    "        \n",
    "    test_df['user_correctness'] = user_sum / user_count\n",
    "    test_df['content_count'] = content_count\n",
    "    test_df['content_id'] = content_sum / content_count\n",
    "    test_df['count'] = 1\n",
    "    test_df['count'] = test_df.groupby(\"user_id\")[\"count\"].cumsum()\n",
    "    test_df['count'] += user_count\n",
    "    test_df['part_count'] = part_count\n",
    "    test_df['part_ratio'] = part_count / test_df['count'].values\n",
    "    test_df[\"first_attempt\"] = first_attempt_values\n",
    "    test_df['count_inday'] = user_count_inday\n",
    "    test_df[\"unique_attempt\"] = test_df.groupby(\"user_id\")[\"first_attempt\"].cumsum()\n",
    "    test_df[\"unique_attempt\"] += user_unique_count\n",
    "    test_df['prior_question_had_explanation_mean'] = user_prior_question_had_explanation_sum / user_count\n",
    "    test_df['got_point'] = got_point_array / user_count\n",
    "    test_df['answered_correctly_last7'] = user_last7_accuracy_array\n",
    "    test_df['timediff'] = timediff_array\n",
    "    test_df['timediff2'] = timediff2_array\n",
    "    test_df['tag_acc'] = tag_acc_array\n",
    "    test_df['community_count'] = community_count_array\n",
    "    \n",
    "    prior_f_attempt_arrays = test_df['first_attempt'].values\n",
    "    prior_point_array = 1 / (test_df.content_id.values + 0.1)\n",
    "    \n",
    "    test_df[target] = model.predict(test_df[features])\n",
    "    env.predict(test_df[['row_id', target]])"
   ]
  },
  {
   "cell_type": "code",
   "execution_count": null,
   "metadata": {
    "papermill": {
     "duration": 0.051954,
     "end_time": "2020-12-18T15:45:16.899940",
     "exception": false,
     "start_time": "2020-12-18T15:45:16.847986",
     "status": "completed"
    },
    "tags": []
   },
   "outputs": [],
   "source": []
  }
 ],
 "metadata": {
  "kernelspec": {
   "display_name": "Python 3",
   "language": "python",
   "name": "python3"
  },
  "language_info": {
   "codemirror_mode": {
    "name": "ipython",
    "version": 3
   },
   "file_extension": ".py",
   "mimetype": "text/x-python",
   "name": "python",
   "nbconvert_exporter": "python",
   "pygments_lexer": "ipython3",
   "version": "3.7.6"
  },
  "papermill": {
   "duration": 4565.299538,
   "end_time": "2020-12-18T15:45:17.170781",
   "environment_variables": {},
   "exception": null,
   "input_path": "__notebook__.ipynb",
   "output_path": "__notebook__.ipynb",
   "parameters": {},
   "start_time": "2020-12-18T14:29:11.871243",
   "version": "2.1.0"
  }
 },
 "nbformat": 4,
 "nbformat_minor": 4
}
