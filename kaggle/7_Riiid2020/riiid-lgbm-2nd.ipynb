{
 "cells": [
  {
   "cell_type": "markdown",
   "metadata": {
    "papermill": {
     "duration": 0.017923,
     "end_time": "2020-12-01T12:46:49.338278",
     "exception": false,
     "start_time": "2020-12-01T12:46:49.320355",
     "status": "completed"
    },
    "tags": []
   },
   "source": [
    "- refine the code again to save memory\n",
    "- add part accuracy"
   ]
  },
  {
   "cell_type": "code",
   "execution_count": 1,
   "metadata": {
    "_cell_guid": "b1076dfc-b9ad-4769-8c92-a6c4dae69d19",
    "_uuid": "8f2839f25d086af736a60e9eeb907d3b93b6e0e5",
    "execution": {
     "iopub.execute_input": "2020-12-01T12:46:49.374190Z",
     "iopub.status.busy": "2020-12-01T12:46:49.373498Z",
     "iopub.status.idle": "2020-12-01T12:47:18.708939Z",
     "shell.execute_reply": "2020-12-01T12:47:18.708199Z"
    },
    "papermill": {
     "duration": 29.35584,
     "end_time": "2020-12-01T12:47:18.709062",
     "exception": false,
     "start_time": "2020-12-01T12:46:49.353222",
     "status": "completed"
    },
    "tags": []
   },
   "outputs": [],
   "source": [
    "!pip install ../input/python-datatable/datatable-0.11.0-cp37-cp37m-manylinux2010_x86_64.whl > /dev/null 2>&1"
   ]
  },
  {
   "cell_type": "code",
   "execution_count": 2,
   "metadata": {
    "_cell_guid": "79c7e3d0-c299-4dcb-8224-4455121ee9b0",
    "_uuid": "d629ff2d2480ee46fbb7e2d37f6b5fab8052498a",
    "execution": {
     "iopub.execute_input": "2020-12-01T12:47:18.747412Z",
     "iopub.status.busy": "2020-12-01T12:47:18.746693Z",
     "iopub.status.idle": "2020-12-01T12:47:19.896814Z",
     "shell.execute_reply": "2020-12-01T12:47:19.897640Z"
    },
    "papermill": {
     "duration": 1.17316,
     "end_time": "2020-12-01T12:47:19.897862",
     "exception": false,
     "start_time": "2020-12-01T12:47:18.724702",
     "status": "completed"
    },
    "tags": []
   },
   "outputs": [
    {
     "data": {
      "text/html": [
       "<style type='text/css'>\n",
       ".datatable table.frame { margin-bottom: 0; }\n",
       ".datatable table.frame thead { border-bottom: none; }\n",
       ".datatable table.frame tr.coltypes td {  color: #FFFFFF;  line-height: 6px;  padding: 0 0.5em;}\n",
       ".datatable .bool    { background: #DDDD99; }\n",
       ".datatable .object  { background: #565656; }\n",
       ".datatable .int     { background: #5D9E5D; }\n",
       ".datatable .float   { background: #4040CC; }\n",
       ".datatable .str     { background: #CC4040; }\n",
       ".datatable .row_index {  background: var(--jp-border-color3);  border-right: 1px solid var(--jp-border-color0);  color: var(--jp-ui-font-color3);  font-size: 9px;}\n",
       ".datatable .frame tr.coltypes .row_index {  background: var(--jp-border-color0);}\n",
       ".datatable th:nth-child(2) { padding-left: 12px; }\n",
       ".datatable .hellipsis {  color: var(--jp-cell-editor-border-color);}\n",
       ".datatable .vellipsis {  background: var(--jp-layout-color0);  color: var(--jp-cell-editor-border-color);}\n",
       ".datatable .na {  color: var(--jp-cell-editor-border-color);  font-size: 80%;}\n",
       ".datatable .footer { font-size: 9px; }\n",
       ".datatable .frame_dimensions {  background: var(--jp-border-color3);  border-top: 1px solid var(--jp-border-color0);  color: var(--jp-ui-font-color3);  display: inline-block;  opacity: 0.6;  padding: 1px 10px 1px 5px;}\n",
       ".datatable .frame thead tr.colnames {  background-image: url('data:image/png;base64,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');  background-repeat: repeat-x;  background-size: 14px;  height: 28px;}\n",
       "</style>\n"
      ],
      "text/plain": [
       "<IPython.core.display.HTML object>"
      ]
     },
     "metadata": {},
     "output_type": "display_data"
    },
    {
     "name": "stderr",
     "output_type": "stream",
     "text": [
      "/opt/conda/lib/python3.7/site-packages/ipykernel_launcher.py:10: TqdmDeprecationWarning: This function will be removed in tqdm==5.0.0\n",
      "Please use `tqdm.notebook.*` instead of `tqdm._tqdm_notebook.*`\n",
      "  # Remove the CWD from sys.path while we load stuff.\n",
      "/opt/conda/lib/python3.7/site-packages/tqdm/std.py:666: FutureWarning: The Panel class is removed from pandas. Accessing it from the top-level namespace will also be removed in the next version\n",
      "  from pandas import Panel\n"
     ]
    }
   ],
   "source": [
    "import numpy as np\n",
    "import pandas as pd\n",
    "from collections import defaultdict\n",
    "import datatable as dt\n",
    "import lightgbm as lgb\n",
    "from matplotlib import pyplot as plt\n",
    "import riiideducation\n",
    "from bitarray import bitarray\n",
    "\n",
    "from tqdm._tqdm_notebook import tqdm_notebook\n",
    "tqdm_notebook.pandas(desc=\"progress: \")\n",
    "\n",
    "_ = np.seterr(divide='ignore', invalid='ignore')"
   ]
  },
  {
   "cell_type": "code",
   "execution_count": 3,
   "metadata": {
    "execution": {
     "iopub.execute_input": "2020-12-01T12:47:19.937608Z",
     "iopub.status.busy": "2020-12-01T12:47:19.936965Z",
     "iopub.status.idle": "2020-12-01T12:47:19.940429Z",
     "shell.execute_reply": "2020-12-01T12:47:19.939858Z"
    },
    "papermill": {
     "duration": 0.02422,
     "end_time": "2020-12-01T12:47:19.940541",
     "exception": false,
     "start_time": "2020-12-01T12:47:19.916321",
     "status": "completed"
    },
    "tags": []
   },
   "outputs": [],
   "source": [
    "def make_bitarray():\n",
    "    a = bitarray(32737, endian='little')\n",
    "    a.setall(True)   \n",
    "    return a"
   ]
  },
  {
   "cell_type": "markdown",
   "metadata": {
    "papermill": {
     "duration": 0.016404,
     "end_time": "2020-12-01T12:47:19.973704",
     "exception": false,
     "start_time": "2020-12-01T12:47:19.957300",
     "status": "completed"
    },
    "tags": []
   },
   "source": [
    "# Preprocess"
   ]
  },
  {
   "cell_type": "code",
   "execution_count": 4,
   "metadata": {
    "execution": {
     "iopub.execute_input": "2020-12-01T12:47:20.013400Z",
     "iopub.status.busy": "2020-12-01T12:47:20.012628Z",
     "iopub.status.idle": "2020-12-01T12:47:20.015708Z",
     "shell.execute_reply": "2020-12-01T12:47:20.015169Z"
    },
    "papermill": {
     "duration": 0.025426,
     "end_time": "2020-12-01T12:47:20.015836",
     "exception": false,
     "start_time": "2020-12-01T12:47:19.990410",
     "status": "completed"
    },
    "tags": []
   },
   "outputs": [],
   "source": [
    "data_types_dict = {\n",
    "    #'row_id': 'uint32',\n",
    "    'user_id': 'int32', \n",
    "    'content_id': 'int16', \n",
    "    'answered_correctly': 'int8', \n",
    "    'prior_question_elapsed_time': 'float32', \n",
    "    'prior_question_had_explanation': 'bool'\n",
    "}\n",
    "target = 'answered_correctly'"
   ]
  },
  {
   "cell_type": "code",
   "execution_count": 5,
   "metadata": {
    "execution": {
     "iopub.execute_input": "2020-12-01T12:47:20.055779Z",
     "iopub.status.busy": "2020-12-01T12:47:20.055063Z",
     "iopub.status.idle": "2020-12-01T12:49:20.960293Z",
     "shell.execute_reply": "2020-12-01T12:49:20.958964Z"
    },
    "papermill": {
     "duration": 120.928466,
     "end_time": "2020-12-01T12:49:20.960755",
     "exception": false,
     "start_time": "2020-12-01T12:47:20.032289",
     "status": "completed"
    },
    "tags": []
   },
   "outputs": [],
   "source": [
    "train_df = dt.fread('../input/riiid-test-answer-prediction/train.csv', columns=set(data_types_dict.keys())).to_pandas()\n",
    "\n",
    "train_df = train_df[train_df[target] != -1].reset_index(drop=True)\n",
    "train_df['prior_question_had_explanation'].fillna(False, inplace=True)\n",
    "train_df = train_df.astype(data_types_dict)\n",
    "train_index = list(train_df.groupby('user_id').tail(24).index)"
   ]
  },
  {
   "cell_type": "code",
   "execution_count": 6,
   "metadata": {
    "execution": {
     "iopub.execute_input": "2020-12-01T12:49:21.020858Z",
     "iopub.status.busy": "2020-12-01T12:49:21.020094Z",
     "iopub.status.idle": "2020-12-01T12:49:37.913027Z",
     "shell.execute_reply": "2020-12-01T12:49:37.912358Z"
    },
    "papermill": {
     "duration": 16.930983,
     "end_time": "2020-12-01T12:49:37.913183",
     "exception": false,
     "start_time": "2020-12-01T12:49:20.982200",
     "status": "completed"
    },
    "tags": []
   },
   "outputs": [],
   "source": [
    "questions_df = pd.read_csv(\n",
    "    '../input/riiid-test-answer-prediction/questions.csv', \n",
    "    usecols=[0, 3],\n",
    "    dtype={'question_id': 'int16', 'part': 'int8'}\n",
    ")\n",
    "train_df = pd.merge(train_df, questions_df, left_on='content_id', right_on='question_id', how='left', right_index=True).reset_index(drop=True)\n",
    "train_df.drop(columns=['question_id'], inplace=True)"
   ]
  },
  {
   "cell_type": "code",
   "execution_count": 7,
   "metadata": {
    "execution": {
     "iopub.execute_input": "2020-12-01T12:49:37.954718Z",
     "iopub.status.busy": "2020-12-01T12:49:37.954016Z",
     "iopub.status.idle": "2020-12-01T12:49:55.253496Z",
     "shell.execute_reply": "2020-12-01T12:49:55.252891Z"
    },
    "papermill": {
     "duration": 17.323229,
     "end_time": "2020-12-01T12:49:55.253641",
     "exception": false,
     "start_time": "2020-12-01T12:49:37.930412",
     "status": "completed"
    },
    "tags": []
   },
   "outputs": [],
   "source": [
    "train_df['lag'] = train_df.groupby('user_id')[target].shift()\n",
    "cum = train_df.groupby('user_id')['lag'].agg(['cumsum', 'cumcount'])\n",
    "user_correctness_array = np.array(cum['cumsum'] / cum['cumcount'])\n",
    "user_correctness_array = user_correctness_array[train_index]\n",
    "train_df.drop(columns=['lag'], inplace=True)\n",
    "del cum"
   ]
  },
  {
   "cell_type": "code",
   "execution_count": 8,
   "metadata": {
    "execution": {
     "iopub.execute_input": "2020-12-01T12:49:55.294476Z",
     "iopub.status.busy": "2020-12-01T12:49:55.293851Z",
     "iopub.status.idle": "2020-12-01T12:50:22.152583Z",
     "shell.execute_reply": "2020-12-01T12:50:22.151863Z"
    },
    "papermill": {
     "duration": 26.882237,
     "end_time": "2020-12-01T12:50:22.152720",
     "exception": false,
     "start_time": "2020-12-01T12:49:55.270483",
     "status": "completed"
    },
    "tags": []
   },
   "outputs": [],
   "source": [
    "train_df[\"reading_part\"] = train_df[\"part\"] >=5\n",
    "train_df[\"reading_part\"] = train_df[\"reading_part\"].astype(\"int8\")\n",
    "train_df['reading_part_lag'] = train_df.groupby('user_id')[\"reading_part\"].shift()\n",
    "cum = train_df.groupby('user_id')['reading_part_lag'].agg(['cumsum']) \n",
    "reading_part_ratio_array = cum['cumsum'].values\n",
    "reading_part_ratio_array = reading_part_ratio_array[train_index]\n",
    "train_df.drop(columns=['reading_part_lag', 'reading_part'], inplace=True)\n",
    "del cum"
   ]
  },
  {
   "cell_type": "code",
   "execution_count": 9,
   "metadata": {
    "execution": {
     "iopub.execute_input": "2020-12-01T12:50:22.194173Z",
     "iopub.status.busy": "2020-12-01T12:50:22.193477Z",
     "iopub.status.idle": "2020-12-01T12:50:47.768121Z",
     "shell.execute_reply": "2020-12-01T12:50:47.767415Z"
    },
    "papermill": {
     "duration": 25.598544,
     "end_time": "2020-12-01T12:50:47.768242",
     "exception": false,
     "start_time": "2020-12-01T12:50:22.169698",
     "status": "completed"
    },
    "tags": []
   },
   "outputs": [],
   "source": [
    "train_df[\"listening_part\"] = (train_df[\"part\"] >=1) | (train_df[\"part\"] <=4)\n",
    "train_df[\"listening_part\"] = train_df[\"listening_part\"].astype(\"int8\")\n",
    "train_df['listening_part_lag'] = train_df.groupby('user_id')[\"listening_part\"].shift()\n",
    "cum = train_df.groupby('user_id')['listening_part_lag'].agg(['cumsum']) \n",
    "listening_part_ratio_array = cum['cumsum'].values\n",
    "listening_part_ratio_array = listening_part_ratio_array[train_index]\n",
    "train_df.drop(columns=['listening_part_lag', 'listening_part'], inplace=True)\n",
    "del cum"
   ]
  },
  {
   "cell_type": "code",
   "execution_count": 10,
   "metadata": {
    "execution": {
     "iopub.execute_input": "2020-12-01T12:50:47.812517Z",
     "iopub.status.busy": "2020-12-01T12:50:47.811868Z",
     "iopub.status.idle": "2020-12-01T12:51:12.812355Z",
     "shell.execute_reply": "2020-12-01T12:51:12.811801Z"
    },
    "papermill": {
     "duration": 25.026218,
     "end_time": "2020-12-01T12:51:12.812468",
     "exception": false,
     "start_time": "2020-12-01T12:50:47.786250",
     "status": "completed"
    },
    "tags": []
   },
   "outputs": [],
   "source": [
    "#train_df[\"first_attempt\"] = train_df[[\"row_id\", \"user_id\", \"content_id\"]].groupby(\"user_id\").progress_apply(lambda x: \n",
    "#                               pd.DataFrame(np.isin(x[\"row_id\"].values, x.drop_duplicates(\"content_id\")[\"row_id\"].values))).values\n",
    "#train_df.drop(\"row_id\", axis=1, inplace=True)\n",
    "\n",
    "first_attempt_df = pd.read_csv(\"../input/riiid-additional-data/content_first_attempt.csv\")\n",
    "first_attempt_array = first_attempt_df.first_attempt.values\n",
    "first_attempt_array = first_attempt_array[train_index]\n",
    "del first_attempt_df"
   ]
  },
  {
   "cell_type": "code",
   "execution_count": 11,
   "metadata": {
    "execution": {
     "iopub.execute_input": "2020-12-01T12:51:12.856404Z",
     "iopub.status.busy": "2020-12-01T12:51:12.855804Z",
     "iopub.status.idle": "2020-12-01T12:51:26.664981Z",
     "shell.execute_reply": "2020-12-01T12:51:26.664312Z"
    },
    "papermill": {
     "duration": 13.835261,
     "end_time": "2020-12-01T12:51:26.665095",
     "exception": false,
     "start_time": "2020-12-01T12:51:12.829834",
     "status": "completed"
    },
    "tags": []
   },
   "outputs": [],
   "source": [
    "user_agg = train_df.groupby('user_id')[target].agg(['sum', 'count'])\n",
    "content_agg = train_df.groupby('content_id')[target].agg(['sum', 'count'])\n",
    "\n",
    "user_sum_dict = user_agg['sum'].astype('int16').to_dict(defaultdict(int))\n",
    "user_count_dict = user_agg['count'].astype('int16').to_dict(defaultdict(int))\n",
    "content_sum_dict = content_agg['sum'].astype('int32').to_dict(defaultdict(int))\n",
    "content_count_dict = content_agg['count'].astype('int32').to_dict(defaultdict(int))\n",
    "\n",
    "content_count_array = train_df['content_id'].map(content_agg['count']).astype('int32').values\n",
    "content_id_array = train_df['content_id'].map(content_agg['sum'] / content_agg['count']).values\n",
    "content_count_array = content_count_array[train_index]\n",
    "content_id_array = content_id_array[train_index]\n",
    "\n",
    "del user_agg, content_agg"
   ]
  },
  {
   "cell_type": "code",
   "execution_count": 12,
   "metadata": {
    "execution": {
     "iopub.execute_input": "2020-12-01T12:51:26.706993Z",
     "iopub.status.busy": "2020-12-01T12:51:26.706307Z",
     "iopub.status.idle": "2020-12-01T12:53:12.282694Z",
     "shell.execute_reply": "2020-12-01T12:53:12.283214Z"
    },
    "papermill": {
     "duration": 105.601073,
     "end_time": "2020-12-01T12:53:12.283377",
     "exception": false,
     "start_time": "2020-12-01T12:51:26.682304",
     "status": "completed"
    },
    "tags": []
   },
   "outputs": [
    {
     "name": "stdout",
     "output_type": "stream",
     "text": [
      "CPU times: user 1min 42s, sys: 2.57 s, total: 1min 45s\n",
      "Wall time: 1min 45s\n"
     ]
    }
   ],
   "source": [
    "%%time\n",
    "user_content_agg = train_df.groupby(\"user_id\")[\"content_id\"].unique().reset_index().set_index(\"user_id\")\n",
    "\n",
    "value = []\n",
    "for j in user_content_agg.index:\n",
    "    a = bitarray(32737, endian='little')\n",
    "    a.setall(True)\n",
    "    for i in user_content_agg.loc[j][0]:\n",
    "        a[i] = 0\n",
    "    value.append(a)\n",
    "    \n",
    "user_content_agg[\"content_exp\"] = value\n",
    "\n",
    "user_content_dict = user_content_agg[\"content_exp\"].to_dict(defaultdict(make_bitarray))\n",
    "del user_content_agg"
   ]
  },
  {
   "cell_type": "code",
   "execution_count": 13,
   "metadata": {
    "execution": {
     "iopub.execute_input": "2020-12-01T12:53:12.327430Z",
     "iopub.status.busy": "2020-12-01T12:53:12.326132Z",
     "iopub.status.idle": "2020-12-01T12:53:17.862795Z",
     "shell.execute_reply": "2020-12-01T12:53:17.863297Z"
    },
    "papermill": {
     "duration": 5.560698,
     "end_time": "2020-12-01T12:53:17.863462",
     "exception": false,
     "start_time": "2020-12-01T12:53:12.302764",
     "status": "completed"
    },
    "tags": []
   },
   "outputs": [],
   "source": [
    "train_df[\"count\"] = 1\n",
    "count_array = train_df.groupby(\"user_id\")[\"count\"].cumsum().values\n",
    "count_array = count_array[train_index]\n",
    "train_df.drop(\"count\", axis=1, inplace=True)"
   ]
  },
  {
   "cell_type": "code",
   "execution_count": 14,
   "metadata": {
    "execution": {
     "iopub.execute_input": "2020-12-01T12:53:17.925239Z",
     "iopub.status.busy": "2020-12-01T12:53:17.919890Z",
     "iopub.status.idle": "2020-12-01T12:55:27.087619Z",
     "shell.execute_reply": "2020-12-01T12:55:27.086960Z"
    },
    "papermill": {
     "duration": 129.204655,
     "end_time": "2020-12-01T12:55:27.087791",
     "exception": false,
     "start_time": "2020-12-01T12:53:17.883136",
     "status": "completed"
    },
    "tags": []
   },
   "outputs": [
    {
     "name": "stdout",
     "output_type": "stream",
     "text": [
      "1\n",
      "2\n",
      "3\n",
      "4\n",
      "5\n",
      "6\n",
      "7\n"
     ]
    }
   ],
   "source": [
    "num = 1\n",
    "print(num)\n",
    "train_df[\"part_\"+str(num)+\"_count\"] = train_df[\"part\"] == num\n",
    "train_df[\"part_\"+str(num)+\"_correct_count\"] = (train_df[\"part\"] == num) & (train_df[\"answered_correctly\"]==num)\n",
    "train_df[\"part_\"+str(num)+\"_count\"] = train_df.groupby(\"user_id\")[\"part_\"+str(num)+\"_count\"].cumsum().shift()\n",
    "train_df[\"part_\"+str(num)+\"_correct_count\"] = train_df.groupby(\"user_id\")[\"part_\"+str(num)+\"_correct_count\"].cumsum().shift()\n",
    "\n",
    "part1_accuracy_array = train_df[\"part_\"+str(num)+\"_correct_count\"].values / train_df[\"part_\"+str(num)+\"_count\"].values\n",
    "part1_accuracy_array = part1_accuracy_array[train_index]\n",
    "user_part1_count_agg = train_df.groupby('user_id')[\"part_\"+str(num)+\"_count\"].agg(['max'])\n",
    "user_part1_correct_agg = train_df.groupby('user_id')[\"part_\"+str(num)+\"_correct_count\"].agg(['max'])\n",
    "user_part1_count_dict = user_part1_count_agg['max'].astype('int32').to_dict(defaultdict(int))\n",
    "user_part1_correct_dict = user_part1_correct_agg['max'].astype('int32').to_dict(defaultdict(int))\n",
    "del user_part1_count_agg, user_part1_correct_agg\n",
    "train_df.drop([\"part_\"+str(num)+\"_count\", \"part_\"+str(num)+\"_correct_count\"], axis=1, inplace=True)\n",
    "\n",
    "num = 2\n",
    "print(num)\n",
    "train_df[\"part_\"+str(num)+\"_count\"] = train_df[\"part\"] == num\n",
    "train_df[\"part_\"+str(num)+\"_correct_count\"] = (train_df[\"part\"] == num) & (train_df[\"answered_correctly\"]==num)\n",
    "train_df[\"part_\"+str(num)+\"_count\"] = train_df.groupby(\"user_id\")[\"part_\"+str(num)+\"_count\"].cumsum().shift()\n",
    "train_df[\"part_\"+str(num)+\"_correct_count\"] = train_df.groupby(\"user_id\")[\"part_\"+str(num)+\"_correct_count\"].cumsum().shift()\n",
    "\n",
    "part2_accuracy_array = train_df[\"part_\"+str(num)+\"_correct_count\"].values / train_df[\"part_\"+str(num)+\"_count\"].values\n",
    "part2_accuracy_array = part2_accuracy_array[train_index]\n",
    "user_part2_count_agg = train_df.groupby('user_id')[\"part_\"+str(num)+\"_count\"].agg(['max'])\n",
    "user_part2_correct_agg = train_df.groupby('user_id')[\"part_\"+str(num)+\"_correct_count\"].agg(['max'])\n",
    "user_part2_count_dict = user_part2_count_agg['max'].astype('int32').to_dict(defaultdict(int))\n",
    "user_part2_correct_dict = user_part2_correct_agg['max'].astype('int32').to_dict(defaultdict(int))\n",
    "del user_part2_count_agg, user_part2_correct_agg\n",
    "train_df.drop([\"part_\"+str(num)+\"_count\", \"part_\"+str(num)+\"_correct_count\"], axis=1, inplace=True)\n",
    "\n",
    "num = 3\n",
    "print(num)\n",
    "train_df[\"part_\"+str(num)+\"_count\"] = train_df[\"part\"] == num\n",
    "train_df[\"part_\"+str(num)+\"_correct_count\"] = (train_df[\"part\"] == num) & (train_df[\"answered_correctly\"]==num)\n",
    "train_df[\"part_\"+str(num)+\"_count\"] = train_df.groupby(\"user_id\")[\"part_\"+str(num)+\"_count\"].cumsum().shift()\n",
    "train_df[\"part_\"+str(num)+\"_correct_count\"] = train_df.groupby(\"user_id\")[\"part_\"+str(num)+\"_correct_count\"].cumsum().shift()\n",
    "\n",
    "part3_accuracy_array = train_df[\"part_\"+str(num)+\"_correct_count\"].values / train_df[\"part_\"+str(num)+\"_count\"].values\n",
    "part3_accuracy_array = part3_accuracy_array[train_index]\n",
    "user_part3_count_agg = train_df.groupby('user_id')[\"part_\"+str(num)+\"_count\"].agg(['max'])\n",
    "user_part3_correct_agg = train_df.groupby('user_id')[\"part_\"+str(num)+\"_correct_count\"].agg(['max'])\n",
    "user_part3_count_dict = user_part3_count_agg['max'].astype('int32').to_dict(defaultdict(int))\n",
    "user_part3_correct_dict = user_part3_correct_agg['max'].astype('int32').to_dict(defaultdict(int))\n",
    "del user_part3_count_agg, user_part3_correct_agg\n",
    "train_df.drop([\"part_\"+str(num)+\"_count\", \"part_\"+str(num)+\"_correct_count\"], axis=1, inplace=True)\n",
    "\n",
    "num = 4\n",
    "print(num)\n",
    "train_df[\"part_\"+str(num)+\"_count\"] = train_df[\"part\"] == num\n",
    "train_df[\"part_\"+str(num)+\"_correct_count\"] = (train_df[\"part\"] == num) & (train_df[\"answered_correctly\"]==num)\n",
    "train_df[\"part_\"+str(num)+\"_count\"] = train_df.groupby(\"user_id\")[\"part_\"+str(num)+\"_count\"].cumsum().shift()\n",
    "train_df[\"part_\"+str(num)+\"_correct_count\"] = train_df.groupby(\"user_id\")[\"part_\"+str(num)+\"_correct_count\"].cumsum().shift()\n",
    "\n",
    "part4_accuracy_array = train_df[\"part_\"+str(num)+\"_correct_count\"].values / train_df[\"part_\"+str(num)+\"_count\"].values\n",
    "part4_accuracy_array = part4_accuracy_array[train_index]\n",
    "user_part4_count_agg = train_df.groupby('user_id')[\"part_\"+str(num)+\"_count\"].agg(['max'])\n",
    "user_part4_correct_agg = train_df.groupby('user_id')[\"part_\"+str(num)+\"_correct_count\"].agg(['max'])\n",
    "user_part4_count_dict = user_part4_count_agg['max'].astype('int32').to_dict(defaultdict(int))\n",
    "user_part4_correct_dict = user_part4_correct_agg['max'].astype('int32').to_dict(defaultdict(int))\n",
    "del user_part4_count_agg, user_part4_correct_agg\n",
    "train_df.drop([\"part_\"+str(num)+\"_count\", \"part_\"+str(num)+\"_correct_count\"], axis=1, inplace=True)\n",
    "\n",
    "num = 5\n",
    "print(num)\n",
    "train_df[\"part_\"+str(num)+\"_count\"] = train_df[\"part\"] == num\n",
    "train_df[\"part_\"+str(num)+\"_correct_count\"] = (train_df[\"part\"] == num) & (train_df[\"answered_correctly\"]==num)\n",
    "train_df[\"part_\"+str(num)+\"_count\"] = train_df.groupby(\"user_id\")[\"part_\"+str(num)+\"_count\"].cumsum().shift()\n",
    "train_df[\"part_\"+str(num)+\"_correct_count\"] = train_df.groupby(\"user_id\")[\"part_\"+str(num)+\"_correct_count\"].cumsum().shift()\n",
    "\n",
    "part5_accuracy_array = train_df[\"part_\"+str(num)+\"_correct_count\"].values / train_df[\"part_\"+str(num)+\"_count\"].values\n",
    "part5_accuracy_array = part5_accuracy_array[train_index]\n",
    "user_part5_count_agg = train_df.groupby('user_id')[\"part_\"+str(num)+\"_count\"].agg(['max'])\n",
    "user_part5_correct_agg = train_df.groupby('user_id')[\"part_\"+str(num)+\"_correct_count\"].agg(['max'])\n",
    "user_part5_count_dict = user_part5_count_agg['max'].astype('int32').to_dict(defaultdict(int))\n",
    "user_part5_correct_dict = user_part5_correct_agg['max'].astype('int32').to_dict(defaultdict(int))\n",
    "del user_part5_count_agg, user_part5_correct_agg\n",
    "train_df.drop([\"part_\"+str(num)+\"_count\", \"part_\"+str(num)+\"_correct_count\"], axis=1, inplace=True)\n",
    "\n",
    "num = 6\n",
    "print(num)\n",
    "train_df[\"part_\"+str(num)+\"_count\"] = train_df[\"part\"] == num\n",
    "train_df[\"part_\"+str(num)+\"_correct_count\"] = (train_df[\"part\"] == num) & (train_df[\"answered_correctly\"]==num)\n",
    "train_df[\"part_\"+str(num)+\"_count\"] = train_df.groupby(\"user_id\")[\"part_\"+str(num)+\"_count\"].cumsum().shift()\n",
    "train_df[\"part_\"+str(num)+\"_correct_count\"] = train_df.groupby(\"user_id\")[\"part_\"+str(num)+\"_correct_count\"].cumsum().shift()\n",
    "\n",
    "part6_accuracy_array = train_df[\"part_\"+str(num)+\"_correct_count\"].values / train_df[\"part_\"+str(num)+\"_count\"].values\n",
    "part6_accuracy_array = part6_accuracy_array[train_index]\n",
    "user_part6_count_agg = train_df.groupby('user_id')[\"part_\"+str(num)+\"_count\"].agg(['max'])\n",
    "user_part6_correct_agg = train_df.groupby('user_id')[\"part_\"+str(num)+\"_correct_count\"].agg(['max'])\n",
    "user_part6_count_dict = user_part6_count_agg['max'].astype('int32').to_dict(defaultdict(int))\n",
    "user_part6_correct_dict = user_part6_correct_agg['max'].astype('int32').to_dict(defaultdict(int))\n",
    "del user_part6_count_agg, user_part6_correct_agg\n",
    "train_df.drop([\"part_\"+str(num)+\"_count\", \"part_\"+str(num)+\"_correct_count\"], axis=1, inplace=True)\n",
    "\n",
    "num = 7\n",
    "print(num)\n",
    "train_df[\"part_\"+str(num)+\"_count\"] = train_df[\"part\"] == num\n",
    "train_df[\"part_\"+str(num)+\"_correct_count\"] = (train_df[\"part\"] == num) & (train_df[\"answered_correctly\"]==num)\n",
    "\n",
    "train_df[\"part_\"+str(num)+\"_count\"] = train_df.groupby(\"user_id\")[\"part_\"+str(num)+\"_count\"].cumsum().shift()\n",
    "train_df[\"part_\"+str(num)+\"_correct_count\"] = train_df.groupby(\"user_id\")[\"part_\"+str(num)+\"_correct_count\"].cumsum().shift()\n",
    "\n",
    "part7_accuracy_array = train_df[\"part_\"+str(num)+\"_correct_count\"].values / train_df[\"part_\"+str(num)+\"_count\"].values\n",
    "part7_accuracy_array = part7_accuracy_array[train_index]\n",
    "user_part7_count_agg = train_df.groupby('user_id')[\"part_\"+str(num)+\"_count\"].agg(['max'])\n",
    "user_part7_correct_agg = train_df.groupby('user_id')[\"part_\"+str(num)+\"_correct_count\"].agg(['max'])\n",
    "user_part7_count_dict = user_part7_count_agg['max'].astype('int32').to_dict(defaultdict(int))\n",
    "user_part7_correct_dict = user_part7_correct_agg['max'].astype('int32').to_dict(defaultdict(int))\n",
    "del user_part7_count_agg, user_part7_correct_agg\n",
    "train_df.drop([\"part_\"+str(num)+\"_count\", \"part_\"+str(num)+\"_correct_count\"], axis=1, inplace=True)"
   ]
  },
  {
   "cell_type": "code",
   "execution_count": 15,
   "metadata": {
    "execution": {
     "iopub.execute_input": "2020-12-01T12:55:27.134436Z",
     "iopub.status.busy": "2020-12-01T12:55:27.133807Z",
     "iopub.status.idle": "2020-12-01T12:55:34.024309Z",
     "shell.execute_reply": "2020-12-01T12:55:34.023583Z"
    },
    "papermill": {
     "duration": 6.915514,
     "end_time": "2020-12-01T12:55:34.024457",
     "exception": false,
     "start_time": "2020-12-01T12:55:27.108943",
     "status": "completed"
    },
    "tags": []
   },
   "outputs": [],
   "source": [
    "train_df = train_df.groupby('user_id').tail(24).reset_index(drop=True)"
   ]
  },
  {
   "cell_type": "code",
   "execution_count": 16,
   "metadata": {
    "execution": {
     "iopub.execute_input": "2020-12-01T12:55:34.073185Z",
     "iopub.status.busy": "2020-12-01T12:55:34.071704Z",
     "iopub.status.idle": "2020-12-01T12:55:34.440293Z",
     "shell.execute_reply": "2020-12-01T12:55:34.439539Z"
    },
    "papermill": {
     "duration": 0.395597,
     "end_time": "2020-12-01T12:55:34.440424",
     "exception": false,
     "start_time": "2020-12-01T12:55:34.044827",
     "status": "completed"
    },
    "tags": []
   },
   "outputs": [],
   "source": [
    "train_df['content_count'] = content_count_array\n",
    "train_df['content_id'] = content_id_array\n",
    "train_df['user_correctness'] = user_correctness_array\n",
    "train_df['reading_part_ratio'] = reading_part_ratio_array\n",
    "train_df['listening_part_ratio'] = listening_part_ratio_array\n",
    "train_df['first_attempt'] = first_attempt_array\n",
    "train_df['count'] = count_array\n",
    "train_df['part1_accuracy'] = part1_accuracy_array\n",
    "train_df['part2_accuracy'] = part2_accuracy_array\n",
    "train_df['part3_accuracy'] = part3_accuracy_array\n",
    "train_df['part4_accuracy'] = part4_accuracy_array\n",
    "train_df['part5_accuracy'] = part5_accuracy_array\n",
    "train_df['part6_accuracy'] = part6_accuracy_array\n",
    "train_df['part7_accuracy'] = part7_accuracy_array"
   ]
  },
  {
   "cell_type": "code",
   "execution_count": 17,
   "metadata": {
    "execution": {
     "iopub.execute_input": "2020-12-01T12:55:34.487871Z",
     "iopub.status.busy": "2020-12-01T12:55:34.487222Z",
     "iopub.status.idle": "2020-12-01T12:55:35.526836Z",
     "shell.execute_reply": "2020-12-01T12:55:35.527382Z"
    },
    "papermill": {
     "duration": 1.067132,
     "end_time": "2020-12-01T12:55:35.527527",
     "exception": false,
     "start_time": "2020-12-01T12:55:34.460395",
     "status": "completed"
    },
    "tags": []
   },
   "outputs": [],
   "source": [
    "user_listening_agg = train_df.groupby('user_id')[\"listening_part_ratio\"].agg(['max'])\n",
    "user_reading_agg = train_df.groupby('user_id')[\"reading_part_ratio\"].agg(['max'])\n",
    "user_reading_agg['max'].fillna(0,inplace=True)\n",
    "user_listening_agg['max'].fillna(0,inplace=True)\n",
    "\n",
    "user_reading_dict = user_reading_agg['max'].astype('int32').to_dict(defaultdict(int))\n",
    "user_listening_dict = user_listening_agg['max'].astype('int32').to_dict(defaultdict(int))\n",
    "\n",
    "del user_reading_agg, user_listening_agg"
   ]
  },
  {
   "cell_type": "code",
   "execution_count": 18,
   "metadata": {
    "execution": {
     "iopub.execute_input": "2020-12-01T12:55:35.573329Z",
     "iopub.status.busy": "2020-12-01T12:55:35.572664Z",
     "iopub.status.idle": "2020-12-01T12:55:38.326339Z",
     "shell.execute_reply": "2020-12-01T12:55:38.325804Z"
    },
    "papermill": {
     "duration": 2.77849,
     "end_time": "2020-12-01T12:55:38.326463",
     "exception": false,
     "start_time": "2020-12-01T12:55:35.547973",
     "status": "completed"
    },
    "tags": []
   },
   "outputs": [],
   "source": [
    "valid_df = train_df.groupby('user_id').tail(6)\n",
    "train_df.drop(valid_df.index, inplace=True)"
   ]
  },
  {
   "cell_type": "code",
   "execution_count": 19,
   "metadata": {
    "execution": {
     "iopub.execute_input": "2020-12-01T12:55:38.382752Z",
     "iopub.status.busy": "2020-12-01T12:55:38.381751Z",
     "iopub.status.idle": "2020-12-01T12:55:38.496054Z",
     "shell.execute_reply": "2020-12-01T12:55:38.495330Z"
    },
    "papermill": {
     "duration": 0.149102,
     "end_time": "2020-12-01T12:55:38.496176",
     "exception": false,
     "start_time": "2020-12-01T12:55:38.347074",
     "status": "completed"
    },
    "tags": []
   },
   "outputs": [
    {
     "data": {
      "text/html": [
       "<div>\n",
       "<style scoped>\n",
       "    .dataframe tbody tr th:only-of-type {\n",
       "        vertical-align: middle;\n",
       "    }\n",
       "\n",
       "    .dataframe tbody tr th {\n",
       "        vertical-align: top;\n",
       "    }\n",
       "\n",
       "    .dataframe thead th {\n",
       "        text-align: right;\n",
       "    }\n",
       "</style>\n",
       "<table border=\"1\" class=\"dataframe\">\n",
       "  <thead>\n",
       "    <tr style=\"text-align: right;\">\n",
       "      <th></th>\n",
       "      <th>user_id</th>\n",
       "      <th>content_id</th>\n",
       "      <th>answered_correctly</th>\n",
       "      <th>prior_question_elapsed_time</th>\n",
       "      <th>prior_question_had_explanation</th>\n",
       "      <th>part</th>\n",
       "      <th>content_count</th>\n",
       "      <th>user_correctness</th>\n",
       "      <th>reading_part_ratio</th>\n",
       "      <th>listening_part_ratio</th>\n",
       "      <th>first_attempt</th>\n",
       "      <th>count</th>\n",
       "      <th>part1_accuracy</th>\n",
       "      <th>part2_accuracy</th>\n",
       "      <th>part3_accuracy</th>\n",
       "      <th>part4_accuracy</th>\n",
       "      <th>part5_accuracy</th>\n",
       "      <th>part6_accuracy</th>\n",
       "      <th>part7_accuracy</th>\n",
       "    </tr>\n",
       "  </thead>\n",
       "  <tbody>\n",
       "    <tr>\n",
       "      <th>0</th>\n",
       "      <td>115</td>\n",
       "      <td>0.687217</td>\n",
       "      <td>0</td>\n",
       "      <td>19000.0</td>\n",
       "      <td>False</td>\n",
       "      <td>1</td>\n",
       "      <td>36674</td>\n",
       "      <td>0.727273</td>\n",
       "      <td>2.0</td>\n",
       "      <td>22.0</td>\n",
       "      <td>True</td>\n",
       "      <td>23</td>\n",
       "      <td>0.700000</td>\n",
       "      <td>NaN</td>\n",
       "      <td>NaN</td>\n",
       "      <td>NaN</td>\n",
       "      <td>0.0</td>\n",
       "      <td>NaN</td>\n",
       "      <td>NaN</td>\n",
       "    </tr>\n",
       "    <tr>\n",
       "      <th>1</th>\n",
       "      <td>115</td>\n",
       "      <td>0.608222</td>\n",
       "      <td>0</td>\n",
       "      <td>21000.0</td>\n",
       "      <td>False</td>\n",
       "      <td>1</td>\n",
       "      <td>47047</td>\n",
       "      <td>0.695652</td>\n",
       "      <td>2.0</td>\n",
       "      <td>23.0</td>\n",
       "      <td>True</td>\n",
       "      <td>24</td>\n",
       "      <td>0.666667</td>\n",
       "      <td>NaN</td>\n",
       "      <td>NaN</td>\n",
       "      <td>NaN</td>\n",
       "      <td>0.0</td>\n",
       "      <td>NaN</td>\n",
       "      <td>NaN</td>\n",
       "    </tr>\n",
       "    <tr>\n",
       "      <th>2</th>\n",
       "      <td>115</td>\n",
       "      <td>0.601824</td>\n",
       "      <td>1</td>\n",
       "      <td>22000.0</td>\n",
       "      <td>False</td>\n",
       "      <td>1</td>\n",
       "      <td>40452</td>\n",
       "      <td>0.666667</td>\n",
       "      <td>2.0</td>\n",
       "      <td>24.0</td>\n",
       "      <td>True</td>\n",
       "      <td>25</td>\n",
       "      <td>0.636364</td>\n",
       "      <td>NaN</td>\n",
       "      <td>NaN</td>\n",
       "      <td>NaN</td>\n",
       "      <td>0.0</td>\n",
       "      <td>NaN</td>\n",
       "      <td>NaN</td>\n",
       "    </tr>\n",
       "    <tr>\n",
       "      <th>3</th>\n",
       "      <td>115</td>\n",
       "      <td>0.418436</td>\n",
       "      <td>1</td>\n",
       "      <td>16000.0</td>\n",
       "      <td>False</td>\n",
       "      <td>1</td>\n",
       "      <td>190170</td>\n",
       "      <td>0.680000</td>\n",
       "      <td>2.0</td>\n",
       "      <td>25.0</td>\n",
       "      <td>True</td>\n",
       "      <td>26</td>\n",
       "      <td>0.652174</td>\n",
       "      <td>NaN</td>\n",
       "      <td>NaN</td>\n",
       "      <td>NaN</td>\n",
       "      <td>0.0</td>\n",
       "      <td>NaN</td>\n",
       "      <td>NaN</td>\n",
       "    </tr>\n",
       "    <tr>\n",
       "      <th>4</th>\n",
       "      <td>115</td>\n",
       "      <td>0.474545</td>\n",
       "      <td>1</td>\n",
       "      <td>20000.0</td>\n",
       "      <td>False</td>\n",
       "      <td>1</td>\n",
       "      <td>56707</td>\n",
       "      <td>0.692308</td>\n",
       "      <td>2.0</td>\n",
       "      <td>26.0</td>\n",
       "      <td>True</td>\n",
       "      <td>27</td>\n",
       "      <td>0.666667</td>\n",
       "      <td>NaN</td>\n",
       "      <td>NaN</td>\n",
       "      <td>NaN</td>\n",
       "      <td>0.0</td>\n",
       "      <td>NaN</td>\n",
       "      <td>NaN</td>\n",
       "    </tr>\n",
       "  </tbody>\n",
       "</table>\n",
       "</div>"
      ],
      "text/plain": [
       "   user_id  content_id  answered_correctly  prior_question_elapsed_time  \\\n",
       "0      115    0.687217                   0                      19000.0   \n",
       "1      115    0.608222                   0                      21000.0   \n",
       "2      115    0.601824                   1                      22000.0   \n",
       "3      115    0.418436                   1                      16000.0   \n",
       "4      115    0.474545                   1                      20000.0   \n",
       "\n",
       "   prior_question_had_explanation  part  content_count  user_correctness  \\\n",
       "0                           False     1          36674          0.727273   \n",
       "1                           False     1          47047          0.695652   \n",
       "2                           False     1          40452          0.666667   \n",
       "3                           False     1         190170          0.680000   \n",
       "4                           False     1          56707          0.692308   \n",
       "\n",
       "   reading_part_ratio  listening_part_ratio  first_attempt  count  \\\n",
       "0                 2.0                  22.0           True     23   \n",
       "1                 2.0                  23.0           True     24   \n",
       "2                 2.0                  24.0           True     25   \n",
       "3                 2.0                  25.0           True     26   \n",
       "4                 2.0                  26.0           True     27   \n",
       "\n",
       "   part1_accuracy  part2_accuracy  part3_accuracy  part4_accuracy  \\\n",
       "0        0.700000             NaN             NaN             NaN   \n",
       "1        0.666667             NaN             NaN             NaN   \n",
       "2        0.636364             NaN             NaN             NaN   \n",
       "3        0.652174             NaN             NaN             NaN   \n",
       "4        0.666667             NaN             NaN             NaN   \n",
       "\n",
       "   part5_accuracy  part6_accuracy  part7_accuracy  \n",
       "0             0.0             NaN             NaN  \n",
       "1             0.0             NaN             NaN  \n",
       "2             0.0             NaN             NaN  \n",
       "3             0.0             NaN             NaN  \n",
       "4             0.0             NaN             NaN  "
      ]
     },
     "execution_count": 19,
     "metadata": {},
     "output_type": "execute_result"
    }
   ],
   "source": [
    "train_df.head()"
   ]
  },
  {
   "cell_type": "markdown",
   "metadata": {
    "papermill": {
     "duration": 0.023372,
     "end_time": "2020-12-01T12:55:38.551113",
     "exception": false,
     "start_time": "2020-12-01T12:55:38.527741",
     "status": "completed"
    },
    "tags": []
   },
   "source": [
    "# Train"
   ]
  },
  {
   "cell_type": "code",
   "execution_count": 20,
   "metadata": {
    "execution": {
     "iopub.execute_input": "2020-12-01T12:55:38.603207Z",
     "iopub.status.busy": "2020-12-01T12:55:38.602337Z",
     "iopub.status.idle": "2020-12-01T12:55:38.605526Z",
     "shell.execute_reply": "2020-12-01T12:55:38.606638Z"
    },
    "papermill": {
     "duration": 0.034873,
     "end_time": "2020-12-01T12:55:38.606890",
     "exception": false,
     "start_time": "2020-12-01T12:55:38.572017",
     "status": "completed"
    },
    "tags": []
   },
   "outputs": [
    {
     "name": "stdout",
     "output_type": "stream",
     "text": [
      "17\n"
     ]
    }
   ],
   "source": [
    "features = [\n",
    "    'content_id',\n",
    "    'prior_question_elapsed_time',\n",
    "    'prior_question_had_explanation',\n",
    "    'user_correctness',\n",
    "    'part',\n",
    "    'content_count',\n",
    "    'count',\n",
    "    'reading_part_ratio',\n",
    "    'listening_part_ratio',\n",
    "    'first_attempt',\n",
    "    'part1_accuracy',\n",
    "    'part2_accuracy',\n",
    "    'part3_accuracy',\n",
    "    'part4_accuracy',\n",
    "    'part5_accuracy',\n",
    "    'part6_accuracy',\n",
    "    'part7_accuracy'\n",
    "]\n",
    "\n",
    "params = {\n",
    "    'objective': 'binary',\n",
    "    'seed': 42,\n",
    "    'metric': 'auc',\n",
    "    'learning_rate': 0.05,\n",
    "    'max_bin': 800,\n",
    "    'num_leaves': 80\n",
    "}\n",
    "print(len(features))"
   ]
  },
  {
   "cell_type": "code",
   "execution_count": 21,
   "metadata": {
    "execution": {
     "iopub.execute_input": "2020-12-01T12:55:38.887433Z",
     "iopub.status.busy": "2020-12-01T12:55:38.873066Z",
     "iopub.status.idle": "2020-12-01T13:43:35.570302Z",
     "shell.execute_reply": "2020-12-01T13:43:35.569540Z"
    },
    "papermill": {
     "duration": 2876.940882,
     "end_time": "2020-12-01T13:43:35.570546",
     "exception": false,
     "start_time": "2020-12-01T12:55:38.629664",
     "status": "completed"
    },
    "tags": []
   },
   "outputs": [
    {
     "name": "stdout",
     "output_type": "stream",
     "text": [
      "Training until validation scores don't improve for 50 rounds\n",
      "[50]\ttraining's auc: 0.757218\tvalid_1's auc: 0.741771\n",
      "[100]\ttraining's auc: 0.759661\tvalid_1's auc: 0.74484\n",
      "[150]\ttraining's auc: 0.760803\tvalid_1's auc: 0.746019\n",
      "[200]\ttraining's auc: 0.761464\tvalid_1's auc: 0.746576\n",
      "[250]\ttraining's auc: 0.76189\tvalid_1's auc: 0.74683\n",
      "[300]\ttraining's auc: 0.76225\tvalid_1's auc: 0.747008\n",
      "[350]\ttraining's auc: 0.762545\tvalid_1's auc: 0.747131\n",
      "[400]\ttraining's auc: 0.762844\tvalid_1's auc: 0.747242\n",
      "[450]\ttraining's auc: 0.763103\tvalid_1's auc: 0.747325\n",
      "[500]\ttraining's auc: 0.763361\tvalid_1's auc: 0.747406\n",
      "[550]\ttraining's auc: 0.763605\tvalid_1's auc: 0.747482\n",
      "[600]\ttraining's auc: 0.763853\tvalid_1's auc: 0.747537\n",
      "[650]\ttraining's auc: 0.764094\tvalid_1's auc: 0.747602\n",
      "[700]\ttraining's auc: 0.76437\tvalid_1's auc: 0.747668\n",
      "[750]\ttraining's auc: 0.764597\tvalid_1's auc: 0.747701\n",
      "[800]\ttraining's auc: 0.764848\tvalid_1's auc: 0.74777\n",
      "[850]\ttraining's auc: 0.765066\tvalid_1's auc: 0.747814\n",
      "[900]\ttraining's auc: 0.765289\tvalid_1's auc: 0.747845\n",
      "[950]\ttraining's auc: 0.765525\tvalid_1's auc: 0.747894\n",
      "[1000]\ttraining's auc: 0.76575\tvalid_1's auc: 0.747924\n",
      "[1050]\ttraining's auc: 0.765955\tvalid_1's auc: 0.747939\n",
      "[1100]\ttraining's auc: 0.766167\tvalid_1's auc: 0.747962\n",
      "[1150]\ttraining's auc: 0.76637\tvalid_1's auc: 0.747994\n",
      "[1200]\ttraining's auc: 0.766581\tvalid_1's auc: 0.748033\n",
      "[1250]\ttraining's auc: 0.766798\tvalid_1's auc: 0.748069\n",
      "[1300]\ttraining's auc: 0.767015\tvalid_1's auc: 0.748106\n",
      "[1350]\ttraining's auc: 0.76723\tvalid_1's auc: 0.748152\n",
      "[1400]\ttraining's auc: 0.767446\tvalid_1's auc: 0.748179\n",
      "[1450]\ttraining's auc: 0.767654\tvalid_1's auc: 0.748205\n",
      "[1500]\ttraining's auc: 0.76786\tvalid_1's auc: 0.74823\n",
      "[1550]\ttraining's auc: 0.768054\tvalid_1's auc: 0.748243\n",
      "[1600]\ttraining's auc: 0.768246\tvalid_1's auc: 0.74826\n",
      "[1650]\ttraining's auc: 0.768423\tvalid_1's auc: 0.74826\n",
      "Early stopping, best iteration is:\n",
      "[1628]\ttraining's auc: 0.768344\tvalid_1's auc: 0.748262\n"
     ]
    },
    {
     "data": {
      "image/png": "[encoded data removed]",
      "text/plain": [
       "<Figure size 432x288 with 1 Axes>"
      ]
     },
     "metadata": {
      "needs_background": "light"
     },
     "output_type": "display_data"
    }
   ],
   "source": [
    "tr_data = lgb.Dataset(train_df[features], label=train_df[target])\n",
    "va_data = lgb.Dataset(valid_df[features], label=valid_df[target])\n",
    "\n",
    "model = lgb.train(\n",
    "    params, \n",
    "    tr_data, \n",
    "    num_boost_round=10000,\n",
    "    valid_sets=[tr_data, va_data], \n",
    "    early_stopping_rounds=50,\n",
    "    verbose_eval=50\n",
    ")\n",
    "\n",
    "lgb.plot_importance(model, importance_type='gain')\n",
    "plt.show()"
   ]
  },
  {
   "cell_type": "markdown",
   "metadata": {
    "papermill": {
     "duration": 0.032332,
     "end_time": "2020-12-01T13:43:35.635764",
     "exception": false,
     "start_time": "2020-12-01T13:43:35.603432",
     "status": "completed"
    },
    "tags": []
   },
   "source": [
    "# Inference"
   ]
  },
  {
   "cell_type": "code",
   "execution_count": 22,
   "metadata": {
    "execution": {
     "iopub.execute_input": "2020-12-01T13:43:35.707278Z",
     "iopub.status.busy": "2020-12-01T13:43:35.706510Z",
     "iopub.status.idle": "2020-12-01T13:43:35.709802Z",
     "shell.execute_reply": "2020-12-01T13:43:35.709184Z"
    },
    "papermill": {
     "duration": 0.041453,
     "end_time": "2020-12-01T13:43:35.709919",
     "exception": false,
     "start_time": "2020-12-01T13:43:35.668466",
     "status": "completed"
    },
    "tags": []
   },
   "outputs": [],
   "source": [
    "env = riiideducation.make_env()\n",
    "iter_test = env.iter_test()\n",
    "prior_test_df = None"
   ]
  },
  {
   "cell_type": "code",
   "execution_count": 23,
   "metadata": {
    "execution": {
     "iopub.execute_input": "2020-12-01T13:43:35.800412Z",
     "iopub.status.busy": "2020-12-01T13:43:35.799473Z",
     "iopub.status.idle": "2020-12-01T13:43:36.550498Z",
     "shell.execute_reply": "2020-12-01T13:43:36.551029Z"
    },
    "papermill": {
     "duration": 0.80856,
     "end_time": "2020-12-01T13:43:36.551178",
     "exception": false,
     "start_time": "2020-12-01T13:43:35.742618",
     "status": "completed"
    },
    "tags": []
   },
   "outputs": [
    {
     "name": "stdout",
     "output_type": "stream",
     "text": [
      "CPU times: user 1.21 s, sys: 102 ms, total: 1.32 s\n",
      "Wall time: 752 ms\n"
     ]
    }
   ],
   "source": [
    "%%time\n",
    "\n",
    "for (test_df, sample_prediction_df) in iter_test:\n",
    "    if prior_test_df is not None:\n",
    "        prior_test_df[target] = eval(test_df['prior_group_answers_correct'].iloc[0])\n",
    "        prior_test_df = prior_test_df[prior_test_df[target] != -1].reset_index(drop=True)\n",
    "        \n",
    "        user_ids = prior_test_df['user_id'].values\n",
    "        content_ids = prior_test_df['content_id'].values\n",
    "        targets = prior_test_df[target].values\n",
    "        parts = prior_part_arrays\n",
    "        \n",
    "        for user_id, content_id, answered_correctly, part in zip(user_ids, content_ids, targets, parts):\n",
    "            user_sum_dict[user_id] += answered_correctly\n",
    "            user_count_dict[user_id] += 1\n",
    "            content_sum_dict[content_id] += answered_correctly\n",
    "            content_count_dict[content_id] += 1\n",
    "            if part <=4:\n",
    "                user_listening_dict[user_id] +=1\n",
    "                if part ==1:\n",
    "                    user_part1_count_dict[user_id] += 1\n",
    "                    user_part1_correct_dict[user_id] += answered_correctly\n",
    "                if part ==2:\n",
    "                    user_part2_count_dict[user_id] += 1\n",
    "                    user_part2_correct_dict[user_id] += answered_correctly\n",
    "                if part ==3:\n",
    "                    user_part3_count_dict[user_id] += 1\n",
    "                    user_part3_correct_dict[user_id] += answered_correctly\n",
    "                else:\n",
    "                    user_part4_count_dict[user_id] += 1\n",
    "                    user_part4_correct_dict[user_id] += answered_correctly\n",
    "            else:\n",
    "                user_reading_dict[user_id] +=1\n",
    "                if part ==5:\n",
    "                    user_part5_count_dict[user_id] += 1\n",
    "                    user_part5_correct_dict[user_id] += answered_correctly\n",
    "                if part ==6:\n",
    "                    user_part6_count_dict[user_id] += 1\n",
    "                    user_part6_correct_dict[user_id] += answered_correctly\n",
    "                else:\n",
    "                    user_part7_count_dict[user_id] += 1\n",
    "                    user_part7_correct_dict[user_id] += answered_correctly\n",
    "\n",
    "    prior_test_df = test_df.copy()\n",
    "    \n",
    "    test_df = test_df[test_df['content_type_id'] == 0].reset_index(drop=True)\n",
    "    test_df = pd.merge(test_df, questions_df, left_on='content_id', right_on='question_id', how='left', right_index=True).reset_index(drop=True)\n",
    "    test_df['prior_question_had_explanation'] = test_df['prior_question_had_explanation'].fillna(False).astype('bool')    \n",
    "    \n",
    "    prior_part_arrays = test_df['part'].values\n",
    "    \n",
    "    user_sum = np.zeros(len(test_df), dtype=np.int16)\n",
    "    user_count = np.zeros(len(test_df), dtype=np.int16)\n",
    "    content_sum = np.zeros(len(test_df), dtype=np.int32)\n",
    "    content_count = np.zeros(len(test_df), dtype=np.int32)\n",
    "    listening_count = np.zeros(len(test_df), dtype=np.int32)\n",
    "    reading_count = np.zeros(len(test_df), dtype=np.int32)\n",
    "    first_attempt_values = []\n",
    "    part1_count = np.zeros(len(test_df), dtype=np.int32)\n",
    "    part1_correct_count = np.zeros(len(test_df), dtype=np.int32)\n",
    "    part2_count = np.zeros(len(test_df), dtype=np.int32)\n",
    "    part2_correct_count = np.zeros(len(test_df), dtype=np.int32)\n",
    "    part3_count = np.zeros(len(test_df), dtype=np.int32)\n",
    "    part3_correct_count = np.zeros(len(test_df), dtype=np.int32)\n",
    "    part4_count = np.zeros(len(test_df), dtype=np.int32)\n",
    "    part4_correct_count = np.zeros(len(test_df), dtype=np.int32)\n",
    "    part5_count = np.zeros(len(test_df), dtype=np.int32)\n",
    "    part5_correct_count = np.zeros(len(test_df), dtype=np.int32)\n",
    "    part6_count = np.zeros(len(test_df), dtype=np.int32)\n",
    "    part6_correct_count = np.zeros(len(test_df), dtype=np.int32)\n",
    "    part7_count = np.zeros(len(test_df), dtype=np.int32)\n",
    "    part7_correct_count = np.zeros(len(test_df), dtype=np.int32)\n",
    "    \n",
    "    for i, (user_id, content_id) in enumerate(zip(test_df['user_id'].values, test_df['content_id'].values)):\n",
    "        user_sum[i] = user_sum_dict[user_id]\n",
    "        user_count[i] = user_count_dict[user_id]\n",
    "        content_sum[i] = content_sum_dict[content_id]\n",
    "        content_count[i] = content_count_dict[content_id]\n",
    "        listening_count[i] = user_listening_dict[user_id]\n",
    "        reading_count[i] = user_reading_dict[user_id]\n",
    "        first_attempt_values.append(user_content_dict[user_id][content_id])\n",
    "        user_content_dict[user_id][content_id] = False \n",
    "        part1_count[i] = user_part1_count_dict[user_id]\n",
    "        part1_correct_count[i] = user_part1_correct_dict[user_id]\n",
    "        part2_count[i] = user_part2_count_dict[user_id]\n",
    "        part2_correct_count[i] = user_part2_correct_dict[user_id]\n",
    "        part3_count[i] = user_part3_count_dict[user_id]\n",
    "        part3_correct_count[i] = user_part3_correct_dict[user_id]\n",
    "        part4_count[i] = user_part4_count_dict[user_id]\n",
    "        part4_correct_count[i] = user_part4_correct_dict[user_id]\n",
    "        part5_count[i] = user_part5_count_dict[user_id]\n",
    "        part5_correct_count[i] = user_part5_correct_dict[user_id]\n",
    "        part6_count[i] = user_part6_count_dict[user_id]\n",
    "        part6_correct_count[i] = user_part6_correct_dict[user_id]\n",
    "        part7_count[i] = user_part7_count_dict[user_id]\n",
    "        part7_correct_count[i] = user_part7_correct_dict[user_id]\n",
    "            \n",
    "    test_df['user_correctness'] = user_sum / user_count\n",
    "    test_df['content_count'] = content_count\n",
    "    test_df['content_id'] = content_sum / content_count\n",
    "    test_df['count'] = 1\n",
    "    test_df['count'] = test_df.groupby(\"user_id\")[\"count\"].cumsum()\n",
    "    test_df['count'] += user_count\n",
    "    test_df['reading_part_ratio'] = reading_count\n",
    "    test_df['listening_part_ratio'] = listening_count\n",
    "    test_df[\"first_attempt\"] = first_attempt_values\n",
    "    test_df[\"part1_accuracy\"] = part1_correct_count / part1_count\n",
    "    test_df[\"part2_accuracy\"] = part2_correct_count / part2_count\n",
    "    test_df[\"part3_accuracy\"] = part3_correct_count / part3_count\n",
    "    test_df[\"part4_accuracy\"] = part4_correct_count / part4_count\n",
    "    test_df[\"part5_accuracy\"] = part5_correct_count / part5_count\n",
    "    test_df[\"part6_accuracy\"] = part6_correct_count / part6_count\n",
    "    test_df[\"part7_accuracy\"] = part7_correct_count / part7_count\n",
    "\n",
    "    test_df[target] = model.predict(test_df[features])\n",
    "    env.predict(test_df[['row_id', target]])"
   ]
  },
  {
   "cell_type": "code",
   "execution_count": null,
   "metadata": {
    "papermill": {
     "duration": 0.032633,
     "end_time": "2020-12-01T13:43:36.617344",
     "exception": false,
     "start_time": "2020-12-01T13:43:36.584711",
     "status": "completed"
    },
    "tags": []
   },
   "outputs": [],
   "source": []
  }
 ],
 "metadata": {
  "kernelspec": {
   "display_name": "Python 3",
   "language": "python",
   "name": "python3"
  },
  "language_info": {
   "codemirror_mode": {
    "name": "ipython",
    "version": 3
   },
   "file_extension": ".py",
   "mimetype": "text/x-python",
   "name": "python",
   "nbconvert_exporter": "python",
   "pygments_lexer": "ipython3",
   "version": "3.7.6"
  },
  "papermill": {
   "duration": 3413.183474,
   "end_time": "2020-12-01T13:43:37.835443",
   "environment_variables": {},
   "exception": null,
   "input_path": "__notebook__.ipynb",
   "output_path": "__notebook__.ipynb",
   "parameters": {},
   "start_time": "2020-12-01T12:46:44.651969",
   "version": "2.1.0"
  }
 },
 "nbformat": 4,
 "nbformat_minor": 4
}
