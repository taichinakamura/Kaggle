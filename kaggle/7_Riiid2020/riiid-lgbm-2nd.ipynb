{
 "cells": [
  {
   "cell_type": "markdown",
   "metadata": {
    "papermill": {
     "duration": 0.026162,
     "end_time": "2020-12-04T12:21:07.090023",
     "exception": false,
     "start_time": "2020-12-04T12:21:07.063861",
     "status": "completed"
    },
    "tags": []
   },
   "source": [
    "- cancel modifying timestamp\n",
    "- add unique content_id cumnum"
   ]
  },
  {
   "cell_type": "code",
   "execution_count": 1,
   "metadata": {
    "_cell_guid": "b1076dfc-b9ad-4769-8c92-a6c4dae69d19",
    "_uuid": "8f2839f25d086af736a60e9eeb907d3b93b6e0e5",
    "execution": {
     "iopub.execute_input": "2020-12-04T12:21:07.142849Z",
     "iopub.status.busy": "2020-12-04T12:21:07.141949Z",
     "iopub.status.idle": "2020-12-04T12:21:38.587486Z",
     "shell.execute_reply": "2020-12-04T12:21:38.586815Z"
    },
    "papermill": {
     "duration": 31.474504,
     "end_time": "2020-12-04T12:21:38.587631",
     "exception": false,
     "start_time": "2020-12-04T12:21:07.113127",
     "status": "completed"
    },
    "tags": []
   },
   "outputs": [],
   "source": [
    "!pip install ../input/python-datatable/datatable-0.11.0-cp37-cp37m-manylinux2010_x86_64.whl > /dev/null 2>&1"
   ]
  },
  {
   "cell_type": "code",
   "execution_count": 2,
   "metadata": {
    "_cell_guid": "79c7e3d0-c299-4dcb-8224-4455121ee9b0",
    "_uuid": "d629ff2d2480ee46fbb7e2d37f6b5fab8052498a",
    "execution": {
     "iopub.execute_input": "2020-12-04T12:21:38.641448Z",
     "iopub.status.busy": "2020-12-04T12:21:38.640673Z",
     "iopub.status.idle": "2020-12-04T12:21:39.833452Z",
     "shell.execute_reply": "2020-12-04T12:21:39.834000Z"
    },
    "papermill": {
     "duration": 1.22399,
     "end_time": "2020-12-04T12:21:39.834159",
     "exception": false,
     "start_time": "2020-12-04T12:21:38.610169",
     "status": "completed"
    },
    "tags": []
   },
   "outputs": [
    {
     "data": {
      "text/html": [
       "<style type='text/css'>\n",
       ".datatable table.frame { margin-bottom: 0; }\n",
       ".datatable table.frame thead { border-bottom: none; }\n",
       ".datatable table.frame tr.coltypes td {  color: #FFFFFF;  line-height: 6px;  padding: 0 0.5em;}\n",
       ".datatable .bool    { background: #DDDD99; }\n",
       ".datatable .object  { background: #565656; }\n",
       ".datatable .int     { background: #5D9E5D; }\n",
       ".datatable .float   { background: #4040CC; }\n",
       ".datatable .str     { background: #CC4040; }\n",
       ".datatable .row_index {  background: var(--jp-border-color3);  border-right: 1px solid var(--jp-border-color0);  color: var(--jp-ui-font-color3);  font-size: 9px;}\n",
       ".datatable .frame tr.coltypes .row_index {  background: var(--jp-border-color0);}\n",
       ".datatable th:nth-child(2) { padding-left: 12px; }\n",
       ".datatable .hellipsis {  color: var(--jp-cell-editor-border-color);}\n",
       ".datatable .vellipsis {  background: var(--jp-layout-color0);  color: var(--jp-cell-editor-border-color);}\n",
       ".datatable .na {  color: var(--jp-cell-editor-border-color);  font-size: 80%;}\n",
       ".datatable .footer { font-size: 9px; }\n",
       ".datatable .frame_dimensions {  background: var(--jp-border-color3);  border-top: 1px solid var(--jp-border-color0);  color: var(--jp-ui-font-color3);  display: inline-block;  opacity: 0.6;  padding: 1px 10px 1px 5px;}\n",
       ".datatable .frame thead tr.colnames {  background-image: url('data:image/png;base64,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');  background-repeat: repeat-x;  background-size: 14px;  height: 28px;}\n",
       "</style>\n"
      ],
      "text/plain": [
       "<IPython.core.display.HTML object>"
      ]
     },
     "metadata": {},
     "output_type": "display_data"
    },
    {
     "name": "stderr",
     "output_type": "stream",
     "text": [
      "/opt/conda/lib/python3.7/site-packages/ipykernel_launcher.py:11: TqdmDeprecationWarning: This function will be removed in tqdm==5.0.0\n",
      "Please use `tqdm.notebook.*` instead of `tqdm._tqdm_notebook.*`\n",
      "  # This is added back by InteractiveShellApp.init_path()\n",
      "/opt/conda/lib/python3.7/site-packages/tqdm/std.py:666: FutureWarning: The Panel class is removed from pandas. Accessing it from the top-level namespace will also be removed in the next version\n",
      "  from pandas import Panel\n"
     ]
    }
   ],
   "source": [
    "import numpy as np\n",
    "import pandas as pd\n",
    "from collections import defaultdict\n",
    "import datatable as dt\n",
    "import lightgbm as lgb\n",
    "from matplotlib import pyplot as plt\n",
    "import riiideducation\n",
    "from bitarray import bitarray\n",
    "from lightgbm import LGBMClassifier\n",
    "\n",
    "from tqdm._tqdm_notebook import tqdm_notebook\n",
    "tqdm_notebook.pandas(desc=\"progress: \")\n",
    "\n",
    "_ = np.seterr(divide='ignore', invalid='ignore')"
   ]
  },
  {
   "cell_type": "code",
   "execution_count": 3,
   "metadata": {
    "execution": {
     "iopub.execute_input": "2020-12-04T12:21:39.889558Z",
     "iopub.status.busy": "2020-12-04T12:21:39.888616Z",
     "iopub.status.idle": "2020-12-04T12:21:39.892002Z",
     "shell.execute_reply": "2020-12-04T12:21:39.891336Z"
    },
    "papermill": {
     "duration": 0.033078,
     "end_time": "2020-12-04T12:21:39.892128",
     "exception": false,
     "start_time": "2020-12-04T12:21:39.859050",
     "status": "completed"
    },
    "tags": []
   },
   "outputs": [],
   "source": [
    "def make_bitarray():\n",
    "    a = bitarray(32737, endian='little')\n",
    "    a.setall(True)   \n",
    "    return a"
   ]
  },
  {
   "cell_type": "code",
   "execution_count": 4,
   "metadata": {
    "execution": {
     "iopub.execute_input": "2020-12-04T12:21:39.945733Z",
     "iopub.status.busy": "2020-12-04T12:21:39.944689Z",
     "iopub.status.idle": "2020-12-04T12:21:39.948238Z",
     "shell.execute_reply": "2020-12-04T12:21:39.947449Z"
    },
    "papermill": {
     "duration": 0.03238,
     "end_time": "2020-12-04T12:21:39.948368",
     "exception": false,
     "start_time": "2020-12-04T12:21:39.915988",
     "status": "completed"
    },
    "tags": []
   },
   "outputs": [],
   "source": [
    "FULL_TRAIN = False"
   ]
  },
  {
   "cell_type": "markdown",
   "metadata": {
    "papermill": {
     "duration": 0.024379,
     "end_time": "2020-12-04T12:21:39.997214",
     "exception": false,
     "start_time": "2020-12-04T12:21:39.972835",
     "status": "completed"
    },
    "tags": []
   },
   "source": [
    "# Preprocess"
   ]
  },
  {
   "cell_type": "code",
   "execution_count": 5,
   "metadata": {
    "execution": {
     "iopub.execute_input": "2020-12-04T12:21:40.052505Z",
     "iopub.status.busy": "2020-12-04T12:21:40.051397Z",
     "iopub.status.idle": "2020-12-04T12:21:40.054907Z",
     "shell.execute_reply": "2020-12-04T12:21:40.054179Z"
    },
    "papermill": {
     "duration": 0.03378,
     "end_time": "2020-12-04T12:21:40.055029",
     "exception": false,
     "start_time": "2020-12-04T12:21:40.021249",
     "status": "completed"
    },
    "tags": []
   },
   "outputs": [],
   "source": [
    "data_types_dict = {\n",
    "    #'row_id': 'uint32',\n",
    "    'timestamp': 'uint64',\n",
    "    'user_id': 'int32', \n",
    "    'content_id': 'int16', \n",
    "    'answered_correctly': 'int8', \n",
    "    'prior_question_elapsed_time': 'float32', \n",
    "    'prior_question_had_explanation': 'bool'\n",
    "}\n",
    "target = 'answered_correctly'"
   ]
  },
  {
   "cell_type": "code",
   "execution_count": 6,
   "metadata": {
    "execution": {
     "iopub.execute_input": "2020-12-04T12:21:40.113694Z",
     "iopub.status.busy": "2020-12-04T12:21:40.112190Z",
     "iopub.status.idle": "2020-12-04T12:24:10.773670Z",
     "shell.execute_reply": "2020-12-04T12:24:10.772954Z"
    },
    "papermill": {
     "duration": 150.694463,
     "end_time": "2020-12-04T12:24:10.773815",
     "exception": false,
     "start_time": "2020-12-04T12:21:40.079352",
     "status": "completed"
    },
    "tags": []
   },
   "outputs": [],
   "source": [
    "train_df = dt.fread('../input/riiid-test-answer-prediction/train.csv', columns=set(data_types_dict.keys())).to_pandas()\n",
    "\n",
    "#lectures = pd.read_csv(\"../input/riiid-test-answer-prediction/lectures.csv\")\n",
    "#train_lec = train_df[train_df[\"answered_correctly\"] == -1].copy().reset_index(drop=True)\n",
    "#train_lec = train_lec.astype(data_types_dict)\n",
    "#train_lec = train_lec.merge(lectures[[\"lecture_id\", \"tag\"]], left_on=\"content_id\", right_on=\"lecture_id\", how=\"left\")\n",
    "#train_lec.drop([\"lecture_id\"], axis=1, inplace=True)\n",
    "#train_lec[\"tag\"] = train_lec[\"tag\"].astype(str)\n",
    "#train_lec[\"tag\"] = train_lec.groupby(\"user_id\")[\"tag\"].apply(lambda x: (x+' ').cumsum())\n",
    "\n",
    "train_df = train_df[train_df[target] != -1].reset_index(drop=True)\n",
    "train_df['prior_question_had_explanation'].fillna(False, inplace=True)\n",
    "train_df['timestamp'] = (train_df['timestamp'] // 86400000) + 1 # days from start\n",
    "train_df = train_df.astype(data_types_dict)\n",
    "\n",
    "#user_learning_time = train_df.drop_duplicates([\"user_id\",\"timestamp\"])[[\"timestamp\", \"user_id\"]].copy().reset_index(drop=True)\n",
    "#user_learning_time[\"blank\"] = user_learning_time.groupby(\"user_id\")[\"timestamp\"].diff()\n",
    "#user_learning_time[\"blank\"] -= 1\n",
    "#user_learning_time[\"blank\"] = user_learning_time[\"blank\"].fillna(0)\n",
    "#user_learning_time[\"cont_days\"] = user_learning_time.groupby(\"user_id\")[\"timestamp\"].diff().ne(1).cumsum()\n",
    "#user_learning_time[\"cont_days\"] = user_learning_time.groupby([\"user_id\", 'cont_days']).cumcount()+1\n",
    "\n",
    "if FULL_TRAIN:\n",
    "    train_size = 40\n",
    "else:\n",
    "    train_size = 24\n",
    "    valid_size = 6\n",
    "train_index = list(train_df.groupby('user_id').tail(train_size).index)"
   ]
  },
  {
   "cell_type": "code",
   "execution_count": 7,
   "metadata": {
    "execution": {
     "iopub.execute_input": "2020-12-04T12:24:10.836619Z",
     "iopub.status.busy": "2020-12-04T12:24:10.835813Z",
     "iopub.status.idle": "2020-12-04T12:24:26.675660Z",
     "shell.execute_reply": "2020-12-04T12:24:26.675027Z"
    },
    "papermill": {
     "duration": 15.877023,
     "end_time": "2020-12-04T12:24:26.675797",
     "exception": false,
     "start_time": "2020-12-04T12:24:10.798774",
     "status": "completed"
    },
    "tags": []
   },
   "outputs": [],
   "source": [
    "questions_df = pd.read_csv(\n",
    "    '../input/riiid-test-answer-prediction/questions.csv', \n",
    "    usecols=[0, 3], #, 4\n",
    "    dtype={'question_id': 'int16', 'part': 'int8'}  #, 'tags': 'object'\n",
    ")\n",
    "train_df = pd.merge(train_df, questions_df, left_on='content_id', right_on='question_id', how='left', right_index=True).reset_index(drop=True)\n",
    "train_df.drop(columns=['question_id'], inplace=True)"
   ]
  },
  {
   "cell_type": "code",
   "execution_count": 8,
   "metadata": {
    "execution": {
     "iopub.execute_input": "2020-12-04T12:24:26.733716Z",
     "iopub.status.busy": "2020-12-04T12:24:26.732846Z",
     "iopub.status.idle": "2020-12-04T12:24:46.324563Z",
     "shell.execute_reply": "2020-12-04T12:24:46.323790Z"
    },
    "papermill": {
     "duration": 19.624232,
     "end_time": "2020-12-04T12:24:46.324691",
     "exception": false,
     "start_time": "2020-12-04T12:24:26.700459",
     "status": "completed"
    },
    "tags": []
   },
   "outputs": [],
   "source": [
    "train_df['lag'] = train_df.groupby('user_id')[target].shift()\n",
    "cum = train_df.groupby('user_id')['lag'].agg(['cumsum', 'cumcount'])\n",
    "user_correctness_array = np.array(cum['cumsum'] / cum['cumcount'])\n",
    "user_correctness_array = user_correctness_array[train_index]\n",
    "train_df.drop(columns=['lag'], inplace=True)\n",
    "del cum"
   ]
  },
  {
   "cell_type": "code",
   "execution_count": 9,
   "metadata": {
    "execution": {
     "iopub.execute_input": "2020-12-04T12:24:46.383789Z",
     "iopub.status.busy": "2020-12-04T12:24:46.382952Z",
     "iopub.status.idle": "2020-12-04T12:25:25.122748Z",
     "shell.execute_reply": "2020-12-04T12:25:25.122023Z"
    },
    "papermill": {
     "duration": 38.773339,
     "end_time": "2020-12-04T12:25:25.122875",
     "exception": false,
     "start_time": "2020-12-04T12:24:46.349536",
     "status": "completed"
    },
    "tags": []
   },
   "outputs": [],
   "source": [
    "train_df[\"reading_part\"] = train_df[\"part\"] >=5\n",
    "train_df[\"reading_part\"] = train_df[\"reading_part\"].astype(\"int8\")\n",
    "train_df['reading_part_lag'] = train_df.groupby('user_id')[\"reading_part\"].shift()\n",
    "cum = train_df.groupby('user_id')['reading_part_lag'].agg(['cumsum']) \n",
    "reading_part_count_array = cum['cumsum'].values\n",
    "reading_part_count_array = reading_part_count_array[train_index] \n",
    "train_df.drop(columns=['reading_part_lag', 'reading_part'], inplace=True)\n",
    "del cum"
   ]
  },
  {
   "cell_type": "code",
   "execution_count": 10,
   "metadata": {
    "execution": {
     "iopub.execute_input": "2020-12-04T12:25:25.183584Z",
     "iopub.status.busy": "2020-12-04T12:25:25.182010Z",
     "iopub.status.idle": "2020-12-04T12:26:05.054374Z",
     "shell.execute_reply": "2020-12-04T12:26:05.053635Z"
    },
    "papermill": {
     "duration": 39.90675,
     "end_time": "2020-12-04T12:26:05.054553",
     "exception": false,
     "start_time": "2020-12-04T12:25:25.147803",
     "status": "completed"
    },
    "tags": []
   },
   "outputs": [],
   "source": [
    "train_df[\"listening_part\"] = (train_df[\"part\"] >=1) | (train_df[\"part\"] <=4)\n",
    "train_df[\"listening_part\"] = train_df[\"listening_part\"].astype(\"int8\")\n",
    "train_df['listening_part_lag'] = train_df.groupby('user_id')[\"listening_part\"].shift()\n",
    "cum = train_df.groupby('user_id')['listening_part_lag'].agg(['cumsum']) \n",
    "listening_part_count_array = cum['cumsum'].values\n",
    "listening_part_count_array = listening_part_count_array[train_index]\n",
    "train_df.drop(columns=['listening_part_lag', 'listening_part'], inplace=True)\n",
    "del cum"
   ]
  },
  {
   "cell_type": "code",
   "execution_count": 11,
   "metadata": {
    "execution": {
     "iopub.execute_input": "2020-12-04T12:26:05.128892Z",
     "iopub.status.busy": "2020-12-04T12:26:05.127994Z",
     "iopub.status.idle": "2020-12-04T12:26:55.306122Z",
     "shell.execute_reply": "2020-12-04T12:26:55.305486Z"
    },
    "papermill": {
     "duration": 50.225373,
     "end_time": "2020-12-04T12:26:55.306255",
     "exception": false,
     "start_time": "2020-12-04T12:26:05.080882",
     "status": "completed"
    },
    "tags": []
   },
   "outputs": [],
   "source": [
    "#train_df[\"first_attempt\"] = train_df[[\"row_id\", \"user_id\", \"content_id\"]].groupby(\"user_id\").progress_apply(lambda x: \n",
    "#                               pd.DataFrame(np.isin(x[\"row_id\"].values, x.drop_duplicates(\"content_id\")[\"row_id\"].values))).values\n",
    "\n",
    "#train[\"part_first_attempt\"] = train[[\"row_id\", \"user_id\", \"part\"]].groupby(\"user_id\").progress_apply(lambda x: \n",
    "#                               pd.DataFrame(np.isin(x[\"row_id\"].values, x.drop_duplicates(\"part\")[\"row_id\"].values))).values\n",
    "\n",
    "#train_df.drop(\"row_id\", axis=1, inplace=True)\n",
    "\n",
    "first_attempt_df = pd.read_csv(\"../input/riiid-additional-data/content_first_attempt.csv\")\n",
    "first_attempt_array = first_attempt_df.first_attempt.values\n",
    "train_df[\"first_attempt\"] = first_attempt_array\n",
    "unique_attempt_array= train_df.groupby(\"user_id\")[\"first_attempt\"].cumsum().values\n",
    "train_df[\"unique_attempt\"] = unique_attempt_array\n",
    "user_unique_agg = train_df.groupby('user_id')[\"unique_attempt\"].agg(['max'])\n",
    "user_unique_dict = user_unique_agg['max'].astype('int32').to_dict(defaultdict(int))\n",
    "\n",
    "first_attempt_array = first_attempt_array[train_index]\n",
    "unique_attempt_array = unique_attempt_array[train_index]\n",
    "train_df.drop(['first_attempt', 'unique_attempt'], axis=1, inplace=True)\n",
    "del first_attempt_df, user_unique_agg"
   ]
  },
  {
   "cell_type": "code",
   "execution_count": 12,
   "metadata": {
    "execution": {
     "iopub.execute_input": "2020-12-04T12:26:55.371120Z",
     "iopub.status.busy": "2020-12-04T12:26:55.370284Z",
     "iopub.status.idle": "2020-12-04T12:27:12.693141Z",
     "shell.execute_reply": "2020-12-04T12:27:12.691711Z"
    },
    "papermill": {
     "duration": 17.360974,
     "end_time": "2020-12-04T12:27:12.693554",
     "exception": false,
     "start_time": "2020-12-04T12:26:55.332580",
     "status": "completed"
    },
    "tags": []
   },
   "outputs": [],
   "source": [
    "user_agg = train_df.groupby('user_id')[target].agg(['sum', 'count'])\n",
    "content_agg = train_df.groupby('content_id')[target].agg(['sum', 'count'])\n",
    "\n",
    "user_sum_dict = user_agg['sum'].astype('int16').to_dict(defaultdict(int))\n",
    "user_count_dict = user_agg['count'].astype('int16').to_dict(defaultdict(int))\n",
    "content_sum_dict = content_agg['sum'].astype('int32').to_dict(defaultdict(int))\n",
    "content_count_dict = content_agg['count'].astype('int32').to_dict(defaultdict(int))\n",
    "\n",
    "content_count_array = train_df['content_id'].map(content_agg['count']).astype('int32').values\n",
    "content_id_array = train_df['content_id'].map(content_agg['sum'] / content_agg['count']).values\n",
    "content_count_array = content_count_array[train_index]\n",
    "content_id_array = content_id_array[train_index]\n",
    "\n",
    "del user_agg, content_agg"
   ]
  },
  {
   "cell_type": "code",
   "execution_count": 13,
   "metadata": {
    "execution": {
     "iopub.execute_input": "2020-12-04T12:27:12.768542Z",
     "iopub.status.busy": "2020-12-04T12:27:12.767495Z",
     "iopub.status.idle": "2020-12-04T12:29:48.371954Z",
     "shell.execute_reply": "2020-12-04T12:29:48.373321Z"
    },
    "papermill": {
     "duration": 155.644315,
     "end_time": "2020-12-04T12:29:48.373687",
     "exception": false,
     "start_time": "2020-12-04T12:27:12.729372",
     "status": "completed"
    },
    "tags": []
   },
   "outputs": [
    {
     "name": "stdout",
     "output_type": "stream",
     "text": [
      "CPU times: user 2min 29s, sys: 6.1 s, total: 2min 35s\n",
      "Wall time: 2min 35s\n"
     ]
    }
   ],
   "source": [
    "%%time\n",
    "user_content_agg = train_df.groupby(\"user_id\")[\"content_id\"].unique().reset_index().set_index(\"user_id\")\n",
    "\n",
    "value = []\n",
    "for j in user_content_agg.index:\n",
    "    a = bitarray(32737, endian='little')\n",
    "    a.setall(True)\n",
    "    for i in user_content_agg.loc[j][0]:\n",
    "        a[i] = 0\n",
    "    value.append(a)\n",
    "    \n",
    "user_content_agg[\"content_exp\"] = value\n",
    "\n",
    "user_content_dict = user_content_agg[\"content_exp\"].to_dict(defaultdict(make_bitarray))\n",
    "del user_content_agg"
   ]
  },
  {
   "cell_type": "code",
   "execution_count": 14,
   "metadata": {
    "execution": {
     "iopub.execute_input": "2020-12-04T12:29:48.435660Z",
     "iopub.status.busy": "2020-12-04T12:29:48.434817Z",
     "iopub.status.idle": "2020-12-04T12:29:56.630474Z",
     "shell.execute_reply": "2020-12-04T12:29:56.629751Z"
    },
    "papermill": {
     "duration": 8.229811,
     "end_time": "2020-12-04T12:29:56.630625",
     "exception": false,
     "start_time": "2020-12-04T12:29:48.400814",
     "status": "completed"
    },
    "tags": []
   },
   "outputs": [],
   "source": [
    "train_df[\"count\"] = 1\n",
    "count_array = train_df.groupby(\"user_id\")[\"count\"].cumsum().values\n",
    "count_array = count_array[train_index]\n",
    "train_df.drop(\"count\", axis=1, inplace=True)"
   ]
  },
  {
   "cell_type": "code",
   "execution_count": 15,
   "metadata": {
    "execution": {
     "iopub.execute_input": "2020-12-04T12:29:56.690279Z",
     "iopub.status.busy": "2020-12-04T12:29:56.689392Z",
     "iopub.status.idle": "2020-12-04T12:30:11.324827Z",
     "shell.execute_reply": "2020-12-04T12:30:11.324146Z"
    },
    "papermill": {
     "duration": 14.668173,
     "end_time": "2020-12-04T12:30:11.324982",
     "exception": false,
     "start_time": "2020-12-04T12:29:56.656809",
     "status": "completed"
    },
    "tags": []
   },
   "outputs": [],
   "source": [
    "train_df[\"count_inday\"] = 1\n",
    "count_inday_array = train_df.groupby([\"user_id\",\"timestamp\"])[\"count_inday\"].cumsum().values\n",
    "count_inday_array = count_inday_array[train_index]\n",
    "train_df.drop(\"count_inday\", axis=1, inplace=True)"
   ]
  },
  {
   "cell_type": "code",
   "execution_count": 16,
   "metadata": {
    "execution": {
     "iopub.execute_input": "2020-12-04T12:30:11.385389Z",
     "iopub.status.busy": "2020-12-04T12:30:11.384613Z",
     "iopub.status.idle": "2020-12-04T12:30:18.453797Z",
     "shell.execute_reply": "2020-12-04T12:30:18.453090Z"
    },
    "papermill": {
     "duration": 7.102166,
     "end_time": "2020-12-04T12:30:18.453944",
     "exception": false,
     "start_time": "2020-12-04T12:30:11.351778",
     "status": "completed"
    },
    "tags": []
   },
   "outputs": [],
   "source": [
    "train_df = train_df.groupby('user_id').tail(train_size).reset_index(drop=True)"
   ]
  },
  {
   "cell_type": "code",
   "execution_count": 17,
   "metadata": {
    "execution": {
     "iopub.execute_input": "2020-12-04T12:30:18.512977Z",
     "iopub.status.busy": "2020-12-04T12:30:18.512136Z",
     "iopub.status.idle": "2020-12-04T12:30:18.515385Z",
     "shell.execute_reply": "2020-12-04T12:30:18.514658Z"
    },
    "papermill": {
     "duration": 0.034704,
     "end_time": "2020-12-04T12:30:18.515529",
     "exception": false,
     "start_time": "2020-12-04T12:30:18.480825",
     "status": "completed"
    },
    "tags": []
   },
   "outputs": [],
   "source": [
    "#train_df = pd.concat([train_df, train_lec])\n",
    "#train_df = train_df.sort_values(\"row_id\", ascending=True).reset_index(drop=True)\n",
    "#del train_lec\n",
    "#train_df[\"tag\"] = train_df[\"tag\"].astype(str).replace(\"nan\", \"\")\n",
    "#train_df[\"tag\"] = train_df.groupby(\"user_id\")[\"tag\"].apply(lambda x: x.cumsum())\n",
    "#train_df = train_df[train_df[target] != -1].reset_index(drop=True)\n",
    "#tag_array = train_df.tag.values\n",
    "#tags_array = train_df.tags.values\n",
    "#train_df.drop([\"row_id\", \"tag\", \"tags\"], axis=1, inplace=True)\n",
    "\n",
    "#experience_array = [len(set(tag_array[i]).intersection(set(tags_array[i].replace(' ', ',')))) for i in range(train_df.shape[0])]"
   ]
  },
  {
   "cell_type": "code",
   "execution_count": 18,
   "metadata": {
    "execution": {
     "iopub.execute_input": "2020-12-04T12:30:18.600558Z",
     "iopub.status.busy": "2020-12-04T12:30:18.599762Z",
     "iopub.status.idle": "2020-12-04T12:30:22.507695Z",
     "shell.execute_reply": "2020-12-04T12:30:22.507050Z"
    },
    "papermill": {
     "duration": 3.964959,
     "end_time": "2020-12-04T12:30:22.507832",
     "exception": false,
     "start_time": "2020-12-04T12:30:18.542873",
     "status": "completed"
    },
    "tags": []
   },
   "outputs": [],
   "source": [
    "train_df['content_count'] = content_count_array\n",
    "train_df['content_id'] = content_id_array\n",
    "train_df['user_correctness'] = user_correctness_array\n",
    "train_df['reading_part_count'] = reading_part_count_array \n",
    "train_df['listening_part_count'] = listening_part_count_array \n",
    "train_df['first_attempt'] = first_attempt_array\n",
    "train_df['count'] = count_array\n",
    "train_df['count_inday'] = count_inday_array\n",
    "train_df['unique_attempt'] = unique_attempt_array\n",
    "\n",
    "#tunique_attempt_arrayf[\"experience\"] = experience_array\n",
    "#train_df[\"experience\"] = train_df[\"experience\"].apply(lambda x: 1 if x>=1 else 0)\n",
    "\n",
    "#train_df = train_df.merge(user_learning_time, on=[\"user_id\", \"timestamp\"])\n",
    "#del user_learning_time\n",
    "    \n",
    "user_listening_agg = train_df.groupby('user_id')[\"listening_part_count\"].agg(['max'])\n",
    "user_reading_agg = train_df.groupby('user_id')[\"reading_part_count\"].agg(['max'])\n",
    "user_reading_agg['max'].fillna(0,inplace=True)\n",
    "user_listening_agg['max'].fillna(0,inplace=True)\n",
    "\n",
    "user_reading_dict = user_reading_agg['max'].astype('int32').to_dict(defaultdict(int))\n",
    "user_listening_dict = user_listening_agg['max'].astype('int32').to_dict(defaultdict(int))\n",
    "\n",
    "user_timestamp_dict = train_df.groupby(\"user_id\").tail(1)[\"timestamp\"].to_dict(defaultdict(int))\n",
    "user_count_inday_dict = train_df.groupby(\"user_id\").tail(1)[\"count_inday\"].to_dict(defaultdict(int))\n",
    "\n",
    "del user_reading_agg, user_listening_agg "
   ]
  },
  {
   "cell_type": "code",
   "execution_count": 19,
   "metadata": {
    "execution": {
     "iopub.execute_input": "2020-12-04T12:30:22.568657Z",
     "iopub.status.busy": "2020-12-04T12:30:22.567829Z",
     "iopub.status.idle": "2020-12-04T12:30:25.065372Z",
     "shell.execute_reply": "2020-12-04T12:30:25.064724Z"
    },
    "papermill": {
     "duration": 2.5307,
     "end_time": "2020-12-04T12:30:25.065538",
     "exception": false,
     "start_time": "2020-12-04T12:30:22.534838",
     "status": "completed"
    },
    "tags": []
   },
   "outputs": [],
   "source": [
    "if FULL_TRAIN == False:\n",
    "    valid_df = train_df.groupby('user_id').tail(valid_size)\n",
    "    train_df.drop(valid_df.index, inplace=True)\n",
    "    train_df.head()"
   ]
  },
  {
   "cell_type": "code",
   "execution_count": 20,
   "metadata": {
    "execution": {
     "iopub.execute_input": "2020-12-04T12:30:25.128003Z",
     "iopub.status.busy": "2020-12-04T12:30:25.127001Z",
     "iopub.status.idle": "2020-12-04T12:30:25.131792Z",
     "shell.execute_reply": "2020-12-04T12:30:25.130799Z"
    },
    "papermill": {
     "duration": 0.039171,
     "end_time": "2020-12-04T12:30:25.131969",
     "exception": false,
     "start_time": "2020-12-04T12:30:25.092798",
     "status": "completed"
    },
    "tags": []
   },
   "outputs": [
    {
     "name": "stdout",
     "output_type": "stream",
     "text": [
      "(6536675, 15) (2360984, 15)\n"
     ]
    }
   ],
   "source": [
    "if FULL_TRAIN:\n",
    "    print(train_df.shape)\n",
    "else:\n",
    "    print(train_df.shape, valid_df.shape)"
   ]
  },
  {
   "cell_type": "markdown",
   "metadata": {
    "papermill": {
     "duration": 0.027588,
     "end_time": "2020-12-04T12:30:25.188894",
     "exception": false,
     "start_time": "2020-12-04T12:30:25.161306",
     "status": "completed"
    },
    "tags": []
   },
   "source": [
    "# Train"
   ]
  },
  {
   "cell_type": "code",
   "execution_count": 21,
   "metadata": {
    "execution": {
     "iopub.execute_input": "2020-12-04T12:30:25.253193Z",
     "iopub.status.busy": "2020-12-04T12:30:25.252184Z",
     "iopub.status.idle": "2020-12-04T12:30:25.257086Z",
     "shell.execute_reply": "2020-12-04T12:30:25.256119Z"
    },
    "papermill": {
     "duration": 0.040651,
     "end_time": "2020-12-04T12:30:25.257248",
     "exception": false,
     "start_time": "2020-12-04T12:30:25.216597",
     "status": "completed"
    },
    "tags": []
   },
   "outputs": [
    {
     "name": "stdout",
     "output_type": "stream",
     "text": [
      "13\n"
     ]
    }
   ],
   "source": [
    "features = [\n",
    "    'content_id',\n",
    "    'prior_question_elapsed_time',\n",
    "    'prior_question_had_explanation',\n",
    "    'user_correctness',\n",
    "    'part',\n",
    "    'content_count',\n",
    "    'count',\n",
    "    'reading_part_count',\n",
    "    'listening_part_count',\n",
    "    'first_attempt',\n",
    "    'timestamp',\n",
    "    'count_inday',\n",
    "    'unique_attempt'\n",
    "]\n",
    "\n",
    "params = {\n",
    "    'objective': 'binary',\n",
    "    'seed': 42,\n",
    "    'metric': 'auc',\n",
    "    'learning_rate': 0.05,\n",
    "    'max_bin': 800,\n",
    "    'num_leaves': 80\n",
    "}\n",
    "print(len(features))"
   ]
  },
  {
   "cell_type": "code",
   "execution_count": 22,
   "metadata": {
    "execution": {
     "iopub.execute_input": "2020-12-04T12:30:25.511830Z",
     "iopub.status.busy": "2020-12-04T12:30:25.510969Z",
     "iopub.status.idle": "2020-12-04T13:45:39.591681Z",
     "shell.execute_reply": "2020-12-04T13:45:39.590952Z"
    },
    "papermill": {
     "duration": 4514.304819,
     "end_time": "2020-12-04T13:45:39.591859",
     "exception": false,
     "start_time": "2020-12-04T12:30:25.287040",
     "status": "completed"
    },
    "tags": []
   },
   "outputs": [
    {
     "name": "stdout",
     "output_type": "stream",
     "text": [
      "Training until validation scores don't improve for 50 rounds\n",
      "[50]\ttraining's auc: 0.756881\tvalid_1's auc: 0.741345\n",
      "[100]\ttraining's auc: 0.759289\tvalid_1's auc: 0.74445\n",
      "[150]\ttraining's auc: 0.760457\tvalid_1's auc: 0.745748\n",
      "[200]\ttraining's auc: 0.761047\tvalid_1's auc: 0.746213\n",
      "[250]\ttraining's auc: 0.761443\tvalid_1's auc: 0.746428\n",
      "[300]\ttraining's auc: 0.761872\tvalid_1's auc: 0.74667\n",
      "[350]\ttraining's auc: 0.762199\tvalid_1's auc: 0.746839\n",
      "[400]\ttraining's auc: 0.762533\tvalid_1's auc: 0.747018\n",
      "[450]\ttraining's auc: 0.762816\tvalid_1's auc: 0.747131\n",
      "[500]\ttraining's auc: 0.763099\tvalid_1's auc: 0.747236\n",
      "[550]\ttraining's auc: 0.763355\tvalid_1's auc: 0.747311\n",
      "[600]\ttraining's auc: 0.763598\tvalid_1's auc: 0.747351\n",
      "[650]\ttraining's auc: 0.763857\tvalid_1's auc: 0.74743\n",
      "[700]\ttraining's auc: 0.764098\tvalid_1's auc: 0.747478\n",
      "[750]\ttraining's auc: 0.764343\tvalid_1's auc: 0.747544\n",
      "[800]\ttraining's auc: 0.764621\tvalid_1's auc: 0.747628\n",
      "[850]\ttraining's auc: 0.764879\tvalid_1's auc: 0.747692\n",
      "[900]\ttraining's auc: 0.765125\tvalid_1's auc: 0.747745\n",
      "[950]\ttraining's auc: 0.765364\tvalid_1's auc: 0.747772\n",
      "[1000]\ttraining's auc: 0.765581\tvalid_1's auc: 0.747796\n",
      "[1050]\ttraining's auc: 0.765819\tvalid_1's auc: 0.747829\n",
      "[1100]\ttraining's auc: 0.766063\tvalid_1's auc: 0.747873\n",
      "[1150]\ttraining's auc: 0.766288\tvalid_1's auc: 0.747896\n",
      "[1200]\ttraining's auc: 0.766497\tvalid_1's auc: 0.74792\n",
      "[1250]\ttraining's auc: 0.766719\tvalid_1's auc: 0.747946\n",
      "[1300]\ttraining's auc: 0.766921\tvalid_1's auc: 0.747969\n",
      "[1350]\ttraining's auc: 0.767128\tvalid_1's auc: 0.74798\n",
      "[1400]\ttraining's auc: 0.767323\tvalid_1's auc: 0.74799\n",
      "[1450]\ttraining's auc: 0.767527\tvalid_1's auc: 0.748009\n",
      "[1500]\ttraining's auc: 0.76773\tvalid_1's auc: 0.748039\n",
      "[1550]\ttraining's auc: 0.767945\tvalid_1's auc: 0.748065\n",
      "[1600]\ttraining's auc: 0.768161\tvalid_1's auc: 0.74807\n",
      "[1650]\ttraining's auc: 0.768367\tvalid_1's auc: 0.748082\n",
      "[1700]\ttraining's auc: 0.768583\tvalid_1's auc: 0.74811\n",
      "[1750]\ttraining's auc: 0.768777\tvalid_1's auc: 0.748124\n",
      "[1800]\ttraining's auc: 0.768977\tvalid_1's auc: 0.748139\n",
      "[1850]\ttraining's auc: 0.769193\tvalid_1's auc: 0.748153\n",
      "[1900]\ttraining's auc: 0.769406\tvalid_1's auc: 0.748169\n",
      "[1950]\ttraining's auc: 0.769612\tvalid_1's auc: 0.748185\n",
      "[2000]\ttraining's auc: 0.76982\tvalid_1's auc: 0.748202\n",
      "[2050]\ttraining's auc: 0.770021\tvalid_1's auc: 0.748212\n",
      "[2100]\ttraining's auc: 0.770218\tvalid_1's auc: 0.748219\n",
      "[2150]\ttraining's auc: 0.770406\tvalid_1's auc: 0.748224\n",
      "[2200]\ttraining's auc: 0.770611\tvalid_1's auc: 0.748242\n",
      "[2250]\ttraining's auc: 0.770817\tvalid_1's auc: 0.748244\n",
      "[2300]\ttraining's auc: 0.771008\tvalid_1's auc: 0.748249\n",
      "[2350]\ttraining's auc: 0.771195\tvalid_1's auc: 0.748254\n",
      "[2400]\ttraining's auc: 0.77138\tvalid_1's auc: 0.748262\n",
      "[2450]\ttraining's auc: 0.771577\tvalid_1's auc: 0.748271\n",
      "[2500]\ttraining's auc: 0.771771\tvalid_1's auc: 0.748277\n",
      "[2550]\ttraining's auc: 0.771954\tvalid_1's auc: 0.748281\n",
      "[2600]\ttraining's auc: 0.772124\tvalid_1's auc: 0.748283\n",
      "Early stopping, best iteration is:\n",
      "[2562]\ttraining's auc: 0.772\tvalid_1's auc: 0.748286\n"
     ]
    },
    {
     "data": {
      "image/png": "[encoded data removed]",
      "text/plain": [
       "<Figure size 432x288 with 1 Axes>"
      ]
     },
     "metadata": {
      "needs_background": "light"
     },
     "output_type": "display_data"
    }
   ],
   "source": [
    "tr_data = lgb.Dataset(train_df[features], label=train_df[target])\n",
    "\n",
    "if FULL_TRAIN:\n",
    "    model = lgb.train(\n",
    "        params, \n",
    "        tr_data, \n",
    "        num_boost_round=4000,\n",
    "        valid_sets=None, \n",
    "        )\n",
    "else:\n",
    "    va_data = lgb.Dataset(valid_df[features], label=valid_df[target])\n",
    "\n",
    "    model = lgb.train(\n",
    "        params, \n",
    "        tr_data, \n",
    "        num_boost_round=10000,\n",
    "        valid_sets=[tr_data, va_data], \n",
    "        early_stopping_rounds=50,\n",
    "        verbose_eval=50\n",
    "        )\n",
    "\n",
    "    lgb.plot_importance(model, importance_type='gain')\n",
    "    plt.show()"
   ]
  },
  {
   "cell_type": "markdown",
   "metadata": {
    "papermill": {
     "duration": 0.05082,
     "end_time": "2020-12-04T13:45:39.697391",
     "exception": false,
     "start_time": "2020-12-04T13:45:39.646571",
     "status": "completed"
    },
    "tags": []
   },
   "source": [
    "# Inference"
   ]
  },
  {
   "cell_type": "code",
   "execution_count": 23,
   "metadata": {
    "execution": {
     "iopub.execute_input": "2020-12-04T13:45:39.806703Z",
     "iopub.status.busy": "2020-12-04T13:45:39.805737Z",
     "iopub.status.idle": "2020-12-04T13:45:39.809160Z",
     "shell.execute_reply": "2020-12-04T13:45:39.808490Z"
    },
    "papermill": {
     "duration": 0.061032,
     "end_time": "2020-12-04T13:45:39.809287",
     "exception": false,
     "start_time": "2020-12-04T13:45:39.748255",
     "status": "completed"
    },
    "tags": []
   },
   "outputs": [],
   "source": [
    "env = riiideducation.make_env()\n",
    "iter_test = env.iter_test()\n",
    "prior_test_df = None"
   ]
  },
  {
   "cell_type": "code",
   "execution_count": 24,
   "metadata": {
    "execution": {
     "iopub.execute_input": "2020-12-04T13:45:39.938445Z",
     "iopub.status.busy": "2020-12-04T13:45:39.937640Z",
     "iopub.status.idle": "2020-12-04T13:45:40.659009Z",
     "shell.execute_reply": "2020-12-04T13:45:40.658018Z"
    },
    "papermill": {
     "duration": 0.797803,
     "end_time": "2020-12-04T13:45:40.659192",
     "exception": false,
     "start_time": "2020-12-04T13:45:39.861389",
     "status": "completed"
    },
    "tags": []
   },
   "outputs": [
    {
     "name": "stdout",
     "output_type": "stream",
     "text": [
      "CPU times: user 1.29 s, sys: 90.9 ms, total: 1.38 s\n",
      "Wall time: 718 ms\n"
     ]
    }
   ],
   "source": [
    "%%time\n",
    "\n",
    "for (test_df, sample_prediction_df) in iter_test:\n",
    "    if prior_test_df is not None:\n",
    "        prior_test_df[target] = eval(test_df['prior_group_answers_correct'].iloc[0])\n",
    "        prior_test_df = prior_test_df[prior_test_df[target] != -1].reset_index(drop=True)\n",
    "        \n",
    "        user_ids = prior_test_df['user_id'].values\n",
    "        content_ids = prior_test_df['content_id'].values\n",
    "        targets = prior_test_df[target].values\n",
    "        parts = prior_part_arrays\n",
    "        prior_first_attempts = prior_f_attempt_arrays\n",
    "        \n",
    "        for user_id, content_id, answered_correctly, part, first_attempt_ornot in zip(user_ids, content_ids, targets, parts, prior_first_attempts):\n",
    "            user_sum_dict[user_id] += answered_correctly\n",
    "            user_count_dict[user_id] += 1\n",
    "            content_sum_dict[content_id] += answered_correctly\n",
    "            content_count_dict[content_id] += 1\n",
    "            if part <=4:\n",
    "                user_listening_dict[user_id] +=1\n",
    "            else:\n",
    "                user_reading_dict[user_id] +=1\n",
    "            user_unique_dict[user_id] += first_attempt_ornot\n",
    "\n",
    "    prior_test_df = test_df.copy()\n",
    "    \n",
    "    test_df = test_df[test_df['content_type_id'] == 0].reset_index(drop=True)\n",
    "    test_df = pd.merge(test_df, questions_df, left_on='content_id', right_on='question_id', how='left', right_index=True).reset_index(drop=True)\n",
    "    test_df['prior_question_had_explanation'] = test_df['prior_question_had_explanation'].fillna(False).astype('bool')    \n",
    "    test_df['timestamp'] = (test_df['timestamp'] // 86400000) + 1\n",
    "    \n",
    "    prior_part_arrays = test_df['part'].values\n",
    "    \n",
    "    user_sum = np.zeros(len(test_df), dtype=np.int16)\n",
    "    user_count = np.zeros(len(test_df), dtype=np.int16)\n",
    "    content_sum = np.zeros(len(test_df), dtype=np.int32)\n",
    "    content_count = np.zeros(len(test_df), dtype=np.int32)\n",
    "    listening_count = np.zeros(len(test_df), dtype=np.int32)\n",
    "    reading_count = np.zeros(len(test_df), dtype=np.int32)\n",
    "    user_count_inday = np.zeros(len(test_df), dtype=np.int32)\n",
    "    first_attempt_values = []\n",
    "    user_unique_count = np.zeros(len(test_df), dtype=np.int32)\n",
    "    \n",
    "    for i, (user_id, content_id, timestamp) in enumerate(zip(test_df['user_id'].values, test_df['content_id'].values, test_df['timestamp'].values)):\n",
    "        user_sum[i] = user_sum_dict[user_id]\n",
    "        user_count[i] = user_count_dict[user_id]\n",
    "        content_sum[i] = content_sum_dict[content_id]\n",
    "        content_count[i] = content_count_dict[content_id]\n",
    "        listening_count[i] = user_listening_dict[user_id]\n",
    "        reading_count[i] = user_reading_dict[user_id]\n",
    "        first_attempt_values.append(user_content_dict[user_id][content_id])\n",
    "        user_content_dict[user_id][content_id] = False \n",
    "        if user_timestamp_dict[user_id] == timestamp:\n",
    "            user_count_inday_dict[user_id] += 1\n",
    "        else:\n",
    "            user_count_inday_dict[user_id] = 1\n",
    "            user_timestamp_dict[user_id] = timestamp\n",
    "        user_count_inday[i] = user_count_inday_dict[user_id]\n",
    "        user_unique_count[i] = user_unique_dict[user_id]\n",
    "            \n",
    "    test_df['user_correctness'] = user_sum / user_count\n",
    "    test_df['content_count'] = content_count\n",
    "    test_df['content_id'] = content_sum / content_count\n",
    "    test_df['count'] = 1\n",
    "    test_df['count'] = test_df.groupby(\"user_id\")[\"count\"].cumsum()\n",
    "    test_df['count'] += user_count\n",
    "    test_df['reading_part_count'] = reading_count\n",
    "    test_df['listening_part_count'] = listening_count\n",
    "    test_df[\"first_attempt\"] = first_attempt_values\n",
    "    test_df['count_inday'] = user_count_inday\n",
    "    test_df[\"unique_attempt\"] = test_df.groupby(\"user_id\")[\"first_attempt\"].cumsum()\n",
    "    test_df[\"unique_attempt\"] += user_unique_count\n",
    "\n",
    "    prior_f_attempt_arrays = test_df['first_attempt'].values\n",
    "     \n",
    "    test_df[target] = model.predict(test_df[features])\n",
    "    env.predict(test_df[['row_id', target]])"
   ]
  },
  {
   "cell_type": "code",
   "execution_count": null,
   "metadata": {
    "papermill": {
     "duration": 0.055754,
     "end_time": "2020-12-04T13:45:40.787484",
     "exception": false,
     "start_time": "2020-12-04T13:45:40.731730",
     "status": "completed"
    },
    "tags": []
   },
   "outputs": [],
   "source": []
  }
 ],
 "metadata": {
  "kernelspec": {
   "display_name": "Python 3",
   "language": "python",
   "name": "python3"
  },
  "language_info": {
   "codemirror_mode": {
    "name": "ipython",
    "version": 3
   },
   "file_extension": ".py",
   "mimetype": "text/x-python",
   "name": "python",
   "nbconvert_exporter": "python",
   "pygments_lexer": "ipython3",
   "version": "3.7.6"
  },
  "papermill": {
   "duration": 5079.260997,
   "end_time": "2020-12-04T13:45:41.050564",
   "environment_variables": {},
   "exception": null,
   "input_path": "__notebook__.ipynb",
   "output_path": "__notebook__.ipynb",
   "parameters": {},
   "start_time": "2020-12-04T12:21:01.789567",
   "version": "2.1.0"
  }
 },
 "nbformat": 4,
 "nbformat_minor": 4
}
