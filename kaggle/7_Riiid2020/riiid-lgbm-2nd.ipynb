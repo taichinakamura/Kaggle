{
 "cells": [
  {
   "cell_type": "markdown",
   "metadata": {
    "papermill": {
     "duration": 0.033585,
     "end_time": "2020-12-28T11:22:03.706277",
     "exception": false,
     "start_time": "2020-12-28T11:22:03.672692",
     "status": "completed"
    },
    "tags": []
   },
   "source": [
    "- change model parameters\n",
    "- add bundle_id"
   ]
  },
  {
   "cell_type": "code",
   "execution_count": 1,
   "metadata": {
    "_cell_guid": "b1076dfc-b9ad-4769-8c92-a6c4dae69d19",
    "_uuid": "8f2839f25d086af736a60e9eeb907d3b93b6e0e5",
    "execution": {
     "iopub.execute_input": "2020-12-28T11:22:03.776555Z",
     "iopub.status.busy": "2020-12-28T11:22:03.775838Z",
     "iopub.status.idle": "2020-12-28T11:22:34.993290Z",
     "shell.execute_reply": "2020-12-28T11:22:34.992457Z"
    },
    "papermill": {
     "duration": 31.255646,
     "end_time": "2020-12-28T11:22:34.993429",
     "exception": false,
     "start_time": "2020-12-28T11:22:03.737783",
     "status": "completed"
    },
    "tags": []
   },
   "outputs": [],
   "source": [
    "!pip install ../input/python-datatable/datatable-0.11.0-cp37-cp37m-manylinux2010_x86_64.whl > /dev/null 2>&1"
   ]
  },
  {
   "cell_type": "code",
   "execution_count": 2,
   "metadata": {
    "_cell_guid": "79c7e3d0-c299-4dcb-8224-4455121ee9b0",
    "_uuid": "d629ff2d2480ee46fbb7e2d37f6b5fab8052498a",
    "execution": {
     "iopub.execute_input": "2020-12-28T11:22:35.066971Z",
     "iopub.status.busy": "2020-12-28T11:22:35.066229Z",
     "iopub.status.idle": "2020-12-28T11:22:36.963569Z",
     "shell.execute_reply": "2020-12-28T11:22:36.962838Z"
    },
    "papermill": {
     "duration": 1.938072,
     "end_time": "2020-12-28T11:22:36.963698",
     "exception": false,
     "start_time": "2020-12-28T11:22:35.025626",
     "status": "completed"
    },
    "tags": []
   },
   "outputs": [
    {
     "data": {
      "text/html": [
       "<style type='text/css'>\n",
       ".datatable table.frame { margin-bottom: 0; }\n",
       ".datatable table.frame thead { border-bottom: none; }\n",
       ".datatable table.frame tr.coltypes td {  color: #FFFFFF;  line-height: 6px;  padding: 0 0.5em;}\n",
       ".datatable .bool    { background: #DDDD99; }\n",
       ".datatable .object  { background: #565656; }\n",
       ".datatable .int     { background: #5D9E5D; }\n",
       ".datatable .float   { background: #4040CC; }\n",
       ".datatable .str     { background: #CC4040; }\n",
       ".datatable .row_index {  background: var(--jp-border-color3);  border-right: 1px solid var(--jp-border-color0);  color: var(--jp-ui-font-color3);  font-size: 9px;}\n",
       ".datatable .frame tr.coltypes .row_index {  background: var(--jp-border-color0);}\n",
       ".datatable th:nth-child(2) { padding-left: 12px; }\n",
       ".datatable .hellipsis {  color: var(--jp-cell-editor-border-color);}\n",
       ".datatable .vellipsis {  background: var(--jp-layout-color0);  color: var(--jp-cell-editor-border-color);}\n",
       ".datatable .na {  color: var(--jp-cell-editor-border-color);  font-size: 80%;}\n",
       ".datatable .footer { font-size: 9px; }\n",
       ".datatable .frame_dimensions {  background: var(--jp-border-color3);  border-top: 1px solid var(--jp-border-color0);  color: var(--jp-ui-font-color3);  display: inline-block;  opacity: 0.6;  padding: 1px 10px 1px 5px;}\n",
       ".datatable .frame thead tr.colnames {  background-image: url('data:image/png;base64,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');  background-repeat: repeat-x;  background-size: 14px;  height: 28px;}\n",
       "</style>\n"
      ],
      "text/plain": [
       "<IPython.core.display.HTML object>"
      ]
     },
     "metadata": {},
     "output_type": "display_data"
    }
   ],
   "source": [
    "import gc\n",
    "import random\n",
    "import pickle\n",
    "import numpy as np\n",
    "import pandas as pd\n",
    "from numba import jit\n",
    "import riiideducation\n",
    "import datatable as dt\n",
    "import lightgbm as lgb\n",
    "from bitarray import bitarray\n",
    "from functools import partial\n",
    "from collections import defaultdict\n",
    "\n",
    "_ = np.seterr(divide='ignore', invalid='ignore')\n",
    "pd.set_option(\"max_rows\", 100)\n",
    "pd.set_option(\"max_columns\", 100)\n",
    "\n",
    "random.seed(1)"
   ]
  },
  {
   "cell_type": "code",
   "execution_count": 3,
   "metadata": {
    "execution": {
     "iopub.execute_input": "2020-12-28T11:22:37.042835Z",
     "iopub.status.busy": "2020-12-28T11:22:37.041901Z",
     "iopub.status.idle": "2020-12-28T11:22:37.045069Z",
     "shell.execute_reply": "2020-12-28T11:22:37.044502Z"
    },
    "papermill": {
     "duration": 0.048424,
     "end_time": "2020-12-28T11:22:37.045213",
     "exception": false,
     "start_time": "2020-12-28T11:22:36.996789",
     "status": "completed"
    },
    "tags": []
   },
   "outputs": [],
   "source": [
    "def make_bitarray():\n",
    "    a = bitarray(32737, endian='little')\n",
    "    a.setall(True)   \n",
    "    return a\n",
    "\n",
    "def clear_mem():\n",
    "    %reset -f out\n",
    "    %reset -f in\n",
    "    gc.collect()"
   ]
  },
  {
   "cell_type": "code",
   "execution_count": 4,
   "metadata": {
    "execution": {
     "iopub.execute_input": "2020-12-28T11:22:37.117068Z",
     "iopub.status.busy": "2020-12-28T11:22:37.116309Z",
     "iopub.status.idle": "2020-12-28T11:22:37.119823Z",
     "shell.execute_reply": "2020-12-28T11:22:37.119078Z"
    },
    "papermill": {
     "duration": 0.041424,
     "end_time": "2020-12-28T11:22:37.119945",
     "exception": false,
     "start_time": "2020-12-28T11:22:37.078521",
     "status": "completed"
    },
    "tags": []
   },
   "outputs": [],
   "source": [
    "FULL_TRAIN = False\n",
    "CV_SCHEME = \"time\" #\"original\""
   ]
  },
  {
   "cell_type": "markdown",
   "metadata": {
    "papermill": {
     "duration": 0.032604,
     "end_time": "2020-12-28T11:22:37.185627",
     "exception": false,
     "start_time": "2020-12-28T11:22:37.153023",
     "status": "completed"
    },
    "tags": []
   },
   "source": [
    "# Preprocess"
   ]
  },
  {
   "cell_type": "code",
   "execution_count": 5,
   "metadata": {
    "execution": {
     "iopub.execute_input": "2020-12-28T11:22:37.258233Z",
     "iopub.status.busy": "2020-12-28T11:22:37.257332Z",
     "iopub.status.idle": "2020-12-28T11:22:37.260678Z",
     "shell.execute_reply": "2020-12-28T11:22:37.260023Z"
    },
    "papermill": {
     "duration": 0.042273,
     "end_time": "2020-12-28T11:22:37.260816",
     "exception": false,
     "start_time": "2020-12-28T11:22:37.218543",
     "status": "completed"
    },
    "tags": []
   },
   "outputs": [],
   "source": [
    "data_types_dict = {\n",
    "    'timestamp': 'int64',\n",
    "    'user_id': 'int32', \n",
    "    'content_id': 'int16', \n",
    "    'answered_correctly': 'int8', \n",
    "    'prior_question_elapsed_time': 'float32', \n",
    "    'prior_question_had_explanation': 'bool',\n",
    "}\n",
    "target = 'answered_correctly'"
   ]
  },
  {
   "cell_type": "code",
   "execution_count": 6,
   "metadata": {
    "execution": {
     "iopub.execute_input": "2020-12-28T11:22:37.334112Z",
     "iopub.status.busy": "2020-12-28T11:22:37.333046Z",
     "iopub.status.idle": "2020-12-28T11:24:19.674479Z",
     "shell.execute_reply": "2020-12-28T11:24:19.673732Z"
    },
    "papermill": {
     "duration": 102.380479,
     "end_time": "2020-12-28T11:24:19.674639",
     "exception": false,
     "start_time": "2020-12-28T11:22:37.294160",
     "status": "completed"
    },
    "tags": []
   },
   "outputs": [],
   "source": [
    "train_df = dt.fread('../input/riiid-test-answer-prediction/train.csv', columns=set(data_types_dict.keys())).to_pandas()"
   ]
  },
  {
   "cell_type": "code",
   "execution_count": 7,
   "metadata": {
    "execution": {
     "iopub.execute_input": "2020-12-28T11:24:19.769324Z",
     "iopub.status.busy": "2020-12-28T11:24:19.767831Z",
     "iopub.status.idle": "2020-12-28T11:25:09.074812Z",
     "shell.execute_reply": "2020-12-28T11:25:09.074142Z"
    },
    "papermill": {
     "duration": 49.366063,
     "end_time": "2020-12-28T11:25:09.074958",
     "exception": false,
     "start_time": "2020-12-28T11:24:19.708895",
     "status": "completed"
    },
    "tags": []
   },
   "outputs": [],
   "source": [
    "@jit\n",
    "def time_from_lec(A, T):\n",
    "    ans = np.zeros(len(T))\n",
    "    prev = 0\n",
    "    flg = False\n",
    "    for i in range(len(A)):\n",
    "        if A[i] == -1:\n",
    "            flg = True\n",
    "            prev = T[i]\n",
    "            \n",
    "        if flg:\n",
    "            ans[i] = T[i]-prev\n",
    "        else:\n",
    "            ans[i] = -1\n",
    "            \n",
    "    return ans\n",
    "\n",
    "time_from_lec_array = train_df.groupby(\"user_id\").apply(lambda x: time_from_lec(x[\"answered_correctly\"].values, x[\"timestamp\"].values))\n",
    "time_from_lec_array = np.hstack(time_from_lec_array)\n",
    "train_df[\"time_from_lec\"] = time_from_lec_array\n",
    "del time_from_lec_array\n",
    "\n",
    "user_last_lec_time_dict = train_df[train_df[target] == -1].groupby(\"user_id\").tail(1)[\"timestamp\"].to_dict(defaultdict(lambda: -1))"
   ]
  },
  {
   "cell_type": "code",
   "execution_count": 8,
   "metadata": {
    "execution": {
     "iopub.execute_input": "2020-12-28T11:25:09.151639Z",
     "iopub.status.busy": "2020-12-28T11:25:09.150604Z",
     "iopub.status.idle": "2020-12-28T11:25:41.853725Z",
     "shell.execute_reply": "2020-12-28T11:25:41.853052Z"
    },
    "papermill": {
     "duration": 32.745331,
     "end_time": "2020-12-28T11:25:41.853867",
     "exception": false,
     "start_time": "2020-12-28T11:25:09.108536",
     "status": "completed"
    },
    "tags": []
   },
   "outputs": [],
   "source": [
    "train_df = train_df[train_df[target] != -1].reset_index(drop=True)\n",
    "\n",
    "time_from_lec_array = train_df[\"time_from_lec\"].values\n",
    "del train_df[\"time_from_lec\"]\n",
    "\n",
    "train_df['prior_question_had_explanation'] = train_df['prior_question_had_explanation'].fillna(False).astype('int8')\n",
    "train_df['prior_question_elapsed_time'].fillna(0, inplace=True)\n",
    "\n",
    "train_df = train_df.astype(data_types_dict)"
   ]
  },
  {
   "cell_type": "code",
   "execution_count": 9,
   "metadata": {
    "execution": {
     "iopub.execute_input": "2020-12-28T11:25:43.179053Z",
     "iopub.status.busy": "2020-12-28T11:25:41.930728Z",
     "iopub.status.idle": "2020-12-28T11:26:07.039184Z",
     "shell.execute_reply": "2020-12-28T11:26:07.038545Z"
    },
    "papermill": {
     "duration": 25.151329,
     "end_time": "2020-12-28T11:26:07.039316",
     "exception": false,
     "start_time": "2020-12-28T11:25:41.887987",
     "status": "completed"
    },
    "tags": []
   },
   "outputs": [],
   "source": [
    "if CV_SCHEME==\"time\":\n",
    "    max_timestamp_u = train_df[['user_id','timestamp']].groupby(['user_id']).agg(['max']).reset_index()\n",
    "    max_timestamp_u.columns = ['user_id', 'max_time_stamp']\n",
    "    MAX_TIME_STAMP = max_timestamp_u.max_time_stamp.max()\n",
    "\n",
    "    def rand_time(max_time_stamp):\n",
    "        interval = MAX_TIME_STAMP - max_time_stamp\n",
    "        rand_time_stamp = random.randint(0,interval)\n",
    "        return rand_time_stamp\n",
    "\n",
    "    max_timestamp_u['rand_time_stamp'] = max_timestamp_u.max_time_stamp.apply(rand_time)\n",
    "    train_df = train_df.merge(max_timestamp_u, on='user_id', how='left')\n",
    "    train_df['viretual_time_stamp'] = train_df.timestamp + train_df['rand_time_stamp']\n",
    "\n",
    "    del train_df['max_time_stamp']\n",
    "    del train_df['rand_time_stamp']\n",
    "    del max_timestamp_u\n",
    "\n",
    "    train_index = list(train_df['viretual_time_stamp'].nlargest(10000000).index)\n",
    "\n",
    "else:\n",
    "    if FULL_TRAIN:\n",
    "        train_size = 200\n",
    "    else:\n",
    "        train_size = 24\n",
    "        valid_size = 6\n",
    "    \n",
    "    train_index = list(train_df.groupby('user_id').tail(train_size).index)"
   ]
  },
  {
   "cell_type": "code",
   "execution_count": 10,
   "metadata": {
    "execution": {
     "iopub.execute_input": "2020-12-28T11:26:09.289635Z",
     "iopub.status.busy": "2020-12-28T11:26:09.288550Z",
     "iopub.status.idle": "2020-12-28T11:26:09.447657Z",
     "shell.execute_reply": "2020-12-28T11:26:09.446968Z"
    },
    "papermill": {
     "duration": 2.374318,
     "end_time": "2020-12-28T11:26:09.447794",
     "exception": false,
     "start_time": "2020-12-28T11:26:07.073476",
     "status": "completed"
    },
    "tags": []
   },
   "outputs": [],
   "source": [
    "time_from_lec_array = time_from_lec_array[train_index]"
   ]
  },
  {
   "cell_type": "code",
   "execution_count": 11,
   "metadata": {
    "execution": {
     "iopub.execute_input": "2020-12-28T11:26:09.528541Z",
     "iopub.status.busy": "2020-12-28T11:26:09.527006Z",
     "iopub.status.idle": "2020-12-28T11:26:41.831747Z",
     "shell.execute_reply": "2020-12-28T11:26:41.831011Z"
    },
    "papermill": {
     "duration": 32.350177,
     "end_time": "2020-12-28T11:26:41.831877",
     "exception": false,
     "start_time": "2020-12-28T11:26:09.481700",
     "status": "completed"
    },
    "tags": []
   },
   "outputs": [],
   "source": [
    "@jit\n",
    "def count_by_bundle(T):\n",
    "    ans = np.zeros(len(T))\n",
    "    prev_time = -1\n",
    "    count = 0\n",
    "    for i in range(len(T)):\n",
    "        if i == 0:\n",
    "            ans[i] = 0\n",
    "        elif prev_time == T[i]:\n",
    "            ans[i] = ans[i-1]\n",
    "        else:\n",
    "            ans[i] = count          \n",
    "        prev_time = T[i]\n",
    "        count += 1\n",
    "    return ans\n",
    "\n",
    "count_array = train_df.groupby(\"user_id\").apply(lambda x: count_by_bundle(x[\"timestamp\"].values))\n",
    "count_array = np.hstack(count_array)\n",
    "count_array = count_array[train_index]\n",
    "count_zero_index = count_array == 0"
   ]
  },
  {
   "cell_type": "code",
   "execution_count": 12,
   "metadata": {
    "execution": {
     "iopub.execute_input": "2020-12-28T11:26:42.156519Z",
     "iopub.status.busy": "2020-12-28T11:26:42.151383Z",
     "iopub.status.idle": "2020-12-28T11:31:42.840536Z",
     "shell.execute_reply": "2020-12-28T11:31:42.839719Z"
    },
    "papermill": {
     "duration": 300.974342,
     "end_time": "2020-12-28T11:31:42.840759",
     "exception": false,
     "start_time": "2020-12-28T11:26:41.866417",
     "status": "completed"
    },
    "tags": []
   },
   "outputs": [],
   "source": [
    "@jit\n",
    "def timediff_by_bundle(T):\n",
    "    ans = np.zeros(len(T))\n",
    "    prev_time = 0\n",
    "    for i in range(len(T)): \n",
    "        if i == 0:\n",
    "            ans[i] = np.nan\n",
    "        elif prev_time == T[i]:\n",
    "            ans[i] = ans[i-1]\n",
    "        else:\n",
    "            ans[i] = T[i] - prev_time\n",
    "        prev_time = T[i]\n",
    "    return ans\n",
    "\n",
    "timediff_array = train_df.groupby(\"user_id\").apply(lambda x: timediff_by_bundle(x[\"timestamp\"].values))\n",
    "timediff_array = np.hstack(timediff_array)\n",
    "timediff_array = timediff_array[train_index]\n",
    "\n",
    "@jit\n",
    "def timediff2_by_bundle(T):\n",
    "    ans = np.zeros(len(T))\n",
    "    prev_time = [-1, -1]\n",
    "    for i in range(len(T)): \n",
    "        if i == 0 or i == 1:\n",
    "            ans[i] = np.nan     \n",
    "        elif prev_time[1] == T[i]:\n",
    "            ans[i] = ans[i-1]\n",
    "        else:\n",
    "            ans[i] = T[i]-prev_time[0]\n",
    "            \n",
    "        if prev_time[0] == -1:\n",
    "            prev_time[0] = T[i]\n",
    "        elif prev_time[0] != T[i] and prev_time[1] == -1:\n",
    "            prev_time[1] = T[i]\n",
    "        elif T[i] not in prev_time:\n",
    "            prev_time[0] = prev_time[1]\n",
    "            prev_time[1] = T[i]\n",
    "    return ans\n",
    "\n",
    "timediff2_array = train_df.groupby(\"user_id\").apply(lambda x: timediff2_by_bundle(x[\"timestamp\"].values))\n",
    "timediff2_array = np.hstack(timediff2_array)\n",
    "timediff2_array = timediff2_array[train_index]\n",
    "\n",
    "@jit\n",
    "def timediff3_by_bundle(T):\n",
    "    ans = np.zeros(len(T))\n",
    "    prev_time = [-1, -1, -1]\n",
    "    for i in range(len(T)): \n",
    "        if i == 0 or i == 1 or i ==2:\n",
    "            ans[i] = np.nan\n",
    "        elif prev_time[2] == T[i]:\n",
    "            ans[i] = ans[i-1]\n",
    "        else:\n",
    "            ans[i] = T[i]-prev_time[0]\n",
    "            \n",
    "        if prev_time[0] == -1:\n",
    "            prev_time[0] = T[i]\n",
    "        elif prev_time[0] != T[i] and prev_time[1] == -1:\n",
    "            prev_time[1] = T[i]\n",
    "        elif prev_time[1] != T[i] and prev_time[2] == -1:\n",
    "            prev_time[2] = T[i]\n",
    "        elif T[i] not in prev_time:\n",
    "            prev_time[0] = prev_time[1]\n",
    "            prev_time[1] = prev_time[2]\n",
    "            prev_time[2] = T[i]\n",
    "    return ans\n",
    "\n",
    "timediff3_array = train_df.groupby(\"user_id\").apply(lambda x: timediff3_by_bundle(x[\"timestamp\"].values))\n",
    "timediff3_array = np.hstack(timediff3_array)\n",
    "timediff3_array = timediff3_array[train_index]\n",
    "\n",
    "@jit\n",
    "def timediff4_by_bundle(T):\n",
    "    ans = np.zeros(len(T))\n",
    "    prev_time = [-1, -1, -1, -1]\n",
    "    for i in range(len(T)): \n",
    "        if i == 0 or i == 1 or i ==2 or i == 3:\n",
    "            ans[i] = np.nan     \n",
    "        elif prev_time[3] == T[i]:\n",
    "            ans[i] = ans[i-1]\n",
    "        else:\n",
    "            ans[i] = T[i]- prev_time[0]\n",
    "            \n",
    "        if prev_time[0] == -1:\n",
    "            prev_time[0] = T[i]\n",
    "        elif prev_time[0] != T[i] and prev_time[1] == -1:\n",
    "            prev_time[1] = T[i]\n",
    "        elif prev_time[1] != T[i] and prev_time[2] == -1:\n",
    "            prev_time[2] = T[i]\n",
    "        elif prev_time[2] != T[i] and prev_time[3] == -1:\n",
    "            prev_time[3] = T[i]\n",
    "        elif T[i] not in prev_time:\n",
    "            prev_time[0] = prev_time[1]\n",
    "            prev_time[1] = prev_time[2]\n",
    "            prev_time[2] = prev_time[3]\n",
    "            prev_time[3] = T[i]\n",
    "    return ans\n",
    "\n",
    "timediff4_array = train_df.groupby(\"user_id\").apply(lambda x: timediff4_by_bundle(x[\"timestamp\"].values))\n",
    "timediff4_array = np.hstack(timediff4_array)\n",
    "timediff4_array = timediff4_array[train_index]\n",
    "\n",
    "user_timestamp_max_dict = train_df.groupby(\"user_id\")[\"timestamp\"].apply(lambda x: x.drop_duplicates()[-4:].values).to_dict(defaultdict(partial(np.ndarray, 0, dtype=\"int64\")))\n",
    "\n",
    "time_dd_array = timediff2_array - timediff_array\n",
    "timediff_array = np.nan_to_num(timediff_array, nan=-1)\n",
    "timediff2_array = np.nan_to_num(timediff2_array, nan=-1)\n",
    "timediff3_array = np.nan_to_num(timediff3_array, nan=-1)\n",
    "timediff4_array = np.nan_to_num(timediff4_array, nan=-1)\n",
    "time_dd_array = np.nan_to_num(time_dd_array, nan=-1)"
   ]
  },
  {
   "cell_type": "code",
   "execution_count": 13,
   "metadata": {
    "execution": {
     "iopub.execute_input": "2020-12-28T11:31:42.930101Z",
     "iopub.status.busy": "2020-12-28T11:31:42.928978Z",
     "iopub.status.idle": "2020-12-28T11:32:51.704174Z",
     "shell.execute_reply": "2020-12-28T11:32:51.703463Z"
    },
    "papermill": {
     "duration": 68.827005,
     "end_time": "2020-12-28T11:32:51.704319",
     "exception": false,
     "start_time": "2020-12-28T11:31:42.877314",
     "status": "completed"
    },
    "tags": []
   },
   "outputs": [],
   "source": [
    "@jit\n",
    "def elapsed_time_mean_by_bundle(E, T):\n",
    "    ans = np.zeros(len(T))\n",
    "    count = 0\n",
    "    prev_time = -1 \n",
    "    for i in range(len(T)): \n",
    "        if prev_time == T[i]:\n",
    "            ans[i] = ans[i-1]\n",
    "        else:\n",
    "            ans[i] = count\n",
    "        prev_time = T[i]\n",
    "        count = count + E[i]\n",
    "    return ans\n",
    "\n",
    "prior_question_elapsed_time_mean_array = train_df.groupby(\"user_id\").apply(lambda x: \n",
    "                                                                         elapsed_time_mean_by_bundle(x[\"prior_question_elapsed_time\"].values, \n",
    "                                                                                                     x[\"timestamp\"].values))\n",
    "prior_question_elapsed_time_mean_array = np.hstack(prior_question_elapsed_time_mean_array)\n",
    "prior_question_elapsed_time_mean_array = prior_question_elapsed_time_mean_array[train_index]\n",
    "prior_question_elapsed_time_mean_array = prior_question_elapsed_time_mean_array / count_array\n",
    "prior_question_elapsed_time_mean_array[count_zero_index] = -1\n",
    "\n",
    "user_prior_question_elapsed_time_sum_agg = train_df.groupby('user_id')[\"prior_question_elapsed_time\"].agg(['sum'])\n",
    "user_prior_question_elapsed_time_sum_dict = user_prior_question_elapsed_time_sum_agg['sum'].astype('int32').to_dict(defaultdict(int))\n",
    "del user_prior_question_elapsed_time_sum_agg\n",
    "\n",
    "prior_question_elapsed_time_array = train_df.prior_question_elapsed_time.values\n",
    "train_df.drop(\"prior_question_elapsed_time\", axis =1, inplace=True)\n",
    "prior_question_elapsed_time_array = prior_question_elapsed_time_array[train_index]"
   ]
  },
  {
   "cell_type": "code",
   "execution_count": 14,
   "metadata": {
    "execution": {
     "iopub.execute_input": "2020-12-28T11:32:51.791584Z",
     "iopub.status.busy": "2020-12-28T11:32:51.790767Z",
     "iopub.status.idle": "2020-12-28T11:33:10.380457Z",
     "shell.execute_reply": "2020-12-28T11:33:10.381034Z"
    },
    "papermill": {
     "duration": 18.641946,
     "end_time": "2020-12-28T11:33:10.381230",
     "exception": false,
     "start_time": "2020-12-28T11:32:51.739284",
     "status": "completed"
    },
    "tags": []
   },
   "outputs": [],
   "source": [
    "questions_df = pd.read_csv(\n",
    "    '../input/riiid-test-answer-prediction/questions.csv', \n",
    "    usecols=[0, 1, 3], \n",
    "    dtype={'question_id': 'int16', 'bundle_id': 'int16', 'part': 'int8'} \n",
    ")\n",
    "\n",
    "additional_q_df = pd.read_csv('../input/riiid-question-clustering/question_cmnts.csv')\n",
    "questions_df[\"community\"] = additional_q_df[\"community\"].astype('int8')\n",
    "del additional_q_df \n",
    "    \n",
    "train_df = pd.merge(train_df, questions_df, left_on='content_id', right_on='question_id', how='left', right_index=True).reset_index(drop=True)\n",
    "train_df.drop(columns=['question_id'], inplace=True)"
   ]
  },
  {
   "cell_type": "code",
   "execution_count": 15,
   "metadata": {
    "execution": {
     "iopub.execute_input": "2020-12-28T11:33:10.458777Z",
     "iopub.status.busy": "2020-12-28T11:33:10.457966Z",
     "iopub.status.idle": "2020-12-28T11:33:12.716649Z",
     "shell.execute_reply": "2020-12-28T11:33:12.715959Z"
    },
    "papermill": {
     "duration": 2.300266,
     "end_time": "2020-12-28T11:33:12.716779",
     "exception": false,
     "start_time": "2020-12-28T11:33:10.416513",
     "status": "completed"
    },
    "tags": []
   },
   "outputs": [],
   "source": [
    "# bundle_agg = train_df.groupby('bundle_id')[target].agg(['sum', 'count'])\n",
    "# bundle_sum_dict = bundle_agg['sum'].astype('int32').to_dict(defaultdict(int))\n",
    "# bundle_count_dict = bundle_agg['count'].astype('int32').to_dict(defaultdict(int))\n",
    "# del bundle_agg\n",
    "\n",
    "# bundle_correctness_array = train_df['bundle_id'].map(bundle_agg['sum'] / bundle_agg['count']).values\n",
    "# bundle_correctness_array = bundle_correctness_array[train_index]\n",
    "# bundle_count_array = train_df['bundle_id'].map(bundle_agg['count']).astype('int32').values\n",
    "# bundle_count_array = bundle_count_array[train_index]\n",
    "\n",
    "bundle_id_array = train_df[\"bundle_id\"].values\n",
    "del train_df[\"bundle_id\"]\n",
    "bundle_id_array = bundle_id_array[train_index]"
   ]
  },
  {
   "cell_type": "code",
   "execution_count": 16,
   "metadata": {
    "execution": {
     "iopub.execute_input": "2020-12-28T11:33:12.813265Z",
     "iopub.status.busy": "2020-12-28T11:33:12.811353Z",
     "iopub.status.idle": "2020-12-28T11:33:12.818733Z",
     "shell.execute_reply": "2020-12-28T11:33:12.818065Z"
    },
    "papermill": {
     "duration": 0.066895,
     "end_time": "2020-12-28T11:33:12.818874",
     "exception": false,
     "start_time": "2020-12-28T11:33:12.751979",
     "status": "completed"
    },
    "tags": []
   },
   "outputs": [
    {
     "name": "stdout",
     "output_type": "stream",
     "text": [
      "76\n"
     ]
    }
   ],
   "source": [
    "###\n",
    "community_num = len(questions_df.community.unique())\n",
    "print(community_num)\n",
    "\n",
    "@jit\n",
    "def tag_accuracy(A, C):\n",
    "    ans = []\n",
    "    community_count = [0] * community_num\n",
    "    community_correct = [0] * community_num\n",
    "    for i in range(len(C)):\n",
    "        if community_count[C[i]]==0:\n",
    "            ans.append(-1)\n",
    "        else:\n",
    "            ans.append(community_correct[C[i]]/community_count[C[i]])\n",
    "        community_count[C[i]] +=1\n",
    "        community_correct[C[i]] += A[i]\n",
    "    return np.array(ans)\n",
    "\n",
    "@jit\n",
    "def tag_correct_last(A, C):\n",
    "    community_correct = [0] * community_num\n",
    "    for i in range(len(C)):\n",
    "        community_correct[C[i]] += A[i]\n",
    "    return np.array(community_correct)\n",
    "\n",
    "@jit\n",
    "def tag_count_last(A, C):\n",
    "    community_count = [0] * community_num\n",
    "    for i in range(len(C)):\n",
    "        community_count[C[i]] +=1\n",
    "    return np.array(community_count)\n",
    "\n",
    "def init_dict():\n",
    "    ans = [0] * community_num\n",
    "    return np.array(ans)"
   ]
  },
  {
   "cell_type": "code",
   "execution_count": 17,
   "metadata": {
    "execution": {
     "iopub.execute_input": "2020-12-28T11:33:12.905085Z",
     "iopub.status.busy": "2020-12-28T11:33:12.904278Z",
     "iopub.status.idle": "2020-12-28T11:35:36.873704Z",
     "shell.execute_reply": "2020-12-28T11:35:36.872978Z"
    },
    "papermill": {
     "duration": 144.018761,
     "end_time": "2020-12-28T11:35:36.873848",
     "exception": false,
     "start_time": "2020-12-28T11:33:12.855087",
     "status": "completed"
    },
    "tags": []
   },
   "outputs": [],
   "source": [
    "###\n",
    "tag_acc_array = train_df.groupby(\"user_id\").apply(lambda x: tag_accuracy(x[\"answered_correctly\"].values, x[\"community\"].values))\n",
    "tag_acc_array = np.hstack(tag_acc_array)\n",
    "tag_acc_array = tag_acc_array[train_index]\n",
    "\n",
    "user_community_count_dict = train_df.groupby(\"user_id\").apply(lambda x: tag_count_last(x[\"answered_correctly\"].values, x[\"community\"].values)).to_dict(defaultdict(init_dict))\n",
    "user_community_correct_dict = train_df.groupby(\"user_id\").apply(lambda x: tag_correct_last(x[\"answered_correctly\"].values, x[\"community\"].values)).to_dict(defaultdict(init_dict))\n",
    "    \n",
    "#\n",
    "community_agg = train_df.groupby('community')[target].agg(['count'])\n",
    "community_count_dict = community_agg['count'].astype('int32').to_dict(defaultdict(int))\n",
    "community_count_array = train_df['community'].map(community_agg['count']).astype('int32').values\n",
    "del community_agg\n",
    "community_count_array = community_count_array[train_index]\n",
    "    \n",
    "community_array = train_df[\"community\"].values\n",
    "community_array = community_array[train_index]\n",
    "train_df.drop('community', axis=1, inplace=True)"
   ]
  },
  {
   "cell_type": "code",
   "execution_count": 18,
   "metadata": {
    "execution": {
     "iopub.execute_input": "2020-12-28T11:35:36.961965Z",
     "iopub.status.busy": "2020-12-28T11:35:36.961111Z",
     "iopub.status.idle": "2020-12-28T11:36:22.841323Z",
     "shell.execute_reply": "2020-12-28T11:36:22.840672Z"
    },
    "papermill": {
     "duration": 45.931217,
     "end_time": "2020-12-28T11:36:22.841468",
     "exception": false,
     "start_time": "2020-12-28T11:35:36.910251",
     "status": "completed"
    },
    "tags": []
   },
   "outputs": [],
   "source": [
    "@jit\n",
    "def user_correctness_by_bundle(A, T):\n",
    "    ans = np.zeros(len(T))\n",
    "    count = np.zeros(len(T))\n",
    "    correct = np.zeros(len(T))\n",
    "    prev_time = 0\n",
    "    for i in range(len(T)): \n",
    "        if i == 0:\n",
    "            ans[i] = -1\n",
    "        elif prev_time == T[i]:\n",
    "            ans[i] = ans[i-1]\n",
    "        else:\n",
    "            if count[i-1] == 0:\n",
    "                ans[i] = -1\n",
    "            else:\n",
    "                ans[i] = correct[i-1] / count[i-1]\n",
    "        count[i] = count[i-1] + 1\n",
    "        correct[i] = correct[i-1] + A[i]\n",
    "        prev_time = T[i]\n",
    "    return ans\n",
    "\n",
    "user_correctness_array = train_df.groupby(\"user_id\").apply(lambda x: user_correctness_by_bundle(x[\"answered_correctly\"].values,\n",
    "                                                                                                x[\"timestamp\"].values))\n",
    "user_correctness_array = np.hstack(user_correctness_array)\n",
    "user_correctness_array = user_correctness_array[train_index]"
   ]
  },
  {
   "cell_type": "code",
   "execution_count": 19,
   "metadata": {
    "execution": {
     "iopub.execute_input": "2020-12-28T11:36:22.928732Z",
     "iopub.status.busy": "2020-12-28T11:36:22.923542Z",
     "iopub.status.idle": "2020-12-28T11:37:39.973464Z",
     "shell.execute_reply": "2020-12-28T11:37:39.972740Z"
    },
    "papermill": {
     "duration": 77.095534,
     "end_time": "2020-12-28T11:37:39.973606",
     "exception": false,
     "start_time": "2020-12-28T11:36:22.878072",
     "status": "completed"
    },
    "tags": []
   },
   "outputs": [],
   "source": [
    "@jit\n",
    "def part_count_by_bundle(P, T):\n",
    "    ans = np.zeros(len(T))\n",
    "    part_count = [0] * 8\n",
    "    prev_time = -1\n",
    "    for i in range(len(T)):\n",
    "        if i == 0:\n",
    "            ans[i] = 0\n",
    "        elif prev_time == T[i]:\n",
    "            ans[i] = ans[i-1]\n",
    "        else:\n",
    "            ans[i] = part_count[P[i]]            \n",
    "        prev_time = T[i]\n",
    "        part_count[P[i]] += 1\n",
    "    return ans \n",
    "\n",
    "@jit\n",
    "def part_count_dict_calc(P):\n",
    "    part_count = [0] * 8\n",
    "    for i in range(len(P)):\n",
    "        part_count[P[i]] += 1\n",
    "    return np.array(part_count)\n",
    "\n",
    "def part_dict_init():\n",
    "    ans = [0] * 8\n",
    "    return np.array(ans)\n",
    "\n",
    "part_count_array = train_df.groupby(\"user_id\").apply(lambda x: part_count_by_bundle(x[\"part\"].values,\n",
    "                                                                                    x[\"timestamp\"].values))\n",
    "part_count_array = np.hstack(part_count_array)\n",
    "part_count_array = part_count_array[train_index]\n",
    "part_ratio_array = part_count_array / count_array\n",
    "part_ratio_array[count_zero_index] = -1\n",
    "\n",
    "user_part_count_dict = train_df.groupby(\"user_id\").apply(lambda x: part_count_dict_calc(x[\"part\"].values)).to_dict(defaultdict(part_dict_init))\n",
    "\n",
    "part_array = train_df.part.values\n",
    "train_df.drop(\"part\", axis=1, inplace=True)\n",
    "part_array = part_array[train_index]"
   ]
  },
  {
   "cell_type": "code",
   "execution_count": 20,
   "metadata": {
    "execution": {
     "iopub.execute_input": "2020-12-28T11:37:40.075831Z",
     "iopub.status.busy": "2020-12-28T11:37:40.056746Z",
     "iopub.status.idle": "2020-12-28T11:38:32.585273Z",
     "shell.execute_reply": "2020-12-28T11:38:32.584488Z"
    },
    "papermill": {
     "duration": 52.574031,
     "end_time": "2020-12-28T11:38:32.585410",
     "exception": false,
     "start_time": "2020-12-28T11:37:40.011379",
     "status": "completed"
    },
    "tags": []
   },
   "outputs": [],
   "source": [
    "@jit\n",
    "def had_explanation_mean_by_bundle(E, T):\n",
    "    ans = np.zeros(len(T))\n",
    "    count = 0\n",
    "    prev_time = -1 \n",
    "    for i in range(len(T)): \n",
    "        if prev_time == T[i]:\n",
    "            ans[i] = ans[i-1]\n",
    "        else:\n",
    "            ans[i] = count\n",
    "        prev_time = T[i]\n",
    "        count = count + E[i]\n",
    "    return ans\n",
    "\n",
    "prior_question_had_explanation_mean_array = train_df.groupby(\"user_id\").apply(lambda x: \n",
    "                                                                         had_explanation_mean_by_bundle(x[\"prior_question_had_explanation\"].values, \n",
    "                                                                                                        x[\"timestamp\"].values))\n",
    "prior_question_had_explanation_mean_array = np.hstack(prior_question_had_explanation_mean_array)\n",
    "prior_question_had_explanation_mean_array = prior_question_had_explanation_mean_array[train_index]\n",
    "prior_question_had_explanation_mean_array = prior_question_had_explanation_mean_array / count_array\n",
    "prior_question_had_explanation_mean_array[count_zero_index] = -1\n",
    "\n",
    "user_prior_question_had_explanation_sum_agg = train_df.groupby('user_id')[\"prior_question_had_explanation\"].agg(['sum'])\n",
    "user_prior_question_had_explanation_sum_dict = user_prior_question_had_explanation_sum_agg['sum'].astype('int32').to_dict(defaultdict(int))\n",
    "del user_prior_question_had_explanation_sum_agg\n",
    "\n",
    "prior_question_had_explanation_array = train_df.prior_question_had_explanation.values\n",
    "train_df.drop('prior_question_had_explanation', axis=1, inplace=True)\n",
    "prior_question_had_explanation_array = prior_question_had_explanation_array[train_index]"
   ]
  },
  {
   "cell_type": "code",
   "execution_count": 21,
   "metadata": {
    "execution": {
     "iopub.execute_input": "2020-12-28T11:38:32.677258Z",
     "iopub.status.busy": "2020-12-28T11:38:32.676467Z",
     "iopub.status.idle": "2020-12-28T11:39:07.181375Z",
     "shell.execute_reply": "2020-12-28T11:39:07.180622Z"
    },
    "papermill": {
     "duration": 34.55996,
     "end_time": "2020-12-28T11:39:07.181517",
     "exception": false,
     "start_time": "2020-12-28T11:38:32.621557",
     "status": "completed"
    },
    "tags": []
   },
   "outputs": [
    {
     "name": "stdout",
     "output_type": "stream",
     "text": [
      "Flushing output cache (0 entries)\n",
      "Flushing input history\n"
     ]
    }
   ],
   "source": [
    "first_attempt_df = pd.read_csv(\"../input/riiidpremadedatabundle/content_first_attempt.csv\")\n",
    "first_attempt_array = first_attempt_df.first_attempt.values\n",
    "train_df[\"first_attempt\"] = first_attempt_array\n",
    "\n",
    "unique_attempt_array= train_df.groupby(\"user_id\")[\"first_attempt\"].cumsum().values\n",
    "train_df[\"unique_attempt\"] = unique_attempt_array\n",
    "user_unique_agg = train_df.groupby('user_id')[\"unique_attempt\"].agg(['max'])\n",
    "user_unique_dict = user_unique_agg['max'].astype('int32').to_dict(defaultdict(int))\n",
    "\n",
    "first_attempt_array = first_attempt_array[train_index]\n",
    "unique_attempt_array = unique_attempt_array[train_index]\n",
    "train_df.drop(['first_attempt', 'unique_attempt'], axis=1, inplace=True)\n",
    "del first_attempt_df, user_unique_agg\n",
    "\n",
    "clear_mem()"
   ]
  },
  {
   "cell_type": "code",
   "execution_count": 22,
   "metadata": {
    "execution": {
     "iopub.execute_input": "2020-12-28T11:39:07.268951Z",
     "iopub.status.busy": "2020-12-28T11:39:07.268180Z",
     "iopub.status.idle": "2020-12-28T11:39:48.321537Z",
     "shell.execute_reply": "2020-12-28T11:39:48.320851Z"
    },
    "papermill": {
     "duration": 41.103077,
     "end_time": "2020-12-28T11:39:48.321684",
     "exception": false,
     "start_time": "2020-12-28T11:39:07.218607",
     "status": "completed"
    },
    "tags": []
   },
   "outputs": [
    {
     "name": "stdout",
     "output_type": "stream",
     "text": [
      "Flushing output cache (0 entries)\n",
      "Flushing input history\n",
      "Flushing output cache (0 entries)\n",
      "Flushing input history\n",
      "0.0\n"
     ]
    }
   ],
   "source": [
    "user_agg = train_df.groupby('user_id')[target].agg(['sum', 'count'])\n",
    "user_sum_dict = user_agg['sum'].astype('int16').to_dict(defaultdict(int))\n",
    "del user_agg['sum']\n",
    "user_count_dict = user_agg['count'].astype('int16').to_dict(defaultdict(int))\n",
    "del user_agg['count']\n",
    "clear_mem()\n",
    "\n",
    "#\n",
    "content_agg = train_df.groupby('content_id')[target].agg(['sum', 'count'])\n",
    "content_sum_dict = content_agg['sum'].astype('int32').to_dict(defaultdict(int))\n",
    "content_count_dict = content_agg['count'].astype('int32').to_dict(defaultdict(int))\n",
    "\n",
    "content_count_array = train_df['content_id'].map(content_agg['count']).astype('int32').values\n",
    "content_id_array = train_df['content_id'].map(content_agg['sum'] / content_agg['count']).values\n",
    "del content_agg\n",
    "clear_mem()\n",
    "print(min(content_id_array))"
   ]
  },
  {
   "cell_type": "code",
   "execution_count": 23,
   "metadata": {
    "execution": {
     "iopub.execute_input": "2020-12-28T11:39:48.408181Z",
     "iopub.status.busy": "2020-12-28T11:39:48.407373Z",
     "iopub.status.idle": "2020-12-28T11:40:07.787144Z",
     "shell.execute_reply": "2020-12-28T11:40:07.786515Z"
    },
    "papermill": {
     "duration": 19.426226,
     "end_time": "2020-12-28T11:40:07.787283",
     "exception": false,
     "start_time": "2020-12-28T11:39:48.361057",
     "status": "completed"
    },
    "tags": []
   },
   "outputs": [],
   "source": [
    "with open('../input/riiidpremadedatabundle/got_point_array.pickle', 'rb') as f:\n",
    "    got_point_array = pickle.load(f)\n",
    "got_point_array = got_point_array[train_index]\n",
    "got_point_array = got_point_array / count_array\n",
    "got_point_array[count_zero_index] = -1\n",
    "    \n",
    "with open('../input/riiidpremadedatabundle/user_point_sum_dict.pickle', 'rb') as f: \n",
    "    user_point_sum_dict = pickle.load(f)\n",
    "\n",
    "content_id_array = content_id_array[train_index]\n",
    "content_count_array = content_count_array[train_index]"
   ]
  },
  {
   "cell_type": "code",
   "execution_count": 24,
   "metadata": {
    "execution": {
     "iopub.execute_input": "2020-12-28T11:40:09.290302Z",
     "iopub.status.busy": "2020-12-28T11:40:09.284686Z",
     "iopub.status.idle": "2020-12-28T11:40:27.171434Z",
     "shell.execute_reply": "2020-12-28T11:40:27.170654Z"
    },
    "papermill": {
     "duration": 19.345369,
     "end_time": "2020-12-28T11:40:27.171558",
     "exception": false,
     "start_time": "2020-12-28T11:40:07.826189",
     "status": "completed"
    },
    "tags": []
   },
   "outputs": [],
   "source": [
    "train_df.drop([\"content_id\"], axis=1, inplace=True)\n",
    "\n",
    "with open('../input/riiidpremadedatabundle/user_content_dict.pickle', 'rb') as f: \n",
    "    user_content_dict = pickle.load(f)"
   ]
  },
  {
   "cell_type": "code",
   "execution_count": 25,
   "metadata": {
    "execution": {
     "iopub.execute_input": "2020-12-28T11:40:27.324921Z",
     "iopub.status.busy": "2020-12-28T11:40:27.309202Z",
     "iopub.status.idle": "2020-12-28T11:40:41.661348Z",
     "shell.execute_reply": "2020-12-28T11:40:41.660506Z"
    },
    "papermill": {
     "duration": 14.44998,
     "end_time": "2020-12-28T11:40:41.661478",
     "exception": false,
     "start_time": "2020-12-28T11:40:27.211498",
     "status": "completed"
    },
    "tags": []
   },
   "outputs": [],
   "source": [
    "def init_last7():\n",
    "    ans = [-1] * 7\n",
    "    return np.array(ans)\n",
    "\n",
    "with open('../input/riiidpremadedatabundle/answered_correctly_last7_array.pickle','rb') as f:\n",
    "    answered_correctly_last7_array = pickle.load(f)\n",
    "answered_correctly_last7_array = answered_correctly_last7_array[train_index]\n",
    "    \n",
    "with open('../input/riiidpremadedatabundle/user_last_count7_dict.pickle','rb') as f:\n",
    "    user_last_count7_dict = pickle.load(f)\n",
    "\n",
    "with open('../input/riiidpremadedatabundle/user_last_correct7_dict.pickle','rb') as f:\n",
    "    user_last_correct7_dict = pickle.load(f)"
   ]
  },
  {
   "cell_type": "code",
   "execution_count": 26,
   "metadata": {
    "execution": {
     "iopub.execute_input": "2020-12-28T11:40:41.753958Z",
     "iopub.status.busy": "2020-12-28T11:40:41.753205Z",
     "iopub.status.idle": "2020-12-28T11:41:07.659303Z",
     "shell.execute_reply": "2020-12-28T11:41:07.657299Z"
    },
    "papermill": {
     "duration": 25.95664,
     "end_time": "2020-12-28T11:41:07.659499",
     "exception": false,
     "start_time": "2020-12-28T11:40:41.702859",
     "status": "completed"
    },
    "tags": []
   },
   "outputs": [],
   "source": [
    "with open('../input/riiidpremadedatabundle/continuous_correct_array.pickle','rb') as f:\n",
    "    continuous_correct_array = pickle.load(f)\n",
    "continuous_correct_array=continuous_correct_array[train_index]\n",
    "    \n",
    "with open('../input/riiidpremadedatabundle/continuous_correct_dict.pickle','rb') as f:\n",
    "    continuous_correct_dict = pickle.load(f)\n",
    "    \n",
    "with open('../input/riiidpremadedatabundle/continuous_incorrect_array.pickle','rb') as f:\n",
    "    continuous_incorrect_array = pickle.load(f)\n",
    "continuous_incorrect_array=continuous_incorrect_array[train_index]\n",
    "    \n",
    "with open('../input/riiidpremadedatabundle/continuous_incorrect_dict.pickle','rb') as f:\n",
    "    continuous_incorrect_dict = pickle.load(f)"
   ]
  },
  {
   "cell_type": "code",
   "execution_count": 27,
   "metadata": {
    "execution": {
     "iopub.execute_input": "2020-12-28T11:41:12.365274Z",
     "iopub.status.busy": "2020-12-28T11:41:09.471729Z",
     "iopub.status.idle": "2020-12-28T11:41:12.430151Z",
     "shell.execute_reply": "2020-12-28T11:41:12.429514Z"
    },
    "papermill": {
     "duration": 4.726916,
     "end_time": "2020-12-28T11:41:12.430294",
     "exception": false,
     "start_time": "2020-12-28T11:41:07.703378",
     "status": "completed"
    },
    "tags": []
   },
   "outputs": [],
   "source": [
    "answered_correctly_array = train_df[target].values\n",
    "train_df.drop(target, axis=1, inplace=True)\n",
    "answered_correctly_array = answered_correctly_array[train_index]"
   ]
  },
  {
   "cell_type": "markdown",
   "metadata": {
    "papermill": {
     "duration": 0.038866,
     "end_time": "2020-12-28T11:41:12.508908",
     "exception": false,
     "start_time": "2020-12-28T11:41:12.470042",
     "status": "completed"
    },
    "tags": []
   },
   "source": [
    "# data formation"
   ]
  },
  {
   "cell_type": "code",
   "execution_count": 28,
   "metadata": {
    "execution": {
     "iopub.execute_input": "2020-12-28T11:41:12.652111Z",
     "iopub.status.busy": "2020-12-28T11:41:12.651340Z",
     "iopub.status.idle": "2020-12-28T11:41:30.809223Z",
     "shell.execute_reply": "2020-12-28T11:41:30.808446Z"
    },
    "papermill": {
     "duration": 18.261298,
     "end_time": "2020-12-28T11:41:30.809359",
     "exception": false,
     "start_time": "2020-12-28T11:41:12.548061",
     "status": "completed"
    },
    "tags": []
   },
   "outputs": [],
   "source": [
    "if not FULL_TRAIN:\n",
    "    train_df = train_df[train_df.index.isin(train_index)].reset_index(drop=True)\n",
    "    if CV_SCHEME == \"original\":\n",
    "        valid_index = list(train_df.groupby('user_id').tail(valid_size).index)\n",
    "    else:\n",
    "        valid_index = list(train_df['viretual_time_stamp'].nlargest(2500000).index)\n",
    "    train_index = list(train_df[~train_df.index.isin(valid_index)].index)\n",
    "del train_df"
   ]
  },
  {
   "cell_type": "code",
   "execution_count": 29,
   "metadata": {
    "execution": {
     "iopub.execute_input": "2020-12-28T11:41:30.905006Z",
     "iopub.status.busy": "2020-12-28T11:41:30.904146Z",
     "iopub.status.idle": "2020-12-28T11:41:30.907547Z",
     "shell.execute_reply": "2020-12-28T11:41:30.908327Z"
    },
    "papermill": {
     "duration": 0.058952,
     "end_time": "2020-12-28T11:41:30.908548",
     "exception": false,
     "start_time": "2020-12-28T11:41:30.849596",
     "status": "completed"
    },
    "tags": []
   },
   "outputs": [
    {
     "name": "stdout",
     "output_type": "stream",
     "text": [
      "27\n"
     ]
    }
   ],
   "source": [
    "features_dict = {\n",
    "    'content_id': content_id_array,\n",
    "    'prior_question_elapsed_time': prior_question_elapsed_time_array,\n",
    "    'prior_question_had_explanation':  prior_question_had_explanation_array,\n",
    "    'user_correctness': user_correctness_array,\n",
    "    'part': part_array,\n",
    "    'content_count': content_count_array,\n",
    "    'count': count_array,\n",
    "    'first_attempt': first_attempt_array,\n",
    "    'unique_attempt': unique_attempt_array,\n",
    "    'part_count': part_count_array,\n",
    "    'part_ratio': part_ratio_array,\n",
    "    'prior_question_had_explanation_mean': prior_question_had_explanation_mean_array,\n",
    "    'got_point': got_point_array,\n",
    "    'answered_correctly_last7': answered_correctly_last7_array,   \n",
    "    'timediff': timediff_array,\n",
    "    'timediff2': timediff2_array,\n",
    "    'timediff3': timediff3_array,\n",
    "    'timediff4': timediff4_array,\n",
    "    'community': community_array,\n",
    "    'tag_acc': tag_acc_array,\n",
    "    'community_count': community_count_array,\n",
    "    'time_dd': time_dd_array,\n",
    "    'continuous_correct': continuous_correct_array,\n",
    "    'continuous_incorrect': continuous_incorrect_array,\n",
    "    'prior_question_elapsed_time_mean': prior_question_elapsed_time_mean_array,\n",
    "    'time_from_lec': time_from_lec_array,\n",
    "    'bundle_id': bundle_id_array\n",
    "}\n",
    "\n",
    "features = list(features_dict.keys())\n",
    "print(len(features))\n",
    "\n",
    "del content_id_array, prior_question_elapsed_time_array, prior_question_had_explanation_array,\n",
    "del user_correctness_array, part_array,\n",
    "del content_count_array, count_array, first_attempt_array, unique_attempt_array,\n",
    "del part_ratio_array, part_count_array,\n",
    "del prior_question_had_explanation_mean_array, prior_question_elapsed_time_mean_array, got_point_array, \n",
    "del answered_correctly_last7_array, timediff_array, timediff2_array, timediff3_array, timediff4_array,\n",
    "del community_array,\n",
    "del tag_acc_array, community_count_array, time_dd_array, continuous_correct_array, continuous_incorrect_array\n",
    "del time_from_lec_array, bundle_id_array"
   ]
  },
  {
   "cell_type": "code",
   "execution_count": 30,
   "metadata": {
    "execution": {
     "iopub.execute_input": "2020-12-28T11:41:30.997480Z",
     "iopub.status.busy": "2020-12-28T11:41:30.996477Z",
     "iopub.status.idle": "2020-12-28T11:41:31.000023Z",
     "shell.execute_reply": "2020-12-28T11:41:31.000610Z"
    },
    "papermill": {
     "duration": 0.051152,
     "end_time": "2020-12-28T11:41:31.000766",
     "exception": false,
     "start_time": "2020-12-28T11:41:30.949614",
     "status": "completed"
    },
    "tags": []
   },
   "outputs": [
    {
     "name": "stdout",
     "output_type": "stream",
     "text": [
      "(7500000, 28) (2500000, 28)\n"
     ]
    }
   ],
   "source": [
    "if FULL_TRAIN:\n",
    "    print(len(train_index), len(features)+1)\n",
    "else:\n",
    "    print((len(train_index), len(features)+1), (len(valid_index), len(features)+1))"
   ]
  },
  {
   "cell_type": "markdown",
   "metadata": {
    "papermill": {
     "duration": 0.041393,
     "end_time": "2020-12-28T11:41:31.083163",
     "exception": false,
     "start_time": "2020-12-28T11:41:31.041770",
     "status": "completed"
    },
    "tags": []
   },
   "source": [
    "# Train"
   ]
  },
  {
   "cell_type": "code",
   "execution_count": 31,
   "metadata": {
    "execution": {
     "iopub.execute_input": "2020-12-28T11:41:31.173026Z",
     "iopub.status.busy": "2020-12-28T11:41:31.172179Z",
     "iopub.status.idle": "2020-12-28T11:41:31.175723Z",
     "shell.execute_reply": "2020-12-28T11:41:31.175143Z"
    },
    "papermill": {
     "duration": 0.050689,
     "end_time": "2020-12-28T11:41:31.175854",
     "exception": false,
     "start_time": "2020-12-28T11:41:31.125165",
     "status": "completed"
    },
    "tags": []
   },
   "outputs": [],
   "source": [
    "params = {\n",
    "    'objective': 'binary',\n",
    "    'seed': 42,\n",
    "    'metric': 'auc',\n",
    "    'learning_rate': 0.05,\n",
    "    'max_bin': 600,\n",
    "    'num_leaves': 80\n",
    "}"
   ]
  },
  {
   "cell_type": "code",
   "execution_count": 32,
   "metadata": {
    "execution": {
     "iopub.execute_input": "2020-12-28T11:41:32.918769Z",
     "iopub.status.busy": "2020-12-28T11:41:32.917958Z",
     "iopub.status.idle": "2020-12-28T11:42:36.590430Z",
     "shell.execute_reply": "2020-12-28T11:42:36.590994Z"
    },
    "papermill": {
     "duration": 65.373874,
     "end_time": "2020-12-28T11:42:36.591200",
     "exception": false,
     "start_time": "2020-12-28T11:41:31.217326",
     "status": "completed"
    },
    "tags": []
   },
   "outputs": [],
   "source": [
    "if FULL_TRAIN:\n",
    "    X_train = np.ndarray(shape=(len(train_index), len(features)), dtype=np.float32)\n",
    "\n",
    "    for idx, feature in enumerate(features):\n",
    "        X_train[:,idx] = features_dict[feature].astype(np.float32).reshape(-1)\n",
    "        del features_dict[feature]\n",
    "    y_train = answered_correctly_array.astype(np.float32)\n",
    "    tr_data = lgb.Dataset(X_train, label=y_train)\n",
    "else:\n",
    "    X_train = np.ndarray(shape=(len(train_index), len(features)), dtype=np.float32)\n",
    "    X_valid = np.ndarray(shape=(len(valid_index), len(features)), dtype=np.float32)\n",
    "\n",
    "    for idx, feature in enumerate(features):\n",
    "        X_train[:,idx] = features_dict[feature][train_index].astype(np.float32).reshape(-1)\n",
    "        X_valid[:,idx] = features_dict[feature][valid_index].astype(np.float32).reshape(-1)\n",
    "        del features_dict[feature]\n",
    "    y_train = answered_correctly_array[train_index].astype(np.float32)\n",
    "    y_valid = answered_correctly_array[valid_index].astype(np.float32)\n",
    "\n",
    "    tr_data = lgb.Dataset(X_train, label=y_train)\n",
    "    va_data = lgb.Dataset(X_valid, label=y_valid)"
   ]
  },
  {
   "cell_type": "code",
   "execution_count": 33,
   "metadata": {
    "execution": {
     "iopub.execute_input": "2020-12-28T11:42:36.682583Z",
     "iopub.status.busy": "2020-12-28T11:42:36.681826Z",
     "iopub.status.idle": "2020-12-28T13:07:34.852692Z",
     "shell.execute_reply": "2020-12-28T13:07:34.853644Z"
    },
    "papermill": {
     "duration": 5098.221366,
     "end_time": "2020-12-28T13:07:34.853991",
     "exception": false,
     "start_time": "2020-12-28T11:42:36.632625",
     "status": "completed"
    },
    "tags": []
   },
   "outputs": [
    {
     "name": "stdout",
     "output_type": "stream",
     "text": [
      "training starts\n",
      "Training until validation scores don't improve for 8 rounds\n",
      "[50]\ttraining's auc: 0.774792\tvalid_1's auc: 0.775367\n",
      "[100]\ttraining's auc: 0.78044\tvalid_1's auc: 0.780753\n",
      "[150]\ttraining's auc: 0.78324\tvalid_1's auc: 0.78329\n",
      "[200]\ttraining's auc: 0.784942\tvalid_1's auc: 0.784756\n",
      "[250]\ttraining's auc: 0.786021\tvalid_1's auc: 0.785612\n",
      "[300]\ttraining's auc: 0.786791\tvalid_1's auc: 0.786154\n",
      "[350]\ttraining's auc: 0.787398\tvalid_1's auc: 0.78653\n",
      "[400]\ttraining's auc: 0.787958\tvalid_1's auc: 0.78685\n",
      "[450]\ttraining's auc: 0.788563\tvalid_1's auc: 0.787241\n",
      "[500]\ttraining's auc: 0.788997\tvalid_1's auc: 0.78745\n",
      "[550]\ttraining's auc: 0.789406\tvalid_1's auc: 0.787641\n",
      "[600]\ttraining's auc: 0.789761\tvalid_1's auc: 0.787775\n",
      "[650]\ttraining's auc: 0.790119\tvalid_1's auc: 0.787908\n",
      "[700]\ttraining's auc: 0.790488\tvalid_1's auc: 0.78806\n",
      "[750]\ttraining's auc: 0.790854\tvalid_1's auc: 0.78819\n",
      "[800]\ttraining's auc: 0.791214\tvalid_1's auc: 0.78832\n",
      "[850]\ttraining's auc: 0.791537\tvalid_1's auc: 0.788423\n",
      "[900]\ttraining's auc: 0.791882\tvalid_1's auc: 0.788533\n",
      "[950]\ttraining's auc: 0.792205\tvalid_1's auc: 0.788636\n",
      "[1000]\ttraining's auc: 0.792537\tvalid_1's auc: 0.788754\n",
      "[1050]\ttraining's auc: 0.792871\tvalid_1's auc: 0.788853\n",
      "[1100]\ttraining's auc: 0.793184\tvalid_1's auc: 0.788928\n",
      "[1150]\ttraining's auc: 0.793495\tvalid_1's auc: 0.789004\n",
      "[1200]\ttraining's auc: 0.793809\tvalid_1's auc: 0.789088\n",
      "[1250]\ttraining's auc: 0.794127\tvalid_1's auc: 0.789176\n",
      "[1300]\ttraining's auc: 0.794406\tvalid_1's auc: 0.789238\n",
      "[1350]\ttraining's auc: 0.794716\tvalid_1's auc: 0.789319\n",
      "[1400]\ttraining's auc: 0.794995\tvalid_1's auc: 0.789367\n",
      "[1450]\ttraining's auc: 0.795277\tvalid_1's auc: 0.789423\n",
      "[1500]\ttraining's auc: 0.795564\tvalid_1's auc: 0.789484\n",
      "[1550]\ttraining's auc: 0.795827\tvalid_1's auc: 0.789525\n",
      "[1600]\ttraining's auc: 0.796124\tvalid_1's auc: 0.789601\n",
      "[1650]\ttraining's auc: 0.7964\tvalid_1's auc: 0.78965\n",
      "[1700]\ttraining's auc: 0.796664\tvalid_1's auc: 0.78968\n",
      "[1750]\ttraining's auc: 0.796938\tvalid_1's auc: 0.789727\n",
      "[1800]\ttraining's auc: 0.797201\tvalid_1's auc: 0.789768\n",
      "[1850]\ttraining's auc: 0.797495\tvalid_1's auc: 0.789823\n",
      "[1900]\ttraining's auc: 0.797784\tvalid_1's auc: 0.789892\n",
      "[1950]\ttraining's auc: 0.798049\tvalid_1's auc: 0.789927\n",
      "[2000]\ttraining's auc: 0.79832\tvalid_1's auc: 0.789981\n",
      "[2050]\ttraining's auc: 0.798566\tvalid_1's auc: 0.790007\n",
      "[2100]\ttraining's auc: 0.798813\tvalid_1's auc: 0.790038\n",
      "[2150]\ttraining's auc: 0.799064\tvalid_1's auc: 0.790068\n",
      "[2200]\ttraining's auc: 0.799311\tvalid_1's auc: 0.790092\n",
      "[2250]\ttraining's auc: 0.79956\tvalid_1's auc: 0.79011\n",
      "[2300]\ttraining's auc: 0.799815\tvalid_1's auc: 0.790149\n",
      "Early stopping, best iteration is:\n",
      "[2332]\ttraining's auc: 0.799977\tvalid_1's auc: 0.790162\n"
     ]
    }
   ],
   "source": [
    "print(\"training starts\")\n",
    "if FULL_TRAIN:\n",
    "    model = lgb.train(\n",
    "        params, \n",
    "        tr_data, \n",
    "        num_boost_round=3000,\n",
    "        valid_sets=None, \n",
    "        )\n",
    "    del X_train, y_train\n",
    "else:\n",
    "    model = lgb.train(\n",
    "        params, \n",
    "        tr_data, \n",
    "        num_boost_round= 2500,\n",
    "        valid_sets=[tr_data, va_data], \n",
    "        early_stopping_rounds=8, #15 in original cv\n",
    "        verbose_eval=50\n",
    "        )\n",
    "    del X_train, y_train, X_valid, y_valid"
   ]
  },
  {
   "cell_type": "markdown",
   "metadata": {
    "papermill": {
     "duration": 0.06933,
     "end_time": "2020-12-28T13:07:34.997393",
     "exception": false,
     "start_time": "2020-12-28T13:07:34.928063",
     "status": "completed"
    },
    "tags": []
   },
   "source": [
    "# Inference"
   ]
  },
  {
   "cell_type": "code",
   "execution_count": 34,
   "metadata": {
    "execution": {
     "iopub.execute_input": "2020-12-28T13:07:35.128831Z",
     "iopub.status.busy": "2020-12-28T13:07:35.127878Z",
     "iopub.status.idle": "2020-12-28T13:07:35.131147Z",
     "shell.execute_reply": "2020-12-28T13:07:35.130574Z"
    },
    "papermill": {
     "duration": 0.073526,
     "end_time": "2020-12-28T13:07:35.131275",
     "exception": false,
     "start_time": "2020-12-28T13:07:35.057749",
     "status": "completed"
    },
    "tags": []
   },
   "outputs": [],
   "source": [
    "env = riiideducation.make_env()\n",
    "iter_test = env.iter_test()\n",
    "prior_test_df = None"
   ]
  },
  {
   "cell_type": "code",
   "execution_count": 35,
   "metadata": {
    "execution": {
     "iopub.execute_input": "2020-12-28T13:07:35.318746Z",
     "iopub.status.busy": "2020-12-28T13:07:35.280820Z",
     "iopub.status.idle": "2020-12-28T13:07:36.222733Z",
     "shell.execute_reply": "2020-12-28T13:07:36.221968Z"
    },
    "papermill": {
     "duration": 1.030849,
     "end_time": "2020-12-28T13:07:36.222868",
     "exception": false,
     "start_time": "2020-12-28T13:07:35.192019",
     "status": "completed"
    },
    "tags": []
   },
   "outputs": [
    {
     "name": "stdout",
     "output_type": "stream",
     "text": [
      "CPU times: user 1.56 s, sys: 93 ms, total: 1.66 s\n",
      "Wall time: 904 ms\n"
     ]
    }
   ],
   "source": [
    "%%time\n",
    "for (test_df, sample_prediction_df) in iter_test:\n",
    "    if prior_test_df is not None:\n",
    "        prior_test_df[target] = eval(test_df['prior_group_answers_correct'].iloc[0])\n",
    "        prior_test_df = prior_test_df[prior_test_df[target] != -1].reset_index(drop=True)\n",
    "        \n",
    "        user_ids = prior_test_df['user_id'].values\n",
    "        content_ids = prior_test_df['content_id'].values\n",
    "        targets = prior_test_df[target].values\n",
    "        timestamps = prior_test_df['timestamp'].values\n",
    "                 \n",
    "        for (user_id, content_id, answered_correctly, first_attempt_ornot, prior_explanation,\n",
    "             prior_point, prior_community, prior_timestamp, prior_part, prior_elapsed) in zip(user_ids, \n",
    "                                                            content_ids, \n",
    "                                                            targets, \n",
    "                                                            prior_f_attempt_arrays,\n",
    "                                                            p_prior_question_had_explanation,\n",
    "                                                            prior_point_array,\n",
    "                                                            prior_community_arrays,\n",
    "                                                            timestamps,\n",
    "                                                            prior_part_array,\n",
    "                                                            p_prior_question_elapsed_time):\n",
    "            \n",
    "            user_sum_dict[user_id] += answered_correctly\n",
    "            user_count_dict[user_id] += 1\n",
    "            content_sum_dict[content_id] += answered_correctly\n",
    "            content_count_dict[content_id] += 1\n",
    "            user_unique_dict[user_id] += first_attempt_ornot\n",
    "            user_prior_question_had_explanation_sum_dict[user_id] += prior_explanation\n",
    "            user_prior_question_elapsed_time_sum_dict[user_id] += prior_elapsed\n",
    "            user_point_sum_dict[user_id] += prior_point * answered_correctly\n",
    "            user_part_count_dict[user_id][prior_part] += 1\n",
    "            user_community_correct_dict[user_id][prior_community] += answered_correctly\n",
    "            user_community_count_dict[user_id][prior_community] += 1\n",
    "            community_count_dict[prior_community] += 1  \n",
    "            \n",
    "            if np.sum(user_timestamp_max_dict[user_id] == prior_timestamp) == 0:\n",
    "                if len(user_timestamp_max_dict[user_id]) <= 3: \n",
    "                    user_timestamp_max_dict[user_id] = np.concatenate([user_timestamp_max_dict[user_id],[prior_timestamp]])\n",
    "                else:\n",
    "                    user_timestamp_max_dict[user_id] = np.concatenate([user_timestamp_max_dict[user_id],[prior_timestamp]])[1:]  \n",
    "                user_last_count7_dict[user_id] = np.concatenate([user_last_count7_dict[user_id],[1]])[1:]\n",
    "                user_last_correct7_dict[user_id] = np.concatenate([user_last_correct7_dict[user_id],[answered_correctly]])[1:]\n",
    "            else:\n",
    "                user_last_count7_dict[user_id][-1] += 1\n",
    "                user_last_correct7_dict[user_id][-1] += answered_correctly\n",
    "                    \n",
    "            if answered_correctly == 1:\n",
    "                continuous_correct_dict[user_id] += 1\n",
    "                continuous_incorrect_dict[user_id] = 0\n",
    "            else:\n",
    "                continuous_correct_dict[user_id] = 0\n",
    "                continuous_incorrect_dict[user_id] += 1\n",
    "                    \n",
    "    prior_test_df = test_df.copy()\n",
    "    \n",
    "    time_from_last_lec_array = np.zeros(len(test_df), dtype = np.int64)\n",
    "    for i, (user_id, content_type_id, timestamp) in enumerate(zip(test_df['user_id'].values, test_df['content_type_id'].values,\n",
    "                                                             test_df['timestamp'].values)):\n",
    "        if content_type_id == 1:\n",
    "            time_from_last_lec_array[i] = 0\n",
    "            user_last_lec_time_dict[user_id] = timestamp\n",
    "        else:\n",
    "            if user_last_lec_time_dict[user_id] != -1:\n",
    "                time_from_last_lec_array[i] = timestamp - user_last_lec_time_dict[user_id]\n",
    "            else:\n",
    "                time_from_last_lec_array[i] = -1\n",
    "    test_df['time_from_lec'] = time_from_last_lec_array \n",
    "           \n",
    "    test_df = test_df[test_df['content_type_id'] == 0].reset_index(drop=True)\n",
    "    test_df = pd.merge(test_df, questions_df, left_on='content_id', right_on='question_id', how='left', right_index=True).reset_index(drop=True)\n",
    "    test_df['prior_question_had_explanation'] = test_df['prior_question_had_explanation'].fillna(False).astype('int8')\n",
    "    test_df['prior_question_elapsed_time'] = test_df['prior_question_elapsed_time'].fillna(0)\n",
    "\n",
    "    p_prior_question_elapsed_time = test_df['prior_question_elapsed_time'].values\n",
    "    p_prior_question_had_explanation = test_df['prior_question_had_explanation'].values\n",
    "    prior_community_arrays = test_df['community'].values\n",
    "    prior_part_array = test_df['part'].values\n",
    "   \n",
    "    first_attempt_values = []\n",
    "    user_sum = np.zeros(len(test_df), dtype=np.int16)\n",
    "    user_count = np.zeros(len(test_df), dtype=np.int16)\n",
    "    content_sum = np.zeros(len(test_df), dtype=np.int32)\n",
    "    content_count = np.zeros(len(test_df), dtype=np.int32)\n",
    "    part_count = np.zeros(len(test_df), dtype=np.int32)\n",
    "    part_ratio_array = np.zeros(len(test_df), dtype=np.float32)\n",
    "    user_correctness_array = np.zeros(len(test_df), dtype=np.float32)\n",
    "    user_unique_count = np.zeros(len(test_df), dtype=np.int32)\n",
    "    user_prior_question_had_explanation_mean_array = np.zeros(len(test_df), dtype=np.float32)\n",
    "    user_prior_question_elapsed_time_mean_array = np.zeros(len(test_df), dtype=np.float32)\n",
    "    got_point_array = np.zeros(len(test_df), dtype=np.float32)\n",
    "    user_last7_accuracy_array = np.zeros(len(test_df), dtype=np.float32)\n",
    "    timediff_array = np.zeros(len(test_df), dtype = np.int64)\n",
    "    timediff2_array = np.zeros(len(test_df), dtype = np.int64)\n",
    "    timediff3_array = np.zeros(len(test_df), dtype = np.int64)\n",
    "    timediff4_array = np.zeros(len(test_df), dtype = np.int64)\n",
    "    tag_acc_array = np.zeros(len(test_df), dtype=np.float32)\n",
    "    community_count_array = np.zeros(len(test_df), dtype=np.int32)\n",
    "    time_dd_array = np.zeros(len(test_df), dtype = np.int64)\n",
    "    user_con_correct_array = np.zeros(len(test_df), dtype=np.int16)\n",
    "    user_con_incorrect_array = np.zeros(len(test_df), dtype=np.int16)\n",
    "    \n",
    "    for i, (user_id, content_id, timestamp, community, part) in enumerate(zip(test_df['user_id'].values, \n",
    "                                                             test_df['content_id'].values,\n",
    "                                                             test_df['timestamp'].values,\n",
    "                                                             test_df['community'].values,\n",
    "                                                             test_df['part'].values)):\n",
    "        user_sum[i] = user_sum_dict[user_id]\n",
    "        user_count[i] = user_count_dict[user_id]\n",
    "        content_sum[i] = content_sum_dict[content_id]\n",
    "        content_count[i] = content_count_dict[content_id]\n",
    "        part_count[i] = user_part_count_dict[user_id][part]\n",
    "        first_attempt_values.append(user_content_dict[user_id][content_id])\n",
    "        user_content_dict[user_id][content_id] = False             \n",
    "        user_unique_count[i] = user_unique_dict[user_id]\n",
    "        if user_count[i] != 0:\n",
    "            user_correctness_array[i] = user_sum[i] / user_count[i]\n",
    "            part_ratio_array[i] = part_count[i] / user_count[i]\n",
    "            user_prior_question_had_explanation_mean_array[i] = user_prior_question_had_explanation_sum_dict[user_id] / user_count[i]\n",
    "            user_prior_question_elapsed_time_mean_array[i] = user_prior_question_elapsed_time_sum_dict[user_id] / user_count[i]\n",
    "        else:\n",
    "            user_correctness_array[i] = -1\n",
    "            part_ratio_array[i] = -1\n",
    "            user_prior_question_had_explanation_mean_array[i] = -1\n",
    "            user_prior_question_elapsed_time_mean_array[i] = -1\n",
    "        \n",
    "        if np.sum(user_last_count7_dict != -1)==7:\n",
    "            user_last7_accuracy_array[i] = user_last_correct7_dict[user_id].sum() / user_last_count7_dict[user_id].sum()\n",
    "        else:\n",
    "            user_last7_accuracy_array[i] = np.nan\n",
    "\n",
    "        if len(user_timestamp_max_dict[user_id]) ==0:\n",
    "            timediff_array[i] = -1\n",
    "            timediff2_array[i] = -1\n",
    "            timediff3_array[i] = -1\n",
    "            timediff4_array[i] = -1\n",
    "            time_dd_array[i] = -1\n",
    "            \n",
    "        elif len(user_timestamp_max_dict[user_id]) ==1:\n",
    "            timediff_array[i] = timestamp - user_timestamp_max_dict[user_id][0]\n",
    "            timediff2_array[i] = -1\n",
    "            timediff3_array[i] = -1\n",
    "            timediff4_array[i] = -1\n",
    "            time_dd_array[i] = -1\n",
    "            \n",
    "        elif len(user_timestamp_max_dict[user_id]) ==2:\n",
    "            timediff_array[i] = timestamp - user_timestamp_max_dict[user_id][1]\n",
    "            timediff2_array[i] = timestamp - user_timestamp_max_dict[user_id][0]\n",
    "            timediff3_array[i] = -1\n",
    "            timediff4_array[i] = -1\n",
    "            time_dd_array[i] = timediff2_array[i] - timediff_array[i]\n",
    "            \n",
    "        elif len(user_timestamp_max_dict[user_id]) ==3:\n",
    "            timediff_array[i] = timestamp - user_timestamp_max_dict[user_id][2]\n",
    "            timediff2_array[i] = timestamp - user_timestamp_max_dict[user_id][1]\n",
    "            timediff3_array[i] = timestamp - user_timestamp_max_dict[user_id][0]\n",
    "            timediff4_array[i] = -1\n",
    "            time_dd_array[i] = timediff2_array[i] - timediff_array[i]\n",
    "    \n",
    "        else:\n",
    "            timediff_array[i] = timestamp - user_timestamp_max_dict[user_id][3]\n",
    "            timediff2_array[i] = timestamp - user_timestamp_max_dict[user_id][2]\n",
    "            timediff3_array[i] = timestamp - user_timestamp_max_dict[user_id][1]\n",
    "            timediff4_array[i] = timestamp - user_timestamp_max_dict[user_id][0]\n",
    "            time_dd_array[i] = timediff2_array[i] - timediff_array[i]\n",
    "            \n",
    "        if user_community_count_dict[user_id][community] == 0:\n",
    "            tag_acc_array[i] = -1\n",
    "        else:\n",
    "            tag_acc_array[i] = user_community_correct_dict[user_id][community] / user_community_count_dict[user_id][community]\n",
    "\n",
    "        got_point_array[i] = user_point_sum_dict[user_id]\n",
    "        community_count_array[i] = community_count_dict[community]\n",
    "        user_con_correct_array[i] = continuous_correct_dict[user_id]\n",
    "        user_con_incorrect_array[i] = continuous_incorrect_dict[user_id]\n",
    "     \n",
    "    test_df['count'] = user_count\n",
    "    test_df['user_correctness'] = user_correctness_array\n",
    "    test_df['content_count'] = content_count\n",
    "    test_df['content_id'] = content_sum / content_count\n",
    "    test_df['part_count'] = part_count\n",
    "    test_df['part_ratio'] = part_ratio_array\n",
    "    test_df[\"first_attempt\"] = first_attempt_values\n",
    "    test_df[\"unique_attempt\"] = test_df.groupby(\"user_id\")[\"first_attempt\"].cumsum()\n",
    "    test_df[\"unique_attempt\"] += user_unique_count\n",
    "    test_df['prior_question_had_explanation_mean'] = user_prior_question_had_explanation_mean_array\n",
    "    test_df['prior_question_elapsed_time_mean'] = user_prior_question_elapsed_time_mean_array\n",
    "    test_df['got_point'] = got_point_array / user_count\n",
    "    test_df['answered_correctly_last7'] = user_last7_accuracy_array\n",
    "    test_df['timediff'] = timediff_array\n",
    "    test_df['timediff2'] = timediff2_array\n",
    "    test_df['timediff3'] = timediff3_array\n",
    "    test_df['timediff4'] = timediff4_array\n",
    "    test_df['tag_acc'] = tag_acc_array\n",
    "    test_df['community_count'] = community_count_array\n",
    "    test_df['time_dd'] = time_dd_array\n",
    "    test_df['continuous_correct'] = user_con_correct_array\n",
    "    test_df['continuous_incorrect'] = user_con_incorrect_array\n",
    "\n",
    "    prior_f_attempt_arrays = test_df['first_attempt'].values\n",
    "    prior_point_array = 1 / (test_df.content_id.values + 0.1)\n",
    "    \n",
    "    test_df[target] = model.predict(test_df[features])\n",
    "    env.predict(test_df[['row_id', target]])"
   ]
  },
  {
   "cell_type": "code",
   "execution_count": null,
   "metadata": {
    "papermill": {
     "duration": 0.062266,
     "end_time": "2020-12-28T13:07:36.347478",
     "exception": false,
     "start_time": "2020-12-28T13:07:36.285212",
     "status": "completed"
    },
    "tags": []
   },
   "outputs": [],
   "source": []
  }
 ],
 "metadata": {
  "kernelspec": {
   "display_name": "Python 3",
   "language": "python",
   "name": "python3"
  },
  "language_info": {
   "codemirror_mode": {
    "name": "ipython",
    "version": 3
   },
   "file_extension": ".py",
   "mimetype": "text/x-python",
   "name": "python",
   "nbconvert_exporter": "python",
   "pygments_lexer": "ipython3",
   "version": "3.7.6"
  },
  "papermill": {
   "duration": 6338.082297,
   "end_time": "2020-12-28T13:07:36.822291",
   "environment_variables": {},
   "exception": null,
   "input_path": "__notebook__.ipynb",
   "output_path": "__notebook__.ipynb",
   "parameters": {},
   "start_time": "2020-12-28T11:21:58.739994",
   "version": "2.1.0"
  }
 },
 "nbformat": 4,
 "nbformat_minor": 4
}
