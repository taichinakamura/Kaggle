{
 "cells": [
  {
   "cell_type": "markdown",
   "metadata": {
    "papermill": {
     "duration": 0.025719,
     "end_time": "2020-12-20T13:40:45.905813",
     "exception": false,
     "start_time": "2020-12-20T13:40:45.880094",
     "status": "completed"
    },
    "tags": []
   },
   "source": [
    "- add timediff3 from version 57"
   ]
  },
  {
   "cell_type": "code",
   "execution_count": 1,
   "metadata": {
    "_cell_guid": "b1076dfc-b9ad-4769-8c92-a6c4dae69d19",
    "_uuid": "8f2839f25d086af736a60e9eeb907d3b93b6e0e5",
    "execution": {
     "iopub.execute_input": "2020-12-20T13:40:45.973254Z",
     "iopub.status.busy": "2020-12-20T13:40:45.962186Z",
     "iopub.status.idle": "2020-12-20T13:41:15.608585Z",
     "shell.execute_reply": "2020-12-20T13:41:15.607882Z"
    },
    "papermill": {
     "duration": 29.677577,
     "end_time": "2020-12-20T13:41:15.608695",
     "exception": false,
     "start_time": "2020-12-20T13:40:45.931118",
     "status": "completed"
    },
    "tags": []
   },
   "outputs": [],
   "source": [
    "!pip install ../input/python-datatable/datatable-0.11.0-cp37-cp37m-manylinux2010_x86_64.whl > /dev/null 2>&1"
   ]
  },
  {
   "cell_type": "code",
   "execution_count": 2,
   "metadata": {
    "_cell_guid": "79c7e3d0-c299-4dcb-8224-4455121ee9b0",
    "_uuid": "d629ff2d2480ee46fbb7e2d37f6b5fab8052498a",
    "execution": {
     "iopub.execute_input": "2020-12-20T13:41:15.673333Z",
     "iopub.status.busy": "2020-12-20T13:41:15.669957Z",
     "iopub.status.idle": "2020-12-20T13:41:17.501254Z",
     "shell.execute_reply": "2020-12-20T13:41:17.501741Z"
    },
    "papermill": {
     "duration": 1.866772,
     "end_time": "2020-12-20T13:41:17.501888",
     "exception": false,
     "start_time": "2020-12-20T13:41:15.635116",
     "status": "completed"
    },
    "tags": []
   },
   "outputs": [
    {
     "data": {
      "text/html": [
       "<style type='text/css'>\n",
       ".datatable table.frame { margin-bottom: 0; }\n",
       ".datatable table.frame thead { border-bottom: none; }\n",
       ".datatable table.frame tr.coltypes td {  color: #FFFFFF;  line-height: 6px;  padding: 0 0.5em;}\n",
       ".datatable .bool    { background: #DDDD99; }\n",
       ".datatable .object  { background: #565656; }\n",
       ".datatable .int     { background: #5D9E5D; }\n",
       ".datatable .float   { background: #4040CC; }\n",
       ".datatable .str     { background: #CC4040; }\n",
       ".datatable .row_index {  background: var(--jp-border-color3);  border-right: 1px solid var(--jp-border-color0);  color: var(--jp-ui-font-color3);  font-size: 9px;}\n",
       ".datatable .frame tr.coltypes .row_index {  background: var(--jp-border-color0);}\n",
       ".datatable th:nth-child(2) { padding-left: 12px; }\n",
       ".datatable .hellipsis {  color: var(--jp-cell-editor-border-color);}\n",
       ".datatable .vellipsis {  background: var(--jp-layout-color0);  color: var(--jp-cell-editor-border-color);}\n",
       ".datatable .na {  color: var(--jp-cell-editor-border-color);  font-size: 80%;}\n",
       ".datatable .footer { font-size: 9px; }\n",
       ".datatable .frame_dimensions {  background: var(--jp-border-color3);  border-top: 1px solid var(--jp-border-color0);  color: var(--jp-ui-font-color3);  display: inline-block;  opacity: 0.6;  padding: 1px 10px 1px 5px;}\n",
       ".datatable .frame thead tr.colnames {  background-image: url('data:image/png;base64,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');  background-repeat: repeat-x;  background-size: 14px;  height: 28px;}\n",
       "</style>\n"
      ],
      "text/plain": [
       "<IPython.core.display.HTML object>"
      ]
     },
     "metadata": {},
     "output_type": "display_data"
    },
    {
     "name": "stderr",
     "output_type": "stream",
     "text": [
      "/opt/conda/lib/python3.7/site-packages/ipykernel_launcher.py:14: TqdmDeprecationWarning: This function will be removed in tqdm==5.0.0\n",
      "Please use `tqdm.notebook.*` instead of `tqdm._tqdm_notebook.*`\n",
      "  \n",
      "/opt/conda/lib/python3.7/site-packages/tqdm/std.py:666: FutureWarning: The Panel class is removed from pandas. Accessing it from the top-level namespace will also be removed in the next version\n",
      "  from pandas import Panel\n"
     ]
    }
   ],
   "source": [
    "import gc\n",
    "import numpy as np\n",
    "import pandas as pd\n",
    "from collections import defaultdict\n",
    "import datatable as dt\n",
    "import lightgbm as lgb\n",
    "from matplotlib import pyplot as plt\n",
    "import riiideducation\n",
    "from bitarray import bitarray\n",
    "from functools import partial\n",
    "import pickle\n",
    "import math \n",
    "\n",
    "from tqdm._tqdm_notebook import tqdm_notebook\n",
    "from numba import jit\n",
    "import random\n",
    "\n",
    "tqdm_notebook.pandas(desc=\"progress: \")\n",
    "\n",
    "_ = np.seterr(divide='ignore', invalid='ignore')\n",
    "pd.set_option(\"max_rows\", 100)\n",
    "pd.set_option(\"max_columns\", 100)\n",
    "\n",
    "random.seed(1)"
   ]
  },
  {
   "cell_type": "code",
   "execution_count": 3,
   "metadata": {
    "execution": {
     "iopub.execute_input": "2020-12-20T13:41:17.570867Z",
     "iopub.status.busy": "2020-12-20T13:41:17.565591Z",
     "iopub.status.idle": "2020-12-20T13:41:17.584976Z",
     "shell.execute_reply": "2020-12-20T13:41:17.584274Z"
    },
    "papermill": {
     "duration": 0.055929,
     "end_time": "2020-12-20T13:41:17.585089",
     "exception": false,
     "start_time": "2020-12-20T13:41:17.529160",
     "status": "completed"
    },
    "tags": []
   },
   "outputs": [],
   "source": [
    "def make_bitarray():\n",
    "    a = bitarray(32737, endian='little')\n",
    "    a.setall(True)   \n",
    "    return a\n",
    "\n",
    "def clear_mem():\n",
    "    %reset -f out\n",
    "    %reset -f in\n",
    "    gc.collect()\n",
    "    \n",
    "@jit\n",
    "def last4(A):\n",
    "    ans = []\n",
    "    for i in range(len(A)):\n",
    "        if i < 7:\n",
    "            ans.append(np.nan)\n",
    "        else:\n",
    "            ans.append(np.mean(A[i-5:i]))       \n",
    "    return np.array(ans)"
   ]
  },
  {
   "cell_type": "code",
   "execution_count": 4,
   "metadata": {
    "execution": {
     "iopub.execute_input": "2020-12-20T13:41:17.645800Z",
     "iopub.status.busy": "2020-12-20T13:41:17.645108Z",
     "iopub.status.idle": "2020-12-20T13:41:17.649275Z",
     "shell.execute_reply": "2020-12-20T13:41:17.649793Z"
    },
    "papermill": {
     "duration": 0.036852,
     "end_time": "2020-12-20T13:41:17.649990",
     "exception": false,
     "start_time": "2020-12-20T13:41:17.613138",
     "status": "completed"
    },
    "tags": []
   },
   "outputs": [],
   "source": [
    "FULL_TRAIN = False\n",
    "CV_SCHEME = \"original\" #\"time\""
   ]
  },
  {
   "cell_type": "markdown",
   "metadata": {
    "papermill": {
     "duration": 0.026855,
     "end_time": "2020-12-20T13:41:17.704168",
     "exception": false,
     "start_time": "2020-12-20T13:41:17.677313",
     "status": "completed"
    },
    "tags": []
   },
   "source": [
    "# Preprocess"
   ]
  },
  {
   "cell_type": "code",
   "execution_count": 5,
   "metadata": {
    "execution": {
     "iopub.execute_input": "2020-12-20T13:41:17.765525Z",
     "iopub.status.busy": "2020-12-20T13:41:17.764841Z",
     "iopub.status.idle": "2020-12-20T13:41:17.768064Z",
     "shell.execute_reply": "2020-12-20T13:41:17.768539Z"
    },
    "papermill": {
     "duration": 0.037843,
     "end_time": "2020-12-20T13:41:17.768689",
     "exception": false,
     "start_time": "2020-12-20T13:41:17.730846",
     "status": "completed"
    },
    "tags": []
   },
   "outputs": [],
   "source": [
    "data_types_dict = {\n",
    "    'timestamp': 'int64',\n",
    "    'user_id': 'int32', \n",
    "    'content_id': 'int16', \n",
    "    'answered_correctly': 'int8', \n",
    "    'prior_question_elapsed_time': 'float32', \n",
    "    'prior_question_had_explanation': 'bool',\n",
    "}\n",
    "target = 'answered_correctly'"
   ]
  },
  {
   "cell_type": "code",
   "execution_count": 6,
   "metadata": {
    "execution": {
     "iopub.execute_input": "2020-12-20T13:41:17.829667Z",
     "iopub.status.busy": "2020-12-20T13:41:17.829055Z",
     "iopub.status.idle": "2020-12-20T13:42:50.618659Z",
     "shell.execute_reply": "2020-12-20T13:42:50.619195Z"
    },
    "papermill": {
     "duration": 92.823422,
     "end_time": "2020-12-20T13:42:50.619338",
     "exception": false,
     "start_time": "2020-12-20T13:41:17.795916",
     "status": "completed"
    },
    "tags": []
   },
   "outputs": [],
   "source": [
    "train_df = dt.fread('../input/riiid-test-answer-prediction/train.csv', columns=set(data_types_dict.keys())).to_pandas()"
   ]
  },
  {
   "cell_type": "code",
   "execution_count": 7,
   "metadata": {
    "execution": {
     "iopub.execute_input": "2020-12-20T13:42:50.744234Z",
     "iopub.status.busy": "2020-12-20T13:42:50.743318Z",
     "iopub.status.idle": "2020-12-20T13:43:16.504006Z",
     "shell.execute_reply": "2020-12-20T13:43:16.504496Z"
    },
    "papermill": {
     "duration": 25.838498,
     "end_time": "2020-12-20T13:43:16.504641",
     "exception": false,
     "start_time": "2020-12-20T13:42:50.666143",
     "status": "completed"
    },
    "tags": []
   },
   "outputs": [],
   "source": [
    "train_df = train_df[train_df[target] != -1].reset_index(drop=True)\n",
    "\n",
    "train_df['prior_question_had_explanation'].fillna(False, inplace=True)\n",
    "train_df['prior_question_elapsed_time'].fillna(0, inplace=True)\n",
    "\n",
    "train_df = train_df.astype(data_types_dict)"
   ]
  },
  {
   "cell_type": "code",
   "execution_count": 8,
   "metadata": {
    "execution": {
     "iopub.execute_input": "2020-12-20T13:43:16.563438Z",
     "iopub.status.busy": "2020-12-20T13:43:16.562451Z",
     "iopub.status.idle": "2020-12-20T13:43:23.783430Z",
     "shell.execute_reply": "2020-12-20T13:43:23.783936Z"
    },
    "papermill": {
     "duration": 7.252031,
     "end_time": "2020-12-20T13:43:23.784088",
     "exception": false,
     "start_time": "2020-12-20T13:43:16.532057",
     "status": "completed"
    },
    "tags": []
   },
   "outputs": [],
   "source": [
    "if CV_SCHEME==\"time\":\n",
    "    max_timestamp_u = train_df[['user_id','timestamp']].groupby(['user_id']).agg(['max']).reset_index()\n",
    "    max_timestamp_u.columns = ['user_id', 'max_time_stamp']\n",
    "    MAX_TIME_STAMP = max_timestamp_u.max_time_stamp.max()\n",
    "\n",
    "    def rand_time(max_time_stamp):\n",
    "        interval = MAX_TIME_STAMP - max_time_stamp\n",
    "        rand_time_stamp = random.randint(0,interval)\n",
    "        return rand_time_stamp\n",
    "\n",
    "    max_timestamp_u['rand_time_stamp'] = max_timestamp_u.max_time_stamp.apply(rand_time)\n",
    "    train_df = train_df.merge(max_timestamp_u, on='user_id', how='left')\n",
    "    train_df['viretual_time_stamp'] = train_df.timestamp + train_df['rand_time_stamp']\n",
    "\n",
    "    del train_df['max_time_stamp']\n",
    "    del train_df['rand_time_stamp']\n",
    "    del max_timestamp_u\n",
    "\n",
    "    train_index = list(train_df['viretual_time_stamp'].nlargest(10000000).index)\n",
    "\n",
    "else:\n",
    "    if FULL_TRAIN:\n",
    "        train_size = 300\n",
    "    else:\n",
    "        train_size = 24\n",
    "        valid_size = 6\n",
    "    \n",
    "    train_index = list(train_df.groupby('user_id').tail(train_size).index)"
   ]
  },
  {
   "cell_type": "code",
   "execution_count": 9,
   "metadata": {
    "execution": {
     "iopub.execute_input": "2020-12-20T13:43:23.845489Z",
     "iopub.status.busy": "2020-12-20T13:43:23.844822Z",
     "iopub.status.idle": "2020-12-20T13:43:30.009635Z",
     "shell.execute_reply": "2020-12-20T13:43:30.008913Z"
    },
    "papermill": {
     "duration": 6.197832,
     "end_time": "2020-12-20T13:43:30.009806",
     "exception": false,
     "start_time": "2020-12-20T13:43:23.811974",
     "status": "completed"
    },
    "tags": []
   },
   "outputs": [],
   "source": [
    "train_df[\"count\"] = 1\n",
    "\n",
    "# normal cumsum\n",
    "count_array = train_df.groupby(\"user_id\")[\"count\"].cumsum().values\n",
    "count_array = count_array[train_index]\n",
    "train_df.drop(\"count\", axis=1, inplace=True)"
   ]
  },
  {
   "cell_type": "code",
   "execution_count": 10,
   "metadata": {
    "execution": {
     "iopub.execute_input": "2020-12-20T13:43:30.103161Z",
     "iopub.status.busy": "2020-12-20T13:43:30.102466Z",
     "iopub.status.idle": "2020-12-20T13:48:33.645432Z",
     "shell.execute_reply": "2020-12-20T13:48:33.644870Z"
    },
    "papermill": {
     "duration": 303.594705,
     "end_time": "2020-12-20T13:48:33.645548",
     "exception": false,
     "start_time": "2020-12-20T13:43:30.050843",
     "status": "completed"
    },
    "tags": []
   },
   "outputs": [
    {
     "name": "stdout",
     "output_type": "stream",
     "text": [
      "Flushing output cache (0 entries)\n",
      "Flushing input history\n",
      "Flushing output cache (0 entries)\n",
      "Flushing input history\n",
      "Flushing output cache (0 entries)\n",
      "Flushing input history\n"
     ]
    }
   ],
   "source": [
    "timediff_array = train_df.groupby(\"user_id\")[\"timestamp\"].diff().values\n",
    "timediff_array = timediff_array[train_index]\n",
    "clear_mem()\n",
    "\n",
    "timediff2_array = train_df.groupby(\"user_id\")[\"timestamp\"].diff(2).values\n",
    "timediff2_array = timediff2_array[train_index]\n",
    "clear_mem()\n",
    "\n",
    "timediff3_array = train_df.groupby(\"user_id\")[\"timestamp\"].diff(3).values\n",
    "timediff3_array = timediff3_array[train_index]\n",
    "clear_mem()\n",
    "\n",
    "user_timestamp_max_dict = train_df.groupby(\"user_id\")[\"timestamp\"].apply(lambda x: x[-3:].values).to_dict(defaultdict(partial(np.ndarray, 0, dtype=\"int64\")))\n",
    "\n",
    "train_df.drop(\"timestamp\", axis=1, inplace=True)\n",
    "\n",
    "time_dd_array = timediff2_array - timediff_array\n",
    "timediff_array = np.nan_to_num(timediff_array, nan=-1)\n",
    "timediff2_array = np.nan_to_num(timediff2_array, nan=-1)\n",
    "timediff3_array = np.nan_to_num(timediff3_array, nan=-1)\n",
    "time_dd_array = np.nan_to_num(time_dd_array, nan=-1)"
   ]
  },
  {
   "cell_type": "code",
   "execution_count": 11,
   "metadata": {
    "execution": {
     "iopub.execute_input": "2020-12-20T13:48:34.525031Z",
     "iopub.status.busy": "2020-12-20T13:48:34.131196Z",
     "iopub.status.idle": "2020-12-20T13:48:36.067781Z",
     "shell.execute_reply": "2020-12-20T13:48:36.068305Z"
    },
    "papermill": {
     "duration": 2.390593,
     "end_time": "2020-12-20T13:48:36.068826",
     "exception": false,
     "start_time": "2020-12-20T13:48:33.678233",
     "status": "completed"
    },
    "tags": []
   },
   "outputs": [],
   "source": [
    "prior_question_elapsed_time_array = train_df.prior_question_elapsed_time.values\n",
    "train_df.drop(\"prior_question_elapsed_time\", axis =1, inplace=True)\n",
    "prior_question_elapsed_time_array = prior_question_elapsed_time_array[train_index]"
   ]
  },
  {
   "cell_type": "code",
   "execution_count": 12,
   "metadata": {
    "execution": {
     "iopub.execute_input": "2020-12-20T13:48:36.142215Z",
     "iopub.status.busy": "2020-12-20T13:48:36.131287Z",
     "iopub.status.idle": "2020-12-20T13:48:49.574175Z",
     "shell.execute_reply": "2020-12-20T13:48:49.574654Z"
    },
    "papermill": {
     "duration": 13.476199,
     "end_time": "2020-12-20T13:48:49.574822",
     "exception": false,
     "start_time": "2020-12-20T13:48:36.098623",
     "status": "completed"
    },
    "tags": []
   },
   "outputs": [],
   "source": [
    "questions_df = pd.read_csv(\n",
    "    '../input/riiid-test-answer-prediction/questions.csv', \n",
    "    usecols=[0, 3], \n",
    "    dtype={'question_id': 'int16', 'part': 'int8'} \n",
    ")\n",
    "\n",
    "additional_q_df = pd.read_csv('../input/riiid-question-clustering/question_cmnts.csv')\n",
    "questions_df[\"community\"] = additional_q_df[\"community\"].astype('int8')\n",
    "del additional_q_df \n",
    "    \n",
    "train_df = pd.merge(train_df, questions_df, left_on='content_id', right_on='question_id', how='left', right_index=True).reset_index(drop=True)\n",
    "train_df.drop(columns=['question_id'], inplace=True)"
   ]
  },
  {
   "cell_type": "code",
   "execution_count": 13,
   "metadata": {
    "execution": {
     "iopub.execute_input": "2020-12-20T13:48:49.657022Z",
     "iopub.status.busy": "2020-12-20T13:48:49.656058Z",
     "iopub.status.idle": "2020-12-20T13:48:49.660351Z",
     "shell.execute_reply": "2020-12-20T13:48:49.660872Z"
    },
    "papermill": {
     "duration": 0.057122,
     "end_time": "2020-12-20T13:48:49.661029",
     "exception": false,
     "start_time": "2020-12-20T13:48:49.603907",
     "status": "completed"
    },
    "tags": []
   },
   "outputs": [
    {
     "name": "stdout",
     "output_type": "stream",
     "text": [
      "76\n"
     ]
    }
   ],
   "source": [
    "community_num = len(questions_df.community.unique())\n",
    "print(community_num)\n",
    "\n",
    "@jit\n",
    "def tag_accuracy(A, C):\n",
    "    ans = []\n",
    "    community_count = [0] * community_num\n",
    "    community_correct = [0] * community_num\n",
    "    for i in range(len(C)):\n",
    "        if community_count[C[i]]==0:\n",
    "            ans.append(-1)\n",
    "        else:\n",
    "            ans.append(community_correct[C[i]]/community_count[C[i]])\n",
    "        community_count[C[i]] +=1\n",
    "        community_correct[C[i]] += A[i]\n",
    "    return np.array(ans)\n",
    "\n",
    "@jit\n",
    "def tag_correct_last(A, C):\n",
    "    community_correct = [0] * community_num\n",
    "    for i in range(len(C)):\n",
    "        community_correct[C[i]] += A[i]\n",
    "    return np.array(community_correct)\n",
    "\n",
    "@jit\n",
    "def tag_count_last(A, C):\n",
    "    community_count = [0] * community_num\n",
    "    for i in range(len(C)):\n",
    "        community_count[C[i]] +=1\n",
    "    return np.array(community_count)\n",
    "\n",
    "def init_dict():\n",
    "    ans = [0] * community_num\n",
    "    return np.array(ans)"
   ]
  },
  {
   "cell_type": "code",
   "execution_count": 14,
   "metadata": {
    "execution": {
     "iopub.execute_input": "2020-12-20T13:48:49.731511Z",
     "iopub.status.busy": "2020-12-20T13:48:49.730885Z",
     "iopub.status.idle": "2020-12-20T13:50:47.466325Z",
     "shell.execute_reply": "2020-12-20T13:50:47.465794Z"
    },
    "papermill": {
     "duration": 117.775646,
     "end_time": "2020-12-20T13:50:47.466442",
     "exception": false,
     "start_time": "2020-12-20T13:48:49.690796",
     "status": "completed"
    },
    "tags": []
   },
   "outputs": [],
   "source": [
    "#\n",
    "tag_acc_array = train_df.groupby(\"user_id\").apply(lambda x: tag_accuracy(x[\"answered_correctly\"].values, x[\"community\"].values))\n",
    "tag_acc_array = np.hstack(tag_acc_array)\n",
    "tag_acc_array = tag_acc_array[train_index]\n",
    "\n",
    "user_community_count_dict = train_df.groupby(\"user_id\").apply(lambda x: tag_count_last(x[\"answered_correctly\"].values, x[\"community\"].values)).to_dict(defaultdict(init_dict))\n",
    "user_community_correct_dict = train_df.groupby(\"user_id\").apply(lambda x: tag_correct_last(x[\"answered_correctly\"].values, x[\"community\"].values)).to_dict(defaultdict(init_dict))\n",
    "    \n",
    "#\n",
    "community_agg = train_df.groupby('community')[target].agg(['count'])\n",
    "community_count_dict = community_agg['count'].astype('int32').to_dict(defaultdict(int))\n",
    "community_count_array = train_df['community'].map(community_agg['count']).astype('int32').values\n",
    "del community_agg\n",
    "community_count_array = community_count_array[train_index]\n",
    "    \n",
    "community_array = train_df[\"community\"].values\n",
    "community_array = community_array[train_index]\n",
    "train_df.drop('community', axis=1, inplace=True)"
   ]
  },
  {
   "cell_type": "code",
   "execution_count": 15,
   "metadata": {
    "execution": {
     "iopub.execute_input": "2020-12-20T13:50:47.534532Z",
     "iopub.status.busy": "2020-12-20T13:50:47.533564Z",
     "iopub.status.idle": "2020-12-20T13:51:01.198179Z",
     "shell.execute_reply": "2020-12-20T13:51:01.197505Z"
    },
    "papermill": {
     "duration": 13.701471,
     "end_time": "2020-12-20T13:51:01.198290",
     "exception": false,
     "start_time": "2020-12-20T13:50:47.496819",
     "status": "completed"
    },
    "tags": []
   },
   "outputs": [],
   "source": [
    "train_df['lag'] = train_df.groupby('user_id')[target].shift()\n",
    "cum = train_df.groupby('user_id')['lag'].agg(['cumsum', 'cumcount'])\n",
    "user_correctness_array = np.array(cum['cumsum'] / cum['cumcount'])\n",
    "user_correctness_array = user_correctness_array[train_index]\n",
    "train_df.drop(columns=['lag'], inplace=True)\n",
    "del cum"
   ]
  },
  {
   "cell_type": "code",
   "execution_count": 16,
   "metadata": {
    "execution": {
     "iopub.execute_input": "2020-12-20T13:51:01.280297Z",
     "iopub.status.busy": "2020-12-20T13:51:01.277649Z",
     "iopub.status.idle": "2020-12-20T13:51:58.231054Z",
     "shell.execute_reply": "2020-12-20T13:51:58.230329Z"
    },
    "papermill": {
     "duration": 57.002744,
     "end_time": "2020-12-20T13:51:58.231170",
     "exception": false,
     "start_time": "2020-12-20T13:51:01.228426",
     "status": "completed"
    },
    "tags": []
   },
   "outputs": [],
   "source": [
    "@jit\n",
    "def part_count_calc(P):\n",
    "    ans = []\n",
    "    part_count = [0] * 8\n",
    "    for i in range(len(P)):\n",
    "        part_count[P[i]] += 1\n",
    "        ans.append(part_count[P[i]])\n",
    "    return np.array(ans)\n",
    "\n",
    "@jit\n",
    "def part_count_dict_calc(P):\n",
    "    part_count = [0] * 8\n",
    "    for i in range(len(P)):\n",
    "        part_count[P[i]] += 1\n",
    "    return np.array(part_count)\n",
    "\n",
    "def part_dict_init():\n",
    "    ans = [0] * 8\n",
    "    return np.array(ans)\n",
    "\n",
    "part_count_array = train_df.groupby(\"user_id\").apply(lambda x: part_count_calc(x[\"part\"].values))\n",
    "part_count_array = np.hstack(part_count_array)\n",
    "part_count_array = part_count_array[train_index]\n",
    "part_ratio_array = part_count_array / count_array\n",
    "\n",
    "user_part_count_dict = train_df.groupby(\"user_id\").apply(lambda x: part_count_dict_calc(x[\"part\"].values)).to_dict(defaultdict(part_dict_init))\n",
    "\n",
    "part_array = train_df.part.values\n",
    "train_df.drop(\"part\", axis=1, inplace=True)\n",
    "part_array = part_array[train_index]"
   ]
  },
  {
   "cell_type": "code",
   "execution_count": 17,
   "metadata": {
    "execution": {
     "iopub.execute_input": "2020-12-20T13:51:58.302017Z",
     "iopub.status.busy": "2020-12-20T13:51:58.300690Z",
     "iopub.status.idle": "2020-12-20T13:52:21.007040Z",
     "shell.execute_reply": "2020-12-20T13:52:21.006081Z"
    },
    "papermill": {
     "duration": 22.745979,
     "end_time": "2020-12-20T13:52:21.007178",
     "exception": false,
     "start_time": "2020-12-20T13:51:58.261199",
     "status": "completed"
    },
    "tags": []
   },
   "outputs": [],
   "source": [
    "# prior_question_had_explanation_mean\n",
    "train_df['lag'] = train_df.groupby('user_id')['prior_question_had_explanation'].shift().astype(bool)\n",
    "cum = train_df.groupby('user_id')['lag'].agg(['cumsum', 'cumcount'])\n",
    "prior_question_had_explanation_mean_array = np.array(cum['cumsum'] / cum['cumcount'])\n",
    "prior_question_had_explanation_mean_array = prior_question_had_explanation_mean_array[train_index]\n",
    "\n",
    "user_prior_question_had_explanation_sum_agg = train_df.groupby('user_id')[\"prior_question_had_explanation\"].agg(['sum'])\n",
    "user_prior_question_had_explanation_sum_dict = user_prior_question_had_explanation_sum_agg['sum'].astype('int32').to_dict(defaultdict(int))\n",
    "train_df.drop(columns=['lag'], inplace=True)\n",
    "del cum, user_prior_question_had_explanation_sum_agg\n",
    "\n",
    "prior_question_had_explanation_array = train_df.prior_question_had_explanation.values\n",
    "train_df.drop('prior_question_had_explanation', axis=1, inplace=True)\n",
    "prior_question_had_explanation_array = prior_question_had_explanation_array[train_index]"
   ]
  },
  {
   "cell_type": "code",
   "execution_count": 18,
   "metadata": {
    "execution": {
     "iopub.execute_input": "2020-12-20T13:52:21.108376Z",
     "iopub.status.busy": "2020-12-20T13:52:21.107759Z",
     "iopub.status.idle": "2020-12-20T13:53:06.054231Z",
     "shell.execute_reply": "2020-12-20T13:53:06.053491Z"
    },
    "papermill": {
     "duration": 45.002362,
     "end_time": "2020-12-20T13:53:06.054364",
     "exception": false,
     "start_time": "2020-12-20T13:52:21.052002",
     "status": "completed"
    },
    "tags": []
   },
   "outputs": [
    {
     "name": "stdout",
     "output_type": "stream",
     "text": [
      "Flushing output cache (0 entries)\n",
      "Flushing input history\n"
     ]
    }
   ],
   "source": [
    "first_attempt_df = pd.read_csv(\"../input/riiid-additional-data/content_first_attempt.csv\")\n",
    "first_attempt_array = first_attempt_df.first_attempt.values\n",
    "train_df[\"first_attempt\"] = first_attempt_array\n",
    "\n",
    "unique_attempt_array= train_df.groupby(\"user_id\")[\"first_attempt\"].cumsum().values\n",
    "train_df[\"unique_attempt\"] = unique_attempt_array\n",
    "user_unique_agg = train_df.groupby('user_id')[\"unique_attempt\"].agg(['max'])\n",
    "user_unique_dict = user_unique_agg['max'].astype('int32').to_dict(defaultdict(int))\n",
    "\n",
    "first_attempt_array = first_attempt_array[train_index]\n",
    "unique_attempt_array = unique_attempt_array[train_index]\n",
    "train_df.drop(['first_attempt', 'unique_attempt'], axis=1, inplace=True)\n",
    "del first_attempt_df, user_unique_agg\n",
    "\n",
    "clear_mem()"
   ]
  },
  {
   "cell_type": "code",
   "execution_count": 19,
   "metadata": {
    "execution": {
     "iopub.execute_input": "2020-12-20T13:53:06.133364Z",
     "iopub.status.busy": "2020-12-20T13:53:06.127548Z",
     "iopub.status.idle": "2020-12-20T13:53:20.806717Z",
     "shell.execute_reply": "2020-12-20T13:53:20.806185Z"
    },
    "papermill": {
     "duration": 14.719519,
     "end_time": "2020-12-20T13:53:20.806869",
     "exception": false,
     "start_time": "2020-12-20T13:53:06.087350",
     "status": "completed"
    },
    "tags": []
   },
   "outputs": [
    {
     "name": "stdout",
     "output_type": "stream",
     "text": [
      "Flushing output cache (0 entries)\n",
      "Flushing input history\n",
      "Flushing output cache (0 entries)\n",
      "Flushing input history\n"
     ]
    }
   ],
   "source": [
    "user_agg = train_df.groupby('user_id')[target].agg(['sum', 'count'])\n",
    "user_sum_dict = user_agg['sum'].astype('int16').to_dict(defaultdict(int))\n",
    "del user_agg['sum']\n",
    "user_count_dict = user_agg['count'].astype('int16').to_dict(defaultdict(int))\n",
    "del user_agg['count']\n",
    "clear_mem()\n",
    "\n",
    "#\n",
    "content_agg = train_df.groupby('content_id')[target].agg(['sum', 'count'])\n",
    "content_sum_dict = content_agg['sum'].astype('int32').to_dict(defaultdict(int))\n",
    "content_count_dict = content_agg['count'].astype('int32').to_dict(defaultdict(int))\n",
    "\n",
    "content_count_array = train_df['content_id'].map(content_agg['count']).astype('int32').values\n",
    "content_id_array = train_df['content_id'].map(content_agg['sum'] / content_agg['count']).values\n",
    "del content_agg\n",
    "clear_mem()"
   ]
  },
  {
   "cell_type": "code",
   "execution_count": 20,
   "metadata": {
    "execution": {
     "iopub.execute_input": "2020-12-20T13:53:21.616242Z",
     "iopub.status.busy": "2020-12-20T13:53:21.615366Z",
     "iopub.status.idle": "2020-12-20T13:53:32.431489Z",
     "shell.execute_reply": "2020-12-20T13:53:32.432391Z"
    },
    "papermill": {
     "duration": 11.593131,
     "end_time": "2020-12-20T13:53:32.432559",
     "exception": false,
     "start_time": "2020-12-20T13:53:20.839428",
     "status": "completed"
    },
    "tags": []
   },
   "outputs": [],
   "source": [
    "# benefit of solving difficult questions\n",
    "#point_array = 1 / (content_id_array + 0.1)\n",
    "content_id_array = content_id_array[train_index]\n",
    "content_count_array = content_count_array[train_index]\n",
    "\n",
    "with open('../input/riiid-premade-data/got_point_array.pickle','rb') as f:\n",
    "    got_point_array = pickle.load(f)\n",
    "got_point_array = got_point_array[train_index]\n",
    "    \n",
    "with open('../input/riiid-premade-data/user_point_sum_dict.pickle','rb') as f:\n",
    "    user_point_sum_dict = pickle.load(f)"
   ]
  },
  {
   "cell_type": "code",
   "execution_count": 21,
   "metadata": {
    "execution": {
     "iopub.execute_input": "2020-12-20T13:53:33.332075Z",
     "iopub.status.busy": "2020-12-20T13:53:32.951769Z",
     "iopub.status.idle": "2020-12-20T13:53:47.063546Z",
     "shell.execute_reply": "2020-12-20T13:53:47.062941Z"
    },
    "papermill": {
     "duration": 14.582433,
     "end_time": "2020-12-20T13:53:47.063653",
     "exception": false,
     "start_time": "2020-12-20T13:53:32.481220",
     "status": "completed"
    },
    "tags": []
   },
   "outputs": [
    {
     "name": "stdout",
     "output_type": "stream",
     "text": [
      "CPU times: user 3.77 s, sys: 2.27 s, total: 6.03 s\n",
      "Wall time: 14.5 s\n"
     ]
    }
   ],
   "source": [
    "%%time\n",
    "train_df.drop([\"content_id\"], axis=1, inplace=True)\n",
    "\n",
    "with open('../input/riiid-premade-data/user_content_dict.pickle','rb') as f:\n",
    "    user_content_dict = pickle.load(f)"
   ]
  },
  {
   "cell_type": "code",
   "execution_count": 22,
   "metadata": {
    "execution": {
     "iopub.execute_input": "2020-12-20T13:53:47.177038Z",
     "iopub.status.busy": "2020-12-20T13:53:47.165474Z",
     "iopub.status.idle": "2020-12-20T13:53:56.330191Z",
     "shell.execute_reply": "2020-12-20T13:53:56.329382Z"
    },
    "papermill": {
     "duration": 9.233411,
     "end_time": "2020-12-20T13:53:56.330330",
     "exception": false,
     "start_time": "2020-12-20T13:53:47.096919",
     "status": "completed"
    },
    "tags": []
   },
   "outputs": [],
   "source": [
    "with open('../input/riiid-premade-data/answered_correctly_last7_array.pickle','rb') as f:\n",
    "    answered_correctly_last7_array = pickle.load(f)\n",
    "answered_correctly_last7_array = answered_correctly_last7_array[train_index]\n",
    "    \n",
    "with open('../input/riiid-premade-data/user_last7_answer_dict.pickle','rb') as f:\n",
    "    user_last7_answer_dict = pickle.load(f)"
   ]
  },
  {
   "cell_type": "code",
   "execution_count": 23,
   "metadata": {
    "execution": {
     "iopub.execute_input": "2020-12-20T13:53:56.447414Z",
     "iopub.status.busy": "2020-12-20T13:53:56.442994Z",
     "iopub.status.idle": "2020-12-20T13:53:56.450172Z",
     "shell.execute_reply": "2020-12-20T13:53:56.450696Z"
    },
    "papermill": {
     "duration": 0.065882,
     "end_time": "2020-12-20T13:53:56.450848",
     "exception": false,
     "start_time": "2020-12-20T13:53:56.384966",
     "status": "completed"
    },
    "tags": []
   },
   "outputs": [],
   "source": [
    "@jit\n",
    "def continuous_correct(A):\n",
    "    ans = []\n",
    "    count = 0\n",
    "    for i in range(len(A)): \n",
    "        ans.append(count)\n",
    "        if A[i] ==1:\n",
    "            count += 1\n",
    "        else:\n",
    "            count = 0\n",
    "    return np.array(ans)\n",
    "\n",
    "@jit\n",
    "def continuous_incorrect(A):\n",
    "    ans = []\n",
    "    count = 0\n",
    "    for i in range(len(A)): \n",
    "        ans.append(count)\n",
    "        if A[i] ==0:\n",
    "            count += 1\n",
    "        else:\n",
    "            count = 0\n",
    "    return np.array(ans)\n",
    "\n",
    "@jit\n",
    "def continuous_correct_dict_calc(A):\n",
    "    count = 0\n",
    "    for i in range(len(A)): \n",
    "        if A[i] ==1:\n",
    "            count += 1\n",
    "        else:\n",
    "            count = 0\n",
    "    return count\n",
    "\n",
    "@jit\n",
    "def continuous_incorrect_dict_calc(A):\n",
    "    count = 0\n",
    "    for i in range(len(A)): \n",
    "        if A[i] ==0:\n",
    "            count += 1\n",
    "        else:\n",
    "            count = 0\n",
    "    return count\n",
    "\n",
    "#continuous_correct_array = train_df.groupby(\"user_id\").apply(lambda x: continuous_correct(x[\"answered_correctly\"].values))\n",
    "#continuous_correct_array = np.hstack(continuous_correct_array)\n",
    "#continuous_correct_array = continuous_correct_array[train_index]\n",
    "\n",
    "#continuous_incorrect_array = train_df.groupby(\"user_id\").apply(lambda x: continuous_incorrect(x[\"answered_correctly\"].values))\n",
    "#continuous_incorrect_array = np.hstack(continuous_incorrect_array)\n",
    "#continuous_incorrect_array = continuous_incorrect_array[train_index]\n",
    "\n",
    "#continuous_incorrect_dict = train_df.groupby(\"user_id\").apply(lambda x: continuous_incorrect_dict_calc(x[\"answered_correctly\"].values)).to_dict(defaultdict(int))\n",
    "#continuous_correct_dict = train_df.groupby(\"user_id\").apply(lambda x: continuous_correct_dict_calc(x[\"answered_correctly\"].values)).to_dict(defaultdict(int))"
   ]
  },
  {
   "cell_type": "code",
   "execution_count": 24,
   "metadata": {
    "execution": {
     "iopub.execute_input": "2020-12-20T13:53:56.520061Z",
     "iopub.status.busy": "2020-12-20T13:53:56.519416Z",
     "iopub.status.idle": "2020-12-20T13:53:58.949138Z",
     "shell.execute_reply": "2020-12-20T13:53:58.948455Z"
    },
    "papermill": {
     "duration": 2.465207,
     "end_time": "2020-12-20T13:53:58.949266",
     "exception": false,
     "start_time": "2020-12-20T13:53:56.484059",
     "status": "completed"
    },
    "tags": []
   },
   "outputs": [],
   "source": [
    "answered_correctly_array = train_df[target].values\n",
    "train_df.drop(target, axis=1, inplace=True)\n",
    "answered_correctly_array = answered_correctly_array[train_index]"
   ]
  },
  {
   "cell_type": "markdown",
   "metadata": {
    "papermill": {
     "duration": 0.032329,
     "end_time": "2020-12-20T13:53:59.014795",
     "exception": false,
     "start_time": "2020-12-20T13:53:58.982466",
     "status": "completed"
    },
    "tags": []
   },
   "source": [
    "# data formation"
   ]
  },
  {
   "cell_type": "code",
   "execution_count": 25,
   "metadata": {
    "execution": {
     "iopub.execute_input": "2020-12-20T13:53:59.158422Z",
     "iopub.status.busy": "2020-12-20T13:53:59.093510Z",
     "iopub.status.idle": "2020-12-20T13:54:14.685314Z",
     "shell.execute_reply": "2020-12-20T13:54:14.684176Z"
    },
    "papermill": {
     "duration": 15.637897,
     "end_time": "2020-12-20T13:54:14.685465",
     "exception": false,
     "start_time": "2020-12-20T13:53:59.047568",
     "status": "completed"
    },
    "tags": []
   },
   "outputs": [],
   "source": [
    "if not FULL_TRAIN:\n",
    "    train_df = train_df[train_df.index.isin(train_index)].reset_index(drop=True)\n",
    "    if CV_SCHEME == \"original\":\n",
    "        valid_index = list(train_df.groupby('user_id').tail(valid_size).index)\n",
    "    else:\n",
    "        valid_index = list(train_df['viretual_time_stamp'].nlargest(2500000).index)\n",
    "    train_index = list(train_df[~train_df.index.isin(valid_index)].index)\n",
    "del train_df"
   ]
  },
  {
   "cell_type": "code",
   "execution_count": 26,
   "metadata": {
    "execution": {
     "iopub.execute_input": "2020-12-20T13:54:14.737072Z",
     "iopub.status.busy": "2020-12-20T13:54:14.736586Z",
     "iopub.status.idle": "2020-12-20T13:54:14.754230Z",
     "shell.execute_reply": "2020-12-20T13:54:14.753623Z"
    },
    "papermill": {
     "duration": 0.044503,
     "end_time": "2020-12-20T13:54:14.754340",
     "exception": false,
     "start_time": "2020-12-20T13:54:14.709837",
     "status": "completed"
    },
    "tags": []
   },
   "outputs": [
    {
     "name": "stdout",
     "output_type": "stream",
     "text": [
      "21\n"
     ]
    }
   ],
   "source": [
    "features_dict = {\n",
    "    'content_id': content_id_array,\n",
    "    'prior_question_elapsed_time': prior_question_elapsed_time_array,\n",
    "    'prior_question_had_explanation':  prior_question_had_explanation_array,\n",
    "    'user_correctness': user_correctness_array,\n",
    "    'part': part_array,\n",
    "    'content_count': content_count_array,\n",
    "    'count': count_array,\n",
    "    'first_attempt': first_attempt_array,\n",
    "    'unique_attempt': unique_attempt_array,\n",
    "    'part_count': part_count_array,\n",
    "    'part_ratio': part_ratio_array,\n",
    "    'prior_question_had_explanation_mean': prior_question_had_explanation_mean_array,\n",
    "    'got_point': got_point_array,\n",
    "    'answered_correctly_last7': answered_correctly_last7_array,   \n",
    "    'timediff': timediff_array,\n",
    "    'timediff2': timediff2_array,\n",
    "    'timediff3': timediff3_array,\n",
    "    'community': community_array,\n",
    "    'tag_acc': tag_acc_array,\n",
    "    'community_count': community_count_array,\n",
    "    'time_dd': time_dd_array,\n",
    "    #'continuous_correct': continuous_correct_array,\n",
    "    #'continuous_incorrect': continuous_incorrect_array,\n",
    "}\n",
    "\n",
    "features = list(features_dict.keys())\n",
    "print(len(features))\n",
    "\n",
    "del content_id_array, prior_question_elapsed_time_array, prior_question_had_explanation_array,\n",
    "del user_correctness_array, part_array,\n",
    "del content_count_array, count_array, first_attempt_array, unique_attempt_array,\n",
    "del part_ratio_array, part_count_array,\n",
    "del prior_question_had_explanation_mean_array, got_point_array, \n",
    "del answered_correctly_last7_array, timediff_array, timediff2_array, community_array,\n",
    "del tag_acc_array, community_count_array, time_dd_array#, continuous_correct_array, continuous_incorrect_array"
   ]
  },
  {
   "cell_type": "code",
   "execution_count": 27,
   "metadata": {
    "execution": {
     "iopub.execute_input": "2020-12-20T13:54:14.815985Z",
     "iopub.status.busy": "2020-12-20T13:54:14.814915Z",
     "iopub.status.idle": "2020-12-20T13:54:14.818878Z",
     "shell.execute_reply": "2020-12-20T13:54:14.819621Z"
    },
    "papermill": {
     "duration": 0.036324,
     "end_time": "2020-12-20T13:54:14.819849",
     "exception": false,
     "start_time": "2020-12-20T13:54:14.783525",
     "status": "completed"
    },
    "tags": []
   },
   "outputs": [
    {
     "name": "stdout",
     "output_type": "stream",
     "text": [
      "(6536675, 22) (2360984, 22)\n"
     ]
    }
   ],
   "source": [
    "if FULL_TRAIN:\n",
    "    print(len(train_index), len(features)+1)\n",
    "else:\n",
    "    print((len(train_index), len(features)+1), (len(valid_index), len(features)+1))"
   ]
  },
  {
   "cell_type": "markdown",
   "metadata": {
    "papermill": {
     "duration": 0.05042,
     "end_time": "2020-12-20T13:54:14.921318",
     "exception": false,
     "start_time": "2020-12-20T13:54:14.870898",
     "status": "completed"
    },
    "tags": []
   },
   "source": [
    "# Train"
   ]
  },
  {
   "cell_type": "code",
   "execution_count": 28,
   "metadata": {
    "execution": {
     "iopub.execute_input": "2020-12-20T13:54:15.029216Z",
     "iopub.status.busy": "2020-12-20T13:54:15.028377Z",
     "iopub.status.idle": "2020-12-20T13:54:15.031543Z",
     "shell.execute_reply": "2020-12-20T13:54:15.032226Z"
    },
    "papermill": {
     "duration": 0.060093,
     "end_time": "2020-12-20T13:54:15.032378",
     "exception": false,
     "start_time": "2020-12-20T13:54:14.972285",
     "status": "completed"
    },
    "tags": []
   },
   "outputs": [],
   "source": [
    "params = {\n",
    "    'objective': 'binary',\n",
    "    'seed': 42,\n",
    "    'metric': 'auc',\n",
    "    'learning_rate': 0.05,\n",
    "    'max_bin': 800,\n",
    "    'num_leaves': 80\n",
    "}"
   ]
  },
  {
   "cell_type": "code",
   "execution_count": 29,
   "metadata": {
    "execution": {
     "iopub.execute_input": "2020-12-20T13:54:15.774321Z",
     "iopub.status.busy": "2020-12-20T13:54:15.773326Z",
     "iopub.status.idle": "2020-12-20T13:54:49.163286Z",
     "shell.execute_reply": "2020-12-20T13:54:49.162517Z"
    },
    "papermill": {
     "duration": 34.079993,
     "end_time": "2020-12-20T13:54:49.163442",
     "exception": false,
     "start_time": "2020-12-20T13:54:15.083449",
     "status": "completed"
    },
    "tags": []
   },
   "outputs": [],
   "source": [
    "if FULL_TRAIN:\n",
    "    X_train = np.ndarray(shape=(len(train_index), len(features)), dtype=np.float32)\n",
    "\n",
    "    for idx, feature in enumerate(features):\n",
    "        X_train[:,idx] = features_dict[feature].astype(np.float32).reshape(-1)\n",
    "        del features_dict[feature]\n",
    "    y_train = answered_correctly_array.astype(np.float32)\n",
    "    tr_data = lgb.Dataset(X_train, label=y_train)\n",
    "else:\n",
    "    X_train = np.ndarray(shape=(len(train_index), len(features)), dtype=np.float32)\n",
    "    X_valid = np.ndarray(shape=(len(valid_index), len(features)), dtype=np.float32)\n",
    "\n",
    "    for idx, feature in enumerate(features):\n",
    "        X_train[:,idx] = features_dict[feature][train_index].astype(np.float32).reshape(-1)\n",
    "        X_valid[:,idx] = features_dict[feature][valid_index].astype(np.float32).reshape(-1)\n",
    "        del features_dict[feature]\n",
    "    y_train = answered_correctly_array[train_index].astype(np.float32)\n",
    "    y_valid = answered_correctly_array[valid_index].astype(np.float32)\n",
    "\n",
    "    tr_data = lgb.Dataset(X_train, label=y_train)\n",
    "    va_data = lgb.Dataset(X_valid, label=y_valid)"
   ]
  },
  {
   "cell_type": "code",
   "execution_count": 30,
   "metadata": {
    "execution": {
     "iopub.execute_input": "2020-12-20T13:54:49.271885Z",
     "iopub.status.busy": "2020-12-20T13:54:49.270972Z",
     "iopub.status.idle": "2020-12-20T13:54:50.091530Z",
     "shell.execute_reply": "2020-12-20T13:54:50.092503Z"
    },
    "papermill": {
     "duration": 0.876582,
     "end_time": "2020-12-20T13:54:50.092744",
     "exception": false,
     "start_time": "2020-12-20T13:54:49.216162",
     "status": "completed"
    },
    "tags": []
   },
   "outputs": [],
   "source": [
    "import optuna\n",
    "from optuna import Trial\n",
    "from sklearn.metrics import roc_auc_score\n",
    "\n",
    "def objective(trial: Trial, fast_check=True, target_meter=0, return_info=False):      \n",
    "    params = {\n",
    "        'objective': 'binary',\n",
    "        'seed': 42,\n",
    "        'metric': 'auc',\n",
    "        'learning_rate': 0.05,\n",
    "        'max_bin': 800,\n",
    "        #'num_leaves': 80\n",
    "        #'num_leaves': trial.suggest_int('num_leaves', 2, 128),\n",
    "        #'max_depth': trial.suggest_int('max_depth', 1, 10),\n",
    "        'learning_rate': trial.suggest_uniform('learning_rate', 0.01, 0.1),\n",
    "        #'lambda_l1': trial.suggest_loguniform('lambda_l1', 1e-8, 10.0),\n",
    "        #'lambda_l2': trial.suggest_loguniform('lambda_l2', 1e-8, 10.0),\n",
    "        #\"bagging_freq\": 5,\n",
    "        #\"bagging_fraction\": trial.suggest_uniform('bagging_fraction', 0.1, 1.0),\n",
    "        #\"feature_fraction\": trial.suggest_uniform('feature_fraction', 0.4, 1.0),\n",
    "    }\n",
    "    \n",
    "    model = lgb.train(params, tr_data ,valid_sets=[tr_data, va_data],\n",
    "           num_boost_round=1950,early_stopping_rounds=15,verbose_eval = 50)\n",
    "    valid_predict = model.predict(X_valid, num_iteration = model.best_iteration)\n",
    "    valid_score = roc_auc_score(y_valid, valid_predict)\n",
    "    \n",
    "    return valid_score\n",
    "\n",
    "#study = optuna.create_study(direction='maximize') #maximize or minimize\n",
    "#study.optimize(objective, n_trials=3)\n",
    "#print('Best trial: score {}, params {}'.format(study.best_trial.value, study.best_trial.params))"
   ]
  },
  {
   "cell_type": "code",
   "execution_count": 31,
   "metadata": {
    "execution": {
     "iopub.execute_input": "2020-12-20T13:54:50.175804Z",
     "iopub.status.busy": "2020-12-20T13:54:50.174869Z",
     "iopub.status.idle": "2020-12-20T14:53:54.237541Z",
     "shell.execute_reply": "2020-12-20T14:53:54.238517Z"
    },
    "papermill": {
     "duration": 3544.102844,
     "end_time": "2020-12-20T14:53:54.239023",
     "exception": false,
     "start_time": "2020-12-20T13:54:50.136179",
     "status": "completed"
    },
    "tags": []
   },
   "outputs": [
    {
     "name": "stdout",
     "output_type": "stream",
     "text": [
      "training starts\n",
      "Training until validation scores don't improve for 15 rounds\n",
      "[50]\ttraining's auc: 0.765356\tvalid_1's auc: 0.751163\n",
      "[100]\ttraining's auc: 0.76996\tvalid_1's auc: 0.75659\n",
      "[150]\ttraining's auc: 0.772214\tvalid_1's auc: 0.758991\n",
      "[200]\ttraining's auc: 0.773516\tvalid_1's auc: 0.760196\n",
      "[250]\ttraining's auc: 0.774415\tvalid_1's auc: 0.760948\n",
      "[300]\ttraining's auc: 0.775058\tvalid_1's auc: 0.761398\n",
      "[350]\ttraining's auc: 0.775584\tvalid_1's auc: 0.761699\n",
      "[400]\ttraining's auc: 0.776054\tvalid_1's auc: 0.761965\n",
      "[450]\ttraining's auc: 0.776482\tvalid_1's auc: 0.762164\n",
      "[500]\ttraining's auc: 0.776896\tvalid_1's auc: 0.762412\n",
      "[550]\ttraining's auc: 0.777296\tvalid_1's auc: 0.762608\n",
      "[600]\ttraining's auc: 0.777665\tvalid_1's auc: 0.762784\n",
      "[650]\ttraining's auc: 0.778031\tvalid_1's auc: 0.762933\n",
      "[700]\ttraining's auc: 0.778358\tvalid_1's auc: 0.763043\n",
      "[750]\ttraining's auc: 0.77874\tvalid_1's auc: 0.763195\n",
      "[800]\ttraining's auc: 0.77905\tvalid_1's auc: 0.763282\n",
      "[850]\ttraining's auc: 0.779358\tvalid_1's auc: 0.763376\n",
      "[900]\ttraining's auc: 0.779703\tvalid_1's auc: 0.763521\n",
      "[950]\ttraining's auc: 0.780027\tvalid_1's auc: 0.763615\n",
      "[1000]\ttraining's auc: 0.78033\tvalid_1's auc: 0.763704\n",
      "[1050]\ttraining's auc: 0.780596\tvalid_1's auc: 0.763763\n",
      "[1100]\ttraining's auc: 0.780945\tvalid_1's auc: 0.763903\n",
      "[1150]\ttraining's auc: 0.781266\tvalid_1's auc: 0.763998\n",
      "[1200]\ttraining's auc: 0.781551\tvalid_1's auc: 0.764075\n",
      "[1250]\ttraining's auc: 0.781841\tvalid_1's auc: 0.764149\n",
      "[1300]\ttraining's auc: 0.782148\tvalid_1's auc: 0.764226\n",
      "[1350]\ttraining's auc: 0.782416\tvalid_1's auc: 0.764268\n",
      "[1400]\ttraining's auc: 0.782695\tvalid_1's auc: 0.764345\n",
      "[1450]\ttraining's auc: 0.782972\tvalid_1's auc: 0.764393\n",
      "[1500]\ttraining's auc: 0.783228\tvalid_1's auc: 0.764428\n",
      "[1550]\ttraining's auc: 0.783506\tvalid_1's auc: 0.764493\n",
      "[1600]\ttraining's auc: 0.783768\tvalid_1's auc: 0.764533\n",
      "[1650]\ttraining's auc: 0.784023\tvalid_1's auc: 0.764566\n",
      "[1700]\ttraining's auc: 0.784284\tvalid_1's auc: 0.764611\n",
      "[1750]\ttraining's auc: 0.784534\tvalid_1's auc: 0.764647\n",
      "[1800]\ttraining's auc: 0.784787\tvalid_1's auc: 0.764668\n",
      "Early stopping, best iteration is:\n",
      "[1792]\ttraining's auc: 0.784757\tvalid_1's auc: 0.764671\n"
     ]
    }
   ],
   "source": [
    "print(\"training starts\")\n",
    "if FULL_TRAIN:\n",
    "    model = lgb.train(\n",
    "        params, \n",
    "        tr_data, \n",
    "        num_boost_round=3000,\n",
    "        valid_sets=None, \n",
    "        )\n",
    "    del X_train, y_train\n",
    "else:\n",
    "    model = lgb.train(\n",
    "        params, \n",
    "        tr_data, \n",
    "        num_boost_round= 1900,\n",
    "        valid_sets=[tr_data, va_data], \n",
    "        early_stopping_rounds=15,\n",
    "        verbose_eval=50\n",
    "        )\n",
    "    del X_train, y_train, X_valid, y_valid"
   ]
  },
  {
   "cell_type": "markdown",
   "metadata": {
    "papermill": {
     "duration": 0.096593,
     "end_time": "2020-12-20T14:53:54.391168",
     "exception": false,
     "start_time": "2020-12-20T14:53:54.294575",
     "status": "completed"
    },
    "tags": []
   },
   "source": [
    "# Inference"
   ]
  },
  {
   "cell_type": "code",
   "execution_count": 32,
   "metadata": {
    "execution": {
     "iopub.execute_input": "2020-12-20T14:53:54.481542Z",
     "iopub.status.busy": "2020-12-20T14:53:54.480955Z",
     "iopub.status.idle": "2020-12-20T14:53:54.482765Z",
     "shell.execute_reply": "2020-12-20T14:53:54.483133Z"
    },
    "papermill": {
     "duration": 0.04209,
     "end_time": "2020-12-20T14:53:54.483233",
     "exception": false,
     "start_time": "2020-12-20T14:53:54.441143",
     "status": "completed"
    },
    "tags": []
   },
   "outputs": [],
   "source": [
    "env = riiideducation.make_env()\n",
    "iter_test = env.iter_test()\n",
    "prior_test_df = None"
   ]
  },
  {
   "cell_type": "code",
   "execution_count": 33,
   "metadata": {
    "execution": {
     "iopub.execute_input": "2020-12-20T14:53:54.570745Z",
     "iopub.status.busy": "2020-12-20T14:53:54.563510Z",
     "iopub.status.idle": "2020-12-20T14:53:55.446160Z",
     "shell.execute_reply": "2020-12-20T14:53:55.445594Z"
    },
    "papermill": {
     "duration": 0.928008,
     "end_time": "2020-12-20T14:53:55.446293",
     "exception": false,
     "start_time": "2020-12-20T14:53:54.518285",
     "status": "completed"
    },
    "tags": []
   },
   "outputs": [
    {
     "name": "stdout",
     "output_type": "stream",
     "text": [
      "CPU times: user 1.48 s, sys: 86.9 ms, total: 1.56 s\n",
      "Wall time: 868 ms\n"
     ]
    }
   ],
   "source": [
    "%%time\n",
    "for (test_df, sample_prediction_df) in iter_test:\n",
    "    if prior_test_df is not None:\n",
    "        prior_test_df[target] = eval(test_df['prior_group_answers_correct'].iloc[0])\n",
    "        prior_test_df = prior_test_df[prior_test_df[target] != -1].reset_index(drop=True)\n",
    "        \n",
    "        user_ids = prior_test_df['user_id'].values\n",
    "        content_ids = prior_test_df['content_id'].values\n",
    "        targets = prior_test_df[target].values\n",
    "         \n",
    "        for user_id, content_id, answered_correctly, first_attempt_ornot, prior_explanation, prior_point, prior_community in zip(user_ids, content_ids, \n",
    "                                                            targets, \n",
    "                                                            prior_f_attempt_arrays,\n",
    "                                                            p_prior_question_had_explanation,\n",
    "                                                            prior_point_array,\n",
    "                                                            prior_community_arrays):\n",
    "            \n",
    "            user_sum_dict[user_id] += answered_correctly\n",
    "            user_count_dict[user_id] += 1\n",
    "            content_sum_dict[content_id] += answered_correctly\n",
    "            content_count_dict[content_id] += 1\n",
    "            user_unique_dict[user_id] += first_attempt_ornot\n",
    "            user_prior_question_had_explanation_sum_dict[user_id] += prior_explanation\n",
    "            user_point_sum_dict[user_id] += prior_point * answered_correctly\n",
    "            if len(user_last7_answer_dict[user_id])==7:\n",
    "                user_last7_answer_dict[user_id] = np.concatenate([user_last7_answer_dict[user_id],[answered_correctly]])[1:]\n",
    "            else:\n",
    "                user_last7_answer_dict[user_id] = np.concatenate([user_last7_answer_dict[user_id],[answered_correctly]])\n",
    "            \n",
    "            user_community_correct_dict[user_id][prior_community] += answered_correctly\n",
    "            user_community_count_dict[user_id][prior_community] += 1\n",
    "            community_count_dict[prior_community] += 1            \n",
    "            #if answered_correctly == 1:\n",
    "            #    continuous_correct_dict[user_id] += 1\n",
    "            #    continuous_incorrect_dict[user_id] = 0\n",
    "            #else:\n",
    "            #    continuous_correct_dict[user_id] = 0\n",
    "            #    continuous_incorrect_dict[user_id] += 1\n",
    "            \n",
    "    prior_test_df = test_df.copy()\n",
    "           \n",
    "    test_df = test_df[test_df['content_type_id'] == 0].reset_index(drop=True)\n",
    "    test_df = pd.merge(test_df, questions_df, left_on='content_id', right_on='question_id', how='left', right_index=True).reset_index(drop=True)\n",
    "    test_df['prior_question_had_explanation'] = test_df['prior_question_had_explanation'].fillna(False).astype('bool')\n",
    "    test_df['prior_question_elapsed_time'] = test_df['prior_question_elapsed_time'].fillna(0)\n",
    "\n",
    "    p_prior_question_had_explanation = test_df['prior_question_had_explanation'].values\n",
    "    prior_community_arrays = test_df['community'].values\n",
    "    \n",
    "    user_sum = np.zeros(len(test_df), dtype=np.int16)\n",
    "    user_count = np.zeros(len(test_df), dtype=np.int16)\n",
    "    content_sum = np.zeros(len(test_df), dtype=np.int32)\n",
    "    content_count = np.zeros(len(test_df), dtype=np.int32)\n",
    "    part_count = np.zeros(len(test_df), dtype=np.int32)\n",
    "    first_attempt_values = []\n",
    "    user_unique_count = np.zeros(len(test_df), dtype=np.int32)\n",
    "    user_prior_question_had_explanation_sum = np.zeros(len(test_df), dtype=np.int32)\n",
    "    got_point_array = np.zeros(len(test_df), dtype=np.float32)\n",
    "    user_last7_accuracy_array = np.zeros(len(test_df), dtype=np.float32)\n",
    "    timediff_array = np.zeros(len(test_df), dtype = np.int64)\n",
    "    timediff2_array = np.zeros(len(test_df), dtype = np.int64)\n",
    "    timediff3_array = np.zeros(len(test_df), dtype = np.int64)\n",
    "    tag_acc_array = np.zeros(len(test_df), dtype=np.float32)\n",
    "    community_count_array = np.zeros(len(test_df), dtype=np.int32)\n",
    "    time_dd_array = np.zeros(len(test_df), dtype = np.int64)\n",
    "    #user_con_correct_array = np.zeros(len(test_df), dtype=np.int16)\n",
    "    #user_con_incorrect_array = np.zeros(len(test_df), dtype=np.int16)\n",
    "    \n",
    "    for i, (user_id, content_id, timestamp, community, part) in enumerate(zip(test_df['user_id'].values, \n",
    "                                                             test_df['content_id'].values,\n",
    "                                                             test_df['timestamp'].values,\n",
    "                                                             test_df['community'].values,\n",
    "                                                             test_df['part'].values)):\n",
    "        user_sum[i] = user_sum_dict[user_id]\n",
    "        user_count[i] = user_count_dict[user_id]\n",
    "        content_sum[i] = content_sum_dict[content_id]\n",
    "        content_count[i] = content_count_dict[content_id]\n",
    "        part_count[i] = user_part_count_dict[user_id][part] + 1\n",
    "        user_part_count_dict[user_id][part] += 1\n",
    "        first_attempt_values.append(user_content_dict[user_id][content_id])\n",
    "        user_content_dict[user_id][content_id] = False             \n",
    "        user_unique_count[i] = user_unique_dict[user_id]\n",
    "        user_prior_question_had_explanation_sum[i] = user_prior_question_had_explanation_sum_dict[user_id]\n",
    "        got_point_array[i] = user_point_sum_dict[user_id]\n",
    "        \n",
    "        if len(user_last7_answer_dict[user_id])==7:\n",
    "            user_last7_accuracy_array[i] = user_last7_answer_dict[user_id].mean()\n",
    "        else:\n",
    "            user_last7_accuracy_array[i] = np.nan\n",
    "            \n",
    "        if len(user_timestamp_max_dict[user_id]) ==0:\n",
    "            timediff_array[i] = -1\n",
    "            timediff2_array[i] = -1\n",
    "            timediff3_array[i] = -1\n",
    "            time_dd_array[i] = -1\n",
    "            user_timestamp_max_dict[user_id] = np.concatenate([user_timestamp_max_dict[user_id],[timestamp]])\n",
    "            \n",
    "        elif len(user_timestamp_max_dict[user_id]) ==1:\n",
    "            timediff_array[i] = timestamp - user_timestamp_max_dict[user_id][0]\n",
    "            timediff2_array[i] = -1\n",
    "            timediff3_array[i] = -1\n",
    "            time_dd_array[i] = -1\n",
    "            user_timestamp_max_dict[user_id] = np.concatenate([user_timestamp_max_dict[user_id],[timestamp]])\n",
    "            \n",
    "        elif len(user_timestamp_max_dict[user_id]) ==2:\n",
    "            timediff_array[i] = timestamp - user_timestamp_max_dict[user_id][1]\n",
    "            timediff2_array[i] = timestamp - user_timestamp_max_dict[user_id][0]\n",
    "            timediff3_array[i] = -1\n",
    "            time_dd_array[i] = timediff2_array[i] - timediff_array[i]\n",
    "            user_timestamp_max_dict[user_id] = np.concatenate([user_timestamp_max_dict[user_id],[timestamp]])  \n",
    "            \n",
    "        else:\n",
    "            timediff_array[i] = timestamp - user_timestamp_max_dict[user_id][2]\n",
    "            timediff2_array[i] = timestamp - user_timestamp_max_dict[user_id][1]\n",
    "            timediff3_array[i] = timestamp - user_timestamp_max_dict[user_id][0]\n",
    "            time_dd_array[i] = timediff2_array[i] - timediff_array[i]\n",
    "            user_timestamp_max_dict[user_id] = np.concatenate([user_timestamp_max_dict[user_id],[timestamp]])[1:]  \n",
    "            \n",
    "        if user_community_count_dict[user_id][community] == 0:\n",
    "            tag_acc_array[i] = -1\n",
    "        else:\n",
    "            tag_acc_array[i] = user_community_correct_dict[user_id][community] / user_community_count_dict[user_id][community]\n",
    "            \n",
    "        community_count_array[i] = community_count_dict[community]\n",
    "        \n",
    "        #user_con_correct_array[i] = continuous_correct_dict[user_id]\n",
    "        #user_con_incorrect_array[i] = continuous_incorrect_dict[user_id]\n",
    "        \n",
    "    test_df['user_correctness'] = user_sum / user_count\n",
    "    test_df['content_count'] = content_count\n",
    "    test_df['content_id'] = content_sum / content_count\n",
    "    test_df['count'] = 1\n",
    "    test_df['count'] = test_df.groupby(\"user_id\")[\"count\"].cumsum()\n",
    "    test_df['count'] += user_count\n",
    "    test_df['part_count'] = part_count\n",
    "    test_df['part_ratio'] = part_count / test_df['count'].values\n",
    "    test_df[\"first_attempt\"] = first_attempt_values\n",
    "    test_df[\"unique_attempt\"] = test_df.groupby(\"user_id\")[\"first_attempt\"].cumsum()\n",
    "    test_df[\"unique_attempt\"] += user_unique_count\n",
    "    test_df['prior_question_had_explanation_mean'] = user_prior_question_had_explanation_sum / user_count\n",
    "    test_df['got_point'] = got_point_array / user_count\n",
    "    test_df['answered_correctly_last7'] = user_last7_accuracy_array\n",
    "    test_df['timediff'] = timediff_array\n",
    "    test_df['timediff2'] = timediff2_array\n",
    "    test_df['timediff3'] = timediff3_array\n",
    "    test_df['tag_acc'] = tag_acc_array\n",
    "    test_df['community_count'] = community_count_array\n",
    "    test_df['time_dd'] = time_dd_array\n",
    "    #test_df['continuous_correct'] = user_con_correct_array\n",
    "    #test_df['continuous_incorrect'] = user_con_incorrect_array\n",
    "    \n",
    "    prior_f_attempt_arrays = test_df['first_attempt'].values\n",
    "    prior_point_array = 1 / (test_df.content_id.values + 0.1)\n",
    "    \n",
    "    test_df[target] = model.predict(test_df[features])\n",
    "    env.predict(test_df[['row_id', target]])"
   ]
  },
  {
   "cell_type": "code",
   "execution_count": null,
   "metadata": {
    "papermill": {
     "duration": 0.048558,
     "end_time": "2020-12-20T14:53:55.543861",
     "exception": false,
     "start_time": "2020-12-20T14:53:55.495303",
     "status": "completed"
    },
    "tags": []
   },
   "outputs": [],
   "source": []
  }
 ],
 "metadata": {
  "kernelspec": {
   "display_name": "Python 3",
   "language": "python",
   "name": "python3"
  },
  "language_info": {
   "codemirror_mode": {
    "name": "ipython",
    "version": 3
   },
   "file_extension": ".py",
   "mimetype": "text/x-python",
   "name": "python",
   "nbconvert_exporter": "python",
   "pygments_lexer": "ipython3",
   "version": "3.7.6"
  },
  "papermill": {
   "duration": 4395.257007,
   "end_time": "2020-12-20T14:53:56.833758",
   "environment_variables": {},
   "exception": null,
   "input_path": "__notebook__.ipynb",
   "output_path": "__notebook__.ipynb",
   "parameters": {},
   "start_time": "2020-12-20T13:40:41.576751",
   "version": "2.1.0"
  }
 },
 "nbformat": 4,
 "nbformat_minor": 4
}
