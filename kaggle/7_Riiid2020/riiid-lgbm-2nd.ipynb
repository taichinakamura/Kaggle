{
 "cells": [
  {
   "cell_type": "markdown",
   "metadata": {
    "papermill": {
     "duration": 0.026339,
     "end_time": "2020-12-26T04:58:45.372780",
     "exception": false,
     "start_time": "2020-12-26T04:58:45.346441",
     "status": "completed"
    },
    "tags": []
   },
   "source": [
    "- renew user_corecctness by bundle_id\n",
    "- add continuous correct, incorrect again"
   ]
  },
  {
   "cell_type": "code",
   "execution_count": 1,
   "metadata": {
    "_cell_guid": "b1076dfc-b9ad-4769-8c92-a6c4dae69d19",
    "_uuid": "8f2839f25d086af736a60e9eeb907d3b93b6e0e5",
    "execution": {
     "iopub.execute_input": "2020-12-26T04:58:45.427478Z",
     "iopub.status.busy": "2020-12-26T04:58:45.426739Z",
     "iopub.status.idle": "2020-12-26T04:59:15.858296Z",
     "shell.execute_reply": "2020-12-26T04:59:15.857649Z"
    },
    "papermill": {
     "duration": 30.461618,
     "end_time": "2020-12-26T04:59:15.858425",
     "exception": false,
     "start_time": "2020-12-26T04:58:45.396807",
     "status": "completed"
    },
    "tags": []
   },
   "outputs": [],
   "source": [
    "!pip install ../input/python-datatable/datatable-0.11.0-cp37-cp37m-manylinux2010_x86_64.whl > /dev/null 2>&1"
   ]
  },
  {
   "cell_type": "code",
   "execution_count": 2,
   "metadata": {
    "_cell_guid": "79c7e3d0-c299-4dcb-8224-4455121ee9b0",
    "_uuid": "d629ff2d2480ee46fbb7e2d37f6b5fab8052498a",
    "execution": {
     "iopub.execute_input": "2020-12-26T04:59:15.919307Z",
     "iopub.status.busy": "2020-12-26T04:59:15.918528Z",
     "iopub.status.idle": "2020-12-26T04:59:18.042644Z",
     "shell.execute_reply": "2020-12-26T04:59:18.041924Z"
    },
    "papermill": {
     "duration": 2.158137,
     "end_time": "2020-12-26T04:59:18.042777",
     "exception": false,
     "start_time": "2020-12-26T04:59:15.884640",
     "status": "completed"
    },
    "tags": []
   },
   "outputs": [
    {
     "data": {
      "text/html": [
       "<style type='text/css'>\n",
       ".datatable table.frame { margin-bottom: 0; }\n",
       ".datatable table.frame thead { border-bottom: none; }\n",
       ".datatable table.frame tr.coltypes td {  color: #FFFFFF;  line-height: 6px;  padding: 0 0.5em;}\n",
       ".datatable .bool    { background: #DDDD99; }\n",
       ".datatable .object  { background: #565656; }\n",
       ".datatable .int     { background: #5D9E5D; }\n",
       ".datatable .float   { background: #4040CC; }\n",
       ".datatable .str     { background: #CC4040; }\n",
       ".datatable .row_index {  background: var(--jp-border-color3);  border-right: 1px solid var(--jp-border-color0);  color: var(--jp-ui-font-color3);  font-size: 9px;}\n",
       ".datatable .frame tr.coltypes .row_index {  background: var(--jp-border-color0);}\n",
       ".datatable th:nth-child(2) { padding-left: 12px; }\n",
       ".datatable .hellipsis {  color: var(--jp-cell-editor-border-color);}\n",
       ".datatable .vellipsis {  background: var(--jp-layout-color0);  color: var(--jp-cell-editor-border-color);}\n",
       ".datatable .na {  color: var(--jp-cell-editor-border-color);  font-size: 80%;}\n",
       ".datatable .footer { font-size: 9px; }\n",
       ".datatable .frame_dimensions {  background: var(--jp-border-color3);  border-top: 1px solid var(--jp-border-color0);  color: var(--jp-ui-font-color3);  display: inline-block;  opacity: 0.6;  padding: 1px 10px 1px 5px;}\n",
       ".datatable .frame thead tr.colnames {  background-image: url('data:image/png;base64,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');  background-repeat: repeat-x;  background-size: 14px;  height: 28px;}\n",
       "</style>\n"
      ],
      "text/plain": [
       "<IPython.core.display.HTML object>"
      ]
     },
     "metadata": {},
     "output_type": "display_data"
    }
   ],
   "source": [
    "import gc\n",
    "import random\n",
    "import pickle\n",
    "import numpy as np\n",
    "import pandas as pd\n",
    "from numba import jit\n",
    "import riiideducation\n",
    "import datatable as dt\n",
    "import lightgbm as lgb\n",
    "from bitarray import bitarray\n",
    "from functools import partial\n",
    "from collections import defaultdict\n",
    "\n",
    "_ = np.seterr(divide='ignore', invalid='ignore')\n",
    "pd.set_option(\"max_rows\", 100)\n",
    "pd.set_option(\"max_columns\", 100)\n",
    "\n",
    "random.seed(1)"
   ]
  },
  {
   "cell_type": "code",
   "execution_count": 3,
   "metadata": {
    "execution": {
     "iopub.execute_input": "2020-12-26T04:59:18.105905Z",
     "iopub.status.busy": "2020-12-26T04:59:18.104858Z",
     "iopub.status.idle": "2020-12-26T04:59:18.108039Z",
     "shell.execute_reply": "2020-12-26T04:59:18.108577Z"
    },
    "papermill": {
     "duration": 0.040309,
     "end_time": "2020-12-26T04:59:18.108734",
     "exception": false,
     "start_time": "2020-12-26T04:59:18.068425",
     "status": "completed"
    },
    "tags": []
   },
   "outputs": [],
   "source": [
    "def make_bitarray():\n",
    "    a = bitarray(32737, endian='little')\n",
    "    a.setall(True)   \n",
    "    return a\n",
    "\n",
    "def clear_mem():\n",
    "    %reset -f out\n",
    "    %reset -f in\n",
    "    gc.collect()"
   ]
  },
  {
   "cell_type": "code",
   "execution_count": 4,
   "metadata": {
    "execution": {
     "iopub.execute_input": "2020-12-26T04:59:18.164519Z",
     "iopub.status.busy": "2020-12-26T04:59:18.163771Z",
     "iopub.status.idle": "2020-12-26T04:59:18.166516Z",
     "shell.execute_reply": "2020-12-26T04:59:18.167624Z"
    },
    "papermill": {
     "duration": 0.033842,
     "end_time": "2020-12-26T04:59:18.167778",
     "exception": false,
     "start_time": "2020-12-26T04:59:18.133936",
     "status": "completed"
    },
    "tags": []
   },
   "outputs": [],
   "source": [
    "FULL_TRAIN = False\n",
    "CV_SCHEME = \"original\" #\"time\" "
   ]
  },
  {
   "cell_type": "markdown",
   "metadata": {
    "papermill": {
     "duration": 0.024902,
     "end_time": "2020-12-26T04:59:18.218317",
     "exception": false,
     "start_time": "2020-12-26T04:59:18.193415",
     "status": "completed"
    },
    "tags": []
   },
   "source": [
    "# Preprocess"
   ]
  },
  {
   "cell_type": "code",
   "execution_count": 5,
   "metadata": {
    "execution": {
     "iopub.execute_input": "2020-12-26T04:59:18.275321Z",
     "iopub.status.busy": "2020-12-26T04:59:18.274326Z",
     "iopub.status.idle": "2020-12-26T04:59:18.277561Z",
     "shell.execute_reply": "2020-12-26T04:59:18.277024Z"
    },
    "papermill": {
     "duration": 0.0342,
     "end_time": "2020-12-26T04:59:18.277676",
     "exception": false,
     "start_time": "2020-12-26T04:59:18.243476",
     "status": "completed"
    },
    "tags": []
   },
   "outputs": [],
   "source": [
    "data_types_dict = {\n",
    "    'timestamp': 'int64',\n",
    "    'user_id': 'int32', \n",
    "    'content_id': 'int16', \n",
    "    'answered_correctly': 'int8', \n",
    "    'prior_question_elapsed_time': 'float32', \n",
    "    'prior_question_had_explanation': 'bool',\n",
    "}\n",
    "target = 'answered_correctly'"
   ]
  },
  {
   "cell_type": "code",
   "execution_count": 6,
   "metadata": {
    "execution": {
     "iopub.execute_input": "2020-12-26T04:59:18.334216Z",
     "iopub.status.busy": "2020-12-26T04:59:18.333516Z",
     "iopub.status.idle": "2020-12-26T05:00:59.900747Z",
     "shell.execute_reply": "2020-12-26T05:00:59.900082Z"
    },
    "papermill": {
     "duration": 101.5977,
     "end_time": "2020-12-26T05:00:59.900872",
     "exception": false,
     "start_time": "2020-12-26T04:59:18.303172",
     "status": "completed"
    },
    "tags": []
   },
   "outputs": [],
   "source": [
    "train_df = dt.fread('../input/riiid-test-answer-prediction/train.csv', columns=set(data_types_dict.keys())).to_pandas()"
   ]
  },
  {
   "cell_type": "code",
   "execution_count": 7,
   "metadata": {
    "execution": {
     "iopub.execute_input": "2020-12-26T05:00:59.969078Z",
     "iopub.status.busy": "2020-12-26T05:00:59.968001Z",
     "iopub.status.idle": "2020-12-26T05:01:29.518636Z",
     "shell.execute_reply": "2020-12-26T05:01:29.519146Z"
    },
    "papermill": {
     "duration": 29.591846,
     "end_time": "2020-12-26T05:01:29.519305",
     "exception": false,
     "start_time": "2020-12-26T05:00:59.927459",
     "status": "completed"
    },
    "tags": []
   },
   "outputs": [],
   "source": [
    "train_df = train_df[train_df[target] != -1].reset_index(drop=True)\n",
    "\n",
    "train_df['prior_question_had_explanation'] = train_df['prior_question_had_explanation'].fillna(False).astype('int8')\n",
    "train_df['prior_question_elapsed_time'].fillna(0, inplace=True)\n",
    "\n",
    "train_df = train_df.astype(data_types_dict)"
   ]
  },
  {
   "cell_type": "code",
   "execution_count": 8,
   "metadata": {
    "execution": {
     "iopub.execute_input": "2020-12-26T05:01:29.584013Z",
     "iopub.status.busy": "2020-12-26T05:01:29.583288Z",
     "iopub.status.idle": "2020-12-26T05:01:37.321793Z",
     "shell.execute_reply": "2020-12-26T05:01:37.321155Z"
    },
    "papermill": {
     "duration": 7.776594,
     "end_time": "2020-12-26T05:01:37.321907",
     "exception": false,
     "start_time": "2020-12-26T05:01:29.545313",
     "status": "completed"
    },
    "tags": []
   },
   "outputs": [],
   "source": [
    "if CV_SCHEME==\"time\":\n",
    "    max_timestamp_u = train_df[['user_id','timestamp']].groupby(['user_id']).agg(['max']).reset_index()\n",
    "    max_timestamp_u.columns = ['user_id', 'max_time_stamp']\n",
    "    MAX_TIME_STAMP = max_timestamp_u.max_time_stamp.max()\n",
    "\n",
    "    def rand_time(max_time_stamp):\n",
    "        interval = MAX_TIME_STAMP - max_time_stamp\n",
    "        rand_time_stamp = random.randint(0,interval)\n",
    "        return rand_time_stamp\n",
    "\n",
    "    max_timestamp_u['rand_time_stamp'] = max_timestamp_u.max_time_stamp.apply(rand_time)\n",
    "    train_df = train_df.merge(max_timestamp_u, on='user_id', how='left')\n",
    "    train_df['viretual_time_stamp'] = train_df.timestamp + train_df['rand_time_stamp']\n",
    "\n",
    "    del train_df['max_time_stamp']\n",
    "    del train_df['rand_time_stamp']\n",
    "    del max_timestamp_u\n",
    "\n",
    "    train_index = list(train_df['viretual_time_stamp'].nlargest(10000000).index)\n",
    "\n",
    "else:\n",
    "    if FULL_TRAIN:\n",
    "        train_size = 200\n",
    "    else:\n",
    "        train_size = 24\n",
    "        valid_size = 6\n",
    "    \n",
    "    train_index = list(train_df.groupby('user_id').tail(train_size).index)"
   ]
  },
  {
   "cell_type": "code",
   "execution_count": 9,
   "metadata": {
    "execution": {
     "iopub.execute_input": "2020-12-26T05:01:37.377539Z",
     "iopub.status.busy": "2020-12-26T05:01:37.376851Z",
     "iopub.status.idle": "2020-12-26T05:01:45.496946Z",
     "shell.execute_reply": "2020-12-26T05:01:45.496313Z"
    },
    "papermill": {
     "duration": 8.149198,
     "end_time": "2020-12-26T05:01:45.497072",
     "exception": false,
     "start_time": "2020-12-26T05:01:37.347874",
     "status": "completed"
    },
    "tags": []
   },
   "outputs": [],
   "source": [
    "#@jit\n",
    "#def count_by_bundle(T):\n",
    "#    ans = np.zeros(len(T))\n",
    "#    prev_time = -1\n",
    "#    for i in range(len(T)):\n",
    "#        if i == 0:\n",
    "#            ans[i] = 1\n",
    "#        elif prev_time == T[i]:\n",
    "#            ans[i] = ans[i-1]\n",
    "#        else:\n",
    "#            ans[i] = ans[i-1] + 1           \n",
    "#        prev_time = T[i]\n",
    "#    return ans\n",
    "\n",
    "#count_array = train_df.groupby(\"user_id\").apply(lambda x: count_by_bundle(x[\"timestamp\"].values))\n",
    "#count_array = np.hstack(count_array)\n",
    "#count_array = count_array[train_index]\n",
    "\n",
    "train_df[\"count\"] = 1\n",
    "\n",
    "count_array = train_df.groupby(\"user_id\")[\"count\"].cumsum().values\n",
    "count_array = count_array[train_index]\n",
    "train_df.drop(\"count\", axis=1, inplace=True)"
   ]
  },
  {
   "cell_type": "code",
   "execution_count": 10,
   "metadata": {
    "execution": {
     "iopub.execute_input": "2020-12-26T05:01:45.659667Z",
     "iopub.status.busy": "2020-12-26T05:01:45.654353Z",
     "iopub.status.idle": "2020-12-26T05:06:14.535274Z",
     "shell.execute_reply": "2020-12-26T05:06:14.535807Z"
    },
    "papermill": {
     "duration": 269.012783,
     "end_time": "2020-12-26T05:06:14.535998",
     "exception": false,
     "start_time": "2020-12-26T05:01:45.523215",
     "status": "completed"
    },
    "tags": []
   },
   "outputs": [],
   "source": [
    "@jit\n",
    "def timediff_by_bundle(T):\n",
    "    ans = np.zeros(len(T))\n",
    "    prev_time = 0\n",
    "    for i in range(len(T)): \n",
    "        if i == 0:\n",
    "            ans[i] = np.nan\n",
    "        elif prev_time == T[i]:\n",
    "            ans[i] = ans[i-1]\n",
    "        else:\n",
    "            ans[i] = T[i] - prev_time\n",
    "        prev_time = T[i]\n",
    "    return ans\n",
    "\n",
    "timediff_array = train_df.groupby(\"user_id\").apply(lambda x: timediff_by_bundle(x[\"timestamp\"].values))\n",
    "timediff_array = np.hstack(timediff_array)#.astype(\"int64\")\n",
    "timediff_array = timediff_array[train_index]\n",
    "\n",
    "@jit\n",
    "def timediff2_by_bundle(T):\n",
    "    ans = np.zeros(len(T))\n",
    "    prev_time = [-1, -1]\n",
    "    for i in range(len(T)): \n",
    "        if i == 0 or i == 1:\n",
    "            ans[i] = np.nan     \n",
    "        elif prev_time[1] == T[i]:\n",
    "            ans[i] = ans[i-1]\n",
    "        else:\n",
    "            ans[i] = T[i]-prev_time[0]\n",
    "            \n",
    "        if prev_time[0] == -1:\n",
    "            prev_time[0] = T[i]\n",
    "        elif prev_time[0] != T[i] and prev_time[1] == -1:\n",
    "            prev_time[1] = T[i]\n",
    "        elif T[i] not in prev_time:\n",
    "            prev_time[0] = prev_time[1]\n",
    "            prev_time[1] = T[i]\n",
    "    return ans\n",
    "\n",
    "timediff2_array = train_df.groupby(\"user_id\").apply(lambda x: timediff2_by_bundle(x[\"timestamp\"].values))\n",
    "timediff2_array = np.hstack(timediff2_array)#.astype(\"int64\")\n",
    "timediff2_array = timediff2_array[train_index]\n",
    "\n",
    "@jit\n",
    "def timediff3_by_bundle(T):\n",
    "    ans = np.zeros(len(T))\n",
    "    prev_time = [-1, -1, -1]\n",
    "    for i in range(len(T)): \n",
    "        if i == 0 or i == 1 or i ==2:\n",
    "            ans[i] = np.nan\n",
    "        elif prev_time[2] == T[i]:\n",
    "            ans[i] = ans[i-1]\n",
    "        else:\n",
    "            ans[i] = T[i]-prev_time[0]\n",
    "            \n",
    "        if prev_time[0] == -1:\n",
    "            prev_time[0] = T[i]\n",
    "        elif prev_time[0] != T[i] and prev_time[1] == -1:\n",
    "            prev_time[1] = T[i]\n",
    "        elif prev_time[1] != T[i] and prev_time[2] == -1:\n",
    "            prev_time[2] = T[i]\n",
    "        elif T[i] not in prev_time:\n",
    "            prev_time[0] = prev_time[1]\n",
    "            prev_time[1] = prev_time[2]\n",
    "            prev_time[2] = T[i]\n",
    "    return ans\n",
    "\n",
    "timediff3_array = train_df.groupby(\"user_id\").apply(lambda x: timediff3_by_bundle(x[\"timestamp\"].values))\n",
    "timediff3_array = np.hstack(timediff3_array)#.astype(\"int64\")\n",
    "timediff3_array = timediff3_array[train_index]\n",
    "\n",
    "@jit\n",
    "def timediff4_by_bundle(T):\n",
    "    ans = np.zeros(len(T))\n",
    "    prev_time = [-1, -1, -1, -1]\n",
    "    for i in range(len(T)): \n",
    "        if i == 0 or i == 1 or i ==2 or i == 3:\n",
    "            ans[i] = np.nan     \n",
    "        elif prev_time[3] == T[i]:\n",
    "            ans[i] = ans[i-1]\n",
    "        else:\n",
    "            ans[i] = T[i]- prev_time[0]\n",
    "            \n",
    "        if prev_time[0] == -1:\n",
    "            prev_time[0] = T[i]\n",
    "        elif prev_time[0] != T[i] and prev_time[1] == -1:\n",
    "            prev_time[1] = T[i]\n",
    "        elif prev_time[1] != T[i] and prev_time[2] == -1:\n",
    "            prev_time[2] = T[i]\n",
    "        elif prev_time[2] != T[i] and prev_time[3] == -1:\n",
    "            prev_time[3] = T[i]\n",
    "        elif T[i] not in prev_time:\n",
    "            prev_time[0] = prev_time[1]\n",
    "            prev_time[1] = prev_time[2]\n",
    "            prev_time[2] = prev_time[3]\n",
    "            prev_time[3] = T[i]\n",
    "    return ans\n",
    "\n",
    "timediff4_array = train_df.groupby(\"user_id\").apply(lambda x: timediff4_by_bundle(x[\"timestamp\"].values))\n",
    "timediff4_array = np.hstack(timediff4_array)#.astype(\"int64\")\n",
    "timediff4_array = timediff4_array[train_index]\n",
    "\n",
    "user_timestamp_max_dict = train_df.groupby(\"user_id\")[\"timestamp\"].apply(lambda x: x.drop_duplicates()[-4:].values).to_dict(defaultdict(partial(np.ndarray, 0, dtype=\"int64\")))\n",
    "\n",
    "time_dd_array = timediff2_array - timediff_array\n",
    "timediff_array = np.nan_to_num(timediff_array, nan=-1)\n",
    "timediff2_array = np.nan_to_num(timediff2_array, nan=-1)\n",
    "timediff3_array = np.nan_to_num(timediff3_array, nan=-1)\n",
    "timediff4_array = np.nan_to_num(timediff4_array, nan=-1)\n",
    "time_dd_array = np.nan_to_num(time_dd_array, nan=-1)"
   ]
  },
  {
   "cell_type": "code",
   "execution_count": 11,
   "metadata": {
    "execution": {
     "iopub.execute_input": "2020-12-26T05:06:14.591652Z",
     "iopub.status.busy": "2020-12-26T05:06:14.590966Z",
     "iopub.status.idle": "2020-12-26T05:06:18.095434Z",
     "shell.execute_reply": "2020-12-26T05:06:18.095985Z"
    },
    "papermill": {
     "duration": 3.533714,
     "end_time": "2020-12-26T05:06:18.096178",
     "exception": false,
     "start_time": "2020-12-26T05:06:14.562464",
     "status": "completed"
    },
    "tags": []
   },
   "outputs": [],
   "source": [
    "# prior_question_elapsed_time\n",
    "prior_question_elapsed_time_array = train_df.prior_question_elapsed_time.values\n",
    "train_df.drop(\"prior_question_elapsed_time\", axis =1, inplace=True)\n",
    "prior_question_elapsed_time_array = prior_question_elapsed_time_array[train_index]"
   ]
  },
  {
   "cell_type": "code",
   "execution_count": 12,
   "metadata": {
    "execution": {
     "iopub.execute_input": "2020-12-26T05:06:18.155067Z",
     "iopub.status.busy": "2020-12-26T05:06:18.154273Z",
     "iopub.status.idle": "2020-12-26T05:06:33.481484Z",
     "shell.execute_reply": "2020-12-26T05:06:33.481993Z"
    },
    "papermill": {
     "duration": 15.358486,
     "end_time": "2020-12-26T05:06:33.482173",
     "exception": false,
     "start_time": "2020-12-26T05:06:18.123687",
     "status": "completed"
    },
    "tags": []
   },
   "outputs": [],
   "source": [
    "questions_df = pd.read_csv(\n",
    "    '../input/riiid-test-answer-prediction/questions.csv', \n",
    "    usecols=[0, 1, 3], \n",
    "    dtype={'question_id': 'int16', 'bundle_id': 'int16', 'part': 'int8'} \n",
    ")\n",
    "\n",
    "additional_q_df = pd.read_csv('../input/riiid-question-clustering/question_cmnts.csv')\n",
    "questions_df[\"community\"] = additional_q_df[\"community\"].astype('int8')\n",
    "del additional_q_df \n",
    "    \n",
    "train_df = pd.merge(train_df, questions_df, left_on='content_id', right_on='question_id', how='left', right_index=True).reset_index(drop=True)\n",
    "train_df.drop(columns=['question_id'], inplace=True)"
   ]
  },
  {
   "cell_type": "code",
   "execution_count": 13,
   "metadata": {
    "execution": {
     "iopub.execute_input": "2020-12-26T05:06:33.573508Z",
     "iopub.status.busy": "2020-12-26T05:06:33.568337Z",
     "iopub.status.idle": "2020-12-26T05:06:33.578275Z",
     "shell.execute_reply": "2020-12-26T05:06:33.577694Z"
    },
    "papermill": {
     "duration": 0.069019,
     "end_time": "2020-12-26T05:06:33.578403",
     "exception": false,
     "start_time": "2020-12-26T05:06:33.509384",
     "status": "completed"
    },
    "tags": []
   },
   "outputs": [
    {
     "name": "stdout",
     "output_type": "stream",
     "text": [
      "76\n"
     ]
    }
   ],
   "source": [
    "###\n",
    "community_num = len(questions_df.community.unique())\n",
    "print(community_num)\n",
    "\n",
    "@jit\n",
    "def tag_accuracy(A, C):\n",
    "    ans = []\n",
    "    community_count = [0] * community_num\n",
    "    community_correct = [0] * community_num\n",
    "    for i in range(len(C)):\n",
    "        if community_count[C[i]]==0:\n",
    "            ans.append(-1)\n",
    "        else:\n",
    "            ans.append(community_correct[C[i]]/community_count[C[i]])\n",
    "        community_count[C[i]] +=1\n",
    "        community_correct[C[i]] += A[i]\n",
    "    return np.array(ans)\n",
    "\n",
    "@jit\n",
    "def tag_correct_last(A, C):\n",
    "    community_correct = [0] * community_num\n",
    "    for i in range(len(C)):\n",
    "        community_correct[C[i]] += A[i]\n",
    "    return np.array(community_correct)\n",
    "\n",
    "@jit\n",
    "def tag_count_last(A, C):\n",
    "    community_count = [0] * community_num\n",
    "    for i in range(len(C)):\n",
    "        community_count[C[i]] +=1\n",
    "    return np.array(community_count)\n",
    "\n",
    "def init_dict():\n",
    "    ans = [0] * community_num\n",
    "    return np.array(ans)"
   ]
  },
  {
   "cell_type": "code",
   "execution_count": 14,
   "metadata": {
    "execution": {
     "iopub.execute_input": "2020-12-26T05:06:33.647254Z",
     "iopub.status.busy": "2020-12-26T05:06:33.645699Z",
     "iopub.status.idle": "2020-12-26T05:08:38.761592Z",
     "shell.execute_reply": "2020-12-26T05:08:38.760577Z"
    },
    "papermill": {
     "duration": 125.156054,
     "end_time": "2020-12-26T05:08:38.761769",
     "exception": false,
     "start_time": "2020-12-26T05:06:33.605715",
     "status": "completed"
    },
    "tags": []
   },
   "outputs": [],
   "source": [
    "###\n",
    "tag_acc_array = train_df.groupby(\"user_id\").apply(lambda x: tag_accuracy(x[\"answered_correctly\"].values, x[\"community\"].values))\n",
    "tag_acc_array = np.hstack(tag_acc_array)\n",
    "tag_acc_array = tag_acc_array[train_index]\n",
    "\n",
    "user_community_count_dict = train_df.groupby(\"user_id\").apply(lambda x: tag_count_last(x[\"answered_correctly\"].values, x[\"community\"].values)).to_dict(defaultdict(init_dict))\n",
    "user_community_correct_dict = train_df.groupby(\"user_id\").apply(lambda x: tag_correct_last(x[\"answered_correctly\"].values, x[\"community\"].values)).to_dict(defaultdict(init_dict))\n",
    "    \n",
    "#\n",
    "community_agg = train_df.groupby('community')[target].agg(['count'])\n",
    "community_count_dict = community_agg['count'].astype('int32').to_dict(defaultdict(int))\n",
    "community_count_array = train_df['community'].map(community_agg['count']).astype('int32').values\n",
    "del community_agg\n",
    "community_count_array = community_count_array[train_index]\n",
    "    \n",
    "community_array = train_df[\"community\"].values\n",
    "community_array = community_array[train_index]\n",
    "train_df.drop('community', axis=1, inplace=True)"
   ]
  },
  {
   "cell_type": "code",
   "execution_count": 15,
   "metadata": {
    "execution": {
     "iopub.execute_input": "2020-12-26T05:08:38.842595Z",
     "iopub.status.busy": "2020-12-26T05:08:38.841711Z",
     "iopub.status.idle": "2020-12-26T05:09:19.543535Z",
     "shell.execute_reply": "2020-12-26T05:09:19.542955Z"
    },
    "papermill": {
     "duration": 40.753833,
     "end_time": "2020-12-26T05:09:19.543674",
     "exception": false,
     "start_time": "2020-12-26T05:08:38.789841",
     "status": "completed"
    },
    "tags": []
   },
   "outputs": [],
   "source": [
    "@jit\n",
    "def user_correctness_by_bundle(A, T):\n",
    "    ans = np.zeros(len(T))\n",
    "    count = np.zeros(len(T))\n",
    "    correct = np.zeros(len(T))\n",
    "    prev_time = 0\n",
    "    for i in range(len(T)): \n",
    "        if i == 0:\n",
    "            ans[i] = -1\n",
    "        elif prev_time == T[i]:\n",
    "            ans[i] = ans[i-1]\n",
    "        else:\n",
    "            if count[i-1] == 0:\n",
    "                ans[i] = -1\n",
    "            else:\n",
    "                ans[i] = correct[i-1] / count[i-1]\n",
    "        count[i] = count[i-1] + 1\n",
    "        correct[i] = correct[i-1] + A[i]\n",
    "        prev_time = T[i]\n",
    "    return ans\n",
    "\n",
    "user_correctness_array = train_df.groupby(\"user_id\").apply(lambda x: user_correctness_by_bundle(x[\"answered_correctly\"].values,\n",
    "                                                                                                x[\"timestamp\"].values))\n",
    "user_correctness_array = np.hstack(user_correctness_array)\n",
    "user_correctness_array = user_correctness_array[train_index]"
   ]
  },
  {
   "cell_type": "code",
   "execution_count": 16,
   "metadata": {
    "execution": {
     "iopub.execute_input": "2020-12-26T05:09:19.618442Z",
     "iopub.status.busy": "2020-12-26T05:09:19.616864Z",
     "iopub.status.idle": "2020-12-26T05:10:16.655289Z",
     "shell.execute_reply": "2020-12-26T05:10:16.655811Z"
    },
    "papermill": {
     "duration": 57.084199,
     "end_time": "2020-12-26T05:10:16.655990",
     "exception": false,
     "start_time": "2020-12-26T05:09:19.571791",
     "status": "completed"
    },
    "tags": []
   },
   "outputs": [],
   "source": [
    "###\n",
    "@jit\n",
    "def part_count_calc(P):\n",
    "    ans = []\n",
    "    part_count = [0] * 8\n",
    "    for i in range(len(P)):\n",
    "        part_count[P[i]] += 1\n",
    "        ans.append(part_count[P[i]])\n",
    "    return np.array(ans)\n",
    "\n",
    "@jit\n",
    "def part_count_dict_calc(P):\n",
    "    part_count = [0] * 8\n",
    "    for i in range(len(P)):\n",
    "        part_count[P[i]] += 1\n",
    "    return np.array(part_count)\n",
    "\n",
    "def part_dict_init():\n",
    "    ans = [0] * 8\n",
    "    return np.array(ans)\n",
    "\n",
    "part_count_array = train_df.groupby(\"user_id\").apply(lambda x: part_count_calc(x[\"part\"].values))\n",
    "part_count_array = np.hstack(part_count_array)\n",
    "part_count_array = part_count_array[train_index]\n",
    "part_ratio_array = part_count_array / count_array\n",
    "\n",
    "user_part_count_dict = train_df.groupby(\"user_id\").apply(lambda x: part_count_dict_calc(x[\"part\"].values)).to_dict(defaultdict(part_dict_init))\n",
    "\n",
    "part_array = train_df.part.values\n",
    "train_df.drop(\"part\", axis=1, inplace=True)\n",
    "part_array = part_array[train_index]"
   ]
  },
  {
   "cell_type": "code",
   "execution_count": 17,
   "metadata": {
    "execution": {
     "iopub.execute_input": "2020-12-26T05:10:16.723837Z",
     "iopub.status.busy": "2020-12-26T05:10:16.723005Z",
     "iopub.status.idle": "2020-12-26T05:10:43.878965Z",
     "shell.execute_reply": "2020-12-26T05:10:43.879751Z"
    },
    "papermill": {
     "duration": 27.195866,
     "end_time": "2020-12-26T05:10:43.879916",
     "exception": false,
     "start_time": "2020-12-26T05:10:16.684050",
     "status": "completed"
    },
    "tags": []
   },
   "outputs": [],
   "source": [
    "###\n",
    "# user-wise prior_question_had_explanation_mean\n",
    "train_df['lag'] = train_df.groupby('user_id')['prior_question_had_explanation'].shift().astype(bool)\n",
    "cum = train_df.groupby('user_id')['lag'].agg(['cumsum', 'cumcount'])\n",
    "prior_question_had_explanation_mean_array = np.array(cum['cumsum'] / cum['cumcount'])\n",
    "prior_question_had_explanation_mean_array = prior_question_had_explanation_mean_array[train_index]\n",
    "\n",
    "user_prior_question_had_explanation_sum_agg = train_df.groupby('user_id')[\"prior_question_had_explanation\"].agg(['sum'])\n",
    "user_prior_question_had_explanation_sum_dict = user_prior_question_had_explanation_sum_agg['sum'].astype('int32').to_dict(defaultdict(int))\n",
    "train_df.drop(columns=['lag'], inplace=True)\n",
    "del cum, user_prior_question_had_explanation_sum_agg\n",
    "\n",
    "prior_question_had_explanation_array = train_df.prior_question_had_explanation.values\n",
    "train_df.drop('prior_question_had_explanation', axis=1, inplace=True)\n",
    "prior_question_had_explanation_array = prior_question_had_explanation_array[train_index]"
   ]
  },
  {
   "cell_type": "code",
   "execution_count": 18,
   "metadata": {
    "execution": {
     "iopub.execute_input": "2020-12-26T05:10:43.938987Z",
     "iopub.status.busy": "2020-12-26T05:10:43.938300Z",
     "iopub.status.idle": "2020-12-26T05:11:32.399758Z",
     "shell.execute_reply": "2020-12-26T05:11:32.400359Z"
    },
    "papermill": {
     "duration": 48.492718,
     "end_time": "2020-12-26T05:11:32.400512",
     "exception": false,
     "start_time": "2020-12-26T05:10:43.907794",
     "status": "completed"
    },
    "tags": []
   },
   "outputs": [
    {
     "name": "stdout",
     "output_type": "stream",
     "text": [
      "Flushing output cache (0 entries)\n",
      "Flushing input history\n"
     ]
    }
   ],
   "source": [
    "first_attempt_df = pd.read_csv(\"../input/riiid-additional-data/content_first_attempt.csv\")\n",
    "first_attempt_array = first_attempt_df.first_attempt.values\n",
    "train_df[\"first_attempt\"] = first_attempt_array\n",
    "\n",
    "unique_attempt_array= train_df.groupby(\"user_id\")[\"first_attempt\"].cumsum().values\n",
    "train_df[\"unique_attempt\"] = unique_attempt_array\n",
    "user_unique_agg = train_df.groupby('user_id')[\"unique_attempt\"].agg(['max'])\n",
    "user_unique_dict = user_unique_agg['max'].astype('int32').to_dict(defaultdict(int))\n",
    "\n",
    "first_attempt_array = first_attempt_array[train_index]\n",
    "unique_attempt_array = unique_attempt_array[train_index]\n",
    "train_df.drop(['first_attempt', 'unique_attempt'], axis=1, inplace=True)\n",
    "del first_attempt_df, user_unique_agg\n",
    "\n",
    "clear_mem()"
   ]
  },
  {
   "cell_type": "code",
   "execution_count": 19,
   "metadata": {
    "execution": {
     "iopub.execute_input": "2020-12-26T05:11:32.469584Z",
     "iopub.status.busy": "2020-12-26T05:11:32.468475Z",
     "iopub.status.idle": "2020-12-26T05:11:44.685140Z",
     "shell.execute_reply": "2020-12-26T05:11:44.684444Z"
    },
    "papermill": {
     "duration": 12.256495,
     "end_time": "2020-12-26T05:11:44.685271",
     "exception": false,
     "start_time": "2020-12-26T05:11:32.428776",
     "status": "completed"
    },
    "tags": []
   },
   "outputs": [
    {
     "name": "stdout",
     "output_type": "stream",
     "text": [
      "Flushing output cache (0 entries)\n",
      "Flushing input history\n",
      "Flushing output cache (0 entries)\n",
      "Flushing input history\n"
     ]
    }
   ],
   "source": [
    "user_agg = train_df.groupby('user_id')[target].agg(['sum', 'count'])\n",
    "user_sum_dict = user_agg['sum'].astype('int16').to_dict(defaultdict(int))\n",
    "del user_agg['sum']\n",
    "user_count_dict = user_agg['count'].astype('int16').to_dict(defaultdict(int))\n",
    "del user_agg['count']\n",
    "clear_mem()\n",
    "\n",
    "#\n",
    "content_agg = train_df.groupby('content_id')[target].agg(['sum', 'count'])\n",
    "content_sum_dict = content_agg['sum'].astype('int32').to_dict(defaultdict(int))\n",
    "content_count_dict = content_agg['count'].astype('int32').to_dict(defaultdict(int))\n",
    "\n",
    "content_count_array = train_df['content_id'].map(content_agg['count']).astype('int32').values\n",
    "content_id_array = train_df['content_id'].map(content_agg['sum'] / content_agg['count']).values\n",
    "del content_agg\n",
    "clear_mem()"
   ]
  },
  {
   "cell_type": "code",
   "execution_count": 20,
   "metadata": {
    "execution": {
     "iopub.execute_input": "2020-12-26T05:11:44.751252Z",
     "iopub.status.busy": "2020-12-26T05:11:44.750452Z",
     "iopub.status.idle": "2020-12-26T05:12:01.488610Z",
     "shell.execute_reply": "2020-12-26T05:12:01.489236Z"
    },
    "papermill": {
     "duration": 16.774812,
     "end_time": "2020-12-26T05:12:01.489498",
     "exception": false,
     "start_time": "2020-12-26T05:11:44.714686",
     "status": "completed"
    },
    "tags": []
   },
   "outputs": [],
   "source": [
    "# #####\n",
    "# benefit of solving difficult questions\n",
    "#point_array = 1 / (content_id_array + 0.1)\n",
    "with open('../input/riiid-premade-data/got_point_array.pickle','rb') as f:\n",
    "    got_point_array = pickle.load(f)\n",
    "got_point_array = got_point_array[train_index]\n",
    "    \n",
    "with open('../input/riiid-premade-data/user_point_sum_dict.pickle','rb') as f:\n",
    "    user_point_sum_dict = pickle.load(f)\n",
    "\n",
    "content_id_array = content_id_array[train_index]\n",
    "content_count_array = content_count_array[train_index]"
   ]
  },
  {
   "cell_type": "code",
   "execution_count": 21,
   "metadata": {
    "execution": {
     "iopub.execute_input": "2020-12-26T05:12:01.994950Z",
     "iopub.status.busy": "2020-12-26T05:12:01.994233Z",
     "iopub.status.idle": "2020-12-26T05:12:19.163383Z",
     "shell.execute_reply": "2020-12-26T05:12:19.162387Z"
    },
    "papermill": {
     "duration": 17.642992,
     "end_time": "2020-12-26T05:12:19.163517",
     "exception": false,
     "start_time": "2020-12-26T05:12:01.520525",
     "status": "completed"
    },
    "tags": []
   },
   "outputs": [],
   "source": [
    "train_df.drop([\"content_id\"], axis=1, inplace=True)\n",
    "\n",
    "with open('../input/riiid-premade-data/user_content_dict.pickle','rb') as f:\n",
    "    user_content_dict = pickle.load(f)"
   ]
  },
  {
   "cell_type": "code",
   "execution_count": 22,
   "metadata": {
    "execution": {
     "iopub.execute_input": "2020-12-26T05:12:19.292072Z",
     "iopub.status.busy": "2020-12-26T05:12:19.257559Z",
     "iopub.status.idle": "2020-12-26T05:12:31.141617Z",
     "shell.execute_reply": "2020-12-26T05:12:31.139940Z"
    },
    "papermill": {
     "duration": 11.947873,
     "end_time": "2020-12-26T05:12:31.141755",
     "exception": false,
     "start_time": "2020-12-26T05:12:19.193882",
     "status": "completed"
    },
    "tags": []
   },
   "outputs": [],
   "source": [
    "####\n",
    "with open('../input/riiid-premade-data/answered_correctly_last7_array.pickle','rb') as f:\n",
    "    answered_correctly_last7_array = pickle.load(f)\n",
    "answered_correctly_last7_array = answered_correctly_last7_array[train_index]\n",
    "    \n",
    "with open('../input/riiid-premade-data/user_last7_answer_dict.pickle','rb') as f:\n",
    "    user_last7_answer_dict = pickle.load(f)"
   ]
  },
  {
   "cell_type": "code",
   "execution_count": 23,
   "metadata": {
    "execution": {
     "iopub.execute_input": "2020-12-26T05:12:31.225482Z",
     "iopub.status.busy": "2020-12-26T05:12:31.224769Z",
     "iopub.status.idle": "2020-12-26T05:14:35.458421Z",
     "shell.execute_reply": "2020-12-26T05:14:35.457468Z"
    },
    "papermill": {
     "duration": 124.286174,
     "end_time": "2020-12-26T05:14:35.458554",
     "exception": false,
     "start_time": "2020-12-26T05:12:31.172380",
     "status": "completed"
    },
    "tags": []
   },
   "outputs": [],
   "source": [
    "@jit\n",
    "def continuous_correct_by_bundle(A, T):\n",
    "    ans = np.zeros(len(T))\n",
    "    count = 0\n",
    "    prev_time = -1\n",
    "    for i in range(len(T)): \n",
    "        if prev_time != T[i]:\n",
    "            ans[i] = count\n",
    "        else:    \n",
    "            ans[i] = ans[i-1]\n",
    "        if A[i] ==1:\n",
    "            count += 1\n",
    "        else:\n",
    "            count = 0\n",
    "        prev_time = T[i]\n",
    "    return ans\n",
    "\n",
    "continuous_correct_array = train_df.groupby(\"user_id\").apply(lambda x: continuous_correct_by_bundle(x[\"answered_correctly\"].values,\n",
    "                                                                                              x[\"timestamp\"].values))\n",
    "continuous_correct_array = np.hstack(continuous_correct_array)\n",
    "continuous_correct_array = continuous_correct_array[train_index]\n",
    "\n",
    "@jit\n",
    "def continuous_incorrect_by_bundle(A, T):\n",
    "    ans = np.zeros(len(T))\n",
    "    count = 0\n",
    "    prev_time = -1\n",
    "    for i in range(len(T)): \n",
    "        if prev_time != T[i]:\n",
    "            ans[i] = count\n",
    "        else:    \n",
    "            ans[i] = ans[i-1]\n",
    "        if A[i] ==0:\n",
    "            count += 1\n",
    "        else:\n",
    "            count = 0\n",
    "        prev_time = T[i]\n",
    "    return ans\n",
    "continuous_incorrect_array = train_df.groupby(\"user_id\").apply(lambda x: continuous_incorrect_by_bundle(x[\"answered_correctly\"].values,\n",
    "                                                                                        x[\"timestamp\"].values))\n",
    "continuous_incorrect_array = np.hstack(continuous_incorrect_array)\n",
    "continuous_incorrect_array = continuous_incorrect_array[train_index]\n",
    "\n",
    "@jit\n",
    "def continuous_correct_dict_calc(A):\n",
    "    count = 0\n",
    "    for i in range(len(A)): \n",
    "        if A[i] ==1:\n",
    "            count += 1\n",
    "        else:\n",
    "            count = 0\n",
    "    return count\n",
    "\n",
    "@jit\n",
    "def continuous_incorrect_dict_calc(A):\n",
    "    count = 0\n",
    "    for i in range(len(A)): \n",
    "        if A[i] ==0:\n",
    "            count += 1\n",
    "        else:\n",
    "            count = 0\n",
    "    return count\n",
    "\n",
    "continuous_incorrect_dict = train_df.groupby(\"user_id\").apply(lambda x: continuous_incorrect_dict_calc(x[\"answered_correctly\"].values)).to_dict(defaultdict(int))\n",
    "continuous_correct_dict = train_df.groupby(\"user_id\").apply(lambda x: continuous_correct_dict_calc(x[\"answered_correctly\"].values)).to_dict(defaultdict(int))"
   ]
  },
  {
   "cell_type": "code",
   "execution_count": 24,
   "metadata": {
    "execution": {
     "iopub.execute_input": "2020-12-26T05:14:38.458109Z",
     "iopub.status.busy": "2020-12-26T05:14:36.521643Z",
     "iopub.status.idle": "2020-12-26T05:14:38.482336Z",
     "shell.execute_reply": "2020-12-26T05:14:38.481601Z"
    },
    "papermill": {
     "duration": 2.993379,
     "end_time": "2020-12-26T05:14:38.482472",
     "exception": false,
     "start_time": "2020-12-26T05:14:35.489093",
     "status": "completed"
    },
    "tags": []
   },
   "outputs": [],
   "source": [
    "answered_correctly_array = train_df[target].values\n",
    "train_df.drop(target, axis=1, inplace=True)\n",
    "answered_correctly_array = answered_correctly_array[train_index]"
   ]
  },
  {
   "cell_type": "markdown",
   "metadata": {
    "papermill": {
     "duration": 0.030562,
     "end_time": "2020-12-26T05:14:38.543568",
     "exception": false,
     "start_time": "2020-12-26T05:14:38.513006",
     "status": "completed"
    },
    "tags": []
   },
   "source": [
    "# data formation"
   ]
  },
  {
   "cell_type": "code",
   "execution_count": 25,
   "metadata": {
    "execution": {
     "iopub.execute_input": "2020-12-26T05:14:38.617828Z",
     "iopub.status.busy": "2020-12-26T05:14:38.617034Z",
     "iopub.status.idle": "2020-12-26T05:14:52.133865Z",
     "shell.execute_reply": "2020-12-26T05:14:52.134422Z"
    },
    "papermill": {
     "duration": 13.560141,
     "end_time": "2020-12-26T05:14:52.134594",
     "exception": false,
     "start_time": "2020-12-26T05:14:38.574453",
     "status": "completed"
    },
    "tags": []
   },
   "outputs": [],
   "source": [
    "if not FULL_TRAIN:\n",
    "    train_df = train_df[train_df.index.isin(train_index)].reset_index(drop=True)\n",
    "    if CV_SCHEME == \"original\":\n",
    "        valid_index = list(train_df.groupby('user_id').tail(valid_size).index)\n",
    "    else:\n",
    "        valid_index = list(train_df['viretual_time_stamp'].nlargest(2500000).index)\n",
    "    train_index = list(train_df[~train_df.index.isin(valid_index)].index)\n",
    "del train_df"
   ]
  },
  {
   "cell_type": "code",
   "execution_count": 26,
   "metadata": {
    "execution": {
     "iopub.execute_input": "2020-12-26T05:14:52.198285Z",
     "iopub.status.busy": "2020-12-26T05:14:52.197574Z",
     "iopub.status.idle": "2020-12-26T05:14:52.208894Z",
     "shell.execute_reply": "2020-12-26T05:14:52.209559Z"
    },
    "papermill": {
     "duration": 0.045058,
     "end_time": "2020-12-26T05:14:52.209710",
     "exception": false,
     "start_time": "2020-12-26T05:14:52.164652",
     "status": "completed"
    },
    "tags": []
   },
   "outputs": [
    {
     "name": "stdout",
     "output_type": "stream",
     "text": [
      "24\n"
     ]
    }
   ],
   "source": [
    "features_dict = {\n",
    "    'content_id': content_id_array,\n",
    "    'prior_question_elapsed_time': prior_question_elapsed_time_array,\n",
    "    'prior_question_had_explanation':  prior_question_had_explanation_array,\n",
    "    'user_correctness': user_correctness_array,\n",
    "    'part': part_array,\n",
    "    'content_count': content_count_array,\n",
    "    'count': count_array,\n",
    "    'first_attempt': first_attempt_array,\n",
    "    'unique_attempt': unique_attempt_array,\n",
    "    'part_count': part_count_array,\n",
    "    'part_ratio': part_ratio_array,\n",
    "    'prior_question_had_explanation_mean': prior_question_had_explanation_mean_array,\n",
    "    'got_point': got_point_array,\n",
    "    'answered_correctly_last7': answered_correctly_last7_array,   \n",
    "    'timediff': timediff_array,\n",
    "    'timediff2': timediff2_array,\n",
    "    'timediff3': timediff3_array,\n",
    "    'timediff4': timediff4_array,\n",
    "    'community': community_array,\n",
    "    'tag_acc': tag_acc_array,\n",
    "    'community_count': community_count_array,\n",
    "    'time_dd': time_dd_array,\n",
    "    'continuous_correct': continuous_correct_array,\n",
    "    'continuous_incorrect': continuous_incorrect_array\n",
    "}\n",
    "\n",
    "features = list(features_dict.keys())\n",
    "print(len(features))\n",
    "\n",
    "del content_id_array, prior_question_elapsed_time_array, prior_question_had_explanation_array,\n",
    "del user_correctness_array, part_array,\n",
    "del content_count_array, count_array, first_attempt_array, unique_attempt_array,\n",
    "del part_ratio_array, part_count_array,\n",
    "del prior_question_had_explanation_mean_array, got_point_array, \n",
    "del answered_correctly_last7_array, timediff_array, timediff2_array, timediff3_array, timediff4_array,\n",
    "del community_array,\n",
    "del tag_acc_array, community_count_array, time_dd_array"
   ]
  },
  {
   "cell_type": "code",
   "execution_count": 27,
   "metadata": {
    "execution": {
     "iopub.execute_input": "2020-12-26T05:14:52.277982Z",
     "iopub.status.busy": "2020-12-26T05:14:52.277311Z",
     "iopub.status.idle": "2020-12-26T05:14:52.280443Z",
     "shell.execute_reply": "2020-12-26T05:14:52.280964Z"
    },
    "papermill": {
     "duration": 0.040871,
     "end_time": "2020-12-26T05:14:52.281107",
     "exception": false,
     "start_time": "2020-12-26T05:14:52.240236",
     "status": "completed"
    },
    "tags": []
   },
   "outputs": [
    {
     "name": "stdout",
     "output_type": "stream",
     "text": [
      "(6536675, 25) (2360984, 25)\n"
     ]
    }
   ],
   "source": [
    "if FULL_TRAIN:\n",
    "    print(len(train_index), len(features)+1)\n",
    "else:\n",
    "    print((len(train_index), len(features)+1), (len(valid_index), len(features)+1))"
   ]
  },
  {
   "cell_type": "markdown",
   "metadata": {
    "papermill": {
     "duration": 0.030403,
     "end_time": "2020-12-26T05:14:52.342738",
     "exception": false,
     "start_time": "2020-12-26T05:14:52.312335",
     "status": "completed"
    },
    "tags": []
   },
   "source": [
    "# Train"
   ]
  },
  {
   "cell_type": "code",
   "execution_count": 28,
   "metadata": {
    "execution": {
     "iopub.execute_input": "2020-12-26T05:14:52.408932Z",
     "iopub.status.busy": "2020-12-26T05:14:52.407910Z",
     "iopub.status.idle": "2020-12-26T05:14:52.413158Z",
     "shell.execute_reply": "2020-12-26T05:14:52.413696Z"
    },
    "papermill": {
     "duration": 0.039967,
     "end_time": "2020-12-26T05:14:52.413852",
     "exception": false,
     "start_time": "2020-12-26T05:14:52.373885",
     "status": "completed"
    },
    "tags": []
   },
   "outputs": [],
   "source": [
    "params = {\n",
    "    'objective': 'binary',\n",
    "    'seed': 42,\n",
    "    'metric': 'auc',\n",
    "    'learning_rate': 0.05,\n",
    "    'max_bin': 800,\n",
    "    'num_leaves': 80\n",
    "}"
   ]
  },
  {
   "cell_type": "code",
   "execution_count": 29,
   "metadata": {
    "execution": {
     "iopub.execute_input": "2020-12-26T05:14:52.481773Z",
     "iopub.status.busy": "2020-12-26T05:14:52.480695Z",
     "iopub.status.idle": "2020-12-26T05:15:43.267534Z",
     "shell.execute_reply": "2020-12-26T05:15:43.266773Z"
    },
    "papermill": {
     "duration": 50.821885,
     "end_time": "2020-12-26T05:15:43.267677",
     "exception": false,
     "start_time": "2020-12-26T05:14:52.445792",
     "status": "completed"
    },
    "tags": []
   },
   "outputs": [],
   "source": [
    "if FULL_TRAIN:\n",
    "    X_train = np.ndarray(shape=(len(train_index), len(features)), dtype=np.float32)\n",
    "\n",
    "    for idx, feature in enumerate(features):\n",
    "        X_train[:,idx] = features_dict[feature].astype(np.float32).reshape(-1)\n",
    "        del features_dict[feature]\n",
    "    y_train = answered_correctly_array.astype(np.float32)\n",
    "    tr_data = lgb.Dataset(X_train, label=y_train)\n",
    "else:\n",
    "    X_train = np.ndarray(shape=(len(train_index), len(features)), dtype=np.float32)\n",
    "    X_valid = np.ndarray(shape=(len(valid_index), len(features)), dtype=np.float32)\n",
    "\n",
    "    for idx, feature in enumerate(features):\n",
    "        X_train[:,idx] = features_dict[feature][train_index].astype(np.float32).reshape(-1)\n",
    "        X_valid[:,idx] = features_dict[feature][valid_index].astype(np.float32).reshape(-1)\n",
    "        del features_dict[feature]\n",
    "    y_train = answered_correctly_array[train_index].astype(np.float32)\n",
    "    y_valid = answered_correctly_array[valid_index].astype(np.float32)\n",
    "\n",
    "    tr_data = lgb.Dataset(X_train, label=y_train)\n",
    "    va_data = lgb.Dataset(X_valid, label=y_valid)"
   ]
  },
  {
   "cell_type": "code",
   "execution_count": 30,
   "metadata": {
    "execution": {
     "iopub.execute_input": "2020-12-26T05:15:43.339688Z",
     "iopub.status.busy": "2020-12-26T05:15:43.338641Z",
     "iopub.status.idle": "2020-12-26T06:27:40.173652Z",
     "shell.execute_reply": "2020-12-26T06:27:40.174571Z"
    },
    "papermill": {
     "duration": 4316.875452,
     "end_time": "2020-12-26T06:27:40.174803",
     "exception": false,
     "start_time": "2020-12-26T05:15:43.299351",
     "status": "completed"
    },
    "tags": []
   },
   "outputs": [
    {
     "name": "stdout",
     "output_type": "stream",
     "text": [
      "training starts\n",
      "Training until validation scores don't improve for 20 rounds\n",
      "[50]\ttraining's auc: 0.765749\tvalid_1's auc: 0.752286\n",
      "[100]\ttraining's auc: 0.77033\tvalid_1's auc: 0.757668\n",
      "[150]\ttraining's auc: 0.772615\tvalid_1's auc: 0.76009\n",
      "[200]\ttraining's auc: 0.77394\tvalid_1's auc: 0.761298\n",
      "[250]\ttraining's auc: 0.774867\tvalid_1's auc: 0.762054\n",
      "[300]\ttraining's auc: 0.775517\tvalid_1's auc: 0.762476\n",
      "[350]\ttraining's auc: 0.776096\tvalid_1's auc: 0.76282\n",
      "[400]\ttraining's auc: 0.776592\tvalid_1's auc: 0.763071\n",
      "[450]\ttraining's auc: 0.77702\tvalid_1's auc: 0.763243\n",
      "[500]\ttraining's auc: 0.777482\tvalid_1's auc: 0.763452\n",
      "[550]\ttraining's auc: 0.777862\tvalid_1's auc: 0.763614\n",
      "[600]\ttraining's auc: 0.778292\tvalid_1's auc: 0.763861\n",
      "[650]\ttraining's auc: 0.778733\tvalid_1's auc: 0.764085\n",
      "[700]\ttraining's auc: 0.779127\tvalid_1's auc: 0.76425\n",
      "[750]\ttraining's auc: 0.779499\tvalid_1's auc: 0.764376\n",
      "[800]\ttraining's auc: 0.779844\tvalid_1's auc: 0.764504\n",
      "[850]\ttraining's auc: 0.78022\tvalid_1's auc: 0.764658\n",
      "[900]\ttraining's auc: 0.780538\tvalid_1's auc: 0.764745\n",
      "[950]\ttraining's auc: 0.780851\tvalid_1's auc: 0.764826\n",
      "[1000]\ttraining's auc: 0.781186\tvalid_1's auc: 0.764938\n",
      "[1050]\ttraining's auc: 0.7815\tvalid_1's auc: 0.765029\n",
      "[1100]\ttraining's auc: 0.781813\tvalid_1's auc: 0.765108\n",
      "[1150]\ttraining's auc: 0.782114\tvalid_1's auc: 0.765178\n",
      "[1200]\ttraining's auc: 0.78242\tvalid_1's auc: 0.765235\n",
      "[1250]\ttraining's auc: 0.782724\tvalid_1's auc: 0.765312\n",
      "[1300]\ttraining's auc: 0.783041\tvalid_1's auc: 0.765395\n",
      "[1350]\ttraining's auc: 0.783323\tvalid_1's auc: 0.765444\n",
      "[1400]\ttraining's auc: 0.783589\tvalid_1's auc: 0.765492\n",
      "[1450]\ttraining's auc: 0.783876\tvalid_1's auc: 0.765554\n",
      "[1500]\ttraining's auc: 0.784164\tvalid_1's auc: 0.765602\n",
      "[1550]\ttraining's auc: 0.784454\tvalid_1's auc: 0.765664\n",
      "[1600]\ttraining's auc: 0.784731\tvalid_1's auc: 0.765717\n",
      "[1650]\ttraining's auc: 0.784991\tvalid_1's auc: 0.76575\n",
      "[1700]\ttraining's auc: 0.785261\tvalid_1's auc: 0.765782\n",
      "[1750]\ttraining's auc: 0.785506\tvalid_1's auc: 0.765803\n",
      "[1800]\ttraining's auc: 0.785753\tvalid_1's auc: 0.765829\n",
      "[1850]\ttraining's auc: 0.786003\tvalid_1's auc: 0.765868\n",
      "[1900]\ttraining's auc: 0.786248\tvalid_1's auc: 0.765894\n",
      "[1950]\ttraining's auc: 0.786496\tvalid_1's auc: 0.765912\n",
      "[2000]\ttraining's auc: 0.786742\tvalid_1's auc: 0.765941\n",
      "[2050]\ttraining's auc: 0.787001\tvalid_1's auc: 0.765974\n",
      "[2100]\ttraining's auc: 0.78724\tvalid_1's auc: 0.765997\n",
      "[2150]\ttraining's auc: 0.787482\tvalid_1's auc: 0.766024\n",
      "[2200]\ttraining's auc: 0.787728\tvalid_1's auc: 0.766049\n",
      "[2250]\ttraining's auc: 0.787964\tvalid_1's auc: 0.766068\n",
      "[2300]\ttraining's auc: 0.788208\tvalid_1's auc: 0.766086\n",
      "[2350]\ttraining's auc: 0.788434\tvalid_1's auc: 0.766107\n",
      "[2400]\ttraining's auc: 0.788674\tvalid_1's auc: 0.766128\n",
      "[2450]\ttraining's auc: 0.788889\tvalid_1's auc: 0.766146\n",
      "[2500]\ttraining's auc: 0.789141\tvalid_1's auc: 0.766167\n",
      "Did not meet early stopping. Best iteration is:\n",
      "[2500]\ttraining's auc: 0.789141\tvalid_1's auc: 0.766167\n"
     ]
    }
   ],
   "source": [
    "print(\"training starts\")\n",
    "if FULL_TRAIN:\n",
    "    model = lgb.train(\n",
    "        params, \n",
    "        tr_data, \n",
    "        num_boost_round=3000,\n",
    "        valid_sets=None, \n",
    "        )\n",
    "    del X_train, y_train\n",
    "else:\n",
    "    model = lgb.train(\n",
    "        params, \n",
    "        tr_data, \n",
    "        num_boost_round= 2500,\n",
    "        valid_sets=[tr_data, va_data], \n",
    "        early_stopping_rounds=20,\n",
    "        verbose_eval=50\n",
    "        )\n",
    "    del X_train, y_train, X_valid, y_valid"
   ]
  },
  {
   "cell_type": "markdown",
   "metadata": {
    "papermill": {
     "duration": 0.062094,
     "end_time": "2020-12-26T06:27:40.300518",
     "exception": false,
     "start_time": "2020-12-26T06:27:40.238424",
     "status": "completed"
    },
    "tags": []
   },
   "source": [
    "# Inference"
   ]
  },
  {
   "cell_type": "code",
   "execution_count": 31,
   "metadata": {
    "execution": {
     "iopub.execute_input": "2020-12-26T06:27:40.413059Z",
     "iopub.status.busy": "2020-12-26T06:27:40.412273Z",
     "iopub.status.idle": "2020-12-26T06:27:40.415831Z",
     "shell.execute_reply": "2020-12-26T06:27:40.415301Z"
    },
    "papermill": {
     "duration": 0.063691,
     "end_time": "2020-12-26T06:27:40.415965",
     "exception": false,
     "start_time": "2020-12-26T06:27:40.352274",
     "status": "completed"
    },
    "tags": []
   },
   "outputs": [],
   "source": [
    "env = riiideducation.make_env()\n",
    "iter_test = env.iter_test()\n",
    "prior_test_df = None"
   ]
  },
  {
   "cell_type": "code",
   "execution_count": 32,
   "metadata": {
    "execution": {
     "iopub.execute_input": "2020-12-26T06:27:40.568384Z",
     "iopub.status.busy": "2020-12-26T06:27:40.548944Z",
     "iopub.status.idle": "2020-12-26T06:27:41.556423Z",
     "shell.execute_reply": "2020-12-26T06:27:41.556926Z"
    },
    "papermill": {
     "duration": 1.092316,
     "end_time": "2020-12-26T06:27:41.557103",
     "exception": false,
     "start_time": "2020-12-26T06:27:40.464787",
     "status": "completed"
    },
    "tags": []
   },
   "outputs": [
    {
     "name": "stdout",
     "output_type": "stream",
     "text": [
      "CPU times: user 1.58 s, sys: 117 ms, total: 1.7 s\n",
      "Wall time: 989 ms\n"
     ]
    }
   ],
   "source": [
    "%%time\n",
    "for (test_df, sample_prediction_df) in iter_test:\n",
    "    if prior_test_df is not None:\n",
    "        prior_test_df[target] = eval(test_df['prior_group_answers_correct'].iloc[0])\n",
    "        prior_test_df = prior_test_df[prior_test_df[target] != -1].reset_index(drop=True)\n",
    "        \n",
    "        user_ids = prior_test_df['user_id'].values\n",
    "        content_ids = prior_test_df['content_id'].values\n",
    "        targets = prior_test_df[target].values\n",
    "        timestamps = prior_test_df['timestamp'].values\n",
    "                 \n",
    "        for user_id, content_id, answered_correctly, first_attempt_ornot, prior_explanation, prior_point, prior_community, prior_timestamp in zip(user_ids, \n",
    "                                                            content_ids, \n",
    "                                                            targets, \n",
    "                                                            prior_f_attempt_arrays,\n",
    "                                                            p_prior_question_had_explanation,\n",
    "                                                            prior_point_array,\n",
    "                                                            prior_community_arrays,\n",
    "                                                            timestamps):\n",
    "            \n",
    "            user_sum_dict[user_id] += answered_correctly\n",
    "            user_count_dict[user_id] += 1\n",
    "            content_sum_dict[content_id] += answered_correctly\n",
    "            content_count_dict[content_id] += 1\n",
    "            user_unique_dict[user_id] += first_attempt_ornot\n",
    "            user_prior_question_had_explanation_sum_dict[user_id] += prior_explanation\n",
    "            user_point_sum_dict[user_id] += prior_point * answered_correctly\n",
    "            if len(user_last7_answer_dict[user_id])==7:\n",
    "                user_last7_answer_dict[user_id] = np.concatenate([user_last7_answer_dict[user_id],[answered_correctly]])[1:]\n",
    "            else:\n",
    "                user_last7_answer_dict[user_id] = np.concatenate([user_last7_answer_dict[user_id],[answered_correctly]])\n",
    "            \n",
    "            user_community_correct_dict[user_id][prior_community] += answered_correctly\n",
    "            user_community_count_dict[user_id][prior_community] += 1\n",
    "            community_count_dict[prior_community] += 1   \n",
    "            \n",
    "            if np.sum(user_timestamp_max_dict[user_id] == prior_timestamp) == 0:\n",
    "                if len(user_timestamp_max_dict[user_id]) <= 3: \n",
    "                    user_timestamp_max_dict[user_id] = np.concatenate([user_timestamp_max_dict[user_id],[prior_timestamp]])\n",
    "                else:\n",
    "                    user_timestamp_max_dict[user_id] = np.concatenate([user_timestamp_max_dict[user_id],[prior_timestamp]])[1:]  \n",
    "            if answered_correctly == 1:\n",
    "                continuous_correct_dict[user_id] += 1\n",
    "                continuous_incorrect_dict[user_id] = 0\n",
    "            else:\n",
    "                continuous_correct_dict[user_id] = 0\n",
    "                continuous_incorrect_dict[user_id] += 1\n",
    "                    \n",
    "    prior_test_df = test_df.copy()\n",
    "           \n",
    "    test_df = test_df[test_df['content_type_id'] == 0].reset_index(drop=True)\n",
    "    test_df = pd.merge(test_df, questions_df, left_on='content_id', right_on='question_id', how='left', right_index=True).reset_index(drop=True)\n",
    "    test_df['prior_question_had_explanation'] = test_df['prior_question_had_explanation'].fillna(False).astype('int8')\n",
    "    test_df['prior_question_elapsed_time'] = test_df['prior_question_elapsed_time'].fillna(0)\n",
    "\n",
    "    p_prior_question_had_explanation = test_df['prior_question_had_explanation'].values\n",
    "    prior_community_arrays = test_df['community'].values\n",
    "    \n",
    "    user_sum = np.zeros(len(test_df), dtype=np.int16)\n",
    "    user_count = np.zeros(len(test_df), dtype=np.int16)\n",
    "    content_sum = np.zeros(len(test_df), dtype=np.int32)\n",
    "    content_count = np.zeros(len(test_df), dtype=np.int32)\n",
    "    part_count = np.zeros(len(test_df), dtype=np.int32)\n",
    "    first_attempt_values = []\n",
    "    user_correctness_array = np.zeros(len(test_df), dtype=np.float32)\n",
    "    user_unique_count = np.zeros(len(test_df), dtype=np.int32)\n",
    "    user_prior_question_had_explanation_sum = np.zeros(len(test_df), dtype=np.int32)\n",
    "    got_point_array = np.zeros(len(test_df), dtype=np.float32)\n",
    "    user_last7_accuracy_array = np.zeros(len(test_df), dtype=np.float32)\n",
    "    timediff_array = np.zeros(len(test_df), dtype = np.int64)\n",
    "    timediff2_array = np.zeros(len(test_df), dtype = np.int64)\n",
    "    timediff3_array = np.zeros(len(test_df), dtype = np.int64)\n",
    "    timediff4_array = np.zeros(len(test_df), dtype = np.int64)\n",
    "    tag_acc_array = np.zeros(len(test_df), dtype=np.float32)\n",
    "    community_count_array = np.zeros(len(test_df), dtype=np.int32)\n",
    "    time_dd_array = np.zeros(len(test_df), dtype = np.int64)\n",
    "    user_con_correct_array = np.zeros(len(test_df), dtype=np.int16)\n",
    "    user_con_incorrect_array = np.zeros(len(test_df), dtype=np.int16)\n",
    "    \n",
    "    for i, (user_id, content_id, timestamp, community, part) in enumerate(zip(test_df['user_id'].values, \n",
    "                                                             test_df['content_id'].values,\n",
    "                                                             test_df['timestamp'].values,\n",
    "                                                             test_df['community'].values,\n",
    "                                                             test_df['part'].values)):\n",
    "        user_sum[i] = user_sum_dict[user_id]\n",
    "        user_count[i] = user_count_dict[user_id]\n",
    "        if user_count[i] != 0:\n",
    "            user_correctness_array[i] = user_sum[i] / user_count[i]\n",
    "        else:\n",
    "            user_correctness_array[i] = -1\n",
    "        content_sum[i] = content_sum_dict[content_id]\n",
    "        content_count[i] = content_count_dict[content_id]\n",
    "        part_count[i] = user_part_count_dict[user_id][part] + 1\n",
    "        user_part_count_dict[user_id][part] += 1\n",
    "        first_attempt_values.append(user_content_dict[user_id][content_id])\n",
    "        user_content_dict[user_id][content_id] = False             \n",
    "        user_unique_count[i] = user_unique_dict[user_id]\n",
    "        user_prior_question_had_explanation_sum[i] = user_prior_question_had_explanation_sum_dict[user_id]\n",
    "        got_point_array[i] = user_point_sum_dict[user_id]\n",
    "        \n",
    "        if len(user_last7_answer_dict[user_id])==7:\n",
    "            user_last7_accuracy_array[i] = user_last7_answer_dict[user_id].mean()\n",
    "        else:\n",
    "            user_last7_accuracy_array[i] = np.nan\n",
    "            \n",
    "        if len(user_timestamp_max_dict[user_id]) ==0:\n",
    "            timediff_array[i] = -1\n",
    "            timediff2_array[i] = -1\n",
    "            timediff3_array[i] = -1\n",
    "            timediff4_array[i] = -1\n",
    "            time_dd_array[i] = -1\n",
    "            \n",
    "        elif len(user_timestamp_max_dict[user_id]) ==1:\n",
    "            timediff_array[i] = timestamp - user_timestamp_max_dict[user_id][0]\n",
    "            timediff2_array[i] = -1\n",
    "            timediff3_array[i] = -1\n",
    "            timediff4_array[i] = -1\n",
    "            time_dd_array[i] = -1\n",
    "            \n",
    "        elif len(user_timestamp_max_dict[user_id]) ==2:\n",
    "            timediff_array[i] = timestamp - user_timestamp_max_dict[user_id][1]\n",
    "            timediff2_array[i] = timestamp - user_timestamp_max_dict[user_id][0]\n",
    "            timediff3_array[i] = -1\n",
    "            timediff4_array[i] = -1\n",
    "            time_dd_array[i] = timediff2_array[i] - timediff_array[i]\n",
    "            \n",
    "        elif len(user_timestamp_max_dict[user_id]) ==3:\n",
    "            timediff_array[i] = timestamp - user_timestamp_max_dict[user_id][2]\n",
    "            timediff2_array[i] = timestamp - user_timestamp_max_dict[user_id][1]\n",
    "            timediff3_array[i] = timestamp - user_timestamp_max_dict[user_id][0]\n",
    "            timediff4_array[i] = -1\n",
    "            time_dd_array[i] = timediff2_array[i] - timediff_array[i]\n",
    "    \n",
    "        else:\n",
    "            timediff_array[i] = timestamp - user_timestamp_max_dict[user_id][3]\n",
    "            timediff2_array[i] = timestamp - user_timestamp_max_dict[user_id][2]\n",
    "            timediff3_array[i] = timestamp - user_timestamp_max_dict[user_id][1]\n",
    "            timediff4_array[i] = timestamp - user_timestamp_max_dict[user_id][0]\n",
    "            time_dd_array[i] = timediff2_array[i] - timediff_array[i]\n",
    "            \n",
    "        if user_community_count_dict[user_id][community] == 0:\n",
    "            tag_acc_array[i] = -1\n",
    "        else:\n",
    "            tag_acc_array[i] = user_community_correct_dict[user_id][community] / user_community_count_dict[user_id][community]\n",
    "            \n",
    "        community_count_array[i] = community_count_dict[community]\n",
    "        user_con_correct_array[i] = continuous_correct_dict[user_id]\n",
    "        user_con_incorrect_array[i] = continuous_incorrect_dict[user_id]\n",
    "     \n",
    "    test_df['count'] = 1\n",
    "    test_df['count'] = test_df.groupby(\"user_id\")[\"count\"].cumsum()\n",
    "    test_df['count'] += user_count\n",
    "    test_df['user_correctness'] = user_correctness_array\n",
    "    test_df['content_count'] = content_count\n",
    "    test_df['content_id'] = content_sum / content_count\n",
    "    test_df['part_count'] = part_count\n",
    "    test_df['part_ratio'] = part_count / test_df['count'].values\n",
    "    test_df[\"first_attempt\"] = first_attempt_values\n",
    "    test_df[\"unique_attempt\"] = test_df.groupby(\"user_id\")[\"first_attempt\"].cumsum()\n",
    "    test_df[\"unique_attempt\"] += user_unique_count\n",
    "    test_df['prior_question_had_explanation_mean'] = user_prior_question_had_explanation_sum / user_count\n",
    "    test_df['got_point'] = got_point_array / user_count\n",
    "    test_df['answered_correctly_last7'] = user_last7_accuracy_array\n",
    "    test_df['timediff'] = timediff_array\n",
    "    test_df['timediff2'] = timediff2_array\n",
    "    test_df['timediff3'] = timediff3_array\n",
    "    test_df['timediff4'] = timediff4_array\n",
    "    test_df['tag_acc'] = tag_acc_array\n",
    "    test_df['community_count'] = community_count_array\n",
    "    test_df['time_dd'] = time_dd_array\n",
    "    test_df['continuous_correct'] = user_con_correct_array\n",
    "    test_df['continuous_incorrect'] = user_con_incorrect_array\n",
    "\n",
    "    prior_f_attempt_arrays = test_df['first_attempt'].values\n",
    "    prior_point_array = 1 / (test_df.content_id.values + 0.1)\n",
    "    \n",
    "    test_df[target] = model.predict(test_df[features])\n",
    "    env.predict(test_df[['row_id', target]])"
   ]
  },
  {
   "cell_type": "code",
   "execution_count": null,
   "metadata": {
    "papermill": {
     "duration": 0.049256,
     "end_time": "2020-12-26T06:27:41.656435",
     "exception": false,
     "start_time": "2020-12-26T06:27:41.607179",
     "status": "completed"
    },
    "tags": []
   },
   "outputs": [],
   "source": []
  }
 ],
 "metadata": {
  "kernelspec": {
   "display_name": "Python 3",
   "language": "python",
   "name": "python3"
  },
  "language_info": {
   "codemirror_mode": {
    "name": "ipython",
    "version": 3
   },
   "file_extension": ".py",
   "mimetype": "text/x-python",
   "name": "python",
   "nbconvert_exporter": "python",
   "pygments_lexer": "ipython3",
   "version": "3.7.6"
  },
  "papermill": {
   "duration": 5341.684059,
   "end_time": "2020-12-26T06:27:42.016384",
   "environment_variables": {},
   "exception": null,
   "input_path": "__notebook__.ipynb",
   "output_path": "__notebook__.ipynb",
   "parameters": {},
   "start_time": "2020-12-26T04:58:40.332325",
   "version": "2.1.0"
  }
 },
 "nbformat": 4,
 "nbformat_minor": 4
}
