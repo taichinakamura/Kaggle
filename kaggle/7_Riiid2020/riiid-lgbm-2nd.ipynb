{
 "cells": [
  {
   "cell_type": "markdown",
   "metadata": {
    "papermill": {
     "duration": 0.018314,
     "end_time": "2020-11-28T01:38:46.128091",
     "exception": false,
     "start_time": "2020-11-28T01:38:46.109777",
     "status": "completed"
    },
    "tags": []
   },
   "source": [
    "- change location of connecting question dataframe\n",
    "- add listening and reading part info"
   ]
  },
  {
   "cell_type": "code",
   "execution_count": 1,
   "metadata": {
    "_cell_guid": "b1076dfc-b9ad-4769-8c92-a6c4dae69d19",
    "_uuid": "8f2839f25d086af736a60e9eeb907d3b93b6e0e5",
    "execution": {
     "iopub.execute_input": "2020-11-28T01:38:46.167084Z",
     "iopub.status.busy": "2020-11-28T01:38:46.166215Z",
     "iopub.status.idle": "2020-11-28T01:39:17.532456Z",
     "shell.execute_reply": "2020-11-28T01:39:17.531759Z"
    },
    "papermill": {
     "duration": 31.388275,
     "end_time": "2020-11-28T01:39:17.532566",
     "exception": false,
     "start_time": "2020-11-28T01:38:46.144291",
     "status": "completed"
    },
    "tags": []
   },
   "outputs": [],
   "source": [
    "!pip install ../input/python-datatable/datatable-0.11.0-cp37-cp37m-manylinux2010_x86_64.whl > /dev/null 2>&1"
   ]
  },
  {
   "cell_type": "code",
   "execution_count": 2,
   "metadata": {
    "_cell_guid": "79c7e3d0-c299-4dcb-8224-4455121ee9b0",
    "_uuid": "d629ff2d2480ee46fbb7e2d37f6b5fab8052498a",
    "execution": {
     "iopub.execute_input": "2020-11-28T01:39:17.573273Z",
     "iopub.status.busy": "2020-11-28T01:39:17.572677Z",
     "iopub.status.idle": "2020-11-28T01:39:18.762679Z",
     "shell.execute_reply": "2020-11-28T01:39:18.762025Z"
    },
    "papermill": {
     "duration": 1.213409,
     "end_time": "2020-11-28T01:39:18.762782",
     "exception": false,
     "start_time": "2020-11-28T01:39:17.549373",
     "status": "completed"
    },
    "tags": []
   },
   "outputs": [
    {
     "data": {
      "text/html": [
       "<style type='text/css'>\n",
       ".datatable table.frame { margin-bottom: 0; }\n",
       ".datatable table.frame thead { border-bottom: none; }\n",
       ".datatable table.frame tr.coltypes td {  color: #FFFFFF;  line-height: 6px;  padding: 0 0.5em;}\n",
       ".datatable .bool    { background: #DDDD99; }\n",
       ".datatable .object  { background: #565656; }\n",
       ".datatable .int     { background: #5D9E5D; }\n",
       ".datatable .float   { background: #4040CC; }\n",
       ".datatable .str     { background: #CC4040; }\n",
       ".datatable .row_index {  background: var(--jp-border-color3);  border-right: 1px solid var(--jp-border-color0);  color: var(--jp-ui-font-color3);  font-size: 9px;}\n",
       ".datatable .frame tr.coltypes .row_index {  background: var(--jp-border-color0);}\n",
       ".datatable th:nth-child(2) { padding-left: 12px; }\n",
       ".datatable .hellipsis {  color: var(--jp-cell-editor-border-color);}\n",
       ".datatable .vellipsis {  background: var(--jp-layout-color0);  color: var(--jp-cell-editor-border-color);}\n",
       ".datatable .na {  color: var(--jp-cell-editor-border-color);  font-size: 80%;}\n",
       ".datatable .footer { font-size: 9px; }\n",
       ".datatable .frame_dimensions {  background: var(--jp-border-color3);  border-top: 1px solid var(--jp-border-color0);  color: var(--jp-ui-font-color3);  display: inline-block;  opacity: 0.6;  padding: 1px 10px 1px 5px;}\n",
       "</style>\n"
      ],
      "text/plain": [
       "<IPython.core.display.HTML object>"
      ]
     },
     "metadata": {},
     "output_type": "display_data"
    }
   ],
   "source": [
    "import numpy as np\n",
    "import pandas as pd\n",
    "from collections import defaultdict\n",
    "import datatable as dt\n",
    "import lightgbm as lgb\n",
    "from matplotlib import pyplot as plt\n",
    "import riiideducation\n",
    "\n",
    "_ = np.seterr(divide='ignore', invalid='ignore')"
   ]
  },
  {
   "cell_type": "markdown",
   "metadata": {
    "papermill": {
     "duration": 0.016854,
     "end_time": "2020-11-28T01:39:18.797034",
     "exception": false,
     "start_time": "2020-11-28T01:39:18.780180",
     "status": "completed"
    },
    "tags": []
   },
   "source": [
    "# Preprocess"
   ]
  },
  {
   "cell_type": "code",
   "execution_count": 3,
   "metadata": {
    "execution": {
     "iopub.execute_input": "2020-11-28T01:39:18.836876Z",
     "iopub.status.busy": "2020-11-28T01:39:18.835966Z",
     "iopub.status.idle": "2020-11-28T01:39:18.839743Z",
     "shell.execute_reply": "2020-11-28T01:39:18.838920Z"
    },
    "papermill": {
     "duration": 0.026072,
     "end_time": "2020-11-28T01:39:18.839864",
     "exception": false,
     "start_time": "2020-11-28T01:39:18.813792",
     "status": "completed"
    },
    "tags": []
   },
   "outputs": [],
   "source": [
    "data_types_dict = {\n",
    "    'user_id': 'int32', \n",
    "    'content_id': 'int16', \n",
    "    'answered_correctly': 'int8', \n",
    "    'prior_question_elapsed_time': 'float32', \n",
    "    'prior_question_had_explanation': 'bool'\n",
    "}\n",
    "target = 'answered_correctly'"
   ]
  },
  {
   "cell_type": "code",
   "execution_count": 4,
   "metadata": {
    "execution": {
     "iopub.execute_input": "2020-11-28T01:39:18.898415Z",
     "iopub.status.busy": "2020-11-28T01:39:18.897508Z",
     "iopub.status.idle": "2020-11-28T01:41:23.950213Z",
     "shell.execute_reply": "2020-11-28T01:41:23.949577Z"
    },
    "papermill": {
     "duration": 125.084683,
     "end_time": "2020-11-28T01:41:23.950327",
     "exception": false,
     "start_time": "2020-11-28T01:39:18.865644",
     "status": "completed"
    },
    "tags": []
   },
   "outputs": [],
   "source": [
    "train_df = dt.fread('../input/riiid-test-answer-prediction/train.csv', columns=set(data_types_dict.keys())).to_pandas()\n",
    "train_df = train_df[train_df[target] != -1].reset_index(drop=True)\n",
    "train_df['prior_question_had_explanation'].fillna(False, inplace=True)\n",
    "train_df = train_df.astype(data_types_dict)"
   ]
  },
  {
   "cell_type": "code",
   "execution_count": 5,
   "metadata": {
    "execution": {
     "iopub.execute_input": "2020-11-28T01:41:23.997750Z",
     "iopub.status.busy": "2020-11-28T01:41:23.997127Z",
     "iopub.status.idle": "2020-11-28T01:41:42.601500Z",
     "shell.execute_reply": "2020-11-28T01:41:42.600883Z"
    },
    "papermill": {
     "duration": 18.633836,
     "end_time": "2020-11-28T01:41:42.601605",
     "exception": false,
     "start_time": "2020-11-28T01:41:23.967769",
     "status": "completed"
    },
    "tags": []
   },
   "outputs": [],
   "source": [
    "questions_df = pd.read_csv(\n",
    "    '../input/riiid-test-answer-prediction/questions.csv', \n",
    "    usecols=[0, 3],\n",
    "    dtype={'question_id': 'int16', 'part': 'int8'}\n",
    ")\n",
    "train_df = pd.merge(train_df, questions_df, left_on='content_id', right_on='question_id', how='left')\n",
    "train_df.drop(columns=['question_id'], inplace=True)"
   ]
  },
  {
   "cell_type": "code",
   "execution_count": 6,
   "metadata": {
    "execution": {
     "iopub.execute_input": "2020-11-28T01:41:42.647632Z",
     "iopub.status.busy": "2020-11-28T01:41:42.646993Z",
     "iopub.status.idle": "2020-11-28T01:42:04.790802Z",
     "shell.execute_reply": "2020-11-28T01:42:04.790222Z"
    },
    "papermill": {
     "duration": 22.169524,
     "end_time": "2020-11-28T01:42:04.790907",
     "exception": false,
     "start_time": "2020-11-28T01:41:42.621383",
     "status": "completed"
    },
    "tags": []
   },
   "outputs": [],
   "source": [
    "train_df['lag'] = train_df.groupby('user_id')[target].shift()\n",
    "cum = train_df.groupby('user_id')['lag'].agg(['cumsum', 'cumcount'])\n",
    "train_df['user_correctness'] = cum['cumsum'] / cum['cumcount']\n",
    "train_df.drop(columns=['lag'], inplace=True)\n",
    "del cum"
   ]
  },
  {
   "cell_type": "code",
   "execution_count": 7,
   "metadata": {
    "execution": {
     "iopub.execute_input": "2020-11-28T01:42:04.836195Z",
     "iopub.status.busy": "2020-11-28T01:42:04.835596Z",
     "iopub.status.idle": "2020-11-28T01:42:34.878651Z",
     "shell.execute_reply": "2020-11-28T01:42:34.878100Z"
    },
    "papermill": {
     "duration": 30.070003,
     "end_time": "2020-11-28T01:42:34.878776",
     "exception": false,
     "start_time": "2020-11-28T01:42:04.808773",
     "status": "completed"
    },
    "tags": []
   },
   "outputs": [],
   "source": [
    "train_df[\"reading_part\"] = train_df[\"part\"] >=5\n",
    "train_df[\"reading_part\"] = train_df[\"reading_part\"].astype(\"int8\")\n",
    "train_df['reading_part_lag'] = train_df.groupby('user_id')[\"reading_part\"].shift()\n",
    "cum = train_df.groupby('user_id')['reading_part_lag'].agg(['cumsum']) \n",
    "train_df['reading_part_ratio'] = cum['cumsum'] \n",
    "train_df.drop(columns=['reading_part_lag', 'reading_part'], inplace=True)\n",
    "del cum"
   ]
  },
  {
   "cell_type": "code",
   "execution_count": 8,
   "metadata": {
    "execution": {
     "iopub.execute_input": "2020-11-28T01:42:34.923720Z",
     "iopub.status.busy": "2020-11-28T01:42:34.922768Z",
     "iopub.status.idle": "2020-11-28T01:43:16.727385Z",
     "shell.execute_reply": "2020-11-28T01:43:16.727883Z"
    },
    "papermill": {
     "duration": 41.830893,
     "end_time": "2020-11-28T01:43:16.728022",
     "exception": false,
     "start_time": "2020-11-28T01:42:34.897129",
     "status": "completed"
    },
    "tags": []
   },
   "outputs": [],
   "source": [
    "train_df[\"listening_part\"] = (train_df[\"part\"] >=1) | (train_df[\"part\"] <=4)\n",
    "train_df[\"listening_part\"] = train_df[\"listening_part\"].astype(\"int8\")\n",
    "train_df['listening_part_lag'] = train_df.groupby('user_id')[\"listening_part\"].shift()\n",
    "cum = train_df.groupby('user_id')['listening_part_lag'].agg(['cumsum']) \n",
    "train_df['listening_part_ratio'] = cum['cumsum'] \n",
    "train_df.drop(columns=['listening_part_lag', 'listening_part'], inplace=True)\n",
    "del cum"
   ]
  },
  {
   "cell_type": "code",
   "execution_count": 9,
   "metadata": {
    "execution": {
     "iopub.execute_input": "2020-11-28T01:43:16.771577Z",
     "iopub.status.busy": "2020-11-28T01:43:16.770752Z",
     "iopub.status.idle": "2020-11-28T01:43:25.671654Z",
     "shell.execute_reply": "2020-11-28T01:43:25.672127Z"
    },
    "papermill": {
     "duration": 8.925584,
     "end_time": "2020-11-28T01:43:25.672277",
     "exception": false,
     "start_time": "2020-11-28T01:43:16.746693",
     "status": "completed"
    },
    "tags": []
   },
   "outputs": [],
   "source": [
    "user_agg = train_df.groupby('user_id')[target].agg(['sum', 'count'])\n",
    "content_agg = train_df.groupby('content_id')[target].agg(['sum', 'count'])"
   ]
  },
  {
   "cell_type": "code",
   "execution_count": 10,
   "metadata": {
    "execution": {
     "iopub.execute_input": "2020-11-28T01:43:25.713571Z",
     "iopub.status.busy": "2020-11-28T01:43:25.712939Z",
     "iopub.status.idle": "2020-11-28T01:43:30.931733Z",
     "shell.execute_reply": "2020-11-28T01:43:30.932226Z"
    },
    "papermill": {
     "duration": 5.241585,
     "end_time": "2020-11-28T01:43:30.932387",
     "exception": false,
     "start_time": "2020-11-28T01:43:25.690802",
     "status": "completed"
    },
    "tags": []
   },
   "outputs": [],
   "source": [
    "user_listening_agg = train_df.groupby('user_id')[\"listening_part_ratio\"].agg(['max'])\n",
    "user_reading_agg = train_df.groupby('user_id')[\"reading_part_ratio\"].agg(['max'])"
   ]
  },
  {
   "cell_type": "code",
   "execution_count": 11,
   "metadata": {
    "execution": {
     "iopub.execute_input": "2020-11-28T01:43:30.974834Z",
     "iopub.status.busy": "2020-11-28T01:43:30.973997Z",
     "iopub.status.idle": "2020-11-28T01:43:33.888527Z",
     "shell.execute_reply": "2020-11-28T01:43:33.887989Z"
    },
    "papermill": {
     "duration": 2.937143,
     "end_time": "2020-11-28T01:43:33.888638",
     "exception": false,
     "start_time": "2020-11-28T01:43:30.951495",
     "status": "completed"
    },
    "tags": []
   },
   "outputs": [],
   "source": [
    "train_df[\"count\"] = 1\n",
    "train_df[\"count\"] = train_df.groupby(\"user_id\")[\"count\"].cumsum()"
   ]
  },
  {
   "cell_type": "code",
   "execution_count": 12,
   "metadata": {
    "execution": {
     "iopub.execute_input": "2020-11-28T01:43:33.929464Z",
     "iopub.status.busy": "2020-11-28T01:43:33.928851Z",
     "iopub.status.idle": "2020-11-28T01:43:40.185646Z",
     "shell.execute_reply": "2020-11-28T01:43:40.184993Z"
    },
    "papermill": {
     "duration": 6.278906,
     "end_time": "2020-11-28T01:43:40.185752",
     "exception": false,
     "start_time": "2020-11-28T01:43:33.906846",
     "status": "completed"
    },
    "tags": []
   },
   "outputs": [],
   "source": [
    "train_df = train_df.groupby('user_id').tail(24).reset_index(drop=True)"
   ]
  },
  {
   "cell_type": "code",
   "execution_count": 13,
   "metadata": {
    "execution": {
     "iopub.execute_input": "2020-11-28T01:43:40.229860Z",
     "iopub.status.busy": "2020-11-28T01:43:40.229156Z",
     "iopub.status.idle": "2020-11-28T01:43:40.457263Z",
     "shell.execute_reply": "2020-11-28T01:43:40.456616Z"
    },
    "papermill": {
     "duration": 0.252792,
     "end_time": "2020-11-28T01:43:40.457394",
     "exception": false,
     "start_time": "2020-11-28T01:43:40.204602",
     "status": "completed"
    },
    "tags": []
   },
   "outputs": [],
   "source": [
    "train_df['content_count'] = train_df['content_id'].map(content_agg['count']).astype('int32')\n",
    "train_df['content_id'] = train_df['content_id'].map(content_agg['sum'] / content_agg['count'])"
   ]
  },
  {
   "cell_type": "code",
   "execution_count": 14,
   "metadata": {
    "execution": {
     "iopub.execute_input": "2020-11-28T01:43:40.500061Z",
     "iopub.status.busy": "2020-11-28T01:43:40.499461Z",
     "iopub.status.idle": "2020-11-28T01:43:42.286693Z",
     "shell.execute_reply": "2020-11-28T01:43:42.286107Z"
    },
    "papermill": {
     "duration": 1.810679,
     "end_time": "2020-11-28T01:43:42.286801",
     "exception": false,
     "start_time": "2020-11-28T01:43:40.476122",
     "status": "completed"
    },
    "tags": []
   },
   "outputs": [],
   "source": [
    "valid_df = train_df.groupby('user_id').tail(6)\n",
    "train_df.drop(valid_df.index, inplace=True)"
   ]
  },
  {
   "cell_type": "code",
   "execution_count": 15,
   "metadata": {
    "execution": {
     "iopub.execute_input": "2020-11-28T01:43:42.333878Z",
     "iopub.status.busy": "2020-11-28T01:43:42.333227Z",
     "iopub.status.idle": "2020-11-28T01:43:42.344698Z",
     "shell.execute_reply": "2020-11-28T01:43:42.344080Z"
    },
    "papermill": {
     "duration": 0.03939,
     "end_time": "2020-11-28T01:43:42.344789",
     "exception": false,
     "start_time": "2020-11-28T01:43:42.305399",
     "status": "completed"
    },
    "tags": []
   },
   "outputs": [
    {
     "data": {
      "text/html": [
       "<div>\n",
       "<style scoped>\n",
       "    .dataframe tbody tr th:only-of-type {\n",
       "        vertical-align: middle;\n",
       "    }\n",
       "\n",
       "    .dataframe tbody tr th {\n",
       "        vertical-align: top;\n",
       "    }\n",
       "\n",
       "    .dataframe thead th {\n",
       "        text-align: right;\n",
       "    }\n",
       "</style>\n",
       "<table border=\"1\" class=\"dataframe\">\n",
       "  <thead>\n",
       "    <tr style=\"text-align: right;\">\n",
       "      <th></th>\n",
       "      <th>user_id</th>\n",
       "      <th>content_id</th>\n",
       "      <th>answered_correctly</th>\n",
       "      <th>prior_question_elapsed_time</th>\n",
       "      <th>prior_question_had_explanation</th>\n",
       "      <th>part</th>\n",
       "      <th>user_correctness</th>\n",
       "      <th>reading_part_ratio</th>\n",
       "      <th>listening_part_ratio</th>\n",
       "      <th>count</th>\n",
       "      <th>content_count</th>\n",
       "    </tr>\n",
       "  </thead>\n",
       "  <tbody>\n",
       "    <tr>\n",
       "      <th>0</th>\n",
       "      <td>115</td>\n",
       "      <td>0.687217</td>\n",
       "      <td>0</td>\n",
       "      <td>19000.0</td>\n",
       "      <td>False</td>\n",
       "      <td>1</td>\n",
       "      <td>0.727273</td>\n",
       "      <td>2.0</td>\n",
       "      <td>22.0</td>\n",
       "      <td>23</td>\n",
       "      <td>36674</td>\n",
       "    </tr>\n",
       "    <tr>\n",
       "      <th>1</th>\n",
       "      <td>115</td>\n",
       "      <td>0.608222</td>\n",
       "      <td>0</td>\n",
       "      <td>21000.0</td>\n",
       "      <td>False</td>\n",
       "      <td>1</td>\n",
       "      <td>0.695652</td>\n",
       "      <td>2.0</td>\n",
       "      <td>23.0</td>\n",
       "      <td>24</td>\n",
       "      <td>47047</td>\n",
       "    </tr>\n",
       "    <tr>\n",
       "      <th>2</th>\n",
       "      <td>115</td>\n",
       "      <td>0.601824</td>\n",
       "      <td>1</td>\n",
       "      <td>22000.0</td>\n",
       "      <td>False</td>\n",
       "      <td>1</td>\n",
       "      <td>0.666667</td>\n",
       "      <td>2.0</td>\n",
       "      <td>24.0</td>\n",
       "      <td>25</td>\n",
       "      <td>40452</td>\n",
       "    </tr>\n",
       "    <tr>\n",
       "      <th>3</th>\n",
       "      <td>115</td>\n",
       "      <td>0.418436</td>\n",
       "      <td>1</td>\n",
       "      <td>16000.0</td>\n",
       "      <td>False</td>\n",
       "      <td>1</td>\n",
       "      <td>0.680000</td>\n",
       "      <td>2.0</td>\n",
       "      <td>25.0</td>\n",
       "      <td>26</td>\n",
       "      <td>190170</td>\n",
       "    </tr>\n",
       "    <tr>\n",
       "      <th>4</th>\n",
       "      <td>115</td>\n",
       "      <td>0.474545</td>\n",
       "      <td>1</td>\n",
       "      <td>20000.0</td>\n",
       "      <td>False</td>\n",
       "      <td>1</td>\n",
       "      <td>0.692308</td>\n",
       "      <td>2.0</td>\n",
       "      <td>26.0</td>\n",
       "      <td>27</td>\n",
       "      <td>56707</td>\n",
       "    </tr>\n",
       "  </tbody>\n",
       "</table>\n",
       "</div>"
      ],
      "text/plain": [
       "   user_id  content_id  answered_correctly  prior_question_elapsed_time  \\\n",
       "0      115    0.687217                   0                      19000.0   \n",
       "1      115    0.608222                   0                      21000.0   \n",
       "2      115    0.601824                   1                      22000.0   \n",
       "3      115    0.418436                   1                      16000.0   \n",
       "4      115    0.474545                   1                      20000.0   \n",
       "\n",
       "   prior_question_had_explanation  part  user_correctness  reading_part_ratio  \\\n",
       "0                           False     1          0.727273                 2.0   \n",
       "1                           False     1          0.695652                 2.0   \n",
       "2                           False     1          0.666667                 2.0   \n",
       "3                           False     1          0.680000                 2.0   \n",
       "4                           False     1          0.692308                 2.0   \n",
       "\n",
       "   listening_part_ratio  count  content_count  \n",
       "0                  22.0     23          36674  \n",
       "1                  23.0     24          47047  \n",
       "2                  24.0     25          40452  \n",
       "3                  25.0     26         190170  \n",
       "4                  26.0     27          56707  "
      ]
     },
     "execution_count": 15,
     "metadata": {},
     "output_type": "execute_result"
    }
   ],
   "source": [
    "train_df.head()"
   ]
  },
  {
   "cell_type": "markdown",
   "metadata": {
    "papermill": {
     "duration": 0.019094,
     "end_time": "2020-11-28T01:43:42.383998",
     "exception": false,
     "start_time": "2020-11-28T01:43:42.364904",
     "status": "completed"
    },
    "tags": []
   },
   "source": [
    "# Train"
   ]
  },
  {
   "cell_type": "code",
   "execution_count": 16,
   "metadata": {
    "execution": {
     "iopub.execute_input": "2020-11-28T01:43:42.429022Z",
     "iopub.status.busy": "2020-11-28T01:43:42.428415Z",
     "iopub.status.idle": "2020-11-28T01:43:42.431590Z",
     "shell.execute_reply": "2020-11-28T01:43:42.430944Z"
    },
    "papermill": {
     "duration": 0.028497,
     "end_time": "2020-11-28T01:43:42.431719",
     "exception": false,
     "start_time": "2020-11-28T01:43:42.403222",
     "status": "completed"
    },
    "tags": []
   },
   "outputs": [],
   "source": [
    "features = [\n",
    "    'content_id',\n",
    "    'prior_question_elapsed_time',\n",
    "    'prior_question_had_explanation',\n",
    "    'user_correctness',\n",
    "    'part',\n",
    "    'content_count',\n",
    "    'count',\n",
    "    'reading_part_ratio',\n",
    "    'listening_part_ratio'\n",
    "]\n",
    "\n",
    "params = {\n",
    "    'objective': 'binary',\n",
    "    'seed': 42,\n",
    "    'metric': 'auc',\n",
    "    'learning_rate': 0.05,\n",
    "    'max_bin': 800,\n",
    "    'num_leaves': 80\n",
    "}"
   ]
  },
  {
   "cell_type": "code",
   "execution_count": 17,
   "metadata": {
    "execution": {
     "iopub.execute_input": "2020-11-28T01:43:42.616435Z",
     "iopub.status.busy": "2020-11-28T01:43:42.571158Z",
     "iopub.status.idle": "2020-11-28T02:42:43.852982Z",
     "shell.execute_reply": "2020-11-28T02:42:43.853632Z"
    },
    "papermill": {
     "duration": 3541.40254,
     "end_time": "2020-11-28T02:42:43.854016",
     "exception": false,
     "start_time": "2020-11-28T01:43:42.451476",
     "status": "completed"
    },
    "tags": []
   },
   "outputs": [
    {
     "name": "stdout",
     "output_type": "stream",
     "text": [
      "Training until validation scores don't improve for 50 rounds\n",
      "[50]\ttraining's auc: 0.752806\tvalid_1's auc: 0.735184\n",
      "[100]\ttraining's auc: 0.754888\tvalid_1's auc: 0.737543\n",
      "[150]\ttraining's auc: 0.75587\tvalid_1's auc: 0.738501\n",
      "[200]\ttraining's auc: 0.756302\tvalid_1's auc: 0.738763\n",
      "[250]\ttraining's auc: 0.756631\tvalid_1's auc: 0.738935\n",
      "[300]\ttraining's auc: 0.756957\tvalid_1's auc: 0.73909\n",
      "[350]\ttraining's auc: 0.757241\tvalid_1's auc: 0.739191\n",
      "[400]\ttraining's auc: 0.757532\tvalid_1's auc: 0.739299\n",
      "[450]\ttraining's auc: 0.757815\tvalid_1's auc: 0.739422\n",
      "[500]\ttraining's auc: 0.758081\tvalid_1's auc: 0.739531\n",
      "[550]\ttraining's auc: 0.758321\tvalid_1's auc: 0.739589\n",
      "[600]\ttraining's auc: 0.758552\tvalid_1's auc: 0.739656\n",
      "[650]\ttraining's auc: 0.758776\tvalid_1's auc: 0.739707\n",
      "[700]\ttraining's auc: 0.758982\tvalid_1's auc: 0.739764\n",
      "[750]\ttraining's auc: 0.75921\tvalid_1's auc: 0.739829\n",
      "[800]\ttraining's auc: 0.759411\tvalid_1's auc: 0.739866\n",
      "[850]\ttraining's auc: 0.759617\tvalid_1's auc: 0.739921\n",
      "[900]\ttraining's auc: 0.759821\tvalid_1's auc: 0.739953\n",
      "[950]\ttraining's auc: 0.760011\tvalid_1's auc: 0.739992\n",
      "[1000]\ttraining's auc: 0.760211\tvalid_1's auc: 0.740029\n",
      "[1050]\ttraining's auc: 0.760408\tvalid_1's auc: 0.740063\n",
      "[1100]\ttraining's auc: 0.760619\tvalid_1's auc: 0.740093\n",
      "[1150]\ttraining's auc: 0.760853\tvalid_1's auc: 0.740143\n",
      "[1200]\ttraining's auc: 0.761036\tvalid_1's auc: 0.740158\n",
      "[1250]\ttraining's auc: 0.761239\tvalid_1's auc: 0.740186\n",
      "[1300]\ttraining's auc: 0.761434\tvalid_1's auc: 0.740209\n",
      "[1350]\ttraining's auc: 0.761608\tvalid_1's auc: 0.740229\n",
      "[1400]\ttraining's auc: 0.761806\tvalid_1's auc: 0.740246\n",
      "[1450]\ttraining's auc: 0.761987\tvalid_1's auc: 0.740263\n",
      "[1500]\ttraining's auc: 0.762182\tvalid_1's auc: 0.74028\n",
      "[1550]\ttraining's auc: 0.762368\tvalid_1's auc: 0.740293\n",
      "[1600]\ttraining's auc: 0.762546\tvalid_1's auc: 0.740295\n",
      "[1650]\ttraining's auc: 0.76272\tvalid_1's auc: 0.7403\n",
      "[1700]\ttraining's auc: 0.762905\tvalid_1's auc: 0.740318\n",
      "[1750]\ttraining's auc: 0.763071\tvalid_1's auc: 0.740322\n",
      "Early stopping, best iteration is:\n",
      "[1741]\ttraining's auc: 0.763047\tvalid_1's auc: 0.740323\n"
     ]
    },
    {
     "data": {
      "image/png": "[encoded data removed]",
      "text/plain": [
       "<Figure size 432x288 with 1 Axes>"
      ]
     },
     "metadata": {
      "needs_background": "light"
     },
     "output_type": "display_data"
    }
   ],
   "source": [
    "tr_data = lgb.Dataset(train_df[features], label=train_df[target])\n",
    "va_data = lgb.Dataset(valid_df[features], label=valid_df[target])\n",
    "\n",
    "model = lgb.train(\n",
    "    params, \n",
    "    tr_data, \n",
    "    num_boost_round=10000,\n",
    "    valid_sets=[tr_data, va_data], \n",
    "    early_stopping_rounds=50,\n",
    "    verbose_eval=50\n",
    ")\n",
    "\n",
    "# model.save_model(f'model.txt')\n",
    "lgb.plot_importance(model, importance_type='gain')\n",
    "plt.show()"
   ]
  },
  {
   "cell_type": "markdown",
   "metadata": {
    "papermill": {
     "duration": 0.033774,
     "end_time": "2020-11-28T02:42:43.921979",
     "exception": false,
     "start_time": "2020-11-28T02:42:43.888205",
     "status": "completed"
    },
    "tags": []
   },
   "source": [
    "# Inference"
   ]
  },
  {
   "cell_type": "code",
   "execution_count": 18,
   "metadata": {
    "execution": {
     "iopub.execute_input": "2020-11-28T02:42:43.996425Z",
     "iopub.status.busy": "2020-11-28T02:42:43.995749Z",
     "iopub.status.idle": "2020-11-28T02:42:44.008572Z",
     "shell.execute_reply": "2020-11-28T02:42:44.007914Z"
    },
    "papermill": {
     "duration": 0.053285,
     "end_time": "2020-11-28T02:42:44.008691",
     "exception": false,
     "start_time": "2020-11-28T02:42:43.955406",
     "status": "completed"
    },
    "tags": []
   },
   "outputs": [],
   "source": [
    "user_reading_agg['max'].fillna(0,inplace=True)\n",
    "user_listening_agg['max'].fillna(0,inplace=True)"
   ]
  },
  {
   "cell_type": "code",
   "execution_count": 19,
   "metadata": {
    "execution": {
     "iopub.execute_input": "2020-11-28T02:42:44.086534Z",
     "iopub.status.busy": "2020-11-28T02:42:44.085639Z",
     "iopub.status.idle": "2020-11-28T02:42:44.774792Z",
     "shell.execute_reply": "2020-11-28T02:42:44.774219Z"
    },
    "papermill": {
     "duration": 0.731944,
     "end_time": "2020-11-28T02:42:44.774911",
     "exception": false,
     "start_time": "2020-11-28T02:42:44.042967",
     "status": "completed"
    },
    "tags": []
   },
   "outputs": [],
   "source": [
    "user_sum_dict = user_agg['sum'].astype('int16').to_dict(defaultdict(int))\n",
    "user_count_dict = user_agg['count'].astype('int16').to_dict(defaultdict(int))\n",
    "content_sum_dict = content_agg['sum'].astype('int32').to_dict(defaultdict(int))\n",
    "content_count_dict = content_agg['count'].astype('int32').to_dict(defaultdict(int))\n",
    "user_reading_dict = user_reading_agg['max'].astype('int32').to_dict(defaultdict(int))\n",
    "user_listening_dict = user_listening_agg['max'].astype('int32').to_dict(defaultdict(int))"
   ]
  },
  {
   "cell_type": "code",
   "execution_count": 20,
   "metadata": {
    "execution": {
     "iopub.execute_input": "2020-11-28T02:42:44.849076Z",
     "iopub.status.busy": "2020-11-28T02:42:44.848414Z",
     "iopub.status.idle": "2020-11-28T02:42:44.852325Z",
     "shell.execute_reply": "2020-11-28T02:42:44.851709Z"
    },
    "papermill": {
     "duration": 0.043246,
     "end_time": "2020-11-28T02:42:44.852478",
     "exception": false,
     "start_time": "2020-11-28T02:42:44.809232",
     "status": "completed"
    },
    "tags": []
   },
   "outputs": [],
   "source": [
    "# model = lgb.Booster(model_file='../input/riiid-lgbm-starter/model.txt')\n",
    "env = riiideducation.make_env()\n",
    "iter_test = env.iter_test()\n",
    "prior_test_df = None"
   ]
  },
  {
   "cell_type": "code",
   "execution_count": 21,
   "metadata": {
    "execution": {
     "iopub.execute_input": "2020-11-28T02:42:45.012558Z",
     "iopub.status.busy": "2020-11-28T02:42:45.007509Z",
     "iopub.status.idle": "2020-11-28T02:42:45.834680Z",
     "shell.execute_reply": "2020-11-28T02:42:45.835389Z"
    },
    "papermill": {
     "duration": 0.943049,
     "end_time": "2020-11-28T02:42:45.835558",
     "exception": false,
     "start_time": "2020-11-28T02:42:44.892509",
     "status": "completed"
    },
    "tags": []
   },
   "outputs": [
    {
     "name": "stdout",
     "output_type": "stream",
     "text": [
      "CPU times: user 1.23 s, sys: 81 ms, total: 1.31 s\n",
      "Wall time: 814 ms\n"
     ]
    }
   ],
   "source": [
    "%%time\n",
    "\n",
    "for (test_df, sample_prediction_df) in iter_test:\n",
    "    if prior_test_df is not None:\n",
    "        prior_test_df[target] = eval(test_df['prior_group_answers_correct'].iloc[0])\n",
    "        prior_test_df = prior_test_df[prior_test_df[target] != -1].reset_index(drop=True)\n",
    "        \n",
    "        user_ids = prior_test_df['user_id'].values\n",
    "        content_ids = prior_test_df['content_id'].values\n",
    "        targets = prior_test_df[target].values\n",
    "        parts = prior_part_arrays\n",
    "        \n",
    "        for user_id, content_id, answered_correctly, part in zip(user_ids, content_ids, targets, parts):\n",
    "            user_sum_dict[user_id] += answered_correctly\n",
    "            user_count_dict[user_id] += 1\n",
    "            content_sum_dict[content_id] += answered_correctly\n",
    "            content_count_dict[content_id] += 1\n",
    "            if part <=4:\n",
    "                user_listening_dict[user_id] +=1\n",
    "            else:\n",
    "                user_reading_dict[user_id] +=1\n",
    "\n",
    "    prior_test_df = test_df.copy()\n",
    "    \n",
    "    test_df = test_df[test_df['content_type_id'] == 0].reset_index(drop=True)\n",
    "    test_df = pd.merge(test_df, questions_df, left_on='content_id', right_on='question_id', how='left')\n",
    "    test_df['prior_question_had_explanation'] = test_df['prior_question_had_explanation'].fillna(False).astype('bool')    \n",
    "    \n",
    "    prior_part_arrays = test_df['part'].values\n",
    "    \n",
    "    user_sum = np.zeros(len(test_df), dtype=np.int16)\n",
    "    user_count = np.zeros(len(test_df), dtype=np.int16)\n",
    "    content_sum = np.zeros(len(test_df), dtype=np.int32)\n",
    "    content_count = np.zeros(len(test_df), dtype=np.int32)\n",
    "    listening_count = np.zeros(len(test_df), dtype=np.int32)\n",
    "    reading_count = np.zeros(len(test_df), dtype=np.int32)\n",
    "    \n",
    "    for i, (user_id, content_id) in enumerate(zip(test_df['user_id'].values, test_df['content_id'].values)):\n",
    "        user_sum[i] = user_sum_dict[user_id]\n",
    "        user_count[i] = user_count_dict[user_id]\n",
    "        content_sum[i] = content_sum_dict[content_id]\n",
    "        content_count[i] = content_count_dict[content_id]\n",
    "        listening_count[i] = user_listening_dict[user_id]\n",
    "        reading_count[i] = user_reading_dict[user_id]\n",
    "\n",
    "    test_df['user_correctness'] = user_sum / user_count\n",
    "    test_df['content_count'] = content_count\n",
    "    test_df['content_id'] = content_sum / content_count\n",
    "    test_df['count'] = 1\n",
    "    test_df['count'] = test_df.groupby(\"user_id\")[\"count\"].cumsum()\n",
    "    test_df['count'] += user_count\n",
    "    test_df['reading_part_ratio'] = reading_count\n",
    "    test_df['listening_part_ratio'] = listening_count\n",
    "    \n",
    "    test_df[target] = model.predict(test_df[features])\n",
    "    env.predict(test_df[['row_id', target]])"
   ]
  },
  {
   "cell_type": "code",
   "execution_count": null,
   "metadata": {
    "papermill": {
     "duration": 0.05142,
     "end_time": "2020-11-28T02:42:45.938601",
     "exception": false,
     "start_time": "2020-11-28T02:42:45.887181",
     "status": "completed"
    },
    "tags": []
   },
   "outputs": [],
   "source": []
  }
 ],
 "metadata": {
  "kernelspec": {
   "display_name": "Python 3",
   "language": "python",
   "name": "python3"
  },
  "language_info": {
   "codemirror_mode": {
    "name": "ipython",
    "version": 3
   },
   "file_extension": ".py",
   "mimetype": "text/x-python",
   "name": "python",
   "nbconvert_exporter": "python",
   "pygments_lexer": "ipython3",
   "version": "3.7.6"
  },
  "papermill": {
   "duration": 3844.439599,
   "end_time": "2020-11-28T02:42:46.099240",
   "environment_variables": {},
   "exception": null,
   "input_path": "__notebook__.ipynb",
   "output_path": "__notebook__.ipynb",
   "parameters": {},
   "start_time": "2020-11-28T01:38:41.659641",
   "version": "2.1.0"
  }
 },
 "nbformat": 4,
 "nbformat_minor": 4
}
