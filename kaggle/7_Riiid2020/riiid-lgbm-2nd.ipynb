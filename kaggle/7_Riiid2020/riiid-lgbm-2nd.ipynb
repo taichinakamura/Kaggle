{
 "cells": [
  {
   "cell_type": "markdown",
   "metadata": {
    "papermill": {
     "duration": 0.022609,
     "end_time": "2020-12-21T02:42:45.949064",
     "exception": false,
     "start_time": "2020-12-21T02:42:45.926455",
     "status": "completed"
    },
    "tags": []
   },
   "source": [
    "- execute full training size=300, round=3000 based on ver 64"
   ]
  },
  {
   "cell_type": "code",
   "execution_count": 1,
   "metadata": {
    "_cell_guid": "b1076dfc-b9ad-4769-8c92-a6c4dae69d19",
    "_uuid": "8f2839f25d086af736a60e9eeb907d3b93b6e0e5",
    "execution": {
     "iopub.execute_input": "2020-12-21T02:42:45.995454Z",
     "iopub.status.busy": "2020-12-21T02:42:45.994939Z",
     "iopub.status.idle": "2020-12-21T02:43:14.481850Z",
     "shell.execute_reply": "2020-12-21T02:43:14.480698Z"
    },
    "papermill": {
     "duration": 28.512117,
     "end_time": "2020-12-21T02:43:14.482005",
     "exception": false,
     "start_time": "2020-12-21T02:42:45.969888",
     "status": "completed"
    },
    "tags": []
   },
   "outputs": [],
   "source": [
    "!pip install ../input/python-datatable/datatable-0.11.0-cp37-cp37m-manylinux2010_x86_64.whl > /dev/null 2>&1"
   ]
  },
  {
   "cell_type": "code",
   "execution_count": 2,
   "metadata": {
    "_cell_guid": "79c7e3d0-c299-4dcb-8224-4455121ee9b0",
    "_uuid": "d629ff2d2480ee46fbb7e2d37f6b5fab8052498a",
    "execution": {
     "iopub.execute_input": "2020-12-21T02:43:14.532479Z",
     "iopub.status.busy": "2020-12-21T02:43:14.531945Z",
     "iopub.status.idle": "2020-12-21T02:43:16.018871Z",
     "shell.execute_reply": "2020-12-21T02:43:16.017988Z"
    },
    "papermill": {
     "duration": 1.515196,
     "end_time": "2020-12-21T02:43:16.018978",
     "exception": false,
     "start_time": "2020-12-21T02:43:14.503782",
     "status": "completed"
    },
    "tags": []
   },
   "outputs": [
    {
     "data": {
      "text/html": [
       "<style type='text/css'>\n",
       ".datatable table.frame { margin-bottom: 0; }\n",
       ".datatable table.frame thead { border-bottom: none; }\n",
       ".datatable table.frame tr.coltypes td {  color: #FFFFFF;  line-height: 6px;  padding: 0 0.5em;}\n",
       ".datatable .bool    { background: #DDDD99; }\n",
       ".datatable .object  { background: #565656; }\n",
       ".datatable .int     { background: #5D9E5D; }\n",
       ".datatable .float   { background: #4040CC; }\n",
       ".datatable .str     { background: #CC4040; }\n",
       ".datatable .row_index {  background: var(--jp-border-color3);  border-right: 1px solid var(--jp-border-color0);  color: var(--jp-ui-font-color3);  font-size: 9px;}\n",
       ".datatable .frame tr.coltypes .row_index {  background: var(--jp-border-color0);}\n",
       ".datatable th:nth-child(2) { padding-left: 12px; }\n",
       ".datatable .hellipsis {  color: var(--jp-cell-editor-border-color);}\n",
       ".datatable .vellipsis {  background: var(--jp-layout-color0);  color: var(--jp-cell-editor-border-color);}\n",
       ".datatable .na {  color: var(--jp-cell-editor-border-color);  font-size: 80%;}\n",
       ".datatable .footer { font-size: 9px; }\n",
       ".datatable .frame_dimensions {  background: var(--jp-border-color3);  border-top: 1px solid var(--jp-border-color0);  color: var(--jp-ui-font-color3);  display: inline-block;  opacity: 0.6;  padding: 1px 10px 1px 5px;}\n",
       ".datatable .frame thead tr.colnames {  background-image: url('data:image/png;base64,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');  background-repeat: repeat-x;  background-size: 14px;  height: 28px;}\n",
       "</style>\n"
      ],
      "text/plain": [
       "<IPython.core.display.HTML object>"
      ]
     },
     "metadata": {},
     "output_type": "display_data"
    },
    {
     "name": "stderr",
     "output_type": "stream",
     "text": [
      "/opt/conda/lib/python3.7/site-packages/ipykernel_launcher.py:14: TqdmDeprecationWarning: This function will be removed in tqdm==5.0.0\n",
      "Please use `tqdm.notebook.*` instead of `tqdm._tqdm_notebook.*`\n",
      "  \n",
      "/opt/conda/lib/python3.7/site-packages/tqdm/std.py:666: FutureWarning: The Panel class is removed from pandas. Accessing it from the top-level namespace will also be removed in the next version\n",
      "  from pandas import Panel\n"
     ]
    }
   ],
   "source": [
    "import gc\n",
    "import numpy as np\n",
    "import pandas as pd\n",
    "from collections import defaultdict\n",
    "import datatable as dt\n",
    "import lightgbm as lgb\n",
    "from matplotlib import pyplot as plt\n",
    "import riiideducation\n",
    "from bitarray import bitarray\n",
    "from functools import partial\n",
    "import pickle\n",
    "import math \n",
    "\n",
    "from tqdm._tqdm_notebook import tqdm_notebook\n",
    "from numba import jit\n",
    "import random\n",
    "\n",
    "tqdm_notebook.pandas(desc=\"progress: \")\n",
    "\n",
    "_ = np.seterr(divide='ignore', invalid='ignore')\n",
    "pd.set_option(\"max_rows\", 100)\n",
    "pd.set_option(\"max_columns\", 100)\n",
    "\n",
    "random.seed(1)"
   ]
  },
  {
   "cell_type": "code",
   "execution_count": 3,
   "metadata": {
    "execution": {
     "iopub.execute_input": "2020-12-21T02:43:16.079075Z",
     "iopub.status.busy": "2020-12-21T02:43:16.072143Z",
     "iopub.status.idle": "2020-12-21T02:43:16.082046Z",
     "shell.execute_reply": "2020-12-21T02:43:16.081488Z"
    },
    "papermill": {
     "duration": 0.039743,
     "end_time": "2020-12-21T02:43:16.082134",
     "exception": false,
     "start_time": "2020-12-21T02:43:16.042391",
     "status": "completed"
    },
    "tags": []
   },
   "outputs": [],
   "source": [
    "def make_bitarray():\n",
    "    a = bitarray(32737, endian='little')\n",
    "    a.setall(True)   \n",
    "    return a\n",
    "\n",
    "def clear_mem():\n",
    "    %reset -f out\n",
    "    %reset -f in\n",
    "    gc.collect()\n",
    "    \n",
    "@jit\n",
    "def last4(A):\n",
    "    ans = []\n",
    "    for i in range(len(A)):\n",
    "        if i < 7:\n",
    "            ans.append(np.nan)\n",
    "        else:\n",
    "            ans.append(np.mean(A[i-5:i]))       \n",
    "    return np.array(ans)"
   ]
  },
  {
   "cell_type": "code",
   "execution_count": 4,
   "metadata": {
    "execution": {
     "iopub.execute_input": "2020-12-21T02:43:16.130796Z",
     "iopub.status.busy": "2020-12-21T02:43:16.130274Z",
     "iopub.status.idle": "2020-12-21T02:43:16.132767Z",
     "shell.execute_reply": "2020-12-21T02:43:16.132241Z"
    },
    "papermill": {
     "duration": 0.028231,
     "end_time": "2020-12-21T02:43:16.132850",
     "exception": false,
     "start_time": "2020-12-21T02:43:16.104619",
     "status": "completed"
    },
    "tags": []
   },
   "outputs": [],
   "source": [
    "FULL_TRAIN = True\n",
    "CV_SCHEME = \"original\" #\"time\""
   ]
  },
  {
   "cell_type": "markdown",
   "metadata": {
    "papermill": {
     "duration": 0.022759,
     "end_time": "2020-12-21T02:43:16.178323",
     "exception": false,
     "start_time": "2020-12-21T02:43:16.155564",
     "status": "completed"
    },
    "tags": []
   },
   "source": [
    "# Preprocess"
   ]
  },
  {
   "cell_type": "code",
   "execution_count": 5,
   "metadata": {
    "execution": {
     "iopub.execute_input": "2020-12-21T02:43:16.227703Z",
     "iopub.status.busy": "2020-12-21T02:43:16.227132Z",
     "iopub.status.idle": "2020-12-21T02:43:16.230175Z",
     "shell.execute_reply": "2020-12-21T02:43:16.229586Z"
    },
    "papermill": {
     "duration": 0.029154,
     "end_time": "2020-12-21T02:43:16.230271",
     "exception": false,
     "start_time": "2020-12-21T02:43:16.201117",
     "status": "completed"
    },
    "tags": []
   },
   "outputs": [],
   "source": [
    "data_types_dict = {\n",
    "    'timestamp': 'int64',\n",
    "    'user_id': 'int32', \n",
    "    'content_id': 'int16', \n",
    "    'answered_correctly': 'int8', \n",
    "    'prior_question_elapsed_time': 'float32', \n",
    "    'prior_question_had_explanation': 'bool',\n",
    "}\n",
    "target = 'answered_correctly'"
   ]
  },
  {
   "cell_type": "code",
   "execution_count": 6,
   "metadata": {
    "execution": {
     "iopub.execute_input": "2020-12-21T02:43:16.278283Z",
     "iopub.status.busy": "2020-12-21T02:43:16.277769Z",
     "iopub.status.idle": "2020-12-21T02:44:46.756432Z",
     "shell.execute_reply": "2020-12-21T02:44:46.755923Z"
    },
    "papermill": {
     "duration": 90.504198,
     "end_time": "2020-12-21T02:44:46.756557",
     "exception": false,
     "start_time": "2020-12-21T02:43:16.252359",
     "status": "completed"
    },
    "tags": []
   },
   "outputs": [],
   "source": [
    "train_df = dt.fread('../input/riiid-test-answer-prediction/train.csv', columns=set(data_types_dict.keys())).to_pandas()"
   ]
  },
  {
   "cell_type": "code",
   "execution_count": 7,
   "metadata": {
    "execution": {
     "iopub.execute_input": "2020-12-21T02:44:46.815102Z",
     "iopub.status.busy": "2020-12-21T02:44:46.814081Z",
     "iopub.status.idle": "2020-12-21T02:45:11.087173Z",
     "shell.execute_reply": "2020-12-21T02:45:11.087603Z"
    },
    "papermill": {
     "duration": 24.307871,
     "end_time": "2020-12-21T02:45:11.087756",
     "exception": false,
     "start_time": "2020-12-21T02:44:46.779885",
     "status": "completed"
    },
    "tags": []
   },
   "outputs": [],
   "source": [
    "train_df = train_df[train_df[target] != -1].reset_index(drop=True)\n",
    "\n",
    "train_df['prior_question_had_explanation'].fillna(False, inplace=True)\n",
    "train_df['prior_question_elapsed_time'].fillna(0, inplace=True)\n",
    "\n",
    "train_df = train_df.astype(data_types_dict)"
   ]
  },
  {
   "cell_type": "code",
   "execution_count": 8,
   "metadata": {
    "execution": {
     "iopub.execute_input": "2020-12-21T02:45:11.134771Z",
     "iopub.status.busy": "2020-12-21T02:45:11.134243Z",
     "iopub.status.idle": "2020-12-21T02:45:23.588452Z",
     "shell.execute_reply": "2020-12-21T02:45:23.587957Z"
    },
    "papermill": {
     "duration": 12.478214,
     "end_time": "2020-12-21T02:45:23.588562",
     "exception": false,
     "start_time": "2020-12-21T02:45:11.110348",
     "status": "completed"
    },
    "tags": []
   },
   "outputs": [],
   "source": [
    "if CV_SCHEME==\"time\":\n",
    "    max_timestamp_u = train_df[['user_id','timestamp']].groupby(['user_id']).agg(['max']).reset_index()\n",
    "    max_timestamp_u.columns = ['user_id', 'max_time_stamp']\n",
    "    MAX_TIME_STAMP = max_timestamp_u.max_time_stamp.max()\n",
    "\n",
    "    def rand_time(max_time_stamp):\n",
    "        interval = MAX_TIME_STAMP - max_time_stamp\n",
    "        rand_time_stamp = random.randint(0,interval)\n",
    "        return rand_time_stamp\n",
    "\n",
    "    max_timestamp_u['rand_time_stamp'] = max_timestamp_u.max_time_stamp.apply(rand_time)\n",
    "    train_df = train_df.merge(max_timestamp_u, on='user_id', how='left')\n",
    "    train_df['viretual_time_stamp'] = train_df.timestamp + train_df['rand_time_stamp']\n",
    "\n",
    "    del train_df['max_time_stamp']\n",
    "    del train_df['rand_time_stamp']\n",
    "    del max_timestamp_u\n",
    "\n",
    "    train_index = list(train_df['viretual_time_stamp'].nlargest(10000000).index)\n",
    "\n",
    "else:\n",
    "    if FULL_TRAIN:\n",
    "        train_size = 300\n",
    "    else:\n",
    "        train_size = 24\n",
    "        valid_size = 6\n",
    "    \n",
    "    train_index = list(train_df.groupby('user_id').tail(train_size).index)"
   ]
  },
  {
   "cell_type": "code",
   "execution_count": 9,
   "metadata": {
    "execution": {
     "iopub.execute_input": "2020-12-21T02:45:23.640402Z",
     "iopub.status.busy": "2020-12-21T02:45:23.639386Z",
     "iopub.status.idle": "2020-12-21T02:45:36.546494Z",
     "shell.execute_reply": "2020-12-21T02:45:36.545394Z"
    },
    "papermill": {
     "duration": 12.934668,
     "end_time": "2020-12-21T02:45:36.546627",
     "exception": false,
     "start_time": "2020-12-21T02:45:23.611959",
     "status": "completed"
    },
    "tags": []
   },
   "outputs": [],
   "source": [
    "train_df[\"count\"] = 1\n",
    "\n",
    "# normal cumsum\n",
    "count_array = train_df.groupby(\"user_id\")[\"count\"].cumsum().values\n",
    "count_array = count_array[train_index]\n",
    "train_df.drop(\"count\", axis=1, inplace=True)"
   ]
  },
  {
   "cell_type": "code",
   "execution_count": 10,
   "metadata": {
    "execution": {
     "iopub.execute_input": "2020-12-21T02:45:36.603440Z",
     "iopub.status.busy": "2020-12-21T02:45:36.602285Z",
     "iopub.status.idle": "2020-12-21T02:51:14.066707Z",
     "shell.execute_reply": "2020-12-21T02:51:14.067497Z"
    },
    "papermill": {
     "duration": 337.498111,
     "end_time": "2020-12-21T02:51:14.067667",
     "exception": false,
     "start_time": "2020-12-21T02:45:36.569556",
     "status": "completed"
    },
    "tags": []
   },
   "outputs": [
    {
     "name": "stdout",
     "output_type": "stream",
     "text": [
      "Flushing output cache (0 entries)\n",
      "Flushing input history\n",
      "Flushing output cache (0 entries)\n",
      "Flushing input history\n",
      "Flushing output cache (0 entries)\n",
      "Flushing input history\n",
      "Flushing output cache (0 entries)\n",
      "Flushing input history\n"
     ]
    }
   ],
   "source": [
    "timediff_array = train_df.groupby(\"user_id\")[\"timestamp\"].diff().values\n",
    "timediff_array = timediff_array[train_index]\n",
    "clear_mem()\n",
    "\n",
    "timediff2_array = train_df.groupby(\"user_id\")[\"timestamp\"].diff(2).values\n",
    "timediff2_array = timediff2_array[train_index]\n",
    "clear_mem()\n",
    "\n",
    "timediff3_array = train_df.groupby(\"user_id\")[\"timestamp\"].diff(3).values\n",
    "timediff3_array = timediff3_array[train_index]\n",
    "clear_mem()\n",
    "\n",
    "timediff4_array = train_df.groupby(\"user_id\")[\"timestamp\"].diff(4).values\n",
    "timediff4_array = timediff4_array[train_index]\n",
    "clear_mem()\n",
    "\n",
    "user_timestamp_max_dict = train_df.groupby(\"user_id\")[\"timestamp\"].apply(lambda x: x[-4:].values).to_dict(defaultdict(partial(np.ndarray, 0, dtype=\"int64\")))\n",
    "\n",
    "train_df.drop(\"timestamp\", axis=1, inplace=True)\n",
    "\n",
    "time_dd_array = timediff2_array - timediff_array\n",
    "timediff_array = np.nan_to_num(timediff_array, nan=-1)\n",
    "timediff2_array = np.nan_to_num(timediff2_array, nan=-1)\n",
    "timediff3_array = np.nan_to_num(timediff3_array, nan=-1)\n",
    "timediff4_array = np.nan_to_num(timediff4_array, nan=-1)\n",
    "time_dd_array = np.nan_to_num(time_dd_array, nan=-1)"
   ]
  },
  {
   "cell_type": "code",
   "execution_count": 11,
   "metadata": {
    "execution": {
     "iopub.execute_input": "2020-12-21T02:51:14.118434Z",
     "iopub.status.busy": "2020-12-21T02:51:14.117676Z",
     "iopub.status.idle": "2020-12-21T02:51:24.589265Z",
     "shell.execute_reply": "2020-12-21T02:51:24.589901Z"
    },
    "papermill": {
     "duration": 10.49855,
     "end_time": "2020-12-21T02:51:24.590310",
     "exception": false,
     "start_time": "2020-12-21T02:51:14.091760",
     "status": "completed"
    },
    "tags": []
   },
   "outputs": [],
   "source": [
    "prior_question_elapsed_time_array = train_df.prior_question_elapsed_time.values\n",
    "train_df.drop(\"prior_question_elapsed_time\", axis =1, inplace=True)\n",
    "prior_question_elapsed_time_array = prior_question_elapsed_time_array[train_index]"
   ]
  },
  {
   "cell_type": "code",
   "execution_count": 12,
   "metadata": {
    "execution": {
     "iopub.execute_input": "2020-12-21T02:51:24.644536Z",
     "iopub.status.busy": "2020-12-21T02:51:24.643994Z",
     "iopub.status.idle": "2020-12-21T02:51:39.496225Z",
     "shell.execute_reply": "2020-12-21T02:51:39.495731Z"
    },
    "papermill": {
     "duration": 14.878995,
     "end_time": "2020-12-21T02:51:39.496319",
     "exception": false,
     "start_time": "2020-12-21T02:51:24.617324",
     "status": "completed"
    },
    "tags": []
   },
   "outputs": [],
   "source": [
    "questions_df = pd.read_csv(\n",
    "    '../input/riiid-test-answer-prediction/questions.csv', \n",
    "    usecols=[0, 3], \n",
    "    dtype={'question_id': 'int16', 'part': 'int8'} \n",
    ")\n",
    "\n",
    "additional_q_df = pd.read_csv('../input/riiid-question-clustering/question_cmnts.csv')\n",
    "questions_df[\"community\"] = additional_q_df[\"community\"].astype('int8')\n",
    "del additional_q_df \n",
    "    \n",
    "train_df = pd.merge(train_df, questions_df, left_on='content_id', right_on='question_id', how='left', right_index=True).reset_index(drop=True)\n",
    "train_df.drop(columns=['question_id'], inplace=True)"
   ]
  },
  {
   "cell_type": "code",
   "execution_count": 13,
   "metadata": {
    "execution": {
     "iopub.execute_input": "2020-12-21T02:51:39.607091Z",
     "iopub.status.busy": "2020-12-21T02:51:39.604194Z",
     "iopub.status.idle": "2020-12-21T02:51:39.609878Z",
     "shell.execute_reply": "2020-12-21T02:51:39.610265Z"
    },
    "papermill": {
     "duration": 0.089604,
     "end_time": "2020-12-21T02:51:39.610376",
     "exception": false,
     "start_time": "2020-12-21T02:51:39.520772",
     "status": "completed"
    },
    "tags": []
   },
   "outputs": [
    {
     "name": "stdout",
     "output_type": "stream",
     "text": [
      "76\n"
     ]
    }
   ],
   "source": [
    "community_num = len(questions_df.community.unique())\n",
    "print(community_num)\n",
    "\n",
    "@jit\n",
    "def tag_accuracy(A, C):\n",
    "    ans = []\n",
    "    community_count = [0] * community_num\n",
    "    community_correct = [0] * community_num\n",
    "    for i in range(len(C)):\n",
    "        if community_count[C[i]]==0:\n",
    "            ans.append(-1)\n",
    "        else:\n",
    "            ans.append(community_correct[C[i]]/community_count[C[i]])\n",
    "        community_count[C[i]] +=1\n",
    "        community_correct[C[i]] += A[i]\n",
    "    return np.array(ans)\n",
    "\n",
    "@jit\n",
    "def tag_correct_last(A, C):\n",
    "    community_correct = [0] * community_num\n",
    "    for i in range(len(C)):\n",
    "        community_correct[C[i]] += A[i]\n",
    "    return np.array(community_correct)\n",
    "\n",
    "@jit\n",
    "def tag_count_last(A, C):\n",
    "    community_count = [0] * community_num\n",
    "    for i in range(len(C)):\n",
    "        community_count[C[i]] +=1\n",
    "    return np.array(community_count)\n",
    "\n",
    "def init_dict():\n",
    "    ans = [0] * community_num\n",
    "    return np.array(ans)"
   ]
  },
  {
   "cell_type": "code",
   "execution_count": 14,
   "metadata": {
    "execution": {
     "iopub.execute_input": "2020-12-21T02:51:39.670106Z",
     "iopub.status.busy": "2020-12-21T02:51:39.669548Z",
     "iopub.status.idle": "2020-12-21T02:53:41.951683Z",
     "shell.execute_reply": "2020-12-21T02:53:41.952238Z"
    },
    "papermill": {
     "duration": 122.31753,
     "end_time": "2020-12-21T02:53:41.952494",
     "exception": false,
     "start_time": "2020-12-21T02:51:39.634964",
     "status": "completed"
    },
    "tags": []
   },
   "outputs": [],
   "source": [
    "#\n",
    "tag_acc_array = train_df.groupby(\"user_id\").apply(lambda x: tag_accuracy(x[\"answered_correctly\"].values, x[\"community\"].values))\n",
    "tag_acc_array = np.hstack(tag_acc_array)\n",
    "tag_acc_array = tag_acc_array[train_index]\n",
    "\n",
    "user_community_count_dict = train_df.groupby(\"user_id\").apply(lambda x: tag_count_last(x[\"answered_correctly\"].values, x[\"community\"].values)).to_dict(defaultdict(init_dict))\n",
    "user_community_correct_dict = train_df.groupby(\"user_id\").apply(lambda x: tag_correct_last(x[\"answered_correctly\"].values, x[\"community\"].values)).to_dict(defaultdict(init_dict))\n",
    "    \n",
    "#\n",
    "community_agg = train_df.groupby('community')[target].agg(['count'])\n",
    "community_count_dict = community_agg['count'].astype('int32').to_dict(defaultdict(int))\n",
    "community_count_array = train_df['community'].map(community_agg['count']).astype('int32').values\n",
    "del community_agg\n",
    "community_count_array = community_count_array[train_index]\n",
    "    \n",
    "community_array = train_df[\"community\"].values\n",
    "community_array = community_array[train_index]\n",
    "train_df.drop('community', axis=1, inplace=True)"
   ]
  },
  {
   "cell_type": "code",
   "execution_count": 15,
   "metadata": {
    "execution": {
     "iopub.execute_input": "2020-12-21T02:53:42.011450Z",
     "iopub.status.busy": "2020-12-21T02:53:42.010306Z",
     "iopub.status.idle": "2020-12-21T02:54:02.561329Z",
     "shell.execute_reply": "2020-12-21T02:54:02.561793Z"
    },
    "papermill": {
     "duration": 20.582892,
     "end_time": "2020-12-21T02:54:02.561933",
     "exception": false,
     "start_time": "2020-12-21T02:53:41.979041",
     "status": "completed"
    },
    "tags": []
   },
   "outputs": [],
   "source": [
    "train_df['lag'] = train_df.groupby('user_id')[target].shift()\n",
    "cum = train_df.groupby('user_id')['lag'].agg(['cumsum', 'cumcount'])\n",
    "user_correctness_array = np.array(cum['cumsum'] / cum['cumcount'])\n",
    "user_correctness_array = user_correctness_array[train_index]\n",
    "train_df.drop(columns=['lag'], inplace=True)\n",
    "del cum"
   ]
  },
  {
   "cell_type": "code",
   "execution_count": 16,
   "metadata": {
    "execution": {
     "iopub.execute_input": "2020-12-21T02:54:02.636640Z",
     "iopub.status.busy": "2020-12-21T02:54:02.635554Z",
     "iopub.status.idle": "2020-12-21T02:55:02.164861Z",
     "shell.execute_reply": "2020-12-21T02:55:02.164224Z"
    },
    "papermill": {
     "duration": 59.577956,
     "end_time": "2020-12-21T02:55:02.164965",
     "exception": false,
     "start_time": "2020-12-21T02:54:02.587009",
     "status": "completed"
    },
    "tags": []
   },
   "outputs": [],
   "source": [
    "@jit\n",
    "def part_count_calc(P):\n",
    "    ans = []\n",
    "    part_count = [0] * 8\n",
    "    for i in range(len(P)):\n",
    "        part_count[P[i]] += 1\n",
    "        ans.append(part_count[P[i]])\n",
    "    return np.array(ans)\n",
    "\n",
    "@jit\n",
    "def part_count_dict_calc(P):\n",
    "    part_count = [0] * 8\n",
    "    for i in range(len(P)):\n",
    "        part_count[P[i]] += 1\n",
    "    return np.array(part_count)\n",
    "\n",
    "def part_dict_init():\n",
    "    ans = [0] * 8\n",
    "    return np.array(ans)\n",
    "\n",
    "part_count_array = train_df.groupby(\"user_id\").apply(lambda x: part_count_calc(x[\"part\"].values))\n",
    "part_count_array = np.hstack(part_count_array)\n",
    "part_count_array = part_count_array[train_index]\n",
    "part_ratio_array = part_count_array / count_array\n",
    "\n",
    "user_part_count_dict = train_df.groupby(\"user_id\").apply(lambda x: part_count_dict_calc(x[\"part\"].values)).to_dict(defaultdict(part_dict_init))\n",
    "\n",
    "part_array = train_df.part.values\n",
    "train_df.drop(\"part\", axis=1, inplace=True)\n",
    "part_array = part_array[train_index]"
   ]
  },
  {
   "cell_type": "code",
   "execution_count": 17,
   "metadata": {
    "execution": {
     "iopub.execute_input": "2020-12-21T02:55:02.225024Z",
     "iopub.status.busy": "2020-12-21T02:55:02.223956Z",
     "iopub.status.idle": "2020-12-21T02:55:38.161562Z",
     "shell.execute_reply": "2020-12-21T02:55:38.160982Z"
    },
    "papermill": {
     "duration": 35.971266,
     "end_time": "2020-12-21T02:55:38.161682",
     "exception": false,
     "start_time": "2020-12-21T02:55:02.190416",
     "status": "completed"
    },
    "tags": []
   },
   "outputs": [],
   "source": [
    "# prior_question_had_explanation_mean\n",
    "train_df['lag'] = train_df.groupby('user_id')['prior_question_had_explanation'].shift().astype(bool)\n",
    "cum = train_df.groupby('user_id')['lag'].agg(['cumsum', 'cumcount'])\n",
    "prior_question_had_explanation_mean_array = np.array(cum['cumsum'] / cum['cumcount'])\n",
    "prior_question_had_explanation_mean_array = prior_question_had_explanation_mean_array[train_index]\n",
    "\n",
    "user_prior_question_had_explanation_sum_agg = train_df.groupby('user_id')[\"prior_question_had_explanation\"].agg(['sum'])\n",
    "user_prior_question_had_explanation_sum_dict = user_prior_question_had_explanation_sum_agg['sum'].astype('int32').to_dict(defaultdict(int))\n",
    "train_df.drop(columns=['lag'], inplace=True)\n",
    "del cum, user_prior_question_had_explanation_sum_agg\n",
    "\n",
    "prior_question_had_explanation_array = train_df.prior_question_had_explanation.values\n",
    "train_df.drop('prior_question_had_explanation', axis=1, inplace=True)\n",
    "prior_question_had_explanation_array = prior_question_had_explanation_array[train_index]"
   ]
  },
  {
   "cell_type": "code",
   "execution_count": 18,
   "metadata": {
    "execution": {
     "iopub.execute_input": "2020-12-21T02:55:38.224564Z",
     "iopub.status.busy": "2020-12-21T02:55:38.223942Z",
     "iopub.status.idle": "2020-12-21T02:56:32.542437Z",
     "shell.execute_reply": "2020-12-21T02:56:32.541812Z"
    },
    "papermill": {
     "duration": 54.355219,
     "end_time": "2020-12-21T02:56:32.542560",
     "exception": false,
     "start_time": "2020-12-21T02:55:38.187341",
     "status": "completed"
    },
    "tags": []
   },
   "outputs": [
    {
     "name": "stdout",
     "output_type": "stream",
     "text": [
      "Flushing output cache (0 entries)\n",
      "Flushing input history\n"
     ]
    }
   ],
   "source": [
    "first_attempt_df = pd.read_csv(\"../input/riiid-additional-data/content_first_attempt.csv\")\n",
    "first_attempt_array = first_attempt_df.first_attempt.values\n",
    "train_df[\"first_attempt\"] = first_attempt_array\n",
    "\n",
    "unique_attempt_array= train_df.groupby(\"user_id\")[\"first_attempt\"].cumsum().values\n",
    "train_df[\"unique_attempt\"] = unique_attempt_array\n",
    "user_unique_agg = train_df.groupby('user_id')[\"unique_attempt\"].agg(['max'])\n",
    "user_unique_dict = user_unique_agg['max'].astype('int32').to_dict(defaultdict(int))\n",
    "\n",
    "first_attempt_array = first_attempt_array[train_index]\n",
    "unique_attempt_array = unique_attempt_array[train_index]\n",
    "train_df.drop(['first_attempt', 'unique_attempt'], axis=1, inplace=True)\n",
    "del first_attempt_df, user_unique_agg\n",
    "\n",
    "clear_mem()"
   ]
  },
  {
   "cell_type": "code",
   "execution_count": 19,
   "metadata": {
    "execution": {
     "iopub.execute_input": "2020-12-21T02:56:32.596634Z",
     "iopub.status.busy": "2020-12-21T02:56:32.596119Z",
     "iopub.status.idle": "2020-12-21T02:56:45.118915Z",
     "shell.execute_reply": "2020-12-21T02:56:45.119388Z"
    },
    "papermill": {
     "duration": 12.550788,
     "end_time": "2020-12-21T02:56:45.119540",
     "exception": false,
     "start_time": "2020-12-21T02:56:32.568752",
     "status": "completed"
    },
    "tags": []
   },
   "outputs": [
    {
     "name": "stdout",
     "output_type": "stream",
     "text": [
      "Flushing output cache (0 entries)\n",
      "Flushing input history\n",
      "Flushing output cache (0 entries)\n",
      "Flushing input history\n"
     ]
    }
   ],
   "source": [
    "user_agg = train_df.groupby('user_id')[target].agg(['sum', 'count'])\n",
    "user_sum_dict = user_agg['sum'].astype('int16').to_dict(defaultdict(int))\n",
    "del user_agg['sum']\n",
    "user_count_dict = user_agg['count'].astype('int16').to_dict(defaultdict(int))\n",
    "del user_agg['count']\n",
    "clear_mem()\n",
    "\n",
    "#\n",
    "content_agg = train_df.groupby('content_id')[target].agg(['sum', 'count'])\n",
    "content_sum_dict = content_agg['sum'].astype('int32').to_dict(defaultdict(int))\n",
    "content_count_dict = content_agg['count'].astype('int32').to_dict(defaultdict(int))\n",
    "\n",
    "content_count_array = train_df['content_id'].map(content_agg['count']).astype('int32').values\n",
    "content_id_array = train_df['content_id'].map(content_agg['sum'] / content_agg['count']).values\n",
    "del content_agg\n",
    "clear_mem()"
   ]
  },
  {
   "cell_type": "code",
   "execution_count": 20,
   "metadata": {
    "execution": {
     "iopub.execute_input": "2020-12-21T02:56:45.177372Z",
     "iopub.status.busy": "2020-12-21T02:56:45.176852Z",
     "iopub.status.idle": "2020-12-21T02:57:20.403539Z",
     "shell.execute_reply": "2020-12-21T02:57:20.402304Z"
    },
    "papermill": {
     "duration": 35.256291,
     "end_time": "2020-12-21T02:57:20.403668",
     "exception": false,
     "start_time": "2020-12-21T02:56:45.147377",
     "status": "completed"
    },
    "tags": []
   },
   "outputs": [],
   "source": [
    "# benefit of solving difficult questions\n",
    "#point_array = 1 / (content_id_array + 0.1)\n",
    "content_id_array = content_id_array[train_index]\n",
    "content_count_array = content_count_array[train_index]\n",
    "\n",
    "with open('../input/riiid-premade-data/got_point_array.pickle','rb') as f:\n",
    "    got_point_array = pickle.load(f)\n",
    "got_point_array = got_point_array[train_index]\n",
    "    \n",
    "with open('../input/riiid-premade-data/user_point_sum_dict.pickle','rb') as f:\n",
    "    user_point_sum_dict = pickle.load(f)"
   ]
  },
  {
   "cell_type": "code",
   "execution_count": 21,
   "metadata": {
    "execution": {
     "iopub.execute_input": "2020-12-21T02:57:20.960795Z",
     "iopub.status.busy": "2020-12-21T02:57:20.793107Z",
     "iopub.status.idle": "2020-12-21T02:57:43.433218Z",
     "shell.execute_reply": "2020-12-21T02:57:43.433881Z"
    },
    "papermill": {
     "duration": 23.0025,
     "end_time": "2020-12-21T02:57:43.434016",
     "exception": false,
     "start_time": "2020-12-21T02:57:20.431516",
     "status": "completed"
    },
    "tags": []
   },
   "outputs": [
    {
     "name": "stdout",
     "output_type": "stream",
     "text": [
      "CPU times: user 4.36 s, sys: 2.49 s, total: 6.85 s\n",
      "Wall time: 23 s\n"
     ]
    }
   ],
   "source": [
    "%%time\n",
    "train_df.drop([\"content_id\"], axis=1, inplace=True)\n",
    "\n",
    "with open('../input/riiid-premade-data/user_content_dict.pickle','rb') as f:\n",
    "    user_content_dict = pickle.load(f)"
   ]
  },
  {
   "cell_type": "code",
   "execution_count": 22,
   "metadata": {
    "execution": {
     "iopub.execute_input": "2020-12-21T02:57:43.524212Z",
     "iopub.status.busy": "2020-12-21T02:57:43.516721Z",
     "iopub.status.idle": "2020-12-21T02:58:03.708941Z",
     "shell.execute_reply": "2020-12-21T02:58:03.709502Z"
    },
    "papermill": {
     "duration": 20.247921,
     "end_time": "2020-12-21T02:58:03.709677",
     "exception": false,
     "start_time": "2020-12-21T02:57:43.461756",
     "status": "completed"
    },
    "tags": []
   },
   "outputs": [],
   "source": [
    "with open('../input/riiid-premade-data/answered_correctly_last7_array.pickle','rb') as f:\n",
    "    answered_correctly_last7_array = pickle.load(f)\n",
    "answered_correctly_last7_array = answered_correctly_last7_array[train_index]\n",
    "    \n",
    "with open('../input/riiid-premade-data/user_last7_answer_dict.pickle','rb') as f:\n",
    "    user_last7_answer_dict = pickle.load(f)"
   ]
  },
  {
   "cell_type": "code",
   "execution_count": 23,
   "metadata": {
    "execution": {
     "iopub.execute_input": "2020-12-21T02:58:03.778866Z",
     "iopub.status.busy": "2020-12-21T02:58:03.778164Z",
     "iopub.status.idle": "2020-12-21T02:58:03.781677Z",
     "shell.execute_reply": "2020-12-21T02:58:03.782063Z"
    },
    "papermill": {
     "duration": 0.043677,
     "end_time": "2020-12-21T02:58:03.782179",
     "exception": false,
     "start_time": "2020-12-21T02:58:03.738502",
     "status": "completed"
    },
    "tags": []
   },
   "outputs": [],
   "source": [
    "@jit\n",
    "def continuous_correct(A):\n",
    "    ans = []\n",
    "    count = 0\n",
    "    for i in range(len(A)): \n",
    "        ans.append(count)\n",
    "        if A[i] ==1:\n",
    "            count += 1\n",
    "        else:\n",
    "            count = 0\n",
    "    return np.array(ans)\n",
    "\n",
    "@jit\n",
    "def continuous_incorrect(A):\n",
    "    ans = []\n",
    "    count = 0\n",
    "    for i in range(len(A)): \n",
    "        ans.append(count)\n",
    "        if A[i] ==0:\n",
    "            count += 1\n",
    "        else:\n",
    "            count = 0\n",
    "    return np.array(ans)\n",
    "\n",
    "@jit\n",
    "def continuous_correct_dict_calc(A):\n",
    "    count = 0\n",
    "    for i in range(len(A)): \n",
    "        if A[i] ==1:\n",
    "            count += 1\n",
    "        else:\n",
    "            count = 0\n",
    "    return count\n",
    "\n",
    "@jit\n",
    "def continuous_incorrect_dict_calc(A):\n",
    "    count = 0\n",
    "    for i in range(len(A)): \n",
    "        if A[i] ==0:\n",
    "            count += 1\n",
    "        else:\n",
    "            count = 0\n",
    "    return count\n",
    "\n",
    "#continuous_correct_array = train_df.groupby(\"user_id\").apply(lambda x: continuous_correct(x[\"answered_correctly\"].values))\n",
    "#continuous_correct_array = np.hstack(continuous_correct_array)\n",
    "#continuous_correct_array = continuous_correct_array[train_index]\n",
    "\n",
    "#continuous_incorrect_array = train_df.groupby(\"user_id\").apply(lambda x: continuous_incorrect(x[\"answered_correctly\"].values))\n",
    "#continuous_incorrect_array = np.hstack(continuous_incorrect_array)\n",
    "#continuous_incorrect_array = continuous_incorrect_array[train_index]\n",
    "\n",
    "#continuous_incorrect_dict = train_df.groupby(\"user_id\").apply(lambda x: continuous_incorrect_dict_calc(x[\"answered_correctly\"].values)).to_dict(defaultdict(int))\n",
    "#continuous_correct_dict = train_df.groupby(\"user_id\").apply(lambda x: continuous_correct_dict_calc(x[\"answered_correctly\"].values)).to_dict(defaultdict(int))"
   ]
  },
  {
   "cell_type": "code",
   "execution_count": 24,
   "metadata": {
    "execution": {
     "iopub.execute_input": "2020-12-21T02:58:11.617088Z",
     "iopub.status.busy": "2020-12-21T02:58:11.616141Z",
     "iopub.status.idle": "2020-12-21T02:58:11.686997Z",
     "shell.execute_reply": "2020-12-21T02:58:11.686391Z"
    },
    "papermill": {
     "duration": 7.876451,
     "end_time": "2020-12-21T02:58:11.687105",
     "exception": false,
     "start_time": "2020-12-21T02:58:03.810654",
     "status": "completed"
    },
    "tags": []
   },
   "outputs": [],
   "source": [
    "answered_correctly_array = train_df[target].values\n",
    "train_df.drop(target, axis=1, inplace=True)\n",
    "answered_correctly_array = answered_correctly_array[train_index]"
   ]
  },
  {
   "cell_type": "markdown",
   "metadata": {
    "papermill": {
     "duration": 0.028509,
     "end_time": "2020-12-21T02:58:11.759854",
     "exception": false,
     "start_time": "2020-12-21T02:58:11.731345",
     "status": "completed"
    },
    "tags": []
   },
   "source": [
    "# data formation"
   ]
  },
  {
   "cell_type": "code",
   "execution_count": 25,
   "metadata": {
    "execution": {
     "iopub.execute_input": "2020-12-21T02:58:11.830216Z",
     "iopub.status.busy": "2020-12-21T02:58:11.829403Z",
     "iopub.status.idle": "2020-12-21T02:58:11.832652Z",
     "shell.execute_reply": "2020-12-21T02:58:11.832200Z"
    },
    "papermill": {
     "duration": 0.044541,
     "end_time": "2020-12-21T02:58:11.832785",
     "exception": false,
     "start_time": "2020-12-21T02:58:11.788244",
     "status": "completed"
    },
    "tags": []
   },
   "outputs": [],
   "source": [
    "if not FULL_TRAIN:\n",
    "    train_df = train_df[train_df.index.isin(train_index)].reset_index(drop=True)\n",
    "    if CV_SCHEME == \"original\":\n",
    "        valid_index = list(train_df.groupby('user_id').tail(valid_size).index)\n",
    "    else:\n",
    "        valid_index = list(train_df['viretual_time_stamp'].nlargest(2500000).index)\n",
    "    train_index = list(train_df[~train_df.index.isin(valid_index)].index)\n",
    "del train_df"
   ]
  },
  {
   "cell_type": "code",
   "execution_count": 26,
   "metadata": {
    "execution": {
     "iopub.execute_input": "2020-12-21T02:58:11.901642Z",
     "iopub.status.busy": "2020-12-21T02:58:11.901073Z",
     "iopub.status.idle": "2020-12-21T02:58:11.903345Z",
     "shell.execute_reply": "2020-12-21T02:58:11.904648Z"
    },
    "papermill": {
     "duration": 0.042084,
     "end_time": "2020-12-21T02:58:11.904803",
     "exception": false,
     "start_time": "2020-12-21T02:58:11.862719",
     "status": "completed"
    },
    "tags": []
   },
   "outputs": [
    {
     "name": "stdout",
     "output_type": "stream",
     "text": [
      "22\n"
     ]
    }
   ],
   "source": [
    "features_dict = {\n",
    "    'content_id': content_id_array,\n",
    "    'prior_question_elapsed_time': prior_question_elapsed_time_array,\n",
    "    'prior_question_had_explanation':  prior_question_had_explanation_array,\n",
    "    'user_correctness': user_correctness_array,\n",
    "    'part': part_array,\n",
    "    'content_count': content_count_array,\n",
    "    'count': count_array,\n",
    "    'first_attempt': first_attempt_array,\n",
    "    'unique_attempt': unique_attempt_array,\n",
    "    'part_count': part_count_array,\n",
    "    'part_ratio': part_ratio_array,\n",
    "    'prior_question_had_explanation_mean': prior_question_had_explanation_mean_array,\n",
    "    'got_point': got_point_array,\n",
    "    'answered_correctly_last7': answered_correctly_last7_array,   \n",
    "    'timediff': timediff_array,\n",
    "    'timediff2': timediff2_array,\n",
    "    'timediff3': timediff3_array,\n",
    "    'timediff4': timediff4_array,\n",
    "    'community': community_array,\n",
    "    'tag_acc': tag_acc_array,\n",
    "    'community_count': community_count_array,\n",
    "    'time_dd': time_dd_array,\n",
    "    #'continuous_correct': continuous_correct_array,\n",
    "    #'continuous_incorrect': continuous_incorrect_array,\n",
    "}\n",
    "\n",
    "features = list(features_dict.keys())\n",
    "print(len(features))\n",
    "\n",
    "del content_id_array, prior_question_elapsed_time_array, prior_question_had_explanation_array,\n",
    "del user_correctness_array, part_array,\n",
    "del content_count_array, count_array, first_attempt_array, unique_attempt_array,\n",
    "del part_ratio_array, part_count_array,\n",
    "del prior_question_had_explanation_mean_array, got_point_array, \n",
    "del answered_correctly_last7_array, timediff_array, timediff2_array, community_array,\n",
    "del tag_acc_array, community_count_array, time_dd_array#, continuous_correct_array, continuous_incorrect_array"
   ]
  },
  {
   "cell_type": "code",
   "execution_count": 27,
   "metadata": {
    "execution": {
     "iopub.execute_input": "2020-12-21T02:58:11.969686Z",
     "iopub.status.busy": "2020-12-21T02:58:11.969106Z",
     "iopub.status.idle": "2020-12-21T02:58:11.973179Z",
     "shell.execute_reply": "2020-12-21T02:58:11.972354Z"
    },
    "papermill": {
     "duration": 0.038354,
     "end_time": "2020-12-21T02:58:11.973307",
     "exception": false,
     "start_time": "2020-12-21T02:58:11.934953",
     "status": "completed"
    },
    "tags": []
   },
   "outputs": [
    {
     "name": "stdout",
     "output_type": "stream",
     "text": [
      "39633251 23\n"
     ]
    }
   ],
   "source": [
    "if FULL_TRAIN:\n",
    "    print(len(train_index), len(features)+1)\n",
    "else:\n",
    "    print((len(train_index), len(features)+1), (len(valid_index), len(features)+1))"
   ]
  },
  {
   "cell_type": "markdown",
   "metadata": {
    "papermill": {
     "duration": 0.029364,
     "end_time": "2020-12-21T02:58:12.033822",
     "exception": false,
     "start_time": "2020-12-21T02:58:12.004458",
     "status": "completed"
    },
    "tags": []
   },
   "source": [
    "# Train"
   ]
  },
  {
   "cell_type": "code",
   "execution_count": 28,
   "metadata": {
    "execution": {
     "iopub.execute_input": "2020-12-21T02:58:12.099273Z",
     "iopub.status.busy": "2020-12-21T02:58:12.098634Z",
     "iopub.status.idle": "2020-12-21T02:58:12.104197Z",
     "shell.execute_reply": "2020-12-21T02:58:12.103579Z"
    },
    "papermill": {
     "duration": 0.040608,
     "end_time": "2020-12-21T02:58:12.104292",
     "exception": false,
     "start_time": "2020-12-21T02:58:12.063684",
     "status": "completed"
    },
    "tags": []
   },
   "outputs": [],
   "source": [
    "params = {\n",
    "    'objective': 'binary',\n",
    "    'seed': 42,\n",
    "    'metric': 'auc',\n",
    "    'learning_rate': 0.05,\n",
    "    'max_bin': 800,\n",
    "    'num_leaves': 80\n",
    "}"
   ]
  },
  {
   "cell_type": "code",
   "execution_count": 29,
   "metadata": {
    "execution": {
     "iopub.execute_input": "2020-12-21T02:58:12.188689Z",
     "iopub.status.busy": "2020-12-21T02:58:12.188035Z",
     "iopub.status.idle": "2020-12-21T02:58:22.354102Z",
     "shell.execute_reply": "2020-12-21T02:58:22.353214Z"
    },
    "papermill": {
     "duration": 10.214342,
     "end_time": "2020-12-21T02:58:22.354212",
     "exception": false,
     "start_time": "2020-12-21T02:58:12.139870",
     "status": "completed"
    },
    "tags": []
   },
   "outputs": [],
   "source": [
    "if FULL_TRAIN:\n",
    "    X_train = np.ndarray(shape=(len(train_index), len(features)), dtype=np.float32)\n",
    "\n",
    "    for idx, feature in enumerate(features):\n",
    "        X_train[:,idx] = features_dict[feature].astype(np.float32).reshape(-1)\n",
    "        del features_dict[feature]\n",
    "    y_train = answered_correctly_array.astype(np.float32)\n",
    "    tr_data = lgb.Dataset(X_train, label=y_train)\n",
    "else:\n",
    "    X_train = np.ndarray(shape=(len(train_index), len(features)), dtype=np.float32)\n",
    "    X_valid = np.ndarray(shape=(len(valid_index), len(features)), dtype=np.float32)\n",
    "\n",
    "    for idx, feature in enumerate(features):\n",
    "        X_train[:,idx] = features_dict[feature][train_index].astype(np.float32).reshape(-1)\n",
    "        X_valid[:,idx] = features_dict[feature][valid_index].astype(np.float32).reshape(-1)\n",
    "        del features_dict[feature]\n",
    "    y_train = answered_correctly_array[train_index].astype(np.float32)\n",
    "    y_valid = answered_correctly_array[valid_index].astype(np.float32)\n",
    "\n",
    "    tr_data = lgb.Dataset(X_train, label=y_train)\n",
    "    va_data = lgb.Dataset(X_valid, label=y_valid)"
   ]
  },
  {
   "cell_type": "code",
   "execution_count": 30,
   "metadata": {
    "execution": {
     "iopub.execute_input": "2020-12-21T02:58:22.421277Z",
     "iopub.status.busy": "2020-12-21T02:58:22.420693Z",
     "iopub.status.idle": "2020-12-21T02:58:23.056663Z",
     "shell.execute_reply": "2020-12-21T02:58:23.055723Z"
    },
    "papermill": {
     "duration": 0.672195,
     "end_time": "2020-12-21T02:58:23.056770",
     "exception": false,
     "start_time": "2020-12-21T02:58:22.384575",
     "status": "completed"
    },
    "tags": []
   },
   "outputs": [],
   "source": [
    "import optuna\n",
    "from optuna import Trial\n",
    "from sklearn.metrics import roc_auc_score\n",
    "\n",
    "def objective(trial: Trial, fast_check=True, target_meter=0, return_info=False):      \n",
    "    params = {\n",
    "        'objective': 'binary',\n",
    "        'seed': 42,\n",
    "        'metric': 'auc',\n",
    "        'learning_rate': 0.05,\n",
    "        'max_bin': 800,\n",
    "        #'num_leaves': 80\n",
    "        #'num_leaves': trial.suggest_int('num_leaves', 2, 128),\n",
    "        #'max_depth': trial.suggest_int('max_depth', 1, 10),\n",
    "        'learning_rate': trial.suggest_uniform('learning_rate', 0.01, 0.1),\n",
    "        #'lambda_l1': trial.suggest_loguniform('lambda_l1', 1e-8, 10.0),\n",
    "        #'lambda_l2': trial.suggest_loguniform('lambda_l2', 1e-8, 10.0),\n",
    "        #\"bagging_freq\": 5,\n",
    "        #\"bagging_fraction\": trial.suggest_uniform('bagging_fraction', 0.1, 1.0),\n",
    "        #\"feature_fraction\": trial.suggest_uniform('feature_fraction', 0.4, 1.0),\n",
    "    }\n",
    "    \n",
    "    model = lgb.train(params, tr_data ,valid_sets=[tr_data, va_data],\n",
    "           num_boost_round=1950,early_stopping_rounds=15,verbose_eval = 50)\n",
    "    valid_predict = model.predict(X_valid, num_iteration = model.best_iteration)\n",
    "    valid_score = roc_auc_score(y_valid, valid_predict)\n",
    "    \n",
    "    return valid_score\n",
    "\n",
    "#study = optuna.create_study(direction='maximize') #maximize or minimize\n",
    "#study.optimize(objective, n_trials=3)\n",
    "#print('Best trial: score {}, params {}'.format(study.best_trial.value, study.best_trial.params))"
   ]
  },
  {
   "cell_type": "code",
   "execution_count": 31,
   "metadata": {
    "execution": {
     "iopub.execute_input": "2020-12-21T02:58:23.118048Z",
     "iopub.status.busy": "2020-12-21T02:58:23.117241Z",
     "iopub.status.idle": "2020-12-21T05:07:26.492922Z",
     "shell.execute_reply": "2020-12-21T05:07:26.494077Z"
    },
    "papermill": {
     "duration": 7743.408175,
     "end_time": "2020-12-21T05:07:26.494323",
     "exception": false,
     "start_time": "2020-12-21T02:58:23.086148",
     "status": "completed"
    },
    "tags": []
   },
   "outputs": [
    {
     "name": "stdout",
     "output_type": "stream",
     "text": [
      "training starts\n"
     ]
    }
   ],
   "source": [
    "print(\"training starts\")\n",
    "if FULL_TRAIN:\n",
    "    model = lgb.train(\n",
    "        params, \n",
    "        tr_data, \n",
    "        num_boost_round=3000,\n",
    "        valid_sets=None, \n",
    "        )\n",
    "    del X_train, y_train\n",
    "else:\n",
    "    model = lgb.train(\n",
    "        params, \n",
    "        tr_data, \n",
    "        num_boost_round= 1900,\n",
    "        valid_sets=[tr_data, va_data], \n",
    "        early_stopping_rounds=15,\n",
    "        verbose_eval=50\n",
    "        )\n",
    "    del X_train, y_train, X_valid, y_valid"
   ]
  },
  {
   "cell_type": "markdown",
   "metadata": {
    "papermill": {
     "duration": 0.039019,
     "end_time": "2020-12-21T05:07:26.578272",
     "exception": false,
     "start_time": "2020-12-21T05:07:26.539253",
     "status": "completed"
    },
    "tags": []
   },
   "source": [
    "# Inference"
   ]
  },
  {
   "cell_type": "code",
   "execution_count": 32,
   "metadata": {
    "execution": {
     "iopub.execute_input": "2020-12-21T05:07:26.647500Z",
     "iopub.status.busy": "2020-12-21T05:07:26.646983Z",
     "iopub.status.idle": "2020-12-21T05:07:26.650230Z",
     "shell.execute_reply": "2020-12-21T05:07:26.649696Z"
    },
    "papermill": {
     "duration": 0.042147,
     "end_time": "2020-12-21T05:07:26.650319",
     "exception": false,
     "start_time": "2020-12-21T05:07:26.608172",
     "status": "completed"
    },
    "tags": []
   },
   "outputs": [],
   "source": [
    "env = riiideducation.make_env()\n",
    "iter_test = env.iter_test()\n",
    "prior_test_df = None"
   ]
  },
  {
   "cell_type": "code",
   "execution_count": 33,
   "metadata": {
    "execution": {
     "iopub.execute_input": "2020-12-21T05:07:26.739556Z",
     "iopub.status.busy": "2020-12-21T05:07:26.728796Z",
     "iopub.status.idle": "2020-12-21T05:07:27.495656Z",
     "shell.execute_reply": "2020-12-21T05:07:27.494661Z"
    },
    "papermill": {
     "duration": 0.815534,
     "end_time": "2020-12-21T05:07:27.495834",
     "exception": false,
     "start_time": "2020-12-21T05:07:26.680300",
     "status": "completed"
    },
    "tags": []
   },
   "outputs": [
    {
     "name": "stdout",
     "output_type": "stream",
     "text": [
      "CPU times: user 1.35 s, sys: 53.9 ms, total: 1.4 s\n",
      "Wall time: 740 ms\n"
     ]
    }
   ],
   "source": [
    "%%time\n",
    "for (test_df, sample_prediction_df) in iter_test:\n",
    "    if prior_test_df is not None:\n",
    "        prior_test_df[target] = eval(test_df['prior_group_answers_correct'].iloc[0])\n",
    "        prior_test_df = prior_test_df[prior_test_df[target] != -1].reset_index(drop=True)\n",
    "        \n",
    "        user_ids = prior_test_df['user_id'].values\n",
    "        content_ids = prior_test_df['content_id'].values\n",
    "        targets = prior_test_df[target].values\n",
    "         \n",
    "        for user_id, content_id, answered_correctly, first_attempt_ornot, prior_explanation, prior_point, prior_community in zip(user_ids, content_ids, \n",
    "                                                            targets, \n",
    "                                                            prior_f_attempt_arrays,\n",
    "                                                            p_prior_question_had_explanation,\n",
    "                                                            prior_point_array,\n",
    "                                                            prior_community_arrays):\n",
    "            \n",
    "            user_sum_dict[user_id] += answered_correctly\n",
    "            user_count_dict[user_id] += 1\n",
    "            content_sum_dict[content_id] += answered_correctly\n",
    "            content_count_dict[content_id] += 1\n",
    "            user_unique_dict[user_id] += first_attempt_ornot\n",
    "            user_prior_question_had_explanation_sum_dict[user_id] += prior_explanation\n",
    "            user_point_sum_dict[user_id] += prior_point * answered_correctly\n",
    "            if len(user_last7_answer_dict[user_id])==7:\n",
    "                user_last7_answer_dict[user_id] = np.concatenate([user_last7_answer_dict[user_id],[answered_correctly]])[1:]\n",
    "            else:\n",
    "                user_last7_answer_dict[user_id] = np.concatenate([user_last7_answer_dict[user_id],[answered_correctly]])\n",
    "            \n",
    "            user_community_correct_dict[user_id][prior_community] += answered_correctly\n",
    "            user_community_count_dict[user_id][prior_community] += 1\n",
    "            community_count_dict[prior_community] += 1            \n",
    "            #if answered_correctly == 1:\n",
    "            #    continuous_correct_dict[user_id] += 1\n",
    "            #    continuous_incorrect_dict[user_id] = 0\n",
    "            #else:\n",
    "            #    continuous_correct_dict[user_id] = 0\n",
    "            #    continuous_incorrect_dict[user_id] += 1\n",
    "            \n",
    "    prior_test_df = test_df.copy()\n",
    "           \n",
    "    test_df = test_df[test_df['content_type_id'] == 0].reset_index(drop=True)\n",
    "    test_df = pd.merge(test_df, questions_df, left_on='content_id', right_on='question_id', how='left', right_index=True).reset_index(drop=True)\n",
    "    test_df['prior_question_had_explanation'] = test_df['prior_question_had_explanation'].fillna(False).astype('bool')\n",
    "    test_df['prior_question_elapsed_time'] = test_df['prior_question_elapsed_time'].fillna(0)\n",
    "\n",
    "    p_prior_question_had_explanation = test_df['prior_question_had_explanation'].values\n",
    "    prior_community_arrays = test_df['community'].values\n",
    "    \n",
    "    user_sum = np.zeros(len(test_df), dtype=np.int16)\n",
    "    user_count = np.zeros(len(test_df), dtype=np.int16)\n",
    "    content_sum = np.zeros(len(test_df), dtype=np.int32)\n",
    "    content_count = np.zeros(len(test_df), dtype=np.int32)\n",
    "    part_count = np.zeros(len(test_df), dtype=np.int32)\n",
    "    first_attempt_values = []\n",
    "    user_unique_count = np.zeros(len(test_df), dtype=np.int32)\n",
    "    user_prior_question_had_explanation_sum = np.zeros(len(test_df), dtype=np.int32)\n",
    "    got_point_array = np.zeros(len(test_df), dtype=np.float32)\n",
    "    user_last7_accuracy_array = np.zeros(len(test_df), dtype=np.float32)\n",
    "    timediff_array = np.zeros(len(test_df), dtype = np.int64)\n",
    "    timediff2_array = np.zeros(len(test_df), dtype = np.int64)\n",
    "    timediff3_array = np.zeros(len(test_df), dtype = np.int64)\n",
    "    timediff4_array = np.zeros(len(test_df), dtype = np.int64)\n",
    "    tag_acc_array = np.zeros(len(test_df), dtype=np.float32)\n",
    "    community_count_array = np.zeros(len(test_df), dtype=np.int32)\n",
    "    time_dd_array = np.zeros(len(test_df), dtype = np.int64)\n",
    "    #user_con_correct_array = np.zeros(len(test_df), dtype=np.int16)\n",
    "    #user_con_incorrect_array = np.zeros(len(test_df), dtype=np.int16)\n",
    "    \n",
    "    for i, (user_id, content_id, timestamp, community, part) in enumerate(zip(test_df['user_id'].values, \n",
    "                                                             test_df['content_id'].values,\n",
    "                                                             test_df['timestamp'].values,\n",
    "                                                             test_df['community'].values,\n",
    "                                                             test_df['part'].values)):\n",
    "        user_sum[i] = user_sum_dict[user_id]\n",
    "        user_count[i] = user_count_dict[user_id]\n",
    "        content_sum[i] = content_sum_dict[content_id]\n",
    "        content_count[i] = content_count_dict[content_id]\n",
    "        part_count[i] = user_part_count_dict[user_id][part] + 1\n",
    "        user_part_count_dict[user_id][part] += 1\n",
    "        first_attempt_values.append(user_content_dict[user_id][content_id])\n",
    "        user_content_dict[user_id][content_id] = False             \n",
    "        user_unique_count[i] = user_unique_dict[user_id]\n",
    "        user_prior_question_had_explanation_sum[i] = user_prior_question_had_explanation_sum_dict[user_id]\n",
    "        got_point_array[i] = user_point_sum_dict[user_id]\n",
    "        \n",
    "        if len(user_last7_answer_dict[user_id])==7:\n",
    "            user_last7_accuracy_array[i] = user_last7_answer_dict[user_id].mean()\n",
    "        else:\n",
    "            user_last7_accuracy_array[i] = np.nan\n",
    "            \n",
    "        if len(user_timestamp_max_dict[user_id]) ==0:\n",
    "            timediff_array[i] = -1\n",
    "            timediff2_array[i] = -1\n",
    "            timediff3_array[i] = -1\n",
    "            timediff4_array[i] = -1\n",
    "            time_dd_array[i] = -1\n",
    "            user_timestamp_max_dict[user_id] = np.concatenate([user_timestamp_max_dict[user_id],[timestamp]])\n",
    "            \n",
    "        elif len(user_timestamp_max_dict[user_id]) ==1:\n",
    "            timediff_array[i] = timestamp - user_timestamp_max_dict[user_id][0]\n",
    "            timediff2_array[i] = -1\n",
    "            timediff3_array[i] = -1\n",
    "            timediff4_array[i] = -1\n",
    "            time_dd_array[i] = -1\n",
    "            user_timestamp_max_dict[user_id] = np.concatenate([user_timestamp_max_dict[user_id],[timestamp]])\n",
    "            \n",
    "        elif len(user_timestamp_max_dict[user_id]) ==2:\n",
    "            timediff_array[i] = timestamp - user_timestamp_max_dict[user_id][1]\n",
    "            timediff2_array[i] = timestamp - user_timestamp_max_dict[user_id][0]\n",
    "            timediff3_array[i] = -1\n",
    "            timediff4_array[i] = -1\n",
    "            time_dd_array[i] = timediff2_array[i] - timediff_array[i]\n",
    "            user_timestamp_max_dict[user_id] = np.concatenate([user_timestamp_max_dict[user_id],[timestamp]])  \n",
    "            \n",
    "        elif len(user_timestamp_max_dict[user_id]) ==3:\n",
    "            timediff_array[i] = timestamp - user_timestamp_max_dict[user_id][2]\n",
    "            timediff2_array[i] = timestamp - user_timestamp_max_dict[user_id][1]\n",
    "            timediff3_array[i] = timestamp - user_timestamp_max_dict[user_id][0]\n",
    "            timediff4_array[i] = -1\n",
    "            time_dd_array[i] = timediff2_array[i] - timediff_array[i]\n",
    "            user_timestamp_max_dict[user_id] = np.concatenate([user_timestamp_max_dict[user_id],[timestamp]]) \n",
    "    \n",
    "        else:\n",
    "            timediff_array[i] = timestamp - user_timestamp_max_dict[user_id][3]\n",
    "            timediff2_array[i] = timestamp - user_timestamp_max_dict[user_id][2]\n",
    "            timediff3_array[i] = timestamp - user_timestamp_max_dict[user_id][1]\n",
    "            timediff4_array[i] = timestamp - user_timestamp_max_dict[user_id][0]\n",
    "            time_dd_array[i] = timediff2_array[i] - timediff_array[i]\n",
    "            user_timestamp_max_dict[user_id] = np.concatenate([user_timestamp_max_dict[user_id],[timestamp]])[1:]  \n",
    "            \n",
    "        if user_community_count_dict[user_id][community] == 0:\n",
    "            tag_acc_array[i] = -1\n",
    "        else:\n",
    "            tag_acc_array[i] = user_community_correct_dict[user_id][community] / user_community_count_dict[user_id][community]\n",
    "            \n",
    "        community_count_array[i] = community_count_dict[community]\n",
    "        \n",
    "        #user_con_correct_array[i] = continuous_correct_dict[user_id]\n",
    "        #user_con_incorrect_array[i] = continuous_incorrect_dict[user_id]\n",
    "        \n",
    "    test_df['user_correctness'] = user_sum / user_count\n",
    "    test_df['content_count'] = content_count\n",
    "    test_df['content_id'] = content_sum / content_count\n",
    "    test_df['count'] = 1\n",
    "    test_df['count'] = test_df.groupby(\"user_id\")[\"count\"].cumsum()\n",
    "    test_df['count'] += user_count\n",
    "    test_df['part_count'] = part_count\n",
    "    test_df['part_ratio'] = part_count / test_df['count'].values\n",
    "    test_df[\"first_attempt\"] = first_attempt_values\n",
    "    test_df[\"unique_attempt\"] = test_df.groupby(\"user_id\")[\"first_attempt\"].cumsum()\n",
    "    test_df[\"unique_attempt\"] += user_unique_count\n",
    "    test_df['prior_question_had_explanation_mean'] = user_prior_question_had_explanation_sum / user_count\n",
    "    test_df['got_point'] = got_point_array / user_count\n",
    "    test_df['answered_correctly_last7'] = user_last7_accuracy_array\n",
    "    test_df['timediff'] = timediff_array\n",
    "    test_df['timediff2'] = timediff2_array\n",
    "    test_df['timediff3'] = timediff3_array\n",
    "    test_df['timediff4'] = timediff4_array\n",
    "    test_df['tag_acc'] = tag_acc_array\n",
    "    test_df['community_count'] = community_count_array\n",
    "    test_df['time_dd'] = time_dd_array\n",
    "    #test_df['continuous_correct'] = user_con_correct_array\n",
    "    #test_df['continuous_incorrect'] = user_con_incorrect_array\n",
    "    \n",
    "    prior_f_attempt_arrays = test_df['first_attempt'].values\n",
    "    prior_point_array = 1 / (test_df.content_id.values + 0.1)\n",
    "    \n",
    "    test_df[target] = model.predict(test_df[features])\n",
    "    env.predict(test_df[['row_id', target]])"
   ]
  },
  {
   "cell_type": "code",
   "execution_count": null,
   "metadata": {
    "papermill": {
     "duration": 0.032164,
     "end_time": "2020-12-21T05:07:27.561505",
     "exception": false,
     "start_time": "2020-12-21T05:07:27.529341",
     "status": "completed"
    },
    "tags": []
   },
   "outputs": [],
   "source": []
  }
 ],
 "metadata": {
  "kernelspec": {
   "display_name": "Python 3",
   "language": "python",
   "name": "python3"
  },
  "language_info": {
   "codemirror_mode": {
    "name": "ipython",
    "version": 3
   },
   "file_extension": ".py",
   "mimetype": "text/x-python",
   "name": "python",
   "nbconvert_exporter": "python",
   "pygments_lexer": "ipython3",
   "version": "3.7.6"
  },
  "papermill": {
   "duration": 8685.890151,
   "end_time": "2020-12-21T05:07:28.000559",
   "environment_variables": {},
   "exception": null,
   "input_path": "__notebook__.ipynb",
   "output_path": "__notebook__.ipynb",
   "parameters": {},
   "start_time": "2020-12-21T02:42:42.110408",
   "version": "2.1.0"
  }
 },
 "nbformat": 4,
 "nbformat_minor": 4
}
