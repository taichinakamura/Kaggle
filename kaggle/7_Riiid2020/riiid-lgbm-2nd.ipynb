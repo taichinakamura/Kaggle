{
 "cells": [
  {
   "cell_type": "markdown",
   "metadata": {
    "papermill": {
     "duration": 0.022419,
     "end_time": "2020-12-25T09:59:47.711112",
     "exception": false,
     "start_time": "2020-12-25T09:59:47.688693",
     "status": "completed"
    },
    "tags": []
   },
   "source": [
    "- renew timediff by bundle_id, not question"
   ]
  },
  {
   "cell_type": "code",
   "execution_count": 1,
   "metadata": {
    "_cell_guid": "b1076dfc-b9ad-4769-8c92-a6c4dae69d19",
    "_uuid": "8f2839f25d086af736a60e9eeb907d3b93b6e0e5",
    "execution": {
     "iopub.execute_input": "2020-12-25T09:59:47.756373Z",
     "iopub.status.busy": "2020-12-25T09:59:47.755860Z",
     "iopub.status.idle": "2020-12-25T10:00:16.247817Z",
     "shell.execute_reply": "2020-12-25T10:00:16.247128Z"
    },
    "papermill": {
     "duration": 28.516593,
     "end_time": "2020-12-25T10:00:16.247930",
     "exception": false,
     "start_time": "2020-12-25T09:59:47.731337",
     "status": "completed"
    },
    "tags": []
   },
   "outputs": [],
   "source": [
    "!pip install ../input/python-datatable/datatable-0.11.0-cp37-cp37m-manylinux2010_x86_64.whl > /dev/null 2>&1"
   ]
  },
  {
   "cell_type": "code",
   "execution_count": 2,
   "metadata": {
    "_cell_guid": "79c7e3d0-c299-4dcb-8224-4455121ee9b0",
    "_uuid": "d629ff2d2480ee46fbb7e2d37f6b5fab8052498a",
    "execution": {
     "iopub.execute_input": "2020-12-25T10:00:16.296197Z",
     "iopub.status.busy": "2020-12-25T10:00:16.295681Z",
     "iopub.status.idle": "2020-12-25T10:00:17.846898Z",
     "shell.execute_reply": "2020-12-25T10:00:17.846272Z"
    },
    "papermill": {
     "duration": 1.578189,
     "end_time": "2020-12-25T10:00:17.847014",
     "exception": false,
     "start_time": "2020-12-25T10:00:16.268825",
     "status": "completed"
    },
    "tags": []
   },
   "outputs": [
    {
     "data": {
      "text/html": [
       "<style type='text/css'>\n",
       ".datatable table.frame { margin-bottom: 0; }\n",
       ".datatable table.frame thead { border-bottom: none; }\n",
       ".datatable table.frame tr.coltypes td {  color: #FFFFFF;  line-height: 6px;  padding: 0 0.5em;}\n",
       ".datatable .bool    { background: #DDDD99; }\n",
       ".datatable .object  { background: #565656; }\n",
       ".datatable .int     { background: #5D9E5D; }\n",
       ".datatable .float   { background: #4040CC; }\n",
       ".datatable .str     { background: #CC4040; }\n",
       ".datatable .row_index {  background: var(--jp-border-color3);  border-right: 1px solid var(--jp-border-color0);  color: var(--jp-ui-font-color3);  font-size: 9px;}\n",
       ".datatable .frame tr.coltypes .row_index {  background: var(--jp-border-color0);}\n",
       ".datatable th:nth-child(2) { padding-left: 12px; }\n",
       ".datatable .hellipsis {  color: var(--jp-cell-editor-border-color);}\n",
       ".datatable .vellipsis {  background: var(--jp-layout-color0);  color: var(--jp-cell-editor-border-color);}\n",
       ".datatable .na {  color: var(--jp-cell-editor-border-color);  font-size: 80%;}\n",
       ".datatable .footer { font-size: 9px; }\n",
       ".datatable .frame_dimensions {  background: var(--jp-border-color3);  border-top: 1px solid var(--jp-border-color0);  color: var(--jp-ui-font-color3);  display: inline-block;  opacity: 0.6;  padding: 1px 10px 1px 5px;}\n",
       ".datatable .frame thead tr.colnames {  background-image: url('data:image/png;base64,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');  background-repeat: repeat-x;  background-size: 14px;  height: 28px;}\n",
       "</style>\n"
      ],
      "text/plain": [
       "<IPython.core.display.HTML object>"
      ]
     },
     "metadata": {},
     "output_type": "display_data"
    }
   ],
   "source": [
    "import gc\n",
    "import random\n",
    "import pickle\n",
    "import numpy as np\n",
    "import pandas as pd\n",
    "from numba import jit\n",
    "import riiideducation\n",
    "import datatable as dt\n",
    "import lightgbm as lgb\n",
    "from bitarray import bitarray\n",
    "from functools import partial\n",
    "from collections import defaultdict\n",
    "\n",
    "_ = np.seterr(divide='ignore', invalid='ignore')\n",
    "pd.set_option(\"max_rows\", 100)\n",
    "pd.set_option(\"max_columns\", 100)\n",
    "\n",
    "random.seed(1)"
   ]
  },
  {
   "cell_type": "code",
   "execution_count": 3,
   "metadata": {
    "execution": {
     "iopub.execute_input": "2020-12-25T10:00:17.903777Z",
     "iopub.status.busy": "2020-12-25T10:00:17.903188Z",
     "iopub.status.idle": "2020-12-25T10:00:17.906010Z",
     "shell.execute_reply": "2020-12-25T10:00:17.905485Z"
    },
    "papermill": {
     "duration": 0.034228,
     "end_time": "2020-12-25T10:00:17.906093",
     "exception": false,
     "start_time": "2020-12-25T10:00:17.871865",
     "status": "completed"
    },
    "tags": []
   },
   "outputs": [],
   "source": [
    "def make_bitarray():\n",
    "    a = bitarray(32737, endian='little')\n",
    "    a.setall(True)   \n",
    "    return a\n",
    "\n",
    "def clear_mem():\n",
    "    %reset -f out\n",
    "    %reset -f in\n",
    "    gc.collect()"
   ]
  },
  {
   "cell_type": "code",
   "execution_count": 4,
   "metadata": {
    "execution": {
     "iopub.execute_input": "2020-12-25T10:00:17.951709Z",
     "iopub.status.busy": "2020-12-25T10:00:17.951172Z",
     "iopub.status.idle": "2020-12-25T10:00:17.953425Z",
     "shell.execute_reply": "2020-12-25T10:00:17.952934Z"
    },
    "papermill": {
     "duration": 0.026162,
     "end_time": "2020-12-25T10:00:17.953507",
     "exception": false,
     "start_time": "2020-12-25T10:00:17.927345",
     "status": "completed"
    },
    "tags": []
   },
   "outputs": [],
   "source": [
    "FULL_TRAIN = False\n",
    "CV_SCHEME = \"original\" #\"time\" "
   ]
  },
  {
   "cell_type": "markdown",
   "metadata": {
    "papermill": {
     "duration": 0.02101,
     "end_time": "2020-12-25T10:00:17.995467",
     "exception": false,
     "start_time": "2020-12-25T10:00:17.974457",
     "status": "completed"
    },
    "tags": []
   },
   "source": [
    "# Preprocess"
   ]
  },
  {
   "cell_type": "code",
   "execution_count": 5,
   "metadata": {
    "execution": {
     "iopub.execute_input": "2020-12-25T10:00:18.039611Z",
     "iopub.status.busy": "2020-12-25T10:00:18.039053Z",
     "iopub.status.idle": "2020-12-25T10:00:18.043797Z",
     "shell.execute_reply": "2020-12-25T10:00:18.043264Z"
    },
    "papermill": {
     "duration": 0.027538,
     "end_time": "2020-12-25T10:00:18.043886",
     "exception": false,
     "start_time": "2020-12-25T10:00:18.016348",
     "status": "completed"
    },
    "tags": []
   },
   "outputs": [],
   "source": [
    "data_types_dict = {\n",
    "    'timestamp': 'int64',\n",
    "    'user_id': 'int32', \n",
    "    'content_id': 'int16', \n",
    "    'answered_correctly': 'int8', \n",
    "    'prior_question_elapsed_time': 'float32', \n",
    "    'prior_question_had_explanation': 'bool',\n",
    "}\n",
    "target = 'answered_correctly'"
   ]
  },
  {
   "cell_type": "code",
   "execution_count": 6,
   "metadata": {
    "execution": {
     "iopub.execute_input": "2020-12-25T10:00:18.089274Z",
     "iopub.status.busy": "2020-12-25T10:00:18.088483Z",
     "iopub.status.idle": "2020-12-25T10:01:49.884238Z",
     "shell.execute_reply": "2020-12-25T10:01:49.884689Z"
    },
    "papermill": {
     "duration": 91.819577,
     "end_time": "2020-12-25T10:01:49.884847",
     "exception": false,
     "start_time": "2020-12-25T10:00:18.065270",
     "status": "completed"
    },
    "tags": []
   },
   "outputs": [],
   "source": [
    "train_df = dt.fread('../input/riiid-test-answer-prediction/train.csv', columns=set(data_types_dict.keys())).to_pandas()"
   ]
  },
  {
   "cell_type": "code",
   "execution_count": 7,
   "metadata": {
    "execution": {
     "iopub.execute_input": "2020-12-25T10:01:49.941933Z",
     "iopub.status.busy": "2020-12-25T10:01:49.941275Z",
     "iopub.status.idle": "2020-12-25T10:02:15.561131Z",
     "shell.execute_reply": "2020-12-25T10:02:15.560514Z"
    },
    "papermill": {
     "duration": 25.654416,
     "end_time": "2020-12-25T10:02:15.561235",
     "exception": false,
     "start_time": "2020-12-25T10:01:49.906819",
     "status": "completed"
    },
    "tags": []
   },
   "outputs": [],
   "source": [
    "train_df = train_df[train_df[target] != -1].reset_index(drop=True)\n",
    "\n",
    "train_df['prior_question_had_explanation'] = train_df['prior_question_had_explanation'].fillna(False).astype('int8')\n",
    "train_df['prior_question_elapsed_time'].fillna(0, inplace=True)\n",
    "\n",
    "train_df = train_df.astype(data_types_dict)"
   ]
  },
  {
   "cell_type": "code",
   "execution_count": 8,
   "metadata": {
    "execution": {
     "iopub.execute_input": "2020-12-25T10:02:15.614985Z",
     "iopub.status.busy": "2020-12-25T10:02:15.614439Z",
     "iopub.status.idle": "2020-12-25T10:02:22.478721Z",
     "shell.execute_reply": "2020-12-25T10:02:22.478171Z"
    },
    "papermill": {
     "duration": 6.895577,
     "end_time": "2020-12-25T10:02:22.478826",
     "exception": false,
     "start_time": "2020-12-25T10:02:15.583249",
     "status": "completed"
    },
    "tags": []
   },
   "outputs": [],
   "source": [
    "if CV_SCHEME==\"time\":\n",
    "    max_timestamp_u = train_df[['user_id','timestamp']].groupby(['user_id']).agg(['max']).reset_index()\n",
    "    max_timestamp_u.columns = ['user_id', 'max_time_stamp']\n",
    "    MAX_TIME_STAMP = max_timestamp_u.max_time_stamp.max()\n",
    "\n",
    "    def rand_time(max_time_stamp):\n",
    "        interval = MAX_TIME_STAMP - max_time_stamp\n",
    "        rand_time_stamp = random.randint(0,interval)\n",
    "        return rand_time_stamp\n",
    "\n",
    "    max_timestamp_u['rand_time_stamp'] = max_timestamp_u.max_time_stamp.apply(rand_time)\n",
    "    train_df = train_df.merge(max_timestamp_u, on='user_id', how='left')\n",
    "    train_df['viretual_time_stamp'] = train_df.timestamp + train_df['rand_time_stamp']\n",
    "\n",
    "    del train_df['max_time_stamp']\n",
    "    del train_df['rand_time_stamp']\n",
    "    del max_timestamp_u\n",
    "\n",
    "    train_index = list(train_df['viretual_time_stamp'].nlargest(10000000).index)\n",
    "\n",
    "else:\n",
    "    if FULL_TRAIN:\n",
    "        train_size = 200\n",
    "    else:\n",
    "        train_size = 24\n",
    "        valid_size = 6\n",
    "    \n",
    "    train_index = list(train_df.groupby('user_id').tail(train_size).index)"
   ]
  },
  {
   "cell_type": "code",
   "execution_count": 9,
   "metadata": {
    "execution": {
     "iopub.execute_input": "2020-12-25T10:02:22.527636Z",
     "iopub.status.busy": "2020-12-25T10:02:22.527110Z",
     "iopub.status.idle": "2020-12-25T10:02:29.645959Z",
     "shell.execute_reply": "2020-12-25T10:02:29.646382Z"
    },
    "papermill": {
     "duration": 7.145767,
     "end_time": "2020-12-25T10:02:29.646544",
     "exception": false,
     "start_time": "2020-12-25T10:02:22.500777",
     "status": "completed"
    },
    "tags": []
   },
   "outputs": [],
   "source": [
    "#@jit\n",
    "#def count_by_bundle(T):\n",
    "#    ans = np.zeros(len(T))\n",
    "#    prev_time = -1\n",
    "#    for i in range(len(T)):\n",
    "#        if i == 0:\n",
    "#            ans[i] = 1\n",
    "#        elif prev_time == T[i]:\n",
    "#            ans[i] = ans[i-1]\n",
    "#        else:\n",
    "#            ans[i] = ans[i-1] + 1           \n",
    "#        prev_time = T[i]\n",
    "#    return ans\n",
    "\n",
    "#count_array = train_df.groupby(\"user_id\").apply(lambda x: count_by_bundle(x[\"timestamp\"].values))\n",
    "#count_array = np.hstack(count_array)\n",
    "#count_array = count_array[train_index]\n",
    "\n",
    "train_df[\"count\"] = 1\n",
    "\n",
    "count_array = train_df.groupby(\"user_id\")[\"count\"].cumsum().values\n",
    "count_array = count_array[train_index]\n",
    "train_df.drop(\"count\", axis=1, inplace=True)"
   ]
  },
  {
   "cell_type": "code",
   "execution_count": 10,
   "metadata": {
    "execution": {
     "iopub.execute_input": "2020-12-25T10:02:29.693822Z",
     "iopub.status.busy": "2020-12-25T10:02:29.692938Z",
     "iopub.status.idle": "2020-12-25T10:06:15.167598Z",
     "shell.execute_reply": "2020-12-25T10:06:15.167077Z"
    },
    "papermill": {
     "duration": 225.498976,
     "end_time": "2020-12-25T10:06:15.167719",
     "exception": false,
     "start_time": "2020-12-25T10:02:29.668743",
     "status": "completed"
    },
    "tags": []
   },
   "outputs": [],
   "source": [
    "@jit\n",
    "def timediff_by_bundle(T):\n",
    "    ans = np.zeros(len(T))\n",
    "    prev_time = 0\n",
    "    for i in range(len(T)): \n",
    "        if i == 0:\n",
    "            ans[i] = np.nan\n",
    "        elif prev_time == T[i]:\n",
    "            ans[i] = ans[i-1]\n",
    "        else:\n",
    "            ans[i] = T[i] - prev_time\n",
    "        prev_time = T[i]\n",
    "    return ans\n",
    "\n",
    "timediff_array = train_df.groupby(\"user_id\").apply(lambda x: timediff_by_bundle(x[\"timestamp\"].values))\n",
    "timediff_array = np.hstack(timediff_array)#.astype(\"int64\")\n",
    "timediff_array = timediff_array[train_index]\n",
    "\n",
    "@jit\n",
    "def timediff2_by_bundle(T):\n",
    "    ans = np.zeros(len(T))\n",
    "    prev_time = [-1, -1]\n",
    "    for i in range(len(T)): \n",
    "        if i == 0 or i == 1:\n",
    "            ans[i] = np.nan     \n",
    "        elif prev_time[1] == T[i]:\n",
    "            ans[i] = ans[i-1]\n",
    "        else:\n",
    "            ans[i] = T[i]-prev_time[0]\n",
    "            \n",
    "        if prev_time[0] == -1:\n",
    "            prev_time[0] = T[i]\n",
    "        elif prev_time[0] != T[i] and prev_time[1] == -1:\n",
    "            prev_time[1] = T[i]\n",
    "        elif T[i] not in prev_time:\n",
    "            prev_time[0] = prev_time[1]\n",
    "            prev_time[1] = T[i]\n",
    "    return ans\n",
    "\n",
    "timediff2_array = train_df.groupby(\"user_id\").apply(lambda x: timediff2_by_bundle(x[\"timestamp\"].values))\n",
    "timediff2_array = np.hstack(timediff2_array)#.astype(\"int64\")\n",
    "timediff2_array = timediff2_array[train_index]\n",
    "\n",
    "@jit\n",
    "def timediff3_by_bundle(T):\n",
    "    ans = np.zeros(len(T))\n",
    "    prev_time = [-1, -1, -1]\n",
    "    for i in range(len(T)): \n",
    "        if i == 0 or i == 1 or i ==2:\n",
    "            ans[i] = np.nan\n",
    "        elif prev_time[2] == T[i]:\n",
    "            ans[i] = ans[i-1]\n",
    "        else:\n",
    "            ans[i] = T[i]-prev_time[0]\n",
    "            \n",
    "        if prev_time[0] == -1:\n",
    "            prev_time[0] = T[i]\n",
    "        elif prev_time[0] != T[i] and prev_time[1] == -1:\n",
    "            prev_time[1] = T[i]\n",
    "        elif prev_time[1] != T[i] and prev_time[2] == -1:\n",
    "            prev_time[2] = T[i]\n",
    "        elif T[i] not in prev_time:\n",
    "            prev_time[0] = prev_time[1]\n",
    "            prev_time[1] = prev_time[2]\n",
    "            prev_time[2] = T[i]\n",
    "    return ans\n",
    "\n",
    "timediff3_array = train_df.groupby(\"user_id\").apply(lambda x: timediff3_by_bundle(x[\"timestamp\"].values))\n",
    "timediff3_array = np.hstack(timediff3_array)#.astype(\"int64\")\n",
    "timediff3_array = timediff3_array[train_index]\n",
    "\n",
    "@jit\n",
    "def timediff4_by_bundle(T):\n",
    "    ans = np.zeros(len(T))\n",
    "    prev_time = [-1, -1, -1, -1]\n",
    "    for i in range(len(T)): \n",
    "        if i == 0 or i == 1 or i ==2 or i == 3:\n",
    "            ans[i] = np.nan     \n",
    "        elif prev_time[3] == T[i]:\n",
    "            ans[i] = ans[i-1]\n",
    "        else:\n",
    "            ans[i] = T[i]- prev_time[0]\n",
    "            \n",
    "        if prev_time[0] == -1:\n",
    "            prev_time[0] = T[i]\n",
    "        elif prev_time[0] != T[i] and prev_time[1] == -1:\n",
    "            prev_time[1] = T[i]\n",
    "        elif prev_time[1] != T[i] and prev_time[2] == -1:\n",
    "            prev_time[2] = T[i]\n",
    "        elif prev_time[2] != T[i] and prev_time[3] == -1:\n",
    "            prev_time[3] = T[i]\n",
    "        elif T[i] not in prev_time:\n",
    "            prev_time[0] = prev_time[1]\n",
    "            prev_time[1] = prev_time[2]\n",
    "            prev_time[2] = prev_time[3]\n",
    "            prev_time[3] = T[i]\n",
    "    return ans\n",
    "\n",
    "timediff4_array = train_df.groupby(\"user_id\").apply(lambda x: timediff4_by_bundle(x[\"timestamp\"].values))\n",
    "timediff4_array = np.hstack(timediff4_array)#.astype(\"int64\")\n",
    "timediff4_array = timediff4_array[train_index]\n",
    "\n",
    "user_timestamp_max_dict = train_df.groupby(\"user_id\")[\"timestamp\"].apply(lambda x: x.drop_duplicates()[-4:].values).to_dict(defaultdict(partial(np.ndarray, 0, dtype=\"int64\")))\n",
    "\n",
    "time_dd_array = timediff2_array - timediff_array\n",
    "timediff_array = np.nan_to_num(timediff_array, nan=-1)\n",
    "timediff2_array = np.nan_to_num(timediff2_array, nan=-1)\n",
    "timediff3_array = np.nan_to_num(timediff3_array, nan=-1)\n",
    "timediff4_array = np.nan_to_num(timediff4_array, nan=-1)\n",
    "time_dd_array = np.nan_to_num(time_dd_array, nan=-1)"
   ]
  },
  {
   "cell_type": "code",
   "execution_count": 11,
   "metadata": {
    "execution": {
     "iopub.execute_input": "2020-12-25T10:06:18.474114Z",
     "iopub.status.busy": "2020-12-25T10:06:16.250007Z",
     "iopub.status.idle": "2020-12-25T10:06:18.504469Z",
     "shell.execute_reply": "2020-12-25T10:06:18.504877Z"
    },
    "papermill": {
     "duration": 3.314865,
     "end_time": "2020-12-25T10:06:18.505009",
     "exception": false,
     "start_time": "2020-12-25T10:06:15.190144",
     "status": "completed"
    },
    "tags": []
   },
   "outputs": [],
   "source": [
    "# prior_question_elapsed_time\n",
    "prior_question_elapsed_time_array = train_df.prior_question_elapsed_time.values\n",
    "train_df.drop(\"prior_question_elapsed_time\", axis =1, inplace=True)\n",
    "prior_question_elapsed_time_array = prior_question_elapsed_time_array[train_index]"
   ]
  },
  {
   "cell_type": "code",
   "execution_count": 12,
   "metadata": {
    "execution": {
     "iopub.execute_input": "2020-12-25T10:06:18.560846Z",
     "iopub.status.busy": "2020-12-25T10:06:18.560270Z",
     "iopub.status.idle": "2020-12-25T10:06:33.075080Z",
     "shell.execute_reply": "2020-12-25T10:06:33.075692Z"
    },
    "papermill": {
     "duration": 14.547746,
     "end_time": "2020-12-25T10:06:33.075820",
     "exception": false,
     "start_time": "2020-12-25T10:06:18.528074",
     "status": "completed"
    },
    "tags": []
   },
   "outputs": [],
   "source": [
    "questions_df = pd.read_csv(\n",
    "    '../input/riiid-test-answer-prediction/questions.csv', \n",
    "    usecols=[0, 1, 3], \n",
    "    dtype={'question_id': 'int16', 'bundle_id': 'int16', 'part': 'int8'} \n",
    ")\n",
    "\n",
    "additional_q_df = pd.read_csv('../input/riiid-question-clustering/question_cmnts.csv')\n",
    "questions_df[\"community\"] = additional_q_df[\"community\"].astype('int8')\n",
    "del additional_q_df \n",
    "    \n",
    "train_df = pd.merge(train_df, questions_df, left_on='content_id', right_on='question_id', how='left', right_index=True).reset_index(drop=True)\n",
    "train_df.drop(columns=['question_id'], inplace=True)"
   ]
  },
  {
   "cell_type": "code",
   "execution_count": 13,
   "metadata": {
    "execution": {
     "iopub.execute_input": "2020-12-25T10:06:33.122976Z",
     "iopub.status.busy": "2020-12-25T10:06:33.122448Z",
     "iopub.status.idle": "2020-12-25T10:06:33.156500Z",
     "shell.execute_reply": "2020-12-25T10:06:33.156892Z"
    },
    "papermill": {
     "duration": 0.058584,
     "end_time": "2020-12-25T10:06:33.157005",
     "exception": false,
     "start_time": "2020-12-25T10:06:33.098421",
     "status": "completed"
    },
    "tags": []
   },
   "outputs": [
    {
     "name": "stdout",
     "output_type": "stream",
     "text": [
      "76\n"
     ]
    }
   ],
   "source": [
    "community_num = len(questions_df.community.unique())\n",
    "print(community_num)\n",
    "\n",
    "@jit\n",
    "def tag_accuracy(A, C):\n",
    "    ans = []\n",
    "    community_count = [0] * community_num\n",
    "    community_correct = [0] * community_num\n",
    "    for i in range(len(C)):\n",
    "        if community_count[C[i]]==0:\n",
    "            ans.append(-1)\n",
    "        else:\n",
    "            ans.append(community_correct[C[i]]/community_count[C[i]])\n",
    "        community_count[C[i]] +=1\n",
    "        community_correct[C[i]] += A[i]\n",
    "    return np.array(ans)\n",
    "\n",
    "@jit\n",
    "def tag_correct_last(A, C):\n",
    "    community_correct = [0] * community_num\n",
    "    for i in range(len(C)):\n",
    "        community_correct[C[i]] += A[i]\n",
    "    return np.array(community_correct)\n",
    "\n",
    "@jit\n",
    "def tag_count_last(A, C):\n",
    "    community_count = [0] * community_num\n",
    "    for i in range(len(C)):\n",
    "        community_count[C[i]] +=1\n",
    "    return np.array(community_count)\n",
    "\n",
    "def init_dict():\n",
    "    ans = [0] * community_num\n",
    "    return np.array(ans)"
   ]
  },
  {
   "cell_type": "code",
   "execution_count": 14,
   "metadata": {
    "execution": {
     "iopub.execute_input": "2020-12-25T10:06:33.204284Z",
     "iopub.status.busy": "2020-12-25T10:06:33.203780Z",
     "iopub.status.idle": "2020-12-25T10:08:20.756062Z",
     "shell.execute_reply": "2020-12-25T10:08:20.755514Z"
    },
    "papermill": {
     "duration": 107.576752,
     "end_time": "2020-12-25T10:08:20.756173",
     "exception": false,
     "start_time": "2020-12-25T10:06:33.179421",
     "status": "completed"
    },
    "tags": []
   },
   "outputs": [],
   "source": [
    "tag_acc_array = train_df.groupby(\"user_id\").apply(lambda x: tag_accuracy(x[\"answered_correctly\"].values, x[\"community\"].values))\n",
    "tag_acc_array = np.hstack(tag_acc_array)\n",
    "tag_acc_array = tag_acc_array[train_index]\n",
    "\n",
    "user_community_count_dict = train_df.groupby(\"user_id\").apply(lambda x: tag_count_last(x[\"answered_correctly\"].values, x[\"community\"].values)).to_dict(defaultdict(init_dict))\n",
    "user_community_correct_dict = train_df.groupby(\"user_id\").apply(lambda x: tag_correct_last(x[\"answered_correctly\"].values, x[\"community\"].values)).to_dict(defaultdict(init_dict))\n",
    "    \n",
    "#\n",
    "community_agg = train_df.groupby('community')[target].agg(['count'])\n",
    "community_count_dict = community_agg['count'].astype('int32').to_dict(defaultdict(int))\n",
    "community_count_array = train_df['community'].map(community_agg['count']).astype('int32').values\n",
    "del community_agg\n",
    "community_count_array = community_count_array[train_index]\n",
    "    \n",
    "community_array = train_df[\"community\"].values\n",
    "community_array = community_array[train_index]\n",
    "train_df.drop('community', axis=1, inplace=True)"
   ]
  },
  {
   "cell_type": "code",
   "execution_count": 15,
   "metadata": {
    "execution": {
     "iopub.execute_input": "2020-12-25T10:08:20.809161Z",
     "iopub.status.busy": "2020-12-25T10:08:20.808608Z",
     "iopub.status.idle": "2020-12-25T10:08:35.161054Z",
     "shell.execute_reply": "2020-12-25T10:08:35.160531Z"
    },
    "papermill": {
     "duration": 14.381396,
     "end_time": "2020-12-25T10:08:35.161152",
     "exception": false,
     "start_time": "2020-12-25T10:08:20.779756",
     "status": "completed"
    },
    "tags": []
   },
   "outputs": [],
   "source": [
    "train_df['lag'] = train_df.groupby('user_id')[target].shift()\n",
    "cum = train_df.groupby('user_id')['lag'].agg(['cumsum', 'cumcount'])\n",
    "user_correctness_array = np.array(cum['cumsum'] / cum['cumcount'])\n",
    "user_correctness_array = user_correctness_array[train_index]\n",
    "train_df.drop(columns=['lag'], inplace=True)\n",
    "del cum"
   ]
  },
  {
   "cell_type": "code",
   "execution_count": 16,
   "metadata": {
    "execution": {
     "iopub.execute_input": "2020-12-25T10:08:35.229977Z",
     "iopub.status.busy": "2020-12-25T10:08:35.222646Z",
     "iopub.status.idle": "2020-12-25T10:09:24.500200Z",
     "shell.execute_reply": "2020-12-25T10:09:24.500699Z"
    },
    "papermill": {
     "duration": 49.316015,
     "end_time": "2020-12-25T10:09:24.500877",
     "exception": false,
     "start_time": "2020-12-25T10:08:35.184862",
     "status": "completed"
    },
    "tags": []
   },
   "outputs": [],
   "source": [
    "@jit\n",
    "def part_count_calc(P):\n",
    "    ans = []\n",
    "    part_count = [0] * 8\n",
    "    for i in range(len(P)):\n",
    "        part_count[P[i]] += 1\n",
    "        ans.append(part_count[P[i]])\n",
    "    return np.array(ans)\n",
    "\n",
    "@jit\n",
    "def part_count_dict_calc(P):\n",
    "    part_count = [0] * 8\n",
    "    for i in range(len(P)):\n",
    "        part_count[P[i]] += 1\n",
    "    return np.array(part_count)\n",
    "\n",
    "def part_dict_init():\n",
    "    ans = [0] * 8\n",
    "    return np.array(ans)\n",
    "\n",
    "part_count_array = train_df.groupby(\"user_id\").apply(lambda x: part_count_calc(x[\"part\"].values))\n",
    "part_count_array = np.hstack(part_count_array)\n",
    "part_count_array = part_count_array[train_index]\n",
    "part_ratio_array = part_count_array / count_array\n",
    "\n",
    "user_part_count_dict = train_df.groupby(\"user_id\").apply(lambda x: part_count_dict_calc(x[\"part\"].values)).to_dict(defaultdict(part_dict_init))\n",
    "\n",
    "part_array = train_df.part.values\n",
    "train_df.drop(\"part\", axis=1, inplace=True)\n",
    "part_array = part_array[train_index]"
   ]
  },
  {
   "cell_type": "code",
   "execution_count": 17,
   "metadata": {
    "execution": {
     "iopub.execute_input": "2020-12-25T10:09:24.556812Z",
     "iopub.status.busy": "2020-12-25T10:09:24.556226Z",
     "iopub.status.idle": "2020-12-25T10:09:48.188019Z",
     "shell.execute_reply": "2020-12-25T10:09:48.187495Z"
    },
    "papermill": {
     "duration": 23.663481,
     "end_time": "2020-12-25T10:09:48.188123",
     "exception": false,
     "start_time": "2020-12-25T10:09:24.524642",
     "status": "completed"
    },
    "tags": []
   },
   "outputs": [],
   "source": [
    "# user-wise prior_question_had_explanation_mean\n",
    "train_df['lag'] = train_df.groupby('user_id')['prior_question_had_explanation'].shift().astype(bool)\n",
    "cum = train_df.groupby('user_id')['lag'].agg(['cumsum', 'cumcount'])\n",
    "prior_question_had_explanation_mean_array = np.array(cum['cumsum'] / cum['cumcount'])\n",
    "prior_question_had_explanation_mean_array = prior_question_had_explanation_mean_array[train_index]\n",
    "\n",
    "user_prior_question_had_explanation_sum_agg = train_df.groupby('user_id')[\"prior_question_had_explanation\"].agg(['sum'])\n",
    "user_prior_question_had_explanation_sum_dict = user_prior_question_had_explanation_sum_agg['sum'].astype('int32').to_dict(defaultdict(int))\n",
    "train_df.drop(columns=['lag'], inplace=True)\n",
    "del cum, user_prior_question_had_explanation_sum_agg\n",
    "\n",
    "prior_question_had_explanation_array = train_df.prior_question_had_explanation.values\n",
    "train_df.drop('prior_question_had_explanation', axis=1, inplace=True)\n",
    "prior_question_had_explanation_array = prior_question_had_explanation_array[train_index]"
   ]
  },
  {
   "cell_type": "code",
   "execution_count": 18,
   "metadata": {
    "execution": {
     "iopub.execute_input": "2020-12-25T10:09:48.247065Z",
     "iopub.status.busy": "2020-12-25T10:09:48.246523Z",
     "iopub.status.idle": "2020-12-25T10:10:28.633577Z",
     "shell.execute_reply": "2020-12-25T10:10:28.633099Z"
    },
    "papermill": {
     "duration": 40.421463,
     "end_time": "2020-12-25T10:10:28.633676",
     "exception": false,
     "start_time": "2020-12-25T10:09:48.212213",
     "status": "completed"
    },
    "tags": []
   },
   "outputs": [
    {
     "name": "stdout",
     "output_type": "stream",
     "text": [
      "Flushing output cache (0 entries)\n",
      "Flushing input history\n"
     ]
    }
   ],
   "source": [
    "first_attempt_df = pd.read_csv(\"../input/riiid-additional-data/content_first_attempt.csv\")\n",
    "first_attempt_array = first_attempt_df.first_attempt.values\n",
    "train_df[\"first_attempt\"] = first_attempt_array\n",
    "\n",
    "unique_attempt_array= train_df.groupby(\"user_id\")[\"first_attempt\"].cumsum().values\n",
    "train_df[\"unique_attempt\"] = unique_attempt_array\n",
    "user_unique_agg = train_df.groupby('user_id')[\"unique_attempt\"].agg(['max'])\n",
    "user_unique_dict = user_unique_agg['max'].astype('int32').to_dict(defaultdict(int))\n",
    "\n",
    "first_attempt_array = first_attempt_array[train_index]\n",
    "unique_attempt_array = unique_attempt_array[train_index]\n",
    "train_df.drop(['first_attempt', 'unique_attempt'], axis=1, inplace=True)\n",
    "del first_attempt_df, user_unique_agg\n",
    "\n",
    "clear_mem()"
   ]
  },
  {
   "cell_type": "code",
   "execution_count": 19,
   "metadata": {
    "execution": {
     "iopub.execute_input": "2020-12-25T10:10:28.691752Z",
     "iopub.status.busy": "2020-12-25T10:10:28.690868Z",
     "iopub.status.idle": "2020-12-25T10:10:39.421229Z",
     "shell.execute_reply": "2020-12-25T10:10:39.421725Z"
    },
    "papermill": {
     "duration": 10.76407,
     "end_time": "2020-12-25T10:10:39.421897",
     "exception": false,
     "start_time": "2020-12-25T10:10:28.657827",
     "status": "completed"
    },
    "tags": []
   },
   "outputs": [
    {
     "name": "stdout",
     "output_type": "stream",
     "text": [
      "Flushing output cache (0 entries)\n",
      "Flushing input history\n",
      "Flushing output cache (0 entries)\n",
      "Flushing input history\n"
     ]
    }
   ],
   "source": [
    "user_agg = train_df.groupby('user_id')[target].agg(['sum', 'count'])\n",
    "user_sum_dict = user_agg['sum'].astype('int16').to_dict(defaultdict(int))\n",
    "del user_agg['sum']\n",
    "user_count_dict = user_agg['count'].astype('int16').to_dict(defaultdict(int))\n",
    "#user_count_array = train_df['user_id'].map(user_agg['count']).astype('int32').values\n",
    "#user_count_array = user_count_array[train_index]\n",
    "del user_agg['count']\n",
    "clear_mem()\n",
    "\n",
    "#\n",
    "content_agg = train_df.groupby('content_id')[target].agg(['sum', 'count'])\n",
    "content_sum_dict = content_agg['sum'].astype('int32').to_dict(defaultdict(int))\n",
    "content_count_dict = content_agg['count'].astype('int32').to_dict(defaultdict(int))\n",
    "\n",
    "content_count_array = train_df['content_id'].map(content_agg['count']).astype('int32').values\n",
    "content_id_array = train_df['content_id'].map(content_agg['sum'] / content_agg['count']).values\n",
    "del content_agg\n",
    "clear_mem()"
   ]
  },
  {
   "cell_type": "code",
   "execution_count": 20,
   "metadata": {
    "execution": {
     "iopub.execute_input": "2020-12-25T10:10:39.474386Z",
     "iopub.status.busy": "2020-12-25T10:10:39.473884Z",
     "iopub.status.idle": "2020-12-25T10:10:54.921100Z",
     "shell.execute_reply": "2020-12-25T10:10:54.921583Z"
    },
    "papermill": {
     "duration": 15.474422,
     "end_time": "2020-12-25T10:10:54.921717",
     "exception": false,
     "start_time": "2020-12-25T10:10:39.447295",
     "status": "completed"
    },
    "tags": []
   },
   "outputs": [],
   "source": [
    "# benefit of solving difficult questions\n",
    "\n",
    "#point_array = 1 / (content_id_array + 0.1)\n",
    "with open('../input/riiid-premade-data/got_point_array.pickle','rb') as f:\n",
    "    got_point_array = pickle.load(f)\n",
    "got_point_array = got_point_array[train_index]\n",
    "    \n",
    "with open('../input/riiid-premade-data/user_point_sum_dict.pickle','rb') as f:\n",
    "    user_point_sum_dict = pickle.load(f)\n",
    "\n",
    "content_id_array = content_id_array[train_index]\n",
    "content_count_array = content_count_array[train_index]"
   ]
  },
  {
   "cell_type": "code",
   "execution_count": 21,
   "metadata": {
    "execution": {
     "iopub.execute_input": "2020-12-25T10:10:55.350550Z",
     "iopub.status.busy": "2020-12-25T10:10:55.349944Z",
     "iopub.status.idle": "2020-12-25T10:11:11.058968Z",
     "shell.execute_reply": "2020-12-25T10:11:11.058193Z"
    },
    "papermill": {
     "duration": 16.111707,
     "end_time": "2020-12-25T10:11:11.059074",
     "exception": false,
     "start_time": "2020-12-25T10:10:54.947367",
     "status": "completed"
    },
    "tags": []
   },
   "outputs": [],
   "source": [
    "train_df.drop([\"content_id\"], axis=1, inplace=True)\n",
    "\n",
    "with open('../input/riiid-premade-data/user_content_dict.pickle','rb') as f:\n",
    "    user_content_dict = pickle.load(f)"
   ]
  },
  {
   "cell_type": "code",
   "execution_count": 22,
   "metadata": {
    "execution": {
     "iopub.execute_input": "2020-12-25T10:11:11.172708Z",
     "iopub.status.busy": "2020-12-25T10:11:11.172130Z",
     "iopub.status.idle": "2020-12-25T10:11:22.530770Z",
     "shell.execute_reply": "2020-12-25T10:11:22.530254Z"
    },
    "papermill": {
     "duration": 11.446429,
     "end_time": "2020-12-25T10:11:22.530881",
     "exception": false,
     "start_time": "2020-12-25T10:11:11.084452",
     "status": "completed"
    },
    "tags": []
   },
   "outputs": [],
   "source": [
    "with open('../input/riiid-premade-data/answered_correctly_last7_array.pickle','rb') as f:\n",
    "    answered_correctly_last7_array = pickle.load(f)\n",
    "answered_correctly_last7_array = answered_correctly_last7_array[train_index]\n",
    "    \n",
    "with open('../input/riiid-premade-data/user_last7_answer_dict.pickle','rb') as f:\n",
    "    user_last7_answer_dict = pickle.load(f)"
   ]
  },
  {
   "cell_type": "code",
   "execution_count": 23,
   "metadata": {
    "execution": {
     "iopub.execute_input": "2020-12-25T10:11:22.586852Z",
     "iopub.status.busy": "2020-12-25T10:11:22.586246Z",
     "iopub.status.idle": "2020-12-25T10:11:22.588432Z",
     "shell.execute_reply": "2020-12-25T10:11:22.588831Z"
    },
    "papermill": {
     "duration": 0.032476,
     "end_time": "2020-12-25T10:11:22.588940",
     "exception": false,
     "start_time": "2020-12-25T10:11:22.556464",
     "status": "completed"
    },
    "tags": []
   },
   "outputs": [],
   "source": [
    "@jit\n",
    "def ano_first7_answers(I):\n",
    "    ans = I.copy()\n",
    "    ans[:7] = -1\n",
    "    return ans\n",
    "\n",
    "#user_initial_ability_dict = train_df.groupby(\"user_id\").head(7).groupby(\"user_id\")[\"answered_correctly\"].agg([\"mean\", \"count\"])\n",
    "#user_initial_ability_dict.loc[user_initial_ability_dict[\"count\"]<7, \"mean\"] = -1\n",
    "#del user_initial_ability_dict[\"count\"]\n",
    "#user_initial_ability_dict = user_initial_ability_dict.to_dict()\n",
    "#user_initial_ability_array = train_df[\"user_id\"].map(user_initial_ability_dict[\"mean\"])\n",
    "#train_df[\"initial_ability\"] = user_initial_ability_array\n",
    "#del user_initial_ability_array\n",
    "    \n",
    "#user_initial_ability_array = train_df.groupby(\"user_id\").apply(lambda x: ano_first7_answers(x[\"initial_ability\"].values))\n",
    "#user_initial_ability_array = np.hstack(user_initial_ability_array)\n",
    "#del mod_train[\"initial_ability\"]\n",
    "#user_initial_ability_array = user_initial_ability_array[train_index]"
   ]
  },
  {
   "cell_type": "code",
   "execution_count": 24,
   "metadata": {
    "execution": {
     "iopub.execute_input": "2020-12-25T10:11:25.887650Z",
     "iopub.status.busy": "2020-12-25T10:11:23.892174Z",
     "iopub.status.idle": "2020-12-25T10:11:25.907495Z",
     "shell.execute_reply": "2020-12-25T10:11:25.906863Z"
    },
    "papermill": {
     "duration": 3.29366,
     "end_time": "2020-12-25T10:11:25.907601",
     "exception": false,
     "start_time": "2020-12-25T10:11:22.613941",
     "status": "completed"
    },
    "tags": []
   },
   "outputs": [],
   "source": [
    "answered_correctly_array = train_df[target].values\n",
    "train_df.drop(target, axis=1, inplace=True)\n",
    "answered_correctly_array = answered_correctly_array[train_index]"
   ]
  },
  {
   "cell_type": "markdown",
   "metadata": {
    "papermill": {
     "duration": 0.025042,
     "end_time": "2020-12-25T10:11:25.958475",
     "exception": false,
     "start_time": "2020-12-25T10:11:25.933433",
     "status": "completed"
    },
    "tags": []
   },
   "source": [
    "# data formation"
   ]
  },
  {
   "cell_type": "code",
   "execution_count": 25,
   "metadata": {
    "execution": {
     "iopub.execute_input": "2020-12-25T10:11:26.054026Z",
     "iopub.status.busy": "2020-12-25T10:11:26.053458Z",
     "iopub.status.idle": "2020-12-25T10:11:40.964202Z",
     "shell.execute_reply": "2020-12-25T10:11:40.964676Z"
    },
    "papermill": {
     "duration": 14.980798,
     "end_time": "2020-12-25T10:11:40.964804",
     "exception": false,
     "start_time": "2020-12-25T10:11:25.984006",
     "status": "completed"
    },
    "tags": []
   },
   "outputs": [],
   "source": [
    "if not FULL_TRAIN:\n",
    "    train_df = train_df[train_df.index.isin(train_index)].reset_index(drop=True)\n",
    "    if CV_SCHEME == \"original\":\n",
    "        valid_index = list(train_df.groupby('user_id').tail(valid_size).index)\n",
    "    else:\n",
    "        valid_index = list(train_df['viretual_time_stamp'].nlargest(2500000).index)\n",
    "    train_index = list(train_df[~train_df.index.isin(valid_index)].index)\n",
    "del train_df"
   ]
  },
  {
   "cell_type": "code",
   "execution_count": 26,
   "metadata": {
    "execution": {
     "iopub.execute_input": "2020-12-25T10:11:41.018264Z",
     "iopub.status.busy": "2020-12-25T10:11:41.017730Z",
     "iopub.status.idle": "2020-12-25T10:11:41.026726Z",
     "shell.execute_reply": "2020-12-25T10:11:41.027107Z"
    },
    "papermill": {
     "duration": 0.036613,
     "end_time": "2020-12-25T10:11:41.027226",
     "exception": false,
     "start_time": "2020-12-25T10:11:40.990613",
     "status": "completed"
    },
    "tags": []
   },
   "outputs": [
    {
     "name": "stdout",
     "output_type": "stream",
     "text": [
      "22\n"
     ]
    }
   ],
   "source": [
    "features_dict = {\n",
    "    'content_id': content_id_array,\n",
    "    'prior_question_elapsed_time': prior_question_elapsed_time_array,\n",
    "    'prior_question_had_explanation':  prior_question_had_explanation_array,\n",
    "    'user_correctness': user_correctness_array,\n",
    "    'part': part_array,\n",
    "    'content_count': content_count_array,\n",
    "    'count': count_array,\n",
    "    'first_attempt': first_attempt_array,\n",
    "    'unique_attempt': unique_attempt_array,\n",
    "    'part_count': part_count_array,\n",
    "    'part_ratio': part_ratio_array,\n",
    "    'prior_question_had_explanation_mean': prior_question_had_explanation_mean_array,\n",
    "    'got_point': got_point_array,\n",
    "    'answered_correctly_last7': answered_correctly_last7_array,   \n",
    "    'timediff': timediff_array,\n",
    "    'timediff2': timediff2_array,\n",
    "    'timediff3': timediff3_array,\n",
    "    'timediff4': timediff4_array,\n",
    "    'community': community_array,\n",
    "    'tag_acc': tag_acc_array,\n",
    "    'community_count': community_count_array,\n",
    "    'time_dd': time_dd_array,\n",
    "    #'user_initial_ability': user_initial_ability_array\n",
    "}\n",
    "\n",
    "features = list(features_dict.keys())\n",
    "print(len(features))\n",
    "\n",
    "del content_id_array, prior_question_elapsed_time_array, prior_question_had_explanation_array,\n",
    "del user_correctness_array, part_array,\n",
    "del content_count_array, count_array, first_attempt_array, unique_attempt_array,\n",
    "del part_ratio_array, part_count_array,\n",
    "del prior_question_had_explanation_mean_array, got_point_array, \n",
    "del answered_correctly_last7_array, timediff_array, timediff2_array, timediff3_array, timediff4_array,\n",
    "del community_array,\n",
    "del tag_acc_array, community_count_array, time_dd_array"
   ]
  },
  {
   "cell_type": "code",
   "execution_count": 27,
   "metadata": {
    "execution": {
     "iopub.execute_input": "2020-12-25T10:11:41.080957Z",
     "iopub.status.busy": "2020-12-25T10:11:41.080433Z",
     "iopub.status.idle": "2020-12-25T10:11:41.085384Z",
     "shell.execute_reply": "2020-12-25T10:11:41.085850Z"
    },
    "papermill": {
     "duration": 0.032912,
     "end_time": "2020-12-25T10:11:41.085951",
     "exception": false,
     "start_time": "2020-12-25T10:11:41.053039",
     "status": "completed"
    },
    "tags": []
   },
   "outputs": [
    {
     "name": "stdout",
     "output_type": "stream",
     "text": [
      "(6536675, 23) (2360984, 23)\n"
     ]
    }
   ],
   "source": [
    "if FULL_TRAIN:\n",
    "    print(len(train_index), len(features)+1)\n",
    "else:\n",
    "    print((len(train_index), len(features)+1), (len(valid_index), len(features)+1))"
   ]
  },
  {
   "cell_type": "markdown",
   "metadata": {
    "papermill": {
     "duration": 0.028289,
     "end_time": "2020-12-25T10:11:41.140161",
     "exception": false,
     "start_time": "2020-12-25T10:11:41.111872",
     "status": "completed"
    },
    "tags": []
   },
   "source": [
    "# Train"
   ]
  },
  {
   "cell_type": "code",
   "execution_count": 28,
   "metadata": {
    "execution": {
     "iopub.execute_input": "2020-12-25T10:11:41.194870Z",
     "iopub.status.busy": "2020-12-25T10:11:41.194348Z",
     "iopub.status.idle": "2020-12-25T10:11:41.197795Z",
     "shell.execute_reply": "2020-12-25T10:11:41.198212Z"
    },
    "papermill": {
     "duration": 0.03199,
     "end_time": "2020-12-25T10:11:41.198312",
     "exception": false,
     "start_time": "2020-12-25T10:11:41.166322",
     "status": "completed"
    },
    "tags": []
   },
   "outputs": [],
   "source": [
    "params = {\n",
    "    'objective': 'binary',\n",
    "    'seed': 42,\n",
    "    'metric': 'auc',\n",
    "    'learning_rate': 0.05,\n",
    "    'max_bin': 800,\n",
    "    'num_leaves': 80\n",
    "}"
   ]
  },
  {
   "cell_type": "code",
   "execution_count": 29,
   "metadata": {
    "execution": {
     "iopub.execute_input": "2020-12-25T10:11:41.253079Z",
     "iopub.status.busy": "2020-12-25T10:11:41.252573Z",
     "iopub.status.idle": "2020-12-25T10:12:20.549778Z",
     "shell.execute_reply": "2020-12-25T10:12:20.550254Z"
    },
    "papermill": {
     "duration": 39.325712,
     "end_time": "2020-12-25T10:12:20.550390",
     "exception": false,
     "start_time": "2020-12-25T10:11:41.224678",
     "status": "completed"
    },
    "tags": []
   },
   "outputs": [],
   "source": [
    "if FULL_TRAIN:\n",
    "    X_train = np.ndarray(shape=(len(train_index), len(features)), dtype=np.float32)\n",
    "\n",
    "    for idx, feature in enumerate(features):\n",
    "        X_train[:,idx] = features_dict[feature].astype(np.float32).reshape(-1)\n",
    "        del features_dict[feature]\n",
    "    y_train = answered_correctly_array.astype(np.float32)\n",
    "    tr_data = lgb.Dataset(X_train, label=y_train)\n",
    "else:\n",
    "    X_train = np.ndarray(shape=(len(train_index), len(features)), dtype=np.float32)\n",
    "    X_valid = np.ndarray(shape=(len(valid_index), len(features)), dtype=np.float32)\n",
    "\n",
    "    for idx, feature in enumerate(features):\n",
    "        X_train[:,idx] = features_dict[feature][train_index].astype(np.float32).reshape(-1)\n",
    "        X_valid[:,idx] = features_dict[feature][valid_index].astype(np.float32).reshape(-1)\n",
    "        del features_dict[feature]\n",
    "    y_train = answered_correctly_array[train_index].astype(np.float32)\n",
    "    y_valid = answered_correctly_array[valid_index].astype(np.float32)\n",
    "\n",
    "    tr_data = lgb.Dataset(X_train, label=y_train)\n",
    "    va_data = lgb.Dataset(X_valid, label=y_valid)"
   ]
  },
  {
   "cell_type": "code",
   "execution_count": 30,
   "metadata": {
    "execution": {
     "iopub.execute_input": "2020-12-25T10:12:20.611754Z",
     "iopub.status.busy": "2020-12-25T10:12:20.611207Z",
     "iopub.status.idle": "2020-12-25T10:12:21.446868Z",
     "shell.execute_reply": "2020-12-25T10:12:21.447304Z"
    },
    "papermill": {
     "duration": 0.869768,
     "end_time": "2020-12-25T10:12:21.447491",
     "exception": false,
     "start_time": "2020-12-25T10:12:20.577723",
     "status": "completed"
    },
    "tags": []
   },
   "outputs": [],
   "source": [
    "import optuna\n",
    "from optuna import Trial\n",
    "from sklearn.metrics import roc_auc_score\n",
    "\n",
    "def objective(trial: Trial, fast_check=True, target_meter=0, return_info=False):      \n",
    "    params = {\n",
    "        'objective': 'binary',\n",
    "        'seed': 42,\n",
    "        'metric': 'auc',\n",
    "        #'learning_rate': 0.05,\n",
    "        'max_bin': 800,\n",
    "        #'num_leaves': 80\n",
    "        #'num_leaves': trial.suggest_int('num_leaves', 2, 128),\n",
    "        #'max_depth': trial.suggest_int('max_depth', 1, 10),\n",
    "        'learning_rate': trial.suggest_uniform('learning_rate', 0.01, 0.05),\n",
    "        #'lambda_l1': trial.suggest_loguniform('lambda_l1', 1e-8, 10.0),\n",
    "        #'lambda_l2': trial.suggest_loguniform('lambda_l2', 1e-8, 10.0),\n",
    "        #\"bagging_freq\": 5,\n",
    "        #\"bagging_fraction\": trial.suggest_uniform('bagging_fraction', 0.1, 1.0),\n",
    "        #\"feature_fraction\": trial.suggest_uniform('feature_fraction', 0.4, 1.0),\n",
    "    }\n",
    "    \n",
    "    model = lgb.train(params, tr_data ,valid_sets=[tr_data, va_data],\n",
    "           num_boost_round=1950,early_stopping_rounds=15,verbose_eval = 50)\n",
    "    valid_predict = model.predict(X_valid, num_iteration = model.best_iteration)\n",
    "    valid_score = roc_auc_score(y_valid, valid_predict)\n",
    "    \n",
    "    return valid_score\n",
    "\n",
    "#study = optuna.create_study(direction='maximize') #maximize or minimize\n",
    "#study.optimize(objective, n_trials=3)\n",
    "#print('Best trial: score {}, params {}'.format(study.best_trial.value, study.best_trial.params))"
   ]
  },
  {
   "cell_type": "code",
   "execution_count": 31,
   "metadata": {
    "execution": {
     "iopub.execute_input": "2020-12-25T10:12:21.507275Z",
     "iopub.status.busy": "2020-12-25T10:12:21.506739Z",
     "iopub.status.idle": "2020-12-25T10:58:47.863732Z",
     "shell.execute_reply": "2020-12-25T10:58:47.864610Z"
    },
    "papermill": {
     "duration": 2786.390571,
     "end_time": "2020-12-25T10:58:47.865028",
     "exception": false,
     "start_time": "2020-12-25T10:12:21.474457",
     "status": "completed"
    },
    "tags": []
   },
   "outputs": [
    {
     "name": "stdout",
     "output_type": "stream",
     "text": [
      "training starts\n",
      "Training until validation scores don't improve for 15 rounds\n",
      "[50]\ttraining's auc: 0.765957\tvalid_1's auc: 0.752356\n",
      "[100]\ttraining's auc: 0.770437\tvalid_1's auc: 0.75771\n",
      "[150]\ttraining's auc: 0.772594\tvalid_1's auc: 0.759884\n",
      "[200]\ttraining's auc: 0.773926\tvalid_1's auc: 0.761135\n",
      "[250]\ttraining's auc: 0.774785\tvalid_1's auc: 0.761835\n",
      "[300]\ttraining's auc: 0.775383\tvalid_1's auc: 0.762201\n",
      "[350]\ttraining's auc: 0.775867\tvalid_1's auc: 0.762431\n",
      "[400]\ttraining's auc: 0.776355\tvalid_1's auc: 0.762686\n",
      "[450]\ttraining's auc: 0.776801\tvalid_1's auc: 0.762891\n",
      "[500]\ttraining's auc: 0.777251\tvalid_1's auc: 0.763135\n",
      "[550]\ttraining's auc: 0.777621\tvalid_1's auc: 0.763303\n",
      "[600]\ttraining's auc: 0.778053\tvalid_1's auc: 0.763569\n",
      "[650]\ttraining's auc: 0.77843\tvalid_1's auc: 0.763733\n",
      "[700]\ttraining's auc: 0.778776\tvalid_1's auc: 0.763843\n",
      "[750]\ttraining's auc: 0.779116\tvalid_1's auc: 0.763965\n",
      "[800]\ttraining's auc: 0.779451\tvalid_1's auc: 0.764081\n",
      "[850]\ttraining's auc: 0.77979\tvalid_1's auc: 0.7642\n",
      "[900]\ttraining's auc: 0.780143\tvalid_1's auc: 0.764321\n",
      "[950]\ttraining's auc: 0.780472\tvalid_1's auc: 0.764431\n",
      "[1000]\ttraining's auc: 0.780814\tvalid_1's auc: 0.764523\n",
      "[1050]\ttraining's auc: 0.781125\tvalid_1's auc: 0.764596\n",
      "[1100]\ttraining's auc: 0.781411\tvalid_1's auc: 0.764661\n",
      "[1150]\ttraining's auc: 0.781707\tvalid_1's auc: 0.76473\n",
      "[1200]\ttraining's auc: 0.782038\tvalid_1's auc: 0.764821\n",
      "[1250]\ttraining's auc: 0.782336\tvalid_1's auc: 0.764885\n",
      "[1300]\ttraining's auc: 0.782611\tvalid_1's auc: 0.764942\n",
      "[1350]\ttraining's auc: 0.782872\tvalid_1's auc: 0.764979\n",
      "[1400]\ttraining's auc: 0.783167\tvalid_1's auc: 0.765037\n",
      "[1450]\ttraining's auc: 0.783431\tvalid_1's auc: 0.765076\n",
      "[1500]\ttraining's auc: 0.783702\tvalid_1's auc: 0.765121\n",
      "[1550]\ttraining's auc: 0.783962\tvalid_1's auc: 0.765173\n",
      "[1600]\ttraining's auc: 0.784223\tvalid_1's auc: 0.765228\n",
      "[1650]\ttraining's auc: 0.784484\tvalid_1's auc: 0.765261\n",
      "[1700]\ttraining's auc: 0.784756\tvalid_1's auc: 0.765303\n",
      "[1750]\ttraining's auc: 0.785027\tvalid_1's auc: 0.765359\n",
      "[1800]\ttraining's auc: 0.785271\tvalid_1's auc: 0.765392\n",
      "[1850]\ttraining's auc: 0.785531\tvalid_1's auc: 0.76543\n",
      "[1900]\ttraining's auc: 0.785773\tvalid_1's auc: 0.765461\n",
      "[1950]\ttraining's auc: 0.78601\tvalid_1's auc: 0.765481\n",
      "[2000]\ttraining's auc: 0.786274\tvalid_1's auc: 0.765527\n",
      "[2050]\ttraining's auc: 0.786524\tvalid_1's auc: 0.765563\n",
      "[2100]\ttraining's auc: 0.78678\tvalid_1's auc: 0.76559\n",
      "[2150]\ttraining's auc: 0.787034\tvalid_1's auc: 0.765615\n",
      "Early stopping, best iteration is:\n",
      "[2149]\ttraining's auc: 0.787029\tvalid_1's auc: 0.765615\n"
     ]
    }
   ],
   "source": [
    "print(\"training starts\")\n",
    "if FULL_TRAIN:\n",
    "    model = lgb.train(\n",
    "        params, \n",
    "        tr_data, \n",
    "        num_boost_round=3000,\n",
    "        valid_sets=None, \n",
    "        )\n",
    "    del X_train, y_train\n",
    "else:\n",
    "    model = lgb.train(\n",
    "        params, \n",
    "        tr_data, \n",
    "        num_boost_round= 2500,\n",
    "        valid_sets=[tr_data, va_data], \n",
    "        early_stopping_rounds=15,\n",
    "        verbose_eval=50\n",
    "        )\n",
    "    del X_train, y_train, X_valid, y_valid"
   ]
  },
  {
   "cell_type": "markdown",
   "metadata": {
    "papermill": {
     "duration": 0.050587,
     "end_time": "2020-12-25T10:58:47.967140",
     "exception": false,
     "start_time": "2020-12-25T10:58:47.916553",
     "status": "completed"
    },
    "tags": []
   },
   "source": [
    "# Inference"
   ]
  },
  {
   "cell_type": "code",
   "execution_count": 32,
   "metadata": {
    "execution": {
     "iopub.execute_input": "2020-12-25T10:58:48.064993Z",
     "iopub.status.busy": "2020-12-25T10:58:48.064337Z",
     "iopub.status.idle": "2020-12-25T10:58:48.066777Z",
     "shell.execute_reply": "2020-12-25T10:58:48.066254Z"
    },
    "papermill": {
     "duration": 0.049248,
     "end_time": "2020-12-25T10:58:48.066859",
     "exception": false,
     "start_time": "2020-12-25T10:58:48.017611",
     "status": "completed"
    },
    "tags": []
   },
   "outputs": [],
   "source": [
    "env = riiideducation.make_env()\n",
    "iter_test = env.iter_test()\n",
    "prior_test_df = None"
   ]
  },
  {
   "cell_type": "code",
   "execution_count": 33,
   "metadata": {
    "execution": {
     "iopub.execute_input": "2020-12-25T10:58:48.181607Z",
     "iopub.status.busy": "2020-12-25T10:58:48.180993Z",
     "iopub.status.idle": "2020-12-25T10:58:48.895746Z",
     "shell.execute_reply": "2020-12-25T10:58:48.896432Z"
    },
    "papermill": {
     "duration": 0.790238,
     "end_time": "2020-12-25T10:58:48.896569",
     "exception": false,
     "start_time": "2020-12-25T10:58:48.106331",
     "status": "completed"
    },
    "tags": []
   },
   "outputs": [
    {
     "name": "stdout",
     "output_type": "stream",
     "text": [
      "CPU times: user 1.32 s, sys: 67.1 ms, total: 1.39 s\n",
      "Wall time: 717 ms\n"
     ]
    }
   ],
   "source": [
    "%%time\n",
    "for (test_df, sample_prediction_df) in iter_test:\n",
    "    if prior_test_df is not None:\n",
    "        prior_test_df[target] = eval(test_df['prior_group_answers_correct'].iloc[0])\n",
    "        prior_test_df = prior_test_df[prior_test_df[target] != -1].reset_index(drop=True)\n",
    "        \n",
    "        user_ids = prior_test_df['user_id'].values\n",
    "        content_ids = prior_test_df['content_id'].values\n",
    "        targets = prior_test_df[target].values\n",
    "        timestamps = prior_test_df['timestamp'].values\n",
    "                 \n",
    "        for user_id, content_id, answered_correctly, first_attempt_ornot, prior_explanation, prior_point, prior_community, prior_timestamp in zip(user_ids, \n",
    "                                                            content_ids, \n",
    "                                                            targets, \n",
    "                                                            prior_f_attempt_arrays,\n",
    "                                                            p_prior_question_had_explanation,\n",
    "                                                            prior_point_array,\n",
    "                                                            prior_community_arrays,\n",
    "                                                            timestamps):\n",
    "            \n",
    "            user_sum_dict[user_id] += answered_correctly\n",
    "            user_count_dict[user_id] += 1\n",
    "            content_sum_dict[content_id] += answered_correctly\n",
    "            content_count_dict[content_id] += 1\n",
    "            user_unique_dict[user_id] += first_attempt_ornot\n",
    "            user_prior_question_had_explanation_sum_dict[user_id] += prior_explanation\n",
    "            user_point_sum_dict[user_id] += prior_point * answered_correctly\n",
    "            if len(user_last7_answer_dict[user_id])==7:\n",
    "                user_last7_answer_dict[user_id] = np.concatenate([user_last7_answer_dict[user_id],[answered_correctly]])[1:]\n",
    "            else:\n",
    "                user_last7_answer_dict[user_id] = np.concatenate([user_last7_answer_dict[user_id],[answered_correctly]])\n",
    "            \n",
    "            user_community_correct_dict[user_id][prior_community] += answered_correctly\n",
    "            user_community_count_dict[user_id][prior_community] += 1\n",
    "            community_count_dict[prior_community] += 1   \n",
    "            \n",
    "            if np.sum(user_timestamp_max_dict[user_id] == prior_timestamp) == 0:\n",
    "                if len(user_timestamp_max_dict[user_id]) <= 3: \n",
    "                    user_timestamp_max_dict[user_id] = np.concatenate([user_timestamp_max_dict[user_id],[prior_timestamp]])\n",
    "                else:\n",
    "                    user_timestamp_max_dict[user_id] = np.concatenate([user_timestamp_max_dict[user_id],[prior_timestamp]])[1:]  \n",
    "                    \n",
    "    prior_test_df = test_df.copy()\n",
    "           \n",
    "    test_df = test_df[test_df['content_type_id'] == 0].reset_index(drop=True)\n",
    "    test_df = pd.merge(test_df, questions_df, left_on='content_id', right_on='question_id', how='left', right_index=True).reset_index(drop=True)\n",
    "    test_df['prior_question_had_explanation'] = test_df['prior_question_had_explanation'].fillna(False).astype('int8')\n",
    "    test_df['prior_question_elapsed_time'] = test_df['prior_question_elapsed_time'].fillna(0)\n",
    "\n",
    "    p_prior_question_had_explanation = test_df['prior_question_had_explanation'].values\n",
    "    prior_community_arrays = test_df['community'].values\n",
    "    \n",
    "    user_sum = np.zeros(len(test_df), dtype=np.int16)\n",
    "    user_count = np.zeros(len(test_df), dtype=np.int16)\n",
    "    content_sum = np.zeros(len(test_df), dtype=np.int32)\n",
    "    content_count = np.zeros(len(test_df), dtype=np.int32)\n",
    "    part_count = np.zeros(len(test_df), dtype=np.int32)\n",
    "    first_attempt_values = []\n",
    "    user_unique_count = np.zeros(len(test_df), dtype=np.int32)\n",
    "    user_prior_question_had_explanation_sum = np.zeros(len(test_df), dtype=np.int32)\n",
    "    got_point_array = np.zeros(len(test_df), dtype=np.float32)\n",
    "    user_last7_accuracy_array = np.zeros(len(test_df), dtype=np.float32)\n",
    "    timediff_array = np.zeros(len(test_df), dtype = np.int64)\n",
    "    timediff2_array = np.zeros(len(test_df), dtype = np.int64)\n",
    "    timediff3_array = np.zeros(len(test_df), dtype = np.int64)\n",
    "    timediff4_array = np.zeros(len(test_df), dtype = np.int64)\n",
    "    tag_acc_array = np.zeros(len(test_df), dtype=np.float32)\n",
    "    community_count_array = np.zeros(len(test_df), dtype=np.int32)\n",
    "    time_dd_array = np.zeros(len(test_df), dtype = np.int64)\n",
    "    \n",
    "    for i, (user_id, content_id, timestamp, community, part) in enumerate(zip(test_df['user_id'].values, \n",
    "                                                             test_df['content_id'].values,\n",
    "                                                             test_df['timestamp'].values,\n",
    "                                                             test_df['community'].values,\n",
    "                                                             test_df['part'].values)):\n",
    "        user_sum[i] = user_sum_dict[user_id]\n",
    "        user_count[i] = user_count_dict[user_id]\n",
    "        content_sum[i] = content_sum_dict[content_id]\n",
    "        content_count[i] = content_count_dict[content_id]\n",
    "        part_count[i] = user_part_count_dict[user_id][part] + 1\n",
    "        user_part_count_dict[user_id][part] += 1\n",
    "        first_attempt_values.append(user_content_dict[user_id][content_id])\n",
    "        user_content_dict[user_id][content_id] = False             \n",
    "        user_unique_count[i] = user_unique_dict[user_id]\n",
    "        user_prior_question_had_explanation_sum[i] = user_prior_question_had_explanation_sum_dict[user_id]\n",
    "        got_point_array[i] = user_point_sum_dict[user_id]\n",
    "        \n",
    "        if len(user_last7_answer_dict[user_id])==7:\n",
    "            user_last7_accuracy_array[i] = user_last7_answer_dict[user_id].mean()\n",
    "        else:\n",
    "            user_last7_accuracy_array[i] = np.nan\n",
    "            \n",
    "        if len(user_timestamp_max_dict[user_id]) ==0:\n",
    "            timediff_array[i] = -1\n",
    "            timediff2_array[i] = -1\n",
    "            timediff3_array[i] = -1\n",
    "            timediff4_array[i] = -1\n",
    "            time_dd_array[i] = -1\n",
    "            \n",
    "        elif len(user_timestamp_max_dict[user_id]) ==1:\n",
    "            timediff_array[i] = timestamp - user_timestamp_max_dict[user_id][0]\n",
    "            timediff2_array[i] = -1\n",
    "            timediff3_array[i] = -1\n",
    "            timediff4_array[i] = -1\n",
    "            time_dd_array[i] = -1\n",
    "            \n",
    "        elif len(user_timestamp_max_dict[user_id]) ==2:\n",
    "            timediff_array[i] = timestamp - user_timestamp_max_dict[user_id][1]\n",
    "            timediff2_array[i] = timestamp - user_timestamp_max_dict[user_id][0]\n",
    "            timediff3_array[i] = -1\n",
    "            timediff4_array[i] = -1\n",
    "            time_dd_array[i] = timediff2_array[i] - timediff_array[i]\n",
    "            \n",
    "        elif len(user_timestamp_max_dict[user_id]) ==3:\n",
    "            timediff_array[i] = timestamp - user_timestamp_max_dict[user_id][2]\n",
    "            timediff2_array[i] = timestamp - user_timestamp_max_dict[user_id][1]\n",
    "            timediff3_array[i] = timestamp - user_timestamp_max_dict[user_id][0]\n",
    "            timediff4_array[i] = -1\n",
    "            time_dd_array[i] = timediff2_array[i] - timediff_array[i]\n",
    "    \n",
    "        else:\n",
    "            timediff_array[i] = timestamp - user_timestamp_max_dict[user_id][3]\n",
    "            timediff2_array[i] = timestamp - user_timestamp_max_dict[user_id][2]\n",
    "            timediff3_array[i] = timestamp - user_timestamp_max_dict[user_id][1]\n",
    "            timediff4_array[i] = timestamp - user_timestamp_max_dict[user_id][0]\n",
    "            time_dd_array[i] = timediff2_array[i] - timediff_array[i]\n",
    "            \n",
    "        if user_community_count_dict[user_id][community] == 0:\n",
    "            tag_acc_array[i] = -1\n",
    "        else:\n",
    "            tag_acc_array[i] = user_community_correct_dict[user_id][community] / user_community_count_dict[user_id][community]\n",
    "            \n",
    "        community_count_array[i] = community_count_dict[community]\n",
    "     \n",
    "    test_df['count'] = 1\n",
    "    test_df['count'] = test_df.groupby(\"user_id\")[\"count\"].cumsum()\n",
    "    test_df['count'] += user_count\n",
    "    test_df['user_correctness'] = user_sum / user_count\n",
    "    test_df['content_count'] = content_count\n",
    "    test_df['content_id'] = content_sum / content_count\n",
    "    test_df['part_count'] = part_count\n",
    "    test_df['part_ratio'] = part_count / test_df['count'].values\n",
    "    test_df[\"first_attempt\"] = first_attempt_values\n",
    "    test_df[\"unique_attempt\"] = test_df.groupby(\"user_id\")[\"first_attempt\"].cumsum()\n",
    "    test_df[\"unique_attempt\"] += user_unique_count\n",
    "    test_df['prior_question_had_explanation_mean'] = user_prior_question_had_explanation_sum / user_count\n",
    "    test_df['got_point'] = got_point_array / user_count\n",
    "    test_df['answered_correctly_last7'] = user_last7_accuracy_array\n",
    "    test_df['timediff'] = timediff_array\n",
    "    test_df['timediff2'] = timediff2_array\n",
    "    test_df['timediff3'] = timediff3_array\n",
    "    test_df['timediff4'] = timediff4_array\n",
    "    test_df['tag_acc'] = tag_acc_array\n",
    "    test_df['community_count'] = community_count_array\n",
    "    test_df['time_dd'] = time_dd_array\n",
    "\n",
    "    prior_f_attempt_arrays = test_df['first_attempt'].values\n",
    "    prior_point_array = 1 / (test_df.content_id.values + 0.1)\n",
    "    \n",
    "    test_df[target] = model.predict(test_df[features])\n",
    "    env.predict(test_df[['row_id', target]])"
   ]
  },
  {
   "cell_type": "code",
   "execution_count": null,
   "metadata": {
    "papermill": {
     "duration": 0.04094,
     "end_time": "2020-12-25T10:58:48.978651",
     "exception": false,
     "start_time": "2020-12-25T10:58:48.937711",
     "status": "completed"
    },
    "tags": []
   },
   "outputs": [],
   "source": []
  }
 ],
 "metadata": {
  "kernelspec": {
   "display_name": "Python 3",
   "language": "python",
   "name": "python3"
  },
  "language_info": {
   "codemirror_mode": {
    "name": "ipython",
    "version": 3
   },
   "file_extension": ".py",
   "mimetype": "text/x-python",
   "name": "python",
   "nbconvert_exporter": "python",
   "pygments_lexer": "ipython3",
   "version": "3.7.6"
  },
  "papermill": {
   "duration": 3545.374144,
   "end_time": "2020-12-25T10:58:49.327993",
   "environment_variables": {},
   "exception": null,
   "input_path": "__notebook__.ipynb",
   "output_path": "__notebook__.ipynb",
   "parameters": {},
   "start_time": "2020-12-25T09:59:43.953849",
   "version": "2.1.0"
  }
 },
 "nbformat": 4,
 "nbformat_minor": 4
}
