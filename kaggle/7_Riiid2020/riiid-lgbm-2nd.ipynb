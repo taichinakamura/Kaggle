{
 "cells": [
  {
   "cell_type": "markdown",
   "metadata": {
    "papermill": {
     "duration": 0.027041,
     "end_time": "2020-12-10T06:33:00.113676",
     "exception": false,
     "start_time": "2020-12-10T06:33:00.086635",
     "status": "completed"
    },
    "tags": []
   },
   "source": [
    "- delete count_inday and unique_attempt\n",
    "- add count_from_lec"
   ]
  },
  {
   "cell_type": "code",
   "execution_count": 1,
   "metadata": {
    "_cell_guid": "b1076dfc-b9ad-4769-8c92-a6c4dae69d19",
    "_uuid": "8f2839f25d086af736a60e9eeb907d3b93b6e0e5",
    "execution": {
     "iopub.execute_input": "2020-12-10T06:33:00.169157Z",
     "iopub.status.busy": "2020-12-10T06:33:00.168355Z",
     "iopub.status.idle": "2020-12-10T06:33:31.588936Z",
     "shell.execute_reply": "2020-12-10T06:33:31.588213Z"
    },
    "papermill": {
     "duration": 31.451573,
     "end_time": "2020-12-10T06:33:31.589098",
     "exception": false,
     "start_time": "2020-12-10T06:33:00.137525",
     "status": "completed"
    },
    "tags": []
   },
   "outputs": [],
   "source": [
    "!pip install ../input/python-datatable/datatable-0.11.0-cp37-cp37m-manylinux2010_x86_64.whl > /dev/null 2>&1"
   ]
  },
  {
   "cell_type": "code",
   "execution_count": 2,
   "metadata": {
    "_cell_guid": "79c7e3d0-c299-4dcb-8224-4455121ee9b0",
    "_uuid": "d629ff2d2480ee46fbb7e2d37f6b5fab8052498a",
    "execution": {
     "iopub.execute_input": "2020-12-10T06:33:31.646888Z",
     "iopub.status.busy": "2020-12-10T06:33:31.645782Z",
     "iopub.status.idle": "2020-12-10T06:33:33.342228Z",
     "shell.execute_reply": "2020-12-10T06:33:33.340982Z"
    },
    "papermill": {
     "duration": 1.729589,
     "end_time": "2020-12-10T06:33:33.342447",
     "exception": false,
     "start_time": "2020-12-10T06:33:31.612858",
     "status": "completed"
    },
    "tags": []
   },
   "outputs": [
    {
     "data": {
      "text/html": [
       "<style type='text/css'>\n",
       ".datatable table.frame { margin-bottom: 0; }\n",
       ".datatable table.frame thead { border-bottom: none; }\n",
       ".datatable table.frame tr.coltypes td {  color: #FFFFFF;  line-height: 6px;  padding: 0 0.5em;}\n",
       ".datatable .bool    { background: #DDDD99; }\n",
       ".datatable .object  { background: #565656; }\n",
       ".datatable .int     { background: #5D9E5D; }\n",
       ".datatable .float   { background: #4040CC; }\n",
       ".datatable .str     { background: #CC4040; }\n",
       ".datatable .row_index {  background: var(--jp-border-color3);  border-right: 1px solid var(--jp-border-color0);  color: var(--jp-ui-font-color3);  font-size: 9px;}\n",
       ".datatable .frame tr.coltypes .row_index {  background: var(--jp-border-color0);}\n",
       ".datatable th:nth-child(2) { padding-left: 12px; }\n",
       ".datatable .hellipsis {  color: var(--jp-cell-editor-border-color);}\n",
       ".datatable .vellipsis {  background: var(--jp-layout-color0);  color: var(--jp-cell-editor-border-color);}\n",
       ".datatable .na {  color: var(--jp-cell-editor-border-color);  font-size: 80%;}\n",
       ".datatable .footer { font-size: 9px; }\n",
       ".datatable .frame_dimensions {  background: var(--jp-border-color3);  border-top: 1px solid var(--jp-border-color0);  color: var(--jp-ui-font-color3);  display: inline-block;  opacity: 0.6;  padding: 1px 10px 1px 5px;}\n",
       ".datatable .frame thead tr.colnames {  background-image: url('data:image/png;base64,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');  background-repeat: repeat-x;  background-size: 14px;  height: 28px;}\n",
       "</style>\n"
      ],
      "text/plain": [
       "<IPython.core.display.HTML object>"
      ]
     },
     "metadata": {},
     "output_type": "display_data"
    },
    {
     "name": "stderr",
     "output_type": "stream",
     "text": [
      "/opt/conda/lib/python3.7/site-packages/ipykernel_launcher.py:13: TqdmDeprecationWarning: This function will be removed in tqdm==5.0.0\n",
      "Please use `tqdm.notebook.*` instead of `tqdm._tqdm_notebook.*`\n",
      "  del sys.path[0]\n",
      "/opt/conda/lib/python3.7/site-packages/tqdm/std.py:666: FutureWarning: The Panel class is removed from pandas. Accessing it from the top-level namespace will also be removed in the next version\n",
      "  from pandas import Panel\n"
     ]
    }
   ],
   "source": [
    "import numpy as np\n",
    "import pandas as pd\n",
    "from collections import defaultdict\n",
    "import datatable as dt\n",
    "import lightgbm as lgb\n",
    "from matplotlib import pyplot as plt\n",
    "import riiideducation\n",
    "from bitarray import bitarray\n",
    "from sklearn.feature_extraction.text import TfidfVectorizer\n",
    "from sklearn.decomposition import TruncatedSVD\n",
    "from sklearn.cluster import KMeans\n",
    "\n",
    "from tqdm._tqdm_notebook import tqdm_notebook\n",
    "tqdm_notebook.pandas(desc=\"progress: \")\n",
    "\n",
    "_ = np.seterr(divide='ignore', invalid='ignore')\n",
    "pd.set_option(\"max_rows\", 100)\n",
    "pd.set_option(\"max_columns\", 100)"
   ]
  },
  {
   "cell_type": "code",
   "execution_count": 3,
   "metadata": {
    "execution": {
     "iopub.execute_input": "2020-12-10T06:33:33.403583Z",
     "iopub.status.busy": "2020-12-10T06:33:33.402428Z",
     "iopub.status.idle": "2020-12-10T06:33:33.406119Z",
     "shell.execute_reply": "2020-12-10T06:33:33.405404Z"
    },
    "papermill": {
     "duration": 0.034783,
     "end_time": "2020-12-10T06:33:33.406256",
     "exception": false,
     "start_time": "2020-12-10T06:33:33.371473",
     "status": "completed"
    },
    "tags": []
   },
   "outputs": [],
   "source": [
    "def make_bitarray():\n",
    "    a = bitarray(32737, endian='little')\n",
    "    a.setall(True)   \n",
    "    return a"
   ]
  },
  {
   "cell_type": "code",
   "execution_count": 4,
   "metadata": {
    "execution": {
     "iopub.execute_input": "2020-12-10T06:33:33.464335Z",
     "iopub.status.busy": "2020-12-10T06:33:33.463265Z",
     "iopub.status.idle": "2020-12-10T06:33:33.466777Z",
     "shell.execute_reply": "2020-12-10T06:33:33.466183Z"
    },
    "papermill": {
     "duration": 0.033995,
     "end_time": "2020-12-10T06:33:33.466909",
     "exception": false,
     "start_time": "2020-12-10T06:33:33.432914",
     "status": "completed"
    },
    "tags": []
   },
   "outputs": [],
   "source": [
    "FULL_TRAIN = False"
   ]
  },
  {
   "cell_type": "markdown",
   "metadata": {
    "papermill": {
     "duration": 0.024849,
     "end_time": "2020-12-10T06:33:33.516895",
     "exception": false,
     "start_time": "2020-12-10T06:33:33.492046",
     "status": "completed"
    },
    "tags": []
   },
   "source": [
    "# Preprocess"
   ]
  },
  {
   "cell_type": "code",
   "execution_count": 5,
   "metadata": {
    "execution": {
     "iopub.execute_input": "2020-12-10T06:33:33.574665Z",
     "iopub.status.busy": "2020-12-10T06:33:33.573726Z",
     "iopub.status.idle": "2020-12-10T06:33:33.577104Z",
     "shell.execute_reply": "2020-12-10T06:33:33.576478Z"
    },
    "papermill": {
     "duration": 0.03507,
     "end_time": "2020-12-10T06:33:33.577241",
     "exception": false,
     "start_time": "2020-12-10T06:33:33.542171",
     "status": "completed"
    },
    "tags": []
   },
   "outputs": [],
   "source": [
    "data_types_dict = {\n",
    "    #'row_id': 'uint32',\n",
    "    'timestamp': 'uint64',\n",
    "    'user_id': 'int32', \n",
    "    'content_id': 'int16', \n",
    "    'content_type_id': 'int8',\n",
    "    'answered_correctly': 'int8', \n",
    "    'prior_question_elapsed_time': 'float32', \n",
    "    'prior_question_had_explanation': 'bool',\n",
    "}\n",
    "target = 'answered_correctly'"
   ]
  },
  {
   "cell_type": "code",
   "execution_count": 6,
   "metadata": {
    "execution": {
     "iopub.execute_input": "2020-12-10T06:33:33.648111Z",
     "iopub.status.busy": "2020-12-10T06:33:33.647173Z",
     "iopub.status.idle": "2020-12-10T06:38:46.293970Z",
     "shell.execute_reply": "2020-12-10T06:38:46.292772Z"
    },
    "papermill": {
     "duration": 312.691222,
     "end_time": "2020-12-10T06:38:46.294122",
     "exception": false,
     "start_time": "2020-12-10T06:33:33.602900",
     "status": "completed"
    },
    "tags": []
   },
   "outputs": [
    {
     "data": {
      "application/vnd.jupyter.widget-view+json": {
       "model_id": "264b304f89dc4bad9636fb3ffeeecd68",
       "version_major": 2,
       "version_minor": 0
      },
      "text/plain": [
       "HBox(children=(FloatProgress(value=0.0, description='progress: ', max=393656.0, style=ProgressStyle(descriptio…"
      ]
     },
     "metadata": {},
     "output_type": "display_data"
    },
    {
     "name": "stdout",
     "output_type": "stream",
     "text": [
      "\n"
     ]
    },
    {
     "data": {
      "application/vnd.jupyter.widget-view+json": {
       "model_id": "bf44c23331df4c4ab8532378e381a199",
       "version_major": 2,
       "version_minor": 0
      },
      "text/plain": [
       "HBox(children=(FloatProgress(value=0.0, description='progress: ', max=393656.0, style=ProgressStyle(descriptio…"
      ]
     },
     "metadata": {},
     "output_type": "display_data"
    },
    {
     "name": "stdout",
     "output_type": "stream",
     "text": [
      "\n"
     ]
    }
   ],
   "source": [
    "def rcount(a):\n",
    "    without_reset = (a == True).cumsum()\n",
    "    reset_at = (a == False)\n",
    "    overcount = np.maximum.accumulate(without_reset * reset_at)\n",
    "    result = without_reset - overcount\n",
    "    return result\n",
    "\n",
    "def rcount_test(a):\n",
    "    without_reset = (a == 1).cumsum()\n",
    "    reset_at = (a == 0)\n",
    "    overcount = np.maximum.accumulate(without_reset * reset_at)\n",
    "    result = without_reset - overcount\n",
    "    return result\n",
    "\n",
    "train_df = dt.fread('../input/riiid-test-answer-prediction/train.csv', columns=set(data_types_dict.keys())).to_pandas()\n",
    "\n",
    "#lectures = pd.read_csv(\"../input/riiid-test-answer-prediction/lectures.csv\")\n",
    "#lectures = lectures.astype({\"lecture_id\": 'int16', 'part': 'int8'})\n",
    "#train_df = train_df.merge(lectures[['lecture_id', 'part']], left_on=\"content_id\", right_on=\"lecture_id\", how=\"left\")\n",
    "#train_df[\"last_lecture\"] = train_df.groupby(\"user_id\")[\"lecture_id\"].shift()\n",
    "#train_df.drop(\"lecture_id\", axis=1, inplace=True)\n",
    "\n",
    "change_index = list(train_df[train_df.content_type_id==1].index)\n",
    "train_df[\"content_type_id\"] = train_df.groupby(\"user_id\")[\"content_type_id\"].progress_apply(lambda x: x.replace(to_replace=False, method='ffill'))\n",
    "train_df.loc[change_index, \"content_type_id\"] = False\n",
    "count_from_lec_array = train_df.groupby(\"user_id\")[\"content_type_id\"].progress_apply(lambda x: rcount(x.values)).values\n",
    "count_from_lec_array = np.hstack(count_from_lec_array)"
   ]
  },
  {
   "cell_type": "code",
   "execution_count": 7,
   "metadata": {
    "execution": {
     "iopub.execute_input": "2020-12-10T06:38:46.360066Z",
     "iopub.status.busy": "2020-12-10T06:38:46.358331Z",
     "iopub.status.idle": "2020-12-10T06:38:47.159791Z",
     "shell.execute_reply": "2020-12-10T06:38:47.159056Z"
    },
    "papermill": {
     "duration": 0.837317,
     "end_time": "2020-12-10T06:38:47.159921",
     "exception": false,
     "start_time": "2020-12-10T06:38:46.322604",
     "status": "completed"
    },
    "tags": []
   },
   "outputs": [],
   "source": [
    "mask = np.ones(count_from_lec_array.shape,dtype=bool)\n",
    "mask[change_index] = False\n",
    "count_from_lec_array = count_from_lec_array[mask]"
   ]
  },
  {
   "cell_type": "code",
   "execution_count": 8,
   "metadata": {
    "execution": {
     "iopub.execute_input": "2020-12-10T06:38:47.227149Z",
     "iopub.status.busy": "2020-12-10T06:38:47.224392Z",
     "iopub.status.idle": "2020-12-10T06:39:34.255474Z",
     "shell.execute_reply": "2020-12-10T06:39:34.256151Z"
    },
    "papermill": {
     "duration": 47.068451,
     "end_time": "2020-12-10T06:39:34.256345",
     "exception": false,
     "start_time": "2020-12-10T06:38:47.187894",
     "status": "completed"
    },
    "tags": []
   },
   "outputs": [],
   "source": [
    "train_df = train_df[train_df[target] != -1].reset_index(drop=True)\n",
    "\n",
    "#last_lecture_array = train_df.groupby(\"user_id\")[\"last_lecture\"].ffill().values\n",
    "#train_df.drop(\"last_lecture\", axis=1, inplace=True)\n",
    "\n",
    "train_df['prior_question_had_explanation'].fillna(False, inplace=True)\n",
    "train_df['prior_question_elapsed_time'].fillna(0, inplace=True)\n",
    "\n",
    "train_df['timestamp'] = (train_df['timestamp'] // 86400000) + 1 # days from start\n",
    "train_df = train_df.astype(data_types_dict)\n",
    "\n",
    "if FULL_TRAIN:\n",
    "    train_size = 40\n",
    "else:\n",
    "    train_size = 24\n",
    "    valid_size = 6\n",
    "    \n",
    "train_df.drop(\"content_type_id\", axis=1, inplace=True)\n",
    "train_index = list(train_df.groupby('user_id').tail(train_size).index)\n",
    "#last_lecture_array = last_lecture_array[train_index]\n",
    "count_from_lec_array = count_from_lec_array[train_index]"
   ]
  },
  {
   "cell_type": "code",
   "execution_count": 9,
   "metadata": {
    "execution": {
     "iopub.execute_input": "2020-12-10T06:39:34.329284Z",
     "iopub.status.busy": "2020-12-10T06:39:34.328397Z",
     "iopub.status.idle": "2020-12-10T06:39:49.948140Z",
     "shell.execute_reply": "2020-12-10T06:39:49.947447Z"
    },
    "papermill": {
     "duration": 15.663061,
     "end_time": "2020-12-10T06:39:49.948291",
     "exception": false,
     "start_time": "2020-12-10T06:39:34.285230",
     "status": "completed"
    },
    "tags": []
   },
   "outputs": [],
   "source": [
    "questions_df = pd.read_csv(\n",
    "    '../input/riiid-test-answer-prediction/questions.csv', \n",
    "    usecols=[0, 3, 4], \n",
    "    dtype={'question_id': 'int16', 'part': 'int8', 'tags': 'str'} \n",
    ")\n",
    "\n",
    "train_df = pd.merge(train_df, questions_df[[\"question_id\", \"part\"]], left_on='content_id', right_on='question_id', how='left', right_index=True).reset_index(drop=True)\n",
    "train_df.drop(columns=['question_id'], inplace=True)"
   ]
  },
  {
   "cell_type": "code",
   "execution_count": 10,
   "metadata": {
    "execution": {
     "iopub.execute_input": "2020-12-10T06:39:50.013592Z",
     "iopub.status.busy": "2020-12-10T06:39:50.012797Z",
     "iopub.status.idle": "2020-12-10T06:40:09.144873Z",
     "shell.execute_reply": "2020-12-10T06:40:09.143617Z"
    },
    "papermill": {
     "duration": 19.168763,
     "end_time": "2020-12-10T06:40:09.145096",
     "exception": false,
     "start_time": "2020-12-10T06:39:49.976333",
     "status": "completed"
    },
    "tags": []
   },
   "outputs": [],
   "source": [
    "train_df['lag'] = train_df.groupby('user_id')[target].shift()\n",
    "cum = train_df.groupby('user_id')['lag'].agg(['cumsum', 'cumcount'])\n",
    "user_correctness_array = np.array(cum['cumsum'] / cum['cumcount'])\n",
    "user_correctness_array = user_correctness_array[train_index]\n",
    "train_df.drop(columns=['lag'], inplace=True)\n",
    "del cum"
   ]
  },
  {
   "cell_type": "code",
   "execution_count": 11,
   "metadata": {
    "execution": {
     "iopub.execute_input": "2020-12-10T06:40:09.425015Z",
     "iopub.status.busy": "2020-12-10T06:40:09.410802Z",
     "iopub.status.idle": "2020-12-10T06:44:38.787532Z",
     "shell.execute_reply": "2020-12-10T06:44:38.788381Z"
    },
    "papermill": {
     "duration": 269.604697,
     "end_time": "2020-12-10T06:44:38.788850",
     "exception": false,
     "start_time": "2020-12-10T06:40:09.184153",
     "status": "completed"
    },
    "tags": []
   },
   "outputs": [
    {
     "name": "stdout",
     "output_type": "stream",
     "text": [
      "1\n",
      "2\n",
      "3\n",
      "4\n",
      "5\n",
      "6\n",
      "7\n"
     ]
    }
   ],
   "source": [
    "#\n",
    "print(1)\n",
    "train_df[\"part_count\"] = train_df[\"part\"] ==1\n",
    "train_df[\"part_count\"] = train_df[\"part_count\"].astype(\"int8\")\n",
    "train_df['part_count_lag'] = train_df.groupby('user_id')[\"part_count\"].shift()\n",
    "part1_count_array = train_df.groupby('user_id')['part_count_lag'].agg(['cumsum']).values\n",
    "part1_count_array = part1_count_array[train_index] \n",
    "\n",
    "#\n",
    "print(2)\n",
    "train_df[\"part_count\"] = train_df[\"part\"] ==2\n",
    "train_df[\"part_count\"] = train_df[\"part_count\"].astype(\"int8\")\n",
    "train_df['part_count_lag'] = train_df.groupby('user_id')[\"part_count\"].shift()\n",
    "part2_count_array = train_df.groupby('user_id')['part_count_lag'].agg(['cumsum']).values\n",
    "part2_count_array = part2_count_array[train_index] \n",
    "\n",
    "#\n",
    "print(3)\n",
    "train_df[\"part_count\"] = train_df[\"part\"] ==3\n",
    "train_df[\"part_count\"] = train_df[\"part_count\"].astype(\"int8\")\n",
    "train_df['part_count_lag'] = train_df.groupby('user_id')[\"part_count\"].shift()\n",
    "part3_count_array = train_df.groupby('user_id')['part_count_lag'].agg(['cumsum']).values\n",
    "part3_count_array = part3_count_array[train_index] \n",
    "\n",
    "#\n",
    "print(4)\n",
    "train_df[\"part_count\"] = train_df[\"part\"] ==4\n",
    "train_df[\"part_count\"] = train_df[\"part_count\"].astype(\"int8\")\n",
    "train_df['part_count_lag'] = train_df.groupby('user_id')[\"part_count\"].shift()\n",
    "part4_count_array = train_df.groupby('user_id')['part_count_lag'].agg(['cumsum']).values\n",
    "part4_count_array = part4_count_array[train_index] \n",
    "\n",
    "#\n",
    "print(5)\n",
    "train_df[\"part_count\"] = train_df[\"part\"] ==5\n",
    "train_df[\"part_count\"] = train_df[\"part_count\"].astype(\"int8\")\n",
    "train_df['part_count_lag'] = train_df.groupby('user_id')[\"part_count\"].shift()\n",
    "part5_count_array = train_df.groupby('user_id')['part_count_lag'].agg(['cumsum']).values\n",
    "part5_count_array = part5_count_array[train_index] \n",
    "\n",
    "#\n",
    "print(6)\n",
    "train_df[\"part_count\"] = train_df[\"part\"] ==6\n",
    "train_df[\"part_count\"] = train_df[\"part_count\"].astype(\"int8\")\n",
    "train_df['part_count_lag'] = train_df.groupby('user_id')[\"part_count\"].shift()\n",
    "part6_count_array = train_df.groupby('user_id')['part_count_lag'].agg(['cumsum']).values\n",
    "part6_count_array = part6_count_array[train_index] \n",
    "\n",
    "#\n",
    "print(7)\n",
    "train_df[\"part_count\"] = train_df[\"part\"] ==7\n",
    "train_df[\"part_count\"] = train_df[\"part_count\"].astype(\"int8\")\n",
    "train_df['part_count_lag'] = train_df.groupby('user_id')[\"part_count\"].shift()\n",
    "part7_count_array = train_df.groupby('user_id')['part_count_lag'].agg(['cumsum']).values\n",
    "part7_count_array = part7_count_array[train_index] \n",
    "train_df.drop(columns=['part_count_lag', 'part_count'], inplace=True)"
   ]
  },
  {
   "cell_type": "code",
   "execution_count": 12,
   "metadata": {
    "execution": {
     "iopub.execute_input": "2020-12-10T06:44:38.864686Z",
     "iopub.status.busy": "2020-12-10T06:44:38.862338Z",
     "iopub.status.idle": "2020-12-10T06:45:08.487085Z",
     "shell.execute_reply": "2020-12-10T06:45:08.485898Z"
    },
    "papermill": {
     "duration": 29.66639,
     "end_time": "2020-12-10T06:45:08.487230",
     "exception": false,
     "start_time": "2020-12-10T06:44:38.820840",
     "status": "completed"
    },
    "tags": []
   },
   "outputs": [],
   "source": [
    "# prior_question_had_explanation_mean\n",
    "train_df['lag'] = train_df.groupby('user_id')['prior_question_had_explanation'].shift().astype(bool)\n",
    "cum = train_df.groupby('user_id')['lag'].agg(['cumsum', 'cumcount'])\n",
    "prior_question_had_explanation_mean_array = np.array(cum['cumsum'] / cum['cumcount'])\n",
    "prior_question_had_explanation_mean_array = prior_question_had_explanation_mean_array[train_index]\n",
    "\n",
    "user_prior_question_had_explanation_sum_agg = train_df.groupby('user_id')[\"prior_question_had_explanation\"].agg(['sum'])\n",
    "user_prior_question_had_explanation_sum_dict = user_prior_question_had_explanation_sum_agg['sum'].astype('int32').to_dict(defaultdict(int))\n",
    "train_df.drop(columns=['lag'], inplace=True)\n",
    "del cum, user_prior_question_had_explanation_sum_agg"
   ]
  },
  {
   "cell_type": "code",
   "execution_count": 13,
   "metadata": {
    "execution": {
     "iopub.execute_input": "2020-12-10T06:45:08.563405Z",
     "iopub.status.busy": "2020-12-10T06:45:08.562533Z",
     "iopub.status.idle": "2020-12-10T06:45:48.456601Z",
     "shell.execute_reply": "2020-12-10T06:45:48.455755Z"
    },
    "papermill": {
     "duration": 39.937885,
     "end_time": "2020-12-10T06:45:48.456747",
     "exception": false,
     "start_time": "2020-12-10T06:45:08.518862",
     "status": "completed"
    },
    "tags": []
   },
   "outputs": [],
   "source": [
    "first_attempt_df = pd.read_csv(\"../input/riiid-additional-data/content_first_attempt.csv\")\n",
    "first_attempt_array = first_attempt_df.first_attempt.values\n",
    "train_df[\"first_attempt\"] = first_attempt_array\n",
    "\n",
    "first_attempt_array = first_attempt_array[train_index]\n",
    "train_df.drop(['first_attempt'], axis=1, inplace=True)\n",
    "del first_attempt_df"
   ]
  },
  {
   "cell_type": "code",
   "execution_count": 14,
   "metadata": {
    "execution": {
     "iopub.execute_input": "2020-12-10T06:45:48.549174Z",
     "iopub.status.busy": "2020-12-10T06:45:48.531184Z",
     "iopub.status.idle": "2020-12-10T06:47:21.387104Z",
     "shell.execute_reply": "2020-12-10T06:47:21.386131Z"
    },
    "papermill": {
     "duration": 92.897761,
     "end_time": "2020-12-10T06:47:21.387301",
     "exception": false,
     "start_time": "2020-12-10T06:45:48.489540",
     "status": "completed"
    },
    "tags": []
   },
   "outputs": [],
   "source": [
    "user_agg = train_df.groupby('user_id')[target].agg(['sum', 'count'])\n",
    "content_agg = train_df.groupby('content_id')[target].agg(['sum', 'count'])\n",
    "\n",
    "user_sum_dict = user_agg['sum'].astype('int16').to_dict(defaultdict(int))\n",
    "user_count_dict = user_agg['count'].astype('int16').to_dict(defaultdict(int))\n",
    "content_sum_dict = content_agg['sum'].astype('int32').to_dict(defaultdict(int))\n",
    "content_count_dict = content_agg['count'].astype('int32').to_dict(defaultdict(int))\n",
    "\n",
    "content_count_array = train_df['content_id'].map(content_agg['count']).astype('int32').values\n",
    "content_id_array = train_df['content_id'].map(content_agg['sum'] / content_agg['count']).values\n",
    "\n",
    "# benefit of solving difficult questions\n",
    "# https://stackoverflow.com/questions/35215161/most-efficient-way-to-map-function-over-numpy-array\n",
    "func = lambda t: 1/(t + 0.1)\n",
    "vfunc = np.vectorize(func)\n",
    "point_array = vfunc(content_id_array)\n",
    "train_df[\"got_point\"] = point_array * train_df[\"answered_correctly\"].values\n",
    "user_point_agg = train_df.groupby('user_id')[\"got_point\"].agg(['sum'])\n",
    "user_point_sum_dict = user_point_agg['sum'].astype('float32').to_dict(defaultdict(float))\n",
    "\n",
    "train_df['lag'] = train_df.groupby('user_id')[\"got_point\"].shift()\n",
    "cum = train_df.groupby('user_id')['lag'].agg(['cumsum', 'cumcount'])\n",
    "got_point_array = np.array(cum['cumsum'] / cum['cumcount'])\n",
    "train_df.drop(columns=['lag'], inplace=True)\n",
    "\n",
    "train_df.drop(columns=['got_point'], inplace=True)\n",
    "del cum, user_agg, content_agg\n",
    "\n",
    "content_count_array = content_count_array[train_index]\n",
    "content_id_array = content_id_array[train_index]\n",
    "got_point_array = got_point_array[train_index]"
   ]
  },
  {
   "cell_type": "code",
   "execution_count": 15,
   "metadata": {
    "execution": {
     "iopub.execute_input": "2020-12-10T06:47:21.476265Z",
     "iopub.status.busy": "2020-12-10T06:47:21.475085Z",
     "iopub.status.idle": "2020-12-10T06:49:48.382283Z",
     "shell.execute_reply": "2020-12-10T06:49:48.382953Z"
    },
    "papermill": {
     "duration": 146.959037,
     "end_time": "2020-12-10T06:49:48.383140",
     "exception": false,
     "start_time": "2020-12-10T06:47:21.424103",
     "status": "completed"
    },
    "tags": []
   },
   "outputs": [
    {
     "name": "stdout",
     "output_type": "stream",
     "text": [
      "CPU times: user 2min 24s, sys: 2.51 s, total: 2min 26s\n",
      "Wall time: 2min 26s\n"
     ]
    }
   ],
   "source": [
    "%%time\n",
    "user_content_agg = train_df.groupby(\"user_id\")[\"content_id\"].unique().reset_index().set_index(\"user_id\")\n",
    "\n",
    "value = []\n",
    "for j in user_content_agg.index:\n",
    "    a = bitarray(32737, endian='little')\n",
    "    a.setall(True)\n",
    "    for i in user_content_agg.loc[j][0]:\n",
    "        a[i] = 0\n",
    "    value.append(a)\n",
    "    \n",
    "user_content_agg[\"content_exp\"] = value\n",
    "\n",
    "user_content_dict = user_content_agg[\"content_exp\"].to_dict(defaultdict(make_bitarray))\n",
    "del user_content_agg"
   ]
  },
  {
   "cell_type": "code",
   "execution_count": 16,
   "metadata": {
    "execution": {
     "iopub.execute_input": "2020-12-10T06:49:48.455533Z",
     "iopub.status.busy": "2020-12-10T06:49:48.454676Z",
     "iopub.status.idle": "2020-12-10T06:49:56.575948Z",
     "shell.execute_reply": "2020-12-10T06:49:56.575190Z"
    },
    "papermill": {
     "duration": 8.160338,
     "end_time": "2020-12-10T06:49:56.576089",
     "exception": false,
     "start_time": "2020-12-10T06:49:48.415751",
     "status": "completed"
    },
    "tags": []
   },
   "outputs": [],
   "source": [
    "train_df[\"count\"] = 1\n",
    "count_array = train_df.groupby(\"user_id\")[\"count\"].cumsum().values\n",
    "count_array = count_array[train_index]\n",
    "train_df.drop(\"count\", axis=1, inplace=True)"
   ]
  },
  {
   "cell_type": "code",
   "execution_count": 17,
   "metadata": {
    "execution": {
     "iopub.execute_input": "2020-12-10T06:49:57.588445Z",
     "iopub.status.busy": "2020-12-10T06:49:56.730232Z",
     "iopub.status.idle": "2020-12-10T06:50:07.281374Z",
     "shell.execute_reply": "2020-12-10T06:50:07.280686Z"
    },
    "papermill": {
     "duration": 10.672951,
     "end_time": "2020-12-10T06:50:07.281518",
     "exception": false,
     "start_time": "2020-12-10T06:49:56.608567",
     "status": "completed"
    },
    "tags": []
   },
   "outputs": [],
   "source": [
    "train_df = train_df[train_df.index.isin(train_index)].reset_index(drop=True)"
   ]
  },
  {
   "cell_type": "code",
   "execution_count": 18,
   "metadata": {
    "execution": {
     "iopub.execute_input": "2020-12-10T06:50:07.374245Z",
     "iopub.status.busy": "2020-12-10T06:50:07.368935Z",
     "iopub.status.idle": "2020-12-10T06:50:14.276735Z",
     "shell.execute_reply": "2020-12-10T06:50:14.276064Z"
    },
    "papermill": {
     "duration": 6.962416,
     "end_time": "2020-12-10T06:50:14.276865",
     "exception": false,
     "start_time": "2020-12-10T06:50:07.314449",
     "status": "completed"
    },
    "tags": []
   },
   "outputs": [],
   "source": [
    "train_df['content_count'] = content_count_array\n",
    "train_df['content_id'] = content_id_array\n",
    "train_df['user_correctness'] = user_correctness_array\n",
    "train_df['first_attempt'] = first_attempt_array\n",
    "train_df['count'] = count_array\n",
    "train_df['part1_count'] = part1_count_array\n",
    "train_df['part2_count'] = part2_count_array\n",
    "train_df['part3_count'] = part3_count_array\n",
    "train_df['part4_count'] = part4_count_array\n",
    "train_df['part5_count'] = part5_count_array\n",
    "train_df['part6_count'] = part6_count_array\n",
    "train_df['part7_count'] = part7_count_array\n",
    "train_df['prior_question_had_explanation_mean'] = prior_question_had_explanation_mean_array\n",
    "train_df['got_point'] = got_point_array\n",
    "train_df['count_from_lec'] = count_from_lec_array\n",
    "#train_df['last_lecture'] = last_lecture_array\n",
    "\n",
    "part1_count_agg = train_df.groupby('user_id')[\"part1_count\"].agg(['max'])\n",
    "part2_count_agg = train_df.groupby('user_id')[\"part2_count\"].agg(['max'])\n",
    "part3_count_agg = train_df.groupby('user_id')[\"part3_count\"].agg(['max'])\n",
    "part4_count_agg = train_df.groupby('user_id')[\"part4_count\"].agg(['max'])\n",
    "part5_count_agg = train_df.groupby('user_id')[\"part5_count\"].agg(['max'])\n",
    "part6_count_agg = train_df.groupby('user_id')[\"part6_count\"].agg(['max'])\n",
    "part7_count_agg = train_df.groupby('user_id')[\"part7_count\"].agg(['max'])\n",
    "part1_count_agg['max'].fillna(0,inplace=True)\n",
    "part2_count_agg['max'].fillna(0,inplace=True)\n",
    "part3_count_agg['max'].fillna(0,inplace=True)\n",
    "part4_count_agg['max'].fillna(0,inplace=True)\n",
    "part5_count_agg['max'].fillna(0,inplace=True)\n",
    "part6_count_agg['max'].fillna(0,inplace=True)\n",
    "part7_count_agg['max'].fillna(0,inplace=True)\n",
    "part1_count_dict = part1_count_agg['max'].astype('int32').to_dict(defaultdict(int))\n",
    "part2_count_dict = part2_count_agg['max'].astype('int32').to_dict(defaultdict(int))\n",
    "part3_count_dict = part3_count_agg['max'].astype('int32').to_dict(defaultdict(int))\n",
    "part4_count_dict = part4_count_agg['max'].astype('int32').to_dict(defaultdict(int))\n",
    "part5_count_dict = part5_count_agg['max'].astype('int32').to_dict(defaultdict(int))\n",
    "part6_count_dict = part6_count_agg['max'].astype('int32').to_dict(defaultdict(int))\n",
    "part7_count_dict = part7_count_agg['max'].astype('int32').to_dict(defaultdict(int))\n",
    "\n",
    "user_count_from_lec_dict = train_df.groupby(\"user_id\").tail(1)['count_from_lec'].to_dict(defaultdict(int))\n",
    "#user_last_lecture_dict = train_df.groupby(\"user_id\").tail(1)[\"last_lecture\"].to_dict(defaultdict(int))\n",
    "\n",
    "del part1_count_agg, part2_count_agg, part3_count_agg, part4_count_agg, part5_count_agg, part6_count_agg, part7_count_agg"
   ]
  },
  {
   "cell_type": "code",
   "execution_count": 19,
   "metadata": {
    "execution": {
     "iopub.execute_input": "2020-12-10T06:50:14.352932Z",
     "iopub.status.busy": "2020-12-10T06:50:14.351946Z",
     "iopub.status.idle": "2020-12-10T06:50:14.356579Z",
     "shell.execute_reply": "2020-12-10T06:50:14.355609Z"
    },
    "papermill": {
     "duration": 0.046607,
     "end_time": "2020-12-10T06:50:14.356727",
     "exception": false,
     "start_time": "2020-12-10T06:50:14.310120",
     "status": "completed"
    },
    "tags": []
   },
   "outputs": [
    {
     "name": "stdout",
     "output_type": "stream",
     "text": [
      "19\n",
      "['user_id']\n"
     ]
    }
   ],
   "source": [
    "features = [\n",
    "    'content_id',\n",
    "    'prior_question_elapsed_time',\n",
    "    'prior_question_had_explanation',\n",
    "    'user_correctness',\n",
    "    'part',\n",
    "    'content_count',\n",
    "    'count',\n",
    "    'first_attempt',\n",
    "    'timestamp',\n",
    "    'part1_count',\n",
    "    'part2_count',\n",
    "    'part3_count',\n",
    "    'part4_count',\n",
    "    'part5_count',\n",
    "    'part6_count',\n",
    "    'part7_count', \n",
    "    'prior_question_had_explanation_mean',\n",
    "    'got_point',\n",
    "    'count_from_lec'\n",
    "]\n",
    "\n",
    "print(len(features))\n",
    "drop_cols = [i for i in train_df.columns if i not in features + [target]]\n",
    "print(drop_cols)"
   ]
  },
  {
   "cell_type": "code",
   "execution_count": 20,
   "metadata": {
    "execution": {
     "iopub.execute_input": "2020-12-10T06:50:14.433781Z",
     "iopub.status.busy": "2020-12-10T06:50:14.432918Z",
     "iopub.status.idle": "2020-12-10T06:50:17.753790Z",
     "shell.execute_reply": "2020-12-10T06:50:17.754595Z"
    },
    "papermill": {
     "duration": 3.364349,
     "end_time": "2020-12-10T06:50:17.754758",
     "exception": false,
     "start_time": "2020-12-10T06:50:14.390409",
     "status": "completed"
    },
    "tags": []
   },
   "outputs": [
    {
     "name": "stdout",
     "output_type": "stream",
     "text": [
      "(6536675, 20) (2360984, 20)\n"
     ]
    }
   ],
   "source": [
    "if FULL_TRAIN:\n",
    "    train_df.drop(drop_cols, axis=1, inplace=True)\n",
    "    print(train_df.shape)\n",
    "else:\n",
    "    valid_df = train_df.groupby('user_id').tail(valid_size).copy()\n",
    "    train_df.drop(valid_df.index, inplace=True)\n",
    "    train_df.drop(drop_cols, axis=1, inplace=True)\n",
    "    valid_df.drop(drop_cols, axis=1, inplace=True)\n",
    "    print(train_df.shape, valid_df.shape)"
   ]
  },
  {
   "cell_type": "code",
   "execution_count": 21,
   "metadata": {
    "execution": {
     "iopub.execute_input": "2020-12-10T06:50:17.840717Z",
     "iopub.status.busy": "2020-12-10T06:50:17.835488Z",
     "iopub.status.idle": "2020-12-10T06:50:17.872685Z",
     "shell.execute_reply": "2020-12-10T06:50:17.871887Z"
    },
    "papermill": {
     "duration": 0.083572,
     "end_time": "2020-12-10T06:50:17.872816",
     "exception": false,
     "start_time": "2020-12-10T06:50:17.789244",
     "status": "completed"
    },
    "tags": []
   },
   "outputs": [
    {
     "data": {
      "text/html": [
       "<div>\n",
       "<style scoped>\n",
       "    .dataframe tbody tr th:only-of-type {\n",
       "        vertical-align: middle;\n",
       "    }\n",
       "\n",
       "    .dataframe tbody tr th {\n",
       "        vertical-align: top;\n",
       "    }\n",
       "\n",
       "    .dataframe thead th {\n",
       "        text-align: right;\n",
       "    }\n",
       "</style>\n",
       "<table border=\"1\" class=\"dataframe\">\n",
       "  <thead>\n",
       "    <tr style=\"text-align: right;\">\n",
       "      <th></th>\n",
       "      <th>timestamp</th>\n",
       "      <th>content_id</th>\n",
       "      <th>answered_correctly</th>\n",
       "      <th>prior_question_elapsed_time</th>\n",
       "      <th>prior_question_had_explanation</th>\n",
       "      <th>part</th>\n",
       "      <th>content_count</th>\n",
       "      <th>user_correctness</th>\n",
       "      <th>first_attempt</th>\n",
       "      <th>count</th>\n",
       "      <th>part1_count</th>\n",
       "      <th>part2_count</th>\n",
       "      <th>part3_count</th>\n",
       "      <th>part4_count</th>\n",
       "      <th>part5_count</th>\n",
       "      <th>part6_count</th>\n",
       "      <th>part7_count</th>\n",
       "      <th>prior_question_had_explanation_mean</th>\n",
       "      <th>got_point</th>\n",
       "      <th>count_from_lec</th>\n",
       "    </tr>\n",
       "  </thead>\n",
       "  <tbody>\n",
       "    <tr>\n",
       "      <th>0</th>\n",
       "      <td>1</td>\n",
       "      <td>0.687217</td>\n",
       "      <td>0</td>\n",
       "      <td>19000.0</td>\n",
       "      <td>False</td>\n",
       "      <td>1</td>\n",
       "      <td>36674</td>\n",
       "      <td>0.727273</td>\n",
       "      <td>True</td>\n",
       "      <td>23</td>\n",
       "      <td>20.0</td>\n",
       "      <td>0.0</td>\n",
       "      <td>0.0</td>\n",
       "      <td>0.0</td>\n",
       "      <td>2.0</td>\n",
       "      <td>0.0</td>\n",
       "      <td>0.0</td>\n",
       "      <td>0.045455</td>\n",
       "      <td>0.765325</td>\n",
       "      <td>0</td>\n",
       "    </tr>\n",
       "    <tr>\n",
       "      <th>1</th>\n",
       "      <td>1</td>\n",
       "      <td>0.608222</td>\n",
       "      <td>0</td>\n",
       "      <td>21000.0</td>\n",
       "      <td>False</td>\n",
       "      <td>1</td>\n",
       "      <td>47047</td>\n",
       "      <td>0.695652</td>\n",
       "      <td>True</td>\n",
       "      <td>24</td>\n",
       "      <td>21.0</td>\n",
       "      <td>0.0</td>\n",
       "      <td>0.0</td>\n",
       "      <td>0.0</td>\n",
       "      <td>2.0</td>\n",
       "      <td>0.0</td>\n",
       "      <td>0.0</td>\n",
       "      <td>0.043478</td>\n",
       "      <td>0.732050</td>\n",
       "      <td>0</td>\n",
       "    </tr>\n",
       "    <tr>\n",
       "      <th>2</th>\n",
       "      <td>1</td>\n",
       "      <td>0.601824</td>\n",
       "      <td>1</td>\n",
       "      <td>22000.0</td>\n",
       "      <td>False</td>\n",
       "      <td>1</td>\n",
       "      <td>40452</td>\n",
       "      <td>0.666667</td>\n",
       "      <td>True</td>\n",
       "      <td>25</td>\n",
       "      <td>22.0</td>\n",
       "      <td>0.0</td>\n",
       "      <td>0.0</td>\n",
       "      <td>0.0</td>\n",
       "      <td>2.0</td>\n",
       "      <td>0.0</td>\n",
       "      <td>0.0</td>\n",
       "      <td>0.041667</td>\n",
       "      <td>0.701548</td>\n",
       "      <td>0</td>\n",
       "    </tr>\n",
       "    <tr>\n",
       "      <th>3</th>\n",
       "      <td>1</td>\n",
       "      <td>0.418436</td>\n",
       "      <td>1</td>\n",
       "      <td>16000.0</td>\n",
       "      <td>False</td>\n",
       "      <td>1</td>\n",
       "      <td>190170</td>\n",
       "      <td>0.680000</td>\n",
       "      <td>True</td>\n",
       "      <td>26</td>\n",
       "      <td>23.0</td>\n",
       "      <td>0.0</td>\n",
       "      <td>0.0</td>\n",
       "      <td>0.0</td>\n",
       "      <td>2.0</td>\n",
       "      <td>0.0</td>\n",
       "      <td>0.0</td>\n",
       "      <td>0.040000</td>\n",
       "      <td>0.730480</td>\n",
       "      <td>0</td>\n",
       "    </tr>\n",
       "    <tr>\n",
       "      <th>4</th>\n",
       "      <td>1</td>\n",
       "      <td>0.474545</td>\n",
       "      <td>1</td>\n",
       "      <td>20000.0</td>\n",
       "      <td>False</td>\n",
       "      <td>1</td>\n",
       "      <td>56707</td>\n",
       "      <td>0.692308</td>\n",
       "      <td>True</td>\n",
       "      <td>27</td>\n",
       "      <td>24.0</td>\n",
       "      <td>0.0</td>\n",
       "      <td>0.0</td>\n",
       "      <td>0.0</td>\n",
       "      <td>2.0</td>\n",
       "      <td>0.0</td>\n",
       "      <td>0.0</td>\n",
       "      <td>0.038462</td>\n",
       "      <td>0.776572</td>\n",
       "      <td>0</td>\n",
       "    </tr>\n",
       "    <tr>\n",
       "      <th>5</th>\n",
       "      <td>1</td>\n",
       "      <td>0.461387</td>\n",
       "      <td>1</td>\n",
       "      <td>22000.0</td>\n",
       "      <td>False</td>\n",
       "      <td>1</td>\n",
       "      <td>30430</td>\n",
       "      <td>0.703704</td>\n",
       "      <td>True</td>\n",
       "      <td>28</td>\n",
       "      <td>25.0</td>\n",
       "      <td>0.0</td>\n",
       "      <td>0.0</td>\n",
       "      <td>0.0</td>\n",
       "      <td>2.0</td>\n",
       "      <td>0.0</td>\n",
       "      <td>0.0</td>\n",
       "      <td>0.037037</td>\n",
       "      <td>0.812274</td>\n",
       "      <td>0</td>\n",
       "    </tr>\n",
       "    <tr>\n",
       "      <th>6</th>\n",
       "      <td>1</td>\n",
       "      <td>0.543071</td>\n",
       "      <td>1</td>\n",
       "      <td>22000.0</td>\n",
       "      <td>False</td>\n",
       "      <td>1</td>\n",
       "      <td>66146</td>\n",
       "      <td>0.714286</td>\n",
       "      <td>True</td>\n",
       "      <td>29</td>\n",
       "      <td>26.0</td>\n",
       "      <td>0.0</td>\n",
       "      <td>0.0</td>\n",
       "      <td>0.0</td>\n",
       "      <td>2.0</td>\n",
       "      <td>0.0</td>\n",
       "      <td>0.0</td>\n",
       "      <td>0.035714</td>\n",
       "      <td>0.846882</td>\n",
       "      <td>0</td>\n",
       "    </tr>\n",
       "    <tr>\n",
       "      <th>7</th>\n",
       "      <td>1</td>\n",
       "      <td>0.359970</td>\n",
       "      <td>0</td>\n",
       "      <td>23000.0</td>\n",
       "      <td>False</td>\n",
       "      <td>1</td>\n",
       "      <td>195861</td>\n",
       "      <td>0.724138</td>\n",
       "      <td>True</td>\n",
       "      <td>30</td>\n",
       "      <td>27.0</td>\n",
       "      <td>0.0</td>\n",
       "      <td>0.0</td>\n",
       "      <td>0.0</td>\n",
       "      <td>2.0</td>\n",
       "      <td>0.0</td>\n",
       "      <td>0.0</td>\n",
       "      <td>0.034483</td>\n",
       "      <td>0.871301</td>\n",
       "      <td>0</td>\n",
       "    </tr>\n",
       "    <tr>\n",
       "      <th>8</th>\n",
       "      <td>1</td>\n",
       "      <td>0.353568</td>\n",
       "      <td>1</td>\n",
       "      <td>20000.0</td>\n",
       "      <td>False</td>\n",
       "      <td>1</td>\n",
       "      <td>15386</td>\n",
       "      <td>0.700000</td>\n",
       "      <td>True</td>\n",
       "      <td>31</td>\n",
       "      <td>28.0</td>\n",
       "      <td>0.0</td>\n",
       "      <td>0.0</td>\n",
       "      <td>0.0</td>\n",
       "      <td>2.0</td>\n",
       "      <td>0.0</td>\n",
       "      <td>0.0</td>\n",
       "      <td>0.033333</td>\n",
       "      <td>0.842258</td>\n",
       "      <td>0</td>\n",
       "    </tr>\n",
       "    <tr>\n",
       "      <th>9</th>\n",
       "      <td>1</td>\n",
       "      <td>0.381249</td>\n",
       "      <td>0</td>\n",
       "      <td>15000.0</td>\n",
       "      <td>False</td>\n",
       "      <td>1</td>\n",
       "      <td>47486</td>\n",
       "      <td>0.709677</td>\n",
       "      <td>True</td>\n",
       "      <td>32</td>\n",
       "      <td>29.0</td>\n",
       "      <td>0.0</td>\n",
       "      <td>0.0</td>\n",
       "      <td>0.0</td>\n",
       "      <td>2.0</td>\n",
       "      <td>0.0</td>\n",
       "      <td>0.0</td>\n",
       "      <td>0.032258</td>\n",
       "      <td>0.886209</td>\n",
       "      <td>0</td>\n",
       "    </tr>\n",
       "  </tbody>\n",
       "</table>\n",
       "</div>"
      ],
      "text/plain": [
       "   timestamp  content_id  answered_correctly  prior_question_elapsed_time  \\\n",
       "0          1    0.687217                   0                      19000.0   \n",
       "1          1    0.608222                   0                      21000.0   \n",
       "2          1    0.601824                   1                      22000.0   \n",
       "3          1    0.418436                   1                      16000.0   \n",
       "4          1    0.474545                   1                      20000.0   \n",
       "5          1    0.461387                   1                      22000.0   \n",
       "6          1    0.543071                   1                      22000.0   \n",
       "7          1    0.359970                   0                      23000.0   \n",
       "8          1    0.353568                   1                      20000.0   \n",
       "9          1    0.381249                   0                      15000.0   \n",
       "\n",
       "   prior_question_had_explanation  part  content_count  user_correctness  \\\n",
       "0                           False     1          36674          0.727273   \n",
       "1                           False     1          47047          0.695652   \n",
       "2                           False     1          40452          0.666667   \n",
       "3                           False     1         190170          0.680000   \n",
       "4                           False     1          56707          0.692308   \n",
       "5                           False     1          30430          0.703704   \n",
       "6                           False     1          66146          0.714286   \n",
       "7                           False     1         195861          0.724138   \n",
       "8                           False     1          15386          0.700000   \n",
       "9                           False     1          47486          0.709677   \n",
       "\n",
       "   first_attempt  count  part1_count  part2_count  part3_count  part4_count  \\\n",
       "0           True     23         20.0          0.0          0.0          0.0   \n",
       "1           True     24         21.0          0.0          0.0          0.0   \n",
       "2           True     25         22.0          0.0          0.0          0.0   \n",
       "3           True     26         23.0          0.0          0.0          0.0   \n",
       "4           True     27         24.0          0.0          0.0          0.0   \n",
       "5           True     28         25.0          0.0          0.0          0.0   \n",
       "6           True     29         26.0          0.0          0.0          0.0   \n",
       "7           True     30         27.0          0.0          0.0          0.0   \n",
       "8           True     31         28.0          0.0          0.0          0.0   \n",
       "9           True     32         29.0          0.0          0.0          0.0   \n",
       "\n",
       "   part5_count  part6_count  part7_count  prior_question_had_explanation_mean  \\\n",
       "0          2.0          0.0          0.0                             0.045455   \n",
       "1          2.0          0.0          0.0                             0.043478   \n",
       "2          2.0          0.0          0.0                             0.041667   \n",
       "3          2.0          0.0          0.0                             0.040000   \n",
       "4          2.0          0.0          0.0                             0.038462   \n",
       "5          2.0          0.0          0.0                             0.037037   \n",
       "6          2.0          0.0          0.0                             0.035714   \n",
       "7          2.0          0.0          0.0                             0.034483   \n",
       "8          2.0          0.0          0.0                             0.033333   \n",
       "9          2.0          0.0          0.0                             0.032258   \n",
       "\n",
       "   got_point  count_from_lec  \n",
       "0   0.765325               0  \n",
       "1   0.732050               0  \n",
       "2   0.701548               0  \n",
       "3   0.730480               0  \n",
       "4   0.776572               0  \n",
       "5   0.812274               0  \n",
       "6   0.846882               0  \n",
       "7   0.871301               0  \n",
       "8   0.842258               0  \n",
       "9   0.886209               0  "
      ]
     },
     "execution_count": 21,
     "metadata": {},
     "output_type": "execute_result"
    }
   ],
   "source": [
    "train_df.head(10)"
   ]
  },
  {
   "cell_type": "markdown",
   "metadata": {
    "papermill": {
     "duration": 0.03489,
     "end_time": "2020-12-10T06:50:17.943294",
     "exception": false,
     "start_time": "2020-12-10T06:50:17.908404",
     "status": "completed"
    },
    "tags": []
   },
   "source": [
    "# Train"
   ]
  },
  {
   "cell_type": "code",
   "execution_count": 22,
   "metadata": {
    "execution": {
     "iopub.execute_input": "2020-12-10T06:50:18.022969Z",
     "iopub.status.busy": "2020-12-10T06:50:18.021975Z",
     "iopub.status.idle": "2020-12-10T06:50:18.025783Z",
     "shell.execute_reply": "2020-12-10T06:50:18.024947Z"
    },
    "papermill": {
     "duration": 0.04714,
     "end_time": "2020-12-10T06:50:18.025931",
     "exception": false,
     "start_time": "2020-12-10T06:50:17.978791",
     "status": "completed"
    },
    "tags": []
   },
   "outputs": [],
   "source": [
    "params = {\n",
    "    'objective': 'binary',\n",
    "    'seed': 42,\n",
    "    'metric': 'auc',\n",
    "    'learning_rate': 0.05,\n",
    "    'max_bin': 800,\n",
    "    'num_leaves': 80\n",
    "}"
   ]
  },
  {
   "cell_type": "code",
   "execution_count": 23,
   "metadata": {
    "execution": {
     "iopub.execute_input": "2020-12-10T06:50:18.158896Z",
     "iopub.status.busy": "2020-12-10T06:50:18.142616Z",
     "iopub.status.idle": "2020-12-10T08:00:11.675223Z",
     "shell.execute_reply": "2020-12-10T08:00:11.676127Z"
    },
    "papermill": {
     "duration": 4193.615268,
     "end_time": "2020-12-10T08:00:11.676505",
     "exception": false,
     "start_time": "2020-12-10T06:50:18.061237",
     "status": "completed"
    },
    "tags": []
   },
   "outputs": [
    {
     "name": "stdout",
     "output_type": "stream",
     "text": [
      "Training until validation scores don't improve for 50 rounds\n",
      "[50]\ttraining's auc: 0.760489\tvalid_1's auc: 0.745741\n",
      "[100]\ttraining's auc: 0.762946\tvalid_1's auc: 0.748782\n",
      "[150]\ttraining's auc: 0.764174\tvalid_1's auc: 0.750072\n",
      "[200]\ttraining's auc: 0.764813\tvalid_1's auc: 0.750568\n",
      "[250]\ttraining's auc: 0.765275\tvalid_1's auc: 0.750869\n",
      "[300]\ttraining's auc: 0.765735\tvalid_1's auc: 0.751155\n",
      "[350]\ttraining's auc: 0.766088\tvalid_1's auc: 0.751305\n",
      "[400]\ttraining's auc: 0.766466\tvalid_1's auc: 0.751492\n",
      "[450]\ttraining's auc: 0.766823\tvalid_1's auc: 0.751651\n",
      "[500]\ttraining's auc: 0.767131\tvalid_1's auc: 0.751753\n",
      "[550]\ttraining's auc: 0.767412\tvalid_1's auc: 0.751824\n",
      "[600]\ttraining's auc: 0.767677\tvalid_1's auc: 0.751886\n",
      "[650]\ttraining's auc: 0.767951\tvalid_1's auc: 0.751951\n",
      "[700]\ttraining's auc: 0.768205\tvalid_1's auc: 0.752006\n",
      "[750]\ttraining's auc: 0.768475\tvalid_1's auc: 0.752058\n",
      "[800]\ttraining's auc: 0.768733\tvalid_1's auc: 0.752125\n",
      "[850]\ttraining's auc: 0.76897\tvalid_1's auc: 0.752158\n",
      "[900]\ttraining's auc: 0.769231\tvalid_1's auc: 0.752213\n",
      "[950]\ttraining's auc: 0.769474\tvalid_1's auc: 0.752251\n",
      "[1000]\ttraining's auc: 0.769738\tvalid_1's auc: 0.752301\n",
      "[1050]\ttraining's auc: 0.770007\tvalid_1's auc: 0.752361\n",
      "[1100]\ttraining's auc: 0.770272\tvalid_1's auc: 0.75241\n",
      "[1150]\ttraining's auc: 0.770528\tvalid_1's auc: 0.752462\n",
      "[1200]\ttraining's auc: 0.770774\tvalid_1's auc: 0.752501\n",
      "[1250]\ttraining's auc: 0.770995\tvalid_1's auc: 0.752515\n",
      "[1300]\ttraining's auc: 0.771211\tvalid_1's auc: 0.752527\n",
      "[1350]\ttraining's auc: 0.771421\tvalid_1's auc: 0.752536\n",
      "[1400]\ttraining's auc: 0.771627\tvalid_1's auc: 0.752553\n",
      "[1450]\ttraining's auc: 0.771878\tvalid_1's auc: 0.752592\n",
      "[1500]\ttraining's auc: 0.772109\tvalid_1's auc: 0.752612\n",
      "[1550]\ttraining's auc: 0.772339\tvalid_1's auc: 0.75264\n",
      "[1600]\ttraining's auc: 0.77259\tvalid_1's auc: 0.752678\n",
      "[1650]\ttraining's auc: 0.772789\tvalid_1's auc: 0.752689\n",
      "[1700]\ttraining's auc: 0.773021\tvalid_1's auc: 0.752717\n",
      "[1750]\ttraining's auc: 0.773255\tvalid_1's auc: 0.752752\n",
      "[1800]\ttraining's auc: 0.773484\tvalid_1's auc: 0.752785\n",
      "[1850]\ttraining's auc: 0.773712\tvalid_1's auc: 0.752809\n",
      "[1900]\ttraining's auc: 0.773952\tvalid_1's auc: 0.752826\n",
      "[1950]\ttraining's auc: 0.774159\tvalid_1's auc: 0.752839\n",
      "[2000]\ttraining's auc: 0.774341\tvalid_1's auc: 0.752843\n",
      "[2050]\ttraining's auc: 0.774548\tvalid_1's auc: 0.752846\n",
      "[2100]\ttraining's auc: 0.774777\tvalid_1's auc: 0.752862\n",
      "[2150]\ttraining's auc: 0.774964\tvalid_1's auc: 0.752863\n",
      "Early stopping, best iteration is:\n",
      "[2109]\ttraining's auc: 0.774816\tvalid_1's auc: 0.752865\n"
     ]
    }
   ],
   "source": [
    "if FULL_TRAIN:\n",
    "    X_train = np.ndarray(shape=(train_df.shape[0], len(features)), dtype=np.float32)\n",
    "    y_train = np.ndarray(shape=(train_df.shape[0], 1), dtype=np.float32)\n",
    "    for idx, feature in enumerate(features):\n",
    "        X_train[:,idx] = train_df[feature].values.astype(np.float32)\n",
    "        train_df.drop(feature, axis=1, inplace=True)\n",
    "    y_train = train_df[target].values.astype(np.float32)\n",
    "    train_df.drop(target, axis=1, inplace=True)\n",
    "\n",
    "    tr_data = lgb.Dataset(X_train, label=y_train)\n",
    "    print(\"Full training starts\")\n",
    "    model = lgb.train(\n",
    "        params, \n",
    "        tr_data, \n",
    "        num_boost_round=3500,\n",
    "        valid_sets=None, \n",
    "        )\n",
    "else:    \n",
    "    X_train = np.ndarray(shape=(train_df.shape[0], len(features)), dtype=np.float32)\n",
    "    y_train = np.ndarray(shape=(train_df.shape[0], 1), dtype=np.float32)\n",
    "    for idx, feature in enumerate(features):\n",
    "        X_train[:,idx] = train_df[feature].values.astype(np.float32)\n",
    "        train_df.drop(feature, axis=1, inplace=True)\n",
    "    y_train = train_df[target].values.astype(np.float32)\n",
    "    train_df.drop(target, axis=1, inplace=True)\n",
    "    tr_data = lgb.Dataset(X_train, label=y_train)\n",
    "    \n",
    "    X_valid = np.ndarray(shape=(valid_df.shape[0], len(features)), dtype=np.float32)\n",
    "    y_valid = np.ndarray(shape=(valid_df.shape[0], 1), dtype=np.float32)\n",
    "    for idx, feature in enumerate(features):\n",
    "        X_valid[:,idx] = valid_df[feature].values.astype(np.float32)\n",
    "        valid_df.drop(feature, axis=1, inplace=True)\n",
    "    y_valid = valid_df[target].values.astype(np.float32)\n",
    "    valid_df.drop(target, axis=1, inplace=True)\n",
    "    va_data = lgb.Dataset(X_valid, label=y_valid)\n",
    "\n",
    "    model = lgb.train(\n",
    "        params, \n",
    "        tr_data, \n",
    "        num_boost_round=10000,\n",
    "        valid_sets=[tr_data, va_data], \n",
    "        early_stopping_rounds=50,\n",
    "        verbose_eval=50\n",
    "        )"
   ]
  },
  {
   "cell_type": "markdown",
   "metadata": {
    "papermill": {
     "duration": 0.063729,
     "end_time": "2020-12-10T08:00:11.807427",
     "exception": false,
     "start_time": "2020-12-10T08:00:11.743698",
     "status": "completed"
    },
    "tags": []
   },
   "source": [
    "# Inference"
   ]
  },
  {
   "cell_type": "code",
   "execution_count": 24,
   "metadata": {
    "execution": {
     "iopub.execute_input": "2020-12-10T08:00:11.926438Z",
     "iopub.status.busy": "2020-12-10T08:00:11.925446Z",
     "iopub.status.idle": "2020-12-10T08:00:11.928288Z",
     "shell.execute_reply": "2020-12-10T08:00:11.928879Z"
    },
    "papermill": {
     "duration": 0.065119,
     "end_time": "2020-12-10T08:00:11.929052",
     "exception": false,
     "start_time": "2020-12-10T08:00:11.863933",
     "status": "completed"
    },
    "tags": []
   },
   "outputs": [],
   "source": [
    "env = riiideducation.make_env()\n",
    "iter_test = env.iter_test()\n",
    "prior_test_df = None"
   ]
  },
  {
   "cell_type": "code",
   "execution_count": 25,
   "metadata": {
    "execution": {
     "iopub.execute_input": "2020-12-10T08:00:12.067640Z",
     "iopub.status.busy": "2020-12-10T08:00:12.054569Z",
     "iopub.status.idle": "2020-12-10T08:00:13.247646Z",
     "shell.execute_reply": "2020-12-10T08:00:13.246859Z"
    },
    "papermill": {
     "duration": 1.264392,
     "end_time": "2020-12-10T08:00:13.247837",
     "exception": false,
     "start_time": "2020-12-10T08:00:11.983445",
     "status": "completed"
    },
    "tags": []
   },
   "outputs": [
    {
     "name": "stdout",
     "output_type": "stream",
     "text": [
      "CPU times: user 1.81 s, sys: 141 ms, total: 1.95 s\n",
      "Wall time: 1.17 s\n"
     ]
    }
   ],
   "source": [
    "%%time\n",
    "\n",
    "for (test_df, sample_prediction_df) in iter_test:\n",
    "    if prior_test_df is not None:\n",
    "        prior_test_df[target] = eval(test_df['prior_group_answers_correct'].iloc[0])\n",
    "        prior_test_df = prior_test_df[prior_test_df[target] != -1].reset_index(drop=True)\n",
    "        \n",
    "        user_ids = prior_test_df['user_id'].values\n",
    "        content_ids = prior_test_df['content_id'].values\n",
    "        targets = prior_test_df[target].values\n",
    "         \n",
    "        for user_id, content_id, answered_correctly, part, first_attempt_ornot, prior_explanation, prior_point, each_user_count_from_lec in zip(user_ids, content_ids, \n",
    "                                                            targets, \n",
    "                                                            prior_part_arrays, \n",
    "                                                            prior_f_attempt_arrays,\n",
    "                                                            p_prior_question_had_explanation,\n",
    "                                                            prior_point_array,\n",
    "                                                            user_count_from_lec):\n",
    "            user_sum_dict[user_id] += answered_correctly\n",
    "            user_count_dict[user_id] += 1\n",
    "            content_sum_dict[content_id] += answered_correctly\n",
    "            content_count_dict[content_id] += 1\n",
    "            if part == 1:\n",
    "                part1_count_dict[user_id] +=1\n",
    "            elif part == 2:\n",
    "                part2_count_dict[user_id] +=1\n",
    "            elif part == 3:\n",
    "                part3_count_dict[user_id] +=1\n",
    "            elif part == 4:\n",
    "                part4_count_dict[user_id] +=1\n",
    "            elif part == 5:\n",
    "                part5_count_dict[user_id] +=1\n",
    "            elif part == 6:\n",
    "                part6_count_dict[user_id] +=1\n",
    "            else:\n",
    "                part7_count_dict[user_id] +=1\n",
    "            user_prior_question_had_explanation_sum_dict[user_id] += prior_explanation\n",
    "            user_point_sum_dict[user_id] += prior_point * answered_correctly\n",
    "            user_count_from_lec_dict[user_id] = each_user_count_from_lec\n",
    "\n",
    "    prior_test_df = test_df.copy()\n",
    "    \n",
    "    change_index = list(test_df[test_df.content_type_id==1].index)\n",
    "    test_df[\"count_from_lec\"] = test_df.groupby(\"user_id\")[\"content_type_id\"].apply(lambda x: x.replace(to_replace=False, method='ffill'))\n",
    "    test_df.loc[change_index, \"count_from_lec\"] = 0\n",
    "    test_count_from_lec = test_df.groupby(\"user_id\")[\"count_from_lec\"].apply(lambda x: rcount_test(x.values)).values\n",
    "    test_count_from_lec = np.hstack(test_count_from_lec)\n",
    "    test_df['count_from_lec'] = test_count_from_lec\n",
    "    \n",
    "    test_df = test_df[test_df['content_type_id'] == 0].reset_index(drop=True)\n",
    "    test_df = pd.merge(test_df, questions_df, left_on='content_id', right_on='question_id', how='left', right_index=True).reset_index(drop=True)\n",
    "    test_df['prior_question_had_explanation'] = test_df['prior_question_had_explanation'].fillna(False).astype('bool')\n",
    "    test_df['prior_question_elapsed_time'] = test_df['prior_question_elapsed_time'].fillna(0)\n",
    "    test_df['timestamp'] = (test_df['timestamp'] // 86400000) + 1\n",
    "    \n",
    "    prior_part_arrays = test_df['part'].values\n",
    "    p_prior_question_had_explanation = test_df['prior_question_had_explanation'].values\n",
    "    \n",
    "    user_sum = np.zeros(len(test_df), dtype=np.int16)\n",
    "    user_count = np.zeros(len(test_df), dtype=np.int16)\n",
    "    content_sum = np.zeros(len(test_df), dtype=np.int32)\n",
    "    content_count = np.zeros(len(test_df), dtype=np.int32)\n",
    "    part1_count = np.zeros(len(test_df), dtype=np.int32)\n",
    "    part2_count = np.zeros(len(test_df), dtype=np.int32)\n",
    "    part3_count = np.zeros(len(test_df), dtype=np.int32)\n",
    "    part4_count = np.zeros(len(test_df), dtype=np.int32)\n",
    "    part5_count = np.zeros(len(test_df), dtype=np.int32)\n",
    "    part6_count = np.zeros(len(test_df), dtype=np.int32)\n",
    "    part7_count = np.zeros(len(test_df), dtype=np.int32)\n",
    "    first_attempt_values = []\n",
    "    user_prior_question_had_explanation_sum = np.zeros(len(test_df), dtype=np.int32)\n",
    "    got_point_array = np.zeros(len(test_df), dtype=np.float32)\n",
    "    user_count_from_lec = test_df['count_from_lec'].values\n",
    "    \n",
    "    for i, (user_id, content_id) in enumerate(zip(test_df['user_id'].values, test_df['content_id'].values)):\n",
    "        user_sum[i] = user_sum_dict[user_id]\n",
    "        user_count[i] = user_count_dict[user_id]\n",
    "        content_sum[i] = content_sum_dict[content_id]\n",
    "        content_count[i] = content_count_dict[content_id]\n",
    "        part1_count[i] = part1_count_dict[user_id]\n",
    "        part2_count[i] = part2_count_dict[user_id]\n",
    "        part3_count[i] = part3_count_dict[user_id]\n",
    "        part4_count[i] = part4_count_dict[user_id]\n",
    "        part5_count[i] = part5_count_dict[user_id]\n",
    "        part6_count[i] = part6_count_dict[user_id]\n",
    "        part7_count[i] = part7_count_dict[user_id]\n",
    "        first_attempt_values.append(user_content_dict[user_id][content_id])\n",
    "        user_content_dict[user_id][content_id] = False \n",
    "        user_prior_question_had_explanation_sum[i] = user_prior_question_had_explanation_sum_dict[user_id]\n",
    "        got_point_array[i] = user_point_sum_dict[user_id]\n",
    "        \n",
    "        if user_count_from_lec_dict[user_id] !=0:\n",
    "            if user_count_from_lec[i]==0:\n",
    "                user_count_from_lec[i] = user_count_from_lec_dict[user_id] + 1\n",
    "                user_count_from_lec_dict[user_id] += 1\n",
    "                \n",
    "    test_df['user_correctness'] = user_sum / user_count\n",
    "    test_df['content_count'] = content_count\n",
    "    test_df['content_id'] = content_sum / content_count\n",
    "    test_df['count'] = 1\n",
    "    test_df['count'] = test_df.groupby(\"user_id\")[\"count\"].cumsum()\n",
    "    test_df['count'] += user_count\n",
    "    test_df['part1_count'] = part1_count\n",
    "    test_df['part2_count'] = part2_count\n",
    "    test_df['part3_count'] = part3_count\n",
    "    test_df['part4_count'] = part4_count\n",
    "    test_df['part5_count'] = part5_count\n",
    "    test_df['part6_count'] = part6_count\n",
    "    test_df['part7_count'] = part7_count\n",
    "    test_df[\"first_attempt\"] = first_attempt_values\n",
    "    test_df['prior_question_had_explanation_mean'] = user_prior_question_had_explanation_sum / user_count\n",
    "    test_df['got_point'] = got_point_array / user_count\n",
    "    test_df['count_from_lec'] = user_count_from_lec\n",
    "\n",
    "    prior_f_attempt_arrays = test_df['first_attempt'].values\n",
    "    prior_point_array = vfunc(test_df.content_id.values)\n",
    "\n",
    "    test_df[target] = model.predict(test_df[features])\n",
    "    env.predict(test_df[['row_id', target]])"
   ]
  },
  {
   "cell_type": "code",
   "execution_count": null,
   "metadata": {
    "papermill": {
     "duration": 0.053782,
     "end_time": "2020-12-10T08:00:13.356006",
     "exception": false,
     "start_time": "2020-12-10T08:00:13.302224",
     "status": "completed"
    },
    "tags": []
   },
   "outputs": [],
   "source": []
  }
 ],
 "metadata": {
  "kernelspec": {
   "display_name": "Python 3",
   "language": "python",
   "name": "python3"
  },
  "language_info": {
   "codemirror_mode": {
    "name": "ipython",
    "version": 3
   },
   "file_extension": ".py",
   "mimetype": "text/x-python",
   "name": "python",
   "nbconvert_exporter": "python",
   "pygments_lexer": "ipython3",
   "version": "3.7.6"
  },
  "papermill": {
   "duration": 5239.841214,
   "end_time": "2020-12-10T08:00:14.562670",
   "environment_variables": {},
   "exception": null,
   "input_path": "__notebook__.ipynb",
   "output_path": "__notebook__.ipynb",
   "parameters": {},
   "start_time": "2020-12-10T06:32:54.721456",
   "version": "2.1.0"
  },
  "widgets": {
   "application/vnd.jupyter.widget-state+json": {
    "state": {
     "1244e06467e2485a9e7e6063c0616a4c": {
      "model_module": "@jupyter-widgets/controls",
      "model_module_version": "1.5.0",
      "model_name": "ProgressStyleModel",
      "state": {
       "_model_module": "@jupyter-widgets/controls",
       "_model_module_version": "1.5.0",
       "_model_name": "ProgressStyleModel",
       "_view_count": null,
       "_view_module": "@jupyter-widgets/base",
       "_view_module_version": "1.2.0",
       "_view_name": "StyleView",
       "bar_color": null,
       "description_width": "initial"
      }
     },
     "188475b463944b80a8f4c35e9108b697": {
      "model_module": "@jupyter-widgets/base",
      "model_module_version": "1.2.0",
      "model_name": "LayoutModel",
      "state": {
       "_model_module": "@jupyter-widgets/base",
       "_model_module_version": "1.2.0",
       "_model_name": "LayoutModel",
       "_view_count": null,
       "_view_module": "@jupyter-widgets/base",
       "_view_module_version": "1.2.0",
       "_view_name": "LayoutView",
       "align_content": null,
       "align_items": null,
       "align_self": null,
       "border": null,
       "bottom": null,
       "display": null,
       "flex": null,
       "flex_flow": null,
       "grid_area": null,
       "grid_auto_columns": null,
       "grid_auto_flow": null,
       "grid_auto_rows": null,
       "grid_column": null,
       "grid_gap": null,
       "grid_row": null,
       "grid_template_areas": null,
       "grid_template_columns": null,
       "grid_template_rows": null,
       "height": null,
       "justify_content": null,
       "justify_items": null,
       "left": null,
       "margin": null,
       "max_height": null,
       "max_width": null,
       "min_height": null,
       "min_width": null,
       "object_fit": null,
       "object_position": null,
       "order": null,
       "overflow": null,
       "overflow_x": null,
       "overflow_y": null,
       "padding": null,
       "right": null,
       "top": null,
       "visibility": null,
       "width": null
      }
     },
     "264b304f89dc4bad9636fb3ffeeecd68": {
      "model_module": "@jupyter-widgets/controls",
      "model_module_version": "1.5.0",
      "model_name": "HBoxModel",
      "state": {
       "_dom_classes": [],
       "_model_module": "@jupyter-widgets/controls",
       "_model_module_version": "1.5.0",
       "_model_name": "HBoxModel",
       "_view_count": null,
       "_view_module": "@jupyter-widgets/controls",
       "_view_module_version": "1.5.0",
       "_view_name": "HBoxView",
       "box_style": "",
       "children": [
        "IPY_MODEL_f06dc4e8bf9541f19a494bd1cfabec87",
        "IPY_MODEL_81e92e58681a4076a775b4c2ccd1cb27"
       ],
       "layout": "IPY_MODEL_5f668ef06e524c5fba494edfaa25736c"
      }
     },
     "3e1b24d288f34820a38aa77cef5efa61": {
      "model_module": "@jupyter-widgets/controls",
      "model_module_version": "1.5.0",
      "model_name": "FloatProgressModel",
      "state": {
       "_dom_classes": [],
       "_model_module": "@jupyter-widgets/controls",
       "_model_module_version": "1.5.0",
       "_model_name": "FloatProgressModel",
       "_view_count": null,
       "_view_module": "@jupyter-widgets/controls",
       "_view_module_version": "1.5.0",
       "_view_name": "ProgressView",
       "bar_style": "success",
       "description": "progress: 100%",
       "description_tooltip": null,
       "layout": "IPY_MODEL_a7fd6d64b81c4ee39599f30bcf777a0b",
       "max": 393656.0,
       "min": 0.0,
       "orientation": "horizontal",
       "style": "IPY_MODEL_1244e06467e2485a9e7e6063c0616a4c",
       "value": 393656.0
      }
     },
     "48799b0af2f7437f88a0ea9a6f57596b": {
      "model_module": "@jupyter-widgets/controls",
      "model_module_version": "1.5.0",
      "model_name": "DescriptionStyleModel",
      "state": {
       "_model_module": "@jupyter-widgets/controls",
       "_model_module_version": "1.5.0",
       "_model_name": "DescriptionStyleModel",
       "_view_count": null,
       "_view_module": "@jupyter-widgets/base",
       "_view_module_version": "1.2.0",
       "_view_name": "StyleView",
       "description_width": ""
      }
     },
     "5f668ef06e524c5fba494edfaa25736c": {
      "model_module": "@jupyter-widgets/base",
      "model_module_version": "1.2.0",
      "model_name": "LayoutModel",
      "state": {
       "_model_module": "@jupyter-widgets/base",
       "_model_module_version": "1.2.0",
       "_model_name": "LayoutModel",
       "_view_count": null,
       "_view_module": "@jupyter-widgets/base",
       "_view_module_version": "1.2.0",
       "_view_name": "LayoutView",
       "align_content": null,
       "align_items": null,
       "align_self": null,
       "border": null,
       "bottom": null,
       "display": null,
       "flex": null,
       "flex_flow": null,
       "grid_area": null,
       "grid_auto_columns": null,
       "grid_auto_flow": null,
       "grid_auto_rows": null,
       "grid_column": null,
       "grid_gap": null,
       "grid_row": null,
       "grid_template_areas": null,
       "grid_template_columns": null,
       "grid_template_rows": null,
       "height": null,
       "justify_content": null,
       "justify_items": null,
       "left": null,
       "margin": null,
       "max_height": null,
       "max_width": null,
       "min_height": null,
       "min_width": null,
       "object_fit": null,
       "object_position": null,
       "order": null,
       "overflow": null,
       "overflow_x": null,
       "overflow_y": null,
       "padding": null,
       "right": null,
       "top": null,
       "visibility": null,
       "width": null
      }
     },
     "699008bc5d20453db9b90ddd8093f652": {
      "model_module": "@jupyter-widgets/controls",
      "model_module_version": "1.5.0",
      "model_name": "ProgressStyleModel",
      "state": {
       "_model_module": "@jupyter-widgets/controls",
       "_model_module_version": "1.5.0",
       "_model_name": "ProgressStyleModel",
       "_view_count": null,
       "_view_module": "@jupyter-widgets/base",
       "_view_module_version": "1.2.0",
       "_view_name": "StyleView",
       "bar_color": null,
       "description_width": "initial"
      }
     },
     "81e92e58681a4076a775b4c2ccd1cb27": {
      "model_module": "@jupyter-widgets/controls",
      "model_module_version": "1.5.0",
      "model_name": "HTMLModel",
      "state": {
       "_dom_classes": [],
       "_model_module": "@jupyter-widgets/controls",
       "_model_module_version": "1.5.0",
       "_model_name": "HTMLModel",
       "_view_count": null,
       "_view_module": "@jupyter-widgets/controls",
       "_view_module_version": "1.5.0",
       "_view_name": "HTMLView",
       "description": "",
       "description_tooltip": null,
       "layout": "IPY_MODEL_e1938bb5a91e4763bf85f8c5fb9bfcdf",
       "placeholder": "​",
       "style": "IPY_MODEL_bf5ba3c15a304e6ca90a99befdc1e4b7",
       "value": " 393656/393656 [02:58&lt;00:00, 2201.29it/s]"
      }
     },
     "a7fd6d64b81c4ee39599f30bcf777a0b": {
      "model_module": "@jupyter-widgets/base",
      "model_module_version": "1.2.0",
      "model_name": "LayoutModel",
      "state": {
       "_model_module": "@jupyter-widgets/base",
       "_model_module_version": "1.2.0",
       "_model_name": "LayoutModel",
       "_view_count": null,
       "_view_module": "@jupyter-widgets/base",
       "_view_module_version": "1.2.0",
       "_view_name": "LayoutView",
       "align_content": null,
       "align_items": null,
       "align_self": null,
       "border": null,
       "bottom": null,
       "display": null,
       "flex": null,
       "flex_flow": null,
       "grid_area": null,
       "grid_auto_columns": null,
       "grid_auto_flow": null,
       "grid_auto_rows": null,
       "grid_column": null,
       "grid_gap": null,
       "grid_row": null,
       "grid_template_areas": null,
       "grid_template_columns": null,
       "grid_template_rows": null,
       "height": null,
       "justify_content": null,
       "justify_items": null,
       "left": null,
       "margin": null,
       "max_height": null,
       "max_width": null,
       "min_height": null,
       "min_width": null,
       "object_fit": null,
       "object_position": null,
       "order": null,
       "overflow": null,
       "overflow_x": null,
       "overflow_y": null,
       "padding": null,
       "right": null,
       "top": null,
       "visibility": null,
       "width": null
      }
     },
     "a8d8e8f2a6534eb1be4e7e2ae9db91f8": {
      "model_module": "@jupyter-widgets/base",
      "model_module_version": "1.2.0",
      "model_name": "LayoutModel",
      "state": {
       "_model_module": "@jupyter-widgets/base",
       "_model_module_version": "1.2.0",
       "_model_name": "LayoutModel",
       "_view_count": null,
       "_view_module": "@jupyter-widgets/base",
       "_view_module_version": "1.2.0",
       "_view_name": "LayoutView",
       "align_content": null,
       "align_items": null,
       "align_self": null,
       "border": null,
       "bottom": null,
       "display": null,
       "flex": null,
       "flex_flow": null,
       "grid_area": null,
       "grid_auto_columns": null,
       "grid_auto_flow": null,
       "grid_auto_rows": null,
       "grid_column": null,
       "grid_gap": null,
       "grid_row": null,
       "grid_template_areas": null,
       "grid_template_columns": null,
       "grid_template_rows": null,
       "height": null,
       "justify_content": null,
       "justify_items": null,
       "left": null,
       "margin": null,
       "max_height": null,
       "max_width": null,
       "min_height": null,
       "min_width": null,
       "object_fit": null,
       "object_position": null,
       "order": null,
       "overflow": null,
       "overflow_x": null,
       "overflow_y": null,
       "padding": null,
       "right": null,
       "top": null,
       "visibility": null,
       "width": null
      }
     },
     "bf44c23331df4c4ab8532378e381a199": {
      "model_module": "@jupyter-widgets/controls",
      "model_module_version": "1.5.0",
      "model_name": "HBoxModel",
      "state": {
       "_dom_classes": [],
       "_model_module": "@jupyter-widgets/controls",
       "_model_module_version": "1.5.0",
       "_model_name": "HBoxModel",
       "_view_count": null,
       "_view_module": "@jupyter-widgets/controls",
       "_view_module_version": "1.5.0",
       "_view_name": "HBoxView",
       "box_style": "",
       "children": [
        "IPY_MODEL_3e1b24d288f34820a38aa77cef5efa61",
        "IPY_MODEL_c2a317a7770e40e48ed6c03cb26b7c5f"
       ],
       "layout": "IPY_MODEL_a8d8e8f2a6534eb1be4e7e2ae9db91f8"
      }
     },
     "bf5ba3c15a304e6ca90a99befdc1e4b7": {
      "model_module": "@jupyter-widgets/controls",
      "model_module_version": "1.5.0",
      "model_name": "DescriptionStyleModel",
      "state": {
       "_model_module": "@jupyter-widgets/controls",
       "_model_module_version": "1.5.0",
       "_model_name": "DescriptionStyleModel",
       "_view_count": null,
       "_view_module": "@jupyter-widgets/base",
       "_view_module_version": "1.2.0",
       "_view_name": "StyleView",
       "description_width": ""
      }
     },
     "c1a0c4162a864a81a56348a55b2e7a7f": {
      "model_module": "@jupyter-widgets/base",
      "model_module_version": "1.2.0",
      "model_name": "LayoutModel",
      "state": {
       "_model_module": "@jupyter-widgets/base",
       "_model_module_version": "1.2.0",
       "_model_name": "LayoutModel",
       "_view_count": null,
       "_view_module": "@jupyter-widgets/base",
       "_view_module_version": "1.2.0",
       "_view_name": "LayoutView",
       "align_content": null,
       "align_items": null,
       "align_self": null,
       "border": null,
       "bottom": null,
       "display": null,
       "flex": null,
       "flex_flow": null,
       "grid_area": null,
       "grid_auto_columns": null,
       "grid_auto_flow": null,
       "grid_auto_rows": null,
       "grid_column": null,
       "grid_gap": null,
       "grid_row": null,
       "grid_template_areas": null,
       "grid_template_columns": null,
       "grid_template_rows": null,
       "height": null,
       "justify_content": null,
       "justify_items": null,
       "left": null,
       "margin": null,
       "max_height": null,
       "max_width": null,
       "min_height": null,
       "min_width": null,
       "object_fit": null,
       "object_position": null,
       "order": null,
       "overflow": null,
       "overflow_x": null,
       "overflow_y": null,
       "padding": null,
       "right": null,
       "top": null,
       "visibility": null,
       "width": null
      }
     },
     "c2a317a7770e40e48ed6c03cb26b7c5f": {
      "model_module": "@jupyter-widgets/controls",
      "model_module_version": "1.5.0",
      "model_name": "HTMLModel",
      "state": {
       "_dom_classes": [],
       "_model_module": "@jupyter-widgets/controls",
       "_model_module_version": "1.5.0",
       "_model_name": "HTMLModel",
       "_view_count": null,
       "_view_module": "@jupyter-widgets/controls",
       "_view_module_version": "1.5.0",
       "_view_name": "HTMLView",
       "description": "",
       "description_tooltip": null,
       "layout": "IPY_MODEL_c1a0c4162a864a81a56348a55b2e7a7f",
       "placeholder": "​",
       "style": "IPY_MODEL_48799b0af2f7437f88a0ea9a6f57596b",
       "value": " 393656/393656 [01:03&lt;00:00, 6189.13it/s]"
      }
     },
     "e1938bb5a91e4763bf85f8c5fb9bfcdf": {
      "model_module": "@jupyter-widgets/base",
      "model_module_version": "1.2.0",
      "model_name": "LayoutModel",
      "state": {
       "_model_module": "@jupyter-widgets/base",
       "_model_module_version": "1.2.0",
       "_model_name": "LayoutModel",
       "_view_count": null,
       "_view_module": "@jupyter-widgets/base",
       "_view_module_version": "1.2.0",
       "_view_name": "LayoutView",
       "align_content": null,
       "align_items": null,
       "align_self": null,
       "border": null,
       "bottom": null,
       "display": null,
       "flex": null,
       "flex_flow": null,
       "grid_area": null,
       "grid_auto_columns": null,
       "grid_auto_flow": null,
       "grid_auto_rows": null,
       "grid_column": null,
       "grid_gap": null,
       "grid_row": null,
       "grid_template_areas": null,
       "grid_template_columns": null,
       "grid_template_rows": null,
       "height": null,
       "justify_content": null,
       "justify_items": null,
       "left": null,
       "margin": null,
       "max_height": null,
       "max_width": null,
       "min_height": null,
       "min_width": null,
       "object_fit": null,
       "object_position": null,
       "order": null,
       "overflow": null,
       "overflow_x": null,
       "overflow_y": null,
       "padding": null,
       "right": null,
       "top": null,
       "visibility": null,
       "width": null
      }
     },
     "f06dc4e8bf9541f19a494bd1cfabec87": {
      "model_module": "@jupyter-widgets/controls",
      "model_module_version": "1.5.0",
      "model_name": "FloatProgressModel",
      "state": {
       "_dom_classes": [],
       "_model_module": "@jupyter-widgets/controls",
       "_model_module_version": "1.5.0",
       "_model_name": "FloatProgressModel",
       "_view_count": null,
       "_view_module": "@jupyter-widgets/controls",
       "_view_module_version": "1.5.0",
       "_view_name": "ProgressView",
       "bar_style": "success",
       "description": "progress: 100%",
       "description_tooltip": null,
       "layout": "IPY_MODEL_188475b463944b80a8f4c35e9108b697",
       "max": 393656.0,
       "min": 0.0,
       "orientation": "horizontal",
       "style": "IPY_MODEL_699008bc5d20453db9b90ddd8093f652",
       "value": 393656.0
      }
     }
    },
    "version_major": 2,
    "version_minor": 0
   }
  }
 },
 "nbformat": 4,
 "nbformat_minor": 4
}
