{
 "cells": [
  {
   "cell_type": "markdown",
   "metadata": {
    "papermill": {
     "duration": 0.028694,
     "end_time": "2020-12-28T07:14:10.040969",
     "exception": false,
     "start_time": "2020-12-28T07:14:10.012275",
     "status": "completed"
    },
    "tags": []
   },
   "source": [
    "- try time cv"
   ]
  },
  {
   "cell_type": "code",
   "execution_count": 1,
   "metadata": {
    "_cell_guid": "b1076dfc-b9ad-4769-8c92-a6c4dae69d19",
    "_uuid": "8f2839f25d086af736a60e9eeb907d3b93b6e0e5",
    "execution": {
     "iopub.execute_input": "2020-12-28T07:14:10.097533Z",
     "iopub.status.busy": "2020-12-28T07:14:10.096455Z",
     "iopub.status.idle": "2020-12-28T07:14:40.498407Z",
     "shell.execute_reply": "2020-12-28T07:14:40.497533Z"
    },
    "papermill": {
     "duration": 30.431066,
     "end_time": "2020-12-28T07:14:40.498581",
     "exception": false,
     "start_time": "2020-12-28T07:14:10.067515",
     "status": "completed"
    },
    "tags": []
   },
   "outputs": [],
   "source": [
    "!pip install ../input/python-datatable/datatable-0.11.0-cp37-cp37m-manylinux2010_x86_64.whl > /dev/null 2>&1"
   ]
  },
  {
   "cell_type": "code",
   "execution_count": 2,
   "metadata": {
    "_cell_guid": "79c7e3d0-c299-4dcb-8224-4455121ee9b0",
    "_uuid": "d629ff2d2480ee46fbb7e2d37f6b5fab8052498a",
    "execution": {
     "iopub.execute_input": "2020-12-28T07:14:40.560144Z",
     "iopub.status.busy": "2020-12-28T07:14:40.559327Z",
     "iopub.status.idle": "2020-12-28T07:14:42.679969Z",
     "shell.execute_reply": "2020-12-28T07:14:42.679317Z"
    },
    "papermill": {
     "duration": 2.155135,
     "end_time": "2020-12-28T07:14:42.680100",
     "exception": false,
     "start_time": "2020-12-28T07:14:40.524965",
     "status": "completed"
    },
    "tags": []
   },
   "outputs": [
    {
     "data": {
      "text/html": [
       "<style type='text/css'>\n",
       ".datatable table.frame { margin-bottom: 0; }\n",
       ".datatable table.frame thead { border-bottom: none; }\n",
       ".datatable table.frame tr.coltypes td {  color: #FFFFFF;  line-height: 6px;  padding: 0 0.5em;}\n",
       ".datatable .bool    { background: #DDDD99; }\n",
       ".datatable .object  { background: #565656; }\n",
       ".datatable .int     { background: #5D9E5D; }\n",
       ".datatable .float   { background: #4040CC; }\n",
       ".datatable .str     { background: #CC4040; }\n",
       ".datatable .row_index {  background: var(--jp-border-color3);  border-right: 1px solid var(--jp-border-color0);  color: var(--jp-ui-font-color3);  font-size: 9px;}\n",
       ".datatable .frame tr.coltypes .row_index {  background: var(--jp-border-color0);}\n",
       ".datatable th:nth-child(2) { padding-left: 12px; }\n",
       ".datatable .hellipsis {  color: var(--jp-cell-editor-border-color);}\n",
       ".datatable .vellipsis {  background: var(--jp-layout-color0);  color: var(--jp-cell-editor-border-color);}\n",
       ".datatable .na {  color: var(--jp-cell-editor-border-color);  font-size: 80%;}\n",
       ".datatable .footer { font-size: 9px; }\n",
       ".datatable .frame_dimensions {  background: var(--jp-border-color3);  border-top: 1px solid var(--jp-border-color0);  color: var(--jp-ui-font-color3);  display: inline-block;  opacity: 0.6;  padding: 1px 10px 1px 5px;}\n",
       ".datatable .frame thead tr.colnames {  background-image: url('data:image/png;base64,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');  background-repeat: repeat-x;  background-size: 14px;  height: 28px;}\n",
       "</style>\n"
      ],
      "text/plain": [
       "<IPython.core.display.HTML object>"
      ]
     },
     "metadata": {},
     "output_type": "display_data"
    }
   ],
   "source": [
    "import gc\n",
    "import random\n",
    "import pickle\n",
    "import numpy as np\n",
    "import pandas as pd\n",
    "from numba import jit\n",
    "import riiideducation\n",
    "import datatable as dt\n",
    "import lightgbm as lgb\n",
    "from bitarray import bitarray\n",
    "from functools import partial\n",
    "from collections import defaultdict\n",
    "\n",
    "_ = np.seterr(divide='ignore', invalid='ignore')\n",
    "pd.set_option(\"max_rows\", 100)\n",
    "pd.set_option(\"max_columns\", 100)\n",
    "\n",
    "random.seed(1)"
   ]
  },
  {
   "cell_type": "code",
   "execution_count": 3,
   "metadata": {
    "execution": {
     "iopub.execute_input": "2020-12-28T07:14:42.747889Z",
     "iopub.status.busy": "2020-12-28T07:14:42.747194Z",
     "iopub.status.idle": "2020-12-28T07:14:42.750550Z",
     "shell.execute_reply": "2020-12-28T07:14:42.750005Z"
    },
    "papermill": {
     "duration": 0.041943,
     "end_time": "2020-12-28T07:14:42.750678",
     "exception": false,
     "start_time": "2020-12-28T07:14:42.708735",
     "status": "completed"
    },
    "tags": []
   },
   "outputs": [],
   "source": [
    "def make_bitarray():\n",
    "    a = bitarray(32737, endian='little')\n",
    "    a.setall(True)   \n",
    "    return a\n",
    "\n",
    "def clear_mem():\n",
    "    %reset -f out\n",
    "    %reset -f in\n",
    "    gc.collect()"
   ]
  },
  {
   "cell_type": "code",
   "execution_count": 4,
   "metadata": {
    "execution": {
     "iopub.execute_input": "2020-12-28T07:14:42.809952Z",
     "iopub.status.busy": "2020-12-28T07:14:42.809066Z",
     "iopub.status.idle": "2020-12-28T07:14:42.812138Z",
     "shell.execute_reply": "2020-12-28T07:14:42.811422Z"
    },
    "papermill": {
     "duration": 0.034806,
     "end_time": "2020-12-28T07:14:42.812259",
     "exception": false,
     "start_time": "2020-12-28T07:14:42.777453",
     "status": "completed"
    },
    "tags": []
   },
   "outputs": [],
   "source": [
    "FULL_TRAIN = False\n",
    "CV_SCHEME = \"time\" #\"original\""
   ]
  },
  {
   "cell_type": "markdown",
   "metadata": {
    "papermill": {
     "duration": 0.026587,
     "end_time": "2020-12-28T07:14:42.866178",
     "exception": false,
     "start_time": "2020-12-28T07:14:42.839591",
     "status": "completed"
    },
    "tags": []
   },
   "source": [
    "# Preprocess"
   ]
  },
  {
   "cell_type": "code",
   "execution_count": 5,
   "metadata": {
    "execution": {
     "iopub.execute_input": "2020-12-28T07:14:42.926885Z",
     "iopub.status.busy": "2020-12-28T07:14:42.926225Z",
     "iopub.status.idle": "2020-12-28T07:14:42.928744Z",
     "shell.execute_reply": "2020-12-28T07:14:42.929252Z"
    },
    "papermill": {
     "duration": 0.03609,
     "end_time": "2020-12-28T07:14:42.929389",
     "exception": false,
     "start_time": "2020-12-28T07:14:42.893299",
     "status": "completed"
    },
    "tags": []
   },
   "outputs": [],
   "source": [
    "data_types_dict = {\n",
    "    'timestamp': 'int64',\n",
    "    'user_id': 'int32', \n",
    "    'content_id': 'int16', \n",
    "    'answered_correctly': 'int8', \n",
    "    'prior_question_elapsed_time': 'float32', \n",
    "    'prior_question_had_explanation': 'bool',\n",
    "}\n",
    "target = 'answered_correctly'"
   ]
  },
  {
   "cell_type": "code",
   "execution_count": 6,
   "metadata": {
    "execution": {
     "iopub.execute_input": "2020-12-28T07:14:42.990457Z",
     "iopub.status.busy": "2020-12-28T07:14:42.989780Z",
     "iopub.status.idle": "2020-12-28T07:16:23.723182Z",
     "shell.execute_reply": "2020-12-28T07:16:23.722355Z"
    },
    "papermill": {
     "duration": 100.766884,
     "end_time": "2020-12-28T07:16:23.723345",
     "exception": false,
     "start_time": "2020-12-28T07:14:42.956461",
     "status": "completed"
    },
    "tags": []
   },
   "outputs": [],
   "source": [
    "train_df = dt.fread('../input/riiid-test-answer-prediction/train.csv', columns=set(data_types_dict.keys())).to_pandas()"
   ]
  },
  {
   "cell_type": "code",
   "execution_count": 7,
   "metadata": {
    "execution": {
     "iopub.execute_input": "2020-12-28T07:16:23.799044Z",
     "iopub.status.busy": "2020-12-28T07:16:23.797919Z",
     "iopub.status.idle": "2020-12-28T07:17:06.772101Z",
     "shell.execute_reply": "2020-12-28T07:17:06.771426Z"
    },
    "papermill": {
     "duration": 43.020518,
     "end_time": "2020-12-28T07:17:06.772271",
     "exception": false,
     "start_time": "2020-12-28T07:16:23.751753",
     "status": "completed"
    },
    "tags": []
   },
   "outputs": [],
   "source": [
    "@jit\n",
    "def time_from_lec(A, T):\n",
    "    ans = np.zeros(len(T))\n",
    "    prev = 0\n",
    "    flg = False\n",
    "    for i in range(len(A)):\n",
    "        if A[i] == -1:\n",
    "            flg = True\n",
    "            prev = T[i]\n",
    "            \n",
    "        if flg:\n",
    "            ans[i] = T[i]-prev\n",
    "        else:\n",
    "            ans[i] = -1\n",
    "            \n",
    "    return ans\n",
    "\n",
    "time_from_lec_array = train_df.groupby(\"user_id\").apply(lambda x: time_from_lec(x[\"answered_correctly\"].values, x[\"timestamp\"].values))\n",
    "time_from_lec_array = np.hstack(time_from_lec_array)\n",
    "train_df[\"time_from_lec\"] = time_from_lec_array\n",
    "del time_from_lec_array\n",
    "\n",
    "user_last_lec_time_dict = train_df[train_df[target] == -1].groupby(\"user_id\").tail(1)[\"timestamp\"].to_dict(defaultdict(lambda: -1))"
   ]
  },
  {
   "cell_type": "code",
   "execution_count": 8,
   "metadata": {
    "execution": {
     "iopub.execute_input": "2020-12-28T07:17:06.848572Z",
     "iopub.status.busy": "2020-12-28T07:17:06.847479Z",
     "iopub.status.idle": "2020-12-28T07:17:35.870691Z",
     "shell.execute_reply": "2020-12-28T07:17:35.869951Z"
    },
    "papermill": {
     "duration": 29.068859,
     "end_time": "2020-12-28T07:17:35.870838",
     "exception": false,
     "start_time": "2020-12-28T07:17:06.801979",
     "status": "completed"
    },
    "tags": []
   },
   "outputs": [],
   "source": [
    "train_df = train_df[train_df[target] != -1].reset_index(drop=True)\n",
    "\n",
    "time_from_lec_array = train_df[\"time_from_lec\"].values\n",
    "del train_df[\"time_from_lec\"]\n",
    "\n",
    "train_df['prior_question_had_explanation'] = train_df['prior_question_had_explanation'].fillna(False).astype('int8')\n",
    "train_df['prior_question_elapsed_time'].fillna(0, inplace=True)\n",
    "\n",
    "train_df = train_df.astype(data_types_dict)"
   ]
  },
  {
   "cell_type": "code",
   "execution_count": 9,
   "metadata": {
    "execution": {
     "iopub.execute_input": "2020-12-28T07:17:36.668128Z",
     "iopub.status.busy": "2020-12-28T07:17:36.666976Z",
     "iopub.status.idle": "2020-12-28T07:17:58.824779Z",
     "shell.execute_reply": "2020-12-28T07:17:58.824099Z"
    },
    "papermill": {
     "duration": 22.925526,
     "end_time": "2020-12-28T07:17:58.824915",
     "exception": false,
     "start_time": "2020-12-28T07:17:35.899389",
     "status": "completed"
    },
    "tags": []
   },
   "outputs": [],
   "source": [
    "if CV_SCHEME==\"time\":\n",
    "    max_timestamp_u = train_df[['user_id','timestamp']].groupby(['user_id']).agg(['max']).reset_index()\n",
    "    max_timestamp_u.columns = ['user_id', 'max_time_stamp']\n",
    "    MAX_TIME_STAMP = max_timestamp_u.max_time_stamp.max()\n",
    "\n",
    "    def rand_time(max_time_stamp):\n",
    "        interval = MAX_TIME_STAMP - max_time_stamp\n",
    "        rand_time_stamp = random.randint(0,interval)\n",
    "        return rand_time_stamp\n",
    "\n",
    "    max_timestamp_u['rand_time_stamp'] = max_timestamp_u.max_time_stamp.apply(rand_time)\n",
    "    train_df = train_df.merge(max_timestamp_u, on='user_id', how='left')\n",
    "    train_df['viretual_time_stamp'] = train_df.timestamp + train_df['rand_time_stamp']\n",
    "\n",
    "    del train_df['max_time_stamp']\n",
    "    del train_df['rand_time_stamp']\n",
    "    del max_timestamp_u\n",
    "\n",
    "    train_index = list(train_df['viretual_time_stamp'].nlargest(10000000).index)\n",
    "\n",
    "else:\n",
    "    if FULL_TRAIN:\n",
    "        train_size = 200\n",
    "    else:\n",
    "        train_size = 24\n",
    "        valid_size = 6\n",
    "    \n",
    "    train_index = list(train_df.groupby('user_id').tail(train_size).index)"
   ]
  },
  {
   "cell_type": "code",
   "execution_count": 10,
   "metadata": {
    "execution": {
     "iopub.execute_input": "2020-12-28T07:18:01.022813Z",
     "iopub.status.busy": "2020-12-28T07:18:01.022064Z",
     "iopub.status.idle": "2020-12-28T07:18:01.129623Z",
     "shell.execute_reply": "2020-12-28T07:18:01.128943Z"
    },
    "papermill": {
     "duration": 2.276599,
     "end_time": "2020-12-28T07:18:01.129761",
     "exception": false,
     "start_time": "2020-12-28T07:17:58.853162",
     "status": "completed"
    },
    "tags": []
   },
   "outputs": [],
   "source": [
    "time_from_lec_array = time_from_lec_array[train_index]"
   ]
  },
  {
   "cell_type": "code",
   "execution_count": 11,
   "metadata": {
    "execution": {
     "iopub.execute_input": "2020-12-28T07:18:01.208171Z",
     "iopub.status.busy": "2020-12-28T07:18:01.207468Z",
     "iopub.status.idle": "2020-12-28T07:18:30.544535Z",
     "shell.execute_reply": "2020-12-28T07:18:30.543878Z"
    },
    "papermill": {
     "duration": 29.376361,
     "end_time": "2020-12-28T07:18:30.544685",
     "exception": false,
     "start_time": "2020-12-28T07:18:01.168324",
     "status": "completed"
    },
    "tags": []
   },
   "outputs": [],
   "source": [
    "@jit\n",
    "def count_by_bundle(T):\n",
    "    ans = np.zeros(len(T))\n",
    "    prev_time = -1\n",
    "    count = 0\n",
    "    for i in range(len(T)):\n",
    "        if i == 0:\n",
    "            ans[i] = 0\n",
    "        elif prev_time == T[i]:\n",
    "            ans[i] = ans[i-1]\n",
    "        else:\n",
    "            ans[i] = count          \n",
    "        prev_time = T[i]\n",
    "        count += 1\n",
    "    return ans\n",
    "\n",
    "count_array = train_df.groupby(\"user_id\").apply(lambda x: count_by_bundle(x[\"timestamp\"].values))\n",
    "count_array = np.hstack(count_array)\n",
    "count_array = count_array[train_index]\n",
    "count_zero_index = count_array == 0"
   ]
  },
  {
   "cell_type": "code",
   "execution_count": 12,
   "metadata": {
    "execution": {
     "iopub.execute_input": "2020-12-28T07:18:30.863788Z",
     "iopub.status.busy": "2020-12-28T07:18:30.862934Z",
     "iopub.status.idle": "2020-12-28T07:22:57.483219Z",
     "shell.execute_reply": "2020-12-28T07:22:57.482482Z"
    },
    "papermill": {
     "duration": 266.910556,
     "end_time": "2020-12-28T07:22:57.483438",
     "exception": false,
     "start_time": "2020-12-28T07:18:30.572882",
     "status": "completed"
    },
    "tags": []
   },
   "outputs": [],
   "source": [
    "@jit\n",
    "def timediff_by_bundle(T):\n",
    "    ans = np.zeros(len(T))\n",
    "    prev_time = 0\n",
    "    for i in range(len(T)): \n",
    "        if i == 0:\n",
    "            ans[i] = np.nan\n",
    "        elif prev_time == T[i]:\n",
    "            ans[i] = ans[i-1]\n",
    "        else:\n",
    "            ans[i] = T[i] - prev_time\n",
    "        prev_time = T[i]\n",
    "    return ans\n",
    "\n",
    "timediff_array = train_df.groupby(\"user_id\").apply(lambda x: timediff_by_bundle(x[\"timestamp\"].values))\n",
    "timediff_array = np.hstack(timediff_array)\n",
    "timediff_array = timediff_array[train_index]\n",
    "\n",
    "@jit\n",
    "def timediff2_by_bundle(T):\n",
    "    ans = np.zeros(len(T))\n",
    "    prev_time = [-1, -1]\n",
    "    for i in range(len(T)): \n",
    "        if i == 0 or i == 1:\n",
    "            ans[i] = np.nan     \n",
    "        elif prev_time[1] == T[i]:\n",
    "            ans[i] = ans[i-1]\n",
    "        else:\n",
    "            ans[i] = T[i]-prev_time[0]\n",
    "            \n",
    "        if prev_time[0] == -1:\n",
    "            prev_time[0] = T[i]\n",
    "        elif prev_time[0] != T[i] and prev_time[1] == -1:\n",
    "            prev_time[1] = T[i]\n",
    "        elif T[i] not in prev_time:\n",
    "            prev_time[0] = prev_time[1]\n",
    "            prev_time[1] = T[i]\n",
    "    return ans\n",
    "\n",
    "timediff2_array = train_df.groupby(\"user_id\").apply(lambda x: timediff2_by_bundle(x[\"timestamp\"].values))\n",
    "timediff2_array = np.hstack(timediff2_array)\n",
    "timediff2_array = timediff2_array[train_index]\n",
    "\n",
    "@jit\n",
    "def timediff3_by_bundle(T):\n",
    "    ans = np.zeros(len(T))\n",
    "    prev_time = [-1, -1, -1]\n",
    "    for i in range(len(T)): \n",
    "        if i == 0 or i == 1 or i ==2:\n",
    "            ans[i] = np.nan\n",
    "        elif prev_time[2] == T[i]:\n",
    "            ans[i] = ans[i-1]\n",
    "        else:\n",
    "            ans[i] = T[i]-prev_time[0]\n",
    "            \n",
    "        if prev_time[0] == -1:\n",
    "            prev_time[0] = T[i]\n",
    "        elif prev_time[0] != T[i] and prev_time[1] == -1:\n",
    "            prev_time[1] = T[i]\n",
    "        elif prev_time[1] != T[i] and prev_time[2] == -1:\n",
    "            prev_time[2] = T[i]\n",
    "        elif T[i] not in prev_time:\n",
    "            prev_time[0] = prev_time[1]\n",
    "            prev_time[1] = prev_time[2]\n",
    "            prev_time[2] = T[i]\n",
    "    return ans\n",
    "\n",
    "timediff3_array = train_df.groupby(\"user_id\").apply(lambda x: timediff3_by_bundle(x[\"timestamp\"].values))\n",
    "timediff3_array = np.hstack(timediff3_array)\n",
    "timediff3_array = timediff3_array[train_index]\n",
    "\n",
    "@jit\n",
    "def timediff4_by_bundle(T):\n",
    "    ans = np.zeros(len(T))\n",
    "    prev_time = [-1, -1, -1, -1]\n",
    "    for i in range(len(T)): \n",
    "        if i == 0 or i == 1 or i ==2 or i == 3:\n",
    "            ans[i] = np.nan     \n",
    "        elif prev_time[3] == T[i]:\n",
    "            ans[i] = ans[i-1]\n",
    "        else:\n",
    "            ans[i] = T[i]- prev_time[0]\n",
    "            \n",
    "        if prev_time[0] == -1:\n",
    "            prev_time[0] = T[i]\n",
    "        elif prev_time[0] != T[i] and prev_time[1] == -1:\n",
    "            prev_time[1] = T[i]\n",
    "        elif prev_time[1] != T[i] and prev_time[2] == -1:\n",
    "            prev_time[2] = T[i]\n",
    "        elif prev_time[2] != T[i] and prev_time[3] == -1:\n",
    "            prev_time[3] = T[i]\n",
    "        elif T[i] not in prev_time:\n",
    "            prev_time[0] = prev_time[1]\n",
    "            prev_time[1] = prev_time[2]\n",
    "            prev_time[2] = prev_time[3]\n",
    "            prev_time[3] = T[i]\n",
    "    return ans\n",
    "\n",
    "timediff4_array = train_df.groupby(\"user_id\").apply(lambda x: timediff4_by_bundle(x[\"timestamp\"].values))\n",
    "timediff4_array = np.hstack(timediff4_array)\n",
    "timediff4_array = timediff4_array[train_index]\n",
    "\n",
    "user_timestamp_max_dict = train_df.groupby(\"user_id\")[\"timestamp\"].apply(lambda x: x.drop_duplicates()[-4:].values).to_dict(defaultdict(partial(np.ndarray, 0, dtype=\"int64\")))\n",
    "\n",
    "time_dd_array = timediff2_array - timediff_array\n",
    "timediff_array = np.nan_to_num(timediff_array, nan=-1)\n",
    "timediff2_array = np.nan_to_num(timediff2_array, nan=-1)\n",
    "timediff3_array = np.nan_to_num(timediff3_array, nan=-1)\n",
    "timediff4_array = np.nan_to_num(timediff4_array, nan=-1)\n",
    "time_dd_array = np.nan_to_num(time_dd_array, nan=-1)"
   ]
  },
  {
   "cell_type": "code",
   "execution_count": 13,
   "metadata": {
    "execution": {
     "iopub.execute_input": "2020-12-28T07:22:57.557300Z",
     "iopub.status.busy": "2020-12-28T07:22:57.551668Z",
     "iopub.status.idle": "2020-12-28T07:24:01.249894Z",
     "shell.execute_reply": "2020-12-28T07:24:01.249096Z"
    },
    "papermill": {
     "duration": 63.734968,
     "end_time": "2020-12-28T07:24:01.250043",
     "exception": false,
     "start_time": "2020-12-28T07:22:57.515075",
     "status": "completed"
    },
    "tags": []
   },
   "outputs": [],
   "source": [
    "@jit\n",
    "def elapsed_time_mean_by_bundle(E, T):\n",
    "    ans = np.zeros(len(T))\n",
    "    count = 0\n",
    "    prev_time = -1 \n",
    "    for i in range(len(T)): \n",
    "        if prev_time == T[i]:\n",
    "            ans[i] = ans[i-1]\n",
    "        else:\n",
    "            ans[i] = count\n",
    "        prev_time = T[i]\n",
    "        count = count + E[i]\n",
    "    return ans\n",
    "\n",
    "prior_question_elapsed_time_mean_array = train_df.groupby(\"user_id\").apply(lambda x: \n",
    "                                                                         elapsed_time_mean_by_bundle(x[\"prior_question_elapsed_time\"].values, \n",
    "                                                                                                     x[\"timestamp\"].values))\n",
    "prior_question_elapsed_time_mean_array = np.hstack(prior_question_elapsed_time_mean_array)\n",
    "prior_question_elapsed_time_mean_array = prior_question_elapsed_time_mean_array[train_index]\n",
    "prior_question_elapsed_time_mean_array = prior_question_elapsed_time_mean_array / count_array\n",
    "prior_question_elapsed_time_mean_array[count_zero_index] = -1\n",
    "\n",
    "user_prior_question_elapsed_time_sum_agg = train_df.groupby('user_id')[\"prior_question_elapsed_time\"].agg(['sum'])\n",
    "user_prior_question_elapsed_time_sum_dict = user_prior_question_elapsed_time_sum_agg['sum'].astype('int32').to_dict(defaultdict(int))\n",
    "del user_prior_question_elapsed_time_sum_agg\n",
    "\n",
    "prior_question_elapsed_time_array = train_df.prior_question_elapsed_time.values\n",
    "train_df.drop(\"prior_question_elapsed_time\", axis =1, inplace=True)\n",
    "prior_question_elapsed_time_array = prior_question_elapsed_time_array[train_index]"
   ]
  },
  {
   "cell_type": "code",
   "execution_count": 14,
   "metadata": {
    "execution": {
     "iopub.execute_input": "2020-12-28T07:24:01.320436Z",
     "iopub.status.busy": "2020-12-28T07:24:01.319697Z",
     "iopub.status.idle": "2020-12-28T07:24:19.724382Z",
     "shell.execute_reply": "2020-12-28T07:24:19.724933Z"
    },
    "papermill": {
     "duration": 18.446282,
     "end_time": "2020-12-28T07:24:19.725101",
     "exception": false,
     "start_time": "2020-12-28T07:24:01.278819",
     "status": "completed"
    },
    "tags": []
   },
   "outputs": [],
   "source": [
    "questions_df = pd.read_csv(\n",
    "    '../input/riiid-test-answer-prediction/questions.csv', \n",
    "    usecols=[0, 1, 3], \n",
    "    dtype={'question_id': 'int16', 'bundle_id': 'int16', 'part': 'int8'} \n",
    ")\n",
    "\n",
    "additional_q_df = pd.read_csv('../input/riiid-question-clustering/question_cmnts.csv')\n",
    "questions_df[\"community\"] = additional_q_df[\"community\"].astype('int8')\n",
    "del additional_q_df \n",
    "    \n",
    "train_df = pd.merge(train_df, questions_df, left_on='content_id', right_on='question_id', how='left', right_index=True).reset_index(drop=True)\n",
    "train_df.drop(columns=['question_id'], inplace=True)"
   ]
  },
  {
   "cell_type": "code",
   "execution_count": 15,
   "metadata": {
    "execution": {
     "iopub.execute_input": "2020-12-28T07:24:19.809437Z",
     "iopub.status.busy": "2020-12-28T07:24:19.808367Z",
     "iopub.status.idle": "2020-12-28T07:24:19.815961Z",
     "shell.execute_reply": "2020-12-28T07:24:19.814941Z"
    },
    "papermill": {
     "duration": 0.060988,
     "end_time": "2020-12-28T07:24:19.816139",
     "exception": false,
     "start_time": "2020-12-28T07:24:19.755151",
     "status": "completed"
    },
    "tags": []
   },
   "outputs": [
    {
     "name": "stdout",
     "output_type": "stream",
     "text": [
      "76\n"
     ]
    }
   ],
   "source": [
    "###\n",
    "community_num = len(questions_df.community.unique())\n",
    "print(community_num)\n",
    "\n",
    "@jit\n",
    "def tag_accuracy(A, C):\n",
    "    ans = []\n",
    "    community_count = [0] * community_num\n",
    "    community_correct = [0] * community_num\n",
    "    for i in range(len(C)):\n",
    "        if community_count[C[i]]==0:\n",
    "            ans.append(-1)\n",
    "        else:\n",
    "            ans.append(community_correct[C[i]]/community_count[C[i]])\n",
    "        community_count[C[i]] +=1\n",
    "        community_correct[C[i]] += A[i]\n",
    "    return np.array(ans)\n",
    "\n",
    "@jit\n",
    "def tag_correct_last(A, C):\n",
    "    community_correct = [0] * community_num\n",
    "    for i in range(len(C)):\n",
    "        community_correct[C[i]] += A[i]\n",
    "    return np.array(community_correct)\n",
    "\n",
    "@jit\n",
    "def tag_count_last(A, C):\n",
    "    community_count = [0] * community_num\n",
    "    for i in range(len(C)):\n",
    "        community_count[C[i]] +=1\n",
    "    return np.array(community_count)\n",
    "\n",
    "def init_dict():\n",
    "    ans = [0] * community_num\n",
    "    return np.array(ans)"
   ]
  },
  {
   "cell_type": "code",
   "execution_count": 16,
   "metadata": {
    "execution": {
     "iopub.execute_input": "2020-12-28T07:24:19.892599Z",
     "iopub.status.busy": "2020-12-28T07:24:19.890989Z",
     "iopub.status.idle": "2020-12-28T07:26:24.497636Z",
     "shell.execute_reply": "2020-12-28T07:26:24.498586Z"
    },
    "papermill": {
     "duration": 124.652085,
     "end_time": "2020-12-28T07:26:24.498806",
     "exception": false,
     "start_time": "2020-12-28T07:24:19.846721",
     "status": "completed"
    },
    "tags": []
   },
   "outputs": [],
   "source": [
    "###\n",
    "tag_acc_array = train_df.groupby(\"user_id\").apply(lambda x: tag_accuracy(x[\"answered_correctly\"].values, x[\"community\"].values))\n",
    "tag_acc_array = np.hstack(tag_acc_array)\n",
    "tag_acc_array = tag_acc_array[train_index]\n",
    "\n",
    "user_community_count_dict = train_df.groupby(\"user_id\").apply(lambda x: tag_count_last(x[\"answered_correctly\"].values, x[\"community\"].values)).to_dict(defaultdict(init_dict))\n",
    "user_community_correct_dict = train_df.groupby(\"user_id\").apply(lambda x: tag_correct_last(x[\"answered_correctly\"].values, x[\"community\"].values)).to_dict(defaultdict(init_dict))\n",
    "    \n",
    "#\n",
    "community_agg = train_df.groupby('community')[target].agg(['count'])\n",
    "community_count_dict = community_agg['count'].astype('int32').to_dict(defaultdict(int))\n",
    "community_count_array = train_df['community'].map(community_agg['count']).astype('int32').values\n",
    "del community_agg\n",
    "community_count_array = community_count_array[train_index]\n",
    "    \n",
    "community_array = train_df[\"community\"].values\n",
    "community_array = community_array[train_index]\n",
    "train_df.drop('community', axis=1, inplace=True)"
   ]
  },
  {
   "cell_type": "code",
   "execution_count": 17,
   "metadata": {
    "execution": {
     "iopub.execute_input": "2020-12-28T07:26:24.562357Z",
     "iopub.status.busy": "2020-12-28T07:26:24.561609Z",
     "iopub.status.idle": "2020-12-28T07:27:04.566182Z",
     "shell.execute_reply": "2020-12-28T07:27:04.564730Z"
    },
    "papermill": {
     "duration": 40.037235,
     "end_time": "2020-12-28T07:27:04.566343",
     "exception": false,
     "start_time": "2020-12-28T07:26:24.529108",
     "status": "completed"
    },
    "tags": []
   },
   "outputs": [],
   "source": [
    "@jit\n",
    "def user_correctness_by_bundle(A, T):\n",
    "    ans = np.zeros(len(T))\n",
    "    count = np.zeros(len(T))\n",
    "    correct = np.zeros(len(T))\n",
    "    prev_time = 0\n",
    "    for i in range(len(T)): \n",
    "        if i == 0:\n",
    "            ans[i] = -1\n",
    "        elif prev_time == T[i]:\n",
    "            ans[i] = ans[i-1]\n",
    "        else:\n",
    "            if count[i-1] == 0:\n",
    "                ans[i] = -1\n",
    "            else:\n",
    "                ans[i] = correct[i-1] / count[i-1]\n",
    "        count[i] = count[i-1] + 1\n",
    "        correct[i] = correct[i-1] + A[i]\n",
    "        prev_time = T[i]\n",
    "    return ans\n",
    "\n",
    "user_correctness_array = train_df.groupby(\"user_id\").apply(lambda x: user_correctness_by_bundle(x[\"answered_correctly\"].values,\n",
    "                                                                                                x[\"timestamp\"].values))\n",
    "user_correctness_array = np.hstack(user_correctness_array)\n",
    "user_correctness_array = user_correctness_array[train_index]"
   ]
  },
  {
   "cell_type": "code",
   "execution_count": 18,
   "metadata": {
    "execution": {
     "iopub.execute_input": "2020-12-28T07:27:04.643228Z",
     "iopub.status.busy": "2020-12-28T07:27:04.634709Z",
     "iopub.status.idle": "2020-12-28T07:28:11.801624Z",
     "shell.execute_reply": "2020-12-28T07:28:11.802156Z"
    },
    "papermill": {
     "duration": 67.205684,
     "end_time": "2020-12-28T07:28:11.802337",
     "exception": false,
     "start_time": "2020-12-28T07:27:04.596653",
     "status": "completed"
    },
    "tags": []
   },
   "outputs": [],
   "source": [
    "@jit\n",
    "def part_count_by_bundle(P, T):\n",
    "    ans = np.zeros(len(T))\n",
    "    part_count = [0] * 8\n",
    "    prev_time = -1\n",
    "    for i in range(len(T)):\n",
    "        if i == 0:\n",
    "            ans[i] = 0\n",
    "        elif prev_time == T[i]:\n",
    "            ans[i] = ans[i-1]\n",
    "        else:\n",
    "            ans[i] = part_count[P[i]]            \n",
    "        prev_time = T[i]\n",
    "        part_count[P[i]] += 1\n",
    "    return ans \n",
    "\n",
    "@jit\n",
    "def part_count_dict_calc(P):\n",
    "    part_count = [0] * 8\n",
    "    for i in range(len(P)):\n",
    "        part_count[P[i]] += 1\n",
    "    return np.array(part_count)\n",
    "\n",
    "def part_dict_init():\n",
    "    ans = [0] * 8\n",
    "    return np.array(ans)\n",
    "\n",
    "part_count_array = train_df.groupby(\"user_id\").apply(lambda x: part_count_by_bundle(x[\"part\"].values,\n",
    "                                                                                    x[\"timestamp\"].values))\n",
    "part_count_array = np.hstack(part_count_array)\n",
    "part_count_array = part_count_array[train_index]\n",
    "part_ratio_array = part_count_array / count_array\n",
    "part_ratio_array[count_zero_index] = -1\n",
    "\n",
    "user_part_count_dict = train_df.groupby(\"user_id\").apply(lambda x: part_count_dict_calc(x[\"part\"].values)).to_dict(defaultdict(part_dict_init))\n",
    "\n",
    "part_array = train_df.part.values\n",
    "train_df.drop(\"part\", axis=1, inplace=True)\n",
    "part_array = part_array[train_index]"
   ]
  },
  {
   "cell_type": "code",
   "execution_count": 19,
   "metadata": {
    "execution": {
     "iopub.execute_input": "2020-12-28T07:28:11.884300Z",
     "iopub.status.busy": "2020-12-28T07:28:11.879066Z",
     "iopub.status.idle": "2020-12-28T07:28:57.248244Z",
     "shell.execute_reply": "2020-12-28T07:28:57.249533Z"
    },
    "papermill": {
     "duration": 45.417774,
     "end_time": "2020-12-28T07:28:57.249811",
     "exception": false,
     "start_time": "2020-12-28T07:28:11.832037",
     "status": "completed"
    },
    "tags": []
   },
   "outputs": [],
   "source": [
    "@jit\n",
    "def had_explanation_mean_by_bundle(E, T):\n",
    "    ans = np.zeros(len(T))\n",
    "    count = 0\n",
    "    prev_time = -1 \n",
    "    for i in range(len(T)): \n",
    "        if prev_time == T[i]:\n",
    "            ans[i] = ans[i-1]\n",
    "        else:\n",
    "            ans[i] = count\n",
    "        prev_time = T[i]\n",
    "        count = count + E[i]\n",
    "    return ans\n",
    "\n",
    "prior_question_had_explanation_mean_array = train_df.groupby(\"user_id\").apply(lambda x: \n",
    "                                                                         had_explanation_mean_by_bundle(x[\"prior_question_had_explanation\"].values, \n",
    "                                                                                                        x[\"timestamp\"].values))\n",
    "prior_question_had_explanation_mean_array = np.hstack(prior_question_had_explanation_mean_array)\n",
    "prior_question_had_explanation_mean_array = prior_question_had_explanation_mean_array[train_index]\n",
    "prior_question_had_explanation_mean_array = prior_question_had_explanation_mean_array / count_array\n",
    "prior_question_had_explanation_mean_array[count_zero_index] = -1\n",
    "\n",
    "user_prior_question_had_explanation_sum_agg = train_df.groupby('user_id')[\"prior_question_had_explanation\"].agg(['sum'])\n",
    "user_prior_question_had_explanation_sum_dict = user_prior_question_had_explanation_sum_agg['sum'].astype('int32').to_dict(defaultdict(int))\n",
    "del user_prior_question_had_explanation_sum_agg\n",
    "\n",
    "prior_question_had_explanation_array = train_df.prior_question_had_explanation.values\n",
    "train_df.drop('prior_question_had_explanation', axis=1, inplace=True)\n",
    "prior_question_had_explanation_array = prior_question_had_explanation_array[train_index]"
   ]
  },
  {
   "cell_type": "code",
   "execution_count": 20,
   "metadata": {
    "execution": {
     "iopub.execute_input": "2020-12-28T07:28:57.338628Z",
     "iopub.status.busy": "2020-12-28T07:28:57.337867Z",
     "iopub.status.idle": "2020-12-28T07:29:26.482951Z",
     "shell.execute_reply": "2020-12-28T07:29:26.482233Z"
    },
    "papermill": {
     "duration": 29.189303,
     "end_time": "2020-12-28T07:29:26.483083",
     "exception": false,
     "start_time": "2020-12-28T07:28:57.293780",
     "status": "completed"
    },
    "tags": []
   },
   "outputs": [
    {
     "name": "stdout",
     "output_type": "stream",
     "text": [
      "Flushing output cache (0 entries)\n",
      "Flushing input history\n"
     ]
    }
   ],
   "source": [
    "first_attempt_df = pd.read_csv(\"../input/riiidpremadedatabundle/content_first_attempt.csv\")\n",
    "first_attempt_array = first_attempt_df.first_attempt.values\n",
    "train_df[\"first_attempt\"] = first_attempt_array\n",
    "\n",
    "unique_attempt_array= train_df.groupby(\"user_id\")[\"first_attempt\"].cumsum().values\n",
    "train_df[\"unique_attempt\"] = unique_attempt_array\n",
    "user_unique_agg = train_df.groupby('user_id')[\"unique_attempt\"].agg(['max'])\n",
    "user_unique_dict = user_unique_agg['max'].astype('int32').to_dict(defaultdict(int))\n",
    "\n",
    "first_attempt_array = first_attempt_array[train_index]\n",
    "unique_attempt_array = unique_attempt_array[train_index]\n",
    "train_df.drop(['first_attempt', 'unique_attempt'], axis=1, inplace=True)\n",
    "del first_attempt_df, user_unique_agg\n",
    "\n",
    "clear_mem()"
   ]
  },
  {
   "cell_type": "code",
   "execution_count": 21,
   "metadata": {
    "execution": {
     "iopub.execute_input": "2020-12-28T07:29:26.557558Z",
     "iopub.status.busy": "2020-12-28T07:29:26.556459Z",
     "iopub.status.idle": "2020-12-28T07:30:03.794588Z",
     "shell.execute_reply": "2020-12-28T07:30:03.793766Z"
    },
    "papermill": {
     "duration": 37.280765,
     "end_time": "2020-12-28T07:30:03.794761",
     "exception": false,
     "start_time": "2020-12-28T07:29:26.513996",
     "status": "completed"
    },
    "tags": []
   },
   "outputs": [
    {
     "name": "stdout",
     "output_type": "stream",
     "text": [
      "Flushing output cache (0 entries)\n",
      "Flushing input history\n",
      "Flushing output cache (0 entries)\n",
      "Flushing input history\n",
      "0.0\n"
     ]
    }
   ],
   "source": [
    "user_agg = train_df.groupby('user_id')[target].agg(['sum', 'count'])\n",
    "user_sum_dict = user_agg['sum'].astype('int16').to_dict(defaultdict(int))\n",
    "del user_agg['sum']\n",
    "user_count_dict = user_agg['count'].astype('int16').to_dict(defaultdict(int))\n",
    "del user_agg['count']\n",
    "clear_mem()\n",
    "\n",
    "#\n",
    "content_agg = train_df.groupby('content_id')[target].agg(['sum', 'count'])\n",
    "content_sum_dict = content_agg['sum'].astype('int32').to_dict(defaultdict(int))\n",
    "content_count_dict = content_agg['count'].astype('int32').to_dict(defaultdict(int))\n",
    "\n",
    "content_count_array = train_df['content_id'].map(content_agg['count']).astype('int32').values\n",
    "content_id_array = train_df['content_id'].map(content_agg['sum'] / content_agg['count']).values\n",
    "del content_agg\n",
    "clear_mem()\n",
    "print(min(content_id_array))"
   ]
  },
  {
   "cell_type": "code",
   "execution_count": 22,
   "metadata": {
    "execution": {
     "iopub.execute_input": "2020-12-28T07:30:03.867418Z",
     "iopub.status.busy": "2020-12-28T07:30:03.866545Z",
     "iopub.status.idle": "2020-12-28T07:30:21.562426Z",
     "shell.execute_reply": "2020-12-28T07:30:21.561717Z"
    },
    "papermill": {
     "duration": 17.735436,
     "end_time": "2020-12-28T07:30:21.562570",
     "exception": false,
     "start_time": "2020-12-28T07:30:03.827134",
     "status": "completed"
    },
    "tags": []
   },
   "outputs": [],
   "source": [
    "with open('../input/riiidpremadedatabundle/got_point_array.pickle', 'rb') as f:\n",
    "    got_point_array = pickle.load(f)\n",
    "got_point_array = got_point_array[train_index]\n",
    "got_point_array = got_point_array / count_array\n",
    "got_point_array[count_zero_index] = -1\n",
    "    \n",
    "with open('../input/riiidpremadedatabundle/user_point_sum_dict.pickle', 'rb') as f: \n",
    "    user_point_sum_dict = pickle.load(f)\n",
    "\n",
    "content_id_array = content_id_array[train_index]\n",
    "content_count_array = content_count_array[train_index]"
   ]
  },
  {
   "cell_type": "code",
   "execution_count": 23,
   "metadata": {
    "execution": {
     "iopub.execute_input": "2020-12-28T07:30:22.475476Z",
     "iopub.status.busy": "2020-12-28T07:30:22.474471Z",
     "iopub.status.idle": "2020-12-28T07:30:39.510274Z",
     "shell.execute_reply": "2020-12-28T07:30:39.509020Z"
    },
    "papermill": {
     "duration": 17.915514,
     "end_time": "2020-12-28T07:30:39.510429",
     "exception": false,
     "start_time": "2020-12-28T07:30:21.594915",
     "status": "completed"
    },
    "tags": []
   },
   "outputs": [],
   "source": [
    "train_df.drop([\"content_id\"], axis=1, inplace=True)\n",
    "\n",
    "with open('../input/riiidpremadedatabundle/user_content_dict.pickle', 'rb') as f: \n",
    "    user_content_dict = pickle.load(f)"
   ]
  },
  {
   "cell_type": "code",
   "execution_count": 24,
   "metadata": {
    "execution": {
     "iopub.execute_input": "2020-12-28T07:30:39.645582Z",
     "iopub.status.busy": "2020-12-28T07:30:39.607397Z",
     "iopub.status.idle": "2020-12-28T07:30:53.505928Z",
     "shell.execute_reply": "2020-12-28T07:30:53.504789Z"
    },
    "papermill": {
     "duration": 13.96272,
     "end_time": "2020-12-28T07:30:53.506086",
     "exception": false,
     "start_time": "2020-12-28T07:30:39.543366",
     "status": "completed"
    },
    "tags": []
   },
   "outputs": [],
   "source": [
    "def init_last7():\n",
    "    ans = [-1] * 7\n",
    "    return np.array(ans)\n",
    "\n",
    "with open('../input/riiidpremadedatabundle/answered_correctly_last7_array.pickle','rb') as f:\n",
    "    answered_correctly_last7_array = pickle.load(f)\n",
    "answered_correctly_last7_array = answered_correctly_last7_array[train_index]\n",
    "    \n",
    "with open('../input/riiidpremadedatabundle/user_last_count7_dict.pickle','rb') as f:\n",
    "    user_last_count7_dict = pickle.load(f)\n",
    "\n",
    "with open('../input/riiidpremadedatabundle/user_last_correct7_dict.pickle','rb') as f:\n",
    "    user_last_correct7_dict = pickle.load(f)"
   ]
  },
  {
   "cell_type": "code",
   "execution_count": 25,
   "metadata": {
    "execution": {
     "iopub.execute_input": "2020-12-28T07:30:53.579451Z",
     "iopub.status.busy": "2020-12-28T07:30:53.578713Z",
     "iopub.status.idle": "2020-12-28T07:31:16.559627Z",
     "shell.execute_reply": "2020-12-28T07:31:16.558964Z"
    },
    "papermill": {
     "duration": 23.021188,
     "end_time": "2020-12-28T07:31:16.559769",
     "exception": false,
     "start_time": "2020-12-28T07:30:53.538581",
     "status": "completed"
    },
    "tags": []
   },
   "outputs": [],
   "source": [
    "with open('../input/riiidpremadedatabundle/continuous_correct_array.pickle','rb') as f:\n",
    "    continuous_correct_array = pickle.load(f)\n",
    "continuous_correct_array=continuous_correct_array[train_index]\n",
    "    \n",
    "with open('../input/riiidpremadedatabundle/continuous_correct_dict.pickle','rb') as f:\n",
    "    continuous_correct_dict = pickle.load(f)\n",
    "    \n",
    "with open('../input/riiidpremadedatabundle/continuous_incorrect_array.pickle','rb') as f:\n",
    "    continuous_incorrect_array = pickle.load(f)\n",
    "continuous_incorrect_array=continuous_incorrect_array[train_index]\n",
    "    \n",
    "with open('../input/riiidpremadedatabundle/continuous_incorrect_dict.pickle','rb') as f:\n",
    "    continuous_incorrect_dict = pickle.load(f)"
   ]
  },
  {
   "cell_type": "code",
   "execution_count": 26,
   "metadata": {
    "execution": {
     "iopub.execute_input": "2020-12-28T07:31:18.959810Z",
     "iopub.status.busy": "2020-12-28T07:31:18.959039Z",
     "iopub.status.idle": "2020-12-28T07:31:21.150606Z",
     "shell.execute_reply": "2020-12-28T07:31:21.150007Z"
    },
    "papermill": {
     "duration": 4.557571,
     "end_time": "2020-12-28T07:31:21.150743",
     "exception": false,
     "start_time": "2020-12-28T07:31:16.593172",
     "status": "completed"
    },
    "tags": []
   },
   "outputs": [],
   "source": [
    "answered_correctly_array = train_df[target].values\n",
    "train_df.drop(target, axis=1, inplace=True)\n",
    "answered_correctly_array = answered_correctly_array[train_index]"
   ]
  },
  {
   "cell_type": "markdown",
   "metadata": {
    "papermill": {
     "duration": 0.032641,
     "end_time": "2020-12-28T07:31:21.216638",
     "exception": false,
     "start_time": "2020-12-28T07:31:21.183997",
     "status": "completed"
    },
    "tags": []
   },
   "source": [
    "# data formation"
   ]
  },
  {
   "cell_type": "code",
   "execution_count": 27,
   "metadata": {
    "execution": {
     "iopub.execute_input": "2020-12-28T07:31:21.339290Z",
     "iopub.status.busy": "2020-12-28T07:31:21.338389Z",
     "iopub.status.idle": "2020-12-28T07:31:37.783306Z",
     "shell.execute_reply": "2020-12-28T07:31:37.784249Z"
    },
    "papermill": {
     "duration": 16.535048,
     "end_time": "2020-12-28T07:31:37.784421",
     "exception": false,
     "start_time": "2020-12-28T07:31:21.249373",
     "status": "completed"
    },
    "tags": []
   },
   "outputs": [],
   "source": [
    "if not FULL_TRAIN:\n",
    "    train_df = train_df[train_df.index.isin(train_index)].reset_index(drop=True)\n",
    "    if CV_SCHEME == \"original\":\n",
    "        valid_index = list(train_df.groupby('user_id').tail(valid_size).index)\n",
    "    else:\n",
    "        valid_index = list(train_df['viretual_time_stamp'].nlargest(2500000).index)\n",
    "    train_index = list(train_df[~train_df.index.isin(valid_index)].index)\n",
    "del train_df"
   ]
  },
  {
   "cell_type": "code",
   "execution_count": 28,
   "metadata": {
    "execution": {
     "iopub.execute_input": "2020-12-28T07:31:37.864928Z",
     "iopub.status.busy": "2020-12-28T07:31:37.864223Z",
     "iopub.status.idle": "2020-12-28T07:31:37.868864Z",
     "shell.execute_reply": "2020-12-28T07:31:37.868060Z"
    },
    "papermill": {
     "duration": 0.05048,
     "end_time": "2020-12-28T07:31:37.869022",
     "exception": false,
     "start_time": "2020-12-28T07:31:37.818542",
     "status": "completed"
    },
    "tags": []
   },
   "outputs": [
    {
     "name": "stdout",
     "output_type": "stream",
     "text": [
      "26\n"
     ]
    }
   ],
   "source": [
    "features_dict = {\n",
    "    'content_id': content_id_array,\n",
    "    'prior_question_elapsed_time': prior_question_elapsed_time_array,\n",
    "    'prior_question_had_explanation':  prior_question_had_explanation_array,\n",
    "    'user_correctness': user_correctness_array,\n",
    "    'part': part_array,\n",
    "    'content_count': content_count_array,\n",
    "    'count': count_array,\n",
    "    'first_attempt': first_attempt_array,\n",
    "    'unique_attempt': unique_attempt_array,\n",
    "    'part_count': part_count_array,\n",
    "    'part_ratio': part_ratio_array,\n",
    "    'prior_question_had_explanation_mean': prior_question_had_explanation_mean_array,\n",
    "    'got_point': got_point_array,\n",
    "    'answered_correctly_last7': answered_correctly_last7_array,   \n",
    "    'timediff': timediff_array,\n",
    "    'timediff2': timediff2_array,\n",
    "    'timediff3': timediff3_array,\n",
    "    'timediff4': timediff4_array,\n",
    "    'community': community_array,\n",
    "    'tag_acc': tag_acc_array,\n",
    "    'community_count': community_count_array,\n",
    "    'time_dd': time_dd_array,\n",
    "    'continuous_correct': continuous_correct_array,\n",
    "    'continuous_incorrect': continuous_incorrect_array,\n",
    "    'prior_question_elapsed_time_mean': prior_question_elapsed_time_mean_array,\n",
    "    'time_from_lec': time_from_lec_array,\n",
    "}\n",
    "\n",
    "features = list(features_dict.keys())\n",
    "print(len(features))\n",
    "\n",
    "del content_id_array, prior_question_elapsed_time_array, prior_question_had_explanation_array,\n",
    "del user_correctness_array, part_array,\n",
    "del content_count_array, count_array, first_attempt_array, unique_attempt_array,\n",
    "del part_ratio_array, part_count_array,\n",
    "del prior_question_had_explanation_mean_array, prior_question_elapsed_time_mean_array, got_point_array, \n",
    "del answered_correctly_last7_array, timediff_array, timediff2_array, timediff3_array, timediff4_array,\n",
    "del community_array,\n",
    "del tag_acc_array, community_count_array, time_dd_array, continuous_correct_array, continuous_incorrect_array\n",
    "del time_from_lec_array,"
   ]
  },
  {
   "cell_type": "code",
   "execution_count": 29,
   "metadata": {
    "execution": {
     "iopub.execute_input": "2020-12-28T07:31:37.944797Z",
     "iopub.status.busy": "2020-12-28T07:31:37.943911Z",
     "iopub.status.idle": "2020-12-28T07:31:37.947641Z",
     "shell.execute_reply": "2020-12-28T07:31:37.948174Z"
    },
    "papermill": {
     "duration": 0.044514,
     "end_time": "2020-12-28T07:31:37.948321",
     "exception": false,
     "start_time": "2020-12-28T07:31:37.903807",
     "status": "completed"
    },
    "tags": []
   },
   "outputs": [
    {
     "name": "stdout",
     "output_type": "stream",
     "text": [
      "(7500000, 27) (2500000, 27)\n"
     ]
    }
   ],
   "source": [
    "if FULL_TRAIN:\n",
    "    print(len(train_index), len(features)+1)\n",
    "else:\n",
    "    print((len(train_index), len(features)+1), (len(valid_index), len(features)+1))"
   ]
  },
  {
   "cell_type": "markdown",
   "metadata": {
    "papermill": {
     "duration": 0.034498,
     "end_time": "2020-12-28T07:31:38.017121",
     "exception": false,
     "start_time": "2020-12-28T07:31:37.982623",
     "status": "completed"
    },
    "tags": []
   },
   "source": [
    "# Train"
   ]
  },
  {
   "cell_type": "code",
   "execution_count": 30,
   "metadata": {
    "execution": {
     "iopub.execute_input": "2020-12-28T07:31:38.089417Z",
     "iopub.status.busy": "2020-12-28T07:31:38.088726Z",
     "iopub.status.idle": "2020-12-28T07:31:38.094304Z",
     "shell.execute_reply": "2020-12-28T07:31:38.093616Z"
    },
    "papermill": {
     "duration": 0.042997,
     "end_time": "2020-12-28T07:31:38.094419",
     "exception": false,
     "start_time": "2020-12-28T07:31:38.051422",
     "status": "completed"
    },
    "tags": []
   },
   "outputs": [],
   "source": [
    "params = {\n",
    "    'objective': 'binary',\n",
    "    'seed': 42,\n",
    "    'metric': 'auc',\n",
    "    'learning_rate': 0.05,\n",
    "    'max_bin': 600,\n",
    "    'num_leaves': 80\n",
    "}"
   ]
  },
  {
   "cell_type": "code",
   "execution_count": 31,
   "metadata": {
    "execution": {
     "iopub.execute_input": "2020-12-28T07:31:38.188639Z",
     "iopub.status.busy": "2020-12-28T07:31:38.183366Z",
     "iopub.status.idle": "2020-12-28T07:32:40.140664Z",
     "shell.execute_reply": "2020-12-28T07:32:40.139582Z"
    },
    "papermill": {
     "duration": 62.012385,
     "end_time": "2020-12-28T07:32:40.140845",
     "exception": false,
     "start_time": "2020-12-28T07:31:38.128460",
     "status": "completed"
    },
    "tags": []
   },
   "outputs": [],
   "source": [
    "if FULL_TRAIN:\n",
    "    X_train = np.ndarray(shape=(len(train_index), len(features)), dtype=np.float32)\n",
    "\n",
    "    for idx, feature in enumerate(features):\n",
    "        X_train[:,idx] = features_dict[feature].astype(np.float32).reshape(-1)\n",
    "        del features_dict[feature]\n",
    "    y_train = answered_correctly_array.astype(np.float32)\n",
    "    tr_data = lgb.Dataset(X_train, label=y_train)\n",
    "else:\n",
    "    X_train = np.ndarray(shape=(len(train_index), len(features)), dtype=np.float32)\n",
    "    X_valid = np.ndarray(shape=(len(valid_index), len(features)), dtype=np.float32)\n",
    "\n",
    "    for idx, feature in enumerate(features):\n",
    "        X_train[:,idx] = features_dict[feature][train_index].astype(np.float32).reshape(-1)\n",
    "        X_valid[:,idx] = features_dict[feature][valid_index].astype(np.float32).reshape(-1)\n",
    "        del features_dict[feature]\n",
    "    y_train = answered_correctly_array[train_index].astype(np.float32)\n",
    "    y_valid = answered_correctly_array[valid_index].astype(np.float32)\n",
    "\n",
    "    tr_data = lgb.Dataset(X_train, label=y_train)\n",
    "    va_data = lgb.Dataset(X_valid, label=y_valid)"
   ]
  },
  {
   "cell_type": "code",
   "execution_count": 32,
   "metadata": {
    "execution": {
     "iopub.execute_input": "2020-12-28T07:32:40.240009Z",
     "iopub.status.busy": "2020-12-28T07:32:40.239322Z",
     "iopub.status.idle": "2020-12-28T08:53:55.770795Z",
     "shell.execute_reply": "2020-12-28T08:53:55.771636Z"
    },
    "papermill": {
     "duration": 4875.588452,
     "end_time": "2020-12-28T08:53:55.772044",
     "exception": false,
     "start_time": "2020-12-28T07:32:40.183592",
     "status": "completed"
    },
    "tags": []
   },
   "outputs": [
    {
     "name": "stdout",
     "output_type": "stream",
     "text": [
      "training starts\n",
      "Training until validation scores don't improve for 15 rounds\n",
      "[50]\ttraining's auc: 0.77477\tvalid_1's auc: 0.775356\n",
      "[100]\ttraining's auc: 0.780408\tvalid_1's auc: 0.780717\n",
      "[150]\ttraining's auc: 0.783154\tvalid_1's auc: 0.783212\n",
      "[200]\ttraining's auc: 0.784814\tvalid_1's auc: 0.784647\n",
      "[250]\ttraining's auc: 0.785967\tvalid_1's auc: 0.785583\n",
      "[300]\ttraining's auc: 0.786716\tvalid_1's auc: 0.786118\n",
      "[350]\ttraining's auc: 0.787293\tvalid_1's auc: 0.786472\n",
      "[400]\ttraining's auc: 0.787832\tvalid_1's auc: 0.786781\n",
      "[450]\ttraining's auc: 0.788333\tvalid_1's auc: 0.787042\n",
      "[500]\ttraining's auc: 0.788791\tvalid_1's auc: 0.787268\n",
      "[550]\ttraining's auc: 0.789182\tvalid_1's auc: 0.787455\n",
      "[600]\ttraining's auc: 0.789571\tvalid_1's auc: 0.78762\n",
      "[650]\ttraining's auc: 0.789957\tvalid_1's auc: 0.787787\n",
      "[700]\ttraining's auc: 0.790321\tvalid_1's auc: 0.787934\n",
      "[750]\ttraining's auc: 0.79067\tvalid_1's auc: 0.788065\n",
      "[800]\ttraining's auc: 0.791021\tvalid_1's auc: 0.788195\n",
      "[850]\ttraining's auc: 0.791395\tvalid_1's auc: 0.788345\n",
      "[900]\ttraining's auc: 0.791728\tvalid_1's auc: 0.788459\n",
      "[950]\ttraining's auc: 0.792043\tvalid_1's auc: 0.788542\n",
      "[1000]\ttraining's auc: 0.79236\tvalid_1's auc: 0.788628\n",
      "[1050]\ttraining's auc: 0.792675\tvalid_1's auc: 0.788713\n",
      "[1100]\ttraining's auc: 0.79297\tvalid_1's auc: 0.788777\n",
      "[1150]\ttraining's auc: 0.793267\tvalid_1's auc: 0.788847\n",
      "[1200]\ttraining's auc: 0.793546\tvalid_1's auc: 0.788904\n",
      "[1250]\ttraining's auc: 0.793834\tvalid_1's auc: 0.78897\n",
      "[1300]\ttraining's auc: 0.794137\tvalid_1's auc: 0.789048\n",
      "[1350]\ttraining's auc: 0.794409\tvalid_1's auc: 0.789101\n",
      "[1400]\ttraining's auc: 0.794692\tvalid_1's auc: 0.789158\n",
      "[1450]\ttraining's auc: 0.794998\tvalid_1's auc: 0.789233\n",
      "[1500]\ttraining's auc: 0.795255\tvalid_1's auc: 0.789268\n",
      "[1550]\ttraining's auc: 0.795549\tvalid_1's auc: 0.789324\n",
      "[1600]\ttraining's auc: 0.795819\tvalid_1's auc: 0.789363\n",
      "[1650]\ttraining's auc: 0.796115\tvalid_1's auc: 0.789435\n",
      "[1700]\ttraining's auc: 0.79637\tvalid_1's auc: 0.789468\n",
      "[1750]\ttraining's auc: 0.796633\tvalid_1's auc: 0.789495\n",
      "[1800]\ttraining's auc: 0.796893\tvalid_1's auc: 0.789532\n",
      "[1850]\ttraining's auc: 0.79716\tvalid_1's auc: 0.789568\n",
      "[1900]\ttraining's auc: 0.79742\tvalid_1's auc: 0.789615\n",
      "[1950]\ttraining's auc: 0.797676\tvalid_1's auc: 0.789654\n",
      "[2000]\ttraining's auc: 0.797934\tvalid_1's auc: 0.789695\n",
      "[2050]\ttraining's auc: 0.798166\tvalid_1's auc: 0.789714\n",
      "[2100]\ttraining's auc: 0.798423\tvalid_1's auc: 0.789747\n",
      "[2150]\ttraining's auc: 0.798673\tvalid_1's auc: 0.78977\n",
      "[2200]\ttraining's auc: 0.798937\tvalid_1's auc: 0.789811\n",
      "[2250]\ttraining's auc: 0.799185\tvalid_1's auc: 0.789837\n",
      "[2300]\ttraining's auc: 0.79943\tvalid_1's auc: 0.789863\n",
      "Early stopping, best iteration is:\n",
      "[2298]\ttraining's auc: 0.799421\tvalid_1's auc: 0.789863\n"
     ]
    }
   ],
   "source": [
    "print(\"training starts\")\n",
    "if FULL_TRAIN:\n",
    "    model = lgb.train(\n",
    "        params, \n",
    "        tr_data, \n",
    "        num_boost_round=3000,\n",
    "        valid_sets=None, \n",
    "        )\n",
    "    del X_train, y_train\n",
    "else:\n",
    "    model = lgb.train(\n",
    "        params, \n",
    "        tr_data, \n",
    "        num_boost_round= 2500,\n",
    "        valid_sets=[tr_data, va_data], \n",
    "        early_stopping_rounds=15,\n",
    "        verbose_eval=50\n",
    "        )\n",
    "    del X_train, y_train, X_valid, y_valid"
   ]
  },
  {
   "cell_type": "markdown",
   "metadata": {
    "papermill": {
     "duration": 0.067278,
     "end_time": "2020-12-28T08:53:55.905003",
     "exception": false,
     "start_time": "2020-12-28T08:53:55.837725",
     "status": "completed"
    },
    "tags": []
   },
   "source": [
    "# Inference"
   ]
  },
  {
   "cell_type": "code",
   "execution_count": 33,
   "metadata": {
    "execution": {
     "iopub.execute_input": "2020-12-28T08:53:56.022979Z",
     "iopub.status.busy": "2020-12-28T08:53:56.022233Z",
     "iopub.status.idle": "2020-12-28T08:53:56.025608Z",
     "shell.execute_reply": "2020-12-28T08:53:56.026169Z"
    },
    "papermill": {
     "duration": 0.070049,
     "end_time": "2020-12-28T08:53:56.026317",
     "exception": false,
     "start_time": "2020-12-28T08:53:55.956268",
     "status": "completed"
    },
    "tags": []
   },
   "outputs": [],
   "source": [
    "env = riiideducation.make_env()\n",
    "iter_test = env.iter_test()\n",
    "prior_test_df = None"
   ]
  },
  {
   "cell_type": "code",
   "execution_count": 34,
   "metadata": {
    "execution": {
     "iopub.execute_input": "2020-12-28T08:53:56.147381Z",
     "iopub.status.busy": "2020-12-28T08:53:56.146548Z",
     "iopub.status.idle": "2020-12-28T08:53:57.068037Z",
     "shell.execute_reply": "2020-12-28T08:53:57.067446Z"
    },
    "papermill": {
     "duration": 0.990751,
     "end_time": "2020-12-28T08:53:57.068187",
     "exception": false,
     "start_time": "2020-12-28T08:53:56.077436",
     "status": "completed"
    },
    "tags": []
   },
   "outputs": [
    {
     "name": "stdout",
     "output_type": "stream",
     "text": [
      "CPU times: user 1.49 s, sys: 91.9 ms, total: 1.59 s\n",
      "Wall time: 886 ms\n"
     ]
    }
   ],
   "source": [
    "%%time\n",
    "for (test_df, sample_prediction_df) in iter_test:\n",
    "    if prior_test_df is not None:\n",
    "        prior_test_df[target] = eval(test_df['prior_group_answers_correct'].iloc[0])\n",
    "        prior_test_df = prior_test_df[prior_test_df[target] != -1].reset_index(drop=True)\n",
    "        \n",
    "        user_ids = prior_test_df['user_id'].values\n",
    "        content_ids = prior_test_df['content_id'].values\n",
    "        targets = prior_test_df[target].values\n",
    "        timestamps = prior_test_df['timestamp'].values\n",
    "                 \n",
    "        for (user_id, content_id, answered_correctly, first_attempt_ornot, prior_explanation,\n",
    "             prior_point, prior_community, prior_timestamp, prior_part, prior_elapsed) in zip(user_ids, \n",
    "                                                            content_ids, \n",
    "                                                            targets, \n",
    "                                                            prior_f_attempt_arrays,\n",
    "                                                            p_prior_question_had_explanation,\n",
    "                                                            prior_point_array,\n",
    "                                                            prior_community_arrays,\n",
    "                                                            timestamps,\n",
    "                                                            prior_part_array,\n",
    "                                                            p_prior_question_elapsed_time):\n",
    "            \n",
    "            user_sum_dict[user_id] += answered_correctly\n",
    "            user_count_dict[user_id] += 1\n",
    "            content_sum_dict[content_id] += answered_correctly\n",
    "            content_count_dict[content_id] += 1\n",
    "            user_unique_dict[user_id] += first_attempt_ornot\n",
    "            user_prior_question_had_explanation_sum_dict[user_id] += prior_explanation\n",
    "            user_prior_question_elapsed_time_sum_dict[user_id] += prior_elapsed\n",
    "            user_point_sum_dict[user_id] += prior_point * answered_correctly\n",
    "            user_part_count_dict[user_id][prior_part] += 1\n",
    "            user_community_correct_dict[user_id][prior_community] += answered_correctly\n",
    "            user_community_count_dict[user_id][prior_community] += 1\n",
    "            community_count_dict[prior_community] += 1  \n",
    "            \n",
    "            if np.sum(user_timestamp_max_dict[user_id] == prior_timestamp) == 0:\n",
    "                if len(user_timestamp_max_dict[user_id]) <= 3: \n",
    "                    user_timestamp_max_dict[user_id] = np.concatenate([user_timestamp_max_dict[user_id],[prior_timestamp]])\n",
    "                else:\n",
    "                    user_timestamp_max_dict[user_id] = np.concatenate([user_timestamp_max_dict[user_id],[prior_timestamp]])[1:]  \n",
    "                user_last_count7_dict[user_id] = np.concatenate([user_last_count7_dict[user_id],[1]])[1:]\n",
    "                user_last_correct7_dict[user_id] = np.concatenate([user_last_correct7_dict[user_id],[answered_correctly]])[1:]\n",
    "            else:\n",
    "                user_last_count7_dict[user_id][-1] += 1\n",
    "                user_last_correct7_dict[user_id][-1] += answered_correctly\n",
    "                    \n",
    "            if answered_correctly == 1:\n",
    "                continuous_correct_dict[user_id] += 1\n",
    "                continuous_incorrect_dict[user_id] = 0\n",
    "            else:\n",
    "                continuous_correct_dict[user_id] = 0\n",
    "                continuous_incorrect_dict[user_id] += 1\n",
    "                    \n",
    "    prior_test_df = test_df.copy()\n",
    "    \n",
    "    time_from_last_lec_array = np.zeros(len(test_df), dtype = np.int64)\n",
    "    for i, (user_id, content_type_id, timestamp) in enumerate(zip(test_df['user_id'].values, test_df['content_type_id'].values,\n",
    "                                                             test_df['timestamp'].values)):\n",
    "        if content_type_id == 1:\n",
    "            time_from_last_lec_array[i] = 0\n",
    "            user_last_lec_time_dict[user_id] = timestamp\n",
    "        else:\n",
    "            if user_last_lec_time_dict[user_id] != -1:\n",
    "                time_from_last_lec_array[i] = timestamp - user_last_lec_time_dict[user_id]\n",
    "            else:\n",
    "                time_from_last_lec_array[i] = -1\n",
    "    test_df['time_from_lec'] = time_from_last_lec_array \n",
    "           \n",
    "    test_df = test_df[test_df['content_type_id'] == 0].reset_index(drop=True)\n",
    "    test_df = pd.merge(test_df, questions_df, left_on='content_id', right_on='question_id', how='left', right_index=True).reset_index(drop=True)\n",
    "    test_df['prior_question_had_explanation'] = test_df['prior_question_had_explanation'].fillna(False).astype('int8')\n",
    "    test_df['prior_question_elapsed_time'] = test_df['prior_question_elapsed_time'].fillna(0)\n",
    "\n",
    "    p_prior_question_elapsed_time = test_df['prior_question_elapsed_time'].values\n",
    "    p_prior_question_had_explanation = test_df['prior_question_had_explanation'].values\n",
    "    prior_community_arrays = test_df['community'].values\n",
    "    prior_part_array = test_df['part'].values\n",
    "   \n",
    "    first_attempt_values = []\n",
    "    user_sum = np.zeros(len(test_df), dtype=np.int16)\n",
    "    user_count = np.zeros(len(test_df), dtype=np.int16)\n",
    "    content_sum = np.zeros(len(test_df), dtype=np.int32)\n",
    "    content_count = np.zeros(len(test_df), dtype=np.int32)\n",
    "    part_count = np.zeros(len(test_df), dtype=np.int32)\n",
    "    part_ratio_array = np.zeros(len(test_df), dtype=np.float32)\n",
    "    user_correctness_array = np.zeros(len(test_df), dtype=np.float32)\n",
    "    user_unique_count = np.zeros(len(test_df), dtype=np.int32)\n",
    "    user_prior_question_had_explanation_mean_array = np.zeros(len(test_df), dtype=np.float32)\n",
    "    user_prior_question_elapsed_time_mean_array = np.zeros(len(test_df), dtype=np.float32)\n",
    "    got_point_array = np.zeros(len(test_df), dtype=np.float32)\n",
    "    user_last7_accuracy_array = np.zeros(len(test_df), dtype=np.float32)\n",
    "    timediff_array = np.zeros(len(test_df), dtype = np.int64)\n",
    "    timediff2_array = np.zeros(len(test_df), dtype = np.int64)\n",
    "    timediff3_array = np.zeros(len(test_df), dtype = np.int64)\n",
    "    timediff4_array = np.zeros(len(test_df), dtype = np.int64)\n",
    "    tag_acc_array = np.zeros(len(test_df), dtype=np.float32)\n",
    "    community_count_array = np.zeros(len(test_df), dtype=np.int32)\n",
    "    time_dd_array = np.zeros(len(test_df), dtype = np.int64)\n",
    "    user_con_correct_array = np.zeros(len(test_df), dtype=np.int16)\n",
    "    user_con_incorrect_array = np.zeros(len(test_df), dtype=np.int16)\n",
    "    \n",
    "    for i, (user_id, content_id, timestamp, community, part) in enumerate(zip(test_df['user_id'].values, \n",
    "                                                             test_df['content_id'].values,\n",
    "                                                             test_df['timestamp'].values,\n",
    "                                                             test_df['community'].values,\n",
    "                                                             test_df['part'].values)):\n",
    "        user_sum[i] = user_sum_dict[user_id]\n",
    "        user_count[i] = user_count_dict[user_id]\n",
    "        content_sum[i] = content_sum_dict[content_id]\n",
    "        content_count[i] = content_count_dict[content_id]\n",
    "        part_count[i] = user_part_count_dict[user_id][part]\n",
    "        first_attempt_values.append(user_content_dict[user_id][content_id])\n",
    "        user_content_dict[user_id][content_id] = False             \n",
    "        user_unique_count[i] = user_unique_dict[user_id]\n",
    "        if user_count[i] != 0:\n",
    "            user_correctness_array[i] = user_sum[i] / user_count[i]\n",
    "            part_ratio_array[i] = part_count[i] / user_count[i]\n",
    "            user_prior_question_had_explanation_mean_array[i] = user_prior_question_had_explanation_sum_dict[user_id] / user_count[i]\n",
    "            user_prior_question_elapsed_time_mean_array[i] = user_prior_question_elapsed_time_sum_dict[user_id] / user_count[i]\n",
    "        else:\n",
    "            user_correctness_array[i] = -1\n",
    "            part_ratio_array[i] = -1\n",
    "            user_prior_question_had_explanation_mean_array[i] = -1\n",
    "            user_prior_question_elapsed_time_mean_array[i] = -1\n",
    "        \n",
    "        if np.sum(user_last_count7_dict != -1)==7:\n",
    "            user_last7_accuracy_array[i] = user_last_correct7_dict[user_id].sum() / user_last_count7_dict[user_id].sum()\n",
    "        else:\n",
    "            user_last7_accuracy_array[i] = np.nan\n",
    "\n",
    "        if len(user_timestamp_max_dict[user_id]) ==0:\n",
    "            timediff_array[i] = -1\n",
    "            timediff2_array[i] = -1\n",
    "            timediff3_array[i] = -1\n",
    "            timediff4_array[i] = -1\n",
    "            time_dd_array[i] = -1\n",
    "            \n",
    "        elif len(user_timestamp_max_dict[user_id]) ==1:\n",
    "            timediff_array[i] = timestamp - user_timestamp_max_dict[user_id][0]\n",
    "            timediff2_array[i] = -1\n",
    "            timediff3_array[i] = -1\n",
    "            timediff4_array[i] = -1\n",
    "            time_dd_array[i] = -1\n",
    "            \n",
    "        elif len(user_timestamp_max_dict[user_id]) ==2:\n",
    "            timediff_array[i] = timestamp - user_timestamp_max_dict[user_id][1]\n",
    "            timediff2_array[i] = timestamp - user_timestamp_max_dict[user_id][0]\n",
    "            timediff3_array[i] = -1\n",
    "            timediff4_array[i] = -1\n",
    "            time_dd_array[i] = timediff2_array[i] - timediff_array[i]\n",
    "            \n",
    "        elif len(user_timestamp_max_dict[user_id]) ==3:\n",
    "            timediff_array[i] = timestamp - user_timestamp_max_dict[user_id][2]\n",
    "            timediff2_array[i] = timestamp - user_timestamp_max_dict[user_id][1]\n",
    "            timediff3_array[i] = timestamp - user_timestamp_max_dict[user_id][0]\n",
    "            timediff4_array[i] = -1\n",
    "            time_dd_array[i] = timediff2_array[i] - timediff_array[i]\n",
    "    \n",
    "        else:\n",
    "            timediff_array[i] = timestamp - user_timestamp_max_dict[user_id][3]\n",
    "            timediff2_array[i] = timestamp - user_timestamp_max_dict[user_id][2]\n",
    "            timediff3_array[i] = timestamp - user_timestamp_max_dict[user_id][1]\n",
    "            timediff4_array[i] = timestamp - user_timestamp_max_dict[user_id][0]\n",
    "            time_dd_array[i] = timediff2_array[i] - timediff_array[i]\n",
    "            \n",
    "        if user_community_count_dict[user_id][community] == 0:\n",
    "            tag_acc_array[i] = -1\n",
    "        else:\n",
    "            tag_acc_array[i] = user_community_correct_dict[user_id][community] / user_community_count_dict[user_id][community]\n",
    "\n",
    "        got_point_array[i] = user_point_sum_dict[user_id]\n",
    "        community_count_array[i] = community_count_dict[community]\n",
    "        user_con_correct_array[i] = continuous_correct_dict[user_id]\n",
    "        user_con_incorrect_array[i] = continuous_incorrect_dict[user_id]\n",
    "     \n",
    "    test_df['count'] = user_count\n",
    "    test_df['user_correctness'] = user_correctness_array\n",
    "    test_df['content_count'] = content_count\n",
    "    test_df['content_id'] = content_sum / content_count\n",
    "    test_df['part_count'] = part_count\n",
    "    test_df['part_ratio'] = part_ratio_array\n",
    "    test_df[\"first_attempt\"] = first_attempt_values\n",
    "    test_df[\"unique_attempt\"] = test_df.groupby(\"user_id\")[\"first_attempt\"].cumsum()\n",
    "    test_df[\"unique_attempt\"] += user_unique_count\n",
    "    test_df['prior_question_had_explanation_mean'] = user_prior_question_had_explanation_mean_array\n",
    "    test_df['prior_question_elapsed_time_mean'] = user_prior_question_elapsed_time_mean_array\n",
    "    test_df['got_point'] = got_point_array / user_count\n",
    "    test_df['answered_correctly_last7'] = user_last7_accuracy_array\n",
    "    test_df['timediff'] = timediff_array\n",
    "    test_df['timediff2'] = timediff2_array\n",
    "    test_df['timediff3'] = timediff3_array\n",
    "    test_df['timediff4'] = timediff4_array\n",
    "    test_df['tag_acc'] = tag_acc_array\n",
    "    test_df['community_count'] = community_count_array\n",
    "    test_df['time_dd'] = time_dd_array\n",
    "    test_df['continuous_correct'] = user_con_correct_array\n",
    "    test_df['continuous_incorrect'] = user_con_incorrect_array\n",
    "\n",
    "    prior_f_attempt_arrays = test_df['first_attempt'].values\n",
    "    prior_point_array = 1 / (test_df.content_id.values + 0.1)\n",
    "    \n",
    "    test_df[target] = model.predict(test_df[features])\n",
    "    env.predict(test_df[['row_id', target]])"
   ]
  },
  {
   "cell_type": "code",
   "execution_count": null,
   "metadata": {
    "papermill": {
     "duration": 0.094797,
     "end_time": "2020-12-28T08:53:57.221183",
     "exception": false,
     "start_time": "2020-12-28T08:53:57.126386",
     "status": "completed"
    },
    "tags": []
   },
   "outputs": [],
   "source": []
  }
 ],
 "metadata": {
  "kernelspec": {
   "display_name": "Python 3",
   "language": "python",
   "name": "python3"
  },
  "language_info": {
   "codemirror_mode": {
    "name": "ipython",
    "version": 3
   },
   "file_extension": ".py",
   "mimetype": "text/x-python",
   "name": "python",
   "nbconvert_exporter": "python",
   "pygments_lexer": "ipython3",
   "version": "3.7.6"
  },
  "papermill": {
   "duration": 5992.635553,
   "end_time": "2020-12-28T08:53:57.629939",
   "environment_variables": {},
   "exception": null,
   "input_path": "__notebook__.ipynb",
   "output_path": "__notebook__.ipynb",
   "parameters": {},
   "start_time": "2020-12-28T07:14:04.994386",
   "version": "2.1.0"
  }
 },
 "nbformat": 4,
 "nbformat_minor": 4
}
