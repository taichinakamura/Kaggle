{
 "cells": [
  {
   "cell_type": "markdown",
   "metadata": {
    "papermill": {
     "duration": 0.024886,
     "end_time": "2020-12-05T01:21:07.969894",
     "exception": false,
     "start_time": "2020-12-05T01:21:07.945008",
     "status": "completed"
    },
    "tags": []
   },
   "source": [
    "- separate part count"
   ]
  },
  {
   "cell_type": "code",
   "execution_count": 1,
   "metadata": {
    "_cell_guid": "b1076dfc-b9ad-4769-8c92-a6c4dae69d19",
    "_uuid": "8f2839f25d086af736a60e9eeb907d3b93b6e0e5",
    "execution": {
     "iopub.execute_input": "2020-12-05T01:21:08.020758Z",
     "iopub.status.busy": "2020-12-05T01:21:08.019866Z",
     "iopub.status.idle": "2020-12-05T01:21:39.285530Z",
     "shell.execute_reply": "2020-12-05T01:21:39.286091Z"
    },
    "papermill": {
     "duration": 31.294956,
     "end_time": "2020-12-05T01:21:39.286317",
     "exception": false,
     "start_time": "2020-12-05T01:21:07.991361",
     "status": "completed"
    },
    "tags": []
   },
   "outputs": [],
   "source": [
    "!pip install ../input/python-datatable/datatable-0.11.0-cp37-cp37m-manylinux2010_x86_64.whl > /dev/null 2>&1"
   ]
  },
  {
   "cell_type": "code",
   "execution_count": 2,
   "metadata": {
    "_cell_guid": "79c7e3d0-c299-4dcb-8224-4455121ee9b0",
    "_uuid": "d629ff2d2480ee46fbb7e2d37f6b5fab8052498a",
    "execution": {
     "iopub.execute_input": "2020-12-05T01:21:39.339142Z",
     "iopub.status.busy": "2020-12-05T01:21:39.338372Z",
     "iopub.status.idle": "2020-12-05T01:21:40.567367Z",
     "shell.execute_reply": "2020-12-05T01:21:40.566609Z"
    },
    "papermill": {
     "duration": 1.258971,
     "end_time": "2020-12-05T01:21:40.567495",
     "exception": false,
     "start_time": "2020-12-05T01:21:39.308524",
     "status": "completed"
    },
    "tags": []
   },
   "outputs": [
    {
     "data": {
      "text/html": [
       "<style type='text/css'>\n",
       ".datatable table.frame { margin-bottom: 0; }\n",
       ".datatable table.frame thead { border-bottom: none; }\n",
       ".datatable table.frame tr.coltypes td {  color: #FFFFFF;  line-height: 6px;  padding: 0 0.5em;}\n",
       ".datatable .bool    { background: #DDDD99; }\n",
       ".datatable .object  { background: #565656; }\n",
       ".datatable .int     { background: #5D9E5D; }\n",
       ".datatable .float   { background: #4040CC; }\n",
       ".datatable .str     { background: #CC4040; }\n",
       ".datatable .row_index {  background: var(--jp-border-color3);  border-right: 1px solid var(--jp-border-color0);  color: var(--jp-ui-font-color3);  font-size: 9px;}\n",
       ".datatable .frame tr.coltypes .row_index {  background: var(--jp-border-color0);}\n",
       ".datatable th:nth-child(2) { padding-left: 12px; }\n",
       ".datatable .hellipsis {  color: var(--jp-cell-editor-border-color);}\n",
       ".datatable .vellipsis {  background: var(--jp-layout-color0);  color: var(--jp-cell-editor-border-color);}\n",
       ".datatable .na {  color: var(--jp-cell-editor-border-color);  font-size: 80%;}\n",
       ".datatable .footer { font-size: 9px; }\n",
       ".datatable .frame_dimensions {  background: var(--jp-border-color3);  border-top: 1px solid var(--jp-border-color0);  color: var(--jp-ui-font-color3);  display: inline-block;  opacity: 0.6;  padding: 1px 10px 1px 5px;}\n",
       ".datatable .frame thead tr.colnames {  background-image: url('data:image/png;base64,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');  background-repeat: repeat-x;  background-size: 14px;  height: 28px;}\n",
       "</style>\n"
      ],
      "text/plain": [
       "<IPython.core.display.HTML object>"
      ]
     },
     "metadata": {},
     "output_type": "display_data"
    },
    {
     "name": "stderr",
     "output_type": "stream",
     "text": [
      "/opt/conda/lib/python3.7/site-packages/ipykernel_launcher.py:11: TqdmDeprecationWarning: This function will be removed in tqdm==5.0.0\n",
      "Please use `tqdm.notebook.*` instead of `tqdm._tqdm_notebook.*`\n",
      "  # This is added back by InteractiveShellApp.init_path()\n",
      "/opt/conda/lib/python3.7/site-packages/tqdm/std.py:666: FutureWarning: The Panel class is removed from pandas. Accessing it from the top-level namespace will also be removed in the next version\n",
      "  from pandas import Panel\n"
     ]
    }
   ],
   "source": [
    "import numpy as np\n",
    "import pandas as pd\n",
    "from collections import defaultdict\n",
    "import datatable as dt\n",
    "import lightgbm as lgb\n",
    "from matplotlib import pyplot as plt\n",
    "import riiideducation\n",
    "from bitarray import bitarray\n",
    "from lightgbm import LGBMClassifier\n",
    "\n",
    "from tqdm._tqdm_notebook import tqdm_notebook\n",
    "tqdm_notebook.pandas(desc=\"progress: \")\n",
    "\n",
    "_ = np.seterr(divide='ignore', invalid='ignore')"
   ]
  },
  {
   "cell_type": "code",
   "execution_count": 3,
   "metadata": {
    "execution": {
     "iopub.execute_input": "2020-12-05T01:21:40.620484Z",
     "iopub.status.busy": "2020-12-05T01:21:40.619436Z",
     "iopub.status.idle": "2020-12-05T01:21:40.622879Z",
     "shell.execute_reply": "2020-12-05T01:21:40.622087Z"
    },
    "papermill": {
     "duration": 0.031746,
     "end_time": "2020-12-05T01:21:40.623029",
     "exception": false,
     "start_time": "2020-12-05T01:21:40.591283",
     "status": "completed"
    },
    "tags": []
   },
   "outputs": [],
   "source": [
    "def make_bitarray():\n",
    "    a = bitarray(32737, endian='little')\n",
    "    a.setall(True)   \n",
    "    return a"
   ]
  },
  {
   "cell_type": "code",
   "execution_count": 4,
   "metadata": {
    "execution": {
     "iopub.execute_input": "2020-12-05T01:21:40.674896Z",
     "iopub.status.busy": "2020-12-05T01:21:40.674084Z",
     "iopub.status.idle": "2020-12-05T01:21:40.677286Z",
     "shell.execute_reply": "2020-12-05T01:21:40.676571Z"
    },
    "papermill": {
     "duration": 0.031014,
     "end_time": "2020-12-05T01:21:40.677447",
     "exception": false,
     "start_time": "2020-12-05T01:21:40.646433",
     "status": "completed"
    },
    "tags": []
   },
   "outputs": [],
   "source": [
    "FULL_TRAIN = False"
   ]
  },
  {
   "cell_type": "markdown",
   "metadata": {
    "papermill": {
     "duration": 0.022847,
     "end_time": "2020-12-05T01:21:40.724191",
     "exception": false,
     "start_time": "2020-12-05T01:21:40.701344",
     "status": "completed"
    },
    "tags": []
   },
   "source": [
    "# Preprocess"
   ]
  },
  {
   "cell_type": "code",
   "execution_count": 5,
   "metadata": {
    "execution": {
     "iopub.execute_input": "2020-12-05T01:21:40.777646Z",
     "iopub.status.busy": "2020-12-05T01:21:40.776674Z",
     "iopub.status.idle": "2020-12-05T01:21:40.779383Z",
     "shell.execute_reply": "2020-12-05T01:21:40.778700Z"
    },
    "papermill": {
     "duration": 0.032107,
     "end_time": "2020-12-05T01:21:40.779517",
     "exception": false,
     "start_time": "2020-12-05T01:21:40.747410",
     "status": "completed"
    },
    "tags": []
   },
   "outputs": [],
   "source": [
    "data_types_dict = {\n",
    "    #'row_id': 'uint32',\n",
    "    'timestamp': 'uint64',\n",
    "    'user_id': 'int32', \n",
    "    'content_id': 'int16', \n",
    "    'answered_correctly': 'int8', \n",
    "    'prior_question_elapsed_time': 'float32', \n",
    "    'prior_question_had_explanation': 'bool'\n",
    "}\n",
    "target = 'answered_correctly'"
   ]
  },
  {
   "cell_type": "code",
   "execution_count": 6,
   "metadata": {
    "execution": {
     "iopub.execute_input": "2020-12-05T01:21:40.836768Z",
     "iopub.status.busy": "2020-12-05T01:21:40.835942Z",
     "iopub.status.idle": "2020-12-05T01:23:58.613933Z",
     "shell.execute_reply": "2020-12-05T01:23:58.612785Z"
    },
    "papermill": {
     "duration": 137.8111,
     "end_time": "2020-12-05T01:23:58.614267",
     "exception": false,
     "start_time": "2020-12-05T01:21:40.803167",
     "status": "completed"
    },
    "tags": []
   },
   "outputs": [],
   "source": [
    "train_df = dt.fread('../input/riiid-test-answer-prediction/train.csv', columns=set(data_types_dict.keys())).to_pandas()\n",
    "\n",
    "train_df = train_df[train_df[target] != -1].reset_index(drop=True)\n",
    "train_df['prior_question_had_explanation'].fillna(False, inplace=True)\n",
    "train_df['timestamp'] = (train_df['timestamp'] // 86400000) + 1 # days from start\n",
    "train_df = train_df.astype(data_types_dict)\n",
    "\n",
    "if FULL_TRAIN:\n",
    "    train_size = 40\n",
    "else:\n",
    "    train_size = 24\n",
    "    valid_size = 6\n",
    "train_index = list(train_df.groupby('user_id').tail(train_size).index)"
   ]
  },
  {
   "cell_type": "code",
   "execution_count": 7,
   "metadata": {
    "execution": {
     "iopub.execute_input": "2020-12-05T01:23:58.776281Z",
     "iopub.status.busy": "2020-12-05T01:23:58.768200Z",
     "iopub.status.idle": "2020-12-05T01:24:16.227725Z",
     "shell.execute_reply": "2020-12-05T01:24:16.226854Z"
    },
    "papermill": {
     "duration": 17.587009,
     "end_time": "2020-12-05T01:24:16.227868",
     "exception": false,
     "start_time": "2020-12-05T01:23:58.640859",
     "status": "completed"
    },
    "tags": []
   },
   "outputs": [],
   "source": [
    "questions_df = pd.read_csv(\n",
    "    '../input/riiid-test-answer-prediction/questions.csv', \n",
    "    usecols=[0, 3], #, 4\n",
    "    dtype={'question_id': 'int16', 'part': 'int8'}  #, 'tags': 'object'\n",
    ")\n",
    "train_df = pd.merge(train_df, questions_df, left_on='content_id', right_on='question_id', how='left', right_index=True).reset_index(drop=True)\n",
    "train_df.drop(columns=['question_id'], inplace=True)"
   ]
  },
  {
   "cell_type": "code",
   "execution_count": 8,
   "metadata": {
    "execution": {
     "iopub.execute_input": "2020-12-05T01:24:16.284183Z",
     "iopub.status.busy": "2020-12-05T01:24:16.283378Z",
     "iopub.status.idle": "2020-12-05T01:24:35.474541Z",
     "shell.execute_reply": "2020-12-05T01:24:35.473782Z"
    },
    "papermill": {
     "duration": 19.222614,
     "end_time": "2020-12-05T01:24:35.474681",
     "exception": false,
     "start_time": "2020-12-05T01:24:16.252067",
     "status": "completed"
    },
    "tags": []
   },
   "outputs": [],
   "source": [
    "train_df['lag'] = train_df.groupby('user_id')[target].shift()\n",
    "cum = train_df.groupby('user_id')['lag'].agg(['cumsum', 'cumcount'])\n",
    "user_correctness_array = np.array(cum['cumsum'] / cum['cumcount'])\n",
    "user_correctness_array = user_correctness_array[train_index]\n",
    "train_df.drop(columns=['lag'], inplace=True)\n",
    "del cum"
   ]
  },
  {
   "cell_type": "code",
   "execution_count": 9,
   "metadata": {
    "execution": {
     "iopub.execute_input": "2020-12-05T01:24:35.551490Z",
     "iopub.status.busy": "2020-12-05T01:24:35.542293Z",
     "iopub.status.idle": "2020-12-05T01:29:08.960187Z",
     "shell.execute_reply": "2020-12-05T01:29:08.958597Z"
    },
    "papermill": {
     "duration": 273.461718,
     "end_time": "2020-12-05T01:29:08.960386",
     "exception": false,
     "start_time": "2020-12-05T01:24:35.498668",
     "status": "completed"
    },
    "tags": []
   },
   "outputs": [],
   "source": [
    "train_df[\"part_count\"] = train_df[\"part\"] ==1\n",
    "train_df[\"part_count\"] = train_df[\"part_count\"].astype(\"int8\")\n",
    "train_df['part_count_lag'] = train_df.groupby('user_id')[\"part_count\"].shift()\n",
    "part1_count_array = train_df.groupby('user_id')['part_count_lag'].agg(['cumsum']).values\n",
    "part1_count_array = part1_count_array[train_index] \n",
    "train_df.drop(columns=['part_count_lag', 'part_count'], inplace=True)\n",
    "\n",
    "train_df[\"part_count\"] = train_df[\"part\"] ==2\n",
    "train_df[\"part_count\"] = train_df[\"part_count\"].astype(\"int8\")\n",
    "train_df['part_count_lag'] = train_df.groupby('user_id')[\"part_count\"].shift()\n",
    "part2_count_array = train_df.groupby('user_id')['part_count_lag'].agg(['cumsum']).values\n",
    "part2_count_array = part2_count_array[train_index] \n",
    "train_df.drop(columns=['part_count_lag', 'part_count'], inplace=True)\n",
    "\n",
    "train_df[\"part_count\"] = train_df[\"part\"] ==3\n",
    "train_df[\"part_count\"] = train_df[\"part_count\"].astype(\"int8\")\n",
    "train_df['part_count_lag'] = train_df.groupby('user_id')[\"part_count\"].shift()\n",
    "part3_count_array = train_df.groupby('user_id')['part_count_lag'].agg(['cumsum']).values\n",
    "part3_count_array = part3_count_array[train_index] \n",
    "train_df.drop(columns=['part_count_lag', 'part_count'], inplace=True)\n",
    "\n",
    "train_df[\"part_count\"] = train_df[\"part\"] ==4\n",
    "train_df[\"part_count\"] = train_df[\"part_count\"].astype(\"int8\")\n",
    "train_df['part_count_lag'] = train_df.groupby('user_id')[\"part_count\"].shift()\n",
    "part4_count_array = train_df.groupby('user_id')['part_count_lag'].agg(['cumsum']).values\n",
    "part4_count_array = part4_count_array[train_index] \n",
    "train_df.drop(columns=['part_count_lag', 'part_count'], inplace=True)\n",
    "\n",
    "train_df[\"part_count\"] = train_df[\"part\"] ==5\n",
    "train_df[\"part_count\"] = train_df[\"part_count\"].astype(\"int8\")\n",
    "train_df['part_count_lag'] = train_df.groupby('user_id')[\"part_count\"].shift()\n",
    "part5_count_array = train_df.groupby('user_id')['part_count_lag'].agg(['cumsum']).values\n",
    "part5_count_array = part5_count_array[train_index] \n",
    "train_df.drop(columns=['part_count_lag', 'part_count'], inplace=True)\n",
    "\n",
    "train_df[\"part_count\"] = train_df[\"part\"] ==6\n",
    "train_df[\"part_count\"] = train_df[\"part_count\"].astype(\"int8\")\n",
    "train_df['part_count_lag'] = train_df.groupby('user_id')[\"part_count\"].shift()\n",
    "part6_count_array = train_df.groupby('user_id')['part_count_lag'].agg(['cumsum']).values\n",
    "part6_count_array = part6_count_array[train_index] \n",
    "train_df.drop(columns=['part_count_lag', 'part_count'], inplace=True)\n",
    "\n",
    "train_df[\"part_count\"] = train_df[\"part\"] ==7\n",
    "train_df[\"part_count\"] = train_df[\"part_count\"].astype(\"int8\")\n",
    "train_df['part_count_lag'] = train_df.groupby('user_id')[\"part_count\"].shift()\n",
    "part7_count_array = train_df.groupby('user_id')['part_count_lag'].agg(['cumsum']).values\n",
    "part7_count_array = part7_count_array[train_index] \n",
    "train_df.drop(columns=['part_count_lag', 'part_count'], inplace=True)"
   ]
  },
  {
   "cell_type": "code",
   "execution_count": 10,
   "metadata": {
    "execution": {
     "iopub.execute_input": "2020-12-05T01:29:09.026874Z",
     "iopub.status.busy": "2020-12-05T01:29:09.025995Z",
     "iopub.status.idle": "2020-12-05T01:29:57.701261Z",
     "shell.execute_reply": "2020-12-05T01:29:57.700344Z"
    },
    "papermill": {
     "duration": 48.715784,
     "end_time": "2020-12-05T01:29:57.701484",
     "exception": false,
     "start_time": "2020-12-05T01:29:08.985700",
     "status": "completed"
    },
    "tags": []
   },
   "outputs": [],
   "source": [
    "#train_df[\"part_first_attempt\"] = train_df[[\"row_id\", \"user_id\", \"part\"]].groupby(\"user_id\").progress_apply(lambda x: \n",
    "#                               pd.DataFrame(np.isin(x[\"row_id\"].values, x.drop_duplicates(\"part\")[\"row_id\"].values))).values\n",
    "#train_df.drop(\"row_id\", axis=1, inplace=True)\n",
    "\n",
    "first_attempt_df = pd.read_csv(\"../input/riiid-additional-data/content_first_attempt.csv\")\n",
    "first_attempt_array = first_attempt_df.first_attempt.values\n",
    "train_df[\"first_attempt\"] = first_attempt_array\n",
    "unique_attempt_array= train_df.groupby(\"user_id\")[\"first_attempt\"].cumsum().values\n",
    "train_df[\"unique_attempt\"] = unique_attempt_array\n",
    "user_unique_agg = train_df.groupby('user_id')[\"unique_attempt\"].agg(['max'])\n",
    "user_unique_dict = user_unique_agg['max'].astype('int32').to_dict(defaultdict(int))\n",
    "\n",
    "first_attempt_array = first_attempt_array[train_index]\n",
    "unique_attempt_array = unique_attempt_array[train_index]\n",
    "train_df.drop(['first_attempt', 'unique_attempt'], axis=1, inplace=True)\n",
    "del first_attempt_df, user_unique_agg"
   ]
  },
  {
   "cell_type": "code",
   "execution_count": 11,
   "metadata": {
    "execution": {
     "iopub.execute_input": "2020-12-05T01:29:57.767076Z",
     "iopub.status.busy": "2020-12-05T01:29:57.765921Z",
     "iopub.status.idle": "2020-12-05T01:30:14.880887Z",
     "shell.execute_reply": "2020-12-05T01:30:14.881532Z"
    },
    "papermill": {
     "duration": 17.154096,
     "end_time": "2020-12-05T01:30:14.881703",
     "exception": false,
     "start_time": "2020-12-05T01:29:57.727607",
     "status": "completed"
    },
    "tags": []
   },
   "outputs": [],
   "source": [
    "user_agg = train_df.groupby('user_id')[target].agg(['sum', 'count'])\n",
    "content_agg = train_df.groupby('content_id')[target].agg(['sum', 'count'])\n",
    "\n",
    "user_sum_dict = user_agg['sum'].astype('int16').to_dict(defaultdict(int))\n",
    "user_count_dict = user_agg['count'].astype('int16').to_dict(defaultdict(int))\n",
    "content_sum_dict = content_agg['sum'].astype('int32').to_dict(defaultdict(int))\n",
    "content_count_dict = content_agg['count'].astype('int32').to_dict(defaultdict(int))\n",
    "\n",
    "content_count_array = train_df['content_id'].map(content_agg['count']).astype('int32').values\n",
    "content_id_array = train_df['content_id'].map(content_agg['sum'] / content_agg['count']).values\n",
    "content_count_array = content_count_array[train_index]\n",
    "content_id_array = content_id_array[train_index]\n",
    "\n",
    "del user_agg, content_agg"
   ]
  },
  {
   "cell_type": "code",
   "execution_count": 12,
   "metadata": {
    "execution": {
     "iopub.execute_input": "2020-12-05T01:30:14.940162Z",
     "iopub.status.busy": "2020-12-05T01:30:14.939321Z",
     "iopub.status.idle": "2020-12-05T01:32:45.190574Z",
     "shell.execute_reply": "2020-12-05T01:32:45.191501Z"
    },
    "papermill": {
     "duration": 150.285433,
     "end_time": "2020-12-05T01:32:45.191885",
     "exception": false,
     "start_time": "2020-12-05T01:30:14.906452",
     "status": "completed"
    },
    "tags": []
   },
   "outputs": [
    {
     "name": "stdout",
     "output_type": "stream",
     "text": [
      "CPU times: user 2min 27s, sys: 3.17 s, total: 2min 30s\n",
      "Wall time: 2min 30s\n"
     ]
    }
   ],
   "source": [
    "%%time\n",
    "user_content_agg = train_df.groupby(\"user_id\")[\"content_id\"].unique().reset_index().set_index(\"user_id\")\n",
    "\n",
    "value = []\n",
    "for j in user_content_agg.index:\n",
    "    a = bitarray(32737, endian='little')\n",
    "    a.setall(True)\n",
    "    for i in user_content_agg.loc[j][0]:\n",
    "        a[i] = 0\n",
    "    value.append(a)\n",
    "    \n",
    "user_content_agg[\"content_exp\"] = value\n",
    "\n",
    "user_content_dict = user_content_agg[\"content_exp\"].to_dict(defaultdict(make_bitarray))\n",
    "del user_content_agg"
   ]
  },
  {
   "cell_type": "code",
   "execution_count": 13,
   "metadata": {
    "execution": {
     "iopub.execute_input": "2020-12-05T01:32:45.251108Z",
     "iopub.status.busy": "2020-12-05T01:32:45.249951Z",
     "iopub.status.idle": "2020-12-05T01:32:53.135280Z",
     "shell.execute_reply": "2020-12-05T01:32:53.134539Z"
    },
    "papermill": {
     "duration": 7.917581,
     "end_time": "2020-12-05T01:32:53.135423",
     "exception": false,
     "start_time": "2020-12-05T01:32:45.217842",
     "status": "completed"
    },
    "tags": []
   },
   "outputs": [],
   "source": [
    "train_df[\"count\"] = 1\n",
    "count_array = train_df.groupby(\"user_id\")[\"count\"].cumsum().values\n",
    "count_array = count_array[train_index]\n",
    "train_df.drop(\"count\", axis=1, inplace=True)"
   ]
  },
  {
   "cell_type": "code",
   "execution_count": 14,
   "metadata": {
    "execution": {
     "iopub.execute_input": "2020-12-05T01:32:53.194263Z",
     "iopub.status.busy": "2020-12-05T01:32:53.193437Z",
     "iopub.status.idle": "2020-12-05T01:33:06.863614Z",
     "shell.execute_reply": "2020-12-05T01:33:06.862327Z"
    },
    "papermill": {
     "duration": 13.702818,
     "end_time": "2020-12-05T01:33:06.863796",
     "exception": false,
     "start_time": "2020-12-05T01:32:53.160978",
     "status": "completed"
    },
    "tags": []
   },
   "outputs": [],
   "source": [
    "train_df[\"count_inday\"] = 1\n",
    "count_inday_array = train_df.groupby([\"user_id\",\"timestamp\"])[\"count_inday\"].cumsum().values\n",
    "count_inday_array = count_inday_array[train_index]\n",
    "train_df.drop(\"count_inday\", axis=1, inplace=True)"
   ]
  },
  {
   "cell_type": "code",
   "execution_count": 15,
   "metadata": {
    "execution": {
     "iopub.execute_input": "2020-12-05T01:33:06.939110Z",
     "iopub.status.busy": "2020-12-05T01:33:06.937580Z",
     "iopub.status.idle": "2020-12-05T01:33:13.916328Z",
     "shell.execute_reply": "2020-12-05T01:33:13.915653Z"
    },
    "papermill": {
     "duration": 7.015485,
     "end_time": "2020-12-05T01:33:13.916479",
     "exception": false,
     "start_time": "2020-12-05T01:33:06.900994",
     "status": "completed"
    },
    "tags": []
   },
   "outputs": [],
   "source": [
    "train_df = train_df.groupby('user_id').tail(train_size).reset_index(drop=True)"
   ]
  },
  {
   "cell_type": "code",
   "execution_count": 16,
   "metadata": {
    "execution": {
     "iopub.execute_input": "2020-12-05T01:33:14.000629Z",
     "iopub.status.busy": "2020-12-05T01:33:13.995518Z",
     "iopub.status.idle": "2020-12-05T01:33:21.440066Z",
     "shell.execute_reply": "2020-12-05T01:33:21.439454Z"
    },
    "papermill": {
     "duration": 7.496801,
     "end_time": "2020-12-05T01:33:21.440198",
     "exception": false,
     "start_time": "2020-12-05T01:33:13.943397",
     "status": "completed"
    },
    "tags": []
   },
   "outputs": [],
   "source": [
    "train_df['content_count'] = content_count_array\n",
    "train_df['content_id'] = content_id_array\n",
    "train_df['user_correctness'] = user_correctness_array\n",
    "train_df['first_attempt'] = first_attempt_array\n",
    "train_df['count'] = count_array\n",
    "train_df['count_inday'] = count_inday_array\n",
    "train_df['unique_attempt'] = unique_attempt_array\n",
    "train_df['part1_count'] = part1_count_array\n",
    "train_df['part2_count'] = part2_count_array\n",
    "train_df['part3_count'] = part3_count_array\n",
    "train_df['part4_count'] = part4_count_array\n",
    "train_df['part5_count'] = part5_count_array\n",
    "train_df['part6_count'] = part6_count_array\n",
    "train_df['part7_count'] = part7_count_array\n",
    "#train_df['part_count_std'] = np.std(train_df[[\"part1_count\", \"part2_count\", \"part3_count\", \"part4_count\", \"part5_count\", \"part6_count\", \"part7_count\"]], axis=1)\n",
    "    \n",
    "part1_count_agg = train_df.groupby('user_id')[\"part1_count\"].agg(['max'])\n",
    "part2_count_agg = train_df.groupby('user_id')[\"part2_count\"].agg(['max'])\n",
    "part3_count_agg = train_df.groupby('user_id')[\"part3_count\"].agg(['max'])\n",
    "part4_count_agg = train_df.groupby('user_id')[\"part4_count\"].agg(['max'])\n",
    "part5_count_agg = train_df.groupby('user_id')[\"part5_count\"].agg(['max'])\n",
    "part6_count_agg = train_df.groupby('user_id')[\"part6_count\"].agg(['max'])\n",
    "part7_count_agg = train_df.groupby('user_id')[\"part7_count\"].agg(['max'])\n",
    "part1_count_agg['max'].fillna(0,inplace=True)\n",
    "part2_count_agg['max'].fillna(0,inplace=True)\n",
    "part3_count_agg['max'].fillna(0,inplace=True)\n",
    "part4_count_agg['max'].fillna(0,inplace=True)\n",
    "part5_count_agg['max'].fillna(0,inplace=True)\n",
    "part6_count_agg['max'].fillna(0,inplace=True)\n",
    "part7_count_agg['max'].fillna(0,inplace=True)\n",
    "part1_count_dict = part1_count_agg['max'].astype('int32').to_dict(defaultdict(int))\n",
    "part2_count_dict = part2_count_agg['max'].astype('int32').to_dict(defaultdict(int))\n",
    "part3_count_dict = part3_count_agg['max'].astype('int32').to_dict(defaultdict(int))\n",
    "part4_count_dict = part4_count_agg['max'].astype('int32').to_dict(defaultdict(int))\n",
    "part5_count_dict = part5_count_agg['max'].astype('int32').to_dict(defaultdict(int))\n",
    "part6_count_dict = part6_count_agg['max'].astype('int32').to_dict(defaultdict(int))\n",
    "part7_count_dict = part7_count_agg['max'].astype('int32').to_dict(defaultdict(int))\n",
    "\n",
    "user_timestamp_dict = train_df.groupby(\"user_id\").tail(1)[\"timestamp\"].to_dict(defaultdict(int))\n",
    "user_count_inday_dict = train_df.groupby(\"user_id\").tail(1)[\"count_inday\"].to_dict(defaultdict(int))"
   ]
  },
  {
   "cell_type": "code",
   "execution_count": 17,
   "metadata": {
    "execution": {
     "iopub.execute_input": "2020-12-05T01:33:21.503073Z",
     "iopub.status.busy": "2020-12-05T01:33:21.497952Z",
     "iopub.status.idle": "2020-12-05T01:33:21.528292Z",
     "shell.execute_reply": "2020-12-05T01:33:21.528897Z"
    },
    "papermill": {
     "duration": 0.0629,
     "end_time": "2020-12-05T01:33:21.529055",
     "exception": false,
     "start_time": "2020-12-05T01:33:21.466155",
     "status": "completed"
    },
    "tags": []
   },
   "outputs": [
    {
     "data": {
      "text/html": [
       "<div>\n",
       "<style scoped>\n",
       "    .dataframe tbody tr th:only-of-type {\n",
       "        vertical-align: middle;\n",
       "    }\n",
       "\n",
       "    .dataframe tbody tr th {\n",
       "        vertical-align: top;\n",
       "    }\n",
       "\n",
       "    .dataframe thead th {\n",
       "        text-align: right;\n",
       "    }\n",
       "</style>\n",
       "<table border=\"1\" class=\"dataframe\">\n",
       "  <thead>\n",
       "    <tr style=\"text-align: right;\">\n",
       "      <th></th>\n",
       "      <th>timestamp</th>\n",
       "      <th>user_id</th>\n",
       "      <th>content_id</th>\n",
       "      <th>answered_correctly</th>\n",
       "      <th>prior_question_elapsed_time</th>\n",
       "      <th>prior_question_had_explanation</th>\n",
       "      <th>part</th>\n",
       "      <th>content_count</th>\n",
       "      <th>user_correctness</th>\n",
       "      <th>first_attempt</th>\n",
       "      <th>count</th>\n",
       "      <th>count_inday</th>\n",
       "      <th>unique_attempt</th>\n",
       "      <th>part1_count</th>\n",
       "      <th>part2_count</th>\n",
       "      <th>part3_count</th>\n",
       "      <th>part4_count</th>\n",
       "      <th>part5_count</th>\n",
       "      <th>part6_count</th>\n",
       "      <th>part7_count</th>\n",
       "    </tr>\n",
       "  </thead>\n",
       "  <tbody>\n",
       "    <tr>\n",
       "      <th>0</th>\n",
       "      <td>1</td>\n",
       "      <td>115</td>\n",
       "      <td>0.687217</td>\n",
       "      <td>0</td>\n",
       "      <td>19000.0</td>\n",
       "      <td>False</td>\n",
       "      <td>1</td>\n",
       "      <td>36674</td>\n",
       "      <td>0.727273</td>\n",
       "      <td>True</td>\n",
       "      <td>23</td>\n",
       "      <td>23</td>\n",
       "      <td>23</td>\n",
       "      <td>20.0</td>\n",
       "      <td>0.0</td>\n",
       "      <td>0.0</td>\n",
       "      <td>0.0</td>\n",
       "      <td>2.0</td>\n",
       "      <td>0.0</td>\n",
       "      <td>0.0</td>\n",
       "    </tr>\n",
       "    <tr>\n",
       "      <th>1</th>\n",
       "      <td>1</td>\n",
       "      <td>115</td>\n",
       "      <td>0.608222</td>\n",
       "      <td>0</td>\n",
       "      <td>21000.0</td>\n",
       "      <td>False</td>\n",
       "      <td>1</td>\n",
       "      <td>47047</td>\n",
       "      <td>0.695652</td>\n",
       "      <td>True</td>\n",
       "      <td>24</td>\n",
       "      <td>24</td>\n",
       "      <td>24</td>\n",
       "      <td>21.0</td>\n",
       "      <td>0.0</td>\n",
       "      <td>0.0</td>\n",
       "      <td>0.0</td>\n",
       "      <td>2.0</td>\n",
       "      <td>0.0</td>\n",
       "      <td>0.0</td>\n",
       "    </tr>\n",
       "    <tr>\n",
       "      <th>2</th>\n",
       "      <td>1</td>\n",
       "      <td>115</td>\n",
       "      <td>0.601824</td>\n",
       "      <td>1</td>\n",
       "      <td>22000.0</td>\n",
       "      <td>False</td>\n",
       "      <td>1</td>\n",
       "      <td>40452</td>\n",
       "      <td>0.666667</td>\n",
       "      <td>True</td>\n",
       "      <td>25</td>\n",
       "      <td>25</td>\n",
       "      <td>25</td>\n",
       "      <td>22.0</td>\n",
       "      <td>0.0</td>\n",
       "      <td>0.0</td>\n",
       "      <td>0.0</td>\n",
       "      <td>2.0</td>\n",
       "      <td>0.0</td>\n",
       "      <td>0.0</td>\n",
       "    </tr>\n",
       "    <tr>\n",
       "      <th>3</th>\n",
       "      <td>1</td>\n",
       "      <td>115</td>\n",
       "      <td>0.418436</td>\n",
       "      <td>1</td>\n",
       "      <td>16000.0</td>\n",
       "      <td>False</td>\n",
       "      <td>1</td>\n",
       "      <td>190170</td>\n",
       "      <td>0.680000</td>\n",
       "      <td>True</td>\n",
       "      <td>26</td>\n",
       "      <td>26</td>\n",
       "      <td>26</td>\n",
       "      <td>23.0</td>\n",
       "      <td>0.0</td>\n",
       "      <td>0.0</td>\n",
       "      <td>0.0</td>\n",
       "      <td>2.0</td>\n",
       "      <td>0.0</td>\n",
       "      <td>0.0</td>\n",
       "    </tr>\n",
       "    <tr>\n",
       "      <th>4</th>\n",
       "      <td>1</td>\n",
       "      <td>115</td>\n",
       "      <td>0.474545</td>\n",
       "      <td>1</td>\n",
       "      <td>20000.0</td>\n",
       "      <td>False</td>\n",
       "      <td>1</td>\n",
       "      <td>56707</td>\n",
       "      <td>0.692308</td>\n",
       "      <td>True</td>\n",
       "      <td>27</td>\n",
       "      <td>27</td>\n",
       "      <td>27</td>\n",
       "      <td>24.0</td>\n",
       "      <td>0.0</td>\n",
       "      <td>0.0</td>\n",
       "      <td>0.0</td>\n",
       "      <td>2.0</td>\n",
       "      <td>0.0</td>\n",
       "      <td>0.0</td>\n",
       "    </tr>\n",
       "  </tbody>\n",
       "</table>\n",
       "</div>"
      ],
      "text/plain": [
       "   timestamp  user_id  content_id  answered_correctly  \\\n",
       "0          1      115    0.687217                   0   \n",
       "1          1      115    0.608222                   0   \n",
       "2          1      115    0.601824                   1   \n",
       "3          1      115    0.418436                   1   \n",
       "4          1      115    0.474545                   1   \n",
       "\n",
       "   prior_question_elapsed_time  prior_question_had_explanation  part  \\\n",
       "0                      19000.0                           False     1   \n",
       "1                      21000.0                           False     1   \n",
       "2                      22000.0                           False     1   \n",
       "3                      16000.0                           False     1   \n",
       "4                      20000.0                           False     1   \n",
       "\n",
       "   content_count  user_correctness  first_attempt  count  count_inday  \\\n",
       "0          36674          0.727273           True     23           23   \n",
       "1          47047          0.695652           True     24           24   \n",
       "2          40452          0.666667           True     25           25   \n",
       "3         190170          0.680000           True     26           26   \n",
       "4          56707          0.692308           True     27           27   \n",
       "\n",
       "   unique_attempt  part1_count  part2_count  part3_count  part4_count  \\\n",
       "0              23         20.0          0.0          0.0          0.0   \n",
       "1              24         21.0          0.0          0.0          0.0   \n",
       "2              25         22.0          0.0          0.0          0.0   \n",
       "3              26         23.0          0.0          0.0          0.0   \n",
       "4              27         24.0          0.0          0.0          0.0   \n",
       "\n",
       "   part5_count  part6_count  part7_count  \n",
       "0          2.0          0.0          0.0  \n",
       "1          2.0          0.0          0.0  \n",
       "2          2.0          0.0          0.0  \n",
       "3          2.0          0.0          0.0  \n",
       "4          2.0          0.0          0.0  "
      ]
     },
     "execution_count": 17,
     "metadata": {},
     "output_type": "execute_result"
    }
   ],
   "source": [
    "train_df.head()"
   ]
  },
  {
   "cell_type": "code",
   "execution_count": 18,
   "metadata": {
    "execution": {
     "iopub.execute_input": "2020-12-05T01:33:21.589717Z",
     "iopub.status.busy": "2020-12-05T01:33:21.588886Z",
     "iopub.status.idle": "2020-12-05T01:33:24.266853Z",
     "shell.execute_reply": "2020-12-05T01:33:24.266198Z"
    },
    "papermill": {
     "duration": 2.710853,
     "end_time": "2020-12-05T01:33:24.266997",
     "exception": false,
     "start_time": "2020-12-05T01:33:21.556144",
     "status": "completed"
    },
    "tags": []
   },
   "outputs": [],
   "source": [
    "if FULL_TRAIN == False:\n",
    "    valid_df = train_df.groupby('user_id').tail(valid_size)\n",
    "    train_df.drop(valid_df.index, inplace=True)"
   ]
  },
  {
   "cell_type": "code",
   "execution_count": 19,
   "metadata": {
    "execution": {
     "iopub.execute_input": "2020-12-05T01:33:24.327353Z",
     "iopub.status.busy": "2020-12-05T01:33:24.326572Z",
     "iopub.status.idle": "2020-12-05T01:33:24.331545Z",
     "shell.execute_reply": "2020-12-05T01:33:24.330769Z"
    },
    "papermill": {
     "duration": 0.037551,
     "end_time": "2020-12-05T01:33:24.331710",
     "exception": false,
     "start_time": "2020-12-05T01:33:24.294159",
     "status": "completed"
    },
    "tags": []
   },
   "outputs": [
    {
     "name": "stdout",
     "output_type": "stream",
     "text": [
      "(6536675, 20) (2360984, 20)\n"
     ]
    }
   ],
   "source": [
    "if FULL_TRAIN:\n",
    "    print(train_df.shape)\n",
    "else:\n",
    "    print(train_df.shape, valid_df.shape)"
   ]
  },
  {
   "cell_type": "markdown",
   "metadata": {
    "papermill": {
     "duration": 0.026999,
     "end_time": "2020-12-05T01:33:24.386686",
     "exception": false,
     "start_time": "2020-12-05T01:33:24.359687",
     "status": "completed"
    },
    "tags": []
   },
   "source": [
    "# Train"
   ]
  },
  {
   "cell_type": "code",
   "execution_count": 20,
   "metadata": {
    "execution": {
     "iopub.execute_input": "2020-12-05T01:33:24.450440Z",
     "iopub.status.busy": "2020-12-05T01:33:24.449638Z",
     "iopub.status.idle": "2020-12-05T01:33:24.452978Z",
     "shell.execute_reply": "2020-12-05T01:33:24.453569Z"
    },
    "papermill": {
     "duration": 0.039686,
     "end_time": "2020-12-05T01:33:24.453733",
     "exception": false,
     "start_time": "2020-12-05T01:33:24.414047",
     "status": "completed"
    },
    "tags": []
   },
   "outputs": [
    {
     "name": "stdout",
     "output_type": "stream",
     "text": [
      "18\n"
     ]
    }
   ],
   "source": [
    "features = [\n",
    "    'content_id',\n",
    "    'prior_question_elapsed_time',\n",
    "    'prior_question_had_explanation',\n",
    "    'user_correctness',\n",
    "    'part',\n",
    "    'content_count',\n",
    "    'count',\n",
    "    'first_attempt',\n",
    "    'timestamp', #?\n",
    "    'count_inday', #?\n",
    "    'unique_attempt', #?\n",
    "    'part1_count',\n",
    "    'part2_count',\n",
    "    'part3_count',\n",
    "    'part4_count',\n",
    "    'part5_count',\n",
    "    'part6_count',\n",
    "    'part7_count',\n",
    "]\n",
    "\n",
    "params = {\n",
    "    'objective': 'binary',\n",
    "    'seed': 42,\n",
    "    'metric': 'auc',\n",
    "    'learning_rate': 0.05,\n",
    "    'max_bin': 800,\n",
    "    'num_leaves': 80\n",
    "}\n",
    "print(len(features))"
   ]
  },
  {
   "cell_type": "code",
   "execution_count": 21,
   "metadata": {
    "execution": {
     "iopub.execute_input": "2020-12-05T01:33:24.785030Z",
     "iopub.status.busy": "2020-12-05T01:33:24.729602Z",
     "iopub.status.idle": "2020-12-05T03:05:58.297240Z",
     "shell.execute_reply": "2020-12-05T03:05:58.296536Z"
    },
    "papermill": {
     "duration": 5553.815533,
     "end_time": "2020-12-05T03:05:58.297376",
     "exception": false,
     "start_time": "2020-12-05T01:33:24.481843",
     "status": "completed"
    },
    "tags": []
   },
   "outputs": [
    {
     "name": "stdout",
     "output_type": "stream",
     "text": [
      "Training until validation scores don't improve for 50 rounds\n",
      "[50]\ttraining's auc: 0.757783\tvalid_1's auc: 0.742658\n",
      "[100]\ttraining's auc: 0.760203\tvalid_1's auc: 0.745807\n",
      "[150]\ttraining's auc: 0.761361\tvalid_1's auc: 0.747055\n",
      "[200]\ttraining's auc: 0.761988\tvalid_1's auc: 0.74754\n",
      "[250]\ttraining's auc: 0.762429\tvalid_1's auc: 0.747781\n",
      "[300]\ttraining's auc: 0.762761\tvalid_1's auc: 0.747893\n",
      "[350]\ttraining's auc: 0.763061\tvalid_1's auc: 0.747981\n",
      "[400]\ttraining's auc: 0.763343\tvalid_1's auc: 0.748056\n",
      "[450]\ttraining's auc: 0.763641\tvalid_1's auc: 0.748149\n",
      "[500]\ttraining's auc: 0.763946\tvalid_1's auc: 0.748244\n",
      "[550]\ttraining's auc: 0.764239\tvalid_1's auc: 0.748342\n",
      "[600]\ttraining's auc: 0.764532\tvalid_1's auc: 0.74844\n",
      "[650]\ttraining's auc: 0.764824\tvalid_1's auc: 0.748531\n",
      "[700]\ttraining's auc: 0.765122\tvalid_1's auc: 0.74861\n",
      "[750]\ttraining's auc: 0.7654\tvalid_1's auc: 0.748668\n",
      "[800]\ttraining's auc: 0.765676\tvalid_1's auc: 0.74874\n",
      "[850]\ttraining's auc: 0.765929\tvalid_1's auc: 0.748785\n",
      "[900]\ttraining's auc: 0.766192\tvalid_1's auc: 0.748854\n",
      "[950]\ttraining's auc: 0.766465\tvalid_1's auc: 0.748927\n",
      "[1000]\ttraining's auc: 0.766706\tvalid_1's auc: 0.74897\n",
      "[1050]\ttraining's auc: 0.766936\tvalid_1's auc: 0.749005\n",
      "[1100]\ttraining's auc: 0.767189\tvalid_1's auc: 0.749053\n",
      "[1150]\ttraining's auc: 0.76743\tvalid_1's auc: 0.74908\n",
      "[1200]\ttraining's auc: 0.767659\tvalid_1's auc: 0.749111\n",
      "[1250]\ttraining's auc: 0.767884\tvalid_1's auc: 0.74913\n",
      "[1300]\ttraining's auc: 0.768101\tvalid_1's auc: 0.749146\n",
      "[1350]\ttraining's auc: 0.768323\tvalid_1's auc: 0.749168\n",
      "[1400]\ttraining's auc: 0.768582\tvalid_1's auc: 0.749201\n",
      "[1450]\ttraining's auc: 0.768812\tvalid_1's auc: 0.749226\n",
      "[1500]\ttraining's auc: 0.769028\tvalid_1's auc: 0.749251\n",
      "[1550]\ttraining's auc: 0.769227\tvalid_1's auc: 0.749266\n",
      "[1600]\ttraining's auc: 0.769455\tvalid_1's auc: 0.749288\n",
      "[1650]\ttraining's auc: 0.769656\tvalid_1's auc: 0.749304\n",
      "[1700]\ttraining's auc: 0.769879\tvalid_1's auc: 0.749324\n",
      "[1750]\ttraining's auc: 0.770095\tvalid_1's auc: 0.749335\n",
      "[1800]\ttraining's auc: 0.770309\tvalid_1's auc: 0.749354\n",
      "[1850]\ttraining's auc: 0.770538\tvalid_1's auc: 0.749374\n",
      "[1900]\ttraining's auc: 0.770763\tvalid_1's auc: 0.749398\n",
      "[1950]\ttraining's auc: 0.770966\tvalid_1's auc: 0.749412\n",
      "[2000]\ttraining's auc: 0.771172\tvalid_1's auc: 0.749418\n",
      "[2050]\ttraining's auc: 0.771387\tvalid_1's auc: 0.749435\n",
      "[2100]\ttraining's auc: 0.771582\tvalid_1's auc: 0.749441\n",
      "[2150]\ttraining's auc: 0.771825\tvalid_1's auc: 0.749465\n",
      "[2200]\ttraining's auc: 0.772035\tvalid_1's auc: 0.749481\n",
      "[2250]\ttraining's auc: 0.772256\tvalid_1's auc: 0.749496\n",
      "[2300]\ttraining's auc: 0.77249\tvalid_1's auc: 0.749521\n",
      "[2350]\ttraining's auc: 0.772709\tvalid_1's auc: 0.749537\n",
      "[2400]\ttraining's auc: 0.772899\tvalid_1's auc: 0.749542\n",
      "[2450]\ttraining's auc: 0.773101\tvalid_1's auc: 0.749551\n",
      "[2500]\ttraining's auc: 0.773301\tvalid_1's auc: 0.749555\n",
      "[2550]\ttraining's auc: 0.7735\tvalid_1's auc: 0.749567\n",
      "[2600]\ttraining's auc: 0.773692\tvalid_1's auc: 0.74957\n",
      "[2650]\ttraining's auc: 0.773899\tvalid_1's auc: 0.74958\n",
      "[2700]\ttraining's auc: 0.774105\tvalid_1's auc: 0.749587\n",
      "[2750]\ttraining's auc: 0.774305\tvalid_1's auc: 0.749592\n",
      "[2800]\ttraining's auc: 0.774488\tvalid_1's auc: 0.749592\n",
      "[2850]\ttraining's auc: 0.774674\tvalid_1's auc: 0.7496\n",
      "[2900]\ttraining's auc: 0.774858\tvalid_1's auc: 0.749606\n",
      "[2950]\ttraining's auc: 0.775031\tvalid_1's auc: 0.749609\n",
      "[3000]\ttraining's auc: 0.775226\tvalid_1's auc: 0.749611\n",
      "[3050]\ttraining's auc: 0.775434\tvalid_1's auc: 0.74962\n",
      "[3100]\ttraining's auc: 0.77566\tvalid_1's auc: 0.749638\n",
      "[3150]\ttraining's auc: 0.775843\tvalid_1's auc: 0.749644\n",
      "[3200]\ttraining's auc: 0.776014\tvalid_1's auc: 0.749637\n",
      "Early stopping, best iteration is:\n",
      "[3151]\ttraining's auc: 0.775846\tvalid_1's auc: 0.749644\n"
     ]
    },
    {
     "data": {
      "image/png": "[encoded data removed]",
      "text/plain": [
       "<Figure size 432x288 with 1 Axes>"
      ]
     },
     "metadata": {
      "needs_background": "light"
     },
     "output_type": "display_data"
    }
   ],
   "source": [
    "tr_data = lgb.Dataset(train_df[features], label=train_df[target])\n",
    "\n",
    "if FULL_TRAIN:\n",
    "    model = lgb.train(\n",
    "        params, \n",
    "        tr_data, \n",
    "        num_boost_round=4000,\n",
    "        valid_sets=None, \n",
    "        )\n",
    "else:\n",
    "    va_data = lgb.Dataset(valid_df[features], label=valid_df[target])\n",
    "\n",
    "    model = lgb.train(\n",
    "        params, \n",
    "        tr_data, \n",
    "        num_boost_round=10000,\n",
    "        valid_sets=[tr_data, va_data], \n",
    "        early_stopping_rounds=50,\n",
    "        verbose_eval=50\n",
    "        )\n",
    "\n",
    "    lgb.plot_importance(model, importance_type='gain')\n",
    "    plt.show()"
   ]
  },
  {
   "cell_type": "markdown",
   "metadata": {
    "papermill": {
     "duration": 0.056233,
     "end_time": "2020-12-05T03:05:58.413703",
     "exception": false,
     "start_time": "2020-12-05T03:05:58.357470",
     "status": "completed"
    },
    "tags": []
   },
   "source": [
    "# Inference"
   ]
  },
  {
   "cell_type": "code",
   "execution_count": 22,
   "metadata": {
    "execution": {
     "iopub.execute_input": "2020-12-05T03:05:58.536312Z",
     "iopub.status.busy": "2020-12-05T03:05:58.535377Z",
     "iopub.status.idle": "2020-12-05T03:05:58.539096Z",
     "shell.execute_reply": "2020-12-05T03:05:58.538457Z"
    },
    "papermill": {
     "duration": 0.0693,
     "end_time": "2020-12-05T03:05:58.539246",
     "exception": false,
     "start_time": "2020-12-05T03:05:58.469946",
     "status": "completed"
    },
    "tags": []
   },
   "outputs": [],
   "source": [
    "env = riiideducation.make_env()\n",
    "iter_test = env.iter_test()\n",
    "prior_test_df = None"
   ]
  },
  {
   "cell_type": "code",
   "execution_count": 23,
   "metadata": {
    "execution": {
     "iopub.execute_input": "2020-12-05T03:05:58.686492Z",
     "iopub.status.busy": "2020-12-05T03:05:58.685237Z",
     "iopub.status.idle": "2020-12-05T03:05:59.674864Z",
     "shell.execute_reply": "2020-12-05T03:05:59.675712Z"
    },
    "papermill": {
     "duration": 1.07188,
     "end_time": "2020-12-05T03:05:59.675894",
     "exception": false,
     "start_time": "2020-12-05T03:05:58.604014",
     "status": "completed"
    },
    "tags": []
   },
   "outputs": [
    {
     "name": "stdout",
     "output_type": "stream",
     "text": [
      "CPU times: user 1.16 s, sys: 95.8 ms, total: 1.25 s\n",
      "Wall time: 968 ms\n"
     ]
    }
   ],
   "source": [
    "%%time\n",
    "\n",
    "for (test_df, sample_prediction_df) in iter_test:\n",
    "    if prior_test_df is not None:\n",
    "        prior_test_df[target] = eval(test_df['prior_group_answers_correct'].iloc[0])\n",
    "        prior_test_df = prior_test_df[prior_test_df[target] != -1].reset_index(drop=True)\n",
    "        \n",
    "        user_ids = prior_test_df['user_id'].values\n",
    "        content_ids = prior_test_df['content_id'].values\n",
    "        targets = prior_test_df[target].values\n",
    "        parts = prior_part_arrays\n",
    "        prior_first_attempts = prior_f_attempt_arrays\n",
    "        \n",
    "        for user_id, content_id, answered_correctly, part, first_attempt_ornot in zip(user_ids, content_ids, targets, parts, prior_first_attempts):\n",
    "            user_sum_dict[user_id] += answered_correctly\n",
    "            user_count_dict[user_id] += 1\n",
    "            content_sum_dict[content_id] += answered_correctly\n",
    "            content_count_dict[content_id] += 1\n",
    "            if part == 1:\n",
    "                part1_count_dict[user_id] +=1\n",
    "            elif part == 2:\n",
    "                part2_count_dict[user_id] +=1\n",
    "            elif part == 3:\n",
    "                part3_count_dict[user_id] +=1\n",
    "            elif part == 4:\n",
    "                part4_count_dict[user_id] +=1\n",
    "            elif part == 5:\n",
    "                part5_count_dict[user_id] +=1\n",
    "            elif part == 6:\n",
    "                part6_count_dict[user_id] +=1\n",
    "            else:\n",
    "                part7_count_dict[user_id] +=1\n",
    "            user_unique_dict[user_id] += first_attempt_ornot\n",
    "\n",
    "    prior_test_df = test_df.copy()\n",
    "    \n",
    "    test_df = test_df[test_df['content_type_id'] == 0].reset_index(drop=True)\n",
    "    test_df = pd.merge(test_df, questions_df, left_on='content_id', right_on='question_id', how='left', right_index=True).reset_index(drop=True)\n",
    "    test_df['prior_question_had_explanation'] = test_df['prior_question_had_explanation'].fillna(False).astype('bool')    \n",
    "    test_df['timestamp'] = (test_df['timestamp'] // 86400000) + 1\n",
    "    \n",
    "    prior_part_arrays = test_df['part'].values\n",
    "    \n",
    "    user_sum = np.zeros(len(test_df), dtype=np.int16)\n",
    "    user_count = np.zeros(len(test_df), dtype=np.int16)\n",
    "    content_sum = np.zeros(len(test_df), dtype=np.int32)\n",
    "    content_count = np.zeros(len(test_df), dtype=np.int32)\n",
    "    part1_count = np.zeros(len(test_df), dtype=np.int32)\n",
    "    part2_count = np.zeros(len(test_df), dtype=np.int32)\n",
    "    part3_count = np.zeros(len(test_df), dtype=np.int32)\n",
    "    part4_count = np.zeros(len(test_df), dtype=np.int32)\n",
    "    part5_count = np.zeros(len(test_df), dtype=np.int32)\n",
    "    part6_count = np.zeros(len(test_df), dtype=np.int32)\n",
    "    part7_count = np.zeros(len(test_df), dtype=np.int32)\n",
    "    user_count_inday = np.zeros(len(test_df), dtype=np.int32)\n",
    "    first_attempt_values = []\n",
    "    user_unique_count = np.zeros(len(test_df), dtype=np.int32)\n",
    "    \n",
    "    for i, (user_id, content_id, timestamp) in enumerate(zip(test_df['user_id'].values, test_df['content_id'].values, test_df['timestamp'].values)):\n",
    "        user_sum[i] = user_sum_dict[user_id]\n",
    "        user_count[i] = user_count_dict[user_id]\n",
    "        content_sum[i] = content_sum_dict[content_id]\n",
    "        content_count[i] = content_count_dict[content_id]\n",
    "        part1_count[i] = part1_count_dict[user_id]\n",
    "        part2_count[i] = part2_count_dict[user_id]\n",
    "        part3_count[i] = part3_count_dict[user_id]\n",
    "        part4_count[i] = part4_count_dict[user_id]\n",
    "        part5_count[i] = part5_count_dict[user_id]\n",
    "        part6_count[i] = part6_count_dict[user_id]\n",
    "        part7_count[i] = part7_count_dict[user_id]\n",
    "        first_attempt_values.append(user_content_dict[user_id][content_id])\n",
    "        user_content_dict[user_id][content_id] = False \n",
    "        if user_timestamp_dict[user_id] == timestamp:\n",
    "            user_count_inday_dict[user_id] += 1\n",
    "        else:\n",
    "            user_count_inday_dict[user_id] = 1\n",
    "            user_timestamp_dict[user_id] = timestamp\n",
    "        user_count_inday[i] = user_count_inday_dict[user_id]\n",
    "        user_unique_count[i] = user_unique_dict[user_id]\n",
    "            \n",
    "    test_df['user_correctness'] = user_sum / user_count\n",
    "    test_df['content_count'] = content_count\n",
    "    test_df['content_id'] = content_sum / content_count\n",
    "    test_df['count'] = 1\n",
    "    test_df['count'] = test_df.groupby(\"user_id\")[\"count\"].cumsum()\n",
    "    test_df['count'] += user_count\n",
    "    test_df['part1_count'] = part1_count\n",
    "    test_df['part2_count'] = part2_count\n",
    "    test_df['part3_count'] = part3_count\n",
    "    test_df['part4_count'] = part4_count\n",
    "    test_df['part5_count'] = part5_count\n",
    "    test_df['part6_count'] = part6_count\n",
    "    test_df['part7_count'] = part7_count\n",
    "    test_df[\"first_attempt\"] = first_attempt_values\n",
    "    test_df['count_inday'] = user_count_inday\n",
    "    test_df[\"unique_attempt\"] = test_df.groupby(\"user_id\")[\"first_attempt\"].cumsum()\n",
    "    test_df[\"unique_attempt\"] += user_unique_count\n",
    "    #test_df['part_count_std'] = np.std(test_df[[\"part1_count\", \"part2_count\", \"part3_count\", \"part4_count\", \"part5_count\", \"part6_count\", \"part7_count\"]], axis=1)\n",
    "\n",
    "    prior_f_attempt_arrays = test_df['first_attempt'].values\n",
    "     \n",
    "    test_df[target] = model.predict(test_df[features])\n",
    "    env.predict(test_df[['row_id', target]])"
   ]
  },
  {
   "cell_type": "code",
   "execution_count": null,
   "metadata": {
    "papermill": {
     "duration": 0.061373,
     "end_time": "2020-12-05T03:05:59.796623",
     "exception": false,
     "start_time": "2020-12-05T03:05:59.735250",
     "status": "completed"
    },
    "tags": []
   },
   "outputs": [],
   "source": []
  }
 ],
 "metadata": {
  "kernelspec": {
   "display_name": "Python 3",
   "language": "python",
   "name": "python3"
  },
  "language_info": {
   "codemirror_mode": {
    "name": "ipython",
    "version": 3
   },
   "file_extension": ".py",
   "mimetype": "text/x-python",
   "name": "python",
   "nbconvert_exporter": "python",
   "pygments_lexer": "ipython3",
   "version": "3.7.6"
  },
  "papermill": {
   "duration": 6298.299474,
   "end_time": "2020-12-05T03:06:00.937156",
   "environment_variables": {},
   "exception": null,
   "input_path": "__notebook__.ipynb",
   "output_path": "__notebook__.ipynb",
   "parameters": {},
   "start_time": "2020-12-05T01:21:02.637682",
   "version": "2.1.0"
  }
 },
 "nbformat": 4,
 "nbformat_minor": 4
}
