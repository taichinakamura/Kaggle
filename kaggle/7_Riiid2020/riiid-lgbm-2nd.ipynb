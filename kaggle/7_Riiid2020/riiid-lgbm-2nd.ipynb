{
 "cells": [
  {
   "cell_type": "markdown",
   "metadata": {
    "papermill": {
     "duration": 0.018795,
     "end_time": "2020-12-20T01:07:24.322405",
     "exception": false,
     "start_time": "2020-12-20T01:07:24.303610",
     "status": "completed"
    },
    "tags": []
   },
   "source": [
    "- cut unique attempt"
   ]
  },
  {
   "cell_type": "code",
   "execution_count": 1,
   "metadata": {
    "_cell_guid": "b1076dfc-b9ad-4769-8c92-a6c4dae69d19",
    "_uuid": "8f2839f25d086af736a60e9eeb907d3b93b6e0e5",
    "execution": {
     "iopub.execute_input": "2020-12-20T01:07:24.361588Z",
     "iopub.status.busy": "2020-12-20T01:07:24.360632Z",
     "iopub.status.idle": "2020-12-20T01:07:52.928296Z",
     "shell.execute_reply": "2020-12-20T01:07:52.927648Z"
    },
    "papermill": {
     "duration": 28.588244,
     "end_time": "2020-12-20T01:07:52.928402",
     "exception": false,
     "start_time": "2020-12-20T01:07:24.340158",
     "status": "completed"
    },
    "tags": []
   },
   "outputs": [],
   "source": [
    "!pip install ../input/python-datatable/datatable-0.11.0-cp37-cp37m-manylinux2010_x86_64.whl > /dev/null 2>&1"
   ]
  },
  {
   "cell_type": "code",
   "execution_count": 2,
   "metadata": {
    "_cell_guid": "79c7e3d0-c299-4dcb-8224-4455121ee9b0",
    "_uuid": "d629ff2d2480ee46fbb7e2d37f6b5fab8052498a",
    "execution": {
     "iopub.execute_input": "2020-12-20T01:07:52.972074Z",
     "iopub.status.busy": "2020-12-20T01:07:52.971152Z",
     "iopub.status.idle": "2020-12-20T01:07:54.860266Z",
     "shell.execute_reply": "2020-12-20T01:07:54.860715Z"
    },
    "papermill": {
     "duration": 1.91472,
     "end_time": "2020-12-20T01:07:54.860859",
     "exception": false,
     "start_time": "2020-12-20T01:07:52.946139",
     "status": "completed"
    },
    "tags": []
   },
   "outputs": [
    {
     "data": {
      "text/html": [
       "<style type='text/css'>\n",
       ".datatable table.frame { margin-bottom: 0; }\n",
       ".datatable table.frame thead { border-bottom: none; }\n",
       ".datatable table.frame tr.coltypes td {  color: #FFFFFF;  line-height: 6px;  padding: 0 0.5em;}\n",
       ".datatable .bool    { background: #DDDD99; }\n",
       ".datatable .object  { background: #565656; }\n",
       ".datatable .int     { background: #5D9E5D; }\n",
       ".datatable .float   { background: #4040CC; }\n",
       ".datatable .str     { background: #CC4040; }\n",
       ".datatable .row_index {  background: var(--jp-border-color3);  border-right: 1px solid var(--jp-border-color0);  color: var(--jp-ui-font-color3);  font-size: 9px;}\n",
       ".datatable .frame tr.coltypes .row_index {  background: var(--jp-border-color0);}\n",
       ".datatable th:nth-child(2) { padding-left: 12px; }\n",
       ".datatable .hellipsis {  color: var(--jp-cell-editor-border-color);}\n",
       ".datatable .vellipsis {  background: var(--jp-layout-color0);  color: var(--jp-cell-editor-border-color);}\n",
       ".datatable .na {  color: var(--jp-cell-editor-border-color);  font-size: 80%;}\n",
       ".datatable .footer { font-size: 9px; }\n",
       ".datatable .frame_dimensions {  background: var(--jp-border-color3);  border-top: 1px solid var(--jp-border-color0);  color: var(--jp-ui-font-color3);  display: inline-block;  opacity: 0.6;  padding: 1px 10px 1px 5px;}\n",
       ".datatable .frame thead tr.colnames {  background-image: url('data:image/png;base64,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');  background-repeat: repeat-x;  background-size: 14px;  height: 28px;}\n",
       "</style>\n"
      ],
      "text/plain": [
       "<IPython.core.display.HTML object>"
      ]
     },
     "metadata": {},
     "output_type": "display_data"
    },
    {
     "name": "stderr",
     "output_type": "stream",
     "text": [
      "/opt/conda/lib/python3.7/site-packages/ipykernel_launcher.py:13: TqdmDeprecationWarning: This function will be removed in tqdm==5.0.0\n",
      "Please use `tqdm.notebook.*` instead of `tqdm._tqdm_notebook.*`\n",
      "  del sys.path[0]\n",
      "/opt/conda/lib/python3.7/site-packages/tqdm/std.py:666: FutureWarning: The Panel class is removed from pandas. Accessing it from the top-level namespace will also be removed in the next version\n",
      "  from pandas import Panel\n"
     ]
    }
   ],
   "source": [
    "import gc\n",
    "import numpy as np\n",
    "import pandas as pd\n",
    "from collections import defaultdict\n",
    "import datatable as dt\n",
    "import lightgbm as lgb\n",
    "from matplotlib import pyplot as plt\n",
    "import riiideducation\n",
    "from bitarray import bitarray\n",
    "from functools import partial\n",
    "import pickle\n",
    "\n",
    "from tqdm._tqdm_notebook import tqdm_notebook\n",
    "from numba import jit\n",
    "import random\n",
    "\n",
    "tqdm_notebook.pandas(desc=\"progress: \")\n",
    "\n",
    "_ = np.seterr(divide='ignore', invalid='ignore')\n",
    "pd.set_option(\"max_rows\", 100)\n",
    "pd.set_option(\"max_columns\", 100)\n",
    "\n",
    "random.seed(1)"
   ]
  },
  {
   "cell_type": "code",
   "execution_count": 3,
   "metadata": {
    "execution": {
     "iopub.execute_input": "2020-12-20T01:07:54.901771Z",
     "iopub.status.busy": "2020-12-20T01:07:54.901176Z",
     "iopub.status.idle": "2020-12-20T01:07:54.913780Z",
     "shell.execute_reply": "2020-12-20T01:07:54.913258Z"
    },
    "papermill": {
     "duration": 0.033954,
     "end_time": "2020-12-20T01:07:54.913887",
     "exception": false,
     "start_time": "2020-12-20T01:07:54.879933",
     "status": "completed"
    },
    "tags": []
   },
   "outputs": [],
   "source": [
    "def make_bitarray():\n",
    "    a = bitarray(32737, endian='little')\n",
    "    a.setall(True)   \n",
    "    return a\n",
    "\n",
    "def clear_mem():\n",
    "    %reset -f out\n",
    "    %reset -f in\n",
    "    gc.collect()\n",
    "    \n",
    "@jit\n",
    "def last4(A):\n",
    "    ans = []\n",
    "    for i in range(len(A)):\n",
    "        if i < 7:\n",
    "            ans.append(np.nan)\n",
    "        else:\n",
    "            ans.append(np.mean(A[i-5:i]))       \n",
    "    return np.array(ans)"
   ]
  },
  {
   "cell_type": "code",
   "execution_count": 4,
   "metadata": {
    "execution": {
     "iopub.execute_input": "2020-12-20T01:07:54.954872Z",
     "iopub.status.busy": "2020-12-20T01:07:54.953958Z",
     "iopub.status.idle": "2020-12-20T01:07:54.957720Z",
     "shell.execute_reply": "2020-12-20T01:07:54.958189Z"
    },
    "papermill": {
     "duration": 0.025603,
     "end_time": "2020-12-20T01:07:54.958315",
     "exception": false,
     "start_time": "2020-12-20T01:07:54.932712",
     "status": "completed"
    },
    "tags": []
   },
   "outputs": [],
   "source": [
    "FULL_TRAIN = False\n",
    "CV_SCHEME = \"original\" #\"time\""
   ]
  },
  {
   "cell_type": "markdown",
   "metadata": {
    "papermill": {
     "duration": 0.018317,
     "end_time": "2020-12-20T01:07:54.995335",
     "exception": false,
     "start_time": "2020-12-20T01:07:54.977018",
     "status": "completed"
    },
    "tags": []
   },
   "source": [
    "# Preprocess"
   ]
  },
  {
   "cell_type": "code",
   "execution_count": 5,
   "metadata": {
    "execution": {
     "iopub.execute_input": "2020-12-20T01:07:55.036215Z",
     "iopub.status.busy": "2020-12-20T01:07:55.035259Z",
     "iopub.status.idle": "2020-12-20T01:07:55.039768Z",
     "shell.execute_reply": "2020-12-20T01:07:55.040214Z"
    },
    "papermill": {
     "duration": 0.026358,
     "end_time": "2020-12-20T01:07:55.040343",
     "exception": false,
     "start_time": "2020-12-20T01:07:55.013985",
     "status": "completed"
    },
    "tags": []
   },
   "outputs": [],
   "source": [
    "data_types_dict = {\n",
    "    'timestamp': 'int64',\n",
    "    'user_id': 'int32', \n",
    "    'content_id': 'int16', \n",
    "    'answered_correctly': 'int8', \n",
    "    'prior_question_elapsed_time': 'float32', \n",
    "    'prior_question_had_explanation': 'bool',\n",
    "}\n",
    "target = 'answered_correctly'"
   ]
  },
  {
   "cell_type": "code",
   "execution_count": 6,
   "metadata": {
    "execution": {
     "iopub.execute_input": "2020-12-20T01:07:55.083117Z",
     "iopub.status.busy": "2020-12-20T01:07:55.082558Z",
     "iopub.status.idle": "2020-12-20T01:09:27.621043Z",
     "shell.execute_reply": "2020-12-20T01:09:27.620474Z"
    },
    "papermill": {
     "duration": 92.562043,
     "end_time": "2020-12-20T01:09:27.621163",
     "exception": false,
     "start_time": "2020-12-20T01:07:55.059120",
     "status": "completed"
    },
    "tags": []
   },
   "outputs": [],
   "source": [
    "train_df = dt.fread('../input/riiid-test-answer-prediction/train.csv', columns=set(data_types_dict.keys())).to_pandas()"
   ]
  },
  {
   "cell_type": "code",
   "execution_count": 7,
   "metadata": {
    "execution": {
     "iopub.execute_input": "2020-12-20T01:09:27.671026Z",
     "iopub.status.busy": "2020-12-20T01:09:27.670395Z",
     "iopub.status.idle": "2020-12-20T01:09:47.616921Z",
     "shell.execute_reply": "2020-12-20T01:09:47.617379Z"
    },
    "papermill": {
     "duration": 19.976884,
     "end_time": "2020-12-20T01:09:47.617549",
     "exception": false,
     "start_time": "2020-12-20T01:09:27.640665",
     "status": "completed"
    },
    "tags": []
   },
   "outputs": [],
   "source": [
    "train_df = train_df[train_df[target] != -1].reset_index(drop=True)\n",
    "\n",
    "train_df['prior_question_had_explanation'].fillna(False, inplace=True)\n",
    "train_df['prior_question_elapsed_time'].fillna(0, inplace=True)\n",
    "\n",
    "train_df = train_df.astype(data_types_dict)"
   ]
  },
  {
   "cell_type": "code",
   "execution_count": 8,
   "metadata": {
    "execution": {
     "iopub.execute_input": "2020-12-20T01:09:47.659226Z",
     "iopub.status.busy": "2020-12-20T01:09:47.658604Z",
     "iopub.status.idle": "2020-12-20T01:09:54.911864Z",
     "shell.execute_reply": "2020-12-20T01:09:54.910856Z"
    },
    "papermill": {
     "duration": 7.275032,
     "end_time": "2020-12-20T01:09:54.911984",
     "exception": false,
     "start_time": "2020-12-20T01:09:47.636952",
     "status": "completed"
    },
    "tags": []
   },
   "outputs": [],
   "source": [
    "if CV_SCHEME==\"time\":\n",
    "    max_timestamp_u = train_df[['user_id','timestamp']].groupby(['user_id']).agg(['max']).reset_index()\n",
    "    max_timestamp_u.columns = ['user_id', 'max_time_stamp']\n",
    "    MAX_TIME_STAMP = max_timestamp_u.max_time_stamp.max()\n",
    "\n",
    "    def rand_time(max_time_stamp):\n",
    "        interval = MAX_TIME_STAMP - max_time_stamp\n",
    "        rand_time_stamp = random.randint(0,interval)\n",
    "        return rand_time_stamp\n",
    "\n",
    "    max_timestamp_u['rand_time_stamp'] = max_timestamp_u.max_time_stamp.apply(rand_time)\n",
    "    train_df = train_df.merge(max_timestamp_u, on='user_id', how='left')\n",
    "    train_df['viretual_time_stamp'] = train_df.timestamp + train_df['rand_time_stamp']\n",
    "\n",
    "    del train_df['max_time_stamp']\n",
    "    del train_df['rand_time_stamp']\n",
    "    del max_timestamp_u\n",
    "\n",
    "    train_index = list(train_df['viretual_time_stamp'].nlargest(10000000).index)\n",
    "\n",
    "else:\n",
    "    if FULL_TRAIN:\n",
    "        train_size = 300\n",
    "    else:\n",
    "        train_size = 24\n",
    "        valid_size = 6\n",
    "    \n",
    "    train_index = list(train_df.groupby('user_id').tail(train_size).index)"
   ]
  },
  {
   "cell_type": "code",
   "execution_count": 9,
   "metadata": {
    "execution": {
     "iopub.execute_input": "2020-12-20T01:09:54.956761Z",
     "iopub.status.busy": "2020-12-20T01:09:54.956102Z",
     "iopub.status.idle": "2020-12-20T01:10:01.670432Z",
     "shell.execute_reply": "2020-12-20T01:10:01.669900Z"
    },
    "papermill": {
     "duration": 6.739043,
     "end_time": "2020-12-20T01:10:01.670580",
     "exception": false,
     "start_time": "2020-12-20T01:09:54.931537",
     "status": "completed"
    },
    "tags": []
   },
   "outputs": [],
   "source": [
    "train_df[\"count\"] = 1\n",
    "\n",
    "# normal cumsum\n",
    "count_array = train_df.groupby(\"user_id\")[\"count\"].cumsum().values\n",
    "count_array = count_array[train_index]\n",
    "train_df.drop(\"count\", axis=1, inplace=True)"
   ]
  },
  {
   "cell_type": "code",
   "execution_count": 10,
   "metadata": {
    "execution": {
     "iopub.execute_input": "2020-12-20T01:10:01.719674Z",
     "iopub.status.busy": "2020-12-20T01:10:01.718989Z",
     "iopub.status.idle": "2020-12-20T01:12:41.328389Z",
     "shell.execute_reply": "2020-12-20T01:12:41.329197Z"
    },
    "papermill": {
     "duration": 159.638749,
     "end_time": "2020-12-20T01:12:41.329358",
     "exception": false,
     "start_time": "2020-12-20T01:10:01.690609",
     "status": "completed"
    },
    "tags": []
   },
   "outputs": [
    {
     "name": "stdout",
     "output_type": "stream",
     "text": [
      "Flushing output cache (0 entries)\n",
      "Flushing input history\n",
      "Flushing output cache (0 entries)\n",
      "Flushing input history\n"
     ]
    }
   ],
   "source": [
    "timediff_array = train_df.groupby(\"user_id\")[\"timestamp\"].diff().values\n",
    "timediff_array = timediff_array[train_index]\n",
    "clear_mem()\n",
    "\n",
    "timediff2_array = train_df.groupby(\"user_id\")[\"timestamp\"].diff(2).values\n",
    "timediff2_array = timediff2_array[train_index]\n",
    "clear_mem()\n",
    "\n",
    "user_timestamp_max_dict = train_df.groupby(\"user_id\")[\"timestamp\"].apply(lambda x: x[-2:].values).to_dict(defaultdict(partial(np.ndarray, 0, dtype=\"int64\")))\n",
    "train_df.drop(\"timestamp\", axis=1, inplace=True)\n",
    "\n",
    "time_dd_array = timediff2_array - timediff_array\n",
    "timediff_array = np.nan_to_num(timediff_array, nan=-1)\n",
    "timediff2_array = np.nan_to_num(timediff2_array, nan=-1)\n",
    "time_dd_array = np.nan_to_num(time_dd_array, nan=-1)"
   ]
  },
  {
   "cell_type": "code",
   "execution_count": 11,
   "metadata": {
    "execution": {
     "iopub.execute_input": "2020-12-20T01:12:41.373389Z",
     "iopub.status.busy": "2020-12-20T01:12:41.372462Z",
     "iopub.status.idle": "2020-12-20T01:12:43.985365Z",
     "shell.execute_reply": "2020-12-20T01:12:43.982927Z"
    },
    "papermill": {
     "duration": 2.63618,
     "end_time": "2020-12-20T01:12:43.985898",
     "exception": false,
     "start_time": "2020-12-20T01:12:41.349718",
     "status": "completed"
    },
    "tags": []
   },
   "outputs": [],
   "source": [
    "prior_question_elapsed_time_array = train_df.prior_question_elapsed_time.values\n",
    "train_df.drop(\"prior_question_elapsed_time\", axis =1, inplace=True)\n",
    "prior_question_elapsed_time_array = prior_question_elapsed_time_array[train_index]"
   ]
  },
  {
   "cell_type": "code",
   "execution_count": 12,
   "metadata": {
    "execution": {
     "iopub.execute_input": "2020-12-20T01:12:44.055634Z",
     "iopub.status.busy": "2020-12-20T01:12:44.054914Z",
     "iopub.status.idle": "2020-12-20T01:13:00.782186Z",
     "shell.execute_reply": "2020-12-20T01:13:00.781168Z"
    },
    "papermill": {
     "duration": 16.769928,
     "end_time": "2020-12-20T01:13:00.782350",
     "exception": false,
     "start_time": "2020-12-20T01:12:44.012422",
     "status": "completed"
    },
    "tags": []
   },
   "outputs": [],
   "source": [
    "questions_df = pd.read_csv(\n",
    "    '../input/riiid-test-answer-prediction/questions.csv', \n",
    "    usecols=[0, 3], #4\n",
    "    dtype={'question_id': 'int16', 'part': 'int8'}  #'tags': 'str'\n",
    ")\n",
    "\n",
    "additional_q_df = pd.read_csv('../input/riiid-question-clustering/question_cmnts.csv')\n",
    "questions_df[\"community\"] = additional_q_df[\"community\"].astype('int8')\n",
    "del additional_q_df \n",
    "    \n",
    "train_df = pd.merge(train_df, questions_df, left_on='content_id', right_on='question_id', how='left', right_index=True).reset_index(drop=True)\n",
    "train_df.drop(columns=['question_id'], inplace=True)"
   ]
  },
  {
   "cell_type": "code",
   "execution_count": 13,
   "metadata": {
    "execution": {
     "iopub.execute_input": "2020-12-20T01:13:00.894507Z",
     "iopub.status.busy": "2020-12-20T01:13:00.893466Z",
     "iopub.status.idle": "2020-12-20T01:13:00.901935Z",
     "shell.execute_reply": "2020-12-20T01:13:00.901197Z"
    },
    "papermill": {
     "duration": 0.098592,
     "end_time": "2020-12-20T01:13:00.902094",
     "exception": false,
     "start_time": "2020-12-20T01:13:00.803502",
     "status": "completed"
    },
    "tags": []
   },
   "outputs": [
    {
     "name": "stdout",
     "output_type": "stream",
     "text": [
      "76\n"
     ]
    }
   ],
   "source": [
    "community_num = len(questions_df.community.unique())\n",
    "print(community_num)\n",
    "\n",
    "@jit\n",
    "def tag_accuracy(A, C):\n",
    "    ans = []\n",
    "    community_count = [0] * community_num\n",
    "    community_correct = [0] * community_num\n",
    "    for i in range(len(C)):\n",
    "        if community_count[C[i]]==0:\n",
    "            ans.append(-1)\n",
    "        else:\n",
    "            ans.append(community_correct[C[i]]/community_count[C[i]])\n",
    "        community_count[C[i]] +=1\n",
    "        community_correct[C[i]] += A[i]\n",
    "    return np.array(ans)\n",
    "\n",
    "@jit\n",
    "def tag_correct_last(A, C):\n",
    "    community_correct = [0] * community_num\n",
    "    for i in range(len(C)):\n",
    "        community_correct[C[i]] += A[i]\n",
    "    return np.array(community_correct)\n",
    "\n",
    "@jit\n",
    "def tag_count_last(A, C):\n",
    "    community_count = [0] * community_num\n",
    "    for i in range(len(C)):\n",
    "        community_count[C[i]] +=1\n",
    "    return np.array(community_count)\n",
    "\n",
    "def init_dict():\n",
    "    ans = [0] * community_num\n",
    "    return np.array(ans)"
   ]
  },
  {
   "cell_type": "code",
   "execution_count": 14,
   "metadata": {
    "execution": {
     "iopub.execute_input": "2020-12-20T01:13:00.956272Z",
     "iopub.status.busy": "2020-12-20T01:13:00.954917Z",
     "iopub.status.idle": "2020-12-20T01:14:40.976795Z",
     "shell.execute_reply": "2020-12-20T01:14:40.976122Z"
    },
    "papermill": {
     "duration": 100.05343,
     "end_time": "2020-12-20T01:14:40.976910",
     "exception": false,
     "start_time": "2020-12-20T01:13:00.923480",
     "status": "completed"
    },
    "tags": []
   },
   "outputs": [],
   "source": [
    "#\n",
    "tag_acc_array = train_df.groupby(\"user_id\").apply(lambda x: tag_accuracy(x[\"answered_correctly\"].values, x[\"community\"].values))\n",
    "tag_acc_array = np.hstack(tag_acc_array)\n",
    "tag_acc_array = tag_acc_array[train_index]\n",
    "\n",
    "user_community_count_dict = train_df.groupby(\"user_id\").apply(lambda x: tag_count_last(x[\"answered_correctly\"].values, x[\"community\"].values)).to_dict(defaultdict(init_dict))\n",
    "user_community_correct_dict = train_df.groupby(\"user_id\").apply(lambda x: tag_correct_last(x[\"answered_correctly\"].values, x[\"community\"].values)).to_dict(defaultdict(init_dict))\n",
    "    \n",
    "#\n",
    "community_agg = train_df.groupby('community')[target].agg(['count'])\n",
    "community_count_dict = community_agg['count'].astype('int32').to_dict(defaultdict(int))\n",
    "community_count_array = train_df['community'].map(community_agg['count']).astype('int32').values\n",
    "del community_agg\n",
    "community_count_array = community_count_array[train_index]\n",
    "    \n",
    "community_array = train_df[\"community\"].values\n",
    "community_array = community_array[train_index]\n",
    "train_df.drop('community', axis=1, inplace=True)"
   ]
  },
  {
   "cell_type": "code",
   "execution_count": 15,
   "metadata": {
    "execution": {
     "iopub.execute_input": "2020-12-20T01:14:41.027311Z",
     "iopub.status.busy": "2020-12-20T01:14:41.025986Z",
     "iopub.status.idle": "2020-12-20T01:14:55.561602Z",
     "shell.execute_reply": "2020-12-20T01:14:55.560973Z"
    },
    "papermill": {
     "duration": 14.563163,
     "end_time": "2020-12-20T01:14:55.561714",
     "exception": false,
     "start_time": "2020-12-20T01:14:40.998551",
     "status": "completed"
    },
    "tags": []
   },
   "outputs": [],
   "source": [
    "train_df['lag'] = train_df.groupby('user_id')[target].shift()\n",
    "cum = train_df.groupby('user_id')['lag'].agg(['cumsum', 'cumcount'])\n",
    "user_correctness_array = np.array(cum['cumsum'] / cum['cumcount'])\n",
    "user_correctness_array = user_correctness_array[train_index]\n",
    "train_df.drop(columns=['lag'], inplace=True)\n",
    "del cum"
   ]
  },
  {
   "cell_type": "code",
   "execution_count": 16,
   "metadata": {
    "execution": {
     "iopub.execute_input": "2020-12-20T01:14:55.627467Z",
     "iopub.status.busy": "2020-12-20T01:14:55.625935Z",
     "iopub.status.idle": "2020-12-20T01:15:41.537349Z",
     "shell.execute_reply": "2020-12-20T01:15:41.537832Z"
    },
    "papermill": {
     "duration": 45.954377,
     "end_time": "2020-12-20T01:15:41.538001",
     "exception": false,
     "start_time": "2020-12-20T01:14:55.583624",
     "status": "completed"
    },
    "tags": []
   },
   "outputs": [],
   "source": [
    "@jit\n",
    "def part_count_calc(P):\n",
    "    ans = []\n",
    "    part_count = [0] * 8\n",
    "    for i in range(len(P)):\n",
    "        part_count[P[i]] += 1\n",
    "        ans.append(part_count[P[i]])\n",
    "    return np.array(ans)\n",
    "\n",
    "@jit\n",
    "def part_count_dict_calc(P):\n",
    "    part_count = [0] * 8\n",
    "    for i in range(len(P)):\n",
    "        part_count[P[i]] += 1\n",
    "    return np.array(part_count)\n",
    "\n",
    "def part_dict_init():\n",
    "    ans = [0] * 8\n",
    "    return np.array(ans)\n",
    "\n",
    "part_count_array = train_df.groupby(\"user_id\").apply(lambda x: part_count_calc(x[\"part\"].values))\n",
    "part_count_array = np.hstack(part_count_array)\n",
    "part_count_array = part_count_array[train_index]\n",
    "part_ratio_array = part_count_array / count_array\n",
    "\n",
    "user_part_count_dict = train_df.groupby(\"user_id\").apply(lambda x: part_count_dict_calc(x[\"part\"].values)).to_dict(defaultdict(part_dict_init))\n",
    "\n",
    "part_array = train_df.part.values\n",
    "train_df.drop(\"part\", axis=1, inplace=True)\n",
    "part_array = part_array[train_index]"
   ]
  },
  {
   "cell_type": "code",
   "execution_count": 17,
   "metadata": {
    "execution": {
     "iopub.execute_input": "2020-12-20T01:15:41.583290Z",
     "iopub.status.busy": "2020-12-20T01:15:41.582744Z",
     "iopub.status.idle": "2020-12-20T01:16:03.467400Z",
     "shell.execute_reply": "2020-12-20T01:16:03.466787Z"
    },
    "papermill": {
     "duration": 21.908201,
     "end_time": "2020-12-20T01:16:03.467526",
     "exception": false,
     "start_time": "2020-12-20T01:15:41.559325",
     "status": "completed"
    },
    "tags": []
   },
   "outputs": [],
   "source": [
    "# prior_question_had_explanation_mean\n",
    "train_df['lag'] = train_df.groupby('user_id')['prior_question_had_explanation'].shift().astype(bool)\n",
    "cum = train_df.groupby('user_id')['lag'].agg(['cumsum', 'cumcount'])\n",
    "prior_question_had_explanation_mean_array = np.array(cum['cumsum'] / cum['cumcount'])\n",
    "prior_question_had_explanation_mean_array = prior_question_had_explanation_mean_array[train_index]\n",
    "\n",
    "user_prior_question_had_explanation_sum_agg = train_df.groupby('user_id')[\"prior_question_had_explanation\"].agg(['sum'])\n",
    "user_prior_question_had_explanation_sum_dict = user_prior_question_had_explanation_sum_agg['sum'].astype('int32').to_dict(defaultdict(int))\n",
    "train_df.drop(columns=['lag'], inplace=True)\n",
    "del cum, user_prior_question_had_explanation_sum_agg\n",
    "\n",
    "prior_question_had_explanation_array = train_df.prior_question_had_explanation.values\n",
    "train_df.drop('prior_question_had_explanation', axis=1, inplace=True)\n",
    "prior_question_had_explanation_array = prior_question_had_explanation_array[train_index]"
   ]
  },
  {
   "cell_type": "code",
   "execution_count": 18,
   "metadata": {
    "execution": {
     "iopub.execute_input": "2020-12-20T01:16:03.522124Z",
     "iopub.status.busy": "2020-12-20T01:16:03.521521Z",
     "iopub.status.idle": "2020-12-20T01:16:30.411345Z",
     "shell.execute_reply": "2020-12-20T01:16:30.411930Z"
    },
    "papermill": {
     "duration": 26.923436,
     "end_time": "2020-12-20T01:16:30.412122",
     "exception": false,
     "start_time": "2020-12-20T01:16:03.488686",
     "status": "completed"
    },
    "tags": []
   },
   "outputs": [],
   "source": [
    "first_attempt_df = pd.read_csv(\"../input/riiid-additional-data/content_first_attempt.csv\")\n",
    "first_attempt_array = first_attempt_df.first_attempt.values\n",
    "first_attempt_array = first_attempt_array[train_index]"
   ]
  },
  {
   "cell_type": "code",
   "execution_count": 19,
   "metadata": {
    "execution": {
     "iopub.execute_input": "2020-12-20T01:16:30.458949Z",
     "iopub.status.busy": "2020-12-20T01:16:30.458344Z",
     "iopub.status.idle": "2020-12-20T01:16:42.622387Z",
     "shell.execute_reply": "2020-12-20T01:16:42.622864Z"
    },
    "papermill": {
     "duration": 12.188398,
     "end_time": "2020-12-20T01:16:42.623017",
     "exception": false,
     "start_time": "2020-12-20T01:16:30.434619",
     "status": "completed"
    },
    "tags": []
   },
   "outputs": [
    {
     "name": "stdout",
     "output_type": "stream",
     "text": [
      "Flushing output cache (0 entries)\n",
      "Flushing input history\n",
      "Flushing output cache (0 entries)\n",
      "Flushing input history\n"
     ]
    }
   ],
   "source": [
    "user_agg = train_df.groupby('user_id')[target].agg(['sum', 'count'])\n",
    "user_sum_dict = user_agg['sum'].astype('int16').to_dict(defaultdict(int))\n",
    "del user_agg['sum']\n",
    "user_count_dict = user_agg['count'].astype('int16').to_dict(defaultdict(int))\n",
    "del user_agg['count']\n",
    "clear_mem()\n",
    "\n",
    "#\n",
    "content_agg = train_df.groupby('content_id')[target].agg(['sum', 'count'])\n",
    "content_sum_dict = content_agg['sum'].astype('int32').to_dict(defaultdict(int))\n",
    "content_count_dict = content_agg['count'].astype('int32').to_dict(defaultdict(int))\n",
    "\n",
    "content_count_array = train_df['content_id'].map(content_agg['count']).astype('int32').values\n",
    "content_id_array = train_df['content_id'].map(content_agg['sum'] / content_agg['count']).values\n",
    "del content_agg\n",
    "clear_mem()"
   ]
  },
  {
   "cell_type": "code",
   "execution_count": 20,
   "metadata": {
    "execution": {
     "iopub.execute_input": "2020-12-20T01:16:42.671259Z",
     "iopub.status.busy": "2020-12-20T01:16:42.670677Z",
     "iopub.status.idle": "2020-12-20T01:16:56.722642Z",
     "shell.execute_reply": "2020-12-20T01:16:56.721839Z"
    },
    "papermill": {
     "duration": 14.077069,
     "end_time": "2020-12-20T01:16:56.722822",
     "exception": false,
     "start_time": "2020-12-20T01:16:42.645753",
     "status": "completed"
    },
    "tags": []
   },
   "outputs": [],
   "source": [
    "# benefit of solving difficult questions\n",
    "#point_array = 1 / (content_id_array + 0.1)\n",
    "content_id_array = content_id_array[train_index]\n",
    "content_count_array = content_count_array[train_index]\n",
    "\n",
    "#train_df[\"got_point\"] = point_array * train_df[\"answered_correctly\"].values\n",
    "#del point_array\n",
    "\n",
    "#tag_got_point_array = train_df.groupby(\"user_id\").apply(lambda x: tag_accuracy(x[\"got_point\"].values, x[\"community\"].values))\n",
    "#tag_got_point_array = np.hstack(tag_got_point_array)\n",
    "#tag_got_point_array = tag_got_point_array[train_index]\n",
    "\n",
    "#train_df.drop(['got_point'],axis=1, inplace=True)\n",
    "\n",
    "with open('../input/riiid-premade-data/got_point_array.pickle','rb') as f:\n",
    "    got_point_array = pickle.load(f)\n",
    "got_point_array = got_point_array[train_index]\n",
    "    \n",
    "with open('../input/riiid-premade-data/user_point_sum_dict.pickle','rb') as f:\n",
    "    user_point_sum_dict = pickle.load(f)"
   ]
  },
  {
   "cell_type": "code",
   "execution_count": 21,
   "metadata": {
    "execution": {
     "iopub.execute_input": "2020-12-20T01:16:57.379973Z",
     "iopub.status.busy": "2020-12-20T01:16:57.379311Z",
     "iopub.status.idle": "2020-12-20T01:17:16.529276Z",
     "shell.execute_reply": "2020-12-20T01:17:16.529893Z"
    },
    "papermill": {
     "duration": 19.783131,
     "end_time": "2020-12-20T01:17:16.530161",
     "exception": false,
     "start_time": "2020-12-20T01:16:56.747030",
     "status": "completed"
    },
    "tags": []
   },
   "outputs": [
    {
     "name": "stdout",
     "output_type": "stream",
     "text": [
      "CPU times: user 3.79 s, sys: 2.45 s, total: 6.24 s\n",
      "Wall time: 19.7 s\n"
     ]
    }
   ],
   "source": [
    "%%time\n",
    "train_df.drop([\"content_id\"], axis=1, inplace=True)\n",
    "\n",
    "with open('../input/riiid-premade-data/user_content_dict.pickle','rb') as f:\n",
    "    user_content_dict = pickle.load(f)"
   ]
  },
  {
   "cell_type": "code",
   "execution_count": 22,
   "metadata": {
    "execution": {
     "iopub.execute_input": "2020-12-20T01:17:16.641413Z",
     "iopub.status.busy": "2020-12-20T01:17:16.608655Z",
     "iopub.status.idle": "2020-12-20T01:17:29.228798Z",
     "shell.execute_reply": "2020-12-20T01:17:29.229416Z"
    },
    "papermill": {
     "duration": 12.676027,
     "end_time": "2020-12-20T01:17:29.229570",
     "exception": false,
     "start_time": "2020-12-20T01:17:16.553543",
     "status": "completed"
    },
    "tags": []
   },
   "outputs": [],
   "source": [
    "with open('../input/riiid-premade-data/answered_correctly_last7_array.pickle','rb') as f:\n",
    "    answered_correctly_last7_array = pickle.load(f)\n",
    "answered_correctly_last7_array = answered_correctly_last7_array[train_index]\n",
    "    \n",
    "with open('../input/riiid-premade-data/user_last7_answer_dict.pickle','rb') as f:\n",
    "    user_last7_answer_dict = pickle.load(f)"
   ]
  },
  {
   "cell_type": "code",
   "execution_count": 23,
   "metadata": {
    "execution": {
     "iopub.execute_input": "2020-12-20T01:17:30.556342Z",
     "iopub.status.busy": "2020-12-20T01:17:29.879340Z",
     "iopub.status.idle": "2020-12-20T01:17:30.579294Z",
     "shell.execute_reply": "2020-12-20T01:17:30.578747Z"
    },
    "papermill": {
     "duration": 1.32672,
     "end_time": "2020-12-20T01:17:30.579426",
     "exception": false,
     "start_time": "2020-12-20T01:17:29.252706",
     "status": "completed"
    },
    "tags": []
   },
   "outputs": [],
   "source": [
    "answered_correctly_array = train_df[target].values\n",
    "train_df.drop(target, axis=1, inplace=True)\n",
    "answered_correctly_array = answered_correctly_array[train_index]"
   ]
  },
  {
   "cell_type": "markdown",
   "metadata": {
    "papermill": {
     "duration": 0.02312,
     "end_time": "2020-12-20T01:17:30.625548",
     "exception": false,
     "start_time": "2020-12-20T01:17:30.602428",
     "status": "completed"
    },
    "tags": []
   },
   "source": [
    "# data formation"
   ]
  },
  {
   "cell_type": "code",
   "execution_count": 24,
   "metadata": {
    "execution": {
     "iopub.execute_input": "2020-12-20T01:17:31.092022Z",
     "iopub.status.busy": "2020-12-20T01:17:31.046143Z",
     "iopub.status.idle": "2020-12-20T01:17:46.491881Z",
     "shell.execute_reply": "2020-12-20T01:17:46.491102Z"
    },
    "papermill": {
     "duration": 15.843276,
     "end_time": "2020-12-20T01:17:46.492011",
     "exception": false,
     "start_time": "2020-12-20T01:17:30.648735",
     "status": "completed"
    },
    "tags": []
   },
   "outputs": [],
   "source": [
    "if not FULL_TRAIN:\n",
    "    train_df = train_df[train_df.index.isin(train_index)].reset_index(drop=True)\n",
    "    if CV_SCHEME == \"original\":\n",
    "        valid_index = list(train_df.groupby('user_id').tail(valid_size).index)\n",
    "    else:\n",
    "        valid_index = list(train_df['viretual_time_stamp'].nlargest(2500000).index)\n",
    "    train_index = list(train_df[~train_df.index.isin(valid_index)].index)\n",
    "del train_df"
   ]
  },
  {
   "cell_type": "code",
   "execution_count": 25,
   "metadata": {
    "execution": {
     "iopub.execute_input": "2020-12-20T01:17:46.548225Z",
     "iopub.status.busy": "2020-12-20T01:17:46.547642Z",
     "iopub.status.idle": "2020-12-20T01:17:46.551656Z",
     "shell.execute_reply": "2020-12-20T01:17:46.550799Z"
    },
    "papermill": {
     "duration": 0.035641,
     "end_time": "2020-12-20T01:17:46.551767",
     "exception": false,
     "start_time": "2020-12-20T01:17:46.516126",
     "status": "completed"
    },
    "tags": []
   },
   "outputs": [
    {
     "name": "stdout",
     "output_type": "stream",
     "text": [
      "19\n"
     ]
    }
   ],
   "source": [
    "features_dict = {\n",
    "    'content_id': content_id_array,\n",
    "    'prior_question_elapsed_time': prior_question_elapsed_time_array,\n",
    "    'prior_question_had_explanation':  prior_question_had_explanation_array,\n",
    "    'user_correctness': user_correctness_array,\n",
    "    'part': part_array,\n",
    "    'content_count': content_count_array,\n",
    "    'count': count_array,\n",
    "    'first_attempt': first_attempt_array,\n",
    "    'part_count': part_count_array,\n",
    "    'part_ratio': part_ratio_array,\n",
    "    'prior_question_had_explanation_mean': prior_question_had_explanation_mean_array,\n",
    "    'got_point': got_point_array,\n",
    "    'answered_correctly_last7': answered_correctly_last7_array,   \n",
    "    'timediff': timediff_array,\n",
    "    'timediff2': timediff2_array,\n",
    "    'community': community_array,\n",
    "    'tag_acc': tag_acc_array,\n",
    "    'community_count': community_count_array,\n",
    "    'time_dd': time_dd_array,\n",
    "    #'tag_got_point': tag_got_point_array\n",
    "}\n",
    "\n",
    "features = list(features_dict.keys())\n",
    "print(len(features))\n",
    "\n",
    "del content_id_array, prior_question_elapsed_time_array, prior_question_had_explanation_array,\n",
    "del user_correctness_array, part_array,\n",
    "del content_count_array, count_array, first_attempt_array\n",
    "del part_ratio_array, part_count_array,\n",
    "del prior_question_had_explanation_mean_array, got_point_array, \n",
    "del answered_correctly_last7_array, timediff_array, timediff2_array, community_array,\n",
    "del tag_acc_array, community_count_array, time_dd_array, #tag_got_point_array"
   ]
  },
  {
   "cell_type": "code",
   "execution_count": 26,
   "metadata": {
    "execution": {
     "iopub.execute_input": "2020-12-20T01:17:46.604168Z",
     "iopub.status.busy": "2020-12-20T01:17:46.603588Z",
     "iopub.status.idle": "2020-12-20T01:17:46.607739Z",
     "shell.execute_reply": "2020-12-20T01:17:46.608186Z"
    },
    "papermill": {
     "duration": 0.033147,
     "end_time": "2020-12-20T01:17:46.608320",
     "exception": false,
     "start_time": "2020-12-20T01:17:46.575173",
     "status": "completed"
    },
    "tags": []
   },
   "outputs": [
    {
     "name": "stdout",
     "output_type": "stream",
     "text": [
      "(6536675, 20) (2360984, 20)\n"
     ]
    }
   ],
   "source": [
    "if FULL_TRAIN:\n",
    "    print(len(train_index), len(features)+1)\n",
    "else:\n",
    "    print((len(train_index), len(features)+1), (len(valid_index), len(features)+1))"
   ]
  },
  {
   "cell_type": "markdown",
   "metadata": {
    "papermill": {
     "duration": 0.023854,
     "end_time": "2020-12-20T01:17:46.656560",
     "exception": false,
     "start_time": "2020-12-20T01:17:46.632706",
     "status": "completed"
    },
    "tags": []
   },
   "source": [
    "# Train"
   ]
  },
  {
   "cell_type": "code",
   "execution_count": 27,
   "metadata": {
    "execution": {
     "iopub.execute_input": "2020-12-20T01:17:46.710458Z",
     "iopub.status.busy": "2020-12-20T01:17:46.709451Z",
     "iopub.status.idle": "2020-12-20T01:17:46.713089Z",
     "shell.execute_reply": "2020-12-20T01:17:46.712505Z"
    },
    "papermill": {
     "duration": 0.032459,
     "end_time": "2020-12-20T01:17:46.713213",
     "exception": false,
     "start_time": "2020-12-20T01:17:46.680754",
     "status": "completed"
    },
    "tags": []
   },
   "outputs": [],
   "source": [
    "params = {\n",
    "    'objective': 'binary',\n",
    "    'seed': 42,\n",
    "    'metric': 'auc',\n",
    "    'learning_rate': 0.05,\n",
    "    'max_bin': 800,\n",
    "    'num_leaves': 80\n",
    "}"
   ]
  },
  {
   "cell_type": "code",
   "execution_count": 28,
   "metadata": {
    "execution": {
     "iopub.execute_input": "2020-12-20T01:17:47.273105Z",
     "iopub.status.busy": "2020-12-20T01:17:47.272242Z",
     "iopub.status.idle": "2020-12-20T01:18:02.807856Z",
     "shell.execute_reply": "2020-12-20T01:18:02.808293Z"
    },
    "papermill": {
     "duration": 16.070166,
     "end_time": "2020-12-20T01:18:02.808502",
     "exception": false,
     "start_time": "2020-12-20T01:17:46.738336",
     "status": "completed"
    },
    "tags": []
   },
   "outputs": [],
   "source": [
    "if FULL_TRAIN:\n",
    "    X_train = np.ndarray(shape=(len(train_index), len(features)), dtype=np.float32)\n",
    "\n",
    "    for idx, feature in enumerate(features):\n",
    "        X_train[:,idx] = features_dict[feature].astype(np.float32).reshape(-1)\n",
    "        del features_dict[feature]\n",
    "    y_train = answered_correctly_array.astype(np.float32)\n",
    "    tr_data = lgb.Dataset(X_train, label=y_train)\n",
    "else:\n",
    "    X_train = np.ndarray(shape=(len(train_index), len(features)), dtype=np.float32)\n",
    "    X_valid = np.ndarray(shape=(len(valid_index), len(features)), dtype=np.float32)\n",
    "\n",
    "    for idx, feature in enumerate(features):\n",
    "        X_train[:,idx] = features_dict[feature][train_index].astype(np.float32).reshape(-1)\n",
    "        X_valid[:,idx] = features_dict[feature][valid_index].astype(np.float32).reshape(-1)\n",
    "        del features_dict[feature]\n",
    "    y_train = answered_correctly_array[train_index].astype(np.float32)\n",
    "    y_valid = answered_correctly_array[valid_index].astype(np.float32)\n",
    "\n",
    "    tr_data = lgb.Dataset(X_train, label=y_train)\n",
    "    va_data = lgb.Dataset(X_valid, label=y_valid)"
   ]
  },
  {
   "cell_type": "code",
   "execution_count": 29,
   "metadata": {
    "execution": {
     "iopub.execute_input": "2020-12-20T01:18:02.866492Z",
     "iopub.status.busy": "2020-12-20T01:18:02.865878Z",
     "iopub.status.idle": "2020-12-20T01:18:03.828829Z",
     "shell.execute_reply": "2020-12-20T01:18:03.829273Z"
    },
    "papermill": {
     "duration": 0.995845,
     "end_time": "2020-12-20T01:18:03.829413",
     "exception": false,
     "start_time": "2020-12-20T01:18:02.833568",
     "status": "completed"
    },
    "tags": []
   },
   "outputs": [],
   "source": [
    "import optuna\n",
    "from optuna import Trial\n",
    "from sklearn.metrics import roc_auc_score\n",
    "\n",
    "def objective(trial: Trial, fast_check=True, target_meter=0, return_info=False):      \n",
    "    params = {\n",
    "        'objective': 'binary',\n",
    "        'seed': 42,\n",
    "        'metric': 'auc',\n",
    "        #'learning_rate': 0.05,\n",
    "        'max_bin': 800,\n",
    "        #'num_leaves': 80\n",
    "        'num_leaves': trial.suggest_int('num_leaves', 2, 128),\n",
    "        'max_depth': trial.suggest_int('max_depth', 1, 10),\n",
    "        'learning_rate': trial.suggest_uniform('learning_rate', 0.1, 0.5),\n",
    "        'lambda_l1': trial.suggest_loguniform('lambda_l1', 1e-8, 10.0),\n",
    "        'lambda_l2': trial.suggest_loguniform('lambda_l2', 1e-8, 10.0),\n",
    "        #\"bagging_freq\": 5,\n",
    "        #\"bagging_fraction\": trial.suggest_uniform('bagging_fraction', 0.1, 1.0),\n",
    "        #\"feature_fraction\": trial.suggest_uniform('feature_fraction', 0.4, 1.0),\n",
    "    }\n",
    "    \n",
    "    model = lgb.train(params, tr_data ,valid_sets=[tr_data, va_data],\n",
    "           num_boost_round=1950,early_stopping_rounds=15,verbose_eval = 50)\n",
    "    valid_predict = model.predict(X_valid, num_iteration = model.best_iteration)\n",
    "    valid_score = roc_auc_score(y_valid, valid_predict)\n",
    "    \n",
    "    return valid_score\n",
    "\n",
    "#study = optuna.create_study(direction='maximize') #maximize or minimize\n",
    "#study.optimize(objective, n_trials=3)\n",
    "\n",
    "#print('Best trial: score {}, params {}'.format(study.best_trial.value, study.best_trial.params))"
   ]
  },
  {
   "cell_type": "code",
   "execution_count": 30,
   "metadata": {
    "execution": {
     "iopub.execute_input": "2020-12-20T01:18:03.881623Z",
     "iopub.status.busy": "2020-12-20T01:18:03.880669Z",
     "iopub.status.idle": "2020-12-20T02:18:12.431268Z",
     "shell.execute_reply": "2020-12-20T02:18:12.432183Z"
    },
    "papermill": {
     "duration": 3608.578483,
     "end_time": "2020-12-20T02:18:12.432404",
     "exception": false,
     "start_time": "2020-12-20T01:18:03.853921",
     "status": "completed"
    },
    "tags": []
   },
   "outputs": [
    {
     "name": "stdout",
     "output_type": "stream",
     "text": [
      "training starts\n",
      "Training until validation scores don't improve for 15 rounds\n",
      "[50]\ttraining's auc: 0.765064\tvalid_1's auc: 0.750828\n",
      "[100]\ttraining's auc: 0.769593\tvalid_1's auc: 0.756044\n",
      "[150]\ttraining's auc: 0.771818\tvalid_1's auc: 0.758437\n",
      "[200]\ttraining's auc: 0.773084\tvalid_1's auc: 0.759578\n",
      "[250]\ttraining's auc: 0.773952\tvalid_1's auc: 0.760276\n",
      "[300]\ttraining's auc: 0.774626\tvalid_1's auc: 0.76078\n",
      "[350]\ttraining's auc: 0.775129\tvalid_1's auc: 0.761085\n",
      "[400]\ttraining's auc: 0.775564\tvalid_1's auc: 0.761313\n",
      "[450]\ttraining's auc: 0.775951\tvalid_1's auc: 0.761487\n",
      "[500]\ttraining's auc: 0.776343\tvalid_1's auc: 0.761678\n",
      "[550]\ttraining's auc: 0.776705\tvalid_1's auc: 0.761837\n",
      "[600]\ttraining's auc: 0.77705\tvalid_1's auc: 0.761957\n",
      "[650]\ttraining's auc: 0.777416\tvalid_1's auc: 0.762112\n",
      "[700]\ttraining's auc: 0.777711\tvalid_1's auc: 0.762201\n",
      "[750]\ttraining's auc: 0.778051\tvalid_1's auc: 0.762336\n",
      "[800]\ttraining's auc: 0.778418\tvalid_1's auc: 0.762486\n",
      "[850]\ttraining's auc: 0.778729\tvalid_1's auc: 0.762595\n",
      "[900]\ttraining's auc: 0.77906\tvalid_1's auc: 0.762714\n",
      "[950]\ttraining's auc: 0.779367\tvalid_1's auc: 0.762814\n",
      "[1000]\ttraining's auc: 0.77966\tvalid_1's auc: 0.762891\n",
      "[1050]\ttraining's auc: 0.779917\tvalid_1's auc: 0.762945\n",
      "[1100]\ttraining's auc: 0.780227\tvalid_1's auc: 0.763022\n",
      "[1150]\ttraining's auc: 0.78049\tvalid_1's auc: 0.763072\n",
      "[1200]\ttraining's auc: 0.780754\tvalid_1's auc: 0.763129\n",
      "[1250]\ttraining's auc: 0.781045\tvalid_1's auc: 0.763191\n",
      "[1300]\ttraining's auc: 0.78131\tvalid_1's auc: 0.763234\n",
      "[1350]\ttraining's auc: 0.781562\tvalid_1's auc: 0.763273\n",
      "[1400]\ttraining's auc: 0.781834\tvalid_1's auc: 0.763325\n",
      "[1450]\ttraining's auc: 0.782073\tvalid_1's auc: 0.763366\n",
      "[1500]\ttraining's auc: 0.782315\tvalid_1's auc: 0.763401\n",
      "[1550]\ttraining's auc: 0.782571\tvalid_1's auc: 0.763443\n",
      "[1600]\ttraining's auc: 0.782823\tvalid_1's auc: 0.763488\n",
      "[1650]\ttraining's auc: 0.783055\tvalid_1's auc: 0.763517\n",
      "[1700]\ttraining's auc: 0.783313\tvalid_1's auc: 0.763562\n",
      "[1750]\ttraining's auc: 0.783581\tvalid_1's auc: 0.763604\n",
      "[1800]\ttraining's auc: 0.783824\tvalid_1's auc: 0.763637\n",
      "[1850]\ttraining's auc: 0.784055\tvalid_1's auc: 0.763656\n",
      "Did not meet early stopping. Best iteration is:\n",
      "[1850]\ttraining's auc: 0.784055\tvalid_1's auc: 0.763656\n"
     ]
    }
   ],
   "source": [
    "print(\"training starts\")\n",
    "if FULL_TRAIN:\n",
    "    model = lgb.train(\n",
    "        params, \n",
    "        tr_data, \n",
    "        num_boost_round=3000,\n",
    "        valid_sets=None, \n",
    "        )\n",
    "    del X_train, y_train\n",
    "else:\n",
    "    model = lgb.train(\n",
    "        params, \n",
    "        tr_data, \n",
    "        num_boost_round=1850,\n",
    "        valid_sets=[tr_data, va_data], \n",
    "        early_stopping_rounds=15,\n",
    "        verbose_eval=50\n",
    "        )\n",
    "    del X_train, y_train, X_valid, y_valid"
   ]
  },
  {
   "cell_type": "markdown",
   "metadata": {
    "papermill": {
     "duration": 0.051634,
     "end_time": "2020-12-20T02:18:12.538874",
     "exception": false,
     "start_time": "2020-12-20T02:18:12.487240",
     "status": "completed"
    },
    "tags": []
   },
   "source": [
    "# Inference"
   ]
  },
  {
   "cell_type": "code",
   "execution_count": 31,
   "metadata": {
    "execution": {
     "iopub.execute_input": "2020-12-20T02:18:12.628300Z",
     "iopub.status.busy": "2020-12-20T02:18:12.627522Z",
     "iopub.status.idle": "2020-12-20T02:18:12.629797Z",
     "shell.execute_reply": "2020-12-20T02:18:12.630317Z"
    },
    "papermill": {
     "duration": 0.042856,
     "end_time": "2020-12-20T02:18:12.630469",
     "exception": false,
     "start_time": "2020-12-20T02:18:12.587613",
     "status": "completed"
    },
    "tags": []
   },
   "outputs": [],
   "source": [
    "env = riiideducation.make_env()\n",
    "iter_test = env.iter_test()\n",
    "prior_test_df = None"
   ]
  },
  {
   "cell_type": "code",
   "execution_count": 32,
   "metadata": {
    "execution": {
     "iopub.execute_input": "2020-12-20T02:18:12.703719Z",
     "iopub.status.busy": "2020-12-20T02:18:12.702809Z",
     "iopub.status.idle": "2020-12-20T02:18:13.531181Z",
     "shell.execute_reply": "2020-12-20T02:18:13.530683Z"
    },
    "papermill": {
     "duration": 0.86509,
     "end_time": "2020-12-20T02:18:13.531296",
     "exception": false,
     "start_time": "2020-12-20T02:18:12.666206",
     "status": "completed"
    },
    "tags": []
   },
   "outputs": [
    {
     "name": "stdout",
     "output_type": "stream",
     "text": [
      "CPU times: user 1.33 s, sys: 119 ms, total: 1.45 s\n",
      "Wall time: 797 ms\n"
     ]
    }
   ],
   "source": [
    "%%time\n",
    "for (test_df, sample_prediction_df) in iter_test:\n",
    "    if prior_test_df is not None:\n",
    "        prior_test_df[target] = eval(test_df['prior_group_answers_correct'].iloc[0])\n",
    "        prior_test_df = prior_test_df[prior_test_df[target] != -1].reset_index(drop=True)\n",
    "        \n",
    "        user_ids = prior_test_df['user_id'].values\n",
    "        content_ids = prior_test_df['content_id'].values\n",
    "        targets = prior_test_df[target].values\n",
    "         \n",
    "        for user_id, content_id, answered_correctly, prior_explanation, prior_point, prior_community in zip(user_ids, content_ids, \n",
    "                                                            targets, \n",
    "                                                            p_prior_question_had_explanation,\n",
    "                                                            prior_point_array,\n",
    "                                                            prior_community_arrays):\n",
    "            user_sum_dict[user_id] += answered_correctly\n",
    "            user_count_dict[user_id] += 1\n",
    "            content_sum_dict[content_id] += answered_correctly\n",
    "            content_count_dict[content_id] += 1\n",
    "            user_prior_question_had_explanation_sum_dict[user_id] += prior_explanation\n",
    "            user_point_sum_dict[user_id] += prior_point * answered_correctly\n",
    "            if len(user_last7_answer_dict[user_id])==7:\n",
    "                user_last7_answer_dict[user_id] = np.concatenate([user_last7_answer_dict[user_id],[answered_correctly]])[1:]\n",
    "            else:\n",
    "                user_last7_answer_dict[user_id] = np.concatenate([user_last7_answer_dict[user_id],[answered_correctly]])\n",
    "            \n",
    "            user_community_correct_dict[user_id][prior_community] += answered_correctly\n",
    "            user_community_count_dict[user_id][prior_community] += 1\n",
    "            community_count_dict[prior_community] += 1\n",
    "            \n",
    "    prior_test_df = test_df.copy()\n",
    "           \n",
    "    test_df = test_df[test_df['content_type_id'] == 0].reset_index(drop=True)\n",
    "    test_df = pd.merge(test_df, questions_df, left_on='content_id', right_on='question_id', how='left', right_index=True).reset_index(drop=True)\n",
    "    test_df['prior_question_had_explanation'] = test_df['prior_question_had_explanation'].fillna(False).astype('bool')\n",
    "    test_df['prior_question_elapsed_time'] = test_df['prior_question_elapsed_time'].fillna(0)\n",
    "\n",
    "    p_prior_question_had_explanation = test_df['prior_question_had_explanation'].values\n",
    "    prior_community_arrays = test_df['community'].values\n",
    "    \n",
    "    user_sum = np.zeros(len(test_df), dtype=np.int16)\n",
    "    user_count = np.zeros(len(test_df), dtype=np.int16)\n",
    "    content_sum = np.zeros(len(test_df), dtype=np.int32)\n",
    "    content_count = np.zeros(len(test_df), dtype=np.int32)\n",
    "    part_count = np.zeros(len(test_df), dtype=np.int32)\n",
    "    first_attempt_values = []\n",
    "    user_prior_question_had_explanation_sum = np.zeros(len(test_df), dtype=np.int32)\n",
    "    got_point_array = np.zeros(len(test_df), dtype=np.float32)\n",
    "    user_last7_accuracy_array = np.zeros(len(test_df), dtype=np.float32)\n",
    "    timediff_array = np.zeros(len(test_df), dtype = np.int64)\n",
    "    timediff2_array = np.zeros(len(test_df), dtype = np.int64)\n",
    "    tag_acc_array = np.zeros(len(test_df), dtype=np.float32)\n",
    "    community_count_array = np.zeros(len(test_df), dtype=np.int32)\n",
    "    time_dd_array = np.zeros(len(test_df), dtype = np.int64)\n",
    "\n",
    "    for i, (user_id, content_id, timestamp, community, part) in enumerate(zip(test_df['user_id'].values, \n",
    "                                                             test_df['content_id'].values,\n",
    "                                                             test_df['timestamp'].values,\n",
    "                                                             test_df['community'].values,\n",
    "                                                             test_df['part'].values)):\n",
    "        user_sum[i] = user_sum_dict[user_id]\n",
    "        user_count[i] = user_count_dict[user_id]\n",
    "        content_sum[i] = content_sum_dict[content_id]\n",
    "        content_count[i] = content_count_dict[content_id]\n",
    "        part_count[i] = user_part_count_dict[user_id][part] + 1\n",
    "        user_part_count_dict[user_id][part] += 1\n",
    "        first_attempt_values.append(user_content_dict[user_id][content_id])\n",
    "        user_content_dict[user_id][content_id] = False             \n",
    "        user_prior_question_had_explanation_sum[i] = user_prior_question_had_explanation_sum_dict[user_id]\n",
    "        got_point_array[i] = user_point_sum_dict[user_id]\n",
    "        \n",
    "        if len(user_last7_answer_dict[user_id])==7:\n",
    "            user_last7_accuracy_array[i] = user_last7_answer_dict[user_id].mean()\n",
    "        else:\n",
    "            user_last7_accuracy_array[i] = np.nan\n",
    "        \n",
    "        if len(user_timestamp_max_dict[user_id]) ==0:\n",
    "            timediff_array[i] = -1\n",
    "            timediff2_array[i] = -1\n",
    "            time_dd_array[i] = -1\n",
    "            user_timestamp_max_dict[user_id] = np.concatenate([user_timestamp_max_dict[user_id],[timestamp]])\n",
    "            \n",
    "        elif len(user_timestamp_max_dict[user_id]) ==1:\n",
    "            timediff_array[i] = timestamp - user_timestamp_max_dict[user_id][0]\n",
    "            timediff2_array[i] = -1\n",
    "            time_dd_array[i] = -1\n",
    "            user_timestamp_max_dict[user_id] = np.concatenate([user_timestamp_max_dict[user_id],[timestamp]])\n",
    "            \n",
    "        else:\n",
    "            timediff_array[i] = timestamp - user_timestamp_max_dict[user_id][1]\n",
    "            timediff2_array[i] = timestamp - user_timestamp_max_dict[user_id][0]\n",
    "            time_dd_array[i] = timediff2_array[i] - timediff_array[i]\n",
    "            user_timestamp_max_dict[user_id] = np.concatenate([user_timestamp_max_dict[user_id],[timestamp]])[1:]                     \n",
    "            \n",
    "        if user_community_count_dict[user_id][community] == 0:\n",
    "            tag_acc_array[i] = -1\n",
    "        else:\n",
    "            tag_acc_array[i] = user_community_correct_dict[user_id][community] / user_community_count_dict[user_id][community]\n",
    "            \n",
    "        community_count_array[i] = community_count_dict[community]\n",
    "        \n",
    "    test_df['user_correctness'] = user_sum / user_count\n",
    "    test_df['content_count'] = content_count\n",
    "    test_df['content_id'] = content_sum / content_count\n",
    "    test_df['count'] = 1\n",
    "    test_df['count'] = test_df.groupby(\"user_id\")[\"count\"].cumsum()\n",
    "    test_df['count'] += user_count\n",
    "    test_df['part_count'] = part_count\n",
    "    test_df['part_ratio'] = part_count / test_df['count'].values\n",
    "    test_df[\"first_attempt\"] = first_attempt_values\n",
    "    test_df['prior_question_had_explanation_mean'] = user_prior_question_had_explanation_sum / user_count\n",
    "    test_df['got_point'] = got_point_array / user_count\n",
    "    test_df['answered_correctly_last7'] = user_last7_accuracy_array\n",
    "    test_df['timediff'] = timediff_array\n",
    "    test_df['timediff2'] = timediff2_array\n",
    "    test_df['tag_acc'] = tag_acc_array\n",
    "    test_df['community_count'] = community_count_array\n",
    "    test_df['time_dd'] = time_dd_array\n",
    "    \n",
    "    prior_point_array = 1 / (test_df.content_id.values + 0.1)\n",
    "    \n",
    "    test_df[target] = model.predict(test_df[features])\n",
    "    env.predict(test_df[['row_id', target]])"
   ]
  },
  {
   "cell_type": "code",
   "execution_count": null,
   "metadata": {
    "papermill": {
     "duration": 0.033831,
     "end_time": "2020-12-20T02:18:13.599942",
     "exception": false,
     "start_time": "2020-12-20T02:18:13.566111",
     "status": "completed"
    },
    "tags": []
   },
   "outputs": [],
   "source": []
  }
 ],
 "metadata": {
  "kernelspec": {
   "display_name": "Python 3",
   "language": "python",
   "name": "python3"
  },
  "language_info": {
   "codemirror_mode": {
    "name": "ipython",
    "version": 3
   },
   "file_extension": ".py",
   "mimetype": "text/x-python",
   "name": "python",
   "nbconvert_exporter": "python",
   "pygments_lexer": "ipython3",
   "version": "3.7.6"
  },
  "papermill": {
   "duration": 4254.107443,
   "end_time": "2020-12-20T02:18:14.057400",
   "environment_variables": {},
   "exception": null,
   "input_path": "__notebook__.ipynb",
   "output_path": "__notebook__.ipynb",
   "parameters": {},
   "start_time": "2020-12-20T01:07:19.949957",
   "version": "2.1.0"
  }
 },
 "nbformat": 4,
 "nbformat_minor": 4
}
