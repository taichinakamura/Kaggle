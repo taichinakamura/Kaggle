{
 "cells": [
  {
   "cell_type": "markdown",
   "metadata": {
    "papermill": {
     "duration": 0.025733,
     "end_time": "2020-12-05T05:58:28.576592",
     "exception": false,
     "start_time": "2020-12-05T05:58:28.550859",
     "status": "completed"
    },
    "tags": []
   },
   "source": [
    "- execute full training"
   ]
  },
  {
   "cell_type": "code",
   "execution_count": 1,
   "metadata": {
    "_cell_guid": "b1076dfc-b9ad-4769-8c92-a6c4dae69d19",
    "_uuid": "8f2839f25d086af736a60e9eeb907d3b93b6e0e5",
    "execution": {
     "iopub.execute_input": "2020-12-05T05:58:28.630188Z",
     "iopub.status.busy": "2020-12-05T05:58:28.629275Z",
     "iopub.status.idle": "2020-12-05T05:59:00.602292Z",
     "shell.execute_reply": "2020-12-05T05:59:00.601442Z"
    },
    "papermill": {
     "duration": 32.00352,
     "end_time": "2020-12-05T05:59:00.602428",
     "exception": false,
     "start_time": "2020-12-05T05:58:28.598908",
     "status": "completed"
    },
    "tags": []
   },
   "outputs": [],
   "source": [
    "!pip install ../input/python-datatable/datatable-0.11.0-cp37-cp37m-manylinux2010_x86_64.whl > /dev/null 2>&1"
   ]
  },
  {
   "cell_type": "code",
   "execution_count": 2,
   "metadata": {
    "_cell_guid": "79c7e3d0-c299-4dcb-8224-4455121ee9b0",
    "_uuid": "d629ff2d2480ee46fbb7e2d37f6b5fab8052498a",
    "execution": {
     "iopub.execute_input": "2020-12-05T05:59:00.657111Z",
     "iopub.status.busy": "2020-12-05T05:59:00.656249Z",
     "iopub.status.idle": "2020-12-05T05:59:02.015498Z",
     "shell.execute_reply": "2020-12-05T05:59:02.014196Z"
    },
    "papermill": {
     "duration": 1.390943,
     "end_time": "2020-12-05T05:59:02.015675",
     "exception": false,
     "start_time": "2020-12-05T05:59:00.624732",
     "status": "completed"
    },
    "tags": []
   },
   "outputs": [
    {
     "data": {
      "text/html": [
       "<style type='text/css'>\n",
       ".datatable table.frame { margin-bottom: 0; }\n",
       ".datatable table.frame thead { border-bottom: none; }\n",
       ".datatable table.frame tr.coltypes td {  color: #FFFFFF;  line-height: 6px;  padding: 0 0.5em;}\n",
       ".datatable .bool    { background: #DDDD99; }\n",
       ".datatable .object  { background: #565656; }\n",
       ".datatable .int     { background: #5D9E5D; }\n",
       ".datatable .float   { background: #4040CC; }\n",
       ".datatable .str     { background: #CC4040; }\n",
       ".datatable .row_index {  background: var(--jp-border-color3);  border-right: 1px solid var(--jp-border-color0);  color: var(--jp-ui-font-color3);  font-size: 9px;}\n",
       ".datatable .frame tr.coltypes .row_index {  background: var(--jp-border-color0);}\n",
       ".datatable th:nth-child(2) { padding-left: 12px; }\n",
       ".datatable .hellipsis {  color: var(--jp-cell-editor-border-color);}\n",
       ".datatable .vellipsis {  background: var(--jp-layout-color0);  color: var(--jp-cell-editor-border-color);}\n",
       ".datatable .na {  color: var(--jp-cell-editor-border-color);  font-size: 80%;}\n",
       ".datatable .footer { font-size: 9px; }\n",
       ".datatable .frame_dimensions {  background: var(--jp-border-color3);  border-top: 1px solid var(--jp-border-color0);  color: var(--jp-ui-font-color3);  display: inline-block;  opacity: 0.6;  padding: 1px 10px 1px 5px;}\n",
       ".datatable .frame thead tr.colnames {  background-image: url('data:image/png;base64,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');  background-repeat: repeat-x;  background-size: 14px;  height: 28px;}\n",
       "</style>\n"
      ],
      "text/plain": [
       "<IPython.core.display.HTML object>"
      ]
     },
     "metadata": {},
     "output_type": "display_data"
    },
    {
     "name": "stderr",
     "output_type": "stream",
     "text": [
      "/opt/conda/lib/python3.7/site-packages/ipykernel_launcher.py:11: TqdmDeprecationWarning: This function will be removed in tqdm==5.0.0\n",
      "Please use `tqdm.notebook.*` instead of `tqdm._tqdm_notebook.*`\n",
      "  # This is added back by InteractiveShellApp.init_path()\n",
      "/opt/conda/lib/python3.7/site-packages/tqdm/std.py:666: FutureWarning: The Panel class is removed from pandas. Accessing it from the top-level namespace will also be removed in the next version\n",
      "  from pandas import Panel\n"
     ]
    }
   ],
   "source": [
    "import numpy as np\n",
    "import pandas as pd\n",
    "from collections import defaultdict\n",
    "import datatable as dt\n",
    "import lightgbm as lgb\n",
    "from matplotlib import pyplot as plt\n",
    "import riiideducation\n",
    "from bitarray import bitarray\n",
    "from lightgbm import LGBMClassifier\n",
    "\n",
    "from tqdm._tqdm_notebook import tqdm_notebook\n",
    "tqdm_notebook.pandas(desc=\"progress: \")\n",
    "\n",
    "_ = np.seterr(divide='ignore', invalid='ignore')"
   ]
  },
  {
   "cell_type": "code",
   "execution_count": 3,
   "metadata": {
    "execution": {
     "iopub.execute_input": "2020-12-05T05:59:02.072358Z",
     "iopub.status.busy": "2020-12-05T05:59:02.071191Z",
     "iopub.status.idle": "2020-12-05T05:59:02.074677Z",
     "shell.execute_reply": "2020-12-05T05:59:02.073924Z"
    },
    "papermill": {
     "duration": 0.033812,
     "end_time": "2020-12-05T05:59:02.074830",
     "exception": false,
     "start_time": "2020-12-05T05:59:02.041018",
     "status": "completed"
    },
    "tags": []
   },
   "outputs": [],
   "source": [
    "def make_bitarray():\n",
    "    a = bitarray(32737, endian='little')\n",
    "    a.setall(True)   \n",
    "    return a"
   ]
  },
  {
   "cell_type": "code",
   "execution_count": 4,
   "metadata": {
    "execution": {
     "iopub.execute_input": "2020-12-05T05:59:02.130067Z",
     "iopub.status.busy": "2020-12-05T05:59:02.129178Z",
     "iopub.status.idle": "2020-12-05T05:59:02.133410Z",
     "shell.execute_reply": "2020-12-05T05:59:02.132506Z"
    },
    "papermill": {
     "duration": 0.034409,
     "end_time": "2020-12-05T05:59:02.133552",
     "exception": false,
     "start_time": "2020-12-05T05:59:02.099143",
     "status": "completed"
    },
    "tags": []
   },
   "outputs": [],
   "source": [
    "FULL_TRAIN = True"
   ]
  },
  {
   "cell_type": "markdown",
   "metadata": {
    "papermill": {
     "duration": 0.025384,
     "end_time": "2020-12-05T05:59:02.184652",
     "exception": false,
     "start_time": "2020-12-05T05:59:02.159268",
     "status": "completed"
    },
    "tags": []
   },
   "source": [
    "# Preprocess"
   ]
  },
  {
   "cell_type": "code",
   "execution_count": 5,
   "metadata": {
    "execution": {
     "iopub.execute_input": "2020-12-05T05:59:02.241548Z",
     "iopub.status.busy": "2020-12-05T05:59:02.240736Z",
     "iopub.status.idle": "2020-12-05T05:59:02.244870Z",
     "shell.execute_reply": "2020-12-05T05:59:02.244060Z"
    },
    "papermill": {
     "duration": 0.034546,
     "end_time": "2020-12-05T05:59:02.245021",
     "exception": false,
     "start_time": "2020-12-05T05:59:02.210475",
     "status": "completed"
    },
    "tags": []
   },
   "outputs": [],
   "source": [
    "data_types_dict = {\n",
    "    #'row_id': 'uint32',\n",
    "    'timestamp': 'uint64',\n",
    "    'user_id': 'int32', \n",
    "    'content_id': 'int16', \n",
    "    'answered_correctly': 'int8', \n",
    "    'prior_question_elapsed_time': 'float32', \n",
    "    'prior_question_had_explanation': 'bool'\n",
    "}\n",
    "target = 'answered_correctly'"
   ]
  },
  {
   "cell_type": "code",
   "execution_count": 6,
   "metadata": {
    "execution": {
     "iopub.execute_input": "2020-12-05T05:59:02.306635Z",
     "iopub.status.busy": "2020-12-05T05:59:02.305741Z",
     "iopub.status.idle": "2020-12-05T06:01:35.747851Z",
     "shell.execute_reply": "2020-12-05T06:01:35.747033Z"
    },
    "papermill": {
     "duration": 153.478425,
     "end_time": "2020-12-05T06:01:35.748040",
     "exception": false,
     "start_time": "2020-12-05T05:59:02.269615",
     "status": "completed"
    },
    "tags": []
   },
   "outputs": [],
   "source": [
    "train_df = dt.fread('../input/riiid-test-answer-prediction/train.csv', columns=set(data_types_dict.keys())).to_pandas()\n",
    "\n",
    "train_df = train_df[train_df[target] != -1].reset_index(drop=True)\n",
    "train_df['prior_question_had_explanation'].fillna(False, inplace=True)\n",
    "train_df['timestamp'] = (train_df['timestamp'] // 86400000) + 1 # days from start\n",
    "train_df = train_df.astype(data_types_dict)\n",
    "\n",
    "if FULL_TRAIN:\n",
    "    train_size = 40\n",
    "else:\n",
    "    train_size = 24\n",
    "    valid_size = 6\n",
    "train_index = list(train_df.groupby('user_id').tail(train_size).index)"
   ]
  },
  {
   "cell_type": "code",
   "execution_count": 7,
   "metadata": {
    "execution": {
     "iopub.execute_input": "2020-12-05T06:01:35.940000Z",
     "iopub.status.busy": "2020-12-05T06:01:35.939123Z",
     "iopub.status.idle": "2020-12-05T06:01:52.836431Z",
     "shell.execute_reply": "2020-12-05T06:01:52.835660Z"
    },
    "papermill": {
     "duration": 17.064088,
     "end_time": "2020-12-05T06:01:52.836609",
     "exception": false,
     "start_time": "2020-12-05T06:01:35.772521",
     "status": "completed"
    },
    "tags": []
   },
   "outputs": [],
   "source": [
    "questions_df = pd.read_csv(\n",
    "    '../input/riiid-test-answer-prediction/questions.csv', \n",
    "    usecols=[0, 3], #, 4\n",
    "    dtype={'question_id': 'int16', 'part': 'int8'}  #, 'tags': 'object'\n",
    ")\n",
    "train_df = pd.merge(train_df, questions_df, left_on='content_id', right_on='question_id', how='left', right_index=True).reset_index(drop=True)\n",
    "train_df.drop(columns=['question_id'], inplace=True)"
   ]
  },
  {
   "cell_type": "code",
   "execution_count": 8,
   "metadata": {
    "execution": {
     "iopub.execute_input": "2020-12-05T06:01:52.896997Z",
     "iopub.status.busy": "2020-12-05T06:01:52.896118Z",
     "iopub.status.idle": "2020-12-05T06:02:13.518509Z",
     "shell.execute_reply": "2020-12-05T06:02:13.517654Z"
    },
    "papermill": {
     "duration": 20.656777,
     "end_time": "2020-12-05T06:02:13.518654",
     "exception": false,
     "start_time": "2020-12-05T06:01:52.861877",
     "status": "completed"
    },
    "tags": []
   },
   "outputs": [],
   "source": [
    "train_df['lag'] = train_df.groupby('user_id')[target].shift()\n",
    "cum = train_df.groupby('user_id')['lag'].agg(['cumsum', 'cumcount'])\n",
    "user_correctness_array = np.array(cum['cumsum'] / cum['cumcount'])\n",
    "user_correctness_array = user_correctness_array[train_index]\n",
    "train_df.drop(columns=['lag'], inplace=True)\n",
    "del cum"
   ]
  },
  {
   "cell_type": "code",
   "execution_count": 9,
   "metadata": {
    "execution": {
     "iopub.execute_input": "2020-12-05T06:02:13.604984Z",
     "iopub.status.busy": "2020-12-05T06:02:13.602531Z",
     "iopub.status.idle": "2020-12-05T06:07:01.351575Z",
     "shell.execute_reply": "2020-12-05T06:07:01.350637Z"
    },
    "papermill": {
     "duration": 287.806754,
     "end_time": "2020-12-05T06:07:01.351733",
     "exception": false,
     "start_time": "2020-12-05T06:02:13.544979",
     "status": "completed"
    },
    "tags": []
   },
   "outputs": [],
   "source": [
    "train_df[\"part_count\"] = train_df[\"part\"] ==1\n",
    "train_df[\"part_count\"] = train_df[\"part_count\"].astype(\"int8\")\n",
    "train_df['part_count_lag'] = train_df.groupby('user_id')[\"part_count\"].shift()\n",
    "part1_count_array = train_df.groupby('user_id')['part_count_lag'].agg(['cumsum']).values\n",
    "part1_count_array = part1_count_array[train_index] \n",
    "train_df.drop(columns=['part_count_lag', 'part_count'], inplace=True)\n",
    "\n",
    "train_df[\"part_count\"] = train_df[\"part\"] ==2\n",
    "train_df[\"part_count\"] = train_df[\"part_count\"].astype(\"int8\")\n",
    "train_df['part_count_lag'] = train_df.groupby('user_id')[\"part_count\"].shift()\n",
    "part2_count_array = train_df.groupby('user_id')['part_count_lag'].agg(['cumsum']).values\n",
    "part2_count_array = part2_count_array[train_index] \n",
    "train_df.drop(columns=['part_count_lag', 'part_count'], inplace=True)\n",
    "\n",
    "train_df[\"part_count\"] = train_df[\"part\"] ==3\n",
    "train_df[\"part_count\"] = train_df[\"part_count\"].astype(\"int8\")\n",
    "train_df['part_count_lag'] = train_df.groupby('user_id')[\"part_count\"].shift()\n",
    "part3_count_array = train_df.groupby('user_id')['part_count_lag'].agg(['cumsum']).values\n",
    "part3_count_array = part3_count_array[train_index] \n",
    "train_df.drop(columns=['part_count_lag', 'part_count'], inplace=True)\n",
    "\n",
    "train_df[\"part_count\"] = train_df[\"part\"] ==4\n",
    "train_df[\"part_count\"] = train_df[\"part_count\"].astype(\"int8\")\n",
    "train_df['part_count_lag'] = train_df.groupby('user_id')[\"part_count\"].shift()\n",
    "part4_count_array = train_df.groupby('user_id')['part_count_lag'].agg(['cumsum']).values\n",
    "part4_count_array = part4_count_array[train_index] \n",
    "train_df.drop(columns=['part_count_lag', 'part_count'], inplace=True)\n",
    "\n",
    "train_df[\"part_count\"] = train_df[\"part\"] ==5\n",
    "train_df[\"part_count\"] = train_df[\"part_count\"].astype(\"int8\")\n",
    "train_df['part_count_lag'] = train_df.groupby('user_id')[\"part_count\"].shift()\n",
    "part5_count_array = train_df.groupby('user_id')['part_count_lag'].agg(['cumsum']).values\n",
    "part5_count_array = part5_count_array[train_index] \n",
    "train_df.drop(columns=['part_count_lag', 'part_count'], inplace=True)\n",
    "\n",
    "train_df[\"part_count\"] = train_df[\"part\"] ==6\n",
    "train_df[\"part_count\"] = train_df[\"part_count\"].astype(\"int8\")\n",
    "train_df['part_count_lag'] = train_df.groupby('user_id')[\"part_count\"].shift()\n",
    "part6_count_array = train_df.groupby('user_id')['part_count_lag'].agg(['cumsum']).values\n",
    "part6_count_array = part6_count_array[train_index] \n",
    "train_df.drop(columns=['part_count_lag', 'part_count'], inplace=True)\n",
    "\n",
    "train_df[\"part_count\"] = train_df[\"part\"] ==7\n",
    "train_df[\"part_count\"] = train_df[\"part_count\"].astype(\"int8\")\n",
    "train_df['part_count_lag'] = train_df.groupby('user_id')[\"part_count\"].shift()\n",
    "part7_count_array = train_df.groupby('user_id')['part_count_lag'].agg(['cumsum']).values\n",
    "part7_count_array = part7_count_array[train_index] \n",
    "train_df.drop(columns=['part_count_lag', 'part_count'], inplace=True)"
   ]
  },
  {
   "cell_type": "code",
   "execution_count": 10,
   "metadata": {
    "execution": {
     "iopub.execute_input": "2020-12-05T06:07:01.421049Z",
     "iopub.status.busy": "2020-12-05T06:07:01.420113Z",
     "iopub.status.idle": "2020-12-05T06:07:53.293235Z",
     "shell.execute_reply": "2020-12-05T06:07:53.293897Z"
    },
    "papermill": {
     "duration": 51.915442,
     "end_time": "2020-12-05T06:07:53.294099",
     "exception": false,
     "start_time": "2020-12-05T06:07:01.378657",
     "status": "completed"
    },
    "tags": []
   },
   "outputs": [],
   "source": [
    "first_attempt_df = pd.read_csv(\"../input/riiid-additional-data/content_first_attempt.csv\")\n",
    "first_attempt_array = first_attempt_df.first_attempt.values\n",
    "train_df[\"first_attempt\"] = first_attempt_array\n",
    "unique_attempt_array= train_df.groupby(\"user_id\")[\"first_attempt\"].cumsum().values\n",
    "train_df[\"unique_attempt\"] = unique_attempt_array\n",
    "user_unique_agg = train_df.groupby('user_id')[\"unique_attempt\"].agg(['max'])\n",
    "user_unique_dict = user_unique_agg['max'].astype('int32').to_dict(defaultdict(int))\n",
    "\n",
    "first_attempt_array = first_attempt_array[train_index]\n",
    "unique_attempt_array = unique_attempt_array[train_index]\n",
    "train_df.drop(['first_attempt', 'unique_attempt'], axis=1, inplace=True)\n",
    "del first_attempt_df, user_unique_agg"
   ]
  },
  {
   "cell_type": "code",
   "execution_count": 11,
   "metadata": {
    "execution": {
     "iopub.execute_input": "2020-12-05T06:07:53.358155Z",
     "iopub.status.busy": "2020-12-05T06:07:53.357308Z",
     "iopub.status.idle": "2020-12-05T06:08:12.069969Z",
     "shell.execute_reply": "2020-12-05T06:08:12.069162Z"
    },
    "papermill": {
     "duration": 18.750938,
     "end_time": "2020-12-05T06:08:12.070100",
     "exception": false,
     "start_time": "2020-12-05T06:07:53.319162",
     "status": "completed"
    },
    "tags": []
   },
   "outputs": [],
   "source": [
    "user_agg = train_df.groupby('user_id')[target].agg(['sum', 'count'])\n",
    "content_agg = train_df.groupby('content_id')[target].agg(['sum', 'count'])\n",
    "\n",
    "user_sum_dict = user_agg['sum'].astype('int16').to_dict(defaultdict(int))\n",
    "user_count_dict = user_agg['count'].astype('int16').to_dict(defaultdict(int))\n",
    "content_sum_dict = content_agg['sum'].astype('int32').to_dict(defaultdict(int))\n",
    "content_count_dict = content_agg['count'].astype('int32').to_dict(defaultdict(int))\n",
    "\n",
    "content_count_array = train_df['content_id'].map(content_agg['count']).astype('int32').values\n",
    "content_id_array = train_df['content_id'].map(content_agg['sum'] / content_agg['count']).values\n",
    "content_count_array = content_count_array[train_index]\n",
    "content_id_array = content_id_array[train_index]\n",
    "\n",
    "del user_agg, content_agg"
   ]
  },
  {
   "cell_type": "code",
   "execution_count": 12,
   "metadata": {
    "execution": {
     "iopub.execute_input": "2020-12-05T06:08:12.128814Z",
     "iopub.status.busy": "2020-12-05T06:08:12.127875Z",
     "iopub.status.idle": "2020-12-05T06:10:45.374694Z",
     "shell.execute_reply": "2020-12-05T06:10:45.375383Z"
    },
    "papermill": {
     "duration": 153.280419,
     "end_time": "2020-12-05T06:10:45.375557",
     "exception": false,
     "start_time": "2020-12-05T06:08:12.095138",
     "status": "completed"
    },
    "tags": []
   },
   "outputs": [
    {
     "name": "stdout",
     "output_type": "stream",
     "text": [
      "CPU times: user 2min 29s, sys: 3.04 s, total: 2min 33s\n",
      "Wall time: 2min 33s\n"
     ]
    }
   ],
   "source": [
    "%%time\n",
    "user_content_agg = train_df.groupby(\"user_id\")[\"content_id\"].unique().reset_index().set_index(\"user_id\")\n",
    "\n",
    "value = []\n",
    "for j in user_content_agg.index:\n",
    "    a = bitarray(32737, endian='little')\n",
    "    a.setall(True)\n",
    "    for i in user_content_agg.loc[j][0]:\n",
    "        a[i] = 0\n",
    "    value.append(a)\n",
    "    \n",
    "user_content_agg[\"content_exp\"] = value\n",
    "\n",
    "user_content_dict = user_content_agg[\"content_exp\"].to_dict(defaultdict(make_bitarray))\n",
    "del user_content_agg"
   ]
  },
  {
   "cell_type": "code",
   "execution_count": 13,
   "metadata": {
    "execution": {
     "iopub.execute_input": "2020-12-05T06:10:45.434491Z",
     "iopub.status.busy": "2020-12-05T06:10:45.433464Z",
     "iopub.status.idle": "2020-12-05T06:10:55.600069Z",
     "shell.execute_reply": "2020-12-05T06:10:55.599287Z"
    },
    "papermill": {
     "duration": 10.19885,
     "end_time": "2020-12-05T06:10:55.600197",
     "exception": false,
     "start_time": "2020-12-05T06:10:45.401347",
     "status": "completed"
    },
    "tags": []
   },
   "outputs": [],
   "source": [
    "train_df[\"count\"] = 1\n",
    "count_array = train_df.groupby(\"user_id\")[\"count\"].cumsum().values\n",
    "count_array = count_array[train_index]\n",
    "train_df.drop(\"count\", axis=1, inplace=True)"
   ]
  },
  {
   "cell_type": "code",
   "execution_count": 14,
   "metadata": {
    "execution": {
     "iopub.execute_input": "2020-12-05T06:10:55.660018Z",
     "iopub.status.busy": "2020-12-05T06:10:55.658990Z",
     "iopub.status.idle": "2020-12-05T06:11:12.109724Z",
     "shell.execute_reply": "2020-12-05T06:11:12.108995Z"
    },
    "papermill": {
     "duration": 16.483709,
     "end_time": "2020-12-05T06:11:12.109881",
     "exception": false,
     "start_time": "2020-12-05T06:10:55.626172",
     "status": "completed"
    },
    "tags": []
   },
   "outputs": [],
   "source": [
    "train_df[\"count_inday\"] = 1\n",
    "count_inday_array = train_df.groupby([\"user_id\",\"timestamp\"])[\"count_inday\"].cumsum().values\n",
    "count_inday_array = count_inday_array[train_index]\n",
    "train_df.drop(\"count_inday\", axis=1, inplace=True)"
   ]
  },
  {
   "cell_type": "code",
   "execution_count": 15,
   "metadata": {
    "execution": {
     "iopub.execute_input": "2020-12-05T06:11:12.170175Z",
     "iopub.status.busy": "2020-12-05T06:11:12.169247Z",
     "iopub.status.idle": "2020-12-05T06:11:19.690462Z",
     "shell.execute_reply": "2020-12-05T06:11:19.689806Z"
    },
    "papermill": {
     "duration": 7.553606,
     "end_time": "2020-12-05T06:11:19.690586",
     "exception": false,
     "start_time": "2020-12-05T06:11:12.136980",
     "status": "completed"
    },
    "tags": []
   },
   "outputs": [],
   "source": [
    "train_df = train_df.groupby('user_id').tail(train_size).reset_index(drop=True)"
   ]
  },
  {
   "cell_type": "code",
   "execution_count": 16,
   "metadata": {
    "execution": {
     "iopub.execute_input": "2020-12-05T06:11:19.783636Z",
     "iopub.status.busy": "2020-12-05T06:11:19.780377Z",
     "iopub.status.idle": "2020-12-05T06:11:29.335319Z",
     "shell.execute_reply": "2020-12-05T06:11:29.335912Z"
    },
    "papermill": {
     "duration": 9.619184,
     "end_time": "2020-12-05T06:11:29.336083",
     "exception": false,
     "start_time": "2020-12-05T06:11:19.716899",
     "status": "completed"
    },
    "tags": []
   },
   "outputs": [],
   "source": [
    "train_df['content_count'] = content_count_array\n",
    "train_df['content_id'] = content_id_array\n",
    "train_df['user_correctness'] = user_correctness_array\n",
    "train_df['first_attempt'] = first_attempt_array\n",
    "train_df['count'] = count_array\n",
    "train_df['count_inday'] = count_inday_array\n",
    "train_df['unique_attempt'] = unique_attempt_array\n",
    "train_df['part1_count'] = part1_count_array\n",
    "train_df['part2_count'] = part2_count_array\n",
    "train_df['part3_count'] = part3_count_array\n",
    "train_df['part4_count'] = part4_count_array\n",
    "train_df['part5_count'] = part5_count_array\n",
    "train_df['part6_count'] = part6_count_array\n",
    "train_df['part7_count'] = part7_count_array\n",
    "    \n",
    "part1_count_agg = train_df.groupby('user_id')[\"part1_count\"].agg(['max'])\n",
    "part2_count_agg = train_df.groupby('user_id')[\"part2_count\"].agg(['max'])\n",
    "part3_count_agg = train_df.groupby('user_id')[\"part3_count\"].agg(['max'])\n",
    "part4_count_agg = train_df.groupby('user_id')[\"part4_count\"].agg(['max'])\n",
    "part5_count_agg = train_df.groupby('user_id')[\"part5_count\"].agg(['max'])\n",
    "part6_count_agg = train_df.groupby('user_id')[\"part6_count\"].agg(['max'])\n",
    "part7_count_agg = train_df.groupby('user_id')[\"part7_count\"].agg(['max'])\n",
    "part1_count_agg['max'].fillna(0,inplace=True)\n",
    "part2_count_agg['max'].fillna(0,inplace=True)\n",
    "part3_count_agg['max'].fillna(0,inplace=True)\n",
    "part4_count_agg['max'].fillna(0,inplace=True)\n",
    "part5_count_agg['max'].fillna(0,inplace=True)\n",
    "part6_count_agg['max'].fillna(0,inplace=True)\n",
    "part7_count_agg['max'].fillna(0,inplace=True)\n",
    "part1_count_dict = part1_count_agg['max'].astype('int32').to_dict(defaultdict(int))\n",
    "part2_count_dict = part2_count_agg['max'].astype('int32').to_dict(defaultdict(int))\n",
    "part3_count_dict = part3_count_agg['max'].astype('int32').to_dict(defaultdict(int))\n",
    "part4_count_dict = part4_count_agg['max'].astype('int32').to_dict(defaultdict(int))\n",
    "part5_count_dict = part5_count_agg['max'].astype('int32').to_dict(defaultdict(int))\n",
    "part6_count_dict = part6_count_agg['max'].astype('int32').to_dict(defaultdict(int))\n",
    "part7_count_dict = part7_count_agg['max'].astype('int32').to_dict(defaultdict(int))\n",
    "\n",
    "user_timestamp_dict = train_df.groupby(\"user_id\").tail(1)[\"timestamp\"].to_dict(defaultdict(int))\n",
    "user_count_inday_dict = train_df.groupby(\"user_id\").tail(1)[\"count_inday\"].to_dict(defaultdict(int))"
   ]
  },
  {
   "cell_type": "code",
   "execution_count": 17,
   "metadata": {
    "execution": {
     "iopub.execute_input": "2020-12-05T06:11:29.405387Z",
     "iopub.status.busy": "2020-12-05T06:11:29.404574Z",
     "iopub.status.idle": "2020-12-05T06:11:29.425650Z",
     "shell.execute_reply": "2020-12-05T06:11:29.424880Z"
    },
    "papermill": {
     "duration": 0.063548,
     "end_time": "2020-12-05T06:11:29.425804",
     "exception": false,
     "start_time": "2020-12-05T06:11:29.362256",
     "status": "completed"
    },
    "tags": []
   },
   "outputs": [
    {
     "data": {
      "text/html": [
       "<div>\n",
       "<style scoped>\n",
       "    .dataframe tbody tr th:only-of-type {\n",
       "        vertical-align: middle;\n",
       "    }\n",
       "\n",
       "    .dataframe tbody tr th {\n",
       "        vertical-align: top;\n",
       "    }\n",
       "\n",
       "    .dataframe thead th {\n",
       "        text-align: right;\n",
       "    }\n",
       "</style>\n",
       "<table border=\"1\" class=\"dataframe\">\n",
       "  <thead>\n",
       "    <tr style=\"text-align: right;\">\n",
       "      <th></th>\n",
       "      <th>timestamp</th>\n",
       "      <th>user_id</th>\n",
       "      <th>content_id</th>\n",
       "      <th>answered_correctly</th>\n",
       "      <th>prior_question_elapsed_time</th>\n",
       "      <th>prior_question_had_explanation</th>\n",
       "      <th>part</th>\n",
       "      <th>content_count</th>\n",
       "      <th>user_correctness</th>\n",
       "      <th>first_attempt</th>\n",
       "      <th>count</th>\n",
       "      <th>count_inday</th>\n",
       "      <th>unique_attempt</th>\n",
       "      <th>part1_count</th>\n",
       "      <th>part2_count</th>\n",
       "      <th>part3_count</th>\n",
       "      <th>part4_count</th>\n",
       "      <th>part5_count</th>\n",
       "      <th>part6_count</th>\n",
       "      <th>part7_count</th>\n",
       "    </tr>\n",
       "  </thead>\n",
       "  <tbody>\n",
       "    <tr>\n",
       "      <th>0</th>\n",
       "      <td>1</td>\n",
       "      <td>115</td>\n",
       "      <td>0.929730</td>\n",
       "      <td>1</td>\n",
       "      <td>17000.0</td>\n",
       "      <td>False</td>\n",
       "      <td>1</td>\n",
       "      <td>24107</td>\n",
       "      <td>1.0</td>\n",
       "      <td>True</td>\n",
       "      <td>7</td>\n",
       "      <td>7</td>\n",
       "      <td>7</td>\n",
       "      <td>4.0</td>\n",
       "      <td>0.0</td>\n",
       "      <td>0.0</td>\n",
       "      <td>0.0</td>\n",
       "      <td>2.0</td>\n",
       "      <td>0.0</td>\n",
       "      <td>0.0</td>\n",
       "    </tr>\n",
       "    <tr>\n",
       "      <th>1</th>\n",
       "      <td>1</td>\n",
       "      <td>115</td>\n",
       "      <td>0.918368</td>\n",
       "      <td>1</td>\n",
       "      <td>17000.0</td>\n",
       "      <td>False</td>\n",
       "      <td>1</td>\n",
       "      <td>21401</td>\n",
       "      <td>1.0</td>\n",
       "      <td>True</td>\n",
       "      <td>8</td>\n",
       "      <td>8</td>\n",
       "      <td>8</td>\n",
       "      <td>5.0</td>\n",
       "      <td>0.0</td>\n",
       "      <td>0.0</td>\n",
       "      <td>0.0</td>\n",
       "      <td>2.0</td>\n",
       "      <td>0.0</td>\n",
       "      <td>0.0</td>\n",
       "    </tr>\n",
       "    <tr>\n",
       "      <th>2</th>\n",
       "      <td>1</td>\n",
       "      <td>115</td>\n",
       "      <td>0.944852</td>\n",
       "      <td>1</td>\n",
       "      <td>16000.0</td>\n",
       "      <td>False</td>\n",
       "      <td>1</td>\n",
       "      <td>22086</td>\n",
       "      <td>1.0</td>\n",
       "      <td>True</td>\n",
       "      <td>9</td>\n",
       "      <td>9</td>\n",
       "      <td>9</td>\n",
       "      <td>6.0</td>\n",
       "      <td>0.0</td>\n",
       "      <td>0.0</td>\n",
       "      <td>0.0</td>\n",
       "      <td>2.0</td>\n",
       "      <td>0.0</td>\n",
       "      <td>0.0</td>\n",
       "    </tr>\n",
       "    <tr>\n",
       "      <th>3</th>\n",
       "      <td>1</td>\n",
       "      <td>115</td>\n",
       "      <td>0.895253</td>\n",
       "      <td>1</td>\n",
       "      <td>16000.0</td>\n",
       "      <td>False</td>\n",
       "      <td>1</td>\n",
       "      <td>48307</td>\n",
       "      <td>1.0</td>\n",
       "      <td>True</td>\n",
       "      <td>10</td>\n",
       "      <td>10</td>\n",
       "      <td>10</td>\n",
       "      <td>7.0</td>\n",
       "      <td>0.0</td>\n",
       "      <td>0.0</td>\n",
       "      <td>0.0</td>\n",
       "      <td>2.0</td>\n",
       "      <td>0.0</td>\n",
       "      <td>0.0</td>\n",
       "    </tr>\n",
       "    <tr>\n",
       "      <th>4</th>\n",
       "      <td>1</td>\n",
       "      <td>115</td>\n",
       "      <td>0.882571</td>\n",
       "      <td>0</td>\n",
       "      <td>17000.0</td>\n",
       "      <td>False</td>\n",
       "      <td>1</td>\n",
       "      <td>22422</td>\n",
       "      <td>1.0</td>\n",
       "      <td>True</td>\n",
       "      <td>11</td>\n",
       "      <td>11</td>\n",
       "      <td>11</td>\n",
       "      <td>8.0</td>\n",
       "      <td>0.0</td>\n",
       "      <td>0.0</td>\n",
       "      <td>0.0</td>\n",
       "      <td>2.0</td>\n",
       "      <td>0.0</td>\n",
       "      <td>0.0</td>\n",
       "    </tr>\n",
       "  </tbody>\n",
       "</table>\n",
       "</div>"
      ],
      "text/plain": [
       "   timestamp  user_id  content_id  answered_correctly  \\\n",
       "0          1      115    0.929730                   1   \n",
       "1          1      115    0.918368                   1   \n",
       "2          1      115    0.944852                   1   \n",
       "3          1      115    0.895253                   1   \n",
       "4          1      115    0.882571                   0   \n",
       "\n",
       "   prior_question_elapsed_time  prior_question_had_explanation  part  \\\n",
       "0                      17000.0                           False     1   \n",
       "1                      17000.0                           False     1   \n",
       "2                      16000.0                           False     1   \n",
       "3                      16000.0                           False     1   \n",
       "4                      17000.0                           False     1   \n",
       "\n",
       "   content_count  user_correctness  first_attempt  count  count_inday  \\\n",
       "0          24107               1.0           True      7            7   \n",
       "1          21401               1.0           True      8            8   \n",
       "2          22086               1.0           True      9            9   \n",
       "3          48307               1.0           True     10           10   \n",
       "4          22422               1.0           True     11           11   \n",
       "\n",
       "   unique_attempt  part1_count  part2_count  part3_count  part4_count  \\\n",
       "0               7          4.0          0.0          0.0          0.0   \n",
       "1               8          5.0          0.0          0.0          0.0   \n",
       "2               9          6.0          0.0          0.0          0.0   \n",
       "3              10          7.0          0.0          0.0          0.0   \n",
       "4              11          8.0          0.0          0.0          0.0   \n",
       "\n",
       "   part5_count  part6_count  part7_count  \n",
       "0          2.0          0.0          0.0  \n",
       "1          2.0          0.0          0.0  \n",
       "2          2.0          0.0          0.0  \n",
       "3          2.0          0.0          0.0  \n",
       "4          2.0          0.0          0.0  "
      ]
     },
     "execution_count": 17,
     "metadata": {},
     "output_type": "execute_result"
    }
   ],
   "source": [
    "train_df.head()"
   ]
  },
  {
   "cell_type": "code",
   "execution_count": 18,
   "metadata": {
    "execution": {
     "iopub.execute_input": "2020-12-05T06:11:29.488991Z",
     "iopub.status.busy": "2020-12-05T06:11:29.488006Z",
     "iopub.status.idle": "2020-12-05T06:11:29.491872Z",
     "shell.execute_reply": "2020-12-05T06:11:29.491047Z"
    },
    "papermill": {
     "duration": 0.039292,
     "end_time": "2020-12-05T06:11:29.492001",
     "exception": false,
     "start_time": "2020-12-05T06:11:29.452709",
     "status": "completed"
    },
    "tags": []
   },
   "outputs": [],
   "source": [
    "if FULL_TRAIN == False:\n",
    "    valid_df = train_df.groupby('user_id').tail(valid_size)\n",
    "    train_df.drop(valid_df.index, inplace=True)"
   ]
  },
  {
   "cell_type": "code",
   "execution_count": 19,
   "metadata": {
    "execution": {
     "iopub.execute_input": "2020-12-05T06:11:29.552890Z",
     "iopub.status.busy": "2020-12-05T06:11:29.552100Z",
     "iopub.status.idle": "2020-12-05T06:11:29.555990Z",
     "shell.execute_reply": "2020-12-05T06:11:29.556963Z"
    },
    "papermill": {
     "duration": 0.038146,
     "end_time": "2020-12-05T06:11:29.557181",
     "exception": false,
     "start_time": "2020-12-05T06:11:29.519035",
     "status": "completed"
    },
    "tags": []
   },
   "outputs": [
    {
     "name": "stdout",
     "output_type": "stream",
     "text": [
      "(12942217, 20)\n"
     ]
    }
   ],
   "source": [
    "if FULL_TRAIN:\n",
    "    print(train_df.shape)\n",
    "else:\n",
    "    print(train_df.shape, valid_df.shape)"
   ]
  },
  {
   "cell_type": "markdown",
   "metadata": {
    "papermill": {
     "duration": 0.027536,
     "end_time": "2020-12-05T06:11:29.613275",
     "exception": false,
     "start_time": "2020-12-05T06:11:29.585739",
     "status": "completed"
    },
    "tags": []
   },
   "source": [
    "# Train"
   ]
  },
  {
   "cell_type": "code",
   "execution_count": 20,
   "metadata": {
    "execution": {
     "iopub.execute_input": "2020-12-05T06:11:29.740384Z",
     "iopub.status.busy": "2020-12-05T06:11:29.739206Z",
     "iopub.status.idle": "2020-12-05T06:11:29.743262Z",
     "shell.execute_reply": "2020-12-05T06:11:29.744013Z"
    },
    "papermill": {
     "duration": 0.10292,
     "end_time": "2020-12-05T06:11:29.744188",
     "exception": false,
     "start_time": "2020-12-05T06:11:29.641268",
     "status": "completed"
    },
    "tags": []
   },
   "outputs": [
    {
     "name": "stdout",
     "output_type": "stream",
     "text": [
      "18\n"
     ]
    }
   ],
   "source": [
    "features = [\n",
    "    'content_id',\n",
    "    'prior_question_elapsed_time',\n",
    "    'prior_question_had_explanation',\n",
    "    'user_correctness',\n",
    "    'part',\n",
    "    'content_count',\n",
    "    'count',\n",
    "    'first_attempt',\n",
    "    'timestamp', #?\n",
    "    'count_inday', #?\n",
    "    'unique_attempt', #?\n",
    "    'part1_count',\n",
    "    'part2_count',\n",
    "    'part3_count',\n",
    "    'part4_count',\n",
    "    'part5_count',\n",
    "    'part6_count',\n",
    "    'part7_count',\n",
    "]\n",
    "\n",
    "params = {\n",
    "    'objective': 'binary',\n",
    "    'seed': 42,\n",
    "    'metric': 'auc',\n",
    "    'learning_rate': 0.05,\n",
    "    'max_bin': 800,\n",
    "    'num_leaves': 80\n",
    "}\n",
    "print(len(features))"
   ]
  },
  {
   "cell_type": "code",
   "execution_count": 21,
   "metadata": {
    "execution": {
     "iopub.execute_input": "2020-12-05T06:11:29.819149Z",
     "iopub.status.busy": "2020-12-05T06:11:29.817576Z",
     "iopub.status.idle": "2020-12-05T06:54:48.181964Z",
     "shell.execute_reply": "2020-12-05T06:54:48.183577Z"
    },
    "papermill": {
     "duration": 2598.411271,
     "end_time": "2020-12-05T06:54:48.184185",
     "exception": false,
     "start_time": "2020-12-05T06:11:29.772914",
     "status": "completed"
    },
    "tags": []
   },
   "outputs": [
    {
     "name": "stdout",
     "output_type": "stream",
     "text": [
      "Full training starts\n"
     ]
    }
   ],
   "source": [
    "if FULL_TRAIN:\n",
    "    X_train = np.ndarray(shape=(train_df.shape[0], len(features)), dtype=np.float32)\n",
    "    y_train = np.ndarray(shape=(train_df.shape[0], 1), dtype=np.float32)\n",
    "    for idx, feature in enumerate(features):\n",
    "        X_train[:,idx] = train_df[feature].values.astype(np.float32)\n",
    "    y_train = train_df[target].values.astype(np.float32)\n",
    "    del train_df\n",
    "    tr_data = lgb.Dataset(X_train, label=y_train)\n",
    "    print(\"Full training starts\")\n",
    "    model = lgb.train(\n",
    "        params, \n",
    "        tr_data, \n",
    "        num_boost_round=3500,\n",
    "        valid_sets=None, \n",
    "        )\n",
    "else:\n",
    "    tr_data = lgb.Dataset(train_df[features], label=train_df[target])\n",
    "    va_data = lgb.Dataset(valid_df[features], label=valid_df[target])\n",
    "\n",
    "    model = lgb.train(\n",
    "        params, \n",
    "        tr_data, \n",
    "        num_boost_round=10000,\n",
    "        valid_sets=[tr_data, va_data], \n",
    "        early_stopping_rounds=40,\n",
    "        verbose_eval=50\n",
    "        )\n",
    "    #lgb.plot_importance(model, importance_type='gain')\n",
    "    #plt.show()"
   ]
  },
  {
   "cell_type": "markdown",
   "metadata": {
    "papermill": {
     "duration": 0.037977,
     "end_time": "2020-12-05T06:54:48.292690",
     "exception": false,
     "start_time": "2020-12-05T06:54:48.254713",
     "status": "completed"
    },
    "tags": []
   },
   "source": [
    "# Inference"
   ]
  },
  {
   "cell_type": "code",
   "execution_count": 22,
   "metadata": {
    "execution": {
     "iopub.execute_input": "2020-12-05T06:54:48.372423Z",
     "iopub.status.busy": "2020-12-05T06:54:48.371281Z",
     "iopub.status.idle": "2020-12-05T06:54:48.376497Z",
     "shell.execute_reply": "2020-12-05T06:54:48.377435Z"
    },
    "papermill": {
     "duration": 0.053847,
     "end_time": "2020-12-05T06:54:48.377668",
     "exception": false,
     "start_time": "2020-12-05T06:54:48.323821",
     "status": "completed"
    },
    "tags": []
   },
   "outputs": [],
   "source": [
    "env = riiideducation.make_env()\n",
    "iter_test = env.iter_test()\n",
    "prior_test_df = None"
   ]
  },
  {
   "cell_type": "code",
   "execution_count": 23,
   "metadata": {
    "execution": {
     "iopub.execute_input": "2020-12-05T06:54:48.487942Z",
     "iopub.status.busy": "2020-12-05T06:54:48.486592Z",
     "iopub.status.idle": "2020-12-05T06:54:49.535033Z",
     "shell.execute_reply": "2020-12-05T06:54:49.534227Z"
    },
    "papermill": {
     "duration": 1.120843,
     "end_time": "2020-12-05T06:54:49.535186",
     "exception": false,
     "start_time": "2020-12-05T06:54:48.414343",
     "status": "completed"
    },
    "tags": []
   },
   "outputs": [
    {
     "name": "stdout",
     "output_type": "stream",
     "text": [
      "CPU times: user 1.15 s, sys: 127 ms, total: 1.28 s\n",
      "Wall time: 1.05 s\n"
     ]
    }
   ],
   "source": [
    "%%time\n",
    "\n",
    "for (test_df, sample_prediction_df) in iter_test:\n",
    "    if prior_test_df is not None:\n",
    "        prior_test_df[target] = eval(test_df['prior_group_answers_correct'].iloc[0])\n",
    "        prior_test_df = prior_test_df[prior_test_df[target] != -1].reset_index(drop=True)\n",
    "        \n",
    "        user_ids = prior_test_df['user_id'].values\n",
    "        content_ids = prior_test_df['content_id'].values\n",
    "        targets = prior_test_df[target].values\n",
    "        parts = prior_part_arrays\n",
    "        prior_first_attempts = prior_f_attempt_arrays\n",
    "        \n",
    "        for user_id, content_id, answered_correctly, part, first_attempt_ornot in zip(user_ids, content_ids, targets, parts, prior_first_attempts):\n",
    "            user_sum_dict[user_id] += answered_correctly\n",
    "            user_count_dict[user_id] += 1\n",
    "            content_sum_dict[content_id] += answered_correctly\n",
    "            content_count_dict[content_id] += 1\n",
    "            if part == 1:\n",
    "                part1_count_dict[user_id] +=1\n",
    "            elif part == 2:\n",
    "                part2_count_dict[user_id] +=1\n",
    "            elif part == 3:\n",
    "                part3_count_dict[user_id] +=1\n",
    "            elif part == 4:\n",
    "                part4_count_dict[user_id] +=1\n",
    "            elif part == 5:\n",
    "                part5_count_dict[user_id] +=1\n",
    "            elif part == 6:\n",
    "                part6_count_dict[user_id] +=1\n",
    "            else:\n",
    "                part7_count_dict[user_id] +=1\n",
    "            user_unique_dict[user_id] += first_attempt_ornot\n",
    "\n",
    "    prior_test_df = test_df.copy()\n",
    "    \n",
    "    test_df = test_df[test_df['content_type_id'] == 0].reset_index(drop=True)\n",
    "    test_df = pd.merge(test_df, questions_df, left_on='content_id', right_on='question_id', how='left', right_index=True).reset_index(drop=True)\n",
    "    test_df['prior_question_had_explanation'] = test_df['prior_question_had_explanation'].fillna(False).astype('bool')    \n",
    "    test_df['timestamp'] = (test_df['timestamp'] // 86400000) + 1\n",
    "    \n",
    "    prior_part_arrays = test_df['part'].values\n",
    "    \n",
    "    user_sum = np.zeros(len(test_df), dtype=np.int16)\n",
    "    user_count = np.zeros(len(test_df), dtype=np.int16)\n",
    "    content_sum = np.zeros(len(test_df), dtype=np.int32)\n",
    "    content_count = np.zeros(len(test_df), dtype=np.int32)\n",
    "    part1_count = np.zeros(len(test_df), dtype=np.int32)\n",
    "    part2_count = np.zeros(len(test_df), dtype=np.int32)\n",
    "    part3_count = np.zeros(len(test_df), dtype=np.int32)\n",
    "    part4_count = np.zeros(len(test_df), dtype=np.int32)\n",
    "    part5_count = np.zeros(len(test_df), dtype=np.int32)\n",
    "    part6_count = np.zeros(len(test_df), dtype=np.int32)\n",
    "    part7_count = np.zeros(len(test_df), dtype=np.int32)\n",
    "    user_count_inday = np.zeros(len(test_df), dtype=np.int32)\n",
    "    first_attempt_values = []\n",
    "    user_unique_count = np.zeros(len(test_df), dtype=np.int32)\n",
    "    \n",
    "    for i, (user_id, content_id, timestamp) in enumerate(zip(test_df['user_id'].values, test_df['content_id'].values, test_df['timestamp'].values)):\n",
    "        user_sum[i] = user_sum_dict[user_id]\n",
    "        user_count[i] = user_count_dict[user_id]\n",
    "        content_sum[i] = content_sum_dict[content_id]\n",
    "        content_count[i] = content_count_dict[content_id]\n",
    "        part1_count[i] = part1_count_dict[user_id]\n",
    "        part2_count[i] = part2_count_dict[user_id]\n",
    "        part3_count[i] = part3_count_dict[user_id]\n",
    "        part4_count[i] = part4_count_dict[user_id]\n",
    "        part5_count[i] = part5_count_dict[user_id]\n",
    "        part6_count[i] = part6_count_dict[user_id]\n",
    "        part7_count[i] = part7_count_dict[user_id]\n",
    "        first_attempt_values.append(user_content_dict[user_id][content_id])\n",
    "        user_content_dict[user_id][content_id] = False \n",
    "        if user_timestamp_dict[user_id] == timestamp:\n",
    "            user_count_inday_dict[user_id] += 1\n",
    "        else:\n",
    "            user_count_inday_dict[user_id] = 1\n",
    "            user_timestamp_dict[user_id] = timestamp\n",
    "        user_count_inday[i] = user_count_inday_dict[user_id]\n",
    "        user_unique_count[i] = user_unique_dict[user_id]\n",
    "            \n",
    "    test_df['user_correctness'] = user_sum / user_count\n",
    "    test_df['content_count'] = content_count\n",
    "    test_df['content_id'] = content_sum / content_count\n",
    "    test_df['count'] = 1\n",
    "    test_df['count'] = test_df.groupby(\"user_id\")[\"count\"].cumsum()\n",
    "    test_df['count'] += user_count\n",
    "    test_df['part1_count'] = part1_count\n",
    "    test_df['part2_count'] = part2_count\n",
    "    test_df['part3_count'] = part3_count\n",
    "    test_df['part4_count'] = part4_count\n",
    "    test_df['part5_count'] = part5_count\n",
    "    test_df['part6_count'] = part6_count\n",
    "    test_df['part7_count'] = part7_count\n",
    "    test_df[\"first_attempt\"] = first_attempt_values\n",
    "    test_df['count_inday'] = user_count_inday\n",
    "    test_df[\"unique_attempt\"] = test_df.groupby(\"user_id\")[\"first_attempt\"].cumsum()\n",
    "    test_df[\"unique_attempt\"] += user_unique_count\n",
    "\n",
    "    prior_f_attempt_arrays = test_df['first_attempt'].values\n",
    "    if FULL_TRAIN:\n",
    "        X_test = np.ndarray(shape=(test_df.shape[0], len(features)), dtype=np.float32)\n",
    "        for idx, feature in enumerate(features):\n",
    "            X_test[:,idx] = test_df[feature].values.astype(np.float32)\n",
    "        test_df[target] = model.predict(X_test)    \n",
    "    else:\n",
    "        test_df[target] = model.predict(test_df[features])\n",
    "    env.predict(test_df[['row_id', target]])"
   ]
  },
  {
   "cell_type": "code",
   "execution_count": null,
   "metadata": {
    "papermill": {
     "duration": 0.029533,
     "end_time": "2020-12-05T06:54:49.594711",
     "exception": false,
     "start_time": "2020-12-05T06:54:49.565178",
     "status": "completed"
    },
    "tags": []
   },
   "outputs": [],
   "source": []
  }
 ],
 "metadata": {
  "kernelspec": {
   "display_name": "Python 3",
   "language": "python",
   "name": "python3"
  },
  "language_info": {
   "codemirror_mode": {
    "name": "ipython",
    "version": 3
   },
   "file_extension": ".py",
   "mimetype": "text/x-python",
   "name": "python",
   "nbconvert_exporter": "python",
   "pygments_lexer": "ipython3",
   "version": "3.7.6"
  },
  "papermill": {
   "duration": 3386.854029,
   "end_time": "2020-12-05T06:54:49.937860",
   "environment_variables": {},
   "exception": null,
   "input_path": "__notebook__.ipynb",
   "output_path": "__notebook__.ipynb",
   "parameters": {},
   "start_time": "2020-12-05T05:58:23.083831",
   "version": "2.1.0"
  }
 },
 "nbformat": 4,
 "nbformat_minor": 4
}
