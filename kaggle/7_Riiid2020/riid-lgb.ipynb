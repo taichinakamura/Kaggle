{
 "cells": [
  {
   "cell_type": "markdown",
   "metadata": {
    "papermill": {
     "duration": 0.018904,
     "end_time": "2020-11-27T06:31:46.942364",
     "exception": false,
     "start_time": "2020-11-27T06:31:46.923460",
     "status": "completed"
    },
    "tags": []
   },
   "source": [
    "- add user_id\n",
    "- change learning rate"
   ]
  },
  {
   "cell_type": "code",
   "execution_count": 1,
   "metadata": {
    "_cell_guid": "b1076dfc-b9ad-4769-8c92-a6c4dae69d19",
    "_uuid": "8f2839f25d086af736a60e9eeb907d3b93b6e0e5",
    "execution": {
     "iopub.execute_input": "2020-11-27T06:31:46.991968Z",
     "iopub.status.busy": "2020-11-27T06:31:46.990946Z",
     "iopub.status.idle": "2020-11-27T06:31:48.389092Z",
     "shell.execute_reply": "2020-11-27T06:31:48.388118Z"
    },
    "papermill": {
     "duration": 1.430024,
     "end_time": "2020-11-27T06:31:48.389301",
     "exception": false,
     "start_time": "2020-11-27T06:31:46.959277",
     "status": "completed"
    },
    "tags": []
   },
   "outputs": [
    {
     "name": "stderr",
     "output_type": "stream",
     "text": [
      "/opt/conda/lib/python3.7/site-packages/ipykernel_launcher.py:17: TqdmDeprecationWarning: This function will be removed in tqdm==5.0.0\n",
      "Please use `tqdm.notebook.*` instead of `tqdm._tqdm_notebook.*`\n"
     ]
    }
   ],
   "source": [
    "import sys\n",
    "import copy\n",
    "import random\n",
    "import feather\n",
    "import warnings\n",
    "import numpy as np\n",
    "import pandas as pd\n",
    "from time import time\n",
    "import lightgbm as lgb\n",
    "from collections import Counter\n",
    "from sklearn import preprocessing\n",
    "from collections import defaultdict\n",
    "from tqdm import tqdm_notebook as tqdm\n",
    "from sklearn.model_selection import GroupKFold\n",
    "from sklearn.metrics import roc_auc_score\n",
    "import matplotlib.pyplot as plt \n",
    "from tqdm._tqdm_notebook import tqdm_notebook\n",
    "\n",
    "import riiideducation\n",
    "warnings.filterwarnings(\"ignore\")\n",
    "tqdm_notebook.pandas(desc=\"progress: \")"
   ]
  },
  {
   "cell_type": "code",
   "execution_count": 2,
   "metadata": {
    "_cell_guid": "79c7e3d0-c299-4dcb-8224-4455121ee9b0",
    "_uuid": "d629ff2d2480ee46fbb7e2d37f6b5fab8052498a",
    "execution": {
     "iopub.execute_input": "2020-11-27T06:31:48.439797Z",
     "iopub.status.busy": "2020-11-27T06:31:48.438633Z",
     "iopub.status.idle": "2020-11-27T06:31:56.606130Z",
     "shell.execute_reply": "2020-11-27T06:31:56.605510Z"
    },
    "papermill": {
     "duration": 8.19867,
     "end_time": "2020-11-27T06:31:56.606306",
     "exception": false,
     "start_time": "2020-11-27T06:31:48.407636",
     "status": "completed"
    },
    "tags": []
   },
   "outputs": [],
   "source": [
    "DIR = \"../input/riiid-test-answer-prediction/\"\n",
    "train = pd.read_feather(\"../input/riid-train/train.feather\")\n",
    "lectures = pd.read_csv(DIR+\"lectures.csv\")\n",
    "questions = pd.read_csv(DIR+\"questions.csv\")"
   ]
  },
  {
   "cell_type": "code",
   "execution_count": 3,
   "metadata": {
    "execution": {
     "iopub.execute_input": "2020-11-27T06:31:56.659561Z",
     "iopub.status.busy": "2020-11-27T06:31:56.658451Z",
     "iopub.status.idle": "2020-11-27T06:31:56.662785Z",
     "shell.execute_reply": "2020-11-27T06:31:56.662132Z"
    },
    "papermill": {
     "duration": 0.037867,
     "end_time": "2020-11-27T06:31:56.662912",
     "exception": false,
     "start_time": "2020-11-27T06:31:56.625045",
     "status": "completed"
    },
    "tags": []
   },
   "outputs": [],
   "source": [
    "lecture_id = list(lectures.lecture_id.unique())\n",
    "lectures['type_of'] = lectures['type_of'].replace('solving question', 'solving_question')\n",
    "lectures = pd.get_dummies(lectures, columns=['type_of'])\n",
    "\n",
    "types_columns = [column for column in lectures.columns if column.startswith('type_of_')]"
   ]
  },
  {
   "cell_type": "code",
   "execution_count": 4,
   "metadata": {
    "execution": {
     "iopub.execute_input": "2020-11-27T06:31:56.706539Z",
     "iopub.status.busy": "2020-11-27T06:31:56.705692Z",
     "iopub.status.idle": "2020-11-27T06:31:56.712679Z",
     "shell.execute_reply": "2020-11-27T06:31:56.711914Z"
    },
    "papermill": {
     "duration": 0.032207,
     "end_time": "2020-11-27T06:31:56.712804",
     "exception": false,
     "start_time": "2020-11-27T06:31:56.680597",
     "status": "completed"
    },
    "tags": []
   },
   "outputs": [
    {
     "data": {
      "text/plain": [
       "(101230332, 10)"
      ]
     },
     "execution_count": 4,
     "metadata": {},
     "output_type": "execute_result"
    }
   ],
   "source": [
    "train.shape"
   ]
  },
  {
   "cell_type": "markdown",
   "metadata": {
    "papermill": {
     "duration": 0.01874,
     "end_time": "2020-11-27T06:31:56.749774",
     "exception": false,
     "start_time": "2020-11-27T06:31:56.731034",
     "status": "completed"
    },
    "tags": []
   },
   "source": [
    "# preprocess"
   ]
  },
  {
   "cell_type": "code",
   "execution_count": 5,
   "metadata": {
    "execution": {
     "iopub.execute_input": "2020-11-27T06:31:56.802571Z",
     "iopub.status.busy": "2020-11-27T06:31:56.801714Z",
     "iopub.status.idle": "2020-11-27T06:34:21.965465Z",
     "shell.execute_reply": "2020-11-27T06:34:21.966058Z"
    },
    "papermill": {
     "duration": 145.197699,
     "end_time": "2020-11-27T06:34:21.966298",
     "exception": false,
     "start_time": "2020-11-27T06:31:56.768599",
     "status": "completed"
    },
    "tags": []
   },
   "outputs": [],
   "source": [
    "# executed in advance\n",
    "train = train.sort_values(['user_id', 'timestamp']).reset_index(drop=True)\n",
    "train.drop([\"user_answer\", \"timestamp\"], axis=1, inplace=True)\n",
    "\n",
    "user_try_count = train.groupby(\"user_id\")[\"row_id\"].count().reset_index()\n",
    "user_try_count.columns = [\"user_id\", \"max_count\"]\n",
    "\n",
    "train.drop([\"row_id\", 'task_container_id'], axis=1, inplace=True)"
   ]
  },
  {
   "cell_type": "code",
   "execution_count": 6,
   "metadata": {
    "execution": {
     "iopub.execute_input": "2020-11-27T06:34:22.022755Z",
     "iopub.status.busy": "2020-11-27T06:34:22.021868Z",
     "iopub.status.idle": "2020-11-27T06:34:58.261646Z",
     "shell.execute_reply": "2020-11-27T06:34:58.260775Z"
    },
    "papermill": {
     "duration": 36.27389,
     "end_time": "2020-11-27T06:34:58.261795",
     "exception": false,
     "start_time": "2020-11-27T06:34:21.987905",
     "status": "completed"
    },
    "tags": []
   },
   "outputs": [
    {
     "name": "stdout",
     "output_type": "stream",
     "text": [
      "consider lecture data\n",
      "remove lecture data\n",
      "merge question data\n",
      "groupby calculation\n"
     ]
    }
   ],
   "source": [
    "print(\"consider lecture data\")\n",
    "#user_lec_df = train.groupby('user_id').agg({'content_type_id': ['mean']}).copy()\n",
    "#user_lec_df.columns = [\"lec_ratio\"]\n",
    "\n",
    "#train[\"lec\"] = train.groupby([\"user_id\"])['content_type_id'].progress_apply(lambda x: x.shift(1))\n",
    "#train.drop([\"content_type_id\"], axis=1, inplace=True)\n",
    "\n",
    "#train = train.merge(lectures[[\"lecture_id\"]+types_columns], how=\"left\", left_on=['content_id'], right_on=['lecture_id']).drop(columns='lecture_id')\n",
    "#user_lec_type = train.groupby(\"user_id\").agg(\"mean\")[types_columns]\n",
    "#user_lec_type = user_lec_type.fillna(0)\n",
    "\n",
    "print(\"remove lecture data\")\n",
    "train = train.loc[train['answered_correctly'] != -1].reset_index(drop=True)\n",
    "\n",
    "print(\"merge question data\")\n",
    "# https://stackoverflow.com/questions/25888207/pandas-join-dataframes-on-field-with-different-names\n",
    "train = train.merge(questions[[\"question_id\", \"part\"]], how=\"left\", left_on=['content_id'], right_on=['question_id'], right_index=True).reset_index(drop=True)\n",
    "train.drop([\"question_id\"], axis=1, inplace=True)\n",
    "\n",
    "print(\"groupby calculation\")\n",
    "user_answers_df = train.groupby('user_id').agg({'answered_correctly': ['mean']}).copy()\n",
    "user_answers_df.columns = [\"acc_before_ans\"]\n",
    "\n",
    "#user_answers_past2 = pd.DataFrame(train.groupby(\"user_id\").tail(2).groupby(\"user_id\").agg(\"mean\")[\"answered_correctly\"])\n",
    "#user_answers_past2.columns = [\"mean_of_last_2_answered_correctly_by_user_id\"]\n",
    "#user_answers_past3 = pd.DataFrame(train.groupby(\"user_id\").tail(3).groupby(\"user_id\").agg(\"mean\")[\"answered_correctly\"])\n",
    "#user_answers_past3.columns = [\"mean_of_last_3_answered_correctly_by_user_id\"]\n",
    "\n",
    "#user_part_accuracy = train.groupby(['user_id', 'part']).agg({'answered_correctly': ['mean']}).copy().unstack()\n",
    "#user_part_accuracy.columns = [\"part1_acc\", \"part2_acc\", \"part3_acc\", \"part4_acc\", \"part5_acc\", \"part6_acc\", \"part7_acc\"]\n",
    "\n",
    "#user_lec_ratio = train.groupby(['user_id']).agg({'lec': ['mean']}).copy()\n",
    "#user_lec_ratio.columns = [\"lec\"]\n",
    "\n",
    "freq = train[\"user_id\"].value_counts()\n",
    "    \n",
    "mean_accuracy_by_part = np.array([0.74503238, 0.70869406, 0.70145593, 0.63099758, 0.61008792, 0.66938835, 0.65960112])"
   ]
  },
  {
   "cell_type": "code",
   "execution_count": 7,
   "metadata": {
    "execution": {
     "iopub.execute_input": "2020-11-27T06:34:58.309001Z",
     "iopub.status.busy": "2020-11-27T06:34:58.308246Z",
     "iopub.status.idle": "2020-11-27T06:35:01.949387Z",
     "shell.execute_reply": "2020-11-27T06:35:01.948661Z"
    },
    "papermill": {
     "duration": 3.667626,
     "end_time": "2020-11-27T06:35:01.949528",
     "exception": false,
     "start_time": "2020-11-27T06:34:58.281902",
     "status": "completed"
    },
    "tags": []
   },
   "outputs": [],
   "source": [
    "tmp = train.groupby(\"content_id\")[\"answered_correctly\"].mean().reset_index()\n",
    "difficult_content = list(tmp[tmp.answered_correctly<0.3][\"content_id\"])\n",
    "del tmp"
   ]
  },
  {
   "cell_type": "code",
   "execution_count": 8,
   "metadata": {
    "execution": {
     "iopub.execute_input": "2020-11-27T06:35:01.996426Z",
     "iopub.status.busy": "2020-11-27T06:35:01.995548Z",
     "iopub.status.idle": "2020-11-27T06:35:02.777913Z",
     "shell.execute_reply": "2020-11-27T06:35:02.776988Z"
    },
    "papermill": {
     "duration": 0.808068,
     "end_time": "2020-11-27T06:35:02.778064",
     "exception": false,
     "start_time": "2020-11-27T06:35:01.969996",
     "status": "completed"
    },
    "tags": []
   },
   "outputs": [
    {
     "name": "stdout",
     "output_type": "stream",
     "text": [
      "(99271300, 7) 393656\n"
     ]
    },
    {
     "data": {
      "text/html": [
       "<div>\n",
       "<style scoped>\n",
       "    .dataframe tbody tr th:only-of-type {\n",
       "        vertical-align: middle;\n",
       "    }\n",
       "\n",
       "    .dataframe tbody tr th {\n",
       "        vertical-align: top;\n",
       "    }\n",
       "\n",
       "    .dataframe thead th {\n",
       "        text-align: right;\n",
       "    }\n",
       "</style>\n",
       "<table border=\"1\" class=\"dataframe\">\n",
       "  <thead>\n",
       "    <tr style=\"text-align: right;\">\n",
       "      <th></th>\n",
       "      <th>user_id</th>\n",
       "      <th>content_id</th>\n",
       "      <th>content_type_id</th>\n",
       "      <th>answered_correctly</th>\n",
       "      <th>prior_question_elapsed_time</th>\n",
       "      <th>prior_question_had_explanation</th>\n",
       "      <th>part</th>\n",
       "    </tr>\n",
       "  </thead>\n",
       "  <tbody>\n",
       "    <tr>\n",
       "      <th>0</th>\n",
       "      <td>115</td>\n",
       "      <td>5692</td>\n",
       "      <td>0</td>\n",
       "      <td>1</td>\n",
       "      <td>4294967295</td>\n",
       "      <td>None</td>\n",
       "      <td>5</td>\n",
       "    </tr>\n",
       "    <tr>\n",
       "      <th>1</th>\n",
       "      <td>115</td>\n",
       "      <td>5716</td>\n",
       "      <td>0</td>\n",
       "      <td>1</td>\n",
       "      <td>37000</td>\n",
       "      <td>False</td>\n",
       "      <td>5</td>\n",
       "    </tr>\n",
       "    <tr>\n",
       "      <th>2</th>\n",
       "      <td>115</td>\n",
       "      <td>128</td>\n",
       "      <td>0</td>\n",
       "      <td>1</td>\n",
       "      <td>55000</td>\n",
       "      <td>False</td>\n",
       "      <td>1</td>\n",
       "    </tr>\n",
       "    <tr>\n",
       "      <th>3</th>\n",
       "      <td>115</td>\n",
       "      <td>7860</td>\n",
       "      <td>0</td>\n",
       "      <td>1</td>\n",
       "      <td>19000</td>\n",
       "      <td>False</td>\n",
       "      <td>1</td>\n",
       "    </tr>\n",
       "    <tr>\n",
       "      <th>4</th>\n",
       "      <td>115</td>\n",
       "      <td>7922</td>\n",
       "      <td>0</td>\n",
       "      <td>1</td>\n",
       "      <td>11000</td>\n",
       "      <td>False</td>\n",
       "      <td>1</td>\n",
       "    </tr>\n",
       "    <tr>\n",
       "      <th>5</th>\n",
       "      <td>115</td>\n",
       "      <td>156</td>\n",
       "      <td>0</td>\n",
       "      <td>1</td>\n",
       "      <td>5000</td>\n",
       "      <td>False</td>\n",
       "      <td>1</td>\n",
       "    </tr>\n",
       "    <tr>\n",
       "      <th>6</th>\n",
       "      <td>115</td>\n",
       "      <td>51</td>\n",
       "      <td>0</td>\n",
       "      <td>1</td>\n",
       "      <td>17000</td>\n",
       "      <td>False</td>\n",
       "      <td>1</td>\n",
       "    </tr>\n",
       "    <tr>\n",
       "      <th>7</th>\n",
       "      <td>115</td>\n",
       "      <td>50</td>\n",
       "      <td>0</td>\n",
       "      <td>1</td>\n",
       "      <td>17000</td>\n",
       "      <td>False</td>\n",
       "      <td>1</td>\n",
       "    </tr>\n",
       "    <tr>\n",
       "      <th>8</th>\n",
       "      <td>115</td>\n",
       "      <td>7896</td>\n",
       "      <td>0</td>\n",
       "      <td>1</td>\n",
       "      <td>16000</td>\n",
       "      <td>False</td>\n",
       "      <td>1</td>\n",
       "    </tr>\n",
       "    <tr>\n",
       "      <th>9</th>\n",
       "      <td>115</td>\n",
       "      <td>7863</td>\n",
       "      <td>0</td>\n",
       "      <td>1</td>\n",
       "      <td>16000</td>\n",
       "      <td>False</td>\n",
       "      <td>1</td>\n",
       "    </tr>\n",
       "  </tbody>\n",
       "</table>\n",
       "</div>"
      ],
      "text/plain": [
       "   user_id  content_id  content_type_id  answered_correctly  \\\n",
       "0      115        5692                0                   1   \n",
       "1      115        5716                0                   1   \n",
       "2      115         128                0                   1   \n",
       "3      115        7860                0                   1   \n",
       "4      115        7922                0                   1   \n",
       "5      115         156                0                   1   \n",
       "6      115          51                0                   1   \n",
       "7      115          50                0                   1   \n",
       "8      115        7896                0                   1   \n",
       "9      115        7863                0                   1   \n",
       "\n",
       "   prior_question_elapsed_time prior_question_had_explanation  part  \n",
       "0                   4294967295                           None     5  \n",
       "1                        37000                          False     5  \n",
       "2                        55000                          False     1  \n",
       "3                        19000                          False     1  \n",
       "4                        11000                          False     1  \n",
       "5                         5000                          False     1  \n",
       "6                        17000                          False     1  \n",
       "7                        17000                          False     1  \n",
       "8                        16000                          False     1  \n",
       "9                        16000                          False     1  "
      ]
     },
     "execution_count": 8,
     "metadata": {},
     "output_type": "execute_result"
    }
   ],
   "source": [
    "#train = train.iloc[90007298:,:]\n",
    "#train['task_container_id'] = train.groupby('user_id')['task_container_id'].transform(lambda x: pd.factorize(x)[0]).astype('int16')\n",
    "#train[\"lec\"] = train[\"lec\"].fillna(0)\n",
    "print(train.shape, len(train.user_id.unique()))\n",
    "train.head(10)"
   ]
  },
  {
   "cell_type": "markdown",
   "metadata": {
    "papermill": {
     "duration": 0.021379,
     "end_time": "2020-11-27T06:35:02.821362",
     "exception": false,
     "start_time": "2020-11-27T06:35:02.799983",
     "status": "completed"
    },
    "tags": []
   },
   "source": [
    "# Feature engineering"
   ]
  },
  {
   "cell_type": "code",
   "execution_count": 9,
   "metadata": {
    "execution": {
     "iopub.execute_input": "2020-11-27T06:35:02.879639Z",
     "iopub.status.busy": "2020-11-27T06:35:02.876952Z",
     "iopub.status.idle": "2020-11-27T06:42:12.144312Z",
     "shell.execute_reply": "2020-11-27T06:42:12.145063Z"
    },
    "papermill": {
     "duration": 429.299541,
     "end_time": "2020-11-27T06:42:12.145303",
     "exception": false,
     "start_time": "2020-11-27T06:35:02.845762",
     "status": "completed"
    },
    "tags": []
   },
   "outputs": [
    {
     "name": "stdout",
     "output_type": "stream",
     "text": [
      "CPU times: user 6min 52s, sys: 15.9 s, total: 7min 8s\n",
      "Wall time: 7min 9s\n"
     ]
    }
   ],
   "source": [
    "%%time\n",
    "def get_data(df, test_set=False):\n",
    "    if test_set == False:\n",
    "        \n",
    "        # cumsum correct answer by user_id\n",
    "        df['lag'] = df.groupby('user_id')[\"answered_correctly\"].shift()\n",
    "        cum = df.groupby('user_id')['lag'].agg(['cumsum', 'cumcount'])\n",
    "        df['acc_before_ans'] = cum['cumsum'] / cum['cumcount']\n",
    "        df.drop(columns=['lag'], inplace=True)\n",
    "        del cum\n",
    "                    \n",
    "        df['prior_question_had_explanation'] = df['prior_question_had_explanation'].fillna(value = False).astype(bool)\n",
    "        df[\"count\"] = 1\n",
    "        df[\"count\"] = df.groupby(\"user_id\")[\"count\"].cumsum()\n",
    "        \n",
    "    else:\n",
    "        df = df.merge(user_answers_df, how = 'left', left_on = 'user_id', right_index=True).reset_index(drop=True) \n",
    "        df = df.merge(user_try_count, how=\"left\", on=\"user_id\", right_index=True).reset_index(drop=True)\n",
    "        df[\"max_count\"] = df[\"max_count\"].fillna(0)\n",
    "        df[\"count\"] = 1\n",
    "        df[\"count\"] = df.groupby(\"user_id\")[\"count\"].cumsum()\n",
    "        df[\"count\"] += df[\"max_count\"]\n",
    "        df[\"user_id\"] = df[\"user_id\"].map(freq)\n",
    "        df[\"user_id\"] = df[\"user_id\"].fillna(1)\n",
    "        df.drop([\"timestamp\",\"max_count\"], axis=1, inplace=True)\n",
    "    \n",
    "    df[\"difficult_content\"] = df[\"content_id\"].apply(lambda x: 1 if x in difficult_content else 0)\n",
    "    df.fillna(value = 0.5, inplace = True) #0?\n",
    "    return df\n",
    "train = get_data(train)"
   ]
  },
  {
   "cell_type": "code",
   "execution_count": 10,
   "metadata": {
    "execution": {
     "iopub.execute_input": "2020-11-27T06:42:12.202413Z",
     "iopub.status.busy": "2020-11-27T06:42:12.201523Z",
     "iopub.status.idle": "2020-11-27T06:42:18.338743Z",
     "shell.execute_reply": "2020-11-27T06:42:18.339515Z"
    },
    "papermill": {
     "duration": 6.172213,
     "end_time": "2020-11-27T06:42:18.339727",
     "exception": false,
     "start_time": "2020-11-27T06:42:12.167514",
     "status": "completed"
    },
    "tags": []
   },
   "outputs": [],
   "source": [
    "target = 'answered_correctly'\n",
    "columns = [\"acc_before_ans\", 'content_id', 'part', 'prior_question_had_explanation', 'prior_question_elapsed_time',\n",
    "            \"difficult_content\", \"count\", \"user_id\"]\n",
    "\n",
    "drop_columns = [i for i in train.columns if i not in columns + [target]]\n",
    "train.drop(drop_columns, axis=1, inplace=True)"
   ]
  },
  {
   "cell_type": "code",
   "execution_count": 11,
   "metadata": {
    "execution": {
     "iopub.execute_input": "2020-11-27T06:42:18.395372Z",
     "iopub.status.busy": "2020-11-27T06:42:18.394482Z",
     "iopub.status.idle": "2020-11-27T06:42:29.044007Z",
     "shell.execute_reply": "2020-11-27T06:42:29.043147Z"
    },
    "papermill": {
     "duration": 10.680383,
     "end_time": "2020-11-27T06:42:29.044148",
     "exception": false,
     "start_time": "2020-11-27T06:42:18.363765",
     "status": "completed"
    },
    "tags": []
   },
   "outputs": [],
   "source": [
    "train = train.groupby('user_id').tail(24).reset_index(drop=True)\n",
    "valid = train.groupby('user_id').tail(6)\n",
    "train.drop(valid.index, inplace=True)\n",
    "\n",
    "train[\"user_id\"] = train[\"user_id\"].map(freq)\n",
    "valid[\"user_id\"] = valid[\"user_id\"].map(freq)"
   ]
  },
  {
   "cell_type": "code",
   "execution_count": 12,
   "metadata": {
    "execution": {
     "iopub.execute_input": "2020-11-27T06:42:29.100860Z",
     "iopub.status.busy": "2020-11-27T06:42:29.099429Z",
     "iopub.status.idle": "2020-11-27T06:42:29.104837Z",
     "shell.execute_reply": "2020-11-27T06:42:29.104094Z"
    },
    "papermill": {
     "duration": 0.037063,
     "end_time": "2020-11-27T06:42:29.104967",
     "exception": false,
     "start_time": "2020-11-27T06:42:29.067904",
     "status": "completed"
    },
    "tags": []
   },
   "outputs": [
    {
     "data": {
      "text/plain": [
       "((6536675, 9), (2360984, 9))"
      ]
     },
     "execution_count": 12,
     "metadata": {},
     "output_type": "execute_result"
    }
   ],
   "source": [
    "train.shape, valid.shape"
   ]
  },
  {
   "cell_type": "code",
   "execution_count": 13,
   "metadata": {
    "execution": {
     "iopub.execute_input": "2020-11-27T06:42:29.160311Z",
     "iopub.status.busy": "2020-11-27T06:42:29.159336Z",
     "iopub.status.idle": "2020-11-27T06:42:29.164248Z",
     "shell.execute_reply": "2020-11-27T06:42:29.163594Z"
    },
    "papermill": {
     "duration": 0.034948,
     "end_time": "2020-11-27T06:42:29.164379",
     "exception": false,
     "start_time": "2020-11-27T06:42:29.129431",
     "status": "completed"
    },
    "tags": []
   },
   "outputs": [
    {
     "data": {
      "text/plain": [
       "Index(['user_id', 'content_id', 'answered_correctly',\n",
       "       'prior_question_elapsed_time', 'prior_question_had_explanation', 'part',\n",
       "       'acc_before_ans', 'count', 'difficult_content'],\n",
       "      dtype='object')"
      ]
     },
     "execution_count": 13,
     "metadata": {},
     "output_type": "execute_result"
    }
   ],
   "source": [
    "train.columns"
   ]
  },
  {
   "cell_type": "markdown",
   "metadata": {
    "papermill": {
     "duration": 0.025884,
     "end_time": "2020-11-27T06:42:29.214967",
     "exception": false,
     "start_time": "2020-11-27T06:42:29.189083",
     "status": "completed"
    },
    "tags": []
   },
   "source": [
    "# modelling"
   ]
  },
  {
   "cell_type": "code",
   "execution_count": 14,
   "metadata": {
    "execution": {
     "iopub.execute_input": "2020-11-27T06:42:29.279021Z",
     "iopub.status.busy": "2020-11-27T06:42:29.278002Z",
     "iopub.status.idle": "2020-11-27T06:54:10.899722Z",
     "shell.execute_reply": "2020-11-27T06:54:10.901329Z"
    },
    "papermill": {
     "duration": 701.661731,
     "end_time": "2020-11-27T06:54:10.901835",
     "exception": false,
     "start_time": "2020-11-27T06:42:29.240104",
     "status": "completed"
    },
    "tags": []
   },
   "outputs": [
    {
     "name": "stdout",
     "output_type": "stream",
     "text": [
      "Training until validation scores don't improve for 50 rounds\n",
      "[50]\ttraining's auc: 0.750803\tvalid_1's auc: 0.729521\n",
      "[100]\ttraining's auc: 0.759325\tvalid_1's auc: 0.735028\n",
      "[150]\ttraining's auc: 0.762916\tvalid_1's auc: 0.735941\n",
      "[200]\ttraining's auc: 0.765152\tvalid_1's auc: 0.735993\n",
      "Early stopping, best iteration is:\n",
      "[180]\ttraining's auc: 0.764358\tvalid_1's auc: 0.736058\n",
      "Overall ROC AUC:  0.7360577756628861\n"
     ]
    }
   ],
   "source": [
    "categoricals = [\"content_id\", \"part\", \"difficult_content\"]\n",
    "params = {\n",
    "    'objective': 'binary', \"metric\": 'auc','eval_metric':'auc', 'boosting_type': 'gbdt', \n",
    "          'tree_learner': 'serial', 'learning_rate': 0.09,  \"num_leaves\": 80 \n",
    "        }\n",
    "\n",
    "features_list = [i for i in columns]\n",
    "feature_importance_df = pd.DataFrame(features_list, columns=[\"Feature\"])\n",
    "        \n",
    "X_train = train[columns]\n",
    "y_train = train[target]\n",
    "\n",
    "X_valid = valid[columns]\n",
    "y_valid = valid[target]\n",
    "\n",
    "lgb_train = lgb.Dataset(X_train, y_train)\n",
    "lgb_eval = lgb.Dataset(X_valid, y_valid, reference=lgb_train)\n",
    "        \n",
    "model = lgb.train(params, lgb_train,valid_sets=[lgb_train, lgb_eval], \n",
    "               num_boost_round=550,early_stopping_rounds=50,verbose_eval = 50, categorical_feature=categoricals,)\n",
    "feature_importance_df[\"Importance\"] = model.feature_importance()\n",
    "\n",
    "valid_predict = model.predict(X_valid, num_iteration = model.best_iteration)\n",
    "                            \n",
    "feature_importance_df = feature_importance_df.sort_values(\"Importance\", ascending=False).reset_index(drop=True)\n",
    "        \n",
    "score = roc_auc_score(y_valid, valid_predict)\n",
    "print(\"Overall ROC AUC: \", score)"
   ]
  },
  {
   "cell_type": "code",
   "execution_count": 15,
   "metadata": {
    "execution": {
     "iopub.execute_input": "2020-11-27T06:54:10.986395Z",
     "iopub.status.busy": "2020-11-27T06:54:10.985428Z",
     "iopub.status.idle": "2020-11-27T06:54:10.992190Z",
     "shell.execute_reply": "2020-11-27T06:54:10.991494Z"
    },
    "papermill": {
     "duration": 0.057055,
     "end_time": "2020-11-27T06:54:10.992432",
     "exception": false,
     "start_time": "2020-11-27T06:54:10.935377",
     "status": "completed"
    },
    "tags": []
   },
   "outputs": [
    {
     "data": {
      "text/html": [
       "<div>\n",
       "<style scoped>\n",
       "    .dataframe tbody tr th:only-of-type {\n",
       "        vertical-align: middle;\n",
       "    }\n",
       "\n",
       "    .dataframe tbody tr th {\n",
       "        vertical-align: top;\n",
       "    }\n",
       "\n",
       "    .dataframe thead th {\n",
       "        text-align: right;\n",
       "    }\n",
       "</style>\n",
       "<table border=\"1\" class=\"dataframe\">\n",
       "  <thead>\n",
       "    <tr style=\"text-align: right;\">\n",
       "      <th></th>\n",
       "      <th>Feature</th>\n",
       "      <th>Importance</th>\n",
       "    </tr>\n",
       "  </thead>\n",
       "  <tbody>\n",
       "    <tr>\n",
       "      <th>0</th>\n",
       "      <td>content_id</td>\n",
       "      <td>12632</td>\n",
       "    </tr>\n",
       "    <tr>\n",
       "      <th>1</th>\n",
       "      <td>acc_before_ans</td>\n",
       "      <td>470</td>\n",
       "    </tr>\n",
       "    <tr>\n",
       "      <th>2</th>\n",
       "      <td>count</td>\n",
       "      <td>269</td>\n",
       "    </tr>\n",
       "    <tr>\n",
       "      <th>3</th>\n",
       "      <td>prior_question_elapsed_time</td>\n",
       "      <td>260</td>\n",
       "    </tr>\n",
       "    <tr>\n",
       "      <th>4</th>\n",
       "      <td>user_id</td>\n",
       "      <td>259</td>\n",
       "    </tr>\n",
       "    <tr>\n",
       "      <th>5</th>\n",
       "      <td>part</td>\n",
       "      <td>179</td>\n",
       "    </tr>\n",
       "    <tr>\n",
       "      <th>6</th>\n",
       "      <td>difficult_content</td>\n",
       "      <td>77</td>\n",
       "    </tr>\n",
       "    <tr>\n",
       "      <th>7</th>\n",
       "      <td>prior_question_had_explanation</td>\n",
       "      <td>74</td>\n",
       "    </tr>\n",
       "  </tbody>\n",
       "</table>\n",
       "</div>"
      ],
      "text/plain": [
       "                          Feature  Importance\n",
       "0                      content_id       12632\n",
       "1                  acc_before_ans         470\n",
       "2                           count         269\n",
       "3     prior_question_elapsed_time         260\n",
       "4                         user_id         259\n",
       "5                            part         179\n",
       "6               difficult_content          77\n",
       "7  prior_question_had_explanation          74"
      ]
     },
     "execution_count": 15,
     "metadata": {},
     "output_type": "execute_result"
    }
   ],
   "source": [
    "feature_importance_df"
   ]
  },
  {
   "cell_type": "markdown",
   "metadata": {
    "papermill": {
     "duration": 0.029383,
     "end_time": "2020-11-27T06:54:11.055362",
     "exception": false,
     "start_time": "2020-11-27T06:54:11.025979",
     "status": "completed"
    },
    "tags": []
   },
   "source": [
    "# prediction"
   ]
  },
  {
   "cell_type": "code",
   "execution_count": 16,
   "metadata": {
    "execution": {
     "iopub.execute_input": "2020-11-27T06:54:11.127124Z",
     "iopub.status.busy": "2020-11-27T06:54:11.120401Z",
     "iopub.status.idle": "2020-11-27T06:54:12.836133Z",
     "shell.execute_reply": "2020-11-27T06:54:12.835224Z"
    },
    "papermill": {
     "duration": 1.753137,
     "end_time": "2020-11-27T06:54:12.836322",
     "exception": false,
     "start_time": "2020-11-27T06:54:11.083185",
     "status": "completed"
    },
    "tags": []
   },
   "outputs": [],
   "source": [
    "env = riiideducation.make_env()\n",
    "iter_test = env.iter_test()\n",
    "\n",
    "for (test_df, sample_prediction_df) in iter_test:\n",
    "    y_preds = []\n",
    "    test_df = test_df.merge(questions[[\"question_id\", \"part\"]], how=\"left\", left_on=['content_id'], right_on=['question_id'], right_index=True).reset_index(drop=True)\n",
    "    test_df.drop([\"question_id\"], axis=1, inplace=True)\n",
    "\n",
    "    test_df['prior_question_had_explanation'] = test_df['prior_question_had_explanation'].fillna(value = False).astype(bool)\n",
    "    test_df = get_data(test_df, test_set=True)\n",
    "\n",
    "    y_pred = model.predict(test_df[columns], num_iteration=model.best_iteration)\n",
    "\n",
    "    test_df['answered_correctly'] = y_pred\n",
    "    env.predict(test_df.loc[test_df['content_type_id'] == 0, ['row_id', 'answered_correctly']])"
   ]
  },
  {
   "cell_type": "code",
   "execution_count": null,
   "metadata": {
    "papermill": {
     "duration": 0.026895,
     "end_time": "2020-11-27T06:54:12.893742",
     "exception": false,
     "start_time": "2020-11-27T06:54:12.866847",
     "status": "completed"
    },
    "tags": []
   },
   "outputs": [],
   "source": []
  }
 ],
 "metadata": {
  "kernelspec": {
   "display_name": "Python 3",
   "language": "python",
   "name": "python3"
  },
  "language_info": {
   "codemirror_mode": {
    "name": "ipython",
    "version": 3
   },
   "file_extension": ".py",
   "mimetype": "text/x-python",
   "name": "python",
   "nbconvert_exporter": "python",
   "pygments_lexer": "ipython3",
   "version": "3.7.6"
  },
  "papermill": {
   "duration": 1352.61408,
   "end_time": "2020-11-27T06:54:13.991263",
   "environment_variables": {},
   "exception": null,
   "input_path": "__notebook__.ipynb",
   "output_path": "__notebook__.ipynb",
   "parameters": {},
   "start_time": "2020-11-27T06:31:41.377183",
   "version": "2.1.0"
  }
 },
 "nbformat": 4,
 "nbformat_minor": 4
}
