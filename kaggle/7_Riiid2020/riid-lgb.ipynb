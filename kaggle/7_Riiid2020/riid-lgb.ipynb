{
 "cells": [
  {
   "cell_type": "markdown",
   "metadata": {
    "papermill": {
     "duration": 0.021929,
     "end_time": "2020-11-01T09:52:01.021792",
     "exception": false,
     "start_time": "2020-11-01T09:52:00.999863",
     "status": "completed"
    },
    "tags": []
   },
   "source": [
    "- change validation scheme"
   ]
  },
  {
   "cell_type": "code",
   "execution_count": 1,
   "metadata": {
    "_cell_guid": "b1076dfc-b9ad-4769-8c92-a6c4dae69d19",
    "_uuid": "8f2839f25d086af736a60e9eeb907d3b93b6e0e5",
    "execution": {
     "iopub.execute_input": "2020-11-01T09:52:01.076839Z",
     "iopub.status.busy": "2020-11-01T09:52:01.076004Z",
     "iopub.status.idle": "2020-11-01T09:52:02.074880Z",
     "shell.execute_reply": "2020-11-01T09:52:02.074255Z"
    },
    "papermill": {
     "duration": 1.033471,
     "end_time": "2020-11-01T09:52:02.075023",
     "exception": false,
     "start_time": "2020-11-01T09:52:01.041552",
     "status": "completed"
    },
    "tags": []
   },
   "outputs": [
    {
     "name": "stderr",
     "output_type": "stream",
     "text": [
      "/opt/conda/lib/python3.7/site-packages/ipykernel_launcher.py:17: TqdmDeprecationWarning: This function will be removed in tqdm==5.0.0\n",
      "Please use `tqdm.notebook.*` instead of `tqdm._tqdm_notebook.*`\n"
     ]
    }
   ],
   "source": [
    "import sys\n",
    "import copy\n",
    "import random\n",
    "import feather\n",
    "import warnings\n",
    "import numpy as np\n",
    "import pandas as pd\n",
    "from time import time\n",
    "import lightgbm as lgb\n",
    "from collections import Counter\n",
    "from sklearn import preprocessing\n",
    "from collections import defaultdict\n",
    "from tqdm import tqdm_notebook as tqdm\n",
    "from sklearn.model_selection import GroupKFold\n",
    "from sklearn.metrics import roc_auc_score\n",
    "import matplotlib.pyplot as plt \n",
    "from tqdm._tqdm_notebook import tqdm_notebook\n",
    "\n",
    "import riiideducation\n",
    "warnings.filterwarnings(\"ignore\")\n",
    "tqdm_notebook.pandas(desc=\"progress: \")"
   ]
  },
  {
   "cell_type": "code",
   "execution_count": 2,
   "metadata": {
    "_cell_guid": "79c7e3d0-c299-4dcb-8224-4455121ee9b0",
    "_uuid": "d629ff2d2480ee46fbb7e2d37f6b5fab8052498a",
    "execution": {
     "iopub.execute_input": "2020-11-01T09:52:02.120449Z",
     "iopub.status.busy": "2020-11-01T09:52:02.119605Z",
     "iopub.status.idle": "2020-11-01T09:52:09.813471Z",
     "shell.execute_reply": "2020-11-01T09:52:09.812655Z"
    },
    "papermill": {
     "duration": 7.71956,
     "end_time": "2020-11-01T09:52:09.813618",
     "exception": false,
     "start_time": "2020-11-01T09:52:02.094058",
     "status": "completed"
    },
    "tags": []
   },
   "outputs": [],
   "source": [
    "DIR = \"../input/riiid-test-answer-prediction/\"\n",
    "train = pd.read_feather(\"../input/riid-train/train.feather\")\n",
    "lectures = pd.read_csv(DIR+\"lectures.csv\")\n",
    "questions = pd.read_csv(DIR+\"questions.csv\")"
   ]
  },
  {
   "cell_type": "code",
   "execution_count": 3,
   "metadata": {
    "execution": {
     "iopub.execute_input": "2020-11-01T09:52:09.863778Z",
     "iopub.status.busy": "2020-11-01T09:52:09.861482Z",
     "iopub.status.idle": "2020-11-01T09:52:09.869797Z",
     "shell.execute_reply": "2020-11-01T09:52:09.869199Z"
    },
    "papermill": {
     "duration": 0.037917,
     "end_time": "2020-11-01T09:52:09.869943",
     "exception": false,
     "start_time": "2020-11-01T09:52:09.832026",
     "status": "completed"
    },
    "tags": []
   },
   "outputs": [],
   "source": [
    "lecture_id = list(lectures.lecture_id.unique())\n",
    "lectures['type_of'] = lectures['type_of'].replace('solving question', 'solving_question')\n",
    "lectures = pd.get_dummies(lectures, columns=['type_of'])\n",
    "\n",
    "types_columns = [column for column in lectures.columns if column.startswith('type_of_')]"
   ]
  },
  {
   "cell_type": "code",
   "execution_count": 4,
   "metadata": {
    "execution": {
     "iopub.execute_input": "2020-11-01T09:52:09.915132Z",
     "iopub.status.busy": "2020-11-01T09:52:09.914052Z",
     "iopub.status.idle": "2020-11-01T09:52:09.919250Z",
     "shell.execute_reply": "2020-11-01T09:52:09.918540Z"
    },
    "papermill": {
     "duration": 0.030809,
     "end_time": "2020-11-01T09:52:09.919393",
     "exception": false,
     "start_time": "2020-11-01T09:52:09.888584",
     "status": "completed"
    },
    "tags": []
   },
   "outputs": [
    {
     "data": {
      "text/plain": [
       "(101230332, 10)"
      ]
     },
     "execution_count": 4,
     "metadata": {},
     "output_type": "execute_result"
    }
   ],
   "source": [
    "train.shape"
   ]
  },
  {
   "cell_type": "markdown",
   "metadata": {
    "papermill": {
     "duration": 0.01861,
     "end_time": "2020-11-01T09:52:09.956857",
     "exception": false,
     "start_time": "2020-11-01T09:52:09.938247",
     "status": "completed"
    },
    "tags": []
   },
   "source": [
    "# preprocess"
   ]
  },
  {
   "cell_type": "code",
   "execution_count": 5,
   "metadata": {
    "execution": {
     "iopub.execute_input": "2020-11-01T09:52:10.002224Z",
     "iopub.status.busy": "2020-11-01T09:52:10.001423Z",
     "iopub.status.idle": "2020-11-01T09:54:09.140262Z",
     "shell.execute_reply": "2020-11-01T09:54:09.139470Z"
    },
    "papermill": {
     "duration": 119.164603,
     "end_time": "2020-11-01T09:54:09.140424",
     "exception": false,
     "start_time": "2020-11-01T09:52:09.975821",
     "status": "completed"
    },
    "tags": []
   },
   "outputs": [],
   "source": [
    "# executed in advance\n",
    "train = train.sort_values(['user_id', 'timestamp']).reset_index(drop=True)\n",
    "train.drop([\"row_id\", \"user_answer\", \"timestamp\", 'task_container_id'], axis=1, inplace=True)"
   ]
  },
  {
   "cell_type": "code",
   "execution_count": 6,
   "metadata": {
    "execution": {
     "iopub.execute_input": "2020-11-01T09:54:09.202471Z",
     "iopub.status.busy": "2020-11-01T09:54:09.201624Z",
     "iopub.status.idle": "2020-11-01T09:57:07.517876Z",
     "shell.execute_reply": "2020-11-01T09:57:07.517201Z"
    },
    "papermill": {
     "duration": 178.357242,
     "end_time": "2020-11-01T09:57:07.518023",
     "exception": false,
     "start_time": "2020-11-01T09:54:09.160781",
     "status": "completed"
    },
    "tags": []
   },
   "outputs": [
    {
     "name": "stdout",
     "output_type": "stream",
     "text": [
      "consider lecture data\n"
     ]
    },
    {
     "data": {
      "application/vnd.jupyter.widget-view+json": {
       "model_id": "5ab42346481a43b09f01e276d171ca00",
       "version_major": 2,
       "version_minor": 0
      },
      "text/plain": [
       "HBox(children=(FloatProgress(value=0.0, description='progress: ', max=393656.0, style=ProgressStyle(descriptio…"
      ]
     },
     "metadata": {},
     "output_type": "display_data"
    },
    {
     "name": "stdout",
     "output_type": "stream",
     "text": [
      "\n",
      "remove lecture data\n",
      "merge question data\n",
      "groupby calculation\n"
     ]
    }
   ],
   "source": [
    "print(\"consider lecture data\")\n",
    "user_lec_df = train.groupby('user_id').agg({'content_type_id': ['mean']}).copy()\n",
    "user_lec_df.columns = [\"lec_ratio\"]\n",
    "\n",
    "train[\"lec\"] = train.groupby([\"user_id\"])['content_type_id'].progress_apply(lambda x: x.shift(1))\n",
    "train.drop([\"content_type_id\"], axis=1, inplace=True)\n",
    "\n",
    "#train = train.merge(lectures[[\"lecture_id\"]+types_columns], how=\"left\", left_on=['content_id'], right_on=['lecture_id']).drop(columns='lecture_id')\n",
    "#user_lec_type = train.groupby(\"user_id\").agg(\"mean\")[types_columns]\n",
    "#user_lec_type = user_lec_type.fillna(0)\n",
    "\n",
    "print(\"remove lecture data\")\n",
    "train = train.loc[train['answered_correctly'] != -1].reset_index(drop=True)\n",
    "\n",
    "print(\"merge question data\")\n",
    "# https://stackoverflow.com/questions/25888207/pandas-join-dataframes-on-field-with-different-names\n",
    "train = train.merge(questions[[\"question_id\", \"part\"]], how=\"left\", left_on=['content_id'], right_on=['question_id'])\n",
    "train.drop([\"question_id\"], axis=1, inplace=True)\n",
    "\n",
    "print(\"groupby calculation\")\n",
    "user_answers_df = train.groupby('user_id').agg({'answered_correctly': ['mean']}).copy()\n",
    "user_answers_df.columns = [\"acc_before_ans\"]\n",
    "\n",
    "user_answers_past2 = pd.DataFrame(train.groupby(\"user_id\").tail(2).groupby(\"user_id\").agg(\"mean\")[\"answered_correctly\"])\n",
    "user_answers_past2.columns = [\"mean_of_last_2_answered_correctly_by_user_id\"]\n",
    "user_answers_past3 = pd.DataFrame(train.groupby(\"user_id\").tail(3).groupby(\"user_id\").agg(\"mean\")[\"answered_correctly\"])\n",
    "user_answers_past3.columns = [\"mean_of_last_3_answered_correctly_by_user_id\"]\n",
    "\n",
    "user_part_accuracy = train.groupby(['user_id', 'part']).agg({'answered_correctly': ['mean']}).copy().unstack()\n",
    "user_part_accuracy.columns = [\"part1_acc\", \"part2_acc\", \"part3_acc\", \"part4_acc\", \"part5_acc\", \"part6_acc\", \"part7_acc\"]\n",
    "\n",
    "user_lec_ratio = train.groupby(['user_id']).agg({'lec': ['mean']}).copy()\n",
    "user_lec_ratio.columns = [\"lec\"]\n",
    "\n",
    "mean_accuracy_by_part = np.array([0.74503238, 0.70869406, 0.70145593, 0.63099758, 0.61008792, 0.66938835, 0.65960112])"
   ]
  },
  {
   "cell_type": "code",
   "execution_count": 7,
   "metadata": {
    "execution": {
     "iopub.execute_input": "2020-11-01T09:57:07.571769Z",
     "iopub.status.busy": "2020-11-01T09:57:07.570261Z",
     "iopub.status.idle": "2020-11-01T09:57:32.636310Z",
     "shell.execute_reply": "2020-11-01T09:57:32.635485Z"
    },
    "papermill": {
     "duration": 25.096032,
     "end_time": "2020-11-01T09:57:32.636496",
     "exception": false,
     "start_time": "2020-11-01T09:57:07.540464",
     "status": "completed"
    },
    "tags": []
   },
   "outputs": [
    {
     "name": "stdout",
     "output_type": "stream",
     "text": [
      "88006297\n"
     ]
    }
   ],
   "source": [
    "#to get first index of a particular user\n",
    "for i in train.groupby(\"user_id\").first().index:\n",
    "    if i > 88000000:\n",
    "        print(i)\n",
    "        break"
   ]
  },
  {
   "cell_type": "code",
   "execution_count": 8,
   "metadata": {
    "execution": {
     "iopub.execute_input": "2020-11-01T09:57:32.822767Z",
     "iopub.status.busy": "2020-11-01T09:57:32.821463Z",
     "iopub.status.idle": "2020-11-01T09:57:33.003443Z",
     "shell.execute_reply": "2020-11-01T09:57:33.002686Z"
    },
    "papermill": {
     "duration": 0.343548,
     "end_time": "2020-11-01T09:57:33.003568",
     "exception": false,
     "start_time": "2020-11-01T09:57:32.660020",
     "status": "completed"
    },
    "tags": []
   },
   "outputs": [
    {
     "name": "stdout",
     "output_type": "stream",
     "text": [
      "(11265003, 7) 44384\n"
     ]
    },
    {
     "data": {
      "text/html": [
       "<div>\n",
       "<style scoped>\n",
       "    .dataframe tbody tr th:only-of-type {\n",
       "        vertical-align: middle;\n",
       "    }\n",
       "\n",
       "    .dataframe tbody tr th {\n",
       "        vertical-align: top;\n",
       "    }\n",
       "\n",
       "    .dataframe thead th {\n",
       "        text-align: right;\n",
       "    }\n",
       "</style>\n",
       "<table border=\"1\" class=\"dataframe\">\n",
       "  <thead>\n",
       "    <tr style=\"text-align: right;\">\n",
       "      <th></th>\n",
       "      <th>user_id</th>\n",
       "      <th>content_id</th>\n",
       "      <th>answered_correctly</th>\n",
       "      <th>prior_question_elapsed_time</th>\n",
       "      <th>prior_question_had_explanation</th>\n",
       "      <th>lec</th>\n",
       "      <th>part</th>\n",
       "    </tr>\n",
       "  </thead>\n",
       "  <tbody>\n",
       "    <tr>\n",
       "      <th>88006297</th>\n",
       "      <td>1907098099</td>\n",
       "      <td>5335</td>\n",
       "      <td>1</td>\n",
       "      <td>14000</td>\n",
       "      <td>True</td>\n",
       "      <td>0.0</td>\n",
       "      <td>5</td>\n",
       "    </tr>\n",
       "    <tr>\n",
       "      <th>88006298</th>\n",
       "      <td>1907098099</td>\n",
       "      <td>8930</td>\n",
       "      <td>1</td>\n",
       "      <td>26000</td>\n",
       "      <td>True</td>\n",
       "      <td>0.0</td>\n",
       "      <td>5</td>\n",
       "    </tr>\n",
       "    <tr>\n",
       "      <th>88006299</th>\n",
       "      <td>1907098099</td>\n",
       "      <td>5960</td>\n",
       "      <td>0</td>\n",
       "      <td>25000</td>\n",
       "      <td>True</td>\n",
       "      <td>0.0</td>\n",
       "      <td>5</td>\n",
       "    </tr>\n",
       "    <tr>\n",
       "      <th>88006300</th>\n",
       "      <td>1907098099</td>\n",
       "      <td>4464</td>\n",
       "      <td>1</td>\n",
       "      <td>30000</td>\n",
       "      <td>True</td>\n",
       "      <td>0.0</td>\n",
       "      <td>5</td>\n",
       "    </tr>\n",
       "    <tr>\n",
       "      <th>88006301</th>\n",
       "      <td>1907098099</td>\n",
       "      <td>6263</td>\n",
       "      <td>1</td>\n",
       "      <td>25000</td>\n",
       "      <td>True</td>\n",
       "      <td>0.0</td>\n",
       "      <td>5</td>\n",
       "    </tr>\n",
       "    <tr>\n",
       "      <th>88006302</th>\n",
       "      <td>1907098099</td>\n",
       "      <td>9192</td>\n",
       "      <td>1</td>\n",
       "      <td>16000</td>\n",
       "      <td>True</td>\n",
       "      <td>0.0</td>\n",
       "      <td>5</td>\n",
       "    </tr>\n",
       "    <tr>\n",
       "      <th>88006303</th>\n",
       "      <td>1907098099</td>\n",
       "      <td>4414</td>\n",
       "      <td>1</td>\n",
       "      <td>13000</td>\n",
       "      <td>True</td>\n",
       "      <td>0.0</td>\n",
       "      <td>5</td>\n",
       "    </tr>\n",
       "    <tr>\n",
       "      <th>88006304</th>\n",
       "      <td>1907098099</td>\n",
       "      <td>9312</td>\n",
       "      <td>1</td>\n",
       "      <td>8000</td>\n",
       "      <td>True</td>\n",
       "      <td>0.0</td>\n",
       "      <td>5</td>\n",
       "    </tr>\n",
       "    <tr>\n",
       "      <th>88006305</th>\n",
       "      <td>1907098099</td>\n",
       "      <td>4476</td>\n",
       "      <td>1</td>\n",
       "      <td>41000</td>\n",
       "      <td>True</td>\n",
       "      <td>0.0</td>\n",
       "      <td>5</td>\n",
       "    </tr>\n",
       "    <tr>\n",
       "      <th>88006306</th>\n",
       "      <td>1907098099</td>\n",
       "      <td>9672</td>\n",
       "      <td>1</td>\n",
       "      <td>5000</td>\n",
       "      <td>True</td>\n",
       "      <td>0.0</td>\n",
       "      <td>5</td>\n",
       "    </tr>\n",
       "  </tbody>\n",
       "</table>\n",
       "</div>"
      ],
      "text/plain": [
       "             user_id  content_id  answered_correctly  \\\n",
       "88006297  1907098099        5335                   1   \n",
       "88006298  1907098099        8930                   1   \n",
       "88006299  1907098099        5960                   0   \n",
       "88006300  1907098099        4464                   1   \n",
       "88006301  1907098099        6263                   1   \n",
       "88006302  1907098099        9192                   1   \n",
       "88006303  1907098099        4414                   1   \n",
       "88006304  1907098099        9312                   1   \n",
       "88006305  1907098099        4476                   1   \n",
       "88006306  1907098099        9672                   1   \n",
       "\n",
       "          prior_question_elapsed_time prior_question_had_explanation  lec  \\\n",
       "88006297                        14000                           True  0.0   \n",
       "88006298                        26000                           True  0.0   \n",
       "88006299                        25000                           True  0.0   \n",
       "88006300                        30000                           True  0.0   \n",
       "88006301                        25000                           True  0.0   \n",
       "88006302                        16000                           True  0.0   \n",
       "88006303                        13000                           True  0.0   \n",
       "88006304                         8000                           True  0.0   \n",
       "88006305                        41000                           True  0.0   \n",
       "88006306                         5000                           True  0.0   \n",
       "\n",
       "          part  \n",
       "88006297     5  \n",
       "88006298     5  \n",
       "88006299     5  \n",
       "88006300     5  \n",
       "88006301     5  \n",
       "88006302     5  \n",
       "88006303     5  \n",
       "88006304     5  \n",
       "88006305     5  \n",
       "88006306     5  "
      ]
     },
     "execution_count": 8,
     "metadata": {},
     "output_type": "execute_result"
    }
   ],
   "source": [
    "train = train.iloc[88006297:,:]\n",
    "#train['task_container_id'] = train.groupby('user_id')['task_container_id'].transform(lambda x: pd.factorize(x)[0]).astype('int16')\n",
    "train[\"lec\"] = train[\"lec\"].fillna(0)\n",
    "print(train.shape, len(train.user_id.unique()))\n",
    "train.head(10)"
   ]
  },
  {
   "cell_type": "markdown",
   "metadata": {
    "papermill": {
     "duration": 0.023443,
     "end_time": "2020-11-01T09:57:33.051192",
     "exception": false,
     "start_time": "2020-11-01T09:57:33.027749",
     "status": "completed"
    },
    "tags": []
   },
   "source": [
    "# Feature engineering"
   ]
  },
  {
   "cell_type": "code",
   "execution_count": 9,
   "metadata": {
    "execution": {
     "iopub.execute_input": "2020-11-01T09:57:33.133567Z",
     "iopub.status.busy": "2020-11-01T09:57:33.117012Z",
     "iopub.status.idle": "2020-11-01T10:13:38.639057Z",
     "shell.execute_reply": "2020-11-01T10:13:38.640140Z"
    },
    "papermill": {
     "duration": 965.565789,
     "end_time": "2020-11-01T10:13:38.640730",
     "exception": false,
     "start_time": "2020-11-01T09:57:33.074941",
     "status": "completed"
    },
    "tags": []
   },
   "outputs": [
    {
     "name": "stdout",
     "output_type": "stream",
     "text": [
      "CPU times: user 15min 57s, sys: 14 s, total: 16min 11s\n",
      "Wall time: 16min 5s\n"
     ]
    }
   ],
   "source": [
    "%%time\n",
    "def get_data(df, test_set=False):\n",
    "    if test_set == False:\n",
    "        \n",
    "        # cumsum correct answer by user_id\n",
    "        tmp1 = df.groupby(['user_id'])['answered_correctly'].apply(lambda x: pd.concat([pd.DataFrame([0]), x.cumsum()[:-1]])).reset_index(drop=True).values\n",
    "        tmp1 = np.array(tmp1, dtype=float)\n",
    "        # cumsum total try by user_id\n",
    "        tmp2 = df.groupby(['user_id']).cumcount().values\n",
    "        tmp2 = np.array(tmp2, dtype=float).reshape(-1,1)\n",
    "        # https://stackoverflow.com/questions/26248654/how-to-return-0-with-divide-by-zero\n",
    "        correct_rate = np.divide(tmp1, tmp2, out=np.ones_like(tmp1)*-1, where=tmp2!=0)\n",
    "        \n",
    "        # cumsum lec count by user_id \n",
    "        tmp1 = df.groupby(['user_id'])['lec'].apply(lambda x: x.cumsum()).reset_index(drop=True).values\n",
    "        tmp1 = np.array(tmp1, dtype=float).reshape(-1,1)\n",
    "        lec_rate = np.divide(tmp1, tmp2, out=np.zeros_like(tmp1), where=tmp2!=0)\n",
    "        \n",
    "        # cumsum of each part trial by user\n",
    "        part1_cumsum = df.groupby([\"user_id\"])['part'].apply(lambda x: pd.DataFrame([0] + (x==1).cumsum().tolist()[:-1])).reset_index(drop=True)[0].values\n",
    "        part2_cumsum = df.groupby([\"user_id\"])['part'].apply(lambda x: pd.DataFrame([0] + (x==2).cumsum().tolist()[:-1])).reset_index(drop=True)[0].values\n",
    "        part3_cumsum = df.groupby([\"user_id\"])['part'].apply(lambda x: pd.DataFrame([0] + (x==3).cumsum().tolist()[:-1])).reset_index(drop=True)[0].values\n",
    "        part4_cumsum = df.groupby([\"user_id\"])['part'].apply(lambda x: pd.DataFrame([0] + (x==4).cumsum().tolist()[:-1])).reset_index(drop=True)[0].values\n",
    "        part5_cumsum = df.groupby([\"user_id\"])['part'].apply(lambda x: pd.DataFrame([0] + (x==5).cumsum().tolist()[:-1])).reset_index(drop=True)[0].values\n",
    "        part6_cumsum = df.groupby([\"user_id\"])['part'].apply(lambda x: pd.DataFrame([0] + (x==6).cumsum().tolist()[:-1])).reset_index(drop=True)[0].values\n",
    "        part7_cumsum = df.groupby([\"user_id\"])['part'].apply(lambda x: pd.DataFrame([0] + (x==7).cumsum().tolist()[:-1])).reset_index(drop=True)[0].values\n",
    "\n",
    "        # logical bool if part is matched by user\n",
    "        part1_g = pd.DataFrame(df.groupby([\"user_id\"])['part'].apply(lambda x: x==1))\n",
    "        part2_g = pd.DataFrame(df.groupby([\"user_id\"])['part'].apply(lambda x: x==2))\n",
    "        part3_g = pd.DataFrame(df.groupby([\"user_id\"])['part'].apply(lambda x: x==3))\n",
    "        part4_g = pd.DataFrame(df.groupby([\"user_id\"])['part'].apply(lambda x: x==4))\n",
    "        part5_g = pd.DataFrame(df.groupby([\"user_id\"])['part'].apply(lambda x: x==5))\n",
    "        part6_g = pd.DataFrame(df.groupby([\"user_id\"])['part'].apply(lambda x: x==6))\n",
    "        part7_g = pd.DataFrame(df.groupby([\"user_id\"])['part'].apply(lambda x: x==7))\n",
    "        # logical bool if answer is correct by user\n",
    "        acc_g = pd.DataFrame(df.groupby([\"user_id\"])['answered_correctly'].apply(lambda x: x==1))\n",
    "\n",
    "        # cumsum of correct num per part by user\n",
    "        part1_acc_cumsum = np.logical_and(acc_g.values ,part1_g.values)\n",
    "        part2_acc_cumsum = np.logical_and(acc_g.values ,part2_g.values)\n",
    "        part3_acc_cumsum = np.logical_and(acc_g.values ,part3_g.values)\n",
    "        part4_acc_cumsum = np.logical_and(acc_g.values ,part4_g.values)\n",
    "        part5_acc_cumsum = np.logical_and(acc_g.values ,part5_g.values)\n",
    "        part6_acc_cumsum = np.logical_and(acc_g.values ,part6_g.values)\n",
    "        part7_acc_cumsum = np.logical_and(acc_g.values ,part7_g.values)\n",
    "\n",
    "        df[\"part1_and_ok\"] = part1_acc_cumsum\n",
    "        df[\"part2_and_ok\"] = part2_acc_cumsum\n",
    "        df[\"part3_and_ok\"] = part3_acc_cumsum\n",
    "        df[\"part4_and_ok\"] = part4_acc_cumsum \n",
    "        df[\"part5_and_ok\"] = part5_acc_cumsum\n",
    "        df[\"part6_and_ok\"] = part6_acc_cumsum\n",
    "        df[\"part7_and_ok\"] = part7_acc_cumsum\n",
    "        \n",
    "        part1_acc_cumsum = df.groupby([\"user_id\"])['part1_and_ok'].apply(lambda x: pd.DataFrame([0] + (x==1).cumsum().tolist()[:-1])).reset_index(drop=True)[0].values\n",
    "        part2_acc_cumsum = df.groupby([\"user_id\"])['part2_and_ok'].apply(lambda x: pd.DataFrame([0] + (x==1).cumsum().tolist()[:-1])).reset_index(drop=True)[0].values\n",
    "        part3_acc_cumsum = df.groupby([\"user_id\"])['part3_and_ok'].apply(lambda x: pd.DataFrame([0] + (x==1).cumsum().tolist()[:-1])).reset_index(drop=True)[0].values\n",
    "        part4_acc_cumsum = df.groupby([\"user_id\"])['part4_and_ok'].apply(lambda x: pd.DataFrame([0] + (x==1).cumsum().tolist()[:-1])).reset_index(drop=True)[0].values\n",
    "        part5_acc_cumsum = df.groupby([\"user_id\"])['part5_and_ok'].apply(lambda x: pd.DataFrame([0] + (x==1).cumsum().tolist()[:-1])).reset_index(drop=True)[0].values\n",
    "        part6_acc_cumsum = df.groupby([\"user_id\"])['part6_and_ok'].apply(lambda x: pd.DataFrame([0] + (x==1).cumsum().tolist()[:-1])).reset_index(drop=True)[0].values\n",
    "        part7_acc_cumsum = df.groupby([\"user_id\"])['part7_and_ok'].apply(lambda x: pd.DataFrame([0] + (x==1).cumsum().tolist()[:-1])).reset_index(drop=True)[0].values\n",
    "\n",
    "        part1_acc_cumsum = np.array(part1_acc_cumsum, dtype=float)\n",
    "        part2_acc_cumsum = np.array(part2_acc_cumsum, dtype=float)\n",
    "        part3_acc_cumsum = np.array(part3_acc_cumsum, dtype=float)\n",
    "        part4_acc_cumsum = np.array(part4_acc_cumsum, dtype=float)\n",
    "        part5_acc_cumsum = np.array(part5_acc_cumsum, dtype=float)\n",
    "        part6_acc_cumsum = np.array(part6_acc_cumsum, dtype=float)\n",
    "        part7_acc_cumsum = np.array(part7_acc_cumsum, dtype=float)\n",
    "        \n",
    "        part1_acc_rate = np.divide(part1_acc_cumsum, part1_cumsum, out=np.ones_like(part1_acc_cumsum)*-1, where=part1_cumsum!=0)\n",
    "        part2_acc_rate = np.divide(part2_acc_cumsum, part2_cumsum, out=np.ones_like(part2_acc_cumsum)*-1, where=part2_cumsum!=0)\n",
    "        part3_acc_rate = np.divide(part3_acc_cumsum, part3_cumsum, out=np.ones_like(part3_acc_cumsum)*-1, where=part3_cumsum!=0)\n",
    "        part4_acc_rate = np.divide(part4_acc_cumsum, part4_cumsum, out=np.ones_like(part4_acc_cumsum)*-1, where=part4_cumsum!=0)\n",
    "        part5_acc_rate = np.divide(part5_acc_cumsum, part5_cumsum, out=np.ones_like(part5_acc_cumsum)*-1, where=part5_cumsum!=0)\n",
    "        part6_acc_rate = np.divide(part6_acc_cumsum, part6_cumsum, out=np.ones_like(part6_acc_cumsum)*-1, where=part6_cumsum!=0)\n",
    "        part7_acc_rate = np.divide(part7_acc_cumsum, part7_cumsum, out=np.ones_like(part7_acc_cumsum)*-1, where=part7_cumsum!=0)\n",
    "                    \n",
    "        df[\"acc_before_ans\"] = correct_rate\n",
    "        df[\"part1_acc\"] = part1_acc_rate\n",
    "        df[\"part2_acc\"] = part2_acc_rate\n",
    "        df[\"part3_acc\"] = part3_acc_rate\n",
    "        df[\"part4_acc\"] = part4_acc_rate\n",
    "        df[\"part5_acc\"] = part5_acc_rate\n",
    "        df[\"part6_acc\"] = part6_acc_rate\n",
    "        df[\"part7_acc\"] = part7_acc_rate  \n",
    "        df['prior_question_had_explanation'] = df['prior_question_had_explanation'].fillna(value = False).astype(bool)\n",
    "        df[\"lec\"] = lec_rate\n",
    "        \n",
    "    else:\n",
    "        df = df.merge(user_answers_df, how = 'left', on = 'user_id') # for acc_before_ans\n",
    "        df = df.merge(user_part_accuracy, how = 'left', on = 'user_id')\n",
    "        df = df.merge(user_answers_past2, how = 'left', on = 'user_id')\n",
    "        df = df.merge(user_answers_past3, how = 'left', on = 'user_id')\n",
    "        df = df.merge(user_lec_ratio, how = 'left', on = 'user_id')\n",
    "        df.drop([\"timestamp\"], axis=1, inplace=True)\n",
    "    \n",
    "    df.fillna(value = 0.5, inplace = True) #0?\n",
    "    return df\n",
    "train = get_data(train)"
   ]
  },
  {
   "cell_type": "code",
   "execution_count": 10,
   "metadata": {
    "execution": {
     "iopub.execute_input": "2020-11-01T10:13:38.711969Z",
     "iopub.status.busy": "2020-11-01T10:13:38.711144Z",
     "iopub.status.idle": "2020-11-01T10:16:11.029808Z",
     "shell.execute_reply": "2020-11-01T10:16:11.029034Z"
    },
    "papermill": {
     "duration": 152.3555,
     "end_time": "2020-11-01T10:16:11.029963",
     "exception": false,
     "start_time": "2020-11-01T10:13:38.674463",
     "status": "completed"
    },
    "tags": []
   },
   "outputs": [],
   "source": [
    "# target encoding + moving average not to cause target leakage\n",
    "AGGS = [\n",
    "    ('answered_correctly', 2, ['user_id'], ['mean']),\n",
    "    ('answered_correctly', 3, ['user_id'], ['mean']),\n",
    "]\n",
    "\n",
    "for on, lag, by, hows in AGGS:\n",
    "    agg = train.groupby(by)[on].apply(lambda x: (\n",
    "        x.shift(1).rolling(window=lag, min_periods=1).agg(hows)\n",
    "    ))\n",
    "    agg = agg.rename(columns={\n",
    "        how: f'{how}_of_last_{lag}_{on}_by_' + '_and_'.join(by)\n",
    "        for how in hows\n",
    "    })\n",
    "\n",
    "    train = train.join(agg)"
   ]
  },
  {
   "cell_type": "code",
   "execution_count": 11,
   "metadata": {
    "execution": {
     "iopub.execute_input": "2020-11-01T10:16:11.090340Z",
     "iopub.status.busy": "2020-11-01T10:16:11.089501Z",
     "iopub.status.idle": "2020-11-01T10:16:12.480312Z",
     "shell.execute_reply": "2020-11-01T10:16:12.479597Z"
    },
    "papermill": {
     "duration": 1.425001,
     "end_time": "2020-11-01T10:16:12.480466",
     "exception": false,
     "start_time": "2020-11-01T10:16:11.055465",
     "status": "completed"
    },
    "tags": []
   },
   "outputs": [],
   "source": [
    "target = 'answered_correctly'\n",
    "columns = [\"acc_before_ans\", 'content_id', 'part', 'prior_question_had_explanation', 'prior_question_elapsed_time',\n",
    "          \"part1_acc\",  \"part2_acc\", \"part3_acc\", \"part4_acc\", \"part5_acc\", \"part6_acc\", \"part7_acc\",\n",
    "           \"mean_of_last_2_answered_correctly_by_user_id\", \"mean_of_last_3_answered_correctly_by_user_id\", \"lec\"]\n",
    "others = [\"user_id\"]\n",
    "\n",
    "drop_columns = [i for i in train.columns if i not in columns + [target] + others]\n",
    "train.drop(drop_columns, axis=1, inplace=True)"
   ]
  },
  {
   "cell_type": "markdown",
   "metadata": {
    "papermill": {
     "duration": 0.024756,
     "end_time": "2020-11-01T10:16:12.531091",
     "exception": false,
     "start_time": "2020-11-01T10:16:12.506335",
     "status": "completed"
    },
    "tags": []
   },
   "source": [
    "# modelling"
   ]
  },
  {
   "cell_type": "code",
   "execution_count": 12,
   "metadata": {
    "execution": {
     "iopub.execute_input": "2020-11-01T10:16:12.589696Z",
     "iopub.status.busy": "2020-11-01T10:16:12.588853Z",
     "iopub.status.idle": "2020-11-01T10:16:17.147298Z",
     "shell.execute_reply": "2020-11-01T10:16:17.146524Z"
    },
    "papermill": {
     "duration": 4.591363,
     "end_time": "2020-11-01T10:16:17.147478",
     "exception": false,
     "start_time": "2020-11-01T10:16:12.556115",
     "status": "completed"
    },
    "tags": []
   },
   "outputs": [
    {
     "name": "stdout",
     "output_type": "stream",
     "text": [
      "(9229171, 16) (2035832, 16)\n"
     ]
    }
   ],
   "source": [
    "val_index = train.groupby(\"user_id\").tail(70).index\n",
    "train.drop(others, axis=1, inplace=True)\n",
    "X_valid = train.loc[val_index,:].copy()\n",
    "X_train = train.loc[~train.index.isin(val_index)]\n",
    "print(X_train.shape, X_valid.shape)\n",
    "del train"
   ]
  },
  {
   "cell_type": "code",
   "execution_count": 13,
   "metadata": {
    "execution": {
     "iopub.execute_input": "2020-11-01T10:16:17.206023Z",
     "iopub.status.busy": "2020-11-01T10:16:17.205265Z",
     "iopub.status.idle": "2020-11-01T10:16:17.734208Z",
     "shell.execute_reply": "2020-11-01T10:16:17.733562Z"
    },
    "papermill": {
     "duration": 0.561212,
     "end_time": "2020-11-01T10:16:17.734335",
     "exception": false,
     "start_time": "2020-11-01T10:16:17.173123",
     "status": "completed"
    },
    "tags": []
   },
   "outputs": [],
   "source": [
    "y_train = X_train[target]\n",
    "X_train.drop(target, axis=1, inplace=True)\n",
    "y_valid = X_valid[target]\n",
    "X_valid.drop(target, axis=1, inplace=True)"
   ]
  },
  {
   "cell_type": "code",
   "execution_count": 14,
   "metadata": {
    "execution": {
     "iopub.execute_input": "2020-11-01T10:16:17.800052Z",
     "iopub.status.busy": "2020-11-01T10:16:17.798096Z",
     "iopub.status.idle": "2020-11-01T10:27:51.320706Z",
     "shell.execute_reply": "2020-11-01T10:27:51.321468Z"
    },
    "papermill": {
     "duration": 693.560365,
     "end_time": "2020-11-01T10:27:51.321679",
     "exception": false,
     "start_time": "2020-11-01T10:16:17.761314",
     "status": "completed"
    },
    "tags": []
   },
   "outputs": [
    {
     "name": "stdout",
     "output_type": "stream",
     "text": [
      "Training until validation scores don't improve for 10 rounds\n",
      "[10]\ttraining's auc: 0.702946\tvalid_1's auc: 0.704895\n",
      "[20]\ttraining's auc: 0.720602\tvalid_1's auc: 0.717779\n",
      "[30]\ttraining's auc: 0.732862\tvalid_1's auc: 0.727156\n",
      "[40]\ttraining's auc: 0.742005\tvalid_1's auc: 0.734665\n",
      "[50]\ttraining's auc: 0.747296\tvalid_1's auc: 0.739062\n",
      "[60]\ttraining's auc: 0.751141\tvalid_1's auc: 0.74157\n",
      "[70]\ttraining's auc: 0.754243\tvalid_1's auc: 0.743627\n",
      "[80]\ttraining's auc: 0.756883\tvalid_1's auc: 0.745385\n",
      "[90]\ttraining's auc: 0.759056\tvalid_1's auc: 0.746619\n",
      "[100]\ttraining's auc: 0.760775\tvalid_1's auc: 0.747468\n",
      "[110]\ttraining's auc: 0.762189\tvalid_1's auc: 0.748084\n",
      "[120]\ttraining's auc: 0.7635\tvalid_1's auc: 0.748618\n",
      "[130]\ttraining's auc: 0.764747\tvalid_1's auc: 0.748928\n",
      "[140]\ttraining's auc: 0.765839\tvalid_1's auc: 0.749307\n",
      "[150]\ttraining's auc: 0.766706\tvalid_1's auc: 0.749494\n",
      "[160]\ttraining's auc: 0.767585\tvalid_1's auc: 0.749694\n",
      "[170]\ttraining's auc: 0.768581\tvalid_1's auc: 0.749968\n",
      "[180]\ttraining's auc: 0.769388\tvalid_1's auc: 0.750098\n",
      "[190]\ttraining's auc: 0.770164\tvalid_1's auc: 0.750186\n",
      "[200]\ttraining's auc: 0.770904\tvalid_1's auc: 0.750267\n",
      "Early stopping, best iteration is:\n",
      "[199]\ttraining's auc: 0.770822\tvalid_1's auc: 0.750268\n"
     ]
    }
   ],
   "source": [
    "categoricals = [\"content_id\", \"part\"]\n",
    "params = {'objective': 'binary', \"metric\": 'auc','eval_metric':'auc', 'boosting_type': 'gbdt', \n",
    "          'tree_learner': 'serial', 'learning_rate': 0.1,  \"num_leaves\": 80 } \n",
    "\n",
    "lgb_train = lgb.Dataset(X_train, y_train)\n",
    "lgb_eval = lgb.Dataset(X_valid, y_valid, reference=lgb_train)\n",
    "        \n",
    "model = lgb.train(params, lgb_train,valid_sets=[lgb_train, lgb_eval], \n",
    "        num_boost_round=550,early_stopping_rounds=10,verbose_eval = 10, categorical_feature=categoricals,)"
   ]
  },
  {
   "cell_type": "code",
   "execution_count": 15,
   "metadata": {
    "execution": {
     "iopub.execute_input": "2020-11-01T10:27:51.416443Z",
     "iopub.status.busy": "2020-11-01T10:27:51.415299Z",
     "iopub.status.idle": "2020-11-01T10:27:51.692768Z",
     "shell.execute_reply": "2020-11-01T10:27:51.691969Z"
    },
    "papermill": {
     "duration": 0.330417,
     "end_time": "2020-11-01T10:27:51.692921",
     "exception": false,
     "start_time": "2020-11-01T10:27:51.362504",
     "status": "completed"
    },
    "tags": []
   },
   "outputs": [
    {
     "data": {
      "image/png": "[encoded data removed]",
      "text/plain": [
       "<Figure size 720x360 with 1 Axes>"
      ]
     },
     "metadata": {
      "needs_background": "light"
     },
     "output_type": "display_data"
    }
   ],
   "source": [
    "features_list = [i for i in columns]\n",
    "feature_importance_df = pd.DataFrame(features_list, columns=[\"Feature\"])\n",
    "feature_importance_df[\"Importance\"] = model.feature_importance()\n",
    "\n",
    "plt.rcParams.update({'font.size': 15})\n",
    "x = list(feature_importance_df[\"Feature\"].values)\n",
    "y = feature_importance_df[\"Importance\"].values\n",
    "\n",
    "x_position = np.arange(len(x))\n",
    "\n",
    "fig = plt.figure(figsize=(10,5))\n",
    "ax = fig.add_subplot(1, 1, 1)\n",
    "ax.barh(x_position, y, tick_label=x)\n",
    "ax.set_xlabel('feature importance')\n",
    "plt.show()"
   ]
  },
  {
   "cell_type": "markdown",
   "metadata": {
    "papermill": {
     "duration": 0.035976,
     "end_time": "2020-11-01T10:27:51.765426",
     "exception": false,
     "start_time": "2020-11-01T10:27:51.729450",
     "status": "completed"
    },
    "tags": []
   },
   "source": [
    "# prediction"
   ]
  },
  {
   "cell_type": "code",
   "execution_count": 16,
   "metadata": {
    "execution": {
     "iopub.execute_input": "2020-11-01T10:27:51.848535Z",
     "iopub.status.busy": "2020-11-01T10:27:51.847437Z",
     "iopub.status.idle": "2020-11-01T10:27:51.850893Z",
     "shell.execute_reply": "2020-11-01T10:27:51.850149Z"
    },
    "papermill": {
     "duration": 0.049494,
     "end_time": "2020-11-01T10:27:51.851019",
     "exception": false,
     "start_time": "2020-11-01T10:27:51.801525",
     "status": "completed"
    },
    "tags": []
   },
   "outputs": [],
   "source": [
    "del X_train, X_valid, y_train, y_valid"
   ]
  },
  {
   "cell_type": "code",
   "execution_count": 17,
   "metadata": {
    "execution": {
     "iopub.execute_input": "2020-11-01T10:27:51.938874Z",
     "iopub.status.busy": "2020-11-01T10:27:51.932738Z",
     "iopub.status.idle": "2020-11-01T10:27:53.476194Z",
     "shell.execute_reply": "2020-11-01T10:27:53.475352Z"
    },
    "papermill": {
     "duration": 1.588845,
     "end_time": "2020-11-01T10:27:53.476319",
     "exception": false,
     "start_time": "2020-11-01T10:27:51.887474",
     "status": "completed"
    },
    "tags": []
   },
   "outputs": [],
   "source": [
    "env = riiideducation.make_env()\n",
    "iter_test = env.iter_test()\n",
    "\n",
    "for (test_df, sample_prediction_df) in iter_test:\n",
    "    y_preds = []\n",
    "    test_df = test_df.merge(questions[[\"question_id\", \"part\"]], how=\"left\", left_on=['content_id'], right_on=['question_id'])\n",
    "    test_df.drop([\"question_id\"], axis=1, inplace=True)\n",
    "\n",
    "    test_df['prior_question_had_explanation'] = test_df['prior_question_had_explanation'].fillna(value = False).astype(bool)\n",
    "    test_df = get_data(test_df, test_set=True)\n",
    "\n",
    "    #for model in models:\n",
    "    y_pred = model.predict(test_df[columns], num_iteration=model.best_iteration)\n",
    "    y_preds.append(y_pred)\n",
    "\n",
    "    y_preds = sum(y_preds) / len(y_preds)\n",
    "    test_df['answered_correctly'] = y_preds\n",
    "    env.predict(test_df.loc[test_df['content_type_id'] == 0, ['row_id', 'answered_correctly']])"
   ]
  },
  {
   "cell_type": "code",
   "execution_count": null,
   "metadata": {
    "papermill": {
     "duration": 0.036102,
     "end_time": "2020-11-01T10:27:53.549159",
     "exception": false,
     "start_time": "2020-11-01T10:27:53.513057",
     "status": "completed"
    },
    "tags": []
   },
   "outputs": [],
   "source": []
  }
 ],
 "metadata": {
  "kernelspec": {
   "display_name": "Python 3",
   "language": "python",
   "name": "python3"
  },
  "language_info": {
   "codemirror_mode": {
    "name": "ipython",
    "version": 3
   },
   "file_extension": ".py",
   "mimetype": "text/x-python",
   "name": "python",
   "nbconvert_exporter": "python",
   "pygments_lexer": "ipython3",
   "version": "3.7.6"
  },
  "papermill": {
   "duration": 2157.2887,
   "end_time": "2020-11-01T10:27:53.796703",
   "environment_variables": {},
   "exception": null,
   "input_path": "__notebook__.ipynb",
   "output_path": "__notebook__.ipynb",
   "parameters": {},
   "start_time": "2020-11-01T09:51:56.508003",
   "version": "2.1.0"
  },
  "widgets": {
   "application/vnd.jupyter.widget-state+json": {
    "state": {
     "09aafa4b08e7457f9d5abdab1ab65e71": {
      "model_module": "@jupyter-widgets/controls",
      "model_module_version": "1.5.0",
      "model_name": "DescriptionStyleModel",
      "state": {
       "_model_module": "@jupyter-widgets/controls",
       "_model_module_version": "1.5.0",
       "_model_name": "DescriptionStyleModel",
       "_view_count": null,
       "_view_module": "@jupyter-widgets/base",
       "_view_module_version": "1.2.0",
       "_view_name": "StyleView",
       "description_width": ""
      }
     },
     "219eb97f64ae4929a63d0c2cef738a4b": {
      "model_module": "@jupyter-widgets/base",
      "model_module_version": "1.2.0",
      "model_name": "LayoutModel",
      "state": {
       "_model_module": "@jupyter-widgets/base",
       "_model_module_version": "1.2.0",
       "_model_name": "LayoutModel",
       "_view_count": null,
       "_view_module": "@jupyter-widgets/base",
       "_view_module_version": "1.2.0",
       "_view_name": "LayoutView",
       "align_content": null,
       "align_items": null,
       "align_self": null,
       "border": null,
       "bottom": null,
       "display": null,
       "flex": null,
       "flex_flow": null,
       "grid_area": null,
       "grid_auto_columns": null,
       "grid_auto_flow": null,
       "grid_auto_rows": null,
       "grid_column": null,
       "grid_gap": null,
       "grid_row": null,
       "grid_template_areas": null,
       "grid_template_columns": null,
       "grid_template_rows": null,
       "height": null,
       "justify_content": null,
       "justify_items": null,
       "left": null,
       "margin": null,
       "max_height": null,
       "max_width": null,
       "min_height": null,
       "min_width": null,
       "object_fit": null,
       "object_position": null,
       "order": null,
       "overflow": null,
       "overflow_x": null,
       "overflow_y": null,
       "padding": null,
       "right": null,
       "top": null,
       "visibility": null,
       "width": null
      }
     },
     "32f3a6005b2f4f9dab963cc29c096a4e": {
      "model_module": "@jupyter-widgets/controls",
      "model_module_version": "1.5.0",
      "model_name": "FloatProgressModel",
      "state": {
       "_dom_classes": [],
       "_model_module": "@jupyter-widgets/controls",
       "_model_module_version": "1.5.0",
       "_model_name": "FloatProgressModel",
       "_view_count": null,
       "_view_module": "@jupyter-widgets/controls",
       "_view_module_version": "1.5.0",
       "_view_name": "ProgressView",
       "bar_style": "success",
       "description": "progress: 100%",
       "description_tooltip": null,
       "layout": "IPY_MODEL_979a652115b0406f8e699597268c32fb",
       "max": 393656.0,
       "min": 0.0,
       "orientation": "horizontal",
       "style": "IPY_MODEL_c281e5b15c024d6ba48bb01afea2a95b",
       "value": 393656.0
      }
     },
     "5ab42346481a43b09f01e276d171ca00": {
      "model_module": "@jupyter-widgets/controls",
      "model_module_version": "1.5.0",
      "model_name": "HBoxModel",
      "state": {
       "_dom_classes": [],
       "_model_module": "@jupyter-widgets/controls",
       "_model_module_version": "1.5.0",
       "_model_name": "HBoxModel",
       "_view_count": null,
       "_view_module": "@jupyter-widgets/controls",
       "_view_module_version": "1.5.0",
       "_view_name": "HBoxView",
       "box_style": "",
       "children": [
        "IPY_MODEL_32f3a6005b2f4f9dab963cc29c096a4e",
        "IPY_MODEL_f44de9b283d64aa2a2cfd859fe51bc28"
       ],
       "layout": "IPY_MODEL_219eb97f64ae4929a63d0c2cef738a4b"
      }
     },
     "81346f1c865944c997189292c89370de": {
      "model_module": "@jupyter-widgets/base",
      "model_module_version": "1.2.0",
      "model_name": "LayoutModel",
      "state": {
       "_model_module": "@jupyter-widgets/base",
       "_model_module_version": "1.2.0",
       "_model_name": "LayoutModel",
       "_view_count": null,
       "_view_module": "@jupyter-widgets/base",
       "_view_module_version": "1.2.0",
       "_view_name": "LayoutView",
       "align_content": null,
       "align_items": null,
       "align_self": null,
       "border": null,
       "bottom": null,
       "display": null,
       "flex": null,
       "flex_flow": null,
       "grid_area": null,
       "grid_auto_columns": null,
       "grid_auto_flow": null,
       "grid_auto_rows": null,
       "grid_column": null,
       "grid_gap": null,
       "grid_row": null,
       "grid_template_areas": null,
       "grid_template_columns": null,
       "grid_template_rows": null,
       "height": null,
       "justify_content": null,
       "justify_items": null,
       "left": null,
       "margin": null,
       "max_height": null,
       "max_width": null,
       "min_height": null,
       "min_width": null,
       "object_fit": null,
       "object_position": null,
       "order": null,
       "overflow": null,
       "overflow_x": null,
       "overflow_y": null,
       "padding": null,
       "right": null,
       "top": null,
       "visibility": null,
       "width": null
      }
     },
     "979a652115b0406f8e699597268c32fb": {
      "model_module": "@jupyter-widgets/base",
      "model_module_version": "1.2.0",
      "model_name": "LayoutModel",
      "state": {
       "_model_module": "@jupyter-widgets/base",
       "_model_module_version": "1.2.0",
       "_model_name": "LayoutModel",
       "_view_count": null,
       "_view_module": "@jupyter-widgets/base",
       "_view_module_version": "1.2.0",
       "_view_name": "LayoutView",
       "align_content": null,
       "align_items": null,
       "align_self": null,
       "border": null,
       "bottom": null,
       "display": null,
       "flex": null,
       "flex_flow": null,
       "grid_area": null,
       "grid_auto_columns": null,
       "grid_auto_flow": null,
       "grid_auto_rows": null,
       "grid_column": null,
       "grid_gap": null,
       "grid_row": null,
       "grid_template_areas": null,
       "grid_template_columns": null,
       "grid_template_rows": null,
       "height": null,
       "justify_content": null,
       "justify_items": null,
       "left": null,
       "margin": null,
       "max_height": null,
       "max_width": null,
       "min_height": null,
       "min_width": null,
       "object_fit": null,
       "object_position": null,
       "order": null,
       "overflow": null,
       "overflow_x": null,
       "overflow_y": null,
       "padding": null,
       "right": null,
       "top": null,
       "visibility": null,
       "width": null
      }
     },
     "c281e5b15c024d6ba48bb01afea2a95b": {
      "model_module": "@jupyter-widgets/controls",
      "model_module_version": "1.5.0",
      "model_name": "ProgressStyleModel",
      "state": {
       "_model_module": "@jupyter-widgets/controls",
       "_model_module_version": "1.5.0",
       "_model_name": "ProgressStyleModel",
       "_view_count": null,
       "_view_module": "@jupyter-widgets/base",
       "_view_module_version": "1.2.0",
       "_view_name": "StyleView",
       "bar_color": null,
       "description_width": "initial"
      }
     },
     "f44de9b283d64aa2a2cfd859fe51bc28": {
      "model_module": "@jupyter-widgets/controls",
      "model_module_version": "1.5.0",
      "model_name": "HTMLModel",
      "state": {
       "_dom_classes": [],
       "_model_module": "@jupyter-widgets/controls",
       "_model_module_version": "1.5.0",
       "_model_name": "HTMLModel",
       "_view_count": null,
       "_view_module": "@jupyter-widgets/controls",
       "_view_module_version": "1.5.0",
       "_view_name": "HTMLView",
       "description": "",
       "description_tooltip": null,
       "layout": "IPY_MODEL_81346f1c865944c997189292c89370de",
       "placeholder": "​",
       "style": "IPY_MODEL_09aafa4b08e7457f9d5abdab1ab65e71",
       "value": " 393656/393656 [03:21&lt;00:00, 1956.24it/s]"
      }
     }
    },
    "version_major": 2,
    "version_minor": 0
   }
  }
 },
 "nbformat": 4,
 "nbformat_minor": 4
}
