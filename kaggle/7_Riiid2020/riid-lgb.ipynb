{
 "cells": [
  {
   "cell_type": "markdown",
   "metadata": {
    "papermill": {
     "duration": 0.020812,
     "end_time": "2020-11-27T04:28:47.428309",
     "exception": false,
     "start_time": "2020-11-27T04:28:47.407497",
     "status": "completed"
    },
    "tags": []
   },
   "source": [
    "- change validation method\n",
    "- reduce fe to save memory"
   ]
  },
  {
   "cell_type": "code",
   "execution_count": 1,
   "metadata": {
    "_cell_guid": "b1076dfc-b9ad-4769-8c92-a6c4dae69d19",
    "_uuid": "8f2839f25d086af736a60e9eeb907d3b93b6e0e5",
    "execution": {
     "iopub.execute_input": "2020-11-27T04:28:47.475758Z",
     "iopub.status.busy": "2020-11-27T04:28:47.474829Z",
     "iopub.status.idle": "2020-11-27T04:28:48.455609Z",
     "shell.execute_reply": "2020-11-27T04:28:48.456447Z"
    },
    "papermill": {
     "duration": 1.008266,
     "end_time": "2020-11-27T04:28:48.456667",
     "exception": false,
     "start_time": "2020-11-27T04:28:47.448401",
     "status": "completed"
    },
    "tags": []
   },
   "outputs": [
    {
     "name": "stderr",
     "output_type": "stream",
     "text": [
      "/opt/conda/lib/python3.7/site-packages/ipykernel_launcher.py:17: TqdmDeprecationWarning: This function will be removed in tqdm==5.0.0\n",
      "Please use `tqdm.notebook.*` instead of `tqdm._tqdm_notebook.*`\n"
     ]
    }
   ],
   "source": [
    "import sys\n",
    "import copy\n",
    "import random\n",
    "import feather\n",
    "import warnings\n",
    "import numpy as np\n",
    "import pandas as pd\n",
    "from time import time\n",
    "import lightgbm as lgb\n",
    "from collections import Counter\n",
    "from sklearn import preprocessing\n",
    "from collections import defaultdict\n",
    "from tqdm import tqdm_notebook as tqdm\n",
    "from sklearn.model_selection import GroupKFold\n",
    "from sklearn.metrics import roc_auc_score\n",
    "import matplotlib.pyplot as plt \n",
    "from tqdm._tqdm_notebook import tqdm_notebook\n",
    "\n",
    "import riiideducation\n",
    "warnings.filterwarnings(\"ignore\")\n",
    "tqdm_notebook.pandas(desc=\"progress: \")"
   ]
  },
  {
   "cell_type": "code",
   "execution_count": 2,
   "metadata": {
    "_cell_guid": "79c7e3d0-c299-4dcb-8224-4455121ee9b0",
    "_uuid": "d629ff2d2480ee46fbb7e2d37f6b5fab8052498a",
    "execution": {
     "iopub.execute_input": "2020-11-27T04:28:48.507849Z",
     "iopub.status.busy": "2020-11-27T04:28:48.507204Z",
     "iopub.status.idle": "2020-11-27T04:28:54.989457Z",
     "shell.execute_reply": "2020-11-27T04:28:54.988748Z"
    },
    "papermill": {
     "duration": 6.510471,
     "end_time": "2020-11-27T04:28:54.989568",
     "exception": false,
     "start_time": "2020-11-27T04:28:48.479097",
     "status": "completed"
    },
    "tags": []
   },
   "outputs": [],
   "source": [
    "DIR = \"../input/riiid-test-answer-prediction/\"\n",
    "train = pd.read_feather(\"../input/riid-train/train.feather\")\n",
    "lectures = pd.read_csv(DIR+\"lectures.csv\")\n",
    "questions = pd.read_csv(DIR+\"questions.csv\")"
   ]
  },
  {
   "cell_type": "code",
   "execution_count": 3,
   "metadata": {
    "execution": {
     "iopub.execute_input": "2020-11-27T04:28:55.027845Z",
     "iopub.status.busy": "2020-11-27T04:28:55.023740Z",
     "iopub.status.idle": "2020-11-27T04:28:55.035062Z",
     "shell.execute_reply": "2020-11-27T04:28:55.034496Z"
    },
    "papermill": {
     "duration": 0.030958,
     "end_time": "2020-11-27T04:28:55.035179",
     "exception": false,
     "start_time": "2020-11-27T04:28:55.004221",
     "status": "completed"
    },
    "tags": []
   },
   "outputs": [],
   "source": [
    "lecture_id = list(lectures.lecture_id.unique())\n",
    "lectures['type_of'] = lectures['type_of'].replace('solving question', 'solving_question')\n",
    "lectures = pd.get_dummies(lectures, columns=['type_of'])\n",
    "\n",
    "types_columns = [column for column in lectures.columns if column.startswith('type_of_')]"
   ]
  },
  {
   "cell_type": "code",
   "execution_count": 4,
   "metadata": {
    "execution": {
     "iopub.execute_input": "2020-11-27T04:28:55.072212Z",
     "iopub.status.busy": "2020-11-27T04:28:55.071505Z",
     "iopub.status.idle": "2020-11-27T04:28:55.076887Z",
     "shell.execute_reply": "2020-11-27T04:28:55.076256Z"
    },
    "papermill": {
     "duration": 0.027336,
     "end_time": "2020-11-27T04:28:55.077016",
     "exception": false,
     "start_time": "2020-11-27T04:28:55.049680",
     "status": "completed"
    },
    "tags": []
   },
   "outputs": [
    {
     "data": {
      "text/plain": [
       "(101230332, 10)"
      ]
     },
     "execution_count": 4,
     "metadata": {},
     "output_type": "execute_result"
    }
   ],
   "source": [
    "train.shape"
   ]
  },
  {
   "cell_type": "markdown",
   "metadata": {
    "papermill": {
     "duration": 0.014222,
     "end_time": "2020-11-27T04:28:55.105879",
     "exception": false,
     "start_time": "2020-11-27T04:28:55.091657",
     "status": "completed"
    },
    "tags": []
   },
   "source": [
    "# preprocess"
   ]
  },
  {
   "cell_type": "code",
   "execution_count": 5,
   "metadata": {
    "execution": {
     "iopub.execute_input": "2020-11-27T04:28:55.143353Z",
     "iopub.status.busy": "2020-11-27T04:28:55.142709Z",
     "iopub.status.idle": "2020-11-27T04:30:54.738166Z",
     "shell.execute_reply": "2020-11-27T04:30:54.737504Z"
    },
    "papermill": {
     "duration": 119.618077,
     "end_time": "2020-11-27T04:30:54.738270",
     "exception": false,
     "start_time": "2020-11-27T04:28:55.120193",
     "status": "completed"
    },
    "tags": []
   },
   "outputs": [],
   "source": [
    "# executed in advance\n",
    "train = train.sort_values(['user_id', 'timestamp']).reset_index(drop=True)\n",
    "train.drop([\"user_answer\", \"timestamp\"], axis=1, inplace=True)\n",
    "\n",
    "user_try_count = train.groupby(\"user_id\")[\"row_id\"].count().reset_index()\n",
    "user_try_count.columns = [\"user_id\", \"max_count\"]\n",
    "\n",
    "train.drop([\"row_id\", 'task_container_id'], axis=1, inplace=True)"
   ]
  },
  {
   "cell_type": "code",
   "execution_count": 6,
   "metadata": {
    "execution": {
     "iopub.execute_input": "2020-11-27T04:30:54.779054Z",
     "iopub.status.busy": "2020-11-27T04:30:54.778156Z",
     "iopub.status.idle": "2020-11-27T04:31:24.198766Z",
     "shell.execute_reply": "2020-11-27T04:31:24.197903Z"
    },
    "papermill": {
     "duration": 29.445616,
     "end_time": "2020-11-27T04:31:24.199036",
     "exception": false,
     "start_time": "2020-11-27T04:30:54.753420",
     "status": "completed"
    },
    "tags": []
   },
   "outputs": [
    {
     "name": "stdout",
     "output_type": "stream",
     "text": [
      "consider lecture data\n",
      "remove lecture data\n",
      "merge question data\n",
      "groupby calculation\n"
     ]
    }
   ],
   "source": [
    "print(\"consider lecture data\")\n",
    "#user_lec_df = train.groupby('user_id').agg({'content_type_id': ['mean']}).copy()\n",
    "#user_lec_df.columns = [\"lec_ratio\"]\n",
    "\n",
    "#train[\"lec\"] = train.groupby([\"user_id\"])['content_type_id'].progress_apply(lambda x: x.shift(1))\n",
    "#train.drop([\"content_type_id\"], axis=1, inplace=True)\n",
    "\n",
    "#train = train.merge(lectures[[\"lecture_id\"]+types_columns], how=\"left\", left_on=['content_id'], right_on=['lecture_id']).drop(columns='lecture_id')\n",
    "#user_lec_type = train.groupby(\"user_id\").agg(\"mean\")[types_columns]\n",
    "#user_lec_type = user_lec_type.fillna(0)\n",
    "\n",
    "print(\"remove lecture data\")\n",
    "train = train.loc[train['answered_correctly'] != -1].reset_index(drop=True)\n",
    "\n",
    "print(\"merge question data\")\n",
    "# https://stackoverflow.com/questions/25888207/pandas-join-dataframes-on-field-with-different-names\n",
    "train = train.merge(questions[[\"question_id\", \"part\"]], how=\"left\", left_on=['content_id'], right_on=['question_id'], right_index=True).reset_index(drop=True)\n",
    "train.drop([\"question_id\"], axis=1, inplace=True)\n",
    "\n",
    "print(\"groupby calculation\")\n",
    "user_answers_df = train.groupby('user_id').agg({'answered_correctly': ['mean']}).copy()\n",
    "user_answers_df.columns = [\"acc_before_ans\"]\n",
    "\n",
    "#user_answers_past2 = pd.DataFrame(train.groupby(\"user_id\").tail(2).groupby(\"user_id\").agg(\"mean\")[\"answered_correctly\"])\n",
    "#user_answers_past2.columns = [\"mean_of_last_2_answered_correctly_by_user_id\"]\n",
    "#user_answers_past3 = pd.DataFrame(train.groupby(\"user_id\").tail(3).groupby(\"user_id\").agg(\"mean\")[\"answered_correctly\"])\n",
    "#user_answers_past3.columns = [\"mean_of_last_3_answered_correctly_by_user_id\"]\n",
    "\n",
    "#user_part_accuracy = train.groupby(['user_id', 'part']).agg({'answered_correctly': ['mean']}).copy().unstack()\n",
    "#user_part_accuracy.columns = [\"part1_acc\", \"part2_acc\", \"part3_acc\", \"part4_acc\", \"part5_acc\", \"part6_acc\", \"part7_acc\"]\n",
    "\n",
    "#user_lec_ratio = train.groupby(['user_id']).agg({'lec': ['mean']}).copy()\n",
    "#user_lec_ratio.columns = [\"lec\"]\n",
    "\n",
    "mean_accuracy_by_part = np.array([0.74503238, 0.70869406, 0.70145593, 0.63099758, 0.61008792, 0.66938835, 0.65960112])"
   ]
  },
  {
   "cell_type": "code",
   "execution_count": 7,
   "metadata": {
    "execution": {
     "iopub.execute_input": "2020-11-27T04:31:24.240331Z",
     "iopub.status.busy": "2020-11-27T04:31:24.239490Z",
     "iopub.status.idle": "2020-11-27T04:31:28.600461Z",
     "shell.execute_reply": "2020-11-27T04:31:28.599774Z"
    },
    "papermill": {
     "duration": 4.383491,
     "end_time": "2020-11-27T04:31:28.600571",
     "exception": false,
     "start_time": "2020-11-27T04:31:24.217080",
     "status": "completed"
    },
    "tags": []
   },
   "outputs": [],
   "source": [
    "tmp = train.groupby(\"content_id\")[\"answered_correctly\"].mean().reset_index()\n",
    "difficult_content = list(tmp[tmp.answered_correctly<0.3][\"content_id\"])\n",
    "del tmp"
   ]
  },
  {
   "cell_type": "code",
   "execution_count": 8,
   "metadata": {
    "execution": {
     "iopub.execute_input": "2020-11-27T04:31:28.639191Z",
     "iopub.status.busy": "2020-11-27T04:31:28.638190Z",
     "iopub.status.idle": "2020-11-27T04:31:29.269851Z",
     "shell.execute_reply": "2020-11-27T04:31:29.269340Z"
    },
    "papermill": {
     "duration": 0.652857,
     "end_time": "2020-11-27T04:31:29.269981",
     "exception": false,
     "start_time": "2020-11-27T04:31:28.617124",
     "status": "completed"
    },
    "tags": []
   },
   "outputs": [
    {
     "name": "stdout",
     "output_type": "stream",
     "text": [
      "(99271300, 7) 393656\n"
     ]
    },
    {
     "data": {
      "text/html": [
       "<div>\n",
       "<style scoped>\n",
       "    .dataframe tbody tr th:only-of-type {\n",
       "        vertical-align: middle;\n",
       "    }\n",
       "\n",
       "    .dataframe tbody tr th {\n",
       "        vertical-align: top;\n",
       "    }\n",
       "\n",
       "    .dataframe thead th {\n",
       "        text-align: right;\n",
       "    }\n",
       "</style>\n",
       "<table border=\"1\" class=\"dataframe\">\n",
       "  <thead>\n",
       "    <tr style=\"text-align: right;\">\n",
       "      <th></th>\n",
       "      <th>user_id</th>\n",
       "      <th>content_id</th>\n",
       "      <th>content_type_id</th>\n",
       "      <th>answered_correctly</th>\n",
       "      <th>prior_question_elapsed_time</th>\n",
       "      <th>prior_question_had_explanation</th>\n",
       "      <th>part</th>\n",
       "    </tr>\n",
       "  </thead>\n",
       "  <tbody>\n",
       "    <tr>\n",
       "      <th>0</th>\n",
       "      <td>115</td>\n",
       "      <td>5692</td>\n",
       "      <td>0</td>\n",
       "      <td>1</td>\n",
       "      <td>4294967295</td>\n",
       "      <td>None</td>\n",
       "      <td>5</td>\n",
       "    </tr>\n",
       "    <tr>\n",
       "      <th>1</th>\n",
       "      <td>115</td>\n",
       "      <td>5716</td>\n",
       "      <td>0</td>\n",
       "      <td>1</td>\n",
       "      <td>37000</td>\n",
       "      <td>False</td>\n",
       "      <td>5</td>\n",
       "    </tr>\n",
       "    <tr>\n",
       "      <th>2</th>\n",
       "      <td>115</td>\n",
       "      <td>128</td>\n",
       "      <td>0</td>\n",
       "      <td>1</td>\n",
       "      <td>55000</td>\n",
       "      <td>False</td>\n",
       "      <td>1</td>\n",
       "    </tr>\n",
       "    <tr>\n",
       "      <th>3</th>\n",
       "      <td>115</td>\n",
       "      <td>7860</td>\n",
       "      <td>0</td>\n",
       "      <td>1</td>\n",
       "      <td>19000</td>\n",
       "      <td>False</td>\n",
       "      <td>1</td>\n",
       "    </tr>\n",
       "    <tr>\n",
       "      <th>4</th>\n",
       "      <td>115</td>\n",
       "      <td>7922</td>\n",
       "      <td>0</td>\n",
       "      <td>1</td>\n",
       "      <td>11000</td>\n",
       "      <td>False</td>\n",
       "      <td>1</td>\n",
       "    </tr>\n",
       "    <tr>\n",
       "      <th>5</th>\n",
       "      <td>115</td>\n",
       "      <td>156</td>\n",
       "      <td>0</td>\n",
       "      <td>1</td>\n",
       "      <td>5000</td>\n",
       "      <td>False</td>\n",
       "      <td>1</td>\n",
       "    </tr>\n",
       "    <tr>\n",
       "      <th>6</th>\n",
       "      <td>115</td>\n",
       "      <td>51</td>\n",
       "      <td>0</td>\n",
       "      <td>1</td>\n",
       "      <td>17000</td>\n",
       "      <td>False</td>\n",
       "      <td>1</td>\n",
       "    </tr>\n",
       "    <tr>\n",
       "      <th>7</th>\n",
       "      <td>115</td>\n",
       "      <td>50</td>\n",
       "      <td>0</td>\n",
       "      <td>1</td>\n",
       "      <td>17000</td>\n",
       "      <td>False</td>\n",
       "      <td>1</td>\n",
       "    </tr>\n",
       "    <tr>\n",
       "      <th>8</th>\n",
       "      <td>115</td>\n",
       "      <td>7896</td>\n",
       "      <td>0</td>\n",
       "      <td>1</td>\n",
       "      <td>16000</td>\n",
       "      <td>False</td>\n",
       "      <td>1</td>\n",
       "    </tr>\n",
       "    <tr>\n",
       "      <th>9</th>\n",
       "      <td>115</td>\n",
       "      <td>7863</td>\n",
       "      <td>0</td>\n",
       "      <td>1</td>\n",
       "      <td>16000</td>\n",
       "      <td>False</td>\n",
       "      <td>1</td>\n",
       "    </tr>\n",
       "  </tbody>\n",
       "</table>\n",
       "</div>"
      ],
      "text/plain": [
       "   user_id  content_id  content_type_id  answered_correctly  \\\n",
       "0      115        5692                0                   1   \n",
       "1      115        5716                0                   1   \n",
       "2      115         128                0                   1   \n",
       "3      115        7860                0                   1   \n",
       "4      115        7922                0                   1   \n",
       "5      115         156                0                   1   \n",
       "6      115          51                0                   1   \n",
       "7      115          50                0                   1   \n",
       "8      115        7896                0                   1   \n",
       "9      115        7863                0                   1   \n",
       "\n",
       "   prior_question_elapsed_time prior_question_had_explanation  part  \n",
       "0                   4294967295                           None     5  \n",
       "1                        37000                          False     5  \n",
       "2                        55000                          False     1  \n",
       "3                        19000                          False     1  \n",
       "4                        11000                          False     1  \n",
       "5                         5000                          False     1  \n",
       "6                        17000                          False     1  \n",
       "7                        17000                          False     1  \n",
       "8                        16000                          False     1  \n",
       "9                        16000                          False     1  "
      ]
     },
     "execution_count": 8,
     "metadata": {},
     "output_type": "execute_result"
    }
   ],
   "source": [
    "#train = train.iloc[90007298:,:]\n",
    "#train['task_container_id'] = train.groupby('user_id')['task_container_id'].transform(lambda x: pd.factorize(x)[0]).astype('int16')\n",
    "#train[\"lec\"] = train[\"lec\"].fillna(0)\n",
    "print(train.shape, len(train.user_id.unique()))\n",
    "train.head(10)"
   ]
  },
  {
   "cell_type": "markdown",
   "metadata": {
    "papermill": {
     "duration": 0.016847,
     "end_time": "2020-11-27T04:31:29.304398",
     "exception": false,
     "start_time": "2020-11-27T04:31:29.287551",
     "status": "completed"
    },
    "tags": []
   },
   "source": [
    "# Feature engineering"
   ]
  },
  {
   "cell_type": "code",
   "execution_count": 9,
   "metadata": {
    "execution": {
     "iopub.execute_input": "2020-11-27T04:31:29.351332Z",
     "iopub.status.busy": "2020-11-27T04:31:29.350660Z",
     "iopub.status.idle": "2020-11-27T04:40:43.276905Z",
     "shell.execute_reply": "2020-11-27T04:40:43.277624Z"
    },
    "papermill": {
     "duration": 553.95663,
     "end_time": "2020-11-27T04:40:43.277812",
     "exception": false,
     "start_time": "2020-11-27T04:31:29.321182",
     "status": "completed"
    },
    "tags": []
   },
   "outputs": [
    {
     "name": "stdout",
     "output_type": "stream",
     "text": [
      "CPU times: user 9min 3s, sys: 10.8 s, total: 9min 14s\n",
      "Wall time: 9min 13s\n"
     ]
    }
   ],
   "source": [
    "%%time\n",
    "def get_data(df, test_set=False):\n",
    "    if test_set == False:\n",
    "        \n",
    "        # cumsum correct answer by user_id\n",
    "        df['lag'] = df.groupby('user_id')[\"answered_correctly\"].shift()\n",
    "        cum = df.groupby('user_id')['lag'].agg(['cumsum', 'cumcount'])\n",
    "        df['acc_before_ans'] = cum['cumsum'] / cum['cumcount']\n",
    "        df.drop(columns=['lag'], inplace=True)\n",
    "        del cum\n",
    "                    \n",
    "        df['prior_question_had_explanation'] = df['prior_question_had_explanation'].fillna(value = False).astype(bool)\n",
    "        df[\"count\"] = 1\n",
    "        df[\"count\"] = df.groupby(\"user_id\")[\"count\"].cumsum()\n",
    "        \n",
    "    else:\n",
    "        df = df.merge(user_answers_df, how = 'left', left_on = 'user_id', right_index=True).reset_index(drop=True) \n",
    "        df = df.merge(user_try_count, how=\"left\", on=\"user_id\", right_index=True).reset_index(drop=True)\n",
    "        df[\"max_count\"] = df[\"max_count\"].fillna(0)\n",
    "        df[\"count\"] = 1\n",
    "        df[\"count\"] = df.groupby(\"user_id\")[\"count\"].cumsum()\n",
    "        df[\"count\"] += df[\"max_count\"]\n",
    "        df.drop([\"timestamp\",\"max_count\"], axis=1, inplace=True)\n",
    "    \n",
    "    df[\"difficult_content\"] = df[\"content_id\"].apply(lambda x: 1 if x in difficult_content else 0)\n",
    "    df.fillna(value = 0.5, inplace = True) #0?\n",
    "    return df\n",
    "train = get_data(train)"
   ]
  },
  {
   "cell_type": "code",
   "execution_count": 10,
   "metadata": {
    "execution": {
     "iopub.execute_input": "2020-11-27T04:40:43.320327Z",
     "iopub.status.busy": "2020-11-27T04:40:43.319720Z",
     "iopub.status.idle": "2020-11-27T04:40:47.412605Z",
     "shell.execute_reply": "2020-11-27T04:40:47.412040Z"
    },
    "papermill": {
     "duration": 4.117266,
     "end_time": "2020-11-27T04:40:47.412719",
     "exception": false,
     "start_time": "2020-11-27T04:40:43.295453",
     "status": "completed"
    },
    "tags": []
   },
   "outputs": [],
   "source": [
    "target = 'answered_correctly'\n",
    "columns = [\"acc_before_ans\", 'content_id', 'part', 'prior_question_had_explanation', 'prior_question_elapsed_time',\n",
    "            \"difficult_content\", \"count\"] \n",
    "others = [\"user_id\"]\n",
    "\n",
    "drop_columns = [i for i in train.columns if i not in columns + [target]+others]\n",
    "train.drop(drop_columns, axis=1, inplace=True)"
   ]
  },
  {
   "cell_type": "code",
   "execution_count": 11,
   "metadata": {
    "execution": {
     "iopub.execute_input": "2020-11-27T04:40:47.454412Z",
     "iopub.status.busy": "2020-11-27T04:40:47.453753Z",
     "iopub.status.idle": "2020-11-27T04:40:55.523546Z",
     "shell.execute_reply": "2020-11-27T04:40:55.524046Z"
    },
    "papermill": {
     "duration": 8.093595,
     "end_time": "2020-11-27T04:40:55.524190",
     "exception": false,
     "start_time": "2020-11-27T04:40:47.430595",
     "status": "completed"
    },
    "tags": []
   },
   "outputs": [],
   "source": [
    "train = train.groupby('user_id').tail(24).reset_index(drop=True)\n",
    "valid = train.groupby('user_id').tail(6)\n",
    "train.drop(valid.index, inplace=True)\n",
    "\n",
    "train.drop(\"user_id\", axis=1, inplace=True)\n",
    "valid.drop(\"user_id\", axis=1, inplace=True)"
   ]
  },
  {
   "cell_type": "code",
   "execution_count": 12,
   "metadata": {
    "execution": {
     "iopub.execute_input": "2020-11-27T04:40:55.565214Z",
     "iopub.status.busy": "2020-11-27T04:40:55.564508Z",
     "iopub.status.idle": "2020-11-27T04:40:55.569178Z",
     "shell.execute_reply": "2020-11-27T04:40:55.568640Z"
    },
    "papermill": {
     "duration": 0.027028,
     "end_time": "2020-11-27T04:40:55.569282",
     "exception": false,
     "start_time": "2020-11-27T04:40:55.542254",
     "status": "completed"
    },
    "tags": []
   },
   "outputs": [
    {
     "data": {
      "text/plain": [
       "((6536675, 8), (2360984, 8))"
      ]
     },
     "execution_count": 12,
     "metadata": {},
     "output_type": "execute_result"
    }
   ],
   "source": [
    "train.shape, valid.shape"
   ]
  },
  {
   "cell_type": "code",
   "execution_count": 13,
   "metadata": {
    "execution": {
     "iopub.execute_input": "2020-11-27T04:40:55.610862Z",
     "iopub.status.busy": "2020-11-27T04:40:55.610147Z",
     "iopub.status.idle": "2020-11-27T04:40:55.615742Z",
     "shell.execute_reply": "2020-11-27T04:40:55.615130Z"
    },
    "papermill": {
     "duration": 0.028296,
     "end_time": "2020-11-27T04:40:55.615839",
     "exception": false,
     "start_time": "2020-11-27T04:40:55.587543",
     "status": "completed"
    },
    "tags": []
   },
   "outputs": [
    {
     "data": {
      "text/plain": [
       "Index(['content_id', 'answered_correctly', 'prior_question_elapsed_time',\n",
       "       'prior_question_had_explanation', 'part', 'acc_before_ans', 'count',\n",
       "       'difficult_content'],\n",
       "      dtype='object')"
      ]
     },
     "execution_count": 13,
     "metadata": {},
     "output_type": "execute_result"
    }
   ],
   "source": [
    "train.columns"
   ]
  },
  {
   "cell_type": "markdown",
   "metadata": {
    "papermill": {
     "duration": 0.019042,
     "end_time": "2020-11-27T04:40:55.653404",
     "exception": false,
     "start_time": "2020-11-27T04:40:55.634362",
     "status": "completed"
    },
    "tags": []
   },
   "source": [
    "# modelling"
   ]
  },
  {
   "cell_type": "code",
   "execution_count": 14,
   "metadata": {
    "execution": {
     "iopub.execute_input": "2020-11-27T04:40:55.704867Z",
     "iopub.status.busy": "2020-11-27T04:40:55.699379Z",
     "iopub.status.idle": "2020-11-27T04:52:41.842780Z",
     "shell.execute_reply": "2020-11-27T04:52:41.843386Z"
    },
    "papermill": {
     "duration": 706.171512,
     "end_time": "2020-11-27T04:52:41.843622",
     "exception": false,
     "start_time": "2020-11-27T04:40:55.672110",
     "status": "completed"
    },
    "tags": []
   },
   "outputs": [
    {
     "name": "stdout",
     "output_type": "stream",
     "text": [
      "Training until validation scores don't improve for 50 rounds\n",
      "[50]\ttraining's auc: 0.752342\tvalid_1's auc: 0.730805\n",
      "[100]\ttraining's auc: 0.759769\tvalid_1's auc: 0.735273\n",
      "[150]\ttraining's auc: 0.762629\tvalid_1's auc: 0.735748\n",
      "[200]\ttraining's auc: 0.76476\tvalid_1's auc: 0.735762\n",
      "Early stopping, best iteration is:\n",
      "[184]\ttraining's auc: 0.764183\tvalid_1's auc: 0.735856\n",
      "Overall ROC AUC:  0.73585570431666\n"
     ]
    }
   ],
   "source": [
    "categoricals = [\"content_id\", \"part\", \"difficult_content\"]\n",
    "params = {\n",
    "    'objective': 'binary', \"metric\": 'auc','eval_metric':'auc', 'boosting_type': 'gbdt', \n",
    "          'tree_learner': 'serial', 'learning_rate': 0.1,  \"num_leaves\": 80 \n",
    "        }\n",
    "\n",
    "features_list = [i for i in columns]\n",
    "feature_importance_df = pd.DataFrame(features_list, columns=[\"Feature\"])\n",
    "        \n",
    "X_train = train[columns]\n",
    "y_train = train[target]\n",
    "\n",
    "X_valid = valid[columns]\n",
    "y_valid = valid[target]\n",
    "\n",
    "lgb_train = lgb.Dataset(X_train, y_train)\n",
    "lgb_eval = lgb.Dataset(X_valid, y_valid, reference=lgb_train)\n",
    "        \n",
    "model = lgb.train(params, lgb_train,valid_sets=[lgb_train, lgb_eval], \n",
    "               num_boost_round=550,early_stopping_rounds=50,verbose_eval = 50, categorical_feature=categoricals,)\n",
    "feature_importance_df[\"Importance\"] = model.feature_importance()\n",
    "\n",
    "valid_predict = model.predict(X_valid, num_iteration = model.best_iteration)\n",
    "                            \n",
    "feature_importance_df = feature_importance_df.sort_values(\"Importance\", ascending=False).reset_index(drop=True)\n",
    "        \n",
    "score = roc_auc_score(y_valid, valid_predict)\n",
    "print(\"Overall ROC AUC: \", score)"
   ]
  },
  {
   "cell_type": "markdown",
   "metadata": {
    "papermill": {
     "duration": 0.020617,
     "end_time": "2020-11-27T04:52:41.885804",
     "exception": false,
     "start_time": "2020-11-27T04:52:41.865187",
     "status": "completed"
    },
    "tags": []
   },
   "source": [
    "# prediction"
   ]
  },
  {
   "cell_type": "code",
   "execution_count": 15,
   "metadata": {
    "execution": {
     "iopub.execute_input": "2020-11-27T04:52:41.950178Z",
     "iopub.status.busy": "2020-11-27T04:52:41.949107Z",
     "iopub.status.idle": "2020-11-27T04:52:42.803474Z",
     "shell.execute_reply": "2020-11-27T04:52:42.802730Z"
    },
    "papermill": {
     "duration": 0.896845,
     "end_time": "2020-11-27T04:52:42.803613",
     "exception": false,
     "start_time": "2020-11-27T04:52:41.906768",
     "status": "completed"
    },
    "tags": []
   },
   "outputs": [],
   "source": [
    "env = riiideducation.make_env()\n",
    "iter_test = env.iter_test()\n",
    "\n",
    "for (test_df, sample_prediction_df) in iter_test:\n",
    "    y_preds = []\n",
    "    test_df = test_df.merge(questions[[\"question_id\", \"part\"]], how=\"left\", left_on=['content_id'], right_on=['question_id'], right_index=True).reset_index(drop=True)\n",
    "    test_df.drop([\"question_id\"], axis=1, inplace=True)\n",
    "\n",
    "    test_df['prior_question_had_explanation'] = test_df['prior_question_had_explanation'].fillna(value = False).astype(bool)\n",
    "    test_df = get_data(test_df, test_set=True)\n",
    "\n",
    "    y_pred = model.predict(test_df[columns], num_iteration=model.best_iteration)\n",
    "\n",
    "    test_df['answered_correctly'] = y_pred\n",
    "    env.predict(test_df.loc[test_df['content_type_id'] == 0, ['row_id', 'answered_correctly']])"
   ]
  },
  {
   "cell_type": "code",
   "execution_count": null,
   "metadata": {
    "papermill": {
     "duration": 0.032681,
     "end_time": "2020-11-27T04:52:42.868670",
     "exception": false,
     "start_time": "2020-11-27T04:52:42.835989",
     "status": "completed"
    },
    "tags": []
   },
   "outputs": [],
   "source": []
  }
 ],
 "metadata": {
  "kernelspec": {
   "display_name": "Python 3",
   "language": "python",
   "name": "python3"
  },
  "language_info": {
   "codemirror_mode": {
    "name": "ipython",
    "version": 3
   },
   "file_extension": ".py",
   "mimetype": "text/x-python",
   "name": "python",
   "nbconvert_exporter": "python",
   "pygments_lexer": "ipython3",
   "version": "3.7.6"
  },
  "papermill": {
   "duration": 1439.959267,
   "end_time": "2020-11-27T04:52:43.112528",
   "environment_variables": {},
   "exception": null,
   "input_path": "__notebook__.ipynb",
   "output_path": "__notebook__.ipynb",
   "parameters": {},
   "start_time": "2020-11-27T04:28:43.153261",
   "version": "2.1.0"
  }
 },
 "nbformat": 4,
 "nbformat_minor": 4
}
