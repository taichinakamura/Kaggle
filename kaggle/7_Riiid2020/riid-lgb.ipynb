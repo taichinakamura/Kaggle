{
 "cells": [
  {
   "cell_type": "markdown",
   "metadata": {
    "papermill": {
     "duration": 0.012266,
     "end_time": "2020-10-12T10:47:17.372962",
     "exception": false,
     "start_time": "2020-10-12T10:47:17.360696",
     "status": "completed"
    },
    "tags": []
   },
   "source": [
    "- 2nd modelling\n",
    "- add new feature engineering by combining questions.csv\n",
    "- add stratified group k fold"
   ]
  },
  {
   "cell_type": "code",
   "execution_count": 1,
   "metadata": {
    "_cell_guid": "b1076dfc-b9ad-4769-8c92-a6c4dae69d19",
    "_uuid": "8f2839f25d086af736a60e9eeb907d3b93b6e0e5",
    "execution": {
     "iopub.execute_input": "2020-10-12T10:47:17.403751Z",
     "iopub.status.busy": "2020-10-12T10:47:17.403013Z",
     "iopub.status.idle": "2020-10-12T10:47:18.540663Z",
     "shell.execute_reply": "2020-10-12T10:47:18.540022Z"
    },
    "papermill": {
     "duration": 1.156309,
     "end_time": "2020-10-12T10:47:18.540814",
     "exception": false,
     "start_time": "2020-10-12T10:47:17.384505",
     "status": "completed"
    },
    "tags": []
   },
   "outputs": [],
   "source": [
    "import sys\n",
    "import copy\n",
    "import random\n",
    "import feather\n",
    "import warnings\n",
    "import numpy as np\n",
    "import pandas as pd\n",
    "from time import time\n",
    "import lightgbm as lgb\n",
    "from collections import Counter\n",
    "from sklearn import preprocessing\n",
    "from collections import defaultdict\n",
    "from tqdm import tqdm_notebook as tqdm\n",
    "from sklearn.model_selection import GroupKFold, StratifiedKFold, KFold\n",
    "from sklearn.metrics import roc_auc_score\n",
    "\n",
    "import riiideducation\n",
    "\n",
    "pd.set_option('display.max_columns', None)\n",
    "pd.set_option(\"display.max_rows\",1000)\n",
    "np.set_printoptions(precision=8)\n",
    "warnings.filterwarnings(\"ignore\")"
   ]
  },
  {
   "cell_type": "code",
   "execution_count": 2,
   "metadata": {
    "_cell_guid": "79c7e3d0-c299-4dcb-8224-4455121ee9b0",
    "_uuid": "d629ff2d2480ee46fbb7e2d37f6b5fab8052498a",
    "execution": {
     "iopub.execute_input": "2020-10-12T10:47:18.572068Z",
     "iopub.status.busy": "2020-10-12T10:47:18.571346Z",
     "iopub.status.idle": "2020-10-12T10:47:23.143415Z",
     "shell.execute_reply": "2020-10-12T10:47:23.142737Z"
    },
    "papermill": {
     "duration": 4.590896,
     "end_time": "2020-10-12T10:47:23.143572",
     "exception": false,
     "start_time": "2020-10-12T10:47:18.552676",
     "status": "completed"
    },
    "tags": []
   },
   "outputs": [],
   "source": [
    "DIR = \"../input/riiid-test-answer-prediction/\"\n",
    "train = pd.read_feather(\"../input/riid-train/train.feather\")\n",
    "lectures = pd.read_csv(DIR+\"lectures.csv\")\n",
    "questions = pd.read_csv(DIR+\"questions.csv\")\n",
    "example_test = pd.read_csv(DIR+\"example_test.csv\")"
   ]
  },
  {
   "cell_type": "markdown",
   "metadata": {
    "papermill": {
     "duration": 0.011058,
     "end_time": "2020-10-12T10:47:23.167770",
     "exception": false,
     "start_time": "2020-10-12T10:47:23.156712",
     "status": "completed"
    },
    "tags": []
   },
   "source": [
    "# preprocess"
   ]
  },
  {
   "cell_type": "code",
   "execution_count": 3,
   "metadata": {
    "execution": {
     "iopub.execute_input": "2020-10-12T10:47:23.199590Z",
     "iopub.status.busy": "2020-10-12T10:47:23.198648Z",
     "iopub.status.idle": "2020-10-12T10:47:58.405608Z",
     "shell.execute_reply": "2020-10-12T10:47:58.405040Z"
    },
    "papermill": {
     "duration": 35.226219,
     "end_time": "2020-10-12T10:47:58.405740",
     "exception": false,
     "start_time": "2020-10-12T10:47:23.179521",
     "status": "completed"
    },
    "tags": []
   },
   "outputs": [],
   "source": [
    "train = train.loc[train['answered_correctly'] != -1].reset_index(drop=True)\n",
    "train = train.drop([\"row_id\", 'timestamp'], axis=1)\n",
    "train['prior_question_had_explanation'] = train['prior_question_had_explanation'].fillna(value = False).astype(bool)\n",
    "\n",
    "user_answers_df = train.groupby('user_id').agg({'answered_correctly': ['mean', 'count']}).copy()\n",
    "user_answers_df.columns = ['mean_user_accuracy', 'questions_answered']\n",
    "\n",
    "content_answers_df = train.groupby('content_id').agg({'answered_correctly': ['mean', 'count']}).copy()\n",
    "content_answers_df.columns = ['mean_accuracy', 'question_asked']\n",
    "\n",
    "# user_content_answers_df = train.groupby(['user_id', 'content_id']).agg({'answered_correctly': ['mean', 'count']}).copy()\n",
    "# user_content_answers_df.columns = ['mean_user_content_accuracy', 'content_questions_answered']"
   ]
  },
  {
   "cell_type": "code",
   "execution_count": 4,
   "metadata": {
    "execution": {
     "iopub.execute_input": "2020-10-12T10:47:58.435301Z",
     "iopub.status.busy": "2020-10-12T10:47:58.434403Z",
     "iopub.status.idle": "2020-10-12T10:48:03.185209Z",
     "shell.execute_reply": "2020-10-12T10:48:03.184602Z"
    },
    "papermill": {
     "duration": 4.767558,
     "end_time": "2020-10-12T10:48:03.185334",
     "exception": false,
     "start_time": "2020-10-12T10:47:58.417776",
     "status": "completed"
    },
    "tags": []
   },
   "outputs": [],
   "source": [
    "le = preprocessing.LabelEncoder()\n",
    "train[\"prior_question_had_explanation\"] = le.fit_transform(train[\"prior_question_had_explanation\"])"
   ]
  },
  {
   "cell_type": "code",
   "execution_count": 5,
   "metadata": {
    "execution": {
     "iopub.execute_input": "2020-10-12T10:48:03.214361Z",
     "iopub.status.busy": "2020-10-12T10:48:03.213686Z",
     "iopub.status.idle": "2020-10-12T10:48:03.216182Z",
     "shell.execute_reply": "2020-10-12T10:48:03.216661Z"
    },
    "papermill": {
     "duration": 0.019789,
     "end_time": "2020-10-12T10:48:03.216815",
     "exception": false,
     "start_time": "2020-10-12T10:48:03.197026",
     "status": "completed"
    },
    "tags": []
   },
   "outputs": [],
   "source": [
    "train = train.iloc[90000000:,:]"
   ]
  },
  {
   "cell_type": "code",
   "execution_count": 6,
   "metadata": {
    "execution": {
     "iopub.execute_input": "2020-10-12T10:48:03.250644Z",
     "iopub.status.busy": "2020-10-12T10:48:03.249946Z",
     "iopub.status.idle": "2020-10-12T10:48:03.259532Z",
     "shell.execute_reply": "2020-10-12T10:48:03.258990Z"
    },
    "papermill": {
     "duration": 0.030897,
     "end_time": "2020-10-12T10:48:03.259663",
     "exception": false,
     "start_time": "2020-10-12T10:48:03.228766",
     "status": "completed"
    },
    "tags": []
   },
   "outputs": [
    {
     "data": {
      "text/html": [
       "<div>\n",
       "<style scoped>\n",
       "    .dataframe tbody tr th:only-of-type {\n",
       "        vertical-align: middle;\n",
       "    }\n",
       "\n",
       "    .dataframe tbody tr th {\n",
       "        vertical-align: top;\n",
       "    }\n",
       "\n",
       "    .dataframe thead th {\n",
       "        text-align: right;\n",
       "    }\n",
       "</style>\n",
       "<table border=\"1\" class=\"dataframe\">\n",
       "  <thead>\n",
       "    <tr style=\"text-align: right;\">\n",
       "      <th></th>\n",
       "      <th>user_id</th>\n",
       "      <th>content_id</th>\n",
       "      <th>content_type_id</th>\n",
       "      <th>task_container_id</th>\n",
       "      <th>user_answer</th>\n",
       "      <th>answered_correctly</th>\n",
       "      <th>prior_question_elapsed_time</th>\n",
       "      <th>prior_question_had_explanation</th>\n",
       "    </tr>\n",
       "  </thead>\n",
       "  <tbody>\n",
       "    <tr>\n",
       "      <th>90000000</th>\n",
       "      <td>1947785375</td>\n",
       "      <td>5581</td>\n",
       "      <td>0</td>\n",
       "      <td>234</td>\n",
       "      <td>2</td>\n",
       "      <td>1</td>\n",
       "      <td>12000</td>\n",
       "      <td>1</td>\n",
       "    </tr>\n",
       "    <tr>\n",
       "      <th>90000001</th>\n",
       "      <td>1947785375</td>\n",
       "      <td>5600</td>\n",
       "      <td>0</td>\n",
       "      <td>235</td>\n",
       "      <td>0</td>\n",
       "      <td>1</td>\n",
       "      <td>17000</td>\n",
       "      <td>1</td>\n",
       "    </tr>\n",
       "    <tr>\n",
       "      <th>90000002</th>\n",
       "      <td>1947785375</td>\n",
       "      <td>5591</td>\n",
       "      <td>0</td>\n",
       "      <td>236</td>\n",
       "      <td>3</td>\n",
       "      <td>1</td>\n",
       "      <td>18000</td>\n",
       "      <td>1</td>\n",
       "    </tr>\n",
       "    <tr>\n",
       "      <th>90000003</th>\n",
       "      <td>1947785375</td>\n",
       "      <td>8426</td>\n",
       "      <td>0</td>\n",
       "      <td>237</td>\n",
       "      <td>2</td>\n",
       "      <td>0</td>\n",
       "      <td>19000</td>\n",
       "      <td>1</td>\n",
       "    </tr>\n",
       "    <tr>\n",
       "      <th>90000004</th>\n",
       "      <td>1947785375</td>\n",
       "      <td>4299</td>\n",
       "      <td>0</td>\n",
       "      <td>238</td>\n",
       "      <td>0</td>\n",
       "      <td>0</td>\n",
       "      <td>19000</td>\n",
       "      <td>1</td>\n",
       "    </tr>\n",
       "  </tbody>\n",
       "</table>\n",
       "</div>"
      ],
      "text/plain": [
       "             user_id  content_id  content_type_id  task_container_id  \\\n",
       "90000000  1947785375        5581                0                234   \n",
       "90000001  1947785375        5600                0                235   \n",
       "90000002  1947785375        5591                0                236   \n",
       "90000003  1947785375        8426                0                237   \n",
       "90000004  1947785375        4299                0                238   \n",
       "\n",
       "          user_answer  answered_correctly  prior_question_elapsed_time  \\\n",
       "90000000            2                   1                        12000   \n",
       "90000001            0                   1                        17000   \n",
       "90000002            3                   1                        18000   \n",
       "90000003            2                   0                        19000   \n",
       "90000004            0                   0                        19000   \n",
       "\n",
       "          prior_question_had_explanation  \n",
       "90000000                               1  \n",
       "90000001                               1  \n",
       "90000002                               1  \n",
       "90000003                               1  \n",
       "90000004                               1  "
      ]
     },
     "execution_count": 6,
     "metadata": {},
     "output_type": "execute_result"
    }
   ],
   "source": [
    "train.head()"
   ]
  },
  {
   "cell_type": "markdown",
   "metadata": {
    "papermill": {
     "duration": 0.012051,
     "end_time": "2020-10-12T10:48:03.284629",
     "exception": false,
     "start_time": "2020-10-12T10:48:03.272578",
     "status": "completed"
    },
    "tags": []
   },
   "source": [
    "# Feature engineering"
   ]
  },
  {
   "cell_type": "code",
   "execution_count": 7,
   "metadata": {
    "execution": {
     "iopub.execute_input": "2020-10-12T10:48:03.316720Z",
     "iopub.status.busy": "2020-10-12T10:48:03.316032Z",
     "iopub.status.idle": "2020-10-12T10:48:08.980822Z",
     "shell.execute_reply": "2020-10-12T10:48:08.980119Z"
    },
    "papermill": {
     "duration": 5.684041,
     "end_time": "2020-10-12T10:48:08.980946",
     "exception": false,
     "start_time": "2020-10-12T10:48:03.296905",
     "status": "completed"
    },
    "tags": []
   },
   "outputs": [],
   "source": [
    "def fe(df):\n",
    "    df = df.merge(user_answers_df, how = 'left', on = 'user_id')\n",
    "    df = df.merge(content_answers_df, how = 'left', on = 'content_id')\n",
    "    # https://stackoverflow.com/questions/25888207/pandas-join-dataframes-on-field-with-different-names\n",
    "    df = df.merge(questions[[\"question_id\", \"part\"]], how=\"left\", left_on=['content_id'], right_on=['question_id'])\n",
    "    # df = df.merge(user_content_answers_df, how = 'left', on = ['user_id', 'content_id'])\n",
    "    df['mean_diff1'] = df['mean_user_accuracy'] - df['mean_accuracy']\n",
    "    # df['mean_diff2'] = df['mean_accuracy'] - df['mean_user_content_accuracy']\n",
    "    return df\n",
    "        \n",
    "train = fe(train)"
   ]
  },
  {
   "cell_type": "code",
   "execution_count": 8,
   "metadata": {
    "execution": {
     "iopub.execute_input": "2020-10-12T10:48:09.013556Z",
     "iopub.status.busy": "2020-10-12T10:48:09.012819Z",
     "iopub.status.idle": "2020-10-12T10:48:10.580361Z",
     "shell.execute_reply": "2020-10-12T10:48:10.579682Z"
    },
    "papermill": {
     "duration": 1.58654,
     "end_time": "2020-10-12T10:48:10.580516",
     "exception": false,
     "start_time": "2020-10-12T10:48:08.993976",
     "status": "completed"
    },
    "tags": []
   },
   "outputs": [],
   "source": [
    "train.fillna(value = 0.5, inplace = True)\n",
    "train = train.sort_values(['user_id'])"
   ]
  },
  {
   "cell_type": "code",
   "execution_count": 9,
   "metadata": {
    "execution": {
     "iopub.execute_input": "2020-10-12T10:48:10.621776Z",
     "iopub.status.busy": "2020-10-12T10:48:10.620738Z",
     "iopub.status.idle": "2020-10-12T10:48:10.625322Z",
     "shell.execute_reply": "2020-10-12T10:48:10.624642Z"
    },
    "papermill": {
     "duration": 0.032191,
     "end_time": "2020-10-12T10:48:10.625446",
     "exception": false,
     "start_time": "2020-10-12T10:48:10.593255",
     "status": "completed"
    },
    "tags": []
   },
   "outputs": [
    {
     "data": {
      "text/html": [
       "<div>\n",
       "<style scoped>\n",
       "    .dataframe tbody tr th:only-of-type {\n",
       "        vertical-align: middle;\n",
       "    }\n",
       "\n",
       "    .dataframe tbody tr th {\n",
       "        vertical-align: top;\n",
       "    }\n",
       "\n",
       "    .dataframe thead th {\n",
       "        text-align: right;\n",
       "    }\n",
       "</style>\n",
       "<table border=\"1\" class=\"dataframe\">\n",
       "  <thead>\n",
       "    <tr style=\"text-align: right;\">\n",
       "      <th></th>\n",
       "      <th>user_id</th>\n",
       "      <th>content_id</th>\n",
       "      <th>content_type_id</th>\n",
       "      <th>task_container_id</th>\n",
       "      <th>user_answer</th>\n",
       "      <th>answered_correctly</th>\n",
       "      <th>prior_question_elapsed_time</th>\n",
       "      <th>prior_question_had_explanation</th>\n",
       "      <th>mean_user_accuracy</th>\n",
       "      <th>questions_answered</th>\n",
       "      <th>mean_accuracy</th>\n",
       "      <th>question_asked</th>\n",
       "      <th>question_id</th>\n",
       "      <th>part</th>\n",
       "      <th>mean_diff1</th>\n",
       "    </tr>\n",
       "  </thead>\n",
       "  <tbody>\n",
       "    <tr>\n",
       "      <th>0</th>\n",
       "      <td>1947785375</td>\n",
       "      <td>5581</td>\n",
       "      <td>0</td>\n",
       "      <td>234</td>\n",
       "      <td>2</td>\n",
       "      <td>1</td>\n",
       "      <td>12000</td>\n",
       "      <td>1</td>\n",
       "      <td>0.703226</td>\n",
       "      <td>1395</td>\n",
       "      <td>0.571516</td>\n",
       "      <td>50646</td>\n",
       "      <td>5581</td>\n",
       "      <td>5</td>\n",
       "      <td>0.131710</td>\n",
       "    </tr>\n",
       "    <tr>\n",
       "      <th>752</th>\n",
       "      <td>1947785375</td>\n",
       "      <td>3919</td>\n",
       "      <td>0</td>\n",
       "      <td>821</td>\n",
       "      <td>3</td>\n",
       "      <td>0</td>\n",
       "      <td>20000</td>\n",
       "      <td>1</td>\n",
       "      <td>0.703226</td>\n",
       "      <td>1395</td>\n",
       "      <td>0.619549</td>\n",
       "      <td>4839</td>\n",
       "      <td>3919</td>\n",
       "      <td>5</td>\n",
       "      <td>0.083676</td>\n",
       "    </tr>\n",
       "    <tr>\n",
       "      <th>753</th>\n",
       "      <td>1947785375</td>\n",
       "      <td>8701</td>\n",
       "      <td>0</td>\n",
       "      <td>822</td>\n",
       "      <td>3</td>\n",
       "      <td>1</td>\n",
       "      <td>15000</td>\n",
       "      <td>1</td>\n",
       "      <td>0.703226</td>\n",
       "      <td>1395</td>\n",
       "      <td>0.769857</td>\n",
       "      <td>4419</td>\n",
       "      <td>8701</td>\n",
       "      <td>5</td>\n",
       "      <td>-0.066632</td>\n",
       "    </tr>\n",
       "    <tr>\n",
       "      <th>754</th>\n",
       "      <td>1947785375</td>\n",
       "      <td>6429</td>\n",
       "      <td>0</td>\n",
       "      <td>823</td>\n",
       "      <td>3</td>\n",
       "      <td>1</td>\n",
       "      <td>17000</td>\n",
       "      <td>1</td>\n",
       "      <td>0.703226</td>\n",
       "      <td>1395</td>\n",
       "      <td>0.526094</td>\n",
       "      <td>38841</td>\n",
       "      <td>6429</td>\n",
       "      <td>5</td>\n",
       "      <td>0.177132</td>\n",
       "    </tr>\n",
       "    <tr>\n",
       "      <th>755</th>\n",
       "      <td>1947785375</td>\n",
       "      <td>5618</td>\n",
       "      <td>0</td>\n",
       "      <td>824</td>\n",
       "      <td>2</td>\n",
       "      <td>1</td>\n",
       "      <td>9000</td>\n",
       "      <td>1</td>\n",
       "      <td>0.703226</td>\n",
       "      <td>1395</td>\n",
       "      <td>0.582133</td>\n",
       "      <td>16936</td>\n",
       "      <td>5618</td>\n",
       "      <td>5</td>\n",
       "      <td>0.121093</td>\n",
       "    </tr>\n",
       "  </tbody>\n",
       "</table>\n",
       "</div>"
      ],
      "text/plain": [
       "        user_id  content_id  content_type_id  task_container_id  user_answer  \\\n",
       "0    1947785375        5581                0                234            2   \n",
       "752  1947785375        3919                0                821            3   \n",
       "753  1947785375        8701                0                822            3   \n",
       "754  1947785375        6429                0                823            3   \n",
       "755  1947785375        5618                0                824            2   \n",
       "\n",
       "     answered_correctly  prior_question_elapsed_time  \\\n",
       "0                     1                        12000   \n",
       "752                   0                        20000   \n",
       "753                   1                        15000   \n",
       "754                   1                        17000   \n",
       "755                   1                         9000   \n",
       "\n",
       "     prior_question_had_explanation  mean_user_accuracy  questions_answered  \\\n",
       "0                                 1            0.703226                1395   \n",
       "752                               1            0.703226                1395   \n",
       "753                               1            0.703226                1395   \n",
       "754                               1            0.703226                1395   \n",
       "755                               1            0.703226                1395   \n",
       "\n",
       "     mean_accuracy  question_asked  question_id  part  mean_diff1  \n",
       "0         0.571516           50646         5581     5    0.131710  \n",
       "752       0.619549            4839         3919     5    0.083676  \n",
       "753       0.769857            4419         8701     5   -0.066632  \n",
       "754       0.526094           38841         6429     5    0.177132  \n",
       "755       0.582133           16936         5618     5    0.121093  "
      ]
     },
     "execution_count": 9,
     "metadata": {},
     "output_type": "execute_result"
    }
   ],
   "source": [
    "train.head()"
   ]
  },
  {
   "cell_type": "code",
   "execution_count": 10,
   "metadata": {
    "execution": {
     "iopub.execute_input": "2020-10-12T10:48:10.658552Z",
     "iopub.status.busy": "2020-10-12T10:48:10.657697Z",
     "iopub.status.idle": "2020-10-12T10:48:10.660671Z",
     "shell.execute_reply": "2020-10-12T10:48:10.660036Z"
    },
    "papermill": {
     "duration": 0.021671,
     "end_time": "2020-10-12T10:48:10.660793",
     "exception": false,
     "start_time": "2020-10-12T10:48:10.639122",
     "status": "completed"
    },
    "tags": []
   },
   "outputs": [],
   "source": [
    "target = 'answered_correctly'\n",
    "columns = ['mean_user_accuracy', 'questions_answered', 'mean_accuracy', 'question_asked','mean_diff1', 'part']"
   ]
  },
  {
   "cell_type": "code",
   "execution_count": 11,
   "metadata": {
    "execution": {
     "iopub.execute_input": "2020-10-12T10:48:10.695779Z",
     "iopub.status.busy": "2020-10-12T10:48:10.694336Z",
     "iopub.status.idle": "2020-10-12T10:48:10.890198Z",
     "shell.execute_reply": "2020-10-12T10:48:10.889669Z"
    },
    "papermill": {
     "duration": 0.215719,
     "end_time": "2020-10-12T10:48:10.890320",
     "exception": false,
     "start_time": "2020-10-12T10:48:10.674601",
     "status": "completed"
    },
    "tags": []
   },
   "outputs": [],
   "source": [
    "drop_columns = [i for i in train.columns if i not in columns + [target] + [\"user_id\"]] \n",
    "train.drop(drop_columns, axis=1, inplace=True)"
   ]
  },
  {
   "cell_type": "markdown",
   "metadata": {
    "papermill": {
     "duration": 0.013217,
     "end_time": "2020-10-12T10:48:10.917132",
     "exception": false,
     "start_time": "2020-10-12T10:48:10.903915",
     "status": "completed"
    },
    "tags": []
   },
   "source": [
    "# modelling"
   ]
  },
  {
   "cell_type": "code",
   "execution_count": 12,
   "metadata": {
    "execution": {
     "iopub.execute_input": "2020-10-12T10:48:10.959971Z",
     "iopub.status.busy": "2020-10-12T10:48:10.959161Z",
     "iopub.status.idle": "2020-10-12T10:48:10.962431Z",
     "shell.execute_reply": "2020-10-12T10:48:10.961785Z"
    },
    "papermill": {
     "duration": 0.031656,
     "end_time": "2020-10-12T10:48:10.962569",
     "exception": false,
     "start_time": "2020-10-12T10:48:10.930913",
     "status": "completed"
    },
    "tags": []
   },
   "outputs": [],
   "source": [
    "def stratified_group_k_fold(X, y, groups, k, seed=None):\n",
    "    labels_num = np.max(y) + 1\n",
    "    y_counts_per_group = defaultdict(lambda: np.zeros(labels_num))\n",
    "    y_distr = Counter()\n",
    "    for label, g in zip(y, groups):\n",
    "        y_counts_per_group[g][label] += 1\n",
    "        y_distr[label] += 1\n",
    "\n",
    "    y_counts_per_fold = defaultdict(lambda: np.zeros(labels_num))\n",
    "    groups_per_fold = defaultdict(set)\n",
    "\n",
    "    def eval_y_counts_per_fold(y_counts, fold):\n",
    "        y_counts_per_fold[fold] += y_counts\n",
    "        std_per_label = []\n",
    "        for label in range(labels_num):\n",
    "            label_std = np.std([y_counts_per_fold[i][label] / y_distr[label] for i in range(k)])\n",
    "            std_per_label.append(label_std)\n",
    "        y_counts_per_fold[fold] -= y_counts\n",
    "        return np.mean(std_per_label)\n",
    "    \n",
    "    groups_and_y_counts = list(y_counts_per_group.items())\n",
    "    random.Random(seed).shuffle(groups_and_y_counts)\n",
    "\n",
    "    for g, y_counts in sorted(groups_and_y_counts, key=lambda x: -np.std(x[1])):\n",
    "        best_fold = None\n",
    "        min_eval = None\n",
    "        for i in range(k):\n",
    "            fold_eval = eval_y_counts_per_fold(y_counts, i)\n",
    "            if min_eval is None or fold_eval < min_eval:\n",
    "                min_eval = fold_eval\n",
    "                best_fold = i\n",
    "        y_counts_per_fold[best_fold] += y_counts\n",
    "        groups_per_fold[best_fold].add(g)\n",
    "\n",
    "    all_groups = set(groups)\n",
    "    for i in range(k):\n",
    "        train_groups = all_groups - groups_per_fold[i]\n",
    "        test_groups = groups_per_fold[i]\n",
    "\n",
    "        train_indices = [i for i, g in enumerate(groups) if g in train_groups]\n",
    "        test_indices = [i for i, g in enumerate(groups) if g in test_groups]\n",
    "\n",
    "        yield train_indices, test_indices"
   ]
  },
  {
   "cell_type": "code",
   "execution_count": 13,
   "metadata": {
    "execution": {
     "iopub.execute_input": "2020-10-12T10:48:11.152770Z",
     "iopub.status.busy": "2020-10-12T10:48:10.998575Z",
     "iopub.status.idle": "2020-10-12T12:56:02.053025Z",
     "shell.execute_reply": "2020-10-12T12:56:02.053655Z"
    },
    "papermill": {
     "duration": 7671.077677,
     "end_time": "2020-10-12T12:56:02.053926",
     "exception": false,
     "start_time": "2020-10-12T10:48:10.976249",
     "status": "completed"
    },
    "tags": []
   },
   "outputs": [
    {
     "name": "stdout",
     "output_type": "stream",
     "text": [
      "Fold 1\n",
      "Training until validation scores don't improve for 10 rounds\n",
      "[100]\ttraining's auc: 0.751762\tvalid_1's auc: 0.750278\n",
      "[200]\ttraining's auc: 0.753901\tvalid_1's auc: 0.752517\n",
      "[300]\ttraining's auc: 0.755087\tvalid_1's auc: 0.753783\n",
      "[400]\ttraining's auc: 0.756096\tvalid_1's auc: 0.754795\n",
      "[500]\ttraining's auc: 0.756743\tvalid_1's auc: 0.755424\n",
      "[600]\ttraining's auc: 0.75716\tvalid_1's auc: 0.75583\n",
      "[700]\ttraining's auc: 0.757438\tvalid_1's auc: 0.756095\n",
      "[800]\ttraining's auc: 0.757639\tvalid_1's auc: 0.756272\n",
      "[900]\ttraining's auc: 0.757791\tvalid_1's auc: 0.756399\n",
      "[1000]\ttraining's auc: 0.757918\tvalid_1's auc: 0.756518\n",
      "Did not meet early stopping. Best iteration is:\n",
      "[1000]\ttraining's auc: 0.757918\tvalid_1's auc: 0.756518\n",
      "Fold 2\n",
      "Training until validation scores don't improve for 10 rounds\n",
      "[100]\ttraining's auc: 0.751566\tvalid_1's auc: 0.75131\n",
      "[200]\ttraining's auc: 0.753681\tvalid_1's auc: 0.75344\n",
      "[300]\ttraining's auc: 0.75487\tvalid_1's auc: 0.754701\n",
      "[400]\ttraining's auc: 0.755882\tvalid_1's auc: 0.755735\n",
      "[500]\ttraining's auc: 0.756507\tvalid_1's auc: 0.756381\n",
      "[600]\ttraining's auc: 0.756919\tvalid_1's auc: 0.756791\n",
      "[700]\ttraining's auc: 0.757214\tvalid_1's auc: 0.75706\n",
      "[800]\ttraining's auc: 0.757419\tvalid_1's auc: 0.757244\n",
      "[900]\ttraining's auc: 0.757584\tvalid_1's auc: 0.757367\n",
      "[1000]\ttraining's auc: 0.757737\tvalid_1's auc: 0.757458\n",
      "Did not meet early stopping. Best iteration is:\n",
      "[1000]\ttraining's auc: 0.757737\tvalid_1's auc: 0.757458\n",
      "Fold 3\n",
      "Training until validation scores don't improve for 10 rounds\n",
      "[100]\ttraining's auc: 0.75141\tvalid_1's auc: 0.751594\n",
      "[200]\ttraining's auc: 0.753568\tvalid_1's auc: 0.753715\n",
      "[300]\ttraining's auc: 0.754856\tvalid_1's auc: 0.754963\n",
      "[400]\ttraining's auc: 0.755842\tvalid_1's auc: 0.755879\n",
      "[500]\ttraining's auc: 0.756493\tvalid_1's auc: 0.756479\n",
      "[600]\ttraining's auc: 0.756915\tvalid_1's auc: 0.756857\n",
      "[700]\ttraining's auc: 0.757206\tvalid_1's auc: 0.757101\n",
      "[800]\ttraining's auc: 0.757423\tvalid_1's auc: 0.757263\n",
      "[900]\ttraining's auc: 0.757585\tvalid_1's auc: 0.757378\n",
      "[1000]\ttraining's auc: 0.757725\tvalid_1's auc: 0.757464\n",
      "Did not meet early stopping. Best iteration is:\n",
      "[1000]\ttraining's auc: 0.757725\tvalid_1's auc: 0.757464\n",
      "Fold 4\n",
      "Training until validation scores don't improve for 10 rounds\n",
      "[100]\ttraining's auc: 0.750954\tvalid_1's auc: 0.753315\n",
      "[200]\ttraining's auc: 0.753166\tvalid_1's auc: 0.755622\n",
      "[300]\ttraining's auc: 0.754393\tvalid_1's auc: 0.756817\n",
      "[400]\ttraining's auc: 0.755352\tvalid_1's auc: 0.757823\n",
      "[500]\ttraining's auc: 0.755987\tvalid_1's auc: 0.758496\n",
      "[600]\ttraining's auc: 0.756404\tvalid_1's auc: 0.758914\n",
      "[700]\ttraining's auc: 0.756688\tvalid_1's auc: 0.759177\n",
      "[800]\ttraining's auc: 0.75689\tvalid_1's auc: 0.759363\n",
      "[900]\ttraining's auc: 0.757044\tvalid_1's auc: 0.759502\n",
      "[1000]\ttraining's auc: 0.757178\tvalid_1's auc: 0.759602\n",
      "Did not meet early stopping. Best iteration is:\n",
      "[1000]\ttraining's auc: 0.757178\tvalid_1's auc: 0.759602\n",
      "Fold 5\n",
      "Training until validation scores don't improve for 10 rounds\n",
      "[100]\ttraining's auc: 0.751963\tvalid_1's auc: 0.749645\n",
      "[200]\ttraining's auc: 0.754198\tvalid_1's auc: 0.751633\n",
      "[300]\ttraining's auc: 0.755488\tvalid_1's auc: 0.752701\n",
      "[400]\ttraining's auc: 0.756482\tvalid_1's auc: 0.753552\n",
      "[500]\ttraining's auc: 0.757126\tvalid_1's auc: 0.754092\n",
      "[600]\ttraining's auc: 0.757544\tvalid_1's auc: 0.754442\n",
      "[700]\ttraining's auc: 0.757833\tvalid_1's auc: 0.754654\n",
      "[800]\ttraining's auc: 0.758047\tvalid_1's auc: 0.7548\n",
      "[900]\ttraining's auc: 0.758198\tvalid_1's auc: 0.754894\n",
      "[1000]\ttraining's auc: 0.758319\tvalid_1's auc: 0.754966\n",
      "Did not meet early stopping. Best iteration is:\n",
      "[1000]\ttraining's auc: 0.758319\tvalid_1's auc: 0.754966\n",
      "Overall ROC AUC:  0.7571875230128758\n"
     ]
    }
   ],
   "source": [
    "def modelling_lgb(X_train, y_train):\n",
    "    params = {'objective': 'binary', \"metric\": 'auc','eval_metric':'auc', 'boosting_type': 'gbdt', 'tree_learner': 'serial', 'learning_rate': 0.01, \n",
    "               \"num_leaves\": 10, 'random_seed':44, 'max_depth': 5} \n",
    "    \n",
    "    groups = np.array(X_train.user_id.values)\n",
    "    n_folds=5\n",
    "    \n",
    "    models = []\n",
    "    valid = np.zeros([X_train.shape[0]])\n",
    "    for i , (train_index, test_index) in enumerate(stratified_group_k_fold(X_train, y_train, groups, k=n_folds, seed=0)):\n",
    "        print(\"Fold {}\".format(i+1))\n",
    "        X_train2 = X_train.iloc[train_index,:]\n",
    "        y_train2 = y_train.iloc[train_index]\n",
    "        X_train2.drop(\"user_id\", axis=1, inplace=True)\n",
    "\n",
    "        X_valid2 = X_train.iloc[test_index,:]\n",
    "        y_valid2 = y_train.iloc[test_index]\n",
    "        X_valid2.drop(\"user_id\", axis=1, inplace=True)\n",
    "\n",
    "        lgb_train = lgb.Dataset(X_train2, y_train2)\n",
    "        lgb_eval = lgb.Dataset(X_valid2, y_valid2, reference=lgb_train)\n",
    "        \n",
    "        clf = lgb.train(params, lgb_train,valid_sets=[lgb_train, lgb_eval], \n",
    "               num_boost_round=1000,early_stopping_rounds=10,verbose_eval = 100) \n",
    "\n",
    "        valid_predict = clf.predict(X_valid2, num_iteration = clf.best_iteration)\n",
    "        valid[test_index] = valid_predict\n",
    "        \n",
    "        models.append(clf) \n",
    "            \n",
    "    score = roc_auc_score(y_train, valid)\n",
    "    print(\"Overall ROC AUC: \", score)\n",
    "        \n",
    "    return models\n",
    "models = modelling_lgb(train[columns + [\"user_id\"]], train[target])"
   ]
  },
  {
   "cell_type": "markdown",
   "metadata": {
    "papermill": {
     "duration": 0.033116,
     "end_time": "2020-10-12T12:56:02.117530",
     "exception": false,
     "start_time": "2020-10-12T12:56:02.084414",
     "status": "completed"
    },
    "tags": []
   },
   "source": [
    "# prediction"
   ]
  },
  {
   "cell_type": "code",
   "execution_count": 14,
   "metadata": {
    "execution": {
     "iopub.execute_input": "2020-10-12T12:56:02.192001Z",
     "iopub.status.busy": "2020-10-12T12:56:02.190944Z",
     "iopub.status.idle": "2020-10-12T12:56:02.194343Z",
     "shell.execute_reply": "2020-10-12T12:56:02.193700Z"
    },
    "papermill": {
     "duration": 0.045407,
     "end_time": "2020-10-12T12:56:02.194485",
     "exception": false,
     "start_time": "2020-10-12T12:56:02.149078",
     "status": "completed"
    },
    "tags": []
   },
   "outputs": [],
   "source": [
    "del train"
   ]
  },
  {
   "cell_type": "code",
   "execution_count": 15,
   "metadata": {
    "execution": {
     "iopub.execute_input": "2020-10-12T12:56:02.271088Z",
     "iopub.status.busy": "2020-10-12T12:56:02.270382Z",
     "iopub.status.idle": "2020-10-12T12:56:03.323341Z",
     "shell.execute_reply": "2020-10-12T12:56:03.322626Z"
    },
    "papermill": {
     "duration": 1.097186,
     "end_time": "2020-10-12T12:56:03.323512",
     "exception": false,
     "start_time": "2020-10-12T12:56:02.226326",
     "status": "completed"
    },
    "tags": []
   },
   "outputs": [],
   "source": [
    "env = riiideducation.make_env()\n",
    "iter_test = env.iter_test()\n",
    "\n",
    "for (test_df, sample_prediction_df) in iter_test:\n",
    "    y_preds = []\n",
    "    test_df = fe(test_df)\n",
    "\n",
    "    test_df['prior_question_had_explanation'] = test_df['prior_question_had_explanation'].fillna(value = False).astype(bool)\n",
    "    test_df = test_df.loc[test_df['content_type_id'] == 0].reset_index(drop=True)\n",
    "    test_df.fillna(value = 0.5, inplace = True)\n",
    "    test_df[\"prior_question_had_explanation\"] = le.fit_transform(test_df[\"prior_question_had_explanation\"])\n",
    "\n",
    "    for model in models:\n",
    "        y_pred = model.predict(test_df[columns], num_iteration=model.best_iteration)\n",
    "        y_preds.append(y_pred)\n",
    "\n",
    "    y_preds = sum(y_preds) / len(y_preds)\n",
    "    test_df['answered_correctly'] = y_preds\n",
    "    env.predict(test_df.loc[test_df['content_type_id'] == 0, ['row_id', 'answered_correctly']])"
   ]
  },
  {
   "cell_type": "code",
   "execution_count": null,
   "metadata": {
    "papermill": {
     "duration": 0.031091,
     "end_time": "2020-10-12T12:56:03.386882",
     "exception": false,
     "start_time": "2020-10-12T12:56:03.355791",
     "status": "completed"
    },
    "tags": []
   },
   "outputs": [],
   "source": []
  }
 ],
 "metadata": {
  "kernelspec": {
   "display_name": "Python 3",
   "language": "python",
   "name": "python3"
  },
  "language_info": {
   "codemirror_mode": {
    "name": "ipython",
    "version": 3
   },
   "file_extension": ".py",
   "mimetype": "text/x-python",
   "name": "python",
   "nbconvert_exporter": "python",
   "pygments_lexer": "ipython3",
   "version": "3.7.6"
  },
  "papermill": {
   "duration": 7731.662011,
   "end_time": "2020-10-12T12:56:04.516969",
   "environment_variables": {},
   "exception": null,
   "input_path": "__notebook__.ipynb",
   "output_path": "__notebook__.ipynb",
   "parameters": {},
   "start_time": "2020-10-12T10:47:12.854958",
   "version": "2.1.0"
  }
 },
 "nbformat": 4,
 "nbformat_minor": 4
}
