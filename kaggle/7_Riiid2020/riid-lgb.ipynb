{
 "cells": [
  {
   "cell_type": "markdown",
   "metadata": {
    "papermill": {
     "duration": 0.017818,
     "end_time": "2020-10-18T13:02:14.519381",
     "exception": false,
     "start_time": "2020-10-18T13:02:14.501563",
     "status": "completed"
    },
    "tags": []
   },
   "source": [
    "- restart modelling\n",
    "- completely change the programs of feature engineering to prevent leakage"
   ]
  },
  {
   "cell_type": "code",
   "execution_count": 1,
   "metadata": {
    "_cell_guid": "b1076dfc-b9ad-4769-8c92-a6c4dae69d19",
    "_uuid": "8f2839f25d086af736a60e9eeb907d3b93b6e0e5",
    "execution": {
     "iopub.execute_input": "2020-10-18T13:02:14.562731Z",
     "iopub.status.busy": "2020-10-18T13:02:14.561760Z",
     "iopub.status.idle": "2020-10-18T13:02:15.804442Z",
     "shell.execute_reply": "2020-10-18T13:02:15.803556Z"
    },
    "papermill": {
     "duration": 1.268522,
     "end_time": "2020-10-18T13:02:15.804573",
     "exception": false,
     "start_time": "2020-10-18T13:02:14.536051",
     "status": "completed"
    },
    "tags": []
   },
   "outputs": [],
   "source": [
    "import sys\n",
    "import copy\n",
    "import random\n",
    "import feather\n",
    "import warnings\n",
    "import numpy as np\n",
    "import pandas as pd\n",
    "from time import time\n",
    "import lightgbm as lgb\n",
    "from collections import Counter\n",
    "from sklearn import preprocessing\n",
    "from collections import defaultdict\n",
    "from tqdm import tqdm_notebook as tqdm\n",
    "from sklearn.model_selection import GroupKFold\n",
    "from sklearn.metrics import roc_auc_score\n",
    "\n",
    "import riiideducation\n",
    "\n",
    "pd.set_option('display.max_columns', None)\n",
    "pd.set_option(\"display.max_rows\",2000)\n",
    "np.set_printoptions(precision=8)\n",
    "warnings.filterwarnings(\"ignore\")"
   ]
  },
  {
   "cell_type": "code",
   "execution_count": 2,
   "metadata": {
    "_cell_guid": "79c7e3d0-c299-4dcb-8224-4455121ee9b0",
    "_uuid": "d629ff2d2480ee46fbb7e2d37f6b5fab8052498a",
    "execution": {
     "iopub.execute_input": "2020-10-18T13:02:15.847327Z",
     "iopub.status.busy": "2020-10-18T13:02:15.846389Z",
     "iopub.status.idle": "2020-10-18T13:04:10.496587Z",
     "shell.execute_reply": "2020-10-18T13:04:10.495722Z"
    },
    "papermill": {
     "duration": 114.675203,
     "end_time": "2020-10-18T13:04:10.496755",
     "exception": false,
     "start_time": "2020-10-18T13:02:15.821552",
     "status": "completed"
    },
    "tags": []
   },
   "outputs": [],
   "source": [
    "DIR = \"../input/riiid-test-answer-prediction/\"\n",
    "train = pd.read_feather(\"../input/riid-train/train.feather\")\n",
    "lectures = pd.read_csv(DIR+\"lectures.csv\")\n",
    "questions = pd.read_csv(DIR+\"questions.csv\")\n",
    "example_test = pd.read_csv(DIR+\"example_test.csv\")"
   ]
  },
  {
   "cell_type": "markdown",
   "metadata": {
    "papermill": {
     "duration": 0.016502,
     "end_time": "2020-10-18T13:04:10.530317",
     "exception": false,
     "start_time": "2020-10-18T13:04:10.513815",
     "status": "completed"
    },
    "tags": []
   },
   "source": [
    "# preprocess"
   ]
  },
  {
   "cell_type": "code",
   "execution_count": 3,
   "metadata": {
    "execution": {
     "iopub.execute_input": "2020-10-18T13:04:10.573487Z",
     "iopub.status.busy": "2020-10-18T13:04:10.572614Z",
     "iopub.status.idle": "2020-10-18T13:04:39.980624Z",
     "shell.execute_reply": "2020-10-18T13:04:39.979858Z"
    },
    "papermill": {
     "duration": 29.433837,
     "end_time": "2020-10-18T13:04:39.980779",
     "exception": false,
     "start_time": "2020-10-18T13:04:10.546942",
     "status": "completed"
    },
    "tags": []
   },
   "outputs": [],
   "source": [
    "train.drop([\"row_id\", 'user_answer'], axis=1, inplace=True)\n",
    "train['prior_question_had_explanation'] = train['prior_question_had_explanation'].fillna(value = False).astype(bool)\n",
    "\n",
    "user_answers_df = train.groupby('user_id').agg({'answered_correctly': ['mean']}).copy()\n",
    "user_answers_df.columns = [\"correct_rate_before_ans\"]\n",
    "\n",
    "#content_answers_df = train.groupby('content_id').agg({'answered_correctly': ['mean']}).copy()\n",
    "#content_answers_df.columns = ['mean_accuracy_by_content']\n",
    "\n",
    "#user_content_answers_df = train.groupby(['user_id', 'content_id']).agg({'answered_correctly': ['mean', 'count']}).copy()\n",
    "#user_content_answers_df.columns = ['mean_user_content_accuracy', 'content_questions_answered']"
   ]
  },
  {
   "cell_type": "code",
   "execution_count": 4,
   "metadata": {
    "execution": {
     "iopub.execute_input": "2020-10-18T13:04:40.020668Z",
     "iopub.status.busy": "2020-10-18T13:04:40.019781Z",
     "iopub.status.idle": "2020-10-18T13:04:45.330286Z",
     "shell.execute_reply": "2020-10-18T13:04:45.329341Z"
    },
    "papermill": {
     "duration": 5.332906,
     "end_time": "2020-10-18T13:04:45.330437",
     "exception": false,
     "start_time": "2020-10-18T13:04:39.997531",
     "status": "completed"
    },
    "tags": []
   },
   "outputs": [],
   "source": [
    "le = preprocessing.LabelEncoder()\n",
    "train[\"prior_question_had_explanation\"] = le.fit_transform(train[\"prior_question_had_explanation\"])"
   ]
  },
  {
   "cell_type": "code",
   "execution_count": 5,
   "metadata": {
    "execution": {
     "iopub.execute_input": "2020-10-18T13:04:45.371394Z",
     "iopub.status.busy": "2020-10-18T13:04:45.370243Z",
     "iopub.status.idle": "2020-10-18T13:04:45.373316Z",
     "shell.execute_reply": "2020-10-18T13:04:45.373914Z"
    },
    "papermill": {
     "duration": 0.025731,
     "end_time": "2020-10-18T13:04:45.374101",
     "exception": false,
     "start_time": "2020-10-18T13:04:45.348370",
     "status": "completed"
    },
    "tags": []
   },
   "outputs": [],
   "source": [
    "# to get first index of a particular user\n",
    "#for i in train.groupby(\"user_id\").first().index:\n",
    "#    if i > 90000000:\n",
    "#        print(i)\n",
    "#        break"
   ]
  },
  {
   "cell_type": "code",
   "execution_count": 6,
   "metadata": {
    "execution": {
     "iopub.execute_input": "2020-10-18T13:04:45.418594Z",
     "iopub.status.busy": "2020-10-18T13:04:45.417755Z",
     "iopub.status.idle": "2020-10-18T13:05:16.707713Z",
     "shell.execute_reply": "2020-10-18T13:05:16.708436Z"
    },
    "papermill": {
     "duration": 31.317307,
     "end_time": "2020-10-18T13:05:16.708630",
     "exception": false,
     "start_time": "2020-10-18T13:04:45.391323",
     "status": "completed"
    },
    "tags": []
   },
   "outputs": [
    {
     "data": {
      "text/html": [
       "<div>\n",
       "<style scoped>\n",
       "    .dataframe tbody tr th:only-of-type {\n",
       "        vertical-align: middle;\n",
       "    }\n",
       "\n",
       "    .dataframe tbody tr th {\n",
       "        vertical-align: top;\n",
       "    }\n",
       "\n",
       "    .dataframe thead th {\n",
       "        text-align: right;\n",
       "    }\n",
       "</style>\n",
       "<table border=\"1\" class=\"dataframe\">\n",
       "  <thead>\n",
       "    <tr style=\"text-align: right;\">\n",
       "      <th></th>\n",
       "      <th>timestamp</th>\n",
       "      <th>user_id</th>\n",
       "      <th>content_id</th>\n",
       "      <th>content_type_id</th>\n",
       "      <th>task_container_id</th>\n",
       "      <th>answered_correctly</th>\n",
       "      <th>prior_question_elapsed_time</th>\n",
       "      <th>prior_question_had_explanation</th>\n",
       "    </tr>\n",
       "  </thead>\n",
       "  <tbody>\n",
       "    <tr>\n",
       "      <th>90007298</th>\n",
       "      <td>0</td>\n",
       "      <td>1911932135</td>\n",
       "      <td>4705</td>\n",
       "      <td>0</td>\n",
       "      <td>0</td>\n",
       "      <td>0</td>\n",
       "      <td>4294967295</td>\n",
       "      <td>0</td>\n",
       "    </tr>\n",
       "    <tr>\n",
       "      <th>90007299</th>\n",
       "      <td>10764</td>\n",
       "      <td>1911932135</td>\n",
       "      <td>4877</td>\n",
       "      <td>0</td>\n",
       "      <td>1</td>\n",
       "      <td>1</td>\n",
       "      <td>39000</td>\n",
       "      <td>0</td>\n",
       "    </tr>\n",
       "    <tr>\n",
       "      <th>90007300</th>\n",
       "      <td>45162</td>\n",
       "      <td>1911932135</td>\n",
       "      <td>3923</td>\n",
       "      <td>0</td>\n",
       "      <td>2</td>\n",
       "      <td>1</td>\n",
       "      <td>5000</td>\n",
       "      <td>0</td>\n",
       "    </tr>\n",
       "    <tr>\n",
       "      <th>90007301</th>\n",
       "      <td>77874</td>\n",
       "      <td>1911932135</td>\n",
       "      <td>3893</td>\n",
       "      <td>0</td>\n",
       "      <td>3</td>\n",
       "      <td>0</td>\n",
       "      <td>31000</td>\n",
       "      <td>0</td>\n",
       "    </tr>\n",
       "    <tr>\n",
       "      <th>90007302</th>\n",
       "      <td>147369</td>\n",
       "      <td>1911932135</td>\n",
       "      <td>6318</td>\n",
       "      <td>0</td>\n",
       "      <td>4</td>\n",
       "      <td>1</td>\n",
       "      <td>30000</td>\n",
       "      <td>0</td>\n",
       "    </tr>\n",
       "    <tr>\n",
       "      <th>90007303</th>\n",
       "      <td>178960</td>\n",
       "      <td>1911932135</td>\n",
       "      <td>4623</td>\n",
       "      <td>0</td>\n",
       "      <td>5</td>\n",
       "      <td>0</td>\n",
       "      <td>67000</td>\n",
       "      <td>0</td>\n",
       "    </tr>\n",
       "    <tr>\n",
       "      <th>90007304</th>\n",
       "      <td>235152</td>\n",
       "      <td>1911932135</td>\n",
       "      <td>5318</td>\n",
       "      <td>0</td>\n",
       "      <td>6</td>\n",
       "      <td>1</td>\n",
       "      <td>29000</td>\n",
       "      <td>0</td>\n",
       "    </tr>\n",
       "    <tr>\n",
       "      <th>90007305</th>\n",
       "      <td>270177</td>\n",
       "      <td>1911932135</td>\n",
       "      <td>8497</td>\n",
       "      <td>0</td>\n",
       "      <td>7</td>\n",
       "      <td>1</td>\n",
       "      <td>54000</td>\n",
       "      <td>0</td>\n",
       "    </tr>\n",
       "    <tr>\n",
       "      <th>90007306</th>\n",
       "      <td>308144</td>\n",
       "      <td>1911932135</td>\n",
       "      <td>6683</td>\n",
       "      <td>0</td>\n",
       "      <td>8</td>\n",
       "      <td>0</td>\n",
       "      <td>33000</td>\n",
       "      <td>0</td>\n",
       "    </tr>\n",
       "    <tr>\n",
       "      <th>90007307</th>\n",
       "      <td>327228</td>\n",
       "      <td>1911932135</td>\n",
       "      <td>4023</td>\n",
       "      <td>0</td>\n",
       "      <td>9</td>\n",
       "      <td>0</td>\n",
       "      <td>35000</td>\n",
       "      <td>0</td>\n",
       "    </tr>\n",
       "  </tbody>\n",
       "</table>\n",
       "</div>"
      ],
      "text/plain": [
       "          timestamp     user_id  content_id  content_type_id  \\\n",
       "90007298          0  1911932135        4705                0   \n",
       "90007299      10764  1911932135        4877                0   \n",
       "90007300      45162  1911932135        3923                0   \n",
       "90007301      77874  1911932135        3893                0   \n",
       "90007302     147369  1911932135        6318                0   \n",
       "90007303     178960  1911932135        4623                0   \n",
       "90007304     235152  1911932135        5318                0   \n",
       "90007305     270177  1911932135        8497                0   \n",
       "90007306     308144  1911932135        6683                0   \n",
       "90007307     327228  1911932135        4023                0   \n",
       "\n",
       "          task_container_id  answered_correctly  prior_question_elapsed_time  \\\n",
       "90007298                  0                   0                   4294967295   \n",
       "90007299                  1                   1                        39000   \n",
       "90007300                  2                   1                         5000   \n",
       "90007301                  3                   0                        31000   \n",
       "90007302                  4                   1                        30000   \n",
       "90007303                  5                   0                        67000   \n",
       "90007304                  6                   1                        29000   \n",
       "90007305                  7                   1                        54000   \n",
       "90007306                  8                   0                        33000   \n",
       "90007307                  9                   0                        35000   \n",
       "\n",
       "          prior_question_had_explanation  \n",
       "90007298                               0  \n",
       "90007299                               0  \n",
       "90007300                               0  \n",
       "90007301                               0  \n",
       "90007302                               0  \n",
       "90007303                               0  \n",
       "90007304                               0  \n",
       "90007305                               0  \n",
       "90007306                               0  \n",
       "90007307                               0  "
      ]
     },
     "execution_count": 6,
     "metadata": {},
     "output_type": "execute_result"
    }
   ],
   "source": [
    "train = train.iloc[90007298:,:]\n",
    "train = train.sort_values(['user_id', 'timestamp'])\n",
    "train['task_container_id'] = (train.groupby('user_id')['task_container_id'].transform(lambda x: pd.factorize(x)[0]).astype('int16'))\n",
    "train.head(10)"
   ]
  },
  {
   "cell_type": "code",
   "execution_count": 7,
   "metadata": {
    "execution": {
     "iopub.execute_input": "2020-10-18T13:05:16.756984Z",
     "iopub.status.busy": "2020-10-18T13:05:16.756022Z",
     "iopub.status.idle": "2020-10-18T13:05:16.848246Z",
     "shell.execute_reply": "2020-10-18T13:05:16.847351Z"
    },
    "papermill": {
     "duration": 0.120037,
     "end_time": "2020-10-18T13:05:16.848385",
     "exception": false,
     "start_time": "2020-10-18T13:05:16.728348",
     "status": "completed"
    },
    "tags": []
   },
   "outputs": [
    {
     "data": {
      "text/plain": [
       "((11223034, 8), 43496)"
      ]
     },
     "execution_count": 7,
     "metadata": {},
     "output_type": "execute_result"
    }
   ],
   "source": [
    "train.shape, len(train.user_id.unique())"
   ]
  },
  {
   "cell_type": "markdown",
   "metadata": {
    "papermill": {
     "duration": 0.019898,
     "end_time": "2020-10-18T13:05:16.887709",
     "exception": false,
     "start_time": "2020-10-18T13:05:16.867811",
     "status": "completed"
    },
    "tags": []
   },
   "source": [
    "# Feature engineering"
   ]
  },
  {
   "cell_type": "code",
   "execution_count": 8,
   "metadata": {
    "execution": {
     "iopub.execute_input": "2020-10-18T13:05:16.937692Z",
     "iopub.status.busy": "2020-10-18T13:05:16.936836Z",
     "iopub.status.idle": "2020-10-18T13:18:45.625034Z",
     "shell.execute_reply": "2020-10-18T13:18:45.624334Z"
    },
    "papermill": {
     "duration": 808.71849,
     "end_time": "2020-10-18T13:18:45.625168",
     "exception": false,
     "start_time": "2020-10-18T13:05:16.906678",
     "status": "completed"
    },
    "tags": []
   },
   "outputs": [
    {
     "data": {
      "application/vnd.jupyter.widget-view+json": {
       "model_id": "5f8b6e0ac73d4adcb70d60e3ee38949e",
       "version_major": 2,
       "version_minor": 0
      },
      "text/plain": [
       "HBox(children=(FloatProgress(value=0.0, description='user_id', max=43496.0, style=ProgressStyle(description_wi…"
      ]
     },
     "metadata": {},
     "output_type": "display_data"
    },
    {
     "name": "stdout",
     "output_type": "stream",
     "text": [
      "\n"
     ]
    }
   ],
   "source": [
    "def get_data(df, test_set=False):\n",
    "    if test_set == False:\n",
    "        df = df.loc[df['answered_correctly'] != -1].reset_index(drop=True)\n",
    "        \n",
    "        correct_rate = np.array([])\n",
    "        for i, (ins_id, user_sample) in tqdm(enumerate(df.groupby('user_id', sort=False)), total=train.user_id.nunique(), desc='user_id', position=0):\n",
    "            cum_correct_num = user_sample[\"answered_correctly\"].cumsum().values\n",
    "            cum_answer_num = [i+1 for i in range(user_sample.shape[0])]\n",
    "            \n",
    "            correct_rate_list = [cum_correct_num[i]/cum_answer_num[i] for i in range(len(cum_answer_num))]\n",
    "            correct_rate_list = [-1] + correct_rate_list[:-1]\n",
    "            correct_rate = np.concatenate([correct_rate, correct_rate_list])\n",
    "            \n",
    "        df[\"correct_rate_before_ans\"] = correct_rate  \n",
    "    else:\n",
    "        df = df.merge(user_answers_df, how = 'left', on = 'user_id') # for correct_rate_before_ans\n",
    "        #df = df.merge(content_answers_df, how = 'left', on = 'content_id')\n",
    "\n",
    "    # https://stackoverflow.com/questions/25888207/pandas-join-dataframes-on-field-with-different-names\n",
    "    df = df.merge(questions[[\"question_id\", \"part\"]], how=\"left\", left_on=['content_id'], right_on=['question_id'])\n",
    "    df.drop([\"timestamp\", \"question_id\"], axis=1, inplace=True)\n",
    "    df.fillna(value = -1, inplace = True)\n",
    "    return df\n",
    "train = get_data(train)"
   ]
  },
  {
   "cell_type": "code",
   "execution_count": 9,
   "metadata": {
    "execution": {
     "iopub.execute_input": "2020-10-18T13:18:45.675082Z",
     "iopub.status.busy": "2020-10-18T13:18:45.674298Z",
     "iopub.status.idle": "2020-10-18T13:18:45.996528Z",
     "shell.execute_reply": "2020-10-18T13:18:45.995742Z"
    },
    "papermill": {
     "duration": 0.350567,
     "end_time": "2020-10-18T13:18:45.996675",
     "exception": false,
     "start_time": "2020-10-18T13:18:45.646108",
     "status": "completed"
    },
    "tags": []
   },
   "outputs": [],
   "source": [
    "target = 'answered_correctly'\n",
    "columns = [\"correct_rate_before_ans\", 'content_id', 'task_container_id', 'prior_question_had_explanation',\n",
    "           'prior_question_elapsed_time', 'part'] #'mean_accuracy_by_content'\n",
    "\n",
    "drop_columns = [i for i in train.columns if i not in columns + [target] + [\"user_id\"]] \n",
    "train.drop(drop_columns, axis=1, inplace=True)"
   ]
  },
  {
   "cell_type": "code",
   "execution_count": 10,
   "metadata": {
    "execution": {
     "iopub.execute_input": "2020-10-18T13:18:46.057388Z",
     "iopub.status.busy": "2020-10-18T13:18:46.056299Z",
     "iopub.status.idle": "2020-10-18T13:18:46.061335Z",
     "shell.execute_reply": "2020-10-18T13:18:46.060506Z"
    },
    "papermill": {
     "duration": 0.040441,
     "end_time": "2020-10-18T13:18:46.061472",
     "exception": false,
     "start_time": "2020-10-18T13:18:46.021031",
     "status": "completed"
    },
    "tags": []
   },
   "outputs": [
    {
     "data": {
      "text/html": [
       "<div>\n",
       "<style scoped>\n",
       "    .dataframe tbody tr th:only-of-type {\n",
       "        vertical-align: middle;\n",
       "    }\n",
       "\n",
       "    .dataframe tbody tr th {\n",
       "        vertical-align: top;\n",
       "    }\n",
       "\n",
       "    .dataframe thead th {\n",
       "        text-align: right;\n",
       "    }\n",
       "</style>\n",
       "<table border=\"1\" class=\"dataframe\">\n",
       "  <thead>\n",
       "    <tr style=\"text-align: right;\">\n",
       "      <th></th>\n",
       "      <th>user_id</th>\n",
       "      <th>content_id</th>\n",
       "      <th>task_container_id</th>\n",
       "      <th>answered_correctly</th>\n",
       "      <th>prior_question_elapsed_time</th>\n",
       "      <th>prior_question_had_explanation</th>\n",
       "      <th>correct_rate_before_ans</th>\n",
       "      <th>part</th>\n",
       "    </tr>\n",
       "  </thead>\n",
       "  <tbody>\n",
       "    <tr>\n",
       "      <th>0</th>\n",
       "      <td>1911932135</td>\n",
       "      <td>4705</td>\n",
       "      <td>0</td>\n",
       "      <td>0</td>\n",
       "      <td>4294967295</td>\n",
       "      <td>0</td>\n",
       "      <td>-1.000000</td>\n",
       "      <td>5</td>\n",
       "    </tr>\n",
       "    <tr>\n",
       "      <th>1</th>\n",
       "      <td>1911932135</td>\n",
       "      <td>4877</td>\n",
       "      <td>1</td>\n",
       "      <td>1</td>\n",
       "      <td>39000</td>\n",
       "      <td>0</td>\n",
       "      <td>0.000000</td>\n",
       "      <td>5</td>\n",
       "    </tr>\n",
       "    <tr>\n",
       "      <th>2</th>\n",
       "      <td>1911932135</td>\n",
       "      <td>3923</td>\n",
       "      <td>2</td>\n",
       "      <td>1</td>\n",
       "      <td>5000</td>\n",
       "      <td>0</td>\n",
       "      <td>0.500000</td>\n",
       "      <td>5</td>\n",
       "    </tr>\n",
       "    <tr>\n",
       "      <th>3</th>\n",
       "      <td>1911932135</td>\n",
       "      <td>3893</td>\n",
       "      <td>3</td>\n",
       "      <td>0</td>\n",
       "      <td>31000</td>\n",
       "      <td>0</td>\n",
       "      <td>0.666667</td>\n",
       "      <td>5</td>\n",
       "    </tr>\n",
       "    <tr>\n",
       "      <th>4</th>\n",
       "      <td>1911932135</td>\n",
       "      <td>6318</td>\n",
       "      <td>4</td>\n",
       "      <td>1</td>\n",
       "      <td>30000</td>\n",
       "      <td>0</td>\n",
       "      <td>0.500000</td>\n",
       "      <td>5</td>\n",
       "    </tr>\n",
       "  </tbody>\n",
       "</table>\n",
       "</div>"
      ],
      "text/plain": [
       "      user_id  content_id  task_container_id  answered_correctly  \\\n",
       "0  1911932135        4705                  0                   0   \n",
       "1  1911932135        4877                  1                   1   \n",
       "2  1911932135        3923                  2                   1   \n",
       "3  1911932135        3893                  3                   0   \n",
       "4  1911932135        6318                  4                   1   \n",
       "\n",
       "   prior_question_elapsed_time  prior_question_had_explanation  \\\n",
       "0                   4294967295                               0   \n",
       "1                        39000                               0   \n",
       "2                         5000                               0   \n",
       "3                        31000                               0   \n",
       "4                        30000                               0   \n",
       "\n",
       "   correct_rate_before_ans  part  \n",
       "0                -1.000000     5  \n",
       "1                 0.000000     5  \n",
       "2                 0.500000     5  \n",
       "3                 0.666667     5  \n",
       "4                 0.500000     5  "
      ]
     },
     "execution_count": 10,
     "metadata": {},
     "output_type": "execute_result"
    }
   ],
   "source": [
    "train.head()"
   ]
  },
  {
   "cell_type": "markdown",
   "metadata": {
    "papermill": {
     "duration": 0.021302,
     "end_time": "2020-10-18T13:18:46.104396",
     "exception": false,
     "start_time": "2020-10-18T13:18:46.083094",
     "status": "completed"
    },
    "tags": []
   },
   "source": [
    "# modelling"
   ]
  },
  {
   "cell_type": "code",
   "execution_count": 11,
   "metadata": {
    "execution": {
     "iopub.execute_input": "2020-10-18T13:18:46.169529Z",
     "iopub.status.busy": "2020-10-18T13:18:46.162022Z",
     "iopub.status.idle": "2020-10-18T13:18:46.172860Z",
     "shell.execute_reply": "2020-10-18T13:18:46.172046Z"
    },
    "papermill": {
     "duration": 0.046288,
     "end_time": "2020-10-18T13:18:46.172992",
     "exception": false,
     "start_time": "2020-10-18T13:18:46.126704",
     "status": "completed"
    },
    "tags": []
   },
   "outputs": [],
   "source": [
    "def stratified_group_k_fold(X, y, groups, k, seed=None):\n",
    "    labels_num = np.max(y) + 1\n",
    "    y_counts_per_group = defaultdict(lambda: np.zeros(labels_num))\n",
    "    y_distr = Counter()\n",
    "    for label, g in zip(y, groups):\n",
    "        y_counts_per_group[g][label] += 1\n",
    "        y_distr[label] += 1\n",
    "\n",
    "    y_counts_per_fold = defaultdict(lambda: np.zeros(labels_num))\n",
    "    groups_per_fold = defaultdict(set)\n",
    "\n",
    "    def eval_y_counts_per_fold(y_counts, fold):\n",
    "        y_counts_per_fold[fold] += y_counts\n",
    "        std_per_label = []\n",
    "        for label in range(labels_num):\n",
    "            label_std = np.std([y_counts_per_fold[i][label] / y_distr[label] for i in range(k)])\n",
    "            std_per_label.append(label_std)\n",
    "        y_counts_per_fold[fold] -= y_counts\n",
    "        return np.mean(std_per_label)\n",
    "    \n",
    "    groups_and_y_counts = list(y_counts_per_group.items())\n",
    "    random.Random(seed).shuffle(groups_and_y_counts)\n",
    "\n",
    "    for g, y_counts in sorted(groups_and_y_counts, key=lambda x: -np.std(x[1])):\n",
    "        best_fold = None\n",
    "        min_eval = None\n",
    "        for i in range(k):\n",
    "            fold_eval = eval_y_counts_per_fold(y_counts, i)\n",
    "            if min_eval is None or fold_eval < min_eval:\n",
    "                min_eval = fold_eval\n",
    "                best_fold = i\n",
    "        y_counts_per_fold[best_fold] += y_counts\n",
    "        groups_per_fold[best_fold].add(g)\n",
    "\n",
    "    all_groups = set(groups)\n",
    "    for i in range(k):\n",
    "        train_groups = all_groups - groups_per_fold[i]\n",
    "        test_groups = groups_per_fold[i]\n",
    "\n",
    "        train_indices = [i for i, g in enumerate(groups) if g in train_groups]\n",
    "        test_indices = [i for i, g in enumerate(groups) if g in test_groups]\n",
    "\n",
    "        yield train_indices, test_indices"
   ]
  },
  {
   "cell_type": "code",
   "execution_count": 12,
   "metadata": {
    "execution": {
     "iopub.execute_input": "2020-10-18T13:18:46.306960Z",
     "iopub.status.busy": "2020-10-18T13:18:46.231446Z",
     "iopub.status.idle": "2020-10-18T14:10:44.687226Z",
     "shell.execute_reply": "2020-10-18T14:10:44.688141Z"
    },
    "papermill": {
     "duration": 3118.490583,
     "end_time": "2020-10-18T14:10:44.688441",
     "exception": false,
     "start_time": "2020-10-18T13:18:46.197858",
     "status": "completed"
    },
    "tags": []
   },
   "outputs": [
    {
     "name": "stdout",
     "output_type": "stream",
     "text": [
      "Fold 1\n",
      "Training until validation scores don't improve for 10 rounds\n",
      "[100]\ttraining's auc: 0.694448\tvalid_1's auc: 0.697822\n",
      "[200]\ttraining's auc: 0.703934\tvalid_1's auc: 0.706315\n",
      "[300]\ttraining's auc: 0.709389\tvalid_1's auc: 0.711066\n",
      "Did not meet early stopping. Best iteration is:\n",
      "[300]\ttraining's auc: 0.709389\tvalid_1's auc: 0.711066\n",
      "Fold 2\n",
      "Training until validation scores don't improve for 10 rounds\n",
      "[100]\ttraining's auc: 0.69491\tvalid_1's auc: 0.693569\n",
      "[200]\ttraining's auc: 0.704439\tvalid_1's auc: 0.702769\n",
      "[300]\ttraining's auc: 0.70978\tvalid_1's auc: 0.707549\n",
      "Did not meet early stopping. Best iteration is:\n",
      "[300]\ttraining's auc: 0.70978\tvalid_1's auc: 0.707549\n",
      "Fold 3\n",
      "Training until validation scores don't improve for 10 rounds\n",
      "[100]\ttraining's auc: 0.696189\tvalid_1's auc: 0.690305\n",
      "[200]\ttraining's auc: 0.705281\tvalid_1's auc: 0.698824\n",
      "[300]\ttraining's auc: 0.710517\tvalid_1's auc: 0.703595\n",
      "Did not meet early stopping. Best iteration is:\n",
      "[300]\ttraining's auc: 0.710517\tvalid_1's auc: 0.703595\n",
      "Fold 4\n",
      "Training until validation scores don't improve for 10 rounds\n",
      "[100]\ttraining's auc: 0.695751\tvalid_1's auc: 0.692891\n",
      "[200]\ttraining's auc: 0.705048\tvalid_1's auc: 0.701302\n",
      "[300]\ttraining's auc: 0.710468\tvalid_1's auc: 0.706137\n",
      "Did not meet early stopping. Best iteration is:\n",
      "[300]\ttraining's auc: 0.710468\tvalid_1's auc: 0.706137\n",
      "Fold 5\n",
      "Training until validation scores don't improve for 10 rounds\n",
      "[100]\ttraining's auc: 0.695082\tvalid_1's auc: 0.692565\n",
      "[200]\ttraining's auc: 0.70451\tvalid_1's auc: 0.701221\n",
      "[300]\ttraining's auc: 0.710148\tvalid_1's auc: 0.706323\n",
      "Did not meet early stopping. Best iteration is:\n",
      "[300]\ttraining's auc: 0.710148\tvalid_1's auc: 0.706323\n",
      "Overall ROC AUC:  0.7069280951570797\n"
     ]
    }
   ],
   "source": [
    "categoricals = [\"content_id\", \"part\"]\n",
    "def modelling_lgb(X_train, y_train):\n",
    "    params = {'objective': 'binary', \"metric\": 'auc','eval_metric':'auc', 'boosting_type': 'gbdt', 'tree_learner': 'serial', 'learning_rate': 0.01, \n",
    "               \"num_leaves\": 50, 'random_seed':44, 'max_depth': 10} \n",
    "    \n",
    "    groups = np.array(X_train.user_id.values)\n",
    "    n_folds=5\n",
    "    \n",
    "    models = []\n",
    "    valid = np.zeros([X_train.shape[0]])\n",
    "        \n",
    "    features_list = [i for i in X_train.columns if i != \"user_id\"]\n",
    "    feature_importance_df = pd.DataFrame(features_list, columns=[\"Feature\"])\n",
    "    \n",
    "    for i , (train_index, test_index) in enumerate(stratified_group_k_fold(X_train, y_train, groups, k=n_folds, seed=0)):\n",
    "        print(\"Fold {}\".format(i+1))\n",
    "        X_train2 = X_train.iloc[train_index,:]\n",
    "        y_train2 = y_train.iloc[train_index]\n",
    "        X_train2.drop(\"user_id\", axis=1, inplace=True)\n",
    "\n",
    "        X_valid2 = X_train.iloc[test_index,:]\n",
    "        \n",
    "        # https://stackoverflow.com/questions/15705630/get-the-rows-which-have-the-max-count-in-groups-using-groupby\n",
    "        #max_idx = X_valid2.groupby(['user_id'])['task_container_id'].transform(max) == train['task_container_id']\n",
    "        #min_idx = X_valid2.groupby(['user_id'])['task_container_id'].transform(min) == train['task_container_id']\n",
    "        #X_valid2 = X_valid2[max_idx|min_idx]\n",
    "        \n",
    "        y_valid2 = y_train.iloc[test_index]\n",
    "        X_valid2.drop(\"user_id\", axis=1, inplace=True)\n",
    "\n",
    "        lgb_train = lgb.Dataset(X_train2, y_train2)\n",
    "        lgb_eval = lgb.Dataset(X_valid2, y_valid2, reference=lgb_train)\n",
    "        \n",
    "        clf = lgb.train(params, lgb_train,valid_sets=[lgb_train, lgb_eval], \n",
    "               num_boost_round=300,early_stopping_rounds=10,verbose_eval = 100, categorical_feature=categoricals) \n",
    "        feature_importance_df[\"Fold_\"+str(i+1)] = clf.feature_importance()\n",
    "\n",
    "        valid_predict = clf.predict(X_valid2, num_iteration = clf.best_iteration)\n",
    "        valid[test_index] = valid_predict\n",
    "        \n",
    "        models.append(clf) \n",
    "        \n",
    "    feature_importance_df[\"Average\"] = np.mean(feature_importance_df.iloc[:,1:n_folds+1], axis=1)\n",
    "    feature_importance_df[\"Std\"] = np.std(feature_importance_df.iloc[:,1:n_folds+1], axis=1)\n",
    "    feature_importance_df[\"Cv\"] = feature_importance_df[\"Std\"] / feature_importance_df[\"Average\"]\n",
    "    feature_importance_df = feature_importance_df.sort_values(\"Average\", ascending=False).reset_index(drop=True)\n",
    "            \n",
    "    score = roc_auc_score(y_train, valid)\n",
    "    print(\"Overall ROC AUC: \", score)\n",
    "        \n",
    "    return models, feature_importance_df\n",
    "models, feature_importance_df = modelling_lgb(train[columns + [\"user_id\"]], train[target])"
   ]
  },
  {
   "cell_type": "code",
   "execution_count": 13,
   "metadata": {
    "execution": {
     "iopub.execute_input": "2020-10-18T14:10:44.768007Z",
     "iopub.status.busy": "2020-10-18T14:10:44.766989Z",
     "iopub.status.idle": "2020-10-18T14:10:44.972570Z",
     "shell.execute_reply": "2020-10-18T14:10:44.971819Z"
    },
    "papermill": {
     "duration": 0.251785,
     "end_time": "2020-10-18T14:10:44.972724",
     "exception": false,
     "start_time": "2020-10-18T14:10:44.720939",
     "status": "completed"
    },
    "tags": []
   },
   "outputs": [
    {
     "data": {
      "image/png": "[encoded data removed]",
      "text/plain": [
       "<Figure size 720x360 with 1 Axes>"
      ]
     },
     "metadata": {
      "needs_background": "light"
     },
     "output_type": "display_data"
    }
   ],
   "source": [
    "import matplotlib.pyplot as plt \n",
    "x = list(feature_importance_df[\"Feature\"].values)\n",
    "y = feature_importance_df[\"Average\"].values\n",
    "\n",
    "x_position = np.arange(len(x))\n",
    "\n",
    "fig = plt.figure(figsize=(10,5))\n",
    "ax = fig.add_subplot(1, 1, 1)\n",
    "ax.barh(x_position, y, tick_label=x)\n",
    "ax.set_ylabel('feature')\n",
    "ax.set_xlabel('feature importance')\n",
    "plt.show()"
   ]
  },
  {
   "cell_type": "markdown",
   "metadata": {
    "papermill": {
     "duration": 0.035097,
     "end_time": "2020-10-18T14:10:45.040616",
     "exception": false,
     "start_time": "2020-10-18T14:10:45.005519",
     "status": "completed"
    },
    "tags": []
   },
   "source": [
    "# prediction"
   ]
  },
  {
   "cell_type": "code",
   "execution_count": 14,
   "metadata": {
    "execution": {
     "iopub.execute_input": "2020-10-18T14:10:45.114355Z",
     "iopub.status.busy": "2020-10-18T14:10:45.113421Z",
     "iopub.status.idle": "2020-10-18T14:10:45.117163Z",
     "shell.execute_reply": "2020-10-18T14:10:45.116524Z"
    },
    "papermill": {
     "duration": 0.042666,
     "end_time": "2020-10-18T14:10:45.117305",
     "exception": false,
     "start_time": "2020-10-18T14:10:45.074639",
     "status": "completed"
    },
    "tags": []
   },
   "outputs": [],
   "source": [
    "del train"
   ]
  },
  {
   "cell_type": "code",
   "execution_count": 15,
   "metadata": {
    "execution": {
     "iopub.execute_input": "2020-10-18T14:10:45.203263Z",
     "iopub.status.busy": "2020-10-18T14:10:45.202443Z",
     "iopub.status.idle": "2020-10-18T14:10:45.994929Z",
     "shell.execute_reply": "2020-10-18T14:10:45.994110Z"
    },
    "papermill": {
     "duration": 0.84267,
     "end_time": "2020-10-18T14:10:45.995076",
     "exception": false,
     "start_time": "2020-10-18T14:10:45.152406",
     "status": "completed"
    },
    "tags": []
   },
   "outputs": [],
   "source": [
    "env = riiideducation.make_env()\n",
    "iter_test = env.iter_test()\n",
    "\n",
    "for (test_df, sample_prediction_df) in iter_test:\n",
    "    y_preds = []\n",
    "\n",
    "    test_df['prior_question_had_explanation'] = test_df['prior_question_had_explanation'].fillna(value = False).astype(bool)\n",
    "    test_df = get_data(test_df, test_set=True)\n",
    "    test_df[\"prior_question_had_explanation\"] = le.fit_transform(test_df[\"prior_question_had_explanation\"])\n",
    "\n",
    "    for model in models:\n",
    "        y_pred = model.predict(test_df[columns], num_iteration=model.best_iteration)\n",
    "        y_preds.append(y_pred)\n",
    "\n",
    "    y_preds = sum(y_preds) / len(y_preds)\n",
    "    test_df['answered_correctly'] = y_preds\n",
    "    env.predict(test_df.loc[test_df['content_type_id'] == 0, ['row_id', 'answered_correctly']])"
   ]
  },
  {
   "cell_type": "code",
   "execution_count": null,
   "metadata": {
    "papermill": {
     "duration": 0.032736,
     "end_time": "2020-10-18T14:10:46.061536",
     "exception": false,
     "start_time": "2020-10-18T14:10:46.028800",
     "status": "completed"
    },
    "tags": []
   },
   "outputs": [],
   "source": []
  }
 ],
 "metadata": {
  "kernelspec": {
   "display_name": "Python 3",
   "language": "python",
   "name": "python3"
  },
  "language_info": {
   "codemirror_mode": {
    "name": "ipython",
    "version": 3
   },
   "file_extension": ".py",
   "mimetype": "text/x-python",
   "name": "python",
   "nbconvert_exporter": "python",
   "pygments_lexer": "ipython3",
   "version": "3.7.6"
  },
  "papermill": {
   "duration": 4117.12505,
   "end_time": "2020-10-18T14:10:46.212993",
   "environment_variables": {},
   "exception": null,
   "input_path": "__notebook__.ipynb",
   "output_path": "__notebook__.ipynb",
   "parameters": {},
   "start_time": "2020-10-18T13:02:09.087943",
   "version": "2.1.0"
  },
  "widgets": {
   "application/vnd.jupyter.widget-state+json": {
    "state": {
     "2417a7ff101b40059bfdb40879375f84": {
      "model_module": "@jupyter-widgets/controls",
      "model_module_version": "1.5.0",
      "model_name": "DescriptionStyleModel",
      "state": {
       "_model_module": "@jupyter-widgets/controls",
       "_model_module_version": "1.5.0",
       "_model_name": "DescriptionStyleModel",
       "_view_count": null,
       "_view_module": "@jupyter-widgets/base",
       "_view_module_version": "1.2.0",
       "_view_name": "StyleView",
       "description_width": ""
      }
     },
     "3dea54889fbf408dbc26988c1f255f85": {
      "model_module": "@jupyter-widgets/base",
      "model_module_version": "1.2.0",
      "model_name": "LayoutModel",
      "state": {
       "_model_module": "@jupyter-widgets/base",
       "_model_module_version": "1.2.0",
       "_model_name": "LayoutModel",
       "_view_count": null,
       "_view_module": "@jupyter-widgets/base",
       "_view_module_version": "1.2.0",
       "_view_name": "LayoutView",
       "align_content": null,
       "align_items": null,
       "align_self": null,
       "border": null,
       "bottom": null,
       "display": null,
       "flex": null,
       "flex_flow": null,
       "grid_area": null,
       "grid_auto_columns": null,
       "grid_auto_flow": null,
       "grid_auto_rows": null,
       "grid_column": null,
       "grid_gap": null,
       "grid_row": null,
       "grid_template_areas": null,
       "grid_template_columns": null,
       "grid_template_rows": null,
       "height": null,
       "justify_content": null,
       "justify_items": null,
       "left": null,
       "margin": null,
       "max_height": null,
       "max_width": null,
       "min_height": null,
       "min_width": null,
       "object_fit": null,
       "object_position": null,
       "order": null,
       "overflow": null,
       "overflow_x": null,
       "overflow_y": null,
       "padding": null,
       "right": null,
       "top": null,
       "visibility": null,
       "width": null
      }
     },
     "3e004177d1f644348de26ed03c290943": {
      "model_module": "@jupyter-widgets/controls",
      "model_module_version": "1.5.0",
      "model_name": "ProgressStyleModel",
      "state": {
       "_model_module": "@jupyter-widgets/controls",
       "_model_module_version": "1.5.0",
       "_model_name": "ProgressStyleModel",
       "_view_count": null,
       "_view_module": "@jupyter-widgets/base",
       "_view_module_version": "1.2.0",
       "_view_name": "StyleView",
       "bar_color": null,
       "description_width": "initial"
      }
     },
     "52cc2508cb1546e2bace5a9e2feaef13": {
      "model_module": "@jupyter-widgets/base",
      "model_module_version": "1.2.0",
      "model_name": "LayoutModel",
      "state": {
       "_model_module": "@jupyter-widgets/base",
       "_model_module_version": "1.2.0",
       "_model_name": "LayoutModel",
       "_view_count": null,
       "_view_module": "@jupyter-widgets/base",
       "_view_module_version": "1.2.0",
       "_view_name": "LayoutView",
       "align_content": null,
       "align_items": null,
       "align_self": null,
       "border": null,
       "bottom": null,
       "display": null,
       "flex": null,
       "flex_flow": null,
       "grid_area": null,
       "grid_auto_columns": null,
       "grid_auto_flow": null,
       "grid_auto_rows": null,
       "grid_column": null,
       "grid_gap": null,
       "grid_row": null,
       "grid_template_areas": null,
       "grid_template_columns": null,
       "grid_template_rows": null,
       "height": null,
       "justify_content": null,
       "justify_items": null,
       "left": null,
       "margin": null,
       "max_height": null,
       "max_width": null,
       "min_height": null,
       "min_width": null,
       "object_fit": null,
       "object_position": null,
       "order": null,
       "overflow": null,
       "overflow_x": null,
       "overflow_y": null,
       "padding": null,
       "right": null,
       "top": null,
       "visibility": null,
       "width": null
      }
     },
     "5f8b6e0ac73d4adcb70d60e3ee38949e": {
      "model_module": "@jupyter-widgets/controls",
      "model_module_version": "1.5.0",
      "model_name": "HBoxModel",
      "state": {
       "_dom_classes": [],
       "_model_module": "@jupyter-widgets/controls",
       "_model_module_version": "1.5.0",
       "_model_name": "HBoxModel",
       "_view_count": null,
       "_view_module": "@jupyter-widgets/controls",
       "_view_module_version": "1.5.0",
       "_view_name": "HBoxView",
       "box_style": "",
       "children": [
        "IPY_MODEL_7fe32729a6424b51b46527f2745e26b8",
        "IPY_MODEL_7ff233fb68314a6a8534a3f9d843f3ce"
       ],
       "layout": "IPY_MODEL_fcb2f93220f741abbd41cd9f8239e7fb"
      }
     },
     "7fe32729a6424b51b46527f2745e26b8": {
      "model_module": "@jupyter-widgets/controls",
      "model_module_version": "1.5.0",
      "model_name": "FloatProgressModel",
      "state": {
       "_dom_classes": [],
       "_model_module": "@jupyter-widgets/controls",
       "_model_module_version": "1.5.0",
       "_model_name": "FloatProgressModel",
       "_view_count": null,
       "_view_module": "@jupyter-widgets/controls",
       "_view_module_version": "1.5.0",
       "_view_name": "ProgressView",
       "bar_style": "success",
       "description": "user_id: 100%",
       "description_tooltip": null,
       "layout": "IPY_MODEL_52cc2508cb1546e2bace5a9e2feaef13",
       "max": 43496.0,
       "min": 0.0,
       "orientation": "horizontal",
       "style": "IPY_MODEL_3e004177d1f644348de26ed03c290943",
       "value": 43496.0
      }
     },
     "7ff233fb68314a6a8534a3f9d843f3ce": {
      "model_module": "@jupyter-widgets/controls",
      "model_module_version": "1.5.0",
      "model_name": "HTMLModel",
      "state": {
       "_dom_classes": [],
       "_model_module": "@jupyter-widgets/controls",
       "_model_module_version": "1.5.0",
       "_model_name": "HTMLModel",
       "_view_count": null,
       "_view_module": "@jupyter-widgets/controls",
       "_view_module_version": "1.5.0",
       "_view_name": "HTMLView",
       "description": "",
       "description_tooltip": null,
       "layout": "IPY_MODEL_3dea54889fbf408dbc26988c1f255f85",
       "placeholder": "​",
       "style": "IPY_MODEL_2417a7ff101b40059bfdb40879375f84",
       "value": " 43496/43496 [13:52&lt;00:00, 52.23it/s]"
      }
     },
     "fcb2f93220f741abbd41cd9f8239e7fb": {
      "model_module": "@jupyter-widgets/base",
      "model_module_version": "1.2.0",
      "model_name": "LayoutModel",
      "state": {
       "_model_module": "@jupyter-widgets/base",
       "_model_module_version": "1.2.0",
       "_model_name": "LayoutModel",
       "_view_count": null,
       "_view_module": "@jupyter-widgets/base",
       "_view_module_version": "1.2.0",
       "_view_name": "LayoutView",
       "align_content": null,
       "align_items": null,
       "align_self": null,
       "border": null,
       "bottom": null,
       "display": null,
       "flex": null,
       "flex_flow": null,
       "grid_area": null,
       "grid_auto_columns": null,
       "grid_auto_flow": null,
       "grid_auto_rows": null,
       "grid_column": null,
       "grid_gap": null,
       "grid_row": null,
       "grid_template_areas": null,
       "grid_template_columns": null,
       "grid_template_rows": null,
       "height": null,
       "justify_content": null,
       "justify_items": null,
       "left": null,
       "margin": null,
       "max_height": null,
       "max_width": null,
       "min_height": null,
       "min_width": null,
       "object_fit": null,
       "object_position": null,
       "order": null,
       "overflow": null,
       "overflow_x": null,
       "overflow_y": null,
       "padding": null,
       "right": null,
       "top": null,
       "visibility": null,
       "width": null
      }
     }
    },
    "version_major": 2,
    "version_minor": 0
   }
  }
 },
 "nbformat": 4,
 "nbformat_minor": 4
}
