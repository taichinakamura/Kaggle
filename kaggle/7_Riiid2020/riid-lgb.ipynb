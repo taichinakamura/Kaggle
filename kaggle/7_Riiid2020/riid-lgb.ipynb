{
 "cells": [
  {
   "cell_type": "markdown",
   "metadata": {
    "papermill": {
     "duration": 0.01025,
     "end_time": "2020-10-12T08:28:53.415326",
     "exception": false,
     "start_time": "2020-10-12T08:28:53.405076",
     "status": "completed"
    },
    "tags": []
   },
   "source": [
    "- 1st modelling\n",
    "- set num_boost_round to 1000 because it was time consuming"
   ]
  },
  {
   "cell_type": "code",
   "execution_count": 1,
   "metadata": {
    "_cell_guid": "b1076dfc-b9ad-4769-8c92-a6c4dae69d19",
    "_uuid": "8f2839f25d086af736a60e9eeb907d3b93b6e0e5",
    "execution": {
     "iopub.execute_input": "2020-10-12T08:28:53.443823Z",
     "iopub.status.busy": "2020-10-12T08:28:53.443149Z",
     "iopub.status.idle": "2020-10-12T08:28:55.180634Z",
     "shell.execute_reply": "2020-10-12T08:28:55.179921Z"
    },
    "papermill": {
     "duration": 1.755185,
     "end_time": "2020-10-12T08:28:55.180756",
     "exception": false,
     "start_time": "2020-10-12T08:28:53.425571",
     "status": "completed"
    },
    "tags": []
   },
   "outputs": [],
   "source": [
    "import sys\n",
    "import pandas as pd\n",
    "import numpy as np\n",
    "import warnings\n",
    "import datetime\n",
    "from time import time\n",
    "from tqdm import tqdm_notebook as tqdm\n",
    "from collections import Counter\n",
    "from sklearn import preprocessing\n",
    "from sklearn.model_selection import GroupKFold, StratifiedKFold, KFold\n",
    "from sklearn.metrics import mean_squared_error, log_loss, roc_auc_score, precision_score, recall_score, accuracy_score, f1_score, confusion_matrix\n",
    "import lightgbm as lgb\n",
    "from functools import partial\n",
    "import json\n",
    "import copy\n",
    "import time\n",
    "import matplotlib.pyplot as plt\n",
    "import seaborn as sns\n",
    "import scipy as sp\n",
    "from hyperopt import hp, tpe, Trials, fmin, space_eval\n",
    "pd.set_option('display.max_columns', None)\n",
    "pd.set_option(\"display.max_rows\",1000)\n",
    "np.set_printoptions(precision=8)\n",
    "warnings.filterwarnings(\"ignore\")\n",
    "import random\n",
    "import feather\n",
    "import riiideducation"
   ]
  },
  {
   "cell_type": "code",
   "execution_count": 2,
   "metadata": {
    "_cell_guid": "79c7e3d0-c299-4dcb-8224-4455121ee9b0",
    "_uuid": "d629ff2d2480ee46fbb7e2d37f6b5fab8052498a",
    "execution": {
     "iopub.execute_input": "2020-10-12T08:28:55.207082Z",
     "iopub.status.busy": "2020-10-12T08:28:55.206402Z",
     "iopub.status.idle": "2020-10-12T08:29:00.010151Z",
     "shell.execute_reply": "2020-10-12T08:29:00.009493Z"
    },
    "papermill": {
     "duration": 4.81985,
     "end_time": "2020-10-12T08:29:00.010287",
     "exception": false,
     "start_time": "2020-10-12T08:28:55.190437",
     "status": "completed"
    },
    "tags": []
   },
   "outputs": [],
   "source": [
    "DIR = \"../input/riiid-test-answer-prediction/\"\n",
    "train = pd.read_feather(\"../input/riid-train/train.feather\")\n",
    "lectures = pd.read_csv(DIR+\"lectures.csv\")\n",
    "questions = pd.read_csv(DIR+\"questions.csv\")\n",
    "example_test = pd.read_csv(DIR+\"example_test.csv\")"
   ]
  },
  {
   "cell_type": "markdown",
   "metadata": {
    "papermill": {
     "duration": 0.011585,
     "end_time": "2020-10-12T08:29:00.031570",
     "exception": false,
     "start_time": "2020-10-12T08:29:00.019985",
     "status": "completed"
    },
    "tags": []
   },
   "source": [
    "# preprocess"
   ]
  },
  {
   "cell_type": "code",
   "execution_count": 3,
   "metadata": {
    "execution": {
     "iopub.execute_input": "2020-10-12T08:29:00.059378Z",
     "iopub.status.busy": "2020-10-12T08:29:00.058611Z",
     "iopub.status.idle": "2020-10-12T08:29:35.901394Z",
     "shell.execute_reply": "2020-10-12T08:29:35.900790Z"
    },
    "papermill": {
     "duration": 35.860353,
     "end_time": "2020-10-12T08:29:35.901554",
     "exception": false,
     "start_time": "2020-10-12T08:29:00.041201",
     "status": "completed"
    },
    "tags": []
   },
   "outputs": [],
   "source": [
    "train = train.loc[train['answered_correctly'] != -1].reset_index(drop=True)\n",
    "train = train.drop(['timestamp','content_type_id'], axis=1)\n",
    "train['prior_question_had_explanation'] = train['prior_question_had_explanation'].fillna(value = False).astype(bool)\n",
    "\n",
    "user_answers_df = train.groupby('user_id').agg({'answered_correctly': ['mean', 'count']}).copy()\n",
    "user_answers_df.columns = ['mean_user_accuracy', 'questions_answered']\n",
    "\n",
    "content_answers_df = train.groupby('content_id').agg({'answered_correctly': ['mean', 'count']}).copy()\n",
    "content_answers_df.columns = ['mean_accuracy', 'question_asked']\n",
    "\n",
    "# user_content_answers_df = train.groupby(['user_id', 'content_id']).agg({'answered_correctly': ['mean', 'count']}).copy()\n",
    "# user_content_answers_df.columns = ['mean_user_content_accuracy', 'content_questions_answered']"
   ]
  },
  {
   "cell_type": "code",
   "execution_count": 4,
   "metadata": {
    "execution": {
     "iopub.execute_input": "2020-10-12T08:29:35.928049Z",
     "iopub.status.busy": "2020-10-12T08:29:35.926650Z",
     "iopub.status.idle": "2020-10-12T08:29:40.686123Z",
     "shell.execute_reply": "2020-10-12T08:29:40.685364Z"
    },
    "papermill": {
     "duration": 4.774623,
     "end_time": "2020-10-12T08:29:40.686250",
     "exception": false,
     "start_time": "2020-10-12T08:29:35.911627",
     "status": "completed"
    },
    "tags": []
   },
   "outputs": [],
   "source": [
    "le = preprocessing.LabelEncoder()\n",
    "train[\"prior_question_had_explanation\"] = le.fit_transform(train[\"prior_question_had_explanation\"])"
   ]
  },
  {
   "cell_type": "code",
   "execution_count": 5,
   "metadata": {
    "execution": {
     "iopub.execute_input": "2020-10-12T08:29:40.712756Z",
     "iopub.status.busy": "2020-10-12T08:29:40.711692Z",
     "iopub.status.idle": "2020-10-12T08:29:40.714894Z",
     "shell.execute_reply": "2020-10-12T08:29:40.714335Z"
    },
    "papermill": {
     "duration": 0.018596,
     "end_time": "2020-10-12T08:29:40.715011",
     "exception": false,
     "start_time": "2020-10-12T08:29:40.696415",
     "status": "completed"
    },
    "tags": []
   },
   "outputs": [],
   "source": [
    "train = train.iloc[90000000:,:]"
   ]
  },
  {
   "cell_type": "markdown",
   "metadata": {
    "papermill": {
     "duration": 0.009562,
     "end_time": "2020-10-12T08:29:40.734610",
     "exception": false,
     "start_time": "2020-10-12T08:29:40.725048",
     "status": "completed"
    },
    "tags": []
   },
   "source": [
    "# Feature engineering"
   ]
  },
  {
   "cell_type": "code",
   "execution_count": 6,
   "metadata": {
    "execution": {
     "iopub.execute_input": "2020-10-12T08:29:40.761117Z",
     "iopub.status.busy": "2020-10-12T08:29:40.760445Z",
     "iopub.status.idle": "2020-10-12T08:29:44.494143Z",
     "shell.execute_reply": "2020-10-12T08:29:44.493599Z"
    },
    "papermill": {
     "duration": 3.749729,
     "end_time": "2020-10-12T08:29:44.494269",
     "exception": false,
     "start_time": "2020-10-12T08:29:40.744540",
     "status": "completed"
    },
    "tags": []
   },
   "outputs": [],
   "source": [
    "def fe(df):\n",
    "    df = df.merge(user_answers_df, how = 'left', on = 'user_id')\n",
    "    df = df.merge(content_answers_df, how = 'left', on = 'content_id')\n",
    "    # df = df.merge(user_content_answers_df, how = 'left', on = ['user_id', 'content_id'])\n",
    "    df['mean_diff1'] = df['mean_user_accuracy'] - df['mean_accuracy']\n",
    "    # df['mean_diff2'] = df['mean_accuracy'] - df['mean_user_content_accuracy']\n",
    "    return df\n",
    "        \n",
    "train = fe(train)"
   ]
  },
  {
   "cell_type": "code",
   "execution_count": 7,
   "metadata": {
    "execution": {
     "iopub.execute_input": "2020-10-12T08:29:44.520582Z",
     "iopub.status.busy": "2020-10-12T08:29:44.519833Z",
     "iopub.status.idle": "2020-10-12T08:29:46.141018Z",
     "shell.execute_reply": "2020-10-12T08:29:46.140417Z"
    },
    "papermill": {
     "duration": 1.636703,
     "end_time": "2020-10-12T08:29:46.141133",
     "exception": false,
     "start_time": "2020-10-12T08:29:44.504430",
     "status": "completed"
    },
    "tags": []
   },
   "outputs": [],
   "source": [
    "train.fillna(value = 0.5, inplace = True)\n",
    "train.drop(\"row_id\", axis=1, inplace=True)\n",
    "train = train.sort_values(['user_id'])"
   ]
  },
  {
   "cell_type": "code",
   "execution_count": 8,
   "metadata": {
    "execution": {
     "iopub.execute_input": "2020-10-12T08:29:46.166418Z",
     "iopub.status.busy": "2020-10-12T08:29:46.165613Z",
     "iopub.status.idle": "2020-10-12T08:29:46.168420Z",
     "shell.execute_reply": "2020-10-12T08:29:46.167810Z"
    },
    "papermill": {
     "duration": 0.0173,
     "end_time": "2020-10-12T08:29:46.168527",
     "exception": false,
     "start_time": "2020-10-12T08:29:46.151227",
     "status": "completed"
    },
    "tags": []
   },
   "outputs": [],
   "source": [
    "target = 'answered_correctly'\n",
    "columns = ['mean_user_accuracy', 'questions_answered', 'mean_accuracy', 'question_asked','mean_diff1']"
   ]
  },
  {
   "cell_type": "markdown",
   "metadata": {
    "papermill": {
     "duration": 0.009789,
     "end_time": "2020-10-12T08:29:46.188595",
     "exception": false,
     "start_time": "2020-10-12T08:29:46.178806",
     "status": "completed"
    },
    "tags": []
   },
   "source": [
    "# modelling"
   ]
  },
  {
   "cell_type": "code",
   "execution_count": 9,
   "metadata": {
    "execution": {
     "iopub.execute_input": "2020-10-12T08:29:46.341710Z",
     "iopub.status.busy": "2020-10-12T08:29:46.340498Z",
     "iopub.status.idle": "2020-10-12T10:33:42.030340Z",
     "shell.execute_reply": "2020-10-12T10:33:42.031176Z"
    },
    "papermill": {
     "duration": 7435.832693,
     "end_time": "2020-10-12T10:33:42.031478",
     "exception": false,
     "start_time": "2020-10-12T08:29:46.198785",
     "status": "completed"
    },
    "tags": []
   },
   "outputs": [
    {
     "name": "stdout",
     "output_type": "stream",
     "text": [
      "Training until validation scores don't improve for 10 rounds\n",
      "[100]\ttraining's auc: 0.751529\tvalid_1's auc: 0.750954\n",
      "[200]\ttraining's auc: 0.753748\tvalid_1's auc: 0.753252\n",
      "[300]\ttraining's auc: 0.754974\tvalid_1's auc: 0.754504\n",
      "[400]\ttraining's auc: 0.755897\tvalid_1's auc: 0.755447\n",
      "[500]\ttraining's auc: 0.756447\tvalid_1's auc: 0.756002\n",
      "[600]\ttraining's auc: 0.756756\tvalid_1's auc: 0.756314\n",
      "[700]\ttraining's auc: 0.756941\tvalid_1's auc: 0.7565\n",
      "[800]\ttraining's auc: 0.757071\tvalid_1's auc: 0.75663\n",
      "[900]\ttraining's auc: 0.757174\tvalid_1's auc: 0.756732\n",
      "[1000]\ttraining's auc: 0.75725\tvalid_1's auc: 0.756806\n",
      "Did not meet early stopping. Best iteration is:\n",
      "[1000]\ttraining's auc: 0.75725\tvalid_1's auc: 0.756806\n",
      "Training until validation scores don't improve for 10 rounds\n",
      "[100]\ttraining's auc: 0.751324\tvalid_1's auc: 0.751994\n",
      "[200]\ttraining's auc: 0.75354\tvalid_1's auc: 0.754118\n",
      "[300]\ttraining's auc: 0.754775\tvalid_1's auc: 0.755319\n",
      "[400]\ttraining's auc: 0.75572\tvalid_1's auc: 0.756231\n",
      "[500]\ttraining's auc: 0.756268\tvalid_1's auc: 0.756754\n",
      "[600]\ttraining's auc: 0.756583\tvalid_1's auc: 0.757052\n",
      "[700]\ttraining's auc: 0.756765\tvalid_1's auc: 0.757221\n",
      "[800]\ttraining's auc: 0.756893\tvalid_1's auc: 0.757339\n",
      "[900]\ttraining's auc: 0.756993\tvalid_1's auc: 0.757432\n",
      "[1000]\ttraining's auc: 0.757074\tvalid_1's auc: 0.757506\n",
      "Did not meet early stopping. Best iteration is:\n",
      "[1000]\ttraining's auc: 0.757074\tvalid_1's auc: 0.757506\n",
      "Training until validation scores don't improve for 10 rounds\n",
      "[100]\ttraining's auc: 0.75146\tvalid_1's auc: 0.751417\n",
      "[200]\ttraining's auc: 0.753643\tvalid_1's auc: 0.753584\n",
      "[300]\ttraining's auc: 0.754867\tvalid_1's auc: 0.754836\n",
      "[400]\ttraining's auc: 0.755825\tvalid_1's auc: 0.755811\n",
      "[500]\ttraining's auc: 0.756367\tvalid_1's auc: 0.756375\n",
      "[600]\ttraining's auc: 0.756673\tvalid_1's auc: 0.756689\n",
      "[700]\ttraining's auc: 0.756858\tvalid_1's auc: 0.756879\n",
      "[800]\ttraining's auc: 0.756989\tvalid_1's auc: 0.757012\n",
      "[900]\ttraining's auc: 0.757091\tvalid_1's auc: 0.757115\n",
      "[1000]\ttraining's auc: 0.75717\tvalid_1's auc: 0.757192\n",
      "Did not meet early stopping. Best iteration is:\n",
      "[1000]\ttraining's auc: 0.75717\tvalid_1's auc: 0.757192\n",
      "Training until validation scores don't improve for 10 rounds\n",
      "[100]\ttraining's auc: 0.751464\tvalid_1's auc: 0.751489\n",
      "[200]\ttraining's auc: 0.753673\tvalid_1's auc: 0.753712\n",
      "[300]\ttraining's auc: 0.754893\tvalid_1's auc: 0.754934\n",
      "[400]\ttraining's auc: 0.755826\tvalid_1's auc: 0.755869\n",
      "[500]\ttraining's auc: 0.756363\tvalid_1's auc: 0.756407\n",
      "[600]\ttraining's auc: 0.756664\tvalid_1's auc: 0.756706\n",
      "[700]\ttraining's auc: 0.756851\tvalid_1's auc: 0.756892\n",
      "[800]\ttraining's auc: 0.75698\tvalid_1's auc: 0.757021\n",
      "[900]\ttraining's auc: 0.757078\tvalid_1's auc: 0.757117\n",
      "[1000]\ttraining's auc: 0.757155\tvalid_1's auc: 0.757194\n",
      "Did not meet early stopping. Best iteration is:\n",
      "[1000]\ttraining's auc: 0.757155\tvalid_1's auc: 0.757194\n",
      "Training until validation scores don't improve for 10 rounds\n",
      "[100]\ttraining's auc: 0.751613\tvalid_1's auc: 0.75118\n",
      "[200]\ttraining's auc: 0.753772\tvalid_1's auc: 0.753353\n",
      "[300]\ttraining's auc: 0.755011\tvalid_1's auc: 0.754546\n",
      "[400]\ttraining's auc: 0.755935\tvalid_1's auc: 0.755427\n",
      "[500]\ttraining's auc: 0.756485\tvalid_1's auc: 0.755949\n",
      "[600]\ttraining's auc: 0.756787\tvalid_1's auc: 0.756234\n",
      "[700]\ttraining's auc: 0.756977\tvalid_1's auc: 0.756412\n",
      "[800]\ttraining's auc: 0.75711\tvalid_1's auc: 0.756534\n",
      "[900]\ttraining's auc: 0.757209\tvalid_1's auc: 0.756623\n",
      "[1000]\ttraining's auc: 0.75729\tvalid_1's auc: 0.756697\n",
      "Did not meet early stopping. Best iteration is:\n",
      "[1000]\ttraining's auc: 0.75729\tvalid_1's auc: 0.756697\n",
      "0.7570779938940256\n"
     ]
    }
   ],
   "source": [
    "def modelling_lgb(X_train, y_train):\n",
    "    params = {'objective': 'binary', \"metric\": 'auc','eval_metric':'auc', 'boosting_type': 'gbdt', 'tree_learner': 'serial', 'learning_rate': 0.01, \n",
    "               \"num_leaves\": 10, 'random_seed':44, 'max_depth': 5} \n",
    "        \n",
    "    n_folds=5\n",
    "    skf=StratifiedKFold(n_splits = n_folds, shuffle=True, random_state=0)\n",
    "    \n",
    "    models = []\n",
    "    valid = np.zeros([X_train.shape[0]])\n",
    "    for i , (train_index, test_index) in enumerate(skf.split(X_train, y_train)):\n",
    "        X_train2 = X_train.iloc[train_index,:]\n",
    "        y_train2 = y_train.iloc[train_index]\n",
    "\n",
    "        X_valid2 = X_train.iloc[test_index,:]\n",
    "        y_valid2 = y_train.iloc[test_index]\n",
    "        \n",
    "        lgb_train = lgb.Dataset(X_train2, y_train2)\n",
    "        lgb_eval = lgb.Dataset(X_valid2, y_valid2, reference=lgb_train)\n",
    "        \n",
    "        clf = lgb.train(params, lgb_train,valid_sets=[lgb_train, lgb_eval], \n",
    "               num_boost_round=1000,early_stopping_rounds=10,verbose_eval = 100) \n",
    "\n",
    "        valid_predict = clf.predict(X_valid2, num_iteration = clf.best_iteration)\n",
    "        valid[test_index] = valid_predict\n",
    "        \n",
    "        models.append(clf) \n",
    "            \n",
    "    score = roc_auc_score(y_train, valid)\n",
    "    print(score)\n",
    "        \n",
    "    return models\n",
    "models = modelling_lgb(train[columns], train[target])"
   ]
  },
  {
   "cell_type": "markdown",
   "metadata": {
    "papermill": {
     "duration": 0.026263,
     "end_time": "2020-10-12T10:33:42.088925",
     "exception": false,
     "start_time": "2020-10-12T10:33:42.062662",
     "status": "completed"
    },
    "tags": []
   },
   "source": [
    "# prediction"
   ]
  },
  {
   "cell_type": "code",
   "execution_count": 10,
   "metadata": {
    "execution": {
     "iopub.execute_input": "2020-10-12T10:33:42.151278Z",
     "iopub.status.busy": "2020-10-12T10:33:42.150571Z",
     "iopub.status.idle": "2020-10-12T10:33:42.153105Z",
     "shell.execute_reply": "2020-10-12T10:33:42.153537Z"
    },
    "papermill": {
     "duration": 0.038514,
     "end_time": "2020-10-12T10:33:42.153684",
     "exception": false,
     "start_time": "2020-10-12T10:33:42.115170",
     "status": "completed"
    },
    "tags": []
   },
   "outputs": [],
   "source": [
    "del train"
   ]
  },
  {
   "cell_type": "code",
   "execution_count": 11,
   "metadata": {
    "execution": {
     "iopub.execute_input": "2020-10-12T10:33:42.221413Z",
     "iopub.status.busy": "2020-10-12T10:33:42.220738Z",
     "iopub.status.idle": "2020-10-12T10:33:43.078762Z",
     "shell.execute_reply": "2020-10-12T10:33:43.078232Z"
    },
    "papermill": {
     "duration": 0.898783,
     "end_time": "2020-10-12T10:33:43.078914",
     "exception": false,
     "start_time": "2020-10-12T10:33:42.180131",
     "status": "completed"
    },
    "tags": []
   },
   "outputs": [],
   "source": [
    "env = riiideducation.make_env()\n",
    "iter_test = env.iter_test()\n",
    "\n",
    "for (test_df, sample_prediction_df) in iter_test:\n",
    "    y_preds = []\n",
    "    test_df = fe(test_df)\n",
    "\n",
    "    test_df['prior_question_had_explanation'] = test_df['prior_question_had_explanation'].fillna(value = False).astype(bool)\n",
    "    test_df = test_df.loc[test_df['content_type_id'] == 0].reset_index(drop=True)\n",
    "    test_df.fillna(value = 0.5, inplace = True)\n",
    "    test_df[\"prior_question_had_explanation\"] = le.fit_transform(test_df[\"prior_question_had_explanation\"])\n",
    "\n",
    "    for model in models:\n",
    "        y_pred = model.predict(test_df[columns], num_iteration=model.best_iteration)\n",
    "        y_preds.append(y_pred)\n",
    "\n",
    "    y_preds = sum(y_preds) / len(y_preds)\n",
    "    test_df['answered_correctly'] = y_preds\n",
    "    env.predict(test_df.loc[test_df['content_type_id'] == 0, ['row_id', 'answered_correctly']])"
   ]
  },
  {
   "cell_type": "code",
   "execution_count": null,
   "metadata": {
    "papermill": {
     "duration": 0.026006,
     "end_time": "2020-10-12T10:33:43.131666",
     "exception": false,
     "start_time": "2020-10-12T10:33:43.105660",
     "status": "completed"
    },
    "tags": []
   },
   "outputs": [],
   "source": []
  }
 ],
 "metadata": {
  "kernelspec": {
   "display_name": "Python 3",
   "language": "python",
   "name": "python3"
  },
  "language_info": {
   "codemirror_mode": {
    "name": "ipython",
    "version": 3
   },
   "file_extension": ".py",
   "mimetype": "text/x-python",
   "name": "python",
   "nbconvert_exporter": "python",
   "pygments_lexer": "ipython3",
   "version": "3.7.6"
  },
  "papermill": {
   "duration": 7494.022054,
   "end_time": "2020-10-12T10:33:43.265291",
   "environment_variables": {},
   "exception": null,
   "input_path": "__notebook__.ipynb",
   "output_path": "__notebook__.ipynb",
   "parameters": {},
   "start_time": "2020-10-12T08:28:49.243237",
   "version": "2.1.0"
  }
 },
 "nbformat": 4,
 "nbformat_minor": 4
}
