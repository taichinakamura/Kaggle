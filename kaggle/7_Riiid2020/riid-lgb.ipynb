{
 "cells": [
  {
   "cell_type": "markdown",
   "metadata": {
    "papermill": {
     "duration": 0.017395,
     "end_time": "2020-10-15T14:20:15.521712",
     "exception": false,
     "start_time": "2020-10-15T14:20:15.504317",
     "status": "completed"
    },
    "tags": []
   },
   "source": [
    "- 3rd modelling\n",
    "- add new features"
   ]
  },
  {
   "cell_type": "code",
   "execution_count": 1,
   "metadata": {
    "_cell_guid": "b1076dfc-b9ad-4769-8c92-a6c4dae69d19",
    "_uuid": "8f2839f25d086af736a60e9eeb907d3b93b6e0e5",
    "execution": {
     "iopub.execute_input": "2020-10-15T14:20:15.564879Z",
     "iopub.status.busy": "2020-10-15T14:20:15.564054Z",
     "iopub.status.idle": "2020-10-15T14:20:16.775042Z",
     "shell.execute_reply": "2020-10-15T14:20:16.774188Z"
    },
    "papermill": {
     "duration": 1.236578,
     "end_time": "2020-10-15T14:20:16.775179",
     "exception": false,
     "start_time": "2020-10-15T14:20:15.538601",
     "status": "completed"
    },
    "tags": []
   },
   "outputs": [],
   "source": [
    "import sys\n",
    "import copy\n",
    "import random\n",
    "import feather\n",
    "import warnings\n",
    "import numpy as np\n",
    "import pandas as pd\n",
    "from time import time\n",
    "import lightgbm as lgb\n",
    "from collections import Counter\n",
    "from sklearn import preprocessing\n",
    "from collections import defaultdict\n",
    "from tqdm import tqdm_notebook as tqdm\n",
    "from sklearn.model_selection import GroupKFold, StratifiedKFold, KFold\n",
    "from sklearn.metrics import roc_auc_score\n",
    "\n",
    "import riiideducation\n",
    "\n",
    "pd.set_option('display.max_columns', None)\n",
    "pd.set_option(\"display.max_rows\",2000)\n",
    "np.set_printoptions(precision=8)\n",
    "warnings.filterwarnings(\"ignore\")"
   ]
  },
  {
   "cell_type": "code",
   "execution_count": 2,
   "metadata": {
    "_cell_guid": "79c7e3d0-c299-4dcb-8224-4455121ee9b0",
    "_uuid": "d629ff2d2480ee46fbb7e2d37f6b5fab8052498a",
    "execution": {
     "iopub.execute_input": "2020-10-15T14:20:16.817365Z",
     "iopub.status.busy": "2020-10-15T14:20:16.816464Z",
     "iopub.status.idle": "2020-10-15T14:20:30.058760Z",
     "shell.execute_reply": "2020-10-15T14:20:30.057896Z"
    },
    "papermill": {
     "duration": 13.266709,
     "end_time": "2020-10-15T14:20:30.058899",
     "exception": false,
     "start_time": "2020-10-15T14:20:16.792190",
     "status": "completed"
    },
    "tags": []
   },
   "outputs": [],
   "source": [
    "DIR = \"../input/riiid-test-answer-prediction/\"\n",
    "train = pd.read_feather(\"../input/riid-train/train.feather\")\n",
    "lectures = pd.read_csv(DIR+\"lectures.csv\")\n",
    "questions = pd.read_csv(DIR+\"questions.csv\")\n",
    "example_test = pd.read_csv(DIR+\"example_test.csv\")"
   ]
  },
  {
   "cell_type": "markdown",
   "metadata": {
    "papermill": {
     "duration": 0.017611,
     "end_time": "2020-10-15T14:20:30.095871",
     "exception": false,
     "start_time": "2020-10-15T14:20:30.078260",
     "status": "completed"
    },
    "tags": []
   },
   "source": [
    "# preprocess"
   ]
  },
  {
   "cell_type": "code",
   "execution_count": 3,
   "metadata": {
    "execution": {
     "iopub.execute_input": "2020-10-15T14:20:30.140720Z",
     "iopub.status.busy": "2020-10-15T14:20:30.139857Z",
     "iopub.status.idle": "2020-10-15T14:21:02.252623Z",
     "shell.execute_reply": "2020-10-15T14:21:02.253397Z"
    },
    "papermill": {
     "duration": 32.140837,
     "end_time": "2020-10-15T14:21:02.253576",
     "exception": false,
     "start_time": "2020-10-15T14:20:30.112739",
     "status": "completed"
    },
    "tags": []
   },
   "outputs": [],
   "source": [
    "train.drop([\"row_id\", 'user_answer'], axis=1, inplace=True)\n",
    "train['prior_question_had_explanation'] = train['prior_question_had_explanation'].fillna(value = False).astype(bool)\n",
    "\n",
    "user_answers_df = train.groupby('user_id').agg({'answered_correctly': ['mean']}).copy()\n",
    "user_answers_df.columns = ['mean_user_accuracy']\n",
    "\n",
    "content_answers_df = train.groupby('content_id').agg({'answered_correctly': ['mean']}).copy()\n",
    "content_answers_df.columns = ['mean_accuracy_by_content']\n",
    "\n",
    "#user_content_answers_df = train.groupby(['user_id', 'content_id']).agg({'answered_correctly': ['mean', 'count']}).copy()\n",
    "#user_content_answers_df.columns = ['mean_user_content_accuracy', 'content_questions_answered']"
   ]
  },
  {
   "cell_type": "code",
   "execution_count": 4,
   "metadata": {
    "execution": {
     "iopub.execute_input": "2020-10-15T14:21:02.296668Z",
     "iopub.status.busy": "2020-10-15T14:21:02.295114Z",
     "iopub.status.idle": "2020-10-15T14:21:07.544367Z",
     "shell.execute_reply": "2020-10-15T14:21:07.543592Z"
    },
    "papermill": {
     "duration": 5.271884,
     "end_time": "2020-10-15T14:21:07.544512",
     "exception": false,
     "start_time": "2020-10-15T14:21:02.272628",
     "status": "completed"
    },
    "tags": []
   },
   "outputs": [],
   "source": [
    "le = preprocessing.LabelEncoder()\n",
    "train[\"prior_question_had_explanation\"] = le.fit_transform(train[\"prior_question_had_explanation\"])"
   ]
  },
  {
   "cell_type": "code",
   "execution_count": 5,
   "metadata": {
    "execution": {
     "iopub.execute_input": "2020-10-15T14:21:07.592901Z",
     "iopub.status.busy": "2020-10-15T14:21:07.591705Z",
     "iopub.status.idle": "2020-10-15T14:21:07.604130Z",
     "shell.execute_reply": "2020-10-15T14:21:07.605084Z"
    },
    "papermill": {
     "duration": 0.043097,
     "end_time": "2020-10-15T14:21:07.605323",
     "exception": false,
     "start_time": "2020-10-15T14:21:07.562226",
     "status": "completed"
    },
    "tags": []
   },
   "outputs": [
    {
     "data": {
      "text/html": [
       "<div>\n",
       "<style scoped>\n",
       "    .dataframe tbody tr th:only-of-type {\n",
       "        vertical-align: middle;\n",
       "    }\n",
       "\n",
       "    .dataframe tbody tr th {\n",
       "        vertical-align: top;\n",
       "    }\n",
       "\n",
       "    .dataframe thead th {\n",
       "        text-align: right;\n",
       "    }\n",
       "</style>\n",
       "<table border=\"1\" class=\"dataframe\">\n",
       "  <thead>\n",
       "    <tr style=\"text-align: right;\">\n",
       "      <th></th>\n",
       "      <th>timestamp</th>\n",
       "      <th>user_id</th>\n",
       "      <th>content_id</th>\n",
       "      <th>content_type_id</th>\n",
       "      <th>task_container_id</th>\n",
       "      <th>answered_correctly</th>\n",
       "      <th>prior_question_elapsed_time</th>\n",
       "      <th>prior_question_had_explanation</th>\n",
       "    </tr>\n",
       "  </thead>\n",
       "  <tbody>\n",
       "    <tr>\n",
       "      <th>90000000</th>\n",
       "      <td>9699003707</td>\n",
       "      <td>1911793149</td>\n",
       "      <td>1797</td>\n",
       "      <td>0</td>\n",
       "      <td>817</td>\n",
       "      <td>1</td>\n",
       "      <td>13000</td>\n",
       "      <td>1</td>\n",
       "    </tr>\n",
       "    <tr>\n",
       "      <th>90000001</th>\n",
       "      <td>9699209307</td>\n",
       "      <td>1911793149</td>\n",
       "      <td>1899</td>\n",
       "      <td>0</td>\n",
       "      <td>818</td>\n",
       "      <td>0</td>\n",
       "      <td>15666</td>\n",
       "      <td>1</td>\n",
       "    </tr>\n",
       "    <tr>\n",
       "      <th>90000002</th>\n",
       "      <td>9699209307</td>\n",
       "      <td>1911793149</td>\n",
       "      <td>1900</td>\n",
       "      <td>0</td>\n",
       "      <td>818</td>\n",
       "      <td>1</td>\n",
       "      <td>15666</td>\n",
       "      <td>1</td>\n",
       "    </tr>\n",
       "    <tr>\n",
       "      <th>90000003</th>\n",
       "      <td>9699209307</td>\n",
       "      <td>1911793149</td>\n",
       "      <td>1898</td>\n",
       "      <td>0</td>\n",
       "      <td>818</td>\n",
       "      <td>1</td>\n",
       "      <td>15666</td>\n",
       "      <td>1</td>\n",
       "    </tr>\n",
       "    <tr>\n",
       "      <th>90000004</th>\n",
       "      <td>9699262735</td>\n",
       "      <td>1911793149</td>\n",
       "      <td>2128</td>\n",
       "      <td>0</td>\n",
       "      <td>819</td>\n",
       "      <td>1</td>\n",
       "      <td>14666</td>\n",
       "      <td>1</td>\n",
       "    </tr>\n",
       "    <tr>\n",
       "      <th>90000005</th>\n",
       "      <td>9699262735</td>\n",
       "      <td>1911793149</td>\n",
       "      <td>2127</td>\n",
       "      <td>0</td>\n",
       "      <td>819</td>\n",
       "      <td>0</td>\n",
       "      <td>14666</td>\n",
       "      <td>1</td>\n",
       "    </tr>\n",
       "    <tr>\n",
       "      <th>90000006</th>\n",
       "      <td>9699262735</td>\n",
       "      <td>1911793149</td>\n",
       "      <td>2126</td>\n",
       "      <td>0</td>\n",
       "      <td>819</td>\n",
       "      <td>1</td>\n",
       "      <td>14666</td>\n",
       "      <td>1</td>\n",
       "    </tr>\n",
       "    <tr>\n",
       "      <th>90000007</th>\n",
       "      <td>9699589757</td>\n",
       "      <td>1911793149</td>\n",
       "      <td>19184</td>\n",
       "      <td>1</td>\n",
       "      <td>567</td>\n",
       "      <td>-1</td>\n",
       "      <td>4294967295</td>\n",
       "      <td>0</td>\n",
       "    </tr>\n",
       "    <tr>\n",
       "      <th>90000008</th>\n",
       "      <td>9699677797</td>\n",
       "      <td>1911793149</td>\n",
       "      <td>3251</td>\n",
       "      <td>0</td>\n",
       "      <td>820</td>\n",
       "      <td>1</td>\n",
       "      <td>12000</td>\n",
       "      <td>1</td>\n",
       "    </tr>\n",
       "    <tr>\n",
       "      <th>90000009</th>\n",
       "      <td>9699677797</td>\n",
       "      <td>1911793149</td>\n",
       "      <td>3250</td>\n",
       "      <td>0</td>\n",
       "      <td>820</td>\n",
       "      <td>0</td>\n",
       "      <td>12000</td>\n",
       "      <td>1</td>\n",
       "    </tr>\n",
       "  </tbody>\n",
       "</table>\n",
       "</div>"
      ],
      "text/plain": [
       "           timestamp     user_id  content_id  content_type_id  \\\n",
       "90000000  9699003707  1911793149        1797                0   \n",
       "90000001  9699209307  1911793149        1899                0   \n",
       "90000002  9699209307  1911793149        1900                0   \n",
       "90000003  9699209307  1911793149        1898                0   \n",
       "90000004  9699262735  1911793149        2128                0   \n",
       "90000005  9699262735  1911793149        2127                0   \n",
       "90000006  9699262735  1911793149        2126                0   \n",
       "90000007  9699589757  1911793149       19184                1   \n",
       "90000008  9699677797  1911793149        3251                0   \n",
       "90000009  9699677797  1911793149        3250                0   \n",
       "\n",
       "          task_container_id  answered_correctly  prior_question_elapsed_time  \\\n",
       "90000000                817                   1                        13000   \n",
       "90000001                818                   0                        15666   \n",
       "90000002                818                   1                        15666   \n",
       "90000003                818                   1                        15666   \n",
       "90000004                819                   1                        14666   \n",
       "90000005                819                   0                        14666   \n",
       "90000006                819                   1                        14666   \n",
       "90000007                567                  -1                   4294967295   \n",
       "90000008                820                   1                        12000   \n",
       "90000009                820                   0                        12000   \n",
       "\n",
       "          prior_question_had_explanation  \n",
       "90000000                               1  \n",
       "90000001                               1  \n",
       "90000002                               1  \n",
       "90000003                               1  \n",
       "90000004                               1  \n",
       "90000005                               1  \n",
       "90000006                               1  \n",
       "90000007                               0  \n",
       "90000008                               1  \n",
       "90000009                               1  "
      ]
     },
     "execution_count": 5,
     "metadata": {},
     "output_type": "execute_result"
    }
   ],
   "source": [
    "train = train.iloc[90000000:,:]\n",
    "train.head(10)"
   ]
  },
  {
   "cell_type": "markdown",
   "metadata": {
    "papermill": {
     "duration": 0.017565,
     "end_time": "2020-10-15T14:21:07.645779",
     "exception": false,
     "start_time": "2020-10-15T14:21:07.628214",
     "status": "completed"
    },
    "tags": []
   },
   "source": [
    "# Feature engineering"
   ]
  },
  {
   "cell_type": "code",
   "execution_count": 6,
   "metadata": {
    "execution": {
     "iopub.execute_input": "2020-10-15T14:21:07.691289Z",
     "iopub.status.busy": "2020-10-15T14:21:07.690469Z",
     "iopub.status.idle": "2020-10-15T14:21:12.108439Z",
     "shell.execute_reply": "2020-10-15T14:21:12.107771Z"
    },
    "papermill": {
     "duration": 4.444876,
     "end_time": "2020-10-15T14:21:12.108584",
     "exception": false,
     "start_time": "2020-10-15T14:21:07.663708",
     "status": "completed"
    },
    "tags": []
   },
   "outputs": [],
   "source": [
    "def fe(df):\n",
    "    df = df.merge(user_answers_df, how = 'left', on = 'user_id')\n",
    "    df = df.merge(content_answers_df, how = 'left', on = 'content_id')\n",
    "    \n",
    "    # https://stackoverflow.com/questions/25888207/pandas-join-dataframes-on-field-with-different-names\n",
    "    #df = df.merge(questions[[\"question_id\", \"part\", \"tags\"]], how=\"left\", left_on=['content_id'], right_on=['question_id'])\n",
    "    #df.drop(\"question_id\", axis=1, inplace=True)\n",
    "    return df\n",
    "        \n",
    "train = fe(train)"
   ]
  },
  {
   "cell_type": "code",
   "execution_count": 7,
   "metadata": {
    "execution": {
     "iopub.execute_input": "2020-10-15T14:21:12.151927Z",
     "iopub.status.busy": "2020-10-15T14:21:12.151171Z",
     "iopub.status.idle": "2020-10-15T14:21:22.156123Z",
     "shell.execute_reply": "2020-10-15T14:21:22.155473Z"
    },
    "papermill": {
     "duration": 10.028771,
     "end_time": "2020-10-15T14:21:22.156268",
     "exception": false,
     "start_time": "2020-10-15T14:21:12.127497",
     "status": "completed"
    },
    "tags": []
   },
   "outputs": [
    {
     "data": {
      "text/html": [
       "<div>\n",
       "<style scoped>\n",
       "    .dataframe tbody tr th:only-of-type {\n",
       "        vertical-align: middle;\n",
       "    }\n",
       "\n",
       "    .dataframe tbody tr th {\n",
       "        vertical-align: top;\n",
       "    }\n",
       "\n",
       "    .dataframe thead th {\n",
       "        text-align: right;\n",
       "    }\n",
       "</style>\n",
       "<table border=\"1\" class=\"dataframe\">\n",
       "  <thead>\n",
       "    <tr style=\"text-align: right;\">\n",
       "      <th></th>\n",
       "      <th>timestamp</th>\n",
       "      <th>user_id</th>\n",
       "      <th>content_id</th>\n",
       "      <th>content_type_id</th>\n",
       "      <th>task_container_id</th>\n",
       "      <th>answered_correctly</th>\n",
       "      <th>prior_question_elapsed_time</th>\n",
       "      <th>prior_question_had_explanation</th>\n",
       "      <th>mean_user_accuracy</th>\n",
       "      <th>mean_accuracy_by_content</th>\n",
       "    </tr>\n",
       "  </thead>\n",
       "  <tbody>\n",
       "    <tr>\n",
       "      <th>0</th>\n",
       "      <td>9699003707</td>\n",
       "      <td>1911793149</td>\n",
       "      <td>1797</td>\n",
       "      <td>0</td>\n",
       "      <td>817</td>\n",
       "      <td>1</td>\n",
       "      <td>13000</td>\n",
       "      <td>1</td>\n",
       "      <td>0.616754</td>\n",
       "      <td>0.876318</td>\n",
       "    </tr>\n",
       "    <tr>\n",
       "      <th>1</th>\n",
       "      <td>9699209307</td>\n",
       "      <td>1911793149</td>\n",
       "      <td>1899</td>\n",
       "      <td>0</td>\n",
       "      <td>818</td>\n",
       "      <td>0</td>\n",
       "      <td>15666</td>\n",
       "      <td>1</td>\n",
       "      <td>0.616754</td>\n",
       "      <td>0.670221</td>\n",
       "    </tr>\n",
       "    <tr>\n",
       "      <th>2</th>\n",
       "      <td>9699209307</td>\n",
       "      <td>1911793149</td>\n",
       "      <td>1900</td>\n",
       "      <td>0</td>\n",
       "      <td>818</td>\n",
       "      <td>1</td>\n",
       "      <td>15666</td>\n",
       "      <td>1</td>\n",
       "      <td>0.616754</td>\n",
       "      <td>0.806936</td>\n",
       "    </tr>\n",
       "    <tr>\n",
       "      <th>3</th>\n",
       "      <td>9699209307</td>\n",
       "      <td>1911793149</td>\n",
       "      <td>1898</td>\n",
       "      <td>0</td>\n",
       "      <td>818</td>\n",
       "      <td>1</td>\n",
       "      <td>15666</td>\n",
       "      <td>1</td>\n",
       "      <td>0.616754</td>\n",
       "      <td>0.478600</td>\n",
       "    </tr>\n",
       "    <tr>\n",
       "      <th>4</th>\n",
       "      <td>9699262735</td>\n",
       "      <td>1911793149</td>\n",
       "      <td>2128</td>\n",
       "      <td>0</td>\n",
       "      <td>819</td>\n",
       "      <td>1</td>\n",
       "      <td>14666</td>\n",
       "      <td>1</td>\n",
       "      <td>0.616754</td>\n",
       "      <td>0.915989</td>\n",
       "    </tr>\n",
       "    <tr>\n",
       "      <th>5</th>\n",
       "      <td>9699262735</td>\n",
       "      <td>1911793149</td>\n",
       "      <td>2127</td>\n",
       "      <td>0</td>\n",
       "      <td>819</td>\n",
       "      <td>0</td>\n",
       "      <td>14666</td>\n",
       "      <td>1</td>\n",
       "      <td>0.616754</td>\n",
       "      <td>0.847007</td>\n",
       "    </tr>\n",
       "    <tr>\n",
       "      <th>6</th>\n",
       "      <td>9699262735</td>\n",
       "      <td>1911793149</td>\n",
       "      <td>2126</td>\n",
       "      <td>0</td>\n",
       "      <td>819</td>\n",
       "      <td>1</td>\n",
       "      <td>14666</td>\n",
       "      <td>1</td>\n",
       "      <td>0.616754</td>\n",
       "      <td>0.492114</td>\n",
       "    </tr>\n",
       "    <tr>\n",
       "      <th>7</th>\n",
       "      <td>9699589757</td>\n",
       "      <td>1911793149</td>\n",
       "      <td>19184</td>\n",
       "      <td>1</td>\n",
       "      <td>567</td>\n",
       "      <td>-1</td>\n",
       "      <td>4294967295</td>\n",
       "      <td>0</td>\n",
       "      <td>0.616754</td>\n",
       "      <td>-1.000000</td>\n",
       "    </tr>\n",
       "    <tr>\n",
       "      <th>8</th>\n",
       "      <td>9699677797</td>\n",
       "      <td>1911793149</td>\n",
       "      <td>3251</td>\n",
       "      <td>0</td>\n",
       "      <td>820</td>\n",
       "      <td>1</td>\n",
       "      <td>12000</td>\n",
       "      <td>1</td>\n",
       "      <td>0.616754</td>\n",
       "      <td>0.785269</td>\n",
       "    </tr>\n",
       "    <tr>\n",
       "      <th>9</th>\n",
       "      <td>9699677797</td>\n",
       "      <td>1911793149</td>\n",
       "      <td>3250</td>\n",
       "      <td>0</td>\n",
       "      <td>820</td>\n",
       "      <td>0</td>\n",
       "      <td>12000</td>\n",
       "      <td>1</td>\n",
       "      <td>0.616754</td>\n",
       "      <td>0.726427</td>\n",
       "    </tr>\n",
       "  </tbody>\n",
       "</table>\n",
       "</div>"
      ],
      "text/plain": [
       "    timestamp     user_id  content_id  content_type_id  task_container_id  \\\n",
       "0  9699003707  1911793149        1797                0                817   \n",
       "1  9699209307  1911793149        1899                0                818   \n",
       "2  9699209307  1911793149        1900                0                818   \n",
       "3  9699209307  1911793149        1898                0                818   \n",
       "4  9699262735  1911793149        2128                0                819   \n",
       "5  9699262735  1911793149        2127                0                819   \n",
       "6  9699262735  1911793149        2126                0                819   \n",
       "7  9699589757  1911793149       19184                1                567   \n",
       "8  9699677797  1911793149        3251                0                820   \n",
       "9  9699677797  1911793149        3250                0                820   \n",
       "\n",
       "   answered_correctly  prior_question_elapsed_time  \\\n",
       "0                   1                        13000   \n",
       "1                   0                        15666   \n",
       "2                   1                        15666   \n",
       "3                   1                        15666   \n",
       "4                   1                        14666   \n",
       "5                   0                        14666   \n",
       "6                   1                        14666   \n",
       "7                  -1                   4294967295   \n",
       "8                   1                        12000   \n",
       "9                   0                        12000   \n",
       "\n",
       "   prior_question_had_explanation  mean_user_accuracy  \\\n",
       "0                               1            0.616754   \n",
       "1                               1            0.616754   \n",
       "2                               1            0.616754   \n",
       "3                               1            0.616754   \n",
       "4                               1            0.616754   \n",
       "5                               1            0.616754   \n",
       "6                               1            0.616754   \n",
       "7                               0            0.616754   \n",
       "8                               1            0.616754   \n",
       "9                               1            0.616754   \n",
       "\n",
       "   mean_accuracy_by_content  \n",
       "0                  0.876318  \n",
       "1                  0.670221  \n",
       "2                  0.806936  \n",
       "3                  0.478600  \n",
       "4                  0.915989  \n",
       "5                  0.847007  \n",
       "6                  0.492114  \n",
       "7                 -1.000000  \n",
       "8                  0.785269  \n",
       "9                  0.726427  "
      ]
     },
     "execution_count": 7,
     "metadata": {},
     "output_type": "execute_result"
    }
   ],
   "source": [
    "train = train.sort_values(['user_id', 'timestamp'])\n",
    "train.head(10)"
   ]
  },
  {
   "cell_type": "code",
   "execution_count": 8,
   "metadata": {
    "execution": {
     "iopub.execute_input": "2020-10-15T14:21:22.210319Z",
     "iopub.status.busy": "2020-10-15T14:21:22.209487Z",
     "iopub.status.idle": "2020-10-15T14:21:22.290010Z",
     "shell.execute_reply": "2020-10-15T14:21:22.289330Z"
    },
    "papermill": {
     "duration": 0.114716,
     "end_time": "2020-10-15T14:21:22.290139",
     "exception": false,
     "start_time": "2020-10-15T14:21:22.175423",
     "status": "completed"
    },
    "tags": []
   },
   "outputs": [
    {
     "ename": "NameError",
     "evalue": "name 'df' is not defined",
     "output_type": "error",
     "traceback": [
      "\u001b[0;31m---------------------------------------------------------------------------\u001b[0m",
      "\u001b[0;31mNameError\u001b[0m                                 Traceback (most recent call last)",
      "\u001b[0;32m<ipython-input-8-bf31a25cc4b5>\u001b[0m in \u001b[0;36m<module>\u001b[0;34m\u001b[0m\n\u001b[1;32m     18\u001b[0m     \u001b[0mdf\u001b[0m\u001b[0;34m.\u001b[0m\u001b[0mfillna\u001b[0m\u001b[0;34m(\u001b[0m\u001b[0mvalue\u001b[0m \u001b[0;34m=\u001b[0m \u001b[0;36m0.5\u001b[0m\u001b[0;34m,\u001b[0m \u001b[0minplace\u001b[0m \u001b[0;34m=\u001b[0m \u001b[0;32mTrue\u001b[0m\u001b[0;34m)\u001b[0m\u001b[0;34m\u001b[0m\u001b[0;34m\u001b[0m\u001b[0m\n\u001b[1;32m     19\u001b[0m     \u001b[0;32mreturn\u001b[0m \u001b[0mdf\u001b[0m\u001b[0;34m\u001b[0m\u001b[0;34m\u001b[0m\u001b[0m\n\u001b[0;32m---> 20\u001b[0;31m \u001b[0mtrain\u001b[0m \u001b[0;34m=\u001b[0m \u001b[0mget_data\u001b[0m\u001b[0;34m(\u001b[0m\u001b[0mdf\u001b[0m\u001b[0;34m)\u001b[0m\u001b[0;34m\u001b[0m\u001b[0;34m\u001b[0m\u001b[0m\n\u001b[0m",
      "\u001b[0;31mNameError\u001b[0m: name 'df' is not defined"
     ]
    }
   ],
   "source": [
    "#https://www.kaggle.com/taichin/final-my-model\n",
    "def get_data(df, test_set=False):\n",
    "    \n",
    "    timediff = np.array([])\n",
    "    lec_num = np.array([])\n",
    "    \n",
    "    if test_set == False:\n",
    "        for i, (ins_id, user_sample) in tqdm(enumerate(df.groupby('user_id', sort=False)), total=train.user_id.nunique(), desc='user_id', position=0):\n",
    "            timediff = np.concatenate([timediff, user_sample[\"timestamp\"].diff(1).values])\n",
    "            lec_num = np.concatenate([lec_num, user_sample[\"content_type_id\"].cumsum().values])\n",
    "    else:\n",
    "        timediff = np.concatenate([timediff, df[\"timestamp\"].diff(1).values])\n",
    "        lec_num = np.concatenate([lec_num, df[\"content_type_id\"].cumsum().values])  \n",
    "        \n",
    "    df[\"timediff\"] = timediff\n",
    "    df[\"lec_num\"] = lec_num\n",
    "    df.drop([\"timestamp\",\"content_type_id\"], axis=1, inplace=True)\n",
    "    df.fillna(value = 0.5, inplace = True)\n",
    "    return df\n",
    "train = get_data(df)"
   ]
  },
  {
   "cell_type": "code",
   "execution_count": 9,
   "metadata": {
    "execution": {
     "iopub.execute_input": "2020-10-15T14:21:22.344937Z",
     "iopub.status.busy": "2020-10-15T14:21:22.343840Z",
     "iopub.status.idle": "2020-10-15T14:21:22.348868Z",
     "shell.execute_reply": "2020-10-15T14:21:22.348288Z"
    },
    "papermill": {
     "duration": 0.039122,
     "end_time": "2020-10-15T14:21:22.349019",
     "exception": false,
     "start_time": "2020-10-15T14:21:22.309897",
     "status": "completed"
    },
    "tags": []
   },
   "outputs": [
    {
     "data": {
      "text/html": [
       "<div>\n",
       "<style scoped>\n",
       "    .dataframe tbody tr th:only-of-type {\n",
       "        vertical-align: middle;\n",
       "    }\n",
       "\n",
       "    .dataframe tbody tr th {\n",
       "        vertical-align: top;\n",
       "    }\n",
       "\n",
       "    .dataframe thead th {\n",
       "        text-align: right;\n",
       "    }\n",
       "</style>\n",
       "<table border=\"1\" class=\"dataframe\">\n",
       "  <thead>\n",
       "    <tr style=\"text-align: right;\">\n",
       "      <th></th>\n",
       "      <th>timestamp</th>\n",
       "      <th>user_id</th>\n",
       "      <th>content_id</th>\n",
       "      <th>content_type_id</th>\n",
       "      <th>task_container_id</th>\n",
       "      <th>answered_correctly</th>\n",
       "      <th>prior_question_elapsed_time</th>\n",
       "      <th>prior_question_had_explanation</th>\n",
       "      <th>mean_user_accuracy</th>\n",
       "      <th>mean_accuracy_by_content</th>\n",
       "    </tr>\n",
       "  </thead>\n",
       "  <tbody>\n",
       "    <tr>\n",
       "      <th>0</th>\n",
       "      <td>9699003707</td>\n",
       "      <td>1911793149</td>\n",
       "      <td>1797</td>\n",
       "      <td>0</td>\n",
       "      <td>817</td>\n",
       "      <td>1</td>\n",
       "      <td>13000</td>\n",
       "      <td>1</td>\n",
       "      <td>0.616754</td>\n",
       "      <td>0.876318</td>\n",
       "    </tr>\n",
       "    <tr>\n",
       "      <th>1</th>\n",
       "      <td>9699209307</td>\n",
       "      <td>1911793149</td>\n",
       "      <td>1899</td>\n",
       "      <td>0</td>\n",
       "      <td>818</td>\n",
       "      <td>0</td>\n",
       "      <td>15666</td>\n",
       "      <td>1</td>\n",
       "      <td>0.616754</td>\n",
       "      <td>0.670221</td>\n",
       "    </tr>\n",
       "    <tr>\n",
       "      <th>2</th>\n",
       "      <td>9699209307</td>\n",
       "      <td>1911793149</td>\n",
       "      <td>1900</td>\n",
       "      <td>0</td>\n",
       "      <td>818</td>\n",
       "      <td>1</td>\n",
       "      <td>15666</td>\n",
       "      <td>1</td>\n",
       "      <td>0.616754</td>\n",
       "      <td>0.806936</td>\n",
       "    </tr>\n",
       "    <tr>\n",
       "      <th>3</th>\n",
       "      <td>9699209307</td>\n",
       "      <td>1911793149</td>\n",
       "      <td>1898</td>\n",
       "      <td>0</td>\n",
       "      <td>818</td>\n",
       "      <td>1</td>\n",
       "      <td>15666</td>\n",
       "      <td>1</td>\n",
       "      <td>0.616754</td>\n",
       "      <td>0.478600</td>\n",
       "    </tr>\n",
       "    <tr>\n",
       "      <th>4</th>\n",
       "      <td>9699262735</td>\n",
       "      <td>1911793149</td>\n",
       "      <td>2128</td>\n",
       "      <td>0</td>\n",
       "      <td>819</td>\n",
       "      <td>1</td>\n",
       "      <td>14666</td>\n",
       "      <td>1</td>\n",
       "      <td>0.616754</td>\n",
       "      <td>0.915989</td>\n",
       "    </tr>\n",
       "  </tbody>\n",
       "</table>\n",
       "</div>"
      ],
      "text/plain": [
       "    timestamp     user_id  content_id  content_type_id  task_container_id  \\\n",
       "0  9699003707  1911793149        1797                0                817   \n",
       "1  9699209307  1911793149        1899                0                818   \n",
       "2  9699209307  1911793149        1900                0                818   \n",
       "3  9699209307  1911793149        1898                0                818   \n",
       "4  9699262735  1911793149        2128                0                819   \n",
       "\n",
       "   answered_correctly  prior_question_elapsed_time  \\\n",
       "0                   1                        13000   \n",
       "1                   0                        15666   \n",
       "2                   1                        15666   \n",
       "3                   1                        15666   \n",
       "4                   1                        14666   \n",
       "\n",
       "   prior_question_had_explanation  mean_user_accuracy  \\\n",
       "0                               1            0.616754   \n",
       "1                               1            0.616754   \n",
       "2                               1            0.616754   \n",
       "3                               1            0.616754   \n",
       "4                               1            0.616754   \n",
       "\n",
       "   mean_accuracy_by_content  \n",
       "0                  0.876318  \n",
       "1                  0.670221  \n",
       "2                  0.806936  \n",
       "3                  0.478600  \n",
       "4                  0.915989  "
      ]
     },
     "execution_count": 9,
     "metadata": {},
     "output_type": "execute_result"
    }
   ],
   "source": [
    "train.head()"
   ]
  },
  {
   "cell_type": "code",
   "execution_count": 10,
   "metadata": {
    "execution": {
     "iopub.execute_input": "2020-10-15T14:21:22.397341Z",
     "iopub.status.busy": "2020-10-15T14:21:22.396256Z",
     "iopub.status.idle": "2020-10-15T14:21:22.400080Z",
     "shell.execute_reply": "2020-10-15T14:21:22.399321Z"
    },
    "papermill": {
     "duration": 0.030357,
     "end_time": "2020-10-15T14:21:22.400209",
     "exception": false,
     "start_time": "2020-10-15T14:21:22.369852",
     "status": "completed"
    },
    "tags": []
   },
   "outputs": [],
   "source": [
    "target = 'answered_correctly'\n",
    "columns = ['mean_user_accuracy', 'mean_accuracy_by_content', 'prior_question_had_explanation', 'timediff', 'lec_num']"
   ]
  },
  {
   "cell_type": "code",
   "execution_count": 11,
   "metadata": {
    "execution": {
     "iopub.execute_input": "2020-10-15T14:21:22.449595Z",
     "iopub.status.busy": "2020-10-15T14:21:22.448825Z",
     "iopub.status.idle": "2020-10-15T14:21:22.648149Z",
     "shell.execute_reply": "2020-10-15T14:21:22.648830Z"
    },
    "papermill": {
     "duration": 0.227758,
     "end_time": "2020-10-15T14:21:22.649014",
     "exception": false,
     "start_time": "2020-10-15T14:21:22.421256",
     "status": "completed"
    },
    "tags": []
   },
   "outputs": [],
   "source": [
    "drop_columns = [i for i in train.columns if i not in columns + [target] + [\"user_id\"]] \n",
    "train.drop(drop_columns, axis=1, inplace=True)"
   ]
  },
  {
   "cell_type": "markdown",
   "metadata": {
    "papermill": {
     "duration": 0.020345,
     "end_time": "2020-10-15T14:21:22.690440",
     "exception": false,
     "start_time": "2020-10-15T14:21:22.670095",
     "status": "completed"
    },
    "tags": []
   },
   "source": [
    "# modelling"
   ]
  },
  {
   "cell_type": "code",
   "execution_count": 12,
   "metadata": {
    "execution": {
     "iopub.execute_input": "2020-10-15T14:21:22.752939Z",
     "iopub.status.busy": "2020-10-15T14:21:22.746289Z",
     "iopub.status.idle": "2020-10-15T14:21:22.756589Z",
     "shell.execute_reply": "2020-10-15T14:21:22.755814Z"
    },
    "papermill": {
     "duration": 0.045399,
     "end_time": "2020-10-15T14:21:22.756729",
     "exception": false,
     "start_time": "2020-10-15T14:21:22.711330",
     "status": "completed"
    },
    "tags": []
   },
   "outputs": [],
   "source": [
    "def stratified_group_k_fold(X, y, groups, k, seed=None):\n",
    "    labels_num = np.max(y) + 1\n",
    "    y_counts_per_group = defaultdict(lambda: np.zeros(labels_num))\n",
    "    y_distr = Counter()\n",
    "    for label, g in zip(y, groups):\n",
    "        y_counts_per_group[g][label] += 1\n",
    "        y_distr[label] += 1\n",
    "\n",
    "    y_counts_per_fold = defaultdict(lambda: np.zeros(labels_num))\n",
    "    groups_per_fold = defaultdict(set)\n",
    "\n",
    "    def eval_y_counts_per_fold(y_counts, fold):\n",
    "        y_counts_per_fold[fold] += y_counts\n",
    "        std_per_label = []\n",
    "        for label in range(labels_num):\n",
    "            label_std = np.std([y_counts_per_fold[i][label] / y_distr[label] for i in range(k)])\n",
    "            std_per_label.append(label_std)\n",
    "        y_counts_per_fold[fold] -= y_counts\n",
    "        return np.mean(std_per_label)\n",
    "    \n",
    "    groups_and_y_counts = list(y_counts_per_group.items())\n",
    "    random.Random(seed).shuffle(groups_and_y_counts)\n",
    "\n",
    "    for g, y_counts in sorted(groups_and_y_counts, key=lambda x: -np.std(x[1])):\n",
    "        best_fold = None\n",
    "        min_eval = None\n",
    "        for i in range(k):\n",
    "            fold_eval = eval_y_counts_per_fold(y_counts, i)\n",
    "            if min_eval is None or fold_eval < min_eval:\n",
    "                min_eval = fold_eval\n",
    "                best_fold = i\n",
    "        y_counts_per_fold[best_fold] += y_counts\n",
    "        groups_per_fold[best_fold].add(g)\n",
    "\n",
    "    all_groups = set(groups)\n",
    "    for i in range(k):\n",
    "        train_groups = all_groups - groups_per_fold[i]\n",
    "        test_groups = groups_per_fold[i]\n",
    "\n",
    "        train_indices = [i for i, g in enumerate(groups) if g in train_groups]\n",
    "        test_indices = [i for i, g in enumerate(groups) if g in test_groups]\n",
    "\n",
    "        yield train_indices, test_indices"
   ]
  },
  {
   "cell_type": "code",
   "execution_count": 13,
   "metadata": {
    "execution": {
     "iopub.execute_input": "2020-10-15T14:21:22.826275Z",
     "iopub.status.busy": "2020-10-15T14:21:22.825338Z",
     "iopub.status.idle": "2020-10-15T14:21:22.845317Z",
     "shell.execute_reply": "2020-10-15T14:21:22.844528Z"
    },
    "papermill": {
     "duration": 0.067566,
     "end_time": "2020-10-15T14:21:22.845444",
     "exception": false,
     "start_time": "2020-10-15T14:21:22.777878",
     "status": "completed"
    },
    "tags": []
   },
   "outputs": [
    {
     "ename": "KeyError",
     "evalue": "\"['lec_num', 'timediff'] not in index\"",
     "output_type": "error",
     "traceback": [
      "\u001b[0;31m---------------------------------------------------------------------------\u001b[0m",
      "\u001b[0;31mKeyError\u001b[0m                                  Traceback (most recent call last)",
      "\u001b[0;32m<ipython-input-13-7e20ba13578d>\u001b[0m in \u001b[0;36m<module>\u001b[0;34m\u001b[0m\n\u001b[1;32m     33\u001b[0m \u001b[0;34m\u001b[0m\u001b[0m\n\u001b[1;32m     34\u001b[0m     \u001b[0;32mreturn\u001b[0m \u001b[0mmodels\u001b[0m\u001b[0;34m\u001b[0m\u001b[0;34m\u001b[0m\u001b[0m\n\u001b[0;32m---> 35\u001b[0;31m \u001b[0mmodels\u001b[0m \u001b[0;34m=\u001b[0m \u001b[0mmodelling_lgb\u001b[0m\u001b[0;34m(\u001b[0m\u001b[0mtrain\u001b[0m\u001b[0;34m[\u001b[0m\u001b[0mcolumns\u001b[0m \u001b[0;34m+\u001b[0m \u001b[0;34m[\u001b[0m\u001b[0;34m\"user_id\"\u001b[0m\u001b[0;34m]\u001b[0m\u001b[0;34m]\u001b[0m\u001b[0;34m,\u001b[0m \u001b[0mtrain\u001b[0m\u001b[0;34m[\u001b[0m\u001b[0mtarget\u001b[0m\u001b[0;34m]\u001b[0m\u001b[0;34m)\u001b[0m\u001b[0;34m\u001b[0m\u001b[0;34m\u001b[0m\u001b[0m\n\u001b[0m",
      "\u001b[0;32m/opt/conda/lib/python3.7/site-packages/pandas/core/frame.py\u001b[0m in \u001b[0;36m__getitem__\u001b[0;34m(self, key)\u001b[0m\n\u001b[1;32m   2906\u001b[0m             \u001b[0;32mif\u001b[0m \u001b[0mis_iterator\u001b[0m\u001b[0;34m(\u001b[0m\u001b[0mkey\u001b[0m\u001b[0;34m)\u001b[0m\u001b[0;34m:\u001b[0m\u001b[0;34m\u001b[0m\u001b[0;34m\u001b[0m\u001b[0m\n\u001b[1;32m   2907\u001b[0m                 \u001b[0mkey\u001b[0m \u001b[0;34m=\u001b[0m \u001b[0mlist\u001b[0m\u001b[0;34m(\u001b[0m\u001b[0mkey\u001b[0m\u001b[0;34m)\u001b[0m\u001b[0;34m\u001b[0m\u001b[0;34m\u001b[0m\u001b[0m\n\u001b[0;32m-> 2908\u001b[0;31m             \u001b[0mindexer\u001b[0m \u001b[0;34m=\u001b[0m \u001b[0mself\u001b[0m\u001b[0;34m.\u001b[0m\u001b[0mloc\u001b[0m\u001b[0;34m.\u001b[0m\u001b[0m_get_listlike_indexer\u001b[0m\u001b[0;34m(\u001b[0m\u001b[0mkey\u001b[0m\u001b[0;34m,\u001b[0m \u001b[0maxis\u001b[0m\u001b[0;34m=\u001b[0m\u001b[0;36m1\u001b[0m\u001b[0;34m,\u001b[0m \u001b[0mraise_missing\u001b[0m\u001b[0;34m=\u001b[0m\u001b[0;32mTrue\u001b[0m\u001b[0;34m)\u001b[0m\u001b[0;34m[\u001b[0m\u001b[0;36m1\u001b[0m\u001b[0;34m]\u001b[0m\u001b[0;34m\u001b[0m\u001b[0;34m\u001b[0m\u001b[0m\n\u001b[0m\u001b[1;32m   2909\u001b[0m \u001b[0;34m\u001b[0m\u001b[0m\n\u001b[1;32m   2910\u001b[0m         \u001b[0;31m# take() does not accept boolean indexers\u001b[0m\u001b[0;34m\u001b[0m\u001b[0;34m\u001b[0m\u001b[0;34m\u001b[0m\u001b[0m\n",
      "\u001b[0;32m/opt/conda/lib/python3.7/site-packages/pandas/core/indexing.py\u001b[0m in \u001b[0;36m_get_listlike_indexer\u001b[0;34m(self, key, axis, raise_missing)\u001b[0m\n\u001b[1;32m   1252\u001b[0m             \u001b[0mkeyarr\u001b[0m\u001b[0;34m,\u001b[0m \u001b[0mindexer\u001b[0m\u001b[0;34m,\u001b[0m \u001b[0mnew_indexer\u001b[0m \u001b[0;34m=\u001b[0m \u001b[0max\u001b[0m\u001b[0;34m.\u001b[0m\u001b[0m_reindex_non_unique\u001b[0m\u001b[0;34m(\u001b[0m\u001b[0mkeyarr\u001b[0m\u001b[0;34m)\u001b[0m\u001b[0;34m\u001b[0m\u001b[0;34m\u001b[0m\u001b[0m\n\u001b[1;32m   1253\u001b[0m \u001b[0;34m\u001b[0m\u001b[0m\n\u001b[0;32m-> 1254\u001b[0;31m         \u001b[0mself\u001b[0m\u001b[0;34m.\u001b[0m\u001b[0m_validate_read_indexer\u001b[0m\u001b[0;34m(\u001b[0m\u001b[0mkeyarr\u001b[0m\u001b[0;34m,\u001b[0m \u001b[0mindexer\u001b[0m\u001b[0;34m,\u001b[0m \u001b[0maxis\u001b[0m\u001b[0;34m,\u001b[0m \u001b[0mraise_missing\u001b[0m\u001b[0;34m=\u001b[0m\u001b[0mraise_missing\u001b[0m\u001b[0;34m)\u001b[0m\u001b[0;34m\u001b[0m\u001b[0;34m\u001b[0m\u001b[0m\n\u001b[0m\u001b[1;32m   1255\u001b[0m         \u001b[0;32mreturn\u001b[0m \u001b[0mkeyarr\u001b[0m\u001b[0;34m,\u001b[0m \u001b[0mindexer\u001b[0m\u001b[0;34m\u001b[0m\u001b[0;34m\u001b[0m\u001b[0m\n\u001b[1;32m   1256\u001b[0m \u001b[0;34m\u001b[0m\u001b[0m\n",
      "\u001b[0;32m/opt/conda/lib/python3.7/site-packages/pandas/core/indexing.py\u001b[0m in \u001b[0;36m_validate_read_indexer\u001b[0;34m(self, key, indexer, axis, raise_missing)\u001b[0m\n\u001b[1;32m   1302\u001b[0m             \u001b[0;32mif\u001b[0m \u001b[0mraise_missing\u001b[0m\u001b[0;34m:\u001b[0m\u001b[0;34m\u001b[0m\u001b[0;34m\u001b[0m\u001b[0m\n\u001b[1;32m   1303\u001b[0m                 \u001b[0mnot_found\u001b[0m \u001b[0;34m=\u001b[0m \u001b[0mlist\u001b[0m\u001b[0;34m(\u001b[0m\u001b[0mset\u001b[0m\u001b[0;34m(\u001b[0m\u001b[0mkey\u001b[0m\u001b[0;34m)\u001b[0m \u001b[0;34m-\u001b[0m \u001b[0mset\u001b[0m\u001b[0;34m(\u001b[0m\u001b[0max\u001b[0m\u001b[0;34m)\u001b[0m\u001b[0;34m)\u001b[0m\u001b[0;34m\u001b[0m\u001b[0;34m\u001b[0m\u001b[0m\n\u001b[0;32m-> 1304\u001b[0;31m                 \u001b[0;32mraise\u001b[0m \u001b[0mKeyError\u001b[0m\u001b[0;34m(\u001b[0m\u001b[0;34mf\"{not_found} not in index\"\u001b[0m\u001b[0;34m)\u001b[0m\u001b[0;34m\u001b[0m\u001b[0;34m\u001b[0m\u001b[0m\n\u001b[0m\u001b[1;32m   1305\u001b[0m \u001b[0;34m\u001b[0m\u001b[0m\n\u001b[1;32m   1306\u001b[0m             \u001b[0;31m# we skip the warning on Categorical\u001b[0m\u001b[0;34m\u001b[0m\u001b[0;34m\u001b[0m\u001b[0;34m\u001b[0m\u001b[0m\n",
      "\u001b[0;31mKeyError\u001b[0m: \"['lec_num', 'timediff'] not in index\""
     ]
    }
   ],
   "source": [
    "def modelling_lgb(X_train, y_train):\n",
    "    params = {'objective': 'binary', \"metric\": 'auc','eval_metric':'auc', 'boosting_type': 'gbdt', 'tree_learner': 'serial', 'learning_rate': 0.01, \n",
    "               \"num_leaves\": 10, 'random_seed':44, 'max_depth': 5} \n",
    "    \n",
    "    groups = np.array(X_train.user_id.values)\n",
    "    n_folds=5\n",
    "    \n",
    "    models = []\n",
    "    valid = np.zeros([X_train.shape[0]])\n",
    "    for i , (train_index, test_index) in enumerate(stratified_group_k_fold(X_train, y_train, groups, k=n_folds, seed=0)):\n",
    "        print(\"Fold {}\".format(i+1))\n",
    "        X_train2 = X_train.iloc[train_index,:]\n",
    "        y_train2 = y_train.iloc[train_index]\n",
    "        X_train2.drop(\"user_id\", axis=1, inplace=True)\n",
    "\n",
    "        X_valid2 = X_train.iloc[test_index,:]\n",
    "        y_valid2 = y_train.iloc[test_index]\n",
    "        X_valid2.drop(\"user_id\", axis=1, inplace=True)\n",
    "\n",
    "        lgb_train = lgb.Dataset(X_train2, y_train2)\n",
    "        lgb_eval = lgb.Dataset(X_valid2, y_valid2, reference=lgb_train)\n",
    "        \n",
    "        clf = lgb.train(params, lgb_train,valid_sets=[lgb_train, lgb_eval], \n",
    "               num_boost_round=1000,early_stopping_rounds=10,verbose_eval = 100) \n",
    "\n",
    "        valid_predict = clf.predict(X_valid2, num_iteration = clf.best_iteration)\n",
    "        valid[test_index] = valid_predict\n",
    "        \n",
    "        models.append(clf) \n",
    "            \n",
    "    score = roc_auc_score(y_train, valid)\n",
    "    print(\"Overall ROC AUC: \", score)\n",
    "        \n",
    "    return models\n",
    "models = modelling_lgb(train[columns + [\"user_id\"]], train[target])"
   ]
  },
  {
   "cell_type": "markdown",
   "metadata": {
    "papermill": {
     "duration": 0.021506,
     "end_time": "2020-10-15T14:21:22.888546",
     "exception": false,
     "start_time": "2020-10-15T14:21:22.867040",
     "status": "completed"
    },
    "tags": []
   },
   "source": [
    "# prediction"
   ]
  },
  {
   "cell_type": "code",
   "execution_count": 14,
   "metadata": {
    "execution": {
     "iopub.execute_input": "2020-10-15T14:21:22.938440Z",
     "iopub.status.busy": "2020-10-15T14:21:22.937439Z",
     "iopub.status.idle": "2020-10-15T14:21:22.940579Z",
     "shell.execute_reply": "2020-10-15T14:21:22.939760Z"
    },
    "papermill": {
     "duration": 0.030367,
     "end_time": "2020-10-15T14:21:22.940733",
     "exception": false,
     "start_time": "2020-10-15T14:21:22.910366",
     "status": "completed"
    },
    "tags": []
   },
   "outputs": [],
   "source": [
    "del train"
   ]
  },
  {
   "cell_type": "code",
   "execution_count": 15,
   "metadata": {
    "execution": {
     "iopub.execute_input": "2020-10-15T14:21:22.997884Z",
     "iopub.status.busy": "2020-10-15T14:21:22.996979Z",
     "iopub.status.idle": "2020-10-15T14:21:23.086394Z",
     "shell.execute_reply": "2020-10-15T14:21:23.085674Z"
    },
    "papermill": {
     "duration": 0.123737,
     "end_time": "2020-10-15T14:21:23.086524",
     "exception": false,
     "start_time": "2020-10-15T14:21:22.962787",
     "status": "completed"
    },
    "tags": []
   },
   "outputs": [
    {
     "ename": "NameError",
     "evalue": "name 'models' is not defined",
     "output_type": "error",
     "traceback": [
      "\u001b[0;31m---------------------------------------------------------------------------\u001b[0m",
      "\u001b[0;31mNameError\u001b[0m                                 Traceback (most recent call last)",
      "\u001b[0;32m<ipython-input-15-3dc72c0f3ca8>\u001b[0m in \u001b[0;36m<module>\u001b[0;34m\u001b[0m\n\u001b[1;32m     10\u001b[0m     \u001b[0mtest_df\u001b[0m\u001b[0;34m[\u001b[0m\u001b[0;34m\"prior_question_had_explanation\"\u001b[0m\u001b[0;34m]\u001b[0m \u001b[0;34m=\u001b[0m \u001b[0mle\u001b[0m\u001b[0;34m.\u001b[0m\u001b[0mfit_transform\u001b[0m\u001b[0;34m(\u001b[0m\u001b[0mtest_df\u001b[0m\u001b[0;34m[\u001b[0m\u001b[0;34m\"prior_question_had_explanation\"\u001b[0m\u001b[0;34m]\u001b[0m\u001b[0;34m)\u001b[0m\u001b[0;34m\u001b[0m\u001b[0;34m\u001b[0m\u001b[0m\n\u001b[1;32m     11\u001b[0m \u001b[0;34m\u001b[0m\u001b[0m\n\u001b[0;32m---> 12\u001b[0;31m     \u001b[0;32mfor\u001b[0m \u001b[0mmodel\u001b[0m \u001b[0;32min\u001b[0m \u001b[0mmodels\u001b[0m\u001b[0;34m:\u001b[0m\u001b[0;34m\u001b[0m\u001b[0;34m\u001b[0m\u001b[0m\n\u001b[0m\u001b[1;32m     13\u001b[0m         \u001b[0my_pred\u001b[0m \u001b[0;34m=\u001b[0m \u001b[0mmodel\u001b[0m\u001b[0;34m.\u001b[0m\u001b[0mpredict\u001b[0m\u001b[0;34m(\u001b[0m\u001b[0mtest_df\u001b[0m\u001b[0;34m[\u001b[0m\u001b[0mcolumns\u001b[0m\u001b[0;34m]\u001b[0m\u001b[0;34m,\u001b[0m \u001b[0mnum_iteration\u001b[0m\u001b[0;34m=\u001b[0m\u001b[0mmodel\u001b[0m\u001b[0;34m.\u001b[0m\u001b[0mbest_iteration\u001b[0m\u001b[0;34m)\u001b[0m\u001b[0;34m\u001b[0m\u001b[0;34m\u001b[0m\u001b[0m\n\u001b[1;32m     14\u001b[0m         \u001b[0my_preds\u001b[0m\u001b[0;34m.\u001b[0m\u001b[0mappend\u001b[0m\u001b[0;34m(\u001b[0m\u001b[0my_pred\u001b[0m\u001b[0;34m)\u001b[0m\u001b[0;34m\u001b[0m\u001b[0;34m\u001b[0m\u001b[0m\n",
      "\u001b[0;31mNameError\u001b[0m: name 'models' is not defined"
     ]
    }
   ],
   "source": [
    "env = riiideducation.make_env()\n",
    "iter_test = env.iter_test()\n",
    "\n",
    "for (test_df, sample_prediction_df) in iter_test:\n",
    "    y_preds = []\n",
    "    test_df = fe(test_df)\n",
    "\n",
    "    test_df['prior_question_had_explanation'] = test_df['prior_question_had_explanation'].fillna(value = False).astype(bool)\n",
    "    test_df = get_data(test_df, test_set=True)\n",
    "    test_df[\"prior_question_had_explanation\"] = le.fit_transform(test_df[\"prior_question_had_explanation\"])\n",
    "\n",
    "    for model in models:\n",
    "        y_pred = model.predict(test_df[columns], num_iteration=model.best_iteration)\n",
    "        y_preds.append(y_pred)\n",
    "\n",
    "    y_preds = sum(y_preds) / len(y_preds)\n",
    "    test_df['answered_correctly'] = y_preds\n",
    "    env.predict(test_df.loc[test_df['content_type_id'] == 0, ['row_id', 'answered_correctly']])"
   ]
  },
  {
   "cell_type": "code",
   "execution_count": null,
   "metadata": {
    "papermill": {
     "duration": 0.023097,
     "end_time": "2020-10-15T14:21:23.132271",
     "exception": false,
     "start_time": "2020-10-15T14:21:23.109174",
     "status": "completed"
    },
    "tags": []
   },
   "outputs": [],
   "source": []
  }
 ],
 "metadata": {
  "kernelspec": {
   "display_name": "Python 3",
   "language": "python",
   "name": "python3"
  },
  "language_info": {
   "codemirror_mode": {
    "name": "ipython",
    "version": 3
   },
   "file_extension": ".py",
   "mimetype": "text/x-python",
   "name": "python",
   "nbconvert_exporter": "python",
   "pygments_lexer": "ipython3",
   "version": "3.7.6"
  },
  "papermill": {
   "duration": 72.849081,
   "end_time": "2020-10-15T14:21:23.263178",
   "environment_variables": {},
   "exception": null,
   "input_path": "__notebook__.ipynb",
   "output_path": "__notebook__.ipynb",
   "parameters": {},
   "start_time": "2020-10-15T14:20:10.414097",
   "version": "2.1.0"
  }
 },
 "nbformat": 4,
 "nbformat_minor": 4
}
