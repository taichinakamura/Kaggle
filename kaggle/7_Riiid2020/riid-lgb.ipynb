{
 "cells": [
  {
   "cell_type": "markdown",
   "metadata": {
    "papermill": {
     "duration": 0.019622,
     "end_time": "2020-10-16T12:10:21.150491",
     "exception": false,
     "start_time": "2020-10-16T12:10:21.130869",
     "status": "completed"
    },
    "tags": []
   },
   "source": [
    "- preparation to extract test data"
   ]
  },
  {
   "cell_type": "code",
   "execution_count": 1,
   "metadata": {
    "_cell_guid": "b1076dfc-b9ad-4769-8c92-a6c4dae69d19",
    "_uuid": "8f2839f25d086af736a60e9eeb907d3b93b6e0e5",
    "execution": {
     "iopub.execute_input": "2020-10-16T12:10:21.199278Z",
     "iopub.status.busy": "2020-10-16T12:10:21.198449Z",
     "iopub.status.idle": "2020-10-16T12:10:22.461913Z",
     "shell.execute_reply": "2020-10-16T12:10:22.461040Z"
    },
    "papermill": {
     "duration": 1.292529,
     "end_time": "2020-10-16T12:10:22.462048",
     "exception": false,
     "start_time": "2020-10-16T12:10:21.169519",
     "status": "completed"
    },
    "tags": []
   },
   "outputs": [],
   "source": [
    "import sys\n",
    "import copy\n",
    "import random\n",
    "import feather\n",
    "import warnings\n",
    "import numpy as np\n",
    "import pandas as pd\n",
    "from time import time\n",
    "import lightgbm as lgb\n",
    "from collections import Counter\n",
    "from sklearn import preprocessing\n",
    "from collections import defaultdict\n",
    "from tqdm import tqdm_notebook as tqdm\n",
    "from sklearn.model_selection import GroupKFold, StratifiedKFold, KFold\n",
    "from sklearn.metrics import roc_auc_score\n",
    "\n",
    "import riiideducation\n",
    "\n",
    "pd.set_option('display.max_columns', None)\n",
    "pd.set_option(\"display.max_rows\",2000)\n",
    "np.set_printoptions(precision=8)\n",
    "warnings.filterwarnings(\"ignore\")"
   ]
  },
  {
   "cell_type": "code",
   "execution_count": 2,
   "metadata": {
    "_cell_guid": "79c7e3d0-c299-4dcb-8224-4455121ee9b0",
    "_uuid": "d629ff2d2480ee46fbb7e2d37f6b5fab8052498a",
    "execution": {
     "iopub.execute_input": "2020-10-16T12:10:22.508301Z",
     "iopub.status.busy": "2020-10-16T12:10:22.507419Z",
     "iopub.status.idle": "2020-10-16T12:10:31.553771Z",
     "shell.execute_reply": "2020-10-16T12:10:31.553066Z"
    },
    "papermill": {
     "duration": 9.07239,
     "end_time": "2020-10-16T12:10:31.553904",
     "exception": false,
     "start_time": "2020-10-16T12:10:22.481514",
     "status": "completed"
    },
    "tags": []
   },
   "outputs": [],
   "source": [
    "DIR = \"../input/riiid-test-answer-prediction/\"\n",
    "train = pd.read_feather(\"../input/riid-train/train.feather\")\n",
    "lectures = pd.read_csv(DIR+\"lectures.csv\")\n",
    "questions = pd.read_csv(DIR+\"questions.csv\")\n",
    "example_test = pd.read_csv(DIR+\"example_test.csv\")"
   ]
  },
  {
   "cell_type": "code",
   "execution_count": 3,
   "metadata": {
    "execution": {
     "iopub.execute_input": "2020-10-16T12:10:31.597210Z",
     "iopub.status.busy": "2020-10-16T12:10:31.596142Z",
     "iopub.status.idle": "2020-10-16T12:10:31.618736Z",
     "shell.execute_reply": "2020-10-16T12:10:31.619306Z"
    },
    "papermill": {
     "duration": 0.047132,
     "end_time": "2020-10-16T12:10:31.619462",
     "exception": false,
     "start_time": "2020-10-16T12:10:31.572330",
     "status": "completed"
    },
    "tags": []
   },
   "outputs": [
    {
     "data": {
      "text/html": [
       "<div>\n",
       "<style scoped>\n",
       "    .dataframe tbody tr th:only-of-type {\n",
       "        vertical-align: middle;\n",
       "    }\n",
       "\n",
       "    .dataframe tbody tr th {\n",
       "        vertical-align: top;\n",
       "    }\n",
       "\n",
       "    .dataframe thead th {\n",
       "        text-align: right;\n",
       "    }\n",
       "</style>\n",
       "<table border=\"1\" class=\"dataframe\">\n",
       "  <thead>\n",
       "    <tr style=\"text-align: right;\">\n",
       "      <th></th>\n",
       "      <th>row_id</th>\n",
       "      <th>group_num</th>\n",
       "      <th>timestamp</th>\n",
       "      <th>user_id</th>\n",
       "      <th>content_id</th>\n",
       "      <th>content_type_id</th>\n",
       "      <th>task_container_id</th>\n",
       "      <th>prior_question_elapsed_time</th>\n",
       "      <th>prior_question_had_explanation</th>\n",
       "      <th>prior_group_answers_correct</th>\n",
       "      <th>prior_group_responses</th>\n",
       "    </tr>\n",
       "  </thead>\n",
       "  <tbody>\n",
       "    <tr>\n",
       "      <th>0</th>\n",
       "      <td>0</td>\n",
       "      <td>0</td>\n",
       "      <td>0</td>\n",
       "      <td>275030867</td>\n",
       "      <td>5729</td>\n",
       "      <td>0</td>\n",
       "      <td>0</td>\n",
       "      <td>NaN</td>\n",
       "      <td>NaN</td>\n",
       "      <td>[]</td>\n",
       "      <td>[]</td>\n",
       "    </tr>\n",
       "    <tr>\n",
       "      <th>1</th>\n",
       "      <td>1</td>\n",
       "      <td>0</td>\n",
       "      <td>13309898705</td>\n",
       "      <td>554169193</td>\n",
       "      <td>12010</td>\n",
       "      <td>0</td>\n",
       "      <td>4427</td>\n",
       "      <td>19000.0</td>\n",
       "      <td>True</td>\n",
       "      <td>NaN</td>\n",
       "      <td>NaN</td>\n",
       "    </tr>\n",
       "    <tr>\n",
       "      <th>2</th>\n",
       "      <td>2</td>\n",
       "      <td>0</td>\n",
       "      <td>4213672059</td>\n",
       "      <td>1720860329</td>\n",
       "      <td>457</td>\n",
       "      <td>0</td>\n",
       "      <td>240</td>\n",
       "      <td>17000.0</td>\n",
       "      <td>True</td>\n",
       "      <td>NaN</td>\n",
       "      <td>NaN</td>\n",
       "    </tr>\n",
       "    <tr>\n",
       "      <th>3</th>\n",
       "      <td>3</td>\n",
       "      <td>0</td>\n",
       "      <td>62798072960</td>\n",
       "      <td>288641214</td>\n",
       "      <td>13262</td>\n",
       "      <td>0</td>\n",
       "      <td>266</td>\n",
       "      <td>23000.0</td>\n",
       "      <td>True</td>\n",
       "      <td>NaN</td>\n",
       "      <td>NaN</td>\n",
       "    </tr>\n",
       "    <tr>\n",
       "      <th>4</th>\n",
       "      <td>4</td>\n",
       "      <td>0</td>\n",
       "      <td>10585422061</td>\n",
       "      <td>1728340777</td>\n",
       "      <td>6119</td>\n",
       "      <td>0</td>\n",
       "      <td>162</td>\n",
       "      <td>72400.0</td>\n",
       "      <td>True</td>\n",
       "      <td>NaN</td>\n",
       "      <td>NaN</td>\n",
       "    </tr>\n",
       "  </tbody>\n",
       "</table>\n",
       "</div>"
      ],
      "text/plain": [
       "   row_id  group_num    timestamp     user_id  content_id  content_type_id  \\\n",
       "0       0          0            0   275030867        5729                0   \n",
       "1       1          0  13309898705   554169193       12010                0   \n",
       "2       2          0   4213672059  1720860329         457                0   \n",
       "3       3          0  62798072960   288641214       13262                0   \n",
       "4       4          0  10585422061  1728340777        6119                0   \n",
       "\n",
       "   task_container_id  prior_question_elapsed_time  \\\n",
       "0                  0                          NaN   \n",
       "1               4427                      19000.0   \n",
       "2                240                      17000.0   \n",
       "3                266                      23000.0   \n",
       "4                162                      72400.0   \n",
       "\n",
       "  prior_question_had_explanation prior_group_answers_correct  \\\n",
       "0                            NaN                          []   \n",
       "1                           True                         NaN   \n",
       "2                           True                         NaN   \n",
       "3                           True                         NaN   \n",
       "4                           True                         NaN   \n",
       "\n",
       "  prior_group_responses  \n",
       "0                    []  \n",
       "1                   NaN  \n",
       "2                   NaN  \n",
       "3                   NaN  \n",
       "4                   NaN  "
      ]
     },
     "execution_count": 3,
     "metadata": {},
     "output_type": "execute_result"
    }
   ],
   "source": [
    "test = pd.read_csv(DIR+\"example_test.csv\")\n",
    "test.head()"
   ]
  },
  {
   "cell_type": "markdown",
   "metadata": {
    "papermill": {
     "duration": 0.01866,
     "end_time": "2020-10-16T12:10:31.657490",
     "exception": false,
     "start_time": "2020-10-16T12:10:31.638830",
     "status": "completed"
    },
    "tags": []
   },
   "source": [
    "# preprocess"
   ]
  },
  {
   "cell_type": "code",
   "execution_count": 4,
   "metadata": {
    "execution": {
     "iopub.execute_input": "2020-10-16T12:10:31.705418Z",
     "iopub.status.busy": "2020-10-16T12:10:31.704673Z",
     "iopub.status.idle": "2020-10-16T12:11:03.672154Z",
     "shell.execute_reply": "2020-10-16T12:11:03.671319Z"
    },
    "papermill": {
     "duration": 31.995763,
     "end_time": "2020-10-16T12:11:03.672277",
     "exception": false,
     "start_time": "2020-10-16T12:10:31.676514",
     "status": "completed"
    },
    "tags": []
   },
   "outputs": [],
   "source": [
    "train.drop([\"row_id\", 'user_answer'], axis=1, inplace=True)\n",
    "train['prior_question_had_explanation'] = train['prior_question_had_explanation'].fillna(value = False).astype(bool)\n",
    "\n",
    "user_answers_df = train.groupby('user_id').agg({'answered_correctly': ['mean']}).copy()\n",
    "user_answers_df.columns = ['mean_user_accuracy']\n",
    "\n",
    "content_answers_df = train.groupby('content_id').agg({'answered_correctly': ['mean']}).copy()\n",
    "content_answers_df.columns = ['mean_accuracy_by_content']\n",
    "\n",
    "#user_content_answers_df = train.groupby(['user_id', 'content_id']).agg({'answered_correctly': ['mean', 'count']}).copy()\n",
    "#user_content_answers_df.columns = ['mean_user_content_accuracy', 'content_questions_answered']"
   ]
  },
  {
   "cell_type": "code",
   "execution_count": 5,
   "metadata": {
    "execution": {
     "iopub.execute_input": "2020-10-16T12:11:03.716941Z",
     "iopub.status.busy": "2020-10-16T12:11:03.716161Z",
     "iopub.status.idle": "2020-10-16T12:11:08.928409Z",
     "shell.execute_reply": "2020-10-16T12:11:08.927665Z"
    },
    "papermill": {
     "duration": 5.236627,
     "end_time": "2020-10-16T12:11:08.928548",
     "exception": false,
     "start_time": "2020-10-16T12:11:03.691921",
     "status": "completed"
    },
    "tags": []
   },
   "outputs": [],
   "source": [
    "le = preprocessing.LabelEncoder()\n",
    "train[\"prior_question_had_explanation\"] = le.fit_transform(train[\"prior_question_had_explanation\"])"
   ]
  },
  {
   "cell_type": "code",
   "execution_count": 6,
   "metadata": {
    "execution": {
     "iopub.execute_input": "2020-10-16T12:11:08.984432Z",
     "iopub.status.busy": "2020-10-16T12:11:08.983355Z",
     "iopub.status.idle": "2020-10-16T12:11:08.987869Z",
     "shell.execute_reply": "2020-10-16T12:11:08.987277Z"
    },
    "papermill": {
     "duration": 0.03912,
     "end_time": "2020-10-16T12:11:08.987998",
     "exception": false,
     "start_time": "2020-10-16T12:11:08.948878",
     "status": "completed"
    },
    "tags": []
   },
   "outputs": [
    {
     "data": {
      "text/html": [
       "<div>\n",
       "<style scoped>\n",
       "    .dataframe tbody tr th:only-of-type {\n",
       "        vertical-align: middle;\n",
       "    }\n",
       "\n",
       "    .dataframe tbody tr th {\n",
       "        vertical-align: top;\n",
       "    }\n",
       "\n",
       "    .dataframe thead th {\n",
       "        text-align: right;\n",
       "    }\n",
       "</style>\n",
       "<table border=\"1\" class=\"dataframe\">\n",
       "  <thead>\n",
       "    <tr style=\"text-align: right;\">\n",
       "      <th></th>\n",
       "      <th>timestamp</th>\n",
       "      <th>user_id</th>\n",
       "      <th>content_id</th>\n",
       "      <th>content_type_id</th>\n",
       "      <th>task_container_id</th>\n",
       "      <th>answered_correctly</th>\n",
       "      <th>prior_question_elapsed_time</th>\n",
       "      <th>prior_question_had_explanation</th>\n",
       "    </tr>\n",
       "  </thead>\n",
       "  <tbody>\n",
       "    <tr>\n",
       "      <th>100000000</th>\n",
       "      <td>4870792027</td>\n",
       "      <td>2122503776</td>\n",
       "      <td>117</td>\n",
       "      <td>0</td>\n",
       "      <td>137</td>\n",
       "      <td>1</td>\n",
       "      <td>23000</td>\n",
       "      <td>1</td>\n",
       "    </tr>\n",
       "    <tr>\n",
       "      <th>100000001</th>\n",
       "      <td>4870826073</td>\n",
       "      <td>2122503776</td>\n",
       "      <td>10588</td>\n",
       "      <td>0</td>\n",
       "      <td>138</td>\n",
       "      <td>1</td>\n",
       "      <td>24000</td>\n",
       "      <td>1</td>\n",
       "    </tr>\n",
       "    <tr>\n",
       "      <th>100000002</th>\n",
       "      <td>4870873332</td>\n",
       "      <td>2122503776</td>\n",
       "      <td>67</td>\n",
       "      <td>0</td>\n",
       "      <td>139</td>\n",
       "      <td>0</td>\n",
       "      <td>25000</td>\n",
       "      <td>1</td>\n",
       "    </tr>\n",
       "    <tr>\n",
       "      <th>100000003</th>\n",
       "      <td>4870911284</td>\n",
       "      <td>2122503776</td>\n",
       "      <td>97</td>\n",
       "      <td>0</td>\n",
       "      <td>140</td>\n",
       "      <td>1</td>\n",
       "      <td>29000</td>\n",
       "      <td>1</td>\n",
       "    </tr>\n",
       "    <tr>\n",
       "      <th>100000004</th>\n",
       "      <td>4870944944</td>\n",
       "      <td>2122503776</td>\n",
       "      <td>7883</td>\n",
       "      <td>0</td>\n",
       "      <td>141</td>\n",
       "      <td>1</td>\n",
       "      <td>20000</td>\n",
       "      <td>1</td>\n",
       "    </tr>\n",
       "    <tr>\n",
       "      <th>100000005</th>\n",
       "      <td>4870977342</td>\n",
       "      <td>2122503776</td>\n",
       "      <td>10546</td>\n",
       "      <td>0</td>\n",
       "      <td>142</td>\n",
       "      <td>1</td>\n",
       "      <td>26000</td>\n",
       "      <td>1</td>\n",
       "    </tr>\n",
       "    <tr>\n",
       "      <th>100000006</th>\n",
       "      <td>4871005961</td>\n",
       "      <td>2122503776</td>\n",
       "      <td>158</td>\n",
       "      <td>0</td>\n",
       "      <td>143</td>\n",
       "      <td>1</td>\n",
       "      <td>25000</td>\n",
       "      <td>1</td>\n",
       "    </tr>\n",
       "    <tr>\n",
       "      <th>100000007</th>\n",
       "      <td>4871036085</td>\n",
       "      <td>2122503776</td>\n",
       "      <td>42</td>\n",
       "      <td>0</td>\n",
       "      <td>144</td>\n",
       "      <td>1</td>\n",
       "      <td>21000</td>\n",
       "      <td>1</td>\n",
       "    </tr>\n",
       "    <tr>\n",
       "      <th>100000008</th>\n",
       "      <td>4871068852</td>\n",
       "      <td>2122503776</td>\n",
       "      <td>162</td>\n",
       "      <td>0</td>\n",
       "      <td>145</td>\n",
       "      <td>1</td>\n",
       "      <td>22000</td>\n",
       "      <td>1</td>\n",
       "    </tr>\n",
       "    <tr>\n",
       "      <th>100000009</th>\n",
       "      <td>4871104763</td>\n",
       "      <td>2122503776</td>\n",
       "      <td>10393</td>\n",
       "      <td>0</td>\n",
       "      <td>146</td>\n",
       "      <td>1</td>\n",
       "      <td>25000</td>\n",
       "      <td>1</td>\n",
       "    </tr>\n",
       "  </tbody>\n",
       "</table>\n",
       "</div>"
      ],
      "text/plain": [
       "            timestamp     user_id  content_id  content_type_id  \\\n",
       "100000000  4870792027  2122503776         117                0   \n",
       "100000001  4870826073  2122503776       10588                0   \n",
       "100000002  4870873332  2122503776          67                0   \n",
       "100000003  4870911284  2122503776          97                0   \n",
       "100000004  4870944944  2122503776        7883                0   \n",
       "100000005  4870977342  2122503776       10546                0   \n",
       "100000006  4871005961  2122503776         158                0   \n",
       "100000007  4871036085  2122503776          42                0   \n",
       "100000008  4871068852  2122503776         162                0   \n",
       "100000009  4871104763  2122503776       10393                0   \n",
       "\n",
       "           task_container_id  answered_correctly  prior_question_elapsed_time  \\\n",
       "100000000                137                   1                        23000   \n",
       "100000001                138                   1                        24000   \n",
       "100000002                139                   0                        25000   \n",
       "100000003                140                   1                        29000   \n",
       "100000004                141                   1                        20000   \n",
       "100000005                142                   1                        26000   \n",
       "100000006                143                   1                        25000   \n",
       "100000007                144                   1                        21000   \n",
       "100000008                145                   1                        22000   \n",
       "100000009                146                   1                        25000   \n",
       "\n",
       "           prior_question_had_explanation  \n",
       "100000000                               1  \n",
       "100000001                               1  \n",
       "100000002                               1  \n",
       "100000003                               1  \n",
       "100000004                               1  \n",
       "100000005                               1  \n",
       "100000006                               1  \n",
       "100000007                               1  \n",
       "100000008                               1  \n",
       "100000009                               1  "
      ]
     },
     "execution_count": 6,
     "metadata": {},
     "output_type": "execute_result"
    }
   ],
   "source": [
    "train = train.iloc[100000000:,:]\n",
    "train.head(10)"
   ]
  },
  {
   "cell_type": "code",
   "execution_count": 7,
   "metadata": {
    "execution": {
     "iopub.execute_input": "2020-10-16T12:11:09.035804Z",
     "iopub.status.busy": "2020-10-16T12:11:09.035037Z",
     "iopub.status.idle": "2020-10-16T12:11:09.057221Z",
     "shell.execute_reply": "2020-10-16T12:11:09.057838Z"
    },
    "papermill": {
     "duration": 0.04911,
     "end_time": "2020-10-16T12:11:09.057994",
     "exception": false,
     "start_time": "2020-10-16T12:11:09.008884",
     "status": "completed"
    },
    "tags": []
   },
   "outputs": [
    {
     "data": {
      "text/plain": [
       "((1230332, 8), 4688)"
      ]
     },
     "execution_count": 7,
     "metadata": {},
     "output_type": "execute_result"
    }
   ],
   "source": [
    "train.shape, len(train.user_id.unique())"
   ]
  },
  {
   "cell_type": "markdown",
   "metadata": {
    "papermill": {
     "duration": 0.021365,
     "end_time": "2020-10-16T12:11:09.101327",
     "exception": false,
     "start_time": "2020-10-16T12:11:09.079962",
     "status": "completed"
    },
    "tags": []
   },
   "source": [
    "# Feature engineering"
   ]
  },
  {
   "cell_type": "code",
   "execution_count": 8,
   "metadata": {
    "execution": {
     "iopub.execute_input": "2020-10-16T12:11:09.151490Z",
     "iopub.status.busy": "2020-10-16T12:11:09.150742Z",
     "iopub.status.idle": "2020-10-16T12:11:09.653942Z",
     "shell.execute_reply": "2020-10-16T12:11:09.653169Z"
    },
    "papermill": {
     "duration": 0.531151,
     "end_time": "2020-10-16T12:11:09.654062",
     "exception": false,
     "start_time": "2020-10-16T12:11:09.122911",
     "status": "completed"
    },
    "tags": []
   },
   "outputs": [],
   "source": [
    "def fe(df):\n",
    "    df = df.merge(user_answers_df, how = 'left', on = 'user_id')\n",
    "    df = df.merge(content_answers_df, how = 'left', on = 'content_id')\n",
    "    \n",
    "    # https://stackoverflow.com/questions/25888207/pandas-join-dataframes-on-field-with-different-names\n",
    "    #df = df.merge(questions[[\"question_id\", \"part\", \"tags\"]], how=\"left\", left_on=['content_id'], right_on=['question_id'])\n",
    "    #df.drop(\"question_id\", axis=1, inplace=True)\n",
    "    return df\n",
    "        \n",
    "train = fe(train)"
   ]
  },
  {
   "cell_type": "code",
   "execution_count": 9,
   "metadata": {
    "execution": {
     "iopub.execute_input": "2020-10-16T12:11:09.703392Z",
     "iopub.status.busy": "2020-10-16T12:11:09.702670Z",
     "iopub.status.idle": "2020-10-16T12:11:10.295816Z",
     "shell.execute_reply": "2020-10-16T12:11:10.295159Z"
    },
    "papermill": {
     "duration": 0.62004,
     "end_time": "2020-10-16T12:11:10.295939",
     "exception": false,
     "start_time": "2020-10-16T12:11:09.675899",
     "status": "completed"
    },
    "tags": []
   },
   "outputs": [
    {
     "data": {
      "text/html": [
       "<div>\n",
       "<style scoped>\n",
       "    .dataframe tbody tr th:only-of-type {\n",
       "        vertical-align: middle;\n",
       "    }\n",
       "\n",
       "    .dataframe tbody tr th {\n",
       "        vertical-align: top;\n",
       "    }\n",
       "\n",
       "    .dataframe thead th {\n",
       "        text-align: right;\n",
       "    }\n",
       "</style>\n",
       "<table border=\"1\" class=\"dataframe\">\n",
       "  <thead>\n",
       "    <tr style=\"text-align: right;\">\n",
       "      <th></th>\n",
       "      <th>timestamp</th>\n",
       "      <th>user_id</th>\n",
       "      <th>content_id</th>\n",
       "      <th>content_type_id</th>\n",
       "      <th>task_container_id</th>\n",
       "      <th>answered_correctly</th>\n",
       "      <th>prior_question_elapsed_time</th>\n",
       "      <th>prior_question_had_explanation</th>\n",
       "      <th>mean_user_accuracy</th>\n",
       "      <th>mean_accuracy_by_content</th>\n",
       "    </tr>\n",
       "  </thead>\n",
       "  <tbody>\n",
       "    <tr>\n",
       "      <th>0</th>\n",
       "      <td>4870792027</td>\n",
       "      <td>2122503776</td>\n",
       "      <td>117</td>\n",
       "      <td>0</td>\n",
       "      <td>137</td>\n",
       "      <td>1</td>\n",
       "      <td>23000</td>\n",
       "      <td>1</td>\n",
       "      <td>0.672065</td>\n",
       "      <td>0.934104</td>\n",
       "    </tr>\n",
       "    <tr>\n",
       "      <th>1</th>\n",
       "      <td>4870826073</td>\n",
       "      <td>2122503776</td>\n",
       "      <td>10588</td>\n",
       "      <td>0</td>\n",
       "      <td>138</td>\n",
       "      <td>1</td>\n",
       "      <td>24000</td>\n",
       "      <td>1</td>\n",
       "      <td>0.672065</td>\n",
       "      <td>0.818406</td>\n",
       "    </tr>\n",
       "    <tr>\n",
       "      <th>2</th>\n",
       "      <td>4870873332</td>\n",
       "      <td>2122503776</td>\n",
       "      <td>67</td>\n",
       "      <td>0</td>\n",
       "      <td>139</td>\n",
       "      <td>0</td>\n",
       "      <td>25000</td>\n",
       "      <td>1</td>\n",
       "      <td>0.672065</td>\n",
       "      <td>0.905934</td>\n",
       "    </tr>\n",
       "    <tr>\n",
       "      <th>3</th>\n",
       "      <td>4870911284</td>\n",
       "      <td>2122503776</td>\n",
       "      <td>97</td>\n",
       "      <td>0</td>\n",
       "      <td>140</td>\n",
       "      <td>1</td>\n",
       "      <td>29000</td>\n",
       "      <td>1</td>\n",
       "      <td>0.672065</td>\n",
       "      <td>0.898646</td>\n",
       "    </tr>\n",
       "    <tr>\n",
       "      <th>4</th>\n",
       "      <td>4870944944</td>\n",
       "      <td>2122503776</td>\n",
       "      <td>7883</td>\n",
       "      <td>0</td>\n",
       "      <td>141</td>\n",
       "      <td>1</td>\n",
       "      <td>20000</td>\n",
       "      <td>1</td>\n",
       "      <td>0.672065</td>\n",
       "      <td>0.930138</td>\n",
       "    </tr>\n",
       "    <tr>\n",
       "      <th>5</th>\n",
       "      <td>4870977342</td>\n",
       "      <td>2122503776</td>\n",
       "      <td>10546</td>\n",
       "      <td>0</td>\n",
       "      <td>142</td>\n",
       "      <td>1</td>\n",
       "      <td>26000</td>\n",
       "      <td>1</td>\n",
       "      <td>0.672065</td>\n",
       "      <td>0.861505</td>\n",
       "    </tr>\n",
       "    <tr>\n",
       "      <th>6</th>\n",
       "      <td>4871005961</td>\n",
       "      <td>2122503776</td>\n",
       "      <td>158</td>\n",
       "      <td>0</td>\n",
       "      <td>143</td>\n",
       "      <td>1</td>\n",
       "      <td>25000</td>\n",
       "      <td>1</td>\n",
       "      <td>0.672065</td>\n",
       "      <td>0.945890</td>\n",
       "    </tr>\n",
       "    <tr>\n",
       "      <th>7</th>\n",
       "      <td>4871036085</td>\n",
       "      <td>2122503776</td>\n",
       "      <td>42</td>\n",
       "      <td>0</td>\n",
       "      <td>144</td>\n",
       "      <td>1</td>\n",
       "      <td>21000</td>\n",
       "      <td>1</td>\n",
       "      <td>0.672065</td>\n",
       "      <td>0.974038</td>\n",
       "    </tr>\n",
       "    <tr>\n",
       "      <th>8</th>\n",
       "      <td>4871068852</td>\n",
       "      <td>2122503776</td>\n",
       "      <td>162</td>\n",
       "      <td>0</td>\n",
       "      <td>145</td>\n",
       "      <td>1</td>\n",
       "      <td>22000</td>\n",
       "      <td>1</td>\n",
       "      <td>0.672065</td>\n",
       "      <td>0.868617</td>\n",
       "    </tr>\n",
       "    <tr>\n",
       "      <th>9</th>\n",
       "      <td>4871104763</td>\n",
       "      <td>2122503776</td>\n",
       "      <td>10393</td>\n",
       "      <td>0</td>\n",
       "      <td>146</td>\n",
       "      <td>1</td>\n",
       "      <td>25000</td>\n",
       "      <td>1</td>\n",
       "      <td>0.672065</td>\n",
       "      <td>0.641516</td>\n",
       "    </tr>\n",
       "  </tbody>\n",
       "</table>\n",
       "</div>"
      ],
      "text/plain": [
       "    timestamp     user_id  content_id  content_type_id  task_container_id  \\\n",
       "0  4870792027  2122503776         117                0                137   \n",
       "1  4870826073  2122503776       10588                0                138   \n",
       "2  4870873332  2122503776          67                0                139   \n",
       "3  4870911284  2122503776          97                0                140   \n",
       "4  4870944944  2122503776        7883                0                141   \n",
       "5  4870977342  2122503776       10546                0                142   \n",
       "6  4871005961  2122503776         158                0                143   \n",
       "7  4871036085  2122503776          42                0                144   \n",
       "8  4871068852  2122503776         162                0                145   \n",
       "9  4871104763  2122503776       10393                0                146   \n",
       "\n",
       "   answered_correctly  prior_question_elapsed_time  \\\n",
       "0                   1                        23000   \n",
       "1                   1                        24000   \n",
       "2                   0                        25000   \n",
       "3                   1                        29000   \n",
       "4                   1                        20000   \n",
       "5                   1                        26000   \n",
       "6                   1                        25000   \n",
       "7                   1                        21000   \n",
       "8                   1                        22000   \n",
       "9                   1                        25000   \n",
       "\n",
       "   prior_question_had_explanation  mean_user_accuracy  \\\n",
       "0                               1            0.672065   \n",
       "1                               1            0.672065   \n",
       "2                               1            0.672065   \n",
       "3                               1            0.672065   \n",
       "4                               1            0.672065   \n",
       "5                               1            0.672065   \n",
       "6                               1            0.672065   \n",
       "7                               1            0.672065   \n",
       "8                               1            0.672065   \n",
       "9                               1            0.672065   \n",
       "\n",
       "   mean_accuracy_by_content  \n",
       "0                  0.934104  \n",
       "1                  0.818406  \n",
       "2                  0.905934  \n",
       "3                  0.898646  \n",
       "4                  0.930138  \n",
       "5                  0.861505  \n",
       "6                  0.945890  \n",
       "7                  0.974038  \n",
       "8                  0.868617  \n",
       "9                  0.641516  "
      ]
     },
     "execution_count": 9,
     "metadata": {},
     "output_type": "execute_result"
    }
   ],
   "source": [
    "train = train.sort_values(['user_id', 'timestamp'])\n",
    "train.head(10)"
   ]
  },
  {
   "cell_type": "code",
   "execution_count": 10,
   "metadata": {
    "execution": {
     "iopub.execute_input": "2020-10-16T12:11:10.350762Z",
     "iopub.status.busy": "2020-10-16T12:11:10.349875Z",
     "iopub.status.idle": "2020-10-16T12:11:10.471196Z",
     "shell.execute_reply": "2020-10-16T12:11:10.470517Z"
    },
    "papermill": {
     "duration": 0.152667,
     "end_time": "2020-10-16T12:11:10.471314",
     "exception": false,
     "start_time": "2020-10-16T12:11:10.318647",
     "status": "completed"
    },
    "tags": []
   },
   "outputs": [],
   "source": [
    "#https://www.kaggle.com/taichin/final-my-model\n",
    "def get_data(df, test_set=False):\n",
    "    \n",
    "    timediff = np.array([])\n",
    "    lec_num = np.array([])\n",
    "    \n",
    "    #if test_set == False:\n",
    "    #    for i, (ins_id, user_sample) in tqdm(enumerate(df.groupby('user_id', sort=False)), total=train.user_id.nunique(), desc='user_id', position=0):\n",
    "            #timediff = np.concatenate([timediff, user_sample[\"timestamp\"].diff(1).values])\n",
    "    #        lec_num = np.concatenate([lec_num, user_sample[\"content_type_id\"].cumsum().values])   \n",
    "    #else:\n",
    "        #timediff = np.concatenate([timediff, df[\"timestamp\"].diff(1).values])\n",
    "    #    lec_num = np.concatenate([lec_num, df[\"content_type_id\"].cumsum().values])  \n",
    "\n",
    "    #df[\"timediff\"] = timediff\n",
    "    #df[\"lec_num\"] = lec_num\n",
    "    if test_set == False:\n",
    "        df = df.loc[df['answered_correctly'] != -1].reset_index(drop=True)\n",
    "    df.drop([\"timestamp\"], axis=1, inplace=True)\n",
    "    df.fillna(value = 0.5, inplace = True)\n",
    "    return df\n",
    "train = get_data(train)"
   ]
  },
  {
   "cell_type": "code",
   "execution_count": 11,
   "metadata": {
    "execution": {
     "iopub.execute_input": "2020-10-16T12:11:10.531515Z",
     "iopub.status.busy": "2020-10-16T12:11:10.530728Z",
     "iopub.status.idle": "2020-10-16T12:11:10.535822Z",
     "shell.execute_reply": "2020-10-16T12:11:10.535178Z"
    },
    "papermill": {
     "duration": 0.041515,
     "end_time": "2020-10-16T12:11:10.535949",
     "exception": false,
     "start_time": "2020-10-16T12:11:10.494434",
     "status": "completed"
    },
    "tags": []
   },
   "outputs": [
    {
     "data": {
      "text/html": [
       "<div>\n",
       "<style scoped>\n",
       "    .dataframe tbody tr th:only-of-type {\n",
       "        vertical-align: middle;\n",
       "    }\n",
       "\n",
       "    .dataframe tbody tr th {\n",
       "        vertical-align: top;\n",
       "    }\n",
       "\n",
       "    .dataframe thead th {\n",
       "        text-align: right;\n",
       "    }\n",
       "</style>\n",
       "<table border=\"1\" class=\"dataframe\">\n",
       "  <thead>\n",
       "    <tr style=\"text-align: right;\">\n",
       "      <th></th>\n",
       "      <th>user_id</th>\n",
       "      <th>content_id</th>\n",
       "      <th>content_type_id</th>\n",
       "      <th>task_container_id</th>\n",
       "      <th>answered_correctly</th>\n",
       "      <th>prior_question_elapsed_time</th>\n",
       "      <th>prior_question_had_explanation</th>\n",
       "      <th>mean_user_accuracy</th>\n",
       "      <th>mean_accuracy_by_content</th>\n",
       "    </tr>\n",
       "  </thead>\n",
       "  <tbody>\n",
       "    <tr>\n",
       "      <th>0</th>\n",
       "      <td>2122503776</td>\n",
       "      <td>117</td>\n",
       "      <td>0</td>\n",
       "      <td>137</td>\n",
       "      <td>1</td>\n",
       "      <td>23000</td>\n",
       "      <td>1</td>\n",
       "      <td>0.672065</td>\n",
       "      <td>0.934104</td>\n",
       "    </tr>\n",
       "    <tr>\n",
       "      <th>1</th>\n",
       "      <td>2122503776</td>\n",
       "      <td>10588</td>\n",
       "      <td>0</td>\n",
       "      <td>138</td>\n",
       "      <td>1</td>\n",
       "      <td>24000</td>\n",
       "      <td>1</td>\n",
       "      <td>0.672065</td>\n",
       "      <td>0.818406</td>\n",
       "    </tr>\n",
       "    <tr>\n",
       "      <th>2</th>\n",
       "      <td>2122503776</td>\n",
       "      <td>67</td>\n",
       "      <td>0</td>\n",
       "      <td>139</td>\n",
       "      <td>0</td>\n",
       "      <td>25000</td>\n",
       "      <td>1</td>\n",
       "      <td>0.672065</td>\n",
       "      <td>0.905934</td>\n",
       "    </tr>\n",
       "    <tr>\n",
       "      <th>3</th>\n",
       "      <td>2122503776</td>\n",
       "      <td>97</td>\n",
       "      <td>0</td>\n",
       "      <td>140</td>\n",
       "      <td>1</td>\n",
       "      <td>29000</td>\n",
       "      <td>1</td>\n",
       "      <td>0.672065</td>\n",
       "      <td>0.898646</td>\n",
       "    </tr>\n",
       "    <tr>\n",
       "      <th>4</th>\n",
       "      <td>2122503776</td>\n",
       "      <td>7883</td>\n",
       "      <td>0</td>\n",
       "      <td>141</td>\n",
       "      <td>1</td>\n",
       "      <td>20000</td>\n",
       "      <td>1</td>\n",
       "      <td>0.672065</td>\n",
       "      <td>0.930138</td>\n",
       "    </tr>\n",
       "  </tbody>\n",
       "</table>\n",
       "</div>"
      ],
      "text/plain": [
       "      user_id  content_id  content_type_id  task_container_id  \\\n",
       "0  2122503776         117                0                137   \n",
       "1  2122503776       10588                0                138   \n",
       "2  2122503776          67                0                139   \n",
       "3  2122503776          97                0                140   \n",
       "4  2122503776        7883                0                141   \n",
       "\n",
       "   answered_correctly  prior_question_elapsed_time  \\\n",
       "0                   1                        23000   \n",
       "1                   1                        24000   \n",
       "2                   0                        25000   \n",
       "3                   1                        29000   \n",
       "4                   1                        20000   \n",
       "\n",
       "   prior_question_had_explanation  mean_user_accuracy  \\\n",
       "0                               1            0.672065   \n",
       "1                               1            0.672065   \n",
       "2                               1            0.672065   \n",
       "3                               1            0.672065   \n",
       "4                               1            0.672065   \n",
       "\n",
       "   mean_accuracy_by_content  \n",
       "0                  0.934104  \n",
       "1                  0.818406  \n",
       "2                  0.905934  \n",
       "3                  0.898646  \n",
       "4                  0.930138  "
      ]
     },
     "execution_count": 11,
     "metadata": {},
     "output_type": "execute_result"
    }
   ],
   "source": [
    "train.head()"
   ]
  },
  {
   "cell_type": "code",
   "execution_count": 12,
   "metadata": {
    "execution": {
     "iopub.execute_input": "2020-10-16T12:11:10.589106Z",
     "iopub.status.busy": "2020-10-16T12:11:10.588049Z",
     "iopub.status.idle": "2020-10-16T12:11:10.590755Z",
     "shell.execute_reply": "2020-10-16T12:11:10.591294Z"
    },
    "papermill": {
     "duration": 0.031998,
     "end_time": "2020-10-16T12:11:10.591447",
     "exception": false,
     "start_time": "2020-10-16T12:11:10.559449",
     "status": "completed"
    },
    "tags": []
   },
   "outputs": [],
   "source": [
    "target = 'answered_correctly'\n",
    "columns = ['mean_user_accuracy', 'content_id', 'mean_accuracy_by_content', 'prior_question_had_explanation']#, 'lec_num']"
   ]
  },
  {
   "cell_type": "code",
   "execution_count": 13,
   "metadata": {
    "execution": {
     "iopub.execute_input": "2020-10-16T12:11:10.646934Z",
     "iopub.status.busy": "2020-10-16T12:11:10.645986Z",
     "iopub.status.idle": "2020-10-16T12:11:10.664322Z",
     "shell.execute_reply": "2020-10-16T12:11:10.664963Z"
    },
    "papermill": {
     "duration": 0.049587,
     "end_time": "2020-10-16T12:11:10.665117",
     "exception": false,
     "start_time": "2020-10-16T12:11:10.615530",
     "status": "completed"
    },
    "tags": []
   },
   "outputs": [],
   "source": [
    "drop_columns = [i for i in train.columns if i not in columns + [target] + [\"user_id\"]] \n",
    "train.drop(drop_columns, axis=1, inplace=True)"
   ]
  },
  {
   "cell_type": "markdown",
   "metadata": {
    "papermill": {
     "duration": 0.023911,
     "end_time": "2020-10-16T12:11:10.713507",
     "exception": false,
     "start_time": "2020-10-16T12:11:10.689596",
     "status": "completed"
    },
    "tags": []
   },
   "source": [
    "# modelling"
   ]
  },
  {
   "cell_type": "code",
   "execution_count": 14,
   "metadata": {
    "execution": {
     "iopub.execute_input": "2020-10-16T12:11:10.781416Z",
     "iopub.status.busy": "2020-10-16T12:11:10.780640Z",
     "iopub.status.idle": "2020-10-16T12:11:10.785102Z",
     "shell.execute_reply": "2020-10-16T12:11:10.784468Z"
    },
    "papermill": {
     "duration": 0.047635,
     "end_time": "2020-10-16T12:11:10.785225",
     "exception": false,
     "start_time": "2020-10-16T12:11:10.737590",
     "status": "completed"
    },
    "tags": []
   },
   "outputs": [],
   "source": [
    "def stratified_group_k_fold(X, y, groups, k, seed=None):\n",
    "    labels_num = np.max(y) + 1\n",
    "    y_counts_per_group = defaultdict(lambda: np.zeros(labels_num))\n",
    "    y_distr = Counter()\n",
    "    for label, g in zip(y, groups):\n",
    "        y_counts_per_group[g][label] += 1\n",
    "        y_distr[label] += 1\n",
    "\n",
    "    y_counts_per_fold = defaultdict(lambda: np.zeros(labels_num))\n",
    "    groups_per_fold = defaultdict(set)\n",
    "\n",
    "    def eval_y_counts_per_fold(y_counts, fold):\n",
    "        y_counts_per_fold[fold] += y_counts\n",
    "        std_per_label = []\n",
    "        for label in range(labels_num):\n",
    "            label_std = np.std([y_counts_per_fold[i][label] / y_distr[label] for i in range(k)])\n",
    "            std_per_label.append(label_std)\n",
    "        y_counts_per_fold[fold] -= y_counts\n",
    "        return np.mean(std_per_label)\n",
    "    \n",
    "    groups_and_y_counts = list(y_counts_per_group.items())\n",
    "    random.Random(seed).shuffle(groups_and_y_counts)\n",
    "\n",
    "    for g, y_counts in sorted(groups_and_y_counts, key=lambda x: -np.std(x[1])):\n",
    "        best_fold = None\n",
    "        min_eval = None\n",
    "        for i in range(k):\n",
    "            fold_eval = eval_y_counts_per_fold(y_counts, i)\n",
    "            if min_eval is None or fold_eval < min_eval:\n",
    "                min_eval = fold_eval\n",
    "                best_fold = i\n",
    "        y_counts_per_fold[best_fold] += y_counts\n",
    "        groups_per_fold[best_fold].add(g)\n",
    "\n",
    "    all_groups = set(groups)\n",
    "    for i in range(k):\n",
    "        train_groups = all_groups - groups_per_fold[i]\n",
    "        test_groups = groups_per_fold[i]\n",
    "\n",
    "        train_indices = [i for i, g in enumerate(groups) if g in train_groups]\n",
    "        test_indices = [i for i, g in enumerate(groups) if g in test_groups]\n",
    "\n",
    "        yield train_indices, test_indices"
   ]
  },
  {
   "cell_type": "code",
   "execution_count": 15,
   "metadata": {
    "execution": {
     "iopub.execute_input": "2020-10-16T12:11:10.857389Z",
     "iopub.status.busy": "2020-10-16T12:11:10.856618Z",
     "iopub.status.idle": "2020-10-16T12:11:31.628252Z",
     "shell.execute_reply": "2020-10-16T12:11:31.627567Z"
    },
    "papermill": {
     "duration": 20.818572,
     "end_time": "2020-10-16T12:11:31.628372",
     "exception": false,
     "start_time": "2020-10-16T12:11:10.809800",
     "status": "completed"
    },
    "tags": []
   },
   "outputs": [
    {
     "name": "stdout",
     "output_type": "stream",
     "text": [
      "Fold 1\n",
      "Training until validation scores don't improve for 10 rounds\n",
      "Did not meet early stopping. Best iteration is:\n",
      "[1]\ttraining's auc: 0.731462\tvalid_1's auc: 0.733424\n",
      "Fold 2\n",
      "Training until validation scores don't improve for 10 rounds\n",
      "Did not meet early stopping. Best iteration is:\n",
      "[1]\ttraining's auc: 0.732656\tvalid_1's auc: 0.730428\n",
      "Fold 3\n",
      "Training until validation scores don't improve for 10 rounds\n",
      "Did not meet early stopping. Best iteration is:\n",
      "[1]\ttraining's auc: 0.732956\tvalid_1's auc: 0.726387\n",
      "Fold 4\n",
      "Training until validation scores don't improve for 10 rounds\n",
      "Did not meet early stopping. Best iteration is:\n",
      "[1]\ttraining's auc: 0.732145\tvalid_1's auc: 0.727525\n",
      "Fold 5\n",
      "Training until validation scores don't improve for 10 rounds\n",
      "Did not meet early stopping. Best iteration is:\n",
      "[1]\ttraining's auc: 0.731453\tvalid_1's auc: 0.733089\n",
      "Overall ROC AUC:  0.7309785406759743\n"
     ]
    }
   ],
   "source": [
    "categoricals = [\"content_id\"]\n",
    "def modelling_lgb(X_train, y_train):\n",
    "    params = {'objective': 'binary', \"metric\": 'auc','eval_metric':'auc', 'boosting_type': 'gbdt', 'tree_learner': 'serial', 'learning_rate': 0.01, \n",
    "               \"num_leaves\": 10, 'random_seed':44, 'max_depth': 5} \n",
    "    \n",
    "    groups = np.array(X_train.user_id.values)\n",
    "    n_folds=5\n",
    "    \n",
    "    models = []\n",
    "    valid = np.zeros([X_train.shape[0]])\n",
    "    for i , (train_index, test_index) in enumerate(stratified_group_k_fold(X_train, y_train, groups, k=n_folds, seed=0)):\n",
    "        print(\"Fold {}\".format(i+1))\n",
    "        X_train2 = X_train.iloc[train_index,:]\n",
    "        y_train2 = y_train.iloc[train_index]\n",
    "        X_train2.drop(\"user_id\", axis=1, inplace=True)\n",
    "\n",
    "        X_valid2 = X_train.iloc[test_index,:]\n",
    "        y_valid2 = y_train.iloc[test_index]\n",
    "        X_valid2.drop(\"user_id\", axis=1, inplace=True)\n",
    "\n",
    "        lgb_train = lgb.Dataset(X_train2, y_train2)\n",
    "        lgb_eval = lgb.Dataset(X_valid2, y_valid2, reference=lgb_train)\n",
    "        \n",
    "        clf = lgb.train(params, lgb_train,valid_sets=[lgb_train, lgb_eval], \n",
    "               num_boost_round=1,early_stopping_rounds=10,verbose_eval = 100, categorical_feature=categoricals) \n",
    "\n",
    "        valid_predict = clf.predict(X_valid2, num_iteration = clf.best_iteration)\n",
    "        valid[test_index] = valid_predict\n",
    "        \n",
    "        models.append(clf) \n",
    "            \n",
    "    score = roc_auc_score(y_train, valid)\n",
    "    print(\"Overall ROC AUC: \", score)\n",
    "        \n",
    "    return models\n",
    "models = modelling_lgb(train[columns + [\"user_id\"]], train[target])"
   ]
  },
  {
   "cell_type": "markdown",
   "metadata": {
    "papermill": {
     "duration": 0.027597,
     "end_time": "2020-10-16T12:11:31.684510",
     "exception": false,
     "start_time": "2020-10-16T12:11:31.656913",
     "status": "completed"
    },
    "tags": []
   },
   "source": [
    "# prediction"
   ]
  },
  {
   "cell_type": "code",
   "execution_count": 16,
   "metadata": {
    "execution": {
     "iopub.execute_input": "2020-10-16T12:11:31.745457Z",
     "iopub.status.busy": "2020-10-16T12:11:31.744751Z",
     "iopub.status.idle": "2020-10-16T12:11:31.747889Z",
     "shell.execute_reply": "2020-10-16T12:11:31.747124Z"
    },
    "papermill": {
     "duration": 0.035388,
     "end_time": "2020-10-16T12:11:31.748012",
     "exception": false,
     "start_time": "2020-10-16T12:11:31.712624",
     "status": "completed"
    },
    "tags": []
   },
   "outputs": [],
   "source": [
    "del train"
   ]
  },
  {
   "cell_type": "code",
   "execution_count": 17,
   "metadata": {
    "execution": {
     "iopub.execute_input": "2020-10-16T12:11:31.821293Z",
     "iopub.status.busy": "2020-10-16T12:11:31.820194Z",
     "iopub.status.idle": "2020-10-16T12:11:32.561135Z",
     "shell.execute_reply": "2020-10-16T12:11:32.560305Z"
    },
    "papermill": {
     "duration": 0.784863,
     "end_time": "2020-10-16T12:11:32.561261",
     "exception": false,
     "start_time": "2020-10-16T12:11:31.776398",
     "status": "completed"
    },
    "tags": []
   },
   "outputs": [],
   "source": [
    "env = riiideducation.make_env()\n",
    "iter_test = env.iter_test()\n",
    "\n",
    "count = 0\n",
    "for (test_df, sample_prediction_df) in iter_test:\n",
    "    ##########################################\n",
    "    if count == 0:\n",
    "        test = test_df.copy()\n",
    "        sub = sample_prediction_df.copy()\n",
    "    else:\n",
    "        test = pd.concat([test, test_df])\n",
    "        sub = pd.concat([sub, sample_prediction_df])\n",
    "    count += 1\n",
    "    ###########################################\n",
    "    \n",
    "    y_preds = []\n",
    "    test_df = fe(test_df)\n",
    "\n",
    "    test_df['prior_question_had_explanation'] = test_df['prior_question_had_explanation'].fillna(value = False).astype(bool)\n",
    "    test_df = get_data(test_df, test_set=True)\n",
    "    test_df[\"prior_question_had_explanation\"] = le.fit_transform(test_df[\"prior_question_had_explanation\"])\n",
    "\n",
    "    for model in models:\n",
    "        y_pred = model.predict(test_df[columns], num_iteration=model.best_iteration)\n",
    "        y_preds.append(y_pred)\n",
    "\n",
    "    y_preds = sum(y_preds) / len(y_preds)\n",
    "    test_df['answered_correctly'] = y_preds\n",
    "    env.predict(test_df.loc[test_df['content_type_id'] == 0, ['row_id', 'answered_correctly']])"
   ]
  },
  {
   "cell_type": "code",
   "execution_count": 18,
   "metadata": {
    "execution": {
     "iopub.execute_input": "2020-10-16T12:11:32.625896Z",
     "iopub.status.busy": "2020-10-16T12:11:32.624860Z",
     "iopub.status.idle": "2020-10-16T12:11:32.628609Z",
     "shell.execute_reply": "2020-10-16T12:11:32.629216Z"
    },
    "papermill": {
     "duration": 0.039597,
     "end_time": "2020-10-16T12:11:32.629373",
     "exception": false,
     "start_time": "2020-10-16T12:11:32.589776",
     "status": "completed"
    },
    "tags": []
   },
   "outputs": [],
   "source": [
    "test_df.to_csv(\"test.csv\", index=False)\n",
    "sub.to_csv(\"sub.csv\", index=False)"
   ]
  },
  {
   "cell_type": "code",
   "execution_count": null,
   "metadata": {
    "papermill": {
     "duration": 0.028386,
     "end_time": "2020-10-16T12:11:32.686537",
     "exception": false,
     "start_time": "2020-10-16T12:11:32.658151",
     "status": "completed"
    },
    "tags": []
   },
   "outputs": [],
   "source": []
  }
 ],
 "metadata": {
  "kernelspec": {
   "display_name": "Python 3",
   "language": "python",
   "name": "python3"
  },
  "language_info": {
   "codemirror_mode": {
    "name": "ipython",
    "version": 3
   },
   "file_extension": ".py",
   "mimetype": "text/x-python",
   "name": "python",
   "nbconvert_exporter": "python",
   "pygments_lexer": "ipython3",
   "version": "3.7.6"
  },
  "papermill": {
   "duration": 76.737798,
   "end_time": "2020-10-16T12:11:32.823358",
   "environment_variables": {},
   "exception": null,
   "input_path": "__notebook__.ipynb",
   "output_path": "__notebook__.ipynb",
   "parameters": {},
   "start_time": "2020-10-16T12:10:16.085560",
   "version": "2.1.0"
  }
 },
 "nbformat": 4,
 "nbformat_minor": 4
}
