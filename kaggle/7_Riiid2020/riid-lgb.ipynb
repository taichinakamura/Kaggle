{
 "cells": [
  {
   "cell_type": "markdown",
   "metadata": {
    "papermill": {
     "duration": 0.017819,
     "end_time": "2020-11-26T13:59:00.655550",
     "exception": false,
     "start_time": "2020-11-26T13:59:00.637731",
     "status": "completed"
    },
    "tags": []
   },
   "source": [
    "- add dificult content"
   ]
  },
  {
   "cell_type": "code",
   "execution_count": 1,
   "metadata": {
    "_cell_guid": "b1076dfc-b9ad-4769-8c92-a6c4dae69d19",
    "_uuid": "8f2839f25d086af736a60e9eeb907d3b93b6e0e5",
    "execution": {
     "iopub.execute_input": "2020-11-26T13:59:00.697514Z",
     "iopub.status.busy": "2020-11-26T13:59:00.696684Z",
     "iopub.status.idle": "2020-11-26T13:59:01.912537Z",
     "shell.execute_reply": "2020-11-26T13:59:01.911452Z"
    },
    "papermill": {
     "duration": 1.240725,
     "end_time": "2020-11-26T13:59:01.912809",
     "exception": false,
     "start_time": "2020-11-26T13:59:00.672084",
     "status": "completed"
    },
    "tags": []
   },
   "outputs": [
    {
     "name": "stderr",
     "output_type": "stream",
     "text": [
      "/opt/conda/lib/python3.7/site-packages/ipykernel_launcher.py:17: TqdmDeprecationWarning: This function will be removed in tqdm==5.0.0\n",
      "Please use `tqdm.notebook.*` instead of `tqdm._tqdm_notebook.*`\n"
     ]
    }
   ],
   "source": [
    "import sys\n",
    "import copy\n",
    "import random\n",
    "import feather\n",
    "import warnings\n",
    "import numpy as np\n",
    "import pandas as pd\n",
    "from time import time\n",
    "import lightgbm as lgb\n",
    "from collections import Counter\n",
    "from sklearn import preprocessing\n",
    "from collections import defaultdict\n",
    "from tqdm import tqdm_notebook as tqdm\n",
    "from sklearn.model_selection import GroupKFold\n",
    "from sklearn.metrics import roc_auc_score\n",
    "import matplotlib.pyplot as plt \n",
    "from tqdm._tqdm_notebook import tqdm_notebook\n",
    "\n",
    "import riiideducation\n",
    "warnings.filterwarnings(\"ignore\")\n",
    "tqdm_notebook.pandas(desc=\"progress: \")"
   ]
  },
  {
   "cell_type": "code",
   "execution_count": 2,
   "metadata": {
    "_cell_guid": "79c7e3d0-c299-4dcb-8224-4455121ee9b0",
    "_uuid": "d629ff2d2480ee46fbb7e2d37f6b5fab8052498a",
    "execution": {
     "iopub.execute_input": "2020-11-26T13:59:01.956159Z",
     "iopub.status.busy": "2020-11-26T13:59:01.955267Z",
     "iopub.status.idle": "2020-11-26T13:59:09.294282Z",
     "shell.execute_reply": "2020-11-26T13:59:09.293564Z"
    },
    "papermill": {
     "duration": 7.364139,
     "end_time": "2020-11-26T13:59:09.294415",
     "exception": false,
     "start_time": "2020-11-26T13:59:01.930276",
     "status": "completed"
    },
    "tags": []
   },
   "outputs": [],
   "source": [
    "DIR = \"../input/riiid-test-answer-prediction/\"\n",
    "train = pd.read_feather(\"../input/riid-train/train.feather\")\n",
    "lectures = pd.read_csv(DIR+\"lectures.csv\")\n",
    "questions = pd.read_csv(DIR+\"questions.csv\")"
   ]
  },
  {
   "cell_type": "code",
   "execution_count": 3,
   "metadata": {
    "execution": {
     "iopub.execute_input": "2020-11-26T13:59:09.351495Z",
     "iopub.status.busy": "2020-11-26T13:59:09.350025Z",
     "iopub.status.idle": "2020-11-26T13:59:09.357838Z",
     "shell.execute_reply": "2020-11-26T13:59:09.358795Z"
    },
    "papermill": {
     "duration": 0.045685,
     "end_time": "2020-11-26T13:59:09.359075",
     "exception": false,
     "start_time": "2020-11-26T13:59:09.313390",
     "status": "completed"
    },
    "tags": []
   },
   "outputs": [],
   "source": [
    "lecture_id = list(lectures.lecture_id.unique())\n",
    "lectures['type_of'] = lectures['type_of'].replace('solving question', 'solving_question')\n",
    "lectures = pd.get_dummies(lectures, columns=['type_of'])\n",
    "\n",
    "types_columns = [column for column in lectures.columns if column.startswith('type_of_')]"
   ]
  },
  {
   "cell_type": "code",
   "execution_count": 4,
   "metadata": {
    "execution": {
     "iopub.execute_input": "2020-11-26T13:59:09.403106Z",
     "iopub.status.busy": "2020-11-26T13:59:09.401889Z",
     "iopub.status.idle": "2020-11-26T13:59:09.406978Z",
     "shell.execute_reply": "2020-11-26T13:59:09.406180Z"
    },
    "papermill": {
     "duration": 0.030648,
     "end_time": "2020-11-26T13:59:09.407121",
     "exception": false,
     "start_time": "2020-11-26T13:59:09.376473",
     "status": "completed"
    },
    "tags": []
   },
   "outputs": [
    {
     "data": {
      "text/plain": [
       "(101230332, 10)"
      ]
     },
     "execution_count": 4,
     "metadata": {},
     "output_type": "execute_result"
    }
   ],
   "source": [
    "train.shape"
   ]
  },
  {
   "cell_type": "markdown",
   "metadata": {
    "papermill": {
     "duration": 0.018868,
     "end_time": "2020-11-26T13:59:09.444054",
     "exception": false,
     "start_time": "2020-11-26T13:59:09.425186",
     "status": "completed"
    },
    "tags": []
   },
   "source": [
    "# preprocess"
   ]
  },
  {
   "cell_type": "code",
   "execution_count": 5,
   "metadata": {
    "execution": {
     "iopub.execute_input": "2020-11-26T13:59:09.493661Z",
     "iopub.status.busy": "2020-11-26T13:59:09.491618Z",
     "iopub.status.idle": "2020-11-26T14:01:24.359590Z",
     "shell.execute_reply": "2020-11-26T14:01:24.358583Z"
    },
    "papermill": {
     "duration": 134.895925,
     "end_time": "2020-11-26T14:01:24.359781",
     "exception": false,
     "start_time": "2020-11-26T13:59:09.463856",
     "status": "completed"
    },
    "tags": []
   },
   "outputs": [],
   "source": [
    "# executed in advance\n",
    "train = train.sort_values(['user_id', 'timestamp']).reset_index(drop=True)\n",
    "train.drop([\"row_id\", \"user_answer\", \"timestamp\"], axis=1, inplace=True)"
   ]
  },
  {
   "cell_type": "code",
   "execution_count": 6,
   "metadata": {
    "execution": {
     "iopub.execute_input": "2020-11-26T14:01:24.417307Z",
     "iopub.status.busy": "2020-11-26T14:01:24.412051Z",
     "iopub.status.idle": "2020-11-26T14:04:38.323337Z",
     "shell.execute_reply": "2020-11-26T14:04:38.322641Z"
    },
    "papermill": {
     "duration": 193.944326,
     "end_time": "2020-11-26T14:04:38.323507",
     "exception": false,
     "start_time": "2020-11-26T14:01:24.379181",
     "status": "completed"
    },
    "tags": []
   },
   "outputs": [
    {
     "name": "stdout",
     "output_type": "stream",
     "text": [
      "consider lecture data\n"
     ]
    },
    {
     "data": {
      "application/vnd.jupyter.widget-view+json": {
       "model_id": "e1e52b25331242449206741a2f452f79",
       "version_major": 2,
       "version_minor": 0
      },
      "text/plain": [
       "HBox(children=(FloatProgress(value=0.0, description='progress: ', max=393656.0, style=ProgressStyle(descriptio…"
      ]
     },
     "metadata": {},
     "output_type": "display_data"
    },
    {
     "name": "stdout",
     "output_type": "stream",
     "text": [
      "\n",
      "remove lecture data\n",
      "merge question data\n",
      "groupby calculation\n"
     ]
    }
   ],
   "source": [
    "print(\"consider lecture data\")\n",
    "user_lec_df = train.groupby('user_id').agg({'content_type_id': ['mean']}).copy()\n",
    "user_lec_df.columns = [\"lec_ratio\"]\n",
    "\n",
    "train[\"lec\"] = train.groupby([\"user_id\"])['content_type_id'].progress_apply(lambda x: x.shift(1))\n",
    "train.drop([\"content_type_id\"], axis=1, inplace=True)\n",
    "\n",
    "#train = train.merge(lectures[[\"lecture_id\"]+types_columns], how=\"left\", left_on=['content_id'], right_on=['lecture_id']).drop(columns='lecture_id')\n",
    "#user_lec_type = train.groupby(\"user_id\").agg(\"mean\")[types_columns]\n",
    "#user_lec_type = user_lec_type.fillna(0)\n",
    "\n",
    "print(\"remove lecture data\")\n",
    "train = train.loc[train['answered_correctly'] != -1].reset_index(drop=True)\n",
    "\n",
    "print(\"merge question data\")\n",
    "# https://stackoverflow.com/questions/25888207/pandas-join-dataframes-on-field-with-different-names\n",
    "train = train.merge(questions[[\"question_id\", \"part\"]], how=\"left\", left_on=['content_id'], right_on=['question_id'])\n",
    "train.drop([\"question_id\"], axis=1, inplace=True)\n",
    "\n",
    "print(\"groupby calculation\")\n",
    "user_answers_df = train.groupby('user_id').agg({'answered_correctly': ['mean']}).copy()\n",
    "user_answers_df.columns = [\"acc_before_ans\"]\n",
    "\n",
    "user_answers_past2 = pd.DataFrame(train.groupby(\"user_id\").tail(2).groupby(\"user_id\").agg(\"mean\")[\"answered_correctly\"])\n",
    "user_answers_past2.columns = [\"mean_of_last_2_answered_correctly_by_user_id\"]\n",
    "user_answers_past3 = pd.DataFrame(train.groupby(\"user_id\").tail(3).groupby(\"user_id\").agg(\"mean\")[\"answered_correctly\"])\n",
    "user_answers_past3.columns = [\"mean_of_last_3_answered_correctly_by_user_id\"]\n",
    "\n",
    "user_part_accuracy = train.groupby(['user_id', 'part']).agg({'answered_correctly': ['mean']}).copy().unstack()\n",
    "user_part_accuracy.columns = [\"part1_acc\", \"part2_acc\", \"part3_acc\", \"part4_acc\", \"part5_acc\", \"part6_acc\", \"part7_acc\"]\n",
    "\n",
    "user_lec_ratio = train.groupby(['user_id']).agg({'lec': ['mean']}).copy()\n",
    "user_lec_ratio.columns = [\"lec\"]\n",
    "\n",
    "mean_accuracy_by_part = np.array([0.74503238, 0.70869406, 0.70145593, 0.63099758, 0.61008792, 0.66938835, 0.65960112])"
   ]
  },
  {
   "cell_type": "code",
   "execution_count": 7,
   "metadata": {
    "execution": {
     "iopub.execute_input": "2020-11-26T14:04:38.372311Z",
     "iopub.status.busy": "2020-11-26T14:04:38.371498Z",
     "iopub.status.idle": "2020-11-26T14:04:41.845243Z",
     "shell.execute_reply": "2020-11-26T14:04:41.844513Z"
    },
    "papermill": {
     "duration": 3.500944,
     "end_time": "2020-11-26T14:04:41.845374",
     "exception": false,
     "start_time": "2020-11-26T14:04:38.344430",
     "status": "completed"
    },
    "tags": []
   },
   "outputs": [],
   "source": [
    "tmp = train.groupby(\"content_id\")[\"answered_correctly\"].mean().reset_index()\n",
    "difficult_content = list(tmp[tmp.answered_correctly<0.3][\"content_id\"])\n",
    "del tmp"
   ]
  },
  {
   "cell_type": "code",
   "execution_count": 8,
   "metadata": {
    "execution": {
     "iopub.execute_input": "2020-11-26T14:04:42.027191Z",
     "iopub.status.busy": "2020-11-26T14:04:42.026356Z",
     "iopub.status.idle": "2020-11-26T14:04:59.508621Z",
     "shell.execute_reply": "2020-11-26T14:04:59.507883Z"
    },
    "papermill": {
     "duration": 17.642344,
     "end_time": "2020-11-26T14:04:59.508766",
     "exception": false,
     "start_time": "2020-11-26T14:04:41.866422",
     "status": "completed"
    },
    "tags": []
   },
   "outputs": [
    {
     "name": "stdout",
     "output_type": "stream",
     "text": [
      "(9264002, 8) 36706\n"
     ]
    },
    {
     "data": {
      "text/html": [
       "<div>\n",
       "<style scoped>\n",
       "    .dataframe tbody tr th:only-of-type {\n",
       "        vertical-align: middle;\n",
       "    }\n",
       "\n",
       "    .dataframe tbody tr th {\n",
       "        vertical-align: top;\n",
       "    }\n",
       "\n",
       "    .dataframe thead th {\n",
       "        text-align: right;\n",
       "    }\n",
       "</style>\n",
       "<table border=\"1\" class=\"dataframe\">\n",
       "  <thead>\n",
       "    <tr style=\"text-align: right;\">\n",
       "      <th></th>\n",
       "      <th>user_id</th>\n",
       "      <th>content_id</th>\n",
       "      <th>task_container_id</th>\n",
       "      <th>answered_correctly</th>\n",
       "      <th>prior_question_elapsed_time</th>\n",
       "      <th>prior_question_had_explanation</th>\n",
       "      <th>lec</th>\n",
       "      <th>part</th>\n",
       "    </tr>\n",
       "  </thead>\n",
       "  <tbody>\n",
       "    <tr>\n",
       "      <th>90007298</th>\n",
       "      <td>1947975793</td>\n",
       "      <td>6603</td>\n",
       "      <td>0</td>\n",
       "      <td>1</td>\n",
       "      <td>20500</td>\n",
       "      <td>True</td>\n",
       "      <td>0.0</td>\n",
       "      <td>6</td>\n",
       "    </tr>\n",
       "    <tr>\n",
       "      <th>90007299</th>\n",
       "      <td>1947975793</td>\n",
       "      <td>6601</td>\n",
       "      <td>0</td>\n",
       "      <td>1</td>\n",
       "      <td>20500</td>\n",
       "      <td>True</td>\n",
       "      <td>0.0</td>\n",
       "      <td>6</td>\n",
       "    </tr>\n",
       "    <tr>\n",
       "      <th>90007300</th>\n",
       "      <td>1947975793</td>\n",
       "      <td>6602</td>\n",
       "      <td>0</td>\n",
       "      <td>1</td>\n",
       "      <td>20500</td>\n",
       "      <td>True</td>\n",
       "      <td>0.0</td>\n",
       "      <td>6</td>\n",
       "    </tr>\n",
       "    <tr>\n",
       "      <th>90007301</th>\n",
       "      <td>1947975793</td>\n",
       "      <td>10076</td>\n",
       "      <td>1</td>\n",
       "      <td>1</td>\n",
       "      <td>6000</td>\n",
       "      <td>True</td>\n",
       "      <td>0.0</td>\n",
       "      <td>6</td>\n",
       "    </tr>\n",
       "    <tr>\n",
       "      <th>90007302</th>\n",
       "      <td>1947975793</td>\n",
       "      <td>10077</td>\n",
       "      <td>1</td>\n",
       "      <td>0</td>\n",
       "      <td>6000</td>\n",
       "      <td>True</td>\n",
       "      <td>0.0</td>\n",
       "      <td>6</td>\n",
       "    </tr>\n",
       "    <tr>\n",
       "      <th>90007303</th>\n",
       "      <td>1947975793</td>\n",
       "      <td>10075</td>\n",
       "      <td>1</td>\n",
       "      <td>0</td>\n",
       "      <td>6000</td>\n",
       "      <td>True</td>\n",
       "      <td>0.0</td>\n",
       "      <td>6</td>\n",
       "    </tr>\n",
       "    <tr>\n",
       "      <th>90007304</th>\n",
       "      <td>1947975793</td>\n",
       "      <td>10074</td>\n",
       "      <td>1</td>\n",
       "      <td>0</td>\n",
       "      <td>6000</td>\n",
       "      <td>True</td>\n",
       "      <td>0.0</td>\n",
       "      <td>6</td>\n",
       "    </tr>\n",
       "    <tr>\n",
       "      <th>90007305</th>\n",
       "      <td>1947975793</td>\n",
       "      <td>10075</td>\n",
       "      <td>2</td>\n",
       "      <td>0</td>\n",
       "      <td>22750</td>\n",
       "      <td>True</td>\n",
       "      <td>1.0</td>\n",
       "      <td>6</td>\n",
       "    </tr>\n",
       "    <tr>\n",
       "      <th>90007306</th>\n",
       "      <td>1947975793</td>\n",
       "      <td>10076</td>\n",
       "      <td>2</td>\n",
       "      <td>1</td>\n",
       "      <td>22750</td>\n",
       "      <td>True</td>\n",
       "      <td>0.0</td>\n",
       "      <td>6</td>\n",
       "    </tr>\n",
       "    <tr>\n",
       "      <th>90007307</th>\n",
       "      <td>1947975793</td>\n",
       "      <td>10074</td>\n",
       "      <td>2</td>\n",
       "      <td>0</td>\n",
       "      <td>22750</td>\n",
       "      <td>True</td>\n",
       "      <td>0.0</td>\n",
       "      <td>6</td>\n",
       "    </tr>\n",
       "  </tbody>\n",
       "</table>\n",
       "</div>"
      ],
      "text/plain": [
       "             user_id  content_id  task_container_id  answered_correctly  \\\n",
       "90007298  1947975793        6603                  0                   1   \n",
       "90007299  1947975793        6601                  0                   1   \n",
       "90007300  1947975793        6602                  0                   1   \n",
       "90007301  1947975793       10076                  1                   1   \n",
       "90007302  1947975793       10077                  1                   0   \n",
       "90007303  1947975793       10075                  1                   0   \n",
       "90007304  1947975793       10074                  1                   0   \n",
       "90007305  1947975793       10075                  2                   0   \n",
       "90007306  1947975793       10076                  2                   1   \n",
       "90007307  1947975793       10074                  2                   0   \n",
       "\n",
       "          prior_question_elapsed_time prior_question_had_explanation  lec  \\\n",
       "90007298                        20500                           True  0.0   \n",
       "90007299                        20500                           True  0.0   \n",
       "90007300                        20500                           True  0.0   \n",
       "90007301                         6000                           True  0.0   \n",
       "90007302                         6000                           True  0.0   \n",
       "90007303                         6000                           True  0.0   \n",
       "90007304                         6000                           True  0.0   \n",
       "90007305                        22750                           True  1.0   \n",
       "90007306                        22750                           True  0.0   \n",
       "90007307                        22750                           True  0.0   \n",
       "\n",
       "          part  \n",
       "90007298     6  \n",
       "90007299     6  \n",
       "90007300     6  \n",
       "90007301     6  \n",
       "90007302     6  \n",
       "90007303     6  \n",
       "90007304     6  \n",
       "90007305     6  \n",
       "90007306     6  \n",
       "90007307     6  "
      ]
     },
     "execution_count": 8,
     "metadata": {},
     "output_type": "execute_result"
    }
   ],
   "source": [
    "train = train.iloc[90007298:,:]\n",
    "train['task_container_id'] = train.groupby('user_id')['task_container_id'].transform(lambda x: pd.factorize(x)[0]).astype('int16')\n",
    "train[\"lec\"] = train[\"lec\"].fillna(0)\n",
    "print(train.shape, len(train.user_id.unique()))\n",
    "train.head(10)"
   ]
  },
  {
   "cell_type": "markdown",
   "metadata": {
    "papermill": {
     "duration": 0.02164,
     "end_time": "2020-11-26T14:04:59.552826",
     "exception": false,
     "start_time": "2020-11-26T14:04:59.531186",
     "status": "completed"
    },
    "tags": []
   },
   "source": [
    "# Feature engineering"
   ]
  },
  {
   "cell_type": "code",
   "execution_count": 9,
   "metadata": {
    "execution": {
     "iopub.execute_input": "2020-11-26T14:04:59.634565Z",
     "iopub.status.busy": "2020-11-26T14:04:59.621457Z",
     "iopub.status.idle": "2020-11-26T14:19:23.911031Z",
     "shell.execute_reply": "2020-11-26T14:19:23.911860Z"
    },
    "papermill": {
     "duration": 864.33669,
     "end_time": "2020-11-26T14:19:23.912297",
     "exception": false,
     "start_time": "2020-11-26T14:04:59.575607",
     "status": "completed"
    },
    "tags": []
   },
   "outputs": [
    {
     "name": "stdout",
     "output_type": "stream",
     "text": [
      "CPU times: user 14min 14s, sys: 13.7 s, total: 14min 28s\n",
      "Wall time: 14min 24s\n"
     ]
    }
   ],
   "source": [
    "%%time\n",
    "def get_data(df, test_set=False):\n",
    "    if test_set == False:\n",
    "        \n",
    "        # cumsum correct answer by user_id\n",
    "        tmp1 = df.groupby(['user_id'])['answered_correctly'].apply(lambda x: pd.concat([pd.DataFrame([0]), x.cumsum()[:-1]])).reset_index(drop=True).values\n",
    "        tmp1 = np.array(tmp1, dtype=float)\n",
    "        # cumsum total try by user_id\n",
    "        tmp2 = df.groupby(['user_id']).cumcount().values\n",
    "        tmp2 = np.array(tmp2, dtype=float).reshape(-1,1)\n",
    "        # https://stackoverflow.com/questions/26248654/how-to-return-0-with-divide-by-zero\n",
    "        correct_rate = np.divide(tmp1, tmp2, out=np.ones_like(tmp1)*-1, where=tmp2!=0)\n",
    "        \n",
    "        # cumsum lec count by user_id \n",
    "        tmp1 = df.groupby(['user_id'])['lec'].apply(lambda x: x.cumsum()).reset_index(drop=True).values\n",
    "        tmp1 = np.array(tmp1, dtype=float).reshape(-1,1)\n",
    "        lec_rate = np.divide(tmp1, tmp2, out=np.zeros_like(tmp1), where=tmp2!=0)\n",
    "        \n",
    "        # cumsum of each part trial by user\n",
    "        part1_cumsum = df.groupby([\"user_id\"])['part'].apply(lambda x: pd.DataFrame([0] + (x==1).cumsum().tolist()[:-1])).reset_index(drop=True)[0].values\n",
    "        part2_cumsum = df.groupby([\"user_id\"])['part'].apply(lambda x: pd.DataFrame([0] + (x==2).cumsum().tolist()[:-1])).reset_index(drop=True)[0].values\n",
    "        part3_cumsum = df.groupby([\"user_id\"])['part'].apply(lambda x: pd.DataFrame([0] + (x==3).cumsum().tolist()[:-1])).reset_index(drop=True)[0].values\n",
    "        part4_cumsum = df.groupby([\"user_id\"])['part'].apply(lambda x: pd.DataFrame([0] + (x==4).cumsum().tolist()[:-1])).reset_index(drop=True)[0].values\n",
    "        part5_cumsum = df.groupby([\"user_id\"])['part'].apply(lambda x: pd.DataFrame([0] + (x==5).cumsum().tolist()[:-1])).reset_index(drop=True)[0].values\n",
    "        part6_cumsum = df.groupby([\"user_id\"])['part'].apply(lambda x: pd.DataFrame([0] + (x==6).cumsum().tolist()[:-1])).reset_index(drop=True)[0].values\n",
    "        part7_cumsum = df.groupby([\"user_id\"])['part'].apply(lambda x: pd.DataFrame([0] + (x==7).cumsum().tolist()[:-1])).reset_index(drop=True)[0].values\n",
    "\n",
    "        # logical bool if part is matched by user\n",
    "        part1_g = pd.DataFrame(df.groupby([\"user_id\"])['part'].apply(lambda x: x==1))\n",
    "        part2_g = pd.DataFrame(df.groupby([\"user_id\"])['part'].apply(lambda x: x==2))\n",
    "        part3_g = pd.DataFrame(df.groupby([\"user_id\"])['part'].apply(lambda x: x==3))\n",
    "        part4_g = pd.DataFrame(df.groupby([\"user_id\"])['part'].apply(lambda x: x==4))\n",
    "        part5_g = pd.DataFrame(df.groupby([\"user_id\"])['part'].apply(lambda x: x==5))\n",
    "        part6_g = pd.DataFrame(df.groupby([\"user_id\"])['part'].apply(lambda x: x==6))\n",
    "        part7_g = pd.DataFrame(df.groupby([\"user_id\"])['part'].apply(lambda x: x==7))\n",
    "        # logical bool if answer is correct by user\n",
    "        acc_g = pd.DataFrame(df.groupby([\"user_id\"])['answered_correctly'].apply(lambda x: x==1))\n",
    "\n",
    "        # cumsum of correct num per part by user\n",
    "        part1_acc_cumsum = np.logical_and(acc_g.values ,part1_g.values)\n",
    "        part2_acc_cumsum = np.logical_and(acc_g.values ,part2_g.values)\n",
    "        part3_acc_cumsum = np.logical_and(acc_g.values ,part3_g.values)\n",
    "        part4_acc_cumsum = np.logical_and(acc_g.values ,part4_g.values)\n",
    "        part5_acc_cumsum = np.logical_and(acc_g.values ,part5_g.values)\n",
    "        part6_acc_cumsum = np.logical_and(acc_g.values ,part6_g.values)\n",
    "        part7_acc_cumsum = np.logical_and(acc_g.values ,part7_g.values)\n",
    "\n",
    "        df[\"part1_and_ok\"] = part1_acc_cumsum\n",
    "        df[\"part2_and_ok\"] = part2_acc_cumsum\n",
    "        df[\"part3_and_ok\"] = part3_acc_cumsum\n",
    "        df[\"part4_and_ok\"] = part4_acc_cumsum \n",
    "        df[\"part5_and_ok\"] = part5_acc_cumsum\n",
    "        df[\"part6_and_ok\"] = part6_acc_cumsum\n",
    "        df[\"part7_and_ok\"] = part7_acc_cumsum\n",
    "        \n",
    "        part1_acc_cumsum = df.groupby([\"user_id\"])['part1_and_ok'].apply(lambda x: pd.DataFrame([0] + (x==1).cumsum().tolist()[:-1])).reset_index(drop=True)[0].values\n",
    "        part2_acc_cumsum = df.groupby([\"user_id\"])['part2_and_ok'].apply(lambda x: pd.DataFrame([0] + (x==1).cumsum().tolist()[:-1])).reset_index(drop=True)[0].values\n",
    "        part3_acc_cumsum = df.groupby([\"user_id\"])['part3_and_ok'].apply(lambda x: pd.DataFrame([0] + (x==1).cumsum().tolist()[:-1])).reset_index(drop=True)[0].values\n",
    "        part4_acc_cumsum = df.groupby([\"user_id\"])['part4_and_ok'].apply(lambda x: pd.DataFrame([0] + (x==1).cumsum().tolist()[:-1])).reset_index(drop=True)[0].values\n",
    "        part5_acc_cumsum = df.groupby([\"user_id\"])['part5_and_ok'].apply(lambda x: pd.DataFrame([0] + (x==1).cumsum().tolist()[:-1])).reset_index(drop=True)[0].values\n",
    "        part6_acc_cumsum = df.groupby([\"user_id\"])['part6_and_ok'].apply(lambda x: pd.DataFrame([0] + (x==1).cumsum().tolist()[:-1])).reset_index(drop=True)[0].values\n",
    "        part7_acc_cumsum = df.groupby([\"user_id\"])['part7_and_ok'].apply(lambda x: pd.DataFrame([0] + (x==1).cumsum().tolist()[:-1])).reset_index(drop=True)[0].values\n",
    "\n",
    "        part1_acc_cumsum = np.array(part1_acc_cumsum, dtype=float)\n",
    "        part2_acc_cumsum = np.array(part2_acc_cumsum, dtype=float)\n",
    "        part3_acc_cumsum = np.array(part3_acc_cumsum, dtype=float)\n",
    "        part4_acc_cumsum = np.array(part4_acc_cumsum, dtype=float)\n",
    "        part5_acc_cumsum = np.array(part5_acc_cumsum, dtype=float)\n",
    "        part6_acc_cumsum = np.array(part6_acc_cumsum, dtype=float)\n",
    "        part7_acc_cumsum = np.array(part7_acc_cumsum, dtype=float)\n",
    "        \n",
    "        part1_acc_rate = np.divide(part1_acc_cumsum, part1_cumsum, out=np.ones_like(part1_acc_cumsum)*-1, where=part1_cumsum!=0)\n",
    "        part2_acc_rate = np.divide(part2_acc_cumsum, part2_cumsum, out=np.ones_like(part2_acc_cumsum)*-1, where=part2_cumsum!=0)\n",
    "        part3_acc_rate = np.divide(part3_acc_cumsum, part3_cumsum, out=np.ones_like(part3_acc_cumsum)*-1, where=part3_cumsum!=0)\n",
    "        part4_acc_rate = np.divide(part4_acc_cumsum, part4_cumsum, out=np.ones_like(part4_acc_cumsum)*-1, where=part4_cumsum!=0)\n",
    "        part5_acc_rate = np.divide(part5_acc_cumsum, part5_cumsum, out=np.ones_like(part5_acc_cumsum)*-1, where=part5_cumsum!=0)\n",
    "        part6_acc_rate = np.divide(part6_acc_cumsum, part6_cumsum, out=np.ones_like(part6_acc_cumsum)*-1, where=part6_cumsum!=0)\n",
    "        part7_acc_rate = np.divide(part7_acc_cumsum, part7_cumsum, out=np.ones_like(part7_acc_cumsum)*-1, where=part7_cumsum!=0)\n",
    "                    \n",
    "        df[\"acc_before_ans\"] = correct_rate\n",
    "        df[\"part1_acc\"] = part1_acc_rate\n",
    "        df[\"part2_acc\"] = part2_acc_rate\n",
    "        df[\"part3_acc\"] = part3_acc_rate\n",
    "        df[\"part4_acc\"] = part4_acc_rate\n",
    "        df[\"part5_acc\"] = part5_acc_rate\n",
    "        df[\"part6_acc\"] = part6_acc_rate\n",
    "        df[\"part7_acc\"] = part7_acc_rate  \n",
    "        df['prior_question_had_explanation'] = df['prior_question_had_explanation'].fillna(value = False).astype(bool)\n",
    "        df[\"lec\"] = lec_rate\n",
    "        \n",
    "    else:\n",
    "        df = df.merge(user_answers_df, how = 'left', on = 'user_id') # for acc_before_ans\n",
    "        df = df.merge(user_part_accuracy, how = 'left', on = 'user_id')\n",
    "        df = df.merge(user_answers_past2, how = 'left', on = 'user_id')\n",
    "        df = df.merge(user_answers_past3, how = 'left', on = 'user_id')\n",
    "        df = df.merge(user_lec_ratio, how = 'left', on = 'user_id')\n",
    "        df.drop([\"timestamp\"], axis=1, inplace=True)\n",
    "    \n",
    "    df[\"difficult_content\"] = df[\"content_id\"].apply(lambda x: 1 if x in difficult_content else 0)\n",
    "    df.fillna(value = 0.5, inplace = True) #0?\n",
    "    return df\n",
    "train = get_data(train)"
   ]
  },
  {
   "cell_type": "code",
   "execution_count": 10,
   "metadata": {
    "execution": {
     "iopub.execute_input": "2020-11-26T14:19:23.972928Z",
     "iopub.status.busy": "2020-11-26T14:19:23.972054Z",
     "iopub.status.idle": "2020-11-26T14:21:34.650366Z",
     "shell.execute_reply": "2020-11-26T14:21:34.649457Z"
    },
    "papermill": {
     "duration": 130.715312,
     "end_time": "2020-11-26T14:21:34.650545",
     "exception": false,
     "start_time": "2020-11-26T14:19:23.935233",
     "status": "completed"
    },
    "tags": []
   },
   "outputs": [],
   "source": [
    "# target encoding + moving average not to cause target leakage\n",
    "AGGS = [\n",
    "    ('answered_correctly', 2, ['user_id'], ['mean']),\n",
    "    ('answered_correctly', 3, ['user_id'], ['mean']),\n",
    "]\n",
    "\n",
    "for on, lag, by, hows in AGGS:\n",
    "    agg = train.groupby(by)[on].apply(lambda x: (\n",
    "        x.shift(1).rolling(window=lag, min_periods=1).agg(hows)\n",
    "    ))\n",
    "    agg = agg.rename(columns={\n",
    "        how: f'{how}_of_last_{lag}_{on}_by_' + '_and_'.join(by)\n",
    "        for how in hows\n",
    "    })\n",
    "\n",
    "    train = train.join(agg)"
   ]
  },
  {
   "cell_type": "code",
   "execution_count": 11,
   "metadata": {
    "execution": {
     "iopub.execute_input": "2020-11-26T14:21:34.707339Z",
     "iopub.status.busy": "2020-11-26T14:21:34.706477Z",
     "iopub.status.idle": "2020-11-26T14:21:36.028026Z",
     "shell.execute_reply": "2020-11-26T14:21:36.028856Z"
    },
    "papermill": {
     "duration": 1.355132,
     "end_time": "2020-11-26T14:21:36.029048",
     "exception": false,
     "start_time": "2020-11-26T14:21:34.673916",
     "status": "completed"
    },
    "tags": []
   },
   "outputs": [],
   "source": [
    "target = 'answered_correctly'\n",
    "columns = [\"acc_before_ans\", 'content_id', 'part', 'prior_question_had_explanation', 'prior_question_elapsed_time',\n",
    "          \"part1_acc\",  \"part2_acc\", \"part3_acc\", \"part4_acc\", \"part5_acc\", \"part6_acc\", \"part7_acc\",\n",
    "           \"mean_of_last_2_answered_correctly_by_user_id\", \"mean_of_last_3_answered_correctly_by_user_id\", \"lec\",\n",
    "          \"difficult_content\"]\n",
    "others = ['task_container_id', \"user_id\"]\n",
    "\n",
    "drop_columns = [i for i in train.columns if i not in columns + [target] + others]\n",
    "train.drop(drop_columns, axis=1, inplace=True)"
   ]
  },
  {
   "cell_type": "markdown",
   "metadata": {
    "papermill": {
     "duration": 0.022555,
     "end_time": "2020-11-26T14:21:36.074685",
     "exception": false,
     "start_time": "2020-11-26T14:21:36.052130",
     "status": "completed"
    },
    "tags": []
   },
   "source": [
    "# modelling"
   ]
  },
  {
   "cell_type": "code",
   "execution_count": 12,
   "metadata": {
    "execution": {
     "iopub.execute_input": "2020-11-26T14:21:36.145283Z",
     "iopub.status.busy": "2020-11-26T14:21:36.144115Z",
     "iopub.status.idle": "2020-11-26T14:21:36.147404Z",
     "shell.execute_reply": "2020-11-26T14:21:36.146747Z"
    },
    "papermill": {
     "duration": 0.049422,
     "end_time": "2020-11-26T14:21:36.147530",
     "exception": false,
     "start_time": "2020-11-26T14:21:36.098108",
     "status": "completed"
    },
    "tags": []
   },
   "outputs": [],
   "source": [
    "def stratified_group_k_fold(X, y, groups, k, seed=None):\n",
    "    labels_num = np.max(y) + 1\n",
    "    y_counts_per_group = defaultdict(lambda: np.zeros(labels_num))\n",
    "    y_distr = Counter()\n",
    "    for label, g in zip(y, groups):\n",
    "        y_counts_per_group[g][label] += 1\n",
    "        y_distr[label] += 1\n",
    "\n",
    "    y_counts_per_fold = defaultdict(lambda: np.zeros(labels_num))\n",
    "    groups_per_fold = defaultdict(set)\n",
    "\n",
    "    def eval_y_counts_per_fold(y_counts, fold):\n",
    "        y_counts_per_fold[fold] += y_counts\n",
    "        std_per_label = []\n",
    "        for label in range(labels_num):\n",
    "            label_std = np.std([y_counts_per_fold[i][label] / y_distr[label] for i in range(k)])\n",
    "            std_per_label.append(label_std)\n",
    "        y_counts_per_fold[fold] -= y_counts\n",
    "        return np.mean(std_per_label)\n",
    "    \n",
    "    groups_and_y_counts = list(y_counts_per_group.items())\n",
    "    random.Random(seed).shuffle(groups_and_y_counts)\n",
    "    \n",
    "    for g, y_counts in sorted(groups_and_y_counts, key=lambda x: -np.std(x[1])):\n",
    "        best_fold = None\n",
    "        min_eval = None\n",
    "        for i in range(k):\n",
    "            fold_eval = eval_y_counts_per_fold(y_counts, i)\n",
    "            if min_eval is None or fold_eval < min_eval:\n",
    "                min_eval = fold_eval\n",
    "                best_fold = i\n",
    "        y_counts_per_fold[best_fold] += y_counts\n",
    "        groups_per_fold[best_fold].add(g)\n",
    "\n",
    "    all_groups = set(groups)\n",
    "    for i in range(k):\n",
    "        train_groups = all_groups - groups_per_fold[i]\n",
    "        test_groups = groups_per_fold[i]\n",
    "\n",
    "        train_indices = [i for i, g in enumerate(groups) if g in train_groups]\n",
    "        test_indices = [i for i, g in enumerate(groups) if g in test_groups]\n",
    "\n",
    "        yield train_indices, test_indices\n",
    "        \n",
    "    @property\n",
    "    def before_iteration(self):\n",
    "        # コールバックは各イテレーションの後に実行する\n",
    "        return False"
   ]
  },
  {
   "cell_type": "code",
   "execution_count": 13,
   "metadata": {
    "execution": {
     "iopub.execute_input": "2020-11-26T14:21:36.222638Z",
     "iopub.status.busy": "2020-11-26T14:21:36.219489Z",
     "iopub.status.idle": "2020-11-26T15:01:13.726139Z",
     "shell.execute_reply": "2020-11-26T15:01:13.719985Z"
    },
    "papermill": {
     "duration": 2377.554693,
     "end_time": "2020-11-26T15:01:13.726428",
     "exception": false,
     "start_time": "2020-11-26T14:21:36.171735",
     "status": "completed"
    },
    "tags": []
   },
   "outputs": [
    {
     "name": "stdout",
     "output_type": "stream",
     "text": [
      "Fold 1\n",
      "Training until validation scores don't improve for 10 rounds\n",
      "[50]\ttraining's auc: 0.751234\tvalid_1's auc: 0.751401\n",
      "[100]\ttraining's auc: 0.764037\tvalid_1's auc: 0.759586\n",
      "[150]\ttraining's auc: 0.770356\tvalid_1's auc: 0.761078\n",
      "Early stopping, best iteration is:\n",
      "[150]\ttraining's auc: 0.770356\tvalid_1's auc: 0.761078\n",
      "Fold 2\n",
      "Training until validation scores don't improve for 10 rounds\n",
      "[50]\ttraining's auc: 0.750882\tvalid_1's auc: 0.749432\n",
      "[100]\ttraining's auc: 0.764461\tvalid_1's auc: 0.759142\n",
      "[150]\ttraining's auc: 0.770498\tvalid_1's auc: 0.761407\n",
      "[200]\ttraining's auc: 0.774586\tvalid_1's auc: 0.762341\n",
      "Early stopping, best iteration is:\n",
      "[204]\ttraining's auc: 0.774894\tvalid_1's auc: 0.76244\n",
      "Fold 3\n",
      "Training until validation scores don't improve for 10 rounds\n",
      "[50]\ttraining's auc: 0.751537\tvalid_1's auc: 0.744966\n",
      "[100]\ttraining's auc: 0.7649\tvalid_1's auc: 0.754933\n",
      "[150]\ttraining's auc: 0.770834\tvalid_1's auc: 0.756566\n",
      "[200]\ttraining's auc: 0.774881\tvalid_1's auc: 0.75733\n",
      "Early stopping, best iteration is:\n",
      "[203]\ttraining's auc: 0.775104\tvalid_1's auc: 0.757335\n",
      "Fold 4\n",
      "Training until validation scores don't improve for 10 rounds\n",
      "[50]\ttraining's auc: 0.750876\tvalid_1's auc: 0.753701\n",
      "[100]\ttraining's auc: 0.764332\tvalid_1's auc: 0.763807\n",
      "[150]\ttraining's auc: 0.770479\tvalid_1's auc: 0.765888\n",
      "Early stopping, best iteration is:\n",
      "[157]\ttraining's auc: 0.771117\tvalid_1's auc: 0.766238\n",
      "Fold 5\n",
      "Training until validation scores don't improve for 10 rounds\n",
      "[50]\ttraining's auc: 0.751439\tvalid_1's auc: 0.751258\n",
      "[100]\ttraining's auc: 0.765057\tvalid_1's auc: 0.762058\n",
      "[150]\ttraining's auc: 0.771247\tvalid_1's auc: 0.76402\n",
      "Early stopping, best iteration is:\n",
      "[163]\ttraining's auc: 0.77246\tvalid_1's auc: 0.764257\n",
      "Overall ROC AUC:  0.762219619155582\n"
     ]
    }
   ],
   "source": [
    "categoricals = [\"content_id\", \"part\"]\n",
    "params = {'objective': 'binary', \"metric\": 'auc','eval_metric':'auc', 'boosting_type': 'gbdt', \n",
    "          'tree_learner': 'serial', 'learning_rate': 0.1,  \"num_leaves\": 80 }\n",
    "n_folds=5\n",
    "\n",
    "groups = np.array(train.user_id.values)\n",
    "    \n",
    "models = []\n",
    "\n",
    "valid = np.array([])\n",
    "real = np.array([])\n",
    "features_list = [i for i in columns]\n",
    "feature_importance_df = pd.DataFrame(features_list, columns=[\"Feature\"])\n",
    "        \n",
    "for i , (train_index, test_index) in enumerate(stratified_group_k_fold(train[columns + others], train[target], groups, k=n_folds, seed=0)):\n",
    "    print(\"Fold {}\".format(i+1))\n",
    "    X_train = train[columns + others].iloc[train_index,:]\n",
    "    y_train = train[target].iloc[train_index]\n",
    "\n",
    "    X_valid = train[columns + others].iloc[test_index,:]\n",
    "        \n",
    "    # https://stackoverflow.com/questions/15705630/get-the-rows-which-have-the-max-count-in-groups-using-groupby\n",
    "    max_idx = X_valid.groupby(['user_id'])['task_container_id'].transform(max) == X_valid['task_container_id']\n",
    "    min_idx = X_valid.groupby(['user_id'])['task_container_id'].transform(min) == X_valid['task_container_id']\n",
    "    X_valid = X_valid[max_idx|min_idx]\n",
    "        \n",
    "    y_valid = train[target].iloc[test_index]\n",
    "    y_valid = y_valid[max_idx|min_idx]\n",
    "    X_train.drop(others, axis=1, inplace=True)\n",
    "    X_valid.drop(others, axis=1, inplace=True)\n",
    "\n",
    "    lgb_train = lgb.Dataset(X_train, y_train)\n",
    "    lgb_eval = lgb.Dataset(X_valid, y_valid, reference=lgb_train)\n",
    "        \n",
    "    clf = lgb.train(params, lgb_train,valid_sets=[lgb_train, lgb_eval], \n",
    "               num_boost_round=550,early_stopping_rounds=10,verbose_eval = 50, categorical_feature=categoricals,)\n",
    "    feature_importance_df[\"Fold_\"+str(i+1)] = clf.feature_importance()\n",
    "\n",
    "    valid_predict = clf.predict(X_valid, num_iteration = clf.best_iteration)\n",
    "        \n",
    "    valid = np.concatenate([valid, valid_predict])\n",
    "    real = np.concatenate([real, y_valid])\n",
    "        \n",
    "    models.append(clf) \n",
    "    \n",
    "    del max_idx, min_idx\n",
    "    del X_train, X_valid, y_train, y_valid\n",
    "        \n",
    "feature_importance_df[\"Average\"] = np.mean(feature_importance_df.iloc[:,1:n_folds+1], axis=1)\n",
    "feature_importance_df[\"Std\"] = np.std(feature_importance_df.iloc[:,1:n_folds+1], axis=1)\n",
    "feature_importance_df[\"Cv\"] = feature_importance_df[\"Std\"] / feature_importance_df[\"Average\"]\n",
    "feature_importance_df = feature_importance_df.sort_values(\"Average\", ascending=False).reset_index(drop=True)\n",
    "        \n",
    "score = roc_auc_score(real, valid)\n",
    "print(\"Overall ROC AUC: \", score)"
   ]
  },
  {
   "cell_type": "markdown",
   "metadata": {
    "papermill": {
     "duration": 0.040655,
     "end_time": "2020-11-26T15:01:13.815398",
     "exception": false,
     "start_time": "2020-11-26T15:01:13.774743",
     "status": "completed"
    },
    "tags": []
   },
   "source": [
    "# prediction"
   ]
  },
  {
   "cell_type": "code",
   "execution_count": 14,
   "metadata": {
    "execution": {
     "iopub.execute_input": "2020-11-26T15:01:13.908006Z",
     "iopub.status.busy": "2020-11-26T15:01:13.907141Z",
     "iopub.status.idle": "2020-11-26T15:01:16.150649Z",
     "shell.execute_reply": "2020-11-26T15:01:16.151466Z"
    },
    "papermill": {
     "duration": 2.298972,
     "end_time": "2020-11-26T15:01:16.151639",
     "exception": false,
     "start_time": "2020-11-26T15:01:13.852667",
     "status": "completed"
    },
    "tags": []
   },
   "outputs": [],
   "source": [
    "env = riiideducation.make_env()\n",
    "iter_test = env.iter_test()\n",
    "\n",
    "for (test_df, sample_prediction_df) in iter_test:\n",
    "    y_preds = []\n",
    "    test_df = test_df.merge(questions[[\"question_id\", \"part\"]], how=\"left\", left_on=['content_id'], right_on=['question_id'])\n",
    "    test_df.drop([\"question_id\"], axis=1, inplace=True)\n",
    "\n",
    "    test_df['prior_question_had_explanation'] = test_df['prior_question_had_explanation'].fillna(value = False).astype(bool)\n",
    "    test_df = get_data(test_df, test_set=True)\n",
    "\n",
    "    for model in models:\n",
    "        y_pred = model.predict(test_df[columns], num_iteration=model.best_iteration)\n",
    "        y_preds.append(y_pred)\n",
    "\n",
    "    y_preds = sum(y_preds) / len(y_preds)\n",
    "    test_df['answered_correctly'] = y_preds\n",
    "    env.predict(test_df.loc[test_df['content_type_id'] == 0, ['row_id', 'answered_correctly']])"
   ]
  },
  {
   "cell_type": "code",
   "execution_count": null,
   "metadata": {
    "papermill": {
     "duration": 0.03817,
     "end_time": "2020-11-26T15:01:16.228652",
     "exception": false,
     "start_time": "2020-11-26T15:01:16.190482",
     "status": "completed"
    },
    "tags": []
   },
   "outputs": [],
   "source": []
  }
 ],
 "metadata": {
  "kernelspec": {
   "display_name": "Python 3",
   "language": "python",
   "name": "python3"
  },
  "language_info": {
   "codemirror_mode": {
    "name": "ipython",
    "version": 3
   },
   "file_extension": ".py",
   "mimetype": "text/x-python",
   "name": "python",
   "nbconvert_exporter": "python",
   "pygments_lexer": "ipython3",
   "version": "3.7.6"
  },
  "papermill": {
   "duration": 3741.180355,
   "end_time": "2020-11-26T15:01:16.582004",
   "environment_variables": {},
   "exception": null,
   "input_path": "__notebook__.ipynb",
   "output_path": "__notebook__.ipynb",
   "parameters": {},
   "start_time": "2020-11-26T13:58:55.401649",
   "version": "2.1.0"
  },
  "widgets": {
   "application/vnd.jupyter.widget-state+json": {
    "state": {
     "2cb09ecaa11943f0a612e39e182a79f4": {
      "model_module": "@jupyter-widgets/base",
      "model_module_version": "1.2.0",
      "model_name": "LayoutModel",
      "state": {
       "_model_module": "@jupyter-widgets/base",
       "_model_module_version": "1.2.0",
       "_model_name": "LayoutModel",
       "_view_count": null,
       "_view_module": "@jupyter-widgets/base",
       "_view_module_version": "1.2.0",
       "_view_name": "LayoutView",
       "align_content": null,
       "align_items": null,
       "align_self": null,
       "border": null,
       "bottom": null,
       "display": null,
       "flex": null,
       "flex_flow": null,
       "grid_area": null,
       "grid_auto_columns": null,
       "grid_auto_flow": null,
       "grid_auto_rows": null,
       "grid_column": null,
       "grid_gap": null,
       "grid_row": null,
       "grid_template_areas": null,
       "grid_template_columns": null,
       "grid_template_rows": null,
       "height": null,
       "justify_content": null,
       "justify_items": null,
       "left": null,
       "margin": null,
       "max_height": null,
       "max_width": null,
       "min_height": null,
       "min_width": null,
       "object_fit": null,
       "object_position": null,
       "order": null,
       "overflow": null,
       "overflow_x": null,
       "overflow_y": null,
       "padding": null,
       "right": null,
       "top": null,
       "visibility": null,
       "width": null
      }
     },
     "4f973e36636d46378d01613455df4cf3": {
      "model_module": "@jupyter-widgets/base",
      "model_module_version": "1.2.0",
      "model_name": "LayoutModel",
      "state": {
       "_model_module": "@jupyter-widgets/base",
       "_model_module_version": "1.2.0",
       "_model_name": "LayoutModel",
       "_view_count": null,
       "_view_module": "@jupyter-widgets/base",
       "_view_module_version": "1.2.0",
       "_view_name": "LayoutView",
       "align_content": null,
       "align_items": null,
       "align_self": null,
       "border": null,
       "bottom": null,
       "display": null,
       "flex": null,
       "flex_flow": null,
       "grid_area": null,
       "grid_auto_columns": null,
       "grid_auto_flow": null,
       "grid_auto_rows": null,
       "grid_column": null,
       "grid_gap": null,
       "grid_row": null,
       "grid_template_areas": null,
       "grid_template_columns": null,
       "grid_template_rows": null,
       "height": null,
       "justify_content": null,
       "justify_items": null,
       "left": null,
       "margin": null,
       "max_height": null,
       "max_width": null,
       "min_height": null,
       "min_width": null,
       "object_fit": null,
       "object_position": null,
       "order": null,
       "overflow": null,
       "overflow_x": null,
       "overflow_y": null,
       "padding": null,
       "right": null,
       "top": null,
       "visibility": null,
       "width": null
      }
     },
     "8e2b36d395bd4a1ebdd84d8f97a57912": {
      "model_module": "@jupyter-widgets/controls",
      "model_module_version": "1.5.0",
      "model_name": "FloatProgressModel",
      "state": {
       "_dom_classes": [],
       "_model_module": "@jupyter-widgets/controls",
       "_model_module_version": "1.5.0",
       "_model_name": "FloatProgressModel",
       "_view_count": null,
       "_view_module": "@jupyter-widgets/controls",
       "_view_module_version": "1.5.0",
       "_view_name": "ProgressView",
       "bar_style": "success",
       "description": "progress: 100%",
       "description_tooltip": null,
       "layout": "IPY_MODEL_2cb09ecaa11943f0a612e39e182a79f4",
       "max": 393656.0,
       "min": 0.0,
       "orientation": "horizontal",
       "style": "IPY_MODEL_d258a4964263468f9e641953541fb7f6",
       "value": 393656.0
      }
     },
     "8f67a7297aef49d0b8ed22c7585221e6": {
      "model_module": "@jupyter-widgets/base",
      "model_module_version": "1.2.0",
      "model_name": "LayoutModel",
      "state": {
       "_model_module": "@jupyter-widgets/base",
       "_model_module_version": "1.2.0",
       "_model_name": "LayoutModel",
       "_view_count": null,
       "_view_module": "@jupyter-widgets/base",
       "_view_module_version": "1.2.0",
       "_view_name": "LayoutView",
       "align_content": null,
       "align_items": null,
       "align_self": null,
       "border": null,
       "bottom": null,
       "display": null,
       "flex": null,
       "flex_flow": null,
       "grid_area": null,
       "grid_auto_columns": null,
       "grid_auto_flow": null,
       "grid_auto_rows": null,
       "grid_column": null,
       "grid_gap": null,
       "grid_row": null,
       "grid_template_areas": null,
       "grid_template_columns": null,
       "grid_template_rows": null,
       "height": null,
       "justify_content": null,
       "justify_items": null,
       "left": null,
       "margin": null,
       "max_height": null,
       "max_width": null,
       "min_height": null,
       "min_width": null,
       "object_fit": null,
       "object_position": null,
       "order": null,
       "overflow": null,
       "overflow_x": null,
       "overflow_y": null,
       "padding": null,
       "right": null,
       "top": null,
       "visibility": null,
       "width": null
      }
     },
     "b45762223e0643aca8f3659057565cb4": {
      "model_module": "@jupyter-widgets/controls",
      "model_module_version": "1.5.0",
      "model_name": "HTMLModel",
      "state": {
       "_dom_classes": [],
       "_model_module": "@jupyter-widgets/controls",
       "_model_module_version": "1.5.0",
       "_model_name": "HTMLModel",
       "_view_count": null,
       "_view_module": "@jupyter-widgets/controls",
       "_view_module_version": "1.5.0",
       "_view_name": "HTMLView",
       "description": "",
       "description_tooltip": null,
       "layout": "IPY_MODEL_4f973e36636d46378d01613455df4cf3",
       "placeholder": "​",
       "style": "IPY_MODEL_bb8f9ec5be344d5687edfdc655148d75",
       "value": " 393656/393656 [03:13&lt;00:00, 2031.56it/s]"
      }
     },
     "bb8f9ec5be344d5687edfdc655148d75": {
      "model_module": "@jupyter-widgets/controls",
      "model_module_version": "1.5.0",
      "model_name": "DescriptionStyleModel",
      "state": {
       "_model_module": "@jupyter-widgets/controls",
       "_model_module_version": "1.5.0",
       "_model_name": "DescriptionStyleModel",
       "_view_count": null,
       "_view_module": "@jupyter-widgets/base",
       "_view_module_version": "1.2.0",
       "_view_name": "StyleView",
       "description_width": ""
      }
     },
     "d258a4964263468f9e641953541fb7f6": {
      "model_module": "@jupyter-widgets/controls",
      "model_module_version": "1.5.0",
      "model_name": "ProgressStyleModel",
      "state": {
       "_model_module": "@jupyter-widgets/controls",
       "_model_module_version": "1.5.0",
       "_model_name": "ProgressStyleModel",
       "_view_count": null,
       "_view_module": "@jupyter-widgets/base",
       "_view_module_version": "1.2.0",
       "_view_name": "StyleView",
       "bar_color": null,
       "description_width": "initial"
      }
     },
     "e1e52b25331242449206741a2f452f79": {
      "model_module": "@jupyter-widgets/controls",
      "model_module_version": "1.5.0",
      "model_name": "HBoxModel",
      "state": {
       "_dom_classes": [],
       "_model_module": "@jupyter-widgets/controls",
       "_model_module_version": "1.5.0",
       "_model_name": "HBoxModel",
       "_view_count": null,
       "_view_module": "@jupyter-widgets/controls",
       "_view_module_version": "1.5.0",
       "_view_name": "HBoxView",
       "box_style": "",
       "children": [
        "IPY_MODEL_8e2b36d395bd4a1ebdd84d8f97a57912",
        "IPY_MODEL_b45762223e0643aca8f3659057565cb4"
       ],
       "layout": "IPY_MODEL_8f67a7297aef49d0b8ed22c7585221e6"
      }
     }
    },
    "version_major": 2,
    "version_minor": 0
   }
  }
 },
 "nbformat": 4,
 "nbformat_minor": 4
}
