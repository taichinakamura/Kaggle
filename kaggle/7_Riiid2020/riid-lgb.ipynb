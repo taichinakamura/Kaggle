{
 "cells": [
  {
   "cell_type": "markdown",
   "metadata": {
    "papermill": {
     "duration": 0.017404,
     "end_time": "2020-10-18T14:50:49.753603",
     "exception": false,
     "start_time": "2020-10-18T14:50:49.736199",
     "status": "completed"
    },
    "tags": []
   },
   "source": [
    "- change validation to adapt to real evaluation system\n",
    "- completely change the programs of feature engineering to prevent leakage"
   ]
  },
  {
   "cell_type": "code",
   "execution_count": 1,
   "metadata": {
    "_cell_guid": "b1076dfc-b9ad-4769-8c92-a6c4dae69d19",
    "_uuid": "8f2839f25d086af736a60e9eeb907d3b93b6e0e5",
    "execution": {
     "iopub.execute_input": "2020-10-18T14:50:49.795499Z",
     "iopub.status.busy": "2020-10-18T14:50:49.794522Z",
     "iopub.status.idle": "2020-10-18T14:50:51.035192Z",
     "shell.execute_reply": "2020-10-18T14:50:51.034369Z"
    },
    "papermill": {
     "duration": 1.265447,
     "end_time": "2020-10-18T14:50:51.035361",
     "exception": false,
     "start_time": "2020-10-18T14:50:49.769914",
     "status": "completed"
    },
    "tags": []
   },
   "outputs": [],
   "source": [
    "import sys\n",
    "import copy\n",
    "import random\n",
    "import feather\n",
    "import warnings\n",
    "import numpy as np\n",
    "import pandas as pd\n",
    "from time import time\n",
    "import lightgbm as lgb\n",
    "from collections import Counter\n",
    "from sklearn import preprocessing\n",
    "from collections import defaultdict\n",
    "from tqdm import tqdm_notebook as tqdm\n",
    "from sklearn.model_selection import GroupKFold\n",
    "from sklearn.metrics import roc_auc_score\n",
    "import matplotlib.pyplot as plt \n",
    "\n",
    "import riiideducation\n",
    "warnings.filterwarnings(\"ignore\")"
   ]
  },
  {
   "cell_type": "code",
   "execution_count": 2,
   "metadata": {
    "_cell_guid": "79c7e3d0-c299-4dcb-8224-4455121ee9b0",
    "_uuid": "d629ff2d2480ee46fbb7e2d37f6b5fab8052498a",
    "execution": {
     "iopub.execute_input": "2020-10-18T14:50:51.079076Z",
     "iopub.status.busy": "2020-10-18T14:50:51.078221Z",
     "iopub.status.idle": "2020-10-18T14:51:21.759159Z",
     "shell.execute_reply": "2020-10-18T14:51:21.758191Z"
    },
    "papermill": {
     "duration": 30.706652,
     "end_time": "2020-10-18T14:51:21.759337",
     "exception": false,
     "start_time": "2020-10-18T14:50:51.052685",
     "status": "completed"
    },
    "tags": []
   },
   "outputs": [],
   "source": [
    "DIR = \"../input/riiid-test-answer-prediction/\"\n",
    "train = pd.read_feather(\"../input/riid-train/train.feather\")\n",
    "lectures = pd.read_csv(DIR+\"lectures.csv\")\n",
    "questions = pd.read_csv(DIR+\"questions.csv\")\n",
    "example_test = pd.read_csv(DIR+\"example_test.csv\")"
   ]
  },
  {
   "cell_type": "markdown",
   "metadata": {
    "papermill": {
     "duration": 0.016457,
     "end_time": "2020-10-18T14:51:21.792735",
     "exception": false,
     "start_time": "2020-10-18T14:51:21.776278",
     "status": "completed"
    },
    "tags": []
   },
   "source": [
    "# preprocess"
   ]
  },
  {
   "cell_type": "code",
   "execution_count": 3,
   "metadata": {
    "execution": {
     "iopub.execute_input": "2020-10-18T14:51:21.837777Z",
     "iopub.status.busy": "2020-10-18T14:51:21.836432Z",
     "iopub.status.idle": "2020-10-18T14:51:55.066577Z",
     "shell.execute_reply": "2020-10-18T14:51:55.065413Z"
    },
    "papermill": {
     "duration": 33.256998,
     "end_time": "2020-10-18T14:51:55.066779",
     "exception": false,
     "start_time": "2020-10-18T14:51:21.809781",
     "status": "completed"
    },
    "tags": []
   },
   "outputs": [],
   "source": [
    "train.drop([\"row_id\", 'user_answer'], axis=1, inplace=True)\n",
    "train['prior_question_had_explanation'] = train['prior_question_had_explanation'].fillna(value = False).astype(bool)\n",
    "\n",
    "user_answers_df = train.groupby('user_id').agg({'answered_correctly': ['mean']}).copy()\n",
    "user_answers_df.columns = [\"correct_rate_before_ans\"]\n",
    "\n",
    "user_lectures_df = train.groupby('user_id').agg({'content_id': ['sum']}).copy()\n",
    "user_lectures_df.columns = [\"lectures_before_ans\"]\n",
    "\n",
    "#content_answers_df = train.groupby('content_id').agg({'answered_correctly': ['mean']}).copy()\n",
    "#content_answers_df.columns = ['mean_accuracy_by_content']"
   ]
  },
  {
   "cell_type": "code",
   "execution_count": 4,
   "metadata": {
    "execution": {
     "iopub.execute_input": "2020-10-18T14:51:55.110800Z",
     "iopub.status.busy": "2020-10-18T14:51:55.109072Z",
     "iopub.status.idle": "2020-10-18T14:52:00.447173Z",
     "shell.execute_reply": "2020-10-18T14:52:00.446227Z"
    },
    "papermill": {
     "duration": 5.363166,
     "end_time": "2020-10-18T14:52:00.447361",
     "exception": false,
     "start_time": "2020-10-18T14:51:55.084195",
     "status": "completed"
    },
    "tags": []
   },
   "outputs": [],
   "source": [
    "le = preprocessing.LabelEncoder()\n",
    "train[\"prior_question_had_explanation\"] = le.fit_transform(train[\"prior_question_had_explanation\"])"
   ]
  },
  {
   "cell_type": "code",
   "execution_count": 5,
   "metadata": {
    "execution": {
     "iopub.execute_input": "2020-10-18T14:52:00.488649Z",
     "iopub.status.busy": "2020-10-18T14:52:00.487503Z",
     "iopub.status.idle": "2020-10-18T14:52:00.491018Z",
     "shell.execute_reply": "2020-10-18T14:52:00.490187Z"
    },
    "papermill": {
     "duration": 0.025131,
     "end_time": "2020-10-18T14:52:00.491150",
     "exception": false,
     "start_time": "2020-10-18T14:52:00.466019",
     "status": "completed"
    },
    "tags": []
   },
   "outputs": [],
   "source": [
    "# to get first index of a particular user\n",
    "#for i in train.groupby(\"user_id\").first().index:\n",
    "#    if i > 90000000:\n",
    "#        print(i)\n",
    "#        break"
   ]
  },
  {
   "cell_type": "code",
   "execution_count": 6,
   "metadata": {
    "execution": {
     "iopub.execute_input": "2020-10-18T14:52:00.538132Z",
     "iopub.status.busy": "2020-10-18T14:52:00.536615Z",
     "iopub.status.idle": "2020-10-18T14:52:32.326507Z",
     "shell.execute_reply": "2020-10-18T14:52:32.327151Z"
    },
    "papermill": {
     "duration": 31.81766,
     "end_time": "2020-10-18T14:52:32.327339",
     "exception": false,
     "start_time": "2020-10-18T14:52:00.509679",
     "status": "completed"
    },
    "tags": []
   },
   "outputs": [
    {
     "data": {
      "text/html": [
       "<div>\n",
       "<style scoped>\n",
       "    .dataframe tbody tr th:only-of-type {\n",
       "        vertical-align: middle;\n",
       "    }\n",
       "\n",
       "    .dataframe tbody tr th {\n",
       "        vertical-align: top;\n",
       "    }\n",
       "\n",
       "    .dataframe thead th {\n",
       "        text-align: right;\n",
       "    }\n",
       "</style>\n",
       "<table border=\"1\" class=\"dataframe\">\n",
       "  <thead>\n",
       "    <tr style=\"text-align: right;\">\n",
       "      <th></th>\n",
       "      <th>timestamp</th>\n",
       "      <th>user_id</th>\n",
       "      <th>content_id</th>\n",
       "      <th>content_type_id</th>\n",
       "      <th>task_container_id</th>\n",
       "      <th>answered_correctly</th>\n",
       "      <th>prior_question_elapsed_time</th>\n",
       "      <th>prior_question_had_explanation</th>\n",
       "    </tr>\n",
       "  </thead>\n",
       "  <tbody>\n",
       "    <tr>\n",
       "      <th>90007298</th>\n",
       "      <td>0</td>\n",
       "      <td>1911932135</td>\n",
       "      <td>4705</td>\n",
       "      <td>0</td>\n",
       "      <td>0</td>\n",
       "      <td>0</td>\n",
       "      <td>4294967295</td>\n",
       "      <td>0</td>\n",
       "    </tr>\n",
       "    <tr>\n",
       "      <th>90007299</th>\n",
       "      <td>10764</td>\n",
       "      <td>1911932135</td>\n",
       "      <td>4877</td>\n",
       "      <td>0</td>\n",
       "      <td>1</td>\n",
       "      <td>1</td>\n",
       "      <td>39000</td>\n",
       "      <td>0</td>\n",
       "    </tr>\n",
       "    <tr>\n",
       "      <th>90007300</th>\n",
       "      <td>45162</td>\n",
       "      <td>1911932135</td>\n",
       "      <td>3923</td>\n",
       "      <td>0</td>\n",
       "      <td>2</td>\n",
       "      <td>1</td>\n",
       "      <td>5000</td>\n",
       "      <td>0</td>\n",
       "    </tr>\n",
       "    <tr>\n",
       "      <th>90007301</th>\n",
       "      <td>77874</td>\n",
       "      <td>1911932135</td>\n",
       "      <td>3893</td>\n",
       "      <td>0</td>\n",
       "      <td>3</td>\n",
       "      <td>0</td>\n",
       "      <td>31000</td>\n",
       "      <td>0</td>\n",
       "    </tr>\n",
       "    <tr>\n",
       "      <th>90007302</th>\n",
       "      <td>147369</td>\n",
       "      <td>1911932135</td>\n",
       "      <td>6318</td>\n",
       "      <td>0</td>\n",
       "      <td>4</td>\n",
       "      <td>1</td>\n",
       "      <td>30000</td>\n",
       "      <td>0</td>\n",
       "    </tr>\n",
       "    <tr>\n",
       "      <th>90007303</th>\n",
       "      <td>178960</td>\n",
       "      <td>1911932135</td>\n",
       "      <td>4623</td>\n",
       "      <td>0</td>\n",
       "      <td>5</td>\n",
       "      <td>0</td>\n",
       "      <td>67000</td>\n",
       "      <td>0</td>\n",
       "    </tr>\n",
       "    <tr>\n",
       "      <th>90007304</th>\n",
       "      <td>235152</td>\n",
       "      <td>1911932135</td>\n",
       "      <td>5318</td>\n",
       "      <td>0</td>\n",
       "      <td>6</td>\n",
       "      <td>1</td>\n",
       "      <td>29000</td>\n",
       "      <td>0</td>\n",
       "    </tr>\n",
       "    <tr>\n",
       "      <th>90007305</th>\n",
       "      <td>270177</td>\n",
       "      <td>1911932135</td>\n",
       "      <td>8497</td>\n",
       "      <td>0</td>\n",
       "      <td>7</td>\n",
       "      <td>1</td>\n",
       "      <td>54000</td>\n",
       "      <td>0</td>\n",
       "    </tr>\n",
       "    <tr>\n",
       "      <th>90007306</th>\n",
       "      <td>308144</td>\n",
       "      <td>1911932135</td>\n",
       "      <td>6683</td>\n",
       "      <td>0</td>\n",
       "      <td>8</td>\n",
       "      <td>0</td>\n",
       "      <td>33000</td>\n",
       "      <td>0</td>\n",
       "    </tr>\n",
       "    <tr>\n",
       "      <th>90007307</th>\n",
       "      <td>327228</td>\n",
       "      <td>1911932135</td>\n",
       "      <td>4023</td>\n",
       "      <td>0</td>\n",
       "      <td>9</td>\n",
       "      <td>0</td>\n",
       "      <td>35000</td>\n",
       "      <td>0</td>\n",
       "    </tr>\n",
       "  </tbody>\n",
       "</table>\n",
       "</div>"
      ],
      "text/plain": [
       "          timestamp     user_id  content_id  content_type_id  \\\n",
       "90007298          0  1911932135        4705                0   \n",
       "90007299      10764  1911932135        4877                0   \n",
       "90007300      45162  1911932135        3923                0   \n",
       "90007301      77874  1911932135        3893                0   \n",
       "90007302     147369  1911932135        6318                0   \n",
       "90007303     178960  1911932135        4623                0   \n",
       "90007304     235152  1911932135        5318                0   \n",
       "90007305     270177  1911932135        8497                0   \n",
       "90007306     308144  1911932135        6683                0   \n",
       "90007307     327228  1911932135        4023                0   \n",
       "\n",
       "          task_container_id  answered_correctly  prior_question_elapsed_time  \\\n",
       "90007298                  0                   0                   4294967295   \n",
       "90007299                  1                   1                        39000   \n",
       "90007300                  2                   1                         5000   \n",
       "90007301                  3                   0                        31000   \n",
       "90007302                  4                   1                        30000   \n",
       "90007303                  5                   0                        67000   \n",
       "90007304                  6                   1                        29000   \n",
       "90007305                  7                   1                        54000   \n",
       "90007306                  8                   0                        33000   \n",
       "90007307                  9                   0                        35000   \n",
       "\n",
       "          prior_question_had_explanation  \n",
       "90007298                               0  \n",
       "90007299                               0  \n",
       "90007300                               0  \n",
       "90007301                               0  \n",
       "90007302                               0  \n",
       "90007303                               0  \n",
       "90007304                               0  \n",
       "90007305                               0  \n",
       "90007306                               0  \n",
       "90007307                               0  "
      ]
     },
     "execution_count": 6,
     "metadata": {},
     "output_type": "execute_result"
    }
   ],
   "source": [
    "train = train.iloc[90007298:,:]\n",
    "train = train.sort_values(['user_id', 'timestamp'])\n",
    "train['task_container_id'] = (train.groupby('user_id')['task_container_id'].transform(lambda x: pd.factorize(x)[0]).astype('int16'))\n",
    "train.head(10)"
   ]
  },
  {
   "cell_type": "code",
   "execution_count": 7,
   "metadata": {
    "execution": {
     "iopub.execute_input": "2020-10-18T14:52:32.372443Z",
     "iopub.status.busy": "2020-10-18T14:52:32.371569Z",
     "iopub.status.idle": "2020-10-18T14:52:32.462380Z",
     "shell.execute_reply": "2020-10-18T14:52:32.461585Z"
    },
    "papermill": {
     "duration": 0.115704,
     "end_time": "2020-10-18T14:52:32.462518",
     "exception": false,
     "start_time": "2020-10-18T14:52:32.346814",
     "status": "completed"
    },
    "tags": []
   },
   "outputs": [
    {
     "data": {
      "text/plain": [
       "((11223034, 8), 43496)"
      ]
     },
     "execution_count": 7,
     "metadata": {},
     "output_type": "execute_result"
    }
   ],
   "source": [
    "train.shape, len(train.user_id.unique())"
   ]
  },
  {
   "cell_type": "markdown",
   "metadata": {
    "papermill": {
     "duration": 0.018534,
     "end_time": "2020-10-18T14:52:32.499736",
     "exception": false,
     "start_time": "2020-10-18T14:52:32.481202",
     "status": "completed"
    },
    "tags": []
   },
   "source": [
    "# Feature engineering"
   ]
  },
  {
   "cell_type": "code",
   "execution_count": 8,
   "metadata": {
    "execution": {
     "iopub.execute_input": "2020-10-18T14:52:32.561780Z",
     "iopub.status.busy": "2020-10-18T14:52:32.560896Z",
     "iopub.status.idle": "2020-10-18T15:19:02.911307Z",
     "shell.execute_reply": "2020-10-18T15:19:02.910399Z"
    },
    "papermill": {
     "duration": 1590.393115,
     "end_time": "2020-10-18T15:19:02.911499",
     "exception": false,
     "start_time": "2020-10-18T14:52:32.518384",
     "status": "completed"
    },
    "tags": []
   },
   "outputs": [
    {
     "data": {
      "application/vnd.jupyter.widget-view+json": {
       "model_id": "856588f12e0943eab43c399ab4a0c119",
       "version_major": 2,
       "version_minor": 0
      },
      "text/plain": [
       "HBox(children=(FloatProgress(value=0.0, description='user_id', max=43496.0, style=ProgressStyle(description_wi…"
      ]
     },
     "metadata": {},
     "output_type": "display_data"
    },
    {
     "name": "stdout",
     "output_type": "stream",
     "text": [
      "\n"
     ]
    }
   ],
   "source": [
    "def get_data(df, test_set=False):\n",
    "    if test_set == False:\n",
    "        df = df.loc[df['answered_correctly'] != -1].reset_index(drop=True)\n",
    "        \n",
    "        correct_rate = np.array([])\n",
    "        lec_num = np.array([])\n",
    "        for i, (ins_id, user_sample) in tqdm(enumerate(df.groupby('user_id', sort=False)), total=train.user_id.nunique(), desc='user_id', position=0):\n",
    "            cum_correct_num = user_sample[\"answered_correctly\"].cumsum().values\n",
    "            cum_answer_num = [i+1 for i in range(user_sample.shape[0])]\n",
    "            \n",
    "            correct_rate_list = [cum_correct_num[i]/cum_answer_num[i] for i in range(len(cum_answer_num))]\n",
    "            correct_rate_list = [-1] + correct_rate_list[:-1]\n",
    "            correct_rate = np.concatenate([correct_rate, correct_rate_list])\n",
    "            \n",
    "            lec_seq = list(user_sample[\"content_type_id\"].cumsum().values)\n",
    "            lec_list = [-1] + lec_seq[:-1]\n",
    "            lec_num = np.concatenate([lec_num, lec_list])\n",
    "            \n",
    "        df[\"correct_rate_before_ans\"] = correct_rate  \n",
    "        df[\"lectures_before_ans\"] = lec_num\n",
    "    else:\n",
    "        df = df.merge(user_answers_df, how = 'left', on = 'user_id') # for correct_rate_before_ans\n",
    "        df = df.merge(user_lectures_df, how = 'left', on = 'user_id') # for lectures_before_ans\n",
    "        #df = df.merge(content_answers_df, how = 'left', on = 'content_id')\n",
    "\n",
    "    # https://stackoverflow.com/questions/25888207/pandas-join-dataframes-on-field-with-different-names\n",
    "    df = df.merge(questions[[\"question_id\", \"part\"]], how=\"left\", left_on=['content_id'], right_on=['question_id'])\n",
    "    df.drop([\"timestamp\", \"question_id\"], axis=1, inplace=True)\n",
    "    df.fillna(value = -1, inplace = True)\n",
    "    return df\n",
    "train = get_data(train)"
   ]
  },
  {
   "cell_type": "code",
   "execution_count": 9,
   "metadata": {
    "execution": {
     "iopub.execute_input": "2020-10-18T15:19:02.960706Z",
     "iopub.status.busy": "2020-10-18T15:19:02.959865Z",
     "iopub.status.idle": "2020-10-18T15:19:03.206429Z",
     "shell.execute_reply": "2020-10-18T15:19:03.205632Z"
    },
    "papermill": {
     "duration": 0.27486,
     "end_time": "2020-10-18T15:19:03.206560",
     "exception": false,
     "start_time": "2020-10-18T15:19:02.931700",
     "status": "completed"
    },
    "tags": []
   },
   "outputs": [],
   "source": [
    "target = 'answered_correctly'\n",
    "columns = [\"correct_rate_before_ans\", \"lectures_before_ans\", 'content_id', 'task_container_id', 'part'] \n",
    "#'prior_question_had_explanation', 'prior_question_elapsed_time', 'mean_accuracy_by_content'\n",
    "\n",
    "drop_columns = [i for i in train.columns if i not in columns + [target] + [\"user_id\"]] \n",
    "train.drop(drop_columns, axis=1, inplace=True)"
   ]
  },
  {
   "cell_type": "code",
   "execution_count": 10,
   "metadata": {
    "execution": {
     "iopub.execute_input": "2020-10-18T15:19:03.260851Z",
     "iopub.status.busy": "2020-10-18T15:19:03.259701Z",
     "iopub.status.idle": "2020-10-18T15:19:03.264241Z",
     "shell.execute_reply": "2020-10-18T15:19:03.263502Z"
    },
    "papermill": {
     "duration": 0.037911,
     "end_time": "2020-10-18T15:19:03.264386",
     "exception": false,
     "start_time": "2020-10-18T15:19:03.226475",
     "status": "completed"
    },
    "tags": []
   },
   "outputs": [
    {
     "data": {
      "text/html": [
       "<div>\n",
       "<style scoped>\n",
       "    .dataframe tbody tr th:only-of-type {\n",
       "        vertical-align: middle;\n",
       "    }\n",
       "\n",
       "    .dataframe tbody tr th {\n",
       "        vertical-align: top;\n",
       "    }\n",
       "\n",
       "    .dataframe thead th {\n",
       "        text-align: right;\n",
       "    }\n",
       "</style>\n",
       "<table border=\"1\" class=\"dataframe\">\n",
       "  <thead>\n",
       "    <tr style=\"text-align: right;\">\n",
       "      <th></th>\n",
       "      <th>user_id</th>\n",
       "      <th>content_id</th>\n",
       "      <th>task_container_id</th>\n",
       "      <th>answered_correctly</th>\n",
       "      <th>correct_rate_before_ans</th>\n",
       "      <th>lectures_before_ans</th>\n",
       "      <th>part</th>\n",
       "    </tr>\n",
       "  </thead>\n",
       "  <tbody>\n",
       "    <tr>\n",
       "      <th>0</th>\n",
       "      <td>1911932135</td>\n",
       "      <td>4705</td>\n",
       "      <td>0</td>\n",
       "      <td>0</td>\n",
       "      <td>-1.000000</td>\n",
       "      <td>-1.0</td>\n",
       "      <td>5</td>\n",
       "    </tr>\n",
       "    <tr>\n",
       "      <th>1</th>\n",
       "      <td>1911932135</td>\n",
       "      <td>4877</td>\n",
       "      <td>1</td>\n",
       "      <td>1</td>\n",
       "      <td>0.000000</td>\n",
       "      <td>0.0</td>\n",
       "      <td>5</td>\n",
       "    </tr>\n",
       "    <tr>\n",
       "      <th>2</th>\n",
       "      <td>1911932135</td>\n",
       "      <td>3923</td>\n",
       "      <td>2</td>\n",
       "      <td>1</td>\n",
       "      <td>0.500000</td>\n",
       "      <td>0.0</td>\n",
       "      <td>5</td>\n",
       "    </tr>\n",
       "    <tr>\n",
       "      <th>3</th>\n",
       "      <td>1911932135</td>\n",
       "      <td>3893</td>\n",
       "      <td>3</td>\n",
       "      <td>0</td>\n",
       "      <td>0.666667</td>\n",
       "      <td>0.0</td>\n",
       "      <td>5</td>\n",
       "    </tr>\n",
       "    <tr>\n",
       "      <th>4</th>\n",
       "      <td>1911932135</td>\n",
       "      <td>6318</td>\n",
       "      <td>4</td>\n",
       "      <td>1</td>\n",
       "      <td>0.500000</td>\n",
       "      <td>0.0</td>\n",
       "      <td>5</td>\n",
       "    </tr>\n",
       "  </tbody>\n",
       "</table>\n",
       "</div>"
      ],
      "text/plain": [
       "      user_id  content_id  task_container_id  answered_correctly  \\\n",
       "0  1911932135        4705                  0                   0   \n",
       "1  1911932135        4877                  1                   1   \n",
       "2  1911932135        3923                  2                   1   \n",
       "3  1911932135        3893                  3                   0   \n",
       "4  1911932135        6318                  4                   1   \n",
       "\n",
       "   correct_rate_before_ans  lectures_before_ans  part  \n",
       "0                -1.000000                 -1.0     5  \n",
       "1                 0.000000                  0.0     5  \n",
       "2                 0.500000                  0.0     5  \n",
       "3                 0.666667                  0.0     5  \n",
       "4                 0.500000                  0.0     5  "
      ]
     },
     "execution_count": 10,
     "metadata": {},
     "output_type": "execute_result"
    }
   ],
   "source": [
    "train.head()"
   ]
  },
  {
   "cell_type": "markdown",
   "metadata": {
    "papermill": {
     "duration": 0.020046,
     "end_time": "2020-10-18T15:19:03.305716",
     "exception": false,
     "start_time": "2020-10-18T15:19:03.285670",
     "status": "completed"
    },
    "tags": []
   },
   "source": [
    "# modelling"
   ]
  },
  {
   "cell_type": "code",
   "execution_count": 11,
   "metadata": {
    "execution": {
     "iopub.execute_input": "2020-10-18T15:19:03.368319Z",
     "iopub.status.busy": "2020-10-18T15:19:03.367317Z",
     "iopub.status.idle": "2020-10-18T15:19:03.370730Z",
     "shell.execute_reply": "2020-10-18T15:19:03.369969Z"
    },
    "papermill": {
     "duration": 0.044722,
     "end_time": "2020-10-18T15:19:03.370858",
     "exception": false,
     "start_time": "2020-10-18T15:19:03.326136",
     "status": "completed"
    },
    "tags": []
   },
   "outputs": [],
   "source": [
    "def stratified_group_k_fold(X, y, groups, k, seed=None):\n",
    "    labels_num = np.max(y) + 1\n",
    "    y_counts_per_group = defaultdict(lambda: np.zeros(labels_num))\n",
    "    y_distr = Counter()\n",
    "    for label, g in zip(y, groups):\n",
    "        y_counts_per_group[g][label] += 1\n",
    "        y_distr[label] += 1\n",
    "\n",
    "    y_counts_per_fold = defaultdict(lambda: np.zeros(labels_num))\n",
    "    groups_per_fold = defaultdict(set)\n",
    "\n",
    "    def eval_y_counts_per_fold(y_counts, fold):\n",
    "        y_counts_per_fold[fold] += y_counts\n",
    "        std_per_label = []\n",
    "        for label in range(labels_num):\n",
    "            label_std = np.std([y_counts_per_fold[i][label] / y_distr[label] for i in range(k)])\n",
    "            std_per_label.append(label_std)\n",
    "        y_counts_per_fold[fold] -= y_counts\n",
    "        return np.mean(std_per_label)\n",
    "    \n",
    "    groups_and_y_counts = list(y_counts_per_group.items())\n",
    "    random.Random(seed).shuffle(groups_and_y_counts)\n",
    "\n",
    "    for g, y_counts in sorted(groups_and_y_counts, key=lambda x: -np.std(x[1])):\n",
    "        best_fold = None\n",
    "        min_eval = None\n",
    "        for i in range(k):\n",
    "            fold_eval = eval_y_counts_per_fold(y_counts, i)\n",
    "            if min_eval is None or fold_eval < min_eval:\n",
    "                min_eval = fold_eval\n",
    "                best_fold = i\n",
    "        y_counts_per_fold[best_fold] += y_counts\n",
    "        groups_per_fold[best_fold].add(g)\n",
    "\n",
    "    all_groups = set(groups)\n",
    "    for i in range(k):\n",
    "        train_groups = all_groups - groups_per_fold[i]\n",
    "        test_groups = groups_per_fold[i]\n",
    "\n",
    "        train_indices = [i for i, g in enumerate(groups) if g in train_groups]\n",
    "        test_indices = [i for i, g in enumerate(groups) if g in test_groups]\n",
    "\n",
    "        yield train_indices, test_indices"
   ]
  },
  {
   "cell_type": "code",
   "execution_count": 12,
   "metadata": {
    "execution": {
     "iopub.execute_input": "2020-10-18T15:19:03.503179Z",
     "iopub.status.busy": "2020-10-18T15:19:03.500800Z",
     "iopub.status.idle": "2020-10-18T15:23:59.621261Z",
     "shell.execute_reply": "2020-10-18T15:23:59.620341Z"
    },
    "papermill": {
     "duration": 296.229738,
     "end_time": "2020-10-18T15:23:59.621457",
     "exception": false,
     "start_time": "2020-10-18T15:19:03.391719",
     "status": "completed"
    },
    "tags": []
   },
   "outputs": [
    {
     "name": "stdout",
     "output_type": "stream",
     "text": [
      "Fold 1\n",
      "Training until validation scores don't improve for 10 rounds\n",
      "[10]\ttraining's auc: 0.674395\tvalid_1's auc: 0.701138\n",
      "Early stopping, best iteration is:\n",
      "[6]\ttraining's auc: 0.670791\tvalid_1's auc: 0.702173\n",
      "Fold 2\n",
      "Training until validation scores don't improve for 10 rounds\n",
      "[10]\ttraining's auc: 0.67621\tvalid_1's auc: 0.699281\n",
      "Early stopping, best iteration is:\n",
      "[6]\ttraining's auc: 0.673075\tvalid_1's auc: 0.703625\n",
      "Fold 3\n",
      "Training until validation scores don't improve for 10 rounds\n",
      "[10]\ttraining's auc: 0.676657\tvalid_1's auc: 0.696562\n",
      "[20]\ttraining's auc: 0.680578\tvalid_1's auc: 0.696498\n",
      "Early stopping, best iteration is:\n",
      "[14]\ttraining's auc: 0.677722\tvalid_1's auc: 0.697542\n",
      "Fold 4\n",
      "Training until validation scores don't improve for 10 rounds\n",
      "[10]\ttraining's auc: 0.676347\tvalid_1's auc: 0.701001\n",
      "[20]\ttraining's auc: 0.680045\tvalid_1's auc: 0.701235\n",
      "Early stopping, best iteration is:\n",
      "[14]\ttraining's auc: 0.677954\tvalid_1's auc: 0.701292\n",
      "Fold 5\n",
      "Training until validation scores don't improve for 10 rounds\n",
      "[10]\ttraining's auc: 0.675248\tvalid_1's auc: 0.699616\n",
      "[20]\ttraining's auc: 0.679694\tvalid_1's auc: 0.700063\n",
      "Early stopping, best iteration is:\n",
      "[13]\ttraining's auc: 0.676566\tvalid_1's auc: 0.701285\n",
      "Overall ROC AUC:  0.6880885425694913\n"
     ]
    }
   ],
   "source": [
    "categoricals = [\"content_id\", \"part\"]\n",
    "params = {'objective': 'binary', \"metric\": 'auc','eval_metric':'auc', 'boosting_type': 'gbdt', 'tree_learner': 'serial', 'learning_rate': 0.01, \n",
    "               \"num_leaves\": 50, 'random_seed':44, 'max_depth': 10} \n",
    "n_folds=5\n",
    "\n",
    "def modelling_lgb(X_train, y_train):\n",
    "    groups = np.array(X_train.user_id.values)\n",
    "    \n",
    "    models = []\n",
    "    valid = np.array([])\n",
    "    real = np.array([])\n",
    "    #valid = np.zeros([X_train.shape[0]])\n",
    "        \n",
    "    features_list = [i for i in X_train.columns if i != \"user_id\"]\n",
    "    feature_importance_df = pd.DataFrame(features_list, columns=[\"Feature\"])\n",
    "    \n",
    "    for i , (train_index, test_index) in enumerate(stratified_group_k_fold(X_train, y_train, groups, k=n_folds, seed=0)):\n",
    "        print(\"Fold {}\".format(i+1))\n",
    "        X_train2 = X_train.iloc[train_index,:]\n",
    "        y_train2 = y_train.iloc[train_index]\n",
    "        X_train2.drop(\"user_id\", axis=1, inplace=True)\n",
    "\n",
    "        X_valid2 = X_train.iloc[test_index,:]\n",
    "        \n",
    "        # https://stackoverflow.com/questions/15705630/get-the-rows-which-have-the-max-count-in-groups-using-groupby\n",
    "        max_idx = X_valid2.groupby(['user_id'])['task_container_id'].transform(max) == X_valid2['task_container_id']\n",
    "        min_idx = X_valid2.groupby(['user_id'])['task_container_id'].transform(min) == X_valid2['task_container_id']\n",
    "        X_valid2 = X_valid2[max_idx|min_idx]\n",
    "        \n",
    "        y_valid2 = y_train.iloc[test_index]\n",
    "        y_valid2 = y_valid2[max_idx|min_idx]\n",
    "        X_valid2.drop(\"user_id\", axis=1, inplace=True)\n",
    "\n",
    "        lgb_train = lgb.Dataset(X_train2, y_train2)\n",
    "        lgb_eval = lgb.Dataset(X_valid2, y_valid2, reference=lgb_train)\n",
    "        \n",
    "        clf = lgb.train(params, lgb_train,valid_sets=[lgb_train, lgb_eval], \n",
    "               num_boost_round=200,early_stopping_rounds=10,verbose_eval = 10, categorical_feature=categoricals) \n",
    "        feature_importance_df[\"Fold_\"+str(i+1)] = clf.feature_importance()\n",
    "\n",
    "        valid_predict = clf.predict(X_valid2, num_iteration = clf.best_iteration)\n",
    "        \n",
    "        valid = np.concatenate([valid, valid_predict])\n",
    "        real = np.concatenate([real, y_valid2])\n",
    "        #valid[test_index] = valid_predict\n",
    "        \n",
    "        models.append(clf) \n",
    "        \n",
    "    feature_importance_df[\"Average\"] = np.mean(feature_importance_df.iloc[:,1:n_folds+1], axis=1)\n",
    "    feature_importance_df[\"Std\"] = np.std(feature_importance_df.iloc[:,1:n_folds+1], axis=1)\n",
    "    feature_importance_df[\"Cv\"] = feature_importance_df[\"Std\"] / feature_importance_df[\"Average\"]\n",
    "    feature_importance_df = feature_importance_df.sort_values(\"Average\", ascending=False).reset_index(drop=True)\n",
    "            \n",
    "    score = roc_auc_score(real, valid) #y_valid\n",
    "    print(\"Overall ROC AUC: \", score)\n",
    "        \n",
    "    return models, feature_importance_df\n",
    "models, feature_importance_df = modelling_lgb(train[columns + [\"user_id\"]], train[target])"
   ]
  },
  {
   "cell_type": "code",
   "execution_count": 13,
   "metadata": {
    "execution": {
     "iopub.execute_input": "2020-10-18T15:23:59.695364Z",
     "iopub.status.busy": "2020-10-18T15:23:59.694346Z",
     "iopub.status.idle": "2020-10-18T15:23:59.928833Z",
     "shell.execute_reply": "2020-10-18T15:23:59.927864Z"
    },
    "papermill": {
     "duration": 0.275469,
     "end_time": "2020-10-18T15:23:59.928989",
     "exception": false,
     "start_time": "2020-10-18T15:23:59.653520",
     "status": "completed"
    },
    "tags": []
   },
   "outputs": [
    {
     "data": {
      "image/png": "[encoded data removed]",
      "text/plain": [
       "<Figure size 720x360 with 1 Axes>"
      ]
     },
     "metadata": {
      "needs_background": "light"
     },
     "output_type": "display_data"
    }
   ],
   "source": [
    "plt.rcParams.update({'font.size': 20})\n",
    "x = list(feature_importance_df[\"Feature\"].values)\n",
    "y = feature_importance_df[\"Average\"].values\n",
    "\n",
    "x_position = np.arange(len(x))\n",
    "\n",
    "fig = plt.figure(figsize=(10,5))\n",
    "ax = fig.add_subplot(1, 1, 1)\n",
    "ax.barh(x_position, y, tick_label=x)\n",
    "ax.set_ylabel('feature')\n",
    "ax.set_xlabel('feature importance')\n",
    "plt.show()"
   ]
  },
  {
   "cell_type": "markdown",
   "metadata": {
    "papermill": {
     "duration": 0.045379,
     "end_time": "2020-10-18T15:24:00.008862",
     "exception": false,
     "start_time": "2020-10-18T15:23:59.963483",
     "status": "completed"
    },
    "tags": []
   },
   "source": [
    "# prediction"
   ]
  },
  {
   "cell_type": "code",
   "execution_count": 14,
   "metadata": {
    "execution": {
     "iopub.execute_input": "2020-10-18T15:24:00.088359Z",
     "iopub.status.busy": "2020-10-18T15:24:00.087083Z",
     "iopub.status.idle": "2020-10-18T15:24:00.091519Z",
     "shell.execute_reply": "2020-10-18T15:24:00.090764Z"
    },
    "papermill": {
     "duration": 0.04277,
     "end_time": "2020-10-18T15:24:00.091657",
     "exception": false,
     "start_time": "2020-10-18T15:24:00.048887",
     "status": "completed"
    },
    "tags": []
   },
   "outputs": [],
   "source": [
    "del train"
   ]
  },
  {
   "cell_type": "code",
   "execution_count": 15,
   "metadata": {
    "execution": {
     "iopub.execute_input": "2020-10-18T15:24:00.170322Z",
     "iopub.status.busy": "2020-10-18T15:24:00.168952Z",
     "iopub.status.idle": "2020-10-18T15:24:01.503493Z",
     "shell.execute_reply": "2020-10-18T15:24:01.504339Z"
    },
    "papermill": {
     "duration": 1.37816,
     "end_time": "2020-10-18T15:24:01.504531",
     "exception": false,
     "start_time": "2020-10-18T15:24:00.126371",
     "status": "completed"
    },
    "tags": []
   },
   "outputs": [],
   "source": [
    "env = riiideducation.make_env()\n",
    "iter_test = env.iter_test()\n",
    "\n",
    "for (test_df, sample_prediction_df) in iter_test:\n",
    "    y_preds = []\n",
    "\n",
    "    test_df['prior_question_had_explanation'] = test_df['prior_question_had_explanation'].fillna(value = False).astype(bool)\n",
    "    test_df = get_data(test_df, test_set=True)\n",
    "    test_df[\"prior_question_had_explanation\"] = le.fit_transform(test_df[\"prior_question_had_explanation\"])\n",
    "\n",
    "    for model in models:\n",
    "        y_pred = model.predict(test_df[columns], num_iteration=model.best_iteration)\n",
    "        y_preds.append(y_pred)\n",
    "\n",
    "    y_preds = sum(y_preds) / len(y_preds)\n",
    "    test_df['answered_correctly'] = y_preds\n",
    "    env.predict(test_df.loc[test_df['content_type_id'] == 0, ['row_id', 'answered_correctly']])"
   ]
  },
  {
   "cell_type": "code",
   "execution_count": null,
   "metadata": {
    "papermill": {
     "duration": 0.037157,
     "end_time": "2020-10-18T15:24:01.579489",
     "exception": false,
     "start_time": "2020-10-18T15:24:01.542332",
     "status": "completed"
    },
    "tags": []
   },
   "outputs": [],
   "source": []
  }
 ],
 "metadata": {
  "kernelspec": {
   "display_name": "Python 3",
   "language": "python",
   "name": "python3"
  },
  "language_info": {
   "codemirror_mode": {
    "name": "ipython",
    "version": 3
   },
   "file_extension": ".py",
   "mimetype": "text/x-python",
   "name": "python",
   "nbconvert_exporter": "python",
   "pygments_lexer": "ipython3",
   "version": "3.7.6"
  },
  "papermill": {
   "duration": 1997.918184,
   "end_time": "2020-10-18T15:24:01.731447",
   "environment_variables": {},
   "exception": null,
   "input_path": "__notebook__.ipynb",
   "output_path": "__notebook__.ipynb",
   "parameters": {},
   "start_time": "2020-10-18T14:50:43.813263",
   "version": "2.1.0"
  },
  "widgets": {
   "application/vnd.jupyter.widget-state+json": {
    "state": {
     "0b4344ff5ba5432b80be639c626890e8": {
      "model_module": "@jupyter-widgets/controls",
      "model_module_version": "1.5.0",
      "model_name": "HTMLModel",
      "state": {
       "_dom_classes": [],
       "_model_module": "@jupyter-widgets/controls",
       "_model_module_version": "1.5.0",
       "_model_name": "HTMLModel",
       "_view_count": null,
       "_view_module": "@jupyter-widgets/controls",
       "_view_module_version": "1.5.0",
       "_view_name": "HTMLView",
       "description": "",
       "description_tooltip": null,
       "layout": "IPY_MODEL_aedc1d5a537641d2866fecadecdc0ec6",
       "placeholder": "​",
       "style": "IPY_MODEL_cc3fd04ee0b4477587493e6101b37972",
       "value": " 43496/43496 [26:55&lt;00:00, 26.92it/s]"
      }
     },
     "2408b2dcae84477383650b1298089b63": {
      "model_module": "@jupyter-widgets/base",
      "model_module_version": "1.2.0",
      "model_name": "LayoutModel",
      "state": {
       "_model_module": "@jupyter-widgets/base",
       "_model_module_version": "1.2.0",
       "_model_name": "LayoutModel",
       "_view_count": null,
       "_view_module": "@jupyter-widgets/base",
       "_view_module_version": "1.2.0",
       "_view_name": "LayoutView",
       "align_content": null,
       "align_items": null,
       "align_self": null,
       "border": null,
       "bottom": null,
       "display": null,
       "flex": null,
       "flex_flow": null,
       "grid_area": null,
       "grid_auto_columns": null,
       "grid_auto_flow": null,
       "grid_auto_rows": null,
       "grid_column": null,
       "grid_gap": null,
       "grid_row": null,
       "grid_template_areas": null,
       "grid_template_columns": null,
       "grid_template_rows": null,
       "height": null,
       "justify_content": null,
       "justify_items": null,
       "left": null,
       "margin": null,
       "max_height": null,
       "max_width": null,
       "min_height": null,
       "min_width": null,
       "object_fit": null,
       "object_position": null,
       "order": null,
       "overflow": null,
       "overflow_x": null,
       "overflow_y": null,
       "padding": null,
       "right": null,
       "top": null,
       "visibility": null,
       "width": null
      }
     },
     "4507744b08204a71901144e70b0fe354": {
      "model_module": "@jupyter-widgets/controls",
      "model_module_version": "1.5.0",
      "model_name": "FloatProgressModel",
      "state": {
       "_dom_classes": [],
       "_model_module": "@jupyter-widgets/controls",
       "_model_module_version": "1.5.0",
       "_model_name": "FloatProgressModel",
       "_view_count": null,
       "_view_module": "@jupyter-widgets/controls",
       "_view_module_version": "1.5.0",
       "_view_name": "ProgressView",
       "bar_style": "success",
       "description": "user_id: 100%",
       "description_tooltip": null,
       "layout": "IPY_MODEL_b690083353b142e28b59659360865c4e",
       "max": 43496.0,
       "min": 0.0,
       "orientation": "horizontal",
       "style": "IPY_MODEL_6cd63b3fd80c432584c76c393bcb24ee",
       "value": 43496.0
      }
     },
     "6cd63b3fd80c432584c76c393bcb24ee": {
      "model_module": "@jupyter-widgets/controls",
      "model_module_version": "1.5.0",
      "model_name": "ProgressStyleModel",
      "state": {
       "_model_module": "@jupyter-widgets/controls",
       "_model_module_version": "1.5.0",
       "_model_name": "ProgressStyleModel",
       "_view_count": null,
       "_view_module": "@jupyter-widgets/base",
       "_view_module_version": "1.2.0",
       "_view_name": "StyleView",
       "bar_color": null,
       "description_width": "initial"
      }
     },
     "856588f12e0943eab43c399ab4a0c119": {
      "model_module": "@jupyter-widgets/controls",
      "model_module_version": "1.5.0",
      "model_name": "HBoxModel",
      "state": {
       "_dom_classes": [],
       "_model_module": "@jupyter-widgets/controls",
       "_model_module_version": "1.5.0",
       "_model_name": "HBoxModel",
       "_view_count": null,
       "_view_module": "@jupyter-widgets/controls",
       "_view_module_version": "1.5.0",
       "_view_name": "HBoxView",
       "box_style": "",
       "children": [
        "IPY_MODEL_4507744b08204a71901144e70b0fe354",
        "IPY_MODEL_0b4344ff5ba5432b80be639c626890e8"
       ],
       "layout": "IPY_MODEL_2408b2dcae84477383650b1298089b63"
      }
     },
     "aedc1d5a537641d2866fecadecdc0ec6": {
      "model_module": "@jupyter-widgets/base",
      "model_module_version": "1.2.0",
      "model_name": "LayoutModel",
      "state": {
       "_model_module": "@jupyter-widgets/base",
       "_model_module_version": "1.2.0",
       "_model_name": "LayoutModel",
       "_view_count": null,
       "_view_module": "@jupyter-widgets/base",
       "_view_module_version": "1.2.0",
       "_view_name": "LayoutView",
       "align_content": null,
       "align_items": null,
       "align_self": null,
       "border": null,
       "bottom": null,
       "display": null,
       "flex": null,
       "flex_flow": null,
       "grid_area": null,
       "grid_auto_columns": null,
       "grid_auto_flow": null,
       "grid_auto_rows": null,
       "grid_column": null,
       "grid_gap": null,
       "grid_row": null,
       "grid_template_areas": null,
       "grid_template_columns": null,
       "grid_template_rows": null,
       "height": null,
       "justify_content": null,
       "justify_items": null,
       "left": null,
       "margin": null,
       "max_height": null,
       "max_width": null,
       "min_height": null,
       "min_width": null,
       "object_fit": null,
       "object_position": null,
       "order": null,
       "overflow": null,
       "overflow_x": null,
       "overflow_y": null,
       "padding": null,
       "right": null,
       "top": null,
       "visibility": null,
       "width": null
      }
     },
     "b690083353b142e28b59659360865c4e": {
      "model_module": "@jupyter-widgets/base",
      "model_module_version": "1.2.0",
      "model_name": "LayoutModel",
      "state": {
       "_model_module": "@jupyter-widgets/base",
       "_model_module_version": "1.2.0",
       "_model_name": "LayoutModel",
       "_view_count": null,
       "_view_module": "@jupyter-widgets/base",
       "_view_module_version": "1.2.0",
       "_view_name": "LayoutView",
       "align_content": null,
       "align_items": null,
       "align_self": null,
       "border": null,
       "bottom": null,
       "display": null,
       "flex": null,
       "flex_flow": null,
       "grid_area": null,
       "grid_auto_columns": null,
       "grid_auto_flow": null,
       "grid_auto_rows": null,
       "grid_column": null,
       "grid_gap": null,
       "grid_row": null,
       "grid_template_areas": null,
       "grid_template_columns": null,
       "grid_template_rows": null,
       "height": null,
       "justify_content": null,
       "justify_items": null,
       "left": null,
       "margin": null,
       "max_height": null,
       "max_width": null,
       "min_height": null,
       "min_width": null,
       "object_fit": null,
       "object_position": null,
       "order": null,
       "overflow": null,
       "overflow_x": null,
       "overflow_y": null,
       "padding": null,
       "right": null,
       "top": null,
       "visibility": null,
       "width": null
      }
     },
     "cc3fd04ee0b4477587493e6101b37972": {
      "model_module": "@jupyter-widgets/controls",
      "model_module_version": "1.5.0",
      "model_name": "DescriptionStyleModel",
      "state": {
       "_model_module": "@jupyter-widgets/controls",
       "_model_module_version": "1.5.0",
       "_model_name": "DescriptionStyleModel",
       "_view_count": null,
       "_view_module": "@jupyter-widgets/base",
       "_view_module_version": "1.2.0",
       "_view_name": "StyleView",
       "description_width": ""
      }
     }
    },
    "version_major": 2,
    "version_minor": 0
   }
  }
 },
 "nbformat": 4,
 "nbformat_minor": 4
}
