{
 "cells": [
  {
   "cell_type": "markdown",
   "metadata": {
    "papermill": {
     "duration": 0.020748,
     "end_time": "2020-12-26T14:10:03.663382",
     "exception": false,
     "start_time": "2020-12-26T14:10:03.642634",
     "status": "completed"
    },
    "tags": []
   },
   "source": [
    "- feature engineering by bundle"
   ]
  },
  {
   "cell_type": "code",
   "execution_count": 1,
   "metadata": {
    "_cell_guid": "b1076dfc-b9ad-4769-8c92-a6c4dae69d19",
    "_uuid": "8f2839f25d086af736a60e9eeb907d3b93b6e0e5",
    "execution": {
     "iopub.execute_input": "2020-12-26T14:10:03.701076Z",
     "iopub.status.busy": "2020-12-26T14:10:03.700274Z",
     "iopub.status.idle": "2020-12-26T14:10:34.751988Z",
     "shell.execute_reply": "2020-12-26T14:10:34.751187Z"
    },
    "papermill": {
     "duration": 31.071992,
     "end_time": "2020-12-26T14:10:34.752140",
     "exception": false,
     "start_time": "2020-12-26T14:10:03.680148",
     "status": "completed"
    },
    "tags": []
   },
   "outputs": [],
   "source": [
    "!pip install ../input/python-datatable/datatable-0.11.0-cp37-cp37m-manylinux2010_x86_64.whl > /dev/null 2>&1"
   ]
  },
  {
   "cell_type": "code",
   "execution_count": 2,
   "metadata": {
    "_cell_guid": "79c7e3d0-c299-4dcb-8224-4455121ee9b0",
    "_uuid": "d629ff2d2480ee46fbb7e2d37f6b5fab8052498a",
    "execution": {
     "iopub.execute_input": "2020-12-26T14:10:34.798889Z",
     "iopub.status.busy": "2020-12-26T14:10:34.798147Z",
     "iopub.status.idle": "2020-12-26T14:10:37.068172Z",
     "shell.execute_reply": "2020-12-26T14:10:37.067458Z"
    },
    "papermill": {
     "duration": 2.298641,
     "end_time": "2020-12-26T14:10:37.068338",
     "exception": false,
     "start_time": "2020-12-26T14:10:34.769697",
     "status": "completed"
    },
    "tags": []
   },
   "outputs": [
    {
     "data": {
      "text/html": [
       "<style type='text/css'>\n",
       ".datatable table.frame { margin-bottom: 0; }\n",
       ".datatable table.frame thead { border-bottom: none; }\n",
       ".datatable table.frame tr.coltypes td {  color: #FFFFFF;  line-height: 6px;  padding: 0 0.5em;}\n",
       ".datatable .bool    { background: #DDDD99; }\n",
       ".datatable .object  { background: #565656; }\n",
       ".datatable .int     { background: #5D9E5D; }\n",
       ".datatable .float   { background: #4040CC; }\n",
       ".datatable .str     { background: #CC4040; }\n",
       ".datatable .row_index {  background: var(--jp-border-color3);  border-right: 1px solid var(--jp-border-color0);  color: var(--jp-ui-font-color3);  font-size: 9px;}\n",
       ".datatable .frame tr.coltypes .row_index {  background: var(--jp-border-color0);}\n",
       ".datatable th:nth-child(2) { padding-left: 12px; }\n",
       ".datatable .hellipsis {  color: var(--jp-cell-editor-border-color);}\n",
       ".datatable .vellipsis {  background: var(--jp-layout-color0);  color: var(--jp-cell-editor-border-color);}\n",
       ".datatable .na {  color: var(--jp-cell-editor-border-color);  font-size: 80%;}\n",
       ".datatable .footer { font-size: 9px; }\n",
       ".datatable .frame_dimensions {  background: var(--jp-border-color3);  border-top: 1px solid var(--jp-border-color0);  color: var(--jp-ui-font-color3);  display: inline-block;  opacity: 0.6;  padding: 1px 10px 1px 5px;}\n",
       ".datatable .frame thead tr.colnames {  background-image: url('data:image/png;base64,iVBORw0KGgoAAAANSUhEUgAAABwAAAA4CAYAAADuMJi0AAAGR0lEQVR42rVZ21IbRxBtCbQrkIR2dQVjsLmDLBsET3nTQ8ouYRkQVf6e/E9+Im958qMfkgoXAaKSSj6C9Jnd2R2NeiRSRaZqitVOT5+Z6dNnWoKGlN94JFp8Ipofkb/7SOXjGyp8wF+z35K3f0uUp/GW4XfLQ8v2gefj3ZCCzojoNfue+43o1Q3l3xB/yA3JO7jnF2pCLnI+pNyx/qw7L+SQ7T2N9p2f8c60QcfcK6KGXsAd+ZvA4LlZYuSSAoOhMs5vwJkEGDlbPMaJoA+FcQ0IH38QLWkbAFLkOOhoMF5tU6/eBRhNjro0ZgKiPRAt3FLhCO/vqdgmNTm32LkmKpvBmQY4q5uAaAgbwDBG2BVv3bfI8KKAMWj2kfw9+pkZREIbEql4ST1x7hgHIANkbJ//MF8mAH/ilTCJ2tIi4ASr1IC3VNqXHKOxjy34mgoImnOQtx1g81fkqTiMOBVGcTogNhiT5iBHET8R8C+iApJUmgim3SQAXhsLQz7ee2G8gOAQNtJckBEplADiAxtX+G9NmhDl0qJKnTvyWlAMPYZnvIviGXRg6/Dh824DBXhP/tbfREXJEIvQ+aaPGjG7pvw6r3xdx+9hqb4dgZaP2XmdHO2K/B0c1+oUph6k8kShBryl/Ft0DYgjTlOieOACHFFpVyUl72T9V3cM1jUoYvxIC2vpCSys/ck70mDYuYvdvKjlMdKAUThneWVU1aAsyjv6PURDiwNsHGBZzY+JtAAgE2TFxdRHJdyIp/f+zqu09M5cDP2F08Ukkpj4YNSdX950HY2pNCCUK/Hhx5ZMBfjNSEzdsIihVzzAMdn9dz4eDYhnyQb9SSCiAryiJcQk82LiTbJ4x2FZJaUenpKnzP95WyDf4Y+QN9EFHHSeDLGdBjjKNQ5vKHf4XMA7KrY0y0GEObBOO/8e1ywuQExOHXktuQyJALEBpcEqhwtHqgiDuCK5b6i0p2MQpcckIIoh+6hYgTZtO8xlMi6O4tKCF/kOGHEg/W0UUpHW0ZoGNZ1ExZWcn7EErgwt4uj50E/sFBjXXIayWvh7WryjasxarZKssXon0zxvvkc32Q0bqbBCuZiKt9dWFysfQefeL29JYFaeztX6tePaZdz5mYx8+6Zq3Mk0wXECQxlhdzgS2wjBHju3j1RIgKyOMdNUE8X0+RAdbSapS11MRCv1SzUXmO6wGZe2SQYrv2MvCSWEv2VODE6DN7bz8ufypgQKW7uQskFTQHULLKyaEyrnlZbgOGLrV5qrn9U79jjm2HJmgkaVN98AfBub91lGPLZBqdroN5LYgjSu4zYZDDHXZOIPC691HqrWI1900I8qLzgKP4ft8DxEWigprPfrO+KcXno9gZz4jjGewWdUcpGCj0qVFuGPYbl2VturndZ2qRvlL8acDO6lF/DY/VjsFesiUK+ypJ+r/ep+cJkSQxEK4PG4WozgA75TYrDDqStE69K8/mzGEM+JXTeqvmedEElMmwCMm2SLd6bNNF9su02zEtoW6nAQtpMj5Gd7fKa//wqonF7UdtHFsVn+6hf1o7AfriPH7M6EeIUEF5zKVxXbYo7kS/OEtOqDYZKPoBsETIixn0uYrasThmzDkhdKPkz2EnaX0HdQbIgr59vAdGYDqjHrxkjS7WOxkTD8sqEqhiwcJETgBYigrBqF08KyDaje9SZ/I1A7MzaTzMGDEulPtZUkuKcyIRAjxEJPVrnVlb/9wkfij31D/pQt1IN+iL8bGJcstBIO7Y5VI/cwDqURbXhMuJxBqD0KLoK3esWFs0Jz5i5ZvJUAfFJMFb9XmGIOnzGpijpcWYCaMqXSQWp8EnCABepQ0Elyi4wfKfsw78ikIqif1pe1AGPlLmojl1SKxHHXp1L+Ut7AmDQHvhI5xHGi4EooO2BR7k78PEkJOdL7cAxQUZ/Tyclu9gnfwGgOmm2lNHGNmZXsq4Pqgc1EG1ATrvKl8s4R9ywwnqulGUnaRLVhxy8v3ieUwy2hbooT68uscW++DCDH0WSzuoyN2D4LUJ/tLECbcSKznwMIFs0ChF4mRTCnQbIIfk4SHJo6A9BMuTnXTs3Ku/KxsgZWqzuSe+Os8cEUfnMBY6UF5gi3SUbd5K7vDjq5WW0UENJlRsWn4sy21Er/E/AvPQSFHy1p4fgAAAAASUVORK5CYII=');  background-repeat: repeat-x;  background-size: 14px;  height: 28px;}\n",
       "</style>\n"
      ],
      "text/plain": [
       "<IPython.core.display.HTML object>"
      ]
     },
     "metadata": {},
     "output_type": "display_data"
    },
    {
     "name": "stderr",
     "output_type": "stream",
     "text": [
      "/opt/conda/lib/python3.7/site-packages/ipykernel_launcher.py:13: TqdmDeprecationWarning: This function will be removed in tqdm==5.0.0\n",
      "Please use `tqdm.notebook.*` instead of `tqdm._tqdm_notebook.*`\n",
      "  del sys.path[0]\n",
      "/opt/conda/lib/python3.7/site-packages/tqdm/std.py:666: FutureWarning: The Panel class is removed from pandas. Accessing it from the top-level namespace will also be removed in the next version\n",
      "  from pandas import Panel\n"
     ]
    }
   ],
   "source": [
    "import gc\n",
    "import numpy as np\n",
    "import pandas as pd\n",
    "from collections import defaultdict\n",
    "import datatable as dt\n",
    "import lightgbm as lgb\n",
    "from matplotlib import pyplot as plt\n",
    "import riiideducation\n",
    "from bitarray import bitarray\n",
    "from functools import partial\n",
    "import pickle\n",
    "\n",
    "from tqdm._tqdm_notebook import tqdm_notebook\n",
    "from numba import jit\n",
    "import random\n",
    "\n",
    "tqdm_notebook.pandas(desc=\"progress: \")\n",
    "\n",
    "_ = np.seterr(divide='ignore', invalid='ignore')\n",
    "pd.set_option(\"max_rows\", 100)\n",
    "pd.set_option(\"max_columns\", 100)\n",
    "\n",
    "random.seed(1)"
   ]
  },
  {
   "cell_type": "code",
   "execution_count": 3,
   "metadata": {
    "execution": {
     "iopub.execute_input": "2020-12-26T14:10:37.120308Z",
     "iopub.status.busy": "2020-12-26T14:10:37.114850Z",
     "iopub.status.idle": "2020-12-26T14:10:37.128777Z",
     "shell.execute_reply": "2020-12-26T14:10:37.128023Z"
    },
    "papermill": {
     "duration": 0.041546,
     "end_time": "2020-12-26T14:10:37.128923",
     "exception": false,
     "start_time": "2020-12-26T14:10:37.087377",
     "status": "completed"
    },
    "tags": []
   },
   "outputs": [],
   "source": [
    "def make_bitarray():\n",
    "    a = bitarray(32737, endian='little')\n",
    "    a.setall(True)   \n",
    "    return a\n",
    "\n",
    "def clear_mem():\n",
    "    %reset -f out\n",
    "    %reset -f in\n",
    "    gc.collect()\n",
    "    \n",
    "@jit\n",
    "def accuracy_last7(A):\n",
    "    ans = []\n",
    "    for i in range(len(A)):\n",
    "        if i < 7:\n",
    "            ans.append(np.nan)\n",
    "        else:\n",
    "            ans.append(np.mean(A[i-7:i]))       \n",
    "    return np.array(ans)"
   ]
  },
  {
   "cell_type": "code",
   "execution_count": 4,
   "metadata": {
    "execution": {
     "iopub.execute_input": "2020-12-26T14:10:37.173241Z",
     "iopub.status.busy": "2020-12-26T14:10:37.172373Z",
     "iopub.status.idle": "2020-12-26T14:10:37.176313Z",
     "shell.execute_reply": "2020-12-26T14:10:37.175731Z"
    },
    "papermill": {
     "duration": 0.028322,
     "end_time": "2020-12-26T14:10:37.176450",
     "exception": false,
     "start_time": "2020-12-26T14:10:37.148128",
     "status": "completed"
    },
    "tags": []
   },
   "outputs": [],
   "source": [
    "FULL_TRAIN = False\n",
    "CV_SCHEME = \"original\" #\"time\""
   ]
  },
  {
   "cell_type": "markdown",
   "metadata": {
    "papermill": {
     "duration": 0.018026,
     "end_time": "2020-12-26T14:10:37.213261",
     "exception": false,
     "start_time": "2020-12-26T14:10:37.195235",
     "status": "completed"
    },
    "tags": []
   },
   "source": [
    "# Preprocess"
   ]
  },
  {
   "cell_type": "code",
   "execution_count": 5,
   "metadata": {
    "execution": {
     "iopub.execute_input": "2020-12-26T14:10:37.257543Z",
     "iopub.status.busy": "2020-12-26T14:10:37.256798Z",
     "iopub.status.idle": "2020-12-26T14:10:37.259411Z",
     "shell.execute_reply": "2020-12-26T14:10:37.258737Z"
    },
    "papermill": {
     "duration": 0.027758,
     "end_time": "2020-12-26T14:10:37.259537",
     "exception": false,
     "start_time": "2020-12-26T14:10:37.231779",
     "status": "completed"
    },
    "tags": []
   },
   "outputs": [],
   "source": [
    "data_types_dict = {\n",
    "    'row_id': 'uint32',\n",
    "    'timestamp': 'int64',\n",
    "    'user_id': 'int32', \n",
    "    'content_id': 'int16', \n",
    "    #'content_type_id': 'int8',\n",
    "    'answered_correctly': 'int8', \n",
    "    #'prior_question_elapsed_time': 'float32', \n",
    "    #'prior_question_had_explanation': 'bool',\n",
    "}\n",
    "target = 'answered_correctly'"
   ]
  },
  {
   "cell_type": "code",
   "execution_count": 6,
   "metadata": {
    "execution": {
     "iopub.execute_input": "2020-12-26T14:10:37.305125Z",
     "iopub.status.busy": "2020-12-26T14:10:37.304098Z",
     "iopub.status.idle": "2020-12-26T14:12:14.988301Z",
     "shell.execute_reply": "2020-12-26T14:12:14.987656Z"
    },
    "papermill": {
     "duration": 97.709745,
     "end_time": "2020-12-26T14:12:14.988463",
     "exception": false,
     "start_time": "2020-12-26T14:10:37.278718",
     "status": "completed"
    },
    "tags": []
   },
   "outputs": [],
   "source": [
    "train_df = dt.fread('../input/riiid-test-answer-prediction/train.csv', columns=set(data_types_dict.keys())).to_pandas()"
   ]
  },
  {
   "cell_type": "code",
   "execution_count": 7,
   "metadata": {
    "execution": {
     "iopub.execute_input": "2020-12-26T14:12:15.031903Z",
     "iopub.status.busy": "2020-12-26T14:12:15.030774Z",
     "iopub.status.idle": "2020-12-26T14:12:24.944841Z",
     "shell.execute_reply": "2020-12-26T14:12:24.944169Z"
    },
    "papermill": {
     "duration": 9.936791,
     "end_time": "2020-12-26T14:12:24.944990",
     "exception": false,
     "start_time": "2020-12-26T14:12:15.008199",
     "status": "completed"
    },
    "tags": []
   },
   "outputs": [],
   "source": [
    "train_df = train_df[train_df[target] != -1].reset_index(drop=True)\n",
    "\n",
    "#train_df['prior_question_had_explanation'].fillna(False, inplace=True)\n",
    "#train_df['prior_question_elapsed_time'].fillna(0, inplace=True)\n",
    "\n",
    "train_df = train_df.astype(data_types_dict)"
   ]
  },
  {
   "cell_type": "code",
   "execution_count": 8,
   "metadata": {
    "execution": {
     "iopub.execute_input": "2020-12-26T14:12:24.990874Z",
     "iopub.status.busy": "2020-12-26T14:12:24.989797Z",
     "iopub.status.idle": "2020-12-26T14:12:24.993190Z",
     "shell.execute_reply": "2020-12-26T14:12:24.992488Z"
    },
    "papermill": {
     "duration": 0.028513,
     "end_time": "2020-12-26T14:12:24.993341",
     "exception": false,
     "start_time": "2020-12-26T14:12:24.964828",
     "status": "completed"
    },
    "tags": []
   },
   "outputs": [],
   "source": [
    "# if CV_SCHEME==\"time\":\n",
    "#     max_timestamp_u = train_df[['user_id','timestamp']].groupby(['user_id']).agg(['max']).reset_index()\n",
    "#     max_timestamp_u.columns = ['user_id', 'max_time_stamp']\n",
    "#     MAX_TIME_STAMP = max_timestamp_u.max_time_stamp.max()\n",
    "\n",
    "#     def rand_time(max_time_stamp):\n",
    "#         interval = MAX_TIME_STAMP - max_time_stamp\n",
    "#         rand_time_stamp = random.randint(0,interval)\n",
    "#         return rand_time_stamp\n",
    "\n",
    "#     max_timestamp_u['rand_time_stamp'] = max_timestamp_u.max_time_stamp.apply(rand_time)\n",
    "#     train_df = train_df.merge(max_timestamp_u, on='user_id', how='left')\n",
    "#     train_df['viretual_time_stamp'] = train_df.timestamp + train_df['rand_time_stamp']\n",
    "\n",
    "#     del train_df['max_time_stamp']\n",
    "#     del train_df['rand_time_stamp']\n",
    "#     del max_timestamp_u\n",
    "\n",
    "#     train_index = list(train_df['viretual_time_stamp'].nlargest(10000000).index)\n",
    "\n",
    "# else:\n",
    "#     if FULL_TRAIN:\n",
    "#         train_size = 100\n",
    "#     else:\n",
    "#         train_size = 24\n",
    "#         valid_size = 6\n",
    "    \n",
    "#     train_index = list(train_df.groupby('user_id').tail(train_size).index)"
   ]
  },
  {
   "cell_type": "markdown",
   "metadata": {
    "papermill": {
     "duration": 0.019052,
     "end_time": "2020-12-26T14:12:25.031742",
     "exception": false,
     "start_time": "2020-12-26T14:12:25.012690",
     "status": "completed"
    },
    "tags": []
   },
   "source": [
    "# make feature"
   ]
  },
  {
   "cell_type": "code",
   "execution_count": 9,
   "metadata": {
    "execution": {
     "iopub.execute_input": "2020-12-26T14:12:25.075220Z",
     "iopub.status.busy": "2020-12-26T14:12:25.074547Z",
     "iopub.status.idle": "2020-12-26T14:12:25.078161Z",
     "shell.execute_reply": "2020-12-26T14:12:25.077617Z"
    },
    "papermill": {
     "duration": 0.027486,
     "end_time": "2020-12-26T14:12:25.078392",
     "exception": false,
     "start_time": "2020-12-26T14:12:25.050906",
     "status": "completed"
    },
    "tags": []
   },
   "outputs": [],
   "source": [
    "#prior_question_elapsed_time_array = train_df.prior_question_elapsed_time.values\n",
    "#train_df.drop(\"prior_question_elapsed_time\", axis =1, inplace=True)\n",
    "#prior_question_elapsed_time_array = prior_question_elapsed_time_array[train_index]"
   ]
  },
  {
   "cell_type": "code",
   "execution_count": 10,
   "metadata": {
    "execution": {
     "iopub.execute_input": "2020-12-26T14:12:25.120592Z",
     "iopub.status.busy": "2020-12-26T14:12:25.119910Z",
     "iopub.status.idle": "2020-12-26T14:12:25.125005Z",
     "shell.execute_reply": "2020-12-26T14:12:25.124343Z"
    },
    "papermill": {
     "duration": 0.02743,
     "end_time": "2020-12-26T14:12:25.125130",
     "exception": false,
     "start_time": "2020-12-26T14:12:25.097700",
     "status": "completed"
    },
    "tags": []
   },
   "outputs": [],
   "source": [
    "#questions_df = pd.read_csv(\n",
    "#    '../input/riiid-test-answer-prediction/questions.csv', \n",
    "#    usecols=[0, 3], #4\n",
    "#    dtype={'question_id': 'int16', 'part': 'int8'}  #'tags': 'str'\n",
    "#)\n",
    "\n",
    "#additional_q_df = pd.read_csv('../input/riiid-question-clustering/question_cmnts.csv')\n",
    "#questions_df[\"community\"] = additional_q_df[\"community\"].astype('int8')\n",
    "#del additional_q_df \n",
    "    \n",
    "#train_df = pd.merge(train_df, questions_df, left_on='content_id', right_on='question_id', how='left', right_index=True).reset_index(drop=True)\n",
    "#train_df.drop(columns=['question_id'], inplace=True)"
   ]
  },
  {
   "cell_type": "code",
   "execution_count": 11,
   "metadata": {
    "execution": {
     "iopub.execute_input": "2020-12-26T14:12:25.167765Z",
     "iopub.status.busy": "2020-12-26T14:12:25.167013Z",
     "iopub.status.idle": "2020-12-26T14:12:25.172093Z",
     "shell.execute_reply": "2020-12-26T14:12:25.172602Z"
    },
    "papermill": {
     "duration": 0.028239,
     "end_time": "2020-12-26T14:12:25.172772",
     "exception": false,
     "start_time": "2020-12-26T14:12:25.144533",
     "status": "completed"
    },
    "tags": []
   },
   "outputs": [],
   "source": [
    "# #######\n",
    "# community_num = len(questions_df.community.unique())\n",
    "# print(community_num)\n",
    "\n",
    "# @jit\n",
    "# def tag_accuracy(A, C):\n",
    "#     ans = []\n",
    "#     community_count = [0] * community_num\n",
    "#     community_correct = [0] * community_num\n",
    "#     for i in range(len(C)):\n",
    "#         if community_count[C[i]]==0:\n",
    "#             ans.append(-1)\n",
    "#         else:\n",
    "#             ans.append(community_correct[C[i]]/community_count[C[i]])\n",
    "#         community_count[C[i]] +=1\n",
    "#         community_correct[C[i]] += A[i]\n",
    "#     return np.array(ans)\n",
    "\n",
    "# @jit\n",
    "# def tag_correct_last(A, C):\n",
    "#     community_correct = [0] * community_num\n",
    "#     for i in range(len(C)):\n",
    "#         community_correct[C[i]] += A[i]\n",
    "#     return np.array(community_correct)\n",
    "\n",
    "# @jit\n",
    "# def tag_count_last(A, C):\n",
    "#     community_count = [0] * community_num\n",
    "#     for i in range(len(C)):\n",
    "#         community_count[C[i]] +=1\n",
    "#     return np.array(community_count)\n",
    "\n",
    "# def init_dict():\n",
    "#     ans = [0] * community_num\n",
    "#     return np.array(ans)"
   ]
  },
  {
   "cell_type": "code",
   "execution_count": 12,
   "metadata": {
    "execution": {
     "iopub.execute_input": "2020-12-26T14:12:25.218470Z",
     "iopub.status.busy": "2020-12-26T14:12:25.217730Z",
     "iopub.status.idle": "2020-12-26T14:12:25.220116Z",
     "shell.execute_reply": "2020-12-26T14:12:25.220704Z"
    },
    "papermill": {
     "duration": 0.02841,
     "end_time": "2020-12-26T14:12:25.220877",
     "exception": false,
     "start_time": "2020-12-26T14:12:25.192467",
     "status": "completed"
    },
    "tags": []
   },
   "outputs": [],
   "source": [
    "# #####\n",
    "# tag_acc_array = train_df.groupby(\"user_id\").apply(lambda x: tag_accuracy(x[\"answered_correctly\"].values, x[\"community\"].values))\n",
    "# tag_acc_array = np.hstack(tag_acc_array)\n",
    "# tag_acc_array = tag_acc_array[train_index]\n",
    "\n",
    "# user_community_count_dict = train_df.groupby(\"user_id\").apply(lambda x: tag_count_last(x[\"answered_correctly\"].values, x[\"community\"].values)).to_dict(defaultdict(init_dict))\n",
    "# user_community_correct_dict = train_df.groupby(\"user_id\").apply(lambda x: tag_correct_last(x[\"answered_correctly\"].values, x[\"community\"].values)).to_dict(defaultdict(init_dict))\n",
    "    \n",
    "# #\n",
    "# community_agg = train_df.groupby('community')[target].agg(['count'])\n",
    "# community_count_dict = community_agg['count'].astype('int32').to_dict(defaultdict(int))\n",
    "# community_count_array = train_df['community'].map(community_agg['count']).astype('int32').values\n",
    "# del community_agg\n",
    "# community_count_array = community_count_array[train_index]\n",
    "    \n",
    "# community_array = train_df[\"community\"].values\n",
    "# community_array = community_array[train_index]\n",
    "# train_df.drop('community', axis=1, inplace=True)"
   ]
  },
  {
   "cell_type": "code",
   "execution_count": 13,
   "metadata": {
    "execution": {
     "iopub.execute_input": "2020-12-26T14:12:25.265037Z",
     "iopub.status.busy": "2020-12-26T14:12:25.264314Z",
     "iopub.status.idle": "2020-12-26T14:35:17.337885Z",
     "shell.execute_reply": "2020-12-26T14:35:17.338581Z"
    },
    "papermill": {
     "duration": 1372.097703,
     "end_time": "2020-12-26T14:35:17.338875",
     "exception": false,
     "start_time": "2020-12-26T14:12:25.241172",
     "status": "completed"
    },
    "tags": []
   },
   "outputs": [
    {
     "data": {
      "application/vnd.jupyter.widget-view+json": {
       "model_id": "3ba77425d580448aa756733ef445d2b0",
       "version_major": 2,
       "version_minor": 0
      },
      "text/plain": [
       "HBox(children=(FloatProgress(value=0.0, description='progress: ', max=393656.0, style=ProgressStyle(descriptio…"
      ]
     },
     "metadata": {},
     "output_type": "display_data"
    },
    {
     "name": "stdout",
     "output_type": "stream",
     "text": [
      "\n"
     ]
    }
   ],
   "source": [
    "# cancel because of memory error\n",
    "# takes about 10 minutes\n",
    "train_df[\"first_attempt\"] = train_df[[\"row_id\", \"user_id\", \"content_id\"]].groupby(\"user_id\").progress_apply(lambda x: \n",
    "                                                                    pd.DataFrame(np.isin(x[\"row_id\"].values, x.drop_duplicates(\"content_id\")[\"row_id\"].values))).values\n",
    "\n",
    "#for i in list(train.user_id.unique())[:10]:\n",
    "#    tmp1 = np.isin(train[train.user_id==i][\"row_id\"].values, train[train.user_id==i].groupby(\"content_id\").first()[\"row_id\"].values)\n",
    "#    tmp2 = np.isin(train[train.user_id==i][\"row_id\"], train[train.user_id==i].drop_duplicates(\"content_id\")[\"row_id\"])\n",
    "#    print(i, np.all(tmp1 == tmp2))\n",
    "\n",
    "train_df[[\"first_attempt\"]].to_csv(\"content_first_attempt.csv\", index=False)\n",
    "del train_df[\"first_attempt\"]\n",
    "del train_df[\"row_id\"]"
   ]
  },
  {
   "cell_type": "code",
   "execution_count": 14,
   "metadata": {
    "execution": {
     "iopub.execute_input": "2020-12-26T14:35:17.388161Z",
     "iopub.status.busy": "2020-12-26T14:35:17.387119Z",
     "iopub.status.idle": "2020-12-26T14:35:17.390128Z",
     "shell.execute_reply": "2020-12-26T14:35:17.389466Z"
    },
    "papermill": {
     "duration": 0.029608,
     "end_time": "2020-12-26T14:35:17.390254",
     "exception": false,
     "start_time": "2020-12-26T14:35:17.360646",
     "status": "completed"
    },
    "tags": []
   },
   "outputs": [],
   "source": [
    "# # ok\n",
    "# first_attempt_df = pd.read_csv(\"../input/riiid-additional-data/content_first_attempt.csv\")\n",
    "# first_attempt_array = first_attempt_df.first_attempt.values\n",
    "# train_df[\"first_attempt\"] = first_attempt_array\n",
    "\n",
    "# unique_attempt_array= train_df.groupby(\"user_id\")[\"first_attempt\"].cumsum().values\n",
    "# train_df[\"unique_attempt\"] = unique_attempt_array\n",
    "# user_unique_agg = train_df.groupby('user_id')[\"unique_attempt\"].agg(['max'])\n",
    "# user_unique_dict = user_unique_agg['max'].astype('int32').to_dict(defaultdict(int))\n",
    "\n",
    "# first_attempt_array = first_attempt_array[train_index]\n",
    "# unique_attempt_array = unique_attempt_array[train_index]\n",
    "# train_df.drop(['first_attempt', 'unique_attempt'], axis=1, inplace=True)\n",
    "# del first_attempt_df, user_unique_agg\n",
    "\n",
    "# clear_mem()"
   ]
  },
  {
   "cell_type": "code",
   "execution_count": 15,
   "metadata": {
    "execution": {
     "iopub.execute_input": "2020-12-26T14:35:17.437055Z",
     "iopub.status.busy": "2020-12-26T14:35:17.436310Z",
     "iopub.status.idle": "2020-12-26T14:35:30.792300Z",
     "shell.execute_reply": "2020-12-26T14:35:30.792836Z"
    },
    "papermill": {
     "duration": 13.381297,
     "end_time": "2020-12-26T14:35:30.793017",
     "exception": false,
     "start_time": "2020-12-26T14:35:17.411720",
     "status": "completed"
    },
    "tags": []
   },
   "outputs": [
    {
     "name": "stdout",
     "output_type": "stream",
     "text": [
      "Flushing output cache (0 entries)\n",
      "Flushing input history\n",
      "Flushing output cache (0 entries)\n",
      "Flushing input history\n"
     ]
    }
   ],
   "source": [
    "# ok\n",
    "user_agg = train_df.groupby('user_id')[target].agg(['sum', 'count'])\n",
    "user_sum_dict = user_agg['sum'].astype('int16').to_dict(defaultdict(int))\n",
    "del user_agg['sum']\n",
    "user_count_dict = user_agg['count'].astype('int16').to_dict(defaultdict(int))\n",
    "del user_agg['count']\n",
    "clear_mem()\n",
    "\n",
    "#\n",
    "content_agg = train_df.groupby('content_id')[target].agg(['sum', 'count'])\n",
    "content_sum_dict = content_agg['sum'].astype('int32').to_dict(defaultdict(int))\n",
    "content_count_dict = content_agg['count'].astype('int32').to_dict(defaultdict(int))\n",
    "\n",
    "content_count_array = train_df['content_id'].map(content_agg['count']).astype('int32').values\n",
    "content_id_array = train_df['content_id'].map(content_agg['sum'] / content_agg['count']).values\n",
    "del content_agg\n",
    "clear_mem()"
   ]
  },
  {
   "cell_type": "code",
   "execution_count": 16,
   "metadata": {
    "execution": {
     "iopub.execute_input": "2020-12-26T14:35:30.843973Z",
     "iopub.status.busy": "2020-12-26T14:35:30.842995Z",
     "iopub.status.idle": "2020-12-26T14:35:32.100105Z",
     "shell.execute_reply": "2020-12-26T14:35:32.099179Z"
    },
    "papermill": {
     "duration": 1.284894,
     "end_time": "2020-12-26T14:35:32.100246",
     "exception": false,
     "start_time": "2020-12-26T14:35:30.815352",
     "status": "completed"
    },
    "tags": []
   },
   "outputs": [
    {
     "name": "stdout",
     "output_type": "stream",
     "text": [
      "Flushing output cache (0 entries)\n",
      "Flushing input history\n"
     ]
    }
   ],
   "source": [
    "# ok\n",
    "# benefit of solving difficult questions\n",
    "point_array = 1 / (content_id_array + 0.1)\n",
    "#content_id_array = content_id_array[train_index]\n",
    "#content_count_array = content_count_array[train_index]\n",
    "clear_mem()"
   ]
  },
  {
   "cell_type": "code",
   "execution_count": 17,
   "metadata": {
    "execution": {
     "iopub.execute_input": "2020-12-26T14:35:32.166118Z",
     "iopub.status.busy": "2020-12-26T14:35:32.164337Z",
     "iopub.status.idle": "2020-12-26T14:36:17.232007Z",
     "shell.execute_reply": "2020-12-26T14:36:17.232847Z"
    },
    "papermill": {
     "duration": 45.110465,
     "end_time": "2020-12-26T14:36:17.233039",
     "exception": false,
     "start_time": "2020-12-26T14:35:32.122574",
     "status": "completed"
    },
    "tags": []
   },
   "outputs": [],
   "source": [
    "# ok \n",
    "@jit\n",
    "def got_point_by_bundle(G, T):\n",
    "    ans = np.zeros(len(T))\n",
    "    point = 0\n",
    "    prev_time = -1 \n",
    "    for i in range(len(T)): \n",
    "        if prev_time == T[i]:\n",
    "            ans[i] = ans[i-1]\n",
    "        else:\n",
    "            ans[i] = point\n",
    "        prev_time = T[i]\n",
    "        point = point + G[i]\n",
    "    return ans\n",
    "    \n",
    "train_df[\"got_point\"] = point_array * train_df[\"answered_correctly\"].values\n",
    "del point_array\n",
    "user_point_agg = train_df.groupby('user_id')[\"got_point\"].agg(['sum'])\n",
    "user_point_sum_dict = user_point_agg['sum'].astype('float32').to_dict(defaultdict(float))\n",
    "del user_point_agg\n",
    "got_point_array = train_df.groupby(\"user_id\").apply(lambda x: got_point_by_bundle(x[\"got_point\"].values, \n",
    "                                                                                  x[\"timestamp\"].values))\n",
    "got_point_array = np.hstack(got_point_array)\n",
    "#tmp[\"got_point_mean\"] = got_point_array\n",
    "\n",
    "with open('got_point_array.pickle','wb') as f:\n",
    "    pickle.dump(got_point_array, f)\n",
    "    \n",
    "with open('user_point_sum_dict.pickle','wb') as f:\n",
    "    pickle.dump(user_point_sum_dict, f)\n",
    "    \n",
    "del got_point_array"
   ]
  },
  {
   "cell_type": "code",
   "execution_count": 18,
   "metadata": {
    "execution": {
     "iopub.execute_input": "2020-12-26T14:36:17.282171Z",
     "iopub.status.busy": "2020-12-26T14:36:17.281022Z",
     "iopub.status.idle": "2020-12-26T14:38:41.511976Z",
     "shell.execute_reply": "2020-12-26T14:38:41.512784Z"
    },
    "papermill": {
     "duration": 144.257557,
     "end_time": "2020-12-26T14:38:41.513010",
     "exception": false,
     "start_time": "2020-12-26T14:36:17.255453",
     "status": "completed"
    },
    "tags": []
   },
   "outputs": [
    {
     "name": "stdout",
     "output_type": "stream",
     "text": [
      "CPU times: user 2min 13s, sys: 10.2 s, total: 2min 24s\n",
      "Wall time: 2min 24s\n"
     ]
    }
   ],
   "source": [
    "%%time\n",
    "# ok\n",
    "user_content_agg = train_df.groupby(\"user_id\")[\"content_id\"].unique().reset_index().set_index(\"user_id\")\n",
    "\n",
    "value = []\n",
    "for j in user_content_agg.index:\n",
    "    a = bitarray(32737, endian='little')\n",
    "    a.setall(True)\n",
    "    for i in user_content_agg.loc[j][0]:\n",
    "        a[i] = 0\n",
    "    value.append(a)\n",
    "    \n",
    "user_content_agg[\"content_exp\"] = value\n",
    "user_content_dict = user_content_agg[\"content_exp\"].to_dict(defaultdict(make_bitarray))\n",
    "del user_content_agg, value\n",
    "train_df.drop([\"content_id\"], axis=1, inplace=True)\n",
    "\n",
    "with open('user_content_dict.pickle','wb') as f:\n",
    "    pickle.dump(user_content_dict, f)"
   ]
  },
  {
   "cell_type": "code",
   "execution_count": 19,
   "metadata": {
    "execution": {
     "iopub.execute_input": "2020-12-26T14:38:41.570724Z",
     "iopub.status.busy": "2020-12-26T14:38:41.564256Z",
     "iopub.status.idle": "2020-12-26T14:39:57.049632Z",
     "shell.execute_reply": "2020-12-26T14:39:57.051399Z"
    },
    "papermill": {
     "duration": 75.515536,
     "end_time": "2020-12-26T14:39:57.051621",
     "exception": false,
     "start_time": "2020-12-26T14:38:41.536085",
     "status": "completed"
    },
    "tags": []
   },
   "outputs": [],
   "source": [
    "answered_correctly_last7_array = train_df.groupby(\"user_id\").apply(lambda x: accuracy_last7(x[\"answered_correctly\"].values))\n",
    "answered_correctly_last7_array = np.hstack(answered_correctly_last7_array)\n",
    "\n",
    "with open('answered_correctly_last7_array.pickle','wb') as f:\n",
    "    pickle.dump(answered_correctly_last7_array, f)\n",
    "del answered_correctly_last7_array\n",
    "    \n",
    "#answered_correctly_last7_array = answered_correctly_last7_array[train_index]\n",
    "user_last7_answer_dict = train_df.groupby(\"user_id\")[\"answered_correctly\"].apply(lambda x: \n",
    "                                                                                 x[-7:].values).to_dict(defaultdict(partial(np.ndarray, 0, dtype=\"int8\")))\n",
    "\n",
    "with open('user_last7_answer_dict.pickle','wb') as f:\n",
    "    pickle.dump(user_last7_answer_dict, f)"
   ]
  },
  {
   "cell_type": "code",
   "execution_count": 20,
   "metadata": {
    "execution": {
     "iopub.execute_input": "2020-12-26T14:39:57.108700Z",
     "iopub.status.busy": "2020-12-26T14:39:57.107213Z",
     "iopub.status.idle": "2020-12-26T14:39:57.111211Z",
     "shell.execute_reply": "2020-12-26T14:39:57.110521Z"
    },
    "papermill": {
     "duration": 0.034859,
     "end_time": "2020-12-26T14:39:57.111358",
     "exception": false,
     "start_time": "2020-12-26T14:39:57.076499",
     "status": "completed"
    },
    "tags": []
   },
   "outputs": [],
   "source": [
    "# @jit\n",
    "# def last_accuracy7_by_bundle(A, T):\n",
    "#     ans = np.zeros(len(T))\n",
    "#     prev_time = [-1] * 7\n",
    "#     count = 0\n",
    "#     correct = 0\n",
    "#     for i in range(len(T)): \n",
    "#         if i <= 6:\n",
    "#             ans[i] = np.nan     \n",
    "#         elif prev_time[6] == T[i]:\n",
    "#             ans[i] = ans[i-1]\n",
    "#         else:\n",
    "#             ans[i] = T[i]- prev_time[0]\n",
    "            \n",
    "#         if prev_time[0] == -1:\n",
    "#             prev_time[0] = T[i]\n",
    "#         elif prev_time[0] != T[i] and prev_time[1] == -1:\n",
    "#             prev_time[1] = T[i]\n",
    "#         elif prev_time[1] != T[i] and prev_time[2] == -1:\n",
    "#             prev_time[2] = T[i]\n",
    "#         elif prev_time[2] != T[i] and prev_time[3] == -1:\n",
    "#             prev_time[3] = T[i]\n",
    "#         elif T[i] not in prev_time:\n",
    "#             prev_time[0] = prev_time[1]\n",
    "#             prev_time[1] = prev_time[2]\n",
    "#             prev_time[2] = prev_time[3]\n",
    "#             prev_time[3] = T[i]\n",
    "#     return ans"
   ]
  },
  {
   "cell_type": "code",
   "execution_count": 21,
   "metadata": {
    "execution": {
     "iopub.execute_input": "2020-12-26T14:39:57.174417Z",
     "iopub.status.busy": "2020-12-26T14:39:57.173573Z",
     "iopub.status.idle": "2020-12-26T14:42:05.756598Z",
     "shell.execute_reply": "2020-12-26T14:42:05.757323Z"
    },
    "papermill": {
     "duration": 128.622625,
     "end_time": "2020-12-26T14:42:05.757549",
     "exception": false,
     "start_time": "2020-12-26T14:39:57.134924",
     "status": "completed"
    },
    "tags": []
   },
   "outputs": [],
   "source": [
    "# ok\n",
    "@jit\n",
    "def continuous_correct_by_bundle(A, T):\n",
    "    ans = np.zeros(len(T))\n",
    "    count = 0\n",
    "    prev_time = -1\n",
    "    for i in range(len(T)): \n",
    "        if prev_time != T[i]:\n",
    "            ans[i] = count\n",
    "        else:    \n",
    "            ans[i] = ans[i-1]\n",
    "        if A[i] ==1:\n",
    "            count += 1\n",
    "        else:\n",
    "            count = 0\n",
    "        prev_time = T[i]\n",
    "    return ans\n",
    "\n",
    "@jit\n",
    "def continuous_incorrect_by_bundle(A, T):\n",
    "    ans = np.zeros(len(T))\n",
    "    count = 0\n",
    "    prev_time = -1\n",
    "    for i in range(len(T)): \n",
    "        if prev_time != T[i]:\n",
    "            ans[i] = count\n",
    "        else:    \n",
    "            ans[i] = ans[i-1]\n",
    "        if A[i] ==0:\n",
    "            count += 1\n",
    "        else:\n",
    "            count = 0\n",
    "        prev_time = T[i]\n",
    "    return ans\n",
    "\n",
    "@jit\n",
    "def continuous_correct_dict_calc(A):\n",
    "    count = 0\n",
    "    for i in range(len(A)): \n",
    "        if A[i] ==1:\n",
    "            count += 1\n",
    "        else:\n",
    "            count = 0\n",
    "    return count\n",
    "\n",
    "@jit\n",
    "def continuous_incorrect_dict_calc(A):\n",
    "    count = 0\n",
    "    for i in range(len(A)): \n",
    "        if A[i] ==0:\n",
    "            count += 1\n",
    "        else:\n",
    "            count = 0\n",
    "    return count\n",
    "\n",
    "continuous_correct_array = train_df.groupby(\"user_id\").apply(lambda x: continuous_correct_by_bundle(x[\"answered_correctly\"].values,\n",
    "                                                                                              x[\"timestamp\"].values))\n",
    "continuous_correct_array = np.hstack(continuous_correct_array)\n",
    "#continuous_correct_array = continuous_correct_array[train_index]\n",
    "\n",
    "\n",
    "continuous_incorrect_array = train_df.groupby(\"user_id\").apply(lambda x: continuous_incorrect_by_bundle(x[\"answered_correctly\"].values,\n",
    "                                                                                        x[\"timestamp\"].values))\n",
    "continuous_incorrect_array = np.hstack(continuous_incorrect_array)\n",
    "\n",
    "#continuous_incorrect_array = continuous_incorrect_array[train_index]\n",
    "\n",
    "continuous_incorrect_dict = train_df.groupby(\"user_id\").apply(lambda x: continuous_incorrect_dict_calc(x[\"answered_correctly\"].values)).to_dict(defaultdict(int))\n",
    "continuous_correct_dict = train_df.groupby(\"user_id\").apply(lambda x: continuous_correct_dict_calc(x[\"answered_correctly\"].values)).to_dict(defaultdict(int))\n",
    "\n",
    "with open('continuous_correct_array.pickle','wb') as f:\n",
    "    pickle.dump(continuous_correct_array, f)\n",
    "del continuous_correct_array\n",
    "\n",
    "with open('continuous_correct_dict.pickle','wb') as f:\n",
    "    pickle.dump(continuous_correct_dict, f)\n",
    "    \n",
    "with open('continuous_incorrect_array.pickle','wb') as f:\n",
    "    pickle.dump(continuous_incorrect_array, f)\n",
    "del continuous_incorrect_array\n",
    "    \n",
    "with open('continuous_incorrect_dict.pickle','wb') as f:\n",
    "    pickle.dump(continuous_incorrect_dict, f)"
   ]
  },
  {
   "cell_type": "code",
   "execution_count": null,
   "metadata": {
    "papermill": {
     "duration": 0.092599,
     "end_time": "2020-12-26T14:42:05.889850",
     "exception": false,
     "start_time": "2020-12-26T14:42:05.797251",
     "status": "completed"
    },
    "tags": []
   },
   "outputs": [],
   "source": []
  }
 ],
 "metadata": {
  "kernelspec": {
   "display_name": "Python 3",
   "language": "python",
   "name": "python3"
  },
  "language_info": {
   "codemirror_mode": {
    "name": "ipython",
    "version": 3
   },
   "file_extension": ".py",
   "mimetype": "text/x-python",
   "name": "python",
   "nbconvert_exporter": "python",
   "pygments_lexer": "ipython3",
   "version": "3.7.6"
  },
  "papermill": {
   "duration": 1928.832251,
   "end_time": "2020-12-26T14:42:07.136348",
   "environment_variables": {},
   "exception": null,
   "input_path": "__notebook__.ipynb",
   "output_path": "__notebook__.ipynb",
   "parameters": {},
   "start_time": "2020-12-26T14:09:58.304097",
   "version": "2.1.0"
  },
  "widgets": {
   "application/vnd.jupyter.widget-state+json": {
    "state": {
     "27c4f15dc9fb427d82bc5d703c71cb6d": {
      "model_module": "@jupyter-widgets/base",
      "model_module_version": "1.2.0",
      "model_name": "LayoutModel",
      "state": {
       "_model_module": "@jupyter-widgets/base",
       "_model_module_version": "1.2.0",
       "_model_name": "LayoutModel",
       "_view_count": null,
       "_view_module": "@jupyter-widgets/base",
       "_view_module_version": "1.2.0",
       "_view_name": "LayoutView",
       "align_content": null,
       "align_items": null,
       "align_self": null,
       "border": null,
       "bottom": null,
       "display": null,
       "flex": null,
       "flex_flow": null,
       "grid_area": null,
       "grid_auto_columns": null,
       "grid_auto_flow": null,
       "grid_auto_rows": null,
       "grid_column": null,
       "grid_gap": null,
       "grid_row": null,
       "grid_template_areas": null,
       "grid_template_columns": null,
       "grid_template_rows": null,
       "height": null,
       "justify_content": null,
       "justify_items": null,
       "left": null,
       "margin": null,
       "max_height": null,
       "max_width": null,
       "min_height": null,
       "min_width": null,
       "object_fit": null,
       "object_position": null,
       "order": null,
       "overflow": null,
       "overflow_x": null,
       "overflow_y": null,
       "padding": null,
       "right": null,
       "top": null,
       "visibility": null,
       "width": null
      }
     },
     "38ca5b8d6c334dcbbf190150bc075124": {
      "model_module": "@jupyter-widgets/controls",
      "model_module_version": "1.5.0",
      "model_name": "ProgressStyleModel",
      "state": {
       "_model_module": "@jupyter-widgets/controls",
       "_model_module_version": "1.5.0",
       "_model_name": "ProgressStyleModel",
       "_view_count": null,
       "_view_module": "@jupyter-widgets/base",
       "_view_module_version": "1.2.0",
       "_view_name": "StyleView",
       "bar_color": null,
       "description_width": "initial"
      }
     },
     "3ba77425d580448aa756733ef445d2b0": {
      "model_module": "@jupyter-widgets/controls",
      "model_module_version": "1.5.0",
      "model_name": "HBoxModel",
      "state": {
       "_dom_classes": [],
       "_model_module": "@jupyter-widgets/controls",
       "_model_module_version": "1.5.0",
       "_model_name": "HBoxModel",
       "_view_count": null,
       "_view_module": "@jupyter-widgets/controls",
       "_view_module_version": "1.5.0",
       "_view_name": "HBoxView",
       "box_style": "",
       "children": [
        "IPY_MODEL_79e931f996e74817ad47c79e953d3c41",
        "IPY_MODEL_eeff12fd27a04269811a8a7249e77374"
       ],
       "layout": "IPY_MODEL_27c4f15dc9fb427d82bc5d703c71cb6d"
      }
     },
     "79e931f996e74817ad47c79e953d3c41": {
      "model_module": "@jupyter-widgets/controls",
      "model_module_version": "1.5.0",
      "model_name": "FloatProgressModel",
      "state": {
       "_dom_classes": [],
       "_model_module": "@jupyter-widgets/controls",
       "_model_module_version": "1.5.0",
       "_model_name": "FloatProgressModel",
       "_view_count": null,
       "_view_module": "@jupyter-widgets/controls",
       "_view_module_version": "1.5.0",
       "_view_name": "ProgressView",
       "bar_style": "success",
       "description": "progress: 100%",
       "description_tooltip": null,
       "layout": "IPY_MODEL_ca81fb2d401a4926ac0df65dc283a817",
       "max": 393656.0,
       "min": 0.0,
       "orientation": "horizontal",
       "style": "IPY_MODEL_38ca5b8d6c334dcbbf190150bc075124",
       "value": 393656.0
      }
     },
     "828693eb1f86459b8c89af5a14c2c982": {
      "model_module": "@jupyter-widgets/controls",
      "model_module_version": "1.5.0",
      "model_name": "DescriptionStyleModel",
      "state": {
       "_model_module": "@jupyter-widgets/controls",
       "_model_module_version": "1.5.0",
       "_model_name": "DescriptionStyleModel",
       "_view_count": null,
       "_view_module": "@jupyter-widgets/base",
       "_view_module_version": "1.2.0",
       "_view_name": "StyleView",
       "description_width": ""
      }
     },
     "ca81fb2d401a4926ac0df65dc283a817": {
      "model_module": "@jupyter-widgets/base",
      "model_module_version": "1.2.0",
      "model_name": "LayoutModel",
      "state": {
       "_model_module": "@jupyter-widgets/base",
       "_model_module_version": "1.2.0",
       "_model_name": "LayoutModel",
       "_view_count": null,
       "_view_module": "@jupyter-widgets/base",
       "_view_module_version": "1.2.0",
       "_view_name": "LayoutView",
       "align_content": null,
       "align_items": null,
       "align_self": null,
       "border": null,
       "bottom": null,
       "display": null,
       "flex": null,
       "flex_flow": null,
       "grid_area": null,
       "grid_auto_columns": null,
       "grid_auto_flow": null,
       "grid_auto_rows": null,
       "grid_column": null,
       "grid_gap": null,
       "grid_row": null,
       "grid_template_areas": null,
       "grid_template_columns": null,
       "grid_template_rows": null,
       "height": null,
       "justify_content": null,
       "justify_items": null,
       "left": null,
       "margin": null,
       "max_height": null,
       "max_width": null,
       "min_height": null,
       "min_width": null,
       "object_fit": null,
       "object_position": null,
       "order": null,
       "overflow": null,
       "overflow_x": null,
       "overflow_y": null,
       "padding": null,
       "right": null,
       "top": null,
       "visibility": null,
       "width": null
      }
     },
     "eac19fccc4304990829907e1a435a991": {
      "model_module": "@jupyter-widgets/base",
      "model_module_version": "1.2.0",
      "model_name": "LayoutModel",
      "state": {
       "_model_module": "@jupyter-widgets/base",
       "_model_module_version": "1.2.0",
       "_model_name": "LayoutModel",
       "_view_count": null,
       "_view_module": "@jupyter-widgets/base",
       "_view_module_version": "1.2.0",
       "_view_name": "LayoutView",
       "align_content": null,
       "align_items": null,
       "align_self": null,
       "border": null,
       "bottom": null,
       "display": null,
       "flex": null,
       "flex_flow": null,
       "grid_area": null,
       "grid_auto_columns": null,
       "grid_auto_flow": null,
       "grid_auto_rows": null,
       "grid_column": null,
       "grid_gap": null,
       "grid_row": null,
       "grid_template_areas": null,
       "grid_template_columns": null,
       "grid_template_rows": null,
       "height": null,
       "justify_content": null,
       "justify_items": null,
       "left": null,
       "margin": null,
       "max_height": null,
       "max_width": null,
       "min_height": null,
       "min_width": null,
       "object_fit": null,
       "object_position": null,
       "order": null,
       "overflow": null,
       "overflow_x": null,
       "overflow_y": null,
       "padding": null,
       "right": null,
       "top": null,
       "visibility": null,
       "width": null
      }
     },
     "eeff12fd27a04269811a8a7249e77374": {
      "model_module": "@jupyter-widgets/controls",
      "model_module_version": "1.5.0",
      "model_name": "HTMLModel",
      "state": {
       "_dom_classes": [],
       "_model_module": "@jupyter-widgets/controls",
       "_model_module_version": "1.5.0",
       "_model_name": "HTMLModel",
       "_view_count": null,
       "_view_module": "@jupyter-widgets/controls",
       "_view_module_version": "1.5.0",
       "_view_name": "HTMLView",
       "description": "",
       "description_tooltip": null,
       "layout": "IPY_MODEL_eac19fccc4304990829907e1a435a991",
       "placeholder": "​",
       "style": "IPY_MODEL_828693eb1f86459b8c89af5a14c2c982",
       "value": " 393656/393656 [22:53&lt;00:00, 286.60it/s]"
      }
     }
    },
    "version_major": 2,
    "version_minor": 0
   }
  }
 },
 "nbformat": 4,
 "nbformat_minor": 4
}
