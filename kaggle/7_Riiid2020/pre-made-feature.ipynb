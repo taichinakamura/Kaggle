{
 "cells": [
  {
   "cell_type": "markdown",
   "metadata": {
    "papermill": {
     "duration": 0.022898,
     "end_time": "2020-12-27T06:57:35.891757",
     "exception": false,
     "start_time": "2020-12-27T06:57:35.868859",
     "status": "completed"
    },
    "tags": []
   },
   "source": [
    "- add first attempt\n",
    "- refactoring"
   ]
  },
  {
   "cell_type": "code",
   "execution_count": 1,
   "metadata": {
    "_cell_guid": "b1076dfc-b9ad-4769-8c92-a6c4dae69d19",
    "_uuid": "8f2839f25d086af736a60e9eeb907d3b93b6e0e5",
    "execution": {
     "iopub.execute_input": "2020-12-27T06:57:35.936892Z",
     "iopub.status.busy": "2020-12-27T06:57:35.936206Z",
     "iopub.status.idle": "2020-12-27T06:58:06.284041Z",
     "shell.execute_reply": "2020-12-27T06:58:06.283253Z"
    },
    "papermill": {
     "duration": 30.372878,
     "end_time": "2020-12-27T06:58:06.284191",
     "exception": false,
     "start_time": "2020-12-27T06:57:35.911313",
     "status": "completed"
    },
    "tags": []
   },
   "outputs": [],
   "source": [
    "!pip install ../input/python-datatable/datatable-0.11.0-cp37-cp37m-manylinux2010_x86_64.whl > /dev/null 2>&1"
   ]
  },
  {
   "cell_type": "code",
   "execution_count": 2,
   "metadata": {
    "_cell_guid": "79c7e3d0-c299-4dcb-8224-4455121ee9b0",
    "_uuid": "d629ff2d2480ee46fbb7e2d37f6b5fab8052498a",
    "execution": {
     "iopub.execute_input": "2020-12-27T06:58:06.326742Z",
     "iopub.status.busy": "2020-12-27T06:58:06.326066Z",
     "iopub.status.idle": "2020-12-27T06:58:08.418161Z",
     "shell.execute_reply": "2020-12-27T06:58:08.417634Z"
    },
    "papermill": {
     "duration": 2.114455,
     "end_time": "2020-12-27T06:58:08.418282",
     "exception": false,
     "start_time": "2020-12-27T06:58:06.303827",
     "status": "completed"
    },
    "tags": []
   },
   "outputs": [
    {
     "data": {
      "text/html": [
       "<style type='text/css'>\n",
       ".datatable table.frame { margin-bottom: 0; }\n",
       ".datatable table.frame thead { border-bottom: none; }\n",
       ".datatable table.frame tr.coltypes td {  color: #FFFFFF;  line-height: 6px;  padding: 0 0.5em;}\n",
       ".datatable .bool    { background: #DDDD99; }\n",
       ".datatable .object  { background: #565656; }\n",
       ".datatable .int     { background: #5D9E5D; }\n",
       ".datatable .float   { background: #4040CC; }\n",
       ".datatable .str     { background: #CC4040; }\n",
       ".datatable .row_index {  background: var(--jp-border-color3);  border-right: 1px solid var(--jp-border-color0);  color: var(--jp-ui-font-color3);  font-size: 9px;}\n",
       ".datatable .frame tr.coltypes .row_index {  background: var(--jp-border-color0);}\n",
       ".datatable th:nth-child(2) { padding-left: 12px; }\n",
       ".datatable .hellipsis {  color: var(--jp-cell-editor-border-color);}\n",
       ".datatable .vellipsis {  background: var(--jp-layout-color0);  color: var(--jp-cell-editor-border-color);}\n",
       ".datatable .na {  color: var(--jp-cell-editor-border-color);  font-size: 80%;}\n",
       ".datatable .footer { font-size: 9px; }\n",
       ".datatable .frame_dimensions {  background: var(--jp-border-color3);  border-top: 1px solid var(--jp-border-color0);  color: var(--jp-ui-font-color3);  display: inline-block;  opacity: 0.6;  padding: 1px 10px 1px 5px;}\n",
       ".datatable .frame thead tr.colnames {  background-image: url('data:image/png;base64,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');  background-repeat: repeat-x;  background-size: 14px;  height: 28px;}\n",
       "</style>\n"
      ],
      "text/plain": [
       "<IPython.core.display.HTML object>"
      ]
     },
     "metadata": {},
     "output_type": "display_data"
    },
    {
     "name": "stderr",
     "output_type": "stream",
     "text": [
      "/opt/conda/lib/python3.7/site-packages/ipykernel_launcher.py:13: TqdmDeprecationWarning: This function will be removed in tqdm==5.0.0\n",
      "Please use `tqdm.notebook.*` instead of `tqdm._tqdm_notebook.*`\n",
      "  del sys.path[0]\n",
      "/opt/conda/lib/python3.7/site-packages/tqdm/std.py:666: FutureWarning: The Panel class is removed from pandas. Accessing it from the top-level namespace will also be removed in the next version\n",
      "  from pandas import Panel\n"
     ]
    }
   ],
   "source": [
    "import gc\n",
    "import numpy as np\n",
    "import pandas as pd\n",
    "from collections import defaultdict\n",
    "import datatable as dt\n",
    "import lightgbm as lgb\n",
    "from matplotlib import pyplot as plt\n",
    "import riiideducation\n",
    "from bitarray import bitarray\n",
    "from functools import partial\n",
    "import pickle\n",
    "\n",
    "from tqdm._tqdm_notebook import tqdm_notebook\n",
    "from numba import jit\n",
    "import random\n",
    "\n",
    "tqdm_notebook.pandas(desc=\"progress: \")\n",
    "\n",
    "_ = np.seterr(divide='ignore', invalid='ignore')\n",
    "pd.set_option(\"max_rows\", 100)\n",
    "pd.set_option(\"max_columns\", 100)\n",
    "\n",
    "random.seed(1)"
   ]
  },
  {
   "cell_type": "code",
   "execution_count": 3,
   "metadata": {
    "execution": {
     "iopub.execute_input": "2020-12-27T06:58:08.470174Z",
     "iopub.status.busy": "2020-12-27T06:58:08.468378Z",
     "iopub.status.idle": "2020-12-27T06:58:08.474051Z",
     "shell.execute_reply": "2020-12-27T06:58:08.473337Z"
    },
    "papermill": {
     "duration": 0.03493,
     "end_time": "2020-12-27T06:58:08.474190",
     "exception": false,
     "start_time": "2020-12-27T06:58:08.439260",
     "status": "completed"
    },
    "tags": []
   },
   "outputs": [],
   "source": [
    "def make_bitarray():\n",
    "    a = bitarray(32737, endian='little')\n",
    "    a.setall(True)   \n",
    "    return a\n",
    "\n",
    "def clear_mem():\n",
    "    %reset -f out\n",
    "    %reset -f in\n",
    "    gc.collect()"
   ]
  },
  {
   "cell_type": "code",
   "execution_count": 4,
   "metadata": {
    "execution": {
     "iopub.execute_input": "2020-12-27T06:58:08.521478Z",
     "iopub.status.busy": "2020-12-27T06:58:08.520794Z",
     "iopub.status.idle": "2020-12-27T06:58:08.523848Z",
     "shell.execute_reply": "2020-12-27T06:58:08.523158Z"
    },
    "papermill": {
     "duration": 0.029011,
     "end_time": "2020-12-27T06:58:08.523959",
     "exception": false,
     "start_time": "2020-12-27T06:58:08.494948",
     "status": "completed"
    },
    "tags": []
   },
   "outputs": [],
   "source": [
    "FULL_TRAIN = False\n",
    "CV_SCHEME = \"original\" #\"time\""
   ]
  },
  {
   "cell_type": "markdown",
   "metadata": {
    "papermill": {
     "duration": 0.020107,
     "end_time": "2020-12-27T06:58:08.565018",
     "exception": false,
     "start_time": "2020-12-27T06:58:08.544911",
     "status": "completed"
    },
    "tags": []
   },
   "source": [
    "# Preprocess"
   ]
  },
  {
   "cell_type": "code",
   "execution_count": 5,
   "metadata": {
    "execution": {
     "iopub.execute_input": "2020-12-27T06:58:08.609652Z",
     "iopub.status.busy": "2020-12-27T06:58:08.608941Z",
     "iopub.status.idle": "2020-12-27T06:58:08.613249Z",
     "shell.execute_reply": "2020-12-27T06:58:08.613850Z"
    },
    "papermill": {
     "duration": 0.028516,
     "end_time": "2020-12-27T06:58:08.613991",
     "exception": false,
     "start_time": "2020-12-27T06:58:08.585475",
     "status": "completed"
    },
    "tags": []
   },
   "outputs": [],
   "source": [
    "data_types_dict = {\n",
    "    'row_id': 'uint32',\n",
    "    'timestamp': 'int64',\n",
    "    'user_id': 'int32', \n",
    "    'content_id': 'int16', \n",
    "    #'content_type_id': 'int8',\n",
    "    'answered_correctly': 'int8', \n",
    "    #'prior_question_elapsed_time': 'float32', \n",
    "    #'prior_question_had_explanation': 'bool',\n",
    "}\n",
    "target = 'answered_correctly'"
   ]
  },
  {
   "cell_type": "code",
   "execution_count": 6,
   "metadata": {
    "execution": {
     "iopub.execute_input": "2020-12-27T06:58:08.659707Z",
     "iopub.status.busy": "2020-12-27T06:58:08.659006Z",
     "iopub.status.idle": "2020-12-27T06:59:47.207944Z",
     "shell.execute_reply": "2020-12-27T06:59:47.207171Z"
    },
    "papermill": {
     "duration": 98.572883,
     "end_time": "2020-12-27T06:59:47.208098",
     "exception": false,
     "start_time": "2020-12-27T06:58:08.635215",
     "status": "completed"
    },
    "tags": []
   },
   "outputs": [],
   "source": [
    "train_df = dt.fread('../input/riiid-test-answer-prediction/train.csv', columns=set(data_types_dict.keys())).to_pandas()"
   ]
  },
  {
   "cell_type": "code",
   "execution_count": 7,
   "metadata": {
    "execution": {
     "iopub.execute_input": "2020-12-27T06:59:47.262252Z",
     "iopub.status.busy": "2020-12-27T06:59:47.261517Z",
     "iopub.status.idle": "2020-12-27T06:59:54.447231Z",
     "shell.execute_reply": "2020-12-27T06:59:54.446011Z"
    },
    "papermill": {
     "duration": 7.217431,
     "end_time": "2020-12-27T06:59:54.447369",
     "exception": false,
     "start_time": "2020-12-27T06:59:47.229938",
     "status": "completed"
    },
    "tags": []
   },
   "outputs": [],
   "source": [
    "train_df = train_df[train_df[target] != -1].reset_index(drop=True)\n",
    "\n",
    "#train_df['prior_question_had_explanation'].fillna(False, inplace=True)\n",
    "#train_df['prior_question_elapsed_time'].fillna(0, inplace=True)\n",
    "\n",
    "train_df = train_df.astype(data_types_dict)"
   ]
  },
  {
   "cell_type": "code",
   "execution_count": 8,
   "metadata": {
    "execution": {
     "iopub.execute_input": "2020-12-27T06:59:54.495578Z",
     "iopub.status.busy": "2020-12-27T06:59:54.494805Z",
     "iopub.status.idle": "2020-12-27T06:59:54.497322Z",
     "shell.execute_reply": "2020-12-27T06:59:54.496785Z"
    },
    "papermill": {
     "duration": 0.028701,
     "end_time": "2020-12-27T06:59:54.497429",
     "exception": false,
     "start_time": "2020-12-27T06:59:54.468728",
     "status": "completed"
    },
    "tags": []
   },
   "outputs": [],
   "source": [
    "# if CV_SCHEME==\"time\":\n",
    "#     max_timestamp_u = train_df[['user_id','timestamp']].groupby(['user_id']).agg(['max']).reset_index()\n",
    "#     max_timestamp_u.columns = ['user_id', 'max_time_stamp']\n",
    "#     MAX_TIME_STAMP = max_timestamp_u.max_time_stamp.max()\n",
    "\n",
    "#     def rand_time(max_time_stamp):\n",
    "#         interval = MAX_TIME_STAMP - max_time_stamp\n",
    "#         rand_time_stamp = random.randint(0,interval)\n",
    "#         return rand_time_stamp\n",
    "\n",
    "#     max_timestamp_u['rand_time_stamp'] = max_timestamp_u.max_time_stamp.apply(rand_time)\n",
    "#     train_df = train_df.merge(max_timestamp_u, on='user_id', how='left')\n",
    "#     train_df['viretual_time_stamp'] = train_df.timestamp + train_df['rand_time_stamp']\n",
    "\n",
    "#     del train_df['max_time_stamp']\n",
    "#     del train_df['rand_time_stamp']\n",
    "#     del max_timestamp_u\n",
    "\n",
    "#     train_index = list(train_df['viretual_time_stamp'].nlargest(10000000).index)\n",
    "\n",
    "# else:\n",
    "#     if FULL_TRAIN:\n",
    "#         train_size = 100\n",
    "#     else:\n",
    "#         train_size = 24\n",
    "#         valid_size = 6\n",
    "    \n",
    "#     train_index = list(train_df.groupby('user_id').tail(train_size).index)"
   ]
  },
  {
   "cell_type": "code",
   "execution_count": 9,
   "metadata": {
    "execution": {
     "iopub.execute_input": "2020-12-27T06:59:54.543394Z",
     "iopub.status.busy": "2020-12-27T06:59:54.542731Z",
     "iopub.status.idle": "2020-12-27T06:59:54.546282Z",
     "shell.execute_reply": "2020-12-27T06:59:54.546781Z"
    },
    "papermill": {
     "duration": 0.028177,
     "end_time": "2020-12-27T06:59:54.546916",
     "exception": false,
     "start_time": "2020-12-27T06:59:54.518739",
     "status": "completed"
    },
    "tags": []
   },
   "outputs": [],
   "source": [
    "# train_df[\"count\"] = 1\n",
    "\n",
    "# # normal cumsum\n",
    "# count_array = train_df.groupby(\"user_id\")[\"count\"].cumsum().values\n",
    "# count_array = count_array[train_index]\n",
    "# train_df.drop(\"count\", axis=1, inplace=True)"
   ]
  },
  {
   "cell_type": "code",
   "execution_count": 10,
   "metadata": {
    "execution": {
     "iopub.execute_input": "2020-12-27T06:59:54.595152Z",
     "iopub.status.busy": "2020-12-27T06:59:54.594370Z",
     "iopub.status.idle": "2020-12-27T06:59:54.597636Z",
     "shell.execute_reply": "2020-12-27T06:59:54.597019Z"
    },
    "papermill": {
     "duration": 0.029525,
     "end_time": "2020-12-27T06:59:54.597749",
     "exception": false,
     "start_time": "2020-12-27T06:59:54.568224",
     "status": "completed"
    },
    "tags": []
   },
   "outputs": [],
   "source": [
    "# timediff_array = train_df.groupby(\"user_id\")[\"timestamp\"].diff().values\n",
    "# timediff_array = timediff_array[train_index]\n",
    "# clear_mem()\n",
    "\n",
    "# timediff2_array = train_df.groupby(\"user_id\")[\"timestamp\"].diff(2).values\n",
    "# timediff2_array = timediff2_array[train_index]\n",
    "# clear_mem()\n",
    "\n",
    "# user_timestamp_max_dict = train_df.groupby(\"user_id\")[\"timestamp\"].apply(lambda x: x[-2:].values).to_dict(defaultdict(partial(np.ndarray, 0, dtype=\"int64\")))\n",
    "# train_df.drop(\"timestamp\", axis=1, inplace=True)\n",
    "# timediff_array = np.nan_to_num(timediff_array, nan=-1)\n",
    "# timediff2_array = np.nan_to_num(timediff2_array, nan=-1)"
   ]
  },
  {
   "cell_type": "code",
   "execution_count": 11,
   "metadata": {
    "execution": {
     "iopub.execute_input": "2020-12-27T06:59:54.647677Z",
     "iopub.status.busy": "2020-12-27T06:59:54.646894Z",
     "iopub.status.idle": "2020-12-27T06:59:54.649633Z",
     "shell.execute_reply": "2020-12-27T06:59:54.650125Z"
    },
    "papermill": {
     "duration": 0.029933,
     "end_time": "2020-12-27T06:59:54.650277",
     "exception": false,
     "start_time": "2020-12-27T06:59:54.620344",
     "status": "completed"
    },
    "tags": []
   },
   "outputs": [],
   "source": [
    "# prior_question_elapsed_time_array = train_df.prior_question_elapsed_time.values\n",
    "# train_df.drop(\"prior_question_elapsed_time\", axis =1, inplace=True)\n",
    "# prior_question_elapsed_time_array = prior_question_elapsed_time_array[train_index]"
   ]
  },
  {
   "cell_type": "code",
   "execution_count": 12,
   "metadata": {
    "execution": {
     "iopub.execute_input": "2020-12-27T06:59:54.707198Z",
     "iopub.status.busy": "2020-12-27T06:59:54.706520Z",
     "iopub.status.idle": "2020-12-27T07:00:11.161859Z",
     "shell.execute_reply": "2020-12-27T07:00:11.161292Z"
    },
    "papermill": {
     "duration": 16.489816,
     "end_time": "2020-12-27T07:00:11.161977",
     "exception": false,
     "start_time": "2020-12-27T06:59:54.672161",
     "status": "completed"
    },
    "tags": []
   },
   "outputs": [],
   "source": [
    "questions_df = pd.read_csv(\n",
    "    '../input/riiid-test-answer-prediction/questions.csv', \n",
    "    usecols=[0, 3], #4\n",
    "    dtype={'question_id': 'int16', 'part': 'int8'}  #'tags': 'str'\n",
    ")\n",
    "\n",
    "additional_q_df = pd.read_csv('../input/riiid-question-clustering/question_cmnts.csv')\n",
    "questions_df[\"community\"] = additional_q_df[\"community\"].astype('int8')\n",
    "del additional_q_df \n",
    "    \n",
    "train_df = pd.merge(train_df, questions_df, left_on='content_id', right_on='question_id', how='left', right_index=True).reset_index(drop=True)\n",
    "train_df.drop(columns=['question_id'], inplace=True)"
   ]
  },
  {
   "cell_type": "code",
   "execution_count": 13,
   "metadata": {
    "execution": {
     "iopub.execute_input": "2020-12-27T07:00:11.211356Z",
     "iopub.status.busy": "2020-12-27T07:00:11.210652Z",
     "iopub.status.idle": "2020-12-27T07:00:11.214019Z",
     "shell.execute_reply": "2020-12-27T07:00:11.213439Z"
    },
    "papermill": {
     "duration": 0.03019,
     "end_time": "2020-12-27T07:00:11.214160",
     "exception": false,
     "start_time": "2020-12-27T07:00:11.183970",
     "status": "completed"
    },
    "tags": []
   },
   "outputs": [],
   "source": [
    "# community_num = len(questions_df.community.unique())\n",
    "# print(community_num)\n",
    "\n",
    "# @jit\n",
    "# def tag_accuracy(A, C):\n",
    "#     ans = []\n",
    "#     community_count = [0] * community_num\n",
    "#     community_correct = [0] * community_num\n",
    "#     for i in range(len(C)):\n",
    "#         if community_count[C[i]]==0:\n",
    "#             ans.append(-1)\n",
    "#         else:\n",
    "#             ans.append(community_correct[C[i]]/community_count[C[i]])\n",
    "#         community_count[C[i]] +=1\n",
    "#         community_correct[C[i]] += A[i]\n",
    "#     return np.array(ans)\n",
    "\n",
    "# @jit\n",
    "# def tag_correct_last(A, C):\n",
    "#     community_correct = [0] * community_num\n",
    "#     for i in range(len(C)):\n",
    "#         community_correct[C[i]] += A[i]\n",
    "#     return np.array(community_correct)\n",
    "\n",
    "# @jit\n",
    "# def tag_count_last(A, C):\n",
    "#     community_count = [0] * community_num\n",
    "#     for i in range(len(C)):\n",
    "#         community_count[C[i]] +=1\n",
    "#     return np.array(community_count)\n",
    "\n",
    "# def init_dict():\n",
    "#     ans = [0] * community_num\n",
    "#     return np.array(ans)"
   ]
  },
  {
   "cell_type": "code",
   "execution_count": 14,
   "metadata": {
    "execution": {
     "iopub.execute_input": "2020-12-27T07:00:11.264578Z",
     "iopub.status.busy": "2020-12-27T07:00:11.263752Z",
     "iopub.status.idle": "2020-12-27T07:00:11.267370Z",
     "shell.execute_reply": "2020-12-27T07:00:11.266684Z"
    },
    "papermill": {
     "duration": 0.030988,
     "end_time": "2020-12-27T07:00:11.267501",
     "exception": false,
     "start_time": "2020-12-27T07:00:11.236513",
     "status": "completed"
    },
    "tags": []
   },
   "outputs": [],
   "source": [
    "# #\n",
    "# tag_acc_array = train_df.groupby(\"user_id\").apply(lambda x: tag_accuracy(x[\"answered_correctly\"].values, x[\"community\"].values))\n",
    "# tag_acc_array = np.hstack(tag_acc_array)\n",
    "# tag_acc_array = tag_acc_array[train_index]\n",
    "\n",
    "# user_community_count_dict = train_df.groupby(\"user_id\").apply(lambda x: tag_count_last(x[\"answered_correctly\"].values, x[\"community\"].values)).to_dict(defaultdict(init_dict))\n",
    "# user_community_correct_dict = train_df.groupby(\"user_id\").apply(lambda x: tag_correct_last(x[\"answered_correctly\"].values, x[\"community\"].values)).to_dict(defaultdict(init_dict))\n",
    "    \n",
    "# #\n",
    "# community_agg = train_df.groupby('community')[target].agg(['count'])\n",
    "# community_count_dict = community_agg['count'].astype('int32').to_dict(defaultdict(int))\n",
    "# community_count_array = train_df['community'].map(community_agg['count']).astype('int32').values\n",
    "# del community_agg\n",
    "# community_count_array = community_count_array[train_index]\n",
    "    \n",
    "# community_array = train_df[\"community\"].values\n",
    "# community_array = community_array[train_index]\n",
    "# train_df.drop('community', axis=1, inplace=True)"
   ]
  },
  {
   "cell_type": "code",
   "execution_count": 15,
   "metadata": {
    "execution": {
     "iopub.execute_input": "2020-12-27T07:00:11.315867Z",
     "iopub.status.busy": "2020-12-27T07:00:11.314837Z",
     "iopub.status.idle": "2020-12-27T07:00:11.318510Z",
     "shell.execute_reply": "2020-12-27T07:00:11.319020Z"
    },
    "papermill": {
     "duration": 0.029289,
     "end_time": "2020-12-27T07:00:11.319179",
     "exception": false,
     "start_time": "2020-12-27T07:00:11.289890",
     "status": "completed"
    },
    "tags": []
   },
   "outputs": [],
   "source": [
    "# train_df['lag'] = train_df.groupby('user_id')[target].shift()\n",
    "# cum = train_df.groupby('user_id')['lag'].agg(['cumsum', 'cumcount'])\n",
    "# user_correctness_array = np.array(cum['cumsum'] / cum['cumcount'])\n",
    "# user_correctness_array = user_correctness_array[train_index]\n",
    "# train_df.drop(columns=['lag'], inplace=True)\n",
    "# del cum"
   ]
  },
  {
   "cell_type": "code",
   "execution_count": 16,
   "metadata": {
    "execution": {
     "iopub.execute_input": "2020-12-27T07:00:11.368158Z",
     "iopub.status.busy": "2020-12-27T07:00:11.367085Z",
     "iopub.status.idle": "2020-12-27T07:00:11.371591Z",
     "shell.execute_reply": "2020-12-27T07:00:11.372136Z"
    },
    "papermill": {
     "duration": 0.030911,
     "end_time": "2020-12-27T07:00:11.372277",
     "exception": false,
     "start_time": "2020-12-27T07:00:11.341366",
     "status": "completed"
    },
    "tags": []
   },
   "outputs": [],
   "source": [
    "# @jit\n",
    "# def part_count_calc(P):\n",
    "#     ans = []\n",
    "#     part_count = [0] * 8\n",
    "#     for i in range(len(P)):\n",
    "#         part_count[P[i]] += 1\n",
    "#         ans.append(part_count[P[i]])\n",
    "#     return np.array(ans)\n",
    "\n",
    "# @jit\n",
    "# def part_count_dict_calc(P):\n",
    "#     part_count = [0] * 8\n",
    "#     for i in range(len(P)):\n",
    "#         part_count[P[i]] += 1\n",
    "#     return np.array(part_count)\n",
    "\n",
    "# def part_dict_init():\n",
    "#     ans = [0] * 8\n",
    "#     return np.array(ans)\n",
    "\n",
    "# part_count_array = train_df.groupby(\"user_id\").apply(lambda x: part_count_calc(x[\"part\"].values))\n",
    "# part_count_array = np.hstack(part_count_array)\n",
    "# part_count_array = part_count_array[train_index]\n",
    "# part_ratio_array = part_count_array / count_array\n",
    "\n",
    "# user_part_count_dict = train_df.groupby(\"user_id\").apply(lambda x: part_count_dict_calc(x[\"part\"].values)).to_dict(defaultdict(part_dict_init))\n",
    "\n",
    "# part_array = train_df.part.values\n",
    "# train_df.drop(\"part\", axis=1, inplace=True)\n",
    "# part_array = part_array[train_index]"
   ]
  },
  {
   "cell_type": "code",
   "execution_count": 17,
   "metadata": {
    "execution": {
     "iopub.execute_input": "2020-12-27T07:00:11.420916Z",
     "iopub.status.busy": "2020-12-27T07:00:11.419869Z",
     "iopub.status.idle": "2020-12-27T07:00:11.423809Z",
     "shell.execute_reply": "2020-12-27T07:00:11.424301Z"
    },
    "papermill": {
     "duration": 0.029841,
     "end_time": "2020-12-27T07:00:11.424462",
     "exception": false,
     "start_time": "2020-12-27T07:00:11.394621",
     "status": "completed"
    },
    "tags": []
   },
   "outputs": [],
   "source": [
    "# # prior_question_had_explanation_mean\n",
    "# train_df['lag'] = train_df.groupby('user_id')['prior_question_had_explanation'].shift().astype(bool)\n",
    "# cum = train_df.groupby('user_id')['lag'].agg(['cumsum', 'cumcount'])\n",
    "# prior_question_had_explanation_mean_array = np.array(cum['cumsum'] / cum['cumcount'])\n",
    "# prior_question_had_explanation_mean_array = prior_question_had_explanation_mean_array[train_index]\n",
    "\n",
    "# user_prior_question_had_explanation_sum_agg = train_df.groupby('user_id')[\"prior_question_had_explanation\"].agg(['sum'])\n",
    "# user_prior_question_had_explanation_sum_dict = user_prior_question_had_explanation_sum_agg['sum'].astype('int32').to_dict(defaultdict(int))\n",
    "# train_df.drop(columns=['lag'], inplace=True)\n",
    "# del cum, user_prior_question_had_explanation_sum_agg\n",
    "\n",
    "# prior_question_had_explanation_array = train_df.prior_question_had_explanation.values\n",
    "# train_df.drop('prior_question_had_explanation', axis=1, inplace=True)\n",
    "# prior_question_had_explanation_array = prior_question_had_explanation_array[train_index]"
   ]
  },
  {
   "cell_type": "code",
   "execution_count": 18,
   "metadata": {
    "execution": {
     "iopub.execute_input": "2020-12-27T07:00:11.473855Z",
     "iopub.status.busy": "2020-12-27T07:00:11.472829Z",
     "iopub.status.idle": "2020-12-27T07:21:48.394826Z",
     "shell.execute_reply": "2020-12-27T07:21:48.396190Z"
    },
    "papermill": {
     "duration": 1296.950147,
     "end_time": "2020-12-27T07:21:48.397176",
     "exception": false,
     "start_time": "2020-12-27T07:00:11.447029",
     "status": "completed"
    },
    "tags": []
   },
   "outputs": [
    {
     "data": {
      "application/vnd.jupyter.widget-view+json": {
       "model_id": "9db4ef1f912245899900d0584350bc47",
       "version_major": 2,
       "version_minor": 0
      },
      "text/plain": [
       "HBox(children=(FloatProgress(value=0.0, description='progress: ', max=393656.0, style=ProgressStyle(descriptio…"
      ]
     },
     "metadata": {},
     "output_type": "display_data"
    },
    {
     "name": "stdout",
     "output_type": "stream",
     "text": [
      "\n"
     ]
    }
   ],
   "source": [
    "# how to make first_attempt\n",
    "# takes about 10 minutes\n",
    "train_df[\"first_attempt\"] = train_df[[\"row_id\", \"user_id\", \"content_id\"]].groupby(\"user_id\").progress_apply(lambda x: \n",
    "                                                                    pd.DataFrame(np.isin(x[\"row_id\"].values, x.drop_duplicates(\"content_id\")[\"row_id\"].values))).values\n",
    "\n",
    "#for i in list(train.user_id.unique())[:10]:\n",
    "#    tmp1 = np.isin(train[train.user_id==i][\"row_id\"].values, train[train.user_id==i].groupby(\"content_id\").first()[\"row_id\"].values)\n",
    "#    tmp2 = np.isin(train[train.user_id==i][\"row_id\"], train[train.user_id==i].drop_duplicates(\"content_id\")[\"row_id\"])\n",
    "#    print(i, np.all(tmp1 == tmp2))\n",
    "\n",
    "train_df[[\"first_attempt\"]].to_csv(\"content_first_attempt.csv\", index=False)\n",
    "del train_df[\"row_id\"]\n",
    "del train_df[\"first_attempt\"]"
   ]
  },
  {
   "cell_type": "code",
   "execution_count": 19,
   "metadata": {
    "execution": {
     "iopub.execute_input": "2020-12-27T07:21:48.452979Z",
     "iopub.status.busy": "2020-12-27T07:21:48.452289Z",
     "iopub.status.idle": "2020-12-27T07:21:48.454226Z",
     "shell.execute_reply": "2020-12-27T07:21:48.454739Z"
    },
    "papermill": {
     "duration": 0.033057,
     "end_time": "2020-12-27T07:21:48.454874",
     "exception": false,
     "start_time": "2020-12-27T07:21:48.421817",
     "status": "completed"
    },
    "tags": []
   },
   "outputs": [],
   "source": [
    "# ok\n",
    "# first_attempt_df = pd.read_csv(\"../input/riiid-additional-data/content_first_attempt.csv\")\n",
    "# first_attempt_array = first_attempt_df.first_attempt.values\n",
    "# train_df[\"first_attempt\"] = first_attempt_array\n",
    "\n",
    "# unique_attempt_array= train_df.groupby(\"user_id\")[\"first_attempt\"].cumsum().values\n",
    "# train_df[\"unique_attempt\"] = unique_attempt_array\n",
    "# user_unique_agg = train_df.groupby('user_id')[\"unique_attempt\"].agg(['max'])\n",
    "# user_unique_dict = user_unique_agg['max'].astype('int32').to_dict(defaultdict(int))\n",
    "\n",
    "# first_attempt_array = first_attempt_array[train_index]\n",
    "# unique_attempt_array = unique_attempt_array[train_index]\n",
    "# train_df.drop(['first_attempt', 'unique_attempt'], axis=1, inplace=True)\n",
    "# del first_attempt_df, user_unique_agg\n",
    "\n",
    "# clear_mem()"
   ]
  },
  {
   "cell_type": "code",
   "execution_count": 20,
   "metadata": {
    "execution": {
     "iopub.execute_input": "2020-12-27T07:21:48.506739Z",
     "iopub.status.busy": "2020-12-27T07:21:48.506033Z",
     "iopub.status.idle": "2020-12-27T07:22:00.242455Z",
     "shell.execute_reply": "2020-12-27T07:22:00.242967Z"
    },
    "papermill": {
     "duration": 11.764361,
     "end_time": "2020-12-27T07:22:00.243137",
     "exception": false,
     "start_time": "2020-12-27T07:21:48.478776",
     "status": "completed"
    },
    "tags": []
   },
   "outputs": [
    {
     "name": "stdout",
     "output_type": "stream",
     "text": [
      "Flushing output cache (0 entries)\n",
      "Flushing input history\n",
      "Flushing output cache (0 entries)\n",
      "Flushing input history\n"
     ]
    }
   ],
   "source": [
    "# ok\n",
    "user_agg = train_df.groupby('user_id')[target].agg(['sum', 'count'])\n",
    "user_sum_dict = user_agg['sum'].astype('int16').to_dict(defaultdict(int))\n",
    "del user_agg['sum']\n",
    "user_count_dict = user_agg['count'].astype('int16').to_dict(defaultdict(int))\n",
    "del user_agg['count']\n",
    "clear_mem()\n",
    "\n",
    "# #\n",
    "content_agg = train_df.groupby('content_id')[target].agg(['sum', 'count'])\n",
    "content_sum_dict = content_agg['sum'].astype('int32').to_dict(defaultdict(int))\n",
    "content_count_dict = content_agg['count'].astype('int32').to_dict(defaultdict(int))\n",
    "\n",
    "content_count_array = train_df['content_id'].map(content_agg['count']).astype('int32').values\n",
    "content_id_array = train_df['content_id'].map(content_agg['sum'] / content_agg['count']).values\n",
    "del content_agg\n",
    "clear_mem()"
   ]
  },
  {
   "cell_type": "code",
   "execution_count": 21,
   "metadata": {
    "execution": {
     "iopub.execute_input": "2020-12-27T07:22:00.299212Z",
     "iopub.status.busy": "2020-12-27T07:22:00.297683Z",
     "iopub.status.idle": "2020-12-27T07:22:01.216530Z",
     "shell.execute_reply": "2020-12-27T07:22:01.215936Z"
    },
    "papermill": {
     "duration": 0.948588,
     "end_time": "2020-12-27T07:22:01.216641",
     "exception": false,
     "start_time": "2020-12-27T07:22:00.268053",
     "status": "completed"
    },
    "tags": []
   },
   "outputs": [
    {
     "name": "stdout",
     "output_type": "stream",
     "text": [
      "Flushing output cache (0 entries)\n",
      "Flushing input history\n"
     ]
    }
   ],
   "source": [
    "# ok\n",
    "# benefit of solving difficult questions\n",
    "point_array = 1 / (content_id_array + 0.1)\n",
    "#content_id_array = content_id_array[train_index]\n",
    "#content_count_array = content_count_array[train_index]\n",
    "clear_mem()"
   ]
  },
  {
   "cell_type": "code",
   "execution_count": 22,
   "metadata": {
    "execution": {
     "iopub.execute_input": "2020-12-27T07:22:01.276458Z",
     "iopub.status.busy": "2020-12-27T07:22:01.275702Z",
     "iopub.status.idle": "2020-12-27T07:22:23.595803Z",
     "shell.execute_reply": "2020-12-27T07:22:23.596573Z"
    },
    "papermill": {
     "duration": 22.355751,
     "end_time": "2020-12-27T07:22:23.596788",
     "exception": false,
     "start_time": "2020-12-27T07:22:01.241037",
     "status": "completed"
    },
    "tags": []
   },
   "outputs": [],
   "source": [
    "###########\n",
    "train_df[\"got_point\"] = point_array * train_df[\"answered_correctly\"].values\n",
    "del point_array\n",
    "user_point_agg = train_df.groupby('user_id')[\"got_point\"].agg(['sum'])\n",
    "user_point_sum_dict = user_point_agg['sum'].astype('float32').to_dict(defaultdict(float))\n",
    "del user_point_agg\n",
    "\n",
    "train_df['lag'] = train_df.groupby('user_id')[\"got_point\"].shift()\n",
    "cum = train_df.groupby('user_id')['lag'].agg(['cumsum', 'cumcount'])\n",
    "got_point_array = np.array(cum['cumsum'] / cum['cumcount'])\n",
    "train_df.drop(columns=['lag', 'got_point'], inplace=True)\n",
    "#del cum\n",
    "#got_point_array = got_point_array[train_index]\n",
    "#clear_mem()\n",
    "\n",
    "with open('got_point_array.pickle','wb') as f:\n",
    "    pickle.dump(got_point_array, f)\n",
    "    \n",
    "with open('user_point_sum_dict.pickle','wb') as f:\n",
    "    pickle.dump(user_point_sum_dict, f)"
   ]
  },
  {
   "cell_type": "code",
   "execution_count": 23,
   "metadata": {
    "execution": {
     "iopub.execute_input": "2020-12-27T07:22:23.660168Z",
     "iopub.status.busy": "2020-12-27T07:22:23.659486Z",
     "iopub.status.idle": "2020-12-27T07:24:38.373892Z",
     "shell.execute_reply": "2020-12-27T07:24:38.374494Z"
    },
    "papermill": {
     "duration": 134.752145,
     "end_time": "2020-12-27T07:24:38.374670",
     "exception": false,
     "start_time": "2020-12-27T07:22:23.622525",
     "status": "completed"
    },
    "tags": []
   },
   "outputs": [
    {
     "name": "stdout",
     "output_type": "stream",
     "text": [
      "CPU times: user 2min 7s, sys: 6.2 s, total: 2min 13s\n",
      "Wall time: 2min 14s\n"
     ]
    }
   ],
   "source": [
    "%%time\n",
    "user_content_agg = train_df.groupby(\"user_id\")[\"content_id\"].unique().reset_index().set_index(\"user_id\")\n",
    "\n",
    "value = []\n",
    "for j in user_content_agg.index:\n",
    "    a = bitarray(32737, endian='little')\n",
    "    a.setall(True)\n",
    "    for i in user_content_agg.loc[j][0]:\n",
    "        a[i] = 0\n",
    "    value.append(a)\n",
    "    \n",
    "user_content_agg[\"content_exp\"] = value\n",
    "user_content_dict = user_content_agg[\"content_exp\"].to_dict(defaultdict(make_bitarray))\n",
    "del user_content_agg, value\n",
    "train_df.drop([\"content_id\"], axis=1, inplace=True)\n",
    "\n",
    "with open('user_content_dict.pickle','wb') as f:\n",
    "    pickle.dump(user_content_dict, f)"
   ]
  },
  {
   "cell_type": "code",
   "execution_count": 24,
   "metadata": {
    "execution": {
     "iopub.execute_input": "2020-12-27T07:24:38.572119Z",
     "iopub.status.busy": "2020-12-27T07:24:38.570895Z",
     "iopub.status.idle": "2020-12-27T07:25:47.402904Z",
     "shell.execute_reply": "2020-12-27T07:25:47.402196Z"
    },
    "papermill": {
     "duration": 68.929691,
     "end_time": "2020-12-27T07:25:47.403025",
     "exception": false,
     "start_time": "2020-12-27T07:24:38.473334",
     "status": "completed"
    },
    "tags": []
   },
   "outputs": [],
   "source": [
    "@jit\n",
    "def accuracy_last7(A):\n",
    "    ans = []\n",
    "    for i in range(len(A)):\n",
    "        if i < 7:\n",
    "            ans.append(np.nan)\n",
    "        else:\n",
    "            ans.append(np.mean(A[i-7:i]))       \n",
    "    return np.array(ans)\n",
    "\n",
    "answered_correctly_last7_array = train_df.groupby(\"user_id\").apply(lambda x: accuracy_last7(x[\"answered_correctly\"].values))\n",
    "answered_correctly_last7_array = np.hstack(answered_correctly_last7_array)\n",
    "\n",
    "with open('answered_correctly_last7_array.pickle','wb') as f:\n",
    "    pickle.dump(answered_correctly_last7_array, f)\n",
    "\n",
    "#answered_correctly_last7_array = answered_correctly_last7_array[train_index]\n",
    "user_last7_answer_dict = train_df.groupby(\"user_id\")[\"answered_correctly\"].apply(lambda x: \n",
    "                                                                                 x[-7:].values).to_dict(defaultdict(partial(np.ndarray, 0, dtype=\"int8\")))\n",
    "\n",
    "with open('user_last7_answer_dict.pickle','wb') as f:\n",
    "    pickle.dump(user_last7_answer_dict, f)"
   ]
  },
  {
   "cell_type": "code",
   "execution_count": 25,
   "metadata": {
    "execution": {
     "iopub.execute_input": "2020-12-27T07:25:47.460476Z",
     "iopub.status.busy": "2020-12-27T07:25:47.459748Z",
     "iopub.status.idle": "2020-12-27T07:25:47.462762Z",
     "shell.execute_reply": "2020-12-27T07:25:47.462247Z"
    },
    "papermill": {
     "duration": 0.033618,
     "end_time": "2020-12-27T07:25:47.462874",
     "exception": false,
     "start_time": "2020-12-27T07:25:47.429256",
     "status": "completed"
    },
    "tags": []
   },
   "outputs": [],
   "source": [
    "#answered_correctly_array = train_df[target].values\n",
    "#train_df.drop(target, axis=1, inplace=True)\n",
    "#answered_correctly_array = answered_correctly_array[train_index]"
   ]
  },
  {
   "cell_type": "code",
   "execution_count": 26,
   "metadata": {
    "execution": {
     "iopub.execute_input": "2020-12-27T07:25:47.537370Z",
     "iopub.status.busy": "2020-12-27T07:25:47.536651Z",
     "iopub.status.idle": "2020-12-27T07:27:25.826974Z",
     "shell.execute_reply": "2020-12-27T07:27:25.826360Z"
    },
    "papermill": {
     "duration": 98.337848,
     "end_time": "2020-12-27T07:27:25.827136",
     "exception": false,
     "start_time": "2020-12-27T07:25:47.489288",
     "status": "completed"
    },
    "tags": []
   },
   "outputs": [],
   "source": [
    "@jit\n",
    "def continuous_correct(A):\n",
    "    ans = []\n",
    "    count = 0\n",
    "    for i in range(len(A)): \n",
    "        ans.append(count)\n",
    "        if A[i] ==1:\n",
    "            count += 1\n",
    "        else:\n",
    "            count = 0\n",
    "    return np.array(ans)\n",
    "\n",
    "@jit\n",
    "def continuous_incorrect(A):\n",
    "    ans = []\n",
    "    count = 0\n",
    "    for i in range(len(A)): \n",
    "        ans.append(count)\n",
    "        if A[i] ==0:\n",
    "            count += 1\n",
    "        else:\n",
    "            count = 0\n",
    "    return np.array(ans)\n",
    "\n",
    "@jit\n",
    "def continuous_correct_dict_calc(A):\n",
    "    count = 0\n",
    "    for i in range(len(A)): \n",
    "        if A[i] ==1:\n",
    "            count += 1\n",
    "        else:\n",
    "            count = 0\n",
    "    return count\n",
    "\n",
    "@jit\n",
    "def continuous_incorrect_dict_calc(A):\n",
    "    count = 0\n",
    "    for i in range(len(A)): \n",
    "        if A[i] ==0:\n",
    "            count += 1\n",
    "        else:\n",
    "            count = 0\n",
    "    return count\n",
    "\n",
    "continuous_correct_array = train_df.groupby(\"user_id\").apply(lambda x: continuous_correct(x[\"answered_correctly\"].values))\n",
    "continuous_correct_array = np.hstack(continuous_correct_array)\n",
    "#continuous_correct_array = continuous_correct_array[train_index]\n",
    "\n",
    "continuous_incorrect_array = train_df.groupby(\"user_id\").apply(lambda x: continuous_incorrect(x[\"answered_correctly\"].values))\n",
    "continuous_incorrect_array = np.hstack(continuous_incorrect_array)\n",
    "#continuous_incorrect_array = continuous_incorrect_array[train_index]\n",
    "\n",
    "continuous_incorrect_dict = train_df.groupby(\"user_id\").apply(lambda x: continuous_incorrect_dict_calc(x[\"answered_correctly\"].values)).to_dict(defaultdict(int))\n",
    "continuous_correct_dict = train_df.groupby(\"user_id\").apply(lambda x: continuous_correct_dict_calc(x[\"answered_correctly\"].values)).to_dict(defaultdict(int))\n",
    "\n",
    "with open('continuous_correct_array.pickle','wb') as f:\n",
    "    pickle.dump(continuous_correct_array, f)\n",
    "\n",
    "with open('continuous_correct_dict.pickle','wb') as f:\n",
    "    pickle.dump(continuous_correct_dict, f)\n",
    "    \n",
    "with open('continuous_incorrect_array.pickle','wb') as f:\n",
    "    pickle.dump(continuous_incorrect_array, f)\n",
    "    \n",
    "with open('continuous_incorrect_dict.pickle','wb') as f:\n",
    "    pickle.dump(continuous_incorrect_dict, f)"
   ]
  },
  {
   "cell_type": "code",
   "execution_count": null,
   "metadata": {
    "papermill": {
     "duration": 0.142037,
     "end_time": "2020-12-27T07:27:26.163888",
     "exception": false,
     "start_time": "2020-12-27T07:27:26.021851",
     "status": "completed"
    },
    "tags": []
   },
   "outputs": [],
   "source": []
  }
 ],
 "metadata": {
  "kernelspec": {
   "display_name": "Python 3",
   "language": "python",
   "name": "python3"
  },
  "language_info": {
   "codemirror_mode": {
    "name": "ipython",
    "version": 3
   },
   "file_extension": ".py",
   "mimetype": "text/x-python",
   "name": "python",
   "nbconvert_exporter": "python",
   "pygments_lexer": "ipython3",
   "version": "3.7.6"
  },
  "papermill": {
   "duration": 1796.479535,
   "end_time": "2020-12-27T07:27:27.465956",
   "environment_variables": {},
   "exception": null,
   "input_path": "__notebook__.ipynb",
   "output_path": "__notebook__.ipynb",
   "parameters": {},
   "start_time": "2020-12-27T06:57:30.986421",
   "version": "2.1.0"
  },
  "widgets": {
   "application/vnd.jupyter.widget-state+json": {
    "state": {
     "39a27e5419d0470fb5221b33634d6ee0": {
      "model_module": "@jupyter-widgets/controls",
      "model_module_version": "1.5.0",
      "model_name": "ProgressStyleModel",
      "state": {
       "_model_module": "@jupyter-widgets/controls",
       "_model_module_version": "1.5.0",
       "_model_name": "ProgressStyleModel",
       "_view_count": null,
       "_view_module": "@jupyter-widgets/base",
       "_view_module_version": "1.2.0",
       "_view_name": "StyleView",
       "bar_color": null,
       "description_width": "initial"
      }
     },
     "4f768607994047b2823aed2882ffa02a": {
      "model_module": "@jupyter-widgets/base",
      "model_module_version": "1.2.0",
      "model_name": "LayoutModel",
      "state": {
       "_model_module": "@jupyter-widgets/base",
       "_model_module_version": "1.2.0",
       "_model_name": "LayoutModel",
       "_view_count": null,
       "_view_module": "@jupyter-widgets/base",
       "_view_module_version": "1.2.0",
       "_view_name": "LayoutView",
       "align_content": null,
       "align_items": null,
       "align_self": null,
       "border": null,
       "bottom": null,
       "display": null,
       "flex": null,
       "flex_flow": null,
       "grid_area": null,
       "grid_auto_columns": null,
       "grid_auto_flow": null,
       "grid_auto_rows": null,
       "grid_column": null,
       "grid_gap": null,
       "grid_row": null,
       "grid_template_areas": null,
       "grid_template_columns": null,
       "grid_template_rows": null,
       "height": null,
       "justify_content": null,
       "justify_items": null,
       "left": null,
       "margin": null,
       "max_height": null,
       "max_width": null,
       "min_height": null,
       "min_width": null,
       "object_fit": null,
       "object_position": null,
       "order": null,
       "overflow": null,
       "overflow_x": null,
       "overflow_y": null,
       "padding": null,
       "right": null,
       "top": null,
       "visibility": null,
       "width": null
      }
     },
     "5896e7cdcb3b414994d5f56aa838f7ad": {
      "model_module": "@jupyter-widgets/controls",
      "model_module_version": "1.5.0",
      "model_name": "HTMLModel",
      "state": {
       "_dom_classes": [],
       "_model_module": "@jupyter-widgets/controls",
       "_model_module_version": "1.5.0",
       "_model_name": "HTMLModel",
       "_view_count": null,
       "_view_module": "@jupyter-widgets/controls",
       "_view_module_version": "1.5.0",
       "_view_name": "HTMLView",
       "description": "",
       "description_tooltip": null,
       "layout": "IPY_MODEL_61d71afa31a546b3a5a7286185c6c917",
       "placeholder": "​",
       "style": "IPY_MODEL_9f86b24b977940f3b2672de518d2f232",
       "value": " 393656/393656 [21:38&lt;00:00, 303.17it/s]"
      }
     },
     "61d71afa31a546b3a5a7286185c6c917": {
      "model_module": "@jupyter-widgets/base",
      "model_module_version": "1.2.0",
      "model_name": "LayoutModel",
      "state": {
       "_model_module": "@jupyter-widgets/base",
       "_model_module_version": "1.2.0",
       "_model_name": "LayoutModel",
       "_view_count": null,
       "_view_module": "@jupyter-widgets/base",
       "_view_module_version": "1.2.0",
       "_view_name": "LayoutView",
       "align_content": null,
       "align_items": null,
       "align_self": null,
       "border": null,
       "bottom": null,
       "display": null,
       "flex": null,
       "flex_flow": null,
       "grid_area": null,
       "grid_auto_columns": null,
       "grid_auto_flow": null,
       "grid_auto_rows": null,
       "grid_column": null,
       "grid_gap": null,
       "grid_row": null,
       "grid_template_areas": null,
       "grid_template_columns": null,
       "grid_template_rows": null,
       "height": null,
       "justify_content": null,
       "justify_items": null,
       "left": null,
       "margin": null,
       "max_height": null,
       "max_width": null,
       "min_height": null,
       "min_width": null,
       "object_fit": null,
       "object_position": null,
       "order": null,
       "overflow": null,
       "overflow_x": null,
       "overflow_y": null,
       "padding": null,
       "right": null,
       "top": null,
       "visibility": null,
       "width": null
      }
     },
     "89121504bb0240d2bbc4f952f1365778": {
      "model_module": "@jupyter-widgets/controls",
      "model_module_version": "1.5.0",
      "model_name": "FloatProgressModel",
      "state": {
       "_dom_classes": [],
       "_model_module": "@jupyter-widgets/controls",
       "_model_module_version": "1.5.0",
       "_model_name": "FloatProgressModel",
       "_view_count": null,
       "_view_module": "@jupyter-widgets/controls",
       "_view_module_version": "1.5.0",
       "_view_name": "ProgressView",
       "bar_style": "success",
       "description": "progress: 100%",
       "description_tooltip": null,
       "layout": "IPY_MODEL_4f768607994047b2823aed2882ffa02a",
       "max": 393656.0,
       "min": 0.0,
       "orientation": "horizontal",
       "style": "IPY_MODEL_39a27e5419d0470fb5221b33634d6ee0",
       "value": 393656.0
      }
     },
     "9db4ef1f912245899900d0584350bc47": {
      "model_module": "@jupyter-widgets/controls",
      "model_module_version": "1.5.0",
      "model_name": "HBoxModel",
      "state": {
       "_dom_classes": [],
       "_model_module": "@jupyter-widgets/controls",
       "_model_module_version": "1.5.0",
       "_model_name": "HBoxModel",
       "_view_count": null,
       "_view_module": "@jupyter-widgets/controls",
       "_view_module_version": "1.5.0",
       "_view_name": "HBoxView",
       "box_style": "",
       "children": [
        "IPY_MODEL_89121504bb0240d2bbc4f952f1365778",
        "IPY_MODEL_5896e7cdcb3b414994d5f56aa838f7ad"
       ],
       "layout": "IPY_MODEL_e6d0a60758e04856b9021295c81b0a3c"
      }
     },
     "9f86b24b977940f3b2672de518d2f232": {
      "model_module": "@jupyter-widgets/controls",
      "model_module_version": "1.5.0",
      "model_name": "DescriptionStyleModel",
      "state": {
       "_model_module": "@jupyter-widgets/controls",
       "_model_module_version": "1.5.0",
       "_model_name": "DescriptionStyleModel",
       "_view_count": null,
       "_view_module": "@jupyter-widgets/base",
       "_view_module_version": "1.2.0",
       "_view_name": "StyleView",
       "description_width": ""
      }
     },
     "e6d0a60758e04856b9021295c81b0a3c": {
      "model_module": "@jupyter-widgets/base",
      "model_module_version": "1.2.0",
      "model_name": "LayoutModel",
      "state": {
       "_model_module": "@jupyter-widgets/base",
       "_model_module_version": "1.2.0",
       "_model_name": "LayoutModel",
       "_view_count": null,
       "_view_module": "@jupyter-widgets/base",
       "_view_module_version": "1.2.0",
       "_view_name": "LayoutView",
       "align_content": null,
       "align_items": null,
       "align_self": null,
       "border": null,
       "bottom": null,
       "display": null,
       "flex": null,
       "flex_flow": null,
       "grid_area": null,
       "grid_auto_columns": null,
       "grid_auto_flow": null,
       "grid_auto_rows": null,
       "grid_column": null,
       "grid_gap": null,
       "grid_row": null,
       "grid_template_areas": null,
       "grid_template_columns": null,
       "grid_template_rows": null,
       "height": null,
       "justify_content": null,
       "justify_items": null,
       "left": null,
       "margin": null,
       "max_height": null,
       "max_width": null,
       "min_height": null,
       "min_width": null,
       "object_fit": null,
       "object_position": null,
       "order": null,
       "overflow": null,
       "overflow_x": null,
       "overflow_y": null,
       "padding": null,
       "right": null,
       "top": null,
       "visibility": null,
       "width": null
      }
     }
    },
    "version_major": 2,
    "version_minor": 0
   }
  }
 },
 "nbformat": 4,
 "nbformat_minor": 4
}
