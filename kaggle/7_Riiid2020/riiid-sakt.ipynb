{
 "cells": [
  {
   "cell_type": "markdown",
   "metadata": {
    "papermill": {
     "duration": 0.019435,
     "end_time": "2020-12-19T09:42:09.171011",
     "exception": false,
     "start_time": "2020-12-19T09:42:09.151576",
     "status": "completed"
    },
    "tags": []
   },
   "source": [
    "- change max_le in lr scheduler"
   ]
  },
  {
   "cell_type": "code",
   "execution_count": 1,
   "metadata": {
    "execution": {
     "iopub.execute_input": "2020-12-19T09:42:09.214346Z",
     "iopub.status.busy": "2020-12-19T09:42:09.213480Z",
     "iopub.status.idle": "2020-12-19T09:42:39.735952Z",
     "shell.execute_reply": "2020-12-19T09:42:39.734392Z"
    },
    "papermill": {
     "duration": 30.546697,
     "end_time": "2020-12-19T09:42:39.736085",
     "exception": false,
     "start_time": "2020-12-19T09:42:09.189388",
     "status": "completed"
    },
    "tags": []
   },
   "outputs": [],
   "source": [
    "!pip install ../input/python-datatable/datatable-0.11.0-cp37-cp37m-manylinux2010_x86_64.whl > /dev/null 2>&1"
   ]
  },
  {
   "cell_type": "code",
   "execution_count": 2,
   "metadata": {
    "_cell_guid": "79c7e3d0-c299-4dcb-8224-4455121ee9b0",
    "_uuid": "d629ff2d2480ee46fbb7e2d37f6b5fab8052498a",
    "execution": {
     "iopub.execute_input": "2020-12-19T09:42:39.782020Z",
     "iopub.status.busy": "2020-12-19T09:42:39.781151Z",
     "iopub.status.idle": "2020-12-19T09:42:47.419454Z",
     "shell.execute_reply": "2020-12-19T09:42:47.418838Z"
    },
    "papermill": {
     "duration": 7.664607,
     "end_time": "2020-12-19T09:42:47.419615",
     "exception": false,
     "start_time": "2020-12-19T09:42:39.755008",
     "status": "completed"
    },
    "tags": []
   },
   "outputs": [
    {
     "data": {
      "text/html": [
       "<style type='text/css'>\n",
       ".datatable table.frame { margin-bottom: 0; }\n",
       ".datatable table.frame thead { border-bottom: none; }\n",
       ".datatable table.frame tr.coltypes td {  color: #FFFFFF;  line-height: 6px;  padding: 0 0.5em;}\n",
       ".datatable .bool    { background: #DDDD99; }\n",
       ".datatable .object  { background: #565656; }\n",
       ".datatable .int     { background: #5D9E5D; }\n",
       ".datatable .float   { background: #4040CC; }\n",
       ".datatable .str     { background: #CC4040; }\n",
       ".datatable .row_index {  background: var(--jp-border-color3);  border-right: 1px solid var(--jp-border-color0);  color: var(--jp-ui-font-color3);  font-size: 9px;}\n",
       ".datatable .frame tr.coltypes .row_index {  background: var(--jp-border-color0);}\n",
       ".datatable th:nth-child(2) { padding-left: 12px; }\n",
       ".datatable .hellipsis {  color: var(--jp-cell-editor-border-color);}\n",
       ".datatable .vellipsis {  background: var(--jp-layout-color0);  color: var(--jp-cell-editor-border-color);}\n",
       ".datatable .na {  color: var(--jp-cell-editor-border-color);  font-size: 80%;}\n",
       ".datatable .footer { font-size: 9px; }\n",
       ".datatable .frame_dimensions {  background: var(--jp-border-color3);  border-top: 1px solid var(--jp-border-color0);  color: var(--jp-ui-font-color3);  display: inline-block;  opacity: 0.6;  padding: 1px 10px 1px 5px;}\n",
       ".datatable .frame thead tr.colnames {  background-image: url('data:image/png;base64,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');  background-repeat: repeat-x;  background-size: 14px;  height: 28px;}\n",
       "</style>\n"
      ],
      "text/plain": [
       "<IPython.core.display.HTML object>"
      ]
     },
     "metadata": {},
     "output_type": "display_data"
    }
   ],
   "source": [
    "import os\n",
    "import numpy as np # linear algebra\n",
    "import pandas as pd # data processing, CSV file I/O (e.g. pd.read_csv)\n",
    "\n",
    "import gc\n",
    "import random\n",
    "import datatable as dt\n",
    "from tqdm import tqdm\n",
    "from sklearn.metrics import roc_auc_score\n",
    "from sklearn.model_selection import train_test_split\n",
    "\n",
    "import seaborn as sns\n",
    "import matplotlib.pyplot as plt\n",
    "\n",
    "import torch\n",
    "import torch.nn as nn\n",
    "import torch.nn.utils.rnn as rnn_utils\n",
    "from torch.autograd import Variable\n",
    "from torch.utils.data import Dataset, DataLoader\n",
    "\n",
    "import tensorflow as tf"
   ]
  },
  {
   "cell_type": "code",
   "execution_count": 3,
   "metadata": {
    "execution": {
     "iopub.execute_input": "2020-12-19T09:42:47.465865Z",
     "iopub.status.busy": "2020-12-19T09:42:47.463745Z",
     "iopub.status.idle": "2020-12-19T09:42:47.466548Z",
     "shell.execute_reply": "2020-12-19T09:42:47.467096Z"
    },
    "papermill": {
     "duration": 0.027288,
     "end_time": "2020-12-19T09:42:47.467219",
     "exception": false,
     "start_time": "2020-12-19T09:42:47.439931",
     "status": "completed"
    },
    "tags": []
   },
   "outputs": [],
   "source": [
    "random.seed(1)\n",
    "MAX_SEQ = 160"
   ]
  },
  {
   "cell_type": "code",
   "execution_count": 4,
   "metadata": {
    "execution": {
     "iopub.execute_input": "2020-12-19T09:42:47.512661Z",
     "iopub.status.busy": "2020-12-19T09:42:47.511902Z",
     "iopub.status.idle": "2020-12-19T09:42:47.518063Z",
     "shell.execute_reply": "2020-12-19T09:42:47.517488Z"
    },
    "papermill": {
     "duration": 0.031492,
     "end_time": "2020-12-19T09:42:47.518178",
     "exception": false,
     "start_time": "2020-12-19T09:42:47.486686",
     "status": "completed"
    },
    "tags": []
   },
   "outputs": [],
   "source": [
    "def seed_everything(seed=1234): \n",
    "    random.seed(seed)\n",
    "    os.environ['PYTHONHASHSEED'] = str(seed)\n",
    "    tf.random.set_seed(seed)\n",
    "    np.random.seed(seed)\n",
    "    torch.manual_seed(seed)\n",
    "    torch.cuda.manual_seed(seed)\n",
    "    torch.backends.cudnn.deterministic = True\n",
    "    \n",
    "seed_everything()"
   ]
  },
  {
   "cell_type": "markdown",
   "metadata": {
    "papermill": {
     "duration": 0.01822,
     "end_time": "2020-12-19T09:42:47.554592",
     "exception": false,
     "start_time": "2020-12-19T09:42:47.536372",
     "status": "completed"
    },
    "tags": []
   },
   "source": [
    "## Load data"
   ]
  },
  {
   "cell_type": "code",
   "execution_count": 5,
   "metadata": {
    "execution": {
     "iopub.execute_input": "2020-12-19T09:42:47.598242Z",
     "iopub.status.busy": "2020-12-19T09:42:47.597325Z",
     "iopub.status.idle": "2020-12-19T09:44:47.353162Z",
     "shell.execute_reply": "2020-12-19T09:44:47.351634Z"
    },
    "papermill": {
     "duration": 119.779599,
     "end_time": "2020-12-19T09:44:47.353332",
     "exception": false,
     "start_time": "2020-12-19T09:42:47.573733",
     "status": "completed"
    },
    "tags": []
   },
   "outputs": [
    {
     "name": "stdout",
     "output_type": "stream",
     "text": [
      "CPU times: user 1min 13s, sys: 10 s, total: 1min 23s\n",
      "Wall time: 1min 59s\n"
     ]
    },
    {
     "data": {
      "text/html": [
       "<div>\n",
       "<style scoped>\n",
       "    .dataframe tbody tr th:only-of-type {\n",
       "        vertical-align: middle;\n",
       "    }\n",
       "\n",
       "    .dataframe tbody tr th {\n",
       "        vertical-align: top;\n",
       "    }\n",
       "\n",
       "    .dataframe thead th {\n",
       "        text-align: right;\n",
       "    }\n",
       "</style>\n",
       "<table border=\"1\" class=\"dataframe\">\n",
       "  <thead>\n",
       "    <tr style=\"text-align: right;\">\n",
       "      <th></th>\n",
       "      <th>timestamp</th>\n",
       "      <th>user_id</th>\n",
       "      <th>content_id</th>\n",
       "      <th>content_type_id</th>\n",
       "      <th>answered_correctly</th>\n",
       "    </tr>\n",
       "  </thead>\n",
       "  <tbody>\n",
       "    <tr>\n",
       "      <th>0</th>\n",
       "      <td>0</td>\n",
       "      <td>115</td>\n",
       "      <td>5692</td>\n",
       "      <td>False</td>\n",
       "      <td>1</td>\n",
       "    </tr>\n",
       "    <tr>\n",
       "      <th>1</th>\n",
       "      <td>56943</td>\n",
       "      <td>115</td>\n",
       "      <td>5716</td>\n",
       "      <td>False</td>\n",
       "      <td>1</td>\n",
       "    </tr>\n",
       "    <tr>\n",
       "      <th>2</th>\n",
       "      <td>118363</td>\n",
       "      <td>115</td>\n",
       "      <td>128</td>\n",
       "      <td>False</td>\n",
       "      <td>1</td>\n",
       "    </tr>\n",
       "    <tr>\n",
       "      <th>3</th>\n",
       "      <td>131167</td>\n",
       "      <td>115</td>\n",
       "      <td>7860</td>\n",
       "      <td>False</td>\n",
       "      <td>1</td>\n",
       "    </tr>\n",
       "    <tr>\n",
       "      <th>4</th>\n",
       "      <td>137965</td>\n",
       "      <td>115</td>\n",
       "      <td>7922</td>\n",
       "      <td>False</td>\n",
       "      <td>1</td>\n",
       "    </tr>\n",
       "  </tbody>\n",
       "</table>\n",
       "</div>"
      ],
      "text/plain": [
       "   timestamp  user_id  content_id  content_type_id  answered_correctly\n",
       "0          0      115        5692            False                   1\n",
       "1      56943      115        5716            False                   1\n",
       "2     118363      115         128            False                   1\n",
       "3     131167      115        7860            False                   1\n",
       "4     137965      115        7922            False                   1"
      ]
     },
     "execution_count": 5,
     "metadata": {},
     "output_type": "execute_result"
    }
   ],
   "source": [
    "%%time\n",
    "dtype = {'timestamp':'int64', \n",
    "         'user_id':'int32' ,\n",
    "         'content_id':'int16',\n",
    "         'content_type_id':'int8',\n",
    "         'answered_correctly':'int8'}\n",
    "\n",
    "train_df = dt.fread('../input/riiid-test-answer-prediction/train.csv', columns=set(dtype.keys())).to_pandas()\n",
    "train_df.head()"
   ]
  },
  {
   "cell_type": "code",
   "execution_count": 6,
   "metadata": {
    "execution": {
     "iopub.execute_input": "2020-12-19T09:44:47.422030Z",
     "iopub.status.busy": "2020-12-19T09:44:47.420974Z",
     "iopub.status.idle": "2020-12-19T09:45:16.015776Z",
     "shell.execute_reply": "2020-12-19T09:45:16.016299Z"
    },
    "papermill": {
     "duration": 28.633699,
     "end_time": "2020-12-19T09:45:16.016463",
     "exception": false,
     "start_time": "2020-12-19T09:44:47.382764",
     "status": "completed"
    },
    "tags": []
   },
   "outputs": [],
   "source": [
    "train_df = train_df[train_df.content_type_id == False]\n",
    "\n",
    "train_df.drop(\"content_type_id\", axis=1, inplace=True)\n",
    "\n",
    "#arrange by timestamp\n",
    "train_df = train_df.sort_values(['timestamp'], ascending=True).reset_index(drop = True)"
   ]
  },
  {
   "cell_type": "markdown",
   "metadata": {
    "papermill": {
     "duration": 0.019788,
     "end_time": "2020-12-19T09:45:16.057995",
     "exception": false,
     "start_time": "2020-12-19T09:45:16.038207",
     "status": "completed"
    },
    "tags": []
   },
   "source": [
    "## Preprocess"
   ]
  },
  {
   "cell_type": "code",
   "execution_count": 7,
   "metadata": {
    "execution": {
     "iopub.execute_input": "2020-12-19T09:45:16.105128Z",
     "iopub.status.busy": "2020-12-19T09:45:16.103842Z",
     "iopub.status.idle": "2020-12-19T09:45:16.994037Z",
     "shell.execute_reply": "2020-12-19T09:45:16.995002Z"
    },
    "papermill": {
     "duration": 0.917195,
     "end_time": "2020-12-19T09:45:16.995179",
     "exception": false,
     "start_time": "2020-12-19T09:45:16.077984",
     "status": "completed"
    },
    "tags": []
   },
   "outputs": [
    {
     "name": "stdout",
     "output_type": "stream",
     "text": [
      "number skills 13523\n"
     ]
    }
   ],
   "source": [
    "skills = train_df[\"content_id\"].unique()\n",
    "n_skill = len(skills)\n",
    "print(\"number skills\", len(skills))"
   ]
  },
  {
   "cell_type": "code",
   "execution_count": 8,
   "metadata": {
    "execution": {
     "iopub.execute_input": "2020-12-19T09:45:17.044770Z",
     "iopub.status.busy": "2020-12-19T09:45:17.043579Z",
     "iopub.status.idle": "2020-12-19T09:46:00.320960Z",
     "shell.execute_reply": "2020-12-19T09:46:00.320383Z"
    },
    "papermill": {
     "duration": 43.304183,
     "end_time": "2020-12-19T09:46:00.321094",
     "exception": false,
     "start_time": "2020-12-19T09:45:17.016911",
     "status": "completed"
    },
    "tags": []
   },
   "outputs": [],
   "source": [
    "group = train_df.groupby('user_id').apply(lambda r: (r['content_id'].values, r['answered_correctly'].values))"
   ]
  },
  {
   "cell_type": "code",
   "execution_count": 9,
   "metadata": {
    "execution": {
     "iopub.execute_input": "2020-12-19T09:46:00.549935Z",
     "iopub.status.busy": "2020-12-19T09:46:00.548574Z",
     "iopub.status.idle": "2020-12-19T09:46:00.552864Z",
     "shell.execute_reply": "2020-12-19T09:46:00.552334Z"
    },
    "papermill": {
     "duration": 0.209401,
     "end_time": "2020-12-19T09:46:00.552968",
     "exception": false,
     "start_time": "2020-12-19T09:46:00.343567",
     "status": "completed"
    },
    "tags": []
   },
   "outputs": [
    {
     "data": {
      "text/plain": [
       "42"
      ]
     },
     "execution_count": 9,
     "metadata": {},
     "output_type": "execute_result"
    }
   ],
   "source": [
    "del train_df\n",
    "gc.collect()"
   ]
  },
  {
   "cell_type": "code",
   "execution_count": 10,
   "metadata": {
    "execution": {
     "iopub.execute_input": "2020-12-19T09:46:00.612798Z",
     "iopub.status.busy": "2020-12-19T09:46:00.611511Z",
     "iopub.status.idle": "2020-12-19T09:46:00.614118Z",
     "shell.execute_reply": "2020-12-19T09:46:00.614601Z"
    },
    "papermill": {
     "duration": 0.041756,
     "end_time": "2020-12-19T09:46:00.614735",
     "exception": false,
     "start_time": "2020-12-19T09:46:00.572979",
     "status": "completed"
    },
    "tags": []
   },
   "outputs": [],
   "source": [
    "class SAKTDataset(Dataset):\n",
    "    def __init__(self, group, n_skill, max_seq=MAX_SEQ): \n",
    "        super(SAKTDataset, self).__init__()\n",
    "        self.max_seq = max_seq\n",
    "        self.n_skill = n_skill\n",
    "        self.samples = group\n",
    "        \n",
    "#         self.user_ids = [x for x in group.index]\n",
    "        self.user_ids = []\n",
    "        for user_id in group.index:\n",
    "            q, qa = group[user_id]\n",
    "            if len(q) < 2: \n",
    "                continue\n",
    "            self.user_ids.append(user_id)\n",
    "            \n",
    "            #if len(q)>self.max_seq:\n",
    "            #    group[user_id] = (q[-self.max_seq:],qa[-self.max_seq:])\n",
    "            \n",
    "    def __len__(self):\n",
    "        return len(self.user_ids)\n",
    "\n",
    "    def __getitem__(self, index):\n",
    "        user_id = self.user_ids[index]\n",
    "        q_, qa_ = self.samples[user_id]\n",
    "        seq_len = len(q_)\n",
    "\n",
    "        q = np.zeros(self.max_seq, dtype=int)\n",
    "        qa = np.zeros(self.max_seq, dtype=int)\n",
    "        \n",
    "        if seq_len >= self.max_seq:\n",
    "            if random.random()>0.1:\n",
    "                start = random.randint(0,(seq_len-self.max_seq))\n",
    "                end = start + self.max_seq\n",
    "                q[:] = q_[start:end]\n",
    "                qa[:] = qa_[start:end]\n",
    "            else:\n",
    "                q[:] = q_[-self.max_seq:]\n",
    "                qa[:] = qa_[-self.max_seq:]\n",
    "                \n",
    "        else:\n",
    "            if random.random()>0.1:\n",
    "                start = 0\n",
    "                end = random.randint(2,seq_len)\n",
    "                seq_len = end - start\n",
    "                q[-seq_len:] = q_[0:seq_len]\n",
    "                qa[-seq_len:] = qa_[0:seq_len]\n",
    "            else:\n",
    "                q[-seq_len:] = q_\n",
    "                qa[-seq_len:] = qa_\n",
    "\n",
    "        \n",
    "        target_id = q[1:]\n",
    "        label = qa[1:]\n",
    "\n",
    "        x = np.zeros(self.max_seq-1, dtype=int)\n",
    "        x = q[:-1].copy()\n",
    "        x += (qa[:-1] == 1) * self.n_skill\n",
    "\n",
    "        return x, target_id, label"
   ]
  },
  {
   "cell_type": "code",
   "execution_count": 11,
   "metadata": {
    "execution": {
     "iopub.execute_input": "2020-12-19T09:46:00.662369Z",
     "iopub.status.busy": "2020-12-19T09:46:00.661406Z",
     "iopub.status.idle": "2020-12-19T09:46:04.159923Z",
     "shell.execute_reply": "2020-12-19T09:46:04.158779Z"
    },
    "papermill": {
     "duration": 3.525608,
     "end_time": "2020-12-19T09:46:04.160058",
     "exception": false,
     "start_time": "2020-12-19T09:46:00.634450",
     "status": "completed"
    },
    "tags": []
   },
   "outputs": [],
   "source": [
    "dataset = SAKTDataset(group, n_skill)\n",
    "dataloader = DataLoader(dataset, batch_size=2048, shuffle=True, num_workers=8)\n",
    "\n",
    "item = dataset.__getitem__(5)\n",
    "# print(item[0])\n",
    "# print(item[1])\n",
    "# print(item[2])"
   ]
  },
  {
   "cell_type": "markdown",
   "metadata": {
    "papermill": {
     "duration": 0.020774,
     "end_time": "2020-12-19T09:46:04.201373",
     "exception": false,
     "start_time": "2020-12-19T09:46:04.180599",
     "status": "completed"
    },
    "tags": []
   },
   "source": [
    "## Define model"
   ]
  },
  {
   "cell_type": "code",
   "execution_count": 12,
   "metadata": {
    "execution": {
     "iopub.execute_input": "2020-12-19T09:46:04.271067Z",
     "iopub.status.busy": "2020-12-19T09:46:04.269170Z",
     "iopub.status.idle": "2020-12-19T09:46:04.271830Z",
     "shell.execute_reply": "2020-12-19T09:46:04.272296Z"
    },
    "papermill": {
     "duration": 0.050373,
     "end_time": "2020-12-19T09:46:04.272423",
     "exception": false,
     "start_time": "2020-12-19T09:46:04.222050",
     "status": "completed"
    },
    "tags": []
   },
   "outputs": [],
   "source": [
    "class FFN(nn.Module):\n",
    "    def __init__(self, state_size=200):\n",
    "        super(FFN, self).__init__()\n",
    "        self.state_size = state_size\n",
    "\n",
    "        self.lr1 = nn.Linear(state_size, state_size*2)\n",
    "        self.relu = nn.ReLU()\n",
    "        self.lr2 = nn.Linear(state_size*2, state_size)\n",
    "        self.dropout = nn.Dropout(0.1)\n",
    "    \n",
    "    def forward(self, x):\n",
    "        x = self.lr1(x)\n",
    "        x = self.relu(x)\n",
    "        x = self.lr2(x)\n",
    "        return self.dropout(x)\n",
    "\n",
    "def future_mask(seq_length):\n",
    "    future_mask = np.triu(np.ones((seq_length, seq_length)), k=1).astype('bool')\n",
    "    return torch.from_numpy(future_mask)\n",
    "\n",
    "\n",
    "class SAKTModel(nn.Module):\n",
    "    def __init__(self, n_skill, max_seq=MAX_SEQ, embed_dim=128): # 100->MAX_SEQ\n",
    "        super(SAKTModel, self).__init__()\n",
    "        self.n_skill = n_skill\n",
    "        self.embed_dim = embed_dim\n",
    "\n",
    "        self.embedding = nn.Embedding(2*n_skill+1, embed_dim)\n",
    "        self.pos_embedding = nn.Embedding(max_seq-1, embed_dim)\n",
    "        self.e_embedding = nn.Embedding(n_skill+1, embed_dim)\n",
    "\n",
    "        self.multi_att = nn.MultiheadAttention(embed_dim=embed_dim, num_heads=8, dropout=0.1)\n",
    "\n",
    "        self.dropout = nn.Dropout(0.1)\n",
    "        self.layer_normal = nn.LayerNorm(embed_dim) \n",
    "\n",
    "        self.ffn = FFN(embed_dim)\n",
    "        self.pred = nn.Linear(embed_dim, 1)\n",
    "    \n",
    "    def forward(self, x, question_ids):\n",
    "        device = x.device        \n",
    "        x = self.embedding(x)\n",
    "        pos_id = torch.arange(x.size(1)).unsqueeze(0).to(device)\n",
    "\n",
    "        pos_x = self.pos_embedding(pos_id)\n",
    "        x = x + pos_x\n",
    "\n",
    "        e = self.e_embedding(question_ids)\n",
    "\n",
    "        x = x.permute(1, 0, 2) # x: [bs, s_len, embed] => [s_len, bs, embed]\n",
    "        e = e.permute(1, 0, 2)\n",
    "        att_mask = future_mask(x.size(0)).to(device)\n",
    "        att_output, att_weight = self.multi_att(e, x, x, attn_mask=att_mask)\n",
    "        att_output = self.layer_normal(att_output + e)\n",
    "        att_output = att_output.permute(1, 0, 2) # att_output: [s_len, bs, embed] => [bs, s_len, embed]\n",
    "\n",
    "        x = self.ffn(att_output)\n",
    "        x = self.layer_normal(x + att_output)\n",
    "        x = self.pred(x)\n",
    "\n",
    "        return x.squeeze(-1), att_weight"
   ]
  },
  {
   "cell_type": "code",
   "execution_count": 13,
   "metadata": {
    "execution": {
     "iopub.execute_input": "2020-12-19T09:46:04.740305Z",
     "iopub.status.busy": "2020-12-19T09:46:04.739232Z",
     "iopub.status.idle": "2020-12-19T09:46:10.523052Z",
     "shell.execute_reply": "2020-12-19T09:46:10.523522Z"
    },
    "papermill": {
     "duration": 6.231339,
     "end_time": "2020-12-19T09:46:10.523730",
     "exception": false,
     "start_time": "2020-12-19T09:46:04.292391",
     "status": "completed"
    },
    "tags": []
   },
   "outputs": [
    {
     "data": {
      "text/plain": [
       "BCEWithLogitsLoss()"
      ]
     },
     "execution_count": 13,
     "metadata": {},
     "output_type": "execute_result"
    }
   ],
   "source": [
    "epochs = 35 \n",
    "\n",
    "device = torch.device(\"cuda\" if torch.cuda.is_available() else \"cpu\")\n",
    "\n",
    "model = SAKTModel(n_skill, embed_dim=128)\n",
    "optimizer = torch.optim.Adam(model.parameters(), lr=1e-3)\n",
    "criterion = nn.BCEWithLogitsLoss()\n",
    "scheduler = torch.optim.lr_scheduler.OneCycleLR(optimizer=optimizer, pct_start=0.1, div_factor=1e3, \n",
    "                                              max_lr=2e-2, epochs=epochs, steps_per_epoch=len(dataloader))\n",
    "\n",
    "model.to(device)\n",
    "criterion.to(device)"
   ]
  },
  {
   "cell_type": "code",
   "execution_count": 14,
   "metadata": {
    "execution": {
     "iopub.execute_input": "2020-12-19T09:46:10.582841Z",
     "iopub.status.busy": "2020-12-19T09:46:10.581397Z",
     "iopub.status.idle": "2020-12-19T09:46:10.583951Z",
     "shell.execute_reply": "2020-12-19T09:46:10.584417Z"
    },
    "papermill": {
     "duration": 0.03909,
     "end_time": "2020-12-19T09:46:10.584528",
     "exception": false,
     "start_time": "2020-12-19T09:46:10.545438",
     "status": "completed"
    },
    "tags": []
   },
   "outputs": [],
   "source": [
    "def train_epoch(model, train_iterator, optim, criterion, device=\"cpu\"):\n",
    "    model.train()\n",
    "\n",
    "    train_loss = []\n",
    "    num_corrects = 0\n",
    "    num_total = 0\n",
    "    labels = []\n",
    "    outs = []\n",
    "\n",
    "    tbar = tqdm(train_iterator)\n",
    "    for item in tbar:\n",
    "        x = item[0].to(device).long()\n",
    "        target_id = item[1].to(device).long()\n",
    "        label = item[2].to(device).float()\n",
    "\n",
    "        optim.zero_grad()\n",
    "        output, atten_weight = model(x, target_id)\n",
    "        loss = criterion(output, label)\n",
    "        loss.backward()\n",
    "        optim.step()\n",
    "        scheduler.step()\n",
    "        train_loss.append(loss.item())\n",
    "\n",
    "        output = output[:, -1]\n",
    "        label = label[:, -1] \n",
    "        pred = (torch.sigmoid(output) >= 0.5).long()\n",
    "        \n",
    "        num_corrects += (pred == label).sum().item()\n",
    "        num_total += len(label)\n",
    "\n",
    "        labels.extend(label.view(-1).data.cpu().numpy())\n",
    "        outs.extend(output.view(-1).data.cpu().numpy())\n",
    "\n",
    "        tbar.set_description('loss - {:.4f}'.format(loss))\n",
    "\n",
    "    acc = num_corrects / num_total\n",
    "    auc = roc_auc_score(labels, outs)\n",
    "    loss = np.mean(train_loss)\n",
    "\n",
    "    return loss, acc, auc"
   ]
  },
  {
   "cell_type": "code",
   "execution_count": 15,
   "metadata": {
    "execution": {
     "iopub.execute_input": "2020-12-19T09:46:10.634765Z",
     "iopub.status.busy": "2020-12-19T09:46:10.632267Z",
     "iopub.status.idle": "2020-12-19T10:21:41.203916Z",
     "shell.execute_reply": "2020-12-19T10:21:41.169795Z"
    },
    "papermill": {
     "duration": 2130.598835,
     "end_time": "2020-12-19T10:21:41.204028",
     "exception": false,
     "start_time": "2020-12-19T09:46:10.605193",
     "status": "completed"
    },
    "tags": []
   },
   "outputs": [
    {
     "name": "stderr",
     "output_type": "stream",
     "text": [
      "loss - 0.2273: 100%|██████████| 193/193 [01:01<00:00,  3.15it/s]\n",
      "  0%|          | 0/193 [00:00<?, ?it/s]"
     ]
    },
    {
     "name": "stdout",
     "output_type": "stream",
     "text": [
      "epoch - 0 train_loss - 0.29 acc - 0.576 auc - 0.596\n",
      "save best model\n"
     ]
    },
    {
     "name": "stderr",
     "output_type": "stream",
     "text": [
      "loss - 0.2124: 100%|██████████| 193/193 [00:59<00:00,  3.22it/s]\n",
      "  0%|          | 0/193 [00:00<?, ?it/s]"
     ]
    },
    {
     "name": "stdout",
     "output_type": "stream",
     "text": [
      "epoch - 1 train_loss - 0.21 acc - 0.678 auc - 0.742\n",
      "save best model\n"
     ]
    },
    {
     "name": "stderr",
     "output_type": "stream",
     "text": [
      "loss - 0.1993: 100%|██████████| 193/193 [01:00<00:00,  3.21it/s]\n",
      "  0%|          | 0/193 [00:00<?, ?it/s]"
     ]
    },
    {
     "name": "stdout",
     "output_type": "stream",
     "text": [
      "epoch - 2 train_loss - 0.21 acc - 0.685 auc - 0.750\n",
      "save best model\n"
     ]
    },
    {
     "name": "stderr",
     "output_type": "stream",
     "text": [
      "loss - 0.2160: 100%|██████████| 193/193 [01:00<00:00,  3.21it/s]\n",
      "  0%|          | 0/193 [00:00<?, ?it/s]"
     ]
    },
    {
     "name": "stdout",
     "output_type": "stream",
     "text": [
      "epoch - 3 train_loss - 0.21 acc - 0.686 auc - 0.753\n",
      "save best model\n"
     ]
    },
    {
     "name": "stderr",
     "output_type": "stream",
     "text": [
      "loss - 0.1889: 100%|██████████| 193/193 [01:00<00:00,  3.20it/s]\n",
      "  0%|          | 0/193 [00:00<?, ?it/s]"
     ]
    },
    {
     "name": "stdout",
     "output_type": "stream",
     "text": [
      "epoch - 4 train_loss - 0.20 acc - 0.689 auc - 0.755\n",
      "save best model\n"
     ]
    },
    {
     "name": "stderr",
     "output_type": "stream",
     "text": [
      "loss - 0.2046: 100%|██████████| 193/193 [00:59<00:00,  3.22it/s]\n",
      "  0%|          | 0/193 [00:00<?, ?it/s]"
     ]
    },
    {
     "name": "stdout",
     "output_type": "stream",
     "text": [
      "epoch - 5 train_loss - 0.20 acc - 0.690 auc - 0.757\n",
      "save best model\n"
     ]
    },
    {
     "name": "stderr",
     "output_type": "stream",
     "text": [
      "loss - 0.2313: 100%|██████████| 193/193 [01:00<00:00,  3.18it/s]\n",
      "  0%|          | 0/193 [00:00<?, ?it/s]"
     ]
    },
    {
     "name": "stdout",
     "output_type": "stream",
     "text": [
      "epoch - 6 train_loss - 0.20 acc - 0.690 auc - 0.757\n"
     ]
    },
    {
     "name": "stderr",
     "output_type": "stream",
     "text": [
      "loss - 0.2203: 100%|██████████| 193/193 [01:00<00:00,  3.20it/s]\n",
      "  0%|          | 0/193 [00:00<?, ?it/s]"
     ]
    },
    {
     "name": "stdout",
     "output_type": "stream",
     "text": [
      "epoch - 7 train_loss - 0.20 acc - 0.690 auc - 0.758\n",
      "save best model\n"
     ]
    },
    {
     "name": "stderr",
     "output_type": "stream",
     "text": [
      "loss - 0.2003: 100%|██████████| 193/193 [01:00<00:00,  3.20it/s]\n",
      "  0%|          | 0/193 [00:00<?, ?it/s]"
     ]
    },
    {
     "name": "stdout",
     "output_type": "stream",
     "text": [
      "epoch - 8 train_loss - 0.20 acc - 0.692 auc - 0.759\n",
      "save best model\n"
     ]
    },
    {
     "name": "stderr",
     "output_type": "stream",
     "text": [
      "loss - 0.1902: 100%|██████████| 193/193 [01:00<00:00,  3.20it/s]\n",
      "  0%|          | 0/193 [00:00<?, ?it/s]"
     ]
    },
    {
     "name": "stdout",
     "output_type": "stream",
     "text": [
      "epoch - 9 train_loss - 0.20 acc - 0.693 auc - 0.760\n",
      "save best model\n"
     ]
    },
    {
     "name": "stderr",
     "output_type": "stream",
     "text": [
      "loss - 0.1965: 100%|██████████| 193/193 [01:00<00:00,  3.21it/s]\n",
      "  0%|          | 0/193 [00:00<?, ?it/s]"
     ]
    },
    {
     "name": "stdout",
     "output_type": "stream",
     "text": [
      "epoch - 10 train_loss - 0.20 acc - 0.693 auc - 0.760\n"
     ]
    },
    {
     "name": "stderr",
     "output_type": "stream",
     "text": [
      "loss - 0.2016: 100%|██████████| 193/193 [00:59<00:00,  3.22it/s]\n",
      "  0%|          | 0/193 [00:00<?, ?it/s]"
     ]
    },
    {
     "name": "stdout",
     "output_type": "stream",
     "text": [
      "epoch - 11 train_loss - 0.20 acc - 0.695 auc - 0.763\n",
      "save best model\n"
     ]
    },
    {
     "name": "stderr",
     "output_type": "stream",
     "text": [
      "loss - 0.2109: 100%|██████████| 193/193 [01:00<00:00,  3.19it/s]\n",
      "  0%|          | 0/193 [00:00<?, ?it/s]"
     ]
    },
    {
     "name": "stdout",
     "output_type": "stream",
     "text": [
      "epoch - 12 train_loss - 0.20 acc - 0.694 auc - 0.762\n"
     ]
    },
    {
     "name": "stderr",
     "output_type": "stream",
     "text": [
      "loss - 0.2063: 100%|██████████| 193/193 [01:00<00:00,  3.20it/s]\n",
      "  0%|          | 0/193 [00:00<?, ?it/s]"
     ]
    },
    {
     "name": "stdout",
     "output_type": "stream",
     "text": [
      "epoch - 13 train_loss - 0.20 acc - 0.696 auc - 0.765\n",
      "save best model\n"
     ]
    },
    {
     "name": "stderr",
     "output_type": "stream",
     "text": [
      "loss - 0.2108: 100%|██████████| 193/193 [01:00<00:00,  3.21it/s]\n",
      "  0%|          | 0/193 [00:00<?, ?it/s]"
     ]
    },
    {
     "name": "stdout",
     "output_type": "stream",
     "text": [
      "epoch - 14 train_loss - 0.20 acc - 0.695 auc - 0.764\n"
     ]
    },
    {
     "name": "stderr",
     "output_type": "stream",
     "text": [
      "loss - 0.1924: 100%|██████████| 193/193 [01:00<00:00,  3.21it/s]\n",
      "  0%|          | 0/193 [00:00<?, ?it/s]"
     ]
    },
    {
     "name": "stdout",
     "output_type": "stream",
     "text": [
      "epoch - 15 train_loss - 0.20 acc - 0.697 auc - 0.766\n",
      "save best model\n"
     ]
    },
    {
     "name": "stderr",
     "output_type": "stream",
     "text": [
      "loss - 0.1802: 100%|██████████| 193/193 [01:00<00:00,  3.21it/s]\n",
      "  0%|          | 0/193 [00:00<?, ?it/s]"
     ]
    },
    {
     "name": "stdout",
     "output_type": "stream",
     "text": [
      "epoch - 16 train_loss - 0.20 acc - 0.696 auc - 0.765\n"
     ]
    },
    {
     "name": "stderr",
     "output_type": "stream",
     "text": [
      "loss - 0.1865: 100%|██████████| 193/193 [01:00<00:00,  3.19it/s]\n",
      "  0%|          | 0/193 [00:00<?, ?it/s]"
     ]
    },
    {
     "name": "stdout",
     "output_type": "stream",
     "text": [
      "epoch - 17 train_loss - 0.20 acc - 0.696 auc - 0.765\n"
     ]
    },
    {
     "name": "stderr",
     "output_type": "stream",
     "text": [
      "loss - 0.2261: 100%|██████████| 193/193 [01:00<00:00,  3.21it/s]\n",
      "  0%|          | 0/193 [00:00<?, ?it/s]"
     ]
    },
    {
     "name": "stdout",
     "output_type": "stream",
     "text": [
      "epoch - 18 train_loss - 0.20 acc - 0.699 auc - 0.768\n",
      "save best model\n"
     ]
    },
    {
     "name": "stderr",
     "output_type": "stream",
     "text": [
      "loss - 0.2099: 100%|██████████| 193/193 [01:00<00:00,  3.20it/s]\n",
      "  0%|          | 0/193 [00:00<?, ?it/s]"
     ]
    },
    {
     "name": "stdout",
     "output_type": "stream",
     "text": [
      "epoch - 19 train_loss - 0.20 acc - 0.699 auc - 0.769\n",
      "save best model\n"
     ]
    },
    {
     "name": "stderr",
     "output_type": "stream",
     "text": [
      "loss - 0.2040: 100%|██████████| 193/193 [01:00<00:00,  3.19it/s]\n",
      "  0%|          | 0/193 [00:00<?, ?it/s]"
     ]
    },
    {
     "name": "stdout",
     "output_type": "stream",
     "text": [
      "epoch - 20 train_loss - 0.20 acc - 0.700 auc - 0.770\n",
      "save best model\n"
     ]
    },
    {
     "name": "stderr",
     "output_type": "stream",
     "text": [
      "loss - 0.1870: 100%|██████████| 193/193 [01:00<00:00,  3.20it/s]\n",
      "  0%|          | 0/193 [00:00<?, ?it/s]"
     ]
    },
    {
     "name": "stdout",
     "output_type": "stream",
     "text": [
      "epoch - 21 train_loss - 0.20 acc - 0.700 auc - 0.770\n",
      "save best model\n"
     ]
    },
    {
     "name": "stderr",
     "output_type": "stream",
     "text": [
      "loss - 0.2082: 100%|██████████| 193/193 [01:00<00:00,  3.21it/s]\n",
      "  0%|          | 0/193 [00:00<?, ?it/s]"
     ]
    },
    {
     "name": "stdout",
     "output_type": "stream",
     "text": [
      "epoch - 22 train_loss - 0.20 acc - 0.702 auc - 0.771\n",
      "save best model\n"
     ]
    },
    {
     "name": "stderr",
     "output_type": "stream",
     "text": [
      "loss - 0.2017: 100%|██████████| 193/193 [01:00<00:00,  3.20it/s]\n",
      "  0%|          | 0/193 [00:00<?, ?it/s]"
     ]
    },
    {
     "name": "stdout",
     "output_type": "stream",
     "text": [
      "epoch - 23 train_loss - 0.20 acc - 0.701 auc - 0.772\n",
      "save best model\n"
     ]
    },
    {
     "name": "stderr",
     "output_type": "stream",
     "text": [
      "loss - 0.1898: 100%|██████████| 193/193 [01:00<00:00,  3.22it/s]\n",
      "  0%|          | 0/193 [00:00<?, ?it/s]"
     ]
    },
    {
     "name": "stdout",
     "output_type": "stream",
     "text": [
      "epoch - 24 train_loss - 0.20 acc - 0.703 auc - 0.773\n",
      "save best model\n"
     ]
    },
    {
     "name": "stderr",
     "output_type": "stream",
     "text": [
      "loss - 0.1951: 100%|██████████| 193/193 [01:00<00:00,  3.21it/s]\n",
      "  0%|          | 0/193 [00:00<?, ?it/s]"
     ]
    },
    {
     "name": "stdout",
     "output_type": "stream",
     "text": [
      "epoch - 25 train_loss - 0.20 acc - 0.704 auc - 0.774\n",
      "save best model\n"
     ]
    },
    {
     "name": "stderr",
     "output_type": "stream",
     "text": [
      "loss - 0.1913: 100%|██████████| 193/193 [01:00<00:00,  3.20it/s]\n",
      "  0%|          | 0/193 [00:00<?, ?it/s]"
     ]
    },
    {
     "name": "stdout",
     "output_type": "stream",
     "text": [
      "epoch - 26 train_loss - 0.20 acc - 0.704 auc - 0.775\n",
      "save best model\n"
     ]
    },
    {
     "name": "stderr",
     "output_type": "stream",
     "text": [
      "loss - 0.1935: 100%|██████████| 193/193 [01:00<00:00,  3.18it/s]\n",
      "  0%|          | 0/193 [00:00<?, ?it/s]"
     ]
    },
    {
     "name": "stdout",
     "output_type": "stream",
     "text": [
      "epoch - 27 train_loss - 0.20 acc - 0.705 auc - 0.776\n",
      "save best model\n"
     ]
    },
    {
     "name": "stderr",
     "output_type": "stream",
     "text": [
      "loss - 0.1972: 100%|██████████| 193/193 [01:00<00:00,  3.21it/s]\n",
      "  0%|          | 0/193 [00:00<?, ?it/s]"
     ]
    },
    {
     "name": "stdout",
     "output_type": "stream",
     "text": [
      "epoch - 28 train_loss - 0.20 acc - 0.707 auc - 0.779\n",
      "save best model\n"
     ]
    },
    {
     "name": "stderr",
     "output_type": "stream",
     "text": [
      "loss - 0.1947: 100%|██████████| 193/193 [01:00<00:00,  3.19it/s]\n",
      "  0%|          | 0/193 [00:00<?, ?it/s]"
     ]
    },
    {
     "name": "stdout",
     "output_type": "stream",
     "text": [
      "epoch - 29 train_loss - 0.20 acc - 0.708 auc - 0.779\n",
      "save best model\n"
     ]
    },
    {
     "name": "stderr",
     "output_type": "stream",
     "text": [
      "loss - 0.1993: 100%|██████████| 193/193 [01:00<00:00,  3.19it/s]\n",
      "  0%|          | 0/193 [00:00<?, ?it/s]"
     ]
    },
    {
     "name": "stdout",
     "output_type": "stream",
     "text": [
      "epoch - 30 train_loss - 0.20 acc - 0.709 auc - 0.780\n",
      "save best model\n"
     ]
    },
    {
     "name": "stderr",
     "output_type": "stream",
     "text": [
      "loss - 0.1844: 100%|██████████| 193/193 [01:00<00:00,  3.20it/s]\n",
      "  0%|          | 0/193 [00:00<?, ?it/s]"
     ]
    },
    {
     "name": "stdout",
     "output_type": "stream",
     "text": [
      "epoch - 31 train_loss - 0.19 acc - 0.709 auc - 0.780\n"
     ]
    },
    {
     "name": "stderr",
     "output_type": "stream",
     "text": [
      "loss - 0.2031: 100%|██████████| 193/193 [01:00<00:00,  3.20it/s]\n",
      "  0%|          | 0/193 [00:00<?, ?it/s]"
     ]
    },
    {
     "name": "stdout",
     "output_type": "stream",
     "text": [
      "epoch - 32 train_loss - 0.19 acc - 0.708 auc - 0.780\n"
     ]
    },
    {
     "name": "stderr",
     "output_type": "stream",
     "text": [
      "loss - 0.1998: 100%|██████████| 193/193 [01:00<00:00,  3.21it/s]\n",
      "  0%|          | 0/193 [00:00<?, ?it/s]"
     ]
    },
    {
     "name": "stdout",
     "output_type": "stream",
     "text": [
      "epoch - 33 train_loss - 0.19 acc - 0.710 auc - 0.782\n",
      "save best model\n"
     ]
    },
    {
     "name": "stderr",
     "output_type": "stream",
     "text": [
      "loss - 0.1730: 100%|██████████| 193/193 [01:00<00:00,  3.21it/s]\n"
     ]
    },
    {
     "name": "stdout",
     "output_type": "stream",
     "text": [
      "epoch - 34 train_loss - 0.19 acc - 0.709 auc - 0.781\n",
      "best auc 0.7816947756885865\n"
     ]
    }
   ],
   "source": [
    "best_auc = 0\n",
    "for epoch in range(epochs):\n",
    "    loss, acc, auc = train_epoch(model, dataloader, optimizer, criterion, device)\n",
    "    print(\"epoch - {} train_loss - {:.2f} acc - {:.3f} auc - {:.3f}\".format(epoch, loss, acc, auc))\n",
    "    if auc > best_auc:\n",
    "        print(\"save best model\")\n",
    "        best_auc = auc\n",
    "        torch.save(model.state_dict(), \"SAKT.pt\")\n",
    "print(\"best auc\", best_auc)"
   ]
  },
  {
   "cell_type": "code",
   "execution_count": 16,
   "metadata": {
    "execution": {
     "iopub.execute_input": "2020-12-19T10:21:50.831594Z",
     "iopub.status.busy": "2020-12-19T10:21:50.829740Z",
     "iopub.status.idle": "2020-12-19T10:21:50.833917Z",
     "shell.execute_reply": "2020-12-19T10:21:50.833399Z"
    },
    "papermill": {
     "duration": 4.986341,
     "end_time": "2020-12-19T10:21:50.834022",
     "exception": false,
     "start_time": "2020-12-19T10:21:45.847681",
     "status": "completed"
    },
    "tags": []
   },
   "outputs": [
    {
     "data": {
      "text/plain": [
       "20"
      ]
     },
     "execution_count": 16,
     "metadata": {},
     "output_type": "execute_result"
    }
   ],
   "source": [
    "del dataset\n",
    "gc.collect()"
   ]
  },
  {
   "cell_type": "markdown",
   "metadata": {
    "papermill": {
     "duration": 4.873256,
     "end_time": "2020-12-19T10:22:00.259582",
     "exception": false,
     "start_time": "2020-12-19T10:21:55.386326",
     "status": "completed"
    },
    "tags": []
   },
   "source": [
    "## Test"
   ]
  },
  {
   "cell_type": "code",
   "execution_count": 17,
   "metadata": {
    "execution": {
     "iopub.execute_input": "2020-12-19T10:22:10.446078Z",
     "iopub.status.busy": "2020-12-19T10:22:10.445263Z",
     "iopub.status.idle": "2020-12-19T10:22:10.527328Z",
     "shell.execute_reply": "2020-12-19T10:22:10.527842Z"
    },
    "papermill": {
     "duration": 4.712866,
     "end_time": "2020-12-19T10:22:10.527972",
     "exception": false,
     "start_time": "2020-12-19T10:22:05.815106",
     "status": "completed"
    },
    "tags": []
   },
   "outputs": [
    {
     "data": {
      "text/plain": [
       "SAKTModel(\n",
       "  (embedding): Embedding(27047, 128)\n",
       "  (pos_embedding): Embedding(159, 128)\n",
       "  (e_embedding): Embedding(13524, 128)\n",
       "  (multi_att): MultiheadAttention(\n",
       "    (out_proj): _LinearWithBias(in_features=128, out_features=128, bias=True)\n",
       "  )\n",
       "  (dropout): Dropout(p=0.1, inplace=False)\n",
       "  (layer_normal): LayerNorm((128,), eps=1e-05, elementwise_affine=True)\n",
       "  (ffn): FFN(\n",
       "    (lr1): Linear(in_features=128, out_features=256, bias=True)\n",
       "    (relu): ReLU()\n",
       "    (lr2): Linear(in_features=256, out_features=128, bias=True)\n",
       "    (dropout): Dropout(p=0.1, inplace=False)\n",
       "  )\n",
       "  (pred): Linear(in_features=128, out_features=1, bias=True)\n",
       ")"
      ]
     },
     "execution_count": 17,
     "metadata": {},
     "output_type": "execute_result"
    }
   ],
   "source": [
    "model = SAKTModel(n_skill, embed_dim=128)\n",
    "model.load_state_dict(torch.load('SAKT.pt'))  \n",
    "model.to(device)"
   ]
  },
  {
   "cell_type": "code",
   "execution_count": 18,
   "metadata": {
    "execution": {
     "iopub.execute_input": "2020-12-19T10:22:19.977229Z",
     "iopub.status.busy": "2020-12-19T10:22:19.975309Z",
     "iopub.status.idle": "2020-12-19T10:22:19.980245Z",
     "shell.execute_reply": "2020-12-19T10:22:19.980919Z"
    },
    "papermill": {
     "duration": 4.591781,
     "end_time": "2020-12-19T10:22:19.981094",
     "exception": false,
     "start_time": "2020-12-19T10:22:15.389313",
     "status": "completed"
    },
    "tags": []
   },
   "outputs": [],
   "source": [
    "class TestDataset(Dataset):\n",
    "    def __init__(self, samples, test_df, skills, max_seq=MAX_SEQ): \n",
    "        super(TestDataset, self).__init__()\n",
    "        self.samples = samples\n",
    "        self.user_ids = [x for x in test_df[\"user_id\"].unique()]\n",
    "        self.test_df = test_df\n",
    "        self.skills = skills\n",
    "        self.n_skill = len(skills)\n",
    "        self.max_seq = max_seq\n",
    "\n",
    "    def __len__(self):\n",
    "        return self.test_df.shape[0]\n",
    "\n",
    "    def __getitem__(self, index):\n",
    "        test_info = self.test_df.iloc[index]\n",
    "\n",
    "        user_id = test_info[\"user_id\"]\n",
    "        target_id = test_info[\"content_id\"]\n",
    "\n",
    "        q = np.zeros(self.max_seq, dtype=int)\n",
    "        qa = np.zeros(self.max_seq, dtype=int)\n",
    "\n",
    "        if user_id in self.samples.index:\n",
    "            q_, qa_ = self.samples[user_id]\n",
    "            \n",
    "            seq_len = len(q_)\n",
    "\n",
    "            if seq_len >= self.max_seq:\n",
    "                q = q_[-self.max_seq:]\n",
    "                qa = qa_[-self.max_seq:]\n",
    "            else:\n",
    "                q[-seq_len:] = q_\n",
    "                qa[-seq_len:] = qa_          \n",
    "        \n",
    "        x = np.zeros(self.max_seq-1, dtype=int)\n",
    "        x = q[1:].copy()\n",
    "        x += (qa[1:] == 1) * self.n_skill\n",
    "        \n",
    "        questions = np.append(q[2:], [target_id])\n",
    "        \n",
    "        return x, questions"
   ]
  },
  {
   "cell_type": "code",
   "execution_count": 19,
   "metadata": {
    "execution": {
     "iopub.execute_input": "2020-12-19T10:22:29.281811Z",
     "iopub.status.busy": "2020-12-19T10:22:29.281018Z",
     "iopub.status.idle": "2020-12-19T10:22:29.311785Z",
     "shell.execute_reply": "2020-12-19T10:22:29.311290Z"
    },
    "papermill": {
     "duration": 4.587714,
     "end_time": "2020-12-19T10:22:29.311899",
     "exception": false,
     "start_time": "2020-12-19T10:22:24.724185",
     "status": "completed"
    },
    "tags": []
   },
   "outputs": [],
   "source": [
    "import riiideducation\n",
    "\n",
    "env = riiideducation.make_env()\n",
    "iter_test = env.iter_test()"
   ]
  },
  {
   "cell_type": "code",
   "execution_count": 20,
   "metadata": {
    "execution": {
     "iopub.execute_input": "2020-12-19T10:22:39.029392Z",
     "iopub.status.busy": "2020-12-19T10:22:39.028618Z",
     "iopub.status.idle": "2020-12-19T10:22:39.667622Z",
     "shell.execute_reply": "2020-12-19T10:22:39.667073Z"
    },
    "papermill": {
     "duration": 5.523064,
     "end_time": "2020-12-19T10:22:39.667756",
     "exception": false,
     "start_time": "2020-12-19T10:22:34.144692",
     "status": "completed"
    },
    "tags": []
   },
   "outputs": [
    {
     "name": "stderr",
     "output_type": "stream",
     "text": [
      "0it [00:00, ?it/s]\n",
      "100%|██████████| 1/1 [00:00<00:00, 76.65it/s]\n",
      "\n",
      "100%|██████████| 1/1 [00:00<00:00, 58.92it/s]\n",
      "2it [00:00, 12.69it/s]\n",
      "100%|██████████| 1/1 [00:00<00:00, 97.31it/s]\n",
      "\n",
      "100%|██████████| 1/1 [00:00<00:00, 93.58it/s]\n"
     ]
    },
    {
     "name": "stdout",
     "output_type": "stream",
     "text": [
      "39.9\n",
      "39.9\n",
      "39.9\n"
     ]
    },
    {
     "name": "stderr",
     "output_type": "stream",
     "text": [
      "4it [00:00,  6.40it/s]\n"
     ]
    }
   ],
   "source": [
    "import psutil\n",
    "model.eval()\n",
    "\n",
    "prev_test_df = None\n",
    "\n",
    "for (test_df, sample_prediction_df) in tqdm(iter_test):\n",
    "    if (prev_test_df is not None) & (psutil.virtual_memory().percent<90):\n",
    "        print(psutil.virtual_memory().percent)\n",
    "        prev_test_df['answered_correctly'] = eval(test_df['prior_group_answers_correct'].iloc[0])\n",
    "        prev_test_df = prev_test_df[prev_test_df.content_type_id == False]\n",
    "        prev_group = prev_test_df[['user_id', 'content_id', 'answered_correctly']].groupby('user_id').apply(lambda r: (\n",
    "            r['content_id'].values,\n",
    "            r['answered_correctly'].values))\n",
    "        for prev_user_id in prev_group.index:\n",
    "            prev_group_content = prev_group[prev_user_id][0]\n",
    "            prev_group_ac = prev_group[prev_user_id][1]\n",
    "            if prev_user_id in group.index:\n",
    "                group[prev_user_id] = (np.append(group[prev_user_id][0],prev_group_content), \n",
    "                                       np.append(group[prev_user_id][1],prev_group_ac))\n",
    " \n",
    "            else:\n",
    "                group[prev_user_id] = (prev_group_content,prev_group_ac)\n",
    "            if len(group[prev_user_id][0])>MAX_SEQ:\n",
    "                new_group_content = group[prev_user_id][0][-MAX_SEQ:]\n",
    "                new_group_ac = group[prev_user_id][1][-MAX_SEQ:]\n",
    "                group[prev_user_id] = (new_group_content,new_group_ac)\n",
    "\n",
    "    prev_test_df = test_df.copy()\n",
    " \n",
    "    \n",
    "    test_df = test_df[test_df.content_type_id == False]\n",
    "                \n",
    "    test_dataset = TestDataset(group, test_df, skills)\n",
    "    test_dataloader = DataLoader(test_dataset, batch_size=51200, shuffle=False)\n",
    "    \n",
    "    outs = []\n",
    "\n",
    "    for item in tqdm(test_dataloader):\n",
    "        x = item[0].to(device).long()\n",
    "        target_id = item[1].to(device).long()\n",
    "\n",
    "        with torch.no_grad():\n",
    "            output, att_weight = model(x, target_id)\n",
    "        \n",
    "        \n",
    "        output = torch.sigmoid(output)\n",
    "        output = output[:, -1]\n",
    "\n",
    "        outs.extend(output.view(-1).data.cpu().numpy())\n",
    "        \n",
    "    test_df['answered_correctly'] =  outs\n",
    "    \n",
    "    env.predict(test_df.loc[test_df['content_type_id'] == 0, ['row_id', 'answered_correctly']])"
   ]
  },
  {
   "cell_type": "code",
   "execution_count": null,
   "metadata": {
    "papermill": {
     "duration": 4.657348,
     "end_time": "2020-12-19T10:22:48.988837",
     "exception": false,
     "start_time": "2020-12-19T10:22:44.331489",
     "status": "completed"
    },
    "tags": []
   },
   "outputs": [],
   "source": [
    "                                                           "
   ]
  }
 ],
 "metadata": {
  "kernelspec": {
   "display_name": "Python 3",
   "language": "python",
   "name": "python3"
  },
  "language_info": {
   "codemirror_mode": {
    "name": "ipython",
    "version": 3
   },
   "file_extension": ".py",
   "mimetype": "text/x-python",
   "name": "python",
   "nbconvert_exporter": "python",
   "pygments_lexer": "ipython3",
   "version": "3.7.6"
  },
  "papermill": {
   "duration": 2450.852196,
   "end_time": "2020-12-19T10:22:55.323945",
   "environment_variables": {},
   "exception": null,
   "input_path": "__notebook__.ipynb",
   "output_path": "__notebook__.ipynb",
   "parameters": {},
   "start_time": "2020-12-19T09:42:04.471749",
   "version": "2.1.0"
  }
 },
 "nbformat": 4,
 "nbformat_minor": 4
}
