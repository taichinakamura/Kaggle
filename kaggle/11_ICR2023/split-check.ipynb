{
 "cells": [
  {
   "cell_type": "markdown",
   "id": "3ecd0b3b",
   "metadata": {
    "papermill": {
     "duration": 0.004544,
     "end_time": "2023-08-04T10:38:23.086904",
     "exception": false,
     "start_time": "2023-08-04T10:38:23.082360",
     "status": "completed"
    },
    "tags": []
   },
   "source": [
    "- check  0, 1 count in train, valid and test for different multilabel stratified fold seeds"
   ]
  },
  {
   "cell_type": "code",
   "execution_count": 1,
   "id": "f7201ccf",
   "metadata": {
    "_cell_guid": "b1076dfc-b9ad-4769-8c92-a6c4dae69d19",
    "_uuid": "8f2839f25d086af736a60e9eeb907d3b93b6e0e5",
    "execution": {
     "iopub.execute_input": "2023-08-04T10:38:23.098767Z",
     "iopub.status.busy": "2023-08-04T10:38:23.098283Z",
     "iopub.status.idle": "2023-08-04T10:38:25.082363Z",
     "shell.execute_reply": "2023-08-04T10:38:25.081378Z"
    },
    "papermill": {
     "duration": 1.994243,
     "end_time": "2023-08-04T10:38:25.085277",
     "exception": false,
     "start_time": "2023-08-04T10:38:23.091034",
     "status": "completed"
    },
    "tags": []
   },
   "outputs": [
    {
     "name": "stderr",
     "output_type": "stream",
     "text": [
      "/opt/conda/lib/python3.10/site-packages/scipy/__init__.py:146: UserWarning: A NumPy version >=1.16.5 and <1.23.0 is required for this version of SciPy (detected version 1.23.5\n",
      "  warnings.warn(f\"A NumPy version >={np_minversion} and <{np_maxversion}\"\n"
     ]
    }
   ],
   "source": [
    "import sys\n",
    "sys.path.append('../input/iterativestratification')\n",
    "\n",
    "import numpy as np\n",
    "import pandas as pd\n",
    "import seaborn as sns\n",
    "import matplotlib.pyplot as plt\n",
    "from sklearn.utils import indexable\n",
    "from iterstrat.ml_stratifiers import MultilabelStratifiedKFold"
   ]
  },
  {
   "cell_type": "code",
   "execution_count": 2,
   "id": "9c589177",
   "metadata": {
    "execution": {
     "iopub.execute_input": "2023-08-04T10:38:25.095295Z",
     "iopub.status.busy": "2023-08-04T10:38:25.094549Z",
     "iopub.status.idle": "2023-08-04T10:38:25.105262Z",
     "shell.execute_reply": "2023-08-04T10:38:25.104065Z"
    },
    "papermill": {
     "duration": 0.01898,
     "end_time": "2023-08-04T10:38:25.108144",
     "exception": false,
     "start_time": "2023-08-04T10:38:25.089164",
     "status": "completed"
    },
    "tags": []
   },
   "outputs": [],
   "source": [
    "def ThreeWaySplitKFold(T):\n",
    "\n",
    "    class kfold_class(T):\n",
    "\n",
    "        def __init__(self, n_splits=10, **kwargs):\n",
    "            super().__init__(n_splits=n_splits, **kwargs)\n",
    "\n",
    "        def split(self, X, y=None, groups=None):\n",
    "            splits = []\n",
    "            for _, index in super().split(X,y,groups):\n",
    "                splits.append(index)\n",
    "            assert self.n_splits == len(splits)\n",
    "\n",
    "            X, y, groups = indexable(X, y, groups)\n",
    "            indices = np.arange(len(X))\n",
    "            for i,test_index in enumerate(splits):\n",
    "                valid_index = splits[(i+1)%self.n_splits]\n",
    "                mask = np.full(len(X), True)\n",
    "                mask[test_index] = False\n",
    "                mask[valid_index] = False\n",
    "                train_index = indices[mask]\n",
    "                yield train_index, valid_index, test_index\n",
    "\n",
    "    return kfold_class"
   ]
  },
  {
   "cell_type": "code",
   "execution_count": 3,
   "id": "2abfacb9",
   "metadata": {
    "execution": {
     "iopub.execute_input": "2023-08-04T10:38:25.118667Z",
     "iopub.status.busy": "2023-08-04T10:38:25.117927Z",
     "iopub.status.idle": "2023-08-04T10:38:25.136467Z",
     "shell.execute_reply": "2023-08-04T10:38:25.135122Z"
    },
    "papermill": {
     "duration": 0.027457,
     "end_time": "2023-08-04T10:38:25.139459",
     "exception": false,
     "start_time": "2023-08-04T10:38:25.112002",
     "status": "completed"
    },
    "tags": []
   },
   "outputs": [],
   "source": [
    "def training(x, y, stratify):\n",
    "    \n",
    "    for index_, seed in enumerate(range(100)):\n",
    "        cv = ThreeWaySplitKFold(MultilabelStratifiedKFold)(5,shuffle=True,random_state=seed)\n",
    "        for split, (train_idx, val_idx, test_idx) in enumerate(cv.split(x, stratify)):\n",
    "                \n",
    "            x_train, x_val, x_test = x.iloc[train_idx], x.iloc[val_idx], x.iloc[test_idx]\n",
    "            y_train, y_val, y_test = y.iloc[train_idx], y.iloc[val_idx], y.iloc[test_idx]\n",
    "        \n",
    "            train_split = np.bincount(y_train.astype(int))\n",
    "            valid_split = np.bincount(y_val.astype(int))\n",
    "            test_split = np.bincount(y_val.astype(int))\n",
    "        \n",
    "            if split ==0:\n",
    "                train_count = np.bincount(y_train)\n",
    "                valid_count = np.bincount(y_val)\n",
    "                test_count = np.bincount(y_test)\n",
    "\n",
    "            else:\n",
    "                train_count = np.append(train_count, np.bincount(y_train))\n",
    "                valid_count = np.append(valid_count, np.bincount(y_val))\n",
    "                test_count = np.append(test_count, np.bincount(y_test))\n",
    "\n",
    "        if index_ == 0:\n",
    "            train0 = train_count[0::2] # 各foldのtrain_dataのlabel 0の個数\n",
    "            train1 = train_count[1::2]\n",
    "            valid0 = valid_count[0::2]\n",
    "            valid1 = valid_count[1::2]\n",
    "            test0 = test_count[0::2]\n",
    "            test1 = test_count[1::2]\n",
    "        else:\n",
    "            train0 = np.append(train0, train_count[0::2])\n",
    "            train1 = np.append(train1, train_count[1::2])\n",
    "            valid0 = np.append(valid0, valid_count[0::2])\n",
    "            valid1 = np.append(valid1, valid_count[1::2])\n",
    "            test0 = np.append(test0, valid_count[0::2])\n",
    "            test1 = np.append(test1, valid_count[1::2])\n",
    "\n",
    "    plt.figure(figsize=(15, 6)) \n",
    "    plt.subplot(1,3,1)\n",
    "    sns.histplot(train0)\n",
    "    sns.histplot(train1)\n",
    "    plt.subplot(1,3,2)\n",
    "    sns.histplot(valid0)\n",
    "    sns.histplot(valid1)\n",
    "    plt.subplot(1,3,3)\n",
    "    sns.histplot(test0)\n",
    "    sns.histplot(test1)"
   ]
  },
  {
   "cell_type": "code",
   "execution_count": 4,
   "id": "921cfb65",
   "metadata": {
    "execution": {
     "iopub.execute_input": "2023-08-04T10:38:25.150080Z",
     "iopub.status.busy": "2023-08-04T10:38:25.149470Z",
     "iopub.status.idle": "2023-08-04T10:38:25.243644Z",
     "shell.execute_reply": "2023-08-04T10:38:25.242667Z"
    },
    "papermill": {
     "duration": 0.103589,
     "end_time": "2023-08-04T10:38:25.246935",
     "exception": false,
     "start_time": "2023-08-04T10:38:25.143346",
     "status": "completed"
    },
    "tags": []
   },
   "outputs": [],
   "source": [
    "train = pd.read_csv('/kaggle/input/icr-identify-age-related-conditions/train.csv')\n",
    "test = pd.read_csv('/kaggle/input/icr-identify-age-related-conditions/test.csv')\n",
    "sample = pd.read_csv('/kaggle/input/icr-identify-age-related-conditions/sample_submission.csv')\n",
    "greeks = pd.read_csv('/kaggle/input/icr-identify-age-related-conditions/greeks.csv')\n",
    "train = pd.merge(train, greeks, on = \"Id\", how = \"inner\")"
   ]
  },
  {
   "cell_type": "code",
   "execution_count": 5,
   "id": "783f13a6",
   "metadata": {
    "execution": {
     "iopub.execute_input": "2023-08-04T10:38:25.257037Z",
     "iopub.status.busy": "2023-08-04T10:38:25.256259Z",
     "iopub.status.idle": "2023-08-04T10:38:30.049672Z",
     "shell.execute_reply": "2023-08-04T10:38:30.047503Z"
    },
    "papermill": {
     "duration": 4.801969,
     "end_time": "2023-08-04T10:38:30.052877",
     "exception": false,
     "start_time": "2023-08-04T10:38:25.250908",
     "status": "completed"
    },
    "tags": []
   },
   "outputs": [
    {
     "data": {
      "image/png": "[encoded data removed]",
      "text/plain": [
       "<Figure size 1500x600 with 3 Axes>"
      ]
     },
     "metadata": {},
     "output_type": "display_data"
    }
   ],
   "source": [
    "stratify = train[[\"Beta\", \"Delta\", \"Gamma\"]] \n",
    "training(train, train.Class, stratify)"
   ]
  },
  {
   "cell_type": "code",
   "execution_count": 6,
   "id": "c716449b",
   "metadata": {
    "execution": {
     "iopub.execute_input": "2023-08-04T10:38:30.064124Z",
     "iopub.status.busy": "2023-08-04T10:38:30.063659Z",
     "iopub.status.idle": "2023-08-04T10:38:34.962780Z",
     "shell.execute_reply": "2023-08-04T10:38:34.961376Z"
    },
    "papermill": {
     "duration": 4.908526,
     "end_time": "2023-08-04T10:38:34.965971",
     "exception": false,
     "start_time": "2023-08-04T10:38:30.057445",
     "status": "completed"
    },
    "tags": []
   },
   "outputs": [
    {
     "data": {
      "image/png": "[encoded data removed]",
      "text/plain": [
       "<Figure size 1500x600 with 3 Axes>"
      ]
     },
     "metadata": {},
     "output_type": "display_data"
    }
   ],
   "source": [
    "stratify = train[[\"Class\", \"Beta\", \"Delta\", \"Gamma\"]] \n",
    "training(train, train.Class, stratify)"
   ]
  },
  {
   "cell_type": "code",
   "execution_count": null,
   "id": "b53ee14d",
   "metadata": {
    "papermill": {
     "duration": 0.004418,
     "end_time": "2023-08-04T10:38:34.975346",
     "exception": false,
     "start_time": "2023-08-04T10:38:34.970928",
     "status": "completed"
    },
    "tags": []
   },
   "outputs": [],
   "source": []
  }
 ],
 "metadata": {
  "kernelspec": {
   "display_name": "Python 3",
   "language": "python",
   "name": "python3"
  },
  "language_info": {
   "codemirror_mode": {
    "name": "ipython",
    "version": 3
   },
   "file_extension": ".py",
   "mimetype": "text/x-python",
   "name": "python",
   "nbconvert_exporter": "python",
   "pygments_lexer": "ipython3",
   "version": "3.10.10"
  },
  "papermill": {
   "default_parameters": {},
   "duration": 29.313889,
   "end_time": "2023-08-04T10:38:36.205980",
   "environment_variables": {},
   "exception": null,
   "input_path": "__notebook__.ipynb",
   "output_path": "__notebook__.ipynb",
   "parameters": {},
   "start_time": "2023-08-04T10:38:06.892091",
   "version": "2.4.0"
  }
 },
 "nbformat": 4,
 "nbformat_minor": 5
}
