{
 "cells": [
  {
   "cell_type": "markdown",
   "metadata": {},
   "source": [
    "## Introduction\n",
    "I will introduce a simple method using lightGBM as a starter."
   ]
  },
  {
   "cell_type": "markdown",
   "metadata": {},
   "source": [
    "## import\n",
    "Load the necessary libraries."
   ]
  },
  {
   "cell_type": "code",
   "execution_count": 1,
   "metadata": {
    "_cell_guid": "79c7e3d0-c299-4dcb-8224-4455121ee9b0",
    "_uuid": "d629ff2d2480ee46fbb7e2d37f6b5fab8052498a"
   },
   "outputs": [],
   "source": [
    "import os\n",
    "import pandas as pd\n",
    "from kaggle.competitions import nflrush\n",
    "import numpy as np\n",
    "import pandas as pd\n",
    "from sklearn import preprocessing\n",
    "import matplotlib.pyplot as plt\n",
    "import random\n",
    "from sklearn.model_selection import KFold\n",
    "import lightgbm as lgb\n",
    "import gc\n",
    "import pickle\n",
    "import tqdm\n",
    "import category_encoders"
   ]
  },
  {
   "cell_type": "markdown",
   "metadata": {},
   "source": [
    "## train data\n",
    "The shape of train data is 509762 × 49.\n",
    "But, since one set consists of 22 lines, the actual number of data is 23171.\n",
    "I converted it to a format that is easy to use."
   ]
  },
  {
   "cell_type": "code",
   "execution_count": 2,
   "metadata": {},
   "outputs": [],
   "source": [
    "env = nflrush.make_env()\n",
    "train_df = pd.read_csv('/kaggle/input/nfl-big-data-bowl-2020/train.csv', low_memory=False)"
   ]
  },
  {
   "cell_type": "code",
   "execution_count": 3,
   "metadata": {},
   "outputs": [
    {
     "data": {
      "text/html": [
       "<div>\n",
       "<style scoped>\n",
       "    .dataframe tbody tr th:only-of-type {\n",
       "        vertical-align: middle;\n",
       "    }\n",
       "\n",
       "    .dataframe tbody tr th {\n",
       "        vertical-align: top;\n",
       "    }\n",
       "\n",
       "    .dataframe thead th {\n",
       "        text-align: right;\n",
       "    }\n",
       "</style>\n",
       "<table border=\"1\" class=\"dataframe\">\n",
       "  <thead>\n",
       "    <tr style=\"text-align: right;\">\n",
       "      <th></th>\n",
       "      <th>GameId</th>\n",
       "      <th>PlayId</th>\n",
       "      <th>Team</th>\n",
       "      <th>X</th>\n",
       "      <th>Y</th>\n",
       "      <th>S</th>\n",
       "      <th>A</th>\n",
       "      <th>Dis</th>\n",
       "      <th>Orientation</th>\n",
       "      <th>Dir</th>\n",
       "      <th>...</th>\n",
       "      <th>Week</th>\n",
       "      <th>Stadium</th>\n",
       "      <th>Location</th>\n",
       "      <th>StadiumType</th>\n",
       "      <th>Turf</th>\n",
       "      <th>GameWeather</th>\n",
       "      <th>Temperature</th>\n",
       "      <th>Humidity</th>\n",
       "      <th>WindSpeed</th>\n",
       "      <th>WindDirection</th>\n",
       "    </tr>\n",
       "  </thead>\n",
       "  <tbody>\n",
       "    <tr>\n",
       "      <td>0</td>\n",
       "      <td>2017090700</td>\n",
       "      <td>20170907000118</td>\n",
       "      <td>away</td>\n",
       "      <td>73.91</td>\n",
       "      <td>34.84</td>\n",
       "      <td>1.69</td>\n",
       "      <td>1.13</td>\n",
       "      <td>0.40</td>\n",
       "      <td>81.99</td>\n",
       "      <td>177.18</td>\n",
       "      <td>...</td>\n",
       "      <td>1</td>\n",
       "      <td>Gillette Stadium</td>\n",
       "      <td>Foxborough, MA</td>\n",
       "      <td>Outdoor</td>\n",
       "      <td>Field Turf</td>\n",
       "      <td>Clear and warm</td>\n",
       "      <td>63.0</td>\n",
       "      <td>77.0</td>\n",
       "      <td>8</td>\n",
       "      <td>SW</td>\n",
       "    </tr>\n",
       "    <tr>\n",
       "      <td>1</td>\n",
       "      <td>2017090700</td>\n",
       "      <td>20170907000118</td>\n",
       "      <td>away</td>\n",
       "      <td>74.67</td>\n",
       "      <td>32.64</td>\n",
       "      <td>0.42</td>\n",
       "      <td>1.35</td>\n",
       "      <td>0.01</td>\n",
       "      <td>27.61</td>\n",
       "      <td>198.70</td>\n",
       "      <td>...</td>\n",
       "      <td>1</td>\n",
       "      <td>Gillette Stadium</td>\n",
       "      <td>Foxborough, MA</td>\n",
       "      <td>Outdoor</td>\n",
       "      <td>Field Turf</td>\n",
       "      <td>Clear and warm</td>\n",
       "      <td>63.0</td>\n",
       "      <td>77.0</td>\n",
       "      <td>8</td>\n",
       "      <td>SW</td>\n",
       "    </tr>\n",
       "    <tr>\n",
       "      <td>2</td>\n",
       "      <td>2017090700</td>\n",
       "      <td>20170907000118</td>\n",
       "      <td>away</td>\n",
       "      <td>74.00</td>\n",
       "      <td>33.20</td>\n",
       "      <td>1.22</td>\n",
       "      <td>0.59</td>\n",
       "      <td>0.31</td>\n",
       "      <td>3.01</td>\n",
       "      <td>202.73</td>\n",
       "      <td>...</td>\n",
       "      <td>1</td>\n",
       "      <td>Gillette Stadium</td>\n",
       "      <td>Foxborough, MA</td>\n",
       "      <td>Outdoor</td>\n",
       "      <td>Field Turf</td>\n",
       "      <td>Clear and warm</td>\n",
       "      <td>63.0</td>\n",
       "      <td>77.0</td>\n",
       "      <td>8</td>\n",
       "      <td>SW</td>\n",
       "    </tr>\n",
       "    <tr>\n",
       "      <td>3</td>\n",
       "      <td>2017090700</td>\n",
       "      <td>20170907000118</td>\n",
       "      <td>away</td>\n",
       "      <td>71.46</td>\n",
       "      <td>27.70</td>\n",
       "      <td>0.42</td>\n",
       "      <td>0.54</td>\n",
       "      <td>0.02</td>\n",
       "      <td>359.77</td>\n",
       "      <td>105.64</td>\n",
       "      <td>...</td>\n",
       "      <td>1</td>\n",
       "      <td>Gillette Stadium</td>\n",
       "      <td>Foxborough, MA</td>\n",
       "      <td>Outdoor</td>\n",
       "      <td>Field Turf</td>\n",
       "      <td>Clear and warm</td>\n",
       "      <td>63.0</td>\n",
       "      <td>77.0</td>\n",
       "      <td>8</td>\n",
       "      <td>SW</td>\n",
       "    </tr>\n",
       "    <tr>\n",
       "      <td>4</td>\n",
       "      <td>2017090700</td>\n",
       "      <td>20170907000118</td>\n",
       "      <td>away</td>\n",
       "      <td>69.32</td>\n",
       "      <td>35.42</td>\n",
       "      <td>1.82</td>\n",
       "      <td>2.43</td>\n",
       "      <td>0.16</td>\n",
       "      <td>12.63</td>\n",
       "      <td>164.31</td>\n",
       "      <td>...</td>\n",
       "      <td>1</td>\n",
       "      <td>Gillette Stadium</td>\n",
       "      <td>Foxborough, MA</td>\n",
       "      <td>Outdoor</td>\n",
       "      <td>Field Turf</td>\n",
       "      <td>Clear and warm</td>\n",
       "      <td>63.0</td>\n",
       "      <td>77.0</td>\n",
       "      <td>8</td>\n",
       "      <td>SW</td>\n",
       "    </tr>\n",
       "    <tr>\n",
       "      <td>...</td>\n",
       "      <td>...</td>\n",
       "      <td>...</td>\n",
       "      <td>...</td>\n",
       "      <td>...</td>\n",
       "      <td>...</td>\n",
       "      <td>...</td>\n",
       "      <td>...</td>\n",
       "      <td>...</td>\n",
       "      <td>...</td>\n",
       "      <td>...</td>\n",
       "      <td>...</td>\n",
       "      <td>...</td>\n",
       "      <td>...</td>\n",
       "      <td>...</td>\n",
       "      <td>...</td>\n",
       "      <td>...</td>\n",
       "      <td>...</td>\n",
       "      <td>...</td>\n",
       "      <td>...</td>\n",
       "      <td>...</td>\n",
       "      <td>...</td>\n",
       "    </tr>\n",
       "    <tr>\n",
       "      <td>509757</td>\n",
       "      <td>2018123015</td>\n",
       "      <td>20181230154157</td>\n",
       "      <td>home</td>\n",
       "      <td>86.77</td>\n",
       "      <td>24.20</td>\n",
       "      <td>2.14</td>\n",
       "      <td>2.12</td>\n",
       "      <td>0.22</td>\n",
       "      <td>44.55</td>\n",
       "      <td>15.31</td>\n",
       "      <td>...</td>\n",
       "      <td>17</td>\n",
       "      <td>CenturyLink Field</td>\n",
       "      <td>Seattle, WA</td>\n",
       "      <td>Outdoor</td>\n",
       "      <td>FieldTurf</td>\n",
       "      <td>Cloudy</td>\n",
       "      <td>45.0</td>\n",
       "      <td>76.0</td>\n",
       "      <td>5</td>\n",
       "      <td>SE</td>\n",
       "    </tr>\n",
       "    <tr>\n",
       "      <td>509758</td>\n",
       "      <td>2018123015</td>\n",
       "      <td>20181230154157</td>\n",
       "      <td>home</td>\n",
       "      <td>86.76</td>\n",
       "      <td>27.18</td>\n",
       "      <td>1.16</td>\n",
       "      <td>0.66</td>\n",
       "      <td>0.11</td>\n",
       "      <td>53.63</td>\n",
       "      <td>42.80</td>\n",
       "      <td>...</td>\n",
       "      <td>17</td>\n",
       "      <td>CenturyLink Field</td>\n",
       "      <td>Seattle, WA</td>\n",
       "      <td>Outdoor</td>\n",
       "      <td>FieldTurf</td>\n",
       "      <td>Cloudy</td>\n",
       "      <td>45.0</td>\n",
       "      <td>76.0</td>\n",
       "      <td>5</td>\n",
       "      <td>SE</td>\n",
       "    </tr>\n",
       "    <tr>\n",
       "      <td>509759</td>\n",
       "      <td>2018123015</td>\n",
       "      <td>20181230154157</td>\n",
       "      <td>home</td>\n",
       "      <td>87.26</td>\n",
       "      <td>27.05</td>\n",
       "      <td>2.59</td>\n",
       "      <td>1.18</td>\n",
       "      <td>0.26</td>\n",
       "      <td>3.96</td>\n",
       "      <td>21.12</td>\n",
       "      <td>...</td>\n",
       "      <td>17</td>\n",
       "      <td>CenturyLink Field</td>\n",
       "      <td>Seattle, WA</td>\n",
       "      <td>Outdoor</td>\n",
       "      <td>FieldTurf</td>\n",
       "      <td>Cloudy</td>\n",
       "      <td>45.0</td>\n",
       "      <td>76.0</td>\n",
       "      <td>5</td>\n",
       "      <td>SE</td>\n",
       "    </tr>\n",
       "    <tr>\n",
       "      <td>509760</td>\n",
       "      <td>2018123015</td>\n",
       "      <td>20181230154157</td>\n",
       "      <td>home</td>\n",
       "      <td>84.57</td>\n",
       "      <td>24.37</td>\n",
       "      <td>4.36</td>\n",
       "      <td>1.79</td>\n",
       "      <td>0.47</td>\n",
       "      <td>148.08</td>\n",
       "      <td>183.34</td>\n",
       "      <td>...</td>\n",
       "      <td>17</td>\n",
       "      <td>CenturyLink Field</td>\n",
       "      <td>Seattle, WA</td>\n",
       "      <td>Outdoor</td>\n",
       "      <td>FieldTurf</td>\n",
       "      <td>Cloudy</td>\n",
       "      <td>45.0</td>\n",
       "      <td>76.0</td>\n",
       "      <td>5</td>\n",
       "      <td>SE</td>\n",
       "    </tr>\n",
       "    <tr>\n",
       "      <td>509761</td>\n",
       "      <td>2018123015</td>\n",
       "      <td>20181230154157</td>\n",
       "      <td>home</td>\n",
       "      <td>80.80</td>\n",
       "      <td>26.35</td>\n",
       "      <td>4.87</td>\n",
       "      <td>4.10</td>\n",
       "      <td>0.45</td>\n",
       "      <td>135.44</td>\n",
       "      <td>118.24</td>\n",
       "      <td>...</td>\n",
       "      <td>17</td>\n",
       "      <td>CenturyLink Field</td>\n",
       "      <td>Seattle, WA</td>\n",
       "      <td>Outdoor</td>\n",
       "      <td>FieldTurf</td>\n",
       "      <td>Cloudy</td>\n",
       "      <td>45.0</td>\n",
       "      <td>76.0</td>\n",
       "      <td>5</td>\n",
       "      <td>SE</td>\n",
       "    </tr>\n",
       "  </tbody>\n",
       "</table>\n",
       "<p>509762 rows × 49 columns</p>\n",
       "</div>"
      ],
      "text/plain": [
       "            GameId          PlayId  Team      X      Y     S     A   Dis  \\\n",
       "0       2017090700  20170907000118  away  73.91  34.84  1.69  1.13  0.40   \n",
       "1       2017090700  20170907000118  away  74.67  32.64  0.42  1.35  0.01   \n",
       "2       2017090700  20170907000118  away  74.00  33.20  1.22  0.59  0.31   \n",
       "3       2017090700  20170907000118  away  71.46  27.70  0.42  0.54  0.02   \n",
       "4       2017090700  20170907000118  away  69.32  35.42  1.82  2.43  0.16   \n",
       "...            ...             ...   ...    ...    ...   ...   ...   ...   \n",
       "509757  2018123015  20181230154157  home  86.77  24.20  2.14  2.12  0.22   \n",
       "509758  2018123015  20181230154157  home  86.76  27.18  1.16  0.66  0.11   \n",
       "509759  2018123015  20181230154157  home  87.26  27.05  2.59  1.18  0.26   \n",
       "509760  2018123015  20181230154157  home  84.57  24.37  4.36  1.79  0.47   \n",
       "509761  2018123015  20181230154157  home  80.80  26.35  4.87  4.10  0.45   \n",
       "\n",
       "        Orientation     Dir  ...  Week            Stadium        Location  \\\n",
       "0             81.99  177.18  ...     1   Gillette Stadium  Foxborough, MA   \n",
       "1             27.61  198.70  ...     1   Gillette Stadium  Foxborough, MA   \n",
       "2              3.01  202.73  ...     1   Gillette Stadium  Foxborough, MA   \n",
       "3            359.77  105.64  ...     1   Gillette Stadium  Foxborough, MA   \n",
       "4             12.63  164.31  ...     1   Gillette Stadium  Foxborough, MA   \n",
       "...             ...     ...  ...   ...                ...             ...   \n",
       "509757        44.55   15.31  ...    17  CenturyLink Field     Seattle, WA   \n",
       "509758        53.63   42.80  ...    17  CenturyLink Field     Seattle, WA   \n",
       "509759         3.96   21.12  ...    17  CenturyLink Field     Seattle, WA   \n",
       "509760       148.08  183.34  ...    17  CenturyLink Field     Seattle, WA   \n",
       "509761       135.44  118.24  ...    17  CenturyLink Field     Seattle, WA   \n",
       "\n",
       "        StadiumType        Turf     GameWeather Temperature Humidity  \\\n",
       "0           Outdoor  Field Turf  Clear and warm        63.0     77.0   \n",
       "1           Outdoor  Field Turf  Clear and warm        63.0     77.0   \n",
       "2           Outdoor  Field Turf  Clear and warm        63.0     77.0   \n",
       "3           Outdoor  Field Turf  Clear and warm        63.0     77.0   \n",
       "4           Outdoor  Field Turf  Clear and warm        63.0     77.0   \n",
       "...             ...         ...             ...         ...      ...   \n",
       "509757      Outdoor   FieldTurf          Cloudy        45.0     76.0   \n",
       "509758      Outdoor   FieldTurf          Cloudy        45.0     76.0   \n",
       "509759      Outdoor   FieldTurf          Cloudy        45.0     76.0   \n",
       "509760      Outdoor   FieldTurf          Cloudy        45.0     76.0   \n",
       "509761      Outdoor   FieldTurf          Cloudy        45.0     76.0   \n",
       "\n",
       "        WindSpeed  WindDirection  \n",
       "0               8             SW  \n",
       "1               8             SW  \n",
       "2               8             SW  \n",
       "3               8             SW  \n",
       "4               8             SW  \n",
       "...           ...            ...  \n",
       "509757          5             SE  \n",
       "509758          5             SE  \n",
       "509759          5             SE  \n",
       "509760          5             SE  \n",
       "509761          5             SE  \n",
       "\n",
       "[509762 rows x 49 columns]"
      ]
     },
     "execution_count": 3,
     "metadata": {},
     "output_type": "execute_result"
    }
   ],
   "source": [
    "train_df"
   ]
  },
  {
   "cell_type": "code",
   "execution_count": 4,
   "metadata": {},
   "outputs": [],
   "source": [
    "unused_columns = [\"GameId\",\"PlayId\",\"Team\",\"Yards\",\"TimeHandoff\",\"TimeSnap\"]"
   ]
  },
  {
   "cell_type": "code",
   "execution_count": 5,
   "metadata": {},
   "outputs": [
    {
     "name": "stdout",
     "output_type": "stream",
     "text": [
      "X  is unique\n",
      "Y  is unique\n",
      "S  is unique\n",
      "A  is unique\n",
      "Dis  is unique\n",
      "Orientation  is unique\n",
      "Dir  is unique\n",
      "NflId  is unique\n",
      "DisplayName  is unique\n",
      "JerseyNumber  is unique\n",
      "PlayerHeight  is unique\n",
      "PlayerWeight  is unique\n",
      "PlayerCollegeName  is unique\n",
      "Position  is unique\n"
     ]
    }
   ],
   "source": [
    "unique_columns = []\n",
    "for c in train_df.columns:\n",
    "    if c not in unused_columns+[\"PlayerBirthDate\"] and len(set(train_df[c][:11]))!= 1:\n",
    "        unique_columns.append(c)\n",
    "        print(c,\" is unique\")\n",
    "# unique_columns+=[\"BirthY\"]"
   ]
  },
  {
   "cell_type": "code",
   "execution_count": 6,
   "metadata": {},
   "outputs": [
    {
     "name": "stdout",
     "output_type": "stream",
     "text": [
      "train data is sorted by PlayId.\n",
      "train data is sorted by Team.\n"
     ]
    }
   ],
   "source": [
    "ok = True\n",
    "for i in range(0,509762,22):\n",
    "    p=train_df[\"PlayId\"][i]\n",
    "    for j in range(1,22):\n",
    "        if(p!=train_df[\"PlayId\"][i+j]):\n",
    "            ok=False\n",
    "            break\n",
    "print(\"train data is sorted by PlayId.\" if ok else \"train data is not sorted by PlayId.\")\n",
    "ok = True\n",
    "for i in range(0,509762,11):\n",
    "    p=train_df[\"Team\"][i]\n",
    "    for j in range(1,11):\n",
    "        if(p!=train_df[\"Team\"][i+j]):\n",
    "            ok=False\n",
    "            break\n",
    "print(\"train data is sorted by Team.\" if ok else \"train data is not sorted by Team.\")"
   ]
  },
  {
   "cell_type": "markdown",
   "metadata": {},
   "source": [
    "Since the training data was sorted, preprocessing can be done easily."
   ]
  },
  {
   "cell_type": "code",
   "execution_count": 7,
   "metadata": {},
   "outputs": [],
   "source": [
    "all_columns = []\n",
    "for c in train_df.columns:\n",
    "    if c not in unique_columns + unused_columns+[\"DefensePersonnel\",\"GameClock\",\"PlayerBirthDate\"]:\n",
    "        all_columns.append(c)\n",
    "all_columns.append(\"DL\")\n",
    "all_columns.append(\"LB\")    \n",
    "all_columns.append(\"DB\")\n",
    "all_columns.append(\"GameHour\")   \n",
    "for c in unique_columns:\n",
    "    for i in range(22):\n",
    "        all_columns.append(c+str(i))"
   ]
  },
  {
   "cell_type": "code",
   "execution_count": 8,
   "metadata": {},
   "outputs": [
    {
     "name": "stdout",
     "output_type": "stream",
     "text": [
      "['Season', 'YardLine', 'Quarter', 'PossessionTeam', 'Down', 'Distance', 'FieldPosition', 'HomeScoreBeforePlay', 'VisitorScoreBeforePlay', 'NflIdRusher', 'OffenseFormation', 'OffensePersonnel', 'DefendersInTheBox', 'PlayDirection', 'HomeTeamAbbr', 'VisitorTeamAbbr', 'Week', 'Stadium', 'Location', 'StadiumType', 'Turf', 'GameWeather', 'Temperature', 'Humidity', 'WindSpeed', 'WindDirection', 'DL', 'LB', 'DB', 'GameHour', 'X0', 'X1', 'X2', 'X3', 'X4', 'X5', 'X6', 'X7', 'X8', 'X9', 'X10', 'X11', 'X12', 'X13', 'X14', 'X15', 'X16', 'X17', 'X18', 'X19', 'X20', 'X21', 'Y0', 'Y1', 'Y2', 'Y3', 'Y4', 'Y5', 'Y6', 'Y7', 'Y8', 'Y9', 'Y10', 'Y11', 'Y12', 'Y13', 'Y14', 'Y15', 'Y16', 'Y17', 'Y18', 'Y19', 'Y20', 'Y21', 'S0', 'S1', 'S2', 'S3', 'S4', 'S5', 'S6', 'S7', 'S8', 'S9', 'S10', 'S11', 'S12', 'S13', 'S14', 'S15', 'S16', 'S17', 'S18', 'S19', 'S20', 'S21', 'A0', 'A1', 'A2', 'A3', 'A4', 'A5', 'A6', 'A7', 'A8', 'A9', 'A10', 'A11', 'A12', 'A13', 'A14', 'A15', 'A16', 'A17', 'A18', 'A19', 'A20', 'A21', 'Dis0', 'Dis1', 'Dis2', 'Dis3', 'Dis4', 'Dis5', 'Dis6', 'Dis7', 'Dis8', 'Dis9', 'Dis10', 'Dis11', 'Dis12', 'Dis13', 'Dis14', 'Dis15', 'Dis16', 'Dis17', 'Dis18', 'Dis19', 'Dis20', 'Dis21', 'Orientation0', 'Orientation1', 'Orientation2', 'Orientation3', 'Orientation4', 'Orientation5', 'Orientation6', 'Orientation7', 'Orientation8', 'Orientation9', 'Orientation10', 'Orientation11', 'Orientation12', 'Orientation13', 'Orientation14', 'Orientation15', 'Orientation16', 'Orientation17', 'Orientation18', 'Orientation19', 'Orientation20', 'Orientation21', 'Dir0', 'Dir1', 'Dir2', 'Dir3', 'Dir4', 'Dir5', 'Dir6', 'Dir7', 'Dir8', 'Dir9', 'Dir10', 'Dir11', 'Dir12', 'Dir13', 'Dir14', 'Dir15', 'Dir16', 'Dir17', 'Dir18', 'Dir19', 'Dir20', 'Dir21', 'NflId0', 'NflId1', 'NflId2', 'NflId3', 'NflId4', 'NflId5', 'NflId6', 'NflId7', 'NflId8', 'NflId9', 'NflId10', 'NflId11', 'NflId12', 'NflId13', 'NflId14', 'NflId15', 'NflId16', 'NflId17', 'NflId18', 'NflId19', 'NflId20', 'NflId21', 'DisplayName0', 'DisplayName1', 'DisplayName2', 'DisplayName3', 'DisplayName4', 'DisplayName5', 'DisplayName6', 'DisplayName7', 'DisplayName8', 'DisplayName9', 'DisplayName10', 'DisplayName11', 'DisplayName12', 'DisplayName13', 'DisplayName14', 'DisplayName15', 'DisplayName16', 'DisplayName17', 'DisplayName18', 'DisplayName19', 'DisplayName20', 'DisplayName21', 'JerseyNumber0', 'JerseyNumber1', 'JerseyNumber2', 'JerseyNumber3', 'JerseyNumber4', 'JerseyNumber5', 'JerseyNumber6', 'JerseyNumber7', 'JerseyNumber8', 'JerseyNumber9', 'JerseyNumber10', 'JerseyNumber11', 'JerseyNumber12', 'JerseyNumber13', 'JerseyNumber14', 'JerseyNumber15', 'JerseyNumber16', 'JerseyNumber17', 'JerseyNumber18', 'JerseyNumber19', 'JerseyNumber20', 'JerseyNumber21', 'PlayerHeight0', 'PlayerHeight1', 'PlayerHeight2', 'PlayerHeight3', 'PlayerHeight4', 'PlayerHeight5', 'PlayerHeight6', 'PlayerHeight7', 'PlayerHeight8', 'PlayerHeight9', 'PlayerHeight10', 'PlayerHeight11', 'PlayerHeight12', 'PlayerHeight13', 'PlayerHeight14', 'PlayerHeight15', 'PlayerHeight16', 'PlayerHeight17', 'PlayerHeight18', 'PlayerHeight19', 'PlayerHeight20', 'PlayerHeight21', 'PlayerWeight0', 'PlayerWeight1', 'PlayerWeight2', 'PlayerWeight3', 'PlayerWeight4', 'PlayerWeight5', 'PlayerWeight6', 'PlayerWeight7', 'PlayerWeight8', 'PlayerWeight9', 'PlayerWeight10', 'PlayerWeight11', 'PlayerWeight12', 'PlayerWeight13', 'PlayerWeight14', 'PlayerWeight15', 'PlayerWeight16', 'PlayerWeight17', 'PlayerWeight18', 'PlayerWeight19', 'PlayerWeight20', 'PlayerWeight21', 'PlayerCollegeName0', 'PlayerCollegeName1', 'PlayerCollegeName2', 'PlayerCollegeName3', 'PlayerCollegeName4', 'PlayerCollegeName5', 'PlayerCollegeName6', 'PlayerCollegeName7', 'PlayerCollegeName8', 'PlayerCollegeName9', 'PlayerCollegeName10', 'PlayerCollegeName11', 'PlayerCollegeName12', 'PlayerCollegeName13', 'PlayerCollegeName14', 'PlayerCollegeName15', 'PlayerCollegeName16', 'PlayerCollegeName17', 'PlayerCollegeName18', 'PlayerCollegeName19', 'PlayerCollegeName20', 'PlayerCollegeName21', 'Position0', 'Position1', 'Position2', 'Position3', 'Position4', 'Position5', 'Position6', 'Position7', 'Position8', 'Position9', 'Position10', 'Position11', 'Position12', 'Position13', 'Position14', 'Position15', 'Position16', 'Position17', 'Position18', 'Position19', 'Position20', 'Position21']\n"
     ]
    }
   ],
   "source": [
    "print(all_columns)"
   ]
  },
  {
   "cell_type": "code",
   "execution_count": 9,
   "metadata": {},
   "outputs": [],
   "source": [
    "lbl_dict = {}\n",
    "for c in train_df.columns:\n",
    "    if c == \"DefensePersonnel\":\n",
    "        arr = [[int(s[0]) for s in t.split(\", \")] for t in train_df[\"DefensePersonnel\"]]\n",
    "        train_df[\"DL\"] = np.array([a[0] for a in arr])\n",
    "        train_df[\"LB\"] = np.array([a[1] for a in arr])\n",
    "        train_df[\"DB\"] = np.array([a[2] for a in arr])\n",
    "    elif c == \"GameClock\":\n",
    "        arr = [[int(s) for s in t.split(\":\")] for t in train_df[\"GameClock\"]]\n",
    "        train_df[\"GameHour\"] = pd.Series([a[0] for a in arr])\n",
    "    elif c == \"PlayerBirthDate\":\n",
    "        arr = [[int(s) for s in t.split(\"/\")] for t in train_df[\"PlayerBirthDate\"]]\n",
    "        train_df[\"BirthY\"] = pd.Series([a[2] for a in arr])\n",
    "    # elif c == \"PlayerHeight\":\n",
    "    #     arr = [float(s.split(\"-\")[0]) * 30.48 + float(s.split(\"-\")[1]) * 2.54\n",
    "    #         for s in list(train_df[\"PlayerHeight\"])]\n",
    "    #     train_df[\"PlayerHeight\"] = pd.Series(arr)\n",
    "    elif train_df[c].dtype=='object' and c not in unused_columns: \n",
    "        lbl = preprocessing.LabelEncoder()\n",
    "        lbl.fit(list(train_df[c].values))\n",
    "        lbl_dict[c] = lbl\n",
    "        train_df[c] = lbl.transform(list(train_df[c].values))"
   ]
  },
  {
   "cell_type": "code",
   "execution_count": 10,
   "metadata": {},
   "outputs": [
    {
     "name": "stderr",
     "output_type": "stream",
     "text": [
      "100%|██████████| 23171/23171 [03:23<00:00, 113.66it/s]\n"
     ]
    }
   ],
   "source": [
    "train_data=np.zeros((509762//22,len(all_columns)))\n",
    "for i in tqdm.tqdm(range(0,509762,22)):\n",
    "    count=0\n",
    "    for c in all_columns:\n",
    "        if c in train_df:\n",
    "            train_data[i//22][count] = train_df[c][i]\n",
    "            count+=1\n",
    "    for c in unique_columns:\n",
    "        for j in range(22):\n",
    "            train_data[i//22][count] = train_df[c][i+j]\n",
    "            count+=1        "
   ]
  },
  {
   "cell_type": "code",
   "execution_count": 11,
   "metadata": {},
   "outputs": [],
   "source": [
    "y_train_ = np.array([train_df[\"Yards\"][i] for i in range(0,509762,22)])\n",
    "X_train = pd.DataFrame(data=train_data,columns=all_columns)"
   ]
  },
  {
   "cell_type": "code",
   "execution_count": 12,
   "metadata": {},
   "outputs": [
    {
     "data": {
      "text/plain": [
       "[<matplotlib.lines.Line2D at 0x7f4cd8468a20>]"
      ]
     },
     "execution_count": 12,
     "metadata": {},
     "output_type": "execute_result"
    },
    {
     "data": {
      "image/png": "[encoded data removed]",
      "text/plain": [
       "<Figure size 432x288 with 1 Axes>"
      ]
     },
     "metadata": {
      "needs_background": "light"
     },
     "output_type": "display_data"
    }
   ],
   "source": [
    "data = [0 for i in range(199)]\n",
    "for y in y_train_:\n",
    "    data[int(y+99)]+=1\n",
    "plt.plot([i-99 for i in range(199)],data)"
   ]
  },
  {
   "cell_type": "markdown",
   "metadata": {},
   "source": [
    "Since the variance is small, I standardized the objective variable."
   ]
  },
  {
   "cell_type": "code",
   "execution_count": 13,
   "metadata": {},
   "outputs": [],
   "source": [
    "# scaler = preprocessing.StandardScaler()\n",
    "# scaler.fit([[y] for y in y_train_])\n",
    "# y_train = np.array([y[0] for y in scaler.transform([[y] for y in y_train_])])\n",
    "scaler = preprocessing.StandardScaler()\n",
    "scaler.fit(y_train_.reshape(-1, 1))\n",
    "y_train = scaler.transform(y_train_.reshape(-1, 1)).flatten()"
   ]
  },
  {
   "cell_type": "markdown",
   "metadata": {},
   "source": [
    "## train\n",
    "I used LGBMRegressor.\n",
    "I wanted to use multi-class classification, but the number of datasets was small and it was difficult to split them including all labels."
   ]
  },
  {
   "cell_type": "code",
   "execution_count": 14,
   "metadata": {
    "_kg_hide-output": true
   },
   "outputs": [
    {
     "name": "stdout",
     "output_type": "stream",
     "text": [
      "20853 2318\n",
      "20854 2317\n",
      "20854 2317\n",
      "20854 2317\n",
      "20854 2317\n",
      "20854 2317\n",
      "20854 2317\n",
      "20854 2317\n",
      "20854 2317\n",
      "20854 2317\n"
     ]
    },
    {
     "data": {
      "text/plain": [
       "123"
      ]
     },
     "execution_count": 14,
     "metadata": {},
     "output_type": "execute_result"
    }
   ],
   "source": [
    "folds = 10\n",
    "seed = 222\n",
    "kf = KFold(n_splits = folds, shuffle = True, random_state=seed)\n",
    "y_valid_pred = np.zeros(X_train.shape[0])\n",
    "models = []\n",
    "\n",
    "for tr_idx, val_idx in kf.split(X_train, y_train):\n",
    "    tr_x, tr_y = X_train.iloc[tr_idx,:], y_train[tr_idx]\n",
    "    vl_x, vl_y = X_train.iloc[val_idx,:], y_train[val_idx]\n",
    "            \n",
    "    print(len(tr_x),len(vl_x))\n",
    "    tr_data = lgb.Dataset(tr_x, label=tr_y)\n",
    "    vl_data = lgb.Dataset(vl_x, label=vl_y)  \n",
    "    clf = lgb.LGBMRegressor(n_estimators=200,learning_rate=0.01)\n",
    "    clf.fit(tr_x, tr_y,\n",
    "        eval_set=[(vl_x, vl_y)],\n",
    "        early_stopping_rounds=20,\n",
    "        verbose=False)\n",
    "    y_valid_pred[val_idx] += clf.predict(vl_x, num_iteration=clf.best_iteration_)\n",
    "    models.append(clf)\n",
    "\n",
    "gc.collect()"
   ]
  },
  {
   "cell_type": "markdown",
   "metadata": {},
   "source": [
    "## evaluation\n",
    "Continuous Ranked Probability Score (CRPS) is derived based on the predicted scalar value.\n",
    "The CRPS is computed as follows:\n",
    "$$\n",
    "C=\\frac{1}{199N}\\sum_{m=1}^N\\sum_{n=-99}^{99}(P(y\\geq n)-H(n-Y_m))^2\n",
    "$$\n",
    "$H(x)=1$ if $x\\geq 0$ else $0$"
   ]
  },
  {
   "cell_type": "code",
   "execution_count": 15,
   "metadata": {},
   "outputs": [
    {
     "name": "stdout",
     "output_type": "stream",
     "text": [
      "validation score: 0.015568569401753912\n"
     ]
    }
   ],
   "source": [
    "y_pred = np.zeros((509762//22,199))\n",
    "y_ans = np.zeros((509762//22,199))\n",
    "\n",
    "for i,p in enumerate(np.round(scaler.inverse_transform(y_valid_pred))):\n",
    "    p+=99\n",
    "    for j in range(199):\n",
    "        if j>=p+10:\n",
    "            y_pred[i][j]=1.0\n",
    "        elif j>=p-10:\n",
    "            y_pred[i][j]=(j+10-p)*0.05\n",
    "\n",
    "for i,p in enumerate(scaler.inverse_transform(y_train)):\n",
    "    p+=99\n",
    "    for j in range(199):\n",
    "        if j>=p:\n",
    "            y_ans[i][j]=1.0\n",
    "\n",
    "print(\"validation score:\",np.sum(np.power(y_pred-y_ans,2))/(199*(509762//22)))"
   ]
  },
  {
   "cell_type": "markdown",
   "metadata": {},
   "source": [
    "## make submission\n",
    "\n",
    "When there is a label that does not exist in the training data, it is handled as nan.\n",
    "If you can check the error one by one and complement it, you will get better score."
   ]
  },
  {
   "cell_type": "code",
   "execution_count": 16,
   "metadata": {},
   "outputs": [
    {
     "name": "stderr",
     "output_type": "stream",
     "text": [
      "3438it [03:44, 15.29it/s]\n"
     ]
    },
    {
     "name": "stdout",
     "output_type": "stream",
     "text": [
      "Your submission file has been saved!  Once you `Commit` your Notebook and it finishes running, you can submit the file to the competition from the Notebook Viewer `Output` tab.\n"
     ]
    }
   ],
   "source": [
    "index = 0\n",
    "for (test_df, sample_prediction_df) in tqdm.tqdm(env.iter_test()):\n",
    "    for c in test_df.columns:\n",
    "        if c == \"DefensePersonnel\":\n",
    "            try:\n",
    "                arr = [[int(s[0]) for s in t.split(\", \")] for t in test_df[\"DefensePersonnel\"]]\n",
    "                test_df[\"DL\"] = [a[0] for a in arr]\n",
    "                test_df[\"LB\"] = [a[1] for a in arr]\n",
    "                test_df[\"DB\"] = [a[2] for a in arr]\n",
    "            except:\n",
    "                test_df[\"DL\"] = [np.nan for i in range(22)]\n",
    "                test_df[\"LB\"] = [np.nan for i in range(22)]\n",
    "                test_df[\"DB\"] = [np.nan for i in range(22)]\n",
    "        elif c == \"GameClock\":\n",
    "            try:\n",
    "                arr = [[int(s) for s in t.split(\":\")] for t in test_df[\"GameClock\"]]\n",
    "                test_df[\"GameHour\"] = pd.Series([a[0] for a in arr])\n",
    "            except:\n",
    "                test_df[\"GameHour\"] = [np.nan for i in range(22)]\n",
    "        elif c == \"PlayerBirthDate\":\n",
    "            try:\n",
    "                arr = [[int(s) for s in t.split(\"/\")] for t in test_df[\"PlayerBirthDate\"]]\n",
    "                test_df[\"BirthY\"] = pd.Series([a[2] for a in arr])\n",
    "            except:\n",
    "                test_df[\"BirthY\"] = [np.nan for i in range(22)]\n",
    "        # elif c == \"PlayerHeight\":\n",
    "        #     try:\n",
    "        #         arr = [float(s.split(\"-\")[0]) * 30.48 + float(s.split(\"-\")[1]) * 2.54\n",
    "        #             for s in list(test_df[\"PlayerHeight\"])]\n",
    "        #         test_df[\"PlayerHeight\"] = pd.Series(arr)\n",
    "        #     except:\n",
    "        #         test_df[\"PlayerHeight\"] = [np.nan for i in range(22)]\n",
    "        elif c in lbl_dict and test_df[c].dtype=='object'and c not in unused_columns\\\n",
    "            and not pd.isnull(test_df[c]).any():\n",
    "            try:\n",
    "                test_df[c] = lbl_dict[c].transform(list(test_df[c].values))\n",
    "            except:\n",
    "                test_df[c] = [np.nan for i in range(22)]\n",
    "    count=0\n",
    "    test_data = np.zeros((1,len(all_columns)))\n",
    "\n",
    "    for c in all_columns:\n",
    "        if c in test_df:\n",
    "            try:\n",
    "                test_data[0][count] = test_df[c][index]\n",
    "            except:\n",
    "                test_data[0][count] = np.nan\n",
    "            count+=1\n",
    "    for c in unique_columns:\n",
    "        for j in range(22):\n",
    "            try:\n",
    "                test_data[0][count] = test_df[c][index + j]\n",
    "            except:\n",
    "                test_data[0][count] = np.nan\n",
    "            count+=1        \n",
    "    y_pred = np.zeros(199)        \n",
    "    y_pred_p = np.sum(np.round(scaler.inverse_transform(\n",
    "        [model.predict(test_data)[0] for model in models])))/folds\n",
    "    y_pred_p += 99\n",
    "    for j in range(199):\n",
    "        if j>=y_pred_p+10:\n",
    "            y_pred[j]=1.0\n",
    "        elif j>=y_pred_p-10:\n",
    "            y_pred[j]=(j+10-y_pred_p)*0.05\n",
    "    env.predict(pd.DataFrame(data=[y_pred],columns=sample_prediction_df.columns))\n",
    "    index += 22\n",
    "env.write_submission_file()"
   ]
  },
  {
   "cell_type": "markdown",
   "metadata": {},
   "source": [
    "The organizers seemed to expect to predict one by one, so I did. \n",
    "However, it seems that it is likely to be faster to predict at once after all the evaluation data is acquired by dummy input.\n",
    "\n",
    "\n",
    "This model is a simple one that has not been tuned, so I think we can still expect a better score.\n",
    "Please let me know if you have any opinions or advice."
   ]
  }
 ],
 "metadata": {
  "kernelspec": {
   "display_name": "Python 3",
   "language": "python",
   "name": "python3"
  },
  "language_info": {
   "codemirror_mode": {
    "name": "ipython",
    "version": 3
   },
   "file_extension": ".py",
   "mimetype": "text/x-python",
   "name": "python",
   "nbconvert_exporter": "python",
   "pygments_lexer": "ipython3",
   "version": "3.6.6"
  }
 },
 "nbformat": 4,
 "nbformat_minor": 1
}
