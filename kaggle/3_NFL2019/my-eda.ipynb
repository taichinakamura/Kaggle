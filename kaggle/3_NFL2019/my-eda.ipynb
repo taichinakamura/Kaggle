{
 "cells": [
  {
   "cell_type": "code",
   "execution_count": 1,
   "metadata": {
    "_cell_guid": "b1076dfc-b9ad-4769-8c92-a6c4dae69d19",
    "_uuid": "8f2839f25d086af736a60e9eeb907d3b93b6e0e5"
   },
   "outputs": [],
   "source": [
    "import os\n",
    "import pandas as pd\n",
    "from kaggle.competitions import nflrush\n",
    "import numpy as np\n",
    "import pandas as pd\n",
    "from sklearn import preprocessing\n",
    "import matplotlib.pyplot as plt\n",
    "import random\n",
    "from sklearn.model_selection import KFold\n",
    "import lightgbm as lgb\n",
    "import gc\n",
    "import pickle\n",
    "import tqdm\n",
    "import category_encoders\n",
    "import seaborn as sns\n",
    "import pandas_profiling as pdp\n",
    "pd.set_option(\"display.max_columns\",1000)"
   ]
  },
  {
   "cell_type": "code",
   "execution_count": 2,
   "metadata": {},
   "outputs": [],
   "source": [
    "# 参考 https://upura.hatenablog.com/entry/2019/01/12/193000\n",
    "# https://www.kaggle.com/jiweiliu/lgb-2-leaves-augment data augmentationを他クラス用に改造する\n",
    "def plot_feature_scatter(df1, df2, features):\n",
    "    i = 0\n",
    "    sns.set_style(\"whitegrid\")\n",
    "    plt.figure()\n",
    "    fig, ax = plt.subplots(4,4, figsize=(14,14))\n",
    "    \n",
    "    for feature in features:\n",
    "        i += 1\n",
    "        plt.subplot(4,4,i)\n",
    "        plt.scatter(df1[feature], df2[feature], marker= \"+\")\n",
    "        plt.xlabel(feature, fontsize=9)\n",
    "    plt.show()\n",
    "    \n",
    "def plot_feature_distribution(df1, df2, label1, label2, features):\n",
    "    i = 0\n",
    "    sns.set_style('whitegrid')\n",
    "    plt.figure()\n",
    "    fig, ax = plt.subplots(5,5,figsize=(18,22))\n",
    "\n",
    "    for feature in features:\n",
    "        i += 1\n",
    "        plt.subplot(5,5,i)\n",
    "        sns.distplot(df1[feature], hist=False,label=label1)\n",
    "        sns.distplot(df2[feature], hist=False,label=label2)\n",
    "        plt.xlabel(feature, fontsize=15)\n",
    "        locs, labels = plt.xticks()\n",
    "        plt.tick_params(axis='x', which='major', labelsize=6, pad=-6)\n",
    "        plt.tick_params(axis='y', which='major', labelsize=6)\n",
    "    plt.show()\n",
    "    \n",
    "def plot_feature(df1, features):\n",
    "    i = 0\n",
    "    sns.set_style('whitegrid')\n",
    "    plt.figure()\n",
    "    fig, ax = plt.subplots(5,5,figsize=(18,22))\n",
    "\n",
    "    for feature in features:\n",
    "        i += 1\n",
    "        plt.subplot(5,5,i)\n",
    "        if \"int\" in str(df1[feature].dtype): # int type variable\n",
    "            sns.distplot(df1[feature], kde=False, hist=True)\n",
    "        else: # float type variable\n",
    "            sns.distplot(df1[feature], hist=False)\n",
    "        #sns.distplot(df1[feature], hist=False)#,label=feature)\n",
    "        plt.xlabel(feature, fontsize=10)\n",
    "        locs, labels = plt.xticks()\n",
    "        plt.tick_params(axis='x', which='major', labelsize=10, pad=-6)\n",
    "        plt.tick_params(axis='y', which='major', labelsize=6)\n",
    "    plt.show()\n",
    "\n",
    "def violinplot_feature_by_class(df1, features, target):\n",
    "    i = 0\n",
    "    sns.set_style('whitegrid')\n",
    "    plt.figure()\n",
    "    fig, ax = plt.subplots(5,5,figsize=(18,22))\n",
    "\n",
    "    for feature in features:\n",
    "        i += 1\n",
    "        plt.subplot(5,5,i)\n",
    "        sns.violinplot(x=target, y=feature, data = df1)\n",
    "        plt.xlabel(feature, fontsize=10)\n",
    "        locs, labels = plt.xticks()\n",
    "        plt.tick_params(axis='x', which='major', labelsize=10, pad=-6)\n",
    "        plt.tick_params(axis='y', which='major', labelsize=10)\n",
    "    plt.show()\n",
    "    \n",
    "def scatterplot_feature_by_class(df1, features):\n",
    "    i = 0\n",
    "    sns.set_style('whitegrid')\n",
    "    plt.figure()\n",
    "    fig, ax = plt.subplots(5,5,figsize=(18,22))\n",
    "\n",
    "    for feature in features:\n",
    "        i += 1\n",
    "        plt.subplot(5,5,i)\n",
    "        plt.scatter(df1[feature], df1[\"Root Cause Function Block\"])\n",
    "        plt.xlabel(feature, fontsize=10)\n",
    "        plt.ylabel(\"Root Cause Function Block\", fontsize=10)\n",
    "        locs, labels = plt.xticks()\n",
    "        plt.tick_params(axis='x', which='major', labelsize=10, pad=-6)\n",
    "        plt.tick_params(axis='y', which='major', labelsize=10)\n",
    "        plt.yticks(np.arange(21))\n",
    "    plt.show()\n",
    "    \n",
    "def scatterplot_highcorr_feature(df1, features, corr_df):\n",
    "    i = 0\n",
    "    sns.set_style('whitegrid')\n",
    "    plt.figure()\n",
    "    fig, ax = plt.subplots(5,5,figsize=(18,22))\n",
    "    for feature in features:\n",
    "        corr_feats = list(corr_df[corr_df[\"level_0\"] == feature][:5][\"level_1\"])\n",
    "        corr_value = list(corr_df[corr_df[\"level_0\"] == feature][:5][\"value\"])\n",
    "\n",
    "        for idx in range(len(corr_feats)):\n",
    "            i += 1\n",
    "            plt.subplot(5,5,i)\n",
    "            plt.scatter(df1[corr_feats[idx]], df1[feature])\n",
    "            plt.xlabel(corr_feats[idx], fontsize=10)\n",
    "            plt.ylabel(feature, fontsize=10)\n",
    "            locs, labels = plt.xticks()\n",
    "            plt.tick_params(axis='x', which='major', labelsize=10, pad=-6)\n",
    "            plt.tick_params(axis='y', which='major', labelsize=10)\n",
    "            plt.title(str(round(corr_value[idx],5)))\n",
    "    plt.show()\n",
    "    \n",
    "def plot_diff_feature(df1, features):\n",
    "    i = 0\n",
    "    sns.set_style('whitegrid')\n",
    "    plt.figure()\n",
    "    #fig, ax = plt.subplots(5,5,figsize=(18,22))\n",
    "    plt.figure(figsize=(15,20))\n",
    "    for j in range(21):\n",
    "        i += 1\n",
    "        plt.subplot(5,5,i)\n",
    "        tmp_df = df1[df1[target_feature]==j]\n",
    "\n",
    "        for feature in features:\n",
    "            sns.distplot(tmp_df[feature], hist=False, label=str(feature))\n",
    "        plt.xlabel(\"class_\"+str(j), fontsize=10)\n",
    "        locs, labels = plt.xticks()\n",
    "        plt.legend(loc=\"upper right\")\n",
    "        plt.tick_params(axis='x', which='major', labelsize=15, pad=-6)\n",
    "        plt.tick_params(axis='y', which='major', labelsize=15)\n",
    "    plt.show()"
   ]
  },
  {
   "cell_type": "code",
   "execution_count": 3,
   "metadata": {
    "_cell_guid": "79c7e3d0-c299-4dcb-8224-4455121ee9b0",
    "_uuid": "d629ff2d2480ee46fbb7e2d37f6b5fab8052498a"
   },
   "outputs": [],
   "source": [
    "env = nflrush.make_env()"
   ]
  },
  {
   "cell_type": "code",
   "execution_count": 4,
   "metadata": {},
   "outputs": [],
   "source": [
    "train_df = pd.read_csv('/kaggle/input/nfl-big-data-bowl-2020/train.csv', low_memory=False)"
   ]
  },
  {
   "cell_type": "code",
   "execution_count": 5,
   "metadata": {},
   "outputs": [
    {
     "data": {
      "text/html": [
       "<div>\n",
       "<style scoped>\n",
       "    .dataframe tbody tr th:only-of-type {\n",
       "        vertical-align: middle;\n",
       "    }\n",
       "\n",
       "    .dataframe tbody tr th {\n",
       "        vertical-align: top;\n",
       "    }\n",
       "\n",
       "    .dataframe thead th {\n",
       "        text-align: right;\n",
       "    }\n",
       "</style>\n",
       "<table border=\"1\" class=\"dataframe\">\n",
       "  <thead>\n",
       "    <tr style=\"text-align: right;\">\n",
       "      <th></th>\n",
       "      <th>GameId</th>\n",
       "      <th>PlayId</th>\n",
       "      <th>Team</th>\n",
       "      <th>X</th>\n",
       "      <th>Y</th>\n",
       "      <th>S</th>\n",
       "      <th>A</th>\n",
       "      <th>Dis</th>\n",
       "      <th>Orientation</th>\n",
       "      <th>Dir</th>\n",
       "      <th>NflId</th>\n",
       "      <th>DisplayName</th>\n",
       "      <th>JerseyNumber</th>\n",
       "      <th>Season</th>\n",
       "      <th>YardLine</th>\n",
       "      <th>Quarter</th>\n",
       "      <th>GameClock</th>\n",
       "      <th>PossessionTeam</th>\n",
       "      <th>Down</th>\n",
       "      <th>Distance</th>\n",
       "      <th>FieldPosition</th>\n",
       "      <th>HomeScoreBeforePlay</th>\n",
       "      <th>VisitorScoreBeforePlay</th>\n",
       "      <th>NflIdRusher</th>\n",
       "      <th>OffenseFormation</th>\n",
       "      <th>OffensePersonnel</th>\n",
       "      <th>DefendersInTheBox</th>\n",
       "      <th>DefensePersonnel</th>\n",
       "      <th>PlayDirection</th>\n",
       "      <th>TimeHandoff</th>\n",
       "      <th>TimeSnap</th>\n",
       "      <th>Yards</th>\n",
       "      <th>PlayerHeight</th>\n",
       "      <th>PlayerWeight</th>\n",
       "      <th>PlayerBirthDate</th>\n",
       "      <th>PlayerCollegeName</th>\n",
       "      <th>Position</th>\n",
       "      <th>HomeTeamAbbr</th>\n",
       "      <th>VisitorTeamAbbr</th>\n",
       "      <th>Week</th>\n",
       "      <th>Stadium</th>\n",
       "      <th>Location</th>\n",
       "      <th>StadiumType</th>\n",
       "      <th>Turf</th>\n",
       "      <th>GameWeather</th>\n",
       "      <th>Temperature</th>\n",
       "      <th>Humidity</th>\n",
       "      <th>WindSpeed</th>\n",
       "      <th>WindDirection</th>\n",
       "    </tr>\n",
       "  </thead>\n",
       "  <tbody>\n",
       "    <tr>\n",
       "      <td>0</td>\n",
       "      <td>2017090700</td>\n",
       "      <td>20170907000118</td>\n",
       "      <td>away</td>\n",
       "      <td>73.91</td>\n",
       "      <td>34.84</td>\n",
       "      <td>1.69</td>\n",
       "      <td>1.13</td>\n",
       "      <td>0.40</td>\n",
       "      <td>81.99</td>\n",
       "      <td>177.18</td>\n",
       "      <td>496723</td>\n",
       "      <td>Eric Berry</td>\n",
       "      <td>29</td>\n",
       "      <td>2017</td>\n",
       "      <td>35</td>\n",
       "      <td>1</td>\n",
       "      <td>14:14:00</td>\n",
       "      <td>NE</td>\n",
       "      <td>3</td>\n",
       "      <td>2</td>\n",
       "      <td>NE</td>\n",
       "      <td>0</td>\n",
       "      <td>0</td>\n",
       "      <td>2543773</td>\n",
       "      <td>SHOTGUN</td>\n",
       "      <td>1 RB, 1 TE, 3 WR</td>\n",
       "      <td>6.0</td>\n",
       "      <td>2 DL, 3 LB, 6 DB</td>\n",
       "      <td>left</td>\n",
       "      <td>2017-09-08T00:44:06.000Z</td>\n",
       "      <td>2017-09-08T00:44:05.000Z</td>\n",
       "      <td>8</td>\n",
       "      <td>6-0</td>\n",
       "      <td>212</td>\n",
       "      <td>12/29/1988</td>\n",
       "      <td>Tennessee</td>\n",
       "      <td>SS</td>\n",
       "      <td>NE</td>\n",
       "      <td>KC</td>\n",
       "      <td>1</td>\n",
       "      <td>Gillette Stadium</td>\n",
       "      <td>Foxborough, MA</td>\n",
       "      <td>Outdoor</td>\n",
       "      <td>Field Turf</td>\n",
       "      <td>Clear and warm</td>\n",
       "      <td>63.0</td>\n",
       "      <td>77.0</td>\n",
       "      <td>8</td>\n",
       "      <td>SW</td>\n",
       "    </tr>\n",
       "    <tr>\n",
       "      <td>1</td>\n",
       "      <td>2017090700</td>\n",
       "      <td>20170907000118</td>\n",
       "      <td>away</td>\n",
       "      <td>74.67</td>\n",
       "      <td>32.64</td>\n",
       "      <td>0.42</td>\n",
       "      <td>1.35</td>\n",
       "      <td>0.01</td>\n",
       "      <td>27.61</td>\n",
       "      <td>198.70</td>\n",
       "      <td>2495116</td>\n",
       "      <td>Allen Bailey</td>\n",
       "      <td>97</td>\n",
       "      <td>2017</td>\n",
       "      <td>35</td>\n",
       "      <td>1</td>\n",
       "      <td>14:14:00</td>\n",
       "      <td>NE</td>\n",
       "      <td>3</td>\n",
       "      <td>2</td>\n",
       "      <td>NE</td>\n",
       "      <td>0</td>\n",
       "      <td>0</td>\n",
       "      <td>2543773</td>\n",
       "      <td>SHOTGUN</td>\n",
       "      <td>1 RB, 1 TE, 3 WR</td>\n",
       "      <td>6.0</td>\n",
       "      <td>2 DL, 3 LB, 6 DB</td>\n",
       "      <td>left</td>\n",
       "      <td>2017-09-08T00:44:06.000Z</td>\n",
       "      <td>2017-09-08T00:44:05.000Z</td>\n",
       "      <td>8</td>\n",
       "      <td>6-3</td>\n",
       "      <td>288</td>\n",
       "      <td>03/25/1989</td>\n",
       "      <td>Miami</td>\n",
       "      <td>DE</td>\n",
       "      <td>NE</td>\n",
       "      <td>KC</td>\n",
       "      <td>1</td>\n",
       "      <td>Gillette Stadium</td>\n",
       "      <td>Foxborough, MA</td>\n",
       "      <td>Outdoor</td>\n",
       "      <td>Field Turf</td>\n",
       "      <td>Clear and warm</td>\n",
       "      <td>63.0</td>\n",
       "      <td>77.0</td>\n",
       "      <td>8</td>\n",
       "      <td>SW</td>\n",
       "    </tr>\n",
       "    <tr>\n",
       "      <td>2</td>\n",
       "      <td>2017090700</td>\n",
       "      <td>20170907000118</td>\n",
       "      <td>away</td>\n",
       "      <td>74.00</td>\n",
       "      <td>33.20</td>\n",
       "      <td>1.22</td>\n",
       "      <td>0.59</td>\n",
       "      <td>0.31</td>\n",
       "      <td>3.01</td>\n",
       "      <td>202.73</td>\n",
       "      <td>2495493</td>\n",
       "      <td>Justin Houston</td>\n",
       "      <td>50</td>\n",
       "      <td>2017</td>\n",
       "      <td>35</td>\n",
       "      <td>1</td>\n",
       "      <td>14:14:00</td>\n",
       "      <td>NE</td>\n",
       "      <td>3</td>\n",
       "      <td>2</td>\n",
       "      <td>NE</td>\n",
       "      <td>0</td>\n",
       "      <td>0</td>\n",
       "      <td>2543773</td>\n",
       "      <td>SHOTGUN</td>\n",
       "      <td>1 RB, 1 TE, 3 WR</td>\n",
       "      <td>6.0</td>\n",
       "      <td>2 DL, 3 LB, 6 DB</td>\n",
       "      <td>left</td>\n",
       "      <td>2017-09-08T00:44:06.000Z</td>\n",
       "      <td>2017-09-08T00:44:05.000Z</td>\n",
       "      <td>8</td>\n",
       "      <td>6-3</td>\n",
       "      <td>270</td>\n",
       "      <td>01/21/1989</td>\n",
       "      <td>Georgia</td>\n",
       "      <td>DE</td>\n",
       "      <td>NE</td>\n",
       "      <td>KC</td>\n",
       "      <td>1</td>\n",
       "      <td>Gillette Stadium</td>\n",
       "      <td>Foxborough, MA</td>\n",
       "      <td>Outdoor</td>\n",
       "      <td>Field Turf</td>\n",
       "      <td>Clear and warm</td>\n",
       "      <td>63.0</td>\n",
       "      <td>77.0</td>\n",
       "      <td>8</td>\n",
       "      <td>SW</td>\n",
       "    </tr>\n",
       "  </tbody>\n",
       "</table>\n",
       "</div>"
      ],
      "text/plain": [
       "       GameId          PlayId  Team      X      Y     S     A   Dis  \\\n",
       "0  2017090700  20170907000118  away  73.91  34.84  1.69  1.13  0.40   \n",
       "1  2017090700  20170907000118  away  74.67  32.64  0.42  1.35  0.01   \n",
       "2  2017090700  20170907000118  away  74.00  33.20  1.22  0.59  0.31   \n",
       "\n",
       "   Orientation     Dir    NflId     DisplayName  JerseyNumber  Season  \\\n",
       "0        81.99  177.18   496723      Eric Berry            29    2017   \n",
       "1        27.61  198.70  2495116    Allen Bailey            97    2017   \n",
       "2         3.01  202.73  2495493  Justin Houston            50    2017   \n",
       "\n",
       "   YardLine  Quarter GameClock PossessionTeam  Down  Distance FieldPosition  \\\n",
       "0        35        1  14:14:00             NE     3         2            NE   \n",
       "1        35        1  14:14:00             NE     3         2            NE   \n",
       "2        35        1  14:14:00             NE     3         2            NE   \n",
       "\n",
       "   HomeScoreBeforePlay  VisitorScoreBeforePlay  NflIdRusher OffenseFormation  \\\n",
       "0                    0                       0      2543773          SHOTGUN   \n",
       "1                    0                       0      2543773          SHOTGUN   \n",
       "2                    0                       0      2543773          SHOTGUN   \n",
       "\n",
       "   OffensePersonnel  DefendersInTheBox  DefensePersonnel PlayDirection  \\\n",
       "0  1 RB, 1 TE, 3 WR                6.0  2 DL, 3 LB, 6 DB          left   \n",
       "1  1 RB, 1 TE, 3 WR                6.0  2 DL, 3 LB, 6 DB          left   \n",
       "2  1 RB, 1 TE, 3 WR                6.0  2 DL, 3 LB, 6 DB          left   \n",
       "\n",
       "                TimeHandoff                  TimeSnap  Yards PlayerHeight  \\\n",
       "0  2017-09-08T00:44:06.000Z  2017-09-08T00:44:05.000Z      8          6-0   \n",
       "1  2017-09-08T00:44:06.000Z  2017-09-08T00:44:05.000Z      8          6-3   \n",
       "2  2017-09-08T00:44:06.000Z  2017-09-08T00:44:05.000Z      8          6-3   \n",
       "\n",
       "   PlayerWeight PlayerBirthDate PlayerCollegeName Position HomeTeamAbbr  \\\n",
       "0           212      12/29/1988         Tennessee       SS           NE   \n",
       "1           288      03/25/1989             Miami       DE           NE   \n",
       "2           270      01/21/1989           Georgia       DE           NE   \n",
       "\n",
       "  VisitorTeamAbbr  Week           Stadium        Location StadiumType  \\\n",
       "0              KC     1  Gillette Stadium  Foxborough, MA     Outdoor   \n",
       "1              KC     1  Gillette Stadium  Foxborough, MA     Outdoor   \n",
       "2              KC     1  Gillette Stadium  Foxborough, MA     Outdoor   \n",
       "\n",
       "         Turf     GameWeather  Temperature  Humidity WindSpeed WindDirection  \n",
       "0  Field Turf  Clear and warm         63.0      77.0         8            SW  \n",
       "1  Field Turf  Clear and warm         63.0      77.0         8            SW  \n",
       "2  Field Turf  Clear and warm         63.0      77.0         8            SW  "
      ]
     },
     "execution_count": 5,
     "metadata": {},
     "output_type": "execute_result"
    }
   ],
   "source": [
    "train_df.head(3)"
   ]
  },
  {
   "cell_type": "code",
   "execution_count": 6,
   "metadata": {},
   "outputs": [
    {
     "name": "stdout",
     "output_type": "stream",
     "text": [
      "<class 'pandas.core.frame.DataFrame'>\n",
      "RangeIndex: 509762 entries, 0 to 509761\n",
      "Data columns (total 49 columns):\n",
      "GameId                    509762 non-null int64\n",
      "PlayId                    509762 non-null int64\n",
      "Team                      509762 non-null object\n",
      "X                         509762 non-null float64\n",
      "Y                         509762 non-null float64\n",
      "S                         509762 non-null float64\n",
      "A                         509762 non-null float64\n",
      "Dis                       509762 non-null float64\n",
      "Orientation               509744 non-null float64\n",
      "Dir                       509748 non-null float64\n",
      "NflId                     509762 non-null int64\n",
      "DisplayName               509762 non-null object\n",
      "JerseyNumber              509762 non-null int64\n",
      "Season                    509762 non-null int64\n",
      "YardLine                  509762 non-null int64\n",
      "Quarter                   509762 non-null int64\n",
      "GameClock                 509762 non-null object\n",
      "PossessionTeam            509762 non-null object\n",
      "Down                      509762 non-null int64\n",
      "Distance                  509762 non-null int64\n",
      "FieldPosition             503338 non-null object\n",
      "HomeScoreBeforePlay       509762 non-null int64\n",
      "VisitorScoreBeforePlay    509762 non-null int64\n",
      "NflIdRusher               509762 non-null int64\n",
      "OffenseFormation          509652 non-null object\n",
      "OffensePersonnel          509762 non-null object\n",
      "DefendersInTheBox         509696 non-null float64\n",
      "DefensePersonnel          509762 non-null object\n",
      "PlayDirection             509762 non-null object\n",
      "TimeHandoff               509762 non-null object\n",
      "TimeSnap                  509762 non-null object\n",
      "Yards                     509762 non-null int64\n",
      "PlayerHeight              509762 non-null object\n",
      "PlayerWeight              509762 non-null int64\n",
      "PlayerBirthDate           509762 non-null object\n",
      "PlayerCollegeName         509762 non-null object\n",
      "Position                  509762 non-null object\n",
      "HomeTeamAbbr              509762 non-null object\n",
      "VisitorTeamAbbr           509762 non-null object\n",
      "Week                      509762 non-null int64\n",
      "Stadium                   509762 non-null object\n",
      "Location                  509762 non-null object\n",
      "StadiumType               476828 non-null object\n",
      "Turf                      509762 non-null object\n",
      "GameWeather               466114 non-null object\n",
      "Temperature               461230 non-null float64\n",
      "Humidity                  503602 non-null float64\n",
      "WindSpeed                 442332 non-null object\n",
      "WindDirection             429528 non-null object\n",
      "dtypes: float64(10), int64(15), object(24)\n",
      "memory usage: 190.6+ MB\n"
     ]
    }
   ],
   "source": [
    "train_df.info()"
   ]
  },
  {
   "cell_type": "markdown",
   "metadata": {},
   "source": [
    "# Data cleaning"
   ]
  },
  {
   "cell_type": "code",
   "execution_count": 7,
   "metadata": {},
   "outputs": [],
   "source": [
    "def strtoseconds(txt):\n",
    "    txt = txt.split(':')\n",
    "    ans = int(txt[0])*60 + int(txt[1]) + int(txt[2])/60\n",
    "    return ans\n",
    "\n",
    "def str_to_float(txt):\n",
    "    try:\n",
    "        return float(txt)\n",
    "    except:\n",
    "        return -1\n",
    "\n",
    "# data cleaning \n",
    "map_abbr = {'ARI': 'ARZ', 'BAL': 'BLT', 'CLE': 'CLV', 'HOU': 'HST'}\n",
    "for abb in train_df['PossessionTeam'].unique():\n",
    "    map_abbr[abb] = abb\n",
    "train_df['PossessionTeam'] = train_df['PossessionTeam'].map(map_abbr)\n",
    "train_df['HomeTeamAbbr'] = train_df['HomeTeamAbbr'].map(map_abbr)\n",
    "train_df['VisitorTeamAbbr'] = train_df['VisitorTeamAbbr'].map(map_abbr)\n",
    "\n",
    "# offense formation\n",
    "train_df[\"OffenseFormation\"] = train_df[\"OffenseFormation\"].fillna(\"Unknown\") \n",
    "\n",
    "# Stadium\n",
    "train_df[\"Stadium\"] = train_df[\"Stadium\"].map(lambda x: \"Broncos Stadium at Mile High\" if x==\"Broncos Stadium At Mile High\" \n",
    "                                             else (\"CenturyLink Field\" if x == \"CenturyField\" or x == x==\"CenturyLink\"\n",
    "                                             else (\"Everbank Field\" if x == \"EverBank Field\"\n",
    "                                             else (\"FirstEnergy Stadium\" if x ==\"First Energy Stadium\" or x==\"FirstEnergy\" or x == \"FirstEnergyStadium\"\n",
    "                                             else (\"Lambeau Field\" if x == \"Lambeau field\"\n",
    "                                             else (\"Los Angeles Memorial Coliseum\" if x == \"Los Angeles Memorial Coliesum\"\n",
    "                                             else (\"M&T Bank Stadium\" if x == \"M & T Bank Stadium\" or x == \"M&T Stadium\"\n",
    "                                             else (\"Mercedes-Benz Superdome\" if x == \"Mercedes-Benz Dome\"\n",
    "                                             else (\"MetLife Stadium\" if x == \"MetLife\" or x == \"Metlife Stadium\"\n",
    "                                             else (\"NRG Stadium\" if x == \"NRG\"\n",
    "                                             else (\"Oakland-Alameda County Coliseum\" if x == \"Oakland Alameda-County Coliseum\"\n",
    "                                             else (\"Paul Brown Stadium\" if x == \"Paul Brown Stdium\"\n",
    "                                             else (\"Twickenham Stadium\" if x == \"Twickenham\" else x)))))))))))))\n",
    "\n",
    "# Location\n",
    "train_df[\"Location\"] = train_df[\"Location\"].map(lambda x: \"Arlington, TX\" if x == \"Arlington, Texas\"\n",
    "                        else (\"Baltimore, MD\" if x == \"Baltimore, Maryland\" or x == \"Baltimore, Md.\"\n",
    "else (\"Charlotte, NC\" if x == \"Charlotte, North Carolina\"\n",
    "                        else (\"Chicago, IL\" if x == \"Chicago. IL\"\n",
    "                        else (\"Cincinnati, OH\" if x == \"Cincinnati, Ohio\"\n",
    "                        else (\"Cleveland, OH\" if x == \"Cleveland\" or x == \"Cleveland Ohio\" or x == \"Cleveland, Ohio\" or x == \"Cleveland,Ohio\"\n",
    "                        else (\"Detroit, MI\" if x == \"Detroit\"\n",
    "                        else (\"East Rutherford, NJ\" if x == \"E. Rutherford, NJ\" or x == \"East Rutherford, N.J.\"\n",
    "                        else (\"Foxborough, MA\" if x == \"Foxborough, Ma\"\n",
    "                        else (\"Houston, TX\" if x == \"Houston, Texas\"\n",
    "                        else (\"Jacksonville, FL\" if x == \"Jacksonville Florida\" or x == \"Jacksonville, Fl\" or x == \"Jacksonville, Florida\"\n",
    "                        else (\"London\" if x == \"London, England\"\n",
    "                        else (\"Los Angeles, CA\" if x == \"Los Angeles, Calif.\"\n",
    "                        else (\"Miami Gardens, FLA\" if x == \"Miami Gardens, Fla.\"\n",
    "                        else (\"New Orleans, LA\" if x == \"New Orleans\" or x == \"New Orleans, La.\"\n",
    "                        else (\"Orchard Park, NY\" if x == \"Orchard Park NY\"\n",
    "                        else (\"Philadelphia, PA\" if x == \"Philadelphia, Pa.\"\n",
    "                        else (\"Pittsburgh, PA\" if x == \"Pittsburgh\"\n",
    "                        else (\"Seattle, WA\" if x == \"Seattle\" else x)))))))))))))))))))\n",
    "\n",
    "# Turf\n",
    "train_df[\"Turf\"] = train_df[\"Turf\"].map(lambda x: \"Artificial\" if x == \"Artifical\"\n",
    "                                       else (\"Field Turf\" if x == \"FieldTurf\" or x == \"Field turf\"\n",
    "                                       else (\"FieldTurf 360\" if x == \"FieldTurf360\"\n",
    "                                       else (\"Natural Grass\" if x == \"natural grass\" or x == \"Naturall Grass\" or x == \"Natural grass\" or x == \"Natural\"\n",
    "                                       else (\"Grass\" if x == \"grass\"\n",
    "                                       else (\"UBU Speed Series-S5-M\" if x == \"UBU Sports Speed S5-M\" else x))))))\n",
    "\n",
    "# Player Height\n",
    "train_df['PlayerHeight'] = train_df['PlayerHeight'].apply(lambda x: 12*int(x.split('-')[0])+int(x.split('-')[1]))\n",
    "\n",
    "# stadium type\n",
    "outdoor =['Outdoor', 'Outdoors', 'Cloudy', 'Heinz Field', 'Outdor', 'Ourdoor', 'Outside', 'Outddors', \n",
    "         'Outdoor Retr Roof-Open', 'Oudoor', 'Bowl']\n",
    "indoor_closed = ['Indoors', 'Indoor', 'Indoor, Roof Closed', 'Indoor, Roof Closed',\n",
    "                   'Retractable Roof', 'Retr. Roof-Closed', 'Retr. Roof - Closed', 'Retr. Roof Closed']\n",
    "indoor_open = ['Indoor, Open Roof', 'Open', 'Retr. Roof-Open', 'Retr. Roof - Open']\n",
    "dome_closed = ['Dome', 'Domed, closed', 'Closed Dome', 'Domed', 'Dome, closed']\n",
    "dome_open = ['Domed, Open', 'Domed, open']\n",
    "\n",
    "train_df['StadiumType'] = train_df['StadiumType'].apply(lambda x: \"outdoor\" if x in outdoor \n",
    "                                                         else (\"indoor closed\" if x in indoor_closed\n",
    "                                                        else (\"indoor open\" if x in indoor_open\n",
    "                                                        else (\"dome_closed\" if x in dome_closed\n",
    "                                                        else (\"dome_open\" if x in dome_open else \"unknown\")))))\n",
    "\n",
    "# Game weather\n",
    "rain = ['Rainy', 'Rain Chance 40%', 'Showers',\n",
    "          'Cloudy with periods of rain, thunder possible. Winds shifting to WNW, 10-20 mph.',\n",
    "          'Scattered Showers', 'Cloudy, Rain', 'Rain shower', 'Light Rain', 'Rain']\n",
    "overcast = ['Cloudy, light snow accumulating 1-3\"', 'Party Cloudy', 'Cloudy, chance of rain',\n",
    "              'Coudy', 'Cloudy, 50% change of rain', 'Rain likely, temps in low 40s.',\n",
    "              'Cloudy and cold', 'Cloudy, fog started developing in 2nd quarter',\n",
    "              'Partly Clouidy', '30% Chance of Rain', 'Mostly Coudy', 'Cloudy and Cool',\n",
    "              'cloudy', 'Partly cloudy', 'Overcast', 'Hazy', 'Mostly cloudy', 'Mostly Cloudy',\n",
    "              'Partly Cloudy', 'Cloudy']\n",
    "clear = ['Partly clear', 'Sunny and clear', 'Sun & clouds', 'Clear and Sunny',\n",
    "           'Sunny and cold', 'Sunny Skies', 'Clear and Cool', 'Clear and sunny',\n",
    "           'Sunny, highs to upper 80s', 'Mostly Sunny Skies', 'Cold',\n",
    "           'Clear and warm', 'Sunny and warm', 'Clear and cold', 'Mostly sunny',\n",
    "           'T: 51; H: 55; W: NW 10 mph', 'Clear Skies', 'Clear skies', 'Partly sunny',\n",
    "           'Fair', 'Partly Sunny', 'Mostly Sunny', 'Clear', 'Sunny']\n",
    "snow = ['Heavy lake effect snow', 'Snow']\n",
    "none = ['N/A Indoor', 'Indoors', 'Indoor', 'N/A (Indoors)', 'Controlled Climate']\n",
    "\n",
    "train_df['GameWeather'] = train_df['GameWeather'].apply(lambda x: \"rain\" if x in rain \n",
    "                                                         else (\"overcast\" if x in overcast\n",
    "                                                        else (\"clear\" if x in clear\n",
    "                                                        else (\"snow\" if x in snow\n",
    "                                                        else (\"indoor\" if x in none else \"unknown\")))))\n",
    "\n",
    "# wind speed\n",
    "train_df['WindSpeed'] = train_df['WindSpeed'].apply(lambda x: x.lower().replace('mph', '').strip() if not pd.isna(x) else x)\n",
    "train_df['WindSpeed'] = train_df['WindSpeed'].apply(lambda x: (int(x.split('-')[0])+int(x.split('-')[1]))/2 if not pd.isna(x) and '-' in x else x)\n",
    "train_df['WindSpeed'] = train_df['WindSpeed'].apply(lambda x: (int(x.split()[0])+int(x.split()[-1]))/2 if not pd.isna(x) and type(x)!=float and 'gusts up to' in x else x)\n",
    "train_df['WindSpeed'] = train_df['WindSpeed'].apply(str_to_float)\n",
    "\n",
    "# wind direction\n",
    "train_df['WindDirection'] = train_df['WindDirection'].apply(lambda x: \"north\" if x == \"N\" or x == \"FROM S\"\n",
    "                                                   else (\"south\" if x == 'S' or x== 'FROM N'\n",
    "                                                   else (\"west\" if x == 'W' or x == 'FROM E'\n",
    "                                                   else (\"east\" if x == 'E' or x == 'FROM W'\n",
    "                                                   else (\"north east\" if x == 'FROM SW' or x == 'FROM SSW' or x == 'FROM WSW'\n",
    "                                                   else (\"north west\" if x == 'FROM SE' or x == 'FROM SSE' or x == 'FROM ESE'\n",
    "                                                   else (\"south east\" if x == 'FROM NW' or x == 'FROM NNW' or x == 'FROM WNW'\n",
    "                                                   else (\"south west\" if x == 'FROM NE' or x == 'FROM NNE' or x == 'FROM ENE'\n",
    "                                                   else (\"north west\" if x == 'NW' or x == 'NORTHWEST'\n",
    "                                                   else (\"north east\" if x == 'NE' or x == 'NORTH EAST'\n",
    "                                                   else (\"south west\" if x == 'SW' or x == 'SOUTHWEST'\n",
    "                                                   else (\"south east\" if x == 'SE' or x == 'SOUTHEAST' else \"unknown\"))))))))))))\n",
    "\n",
    "# create new features\n",
    "train_df['DefendersInTheBox_vs_Distance'] = train_df['DefendersInTheBox'] / train_df['Distance']\n",
    "train_df['IsRusher'] = train_df['NflId'] == train_df['NflIdRusher']\n",
    "train_df[\"Margin\"] = (train_df[\"HomeScoreBeforePlay\"] - train_df[\"VisitorScoreBeforePlay\"]) + 2 * (1 - (train_df[\"PossessionTeam\"] == train_df[\"HomeTeamAbbr\"]).astype(int)) * (train_df[\"VisitorScoreBeforePlay\"] - train_df[\"HomeScoreBeforePlay\"])"
   ]
  },
  {
   "cell_type": "markdown",
   "metadata": {},
   "source": [
    "# analysis"
   ]
  },
  {
   "cell_type": "code",
   "execution_count": 8,
   "metadata": {},
   "outputs": [
    {
     "data": {
      "text/html": [
       "<div>\n",
       "<style scoped>\n",
       "    .dataframe tbody tr th:only-of-type {\n",
       "        vertical-align: middle;\n",
       "    }\n",
       "\n",
       "    .dataframe tbody tr th {\n",
       "        vertical-align: top;\n",
       "    }\n",
       "\n",
       "    .dataframe thead th {\n",
       "        text-align: right;\n",
       "    }\n",
       "</style>\n",
       "<table border=\"1\" class=\"dataframe\">\n",
       "  <thead>\n",
       "    <tr style=\"text-align: right;\">\n",
       "      <th></th>\n",
       "      <th>GameId</th>\n",
       "      <th>PlayId</th>\n",
       "      <th>X</th>\n",
       "      <th>Y</th>\n",
       "      <th>S</th>\n",
       "      <th>A</th>\n",
       "      <th>Dis</th>\n",
       "      <th>Orientation</th>\n",
       "      <th>Dir</th>\n",
       "      <th>NflId</th>\n",
       "      <th>JerseyNumber</th>\n",
       "      <th>Season</th>\n",
       "      <th>YardLine</th>\n",
       "      <th>Quarter</th>\n",
       "      <th>Down</th>\n",
       "      <th>Distance</th>\n",
       "      <th>HomeScoreBeforePlay</th>\n",
       "      <th>VisitorScoreBeforePlay</th>\n",
       "      <th>NflIdRusher</th>\n",
       "      <th>DefendersInTheBox</th>\n",
       "      <th>Yards</th>\n",
       "      <th>PlayerHeight</th>\n",
       "      <th>PlayerWeight</th>\n",
       "      <th>Week</th>\n",
       "      <th>Temperature</th>\n",
       "      <th>Humidity</th>\n",
       "      <th>WindSpeed</th>\n",
       "      <th>DefendersInTheBox_vs_Distance</th>\n",
       "      <th>Margin</th>\n",
       "    </tr>\n",
       "  </thead>\n",
       "  <tbody>\n",
       "    <tr>\n",
       "      <td>count</td>\n",
       "      <td>5.097620e+05</td>\n",
       "      <td>5.097620e+05</td>\n",
       "      <td>509762.000000</td>\n",
       "      <td>509762.000000</td>\n",
       "      <td>509762.000000</td>\n",
       "      <td>509762.000000</td>\n",
       "      <td>509762.000000</td>\n",
       "      <td>509744.000000</td>\n",
       "      <td>509748.000000</td>\n",
       "      <td>5.097620e+05</td>\n",
       "      <td>509762.000000</td>\n",
       "      <td>509762.000000</td>\n",
       "      <td>509762.000000</td>\n",
       "      <td>509762.000000</td>\n",
       "      <td>509762.000000</td>\n",
       "      <td>509762.000000</td>\n",
       "      <td>509762.000000</td>\n",
       "      <td>509762.000000</td>\n",
       "      <td>5.097620e+05</td>\n",
       "      <td>509696.000000</td>\n",
       "      <td>509762.000000</td>\n",
       "      <td>509762.000000</td>\n",
       "      <td>509762.000000</td>\n",
       "      <td>509762.000000</td>\n",
       "      <td>461230.000000</td>\n",
       "      <td>503602.000000</td>\n",
       "      <td>442332.000000</td>\n",
       "      <td>509696.000000</td>\n",
       "      <td>509762.000000</td>\n",
       "    </tr>\n",
       "    <tr>\n",
       "      <td>mean</td>\n",
       "      <td>2.017594e+09</td>\n",
       "      <td>2.017594e+13</td>\n",
       "      <td>60.040304</td>\n",
       "      <td>26.783535</td>\n",
       "      <td>2.591912</td>\n",
       "      <td>1.683176</td>\n",
       "      <td>0.279406</td>\n",
       "      <td>180.247779</td>\n",
       "      <td>179.933859</td>\n",
       "      <td>2.344703e+06</td>\n",
       "      <td>54.187982</td>\n",
       "      <td>2017.486427</td>\n",
       "      <td>28.368737</td>\n",
       "      <td>2.504639</td>\n",
       "      <td>1.520651</td>\n",
       "      <td>8.329248</td>\n",
       "      <td>11.148073</td>\n",
       "      <td>9.501057</td>\n",
       "      <td>2.419204e+06</td>\n",
       "      <td>6.943025</td>\n",
       "      <td>4.212334</td>\n",
       "      <td>74.392777</td>\n",
       "      <td>253.554388</td>\n",
       "      <td>9.096370</td>\n",
       "      <td>60.436442</td>\n",
       "      <td>55.646062</td>\n",
       "      <td>7.388342</td>\n",
       "      <td>1.519602</td>\n",
       "      <td>0.847827</td>\n",
       "    </tr>\n",
       "    <tr>\n",
       "      <td>std</td>\n",
       "      <td>4.997098e+05</td>\n",
       "      <td>4.997098e+09</td>\n",
       "      <td>25.435261</td>\n",
       "      <td>7.238206</td>\n",
       "      <td>1.383601</td>\n",
       "      <td>0.976412</td>\n",
       "      <td>0.145482</td>\n",
       "      <td>104.298330</td>\n",
       "      <td>106.319488</td>\n",
       "      <td>6.418871e+05</td>\n",
       "      <td>28.379359</td>\n",
       "      <td>0.499816</td>\n",
       "      <td>13.010918</td>\n",
       "      <td>1.144105</td>\n",
       "      <td>0.674987</td>\n",
       "      <td>3.795208</td>\n",
       "      <td>10.277098</td>\n",
       "      <td>9.366413</td>\n",
       "      <td>5.357783e+05</td>\n",
       "      <td>0.991130</td>\n",
       "      <td>6.436167</td>\n",
       "      <td>2.602712</td>\n",
       "      <td>48.367386</td>\n",
       "      <td>5.000984</td>\n",
       "      <td>17.570291</td>\n",
       "      <td>25.430976</td>\n",
       "      <td>4.446068</td>\n",
       "      <td>2.021514</td>\n",
       "      <td>10.767393</td>\n",
       "    </tr>\n",
       "    <tr>\n",
       "      <td>min</td>\n",
       "      <td>2.017091e+09</td>\n",
       "      <td>2.017091e+13</td>\n",
       "      <td>0.660000</td>\n",
       "      <td>1.850000</td>\n",
       "      <td>0.000000</td>\n",
       "      <td>0.000000</td>\n",
       "      <td>0.000000</td>\n",
       "      <td>0.000000</td>\n",
       "      <td>0.000000</td>\n",
       "      <td>2.220000e+02</td>\n",
       "      <td>1.000000</td>\n",
       "      <td>2017.000000</td>\n",
       "      <td>1.000000</td>\n",
       "      <td>1.000000</td>\n",
       "      <td>1.000000</td>\n",
       "      <td>1.000000</td>\n",
       "      <td>0.000000</td>\n",
       "      <td>0.000000</td>\n",
       "      <td>2.340000e+02</td>\n",
       "      <td>1.000000</td>\n",
       "      <td>-14.000000</td>\n",
       "      <td>66.000000</td>\n",
       "      <td>153.000000</td>\n",
       "      <td>1.000000</td>\n",
       "      <td>9.000000</td>\n",
       "      <td>0.000000</td>\n",
       "      <td>-1.000000</td>\n",
       "      <td>0.035714</td>\n",
       "      <td>-44.000000</td>\n",
       "    </tr>\n",
       "    <tr>\n",
       "      <td>25%</td>\n",
       "      <td>2.017111e+09</td>\n",
       "      <td>2.017111e+13</td>\n",
       "      <td>39.090000</td>\n",
       "      <td>22.730000</td>\n",
       "      <td>1.500000</td>\n",
       "      <td>0.940000</td>\n",
       "      <td>0.170000</td>\n",
       "      <td>90.630000</td>\n",
       "      <td>89.830000</td>\n",
       "      <td>2.532865e+06</td>\n",
       "      <td>26.000000</td>\n",
       "      <td>2017.000000</td>\n",
       "      <td>20.000000</td>\n",
       "      <td>1.000000</td>\n",
       "      <td>1.000000</td>\n",
       "      <td>6.000000</td>\n",
       "      <td>3.000000</td>\n",
       "      <td>0.000000</td>\n",
       "      <td>2.540011e+06</td>\n",
       "      <td>6.000000</td>\n",
       "      <td>1.000000</td>\n",
       "      <td>72.000000</td>\n",
       "      <td>210.000000</td>\n",
       "      <td>5.000000</td>\n",
       "      <td>48.000000</td>\n",
       "      <td>43.000000</td>\n",
       "      <td>4.000000</td>\n",
       "      <td>0.600000</td>\n",
       "      <td>-5.000000</td>\n",
       "    </tr>\n",
       "    <tr>\n",
       "      <td>50%</td>\n",
       "      <td>2.017123e+09</td>\n",
       "      <td>2.017123e+13</td>\n",
       "      <td>60.290000</td>\n",
       "      <td>26.790000</td>\n",
       "      <td>2.470000</td>\n",
       "      <td>1.540000</td>\n",
       "      <td>0.270000</td>\n",
       "      <td>179.700000</td>\n",
       "      <td>180.090000</td>\n",
       "      <td>2.543765e+06</td>\n",
       "      <td>56.000000</td>\n",
       "      <td>2017.000000</td>\n",
       "      <td>29.000000</td>\n",
       "      <td>3.000000</td>\n",
       "      <td>1.000000</td>\n",
       "      <td>10.000000</td>\n",
       "      <td>9.000000</td>\n",
       "      <td>7.000000</td>\n",
       "      <td>2.552582e+06</td>\n",
       "      <td>7.000000</td>\n",
       "      <td>3.000000</td>\n",
       "      <td>75.000000</td>\n",
       "      <td>245.000000</td>\n",
       "      <td>9.000000</td>\n",
       "      <td>62.000000</td>\n",
       "      <td>59.000000</td>\n",
       "      <td>7.000000</td>\n",
       "      <td>0.700000</td>\n",
       "      <td>0.000000</td>\n",
       "    </tr>\n",
       "    <tr>\n",
       "      <td>75%</td>\n",
       "      <td>2.018110e+09</td>\n",
       "      <td>2.018110e+13</td>\n",
       "      <td>80.970000</td>\n",
       "      <td>30.860000</td>\n",
       "      <td>3.560000</td>\n",
       "      <td>2.290000</td>\n",
       "      <td>0.390000</td>\n",
       "      <td>270.400000</td>\n",
       "      <td>270.190000</td>\n",
       "      <td>2.555343e+06</td>\n",
       "      <td>78.000000</td>\n",
       "      <td>2018.000000</td>\n",
       "      <td>39.000000</td>\n",
       "      <td>4.000000</td>\n",
       "      <td>2.000000</td>\n",
       "      <td>10.000000</td>\n",
       "      <td>17.000000</td>\n",
       "      <td>14.000000</td>\n",
       "      <td>2.557976e+06</td>\n",
       "      <td>8.000000</td>\n",
       "      <td>6.000000</td>\n",
       "      <td>76.000000</td>\n",
       "      <td>305.000000</td>\n",
       "      <td>14.000000</td>\n",
       "      <td>73.000000</td>\n",
       "      <td>71.000000</td>\n",
       "      <td>10.000000</td>\n",
       "      <td>1.166667</td>\n",
       "      <td>7.000000</td>\n",
       "    </tr>\n",
       "    <tr>\n",
       "      <td>max</td>\n",
       "      <td>2.018123e+09</td>\n",
       "      <td>2.018123e+13</td>\n",
       "      <td>116.840000</td>\n",
       "      <td>56.450000</td>\n",
       "      <td>9.410000</td>\n",
       "      <td>14.710000</td>\n",
       "      <td>1.390000</td>\n",
       "      <td>360.000000</td>\n",
       "      <td>360.000000</td>\n",
       "      <td>2.561671e+06</td>\n",
       "      <td>99.000000</td>\n",
       "      <td>2018.000000</td>\n",
       "      <td>50.000000</td>\n",
       "      <td>5.000000</td>\n",
       "      <td>4.000000</td>\n",
       "      <td>40.000000</td>\n",
       "      <td>57.000000</td>\n",
       "      <td>51.000000</td>\n",
       "      <td>2.561468e+06</td>\n",
       "      <td>11.000000</td>\n",
       "      <td>99.000000</td>\n",
       "      <td>81.000000</td>\n",
       "      <td>380.000000</td>\n",
       "      <td>17.000000</td>\n",
       "      <td>97.000000</td>\n",
       "      <td>100.000000</td>\n",
       "      <td>24.000000</td>\n",
       "      <td>11.000000</td>\n",
       "      <td>44.000000</td>\n",
       "    </tr>\n",
       "  </tbody>\n",
       "</table>\n",
       "</div>"
      ],
      "text/plain": [
       "             GameId        PlayId              X              Y  \\\n",
       "count  5.097620e+05  5.097620e+05  509762.000000  509762.000000   \n",
       "mean   2.017594e+09  2.017594e+13      60.040304      26.783535   \n",
       "std    4.997098e+05  4.997098e+09      25.435261       7.238206   \n",
       "min    2.017091e+09  2.017091e+13       0.660000       1.850000   \n",
       "25%    2.017111e+09  2.017111e+13      39.090000      22.730000   \n",
       "50%    2.017123e+09  2.017123e+13      60.290000      26.790000   \n",
       "75%    2.018110e+09  2.018110e+13      80.970000      30.860000   \n",
       "max    2.018123e+09  2.018123e+13     116.840000      56.450000   \n",
       "\n",
       "                   S              A            Dis    Orientation  \\\n",
       "count  509762.000000  509762.000000  509762.000000  509744.000000   \n",
       "mean        2.591912       1.683176       0.279406     180.247779   \n",
       "std         1.383601       0.976412       0.145482     104.298330   \n",
       "min         0.000000       0.000000       0.000000       0.000000   \n",
       "25%         1.500000       0.940000       0.170000      90.630000   \n",
       "50%         2.470000       1.540000       0.270000     179.700000   \n",
       "75%         3.560000       2.290000       0.390000     270.400000   \n",
       "max         9.410000      14.710000       1.390000     360.000000   \n",
       "\n",
       "                 Dir         NflId   JerseyNumber         Season  \\\n",
       "count  509748.000000  5.097620e+05  509762.000000  509762.000000   \n",
       "mean      179.933859  2.344703e+06      54.187982    2017.486427   \n",
       "std       106.319488  6.418871e+05      28.379359       0.499816   \n",
       "min         0.000000  2.220000e+02       1.000000    2017.000000   \n",
       "25%        89.830000  2.532865e+06      26.000000    2017.000000   \n",
       "50%       180.090000  2.543765e+06      56.000000    2017.000000   \n",
       "75%       270.190000  2.555343e+06      78.000000    2018.000000   \n",
       "max       360.000000  2.561671e+06      99.000000    2018.000000   \n",
       "\n",
       "            YardLine        Quarter           Down       Distance  \\\n",
       "count  509762.000000  509762.000000  509762.000000  509762.000000   \n",
       "mean       28.368737       2.504639       1.520651       8.329248   \n",
       "std        13.010918       1.144105       0.674987       3.795208   \n",
       "min         1.000000       1.000000       1.000000       1.000000   \n",
       "25%        20.000000       1.000000       1.000000       6.000000   \n",
       "50%        29.000000       3.000000       1.000000      10.000000   \n",
       "75%        39.000000       4.000000       2.000000      10.000000   \n",
       "max        50.000000       5.000000       4.000000      40.000000   \n",
       "\n",
       "       HomeScoreBeforePlay  VisitorScoreBeforePlay   NflIdRusher  \\\n",
       "count        509762.000000           509762.000000  5.097620e+05   \n",
       "mean             11.148073                9.501057  2.419204e+06   \n",
       "std              10.277098                9.366413  5.357783e+05   \n",
       "min               0.000000                0.000000  2.340000e+02   \n",
       "25%               3.000000                0.000000  2.540011e+06   \n",
       "50%               9.000000                7.000000  2.552582e+06   \n",
       "75%              17.000000               14.000000  2.557976e+06   \n",
       "max              57.000000               51.000000  2.561468e+06   \n",
       "\n",
       "       DefendersInTheBox          Yards   PlayerHeight   PlayerWeight  \\\n",
       "count      509696.000000  509762.000000  509762.000000  509762.000000   \n",
       "mean            6.943025       4.212334      74.392777     253.554388   \n",
       "std             0.991130       6.436167       2.602712      48.367386   \n",
       "min             1.000000     -14.000000      66.000000     153.000000   \n",
       "25%             6.000000       1.000000      72.000000     210.000000   \n",
       "50%             7.000000       3.000000      75.000000     245.000000   \n",
       "75%             8.000000       6.000000      76.000000     305.000000   \n",
       "max            11.000000      99.000000      81.000000     380.000000   \n",
       "\n",
       "                Week    Temperature       Humidity      WindSpeed  \\\n",
       "count  509762.000000  461230.000000  503602.000000  442332.000000   \n",
       "mean        9.096370      60.436442      55.646062       7.388342   \n",
       "std         5.000984      17.570291      25.430976       4.446068   \n",
       "min         1.000000       9.000000       0.000000      -1.000000   \n",
       "25%         5.000000      48.000000      43.000000       4.000000   \n",
       "50%         9.000000      62.000000      59.000000       7.000000   \n",
       "75%        14.000000      73.000000      71.000000      10.000000   \n",
       "max        17.000000      97.000000     100.000000      24.000000   \n",
       "\n",
       "       DefendersInTheBox_vs_Distance         Margin  \n",
       "count                  509696.000000  509762.000000  \n",
       "mean                        1.519602       0.847827  \n",
       "std                         2.021514      10.767393  \n",
       "min                         0.035714     -44.000000  \n",
       "25%                         0.600000      -5.000000  \n",
       "50%                         0.700000       0.000000  \n",
       "75%                         1.166667       7.000000  \n",
       "max                        11.000000      44.000000  "
      ]
     },
     "execution_count": 8,
     "metadata": {},
     "output_type": "execute_result"
    }
   ],
   "source": [
    "train_df.describe()"
   ]
  },
  {
   "cell_type": "code",
   "execution_count": 9,
   "metadata": {},
   "outputs": [
    {
     "data": {
      "text/plain": [
       "Index(['GameId', 'PlayId', 'Team', 'X', 'Y', 'S', 'A', 'Dis', 'Orientation',\n",
       "       'Dir', 'NflId', 'DisplayName', 'JerseyNumber', 'Season', 'YardLine',\n",
       "       'Quarter', 'GameClock', 'PossessionTeam', 'Down', 'Distance',\n",
       "       'FieldPosition', 'HomeScoreBeforePlay', 'VisitorScoreBeforePlay',\n",
       "       'NflIdRusher', 'OffenseFormation', 'OffensePersonnel',\n",
       "       'DefendersInTheBox', 'DefensePersonnel', 'PlayDirection', 'TimeHandoff',\n",
       "       'TimeSnap', 'Yards', 'PlayerHeight', 'PlayerWeight', 'PlayerBirthDate',\n",
       "       'PlayerCollegeName', 'Position', 'HomeTeamAbbr', 'VisitorTeamAbbr',\n",
       "       'Week', 'Stadium', 'Location', 'StadiumType', 'Turf', 'GameWeather',\n",
       "       'Temperature', 'Humidity', 'WindSpeed', 'WindDirection',\n",
       "       'DefendersInTheBox_vs_Distance', 'IsRusher', 'Margin'],\n",
       "      dtype='object')"
      ]
     },
     "execution_count": 9,
     "metadata": {},
     "output_type": "execute_result"
    }
   ],
   "source": [
    "train_df.columns"
   ]
  },
  {
   "cell_type": "markdown",
   "metadata": {},
   "source": [
    "## composition"
   ]
  },
  {
   "cell_type": "code",
   "execution_count": 10,
   "metadata": {},
   "outputs": [
    {
     "name": "stdout",
     "output_type": "stream",
     "text": [
      "std zero features: 0\n"
     ]
    }
   ],
   "source": [
    "# standard deviation\n",
    "std_zero_feature = []\n",
    "for i in [i for i in train_df.columns if train_df[i].dtype != \"object\"]:\n",
    "    if train_df[i].std() == 0:\n",
    "        std_zero_feature.append(i)\n",
    "print(\"std zero features: {}\" .format(len(std_zero_feature))) "
   ]
  },
  {
   "cell_type": "code",
   "execution_count": 11,
   "metadata": {},
   "outputs": [
    {
     "data": {
      "text/plain": [
       "GameId                               0\n",
       "PlayId                               0\n",
       "Team                                 0\n",
       "X                                    0\n",
       "Y                                    0\n",
       "S                                    0\n",
       "A                                    0\n",
       "Dis                                  0\n",
       "Orientation                         18\n",
       "Dir                                 14\n",
       "NflId                                0\n",
       "DisplayName                          0\n",
       "JerseyNumber                         0\n",
       "Season                               0\n",
       "YardLine                             0\n",
       "Quarter                              0\n",
       "GameClock                            0\n",
       "PossessionTeam                       0\n",
       "Down                                 0\n",
       "Distance                             0\n",
       "FieldPosition                     6424\n",
       "HomeScoreBeforePlay                  0\n",
       "VisitorScoreBeforePlay               0\n",
       "NflIdRusher                          0\n",
       "OffenseFormation                     0\n",
       "OffensePersonnel                     0\n",
       "DefendersInTheBox                   66\n",
       "DefensePersonnel                     0\n",
       "PlayDirection                        0\n",
       "TimeHandoff                          0\n",
       "TimeSnap                             0\n",
       "Yards                                0\n",
       "PlayerHeight                         0\n",
       "PlayerWeight                         0\n",
       "PlayerBirthDate                      0\n",
       "PlayerCollegeName                    0\n",
       "Position                             0\n",
       "HomeTeamAbbr                         0\n",
       "VisitorTeamAbbr                      0\n",
       "Week                                 0\n",
       "Stadium                              0\n",
       "Location                             0\n",
       "StadiumType                          0\n",
       "Turf                                 0\n",
       "GameWeather                          0\n",
       "Temperature                      48532\n",
       "Humidity                          6160\n",
       "WindSpeed                        67430\n",
       "WindDirection                        0\n",
       "DefendersInTheBox_vs_Distance       66\n",
       "IsRusher                             0\n",
       "Margin                               0\n",
       "dtype: int64"
      ]
     },
     "execution_count": 11,
     "metadata": {},
     "output_type": "execute_result"
    }
   ],
   "source": [
    "train_df.isnull().sum()"
   ]
  },
  {
   "cell_type": "code",
   "execution_count": 12,
   "metadata": {},
   "outputs": [
    {
     "data": {
      "text/plain": [
       "<matplotlib.axes._subplots.AxesSubplot at 0x7f6bbb353d68>"
      ]
     },
     "execution_count": 12,
     "metadata": {},
     "output_type": "execute_result"
    },
    {
     "data": {
      "image/png": "[encoded data removed]",
      "text/plain": [
       "<Figure size 1440x360 with 1 Axes>"
      ]
     },
     "metadata": {
      "needs_background": "light"
     },
     "output_type": "display_data"
    }
   ],
   "source": [
    "# yards\n",
    "plt.figure(figsize=(20,5))\n",
    "sns.distplot(train_df[\"Yards\"])"
   ]
  },
  {
   "cell_type": "code",
   "execution_count": 13,
   "metadata": {},
   "outputs": [
    {
     "data": {
      "text/plain": [
       "<matplotlib.axes._subplots.AxesSubplot at 0x7f6bbb247e80>"
      ]
     },
     "execution_count": 13,
     "metadata": {},
     "output_type": "execute_result"
    },
    {
     "data": {
      "image/png": "[encoded data removed]",
      "text/plain": [
       "<Figure size 432x288 with 1 Axes>"
      ]
     },
     "metadata": {
      "needs_background": "light"
     },
     "output_type": "display_data"
    }
   ],
   "source": [
    "# orientation\n",
    "tmp_df = train_df[\"Orientation\"].dropna()\n",
    "sns.distplot(tmp_df)"
   ]
  },
  {
   "cell_type": "code",
   "execution_count": 14,
   "metadata": {},
   "outputs": [
    {
     "data": {
      "text/plain": [
       "<matplotlib.collections.PathCollection at 0x7f6bbb0d29b0>"
      ]
     },
     "execution_count": 14,
     "metadata": {},
     "output_type": "execute_result"
    },
    {
     "data": {
      "image/png": "[encoded data removed]",
      "text/plain": [
       "<Figure size 1440x360 with 1 Axes>"
      ]
     },
     "metadata": {
      "needs_background": "light"
     },
     "output_type": "display_data"
    }
   ],
   "source": [
    "# X, Y\n",
    "plt.figure(figsize=(20,5))\n",
    "#train_df.plot.scatter(x='X', y='Y', c='PossessionTeam')\n",
    "plt.scatter(train_df.iloc[0:22][\"X\"], train_df.iloc[0:22][\"Y\"])"
   ]
  },
  {
   "cell_type": "code",
   "execution_count": 15,
   "metadata": {},
   "outputs": [
    {
     "data": {
      "text/plain": [
       "<matplotlib.axes._subplots.AxesSubplot at 0x7f6bbb127c50>"
      ]
     },
     "execution_count": 15,
     "metadata": {},
     "output_type": "execute_result"
    },
    {
     "data": {
      "image/png": "[encoded data removed]",
      "text/plain": [
       "<Figure size 432x288 with 1 Axes>"
      ]
     },
     "metadata": {
      "needs_background": "light"
     },
     "output_type": "display_data"
    }
   ],
   "source": [
    "# S\n",
    "sns.distplot(train_df[train_df.columns[5]])"
   ]
  },
  {
   "cell_type": "code",
   "execution_count": 16,
   "metadata": {},
   "outputs": [
    {
     "data": {
      "text/plain": [
       "<matplotlib.axes._subplots.AxesSubplot at 0x7f6bbafd5208>"
      ]
     },
     "execution_count": 16,
     "metadata": {},
     "output_type": "execute_result"
    },
    {
     "data": {
      "image/png": "[encoded data removed]",
      "text/plain": [
       "<Figure size 432x288 with 1 Axes>"
      ]
     },
     "metadata": {
      "needs_background": "light"
     },
     "output_type": "display_data"
    }
   ],
   "source": [
    "# A\n",
    "sns.distplot(train_df[train_df.columns[6]])"
   ]
  },
  {
   "cell_type": "code",
   "execution_count": 17,
   "metadata": {},
   "outputs": [
    {
     "data": {
      "text/plain": [
       "<matplotlib.axes._subplots.AxesSubplot at 0x7f6bbb1b8d68>"
      ]
     },
     "execution_count": 17,
     "metadata": {},
     "output_type": "execute_result"
    },
    {
     "data": {
      "image/png": "[encoded data removed]",
      "text/plain": [
       "<Figure size 432x288 with 1 Axes>"
      ]
     },
     "metadata": {
      "needs_background": "light"
     },
     "output_type": "display_data"
    }
   ],
   "source": [
    "# Dis\n",
    "sns.distplot(train_df[train_df.columns[7]])"
   ]
  },
  {
   "cell_type": "code",
   "execution_count": 18,
   "metadata": {},
   "outputs": [
    {
     "data": {
      "text/plain": [
       "<matplotlib.axes._subplots.AxesSubplot at 0x7f6bbadb5748>"
      ]
     },
     "execution_count": 18,
     "metadata": {},
     "output_type": "execute_result"
    },
    {
     "data": {
      "image/png": "[encoded data removed]",
      "text/plain": [
       "<Figure size 432x288 with 1 Axes>"
      ]
     },
     "metadata": {
      "needs_background": "light"
     },
     "output_type": "display_data"
    }
   ],
   "source": [
    "# Orientation\n",
    "tmp_df = train_df[train_df.columns[8]].dropna()\n",
    "sns.distplot(tmp_df)"
   ]
  },
  {
   "cell_type": "code",
   "execution_count": 19,
   "metadata": {},
   "outputs": [
    {
     "data": {
      "text/plain": [
       "<matplotlib.axes._subplots.AxesSubplot at 0x7f6bbad6c438>"
      ]
     },
     "execution_count": 19,
     "metadata": {},
     "output_type": "execute_result"
    },
    {
     "data": {
      "image/png": "[encoded data removed]",
      "text/plain": [
       "<Figure size 432x288 with 1 Axes>"
      ]
     },
     "metadata": {
      "needs_background": "light"
     },
     "output_type": "display_data"
    }
   ],
   "source": [
    "# Dir\n",
    "tmp_df = train_df[train_df.columns[9]].dropna()\n",
    "sns.distplot(tmp_df)"
   ]
  },
  {
   "cell_type": "code",
   "execution_count": 20,
   "metadata": {},
   "outputs": [
    {
     "data": {
      "text/plain": [
       "<matplotlib.axes._subplots.AxesSubplot at 0x7f6bbae00a90>"
      ]
     },
     "execution_count": 20,
     "metadata": {},
     "output_type": "execute_result"
    },
    {
     "data": {
      "image/png": "[encoded data removed]",
      "text/plain": [
       "<Figure size 432x288 with 1 Axes>"
      ]
     },
     "metadata": {
      "needs_background": "light"
     },
     "output_type": "display_data"
    }
   ],
   "source": [
    "# nflid →特に使えないと思う\n",
    "tmp_df = train_df[train_df.columns[10]].dropna()\n",
    "sns.distplot(tmp_df)\n",
    "# 次の変数は名前なので対象外"
   ]
  },
  {
   "cell_type": "code",
   "execution_count": 21,
   "metadata": {},
   "outputs": [
    {
     "data": {
      "text/plain": [
       "<matplotlib.axes._subplots.AxesSubplot at 0x7f6bbad3b5c0>"
      ]
     },
     "execution_count": 21,
     "metadata": {},
     "output_type": "execute_result"
    },
    {
     "data": {
      "image/png": "[encoded data removed]",
      "text/plain": [
       "<Figure size 432x288 with 1 Axes>"
      ]
     },
     "metadata": {
      "needs_background": "light"
     },
     "output_type": "display_data"
    }
   ],
   "source": [
    "# Jerseynumber\n",
    "tmp_df = train_df[train_df.columns[12]].dropna()\n",
    "sns.distplot(tmp_df)"
   ]
  },
  {
   "cell_type": "code",
   "execution_count": 22,
   "metadata": {},
   "outputs": [
    {
     "data": {
      "text/plain": [
       "<matplotlib.axes._subplots.AxesSubplot at 0x7f6bba9a95f8>"
      ]
     },
     "execution_count": 22,
     "metadata": {},
     "output_type": "execute_result"
    },
    {
     "data": {
      "image/png": "[encoded data removed]",
      "text/plain": [
       "<Figure size 432x288 with 1 Axes>"
      ]
     },
     "metadata": {
      "needs_background": "light"
     },
     "output_type": "display_data"
    }
   ],
   "source": [
    "# season\n",
    "tmp_df = train_df[train_df.columns[13]].dropna()\n",
    "sns.countplot(tmp_df)"
   ]
  },
  {
   "cell_type": "code",
   "execution_count": 23,
   "metadata": {},
   "outputs": [
    {
     "data": {
      "text/plain": [
       "<matplotlib.axes._subplots.AxesSubplot at 0x7f6bba96c8d0>"
      ]
     },
     "execution_count": 23,
     "metadata": {},
     "output_type": "execute_result"
    },
    {
     "data": {
      "image/png": "[encoded data removed]",
      "text/plain": [
       "<Figure size 432x288 with 1 Axes>"
      ]
     },
     "metadata": {
      "needs_background": "light"
     },
     "output_type": "display_data"
    }
   ],
   "source": [
    "# yardline\n",
    "tmp_df = train_df[train_df.columns[14]].dropna()\n",
    "sns.distplot(tmp_df)"
   ]
  },
  {
   "cell_type": "code",
   "execution_count": 24,
   "metadata": {},
   "outputs": [
    {
     "data": {
      "text/plain": [
       "<matplotlib.axes._subplots.AxesSubplot at 0x7f6bba99c2b0>"
      ]
     },
     "execution_count": 24,
     "metadata": {},
     "output_type": "execute_result"
    },
    {
     "data": {
      "image/png": "[encoded data removed]",
      "text/plain": [
       "<Figure size 432x288 with 1 Axes>"
      ]
     },
     "metadata": {
      "needs_background": "light"
     },
     "output_type": "display_data"
    }
   ],
   "source": [
    "# quarter\n",
    "tmp_df = train_df[train_df.columns[15]].dropna()\n",
    "sns.countplot(tmp_df)"
   ]
  },
  {
   "cell_type": "code",
   "execution_count": 25,
   "metadata": {},
   "outputs": [
    {
     "data": {
      "text/plain": [
       "NE     18700\n",
       "LA     17952\n",
       "BLT    17864\n",
       "NO     17490\n",
       "JAX    17490\n",
       "SEA    17094\n",
       "DAL    16918\n",
       "HST    16764\n",
       "MIN    16742\n",
       "LAC    16698\n",
       "DEN    16654\n",
       "TEN    16544\n",
       "PHI    16478\n",
       "CHI    16368\n",
       "BUF    16214\n",
       "SF     16192\n",
       "IND    16060\n",
       "NYG    15642\n",
       "DET    15554\n",
       "NYJ    15532\n",
       "ATL    15488\n",
       "OAK    15422\n",
       "PIT    15312\n",
       "WAS    15092\n",
       "ARZ    15092\n",
       "KC     14300\n",
       "CIN    14278\n",
       "TB     14212\n",
       "MIA    14168\n",
       "CAR    14146\n",
       "CLV    14102\n",
       "GB     13200\n",
       "Name: PossessionTeam, dtype: int64"
      ]
     },
     "execution_count": 25,
     "metadata": {},
     "output_type": "execute_result"
    }
   ],
   "source": [
    "# Possession team: ボールを持っているチームの名称\n",
    "train_df[train_df.columns[17]].value_counts()"
   ]
  },
  {
   "cell_type": "code",
   "execution_count": 26,
   "metadata": {},
   "outputs": [
    {
     "data": {
      "text/plain": [
       "1    292666\n",
       "2    172986\n",
       "3     39908\n",
       "4      4202\n",
       "Name: Down, dtype: int64"
      ]
     },
     "execution_count": 26,
     "metadata": {},
     "output_type": "execute_result"
    }
   ],
   "source": [
    "# Down\n",
    "train_df[train_df.columns[18]].value_counts()"
   ]
  },
  {
   "cell_type": "code",
   "execution_count": 27,
   "metadata": {},
   "outputs": [
    {
     "data": {
      "text/plain": [
       "MetLife Stadium                        33572\n",
       "Levis Stadium                          17402\n",
       "Gillette Stadium                       17248\n",
       "New Era Field                          17204\n",
       "M&T Bank Stadium                       17094\n",
       "CenturyLink Field                      16962\n",
       "Paul Brown Stadium                     16588\n",
       "Lucas Oil Stadium                      16544\n",
       "Mercedes-Benz Superdome                16412\n",
       "U.S. Bank Stadium                      16170\n",
       "AT&T Stadium                           15950\n",
       "NRG Stadium                            15884\n",
       "Nissan Stadium                         15862\n",
       "FedExField                             15356\n",
       "Soldier Field                          15334\n",
       "Arrowhead Stadium                      15334\n",
       "Lambeau Field                          15312\n",
       "Ford Field                             15246\n",
       "Heinz Field                            14850\n",
       "FirstEnergy Stadium                    14828\n",
       "Raymond James Stadium                  14696\n",
       "Los Angeles Memorial Coliseum          14674\n",
       "StubHub Center                         14630\n",
       "Hard Rock Stadium                      14564\n",
       "Oakland-Alameda County Coliseum        14564\n",
       "Lincoln Financial Field                14476\n",
       "Mercedes-Benz Stadium                  14388\n",
       "Bank of America Stadium                14036\n",
       "State Farm Stadium                      8822\n",
       "Sports Authority Field at Mile High     8536\n",
       "Broncos Stadium at Mile High            7942\n",
       "Everbank Field                          7678\n",
       "University of Phoenix Stadium           7612\n",
       "TIAA Bank Field                         6446\n",
       "Wembley Stadium                         4576\n",
       "Twickenham Stadium                      2068\n",
       "Estadio Azteca                           902\n",
       "Name: Stadium, dtype: int64"
      ]
     },
     "execution_count": 27,
     "metadata": {},
     "output_type": "execute_result"
    }
   ],
   "source": [
    "# Stadium\n",
    "train_df[\"Stadium\"].value_counts()"
   ]
  },
  {
   "cell_type": "code",
   "execution_count": 28,
   "metadata": {},
   "outputs": [
    {
     "data": {
      "text/plain": [
       "East Rutherford, NJ    33572\n",
       "Santa Clara, CA        17402\n",
       "Foxborough, MA         17248\n",
       "Orchard Park, NY       17204\n",
       "Baltimore, MD          17094\n",
       "Seattle, WA            16962\n",
       "Cincinnati, OH         16588\n",
       "Indianapolis, Ind.     16544\n",
       "Denver, CO             16478\n",
       "Glendale, AZ           16434\n",
       "Minneapolis, MN        16170\n",
       "Arlington, TX          15950\n",
       "Houston, TX            15884\n",
       "Nashville, TN          15862\n",
       "New Orleans, LA        15554\n",
       "Landover, MD           15356\n",
       "Chicago, IL            15334\n",
       "Green Bay, WI          15312\n",
       "Detroit, MI            15246\n",
       "Atlanta, GA            15246\n",
       "Pittsburgh, PA         14850\n",
       "Cleveland, OH          14828\n",
       "Tampa, FL              14696\n",
       "Los Angeles, CA        14674\n",
       "Carson, CA             14630\n",
       "Oakland, CA            14564\n",
       "Miami Gardens, FLA     14564\n",
       "Philadelphia, PA       14476\n",
       "Kansas City, MO        14190\n",
       "Jacksonville, FL       14124\n",
       "Charlotte, NC          14036\n",
       "London                  6644\n",
       "Kansas City,  MO        1144\n",
       "Mexico City              902\n",
       "Name: Location, dtype: int64"
      ]
     },
     "execution_count": 28,
     "metadata": {},
     "output_type": "execute_result"
    }
   ],
   "source": [
    "# Stadium\n",
    "train_df[\"Location\"].value_counts()"
   ]
  },
  {
   "cell_type": "code",
   "execution_count": 29,
   "metadata": {},
   "outputs": [
    {
     "data": {
      "text/plain": [
       "unknown       321068\n",
       "north east     30250\n",
       "north west     27236\n",
       "south west     25828\n",
       "south east     25784\n",
       "north          23188\n",
       "west           22198\n",
       "south          21384\n",
       "east           12826\n",
       "Name: WindDirection, dtype: int64"
      ]
     },
     "execution_count": 29,
     "metadata": {},
     "output_type": "execute_result"
    }
   ],
   "source": [
    "# WindDirection\n",
    "train_df[\"WindDirection\"].value_counts()"
   ]
  },
  {
   "cell_type": "code",
   "execution_count": 30,
   "metadata": {},
   "outputs": [
    {
     "data": {
      "text/plain": [
       " 5.0     53284\n",
       " 6.0     42614\n",
       " 7.0     40678\n",
       " 4.0     35486\n",
       " 10.0    31592\n",
       " 9.0     31328\n",
       " 8.0     29370\n",
       " 3.0     26862\n",
       " 12.0    24552\n",
       " 2.0     24112\n",
       " 11.0    17116\n",
       " 15.0    15026\n",
       " 0.0     13772\n",
       " 1.0     12078\n",
       " 13.0    10208\n",
       " 16.0     9878\n",
       " 14.0     6820\n",
       " 17.0     4928\n",
       "-1.0      4202\n",
       " 18.0     1980\n",
       " 20.0     1848\n",
       " 23.0     1166\n",
       " 24.0      968\n",
       " 18.5      968\n",
       " 22.0      836\n",
       " 19.0      660\n",
       "Name: WindSpeed, dtype: int64"
      ]
     },
     "execution_count": 30,
     "metadata": {},
     "output_type": "execute_result"
    }
   ],
   "source": [
    "# WindSpeed\n",
    "train_df[\"WindSpeed\"].value_counts()"
   ]
  },
  {
   "cell_type": "code",
   "execution_count": 31,
   "metadata": {},
   "outputs": [
    {
     "data": {
      "text/plain": [
       "<matplotlib.axes._subplots.AxesSubplot at 0x7f6bb9d7c9e8>"
      ]
     },
     "execution_count": 31,
     "metadata": {},
     "output_type": "execute_result"
    },
    {
     "data": {
      "image/png": "[encoded data removed]",
      "text/plain": [
       "<Figure size 432x288 with 1 Axes>"
      ]
     },
     "metadata": {
      "needs_background": "light"
     },
     "output_type": "display_data"
    }
   ],
   "source": [
    "# temperature\n",
    "tmp_df = train_df[\"Temperature\"].dropna()\n",
    "sns.distplot(tmp_df)"
   ]
  },
  {
   "cell_type": "code",
   "execution_count": 32,
   "metadata": {},
   "outputs": [
    {
     "data": {
      "text/plain": [
       "<matplotlib.axes._subplots.AxesSubplot at 0x7f6bb9c54630>"
      ]
     },
     "execution_count": 32,
     "metadata": {},
     "output_type": "execute_result"
    },
    {
     "data": {
      "image/png": "[encoded data removed]",
      "text/plain": [
       "<Figure size 432x288 with 1 Axes>"
      ]
     },
     "metadata": {
      "needs_background": "light"
     },
     "output_type": "display_data"
    }
   ],
   "source": [
    "# humidity\n",
    "tmp_df = train_df[\"Humidity\"].dropna()\n",
    "sns.distplot(tmp_df)"
   ]
  },
  {
   "cell_type": "code",
   "execution_count": null,
   "metadata": {},
   "outputs": [],
   "source": []
  },
  {
   "cell_type": "code",
   "execution_count": null,
   "metadata": {},
   "outputs": [],
   "source": []
  }
 ],
 "metadata": {
  "kernelspec": {
   "display_name": "Python 3",
   "language": "python",
   "name": "python3"
  },
  "language_info": {
   "codemirror_mode": {
    "name": "ipython",
    "version": 3
   },
   "file_extension": ".py",
   "mimetype": "text/x-python",
   "name": "python",
   "nbconvert_exporter": "python",
   "pygments_lexer": "ipython3",
   "version": "3.6.6"
  }
 },
 "nbformat": 4,
 "nbformat_minor": 1
}
