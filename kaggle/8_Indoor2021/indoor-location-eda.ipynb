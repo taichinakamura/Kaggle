{
 "cells": [
  {
   "cell_type": "code",
   "execution_count": 1,
   "metadata": {
    "_cell_guid": "b1076dfc-b9ad-4769-8c92-a6c4dae69d19",
    "_uuid": "8f2839f25d086af736a60e9eeb907d3b93b6e0e5",
    "execution": {
     "iopub.execute_input": "2021-03-04T12:10:24.984082Z",
     "iopub.status.busy": "2021-03-04T12:10:24.983084Z",
     "iopub.status.idle": "2021-03-04T12:10:25.852603Z",
     "shell.execute_reply": "2021-03-04T12:10:25.853188Z"
    },
    "papermill": {
     "duration": 0.886919,
     "end_time": "2021-03-04T12:10:25.853515",
     "exception": false,
     "start_time": "2021-03-04T12:10:24.966596",
     "status": "completed"
    },
    "tags": []
   },
   "outputs": [],
   "source": [
    "# This Python 3 environment comes with many helpful analytics libraries installed\n",
    "# It is defined by the kaggle/python Docker image: https://github.com/kaggle/docker-python\n",
    "# For example, here's several helpful packages to load\n",
    "\n",
    "import numpy as np # linear algebra\n",
    "import pandas as pd # data processing, CSV file I/O (e.g. pd.read_csv)\n",
    "import matplotlib.pyplot as plt\n",
    "import json\n",
    "from tqdm.notebook import tqdm\n",
    "from pathlib import Path\n",
    "from dataclasses import dataclass\n",
    "# Input data files are available in the read-only \"../input/\" directory\n",
    "# For example, running this (by clicking run or pressing Shift+Enter) will list all files under the input directory\n",
    "\n",
    "import os\n",
    "import seaborn as sns\n",
    "#for dirname, _, filenames in os.walk('/kaggle/input'):\n",
    "#    for filename in filenames:\n",
    "#        print(os.path.join(dirname, filename))\n",
    "\n",
    "# You can write up to 20GB to the current directory (/kaggle/working/) that gets preserved as output when you create a version using \"Save & Run All\" \n",
    "# You can also write temporary files to /kaggle/temp/, but they won't be saved outside of the current session"
   ]
  },
  {
   "cell_type": "code",
   "execution_count": 2,
   "metadata": {
    "execution": {
     "iopub.execute_input": "2021-03-04T12:10:25.877244Z",
     "iopub.status.busy": "2021-03-04T12:10:25.876174Z",
     "iopub.status.idle": "2021-03-04T12:10:25.886551Z",
     "shell.execute_reply": "2021-03-04T12:10:25.886018Z"
    },
    "papermill": {
     "duration": 0.022569,
     "end_time": "2021-03-04T12:10:25.886696",
     "exception": false,
     "start_time": "2021-03-04T12:10:25.864127",
     "status": "completed"
    },
    "tags": []
   },
   "outputs": [
    {
     "data": {
      "text/plain": [
       "['metadata', 'sample_submission.csv', 'test', 'train']"
      ]
     },
     "execution_count": 2,
     "metadata": {},
     "output_type": "execute_result"
    }
   ],
   "source": [
    "dataset_path = Path('../input/indoor-location-navigation')\n",
    "os.listdir(dataset_path)"
   ]
  },
  {
   "cell_type": "markdown",
   "metadata": {
    "papermill": {
     "duration": 0.009302,
     "end_time": "2021-03-04T12:10:25.905744",
     "exception": false,
     "start_time": "2021-03-04T12:10:25.896442",
     "status": "completed"
    },
    "tags": []
   },
   "source": [
    "# train data"
   ]
  },
  {
   "cell_type": "code",
   "execution_count": 3,
   "metadata": {
    "execution": {
     "iopub.execute_input": "2021-03-04T12:10:25.930331Z",
     "iopub.status.busy": "2021-03-04T12:10:25.929650Z",
     "iopub.status.idle": "2021-03-04T12:10:25.953033Z",
     "shell.execute_reply": "2021-03-04T12:10:25.953530Z"
    },
    "papermill": {
     "duration": 0.03843,
     "end_time": "2021-03-04T12:10:25.953718",
     "exception": false,
     "start_time": "2021-03-04T12:10:25.915288",
     "status": "completed"
    },
    "tags": []
   },
   "outputs": [
    {
     "name": "stdout",
     "output_type": "stream",
     "text": [
      "unique training site:  204\n"
     ]
    }
   ],
   "source": [
    "train_sites = os.listdir(dataset_path/\"train\")\n",
    "print(\"unique training site: \", len(set(train_sites)))"
   ]
  },
  {
   "cell_type": "code",
   "execution_count": 4,
   "metadata": {
    "execution": {
     "iopub.execute_input": "2021-03-04T12:10:25.979270Z",
     "iopub.status.busy": "2021-03-04T12:10:25.978603Z",
     "iopub.status.idle": "2021-03-04T12:10:25.986127Z",
     "shell.execute_reply": "2021-03-04T12:10:25.986638Z"
    },
    "papermill": {
     "duration": 0.022926,
     "end_time": "2021-03-04T12:10:25.986811",
     "exception": false,
     "start_time": "2021-03-04T12:10:25.963885",
     "status": "completed"
    },
    "tags": []
   },
   "outputs": [
    {
     "name": "stdout",
     "output_type": "stream",
     "text": [
      "Floors for example site: 5cd969b639e2fc0b4afe6db1\n",
      "['B1', 'F1', 'F4', 'F3', 'F2']\n"
     ]
    }
   ],
   "source": [
    "example_site = os.listdir(dataset_path/\"train\")[10]\n",
    "example_site_path = dataset_path/\"train\"/example_site\n",
    "print('Floors for example site:', example_site)\n",
    "print(os.listdir(example_site_path))"
   ]
  },
  {
   "cell_type": "code",
   "execution_count": 5,
   "metadata": {
    "execution": {
     "iopub.execute_input": "2021-03-04T12:10:26.013159Z",
     "iopub.status.busy": "2021-03-04T12:10:26.012386Z",
     "iopub.status.idle": "2021-03-04T12:10:26.031386Z",
     "shell.execute_reply": "2021-03-04T12:10:26.030793Z"
    },
    "papermill": {
     "duration": 0.034185,
     "end_time": "2021-03-04T12:10:26.031544",
     "exception": false,
     "start_time": "2021-03-04T12:10:25.997359",
     "status": "completed"
    },
    "tags": []
   },
   "outputs": [
    {
     "name": "stdout",
     "output_type": "stream",
     "text": [
      "Path text files for example floor:\n",
      "B1 ['5d08da465ded320009ea9cf4.txt']\n",
      "F1 ['5d08ceb8b1253b0008b9765c.txt']\n",
      "F4 ['5d08d531b1253b0008b97680.txt']\n",
      "F3 ['5d08d3485ded320009ea9ce3.txt']\n",
      "F2 ['5d08d0b45ded320009ea9cd5.txt']\n"
     ]
    }
   ],
   "source": [
    "print('Path text files for example floor:')\n",
    "for i in os.listdir(example_site_path):\n",
    "    print(i, os.listdir(example_site_path/i))"
   ]
  },
  {
   "cell_type": "code",
   "execution_count": 6,
   "metadata": {
    "execution": {
     "iopub.execute_input": "2021-03-04T12:10:26.056389Z",
     "iopub.status.busy": "2021-03-04T12:10:26.055769Z",
     "iopub.status.idle": "2021-03-04T12:10:30.395613Z",
     "shell.execute_reply": "2021-03-04T12:10:30.394932Z"
    },
    "papermill": {
     "duration": 4.353268,
     "end_time": "2021-03-04T12:10:30.395760",
     "exception": false,
     "start_time": "2021-03-04T12:10:26.042492",
     "status": "completed"
    },
    "tags": []
   },
   "outputs": [],
   "source": [
    "text_nums = []\n",
    "for site in os.listdir(dataset_path/\"train\"):\n",
    "    for floor in os.listdir(dataset_path/\"train\"/site):\n",
    "        text_nums.append(len(os.listdir(dataset_path/\"train\"/site/floor)))"
   ]
  },
  {
   "cell_type": "code",
   "execution_count": 7,
   "metadata": {
    "execution": {
     "iopub.execute_input": "2021-03-04T12:10:30.423974Z",
     "iopub.status.busy": "2021-03-04T12:10:30.423209Z",
     "iopub.status.idle": "2021-03-04T12:10:30.731872Z",
     "shell.execute_reply": "2021-03-04T12:10:30.731202Z"
    },
    "papermill": {
     "duration": 0.324282,
     "end_time": "2021-03-04T12:10:30.732033",
     "exception": false,
     "start_time": "2021-03-04T12:10:30.407751",
     "status": "completed"
    },
    "tags": []
   },
   "outputs": [
    {
     "name": "stderr",
     "output_type": "stream",
     "text": [
      "/opt/conda/lib/python3.7/site-packages/seaborn/distributions.py:2557: FutureWarning: `distplot` is a deprecated function and will be removed in a future version. Please adapt your code to use either `displot` (a figure-level function with similar flexibility) or `histplot` (an axes-level function for histograms).\n",
      "  warnings.warn(msg, FutureWarning)\n"
     ]
    },
    {
     "data": {
      "text/plain": [
       "<AxesSubplot:ylabel='Density'>"
      ]
     },
     "execution_count": 7,
     "metadata": {},
     "output_type": "execute_result"
    },
    {
     "data": {
      "image/png": "[encoded data removed]",
      "text/plain": [
       "<Figure size 432x288 with 1 Axes>"
      ]
     },
     "metadata": {
      "needs_background": "light"
     },
     "output_type": "display_data"
    }
   ],
   "source": [
    "# あるsiteのあるfloorごとにどれだけのファイルがあるか。かなり偏りがある\n",
    "sns.distplot(text_nums)"
   ]
  },
  {
   "cell_type": "code",
   "execution_count": 8,
   "metadata": {
    "execution": {
     "iopub.execute_input": "2021-03-04T12:10:30.763503Z",
     "iopub.status.busy": "2021-03-04T12:10:30.762678Z",
     "iopub.status.idle": "2021-03-04T12:10:30.884499Z",
     "shell.execute_reply": "2021-03-04T12:10:30.883738Z"
    },
    "papermill": {
     "duration": 0.139914,
     "end_time": "2021-03-04T12:10:30.884682",
     "exception": false,
     "start_time": "2021-03-04T12:10:30.744768",
     "status": "completed"
    },
    "tags": []
   },
   "outputs": [
    {
     "name": "stdout",
     "output_type": "stream",
     "text": [
      "There are a total of 981 floors. On average, each site has 4.8088235294117645 floors\n"
     ]
    }
   ],
   "source": [
    "floors_per_site = []\n",
    "for i in os.listdir(dataset_path/\"train\"): \n",
    "    floors_per_site.append(len(os.listdir(dataset_path/\"train\"/i)))\n",
    "print(f'There are a total of {sum(floors_per_site)} floors. On average, each site has {np.mean(floors_per_site)} floors')"
   ]
  },
  {
   "cell_type": "code",
   "execution_count": 9,
   "metadata": {
    "execution": {
     "iopub.execute_input": "2021-03-04T12:10:31.003090Z",
     "iopub.status.busy": "2021-03-04T12:10:30.920754Z",
     "iopub.status.idle": "2021-03-04T12:10:31.195483Z",
     "shell.execute_reply": "2021-03-04T12:10:31.194892Z"
    },
    "papermill": {
     "duration": 0.297476,
     "end_time": "2021-03-04T12:10:31.195630",
     "exception": false,
     "start_time": "2021-03-04T12:10:30.898154",
     "status": "completed"
    },
    "tags": []
   },
   "outputs": [
    {
     "name": "stderr",
     "output_type": "stream",
     "text": [
      "/opt/conda/lib/python3.7/site-packages/seaborn/distributions.py:2557: FutureWarning: `distplot` is a deprecated function and will be removed in a future version. Please adapt your code to use either `displot` (a figure-level function with similar flexibility) or `histplot` (an axes-level function for histograms).\n",
      "  warnings.warn(msg, FutureWarning)\n"
     ]
    },
    {
     "data": {
      "text/plain": [
       "<AxesSubplot:ylabel='Density'>"
      ]
     },
     "execution_count": 9,
     "metadata": {},
     "output_type": "execute_result"
    },
    {
     "data": {
      "image/png": "[encoded data removed]",
      "text/plain": [
       "<Figure size 432x288 with 1 Axes>"
      ]
     },
     "metadata": {
      "needs_background": "light"
     },
     "output_type": "display_data"
    }
   ],
   "source": [
    "sns.distplot(floors_per_site)"
   ]
  },
  {
   "cell_type": "markdown",
   "metadata": {
    "papermill": {
     "duration": 0.014675,
     "end_time": "2021-03-04T12:10:31.225413",
     "exception": false,
     "start_time": "2021-03-04T12:10:31.210738",
     "status": "completed"
    },
    "tags": []
   },
   "source": [
    "# test data"
   ]
  },
  {
   "cell_type": "code",
   "execution_count": 10,
   "metadata": {
    "execution": {
     "iopub.execute_input": "2021-03-04T12:10:31.260473Z",
     "iopub.status.busy": "2021-03-04T12:10:31.259730Z",
     "iopub.status.idle": "2021-03-04T12:10:31.321042Z",
     "shell.execute_reply": "2021-03-04T12:10:31.320361Z"
    },
    "papermill": {
     "duration": 0.080925,
     "end_time": "2021-03-04T12:10:31.321193",
     "exception": false,
     "start_time": "2021-03-04T12:10:31.240268",
     "status": "completed"
    },
    "tags": []
   },
   "outputs": [
    {
     "name": "stdout",
     "output_type": "stream",
     "text": [
      "unique test site:  626\n"
     ]
    }
   ],
   "source": [
    "test_sites = os.listdir(dataset_path/\"test\")\n",
    "print(\"unique test site: \", len(set(test_sites)))"
   ]
  },
  {
   "cell_type": "code",
   "execution_count": 11,
   "metadata": {
    "execution": {
     "iopub.execute_input": "2021-03-04T12:10:31.359964Z",
     "iopub.status.busy": "2021-03-04T12:10:31.358928Z",
     "iopub.status.idle": "2021-03-04T12:10:31.394143Z",
     "shell.execute_reply": "2021-03-04T12:10:31.393443Z"
    },
    "papermill": {
     "duration": 0.055981,
     "end_time": "2021-03-04T12:10:31.394302",
     "exception": false,
     "start_time": "2021-03-04T12:10:31.338321",
     "status": "completed"
    },
    "tags": []
   },
   "outputs": [
    {
     "name": "stdout",
     "output_type": "stream",
     "text": [
      "Floors for example site: f0d402a465655bfc8ab41242.txt\n",
      "52ad8c760ff9978d0949deed.txt fd4eee038c0ad7f0179e337e.txt 5694e13f4bb0bac39806b5ae.txt 7d3f0c002431353bc0a54eeb.txt e8ed3f22ef83d9515ce36e8f.txt 19bf3d9c5236d0f7429baa6a.txt f971e55da42b78e4d7a628e8.txt 7efc4326b753c9133e0b908e.txt 35b801b06a7816dc8a77080c.txt 4aaa69d3ff7e13ed5e824aa2.txt f0d402a465655bfc8ab41242.txt ad97a5e58725339a560c381e.txt dc78498813d06eff01a96320.txt 05d052dde78384b0c543d89c.txt 6085d88383432829bafe3147.txt 8545d8808a11f6b48d112310.txt 3506b3b626f494b0f0b934ca.txt 6913609ad03d8092c8b5b822.txt 8d64c2a46bc9b91426969ef6.txt f31f1f8ec42e10d23cb54ec4.txt 3e61e72b06bc6f787d9b176f.txt 1e85728385bc83e6bb650798.txt 723900eb4d292e35981c3012.txt 2ae8bd41bbf2eb78d76d737d.txt 446d199192f9d69464b77ffd.txt cc23760c1abbefee0791b1f2.txt 4ff5b9152353b3dc458992fa.txt a25a8d841f9dcb508c5ee363.txt 5582270fcaee1f580de9006f.txt b82e65dde03a9ff7b676fd37.txt 6913691fa6371ba1be81276e.txt 75703a1e62aa93e8c56de7aa.txt 4d4315146c8acfc8f7a20550.txt a4609e6c40ba7c527c8c5da2.txt 6b598c55272851a4185d23aa.txt 9d89ba9627651adaa7fbf78f.txt 472be94f5be907c04c932114.txt 47b83323569055e31d15a469.txt dbc3537c9913889864ebe0c1.txt 6ab9bfd01e48a4efe981c6b0.txt 7d2d723a30cce824aad9915b.txt 5df63c6ddcddaa958e520ea5.txt f7ac4e6a8689647696b64804.txt 3c0ebe929de57c5b1fc65d44.txt 5697db90a6c6bcb3e838a2b9.txt 9432b20a613c4c0a40993531.txt 85a41fe1d8c529c033810499.txt 83ae65e7f2059dae6c015ab5.txt f8a2489aa99b08ffddc115ec.txt eb4de03a42f451c11ffec60c.txt 1d811352eaf5a17cf918d3dd.txt 2658f7f85981f264dd9657f0.txt d95450e3be51a1d7d284a29b.txt ea18b971347e2ce438bf4557.txt b406c5c925f3b64d8972b2c0.txt b2c1f3b0b84bae349a85a76f.txt fd76cacb0312c4bd96701f09.txt 99ea88fcd02f1d7cb4d141bf.txt 4e7665b783a3113c7e73cb94.txt 74e1f3f41374ba181468248d.txt 39cd26c8eec1b8a14a561b28.txt ed240a8a5738be91c3743e7f.txt 19e4a759bff01332b4216bda.txt 950c991710b1054f4cd03133.txt afd41e65cb00646768654b9c.txt 4dcb3e9d10defbea8e8007c2.txt b51a662297b90657f0b03b44.txt a5e437e7708788a70e8bc8ec.txt c93b48c40c3f32e200619f99.txt b7deb644d3ec40fb81cad6e2.txt 3fc0e68775cde4a5fce6cf2d.txt 5a0cd5dec226a90c3818ec03.txt 4b8d3aff14914537854587c1.txt 04029880763600640a0cf42c.txt ee89473de9b2774fd7d8f029.txt 7a4c5c74672a27ba94eb9b66.txt 4690d48f649624bdf8a09b1b.txt ea777463a91a1293fc79fc52.txt 6dcb3e845f3cab94ca55a790.txt 046cfa46be49fc10834815c6.txt 309c38eba30007e666cf7fd0.txt ee40c6e25fe024d5da451909.txt c694a61c01738864eacd4d5e.txt e8bf0626e27589d807a9751d.txt 673bee9ae2df0a2d44d178ec.txt 41451a862cca51c9df6bf152.txt 2a39636327b1f42f80bb08cd.txt 6883b003fd96496e062c6ee1.txt 5243b058c6691779fae7da2c.txt 2bf1ea3f5895fbdadd5b4a74.txt ac83e97550ad3e7396fb618b.txt c26b88f19f04117b7e4dd747.txt 3bc2ad10daefe7fc6e57bdca.txt e1c113233943f6191b64441c.txt c7ace6aca412926c8c25155e.txt a424b6ad3de377df7c9e8958.txt a403d556f6ebc1343e0b27ee.txt 728aef201c2b68acc370b7f8.txt 47a960ef9f70f0b662d9d244.txt 7603ac27c8a6723a333e9fb8.txt 949b5f7dd5469b2b7c4d57b4.txt dd4cbd69218f610f27cf33c8.txt 4d51d8913e1c785e0a1dddef.txt 167fd824f8c93490e4714032.txt 7264eeec0a8d8aa61e51cd5f.txt 7316acadafc00dbfdb47ca10.txt df4798f4f3b3c5c510e237ad.txt 330b81185e5f5c5513ae7d2f.txt 8edbfe4ea14f5b8fe8f47f15.txt 8c4e95647f1f1277f434babc.txt dc5f905014579b7fb857d2f0.txt f7e3f9a90a270fed8f32b3b7.txt 500913fc93d997b6803dd6df.txt 0d4d75060f346ce93d416d01.txt 3e0aebb66ef39150bbc27c24.txt 05a6d4cdf3d1eb9b5671f71b.txt 085e9207300765e045a942bf.txt 2379a535c2221d54e8caf6ff.txt c32f4436326c9589169be1dd.txt b781698c482098426072d432.txt 5727f10c5188b327a5a6a93e.txt b37fa5dff7ba5b417031990d.txt c1bee305c2d4212c18c91e4e.txt 18ab7e85351d03d1cd691a73.txt 7e1432b1a371d5d3e8ae34d3.txt 36c6dd1ccc482e94fa21830c.txt 8febc00382b315a208c3d9eb.txt 4f66cef6a69aaf88468f7ab7.txt a7e5d323e7ba3df29a4bb918.txt 40268946c8060c91109a58b7.txt a0c05d232b01247a9ba48be0.txt 861c09b1c67351e92708f91f.txt 3aac7e63e395fe2902ce9bd9.txt 50dfc9af184b9f9e05ef1ae2.txt c2ae6f835a79f6fd53600449.txt 270a66500675e14fb3154c63.txt 833d0a5609a088d7c15d2031.txt c49c72f7f7036cc8a661917e.txt bd0f2c8626679895f3338ca5.txt 06832e9b9ca24ff7fe906aee.txt 7c19987b64849e60e831c394.txt d6e09245089299ec8e5173e7.txt bf132134be51ec4891e9e16c.txt ad228ceb56e37f3416a910a3.txt 44167d3f37c95565f14a5ef4.txt c50cc8ab7c5008f50a38e70d.txt 6fda297cb93a859000e72b70.txt 791c96c9a472e89ec06e8a85.txt 50b0a8d77c8c34368ea4bfc7.txt cfda785b67b4b17c58b911b0.txt 1c93cbfe9be665edd768737d.txt a526dbdf164aa0a28f510c49.txt 52265eb3084b4e3f7b08f6ae.txt 967b41cea41974071e36f31d.txt 346bf8f7f1c62bcb4cd6e307.txt aed8d49bbf0857e88e1d26b5.txt 340f3ca472a404fbef58f8b1.txt 2670249c99fdb6bba41a8511.txt 9bed5343c25574e44914ef21.txt e5c6641300c3ace88914ec7f.txt 412da1891c4780f6f0f7f4bc.txt d712536c776ed08ddfcb73c6.txt 8817286b357023b71bd0b696.txt 5ab7fdd5629656e684c0435a.txt b36d5f0beec291379d2181b6.txt 7caee2ed97f52218042a662f.txt 068e4f6926e78ff6d338d2cc.txt 5f0252bc39ee6688384856d4.txt 24d83dcc0488f735862e4d3d.txt 3843f1ee3f43653993d60447.txt a23ca542020c3376f8da1fd9.txt 2c5da83393691efba7f8da42.txt 986924433ab01afa81a59e7a.txt bf5543efb9497b2dd44ca7da.txt a8cf094dbb3c22d02d10e21d.txt bb938cd9fec6ef383e40f4c0.txt 58a7b7d31f5e8898403d1607.txt 3c972e7cbba71d1c684dd34f.txt 21459c30ba2ac052fed92f25.txt 0dbf956c380feddc590348e0.txt 5258ce6a8b63b1f30d04a2d5.txt ed7d88f09de7395a7de74ce4.txt 89ab0fc4e49d892ff0156dc7.txt 7241824cc3075197e0ded020.txt 4209447de426d0c86761703a.txt a1a53ec2c1992d3947dd4480.txt cf1da59d0470e29891469f3c.txt f5868ddf1e5f4ccf9a648517.txt 644c8ec6504fe83b80677866.txt a2b5878c25761e552230d412.txt 1ab6361c3c5a94fc99e7ae68.txt 852fb29bb4996d022496edcc.txt e39b941dd2bcc2bffdc433b1.txt e8ba16dafb39e5cd1b38f813.txt 71675faaf4dedd23ce8e2c39.txt 90e36817a15d1303999b17c9.txt 14669681607aa88e65b0d927.txt 6b58ff42c73427fdefe9d2bb.txt 86a46c7bf9fe29a67980b1a7.txt 60e0899d24db2cbaa927abcd.txt 5f58ff915fb692e2507cfdd5.txt 876cd27fc8f63a2800fc3de8.txt d905d9e3a421b0ad31a8a7c0.txt e70ce41f2b7ce9cdb7045972.txt 3dbf5c79cfcc18eaca1a7d3b.txt f1d0b39dc36699ffe5d68e4d.txt 04b259d70f2b503f2af14c35.txt b87667c3dd21d8aa17bb6a74.txt ff141af01177f34e9caa7a12.txt cd7cbeadf3cd476110f10c14.txt b7987955dad0b6685500132b.txt c9f3dcee23725759730eaf32.txt aa49b4006c18d1d2a28cd049.txt bbe172d896a38bc15fca3062.txt e6fcb043744edde3b9f0559b.txt 3ca3e65a5fc44603f0c827ba.txt 23b4c8eb4b41d75946285461.txt b1b61e500f46136f8ee8e94f.txt 291ca2c9bd7d29242b483157.txt d592885af4e6e380c376dc55.txt ee9be1ad62ff5b8c6a44dc3a.txt ae4af47ef601ee8664a18778.txt 4ff6a5f94782360efff2c334.txt 0412d582bb8a2c89400a1ffb.txt db152e591fe88b82b706da8d.txt 178d893e0fd1457ad7fdadd6.txt f4bd7479dbe91f3d18f44c49.txt 4c93f4e157d7e283547f1153.txt 505a039e760d4875c9c2d77f.txt 1c99e4c566466c0d82fc2d6c.txt 89f92d1370b844b8e7644ee8.txt 5f4f516acba921593e55cc4b.txt db7b0850aed5577702f151c4.txt 7987213c53131fd5bbacce4f.txt 70123d9366c5676db1d1d0dd.txt 72963a8c7eb520c56f88a536.txt 2e343fa6a9237d61d0f99ccc.txt ac93c263f13fb5eda552ca97.txt 227b32473aa440c6497e2ae9.txt 49ef0e8c42428f0c67c3ed4b.txt cf5cc112ba8a1bbb6f8d93e8.txt f7c16e803908d3ab6ee0c603.txt 8ab34318f66dffa710ec53cd.txt 0b6e7a34b2a1b99280b5d3ca.txt 536134a5924bfa7840e315de.txt 16e7537d3cb1b1b206cf08a8.txt 055255f16b549ed22893c0c3.txt 659307d58a1bd977d58bc94f.txt 8c1a179f5e2fa18a0307a9dd.txt f5fa36c503893adeb5294d52.txt 36b20f235015f30bcd123c86.txt ce80c08d743f15e6586741f6.txt 2edd1ed9897871186b126a68.txt 44bb4250c66f06bffc554828.txt 44bc288dc5e6d7b2819f88c5.txt 3a893f2b18e85ef08567debf.txt bb8d876705a0d8b453791035.txt 97aad1488e3b02f180a8ae09.txt 2b9462352bb399a34091d861.txt 32e88857b1938abaebce9a76.txt 9950fd1962191dfe62c8a366.txt 90119ff42ce5621a5761dfdf.txt b1181f6f7f7f4bb4ec48e5c4.txt 76f7af4eeffffde457d018bb.txt d0ba1a514581ead3c796490b.txt 4573afa8da16a43e0e2a355f.txt d7c936e862946ca5f6926512.txt 46c865d487fa011022507710.txt 7a9ed75a485605db82f143d5.txt 2d17cc2d5c1660c51e00d505.txt a7bb61478b112c3eedcbb6ed.txt b308a8c4ffeee07f455ffb19.txt bb84ab5e77fc9f5fdbd52827.txt bd6637f1fa9e0074495caaca.txt b1f1e78acfb77ad82d538183.txt 5ca85be3a9fc9cd53ea8c7f1.txt 39a5e60107bdf4c530130c52.txt 0969b6db91bb1697f99a8a21.txt 8a5e440d8d110c0a3539ee9b.txt c06224bdefec4d102f001601.txt 8ffb53cd60edc17b04e25a45.txt fdac8be560a05943aba7e41f.txt 867c78ed47ee3fc4b30b9d59.txt 3edd7d06006a5bfc1619fc0e.txt 06882da3694b7160c0f105f5.txt dde666fd35199cb019c8ea62.txt 4d497d31be6d37d79186717e.txt 5b9d1b98227340deb1d6f185.txt 29579192e65ea7826a727c42.txt fc01ec821b1c8cf910b4b895.txt d817eb4bd2f39280ea1037b9.txt 60386b96032381bf1c7a33f6.txt c816924dba6739d9c63021f7.txt cebe97fd2e7949b281656193.txt f1571d150cf1aafde30fd79a.txt 13ed7262c2b6088cd47de5ed.txt d2a8a8bd9569c33bc43ec14e.txt 663ad3a7b78652036aa4290d.txt 07fa2d05e9b5a9841b7bfae3.txt 2bc46d57dc3f3ba0480e9f08.txt 9b97a70dcbae27c225bd36f9.txt 136d1cb5b01538b9979aedbe.txt 1b9fb13726d1030612228aeb.txt ad40d2b657a1b847b11b013f.txt 1a2cc4c5793fa089dd58ddd1.txt 17540fdca1dd0b3d5620336d.txt 50f24c8ed539bdc44ebf1dd8.txt 536f7b36d89b921511f4fdc1.txt b47cbb269b2ddf36e39572bd.txt 34bb5da757c9c83b42e5ae63.txt 9dedc3819b9ac8444b1f30f4.txt 408e9eacfcb439043f4ce593.txt cc8cd263619bc078e1d10ebf.txt bbcf74a04032515b461cb2cc.txt 76fa8b5e46e6dacbdc4f4f39.txt 9fd3fbeb694c4b7a37c125d5.txt 146035943a1482883ed98570.txt f95509fd9560e94d6b4d9b2d.txt ea0f8a9d4c8009cb6ee8f738.txt 19ea02c9635f48c2bc7a161f.txt 0df4917338687fdbc93448f5.txt 78beda79f100af67d5fd91e6.txt ea6f61a237dc4e79b251422a.txt 7727672abec7d70216173223.txt fc3a6efa90c6712df8739fc1.txt 66744e8a5c65a748497cd7c0.txt 9113be4094a68ba42ad9daa8.txt 38876a9e9fee20526c6890bf.txt 438a576003e0eef20daf9c35.txt 10f9407023d1e00bbd7274f2.txt 9a9cf9f796fae7f3f8643a04.txt e1539744b6f7668a040ac968.txt 54b4ec188d91140a6a2ee030.txt 2b4bacedc942ffcb523ff20f.txt 219d400e61f8e06a066572f8.txt e83a1c294b5d138339149fcb.txt 32bcee0203f7d0cac3ed504b.txt 9dd916c57ffba275b1baa323.txt 30ed8393bd1d301cd380c06b.txt ec9aee8ee72b1902bd83edf5.txt 6b6d91a5b97ed3c40c1411a7.txt 583b831d065fdb022cca3a0c.txt ed2caa67ce313a4baf428ace.txt 049bb468e7e166e9d6370002.txt dffd0a427bc76233ef658a1d.txt 4affd104e0ec7a7806edfa78.txt 9609fb2f1c62cf3b7ac08521.txt e7574977ef4bd5f7a8bd9751.txt a57f8728343b9cb2491e6c86.txt 7121b385f2dcd034cae8c49d.txt 6fe7c294e3a47e17aeb240b2.txt eafbdd565c2e1e7650607e43.txt 8584d22e99dc86f336173b15.txt 4b38e02c59253ce02b52eec5.txt 89500baf14748fe9b3a82748.txt eef7be7d57a15ecb1ab3c578.txt eca017e97a25f3e4832fdb91.txt 36481f178c4ce333acccd58e.txt 8e577bbf235d81ce625e363a.txt f75c0093a23e5653b6f6b26c.txt bfcb651b80df271b79d344dd.txt 633b9baf7b8415ee819c26a7.txt 3e1ba2182d077b7fd17d524f.txt ce09e807fef6de6b45709d9f.txt bd5921cd1008382e2f537b53.txt e9db664dfc3a965581a24972.txt de9160a4b1db66a453ebfb68.txt 00ff0c9a71cc37a2ebdd0f05.txt aec3b618b191da96f0eb2c10.txt eb40b68130e8aa8d7dc82c23.txt 98942ecbc18dc774835563aa.txt b2dd56b88cf0d00902503eba.txt bc253f69b5d49855785d94da.txt f6228876966d7dae2c39b8ca.txt c70272750cc48acef9827dcb.txt dbc35fa5280de4c5d553d23a.txt ae2dc138bd8552bf6c785377.txt 3e1d46017fbfcc8136bd1e9b.txt cad1ea3fa0502ba1bcbebd6d.txt 24fca45b67e543a4ad737709.txt 40ded46d0cb2e060306b26bb.txt 25a8bb2034f511717c46e536.txt 7276fac9b55aa417322e20f8.txt 26c2e2bc3d0f36109337b502.txt f973ee415265be4addc457b1.txt 81532abcb8b4e11eec4a8202.txt 6e1c6452fd95c2d3e6785f36.txt 627d97e6be0e2f1f630bdb37.txt e9816721ed502a5414ee6aa4.txt f8d84977825b44af9aa220c4.txt 238a279ef92528dd92aeb2e3.txt 862a4ac32755d252c6948424.txt 58279d6ab8c2213722f2ef6b.txt 13d970ab11b767d7ae3e4ee6.txt 6ea1015ef1f27bbd15192eb6.txt 559b85f5e7c3de56619c8853.txt 77cabd9a8eaaa49beb66a62b.txt 5b67ae395926dc10ea314317.txt 8304231d833d5427ff4f4da1.txt 4fbd93217986b45372ebedd4.txt 60bc1c7de6f805c28228b3fe.txt 507749a1187be5b582671c62.txt 71d0d1f8c3abeb9d6de37c88.txt 667e1fd9da2bfe14aafdec4b.txt 965778109ccdb3eb34af8bf0.txt 236bb7800311ca69deeb0a16.txt 67bf4b03fc22542bb6d51daf.txt 819494b56fdb3e65ef378897.txt 0c06cc9f21d172618d74c6c8.txt 947e17f82dbddfbdb4cb2447.txt 3c612b99b0f6800992eacf43.txt 7be7b7833488818f562d24aa.txt eeb5b1d0e23c0675e095b98a.txt bd27a637d58beacf9a51c292.txt cb278289e8158f129e31cfcd.txt c385db2d2886056b8c42a9e6.txt 29781f56d67d950acd783d29.txt b760d372b55d88f398110f48.txt bf4fb3d50ba5202800859799.txt 760075793d3822dd8bf1bf31.txt 4df1cce533e2aaf6882fb638.txt 2402c2005e29469cbfbf410b.txt fbd3c96ffd27e8384d298406.txt adb909f464fd9284b53dbc87.txt e52fbc1a0b00f58b565066c9.txt 698dc1d1a1885908e8fbfe4c.txt d0be93dbc89e6791ec20afc9.txt fd64de8c4a2fc5ebb0e9f412.txt 679845ce7fb4d5b56d6887c1.txt 9d5db7dab58374e88b12d227.txt a3c5aadf824a220327e9cdc6.txt e8c5c09da1a03d6a980ebf8c.txt 6d89334316127640cff99800.txt 8c5a946a9eeb739c2a6630ff.txt 48dbda4179aaef31ed33c6e4.txt 3e6892787428117fb4b061d7.txt 2f33560940ba465c8226c951.txt dc641944142a65f5ddf845bb.txt cbe53b25f9fd9c9acea1e6d1.txt 07db4eec1fc8df5040d86602.txt eb1988b0b15be78203297cbf.txt c7eaa26e0dcb8d3680fd3c70.txt 689ac374ec67d0f0b0fe4b0a.txt c5c86b509c716c7872e16214.txt fbfbf091d226818a4fc3516c.txt 20073e2d139310a2bae877c4.txt d72ceac4628436a540910d98.txt d6820b1b6728bdb201ab7805.txt 5853ed01a28b1d938e25b2d7.txt ef848c8ded4aed6c886ceaf8.txt 9690a79f77581d8c60302d2c.txt 9e014c6bd4f50e1256624ae5.txt d148573a2b01245f06e1de50.txt ca363c1b30692cf0598bea76.txt 73b8ae34d0038aa6dcdcd858.txt 7015c5709467b8fdb974daf4.txt fa4d3f7e66fdb499255ddaf8.txt a4ab6c6c78b232568f975f16.txt d3db994677fd0e0ed62339d2.txt cd695bf43420d73e23df3d5a.txt 1747b3e80ba80910158c0cef.txt 5e5ee82cd8753120756c78e4.txt 0ce9bd5bf8f2351bfd217774.txt efb57307a13583ba06bd099c.txt 610f2c07b26508790d1cd355.txt 110637c78f384710d1b3eba6.txt 6c9481054d611cffe044b807.txt dbc4e9263d1a2efd4b7b89fc.txt cad7c5c53d62719991fc4c07.txt 2bdf91b83e265e197ac7b117.txt 3c56892f6cd0af56fe6b92e0.txt a221eeef88b64a9e58c95f6f.txt 4e2aedb331c566b0e7684ffc.txt 108d983b84def2bd48bdca36.txt 6cef04795d0f3a4313958f16.txt 52dc57274881463626784b21.txt 053526f9012ca715313120cd.txt e05290eced3105a1b99ee13a.txt 8ca7fe022118929860699a2f.txt 2ad9c59e934facf0b0245af3.txt 242c6ee1e520eff5ef06a45d.txt adda251cb945aa23e455ab48.txt 2db317d8880522bb060d0819.txt ffcd9524c80c0fa5bb859eaf.txt 60d4eac93ce6283cdc6e11b6.txt 3f815bfeee94086f60be0d09.txt ec9f3bbadfdd3464ed3ddf28.txt cf5c7ff181051df6e88a5787.txt 987dedd74979b11fe4f06987.txt 35b82be00f77fc7f1d241575.txt 36e11c56d336fd708d34ac37.txt e91afaba9603500e8e28a454.txt d3402272ac97751e0e87cdf3.txt 9cc4412ff73ec37e30be9d9f.txt dcd4bfc49601637d9339808d.txt 01c41f1aeba5c48c2c4dd568.txt d6daf4cca1df91ce7f5ca2c6.txt 504b8655852f837f2aca36a7.txt 5e4f084a93b862d00688673d.txt 7814e8ec13281ccf89baedc0.txt f8ca6722d390d090d4974316.txt 030b3d94de8acae7c936563d.txt 2148b02cde5342187216fa75.txt e3d5b272b2c71179e501519e.txt 0eeb9f6b6d4c8f39fb34b577.txt fca68c2a470d254cece58870.txt dc7aab767a608ca73ea2e33b.txt dc616633d076e209c093f8ac.txt e3455e53350336857caf08f0.txt 15d9cd90a0c1d8c0b2e060f8.txt 2de4f5fea373eb7b69a84824.txt f043e6ddf42667290fa8b239.txt aa3bb82db66286095d941035.txt 796c8d48da4b59d8c47d2c3a.txt 0ab1b38a35a76b0e5bf2ca8d.txt ef20280811313a39e58e3a08.txt c61792dc8a5208a73bfea103.txt c83dfe151e943e78333cec13.txt f9f99869dad1b2021ec7a7e2.txt 15a04a78926385821aa96a62.txt 79dbd47db3541d41acf3645c.txt 0884650b5640ded8c63750fc.txt 81badbb3aded20c36ae22bc2.txt a55eb4ea2b0556f96143f176.txt 2bb6f7e32d3191326d674809.txt e492f8f51c101a523a137755.txt 39537bf344b43f10a20e060f.txt 4283389c88821c3b31d07df5.txt 41fb71519f03dabae411b661.txt b433961afd6c429fc2dd0971.txt 66dabc484153c8102481a8e4.txt ac1a2e8f11ab64d729199969.txt 0d08327383a1f146a26a2a2b.txt 240060212e4ee62beb701c5c.txt decc9a540ad050e541a897c3.txt ed77f28aeaf89b317bc380fa.txt 2a83a489565dfa1d77af9f51.txt c7c9d2f5113d91afa2b7e94d.txt de9cef0d69383e47bd74a64c.txt 0fee6e9fd162d281b15c11df.txt 8d348ecb29022e18299be281.txt 854dedd673b748ac7a14c6a7.txt 4b3c36b97204adfe690ccb00.txt 97c46c1fc7ebc5930af75743.txt 82683559aebe665bb0eebe8e.txt 14f45baa63b4d3a700126af6.txt 8cb1f56b74af85d3dd0efcd9.txt d670943e9fa2473914f568d4.txt 4339bf75463dd4e25aa84758.txt a2627e7d41e7e1c686bb74f9.txt 2fe9bdaed4fb3e1368e07ccc.txt 310990c10f799a9b21cd4ff3.txt 244c21fb418ea7e21425abde.txt cb9399bab0ead661258086ae.txt b59c09efbc2ba31f7df1d0d1.txt c3913710fd39499173a055e7.txt 8cb8f0045242464f50342338.txt 9eab95aa6e3838f3fbccf311.txt 2116a2a90f494f7773b550ef.txt cf505e00f50df4548ef98d05.txt 9342f71811c45c856bf964c7.txt 6ae5d7dfba87555bb7bd70e6.txt b8d7ddb54d74a9450d7eb17c.txt 6751305422c4e62ee256a6f0.txt f64fb235136206764a4c23fc.txt ad733a1791d3fdd21532677b.txt c9a69eab2313afa2086a7927.txt d66110d1c177307120b5deb2.txt 8ccd3fc53ad2e63651de4376.txt a11615477afe31e7a204287f.txt 0a5c442ffa2664e89e18262d.txt 1892ff54553115169341d72e.txt 8f134b651d254092c94e855f.txt bb73ec8779aaa0509bea454a.txt e83cee96a0e4c29297699594.txt 8c1fdb5fa1bafa5b56ecc4e0.txt a1a32c28854aeef857ef79a5.txt 59cf31f3a5cd8a048a3167d5.txt 897457315805f1d5b209c692.txt 8c7c75845cfba8c2b874d2ea.txt 491066b9356a9f968e04b09b.txt b3ddea2aa88e2015223b75a8.txt b40da1395a4ea396026ea3fa.txt c0f79f21ad5f32c573f98886.txt 2fed60cb00f71d86ef78b5b4.txt f6eb59b252c21c171d2ce58c.txt a850f1538a738b74d58cb9bf.txt 0fb75bf676e1cddace3590d5.txt b4188fc441162ab5593a7b45.txt dce5ec866b612e86ec04ac06.txt 43b5cb4125a03434d3ee065d.txt e2183337d2df7034a6c80cf3.txt 7d42a67573f38d52bea01679.txt 0389421238a7e2839701df0f.txt 7d401b038d6fdb08f4f8197d.txt 7b073c01ca8b6db9a98dd11a.txt a9cc261267276e486328a30d.txt 7861f68134d801946e3e2795.txt 9b720b32ec8fac3b82f19ae1.txt 08a29ac71fe460a44ca73b38.txt 5340e354629f97c9348270c0.txt eb50a89699cb96502bcbb033.txt fc99dca042a1ed67dc80a0fe.txt 2ff4941b091ecb02e41997cd.txt b03a2291b48aa904314717db.txt a606cb39b74b8e0d45c8c8b8.txt a5b8249fca6d41f4ce1d4a02.txt 4efb8bc8c17cfc5d9cd71c7f.txt da7678bc04757fa05f1f7992.txt 672b4e3c9b09a218a4e74974.txt a25f020b7571d262ff5952ed.txt 6f705385cf0cebca4b0ca6e7.txt 78790e6e6a7e658c5e25955f.txt 1ef2771dfea25d508142ba06.txt 9e001583893cabee64bf69df.txt 6b61e3eb48c15f554f18de21.txt aa8383281d2c90c5576bb4e7.txt b6f2d87525cec0dcd65b693c.txt a87fa5784fd6e0791efe650a.txt 7bc4213a6a76c5cb03de2d69.txt a7b032ef5441a07e68f073be.txt 9217871066df2966c942b2eb.txt b8b2f59af006df03c9d3e0d6.txt ee1f4765f6d48f2d405b52ba.txt f8ebbce91c3aa8870faba81e.txt 89f1ea2d1e3a876af40dadac.txt "
     ]
    }
   ],
   "source": [
    "# test data only includes path text data\n",
    "example_site = os.listdir(dataset_path/\"test\")[10]\n",
    "print('Floors for example site:', example_site)\n",
    "for i in os.listdir(dataset_path/\"test\"):\n",
    "    print(i, end=\" \")"
   ]
  },
  {
   "cell_type": "code",
   "execution_count": null,
   "metadata": {
    "papermill": {
     "duration": 0.016411,
     "end_time": "2021-03-04T12:10:31.427566",
     "exception": false,
     "start_time": "2021-03-04T12:10:31.411155",
     "status": "completed"
    },
    "tags": []
   },
   "outputs": [],
   "source": []
  }
 ],
 "metadata": {
  "kernelspec": {
   "display_name": "Python 3",
   "language": "python",
   "name": "python3"
  },
  "language_info": {
   "codemirror_mode": {
    "name": "ipython",
    "version": 3
   },
   "file_extension": ".py",
   "mimetype": "text/x-python",
   "name": "python",
   "nbconvert_exporter": "python",
   "pygments_lexer": "ipython3",
   "version": "3.7.9"
  },
  "papermill": {
   "default_parameters": {},
   "duration": 12.996229,
   "end_time": "2021-03-04T12:10:32.055121",
   "environment_variables": {},
   "exception": null,
   "input_path": "__notebook__.ipynb",
   "output_path": "__notebook__.ipynb",
   "parameters": {},
   "start_time": "2021-03-04T12:10:19.058892",
   "version": "2.2.2"
  }
 },
 "nbformat": 4,
 "nbformat_minor": 4
}
