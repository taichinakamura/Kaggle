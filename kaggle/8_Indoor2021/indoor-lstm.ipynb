{
 "cells": [
  {
   "cell_type": "markdown",
   "id": "tight-mailman",
   "metadata": {
    "papermill": {
     "duration": 0.022195,
     "end_time": "2021-04-22T00:34:19.751552",
     "exception": false,
     "start_time": "2021-04-22T00:34:19.729357",
     "status": "completed"
    },
    "tags": []
   },
   "source": [
    "- cancel multiplication in dense layer\n",
    "- increase dropout rate in lstm layers\n",
    "- check if hdf5 can be saved *"
   ]
  },
  {
   "cell_type": "code",
   "execution_count": 1,
   "id": "integral-destiny",
   "metadata": {
    "execution": {
     "iopub.execute_input": "2021-04-22T00:34:19.797010Z",
     "iopub.status.busy": "2021-04-22T00:34:19.796368Z",
     "iopub.status.idle": "2021-04-22T00:34:31.695233Z",
     "shell.execute_reply": "2021-04-22T00:34:31.694577Z"
    },
    "papermill": {
     "duration": 11.924235,
     "end_time": "2021-04-22T00:34:31.695429",
     "exception": false,
     "start_time": "2021-04-22T00:34:19.771194",
     "status": "completed"
    },
    "tags": []
   },
   "outputs": [
    {
     "name": "stdout",
     "output_type": "stream",
     "text": [
      "Collecting tensorflow-determinism\r\n",
      "  Downloading tensorflow-determinism-0.3.0.tar.gz (12 kB)\r\n",
      "\u001b[33mWARNING: Discarding https://files.pythonhosted.org/packages/76/56/79d74f25b326d8719753172496abc524980fa67d1d98bb247021376e370a/tensorflow-determinism-0.3.0.tar.gz#sha256=563316b785614df300bbdec9b3c45a94d212761aec796cf1aafcbb2f69fdeb01 (from https://pypi.org/simple/tensorflow-determinism/). Requested tensorflow-determinism from https://files.pythonhosted.org/packages/76/56/79d74f25b326d8719753172496abc524980fa67d1d98bb247021376e370a/tensorflow-determinism-0.3.0.tar.gz#sha256=563316b785614df300bbdec9b3c45a94d212761aec796cf1aafcbb2f69fdeb01 has inconsistent version: filename has '0.3.0', but metadata has '0.4.1'\u001b[0m\r\n",
      "  Downloading tensorflow-determinism-0.2.0.tar.gz (10 kB)\r\n",
      "\u001b[33mWARNING: Discarding https://files.pythonhosted.org/packages/9b/28/4aa0d8f183d13d3477626e931a3363651bb8e291165d58962a39c57ae7fb/tensorflow-determinism-0.2.0.tar.gz#sha256=1e364b142acd96ec8a8fca6dee32ef04e1c5f5ca20bd83fc9ec37f7dbf2fb5b5 (from https://pypi.org/simple/tensorflow-determinism/). Requested tensorflow-determinism from https://files.pythonhosted.org/packages/9b/28/4aa0d8f183d13d3477626e931a3363651bb8e291165d58962a39c57ae7fb/tensorflow-determinism-0.2.0.tar.gz#sha256=1e364b142acd96ec8a8fca6dee32ef04e1c5f5ca20bd83fc9ec37f7dbf2fb5b5 has inconsistent version: filename has '0.2.0', but metadata has '0.4.1'\u001b[0m\r\n",
      "  Downloading tensorflow-determinism-0.1.0.tar.gz (7.2 kB)\r\n",
      "Building wheels for collected packages: tensorflow-determinism\r\n",
      "  Building wheel for tensorflow-determinism (setup.py) ... \u001b[?25l-\b \b\\\b \bdone\r\n",
      "\u001b[?25h  Created wheel for tensorflow-determinism: filename=tensorflow_determinism-0.1.0-py3-none-any.whl size=5255 sha256=3288fe3bf6b73b33e0aab8c0c197bed8be0427549f5260342f524864b12c9667\r\n",
      "  Stored in directory: /root/.cache/pip/wheels/ce/06/d4/df757adc4c81f705a74a0317c27cf19919ccd25ae2a6ecd2c5\r\n",
      "Successfully built tensorflow-determinism\r\n",
      "Installing collected packages: tensorflow-determinism\r\n",
      "Successfully installed tensorflow-determinism-0.1.0\r\n"
     ]
    }
   ],
   "source": [
    "# credit: https://www.kaggle.com/kokitanisaka/lstm-by-keras-with-unified-wi-fi-feats\n",
    "!pip install tensorflow-determinism"
   ]
  },
  {
   "cell_type": "code",
   "execution_count": 2,
   "id": "annoying-diversity",
   "metadata": {
    "execution": {
     "iopub.execute_input": "2021-04-22T00:34:31.754149Z",
     "iopub.status.busy": "2021-04-22T00:34:31.753414Z",
     "iopub.status.idle": "2021-04-22T00:34:38.860569Z",
     "shell.execute_reply": "2021-04-22T00:34:38.859477Z"
    },
    "papermill": {
     "duration": 7.141273,
     "end_time": "2021-04-22T00:34:38.860726",
     "exception": false,
     "start_time": "2021-04-22T00:34:31.719453",
     "status": "completed"
    },
    "tags": []
   },
   "outputs": [],
   "source": [
    "import numpy as np\n",
    "import pandas as pd\n",
    "import scipy.stats as stats\n",
    "from pathlib import Path\n",
    "import glob\n",
    "import pickle\n",
    "\n",
    "import random\n",
    "import os\n",
    "\n",
    "from tqdm.notebook import tqdm\n",
    "\n",
    "from sklearn.model_selection import StratifiedKFold\n",
    "from sklearn.preprocessing import StandardScaler, LabelEncoder\n",
    "\n",
    "import tensorflow as tf\n",
    "import tensorflow.keras.layers as L\n",
    "import tensorflow.keras.models as M\n",
    "import tensorflow.keras.backend as K\n",
    "import tensorflow_addons as tfa\n",
    "from tensorflow_addons.layers import WeightNormalization\n",
    "from tensorflow.keras.callbacks import ReduceLROnPlateau, ModelCheckpoint, EarlyStopping\n",
    "\n",
    "from tensorflow.keras.layers import *\n",
    "from tensorflow.keras.models import *\n",
    "from tensorflow.keras.layers import *\n",
    "from tensorflow.keras.optimizers import *\n",
    "from tensorflow.keras.metrics import *\n",
    "from tensorflow.keras.utils import *\n",
    "from tensorflow.keras.callbacks import *\n",
    "\n",
    "import multiprocessing\n",
    "import scipy.interpolate\n",
    "import scipy.sparse\n",
    "from tqdm import tqdm\n",
    "\n",
    "\n",
    "from scipy.spatial.distance import cdist\n",
    "\n",
    "import warnings\n",
    "warnings.filterwarnings(\"ignore\")"
   ]
  },
  {
   "cell_type": "code",
   "execution_count": 3,
   "id": "operational-netscape",
   "metadata": {
    "execution": {
     "iopub.execute_input": "2021-04-22T00:34:38.913142Z",
     "iopub.status.busy": "2021-04-22T00:34:38.912393Z",
     "iopub.status.idle": "2021-04-22T00:34:38.915560Z",
     "shell.execute_reply": "2021-04-22T00:34:38.914825Z"
    },
    "papermill": {
     "duration": 0.031184,
     "end_time": "2021-04-22T00:34:38.915702",
     "exception": false,
     "start_time": "2021-04-22T00:34:38.884518",
     "status": "completed"
    },
    "tags": []
   },
   "outputs": [],
   "source": [
    "# options\n",
    "N_SPLITS = 5\n",
    "SEED = 2021\n",
    "NUM_FEATS = 30 # number of features that we use. there are 100 feats but we don't need to use all of them\n",
    "base_path = '/kaggle'"
   ]
  },
  {
   "cell_type": "code",
   "execution_count": 4,
   "id": "concerned-perfume",
   "metadata": {
    "execution": {
     "iopub.execute_input": "2021-04-22T00:34:38.977723Z",
     "iopub.status.busy": "2021-04-22T00:34:38.977027Z",
     "iopub.status.idle": "2021-04-22T00:34:38.980215Z",
     "shell.execute_reply": "2021-04-22T00:34:38.979577Z"
    },
    "papermill": {
     "duration": 0.038637,
     "end_time": "2021-04-22T00:34:38.980378",
     "exception": false,
     "start_time": "2021-04-22T00:34:38.941741",
     "status": "completed"
    },
    "tags": []
   },
   "outputs": [],
   "source": [
    "def set_seed(seed=42):\n",
    "    random.seed(seed)\n",
    "    os.environ['PYTHONHASHSEED'] = str(seed)\n",
    "    os.environ['TF_DETERMINISTIC_OPS'] = '1'\n",
    "    np.random.seed(seed)\n",
    "    tf.random.set_seed(seed)\n",
    "    session_conf = tf.compat.v1.ConfigProto(\n",
    "        intra_op_parallelism_threads=1,\n",
    "        inter_op_parallelism_threads=1\n",
    "    )\n",
    "    sess = tf.compat.v1.Session(graph=tf.compat.v1.get_default_graph(), config=session_conf)\n",
    "    tf.compat.v1.keras.backend.set_session(sess)\n",
    "    \n",
    "def comp_metric(xhat, yhat, fhat, x, y, f):\n",
    "    intermediate = np.sqrt(np.power(xhat-x, 2) + np.power(yhat-y, 2)) + 15 * np.abs(fhat-f)\n",
    "    return intermediate.sum()/xhat.shape[0]\n",
    "\n",
    "def xy_comp_metric(xhat, yhat, x, y):\n",
    "    intermediate = np.sqrt(np.power(xhat-x, 2) + np.power(yhat-y, 2))\n",
    "    return intermediate.sum()/xhat.shape[0]\n",
    "\n",
    "def xy_loss(true, pred):\n",
    "    return K.mean(K.sqrt(K.square(pred[:,0] - true[:,0]) + K.square(pred[:,1] - true[:,1]))) "
   ]
  },
  {
   "cell_type": "code",
   "execution_count": 5,
   "id": "occasional-performance",
   "metadata": {
    "execution": {
     "iopub.execute_input": "2021-04-22T00:34:39.034979Z",
     "iopub.status.busy": "2021-04-22T00:34:39.034200Z",
     "iopub.status.idle": "2021-04-22T00:34:39.142537Z",
     "shell.execute_reply": "2021-04-22T00:34:39.141959Z"
    },
    "papermill": {
     "duration": 0.138386,
     "end_time": "2021-04-22T00:34:39.142683",
     "exception": false,
     "start_time": "2021-04-22T00:34:39.004297",
     "status": "completed"
    },
    "tags": []
   },
   "outputs": [],
   "source": [
    "feature_dir = f\"{base_path}/input/indoor-mod-united-dataset\"  #indooruniteddataset\" \n",
    "train_files = sorted(glob.glob(os.path.join(feature_dir, '*_train.csv')))\n",
    "test_files = sorted(glob.glob(os.path.join(feature_dir, '*_test.csv')))\n",
    "subm = pd.read_csv(f'{base_path}/input/indoor-location-navigation/sample_submission.csv', index_col=0)\n",
    "\n",
    "all_sites = sorted(set(pd.DataFrame(subm.index)[\"site_path_timestamp\"].apply(lambda x: x.split(\"_\")[0])))"
   ]
  },
  {
   "cell_type": "code",
   "execution_count": 6,
   "id": "israeli-bandwidth",
   "metadata": {
    "execution": {
     "iopub.execute_input": "2021-04-22T00:34:39.197088Z",
     "iopub.status.busy": "2021-04-22T00:34:39.196118Z",
     "iopub.status.idle": "2021-04-22T00:34:39.199171Z",
     "shell.execute_reply": "2021-04-22T00:34:39.199823Z"
    },
    "papermill": {
     "duration": 0.033168,
     "end_time": "2021-04-22T00:34:39.199995",
     "exception": false,
     "start_time": "2021-04-22T00:34:39.166827",
     "status": "completed"
    },
    "tags": []
   },
   "outputs": [],
   "source": [
    "# training target features\n",
    "BSSID_FEATS = [f'bssid_{i}' for i in range(NUM_FEATS)]\n",
    "RSSI_FEATS  = [f'rssi_{i}' for i in range(NUM_FEATS)]"
   ]
  },
  {
   "cell_type": "code",
   "execution_count": 7,
   "id": "instructional-poland",
   "metadata": {
    "execution": {
     "iopub.execute_input": "2021-04-22T00:34:39.255816Z",
     "iopub.status.busy": "2021-04-22T00:34:39.255150Z",
     "iopub.status.idle": "2021-04-22T00:36:02.659726Z",
     "shell.execute_reply": "2021-04-22T00:36:02.660272Z"
    },
    "papermill": {
     "duration": 83.436331,
     "end_time": "2021-04-22T00:36:02.660504",
     "exception": false,
     "start_time": "2021-04-22T00:34:39.224173",
     "status": "completed"
    },
    "tags": []
   },
   "outputs": [
    {
     "name": "stderr",
     "output_type": "stream",
     "text": [
      "100%|██████████| 184/184 [01:16<00:00,  2.41it/s]\n",
      "100%|██████████| 24/24 [00:01<00:00, 17.03it/s]\n"
     ]
    }
   ],
   "source": [
    "data = []\n",
    "for i in tqdm(train_files):\n",
    "    tmp = pd.read_csv(i)\n",
    "    tmp[\"site_id\"] = i.split(\"/\")[4].split(\"_\")[0]\n",
    "    data.append(tmp)\n",
    "data = pd.concat(data).reset_index(drop=True)\n",
    "\n",
    "test_data = []\n",
    "for i in tqdm(test_files):\n",
    "    tmp = pd.read_csv(i)\n",
    "    tmp[\"site_id\"] = i.split(\"/\")[4].split(\"_\")[0]\n",
    "    test_data.append(tmp)\n",
    "test_data = pd.concat(test_data).reset_index(drop=True)"
   ]
  },
  {
   "cell_type": "code",
   "execution_count": 8,
   "id": "intense-satisfaction",
   "metadata": {
    "execution": {
     "iopub.execute_input": "2021-04-22T00:36:02.956915Z",
     "iopub.status.busy": "2021-04-22T00:36:02.956087Z",
     "iopub.status.idle": "2021-04-22T00:36:06.853451Z",
     "shell.execute_reply": "2021-04-22T00:36:06.852797Z"
    },
    "papermill": {
     "duration": 4.117949,
     "end_time": "2021-04-22T00:36:06.853600",
     "exception": false,
     "start_time": "2021-04-22T00:36:02.735651",
     "status": "completed"
    },
    "tags": []
   },
   "outputs": [],
   "source": [
    "train_only_index = data[~data.site_id.isin(all_sites)].index\n",
    "normal_index = data[data.site_id.isin(all_sites)].index\n",
    "assert len(set(train_only_index) & set(normal_index)) == 0"
   ]
  },
  {
   "cell_type": "code",
   "execution_count": 9,
   "id": "changing-arena",
   "metadata": {
    "execution": {
     "iopub.execute_input": "2021-04-22T00:36:07.097434Z",
     "iopub.status.busy": "2021-04-22T00:36:07.051022Z",
     "iopub.status.idle": "2021-04-22T00:36:12.176393Z",
     "shell.execute_reply": "2021-04-22T00:36:12.175654Z"
    },
    "papermill": {
     "duration": 5.247483,
     "end_time": "2021-04-22T00:36:12.176554",
     "exception": false,
     "start_time": "2021-04-22T00:36:06.929071",
     "status": "completed"
    },
    "tags": []
   },
   "outputs": [
    {
     "name": "stdout",
     "output_type": "stream",
     "text": [
      "BSSID TYPES: 162571\n",
      "BSSID TYPES: 26836\n"
     ]
    }
   ],
   "source": [
    "wifi_feat_nums = 60\n",
    "wifi_bssids = []\n",
    "for i in range(wifi_feat_nums):\n",
    "    wifi_bssids.extend(data.iloc[:,i].values.tolist())\n",
    "wifi_bssids = list(set(wifi_bssids))\n",
    "\n",
    "wifi_bssids_size = len(wifi_bssids)\n",
    "print(f'BSSID TYPES: {wifi_bssids_size}')\n",
    "\n",
    "wifi_bssids_test = []\n",
    "for i in range(wifi_feat_nums):\n",
    "    wifi_bssids_test.extend(test_data.iloc[:,i].values.tolist())\n",
    "wifi_bssids_test = list(set(wifi_bssids_test))\n",
    "\n",
    "wifi_bssids_size = len(wifi_bssids_test)\n",
    "print(f'BSSID TYPES: {wifi_bssids_size}')\n",
    "\n",
    "wifi_bssids.extend(wifi_bssids_test)\n",
    "wifi_bssids_size = len(wifi_bssids)"
   ]
  },
  {
   "cell_type": "code",
   "execution_count": 10,
   "id": "tropical-spoke",
   "metadata": {
    "execution": {
     "iopub.execute_input": "2021-04-22T00:36:12.351188Z",
     "iopub.status.busy": "2021-04-22T00:36:12.350496Z",
     "iopub.status.idle": "2021-04-22T00:36:14.978601Z",
     "shell.execute_reply": "2021-04-22T00:36:14.978041Z"
    },
    "papermill": {
     "duration": 2.710731,
     "end_time": "2021-04-22T00:36:14.978754",
     "exception": false,
     "start_time": "2021-04-22T00:36:12.268023",
     "status": "completed"
    },
    "tags": []
   },
   "outputs": [],
   "source": [
    "#floor_pred = pd.read_csv('../input/lstm-prediction-dataset/submission.csv') \n",
    "#test_data['floor'] = floor_pred['floor'].values\n",
    "\n",
    "original_floor_values = data.loc[normal_index][\"floor\"].values\n",
    "\n",
    "data = pd.get_dummies(data, columns=['floor'])\n",
    "#test_data = pd.get_dummies(test_data, columns=['floor'])\n",
    "\n",
    "floor_columns = [i for i in data.columns if \"floor\" in i]"
   ]
  },
  {
   "cell_type": "code",
   "execution_count": 11,
   "id": "christian-lesbian",
   "metadata": {
    "execution": {
     "iopub.execute_input": "2021-04-22T00:36:16.833944Z",
     "iopub.status.busy": "2021-04-22T00:36:15.136829Z",
     "iopub.status.idle": "2021-04-22T00:36:18.182425Z",
     "shell.execute_reply": "2021-04-22T00:36:18.182943Z"
    },
    "papermill": {
     "duration": 3.128462,
     "end_time": "2021-04-22T00:36:18.183121",
     "exception": false,
     "start_time": "2021-04-22T00:36:15.054659",
     "status": "completed"
    },
    "tags": []
   },
   "outputs": [
    {
     "data": {
      "text/plain": [
       "LabelEncoder()"
      ]
     },
     "execution_count": 11,
     "metadata": {},
     "output_type": "execute_result"
    }
   ],
   "source": [
    "# preprocess\n",
    "ss = StandardScaler()\n",
    "ss.fit(data.loc[:,RSSI_FEATS])\n",
    "\n",
    "le = LabelEncoder()\n",
    "le.fit(wifi_bssids)\n",
    "\n",
    "le_site = LabelEncoder()\n",
    "le_site.fit(data['site_id'])"
   ]
  },
  {
   "cell_type": "code",
   "execution_count": 12,
   "id": "moderate-jason",
   "metadata": {
    "execution": {
     "iopub.execute_input": "2021-04-22T00:36:18.340866Z",
     "iopub.status.busy": "2021-04-22T00:36:18.340194Z",
     "iopub.status.idle": "2021-04-22T00:37:29.107319Z",
     "shell.execute_reply": "2021-04-22T00:37:29.106638Z"
    },
    "papermill": {
     "duration": 70.847372,
     "end_time": "2021-04-22T00:37:29.107483",
     "exception": false,
     "start_time": "2021-04-22T00:36:18.260111",
     "status": "completed"
    },
    "tags": []
   },
   "outputs": [],
   "source": [
    "data.loc[:,RSSI_FEATS] = ss.transform(data.loc[:,RSSI_FEATS])\n",
    "test_data.loc[:,RSSI_FEATS] = ss.transform(test_data.loc[:,RSSI_FEATS])\n",
    "\n",
    "for i in BSSID_FEATS:\n",
    "    data.loc[:,i] = le.transform(data.loc[:,i])\n",
    "    \n",
    "for i in BSSID_FEATS:\n",
    "    test_data.loc[:,i] = le.transform(test_data.loc[:,i])\n",
    "    \n",
    "data.loc[:, 'site_id'] = le_site.transform(data.loc[:, 'site_id'])\n",
    "test_data.loc[:, 'site_id'] = le_site.transform(test_data.loc[:, 'site_id'])"
   ]
  },
  {
   "cell_type": "code",
   "execution_count": 13,
   "id": "premier-northwest",
   "metadata": {
    "execution": {
     "iopub.execute_input": "2021-04-22T00:37:29.302211Z",
     "iopub.status.busy": "2021-04-22T00:37:29.301580Z",
     "iopub.status.idle": "2021-04-22T00:37:29.312899Z",
     "shell.execute_reply": "2021-04-22T00:37:29.312320Z"
    },
    "papermill": {
     "duration": 0.118838,
     "end_time": "2021-04-22T00:37:29.313047",
     "exception": false,
     "start_time": "2021-04-22T00:37:29.194209",
     "status": "completed"
    },
    "tags": []
   },
   "outputs": [],
   "source": [
    "site_count = len(data['site_id'].unique())\n",
    "data.reset_index(drop=True, inplace=True)"
   ]
  },
  {
   "cell_type": "code",
   "execution_count": 14,
   "id": "governmental-attachment",
   "metadata": {
    "execution": {
     "iopub.execute_input": "2021-04-22T00:37:29.470672Z",
     "iopub.status.busy": "2021-04-22T00:37:29.469999Z",
     "iopub.status.idle": "2021-04-22T00:37:29.487685Z",
     "shell.execute_reply": "2021-04-22T00:37:29.487029Z"
    },
    "papermill": {
     "duration": 0.098557,
     "end_time": "2021-04-22T00:37:29.487842",
     "exception": false,
     "start_time": "2021-04-22T00:37:29.389285",
     "status": "completed"
    },
    "tags": []
   },
   "outputs": [],
   "source": [
    "set_seed(SEED)"
   ]
  },
  {
   "cell_type": "code",
   "execution_count": 15,
   "id": "bored-greensboro",
   "metadata": {
    "execution": {
     "iopub.execute_input": "2021-04-22T00:37:29.646697Z",
     "iopub.status.busy": "2021-04-22T00:37:29.646020Z",
     "iopub.status.idle": "2021-04-22T00:37:32.838415Z",
     "shell.execute_reply": "2021-04-22T00:37:32.838879Z"
    },
    "papermill": {
     "duration": 3.274262,
     "end_time": "2021-04-22T00:37:32.839061",
     "exception": false,
     "start_time": "2021-04-22T00:37:29.564799",
     "status": "completed"
    },
    "tags": []
   },
   "outputs": [
    {
     "data": {
      "text/plain": [
       "((258125, 139), (842080, 139))"
      ]
     },
     "execution_count": 15,
     "metadata": {},
     "output_type": "execute_result"
    }
   ],
   "source": [
    "train_only_data = data[data.index.isin(train_only_index)].copy().reset_index(drop=True)\n",
    "data = data[data.index.isin(normal_index)].copy().reset_index(drop=True)\n",
    "data.shape, train_only_data.shape"
   ]
  },
  {
   "cell_type": "markdown",
   "id": "consolidated-atlantic",
   "metadata": {
    "papermill": {
     "duration": 0.07638,
     "end_time": "2021-04-22T00:37:32.992329",
     "exception": false,
     "start_time": "2021-04-22T00:37:32.915949",
     "status": "completed"
    },
    "tags": []
   },
   "source": [
    "# model"
   ]
  },
  {
   "cell_type": "code",
   "execution_count": 16,
   "id": "industrial-documentation",
   "metadata": {
    "execution": {
     "iopub.execute_input": "2021-04-22T00:37:33.156512Z",
     "iopub.status.busy": "2021-04-22T00:37:33.155700Z",
     "iopub.status.idle": "2021-04-22T00:37:33.159992Z",
     "shell.execute_reply": "2021-04-22T00:37:33.159047Z"
    },
    "papermill": {
     "duration": 0.089992,
     "end_time": "2021-04-22T00:37:33.160185",
     "exception": false,
     "start_time": "2021-04-22T00:37:33.070193",
     "status": "completed"
    },
    "tags": []
   },
   "outputs": [
    {
     "name": "stdout",
     "output_type": "stream",
     "text": [
      "\n"
     ]
    }
   ],
   "source": [
    "print(tf.test.gpu_device_name())"
   ]
  },
  {
   "cell_type": "code",
   "execution_count": 17,
   "id": "mediterranean-control",
   "metadata": {
    "execution": {
     "iopub.execute_input": "2021-04-22T00:37:33.323461Z",
     "iopub.status.busy": "2021-04-22T00:37:33.322735Z",
     "iopub.status.idle": "2021-04-22T00:37:33.326762Z",
     "shell.execute_reply": "2021-04-22T00:37:33.326038Z"
    },
    "papermill": {
     "duration": 0.087626,
     "end_time": "2021-04-22T00:37:33.326917",
     "exception": false,
     "start_time": "2021-04-22T00:37:33.239291",
     "status": "completed"
    },
    "tags": []
   },
   "outputs": [],
   "source": [
    "bssid_embed_dim = 64\n",
    "site_embed_dim = 2\n",
    "batch_size=256\n",
    "epochs= 1 #30 #40"
   ]
  },
  {
   "cell_type": "code",
   "execution_count": 18,
   "id": "composite-shoulder",
   "metadata": {
    "execution": {
     "iopub.execute_input": "2021-04-22T00:37:33.500363Z",
     "iopub.status.busy": "2021-04-22T00:37:33.499470Z",
     "iopub.status.idle": "2021-04-22T00:37:33.502552Z",
     "shell.execute_reply": "2021-04-22T00:37:33.501916Z"
    },
    "papermill": {
     "duration": 0.096882,
     "end_time": "2021-04-22T00:37:33.502693",
     "exception": false,
     "start_time": "2021-04-22T00:37:33.405811",
     "status": "completed"
    },
    "tags": []
   },
   "outputs": [],
   "source": [
    "def conv_layer(x, n_channels=32, kernel_size=3, pool_size=2, padding='same'):\n",
    "    x = Conv1D(filters=n_channels, kernel_size=kernel_size, padding=padding)(x)\n",
    "    x = BatchNormalization()(x)\n",
    "    x = ReLU()(x)\n",
    "    x = MaxPool1D(pool_size=pool_size, padding='same')(x)\n",
    "    return x\n",
    "\n",
    "def create_model(input_data):\n",
    "\n",
    "    # bssid feats ------\n",
    "    input_dim = input_data[0].shape[1]\n",
    "\n",
    "    input_embd_layer = L.Input(shape=(input_dim,))\n",
    "    x1 = L.Embedding(wifi_bssids_size, bssid_embed_dim)(input_embd_layer)\n",
    "    x1 = L.Flatten()(x1)\n",
    "\n",
    "    # rssi feats -------\n",
    "    input_dim = input_data[1].shape[1]\n",
    "    \n",
    "    ## mlp\n",
    "    input_layer = L.Input(input_dim, )\n",
    "    x2 = L.BatchNormalization()(input_layer)\n",
    "    x2 = L.Dense(NUM_FEATS, activation='relu')(x2) #* 64\n",
    "    \n",
    "    ## cnn\n",
    "    #input_layer = Input(shape=(input_dim, 1, 1))\n",
    "    #x2 = Reshape((input_dim, 1))(input_layer)\n",
    "    #x2 = conv_layer(x2, 16, 5, 2)\n",
    "    #x2 = conv_layer(x2, 16, 5, 2)\n",
    "    #x2 = Reshape((-1,))(x2) #x = GlobalMaxPool1D()(x)\n",
    "\n",
    "    # site -------------\n",
    "    input_site_layer = L.Input(shape=(1,))\n",
    "    x3 = L.Embedding(site_count, site_embed_dim)(input_site_layer)\n",
    "    x3 = L.Flatten()(x3)\n",
    "\n",
    "    # main stream ------\n",
    "    x = L.Concatenate(axis=1)([x1, x3, x2])\n",
    "    \n",
    "    x = L.BatchNormalization()(x)\n",
    "    x = L.Dropout(0.3)(x)\n",
    "    x = L.Dense(256, activation='relu')(x)\n",
    "\n",
    "    x = L.Reshape((1, -1))(x)\n",
    "    x = L.BatchNormalization()(x)\n",
    "    x = L.Bidirectional(L.LSTM(128, dropout=0.5, recurrent_dropout=0.5, return_sequences=True, activation='elu'))(x)\n",
    "    x = L.Bidirectional(L.LSTM(16, return_sequences=False, activation='elu'))(x)\n",
    "        \n",
    "    output_layer_1 = L.Dense(2, name='xy')(x)\n",
    "    output_layer_2 = L.Dense(len(floor_columns), activation='softmax', name='floor')(x)\n",
    "\n",
    "    model = M.Model([input_embd_layer, input_layer, input_site_layer], \n",
    "                    [output_layer_1, output_layer_2])\n",
    "\n",
    "    model.compile(optimizer=tf.optimizers.Adam(lr=0.002),\n",
    "                  loss={'xy': xy_loss, 'floor': tf.keras.losses.CategoricalCrossentropy()}, \n",
    "                  metrics={'xy': xy_loss, 'floor': 'accuracy'})\n",
    "\n",
    "    return model"
   ]
  },
  {
   "cell_type": "code",
   "execution_count": 19,
   "id": "executive-institution",
   "metadata": {
    "execution": {
     "iopub.execute_input": "2021-04-22T00:37:33.685047Z",
     "iopub.status.busy": "2021-04-22T00:37:33.674441Z",
     "iopub.status.idle": "2021-04-22T00:55:42.142403Z",
     "shell.execute_reply": "2021-04-22T00:55:42.142927Z"
    },
    "papermill": {
     "duration": 1088.562218,
     "end_time": "2021-04-22T00:55:42.143137",
     "exception": false,
     "start_time": "2021-04-22T00:37:33.580919",
     "status": "completed"
    },
    "tags": []
   },
   "outputs": [
    {
     "name": "stdout",
     "output_type": "stream",
     "text": [
      "4097/4097 [==============================] - 1075s 260ms/step - loss: 29.3957 - xy_loss: 27.5177 - floor_loss: 1.8780 - xy_xy_loss: 27.5177 - floor_accuracy: 0.3178 - val_loss: 10.1315 - val_xy_loss: 9.9027 - val_floor_loss: 0.2288 - val_xy_xy_loss: 9.9040 - val_floor_accuracy: 0.9176\n",
      "\n",
      "Epoch 00001: val_xy_loss improved from inf to 9.90266, saving model to RNN_2021_0.hdf5\n",
      "fold 0: overall metrics 11.47602999934267\n",
      "fold 0: root mean xy position error 9.902664381909256\n",
      "*+*+*+*+*+*+*+*+*+*+*+*+*+*+*+*+*+*+*+*+*+*+*+*+*+*+*+*+*+*+*+*+*+*+*+*+*+*+*+*+\n",
      "overall metrics 156.06126426869815\n",
      "root mean xy position error 135.6617872711195\n",
      "[9.902664381909256]\n",
      "*+*+*+*+*+*+*+*+*+*+*+*+*+*+*+*+*+*+*+*+*+*+*+*+*+*+*+*+*+*+*+*+*+*+*+*+*+*+*+*+\n"
     ]
    }
   ],
   "source": [
    "score_df = pd.DataFrame()\n",
    "predictions = list()\n",
    "\n",
    "oof_xy = list()\n",
    "oof_x, oof_y, oof_f = np.zeros(data.shape[0]), np.zeros(data.shape[0]), np.zeros(data.shape[0])\n",
    "preds_x, preds_y = 0, 0\n",
    "preds_f_arr = np.zeros((test_data.shape[0], N_SPLITS))\n",
    "\n",
    "for fold, (trn_idx, val_idx) in enumerate(StratifiedKFold(n_splits=N_SPLITS, shuffle=True, \n",
    "                                                          random_state=SEED).split(data.loc[:, 'path'], \n",
    "                                                                                   data.loc[:, 'path'])):\n",
    "    \n",
    "    if fold != 0:\n",
    "        continue\n",
    "        \n",
    "    X_train = pd.concat([data.loc[trn_idx, BSSID_FEATS + RSSI_FEATS + ['site_id']],\n",
    "                        train_only_data[BSSID_FEATS + RSSI_FEATS + ['site_id']]], axis=0).reset_index(drop=True)\n",
    "    y_trainx = pd.concat([data.loc[trn_idx, 'x'], train_only_data['x']], axis=0).reset_index(drop=True)\n",
    "    y_trainy = pd.concat([data.loc[trn_idx, 'y'], train_only_data['y']], axis=0).reset_index(drop=True)\n",
    "    y_trainf = pd.concat([data.loc[trn_idx][floor_columns], train_only_data[floor_columns]], axis=0).reset_index(drop=True)\n",
    "\n",
    "    #X_train = data.loc[trn_idx, BSSID_FEATS + RSSI_FEATS + ['site_id']].reset_index(drop=True)\n",
    "    #y_trainx = data.loc[trn_idx, 'x'].reset_index(drop=True)\n",
    "    #y_trainy = data.loc[trn_idx, 'y'].reset_index(drop=True)\n",
    "    #y_trainf = data.loc[trn_idx][floor_columns].reset_index(drop=True)\n",
    "    \n",
    "    tmp = pd.concat([y_trainx, y_trainy], axis=1)\n",
    "    y_train = [tmp, y_trainf]\n",
    "\n",
    "    X_valid = data.loc[val_idx, BSSID_FEATS + RSSI_FEATS + ['site_id']]\n",
    "    y_validx = data.loc[val_idx, 'x']\n",
    "    y_validy = data.loc[val_idx, 'y']\n",
    "    y_validf = data.loc[val_idx][floor_columns]\n",
    "\n",
    "    tmp = pd.concat([y_validx, y_validy], axis=1)\n",
    "    y_valid = [tmp, y_validf]\n",
    "\n",
    "    model = create_model([X_train.loc[:,BSSID_FEATS], X_train.loc[:,RSSI_FEATS], X_train.loc[:,'site_id']])\n",
    "    #with tf.device('/gpu:0'):\n",
    "    model.fit([X_train.loc[:,BSSID_FEATS], X_train.loc[:,RSSI_FEATS], X_train.loc[:,'site_id']], y_train,  \n",
    "                validation_data=([X_valid.loc[:,BSSID_FEATS], X_valid.loc[:,RSSI_FEATS], X_valid.loc[:,'site_id']], y_valid), \n",
    "                batch_size=batch_size, epochs=epochs,\n",
    "                callbacks=[\n",
    "                ReduceLROnPlateau(monitor='val_xy_loss', factor=0.1, patience=3, verbose=1, min_delta=1e-4, mode='min')\n",
    "                , ModelCheckpoint(f'RNN_{SEED}_{fold}.hdf5', monitor='val_xy_loss', verbose=1, save_best_only=True, save_weights_only=True, mode='min')\n",
    "                , EarlyStopping(monitor='val_xy_loss', min_delta=1e-4, patience=5, mode='min', baseline=None, restore_best_weights=True)\n",
    "            ])\n",
    "\n",
    "    model.load_weights(f'RNN_{SEED}_{fold}.hdf5')  \n",
    "    val_pred = model.predict([X_valid.loc[:,BSSID_FEATS], X_valid.loc[:,RSSI_FEATS], X_valid.loc[:,'site_id']])\n",
    "\n",
    "    oof_x[val_idx] = val_pred[0][:,0]\n",
    "    oof_y[val_idx] = val_pred[0][:,1]\n",
    "    oof_f[val_idx] = np.argmax(val_pred[1], axis=1)-2\n",
    "                                                            \n",
    "    pred = model.predict([test_data.loc[:,BSSID_FEATS], test_data.loc[:,RSSI_FEATS], test_data.loc[:,'site_id']])\n",
    "    preds_x += pred[0][:,0]\n",
    "    preds_y += pred[0][:,1]\n",
    "    preds_f_arr[:, fold] = np.argmax(pred[1], axis=1)-2\n",
    "\n",
    "    score = comp_metric(oof_x[val_idx], oof_y[val_idx], oof_f[val_idx],\n",
    "                        y_validx.to_numpy(), y_validy.to_numpy(), original_floor_values[val_idx])\n",
    "    print(f\"fold {fold}: overall metrics {score}\")\n",
    "    score2 = xy_comp_metric(oof_x[val_idx], oof_y[val_idx],\n",
    "                        y_validx.to_numpy(), y_validy.to_numpy())\n",
    "    print(f\"fold {fold}: root mean xy position error {score2}\")\n",
    "    oof_xy.append(score2)\n",
    "\n",
    "    K.clear_session()\n",
    "\n",
    "preds_x /= (fold + 1)\n",
    "preds_y /= (fold + 1)\n",
    "    \n",
    "print(\"*+\"*40)\n",
    "score = comp_metric(oof_x, oof_y, oof_f, data[\"x\"].to_numpy(), data[\"y\"].to_numpy(), original_floor_values)\n",
    "print(f\"overall metrics {score}\")\n",
    "score2 = xy_comp_metric(oof_x, oof_y, data[\"x\"].to_numpy(), data[\"y\"].to_numpy())\n",
    "print(f\"root mean xy position error {score2}\")\n",
    "print(oof_xy)\n",
    "print(\"*+\"*40)\n",
    "\n",
    "preds_f_mode = stats.mode(preds_f_arr, axis=1)\n",
    "preds_f = preds_f_mode[0].astype(int).reshape(-1)\n",
    "test_preds = pd.DataFrame(np.stack((preds_f, preds_x, preds_y))).T\n",
    "test_preds.columns = subm.columns\n",
    "test_preds.index = test_data[\"site_path_timestamp\"]\n",
    "test_preds[\"floor\"] = test_preds[\"floor\"].astype(int)\n",
    "predictions.append(test_preds)"
   ]
  },
  {
   "cell_type": "code",
   "execution_count": 20,
   "id": "supposed-bulletin",
   "metadata": {
    "execution": {
     "iopub.execute_input": "2021-04-22T00:55:44.792401Z",
     "iopub.status.busy": "2021-04-22T00:55:44.791100Z",
     "iopub.status.idle": "2021-04-22T00:55:44.890153Z",
     "shell.execute_reply": "2021-04-22T00:55:44.889283Z"
    },
    "papermill": {
     "duration": 1.430685,
     "end_time": "2021-04-22T00:55:44.890366",
     "exception": false,
     "start_time": "2021-04-22T00:55:43.459681",
     "status": "completed"
    },
    "tags": []
   },
   "outputs": [],
   "source": [
    "all_preds = pd.concat(predictions)\n",
    "all_preds = all_preds.reindex(subm.index)\n",
    "\n",
    "################################################################\n",
    "#floor_pred = pd.read_csv('../input/lstm-prediction-dataset/submission.csv') \n",
    "#all_preds['floor'] = floor_pred['floor'].values\n",
    "\n",
    "all_preds.to_csv('submission_bef_pp.csv')"
   ]
  },
  {
   "cell_type": "markdown",
   "id": "dimensional-conservative",
   "metadata": {
    "papermill": {
     "duration": 1.327312,
     "end_time": "2021-04-22T00:55:47.593028",
     "exception": false,
     "start_time": "2021-04-22T00:55:46.265716",
     "status": "completed"
    },
    "tags": []
   },
   "source": [
    "# postprocess (cost minimization)"
   ]
  },
  {
   "cell_type": "code",
   "execution_count": 21,
   "id": "mathematical-isaac",
   "metadata": {
    "execution": {
     "iopub.execute_input": "2021-04-22T00:55:50.282144Z",
     "iopub.status.busy": "2021-04-22T00:55:50.281060Z",
     "iopub.status.idle": "2021-04-22T00:55:50.284573Z",
     "shell.execute_reply": "2021-04-22T00:55:50.283898Z"
    },
    "papermill": {
     "duration": 1.366449,
     "end_time": "2021-04-22T00:55:50.284725",
     "exception": false,
     "start_time": "2021-04-22T00:55:48.918276",
     "status": "completed"
    },
    "tags": []
   },
   "outputs": [],
   "source": [
    "# INPUT_PATH = '../input/indoor-location-navigation'\n",
    "\n",
    "# def compute_rel_positions(acce_datas, ahrs_datas):\n",
    "#     step_timestamps, step_indexs, step_acce_max_mins = compute_f.compute_steps(acce_datas)\n",
    "#     headings = compute_f.compute_headings(ahrs_datas)\n",
    "#     stride_lengths = compute_f.compute_stride_length(step_acce_max_mins)\n",
    "#     step_headings = compute_f.compute_step_heading(step_timestamps, headings)\n",
    "#     rel_positions = compute_f.compute_rel_positions(stride_lengths, step_headings)\n",
    "#     return rel_positions\n",
    "\n",
    "# def correct_path(args):\n",
    "#     path, path_df = args\n",
    "    \n",
    "#     T_ref  = path_df['timestamp'].values\n",
    "#     xy_hat = path_df[['x', 'y']].values\n",
    "    \n",
    "#     example = read_data_file(f'{INPUT_PATH}/test/{path}.txt')\n",
    "#     rel_positions = compute_rel_positions(example.acce, example.ahrs)\n",
    "#     if T_ref[-1] > rel_positions[-1, 0]:\n",
    "#         rel_positions = [np.array([[0, 0, 0]]), rel_positions, np.array([[T_ref[-1], 0, 0]])]\n",
    "#     else:\n",
    "#         rel_positions = [np.array([[0, 0, 0]]), rel_positions]\n",
    "#     rel_positions = np.concatenate(rel_positions)\n",
    "    \n",
    "#     T_rel = rel_positions[:, 0]\n",
    "#     delta_xy_hat = np.diff(scipy.interpolate.interp1d(T_rel, np.cumsum(rel_positions[:, 1:3], axis=0), axis=0)(T_ref), axis=0)\n",
    "\n",
    "#     N = xy_hat.shape[0]\n",
    "#     delta_t = np.diff(T_ref)\n",
    "#     alpha = (8.1)**(-2) * np.ones(N)\n",
    "#     beta  = (0.3 + 0.3 * 1e-3 * delta_t)**(-2)\n",
    "#     A = scipy.sparse.spdiags(alpha, [0], N, N)\n",
    "#     B = scipy.sparse.spdiags( beta, [0], N-1, N-1)\n",
    "#     D = scipy.sparse.spdiags(np.stack([-np.ones(N), np.ones(N)]), [0, 1], N-1, N)\n",
    "\n",
    "#     Q = A + (D.T @ B @ D)\n",
    "#     c = (A @ xy_hat) + (D.T @ (B @ delta_xy_hat))\n",
    "#     xy_star = scipy.sparse.linalg.spsolve(Q, c)\n",
    "    \n",
    "#     return pd.DataFrame({\n",
    "#         'site_path_timestamp' : path_df['site_path_timestamp'],\n",
    "#         'floor' : path_df['floor'],\n",
    "#         'x' : xy_star[:, 0],\n",
    "#         'y' : xy_star[:, 1],\n",
    "#     })"
   ]
  },
  {
   "cell_type": "code",
   "execution_count": 22,
   "id": "assumed-injection",
   "metadata": {
    "execution": {
     "iopub.execute_input": "2021-04-22T00:55:52.986190Z",
     "iopub.status.busy": "2021-04-22T00:55:52.985366Z",
     "iopub.status.idle": "2021-04-22T00:55:52.990832Z",
     "shell.execute_reply": "2021-04-22T00:55:52.990183Z"
    },
    "papermill": {
     "duration": 1.381624,
     "end_time": "2021-04-22T00:55:52.990983",
     "exception": false,
     "start_time": "2021-04-22T00:55:51.609359",
     "status": "completed"
    },
    "tags": []
   },
   "outputs": [],
   "source": [
    "# sub = pd.read_csv('../input/indoor-location-navigation/sample_submission.csv')\n",
    "# sub[\"floor\"] = all_preds['floor'].values\n",
    "# sub[\"x\"] = all_preds['x'].values\n",
    "# sub[\"y\"] = all_preds['y'].values\n",
    "\n",
    "# tmp = sub['site_path_timestamp'].apply(lambda s : pd.Series(s.split('_')))\n",
    "# sub['site'] = tmp[0]\n",
    "# sub['path'] = tmp[1]\n",
    "# sub['timestamp'] = tmp[2].astype(float)\n",
    "\n",
    "# processes = multiprocessing.cpu_count()\n",
    "# with multiprocessing.Pool(processes=processes) as pool:\n",
    "#     dfs = pool.imap_unordered(correct_path, sub.groupby('path'))\n",
    "#     dfs = tqdm(dfs)\n",
    "#     dfs = list(dfs)\n",
    "# sub = pd.concat(dfs).sort_values('site_path_timestamp')\n",
    "# sub.to_csv('submission_cost_minim.csv', index=False)"
   ]
  },
  {
   "cell_type": "markdown",
   "id": "constant-actor",
   "metadata": {
    "papermill": {
     "duration": 1.370324,
     "end_time": "2021-04-22T00:55:55.686813",
     "exception": false,
     "start_time": "2021-04-22T00:55:54.316489",
     "status": "completed"
    },
    "tags": []
   },
   "source": [
    "# postprocess (snap to grid)"
   ]
  },
  {
   "cell_type": "code",
   "execution_count": 23,
   "id": "gorgeous-monthly",
   "metadata": {
    "execution": {
     "iopub.execute_input": "2021-04-22T00:55:58.346214Z",
     "iopub.status.busy": "2021-04-22T00:55:58.345544Z",
     "iopub.status.idle": "2021-04-22T00:55:58.348335Z",
     "shell.execute_reply": "2021-04-22T00:55:58.347801Z"
    },
    "papermill": {
     "duration": 1.333468,
     "end_time": "2021-04-22T00:55:58.348524",
     "exception": false,
     "start_time": "2021-04-22T00:55:57.015056",
     "status": "completed"
    },
    "tags": []
   },
   "outputs": [],
   "source": [
    "# def split_col(df):\n",
    "#     df = pd.concat([\n",
    "#         df['site_path_timestamp'].str.split('_', expand=True) \\\n",
    "#         .rename(columns={0:'site',\n",
    "#                          1:'path',\n",
    "#                          2:'timestamp'}),\n",
    "#         df\n",
    "#     ], axis=1).copy()\n",
    "#     return df\n",
    "\n",
    "# def add_xy(df):\n",
    "#     df['xy'] = [(x, y) for x,y in zip(df['x'], df['y'])]\n",
    "#     return df\n",
    "\n",
    "# def closest_point(point, points):\n",
    "#     \"\"\" Find closest point from a list of points. \"\"\"\n",
    "#     return points[cdist([point], points).argmin()]\n",
    "\n",
    "# train_waypoints = pd.read_csv('../input/indoor-location-train-waypoints/train_waypoints.csv')\n",
    "\n",
    "# sub = split_col(sub)\n",
    "# sub = add_xy(sub)\n",
    "# train_waypoints = add_xy(train_waypoints)\n",
    "\n",
    "# ds = []\n",
    "# for (site, myfloor), d in sub.groupby(['site','floor']):\n",
    "#     true_floor_locs = train_waypoints.loc[(train_waypoints['floor'] == myfloor) &\n",
    "#                                           (train_waypoints['site'] == site)] \\\n",
    "#         .reset_index(drop=True)\n",
    "#     if len(true_floor_locs) == 0:\n",
    "#         print(f'Skipping {site} {myfloor}')\n",
    "#         continue\n",
    "#     d['matched_point'] = [closest_point(x, list(true_floor_locs['xy'])) for x in d['xy']]\n",
    "#     d['x_'] = d['matched_point'].apply(lambda x: x[0])\n",
    "#     d['y_'] = d['matched_point'].apply(lambda x: x[1])\n",
    "#     ds.append(d)\n",
    "\n",
    "# sub = pd.concat(ds)"
   ]
  },
  {
   "cell_type": "code",
   "execution_count": 24,
   "id": "olive-california",
   "metadata": {
    "execution": {
     "iopub.execute_input": "2021-04-22T00:56:01.095253Z",
     "iopub.status.busy": "2021-04-22T00:56:01.094446Z",
     "iopub.status.idle": "2021-04-22T00:56:01.099996Z",
     "shell.execute_reply": "2021-04-22T00:56:01.099438Z"
    },
    "papermill": {
     "duration": 1.37509,
     "end_time": "2021-04-22T00:56:01.100136",
     "exception": false,
     "start_time": "2021-04-22T00:55:59.725046",
     "status": "completed"
    },
    "tags": []
   },
   "outputs": [],
   "source": [
    "# def snap_to_grid(sub, threshold):\n",
    "#     \"\"\"\n",
    "#     Snap to grid if within a threshold.\n",
    "    \n",
    "#     x, y are the predicted points.\n",
    "#     x_, y_ are the closest grid points.\n",
    "#     _x_, _y_ are the new predictions after post processing.\n",
    "#     \"\"\"\n",
    "#     sub['_x_'] = sub['x']\n",
    "#     sub['_y_'] = sub['y']\n",
    "#     sub.loc[sub['dist'] < threshold, '_x_'] = sub.loc[sub['dist'] < threshold]['x_']\n",
    "#     sub.loc[sub['dist'] < threshold, '_y_'] = sub.loc[sub['dist'] < threshold]['y_']\n",
    "#     return sub.copy()\n",
    "\n",
    "# # Calculate the distances\n",
    "# sub['dist'] = np.sqrt( (sub.x-sub.x_)**2 + (sub.y-sub.y_)**2 )\n",
    "\n",
    "# sub_pp = snap_to_grid(sub, threshold=4)\n",
    "\n",
    "# sub_pp = sub_pp[['site_path_timestamp','floor','_x_','_y_','site','path']] \\\n",
    "#     .rename(columns={'_x_':'x', '_y_':'y'})\n",
    "# sub_pp[['site_path_timestamp','floor','x','y']].to_csv('submission.csv', index=False)"
   ]
  },
  {
   "cell_type": "code",
   "execution_count": null,
   "id": "lonely-bulletin",
   "metadata": {
    "papermill": {
     "duration": 1.364202,
     "end_time": "2021-04-22T00:56:03.813949",
     "exception": false,
     "start_time": "2021-04-22T00:56:02.449747",
     "status": "completed"
    },
    "tags": []
   },
   "outputs": [],
   "source": []
  }
 ],
 "metadata": {
  "kernelspec": {
   "display_name": "Python 3",
   "language": "python",
   "name": "python3"
  },
  "language_info": {
   "codemirror_mode": {
    "name": "ipython",
    "version": 3
   },
   "file_extension": ".py",
   "mimetype": "text/x-python",
   "name": "python",
   "nbconvert_exporter": "python",
   "pygments_lexer": "ipython3",
   "version": "3.7.9"
  },
  "papermill": {
   "default_parameters": {},
   "duration": 1314.332882,
   "end_time": "2021-04-22T00:56:07.606581",
   "environment_variables": {},
   "exception": null,
   "input_path": "__notebook__.ipynb",
   "output_path": "__notebook__.ipynb",
   "parameters": {},
   "start_time": "2021-04-22T00:34:13.273699",
   "version": "2.3.2"
  }
 },
 "nbformat": 4,
 "nbformat_minor": 5
}
