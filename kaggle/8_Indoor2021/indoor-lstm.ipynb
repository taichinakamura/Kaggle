{
 "cells": [
  {
   "cell_type": "markdown",
   "id": "acknowledged-chrome",
   "metadata": {
    "papermill": {
     "duration": 0.01782,
     "end_time": "2021-04-12T08:08:13.127332",
     "exception": false,
     "start_time": "2021-04-12T08:08:13.109512",
     "status": "completed"
    },
    "tags": []
   },
   "source": [
    "- consider only xy in validation\n",
    "- bo back to version 6 lstm\n",
    "- reset indoor-lgb-floor prediction (version 4) \n",
    "- separate train-only data and normal data for new validation *"
   ]
  },
  {
   "cell_type": "code",
   "execution_count": 1,
   "id": "honey-illness",
   "metadata": {
    "execution": {
     "iopub.execute_input": "2021-04-12T08:08:13.165809Z",
     "iopub.status.busy": "2021-04-12T08:08:13.164458Z",
     "iopub.status.idle": "2021-04-12T08:08:23.807867Z",
     "shell.execute_reply": "2021-04-12T08:08:23.807277Z"
    },
    "papermill": {
     "duration": 10.664003,
     "end_time": "2021-04-12T08:08:23.808027",
     "exception": false,
     "start_time": "2021-04-12T08:08:13.144024",
     "status": "completed"
    },
    "tags": []
   },
   "outputs": [
    {
     "name": "stdout",
     "output_type": "stream",
     "text": [
      "Collecting tensorflow-determinism\r\n",
      "  Downloading tensorflow-determinism-0.3.0.tar.gz (12 kB)\r\n",
      "\u001b[33mWARNING: Discarding https://files.pythonhosted.org/packages/76/56/79d74f25b326d8719753172496abc524980fa67d1d98bb247021376e370a/tensorflow-determinism-0.3.0.tar.gz#sha256=563316b785614df300bbdec9b3c45a94d212761aec796cf1aafcbb2f69fdeb01 (from https://pypi.org/simple/tensorflow-determinism/). Requested tensorflow-determinism from https://files.pythonhosted.org/packages/76/56/79d74f25b326d8719753172496abc524980fa67d1d98bb247021376e370a/tensorflow-determinism-0.3.0.tar.gz#sha256=563316b785614df300bbdec9b3c45a94d212761aec796cf1aafcbb2f69fdeb01 has inconsistent version: filename has '0.3.0', but metadata has '0.4.1'\u001b[0m\r\n",
      "  Downloading tensorflow-determinism-0.2.0.tar.gz (10 kB)\r\n",
      "\u001b[33mWARNING: Discarding https://files.pythonhosted.org/packages/9b/28/4aa0d8f183d13d3477626e931a3363651bb8e291165d58962a39c57ae7fb/tensorflow-determinism-0.2.0.tar.gz#sha256=1e364b142acd96ec8a8fca6dee32ef04e1c5f5ca20bd83fc9ec37f7dbf2fb5b5 (from https://pypi.org/simple/tensorflow-determinism/). Requested tensorflow-determinism from https://files.pythonhosted.org/packages/9b/28/4aa0d8f183d13d3477626e931a3363651bb8e291165d58962a39c57ae7fb/tensorflow-determinism-0.2.0.tar.gz#sha256=1e364b142acd96ec8a8fca6dee32ef04e1c5f5ca20bd83fc9ec37f7dbf2fb5b5 has inconsistent version: filename has '0.2.0', but metadata has '0.4.1'\u001b[0m\r\n",
      "  Downloading tensorflow-determinism-0.1.0.tar.gz (7.2 kB)\r\n",
      "Building wheels for collected packages: tensorflow-determinism\r\n",
      "  Building wheel for tensorflow-determinism (setup.py) ... \u001b[?25l-\b \b\\\b \bdone\r\n",
      "\u001b[?25h  Created wheel for tensorflow-determinism: filename=tensorflow_determinism-0.1.0-py3-none-any.whl size=5255 sha256=06421b1860a79d530d54f1c7bd468aef2cc32a857c78830a631ac53a8fa9a341\r\n",
      "  Stored in directory: /root/.cache/pip/wheels/ce/06/d4/df757adc4c81f705a74a0317c27cf19919ccd25ae2a6ecd2c5\r\n",
      "Successfully built tensorflow-determinism\r\n",
      "Installing collected packages: tensorflow-determinism\r\n",
      "Successfully installed tensorflow-determinism-0.1.0\r\n"
     ]
    }
   ],
   "source": [
    "# credit: https://www.kaggle.com/kokitanisaka/lstm-by-keras-with-unified-wi-fi-feats\n",
    "!pip install tensorflow-determinism"
   ]
  },
  {
   "cell_type": "code",
   "execution_count": 2,
   "id": "superb-insured",
   "metadata": {
    "execution": {
     "iopub.execute_input": "2021-04-12T08:08:23.855657Z",
     "iopub.status.busy": "2021-04-12T08:08:23.854918Z",
     "iopub.status.idle": "2021-04-12T08:09:03.510147Z",
     "shell.execute_reply": "2021-04-12T08:09:03.508529Z"
    },
    "papermill": {
     "duration": 39.680932,
     "end_time": "2021-04-12T08:09:03.510347",
     "exception": false,
     "start_time": "2021-04-12T08:08:23.829415",
     "status": "completed"
    },
    "tags": []
   },
   "outputs": [
    {
     "name": "stdout",
     "output_type": "stream",
     "text": [
      "Cloning into 'indoor_location_competition_20'...\r\n",
      "remote: Enumerating objects: 1169, done.\u001b[K\r\n",
      "remote: Counting objects: 100% (1169/1169), done.\u001b[K\r\n",
      "remote: Compressing objects: 100% (1131/1131), done.\u001b[K\r\n",
      "remote: Total 1169 (delta 38), reused 1167 (delta 38), pack-reused 0\u001b[K\r\n",
      "Receiving objects: 100% (1169/1169), 411.37 MiB | 16.94 MiB/s, done.\r\n",
      "Resolving deltas: 100% (38/38), done.\r\n",
      "Checking out files: 100% (1145/1145), done.\r\n"
     ]
    }
   ],
   "source": [
    "!git clone --depth 1 https://github.com/location-competition/indoor-location-competition-20 indoor_location_competition_20\n",
    "!rm -rf indoor_location_competition_20/data"
   ]
  },
  {
   "cell_type": "code",
   "execution_count": 3,
   "id": "standing-recall",
   "metadata": {
    "execution": {
     "iopub.execute_input": "2021-04-12T08:09:19.068536Z",
     "iopub.status.busy": "2021-04-12T08:09:19.067732Z",
     "iopub.status.idle": "2021-04-12T08:09:23.993047Z",
     "shell.execute_reply": "2021-04-12T08:09:23.991992Z"
    },
    "papermill": {
     "duration": 20.375957,
     "end_time": "2021-04-12T08:09:23.993184",
     "exception": false,
     "start_time": "2021-04-12T08:09:03.617227",
     "status": "completed"
    },
    "tags": []
   },
   "outputs": [],
   "source": [
    "import numpy as np\n",
    "import pandas as pd\n",
    "import scipy.stats as stats\n",
    "from pathlib import Path\n",
    "import glob\n",
    "import pickle\n",
    "\n",
    "import random\n",
    "import os\n",
    "\n",
    "from tqdm.notebook import tqdm\n",
    "\n",
    "from sklearn.model_selection import StratifiedKFold\n",
    "from sklearn.preprocessing import StandardScaler, LabelEncoder\n",
    "\n",
    "import tensorflow as tf\n",
    "import tensorflow.keras.layers as L\n",
    "import tensorflow.keras.models as M\n",
    "import tensorflow.keras.backend as K\n",
    "import tensorflow_addons as tfa\n",
    "from tensorflow_addons.layers import WeightNormalization\n",
    "from tensorflow.keras.callbacks import ReduceLROnPlateau, ModelCheckpoint, EarlyStopping\n",
    "\n",
    "from tensorflow.keras.layers import *\n",
    "from tensorflow.keras.models import *\n",
    "from tensorflow.keras.layers import *\n",
    "from tensorflow.keras.optimizers import *\n",
    "from tensorflow.keras.metrics import *\n",
    "from tensorflow.keras.utils import *\n",
    "from tensorflow.keras.callbacks import *\n",
    "\n",
    "import multiprocessing\n",
    "import scipy.interpolate\n",
    "import scipy.sparse\n",
    "from tqdm import tqdm\n",
    "\n",
    "from indoor_location_competition_20.io_f import read_data_file\n",
    "import indoor_location_competition_20.compute_f as compute_f\n",
    "\n",
    "import warnings\n",
    "warnings.filterwarnings(\"ignore\")"
   ]
  },
  {
   "cell_type": "code",
   "execution_count": 4,
   "id": "accomplished-healthcare",
   "metadata": {
    "execution": {
     "iopub.execute_input": "2021-04-12T08:09:24.167854Z",
     "iopub.status.busy": "2021-04-12T08:09:24.166860Z",
     "iopub.status.idle": "2021-04-12T08:09:24.170162Z",
     "shell.execute_reply": "2021-04-12T08:09:24.169643Z"
    },
    "papermill": {
     "duration": 0.095865,
     "end_time": "2021-04-12T08:09:24.170288",
     "exception": false,
     "start_time": "2021-04-12T08:09:24.074423",
     "status": "completed"
    },
    "tags": []
   },
   "outputs": [],
   "source": [
    "# options\n",
    "N_SPLITS = 5\n",
    "SEED = 2021\n",
    "NUM_FEATS = 30 # number of features that we use. there are 100 feats but we don't need to use all of them\n",
    "base_path = '/kaggle'"
   ]
  },
  {
   "cell_type": "code",
   "execution_count": 5,
   "id": "forward-communications",
   "metadata": {
    "execution": {
     "iopub.execute_input": "2021-04-12T08:09:24.367332Z",
     "iopub.status.busy": "2021-04-12T08:09:24.366362Z",
     "iopub.status.idle": "2021-04-12T08:09:24.371063Z",
     "shell.execute_reply": "2021-04-12T08:09:24.371533Z"
    },
    "papermill": {
     "duration": 0.113278,
     "end_time": "2021-04-12T08:09:24.371676",
     "exception": false,
     "start_time": "2021-04-12T08:09:24.258398",
     "status": "completed"
    },
    "tags": []
   },
   "outputs": [],
   "source": [
    "def set_seed(seed=42):\n",
    "    random.seed(seed)\n",
    "    os.environ['PYTHONHASHSEED'] = str(seed)\n",
    "    os.environ['TF_DETERMINISTIC_OPS'] = '1'\n",
    "    np.random.seed(seed)\n",
    "    tf.random.set_seed(seed)\n",
    "    session_conf = tf.compat.v1.ConfigProto(\n",
    "        intra_op_parallelism_threads=1,\n",
    "        inter_op_parallelism_threads=1\n",
    "    )\n",
    "    sess = tf.compat.v1.Session(graph=tf.compat.v1.get_default_graph(), config=session_conf)\n",
    "    tf.compat.v1.keras.backend.set_session(sess)\n",
    "    \n",
    "def comp_metric(xhat, yhat, fhat, x, y, f):\n",
    "    intermediate = np.sqrt(np.power(xhat-x, 2) + np.power(yhat-y, 2)) + 15 * np.abs(fhat-f)\n",
    "    return intermediate.sum()/xhat.shape[0]\n",
    "\n",
    "def xy_comp_metric(xhat, yhat, x, y):\n",
    "    intermediate = np.sqrt(np.power(xhat-x, 2) + np.power(yhat-y, 2))\n",
    "    return intermediate.sum()/xhat.shape[0]"
   ]
  },
  {
   "cell_type": "code",
   "execution_count": 6,
   "id": "tamil-phase",
   "metadata": {
    "execution": {
     "iopub.execute_input": "2021-04-12T08:09:24.681916Z",
     "iopub.status.busy": "2021-04-12T08:09:24.680840Z",
     "iopub.status.idle": "2021-04-12T08:09:24.758906Z",
     "shell.execute_reply": "2021-04-12T08:09:24.759954Z"
    },
    "papermill": {
     "duration": 0.240328,
     "end_time": "2021-04-12T08:09:24.760177",
     "exception": false,
     "start_time": "2021-04-12T08:09:24.519849",
     "status": "completed"
    },
    "tags": []
   },
   "outputs": [],
   "source": [
    "feature_dir = f\"{base_path}/input/indooruniteddataset\"\n",
    "train_files = sorted(glob.glob(os.path.join(feature_dir, '*_train.csv')))\n",
    "test_files = sorted(glob.glob(os.path.join(feature_dir, '*_test.csv')))\n",
    "subm = pd.read_csv(f'{base_path}/input/indoor-location-navigation/sample_submission.csv', index_col=0)\n",
    "\n",
    "all_sites = sorted(set(pd.DataFrame(subm.index)[\"site_path_timestamp\"].apply(lambda x: x.split(\"_\")[0])))"
   ]
  },
  {
   "cell_type": "code",
   "execution_count": 7,
   "id": "relevant-africa",
   "metadata": {
    "execution": {
     "iopub.execute_input": "2021-04-12T08:09:25.051660Z",
     "iopub.status.busy": "2021-04-12T08:09:25.050852Z",
     "iopub.status.idle": "2021-04-12T08:09:25.052890Z",
     "shell.execute_reply": "2021-04-12T08:09:25.052306Z"
    },
    "papermill": {
     "duration": 0.142556,
     "end_time": "2021-04-12T08:09:25.053054",
     "exception": false,
     "start_time": "2021-04-12T08:09:24.910498",
     "status": "completed"
    },
    "tags": []
   },
   "outputs": [],
   "source": [
    "# floor_train_pred = pd.read_csv(f'{base_path}/input/indoorlgbfloor/floor_prediction_in_train.csv')\n",
    "# floor_test_pred = pd.read_csv(f'{base_path}/input/indoorlgbfloor/submission.csv')"
   ]
  },
  {
   "cell_type": "code",
   "execution_count": 8,
   "id": "institutional-climate",
   "metadata": {
    "execution": {
     "iopub.execute_input": "2021-04-12T08:09:25.306913Z",
     "iopub.status.busy": "2021-04-12T08:09:25.306124Z",
     "iopub.status.idle": "2021-04-12T08:09:25.308162Z",
     "shell.execute_reply": "2021-04-12T08:09:25.307563Z"
    },
    "papermill": {
     "duration": 0.108572,
     "end_time": "2021-04-12T08:09:25.308301",
     "exception": false,
     "start_time": "2021-04-12T08:09:25.199729",
     "status": "completed"
    },
    "tags": []
   },
   "outputs": [],
   "source": [
    "# training target features\n",
    "BSSID_FEATS = [f'bssid_{i}' for i in range(NUM_FEATS)]\n",
    "RSSI_FEATS  = [f'rssi_{i}' for i in range(NUM_FEATS)]"
   ]
  },
  {
   "cell_type": "code",
   "execution_count": 9,
   "id": "curious-coast",
   "metadata": {
    "execution": {
     "iopub.execute_input": "2021-04-12T08:09:25.561801Z",
     "iopub.status.busy": "2021-04-12T08:09:25.561254Z",
     "iopub.status.idle": "2021-04-12T08:09:51.003418Z",
     "shell.execute_reply": "2021-04-12T08:09:51.002911Z"
    },
    "papermill": {
     "duration": 25.573836,
     "end_time": "2021-04-12T08:09:51.003546",
     "exception": false,
     "start_time": "2021-04-12T08:09:25.429710",
     "status": "completed"
    },
    "tags": []
   },
   "outputs": [
    {
     "name": "stderr",
     "output_type": "stream",
     "text": [
      "100%|██████████| 48/48 [00:22<00:00,  2.12it/s]\n",
      "100%|██████████| 24/24 [00:01<00:00, 23.23it/s]\n"
     ]
    }
   ],
   "source": [
    "data = []\n",
    "for i in tqdm(train_files):\n",
    "    tmp = pd.read_csv(i)\n",
    "    tmp[\"site_id\"] = i.split(\"/\")[4].split(\"_\")[0]\n",
    "    #tmp[\"floor_pred\"] = floor_train_pred[floor_train_pred.site == i.split(\"/\")[4].split(\"_\")[0]][\"floor\"].astype(int).values\n",
    "    data.append(tmp)\n",
    "data = pd.concat(data).reset_index(drop=True)\n",
    "\n",
    "test_data = []\n",
    "for i in tqdm(test_files):\n",
    "    tmp = pd.read_csv(i)\n",
    "    tmp[\"site_id\"] = i.split(\"/\")[4].split(\"_\")[0]\n",
    "    #tmp[\"floor_pred\"] = floor_test_pred[floor_test_pred.site_path_timestamp.isin(tmp.site_path_timestamp)][\"floor\"].values\n",
    "    test_data.append(tmp)\n",
    "test_data = pd.concat(test_data).reset_index(drop=True)"
   ]
  },
  {
   "cell_type": "code",
   "execution_count": 10,
   "id": "resident-expert",
   "metadata": {
    "execution": {
     "iopub.execute_input": "2021-04-12T08:09:51.233107Z",
     "iopub.status.busy": "2021-04-12T08:09:51.231928Z",
     "iopub.status.idle": "2021-04-12T08:09:52.350261Z",
     "shell.execute_reply": "2021-04-12T08:09:52.349724Z"
    },
    "papermill": {
     "duration": 1.251778,
     "end_time": "2021-04-12T08:09:52.350400",
     "exception": false,
     "start_time": "2021-04-12T08:09:51.098622",
     "status": "completed"
    },
    "tags": []
   },
   "outputs": [],
   "source": [
    "train_only_index = data[~data.site_id.isin(all_sites)].index\n",
    "normal_index = data[data.site_id.isin(all_sites)].index\n",
    "assert len(set(train_only_index) & set(normal_index)) == 0"
   ]
  },
  {
   "cell_type": "code",
   "execution_count": 11,
   "id": "medium-rocket",
   "metadata": {
    "execution": {
     "iopub.execute_input": "2021-04-12T08:09:52.606840Z",
     "iopub.status.busy": "2021-04-12T08:09:52.586305Z",
     "iopub.status.idle": "2021-04-12T08:09:53.843728Z",
     "shell.execute_reply": "2021-04-12T08:09:53.844316Z"
    },
    "papermill": {
     "duration": 1.398193,
     "end_time": "2021-04-12T08:09:53.844485",
     "exception": false,
     "start_time": "2021-04-12T08:09:52.446292",
     "status": "completed"
    },
    "tags": []
   },
   "outputs": [
    {
     "name": "stdout",
     "output_type": "stream",
     "text": [
      "BSSID TYPES: 54067\n",
      "BSSID TYPES: 25654\n"
     ]
    }
   ],
   "source": [
    "wifi_feat_nums = 60\n",
    "wifi_bssids = []\n",
    "for i in range(wifi_feat_nums):\n",
    "    wifi_bssids.extend(data.iloc[:,i].values.tolist())\n",
    "wifi_bssids = list(set(wifi_bssids))\n",
    "\n",
    "wifi_bssids_size = len(wifi_bssids)\n",
    "print(f'BSSID TYPES: {wifi_bssids_size}')\n",
    "\n",
    "wifi_bssids_test = []\n",
    "for i in range(wifi_feat_nums):\n",
    "    wifi_bssids_test.extend(test_data.iloc[:,i].values.tolist())\n",
    "wifi_bssids_test = list(set(wifi_bssids_test))\n",
    "\n",
    "wifi_bssids_size = len(wifi_bssids_test)\n",
    "print(f'BSSID TYPES: {wifi_bssids_size}')\n",
    "\n",
    "wifi_bssids.extend(wifi_bssids_test)\n",
    "wifi_bssids_size = len(wifi_bssids)"
   ]
  },
  {
   "cell_type": "code",
   "execution_count": 12,
   "id": "passing-compression",
   "metadata": {
    "execution": {
     "iopub.execute_input": "2021-04-12T08:09:54.054747Z",
     "iopub.status.busy": "2021-04-12T08:09:54.053890Z",
     "iopub.status.idle": "2021-04-12T08:09:54.319155Z",
     "shell.execute_reply": "2021-04-12T08:09:54.319614Z"
    },
    "papermill": {
     "duration": 0.379502,
     "end_time": "2021-04-12T08:09:54.319768",
     "exception": false,
     "start_time": "2021-04-12T08:09:53.940266",
     "status": "completed"
    },
    "tags": []
   },
   "outputs": [
    {
     "data": {
      "text/plain": [
       "StandardScaler()"
      ]
     },
     "execution_count": 12,
     "metadata": {},
     "output_type": "execute_result"
    }
   ],
   "source": [
    "# preprocess\n",
    "\n",
    "le = LabelEncoder()\n",
    "le.fit(wifi_bssids)\n",
    "le_site = LabelEncoder()\n",
    "le_site.fit(data['site_id'])\n",
    "\n",
    "ss = StandardScaler()\n",
    "ss.fit(data.loc[:,RSSI_FEATS])"
   ]
  },
  {
   "cell_type": "code",
   "execution_count": 13,
   "id": "jewish-electricity",
   "metadata": {
    "execution": {
     "iopub.execute_input": "2021-04-12T08:09:54.554504Z",
     "iopub.status.busy": "2021-04-12T08:09:54.553366Z",
     "iopub.status.idle": "2021-04-12T08:10:18.307168Z",
     "shell.execute_reply": "2021-04-12T08:10:18.306667Z"
    },
    "papermill": {
     "duration": 23.88613,
     "end_time": "2021-04-12T08:10:18.307302",
     "exception": false,
     "start_time": "2021-04-12T08:09:54.421172",
     "status": "completed"
    },
    "tags": []
   },
   "outputs": [],
   "source": [
    "data.loc[:,RSSI_FEATS] = ss.transform(data.loc[:,RSSI_FEATS])\n",
    "for i in BSSID_FEATS:\n",
    "    data.loc[:,i] = le.transform(data.loc[:,i])\n",
    "    \n",
    "data.loc[:, 'site_id'] = le_site.transform(data.loc[:, 'site_id'])\n",
    "\n",
    "data.loc[:,RSSI_FEATS] = ss.transform(data.loc[:,RSSI_FEATS])"
   ]
  },
  {
   "cell_type": "code",
   "execution_count": 14,
   "id": "rocky-works",
   "metadata": {
    "execution": {
     "iopub.execute_input": "2021-04-12T08:10:18.510525Z",
     "iopub.status.busy": "2021-04-12T08:10:18.509585Z",
     "iopub.status.idle": "2021-04-12T08:10:22.492198Z",
     "shell.execute_reply": "2021-04-12T08:10:22.492624Z"
    },
    "papermill": {
     "duration": 4.086736,
     "end_time": "2021-04-12T08:10:22.492785",
     "exception": false,
     "start_time": "2021-04-12T08:10:18.406049",
     "status": "completed"
    },
    "tags": []
   },
   "outputs": [],
   "source": [
    "test_data.loc[:,RSSI_FEATS] = ss.transform(test_data.loc[:,RSSI_FEATS])\n",
    "for i in BSSID_FEATS:\n",
    "    test_data.loc[:,i] = le.transform(test_data.loc[:,i])\n",
    "    \n",
    "test_data.loc[:, 'site_id'] = le_site.transform(test_data.loc[:, 'site_id'])\n",
    "\n",
    "test_data.loc[:,RSSI_FEATS] = ss.transform(test_data.loc[:,RSSI_FEATS])"
   ]
  },
  {
   "cell_type": "code",
   "execution_count": 15,
   "id": "corresponding-sociology",
   "metadata": {
    "execution": {
     "iopub.execute_input": "2021-04-12T08:10:22.689633Z",
     "iopub.status.busy": "2021-04-12T08:10:22.688866Z",
     "iopub.status.idle": "2021-04-12T08:10:22.693567Z",
     "shell.execute_reply": "2021-04-12T08:10:22.694022Z"
    },
    "papermill": {
     "duration": 0.105489,
     "end_time": "2021-04-12T08:10:22.694176",
     "exception": false,
     "start_time": "2021-04-12T08:10:22.588687",
     "status": "completed"
    },
    "tags": []
   },
   "outputs": [],
   "source": [
    "site_count = len(data['site_id'].unique())\n",
    "data.reset_index(drop=True, inplace=True)"
   ]
  },
  {
   "cell_type": "code",
   "execution_count": 16,
   "id": "organizational-security",
   "metadata": {
    "execution": {
     "iopub.execute_input": "2021-04-12T08:10:22.890208Z",
     "iopub.status.busy": "2021-04-12T08:10:22.889640Z",
     "iopub.status.idle": "2021-04-12T08:10:25.561846Z",
     "shell.execute_reply": "2021-04-12T08:10:25.561341Z"
    },
    "papermill": {
     "duration": 2.772471,
     "end_time": "2021-04-12T08:10:25.561967",
     "exception": false,
     "start_time": "2021-04-12T08:10:22.789496",
     "status": "completed"
    },
    "tags": []
   },
   "outputs": [],
   "source": [
    "set_seed(SEED)"
   ]
  },
  {
   "cell_type": "code",
   "execution_count": 17,
   "id": "coastal-balance",
   "metadata": {
    "execution": {
     "iopub.execute_input": "2021-04-12T08:10:25.771302Z",
     "iopub.status.busy": "2021-04-12T08:10:25.770596Z",
     "iopub.status.idle": "2021-04-12T08:10:26.632508Z",
     "shell.execute_reply": "2021-04-12T08:10:26.632943Z"
    },
    "papermill": {
     "duration": 0.974889,
     "end_time": "2021-04-12T08:10:26.633111",
     "exception": false,
     "start_time": "2021-04-12T08:10:25.658222",
     "status": "completed"
    },
    "tags": []
   },
   "outputs": [
    {
     "data": {
      "text/plain": [
       "((258125, 126), (98658, 126))"
      ]
     },
     "execution_count": 17,
     "metadata": {},
     "output_type": "execute_result"
    }
   ],
   "source": [
    "train_only_data = data[data.index.isin(train_only_index)].copy().reset_index(drop=True)\n",
    "data = data[data.index.isin(normal_index)].copy().reset_index(drop=True)\n",
    "data.shape, train_only_data.shape"
   ]
  },
  {
   "cell_type": "markdown",
   "id": "taken-opera",
   "metadata": {
    "papermill": {
     "duration": 0.103594,
     "end_time": "2021-04-12T08:10:26.835038",
     "exception": false,
     "start_time": "2021-04-12T08:10:26.731444",
     "status": "completed"
    },
    "tags": []
   },
   "source": [
    "# model"
   ]
  },
  {
   "cell_type": "code",
   "execution_count": 18,
   "id": "immediate-bosnia",
   "metadata": {
    "execution": {
     "iopub.execute_input": "2021-04-12T08:10:27.035189Z",
     "iopub.status.busy": "2021-04-12T08:10:27.033208Z",
     "iopub.status.idle": "2021-04-12T08:10:27.035743Z",
     "shell.execute_reply": "2021-04-12T08:10:27.036163Z"
    },
    "papermill": {
     "duration": 0.105223,
     "end_time": "2021-04-12T08:10:27.036298",
     "exception": false,
     "start_time": "2021-04-12T08:10:26.931075",
     "status": "completed"
    },
    "tags": []
   },
   "outputs": [],
   "source": [
    "num_heads = 8\n",
    "bssid_embed_dim = 64\n",
    "site_embed_dim = 2\n",
    "ff_dim = 128 \n",
    "DROPOUT = 0.2\n",
    "maxlen = NUM_FEATS\n",
    "batch_size=256\n",
    "epochs= 40"
   ]
  },
  {
   "cell_type": "code",
   "execution_count": 19,
   "id": "fifty-gates",
   "metadata": {
    "execution": {
     "iopub.execute_input": "2021-04-12T08:10:27.243018Z",
     "iopub.status.busy": "2021-04-12T08:10:27.241283Z",
     "iopub.status.idle": "2021-04-12T08:10:27.243635Z",
     "shell.execute_reply": "2021-04-12T08:10:27.244052Z"
    },
    "papermill": {
     "duration": 0.110555,
     "end_time": "2021-04-12T08:10:27.244181",
     "exception": false,
     "start_time": "2021-04-12T08:10:27.133626",
     "status": "completed"
    },
    "tags": []
   },
   "outputs": [],
   "source": [
    "class TransformerBlock(Layer):\n",
    "    def __init__(self, embed_dim, num_heads, ff_dim, rate=DROPOUT):\n",
    "        super(TransformerBlock, self).__init__()\n",
    "        self.att = MultiHeadAttention(num_heads=num_heads, key_dim=embed_dim)\n",
    "        self.ffn = Sequential(\n",
    "            [Dense(ff_dim, activation=\"relu\"), Dense(embed_dim),]\n",
    "        )\n",
    "        self.layernorm1 = LayerNormalization(epsilon=1e-6)\n",
    "        self.layernorm2 = LayerNormalization(epsilon=1e-6)\n",
    "        self.dropout1 = Dropout(rate)\n",
    "        self.dropout2 = Dropout(rate)\n",
    "\n",
    "    def call(self, inputs, training):\n",
    "        attn_output = self.att(inputs, inputs)\n",
    "        attn_output = self.dropout1(attn_output, training=training)\n",
    "        out1 = self.layernorm1(inputs + attn_output)\n",
    "        ffn_output = self.ffn(out1)\n",
    "        ffn_output = self.dropout2(ffn_output, training=training)\n",
    "        return self.layernorm2(out1 + ffn_output)\n",
    "    \n",
    "class TokenAndPositionEmbedding(Layer):\n",
    "    def __init__(self, maxlen, vocab_size, embed_dim):\n",
    "        super(TokenAndPositionEmbedding, self).__init__()\n",
    "        self.token_emb = Embedding(input_dim=vocab_size, output_dim=embed_dim, mask_zero=True)\n",
    "        self.pos_emb = Embedding(input_dim=maxlen, output_dim=embed_dim)\n",
    "\n",
    "    def call(self, x):\n",
    "        maxlen = tf.shape(x)[-1]\n",
    "        positions = tf.range(start=0, limit=maxlen, delta=1)\n",
    "        positions = self.pos_emb(positions)\n",
    "        x = self.token_emb(x)\n",
    "        return x + positions"
   ]
  },
  {
   "cell_type": "code",
   "execution_count": 20,
   "id": "front-fashion",
   "metadata": {
    "execution": {
     "iopub.execute_input": "2021-04-12T08:10:27.450985Z",
     "iopub.status.busy": "2021-04-12T08:10:27.450283Z",
     "iopub.status.idle": "2021-04-12T08:10:27.453270Z",
     "shell.execute_reply": "2021-04-12T08:10:27.452827Z"
    },
    "papermill": {
     "duration": 0.110604,
     "end_time": "2021-04-12T08:10:27.453385",
     "exception": false,
     "start_time": "2021-04-12T08:10:27.342781",
     "status": "completed"
    },
    "tags": []
   },
   "outputs": [],
   "source": [
    "def create_model(input_data):\n",
    "\n",
    "    # bssid feats\n",
    "    input_dim = input_data[0].shape[1]\n",
    "\n",
    "    input_embd_layer = L.Input(shape=(input_dim,))\n",
    "    x1 = L.Embedding(wifi_bssids_size, bssid_embed_dim)(input_embd_layer)\n",
    "    x1 = L.Flatten()(x1)\n",
    "\n",
    "    # rssi feats\n",
    "    input_dim = input_data[1].shape[1]\n",
    "\n",
    "    input_layer = L.Input(input_dim, )\n",
    "    x2 = L.BatchNormalization()(input_layer)\n",
    "    x2 = L.Dense(NUM_FEATS * 64, activation='relu')(x2)\n",
    "\n",
    "    # site\n",
    "    input_site_layer = L.Input(shape=(1,))\n",
    "    x3 = L.Embedding(site_count, site_embed_dim)(input_site_layer)\n",
    "    x3 = L.Flatten()(x3)\n",
    "\n",
    "    \n",
    "    # main stream\n",
    "    x = L.Concatenate(axis=1)([x1, x3, x2])\n",
    "\n",
    "    x = L.BatchNormalization()(x)\n",
    "    x = L.Dropout(0.3)(x)\n",
    "    x = L.Dense(256, activation='relu')(x)\n",
    "\n",
    "    x = L.Reshape((1, -1))(x)\n",
    "    x = L.BatchNormalization()(x)\n",
    "    x = L.LSTM(128, dropout=0.3, recurrent_dropout=0.3, return_sequences=True, activation='relu')(x)\n",
    "    x = L.LSTM(16, dropout=0.1, return_sequences=False, activation='relu')(x)\n",
    "    \n",
    "    output_layer_1 = L.Dense(2, name='xy')(x)\n",
    "    output_layer_2 = L.Dense(1, activation='softmax', name='floor')(x)\n",
    "\n",
    "    model = M.Model([input_embd_layer, input_layer, input_site_layer], \n",
    "                    [output_layer_1, output_layer_2])\n",
    "\n",
    "    model.compile(optimizer=tf.optimizers.Adam(lr=0.002),\n",
    "                  loss='mse', metrics=['mse'])\n",
    "\n",
    "    return model"
   ]
  },
  {
   "cell_type": "code",
   "execution_count": 21,
   "id": "alive-thermal",
   "metadata": {
    "execution": {
     "iopub.execute_input": "2021-04-12T08:10:27.670013Z",
     "iopub.status.busy": "2021-04-12T08:10:27.669202Z",
     "iopub.status.idle": "2021-04-12T10:38:46.750260Z",
     "shell.execute_reply": "2021-04-12T10:38:46.749654Z"
    },
    "papermill": {
     "duration": 8899.200268,
     "end_time": "2021-04-12T10:38:46.750443",
     "exception": false,
     "start_time": "2021-04-12T08:10:27.550175",
     "status": "completed"
    },
    "tags": []
   },
   "outputs": [
    {
     "name": "stdout",
     "output_type": "stream",
     "text": [
      "Epoch 1/40\n",
      "1193/1193 [==============================] - 86s 68ms/step - loss: 2064.2802 - xy_loss: 2060.9691 - floor_loss: 3.3106 - xy_mse: 2060.9691 - floor_mse: 3.3106 - val_loss: 147.7933 - val_xy_loss: 144.2574 - val_floor_loss: 3.5360 - val_xy_mse: 144.2574 - val_floor_mse: 3.5360\n",
      "\n",
      "Epoch 00001: val_xy_loss improved from inf to 144.25737, saving model to /kaggle/RNN_2021_0.hdf5\n",
      "Epoch 2/40\n",
      "1193/1193 [==============================] - 81s 68ms/step - loss: 179.7252 - xy_loss: 176.4052 - floor_loss: 3.3201 - xy_mse: 176.4052 - floor_mse: 3.3201 - val_loss: 97.6763 - val_xy_loss: 94.1404 - val_floor_loss: 3.5360 - val_xy_mse: 94.1404 - val_floor_mse: 3.5360\n",
      "\n",
      "Epoch 00002: val_xy_loss improved from 144.25737 to 94.14037, saving model to /kaggle/RNN_2021_0.hdf5\n",
      "Epoch 3/40\n",
      "1193/1193 [==============================] - 82s 68ms/step - loss: 148.1359 - xy_loss: 144.8116 - floor_loss: 3.3242 - xy_mse: 144.8116 - floor_mse: 3.3242 - val_loss: 136.9013 - val_xy_loss: 133.3653 - val_floor_loss: 3.5360 - val_xy_mse: 133.3653 - val_floor_mse: 3.5360\n",
      "\n",
      "Epoch 00003: val_xy_loss did not improve from 94.14037\n",
      "Epoch 4/40\n",
      "1193/1193 [==============================] - 81s 68ms/step - loss: 134.8469 - xy_loss: 131.5249 - floor_loss: 3.3220 - xy_mse: 131.5249 - floor_mse: 3.3220 - val_loss: 66.1719 - val_xy_loss: 62.6360 - val_floor_loss: 3.5360 - val_xy_mse: 62.6360 - val_floor_mse: 3.5360\n",
      "\n",
      "Epoch 00004: val_xy_loss improved from 94.14037 to 62.63596, saving model to /kaggle/RNN_2021_0.hdf5\n",
      "Epoch 5/40\n",
      "1193/1193 [==============================] - 80s 67ms/step - loss: 110.8706 - xy_loss: 107.5576 - floor_loss: 3.3130 - xy_mse: 107.5576 - floor_mse: 3.3130 - val_loss: 51.4263 - val_xy_loss: 47.8904 - val_floor_loss: 3.5360 - val_xy_mse: 47.8904 - val_floor_mse: 3.5360\n",
      "\n",
      "Epoch 00005: val_xy_loss improved from 62.63596 to 47.89038, saving model to /kaggle/RNN_2021_0.hdf5\n",
      "Epoch 6/40\n",
      "1193/1193 [==============================] - 84s 71ms/step - loss: 99.7722 - xy_loss: 96.4680 - floor_loss: 3.3042 - xy_mse: 96.4680 - floor_mse: 3.3042 - val_loss: 48.0264 - val_xy_loss: 44.4904 - val_floor_loss: 3.5360 - val_xy_mse: 44.4904 - val_floor_mse: 3.5360\n",
      "\n",
      "Epoch 00006: val_xy_loss improved from 47.89038 to 44.49040, saving model to /kaggle/RNN_2021_0.hdf5\n",
      "Epoch 7/40\n",
      "1193/1193 [==============================] - 81s 68ms/step - loss: 88.2063 - xy_loss: 84.8932 - floor_loss: 3.3131 - xy_mse: 84.8932 - floor_mse: 3.3131 - val_loss: 46.6971 - val_xy_loss: 43.1612 - val_floor_loss: 3.5360 - val_xy_mse: 43.1612 - val_floor_mse: 3.5360\n",
      "\n",
      "Epoch 00007: val_xy_loss improved from 44.49040 to 43.16118, saving model to /kaggle/RNN_2021_0.hdf5\n",
      "Epoch 8/40\n",
      "1193/1193 [==============================] - 82s 69ms/step - loss: 80.0365 - xy_loss: 76.7350 - floor_loss: 3.3014 - xy_mse: 76.7350 - floor_mse: 3.3014 - val_loss: 55.5961 - val_xy_loss: 52.0601 - val_floor_loss: 3.5360 - val_xy_mse: 52.0601 - val_floor_mse: 3.5360\n",
      "\n",
      "Epoch 00008: val_xy_loss did not improve from 43.16118\n",
      "Epoch 9/40\n",
      "1193/1193 [==============================] - 86s 72ms/step - loss: 72.5345 - xy_loss: 69.2109 - floor_loss: 3.3236 - xy_mse: 69.2109 - floor_mse: 3.3236 - val_loss: 44.9087 - val_xy_loss: 41.3727 - val_floor_loss: 3.5360 - val_xy_mse: 41.3727 - val_floor_mse: 3.5360\n",
      "\n",
      "Epoch 00009: val_xy_loss improved from 43.16118 to 41.37269, saving model to /kaggle/RNN_2021_0.hdf5\n",
      "Epoch 10/40\n",
      "1193/1193 [==============================] - 80s 67ms/step - loss: 65.7850 - xy_loss: 62.4598 - floor_loss: 3.3253 - xy_mse: 62.4598 - floor_mse: 3.3253 - val_loss: 65.4064 - val_xy_loss: 61.8704 - val_floor_loss: 3.5360 - val_xy_mse: 61.8704 - val_floor_mse: 3.5360\n",
      "\n",
      "Epoch 00010: val_xy_loss did not improve from 41.37269\n",
      "Epoch 11/40\n",
      "1193/1193 [==============================] - 114s 96ms/step - loss: 61.8662 - xy_loss: 58.5722 - floor_loss: 3.2940 - xy_mse: 58.5722 - floor_mse: 3.2940 - val_loss: 42.7631 - val_xy_loss: 39.2272 - val_floor_loss: 3.5360 - val_xy_mse: 39.2272 - val_floor_mse: 3.5360\n",
      "\n",
      "Epoch 00011: val_xy_loss improved from 41.37269 to 39.22718, saving model to /kaggle/RNN_2021_0.hdf5\n",
      "Epoch 12/40\n",
      "1193/1193 [==============================] - 80s 67ms/step - loss: 54.2266 - xy_loss: 50.9152 - floor_loss: 3.3115 - xy_mse: 50.9152 - floor_mse: 3.3115 - val_loss: 38.1099 - val_xy_loss: 34.5739 - val_floor_loss: 3.5360 - val_xy_mse: 34.5739 - val_floor_mse: 3.5360\n",
      "\n",
      "Epoch 00012: val_xy_loss improved from 39.22718 to 34.57394, saving model to /kaggle/RNN_2021_0.hdf5\n",
      "Epoch 13/40\n",
      "1193/1193 [==============================] - 78s 65ms/step - loss: 50.4038 - xy_loss: 47.0928 - floor_loss: 3.3110 - xy_mse: 47.0928 - floor_mse: 3.3110 - val_loss: 39.7120 - val_xy_loss: 36.1760 - val_floor_loss: 3.5360 - val_xy_mse: 36.1760 - val_floor_mse: 3.5360\n",
      "\n",
      "Epoch 00013: val_xy_loss did not improve from 34.57394\n",
      "Epoch 14/40\n",
      "1193/1193 [==============================] - 81s 68ms/step - loss: 46.6355 - xy_loss: 43.3227 - floor_loss: 3.3128 - xy_mse: 43.3227 - floor_mse: 3.3128 - val_loss: 38.1226 - val_xy_loss: 34.5867 - val_floor_loss: 3.5360 - val_xy_mse: 34.5867 - val_floor_mse: 3.5360\n",
      "\n",
      "Epoch 00014: val_xy_loss did not improve from 34.57394\n",
      "Epoch 15/40\n",
      "1193/1193 [==============================] - 77s 65ms/step - loss: 43.7204 - xy_loss: 40.4117 - floor_loss: 3.3088 - xy_mse: 40.4117 - floor_mse: 3.3088 - val_loss: 93.7394 - val_xy_loss: 90.2035 - val_floor_loss: 3.5360 - val_xy_mse: 90.2035 - val_floor_mse: 3.5360\n",
      "\n",
      "Epoch 00015: ReduceLROnPlateau reducing learning rate to 0.00020000000949949026.\n",
      "\n",
      "Epoch 00015: val_xy_loss did not improve from 34.57394\n",
      "Epoch 16/40\n",
      "1193/1193 [==============================] - 81s 67ms/step - loss: 40.7356 - xy_loss: 37.4083 - floor_loss: 3.3272 - xy_mse: 37.4083 - floor_mse: 3.3272 - val_loss: 28.8590 - val_xy_loss: 25.3230 - val_floor_loss: 3.5360 - val_xy_mse: 25.3230 - val_floor_mse: 3.5360\n",
      "\n",
      "Epoch 00016: val_xy_loss improved from 34.57394 to 25.32299, saving model to /kaggle/RNN_2021_0.hdf5\n",
      "Epoch 17/40\n",
      "1193/1193 [==============================] - 81s 68ms/step - loss: 35.0448 - xy_loss: 31.7422 - floor_loss: 3.3027 - xy_mse: 31.7422 - floor_mse: 3.3027 - val_loss: 31.4919 - val_xy_loss: 27.9559 - val_floor_loss: 3.5360 - val_xy_mse: 27.9559 - val_floor_mse: 3.5360\n",
      "\n",
      "Epoch 00017: val_xy_loss did not improve from 25.32299\n",
      "Epoch 18/40\n",
      "1193/1193 [==============================] - 77s 65ms/step - loss: 34.5400 - xy_loss: 31.2210 - floor_loss: 3.3190 - xy_mse: 31.2210 - floor_mse: 3.3190 - val_loss: 29.6609 - val_xy_loss: 26.1249 - val_floor_loss: 3.5360 - val_xy_mse: 26.1249 - val_floor_mse: 3.5360\n",
      "\n",
      "Epoch 00018: val_xy_loss did not improve from 25.32299\n",
      "Epoch 19/40\n",
      "1193/1193 [==============================] - 82s 68ms/step - loss: 33.5103 - xy_loss: 30.1975 - floor_loss: 3.3128 - xy_mse: 30.1975 - floor_mse: 3.3128 - val_loss: 31.0322 - val_xy_loss: 27.4962 - val_floor_loss: 3.5360 - val_xy_mse: 27.4962 - val_floor_mse: 3.5360\n",
      "\n",
      "Epoch 00019: ReduceLROnPlateau reducing learning rate to 2.0000000949949027e-05.\n",
      "\n",
      "Epoch 00019: val_xy_loss did not improve from 25.32299\n",
      "Epoch 20/40\n",
      "1193/1193 [==============================] - 78s 65ms/step - loss: 32.6123 - xy_loss: 29.2945 - floor_loss: 3.3178 - xy_mse: 29.2945 - floor_mse: 3.3178 - val_loss: 28.4591 - val_xy_loss: 24.9231 - val_floor_loss: 3.5360 - val_xy_mse: 24.9231 - val_floor_mse: 3.5360\n",
      "\n",
      "Epoch 00020: val_xy_loss improved from 25.32299 to 24.92314, saving model to /kaggle/RNN_2021_0.hdf5\n",
      "Epoch 21/40\n",
      "1193/1193 [==============================] - 82s 69ms/step - loss: 32.5620 - xy_loss: 29.2465 - floor_loss: 3.3154 - xy_mse: 29.2465 - floor_mse: 3.3154 - val_loss: 28.8210 - val_xy_loss: 25.2851 - val_floor_loss: 3.5360 - val_xy_mse: 25.2851 - val_floor_mse: 3.5360\n",
      "\n",
      "Epoch 00021: val_xy_loss did not improve from 24.92314\n",
      "Epoch 22/40\n",
      "1193/1193 [==============================] - 80s 67ms/step - loss: 32.5512 - xy_loss: 29.2379 - floor_loss: 3.3132 - xy_mse: 29.2379 - floor_mse: 3.3132 - val_loss: 28.6380 - val_xy_loss: 25.1020 - val_floor_loss: 3.5360 - val_xy_mse: 25.1020 - val_floor_mse: 3.5360\n",
      "\n",
      "Epoch 00022: val_xy_loss did not improve from 24.92314\n",
      "Epoch 23/40\n",
      "1193/1193 [==============================] - 80s 67ms/step - loss: 32.2891 - xy_loss: 28.9792 - floor_loss: 3.3099 - xy_mse: 28.9792 - floor_mse: 3.3099 - val_loss: 28.6347 - val_xy_loss: 25.0987 - val_floor_loss: 3.5360 - val_xy_mse: 25.0987 - val_floor_mse: 3.5360\n",
      "\n",
      "Epoch 00023: ReduceLROnPlateau reducing learning rate to 2.0000001313746906e-06.\n",
      "\n",
      "Epoch 00023: val_xy_loss did not improve from 24.92314\n",
      "Epoch 24/40\n",
      "1193/1193 [==============================] - 82s 69ms/step - loss: 32.2303 - xy_loss: 28.9170 - floor_loss: 3.3133 - xy_mse: 28.9170 - floor_mse: 3.3133 - val_loss: 28.5809 - val_xy_loss: 25.0450 - val_floor_loss: 3.5360 - val_xy_mse: 25.0450 - val_floor_mse: 3.5360\n",
      "\n",
      "Epoch 00024: val_xy_loss did not improve from 24.92314\n",
      "Epoch 25/40\n",
      "1193/1193 [==============================] - 80s 67ms/step - loss: 31.9473 - xy_loss: 28.6517 - floor_loss: 3.2956 - xy_mse: 28.6517 - floor_mse: 3.2956 - val_loss: 28.6634 - val_xy_loss: 25.1275 - val_floor_loss: 3.5360 - val_xy_mse: 25.1275 - val_floor_mse: 3.5360\n",
      "\n",
      "Epoch 00025: val_xy_loss did not improve from 24.92314\n",
      "fold 0: mean position error 27.589399420957683\n",
      "Epoch 1/40\n",
      "1193/1193 [==============================] - 90s 72ms/step - loss: 2256.1688 - xy_loss: 2252.8567 - floor_loss: 3.3109 - xy_mse: 2252.8567 - floor_mse: 3.3109 - val_loss: 133.5536 - val_xy_loss: 130.0178 - val_floor_loss: 3.5358 - val_xy_mse: 130.0178 - val_floor_mse: 3.5358\n",
      "\n",
      "Epoch 00001: val_xy_loss improved from inf to 130.01778, saving model to /kaggle/RNN_2021_1.hdf5\n",
      "Epoch 2/40\n",
      "1193/1193 [==============================] - 81s 67ms/step - loss: 183.1381 - xy_loss: 179.8179 - floor_loss: 3.3202 - xy_mse: 179.8179 - floor_mse: 3.3202 - val_loss: 76.3613 - val_xy_loss: 72.8255 - val_floor_loss: 3.5358 - val_xy_mse: 72.8255 - val_floor_mse: 3.5358\n",
      "\n",
      "Epoch 00002: val_xy_loss improved from 130.01778 to 72.82545, saving model to /kaggle/RNN_2021_1.hdf5\n",
      "Epoch 3/40\n",
      "1193/1193 [==============================] - 80s 67ms/step - loss: 152.4724 - xy_loss: 149.1480 - floor_loss: 3.3244 - xy_mse: 149.1480 - floor_mse: 3.3244 - val_loss: 59.5184 - val_xy_loss: 55.9825 - val_floor_loss: 3.5358 - val_xy_mse: 55.9825 - val_floor_mse: 3.5358\n",
      "\n",
      "Epoch 00003: val_xy_loss improved from 72.82545 to 55.98252, saving model to /kaggle/RNN_2021_1.hdf5\n",
      "Epoch 4/40\n",
      "1193/1193 [==============================] - 83s 70ms/step - loss: 130.8042 - xy_loss: 127.4821 - floor_loss: 3.3221 - xy_mse: 127.4821 - floor_mse: 3.3221 - val_loss: 72.0037 - val_xy_loss: 68.4679 - val_floor_loss: 3.5358 - val_xy_mse: 68.4679 - val_floor_mse: 3.5358\n",
      "\n",
      "Epoch 00004: val_xy_loss did not improve from 55.98252\n",
      "Epoch 5/40\n",
      "1193/1193 [==============================] - 77s 64ms/step - loss: 116.6341 - xy_loss: 113.3211 - floor_loss: 3.3130 - xy_mse: 113.3211 - floor_mse: 3.3130 - val_loss: 94.3914 - val_xy_loss: 90.8555 - val_floor_loss: 3.5358 - val_xy_mse: 90.8555 - val_floor_mse: 3.5358\n",
      "\n",
      "Epoch 00005: val_xy_loss did not improve from 55.98252\n",
      "Epoch 6/40\n",
      "1193/1193 [==============================] - 84s 70ms/step - loss: 107.3496 - xy_loss: 104.0454 - floor_loss: 3.3043 - xy_mse: 104.0454 - floor_mse: 3.3043 - val_loss: 48.3032 - val_xy_loss: 44.7674 - val_floor_loss: 3.5358 - val_xy_mse: 44.7674 - val_floor_mse: 3.5358\n",
      "\n",
      "Epoch 00006: val_xy_loss improved from 55.98252 to 44.76737, saving model to /kaggle/RNN_2021_1.hdf5\n",
      "Epoch 7/40\n",
      "1193/1193 [==============================] - 78s 65ms/step - loss: 92.7255 - xy_loss: 89.4124 - floor_loss: 3.3131 - xy_mse: 89.4124 - floor_mse: 3.3131 - val_loss: 55.4351 - val_xy_loss: 51.8993 - val_floor_loss: 3.5358 - val_xy_mse: 51.8993 - val_floor_mse: 3.5358\n",
      "\n",
      "Epoch 00007: val_xy_loss did not improve from 44.76737\n",
      "Epoch 8/40\n",
      "1193/1193 [==============================] - 85s 71ms/step - loss: 84.7963 - xy_loss: 81.4948 - floor_loss: 3.3014 - xy_mse: 81.4948 - floor_mse: 3.3014 - val_loss: 39.6526 - val_xy_loss: 36.1168 - val_floor_loss: 3.5358 - val_xy_mse: 36.1168 - val_floor_mse: 3.5358\n",
      "\n",
      "Epoch 00008: val_xy_loss improved from 44.76737 to 36.11679, saving model to /kaggle/RNN_2021_1.hdf5\n",
      "Epoch 9/40\n",
      "1193/1193 [==============================] - 78s 66ms/step - loss: 76.2855 - xy_loss: 72.9618 - floor_loss: 3.3237 - xy_mse: 72.9618 - floor_mse: 3.3237 - val_loss: 38.6163 - val_xy_loss: 35.0804 - val_floor_loss: 3.5358 - val_xy_mse: 35.0804 - val_floor_mse: 3.5358\n",
      "\n",
      "Epoch 00009: val_xy_loss improved from 36.11679 to 35.08042, saving model to /kaggle/RNN_2021_1.hdf5\n",
      "Epoch 10/40\n",
      "1193/1193 [==============================] - 85s 71ms/step - loss: 70.1607 - xy_loss: 66.8354 - floor_loss: 3.3254 - xy_mse: 66.8354 - floor_mse: 3.3254 - val_loss: 59.5522 - val_xy_loss: 56.0164 - val_floor_loss: 3.5358 - val_xy_mse: 56.0164 - val_floor_mse: 3.5358\n",
      "\n",
      "Epoch 00010: val_xy_loss did not improve from 35.08042\n",
      "Epoch 11/40\n",
      "1193/1193 [==============================] - 82s 69ms/step - loss: 64.1659 - xy_loss: 60.8720 - floor_loss: 3.2939 - xy_mse: 60.8720 - floor_mse: 3.2939 - val_loss: 35.5091 - val_xy_loss: 31.9732 - val_floor_loss: 3.5358 - val_xy_mse: 31.9732 - val_floor_mse: 3.5358\n",
      "\n",
      "Epoch 00011: val_xy_loss improved from 35.08042 to 31.97323, saving model to /kaggle/RNN_2021_1.hdf5\n",
      "Epoch 12/40\n",
      "1193/1193 [==============================] - 81s 68ms/step - loss: 57.6096 - xy_loss: 54.2983 - floor_loss: 3.3113 - xy_mse: 54.2983 - floor_mse: 3.3113 - val_loss: 57.5657 - val_xy_loss: 54.0298 - val_floor_loss: 3.5358 - val_xy_mse: 54.0298 - val_floor_mse: 3.5358\n",
      "\n",
      "Epoch 00012: val_xy_loss did not improve from 31.97323\n",
      "Epoch 13/40\n",
      "1193/1193 [==============================] - 86s 72ms/step - loss: 53.2908 - xy_loss: 49.9799 - floor_loss: 3.3109 - xy_mse: 49.9799 - floor_mse: 3.3109 - val_loss: 39.1726 - val_xy_loss: 35.6368 - val_floor_loss: 3.5358 - val_xy_mse: 35.6368 - val_floor_mse: 3.5358\n",
      "\n",
      "Epoch 00013: val_xy_loss did not improve from 31.97323\n",
      "Epoch 14/40\n",
      "1193/1193 [==============================] - 78s 65ms/step - loss: 49.1529 - xy_loss: 45.8402 - floor_loss: 3.3127 - xy_mse: 45.8402 - floor_mse: 3.3127 - val_loss: 46.0677 - val_xy_loss: 42.5318 - val_floor_loss: 3.5358 - val_xy_mse: 42.5318 - val_floor_mse: 3.5358\n",
      "\n",
      "Epoch 00014: ReduceLROnPlateau reducing learning rate to 0.00020000000949949026.\n",
      "\n",
      "Epoch 00014: val_xy_loss did not improve from 31.97323\n",
      "Epoch 15/40\n",
      "1193/1193 [==============================] - 78s 66ms/step - loss: 42.8830 - xy_loss: 39.5742 - floor_loss: 3.3088 - xy_mse: 39.5742 - floor_mse: 3.3088 - val_loss: 33.9527 - val_xy_loss: 30.4168 - val_floor_loss: 3.5358 - val_xy_mse: 30.4168 - val_floor_mse: 3.5358\n",
      "\n",
      "Epoch 00015: val_xy_loss improved from 31.97323 to 30.41684, saving model to /kaggle/RNN_2021_1.hdf5\n",
      "Epoch 16/40\n",
      "1193/1193 [==============================] - 81s 68ms/step - loss: 41.3893 - xy_loss: 38.0619 - floor_loss: 3.3274 - xy_mse: 38.0619 - floor_mse: 3.3274 - val_loss: 37.1701 - val_xy_loss: 33.6342 - val_floor_loss: 3.5358 - val_xy_mse: 33.6342 - val_floor_mse: 3.5358\n",
      "\n",
      "Epoch 00016: val_xy_loss did not improve from 30.41684\n",
      "Epoch 17/40\n",
      "1193/1193 [==============================] - 84s 70ms/step - loss: 39.4327 - xy_loss: 36.1300 - floor_loss: 3.3027 - xy_mse: 36.1300 - floor_mse: 3.3027 - val_loss: 37.6094 - val_xy_loss: 34.0735 - val_floor_loss: 3.5358 - val_xy_mse: 34.0735 - val_floor_mse: 3.5358\n",
      "\n",
      "Epoch 00017: val_xy_loss did not improve from 30.41684\n",
      "Epoch 18/40\n",
      "1193/1193 [==============================] - 76s 64ms/step - loss: 38.9302 - xy_loss: 35.6111 - floor_loss: 3.3191 - xy_mse: 35.6111 - floor_mse: 3.3191 - val_loss: 35.2660 - val_xy_loss: 31.7302 - val_floor_loss: 3.5358 - val_xy_mse: 31.7302 - val_floor_mse: 3.5358\n",
      "\n",
      "Epoch 00018: ReduceLROnPlateau reducing learning rate to 2.0000000949949027e-05.\n",
      "\n",
      "Epoch 00018: val_xy_loss did not improve from 30.41684\n",
      "Epoch 19/40\n",
      "1193/1193 [==============================] - 75s 63ms/step - loss: 37.4586 - xy_loss: 34.1459 - floor_loss: 3.3127 - xy_mse: 34.1459 - floor_mse: 3.3127 - val_loss: 35.8007 - val_xy_loss: 32.2649 - val_floor_loss: 3.5358 - val_xy_mse: 32.2649 - val_floor_mse: 3.5358\n",
      "\n",
      "Epoch 00019: val_xy_loss did not improve from 30.41684\n",
      "Epoch 20/40\n",
      "1193/1193 [==============================] - 87s 73ms/step - loss: 37.6518 - xy_loss: 34.3340 - floor_loss: 3.3178 - xy_mse: 34.3340 - floor_mse: 3.3178 - val_loss: 35.8648 - val_xy_loss: 32.3290 - val_floor_loss: 3.5358 - val_xy_mse: 32.3290 - val_floor_mse: 3.5358\n",
      "\n",
      "Epoch 00020: val_xy_loss did not improve from 30.41684\n",
      "fold 1: mean position error 28.281356311929848\n",
      "Epoch 1/40\n",
      "1193/1193 [==============================] - 81s 64ms/step - loss: 2260.0899 - xy_loss: 2256.7771 - floor_loss: 3.3107 - xy_mse: 2256.7771 - floor_mse: 3.3107 - val_loss: 147.2128 - val_xy_loss: 143.6762 - val_floor_loss: 3.5366 - val_xy_mse: 143.6762 - val_floor_mse: 3.5366\n",
      "\n",
      "Epoch 00001: val_xy_loss improved from inf to 143.67619, saving model to /kaggle/RNN_2021_2.hdf5\n",
      "Epoch 2/40\n",
      "1193/1193 [==============================] - 77s 65ms/step - loss: 189.2487 - xy_loss: 185.9287 - floor_loss: 3.3201 - xy_mse: 185.9287 - floor_mse: 3.3201 - val_loss: 84.5036 - val_xy_loss: 80.9670 - val_floor_loss: 3.5366 - val_xy_mse: 80.9670 - val_floor_mse: 3.5366\n",
      "\n",
      "Epoch 00002: val_xy_loss improved from 143.67619 to 80.96700, saving model to /kaggle/RNN_2021_2.hdf5\n",
      "Epoch 3/40\n",
      "1193/1193 [==============================] - 84s 70ms/step - loss: 155.5533 - xy_loss: 152.2290 - floor_loss: 3.3243 - xy_mse: 152.2290 - floor_mse: 3.3243 - val_loss: 57.3770 - val_xy_loss: 53.8403 - val_floor_loss: 3.5366 - val_xy_mse: 53.8403 - val_floor_mse: 3.5366\n",
      "\n",
      "Epoch 00003: val_xy_loss improved from 80.96700 to 53.84035, saving model to /kaggle/RNN_2021_2.hdf5\n",
      "Epoch 4/40\n",
      "1193/1193 [==============================] - 81s 68ms/step - loss: 135.6939 - xy_loss: 132.3718 - floor_loss: 3.3220 - xy_mse: 132.3718 - floor_mse: 3.3220 - val_loss: 81.3524 - val_xy_loss: 77.8157 - val_floor_loss: 3.5366 - val_xy_mse: 77.8157 - val_floor_mse: 3.5366\n",
      "\n",
      "Epoch 00004: val_xy_loss did not improve from 53.84035\n",
      "Epoch 5/40\n",
      "1193/1193 [==============================] - 77s 64ms/step - loss: 119.4469 - xy_loss: 116.1340 - floor_loss: 3.3129 - xy_mse: 116.1340 - floor_mse: 3.3129 - val_loss: 118.7243 - val_xy_loss: 115.1877 - val_floor_loss: 3.5366 - val_xy_mse: 115.1877 - val_floor_mse: 3.5366\n",
      "\n",
      "Epoch 00005: val_xy_loss did not improve from 53.84035\n",
      "Epoch 6/40\n",
      "1193/1193 [==============================] - 78s 65ms/step - loss: 116.7964 - xy_loss: 113.4923 - floor_loss: 3.3041 - xy_mse: 113.4923 - floor_mse: 3.3041 - val_loss: 47.8994 - val_xy_loss: 44.3627 - val_floor_loss: 3.5366 - val_xy_mse: 44.3627 - val_floor_mse: 3.5366\n",
      "\n",
      "Epoch 00006: val_xy_loss improved from 53.84035 to 44.36273, saving model to /kaggle/RNN_2021_2.hdf5\n",
      "Epoch 7/40\n",
      "1193/1193 [==============================] - 90s 75ms/step - loss: 95.8100 - xy_loss: 92.4972 - floor_loss: 3.3128 - xy_mse: 92.4972 - floor_mse: 3.3128 - val_loss: 98.1146 - val_xy_loss: 94.5779 - val_floor_loss: 3.5366 - val_xy_mse: 94.5779 - val_floor_mse: 3.5366\n",
      "\n",
      "Epoch 00007: val_xy_loss did not improve from 44.36273\n",
      "Epoch 8/40\n",
      "1193/1193 [==============================] - 76s 64ms/step - loss: 88.1286 - xy_loss: 84.8274 - floor_loss: 3.3013 - xy_mse: 84.8274 - floor_mse: 3.3013 - val_loss: 61.1608 - val_xy_loss: 57.6242 - val_floor_loss: 3.5366 - val_xy_mse: 57.6242 - val_floor_mse: 3.5366\n",
      "\n",
      "Epoch 00008: val_xy_loss did not improve from 44.36273\n",
      "Epoch 9/40\n",
      "1193/1193 [==============================] - 79s 66ms/step - loss: 80.5366 - xy_loss: 77.2130 - floor_loss: 3.3236 - xy_mse: 77.2130 - floor_mse: 3.3236 - val_loss: 54.5202 - val_xy_loss: 50.9836 - val_floor_loss: 3.5366 - val_xy_mse: 50.9836 - val_floor_mse: 3.5366\n",
      "\n",
      "Epoch 00009: ReduceLROnPlateau reducing learning rate to 0.00020000000949949026.\n",
      "\n",
      "Epoch 00009: val_xy_loss did not improve from 44.36273\n",
      "Epoch 10/40\n",
      "1193/1193 [==============================] - 88s 74ms/step - loss: 64.6570 - xy_loss: 61.3316 - floor_loss: 3.3253 - xy_mse: 61.3316 - floor_mse: 3.3253 - val_loss: 57.9040 - val_xy_loss: 54.3674 - val_floor_loss: 3.5366 - val_xy_mse: 54.3674 - val_floor_mse: 3.5366\n",
      "\n",
      "Epoch 00010: val_xy_loss did not improve from 44.36273\n",
      "Epoch 11/40\n",
      "1193/1193 [==============================] - 81s 68ms/step - loss: 60.2114 - xy_loss: 56.9176 - floor_loss: 3.2938 - xy_mse: 56.9176 - floor_mse: 3.2938 - val_loss: 58.1390 - val_xy_loss: 54.6024 - val_floor_loss: 3.5366 - val_xy_mse: 54.6024 - val_floor_mse: 3.5366\n",
      "\n",
      "Epoch 00011: val_xy_loss did not improve from 44.36273\n",
      "fold 2: mean position error 29.66223394835197\n",
      "Epoch 1/40\n",
      "1193/1193 [==============================] - 83s 66ms/step - loss: 2238.3022 - xy_loss: 2234.9912 - floor_loss: 3.3107 - xy_mse: 2234.9912 - floor_mse: 3.3107 - val_loss: 144.4216 - val_xy_loss: 140.8849 - val_floor_loss: 3.5367 - val_xy_mse: 140.8849 - val_floor_mse: 3.5367\n",
      "\n",
      "Epoch 00001: val_xy_loss improved from inf to 140.88487, saving model to /kaggle/RNN_2021_3.hdf5\n",
      "Epoch 2/40\n",
      "1193/1193 [==============================] - 79s 66ms/step - loss: 184.7907 - xy_loss: 181.4708 - floor_loss: 3.3200 - xy_mse: 181.4708 - floor_mse: 3.3200 - val_loss: 82.4002 - val_xy_loss: 78.8634 - val_floor_loss: 3.5367 - val_xy_mse: 78.8634 - val_floor_mse: 3.5367\n",
      "\n",
      "Epoch 00002: val_xy_loss improved from 140.88487 to 78.86343, saving model to /kaggle/RNN_2021_3.hdf5\n",
      "Epoch 3/40\n",
      "1193/1193 [==============================] - 96s 81ms/step - loss: 155.7003 - xy_loss: 152.3760 - floor_loss: 3.3243 - xy_mse: 152.3760 - floor_mse: 3.3243 - val_loss: 58.9179 - val_xy_loss: 55.3812 - val_floor_loss: 3.5367 - val_xy_mse: 55.3812 - val_floor_mse: 3.5367\n",
      "\n",
      "Epoch 00003: val_xy_loss improved from 78.86343 to 55.38122, saving model to /kaggle/RNN_2021_3.hdf5\n",
      "Epoch 4/40\n",
      "1193/1193 [==============================] - 82s 68ms/step - loss: 138.1511 - xy_loss: 134.8290 - floor_loss: 3.3221 - xy_mse: 134.8290 - floor_mse: 3.3221 - val_loss: 58.6153 - val_xy_loss: 55.0786 - val_floor_loss: 3.5367 - val_xy_mse: 55.0786 - val_floor_mse: 3.5367\n",
      "\n",
      "Epoch 00004: val_xy_loss improved from 55.38122 to 55.07859, saving model to /kaggle/RNN_2021_3.hdf5\n",
      "Epoch 5/40\n",
      "1193/1193 [==============================] - 82s 69ms/step - loss: 122.5954 - xy_loss: 119.2825 - floor_loss: 3.3129 - xy_mse: 119.2825 - floor_mse: 3.3129 - val_loss: 58.0853 - val_xy_loss: 54.5486 - val_floor_loss: 3.5367 - val_xy_mse: 54.5486 - val_floor_mse: 3.5367\n",
      "\n",
      "Epoch 00005: val_xy_loss improved from 55.07859 to 54.54856, saving model to /kaggle/RNN_2021_3.hdf5\n",
      "Epoch 6/40\n",
      "1193/1193 [==============================] - 95s 80ms/step - loss: 114.6207 - xy_loss: 111.3166 - floor_loss: 3.3041 - xy_mse: 111.3166 - floor_mse: 3.3041 - val_loss: 52.0966 - val_xy_loss: 48.5599 - val_floor_loss: 3.5367 - val_xy_mse: 48.5599 - val_floor_mse: 3.5367\n",
      "\n",
      "Epoch 00006: val_xy_loss improved from 54.54856 to 48.55991, saving model to /kaggle/RNN_2021_3.hdf5\n",
      "Epoch 7/40\n",
      "1193/1193 [==============================] - 82s 69ms/step - loss: 97.6226 - xy_loss: 94.3098 - floor_loss: 3.3128 - xy_mse: 94.3098 - floor_mse: 3.3128 - val_loss: 78.5015 - val_xy_loss: 74.9648 - val_floor_loss: 3.5367 - val_xy_mse: 74.9648 - val_floor_mse: 3.5367\n",
      "\n",
      "Epoch 00007: val_xy_loss did not improve from 48.55991\n",
      "Epoch 8/40\n",
      "1193/1193 [==============================] - 82s 69ms/step - loss: 90.6673 - xy_loss: 87.3662 - floor_loss: 3.3011 - xy_mse: 87.3662 - floor_mse: 3.3011 - val_loss: 48.9379 - val_xy_loss: 45.4012 - val_floor_loss: 3.5367 - val_xy_mse: 45.4012 - val_floor_mse: 3.5367\n",
      "\n",
      "Epoch 00008: val_xy_loss improved from 48.55991 to 45.40117, saving model to /kaggle/RNN_2021_3.hdf5\n",
      "Epoch 9/40\n",
      "1193/1193 [==============================] - 87s 73ms/step - loss: 81.9802 - xy_loss: 78.6566 - floor_loss: 3.3236 - xy_mse: 78.6566 - floor_mse: 3.3236 - val_loss: 66.9259 - val_xy_loss: 63.3892 - val_floor_loss: 3.5367 - val_xy_mse: 63.3892 - val_floor_mse: 3.5367\n",
      "\n",
      "Epoch 00009: val_xy_loss did not improve from 45.40117\n",
      "Epoch 10/40\n",
      "1193/1193 [==============================] - 93s 78ms/step - loss: 75.8135 - xy_loss: 72.4882 - floor_loss: 3.3254 - xy_mse: 72.4882 - floor_mse: 3.3254 - val_loss: 41.0500 - val_xy_loss: 37.5133 - val_floor_loss: 3.5367 - val_xy_mse: 37.5133 - val_floor_mse: 3.5367\n",
      "\n",
      "Epoch 00010: val_xy_loss improved from 45.40117 to 37.51327, saving model to /kaggle/RNN_2021_3.hdf5\n",
      "Epoch 11/40\n",
      "1193/1193 [==============================] - 77s 65ms/step - loss: 69.2403 - xy_loss: 65.9464 - floor_loss: 3.2939 - xy_mse: 65.9464 - floor_mse: 3.2939 - val_loss: 77.0973 - val_xy_loss: 73.5606 - val_floor_loss: 3.5367 - val_xy_mse: 73.5606 - val_floor_mse: 3.5367\n",
      "\n",
      "Epoch 00011: val_xy_loss did not improve from 37.51327\n",
      "Epoch 12/40\n",
      "1193/1193 [==============================] - 80s 67ms/step - loss: 63.6771 - xy_loss: 60.3658 - floor_loss: 3.3113 - xy_mse: 60.3658 - floor_mse: 3.3113 - val_loss: 80.0112 - val_xy_loss: 76.4745 - val_floor_loss: 3.5367 - val_xy_mse: 76.4745 - val_floor_mse: 3.5367\n",
      "\n",
      "Epoch 00012: val_xy_loss did not improve from 37.51327\n",
      "Epoch 13/40\n",
      "1193/1193 [==============================] - 95s 80ms/step - loss: 57.7933 - xy_loss: 54.4825 - floor_loss: 3.3108 - xy_mse: 54.4825 - floor_mse: 3.3108 - val_loss: 81.1533 - val_xy_loss: 77.6166 - val_floor_loss: 3.5367 - val_xy_mse: 77.6166 - val_floor_mse: 3.5367\n",
      "\n",
      "Epoch 00013: ReduceLROnPlateau reducing learning rate to 0.00020000000949949026.\n",
      "\n",
      "Epoch 00013: val_xy_loss did not improve from 37.51327\n",
      "Epoch 14/40\n",
      "1193/1193 [==============================] - 77s 65ms/step - loss: 47.6753 - xy_loss: 44.3628 - floor_loss: 3.3126 - xy_mse: 44.3628 - floor_mse: 3.3126 - val_loss: 48.3244 - val_xy_loss: 44.7877 - val_floor_loss: 3.5367 - val_xy_mse: 44.7877 - val_floor_mse: 3.5367\n",
      "\n",
      "Epoch 00014: val_xy_loss did not improve from 37.51327\n",
      "Epoch 15/40\n",
      "1193/1193 [==============================] - 79s 66ms/step - loss: 45.0370 - xy_loss: 41.7284 - floor_loss: 3.3087 - xy_mse: 41.7284 - floor_mse: 3.3087 - val_loss: 39.6521 - val_xy_loss: 36.1153 - val_floor_loss: 3.5367 - val_xy_mse: 36.1153 - val_floor_mse: 3.5367\n",
      "\n",
      "Epoch 00015: val_xy_loss improved from 37.51327 to 36.11534, saving model to /kaggle/RNN_2021_3.hdf5\n",
      "Epoch 16/40\n",
      "1193/1193 [==============================] - 84s 70ms/step - loss: 43.9102 - xy_loss: 40.5830 - floor_loss: 3.3272 - xy_mse: 40.5830 - floor_mse: 3.3272 - val_loss: 46.5280 - val_xy_loss: 42.9912 - val_floor_loss: 3.5367 - val_xy_mse: 42.9912 - val_floor_mse: 3.5367\n",
      "\n",
      "Epoch 00016: val_xy_loss did not improve from 36.11534\n",
      "Epoch 17/40\n",
      "1193/1193 [==============================] - 96s 80ms/step - loss: 42.8329 - xy_loss: 39.5303 - floor_loss: 3.3026 - xy_mse: 39.5303 - floor_mse: 3.3026 - val_loss: 57.5063 - val_xy_loss: 53.9696 - val_floor_loss: 3.5367 - val_xy_mse: 53.9696 - val_floor_mse: 3.5367\n",
      "\n",
      "Epoch 00017: val_xy_loss did not improve from 36.11534\n",
      "Epoch 18/40\n",
      "1193/1193 [==============================] - 77s 65ms/step - loss: 42.5435 - xy_loss: 39.2245 - floor_loss: 3.3190 - xy_mse: 39.2245 - floor_mse: 3.3190 - val_loss: 50.5360 - val_xy_loss: 46.9993 - val_floor_loss: 3.5367 - val_xy_mse: 46.9993 - val_floor_mse: 3.5367\n",
      "\n",
      "Epoch 00018: ReduceLROnPlateau reducing learning rate to 2.0000000949949027e-05.\n",
      "\n",
      "Epoch 00018: val_xy_loss did not improve from 36.11534\n",
      "Epoch 19/40\n",
      "1193/1193 [==============================] - 78s 66ms/step - loss: 41.2202 - xy_loss: 37.9077 - floor_loss: 3.3125 - xy_mse: 37.9077 - floor_mse: 3.3125 - val_loss: 49.8928 - val_xy_loss: 46.3561 - val_floor_loss: 3.5367 - val_xy_mse: 46.3561 - val_floor_mse: 3.5367\n",
      "\n",
      "Epoch 00019: val_xy_loss did not improve from 36.11534\n",
      "Epoch 20/40\n",
      "1193/1193 [==============================] - 98s 82ms/step - loss: 40.9318 - xy_loss: 37.6141 - floor_loss: 3.3177 - xy_mse: 37.6141 - floor_mse: 3.3177 - val_loss: 50.7039 - val_xy_loss: 47.1672 - val_floor_loss: 3.5367 - val_xy_mse: 47.1672 - val_floor_mse: 3.5367\n",
      "\n",
      "Epoch 00020: val_xy_loss did not improve from 36.11534\n",
      "fold 3: mean position error 28.843860687901174\n",
      "Epoch 1/40\n",
      "1193/1193 [==============================] - 86s 68ms/step - loss: 2316.4771 - xy_loss: 2313.1666 - floor_loss: 3.3106 - xy_mse: 2313.1666 - floor_mse: 3.3106 - val_loss: 173.8916 - val_xy_loss: 170.3550 - val_floor_loss: 3.5366 - val_xy_mse: 170.3550 - val_floor_mse: 3.5366\n",
      "\n",
      "Epoch 00001: val_xy_loss improved from inf to 170.35504, saving model to /kaggle/RNN_2021_4.hdf5\n",
      "Epoch 2/40\n",
      "1193/1193 [==============================] - 80s 67ms/step - loss: 188.8583 - xy_loss: 185.5386 - floor_loss: 3.3198 - xy_mse: 185.5386 - floor_mse: 3.3198 - val_loss: 69.5472 - val_xy_loss: 66.0107 - val_floor_loss: 3.5366 - val_xy_mse: 66.0107 - val_floor_mse: 3.5366\n",
      "\n",
      "Epoch 00002: val_xy_loss improved from 170.35504 to 66.01067, saving model to /kaggle/RNN_2021_4.hdf5\n",
      "Epoch 3/40\n",
      "1193/1193 [==============================] - 79s 67ms/step - loss: 157.3107 - xy_loss: 153.9866 - floor_loss: 3.3240 - xy_mse: 153.9866 - floor_mse: 3.3240 - val_loss: 61.2778 - val_xy_loss: 57.7412 - val_floor_loss: 3.5366 - val_xy_mse: 57.7412 - val_floor_mse: 3.5366\n",
      "\n",
      "Epoch 00003: val_xy_loss improved from 66.01067 to 57.74121, saving model to /kaggle/RNN_2021_4.hdf5\n",
      "Epoch 4/40\n",
      "1193/1193 [==============================] - 80s 67ms/step - loss: 143.9148 - xy_loss: 140.5929 - floor_loss: 3.3220 - xy_mse: 140.5929 - floor_mse: 3.3220 - val_loss: 71.3182 - val_xy_loss: 67.7817 - val_floor_loss: 3.5366 - val_xy_mse: 67.7817 - val_floor_mse: 3.5366\n",
      "\n",
      "Epoch 00004: val_xy_loss did not improve from 57.74121\n",
      "Epoch 5/40\n",
      "1193/1193 [==============================] - 80s 67ms/step - loss: 125.2812 - xy_loss: 121.9684 - floor_loss: 3.3128 - xy_mse: 121.9684 - floor_mse: 3.3128 - val_loss: 72.8995 - val_xy_loss: 69.3629 - val_floor_loss: 3.5366 - val_xy_mse: 69.3629 - val_floor_mse: 3.5366\n",
      "\n",
      "Epoch 00005: val_xy_loss did not improve from 57.74121\n",
      "Epoch 6/40\n",
      "1193/1193 [==============================] - 89s 74ms/step - loss: 117.2295 - xy_loss: 113.9254 - floor_loss: 3.3041 - xy_mse: 113.9254 - floor_mse: 3.3041 - val_loss: 48.2570 - val_xy_loss: 44.7204 - val_floor_loss: 3.5366 - val_xy_mse: 44.7204 - val_floor_mse: 3.5366\n",
      "\n",
      "Epoch 00006: val_xy_loss improved from 57.74121 to 44.72040, saving model to /kaggle/RNN_2021_4.hdf5\n",
      "Epoch 7/40\n",
      "1193/1193 [==============================] - 91s 76ms/step - loss: 103.4335 - xy_loss: 100.1207 - floor_loss: 3.3128 - xy_mse: 100.1207 - floor_mse: 3.3128 - val_loss: 45.8895 - val_xy_loss: 42.3530 - val_floor_loss: 3.5366 - val_xy_mse: 42.3530 - val_floor_mse: 3.5366\n",
      "\n",
      "Epoch 00007: val_xy_loss improved from 44.72040 to 42.35299, saving model to /kaggle/RNN_2021_4.hdf5\n",
      "Epoch 8/40\n",
      "1193/1193 [==============================] - 80s 67ms/step - loss: 96.7339 - xy_loss: 93.4329 - floor_loss: 3.3010 - xy_mse: 93.4329 - floor_mse: 3.3010 - val_loss: 50.9433 - val_xy_loss: 47.4068 - val_floor_loss: 3.5366 - val_xy_mse: 47.4068 - val_floor_mse: 3.5366\n",
      "\n",
      "Epoch 00008: val_xy_loss did not improve from 42.35299\n",
      "Epoch 9/40\n",
      "1193/1193 [==============================] - 80s 67ms/step - loss: 88.5098 - xy_loss: 85.1861 - floor_loss: 3.3237 - xy_mse: 85.1861 - floor_mse: 3.3237 - val_loss: 43.6956 - val_xy_loss: 40.1590 - val_floor_loss: 3.5366 - val_xy_mse: 40.1590 - val_floor_mse: 3.5366\n",
      "\n",
      "Epoch 00009: val_xy_loss improved from 42.35299 to 40.15905, saving model to /kaggle/RNN_2021_4.hdf5\n",
      "Epoch 10/40\n",
      "1193/1193 [==============================] - 81s 68ms/step - loss: 82.0051 - xy_loss: 78.6796 - floor_loss: 3.3254 - xy_mse: 78.6796 - floor_mse: 3.3254 - val_loss: 38.5056 - val_xy_loss: 34.9691 - val_floor_loss: 3.5366 - val_xy_mse: 34.9691 - val_floor_mse: 3.5366\n",
      "\n",
      "Epoch 00010: val_xy_loss improved from 40.15905 to 34.96907, saving model to /kaggle/RNN_2021_4.hdf5\n",
      "Epoch 11/40\n",
      "1193/1193 [==============================] - 81s 68ms/step - loss: 75.6338 - xy_loss: 72.3398 - floor_loss: 3.2940 - xy_mse: 72.3398 - floor_mse: 3.2940 - val_loss: 44.4196 - val_xy_loss: 40.8831 - val_floor_loss: 3.5366 - val_xy_mse: 40.8831 - val_floor_mse: 3.5366\n",
      "\n",
      "Epoch 00011: val_xy_loss did not improve from 34.96907\n",
      "Epoch 12/40\n",
      "1193/1193 [==============================] - 80s 67ms/step - loss: 70.3790 - xy_loss: 67.0676 - floor_loss: 3.3114 - xy_mse: 67.0676 - floor_mse: 3.3114 - val_loss: 58.5608 - val_xy_loss: 55.0242 - val_floor_loss: 3.5366 - val_xy_mse: 55.0242 - val_floor_mse: 3.5366\n",
      "\n",
      "Epoch 00012: val_xy_loss did not improve from 34.96907\n",
      "Epoch 13/40\n",
      "1193/1193 [==============================] - 103s 86ms/step - loss: 66.5096 - xy_loss: 63.1987 - floor_loss: 3.3109 - xy_mse: 63.1987 - floor_mse: 3.3109 - val_loss: 35.1697 - val_xy_loss: 31.6332 - val_floor_loss: 3.5366 - val_xy_mse: 31.6332 - val_floor_mse: 3.5366\n",
      "\n",
      "Epoch 00013: val_xy_loss improved from 34.96907 to 31.63316, saving model to /kaggle/RNN_2021_4.hdf5\n",
      "Epoch 14/40\n",
      "1193/1193 [==============================] - 80s 67ms/step - loss: 59.6899 - xy_loss: 56.3773 - floor_loss: 3.3126 - xy_mse: 56.3773 - floor_mse: 3.3126 - val_loss: 34.1461 - val_xy_loss: 30.6096 - val_floor_loss: 3.5366 - val_xy_mse: 30.6096 - val_floor_mse: 3.5366\n",
      "\n",
      "Epoch 00014: val_xy_loss improved from 31.63316 to 30.60957, saving model to /kaggle/RNN_2021_4.hdf5\n",
      "Epoch 15/40\n",
      "1193/1193 [==============================] - 81s 68ms/step - loss: 57.4429 - xy_loss: 54.1344 - floor_loss: 3.3085 - xy_mse: 54.1344 - floor_mse: 3.3085 - val_loss: 49.7029 - val_xy_loss: 46.1664 - val_floor_loss: 3.5366 - val_xy_mse: 46.1664 - val_floor_mse: 3.5366\n",
      "\n",
      "Epoch 00015: val_xy_loss did not improve from 30.60957\n",
      "Epoch 16/40\n",
      "1193/1193 [==============================] - 80s 67ms/step - loss: 61.6749 - xy_loss: 58.3477 - floor_loss: 3.3272 - xy_mse: 58.3477 - floor_mse: 3.3272 - val_loss: 36.4525 - val_xy_loss: 32.9159 - val_floor_loss: 3.5366 - val_xy_mse: 32.9159 - val_floor_mse: 3.5366\n",
      "\n",
      "Epoch 00016: val_xy_loss did not improve from 30.60957\n",
      "Epoch 17/40\n",
      "1193/1193 [==============================] - 81s 68ms/step - loss: 50.8907 - xy_loss: 47.5881 - floor_loss: 3.3025 - xy_mse: 47.5881 - floor_mse: 3.3025 - val_loss: 40.9891 - val_xy_loss: 37.4525 - val_floor_loss: 3.5366 - val_xy_mse: 37.4525 - val_floor_mse: 3.5366\n",
      "\n",
      "Epoch 00017: ReduceLROnPlateau reducing learning rate to 0.00020000000949949026.\n",
      "\n",
      "Epoch 00017: val_xy_loss did not improve from 30.60957\n",
      "Epoch 18/40\n",
      "1193/1193 [==============================] - 80s 67ms/step - loss: 46.1312 - xy_loss: 42.8122 - floor_loss: 3.3190 - xy_mse: 42.8122 - floor_mse: 3.3190 - val_loss: 28.1023 - val_xy_loss: 24.5658 - val_floor_loss: 3.5366 - val_xy_mse: 24.5658 - val_floor_mse: 3.5366\n",
      "\n",
      "Epoch 00018: val_xy_loss improved from 30.60957 to 24.56577, saving model to /kaggle/RNN_2021_4.hdf5\n",
      "Epoch 19/40\n",
      "1193/1193 [==============================] - 84s 70ms/step - loss: 43.1882 - xy_loss: 39.8756 - floor_loss: 3.3125 - xy_mse: 39.8756 - floor_mse: 3.3125 - val_loss: 27.8205 - val_xy_loss: 24.2840 - val_floor_loss: 3.5366 - val_xy_mse: 24.2840 - val_floor_mse: 3.5366\n",
      "\n",
      "Epoch 00019: val_xy_loss improved from 24.56577 to 24.28397, saving model to /kaggle/RNN_2021_4.hdf5\n",
      "Epoch 20/40\n",
      "1193/1193 [==============================] - 99s 83ms/step - loss: 42.5321 - xy_loss: 39.2143 - floor_loss: 3.3178 - xy_mse: 39.2143 - floor_mse: 3.3178 - val_loss: 27.5030 - val_xy_loss: 23.9665 - val_floor_loss: 3.5366 - val_xy_mse: 23.9665 - val_floor_mse: 3.5366\n",
      "\n",
      "Epoch 00020: val_xy_loss improved from 24.28397 to 23.96646, saving model to /kaggle/RNN_2021_4.hdf5\n",
      "Epoch 21/40\n",
      "1193/1193 [==============================] - 81s 68ms/step - loss: 41.6465 - xy_loss: 38.3311 - floor_loss: 3.3153 - xy_mse: 38.3311 - floor_mse: 3.3153 - val_loss: 28.1561 - val_xy_loss: 24.6195 - val_floor_loss: 3.5366 - val_xy_mse: 24.6195 - val_floor_mse: 3.5366\n",
      "\n",
      "Epoch 00021: val_xy_loss did not improve from 23.96646\n",
      "Epoch 22/40\n",
      "1193/1193 [==============================] - 81s 68ms/step - loss: 41.3457 - xy_loss: 38.0325 - floor_loss: 3.3132 - xy_mse: 38.0325 - floor_mse: 3.3132 - val_loss: 27.7419 - val_xy_loss: 24.2054 - val_floor_loss: 3.5366 - val_xy_mse: 24.2054 - val_floor_mse: 3.5366\n",
      "\n",
      "Epoch 00022: val_xy_loss did not improve from 23.96646\n",
      "Epoch 23/40\n",
      "1193/1193 [==============================] - 80s 67ms/step - loss: 40.7578 - xy_loss: 37.4479 - floor_loss: 3.3100 - xy_mse: 37.4479 - floor_mse: 3.3100 - val_loss: 27.6517 - val_xy_loss: 24.1151 - val_floor_loss: 3.5366 - val_xy_mse: 24.1151 - val_floor_mse: 3.5366\n",
      "\n",
      "Epoch 00023: ReduceLROnPlateau reducing learning rate to 2.0000000949949027e-05.\n",
      "\n",
      "Epoch 00023: val_xy_loss did not improve from 23.96646\n",
      "Epoch 24/40\n",
      "1193/1193 [==============================] - 81s 68ms/step - loss: 40.0347 - xy_loss: 36.7215 - floor_loss: 3.3131 - xy_mse: 36.7215 - floor_mse: 3.3131 - val_loss: 27.5599 - val_xy_loss: 24.0233 - val_floor_loss: 3.5366 - val_xy_mse: 24.0233 - val_floor_mse: 3.5366\n",
      "\n",
      "Epoch 00024: val_xy_loss did not improve from 23.96646\n",
      "Epoch 25/40\n",
      "1193/1193 [==============================] - 80s 67ms/step - loss: 39.7231 - xy_loss: 36.4275 - floor_loss: 3.2956 - xy_mse: 36.4275 - floor_mse: 3.2956 - val_loss: 27.1391 - val_xy_loss: 23.6025 - val_floor_loss: 3.5366 - val_xy_mse: 23.6025 - val_floor_mse: 3.5366\n",
      "\n",
      "Epoch 00025: val_xy_loss improved from 23.96646 to 23.60254, saving model to /kaggle/RNN_2021_4.hdf5\n",
      "Epoch 26/40\n",
      "1193/1193 [==============================] - 95s 80ms/step - loss: 39.9302 - xy_loss: 36.6066 - floor_loss: 3.3236 - xy_mse: 36.6066 - floor_mse: 3.3236 - val_loss: 26.9042 - val_xy_loss: 23.3677 - val_floor_loss: 3.5366 - val_xy_mse: 23.3677 - val_floor_mse: 3.5366\n",
      "\n",
      "Epoch 00026: val_xy_loss improved from 23.60254 to 23.36768, saving model to /kaggle/RNN_2021_4.hdf5\n",
      "Epoch 27/40\n",
      "1193/1193 [==============================] - 89s 75ms/step - loss: 39.4441 - xy_loss: 36.1254 - floor_loss: 3.3187 - xy_mse: 36.1254 - floor_mse: 3.3187 - val_loss: 27.1022 - val_xy_loss: 23.5656 - val_floor_loss: 3.5366 - val_xy_mse: 23.5656 - val_floor_mse: 3.5366\n",
      "\n",
      "Epoch 00027: val_xy_loss did not improve from 23.36768\n",
      "Epoch 28/40\n",
      "1193/1193 [==============================] - 79s 67ms/step - loss: 39.4450 - xy_loss: 36.1421 - floor_loss: 3.3029 - xy_mse: 36.1421 - floor_mse: 3.3029 - val_loss: 26.9979 - val_xy_loss: 23.4613 - val_floor_loss: 3.5366 - val_xy_mse: 23.4613 - val_floor_mse: 3.5366\n",
      "\n",
      "Epoch 00028: val_xy_loss did not improve from 23.36768\n",
      "Epoch 29/40\n",
      "1193/1193 [==============================] - 80s 67ms/step - loss: 39.3747 - xy_loss: 36.0555 - floor_loss: 3.3192 - xy_mse: 36.0555 - floor_mse: 3.3192 - val_loss: 27.1739 - val_xy_loss: 23.6373 - val_floor_loss: 3.5366 - val_xy_mse: 23.6373 - val_floor_mse: 3.5366\n",
      "\n",
      "Epoch 00029: ReduceLROnPlateau reducing learning rate to 2.0000001313746906e-06.\n",
      "\n",
      "Epoch 00029: val_xy_loss did not improve from 23.36768\n",
      "Epoch 30/40\n",
      "1193/1193 [==============================] - 81s 68ms/step - loss: 39.3719 - xy_loss: 36.0459 - floor_loss: 3.3260 - xy_mse: 36.0459 - floor_mse: 3.3260 - val_loss: 27.0468 - val_xy_loss: 23.5102 - val_floor_loss: 3.5366 - val_xy_mse: 23.5102 - val_floor_mse: 3.5366\n",
      "\n",
      "Epoch 00030: val_xy_loss did not improve from 23.36768\n",
      "Epoch 31/40\n",
      "1193/1193 [==============================] - 81s 68ms/step - loss: 39.5413 - xy_loss: 36.2118 - floor_loss: 3.3295 - xy_mse: 36.2118 - floor_mse: 3.3295 - val_loss: 28.7778 - val_xy_loss: 25.2413 - val_floor_loss: 3.5366 - val_xy_mse: 25.2413 - val_floor_mse: 3.5366\n",
      "\n",
      "Epoch 00031: val_xy_loss did not improve from 23.36768\n",
      "fold 4: mean position error 27.435212899852882\n",
      "*+*+*+*+*+*+*+*+*+*+*+*+*+*+*+*+*+*+*+*+*+*+*+*+*+*+*+*+*+*+*+*+*+*+*+*+*+*+*+*+\n",
      "root mean position error 28.362412653798707\n",
      "xy root mean position error 6.641424760336239\n",
      "*+*+*+*+*+*+*+*+*+*+*+*+*+*+*+*+*+*+*+*+*+*+*+*+*+*+*+*+*+*+*+*+*+*+*+*+*+*+*+*+\n"
     ]
    }
   ],
   "source": [
    "score_df = pd.DataFrame()\n",
    "predictions = list()\n",
    "\n",
    "oof_x, oof_y, oof_f = np.zeros(data.shape[0]), np.zeros(data.shape[0]), np.zeros(data.shape[0])\n",
    "preds_x, preds_y = 0, 0\n",
    "preds_f_arr = np.zeros((test_data.shape[0], N_SPLITS))\n",
    "\n",
    "for fold, (trn_idx, val_idx) in enumerate(StratifiedKFold(n_splits=N_SPLITS, shuffle=True, \n",
    "                                                          random_state=SEED).split(data.loc[:, 'path'], \n",
    "                                                                                   data.loc[:, 'path'])):\n",
    "    #X_train = data.loc[trn_idx, BSSID_FEATS + RSSI_FEATS + ['site_id']]\n",
    "    #y_trainx = data.loc[trn_idx, 'x']\n",
    "    #y_trainy = data.loc[trn_idx, 'y']\n",
    "    #y_trainf = data.loc[trn_idx, 'floor']\n",
    "    \n",
    "    X_train = pd.concat([data.loc[trn_idx, BSSID_FEATS + RSSI_FEATS + ['site_id']],\n",
    "                        train_only_data[BSSID_FEATS + RSSI_FEATS + ['site_id']]], axis=0).reset_index(drop=True)\n",
    "    y_trainx = pd.concat([data.loc[trn_idx, 'x'], train_only_data['x']], axis=0).reset_index(drop=True)\n",
    "    y_trainy = pd.concat([data.loc[trn_idx, 'y'], train_only_data['y']], axis=0).reset_index(drop=True)\n",
    "    y_trainf = pd.concat([data.loc[trn_idx, 'floor'], train_only_data['floor']], axis=0).reset_index(drop=True)\n",
    "\n",
    "    tmp = pd.concat([y_trainx, y_trainy], axis=1)\n",
    "    y_train = [tmp, y_trainf]\n",
    "\n",
    "    X_valid = data.loc[val_idx, BSSID_FEATS + RSSI_FEATS + ['site_id']]\n",
    "    y_validx = data.loc[val_idx, 'x']\n",
    "    y_validy = data.loc[val_idx, 'y']\n",
    "    y_validf = data.loc[val_idx, 'floor']\n",
    "\n",
    "    tmp = pd.concat([y_validx, y_validy], axis=1)\n",
    "    y_valid = [tmp, y_validf]\n",
    "\n",
    "    model = create_model([X_train.loc[:,BSSID_FEATS], X_train.loc[:,RSSI_FEATS], X_train.loc[:,'site_id']])\n",
    "    model.fit([X_train.loc[:,BSSID_FEATS], X_train.loc[:,RSSI_FEATS], X_train.loc[:,'site_id']], y_train, \n",
    "                validation_data=([X_valid.loc[:,BSSID_FEATS], X_valid.loc[:,RSSI_FEATS], X_valid.loc[:,'site_id']], y_valid), \n",
    "                batch_size=batch_size, epochs=epochs,\n",
    "                callbacks=[\n",
    "                ReduceLROnPlateau(monitor='val_xy_loss', factor=0.1, patience=3, verbose=1, min_delta=1e-4, mode='min')\n",
    "                , ModelCheckpoint(f'{base_path}/RNN_{SEED}_{fold}.hdf5', monitor='val_xy_loss', verbose=1, save_best_only=True, save_weights_only=True, mode='min')\n",
    "                , EarlyStopping(monitor='val_xy_loss', min_delta=1e-4, patience=5, mode='min', baseline=None, restore_best_weights=True)\n",
    "            ])\n",
    "\n",
    "    model.load_weights(f'{base_path}/RNN_{SEED}_{fold}.hdf5')\n",
    "    val_pred = model.predict([X_valid.loc[:,BSSID_FEATS], X_valid.loc[:,RSSI_FEATS], X_valid.loc[:,'site_id']])\n",
    "\n",
    "    oof_x[val_idx] = val_pred[0][:,0]\n",
    "    oof_y[val_idx] = val_pred[0][:,1]\n",
    "    oof_f[val_idx] = val_pred[1][:,0].astype(int)\n",
    "    \n",
    "    pred = model.predict([test_data.loc[:,BSSID_FEATS], test_data.loc[:,RSSI_FEATS], test_data.loc[:,'site_id']])\n",
    "    preds_x += pred[0][:,0]\n",
    "    preds_y += pred[0][:,1]\n",
    "    preds_f_arr[:, fold] = pred[1][:,0].astype(int)\n",
    "\n",
    "    score = comp_metric(oof_x[val_idx], oof_y[val_idx], oof_f[val_idx],\n",
    "                        y_validx.to_numpy(), y_validy.to_numpy(), y_validf.to_numpy())\n",
    "    print(f\"fold {fold}: mean position error {score}\")\n",
    "\n",
    "    K.clear_session()\n",
    "\n",
    "preds_x /= (fold + 1)\n",
    "preds_y /= (fold + 1)\n",
    "    \n",
    "print(\"*+\"*40)\n",
    "score = comp_metric(oof_x, oof_y, oof_f, data.iloc[:, -5].to_numpy(), data.iloc[:, -4].to_numpy(), data.iloc[:, -3].to_numpy())\n",
    "score2 = xy_comp_metric(oof_x, oof_y, data.iloc[:, -5].to_numpy(), data.iloc[:, -4].to_numpy())\n",
    "print(f\"root mean position error {score}\")\n",
    "print(f\"xy root mean position error {score2}\")\n",
    "print(\"*+\"*40)\n",
    "\n",
    "preds_f_mode = stats.mode(preds_f_arr, axis=1)\n",
    "preds_f = preds_f_mode[0].astype(int).reshape(-1)\n",
    "test_preds = pd.DataFrame(np.stack((preds_f, preds_x, preds_y))).T\n",
    "test_preds.columns = subm.columns\n",
    "test_preds.index = test_data[\"site_path_timestamp\"]\n",
    "test_preds[\"floor\"] = test_preds[\"floor\"].astype(int)\n",
    "predictions.append(test_preds)"
   ]
  },
  {
   "cell_type": "code",
   "execution_count": 22,
   "id": "finite-ranch",
   "metadata": {
    "execution": {
     "iopub.execute_input": "2021-04-12T10:39:57.600894Z",
     "iopub.status.busy": "2021-04-12T10:39:57.591921Z",
     "iopub.status.idle": "2021-04-12T10:39:57.645124Z",
     "shell.execute_reply": "2021-04-12T10:39:57.644358Z"
    },
    "papermill": {
     "duration": 35.533501,
     "end_time": "2021-04-12T10:39:57.645256",
     "exception": false,
     "start_time": "2021-04-12T10:39:22.111755",
     "status": "completed"
    },
    "tags": []
   },
   "outputs": [],
   "source": [
    "all_preds = pd.concat(predictions)\n",
    "all_preds = all_preds.reindex(subm.index)\n",
    "\n",
    "lgb_pred = pd.read_csv('../input/indoorlgbfloor/submission.csv')\n",
    "all_preds['floor'] = lgb_pred['floor'].values"
   ]
  },
  {
   "cell_type": "markdown",
   "id": "reported-nebraska",
   "metadata": {
    "papermill": {
     "duration": 35.314953,
     "end_time": "2021-04-12T10:41:08.587884",
     "exception": false,
     "start_time": "2021-04-12T10:40:33.272931",
     "status": "completed"
    },
    "tags": []
   },
   "source": [
    "# postprocess (cost minimization)"
   ]
  },
  {
   "cell_type": "code",
   "execution_count": 23,
   "id": "difficult-creator",
   "metadata": {
    "execution": {
     "iopub.execute_input": "2021-04-12T10:42:19.967396Z",
     "iopub.status.busy": "2021-04-12T10:42:19.965627Z",
     "iopub.status.idle": "2021-04-12T10:42:19.968066Z",
     "shell.execute_reply": "2021-04-12T10:42:19.968466Z"
    },
    "papermill": {
     "duration": 35.670813,
     "end_time": "2021-04-12T10:42:19.968601",
     "exception": false,
     "start_time": "2021-04-12T10:41:44.297788",
     "status": "completed"
    },
    "tags": []
   },
   "outputs": [],
   "source": [
    "INPUT_PATH = '../input/indoor-location-navigation'\n",
    "\n",
    "def compute_rel_positions(acce_datas, ahrs_datas):\n",
    "    step_timestamps, step_indexs, step_acce_max_mins = compute_f.compute_steps(acce_datas)\n",
    "    headings = compute_f.compute_headings(ahrs_datas)\n",
    "    stride_lengths = compute_f.compute_stride_length(step_acce_max_mins)\n",
    "    step_headings = compute_f.compute_step_heading(step_timestamps, headings)\n",
    "    rel_positions = compute_f.compute_rel_positions(stride_lengths, step_headings)\n",
    "    return rel_positions\n",
    "\n",
    "def correct_path(args):\n",
    "    path, path_df = args\n",
    "    \n",
    "    T_ref  = path_df['timestamp'].values\n",
    "    xy_hat = path_df[['x', 'y']].values\n",
    "    \n",
    "    example = read_data_file(f'{INPUT_PATH}/test/{path}.txt')\n",
    "    rel_positions = compute_rel_positions(example.acce, example.ahrs)\n",
    "    if T_ref[-1] > rel_positions[-1, 0]:\n",
    "        rel_positions = [np.array([[0, 0, 0]]), rel_positions, np.array([[T_ref[-1], 0, 0]])]\n",
    "    else:\n",
    "        rel_positions = [np.array([[0, 0, 0]]), rel_positions]\n",
    "    rel_positions = np.concatenate(rel_positions)\n",
    "    \n",
    "    T_rel = rel_positions[:, 0]\n",
    "    delta_xy_hat = np.diff(scipy.interpolate.interp1d(T_rel, np.cumsum(rel_positions[:, 1:3], axis=0), axis=0)(T_ref), axis=0)\n",
    "\n",
    "    N = xy_hat.shape[0]\n",
    "    delta_t = np.diff(T_ref)\n",
    "    alpha = (8.1)**(-2) * np.ones(N)\n",
    "    beta  = (0.3 + 0.3 * 1e-3 * delta_t)**(-2)\n",
    "    A = scipy.sparse.spdiags(alpha, [0], N, N)\n",
    "    B = scipy.sparse.spdiags( beta, [0], N-1, N-1)\n",
    "    D = scipy.sparse.spdiags(np.stack([-np.ones(N), np.ones(N)]), [0, 1], N-1, N)\n",
    "\n",
    "    Q = A + (D.T @ B @ D)\n",
    "    c = (A @ xy_hat) + (D.T @ (B @ delta_xy_hat))\n",
    "    xy_star = scipy.sparse.linalg.spsolve(Q, c)\n",
    "    \n",
    "    return pd.DataFrame({\n",
    "        'site_path_timestamp' : path_df['site_path_timestamp'],\n",
    "        'floor' : path_df['floor'],\n",
    "        'x' : xy_star[:, 0],\n",
    "        'y' : xy_star[:, 1],\n",
    "    })"
   ]
  },
  {
   "cell_type": "code",
   "execution_count": 24,
   "id": "dried-bracelet",
   "metadata": {
    "execution": {
     "iopub.execute_input": "2021-04-12T10:43:30.152127Z",
     "iopub.status.busy": "2021-04-12T10:43:30.151328Z",
     "iopub.status.idle": "2021-04-12T10:56:05.326745Z",
     "shell.execute_reply": "2021-04-12T10:56:05.326047Z"
    },
    "papermill": {
     "duration": 790.281313,
     "end_time": "2021-04-12T10:56:05.326933",
     "exception": false,
     "start_time": "2021-04-12T10:42:55.045620",
     "status": "completed"
    },
    "tags": []
   },
   "outputs": [
    {
     "name": "stderr",
     "output_type": "stream",
     "text": [
      "626it [12:32,  1.20s/it]\n"
     ]
    }
   ],
   "source": [
    "sub = pd.read_csv('../input/indoor-location-navigation/sample_submission.csv')\n",
    "sub[\"floor\"] = all_preds['floor'].values\n",
    "sub[\"x\"] = all_preds['x'].values\n",
    "sub[\"y\"] = all_preds['y'].values\n",
    "\n",
    "tmp = sub['site_path_timestamp'].apply(lambda s : pd.Series(s.split('_')))\n",
    "sub['site'] = tmp[0]\n",
    "sub['path'] = tmp[1]\n",
    "sub['timestamp'] = tmp[2].astype(float)\n",
    "\n",
    "processes = multiprocessing.cpu_count()\n",
    "with multiprocessing.Pool(processes=processes) as pool:\n",
    "    dfs = pool.imap_unordered(correct_path, sub.groupby('path'))\n",
    "    dfs = tqdm(dfs)\n",
    "    dfs = list(dfs)\n",
    "sub = pd.concat(dfs).sort_values('site_path_timestamp')"
   ]
  },
  {
   "cell_type": "markdown",
   "id": "surprised-generic",
   "metadata": {
    "papermill": {
     "duration": 35.477947,
     "end_time": "2021-04-12T10:57:16.064533",
     "exception": false,
     "start_time": "2021-04-12T10:56:40.586586",
     "status": "completed"
    },
    "tags": []
   },
   "source": [
    "# submission"
   ]
  },
  {
   "cell_type": "code",
   "execution_count": 25,
   "id": "minute-companion",
   "metadata": {
    "execution": {
     "iopub.execute_input": "2021-04-12T10:58:26.853847Z",
     "iopub.status.busy": "2021-04-12T10:58:26.853023Z",
     "iopub.status.idle": "2021-04-12T10:58:27.344554Z",
     "shell.execute_reply": "2021-04-12T10:58:27.343935Z"
    },
    "papermill": {
     "duration": 35.938915,
     "end_time": "2021-04-12T10:58:27.344682",
     "exception": false,
     "start_time": "2021-04-12T10:57:51.405767",
     "status": "completed"
    },
    "tags": []
   },
   "outputs": [],
   "source": [
    "sub.to_csv('submission.csv', index=False)"
   ]
  },
  {
   "cell_type": "code",
   "execution_count": null,
   "id": "increased-shadow",
   "metadata": {
    "papermill": {
     "duration": 35.427636,
     "end_time": "2021-04-12T10:59:37.914519",
     "exception": false,
     "start_time": "2021-04-12T10:59:02.486883",
     "status": "completed"
    },
    "tags": []
   },
   "outputs": [],
   "source": []
  }
 ],
 "metadata": {
  "kernelspec": {
   "display_name": "Python 3",
   "language": "python",
   "name": "python3"
  },
  "language_info": {
   "codemirror_mode": {
    "name": "ipython",
    "version": 3
   },
   "file_extension": ".py",
   "mimetype": "text/x-python",
   "name": "python",
   "nbconvert_exporter": "python",
   "pygments_lexer": "ipython3",
   "version": "3.7.9"
  },
  "papermill": {
   "default_parameters": {},
   "duration": 10328.376634,
   "end_time": "2021-04-12T11:00:16.215299",
   "environment_variables": {},
   "exception": null,
   "input_path": "__notebook__.ipynb",
   "output_path": "__notebook__.ipynb",
   "parameters": {},
   "start_time": "2021-04-12T08:08:07.838665",
   "version": "2.3.2"
  }
 },
 "nbformat": 4,
 "nbformat_minor": 5
}
