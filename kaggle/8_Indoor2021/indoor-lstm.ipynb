{
 "cells": [
  {
   "cell_type": "markdown",
   "id": "greatest-wright",
   "metadata": {
    "papermill": {
     "duration": 0.018231,
     "end_time": "2021-04-10T10:36:48.438239",
     "exception": false,
     "start_time": "2021-04-10T10:36:48.420008",
     "status": "completed"
    },
    "tags": []
   },
   "source": [
    "- consider only xy in validation\n",
    "- bo back to version 6 lstm\n",
    "- reset indoor-lgb-floor prediction (version 4) * \n",
    "- add postprocessing *"
   ]
  },
  {
   "cell_type": "code",
   "execution_count": 1,
   "id": "developmental-muslim",
   "metadata": {
    "execution": {
     "iopub.execute_input": "2021-04-10T10:36:48.478567Z",
     "iopub.status.busy": "2021-04-10T10:36:48.476951Z",
     "iopub.status.idle": "2021-04-10T10:36:59.756909Z",
     "shell.execute_reply": "2021-04-10T10:36:59.756304Z"
    },
    "papermill": {
     "duration": 11.30125,
     "end_time": "2021-04-10T10:36:59.757050",
     "exception": false,
     "start_time": "2021-04-10T10:36:48.455800",
     "status": "completed"
    },
    "tags": []
   },
   "outputs": [
    {
     "name": "stdout",
     "output_type": "stream",
     "text": [
      "Collecting tensorflow-determinism\r\n",
      "  Downloading tensorflow-determinism-0.3.0.tar.gz (12 kB)\r\n",
      "\u001b[33mWARNING: Discarding https://files.pythonhosted.org/packages/76/56/79d74f25b326d8719753172496abc524980fa67d1d98bb247021376e370a/tensorflow-determinism-0.3.0.tar.gz#sha256=563316b785614df300bbdec9b3c45a94d212761aec796cf1aafcbb2f69fdeb01 (from https://pypi.org/simple/tensorflow-determinism/). Requested tensorflow-determinism from https://files.pythonhosted.org/packages/76/56/79d74f25b326d8719753172496abc524980fa67d1d98bb247021376e370a/tensorflow-determinism-0.3.0.tar.gz#sha256=563316b785614df300bbdec9b3c45a94d212761aec796cf1aafcbb2f69fdeb01 has inconsistent version: filename has '0.3.0', but metadata has '0.4.1'\u001b[0m\r\n",
      "  Downloading tensorflow-determinism-0.2.0.tar.gz (10 kB)\r\n",
      "\u001b[33mWARNING: Discarding https://files.pythonhosted.org/packages/9b/28/4aa0d8f183d13d3477626e931a3363651bb8e291165d58962a39c57ae7fb/tensorflow-determinism-0.2.0.tar.gz#sha256=1e364b142acd96ec8a8fca6dee32ef04e1c5f5ca20bd83fc9ec37f7dbf2fb5b5 (from https://pypi.org/simple/tensorflow-determinism/). Requested tensorflow-determinism from https://files.pythonhosted.org/packages/9b/28/4aa0d8f183d13d3477626e931a3363651bb8e291165d58962a39c57ae7fb/tensorflow-determinism-0.2.0.tar.gz#sha256=1e364b142acd96ec8a8fca6dee32ef04e1c5f5ca20bd83fc9ec37f7dbf2fb5b5 has inconsistent version: filename has '0.2.0', but metadata has '0.4.1'\u001b[0m\r\n",
      "  Downloading tensorflow-determinism-0.1.0.tar.gz (7.2 kB)\r\n",
      "Building wheels for collected packages: tensorflow-determinism\r\n",
      "  Building wheel for tensorflow-determinism (setup.py) ... \u001b[?25l-\b \b\\\b \bdone\r\n",
      "\u001b[?25h  Created wheel for tensorflow-determinism: filename=tensorflow_determinism-0.1.0-py3-none-any.whl size=5255 sha256=44d99b09d27d34ff320f9b8a24952c5bd1f1b034ad0b15d6bedf4e5a123142f6\r\n",
      "  Stored in directory: /root/.cache/pip/wheels/ce/06/d4/df757adc4c81f705a74a0317c27cf19919ccd25ae2a6ecd2c5\r\n",
      "Successfully built tensorflow-determinism\r\n",
      "Installing collected packages: tensorflow-determinism\r\n",
      "Successfully installed tensorflow-determinism-0.1.0\r\n"
     ]
    }
   ],
   "source": [
    "# credit: https://www.kaggle.com/kokitanisaka/lstm-by-keras-with-unified-wi-fi-feats\n",
    "!pip install tensorflow-determinism"
   ]
  },
  {
   "cell_type": "code",
   "execution_count": 2,
   "id": "valid-dealer",
   "metadata": {
    "execution": {
     "iopub.execute_input": "2021-04-10T10:36:59.804029Z",
     "iopub.status.busy": "2021-04-10T10:36:59.803236Z",
     "iopub.status.idle": "2021-04-10T10:37:52.311667Z",
     "shell.execute_reply": "2021-04-10T10:37:52.310807Z"
    },
    "papermill": {
     "duration": 52.534489,
     "end_time": "2021-04-10T10:37:52.311906",
     "exception": false,
     "start_time": "2021-04-10T10:36:59.777417",
     "status": "completed"
    },
    "tags": []
   },
   "outputs": [
    {
     "name": "stdout",
     "output_type": "stream",
     "text": [
      "Cloning into 'indoor_location_competition_20'...\r\n",
      "remote: Enumerating objects: 1169, done.\u001b[K\r\n",
      "remote: Counting objects: 100% (1169/1169), done.\u001b[K\r\n",
      "remote: Compressing objects: 100% (1131/1131), done.\u001b[K\r\n",
      "remote: Total 1169 (delta 38), reused 1167 (delta 38), pack-reused 0\u001b[K\r\n",
      "Receiving objects: 100% (1169/1169), 411.37 MiB | 16.06 MiB/s, done.\r\n",
      "Resolving deltas: 100% (38/38), done.\r\n",
      "Checking out files: 100% (1145/1145), done.\r\n"
     ]
    }
   ],
   "source": [
    "!git clone --depth 1 https://github.com/location-competition/indoor-location-competition-20 indoor_location_competition_20\n",
    "!rm -rf indoor_location_competition_20/data"
   ]
  },
  {
   "cell_type": "code",
   "execution_count": 3,
   "id": "injured-sentence",
   "metadata": {
    "execution": {
     "iopub.execute_input": "2021-04-10T10:37:52.507201Z",
     "iopub.status.busy": "2021-04-10T10:37:52.506475Z",
     "iopub.status.idle": "2021-04-10T10:37:59.415811Z",
     "shell.execute_reply": "2021-04-10T10:37:59.414720Z"
    },
    "papermill": {
     "duration": 7.011907,
     "end_time": "2021-04-10T10:37:59.415995",
     "exception": false,
     "start_time": "2021-04-10T10:37:52.404088",
     "status": "completed"
    },
    "tags": []
   },
   "outputs": [],
   "source": [
    "import numpy as np\n",
    "import pandas as pd\n",
    "import scipy.stats as stats\n",
    "from pathlib import Path\n",
    "import glob\n",
    "import pickle\n",
    "\n",
    "import random\n",
    "import os\n",
    "\n",
    "from tqdm.notebook import tqdm\n",
    "\n",
    "from sklearn.model_selection import StratifiedKFold\n",
    "from sklearn.preprocessing import StandardScaler, LabelEncoder\n",
    "\n",
    "import tensorflow as tf\n",
    "import tensorflow.keras.layers as L\n",
    "import tensorflow.keras.models as M\n",
    "import tensorflow.keras.backend as K\n",
    "import tensorflow_addons as tfa\n",
    "from tensorflow_addons.layers import WeightNormalization\n",
    "from tensorflow.keras.callbacks import ReduceLROnPlateau, ModelCheckpoint, EarlyStopping\n",
    "\n",
    "from tensorflow.keras.layers import *\n",
    "from tensorflow.keras.models import *\n",
    "from tensorflow.keras.layers import *\n",
    "from tensorflow.keras.optimizers import *\n",
    "from tensorflow.keras.metrics import *\n",
    "from tensorflow.keras.utils import *\n",
    "from tensorflow.keras.callbacks import *\n",
    "\n",
    "import multiprocessing\n",
    "import scipy.interpolate\n",
    "import scipy.sparse\n",
    "from tqdm import tqdm\n",
    "\n",
    "from indoor_location_competition_20.io_f import read_data_file\n",
    "import indoor_location_competition_20.compute_f as compute_f\n",
    "\n",
    "import warnings\n",
    "warnings.filterwarnings(\"ignore\")"
   ]
  },
  {
   "cell_type": "code",
   "execution_count": 4,
   "id": "mechanical-weapon",
   "metadata": {
    "execution": {
     "iopub.execute_input": "2021-04-10T10:37:59.586091Z",
     "iopub.status.busy": "2021-04-10T10:37:59.584093Z",
     "iopub.status.idle": "2021-04-10T10:37:59.586754Z",
     "shell.execute_reply": "2021-04-10T10:37:59.587241Z"
    },
    "papermill": {
     "duration": 0.089321,
     "end_time": "2021-04-10T10:37:59.587393",
     "exception": false,
     "start_time": "2021-04-10T10:37:59.498072",
     "status": "completed"
    },
    "tags": []
   },
   "outputs": [],
   "source": [
    "# options\n",
    "N_SPLITS = 5\n",
    "SEED = 2021\n",
    "NUM_FEATS = 30 # number of features that we use. there are 100 feats but we don't need to use all of them\n",
    "base_path = '/kaggle'"
   ]
  },
  {
   "cell_type": "code",
   "execution_count": 5,
   "id": "remarkable-suffering",
   "metadata": {
    "execution": {
     "iopub.execute_input": "2021-04-10T10:37:59.763632Z",
     "iopub.status.busy": "2021-04-10T10:37:59.762868Z",
     "iopub.status.idle": "2021-04-10T10:37:59.767354Z",
     "shell.execute_reply": "2021-04-10T10:37:59.766831Z"
    },
    "papermill": {
     "duration": 0.096232,
     "end_time": "2021-04-10T10:37:59.767484",
     "exception": false,
     "start_time": "2021-04-10T10:37:59.671252",
     "status": "completed"
    },
    "tags": []
   },
   "outputs": [],
   "source": [
    "def set_seed(seed=42):\n",
    "    random.seed(seed)\n",
    "    os.environ['PYTHONHASHSEED'] = str(seed)\n",
    "    os.environ['TF_DETERMINISTIC_OPS'] = '1'\n",
    "    np.random.seed(seed)\n",
    "    tf.random.set_seed(seed)\n",
    "    session_conf = tf.compat.v1.ConfigProto(\n",
    "        intra_op_parallelism_threads=1,\n",
    "        inter_op_parallelism_threads=1\n",
    "    )\n",
    "    sess = tf.compat.v1.Session(graph=tf.compat.v1.get_default_graph(), config=session_conf)\n",
    "    tf.compat.v1.keras.backend.set_session(sess)\n",
    "    \n",
    "def comp_metric(xhat, yhat, fhat, x, y, f):\n",
    "    intermediate = np.sqrt(np.power(xhat-x, 2) + np.power(yhat-y, 2)) + 15 * np.abs(fhat-f)\n",
    "    return intermediate.sum()/xhat.shape[0]\n",
    "\n",
    "def xy_comp_metric(xhat, yhat, x, y):\n",
    "    intermediate = np.sqrt(np.power(xhat-x, 2) + np.power(yhat-y, 2))\n",
    "    return intermediate.sum()/xhat.shape[0]"
   ]
  },
  {
   "cell_type": "code",
   "execution_count": 6,
   "id": "antique-solution",
   "metadata": {
    "execution": {
     "iopub.execute_input": "2021-04-10T10:37:59.938843Z",
     "iopub.status.busy": "2021-04-10T10:37:59.938089Z",
     "iopub.status.idle": "2021-04-10T10:38:00.022042Z",
     "shell.execute_reply": "2021-04-10T10:38:00.021129Z"
    },
    "papermill": {
     "duration": 0.170466,
     "end_time": "2021-04-10T10:38:00.022179",
     "exception": false,
     "start_time": "2021-04-10T10:37:59.851713",
     "status": "completed"
    },
    "tags": []
   },
   "outputs": [],
   "source": [
    "feature_dir = f\"{base_path}/input/indooruniteddataset\"\n",
    "train_files = sorted(glob.glob(os.path.join(feature_dir, '*_train.csv')))\n",
    "test_files = sorted(glob.glob(os.path.join(feature_dir, '*_test.csv')))\n",
    "subm = pd.read_csv(f'{base_path}/input/indoor-location-navigation/sample_submission.csv', index_col=0)"
   ]
  },
  {
   "cell_type": "code",
   "execution_count": 7,
   "id": "nervous-shepherd",
   "metadata": {
    "execution": {
     "iopub.execute_input": "2021-04-10T10:38:00.188395Z",
     "iopub.status.busy": "2021-04-10T10:38:00.187565Z",
     "iopub.status.idle": "2021-04-10T10:38:00.190657Z",
     "shell.execute_reply": "2021-04-10T10:38:00.190226Z"
    },
    "papermill": {
     "duration": 0.087074,
     "end_time": "2021-04-10T10:38:00.190786",
     "exception": false,
     "start_time": "2021-04-10T10:38:00.103712",
     "status": "completed"
    },
    "tags": []
   },
   "outputs": [],
   "source": [
    "# floor_train_pred = pd.read_csv(f'{base_path}/input/indoorlgbfloor/floor_prediction_in_train.csv')\n",
    "# floor_test_pred = pd.read_csv(f'{base_path}/input/indoorlgbfloor/submission.csv')"
   ]
  },
  {
   "cell_type": "code",
   "execution_count": 8,
   "id": "psychological-presentation",
   "metadata": {
    "execution": {
     "iopub.execute_input": "2021-04-10T10:38:00.362356Z",
     "iopub.status.busy": "2021-04-10T10:38:00.361452Z",
     "iopub.status.idle": "2021-04-10T10:38:00.364672Z",
     "shell.execute_reply": "2021-04-10T10:38:00.364161Z"
    },
    "papermill": {
     "duration": 0.090392,
     "end_time": "2021-04-10T10:38:00.364788",
     "exception": false,
     "start_time": "2021-04-10T10:38:00.274396",
     "status": "completed"
    },
    "tags": []
   },
   "outputs": [],
   "source": [
    "# temporary measure to consider only both included train sites  \n",
    "#all_sites = sorted(set(pd.DataFrame(subm.index)[\"site_path_timestamp\"].apply(lambda x: x.split(\"_\")[0])))\n",
    "#train_files = sorted([i for i in train_files if i.split(\"/\")[4].split(\"_\")[0] in all_sites])\n",
    "#len(train_files)"
   ]
  },
  {
   "cell_type": "code",
   "execution_count": 9,
   "id": "designed-willow",
   "metadata": {
    "execution": {
     "iopub.execute_input": "2021-04-10T10:38:00.535866Z",
     "iopub.status.busy": "2021-04-10T10:38:00.535059Z",
     "iopub.status.idle": "2021-04-10T10:38:00.539098Z",
     "shell.execute_reply": "2021-04-10T10:38:00.538637Z"
    },
    "papermill": {
     "duration": 0.09095,
     "end_time": "2021-04-10T10:38:00.539227",
     "exception": false,
     "start_time": "2021-04-10T10:38:00.448277",
     "status": "completed"
    },
    "tags": []
   },
   "outputs": [],
   "source": [
    "# training target features\n",
    "BSSID_FEATS = [f'bssid_{i}' for i in range(NUM_FEATS)]\n",
    "RSSI_FEATS  = [f'rssi_{i}' for i in range(NUM_FEATS)]"
   ]
  },
  {
   "cell_type": "code",
   "execution_count": 10,
   "id": "fifteen-wrestling",
   "metadata": {
    "execution": {
     "iopub.execute_input": "2021-04-10T10:38:00.710060Z",
     "iopub.status.busy": "2021-04-10T10:38:00.707151Z",
     "iopub.status.idle": "2021-04-10T10:38:28.785417Z",
     "shell.execute_reply": "2021-04-10T10:38:28.784079Z"
    },
    "papermill": {
     "duration": 28.16559,
     "end_time": "2021-04-10T10:38:28.785598",
     "exception": false,
     "start_time": "2021-04-10T10:38:00.620008",
     "status": "completed"
    },
    "tags": []
   },
   "outputs": [
    {
     "name": "stderr",
     "output_type": "stream",
     "text": [
      "100%|██████████| 48/48 [00:25<00:00,  1.88it/s]\n",
      "100%|██████████| 24/24 [00:01<00:00, 19.75it/s]\n"
     ]
    }
   ],
   "source": [
    "data = []\n",
    "for i in tqdm(train_files):\n",
    "    tmp = pd.read_csv(i)\n",
    "    tmp[\"site_id\"] = i.split(\"/\")[4].split(\"_\")[0]\n",
    "    #tmp[\"floor_pred\"] = floor_train_pred[floor_train_pred.site == i.split(\"/\")[4].split(\"_\")[0]][\"floor\"].astype(int).values\n",
    "    data.append(tmp)\n",
    "data = pd.concat(data)\n",
    "\n",
    "test_data = []\n",
    "for i in tqdm(test_files):\n",
    "    tmp = pd.read_csv(i)\n",
    "    tmp[\"site_id\"] = i.split(\"/\")[4].split(\"_\")[0]\n",
    "    #tmp[\"floor_pred\"] = floor_test_pred[floor_test_pred.site_path_timestamp.isin(tmp.site_path_timestamp)][\"floor\"].values\n",
    "    test_data.append(tmp)\n",
    "test_data = pd.concat(test_data)"
   ]
  },
  {
   "cell_type": "code",
   "execution_count": 11,
   "id": "persistent-representative",
   "metadata": {
    "execution": {
     "iopub.execute_input": "2021-04-10T10:38:29.051934Z",
     "iopub.status.busy": "2021-04-10T10:38:29.027541Z",
     "iopub.status.idle": "2021-04-10T10:38:30.878925Z",
     "shell.execute_reply": "2021-04-10T10:38:30.879979Z"
    },
    "papermill": {
     "duration": 1.991799,
     "end_time": "2021-04-10T10:38:30.880208",
     "exception": false,
     "start_time": "2021-04-10T10:38:28.888409",
     "status": "completed"
    },
    "tags": []
   },
   "outputs": [
    {
     "name": "stdout",
     "output_type": "stream",
     "text": [
      "BSSID TYPES: 54067\n",
      "BSSID TYPES: 25654\n"
     ]
    }
   ],
   "source": [
    "wifi_feat_nums = 60\n",
    "wifi_bssids = []\n",
    "for i in range(wifi_feat_nums):\n",
    "    wifi_bssids.extend(data.iloc[:,i].values.tolist())\n",
    "wifi_bssids = list(set(wifi_bssids))\n",
    "\n",
    "wifi_bssids_size = len(wifi_bssids)\n",
    "print(f'BSSID TYPES: {wifi_bssids_size}')\n",
    "\n",
    "wifi_bssids_test = []\n",
    "for i in range(wifi_feat_nums):\n",
    "    wifi_bssids_test.extend(test_data.iloc[:,i].values.tolist())\n",
    "wifi_bssids_test = list(set(wifi_bssids_test))\n",
    "\n",
    "wifi_bssids_size = len(wifi_bssids_test)\n",
    "print(f'BSSID TYPES: {wifi_bssids_size}')\n",
    "\n",
    "wifi_bssids.extend(wifi_bssids_test)\n",
    "wifi_bssids_size = len(wifi_bssids)"
   ]
  },
  {
   "cell_type": "code",
   "execution_count": 12,
   "id": "successful-python",
   "metadata": {
    "execution": {
     "iopub.execute_input": "2021-04-10T10:38:31.157082Z",
     "iopub.status.busy": "2021-04-10T10:38:31.156273Z",
     "iopub.status.idle": "2021-04-10T10:38:32.206658Z",
     "shell.execute_reply": "2021-04-10T10:38:32.207096Z"
    },
    "papermill": {
     "duration": 1.169026,
     "end_time": "2021-04-10T10:38:32.207266",
     "exception": false,
     "start_time": "2021-04-10T10:38:31.038240",
     "status": "completed"
    },
    "tags": []
   },
   "outputs": [
    {
     "data": {
      "text/plain": [
       "StandardScaler()"
      ]
     },
     "execution_count": 12,
     "metadata": {},
     "output_type": "execute_result"
    }
   ],
   "source": [
    "# preprocess\n",
    "\n",
    "le = LabelEncoder()\n",
    "le.fit(wifi_bssids)\n",
    "le_site = LabelEncoder()\n",
    "le_site.fit(data['site_id'])\n",
    "\n",
    "ss = StandardScaler()\n",
    "ss.fit(data.loc[:,RSSI_FEATS])"
   ]
  },
  {
   "cell_type": "code",
   "execution_count": 13,
   "id": "vital-review",
   "metadata": {
    "execution": {
     "iopub.execute_input": "2021-04-10T10:38:32.427060Z",
     "iopub.status.busy": "2021-04-10T10:38:32.425816Z",
     "iopub.status.idle": "2021-04-10T10:38:58.122256Z",
     "shell.execute_reply": "2021-04-10T10:38:58.121070Z"
    },
    "papermill": {
     "duration": 25.820749,
     "end_time": "2021-04-10T10:38:58.122446",
     "exception": false,
     "start_time": "2021-04-10T10:38:32.301697",
     "status": "completed"
    },
    "tags": []
   },
   "outputs": [],
   "source": [
    "data.loc[:,RSSI_FEATS] = ss.transform(data.loc[:,RSSI_FEATS])\n",
    "for i in BSSID_FEATS:\n",
    "    data.loc[:,i] = le.transform(data.loc[:,i])\n",
    "    \n",
    "data.loc[:, 'site_id'] = le_site.transform(data.loc[:, 'site_id'])\n",
    "\n",
    "data.loc[:,RSSI_FEATS] = ss.transform(data.loc[:,RSSI_FEATS])"
   ]
  },
  {
   "cell_type": "code",
   "execution_count": 14,
   "id": "sporting-season",
   "metadata": {
    "execution": {
     "iopub.execute_input": "2021-04-10T10:38:58.334481Z",
     "iopub.status.busy": "2021-04-10T10:38:58.333557Z",
     "iopub.status.idle": "2021-04-10T10:39:01.508979Z",
     "shell.execute_reply": "2021-04-10T10:39:01.508486Z"
    },
    "papermill": {
     "duration": 3.286331,
     "end_time": "2021-04-10T10:39:01.509113",
     "exception": false,
     "start_time": "2021-04-10T10:38:58.222782",
     "status": "completed"
    },
    "tags": []
   },
   "outputs": [],
   "source": [
    "test_data.loc[:,RSSI_FEATS] = ss.transform(test_data.loc[:,RSSI_FEATS])\n",
    "for i in BSSID_FEATS:\n",
    "    test_data.loc[:,i] = le.transform(test_data.loc[:,i])\n",
    "    \n",
    "test_data.loc[:, 'site_id'] = le_site.transform(test_data.loc[:, 'site_id'])\n",
    "\n",
    "test_data.loc[:,RSSI_FEATS] = ss.transform(test_data.loc[:,RSSI_FEATS])"
   ]
  },
  {
   "cell_type": "code",
   "execution_count": 15,
   "id": "external-absolute",
   "metadata": {
    "execution": {
     "iopub.execute_input": "2021-04-10T10:39:01.722166Z",
     "iopub.status.busy": "2021-04-10T10:39:01.721288Z",
     "iopub.status.idle": "2021-04-10T10:39:01.724494Z",
     "shell.execute_reply": "2021-04-10T10:39:01.723995Z"
    },
    "papermill": {
     "duration": 0.108658,
     "end_time": "2021-04-10T10:39:01.724620",
     "exception": false,
     "start_time": "2021-04-10T10:39:01.615962",
     "status": "completed"
    },
    "tags": []
   },
   "outputs": [],
   "source": [
    "# plus = abs(data['floor_pred'].min())\n",
    "# data['floor_pred'] += plus\n",
    "# test_data['floor_pred'] += plus"
   ]
  },
  {
   "cell_type": "code",
   "execution_count": 16,
   "id": "objective-plumbing",
   "metadata": {
    "execution": {
     "iopub.execute_input": "2021-04-10T10:39:01.939180Z",
     "iopub.status.busy": "2021-04-10T10:39:01.938292Z",
     "iopub.status.idle": "2021-04-10T10:39:01.944064Z",
     "shell.execute_reply": "2021-04-10T10:39:01.943498Z"
    },
    "papermill": {
     "duration": 0.111719,
     "end_time": "2021-04-10T10:39:01.944183",
     "exception": false,
     "start_time": "2021-04-10T10:39:01.832464",
     "status": "completed"
    },
    "tags": []
   },
   "outputs": [],
   "source": [
    "site_count = len(data['site_id'].unique())\n",
    "# floor_count = data['floor_pred'].max() + 1\n",
    "data.reset_index(drop=True, inplace=True)"
   ]
  },
  {
   "cell_type": "code",
   "execution_count": 17,
   "id": "operating-knight",
   "metadata": {
    "execution": {
     "iopub.execute_input": "2021-04-10T10:39:02.152257Z",
     "iopub.status.busy": "2021-04-10T10:39:02.151622Z",
     "iopub.status.idle": "2021-04-10T10:39:05.387760Z",
     "shell.execute_reply": "2021-04-10T10:39:05.386793Z"
    },
    "papermill": {
     "duration": 3.342072,
     "end_time": "2021-04-10T10:39:05.387906",
     "exception": false,
     "start_time": "2021-04-10T10:39:02.045834",
     "status": "completed"
    },
    "tags": []
   },
   "outputs": [],
   "source": [
    "set_seed(SEED)"
   ]
  },
  {
   "cell_type": "markdown",
   "id": "broke-toyota",
   "metadata": {
    "papermill": {
     "duration": 0.098853,
     "end_time": "2021-04-10T10:39:05.585944",
     "exception": false,
     "start_time": "2021-04-10T10:39:05.487091",
     "status": "completed"
    },
    "tags": []
   },
   "source": [
    "# model"
   ]
  },
  {
   "cell_type": "code",
   "execution_count": 18,
   "id": "suspected-bryan",
   "metadata": {
    "execution": {
     "iopub.execute_input": "2021-04-10T10:39:05.795398Z",
     "iopub.status.busy": "2021-04-10T10:39:05.793536Z",
     "iopub.status.idle": "2021-04-10T10:39:05.796020Z",
     "shell.execute_reply": "2021-04-10T10:39:05.796449Z"
    },
    "papermill": {
     "duration": 0.110189,
     "end_time": "2021-04-10T10:39:05.796591",
     "exception": false,
     "start_time": "2021-04-10T10:39:05.686402",
     "status": "completed"
    },
    "tags": []
   },
   "outputs": [],
   "source": [
    "num_heads = 8\n",
    "bssid_embed_dim = 64\n",
    "site_embed_dim = 2\n",
    "ff_dim = 128 \n",
    "DROPOUT = 0.2\n",
    "maxlen = NUM_FEATS\n",
    "batch_size=256\n",
    "epochs=40"
   ]
  },
  {
   "cell_type": "code",
   "execution_count": 19,
   "id": "conditional-scholarship",
   "metadata": {
    "execution": {
     "iopub.execute_input": "2021-04-10T10:39:06.010600Z",
     "iopub.status.busy": "2021-04-10T10:39:06.009825Z",
     "iopub.status.idle": "2021-04-10T10:39:06.013598Z",
     "shell.execute_reply": "2021-04-10T10:39:06.014010Z"
    },
    "papermill": {
     "duration": 0.11577,
     "end_time": "2021-04-10T10:39:06.014162",
     "exception": false,
     "start_time": "2021-04-10T10:39:05.898392",
     "status": "completed"
    },
    "tags": []
   },
   "outputs": [],
   "source": [
    "class TransformerBlock(Layer):\n",
    "    def __init__(self, embed_dim, num_heads, ff_dim, rate=DROPOUT):\n",
    "        super(TransformerBlock, self).__init__()\n",
    "        self.att = MultiHeadAttention(num_heads=num_heads, key_dim=embed_dim)\n",
    "        self.ffn = Sequential(\n",
    "            [Dense(ff_dim, activation=\"relu\"), Dense(embed_dim),]\n",
    "        )\n",
    "        self.layernorm1 = LayerNormalization(epsilon=1e-6)\n",
    "        self.layernorm2 = LayerNormalization(epsilon=1e-6)\n",
    "        self.dropout1 = Dropout(rate)\n",
    "        self.dropout2 = Dropout(rate)\n",
    "\n",
    "    def call(self, inputs, training):\n",
    "        attn_output = self.att(inputs, inputs)\n",
    "        attn_output = self.dropout1(attn_output, training=training)\n",
    "        out1 = self.layernorm1(inputs + attn_output)\n",
    "        ffn_output = self.ffn(out1)\n",
    "        ffn_output = self.dropout2(ffn_output, training=training)\n",
    "        return self.layernorm2(out1 + ffn_output)\n",
    "    \n",
    "class TokenAndPositionEmbedding(Layer):\n",
    "    def __init__(self, maxlen, vocab_size, embed_dim):\n",
    "        super(TokenAndPositionEmbedding, self).__init__()\n",
    "        self.token_emb = Embedding(input_dim=vocab_size, output_dim=embed_dim, mask_zero=True)\n",
    "        self.pos_emb = Embedding(input_dim=maxlen, output_dim=embed_dim)\n",
    "\n",
    "    def call(self, x):\n",
    "        maxlen = tf.shape(x)[-1]\n",
    "        positions = tf.range(start=0, limit=maxlen, delta=1)\n",
    "        positions = self.pos_emb(positions)\n",
    "        x = self.token_emb(x)\n",
    "        return x + positions"
   ]
  },
  {
   "cell_type": "code",
   "execution_count": 20,
   "id": "educated-eclipse",
   "metadata": {
    "execution": {
     "iopub.execute_input": "2021-04-10T10:39:06.224447Z",
     "iopub.status.busy": "2021-04-10T10:39:06.223644Z",
     "iopub.status.idle": "2021-04-10T10:39:06.226301Z",
     "shell.execute_reply": "2021-04-10T10:39:06.226740Z"
    },
    "papermill": {
     "duration": 0.112363,
     "end_time": "2021-04-10T10:39:06.226885",
     "exception": false,
     "start_time": "2021-04-10T10:39:06.114522",
     "status": "completed"
    },
    "tags": []
   },
   "outputs": [],
   "source": [
    "def create_model(input_data):\n",
    "\n",
    "    # bssid feats\n",
    "    input_dim = input_data[0].shape[1]\n",
    "\n",
    "    input_embd_layer = L.Input(shape=(input_dim,))\n",
    "    x1 = L.Embedding(wifi_bssids_size, bssid_embed_dim)(input_embd_layer)\n",
    "    x1 = L.Flatten()(x1)\n",
    "\n",
    "    # rssi feats\n",
    "    input_dim = input_data[1].shape[1]\n",
    "\n",
    "    input_layer = L.Input(input_dim, )\n",
    "    x2 = L.BatchNormalization()(input_layer)\n",
    "    x2 = L.Dense(NUM_FEATS * 64, activation='relu')(x2)\n",
    "\n",
    "    # site\n",
    "    input_site_layer = L.Input(shape=(1,))\n",
    "    x3 = L.Embedding(site_count, site_embed_dim)(input_site_layer)\n",
    "    x3 = L.Flatten()(x3)\n",
    "\n",
    "    \n",
    "    # main stream\n",
    "    x = L.Concatenate(axis=1)([x1, x3, x2])\n",
    "\n",
    "    x = L.BatchNormalization()(x)\n",
    "    x = L.Dropout(0.3)(x)\n",
    "    x = L.Dense(256, activation='relu')(x)\n",
    "\n",
    "    x = L.Reshape((1, -1))(x)\n",
    "    x = L.BatchNormalization()(x)\n",
    "    x = L.LSTM(128, dropout=0.3, recurrent_dropout=0.3, return_sequences=True, activation='relu')(x)\n",
    "    x = L.LSTM(16, dropout=0.1, return_sequences=False, activation='relu')(x)\n",
    "    \n",
    "    output_layer_1 = L.Dense(2, name='xy')(x)\n",
    "    output_layer_2 = L.Dense(1, activation='softmax', name='floor')(x)\n",
    "\n",
    "    model = M.Model([input_embd_layer, input_layer, input_site_layer], \n",
    "                    [output_layer_1, output_layer_2])\n",
    "\n",
    "    model.compile(optimizer=tf.optimizers.Adam(lr=0.002),\n",
    "                  loss='mse', metrics=['mse'])\n",
    "\n",
    "    return model"
   ]
  },
  {
   "cell_type": "code",
   "execution_count": 21,
   "id": "ignored-animation",
   "metadata": {
    "execution": {
     "iopub.execute_input": "2021-04-10T10:39:06.452691Z",
     "iopub.status.busy": "2021-04-10T10:39:06.451680Z",
     "iopub.status.idle": "2021-04-10T13:20:52.421974Z",
     "shell.execute_reply": "2021-04-10T13:20:51.934650Z"
    },
    "papermill": {
     "duration": 9706.094851,
     "end_time": "2021-04-10T13:20:52.422157",
     "exception": false,
     "start_time": "2021-04-10T10:39:06.327306",
     "status": "completed"
    },
    "tags": []
   },
   "outputs": [
    {
     "name": "stdout",
     "output_type": "stream",
     "text": [
      "Epoch 1/40\n",
      "1115/1115 [==============================] - 89s 74ms/step - loss: 2307.2827 - xy_loss: 2303.9302 - floor_loss: 3.3529 - xy_mse: 2303.9302 - floor_mse: 3.3529 - val_loss: 139.9472 - val_xy_loss: 136.5993 - val_floor_loss: 3.3479 - val_xy_mse: 136.5993 - val_floor_mse: 3.3479\n",
      "\n",
      "Epoch 00001: val_xy_loss improved from inf to 136.59933, saving model to /kaggle/RNN_2021_0.hdf5\n",
      "Epoch 2/40\n",
      "1115/1115 [==============================] - 85s 76ms/step - loss: 182.8910 - xy_loss: 179.5563 - floor_loss: 3.3346 - xy_mse: 179.5563 - floor_mse: 3.3346 - val_loss: 66.2100 - val_xy_loss: 62.8621 - val_floor_loss: 3.3479 - val_xy_mse: 62.8621 - val_floor_mse: 3.3479\n",
      "\n",
      "Epoch 00002: val_xy_loss improved from 136.59933 to 62.86214, saving model to /kaggle/RNN_2021_0.hdf5\n",
      "Epoch 3/40\n",
      "1115/1115 [==============================] - 84s 76ms/step - loss: 148.3745 - xy_loss: 145.0272 - floor_loss: 3.3473 - xy_mse: 145.0272 - floor_mse: 3.3473 - val_loss: 55.2739 - val_xy_loss: 51.9260 - val_floor_loss: 3.3479 - val_xy_mse: 51.9260 - val_floor_mse: 3.3479\n",
      "\n",
      "Epoch 00003: val_xy_loss improved from 62.86214 to 51.92604, saving model to /kaggle/RNN_2021_0.hdf5\n",
      "Epoch 4/40\n",
      "1115/1115 [==============================] - 84s 76ms/step - loss: 124.8561 - xy_loss: 121.5101 - floor_loss: 3.3460 - xy_mse: 121.5101 - floor_mse: 3.3460 - val_loss: 56.4757 - val_xy_loss: 53.1278 - val_floor_loss: 3.3479 - val_xy_mse: 53.1278 - val_floor_mse: 3.3479\n",
      "\n",
      "Epoch 00004: val_xy_loss did not improve from 51.92604\n",
      "Epoch 5/40\n",
      "1115/1115 [==============================] - 86s 77ms/step - loss: 111.3151 - xy_loss: 107.9719 - floor_loss: 3.3432 - xy_mse: 107.9719 - floor_mse: 3.3432 - val_loss: 56.2774 - val_xy_loss: 52.9295 - val_floor_loss: 3.3479 - val_xy_mse: 52.9295 - val_floor_mse: 3.3479\n",
      "\n",
      "Epoch 00005: val_xy_loss did not improve from 51.92604\n",
      "Epoch 6/40\n",
      "1115/1115 [==============================] - 86s 77ms/step - loss: 99.4514 - xy_loss: 96.1092 - floor_loss: 3.3422 - xy_mse: 96.1092 - floor_mse: 3.3422 - val_loss: 44.2085 - val_xy_loss: 40.8606 - val_floor_loss: 3.3479 - val_xy_mse: 40.8606 - val_floor_mse: 3.3479\n",
      "\n",
      "Epoch 00006: val_xy_loss improved from 51.92604 to 40.86060, saving model to /kaggle/RNN_2021_0.hdf5\n",
      "Epoch 7/40\n",
      "1115/1115 [==============================] - 87s 78ms/step - loss: 90.3970 - xy_loss: 87.0520 - floor_loss: 3.3450 - xy_mse: 87.0520 - floor_mse: 3.3450 - val_loss: 38.5661 - val_xy_loss: 35.2182 - val_floor_loss: 3.3479 - val_xy_mse: 35.2182 - val_floor_mse: 3.3479\n",
      "\n",
      "Epoch 00007: val_xy_loss improved from 40.86060 to 35.21821, saving model to /kaggle/RNN_2021_0.hdf5\n",
      "Epoch 8/40\n",
      "1115/1115 [==============================] - 86s 77ms/step - loss: 81.0061 - xy_loss: 77.6604 - floor_loss: 3.3457 - xy_mse: 77.6604 - floor_mse: 3.3457 - val_loss: 39.5131 - val_xy_loss: 36.1653 - val_floor_loss: 3.3479 - val_xy_mse: 36.1653 - val_floor_mse: 3.3479\n",
      "\n",
      "Epoch 00008: val_xy_loss did not improve from 35.21821\n",
      "Epoch 9/40\n",
      "1115/1115 [==============================] - 87s 78ms/step - loss: 73.4814 - xy_loss: 70.1488 - floor_loss: 3.3326 - xy_mse: 70.1488 - floor_mse: 3.3326 - val_loss: 39.8687 - val_xy_loss: 36.5208 - val_floor_loss: 3.3479 - val_xy_mse: 36.5208 - val_floor_mse: 3.3479\n",
      "\n",
      "Epoch 00009: val_xy_loss did not improve from 35.21821\n",
      "Epoch 10/40\n",
      "1115/1115 [==============================] - 85s 77ms/step - loss: 67.2883 - xy_loss: 63.9437 - floor_loss: 3.3446 - xy_mse: 63.9437 - floor_mse: 3.3446 - val_loss: 35.1612 - val_xy_loss: 31.8133 - val_floor_loss: 3.3479 - val_xy_mse: 31.8133 - val_floor_mse: 3.3479\n",
      "\n",
      "Epoch 00010: val_xy_loss improved from 35.21821 to 31.81334, saving model to /kaggle/RNN_2021_0.hdf5\n",
      "Epoch 11/40\n",
      "1115/1115 [==============================] - 85s 76ms/step - loss: 60.8892 - xy_loss: 57.5419 - floor_loss: 3.3473 - xy_mse: 57.5419 - floor_mse: 3.3473 - val_loss: 56.0820 - val_xy_loss: 52.7341 - val_floor_loss: 3.3479 - val_xy_mse: 52.7341 - val_floor_mse: 3.3479\n",
      "\n",
      "Epoch 00011: val_xy_loss did not improve from 31.81334\n",
      "Epoch 12/40\n",
      "1115/1115 [==============================] - 84s 75ms/step - loss: 55.5454 - xy_loss: 52.1781 - floor_loss: 3.3673 - xy_mse: 52.1781 - floor_mse: 3.3673 - val_loss: 37.4264 - val_xy_loss: 34.0785 - val_floor_loss: 3.3479 - val_xy_mse: 34.0785 - val_floor_mse: 3.3479\n",
      "\n",
      "Epoch 00012: val_xy_loss did not improve from 31.81334\n",
      "Epoch 13/40\n",
      "1115/1115 [==============================] - 86s 77ms/step - loss: 51.7259 - xy_loss: 48.3872 - floor_loss: 3.3387 - xy_mse: 48.3872 - floor_mse: 3.3387 - val_loss: 33.3816 - val_xy_loss: 30.0337 - val_floor_loss: 3.3479 - val_xy_mse: 30.0337 - val_floor_mse: 3.3479\n",
      "\n",
      "Epoch 00013: val_xy_loss improved from 31.81334 to 30.03374, saving model to /kaggle/RNN_2021_0.hdf5\n",
      "Epoch 14/40\n",
      "1115/1115 [==============================] - 83s 75ms/step - loss: 47.8394 - xy_loss: 44.4829 - floor_loss: 3.3565 - xy_mse: 44.4829 - floor_mse: 3.3565 - val_loss: 32.5475 - val_xy_loss: 29.1996 - val_floor_loss: 3.3479 - val_xy_mse: 29.1996 - val_floor_mse: 3.3479\n",
      "\n",
      "Epoch 00014: val_xy_loss improved from 30.03374 to 29.19959, saving model to /kaggle/RNN_2021_0.hdf5\n",
      "Epoch 15/40\n",
      "1115/1115 [==============================] - 84s 75ms/step - loss: 44.3379 - xy_loss: 40.9788 - floor_loss: 3.3592 - xy_mse: 40.9788 - floor_mse: 3.3592 - val_loss: 30.4195 - val_xy_loss: 27.0717 - val_floor_loss: 3.3479 - val_xy_mse: 27.0717 - val_floor_mse: 3.3479\n",
      "\n",
      "Epoch 00015: val_xy_loss improved from 29.19959 to 27.07166, saving model to /kaggle/RNN_2021_0.hdf5\n",
      "Epoch 16/40\n",
      "1115/1115 [==============================] - 85s 76ms/step - loss: 41.8233 - xy_loss: 38.4687 - floor_loss: 3.3546 - xy_mse: 38.4687 - floor_mse: 3.3546 - val_loss: 31.5479 - val_xy_loss: 28.2000 - val_floor_loss: 3.3479 - val_xy_mse: 28.2000 - val_floor_mse: 3.3479\n",
      "\n",
      "Epoch 00016: val_xy_loss did not improve from 27.07166\n",
      "Epoch 17/40\n",
      "1115/1115 [==============================] - 85s 77ms/step - loss: 39.8238 - xy_loss: 36.4692 - floor_loss: 3.3546 - xy_mse: 36.4692 - floor_mse: 3.3546 - val_loss: 30.5325 - val_xy_loss: 27.1846 - val_floor_loss: 3.3479 - val_xy_mse: 27.1846 - val_floor_mse: 3.3479\n",
      "\n",
      "Epoch 00017: val_xy_loss did not improve from 27.07166\n",
      "Epoch 18/40\n",
      "1115/1115 [==============================] - 86s 77ms/step - loss: 37.3923 - xy_loss: 34.0370 - floor_loss: 3.3553 - xy_mse: 34.0370 - floor_mse: 3.3553 - val_loss: 30.7886 - val_xy_loss: 27.4407 - val_floor_loss: 3.3479 - val_xy_mse: 27.4407 - val_floor_mse: 3.3479\n",
      "\n",
      "Epoch 00018: ReduceLROnPlateau reducing learning rate to 0.00020000000949949026.\n",
      "\n",
      "Epoch 00018: val_xy_loss did not improve from 27.07166\n",
      "Epoch 19/40\n",
      "1115/1115 [==============================] - 91s 82ms/step - loss: 32.9665 - xy_loss: 29.6147 - floor_loss: 3.3519 - xy_mse: 29.6147 - floor_mse: 3.3519 - val_loss: 27.6294 - val_xy_loss: 24.2815 - val_floor_loss: 3.3479 - val_xy_mse: 24.2815 - val_floor_mse: 3.3479\n",
      "\n",
      "Epoch 00019: val_xy_loss improved from 27.07166 to 24.28154, saving model to /kaggle/RNN_2021_0.hdf5\n",
      "Epoch 20/40\n",
      "1115/1115 [==============================] - 81s 72ms/step - loss: 31.4045 - xy_loss: 28.0523 - floor_loss: 3.3522 - xy_mse: 28.0523 - floor_mse: 3.3522 - val_loss: 26.4637 - val_xy_loss: 23.1158 - val_floor_loss: 3.3479 - val_xy_mse: 23.1158 - val_floor_mse: 3.3479\n",
      "\n",
      "Epoch 00020: val_xy_loss improved from 24.28154 to 23.11578, saving model to /kaggle/RNN_2021_0.hdf5\n",
      "Epoch 21/40\n",
      "1115/1115 [==============================] - 87s 78ms/step - loss: 30.5520 - xy_loss: 27.1916 - floor_loss: 3.3604 - xy_mse: 27.1916 - floor_mse: 3.3604 - val_loss: 26.4611 - val_xy_loss: 23.1132 - val_floor_loss: 3.3479 - val_xy_mse: 23.1132 - val_floor_mse: 3.3479\n",
      "\n",
      "Epoch 00021: val_xy_loss improved from 23.11578 to 23.11321, saving model to /kaggle/RNN_2021_0.hdf5\n",
      "Epoch 22/40\n",
      "1115/1115 [==============================] - 80s 72ms/step - loss: 30.0845 - xy_loss: 26.7333 - floor_loss: 3.3512 - xy_mse: 26.7333 - floor_mse: 3.3512 - val_loss: 26.5701 - val_xy_loss: 23.2222 - val_floor_loss: 3.3479 - val_xy_mse: 23.2222 - val_floor_mse: 3.3479\n",
      "\n",
      "Epoch 00022: val_xy_loss did not improve from 23.11321\n",
      "Epoch 23/40\n",
      "1115/1115 [==============================] - 87s 78ms/step - loss: 29.4928 - xy_loss: 26.1498 - floor_loss: 3.3430 - xy_mse: 26.1498 - floor_mse: 3.3430 - val_loss: 25.7898 - val_xy_loss: 22.4419 - val_floor_loss: 3.3479 - val_xy_mse: 22.4419 - val_floor_mse: 3.3479\n",
      "\n",
      "Epoch 00023: val_xy_loss improved from 23.11321 to 22.44192, saving model to /kaggle/RNN_2021_0.hdf5\n",
      "Epoch 24/40\n",
      "1115/1115 [==============================] - 87s 78ms/step - loss: 29.3903 - xy_loss: 26.0412 - floor_loss: 3.3491 - xy_mse: 26.0412 - floor_mse: 3.3491 - val_loss: 26.2319 - val_xy_loss: 22.8841 - val_floor_loss: 3.3479 - val_xy_mse: 22.8841 - val_floor_mse: 3.3479\n",
      "\n",
      "Epoch 00024: val_xy_loss did not improve from 22.44192\n",
      "Epoch 25/40\n",
      "1115/1115 [==============================] - 80s 72ms/step - loss: 28.7642 - xy_loss: 25.4055 - floor_loss: 3.3587 - xy_mse: 25.4055 - floor_mse: 3.3587 - val_loss: 26.3441 - val_xy_loss: 22.9962 - val_floor_loss: 3.3479 - val_xy_mse: 22.9962 - val_floor_mse: 3.3479\n",
      "\n",
      "Epoch 00025: val_xy_loss did not improve from 22.44192\n",
      "Epoch 26/40\n",
      "1115/1115 [==============================] - 85s 76ms/step - loss: 28.5718 - xy_loss: 25.2235 - floor_loss: 3.3483 - xy_mse: 25.2235 - floor_mse: 3.3483 - val_loss: 26.0409 - val_xy_loss: 22.6930 - val_floor_loss: 3.3479 - val_xy_mse: 22.6930 - val_floor_mse: 3.3479\n",
      "\n",
      "Epoch 00026: ReduceLROnPlateau reducing learning rate to 2.0000000949949027e-05.\n",
      "\n",
      "Epoch 00026: val_xy_loss did not improve from 22.44192\n",
      "Epoch 27/40\n",
      "1115/1115 [==============================] - 79s 70ms/step - loss: 28.1402 - xy_loss: 24.8036 - floor_loss: 3.3366 - xy_mse: 24.8036 - floor_mse: 3.3366 - val_loss: 25.7405 - val_xy_loss: 22.3926 - val_floor_loss: 3.3479 - val_xy_mse: 22.3926 - val_floor_mse: 3.3479\n",
      "\n",
      "Epoch 00027: val_xy_loss improved from 22.44192 to 22.39262, saving model to /kaggle/RNN_2021_0.hdf5\n",
      "Epoch 28/40\n",
      "1115/1115 [==============================] - 86s 77ms/step - loss: 28.0328 - xy_loss: 24.6951 - floor_loss: 3.3376 - xy_mse: 24.6951 - floor_mse: 3.3376 - val_loss: 26.0119 - val_xy_loss: 22.6640 - val_floor_loss: 3.3479 - val_xy_mse: 22.6640 - val_floor_mse: 3.3479\n",
      "\n",
      "Epoch 00028: val_xy_loss did not improve from 22.39262\n",
      "Epoch 29/40\n",
      "1115/1115 [==============================] - 86s 78ms/step - loss: 28.0718 - xy_loss: 24.7188 - floor_loss: 3.3530 - xy_mse: 24.7188 - floor_mse: 3.3530 - val_loss: 25.8997 - val_xy_loss: 22.5518 - val_floor_loss: 3.3479 - val_xy_mse: 22.5518 - val_floor_mse: 3.3479\n",
      "\n",
      "Epoch 00029: val_xy_loss did not improve from 22.39262\n",
      "Epoch 30/40\n",
      "1115/1115 [==============================] - 79s 71ms/step - loss: 27.8476 - xy_loss: 24.5134 - floor_loss: 3.3341 - xy_mse: 24.5134 - floor_mse: 3.3341 - val_loss: 25.9844 - val_xy_loss: 22.6365 - val_floor_loss: 3.3479 - val_xy_mse: 22.6365 - val_floor_mse: 3.3479\n",
      "\n",
      "Epoch 00030: ReduceLROnPlateau reducing learning rate to 2.0000001313746906e-06.\n",
      "\n",
      "Epoch 00030: val_xy_loss did not improve from 22.39262\n",
      "Epoch 31/40\n",
      "1115/1115 [==============================] - 87s 78ms/step - loss: 27.7692 - xy_loss: 24.4267 - floor_loss: 3.3426 - xy_mse: 24.4267 - floor_mse: 3.3426 - val_loss: 26.0100 - val_xy_loss: 22.6622 - val_floor_loss: 3.3479 - val_xy_mse: 22.6622 - val_floor_mse: 3.3479\n",
      "\n",
      "Epoch 00031: val_xy_loss did not improve from 22.39262\n",
      "Epoch 32/40\n",
      "1115/1115 [==============================] - 79s 71ms/step - loss: 27.9382 - xy_loss: 24.5932 - floor_loss: 3.3450 - xy_mse: 24.5932 - floor_mse: 3.3450 - val_loss: 25.8871 - val_xy_loss: 22.5393 - val_floor_loss: 3.3479 - val_xy_mse: 22.5393 - val_floor_mse: 3.3479\n",
      "\n",
      "Epoch 00032: val_xy_loss did not improve from 22.39262\n",
      "fold 0: mean position error 26.503594707551766\n",
      "Epoch 1/40\n",
      "1115/1115 [==============================] - 93s 79ms/step - loss: 2410.7361 - xy_loss: 2407.3842 - floor_loss: 3.3528 - xy_mse: 2407.3842 - floor_mse: 3.3528 - val_loss: 114.2873 - val_xy_loss: 110.9391 - val_floor_loss: 3.3482 - val_xy_mse: 110.9391 - val_floor_mse: 3.3482\n",
      "\n",
      "Epoch 00001: val_xy_loss improved from inf to 110.93906, saving model to /kaggle/RNN_2021_1.hdf5\n",
      "Epoch 2/40\n",
      "1115/1115 [==============================] - 86s 77ms/step - loss: 180.3424 - xy_loss: 177.0078 - floor_loss: 3.3345 - xy_mse: 177.0078 - floor_mse: 3.3345 - val_loss: 81.8080 - val_xy_loss: 78.4598 - val_floor_loss: 3.3482 - val_xy_mse: 78.4598 - val_floor_mse: 3.3482\n",
      "\n",
      "Epoch 00002: val_xy_loss improved from 110.93906 to 78.45981, saving model to /kaggle/RNN_2021_1.hdf5\n",
      "Epoch 3/40\n",
      "1115/1115 [==============================] - 82s 74ms/step - loss: 154.4707 - xy_loss: 151.1236 - floor_loss: 3.3471 - xy_mse: 151.1236 - floor_mse: 3.3471 - val_loss: 59.4766 - val_xy_loss: 56.1284 - val_floor_loss: 3.3482 - val_xy_mse: 56.1284 - val_floor_mse: 3.3482\n",
      "\n",
      "Epoch 00003: val_xy_loss improved from 78.45981 to 56.12839, saving model to /kaggle/RNN_2021_1.hdf5\n",
      "Epoch 4/40\n",
      "1115/1115 [==============================] - 88s 79ms/step - loss: 132.9359 - xy_loss: 129.5898 - floor_loss: 3.3461 - xy_mse: 129.5898 - floor_mse: 3.3461 - val_loss: 60.4790 - val_xy_loss: 57.1308 - val_floor_loss: 3.3482 - val_xy_mse: 57.1308 - val_floor_mse: 3.3482\n",
      "\n",
      "Epoch 00004: val_xy_loss did not improve from 56.12839\n",
      "Epoch 5/40\n",
      "1115/1115 [==============================] - 79s 71ms/step - loss: 119.3482 - xy_loss: 116.0053 - floor_loss: 3.3429 - xy_mse: 116.0053 - floor_mse: 3.3429 - val_loss: 47.0025 - val_xy_loss: 43.6543 - val_floor_loss: 3.3482 - val_xy_mse: 43.6543 - val_floor_mse: 3.3482\n",
      "\n",
      "Epoch 00005: val_xy_loss improved from 56.12839 to 43.65433, saving model to /kaggle/RNN_2021_1.hdf5\n",
      "Epoch 6/40\n",
      "1115/1115 [==============================] - 89s 80ms/step - loss: 107.0806 - xy_loss: 103.7384 - floor_loss: 3.3422 - xy_mse: 103.7384 - floor_mse: 3.3422 - val_loss: 56.3477 - val_xy_loss: 52.9995 - val_floor_loss: 3.3482 - val_xy_mse: 52.9995 - val_floor_mse: 3.3482\n",
      "\n",
      "Epoch 00006: val_xy_loss did not improve from 43.65433\n",
      "Epoch 7/40\n",
      "1115/1115 [==============================] - 82s 74ms/step - loss: 99.3443 - xy_loss: 95.9994 - floor_loss: 3.3449 - xy_mse: 95.9994 - floor_mse: 3.3449 - val_loss: 87.6804 - val_xy_loss: 84.3322 - val_floor_loss: 3.3482 - val_xy_mse: 84.3322 - val_floor_mse: 3.3482\n",
      "\n",
      "Epoch 00007: val_xy_loss did not improve from 43.65433\n",
      "Epoch 8/40\n",
      "1115/1115 [==============================] - 81s 73ms/step - loss: 90.0167 - xy_loss: 86.6712 - floor_loss: 3.3455 - xy_mse: 86.6712 - floor_mse: 3.3455 - val_loss: 46.7687 - val_xy_loss: 43.4205 - val_floor_loss: 3.3482 - val_xy_mse: 43.4205 - val_floor_mse: 3.3482\n",
      "\n",
      "Epoch 00008: val_xy_loss improved from 43.65433 to 43.42052, saving model to /kaggle/RNN_2021_1.hdf5\n",
      "Epoch 9/40\n",
      "1115/1115 [==============================] - 89s 79ms/step - loss: 82.8110 - xy_loss: 79.4785 - floor_loss: 3.3325 - xy_mse: 79.4785 - floor_mse: 3.3325 - val_loss: 42.0829 - val_xy_loss: 38.7348 - val_floor_loss: 3.3482 - val_xy_mse: 38.7348 - val_floor_mse: 3.3482\n",
      "\n",
      "Epoch 00009: val_xy_loss improved from 43.42052 to 38.73476, saving model to /kaggle/RNN_2021_1.hdf5\n",
      "Epoch 10/40\n",
      "1115/1115 [==============================] - 78s 70ms/step - loss: 77.2294 - xy_loss: 73.8848 - floor_loss: 3.3446 - xy_mse: 73.8848 - floor_mse: 3.3446 - val_loss: 49.4685 - val_xy_loss: 46.1203 - val_floor_loss: 3.3482 - val_xy_mse: 46.1203 - val_floor_mse: 3.3482\n",
      "\n",
      "Epoch 00010: val_xy_loss did not improve from 38.73476\n",
      "Epoch 11/40\n",
      "1115/1115 [==============================] - 80s 71ms/step - loss: 70.0194 - xy_loss: 66.6721 - floor_loss: 3.3473 - xy_mse: 66.6721 - floor_mse: 3.3473 - val_loss: 43.8224 - val_xy_loss: 40.4742 - val_floor_loss: 3.3482 - val_xy_mse: 40.4742 - val_floor_mse: 3.3482\n",
      "\n",
      "Epoch 00011: val_xy_loss did not improve from 38.73476\n",
      "Epoch 12/40\n",
      "1115/1115 [==============================] - 84s 75ms/step - loss: 65.1353 - xy_loss: 61.7681 - floor_loss: 3.3672 - xy_mse: 61.7681 - floor_mse: 3.3672 - val_loss: 41.1121 - val_xy_loss: 37.7639 - val_floor_loss: 3.3482 - val_xy_mse: 37.7639 - val_floor_mse: 3.3482\n",
      "\n",
      "Epoch 00012: val_xy_loss improved from 38.73476 to 37.76389, saving model to /kaggle/RNN_2021_1.hdf5\n",
      "Epoch 13/40\n",
      "1115/1115 [==============================] - 85s 76ms/step - loss: 59.8813 - xy_loss: 56.5427 - floor_loss: 3.3386 - xy_mse: 56.5427 - floor_mse: 3.3386 - val_loss: 35.3289 - val_xy_loss: 31.9807 - val_floor_loss: 3.3482 - val_xy_mse: 31.9807 - val_floor_mse: 3.3482\n",
      "\n",
      "Epoch 00013: val_xy_loss improved from 37.76389 to 31.98073, saving model to /kaggle/RNN_2021_1.hdf5\n",
      "Epoch 14/40\n",
      "1115/1115 [==============================] - 80s 72ms/step - loss: 56.2467 - xy_loss: 52.8903 - floor_loss: 3.3564 - xy_mse: 52.8903 - floor_mse: 3.3564 - val_loss: 34.0317 - val_xy_loss: 30.6835 - val_floor_loss: 3.3482 - val_xy_mse: 30.6835 - val_floor_mse: 3.3482\n",
      "\n",
      "Epoch 00014: val_xy_loss improved from 31.98073 to 30.68349, saving model to /kaggle/RNN_2021_1.hdf5\n",
      "Epoch 15/40\n",
      "1115/1115 [==============================] - 82s 73ms/step - loss: 52.5672 - xy_loss: 49.2082 - floor_loss: 3.3590 - xy_mse: 49.2082 - floor_mse: 3.3590 - val_loss: 32.2398 - val_xy_loss: 28.8916 - val_floor_loss: 3.3482 - val_xy_mse: 28.8916 - val_floor_mse: 3.3482\n",
      "\n",
      "Epoch 00015: val_xy_loss improved from 30.68349 to 28.89165, saving model to /kaggle/RNN_2021_1.hdf5\n",
      "Epoch 16/40\n",
      "1115/1115 [==============================] - 93s 83ms/step - loss: 49.4123 - xy_loss: 46.0576 - floor_loss: 3.3547 - xy_mse: 46.0576 - floor_mse: 3.3547 - val_loss: 34.6893 - val_xy_loss: 31.3411 - val_floor_loss: 3.3482 - val_xy_mse: 31.3411 - val_floor_mse: 3.3482\n",
      "\n",
      "Epoch 00016: val_xy_loss did not improve from 28.89165\n",
      "Epoch 17/40\n",
      "1115/1115 [==============================] - 81s 73ms/step - loss: 47.2201 - xy_loss: 43.8654 - floor_loss: 3.3547 - xy_mse: 43.8654 - floor_mse: 3.3547 - val_loss: 31.2211 - val_xy_loss: 27.8729 - val_floor_loss: 3.3482 - val_xy_mse: 27.8729 - val_floor_mse: 3.3482\n",
      "\n",
      "Epoch 00017: val_xy_loss improved from 28.89165 to 27.87295, saving model to /kaggle/RNN_2021_1.hdf5\n",
      "Epoch 18/40\n",
      "1115/1115 [==============================] - 81s 72ms/step - loss: 45.4174 - xy_loss: 42.0620 - floor_loss: 3.3554 - xy_mse: 42.0620 - floor_mse: 3.3554 - val_loss: 30.8889 - val_xy_loss: 27.5407 - val_floor_loss: 3.3482 - val_xy_mse: 27.5407 - val_floor_mse: 3.3482\n",
      "\n",
      "Epoch 00018: val_xy_loss improved from 27.87295 to 27.54074, saving model to /kaggle/RNN_2021_1.hdf5\n",
      "Epoch 19/40\n",
      "1115/1115 [==============================] - 94s 84ms/step - loss: 43.4845 - xy_loss: 40.1325 - floor_loss: 3.3520 - xy_mse: 40.1325 - floor_mse: 3.3520 - val_loss: 30.2255 - val_xy_loss: 26.8773 - val_floor_loss: 3.3482 - val_xy_mse: 26.8773 - val_floor_mse: 3.3482\n",
      "\n",
      "Epoch 00019: val_xy_loss improved from 27.54074 to 26.87730, saving model to /kaggle/RNN_2021_1.hdf5\n",
      "Epoch 20/40\n",
      "1115/1115 [==============================] - 81s 72ms/step - loss: 41.6213 - xy_loss: 38.2691 - floor_loss: 3.3521 - xy_mse: 38.2691 - floor_mse: 3.3521 - val_loss: 31.1796 - val_xy_loss: 27.8314 - val_floor_loss: 3.3482 - val_xy_mse: 27.8314 - val_floor_mse: 3.3482\n",
      "\n",
      "Epoch 00020: val_xy_loss did not improve from 26.87730\n",
      "Epoch 21/40\n",
      "1115/1115 [==============================] - 81s 72ms/step - loss: 39.6432 - xy_loss: 36.2829 - floor_loss: 3.3603 - xy_mse: 36.2829 - floor_mse: 3.3603 - val_loss: 961.6030 - val_xy_loss: 958.2546 - val_floor_loss: 3.3482 - val_xy_mse: 958.2546 - val_floor_mse: 3.3482\n",
      "\n",
      "Epoch 00021: val_xy_loss did not improve from 26.87730\n",
      "Epoch 22/40\n",
      "1115/1115 [==============================] - 86s 77ms/step - loss: 38.8194 - xy_loss: 35.4683 - floor_loss: 3.3511 - xy_mse: 35.4683 - floor_mse: 3.3511 - val_loss: 29.0606 - val_xy_loss: 25.7124 - val_floor_loss: 3.3482 - val_xy_mse: 25.7124 - val_floor_mse: 3.3482\n",
      "\n",
      "Epoch 00022: val_xy_loss improved from 26.87730 to 25.71237, saving model to /kaggle/RNN_2021_1.hdf5\n",
      "Epoch 23/40\n",
      "1115/1115 [==============================] - 87s 78ms/step - loss: 37.1136 - xy_loss: 33.7707 - floor_loss: 3.3430 - xy_mse: 33.7707 - floor_mse: 3.3430 - val_loss: 67.9379 - val_xy_loss: 64.5897 - val_floor_loss: 3.3482 - val_xy_mse: 64.5897 - val_floor_mse: 3.3482\n",
      "\n",
      "Epoch 00023: val_xy_loss did not improve from 25.71237\n",
      "Epoch 24/40\n",
      "1115/1115 [==============================] - 80s 72ms/step - loss: 36.4218 - xy_loss: 33.0726 - floor_loss: 3.3491 - xy_mse: 33.0726 - floor_mse: 3.3491 - val_loss: 44.7677 - val_xy_loss: 41.4195 - val_floor_loss: 3.3482 - val_xy_mse: 41.4195 - val_floor_mse: 3.3482\n",
      "\n",
      "Epoch 00024: val_xy_loss did not improve from 25.71237\n",
      "Epoch 25/40\n",
      "1115/1115 [==============================] - 83s 74ms/step - loss: 34.7221 - xy_loss: 31.3635 - floor_loss: 3.3586 - xy_mse: 31.3635 - floor_mse: 3.3586 - val_loss: 511.2433 - val_xy_loss: 507.8952 - val_floor_loss: 3.3482 - val_xy_mse: 507.8952 - val_floor_mse: 3.3482\n",
      "\n",
      "Epoch 00025: ReduceLROnPlateau reducing learning rate to 0.00020000000949949026.\n",
      "\n",
      "Epoch 00025: val_xy_loss did not improve from 25.71237\n",
      "Epoch 26/40\n",
      "1115/1115 [==============================] - 97s 87ms/step - loss: 31.8177 - xy_loss: 28.4696 - floor_loss: 3.3481 - xy_mse: 28.4696 - floor_mse: 3.3481 - val_loss: 514.9294 - val_xy_loss: 511.5812 - val_floor_loss: 3.3482 - val_xy_mse: 511.5812 - val_floor_mse: 3.3482\n",
      "\n",
      "Epoch 00026: val_xy_loss did not improve from 25.71237\n",
      "Epoch 27/40\n",
      "1115/1115 [==============================] - 81s 73ms/step - loss: 30.4591 - xy_loss: 27.1228 - floor_loss: 3.3364 - xy_mse: 27.1228 - floor_mse: 3.3364 - val_loss: 891.4641 - val_xy_loss: 888.1154 - val_floor_loss: 3.3482 - val_xy_mse: 888.1154 - val_floor_mse: 3.3482\n",
      "\n",
      "Epoch 00027: val_xy_loss did not improve from 25.71237\n",
      "fold 1: mean position error 26.855568660071782\n",
      "Epoch 1/40\n",
      "1115/1115 [==============================] - 86s 73ms/step - loss: 2408.4240 - xy_loss: 2405.0716 - floor_loss: 3.3526 - xy_mse: 2405.0716 - floor_mse: 3.3526 - val_loss: 113.6264 - val_xy_loss: 110.2782 - val_floor_loss: 3.3482 - val_xy_mse: 110.2782 - val_floor_mse: 3.3482\n",
      "\n",
      "Epoch 00001: val_xy_loss improved from inf to 110.27819, saving model to /kaggle/RNN_2021_2.hdf5\n",
      "Epoch 2/40\n",
      "1115/1115 [==============================] - 92s 83ms/step - loss: 184.4968 - xy_loss: 181.1621 - floor_loss: 3.3346 - xy_mse: 181.1621 - floor_mse: 3.3346 - val_loss: 87.2648 - val_xy_loss: 83.9165 - val_floor_loss: 3.3482 - val_xy_mse: 83.9165 - val_floor_mse: 3.3482\n",
      "\n",
      "Epoch 00002: val_xy_loss improved from 110.27819 to 83.91655, saving model to /kaggle/RNN_2021_2.hdf5\n",
      "Epoch 3/40\n",
      "1115/1115 [==============================] - 79s 71ms/step - loss: 158.7875 - xy_loss: 155.4402 - floor_loss: 3.3473 - xy_mse: 155.4402 - floor_mse: 3.3473 - val_loss: 55.3347 - val_xy_loss: 51.9865 - val_floor_loss: 3.3482 - val_xy_mse: 51.9865 - val_floor_mse: 3.3482\n",
      "\n",
      "Epoch 00003: val_xy_loss improved from 83.91655 to 51.98649, saving model to /kaggle/RNN_2021_2.hdf5\n",
      "Epoch 4/40\n",
      "1115/1115 [==============================] - 79s 71ms/step - loss: 137.9645 - xy_loss: 134.6184 - floor_loss: 3.3461 - xy_mse: 134.6184 - floor_mse: 3.3461 - val_loss: 58.0203 - val_xy_loss: 54.6721 - val_floor_loss: 3.3482 - val_xy_mse: 54.6721 - val_floor_mse: 3.3482\n",
      "\n",
      "Epoch 00004: val_xy_loss did not improve from 51.98649\n",
      "Epoch 5/40\n",
      "1115/1115 [==============================] - 83s 75ms/step - loss: 124.1737 - xy_loss: 120.8304 - floor_loss: 3.3434 - xy_mse: 120.8304 - floor_mse: 3.3434 - val_loss: 52.0362 - val_xy_loss: 48.6879 - val_floor_loss: 3.3482 - val_xy_mse: 48.6879 - val_floor_mse: 3.3482\n",
      "\n",
      "Epoch 00005: val_xy_loss improved from 51.98649 to 48.68795, saving model to /kaggle/RNN_2021_2.hdf5\n",
      "Epoch 6/40\n",
      "1115/1115 [==============================] - 90s 81ms/step - loss: 109.5078 - xy_loss: 106.1655 - floor_loss: 3.3423 - xy_mse: 106.1655 - floor_mse: 3.3423 - val_loss: 47.2825 - val_xy_loss: 43.9343 - val_floor_loss: 3.3482 - val_xy_mse: 43.9343 - val_floor_mse: 3.3482\n",
      "\n",
      "Epoch 00006: val_xy_loss improved from 48.68795 to 43.93427, saving model to /kaggle/RNN_2021_2.hdf5\n",
      "Epoch 7/40\n",
      "1115/1115 [==============================] - 79s 70ms/step - loss: 100.6270 - xy_loss: 97.2821 - floor_loss: 3.3449 - xy_mse: 97.2821 - floor_mse: 3.3449 - val_loss: 48.0214 - val_xy_loss: 44.6732 - val_floor_loss: 3.3482 - val_xy_mse: 44.6732 - val_floor_mse: 3.3482\n",
      "\n",
      "Epoch 00007: val_xy_loss did not improve from 43.93427\n",
      "Epoch 8/40\n",
      "1115/1115 [==============================] - 79s 71ms/step - loss: 91.2397 - xy_loss: 87.8942 - floor_loss: 3.3454 - xy_mse: 87.8942 - floor_mse: 3.3454 - val_loss: 53.8523 - val_xy_loss: 50.5041 - val_floor_loss: 3.3482 - val_xy_mse: 50.5041 - val_floor_mse: 3.3482\n",
      "\n",
      "Epoch 00008: val_xy_loss did not improve from 43.93427\n",
      "Epoch 9/40\n",
      "1115/1115 [==============================] - 95s 85ms/step - loss: 83.4881 - xy_loss: 80.1548 - floor_loss: 3.3333 - xy_mse: 80.1548 - floor_mse: 3.3333 - val_loss: 57.7055 - val_xy_loss: 54.3573 - val_floor_loss: 3.3482 - val_xy_mse: 54.3573 - val_floor_mse: 3.3482\n",
      "\n",
      "Epoch 00009: ReduceLROnPlateau reducing learning rate to 0.00020000000949949026.\n",
      "\n",
      "Epoch 00009: val_xy_loss did not improve from 43.93427\n",
      "Epoch 10/40\n",
      "1115/1115 [==============================] - 81s 73ms/step - loss: 69.4027 - xy_loss: 66.0583 - floor_loss: 3.3444 - xy_mse: 66.0583 - floor_mse: 3.3444 - val_loss: 46.3032 - val_xy_loss: 42.9550 - val_floor_loss: 3.3482 - val_xy_mse: 42.9550 - val_floor_mse: 3.3482\n",
      "\n",
      "Epoch 00010: val_xy_loss improved from 43.93427 to 42.95500, saving model to /kaggle/RNN_2021_2.hdf5\n",
      "Epoch 11/40\n",
      "1115/1115 [==============================] - 80s 72ms/step - loss: 64.4510 - xy_loss: 61.1039 - floor_loss: 3.3471 - xy_mse: 61.1039 - floor_mse: 3.3471 - val_loss: 44.8122 - val_xy_loss: 41.4640 - val_floor_loss: 3.3482 - val_xy_mse: 41.4640 - val_floor_mse: 3.3482\n",
      "\n",
      "Epoch 00011: val_xy_loss improved from 42.95500 to 41.46402, saving model to /kaggle/RNN_2021_2.hdf5\n",
      "Epoch 12/40\n",
      "1115/1115 [==============================] - 84s 75ms/step - loss: 63.3333 - xy_loss: 59.9662 - floor_loss: 3.3671 - xy_mse: 59.9662 - floor_mse: 3.3671 - val_loss: 41.9984 - val_xy_loss: 38.6502 - val_floor_loss: 3.3482 - val_xy_mse: 38.6502 - val_floor_mse: 3.3482\n",
      "\n",
      "Epoch 00012: val_xy_loss improved from 41.46402 to 38.65018, saving model to /kaggle/RNN_2021_2.hdf5\n",
      "Epoch 13/40\n",
      "1115/1115 [==============================] - 93s 83ms/step - loss: 61.2491 - xy_loss: 57.9105 - floor_loss: 3.3386 - xy_mse: 57.9105 - floor_mse: 3.3386 - val_loss: 40.6821 - val_xy_loss: 37.3339 - val_floor_loss: 3.3482 - val_xy_mse: 37.3339 - val_floor_mse: 3.3482\n",
      "\n",
      "Epoch 00013: val_xy_loss improved from 38.65018 to 37.33389, saving model to /kaggle/RNN_2021_2.hdf5\n",
      "Epoch 14/40\n",
      "1115/1115 [==============================] - 80s 72ms/step - loss: 59.8793 - xy_loss: 56.5229 - floor_loss: 3.3564 - xy_mse: 56.5229 - floor_mse: 3.3564 - val_loss: 48.2111 - val_xy_loss: 44.8629 - val_floor_loss: 3.3482 - val_xy_mse: 44.8629 - val_floor_mse: 3.3482\n",
      "\n",
      "Epoch 00014: val_xy_loss did not improve from 37.33389\n",
      "Epoch 15/40\n",
      "1115/1115 [==============================] - 80s 72ms/step - loss: 58.5183 - xy_loss: 55.1595 - floor_loss: 3.3588 - xy_mse: 55.1595 - floor_mse: 3.3588 - val_loss: 43.5094 - val_xy_loss: 40.1612 - val_floor_loss: 3.3482 - val_xy_mse: 40.1612 - val_floor_mse: 3.3482\n",
      "\n",
      "Epoch 00015: val_xy_loss did not improve from 37.33389\n",
      "Epoch 16/40\n",
      "1115/1115 [==============================] - 98s 88ms/step - loss: 57.8305 - xy_loss: 54.4760 - floor_loss: 3.3545 - xy_mse: 54.4760 - floor_mse: 3.3545 - val_loss: 42.4081 - val_xy_loss: 39.0599 - val_floor_loss: 3.3482 - val_xy_mse: 39.0599 - val_floor_mse: 3.3482\n",
      "\n",
      "Epoch 00016: ReduceLROnPlateau reducing learning rate to 2.0000000949949027e-05.\n",
      "\n",
      "Epoch 00016: val_xy_loss did not improve from 37.33389\n",
      "Epoch 17/40\n",
      "1115/1115 [==============================] - 80s 72ms/step - loss: 55.5622 - xy_loss: 52.2072 - floor_loss: 3.3551 - xy_mse: 52.2072 - floor_mse: 3.3551 - val_loss: 43.1637 - val_xy_loss: 39.8155 - val_floor_loss: 3.3482 - val_xy_mse: 39.8155 - val_floor_mse: 3.3482\n",
      "\n",
      "Epoch 00017: val_xy_loss did not improve from 37.33389\n",
      "Epoch 18/40\n",
      "1115/1115 [==============================] - 80s 72ms/step - loss: 54.7382 - xy_loss: 51.3825 - floor_loss: 3.3557 - xy_mse: 51.3825 - floor_mse: 3.3557 - val_loss: 42.7623 - val_xy_loss: 39.4141 - val_floor_loss: 3.3482 - val_xy_mse: 39.4141 - val_floor_mse: 3.3482\n",
      "\n",
      "Epoch 00018: val_xy_loss did not improve from 37.33389\n",
      "fold 2: mean position error 28.201895631235494\n",
      "Epoch 1/40\n",
      "1115/1115 [==============================] - 88s 75ms/step - loss: 2359.7518 - xy_loss: 2356.4012 - floor_loss: 3.3511 - xy_mse: 2356.4012 - floor_mse: 3.3511 - val_loss: 82.9128 - val_xy_loss: 79.5652 - val_floor_loss: 3.3476 - val_xy_mse: 79.5652 - val_floor_mse: 3.3476\n",
      "\n",
      "Epoch 00001: val_xy_loss improved from inf to 79.56517, saving model to /kaggle/RNN_2021_3.hdf5\n",
      "Epoch 2/40\n",
      "1115/1115 [==============================] - 81s 73ms/step - loss: 176.6742 - xy_loss: 173.3330 - floor_loss: 3.3412 - xy_mse: 173.3330 - floor_mse: 3.3412 - val_loss: 66.0418 - val_xy_loss: 62.6942 - val_floor_loss: 3.3476 - val_xy_mse: 62.6942 - val_floor_mse: 3.3476\n",
      "\n",
      "Epoch 00002: val_xy_loss improved from 79.56517 to 62.69419, saving model to /kaggle/RNN_2021_3.hdf5\n",
      "Epoch 3/40\n",
      "1115/1115 [==============================] - 84s 75ms/step - loss: 150.5221 - xy_loss: 147.1838 - floor_loss: 3.3384 - xy_mse: 147.1838 - floor_mse: 3.3384 - val_loss: 71.9517 - val_xy_loss: 68.6041 - val_floor_loss: 3.3476 - val_xy_mse: 68.6041 - val_floor_mse: 3.3476\n",
      "\n",
      "Epoch 00003: val_xy_loss did not improve from 62.69419\n",
      "Epoch 4/40\n",
      "1115/1115 [==============================] - 94s 84ms/step - loss: 137.5925 - xy_loss: 134.2471 - floor_loss: 3.3454 - xy_mse: 134.2471 - floor_mse: 3.3454 - val_loss: 55.0746 - val_xy_loss: 51.7270 - val_floor_loss: 3.3476 - val_xy_mse: 51.7270 - val_floor_mse: 3.3476\n",
      "\n",
      "Epoch 00004: val_xy_loss improved from 62.69419 to 51.72701, saving model to /kaggle/RNN_2021_3.hdf5\n",
      "Epoch 5/40\n",
      "1115/1115 [==============================] - 90s 81ms/step - loss: 122.2792 - xy_loss: 118.9540 - floor_loss: 3.3252 - xy_mse: 118.9540 - floor_mse: 3.3252 - val_loss: 52.0738 - val_xy_loss: 48.7262 - val_floor_loss: 3.3476 - val_xy_mse: 48.7262 - val_floor_mse: 3.3476\n",
      "\n",
      "Epoch 00005: val_xy_loss improved from 51.72701 to 48.72618, saving model to /kaggle/RNN_2021_3.hdf5\n",
      "Epoch 6/40\n",
      "1115/1115 [==============================] - 81s 72ms/step - loss: 109.4958 - xy_loss: 106.1566 - floor_loss: 3.3392 - xy_mse: 106.1566 - floor_mse: 3.3392 - val_loss: 49.7341 - val_xy_loss: 46.3865 - val_floor_loss: 3.3476 - val_xy_mse: 46.3865 - val_floor_mse: 3.3476\n",
      "\n",
      "Epoch 00006: val_xy_loss improved from 48.72618 to 46.38655, saving model to /kaggle/RNN_2021_3.hdf5\n",
      "Epoch 7/40\n",
      "1115/1115 [==============================] - 83s 74ms/step - loss: 100.1573 - xy_loss: 96.8055 - floor_loss: 3.3517 - xy_mse: 96.8055 - floor_mse: 3.3517 - val_loss: 55.2924 - val_xy_loss: 51.9448 - val_floor_loss: 3.3476 - val_xy_mse: 51.9448 - val_floor_mse: 3.3476\n",
      "\n",
      "Epoch 00007: val_xy_loss did not improve from 46.38655\n",
      "Epoch 8/40\n",
      "1115/1115 [==============================] - 82s 73ms/step - loss: 90.6061 - xy_loss: 87.2648 - floor_loss: 3.3413 - xy_mse: 87.2648 - floor_mse: 3.3413 - val_loss: 42.2660 - val_xy_loss: 38.9184 - val_floor_loss: 3.3476 - val_xy_mse: 38.9184 - val_floor_mse: 3.3476\n",
      "\n",
      "Epoch 00008: val_xy_loss improved from 46.38655 to 38.91841, saving model to /kaggle/RNN_2021_3.hdf5\n",
      "Epoch 9/40\n",
      "1115/1115 [==============================] - 82s 74ms/step - loss: 84.6034 - xy_loss: 81.2691 - floor_loss: 3.3343 - xy_mse: 81.2691 - floor_mse: 3.3343 - val_loss: 40.6763 - val_xy_loss: 37.3287 - val_floor_loss: 3.3476 - val_xy_mse: 37.3287 - val_floor_mse: 3.3476\n",
      "\n",
      "Epoch 00009: val_xy_loss improved from 38.91841 to 37.32871, saving model to /kaggle/RNN_2021_3.hdf5\n",
      "Epoch 10/40\n",
      "1115/1115 [==============================] - 83s 74ms/step - loss: 76.6278 - xy_loss: 73.2893 - floor_loss: 3.3385 - xy_mse: 73.2893 - floor_mse: 3.3385 - val_loss: 44.8644 - val_xy_loss: 41.5168 - val_floor_loss: 3.3476 - val_xy_mse: 41.5168 - val_floor_mse: 3.3476\n",
      "\n",
      "Epoch 00010: val_xy_loss did not improve from 37.32871\n",
      "Epoch 11/40\n",
      "1115/1115 [==============================] - 102s 91ms/step - loss: 70.9025 - xy_loss: 67.5688 - floor_loss: 3.3338 - xy_mse: 67.5688 - floor_mse: 3.3338 - val_loss: 35.9118 - val_xy_loss: 32.5642 - val_floor_loss: 3.3476 - val_xy_mse: 32.5642 - val_floor_mse: 3.3476\n",
      "\n",
      "Epoch 00011: val_xy_loss improved from 37.32871 to 32.56421, saving model to /kaggle/RNN_2021_3.hdf5\n",
      "Epoch 12/40\n",
      "1115/1115 [==============================] - 80s 72ms/step - loss: 64.6826 - xy_loss: 61.3462 - floor_loss: 3.3364 - xy_mse: 61.3462 - floor_mse: 3.3364 - val_loss: 39.0844 - val_xy_loss: 35.7368 - val_floor_loss: 3.3476 - val_xy_mse: 35.7368 - val_floor_mse: 3.3476\n",
      "\n",
      "Epoch 00012: val_xy_loss did not improve from 32.56421\n",
      "Epoch 13/40\n",
      "1115/1115 [==============================] - 82s 73ms/step - loss: 59.6286 - xy_loss: 56.2804 - floor_loss: 3.3482 - xy_mse: 56.2804 - floor_mse: 3.3482 - val_loss: 46.2393 - val_xy_loss: 42.8917 - val_floor_loss: 3.3476 - val_xy_mse: 42.8917 - val_floor_mse: 3.3476\n",
      "\n",
      "Epoch 00013: val_xy_loss did not improve from 32.56421\n",
      "Epoch 14/40\n",
      "1115/1115 [==============================] - 81s 73ms/step - loss: 55.0803 - xy_loss: 51.7296 - floor_loss: 3.3506 - xy_mse: 51.7296 - floor_mse: 3.3506 - val_loss: 37.5578 - val_xy_loss: 34.2102 - val_floor_loss: 3.3476 - val_xy_mse: 34.2102 - val_floor_mse: 3.3476\n",
      "\n",
      "Epoch 00014: ReduceLROnPlateau reducing learning rate to 0.00020000000949949026.\n",
      "\n",
      "Epoch 00014: val_xy_loss did not improve from 32.56421\n",
      "Epoch 15/40\n",
      "1115/1115 [==============================] - 82s 74ms/step - loss: 47.3850 - xy_loss: 44.0322 - floor_loss: 3.3528 - xy_mse: 44.0322 - floor_mse: 3.3528 - val_loss: 32.1214 - val_xy_loss: 28.7738 - val_floor_loss: 3.3476 - val_xy_mse: 28.7738 - val_floor_mse: 3.3476\n",
      "\n",
      "Epoch 00015: val_xy_loss improved from 32.56421 to 28.77380, saving model to /kaggle/RNN_2021_3.hdf5\n",
      "Epoch 16/40\n",
      "1115/1115 [==============================] - 81s 73ms/step - loss: 45.1873 - xy_loss: 41.8414 - floor_loss: 3.3460 - xy_mse: 41.8414 - floor_mse: 3.3460 - val_loss: 30.3285 - val_xy_loss: 26.9809 - val_floor_loss: 3.3476 - val_xy_mse: 26.9809 - val_floor_mse: 3.3476\n",
      "\n",
      "Epoch 00016: val_xy_loss improved from 28.77380 to 26.98092, saving model to /kaggle/RNN_2021_3.hdf5\n",
      "Epoch 17/40\n",
      "1115/1115 [==============================] - 97s 87ms/step - loss: 44.2154 - xy_loss: 40.8562 - floor_loss: 3.3592 - xy_mse: 40.8562 - floor_mse: 3.3592 - val_loss: 31.1419 - val_xy_loss: 27.7943 - val_floor_loss: 3.3476 - val_xy_mse: 27.7943 - val_floor_mse: 3.3476\n",
      "\n",
      "Epoch 00017: val_xy_loss did not improve from 26.98092\n",
      "Epoch 18/40\n",
      "1115/1115 [==============================] - 89s 80ms/step - loss: 43.0204 - xy_loss: 39.6727 - floor_loss: 3.3477 - xy_mse: 39.6727 - floor_mse: 3.3477 - val_loss: 34.5016 - val_xy_loss: 31.1541 - val_floor_loss: 3.3476 - val_xy_mse: 31.1541 - val_floor_mse: 3.3476\n",
      "\n",
      "Epoch 00018: val_xy_loss did not improve from 26.98092\n",
      "Epoch 19/40\n",
      "1115/1115 [==============================] - 82s 73ms/step - loss: 42.5112 - xy_loss: 39.1748 - floor_loss: 3.3365 - xy_mse: 39.1748 - floor_mse: 3.3365 - val_loss: 30.9145 - val_xy_loss: 27.5669 - val_floor_loss: 3.3476 - val_xy_mse: 27.5669 - val_floor_mse: 3.3476\n",
      "\n",
      "Epoch 00019: ReduceLROnPlateau reducing learning rate to 2.0000000949949027e-05.\n",
      "\n",
      "Epoch 00019: val_xy_loss did not improve from 26.98092\n",
      "Epoch 20/40\n",
      "1115/1115 [==============================] - 82s 73ms/step - loss: 41.5377 - xy_loss: 38.1793 - floor_loss: 3.3584 - xy_mse: 38.1793 - floor_mse: 3.3584 - val_loss: 31.3226 - val_xy_loss: 27.9750 - val_floor_loss: 3.3476 - val_xy_mse: 27.9750 - val_floor_mse: 3.3476\n",
      "\n",
      "Epoch 00020: val_xy_loss did not improve from 26.98092\n",
      "Epoch 21/40\n",
      "1115/1115 [==============================] - 82s 74ms/step - loss: 41.2073 - xy_loss: 37.8552 - floor_loss: 3.3522 - xy_mse: 37.8552 - floor_mse: 3.3522 - val_loss: 29.6203 - val_xy_loss: 26.2727 - val_floor_loss: 3.3476 - val_xy_mse: 26.2727 - val_floor_mse: 3.3476\n",
      "\n",
      "Epoch 00021: val_xy_loss improved from 26.98092 to 26.27271, saving model to /kaggle/RNN_2021_3.hdf5\n",
      "Epoch 22/40\n",
      "1115/1115 [==============================] - 82s 74ms/step - loss: 40.9298 - xy_loss: 37.5985 - floor_loss: 3.3313 - xy_mse: 37.5985 - floor_mse: 3.3313 - val_loss: 30.3932 - val_xy_loss: 27.0456 - val_floor_loss: 3.3476 - val_xy_mse: 27.0456 - val_floor_mse: 3.3476\n",
      "\n",
      "Epoch 00022: val_xy_loss did not improve from 26.27271\n",
      "Epoch 23/40\n",
      "1115/1115 [==============================] - 82s 73ms/step - loss: 40.9498 - xy_loss: 37.6131 - floor_loss: 3.3367 - xy_mse: 37.6131 - floor_mse: 3.3367 - val_loss: 30.0546 - val_xy_loss: 26.7070 - val_floor_loss: 3.3476 - val_xy_mse: 26.7070 - val_floor_mse: 3.3476\n",
      "\n",
      "Epoch 00023: val_xy_loss did not improve from 26.27271\n",
      "Epoch 24/40\n",
      "1115/1115 [==============================] - 106s 95ms/step - loss: 40.7110 - xy_loss: 37.3698 - floor_loss: 3.3412 - xy_mse: 37.3698 - floor_mse: 3.3412 - val_loss: 30.4554 - val_xy_loss: 27.1078 - val_floor_loss: 3.3476 - val_xy_mse: 27.1078 - val_floor_mse: 3.3476\n",
      "\n",
      "Epoch 00024: ReduceLROnPlateau reducing learning rate to 2.0000001313746906e-06.\n",
      "\n",
      "Epoch 00024: val_xy_loss did not improve from 26.27271\n",
      "Epoch 25/40\n",
      "1115/1115 [==============================] - 81s 72ms/step - loss: 40.8089 - xy_loss: 37.4526 - floor_loss: 3.3563 - xy_mse: 37.4526 - floor_mse: 3.3563 - val_loss: 30.2605 - val_xy_loss: 26.9129 - val_floor_loss: 3.3476 - val_xy_mse: 26.9129 - val_floor_mse: 3.3476\n",
      "\n",
      "Epoch 00025: val_xy_loss did not improve from 26.27271\n",
      "Epoch 26/40\n",
      "1115/1115 [==============================] - 81s 72ms/step - loss: 40.8030 - xy_loss: 37.4529 - floor_loss: 3.3501 - xy_mse: 37.4529 - floor_mse: 3.3501 - val_loss: 29.9706 - val_xy_loss: 26.6230 - val_floor_loss: 3.3476 - val_xy_mse: 26.6230 - val_floor_mse: 3.3476\n",
      "\n",
      "Epoch 00026: val_xy_loss did not improve from 26.27271\n",
      "fold 3: mean position error 26.989334979919583\n",
      "Epoch 1/40\n",
      "1115/1115 [==============================] - 83s 71ms/step - loss: 2536.0601 - xy_loss: 2532.7088 - floor_loss: 3.3509 - xy_mse: 2532.7088 - floor_mse: 3.3509 - val_loss: 83.7566 - val_xy_loss: 80.4085 - val_floor_loss: 3.3481 - val_xy_mse: 80.4085 - val_floor_mse: 3.3481\n",
      "\n",
      "Epoch 00001: val_xy_loss improved from inf to 80.40849, saving model to /kaggle/RNN_2021_4.hdf5\n",
      "Epoch 2/40\n",
      "1115/1115 [==============================] - 78s 70ms/step - loss: 177.9250 - xy_loss: 174.5839 - floor_loss: 3.3410 - xy_mse: 174.5839 - floor_mse: 3.3410 - val_loss: 61.3362 - val_xy_loss: 57.9881 - val_floor_loss: 3.3481 - val_xy_mse: 57.9881 - val_floor_mse: 3.3481\n",
      "\n",
      "Epoch 00002: val_xy_loss improved from 80.40849 to 57.98814, saving model to /kaggle/RNN_2021_4.hdf5\n",
      "Epoch 3/40\n",
      "1115/1115 [==============================] - 79s 71ms/step - loss: 146.4363 - xy_loss: 143.0981 - floor_loss: 3.3382 - xy_mse: 143.0981 - floor_mse: 3.3382 - val_loss: 55.0306 - val_xy_loss: 51.6825 - val_floor_loss: 3.3481 - val_xy_mse: 51.6825 - val_floor_mse: 3.3481\n",
      "\n",
      "Epoch 00003: val_xy_loss improved from 57.98814 to 51.68247, saving model to /kaggle/RNN_2021_4.hdf5\n",
      "Epoch 4/40\n",
      "1115/1115 [==============================] - 89s 80ms/step - loss: 130.6286 - xy_loss: 127.2833 - floor_loss: 3.3453 - xy_mse: 127.2833 - floor_mse: 3.3453 - val_loss: 49.8432 - val_xy_loss: 46.4951 - val_floor_loss: 3.3481 - val_xy_mse: 46.4951 - val_floor_mse: 3.3481\n",
      "\n",
      "Epoch 00004: val_xy_loss improved from 51.68247 to 46.49510, saving model to /kaggle/RNN_2021_4.hdf5\n",
      "Epoch 5/40\n",
      "1115/1115 [==============================] - 93s 83ms/step - loss: 116.8500 - xy_loss: 113.5249 - floor_loss: 3.3251 - xy_mse: 113.5249 - floor_mse: 3.3251 - val_loss: 55.3808 - val_xy_loss: 52.0327 - val_floor_loss: 3.3481 - val_xy_mse: 52.0327 - val_floor_mse: 3.3481\n",
      "\n",
      "Epoch 00005: val_xy_loss did not improve from 46.49510\n",
      "Epoch 6/40\n",
      "1115/1115 [==============================] - 80s 71ms/step - loss: 103.6817 - xy_loss: 100.3427 - floor_loss: 3.3390 - xy_mse: 100.3427 - floor_mse: 3.3390 - val_loss: 44.0856 - val_xy_loss: 40.7375 - val_floor_loss: 3.3481 - val_xy_mse: 40.7375 - val_floor_mse: 3.3481\n",
      "\n",
      "Epoch 00006: val_xy_loss improved from 46.49510 to 40.73755, saving model to /kaggle/RNN_2021_4.hdf5\n",
      "Epoch 7/40\n",
      "1115/1115 [==============================] - 80s 71ms/step - loss: 94.8619 - xy_loss: 91.5106 - floor_loss: 3.3513 - xy_mse: 91.5106 - floor_mse: 3.3513 - val_loss: 49.8940 - val_xy_loss: 46.5459 - val_floor_loss: 3.3481 - val_xy_mse: 46.5459 - val_floor_mse: 3.3481\n",
      "\n",
      "Epoch 00007: val_xy_loss did not improve from 40.73755\n",
      "Epoch 8/40\n",
      "1115/1115 [==============================] - 79s 71ms/step - loss: 85.3231 - xy_loss: 81.9819 - floor_loss: 3.3413 - xy_mse: 81.9819 - floor_mse: 3.3413 - val_loss: 54.6226 - val_xy_loss: 51.2745 - val_floor_loss: 3.3481 - val_xy_mse: 51.2745 - val_floor_mse: 3.3481\n",
      "\n",
      "Epoch 00008: val_xy_loss did not improve from 40.73755\n",
      "Epoch 9/40\n",
      "1115/1115 [==============================] - 80s 71ms/step - loss: 78.2965 - xy_loss: 74.9624 - floor_loss: 3.3341 - xy_mse: 74.9624 - floor_mse: 3.3341 - val_loss: 51.7032 - val_xy_loss: 48.3551 - val_floor_loss: 3.3481 - val_xy_mse: 48.3551 - val_floor_mse: 3.3481\n",
      "\n",
      "Epoch 00009: ReduceLROnPlateau reducing learning rate to 0.00020000000949949026.\n",
      "\n",
      "Epoch 00009: val_xy_loss did not improve from 40.73755\n",
      "Epoch 10/40\n",
      "1115/1115 [==============================] - 79s 71ms/step - loss: 63.6418 - xy_loss: 60.3034 - floor_loss: 3.3384 - xy_mse: 60.3034 - floor_mse: 3.3384 - val_loss: 45.3288 - val_xy_loss: 41.9807 - val_floor_loss: 3.3481 - val_xy_mse: 41.9807 - val_floor_mse: 3.3481\n",
      "\n",
      "Epoch 00010: val_xy_loss did not improve from 40.73755\n",
      "Epoch 11/40\n",
      "1115/1115 [==============================] - 95s 85ms/step - loss: 60.4602 - xy_loss: 57.1264 - floor_loss: 3.3338 - xy_mse: 57.1264 - floor_mse: 3.3338 - val_loss: 46.2398 - val_xy_loss: 42.8917 - val_floor_loss: 3.3481 - val_xy_mse: 42.8917 - val_floor_mse: 3.3481\n",
      "\n",
      "Epoch 00011: val_xy_loss did not improve from 40.73755\n",
      "fold 4: mean position error 28.64319010033469\n",
      "*+*+*+*+*+*+*+*+*+*+*+*+*+*+*+*+*+*+*+*+*+*+*+*+*+*+*+*+*+*+*+*+*+*+*+*+*+*+*+*+\n",
      "mean position error 27.438714699434136\n",
      "xy mean position error 6.318061529299908\n",
      "*+*+*+*+*+*+*+*+*+*+*+*+*+*+*+*+*+*+*+*+*+*+*+*+*+*+*+*+*+*+*+*+*+*+*+*+*+*+*+*+\n"
     ]
    }
   ],
   "source": [
    "score_df = pd.DataFrame()\n",
    "oof = list()\n",
    "predictions = list()\n",
    "\n",
    "oof_x, oof_y, oof_f = np.zeros(data.shape[0]), np.zeros(data.shape[0]), np.zeros(data.shape[0])\n",
    "preds_x, preds_y = 0, 0\n",
    "preds_f_arr = np.zeros((test_data.shape[0], N_SPLITS))\n",
    "\n",
    "for fold, (trn_idx, val_idx) in enumerate(StratifiedKFold(n_splits=N_SPLITS, shuffle=True, random_state=SEED).split(data.loc[:, 'path'], data.loc[:, 'path'])):\n",
    "    X_train = data.loc[trn_idx, BSSID_FEATS + RSSI_FEATS + ['site_id']]\n",
    "    y_trainx = data.loc[trn_idx, 'x']\n",
    "    y_trainy = data.loc[trn_idx, 'y']\n",
    "    y_trainf = data.loc[trn_idx, 'floor']\n",
    "\n",
    "    tmp = pd.concat([y_trainx, y_trainy], axis=1)\n",
    "    y_train = [tmp, y_trainf]\n",
    "\n",
    "    X_valid = data.loc[val_idx, BSSID_FEATS + RSSI_FEATS + ['site_id']]\n",
    "    y_validx = data.loc[val_idx, 'x']\n",
    "    y_validy = data.loc[val_idx, 'y']\n",
    "    y_validf = data.loc[val_idx, 'floor']\n",
    "\n",
    "    tmp = pd.concat([y_validx, y_validy], axis=1)\n",
    "    y_valid = [tmp, y_validf]\n",
    "\n",
    "    model = create_model([X_train.loc[:,BSSID_FEATS], X_train.loc[:,RSSI_FEATS], X_train.loc[:,'site_id']])\n",
    "    model.fit([X_train.loc[:,BSSID_FEATS], X_train.loc[:,RSSI_FEATS], X_train.loc[:,'site_id']], y_train, \n",
    "                validation_data=([X_valid.loc[:,BSSID_FEATS], X_valid.loc[:,RSSI_FEATS], X_valid.loc[:,'site_id']], y_valid), \n",
    "                batch_size=batch_size, epochs=epochs,\n",
    "                callbacks=[\n",
    "                ReduceLROnPlateau(monitor='val_xy_loss', factor=0.1, patience=3, verbose=1, min_delta=1e-4, mode='min')\n",
    "                , ModelCheckpoint(f'{base_path}/RNN_{SEED}_{fold}.hdf5', monitor='val_xy_loss', verbose=1, save_best_only=True, save_weights_only=True, mode='min')\n",
    "                , EarlyStopping(monitor='val_xy_loss', min_delta=1e-4, patience=5, mode='min', baseline=None, restore_best_weights=True)\n",
    "            ])\n",
    "\n",
    "    model.load_weights(f'{base_path}/RNN_{SEED}_{fold}.hdf5')\n",
    "    val_pred = model.predict([X_valid.loc[:,BSSID_FEATS], X_valid.loc[:,RSSI_FEATS], X_valid.loc[:,'site_id']])\n",
    "\n",
    "    oof_x[val_idx] = val_pred[0][:,0]\n",
    "    oof_y[val_idx] = val_pred[0][:,1]\n",
    "    oof_f[val_idx] = val_pred[1][:,0].astype(int)\n",
    "    \n",
    "    pred = model.predict([test_data.loc[:,BSSID_FEATS], test_data.loc[:,RSSI_FEATS], test_data.loc[:,'site_id']])\n",
    "    preds_x += pred[0][:,0]\n",
    "    preds_y += pred[0][:,1]\n",
    "    preds_f_arr[:, fold] = pred[1][:,0].astype(int)\n",
    "\n",
    "    score = comp_metric(oof_x[val_idx], oof_y[val_idx], oof_f[val_idx],\n",
    "                        y_validx.to_numpy(), y_validy.to_numpy(), y_validf.to_numpy())\n",
    "    print(f\"fold {fold}: mean position error {score}\")\n",
    "\n",
    "    K.clear_session()\n",
    "\n",
    "preds_x /= (fold + 1)\n",
    "preds_y /= (fold + 1)\n",
    "    \n",
    "print(\"*+\"*40)\n",
    "score = comp_metric(oof_x, oof_y, oof_f, data.iloc[:, -5].to_numpy(), data.iloc[:, -4].to_numpy(), data.iloc[:, -3].to_numpy())\n",
    "score2 = xy_comp_metric(oof_x, oof_y, data.iloc[:, -5].to_numpy(), data.iloc[:, -4].to_numpy())\n",
    "oof.append(score)\n",
    "print(f\"mean position error {score}\")\n",
    "print(f\"xy mean position error {score2}\")\n",
    "print(\"*+\"*40)\n",
    "\n",
    "preds_f_mode = stats.mode(preds_f_arr, axis=1)\n",
    "preds_f = preds_f_mode[0].astype(int).reshape(-1)\n",
    "test_preds = pd.DataFrame(np.stack((preds_f, preds_x, preds_y))).T\n",
    "test_preds.columns = subm.columns\n",
    "test_preds.index = test_data[\"site_path_timestamp\"]\n",
    "test_preds[\"floor\"] = test_preds[\"floor\"].astype(int)\n",
    "predictions.append(test_preds)"
   ]
  },
  {
   "cell_type": "code",
   "execution_count": 22,
   "id": "recorded-snapshot",
   "metadata": {
    "execution": {
     "iopub.execute_input": "2021-04-10T13:22:04.859851Z",
     "iopub.status.busy": "2021-04-10T13:22:04.859072Z",
     "iopub.status.idle": "2021-04-10T13:22:04.885093Z",
     "shell.execute_reply": "2021-04-10T13:22:04.884548Z"
    },
    "papermill": {
     "duration": 36.4331,
     "end_time": "2021-04-10T13:22:04.885247",
     "exception": false,
     "start_time": "2021-04-10T13:21:28.452147",
     "status": "completed"
    },
    "tags": []
   },
   "outputs": [],
   "source": [
    "all_preds = pd.concat(predictions)\n",
    "all_preds = all_preds.reindex(subm.index)\n",
    "\n",
    "lgb_pred = pd.read_csv('../input/indoorlgbfloor/submission.csv')\n",
    "all_preds['floor'] = lgb_pred['floor'].values"
   ]
  },
  {
   "cell_type": "markdown",
   "id": "supported-shelter",
   "metadata": {
    "papermill": {
     "duration": 36.270783,
     "end_time": "2021-04-10T13:23:17.429278",
     "exception": false,
     "start_time": "2021-04-10T13:22:41.158495",
     "status": "completed"
    },
    "tags": []
   },
   "source": [
    "# postprocess"
   ]
  },
  {
   "cell_type": "code",
   "execution_count": 23,
   "id": "earned-gasoline",
   "metadata": {
    "execution": {
     "iopub.execute_input": "2021-04-10T13:24:29.743442Z",
     "iopub.status.busy": "2021-04-10T13:24:29.742063Z",
     "iopub.status.idle": "2021-04-10T13:24:29.744861Z",
     "shell.execute_reply": "2021-04-10T13:24:29.745292Z"
    },
    "papermill": {
     "duration": 36.06618,
     "end_time": "2021-04-10T13:24:29.745436",
     "exception": false,
     "start_time": "2021-04-10T13:23:53.679256",
     "status": "completed"
    },
    "tags": []
   },
   "outputs": [],
   "source": [
    "INPUT_PATH = '../input/indoor-location-navigation'\n",
    "\n",
    "def compute_rel_positions(acce_datas, ahrs_datas):\n",
    "    step_timestamps, step_indexs, step_acce_max_mins = compute_f.compute_steps(acce_datas)\n",
    "    headings = compute_f.compute_headings(ahrs_datas)\n",
    "    stride_lengths = compute_f.compute_stride_length(step_acce_max_mins)\n",
    "    step_headings = compute_f.compute_step_heading(step_timestamps, headings)\n",
    "    rel_positions = compute_f.compute_rel_positions(stride_lengths, step_headings)\n",
    "    return rel_positions\n",
    "\n",
    "def correct_path(args):\n",
    "    path, path_df = args\n",
    "    \n",
    "    T_ref  = path_df['timestamp'].values\n",
    "    xy_hat = path_df[['x', 'y']].values\n",
    "    \n",
    "    example = read_data_file(f'{INPUT_PATH}/test/{path}.txt')\n",
    "    rel_positions = compute_rel_positions(example.acce, example.ahrs)\n",
    "    if T_ref[-1] > rel_positions[-1, 0]:\n",
    "        rel_positions = [np.array([[0, 0, 0]]), rel_positions, np.array([[T_ref[-1], 0, 0]])]\n",
    "    else:\n",
    "        rel_positions = [np.array([[0, 0, 0]]), rel_positions]\n",
    "    rel_positions = np.concatenate(rel_positions)\n",
    "    \n",
    "    T_rel = rel_positions[:, 0]\n",
    "    delta_xy_hat = np.diff(scipy.interpolate.interp1d(T_rel, np.cumsum(rel_positions[:, 1:3], axis=0), axis=0)(T_ref), axis=0)\n",
    "\n",
    "    N = xy_hat.shape[0]\n",
    "    delta_t = np.diff(T_ref)\n",
    "    alpha = (8.1)**(-2) * np.ones(N)\n",
    "    beta  = (0.3 + 0.3 * 1e-3 * delta_t)**(-2)\n",
    "    A = scipy.sparse.spdiags(alpha, [0], N, N)\n",
    "    B = scipy.sparse.spdiags( beta, [0], N-1, N-1)\n",
    "    D = scipy.sparse.spdiags(np.stack([-np.ones(N), np.ones(N)]), [0, 1], N-1, N)\n",
    "\n",
    "    Q = A + (D.T @ B @ D)\n",
    "    c = (A @ xy_hat) + (D.T @ (B @ delta_xy_hat))\n",
    "    xy_star = scipy.sparse.linalg.spsolve(Q, c)\n",
    "    \n",
    "    return pd.DataFrame({\n",
    "        'site_path_timestamp' : path_df['site_path_timestamp'],\n",
    "        'floor' : path_df['floor'],\n",
    "        'x' : xy_star[:, 0],\n",
    "        'y' : xy_star[:, 1],\n",
    "    })"
   ]
  },
  {
   "cell_type": "code",
   "execution_count": 24,
   "id": "eight-estonia",
   "metadata": {
    "execution": {
     "iopub.execute_input": "2021-04-10T13:25:42.774425Z",
     "iopub.status.busy": "2021-04-10T13:25:42.773501Z",
     "iopub.status.idle": "2021-04-10T13:39:24.052167Z",
     "shell.execute_reply": "2021-04-10T13:39:24.051662Z"
    },
    "papermill": {
     "duration": 857.887512,
     "end_time": "2021-04-10T13:39:24.052332",
     "exception": false,
     "start_time": "2021-04-10T13:25:06.164820",
     "status": "completed"
    },
    "tags": []
   },
   "outputs": [
    {
     "name": "stderr",
     "output_type": "stream",
     "text": [
      "626it [13:38,  1.31s/it]\n"
     ]
    }
   ],
   "source": [
    "sub = pd.read_csv('../input/indoor-location-navigation/sample_submission.csv')\n",
    "sub[\"floor\"] = all_preds['floor']\n",
    "sub[\"x\"] = all_preds['x']\n",
    "sub[\"y\"] = all_preds['y']\n",
    "\n",
    "tmp = sub['site_path_timestamp'].apply(lambda s : pd.Series(s.split('_')))\n",
    "sub['site'] = tmp[0]\n",
    "sub['path'] = tmp[1]\n",
    "sub['timestamp'] = tmp[2].astype(float)\n",
    "\n",
    "processes = multiprocessing.cpu_count()\n",
    "with multiprocessing.Pool(processes=processes) as pool:\n",
    "    dfs = pool.imap_unordered(correct_path, sub.groupby('path'))\n",
    "    dfs = tqdm(dfs)\n",
    "    dfs = list(dfs)\n",
    "sub = pd.concat(dfs).sort_values('site_path_timestamp')"
   ]
  },
  {
   "cell_type": "markdown",
   "id": "hungry-queen",
   "metadata": {
    "papermill": {
     "duration": 35.890101,
     "end_time": "2021-04-10T13:40:35.330237",
     "exception": false,
     "start_time": "2021-04-10T13:39:59.440136",
     "status": "completed"
    },
    "tags": []
   },
   "source": [
    "# submission"
   ]
  },
  {
   "cell_type": "code",
   "execution_count": 25,
   "id": "solar-terrorism",
   "metadata": {
    "execution": {
     "iopub.execute_input": "2021-04-10T13:41:46.857912Z",
     "iopub.status.busy": "2021-04-10T13:41:46.857272Z",
     "iopub.status.idle": "2021-04-10T13:41:47.106647Z",
     "shell.execute_reply": "2021-04-10T13:41:47.105772Z"
    },
    "papermill": {
     "duration": 36.337667,
     "end_time": "2021-04-10T13:41:47.106782",
     "exception": false,
     "start_time": "2021-04-10T13:41:10.769115",
     "status": "completed"
    },
    "tags": []
   },
   "outputs": [],
   "source": [
    "sub.to_csv('submission.csv', index=False)"
   ]
  }
 ],
 "metadata": {
  "kernelspec": {
   "display_name": "Python 3",
   "language": "python",
   "name": "python3"
  },
  "language_info": {
   "codemirror_mode": {
    "name": "ipython",
    "version": 3
   },
   "file_extension": ".py",
   "mimetype": "text/x-python",
   "name": "python",
   "nbconvert_exporter": "python",
   "pygments_lexer": "ipython3",
   "version": "3.7.9"
  },
  "papermill": {
   "default_parameters": {},
   "duration": 11143.765327,
   "end_time": "2021-04-10T13:42:26.025418",
   "environment_variables": {},
   "exception": null,
   "input_path": "__notebook__.ipynb",
   "output_path": "__notebook__.ipynb",
   "parameters": {},
   "start_time": "2021-04-10T10:36:42.260091",
   "version": "2.3.2"
  }
 },
 "nbformat": 4,
 "nbformat_minor": 5
}
