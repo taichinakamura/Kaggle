{
 "cells": [
  {
   "cell_type": "markdown",
   "id": "express-institution",
   "metadata": {
    "papermill": {
     "duration": 0.015059,
     "end_time": "2021-05-09T10:23:18.943037",
     "exception": false,
     "start_time": "2021-05-09T10:23:18.927978",
     "status": "completed"
    },
    "tags": []
   },
   "source": [
    "- optimize model by xy \n",
    "- introduce new dataset \n",
    "- check score of fold1 only \n",
    "- increase epoch to 100 \n",
    "- increase num feats to 40 (score check)* "
   ]
  },
  {
   "cell_type": "code",
   "execution_count": 1,
   "id": "cellular-stack",
   "metadata": {
    "execution": {
     "iopub.execute_input": "2021-05-09T10:23:18.986208Z",
     "iopub.status.busy": "2021-05-09T10:23:18.985325Z",
     "iopub.status.idle": "2021-05-09T10:23:29.386742Z",
     "shell.execute_reply": "2021-05-09T10:23:29.386122Z"
    },
    "papermill": {
     "duration": 10.430348,
     "end_time": "2021-05-09T10:23:29.386877",
     "exception": false,
     "start_time": "2021-05-09T10:23:18.956529",
     "status": "completed"
    },
    "tags": []
   },
   "outputs": [
    {
     "name": "stdout",
     "output_type": "stream",
     "text": [
      "Collecting tensorflow-determinism\r\n",
      "  Downloading tensorflow-determinism-0.3.0.tar.gz (12 kB)\r\n",
      "\u001b[33mWARNING: Discarding https://files.pythonhosted.org/packages/76/56/79d74f25b326d8719753172496abc524980fa67d1d98bb247021376e370a/tensorflow-determinism-0.3.0.tar.gz#sha256=563316b785614df300bbdec9b3c45a94d212761aec796cf1aafcbb2f69fdeb01 (from https://pypi.org/simple/tensorflow-determinism/). Requested tensorflow-determinism from https://files.pythonhosted.org/packages/76/56/79d74f25b326d8719753172496abc524980fa67d1d98bb247021376e370a/tensorflow-determinism-0.3.0.tar.gz#sha256=563316b785614df300bbdec9b3c45a94d212761aec796cf1aafcbb2f69fdeb01 has inconsistent version: filename has '0.3.0', but metadata has '0.4.1'\u001b[0m\r\n",
      "  Downloading tensorflow-determinism-0.2.0.tar.gz (10 kB)\r\n",
      "\u001b[33mWARNING: Discarding https://files.pythonhosted.org/packages/9b/28/4aa0d8f183d13d3477626e931a3363651bb8e291165d58962a39c57ae7fb/tensorflow-determinism-0.2.0.tar.gz#sha256=1e364b142acd96ec8a8fca6dee32ef04e1c5f5ca20bd83fc9ec37f7dbf2fb5b5 (from https://pypi.org/simple/tensorflow-determinism/). Requested tensorflow-determinism from https://files.pythonhosted.org/packages/9b/28/4aa0d8f183d13d3477626e931a3363651bb8e291165d58962a39c57ae7fb/tensorflow-determinism-0.2.0.tar.gz#sha256=1e364b142acd96ec8a8fca6dee32ef04e1c5f5ca20bd83fc9ec37f7dbf2fb5b5 has inconsistent version: filename has '0.2.0', but metadata has '0.4.1'\u001b[0m\r\n",
      "  Downloading tensorflow-determinism-0.1.0.tar.gz (7.2 kB)\r\n",
      "Building wheels for collected packages: tensorflow-determinism\r\n",
      "  Building wheel for tensorflow-determinism (setup.py) ... \u001b[?25l-\b \b\\\b \bdone\r\n",
      "\u001b[?25h  Created wheel for tensorflow-determinism: filename=tensorflow_determinism-0.1.0-py3-none-any.whl size=5255 sha256=bc370538a34766d6a7afaf91d45187a990dfe798617388c17b747e48cb0ce111\r\n",
      "  Stored in directory: /root/.cache/pip/wheels/ce/06/d4/df757adc4c81f705a74a0317c27cf19919ccd25ae2a6ecd2c5\r\n",
      "Successfully built tensorflow-determinism\r\n",
      "Installing collected packages: tensorflow-determinism\r\n",
      "Successfully installed tensorflow-determinism-0.1.0\r\n"
     ]
    }
   ],
   "source": [
    "# credit: https://www.kaggle.com/kokitanisaka/lstm-by-keras-with-unified-wi-fi-feats\n",
    "!pip install tensorflow-determinism"
   ]
  },
  {
   "cell_type": "code",
   "execution_count": 2,
   "id": "annual-platinum",
   "metadata": {
    "execution": {
     "iopub.execute_input": "2021-05-09T10:23:29.431571Z",
     "iopub.status.busy": "2021-05-09T10:23:29.430380Z",
     "iopub.status.idle": "2021-05-09T10:23:35.042047Z",
     "shell.execute_reply": "2021-05-09T10:23:35.043173Z"
    },
    "papermill": {
     "duration": 5.638937,
     "end_time": "2021-05-09T10:23:35.043405",
     "exception": false,
     "start_time": "2021-05-09T10:23:29.404468",
     "status": "completed"
    },
    "tags": []
   },
   "outputs": [],
   "source": [
    "import numpy as np\n",
    "import pandas as pd\n",
    "import scipy.stats as stats\n",
    "from pathlib import Path\n",
    "import glob\n",
    "import pickle\n",
    "\n",
    "import random\n",
    "import os\n",
    "\n",
    "from tqdm.notebook import tqdm\n",
    "\n",
    "from sklearn.model_selection import StratifiedKFold\n",
    "from sklearn.preprocessing import StandardScaler, LabelEncoder, MinMaxScaler, QuantileTransformer\n",
    "\n",
    "import tensorflow as tf\n",
    "import tensorflow.keras.layers as L\n",
    "import tensorflow.keras.models as M\n",
    "import tensorflow.keras.backend as K\n",
    "import tensorflow_addons as tfa\n",
    "from tensorflow_addons.layers import WeightNormalization\n",
    "from tensorflow.keras.callbacks import ReduceLROnPlateau, ModelCheckpoint, EarlyStopping\n",
    "\n",
    "from tensorflow.keras.layers import *\n",
    "from tensorflow.keras.models import *\n",
    "from tensorflow.keras.layers import *\n",
    "from tensorflow.keras.optimizers import *\n",
    "from tensorflow.keras.metrics import *\n",
    "from tensorflow.keras.utils import *\n",
    "from tensorflow.keras.callbacks import *\n",
    "\n",
    "import multiprocessing\n",
    "import scipy.interpolate\n",
    "import scipy.sparse\n",
    "from tqdm import tqdm\n",
    "from tensorflow_addons.layers import WeightNormalization\n",
    "\n",
    "from sklearn.decomposition import PCA\n",
    "\n",
    "from scipy.spatial.distance import cdist\n",
    "\n",
    "import warnings\n",
    "warnings.filterwarnings(\"ignore\")"
   ]
  },
  {
   "cell_type": "code",
   "execution_count": 3,
   "id": "floral-artwork",
   "metadata": {
    "execution": {
     "iopub.execute_input": "2021-05-09T10:23:35.143858Z",
     "iopub.status.busy": "2021-05-09T10:23:35.143133Z",
     "iopub.status.idle": "2021-05-09T10:23:35.145018Z",
     "shell.execute_reply": "2021-05-09T10:23:35.144487Z"
    },
    "papermill": {
     "duration": 0.038928,
     "end_time": "2021-05-09T10:23:35.145166",
     "exception": false,
     "start_time": "2021-05-09T10:23:35.106238",
     "status": "completed"
    },
    "tags": []
   },
   "outputs": [],
   "source": [
    "# options\n",
    "N_SPLITS = 5\n",
    "SEED = 2021\n",
    "NUM_FEATS = 40 \n",
    "base_path = '/kaggle'"
   ]
  },
  {
   "cell_type": "code",
   "execution_count": 4,
   "id": "warming-train",
   "metadata": {
    "execution": {
     "iopub.execute_input": "2021-05-09T10:23:35.240448Z",
     "iopub.status.busy": "2021-05-09T10:23:35.238694Z",
     "iopub.status.idle": "2021-05-09T10:23:35.241018Z",
     "shell.execute_reply": "2021-05-09T10:23:35.241441Z"
    },
    "papermill": {
     "duration": 0.036752,
     "end_time": "2021-05-09T10:23:35.241568",
     "exception": false,
     "start_time": "2021-05-09T10:23:35.204816",
     "status": "completed"
    },
    "tags": []
   },
   "outputs": [],
   "source": [
    "def set_seed(seed=42):\n",
    "    random.seed(seed)\n",
    "    os.environ['PYTHONHASHSEED'] = str(seed)\n",
    "    os.environ['TF_DETERMINISTIC_OPS'] = '1'\n",
    "    np.random.seed(seed)\n",
    "    tf.random.set_seed(seed)\n",
    "    session_conf = tf.compat.v1.ConfigProto(\n",
    "        intra_op_parallelism_threads=1,\n",
    "        inter_op_parallelism_threads=1\n",
    "    )\n",
    "    sess = tf.compat.v1.Session(graph=tf.compat.v1.get_default_graph(), config=session_conf)\n",
    "    tf.compat.v1.keras.backend.set_session(sess)\n",
    "    \n",
    "def comp_metric(xhat, yhat, fhat, x, y, f):\n",
    "    intermediate = np.sqrt(np.power(xhat-x, 2) + np.power(yhat-y, 2)) + 15 * np.abs(fhat-f)\n",
    "    return intermediate.sum()/xhat.shape[0]\n",
    "\n",
    "def xy_comp_metric(xhat, yhat, x, y):\n",
    "    intermediate = np.sqrt(np.power(xhat-x, 2) + np.power(yhat-y, 2))\n",
    "    return intermediate.sum()/xhat.shape[0]\n",
    "\n",
    "def xy_loss(true, pred):\n",
    "    return K.mean(K.sqrt(K.square(pred[:,0] - true[:,0]) + K.square(pred[:,1] - true[:,1]))) "
   ]
  },
  {
   "cell_type": "code",
   "execution_count": 5,
   "id": "removed-homework",
   "metadata": {
    "execution": {
     "iopub.execute_input": "2021-05-09T10:23:35.279845Z",
     "iopub.status.busy": "2021-05-09T10:23:35.278480Z",
     "iopub.status.idle": "2021-05-09T10:23:35.579305Z",
     "shell.execute_reply": "2021-05-09T10:23:35.578797Z"
    },
    "papermill": {
     "duration": 0.321294,
     "end_time": "2021-05-09T10:23:35.579453",
     "exception": false,
     "start_time": "2021-05-09T10:23:35.258159",
     "status": "completed"
    },
    "tags": []
   },
   "outputs": [],
   "source": [
    "# indooruniteddataset: my original wifi data with additional 24 sited\n",
    "# indoor-mod-united-dataset: my another wifi data with all sites\n",
    "# indoorunitedwifids: kouki's wifi data\n",
    "# indoor-mod-interpolated-united-data: my 3rd wifi data with 20 additional sites with interpolation\n",
    "# indoor-wifi-from-waypoint-time-dataset: my 4th wifi data from waypoint time with all sites\n",
    "\n",
    "feature_dir = f\"{base_path}/input/indoor-wifi-from-waypoint-time-dataset\"   \n",
    "train_files = sorted(glob.glob(os.path.join(feature_dir, '*_train.csv')))\n",
    "test_files = sorted(glob.glob(os.path.join(feature_dir, '*_test.csv')))\n",
    "subm = pd.read_csv(f'{base_path}/input/indoor-location-navigation/sample_submission.csv', index_col=0)\n",
    "\n",
    "all_sites = sorted(set(pd.DataFrame(subm.index)[\"site_path_timestamp\"].apply(lambda x: x.split(\"_\")[0])))"
   ]
  },
  {
   "cell_type": "code",
   "execution_count": 6,
   "id": "eligible-newfoundland",
   "metadata": {
    "execution": {
     "iopub.execute_input": "2021-05-09T10:23:35.620179Z",
     "iopub.status.busy": "2021-05-09T10:23:35.618315Z",
     "iopub.status.idle": "2021-05-09T10:23:35.620873Z",
     "shell.execute_reply": "2021-05-09T10:23:35.621282Z"
    },
    "papermill": {
     "duration": 0.024393,
     "end_time": "2021-05-09T10:23:35.621417",
     "exception": false,
     "start_time": "2021-05-09T10:23:35.597024",
     "status": "completed"
    },
    "tags": []
   },
   "outputs": [],
   "source": [
    "# training target features\n",
    "BSSID_FEATS = [f'bssid_{i}' for i in range(NUM_FEATS)]\n",
    "RSSI_FEATS  = [f'rssi_{i}' for i in range(NUM_FEATS)]"
   ]
  },
  {
   "cell_type": "code",
   "execution_count": 7,
   "id": "affecting-appendix",
   "metadata": {
    "execution": {
     "iopub.execute_input": "2021-05-09T10:23:35.661939Z",
     "iopub.status.busy": "2021-05-09T10:23:35.661436Z",
     "iopub.status.idle": "2021-05-09T10:23:47.126083Z",
     "shell.execute_reply": "2021-05-09T10:23:47.125545Z"
    },
    "papermill": {
     "duration": 11.487595,
     "end_time": "2021-05-09T10:23:47.126210",
     "exception": false,
     "start_time": "2021-05-09T10:23:35.638615",
     "status": "completed"
    },
    "tags": []
   },
   "outputs": [
    {
     "name": "stderr",
     "output_type": "stream",
     "text": [
      "100%|██████████| 177/177 [00:09<00:00, 18.37it/s]\n",
      "100%|██████████| 24/24 [00:00<00:00, 27.74it/s]\n"
     ]
    }
   ],
   "source": [
    "data = []\n",
    "for i in tqdm(train_files):\n",
    "    tmp = pd.read_csv(i)\n",
    "    tmp[\"site_id\"] = i.split(\"/\")[4].split(\"_\")[0]\n",
    "    data.append(tmp)\n",
    "data = pd.concat(data).reset_index(drop=True)\n",
    "\n",
    "test_data = []\n",
    "for i in tqdm(test_files):\n",
    "    tmp = pd.read_csv(i)\n",
    "    tmp[\"site_id\"] = i.split(\"/\")[4].split(\"_\")[0]\n",
    "    test_data.append(tmp)\n",
    "test_data = pd.concat(test_data).reset_index(drop=True)"
   ]
  },
  {
   "cell_type": "code",
   "execution_count": 8,
   "id": "crazy-reaction",
   "metadata": {
    "execution": {
     "iopub.execute_input": "2021-05-09T10:23:47.214709Z",
     "iopub.status.busy": "2021-05-09T10:23:47.213575Z",
     "iopub.status.idle": "2021-05-09T10:23:47.682854Z",
     "shell.execute_reply": "2021-05-09T10:23:47.682259Z"
    },
    "papermill": {
     "duration": 0.522782,
     "end_time": "2021-05-09T10:23:47.682987",
     "exception": false,
     "start_time": "2021-05-09T10:23:47.160205",
     "status": "completed"
    },
    "tags": []
   },
   "outputs": [],
   "source": [
    "train_only_index = data[~data.site_id.isin(all_sites)].index\n",
    "normal_index = data[data.site_id.isin(all_sites)].index\n",
    "assert len(set(train_only_index) & set(normal_index)) == 0"
   ]
  },
  {
   "cell_type": "code",
   "execution_count": 9,
   "id": "taken-logging",
   "metadata": {
    "execution": {
     "iopub.execute_input": "2021-05-09T10:23:47.858123Z",
     "iopub.status.busy": "2021-05-09T10:23:47.795344Z",
     "iopub.status.idle": "2021-05-09T10:23:48.708054Z",
     "shell.execute_reply": "2021-05-09T10:23:48.708597Z"
    },
    "papermill": {
     "duration": 0.991785,
     "end_time": "2021-05-09T10:23:48.708759",
     "exception": false,
     "start_time": "2021-05-09T10:23:47.716974",
     "status": "completed"
    },
    "tags": []
   },
   "outputs": [
    {
     "name": "stdout",
     "output_type": "stream",
     "text": [
      "BSSID TYPES: 137655\n",
      "BSSID TYPES: 23845\n"
     ]
    }
   ],
   "source": [
    "wifi_feat_nums = 60\n",
    "wifi_bssids = []\n",
    "for i in range(wifi_feat_nums):\n",
    "    wifi_bssids.extend(data.iloc[:,i].values.tolist())\n",
    "wifi_bssids = list(set(wifi_bssids))\n",
    "\n",
    "wifi_bssids_size = len(wifi_bssids)\n",
    "print(f'BSSID TYPES: {wifi_bssids_size}')\n",
    "\n",
    "wifi_bssids_test = []\n",
    "for i in range(wifi_feat_nums):\n",
    "    wifi_bssids_test.extend(test_data.iloc[:,i].values.tolist())\n",
    "wifi_bssids_test = list(set(wifi_bssids_test))\n",
    "\n",
    "wifi_bssids_size = len(wifi_bssids_test)\n",
    "print(f'BSSID TYPES: {wifi_bssids_size}')\n",
    "\n",
    "wifi_bssids.extend(wifi_bssids_test)\n",
    "wifi_bssids_size = len(wifi_bssids)"
   ]
  },
  {
   "cell_type": "code",
   "execution_count": 10,
   "id": "governing-cooking",
   "metadata": {
    "execution": {
     "iopub.execute_input": "2021-05-09T10:23:48.781735Z",
     "iopub.status.busy": "2021-05-09T10:23:48.780874Z",
     "iopub.status.idle": "2021-05-09T10:23:49.133283Z",
     "shell.execute_reply": "2021-05-09T10:23:49.132770Z"
    },
    "papermill": {
     "duration": 0.390617,
     "end_time": "2021-05-09T10:23:49.133422",
     "exception": false,
     "start_time": "2021-05-09T10:23:48.742805",
     "status": "completed"
    },
    "tags": []
   },
   "outputs": [],
   "source": [
    "#floor_pred = pd.read_csv('../input/lstm-prediction-dataset/submission.csv') \n",
    "#test_data['floor'] = floor_pred['floor'].values\n",
    "\n",
    "original_floor_values = data.loc[normal_index][\"floor\"].values\n",
    "\n",
    "data = pd.get_dummies(data, columns=['floor'])\n",
    "#test_data = pd.get_dummies(test_data, columns=['floor'])\n",
    "\n",
    "floor_columns = [i for i in data.columns if \"floor\" in i]"
   ]
  },
  {
   "cell_type": "code",
   "execution_count": 11,
   "id": "subject-fitness",
   "metadata": {
    "execution": {
     "iopub.execute_input": "2021-05-09T10:23:49.485169Z",
     "iopub.status.busy": "2021-05-09T10:23:49.304166Z",
     "iopub.status.idle": "2021-05-09T10:23:49.733218Z",
     "shell.execute_reply": "2021-05-09T10:23:49.733603Z"
    },
    "papermill": {
     "duration": 0.56559,
     "end_time": "2021-05-09T10:23:49.733757",
     "exception": false,
     "start_time": "2021-05-09T10:23:49.168167",
     "status": "completed"
    },
    "tags": []
   },
   "outputs": [
    {
     "data": {
      "text/plain": [
       "LabelEncoder()"
      ]
     },
     "execution_count": 11,
     "metadata": {},
     "output_type": "execute_result"
    }
   ],
   "source": [
    "# preprocess\n",
    "ss = StandardScaler()\n",
    "ss.fit(data.loc[:,RSSI_FEATS])\n",
    "\n",
    "le = LabelEncoder()\n",
    "le.fit(wifi_bssids)\n",
    "\n",
    "le_site = LabelEncoder()\n",
    "le_site.fit(data['site_id'])"
   ]
  },
  {
   "cell_type": "code",
   "execution_count": 12,
   "id": "unable-floating",
   "metadata": {
    "execution": {
     "iopub.execute_input": "2021-05-09T10:23:49.822810Z",
     "iopub.status.busy": "2021-05-09T10:23:49.821726Z",
     "iopub.status.idle": "2021-05-09T10:24:15.330321Z",
     "shell.execute_reply": "2021-05-09T10:24:15.329802Z"
    },
    "papermill": {
     "duration": 25.561739,
     "end_time": "2021-05-09T10:24:15.330471",
     "exception": false,
     "start_time": "2021-05-09T10:23:49.768732",
     "status": "completed"
    },
    "tags": []
   },
   "outputs": [],
   "source": [
    "data.loc[:,RSSI_FEATS] = ss.transform(data.loc[:,RSSI_FEATS])\n",
    "test_data.loc[:,RSSI_FEATS] = ss.transform(test_data.loc[:,RSSI_FEATS])\n",
    "\n",
    "for i in BSSID_FEATS:\n",
    "    data.loc[:,i] = le.transform(data.loc[:,i])\n",
    "    \n",
    "for i in BSSID_FEATS:\n",
    "    test_data.loc[:,i] = le.transform(test_data.loc[:,i])\n",
    "    \n",
    "data.loc[:, 'site_id'] = le_site.transform(data.loc[:, 'site_id'])\n",
    "test_data.loc[:, 'site_id'] = le_site.transform(test_data.loc[:, 'site_id'])"
   ]
  },
  {
   "cell_type": "code",
   "execution_count": 13,
   "id": "advanced-cincinnati",
   "metadata": {
    "execution": {
     "iopub.execute_input": "2021-05-09T10:24:15.404619Z",
     "iopub.status.busy": "2021-05-09T10:24:15.403830Z",
     "iopub.status.idle": "2021-05-09T10:24:15.407769Z",
     "shell.execute_reply": "2021-05-09T10:24:15.407256Z"
    },
    "papermill": {
     "duration": 0.042099,
     "end_time": "2021-05-09T10:24:15.407873",
     "exception": false,
     "start_time": "2021-05-09T10:24:15.365774",
     "status": "completed"
    },
    "tags": []
   },
   "outputs": [],
   "source": [
    "site_count = len(data['site_id'].unique())\n",
    "data.reset_index(drop=True, inplace=True)"
   ]
  },
  {
   "cell_type": "code",
   "execution_count": 14,
   "id": "afraid-mining",
   "metadata": {
    "execution": {
     "iopub.execute_input": "2021-05-09T10:24:15.481137Z",
     "iopub.status.busy": "2021-05-09T10:24:15.480581Z",
     "iopub.status.idle": "2021-05-09T10:24:17.976113Z",
     "shell.execute_reply": "2021-05-09T10:24:17.974697Z"
    },
    "papermill": {
     "duration": 2.533662,
     "end_time": "2021-05-09T10:24:17.976253",
     "exception": false,
     "start_time": "2021-05-09T10:24:15.442591",
     "status": "completed"
    },
    "tags": []
   },
   "outputs": [],
   "source": [
    "set_seed(SEED)"
   ]
  },
  {
   "cell_type": "code",
   "execution_count": 15,
   "id": "still-driving",
   "metadata": {
    "execution": {
     "iopub.execute_input": "2021-05-09T10:24:18.061381Z",
     "iopub.status.busy": "2021-05-09T10:24:18.060729Z",
     "iopub.status.idle": "2021-05-09T10:24:18.297664Z",
     "shell.execute_reply": "2021-05-09T10:24:18.296982Z"
    },
    "papermill": {
     "duration": 0.28611,
     "end_time": "2021-05-09T10:24:18.297817",
     "exception": false,
     "start_time": "2021-05-09T10:24:18.011707",
     "status": "completed"
    },
    "tags": []
   },
   "outputs": [
    {
     "data": {
      "text/plain": [
       "((71725, 109), (83705, 109))"
      ]
     },
     "execution_count": 15,
     "metadata": {},
     "output_type": "execute_result"
    }
   ],
   "source": [
    "train_only_data = data[data.index.isin(train_only_index)].copy().reset_index(drop=True)\n",
    "data = data[data.index.isin(normal_index)].copy().reset_index(drop=True)\n",
    "data.shape, train_only_data.shape"
   ]
  },
  {
   "cell_type": "markdown",
   "id": "severe-senator",
   "metadata": {
    "papermill": {
     "duration": 0.035512,
     "end_time": "2021-05-09T10:24:18.368934",
     "exception": false,
     "start_time": "2021-05-09T10:24:18.333422",
     "status": "completed"
    },
    "tags": []
   },
   "source": [
    "# model"
   ]
  },
  {
   "cell_type": "code",
   "execution_count": 16,
   "id": "liked-democrat",
   "metadata": {
    "execution": {
     "iopub.execute_input": "2021-05-09T10:24:18.454674Z",
     "iopub.status.busy": "2021-05-09T10:24:18.453016Z",
     "iopub.status.idle": "2021-05-09T10:24:18.456725Z",
     "shell.execute_reply": "2021-05-09T10:24:18.456255Z"
    },
    "papermill": {
     "duration": 0.052075,
     "end_time": "2021-05-09T10:24:18.456850",
     "exception": false,
     "start_time": "2021-05-09T10:24:18.404775",
     "status": "completed"
    },
    "tags": []
   },
   "outputs": [
    {
     "name": "stdout",
     "output_type": "stream",
     "text": [
      "/device:GPU:0\n"
     ]
    }
   ],
   "source": [
    "print(tf.test.gpu_device_name())"
   ]
  },
  {
   "cell_type": "code",
   "execution_count": 17,
   "id": "upset-senior",
   "metadata": {
    "execution": {
     "iopub.execute_input": "2021-05-09T10:24:18.563082Z",
     "iopub.status.busy": "2021-05-09T10:24:18.562256Z",
     "iopub.status.idle": "2021-05-09T10:24:18.567372Z",
     "shell.execute_reply": "2021-05-09T10:24:18.568749Z"
    },
    "papermill": {
     "duration": 0.073546,
     "end_time": "2021-05-09T10:24:18.568947",
     "exception": false,
     "start_time": "2021-05-09T10:24:18.495401",
     "status": "completed"
    },
    "tags": []
   },
   "outputs": [],
   "source": [
    "bssid_embed_dim = 64\n",
    "site_embed_dim = 2\n",
    "batch_size=256\n",
    "epochs=100"
   ]
  },
  {
   "cell_type": "code",
   "execution_count": 18,
   "id": "received-beads",
   "metadata": {
    "execution": {
     "iopub.execute_input": "2021-05-09T10:24:18.706727Z",
     "iopub.status.busy": "2021-05-09T10:24:18.705932Z",
     "iopub.status.idle": "2021-05-09T10:24:18.721005Z",
     "shell.execute_reply": "2021-05-09T10:24:18.721965Z"
    },
    "papermill": {
     "duration": 0.092934,
     "end_time": "2021-05-09T10:24:18.722171",
     "exception": false,
     "start_time": "2021-05-09T10:24:18.629237",
     "status": "completed"
    },
    "tags": []
   },
   "outputs": [],
   "source": [
    "def conv_layer(x, n_channels=32, kernel_size=3, pool_size=2, padding='same'):\n",
    "    x = Conv1D(filters=n_channels, kernel_size=kernel_size, padding=padding)(x)\n",
    "    x = BatchNormalization()(x)\n",
    "    x = ReLU()(x)\n",
    "    x = MaxPool1D(pool_size=pool_size, padding='same')(x)\n",
    "    return x\n",
    "\n",
    "def create_model(input_data):\n",
    "\n",
    "    # bssid feats ------\n",
    "    input_dim = input_data[0].shape[1]\n",
    "\n",
    "    input_embd_layer = L.Input(shape=(input_dim,))\n",
    "    x1 = L.Embedding(wifi_bssids_size, bssid_embed_dim)(input_embd_layer)\n",
    "    x1 = L.Flatten()(x1)\n",
    "\n",
    "    # rssi feats -------\n",
    "    input_dim = input_data[1].shape[1]\n",
    "    \n",
    "    ## cnn\n",
    "    input_layer = Input(shape=(input_dim, 1, 1))\n",
    "    x2 = Reshape((input_dim, 1))(input_layer)\n",
    "    x2 = conv_layer(x2, 4, 7, 3)  \n",
    "    x2 = conv_layer(x2, 4, 7, 3) \n",
    "    x2 = Reshape((-1,))(x2) #x2 = GlobalMaxPool1D()(x2)\n",
    "    \n",
    "    # site -------------\n",
    "    input_site_layer = L.Input(shape=(1,))\n",
    "    x3 = L.Embedding(site_count, site_embed_dim)(input_site_layer)\n",
    "    x3 = L.Flatten()(x3)\n",
    "\n",
    "    # main stream ------\n",
    "    x = L.Concatenate(axis=1)([x1, x3, x2])\n",
    "    \n",
    "    x = L.BatchNormalization()(x)\n",
    "    x = L.Dropout(0.3)(x)\n",
    "    x = L.Dense(256, activation='relu')(x)\n",
    "    \n",
    "    x = L.Reshape((1, -1))(x)\n",
    "    x = L.BatchNormalization()(x)\n",
    "    x = L.Bidirectional(L.LSTM(128, dropout=0.3, recurrent_dropout=0.3, return_sequences=True, activation='elu'))(x)\n",
    "    x = L.Bidirectional(L.LSTM(16, return_sequences=False, activation='elu'))(x)\n",
    "        \n",
    "    output_layer_1 = L.Dense(2, name='xy')(x)\n",
    "    output_layer_2 = L.Dense(len(floor_columns), activation='softmax', name='floor')(x)\n",
    "\n",
    "    model = M.Model([input_embd_layer, input_layer, input_site_layer], \n",
    "                    [output_layer_1, output_layer_2])\n",
    "    \n",
    "    model.compile(optimizer=tf.optimizers.Adam(lr=0.002),\n",
    "                  loss={'xy': xy_loss, 'floor': tf.keras.losses.CategoricalCrossentropy()}, \n",
    "                  #loss_weights={'xy': 1, 'floor': 15},\n",
    "                  metrics={'xy': xy_loss, 'floor': 'accuracy'})\n",
    "\n",
    "    return model"
   ]
  },
  {
   "cell_type": "code",
   "execution_count": 19,
   "id": "stainless-scoop",
   "metadata": {
    "execution": {
     "iopub.execute_input": "2021-05-09T10:24:18.852183Z",
     "iopub.status.busy": "2021-05-09T10:24:18.851342Z",
     "iopub.status.idle": "2021-05-09T11:52:22.188004Z",
     "shell.execute_reply": "2021-05-09T11:52:22.187524Z"
    },
    "papermill": {
     "duration": 5283.406773,
     "end_time": "2021-05-09T11:52:22.188179",
     "exception": false,
     "start_time": "2021-05-09T10:24:18.781406",
     "status": "completed"
    },
    "tags": []
   },
   "outputs": [
    {
     "name": "stdout",
     "output_type": "stream",
     "text": [
      "Epoch 1/100\n",
      "552/552 [==============================] - 115s 190ms/step - loss: 65.9062 - xy_loss: 63.3315 - floor_loss: 2.5747 - xy_xy_loss: 63.3314 - floor_accuracy: 0.1934 - val_loss: 24.3128 - val_xy_loss: 22.3855 - val_floor_loss: 1.9273 - val_xy_xy_loss: 22.5790 - val_floor_accuracy: 0.2358\n",
      "\n",
      "Epoch 00001: val_xy_loss improved from inf to 22.38550, saving model to RNN_2021_0.hdf5\n",
      "Epoch 2/100\n",
      "552/552 [==============================] - 104s 188ms/step - loss: 17.0055 - xy_loss: 15.0508 - floor_loss: 1.9547 - xy_xy_loss: 15.0508 - floor_accuracy: 0.2510 - val_loss: 13.7556 - val_xy_loss: 12.0319 - val_floor_loss: 1.7237 - val_xy_xy_loss: 12.1308 - val_floor_accuracy: 0.2998\n",
      "\n",
      "Epoch 00002: val_xy_loss improved from 22.38550 to 12.03187, saving model to RNN_2021_0.hdf5\n",
      "Epoch 3/100\n",
      "552/552 [==============================] - 103s 187ms/step - loss: 14.7431 - xy_loss: 13.0796 - floor_loss: 1.6635 - xy_xy_loss: 13.0796 - floor_accuracy: 0.3591 - val_loss: 16.2213 - val_xy_loss: 15.5494 - val_floor_loss: 0.6719 - val_xy_xy_loss: 15.6963 - val_floor_accuracy: 0.7154\n",
      "\n",
      "Epoch 00003: val_xy_loss did not improve from 12.03187\n",
      "Epoch 4/100\n",
      "552/552 [==============================] - 105s 190ms/step - loss: 12.3895 - xy_loss: 11.6685 - floor_loss: 0.7210 - xy_xy_loss: 11.6685 - floor_accuracy: 0.7349 - val_loss: 12.1737 - val_xy_loss: 12.0238 - val_floor_loss: 0.1499 - val_xy_xy_loss: 12.0963 - val_floor_accuracy: 0.9641\n",
      "\n",
      "Epoch 00004: val_xy_loss improved from 12.03187 to 12.02381, saving model to RNN_2021_0.hdf5\n",
      "Epoch 5/100\n",
      "552/552 [==============================] - 105s 190ms/step - loss: 11.0701 - xy_loss: 10.7388 - floor_loss: 0.3314 - xy_xy_loss: 10.7388 - floor_accuracy: 0.8880 - val_loss: 9.0443 - val_xy_loss: 8.9742 - val_floor_loss: 0.0701 - val_xy_xy_loss: 9.0824 - val_floor_accuracy: 0.9833\n",
      "\n",
      "Epoch 00005: val_xy_loss improved from 12.02381 to 8.97423, saving model to RNN_2021_0.hdf5\n",
      "Epoch 6/100\n",
      "552/552 [==============================] - 106s 192ms/step - loss: 10.1849 - xy_loss: 9.9653 - floor_loss: 0.2196 - xy_xy_loss: 9.9653 - floor_accuracy: 0.9272 - val_loss: 10.3227 - val_xy_loss: 10.2677 - val_floor_loss: 0.0550 - val_xy_xy_loss: 10.3715 - val_floor_accuracy: 0.9858\n",
      "\n",
      "Epoch 00006: val_xy_loss did not improve from 8.97423\n",
      "Epoch 7/100\n",
      "552/552 [==============================] - 106s 191ms/step - loss: 9.6590 - xy_loss: 9.4785 - floor_loss: 0.1806 - xy_xy_loss: 9.4785 - floor_accuracy: 0.9389 - val_loss: 9.1036 - val_xy_loss: 9.0642 - val_floor_loss: 0.0394 - val_xy_xy_loss: 9.0126 - val_floor_accuracy: 0.9916\n",
      "\n",
      "Epoch 00007: val_xy_loss did not improve from 8.97423\n",
      "Epoch 8/100\n",
      "552/552 [==============================] - 106s 193ms/step - loss: 9.1083 - xy_loss: 8.9609 - floor_loss: 0.1473 - xy_xy_loss: 8.9610 - floor_accuracy: 0.9506 - val_loss: 8.3349 - val_xy_loss: 8.2990 - val_floor_loss: 0.0359 - val_xy_xy_loss: 8.3345 - val_floor_accuracy: 0.9904\n",
      "\n",
      "Epoch 00008: val_xy_loss improved from 8.97423 to 8.29896, saving model to RNN_2021_0.hdf5\n",
      "Epoch 9/100\n",
      "552/552 [==============================] - 109s 198ms/step - loss: 8.5944 - xy_loss: 8.4672 - floor_loss: 0.1273 - xy_xy_loss: 8.4672 - floor_accuracy: 0.9583 - val_loss: 8.6361 - val_xy_loss: 8.6115 - val_floor_loss: 0.0246 - val_xy_xy_loss: 8.6520 - val_floor_accuracy: 0.9944\n",
      "\n",
      "Epoch 00009: val_xy_loss did not improve from 8.29896\n",
      "Epoch 10/100\n",
      "552/552 [==============================] - 108s 196ms/step - loss: 8.2368 - xy_loss: 8.1224 - floor_loss: 0.1144 - xy_xy_loss: 8.1224 - floor_accuracy: 0.9616 - val_loss: 8.3027 - val_xy_loss: 8.2746 - val_floor_loss: 0.0281 - val_xy_xy_loss: 8.2812 - val_floor_accuracy: 0.9928\n",
      "\n",
      "Epoch 00010: val_xy_loss improved from 8.29896 to 8.27455, saving model to RNN_2021_0.hdf5\n",
      "Epoch 11/100\n",
      "552/552 [==============================] - 109s 198ms/step - loss: 7.9607 - xy_loss: 7.8591 - floor_loss: 0.1016 - xy_xy_loss: 7.8591 - floor_accuracy: 0.9656 - val_loss: 8.1804 - val_xy_loss: 8.1555 - val_floor_loss: 0.0248 - val_xy_xy_loss: 8.2559 - val_floor_accuracy: 0.9939\n",
      "\n",
      "Epoch 00011: val_xy_loss improved from 8.27455 to 8.15553, saving model to RNN_2021_0.hdf5\n",
      "Epoch 12/100\n",
      "552/552 [==============================] - 109s 198ms/step - loss: 7.6270 - xy_loss: 7.5275 - floor_loss: 0.0995 - xy_xy_loss: 7.5275 - floor_accuracy: 0.9671 - val_loss: 7.8125 - val_xy_loss: 7.7959 - val_floor_loss: 0.0167 - val_xy_xy_loss: 7.7773 - val_floor_accuracy: 0.9954\n",
      "\n",
      "Epoch 00012: val_xy_loss improved from 8.15553 to 7.79585, saving model to RNN_2021_0.hdf5\n",
      "Epoch 13/100\n",
      "552/552 [==============================] - 109s 197ms/step - loss: 7.3142 - xy_loss: 7.2297 - floor_loss: 0.0845 - xy_xy_loss: 7.2297 - floor_accuracy: 0.9722 - val_loss: 7.7085 - val_xy_loss: 7.6925 - val_floor_loss: 0.0160 - val_xy_xy_loss: 7.8031 - val_floor_accuracy: 0.9952\n",
      "\n",
      "Epoch 00013: val_xy_loss improved from 7.79585 to 7.69254, saving model to RNN_2021_0.hdf5\n",
      "Epoch 14/100\n",
      "552/552 [==============================] - 110s 198ms/step - loss: 7.1255 - xy_loss: 7.0464 - floor_loss: 0.0791 - xy_xy_loss: 7.0464 - floor_accuracy: 0.9731 - val_loss: 7.6436 - val_xy_loss: 7.6251 - val_floor_loss: 0.0185 - val_xy_xy_loss: 7.6484 - val_floor_accuracy: 0.9947\n",
      "\n",
      "Epoch 00014: val_xy_loss improved from 7.69254 to 7.62514, saving model to RNN_2021_0.hdf5\n",
      "Epoch 15/100\n",
      "552/552 [==============================] - 109s 197ms/step - loss: 6.7879 - xy_loss: 6.7129 - floor_loss: 0.0751 - xy_xy_loss: 6.7129 - floor_accuracy: 0.9756 - val_loss: 7.5349 - val_xy_loss: 7.5223 - val_floor_loss: 0.0127 - val_xy_xy_loss: 7.5330 - val_floor_accuracy: 0.9963\n",
      "\n",
      "Epoch 00015: val_xy_loss improved from 7.62514 to 7.52226, saving model to RNN_2021_0.hdf5\n",
      "Epoch 16/100\n",
      "552/552 [==============================] - 109s 198ms/step - loss: 6.5993 - xy_loss: 6.5275 - floor_loss: 0.0718 - xy_xy_loss: 6.5275 - floor_accuracy: 0.9770 - val_loss: 7.5036 - val_xy_loss: 7.4897 - val_floor_loss: 0.0139 - val_xy_xy_loss: 7.5063 - val_floor_accuracy: 0.9957\n",
      "\n",
      "Epoch 00016: val_xy_loss improved from 7.52226 to 7.48969, saving model to RNN_2021_0.hdf5\n",
      "Epoch 17/100\n",
      "552/552 [==============================] - 110s 199ms/step - loss: 6.3953 - xy_loss: 6.3258 - floor_loss: 0.0695 - xy_xy_loss: 6.3258 - floor_accuracy: 0.9770 - val_loss: 7.5343 - val_xy_loss: 7.5229 - val_floor_loss: 0.0114 - val_xy_xy_loss: 7.5943 - val_floor_accuracy: 0.9969\n",
      "\n",
      "Epoch 00017: val_xy_loss did not improve from 7.48969\n",
      "Epoch 18/100\n",
      "552/552 [==============================] - 109s 198ms/step - loss: 6.2273 - xy_loss: 6.1660 - floor_loss: 0.0613 - xy_xy_loss: 6.1660 - floor_accuracy: 0.9800 - val_loss: 7.2247 - val_xy_loss: 7.2115 - val_floor_loss: 0.0132 - val_xy_xy_loss: 7.2223 - val_floor_accuracy: 0.9959\n",
      "\n",
      "Epoch 00018: val_xy_loss improved from 7.48969 to 7.21150, saving model to RNN_2021_0.hdf5\n",
      "Epoch 19/100\n",
      "552/552 [==============================] - 110s 199ms/step - loss: 6.0178 - xy_loss: 5.9586 - floor_loss: 0.0592 - xy_xy_loss: 5.9586 - floor_accuracy: 0.9808 - val_loss: 7.5365 - val_xy_loss: 7.5264 - val_floor_loss: 0.0101 - val_xy_xy_loss: 7.5871 - val_floor_accuracy: 0.9974\n",
      "\n",
      "Epoch 00019: val_xy_loss did not improve from 7.21150\n",
      "Epoch 20/100\n",
      "552/552 [==============================] - 109s 198ms/step - loss: 5.8348 - xy_loss: 5.7768 - floor_loss: 0.0580 - xy_xy_loss: 5.7768 - floor_accuracy: 0.9813 - val_loss: 7.4053 - val_xy_loss: 7.3957 - val_floor_loss: 0.0096 - val_xy_xy_loss: 7.3619 - val_floor_accuracy: 0.9974\n",
      "\n",
      "Epoch 00020: val_xy_loss did not improve from 7.21150\n",
      "Epoch 21/100\n",
      "552/552 [==============================] - 110s 199ms/step - loss: 5.6603 - xy_loss: 5.6043 - floor_loss: 0.0560 - xy_xy_loss: 5.6043 - floor_accuracy: 0.9816 - val_loss: 7.2305 - val_xy_loss: 7.2208 - val_floor_loss: 0.0096 - val_xy_xy_loss: 7.2171 - val_floor_accuracy: 0.9968\n",
      "\n",
      "Epoch 00021: ReduceLROnPlateau reducing learning rate to 0.00020000000949949026.\n",
      "\n",
      "Epoch 00021: val_xy_loss did not improve from 7.21150\n",
      "Epoch 22/100\n",
      "552/552 [==============================] - 110s 200ms/step - loss: 5.2127 - xy_loss: 5.1673 - floor_loss: 0.0453 - xy_xy_loss: 5.1673 - floor_accuracy: 0.9855 - val_loss: 6.6006 - val_xy_loss: 6.5941 - val_floor_loss: 0.0065 - val_xy_xy_loss: 6.5967 - val_floor_accuracy: 0.9982\n",
      "\n",
      "Epoch 00022: val_xy_loss improved from 7.21150 to 6.59410, saving model to RNN_2021_0.hdf5\n",
      "Epoch 23/100\n",
      "552/552 [==============================] - 107s 193ms/step - loss: 4.8316 - xy_loss: 4.7958 - floor_loss: 0.0358 - xy_xy_loss: 4.7958 - floor_accuracy: 0.9885 - val_loss: 6.5893 - val_xy_loss: 6.5832 - val_floor_loss: 0.0061 - val_xy_xy_loss: 6.5793 - val_floor_accuracy: 0.9983\n",
      "\n",
      "Epoch 00023: val_xy_loss improved from 6.59410 to 6.58316, saving model to RNN_2021_0.hdf5\n",
      "Epoch 24/100\n",
      "552/552 [==============================] - 109s 198ms/step - loss: 4.7174 - xy_loss: 4.6834 - floor_loss: 0.0340 - xy_xy_loss: 4.6834 - floor_accuracy: 0.9896 - val_loss: 6.5320 - val_xy_loss: 6.5259 - val_floor_loss: 0.0061 - val_xy_xy_loss: 6.5271 - val_floor_accuracy: 0.9983\n",
      "\n",
      "Epoch 00024: val_xy_loss improved from 6.58316 to 6.52591, saving model to RNN_2021_0.hdf5\n",
      "Epoch 25/100\n",
      "552/552 [==============================] - 108s 195ms/step - loss: 4.5564 - xy_loss: 4.5234 - floor_loss: 0.0329 - xy_xy_loss: 4.5234 - floor_accuracy: 0.9899 - val_loss: 6.5077 - val_xy_loss: 6.5019 - val_floor_loss: 0.0058 - val_xy_xy_loss: 6.4906 - val_floor_accuracy: 0.9984\n",
      "\n",
      "Epoch 00025: val_xy_loss improved from 6.52591 to 6.50190, saving model to RNN_2021_0.hdf5\n",
      "Epoch 26/100\n",
      "552/552 [==============================] - 112s 202ms/step - loss: 4.5011 - xy_loss: 4.4674 - floor_loss: 0.0336 - xy_xy_loss: 4.4675 - floor_accuracy: 0.9898 - val_loss: 6.4836 - val_xy_loss: 6.4776 - val_floor_loss: 0.0060 - val_xy_xy_loss: 6.4647 - val_floor_accuracy: 0.9985\n",
      "\n",
      "Epoch 00026: val_xy_loss improved from 6.50190 to 6.47763, saving model to RNN_2021_0.hdf5\n",
      "Epoch 27/100\n",
      "552/552 [==============================] - 112s 202ms/step - loss: 4.4038 - xy_loss: 4.3737 - floor_loss: 0.0301 - xy_xy_loss: 4.3737 - floor_accuracy: 0.9905 - val_loss: 6.4717 - val_xy_loss: 6.4662 - val_floor_loss: 0.0056 - val_xy_xy_loss: 6.4594 - val_floor_accuracy: 0.9986\n",
      "\n",
      "Epoch 00027: val_xy_loss improved from 6.47763 to 6.46617, saving model to RNN_2021_0.hdf5\n",
      "Epoch 28/100\n",
      "552/552 [==============================] - 108s 196ms/step - loss: 4.3618 - xy_loss: 4.3313 - floor_loss: 0.0304 - xy_xy_loss: 4.3314 - floor_accuracy: 0.9907 - val_loss: 6.4948 - val_xy_loss: 6.4894 - val_floor_loss: 0.0054 - val_xy_xy_loss: 6.4702 - val_floor_accuracy: 0.9984\n",
      "\n",
      "Epoch 00028: val_xy_loss did not improve from 6.46617\n",
      "Epoch 29/100\n",
      "552/552 [==============================] - 112s 202ms/step - loss: 4.2913 - xy_loss: 4.2624 - floor_loss: 0.0290 - xy_xy_loss: 4.2624 - floor_accuracy: 0.9908 - val_loss: 6.4423 - val_xy_loss: 6.4369 - val_floor_loss: 0.0054 - val_xy_xy_loss: 6.4421 - val_floor_accuracy: 0.9985\n",
      "\n",
      "Epoch 00029: val_xy_loss improved from 6.46617 to 6.43686, saving model to RNN_2021_0.hdf5\n",
      "Epoch 30/100\n",
      "552/552 [==============================] - 108s 197ms/step - loss: 4.2399 - xy_loss: 4.2111 - floor_loss: 0.0288 - xy_xy_loss: 4.2111 - floor_accuracy: 0.9907 - val_loss: 6.4480 - val_xy_loss: 6.4426 - val_floor_loss: 0.0054 - val_xy_xy_loss: 6.4403 - val_floor_accuracy: 0.9985\n",
      "\n",
      "Epoch 00030: val_xy_loss did not improve from 6.43686\n",
      "Epoch 31/100\n",
      "552/552 [==============================] - 112s 203ms/step - loss: 4.2177 - xy_loss: 4.1889 - floor_loss: 0.0288 - xy_xy_loss: 4.1889 - floor_accuracy: 0.9908 - val_loss: 6.4164 - val_xy_loss: 6.4109 - val_floor_loss: 0.0055 - val_xy_xy_loss: 6.3998 - val_floor_accuracy: 0.9985\n",
      "\n",
      "Epoch 00031: val_xy_loss improved from 6.43686 to 6.41085, saving model to RNN_2021_0.hdf5\n",
      "Epoch 32/100\n",
      "552/552 [==============================] - 110s 199ms/step - loss: 4.1443 - xy_loss: 4.1165 - floor_loss: 0.0278 - xy_xy_loss: 4.1165 - floor_accuracy: 0.9912 - val_loss: 6.4041 - val_xy_loss: 6.3985 - val_floor_loss: 0.0056 - val_xy_xy_loss: 6.3811 - val_floor_accuracy: 0.9984\n",
      "\n",
      "Epoch 00032: val_xy_loss improved from 6.41085 to 6.39855, saving model to RNN_2021_0.hdf5\n",
      "Epoch 33/100\n",
      "552/552 [==============================] - 113s 205ms/step - loss: 4.1179 - xy_loss: 4.0914 - floor_loss: 0.0265 - xy_xy_loss: 4.0914 - floor_accuracy: 0.9917 - val_loss: 6.4302 - val_xy_loss: 6.4248 - val_floor_loss: 0.0054 - val_xy_xy_loss: 6.4194 - val_floor_accuracy: 0.9986\n",
      "\n",
      "Epoch 00033: val_xy_loss did not improve from 6.39855\n",
      "Epoch 34/100\n",
      "552/552 [==============================] - 113s 205ms/step - loss: 4.0744 - xy_loss: 4.0487 - floor_loss: 0.0257 - xy_xy_loss: 4.0487 - floor_accuracy: 0.9920 - val_loss: 6.4385 - val_xy_loss: 6.4330 - val_floor_loss: 0.0055 - val_xy_xy_loss: 6.4372 - val_floor_accuracy: 0.9985\n",
      "\n",
      "Epoch 00034: val_xy_loss did not improve from 6.39855\n",
      "Epoch 35/100\n",
      "552/552 [==============================] - 112s 203ms/step - loss: 4.0483 - xy_loss: 4.0217 - floor_loss: 0.0266 - xy_xy_loss: 4.0217 - floor_accuracy: 0.9917 - val_loss: 6.4026 - val_xy_loss: 6.3973 - val_floor_loss: 0.0053 - val_xy_xy_loss: 6.3891 - val_floor_accuracy: 0.9985\n",
      "\n",
      "Epoch 00035: val_xy_loss improved from 6.39855 to 6.39732, saving model to RNN_2021_0.hdf5\n",
      "Epoch 36/100\n",
      "552/552 [==============================] - 115s 208ms/step - loss: 4.0092 - xy_loss: 3.9822 - floor_loss: 0.0270 - xy_xy_loss: 3.9822 - floor_accuracy: 0.9920 - val_loss: 6.4269 - val_xy_loss: 6.4214 - val_floor_loss: 0.0055 - val_xy_xy_loss: 6.4121 - val_floor_accuracy: 0.9985\n",
      "\n",
      "Epoch 00036: val_xy_loss did not improve from 6.39732\n",
      "Epoch 37/100\n",
      "552/552 [==============================] - 111s 202ms/step - loss: 3.9806 - xy_loss: 3.9531 - floor_loss: 0.0275 - xy_xy_loss: 3.9531 - floor_accuracy: 0.9912 - val_loss: 6.4188 - val_xy_loss: 6.4134 - val_floor_loss: 0.0054 - val_xy_xy_loss: 6.3984 - val_floor_accuracy: 0.9987\n",
      "\n",
      "Epoch 00037: val_xy_loss did not improve from 6.39732\n",
      "Epoch 38/100\n",
      "552/552 [==============================] - 115s 209ms/step - loss: 3.9499 - xy_loss: 3.9240 - floor_loss: 0.0259 - xy_xy_loss: 3.9241 - floor_accuracy: 0.9919 - val_loss: 6.4122 - val_xy_loss: 6.4068 - val_floor_loss: 0.0054 - val_xy_xy_loss: 6.3972 - val_floor_accuracy: 0.9983\n",
      "\n",
      "Epoch 00038: ReduceLROnPlateau reducing learning rate to 2.0000000949949027e-05.\n",
      "\n",
      "Epoch 00038: val_xy_loss did not improve from 6.39732\n",
      "Epoch 39/100\n",
      "552/552 [==============================] - 112s 202ms/step - loss: 3.9165 - xy_loss: 3.8917 - floor_loss: 0.0248 - xy_xy_loss: 3.8917 - floor_accuracy: 0.9925 - val_loss: 6.3645 - val_xy_loss: 6.3590 - val_floor_loss: 0.0055 - val_xy_xy_loss: 6.3487 - val_floor_accuracy: 0.9985\n",
      "\n",
      "Epoch 00039: val_xy_loss improved from 6.39732 to 6.35900, saving model to RNN_2021_0.hdf5\n",
      "Epoch 40/100\n",
      "552/552 [==============================] - 117s 212ms/step - loss: 3.9118 - xy_loss: 3.8880 - floor_loss: 0.0238 - xy_xy_loss: 3.8880 - floor_accuracy: 0.9929 - val_loss: 6.3658 - val_xy_loss: 6.3604 - val_floor_loss: 0.0054 - val_xy_xy_loss: 6.3493 - val_floor_accuracy: 0.9985\n",
      "\n",
      "Epoch 00040: val_xy_loss did not improve from 6.35900\n",
      "Epoch 41/100\n",
      "552/552 [==============================] - 109s 197ms/step - loss: 3.8782 - xy_loss: 3.8544 - floor_loss: 0.0237 - xy_xy_loss: 3.8544 - floor_accuracy: 0.9925 - val_loss: 6.3570 - val_xy_loss: 6.3515 - val_floor_loss: 0.0055 - val_xy_xy_loss: 6.3398 - val_floor_accuracy: 0.9985\n",
      "\n",
      "Epoch 00041: val_xy_loss improved from 6.35900 to 6.35152, saving model to RNN_2021_0.hdf5\n",
      "Epoch 42/100\n",
      "552/552 [==============================] - 110s 199ms/step - loss: 3.8201 - xy_loss: 3.7958 - floor_loss: 0.0243 - xy_xy_loss: 3.7958 - floor_accuracy: 0.9924 - val_loss: 6.3516 - val_xy_loss: 6.3461 - val_floor_loss: 0.0055 - val_xy_xy_loss: 6.3357 - val_floor_accuracy: 0.9985\n",
      "\n",
      "Epoch 00042: val_xy_loss improved from 6.35152 to 6.34612, saving model to RNN_2021_0.hdf5\n",
      "Epoch 43/100\n",
      "552/552 [==============================] - 111s 201ms/step - loss: 3.8389 - xy_loss: 3.8129 - floor_loss: 0.0260 - xy_xy_loss: 3.8129 - floor_accuracy: 0.9921 - val_loss: 6.3469 - val_xy_loss: 6.3415 - val_floor_loss: 0.0054 - val_xy_xy_loss: 6.3290 - val_floor_accuracy: 0.9985\n",
      "\n",
      "Epoch 00043: val_xy_loss improved from 6.34612 to 6.34154, saving model to RNN_2021_0.hdf5\n",
      "Epoch 44/100\n",
      "552/552 [==============================] - 112s 202ms/step - loss: 3.8590 - xy_loss: 3.8350 - floor_loss: 0.0240 - xy_xy_loss: 3.8351 - floor_accuracy: 0.9924 - val_loss: 6.3564 - val_xy_loss: 6.3509 - val_floor_loss: 0.0055 - val_xy_xy_loss: 6.3398 - val_floor_accuracy: 0.9984\n",
      "\n",
      "Epoch 00044: val_xy_loss did not improve from 6.34154\n",
      "Epoch 45/100\n",
      "552/552 [==============================] - 112s 202ms/step - loss: 3.8523 - xy_loss: 3.8273 - floor_loss: 0.0250 - xy_xy_loss: 3.8273 - floor_accuracy: 0.9924 - val_loss: 6.3480 - val_xy_loss: 6.3426 - val_floor_loss: 0.0053 - val_xy_xy_loss: 6.3315 - val_floor_accuracy: 0.9985\n",
      "\n",
      "Epoch 00045: val_xy_loss did not improve from 6.34154\n",
      "Epoch 46/100\n",
      "552/552 [==============================] - 112s 203ms/step - loss: 3.8697 - xy_loss: 3.8468 - floor_loss: 0.0229 - xy_xy_loss: 3.8468 - floor_accuracy: 0.9929 - val_loss: 6.3496 - val_xy_loss: 6.3443 - val_floor_loss: 0.0053 - val_xy_xy_loss: 6.3342 - val_floor_accuracy: 0.9985\n",
      "\n",
      "Epoch 00046: ReduceLROnPlateau reducing learning rate to 2.0000001313746906e-06.\n",
      "\n",
      "Epoch 00046: val_xy_loss did not improve from 6.34154\n",
      "Epoch 47/100\n",
      "552/552 [==============================] - 106s 193ms/step - loss: 3.8313 - xy_loss: 3.8066 - floor_loss: 0.0247 - xy_xy_loss: 3.8066 - floor_accuracy: 0.9923 - val_loss: 6.3485 - val_xy_loss: 6.3432 - val_floor_loss: 0.0053 - val_xy_xy_loss: 6.3324 - val_floor_accuracy: 0.9985\n",
      "\n",
      "Epoch 00047: val_xy_loss did not improve from 6.34154\n",
      "Epoch 48/100\n",
      "552/552 [==============================] - 111s 202ms/step - loss: 3.8368 - xy_loss: 3.8128 - floor_loss: 0.0240 - xy_xy_loss: 3.8128 - floor_accuracy: 0.9924 - val_loss: 6.3481 - val_xy_loss: 6.3427 - val_floor_loss: 0.0053 - val_xy_xy_loss: 6.3317 - val_floor_accuracy: 0.9985\n",
      "\n",
      "Epoch 00048: val_xy_loss did not improve from 6.34154\n",
      "fold 0: overall metrics 6.368731616069985\n",
      "fold 0: root mean xy position error 6.341544442838893\n",
      "*+*+*+*+*+*+*+*+*+*+*+*+*+*+*+*+*+*+*+*+*+*+*+*+*+*+*+*+*+*+*+*+*+*+*+*+*+*+*+*+\n",
      "overall metrics 155.29482716152253\n",
      "root mean xy position error 133.50514434521025\n",
      "[6.341544442838893]\n",
      "*+*+*+*+*+*+*+*+*+*+*+*+*+*+*+*+*+*+*+*+*+*+*+*+*+*+*+*+*+*+*+*+*+*+*+*+*+*+*+*+\n"
     ]
    }
   ],
   "source": [
    "score_df = pd.DataFrame()\n",
    "predictions = list()\n",
    "\n",
    "oof_xy = list()\n",
    "oof_x, oof_y, oof_f = np.zeros(data.shape[0]), np.zeros(data.shape[0]), np.zeros(data.shape[0])\n",
    "preds_x, preds_y = 0, 0\n",
    "preds_f_arr = np.zeros((test_data.shape[0], N_SPLITS))\n",
    "\n",
    "for fold, (trn_idx, val_idx) in enumerate(StratifiedKFold(n_splits=N_SPLITS, shuffle=True, \n",
    "                                                          random_state=SEED).split(data.loc[:, 'path'], \n",
    "                                                                                   data.loc[:, 'path'])):\n",
    "        \n",
    "    X_train = pd.concat([data.loc[trn_idx, BSSID_FEATS + RSSI_FEATS + ['site_id'] ], \n",
    "                        train_only_data[BSSID_FEATS + RSSI_FEATS + ['site_id']]], axis=0).reset_index(drop=True) \n",
    "    y_trainx = pd.concat([data.loc[trn_idx, 'x'], train_only_data['x']], axis=0).reset_index(drop=True)\n",
    "    y_trainy = pd.concat([data.loc[trn_idx, 'y'], train_only_data['y']], axis=0).reset_index(drop=True)\n",
    "    y_trainf = pd.concat([data.loc[trn_idx][floor_columns], train_only_data[floor_columns]], axis=0).reset_index(drop=True)\n",
    "    \n",
    "    tmp = pd.concat([y_trainx, y_trainy], axis=1)\n",
    "    y_train = [tmp, y_trainf]\n",
    "\n",
    "    X_valid = data.loc[val_idx, BSSID_FEATS + RSSI_FEATS + ['site_id'] ] \n",
    "    y_validx = data.loc[val_idx, 'x']\n",
    "    y_validy = data.loc[val_idx, 'y']\n",
    "    y_validf = data.loc[val_idx][floor_columns]\n",
    "\n",
    "    tmp = pd.concat([y_validx, y_validy], axis=1)\n",
    "    y_valid = [tmp, y_validf]\n",
    "    \n",
    "    model = create_model([X_train.loc[:,BSSID_FEATS], X_train.loc[:,RSSI_FEATS], X_train.loc[:,'site_id']])\n",
    "    model.fit([X_train.loc[:,BSSID_FEATS], X_train.loc[:,RSSI_FEATS], X_train.loc[:,'site_id']], y_train,   \n",
    "                validation_data=([X_valid.loc[:,BSSID_FEATS], X_valid.loc[:,RSSI_FEATS], X_valid.loc[:,'site_id']], y_valid), \n",
    "                batch_size=batch_size, epochs=epochs,\n",
    "                callbacks=[\n",
    "                ReduceLROnPlateau(monitor='val_xy_loss', factor=0.1, patience=3, verbose=1, min_delta=1e-4, mode='min')\n",
    "                ,ModelCheckpoint(f'RNN_{SEED}_{fold}.hdf5', monitor='val_xy_loss', verbose=1, save_best_only=True, save_weights_only=True, mode='min')\n",
    "                ,EarlyStopping(monitor='val_xy_loss', min_delta=1e-4, patience=5, mode='min', baseline=None, restore_best_weights=True)\n",
    "            ])\n",
    "\n",
    "    model.load_weights(f'RNN_{SEED}_{fold}.hdf5')  \n",
    "    val_pred = model.predict([X_valid.loc[:,BSSID_FEATS], X_valid.loc[:,RSSI_FEATS], X_valid.loc[:,'site_id']]) \n",
    "\n",
    "    oof_x[val_idx] = val_pred[0][:,0]\n",
    "    oof_y[val_idx] = val_pred[0][:,1]\n",
    "    oof_f[val_idx] = np.argmax(val_pred[1], axis=1)-2\n",
    "                                                            \n",
    "    pred = model.predict([test_data.loc[:,BSSID_FEATS], test_data.loc[:,RSSI_FEATS], test_data.loc[:,'site_id']]) \n",
    "    preds_x += pred[0][:,0]\n",
    "    preds_y += pred[0][:,1]\n",
    "    preds_f_arr[:, fold] = np.argmax(pred[1], axis=1)-2\n",
    "\n",
    "    score = comp_metric(oof_x[val_idx], oof_y[val_idx], oof_f[val_idx],\n",
    "                        y_validx.to_numpy(), y_validy.to_numpy(), original_floor_values[val_idx])\n",
    "    print(f\"fold {fold}: overall metrics {score}\")\n",
    "    score2 = xy_comp_metric(oof_x[val_idx], oof_y[val_idx],\n",
    "                        y_validx.to_numpy(), y_validy.to_numpy())\n",
    "    print(f\"fold {fold}: root mean xy position error {score2}\")\n",
    "    oof_xy.append(score2)\n",
    "\n",
    "    K.clear_session()\n",
    "    \n",
    "    break\n",
    "\n",
    "preds_x /= (fold + 1)\n",
    "preds_y /= (fold + 1)\n",
    "    \n",
    "print(\"*+\"*40)\n",
    "score = comp_metric(oof_x, oof_y, oof_f, data[\"x\"].to_numpy(), data[\"y\"].to_numpy(), original_floor_values)\n",
    "print(f\"overall metrics {score}\")\n",
    "score2 = xy_comp_metric(oof_x, oof_y, data[\"x\"].to_numpy(), data[\"y\"].to_numpy())\n",
    "print(f\"root mean xy position error {score2}\")\n",
    "print(oof_xy)\n",
    "print(\"*+\"*40)\n",
    "\n",
    "preds_f_mode = stats.mode(preds_f_arr, axis=1)\n",
    "preds_f = preds_f_mode[0].astype(int).reshape(-1)\n",
    "test_preds = pd.DataFrame(np.stack((preds_f, preds_x, preds_y))).T\n",
    "test_preds.columns = subm.columns\n",
    "test_preds.index = test_data[\"site_path_timestamp\"]\n",
    "test_preds[\"floor\"] = test_preds[\"floor\"].astype(int)\n",
    "predictions.append(test_preds)"
   ]
  },
  {
   "cell_type": "code",
   "execution_count": 20,
   "id": "charitable-devices",
   "metadata": {
    "execution": {
     "iopub.execute_input": "2021-05-09T11:52:36.644812Z",
     "iopub.status.busy": "2021-05-09T11:52:36.643866Z",
     "iopub.status.idle": "2021-05-09T11:52:36.830027Z",
     "shell.execute_reply": "2021-05-09T11:52:36.829573Z"
    },
    "papermill": {
     "duration": 7.662083,
     "end_time": "2021-05-09T11:52:36.830194",
     "exception": false,
     "start_time": "2021-05-09T11:52:29.168111",
     "status": "completed"
    },
    "tags": []
   },
   "outputs": [],
   "source": [
    "all_preds = pd.concat(predictions)\n",
    "all_preds = all_preds.reindex(subm.index)\n",
    "all_preds.to_csv('submission_bef_pp.csv')"
   ]
  },
  {
   "cell_type": "code",
   "execution_count": null,
   "id": "productive-mattress",
   "metadata": {
    "papermill": {
     "duration": 7.396111,
     "end_time": "2021-05-09T11:52:52.059988",
     "exception": false,
     "start_time": "2021-05-09T11:52:44.663877",
     "status": "completed"
    },
    "tags": []
   },
   "outputs": [],
   "source": []
  }
 ],
 "metadata": {
  "kernelspec": {
   "display_name": "Python 3",
   "language": "python",
   "name": "python3"
  },
  "language_info": {
   "codemirror_mode": {
    "name": "ipython",
    "version": 3
   },
   "file_extension": ".py",
   "mimetype": "text/x-python",
   "name": "python",
   "nbconvert_exporter": "python",
   "pygments_lexer": "ipython3",
   "version": "3.7.9"
  },
  "papermill": {
   "default_parameters": {},
   "duration": 5389.221472,
   "end_time": "2021-05-09T11:53:03.197706",
   "environment_variables": {},
   "exception": null,
   "input_path": "__notebook__.ipynb",
   "output_path": "__notebook__.ipynb",
   "parameters": {},
   "start_time": "2021-05-09T10:23:13.976234",
   "version": "2.3.2"
  }
 },
 "nbformat": 4,
 "nbformat_minor": 5
}
