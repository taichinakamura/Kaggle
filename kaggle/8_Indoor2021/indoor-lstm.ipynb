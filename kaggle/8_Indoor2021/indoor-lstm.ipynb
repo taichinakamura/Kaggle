{
 "cells": [
  {
   "cell_type": "markdown",
   "id": "reflected-trouble",
   "metadata": {
    "papermill": {
     "duration": 0.013962,
     "end_time": "2021-05-09T02:25:59.883057",
     "exception": false,
     "start_time": "2021-05-09T02:25:59.869095",
     "status": "completed"
    },
    "tags": []
   },
   "source": [
    "- optimize model by xy *\n",
    "- introduce new dataset *\n",
    "- check score of fold1 only *\n",
    "- increase epoch to 100 *\n",
    "- increase num feats to 30 * \n",
    "- change cnn channels *"
   ]
  },
  {
   "cell_type": "code",
   "execution_count": 1,
   "id": "regional-amino",
   "metadata": {
    "execution": {
     "iopub.execute_input": "2021-05-09T02:25:59.914652Z",
     "iopub.status.busy": "2021-05-09T02:25:59.914121Z",
     "iopub.status.idle": "2021-05-09T02:26:10.058886Z",
     "shell.execute_reply": "2021-05-09T02:26:10.057907Z"
    },
    "papermill": {
     "duration": 10.16282,
     "end_time": "2021-05-09T02:26:10.059046",
     "exception": false,
     "start_time": "2021-05-09T02:25:59.896226",
     "status": "completed"
    },
    "tags": []
   },
   "outputs": [
    {
     "name": "stdout",
     "output_type": "stream",
     "text": [
      "Collecting tensorflow-determinism\r\n",
      "  Downloading tensorflow-determinism-0.3.0.tar.gz (12 kB)\r\n",
      "\u001b[33mWARNING: Discarding https://files.pythonhosted.org/packages/76/56/79d74f25b326d8719753172496abc524980fa67d1d98bb247021376e370a/tensorflow-determinism-0.3.0.tar.gz#sha256=563316b785614df300bbdec9b3c45a94d212761aec796cf1aafcbb2f69fdeb01 (from https://pypi.org/simple/tensorflow-determinism/). Requested tensorflow-determinism from https://files.pythonhosted.org/packages/76/56/79d74f25b326d8719753172496abc524980fa67d1d98bb247021376e370a/tensorflow-determinism-0.3.0.tar.gz#sha256=563316b785614df300bbdec9b3c45a94d212761aec796cf1aafcbb2f69fdeb01 has inconsistent version: filename has '0.3.0', but metadata has '0.4.1'\u001b[0m\r\n",
      "  Downloading tensorflow-determinism-0.2.0.tar.gz (10 kB)\r\n",
      "\u001b[33mWARNING: Discarding https://files.pythonhosted.org/packages/9b/28/4aa0d8f183d13d3477626e931a3363651bb8e291165d58962a39c57ae7fb/tensorflow-determinism-0.2.0.tar.gz#sha256=1e364b142acd96ec8a8fca6dee32ef04e1c5f5ca20bd83fc9ec37f7dbf2fb5b5 (from https://pypi.org/simple/tensorflow-determinism/). Requested tensorflow-determinism from https://files.pythonhosted.org/packages/9b/28/4aa0d8f183d13d3477626e931a3363651bb8e291165d58962a39c57ae7fb/tensorflow-determinism-0.2.0.tar.gz#sha256=1e364b142acd96ec8a8fca6dee32ef04e1c5f5ca20bd83fc9ec37f7dbf2fb5b5 has inconsistent version: filename has '0.2.0', but metadata has '0.4.1'\u001b[0m\r\n",
      "  Downloading tensorflow-determinism-0.1.0.tar.gz (7.2 kB)\r\n",
      "Building wheels for collected packages: tensorflow-determinism\r\n",
      "  Building wheel for tensorflow-determinism (setup.py) ... \u001b[?25l-\b \b\\\b \bdone\r\n",
      "\u001b[?25h  Created wheel for tensorflow-determinism: filename=tensorflow_determinism-0.1.0-py3-none-any.whl size=5255 sha256=1dfeb461a8ec205aee6381477397eaf9ec692efc040942b49c97fdb55e76dfaf\r\n",
      "  Stored in directory: /root/.cache/pip/wheels/ce/06/d4/df757adc4c81f705a74a0317c27cf19919ccd25ae2a6ecd2c5\r\n",
      "Successfully built tensorflow-determinism\r\n",
      "Installing collected packages: tensorflow-determinism\r\n",
      "Successfully installed tensorflow-determinism-0.1.0\r\n"
     ]
    }
   ],
   "source": [
    "# credit: https://www.kaggle.com/kokitanisaka/lstm-by-keras-with-unified-wi-fi-feats\n",
    "!pip install tensorflow-determinism"
   ]
  },
  {
   "cell_type": "code",
   "execution_count": 2,
   "id": "bridal-scoop",
   "metadata": {
    "execution": {
     "iopub.execute_input": "2021-05-09T02:26:10.102755Z",
     "iopub.status.busy": "2021-05-09T02:26:10.101999Z",
     "iopub.status.idle": "2021-05-09T02:26:15.837527Z",
     "shell.execute_reply": "2021-05-09T02:26:15.838494Z"
    },
    "papermill": {
     "duration": 5.762991,
     "end_time": "2021-05-09T02:26:15.838689",
     "exception": false,
     "start_time": "2021-05-09T02:26:10.075698",
     "status": "completed"
    },
    "tags": []
   },
   "outputs": [],
   "source": [
    "import numpy as np\n",
    "import pandas as pd\n",
    "import scipy.stats as stats\n",
    "from pathlib import Path\n",
    "import glob\n",
    "import pickle\n",
    "\n",
    "import random\n",
    "import os\n",
    "\n",
    "from tqdm.notebook import tqdm\n",
    "\n",
    "from sklearn.model_selection import StratifiedKFold\n",
    "from sklearn.preprocessing import StandardScaler, LabelEncoder, MinMaxScaler, QuantileTransformer\n",
    "\n",
    "import tensorflow as tf\n",
    "import tensorflow.keras.layers as L\n",
    "import tensorflow.keras.models as M\n",
    "import tensorflow.keras.backend as K\n",
    "import tensorflow_addons as tfa\n",
    "from tensorflow_addons.layers import WeightNormalization\n",
    "from tensorflow.keras.callbacks import ReduceLROnPlateau, ModelCheckpoint, EarlyStopping\n",
    "\n",
    "from tensorflow.keras.layers import *\n",
    "from tensorflow.keras.models import *\n",
    "from tensorflow.keras.layers import *\n",
    "from tensorflow.keras.optimizers import *\n",
    "from tensorflow.keras.metrics import *\n",
    "from tensorflow.keras.utils import *\n",
    "from tensorflow.keras.callbacks import *\n",
    "\n",
    "import multiprocessing\n",
    "import scipy.interpolate\n",
    "import scipy.sparse\n",
    "from tqdm import tqdm\n",
    "from tensorflow_addons.layers import WeightNormalization\n",
    "\n",
    "from sklearn.decomposition import PCA\n",
    "\n",
    "from scipy.spatial.distance import cdist\n",
    "\n",
    "import warnings\n",
    "warnings.filterwarnings(\"ignore\")"
   ]
  },
  {
   "cell_type": "code",
   "execution_count": 3,
   "id": "annual-printer",
   "metadata": {
    "execution": {
     "iopub.execute_input": "2021-05-09T02:26:15.970987Z",
     "iopub.status.busy": "2021-05-09T02:26:15.970160Z",
     "iopub.status.idle": "2021-05-09T02:26:15.972742Z",
     "shell.execute_reply": "2021-05-09T02:26:15.972323Z"
    },
    "papermill": {
     "duration": 0.028483,
     "end_time": "2021-05-09T02:26:15.972867",
     "exception": false,
     "start_time": "2021-05-09T02:26:15.944384",
     "status": "completed"
    },
    "tags": []
   },
   "outputs": [],
   "source": [
    "# options\n",
    "N_SPLITS = 5\n",
    "SEED = 2021\n",
    "NUM_FEATS = 30 \n",
    "base_path = '/kaggle'"
   ]
  },
  {
   "cell_type": "code",
   "execution_count": 4,
   "id": "decimal-daisy",
   "metadata": {
    "execution": {
     "iopub.execute_input": "2021-05-09T02:26:16.015725Z",
     "iopub.status.busy": "2021-05-09T02:26:16.015044Z",
     "iopub.status.idle": "2021-05-09T02:26:16.019772Z",
     "shell.execute_reply": "2021-05-09T02:26:16.020662Z"
    },
    "papermill": {
     "duration": 0.031975,
     "end_time": "2021-05-09T02:26:16.020872",
     "exception": false,
     "start_time": "2021-05-09T02:26:15.988897",
     "status": "completed"
    },
    "tags": []
   },
   "outputs": [],
   "source": [
    "def set_seed(seed=42):\n",
    "    random.seed(seed)\n",
    "    os.environ['PYTHONHASHSEED'] = str(seed)\n",
    "    os.environ['TF_DETERMINISTIC_OPS'] = '1'\n",
    "    np.random.seed(seed)\n",
    "    tf.random.set_seed(seed)\n",
    "    session_conf = tf.compat.v1.ConfigProto(\n",
    "        intra_op_parallelism_threads=1,\n",
    "        inter_op_parallelism_threads=1\n",
    "    )\n",
    "    sess = tf.compat.v1.Session(graph=tf.compat.v1.get_default_graph(), config=session_conf)\n",
    "    tf.compat.v1.keras.backend.set_session(sess)\n",
    "    \n",
    "def comp_metric(xhat, yhat, fhat, x, y, f):\n",
    "    intermediate = np.sqrt(np.power(xhat-x, 2) + np.power(yhat-y, 2)) + 15 * np.abs(fhat-f)\n",
    "    return intermediate.sum()/xhat.shape[0]\n",
    "\n",
    "def xy_comp_metric(xhat, yhat, x, y):\n",
    "    intermediate = np.sqrt(np.power(xhat-x, 2) + np.power(yhat-y, 2))\n",
    "    return intermediate.sum()/xhat.shape[0]\n",
    "\n",
    "def xy_loss(true, pred):\n",
    "    return K.mean(K.sqrt(K.square(pred[:,0] - true[:,0]) + K.square(pred[:,1] - true[:,1]))) "
   ]
  },
  {
   "cell_type": "code",
   "execution_count": 5,
   "id": "copyrighted-factory",
   "metadata": {
    "execution": {
     "iopub.execute_input": "2021-05-09T02:26:16.073784Z",
     "iopub.status.busy": "2021-05-09T02:26:16.072927Z",
     "iopub.status.idle": "2021-05-09T02:26:16.204113Z",
     "shell.execute_reply": "2021-05-09T02:26:16.205063Z"
    },
    "papermill": {
     "duration": 0.161835,
     "end_time": "2021-05-09T02:26:16.205236",
     "exception": false,
     "start_time": "2021-05-09T02:26:16.043401",
     "status": "completed"
    },
    "tags": []
   },
   "outputs": [],
   "source": [
    "# indooruniteddataset: my original wifi data with additional 24 sited\n",
    "# indoor-mod-united-dataset: my another wifi data with all sites\n",
    "# indoorunitedwifids: kouki's wifi data\n",
    "# indoor-mod-interpolated-united-data: my 3rd wifi data with 20 additional sites with interpolation\n",
    "# indoor-wifi-from-waypoint-time-dataset: my 4th wifi data from waypoint time with all sites\n",
    "\n",
    "feature_dir = f\"{base_path}/input/indoor-wifi-from-waypoint-time-dataset\"   \n",
    "train_files = sorted(glob.glob(os.path.join(feature_dir, '*_train.csv')))\n",
    "test_files = sorted(glob.glob(os.path.join(feature_dir, '*_test.csv')))\n",
    "subm = pd.read_csv(f'{base_path}/input/indoor-location-navigation/sample_submission.csv', index_col=0)\n",
    "\n",
    "all_sites = sorted(set(pd.DataFrame(subm.index)[\"site_path_timestamp\"].apply(lambda x: x.split(\"_\")[0])))"
   ]
  },
  {
   "cell_type": "code",
   "execution_count": 6,
   "id": "labeled-diving",
   "metadata": {
    "execution": {
     "iopub.execute_input": "2021-05-09T02:26:16.262033Z",
     "iopub.status.busy": "2021-05-09T02:26:16.261248Z",
     "iopub.status.idle": "2021-05-09T02:26:16.263250Z",
     "shell.execute_reply": "2021-05-09T02:26:16.262682Z"
    },
    "papermill": {
     "duration": 0.032625,
     "end_time": "2021-05-09T02:26:16.263402",
     "exception": false,
     "start_time": "2021-05-09T02:26:16.230777",
     "status": "completed"
    },
    "tags": []
   },
   "outputs": [],
   "source": [
    "# training target features\n",
    "BSSID_FEATS = [f'bssid_{i}' for i in range(NUM_FEATS)]\n",
    "RSSI_FEATS  = [f'rssi_{i}' for i in range(NUM_FEATS)]"
   ]
  },
  {
   "cell_type": "code",
   "execution_count": 7,
   "id": "induced-barrier",
   "metadata": {
    "execution": {
     "iopub.execute_input": "2021-05-09T02:26:16.328823Z",
     "iopub.status.busy": "2021-05-09T02:26:16.328279Z",
     "iopub.status.idle": "2021-05-09T02:26:27.946129Z",
     "shell.execute_reply": "2021-05-09T02:26:27.946559Z"
    },
    "papermill": {
     "duration": 11.652998,
     "end_time": "2021-05-09T02:26:27.946709",
     "exception": false,
     "start_time": "2021-05-09T02:26:16.293711",
     "status": "completed"
    },
    "tags": []
   },
   "outputs": [
    {
     "name": "stderr",
     "output_type": "stream",
     "text": [
      "100%|██████████| 177/177 [00:09<00:00, 18.61it/s]\n",
      "100%|██████████| 24/24 [00:00<00:00, 24.50it/s]\n"
     ]
    }
   ],
   "source": [
    "data = []\n",
    "for i in tqdm(train_files):\n",
    "    tmp = pd.read_csv(i)\n",
    "    tmp[\"site_id\"] = i.split(\"/\")[4].split(\"_\")[0]\n",
    "    data.append(tmp)\n",
    "data = pd.concat(data).reset_index(drop=True)\n",
    "\n",
    "test_data = []\n",
    "for i in tqdm(test_files):\n",
    "    tmp = pd.read_csv(i)\n",
    "    tmp[\"site_id\"] = i.split(\"/\")[4].split(\"_\")[0]\n",
    "    test_data.append(tmp)\n",
    "test_data = pd.concat(test_data).reset_index(drop=True)"
   ]
  },
  {
   "cell_type": "code",
   "execution_count": 8,
   "id": "conditional-import",
   "metadata": {
    "execution": {
     "iopub.execute_input": "2021-05-09T02:26:28.035667Z",
     "iopub.status.busy": "2021-05-09T02:26:28.034523Z",
     "iopub.status.idle": "2021-05-09T02:26:28.519377Z",
     "shell.execute_reply": "2021-05-09T02:26:28.518887Z"
    },
    "papermill": {
     "duration": 0.538689,
     "end_time": "2021-05-09T02:26:28.519518",
     "exception": false,
     "start_time": "2021-05-09T02:26:27.980829",
     "status": "completed"
    },
    "tags": []
   },
   "outputs": [],
   "source": [
    "train_only_index = data[~data.site_id.isin(all_sites)].index\n",
    "normal_index = data[data.site_id.isin(all_sites)].index\n",
    "assert len(set(train_only_index) & set(normal_index)) == 0"
   ]
  },
  {
   "cell_type": "code",
   "execution_count": 9,
   "id": "referenced-compression",
   "metadata": {
    "execution": {
     "iopub.execute_input": "2021-05-09T02:26:28.653744Z",
     "iopub.status.busy": "2021-05-09T02:26:28.613048Z",
     "iopub.status.idle": "2021-05-09T02:26:29.516164Z",
     "shell.execute_reply": "2021-05-09T02:26:29.515688Z"
    },
    "papermill": {
     "duration": 0.962656,
     "end_time": "2021-05-09T02:26:29.516305",
     "exception": false,
     "start_time": "2021-05-09T02:26:28.553649",
     "status": "completed"
    },
    "tags": []
   },
   "outputs": [
    {
     "name": "stdout",
     "output_type": "stream",
     "text": [
      "BSSID TYPES: 137655\n",
      "BSSID TYPES: 23845\n"
     ]
    }
   ],
   "source": [
    "wifi_feat_nums = 60\n",
    "wifi_bssids = []\n",
    "for i in range(wifi_feat_nums):\n",
    "    wifi_bssids.extend(data.iloc[:,i].values.tolist())\n",
    "wifi_bssids = list(set(wifi_bssids))\n",
    "\n",
    "wifi_bssids_size = len(wifi_bssids)\n",
    "print(f'BSSID TYPES: {wifi_bssids_size}')\n",
    "\n",
    "wifi_bssids_test = []\n",
    "for i in range(wifi_feat_nums):\n",
    "    wifi_bssids_test.extend(test_data.iloc[:,i].values.tolist())\n",
    "wifi_bssids_test = list(set(wifi_bssids_test))\n",
    "\n",
    "wifi_bssids_size = len(wifi_bssids_test)\n",
    "print(f'BSSID TYPES: {wifi_bssids_size}')\n",
    "\n",
    "wifi_bssids.extend(wifi_bssids_test)\n",
    "wifi_bssids_size = len(wifi_bssids)"
   ]
  },
  {
   "cell_type": "code",
   "execution_count": 10,
   "id": "distant-support",
   "metadata": {
    "execution": {
     "iopub.execute_input": "2021-05-09T02:26:29.588926Z",
     "iopub.status.busy": "2021-05-09T02:26:29.588095Z",
     "iopub.status.idle": "2021-05-09T02:26:29.943429Z",
     "shell.execute_reply": "2021-05-09T02:26:29.942950Z"
    },
    "papermill": {
     "duration": 0.393437,
     "end_time": "2021-05-09T02:26:29.943561",
     "exception": false,
     "start_time": "2021-05-09T02:26:29.550124",
     "status": "completed"
    },
    "tags": []
   },
   "outputs": [],
   "source": [
    "#floor_pred = pd.read_csv('../input/lstm-prediction-dataset/submission.csv') \n",
    "#test_data['floor'] = floor_pred['floor'].values\n",
    "\n",
    "original_floor_values = data.loc[normal_index][\"floor\"].values\n",
    "\n",
    "data = pd.get_dummies(data, columns=['floor'])\n",
    "#test_data = pd.get_dummies(test_data, columns=['floor'])\n",
    "\n",
    "floor_columns = [i for i in data.columns if \"floor\" in i]"
   ]
  },
  {
   "cell_type": "code",
   "execution_count": 11,
   "id": "mediterranean-berry",
   "metadata": {
    "execution": {
     "iopub.execute_input": "2021-05-09T02:26:30.211331Z",
     "iopub.status.busy": "2021-05-09T02:26:30.114337Z",
     "iopub.status.idle": "2021-05-09T02:26:30.516972Z",
     "shell.execute_reply": "2021-05-09T02:26:30.517394Z"
    },
    "papermill": {
     "duration": 0.539106,
     "end_time": "2021-05-09T02:26:30.517539",
     "exception": false,
     "start_time": "2021-05-09T02:26:29.978433",
     "status": "completed"
    },
    "tags": []
   },
   "outputs": [
    {
     "data": {
      "text/plain": [
       "LabelEncoder()"
      ]
     },
     "execution_count": 11,
     "metadata": {},
     "output_type": "execute_result"
    }
   ],
   "source": [
    "# preprocess\n",
    "ss = StandardScaler()\n",
    "ss.fit(data.loc[:,RSSI_FEATS])\n",
    "\n",
    "le = LabelEncoder()\n",
    "le.fit(wifi_bssids)\n",
    "\n",
    "le_site = LabelEncoder()\n",
    "le_site.fit(data['site_id'])"
   ]
  },
  {
   "cell_type": "code",
   "execution_count": 12,
   "id": "regular-buying",
   "metadata": {
    "execution": {
     "iopub.execute_input": "2021-05-09T02:26:30.602441Z",
     "iopub.status.busy": "2021-05-09T02:26:30.601424Z",
     "iopub.status.idle": "2021-05-09T02:26:50.369312Z",
     "shell.execute_reply": "2021-05-09T02:26:50.368213Z"
    },
    "papermill": {
     "duration": 19.817549,
     "end_time": "2021-05-09T02:26:50.369453",
     "exception": false,
     "start_time": "2021-05-09T02:26:30.551904",
     "status": "completed"
    },
    "tags": []
   },
   "outputs": [],
   "source": [
    "data.loc[:,RSSI_FEATS] = ss.transform(data.loc[:,RSSI_FEATS])\n",
    "test_data.loc[:,RSSI_FEATS] = ss.transform(test_data.loc[:,RSSI_FEATS])\n",
    "\n",
    "for i in BSSID_FEATS:\n",
    "    data.loc[:,i] = le.transform(data.loc[:,i])\n",
    "    \n",
    "for i in BSSID_FEATS:\n",
    "    test_data.loc[:,i] = le.transform(test_data.loc[:,i])\n",
    "    \n",
    "data.loc[:, 'site_id'] = le_site.transform(data.loc[:, 'site_id'])\n",
    "test_data.loc[:, 'site_id'] = le_site.transform(test_data.loc[:, 'site_id'])"
   ]
  },
  {
   "cell_type": "code",
   "execution_count": 13,
   "id": "fresh-wilson",
   "metadata": {
    "execution": {
     "iopub.execute_input": "2021-05-09T02:26:50.442797Z",
     "iopub.status.busy": "2021-05-09T02:26:50.441541Z",
     "iopub.status.idle": "2021-05-09T02:26:50.445748Z",
     "shell.execute_reply": "2021-05-09T02:26:50.445313Z"
    },
    "papermill": {
     "duration": 0.04198,
     "end_time": "2021-05-09T02:26:50.445850",
     "exception": false,
     "start_time": "2021-05-09T02:26:50.403870",
     "status": "completed"
    },
    "tags": []
   },
   "outputs": [],
   "source": [
    "site_count = len(data['site_id'].unique())\n",
    "data.reset_index(drop=True, inplace=True)"
   ]
  },
  {
   "cell_type": "code",
   "execution_count": 14,
   "id": "medical-marketing",
   "metadata": {
    "execution": {
     "iopub.execute_input": "2021-05-09T02:26:50.517174Z",
     "iopub.status.busy": "2021-05-09T02:26:50.516690Z",
     "iopub.status.idle": "2021-05-09T02:26:53.135057Z",
     "shell.execute_reply": "2021-05-09T02:26:53.134359Z"
    },
    "papermill": {
     "duration": 2.655536,
     "end_time": "2021-05-09T02:26:53.135249",
     "exception": false,
     "start_time": "2021-05-09T02:26:50.479713",
     "status": "completed"
    },
    "tags": []
   },
   "outputs": [],
   "source": [
    "set_seed(SEED)"
   ]
  },
  {
   "cell_type": "code",
   "execution_count": 15,
   "id": "acting-health",
   "metadata": {
    "execution": {
     "iopub.execute_input": "2021-05-09T02:26:53.280088Z",
     "iopub.status.busy": "2021-05-09T02:26:53.279410Z",
     "iopub.status.idle": "2021-05-09T02:26:53.637906Z",
     "shell.execute_reply": "2021-05-09T02:26:53.638500Z"
    },
    "papermill": {
     "duration": 0.437361,
     "end_time": "2021-05-09T02:26:53.638705",
     "exception": false,
     "start_time": "2021-05-09T02:26:53.201344",
     "status": "completed"
    },
    "tags": []
   },
   "outputs": [
    {
     "data": {
      "text/plain": [
       "((71725, 109), (83705, 109))"
      ]
     },
     "execution_count": 15,
     "metadata": {},
     "output_type": "execute_result"
    }
   ],
   "source": [
    "train_only_data = data[data.index.isin(train_only_index)].copy().reset_index(drop=True)\n",
    "data = data[data.index.isin(normal_index)].copy().reset_index(drop=True)\n",
    "data.shape, train_only_data.shape"
   ]
  },
  {
   "cell_type": "markdown",
   "id": "rapid-wichita",
   "metadata": {
    "papermill": {
     "duration": 0.043355,
     "end_time": "2021-05-09T02:26:53.739323",
     "exception": false,
     "start_time": "2021-05-09T02:26:53.695968",
     "status": "completed"
    },
    "tags": []
   },
   "source": [
    "# model"
   ]
  },
  {
   "cell_type": "code",
   "execution_count": 16,
   "id": "regulated-serum",
   "metadata": {
    "execution": {
     "iopub.execute_input": "2021-05-09T02:26:53.819764Z",
     "iopub.status.busy": "2021-05-09T02:26:53.819091Z",
     "iopub.status.idle": "2021-05-09T02:26:53.823058Z",
     "shell.execute_reply": "2021-05-09T02:26:53.822649Z"
    },
    "papermill": {
     "duration": 0.049166,
     "end_time": "2021-05-09T02:26:53.823157",
     "exception": false,
     "start_time": "2021-05-09T02:26:53.773991",
     "status": "completed"
    },
    "tags": []
   },
   "outputs": [
    {
     "name": "stdout",
     "output_type": "stream",
     "text": [
      "/device:GPU:0\n"
     ]
    }
   ],
   "source": [
    "print(tf.test.gpu_device_name())"
   ]
  },
  {
   "cell_type": "code",
   "execution_count": 17,
   "id": "ready-touch",
   "metadata": {
    "execution": {
     "iopub.execute_input": "2021-05-09T02:26:53.898878Z",
     "iopub.status.busy": "2021-05-09T02:26:53.898369Z",
     "iopub.status.idle": "2021-05-09T02:26:53.902132Z",
     "shell.execute_reply": "2021-05-09T02:26:53.901708Z"
    },
    "papermill": {
     "duration": 0.043176,
     "end_time": "2021-05-09T02:26:53.902233",
     "exception": false,
     "start_time": "2021-05-09T02:26:53.859057",
     "status": "completed"
    },
    "tags": []
   },
   "outputs": [],
   "source": [
    "bssid_embed_dim = 64\n",
    "site_embed_dim = 2\n",
    "batch_size=256\n",
    "epochs=100"
   ]
  },
  {
   "cell_type": "code",
   "execution_count": 18,
   "id": "solved-radius",
   "metadata": {
    "execution": {
     "iopub.execute_input": "2021-05-09T02:26:53.994647Z",
     "iopub.status.busy": "2021-05-09T02:26:53.992800Z",
     "iopub.status.idle": "2021-05-09T02:26:53.995570Z",
     "shell.execute_reply": "2021-05-09T02:26:53.996130Z"
    },
    "papermill": {
     "duration": 0.058728,
     "end_time": "2021-05-09T02:26:53.996253",
     "exception": false,
     "start_time": "2021-05-09T02:26:53.937525",
     "status": "completed"
    },
    "tags": []
   },
   "outputs": [],
   "source": [
    "def conv_layer(x, n_channels=32, kernel_size=3, pool_size=2, padding='same'):\n",
    "    x = Conv1D(filters=n_channels, kernel_size=kernel_size, padding=padding)(x)\n",
    "    x = BatchNormalization()(x)\n",
    "    x = ReLU()(x)\n",
    "    x = MaxPool1D(pool_size=pool_size, padding='same')(x)\n",
    "    return x\n",
    "\n",
    "def create_model(input_data):\n",
    "\n",
    "    # bssid feats ------\n",
    "    input_dim = input_data[0].shape[1]\n",
    "\n",
    "    input_embd_layer = L.Input(shape=(input_dim,))\n",
    "    x1 = L.Embedding(wifi_bssids_size, bssid_embed_dim)(input_embd_layer)\n",
    "    x1 = L.Flatten()(x1)\n",
    "\n",
    "    # rssi feats -------\n",
    "    input_dim = input_data[1].shape[1]\n",
    "    \n",
    "    ## cnn\n",
    "    input_layer = Input(shape=(input_dim, 1, 1))\n",
    "    x2 = Reshape((input_dim, 1))(input_layer)\n",
    "    x2 = conv_layer(x2, 4, 7, 3)  \n",
    "    x2 = conv_layer(x2, 4, 7, 3) \n",
    "    x2 = Reshape((-1,))(x2) #x2 = GlobalMaxPool1D()(x2)\n",
    "    \n",
    "    # site -------------\n",
    "    input_site_layer = L.Input(shape=(1,))\n",
    "    x3 = L.Embedding(site_count, site_embed_dim)(input_site_layer)\n",
    "    x3 = L.Flatten()(x3)\n",
    "\n",
    "    # main stream ------\n",
    "    x = L.Concatenate(axis=1)([x1, x3, x2])\n",
    "    \n",
    "    x = L.BatchNormalization()(x)\n",
    "    x = L.Dropout(0.3)(x)\n",
    "    x = L.Dense(256, activation='relu')(x)\n",
    "    \n",
    "    x = L.Reshape((1, -1))(x)\n",
    "    x = L.BatchNormalization()(x)\n",
    "    x = L.Bidirectional(L.LSTM(128, dropout=0.3, recurrent_dropout=0.3, return_sequences=True, activation='elu'))(x)\n",
    "    x = L.Bidirectional(L.LSTM(16, return_sequences=False, activation='elu'))(x)\n",
    "        \n",
    "    output_layer_1 = L.Dense(2, name='xy')(x)\n",
    "    output_layer_2 = L.Dense(len(floor_columns), activation='softmax', name='floor')(x)\n",
    "\n",
    "    model = M.Model([input_embd_layer, input_layer, input_site_layer], \n",
    "                    [output_layer_1, output_layer_2])\n",
    "    \n",
    "    model.compile(optimizer=tf.optimizers.Adam(lr=0.002),\n",
    "                  loss={'xy': xy_loss, 'floor': tf.keras.losses.CategoricalCrossentropy()}, \n",
    "                  #loss_weights={'xy': 1, 'floor': 15},\n",
    "                  metrics={'xy': xy_loss, 'floor': 'accuracy'})\n",
    "\n",
    "    return model"
   ]
  },
  {
   "cell_type": "code",
   "execution_count": 19,
   "id": "trying-decade",
   "metadata": {
    "execution": {
     "iopub.execute_input": "2021-05-09T02:26:54.090411Z",
     "iopub.status.busy": "2021-05-09T02:26:54.089614Z",
     "iopub.status.idle": "2021-05-09T04:06:06.138676Z",
     "shell.execute_reply": "2021-05-09T04:06:06.137880Z"
    },
    "papermill": {
     "duration": 5952.107215,
     "end_time": "2021-05-09T04:06:06.138896",
     "exception": false,
     "start_time": "2021-05-09T02:26:54.031681",
     "status": "completed"
    },
    "tags": []
   },
   "outputs": [
    {
     "name": "stdout",
     "output_type": "stream",
     "text": [
      "Epoch 1/100\n",
      "552/552 [==============================] - 112s 185ms/step - loss: 67.7397 - xy_loss: 65.2495 - floor_loss: 2.4903 - xy_xy_loss: 65.2494 - floor_accuracy: 0.1929 - val_loss: 23.2913 - val_xy_loss: 21.3372 - val_floor_loss: 1.9541 - val_xy_xy_loss: 21.5516 - val_floor_accuracy: 0.2296\n",
      "\n",
      "Epoch 00001: val_xy_loss improved from inf to 21.33719, saving model to RNN_2021_0.hdf5\n",
      "Epoch 2/100\n",
      "552/552 [==============================] - 102s 185ms/step - loss: 17.2956 - xy_loss: 15.3414 - floor_loss: 1.9543 - xy_xy_loss: 15.3414 - floor_accuracy: 0.2582 - val_loss: 14.6441 - val_xy_loss: 12.9647 - val_floor_loss: 1.6794 - val_xy_xy_loss: 13.0877 - val_floor_accuracy: 0.3479\n",
      "\n",
      "Epoch 00002: val_xy_loss improved from 21.33719 to 12.96471, saving model to RNN_2021_0.hdf5\n",
      "Epoch 3/100\n",
      "552/552 [==============================] - 102s 185ms/step - loss: 14.7591 - xy_loss: 13.1761 - floor_loss: 1.5830 - xy_xy_loss: 13.1761 - floor_accuracy: 0.4113 - val_loss: 15.4766 - val_xy_loss: 14.7112 - val_floor_loss: 0.7655 - val_xy_xy_loss: 14.8866 - val_floor_accuracy: 0.6953\n",
      "\n",
      "Epoch 00003: val_xy_loss did not improve from 12.96471\n",
      "Epoch 4/100\n",
      "552/552 [==============================] - 103s 186ms/step - loss: 12.6503 - xy_loss: 11.8512 - floor_loss: 0.7991 - xy_xy_loss: 11.8513 - floor_accuracy: 0.6949 - val_loss: 12.9308 - val_xy_loss: 12.6960 - val_floor_loss: 0.2348 - val_xy_xy_loss: 12.8301 - val_floor_accuracy: 0.9343\n",
      "\n",
      "Epoch 00004: val_xy_loss improved from 12.96471 to 12.69602, saving model to RNN_2021_0.hdf5\n",
      "Epoch 5/100\n",
      "552/552 [==============================] - 103s 187ms/step - loss: 11.3106 - xy_loss: 10.9254 - floor_loss: 0.3852 - xy_xy_loss: 10.9254 - floor_accuracy: 0.8642 - val_loss: 9.3535 - val_xy_loss: 9.2634 - val_floor_loss: 0.0901 - val_xy_xy_loss: 9.2116 - val_floor_accuracy: 0.9787\n",
      "\n",
      "Epoch 00005: val_xy_loss improved from 12.69602 to 9.26336, saving model to RNN_2021_0.hdf5\n",
      "Epoch 6/100\n",
      "552/552 [==============================] - 104s 189ms/step - loss: 10.2830 - xy_loss: 10.0519 - floor_loss: 0.2312 - xy_xy_loss: 10.0519 - floor_accuracy: 0.9217 - val_loss: 10.8007 - val_xy_loss: 10.7488 - val_floor_loss: 0.0518 - val_xy_xy_loss: 10.9193 - val_floor_accuracy: 0.9867\n",
      "\n",
      "Epoch 00006: val_xy_loss did not improve from 9.26336\n",
      "Epoch 7/100\n",
      "552/552 [==============================] - 104s 188ms/step - loss: 9.6823 - xy_loss: 9.5191 - floor_loss: 0.1632 - xy_xy_loss: 9.5191 - floor_accuracy: 0.9461 - val_loss: 8.9299 - val_xy_loss: 8.8924 - val_floor_loss: 0.0376 - val_xy_xy_loss: 8.8254 - val_floor_accuracy: 0.9911\n",
      "\n",
      "Epoch 00007: val_xy_loss improved from 9.26336 to 8.89237, saving model to RNN_2021_0.hdf5\n",
      "Epoch 8/100\n",
      "552/552 [==============================] - 104s 189ms/step - loss: 9.1569 - xy_loss: 9.0233 - floor_loss: 0.1336 - xy_xy_loss: 9.0234 - floor_accuracy: 0.9561 - val_loss: 9.0382 - val_xy_loss: 9.0072 - val_floor_loss: 0.0310 - val_xy_xy_loss: 9.1396 - val_floor_accuracy: 0.9918\n",
      "\n",
      "Epoch 00008: val_xy_loss did not improve from 8.89237\n",
      "Epoch 9/100\n",
      "552/552 [==============================] - 104s 189ms/step - loss: 8.6385 - xy_loss: 8.5261 - floor_loss: 0.1124 - xy_xy_loss: 8.5261 - floor_accuracy: 0.9633 - val_loss: 8.4315 - val_xy_loss: 8.4077 - val_floor_loss: 0.0238 - val_xy_xy_loss: 8.3975 - val_floor_accuracy: 0.9936\n",
      "\n",
      "Epoch 00009: val_xy_loss improved from 8.89237 to 8.40770, saving model to RNN_2021_0.hdf5\n",
      "Epoch 10/100\n",
      "552/552 [==============================] - 104s 188ms/step - loss: 8.3190 - xy_loss: 8.2188 - floor_loss: 0.1002 - xy_xy_loss: 8.2188 - floor_accuracy: 0.9668 - val_loss: 8.3657 - val_xy_loss: 8.3464 - val_floor_loss: 0.0193 - val_xy_xy_loss: 8.3388 - val_floor_accuracy: 0.9955\n",
      "\n",
      "Epoch 00010: val_xy_loss improved from 8.40770 to 8.34636, saving model to RNN_2021_0.hdf5\n",
      "Epoch 11/100\n",
      "552/552 [==============================] - 104s 189ms/step - loss: 7.9752 - xy_loss: 7.8842 - floor_loss: 0.0910 - xy_xy_loss: 7.8842 - floor_accuracy: 0.9698 - val_loss: 8.5721 - val_xy_loss: 8.5512 - val_floor_loss: 0.0209 - val_xy_xy_loss: 8.4947 - val_floor_accuracy: 0.9942\n",
      "\n",
      "Epoch 00011: val_xy_loss did not improve from 8.34636\n",
      "Epoch 12/100\n",
      "552/552 [==============================] - 104s 189ms/step - loss: 7.7403 - xy_loss: 7.6525 - floor_loss: 0.0878 - xy_xy_loss: 7.6526 - floor_accuracy: 0.9717 - val_loss: 7.8932 - val_xy_loss: 7.8738 - val_floor_loss: 0.0195 - val_xy_xy_loss: 7.8771 - val_floor_accuracy: 0.9944\n",
      "\n",
      "Epoch 00012: val_xy_loss improved from 8.34636 to 7.87376, saving model to RNN_2021_0.hdf5\n",
      "Epoch 13/100\n",
      "552/552 [==============================] - 106s 192ms/step - loss: 7.3700 - xy_loss: 7.2922 - floor_loss: 0.0778 - xy_xy_loss: 7.2922 - floor_accuracy: 0.9750 - val_loss: 7.9795 - val_xy_loss: 7.9604 - val_floor_loss: 0.0191 - val_xy_xy_loss: 7.9618 - val_floor_accuracy: 0.9944\n",
      "\n",
      "Epoch 00013: val_xy_loss did not improve from 7.87376\n",
      "Epoch 14/100\n",
      "552/552 [==============================] - 106s 192ms/step - loss: 7.1394 - xy_loss: 7.0624 - floor_loss: 0.0771 - xy_xy_loss: 7.0624 - floor_accuracy: 0.9748 - val_loss: 7.6321 - val_xy_loss: 7.6169 - val_floor_loss: 0.0153 - val_xy_xy_loss: 7.6215 - val_floor_accuracy: 0.9957\n",
      "\n",
      "Epoch 00014: val_xy_loss improved from 7.87376 to 7.61685, saving model to RNN_2021_0.hdf5\n",
      "Epoch 15/100\n",
      "552/552 [==============================] - 106s 192ms/step - loss: 6.8473 - xy_loss: 6.7735 - floor_loss: 0.0738 - xy_xy_loss: 6.7735 - floor_accuracy: 0.9759 - val_loss: 7.5479 - val_xy_loss: 7.5331 - val_floor_loss: 0.0149 - val_xy_xy_loss: 7.4945 - val_floor_accuracy: 0.9960\n",
      "\n",
      "Epoch 00015: val_xy_loss improved from 7.61685 to 7.53307, saving model to RNN_2021_0.hdf5\n",
      "Epoch 16/100\n",
      "552/552 [==============================] - 106s 192ms/step - loss: 6.6874 - xy_loss: 6.6224 - floor_loss: 0.0651 - xy_xy_loss: 6.6224 - floor_accuracy: 0.9789 - val_loss: 7.6830 - val_xy_loss: 7.6682 - val_floor_loss: 0.0148 - val_xy_xy_loss: 7.6381 - val_floor_accuracy: 0.9962\n",
      "\n",
      "Epoch 00016: val_xy_loss did not improve from 7.53307\n",
      "Epoch 17/100\n",
      "552/552 [==============================] - 105s 190ms/step - loss: 6.5366 - xy_loss: 6.4715 - floor_loss: 0.0651 - xy_xy_loss: 6.4715 - floor_accuracy: 0.9782 - val_loss: 7.5415 - val_xy_loss: 7.5263 - val_floor_loss: 0.0152 - val_xy_xy_loss: 7.5751 - val_floor_accuracy: 0.9956\n",
      "\n",
      "Epoch 00017: val_xy_loss improved from 7.53307 to 7.52635, saving model to RNN_2021_0.hdf5\n",
      "Epoch 18/100\n",
      "552/552 [==============================] - 106s 193ms/step - loss: 6.3120 - xy_loss: 6.2484 - floor_loss: 0.0636 - xy_xy_loss: 6.2484 - floor_accuracy: 0.9791 - val_loss: 7.4318 - val_xy_loss: 7.4208 - val_floor_loss: 0.0109 - val_xy_xy_loss: 7.4143 - val_floor_accuracy: 0.9970\n",
      "\n",
      "Epoch 00018: val_xy_loss improved from 7.52635 to 7.42083, saving model to RNN_2021_0.hdf5\n",
      "Epoch 19/100\n",
      "552/552 [==============================] - 107s 194ms/step - loss: 6.0935 - xy_loss: 6.0353 - floor_loss: 0.0582 - xy_xy_loss: 6.0353 - floor_accuracy: 0.9805 - val_loss: 7.6460 - val_xy_loss: 7.6332 - val_floor_loss: 0.0127 - val_xy_xy_loss: 7.6366 - val_floor_accuracy: 0.9971\n",
      "\n",
      "Epoch 00019: val_xy_loss did not improve from 7.42083\n",
      "Epoch 20/100\n",
      "552/552 [==============================] - 107s 194ms/step - loss: 5.9244 - xy_loss: 5.8705 - floor_loss: 0.0539 - xy_xy_loss: 5.8705 - floor_accuracy: 0.9827 - val_loss: 7.6141 - val_xy_loss: 7.6011 - val_floor_loss: 0.0130 - val_xy_xy_loss: 7.5948 - val_floor_accuracy: 0.9971\n",
      "\n",
      "Epoch 00020: val_xy_loss did not improve from 7.42083\n",
      "Epoch 21/100\n",
      "552/552 [==============================] - 103s 187ms/step - loss: 5.7734 - xy_loss: 5.7206 - floor_loss: 0.0528 - xy_xy_loss: 5.7206 - floor_accuracy: 0.9831 - val_loss: 7.3874 - val_xy_loss: 7.3767 - val_floor_loss: 0.0107 - val_xy_xy_loss: 7.3395 - val_floor_accuracy: 0.9973\n",
      "\n",
      "Epoch 00021: val_xy_loss improved from 7.42083 to 7.37666, saving model to RNN_2021_0.hdf5\n",
      "Epoch 22/100\n",
      "552/552 [==============================] - 106s 192ms/step - loss: 5.6528 - xy_loss: 5.6007 - floor_loss: 0.0521 - xy_xy_loss: 5.6007 - floor_accuracy: 0.9832 - val_loss: 7.0987 - val_xy_loss: 7.0869 - val_floor_loss: 0.0118 - val_xy_xy_loss: 7.0577 - val_floor_accuracy: 0.9974\n",
      "\n",
      "Epoch 00022: val_xy_loss improved from 7.37666 to 7.08687, saving model to RNN_2021_0.hdf5\n",
      "Epoch 23/100\n",
      "552/552 [==============================] - 105s 190ms/step - loss: 5.4402 - xy_loss: 5.3928 - floor_loss: 0.0474 - xy_xy_loss: 5.3929 - floor_accuracy: 0.9849 - val_loss: 7.0814 - val_xy_loss: 7.0685 - val_floor_loss: 0.0130 - val_xy_xy_loss: 7.0455 - val_floor_accuracy: 0.9965\n",
      "\n",
      "Epoch 00023: val_xy_loss improved from 7.08687 to 7.06848, saving model to RNN_2021_0.hdf5\n",
      "Epoch 24/100\n",
      "552/552 [==============================] - 105s 191ms/step - loss: 5.2656 - xy_loss: 5.2186 - floor_loss: 0.0470 - xy_xy_loss: 5.2186 - floor_accuracy: 0.9846 - val_loss: 7.0159 - val_xy_loss: 7.0027 - val_floor_loss: 0.0131 - val_xy_xy_loss: 7.0099 - val_floor_accuracy: 0.9963\n",
      "\n",
      "Epoch 00024: val_xy_loss improved from 7.06848 to 7.00272, saving model to RNN_2021_0.hdf5\n",
      "Epoch 25/100\n",
      "552/552 [==============================] - 106s 192ms/step - loss: 5.1681 - xy_loss: 5.1245 - floor_loss: 0.0436 - xy_xy_loss: 5.1245 - floor_accuracy: 0.9863 - val_loss: 7.1279 - val_xy_loss: 7.1158 - val_floor_loss: 0.0121 - val_xy_xy_loss: 7.1226 - val_floor_accuracy: 0.9962\n",
      "\n",
      "Epoch 00025: val_xy_loss did not improve from 7.00272\n",
      "Epoch 26/100\n",
      "552/552 [==============================] - 104s 189ms/step - loss: 5.0137 - xy_loss: 4.9697 - floor_loss: 0.0440 - xy_xy_loss: 4.9697 - floor_accuracy: 0.9858 - val_loss: 7.0036 - val_xy_loss: 6.9925 - val_floor_loss: 0.0111 - val_xy_xy_loss: 6.9606 - val_floor_accuracy: 0.9964\n",
      "\n",
      "Epoch 00026: val_xy_loss improved from 7.00272 to 6.99247, saving model to RNN_2021_0.hdf5\n",
      "Epoch 27/100\n",
      "552/552 [==============================] - 108s 195ms/step - loss: 4.8493 - xy_loss: 4.8084 - floor_loss: 0.0409 - xy_xy_loss: 4.8084 - floor_accuracy: 0.9866 - val_loss: 6.8780 - val_xy_loss: 6.8669 - val_floor_loss: 0.0111 - val_xy_xy_loss: 6.8501 - val_floor_accuracy: 0.9974\n",
      "\n",
      "Epoch 00027: val_xy_loss improved from 6.99247 to 6.86694, saving model to RNN_2021_0.hdf5\n",
      "Epoch 28/100\n",
      "552/552 [==============================] - 105s 189ms/step - loss: 4.7715 - xy_loss: 4.7285 - floor_loss: 0.0430 - xy_xy_loss: 4.7285 - floor_accuracy: 0.9859 - val_loss: 6.9399 - val_xy_loss: 6.9297 - val_floor_loss: 0.0102 - val_xy_xy_loss: 6.9104 - val_floor_accuracy: 0.9975\n",
      "\n",
      "Epoch 00028: val_xy_loss did not improve from 6.86694\n",
      "Epoch 29/100\n",
      "552/552 [==============================] - 108s 196ms/step - loss: 4.6617 - xy_loss: 4.6221 - floor_loss: 0.0396 - xy_xy_loss: 4.6221 - floor_accuracy: 0.9872 - val_loss: 6.8563 - val_xy_loss: 6.8461 - val_floor_loss: 0.0102 - val_xy_xy_loss: 6.8230 - val_floor_accuracy: 0.9972\n",
      "\n",
      "Epoch 00029: val_xy_loss improved from 6.86694 to 6.84609, saving model to RNN_2021_0.hdf5\n",
      "Epoch 30/100\n",
      "552/552 [==============================] - 105s 190ms/step - loss: 4.6146 - xy_loss: 4.5770 - floor_loss: 0.0376 - xy_xy_loss: 4.5770 - floor_accuracy: 0.9876 - val_loss: 6.8818 - val_xy_loss: 6.8723 - val_floor_loss: 0.0095 - val_xy_xy_loss: 6.8716 - val_floor_accuracy: 0.9976\n",
      "\n",
      "Epoch 00030: val_xy_loss did not improve from 6.84609\n",
      "Epoch 31/100\n",
      "552/552 [==============================] - 109s 197ms/step - loss: 4.4732 - xy_loss: 4.4346 - floor_loss: 0.0386 - xy_xy_loss: 4.4346 - floor_accuracy: 0.9876 - val_loss: 6.7633 - val_xy_loss: 6.7533 - val_floor_loss: 0.0100 - val_xy_xy_loss: 6.7322 - val_floor_accuracy: 0.9974\n",
      "\n",
      "Epoch 00031: val_xy_loss improved from 6.84609 to 6.75334, saving model to RNN_2021_0.hdf5\n",
      "Epoch 32/100\n",
      "552/552 [==============================] - 105s 191ms/step - loss: 4.3857 - xy_loss: 4.3476 - floor_loss: 0.0381 - xy_xy_loss: 4.3477 - floor_accuracy: 0.9874 - val_loss: 6.8173 - val_xy_loss: 6.8084 - val_floor_loss: 0.0090 - val_xy_xy_loss: 6.8004 - val_floor_accuracy: 0.9975\n",
      "\n",
      "Epoch 00032: val_xy_loss did not improve from 6.75334\n",
      "Epoch 33/100\n",
      "552/552 [==============================] - 109s 197ms/step - loss: 4.2878 - xy_loss: 4.2533 - floor_loss: 0.0346 - xy_xy_loss: 4.2533 - floor_accuracy: 0.9890 - val_loss: 6.7201 - val_xy_loss: 6.7115 - val_floor_loss: 0.0086 - val_xy_xy_loss: 6.7080 - val_floor_accuracy: 0.9977\n",
      "\n",
      "Epoch 00033: val_xy_loss improved from 6.75334 to 6.71148, saving model to RNN_2021_0.hdf5\n",
      "Epoch 34/100\n",
      "552/552 [==============================] - 106s 191ms/step - loss: 4.1990 - xy_loss: 4.1631 - floor_loss: 0.0358 - xy_xy_loss: 4.1632 - floor_accuracy: 0.9887 - val_loss: 6.7478 - val_xy_loss: 6.7366 - val_floor_loss: 0.0112 - val_xy_xy_loss: 6.7354 - val_floor_accuracy: 0.9968\n",
      "\n",
      "Epoch 00034: val_xy_loss did not improve from 6.71148\n",
      "Epoch 35/100\n",
      "552/552 [==============================] - 109s 198ms/step - loss: 4.1907 - xy_loss: 4.1552 - floor_loss: 0.0355 - xy_xy_loss: 4.1552 - floor_accuracy: 0.9883 - val_loss: 6.8230 - val_xy_loss: 6.8142 - val_floor_loss: 0.0088 - val_xy_xy_loss: 6.7907 - val_floor_accuracy: 0.9978\n",
      "\n",
      "Epoch 00035: val_xy_loss did not improve from 6.71148\n",
      "Epoch 36/100\n",
      "552/552 [==============================] - 106s 192ms/step - loss: 4.1257 - xy_loss: 4.0902 - floor_loss: 0.0354 - xy_xy_loss: 4.0902 - floor_accuracy: 0.9885 - val_loss: 6.8452 - val_xy_loss: 6.8355 - val_floor_loss: 0.0097 - val_xy_xy_loss: 6.8040 - val_floor_accuracy: 0.9976\n",
      "\n",
      "Epoch 00036: ReduceLROnPlateau reducing learning rate to 0.00020000000949949026.\n",
      "\n",
      "Epoch 00036: val_xy_loss did not improve from 6.71148\n",
      "Epoch 37/100\n",
      "552/552 [==============================] - 109s 198ms/step - loss: 3.8302 - xy_loss: 3.8041 - floor_loss: 0.0261 - xy_xy_loss: 3.8041 - floor_accuracy: 0.9916 - val_loss: 6.4785 - val_xy_loss: 6.4700 - val_floor_loss: 0.0086 - val_xy_xy_loss: 6.4516 - val_floor_accuracy: 0.9978\n",
      "\n",
      "Epoch 00037: val_xy_loss improved from 6.71148 to 6.46996, saving model to RNN_2021_0.hdf5\n",
      "Epoch 38/100\n",
      "552/552 [==============================] - 107s 194ms/step - loss: 3.5929 - xy_loss: 3.5680 - floor_loss: 0.0250 - xy_xy_loss: 3.5680 - floor_accuracy: 0.9920 - val_loss: 6.3853 - val_xy_loss: 6.3770 - val_floor_loss: 0.0083 - val_xy_xy_loss: 6.3488 - val_floor_accuracy: 0.9978\n",
      "\n",
      "Epoch 00038: val_xy_loss improved from 6.46996 to 6.37700, saving model to RNN_2021_0.hdf5\n",
      "Epoch 39/100\n",
      "552/552 [==============================] - 108s 195ms/step - loss: 3.5253 - xy_loss: 3.5018 - floor_loss: 0.0235 - xy_xy_loss: 3.5018 - floor_accuracy: 0.9927 - val_loss: 6.3826 - val_xy_loss: 6.3744 - val_floor_loss: 0.0082 - val_xy_xy_loss: 6.3532 - val_floor_accuracy: 0.9978\n",
      "\n",
      "Epoch 00039: val_xy_loss improved from 6.37700 to 6.37441, saving model to RNN_2021_0.hdf5\n",
      "Epoch 40/100\n",
      "552/552 [==============================] - 109s 197ms/step - loss: 3.4559 - xy_loss: 3.4337 - floor_loss: 0.0223 - xy_xy_loss: 3.4337 - floor_accuracy: 0.9927 - val_loss: 6.3462 - val_xy_loss: 6.3383 - val_floor_loss: 0.0079 - val_xy_xy_loss: 6.3075 - val_floor_accuracy: 0.9980\n",
      "\n",
      "Epoch 00040: val_xy_loss improved from 6.37441 to 6.33826, saving model to RNN_2021_0.hdf5\n",
      "Epoch 41/100\n",
      "552/552 [==============================] - 106s 193ms/step - loss: 3.3935 - xy_loss: 3.3718 - floor_loss: 0.0217 - xy_xy_loss: 3.3718 - floor_accuracy: 0.9931 - val_loss: 6.3716 - val_xy_loss: 6.3637 - val_floor_loss: 0.0079 - val_xy_xy_loss: 6.3407 - val_floor_accuracy: 0.9978\n",
      "\n",
      "Epoch 00041: val_xy_loss did not improve from 6.33826\n",
      "Epoch 42/100\n",
      "552/552 [==============================] - 108s 195ms/step - loss: 3.3117 - xy_loss: 3.2896 - floor_loss: 0.0221 - xy_xy_loss: 3.2896 - floor_accuracy: 0.9929 - val_loss: 6.3565 - val_xy_loss: 6.3484 - val_floor_loss: 0.0081 - val_xy_xy_loss: 6.3286 - val_floor_accuracy: 0.9980\n",
      "\n",
      "Epoch 00042: val_xy_loss did not improve from 6.33826\n",
      "Epoch 43/100\n",
      "552/552 [==============================] - 107s 193ms/step - loss: 3.3129 - xy_loss: 3.2910 - floor_loss: 0.0219 - xy_xy_loss: 3.2910 - floor_accuracy: 0.9930 - val_loss: 6.3375 - val_xy_loss: 6.3294 - val_floor_loss: 0.0081 - val_xy_xy_loss: 6.2988 - val_floor_accuracy: 0.9980\n",
      "\n",
      "Epoch 00043: val_xy_loss improved from 6.33826 to 6.32941, saving model to RNN_2021_0.hdf5\n",
      "Epoch 44/100\n",
      "552/552 [==============================] - 107s 193ms/step - loss: 3.2840 - xy_loss: 3.2618 - floor_loss: 0.0221 - xy_xy_loss: 3.2618 - floor_accuracy: 0.9927 - val_loss: 6.3163 - val_xy_loss: 6.3086 - val_floor_loss: 0.0077 - val_xy_xy_loss: 6.2826 - val_floor_accuracy: 0.9981\n",
      "\n",
      "Epoch 00044: val_xy_loss improved from 6.32941 to 6.30860, saving model to RNN_2021_0.hdf5\n",
      "Epoch 45/100\n",
      "552/552 [==============================] - 107s 194ms/step - loss: 3.2665 - xy_loss: 3.2468 - floor_loss: 0.0197 - xy_xy_loss: 3.2469 - floor_accuracy: 0.9940 - val_loss: 6.3086 - val_xy_loss: 6.3011 - val_floor_loss: 0.0075 - val_xy_xy_loss: 6.2709 - val_floor_accuracy: 0.9983\n",
      "\n",
      "Epoch 00045: val_xy_loss improved from 6.30860 to 6.30111, saving model to RNN_2021_0.hdf5\n",
      "Epoch 46/100\n",
      "552/552 [==============================] - 102s 186ms/step - loss: 3.2348 - xy_loss: 3.2138 - floor_loss: 0.0211 - xy_xy_loss: 3.2138 - floor_accuracy: 0.9933 - val_loss: 6.3141 - val_xy_loss: 6.3066 - val_floor_loss: 0.0075 - val_xy_xy_loss: 6.2811 - val_floor_accuracy: 0.9983\n",
      "\n",
      "Epoch 00046: val_xy_loss did not improve from 6.30111\n",
      "Epoch 47/100\n",
      "552/552 [==============================] - 107s 194ms/step - loss: 3.1955 - xy_loss: 3.1750 - floor_loss: 0.0205 - xy_xy_loss: 3.1751 - floor_accuracy: 0.9935 - val_loss: 6.3036 - val_xy_loss: 6.2961 - val_floor_loss: 0.0075 - val_xy_xy_loss: 6.2680 - val_floor_accuracy: 0.9983\n",
      "\n",
      "Epoch 00047: val_xy_loss improved from 6.30111 to 6.29608, saving model to RNN_2021_0.hdf5\n",
      "Epoch 48/100\n",
      "552/552 [==============================] - 108s 195ms/step - loss: 3.1688 - xy_loss: 3.1479 - floor_loss: 0.0209 - xy_xy_loss: 3.1479 - floor_accuracy: 0.9934 - val_loss: 6.3156 - val_xy_loss: 6.3080 - val_floor_loss: 0.0076 - val_xy_xy_loss: 6.2796 - val_floor_accuracy: 0.9980\n",
      "\n",
      "Epoch 00048: val_xy_loss did not improve from 6.29608\n",
      "Epoch 49/100\n",
      "552/552 [==============================] - 107s 194ms/step - loss: 3.1367 - xy_loss: 3.1165 - floor_loss: 0.0201 - xy_xy_loss: 3.1165 - floor_accuracy: 0.9935 - val_loss: 6.3204 - val_xy_loss: 6.3128 - val_floor_loss: 0.0076 - val_xy_xy_loss: 6.2770 - val_floor_accuracy: 0.9982\n",
      "\n",
      "Epoch 00049: val_xy_loss did not improve from 6.29608\n",
      "Epoch 50/100\n",
      "552/552 [==============================] - 102s 185ms/step - loss: 3.1341 - xy_loss: 3.1134 - floor_loss: 0.0207 - xy_xy_loss: 3.1134 - floor_accuracy: 0.9935 - val_loss: 6.3066 - val_xy_loss: 6.2991 - val_floor_loss: 0.0076 - val_xy_xy_loss: 6.2619 - val_floor_accuracy: 0.9979\n",
      "\n",
      "Epoch 00050: ReduceLROnPlateau reducing learning rate to 2.0000000949949027e-05.\n",
      "\n",
      "Epoch 00050: val_xy_loss did not improve from 6.29608\n",
      "Epoch 51/100\n",
      "552/552 [==============================] - 107s 194ms/step - loss: 3.1011 - xy_loss: 3.0817 - floor_loss: 0.0194 - xy_xy_loss: 3.0817 - floor_accuracy: 0.9939 - val_loss: 6.2887 - val_xy_loss: 6.2813 - val_floor_loss: 0.0075 - val_xy_xy_loss: 6.2530 - val_floor_accuracy: 0.9980\n",
      "\n",
      "Epoch 00051: val_xy_loss improved from 6.29608 to 6.28128, saving model to RNN_2021_0.hdf5\n",
      "Epoch 52/100\n",
      "552/552 [==============================] - 108s 195ms/step - loss: 3.0770 - xy_loss: 3.0575 - floor_loss: 0.0196 - xy_xy_loss: 3.0575 - floor_accuracy: 0.9939 - val_loss: 6.2919 - val_xy_loss: 6.2845 - val_floor_loss: 0.0074 - val_xy_xy_loss: 6.2574 - val_floor_accuracy: 0.9980\n",
      "\n",
      "Epoch 00052: val_xy_loss did not improve from 6.28128\n",
      "Epoch 53/100\n",
      "552/552 [==============================] - 108s 196ms/step - loss: 3.0837 - xy_loss: 3.0649 - floor_loss: 0.0188 - xy_xy_loss: 3.0649 - floor_accuracy: 0.9941 - val_loss: 6.2906 - val_xy_loss: 6.2831 - val_floor_loss: 0.0074 - val_xy_xy_loss: 6.2558 - val_floor_accuracy: 0.9980\n",
      "\n",
      "Epoch 00053: val_xy_loss did not improve from 6.28128\n",
      "Epoch 54/100\n",
      "552/552 [==============================] - 106s 193ms/step - loss: 3.0755 - xy_loss: 3.0568 - floor_loss: 0.0187 - xy_xy_loss: 3.0568 - floor_accuracy: 0.9940 - val_loss: 6.2928 - val_xy_loss: 6.2853 - val_floor_loss: 0.0075 - val_xy_xy_loss: 6.2603 - val_floor_accuracy: 0.9980\n",
      "\n",
      "Epoch 00054: ReduceLROnPlateau reducing learning rate to 2.0000001313746906e-06.\n",
      "\n",
      "Epoch 00054: val_xy_loss did not improve from 6.28128\n",
      "Epoch 55/100\n",
      "552/552 [==============================] - 106s 192ms/step - loss: 3.0591 - xy_loss: 3.0402 - floor_loss: 0.0189 - xy_xy_loss: 3.0403 - floor_accuracy: 0.9942 - val_loss: 6.2913 - val_xy_loss: 6.2839 - val_floor_loss: 0.0074 - val_xy_xy_loss: 6.2586 - val_floor_accuracy: 0.9980\n",
      "\n",
      "Epoch 00055: val_xy_loss did not improve from 6.28128\n",
      "Epoch 56/100\n",
      "552/552 [==============================] - 109s 197ms/step - loss: 3.0893 - xy_loss: 3.0698 - floor_loss: 0.0195 - xy_xy_loss: 3.0698 - floor_accuracy: 0.9937 - val_loss: 6.2920 - val_xy_loss: 6.2845 - val_floor_loss: 0.0075 - val_xy_xy_loss: 6.2591 - val_floor_accuracy: 0.9980\n",
      "\n",
      "Epoch 00056: val_xy_loss did not improve from 6.28128\n",
      "fold 0: overall metrics 6.310553681574449\n",
      "fold 0: root mean xy position error 6.281275187325582\n",
      "*+*+*+*+*+*+*+*+*+*+*+*+*+*+*+*+*+*+*+*+*+*+*+*+*+*+*+*+*+*+*+*+*+*+*+*+*+*+*+*+\n",
      "overall metrics 155.28319157462346\n",
      "root mean xy position error 133.4930904941076\n",
      "[6.281275187325582]\n",
      "*+*+*+*+*+*+*+*+*+*+*+*+*+*+*+*+*+*+*+*+*+*+*+*+*+*+*+*+*+*+*+*+*+*+*+*+*+*+*+*+\n"
     ]
    }
   ],
   "source": [
    "score_df = pd.DataFrame()\n",
    "predictions = list()\n",
    "\n",
    "oof_xy = list()\n",
    "oof_x, oof_y, oof_f = np.zeros(data.shape[0]), np.zeros(data.shape[0]), np.zeros(data.shape[0])\n",
    "preds_x, preds_y = 0, 0\n",
    "preds_f_arr = np.zeros((test_data.shape[0], N_SPLITS))\n",
    "\n",
    "for fold, (trn_idx, val_idx) in enumerate(StratifiedKFold(n_splits=N_SPLITS, shuffle=True, \n",
    "                                                          random_state=SEED).split(data.loc[:, 'path'], \n",
    "                                                                                   data.loc[:, 'path'])):\n",
    "        \n",
    "    X_train = pd.concat([data.loc[trn_idx, BSSID_FEATS + RSSI_FEATS + ['site_id'] ], \n",
    "                        train_only_data[BSSID_FEATS + RSSI_FEATS + ['site_id']]], axis=0).reset_index(drop=True) \n",
    "    y_trainx = pd.concat([data.loc[trn_idx, 'x'], train_only_data['x']], axis=0).reset_index(drop=True)\n",
    "    y_trainy = pd.concat([data.loc[trn_idx, 'y'], train_only_data['y']], axis=0).reset_index(drop=True)\n",
    "    y_trainf = pd.concat([data.loc[trn_idx][floor_columns], train_only_data[floor_columns]], axis=0).reset_index(drop=True)\n",
    "    \n",
    "    tmp = pd.concat([y_trainx, y_trainy], axis=1)\n",
    "    y_train = [tmp, y_trainf]\n",
    "\n",
    "    X_valid = data.loc[val_idx, BSSID_FEATS + RSSI_FEATS + ['site_id'] ] \n",
    "    y_validx = data.loc[val_idx, 'x']\n",
    "    y_validy = data.loc[val_idx, 'y']\n",
    "    y_validf = data.loc[val_idx][floor_columns]\n",
    "\n",
    "    tmp = pd.concat([y_validx, y_validy], axis=1)\n",
    "    y_valid = [tmp, y_validf]\n",
    "    \n",
    "    model = create_model([X_train.loc[:,BSSID_FEATS], X_train.loc[:,RSSI_FEATS], X_train.loc[:,'site_id']])\n",
    "    model.fit([X_train.loc[:,BSSID_FEATS], X_train.loc[:,RSSI_FEATS], X_train.loc[:,'site_id']], y_train,   \n",
    "                validation_data=([X_valid.loc[:,BSSID_FEATS], X_valid.loc[:,RSSI_FEATS], X_valid.loc[:,'site_id']], y_valid), \n",
    "                batch_size=batch_size, epochs=epochs,\n",
    "                callbacks=[\n",
    "                ReduceLROnPlateau(monitor='val_xy_loss', factor=0.1, patience=3, verbose=1, min_delta=1e-4, mode='min')\n",
    "                ,ModelCheckpoint(f'RNN_{SEED}_{fold}.hdf5', monitor='val_xy_loss', verbose=1, save_best_only=True, save_weights_only=True, mode='min')\n",
    "                ,EarlyStopping(monitor='val_xy_loss', min_delta=1e-4, patience=5, mode='min', baseline=None, restore_best_weights=True)\n",
    "            ])\n",
    "\n",
    "    model.load_weights(f'RNN_{SEED}_{fold}.hdf5')  \n",
    "    val_pred = model.predict([X_valid.loc[:,BSSID_FEATS], X_valid.loc[:,RSSI_FEATS], X_valid.loc[:,'site_id']]) \n",
    "\n",
    "    oof_x[val_idx] = val_pred[0][:,0]\n",
    "    oof_y[val_idx] = val_pred[0][:,1]\n",
    "    oof_f[val_idx] = np.argmax(val_pred[1], axis=1)-2\n",
    "                                                            \n",
    "    pred = model.predict([test_data.loc[:,BSSID_FEATS], test_data.loc[:,RSSI_FEATS], test_data.loc[:,'site_id']]) \n",
    "    preds_x += pred[0][:,0]\n",
    "    preds_y += pred[0][:,1]\n",
    "    preds_f_arr[:, fold] = np.argmax(pred[1], axis=1)-2\n",
    "\n",
    "    score = comp_metric(oof_x[val_idx], oof_y[val_idx], oof_f[val_idx],\n",
    "                        y_validx.to_numpy(), y_validy.to_numpy(), original_floor_values[val_idx])\n",
    "    print(f\"fold {fold}: overall metrics {score}\")\n",
    "    score2 = xy_comp_metric(oof_x[val_idx], oof_y[val_idx],\n",
    "                        y_validx.to_numpy(), y_validy.to_numpy())\n",
    "    print(f\"fold {fold}: root mean xy position error {score2}\")\n",
    "    oof_xy.append(score2)\n",
    "\n",
    "    K.clear_session()\n",
    "    \n",
    "    break\n",
    "\n",
    "preds_x /= (fold + 1)\n",
    "preds_y /= (fold + 1)\n",
    "    \n",
    "print(\"*+\"*40)\n",
    "score = comp_metric(oof_x, oof_y, oof_f, data[\"x\"].to_numpy(), data[\"y\"].to_numpy(), original_floor_values)\n",
    "print(f\"overall metrics {score}\")\n",
    "score2 = xy_comp_metric(oof_x, oof_y, data[\"x\"].to_numpy(), data[\"y\"].to_numpy())\n",
    "print(f\"root mean xy position error {score2}\")\n",
    "print(oof_xy)\n",
    "print(\"*+\"*40)\n",
    "\n",
    "preds_f_mode = stats.mode(preds_f_arr, axis=1)\n",
    "preds_f = preds_f_mode[0].astype(int).reshape(-1)\n",
    "test_preds = pd.DataFrame(np.stack((preds_f, preds_x, preds_y))).T\n",
    "test_preds.columns = subm.columns\n",
    "test_preds.index = test_data[\"site_path_timestamp\"]\n",
    "test_preds[\"floor\"] = test_preds[\"floor\"].astype(int)\n",
    "predictions.append(test_preds)"
   ]
  },
  {
   "cell_type": "code",
   "execution_count": 20,
   "id": "charitable-vegetable",
   "metadata": {
    "execution": {
     "iopub.execute_input": "2021-05-09T04:06:23.364941Z",
     "iopub.status.busy": "2021-05-09T04:06:23.364288Z",
     "iopub.status.idle": "2021-05-09T04:06:23.541460Z",
     "shell.execute_reply": "2021-05-09T04:06:23.540979Z"
    },
    "papermill": {
     "duration": 8.605791,
     "end_time": "2021-05-09T04:06:23.541597",
     "exception": false,
     "start_time": "2021-05-09T04:06:14.935806",
     "status": "completed"
    },
    "tags": []
   },
   "outputs": [],
   "source": [
    "all_preds = pd.concat(predictions)\n",
    "all_preds = all_preds.reindex(subm.index)\n",
    "all_preds.to_csv('submission_bef_pp.csv')"
   ]
  },
  {
   "cell_type": "code",
   "execution_count": null,
   "id": "frequent-hawaii",
   "metadata": {
    "papermill": {
     "duration": 8.945959,
     "end_time": "2021-05-09T04:06:40.585052",
     "exception": false,
     "start_time": "2021-05-09T04:06:31.639093",
     "status": "completed"
    },
    "tags": []
   },
   "outputs": [],
   "source": []
  }
 ],
 "metadata": {
  "kernelspec": {
   "display_name": "Python 3",
   "language": "python",
   "name": "python3"
  },
  "language_info": {
   "codemirror_mode": {
    "name": "ipython",
    "version": 3
   },
   "file_extension": ".py",
   "mimetype": "text/x-python",
   "name": "python",
   "nbconvert_exporter": "python",
   "pygments_lexer": "ipython3",
   "version": "3.7.9"
  },
  "papermill": {
   "default_parameters": {},
   "duration": 6057.381094,
   "end_time": "2021-05-09T04:06:52.261970",
   "environment_variables": {},
   "exception": null,
   "input_path": "__notebook__.ipynb",
   "output_path": "__notebook__.ipynb",
   "parameters": {},
   "start_time": "2021-05-09T02:25:54.880876",
   "version": "2.3.2"
  }
 },
 "nbformat": 4,
 "nbformat_minor": 5
}
