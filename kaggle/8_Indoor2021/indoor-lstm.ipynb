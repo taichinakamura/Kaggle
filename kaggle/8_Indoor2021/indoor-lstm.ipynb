{
 "cells": [
  {
   "cell_type": "markdown",
   "id": "comparable-harris",
   "metadata": {
    "papermill": {
     "duration": 0.021115,
     "end_time": "2021-04-10T23:07:58.086314",
     "exception": false,
     "start_time": "2021-04-10T23:07:58.065199",
     "status": "completed"
    },
    "tags": []
   },
   "source": [
    "- consider only xy in validation\n",
    "- bo back to version 6 lstm\n",
    "- reset indoor-lgb-floor prediction (version 4) \n",
    "- add postprocessing \n",
    "- modify mistake and check operations * "
   ]
  },
  {
   "cell_type": "code",
   "execution_count": 1,
   "id": "objective-still",
   "metadata": {
    "execution": {
     "iopub.execute_input": "2021-04-10T23:07:58.144091Z",
     "iopub.status.busy": "2021-04-10T23:07:58.133086Z",
     "iopub.status.idle": "2021-04-10T23:08:10.130986Z",
     "shell.execute_reply": "2021-04-10T23:08:10.130219Z"
    },
    "papermill": {
     "duration": 12.024238,
     "end_time": "2021-04-10T23:08:10.131192",
     "exception": false,
     "start_time": "2021-04-10T23:07:58.106954",
     "status": "completed"
    },
    "tags": []
   },
   "outputs": [
    {
     "name": "stdout",
     "output_type": "stream",
     "text": [
      "Collecting tensorflow-determinism\r\n",
      "  Downloading tensorflow-determinism-0.3.0.tar.gz (12 kB)\r\n",
      "\u001b[33mWARNING: Discarding https://files.pythonhosted.org/packages/76/56/79d74f25b326d8719753172496abc524980fa67d1d98bb247021376e370a/tensorflow-determinism-0.3.0.tar.gz#sha256=563316b785614df300bbdec9b3c45a94d212761aec796cf1aafcbb2f69fdeb01 (from https://pypi.org/simple/tensorflow-determinism/). Requested tensorflow-determinism from https://files.pythonhosted.org/packages/76/56/79d74f25b326d8719753172496abc524980fa67d1d98bb247021376e370a/tensorflow-determinism-0.3.0.tar.gz#sha256=563316b785614df300bbdec9b3c45a94d212761aec796cf1aafcbb2f69fdeb01 has inconsistent version: filename has '0.3.0', but metadata has '0.4.1'\u001b[0m\r\n",
      "  Downloading tensorflow-determinism-0.2.0.tar.gz (10 kB)\r\n",
      "\u001b[33mWARNING: Discarding https://files.pythonhosted.org/packages/9b/28/4aa0d8f183d13d3477626e931a3363651bb8e291165d58962a39c57ae7fb/tensorflow-determinism-0.2.0.tar.gz#sha256=1e364b142acd96ec8a8fca6dee32ef04e1c5f5ca20bd83fc9ec37f7dbf2fb5b5 (from https://pypi.org/simple/tensorflow-determinism/). Requested tensorflow-determinism from https://files.pythonhosted.org/packages/9b/28/4aa0d8f183d13d3477626e931a3363651bb8e291165d58962a39c57ae7fb/tensorflow-determinism-0.2.0.tar.gz#sha256=1e364b142acd96ec8a8fca6dee32ef04e1c5f5ca20bd83fc9ec37f7dbf2fb5b5 has inconsistent version: filename has '0.2.0', but metadata has '0.4.1'\u001b[0m\r\n",
      "  Downloading tensorflow-determinism-0.1.0.tar.gz (7.2 kB)\r\n",
      "Building wheels for collected packages: tensorflow-determinism\r\n",
      "  Building wheel for tensorflow-determinism (setup.py) ... \u001b[?25l-\b \b\\\b \bdone\r\n",
      "\u001b[?25h  Created wheel for tensorflow-determinism: filename=tensorflow_determinism-0.1.0-py3-none-any.whl size=5255 sha256=701dc4c7d4568aba8d3def0eb5fbc8dae494cc4d86eb193997ca403326ee0bdf\r\n",
      "  Stored in directory: /root/.cache/pip/wheels/ce/06/d4/df757adc4c81f705a74a0317c27cf19919ccd25ae2a6ecd2c5\r\n",
      "Successfully built tensorflow-determinism\r\n",
      "Installing collected packages: tensorflow-determinism\r\n",
      "Successfully installed tensorflow-determinism-0.1.0\r\n"
     ]
    }
   ],
   "source": [
    "# credit: https://www.kaggle.com/kokitanisaka/lstm-by-keras-with-unified-wi-fi-feats\n",
    "!pip install tensorflow-determinism"
   ]
  },
  {
   "cell_type": "code",
   "execution_count": 2,
   "id": "eligible-repository",
   "metadata": {
    "execution": {
     "iopub.execute_input": "2021-04-10T23:08:10.189886Z",
     "iopub.status.busy": "2021-04-10T23:08:10.189175Z",
     "iopub.status.idle": "2021-04-10T23:08:59.678336Z",
     "shell.execute_reply": "2021-04-10T23:08:59.679260Z"
    },
    "papermill": {
     "duration": 49.524109,
     "end_time": "2021-04-10T23:08:59.679811",
     "exception": false,
     "start_time": "2021-04-10T23:08:10.155702",
     "status": "completed"
    },
    "tags": []
   },
   "outputs": [
    {
     "name": "stdout",
     "output_type": "stream",
     "text": [
      "Cloning into 'indoor_location_competition_20'...\r\n",
      "remote: Enumerating objects: 1169, done.\u001b[K\r\n",
      "remote: Counting objects: 100% (1169/1169), done.\u001b[K\r\n",
      "remote: Compressing objects: 100% (1131/1131), done.\u001b[K\r\n",
      "remote: Total 1169 (delta 38), reused 1167 (delta 38), pack-reused 0\u001b[K\r\n",
      "Receiving objects: 100% (1169/1169), 411.37 MiB | 18.26 MiB/s, done.\r\n",
      "Resolving deltas: 100% (38/38), done.\r\n",
      "Checking out files: 100% (1145/1145), done.\r\n"
     ]
    }
   ],
   "source": [
    "!git clone --depth 1 https://github.com/location-competition/indoor-location-competition-20 indoor_location_competition_20\n",
    "!rm -rf indoor_location_competition_20/data"
   ]
  },
  {
   "cell_type": "code",
   "execution_count": 3,
   "id": "facial-contrast",
   "metadata": {
    "execution": {
     "iopub.execute_input": "2021-04-10T23:09:00.078576Z",
     "iopub.status.busy": "2021-04-10T23:09:00.077884Z",
     "iopub.status.idle": "2021-04-10T23:09:09.921267Z",
     "shell.execute_reply": "2021-04-10T23:09:09.920315Z"
    },
    "papermill": {
     "duration": 10.108516,
     "end_time": "2021-04-10T23:09:09.921516",
     "exception": false,
     "start_time": "2021-04-10T23:08:59.813000",
     "status": "completed"
    },
    "tags": []
   },
   "outputs": [],
   "source": [
    "import numpy as np\n",
    "import pandas as pd\n",
    "import scipy.stats as stats\n",
    "from pathlib import Path\n",
    "import glob\n",
    "import pickle\n",
    "\n",
    "import random\n",
    "import os\n",
    "\n",
    "from tqdm.notebook import tqdm\n",
    "\n",
    "from sklearn.model_selection import StratifiedKFold\n",
    "from sklearn.preprocessing import StandardScaler, LabelEncoder\n",
    "\n",
    "import tensorflow as tf\n",
    "import tensorflow.keras.layers as L\n",
    "import tensorflow.keras.models as M\n",
    "import tensorflow.keras.backend as K\n",
    "import tensorflow_addons as tfa\n",
    "from tensorflow_addons.layers import WeightNormalization\n",
    "from tensorflow.keras.callbacks import ReduceLROnPlateau, ModelCheckpoint, EarlyStopping\n",
    "\n",
    "from tensorflow.keras.layers import *\n",
    "from tensorflow.keras.models import *\n",
    "from tensorflow.keras.layers import *\n",
    "from tensorflow.keras.optimizers import *\n",
    "from tensorflow.keras.metrics import *\n",
    "from tensorflow.keras.utils import *\n",
    "from tensorflow.keras.callbacks import *\n",
    "\n",
    "import multiprocessing\n",
    "import scipy.interpolate\n",
    "import scipy.sparse\n",
    "from tqdm import tqdm\n",
    "\n",
    "from indoor_location_competition_20.io_f import read_data_file\n",
    "import indoor_location_competition_20.compute_f as compute_f\n",
    "\n",
    "import warnings\n",
    "warnings.filterwarnings(\"ignore\")"
   ]
  },
  {
   "cell_type": "code",
   "execution_count": 4,
   "id": "satisfied-equivalent",
   "metadata": {
    "execution": {
     "iopub.execute_input": "2021-04-10T23:09:10.113733Z",
     "iopub.status.busy": "2021-04-10T23:09:10.112870Z",
     "iopub.status.idle": "2021-04-10T23:09:10.117229Z",
     "shell.execute_reply": "2021-04-10T23:09:10.116546Z"
    },
    "papermill": {
     "duration": 0.101879,
     "end_time": "2021-04-10T23:09:10.117371",
     "exception": false,
     "start_time": "2021-04-10T23:09:10.015492",
     "status": "completed"
    },
    "tags": []
   },
   "outputs": [],
   "source": [
    "# options\n",
    "N_SPLITS = 5\n",
    "SEED = 2021\n",
    "NUM_FEATS = 30 # number of features that we use. there are 100 feats but we don't need to use all of them\n",
    "base_path = '/kaggle'"
   ]
  },
  {
   "cell_type": "code",
   "execution_count": 5,
   "id": "tropical-color",
   "metadata": {
    "execution": {
     "iopub.execute_input": "2021-04-10T23:09:10.315203Z",
     "iopub.status.busy": "2021-04-10T23:09:10.314448Z",
     "iopub.status.idle": "2021-04-10T23:09:10.317650Z",
     "shell.execute_reply": "2021-04-10T23:09:10.317137Z"
    },
    "papermill": {
     "duration": 0.107353,
     "end_time": "2021-04-10T23:09:10.317806",
     "exception": false,
     "start_time": "2021-04-10T23:09:10.210453",
     "status": "completed"
    },
    "tags": []
   },
   "outputs": [],
   "source": [
    "def set_seed(seed=42):\n",
    "    random.seed(seed)\n",
    "    os.environ['PYTHONHASHSEED'] = str(seed)\n",
    "    os.environ['TF_DETERMINISTIC_OPS'] = '1'\n",
    "    np.random.seed(seed)\n",
    "    tf.random.set_seed(seed)\n",
    "    session_conf = tf.compat.v1.ConfigProto(\n",
    "        intra_op_parallelism_threads=1,\n",
    "        inter_op_parallelism_threads=1\n",
    "    )\n",
    "    sess = tf.compat.v1.Session(graph=tf.compat.v1.get_default_graph(), config=session_conf)\n",
    "    tf.compat.v1.keras.backend.set_session(sess)\n",
    "    \n",
    "def comp_metric(xhat, yhat, fhat, x, y, f):\n",
    "    intermediate = np.sqrt(np.power(xhat-x, 2) + np.power(yhat-y, 2)) + 15 * np.abs(fhat-f)\n",
    "    return intermediate.sum()/xhat.shape[0]\n",
    "\n",
    "def xy_comp_metric(xhat, yhat, x, y):\n",
    "    intermediate = np.sqrt(np.power(xhat-x, 2) + np.power(yhat-y, 2))\n",
    "    return intermediate.sum()/xhat.shape[0]"
   ]
  },
  {
   "cell_type": "code",
   "execution_count": 6,
   "id": "fifteen-retreat",
   "metadata": {
    "execution": {
     "iopub.execute_input": "2021-04-10T23:09:10.508200Z",
     "iopub.status.busy": "2021-04-10T23:09:10.507473Z",
     "iopub.status.idle": "2021-04-10T23:09:10.610833Z",
     "shell.execute_reply": "2021-04-10T23:09:10.610239Z"
    },
    "papermill": {
     "duration": 0.202077,
     "end_time": "2021-04-10T23:09:10.611015",
     "exception": false,
     "start_time": "2021-04-10T23:09:10.408938",
     "status": "completed"
    },
    "tags": []
   },
   "outputs": [],
   "source": [
    "feature_dir = f\"{base_path}/input/indooruniteddataset\"\n",
    "train_files = sorted(glob.glob(os.path.join(feature_dir, '*_train.csv')))\n",
    "test_files = sorted(glob.glob(os.path.join(feature_dir, '*_test.csv')))\n",
    "subm = pd.read_csv(f'{base_path}/input/indoor-location-navigation/sample_submission.csv', index_col=0)"
   ]
  },
  {
   "cell_type": "code",
   "execution_count": 7,
   "id": "mysterious-accommodation",
   "metadata": {
    "execution": {
     "iopub.execute_input": "2021-04-10T23:09:10.799938Z",
     "iopub.status.busy": "2021-04-10T23:09:10.798958Z",
     "iopub.status.idle": "2021-04-10T23:09:10.802127Z",
     "shell.execute_reply": "2021-04-10T23:09:10.801470Z"
    },
    "papermill": {
     "duration": 0.099026,
     "end_time": "2021-04-10T23:09:10.802273",
     "exception": false,
     "start_time": "2021-04-10T23:09:10.703247",
     "status": "completed"
    },
    "tags": []
   },
   "outputs": [],
   "source": [
    "# floor_train_pred = pd.read_csv(f'{base_path}/input/indoorlgbfloor/floor_prediction_in_train.csv')\n",
    "# floor_test_pred = pd.read_csv(f'{base_path}/input/indoorlgbfloor/submission.csv')"
   ]
  },
  {
   "cell_type": "code",
   "execution_count": 8,
   "id": "tested-canyon",
   "metadata": {
    "execution": {
     "iopub.execute_input": "2021-04-10T23:09:10.992233Z",
     "iopub.status.busy": "2021-04-10T23:09:10.991232Z",
     "iopub.status.idle": "2021-04-10T23:09:10.994368Z",
     "shell.execute_reply": "2021-04-10T23:09:10.993768Z"
    },
    "papermill": {
     "duration": 0.099658,
     "end_time": "2021-04-10T23:09:10.994508",
     "exception": false,
     "start_time": "2021-04-10T23:09:10.894850",
     "status": "completed"
    },
    "tags": []
   },
   "outputs": [],
   "source": [
    "# temporary measure to consider only both included train sites  \n",
    "#all_sites = sorted(set(pd.DataFrame(subm.index)[\"site_path_timestamp\"].apply(lambda x: x.split(\"_\")[0])))\n",
    "#train_files = sorted([i for i in train_files if i.split(\"/\")[4].split(\"_\")[0] in all_sites])\n",
    "#len(train_files)"
   ]
  },
  {
   "cell_type": "code",
   "execution_count": 9,
   "id": "dedicated-junction",
   "metadata": {
    "execution": {
     "iopub.execute_input": "2021-04-10T23:09:11.183704Z",
     "iopub.status.busy": "2021-04-10T23:09:11.183005Z",
     "iopub.status.idle": "2021-04-10T23:09:11.187503Z",
     "shell.execute_reply": "2021-04-10T23:09:11.188114Z"
    },
    "papermill": {
     "duration": 0.10107,
     "end_time": "2021-04-10T23:09:11.188456",
     "exception": false,
     "start_time": "2021-04-10T23:09:11.087386",
     "status": "completed"
    },
    "tags": []
   },
   "outputs": [],
   "source": [
    "# training target features\n",
    "BSSID_FEATS = [f'bssid_{i}' for i in range(NUM_FEATS)]\n",
    "RSSI_FEATS  = [f'rssi_{i}' for i in range(NUM_FEATS)]"
   ]
  },
  {
   "cell_type": "code",
   "execution_count": 10,
   "id": "small-edgar",
   "metadata": {
    "execution": {
     "iopub.execute_input": "2021-04-10T23:09:11.379413Z",
     "iopub.status.busy": "2021-04-10T23:09:11.378707Z",
     "iopub.status.idle": "2021-04-10T23:09:40.965687Z",
     "shell.execute_reply": "2021-04-10T23:09:40.966283Z"
    },
    "papermill": {
     "duration": 29.684459,
     "end_time": "2021-04-10T23:09:40.966468",
     "exception": false,
     "start_time": "2021-04-10T23:09:11.282009",
     "status": "completed"
    },
    "tags": []
   },
   "outputs": [
    {
     "name": "stderr",
     "output_type": "stream",
     "text": [
      "100%|██████████| 48/48 [00:26<00:00,  1.81it/s]\n",
      "100%|██████████| 24/24 [00:01<00:00, 19.24it/s]\n"
     ]
    }
   ],
   "source": [
    "data = []\n",
    "for i in tqdm(train_files):\n",
    "    tmp = pd.read_csv(i)\n",
    "    tmp[\"site_id\"] = i.split(\"/\")[4].split(\"_\")[0]\n",
    "    #tmp[\"floor_pred\"] = floor_train_pred[floor_train_pred.site == i.split(\"/\")[4].split(\"_\")[0]][\"floor\"].astype(int).values\n",
    "    data.append(tmp)\n",
    "data = pd.concat(data)\n",
    "\n",
    "test_data = []\n",
    "for i in tqdm(test_files):\n",
    "    tmp = pd.read_csv(i)\n",
    "    tmp[\"site_id\"] = i.split(\"/\")[4].split(\"_\")[0]\n",
    "    #tmp[\"floor_pred\"] = floor_test_pred[floor_test_pred.site_path_timestamp.isin(tmp.site_path_timestamp)][\"floor\"].values\n",
    "    test_data.append(tmp)\n",
    "test_data = pd.concat(test_data)"
   ]
  },
  {
   "cell_type": "code",
   "execution_count": 11,
   "id": "excess-liverpool",
   "metadata": {
    "execution": {
     "iopub.execute_input": "2021-04-10T23:09:41.198682Z",
     "iopub.status.busy": "2021-04-10T23:09:41.197334Z",
     "iopub.status.idle": "2021-04-10T23:09:43.065877Z",
     "shell.execute_reply": "2021-04-10T23:09:43.065174Z"
    },
    "papermill": {
     "duration": 1.989787,
     "end_time": "2021-04-10T23:09:43.066033",
     "exception": false,
     "start_time": "2021-04-10T23:09:41.076246",
     "status": "completed"
    },
    "tags": []
   },
   "outputs": [
    {
     "name": "stdout",
     "output_type": "stream",
     "text": [
      "BSSID TYPES: 54067\n",
      "BSSID TYPES: 25654\n"
     ]
    }
   ],
   "source": [
    "wifi_feat_nums = 60\n",
    "wifi_bssids = []\n",
    "for i in range(wifi_feat_nums):\n",
    "    wifi_bssids.extend(data.iloc[:,i].values.tolist())\n",
    "wifi_bssids = list(set(wifi_bssids))\n",
    "\n",
    "wifi_bssids_size = len(wifi_bssids)\n",
    "print(f'BSSID TYPES: {wifi_bssids_size}')\n",
    "\n",
    "wifi_bssids_test = []\n",
    "for i in range(wifi_feat_nums):\n",
    "    wifi_bssids_test.extend(test_data.iloc[:,i].values.tolist())\n",
    "wifi_bssids_test = list(set(wifi_bssids_test))\n",
    "\n",
    "wifi_bssids_size = len(wifi_bssids_test)\n",
    "print(f'BSSID TYPES: {wifi_bssids_size}')\n",
    "\n",
    "wifi_bssids.extend(wifi_bssids_test)\n",
    "wifi_bssids_size = len(wifi_bssids)"
   ]
  },
  {
   "cell_type": "code",
   "execution_count": 12,
   "id": "medieval-induction",
   "metadata": {
    "execution": {
     "iopub.execute_input": "2021-04-10T23:09:43.321997Z",
     "iopub.status.busy": "2021-04-10T23:09:43.321055Z",
     "iopub.status.idle": "2021-04-10T23:09:44.510293Z",
     "shell.execute_reply": "2021-04-10T23:09:44.509766Z"
    },
    "papermill": {
     "duration": 1.331103,
     "end_time": "2021-04-10T23:09:44.510436",
     "exception": false,
     "start_time": "2021-04-10T23:09:43.179333",
     "status": "completed"
    },
    "tags": []
   },
   "outputs": [
    {
     "data": {
      "text/plain": [
       "StandardScaler()"
      ]
     },
     "execution_count": 12,
     "metadata": {},
     "output_type": "execute_result"
    }
   ],
   "source": [
    "# preprocess\n",
    "\n",
    "le = LabelEncoder()\n",
    "le.fit(wifi_bssids)\n",
    "le_site = LabelEncoder()\n",
    "le_site.fit(data['site_id'])\n",
    "\n",
    "ss = StandardScaler()\n",
    "ss.fit(data.loc[:,RSSI_FEATS])"
   ]
  },
  {
   "cell_type": "code",
   "execution_count": 13,
   "id": "dutch-lebanon",
   "metadata": {
    "execution": {
     "iopub.execute_input": "2021-04-10T23:09:44.764158Z",
     "iopub.status.busy": "2021-04-10T23:09:44.763437Z",
     "iopub.status.idle": "2021-04-10T23:10:07.904097Z",
     "shell.execute_reply": "2021-04-10T23:10:07.902727Z"
    },
    "papermill": {
     "duration": 23.282026,
     "end_time": "2021-04-10T23:10:07.904283",
     "exception": false,
     "start_time": "2021-04-10T23:09:44.622257",
     "status": "completed"
    },
    "tags": []
   },
   "outputs": [],
   "source": [
    "data.loc[:,RSSI_FEATS] = ss.transform(data.loc[:,RSSI_FEATS])\n",
    "for i in BSSID_FEATS:\n",
    "    data.loc[:,i] = le.transform(data.loc[:,i])\n",
    "    \n",
    "data.loc[:, 'site_id'] = le_site.transform(data.loc[:, 'site_id'])\n",
    "\n",
    "data.loc[:,RSSI_FEATS] = ss.transform(data.loc[:,RSSI_FEATS])"
   ]
  },
  {
   "cell_type": "code",
   "execution_count": 14,
   "id": "future-softball",
   "metadata": {
    "execution": {
     "iopub.execute_input": "2021-04-10T23:10:08.137344Z",
     "iopub.status.busy": "2021-04-10T23:10:08.136071Z",
     "iopub.status.idle": "2021-04-10T23:10:11.652266Z",
     "shell.execute_reply": "2021-04-10T23:10:11.652773Z"
    },
    "papermill": {
     "duration": 3.637299,
     "end_time": "2021-04-10T23:10:11.653002",
     "exception": false,
     "start_time": "2021-04-10T23:10:08.015703",
     "status": "completed"
    },
    "tags": []
   },
   "outputs": [],
   "source": [
    "test_data.loc[:,RSSI_FEATS] = ss.transform(test_data.loc[:,RSSI_FEATS])\n",
    "for i in BSSID_FEATS:\n",
    "    test_data.loc[:,i] = le.transform(test_data.loc[:,i])\n",
    "    \n",
    "test_data.loc[:, 'site_id'] = le_site.transform(test_data.loc[:, 'site_id'])\n",
    "\n",
    "test_data.loc[:,RSSI_FEATS] = ss.transform(test_data.loc[:,RSSI_FEATS])"
   ]
  },
  {
   "cell_type": "code",
   "execution_count": 15,
   "id": "convenient-tobago",
   "metadata": {
    "execution": {
     "iopub.execute_input": "2021-04-10T23:10:11.878265Z",
     "iopub.status.busy": "2021-04-10T23:10:11.877544Z",
     "iopub.status.idle": "2021-04-10T23:10:11.881111Z",
     "shell.execute_reply": "2021-04-10T23:10:11.880424Z"
    },
    "papermill": {
     "duration": 0.11787,
     "end_time": "2021-04-10T23:10:11.881263",
     "exception": false,
     "start_time": "2021-04-10T23:10:11.763393",
     "status": "completed"
    },
    "tags": []
   },
   "outputs": [],
   "source": [
    "# plus = abs(data['floor_pred'].min())\n",
    "# data['floor_pred'] += plus\n",
    "# test_data['floor_pred'] += plus"
   ]
  },
  {
   "cell_type": "code",
   "execution_count": 16,
   "id": "relative-incident",
   "metadata": {
    "execution": {
     "iopub.execute_input": "2021-04-10T23:10:12.112684Z",
     "iopub.status.busy": "2021-04-10T23:10:12.112039Z",
     "iopub.status.idle": "2021-04-10T23:10:12.122852Z",
     "shell.execute_reply": "2021-04-10T23:10:12.122300Z"
    },
    "papermill": {
     "duration": 0.128501,
     "end_time": "2021-04-10T23:10:12.123012",
     "exception": false,
     "start_time": "2021-04-10T23:10:11.994511",
     "status": "completed"
    },
    "tags": []
   },
   "outputs": [],
   "source": [
    "site_count = len(data['site_id'].unique())\n",
    "# floor_count = data['floor_pred'].max() + 1\n",
    "data.reset_index(drop=True, inplace=True)"
   ]
  },
  {
   "cell_type": "code",
   "execution_count": 17,
   "id": "musical-jordan",
   "metadata": {
    "execution": {
     "iopub.execute_input": "2021-04-10T23:10:12.351130Z",
     "iopub.status.busy": "2021-04-10T23:10:12.350404Z",
     "iopub.status.idle": "2021-04-10T23:10:12.369487Z",
     "shell.execute_reply": "2021-04-10T23:10:12.369980Z"
    },
    "papermill": {
     "duration": 0.13649,
     "end_time": "2021-04-10T23:10:12.370162",
     "exception": false,
     "start_time": "2021-04-10T23:10:12.233672",
     "status": "completed"
    },
    "tags": []
   },
   "outputs": [],
   "source": [
    "set_seed(SEED)"
   ]
  },
  {
   "cell_type": "markdown",
   "id": "unusual-jackson",
   "metadata": {
    "papermill": {
     "duration": 0.111399,
     "end_time": "2021-04-10T23:10:12.592392",
     "exception": false,
     "start_time": "2021-04-10T23:10:12.480993",
     "status": "completed"
    },
    "tags": []
   },
   "source": [
    "# model"
   ]
  },
  {
   "cell_type": "code",
   "execution_count": 18,
   "id": "vanilla-christmas",
   "metadata": {
    "execution": {
     "iopub.execute_input": "2021-04-10T23:10:12.819930Z",
     "iopub.status.busy": "2021-04-10T23:10:12.819099Z",
     "iopub.status.idle": "2021-04-10T23:10:12.822255Z",
     "shell.execute_reply": "2021-04-10T23:10:12.821668Z"
    },
    "papermill": {
     "duration": 0.119027,
     "end_time": "2021-04-10T23:10:12.822398",
     "exception": false,
     "start_time": "2021-04-10T23:10:12.703371",
     "status": "completed"
    },
    "tags": []
   },
   "outputs": [],
   "source": [
    "num_heads = 8\n",
    "bssid_embed_dim = 64\n",
    "site_embed_dim = 2\n",
    "ff_dim = 128 \n",
    "DROPOUT = 0.2\n",
    "maxlen = NUM_FEATS\n",
    "batch_size=256\n",
    "epochs= 1 #40"
   ]
  },
  {
   "cell_type": "code",
   "execution_count": 19,
   "id": "northern-rebecca",
   "metadata": {
    "execution": {
     "iopub.execute_input": "2021-04-10T23:10:13.052715Z",
     "iopub.status.busy": "2021-04-10T23:10:13.052026Z",
     "iopub.status.idle": "2021-04-10T23:10:13.064987Z",
     "shell.execute_reply": "2021-04-10T23:10:13.065505Z"
    },
    "papermill": {
     "duration": 0.1304,
     "end_time": "2021-04-10T23:10:13.065696",
     "exception": false,
     "start_time": "2021-04-10T23:10:12.935296",
     "status": "completed"
    },
    "tags": []
   },
   "outputs": [],
   "source": [
    "class TransformerBlock(Layer):\n",
    "    def __init__(self, embed_dim, num_heads, ff_dim, rate=DROPOUT):\n",
    "        super(TransformerBlock, self).__init__()\n",
    "        self.att = MultiHeadAttention(num_heads=num_heads, key_dim=embed_dim)\n",
    "        self.ffn = Sequential(\n",
    "            [Dense(ff_dim, activation=\"relu\"), Dense(embed_dim),]\n",
    "        )\n",
    "        self.layernorm1 = LayerNormalization(epsilon=1e-6)\n",
    "        self.layernorm2 = LayerNormalization(epsilon=1e-6)\n",
    "        self.dropout1 = Dropout(rate)\n",
    "        self.dropout2 = Dropout(rate)\n",
    "\n",
    "    def call(self, inputs, training):\n",
    "        attn_output = self.att(inputs, inputs)\n",
    "        attn_output = self.dropout1(attn_output, training=training)\n",
    "        out1 = self.layernorm1(inputs + attn_output)\n",
    "        ffn_output = self.ffn(out1)\n",
    "        ffn_output = self.dropout2(ffn_output, training=training)\n",
    "        return self.layernorm2(out1 + ffn_output)\n",
    "    \n",
    "class TokenAndPositionEmbedding(Layer):\n",
    "    def __init__(self, maxlen, vocab_size, embed_dim):\n",
    "        super(TokenAndPositionEmbedding, self).__init__()\n",
    "        self.token_emb = Embedding(input_dim=vocab_size, output_dim=embed_dim, mask_zero=True)\n",
    "        self.pos_emb = Embedding(input_dim=maxlen, output_dim=embed_dim)\n",
    "\n",
    "    def call(self, x):\n",
    "        maxlen = tf.shape(x)[-1]\n",
    "        positions = tf.range(start=0, limit=maxlen, delta=1)\n",
    "        positions = self.pos_emb(positions)\n",
    "        x = self.token_emb(x)\n",
    "        return x + positions"
   ]
  },
  {
   "cell_type": "code",
   "execution_count": 20,
   "id": "potential-canon",
   "metadata": {
    "execution": {
     "iopub.execute_input": "2021-04-10T23:10:13.296515Z",
     "iopub.status.busy": "2021-04-10T23:10:13.295827Z",
     "iopub.status.idle": "2021-04-10T23:10:13.309803Z",
     "shell.execute_reply": "2021-04-10T23:10:13.309167Z"
    },
    "papermill": {
     "duration": 0.130497,
     "end_time": "2021-04-10T23:10:13.309961",
     "exception": false,
     "start_time": "2021-04-10T23:10:13.179464",
     "status": "completed"
    },
    "tags": []
   },
   "outputs": [],
   "source": [
    "def create_model(input_data):\n",
    "\n",
    "    # bssid feats\n",
    "    input_dim = input_data[0].shape[1]\n",
    "\n",
    "    input_embd_layer = L.Input(shape=(input_dim,))\n",
    "    x1 = L.Embedding(wifi_bssids_size, bssid_embed_dim)(input_embd_layer)\n",
    "    x1 = L.Flatten()(x1)\n",
    "\n",
    "    # rssi feats\n",
    "    input_dim = input_data[1].shape[1]\n",
    "\n",
    "    input_layer = L.Input(input_dim, )\n",
    "    x2 = L.BatchNormalization()(input_layer)\n",
    "    x2 = L.Dense(NUM_FEATS * 64, activation='relu')(x2)\n",
    "\n",
    "    # site\n",
    "    input_site_layer = L.Input(shape=(1,))\n",
    "    x3 = L.Embedding(site_count, site_embed_dim)(input_site_layer)\n",
    "    x3 = L.Flatten()(x3)\n",
    "\n",
    "    \n",
    "    # main stream\n",
    "    x = L.Concatenate(axis=1)([x1, x3, x2])\n",
    "\n",
    "    x = L.BatchNormalization()(x)\n",
    "    x = L.Dropout(0.3)(x)\n",
    "    x = L.Dense(256, activation='relu')(x)\n",
    "\n",
    "    x = L.Reshape((1, -1))(x)\n",
    "    x = L.BatchNormalization()(x)\n",
    "    x = L.LSTM(128, dropout=0.3, recurrent_dropout=0.3, return_sequences=True, activation='relu')(x)\n",
    "    x = L.LSTM(16, dropout=0.1, return_sequences=False, activation='relu')(x)\n",
    "    \n",
    "    output_layer_1 = L.Dense(2, name='xy')(x)\n",
    "    output_layer_2 = L.Dense(1, activation='softmax', name='floor')(x)\n",
    "\n",
    "    model = M.Model([input_embd_layer, input_layer, input_site_layer], \n",
    "                    [output_layer_1, output_layer_2])\n",
    "\n",
    "    model.compile(optimizer=tf.optimizers.Adam(lr=0.002),\n",
    "                  loss='mse', metrics=['mse'])\n",
    "\n",
    "    return model"
   ]
  },
  {
   "cell_type": "code",
   "execution_count": 21,
   "id": "obvious-volleyball",
   "metadata": {
    "execution": {
     "iopub.execute_input": "2021-04-10T23:10:13.540746Z",
     "iopub.status.busy": "2021-04-10T23:10:13.540049Z",
     "iopub.status.idle": "2021-04-10T23:21:19.959060Z",
     "shell.execute_reply": "2021-04-10T23:21:19.957692Z"
    },
    "papermill": {
     "duration": 666.535742,
     "end_time": "2021-04-10T23:21:19.959248",
     "exception": false,
     "start_time": "2021-04-10T23:10:13.423506",
     "status": "completed"
    },
    "tags": []
   },
   "outputs": [
    {
     "name": "stdout",
     "output_type": "stream",
     "text": [
      "1115/1115 [==============================] - 120s 102ms/step - loss: 2305.6840 - xy_loss: 2302.3308 - floor_loss: 3.3529 - xy_mse: 2302.3308 - floor_mse: 3.3529 - val_loss: 149.8079 - val_xy_loss: 146.4601 - val_floor_loss: 3.3479 - val_xy_mse: 146.4601 - val_floor_mse: 3.3479\n",
      "\n",
      "Epoch 00001: val_xy_loss improved from inf to 146.46007, saving model to /kaggle/RNN_2021_0.hdf5\n",
      "fold 0: mean position error 35.02879570263326\n",
      "1115/1115 [==============================] - 119s 101ms/step - loss: 2406.8809 - xy_loss: 2403.5289 - floor_loss: 3.3528 - xy_mse: 2403.5289 - floor_mse: 3.3528 - val_loss: 109.9031 - val_xy_loss: 106.5549 - val_floor_loss: 3.3482 - val_xy_mse: 106.5549 - val_floor_mse: 3.3482\n",
      "\n",
      "Epoch 00001: val_xy_loss improved from inf to 106.55492, saving model to /kaggle/RNN_2021_1.hdf5\n",
      "fold 1: mean position error 33.205258478657186\n",
      "1115/1115 [==============================] - 120s 102ms/step - loss: 2408.8293 - xy_loss: 2405.4765 - floor_loss: 3.3526 - xy_mse: 2405.4765 - floor_mse: 3.3526 - val_loss: 118.8403 - val_xy_loss: 115.4921 - val_floor_loss: 3.3482 - val_xy_mse: 115.4921 - val_floor_mse: 3.3482\n",
      "\n",
      "Epoch 00001: val_xy_loss improved from inf to 115.49210, saving model to /kaggle/RNN_2021_2.hdf5\n",
      "fold 2: mean position error 33.19944581329051\n",
      "1115/1115 [==============================] - 120s 103ms/step - loss: 2361.4934 - xy_loss: 2358.1420 - floor_loss: 3.3511 - xy_mse: 2358.1420 - floor_mse: 3.3511 - val_loss: 92.1167 - val_xy_loss: 88.7691 - val_floor_loss: 3.3476 - val_xy_mse: 88.7691 - val_floor_mse: 3.3476\n",
      "\n",
      "Epoch 00001: val_xy_loss improved from inf to 88.76915, saving model to /kaggle/RNN_2021_3.hdf5\n",
      "fold 3: mean position error 31.490514523104412\n",
      "1115/1115 [==============================] - 123s 105ms/step - loss: 2535.0269 - xy_loss: 2531.6757 - floor_loss: 3.3509 - xy_mse: 2531.6757 - floor_mse: 3.3509 - val_loss: 81.8678 - val_xy_loss: 78.5197 - val_floor_loss: 3.3481 - val_xy_mse: 78.5197 - val_floor_mse: 3.3481\n",
      "\n",
      "Epoch 00001: val_xy_loss improved from inf to 78.51974, saving model to /kaggle/RNN_2021_4.hdf5\n",
      "fold 4: mean position error 31.695255413728137\n",
      "*+*+*+*+*+*+*+*+*+*+*+*+*+*+*+*+*+*+*+*+*+*+*+*+*+*+*+*+*+*+*+*+*+*+*+*+*+*+*+*+\n",
      "mean position error 32.92386144722684\n",
      "xy mean position error 11.80320827709262\n",
      "*+*+*+*+*+*+*+*+*+*+*+*+*+*+*+*+*+*+*+*+*+*+*+*+*+*+*+*+*+*+*+*+*+*+*+*+*+*+*+*+\n"
     ]
    }
   ],
   "source": [
    "score_df = pd.DataFrame()\n",
    "oof = list()\n",
    "predictions = list()\n",
    "\n",
    "oof_x, oof_y, oof_f = np.zeros(data.shape[0]), np.zeros(data.shape[0]), np.zeros(data.shape[0])\n",
    "preds_x, preds_y = 0, 0\n",
    "preds_f_arr = np.zeros((test_data.shape[0], N_SPLITS))\n",
    "\n",
    "for fold, (trn_idx, val_idx) in enumerate(StratifiedKFold(n_splits=N_SPLITS, shuffle=True, random_state=SEED).split(data.loc[:, 'path'], data.loc[:, 'path'])):\n",
    "    X_train = data.loc[trn_idx, BSSID_FEATS + RSSI_FEATS + ['site_id']]\n",
    "    y_trainx = data.loc[trn_idx, 'x']\n",
    "    y_trainy = data.loc[trn_idx, 'y']\n",
    "    y_trainf = data.loc[trn_idx, 'floor']\n",
    "\n",
    "    tmp = pd.concat([y_trainx, y_trainy], axis=1)\n",
    "    y_train = [tmp, y_trainf]\n",
    "\n",
    "    X_valid = data.loc[val_idx, BSSID_FEATS + RSSI_FEATS + ['site_id']]\n",
    "    y_validx = data.loc[val_idx, 'x']\n",
    "    y_validy = data.loc[val_idx, 'y']\n",
    "    y_validf = data.loc[val_idx, 'floor']\n",
    "\n",
    "    tmp = pd.concat([y_validx, y_validy], axis=1)\n",
    "    y_valid = [tmp, y_validf]\n",
    "\n",
    "    model = create_model([X_train.loc[:,BSSID_FEATS], X_train.loc[:,RSSI_FEATS], X_train.loc[:,'site_id']])\n",
    "    model.fit([X_train.loc[:,BSSID_FEATS], X_train.loc[:,RSSI_FEATS], X_train.loc[:,'site_id']], y_train, \n",
    "                validation_data=([X_valid.loc[:,BSSID_FEATS], X_valid.loc[:,RSSI_FEATS], X_valid.loc[:,'site_id']], y_valid), \n",
    "                batch_size=batch_size, epochs=epochs,\n",
    "                callbacks=[\n",
    "                ReduceLROnPlateau(monitor='val_xy_loss', factor=0.1, patience=3, verbose=1, min_delta=1e-4, mode='min')\n",
    "                , ModelCheckpoint(f'{base_path}/RNN_{SEED}_{fold}.hdf5', monitor='val_xy_loss', verbose=1, save_best_only=True, save_weights_only=True, mode='min')\n",
    "                , EarlyStopping(monitor='val_xy_loss', min_delta=1e-4, patience=5, mode='min', baseline=None, restore_best_weights=True)\n",
    "            ])\n",
    "\n",
    "    model.load_weights(f'{base_path}/RNN_{SEED}_{fold}.hdf5')\n",
    "    val_pred = model.predict([X_valid.loc[:,BSSID_FEATS], X_valid.loc[:,RSSI_FEATS], X_valid.loc[:,'site_id']])\n",
    "\n",
    "    oof_x[val_idx] = val_pred[0][:,0]\n",
    "    oof_y[val_idx] = val_pred[0][:,1]\n",
    "    oof_f[val_idx] = val_pred[1][:,0].astype(int)\n",
    "    \n",
    "    pred = model.predict([test_data.loc[:,BSSID_FEATS], test_data.loc[:,RSSI_FEATS], test_data.loc[:,'site_id']])\n",
    "    preds_x += pred[0][:,0]\n",
    "    preds_y += pred[0][:,1]\n",
    "    preds_f_arr[:, fold] = pred[1][:,0].astype(int)\n",
    "\n",
    "    score = comp_metric(oof_x[val_idx], oof_y[val_idx], oof_f[val_idx],\n",
    "                        y_validx.to_numpy(), y_validy.to_numpy(), y_validf.to_numpy())\n",
    "    print(f\"fold {fold}: mean position error {score}\")\n",
    "\n",
    "    K.clear_session()\n",
    "\n",
    "preds_x /= (fold + 1)\n",
    "preds_y /= (fold + 1)\n",
    "    \n",
    "print(\"*+\"*40)\n",
    "score = comp_metric(oof_x, oof_y, oof_f, data.iloc[:, -5].to_numpy(), data.iloc[:, -4].to_numpy(), data.iloc[:, -3].to_numpy())\n",
    "score2 = xy_comp_metric(oof_x, oof_y, data.iloc[:, -5].to_numpy(), data.iloc[:, -4].to_numpy())\n",
    "oof.append(score)\n",
    "print(f\"mean position error {score}\")\n",
    "print(f\"xy mean position error {score2}\")\n",
    "print(\"*+\"*40)\n",
    "\n",
    "preds_f_mode = stats.mode(preds_f_arr, axis=1)\n",
    "preds_f = preds_f_mode[0].astype(int).reshape(-1)\n",
    "test_preds = pd.DataFrame(np.stack((preds_f, preds_x, preds_y))).T\n",
    "test_preds.columns = subm.columns\n",
    "test_preds.index = test_data[\"site_path_timestamp\"]\n",
    "test_preds[\"floor\"] = test_preds[\"floor\"].astype(int)\n",
    "predictions.append(test_preds)"
   ]
  },
  {
   "cell_type": "code",
   "execution_count": 22,
   "id": "egyptian-citation",
   "metadata": {
    "execution": {
     "iopub.execute_input": "2021-04-10T23:21:23.641940Z",
     "iopub.status.busy": "2021-04-10T23:21:23.641223Z",
     "iopub.status.idle": "2021-04-10T23:21:23.685576Z",
     "shell.execute_reply": "2021-04-10T23:21:23.684961Z"
    },
    "papermill": {
     "duration": 1.88601,
     "end_time": "2021-04-10T23:21:23.685723",
     "exception": false,
     "start_time": "2021-04-10T23:21:21.799713",
     "status": "completed"
    },
    "tags": []
   },
   "outputs": [],
   "source": [
    "all_preds = pd.concat(predictions)\n",
    "all_preds = all_preds.reindex(subm.index)\n",
    "\n",
    "lgb_pred = pd.read_csv('../input/indoorlgbfloor/submission.csv')\n",
    "all_preds['floor'] = lgb_pred['floor'].values"
   ]
  },
  {
   "cell_type": "markdown",
   "id": "northern-indian",
   "metadata": {
    "papermill": {
     "duration": 1.857069,
     "end_time": "2021-04-10T23:21:27.352238",
     "exception": false,
     "start_time": "2021-04-10T23:21:25.495169",
     "status": "completed"
    },
    "tags": []
   },
   "source": [
    "# postprocess (cost minimization)"
   ]
  },
  {
   "cell_type": "code",
   "execution_count": 23,
   "id": "consolidated-pendant",
   "metadata": {
    "execution": {
     "iopub.execute_input": "2021-04-10T23:21:30.997576Z",
     "iopub.status.busy": "2021-04-10T23:21:30.996817Z",
     "iopub.status.idle": "2021-04-10T23:21:31.000302Z",
     "shell.execute_reply": "2021-04-10T23:21:30.999650Z"
    },
    "papermill": {
     "duration": 1.836677,
     "end_time": "2021-04-10T23:21:31.000450",
     "exception": false,
     "start_time": "2021-04-10T23:21:29.163773",
     "status": "completed"
    },
    "tags": []
   },
   "outputs": [],
   "source": [
    "INPUT_PATH = '../input/indoor-location-navigation'\n",
    "\n",
    "def compute_rel_positions(acce_datas, ahrs_datas):\n",
    "    step_timestamps, step_indexs, step_acce_max_mins = compute_f.compute_steps(acce_datas)\n",
    "    headings = compute_f.compute_headings(ahrs_datas)\n",
    "    stride_lengths = compute_f.compute_stride_length(step_acce_max_mins)\n",
    "    step_headings = compute_f.compute_step_heading(step_timestamps, headings)\n",
    "    rel_positions = compute_f.compute_rel_positions(stride_lengths, step_headings)\n",
    "    return rel_positions\n",
    "\n",
    "def correct_path(args):\n",
    "    path, path_df = args\n",
    "    \n",
    "    T_ref  = path_df['timestamp'].values\n",
    "    xy_hat = path_df[['x', 'y']].values\n",
    "    \n",
    "    example = read_data_file(f'{INPUT_PATH}/test/{path}.txt')\n",
    "    rel_positions = compute_rel_positions(example.acce, example.ahrs)\n",
    "    if T_ref[-1] > rel_positions[-1, 0]:\n",
    "        rel_positions = [np.array([[0, 0, 0]]), rel_positions, np.array([[T_ref[-1], 0, 0]])]\n",
    "    else:\n",
    "        rel_positions = [np.array([[0, 0, 0]]), rel_positions]\n",
    "    rel_positions = np.concatenate(rel_positions)\n",
    "    \n",
    "    T_rel = rel_positions[:, 0]\n",
    "    delta_xy_hat = np.diff(scipy.interpolate.interp1d(T_rel, np.cumsum(rel_positions[:, 1:3], axis=0), axis=0)(T_ref), axis=0)\n",
    "\n",
    "    N = xy_hat.shape[0]\n",
    "    delta_t = np.diff(T_ref)\n",
    "    alpha = (8.1)**(-2) * np.ones(N)\n",
    "    beta  = (0.3 + 0.3 * 1e-3 * delta_t)**(-2)\n",
    "    A = scipy.sparse.spdiags(alpha, [0], N, N)\n",
    "    B = scipy.sparse.spdiags( beta, [0], N-1, N-1)\n",
    "    D = scipy.sparse.spdiags(np.stack([-np.ones(N), np.ones(N)]), [0, 1], N-1, N)\n",
    "\n",
    "    Q = A + (D.T @ B @ D)\n",
    "    c = (A @ xy_hat) + (D.T @ (B @ delta_xy_hat))\n",
    "    xy_star = scipy.sparse.linalg.spsolve(Q, c)\n",
    "    \n",
    "    return pd.DataFrame({\n",
    "        'site_path_timestamp' : path_df['site_path_timestamp'],\n",
    "        'floor' : path_df['floor'],\n",
    "        'x' : xy_star[:, 0],\n",
    "        'y' : xy_star[:, 1],\n",
    "    })"
   ]
  },
  {
   "cell_type": "code",
   "execution_count": 24,
   "id": "thousand-pursuit",
   "metadata": {
    "execution": {
     "iopub.execute_input": "2021-04-10T23:21:34.703293Z",
     "iopub.status.busy": "2021-04-10T23:21:34.702596Z",
     "iopub.status.idle": "2021-04-10T23:28:55.311227Z",
     "shell.execute_reply": "2021-04-10T23:28:55.310613Z"
    },
    "papermill": {
     "duration": 442.504864,
     "end_time": "2021-04-10T23:28:55.311388",
     "exception": false,
     "start_time": "2021-04-10T23:21:32.806524",
     "status": "completed"
    },
    "tags": []
   },
   "outputs": [
    {
     "name": "stderr",
     "output_type": "stream",
     "text": [
      "626it [07:17,  1.43it/s]\n"
     ]
    }
   ],
   "source": [
    "sub = pd.read_csv('../input/indoor-location-navigation/sample_submission.csv')\n",
    "sub[\"floor\"] = all_preds['floor'].values\n",
    "sub[\"x\"] = all_preds['x'].values\n",
    "sub[\"y\"] = all_preds['y'].values\n",
    "\n",
    "tmp = sub['site_path_timestamp'].apply(lambda s : pd.Series(s.split('_')))\n",
    "sub['site'] = tmp[0]\n",
    "sub['path'] = tmp[1]\n",
    "sub['timestamp'] = tmp[2].astype(float)\n",
    "\n",
    "processes = multiprocessing.cpu_count()\n",
    "with multiprocessing.Pool(processes=processes) as pool:\n",
    "    dfs = pool.imap_unordered(correct_path, sub.groupby('path'))\n",
    "    dfs = tqdm(dfs)\n",
    "    dfs = list(dfs)\n",
    "sub = pd.concat(dfs).sort_values('site_path_timestamp')"
   ]
  },
  {
   "cell_type": "markdown",
   "id": "extensive-negotiation",
   "metadata": {
    "papermill": {
     "duration": 2.03295,
     "end_time": "2021-04-10T23:28:59.387250",
     "exception": false,
     "start_time": "2021-04-10T23:28:57.354300",
     "status": "completed"
    },
    "tags": []
   },
   "source": [
    "# submission"
   ]
  },
  {
   "cell_type": "code",
   "execution_count": 25,
   "id": "fabulous-virginia",
   "metadata": {
    "execution": {
     "iopub.execute_input": "2021-04-10T23:29:03.385954Z",
     "iopub.status.busy": "2021-04-10T23:29:03.385252Z",
     "iopub.status.idle": "2021-04-10T23:29:03.480761Z",
     "shell.execute_reply": "2021-04-10T23:29:03.480090Z"
    },
    "papermill": {
     "duration": 2.070432,
     "end_time": "2021-04-10T23:29:03.480961",
     "exception": false,
     "start_time": "2021-04-10T23:29:01.410529",
     "status": "completed"
    },
    "tags": []
   },
   "outputs": [],
   "source": [
    "sub.to_csv('submission.csv', index=False)"
   ]
  },
  {
   "cell_type": "code",
   "execution_count": null,
   "id": "synthetic-credits",
   "metadata": {
    "papermill": {
     "duration": 1.971558,
     "end_time": "2021-04-10T23:29:07.465447",
     "exception": false,
     "start_time": "2021-04-10T23:29:05.493889",
     "status": "completed"
    },
    "tags": []
   },
   "outputs": [],
   "source": []
  }
 ],
 "metadata": {
  "kernelspec": {
   "display_name": "Python 3",
   "language": "python",
   "name": "python3"
  },
  "language_info": {
   "codemirror_mode": {
    "name": "ipython",
    "version": 3
   },
   "file_extension": ".py",
   "mimetype": "text/x-python",
   "name": "python",
   "nbconvert_exporter": "python",
   "pygments_lexer": "ipython3",
   "version": "3.7.9"
  },
  "papermill": {
   "default_parameters": {},
   "duration": 1281.149781,
   "end_time": "2021-04-10T23:29:12.363716",
   "environment_variables": {},
   "exception": null,
   "input_path": "__notebook__.ipynb",
   "output_path": "__notebook__.ipynb",
   "parameters": {},
   "start_time": "2021-04-10T23:07:51.213935",
   "version": "2.3.2"
  }
 },
 "nbformat": 4,
 "nbformat_minor": 5
}
