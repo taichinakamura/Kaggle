{
 "cells": [
  {
   "cell_type": "markdown",
   "id": "hindu-medline",
   "metadata": {
    "papermill": {
     "duration": 0.018757,
     "end_time": "2021-04-12T14:04:24.714825",
     "exception": false,
     "start_time": "2021-04-12T14:04:24.696068",
     "status": "completed"
    },
    "tags": []
   },
   "source": [
    "- consider only xy in validation\n",
    "- bo back to version 6 lstm\n",
    "- reset indoor-lgb-floor prediction (version 4) \n",
    "- cancel separating train-only data and normal data for new validation *\n",
    "- add floor as numerical variable * "
   ]
  },
  {
   "cell_type": "code",
   "execution_count": 1,
   "id": "exciting-target",
   "metadata": {
    "execution": {
     "iopub.execute_input": "2021-04-12T14:04:24.754310Z",
     "iopub.status.busy": "2021-04-12T14:04:24.753564Z",
     "iopub.status.idle": "2021-04-12T14:04:36.620062Z",
     "shell.execute_reply": "2021-04-12T14:04:36.619482Z"
    },
    "papermill": {
     "duration": 11.887778,
     "end_time": "2021-04-12T14:04:36.620216",
     "exception": false,
     "start_time": "2021-04-12T14:04:24.732438",
     "status": "completed"
    },
    "tags": []
   },
   "outputs": [
    {
     "name": "stdout",
     "output_type": "stream",
     "text": [
      "Collecting tensorflow-determinism\r\n",
      "  Downloading tensorflow-determinism-0.3.0.tar.gz (12 kB)\r\n",
      "\u001b[33mWARNING: Discarding https://files.pythonhosted.org/packages/76/56/79d74f25b326d8719753172496abc524980fa67d1d98bb247021376e370a/tensorflow-determinism-0.3.0.tar.gz#sha256=563316b785614df300bbdec9b3c45a94d212761aec796cf1aafcbb2f69fdeb01 (from https://pypi.org/simple/tensorflow-determinism/). Requested tensorflow-determinism from https://files.pythonhosted.org/packages/76/56/79d74f25b326d8719753172496abc524980fa67d1d98bb247021376e370a/tensorflow-determinism-0.3.0.tar.gz#sha256=563316b785614df300bbdec9b3c45a94d212761aec796cf1aafcbb2f69fdeb01 has inconsistent version: filename has '0.3.0', but metadata has '0.4.1'\u001b[0m\r\n",
      "  Downloading tensorflow-determinism-0.2.0.tar.gz (10 kB)\r\n",
      "\u001b[33mWARNING: Discarding https://files.pythonhosted.org/packages/9b/28/4aa0d8f183d13d3477626e931a3363651bb8e291165d58962a39c57ae7fb/tensorflow-determinism-0.2.0.tar.gz#sha256=1e364b142acd96ec8a8fca6dee32ef04e1c5f5ca20bd83fc9ec37f7dbf2fb5b5 (from https://pypi.org/simple/tensorflow-determinism/). Requested tensorflow-determinism from https://files.pythonhosted.org/packages/9b/28/4aa0d8f183d13d3477626e931a3363651bb8e291165d58962a39c57ae7fb/tensorflow-determinism-0.2.0.tar.gz#sha256=1e364b142acd96ec8a8fca6dee32ef04e1c5f5ca20bd83fc9ec37f7dbf2fb5b5 has inconsistent version: filename has '0.2.0', but metadata has '0.4.1'\u001b[0m\r\n",
      "  Downloading tensorflow-determinism-0.1.0.tar.gz (7.2 kB)\r\n",
      "Building wheels for collected packages: tensorflow-determinism\r\n",
      "  Building wheel for tensorflow-determinism (setup.py) ... \u001b[?25l-\b \b\\\b \bdone\r\n",
      "\u001b[?25h  Created wheel for tensorflow-determinism: filename=tensorflow_determinism-0.1.0-py3-none-any.whl size=5255 sha256=8db01ab68bd7a472c89597e4e3085803c9ff6cba268596aff4ac31364a65438b\r\n",
      "  Stored in directory: /root/.cache/pip/wheels/ce/06/d4/df757adc4c81f705a74a0317c27cf19919ccd25ae2a6ecd2c5\r\n",
      "Successfully built tensorflow-determinism\r\n",
      "Installing collected packages: tensorflow-determinism\r\n",
      "Successfully installed tensorflow-determinism-0.1.0\r\n"
     ]
    }
   ],
   "source": [
    "# credit: https://www.kaggle.com/kokitanisaka/lstm-by-keras-with-unified-wi-fi-feats\n",
    "!pip install tensorflow-determinism"
   ]
  },
  {
   "cell_type": "code",
   "execution_count": 2,
   "id": "systematic-soccer",
   "metadata": {
    "execution": {
     "iopub.execute_input": "2021-04-12T14:04:36.672220Z",
     "iopub.status.busy": "2021-04-12T14:04:36.671412Z",
     "iopub.status.idle": "2021-04-12T14:05:27.022715Z",
     "shell.execute_reply": "2021-04-12T14:05:27.022001Z"
    },
    "papermill": {
     "duration": 50.380267,
     "end_time": "2021-04-12T14:05:27.022894",
     "exception": false,
     "start_time": "2021-04-12T14:04:36.642627",
     "status": "completed"
    },
    "tags": []
   },
   "outputs": [
    {
     "name": "stdout",
     "output_type": "stream",
     "text": [
      "Cloning into 'indoor_location_competition_20'...\r\n",
      "remote: Enumerating objects: 1169, done.\u001b[K\r\n",
      "remote: Counting objects: 100% (1169/1169), done.\u001b[K\r\n",
      "remote: Compressing objects: 100% (1131/1131), done.\u001b[K\r\n",
      "remote: Total 1169 (delta 38), reused 1167 (delta 38), pack-reused 0\u001b[K\r\n",
      "Receiving objects: 100% (1169/1169), 411.37 MiB | 11.65 MiB/s, done.\r\n",
      "Resolving deltas: 100% (38/38), done.\r\n",
      "Checking out files: 100% (1145/1145), done.\r\n"
     ]
    }
   ],
   "source": [
    "!git clone --depth 1 https://github.com/location-competition/indoor-location-competition-20 indoor_location_competition_20\n",
    "!rm -rf indoor_location_competition_20/data"
   ]
  },
  {
   "cell_type": "code",
   "execution_count": 3,
   "id": "fewer-uganda",
   "metadata": {
    "execution": {
     "iopub.execute_input": "2021-04-12T14:05:41.813629Z",
     "iopub.status.busy": "2021-04-12T14:05:41.813064Z",
     "iopub.status.idle": "2021-04-12T14:05:46.931314Z",
     "shell.execute_reply": "2021-04-12T14:05:46.930197Z"
    },
    "papermill": {
     "duration": 19.742312,
     "end_time": "2021-04-12T14:05:46.931473",
     "exception": false,
     "start_time": "2021-04-12T14:05:27.189161",
     "status": "completed"
    },
    "tags": []
   },
   "outputs": [],
   "source": [
    "import numpy as np\n",
    "import pandas as pd\n",
    "import scipy.stats as stats\n",
    "from pathlib import Path\n",
    "import glob\n",
    "import pickle\n",
    "\n",
    "import random\n",
    "import os\n",
    "\n",
    "from tqdm.notebook import tqdm\n",
    "\n",
    "from sklearn.model_selection import StratifiedKFold\n",
    "from sklearn.preprocessing import StandardScaler, LabelEncoder\n",
    "\n",
    "import tensorflow as tf\n",
    "import tensorflow.keras.layers as L\n",
    "import tensorflow.keras.models as M\n",
    "import tensorflow.keras.backend as K\n",
    "import tensorflow_addons as tfa\n",
    "from tensorflow_addons.layers import WeightNormalization\n",
    "from tensorflow.keras.callbacks import ReduceLROnPlateau, ModelCheckpoint, EarlyStopping\n",
    "\n",
    "from tensorflow.keras.layers import *\n",
    "from tensorflow.keras.models import *\n",
    "from tensorflow.keras.layers import *\n",
    "from tensorflow.keras.optimizers import *\n",
    "from tensorflow.keras.metrics import *\n",
    "from tensorflow.keras.utils import *\n",
    "from tensorflow.keras.callbacks import *\n",
    "\n",
    "import multiprocessing\n",
    "import scipy.interpolate\n",
    "import scipy.sparse\n",
    "from tqdm import tqdm\n",
    "\n",
    "from indoor_location_competition_20.io_f import read_data_file\n",
    "import indoor_location_competition_20.compute_f as compute_f\n",
    "\n",
    "from scipy.spatial.distance import cdist\n",
    "\n",
    "import warnings\n",
    "warnings.filterwarnings(\"ignore\")"
   ]
  },
  {
   "cell_type": "code",
   "execution_count": 4,
   "id": "utility-engineer",
   "metadata": {
    "execution": {
     "iopub.execute_input": "2021-04-12T14:05:47.096034Z",
     "iopub.status.busy": "2021-04-12T14:05:47.095318Z",
     "iopub.status.idle": "2021-04-12T14:05:47.097891Z",
     "shell.execute_reply": "2021-04-12T14:05:47.098267Z"
    },
    "papermill": {
     "duration": 0.086843,
     "end_time": "2021-04-12T14:05:47.098404",
     "exception": false,
     "start_time": "2021-04-12T14:05:47.011561",
     "status": "completed"
    },
    "tags": []
   },
   "outputs": [],
   "source": [
    "# options\n",
    "N_SPLITS = 5\n",
    "SEED = 2021\n",
    "NUM_FEATS = 30 # number of features that we use. there are 100 feats but we don't need to use all of them\n",
    "base_path = '/kaggle'"
   ]
  },
  {
   "cell_type": "code",
   "execution_count": 5,
   "id": "progressive-integrity",
   "metadata": {
    "execution": {
     "iopub.execute_input": "2021-04-12T14:05:47.266288Z",
     "iopub.status.busy": "2021-04-12T14:05:47.265579Z",
     "iopub.status.idle": "2021-04-12T14:05:47.268534Z",
     "shell.execute_reply": "2021-04-12T14:05:47.268084Z"
    },
    "papermill": {
     "duration": 0.090471,
     "end_time": "2021-04-12T14:05:47.268641",
     "exception": false,
     "start_time": "2021-04-12T14:05:47.178170",
     "status": "completed"
    },
    "tags": []
   },
   "outputs": [],
   "source": [
    "def set_seed(seed=42):\n",
    "    random.seed(seed)\n",
    "    os.environ['PYTHONHASHSEED'] = str(seed)\n",
    "    os.environ['TF_DETERMINISTIC_OPS'] = '1'\n",
    "    np.random.seed(seed)\n",
    "    tf.random.set_seed(seed)\n",
    "    session_conf = tf.compat.v1.ConfigProto(\n",
    "        intra_op_parallelism_threads=1,\n",
    "        inter_op_parallelism_threads=1\n",
    "    )\n",
    "    sess = tf.compat.v1.Session(graph=tf.compat.v1.get_default_graph(), config=session_conf)\n",
    "    tf.compat.v1.keras.backend.set_session(sess)\n",
    "    \n",
    "def comp_metric(xhat, yhat, fhat, x, y, f):\n",
    "    intermediate = np.sqrt(np.power(xhat-x, 2) + np.power(yhat-y, 2)) + 15 * np.abs(fhat-f)\n",
    "    return intermediate.sum()/xhat.shape[0]\n",
    "\n",
    "def xy_comp_metric(xhat, yhat, x, y):\n",
    "    intermediate = np.sqrt(np.power(xhat-x, 2) + np.power(yhat-y, 2))\n",
    "    return intermediate.sum()/xhat.shape[0]"
   ]
  },
  {
   "cell_type": "code",
   "execution_count": 6,
   "id": "loving-bhutan",
   "metadata": {
    "execution": {
     "iopub.execute_input": "2021-04-12T14:05:47.433801Z",
     "iopub.status.busy": "2021-04-12T14:05:47.433243Z",
     "iopub.status.idle": "2021-04-12T14:05:47.516252Z",
     "shell.execute_reply": "2021-04-12T14:05:47.515791Z"
    },
    "papermill": {
     "duration": 0.167791,
     "end_time": "2021-04-12T14:05:47.516366",
     "exception": false,
     "start_time": "2021-04-12T14:05:47.348575",
     "status": "completed"
    },
    "tags": []
   },
   "outputs": [],
   "source": [
    "feature_dir = f\"{base_path}/input/indooruniteddataset\"\n",
    "train_files = sorted(glob.glob(os.path.join(feature_dir, '*_train.csv')))\n",
    "test_files = sorted(glob.glob(os.path.join(feature_dir, '*_test.csv')))\n",
    "subm = pd.read_csv(f'{base_path}/input/indoor-location-navigation/sample_submission.csv', index_col=0)\n",
    "\n",
    "all_sites = sorted(set(pd.DataFrame(subm.index)[\"site_path_timestamp\"].apply(lambda x: x.split(\"_\")[0])))"
   ]
  },
  {
   "cell_type": "code",
   "execution_count": 7,
   "id": "changing-terror",
   "metadata": {
    "execution": {
     "iopub.execute_input": "2021-04-12T14:05:47.687401Z",
     "iopub.status.busy": "2021-04-12T14:05:47.686885Z",
     "iopub.status.idle": "2021-04-12T14:05:48.223384Z",
     "shell.execute_reply": "2021-04-12T14:05:48.222318Z"
    },
    "papermill": {
     "duration": 0.626746,
     "end_time": "2021-04-12T14:05:48.223575",
     "exception": false,
     "start_time": "2021-04-12T14:05:47.596829",
     "status": "completed"
    },
    "tags": []
   },
   "outputs": [],
   "source": [
    "floor_train_pred = pd.read_csv(f'{base_path}/input/indoorlgbfloor/floor_prediction_in_train.csv')\n",
    "floor_train_only_pred = pd.read_csv(f'{base_path}/input/indoorlgbfloor/floor_prediction_in_train_only.csv')\n",
    "floor_test_pred = pd.read_csv(f'{base_path}/input/indoorlgbfloor/submission.csv')"
   ]
  },
  {
   "cell_type": "code",
   "execution_count": 8,
   "id": "agreed-chrome",
   "metadata": {
    "execution": {
     "iopub.execute_input": "2021-04-12T14:05:48.390415Z",
     "iopub.status.busy": "2021-04-12T14:05:48.389592Z",
     "iopub.status.idle": "2021-04-12T14:05:48.391770Z",
     "shell.execute_reply": "2021-04-12T14:05:48.392137Z"
    },
    "papermill": {
     "duration": 0.087019,
     "end_time": "2021-04-12T14:05:48.392269",
     "exception": false,
     "start_time": "2021-04-12T14:05:48.305250",
     "status": "completed"
    },
    "tags": []
   },
   "outputs": [],
   "source": [
    "# training target features\n",
    "BSSID_FEATS = [f'bssid_{i}' for i in range(NUM_FEATS)]\n",
    "RSSI_FEATS  = [f'rssi_{i}' for i in range(NUM_FEATS)]"
   ]
  },
  {
   "cell_type": "code",
   "execution_count": 9,
   "id": "recorded-bruce",
   "metadata": {
    "execution": {
     "iopub.execute_input": "2021-04-12T14:05:48.635021Z",
     "iopub.status.busy": "2021-04-12T14:05:48.631192Z",
     "iopub.status.idle": "2021-04-12T14:06:15.340737Z",
     "shell.execute_reply": "2021-04-12T14:06:15.340239Z"
    },
    "papermill": {
     "duration": 26.853486,
     "end_time": "2021-04-12T14:06:15.340862",
     "exception": false,
     "start_time": "2021-04-12T14:05:48.487376",
     "status": "completed"
    },
    "tags": []
   },
   "outputs": [
    {
     "name": "stderr",
     "output_type": "stream",
     "text": [
      "100%|██████████| 48/48 [00:23<00:00,  2.00it/s]\n",
      "100%|██████████| 24/24 [00:01<00:00, 22.97it/s]\n"
     ]
    }
   ],
   "source": [
    "data = []\n",
    "for i in tqdm(train_files):\n",
    "    tmp = pd.read_csv(i)\n",
    "    tmp[\"site_id\"] = i.split(\"/\")[4].split(\"_\")[0]\n",
    "    data.append(tmp)\n",
    "data = pd.concat(data).reset_index(drop=True)\n",
    "\n",
    "test_data = []\n",
    "for i in tqdm(test_files):\n",
    "    tmp = pd.read_csv(i)\n",
    "    tmp[\"site_id\"] = i.split(\"/\")[4].split(\"_\")[0]\n",
    "    test_data.append(tmp)\n",
    "test_data = pd.concat(test_data).reset_index(drop=True)"
   ]
  },
  {
   "cell_type": "code",
   "execution_count": 10,
   "id": "alternative-auckland",
   "metadata": {
    "execution": {
     "iopub.execute_input": "2021-04-12T14:06:15.535678Z",
     "iopub.status.busy": "2021-04-12T14:06:15.535093Z",
     "iopub.status.idle": "2021-04-12T14:06:15.538852Z",
     "shell.execute_reply": "2021-04-12T14:06:15.539231Z"
    },
    "papermill": {
     "duration": 0.103213,
     "end_time": "2021-04-12T14:06:15.539366",
     "exception": false,
     "start_time": "2021-04-12T14:06:15.436153",
     "status": "completed"
    },
    "tags": []
   },
   "outputs": [],
   "source": [
    "#train_only_index = data[~data.site_id.isin(all_sites)].index\n",
    "#normal_index = data[data.site_id.isin(all_sites)].index\n",
    "#assert len(set(train_only_index) & set(normal_index)) == 0"
   ]
  },
  {
   "cell_type": "code",
   "execution_count": 11,
   "id": "mysterious-offer",
   "metadata": {
    "execution": {
     "iopub.execute_input": "2021-04-12T14:06:15.811577Z",
     "iopub.status.busy": "2021-04-12T14:06:15.770972Z",
     "iopub.status.idle": "2021-04-12T14:06:17.047558Z",
     "shell.execute_reply": "2021-04-12T14:06:17.046881Z"
    },
    "papermill": {
     "duration": 1.410978,
     "end_time": "2021-04-12T14:06:17.047738",
     "exception": false,
     "start_time": "2021-04-12T14:06:15.636760",
     "status": "completed"
    },
    "tags": []
   },
   "outputs": [
    {
     "name": "stdout",
     "output_type": "stream",
     "text": [
      "BSSID TYPES: 54067\n",
      "BSSID TYPES: 25654\n"
     ]
    }
   ],
   "source": [
    "wifi_feat_nums = 60\n",
    "wifi_bssids = []\n",
    "for i in range(wifi_feat_nums):\n",
    "    wifi_bssids.extend(data.iloc[:,i].values.tolist())\n",
    "wifi_bssids = list(set(wifi_bssids))\n",
    "\n",
    "wifi_bssids_size = len(wifi_bssids)\n",
    "print(f'BSSID TYPES: {wifi_bssids_size}')\n",
    "\n",
    "wifi_bssids_test = []\n",
    "for i in range(wifi_feat_nums):\n",
    "    wifi_bssids_test.extend(test_data.iloc[:,i].values.tolist())\n",
    "wifi_bssids_test = list(set(wifi_bssids_test))\n",
    "\n",
    "wifi_bssids_size = len(wifi_bssids_test)\n",
    "print(f'BSSID TYPES: {wifi_bssids_size}')\n",
    "\n",
    "wifi_bssids.extend(wifi_bssids_test)\n",
    "wifi_bssids_size = len(wifi_bssids)"
   ]
  },
  {
   "cell_type": "code",
   "execution_count": 12,
   "id": "canadian-capture",
   "metadata": {
    "execution": {
     "iopub.execute_input": "2021-04-12T14:06:17.275707Z",
     "iopub.status.busy": "2021-04-12T14:06:17.274809Z",
     "iopub.status.idle": "2021-04-12T14:06:18.297288Z",
     "shell.execute_reply": "2021-04-12T14:06:18.297782Z"
    },
    "papermill": {
     "duration": 1.1494,
     "end_time": "2021-04-12T14:06:18.297931",
     "exception": false,
     "start_time": "2021-04-12T14:06:17.148531",
     "status": "completed"
    },
    "tags": []
   },
   "outputs": [
    {
     "data": {
      "text/plain": [
       "StandardScaler()"
      ]
     },
     "execution_count": 12,
     "metadata": {},
     "output_type": "execute_result"
    }
   ],
   "source": [
    "# preprocess\n",
    "\n",
    "le = LabelEncoder()\n",
    "le.fit(wifi_bssids)\n",
    "le_site = LabelEncoder()\n",
    "le_site.fit(data['site_id'])\n",
    "\n",
    "ss = StandardScaler()\n",
    "ss.fit(data.loc[:,RSSI_FEATS+['floor']])"
   ]
  },
  {
   "cell_type": "code",
   "execution_count": 13,
   "id": "industrial-venture",
   "metadata": {
    "execution": {
     "iopub.execute_input": "2021-04-12T14:06:18.519581Z",
     "iopub.status.busy": "2021-04-12T14:06:18.518348Z",
     "iopub.status.idle": "2021-04-12T14:06:42.233650Z",
     "shell.execute_reply": "2021-04-12T14:06:42.233149Z"
    },
    "papermill": {
     "duration": 23.839287,
     "end_time": "2021-04-12T14:06:42.233791",
     "exception": false,
     "start_time": "2021-04-12T14:06:18.394504",
     "status": "completed"
    },
    "tags": []
   },
   "outputs": [],
   "source": [
    "data.loc[:,RSSI_FEATS+['floor']] = ss.transform(data.loc[:,RSSI_FEATS+['floor']])\n",
    "for i in BSSID_FEATS:\n",
    "    data.loc[:,i] = le.transform(data.loc[:,i])\n",
    "    \n",
    "data.loc[:, 'site_id'] = le_site.transform(data.loc[:, 'site_id'])\n",
    "\n",
    "data.loc[:,RSSI_FEATS+['floor']] = ss.transform(data.loc[:,RSSI_FEATS+['floor']])"
   ]
  },
  {
   "cell_type": "code",
   "execution_count": 14,
   "id": "enclosed-original",
   "metadata": {
    "execution": {
     "iopub.execute_input": "2021-04-12T14:06:42.432641Z",
     "iopub.status.busy": "2021-04-12T14:06:42.431874Z",
     "iopub.status.idle": "2021-04-12T14:06:42.445160Z",
     "shell.execute_reply": "2021-04-12T14:06:42.444728Z"
    },
    "papermill": {
     "duration": 0.115957,
     "end_time": "2021-04-12T14:06:42.445278",
     "exception": false,
     "start_time": "2021-04-12T14:06:42.329321",
     "status": "completed"
    },
    "tags": []
   },
   "outputs": [],
   "source": [
    "lgb_pred = pd.read_csv('../input/indoorlgbfloor/submission.csv')\n",
    "test_data['floor'] = lgb_pred['floor'].values"
   ]
  },
  {
   "cell_type": "code",
   "execution_count": 15,
   "id": "blessed-asset",
   "metadata": {
    "execution": {
     "iopub.execute_input": "2021-04-12T14:06:42.652934Z",
     "iopub.status.busy": "2021-04-12T14:06:42.651989Z",
     "iopub.status.idle": "2021-04-12T14:06:46.141229Z",
     "shell.execute_reply": "2021-04-12T14:06:46.140776Z"
    },
    "papermill": {
     "duration": 3.593472,
     "end_time": "2021-04-12T14:06:46.141357",
     "exception": false,
     "start_time": "2021-04-12T14:06:42.547885",
     "status": "completed"
    },
    "tags": []
   },
   "outputs": [],
   "source": [
    "test_data.loc[:,RSSI_FEATS+['floor']] = ss.transform(test_data.loc[:,RSSI_FEATS+['floor']])\n",
    "for i in BSSID_FEATS:\n",
    "    test_data.loc[:,i] = le.transform(test_data.loc[:,i])\n",
    "    \n",
    "test_data.loc[:, 'site_id'] = le_site.transform(test_data.loc[:, 'site_id'])\n",
    "\n",
    "test_data.loc[:,RSSI_FEATS+['floor']] = ss.transform(test_data.loc[:,RSSI_FEATS+['floor']])"
   ]
  },
  {
   "cell_type": "code",
   "execution_count": 16,
   "id": "tutorial-convenience",
   "metadata": {
    "execution": {
     "iopub.execute_input": "2021-04-12T14:06:46.338485Z",
     "iopub.status.busy": "2021-04-12T14:06:46.337752Z",
     "iopub.status.idle": "2021-04-12T14:06:46.342920Z",
     "shell.execute_reply": "2021-04-12T14:06:46.342481Z"
    },
    "papermill": {
     "duration": 0.106292,
     "end_time": "2021-04-12T14:06:46.343028",
     "exception": false,
     "start_time": "2021-04-12T14:06:46.236736",
     "status": "completed"
    },
    "tags": []
   },
   "outputs": [],
   "source": [
    "site_count = len(data['site_id'].unique())\n",
    "data.reset_index(drop=True, inplace=True)"
   ]
  },
  {
   "cell_type": "code",
   "execution_count": 17,
   "id": "after-merchant",
   "metadata": {
    "execution": {
     "iopub.execute_input": "2021-04-12T14:06:46.539263Z",
     "iopub.status.busy": "2021-04-12T14:06:46.538747Z",
     "iopub.status.idle": "2021-04-12T14:06:49.032496Z",
     "shell.execute_reply": "2021-04-12T14:06:49.031980Z"
    },
    "papermill": {
     "duration": 2.593429,
     "end_time": "2021-04-12T14:06:49.032650",
     "exception": false,
     "start_time": "2021-04-12T14:06:46.439221",
     "status": "completed"
    },
    "tags": []
   },
   "outputs": [],
   "source": [
    "set_seed(SEED)"
   ]
  },
  {
   "cell_type": "code",
   "execution_count": 18,
   "id": "thick-arthritis",
   "metadata": {
    "execution": {
     "iopub.execute_input": "2021-04-12T14:06:49.227988Z",
     "iopub.status.busy": "2021-04-12T14:06:49.227252Z",
     "iopub.status.idle": "2021-04-12T14:06:49.230033Z",
     "shell.execute_reply": "2021-04-12T14:06:49.229465Z"
    },
    "papermill": {
     "duration": 0.101694,
     "end_time": "2021-04-12T14:06:49.230163",
     "exception": false,
     "start_time": "2021-04-12T14:06:49.128469",
     "status": "completed"
    },
    "tags": []
   },
   "outputs": [],
   "source": [
    "#train_only_data = data[data.index.isin(train_only_index)].copy().reset_index(drop=True)\n",
    "#data = data[data.index.isin(normal_index)].copy().reset_index(drop=True)\n",
    "#data.shape, train_only_data.shape"
   ]
  },
  {
   "cell_type": "markdown",
   "id": "frank-reach",
   "metadata": {
    "papermill": {
     "duration": 0.095406,
     "end_time": "2021-04-12T14:06:49.420947",
     "exception": false,
     "start_time": "2021-04-12T14:06:49.325541",
     "status": "completed"
    },
    "tags": []
   },
   "source": [
    "# model"
   ]
  },
  {
   "cell_type": "code",
   "execution_count": 19,
   "id": "magnetic-tower",
   "metadata": {
    "execution": {
     "iopub.execute_input": "2021-04-12T14:06:49.628562Z",
     "iopub.status.busy": "2021-04-12T14:06:49.627983Z",
     "iopub.status.idle": "2021-04-12T14:06:49.632074Z",
     "shell.execute_reply": "2021-04-12T14:06:49.631668Z"
    },
    "papermill": {
     "duration": 0.103879,
     "end_time": "2021-04-12T14:06:49.632188",
     "exception": false,
     "start_time": "2021-04-12T14:06:49.528309",
     "status": "completed"
    },
    "tags": []
   },
   "outputs": [],
   "source": [
    "num_heads = 8\n",
    "bssid_embed_dim = 64\n",
    "site_embed_dim = 2\n",
    "ff_dim = 128 \n",
    "DROPOUT = 0.2\n",
    "maxlen = NUM_FEATS\n",
    "batch_size=256\n",
    "epochs= 40"
   ]
  },
  {
   "cell_type": "code",
   "execution_count": 20,
   "id": "substantial-recognition",
   "metadata": {
    "execution": {
     "iopub.execute_input": "2021-04-12T14:06:49.833967Z",
     "iopub.status.busy": "2021-04-12T14:06:49.833246Z",
     "iopub.status.idle": "2021-04-12T14:06:49.836736Z",
     "shell.execute_reply": "2021-04-12T14:06:49.837107Z"
    },
    "papermill": {
     "duration": 0.109646,
     "end_time": "2021-04-12T14:06:49.837253",
     "exception": false,
     "start_time": "2021-04-12T14:06:49.727607",
     "status": "completed"
    },
    "tags": []
   },
   "outputs": [],
   "source": [
    "class TransformerBlock(Layer):\n",
    "    def __init__(self, embed_dim, num_heads, ff_dim, rate=DROPOUT):\n",
    "        super(TransformerBlock, self).__init__()\n",
    "        self.att = MultiHeadAttention(num_heads=num_heads, key_dim=embed_dim)\n",
    "        self.ffn = Sequential(\n",
    "            [Dense(ff_dim, activation=\"relu\"), Dense(embed_dim),]\n",
    "        )\n",
    "        self.layernorm1 = LayerNormalization(epsilon=1e-6)\n",
    "        self.layernorm2 = LayerNormalization(epsilon=1e-6)\n",
    "        self.dropout1 = Dropout(rate)\n",
    "        self.dropout2 = Dropout(rate)\n",
    "\n",
    "    def call(self, inputs, training):\n",
    "        attn_output = self.att(inputs, inputs)\n",
    "        attn_output = self.dropout1(attn_output, training=training)\n",
    "        out1 = self.layernorm1(inputs + attn_output)\n",
    "        ffn_output = self.ffn(out1)\n",
    "        ffn_output = self.dropout2(ffn_output, training=training)\n",
    "        return self.layernorm2(out1 + ffn_output)\n",
    "    \n",
    "class TokenAndPositionEmbedding(Layer):\n",
    "    def __init__(self, maxlen, vocab_size, embed_dim):\n",
    "        super(TokenAndPositionEmbedding, self).__init__()\n",
    "        self.token_emb = Embedding(input_dim=vocab_size, output_dim=embed_dim, mask_zero=True)\n",
    "        self.pos_emb = Embedding(input_dim=maxlen, output_dim=embed_dim)\n",
    "\n",
    "    def call(self, x):\n",
    "        maxlen = tf.shape(x)[-1]\n",
    "        positions = tf.range(start=0, limit=maxlen, delta=1)\n",
    "        positions = self.pos_emb(positions)\n",
    "        x = self.token_emb(x)\n",
    "        return x + positions"
   ]
  },
  {
   "cell_type": "code",
   "execution_count": 21,
   "id": "isolated-yesterday",
   "metadata": {
    "execution": {
     "iopub.execute_input": "2021-04-12T14:06:50.044008Z",
     "iopub.status.busy": "2021-04-12T14:06:50.040905Z",
     "iopub.status.idle": "2021-04-12T14:06:50.046923Z",
     "shell.execute_reply": "2021-04-12T14:06:50.046490Z"
    },
    "papermill": {
     "duration": 0.11303,
     "end_time": "2021-04-12T14:06:50.047036",
     "exception": false,
     "start_time": "2021-04-12T14:06:49.934006",
     "status": "completed"
    },
    "tags": []
   },
   "outputs": [],
   "source": [
    "def create_model(input_data):\n",
    "\n",
    "    # bssid feats\n",
    "    input_dim = input_data[0].shape[1]\n",
    "\n",
    "    input_embd_layer = L.Input(shape=(input_dim,))\n",
    "    x1 = L.Embedding(wifi_bssids_size, bssid_embed_dim)(input_embd_layer)\n",
    "    x1 = L.Flatten()(x1)\n",
    "\n",
    "    # rssi feats\n",
    "    input_dim = input_data[1].shape[1]\n",
    "\n",
    "    input_layer = L.Input(input_dim, )\n",
    "    x2 = L.BatchNormalization()(input_layer)\n",
    "    x2 = L.Dense(NUM_FEATS * 64, activation='relu')(x2)\n",
    "\n",
    "    # site\n",
    "    input_site_layer = L.Input(shape=(1,))\n",
    "    x3 = L.Embedding(site_count, site_embed_dim)(input_site_layer)\n",
    "    x3 = L.Flatten()(x3)\n",
    "\n",
    "    \n",
    "    # main stream\n",
    "    x = L.Concatenate(axis=1)([x1, x3, x2])\n",
    "\n",
    "    x = L.BatchNormalization()(x)\n",
    "    x = L.Dropout(0.3)(x)\n",
    "    x = L.Dense(256, activation='relu')(x)\n",
    "\n",
    "    x = L.Reshape((1, -1))(x)\n",
    "    x = L.BatchNormalization()(x)\n",
    "    x = L.LSTM(128, dropout=0.3, recurrent_dropout=0.3, return_sequences=True, activation='relu')(x)\n",
    "    x = L.LSTM(16, dropout=0.1, return_sequences=False, activation='relu')(x)\n",
    "    \n",
    "    output_layer_1 = L.Dense(2, name='xy')(x)\n",
    "    output_layer_2 = L.Dense(1, activation='softmax', name='floor')(x)\n",
    "\n",
    "    model = M.Model([input_embd_layer, input_layer, input_site_layer], \n",
    "                    [output_layer_1, output_layer_2])\n",
    "\n",
    "    model.compile(optimizer=tf.optimizers.Adam(lr=0.002),\n",
    "                  loss='mse', metrics=['mse'])\n",
    "\n",
    "    return model"
   ]
  },
  {
   "cell_type": "code",
   "execution_count": 22,
   "id": "specific-oasis",
   "metadata": {
    "execution": {
     "iopub.execute_input": "2021-04-12T14:06:50.271999Z",
     "iopub.status.busy": "2021-04-12T14:06:50.271081Z",
     "iopub.status.idle": "2021-04-12T16:30:05.399786Z",
     "shell.execute_reply": "2021-04-12T16:30:05.398911Z"
    },
    "papermill": {
     "duration": 8595.252422,
     "end_time": "2021-04-12T16:30:05.399941",
     "exception": false,
     "start_time": "2021-04-12T14:06:50.147519",
     "status": "completed"
    },
    "tags": []
   },
   "outputs": [
    {
     "name": "stdout",
     "output_type": "stream",
     "text": [
      "Epoch 1/40\n",
      "1115/1115 [==============================] - 79s 66ms/step - loss: 2029.9581 - xy_loss: 2026.7567 - floor_loss: 3.2008 - xy_mse: 2026.7567 - floor_mse: 3.2008 - val_loss: 107.2913 - val_xy_loss: 104.0840 - val_floor_loss: 3.2073 - val_xy_mse: 104.0840 - val_floor_mse: 3.2073\n",
      "\n",
      "Epoch 00001: val_xy_loss improved from inf to 104.08403, saving model to /kaggle/RNN_2021_0.hdf5\n",
      "Epoch 2/40\n",
      "1115/1115 [==============================] - 74s 66ms/step - loss: 181.8986 - xy_loss: 178.6926 - floor_loss: 3.2061 - xy_mse: 178.6926 - floor_mse: 3.2061 - val_loss: 65.9926 - val_xy_loss: 62.7854 - val_floor_loss: 3.2073 - val_xy_mse: 62.7854 - val_floor_mse: 3.2073\n",
      "\n",
      "Epoch 00002: val_xy_loss improved from 104.08403 to 62.78540, saving model to /kaggle/RNN_2021_0.hdf5\n",
      "Epoch 3/40\n",
      "1115/1115 [==============================] - 75s 67ms/step - loss: 150.7213 - xy_loss: 147.5088 - floor_loss: 3.2125 - xy_mse: 147.5088 - floor_mse: 3.2125 - val_loss: 55.5269 - val_xy_loss: 52.3196 - val_floor_loss: 3.2073 - val_xy_mse: 52.3196 - val_floor_mse: 3.2073\n",
      "\n",
      "Epoch 00003: val_xy_loss improved from 62.78540 to 52.31964, saving model to /kaggle/RNN_2021_0.hdf5\n",
      "Epoch 4/40\n",
      "1115/1115 [==============================] - 74s 66ms/step - loss: 131.4823 - xy_loss: 128.2761 - floor_loss: 3.2061 - xy_mse: 128.2761 - floor_mse: 3.2061 - val_loss: 60.5923 - val_xy_loss: 57.3850 - val_floor_loss: 3.2073 - val_xy_mse: 57.3850 - val_floor_mse: 3.2073\n",
      "\n",
      "Epoch 00004: val_xy_loss did not improve from 52.31964\n",
      "Epoch 5/40\n",
      "1115/1115 [==============================] - 74s 67ms/step - loss: 116.6850 - xy_loss: 113.4754 - floor_loss: 3.2096 - xy_mse: 113.4754 - floor_mse: 3.2096 - val_loss: 46.8579 - val_xy_loss: 43.6506 - val_floor_loss: 3.2073 - val_xy_mse: 43.6506 - val_floor_mse: 3.2073\n",
      "\n",
      "Epoch 00005: val_xy_loss improved from 52.31964 to 43.65059, saving model to /kaggle/RNN_2021_0.hdf5\n",
      "Epoch 6/40\n",
      "1115/1115 [==============================] - 78s 70ms/step - loss: 105.7054 - xy_loss: 102.4950 - floor_loss: 3.2103 - xy_mse: 102.4950 - floor_mse: 3.2103 - val_loss: 46.7822 - val_xy_loss: 43.5750 - val_floor_loss: 3.2073 - val_xy_mse: 43.5750 - val_floor_mse: 3.2073\n",
      "\n",
      "Epoch 00006: val_xy_loss improved from 43.65059 to 43.57497, saving model to /kaggle/RNN_2021_0.hdf5\n",
      "Epoch 7/40\n",
      "1115/1115 [==============================] - 77s 69ms/step - loss: 95.2624 - xy_loss: 92.0559 - floor_loss: 3.2064 - xy_mse: 92.0559 - floor_mse: 3.2064 - val_loss: 39.7791 - val_xy_loss: 36.5718 - val_floor_loss: 3.2073 - val_xy_mse: 36.5718 - val_floor_mse: 3.2073\n",
      "\n",
      "Epoch 00007: val_xy_loss improved from 43.57497 to 36.57183, saving model to /kaggle/RNN_2021_0.hdf5\n",
      "Epoch 8/40\n",
      "1115/1115 [==============================] - 76s 68ms/step - loss: 84.9996 - xy_loss: 81.7930 - floor_loss: 3.2066 - xy_mse: 81.7930 - floor_mse: 3.2066 - val_loss: 48.0399 - val_xy_loss: 44.8327 - val_floor_loss: 3.2073 - val_xy_mse: 44.8327 - val_floor_mse: 3.2073\n",
      "\n",
      "Epoch 00008: val_xy_loss did not improve from 36.57183\n",
      "Epoch 9/40\n",
      "1115/1115 [==============================] - 77s 69ms/step - loss: 77.9167 - xy_loss: 74.7094 - floor_loss: 3.2074 - xy_mse: 74.7094 - floor_mse: 3.2074 - val_loss: 40.1094 - val_xy_loss: 36.9022 - val_floor_loss: 3.2073 - val_xy_mse: 36.9022 - val_floor_mse: 3.2073\n",
      "\n",
      "Epoch 00009: val_xy_loss did not improve from 36.57183\n",
      "Epoch 10/40\n",
      "1115/1115 [==============================] - 74s 66ms/step - loss: 70.0067 - xy_loss: 66.7981 - floor_loss: 3.2085 - xy_mse: 66.7981 - floor_mse: 3.2085 - val_loss: 36.5218 - val_xy_loss: 33.3145 - val_floor_loss: 3.2073 - val_xy_mse: 33.3145 - val_floor_mse: 3.2073\n",
      "\n",
      "Epoch 00010: val_xy_loss improved from 36.57183 to 33.31450, saving model to /kaggle/RNN_2021_0.hdf5\n",
      "Epoch 11/40\n",
      "1115/1115 [==============================] - 76s 69ms/step - loss: 63.6199 - xy_loss: 60.4074 - floor_loss: 3.2125 - xy_mse: 60.4074 - floor_mse: 3.2125 - val_loss: 38.8638 - val_xy_loss: 35.6565 - val_floor_loss: 3.2073 - val_xy_mse: 35.6565 - val_floor_mse: 3.2073\n",
      "\n",
      "Epoch 00011: val_xy_loss did not improve from 33.31450\n",
      "Epoch 12/40\n",
      "1115/1115 [==============================] - 77s 69ms/step - loss: 57.6592 - xy_loss: 54.4592 - floor_loss: 3.1999 - xy_mse: 54.4592 - floor_mse: 3.1999 - val_loss: 37.9944 - val_xy_loss: 34.7871 - val_floor_loss: 3.2073 - val_xy_mse: 34.7871 - val_floor_mse: 3.2073\n",
      "\n",
      "Epoch 00012: val_xy_loss did not improve from 33.31450\n",
      "Epoch 13/40\n",
      "1115/1115 [==============================] - 85s 76ms/step - loss: 54.2791 - xy_loss: 51.0714 - floor_loss: 3.2077 - xy_mse: 51.0714 - floor_mse: 3.2077 - val_loss: 32.9531 - val_xy_loss: 29.7459 - val_floor_loss: 3.2073 - val_xy_mse: 29.7459 - val_floor_mse: 3.2073\n",
      "\n",
      "Epoch 00013: val_xy_loss improved from 33.31450 to 29.74588, saving model to /kaggle/RNN_2021_0.hdf5\n",
      "Epoch 14/40\n",
      "1115/1115 [==============================] - 77s 69ms/step - loss: 50.4715 - xy_loss: 47.2684 - floor_loss: 3.2031 - xy_mse: 47.2684 - floor_mse: 3.2031 - val_loss: 35.5683 - val_xy_loss: 32.3611 - val_floor_loss: 3.2073 - val_xy_mse: 32.3611 - val_floor_mse: 3.2073\n",
      "\n",
      "Epoch 00014: val_xy_loss did not improve from 29.74588\n",
      "Epoch 15/40\n",
      "1115/1115 [==============================] - 79s 71ms/step - loss: 46.9028 - xy_loss: 43.7007 - floor_loss: 3.2022 - xy_mse: 43.7007 - floor_mse: 3.2022 - val_loss: 30.8236 - val_xy_loss: 27.6164 - val_floor_loss: 3.2073 - val_xy_mse: 27.6164 - val_floor_mse: 3.2073\n",
      "\n",
      "Epoch 00015: val_xy_loss improved from 29.74588 to 27.61638, saving model to /kaggle/RNN_2021_0.hdf5\n",
      "Epoch 16/40\n",
      "1115/1115 [==============================] - 76s 68ms/step - loss: 44.1123 - xy_loss: 40.9124 - floor_loss: 3.1998 - xy_mse: 40.9124 - floor_mse: 3.1998 - val_loss: 31.3488 - val_xy_loss: 28.1416 - val_floor_loss: 3.2073 - val_xy_mse: 28.1416 - val_floor_mse: 3.2073\n",
      "\n",
      "Epoch 00016: val_xy_loss did not improve from 27.61638\n",
      "Epoch 17/40\n",
      "1115/1115 [==============================] - 76s 68ms/step - loss: 41.5779 - xy_loss: 38.3710 - floor_loss: 3.2069 - xy_mse: 38.3710 - floor_mse: 3.2069 - val_loss: 31.3765 - val_xy_loss: 28.1692 - val_floor_loss: 3.2073 - val_xy_mse: 28.1692 - val_floor_mse: 3.2073\n",
      "\n",
      "Epoch 00017: val_xy_loss did not improve from 27.61638\n",
      "Epoch 18/40\n",
      "1115/1115 [==============================] - 75s 68ms/step - loss: 39.4217 - xy_loss: 36.2176 - floor_loss: 3.2042 - xy_mse: 36.2176 - floor_mse: 3.2042 - val_loss: 72.6323 - val_xy_loss: 69.4250 - val_floor_loss: 3.2073 - val_xy_mse: 69.4250 - val_floor_mse: 3.2073\n",
      "\n",
      "Epoch 00018: ReduceLROnPlateau reducing learning rate to 0.00020000000949949026.\n",
      "\n",
      "Epoch 00018: val_xy_loss did not improve from 27.61638\n",
      "Epoch 19/40\n",
      "1115/1115 [==============================] - 76s 68ms/step - loss: 34.5402 - xy_loss: 31.3322 - floor_loss: 3.2081 - xy_mse: 31.3322 - floor_mse: 3.2081 - val_loss: 81.0287 - val_xy_loss: 77.8214 - val_floor_loss: 3.2073 - val_xy_mse: 77.8214 - val_floor_mse: 3.2073\n",
      "\n",
      "Epoch 00019: val_xy_loss did not improve from 27.61638\n",
      "Epoch 20/40\n",
      "1115/1115 [==============================] - 76s 68ms/step - loss: 32.5972 - xy_loss: 29.3936 - floor_loss: 3.2036 - xy_mse: 29.3936 - floor_mse: 3.2036 - val_loss: 32.4278 - val_xy_loss: 29.2206 - val_floor_loss: 3.2073 - val_xy_mse: 29.2206 - val_floor_mse: 3.2073\n",
      "\n",
      "Epoch 00020: val_xy_loss did not improve from 27.61638\n",
      "fold 0: mean position error 31.63041178964355\n",
      "Epoch 1/40\n",
      "1115/1115 [==============================] - 78s 66ms/step - loss: 2248.6601 - xy_loss: 2245.4589 - floor_loss: 3.2007 - xy_mse: 2245.4589 - floor_mse: 3.2007 - val_loss: 93.2828 - val_xy_loss: 90.0755 - val_floor_loss: 3.2074 - val_xy_mse: 90.0755 - val_floor_mse: 3.2074\n",
      "\n",
      "Epoch 00001: val_xy_loss improved from inf to 90.07545, saving model to /kaggle/RNN_2021_1.hdf5\n",
      "Epoch 2/40\n",
      "1115/1115 [==============================] - 78s 70ms/step - loss: 183.4281 - xy_loss: 180.2221 - floor_loss: 3.2061 - xy_mse: 180.2221 - floor_mse: 3.2061 - val_loss: 72.9327 - val_xy_loss: 69.7253 - val_floor_loss: 3.2074 - val_xy_mse: 69.7253 - val_floor_mse: 3.2074\n",
      "\n",
      "Epoch 00002: val_xy_loss improved from 90.07545 to 69.72535, saving model to /kaggle/RNN_2021_1.hdf5\n",
      "Epoch 3/40\n",
      "1115/1115 [==============================] - 74s 66ms/step - loss: 156.1617 - xy_loss: 152.9493 - floor_loss: 3.2124 - xy_mse: 152.9493 - floor_mse: 3.2124 - val_loss: 56.5398 - val_xy_loss: 53.3324 - val_floor_loss: 3.2074 - val_xy_mse: 53.3324 - val_floor_mse: 3.2074\n",
      "\n",
      "Epoch 00003: val_xy_loss improved from 69.72535 to 53.33244, saving model to /kaggle/RNN_2021_1.hdf5\n",
      "Epoch 4/40\n",
      "1115/1115 [==============================] - 79s 71ms/step - loss: 137.0997 - xy_loss: 133.8936 - floor_loss: 3.2061 - xy_mse: 133.8936 - floor_mse: 3.2061 - val_loss: 61.1492 - val_xy_loss: 57.9418 - val_floor_loss: 3.2074 - val_xy_mse: 57.9418 - val_floor_mse: 3.2074\n",
      "\n",
      "Epoch 00004: val_xy_loss did not improve from 53.33244\n",
      "Epoch 5/40\n",
      "1115/1115 [==============================] - 77s 69ms/step - loss: 125.0687 - xy_loss: 121.8593 - floor_loss: 3.2095 - xy_mse: 121.8593 - floor_mse: 3.2095 - val_loss: 46.1459 - val_xy_loss: 42.9385 - val_floor_loss: 3.2074 - val_xy_mse: 42.9385 - val_floor_mse: 3.2074\n",
      "\n",
      "Epoch 00005: val_xy_loss improved from 53.33244 to 42.93854, saving model to /kaggle/RNN_2021_1.hdf5\n",
      "Epoch 6/40\n",
      "1115/1115 [==============================] - 77s 69ms/step - loss: 112.6809 - xy_loss: 109.4704 - floor_loss: 3.2103 - xy_mse: 109.4704 - floor_mse: 3.2103 - val_loss: 48.9299 - val_xy_loss: 45.7225 - val_floor_loss: 3.2074 - val_xy_mse: 45.7225 - val_floor_mse: 3.2074\n",
      "\n",
      "Epoch 00006: val_xy_loss did not improve from 42.93854\n",
      "Epoch 7/40\n",
      "1115/1115 [==============================] - 81s 72ms/step - loss: 103.5176 - xy_loss: 100.3111 - floor_loss: 3.2064 - xy_mse: 100.3111 - floor_mse: 3.2064 - val_loss: 45.2920 - val_xy_loss: 42.0847 - val_floor_loss: 3.2074 - val_xy_mse: 42.0847 - val_floor_mse: 3.2074\n",
      "\n",
      "Epoch 00007: val_xy_loss improved from 42.93854 to 42.08466, saving model to /kaggle/RNN_2021_1.hdf5\n",
      "Epoch 8/40\n",
      "1115/1115 [==============================] - 74s 67ms/step - loss: 92.7204 - xy_loss: 89.5138 - floor_loss: 3.2066 - xy_mse: 89.5138 - floor_mse: 3.2066 - val_loss: 48.3126 - val_xy_loss: 45.1052 - val_floor_loss: 3.2074 - val_xy_mse: 45.1052 - val_floor_mse: 3.2074\n",
      "\n",
      "Epoch 00008: val_xy_loss did not improve from 42.08466\n",
      "Epoch 9/40\n",
      "1115/1115 [==============================] - 82s 74ms/step - loss: 85.7625 - xy_loss: 82.5553 - floor_loss: 3.2072 - xy_mse: 82.5553 - floor_mse: 3.2072 - val_loss: 38.7219 - val_xy_loss: 35.5146 - val_floor_loss: 3.2074 - val_xy_mse: 35.5146 - val_floor_mse: 3.2074\n",
      "\n",
      "Epoch 00009: val_xy_loss improved from 42.08466 to 35.51460, saving model to /kaggle/RNN_2021_1.hdf5\n",
      "Epoch 10/40\n",
      "1115/1115 [==============================] - 75s 67ms/step - loss: 77.9010 - xy_loss: 74.6924 - floor_loss: 3.2085 - xy_mse: 74.6924 - floor_mse: 3.2085 - val_loss: 38.3979 - val_xy_loss: 35.1906 - val_floor_loss: 3.2074 - val_xy_mse: 35.1906 - val_floor_mse: 3.2074\n",
      "\n",
      "Epoch 00010: val_xy_loss improved from 35.51460 to 35.19056, saving model to /kaggle/RNN_2021_1.hdf5\n",
      "Epoch 11/40\n",
      "1115/1115 [==============================] - 81s 72ms/step - loss: 70.3112 - xy_loss: 67.0988 - floor_loss: 3.2124 - xy_mse: 67.0988 - floor_mse: 3.2124 - val_loss: 41.0855 - val_xy_loss: 37.8782 - val_floor_loss: 3.2074 - val_xy_mse: 37.8782 - val_floor_mse: 3.2074\n",
      "\n",
      "Epoch 00011: val_xy_loss did not improve from 35.19056\n",
      "Epoch 12/40\n",
      "1115/1115 [==============================] - 74s 66ms/step - loss: 64.9241 - xy_loss: 61.7241 - floor_loss: 3.2000 - xy_mse: 61.7241 - floor_mse: 3.2000 - val_loss: 39.8390 - val_xy_loss: 36.6316 - val_floor_loss: 3.2074 - val_xy_mse: 36.6316 - val_floor_mse: 3.2074\n",
      "\n",
      "Epoch 00012: val_xy_loss did not improve from 35.19056\n",
      "Epoch 13/40\n",
      "1115/1115 [==============================] - 81s 73ms/step - loss: 59.1724 - xy_loss: 55.9647 - floor_loss: 3.2076 - xy_mse: 55.9647 - floor_mse: 3.2076 - val_loss: 36.1560 - val_xy_loss: 32.9486 - val_floor_loss: 3.2074 - val_xy_mse: 32.9486 - val_floor_mse: 3.2074\n",
      "\n",
      "Epoch 00013: val_xy_loss improved from 35.19056 to 32.94858, saving model to /kaggle/RNN_2021_1.hdf5\n",
      "Epoch 14/40\n",
      "1115/1115 [==============================] - 74s 66ms/step - loss: 55.9420 - xy_loss: 52.7390 - floor_loss: 3.2030 - xy_mse: 52.7390 - floor_mse: 3.2030 - val_loss: 35.8007 - val_xy_loss: 32.5934 - val_floor_loss: 3.2074 - val_xy_mse: 32.5934 - val_floor_mse: 3.2074\n",
      "\n",
      "Epoch 00014: val_xy_loss improved from 32.94858 to 32.59337, saving model to /kaggle/RNN_2021_1.hdf5\n",
      "Epoch 15/40\n",
      "1115/1115 [==============================] - 80s 72ms/step - loss: 51.3235 - xy_loss: 48.1214 - floor_loss: 3.2021 - xy_mse: 48.1214 - floor_mse: 3.2021 - val_loss: 33.1732 - val_xy_loss: 29.9658 - val_floor_loss: 3.2074 - val_xy_mse: 29.9658 - val_floor_mse: 3.2074\n",
      "\n",
      "Epoch 00015: val_xy_loss improved from 32.59337 to 29.96584, saving model to /kaggle/RNN_2021_1.hdf5\n",
      "Epoch 16/40\n",
      "1115/1115 [==============================] - 77s 69ms/step - loss: 48.3360 - xy_loss: 45.1362 - floor_loss: 3.1998 - xy_mse: 45.1362 - floor_mse: 3.1998 - val_loss: 32.8901 - val_xy_loss: 29.6827 - val_floor_loss: 3.2074 - val_xy_mse: 29.6827 - val_floor_mse: 3.2074\n",
      "\n",
      "Epoch 00016: val_xy_loss improved from 29.96584 to 29.68269, saving model to /kaggle/RNN_2021_1.hdf5\n",
      "Epoch 17/40\n",
      "1115/1115 [==============================] - 77s 69ms/step - loss: 45.7757 - xy_loss: 42.5690 - floor_loss: 3.2068 - xy_mse: 42.5690 - floor_mse: 3.2068 - val_loss: 32.0797 - val_xy_loss: 28.8723 - val_floor_loss: 3.2074 - val_xy_mse: 28.8723 - val_floor_mse: 3.2074\n",
      "\n",
      "Epoch 00017: val_xy_loss improved from 29.68269 to 28.87233, saving model to /kaggle/RNN_2021_1.hdf5\n",
      "Epoch 18/40\n",
      "1115/1115 [==============================] - 82s 73ms/step - loss: 43.7604 - xy_loss: 40.5562 - floor_loss: 3.2042 - xy_mse: 40.5562 - floor_mse: 3.2042 - val_loss: 32.3419 - val_xy_loss: 29.1345 - val_floor_loss: 3.2074 - val_xy_mse: 29.1345 - val_floor_mse: 3.2074\n",
      "\n",
      "Epoch 00018: val_xy_loss did not improve from 28.87233\n",
      "Epoch 19/40\n",
      "1115/1115 [==============================] - 73s 66ms/step - loss: 41.8699 - xy_loss: 38.6619 - floor_loss: 3.2080 - xy_mse: 38.6619 - floor_mse: 3.2080 - val_loss: 30.9509 - val_xy_loss: 27.7435 - val_floor_loss: 3.2074 - val_xy_mse: 27.7435 - val_floor_mse: 3.2074\n",
      "\n",
      "Epoch 00019: val_xy_loss improved from 28.87233 to 27.74355, saving model to /kaggle/RNN_2021_1.hdf5\n",
      "Epoch 20/40\n",
      "1115/1115 [==============================] - 83s 75ms/step - loss: 39.7026 - xy_loss: 36.4990 - floor_loss: 3.2035 - xy_mse: 36.4990 - floor_mse: 3.2035 - val_loss: 31.2422 - val_xy_loss: 28.0348 - val_floor_loss: 3.2074 - val_xy_mse: 28.0348 - val_floor_mse: 3.2074\n",
      "\n",
      "Epoch 00020: val_xy_loss did not improve from 27.74355\n",
      "Epoch 21/40\n",
      "1115/1115 [==============================] - 73s 66ms/step - loss: 37.5332 - xy_loss: 34.3256 - floor_loss: 3.2076 - xy_mse: 34.3256 - floor_mse: 3.2076 - val_loss: 35.1655 - val_xy_loss: 31.9582 - val_floor_loss: 3.2074 - val_xy_mse: 31.9582 - val_floor_mse: 3.2074\n",
      "\n",
      "Epoch 00021: val_xy_loss did not improve from 27.74355\n",
      "Epoch 22/40\n",
      "1115/1115 [==============================] - 73s 65ms/step - loss: 36.5824 - xy_loss: 33.3825 - floor_loss: 3.1999 - xy_mse: 33.3825 - floor_mse: 3.1999 - val_loss: 31.6606 - val_xy_loss: 28.4532 - val_floor_loss: 3.2074 - val_xy_mse: 28.4532 - val_floor_mse: 3.2074\n",
      "\n",
      "Epoch 00022: ReduceLROnPlateau reducing learning rate to 0.00020000000949949026.\n",
      "\n",
      "Epoch 00022: val_xy_loss did not improve from 27.74355\n",
      "Epoch 23/40\n",
      "1115/1115 [==============================] - 73s 65ms/step - loss: 32.3388 - xy_loss: 29.1309 - floor_loss: 3.2079 - xy_mse: 29.1309 - floor_mse: 3.2079 - val_loss: 29.8500 - val_xy_loss: 26.6426 - val_floor_loss: 3.2074 - val_xy_mse: 26.6426 - val_floor_mse: 3.2074\n",
      "\n",
      "Epoch 00023: val_xy_loss improved from 27.74355 to 26.64260, saving model to /kaggle/RNN_2021_1.hdf5\n",
      "Epoch 24/40\n",
      "1115/1115 [==============================] - 84s 76ms/step - loss: 31.0984 - xy_loss: 27.8901 - floor_loss: 3.2083 - xy_mse: 27.8901 - floor_mse: 3.2083 - val_loss: 29.6328 - val_xy_loss: 26.4254 - val_floor_loss: 3.2074 - val_xy_mse: 26.4254 - val_floor_mse: 3.2074\n",
      "\n",
      "Epoch 00024: val_xy_loss improved from 26.64260 to 26.42540, saving model to /kaggle/RNN_2021_1.hdf5\n",
      "Epoch 25/40\n",
      "1115/1115 [==============================] - 73s 66ms/step - loss: 30.3318 - xy_loss: 27.1242 - floor_loss: 3.2076 - xy_mse: 27.1242 - floor_mse: 3.2076 - val_loss: 29.9127 - val_xy_loss: 26.7053 - val_floor_loss: 3.2074 - val_xy_mse: 26.7053 - val_floor_mse: 3.2074\n",
      "\n",
      "Epoch 00025: val_xy_loss did not improve from 26.42540\n",
      "Epoch 26/40\n",
      "1115/1115 [==============================] - 74s 66ms/step - loss: 29.8628 - xy_loss: 26.6592 - floor_loss: 3.2036 - xy_mse: 26.6592 - floor_mse: 3.2036 - val_loss: 29.7619 - val_xy_loss: 26.5545 - val_floor_loss: 3.2074 - val_xy_mse: 26.5545 - val_floor_mse: 3.2074\n",
      "\n",
      "Epoch 00026: val_xy_loss did not improve from 26.42540\n",
      "Epoch 27/40\n",
      "1115/1115 [==============================] - 81s 72ms/step - loss: 29.6914 - xy_loss: 26.4772 - floor_loss: 3.2142 - xy_mse: 26.4772 - floor_mse: 3.2142 - val_loss: 28.7591 - val_xy_loss: 25.5517 - val_floor_loss: 3.2074 - val_xy_mse: 25.5517 - val_floor_mse: 3.2074\n",
      "\n",
      "Epoch 00027: val_xy_loss improved from 26.42540 to 25.55173, saving model to /kaggle/RNN_2021_1.hdf5\n",
      "Epoch 28/40\n",
      "1115/1115 [==============================] - 79s 71ms/step - loss: 29.4044 - xy_loss: 26.1957 - floor_loss: 3.2087 - xy_mse: 26.1957 - floor_mse: 3.2087 - val_loss: 28.9244 - val_xy_loss: 25.7171 - val_floor_loss: 3.2074 - val_xy_mse: 25.7171 - val_floor_mse: 3.2074\n",
      "\n",
      "Epoch 00028: val_xy_loss did not improve from 25.55173\n",
      "Epoch 29/40\n",
      "1115/1115 [==============================] - 74s 67ms/step - loss: 29.1290 - xy_loss: 25.9219 - floor_loss: 3.2071 - xy_mse: 25.9219 - floor_mse: 3.2071 - val_loss: 28.7218 - val_xy_loss: 25.5145 - val_floor_loss: 3.2074 - val_xy_mse: 25.5145 - val_floor_mse: 3.2074\n",
      "\n",
      "Epoch 00029: val_xy_loss improved from 25.55173 to 25.51448, saving model to /kaggle/RNN_2021_1.hdf5\n",
      "Epoch 30/40\n",
      "1115/1115 [==============================] - 75s 67ms/step - loss: 28.6263 - xy_loss: 25.4148 - floor_loss: 3.2116 - xy_mse: 25.4148 - floor_mse: 3.2116 - val_loss: 29.4905 - val_xy_loss: 26.2832 - val_floor_loss: 3.2074 - val_xy_mse: 26.2832 - val_floor_mse: 3.2074\n",
      "\n",
      "Epoch 00030: val_xy_loss did not improve from 25.51448\n",
      "Epoch 31/40\n",
      "1115/1115 [==============================] - 86s 77ms/step - loss: 28.5698 - xy_loss: 25.3589 - floor_loss: 3.2109 - xy_mse: 25.3589 - floor_mse: 3.2109 - val_loss: 29.4139 - val_xy_loss: 26.2065 - val_floor_loss: 3.2074 - val_xy_mse: 26.2065 - val_floor_mse: 3.2074\n",
      "\n",
      "Epoch 00031: val_xy_loss did not improve from 25.51448\n",
      "Epoch 32/40\n",
      "1115/1115 [==============================] - 75s 67ms/step - loss: 28.0639 - xy_loss: 24.8526 - floor_loss: 3.2113 - xy_mse: 24.8526 - floor_mse: 3.2113 - val_loss: 29.0833 - val_xy_loss: 25.8759 - val_floor_loss: 3.2074 - val_xy_mse: 25.8759 - val_floor_mse: 3.2074\n",
      "\n",
      "Epoch 00032: ReduceLROnPlateau reducing learning rate to 2.0000000949949027e-05.\n",
      "\n",
      "Epoch 00032: val_xy_loss did not improve from 25.51448\n",
      "Epoch 33/40\n",
      "1115/1115 [==============================] - 74s 66ms/step - loss: 27.9371 - xy_loss: 24.7268 - floor_loss: 3.2103 - xy_mse: 24.7268 - floor_mse: 3.2103 - val_loss: 28.7560 - val_xy_loss: 25.5486 - val_floor_loss: 3.2074 - val_xy_mse: 25.5486 - val_floor_mse: 3.2074\n",
      "\n",
      "Epoch 00033: val_xy_loss did not improve from 25.51448\n",
      "Epoch 34/40\n",
      "1115/1115 [==============================] - 76s 68ms/step - loss: 27.7329 - xy_loss: 24.5274 - floor_loss: 3.2055 - xy_mse: 24.5274 - floor_mse: 3.2055 - val_loss: 28.7409 - val_xy_loss: 25.5336 - val_floor_loss: 3.2074 - val_xy_mse: 25.5336 - val_floor_mse: 3.2074\n",
      "\n",
      "Epoch 00034: val_xy_loss did not improve from 25.51448\n",
      "fold 1: mean position error 31.169965023221522\n",
      "Epoch 1/40\n",
      "1115/1115 [==============================] - 84s 68ms/step - loss: 2249.2076 - xy_loss: 2246.0060 - floor_loss: 3.2007 - xy_mse: 2246.0060 - floor_mse: 3.2007 - val_loss: 101.3965 - val_xy_loss: 98.1891 - val_floor_loss: 3.2074 - val_xy_mse: 98.1891 - val_floor_mse: 3.2074\n",
      "\n",
      "Epoch 00001: val_xy_loss improved from inf to 98.18911, saving model to /kaggle/RNN_2021_2.hdf5\n",
      "Epoch 2/40\n",
      "1115/1115 [==============================] - 72s 65ms/step - loss: 185.4001 - xy_loss: 182.1940 - floor_loss: 3.2060 - xy_mse: 182.1940 - floor_mse: 3.2060 - val_loss: 71.4116 - val_xy_loss: 68.2042 - val_floor_loss: 3.2074 - val_xy_mse: 68.2042 - val_floor_mse: 3.2074\n",
      "\n",
      "Epoch 00002: val_xy_loss improved from 98.18911 to 68.20423, saving model to /kaggle/RNN_2021_2.hdf5\n",
      "Epoch 3/40\n",
      "1115/1115 [==============================] - 72s 65ms/step - loss: 158.3853 - xy_loss: 155.1729 - floor_loss: 3.2124 - xy_mse: 155.1729 - floor_mse: 3.2124 - val_loss: 56.7400 - val_xy_loss: 53.5326 - val_floor_loss: 3.2074 - val_xy_mse: 53.5326 - val_floor_mse: 3.2074\n",
      "\n",
      "Epoch 00003: val_xy_loss improved from 68.20423 to 53.53262, saving model to /kaggle/RNN_2021_2.hdf5\n",
      "Epoch 4/40\n",
      "1115/1115 [==============================] - 85s 77ms/step - loss: 138.9915 - xy_loss: 135.7854 - floor_loss: 3.2061 - xy_mse: 135.7854 - floor_mse: 3.2061 - val_loss: 66.3059 - val_xy_loss: 63.0985 - val_floor_loss: 3.2074 - val_xy_mse: 63.0985 - val_floor_mse: 3.2074\n",
      "\n",
      "Epoch 00004: val_xy_loss did not improve from 53.53262\n",
      "Epoch 5/40\n",
      "1115/1115 [==============================] - 72s 65ms/step - loss: 127.5440 - xy_loss: 124.3345 - floor_loss: 3.2094 - xy_mse: 124.3345 - floor_mse: 3.2094 - val_loss: 49.0388 - val_xy_loss: 45.8315 - val_floor_loss: 3.2074 - val_xy_mse: 45.8315 - val_floor_mse: 3.2074\n",
      "\n",
      "Epoch 00005: val_xy_loss improved from 53.53262 to 45.83146, saving model to /kaggle/RNN_2021_2.hdf5\n",
      "Epoch 6/40\n",
      "1115/1115 [==============================] - 72s 65ms/step - loss: 114.9887 - xy_loss: 111.7782 - floor_loss: 3.2104 - xy_mse: 111.7782 - floor_mse: 3.2104 - val_loss: 47.2435 - val_xy_loss: 44.0361 - val_floor_loss: 3.2074 - val_xy_mse: 44.0361 - val_floor_mse: 3.2074\n",
      "\n",
      "Epoch 00006: val_xy_loss improved from 45.83146 to 44.03606, saving model to /kaggle/RNN_2021_2.hdf5\n",
      "Epoch 7/40\n",
      "1115/1115 [==============================] - 72s 64ms/step - loss: 106.0873 - xy_loss: 102.8807 - floor_loss: 3.2065 - xy_mse: 102.8807 - floor_mse: 3.2065 - val_loss: 47.0930 - val_xy_loss: 43.8856 - val_floor_loss: 3.2074 - val_xy_mse: 43.8856 - val_floor_mse: 3.2074\n",
      "\n",
      "Epoch 00007: val_xy_loss improved from 44.03606 to 43.88560, saving model to /kaggle/RNN_2021_2.hdf5\n",
      "Epoch 8/40\n",
      "1115/1115 [==============================] - 87s 78ms/step - loss: 94.8222 - xy_loss: 91.6156 - floor_loss: 3.2066 - xy_mse: 91.6156 - floor_mse: 3.2066 - val_loss: 43.0769 - val_xy_loss: 39.8696 - val_floor_loss: 3.2074 - val_xy_mse: 39.8696 - val_floor_mse: 3.2074\n",
      "\n",
      "Epoch 00008: val_xy_loss improved from 43.88560 to 39.86956, saving model to /kaggle/RNN_2021_2.hdf5\n",
      "Epoch 9/40\n",
      "1115/1115 [==============================] - 72s 64ms/step - loss: 87.5655 - xy_loss: 84.3583 - floor_loss: 3.2071 - xy_mse: 84.3583 - floor_mse: 3.2071 - val_loss: 48.5356 - val_xy_loss: 45.3282 - val_floor_loss: 3.2074 - val_xy_mse: 45.3282 - val_floor_mse: 3.2074\n",
      "\n",
      "Epoch 00009: val_xy_loss did not improve from 39.86956\n",
      "Epoch 10/40\n",
      "1115/1115 [==============================] - 72s 64ms/step - loss: 78.4767 - xy_loss: 75.2682 - floor_loss: 3.2085 - xy_mse: 75.2682 - floor_mse: 3.2085 - val_loss: 40.7657 - val_xy_loss: 37.5583 - val_floor_loss: 3.2074 - val_xy_mse: 37.5583 - val_floor_mse: 3.2074\n",
      "\n",
      "Epoch 00010: val_xy_loss improved from 39.86956 to 37.55830, saving model to /kaggle/RNN_2021_2.hdf5\n",
      "Epoch 11/40\n",
      "1115/1115 [==============================] - 75s 67ms/step - loss: 71.9052 - xy_loss: 68.6927 - floor_loss: 3.2124 - xy_mse: 68.6927 - floor_mse: 3.2124 - val_loss: 69.1628 - val_xy_loss: 65.9554 - val_floor_loss: 3.2074 - val_xy_mse: 65.9554 - val_floor_mse: 3.2074\n",
      "\n",
      "Epoch 00011: val_xy_loss did not improve from 37.55830\n",
      "Epoch 12/40\n",
      "1115/1115 [==============================] - 84s 76ms/step - loss: 64.9388 - xy_loss: 61.7388 - floor_loss: 3.2000 - xy_mse: 61.7388 - floor_mse: 3.2000 - val_loss: 42.3985 - val_xy_loss: 39.1911 - val_floor_loss: 3.2074 - val_xy_mse: 39.1911 - val_floor_mse: 3.2074\n",
      "\n",
      "Epoch 00012: val_xy_loss did not improve from 37.55830\n",
      "Epoch 13/40\n",
      "1115/1115 [==============================] - 72s 64ms/step - loss: 59.8491 - xy_loss: 56.6414 - floor_loss: 3.2076 - xy_mse: 56.6414 - floor_mse: 3.2076 - val_loss: 41.1948 - val_xy_loss: 37.9874 - val_floor_loss: 3.2074 - val_xy_mse: 37.9874 - val_floor_mse: 3.2074\n",
      "\n",
      "Epoch 00013: ReduceLROnPlateau reducing learning rate to 0.00020000000949949026.\n",
      "\n",
      "Epoch 00013: val_xy_loss did not improve from 37.55830\n",
      "Epoch 14/40\n",
      "1115/1115 [==============================] - 72s 65ms/step - loss: 49.9991 - xy_loss: 46.7961 - floor_loss: 3.2030 - xy_mse: 46.7961 - floor_mse: 3.2030 - val_loss: 40.5056 - val_xy_loss: 37.2982 - val_floor_loss: 3.2074 - val_xy_mse: 37.2982 - val_floor_mse: 3.2074\n",
      "\n",
      "Epoch 00014: val_xy_loss improved from 37.55830 to 37.29816, saving model to /kaggle/RNN_2021_2.hdf5\n",
      "Epoch 15/40\n",
      "1115/1115 [==============================] - 80s 71ms/step - loss: 47.2723 - xy_loss: 44.0701 - floor_loss: 3.2022 - xy_mse: 44.0701 - floor_mse: 3.2022 - val_loss: 36.2028 - val_xy_loss: 32.9954 - val_floor_loss: 3.2074 - val_xy_mse: 32.9954 - val_floor_mse: 3.2074\n",
      "\n",
      "Epoch 00015: val_xy_loss improved from 37.29816 to 32.99540, saving model to /kaggle/RNN_2021_2.hdf5\n",
      "Epoch 16/40\n",
      "1115/1115 [==============================] - 80s 72ms/step - loss: 46.2523 - xy_loss: 43.0525 - floor_loss: 3.1998 - xy_mse: 43.0525 - floor_mse: 3.1998 - val_loss: 36.0351 - val_xy_loss: 32.8277 - val_floor_loss: 3.2074 - val_xy_mse: 32.8277 - val_floor_mse: 3.2074\n",
      "\n",
      "Epoch 00016: val_xy_loss improved from 32.99540 to 32.82770, saving model to /kaggle/RNN_2021_2.hdf5\n",
      "Epoch 17/40\n",
      "1115/1115 [==============================] - 72s 64ms/step - loss: 45.4127 - xy_loss: 42.2060 - floor_loss: 3.2067 - xy_mse: 42.2060 - floor_mse: 3.2067 - val_loss: 33.7584 - val_xy_loss: 30.5510 - val_floor_loss: 3.2074 - val_xy_mse: 30.5510 - val_floor_mse: 3.2074\n",
      "\n",
      "Epoch 00017: val_xy_loss improved from 32.82770 to 30.55103, saving model to /kaggle/RNN_2021_2.hdf5\n",
      "Epoch 18/40\n",
      "1115/1115 [==============================] - 71s 64ms/step - loss: 44.2457 - xy_loss: 41.0414 - floor_loss: 3.2043 - xy_mse: 41.0414 - floor_mse: 3.2043 - val_loss: 37.8701 - val_xy_loss: 34.6627 - val_floor_loss: 3.2074 - val_xy_mse: 34.6627 - val_floor_mse: 3.2074\n",
      "\n",
      "Epoch 00018: val_xy_loss did not improve from 30.55103\n",
      "Epoch 19/40\n",
      "1115/1115 [==============================] - 87s 78ms/step - loss: 43.5785 - xy_loss: 40.3706 - floor_loss: 3.2079 - xy_mse: 40.3706 - floor_mse: 3.2079 - val_loss: 38.0238 - val_xy_loss: 34.8164 - val_floor_loss: 3.2074 - val_xy_mse: 34.8164 - val_floor_mse: 3.2074\n",
      "\n",
      "Epoch 00019: val_xy_loss did not improve from 30.55103\n",
      "Epoch 20/40\n",
      "1115/1115 [==============================] - 74s 66ms/step - loss: 42.9217 - xy_loss: 39.7183 - floor_loss: 3.2034 - xy_mse: 39.7183 - floor_mse: 3.2034 - val_loss: 35.6163 - val_xy_loss: 32.4089 - val_floor_loss: 3.2074 - val_xy_mse: 32.4089 - val_floor_mse: 3.2074\n",
      "\n",
      "Epoch 00020: ReduceLROnPlateau reducing learning rate to 2.0000000949949027e-05.\n",
      "\n",
      "Epoch 00020: val_xy_loss did not improve from 30.55103\n",
      "Epoch 21/40\n",
      "1115/1115 [==============================] - 71s 64ms/step - loss: 41.6653 - xy_loss: 38.4577 - floor_loss: 3.2076 - xy_mse: 38.4577 - floor_mse: 3.2076 - val_loss: 36.3898 - val_xy_loss: 33.1824 - val_floor_loss: 3.2074 - val_xy_mse: 33.1824 - val_floor_mse: 3.2074\n",
      "\n",
      "Epoch 00021: val_xy_loss did not improve from 30.55103\n",
      "Epoch 22/40\n",
      "1115/1115 [==============================] - 72s 65ms/step - loss: 41.8648 - xy_loss: 38.6648 - floor_loss: 3.1999 - xy_mse: 38.6648 - floor_mse: 3.1999 - val_loss: 35.8779 - val_xy_loss: 32.6705 - val_floor_loss: 3.2074 - val_xy_mse: 32.6705 - val_floor_mse: 3.2074\n",
      "\n",
      "Epoch 00022: val_xy_loss did not improve from 30.55103\n",
      "fold 2: mean position error 31.95492194787819\n",
      "Epoch 1/40\n",
      "1115/1115 [==============================] - 94s 81ms/step - loss: 2184.5070 - xy_loss: 2181.3024 - floor_loss: 3.2040 - xy_mse: 2181.3024 - floor_mse: 3.2040 - val_loss: 79.5747 - val_xy_loss: 76.3672 - val_floor_loss: 3.2076 - val_xy_mse: 76.3672 - val_floor_mse: 3.2076\n",
      "\n",
      "Epoch 00001: val_xy_loss improved from inf to 76.36722, saving model to /kaggle/RNN_2021_3.hdf5\n",
      "Epoch 2/40\n",
      "1115/1115 [==============================] - 72s 65ms/step - loss: 177.8275 - xy_loss: 174.6152 - floor_loss: 3.2124 - xy_mse: 174.6152 - floor_mse: 3.2124 - val_loss: 73.7125 - val_xy_loss: 70.5050 - val_floor_loss: 3.2076 - val_xy_mse: 70.5050 - val_floor_mse: 3.2076\n",
      "\n",
      "Epoch 00002: val_xy_loss improved from 76.36722 to 70.50498, saving model to /kaggle/RNN_2021_3.hdf5\n",
      "Epoch 3/40\n",
      "1115/1115 [==============================] - 72s 65ms/step - loss: 149.7835 - xy_loss: 146.5816 - floor_loss: 3.2018 - xy_mse: 146.5816 - floor_mse: 3.2018 - val_loss: 69.9084 - val_xy_loss: 66.7008 - val_floor_loss: 3.2076 - val_xy_mse: 66.7008 - val_floor_mse: 3.2076\n",
      "\n",
      "Epoch 00003: val_xy_loss improved from 70.50498 to 66.70084, saving model to /kaggle/RNN_2021_3.hdf5\n",
      "Epoch 4/40\n",
      "1115/1115 [==============================] - 72s 65ms/step - loss: 131.9970 - xy_loss: 128.7875 - floor_loss: 3.2095 - xy_mse: 128.7875 - floor_mse: 3.2095 - val_loss: 68.5848 - val_xy_loss: 65.3773 - val_floor_loss: 3.2076 - val_xy_mse: 65.3773 - val_floor_mse: 3.2076\n",
      "\n",
      "Epoch 00004: val_xy_loss improved from 66.70084 to 65.37729, saving model to /kaggle/RNN_2021_3.hdf5\n",
      "Epoch 5/40\n",
      "1115/1115 [==============================] - 89s 80ms/step - loss: 118.9670 - xy_loss: 115.7566 - floor_loss: 3.2104 - xy_mse: 115.7566 - floor_mse: 3.2104 - val_loss: 67.5162 - val_xy_loss: 64.3086 - val_floor_loss: 3.2076 - val_xy_mse: 64.3086 - val_floor_mse: 3.2076\n",
      "\n",
      "Epoch 00005: val_xy_loss improved from 65.37729 to 64.30859, saving model to /kaggle/RNN_2021_3.hdf5\n",
      "Epoch 6/40\n",
      "1115/1115 [==============================] - 72s 65ms/step - loss: 105.9922 - xy_loss: 102.7860 - floor_loss: 3.2061 - xy_mse: 102.7860 - floor_mse: 3.2061 - val_loss: 55.3602 - val_xy_loss: 52.1527 - val_floor_loss: 3.2076 - val_xy_mse: 52.1527 - val_floor_mse: 3.2076\n",
      "\n",
      "Epoch 00006: val_xy_loss improved from 64.30859 to 52.15266, saving model to /kaggle/RNN_2021_3.hdf5\n",
      "Epoch 7/40\n",
      "1115/1115 [==============================] - 72s 65ms/step - loss: 96.0904 - xy_loss: 92.8853 - floor_loss: 3.2051 - xy_mse: 92.8853 - floor_mse: 3.2051 - val_loss: 55.1037 - val_xy_loss: 51.8962 - val_floor_loss: 3.2076 - val_xy_mse: 51.8962 - val_floor_mse: 3.2076\n",
      "\n",
      "Epoch 00007: val_xy_loss improved from 52.15266 to 51.89617, saving model to /kaggle/RNN_2021_3.hdf5\n",
      "Epoch 8/40\n",
      "1115/1115 [==============================] - 72s 65ms/step - loss: 87.9160 - xy_loss: 84.7048 - floor_loss: 3.2111 - xy_mse: 84.7048 - floor_mse: 3.2111 - val_loss: 63.4433 - val_xy_loss: 60.2358 - val_floor_loss: 3.2076 - val_xy_mse: 60.2358 - val_floor_mse: 3.2076\n",
      "\n",
      "Epoch 00008: val_xy_loss did not improve from 51.89617\n",
      "Epoch 9/40\n",
      "1115/1115 [==============================] - 90s 81ms/step - loss: 80.5203 - xy_loss: 77.3085 - floor_loss: 3.2118 - xy_mse: 77.3085 - floor_mse: 3.2118 - val_loss: 72.5899 - val_xy_loss: 69.3823 - val_floor_loss: 3.2076 - val_xy_mse: 69.3823 - val_floor_mse: 3.2076\n",
      "\n",
      "Epoch 00009: val_xy_loss did not improve from 51.89617\n",
      "Epoch 10/40\n",
      "1115/1115 [==============================] - 72s 64ms/step - loss: 70.8167 - xy_loss: 67.6043 - floor_loss: 3.2123 - xy_mse: 67.6043 - floor_mse: 3.2123 - val_loss: 78.8370 - val_xy_loss: 75.6295 - val_floor_loss: 3.2076 - val_xy_mse: 75.6295 - val_floor_mse: 3.2076\n",
      "\n",
      "Epoch 00010: ReduceLROnPlateau reducing learning rate to 0.00020000000949949026.\n",
      "\n",
      "Epoch 00010: val_xy_loss did not improve from 51.89617\n",
      "Epoch 11/40\n",
      "1115/1115 [==============================] - 72s 65ms/step - loss: 59.9473 - xy_loss: 56.7363 - floor_loss: 3.2110 - xy_mse: 56.7363 - floor_mse: 3.2110 - val_loss: 56.0024 - val_xy_loss: 52.7949 - val_floor_loss: 3.2076 - val_xy_mse: 52.7949 - val_floor_mse: 3.2076\n",
      "\n",
      "Epoch 00011: val_xy_loss did not improve from 51.89617\n",
      "Epoch 12/40\n",
      "1115/1115 [==============================] - 71s 64ms/step - loss: 55.5665 - xy_loss: 52.3610 - floor_loss: 3.2055 - xy_mse: 52.3610 - floor_mse: 3.2055 - val_loss: 53.7971 - val_xy_loss: 50.5896 - val_floor_loss: 3.2076 - val_xy_mse: 50.5896 - val_floor_mse: 3.2076\n",
      "\n",
      "Epoch 00012: val_xy_loss improved from 51.89617 to 50.58957, saving model to /kaggle/RNN_2021_3.hdf5\n",
      "Epoch 13/40\n",
      "1115/1115 [==============================] - 72s 65ms/step - loss: 53.7872 - xy_loss: 50.5810 - floor_loss: 3.2063 - xy_mse: 50.5810 - floor_mse: 3.2063 - val_loss: 54.2024 - val_xy_loss: 50.9949 - val_floor_loss: 3.2076 - val_xy_mse: 50.9949 - val_floor_mse: 3.2076\n",
      "\n",
      "Epoch 00013: val_xy_loss did not improve from 50.58957\n",
      "Epoch 14/40\n",
      "1115/1115 [==============================] - 71s 64ms/step - loss: 52.7868 - xy_loss: 49.5745 - floor_loss: 3.2123 - xy_mse: 49.5745 - floor_mse: 3.2123 - val_loss: 52.5332 - val_xy_loss: 49.3256 - val_floor_loss: 3.2076 - val_xy_mse: 49.3256 - val_floor_mse: 3.2076\n",
      "\n",
      "Epoch 00014: val_xy_loss improved from 50.58957 to 49.32557, saving model to /kaggle/RNN_2021_3.hdf5\n",
      "Epoch 15/40\n",
      "1115/1115 [==============================] - 71s 64ms/step - loss: 51.1285 - xy_loss: 47.9212 - floor_loss: 3.2074 - xy_mse: 47.9212 - floor_mse: 3.2074 - val_loss: 65.3276 - val_xy_loss: 62.1200 - val_floor_loss: 3.2076 - val_xy_mse: 62.1200 - val_floor_mse: 3.2076\n",
      "\n",
      "Epoch 00015: val_xy_loss did not improve from 49.32557\n",
      "Epoch 16/40\n",
      "1115/1115 [==============================] - 88s 79ms/step - loss: 50.2371 - xy_loss: 47.0318 - floor_loss: 3.2053 - xy_mse: 47.0318 - floor_mse: 3.2053 - val_loss: 50.3045 - val_xy_loss: 47.0969 - val_floor_loss: 3.2076 - val_xy_mse: 47.0969 - val_floor_mse: 3.2076\n",
      "\n",
      "Epoch 00016: val_xy_loss improved from 49.32557 to 47.09690, saving model to /kaggle/RNN_2021_3.hdf5\n",
      "Epoch 17/40\n",
      "1115/1115 [==============================] - 75s 67ms/step - loss: 48.9338 - xy_loss: 45.7303 - floor_loss: 3.2035 - xy_mse: 45.7303 - floor_mse: 3.2035 - val_loss: 59.6984 - val_xy_loss: 56.4909 - val_floor_loss: 3.2076 - val_xy_mse: 56.4909 - val_floor_mse: 3.2076\n",
      "\n",
      "Epoch 00017: val_xy_loss did not improve from 47.09690\n",
      "Epoch 18/40\n",
      "1115/1115 [==============================] - 72s 64ms/step - loss: 48.0656 - xy_loss: 44.8579 - floor_loss: 3.2077 - xy_mse: 44.8579 - floor_mse: 3.2077 - val_loss: 61.6500 - val_xy_loss: 58.4424 - val_floor_loss: 3.2076 - val_xy_mse: 58.4424 - val_floor_mse: 3.2076\n",
      "\n",
      "Epoch 00018: val_xy_loss did not improve from 47.09690\n",
      "Epoch 19/40\n",
      "1115/1115 [==============================] - 72s 64ms/step - loss: 47.1556 - xy_loss: 43.9463 - floor_loss: 3.2093 - xy_mse: 43.9463 - floor_mse: 3.2093 - val_loss: 55.9955 - val_xy_loss: 52.7879 - val_floor_loss: 3.2076 - val_xy_mse: 52.7879 - val_floor_mse: 3.2076\n",
      "\n",
      "Epoch 00019: ReduceLROnPlateau reducing learning rate to 2.0000000949949027e-05.\n",
      "\n",
      "Epoch 00019: val_xy_loss did not improve from 47.09690\n",
      "Epoch 20/40\n",
      "1115/1115 [==============================] - 71s 64ms/step - loss: 46.0667 - xy_loss: 42.8549 - floor_loss: 3.2118 - xy_mse: 42.8549 - floor_mse: 3.2118 - val_loss: 52.7649 - val_xy_loss: 49.5574 - val_floor_loss: 3.2076 - val_xy_mse: 49.5574 - val_floor_mse: 3.2076\n",
      "\n",
      "Epoch 00020: val_xy_loss did not improve from 47.09690\n",
      "Epoch 21/40\n",
      "1115/1115 [==============================] - 71s 64ms/step - loss: 45.3878 - xy_loss: 42.1867 - floor_loss: 3.2011 - xy_mse: 42.1867 - floor_mse: 3.2011 - val_loss: 52.3420 - val_xy_loss: 49.1345 - val_floor_loss: 3.2076 - val_xy_mse: 49.1345 - val_floor_mse: 3.2076\n",
      "\n",
      "Epoch 00021: val_xy_loss did not improve from 47.09690\n",
      "fold 3: mean position error 33.276963250464846\n",
      "Epoch 1/40\n",
      "1115/1115 [==============================] - 77s 65ms/step - loss: 2380.2673 - xy_loss: 2377.0628 - floor_loss: 3.2040 - xy_mse: 2377.0628 - floor_mse: 3.2040 - val_loss: 82.6151 - val_xy_loss: 79.4079 - val_floor_loss: 3.2072 - val_xy_mse: 79.4079 - val_floor_mse: 3.2072\n",
      "\n",
      "Epoch 00001: val_xy_loss improved from inf to 79.40794, saving model to /kaggle/RNN_2021_4.hdf5\n",
      "Epoch 2/40\n",
      "1115/1115 [==============================] - 85s 76ms/step - loss: 184.6073 - xy_loss: 181.3948 - floor_loss: 3.2125 - xy_mse: 181.3948 - floor_mse: 3.2125 - val_loss: 63.1492 - val_xy_loss: 59.9421 - val_floor_loss: 3.2072 - val_xy_mse: 59.9421 - val_floor_mse: 3.2072\n",
      "\n",
      "Epoch 00002: val_xy_loss improved from 79.40794 to 59.94211, saving model to /kaggle/RNN_2021_4.hdf5\n",
      "Epoch 3/40\n",
      "1115/1115 [==============================] - 83s 75ms/step - loss: 156.8255 - xy_loss: 153.6235 - floor_loss: 3.2020 - xy_mse: 153.6235 - floor_mse: 3.2020 - val_loss: 66.4500 - val_xy_loss: 63.2428 - val_floor_loss: 3.2072 - val_xy_mse: 63.2428 - val_floor_mse: 3.2072\n",
      "\n",
      "Epoch 00003: val_xy_loss did not improve from 59.94211\n",
      "Epoch 4/40\n",
      "1115/1115 [==============================] - 73s 66ms/step - loss: 142.1225 - xy_loss: 138.9129 - floor_loss: 3.2096 - xy_mse: 138.9129 - floor_mse: 3.2096 - val_loss: 52.1863 - val_xy_loss: 48.9791 - val_floor_loss: 3.2072 - val_xy_mse: 48.9791 - val_floor_mse: 3.2072\n",
      "\n",
      "Epoch 00004: val_xy_loss improved from 59.94211 to 48.97911, saving model to /kaggle/RNN_2021_4.hdf5\n",
      "Epoch 5/40\n",
      "1115/1115 [==============================] - 72s 64ms/step - loss: 130.4732 - xy_loss: 127.2628 - floor_loss: 3.2105 - xy_mse: 127.2628 - floor_mse: 3.2105 - val_loss: 53.9949 - val_xy_loss: 50.7878 - val_floor_loss: 3.2072 - val_xy_mse: 50.7878 - val_floor_mse: 3.2072\n",
      "\n",
      "Epoch 00005: val_xy_loss did not improve from 48.97911\n",
      "Epoch 6/40\n",
      "1115/1115 [==============================] - 71s 64ms/step - loss: 118.1157 - xy_loss: 114.9094 - floor_loss: 3.2062 - xy_mse: 114.9094 - floor_mse: 3.2062 - val_loss: 43.9912 - val_xy_loss: 40.7840 - val_floor_loss: 3.2072 - val_xy_mse: 40.7840 - val_floor_mse: 3.2072\n",
      "\n",
      "Epoch 00006: val_xy_loss improved from 48.97911 to 40.78403, saving model to /kaggle/RNN_2021_4.hdf5\n",
      "Epoch 7/40\n",
      "1115/1115 [==============================] - 72s 65ms/step - loss: 108.2814 - xy_loss: 105.0760 - floor_loss: 3.2053 - xy_mse: 105.0760 - floor_mse: 3.2053 - val_loss: 45.0401 - val_xy_loss: 41.8330 - val_floor_loss: 3.2072 - val_xy_mse: 41.8330 - val_floor_mse: 3.2072\n",
      "\n",
      "Epoch 00007: val_xy_loss did not improve from 40.78403\n",
      "Epoch 8/40\n",
      "1115/1115 [==============================] - 73s 65ms/step - loss: 98.7704 - xy_loss: 95.5592 - floor_loss: 3.2113 - xy_mse: 95.5592 - floor_mse: 3.2113 - val_loss: 45.9714 - val_xy_loss: 42.7642 - val_floor_loss: 3.2072 - val_xy_mse: 42.7642 - val_floor_mse: 3.2072\n",
      "\n",
      "Epoch 00008: val_xy_loss did not improve from 40.78403\n",
      "Epoch 9/40\n",
      "1115/1115 [==============================] - 75s 67ms/step - loss: 91.0415 - xy_loss: 87.8296 - floor_loss: 3.2119 - xy_mse: 87.8296 - floor_mse: 3.2119 - val_loss: 51.1016 - val_xy_loss: 47.8944 - val_floor_loss: 3.2072 - val_xy_mse: 47.8944 - val_floor_mse: 3.2072\n",
      "\n",
      "Epoch 00009: ReduceLROnPlateau reducing learning rate to 0.00020000000949949026.\n",
      "\n",
      "Epoch 00009: val_xy_loss did not improve from 40.78403\n",
      "Epoch 10/40\n",
      "1115/1115 [==============================] - 96s 86ms/step - loss: 75.1719 - xy_loss: 71.9595 - floor_loss: 3.2124 - xy_mse: 71.9595 - floor_mse: 3.2124 - val_loss: 37.2069 - val_xy_loss: 33.9997 - val_floor_loss: 3.2072 - val_xy_mse: 33.9997 - val_floor_mse: 3.2072\n",
      "\n",
      "Epoch 00010: val_xy_loss improved from 40.78403 to 33.99973, saving model to /kaggle/RNN_2021_4.hdf5\n",
      "Epoch 11/40\n",
      "1115/1115 [==============================] - 73s 65ms/step - loss: 71.4531 - xy_loss: 68.2420 - floor_loss: 3.2110 - xy_mse: 68.2420 - floor_mse: 3.2110 - val_loss: 37.7978 - val_xy_loss: 34.5907 - val_floor_loss: 3.2072 - val_xy_mse: 34.5907 - val_floor_mse: 3.2072\n",
      "\n",
      "Epoch 00011: val_xy_loss did not improve from 33.99973\n",
      "Epoch 12/40\n",
      "1115/1115 [==============================] - 73s 65ms/step - loss: 68.6254 - xy_loss: 65.4198 - floor_loss: 3.2056 - xy_mse: 65.4198 - floor_mse: 3.2056 - val_loss: 37.7760 - val_xy_loss: 34.5688 - val_floor_loss: 3.2072 - val_xy_mse: 34.5688 - val_floor_mse: 3.2072\n",
      "\n",
      "Epoch 00012: val_xy_loss did not improve from 33.99973\n",
      "Epoch 13/40\n",
      "1115/1115 [==============================] - 73s 66ms/step - loss: 67.0033 - xy_loss: 63.7970 - floor_loss: 3.2063 - xy_mse: 63.7970 - floor_mse: 3.2063 - val_loss: 38.6401 - val_xy_loss: 35.4329 - val_floor_loss: 3.2072 - val_xy_mse: 35.4329 - val_floor_mse: 3.2072\n",
      "\n",
      "Epoch 00013: ReduceLROnPlateau reducing learning rate to 2.0000000949949027e-05.\n",
      "\n",
      "Epoch 00013: val_xy_loss did not improve from 33.99973\n",
      "Epoch 14/40\n",
      "1115/1115 [==============================] - 73s 66ms/step - loss: 64.8782 - xy_loss: 61.6659 - floor_loss: 3.2123 - xy_mse: 61.6659 - floor_mse: 3.2123 - val_loss: 40.2761 - val_xy_loss: 37.0689 - val_floor_loss: 3.2072 - val_xy_mse: 37.0689 - val_floor_mse: 3.2072\n",
      "\n",
      "Epoch 00014: val_xy_loss did not improve from 33.99973\n",
      "Epoch 15/40\n",
      "1115/1115 [==============================] - 73s 66ms/step - loss: 63.9321 - xy_loss: 60.7247 - floor_loss: 3.2074 - xy_mse: 60.7247 - floor_mse: 3.2074 - val_loss: 39.3776 - val_xy_loss: 36.1704 - val_floor_loss: 3.2072 - val_xy_mse: 36.1704 - val_floor_mse: 3.2072\n",
      "\n",
      "Epoch 00015: val_xy_loss did not improve from 33.99973\n",
      "fold 4: mean position error 32.36871916003068\n",
      "*+*+*+*+*+*+*+*+*+*+*+*+*+*+*+*+*+*+*+*+*+*+*+*+*+*+*+*+*+*+*+*+*+*+*+*+*+*+*+*+\n",
      "root mean position error 32.08019207124128\n",
      "xy root mean position error 6.49463973704708\n",
      "*+*+*+*+*+*+*+*+*+*+*+*+*+*+*+*+*+*+*+*+*+*+*+*+*+*+*+*+*+*+*+*+*+*+*+*+*+*+*+*+\n"
     ]
    }
   ],
   "source": [
    "score_df = pd.DataFrame()\n",
    "predictions = list()\n",
    "\n",
    "oof_x, oof_y, oof_f = np.zeros(data.shape[0]), np.zeros(data.shape[0]), np.zeros(data.shape[0])\n",
    "preds_x, preds_y = 0, 0\n",
    "preds_f_arr = np.zeros((test_data.shape[0], N_SPLITS))\n",
    "\n",
    "for fold, (trn_idx, val_idx) in enumerate(StratifiedKFold(n_splits=N_SPLITS, shuffle=True, \n",
    "                                                          random_state=SEED).split(data.loc[:, 'path'], \n",
    "                                                                                   data.loc[:, 'path'])):\n",
    "\n",
    "    X_train = data.loc[trn_idx, BSSID_FEATS + RSSI_FEATS + ['site_id']+['floor']]\n",
    "    y_trainx = data.loc[trn_idx, 'x']\n",
    "    y_trainy = data.loc[trn_idx, 'y']\n",
    "    y_trainf = data.loc[trn_idx, 'floor']\n",
    "    \n",
    "    #X_train = pd.concat([data.loc[trn_idx, BSSID_FEATS + RSSI_FEATS + ['site_id']],\n",
    "    #                    train_only_data[BSSID_FEATS + RSSI_FEATS + ['site_id']]], axis=0).reset_index(drop=True)\n",
    "    #y_trainx = pd.concat([data.loc[trn_idx, 'x'], train_only_data['x']], axis=0).reset_index(drop=True)\n",
    "    #y_trainy = pd.concat([data.loc[trn_idx, 'y'], train_only_data['y']], axis=0).reset_index(drop=True)\n",
    "    #y_trainf = pd.concat([data.loc[trn_idx, 'floor'], train_only_data['floor']], axis=0).reset_index(drop=True)\n",
    "\n",
    "    tmp = pd.concat([y_trainx, y_trainy], axis=1)\n",
    "    y_train = [tmp, y_trainf]\n",
    "\n",
    "    X_valid = data.loc[val_idx, BSSID_FEATS + RSSI_FEATS + ['site_id']+['floor']]\n",
    "    y_validx = data.loc[val_idx, 'x']\n",
    "    y_validy = data.loc[val_idx, 'y']\n",
    "    y_validf = data.loc[val_idx, 'floor']\n",
    "\n",
    "    tmp = pd.concat([y_validx, y_validy], axis=1)\n",
    "    y_valid = [tmp, y_validf]\n",
    "\n",
    "    model = create_model([X_train.loc[:,BSSID_FEATS], X_train.loc[:,RSSI_FEATS+['floor']], X_train.loc[:,'site_id']])\n",
    "    model.fit([X_train.loc[:,BSSID_FEATS], X_train.loc[:,RSSI_FEATS+['floor']], X_train.loc[:,'site_id']], y_train, \n",
    "                validation_data=([X_valid.loc[:,BSSID_FEATS], X_valid.loc[:,RSSI_FEATS+['floor']], X_valid.loc[:,'site_id']], y_valid), \n",
    "                batch_size=batch_size, epochs=epochs,\n",
    "                callbacks=[\n",
    "                ReduceLROnPlateau(monitor='val_xy_loss', factor=0.1, patience=3, verbose=1, min_delta=1e-4, mode='min')\n",
    "                , ModelCheckpoint(f'{base_path}/RNN_{SEED}_{fold}.hdf5', monitor='val_xy_loss', verbose=1, save_best_only=True, save_weights_only=True, mode='min')\n",
    "                , EarlyStopping(monitor='val_xy_loss', min_delta=1e-4, patience=5, mode='min', baseline=None, restore_best_weights=True)\n",
    "            ])\n",
    "\n",
    "    model.load_weights(f'{base_path}/RNN_{SEED}_{fold}.hdf5')\n",
    "    val_pred = model.predict([X_valid.loc[:,BSSID_FEATS], X_valid.loc[:,RSSI_FEATS+['floor']], X_valid.loc[:,'site_id']])\n",
    "\n",
    "    oof_x[val_idx] = val_pred[0][:,0]\n",
    "    oof_y[val_idx] = val_pred[0][:,1]\n",
    "    oof_f[val_idx] = val_pred[1][:,0].astype(int)\n",
    "    \n",
    "    pred = model.predict([test_data.loc[:,BSSID_FEATS], test_data.loc[:,RSSI_FEATS+['floor']], test_data.loc[:,'site_id']])\n",
    "    preds_x += pred[0][:,0]\n",
    "    preds_y += pred[0][:,1]\n",
    "    preds_f_arr[:, fold] = pred[1][:,0].astype(int)\n",
    "\n",
    "    score = comp_metric(oof_x[val_idx], oof_y[val_idx], oof_f[val_idx],\n",
    "                        y_validx.to_numpy(), y_validy.to_numpy(), y_validf.to_numpy())\n",
    "    print(f\"fold {fold}: mean position error {score}\")\n",
    "\n",
    "    K.clear_session()\n",
    "\n",
    "preds_x /= (fold + 1)\n",
    "preds_y /= (fold + 1)\n",
    "    \n",
    "print(\"*+\"*40)\n",
    "score = comp_metric(oof_x, oof_y, oof_f, data.iloc[:, -5].to_numpy(), data.iloc[:, -4].to_numpy(), data.iloc[:, -3].to_numpy())\n",
    "score2 = xy_comp_metric(oof_x, oof_y, data.iloc[:, -5].to_numpy(), data.iloc[:, -4].to_numpy())\n",
    "print(f\"root mean position error {score}\")\n",
    "print(f\"xy root mean position error {score2}\")\n",
    "print(\"*+\"*40)\n",
    "\n",
    "preds_f_mode = stats.mode(preds_f_arr, axis=1)\n",
    "preds_f = preds_f_mode[0].astype(int).reshape(-1)\n",
    "test_preds = pd.DataFrame(np.stack((preds_f, preds_x, preds_y))).T\n",
    "test_preds.columns = subm.columns\n",
    "test_preds.index = test_data[\"site_path_timestamp\"]\n",
    "test_preds[\"floor\"] = test_preds[\"floor\"].astype(int)\n",
    "predictions.append(test_preds)"
   ]
  },
  {
   "cell_type": "code",
   "execution_count": 23,
   "id": "alien-budapest",
   "metadata": {
    "execution": {
     "iopub.execute_input": "2021-04-12T16:31:13.431821Z",
     "iopub.status.busy": "2021-04-12T16:31:13.425770Z",
     "iopub.status.idle": "2021-04-12T16:31:13.446143Z",
     "shell.execute_reply": "2021-04-12T16:31:13.445428Z"
    },
    "papermill": {
     "duration": 34.018292,
     "end_time": "2021-04-12T16:31:13.446264",
     "exception": false,
     "start_time": "2021-04-12T16:30:39.427972",
     "status": "completed"
    },
    "tags": []
   },
   "outputs": [],
   "source": [
    "all_preds = pd.concat(predictions)\n",
    "all_preds = all_preds.reindex(subm.index)\n",
    "\n",
    "lgb_pred = pd.read_csv('../input/indoorlgbfloor/submission.csv')\n",
    "all_preds['floor'] = lgb_pred['floor'].values"
   ]
  },
  {
   "cell_type": "markdown",
   "id": "modified-begin",
   "metadata": {
    "papermill": {
     "duration": 33.856159,
     "end_time": "2021-04-12T16:32:21.034998",
     "exception": false,
     "start_time": "2021-04-12T16:31:47.178839",
     "status": "completed"
    },
    "tags": []
   },
   "source": [
    "# postprocess (cost minimization)"
   ]
  },
  {
   "cell_type": "code",
   "execution_count": 24,
   "id": "ancient-contrary",
   "metadata": {
    "execution": {
     "iopub.execute_input": "2021-04-12T16:33:29.038970Z",
     "iopub.status.busy": "2021-04-12T16:33:29.036900Z",
     "iopub.status.idle": "2021-04-12T16:33:29.039826Z",
     "shell.execute_reply": "2021-04-12T16:33:29.040380Z"
    },
    "papermill": {
     "duration": 33.918977,
     "end_time": "2021-04-12T16:33:29.040541",
     "exception": false,
     "start_time": "2021-04-12T16:32:55.121564",
     "status": "completed"
    },
    "tags": []
   },
   "outputs": [],
   "source": [
    "INPUT_PATH = '../input/indoor-location-navigation'\n",
    "\n",
    "def compute_rel_positions(acce_datas, ahrs_datas):\n",
    "    step_timestamps, step_indexs, step_acce_max_mins = compute_f.compute_steps(acce_datas)\n",
    "    headings = compute_f.compute_headings(ahrs_datas)\n",
    "    stride_lengths = compute_f.compute_stride_length(step_acce_max_mins)\n",
    "    step_headings = compute_f.compute_step_heading(step_timestamps, headings)\n",
    "    rel_positions = compute_f.compute_rel_positions(stride_lengths, step_headings)\n",
    "    return rel_positions\n",
    "\n",
    "def correct_path(args):\n",
    "    path, path_df = args\n",
    "    \n",
    "    T_ref  = path_df['timestamp'].values\n",
    "    xy_hat = path_df[['x', 'y']].values\n",
    "    \n",
    "    example = read_data_file(f'{INPUT_PATH}/test/{path}.txt')\n",
    "    rel_positions = compute_rel_positions(example.acce, example.ahrs)\n",
    "    if T_ref[-1] > rel_positions[-1, 0]:\n",
    "        rel_positions = [np.array([[0, 0, 0]]), rel_positions, np.array([[T_ref[-1], 0, 0]])]\n",
    "    else:\n",
    "        rel_positions = [np.array([[0, 0, 0]]), rel_positions]\n",
    "    rel_positions = np.concatenate(rel_positions)\n",
    "    \n",
    "    T_rel = rel_positions[:, 0]\n",
    "    delta_xy_hat = np.diff(scipy.interpolate.interp1d(T_rel, np.cumsum(rel_positions[:, 1:3], axis=0), axis=0)(T_ref), axis=0)\n",
    "\n",
    "    N = xy_hat.shape[0]\n",
    "    delta_t = np.diff(T_ref)\n",
    "    alpha = (8.1)**(-2) * np.ones(N)\n",
    "    beta  = (0.3 + 0.3 * 1e-3 * delta_t)**(-2)\n",
    "    A = scipy.sparse.spdiags(alpha, [0], N, N)\n",
    "    B = scipy.sparse.spdiags( beta, [0], N-1, N-1)\n",
    "    D = scipy.sparse.spdiags(np.stack([-np.ones(N), np.ones(N)]), [0, 1], N-1, N)\n",
    "\n",
    "    Q = A + (D.T @ B @ D)\n",
    "    c = (A @ xy_hat) + (D.T @ (B @ delta_xy_hat))\n",
    "    xy_star = scipy.sparse.linalg.spsolve(Q, c)\n",
    "    \n",
    "    return pd.DataFrame({\n",
    "        'site_path_timestamp' : path_df['site_path_timestamp'],\n",
    "        'floor' : path_df['floor'],\n",
    "        'x' : xy_star[:, 0],\n",
    "        'y' : xy_star[:, 1],\n",
    "    })"
   ]
  },
  {
   "cell_type": "code",
   "execution_count": 25,
   "id": "sensitive-seattle",
   "metadata": {
    "execution": {
     "iopub.execute_input": "2021-04-12T16:34:36.513736Z",
     "iopub.status.busy": "2021-04-12T16:34:36.512958Z",
     "iopub.status.idle": "2021-04-12T16:47:42.908215Z",
     "shell.execute_reply": "2021-04-12T16:47:42.907756Z"
    },
    "papermill": {
     "duration": 820.189608,
     "end_time": "2021-04-12T16:47:42.908352",
     "exception": false,
     "start_time": "2021-04-12T16:34:02.718744",
     "status": "completed"
    },
    "tags": []
   },
   "outputs": [
    {
     "name": "stderr",
     "output_type": "stream",
     "text": [
      "626it [13:03,  1.25s/it]\n"
     ]
    }
   ],
   "source": [
    "sub = pd.read_csv('../input/indoor-location-navigation/sample_submission.csv')\n",
    "sub[\"floor\"] = all_preds['floor'].values\n",
    "sub[\"x\"] = all_preds['x'].values\n",
    "sub[\"y\"] = all_preds['y'].values\n",
    "\n",
    "tmp = sub['site_path_timestamp'].apply(lambda s : pd.Series(s.split('_')))\n",
    "sub['site'] = tmp[0]\n",
    "sub['path'] = tmp[1]\n",
    "sub['timestamp'] = tmp[2].astype(float)\n",
    "\n",
    "processes = multiprocessing.cpu_count()\n",
    "with multiprocessing.Pool(processes=processes) as pool:\n",
    "    dfs = pool.imap_unordered(correct_path, sub.groupby('path'))\n",
    "    dfs = tqdm(dfs)\n",
    "    dfs = list(dfs)\n",
    "sub = pd.concat(dfs).sort_values('site_path_timestamp')\n",
    "#sub.to_csv('submission.csv', index=False)"
   ]
  },
  {
   "cell_type": "markdown",
   "id": "thirty-hands",
   "metadata": {
    "papermill": {
     "duration": 34.10814,
     "end_time": "2021-04-12T16:48:51.530505",
     "exception": false,
     "start_time": "2021-04-12T16:48:17.422365",
     "status": "completed"
    },
    "tags": []
   },
   "source": [
    "# postprocess (snap to grid)"
   ]
  },
  {
   "cell_type": "code",
   "execution_count": 26,
   "id": "medieval-ordering",
   "metadata": {
    "execution": {
     "iopub.execute_input": "2021-04-12T16:49:59.272843Z",
     "iopub.status.busy": "2021-04-12T16:49:59.272260Z",
     "iopub.status.idle": "2021-04-12T16:50:10.967779Z",
     "shell.execute_reply": "2021-04-12T16:50:10.967314Z"
    },
    "papermill": {
     "duration": 45.686065,
     "end_time": "2021-04-12T16:50:10.967908",
     "exception": false,
     "start_time": "2021-04-12T16:49:25.281843",
     "status": "completed"
    },
    "tags": []
   },
   "outputs": [],
   "source": [
    "def split_col(df):\n",
    "    df = pd.concat([\n",
    "        df['site_path_timestamp'].str.split('_', expand=True) \\\n",
    "        .rename(columns={0:'site',\n",
    "                         1:'path',\n",
    "                         2:'timestamp'}),\n",
    "        df\n",
    "    ], axis=1).copy()\n",
    "    return df\n",
    "\n",
    "def add_xy(df):\n",
    "    df['xy'] = [(x, y) for x,y in zip(df['x'], df['y'])]\n",
    "    return df\n",
    "\n",
    "def closest_point(point, points):\n",
    "    \"\"\" Find closest point from a list of points. \"\"\"\n",
    "    return points[cdist([point], points).argmin()]\n",
    "\n",
    "train_waypoints = pd.read_csv('../input/indoor-location-train-waypoints/train_waypoints.csv')\n",
    "\n",
    "sub = split_col(sub)\n",
    "sub = add_xy(sub)\n",
    "train_waypoints = add_xy(train_waypoints)\n",
    "\n",
    "ds = []\n",
    "for (site, myfloor), d in sub.groupby(['site','floor']):\n",
    "    true_floor_locs = train_waypoints.loc[(train_waypoints['floor'] == myfloor) &\n",
    "                                          (train_waypoints['site'] == site)] \\\n",
    "        .reset_index(drop=True)\n",
    "    if len(true_floor_locs) == 0:\n",
    "        print(f'Skipping {site} {myfloor}')\n",
    "        continue\n",
    "    d['matched_point'] = [closest_point(x, list(true_floor_locs['xy'])) for x in d['xy']]\n",
    "    d['x_'] = d['matched_point'].apply(lambda x: x[0])\n",
    "    d['y_'] = d['matched_point'].apply(lambda x: x[1])\n",
    "    ds.append(d)\n",
    "\n",
    "sub = pd.concat(ds)"
   ]
  },
  {
   "cell_type": "code",
   "execution_count": 27,
   "id": "lyric-gazette",
   "metadata": {
    "execution": {
     "iopub.execute_input": "2021-04-12T16:51:19.740803Z",
     "iopub.status.busy": "2021-04-12T16:51:19.740098Z",
     "iopub.status.idle": "2021-04-12T16:51:19.973138Z",
     "shell.execute_reply": "2021-04-12T16:51:19.972628Z"
    },
    "papermill": {
     "duration": 34.828344,
     "end_time": "2021-04-12T16:51:19.973268",
     "exception": false,
     "start_time": "2021-04-12T16:50:45.144924",
     "status": "completed"
    },
    "tags": []
   },
   "outputs": [],
   "source": [
    "def snap_to_grid(sub, threshold):\n",
    "    \"\"\"\n",
    "    Snap to grid if within a threshold.\n",
    "    \n",
    "    x, y are the predicted points.\n",
    "    x_, y_ are the closest grid points.\n",
    "    _x_, _y_ are the new predictions after post processing.\n",
    "    \"\"\"\n",
    "    sub['_x_'] = sub['x']\n",
    "    sub['_y_'] = sub['y']\n",
    "    sub.loc[sub['dist'] < threshold, '_x_'] = sub.loc[sub['dist'] < threshold]['x_']\n",
    "    sub.loc[sub['dist'] < threshold, '_y_'] = sub.loc[sub['dist'] < threshold]['y_']\n",
    "    return sub.copy()\n",
    "\n",
    "# Calculate the distances\n",
    "sub['dist'] = np.sqrt( (sub.x-sub.x_)**2 + (sub.y-sub.y_)**2 )\n",
    "\n",
    "sub_pp = snap_to_grid(sub, threshold=4)\n",
    "\n",
    "sub_pp = sub_pp[['site_path_timestamp','floor','_x_','_y_','site','path']] \\\n",
    "    .rename(columns={'_x_':'x', '_y_':'y'})\n",
    "sub_pp[['site_path_timestamp','floor','x','y']].to_csv('submission.csv', index=False)"
   ]
  },
  {
   "cell_type": "code",
   "execution_count": null,
   "id": "rough-allah",
   "metadata": {
    "papermill": {
     "duration": 34.385406,
     "end_time": "2021-04-12T16:52:28.571294",
     "exception": false,
     "start_time": "2021-04-12T16:51:54.185888",
     "status": "completed"
    },
    "tags": []
   },
   "outputs": [],
   "source": []
  }
 ],
 "metadata": {
  "kernelspec": {
   "display_name": "Python 3",
   "language": "python",
   "name": "python3"
  },
  "language_info": {
   "codemirror_mode": {
    "name": "ipython",
    "version": 3
   },
   "file_extension": ".py",
   "mimetype": "text/x-python",
   "name": "python",
   "nbconvert_exporter": "python",
   "pygments_lexer": "ipython3",
   "version": "3.7.9"
  },
  "papermill": {
   "default_parameters": {},
   "duration": 10126.430092,
   "end_time": "2021-04-12T16:53:06.385997",
   "environment_variables": {},
   "exception": null,
   "input_path": "__notebook__.ipynb",
   "output_path": "__notebook__.ipynb",
   "parameters": {},
   "start_time": "2021-04-12T14:04:19.955905",
   "version": "2.3.2"
  }
 },
 "nbformat": 4,
 "nbformat_minor": 5
}
