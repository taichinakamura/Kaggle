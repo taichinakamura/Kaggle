{
 "cells": [
  {
   "cell_type": "markdown",
   "id": "explicit-density",
   "metadata": {
    "papermill": {
     "duration": 0.019003,
     "end_time": "2021-04-13T10:49:51.124913",
     "exception": false,
     "start_time": "2021-04-13T10:49:51.105910",
     "status": "completed"
    },
    "tags": []
   },
   "source": [
    "- consider only xy in validation\n",
    "- bo back to version 6 lstm\n",
    "- reset indoor-lgb-floor prediction (version 5) *\n",
    "- change activations in lstm layers *"
   ]
  },
  {
   "cell_type": "code",
   "execution_count": 1,
   "id": "behind-denver",
   "metadata": {
    "execution": {
     "iopub.execute_input": "2021-04-13T10:49:51.165858Z",
     "iopub.status.busy": "2021-04-13T10:49:51.165309Z",
     "iopub.status.idle": "2021-04-13T10:50:01.592980Z",
     "shell.execute_reply": "2021-04-13T10:50:01.591982Z"
    },
    "papermill": {
     "duration": 10.450653,
     "end_time": "2021-04-13T10:50:01.593130",
     "exception": false,
     "start_time": "2021-04-13T10:49:51.142477",
     "status": "completed"
    },
    "tags": []
   },
   "outputs": [
    {
     "name": "stdout",
     "output_type": "stream",
     "text": [
      "Collecting tensorflow-determinism\r\n",
      "  Downloading tensorflow-determinism-0.3.0.tar.gz (12 kB)\r\n",
      "\u001b[33mWARNING: Discarding https://files.pythonhosted.org/packages/76/56/79d74f25b326d8719753172496abc524980fa67d1d98bb247021376e370a/tensorflow-determinism-0.3.0.tar.gz#sha256=563316b785614df300bbdec9b3c45a94d212761aec796cf1aafcbb2f69fdeb01 (from https://pypi.org/simple/tensorflow-determinism/). Requested tensorflow-determinism from https://files.pythonhosted.org/packages/76/56/79d74f25b326d8719753172496abc524980fa67d1d98bb247021376e370a/tensorflow-determinism-0.3.0.tar.gz#sha256=563316b785614df300bbdec9b3c45a94d212761aec796cf1aafcbb2f69fdeb01 has inconsistent version: filename has '0.3.0', but metadata has '0.4.1'\u001b[0m\r\n",
      "  Downloading tensorflow-determinism-0.2.0.tar.gz (10 kB)\r\n",
      "\u001b[33mWARNING: Discarding https://files.pythonhosted.org/packages/9b/28/4aa0d8f183d13d3477626e931a3363651bb8e291165d58962a39c57ae7fb/tensorflow-determinism-0.2.0.tar.gz#sha256=1e364b142acd96ec8a8fca6dee32ef04e1c5f5ca20bd83fc9ec37f7dbf2fb5b5 (from https://pypi.org/simple/tensorflow-determinism/). Requested tensorflow-determinism from https://files.pythonhosted.org/packages/9b/28/4aa0d8f183d13d3477626e931a3363651bb8e291165d58962a39c57ae7fb/tensorflow-determinism-0.2.0.tar.gz#sha256=1e364b142acd96ec8a8fca6dee32ef04e1c5f5ca20bd83fc9ec37f7dbf2fb5b5 has inconsistent version: filename has '0.2.0', but metadata has '0.4.1'\u001b[0m\r\n",
      "  Downloading tensorflow-determinism-0.1.0.tar.gz (7.2 kB)\r\n",
      "Building wheels for collected packages: tensorflow-determinism\r\n",
      "  Building wheel for tensorflow-determinism (setup.py) ... \u001b[?25l-\b \b\\\b \bdone\r\n",
      "\u001b[?25h  Created wheel for tensorflow-determinism: filename=tensorflow_determinism-0.1.0-py3-none-any.whl size=5255 sha256=67ac643a14f74e9463b33320bc75b56f6a51bef823157dbcf45aecbd6d13dbb8\r\n",
      "  Stored in directory: /root/.cache/pip/wheels/ce/06/d4/df757adc4c81f705a74a0317c27cf19919ccd25ae2a6ecd2c5\r\n",
      "Successfully built tensorflow-determinism\r\n",
      "Installing collected packages: tensorflow-determinism\r\n",
      "Successfully installed tensorflow-determinism-0.1.0\r\n"
     ]
    }
   ],
   "source": [
    "# credit: https://www.kaggle.com/kokitanisaka/lstm-by-keras-with-unified-wi-fi-feats\n",
    "!pip install tensorflow-determinism"
   ]
  },
  {
   "cell_type": "code",
   "execution_count": 2,
   "id": "specialized-spine",
   "metadata": {
    "execution": {
     "iopub.execute_input": "2021-04-13T10:50:01.644719Z",
     "iopub.status.busy": "2021-04-13T10:50:01.640620Z",
     "iopub.status.idle": "2021-04-13T10:50:41.864546Z",
     "shell.execute_reply": "2021-04-13T10:50:41.864018Z"
    },
    "papermill": {
     "duration": 40.249713,
     "end_time": "2021-04-13T10:50:41.864695",
     "exception": false,
     "start_time": "2021-04-13T10:50:01.614982",
     "status": "completed"
    },
    "tags": []
   },
   "outputs": [
    {
     "name": "stdout",
     "output_type": "stream",
     "text": [
      "Cloning into 'indoor_location_competition_20'...\r\n",
      "remote: Enumerating objects: 1169, done.\u001b[K\r\n",
      "remote: Counting objects: 100% (1169/1169), done.\u001b[K\r\n",
      "remote: Compressing objects: 100% (1131/1131), done.\u001b[K\r\n",
      "remote: Total 1169 (delta 38), reused 1167 (delta 38), pack-reused 0\u001b[K\r\n",
      "Receiving objects: 100% (1169/1169), 411.37 MiB | 16.94 MiB/s, done.\r\n",
      "Resolving deltas: 100% (38/38), done.\r\n",
      "Checking out files: 100% (1145/1145), done.\r\n"
     ]
    }
   ],
   "source": [
    "!git clone --depth 1 https://github.com/location-competition/indoor-location-competition-20 indoor_location_competition_20\n",
    "!rm -rf indoor_location_competition_20/data"
   ]
  },
  {
   "cell_type": "code",
   "execution_count": 3,
   "id": "normal-imagination",
   "metadata": {
    "execution": {
     "iopub.execute_input": "2021-04-13T10:50:57.899939Z",
     "iopub.status.busy": "2021-04-13T10:50:57.899335Z",
     "iopub.status.idle": "2021-04-13T10:51:03.585937Z",
     "shell.execute_reply": "2021-04-13T10:51:03.585391Z"
    },
    "papermill": {
     "duration": 21.635567,
     "end_time": "2021-04-13T10:51:03.586062",
     "exception": false,
     "start_time": "2021-04-13T10:50:41.950495",
     "status": "completed"
    },
    "tags": []
   },
   "outputs": [],
   "source": [
    "import numpy as np\n",
    "import pandas as pd\n",
    "import scipy.stats as stats\n",
    "from pathlib import Path\n",
    "import glob\n",
    "import pickle\n",
    "\n",
    "import random\n",
    "import os\n",
    "\n",
    "from tqdm.notebook import tqdm\n",
    "\n",
    "from sklearn.model_selection import StratifiedKFold\n",
    "from sklearn.preprocessing import StandardScaler, LabelEncoder\n",
    "\n",
    "import tensorflow as tf\n",
    "import tensorflow.keras.layers as L\n",
    "import tensorflow.keras.models as M\n",
    "import tensorflow.keras.backend as K\n",
    "import tensorflow_addons as tfa\n",
    "from tensorflow_addons.layers import WeightNormalization\n",
    "from tensorflow.keras.callbacks import ReduceLROnPlateau, ModelCheckpoint, EarlyStopping\n",
    "\n",
    "from tensorflow.keras.layers import *\n",
    "from tensorflow.keras.models import *\n",
    "from tensorflow.keras.layers import *\n",
    "from tensorflow.keras.optimizers import *\n",
    "from tensorflow.keras.metrics import *\n",
    "from tensorflow.keras.utils import *\n",
    "from tensorflow.keras.callbacks import *\n",
    "\n",
    "import multiprocessing\n",
    "import scipy.interpolate\n",
    "import scipy.sparse\n",
    "from tqdm import tqdm\n",
    "\n",
    "from indoor_location_competition_20.io_f import read_data_file\n",
    "import indoor_location_competition_20.compute_f as compute_f\n",
    "\n",
    "from scipy.spatial.distance import cdist\n",
    "\n",
    "import warnings\n",
    "warnings.filterwarnings(\"ignore\")"
   ]
  },
  {
   "cell_type": "code",
   "execution_count": 4,
   "id": "personal-corner",
   "metadata": {
    "execution": {
     "iopub.execute_input": "2021-04-13T10:51:03.751596Z",
     "iopub.status.busy": "2021-04-13T10:51:03.750651Z",
     "iopub.status.idle": "2021-04-13T10:51:03.754870Z",
     "shell.execute_reply": "2021-04-13T10:51:03.754346Z"
    },
    "papermill": {
     "duration": 0.089046,
     "end_time": "2021-04-13T10:51:03.754983",
     "exception": false,
     "start_time": "2021-04-13T10:51:03.665937",
     "status": "completed"
    },
    "tags": []
   },
   "outputs": [],
   "source": [
    "# options\n",
    "N_SPLITS = 5\n",
    "SEED = 2021\n",
    "NUM_FEATS = 30 # number of features that we use. there are 100 feats but we don't need to use all of them\n",
    "base_path = '/kaggle'"
   ]
  },
  {
   "cell_type": "code",
   "execution_count": 5,
   "id": "fleet-collective",
   "metadata": {
    "execution": {
     "iopub.execute_input": "2021-04-13T10:51:03.922446Z",
     "iopub.status.busy": "2021-04-13T10:51:03.921915Z",
     "iopub.status.idle": "2021-04-13T10:51:03.924584Z",
     "shell.execute_reply": "2021-04-13T10:51:03.924959Z"
    },
    "papermill": {
     "duration": 0.090383,
     "end_time": "2021-04-13T10:51:03.925085",
     "exception": false,
     "start_time": "2021-04-13T10:51:03.834702",
     "status": "completed"
    },
    "tags": []
   },
   "outputs": [],
   "source": [
    "def set_seed(seed=42):\n",
    "    random.seed(seed)\n",
    "    os.environ['PYTHONHASHSEED'] = str(seed)\n",
    "    os.environ['TF_DETERMINISTIC_OPS'] = '1'\n",
    "    np.random.seed(seed)\n",
    "    tf.random.set_seed(seed)\n",
    "    session_conf = tf.compat.v1.ConfigProto(\n",
    "        intra_op_parallelism_threads=1,\n",
    "        inter_op_parallelism_threads=1\n",
    "    )\n",
    "    sess = tf.compat.v1.Session(graph=tf.compat.v1.get_default_graph(), config=session_conf)\n",
    "    tf.compat.v1.keras.backend.set_session(sess)\n",
    "    \n",
    "def comp_metric(xhat, yhat, fhat, x, y, f):\n",
    "    intermediate = np.sqrt(np.power(xhat-x, 2) + np.power(yhat-y, 2)) + 15 * np.abs(fhat-f)\n",
    "    return intermediate.sum()/xhat.shape[0]\n",
    "\n",
    "def xy_comp_metric(xhat, yhat, x, y):\n",
    "    intermediate = np.sqrt(np.power(xhat-x, 2) + np.power(yhat-y, 2))\n",
    "    return intermediate.sum()/xhat.shape[0]"
   ]
  },
  {
   "cell_type": "code",
   "execution_count": 6,
   "id": "expressed-contractor",
   "metadata": {
    "execution": {
     "iopub.execute_input": "2021-04-13T10:51:04.089578Z",
     "iopub.status.busy": "2021-04-13T10:51:04.089031Z",
     "iopub.status.idle": "2021-04-13T10:51:04.168282Z",
     "shell.execute_reply": "2021-04-13T10:51:04.167835Z"
    },
    "papermill": {
     "duration": 0.164256,
     "end_time": "2021-04-13T10:51:04.168391",
     "exception": false,
     "start_time": "2021-04-13T10:51:04.004135",
     "status": "completed"
    },
    "tags": []
   },
   "outputs": [],
   "source": [
    "feature_dir = f\"{base_path}/input/indooruniteddataset\"\n",
    "train_files = sorted(glob.glob(os.path.join(feature_dir, '*_train.csv')))\n",
    "test_files = sorted(glob.glob(os.path.join(feature_dir, '*_test.csv')))\n",
    "subm = pd.read_csv(f'{base_path}/input/indoor-location-navigation/sample_submission.csv', index_col=0)\n",
    "\n",
    "all_sites = sorted(set(pd.DataFrame(subm.index)[\"site_path_timestamp\"].apply(lambda x: x.split(\"_\")[0])))"
   ]
  },
  {
   "cell_type": "code",
   "execution_count": 7,
   "id": "recorded-batch",
   "metadata": {
    "execution": {
     "iopub.execute_input": "2021-04-13T10:51:04.337791Z",
     "iopub.status.busy": "2021-04-13T10:51:04.337230Z",
     "iopub.status.idle": "2021-04-13T10:51:04.902940Z",
     "shell.execute_reply": "2021-04-13T10:51:04.901821Z"
    },
    "papermill": {
     "duration": 0.654186,
     "end_time": "2021-04-13T10:51:04.903075",
     "exception": false,
     "start_time": "2021-04-13T10:51:04.248889",
     "status": "completed"
    },
    "tags": []
   },
   "outputs": [],
   "source": [
    "floor_train_pred = pd.read_csv(f'{base_path}/input/indoorlgbfloor/floor_prediction_in_train.csv')\n",
    "floor_train_only_pred = pd.read_csv(f'{base_path}/input/indoorlgbfloor/floor_prediction_in_train_only.csv')\n",
    "floor_test_pred = pd.read_csv(f'{base_path}/input/indoorlgbfloor/submission.csv')"
   ]
  },
  {
   "cell_type": "code",
   "execution_count": 8,
   "id": "declared-finger",
   "metadata": {
    "execution": {
     "iopub.execute_input": "2021-04-13T10:51:05.071116Z",
     "iopub.status.busy": "2021-04-13T10:51:05.069353Z",
     "iopub.status.idle": "2021-04-13T10:51:05.071742Z",
     "shell.execute_reply": "2021-04-13T10:51:05.072130Z"
    },
    "papermill": {
     "duration": 0.08813,
     "end_time": "2021-04-13T10:51:05.072257",
     "exception": false,
     "start_time": "2021-04-13T10:51:04.984127",
     "status": "completed"
    },
    "tags": []
   },
   "outputs": [],
   "source": [
    "# training target features\n",
    "BSSID_FEATS = [f'bssid_{i}' for i in range(NUM_FEATS)]\n",
    "RSSI_FEATS  = [f'rssi_{i}' for i in range(NUM_FEATS)]"
   ]
  },
  {
   "cell_type": "code",
   "execution_count": 9,
   "id": "rolled-victoria",
   "metadata": {
    "execution": {
     "iopub.execute_input": "2021-04-13T10:51:05.240886Z",
     "iopub.status.busy": "2021-04-13T10:51:05.238373Z",
     "iopub.status.idle": "2021-04-13T10:51:30.099344Z",
     "shell.execute_reply": "2021-04-13T10:51:30.099792Z"
    },
    "papermill": {
     "duration": 24.947857,
     "end_time": "2021-04-13T10:51:30.099974",
     "exception": false,
     "start_time": "2021-04-13T10:51:05.152117",
     "status": "completed"
    },
    "tags": []
   },
   "outputs": [
    {
     "name": "stderr",
     "output_type": "stream",
     "text": [
      "100%|██████████| 48/48 [00:22<00:00,  2.16it/s]\n",
      "100%|██████████| 24/24 [00:00<00:00, 24.57it/s]\n"
     ]
    }
   ],
   "source": [
    "data = []\n",
    "for i in tqdm(train_files):\n",
    "    tmp = pd.read_csv(i)\n",
    "    tmp[\"site_id\"] = i.split(\"/\")[4].split(\"_\")[0]\n",
    "    data.append(tmp)\n",
    "data = pd.concat(data).reset_index(drop=True)\n",
    "\n",
    "test_data = []\n",
    "for i in tqdm(test_files):\n",
    "    tmp = pd.read_csv(i)\n",
    "    tmp[\"site_id\"] = i.split(\"/\")[4].split(\"_\")[0]\n",
    "    test_data.append(tmp)\n",
    "test_data = pd.concat(test_data).reset_index(drop=True)"
   ]
  },
  {
   "cell_type": "code",
   "execution_count": 10,
   "id": "respective-malawi",
   "metadata": {
    "execution": {
     "iopub.execute_input": "2021-04-13T10:51:30.291384Z",
     "iopub.status.busy": "2021-04-13T10:51:30.290866Z",
     "iopub.status.idle": "2021-04-13T10:51:30.294934Z",
     "shell.execute_reply": "2021-04-13T10:51:30.294395Z"
    },
    "papermill": {
     "duration": 0.101119,
     "end_time": "2021-04-13T10:51:30.295048",
     "exception": false,
     "start_time": "2021-04-13T10:51:30.193929",
     "status": "completed"
    },
    "tags": []
   },
   "outputs": [],
   "source": [
    "#train_only_index = data[~data.site_id.isin(all_sites)].index\n",
    "#normal_index = data[data.site_id.isin(all_sites)].index\n",
    "#assert len(set(train_only_index) & set(normal_index)) == 0"
   ]
  },
  {
   "cell_type": "code",
   "execution_count": 11,
   "id": "bacterial-crazy",
   "metadata": {
    "execution": {
     "iopub.execute_input": "2021-04-13T10:51:30.523443Z",
     "iopub.status.busy": "2021-04-13T10:51:30.504459Z",
     "iopub.status.idle": "2021-04-13T10:51:31.735392Z",
     "shell.execute_reply": "2021-04-13T10:51:31.735821Z"
    },
    "papermill": {
     "duration": 1.347345,
     "end_time": "2021-04-13T10:51:31.735971",
     "exception": false,
     "start_time": "2021-04-13T10:51:30.388626",
     "status": "completed"
    },
    "tags": []
   },
   "outputs": [
    {
     "name": "stdout",
     "output_type": "stream",
     "text": [
      "BSSID TYPES: 54067\n",
      "BSSID TYPES: 25654\n"
     ]
    }
   ],
   "source": [
    "wifi_feat_nums = 60\n",
    "wifi_bssids = []\n",
    "for i in range(wifi_feat_nums):\n",
    "    wifi_bssids.extend(data.iloc[:,i].values.tolist())\n",
    "wifi_bssids = list(set(wifi_bssids))\n",
    "\n",
    "wifi_bssids_size = len(wifi_bssids)\n",
    "print(f'BSSID TYPES: {wifi_bssids_size}')\n",
    "\n",
    "wifi_bssids_test = []\n",
    "for i in range(wifi_feat_nums):\n",
    "    wifi_bssids_test.extend(test_data.iloc[:,i].values.tolist())\n",
    "wifi_bssids_test = list(set(wifi_bssids_test))\n",
    "\n",
    "wifi_bssids_size = len(wifi_bssids_test)\n",
    "print(f'BSSID TYPES: {wifi_bssids_size}')\n",
    "\n",
    "wifi_bssids.extend(wifi_bssids_test)\n",
    "wifi_bssids_size = len(wifi_bssids)"
   ]
  },
  {
   "cell_type": "code",
   "execution_count": 12,
   "id": "outdoor-nevada",
   "metadata": {
    "execution": {
     "iopub.execute_input": "2021-04-13T10:51:31.944909Z",
     "iopub.status.busy": "2021-04-13T10:51:31.944026Z",
     "iopub.status.idle": "2021-04-13T10:51:32.933538Z",
     "shell.execute_reply": "2021-04-13T10:51:32.932867Z"
    },
    "papermill": {
     "duration": 1.102434,
     "end_time": "2021-04-13T10:51:32.933675",
     "exception": false,
     "start_time": "2021-04-13T10:51:31.831241",
     "status": "completed"
    },
    "tags": []
   },
   "outputs": [
    {
     "data": {
      "text/plain": [
       "StandardScaler()"
      ]
     },
     "execution_count": 12,
     "metadata": {},
     "output_type": "execute_result"
    }
   ],
   "source": [
    "# preprocess\n",
    "\n",
    "le = LabelEncoder()\n",
    "le.fit(wifi_bssids)\n",
    "le_site = LabelEncoder()\n",
    "le_site.fit(data['site_id'])\n",
    "\n",
    "ss = StandardScaler()\n",
    "ss.fit(data.loc[:,RSSI_FEATS+['floor']])"
   ]
  },
  {
   "cell_type": "code",
   "execution_count": 13,
   "id": "figured-width",
   "metadata": {
    "execution": {
     "iopub.execute_input": "2021-04-13T10:51:33.153971Z",
     "iopub.status.busy": "2021-04-13T10:51:33.152945Z",
     "iopub.status.idle": "2021-04-13T10:51:55.627473Z",
     "shell.execute_reply": "2021-04-13T10:51:55.626510Z"
    },
    "papermill": {
     "duration": 22.59682,
     "end_time": "2021-04-13T10:51:55.627640",
     "exception": false,
     "start_time": "2021-04-13T10:51:33.030820",
     "status": "completed"
    },
    "tags": []
   },
   "outputs": [],
   "source": [
    "data.loc[:,RSSI_FEATS+['floor']] = ss.transform(data.loc[:,RSSI_FEATS+['floor']])\n",
    "for i in BSSID_FEATS:\n",
    "    data.loc[:,i] = le.transform(data.loc[:,i])\n",
    "    \n",
    "data.loc[:, 'site_id'] = le_site.transform(data.loc[:, 'site_id'])\n",
    "\n",
    "data.loc[:,RSSI_FEATS+['floor']] = ss.transform(data.loc[:,RSSI_FEATS+['floor']])"
   ]
  },
  {
   "cell_type": "code",
   "execution_count": 14,
   "id": "smaller-inspiration",
   "metadata": {
    "execution": {
     "iopub.execute_input": "2021-04-13T10:51:55.842507Z",
     "iopub.status.busy": "2021-04-13T10:51:55.841593Z",
     "iopub.status.idle": "2021-04-13T10:51:55.857798Z",
     "shell.execute_reply": "2021-04-13T10:51:55.857021Z"
    },
    "papermill": {
     "duration": 0.135618,
     "end_time": "2021-04-13T10:51:55.857919",
     "exception": false,
     "start_time": "2021-04-13T10:51:55.722301",
     "status": "completed"
    },
    "tags": []
   },
   "outputs": [],
   "source": [
    "lgb_pred = pd.read_csv('../input/indoorlgbfloor/submission.csv')\n",
    "test_data['floor'] = lgb_pred['floor'].values"
   ]
  },
  {
   "cell_type": "code",
   "execution_count": 15,
   "id": "canadian-dream",
   "metadata": {
    "execution": {
     "iopub.execute_input": "2021-04-13T10:51:56.182477Z",
     "iopub.status.busy": "2021-04-13T10:51:56.181671Z",
     "iopub.status.idle": "2021-04-13T10:51:59.181620Z",
     "shell.execute_reply": "2021-04-13T10:51:59.180616Z"
    },
    "papermill": {
     "duration": 3.16579,
     "end_time": "2021-04-13T10:51:59.181781",
     "exception": false,
     "start_time": "2021-04-13T10:51:56.015991",
     "status": "completed"
    },
    "tags": []
   },
   "outputs": [],
   "source": [
    "test_data.loc[:,RSSI_FEATS+['floor']] = ss.transform(test_data.loc[:,RSSI_FEATS+['floor']])\n",
    "for i in BSSID_FEATS:\n",
    "    test_data.loc[:,i] = le.transform(test_data.loc[:,i])\n",
    "    \n",
    "test_data.loc[:, 'site_id'] = le_site.transform(test_data.loc[:, 'site_id'])\n",
    "\n",
    "test_data.loc[:,RSSI_FEATS+['floor']] = ss.transform(test_data.loc[:,RSSI_FEATS+['floor']])"
   ]
  },
  {
   "cell_type": "code",
   "execution_count": 16,
   "id": "opponent-metro",
   "metadata": {
    "execution": {
     "iopub.execute_input": "2021-04-13T10:51:59.376472Z",
     "iopub.status.busy": "2021-04-13T10:51:59.375760Z",
     "iopub.status.idle": "2021-04-13T10:51:59.380924Z",
     "shell.execute_reply": "2021-04-13T10:51:59.380483Z"
    },
    "papermill": {
     "duration": 0.104353,
     "end_time": "2021-04-13T10:51:59.381028",
     "exception": false,
     "start_time": "2021-04-13T10:51:59.276675",
     "status": "completed"
    },
    "tags": []
   },
   "outputs": [],
   "source": [
    "site_count = len(data['site_id'].unique())\n",
    "data.reset_index(drop=True, inplace=True)"
   ]
  },
  {
   "cell_type": "code",
   "execution_count": 17,
   "id": "conceptual-healthcare",
   "metadata": {
    "execution": {
     "iopub.execute_input": "2021-04-13T10:51:59.572284Z",
     "iopub.status.busy": "2021-04-13T10:51:59.571794Z",
     "iopub.status.idle": "2021-04-13T10:52:01.928828Z",
     "shell.execute_reply": "2021-04-13T10:52:01.927804Z"
    },
    "papermill": {
     "duration": 2.454141,
     "end_time": "2021-04-13T10:52:01.928959",
     "exception": false,
     "start_time": "2021-04-13T10:51:59.474818",
     "status": "completed"
    },
    "tags": []
   },
   "outputs": [],
   "source": [
    "set_seed(SEED)"
   ]
  },
  {
   "cell_type": "code",
   "execution_count": 18,
   "id": "motivated-floating",
   "metadata": {
    "execution": {
     "iopub.execute_input": "2021-04-13T10:52:02.122792Z",
     "iopub.status.busy": "2021-04-13T10:52:02.122246Z",
     "iopub.status.idle": "2021-04-13T10:52:02.126205Z",
     "shell.execute_reply": "2021-04-13T10:52:02.125802Z"
    },
    "papermill": {
     "duration": 0.101732,
     "end_time": "2021-04-13T10:52:02.126312",
     "exception": false,
     "start_time": "2021-04-13T10:52:02.024580",
     "status": "completed"
    },
    "tags": []
   },
   "outputs": [],
   "source": [
    "#train_only_data = data[data.index.isin(train_only_index)].copy().reset_index(drop=True)\n",
    "#data = data[data.index.isin(normal_index)].copy().reset_index(drop=True)\n",
    "#data.shape, train_only_data.shape"
   ]
  },
  {
   "cell_type": "markdown",
   "id": "electoral-convention",
   "metadata": {
    "papermill": {
     "duration": 0.094851,
     "end_time": "2021-04-13T10:52:02.315756",
     "exception": false,
     "start_time": "2021-04-13T10:52:02.220905",
     "status": "completed"
    },
    "tags": []
   },
   "source": [
    "# model"
   ]
  },
  {
   "cell_type": "code",
   "execution_count": 19,
   "id": "thrown-float",
   "metadata": {
    "execution": {
     "iopub.execute_input": "2021-04-13T10:52:02.509627Z",
     "iopub.status.busy": "2021-04-13T10:52:02.509075Z",
     "iopub.status.idle": "2021-04-13T10:52:02.512314Z",
     "shell.execute_reply": "2021-04-13T10:52:02.512983Z"
    },
    "papermill": {
     "duration": 0.102332,
     "end_time": "2021-04-13T10:52:02.513115",
     "exception": false,
     "start_time": "2021-04-13T10:52:02.410783",
     "status": "completed"
    },
    "tags": []
   },
   "outputs": [],
   "source": [
    "num_heads = 8\n",
    "bssid_embed_dim = 64\n",
    "site_embed_dim = 2\n",
    "ff_dim = 128 \n",
    "DROPOUT = 0.2\n",
    "maxlen = NUM_FEATS\n",
    "batch_size=256\n",
    "epochs= 40"
   ]
  },
  {
   "cell_type": "code",
   "execution_count": 20,
   "id": "veterinary-charge",
   "metadata": {
    "execution": {
     "iopub.execute_input": "2021-04-13T10:52:02.712498Z",
     "iopub.status.busy": "2021-04-13T10:52:02.711944Z",
     "iopub.status.idle": "2021-04-13T10:52:02.715101Z",
     "shell.execute_reply": "2021-04-13T10:52:02.714679Z"
    },
    "papermill": {
     "duration": 0.107381,
     "end_time": "2021-04-13T10:52:02.715200",
     "exception": false,
     "start_time": "2021-04-13T10:52:02.607819",
     "status": "completed"
    },
    "tags": []
   },
   "outputs": [],
   "source": [
    "class TransformerBlock(Layer):\n",
    "    def __init__(self, embed_dim, num_heads, ff_dim, rate=DROPOUT):\n",
    "        super(TransformerBlock, self).__init__()\n",
    "        self.att = MultiHeadAttention(num_heads=num_heads, key_dim=embed_dim)\n",
    "        self.ffn = Sequential(\n",
    "            [Dense(ff_dim, activation=\"relu\"), Dense(embed_dim),]\n",
    "        )\n",
    "        self.layernorm1 = LayerNormalization(epsilon=1e-6)\n",
    "        self.layernorm2 = LayerNormalization(epsilon=1e-6)\n",
    "        self.dropout1 = Dropout(rate)\n",
    "        self.dropout2 = Dropout(rate)\n",
    "\n",
    "    def call(self, inputs, training):\n",
    "        attn_output = self.att(inputs, inputs)\n",
    "        attn_output = self.dropout1(attn_output, training=training)\n",
    "        out1 = self.layernorm1(inputs + attn_output)\n",
    "        ffn_output = self.ffn(out1)\n",
    "        ffn_output = self.dropout2(ffn_output, training=training)\n",
    "        return self.layernorm2(out1 + ffn_output)\n",
    "    \n",
    "class TokenAndPositionEmbedding(Layer):\n",
    "    def __init__(self, maxlen, vocab_size, embed_dim):\n",
    "        super(TokenAndPositionEmbedding, self).__init__()\n",
    "        self.token_emb = Embedding(input_dim=vocab_size, output_dim=embed_dim, mask_zero=True)\n",
    "        self.pos_emb = Embedding(input_dim=maxlen, output_dim=embed_dim)\n",
    "\n",
    "    def call(self, x):\n",
    "        maxlen = tf.shape(x)[-1]\n",
    "        positions = tf.range(start=0, limit=maxlen, delta=1)\n",
    "        positions = self.pos_emb(positions)\n",
    "        x = self.token_emb(x)\n",
    "        return x + positions"
   ]
  },
  {
   "cell_type": "code",
   "execution_count": 21,
   "id": "nearby-electricity",
   "metadata": {
    "execution": {
     "iopub.execute_input": "2021-04-13T10:52:02.925109Z",
     "iopub.status.busy": "2021-04-13T10:52:02.924406Z",
     "iopub.status.idle": "2021-04-13T10:52:02.927702Z",
     "shell.execute_reply": "2021-04-13T10:52:02.927253Z"
    },
    "papermill": {
     "duration": 0.117617,
     "end_time": "2021-04-13T10:52:02.927808",
     "exception": false,
     "start_time": "2021-04-13T10:52:02.810191",
     "status": "completed"
    },
    "tags": []
   },
   "outputs": [],
   "source": [
    "def create_model(input_data):\n",
    "\n",
    "    # bssid feats\n",
    "    input_dim = input_data[0].shape[1]\n",
    "\n",
    "    input_embd_layer = L.Input(shape=(input_dim,))\n",
    "    x1 = L.Embedding(wifi_bssids_size, bssid_embed_dim)(input_embd_layer)\n",
    "    x1 = L.Flatten()(x1)\n",
    "\n",
    "    # rssi feats\n",
    "    input_dim = input_data[1].shape[1]\n",
    "\n",
    "    input_layer = L.Input(input_dim, )\n",
    "    x2 = L.BatchNormalization()(input_layer)\n",
    "    x2 = L.Dense(NUM_FEATS * 64, activation='relu')(x2)\n",
    "\n",
    "    # site\n",
    "    input_site_layer = L.Input(shape=(1,))\n",
    "    x3 = L.Embedding(site_count, site_embed_dim)(input_site_layer)\n",
    "    x3 = L.Flatten()(x3)\n",
    "\n",
    "    \n",
    "    # main stream\n",
    "    x = L.Concatenate(axis=1)([x1, x3, x2])\n",
    "\n",
    "    x = L.BatchNormalization()(x)\n",
    "    x = L.Dropout(0.3)(x)\n",
    "    x = L.Dense(256, activation='relu')(x)\n",
    "\n",
    "    x = L.Reshape((1, -1))(x)\n",
    "    x = L.BatchNormalization()(x)\n",
    "    x = L.LSTM(128, dropout=0.3, recurrent_dropout=0.3, return_sequences=True, activation='elu')(x)\n",
    "    x = L.LSTM(16, dropout=0.1, return_sequences=False, activation='elu')(x)\n",
    "    \n",
    "    output_layer_1 = L.Dense(2, name='xy')(x)\n",
    "    output_layer_2 = L.Dense(1, activation='softmax', name='floor')(x)\n",
    "\n",
    "    model = M.Model([input_embd_layer, input_layer, input_site_layer], \n",
    "                    [output_layer_1, output_layer_2])\n",
    "\n",
    "    model.compile(optimizer=tf.optimizers.Adam(lr=0.002),\n",
    "                  loss='mse', metrics=['mse'])\n",
    "\n",
    "    return model"
   ]
  },
  {
   "cell_type": "code",
   "execution_count": 22,
   "id": "sporting-carbon",
   "metadata": {
    "execution": {
     "iopub.execute_input": "2021-04-13T10:52:03.141094Z",
     "iopub.status.busy": "2021-04-13T10:52:03.122216Z",
     "iopub.status.idle": "2021-04-13T13:22:37.433939Z",
     "shell.execute_reply": "2021-04-13T13:22:37.433096Z"
    },
    "papermill": {
     "duration": 9034.41011,
     "end_time": "2021-04-13T13:22:37.434085",
     "exception": false,
     "start_time": "2021-04-13T10:52:03.023975",
     "status": "completed"
    },
    "tags": []
   },
   "outputs": [
    {
     "name": "stdout",
     "output_type": "stream",
     "text": [
      "Epoch 1/40\n",
      "1115/1115 [==============================] - 81s 69ms/step - loss: 2325.7880 - xy_loss: 2322.5884 - floor_loss: 3.2008 - xy_mse: 2322.5884 - floor_mse: 3.2008 - val_loss: 105.1844 - val_xy_loss: 101.9772 - val_floor_loss: 3.2073 - val_xy_mse: 101.9772 - val_floor_mse: 3.2073\n",
      "\n",
      "Epoch 00001: val_xy_loss improved from inf to 101.97721, saving model to /kaggle/RNN_2021_0.hdf5\n",
      "Epoch 2/40\n",
      "1115/1115 [==============================] - 79s 71ms/step - loss: 164.9417 - xy_loss: 161.7357 - floor_loss: 3.2061 - xy_mse: 161.7357 - floor_mse: 3.2061 - val_loss: 66.8503 - val_xy_loss: 63.6430 - val_floor_loss: 3.2073 - val_xy_mse: 63.6430 - val_floor_mse: 3.2073\n",
      "\n",
      "Epoch 00002: val_xy_loss improved from 101.97721 to 63.64297, saving model to /kaggle/RNN_2021_0.hdf5\n",
      "Epoch 3/40\n",
      "1115/1115 [==============================] - 77s 69ms/step - loss: 126.6985 - xy_loss: 123.4859 - floor_loss: 3.2125 - xy_mse: 123.4859 - floor_mse: 3.2125 - val_loss: 51.1747 - val_xy_loss: 47.9674 - val_floor_loss: 3.2073 - val_xy_mse: 47.9674 - val_floor_mse: 3.2073\n",
      "\n",
      "Epoch 00003: val_xy_loss improved from 63.64297 to 47.96743, saving model to /kaggle/RNN_2021_0.hdf5\n",
      "Epoch 4/40\n",
      "1115/1115 [==============================] - 79s 71ms/step - loss: 101.7248 - xy_loss: 98.5187 - floor_loss: 3.2061 - xy_mse: 98.5187 - floor_mse: 3.2061 - val_loss: 48.2555 - val_xy_loss: 45.0482 - val_floor_loss: 3.2073 - val_xy_mse: 45.0482 - val_floor_mse: 3.2073\n",
      "\n",
      "Epoch 00004: val_xy_loss improved from 47.96743 to 45.04824, saving model to /kaggle/RNN_2021_0.hdf5\n",
      "Epoch 5/40\n",
      "1115/1115 [==============================] - 75s 67ms/step - loss: 90.7822 - xy_loss: 87.5727 - floor_loss: 3.2096 - xy_mse: 87.5727 - floor_mse: 3.2096 - val_loss: 42.7981 - val_xy_loss: 39.5908 - val_floor_loss: 3.2073 - val_xy_mse: 39.5908 - val_floor_mse: 3.2073\n",
      "\n",
      "Epoch 00005: val_xy_loss improved from 45.04824 to 39.59077, saving model to /kaggle/RNN_2021_0.hdf5\n",
      "Epoch 6/40\n",
      "1115/1115 [==============================] - 77s 69ms/step - loss: 80.8076 - xy_loss: 77.5974 - floor_loss: 3.2103 - xy_mse: 77.5974 - floor_mse: 3.2103 - val_loss: 49.5166 - val_xy_loss: 46.3094 - val_floor_loss: 3.2073 - val_xy_mse: 46.3094 - val_floor_mse: 3.2073\n",
      "\n",
      "Epoch 00006: val_xy_loss did not improve from 39.59077\n",
      "Epoch 7/40\n",
      "1115/1115 [==============================] - 76s 68ms/step - loss: 72.7790 - xy_loss: 69.5725 - floor_loss: 3.2064 - xy_mse: 69.5725 - floor_mse: 3.2064 - val_loss: 53.0934 - val_xy_loss: 49.8861 - val_floor_loss: 3.2073 - val_xy_mse: 49.8861 - val_floor_mse: 3.2073\n",
      "\n",
      "Epoch 00007: val_xy_loss did not improve from 39.59077\n",
      "Epoch 8/40\n",
      "1115/1115 [==============================] - 78s 70ms/step - loss: 65.3766 - xy_loss: 62.1700 - floor_loss: 3.2066 - xy_mse: 62.1700 - floor_mse: 3.2066 - val_loss: 46.0194 - val_xy_loss: 42.8122 - val_floor_loss: 3.2073 - val_xy_mse: 42.8122 - val_floor_mse: 3.2073\n",
      "\n",
      "Epoch 00008: ReduceLROnPlateau reducing learning rate to 0.00020000000949949026.\n",
      "\n",
      "Epoch 00008: val_xy_loss did not improve from 39.59077\n",
      "Epoch 9/40\n",
      "1115/1115 [==============================] - 78s 70ms/step - loss: 55.4174 - xy_loss: 52.2100 - floor_loss: 3.2074 - xy_mse: 52.2100 - floor_mse: 3.2074 - val_loss: 34.5558 - val_xy_loss: 31.3486 - val_floor_loss: 3.2073 - val_xy_mse: 31.3486 - val_floor_mse: 3.2073\n",
      "\n",
      "Epoch 00009: val_xy_loss improved from 39.59077 to 31.34859, saving model to /kaggle/RNN_2021_0.hdf5\n",
      "Epoch 10/40\n",
      "1115/1115 [==============================] - 79s 71ms/step - loss: 51.5807 - xy_loss: 48.3721 - floor_loss: 3.2085 - xy_mse: 48.3721 - floor_mse: 3.2085 - val_loss: 36.0230 - val_xy_loss: 32.8157 - val_floor_loss: 3.2073 - val_xy_mse: 32.8157 - val_floor_mse: 3.2073\n",
      "\n",
      "Epoch 00010: val_xy_loss did not improve from 31.34859\n",
      "Epoch 11/40\n",
      "1115/1115 [==============================] - 79s 71ms/step - loss: 49.5002 - xy_loss: 46.2878 - floor_loss: 3.2125 - xy_mse: 46.2878 - floor_mse: 3.2125 - val_loss: 34.1218 - val_xy_loss: 30.9145 - val_floor_loss: 3.2073 - val_xy_mse: 30.9145 - val_floor_mse: 3.2073\n",
      "\n",
      "Epoch 00011: val_xy_loss improved from 31.34859 to 30.91454, saving model to /kaggle/RNN_2021_0.hdf5\n",
      "Epoch 12/40\n",
      "1115/1115 [==============================] - 74s 66ms/step - loss: 48.2247 - xy_loss: 45.0248 - floor_loss: 3.1999 - xy_mse: 45.0248 - floor_mse: 3.1999 - val_loss: 31.8297 - val_xy_loss: 28.6224 - val_floor_loss: 3.2073 - val_xy_mse: 28.6224 - val_floor_mse: 3.2073\n",
      "\n",
      "Epoch 00012: val_xy_loss improved from 30.91454 to 28.62245, saving model to /kaggle/RNN_2021_0.hdf5\n",
      "Epoch 13/40\n",
      "1115/1115 [==============================] - 76s 68ms/step - loss: 47.3088 - xy_loss: 44.1011 - floor_loss: 3.2077 - xy_mse: 44.1011 - floor_mse: 3.2077 - val_loss: 32.0220 - val_xy_loss: 28.8147 - val_floor_loss: 3.2073 - val_xy_mse: 28.8147 - val_floor_mse: 3.2073\n",
      "\n",
      "Epoch 00013: val_xy_loss did not improve from 28.62245\n",
      "Epoch 14/40\n",
      "1115/1115 [==============================] - 76s 68ms/step - loss: 45.9582 - xy_loss: 42.7551 - floor_loss: 3.2031 - xy_mse: 42.7551 - floor_mse: 3.2031 - val_loss: 34.1169 - val_xy_loss: 30.9096 - val_floor_loss: 3.2073 - val_xy_mse: 30.9096 - val_floor_mse: 3.2073\n",
      "\n",
      "Epoch 00014: val_xy_loss did not improve from 28.62245\n",
      "Epoch 15/40\n",
      "1115/1115 [==============================] - 75s 68ms/step - loss: 45.1895 - xy_loss: 41.9874 - floor_loss: 3.2022 - xy_mse: 41.9874 - floor_mse: 3.2022 - val_loss: 30.8241 - val_xy_loss: 27.6168 - val_floor_loss: 3.2073 - val_xy_mse: 27.6168 - val_floor_mse: 3.2073\n",
      "\n",
      "Epoch 00015: val_xy_loss improved from 28.62245 to 27.61682, saving model to /kaggle/RNN_2021_0.hdf5\n",
      "Epoch 16/40\n",
      "1115/1115 [==============================] - 76s 68ms/step - loss: 44.1218 - xy_loss: 40.9219 - floor_loss: 3.1998 - xy_mse: 40.9219 - floor_mse: 3.1998 - val_loss: 32.4231 - val_xy_loss: 29.2158 - val_floor_loss: 3.2073 - val_xy_mse: 29.2158 - val_floor_mse: 3.2073\n",
      "\n",
      "Epoch 00016: val_xy_loss did not improve from 27.61682\n",
      "Epoch 17/40\n",
      "1115/1115 [==============================] - 78s 70ms/step - loss: 43.5116 - xy_loss: 40.3046 - floor_loss: 3.2069 - xy_mse: 40.3046 - floor_mse: 3.2069 - val_loss: 33.8406 - val_xy_loss: 30.6333 - val_floor_loss: 3.2073 - val_xy_mse: 30.6333 - val_floor_mse: 3.2073\n",
      "\n",
      "Epoch 00017: val_xy_loss did not improve from 27.61682\n",
      "Epoch 18/40\n",
      "1115/1115 [==============================] - 77s 69ms/step - loss: 43.0423 - xy_loss: 39.8381 - floor_loss: 3.2042 - xy_mse: 39.8381 - floor_mse: 3.2042 - val_loss: 31.0453 - val_xy_loss: 27.8381 - val_floor_loss: 3.2073 - val_xy_mse: 27.8381 - val_floor_mse: 3.2073\n",
      "\n",
      "Epoch 00018: ReduceLROnPlateau reducing learning rate to 2.0000000949949027e-05.\n",
      "\n",
      "Epoch 00018: val_xy_loss did not improve from 27.61682\n",
      "Epoch 19/40\n",
      "1115/1115 [==============================] - 77s 69ms/step - loss: 41.8456 - xy_loss: 38.6375 - floor_loss: 3.2081 - xy_mse: 38.6375 - floor_mse: 3.2081 - val_loss: 32.0621 - val_xy_loss: 28.8549 - val_floor_loss: 3.2073 - val_xy_mse: 28.8549 - val_floor_mse: 3.2073\n",
      "\n",
      "Epoch 00019: val_xy_loss did not improve from 27.61682\n",
      "Epoch 20/40\n",
      "1115/1115 [==============================] - 77s 69ms/step - loss: 41.3792 - xy_loss: 38.1756 - floor_loss: 3.2036 - xy_mse: 38.1756 - floor_mse: 3.2036 - val_loss: 32.1945 - val_xy_loss: 28.9872 - val_floor_loss: 3.2073 - val_xy_mse: 28.9872 - val_floor_mse: 3.2073\n",
      "\n",
      "Epoch 00020: val_xy_loss did not improve from 27.61682\n",
      "fold 0: metrics 31.65447517161585\n",
      "fold 0: root mean xy position error 6.069297432968311\n",
      "Epoch 1/40\n",
      "1115/1115 [==============================] - 82s 69ms/step - loss: 2445.1052 - xy_loss: 2441.9053 - floor_loss: 3.2007 - xy_mse: 2441.9053 - floor_mse: 3.2007 - val_loss: 82.2506 - val_xy_loss: 79.0432 - val_floor_loss: 3.2074 - val_xy_mse: 79.0432 - val_floor_mse: 3.2074\n",
      "\n",
      "Epoch 00001: val_xy_loss improved from inf to 79.04324, saving model to /kaggle/RNN_2021_1.hdf5\n",
      "Epoch 2/40\n",
      "1115/1115 [==============================] - 78s 70ms/step - loss: 161.0453 - xy_loss: 157.8392 - floor_loss: 3.2061 - xy_mse: 157.8392 - floor_mse: 3.2061 - val_loss: 68.4631 - val_xy_loss: 65.2557 - val_floor_loss: 3.2074 - val_xy_mse: 65.2557 - val_floor_mse: 3.2074\n",
      "\n",
      "Epoch 00002: val_xy_loss improved from 79.04324 to 65.25565, saving model to /kaggle/RNN_2021_1.hdf5\n",
      "Epoch 3/40\n",
      "1115/1115 [==============================] - 72s 64ms/step - loss: 126.8570 - xy_loss: 123.6445 - floor_loss: 3.2124 - xy_mse: 123.6445 - floor_mse: 3.2124 - val_loss: 53.4415 - val_xy_loss: 50.2342 - val_floor_loss: 3.2074 - val_xy_mse: 50.2342 - val_floor_mse: 3.2074\n",
      "\n",
      "Epoch 00003: val_xy_loss improved from 65.25565 to 50.23417, saving model to /kaggle/RNN_2021_1.hdf5\n",
      "Epoch 4/40\n",
      "1115/1115 [==============================] - 78s 70ms/step - loss: 102.1589 - xy_loss: 98.9528 - floor_loss: 3.2061 - xy_mse: 98.9528 - floor_mse: 3.2061 - val_loss: 50.4591 - val_xy_loss: 47.2518 - val_floor_loss: 3.2074 - val_xy_mse: 47.2518 - val_floor_mse: 3.2074\n",
      "\n",
      "Epoch 00004: val_xy_loss improved from 50.23417 to 47.25176, saving model to /kaggle/RNN_2021_1.hdf5\n",
      "Epoch 5/40\n",
      "1115/1115 [==============================] - 71s 63ms/step - loss: 88.1609 - xy_loss: 84.9514 - floor_loss: 3.2095 - xy_mse: 84.9514 - floor_mse: 3.2095 - val_loss: 47.8152 - val_xy_loss: 44.6078 - val_floor_loss: 3.2074 - val_xy_mse: 44.6078 - val_floor_mse: 3.2074\n",
      "\n",
      "Epoch 00005: val_xy_loss improved from 47.25176 to 44.60780, saving model to /kaggle/RNN_2021_1.hdf5\n",
      "Epoch 6/40\n",
      "1115/1115 [==============================] - 80s 71ms/step - loss: 78.3555 - xy_loss: 75.1451 - floor_loss: 3.2103 - xy_mse: 75.1451 - floor_mse: 3.2103 - val_loss: 51.2488 - val_xy_loss: 48.0415 - val_floor_loss: 3.2074 - val_xy_mse: 48.0415 - val_floor_mse: 3.2074\n",
      "\n",
      "Epoch 00006: val_xy_loss did not improve from 44.60780\n",
      "Epoch 7/40\n",
      "1115/1115 [==============================] - 73s 65ms/step - loss: 72.4311 - xy_loss: 69.2247 - floor_loss: 3.2064 - xy_mse: 69.2247 - floor_mse: 3.2064 - val_loss: 43.2512 - val_xy_loss: 40.0438 - val_floor_loss: 3.2074 - val_xy_mse: 40.0438 - val_floor_mse: 3.2074\n",
      "\n",
      "Epoch 00007: val_xy_loss improved from 44.60780 to 40.04383, saving model to /kaggle/RNN_2021_1.hdf5\n",
      "Epoch 8/40\n",
      "1115/1115 [==============================] - 78s 70ms/step - loss: 65.5520 - xy_loss: 62.3454 - floor_loss: 3.2066 - xy_mse: 62.3454 - floor_mse: 3.2066 - val_loss: 51.6275 - val_xy_loss: 48.4202 - val_floor_loss: 3.2074 - val_xy_mse: 48.4202 - val_floor_mse: 3.2074\n",
      "\n",
      "Epoch 00008: val_xy_loss did not improve from 40.04383\n",
      "Epoch 9/40\n",
      "1115/1115 [==============================] - 71s 64ms/step - loss: 60.8017 - xy_loss: 57.5945 - floor_loss: 3.2072 - xy_mse: 57.5945 - floor_mse: 3.2072 - val_loss: 48.2911 - val_xy_loss: 45.0837 - val_floor_loss: 3.2074 - val_xy_mse: 45.0837 - val_floor_mse: 3.2074\n",
      "\n",
      "Epoch 00009: val_xy_loss did not improve from 40.04383\n",
      "Epoch 10/40\n",
      "1115/1115 [==============================] - 77s 69ms/step - loss: 57.9007 - xy_loss: 54.6921 - floor_loss: 3.2085 - xy_mse: 54.6921 - floor_mse: 3.2085 - val_loss: 45.0913 - val_xy_loss: 41.8840 - val_floor_loss: 3.2074 - val_xy_mse: 41.8840 - val_floor_mse: 3.2074\n",
      "\n",
      "Epoch 00010: ReduceLROnPlateau reducing learning rate to 0.00020000000949949026.\n",
      "\n",
      "Epoch 00010: val_xy_loss did not improve from 40.04383\n",
      "Epoch 11/40\n",
      "1115/1115 [==============================] - 71s 64ms/step - loss: 49.9237 - xy_loss: 46.7113 - floor_loss: 3.2124 - xy_mse: 46.7113 - floor_mse: 3.2124 - val_loss: 38.4797 - val_xy_loss: 35.2723 - val_floor_loss: 3.2074 - val_xy_mse: 35.2723 - val_floor_mse: 3.2074\n",
      "\n",
      "Epoch 00011: val_xy_loss improved from 40.04383 to 35.27232, saving model to /kaggle/RNN_2021_1.hdf5\n",
      "Epoch 12/40\n",
      "1115/1115 [==============================] - 79s 70ms/step - loss: 47.1097 - xy_loss: 43.9097 - floor_loss: 3.2000 - xy_mse: 43.9097 - floor_mse: 3.2000 - val_loss: 35.5590 - val_xy_loss: 32.3516 - val_floor_loss: 3.2074 - val_xy_mse: 32.3516 - val_floor_mse: 3.2074\n",
      "\n",
      "Epoch 00012: val_xy_loss improved from 35.27232 to 32.35165, saving model to /kaggle/RNN_2021_1.hdf5\n",
      "Epoch 13/40\n",
      "1115/1115 [==============================] - 75s 68ms/step - loss: 46.0677 - xy_loss: 42.8600 - floor_loss: 3.2076 - xy_mse: 42.8600 - floor_mse: 3.2076 - val_loss: 34.0736 - val_xy_loss: 30.8662 - val_floor_loss: 3.2074 - val_xy_mse: 30.8662 - val_floor_mse: 3.2074\n",
      "\n",
      "Epoch 00013: val_xy_loss improved from 32.35165 to 30.86623, saving model to /kaggle/RNN_2021_1.hdf5\n",
      "Epoch 14/40\n",
      "1115/1115 [==============================] - 77s 69ms/step - loss: 44.8856 - xy_loss: 41.6826 - floor_loss: 3.2030 - xy_mse: 41.6826 - floor_mse: 3.2030 - val_loss: 35.9460 - val_xy_loss: 32.7386 - val_floor_loss: 3.2074 - val_xy_mse: 32.7386 - val_floor_mse: 3.2074\n",
      "\n",
      "Epoch 00014: val_xy_loss did not improve from 30.86623\n",
      "Epoch 15/40\n",
      "1115/1115 [==============================] - 77s 69ms/step - loss: 43.9826 - xy_loss: 40.7805 - floor_loss: 3.2021 - xy_mse: 40.7805 - floor_mse: 3.2021 - val_loss: 35.3397 - val_xy_loss: 32.1323 - val_floor_loss: 3.2074 - val_xy_mse: 32.1323 - val_floor_mse: 3.2074\n",
      "\n",
      "Epoch 00015: val_xy_loss did not improve from 30.86623\n",
      "Epoch 16/40\n",
      "1115/1115 [==============================] - 77s 69ms/step - loss: 43.6904 - xy_loss: 40.4905 - floor_loss: 3.1998 - xy_mse: 40.4905 - floor_mse: 3.1998 - val_loss: 34.5061 - val_xy_loss: 31.2988 - val_floor_loss: 3.2074 - val_xy_mse: 31.2988 - val_floor_mse: 3.2074\n",
      "\n",
      "Epoch 00016: ReduceLROnPlateau reducing learning rate to 2.0000000949949027e-05.\n",
      "\n",
      "Epoch 00016: val_xy_loss did not improve from 30.86623\n",
      "Epoch 17/40\n",
      "1115/1115 [==============================] - 82s 74ms/step - loss: 42.5152 - xy_loss: 39.3084 - floor_loss: 3.2068 - xy_mse: 39.3084 - floor_mse: 3.2068 - val_loss: 35.0653 - val_xy_loss: 31.8580 - val_floor_loss: 3.2074 - val_xy_mse: 31.8580 - val_floor_mse: 3.2074\n",
      "\n",
      "Epoch 00017: val_xy_loss did not improve from 30.86623\n",
      "Epoch 18/40\n",
      "1115/1115 [==============================] - 73s 66ms/step - loss: 42.4140 - xy_loss: 39.2098 - floor_loss: 3.2042 - xy_mse: 39.2098 - floor_mse: 3.2042 - val_loss: 34.5718 - val_xy_loss: 31.3644 - val_floor_loss: 3.2074 - val_xy_mse: 31.3644 - val_floor_mse: 3.2074\n",
      "\n",
      "Epoch 00018: val_xy_loss did not improve from 30.86623\n",
      "fold 1: metrics 31.842693892487137\n",
      "fold 1: root mean xy position error 6.257195080584132\n",
      "Epoch 1/40\n",
      "1115/1115 [==============================] - 88s 74ms/step - loss: 2387.5645 - xy_loss: 2384.3650 - floor_loss: 3.2007 - xy_mse: 2384.3650 - floor_mse: 3.2007 - val_loss: 96.0960 - val_xy_loss: 92.8887 - val_floor_loss: 3.2074 - val_xy_mse: 92.8887 - val_floor_mse: 3.2074\n",
      "\n",
      "Epoch 00001: val_xy_loss improved from inf to 92.88866, saving model to /kaggle/RNN_2021_2.hdf5\n",
      "Epoch 2/40\n",
      "1115/1115 [==============================] - 73s 66ms/step - loss: 174.7678 - xy_loss: 171.5617 - floor_loss: 3.2060 - xy_mse: 171.5617 - floor_mse: 3.2060 - val_loss: 76.6018 - val_xy_loss: 73.3944 - val_floor_loss: 3.2074 - val_xy_mse: 73.3944 - val_floor_mse: 3.2074\n",
      "\n",
      "Epoch 00002: val_xy_loss improved from 92.88866 to 73.39443, saving model to /kaggle/RNN_2021_2.hdf5\n",
      "Epoch 3/40\n",
      "1115/1115 [==============================] - 83s 74ms/step - loss: 141.6424 - xy_loss: 138.4301 - floor_loss: 3.2124 - xy_mse: 138.4301 - floor_mse: 3.2124 - val_loss: 54.1743 - val_xy_loss: 50.9670 - val_floor_loss: 3.2074 - val_xy_mse: 50.9670 - val_floor_mse: 3.2074\n",
      "\n",
      "Epoch 00003: val_xy_loss improved from 73.39443 to 50.96695, saving model to /kaggle/RNN_2021_2.hdf5\n",
      "Epoch 4/40\n",
      "1115/1115 [==============================] - 74s 66ms/step - loss: 118.6370 - xy_loss: 115.4309 - floor_loss: 3.2061 - xy_mse: 115.4309 - floor_mse: 3.2061 - val_loss: 58.8702 - val_xy_loss: 55.6628 - val_floor_loss: 3.2074 - val_xy_mse: 55.6628 - val_floor_mse: 3.2074\n",
      "\n",
      "Epoch 00004: val_xy_loss did not improve from 50.96695\n",
      "Epoch 5/40\n",
      "1115/1115 [==============================] - 72s 65ms/step - loss: 104.2679 - xy_loss: 101.0585 - floor_loss: 3.2094 - xy_mse: 101.0585 - floor_mse: 3.2094 - val_loss: 45.0261 - val_xy_loss: 41.8187 - val_floor_loss: 3.2074 - val_xy_mse: 41.8187 - val_floor_mse: 3.2074\n",
      "\n",
      "Epoch 00005: val_xy_loss improved from 50.96695 to 41.81872, saving model to /kaggle/RNN_2021_2.hdf5\n",
      "Epoch 6/40\n",
      "1115/1115 [==============================] - 72s 65ms/step - loss: 90.4503 - xy_loss: 87.2400 - floor_loss: 3.2104 - xy_mse: 87.2400 - floor_mse: 3.2104 - val_loss: 41.6016 - val_xy_loss: 38.3942 - val_floor_loss: 3.2074 - val_xy_mse: 38.3942 - val_floor_mse: 3.2074\n",
      "\n",
      "Epoch 00006: val_xy_loss improved from 41.81872 to 38.39421, saving model to /kaggle/RNN_2021_2.hdf5\n",
      "Epoch 7/40\n",
      "1115/1115 [==============================] - 81s 72ms/step - loss: 82.6731 - xy_loss: 79.4666 - floor_loss: 3.2065 - xy_mse: 79.4666 - floor_mse: 3.2065 - val_loss: 43.1368 - val_xy_loss: 39.9295 - val_floor_loss: 3.2074 - val_xy_mse: 39.9295 - val_floor_mse: 3.2074\n",
      "\n",
      "Epoch 00007: val_xy_loss did not improve from 38.39421\n",
      "Epoch 8/40\n",
      "1115/1115 [==============================] - 71s 64ms/step - loss: 74.3060 - xy_loss: 71.0995 - floor_loss: 3.2066 - xy_mse: 71.0995 - floor_mse: 3.2066 - val_loss: 42.7530 - val_xy_loss: 39.5456 - val_floor_loss: 3.2074 - val_xy_mse: 39.5456 - val_floor_mse: 3.2074\n",
      "\n",
      "Epoch 00008: val_xy_loss did not improve from 38.39421\n",
      "Epoch 9/40\n",
      "1115/1115 [==============================] - 71s 64ms/step - loss: 68.7027 - xy_loss: 65.4956 - floor_loss: 3.2071 - xy_mse: 65.4956 - floor_mse: 3.2071 - val_loss: 46.9461 - val_xy_loss: 43.7387 - val_floor_loss: 3.2074 - val_xy_mse: 43.7387 - val_floor_mse: 3.2074\n",
      "\n",
      "Epoch 00009: ReduceLROnPlateau reducing learning rate to 0.00020000000949949026.\n",
      "\n",
      "Epoch 00009: val_xy_loss did not improve from 38.39421\n",
      "Epoch 10/40\n",
      "1115/1115 [==============================] - 81s 73ms/step - loss: 59.2895 - xy_loss: 56.0810 - floor_loss: 3.2085 - xy_mse: 56.0810 - floor_mse: 3.2085 - val_loss: 33.5065 - val_xy_loss: 30.2991 - val_floor_loss: 3.2074 - val_xy_mse: 30.2991 - val_floor_mse: 3.2074\n",
      "\n",
      "Epoch 00010: val_xy_loss improved from 38.39421 to 30.29906, saving model to /kaggle/RNN_2021_2.hdf5\n",
      "Epoch 11/40\n",
      "1115/1115 [==============================] - 72s 65ms/step - loss: 55.7076 - xy_loss: 52.4952 - floor_loss: 3.2124 - xy_mse: 52.4952 - floor_mse: 3.2124 - val_loss: 33.3208 - val_xy_loss: 30.1134 - val_floor_loss: 3.2074 - val_xy_mse: 30.1134 - val_floor_mse: 3.2074\n",
      "\n",
      "Epoch 00011: val_xy_loss improved from 30.29906 to 30.11341, saving model to /kaggle/RNN_2021_2.hdf5\n",
      "Epoch 12/40\n",
      "1115/1115 [==============================] - 71s 64ms/step - loss: 54.3738 - xy_loss: 51.1738 - floor_loss: 3.2000 - xy_mse: 51.1738 - floor_mse: 3.2000 - val_loss: 33.3728 - val_xy_loss: 30.1654 - val_floor_loss: 3.2074 - val_xy_mse: 30.1654 - val_floor_mse: 3.2074\n",
      "\n",
      "Epoch 00012: val_xy_loss did not improve from 30.11341\n",
      "Epoch 13/40\n",
      "1115/1115 [==============================] - 71s 64ms/step - loss: 53.1702 - xy_loss: 49.9626 - floor_loss: 3.2076 - xy_mse: 49.9626 - floor_mse: 3.2076 - val_loss: 32.3115 - val_xy_loss: 29.1042 - val_floor_loss: 3.2074 - val_xy_mse: 29.1042 - val_floor_mse: 3.2074\n",
      "\n",
      "Epoch 00013: val_xy_loss improved from 30.11341 to 29.10416, saving model to /kaggle/RNN_2021_2.hdf5\n",
      "Epoch 14/40\n",
      "1115/1115 [==============================] - 83s 75ms/step - loss: 52.2503 - xy_loss: 49.0473 - floor_loss: 3.2030 - xy_mse: 49.0473 - floor_mse: 3.2030 - val_loss: 35.3883 - val_xy_loss: 32.1809 - val_floor_loss: 3.2074 - val_xy_mse: 32.1809 - val_floor_mse: 3.2074\n",
      "\n",
      "Epoch 00014: val_xy_loss did not improve from 29.10416\n",
      "Epoch 15/40\n",
      "1115/1115 [==============================] - 71s 64ms/step - loss: 51.2625 - xy_loss: 48.0603 - floor_loss: 3.2022 - xy_mse: 48.0603 - floor_mse: 3.2022 - val_loss: 30.9136 - val_xy_loss: 27.7063 - val_floor_loss: 3.2074 - val_xy_mse: 27.7063 - val_floor_mse: 3.2074\n",
      "\n",
      "Epoch 00015: val_xy_loss improved from 29.10416 to 27.70626, saving model to /kaggle/RNN_2021_2.hdf5\n",
      "Epoch 16/40\n",
      "1115/1115 [==============================] - 71s 64ms/step - loss: 51.0060 - xy_loss: 47.8062 - floor_loss: 3.1998 - xy_mse: 47.8062 - floor_mse: 3.1998 - val_loss: 32.2253 - val_xy_loss: 29.0179 - val_floor_loss: 3.2074 - val_xy_mse: 29.0179 - val_floor_mse: 3.2074\n",
      "\n",
      "Epoch 00016: val_xy_loss did not improve from 27.70626\n",
      "Epoch 17/40\n",
      "1115/1115 [==============================] - 71s 64ms/step - loss: 50.0448 - xy_loss: 46.8382 - floor_loss: 3.2067 - xy_mse: 46.8382 - floor_mse: 3.2067 - val_loss: 32.8805 - val_xy_loss: 29.6732 - val_floor_loss: 3.2074 - val_xy_mse: 29.6732 - val_floor_mse: 3.2074\n",
      "\n",
      "Epoch 00017: val_xy_loss did not improve from 27.70626\n",
      "Epoch 18/40\n",
      "1115/1115 [==============================] - 84s 75ms/step - loss: 49.1266 - xy_loss: 45.9223 - floor_loss: 3.2043 - xy_mse: 45.9223 - floor_mse: 3.2043 - val_loss: 32.9678 - val_xy_loss: 29.7604 - val_floor_loss: 3.2074 - val_xy_mse: 29.7604 - val_floor_mse: 3.2074\n",
      "\n",
      "Epoch 00018: ReduceLROnPlateau reducing learning rate to 2.0000000949949027e-05.\n",
      "\n",
      "Epoch 00018: val_xy_loss did not improve from 27.70626\n",
      "Epoch 19/40\n",
      "1115/1115 [==============================] - 76s 68ms/step - loss: 48.5670 - xy_loss: 45.3591 - floor_loss: 3.2079 - xy_mse: 45.3591 - floor_mse: 3.2079 - val_loss: 32.8320 - val_xy_loss: 29.6246 - val_floor_loss: 3.2074 - val_xy_mse: 29.6246 - val_floor_mse: 3.2074\n",
      "\n",
      "Epoch 00019: val_xy_loss did not improve from 27.70626\n",
      "Epoch 20/40\n",
      "1115/1115 [==============================] - 73s 66ms/step - loss: 48.2854 - xy_loss: 45.0820 - floor_loss: 3.2034 - xy_mse: 45.0820 - floor_mse: 3.2034 - val_loss: 32.2129 - val_xy_loss: 29.0055 - val_floor_loss: 3.2074 - val_xy_mse: 29.0055 - val_floor_mse: 3.2074\n",
      "\n",
      "Epoch 00020: val_xy_loss did not improve from 27.70626\n",
      "fold 2: metrics 31.598929458979978\n",
      "fold 2: root mean xy position error 6.013238003123693\n",
      "Epoch 1/40\n",
      "1115/1115 [==============================] - 89s 76ms/step - loss: 2280.7762 - xy_loss: 2277.5717 - floor_loss: 3.2040 - xy_mse: 2277.5717 - floor_mse: 3.2040 - val_loss: 74.7849 - val_xy_loss: 71.5773 - val_floor_loss: 3.2076 - val_xy_mse: 71.5773 - val_floor_mse: 3.2076\n",
      "\n",
      "Epoch 00001: val_xy_loss improved from inf to 71.57731, saving model to /kaggle/RNN_2021_3.hdf5\n",
      "Epoch 2/40\n",
      "1115/1115 [==============================] - 75s 67ms/step - loss: 175.1637 - xy_loss: 171.9513 - floor_loss: 3.2124 - xy_mse: 171.9513 - floor_mse: 3.2124 - val_loss: 69.4702 - val_xy_loss: 66.2627 - val_floor_loss: 3.2076 - val_xy_mse: 66.2627 - val_floor_mse: 3.2076\n",
      "\n",
      "Epoch 00002: val_xy_loss improved from 71.57731 to 66.26269, saving model to /kaggle/RNN_2021_3.hdf5\n",
      "Epoch 3/40\n",
      "1115/1115 [==============================] - 73s 65ms/step - loss: 140.8055 - xy_loss: 137.6036 - floor_loss: 3.2018 - xy_mse: 137.6036 - floor_mse: 3.2018 - val_loss: 70.7181 - val_xy_loss: 67.5105 - val_floor_loss: 3.2076 - val_xy_mse: 67.5105 - val_floor_mse: 3.2076\n",
      "\n",
      "Epoch 00003: val_xy_loss did not improve from 66.26269\n",
      "Epoch 4/40\n",
      "1115/1115 [==============================] - 73s 65ms/step - loss: 120.9100 - xy_loss: 117.7006 - floor_loss: 3.2095 - xy_mse: 117.7006 - floor_mse: 3.2095 - val_loss: 53.7898 - val_xy_loss: 50.5822 - val_floor_loss: 3.2076 - val_xy_mse: 50.5822 - val_floor_mse: 3.2076\n",
      "\n",
      "Epoch 00004: val_xy_loss improved from 66.26269 to 50.58219, saving model to /kaggle/RNN_2021_3.hdf5\n",
      "Epoch 5/40\n",
      "1115/1115 [==============================] - 86s 77ms/step - loss: 103.8925 - xy_loss: 100.6821 - floor_loss: 3.2104 - xy_mse: 100.6821 - floor_mse: 3.2104 - val_loss: 51.7436 - val_xy_loss: 48.5360 - val_floor_loss: 3.2076 - val_xy_mse: 48.5360 - val_floor_mse: 3.2076\n",
      "\n",
      "Epoch 00005: val_xy_loss improved from 50.58219 to 48.53603, saving model to /kaggle/RNN_2021_3.hdf5\n",
      "Epoch 6/40\n",
      "1115/1115 [==============================] - 74s 66ms/step - loss: 90.3279 - xy_loss: 87.1218 - floor_loss: 3.2061 - xy_mse: 87.1218 - floor_mse: 3.2061 - val_loss: 48.2146 - val_xy_loss: 45.0071 - val_floor_loss: 3.2076 - val_xy_mse: 45.0071 - val_floor_mse: 3.2076\n",
      "\n",
      "Epoch 00006: val_xy_loss improved from 48.53603 to 45.00708, saving model to /kaggle/RNN_2021_3.hdf5\n",
      "Epoch 7/40\n",
      "1115/1115 [==============================] - 72s 65ms/step - loss: 81.1701 - xy_loss: 77.9650 - floor_loss: 3.2051 - xy_mse: 77.9650 - floor_mse: 3.2051 - val_loss: 41.7315 - val_xy_loss: 38.5240 - val_floor_loss: 3.2076 - val_xy_mse: 38.5240 - val_floor_mse: 3.2076\n",
      "\n",
      "Epoch 00007: val_xy_loss improved from 45.00708 to 38.52396, saving model to /kaggle/RNN_2021_3.hdf5\n",
      "Epoch 8/40\n",
      "1115/1115 [==============================] - 74s 66ms/step - loss: 73.8126 - xy_loss: 70.6015 - floor_loss: 3.2111 - xy_mse: 70.6015 - floor_mse: 3.2111 - val_loss: 45.9169 - val_xy_loss: 42.7093 - val_floor_loss: 3.2076 - val_xy_mse: 42.7093 - val_floor_mse: 3.2076\n",
      "\n",
      "Epoch 00008: val_xy_loss did not improve from 38.52396\n",
      "Epoch 9/40\n",
      "1115/1115 [==============================] - 89s 80ms/step - loss: 68.5444 - xy_loss: 65.3326 - floor_loss: 3.2118 - xy_mse: 65.3326 - floor_mse: 3.2118 - val_loss: 49.5066 - val_xy_loss: 46.2990 - val_floor_loss: 3.2076 - val_xy_mse: 46.2990 - val_floor_mse: 3.2076\n",
      "\n",
      "Epoch 00009: val_xy_loss did not improve from 38.52396\n",
      "Epoch 10/40\n",
      "1115/1115 [==============================] - 72s 65ms/step - loss: 63.5951 - xy_loss: 60.3828 - floor_loss: 3.2123 - xy_mse: 60.3828 - floor_mse: 3.2123 - val_loss: 51.9697 - val_xy_loss: 48.7621 - val_floor_loss: 3.2076 - val_xy_mse: 48.7621 - val_floor_mse: 3.2076\n",
      "\n",
      "Epoch 00010: ReduceLROnPlateau reducing learning rate to 0.00020000000949949026.\n",
      "\n",
      "Epoch 00010: val_xy_loss did not improve from 38.52396\n",
      "Epoch 11/40\n",
      "1115/1115 [==============================] - 72s 65ms/step - loss: 56.0958 - xy_loss: 52.8848 - floor_loss: 3.2110 - xy_mse: 52.8848 - floor_mse: 3.2110 - val_loss: 35.5542 - val_xy_loss: 32.3466 - val_floor_loss: 3.2076 - val_xy_mse: 32.3466 - val_floor_mse: 3.2076\n",
      "\n",
      "Epoch 00011: val_xy_loss improved from 38.52396 to 32.34662, saving model to /kaggle/RNN_2021_3.hdf5\n",
      "Epoch 12/40\n",
      "1115/1115 [==============================] - 74s 66ms/step - loss: 52.1682 - xy_loss: 48.9627 - floor_loss: 3.2055 - xy_mse: 48.9627 - floor_mse: 3.2055 - val_loss: 34.7729 - val_xy_loss: 31.5653 - val_floor_loss: 3.2076 - val_xy_mse: 31.5653 - val_floor_mse: 3.2076\n",
      "\n",
      "Epoch 00012: val_xy_loss improved from 32.34662 to 31.56528, saving model to /kaggle/RNN_2021_3.hdf5\n",
      "Epoch 13/40\n",
      "1115/1115 [==============================] - 87s 78ms/step - loss: 51.0597 - xy_loss: 47.8534 - floor_loss: 3.2063 - xy_mse: 47.8534 - floor_mse: 3.2063 - val_loss: 36.9926 - val_xy_loss: 33.7851 - val_floor_loss: 3.2076 - val_xy_mse: 33.7851 - val_floor_mse: 3.2076\n",
      "\n",
      "Epoch 00013: val_xy_loss did not improve from 31.56528\n",
      "Epoch 14/40\n",
      "1115/1115 [==============================] - 74s 66ms/step - loss: 49.9822 - xy_loss: 46.7700 - floor_loss: 3.2123 - xy_mse: 46.7700 - floor_mse: 3.2123 - val_loss: 35.2412 - val_xy_loss: 32.0336 - val_floor_loss: 3.2076 - val_xy_mse: 32.0336 - val_floor_mse: 3.2076\n",
      "\n",
      "Epoch 00014: val_xy_loss did not improve from 31.56528\n",
      "Epoch 15/40\n",
      "1115/1115 [==============================] - 73s 65ms/step - loss: 48.8110 - xy_loss: 45.6036 - floor_loss: 3.2074 - xy_mse: 45.6036 - floor_mse: 3.2074 - val_loss: 38.5661 - val_xy_loss: 35.3585 - val_floor_loss: 3.2076 - val_xy_mse: 35.3585 - val_floor_mse: 3.2076\n",
      "\n",
      "Epoch 00015: ReduceLROnPlateau reducing learning rate to 2.0000000949949027e-05.\n",
      "\n",
      "Epoch 00015: val_xy_loss did not improve from 31.56528\n",
      "Epoch 16/40\n",
      "1115/1115 [==============================] - 84s 76ms/step - loss: 48.1508 - xy_loss: 44.9455 - floor_loss: 3.2053 - xy_mse: 44.9455 - floor_mse: 3.2053 - val_loss: 35.0232 - val_xy_loss: 31.8157 - val_floor_loss: 3.2076 - val_xy_mse: 31.8157 - val_floor_mse: 3.2076\n",
      "\n",
      "Epoch 00016: val_xy_loss did not improve from 31.56528\n",
      "Epoch 17/40\n",
      "1115/1115 [==============================] - 79s 71ms/step - loss: 47.7558 - xy_loss: 44.5523 - floor_loss: 3.2035 - xy_mse: 44.5523 - floor_mse: 3.2035 - val_loss: 34.7657 - val_xy_loss: 31.5581 - val_floor_loss: 3.2076 - val_xy_mse: 31.5581 - val_floor_mse: 3.2076\n",
      "\n",
      "Epoch 00017: val_xy_loss improved from 31.56528 to 31.55812, saving model to /kaggle/RNN_2021_3.hdf5\n",
      "Epoch 18/40\n",
      "1115/1115 [==============================] - 72s 65ms/step - loss: 47.6808 - xy_loss: 44.4731 - floor_loss: 3.2077 - xy_mse: 44.4731 - floor_mse: 3.2077 - val_loss: 34.9343 - val_xy_loss: 31.7267 - val_floor_loss: 3.2076 - val_xy_mse: 31.7267 - val_floor_mse: 3.2076\n",
      "\n",
      "Epoch 00018: val_xy_loss did not improve from 31.55812\n",
      "Epoch 19/40\n",
      "1115/1115 [==============================] - 71s 64ms/step - loss: 47.8548 - xy_loss: 44.6455 - floor_loss: 3.2093 - xy_mse: 44.6455 - floor_mse: 3.2093 - val_loss: 34.4328 - val_xy_loss: 31.2252 - val_floor_loss: 3.2076 - val_xy_mse: 31.2252 - val_floor_mse: 3.2076\n",
      "\n",
      "Epoch 00019: val_xy_loss improved from 31.55812 to 31.22524, saving model to /kaggle/RNN_2021_3.hdf5\n",
      "Epoch 20/40\n",
      "1115/1115 [==============================] - 92s 83ms/step - loss: 47.6852 - xy_loss: 44.4733 - floor_loss: 3.2118 - xy_mse: 44.4733 - floor_mse: 3.2118 - val_loss: 34.6041 - val_xy_loss: 31.3965 - val_floor_loss: 3.2076 - val_xy_mse: 31.3965 - val_floor_mse: 3.2076\n",
      "\n",
      "Epoch 00020: val_xy_loss did not improve from 31.22524\n",
      "Epoch 21/40\n",
      "1115/1115 [==============================] - 77s 69ms/step - loss: 47.4248 - xy_loss: 44.2237 - floor_loss: 3.2011 - xy_mse: 44.2237 - floor_mse: 3.2011 - val_loss: 34.6720 - val_xy_loss: 31.4645 - val_floor_loss: 3.2076 - val_xy_mse: 31.4645 - val_floor_mse: 3.2076\n",
      "\n",
      "Epoch 00021: val_xy_loss did not improve from 31.22524\n",
      "Epoch 22/40\n",
      "1115/1115 [==============================] - 73s 65ms/step - loss: 46.9191 - xy_loss: 43.7056 - floor_loss: 3.2135 - xy_mse: 43.7056 - floor_mse: 3.2135 - val_loss: 34.6472 - val_xy_loss: 31.4396 - val_floor_loss: 3.2076 - val_xy_mse: 31.4396 - val_floor_mse: 3.2076\n",
      "\n",
      "Epoch 00022: ReduceLROnPlateau reducing learning rate to 2.0000001313746906e-06.\n",
      "\n",
      "Epoch 00022: val_xy_loss did not improve from 31.22524\n",
      "Epoch 23/40\n",
      "1115/1115 [==============================] - 74s 66ms/step - loss: 47.3553 - xy_loss: 44.1478 - floor_loss: 3.2075 - xy_mse: 44.1478 - floor_mse: 3.2075 - val_loss: 34.4266 - val_xy_loss: 31.2190 - val_floor_loss: 3.2076 - val_xy_mse: 31.2190 - val_floor_mse: 3.2076\n",
      "\n",
      "Epoch 00023: val_xy_loss improved from 31.22524 to 31.21904, saving model to /kaggle/RNN_2021_3.hdf5\n",
      "Epoch 24/40\n",
      "1115/1115 [==============================] - 73s 65ms/step - loss: 47.2143 - xy_loss: 44.0040 - floor_loss: 3.2103 - xy_mse: 44.0040 - floor_mse: 3.2103 - val_loss: 34.9038 - val_xy_loss: 31.6962 - val_floor_loss: 3.2076 - val_xy_mse: 31.6962 - val_floor_mse: 3.2076\n",
      "\n",
      "Epoch 00024: val_xy_loss did not improve from 31.21904\n",
      "Epoch 25/40\n",
      "1115/1115 [==============================] - 73s 65ms/step - loss: 47.0250 - xy_loss: 43.8183 - floor_loss: 3.2067 - xy_mse: 43.8183 - floor_mse: 3.2067 - val_loss: 34.5768 - val_xy_loss: 31.3693 - val_floor_loss: 3.2076 - val_xy_mse: 31.3693 - val_floor_mse: 3.2076\n",
      "\n",
      "Epoch 00025: val_xy_loss did not improve from 31.21904\n",
      "Epoch 26/40\n",
      "1115/1115 [==============================] - 72s 65ms/step - loss: 47.1097 - xy_loss: 43.9041 - floor_loss: 3.2057 - xy_mse: 43.9041 - floor_mse: 3.2057 - val_loss: 34.5928 - val_xy_loss: 31.3853 - val_floor_loss: 3.2076 - val_xy_mse: 31.3853 - val_floor_mse: 3.2076\n",
      "\n",
      "Epoch 00026: ReduceLROnPlateau reducing learning rate to 2.000000222324161e-07.\n",
      "\n",
      "Epoch 00026: val_xy_loss did not improve from 31.21904\n",
      "Epoch 27/40\n",
      "1115/1115 [==============================] - 84s 75ms/step - loss: 47.3102 - xy_loss: 44.1008 - floor_loss: 3.2094 - xy_mse: 44.1008 - floor_mse: 3.2094 - val_loss: 34.1052 - val_xy_loss: 30.8976 - val_floor_loss: 3.2076 - val_xy_mse: 30.8976 - val_floor_mse: 3.2076\n",
      "\n",
      "Epoch 00027: val_xy_loss improved from 31.21904 to 30.89763, saving model to /kaggle/RNN_2021_3.hdf5\n",
      "Epoch 28/40\n",
      "1115/1115 [==============================] - 80s 71ms/step - loss: 46.8574 - xy_loss: 43.6544 - floor_loss: 3.2031 - xy_mse: 43.6544 - floor_mse: 3.2031 - val_loss: 34.4010 - val_xy_loss: 31.1935 - val_floor_loss: 3.2076 - val_xy_mse: 31.1935 - val_floor_mse: 3.2076\n",
      "\n",
      "Epoch 00028: val_xy_loss did not improve from 30.89763\n",
      "Epoch 29/40\n",
      "1115/1115 [==============================] - 72s 64ms/step - loss: 47.2315 - xy_loss: 44.0227 - floor_loss: 3.2088 - xy_mse: 44.0227 - floor_mse: 3.2088 - val_loss: 34.4359 - val_xy_loss: 31.2283 - val_floor_loss: 3.2076 - val_xy_mse: 31.2283 - val_floor_mse: 3.2076\n",
      "\n",
      "Epoch 00029: val_xy_loss did not improve from 30.89763\n",
      "Epoch 30/40\n",
      "1115/1115 [==============================] - 73s 65ms/step - loss: 46.9341 - xy_loss: 43.7267 - floor_loss: 3.2074 - xy_mse: 43.7267 - floor_mse: 3.2074 - val_loss: 34.7286 - val_xy_loss: 31.5211 - val_floor_loss: 3.2076 - val_xy_mse: 31.5211 - val_floor_mse: 3.2076\n",
      "\n",
      "Epoch 00030: ReduceLROnPlateau reducing learning rate to 2.000000165480742e-08.\n",
      "\n",
      "Epoch 00030: val_xy_loss did not improve from 30.89763\n",
      "Epoch 31/40\n",
      "1115/1115 [==============================] - 73s 65ms/step - loss: 47.0481 - xy_loss: 43.8433 - floor_loss: 3.2047 - xy_mse: 43.8433 - floor_mse: 3.2047 - val_loss: 34.7556 - val_xy_loss: 31.5480 - val_floor_loss: 3.2076 - val_xy_mse: 31.5480 - val_floor_mse: 3.2076\n",
      "\n",
      "Epoch 00031: val_xy_loss did not improve from 30.89763\n",
      "Epoch 32/40\n",
      "1115/1115 [==============================] - 72s 65ms/step - loss: 47.1659 - xy_loss: 43.9628 - floor_loss: 3.2031 - xy_mse: 43.9628 - floor_mse: 3.2031 - val_loss: 34.4848 - val_xy_loss: 31.2773 - val_floor_loss: 3.2076 - val_xy_mse: 31.2773 - val_floor_mse: 3.2076\n",
      "\n",
      "Epoch 00032: val_xy_loss did not improve from 30.89763\n",
      "fold 3: metrics 31.91890611905927\n",
      "fold 3: root mean xy position error 6.332287837746034\n",
      "Epoch 1/40\n",
      "1115/1115 [==============================] - 77s 66ms/step - loss: 2570.5981 - xy_loss: 2567.3942 - floor_loss: 3.2040 - xy_mse: 2567.3942 - floor_mse: 3.2040 - val_loss: 78.1181 - val_xy_loss: 74.9109 - val_floor_loss: 3.2072 - val_xy_mse: 74.9109 - val_floor_mse: 3.2072\n",
      "\n",
      "Epoch 00001: val_xy_loss improved from inf to 74.91090, saving model to /kaggle/RNN_2021_4.hdf5\n",
      "Epoch 2/40\n",
      "1115/1115 [==============================] - 85s 77ms/step - loss: 171.4738 - xy_loss: 168.2612 - floor_loss: 3.2125 - xy_mse: 168.2612 - floor_mse: 3.2125 - val_loss: 67.7164 - val_xy_loss: 64.5093 - val_floor_loss: 3.2072 - val_xy_mse: 64.5093 - val_floor_mse: 3.2072\n",
      "\n",
      "Epoch 00002: val_xy_loss improved from 74.91090 to 64.50926, saving model to /kaggle/RNN_2021_4.hdf5\n",
      "Epoch 3/40\n",
      "1115/1115 [==============================] - 84s 76ms/step - loss: 135.9118 - xy_loss: 132.7098 - floor_loss: 3.2020 - xy_mse: 132.7098 - floor_mse: 3.2020 - val_loss: 58.3783 - val_xy_loss: 55.1712 - val_floor_loss: 3.2072 - val_xy_mse: 55.1712 - val_floor_mse: 3.2072\n",
      "\n",
      "Epoch 00003: val_xy_loss improved from 64.50926 to 55.17118, saving model to /kaggle/RNN_2021_4.hdf5\n",
      "Epoch 4/40\n",
      "1115/1115 [==============================] - 74s 66ms/step - loss: 116.6715 - xy_loss: 113.4619 - floor_loss: 3.2096 - xy_mse: 113.4619 - floor_mse: 3.2096 - val_loss: 49.1888 - val_xy_loss: 45.9816 - val_floor_loss: 3.2072 - val_xy_mse: 45.9816 - val_floor_mse: 3.2072\n",
      "\n",
      "Epoch 00004: val_xy_loss improved from 55.17118 to 45.98160, saving model to /kaggle/RNN_2021_4.hdf5\n",
      "Epoch 5/40\n",
      "1115/1115 [==============================] - 74s 66ms/step - loss: 101.4602 - xy_loss: 98.2498 - floor_loss: 3.2105 - xy_mse: 98.2498 - floor_mse: 3.2105 - val_loss: 44.1488 - val_xy_loss: 40.9416 - val_floor_loss: 3.2072 - val_xy_mse: 40.9416 - val_floor_mse: 3.2072\n",
      "\n",
      "Epoch 00005: val_xy_loss improved from 45.98160 to 40.94165, saving model to /kaggle/RNN_2021_4.hdf5\n",
      "Epoch 6/40\n",
      "1115/1115 [==============================] - 75s 67ms/step - loss: 88.1011 - xy_loss: 84.8949 - floor_loss: 3.2062 - xy_mse: 84.8949 - floor_mse: 3.2062 - val_loss: 42.3381 - val_xy_loss: 39.1309 - val_floor_loss: 3.2072 - val_xy_mse: 39.1309 - val_floor_mse: 3.2072\n",
      "\n",
      "Epoch 00006: val_xy_loss improved from 40.94165 to 39.13092, saving model to /kaggle/RNN_2021_4.hdf5\n",
      "Epoch 7/40\n",
      "1115/1115 [==============================] - 74s 67ms/step - loss: 80.5487 - xy_loss: 77.3434 - floor_loss: 3.2053 - xy_mse: 77.3434 - floor_mse: 3.2053 - val_loss: 40.4344 - val_xy_loss: 37.2273 - val_floor_loss: 3.2072 - val_xy_mse: 37.2273 - val_floor_mse: 3.2072\n",
      "\n",
      "Epoch 00007: val_xy_loss improved from 39.13092 to 37.22731, saving model to /kaggle/RNN_2021_4.hdf5\n",
      "Epoch 8/40\n",
      "1115/1115 [==============================] - 75s 67ms/step - loss: 72.7682 - xy_loss: 69.5570 - floor_loss: 3.2113 - xy_mse: 69.5570 - floor_mse: 3.2113 - val_loss: 37.6369 - val_xy_loss: 34.4298 - val_floor_loss: 3.2072 - val_xy_mse: 34.4298 - val_floor_mse: 3.2072\n",
      "\n",
      "Epoch 00008: val_xy_loss improved from 37.22731 to 34.42979, saving model to /kaggle/RNN_2021_4.hdf5\n",
      "Epoch 9/40\n",
      "1115/1115 [==============================] - 82s 73ms/step - loss: 68.2821 - xy_loss: 65.0703 - floor_loss: 3.2119 - xy_mse: 65.0703 - floor_mse: 3.2119 - val_loss: 37.2356 - val_xy_loss: 34.0285 - val_floor_loss: 3.2072 - val_xy_mse: 34.0285 - val_floor_mse: 3.2072\n",
      "\n",
      "Epoch 00009: val_xy_loss improved from 34.42979 to 34.02850, saving model to /kaggle/RNN_2021_4.hdf5\n",
      "Epoch 10/40\n",
      "1115/1115 [==============================] - 90s 80ms/step - loss: 62.7865 - xy_loss: 59.5741 - floor_loss: 3.2124 - xy_mse: 59.5741 - floor_mse: 3.2124 - val_loss: 38.4992 - val_xy_loss: 35.2920 - val_floor_loss: 3.2072 - val_xy_mse: 35.2920 - val_floor_mse: 3.2072\n",
      "\n",
      "Epoch 00010: val_xy_loss did not improve from 34.02850\n",
      "Epoch 11/40\n",
      "1115/1115 [==============================] - 75s 67ms/step - loss: 59.9380 - xy_loss: 56.7270 - floor_loss: 3.2110 - xy_mse: 56.7270 - floor_mse: 3.2110 - val_loss: 38.6293 - val_xy_loss: 35.4222 - val_floor_loss: 3.2072 - val_xy_mse: 35.4222 - val_floor_mse: 3.2072\n",
      "\n",
      "Epoch 00011: val_xy_loss did not improve from 34.02850\n",
      "Epoch 12/40\n",
      "1115/1115 [==============================] - 75s 67ms/step - loss: 55.8269 - xy_loss: 52.6213 - floor_loss: 3.2056 - xy_mse: 52.6213 - floor_mse: 3.2056 - val_loss: 32.5541 - val_xy_loss: 29.3469 - val_floor_loss: 3.2072 - val_xy_mse: 29.3469 - val_floor_mse: 3.2072\n",
      "\n",
      "Epoch 00012: val_xy_loss improved from 34.02850 to 29.34693, saving model to /kaggle/RNN_2021_4.hdf5\n",
      "Epoch 13/40\n",
      "1115/1115 [==============================] - 76s 68ms/step - loss: 52.8021 - xy_loss: 49.5958 - floor_loss: 3.2063 - xy_mse: 49.5958 - floor_mse: 3.2063 - val_loss: 33.5750 - val_xy_loss: 30.3678 - val_floor_loss: 3.2072 - val_xy_mse: 30.3678 - val_floor_mse: 3.2072\n",
      "\n",
      "Epoch 00013: val_xy_loss did not improve from 29.34693\n",
      "Epoch 14/40\n",
      "1115/1115 [==============================] - 76s 68ms/step - loss: 50.3754 - xy_loss: 47.1630 - floor_loss: 3.2123 - xy_mse: 47.1630 - floor_mse: 3.2123 - val_loss: 30.7165 - val_xy_loss: 27.5093 - val_floor_loss: 3.2072 - val_xy_mse: 27.5093 - val_floor_mse: 3.2072\n",
      "\n",
      "Epoch 00014: val_xy_loss improved from 29.34693 to 27.50934, saving model to /kaggle/RNN_2021_4.hdf5\n",
      "Epoch 15/40\n",
      "1115/1115 [==============================] - 75s 67ms/step - loss: 47.2152 - xy_loss: 44.0078 - floor_loss: 3.2074 - xy_mse: 44.0078 - floor_mse: 3.2074 - val_loss: 31.3170 - val_xy_loss: 28.1099 - val_floor_loss: 3.2072 - val_xy_mse: 28.1099 - val_floor_mse: 3.2072\n",
      "\n",
      "Epoch 00015: val_xy_loss did not improve from 27.50934\n",
      "Epoch 16/40\n",
      "1115/1115 [==============================] - 80s 72ms/step - loss: 44.9220 - xy_loss: 41.7167 - floor_loss: 3.2053 - xy_mse: 41.7167 - floor_mse: 3.2053 - val_loss: 32.7186 - val_xy_loss: 29.5115 - val_floor_loss: 3.2072 - val_xy_mse: 29.5115 - val_floor_mse: 3.2072\n",
      "\n",
      "Epoch 00016: val_xy_loss did not improve from 27.50934\n",
      "Epoch 17/40\n",
      "1115/1115 [==============================] - 95s 85ms/step - loss: 42.4730 - xy_loss: 39.2693 - floor_loss: 3.2036 - xy_mse: 39.2693 - floor_mse: 3.2036 - val_loss: 31.9181 - val_xy_loss: 28.7110 - val_floor_loss: 3.2072 - val_xy_mse: 28.7110 - val_floor_mse: 3.2072\n",
      "\n",
      "Epoch 00017: ReduceLROnPlateau reducing learning rate to 0.00020000000949949026.\n",
      "\n",
      "Epoch 00017: val_xy_loss did not improve from 27.50934\n",
      "Epoch 18/40\n",
      "1115/1115 [==============================] - 75s 67ms/step - loss: 37.7147 - xy_loss: 34.5069 - floor_loss: 3.2078 - xy_mse: 34.5069 - floor_mse: 3.2078 - val_loss: 31.3148 - val_xy_loss: 28.1076 - val_floor_loss: 3.2072 - val_xy_mse: 28.1076 - val_floor_mse: 3.2072\n",
      "\n",
      "Epoch 00018: val_xy_loss did not improve from 27.50934\n",
      "Epoch 19/40\n",
      "1115/1115 [==============================] - 76s 68ms/step - loss: 35.8269 - xy_loss: 32.6175 - floor_loss: 3.2094 - xy_mse: 32.6175 - floor_mse: 3.2094 - val_loss: 27.6361 - val_xy_loss: 24.4289 - val_floor_loss: 3.2072 - val_xy_mse: 24.4289 - val_floor_mse: 3.2072\n",
      "\n",
      "Epoch 00019: val_xy_loss improved from 27.50934 to 24.42895, saving model to /kaggle/RNN_2021_4.hdf5\n",
      "Epoch 20/40\n",
      "1115/1115 [==============================] - 74s 67ms/step - loss: 35.4133 - xy_loss: 32.2014 - floor_loss: 3.2119 - xy_mse: 32.2014 - floor_mse: 3.2119 - val_loss: 27.0619 - val_xy_loss: 23.8548 - val_floor_loss: 3.2072 - val_xy_mse: 23.8548 - val_floor_mse: 3.2072\n",
      "\n",
      "Epoch 00020: val_xy_loss improved from 24.42895 to 23.85476, saving model to /kaggle/RNN_2021_4.hdf5\n",
      "Epoch 21/40\n",
      "1115/1115 [==============================] - 76s 68ms/step - loss: 34.8490 - xy_loss: 31.6478 - floor_loss: 3.2012 - xy_mse: 31.6478 - floor_mse: 3.2012 - val_loss: 27.1705 - val_xy_loss: 23.9633 - val_floor_loss: 3.2072 - val_xy_mse: 23.9633 - val_floor_mse: 3.2072\n",
      "\n",
      "Epoch 00021: val_xy_loss did not improve from 23.85476\n",
      "Epoch 22/40\n",
      "1115/1115 [==============================] - 75s 67ms/step - loss: 34.1162 - xy_loss: 30.9026 - floor_loss: 3.2136 - xy_mse: 30.9026 - floor_mse: 3.2136 - val_loss: 26.7594 - val_xy_loss: 23.5523 - val_floor_loss: 3.2072 - val_xy_mse: 23.5523 - val_floor_mse: 3.2072\n",
      "\n",
      "Epoch 00022: val_xy_loss improved from 23.85476 to 23.55230, saving model to /kaggle/RNN_2021_4.hdf5\n",
      "Epoch 23/40\n",
      "1115/1115 [==============================] - 75s 68ms/step - loss: 33.9277 - xy_loss: 30.7201 - floor_loss: 3.2077 - xy_mse: 30.7201 - floor_mse: 3.2077 - val_loss: 27.5142 - val_xy_loss: 24.3070 - val_floor_loss: 3.2072 - val_xy_mse: 24.3070 - val_floor_mse: 3.2072\n",
      "\n",
      "Epoch 00023: val_xy_loss did not improve from 23.55230\n",
      "Epoch 24/40\n",
      "1115/1115 [==============================] - 101s 90ms/step - loss: 33.4237 - xy_loss: 30.2132 - floor_loss: 3.2105 - xy_mse: 30.2132 - floor_mse: 3.2105 - val_loss: 27.4273 - val_xy_loss: 24.2201 - val_floor_loss: 3.2072 - val_xy_mse: 24.2201 - val_floor_mse: 3.2072\n",
      "\n",
      "Epoch 00024: val_xy_loss did not improve from 23.55230\n",
      "Epoch 25/40\n",
      "1115/1115 [==============================] - 74s 66ms/step - loss: 32.8871 - xy_loss: 29.6804 - floor_loss: 3.2068 - xy_mse: 29.6804 - floor_mse: 3.2068 - val_loss: 27.5147 - val_xy_loss: 24.3075 - val_floor_loss: 3.2072 - val_xy_mse: 24.3075 - val_floor_mse: 3.2072\n",
      "\n",
      "Epoch 00025: ReduceLROnPlateau reducing learning rate to 2.0000000949949027e-05.\n",
      "\n",
      "Epoch 00025: val_xy_loss did not improve from 23.55230\n",
      "Epoch 26/40\n",
      "1115/1115 [==============================] - 73s 66ms/step - loss: 32.4197 - xy_loss: 29.2139 - floor_loss: 3.2057 - xy_mse: 29.2139 - floor_mse: 3.2057 - val_loss: 26.9504 - val_xy_loss: 23.7433 - val_floor_loss: 3.2072 - val_xy_mse: 23.7433 - val_floor_mse: 3.2072\n",
      "\n",
      "Epoch 00026: val_xy_loss did not improve from 23.55230\n",
      "Epoch 27/40\n",
      "1115/1115 [==============================] - 75s 67ms/step - loss: 32.2265 - xy_loss: 29.0170 - floor_loss: 3.2095 - xy_mse: 29.0170 - floor_mse: 3.2095 - val_loss: 26.7706 - val_xy_loss: 23.5635 - val_floor_loss: 3.2072 - val_xy_mse: 23.5635 - val_floor_mse: 3.2072\n",
      "\n",
      "Epoch 00027: val_xy_loss did not improve from 23.55230\n",
      "fold 4: metrics 31.11422055606069\n",
      "fold 4: root mean xy position error 5.529445168759724\n",
      "*+*+*+*+*+*+*+*+*+*+*+*+*+*+*+*+*+*+*+*+*+*+*+*+*+*+*+*+*+*+*+*+*+*+*+*+*+*+*+*+\n",
      "metrics 31.62584565223537\n",
      "root mean xy position error 6.040293318041172\n",
      "[6.069297432968311, 6.257195080584132, 6.013238003123693, 6.332287837746034, 5.529445168759724]\n",
      "*+*+*+*+*+*+*+*+*+*+*+*+*+*+*+*+*+*+*+*+*+*+*+*+*+*+*+*+*+*+*+*+*+*+*+*+*+*+*+*+\n"
     ]
    }
   ],
   "source": [
    "score_df = pd.DataFrame()\n",
    "predictions = list()\n",
    "\n",
    "oof_xy = list()\n",
    "oof_x, oof_y, oof_f = np.zeros(data.shape[0]), np.zeros(data.shape[0]), np.zeros(data.shape[0])\n",
    "preds_x, preds_y = 0, 0\n",
    "preds_f_arr = np.zeros((test_data.shape[0], N_SPLITS))\n",
    "\n",
    "for fold, (trn_idx, val_idx) in enumerate(StratifiedKFold(n_splits=N_SPLITS, shuffle=True, \n",
    "                                                          random_state=SEED).split(data.loc[:, 'path'], \n",
    "                                                                                   data.loc[:, 'path'])):\n",
    "    \n",
    "    X_train = data.loc[trn_idx, BSSID_FEATS + RSSI_FEATS + ['site_id']] #1 +['floor']\n",
    "    y_trainx = data.loc[trn_idx, 'x']\n",
    "    y_trainy = data.loc[trn_idx, 'y']\n",
    "    y_trainf = data.loc[trn_idx, 'floor']\n",
    "    \n",
    "    #X_train = pd.concat([data.loc[trn_idx, BSSID_FEATS + RSSI_FEATS + ['site_id']],\n",
    "    #                    train_only_data[BSSID_FEATS + RSSI_FEATS + ['site_id']]], axis=0).reset_index(drop=True)\n",
    "    #y_trainx = pd.concat([data.loc[trn_idx, 'x'], train_only_data['x']], axis=0).reset_index(drop=True)\n",
    "    #y_trainy = pd.concat([data.loc[trn_idx, 'y'], train_only_data['y']], axis=0).reset_index(drop=True)\n",
    "    #y_trainf = pd.concat([data.loc[trn_idx, 'floor'], train_only_data['floor']], axis=0).reset_index(drop=True)\n",
    "\n",
    "    tmp = pd.concat([y_trainx, y_trainy], axis=1)\n",
    "    y_train = [tmp, y_trainf]\n",
    "\n",
    "    X_valid = data.loc[val_idx, BSSID_FEATS + RSSI_FEATS + ['site_id']] #2 +['floor']\n",
    "    y_validx = data.loc[val_idx, 'x']\n",
    "    y_validy = data.loc[val_idx, 'y']\n",
    "    y_validf = data.loc[val_idx, 'floor']\n",
    "\n",
    "    tmp = pd.concat([y_validx, y_validy], axis=1)\n",
    "    y_valid = [tmp, y_validf]\n",
    "\n",
    "    model = create_model([X_train.loc[:,BSSID_FEATS], X_train.loc[:,RSSI_FEATS], X_train.loc[:,'site_id']]) #3 +['floor']\n",
    "    model.fit([X_train.loc[:,BSSID_FEATS], X_train.loc[:,RSSI_FEATS], X_train.loc[:,'site_id']], y_train,  #4 +['floor']\n",
    "                validation_data=([X_valid.loc[:,BSSID_FEATS], X_valid.loc[:,RSSI_FEATS], X_valid.loc[:,'site_id']], y_valid), \n",
    "                batch_size=batch_size, epochs=epochs, #5+['floor']\n",
    "                callbacks=[\n",
    "                ReduceLROnPlateau(monitor='val_xy_loss', factor=0.1, patience=3, verbose=1, min_delta=1e-4, mode='min')\n",
    "                , ModelCheckpoint(f'{base_path}/RNN_{SEED}_{fold}.hdf5', monitor='val_xy_loss', verbose=1, save_best_only=True, save_weights_only=True, mode='min')\n",
    "                , EarlyStopping(monitor='val_xy_loss', min_delta=1e-4, patience=5, mode='min', baseline=None, restore_best_weights=True)\n",
    "            ])\n",
    "\n",
    "    model.load_weights(f'{base_path}/RNN_{SEED}_{fold}.hdf5')     #6+['floor']\n",
    "    val_pred = model.predict([X_valid.loc[:,BSSID_FEATS], X_valid.loc[:,RSSI_FEATS], X_valid.loc[:,'site_id']])\n",
    "\n",
    "    oof_x[val_idx] = val_pred[0][:,0]\n",
    "    oof_y[val_idx] = val_pred[0][:,1]\n",
    "    oof_f[val_idx] = val_pred[1][:,0].astype(int)\n",
    "                                                                  #7+['floor']\n",
    "    pred = model.predict([test_data.loc[:,BSSID_FEATS], test_data.loc[:,RSSI_FEATS], test_data.loc[:,'site_id']])\n",
    "    preds_x += pred[0][:,0]\n",
    "    preds_y += pred[0][:,1]\n",
    "    preds_f_arr[:, fold] = pred[1][:,0].astype(int)\n",
    "\n",
    "    score = comp_metric(oof_x[val_idx], oof_y[val_idx], oof_f[val_idx],\n",
    "                        y_validx.to_numpy(), y_validy.to_numpy(), y_validf.to_numpy())\n",
    "    print(f\"fold {fold}: metrics {score}\")\n",
    "    score2 = xy_comp_metric(oof_x[val_idx], oof_y[val_idx],\n",
    "                        y_validx.to_numpy(), y_validy.to_numpy())\n",
    "    print(f\"fold {fold}: root mean xy position error {score2}\")\n",
    "    oof_xy.append(score2)\n",
    "\n",
    "    K.clear_session()\n",
    "\n",
    "preds_x /= (fold + 1)\n",
    "preds_y /= (fold + 1)\n",
    "    \n",
    "print(\"*+\"*40)\n",
    "score = comp_metric(oof_x, oof_y, oof_f, data.iloc[:, -5].to_numpy(), data.iloc[:, -4].to_numpy(), data.iloc[:, -3].to_numpy())\n",
    "score2 = xy_comp_metric(oof_x, oof_y, data.iloc[:, -5].to_numpy(), data.iloc[:, -4].to_numpy())\n",
    "print(f\"metrics {score}\")\n",
    "print(f\"root mean xy position error {score2}\")\n",
    "print(oof_xy)\n",
    "print(\"*+\"*40)\n",
    "\n",
    "preds_f_mode = stats.mode(preds_f_arr, axis=1)\n",
    "preds_f = preds_f_mode[0].astype(int).reshape(-1)\n",
    "test_preds = pd.DataFrame(np.stack((preds_f, preds_x, preds_y))).T\n",
    "test_preds.columns = subm.columns\n",
    "test_preds.index = test_data[\"site_path_timestamp\"]\n",
    "test_preds[\"floor\"] = test_preds[\"floor\"].astype(int)\n",
    "predictions.append(test_preds)"
   ]
  },
  {
   "cell_type": "code",
   "execution_count": 23,
   "id": "stunning-turner",
   "metadata": {
    "execution": {
     "iopub.execute_input": "2021-04-13T13:23:48.768524Z",
     "iopub.status.busy": "2021-04-13T13:23:48.767797Z",
     "iopub.status.idle": "2021-04-13T13:23:48.781127Z",
     "shell.execute_reply": "2021-04-13T13:23:48.780682Z"
    },
    "papermill": {
     "duration": 35.583744,
     "end_time": "2021-04-13T13:23:48.781239",
     "exception": false,
     "start_time": "2021-04-13T13:23:13.197495",
     "status": "completed"
    },
    "tags": []
   },
   "outputs": [],
   "source": [
    "all_preds = pd.concat(predictions)\n",
    "all_preds = all_preds.reindex(subm.index)\n",
    "\n",
    "lgb_pred = pd.read_csv('../input/indoorlgbfloor/submission.csv')\n",
    "all_preds['floor'] = lgb_pred['floor'].values"
   ]
  },
  {
   "cell_type": "markdown",
   "id": "labeled-revelation",
   "metadata": {
    "papermill": {
     "duration": 35.952628,
     "end_time": "2021-04-13T13:25:00.410600",
     "exception": false,
     "start_time": "2021-04-13T13:24:24.457972",
     "status": "completed"
    },
    "tags": []
   },
   "source": [
    "# postprocess (cost minimization)"
   ]
  },
  {
   "cell_type": "code",
   "execution_count": 24,
   "id": "golden-palestinian",
   "metadata": {
    "execution": {
     "iopub.execute_input": "2021-04-13T13:26:12.328867Z",
     "iopub.status.busy": "2021-04-13T13:26:12.327084Z",
     "iopub.status.idle": "2021-04-13T13:26:12.329430Z",
     "shell.execute_reply": "2021-04-13T13:26:12.329836Z"
    },
    "papermill": {
     "duration": 35.816659,
     "end_time": "2021-04-13T13:26:12.329969",
     "exception": false,
     "start_time": "2021-04-13T13:25:36.513310",
     "status": "completed"
    },
    "tags": []
   },
   "outputs": [],
   "source": [
    "INPUT_PATH = '../input/indoor-location-navigation'\n",
    "\n",
    "def compute_rel_positions(acce_datas, ahrs_datas):\n",
    "    step_timestamps, step_indexs, step_acce_max_mins = compute_f.compute_steps(acce_datas)\n",
    "    headings = compute_f.compute_headings(ahrs_datas)\n",
    "    stride_lengths = compute_f.compute_stride_length(step_acce_max_mins)\n",
    "    step_headings = compute_f.compute_step_heading(step_timestamps, headings)\n",
    "    rel_positions = compute_f.compute_rel_positions(stride_lengths, step_headings)\n",
    "    return rel_positions\n",
    "\n",
    "def correct_path(args):\n",
    "    path, path_df = args\n",
    "    \n",
    "    T_ref  = path_df['timestamp'].values\n",
    "    xy_hat = path_df[['x', 'y']].values\n",
    "    \n",
    "    example = read_data_file(f'{INPUT_PATH}/test/{path}.txt')\n",
    "    rel_positions = compute_rel_positions(example.acce, example.ahrs)\n",
    "    if T_ref[-1] > rel_positions[-1, 0]:\n",
    "        rel_positions = [np.array([[0, 0, 0]]), rel_positions, np.array([[T_ref[-1], 0, 0]])]\n",
    "    else:\n",
    "        rel_positions = [np.array([[0, 0, 0]]), rel_positions]\n",
    "    rel_positions = np.concatenate(rel_positions)\n",
    "    \n",
    "    T_rel = rel_positions[:, 0]\n",
    "    delta_xy_hat = np.diff(scipy.interpolate.interp1d(T_rel, np.cumsum(rel_positions[:, 1:3], axis=0), axis=0)(T_ref), axis=0)\n",
    "\n",
    "    N = xy_hat.shape[0]\n",
    "    delta_t = np.diff(T_ref)\n",
    "    alpha = (8.1)**(-2) * np.ones(N)\n",
    "    beta  = (0.3 + 0.3 * 1e-3 * delta_t)**(-2)\n",
    "    A = scipy.sparse.spdiags(alpha, [0], N, N)\n",
    "    B = scipy.sparse.spdiags( beta, [0], N-1, N-1)\n",
    "    D = scipy.sparse.spdiags(np.stack([-np.ones(N), np.ones(N)]), [0, 1], N-1, N)\n",
    "\n",
    "    Q = A + (D.T @ B @ D)\n",
    "    c = (A @ xy_hat) + (D.T @ (B @ delta_xy_hat))\n",
    "    xy_star = scipy.sparse.linalg.spsolve(Q, c)\n",
    "    \n",
    "    return pd.DataFrame({\n",
    "        'site_path_timestamp' : path_df['site_path_timestamp'],\n",
    "        'floor' : path_df['floor'],\n",
    "        'x' : xy_star[:, 0],\n",
    "        'y' : xy_star[:, 1],\n",
    "    })"
   ]
  },
  {
   "cell_type": "code",
   "execution_count": 25,
   "id": "assumed-technique",
   "metadata": {
    "execution": {
     "iopub.execute_input": "2021-04-13T13:27:23.174883Z",
     "iopub.status.busy": "2021-04-13T13:27:23.174094Z",
     "iopub.status.idle": "2021-04-13T13:40:17.972836Z",
     "shell.execute_reply": "2021-04-13T13:40:17.971565Z"
    },
    "papermill": {
     "duration": 810.270544,
     "end_time": "2021-04-13T13:40:17.972995",
     "exception": false,
     "start_time": "2021-04-13T13:26:47.702451",
     "status": "completed"
    },
    "tags": []
   },
   "outputs": [
    {
     "name": "stderr",
     "output_type": "stream",
     "text": [
      "626it [12:51,  1.23s/it]\n"
     ]
    }
   ],
   "source": [
    "sub = pd.read_csv('../input/indoor-location-navigation/sample_submission.csv')\n",
    "sub[\"floor\"] = all_preds['floor'].values\n",
    "sub[\"x\"] = all_preds['x'].values\n",
    "sub[\"y\"] = all_preds['y'].values\n",
    "\n",
    "tmp = sub['site_path_timestamp'].apply(lambda s : pd.Series(s.split('_')))\n",
    "sub['site'] = tmp[0]\n",
    "sub['path'] = tmp[1]\n",
    "sub['timestamp'] = tmp[2].astype(float)\n",
    "\n",
    "processes = multiprocessing.cpu_count()\n",
    "with multiprocessing.Pool(processes=processes) as pool:\n",
    "    dfs = pool.imap_unordered(correct_path, sub.groupby('path'))\n",
    "    dfs = tqdm(dfs)\n",
    "    dfs = list(dfs)\n",
    "sub = pd.concat(dfs).sort_values('site_path_timestamp')\n",
    "sub.to_csv('submission.csv', index=False)"
   ]
  },
  {
   "cell_type": "markdown",
   "id": "tropical-warrant",
   "metadata": {
    "papermill": {
     "duration": 35.845581,
     "end_time": "2021-04-13T13:41:30.261559",
     "exception": false,
     "start_time": "2021-04-13T13:40:54.415978",
     "status": "completed"
    },
    "tags": []
   },
   "source": [
    "# postprocess (snap to grid)"
   ]
  },
  {
   "cell_type": "code",
   "execution_count": 26,
   "id": "standard-drilling",
   "metadata": {
    "execution": {
     "iopub.execute_input": "2021-04-13T13:42:42.242794Z",
     "iopub.status.busy": "2021-04-13T13:42:42.241888Z",
     "iopub.status.idle": "2021-04-13T13:42:42.243844Z",
     "shell.execute_reply": "2021-04-13T13:42:42.244249Z"
    },
    "papermill": {
     "duration": 36.016427,
     "end_time": "2021-04-13T13:42:42.244384",
     "exception": false,
     "start_time": "2021-04-13T13:42:06.227957",
     "status": "completed"
    },
    "tags": []
   },
   "outputs": [],
   "source": [
    "# def split_col(df):\n",
    "#     df = pd.concat([\n",
    "#         df['site_path_timestamp'].str.split('_', expand=True) \\\n",
    "#         .rename(columns={0:'site',\n",
    "#                          1:'path',\n",
    "#                          2:'timestamp'}),\n",
    "#         df\n",
    "#     ], axis=1).copy()\n",
    "#     return df\n",
    "\n",
    "# def add_xy(df):\n",
    "#     df['xy'] = [(x, y) for x,y in zip(df['x'], df['y'])]\n",
    "#     return df\n",
    "\n",
    "# def closest_point(point, points):\n",
    "#     \"\"\" Find closest point from a list of points. \"\"\"\n",
    "#     return points[cdist([point], points).argmin()]\n",
    "\n",
    "# train_waypoints = pd.read_csv('../input/indoor-location-train-waypoints/train_waypoints.csv')\n",
    "\n",
    "# sub = split_col(sub)\n",
    "# sub = add_xy(sub)\n",
    "# train_waypoints = add_xy(train_waypoints)\n",
    "\n",
    "# ds = []\n",
    "# for (site, myfloor), d in sub.groupby(['site','floor']):\n",
    "#     true_floor_locs = train_waypoints.loc[(train_waypoints['floor'] == myfloor) &\n",
    "#                                           (train_waypoints['site'] == site)] \\\n",
    "#         .reset_index(drop=True)\n",
    "#     if len(true_floor_locs) == 0:\n",
    "#         print(f'Skipping {site} {myfloor}')\n",
    "#         continue\n",
    "#     d['matched_point'] = [closest_point(x, list(true_floor_locs['xy'])) for x in d['xy']]\n",
    "#     d['x_'] = d['matched_point'].apply(lambda x: x[0])\n",
    "#     d['y_'] = d['matched_point'].apply(lambda x: x[1])\n",
    "#     ds.append(d)\n",
    "\n",
    "# sub = pd.concat(ds)"
   ]
  },
  {
   "cell_type": "code",
   "execution_count": 27,
   "id": "metropolitan-project",
   "metadata": {
    "execution": {
     "iopub.execute_input": "2021-04-13T13:43:54.303957Z",
     "iopub.status.busy": "2021-04-13T13:43:54.303115Z",
     "iopub.status.idle": "2021-04-13T13:43:54.305298Z",
     "shell.execute_reply": "2021-04-13T13:43:54.305959Z"
    },
    "papermill": {
     "duration": 36.061818,
     "end_time": "2021-04-13T13:43:54.306155",
     "exception": false,
     "start_time": "2021-04-13T13:43:18.244337",
     "status": "completed"
    },
    "tags": []
   },
   "outputs": [],
   "source": [
    "# def snap_to_grid(sub, threshold):\n",
    "#     \"\"\"\n",
    "#     Snap to grid if within a threshold.\n",
    "    \n",
    "#     x, y are the predicted points.\n",
    "#     x_, y_ are the closest grid points.\n",
    "#     _x_, _y_ are the new predictions after post processing.\n",
    "#     \"\"\"\n",
    "#     sub['_x_'] = sub['x']\n",
    "#     sub['_y_'] = sub['y']\n",
    "#     sub.loc[sub['dist'] < threshold, '_x_'] = sub.loc[sub['dist'] < threshold]['x_']\n",
    "#     sub.loc[sub['dist'] < threshold, '_y_'] = sub.loc[sub['dist'] < threshold]['y_']\n",
    "#     return sub.copy()\n",
    "\n",
    "# # Calculate the distances\n",
    "# sub['dist'] = np.sqrt( (sub.x-sub.x_)**2 + (sub.y-sub.y_)**2 )\n",
    "\n",
    "# sub_pp = snap_to_grid(sub, threshold=4)\n",
    "\n",
    "# sub_pp = sub_pp[['site_path_timestamp','floor','_x_','_y_','site','path']] \\\n",
    "#     .rename(columns={'_x_':'x', '_y_':'y'})\n",
    "# sub_pp[['site_path_timestamp','floor','x','y']].to_csv('submission.csv', index=False)"
   ]
  },
  {
   "cell_type": "code",
   "execution_count": null,
   "id": "special-check",
   "metadata": {
    "papermill": {
     "duration": 36.050296,
     "end_time": "2021-04-13T13:45:06.210478",
     "exception": false,
     "start_time": "2021-04-13T13:44:30.160182",
     "status": "completed"
    },
    "tags": []
   },
   "outputs": [],
   "source": []
  }
 ],
 "metadata": {
  "kernelspec": {
   "display_name": "Python 3",
   "language": "python",
   "name": "python3"
  },
  "language_info": {
   "codemirror_mode": {
    "name": "ipython",
    "version": 3
   },
   "file_extension": ".py",
   "mimetype": "text/x-python",
   "name": "python",
   "nbconvert_exporter": "python",
   "pygments_lexer": "ipython3",
   "version": "3.7.9"
  },
  "papermill": {
   "default_parameters": {},
   "duration": 10560.022214,
   "end_time": "2021-04-13T13:45:45.677780",
   "environment_variables": {},
   "exception": null,
   "input_path": "__notebook__.ipynb",
   "output_path": "__notebook__.ipynb",
   "parameters": {},
   "start_time": "2021-04-13T10:49:45.655566",
   "version": "2.3.2"
  }
 },
 "nbformat": 4,
 "nbformat_minor": 5
}
