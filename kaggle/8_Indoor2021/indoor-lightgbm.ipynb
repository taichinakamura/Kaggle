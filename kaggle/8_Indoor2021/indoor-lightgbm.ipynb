{
 "cells": [
  {
   "cell_type": "markdown",
   "id": "polyphonic-zealand",
   "metadata": {
    "papermill": {
     "duration": 0.011788,
     "end_time": "2021-04-11T23:42:41.509225",
     "exception": false,
     "start_time": "2021-04-11T23:42:41.497437",
     "status": "completed"
    },
    "tags": []
   },
   "source": [
    "- renew dataset (version 5: bssid more than 100 and timestamp, additional 25 files)\n",
    "- cancel timestamp in some cases * (go back to version 11)\n",
    "- add predictions for train-only sites *"
   ]
  },
  {
   "cell_type": "code",
   "execution_count": 1,
   "id": "civil-trail",
   "metadata": {
    "_cell_guid": "b1076dfc-b9ad-4769-8c92-a6c4dae69d19",
    "_uuid": "8f2839f25d086af736a60e9eeb907d3b93b6e0e5",
    "execution": {
     "iopub.execute_input": "2021-04-11T23:42:41.539158Z",
     "iopub.status.busy": "2021-04-11T23:42:41.538451Z",
     "iopub.status.idle": "2021-04-11T23:42:43.002876Z",
     "shell.execute_reply": "2021-04-11T23:42:43.003826Z"
    },
    "papermill": {
     "duration": 1.484007,
     "end_time": "2021-04-11T23:42:43.004200",
     "exception": false,
     "start_time": "2021-04-11T23:42:41.520193",
     "status": "completed"
    },
    "tags": []
   },
   "outputs": [
    {
     "data": {
      "text/html": [
       "<style type='text/css'>\n",
       ".datatable table.frame { margin-bottom: 0; }\n",
       ".datatable table.frame thead { border-bottom: none; }\n",
       ".datatable table.frame tr.coltypes td {  color: #FFFFFF;  line-height: 6px;  padding: 0 0.5em;}\n",
       ".datatable .bool    { background: #DDDD99; }\n",
       ".datatable .object  { background: #565656; }\n",
       ".datatable .int     { background: #5D9E5D; }\n",
       ".datatable .float   { background: #4040CC; }\n",
       ".datatable .str     { background: #CC4040; }\n",
       ".datatable .row_index {  background: var(--jp-border-color3);  border-right: 1px solid var(--jp-border-color0);  color: var(--jp-ui-font-color3);  font-size: 9px;}\n",
       ".datatable .frame tr.coltypes .row_index {  background: var(--jp-border-color0);}\n",
       ".datatable th:nth-child(2) { padding-left: 12px; }\n",
       ".datatable .hellipsis {  color: var(--jp-cell-editor-border-color);}\n",
       ".datatable .vellipsis {  background: var(--jp-layout-color0);  color: var(--jp-cell-editor-border-color);}\n",
       ".datatable .na {  color: var(--jp-cell-editor-border-color);  font-size: 80%;}\n",
       ".datatable .footer { font-size: 9px; }\n",
       ".datatable .frame_dimensions {  background: var(--jp-border-color3);  border-top: 1px solid var(--jp-border-color0);  color: var(--jp-ui-font-color3);  display: inline-block;  opacity: 0.6;  padding: 1px 10px 1px 5px;}\n",
       "</style>\n"
      ],
      "text/plain": [
       "<IPython.core.display.HTML object>"
      ]
     },
     "metadata": {},
     "output_type": "display_data"
    }
   ],
   "source": [
    "import os\n",
    "import warnings\n",
    "import numpy as np \n",
    "import pandas as pd\n",
    "import multiprocessing\n",
    "import lightgbm as lgb\n",
    "from pathlib import Path\n",
    "from tqdm.notebook import tqdm\n",
    "from sklearn.model_selection import KFold\n",
    "from sklearn.metrics import mean_squared_error, accuracy_score\n",
    "\n",
    "warnings.filterwarnings(\"ignore\")"
   ]
  },
  {
   "cell_type": "code",
   "execution_count": 2,
   "id": "virgin-signal",
   "metadata": {
    "execution": {
     "iopub.execute_input": "2021-04-11T23:42:43.049757Z",
     "iopub.status.busy": "2021-04-11T23:42:43.048851Z",
     "iopub.status.idle": "2021-04-11T23:42:43.051312Z",
     "shell.execute_reply": "2021-04-11T23:42:43.052036Z"
    },
    "papermill": {
     "duration": 0.029713,
     "end_time": "2021-04-11T23:42:43.052243",
     "exception": false,
     "start_time": "2021-04-11T23:42:43.022530",
     "status": "completed"
    },
    "tags": []
   },
   "outputs": [],
   "source": [
    "VERSION = \"013\" # 実験番号\n",
    "\n",
    "from pathlib import Path\n",
    "from logging import getLogger, Formatter, FileHandler, StreamHandler, INFO, DEBUG\n",
    "\n",
    "def create_logger(exp_version):\n",
    "    log_file = (\"{}.log\".format(exp_version))\n",
    "\n",
    "    # logger\n",
    "    logger_ = getLogger(exp_version)\n",
    "    logger_.setLevel(DEBUG)\n",
    "\n",
    "    # formatter\n",
    "    fmr = Formatter(\"[%(levelname)s] %(asctime)s >>\\t%(message)s\")\n",
    "\n",
    "    # file handler\n",
    "    fh = FileHandler(log_file)\n",
    "    fh.setLevel(DEBUG)\n",
    "    fh.setFormatter(fmr)\n",
    "\n",
    "    # stream handler\n",
    "    ch = StreamHandler()\n",
    "    ch.setLevel(INFO)\n",
    "    ch.setFormatter(fmr)\n",
    "\n",
    "    logger_.addHandler(fh)\n",
    "    logger_.addHandler(ch)\n",
    "\n",
    "\n",
    "def get_logger(exp_version):\n",
    "    return getLogger(exp_version)\n",
    "\n",
    "create_logger(VERSION)\n",
    "#get_logger(VERSION).info(\"what you want to save\") "
   ]
  },
  {
   "cell_type": "code",
   "execution_count": 3,
   "id": "apart-scene",
   "metadata": {
    "execution": {
     "iopub.execute_input": "2021-04-11T23:42:43.091028Z",
     "iopub.status.busy": "2021-04-11T23:42:43.090144Z",
     "iopub.status.idle": "2021-04-11T23:42:43.096582Z",
     "shell.execute_reply": "2021-04-11T23:42:43.097309Z"
    },
    "papermill": {
     "duration": 0.027566,
     "end_time": "2021-04-11T23:42:43.097532",
     "exception": false,
     "start_time": "2021-04-11T23:42:43.069966",
     "status": "completed"
    },
    "tags": []
   },
   "outputs": [],
   "source": [
    "def comp_metric(xhat, yhat, fhat, x, y, f):\n",
    "    intermediate = np.sqrt(np.power(xhat - x,2) + np.power(yhat-y,2)) + 15 * np.abs(fhat-f)\n",
    "    return intermediate.sum() / xhat.shape[0]"
   ]
  },
  {
   "cell_type": "code",
   "execution_count": 4,
   "id": "different-scene",
   "metadata": {
    "execution": {
     "iopub.execute_input": "2021-04-11T23:42:43.135983Z",
     "iopub.status.busy": "2021-04-11T23:42:43.135146Z",
     "iopub.status.idle": "2021-04-11T23:42:43.229315Z",
     "shell.execute_reply": "2021-04-11T23:42:43.228805Z"
    },
    "papermill": {
     "duration": 0.114201,
     "end_time": "2021-04-11T23:42:43.229449",
     "exception": false,
     "start_time": "2021-04-11T23:42:43.115248",
     "status": "completed"
    },
    "tags": []
   },
   "outputs": [],
   "source": [
    "ORG_DIR = '/kaggle/input/indoor-location-navigation'\n",
    "DATA_DIR = '/kaggle/input/indoor-competition-dataset'\n",
    "\n",
    "sub = pd.read_csv(ORG_DIR+\"/sample_submission.csv\")\n",
    "train_files = [i for i in os.listdir(DATA_DIR) if \"train\" in i]\n",
    "test_files = [i for i in os.listdir(DATA_DIR) if \"test\" in i]\n",
    "\n",
    "all_sites = sorted(set(sub[\"site_path_timestamp\"].apply(lambda x: x.split(\"_\")[0])))\n",
    "sub = sub.set_index(\"site_path_timestamp\")"
   ]
  },
  {
   "cell_type": "code",
   "execution_count": 5,
   "id": "imported-currency",
   "metadata": {
    "execution": {
     "iopub.execute_input": "2021-04-11T23:42:43.260960Z",
     "iopub.status.busy": "2021-04-11T23:42:43.260087Z",
     "iopub.status.idle": "2021-04-11T23:42:43.266711Z",
     "shell.execute_reply": "2021-04-11T23:42:43.266004Z"
    },
    "papermill": {
     "duration": 0.024749,
     "end_time": "2021-04-11T23:42:43.266854",
     "exception": false,
     "start_time": "2021-04-11T23:42:43.242105",
     "status": "completed"
    },
    "tags": []
   },
   "outputs": [],
   "source": [
    "train_only_files = [i for i in os.listdir(DATA_DIR) if \"train\" in i and i.split(\"_\")[0] not in all_sites]"
   ]
  },
  {
   "cell_type": "markdown",
   "id": "material-miniature",
   "metadata": {
    "papermill": {
     "duration": 0.01193,
     "end_time": "2021-04-11T23:42:43.291381",
     "exception": false,
     "start_time": "2021-04-11T23:42:43.279451",
     "status": "completed"
    },
    "tags": []
   },
   "source": [
    "# modelling"
   ]
  },
  {
   "cell_type": "code",
   "execution_count": 6,
   "id": "raising-solid",
   "metadata": {
    "execution": {
     "iopub.execute_input": "2021-04-11T23:42:43.332212Z",
     "iopub.status.busy": "2021-04-11T23:42:43.326047Z",
     "iopub.status.idle": "2021-04-11T23:44:21.099227Z",
     "shell.execute_reply": "2021-04-11T23:44:21.098858Z"
    },
    "papermill": {
     "duration": 97.795616,
     "end_time": "2021-04-11T23:44:21.099383",
     "exception": false,
     "start_time": "2021-04-11T23:42:43.303767",
     "status": "completed"
    },
    "tags": []
   },
   "outputs": [
    {
     "data": {
      "application/vnd.jupyter.widget-view+json": {
       "model_id": "53a2762c7ecf45858d1cdc0850952873",
       "version_major": 2,
       "version_minor": 0
      },
      "text/plain": [
       "  0%|          | 0/24 [00:00<?, ?it/s]"
      ]
     },
     "metadata": {},
     "output_type": "display_data"
    },
    {
     "name": "stderr",
     "output_type": "stream",
     "text": [
      "[INFO] 2021-04-11 23:42:43,401 >>\t5a0546857ecc773753327266\n",
      "[INFO] 2021-04-11 23:42:50,007 >>\t(9296, 2599)\n",
      "[INFO] 2021-04-11 23:44:21,024 >>\t0.9813898450946644\n"
     ]
    },
    {
     "ename": "NameError",
     "evalue": "name 'stats' is not defined",
     "output_type": "error",
     "traceback": [
      "\u001b[0;31m---------------------------------------------------------------------------\u001b[0m",
      "\u001b[0;31mNameError\u001b[0m                                 Traceback (most recent call last)",
      "\u001b[0;32m<ipython-input-6-db42285466ee>\u001b[0m in \u001b[0;36m<module>\u001b[0;34m\u001b[0m\n\u001b[1;32m     81\u001b[0m     \u001b[0mvalid_f_pred\u001b[0m\u001b[0;34m[\u001b[0m\u001b[0;34m\"truth\"\u001b[0m\u001b[0;34m]\u001b[0m \u001b[0;34m=\u001b[0m \u001b[0mlabel_f\u001b[0m\u001b[0;34m\u001b[0m\u001b[0;34m\u001b[0m\u001b[0m\n\u001b[1;32m     82\u001b[0m \u001b[0;34m\u001b[0m\u001b[0m\n\u001b[0;32m---> 83\u001b[0;31m     \u001b[0mpreds_f_mode\u001b[0m \u001b[0;34m=\u001b[0m \u001b[0mstats\u001b[0m\u001b[0;34m.\u001b[0m\u001b[0mmode\u001b[0m\u001b[0;34m(\u001b[0m\u001b[0mtest_f_pred\u001b[0m\u001b[0;34m,\u001b[0m \u001b[0maxis\u001b[0m\u001b[0;34m=\u001b[0m\u001b[0;36m1\u001b[0m\u001b[0;34m)\u001b[0m\u001b[0;34m\u001b[0m\u001b[0;34m\u001b[0m\u001b[0m\n\u001b[0m\u001b[1;32m     84\u001b[0m     \u001b[0mtest_f_pred\u001b[0m \u001b[0;34m=\u001b[0m \u001b[0mpreds_f_mode\u001b[0m\u001b[0;34m[\u001b[0m\u001b[0;36m0\u001b[0m\u001b[0;34m]\u001b[0m\u001b[0;34m.\u001b[0m\u001b[0mastype\u001b[0m\u001b[0;34m(\u001b[0m\u001b[0mint\u001b[0m\u001b[0;34m)\u001b[0m\u001b[0;34m.\u001b[0m\u001b[0mreshape\u001b[0m\u001b[0;34m(\u001b[0m\u001b[0;34m-\u001b[0m\u001b[0;36m1\u001b[0m\u001b[0;34m)\u001b[0m\u001b[0;34m\u001b[0m\u001b[0;34m\u001b[0m\u001b[0m\n\u001b[1;32m     85\u001b[0m     \u001b[0mtest_preds\u001b[0m \u001b[0;34m=\u001b[0m \u001b[0mpd\u001b[0m\u001b[0;34m.\u001b[0m\u001b[0mDataFrame\u001b[0m\u001b[0;34m(\u001b[0m\u001b[0mtest_f_pred\u001b[0m\u001b[0;34m)\u001b[0m\u001b[0;34m\u001b[0m\u001b[0;34m\u001b[0m\u001b[0m\n",
      "\u001b[0;31mNameError\u001b[0m: name 'stats' is not defined"
     ]
    }
   ],
   "source": [
    "lgbm_params_f = {'objective': 'multiclass', 'metric': 'multi_logloss',\n",
    "                     'boosting_type': 'gbdt','tree_learner': 'serial',\n",
    "                     'learning_rate': 0.1, \"num_leaves\": 30, \n",
    "               'random_seed':44, 'n_estimators': 5000, 'verbose': -1}\n",
    "n_folds = 5\n",
    "kf = KFold(n_splits=n_folds, shuffle=True, random_state=224)\n",
    "predictions = list()\n",
    "\n",
    "all_f_pred = np.array([])\n",
    "all_f_label = np.array([])\n",
    "\n",
    "all_valid_f_df = []\n",
    "all_feat_imp_df = []\n",
    "\n",
    "for site in tqdm(all_sites):\n",
    "    get_logger(VERSION).info(site)\n",
    "    train_data = pd.read_csv(DATA_DIR+\"/\"+site+str(\"_train.csv\"), index_col=\"path\")\n",
    "    test_data = pd.read_csv(DATA_DIR+\"/\"+site+str(\"_test.csv\"))\n",
    "\n",
    "    train_paths = train_data.index.unique()\n",
    "    \n",
    "    non_targets = [i for i in train_data.columns if i not in [\"timestamp\", \"x\", \"y\", \"f\"]]\n",
    "\n",
    "    # predict floor first\n",
    "    X = train_data[non_targets+[\"f\"]]\n",
    "    X_test = test_data[non_targets]\n",
    "    get_logger(VERSION).info(X.shape)\n",
    "    \n",
    "    label_f = np.zeros([len(X)])\n",
    "    valid_f_pred = np.zeros([len(X)])\n",
    "    valid_f_path = [\"tmp\" for i in range(len(X))]\n",
    "    test_f_pred = np.zeros([len(test_data), n_folds])\n",
    "    feature_importance_df = pd.DataFrame(non_targets, columns=[\"Feature\"])\n",
    "    for fold, (tr_group_idx, val_group_idx) in enumerate(kf.split(train_paths)):\n",
    "        tr_paths, val_paths = train_paths[tr_group_idx], train_paths[val_group_idx]\n",
    "    \n",
    "        tmp = X.reset_index(drop=False)\n",
    "        val_index = tmp[tmp[\"path\"].isin(val_paths)].index\n",
    "        val_path = tmp.loc[val_index][\"path\"].values\n",
    "        \n",
    "        X_train = X[X.index.isin(tr_paths)].drop(\"f\", axis=1).reset_index(drop=True)\n",
    "        X_valid = X[X.index.isin(val_paths)].drop(\"f\", axis=1).reset_index(drop=True)\n",
    "        y_train = X[X.index.isin(tr_paths)][\"f\"].reset_index(drop=True)\n",
    "        y_valid = X[X.index.isin(val_paths)][\"f\"].reset_index(drop=True)\n",
    "    \n",
    "        lgb_train = lgb.Dataset(X_train, y_train)\n",
    "        lgb_eval = lgb.Dataset(X_valid, y_valid, reference=lgb_train)\n",
    "        \n",
    "        model = lgb.LGBMClassifier(**lgbm_params_f)\n",
    "        model.fit(X_train, y_train,\n",
    "                       eval_set=[(X_valid, y_valid)],\n",
    "                       eval_metric='multi_logloss',\n",
    "                       verbose=False,\n",
    "                       early_stopping_rounds=20\n",
    "                       )\n",
    "    \n",
    "        valid_f_pred[val_index] = model.predict(X_valid).astype(int)\n",
    "        for i, ind in enumerate(val_index):\n",
    "            valid_f_path[ind] = val_path[i]\n",
    "        \n",
    "        feature_importance_df[\"Fold_\"+str(fold+1)] = model.feature_importances_\n",
    "\n",
    "        label_f[val_index] = y_valid\n",
    "    \n",
    "        test_f_pred[:, fold] = model.predict(X_test).astype(int)\n",
    "        \n",
    "    feature_importance_df[\"Average\"] = np.mean(feature_importance_df.iloc[:,1:n_folds+1], axis=1)\n",
    "    feature_importance_df[\"Std\"] = np.std(feature_importance_df.iloc[:,1:n_folds+1], axis=1)\n",
    "    feature_importance_df[\"Cv\"] = feature_importance_df[\"Std\"] / feature_importance_df[\"Average\"]\n",
    "    feature_importance_df[\"site\"] = site\n",
    "        \n",
    "    all_f_pred = np.concatenate([all_f_pred, valid_f_pred])\n",
    "    all_f_label = np.concatenate([all_f_label, label_f])\n",
    "        \n",
    "    accuracy = accuracy_score(label_f, valid_f_pred)\n",
    "    get_logger(VERSION).info(accuracy)\n",
    "    valid_f_pred = pd.DataFrame(valid_f_pred)\n",
    "    valid_f_pred.columns = [\"floor\"]\n",
    "    valid_f_pred[\"path\"] = valid_f_path\n",
    "    valid_f_pred[\"site\"] = site\n",
    "    valid_f_pred[\"truth\"] = label_f\n",
    "        \n",
    "    preds_f_mode = stats.mode(test_f_pred, axis=1)\n",
    "    test_f_pred = preds_f_mode[0].astype(int).reshape(-1)\n",
    "    test_preds = pd.DataFrame(test_f_pred)\n",
    "    test_preds.columns = [\"floor\"]\n",
    "    test_preds.index = test_data[\"site_path_timestamp\"]\n",
    "    test_preds[\"floor\"] = test_preds[\"floor\"].astype(int)\n",
    "    predictions.append(test_preds)\n",
    "    \n",
    "    all_valid_f_df.append(valid_f_pred)\n",
    "    all_feat_imp_df.append(feature_importance_df)\n",
    "    \n",
    "all_valid_f_df = pd.concat(all_valid_f_df)\n",
    "all_feat_imp_df = pd.concat(all_feat_imp_df)\n",
    "\n",
    "print(\"overall: \", accuracy_score(all_valid_f_df.floor.astype(int).values, \n",
    "                                  all_valid_f_df.truth.astype(int).values))\n",
    "\n",
    "all_valid_f_df.to_csv(\"floor_prediction_in_train.csv\")\n",
    "all_feat_imp_df.to_csv(\"floor_feature_importance.csv\")"
   ]
  },
  {
   "cell_type": "code",
   "execution_count": 7,
   "id": "behind-patient",
   "metadata": {
    "execution": {
     "iopub.execute_input": "2021-04-11T23:44:21.152906Z",
     "iopub.status.busy": "2021-04-11T23:44:21.152327Z",
     "iopub.status.idle": "2021-04-11T23:53:18.230186Z",
     "shell.execute_reply": "2021-04-11T23:53:18.230761Z"
    },
    "papermill": {
     "duration": 537.121724,
     "end_time": "2021-04-11T23:53:18.231127",
     "exception": false,
     "start_time": "2021-04-11T23:44:21.109403",
     "status": "completed"
    },
    "tags": []
   },
   "outputs": [
    {
     "data": {
      "application/vnd.jupyter.widget-view+json": {
       "model_id": "5ab2d2db9a694f69ba628e90e828dac4",
       "version_major": 2,
       "version_minor": 0
      },
      "text/plain": [
       "  0%|          | 0/25 [00:00<?, ?it/s]"
      ]
     },
     "metadata": {},
     "output_type": "display_data"
    },
    {
     "name": "stderr",
     "output_type": "stream",
     "text": [
      "[INFO] 2021-04-11 23:44:21,156 >>\t5cd56b6fe2acfd2d33b5a386_train.csv\n",
      "[INFO] 2021-04-11 23:44:21,419 >>\t(3466, 297)\n",
      "[INFO] 2021-04-11 23:44:28,374 >>\t0.9422965954991345\n",
      "[INFO] 2021-04-11 23:44:28,381 >>\t5cd56b76e2acfd2d33b5b0be_train.csv\n",
      "[INFO] 2021-04-11 23:44:28,909 >>\t(4557, 437)\n",
      "[INFO] 2021-04-11 23:44:35,540 >>\t0.8512179065174457\n",
      "[INFO] 2021-04-11 23:44:35,549 >>\t5cd56b5ae2acfd2d33b58548_train.csv\n",
      "[INFO] 2021-04-11 23:44:35,613 >>\t(939, 140)\n",
      "[INFO] 2021-04-11 23:44:38,258 >>\t0.979765708200213\n",
      "[INFO] 2021-04-11 23:44:38,269 >>\t5cd56b67e2acfd2d33b596bd_train.csv\n",
      "[INFO] 2021-04-11 23:44:38,554 >>\t(5229, 201)\n",
      "[INFO] 2021-04-11 23:44:46,573 >>\t0.9544846050870147\n",
      "[INFO] 2021-04-11 23:44:46,580 >>\t5cd56b79e2acfd2d33b5b74e_train.csv\n",
      "[INFO] 2021-04-11 23:44:46,653 >>\t(1283, 164)\n",
      "[INFO] 2021-04-11 23:44:48,415 >>\tpass\n",
      "[INFO] 2021-04-11 23:44:48,426 >>\t5cd56b5ae2acfd2d33b58546_train.csv\n",
      "[INFO] 2021-04-11 23:44:48,981 >>\t(4996, 459)\n",
      "[INFO] 2021-04-11 23:44:57,618 >>\t0.8847077662129704\n",
      "[INFO] 2021-04-11 23:44:57,625 >>\t5cd56b6ae2acfd2d33b59ccb_train.csv\n",
      "[INFO] 2021-04-11 23:45:24,178 >>\t(27741, 3829)\n",
      "[INFO] 2021-04-11 23:50:20,919 >>\t0.9860495295771602\n",
      "[INFO] 2021-04-11 23:50:20,939 >>\t5cd56b75e2acfd2d33b5af29_train.csv\n",
      "[INFO] 2021-04-11 23:50:21,027 >>\t(1168, 189)\n",
      "[INFO] 2021-04-11 23:50:21,061 >>\tpass\n",
      "[INFO] 2021-04-11 23:50:21,068 >>\t5cd56b63e2acfd2d33b591c2_train.csv\n",
      "[INFO] 2021-04-11 23:50:21,565 >>\t(4366, 550)\n",
      "[INFO] 2021-04-11 23:50:28,502 >>\t0.750114521300962\n",
      "[INFO] 2021-04-11 23:50:28,515 >>\t5cd56b64e2acfd2d33b5932f_train.csv\n",
      "[INFO] 2021-04-11 23:50:31,186 >>\t(6746, 1515)\n",
      "[INFO] 2021-04-11 23:51:09,215 >>\t0.9015713015120072\n",
      "[INFO] 2021-04-11 23:51:09,235 >>\t5cd56b70e2acfd2d33b5a44e_train.csv\n",
      "[INFO] 2021-04-11 23:51:09,397 >>\t(1988, 234)\n",
      "[INFO] 2021-04-11 23:51:14,414 >>\t0.96579476861167\n",
      "[INFO] 2021-04-11 23:51:14,424 >>\t5cd56b6be2acfd2d33b59d1f_train.csv\n",
      "[INFO] 2021-04-11 23:51:14,454 >>\t(902, 70)\n",
      "[INFO] 2021-04-11 23:51:14,468 >>\tpass\n",
      "[INFO] 2021-04-11 23:51:14,474 >>\t5cd56b77e2acfd2d33b5b22b_train.csv\n",
      "[INFO] 2021-04-11 23:51:14,767 >>\t(1345, 764)\n",
      "[INFO] 2021-04-11 23:51:26,945 >>\t0.6565055762081784\n",
      "[INFO] 2021-04-11 23:51:26,951 >>\t5cd56b6ae2acfd2d33b59c90_train.csv\n",
      "[INFO] 2021-04-11 23:51:27,009 >>\t(1491, 87)\n",
      "[INFO] 2021-04-11 23:51:29,615 >>\t0.9725016767270288\n",
      "[INFO] 2021-04-11 23:51:29,623 >>\t5cd56b5ae2acfd2d33b58544_train.csv\n",
      "[INFO] 2021-04-11 23:51:29,877 >>\t(3084, 272)\n",
      "[INFO] 2021-04-11 23:51:34,146 >>\t0.9124513618677043\n",
      "[INFO] 2021-04-11 23:51:34,155 >>\t5cd56b77e2acfd2d33b5b310_train.csv\n",
      "[INFO] 2021-04-11 23:51:34,634 >>\t(5373, 476)\n",
      "[INFO] 2021-04-11 23:51:48,968 >>\t0.9158756746696445\n",
      "[INFO] 2021-04-11 23:51:48,976 >>\t5cd56b5ae2acfd2d33b58549_train.csv\n",
      "[INFO] 2021-04-11 23:51:49,429 >>\t(3946, 533)\n",
      "[INFO] 2021-04-11 23:51:59,785 >>\t0.9754181449569184\n",
      "[INFO] 2021-04-11 23:51:59,794 >>\t5cd56b64e2acfd2d33b592b3_train.csv\n",
      "[INFO] 2021-04-11 23:51:59,819 >>\t(242, 1)\n",
      "[INFO] 2021-04-11 23:51:59,836 >>\tpass\n",
      "[INFO] 2021-04-11 23:51:59,841 >>\t5cd56b5ae2acfd2d33b5854a_train.csv\n",
      "[INFO] 2021-04-11 23:52:00,286 >>\t(2284, 617)\n",
      "[INFO] 2021-04-11 23:52:10,805 >>\t0.9430823117338003\n",
      "[INFO] 2021-04-11 23:52:10,815 >>\t5cd56b61e2acfd2d33b58d20_train.csv\n",
      "[INFO] 2021-04-11 23:52:10,894 >>\t(940, 241)\n",
      "[INFO] 2021-04-11 23:52:15,959 >>\t0.8808510638297873\n",
      "[INFO] 2021-04-11 23:52:15,966 >>\t5cd56b64e2acfd2d33b59246_train.csv\n",
      "[INFO] 2021-04-11 23:52:16,124 >>\t(1293, 322)\n",
      "[INFO] 2021-04-11 23:52:16,154 >>\tpass\n",
      "[INFO] 2021-04-11 23:52:16,164 >>\t5cd56b6ae2acfd2d33b59ccc_train.csv\n",
      "[INFO] 2021-04-11 23:52:18,728 >>\t(5572, 1612)\n",
      "[INFO] 2021-04-11 23:52:51,393 >>\t0.9206748025843503\n",
      "[INFO] 2021-04-11 23:52:51,401 >>\t5cd56b6ee2acfd2d33b5a247_train.csv\n",
      "[INFO] 2021-04-11 23:52:51,541 >>\t(1661, 231)\n",
      "[INFO] 2021-04-11 23:52:54,416 >>\t0.8940397350993378\n",
      "[INFO] 2021-04-11 23:52:54,428 >>\t5cd56b70e2acfd2d33b5a552_train.csv\n",
      "[INFO] 2021-04-11 23:52:55,002 >>\t(5689, 456)\n",
      "[INFO] 2021-04-11 23:53:09,976 >>\t0.9033222007382669\n",
      "[INFO] 2021-04-11 23:53:09,987 >>\t5cd56865eb294480de7167b6_train.csv\n",
      "[INFO] 2021-04-11 23:53:10,334 >>\t(2599, 416)\n",
      "[INFO] 2021-04-11 23:53:17,780 >>\t0.9634474797999231\n"
     ]
    },
    {
     "name": "stdout",
     "output_type": "stream",
     "text": [
      "overall:  0.9317694641051567\n"
     ]
    }
   ],
   "source": [
    "lgbm_params_f = {'objective': 'multiclass', 'metric': 'multi_logloss',\n",
    "                     'boosting_type': 'gbdt','tree_learner': 'serial',\n",
    "                     'learning_rate': 0.1, \"num_leaves\": 30, \n",
    "               'random_seed':44, 'n_estimators': 5000, 'verbose': -1}\n",
    "n_folds = 5\n",
    "kf = KFold(n_splits=n_folds, shuffle=True, random_state=224)\n",
    "predictions = list()\n",
    "\n",
    "all_f_pred = np.array([])\n",
    "all_f_label = np.array([])\n",
    "\n",
    "all_valid_f_df = []\n",
    "all_feat_imp_df = []\n",
    "\n",
    "for file in tqdm(train_only_files):\n",
    "    get_logger(VERSION).info(file)\n",
    "    try:\n",
    "        train_data = pd.read_csv(DATA_DIR+\"/\" +file, index_col=\"path\")\n",
    "\n",
    "        train_paths = train_data.index.unique()\n",
    "        non_targets = [i for i in train_data.columns if i not in [\"timestamp\", \"x\", \"y\", \"f\"]]\n",
    "\n",
    "        # predict floor first\n",
    "        X = train_data[non_targets+[\"f\"]]\n",
    "        get_logger(VERSION).info(X.shape)\n",
    "    \n",
    "        label_f = np.zeros([len(X)])\n",
    "        valid_f_pred = np.zeros([len(X)])\n",
    "        valid_f_path = [\"tmp\" for i in range(len(X))]\n",
    "        feature_importance_df = pd.DataFrame(non_targets, columns=[\"Feature\"])\n",
    "        for fold, (tr_group_idx, val_group_idx) in enumerate(kf.split(train_paths)):\n",
    "            tr_paths, val_paths = train_paths[tr_group_idx], train_paths[val_group_idx]\n",
    "    \n",
    "            tmp = X.reset_index(drop=False)\n",
    "            val_index = tmp[tmp[\"path\"].isin(val_paths)].index\n",
    "            val_path = tmp.loc[val_index][\"path\"].values\n",
    "        \n",
    "            X_train = X[X.index.isin(tr_paths)].drop(\"f\", axis=1).reset_index(drop=True)\n",
    "            X_valid = X[X.index.isin(val_paths)].drop(\"f\", axis=1).reset_index(drop=True)\n",
    "            y_train = X[X.index.isin(tr_paths)][\"f\"].reset_index(drop=True)\n",
    "            y_valid = X[X.index.isin(val_paths)][\"f\"].reset_index(drop=True)\n",
    "    \n",
    "            lgb_train = lgb.Dataset(X_train, y_train)\n",
    "            lgb_eval = lgb.Dataset(X_valid, y_valid, reference=lgb_train)\n",
    "        \n",
    "            model = lgb.LGBMClassifier(**lgbm_params_f)\n",
    "            model.fit(X_train, y_train,\n",
    "                       eval_set=[(X_valid, y_valid)],\n",
    "                       eval_metric='multi_logloss',\n",
    "                       verbose=False,\n",
    "                       early_stopping_rounds=20\n",
    "                       )\n",
    "    \n",
    "            valid_f_pred[val_index] = model.predict(X_valid).astype(int)\n",
    "            for i, ind in enumerate(val_index):\n",
    "                valid_f_path[ind] = val_path[i]\n",
    "        \n",
    "            #feature_importance_df[\"Fold_\"+str(fold+1)] = model.feature_importances_\n",
    "\n",
    "            label_f[val_index] = y_valid\n",
    "            \n",
    "        #feature_importance_df[\"Average\"] = np.mean(feature_importance_df.iloc[:,1:n_folds+1], axis=1)\n",
    "        #feature_importance_df[\"Std\"] = np.std(feature_importance_df.iloc[:,1:n_folds+1], axis=1)\n",
    "        #feature_importance_df[\"Cv\"] = feature_importance_df[\"Std\"] / feature_importance_df[\"Average\"]\n",
    "        #feature_importance_df[\"site\"] = file.split(\"_\")[0]\n",
    "\n",
    "        accuracy = accuracy_score(label_f, valid_f_pred)\n",
    "        get_logger(VERSION).info(accuracy)\n",
    "        \n",
    "    except:\n",
    "        valid_f_pred[:] = X[\"f\"].values\n",
    "        label_f[:] = X[\"f\"].values\n",
    "        get_logger(VERSION).info(\"pass\")\n",
    "        \n",
    "    all_f_pred = np.concatenate([all_f_pred, valid_f_pred])\n",
    "    #all_f_label = np.concatenate([all_f_label, label_f])\n",
    "        \n",
    "    valid_f_pred = pd.DataFrame(valid_f_pred)\n",
    "    valid_f_pred.columns = [\"floor\"]\n",
    "    valid_f_pred[\"path\"] = valid_f_path\n",
    "    valid_f_pred[\"site\"] = file.split(\"_\")[0]\n",
    "    valid_f_pred[\"truth\"] = label_f\n",
    "            \n",
    "    all_valid_f_df.append(valid_f_pred)\n",
    "    #all_feat_imp_df.append(feature_importance_df)\n",
    "    \n",
    "all_valid_f_df = pd.concat(all_valid_f_df)\n",
    "#all_feat_imp_df = pd.concat(all_feat_imp_df)\n",
    "\n",
    "print(\"overall: \", accuracy_score(all_valid_f_df.floor.astype(int).values, \n",
    "                                  all_valid_f_df.truth.astype(int).values))\n",
    "\n",
    "all_valid_f_df.to_csv(\"floor_prediction_in_train_only.csv\")\n",
    "#all_feat_imp_df.to_csv(\"floor_feature_importance_train_only.csv\")"
   ]
  },
  {
   "cell_type": "markdown",
   "id": "french-cornwall",
   "metadata": {
    "papermill": {
     "duration": 0.040225,
     "end_time": "2021-04-11T23:53:18.311830",
     "exception": false,
     "start_time": "2021-04-11T23:53:18.271605",
     "status": "completed"
    },
    "tags": []
   },
   "source": [
    "# postprocess"
   ]
  },
  {
   "cell_type": "code",
   "execution_count": 8,
   "id": "corresponding-understanding",
   "metadata": {
    "execution": {
     "iopub.execute_input": "2021-04-11T23:53:18.411480Z",
     "iopub.status.busy": "2021-04-11T23:53:18.403434Z",
     "iopub.status.idle": "2021-04-11T23:53:18.428694Z",
     "shell.execute_reply": "2021-04-11T23:53:18.429579Z"
    },
    "papermill": {
     "duration": 0.077288,
     "end_time": "2021-04-11T23:53:18.429813",
     "exception": false,
     "start_time": "2021-04-11T23:53:18.352525",
     "status": "completed"
    },
    "tags": []
   },
   "outputs": [
    {
     "ename": "ValueError",
     "evalue": "No objects to concatenate",
     "output_type": "error",
     "traceback": [
      "\u001b[0;31m---------------------------------------------------------------------------\u001b[0m",
      "\u001b[0;31mValueError\u001b[0m                                Traceback (most recent call last)",
      "\u001b[0;32m<ipython-input-8-0daf423ca44c>\u001b[0m in \u001b[0;36m<module>\u001b[0;34m\u001b[0m\n\u001b[0;32m----> 1\u001b[0;31m \u001b[0mall_preds\u001b[0m \u001b[0;34m=\u001b[0m \u001b[0mpd\u001b[0m\u001b[0;34m.\u001b[0m\u001b[0mconcat\u001b[0m\u001b[0;34m(\u001b[0m\u001b[0mpredictions\u001b[0m\u001b[0;34m)\u001b[0m\u001b[0;34m\u001b[0m\u001b[0;34m\u001b[0m\u001b[0m\n\u001b[0m",
      "\u001b[0;32m/opt/conda/lib/python3.7/site-packages/pandas/core/reshape/concat.py\u001b[0m in \u001b[0;36mconcat\u001b[0;34m(objs, axis, join, ignore_index, keys, levels, names, verify_integrity, sort, copy)\u001b[0m\n\u001b[1;32m    293\u001b[0m         \u001b[0mverify_integrity\u001b[0m\u001b[0;34m=\u001b[0m\u001b[0mverify_integrity\u001b[0m\u001b[0;34m,\u001b[0m\u001b[0;34m\u001b[0m\u001b[0;34m\u001b[0m\u001b[0m\n\u001b[1;32m    294\u001b[0m         \u001b[0mcopy\u001b[0m\u001b[0;34m=\u001b[0m\u001b[0mcopy\u001b[0m\u001b[0;34m,\u001b[0m\u001b[0;34m\u001b[0m\u001b[0;34m\u001b[0m\u001b[0m\n\u001b[0;32m--> 295\u001b[0;31m         \u001b[0msort\u001b[0m\u001b[0;34m=\u001b[0m\u001b[0msort\u001b[0m\u001b[0;34m,\u001b[0m\u001b[0;34m\u001b[0m\u001b[0;34m\u001b[0m\u001b[0m\n\u001b[0m\u001b[1;32m    296\u001b[0m     )\n\u001b[1;32m    297\u001b[0m \u001b[0;34m\u001b[0m\u001b[0m\n",
      "\u001b[0;32m/opt/conda/lib/python3.7/site-packages/pandas/core/reshape/concat.py\u001b[0m in \u001b[0;36m__init__\u001b[0;34m(self, objs, axis, join, keys, levels, names, ignore_index, verify_integrity, copy, sort)\u001b[0m\n\u001b[1;32m    340\u001b[0m \u001b[0;34m\u001b[0m\u001b[0m\n\u001b[1;32m    341\u001b[0m         \u001b[0;32mif\u001b[0m \u001b[0mlen\u001b[0m\u001b[0;34m(\u001b[0m\u001b[0mobjs\u001b[0m\u001b[0;34m)\u001b[0m \u001b[0;34m==\u001b[0m \u001b[0;36m0\u001b[0m\u001b[0;34m:\u001b[0m\u001b[0;34m\u001b[0m\u001b[0;34m\u001b[0m\u001b[0m\n\u001b[0;32m--> 342\u001b[0;31m             \u001b[0;32mraise\u001b[0m \u001b[0mValueError\u001b[0m\u001b[0;34m(\u001b[0m\u001b[0;34m\"No objects to concatenate\"\u001b[0m\u001b[0;34m)\u001b[0m\u001b[0;34m\u001b[0m\u001b[0;34m\u001b[0m\u001b[0m\n\u001b[0m\u001b[1;32m    343\u001b[0m \u001b[0;34m\u001b[0m\u001b[0m\n\u001b[1;32m    344\u001b[0m         \u001b[0;32mif\u001b[0m \u001b[0mkeys\u001b[0m \u001b[0;32mis\u001b[0m \u001b[0;32mNone\u001b[0m\u001b[0;34m:\u001b[0m\u001b[0;34m\u001b[0m\u001b[0;34m\u001b[0m\u001b[0m\n",
      "\u001b[0;31mValueError\u001b[0m: No objects to concatenate"
     ]
    }
   ],
   "source": [
    "all_preds = pd.concat(predictions)"
   ]
  },
  {
   "cell_type": "markdown",
   "id": "peaceful-interaction",
   "metadata": {
    "papermill": {
     "duration": 0.061708,
     "end_time": "2021-04-11T23:53:18.553241",
     "exception": false,
     "start_time": "2021-04-11T23:53:18.491533",
     "status": "completed"
    },
    "tags": []
   },
   "source": [
    "# submission"
   ]
  },
  {
   "cell_type": "code",
   "execution_count": 9,
   "id": "outstanding-shareware",
   "metadata": {
    "execution": {
     "iopub.execute_input": "2021-04-11T23:53:18.694298Z",
     "iopub.status.busy": "2021-04-11T23:53:18.688906Z",
     "iopub.status.idle": "2021-04-11T23:53:18.706040Z",
     "shell.execute_reply": "2021-04-11T23:53:18.705134Z"
    },
    "papermill": {
     "duration": 0.091061,
     "end_time": "2021-04-11T23:53:18.706229",
     "exception": false,
     "start_time": "2021-04-11T23:53:18.615168",
     "status": "completed"
    },
    "tags": []
   },
   "outputs": [
    {
     "ename": "NameError",
     "evalue": "name 'all_preds' is not defined",
     "output_type": "error",
     "traceback": [
      "\u001b[0;31m---------------------------------------------------------------------------\u001b[0m",
      "\u001b[0;31mNameError\u001b[0m                                 Traceback (most recent call last)",
      "\u001b[0;32m<ipython-input-9-bbbe37c1ecda>\u001b[0m in \u001b[0;36m<module>\u001b[0;34m\u001b[0m\n\u001b[0;32m----> 1\u001b[0;31m \u001b[0mall_preds\u001b[0m \u001b[0;34m=\u001b[0m \u001b[0mall_preds\u001b[0m\u001b[0;34m.\u001b[0m\u001b[0msort_values\u001b[0m\u001b[0;34m(\u001b[0m\u001b[0;34m\"site_path_timestamp\"\u001b[0m\u001b[0;34m)\u001b[0m\u001b[0;34m\u001b[0m\u001b[0;34m\u001b[0m\u001b[0m\n\u001b[0m\u001b[1;32m      2\u001b[0m \u001b[0mall_preds\u001b[0m\u001b[0;34m.\u001b[0m\u001b[0mto_csv\u001b[0m\u001b[0;34m(\u001b[0m\u001b[0;34m'submission.csv'\u001b[0m\u001b[0;34m)\u001b[0m\u001b[0;34m\u001b[0m\u001b[0;34m\u001b[0m\u001b[0m\n",
      "\u001b[0;31mNameError\u001b[0m: name 'all_preds' is not defined"
     ]
    }
   ],
   "source": [
    "all_preds = all_preds.sort_values(\"site_path_timestamp\")\n",
    "all_preds.to_csv('submission.csv')"
   ]
  },
  {
   "cell_type": "code",
   "execution_count": null,
   "id": "finished-inspection",
   "metadata": {
    "papermill": {
     "duration": 0.0629,
     "end_time": "2021-04-11T23:53:18.831843",
     "exception": false,
     "start_time": "2021-04-11T23:53:18.768943",
     "status": "completed"
    },
    "tags": []
   },
   "outputs": [],
   "source": []
  }
 ],
 "metadata": {
  "kernelspec": {
   "display_name": "Python 3",
   "language": "python",
   "name": "python3"
  },
  "language_info": {
   "codemirror_mode": {
    "name": "ipython",
    "version": 3
   },
   "file_extension": ".py",
   "mimetype": "text/x-python",
   "name": "python",
   "nbconvert_exporter": "python",
   "pygments_lexer": "ipython3",
   "version": "3.7.9"
  },
  "papermill": {
   "default_parameters": {},
   "duration": 645.857072,
   "end_time": "2021-04-11T23:53:19.711361",
   "environment_variables": {},
   "exception": null,
   "input_path": "__notebook__.ipynb",
   "output_path": "__notebook__.ipynb",
   "parameters": {},
   "start_time": "2021-04-11T23:42:33.854289",
   "version": "2.3.2"
  },
  "widgets": {
   "application/vnd.jupyter.widget-state+json": {
    "state": {
     "003f0f8c74fc40e6ae03349f0119ea72": {
      "model_module": "@jupyter-widgets/controls",
      "model_module_version": "1.5.0",
      "model_name": "HTMLModel",
      "state": {
       "_dom_classes": [],
       "_model_module": "@jupyter-widgets/controls",
       "_model_module_version": "1.5.0",
       "_model_name": "HTMLModel",
       "_view_count": null,
       "_view_module": "@jupyter-widgets/controls",
       "_view_module_version": "1.5.0",
       "_view_name": "HTMLView",
       "description": "",
       "description_tooltip": null,
       "layout": "IPY_MODEL_13aa981e16fd479f93d060e7968147c3",
       "placeholder": "​",
       "style": "IPY_MODEL_6ee10cc644f7415395e846d9a2ca6c93",
       "value": " 25/25 [08:56&lt;00:00, 11.06s/it]"
      }
     },
     "010fa35f80f2475bb8d01edafaea78af": {
      "model_module": "@jupyter-widgets/controls",
      "model_module_version": "1.5.0",
      "model_name": "HTMLModel",
      "state": {
       "_dom_classes": [],
       "_model_module": "@jupyter-widgets/controls",
       "_model_module_version": "1.5.0",
       "_model_name": "HTMLModel",
       "_view_count": null,
       "_view_module": "@jupyter-widgets/controls",
       "_view_module_version": "1.5.0",
       "_view_name": "HTMLView",
       "description": "",
       "description_tooltip": null,
       "layout": "IPY_MODEL_6f5b756c8fc14a9bb6991a03abfd28a0",
       "placeholder": "​",
       "style": "IPY_MODEL_7b3071a349bc4d1a9198d928cfccc53d",
       "value": " 0/24 [01:37&lt;?, ?it/s]"
      }
     },
     "03a6f06892c447399d9781d3a4d008f7": {
      "model_module": "@jupyter-widgets/base",
      "model_module_version": "1.2.0",
      "model_name": "LayoutModel",
      "state": {
       "_model_module": "@jupyter-widgets/base",
       "_model_module_version": "1.2.0",
       "_model_name": "LayoutModel",
       "_view_count": null,
       "_view_module": "@jupyter-widgets/base",
       "_view_module_version": "1.2.0",
       "_view_name": "LayoutView",
       "align_content": null,
       "align_items": null,
       "align_self": null,
       "border": null,
       "bottom": null,
       "display": null,
       "flex": null,
       "flex_flow": null,
       "grid_area": null,
       "grid_auto_columns": null,
       "grid_auto_flow": null,
       "grid_auto_rows": null,
       "grid_column": null,
       "grid_gap": null,
       "grid_row": null,
       "grid_template_areas": null,
       "grid_template_columns": null,
       "grid_template_rows": null,
       "height": null,
       "justify_content": null,
       "justify_items": null,
       "left": null,
       "margin": null,
       "max_height": null,
       "max_width": null,
       "min_height": null,
       "min_width": null,
       "object_fit": null,
       "object_position": null,
       "order": null,
       "overflow": null,
       "overflow_x": null,
       "overflow_y": null,
       "padding": null,
       "right": null,
       "top": null,
       "visibility": null,
       "width": null
      }
     },
     "13aa981e16fd479f93d060e7968147c3": {
      "model_module": "@jupyter-widgets/base",
      "model_module_version": "1.2.0",
      "model_name": "LayoutModel",
      "state": {
       "_model_module": "@jupyter-widgets/base",
       "_model_module_version": "1.2.0",
       "_model_name": "LayoutModel",
       "_view_count": null,
       "_view_module": "@jupyter-widgets/base",
       "_view_module_version": "1.2.0",
       "_view_name": "LayoutView",
       "align_content": null,
       "align_items": null,
       "align_self": null,
       "border": null,
       "bottom": null,
       "display": null,
       "flex": null,
       "flex_flow": null,
       "grid_area": null,
       "grid_auto_columns": null,
       "grid_auto_flow": null,
       "grid_auto_rows": null,
       "grid_column": null,
       "grid_gap": null,
       "grid_row": null,
       "grid_template_areas": null,
       "grid_template_columns": null,
       "grid_template_rows": null,
       "height": null,
       "justify_content": null,
       "justify_items": null,
       "left": null,
       "margin": null,
       "max_height": null,
       "max_width": null,
       "min_height": null,
       "min_width": null,
       "object_fit": null,
       "object_position": null,
       "order": null,
       "overflow": null,
       "overflow_x": null,
       "overflow_y": null,
       "padding": null,
       "right": null,
       "top": null,
       "visibility": null,
       "width": null
      }
     },
     "508e7aef01cd4db181f5964300c475f4": {
      "model_module": "@jupyter-widgets/controls",
      "model_module_version": "1.5.0",
      "model_name": "FloatProgressModel",
      "state": {
       "_dom_classes": [],
       "_model_module": "@jupyter-widgets/controls",
       "_model_module_version": "1.5.0",
       "_model_name": "FloatProgressModel",
       "_view_count": null,
       "_view_module": "@jupyter-widgets/controls",
       "_view_module_version": "1.5.0",
       "_view_name": "ProgressView",
       "bar_style": "success",
       "description": "",
       "description_tooltip": null,
       "layout": "IPY_MODEL_c3c0a7ae7c4c49d8bb2498acb5c5e1c8",
       "max": 25.0,
       "min": 0.0,
       "orientation": "horizontal",
       "style": "IPY_MODEL_c3a9a74a5caa4ed4857bd0115c29e41e",
       "value": 25.0
      }
     },
     "53a2762c7ecf45858d1cdc0850952873": {
      "model_module": "@jupyter-widgets/controls",
      "model_module_version": "1.5.0",
      "model_name": "HBoxModel",
      "state": {
       "_dom_classes": [],
       "_model_module": "@jupyter-widgets/controls",
       "_model_module_version": "1.5.0",
       "_model_name": "HBoxModel",
       "_view_count": null,
       "_view_module": "@jupyter-widgets/controls",
       "_view_module_version": "1.5.0",
       "_view_name": "HBoxView",
       "box_style": "",
       "children": [
        "IPY_MODEL_e6dcb1e4a8dc465a993e99c6a2cdeada",
        "IPY_MODEL_7a061cce7b774ed1a9a1418de06eb4bf",
        "IPY_MODEL_010fa35f80f2475bb8d01edafaea78af"
       ],
       "layout": "IPY_MODEL_03a6f06892c447399d9781d3a4d008f7"
      }
     },
     "59b69751d27348d1a9efbd088d617189": {
      "model_module": "@jupyter-widgets/base",
      "model_module_version": "1.2.0",
      "model_name": "LayoutModel",
      "state": {
       "_model_module": "@jupyter-widgets/base",
       "_model_module_version": "1.2.0",
       "_model_name": "LayoutModel",
       "_view_count": null,
       "_view_module": "@jupyter-widgets/base",
       "_view_module_version": "1.2.0",
       "_view_name": "LayoutView",
       "align_content": null,
       "align_items": null,
       "align_self": null,
       "border": null,
       "bottom": null,
       "display": null,
       "flex": null,
       "flex_flow": null,
       "grid_area": null,
       "grid_auto_columns": null,
       "grid_auto_flow": null,
       "grid_auto_rows": null,
       "grid_column": null,
       "grid_gap": null,
       "grid_row": null,
       "grid_template_areas": null,
       "grid_template_columns": null,
       "grid_template_rows": null,
       "height": null,
       "justify_content": null,
       "justify_items": null,
       "left": null,
       "margin": null,
       "max_height": null,
       "max_width": null,
       "min_height": null,
       "min_width": null,
       "object_fit": null,
       "object_position": null,
       "order": null,
       "overflow": null,
       "overflow_x": null,
       "overflow_y": null,
       "padding": null,
       "right": null,
       "top": null,
       "visibility": null,
       "width": null
      }
     },
     "5ab2d2db9a694f69ba628e90e828dac4": {
      "model_module": "@jupyter-widgets/controls",
      "model_module_version": "1.5.0",
      "model_name": "HBoxModel",
      "state": {
       "_dom_classes": [],
       "_model_module": "@jupyter-widgets/controls",
       "_model_module_version": "1.5.0",
       "_model_name": "HBoxModel",
       "_view_count": null,
       "_view_module": "@jupyter-widgets/controls",
       "_view_module_version": "1.5.0",
       "_view_name": "HBoxView",
       "box_style": "",
       "children": [
        "IPY_MODEL_b4bcfb6268974f53b6d928f14dde8a38",
        "IPY_MODEL_508e7aef01cd4db181f5964300c475f4",
        "IPY_MODEL_003f0f8c74fc40e6ae03349f0119ea72"
       ],
       "layout": "IPY_MODEL_fea3192d21354bf2b4e9a781377f25d7"
      }
     },
     "6ee10cc644f7415395e846d9a2ca6c93": {
      "model_module": "@jupyter-widgets/controls",
      "model_module_version": "1.5.0",
      "model_name": "DescriptionStyleModel",
      "state": {
       "_model_module": "@jupyter-widgets/controls",
       "_model_module_version": "1.5.0",
       "_model_name": "DescriptionStyleModel",
       "_view_count": null,
       "_view_module": "@jupyter-widgets/base",
       "_view_module_version": "1.2.0",
       "_view_name": "StyleView",
       "description_width": ""
      }
     },
     "6f5b756c8fc14a9bb6991a03abfd28a0": {
      "model_module": "@jupyter-widgets/base",
      "model_module_version": "1.2.0",
      "model_name": "LayoutModel",
      "state": {
       "_model_module": "@jupyter-widgets/base",
       "_model_module_version": "1.2.0",
       "_model_name": "LayoutModel",
       "_view_count": null,
       "_view_module": "@jupyter-widgets/base",
       "_view_module_version": "1.2.0",
       "_view_name": "LayoutView",
       "align_content": null,
       "align_items": null,
       "align_self": null,
       "border": null,
       "bottom": null,
       "display": null,
       "flex": null,
       "flex_flow": null,
       "grid_area": null,
       "grid_auto_columns": null,
       "grid_auto_flow": null,
       "grid_auto_rows": null,
       "grid_column": null,
       "grid_gap": null,
       "grid_row": null,
       "grid_template_areas": null,
       "grid_template_columns": null,
       "grid_template_rows": null,
       "height": null,
       "justify_content": null,
       "justify_items": null,
       "left": null,
       "margin": null,
       "max_height": null,
       "max_width": null,
       "min_height": null,
       "min_width": null,
       "object_fit": null,
       "object_position": null,
       "order": null,
       "overflow": null,
       "overflow_x": null,
       "overflow_y": null,
       "padding": null,
       "right": null,
       "top": null,
       "visibility": null,
       "width": null
      }
     },
     "7a061cce7b774ed1a9a1418de06eb4bf": {
      "model_module": "@jupyter-widgets/controls",
      "model_module_version": "1.5.0",
      "model_name": "FloatProgressModel",
      "state": {
       "_dom_classes": [],
       "_model_module": "@jupyter-widgets/controls",
       "_model_module_version": "1.5.0",
       "_model_name": "FloatProgressModel",
       "_view_count": null,
       "_view_module": "@jupyter-widgets/controls",
       "_view_module_version": "1.5.0",
       "_view_name": "ProgressView",
       "bar_style": "danger",
       "description": "",
       "description_tooltip": null,
       "layout": "IPY_MODEL_d2a85fd301964af39d19916d1c998d04",
       "max": 24.0,
       "min": 0.0,
       "orientation": "horizontal",
       "style": "IPY_MODEL_dd97c1795f44417ca06d2fc2d74bb99f",
       "value": 0.0
      }
     },
     "7b3071a349bc4d1a9198d928cfccc53d": {
      "model_module": "@jupyter-widgets/controls",
      "model_module_version": "1.5.0",
      "model_name": "DescriptionStyleModel",
      "state": {
       "_model_module": "@jupyter-widgets/controls",
       "_model_module_version": "1.5.0",
       "_model_name": "DescriptionStyleModel",
       "_view_count": null,
       "_view_module": "@jupyter-widgets/base",
       "_view_module_version": "1.2.0",
       "_view_name": "StyleView",
       "description_width": ""
      }
     },
     "8d1a096c76af4300ab7464cc884bdb95": {
      "model_module": "@jupyter-widgets/controls",
      "model_module_version": "1.5.0",
      "model_name": "DescriptionStyleModel",
      "state": {
       "_model_module": "@jupyter-widgets/controls",
       "_model_module_version": "1.5.0",
       "_model_name": "DescriptionStyleModel",
       "_view_count": null,
       "_view_module": "@jupyter-widgets/base",
       "_view_module_version": "1.2.0",
       "_view_name": "StyleView",
       "description_width": ""
      }
     },
     "b4bcfb6268974f53b6d928f14dde8a38": {
      "model_module": "@jupyter-widgets/controls",
      "model_module_version": "1.5.0",
      "model_name": "HTMLModel",
      "state": {
       "_dom_classes": [],
       "_model_module": "@jupyter-widgets/controls",
       "_model_module_version": "1.5.0",
       "_model_name": "HTMLModel",
       "_view_count": null,
       "_view_module": "@jupyter-widgets/controls",
       "_view_module_version": "1.5.0",
       "_view_name": "HTMLView",
       "description": "",
       "description_tooltip": null,
       "layout": "IPY_MODEL_dbd20ed2aeed4c4681f878f28b37d347",
       "placeholder": "​",
       "style": "IPY_MODEL_8d1a096c76af4300ab7464cc884bdb95",
       "value": "100%"
      }
     },
     "c3a9a74a5caa4ed4857bd0115c29e41e": {
      "model_module": "@jupyter-widgets/controls",
      "model_module_version": "1.5.0",
      "model_name": "ProgressStyleModel",
      "state": {
       "_model_module": "@jupyter-widgets/controls",
       "_model_module_version": "1.5.0",
       "_model_name": "ProgressStyleModel",
       "_view_count": null,
       "_view_module": "@jupyter-widgets/base",
       "_view_module_version": "1.2.0",
       "_view_name": "StyleView",
       "bar_color": null,
       "description_width": ""
      }
     },
     "c3c0a7ae7c4c49d8bb2498acb5c5e1c8": {
      "model_module": "@jupyter-widgets/base",
      "model_module_version": "1.2.0",
      "model_name": "LayoutModel",
      "state": {
       "_model_module": "@jupyter-widgets/base",
       "_model_module_version": "1.2.0",
       "_model_name": "LayoutModel",
       "_view_count": null,
       "_view_module": "@jupyter-widgets/base",
       "_view_module_version": "1.2.0",
       "_view_name": "LayoutView",
       "align_content": null,
       "align_items": null,
       "align_self": null,
       "border": null,
       "bottom": null,
       "display": null,
       "flex": null,
       "flex_flow": null,
       "grid_area": null,
       "grid_auto_columns": null,
       "grid_auto_flow": null,
       "grid_auto_rows": null,
       "grid_column": null,
       "grid_gap": null,
       "grid_row": null,
       "grid_template_areas": null,
       "grid_template_columns": null,
       "grid_template_rows": null,
       "height": null,
       "justify_content": null,
       "justify_items": null,
       "left": null,
       "margin": null,
       "max_height": null,
       "max_width": null,
       "min_height": null,
       "min_width": null,
       "object_fit": null,
       "object_position": null,
       "order": null,
       "overflow": null,
       "overflow_x": null,
       "overflow_y": null,
       "padding": null,
       "right": null,
       "top": null,
       "visibility": null,
       "width": null
      }
     },
     "d2a85fd301964af39d19916d1c998d04": {
      "model_module": "@jupyter-widgets/base",
      "model_module_version": "1.2.0",
      "model_name": "LayoutModel",
      "state": {
       "_model_module": "@jupyter-widgets/base",
       "_model_module_version": "1.2.0",
       "_model_name": "LayoutModel",
       "_view_count": null,
       "_view_module": "@jupyter-widgets/base",
       "_view_module_version": "1.2.0",
       "_view_name": "LayoutView",
       "align_content": null,
       "align_items": null,
       "align_self": null,
       "border": null,
       "bottom": null,
       "display": null,
       "flex": null,
       "flex_flow": null,
       "grid_area": null,
       "grid_auto_columns": null,
       "grid_auto_flow": null,
       "grid_auto_rows": null,
       "grid_column": null,
       "grid_gap": null,
       "grid_row": null,
       "grid_template_areas": null,
       "grid_template_columns": null,
       "grid_template_rows": null,
       "height": null,
       "justify_content": null,
       "justify_items": null,
       "left": null,
       "margin": null,
       "max_height": null,
       "max_width": null,
       "min_height": null,
       "min_width": null,
       "object_fit": null,
       "object_position": null,
       "order": null,
       "overflow": null,
       "overflow_x": null,
       "overflow_y": null,
       "padding": null,
       "right": null,
       "top": null,
       "visibility": null,
       "width": null
      }
     },
     "dbd20ed2aeed4c4681f878f28b37d347": {
      "model_module": "@jupyter-widgets/base",
      "model_module_version": "1.2.0",
      "model_name": "LayoutModel",
      "state": {
       "_model_module": "@jupyter-widgets/base",
       "_model_module_version": "1.2.0",
       "_model_name": "LayoutModel",
       "_view_count": null,
       "_view_module": "@jupyter-widgets/base",
       "_view_module_version": "1.2.0",
       "_view_name": "LayoutView",
       "align_content": null,
       "align_items": null,
       "align_self": null,
       "border": null,
       "bottom": null,
       "display": null,
       "flex": null,
       "flex_flow": null,
       "grid_area": null,
       "grid_auto_columns": null,
       "grid_auto_flow": null,
       "grid_auto_rows": null,
       "grid_column": null,
       "grid_gap": null,
       "grid_row": null,
       "grid_template_areas": null,
       "grid_template_columns": null,
       "grid_template_rows": null,
       "height": null,
       "justify_content": null,
       "justify_items": null,
       "left": null,
       "margin": null,
       "max_height": null,
       "max_width": null,
       "min_height": null,
       "min_width": null,
       "object_fit": null,
       "object_position": null,
       "order": null,
       "overflow": null,
       "overflow_x": null,
       "overflow_y": null,
       "padding": null,
       "right": null,
       "top": null,
       "visibility": null,
       "width": null
      }
     },
     "dd97c1795f44417ca06d2fc2d74bb99f": {
      "model_module": "@jupyter-widgets/controls",
      "model_module_version": "1.5.0",
      "model_name": "ProgressStyleModel",
      "state": {
       "_model_module": "@jupyter-widgets/controls",
       "_model_module_version": "1.5.0",
       "_model_name": "ProgressStyleModel",
       "_view_count": null,
       "_view_module": "@jupyter-widgets/base",
       "_view_module_version": "1.2.0",
       "_view_name": "StyleView",
       "bar_color": null,
       "description_width": ""
      }
     },
     "e6dcb1e4a8dc465a993e99c6a2cdeada": {
      "model_module": "@jupyter-widgets/controls",
      "model_module_version": "1.5.0",
      "model_name": "HTMLModel",
      "state": {
       "_dom_classes": [],
       "_model_module": "@jupyter-widgets/controls",
       "_model_module_version": "1.5.0",
       "_model_name": "HTMLModel",
       "_view_count": null,
       "_view_module": "@jupyter-widgets/controls",
       "_view_module_version": "1.5.0",
       "_view_name": "HTMLView",
       "description": "",
       "description_tooltip": null,
       "layout": "IPY_MODEL_59b69751d27348d1a9efbd088d617189",
       "placeholder": "​",
       "style": "IPY_MODEL_ed3d31df03dc49ce8d13aa9cacc27b15",
       "value": "  0%"
      }
     },
     "ed3d31df03dc49ce8d13aa9cacc27b15": {
      "model_module": "@jupyter-widgets/controls",
      "model_module_version": "1.5.0",
      "model_name": "DescriptionStyleModel",
      "state": {
       "_model_module": "@jupyter-widgets/controls",
       "_model_module_version": "1.5.0",
       "_model_name": "DescriptionStyleModel",
       "_view_count": null,
       "_view_module": "@jupyter-widgets/base",
       "_view_module_version": "1.2.0",
       "_view_name": "StyleView",
       "description_width": ""
      }
     },
     "fea3192d21354bf2b4e9a781377f25d7": {
      "model_module": "@jupyter-widgets/base",
      "model_module_version": "1.2.0",
      "model_name": "LayoutModel",
      "state": {
       "_model_module": "@jupyter-widgets/base",
       "_model_module_version": "1.2.0",
       "_model_name": "LayoutModel",
       "_view_count": null,
       "_view_module": "@jupyter-widgets/base",
       "_view_module_version": "1.2.0",
       "_view_name": "LayoutView",
       "align_content": null,
       "align_items": null,
       "align_self": null,
       "border": null,
       "bottom": null,
       "display": null,
       "flex": null,
       "flex_flow": null,
       "grid_area": null,
       "grid_auto_columns": null,
       "grid_auto_flow": null,
       "grid_auto_rows": null,
       "grid_column": null,
       "grid_gap": null,
       "grid_row": null,
       "grid_template_areas": null,
       "grid_template_columns": null,
       "grid_template_rows": null,
       "height": null,
       "justify_content": null,
       "justify_items": null,
       "left": null,
       "margin": null,
       "max_height": null,
       "max_width": null,
       "min_height": null,
       "min_width": null,
       "object_fit": null,
       "object_position": null,
       "order": null,
       "overflow": null,
       "overflow_x": null,
       "overflow_y": null,
       "padding": null,
       "right": null,
       "top": null,
       "visibility": null,
       "width": null
      }
     }
    },
    "version_major": 2,
    "version_minor": 0
   }
  }
 },
 "nbformat": 4,
 "nbformat_minor": 5
}
