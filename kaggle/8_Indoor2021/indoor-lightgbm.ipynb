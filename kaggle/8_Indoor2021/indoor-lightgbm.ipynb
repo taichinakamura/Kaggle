{
 "cells": [
  {
   "cell_type": "markdown",
   "id": "royal-consultancy",
   "metadata": {
    "papermill": {
     "duration": 0.011953,
     "end_time": "2021-04-10T08:54:03.725201",
     "exception": false,
     "start_time": "2021-04-10T08:54:03.713248",
     "status": "completed"
    },
    "tags": []
   },
   "source": [
    "- renew dataset (version 5: bssid more than 100 and timestamp, additional 25 files)\n",
    "- fold 5 \n",
    "- add log to check feature performance\n",
    "- focus on f\n",
    "- cancel timestamp in some cases * (go back to version 11)"
   ]
  },
  {
   "cell_type": "code",
   "execution_count": 1,
   "id": "processed-banner",
   "metadata": {
    "_cell_guid": "b1076dfc-b9ad-4769-8c92-a6c4dae69d19",
    "_uuid": "8f2839f25d086af736a60e9eeb907d3b93b6e0e5",
    "execution": {
     "iopub.execute_input": "2021-04-10T08:54:03.751890Z",
     "iopub.status.busy": "2021-04-10T08:54:03.750078Z",
     "iopub.status.idle": "2021-04-10T08:54:05.123259Z",
     "shell.execute_reply": "2021-04-10T08:54:05.122510Z"
    },
    "papermill": {
     "duration": 1.387797,
     "end_time": "2021-04-10T08:54:05.123429",
     "exception": false,
     "start_time": "2021-04-10T08:54:03.735632",
     "status": "completed"
    },
    "tags": []
   },
   "outputs": [
    {
     "data": {
      "text/html": [
       "<style type='text/css'>\n",
       ".datatable table.frame { margin-bottom: 0; }\n",
       ".datatable table.frame thead { border-bottom: none; }\n",
       ".datatable table.frame tr.coltypes td {  color: #FFFFFF;  line-height: 6px;  padding: 0 0.5em;}\n",
       ".datatable .bool    { background: #DDDD99; }\n",
       ".datatable .object  { background: #565656; }\n",
       ".datatable .int     { background: #5D9E5D; }\n",
       ".datatable .float   { background: #4040CC; }\n",
       ".datatable .str     { background: #CC4040; }\n",
       ".datatable .row_index {  background: var(--jp-border-color3);  border-right: 1px solid var(--jp-border-color0);  color: var(--jp-ui-font-color3);  font-size: 9px;}\n",
       ".datatable .frame tr.coltypes .row_index {  background: var(--jp-border-color0);}\n",
       ".datatable th:nth-child(2) { padding-left: 12px; }\n",
       ".datatable .hellipsis {  color: var(--jp-cell-editor-border-color);}\n",
       ".datatable .vellipsis {  background: var(--jp-layout-color0);  color: var(--jp-cell-editor-border-color);}\n",
       ".datatable .na {  color: var(--jp-cell-editor-border-color);  font-size: 80%;}\n",
       ".datatable .footer { font-size: 9px; }\n",
       ".datatable .frame_dimensions {  background: var(--jp-border-color3);  border-top: 1px solid var(--jp-border-color0);  color: var(--jp-ui-font-color3);  display: inline-block;  opacity: 0.6;  padding: 1px 10px 1px 5px;}\n",
       "</style>\n"
      ],
      "text/plain": [
       "<IPython.core.display.HTML object>"
      ]
     },
     "metadata": {},
     "output_type": "display_data"
    }
   ],
   "source": [
    "import os\n",
    "import warnings\n",
    "import numpy as np \n",
    "import pandas as pd\n",
    "import multiprocessing\n",
    "import lightgbm as lgb\n",
    "from pathlib import Path\n",
    "import scipy.stats as stats\n",
    "import scipy.sparse\n",
    "import scipy.interpolate\n",
    "from tqdm.notebook import tqdm\n",
    "from sklearn.model_selection import KFold\n",
    "from sklearn.metrics import mean_squared_error, accuracy_score\n",
    "\n",
    "warnings.filterwarnings(\"ignore\")"
   ]
  },
  {
   "cell_type": "code",
   "execution_count": 2,
   "id": "functional-delivery",
   "metadata": {
    "execution": {
     "iopub.execute_input": "2021-04-10T08:54:05.156294Z",
     "iopub.status.busy": "2021-04-10T08:54:05.155586Z",
     "iopub.status.idle": "2021-04-10T08:54:05.159040Z",
     "shell.execute_reply": "2021-04-10T08:54:05.158389Z"
    },
    "papermill": {
     "duration": 0.023534,
     "end_time": "2021-04-10T08:54:05.159183",
     "exception": false,
     "start_time": "2021-04-10T08:54:05.135649",
     "status": "completed"
    },
    "tags": []
   },
   "outputs": [],
   "source": [
    "from pathlib import Path\n",
    "from logging import getLogger, Formatter, FileHandler, StreamHandler, INFO, DEBUG\n",
    "\n",
    "\n",
    "def create_logger(exp_version):\n",
    "    log_file = (\"{}.log\".format(exp_version))\n",
    "\n",
    "    # logger\n",
    "    logger_ = getLogger(exp_version)\n",
    "    logger_.setLevel(DEBUG)\n",
    "\n",
    "    # formatter\n",
    "    fmr = Formatter(\"[%(levelname)s] %(asctime)s >>\\t%(message)s\")\n",
    "\n",
    "    # file handler\n",
    "    fh = FileHandler(log_file)\n",
    "    fh.setLevel(DEBUG)\n",
    "    fh.setFormatter(fmr)\n",
    "\n",
    "    # stream handler\n",
    "    ch = StreamHandler()\n",
    "    ch.setLevel(INFO)\n",
    "    ch.setFormatter(fmr)\n",
    "\n",
    "    logger_.addHandler(fh)\n",
    "    logger_.addHandler(ch)\n",
    "\n",
    "\n",
    "def get_logger(exp_version):\n",
    "    return getLogger(exp_version)\n",
    "\n",
    "VERSION = \"002\" # 実験番号\n",
    "create_logger(VERSION)\n",
    "#get_logger(VERSION).info(\"what you want to save\") "
   ]
  },
  {
   "cell_type": "code",
   "execution_count": 3,
   "id": "prime-fruit",
   "metadata": {
    "execution": {
     "iopub.execute_input": "2021-04-10T08:54:05.188144Z",
     "iopub.status.busy": "2021-04-10T08:54:05.187109Z",
     "iopub.status.idle": "2021-04-10T08:54:05.190753Z",
     "shell.execute_reply": "2021-04-10T08:54:05.191260Z"
    },
    "papermill": {
     "duration": 0.021173,
     "end_time": "2021-04-10T08:54:05.191445",
     "exception": false,
     "start_time": "2021-04-10T08:54:05.170272",
     "status": "completed"
    },
    "tags": []
   },
   "outputs": [],
   "source": [
    "def comp_metric(xhat, yhat, fhat, x, y, f):\n",
    "    intermediate = np.sqrt(np.power(xhat - x,2) + np.power(yhat-y,2)) + 15 * np.abs(fhat-f)\n",
    "    return intermediate.sum() / xhat.shape[0]"
   ]
  },
  {
   "cell_type": "code",
   "execution_count": 4,
   "id": "thirty-participant",
   "metadata": {
    "execution": {
     "iopub.execute_input": "2021-04-10T08:54:05.217185Z",
     "iopub.status.busy": "2021-04-10T08:54:05.216514Z",
     "iopub.status.idle": "2021-04-10T08:54:05.295237Z",
     "shell.execute_reply": "2021-04-10T08:54:05.294524Z"
    },
    "papermill": {
     "duration": 0.092762,
     "end_time": "2021-04-10T08:54:05.295397",
     "exception": false,
     "start_time": "2021-04-10T08:54:05.202635",
     "status": "completed"
    },
    "tags": []
   },
   "outputs": [],
   "source": [
    "ORG_DIR = '/kaggle/input/indoor-location-navigation'\n",
    "DATA_DIR = '/kaggle/input/indoor-competition-dataset'\n",
    "\n",
    "sub = pd.read_csv(ORG_DIR+\"/sample_submission.csv\")\n",
    "train_files = [i for i in os.listdir(DATA_DIR) if \"train\" in i]\n",
    "test_files = [i for i in os.listdir(DATA_DIR) if \"test\" in i]\n",
    "\n",
    "all_sites = sorted(set(sub[\"site_path_timestamp\"].apply(lambda x: x.split(\"_\")[0])))\n",
    "sub = sub.set_index(\"site_path_timestamp\")"
   ]
  },
  {
   "cell_type": "code",
   "execution_count": 5,
   "id": "macro-imagination",
   "metadata": {
    "execution": {
     "iopub.execute_input": "2021-04-10T08:54:05.324379Z",
     "iopub.status.busy": "2021-04-10T08:54:05.323543Z",
     "iopub.status.idle": "2021-04-10T08:54:05.327737Z",
     "shell.execute_reply": "2021-04-10T08:54:05.327075Z"
    },
    "papermill": {
     "duration": 0.020919,
     "end_time": "2021-04-10T08:54:05.327923",
     "exception": false,
     "start_time": "2021-04-10T08:54:05.307004",
     "status": "completed"
    },
    "tags": []
   },
   "outputs": [],
   "source": [
    "train_only_files = [i for i in os.listdir(DATA_DIR) if \"train\" in i and i.split(\"_\")[0] not in all_sites]"
   ]
  },
  {
   "cell_type": "markdown",
   "id": "organized-catering",
   "metadata": {
    "papermill": {
     "duration": 0.010937,
     "end_time": "2021-04-10T08:54:05.350485",
     "exception": false,
     "start_time": "2021-04-10T08:54:05.339548",
     "status": "completed"
    },
    "tags": []
   },
   "source": [
    "# modelling"
   ]
  },
  {
   "cell_type": "code",
   "execution_count": 6,
   "id": "framed-samuel",
   "metadata": {
    "execution": {
     "iopub.execute_input": "2021-04-10T08:54:05.377290Z",
     "iopub.status.busy": "2021-04-10T08:54:05.376450Z",
     "iopub.status.idle": "2021-04-10T09:31:25.210514Z",
     "shell.execute_reply": "2021-04-10T09:31:25.211206Z"
    },
    "papermill": {
     "duration": 2239.8497,
     "end_time": "2021-04-10T09:31:25.211575",
     "exception": false,
     "start_time": "2021-04-10T08:54:05.361875",
     "status": "completed"
    },
    "tags": []
   },
   "outputs": [
    {
     "data": {
      "application/vnd.jupyter.widget-view+json": {
       "model_id": "e6cfb9216b13448eb761d31c6f5315eb",
       "version_major": 2,
       "version_minor": 0
      },
      "text/plain": [
       "  0%|          | 0/24 [00:00<?, ?it/s]"
      ]
     },
     "metadata": {},
     "output_type": "display_data"
    },
    {
     "name": "stderr",
     "output_type": "stream",
     "text": [
      "[INFO] 2021-04-10 08:54:05,430 >>\t5a0546857ecc773753327266\n",
      "[INFO] 2021-04-10 08:54:11,584 >>\t(9296, 2599)\n",
      "[INFO] 2021-04-10 08:55:40,398 >>\t0.9813898450946644\n",
      "[INFO] 2021-04-10 08:55:40,427 >>\t5c3c44b80379370013e0fd2b\n",
      "[INFO] 2021-04-10 08:55:45,825 >>\t(9737, 2351)\n",
      "[INFO] 2021-04-10 08:57:03,326 >>\t0.9731950292697956\n",
      "[INFO] 2021-04-10 08:57:03,344 >>\t5d27075f03f801723c2e360f\n",
      "[INFO] 2021-04-10 08:57:37,096 >>\t(23666, 5053)\n",
      "[INFO] 2021-04-10 09:02:59,073 >>\t0.9892673033043184\n",
      "[INFO] 2021-04-10 09:02:59,091 >>\t5d27096c03f801723c31e5e0\n",
      "[INFO] 2021-04-10 09:03:00,514 >>\t(9100, 734)\n",
      "[INFO] 2021-04-10 09:03:30,335 >>\t0.9903296703296703\n",
      "[INFO] 2021-04-10 09:03:30,370 >>\t5d27097f03f801723c320d97\n",
      "[INFO] 2021-04-10 09:03:33,309 >>\t(10507, 1402)\n",
      "[INFO] 2021-04-10 09:04:11,730 >>\t0.9808698962596364\n",
      "[INFO] 2021-04-10 09:04:11,758 >>\t5d27099f03f801723c32511d\n",
      "[INFO] 2021-04-10 09:04:12,354 >>\t(4251, 630)\n",
      "[INFO] 2021-04-10 09:04:29,067 >>\t0.988238061632557\n",
      "[INFO] 2021-04-10 09:04:29,079 >>\t5d2709a003f801723c3251bf\n",
      "[INFO] 2021-04-10 09:04:29,863 >>\t(3940, 804)\n",
      "[INFO] 2021-04-10 09:04:45,742 >>\t0.9949238578680203\n",
      "[INFO] 2021-04-10 09:04:45,761 >>\t5d2709b303f801723c327472\n",
      "[INFO] 2021-04-10 09:04:49,617 >>\t(15358, 1270)\n",
      "[INFO] 2021-04-10 09:07:16,130 >>\t0.9986326344576116\n",
      "[INFO] 2021-04-10 09:07:16,168 >>\t5d2709bb03f801723c32852c\n",
      "[INFO] 2021-04-10 09:07:21,778 >>\t(17203, 1661)\n",
      "[INFO] 2021-04-10 09:08:27,138 >>\t0.9636691274777655\n",
      "[INFO] 2021-04-10 09:08:27,181 >>\t5d2709c303f801723c3299ee\n",
      "[INFO] 2021-04-10 09:08:41,812 >>\t(10083, 4834)\n",
      "[INFO] 2021-04-10 09:11:25,714 >>\t0.9869086581374591\n",
      "[INFO] 2021-04-10 09:11:25,766 >>\t5d2709d403f801723c32bd39\n",
      "[INFO] 2021-04-10 09:11:28,380 >>\t(10027, 1108)\n",
      "[INFO] 2021-04-10 09:12:00,336 >>\t0.998703500548519\n",
      "[INFO] 2021-04-10 09:12:00,399 >>\t5d2709e003f801723c32d896\n",
      "[INFO] 2021-04-10 09:12:02,136 >>\t(11042, 804)\n",
      "[INFO] 2021-04-10 09:12:41,045 >>\t0.9856909980076073\n",
      "[INFO] 2021-04-10 09:12:41,076 >>\t5da138274db8ce0c98bbd3d2\n",
      "[INFO] 2021-04-10 09:12:41,270 >>\t(2662, 263)\n",
      "[INFO] 2021-04-10 09:12:46,931 >>\t0.9958677685950413\n",
      "[INFO] 2021-04-10 09:12:46,943 >>\t5da1382d4db8ce0c98bbe92e\n",
      "[INFO] 2021-04-10 09:12:50,629 >>\t(8999, 1998)\n",
      "[INFO] 2021-04-10 09:15:33,895 >>\t0.9192132459162129\n",
      "[INFO] 2021-04-10 09:15:33,924 >>\t5da138314db8ce0c98bbf3a0\n",
      "[INFO] 2021-04-10 09:15:35,487 >>\t(9012, 896)\n",
      "[INFO] 2021-04-10 09:16:12,605 >>\t0.996005326231691\n",
      "[INFO] 2021-04-10 09:16:12,627 >>\t5da138364db8ce0c98bc00f1\n",
      "[INFO] 2021-04-10 09:16:12,943 >>\t(2767, 420)\n",
      "[INFO] 2021-04-10 09:16:21,486 >>\t1.0\n",
      "[INFO] 2021-04-10 09:16:21,501 >>\t5da1383b4db8ce0c98bc11ab\n",
      "[INFO] 2021-04-10 09:16:24,651 >>\t(13196, 1144)\n",
      "[INFO] 2021-04-10 09:17:03,772 >>\t0.9526371627765989\n",
      "[INFO] 2021-04-10 09:17:03,797 >>\t5da138754db8ce0c98bca82f\n",
      "[INFO] 2021-04-10 09:17:04,974 >>\t(7188, 777)\n",
      "[INFO] 2021-04-10 09:17:20,548 >>\t0.966332776850306\n",
      "[INFO] 2021-04-10 09:17:20,571 >>\t5da138764db8ce0c98bcaa46\n",
      "[INFO] 2021-04-10 09:17:22,919 >>\t(9420, 1115)\n",
      "[INFO] 2021-04-10 09:17:54,744 >>\t0.9954352441613588\n",
      "[INFO] 2021-04-10 09:17:54,787 >>\t5da1389e4db8ce0c98bd0547\n",
      "[INFO] 2021-04-10 09:17:55,255 >>\t(6312, 345)\n",
      "[INFO] 2021-04-10 09:18:15,397 >>\t0.985424588086185\n",
      "[INFO] 2021-04-10 09:18:15,412 >>\t5da138b74db8ce0c98bd4774\n",
      "[INFO] 2021-04-10 09:18:26,183 >>\t(17382, 2725)\n",
      "[INFO] 2021-04-10 09:21:10,686 >>\t0.9875158209642159\n",
      "[INFO] 2021-04-10 09:21:10,714 >>\t5da958dd46f8266d0737457b\n",
      "[INFO] 2021-04-10 09:21:20,597 >>\t(15148, 2699)\n",
      "[INFO] 2021-04-10 09:23:39,257 >>\t0.9846184314761025\n",
      "[INFO] 2021-04-10 09:23:39,296 >>\t5dbc1d84c1eb61796cf7c010\n",
      "[INFO] 2021-04-10 09:23:52,768 >>\t(16174, 3493)\n",
      "[INFO] 2021-04-10 09:29:39,823 >>\t0.9920242364288364\n",
      "[INFO] 2021-04-10 09:29:39,867 >>\t5dc8cea7659e181adb076a3f\n",
      "[INFO] 2021-04-10 09:29:49,346 >>\t(15655, 2575)\n",
      "[INFO] 2021-04-10 09:31:23,155 >>\t0.9722133503672948\n"
     ]
    },
    {
     "name": "stdout",
     "output_type": "stream",
     "text": [
      "overall:  0.9814585956416465\n"
     ]
    }
   ],
   "source": [
    "lgbm_params_f = {'objective': 'multiclass', 'metric': 'multi_logloss',\n",
    "                     'boosting_type': 'gbdt','tree_learner': 'serial',\n",
    "                     'learning_rate': 0.1, \"num_leaves\": 30, \n",
    "               'random_seed':44, 'n_estimators': 5000, 'verbose': -1}\n",
    "n_folds = 5\n",
    "kf = KFold(n_splits=n_folds, shuffle=True, random_state=224)\n",
    "predictions = list()\n",
    "\n",
    "all_f_pred = np.array([])\n",
    "all_f_label = np.array([])\n",
    "\n",
    "all_valid_f_df = []\n",
    "all_feat_imp_df = []\n",
    "\n",
    "for site in tqdm(all_sites):\n",
    "    get_logger(VERSION).info(site)\n",
    "    train_data = pd.read_csv(DATA_DIR+\"/\"+site+str(\"_train.csv\"), index_col=\"path\")\n",
    "    test_data = pd.read_csv(DATA_DIR+\"/\"+site+str(\"_test.csv\"))\n",
    "\n",
    "    train_paths = train_data.index.unique()\n",
    "    \n",
    "    non_targets = [i for i in train_data.columns if i not in [\"timestamp\", \"x\", \"y\", \"f\"]]\n",
    "\n",
    "    # predict floor first\n",
    "    X = train_data[non_targets+[\"f\"]]\n",
    "    X_test = test_data[non_targets]\n",
    "    get_logger(VERSION).info(X.shape)\n",
    "    \n",
    "    label_f = np.zeros([len(X)])\n",
    "    valid_f_pred = np.zeros([len(X)])\n",
    "    valid_f_path = [\"tmp\" for i in range(len(X))]\n",
    "    test_f_pred = np.zeros([len(test_data), n_folds])\n",
    "    feature_importance_df = pd.DataFrame(non_targets, columns=[\"Feature\"])\n",
    "    for fold, (tr_group_idx, val_group_idx) in enumerate(kf.split(train_paths)):\n",
    "        tr_paths, val_paths = train_paths[tr_group_idx], train_paths[val_group_idx]\n",
    "    \n",
    "        tmp = X.reset_index(drop=False)\n",
    "        val_index = tmp[tmp[\"path\"].isin(val_paths)].index\n",
    "        val_path = tmp.loc[val_index][\"path\"].values\n",
    "        \n",
    "        X_train = X[X.index.isin(tr_paths)].drop(\"f\", axis=1).reset_index(drop=True)\n",
    "        X_valid = X[X.index.isin(val_paths)].drop(\"f\", axis=1).reset_index(drop=True)\n",
    "        y_train = X[X.index.isin(tr_paths)][\"f\"].reset_index(drop=True)\n",
    "        y_valid = X[X.index.isin(val_paths)][\"f\"].reset_index(drop=True)\n",
    "    \n",
    "        lgb_train = lgb.Dataset(X_train, y_train)\n",
    "        lgb_eval = lgb.Dataset(X_valid, y_valid, reference=lgb_train)\n",
    "        \n",
    "        model = lgb.LGBMClassifier(**lgbm_params_f)\n",
    "        model.fit(X_train, y_train,\n",
    "                       eval_set=[(X_valid, y_valid)],\n",
    "                       eval_metric='multi_logloss',\n",
    "                       verbose=False,\n",
    "                       early_stopping_rounds=20\n",
    "                       )\n",
    "    \n",
    "        valid_f_pred[val_index] = model.predict(X_valid).astype(int)\n",
    "        for i, ind in enumerate(val_index):\n",
    "            valid_f_path[ind] = val_path[i]\n",
    "        \n",
    "        feature_importance_df[\"Fold_\"+str(fold+1)] = model.feature_importances_\n",
    "\n",
    "        label_f[val_index] = y_valid\n",
    "    \n",
    "        test_f_pred[:, fold] = model.predict(X_test).astype(int)\n",
    "        \n",
    "    feature_importance_df[\"Average\"] = np.mean(feature_importance_df.iloc[:,1:n_folds+1], axis=1)\n",
    "    feature_importance_df[\"Std\"] = np.std(feature_importance_df.iloc[:,1:n_folds+1], axis=1)\n",
    "    feature_importance_df[\"Cv\"] = feature_importance_df[\"Std\"] / feature_importance_df[\"Average\"]\n",
    "    feature_importance_df[\"site\"] = site\n",
    "        \n",
    "    all_f_pred = np.concatenate([all_f_pred, valid_f_pred])\n",
    "    all_f_label = np.concatenate([all_f_label, label_f])\n",
    "        \n",
    "    accuracy = accuracy_score(label_f, valid_f_pred)\n",
    "    get_logger(VERSION).info(accuracy)\n",
    "    valid_f_pred = pd.DataFrame(valid_f_pred)\n",
    "    valid_f_pred.columns = [\"floor\"]\n",
    "    valid_f_pred[\"path\"] = valid_f_path\n",
    "    valid_f_pred[\"site\"] = site\n",
    "    valid_f_pred[\"truth\"] = label_f\n",
    "        \n",
    "    preds_f_mode = stats.mode(test_f_pred, axis=1)\n",
    "    test_f_pred = preds_f_mode[0].astype(int).reshape(-1)\n",
    "    test_preds = pd.DataFrame(test_f_pred)\n",
    "    test_preds.columns = [\"floor\"]\n",
    "    test_preds.index = test_data[\"site_path_timestamp\"]\n",
    "    test_preds[\"floor\"] = test_preds[\"floor\"].astype(int)\n",
    "    predictions.append(test_preds)\n",
    "    \n",
    "    all_valid_f_df.append(valid_f_pred)\n",
    "    all_feat_imp_df.append(feature_importance_df)\n",
    "    \n",
    "all_valid_f_df = pd.concat(all_valid_f_df)\n",
    "all_feat_imp_df = pd.concat(all_feat_imp_df)\n",
    "\n",
    "print(\"overall: \", accuracy_score(all_valid_f_df.floor.astype(int).values, \n",
    "                                  all_valid_f_df.truth.astype(int).values))\n",
    "\n",
    "all_valid_f_df.to_csv(\"floor_prediction_in_train.csv\")\n",
    "all_feat_imp_df.to_csv(\"floor_feature_importance.csv\")"
   ]
  },
  {
   "cell_type": "code",
   "execution_count": 7,
   "id": "listed-attention",
   "metadata": {
    "execution": {
     "iopub.execute_input": "2021-04-10T09:31:25.286640Z",
     "iopub.status.busy": "2021-04-10T09:31:25.285923Z",
     "iopub.status.idle": "2021-04-10T09:31:25.289328Z",
     "shell.execute_reply": "2021-04-10T09:31:25.288826Z"
    },
    "papermill": {
     "duration": 0.044118,
     "end_time": "2021-04-10T09:31:25.289471",
     "exception": false,
     "start_time": "2021-04-10T09:31:25.245353",
     "status": "completed"
    },
    "tags": []
   },
   "outputs": [],
   "source": [
    "# lgbm_params_f = {'objective': 'multiclass', 'metric': 'multi_logloss',\n",
    "#                      'boosting_type': 'gbdt','tree_learner': 'serial',\n",
    "#                      'learning_rate': 0.1, \"num_leaves\": 30, \n",
    "#                'random_seed':44, 'n_estimators': 5000, 'verbose': -1}\n",
    "# n_folds = 5\n",
    "# kf = KFold(n_splits=n_folds, shuffle=True, random_state=224)\n",
    "# predictions = list()\n",
    "\n",
    "# all_f_pred = np.array([])\n",
    "# all_f_label = np.array([])\n",
    "\n",
    "# all_valid_f_df = []\n",
    "# all_feat_imp_df = []\n",
    "\n",
    "# for file in tqdm(train_only_files):\n",
    "#     get_logger(VERSION).info(file)\n",
    "#     try:\n",
    "#         train_data = pd.read_csv(DATA_DIR+\"/\" +file, index_col=\"path\")\n",
    "\n",
    "#         train_paths = train_data.index.unique()\n",
    "#         non_targets = [i for i in train_data.columns if i not in [\"timestamp\", \"x\", \"y\", \"f\"]]\n",
    "\n",
    "#         # predict floor first\n",
    "#         X = train_data[non_targets+[\"f\"]]\n",
    "#         get_logger(VERSION).info(X.shape)\n",
    "    \n",
    "#         label_f = np.zeros([len(X)])\n",
    "#         valid_f_pred = np.zeros([len(X)])\n",
    "#         valid_f_path = [\"tmp\" for i in range(len(X))]\n",
    "#         feature_importance_df = pd.DataFrame(non_targets, columns=[\"Feature\"])\n",
    "#         for fold, (tr_group_idx, val_group_idx) in enumerate(kf.split(train_paths)):\n",
    "#             tr_paths, val_paths = train_paths[tr_group_idx], train_paths[val_group_idx]\n",
    "    \n",
    "#             tmp = X.reset_index(drop=False)\n",
    "#             val_index = tmp[tmp[\"path\"].isin(val_paths)].index\n",
    "#             val_path = tmp.loc[val_index][\"path\"].values\n",
    "        \n",
    "#             X_train = X[X.index.isin(tr_paths)].drop(\"f\", axis=1).reset_index(drop=True)\n",
    "#             X_valid = X[X.index.isin(val_paths)].drop(\"f\", axis=1).reset_index(drop=True)\n",
    "#             y_train = X[X.index.isin(tr_paths)][\"f\"].reset_index(drop=True)\n",
    "#             y_valid = X[X.index.isin(val_paths)][\"f\"].reset_index(drop=True)\n",
    "    \n",
    "#             lgb_train = lgb.Dataset(X_train, y_train)\n",
    "#             lgb_eval = lgb.Dataset(X_valid, y_valid, reference=lgb_train)\n",
    "        \n",
    "#             model = lgb.LGBMClassifier(**lgbm_params_f)\n",
    "#             model.fit(X_train, y_train,\n",
    "#                        eval_set=[(X_valid, y_valid)],\n",
    "#                        eval_metric='multi_logloss',\n",
    "#                        verbose=False,\n",
    "#                        early_stopping_rounds=20\n",
    "#                        )\n",
    "    \n",
    "#             valid_f_pred[val_index] = model.predict(X_valid).astype(int)\n",
    "#             for i, ind in enumerate(val_index):\n",
    "#                 valid_f_path[ind] = val_path[i]\n",
    "        \n",
    "#             feature_importance_df[\"Fold_\"+str(fold+1)] = model.feature_importances_\n",
    "\n",
    "#             label_f[val_index] = y_valid\n",
    "            \n",
    "#         feature_importance_df[\"Average\"] = np.mean(feature_importance_df.iloc[:,1:n_folds+1], axis=1)\n",
    "#         feature_importance_df[\"Std\"] = np.std(feature_importance_df.iloc[:,1:n_folds+1], axis=1)\n",
    "#         feature_importance_df[\"Cv\"] = feature_importance_df[\"Std\"] / feature_importance_df[\"Average\"]\n",
    "#         feature_importance_df[\"site\"] = file.split(\"_\")[0]\n",
    "        \n",
    "#         all_f_pred = np.concatenate([all_f_pred, valid_f_pred])\n",
    "#         all_f_label = np.concatenate([all_f_label, label_f])\n",
    "        \n",
    "#         accuracy = accuracy_score(label_f, valid_f_pred)\n",
    "#         get_logger(VERSION).info(accuracy)\n",
    "#         valid_f_pred = pd.DataFrame(valid_f_pred)\n",
    "#         valid_f_pred.columns = [\"floor\"]\n",
    "#         valid_f_pred[\"path\"] = valid_f_path\n",
    "#         valid_f_pred[\"site\"] = file.split(\"_\")[0]\n",
    "#         valid_f_pred[\"truth\"] = label_f\n",
    "            \n",
    "#         all_valid_f_df.append(valid_f_pred)\n",
    "#         all_feat_imp_df.append(feature_importance_df)\n",
    "    \n",
    "#     except:\n",
    "#         get_logger(VERSION).info(\"pass\")\n",
    "    \n",
    "# all_valid_f_df = pd.concat(all_valid_f_df)\n",
    "# all_feat_imp_df = pd.concat(all_feat_imp_df)\n",
    "\n",
    "# print(\"overall: \", accuracy_score(all_valid_f_df.floor.astype(int).values, \n",
    "#                                   all_valid_f_df.truth.astype(int).values))\n",
    "\n",
    "# all_valid_f_df.to_csv(\"floor_prediction_in_train_only.csv\")\n",
    "# all_feat_imp_df.to_csv(\"floor_feature_importance_train_only.csv\")"
   ]
  },
  {
   "cell_type": "markdown",
   "id": "synthetic-paradise",
   "metadata": {
    "papermill": {
     "duration": 0.033313,
     "end_time": "2021-04-10T09:31:25.356545",
     "exception": false,
     "start_time": "2021-04-10T09:31:25.323232",
     "status": "completed"
    },
    "tags": []
   },
   "source": [
    "# postprocess"
   ]
  },
  {
   "cell_type": "code",
   "execution_count": 8,
   "id": "integrated-theme",
   "metadata": {
    "execution": {
     "iopub.execute_input": "2021-04-10T09:31:25.432996Z",
     "iopub.status.busy": "2021-04-10T09:31:25.432182Z",
     "iopub.status.idle": "2021-04-10T09:31:25.436365Z",
     "shell.execute_reply": "2021-04-10T09:31:25.435722Z"
    },
    "papermill": {
     "duration": 0.046328,
     "end_time": "2021-04-10T09:31:25.436505",
     "exception": false,
     "start_time": "2021-04-10T09:31:25.390177",
     "status": "completed"
    },
    "tags": []
   },
   "outputs": [],
   "source": [
    "all_preds = pd.concat(predictions)"
   ]
  },
  {
   "cell_type": "markdown",
   "id": "alone-expression",
   "metadata": {
    "papermill": {
     "duration": 0.03364,
     "end_time": "2021-04-10T09:31:25.505626",
     "exception": false,
     "start_time": "2021-04-10T09:31:25.471986",
     "status": "completed"
    },
    "tags": []
   },
   "source": [
    "# submission"
   ]
  },
  {
   "cell_type": "code",
   "execution_count": 9,
   "id": "satisfactory-acquisition",
   "metadata": {
    "execution": {
     "iopub.execute_input": "2021-04-10T09:31:25.580172Z",
     "iopub.status.busy": "2021-04-10T09:31:25.579461Z",
     "iopub.status.idle": "2021-04-10T09:31:25.627875Z",
     "shell.execute_reply": "2021-04-10T09:31:25.627105Z"
    },
    "papermill": {
     "duration": 0.088152,
     "end_time": "2021-04-10T09:31:25.628026",
     "exception": false,
     "start_time": "2021-04-10T09:31:25.539874",
     "status": "completed"
    },
    "tags": []
   },
   "outputs": [],
   "source": [
    "all_preds = all_preds.sort_values(\"site_path_timestamp\")\n",
    "all_preds.to_csv('submission.csv')"
   ]
  },
  {
   "cell_type": "code",
   "execution_count": null,
   "id": "loved-ultimate",
   "metadata": {
    "papermill": {
     "duration": 0.034132,
     "end_time": "2021-04-10T09:31:25.697665",
     "exception": false,
     "start_time": "2021-04-10T09:31:25.663533",
     "status": "completed"
    },
    "tags": []
   },
   "outputs": [],
   "source": []
  }
 ],
 "metadata": {
  "kernelspec": {
   "display_name": "Python 3",
   "language": "python",
   "name": "python3"
  },
  "language_info": {
   "codemirror_mode": {
    "name": "ipython",
    "version": 3
   },
   "file_extension": ".py",
   "mimetype": "text/x-python",
   "name": "python",
   "nbconvert_exporter": "python",
   "pygments_lexer": "ipython3",
   "version": "3.7.9"
  },
  "papermill": {
   "default_parameters": {},
   "duration": 2250.576579,
   "end_time": "2021-04-10T09:31:27.464002",
   "environment_variables": {},
   "exception": null,
   "input_path": "__notebook__.ipynb",
   "output_path": "__notebook__.ipynb",
   "parameters": {},
   "start_time": "2021-04-10T08:53:56.887423",
   "version": "2.3.2"
  },
  "widgets": {
   "application/vnd.jupyter.widget-state+json": {
    "state": {
     "29232a23f3d54730a38ba3aabd10a665": {
      "model_module": "@jupyter-widgets/base",
      "model_module_version": "1.2.0",
      "model_name": "LayoutModel",
      "state": {
       "_model_module": "@jupyter-widgets/base",
       "_model_module_version": "1.2.0",
       "_model_name": "LayoutModel",
       "_view_count": null,
       "_view_module": "@jupyter-widgets/base",
       "_view_module_version": "1.2.0",
       "_view_name": "LayoutView",
       "align_content": null,
       "align_items": null,
       "align_self": null,
       "border": null,
       "bottom": null,
       "display": null,
       "flex": null,
       "flex_flow": null,
       "grid_area": null,
       "grid_auto_columns": null,
       "grid_auto_flow": null,
       "grid_auto_rows": null,
       "grid_column": null,
       "grid_gap": null,
       "grid_row": null,
       "grid_template_areas": null,
       "grid_template_columns": null,
       "grid_template_rows": null,
       "height": null,
       "justify_content": null,
       "justify_items": null,
       "left": null,
       "margin": null,
       "max_height": null,
       "max_width": null,
       "min_height": null,
       "min_width": null,
       "object_fit": null,
       "object_position": null,
       "order": null,
       "overflow": null,
       "overflow_x": null,
       "overflow_y": null,
       "padding": null,
       "right": null,
       "top": null,
       "visibility": null,
       "width": null
      }
     },
     "2b99daea374e482d9e20ee22a91609d7": {
      "model_module": "@jupyter-widgets/base",
      "model_module_version": "1.2.0",
      "model_name": "LayoutModel",
      "state": {
       "_model_module": "@jupyter-widgets/base",
       "_model_module_version": "1.2.0",
       "_model_name": "LayoutModel",
       "_view_count": null,
       "_view_module": "@jupyter-widgets/base",
       "_view_module_version": "1.2.0",
       "_view_name": "LayoutView",
       "align_content": null,
       "align_items": null,
       "align_self": null,
       "border": null,
       "bottom": null,
       "display": null,
       "flex": null,
       "flex_flow": null,
       "grid_area": null,
       "grid_auto_columns": null,
       "grid_auto_flow": null,
       "grid_auto_rows": null,
       "grid_column": null,
       "grid_gap": null,
       "grid_row": null,
       "grid_template_areas": null,
       "grid_template_columns": null,
       "grid_template_rows": null,
       "height": null,
       "justify_content": null,
       "justify_items": null,
       "left": null,
       "margin": null,
       "max_height": null,
       "max_width": null,
       "min_height": null,
       "min_width": null,
       "object_fit": null,
       "object_position": null,
       "order": null,
       "overflow": null,
       "overflow_x": null,
       "overflow_y": null,
       "padding": null,
       "right": null,
       "top": null,
       "visibility": null,
       "width": null
      }
     },
     "37c0dccf55904f5e9601257e55bf2cb1": {
      "model_module": "@jupyter-widgets/controls",
      "model_module_version": "1.5.0",
      "model_name": "DescriptionStyleModel",
      "state": {
       "_model_module": "@jupyter-widgets/controls",
       "_model_module_version": "1.5.0",
       "_model_name": "DescriptionStyleModel",
       "_view_count": null,
       "_view_module": "@jupyter-widgets/base",
       "_view_module_version": "1.2.0",
       "_view_name": "StyleView",
       "description_width": ""
      }
     },
     "8546f49f00424b3380984293db0fa9ef": {
      "model_module": "@jupyter-widgets/base",
      "model_module_version": "1.2.0",
      "model_name": "LayoutModel",
      "state": {
       "_model_module": "@jupyter-widgets/base",
       "_model_module_version": "1.2.0",
       "_model_name": "LayoutModel",
       "_view_count": null,
       "_view_module": "@jupyter-widgets/base",
       "_view_module_version": "1.2.0",
       "_view_name": "LayoutView",
       "align_content": null,
       "align_items": null,
       "align_self": null,
       "border": null,
       "bottom": null,
       "display": null,
       "flex": null,
       "flex_flow": null,
       "grid_area": null,
       "grid_auto_columns": null,
       "grid_auto_flow": null,
       "grid_auto_rows": null,
       "grid_column": null,
       "grid_gap": null,
       "grid_row": null,
       "grid_template_areas": null,
       "grid_template_columns": null,
       "grid_template_rows": null,
       "height": null,
       "justify_content": null,
       "justify_items": null,
       "left": null,
       "margin": null,
       "max_height": null,
       "max_width": null,
       "min_height": null,
       "min_width": null,
       "object_fit": null,
       "object_position": null,
       "order": null,
       "overflow": null,
       "overflow_x": null,
       "overflow_y": null,
       "padding": null,
       "right": null,
       "top": null,
       "visibility": null,
       "width": null
      }
     },
     "8e2d22cfb74f46218c940960b489dd53": {
      "model_module": "@jupyter-widgets/controls",
      "model_module_version": "1.5.0",
      "model_name": "HTMLModel",
      "state": {
       "_dom_classes": [],
       "_model_module": "@jupyter-widgets/controls",
       "_model_module_version": "1.5.0",
       "_model_name": "HTMLModel",
       "_view_count": null,
       "_view_module": "@jupyter-widgets/controls",
       "_view_module_version": "1.5.0",
       "_view_name": "HTMLView",
       "description": "",
       "description_tooltip": null,
       "layout": "IPY_MODEL_29232a23f3d54730a38ba3aabd10a665",
       "placeholder": "​",
       "style": "IPY_MODEL_37c0dccf55904f5e9601257e55bf2cb1",
       "value": " 24/24 [37:17&lt;00:00, 154.55s/it]"
      }
     },
     "94294a20695b471d999d959be3ebb2f2": {
      "model_module": "@jupyter-widgets/controls",
      "model_module_version": "1.5.0",
      "model_name": "HTMLModel",
      "state": {
       "_dom_classes": [],
       "_model_module": "@jupyter-widgets/controls",
       "_model_module_version": "1.5.0",
       "_model_name": "HTMLModel",
       "_view_count": null,
       "_view_module": "@jupyter-widgets/controls",
       "_view_module_version": "1.5.0",
       "_view_name": "HTMLView",
       "description": "",
       "description_tooltip": null,
       "layout": "IPY_MODEL_9ea53ab0c68e4fd0aea29d4f32237323",
       "placeholder": "​",
       "style": "IPY_MODEL_e82745c1d2f94e3f879e9f4f5fe1be22",
       "value": "100%"
      }
     },
     "9ea53ab0c68e4fd0aea29d4f32237323": {
      "model_module": "@jupyter-widgets/base",
      "model_module_version": "1.2.0",
      "model_name": "LayoutModel",
      "state": {
       "_model_module": "@jupyter-widgets/base",
       "_model_module_version": "1.2.0",
       "_model_name": "LayoutModel",
       "_view_count": null,
       "_view_module": "@jupyter-widgets/base",
       "_view_module_version": "1.2.0",
       "_view_name": "LayoutView",
       "align_content": null,
       "align_items": null,
       "align_self": null,
       "border": null,
       "bottom": null,
       "display": null,
       "flex": null,
       "flex_flow": null,
       "grid_area": null,
       "grid_auto_columns": null,
       "grid_auto_flow": null,
       "grid_auto_rows": null,
       "grid_column": null,
       "grid_gap": null,
       "grid_row": null,
       "grid_template_areas": null,
       "grid_template_columns": null,
       "grid_template_rows": null,
       "height": null,
       "justify_content": null,
       "justify_items": null,
       "left": null,
       "margin": null,
       "max_height": null,
       "max_width": null,
       "min_height": null,
       "min_width": null,
       "object_fit": null,
       "object_position": null,
       "order": null,
       "overflow": null,
       "overflow_x": null,
       "overflow_y": null,
       "padding": null,
       "right": null,
       "top": null,
       "visibility": null,
       "width": null
      }
     },
     "ae018ad400444f2aa0a122d9a7424f56": {
      "model_module": "@jupyter-widgets/controls",
      "model_module_version": "1.5.0",
      "model_name": "ProgressStyleModel",
      "state": {
       "_model_module": "@jupyter-widgets/controls",
       "_model_module_version": "1.5.0",
       "_model_name": "ProgressStyleModel",
       "_view_count": null,
       "_view_module": "@jupyter-widgets/base",
       "_view_module_version": "1.2.0",
       "_view_name": "StyleView",
       "bar_color": null,
       "description_width": ""
      }
     },
     "d64ed8a6291740ee855682d68ca7afa3": {
      "model_module": "@jupyter-widgets/controls",
      "model_module_version": "1.5.0",
      "model_name": "FloatProgressModel",
      "state": {
       "_dom_classes": [],
       "_model_module": "@jupyter-widgets/controls",
       "_model_module_version": "1.5.0",
       "_model_name": "FloatProgressModel",
       "_view_count": null,
       "_view_module": "@jupyter-widgets/controls",
       "_view_module_version": "1.5.0",
       "_view_name": "ProgressView",
       "bar_style": "success",
       "description": "",
       "description_tooltip": null,
       "layout": "IPY_MODEL_2b99daea374e482d9e20ee22a91609d7",
       "max": 24.0,
       "min": 0.0,
       "orientation": "horizontal",
       "style": "IPY_MODEL_ae018ad400444f2aa0a122d9a7424f56",
       "value": 24.0
      }
     },
     "e6cfb9216b13448eb761d31c6f5315eb": {
      "model_module": "@jupyter-widgets/controls",
      "model_module_version": "1.5.0",
      "model_name": "HBoxModel",
      "state": {
       "_dom_classes": [],
       "_model_module": "@jupyter-widgets/controls",
       "_model_module_version": "1.5.0",
       "_model_name": "HBoxModel",
       "_view_count": null,
       "_view_module": "@jupyter-widgets/controls",
       "_view_module_version": "1.5.0",
       "_view_name": "HBoxView",
       "box_style": "",
       "children": [
        "IPY_MODEL_94294a20695b471d999d959be3ebb2f2",
        "IPY_MODEL_d64ed8a6291740ee855682d68ca7afa3",
        "IPY_MODEL_8e2d22cfb74f46218c940960b489dd53"
       ],
       "layout": "IPY_MODEL_8546f49f00424b3380984293db0fa9ef"
      }
     },
     "e82745c1d2f94e3f879e9f4f5fe1be22": {
      "model_module": "@jupyter-widgets/controls",
      "model_module_version": "1.5.0",
      "model_name": "DescriptionStyleModel",
      "state": {
       "_model_module": "@jupyter-widgets/controls",
       "_model_module_version": "1.5.0",
       "_model_name": "DescriptionStyleModel",
       "_view_count": null,
       "_view_module": "@jupyter-widgets/base",
       "_view_module_version": "1.2.0",
       "_view_name": "StyleView",
       "description_width": ""
      }
     }
    },
    "version_major": 2,
    "version_minor": 0
   }
  }
 },
 "nbformat": 4,
 "nbformat_minor": 5
}
