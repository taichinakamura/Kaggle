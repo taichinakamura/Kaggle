{
 "cells": [
  {
   "cell_type": "code",
   "execution_count": 1,
   "id": "entertaining-respect",
   "metadata": {
    "_cell_guid": "b1076dfc-b9ad-4769-8c92-a6c4dae69d19",
    "_uuid": "8f2839f25d086af736a60e9eeb907d3b93b6e0e5",
    "execution": {
     "iopub.execute_input": "2021-04-03T03:14:18.746553Z",
     "iopub.status.busy": "2021-04-03T03:14:18.745008Z",
     "iopub.status.idle": "2021-04-03T03:14:18.748116Z",
     "shell.execute_reply": "2021-04-03T03:14:18.748624Z"
    },
    "papermill": {
     "duration": 0.015712,
     "end_time": "2021-04-03T03:14:18.748900",
     "exception": false,
     "start_time": "2021-04-03T03:14:18.733188",
     "status": "completed"
    },
    "tags": []
   },
   "outputs": [],
   "source": [
    "import numpy as np # linear algebra\n",
    "import pandas as pd # data processing, CSV file I/O (e.g. pd.read_csv)\n",
    "import os"
   ]
  },
  {
   "cell_type": "code",
   "execution_count": 2,
   "id": "optical-internship",
   "metadata": {
    "execution": {
     "iopub.execute_input": "2021-04-03T03:14:18.762762Z",
     "iopub.status.busy": "2021-04-03T03:14:18.761810Z",
     "iopub.status.idle": "2021-04-03T03:14:18.834605Z",
     "shell.execute_reply": "2021-04-03T03:14:18.833949Z"
    },
    "papermill": {
     "duration": 0.080541,
     "end_time": "2021-04-03T03:14:18.834749",
     "exception": false,
     "start_time": "2021-04-03T03:14:18.754208",
     "status": "completed"
    },
    "tags": []
   },
   "outputs": [
    {
     "data": {
      "text/html": [
       "<div>\n",
       "<style scoped>\n",
       "    .dataframe tbody tr th:only-of-type {\n",
       "        vertical-align: middle;\n",
       "    }\n",
       "\n",
       "    .dataframe tbody tr th {\n",
       "        vertical-align: top;\n",
       "    }\n",
       "\n",
       "    .dataframe thead th {\n",
       "        text-align: right;\n",
       "    }\n",
       "</style>\n",
       "<table border=\"1\" class=\"dataframe\">\n",
       "  <thead>\n",
       "    <tr style=\"text-align: right;\">\n",
       "      <th></th>\n",
       "      <th>site_path_timestamp</th>\n",
       "      <th>floor</th>\n",
       "      <th>x</th>\n",
       "      <th>y</th>\n",
       "    </tr>\n",
       "  </thead>\n",
       "  <tbody>\n",
       "    <tr>\n",
       "      <th>0</th>\n",
       "      <td>5a0546857ecc773753327266_046cfa46be49fc1083481...</td>\n",
       "      <td>0</td>\n",
       "      <td>75.0</td>\n",
       "      <td>75.0</td>\n",
       "    </tr>\n",
       "    <tr>\n",
       "      <th>1</th>\n",
       "      <td>5a0546857ecc773753327266_046cfa46be49fc1083481...</td>\n",
       "      <td>0</td>\n",
       "      <td>75.0</td>\n",
       "      <td>75.0</td>\n",
       "    </tr>\n",
       "    <tr>\n",
       "      <th>2</th>\n",
       "      <td>5a0546857ecc773753327266_046cfa46be49fc1083481...</td>\n",
       "      <td>0</td>\n",
       "      <td>75.0</td>\n",
       "      <td>75.0</td>\n",
       "    </tr>\n",
       "    <tr>\n",
       "      <th>3</th>\n",
       "      <td>5a0546857ecc773753327266_046cfa46be49fc1083481...</td>\n",
       "      <td>0</td>\n",
       "      <td>75.0</td>\n",
       "      <td>75.0</td>\n",
       "    </tr>\n",
       "    <tr>\n",
       "      <th>4</th>\n",
       "      <td>5a0546857ecc773753327266_046cfa46be49fc1083481...</td>\n",
       "      <td>0</td>\n",
       "      <td>75.0</td>\n",
       "      <td>75.0</td>\n",
       "    </tr>\n",
       "    <tr>\n",
       "      <th>...</th>\n",
       "      <td>...</td>\n",
       "      <td>...</td>\n",
       "      <td>...</td>\n",
       "      <td>...</td>\n",
       "    </tr>\n",
       "    <tr>\n",
       "      <th>10128</th>\n",
       "      <td>5dc8cea7659e181adb076a3f_fd64de8c4a2fc5ebb0e9f...</td>\n",
       "      <td>0</td>\n",
       "      <td>75.0</td>\n",
       "      <td>75.0</td>\n",
       "    </tr>\n",
       "    <tr>\n",
       "      <th>10129</th>\n",
       "      <td>5dc8cea7659e181adb076a3f_fd64de8c4a2fc5ebb0e9f...</td>\n",
       "      <td>0</td>\n",
       "      <td>75.0</td>\n",
       "      <td>75.0</td>\n",
       "    </tr>\n",
       "    <tr>\n",
       "      <th>10130</th>\n",
       "      <td>5dc8cea7659e181adb076a3f_fd64de8c4a2fc5ebb0e9f...</td>\n",
       "      <td>0</td>\n",
       "      <td>75.0</td>\n",
       "      <td>75.0</td>\n",
       "    </tr>\n",
       "    <tr>\n",
       "      <th>10131</th>\n",
       "      <td>5dc8cea7659e181adb076a3f_fd64de8c4a2fc5ebb0e9f...</td>\n",
       "      <td>0</td>\n",
       "      <td>75.0</td>\n",
       "      <td>75.0</td>\n",
       "    </tr>\n",
       "    <tr>\n",
       "      <th>10132</th>\n",
       "      <td>5dc8cea7659e181adb076a3f_fd64de8c4a2fc5ebb0e9f...</td>\n",
       "      <td>0</td>\n",
       "      <td>75.0</td>\n",
       "      <td>75.0</td>\n",
       "    </tr>\n",
       "  </tbody>\n",
       "</table>\n",
       "<p>10133 rows × 4 columns</p>\n",
       "</div>"
      ],
      "text/plain": [
       "                                     site_path_timestamp  floor     x     y\n",
       "0      5a0546857ecc773753327266_046cfa46be49fc1083481...      0  75.0  75.0\n",
       "1      5a0546857ecc773753327266_046cfa46be49fc1083481...      0  75.0  75.0\n",
       "2      5a0546857ecc773753327266_046cfa46be49fc1083481...      0  75.0  75.0\n",
       "3      5a0546857ecc773753327266_046cfa46be49fc1083481...      0  75.0  75.0\n",
       "4      5a0546857ecc773753327266_046cfa46be49fc1083481...      0  75.0  75.0\n",
       "...                                                  ...    ...   ...   ...\n",
       "10128  5dc8cea7659e181adb076a3f_fd64de8c4a2fc5ebb0e9f...      0  75.0  75.0\n",
       "10129  5dc8cea7659e181adb076a3f_fd64de8c4a2fc5ebb0e9f...      0  75.0  75.0\n",
       "10130  5dc8cea7659e181adb076a3f_fd64de8c4a2fc5ebb0e9f...      0  75.0  75.0\n",
       "10131  5dc8cea7659e181adb076a3f_fd64de8c4a2fc5ebb0e9f...      0  75.0  75.0\n",
       "10132  5dc8cea7659e181adb076a3f_fd64de8c4a2fc5ebb0e9f...      0  75.0  75.0\n",
       "\n",
       "[10133 rows x 4 columns]"
      ]
     },
     "execution_count": 2,
     "metadata": {},
     "output_type": "execute_result"
    }
   ],
   "source": [
    "ORG_DIR = '/kaggle/input/indoor-location-navigation'\n",
    "sub = pd.read_csv(ORG_DIR+\"/sample_submission.csv\")\n",
    "sub"
   ]
  },
  {
   "cell_type": "code",
   "execution_count": 3,
   "id": "twenty-allen",
   "metadata": {
    "execution": {
     "iopub.execute_input": "2021-04-03T03:14:18.851742Z",
     "iopub.status.busy": "2021-04-03T03:14:18.851065Z",
     "iopub.status.idle": "2021-04-03T03:14:18.859726Z",
     "shell.execute_reply": "2021-04-03T03:14:18.860258Z"
    },
    "papermill": {
     "duration": 0.019743,
     "end_time": "2021-04-03T03:14:18.860499",
     "exception": false,
     "start_time": "2021-04-03T03:14:18.840756",
     "status": "completed"
    },
    "tags": []
   },
   "outputs": [
    {
     "data": {
      "text/plain": [
       "['5da138364db8ce0c98bc00f1_train.csv',\n",
       " '5d27097f03f801723c320d97_train.csv',\n",
       " '5da958dd46f8266d0737457b_test.csv',\n",
       " '5d2709b303f801723c327472_test.csv',\n",
       " '5da138754db8ce0c98bca82f_test.csv',\n",
       " '5d27075f03f801723c2e360f_test.csv',\n",
       " '5dbc1d84c1eb61796cf7c010_test.csv',\n",
       " '5c3c44b80379370013e0fd2b_train.csv',\n",
       " '5d27075f03f801723c2e360f_train.csv',\n",
       " '5d2709e003f801723c32d896_test.csv',\n",
       " '5da1382d4db8ce0c98bbe92e_train.csv',\n",
       " '5d2709b303f801723c327472_train.csv',\n",
       " '5da138b74db8ce0c98bd4774_train.csv',\n",
       " '5d2709e003f801723c32d896_train.csv',\n",
       " '5dc8cea7659e181adb076a3f_train.csv',\n",
       " '5da138314db8ce0c98bbf3a0_test.csv',\n",
       " '5da138764db8ce0c98bcaa46_train.csv',\n",
       " '5da138364db8ce0c98bc00f1_test.csv',\n",
       " '5da1383b4db8ce0c98bc11ab_test.csv',\n",
       " '5dc8cea7659e181adb076a3f_test.csv',\n",
       " '5da138b74db8ce0c98bd4774_test.csv',\n",
       " '5d2709c303f801723c3299ee_train.csv',\n",
       " '5d27099f03f801723c32511d_test.csv',\n",
       " '5d2709d403f801723c32bd39_train.csv',\n",
       " '5da1383b4db8ce0c98bc11ab_train.csv',\n",
       " '5da138274db8ce0c98bbd3d2_train.csv',\n",
       " '5d27096c03f801723c31e5e0_train.csv',\n",
       " '5d2709a003f801723c3251bf_train.csv',\n",
       " '5da138274db8ce0c98bbd3d2_test.csv',\n",
       " '5d2709bb03f801723c32852c_train.csv',\n",
       " '5da958dd46f8266d0737457b_train.csv',\n",
       " '5da138314db8ce0c98bbf3a0_train.csv',\n",
       " '5a0546857ecc773753327266_test.csv',\n",
       " '5d2709bb03f801723c32852c_test.csv',\n",
       " '5c3c44b80379370013e0fd2b_test.csv',\n",
       " '5dbc1d84c1eb61796cf7c010_train.csv',\n",
       " '5da1389e4db8ce0c98bd0547_test.csv',\n",
       " '5d2709c303f801723c3299ee_test.csv',\n",
       " '5da138764db8ce0c98bcaa46_test.csv',\n",
       " '5d2709a003f801723c3251bf_test.csv',\n",
       " '5d27097f03f801723c320d97_test.csv',\n",
       " '5d27099f03f801723c32511d_train.csv',\n",
       " '5d27096c03f801723c31e5e0_test.csv',\n",
       " '5da138754db8ce0c98bca82f_train.csv',\n",
       " '5d2709d403f801723c32bd39_test.csv',\n",
       " '5da1389e4db8ce0c98bd0547_train.csv',\n",
       " '5da1382d4db8ce0c98bbe92e_test.csv',\n",
       " '5a0546857ecc773753327266_train.csv']"
      ]
     },
     "execution_count": 3,
     "metadata": {},
     "output_type": "execute_result"
    }
   ],
   "source": [
    "DATA_DIR = '/kaggle/input/indoor-competition-dataset'\n",
    "os.listdir(DATA_DIR)"
   ]
  },
  {
   "cell_type": "code",
   "execution_count": 4,
   "id": "major-subscriber",
   "metadata": {
    "execution": {
     "iopub.execute_input": "2021-04-03T03:14:18.876064Z",
     "iopub.status.busy": "2021-04-03T03:14:18.875445Z",
     "iopub.status.idle": "2021-04-03T03:14:18.921003Z",
     "shell.execute_reply": "2021-04-03T03:14:18.920245Z"
    },
    "papermill": {
     "duration": 0.054427,
     "end_time": "2021-04-03T03:14:18.921180",
     "exception": false,
     "start_time": "2021-04-03T03:14:18.866753",
     "status": "completed"
    },
    "tags": []
   },
   "outputs": [
    {
     "data": {
      "text/plain": [
       "Index(['079c8efe6f440818de14103c5bb196d7217602e8',\n",
       "       '07b0bbdb7132359b74874443328c5b6005c6ac40',\n",
       "       '0b0b8fd432c70e6e82f4d2ff8e3a3d67b6d8b9d0',\n",
       "       '0befcde4a78a6aec38e9a25af2c4ce7cffa569d4',\n",
       "       '0c4f9389bc079285d34b44d9efa90c1d7504fa3b',\n",
       "       '0ebb75098d09efbec391c9e57481c207a3ece6be',\n",
       "       '14d93d45757ce00afade8be40f251050820f6586',\n",
       "       '176a01a196068d07717669cdde238ecda577bdbf',\n",
       "       '1b467e6893c2c8b5833e54ded5f1db7808db25ed',\n",
       "       '2505e1d07c36eff2f38531f04c6a69234372a414',\n",
       "       '267df051cc8183ab5cf930f6f015fb65be336722',\n",
       "       '2a8dc608d8243b5696d29cf931121d1aad4eb0d1',\n",
       "       '31ddd0d8108ca66692863632a19edbb52a0b0d49',\n",
       "       '354d3ccd31b3427ee1414a3365f900666a0e11bc',\n",
       "       '3a07833d5b75b2cf26e25677b45455766a98143b',\n",
       "       '3a6228a74967f773668a1cfed31d8ddd30abe71f',\n",
       "       '3bf03863805ea1bfc417387d3081366c9c0f841a',\n",
       "       '56bac8f84f491b0f687b6c90605d46d121934f4e',\n",
       "       '5759c15b51df9f770cc2d5132bb4958006ea29b3',\n",
       "       '57ca4c27a6ff76a7fae8e63cf7eb129ce591e7b5',\n",
       "       '5ca2959885a5bdc611d027a20ee60b29bb51bdf6',\n",
       "       '68e8d5870d4c3233b7de72831045c2b5cf763685',\n",
       "       '797662ab45b5a31431aaf5a8d009563807a5b312',\n",
       "       '8f61c816b8c59a0908a2276c8fbb49924838191e',\n",
       "       '92ba2aaa582fa69b2524024e88d2dd5bdbe01535',\n",
       "       '956edea187e7858716ce2268a4f7bfa99e39dcb5',\n",
       "       '9574f0d9dcf286f8143ec0bd37d0b76a1425929a',\n",
       "       '9a239d265c5649fcf956ae60b0078d7895f2bc7c',\n",
       "       'a1006e72cf2c91ff745ef88166526b93612c40c6',\n",
       "       'a5879fa08efdd25aafc14b0a403dfc270a311b54',\n",
       "       'a8968cab2cfa6c4ac64952145a1cec0be8ee3749',\n",
       "       'aa72da4ab255788f2d2ca3a7413f97394b43918a',\n",
       "       'ac8f5e02d7307b639094ce022cd13d04b7bafff6',\n",
       "       'b174b6272f361c6f9383754c103c509561fb95fb',\n",
       "       'b2b6249a582bc984db3473aac9d6bf739bd41be9',\n",
       "       'b3f2d3a7e51c0e0818a3432457c821c0c908a985',\n",
       "       'bd103e4f8f5bf2aa7ec9639ae5ff06084dc01db3',\n",
       "       'c17f25e622368508c65fb03eb3bbfa34125e375b',\n",
       "       'c800644722fc350391c8e2da8d41c00f3a7ede7c',\n",
       "       'cc50bf060b8db11946cd37cabc59038d98b52521',\n",
       "       'd5a55a7e21c93ba94ecee7648b635004927cb8a1',\n",
       "       'e04776dd99ba06e58fd9e75485e7f5bdf9fe942c',\n",
       "       'e801778a9159a3532f7afaba8f85e77bfce1e99a',\n",
       "       'f166bfd6af62dce2355341fab368c10bf26c942e',\n",
       "       'f20b470f7b079b8fa61d813cfd435af7e732193f',\n",
       "       'f38ca6594cc754b3e3d7234c7fc90a6c49201a7d',\n",
       "       'f489b133b0994a2b61f43a23b03c54e51a689ac1',\n",
       "       'faf1f27c8d2c1768388664261271a0a7255033ec',\n",
       "       'ff4dbbd26e1baf111e7e727098dafd9a615cf218', 'x', 'y', 'f', 'path'],\n",
       "      dtype='object')"
      ]
     },
     "execution_count": 4,
     "metadata": {},
     "output_type": "execute_result"
    }
   ],
   "source": [
    "data = pd.read_csv(DATA_DIR+'/5da138364db8ce0c98bc00f1_train.csv')\n",
    "data.columns"
   ]
  },
  {
   "cell_type": "code",
   "execution_count": null,
   "id": "champion-forward",
   "metadata": {
    "papermill": {
     "duration": 0.007091,
     "end_time": "2021-04-03T03:14:18.935238",
     "exception": false,
     "start_time": "2021-04-03T03:14:18.928147",
     "status": "completed"
    },
    "tags": []
   },
   "outputs": [],
   "source": []
  }
 ],
 "metadata": {
  "kernelspec": {
   "display_name": "Python 3",
   "language": "python",
   "name": "python3"
  },
  "language_info": {
   "codemirror_mode": {
    "name": "ipython",
    "version": 3
   },
   "file_extension": ".py",
   "mimetype": "text/x-python",
   "name": "python",
   "nbconvert_exporter": "python",
   "pygments_lexer": "ipython3",
   "version": "3.7.9"
  },
  "papermill": {
   "default_parameters": {},
   "duration": 7.779935,
   "end_time": "2021-04-03T03:14:19.553346",
   "environment_variables": {},
   "exception": null,
   "input_path": "__notebook__.ipynb",
   "output_path": "__notebook__.ipynb",
   "parameters": {},
   "start_time": "2021-04-03T03:14:11.773411",
   "version": "2.3.2"
  }
 },
 "nbformat": 4,
 "nbformat_minor": 5
}
