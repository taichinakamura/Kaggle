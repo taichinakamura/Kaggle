{
 "cells": [
  {
   "cell_type": "code",
   "execution_count": 1,
   "id": "fifteen-player",
   "metadata": {
    "_cell_guid": "b1076dfc-b9ad-4769-8c92-a6c4dae69d19",
    "_uuid": "8f2839f25d086af736a60e9eeb907d3b93b6e0e5",
    "execution": {
     "iopub.execute_input": "2021-04-03T10:00:08.746820Z",
     "iopub.status.busy": "2021-04-03T10:00:08.746138Z",
     "iopub.status.idle": "2021-04-03T10:00:09.936817Z",
     "shell.execute_reply": "2021-04-03T10:00:09.935693Z"
    },
    "papermill": {
     "duration": 1.202961,
     "end_time": "2021-04-03T10:00:09.937029",
     "exception": false,
     "start_time": "2021-04-03T10:00:08.734068",
     "status": "completed"
    },
    "tags": []
   },
   "outputs": [
    {
     "data": {
      "text/html": [
       "<style type='text/css'>\n",
       ".datatable table.frame { margin-bottom: 0; }\n",
       ".datatable table.frame thead { border-bottom: none; }\n",
       ".datatable table.frame tr.coltypes td {  color: #FFFFFF;  line-height: 6px;  padding: 0 0.5em;}\n",
       ".datatable .bool    { background: #DDDD99; }\n",
       ".datatable .object  { background: #565656; }\n",
       ".datatable .int     { background: #5D9E5D; }\n",
       ".datatable .float   { background: #4040CC; }\n",
       ".datatable .str     { background: #CC4040; }\n",
       ".datatable .row_index {  background: var(--jp-border-color3);  border-right: 1px solid var(--jp-border-color0);  color: var(--jp-ui-font-color3);  font-size: 9px;}\n",
       ".datatable .frame tr.coltypes .row_index {  background: var(--jp-border-color0);}\n",
       ".datatable th:nth-child(2) { padding-left: 12px; }\n",
       ".datatable .hellipsis {  color: var(--jp-cell-editor-border-color);}\n",
       ".datatable .vellipsis {  background: var(--jp-layout-color0);  color: var(--jp-cell-editor-border-color);}\n",
       ".datatable .na {  color: var(--jp-cell-editor-border-color);  font-size: 80%;}\n",
       ".datatable .footer { font-size: 9px; }\n",
       ".datatable .frame_dimensions {  background: var(--jp-border-color3);  border-top: 1px solid var(--jp-border-color0);  color: var(--jp-ui-font-color3);  display: inline-block;  opacity: 0.6;  padding: 1px 10px 1px 5px;}\n",
       "</style>\n"
      ],
      "text/plain": [
       "<IPython.core.display.HTML object>"
      ]
     },
     "metadata": {},
     "output_type": "display_data"
    }
   ],
   "source": [
    "import numpy as np # linear algebra\n",
    "import pandas as pd # data processing, CSV file I/O (e.g. pd.read_csv)\n",
    "import os\n",
    "import lightgbm as lgb\n",
    "from sklearn.model_selection import KFold\n",
    "from sklearn.metrics import mean_squared_error\n",
    "import warnings\n",
    "warnings.filterwarnings(\"ignore\")"
   ]
  },
  {
   "cell_type": "code",
   "execution_count": 2,
   "id": "italic-infrared",
   "metadata": {
    "execution": {
     "iopub.execute_input": "2021-04-03T10:00:09.962577Z",
     "iopub.status.busy": "2021-04-03T10:00:09.961604Z",
     "iopub.status.idle": "2021-04-03T10:00:09.963425Z",
     "shell.execute_reply": "2021-04-03T10:00:09.963989Z"
    },
    "papermill": {
     "duration": 0.015912,
     "end_time": "2021-04-03T10:00:09.964167",
     "exception": false,
     "start_time": "2021-04-03T10:00:09.948255",
     "status": "completed"
    },
    "tags": []
   },
   "outputs": [],
   "source": [
    "def comp_metric(xhat, yhat, fhat, x, y, f):\n",
    "    intermediate = np.sqrt(np.power(xhat - x,2) + np.power(yhat-y,2)) + 15 * np.abs(fhat-f)\n",
    "    return intermediate.sum()/xhat.shape[0]"
   ]
  },
  {
   "cell_type": "code",
   "execution_count": 3,
   "id": "younger-digit",
   "metadata": {
    "execution": {
     "iopub.execute_input": "2021-04-03T10:00:09.986781Z",
     "iopub.status.busy": "2021-04-03T10:00:09.985219Z",
     "iopub.status.idle": "2021-04-03T10:00:10.077254Z",
     "shell.execute_reply": "2021-04-03T10:00:10.076669Z"
    },
    "papermill": {
     "duration": 0.105554,
     "end_time": "2021-04-03T10:00:10.077396",
     "exception": false,
     "start_time": "2021-04-03T10:00:09.971842",
     "status": "completed"
    },
    "tags": []
   },
   "outputs": [],
   "source": [
    "ORG_DIR = '/kaggle/input/indoor-location-navigation'\n",
    "DATA_DIR = '/kaggle/input/indoor-competition-dataset'\n",
    "\n",
    "sub = pd.read_csv(ORG_DIR+\"/sample_submission.csv\")\n",
    "train_files = [i for i in os.listdir(DATA_DIR) if \"train\" in i]\n",
    "test_files = [i for i in os.listdir(DATA_DIR) if \"test\" in i]\n",
    "\n",
    "all_sites = sub[\"site_path_timestamp\"].apply(lambda x: x.split(\"_\")[0]).tolist()"
   ]
  },
  {
   "cell_type": "code",
   "execution_count": 4,
   "id": "bizarre-spokesman",
   "metadata": {
    "execution": {
     "iopub.execute_input": "2021-04-03T10:00:10.110772Z",
     "iopub.status.busy": "2021-04-03T10:00:10.110094Z",
     "iopub.status.idle": "2021-04-03T10:01:26.135807Z",
     "shell.execute_reply": "2021-04-03T10:01:26.136477Z"
    },
    "papermill": {
     "duration": 76.050593,
     "end_time": "2021-04-03T10:01:26.136685",
     "exception": false,
     "start_time": "2021-04-03T10:00:10.086092",
     "status": "completed"
    },
    "tags": []
   },
   "outputs": [
    {
     "name": "stdout",
     "output_type": "stream",
     "text": [
      "Fold: 1\n",
      "Training until validation scores don't improve for 20 rounds\n",
      "[1000]\ttraining's rmse: 1.15807\tvalid_1's rmse: 1.06482\n",
      "Early stopping, best iteration is:\n",
      "[1868]\ttraining's rmse: 1.15805\tvalid_1's rmse: 1.06475\n",
      "Fold: 2\n",
      "Training until validation scores don't improve for 20 rounds\n",
      "Early stopping, best iteration is:\n",
      "[823]\ttraining's rmse: 1.15257\tvalid_1's rmse: 1.08642\n",
      "Fold: 3\n",
      "Training until validation scores don't improve for 20 rounds\n",
      "[1000]\ttraining's rmse: 1.13661\tvalid_1's rmse: 1.14437\n",
      "Early stopping, best iteration is:\n",
      "[1198]\ttraining's rmse: 1.13659\tvalid_1's rmse: 1.14433\n",
      "Fold: 4\n",
      "Training until validation scores don't improve for 20 rounds\n",
      "[1000]\ttraining's rmse: 1.08408\tvalid_1's rmse: 1.32305\n",
      "Early stopping, best iteration is:\n",
      "[1046]\ttraining's rmse: 1.08407\tvalid_1's rmse: 1.32305\n",
      "Fold: 5\n",
      "Training until validation scores don't improve for 20 rounds\n",
      "[1000]\ttraining's rmse: 1.15682\tvalid_1's rmse: 1.05572\n",
      "Early stopping, best iteration is:\n",
      "[1503]\ttraining's rmse: 1.15681\tvalid_1's rmse: 1.05542\n",
      "1.141229789633097\n"
     ]
    }
   ],
   "source": [
    "lgbm_params = {'objective': 'binary', 'metric': 'rmse', 'boosting_type': 'gbdt', \n",
    "               'tree_learner': 'serial', 'learning_rate': 0.01, \"num_leaves\": 10, \n",
    "               'random_seed':44,'max_depth': 5, 'verbose': -1}\n",
    "\n",
    "#for site in all_sites:\n",
    "site = all_sites[0]\n",
    "train_data = pd.read_csv(DATA_DIR+\"/\"+site+str(\"_train.csv\"), index_col=\"path\")\n",
    "test_data = pd.read_csv(DATA_DIR+\"/\"+site+str(\"_test.csv\"))\n",
    "\n",
    "train_paths = train_data.index.unique()\n",
    "non_targets = list(train_data.iloc[:,:-4].columns)\n",
    "\n",
    "# predict floor first\n",
    "X = train_data[non_targets+[\"f\"]]\n",
    "X_test = test_data[non_targets]\n",
    "\n",
    "n_folds = 5\n",
    "kf = KFold(n_splits=n_folds, shuffle=True, random_state=224)\n",
    "valid = np.array([])\n",
    "label = np.array([])\n",
    "test_floor_pred = np.zeros(len(test_data))\n",
    "for fold, (tr_group_idx, val_group_idx) in enumerate(kf.split(train_paths)):\n",
    "    print(\"Fold:\", fold+1)\n",
    "    tr_paths, val_paths = train_paths[tr_group_idx], train_paths[val_group_idx]\n",
    "    \n",
    "    X_train = X[X.index.isin(tr_paths)].drop(\"f\", axis=1).reset_index(drop=True)\n",
    "    X_valid = X[X.index.isin(val_paths)].drop(\"f\", axis=1).reset_index(drop=True)\n",
    "    y_train = X[X.index.isin(tr_paths)][\"f\"].reset_index(drop=True)\n",
    "    y_valid = X[X.index.isin(val_paths)][\"f\"].reset_index(drop=True)\n",
    "    \n",
    "    lgb_train = lgb.Dataset(X_train, y_train)\n",
    "    lgb_eval = lgb.Dataset(X_valid, y_valid, reference=lgb_train)\n",
    "        \n",
    "    model = lgb.train(lgbm_params, lgb_train,valid_sets=[lgb_train, lgb_eval],\n",
    "                num_boost_round=10000,early_stopping_rounds=20,verbose_eval = 1000)\n",
    "    \n",
    "    valid_pred = model.predict(X_valid, num_iteration = model.best_iteration)\n",
    "    valid = np.concatenate([valid, valid_pred])\n",
    "    label = np.concatenate([label, y_valid])\n",
    "    \n",
    "    test_floor_pred += model.predict(X_test, num_iteration = model.best_iteration) / n_folds\n",
    "    \n",
    "print(np.sqrt(mean_squared_error(label, valid)))\n",
    "\n",
    "# predict x, y based on floor information\n"
   ]
  },
  {
   "cell_type": "markdown",
   "id": "fundamental-ethernet",
   "metadata": {
    "papermill": {
     "duration": 0.011118,
     "end_time": "2021-04-03T10:01:26.161047",
     "exception": false,
     "start_time": "2021-04-03T10:01:26.149929",
     "status": "completed"
    },
    "tags": []
   },
   "source": [
    "# submission"
   ]
  },
  {
   "cell_type": "code",
   "execution_count": null,
   "id": "infectious-irish",
   "metadata": {
    "papermill": {
     "duration": 0.011368,
     "end_time": "2021-04-03T10:01:26.183835",
     "exception": false,
     "start_time": "2021-04-03T10:01:26.172467",
     "status": "completed"
    },
    "tags": []
   },
   "outputs": [],
   "source": []
  }
 ],
 "metadata": {
  "kernelspec": {
   "display_name": "Python 3",
   "language": "python",
   "name": "python3"
  },
  "language_info": {
   "codemirror_mode": {
    "name": "ipython",
    "version": 3
   },
   "file_extension": ".py",
   "mimetype": "text/x-python",
   "name": "python",
   "nbconvert_exporter": "python",
   "pygments_lexer": "ipython3",
   "version": "3.7.9"
  },
  "papermill": {
   "default_parameters": {},
   "duration": 84.290418,
   "end_time": "2021-04-03T10:01:26.907116",
   "environment_variables": {},
   "exception": null,
   "input_path": "__notebook__.ipynb",
   "output_path": "__notebook__.ipynb",
   "parameters": {},
   "start_time": "2021-04-03T10:00:02.616698",
   "version": "2.3.2"
  }
 },
 "nbformat": 4,
 "nbformat_minor": 5
}
