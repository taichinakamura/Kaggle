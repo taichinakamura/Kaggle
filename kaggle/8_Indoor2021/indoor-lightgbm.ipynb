{
 "cells": [
  {
   "cell_type": "markdown",
   "id": "renewable-delight",
   "metadata": {
    "papermill": {
     "duration": 0.011668,
     "end_time": "2021-04-09T08:24:21.608588",
     "exception": false,
     "start_time": "2021-04-09T08:24:21.596920",
     "status": "completed"
    },
    "tags": []
   },
   "source": [
    "- renew dataset (version 5: bssid more than 100 and timestamp, additional 25 files)\n",
    "- fold 5 \n",
    "- add log to check feature performance\n",
    "- focus on f\n",
    "- modify mistake *\n",
    "- add predictions for train-only files"
   ]
  },
  {
   "cell_type": "code",
   "execution_count": 1,
   "id": "million-saying",
   "metadata": {
    "_cell_guid": "b1076dfc-b9ad-4769-8c92-a6c4dae69d19",
    "_uuid": "8f2839f25d086af736a60e9eeb907d3b93b6e0e5",
    "execution": {
     "iopub.execute_input": "2021-04-09T08:24:21.634975Z",
     "iopub.status.busy": "2021-04-09T08:24:21.633713Z",
     "iopub.status.idle": "2021-04-09T08:24:23.098570Z",
     "shell.execute_reply": "2021-04-09T08:24:23.097030Z"
    },
    "papermill": {
     "duration": 1.479184,
     "end_time": "2021-04-09T08:24:23.098801",
     "exception": false,
     "start_time": "2021-04-09T08:24:21.619617",
     "status": "completed"
    },
    "tags": []
   },
   "outputs": [
    {
     "data": {
      "text/html": [
       "<style type='text/css'>\n",
       ".datatable table.frame { margin-bottom: 0; }\n",
       ".datatable table.frame thead { border-bottom: none; }\n",
       ".datatable table.frame tr.coltypes td {  color: #FFFFFF;  line-height: 6px;  padding: 0 0.5em;}\n",
       ".datatable .bool    { background: #DDDD99; }\n",
       ".datatable .object  { background: #565656; }\n",
       ".datatable .int     { background: #5D9E5D; }\n",
       ".datatable .float   { background: #4040CC; }\n",
       ".datatable .str     { background: #CC4040; }\n",
       ".datatable .row_index {  background: var(--jp-border-color3);  border-right: 1px solid var(--jp-border-color0);  color: var(--jp-ui-font-color3);  font-size: 9px;}\n",
       ".datatable .frame tr.coltypes .row_index {  background: var(--jp-border-color0);}\n",
       ".datatable th:nth-child(2) { padding-left: 12px; }\n",
       ".datatable .hellipsis {  color: var(--jp-cell-editor-border-color);}\n",
       ".datatable .vellipsis {  background: var(--jp-layout-color0);  color: var(--jp-cell-editor-border-color);}\n",
       ".datatable .na {  color: var(--jp-cell-editor-border-color);  font-size: 80%;}\n",
       ".datatable .footer { font-size: 9px; }\n",
       ".datatable .frame_dimensions {  background: var(--jp-border-color3);  border-top: 1px solid var(--jp-border-color0);  color: var(--jp-ui-font-color3);  display: inline-block;  opacity: 0.6;  padding: 1px 10px 1px 5px;}\n",
       "</style>\n"
      ],
      "text/plain": [
       "<IPython.core.display.HTML object>"
      ]
     },
     "metadata": {},
     "output_type": "display_data"
    }
   ],
   "source": [
    "import os\n",
    "import warnings\n",
    "import numpy as np \n",
    "import pandas as pd\n",
    "import multiprocessing\n",
    "import lightgbm as lgb\n",
    "from pathlib import Path\n",
    "import scipy.stats as stats\n",
    "import scipy.sparse\n",
    "import scipy.interpolate\n",
    "from tqdm.notebook import tqdm\n",
    "from sklearn.model_selection import KFold\n",
    "from sklearn.metrics import mean_squared_error, accuracy_score\n",
    "\n",
    "warnings.filterwarnings(\"ignore\")"
   ]
  },
  {
   "cell_type": "code",
   "execution_count": 2,
   "id": "exterior-mandate",
   "metadata": {
    "execution": {
     "iopub.execute_input": "2021-04-09T08:24:23.130749Z",
     "iopub.status.busy": "2021-04-09T08:24:23.129891Z",
     "iopub.status.idle": "2021-04-09T08:24:23.133787Z",
     "shell.execute_reply": "2021-04-09T08:24:23.133267Z"
    },
    "papermill": {
     "duration": 0.023254,
     "end_time": "2021-04-09T08:24:23.133938",
     "exception": false,
     "start_time": "2021-04-09T08:24:23.110684",
     "status": "completed"
    },
    "tags": []
   },
   "outputs": [],
   "source": [
    "from pathlib import Path\n",
    "from logging import getLogger, Formatter, FileHandler, StreamHandler, INFO, DEBUG\n",
    "\n",
    "\n",
    "def create_logger(exp_version):\n",
    "    log_file = (\"{}.log\".format(exp_version))\n",
    "\n",
    "    # logger\n",
    "    logger_ = getLogger(exp_version)\n",
    "    logger_.setLevel(DEBUG)\n",
    "\n",
    "    # formatter\n",
    "    fmr = Formatter(\"[%(levelname)s] %(asctime)s >>\\t%(message)s\")\n",
    "\n",
    "    # file handler\n",
    "    fh = FileHandler(log_file)\n",
    "    fh.setLevel(DEBUG)\n",
    "    fh.setFormatter(fmr)\n",
    "\n",
    "    # stream handler\n",
    "    ch = StreamHandler()\n",
    "    ch.setLevel(INFO)\n",
    "    ch.setFormatter(fmr)\n",
    "\n",
    "    logger_.addHandler(fh)\n",
    "    logger_.addHandler(ch)\n",
    "\n",
    "\n",
    "def get_logger(exp_version):\n",
    "    return getLogger(exp_version)\n",
    "\n",
    "VERSION = \"002\" # 実験番号\n",
    "create_logger(VERSION)\n",
    "#get_logger(VERSION).info(\"what you want to save\") "
   ]
  },
  {
   "cell_type": "code",
   "execution_count": 3,
   "id": "plain-outline",
   "metadata": {
    "execution": {
     "iopub.execute_input": "2021-04-09T08:24:23.163467Z",
     "iopub.status.busy": "2021-04-09T08:24:23.162674Z",
     "iopub.status.idle": "2021-04-09T08:24:23.167058Z",
     "shell.execute_reply": "2021-04-09T08:24:23.165995Z"
    },
    "papermill": {
     "duration": 0.021644,
     "end_time": "2021-04-09T08:24:23.167258",
     "exception": false,
     "start_time": "2021-04-09T08:24:23.145614",
     "status": "completed"
    },
    "tags": []
   },
   "outputs": [],
   "source": [
    "def comp_metric(xhat, yhat, fhat, x, y, f):\n",
    "    intermediate = np.sqrt(np.power(xhat - x,2) + np.power(yhat-y,2)) + 15 * np.abs(fhat-f)\n",
    "    return intermediate.sum() / xhat.shape[0]"
   ]
  },
  {
   "cell_type": "code",
   "execution_count": 4,
   "id": "german-championship",
   "metadata": {
    "execution": {
     "iopub.execute_input": "2021-04-09T08:24:23.198144Z",
     "iopub.status.busy": "2021-04-09T08:24:23.197416Z",
     "iopub.status.idle": "2021-04-09T08:24:23.292955Z",
     "shell.execute_reply": "2021-04-09T08:24:23.291341Z"
    },
    "papermill": {
     "duration": 0.114359,
     "end_time": "2021-04-09T08:24:23.293150",
     "exception": false,
     "start_time": "2021-04-09T08:24:23.178791",
     "status": "completed"
    },
    "tags": []
   },
   "outputs": [],
   "source": [
    "ORG_DIR = '/kaggle/input/indoor-location-navigation'\n",
    "DATA_DIR = '/kaggle/input/indoor-competition-dataset'\n",
    "\n",
    "sub = pd.read_csv(ORG_DIR+\"/sample_submission.csv\")\n",
    "train_files = [i for i in os.listdir(DATA_DIR) if \"train\" in i]\n",
    "test_files = [i for i in os.listdir(DATA_DIR) if \"test\" in i]\n",
    "\n",
    "all_sites = sorted(set(sub[\"site_path_timestamp\"].apply(lambda x: x.split(\"_\")[0])))\n",
    "sub = sub.set_index(\"site_path_timestamp\")"
   ]
  },
  {
   "cell_type": "code",
   "execution_count": 5,
   "id": "regional-jason",
   "metadata": {
    "execution": {
     "iopub.execute_input": "2021-04-09T08:24:23.322621Z",
     "iopub.status.busy": "2021-04-09T08:24:23.321496Z",
     "iopub.status.idle": "2021-04-09T08:24:23.325256Z",
     "shell.execute_reply": "2021-04-09T08:24:23.324580Z"
    },
    "papermill": {
     "duration": 0.020237,
     "end_time": "2021-04-09T08:24:23.325447",
     "exception": false,
     "start_time": "2021-04-09T08:24:23.305210",
     "status": "completed"
    },
    "tags": []
   },
   "outputs": [],
   "source": [
    "train_only_files = [i for i in os.listdir(DATA_DIR) if \"train\" in i and i.split(\"_\")[0] not in all_sites]"
   ]
  },
  {
   "cell_type": "markdown",
   "id": "vanilla-roommate",
   "metadata": {
    "papermill": {
     "duration": 0.011735,
     "end_time": "2021-04-09T08:24:23.348702",
     "exception": false,
     "start_time": "2021-04-09T08:24:23.336967",
     "status": "completed"
    },
    "tags": []
   },
   "source": [
    "# modelling"
   ]
  },
  {
   "cell_type": "code",
   "execution_count": 6,
   "id": "healthy-brain",
   "metadata": {
    "execution": {
     "iopub.execute_input": "2021-04-09T08:24:23.398201Z",
     "iopub.status.busy": "2021-04-09T08:24:23.392417Z",
     "iopub.status.idle": "2021-04-09T09:02:49.371500Z",
     "shell.execute_reply": "2021-04-09T09:02:49.372266Z"
    },
    "papermill": {
     "duration": 2306.012388,
     "end_time": "2021-04-09T09:02:49.372626",
     "exception": false,
     "start_time": "2021-04-09T08:24:23.360238",
     "status": "completed"
    },
    "tags": []
   },
   "outputs": [
    {
     "data": {
      "application/vnd.jupyter.widget-view+json": {
       "model_id": "f721d0780bc940f88133aaf5ab3e1867",
       "version_major": 2,
       "version_minor": 0
      },
      "text/plain": [
       "  0%|          | 0/24 [00:00<?, ?it/s]"
      ]
     },
     "metadata": {},
     "output_type": "display_data"
    },
    {
     "name": "stderr",
     "output_type": "stream",
     "text": [
      "[INFO] 2021-04-09 08:24:23,429 >>\t5a0546857ecc773753327266\n",
      "[INFO] 2021-04-09 08:24:29,734 >>\t(9296, 2599)\n",
      "[INFO] 2021-04-09 08:26:03,137 >>\t0.9813898450946644\n",
      "[INFO] 2021-04-09 08:26:03,161 >>\t5c3c44b80379370013e0fd2b\n",
      "[INFO] 2021-04-09 08:26:08,672 >>\t(9737, 2351)\n",
      "[INFO] 2021-04-09 08:27:29,267 >>\t0.9731950292697956\n",
      "[INFO] 2021-04-09 08:27:29,285 >>\t5d27075f03f801723c2e360f\n",
      "[INFO] 2021-04-09 08:28:03,873 >>\t(23666, 5053)\n",
      "[INFO] 2021-04-09 08:33:34,027 >>\t0.9892673033043184\n",
      "[INFO] 2021-04-09 08:33:34,047 >>\t5d27096c03f801723c31e5e0\n",
      "[INFO] 2021-04-09 08:33:35,619 >>\t(9100, 734)\n",
      "[INFO] 2021-04-09 08:34:06,589 >>\t0.9903296703296703\n",
      "[INFO] 2021-04-09 08:34:06,626 >>\t5d27097f03f801723c320d97\n",
      "[INFO] 2021-04-09 08:34:09,975 >>\t(10507, 1402)\n",
      "[INFO] 2021-04-09 08:34:50,157 >>\t0.9808698962596364\n",
      "[INFO] 2021-04-09 08:34:50,186 >>\t5d27099f03f801723c32511d\n",
      "[INFO] 2021-04-09 08:34:50,782 >>\t(4251, 630)\n",
      "[INFO] 2021-04-09 08:35:08,538 >>\t0.988238061632557\n",
      "[INFO] 2021-04-09 08:35:08,551 >>\t5d2709a003f801723c3251bf\n",
      "[INFO] 2021-04-09 08:35:09,320 >>\t(3940, 804)\n",
      "[INFO] 2021-04-09 08:35:25,773 >>\t0.9949238578680203\n",
      "[INFO] 2021-04-09 08:35:25,791 >>\t5d2709b303f801723c327472\n",
      "[INFO] 2021-04-09 08:35:29,753 >>\t(15358, 1270)\n",
      "[INFO] 2021-04-09 08:38:02,795 >>\t0.9986326344576116\n",
      "[INFO] 2021-04-09 08:38:02,825 >>\t5d2709bb03f801723c32852c\n",
      "[INFO] 2021-04-09 08:38:08,644 >>\t(17203, 1661)\n",
      "[INFO] 2021-04-09 08:39:15,510 >>\t0.9636691274777655\n",
      "[INFO] 2021-04-09 08:39:15,555 >>\t5d2709c303f801723c3299ee\n",
      "[INFO] 2021-04-09 08:39:30,780 >>\t(10083, 4834)\n",
      "[INFO] 2021-04-09 08:42:24,434 >>\t0.9869086581374591\n",
      "[INFO] 2021-04-09 08:42:24,469 >>\t5d2709d403f801723c32bd39\n",
      "[INFO] 2021-04-09 08:42:27,173 >>\t(10027, 1108)\n",
      "[INFO] 2021-04-09 08:42:59,852 >>\t0.998703500548519\n",
      "[INFO] 2021-04-09 08:42:59,906 >>\t5d2709e003f801723c32d896\n",
      "[INFO] 2021-04-09 08:43:01,619 >>\t(11042, 804)\n",
      "[INFO] 2021-04-09 08:43:36,913 >>\t0.9856909980076073\n",
      "[INFO] 2021-04-09 08:43:36,947 >>\t5da138274db8ce0c98bbd3d2\n",
      "[INFO] 2021-04-09 08:43:37,143 >>\t(2662, 263)\n",
      "[INFO] 2021-04-09 08:43:44,447 >>\t0.9958677685950413\n",
      "[INFO] 2021-04-09 08:43:44,461 >>\t5da1382d4db8ce0c98bbe92e\n",
      "[INFO] 2021-04-09 08:43:48,329 >>\t(8999, 1998)\n",
      "[INFO] 2021-04-09 08:46:36,576 >>\t0.9192132459162129\n",
      "[INFO] 2021-04-09 08:46:36,604 >>\t5da138314db8ce0c98bbf3a0\n",
      "[INFO] 2021-04-09 08:46:38,166 >>\t(9012, 896)\n",
      "[INFO] 2021-04-09 08:47:16,358 >>\t0.996005326231691\n",
      "[INFO] 2021-04-09 08:47:16,376 >>\t5da138364db8ce0c98bc00f1\n",
      "[INFO] 2021-04-09 08:47:16,686 >>\t(2767, 420)\n",
      "[INFO] 2021-04-09 08:47:25,028 >>\t1.0\n",
      "[INFO] 2021-04-09 08:47:25,043 >>\t5da1383b4db8ce0c98bc11ab\n",
      "[INFO] 2021-04-09 08:47:28,077 >>\t(13196, 1144)\n",
      "[INFO] 2021-04-09 08:48:06,965 >>\t0.9526371627765989\n",
      "[INFO] 2021-04-09 08:48:06,996 >>\t5da138754db8ce0c98bca82f\n",
      "[INFO] 2021-04-09 08:48:08,164 >>\t(7188, 777)\n",
      "[INFO] 2021-04-09 08:48:24,559 >>\t0.966332776850306\n",
      "[INFO] 2021-04-09 08:48:24,586 >>\t5da138764db8ce0c98bcaa46\n",
      "[INFO] 2021-04-09 08:48:26,916 >>\t(9420, 1115)\n",
      "[INFO] 2021-04-09 08:48:59,481 >>\t0.9954352441613588\n",
      "[INFO] 2021-04-09 08:48:59,513 >>\t5da1389e4db8ce0c98bd0547\n",
      "[INFO] 2021-04-09 08:48:59,959 >>\t(6312, 345)\n",
      "[INFO] 2021-04-09 08:49:22,047 >>\t0.985424588086185\n",
      "[INFO] 2021-04-09 08:49:22,063 >>\t5da138b74db8ce0c98bd4774\n",
      "[INFO] 2021-04-09 08:49:32,963 >>\t(17382, 2725)\n",
      "[INFO] 2021-04-09 08:52:31,364 >>\t0.9875158209642159\n",
      "[INFO] 2021-04-09 08:52:31,391 >>\t5da958dd46f8266d0737457b\n",
      "[INFO] 2021-04-09 08:52:41,319 >>\t(15148, 2699)\n",
      "[INFO] 2021-04-09 08:55:03,525 >>\t0.9846184314761025\n",
      "[INFO] 2021-04-09 08:55:03,564 >>\t5dbc1d84c1eb61796cf7c010\n",
      "[INFO] 2021-04-09 08:55:17,423 >>\t(16174, 3493)\n",
      "[INFO] 2021-04-09 09:00:57,097 >>\t0.9920242364288364\n",
      "[INFO] 2021-04-09 09:00:57,149 >>\t5dc8cea7659e181adb076a3f\n",
      "[INFO] 2021-04-09 09:01:06,537 >>\t(15655, 2575)\n",
      "[INFO] 2021-04-09 09:02:47,249 >>\t0.9722133503672948\n"
     ]
    },
    {
     "name": "stdout",
     "output_type": "stream",
     "text": [
      "overall:  0.9814585956416465\n"
     ]
    }
   ],
   "source": [
    "lgbm_params_f = {'objective': 'multiclass', 'metric': 'multi_logloss',\n",
    "                     'boosting_type': 'gbdt','tree_learner': 'serial',\n",
    "                     'learning_rate': 0.1, \"num_leaves\": 30, \n",
    "               'random_seed':44, 'n_estimators': 5000, 'verbose': -1}\n",
    "n_folds = 5\n",
    "kf = KFold(n_splits=n_folds, shuffle=True, random_state=224)\n",
    "predictions = list()\n",
    "\n",
    "all_f_pred = np.array([])\n",
    "all_f_label = np.array([])\n",
    "\n",
    "all_valid_f_df = []\n",
    "all_feat_imp_df = []\n",
    "\n",
    "for site in tqdm(all_sites):\n",
    "    get_logger(VERSION).info(site)\n",
    "    train_data = pd.read_csv(DATA_DIR+\"/\"+site+str(\"_train.csv\"), index_col=\"path\")\n",
    "    test_data = pd.read_csv(DATA_DIR+\"/\"+site+str(\"_test.csv\"))\n",
    "\n",
    "    train_paths = train_data.index.unique()\n",
    "    non_targets = [i for i in train_data.columns if i not in [\"timestamp\", \"x\", \"y\", \"f\"]]\n",
    "\n",
    "    # predict floor first\n",
    "    X = train_data[non_targets+[\"f\"]]\n",
    "    X_test = test_data[non_targets]\n",
    "    get_logger(VERSION).info(X.shape)\n",
    "    \n",
    "    label_f = np.zeros([len(X)])\n",
    "    valid_f_pred = np.zeros([len(X)])\n",
    "    valid_f_path = [\"tmp\" for i in range(len(X))]\n",
    "    test_f_pred = np.zeros([len(test_data), n_folds])\n",
    "    feature_importance_df = pd.DataFrame(non_targets, columns=[\"Feature\"])\n",
    "    for fold, (tr_group_idx, val_group_idx) in enumerate(kf.split(train_paths)):\n",
    "        tr_paths, val_paths = train_paths[tr_group_idx], train_paths[val_group_idx]\n",
    "    \n",
    "        tmp = X.reset_index(drop=False)\n",
    "        val_index = tmp[tmp[\"path\"].isin(val_paths)].index\n",
    "        val_path = tmp.loc[val_index][\"path\"].values\n",
    "        \n",
    "        X_train = X[X.index.isin(tr_paths)].drop(\"f\", axis=1).reset_index(drop=True)\n",
    "        X_valid = X[X.index.isin(val_paths)].drop(\"f\", axis=1).reset_index(drop=True)\n",
    "        y_train = X[X.index.isin(tr_paths)][\"f\"].reset_index(drop=True)\n",
    "        y_valid = X[X.index.isin(val_paths)][\"f\"].reset_index(drop=True)\n",
    "    \n",
    "        lgb_train = lgb.Dataset(X_train, y_train)\n",
    "        lgb_eval = lgb.Dataset(X_valid, y_valid, reference=lgb_train)\n",
    "        \n",
    "        model = lgb.LGBMClassifier(**lgbm_params_f)\n",
    "        model.fit(X_train, y_train,\n",
    "                       eval_set=[(X_valid, y_valid)],\n",
    "                       eval_metric='multi_logloss',\n",
    "                       verbose=False,\n",
    "                       early_stopping_rounds=20\n",
    "                       )\n",
    "    \n",
    "        valid_f_pred[val_index] = model.predict(X_valid).astype(int)\n",
    "        for i, ind in enumerate(val_index):\n",
    "            valid_f_path[ind] = val_path[i]\n",
    "        \n",
    "        feature_importance_df[\"Fold_\"+str(fold+1)] = model.feature_importances_\n",
    "\n",
    "        label_f[val_index] = y_valid\n",
    "    \n",
    "        test_f_pred[:, fold] = model.predict(X_test).astype(int)\n",
    "        \n",
    "    feature_importance_df[\"Average\"] = np.mean(feature_importance_df.iloc[:,1:n_folds+1], axis=1)\n",
    "    feature_importance_df[\"Std\"] = np.std(feature_importance_df.iloc[:,1:n_folds+1], axis=1)\n",
    "    feature_importance_df[\"Cv\"] = feature_importance_df[\"Std\"] / feature_importance_df[\"Average\"]\n",
    "    feature_importance_df[\"site\"] = site\n",
    "        \n",
    "    all_f_pred = np.concatenate([all_f_pred, valid_f_pred])\n",
    "    all_f_label = np.concatenate([all_f_label, label_f])\n",
    "        \n",
    "    accuracy = accuracy_score(label_f, valid_f_pred)\n",
    "    get_logger(VERSION).info(accuracy)\n",
    "    valid_f_pred = pd.DataFrame(valid_f_pred)\n",
    "    valid_f_pred.columns = [\"floor\"]\n",
    "    valid_f_pred[\"path\"] = valid_f_path\n",
    "    valid_f_pred[\"site\"] = site\n",
    "    valid_f_pred[\"truth\"] = label_f\n",
    "        \n",
    "    preds_f_mode = stats.mode(test_f_pred, axis=1)\n",
    "    test_f_pred = preds_f_mode[0].astype(int).reshape(-1)\n",
    "    test_preds = pd.DataFrame(test_f_pred)\n",
    "    test_preds.columns = [\"floor\"]\n",
    "    test_preds.index = test_data[\"site_path_timestamp\"]\n",
    "    test_preds[\"floor\"] = test_preds[\"floor\"].astype(int)\n",
    "    predictions.append(test_preds)\n",
    "    \n",
    "    all_valid_f_df.append(valid_f_pred)\n",
    "    all_feat_imp_df.append(feature_importance_df)\n",
    "    \n",
    "all_valid_f_df = pd.concat(all_valid_f_df)\n",
    "all_feat_imp_df = pd.concat(all_feat_imp_df)\n",
    "\n",
    "print(\"overall: \", accuracy_score(all_valid_f_df.floor.astype(int).values, \n",
    "                                  all_valid_f_df.truth.astype(int).values))\n",
    "\n",
    "all_valid_f_df.to_csv(\"floor_prediction_in_train.csv\")\n",
    "all_feat_imp_df.to_csv(\"floor_feature_importance.csv\")"
   ]
  },
  {
   "cell_type": "code",
   "execution_count": 7,
   "id": "indirect-referral",
   "metadata": {
    "execution": {
     "iopub.execute_input": "2021-04-09T09:02:49.445841Z",
     "iopub.status.busy": "2021-04-09T09:02:49.445040Z",
     "iopub.status.idle": "2021-04-09T09:02:49.450741Z",
     "shell.execute_reply": "2021-04-09T09:02:49.451325Z"
    },
    "papermill": {
     "duration": 0.044456,
     "end_time": "2021-04-09T09:02:49.451525",
     "exception": false,
     "start_time": "2021-04-09T09:02:49.407069",
     "status": "completed"
    },
    "tags": []
   },
   "outputs": [],
   "source": [
    "# lgbm_params_f = {'objective': 'multiclass', 'metric': 'multi_logloss',\n",
    "#                      'boosting_type': 'gbdt','tree_learner': 'serial',\n",
    "#                      'learning_rate': 0.1, \"num_leaves\": 30, \n",
    "#                'random_seed':44, 'n_estimators': 5000, 'verbose': -1}\n",
    "# n_folds = 5\n",
    "# kf = KFold(n_splits=n_folds, shuffle=True, random_state=224)\n",
    "# predictions = list()\n",
    "\n",
    "# all_f_pred = np.array([])\n",
    "# all_f_label = np.array([])\n",
    "\n",
    "# all_valid_f_df = []\n",
    "# all_feat_imp_df = []\n",
    "\n",
    "# for file in tqdm(train_only_files):\n",
    "#     get_logger(VERSION).info(file)\n",
    "#     try:\n",
    "#         train_data = pd.read_csv(DATA_DIR+\"/\" +file, index_col=\"path\")\n",
    "\n",
    "#         train_paths = train_data.index.unique()\n",
    "#         non_targets = [i for i in train_data.columns if i not in [\"timestamp\", \"x\", \"y\", \"f\"]]\n",
    "\n",
    "#         # predict floor first\n",
    "#         X = train_data[non_targets+[\"f\"]]\n",
    "#         get_logger(VERSION).info(X.shape)\n",
    "    \n",
    "#         label_f = np.zeros([len(X)])\n",
    "#         valid_f_pred = np.zeros([len(X)])\n",
    "#         valid_f_path = [\"tmp\" for i in range(len(X))]\n",
    "#         feature_importance_df = pd.DataFrame(non_targets, columns=[\"Feature\"])\n",
    "#         for fold, (tr_group_idx, val_group_idx) in enumerate(kf.split(train_paths)):\n",
    "#             tr_paths, val_paths = train_paths[tr_group_idx], train_paths[val_group_idx]\n",
    "    \n",
    "#             tmp = X.reset_index(drop=False)\n",
    "#             val_index = tmp[tmp[\"path\"].isin(val_paths)].index\n",
    "#             val_path = tmp.loc[val_index][\"path\"].values\n",
    "        \n",
    "#             X_train = X[X.index.isin(tr_paths)].drop(\"f\", axis=1).reset_index(drop=True)\n",
    "#             X_valid = X[X.index.isin(val_paths)].drop(\"f\", axis=1).reset_index(drop=True)\n",
    "#             y_train = X[X.index.isin(tr_paths)][\"f\"].reset_index(drop=True)\n",
    "#             y_valid = X[X.index.isin(val_paths)][\"f\"].reset_index(drop=True)\n",
    "    \n",
    "#             lgb_train = lgb.Dataset(X_train, y_train)\n",
    "#             lgb_eval = lgb.Dataset(X_valid, y_valid, reference=lgb_train)\n",
    "        \n",
    "#             model = lgb.LGBMClassifier(**lgbm_params_f)\n",
    "#             model.fit(X_train, y_train,\n",
    "#                        eval_set=[(X_valid, y_valid)],\n",
    "#                        eval_metric='multi_logloss',\n",
    "#                        verbose=False,\n",
    "#                        early_stopping_rounds=20\n",
    "#                        )\n",
    "    \n",
    "#             valid_f_pred[val_index] = model.predict(X_valid).astype(int)\n",
    "#             for i, ind in enumerate(val_index):\n",
    "#                 valid_f_path[ind] = val_path[i]\n",
    "        \n",
    "#             feature_importance_df[\"Fold_\"+str(fold+1)] = model.feature_importances_\n",
    "\n",
    "#             label_f[val_index] = y_valid\n",
    "            \n",
    "#         feature_importance_df[\"Average\"] = np.mean(feature_importance_df.iloc[:,1:n_folds+1], axis=1)\n",
    "#         feature_importance_df[\"Std\"] = np.std(feature_importance_df.iloc[:,1:n_folds+1], axis=1)\n",
    "#         feature_importance_df[\"Cv\"] = feature_importance_df[\"Std\"] / feature_importance_df[\"Average\"]\n",
    "#         feature_importance_df[\"site\"] = file.split(\"_\")[0]\n",
    "        \n",
    "#         all_f_pred = np.concatenate([all_f_pred, valid_f_pred])\n",
    "#         all_f_label = np.concatenate([all_f_label, label_f])\n",
    "        \n",
    "#         accuracy = accuracy_score(label_f, valid_f_pred)\n",
    "#         get_logger(VERSION).info(accuracy)\n",
    "#         valid_f_pred = pd.DataFrame(valid_f_pred)\n",
    "#         valid_f_pred.columns = [\"floor\"]\n",
    "#         valid_f_pred[\"path\"] = valid_f_path\n",
    "#         valid_f_pred[\"site\"] = file.split(\"_\")[0]\n",
    "#         valid_f_pred[\"truth\"] = label_f\n",
    "            \n",
    "#         all_valid_f_df.append(valid_f_pred)\n",
    "#         all_feat_imp_df.append(feature_importance_df)\n",
    "    \n",
    "#     except:\n",
    "#         get_logger(VERSION).info(\"pass\")\n",
    "    \n",
    "# all_valid_f_df = pd.concat(all_valid_f_df)\n",
    "# all_feat_imp_df = pd.concat(all_feat_imp_df)\n",
    "\n",
    "# print(\"overall: \", accuracy_score(all_valid_f_df.floor.astype(int).values, \n",
    "#                                   all_valid_f_df.truth.astype(int).values))\n",
    "\n",
    "# all_valid_f_df.to_csv(\"floor_prediction_in_train_only.csv\")\n",
    "# all_feat_imp_df.to_csv(\"floor_feature_importance_train_only.csv\")"
   ]
  },
  {
   "cell_type": "markdown",
   "id": "sophisticated-access",
   "metadata": {
    "papermill": {
     "duration": 0.034304,
     "end_time": "2021-04-09T09:02:49.522015",
     "exception": false,
     "start_time": "2021-04-09T09:02:49.487711",
     "status": "completed"
    },
    "tags": []
   },
   "source": [
    "# postprocess"
   ]
  },
  {
   "cell_type": "code",
   "execution_count": 8,
   "id": "incorrect-terrorism",
   "metadata": {
    "execution": {
     "iopub.execute_input": "2021-04-09T09:02:49.593727Z",
     "iopub.status.busy": "2021-04-09T09:02:49.593039Z",
     "iopub.status.idle": "2021-04-09T09:02:49.601292Z",
     "shell.execute_reply": "2021-04-09T09:02:49.601785Z"
    },
    "papermill": {
     "duration": 0.045735,
     "end_time": "2021-04-09T09:02:49.601987",
     "exception": false,
     "start_time": "2021-04-09T09:02:49.556252",
     "status": "completed"
    },
    "tags": []
   },
   "outputs": [],
   "source": [
    "all_preds = pd.concat(predictions)"
   ]
  },
  {
   "cell_type": "markdown",
   "id": "about-powder",
   "metadata": {
    "papermill": {
     "duration": 0.035048,
     "end_time": "2021-04-09T09:02:49.671053",
     "exception": false,
     "start_time": "2021-04-09T09:02:49.636005",
     "status": "completed"
    },
    "tags": []
   },
   "source": [
    "# submission"
   ]
  },
  {
   "cell_type": "code",
   "execution_count": 9,
   "id": "thousand-politics",
   "metadata": {
    "execution": {
     "iopub.execute_input": "2021-04-09T09:02:49.743270Z",
     "iopub.status.busy": "2021-04-09T09:02:49.742561Z",
     "iopub.status.idle": "2021-04-09T09:02:49.793506Z",
     "shell.execute_reply": "2021-04-09T09:02:49.794032Z"
    },
    "papermill": {
     "duration": 0.088811,
     "end_time": "2021-04-09T09:02:49.794262",
     "exception": false,
     "start_time": "2021-04-09T09:02:49.705451",
     "status": "completed"
    },
    "tags": []
   },
   "outputs": [],
   "source": [
    "all_preds = all_preds.sort_values(\"site_path_timestamp\")\n",
    "all_preds.to_csv('submission.csv')"
   ]
  },
  {
   "cell_type": "code",
   "execution_count": null,
   "id": "placed-cursor",
   "metadata": {
    "papermill": {
     "duration": 0.035954,
     "end_time": "2021-04-09T09:02:49.864667",
     "exception": false,
     "start_time": "2021-04-09T09:02:49.828713",
     "status": "completed"
    },
    "tags": []
   },
   "outputs": [],
   "source": []
  }
 ],
 "metadata": {
  "kernelspec": {
   "display_name": "Python 3",
   "language": "python",
   "name": "python3"
  },
  "language_info": {
   "codemirror_mode": {
    "name": "ipython",
    "version": 3
   },
   "file_extension": ".py",
   "mimetype": "text/x-python",
   "name": "python",
   "nbconvert_exporter": "python",
   "pygments_lexer": "ipython3",
   "version": "3.7.9"
  },
  "papermill": {
   "default_parameters": {},
   "duration": 2316.500223,
   "end_time": "2021-04-09T09:02:50.714956",
   "environment_variables": {},
   "exception": null,
   "input_path": "__notebook__.ipynb",
   "output_path": "__notebook__.ipynb",
   "parameters": {},
   "start_time": "2021-04-09T08:24:14.214733",
   "version": "2.3.2"
  },
  "widgets": {
   "application/vnd.jupyter.widget-state+json": {
    "state": {
     "01df5f78929d4579a155a879a8d64862": {
      "model_module": "@jupyter-widgets/controls",
      "model_module_version": "1.5.0",
      "model_name": "FloatProgressModel",
      "state": {
       "_dom_classes": [],
       "_model_module": "@jupyter-widgets/controls",
       "_model_module_version": "1.5.0",
       "_model_name": "FloatProgressModel",
       "_view_count": null,
       "_view_module": "@jupyter-widgets/controls",
       "_view_module_version": "1.5.0",
       "_view_name": "ProgressView",
       "bar_style": "success",
       "description": "",
       "description_tooltip": null,
       "layout": "IPY_MODEL_bad549c302a34945acffaa3200103591",
       "max": 24.0,
       "min": 0.0,
       "orientation": "horizontal",
       "style": "IPY_MODEL_52b24d49530b400b984681f261c5929c",
       "value": 24.0
      }
     },
     "12da5fa61bf14ec88ec2ef4e0e4468e0": {
      "model_module": "@jupyter-widgets/controls",
      "model_module_version": "1.5.0",
      "model_name": "DescriptionStyleModel",
      "state": {
       "_model_module": "@jupyter-widgets/controls",
       "_model_module_version": "1.5.0",
       "_model_name": "DescriptionStyleModel",
       "_view_count": null,
       "_view_module": "@jupyter-widgets/base",
       "_view_module_version": "1.2.0",
       "_view_name": "StyleView",
       "description_width": ""
      }
     },
     "2b6b2745d4214d33b34746133f906c2c": {
      "model_module": "@jupyter-widgets/base",
      "model_module_version": "1.2.0",
      "model_name": "LayoutModel",
      "state": {
       "_model_module": "@jupyter-widgets/base",
       "_model_module_version": "1.2.0",
       "_model_name": "LayoutModel",
       "_view_count": null,
       "_view_module": "@jupyter-widgets/base",
       "_view_module_version": "1.2.0",
       "_view_name": "LayoutView",
       "align_content": null,
       "align_items": null,
       "align_self": null,
       "border": null,
       "bottom": null,
       "display": null,
       "flex": null,
       "flex_flow": null,
       "grid_area": null,
       "grid_auto_columns": null,
       "grid_auto_flow": null,
       "grid_auto_rows": null,
       "grid_column": null,
       "grid_gap": null,
       "grid_row": null,
       "grid_template_areas": null,
       "grid_template_columns": null,
       "grid_template_rows": null,
       "height": null,
       "justify_content": null,
       "justify_items": null,
       "left": null,
       "margin": null,
       "max_height": null,
       "max_width": null,
       "min_height": null,
       "min_width": null,
       "object_fit": null,
       "object_position": null,
       "order": null,
       "overflow": null,
       "overflow_x": null,
       "overflow_y": null,
       "padding": null,
       "right": null,
       "top": null,
       "visibility": null,
       "width": null
      }
     },
     "3cfc71a57e214f07abbdb250b25cf59b": {
      "model_module": "@jupyter-widgets/controls",
      "model_module_version": "1.5.0",
      "model_name": "HTMLModel",
      "state": {
       "_dom_classes": [],
       "_model_module": "@jupyter-widgets/controls",
       "_model_module_version": "1.5.0",
       "_model_name": "HTMLModel",
       "_view_count": null,
       "_view_module": "@jupyter-widgets/controls",
       "_view_module_version": "1.5.0",
       "_view_name": "HTMLView",
       "description": "",
       "description_tooltip": null,
       "layout": "IPY_MODEL_2b6b2745d4214d33b34746133f906c2c",
       "placeholder": "​",
       "style": "IPY_MODEL_12da5fa61bf14ec88ec2ef4e0e4468e0",
       "value": "100%"
      }
     },
     "52b24d49530b400b984681f261c5929c": {
      "model_module": "@jupyter-widgets/controls",
      "model_module_version": "1.5.0",
      "model_name": "ProgressStyleModel",
      "state": {
       "_model_module": "@jupyter-widgets/controls",
       "_model_module_version": "1.5.0",
       "_model_name": "ProgressStyleModel",
       "_view_count": null,
       "_view_module": "@jupyter-widgets/base",
       "_view_module_version": "1.2.0",
       "_view_name": "StyleView",
       "bar_color": null,
       "description_width": ""
      }
     },
     "6fc5b4e3d91742ddaf0c17382664087d": {
      "model_module": "@jupyter-widgets/base",
      "model_module_version": "1.2.0",
      "model_name": "LayoutModel",
      "state": {
       "_model_module": "@jupyter-widgets/base",
       "_model_module_version": "1.2.0",
       "_model_name": "LayoutModel",
       "_view_count": null,
       "_view_module": "@jupyter-widgets/base",
       "_view_module_version": "1.2.0",
       "_view_name": "LayoutView",
       "align_content": null,
       "align_items": null,
       "align_self": null,
       "border": null,
       "bottom": null,
       "display": null,
       "flex": null,
       "flex_flow": null,
       "grid_area": null,
       "grid_auto_columns": null,
       "grid_auto_flow": null,
       "grid_auto_rows": null,
       "grid_column": null,
       "grid_gap": null,
       "grid_row": null,
       "grid_template_areas": null,
       "grid_template_columns": null,
       "grid_template_rows": null,
       "height": null,
       "justify_content": null,
       "justify_items": null,
       "left": null,
       "margin": null,
       "max_height": null,
       "max_width": null,
       "min_height": null,
       "min_width": null,
       "object_fit": null,
       "object_position": null,
       "order": null,
       "overflow": null,
       "overflow_x": null,
       "overflow_y": null,
       "padding": null,
       "right": null,
       "top": null,
       "visibility": null,
       "width": null
      }
     },
     "886ed46a9696445c89cee182a8533583": {
      "model_module": "@jupyter-widgets/controls",
      "model_module_version": "1.5.0",
      "model_name": "DescriptionStyleModel",
      "state": {
       "_model_module": "@jupyter-widgets/controls",
       "_model_module_version": "1.5.0",
       "_model_name": "DescriptionStyleModel",
       "_view_count": null,
       "_view_module": "@jupyter-widgets/base",
       "_view_module_version": "1.2.0",
       "_view_name": "StyleView",
       "description_width": ""
      }
     },
     "bad549c302a34945acffaa3200103591": {
      "model_module": "@jupyter-widgets/base",
      "model_module_version": "1.2.0",
      "model_name": "LayoutModel",
      "state": {
       "_model_module": "@jupyter-widgets/base",
       "_model_module_version": "1.2.0",
       "_model_name": "LayoutModel",
       "_view_count": null,
       "_view_module": "@jupyter-widgets/base",
       "_view_module_version": "1.2.0",
       "_view_name": "LayoutView",
       "align_content": null,
       "align_items": null,
       "align_self": null,
       "border": null,
       "bottom": null,
       "display": null,
       "flex": null,
       "flex_flow": null,
       "grid_area": null,
       "grid_auto_columns": null,
       "grid_auto_flow": null,
       "grid_auto_rows": null,
       "grid_column": null,
       "grid_gap": null,
       "grid_row": null,
       "grid_template_areas": null,
       "grid_template_columns": null,
       "grid_template_rows": null,
       "height": null,
       "justify_content": null,
       "justify_items": null,
       "left": null,
       "margin": null,
       "max_height": null,
       "max_width": null,
       "min_height": null,
       "min_width": null,
       "object_fit": null,
       "object_position": null,
       "order": null,
       "overflow": null,
       "overflow_x": null,
       "overflow_y": null,
       "padding": null,
       "right": null,
       "top": null,
       "visibility": null,
       "width": null
      }
     },
     "cf50fb76347843b7805583fae266abbe": {
      "model_module": "@jupyter-widgets/base",
      "model_module_version": "1.2.0",
      "model_name": "LayoutModel",
      "state": {
       "_model_module": "@jupyter-widgets/base",
       "_model_module_version": "1.2.0",
       "_model_name": "LayoutModel",
       "_view_count": null,
       "_view_module": "@jupyter-widgets/base",
       "_view_module_version": "1.2.0",
       "_view_name": "LayoutView",
       "align_content": null,
       "align_items": null,
       "align_self": null,
       "border": null,
       "bottom": null,
       "display": null,
       "flex": null,
       "flex_flow": null,
       "grid_area": null,
       "grid_auto_columns": null,
       "grid_auto_flow": null,
       "grid_auto_rows": null,
       "grid_column": null,
       "grid_gap": null,
       "grid_row": null,
       "grid_template_areas": null,
       "grid_template_columns": null,
       "grid_template_rows": null,
       "height": null,
       "justify_content": null,
       "justify_items": null,
       "left": null,
       "margin": null,
       "max_height": null,
       "max_width": null,
       "min_height": null,
       "min_width": null,
       "object_fit": null,
       "object_position": null,
       "order": null,
       "overflow": null,
       "overflow_x": null,
       "overflow_y": null,
       "padding": null,
       "right": null,
       "top": null,
       "visibility": null,
       "width": null
      }
     },
     "e2b473882bf347f898ad222187138038": {
      "model_module": "@jupyter-widgets/controls",
      "model_module_version": "1.5.0",
      "model_name": "HTMLModel",
      "state": {
       "_dom_classes": [],
       "_model_module": "@jupyter-widgets/controls",
       "_model_module_version": "1.5.0",
       "_model_name": "HTMLModel",
       "_view_count": null,
       "_view_module": "@jupyter-widgets/controls",
       "_view_module_version": "1.5.0",
       "_view_name": "HTMLView",
       "description": "",
       "description_tooltip": null,
       "layout": "IPY_MODEL_6fc5b4e3d91742ddaf0c17382664087d",
       "placeholder": "​",
       "style": "IPY_MODEL_886ed46a9696445c89cee182a8533583",
       "value": " 24/24 [38:23&lt;00:00, 157.38s/it]"
      }
     },
     "f721d0780bc940f88133aaf5ab3e1867": {
      "model_module": "@jupyter-widgets/controls",
      "model_module_version": "1.5.0",
      "model_name": "HBoxModel",
      "state": {
       "_dom_classes": [],
       "_model_module": "@jupyter-widgets/controls",
       "_model_module_version": "1.5.0",
       "_model_name": "HBoxModel",
       "_view_count": null,
       "_view_module": "@jupyter-widgets/controls",
       "_view_module_version": "1.5.0",
       "_view_name": "HBoxView",
       "box_style": "",
       "children": [
        "IPY_MODEL_3cfc71a57e214f07abbdb250b25cf59b",
        "IPY_MODEL_01df5f78929d4579a155a879a8d64862",
        "IPY_MODEL_e2b473882bf347f898ad222187138038"
       ],
       "layout": "IPY_MODEL_cf50fb76347843b7805583fae266abbe"
      }
     }
    },
    "version_major": 2,
    "version_minor": 0
   }
  }
 },
 "nbformat": 4,
 "nbformat_minor": 5
}
