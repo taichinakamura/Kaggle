{
 "cells": [
  {
   "cell_type": "markdown",
   "id": "suspended-lesbian",
   "metadata": {
    "papermill": {
     "duration": 0.012387,
     "end_time": "2021-04-10T01:54:23.334938",
     "exception": false,
     "start_time": "2021-04-10T01:54:23.322551",
     "status": "completed"
    },
    "tags": []
   },
   "source": [
    "- renew dataset (version 5: bssid more than 100 and timestamp, additional 25 files)\n",
    "- fold 5 \n",
    "- add log to check feature performance\n",
    "- focus on f\n",
    "- add timestamp in some cases * "
   ]
  },
  {
   "cell_type": "code",
   "execution_count": 1,
   "id": "forced-battlefield",
   "metadata": {
    "_cell_guid": "b1076dfc-b9ad-4769-8c92-a6c4dae69d19",
    "_uuid": "8f2839f25d086af736a60e9eeb907d3b93b6e0e5",
    "execution": {
     "iopub.execute_input": "2021-04-10T01:54:23.365644Z",
     "iopub.status.busy": "2021-04-10T01:54:23.364919Z",
     "iopub.status.idle": "2021-04-10T01:54:24.764195Z",
     "shell.execute_reply": "2021-04-10T01:54:24.763273Z"
    },
    "papermill": {
     "duration": 1.418253,
     "end_time": "2021-04-10T01:54:24.764391",
     "exception": false,
     "start_time": "2021-04-10T01:54:23.346138",
     "status": "completed"
    },
    "tags": []
   },
   "outputs": [
    {
     "data": {
      "text/html": [
       "<style type='text/css'>\n",
       ".datatable table.frame { margin-bottom: 0; }\n",
       ".datatable table.frame thead { border-bottom: none; }\n",
       ".datatable table.frame tr.coltypes td {  color: #FFFFFF;  line-height: 6px;  padding: 0 0.5em;}\n",
       ".datatable .bool    { background: #DDDD99; }\n",
       ".datatable .object  { background: #565656; }\n",
       ".datatable .int     { background: #5D9E5D; }\n",
       ".datatable .float   { background: #4040CC; }\n",
       ".datatable .str     { background: #CC4040; }\n",
       ".datatable .row_index {  background: var(--jp-border-color3);  border-right: 1px solid var(--jp-border-color0);  color: var(--jp-ui-font-color3);  font-size: 9px;}\n",
       ".datatable .frame tr.coltypes .row_index {  background: var(--jp-border-color0);}\n",
       ".datatable th:nth-child(2) { padding-left: 12px; }\n",
       ".datatable .hellipsis {  color: var(--jp-cell-editor-border-color);}\n",
       ".datatable .vellipsis {  background: var(--jp-layout-color0);  color: var(--jp-cell-editor-border-color);}\n",
       ".datatable .na {  color: var(--jp-cell-editor-border-color);  font-size: 80%;}\n",
       ".datatable .footer { font-size: 9px; }\n",
       ".datatable .frame_dimensions {  background: var(--jp-border-color3);  border-top: 1px solid var(--jp-border-color0);  color: var(--jp-ui-font-color3);  display: inline-block;  opacity: 0.6;  padding: 1px 10px 1px 5px;}\n",
       "</style>\n"
      ],
      "text/plain": [
       "<IPython.core.display.HTML object>"
      ]
     },
     "metadata": {},
     "output_type": "display_data"
    }
   ],
   "source": [
    "import os\n",
    "import warnings\n",
    "import numpy as np \n",
    "import pandas as pd\n",
    "import multiprocessing\n",
    "import lightgbm as lgb\n",
    "from pathlib import Path\n",
    "import scipy.stats as stats\n",
    "import scipy.sparse\n",
    "import scipy.interpolate\n",
    "from tqdm.notebook import tqdm\n",
    "from sklearn.model_selection import KFold\n",
    "from sklearn.metrics import mean_squared_error, accuracy_score\n",
    "\n",
    "warnings.filterwarnings(\"ignore\")"
   ]
  },
  {
   "cell_type": "code",
   "execution_count": 2,
   "id": "common-prize",
   "metadata": {
    "execution": {
     "iopub.execute_input": "2021-04-10T01:54:24.798250Z",
     "iopub.status.busy": "2021-04-10T01:54:24.797246Z",
     "iopub.status.idle": "2021-04-10T01:54:24.801982Z",
     "shell.execute_reply": "2021-04-10T01:54:24.801387Z"
    },
    "papermill": {
     "duration": 0.025685,
     "end_time": "2021-04-10T01:54:24.802160",
     "exception": false,
     "start_time": "2021-04-10T01:54:24.776475",
     "status": "completed"
    },
    "tags": []
   },
   "outputs": [],
   "source": [
    "from pathlib import Path\n",
    "from logging import getLogger, Formatter, FileHandler, StreamHandler, INFO, DEBUG\n",
    "\n",
    "\n",
    "def create_logger(exp_version):\n",
    "    log_file = (\"{}.log\".format(exp_version))\n",
    "\n",
    "    # logger\n",
    "    logger_ = getLogger(exp_version)\n",
    "    logger_.setLevel(DEBUG)\n",
    "\n",
    "    # formatter\n",
    "    fmr = Formatter(\"[%(levelname)s] %(asctime)s >>\\t%(message)s\")\n",
    "\n",
    "    # file handler\n",
    "    fh = FileHandler(log_file)\n",
    "    fh.setLevel(DEBUG)\n",
    "    fh.setFormatter(fmr)\n",
    "\n",
    "    # stream handler\n",
    "    ch = StreamHandler()\n",
    "    ch.setLevel(INFO)\n",
    "    ch.setFormatter(fmr)\n",
    "\n",
    "    logger_.addHandler(fh)\n",
    "    logger_.addHandler(ch)\n",
    "\n",
    "\n",
    "def get_logger(exp_version):\n",
    "    return getLogger(exp_version)\n",
    "\n",
    "VERSION = \"002\" # 実験番号\n",
    "create_logger(VERSION)\n",
    "#get_logger(VERSION).info(\"what you want to save\") "
   ]
  },
  {
   "cell_type": "code",
   "execution_count": 3,
   "id": "latin-environment",
   "metadata": {
    "execution": {
     "iopub.execute_input": "2021-04-10T01:54:24.833089Z",
     "iopub.status.busy": "2021-04-10T01:54:24.832336Z",
     "iopub.status.idle": "2021-04-10T01:54:24.835984Z",
     "shell.execute_reply": "2021-04-10T01:54:24.835401Z"
    },
    "papermill": {
     "duration": 0.022205,
     "end_time": "2021-04-10T01:54:24.836171",
     "exception": false,
     "start_time": "2021-04-10T01:54:24.813966",
     "status": "completed"
    },
    "tags": []
   },
   "outputs": [],
   "source": [
    "def comp_metric(xhat, yhat, fhat, x, y, f):\n",
    "    intermediate = np.sqrt(np.power(xhat - x,2) + np.power(yhat-y,2)) + 15 * np.abs(fhat-f)\n",
    "    return intermediate.sum() / xhat.shape[0]"
   ]
  },
  {
   "cell_type": "code",
   "execution_count": 4,
   "id": "blind-alfred",
   "metadata": {
    "execution": {
     "iopub.execute_input": "2021-04-10T01:54:24.868516Z",
     "iopub.status.busy": "2021-04-10T01:54:24.867629Z",
     "iopub.status.idle": "2021-04-10T01:54:24.969597Z",
     "shell.execute_reply": "2021-04-10T01:54:24.969022Z"
    },
    "papermill": {
     "duration": 0.121772,
     "end_time": "2021-04-10T01:54:24.969779",
     "exception": false,
     "start_time": "2021-04-10T01:54:24.848007",
     "status": "completed"
    },
    "tags": []
   },
   "outputs": [],
   "source": [
    "ORG_DIR = '/kaggle/input/indoor-location-navigation'\n",
    "DATA_DIR = '/kaggle/input/indoor-competition-dataset'\n",
    "\n",
    "sub = pd.read_csv(ORG_DIR+\"/sample_submission.csv\")\n",
    "train_files = [i for i in os.listdir(DATA_DIR) if \"train\" in i]\n",
    "test_files = [i for i in os.listdir(DATA_DIR) if \"test\" in i]\n",
    "\n",
    "all_sites = sorted(set(sub[\"site_path_timestamp\"].apply(lambda x: x.split(\"_\")[0])))\n",
    "sub = sub.set_index(\"site_path_timestamp\")"
   ]
  },
  {
   "cell_type": "code",
   "execution_count": 5,
   "id": "swedish-employer",
   "metadata": {
    "execution": {
     "iopub.execute_input": "2021-04-10T01:54:25.011819Z",
     "iopub.status.busy": "2021-04-10T01:54:25.010650Z",
     "iopub.status.idle": "2021-04-10T01:54:25.017141Z",
     "shell.execute_reply": "2021-04-10T01:54:25.017802Z"
    },
    "papermill": {
     "duration": 0.032762,
     "end_time": "2021-04-10T01:54:25.018095",
     "exception": false,
     "start_time": "2021-04-10T01:54:24.985333",
     "status": "completed"
    },
    "tags": []
   },
   "outputs": [],
   "source": [
    "train_only_files = [i for i in os.listdir(DATA_DIR) if \"train\" in i and i.split(\"_\")[0] not in all_sites]"
   ]
  },
  {
   "cell_type": "markdown",
   "id": "parental-bankruptcy",
   "metadata": {
    "papermill": {
     "duration": 0.011952,
     "end_time": "2021-04-10T01:54:25.042433",
     "exception": false,
     "start_time": "2021-04-10T01:54:25.030481",
     "status": "completed"
    },
    "tags": []
   },
   "source": [
    "# modelling"
   ]
  },
  {
   "cell_type": "code",
   "execution_count": 6,
   "id": "unique-mongolia",
   "metadata": {
    "execution": {
     "iopub.execute_input": "2021-04-10T01:54:25.096235Z",
     "iopub.status.busy": "2021-04-10T01:54:25.095384Z",
     "iopub.status.idle": "2021-04-10T02:40:58.766203Z",
     "shell.execute_reply": "2021-04-10T02:40:58.766893Z"
    },
    "papermill": {
     "duration": 2793.713093,
     "end_time": "2021-04-10T02:40:58.767336",
     "exception": false,
     "start_time": "2021-04-10T01:54:25.054243",
     "status": "completed"
    },
    "tags": []
   },
   "outputs": [
    {
     "data": {
      "application/vnd.jupyter.widget-view+json": {
       "model_id": "5e28326f9b794852adb5f140c1569faa",
       "version_major": 2,
       "version_minor": 0
      },
      "text/plain": [
       "  0%|          | 0/24 [00:00<?, ?it/s]"
      ]
     },
     "metadata": {},
     "output_type": "display_data"
    },
    {
     "name": "stderr",
     "output_type": "stream",
     "text": [
      "[INFO] 2021-04-10 01:54:25,125 >>\t5a0546857ecc773753327266\n",
      "[INFO] 2021-04-10 01:54:31,693 >>\t(9296, 2600)\n",
      "[INFO] 2021-04-10 01:56:17,130 >>\t0.9976333907056799\n",
      "[INFO] 2021-04-10 01:56:17,153 >>\t5c3c44b80379370013e0fd2b\n",
      "[INFO] 2021-04-10 01:56:22,644 >>\t(9737, 2351)\n",
      "[INFO] 2021-04-10 01:57:51,803 >>\t0.9731950292697956\n",
      "[INFO] 2021-04-10 01:57:51,821 >>\t5d27075f03f801723c2e360f\n",
      "[INFO] 2021-04-10 01:58:27,396 >>\t(23666, 5053)\n",
      "[INFO] 2021-04-10 02:04:47,779 >>\t0.9892673033043184\n",
      "[INFO] 2021-04-10 02:04:47,797 >>\t5d27096c03f801723c31e5e0\n",
      "[INFO] 2021-04-10 02:04:49,195 >>\t(9100, 734)\n",
      "[INFO] 2021-04-10 02:05:24,223 >>\t0.9903296703296703\n",
      "[INFO] 2021-04-10 02:05:24,264 >>\t5d27097f03f801723c320d97\n",
      "[INFO] 2021-04-10 02:05:27,375 >>\t(10507, 1403)\n",
      "[INFO] 2021-04-10 02:06:13,363 >>\t0.9950509184353288\n",
      "[INFO] 2021-04-10 02:06:13,387 >>\t5d27099f03f801723c32511d\n",
      "[INFO] 2021-04-10 02:06:14,014 >>\t(4251, 630)\n",
      "[INFO] 2021-04-10 02:06:34,181 >>\t0.988238061632557\n",
      "[INFO] 2021-04-10 02:06:34,191 >>\t5d2709a003f801723c3251bf\n",
      "[INFO] 2021-04-10 02:06:34,954 >>\t(3940, 804)\n",
      "[INFO] 2021-04-10 02:06:54,558 >>\t0.9949238578680203\n",
      "[INFO] 2021-04-10 02:06:54,574 >>\t5d2709b303f801723c327472\n",
      "[INFO] 2021-04-10 02:06:58,723 >>\t(15358, 1270)\n",
      "[INFO] 2021-04-10 02:09:41,156 >>\t0.9986326344576116\n",
      "[INFO] 2021-04-10 02:09:41,196 >>\t5d2709bb03f801723c32852c\n",
      "[INFO] 2021-04-10 02:09:47,037 >>\t(17203, 1662)\n",
      "[INFO] 2021-04-10 02:13:59,991 >>\t0.991106202406557\n",
      "[INFO] 2021-04-10 02:14:00,028 >>\t5d2709c303f801723c3299ee\n",
      "[INFO] 2021-04-10 02:14:16,371 >>\t(10083, 4834)\n",
      "[INFO] 2021-04-10 02:17:33,077 >>\t0.9869086581374591\n",
      "[INFO] 2021-04-10 02:17:33,112 >>\t5d2709d403f801723c32bd39\n",
      "[INFO] 2021-04-10 02:17:35,759 >>\t(10027, 1108)\n",
      "[INFO] 2021-04-10 02:18:12,960 >>\t0.998703500548519\n",
      "[INFO] 2021-04-10 02:18:13,014 >>\t5d2709e003f801723c32d896\n",
      "[INFO] 2021-04-10 02:18:14,787 >>\t(11042, 804)\n",
      "[INFO] 2021-04-10 02:18:56,032 >>\t0.9856909980076073\n",
      "[INFO] 2021-04-10 02:18:56,069 >>\t5da138274db8ce0c98bbd3d2\n",
      "[INFO] 2021-04-10 02:18:56,281 >>\t(2662, 263)\n",
      "[INFO] 2021-04-10 02:19:03,562 >>\t0.9958677685950413\n",
      "[INFO] 2021-04-10 02:19:03,575 >>\t5da1382d4db8ce0c98bbe92e\n",
      "[INFO] 2021-04-10 02:19:07,329 >>\t(8999, 1999)\n",
      "[INFO] 2021-04-10 02:20:22,531 >>\t0.9404378264251584\n",
      "[INFO] 2021-04-10 02:20:22,553 >>\t5da138314db8ce0c98bbf3a0\n",
      "[INFO] 2021-04-10 02:20:24,218 >>\t(9012, 896)\n",
      "[INFO] 2021-04-10 02:21:06,445 >>\t0.996005326231691\n",
      "[INFO] 2021-04-10 02:21:06,462 >>\t5da138364db8ce0c98bc00f1\n",
      "[INFO] 2021-04-10 02:21:06,797 >>\t(2767, 420)\n",
      "[INFO] 2021-04-10 02:21:15,722 >>\t1.0\n",
      "[INFO] 2021-04-10 02:21:15,737 >>\t5da1383b4db8ce0c98bc11ab\n",
      "[INFO] 2021-04-10 02:21:19,088 >>\t(13196, 1145)\n",
      "[INFO] 2021-04-10 02:21:48,179 >>\t0.9810548651106396\n",
      "[INFO] 2021-04-10 02:21:48,202 >>\t5da138754db8ce0c98bca82f\n",
      "[INFO] 2021-04-10 02:21:49,376 >>\t(7188, 778)\n",
      "[INFO] 2021-04-10 02:22:08,568 >>\t0.9870617696160268\n",
      "[INFO] 2021-04-10 02:22:08,597 >>\t5da138764db8ce0c98bcaa46\n",
      "[INFO] 2021-04-10 02:22:11,058 >>\t(9420, 1115)\n",
      "[INFO] 2021-04-10 02:22:48,386 >>\t0.9954352441613588\n",
      "[INFO] 2021-04-10 02:22:48,423 >>\t5da1389e4db8ce0c98bd0547\n",
      "[INFO] 2021-04-10 02:22:48,918 >>\t(6312, 346)\n",
      "[INFO] 2021-04-10 02:23:11,852 >>\t0.9946134347275032\n",
      "[INFO] 2021-04-10 02:23:11,874 >>\t5da138b74db8ce0c98bd4774\n",
      "[INFO] 2021-04-10 02:23:23,319 >>\t(17382, 2725)\n",
      "[INFO] 2021-04-10 02:26:42,385 >>\t0.9875158209642159\n",
      "[INFO] 2021-04-10 02:26:42,423 >>\t5da958dd46f8266d0737457b\n",
      "[INFO] 2021-04-10 02:26:52,639 >>\t(15148, 2699)\n",
      "[INFO] 2021-04-10 02:29:31,997 >>\t0.9846184314761025\n",
      "[INFO] 2021-04-10 02:29:32,037 >>\t5dbc1d84c1eb61796cf7c010\n",
      "[INFO] 2021-04-10 02:29:45,636 >>\t(16174, 3493)\n",
      "[INFO] 2021-04-10 02:36:03,877 >>\t0.9920242364288364\n",
      "[INFO] 2021-04-10 02:36:03,929 >>\t5dc8cea7659e181adb076a3f\n",
      "[INFO] 2021-04-10 02:36:13,550 >>\t(15655, 2576)\n",
      "[INFO] 2021-04-10 02:40:56,656 >>\t0.9839029064196743\n"
     ]
    },
    {
     "name": "stdout",
     "output_type": "stream",
     "text": [
      "overall:  0.9881530266343825\n"
     ]
    }
   ],
   "source": [
    "lgbm_params_f = {'objective': 'multiclass', 'metric': 'multi_logloss',\n",
    "                     'boosting_type': 'gbdt','tree_learner': 'serial',\n",
    "                     'learning_rate': 0.1, \"num_leaves\": 30, \n",
    "               'random_seed':44, 'n_estimators': 5000, 'verbose': -1}\n",
    "n_folds = 5\n",
    "kf = KFold(n_splits=n_folds, shuffle=True, random_state=224)\n",
    "predictions = list()\n",
    "\n",
    "all_f_pred = np.array([])\n",
    "all_f_label = np.array([])\n",
    "\n",
    "all_valid_f_df = []\n",
    "all_feat_imp_df = []\n",
    "\n",
    "for site in tqdm(all_sites):\n",
    "    get_logger(VERSION).info(site)\n",
    "    train_data = pd.read_csv(DATA_DIR+\"/\"+site+str(\"_train.csv\"), index_col=\"path\")\n",
    "    test_data = pd.read_csv(DATA_DIR+\"/\"+site+str(\"_test.csv\"))\n",
    "\n",
    "    train_paths = train_data.index.unique()\n",
    "    \n",
    "    if site in [\"5a0546857ecc773753327266\", \"5d27097f03f801723c320d97\", \n",
    "                \"5d2709bb03f801723c32852c\", \"5da1382d4db8ce0c98bbe92e\",\n",
    "                \"5da1383b4db8ce0c98bc11ab\", \"5da138754db8ce0c98bca82f\", \n",
    "                \"5da1389e4db8ce0c98bd0547\" , \"5dc8cea7659e181adb076a3f\"]:\n",
    "        non_targets = [i for i in train_data.columns if i not in [\"x\", \"y\", \"f\"]]\n",
    "    else:\n",
    "        non_targets = [i for i in train_data.columns if i not in [\"timestamp\", \"x\", \"y\", \"f\"]]\n",
    "\n",
    "    # predict floor first\n",
    "    X = train_data[non_targets+[\"f\"]]\n",
    "    X_test = test_data[non_targets]\n",
    "    get_logger(VERSION).info(X.shape)\n",
    "    \n",
    "    label_f = np.zeros([len(X)])\n",
    "    valid_f_pred = np.zeros([len(X)])\n",
    "    valid_f_path = [\"tmp\" for i in range(len(X))]\n",
    "    test_f_pred = np.zeros([len(test_data), n_folds])\n",
    "    feature_importance_df = pd.DataFrame(non_targets, columns=[\"Feature\"])\n",
    "    for fold, (tr_group_idx, val_group_idx) in enumerate(kf.split(train_paths)):\n",
    "        tr_paths, val_paths = train_paths[tr_group_idx], train_paths[val_group_idx]\n",
    "    \n",
    "        tmp = X.reset_index(drop=False)\n",
    "        val_index = tmp[tmp[\"path\"].isin(val_paths)].index\n",
    "        val_path = tmp.loc[val_index][\"path\"].values\n",
    "        \n",
    "        X_train = X[X.index.isin(tr_paths)].drop(\"f\", axis=1).reset_index(drop=True)\n",
    "        X_valid = X[X.index.isin(val_paths)].drop(\"f\", axis=1).reset_index(drop=True)\n",
    "        y_train = X[X.index.isin(tr_paths)][\"f\"].reset_index(drop=True)\n",
    "        y_valid = X[X.index.isin(val_paths)][\"f\"].reset_index(drop=True)\n",
    "    \n",
    "        lgb_train = lgb.Dataset(X_train, y_train)\n",
    "        lgb_eval = lgb.Dataset(X_valid, y_valid, reference=lgb_train)\n",
    "        \n",
    "        model = lgb.LGBMClassifier(**lgbm_params_f)\n",
    "        model.fit(X_train, y_train,\n",
    "                       eval_set=[(X_valid, y_valid)],\n",
    "                       eval_metric='multi_logloss',\n",
    "                       verbose=False,\n",
    "                       early_stopping_rounds=20\n",
    "                       )\n",
    "    \n",
    "        valid_f_pred[val_index] = model.predict(X_valid).astype(int)\n",
    "        for i, ind in enumerate(val_index):\n",
    "            valid_f_path[ind] = val_path[i]\n",
    "        \n",
    "        feature_importance_df[\"Fold_\"+str(fold+1)] = model.feature_importances_\n",
    "\n",
    "        label_f[val_index] = y_valid\n",
    "    \n",
    "        test_f_pred[:, fold] = model.predict(X_test).astype(int)\n",
    "        \n",
    "    feature_importance_df[\"Average\"] = np.mean(feature_importance_df.iloc[:,1:n_folds+1], axis=1)\n",
    "    feature_importance_df[\"Std\"] = np.std(feature_importance_df.iloc[:,1:n_folds+1], axis=1)\n",
    "    feature_importance_df[\"Cv\"] = feature_importance_df[\"Std\"] / feature_importance_df[\"Average\"]\n",
    "    feature_importance_df[\"site\"] = site\n",
    "        \n",
    "    all_f_pred = np.concatenate([all_f_pred, valid_f_pred])\n",
    "    all_f_label = np.concatenate([all_f_label, label_f])\n",
    "        \n",
    "    accuracy = accuracy_score(label_f, valid_f_pred)\n",
    "    get_logger(VERSION).info(accuracy)\n",
    "    valid_f_pred = pd.DataFrame(valid_f_pred)\n",
    "    valid_f_pred.columns = [\"floor\"]\n",
    "    valid_f_pred[\"path\"] = valid_f_path\n",
    "    valid_f_pred[\"site\"] = site\n",
    "    valid_f_pred[\"truth\"] = label_f\n",
    "        \n",
    "    preds_f_mode = stats.mode(test_f_pred, axis=1)\n",
    "    test_f_pred = preds_f_mode[0].astype(int).reshape(-1)\n",
    "    test_preds = pd.DataFrame(test_f_pred)\n",
    "    test_preds.columns = [\"floor\"]\n",
    "    test_preds.index = test_data[\"site_path_timestamp\"]\n",
    "    test_preds[\"floor\"] = test_preds[\"floor\"].astype(int)\n",
    "    predictions.append(test_preds)\n",
    "    \n",
    "    all_valid_f_df.append(valid_f_pred)\n",
    "    all_feat_imp_df.append(feature_importance_df)\n",
    "    \n",
    "all_valid_f_df = pd.concat(all_valid_f_df)\n",
    "all_feat_imp_df = pd.concat(all_feat_imp_df)\n",
    "\n",
    "print(\"overall: \", accuracy_score(all_valid_f_df.floor.astype(int).values, \n",
    "                                  all_valid_f_df.truth.astype(int).values))\n",
    "\n",
    "all_valid_f_df.to_csv(\"floor_prediction_in_train.csv\")\n",
    "all_feat_imp_df.to_csv(\"floor_feature_importance.csv\")"
   ]
  },
  {
   "cell_type": "code",
   "execution_count": 7,
   "id": "graduate-indie",
   "metadata": {
    "execution": {
     "iopub.execute_input": "2021-04-10T02:40:58.842309Z",
     "iopub.status.busy": "2021-04-10T02:40:58.841542Z",
     "iopub.status.idle": "2021-04-10T02:40:58.846654Z",
     "shell.execute_reply": "2021-04-10T02:40:58.847157Z"
    },
    "papermill": {
     "duration": 0.044631,
     "end_time": "2021-04-10T02:40:58.847387",
     "exception": false,
     "start_time": "2021-04-10T02:40:58.802756",
     "status": "completed"
    },
    "tags": []
   },
   "outputs": [],
   "source": [
    "# lgbm_params_f = {'objective': 'multiclass', 'metric': 'multi_logloss',\n",
    "#                      'boosting_type': 'gbdt','tree_learner': 'serial',\n",
    "#                      'learning_rate': 0.1, \"num_leaves\": 30, \n",
    "#                'random_seed':44, 'n_estimators': 5000, 'verbose': -1}\n",
    "# n_folds = 5\n",
    "# kf = KFold(n_splits=n_folds, shuffle=True, random_state=224)\n",
    "# predictions = list()\n",
    "\n",
    "# all_f_pred = np.array([])\n",
    "# all_f_label = np.array([])\n",
    "\n",
    "# all_valid_f_df = []\n",
    "# all_feat_imp_df = []\n",
    "\n",
    "# for file in tqdm(train_only_files):\n",
    "#     get_logger(VERSION).info(file)\n",
    "#     try:\n",
    "#         train_data = pd.read_csv(DATA_DIR+\"/\" +file, index_col=\"path\")\n",
    "\n",
    "#         train_paths = train_data.index.unique()\n",
    "#         non_targets = [i for i in train_data.columns if i not in [\"timestamp\", \"x\", \"y\", \"f\"]]\n",
    "\n",
    "#         # predict floor first\n",
    "#         X = train_data[non_targets+[\"f\"]]\n",
    "#         get_logger(VERSION).info(X.shape)\n",
    "    \n",
    "#         label_f = np.zeros([len(X)])\n",
    "#         valid_f_pred = np.zeros([len(X)])\n",
    "#         valid_f_path = [\"tmp\" for i in range(len(X))]\n",
    "#         feature_importance_df = pd.DataFrame(non_targets, columns=[\"Feature\"])\n",
    "#         for fold, (tr_group_idx, val_group_idx) in enumerate(kf.split(train_paths)):\n",
    "#             tr_paths, val_paths = train_paths[tr_group_idx], train_paths[val_group_idx]\n",
    "    \n",
    "#             tmp = X.reset_index(drop=False)\n",
    "#             val_index = tmp[tmp[\"path\"].isin(val_paths)].index\n",
    "#             val_path = tmp.loc[val_index][\"path\"].values\n",
    "        \n",
    "#             X_train = X[X.index.isin(tr_paths)].drop(\"f\", axis=1).reset_index(drop=True)\n",
    "#             X_valid = X[X.index.isin(val_paths)].drop(\"f\", axis=1).reset_index(drop=True)\n",
    "#             y_train = X[X.index.isin(tr_paths)][\"f\"].reset_index(drop=True)\n",
    "#             y_valid = X[X.index.isin(val_paths)][\"f\"].reset_index(drop=True)\n",
    "    \n",
    "#             lgb_train = lgb.Dataset(X_train, y_train)\n",
    "#             lgb_eval = lgb.Dataset(X_valid, y_valid, reference=lgb_train)\n",
    "        \n",
    "#             model = lgb.LGBMClassifier(**lgbm_params_f)\n",
    "#             model.fit(X_train, y_train,\n",
    "#                        eval_set=[(X_valid, y_valid)],\n",
    "#                        eval_metric='multi_logloss',\n",
    "#                        verbose=False,\n",
    "#                        early_stopping_rounds=20\n",
    "#                        )\n",
    "    \n",
    "#             valid_f_pred[val_index] = model.predict(X_valid).astype(int)\n",
    "#             for i, ind in enumerate(val_index):\n",
    "#                 valid_f_path[ind] = val_path[i]\n",
    "        \n",
    "#             feature_importance_df[\"Fold_\"+str(fold+1)] = model.feature_importances_\n",
    "\n",
    "#             label_f[val_index] = y_valid\n",
    "            \n",
    "#         feature_importance_df[\"Average\"] = np.mean(feature_importance_df.iloc[:,1:n_folds+1], axis=1)\n",
    "#         feature_importance_df[\"Std\"] = np.std(feature_importance_df.iloc[:,1:n_folds+1], axis=1)\n",
    "#         feature_importance_df[\"Cv\"] = feature_importance_df[\"Std\"] / feature_importance_df[\"Average\"]\n",
    "#         feature_importance_df[\"site\"] = file.split(\"_\")[0]\n",
    "        \n",
    "#         all_f_pred = np.concatenate([all_f_pred, valid_f_pred])\n",
    "#         all_f_label = np.concatenate([all_f_label, label_f])\n",
    "        \n",
    "#         accuracy = accuracy_score(label_f, valid_f_pred)\n",
    "#         get_logger(VERSION).info(accuracy)\n",
    "#         valid_f_pred = pd.DataFrame(valid_f_pred)\n",
    "#         valid_f_pred.columns = [\"floor\"]\n",
    "#         valid_f_pred[\"path\"] = valid_f_path\n",
    "#         valid_f_pred[\"site\"] = file.split(\"_\")[0]\n",
    "#         valid_f_pred[\"truth\"] = label_f\n",
    "            \n",
    "#         all_valid_f_df.append(valid_f_pred)\n",
    "#         all_feat_imp_df.append(feature_importance_df)\n",
    "    \n",
    "#     except:\n",
    "#         get_logger(VERSION).info(\"pass\")\n",
    "    \n",
    "# all_valid_f_df = pd.concat(all_valid_f_df)\n",
    "# all_feat_imp_df = pd.concat(all_feat_imp_df)\n",
    "\n",
    "# print(\"overall: \", accuracy_score(all_valid_f_df.floor.astype(int).values, \n",
    "#                                   all_valid_f_df.truth.astype(int).values))\n",
    "\n",
    "# all_valid_f_df.to_csv(\"floor_prediction_in_train_only.csv\")\n",
    "# all_feat_imp_df.to_csv(\"floor_feature_importance_train_only.csv\")"
   ]
  },
  {
   "cell_type": "markdown",
   "id": "disturbed-commitment",
   "metadata": {
    "papermill": {
     "duration": 0.042095,
     "end_time": "2021-04-10T02:40:58.924438",
     "exception": false,
     "start_time": "2021-04-10T02:40:58.882343",
     "status": "completed"
    },
    "tags": []
   },
   "source": [
    "# postprocess"
   ]
  },
  {
   "cell_type": "code",
   "execution_count": 8,
   "id": "balanced-sperm",
   "metadata": {
    "execution": {
     "iopub.execute_input": "2021-04-10T02:40:59.031740Z",
     "iopub.status.busy": "2021-04-10T02:40:59.031033Z",
     "iopub.status.idle": "2021-04-10T02:40:59.035297Z",
     "shell.execute_reply": "2021-04-10T02:40:59.034568Z"
    },
    "papermill": {
     "duration": 0.060763,
     "end_time": "2021-04-10T02:40:59.035467",
     "exception": false,
     "start_time": "2021-04-10T02:40:58.974704",
     "status": "completed"
    },
    "tags": []
   },
   "outputs": [],
   "source": [
    "all_preds = pd.concat(predictions)"
   ]
  },
  {
   "cell_type": "markdown",
   "id": "thermal-singles",
   "metadata": {
    "papermill": {
     "duration": 0.038373,
     "end_time": "2021-04-10T02:40:59.110503",
     "exception": false,
     "start_time": "2021-04-10T02:40:59.072130",
     "status": "completed"
    },
    "tags": []
   },
   "source": [
    "# submission"
   ]
  },
  {
   "cell_type": "code",
   "execution_count": 9,
   "id": "worth-withdrawal",
   "metadata": {
    "execution": {
     "iopub.execute_input": "2021-04-10T02:40:59.201400Z",
     "iopub.status.busy": "2021-04-10T02:40:59.200736Z",
     "iopub.status.idle": "2021-04-10T02:40:59.252104Z",
     "shell.execute_reply": "2021-04-10T02:40:59.251304Z"
    },
    "papermill": {
     "duration": 0.09748,
     "end_time": "2021-04-10T02:40:59.252297",
     "exception": false,
     "start_time": "2021-04-10T02:40:59.154817",
     "status": "completed"
    },
    "tags": []
   },
   "outputs": [],
   "source": [
    "all_preds = all_preds.sort_values(\"site_path_timestamp\")\n",
    "all_preds.to_csv('submission.csv')"
   ]
  },
  {
   "cell_type": "code",
   "execution_count": null,
   "id": "ruled-telescope",
   "metadata": {
    "papermill": {
     "duration": 0.035942,
     "end_time": "2021-04-10T02:40:59.323573",
     "exception": false,
     "start_time": "2021-04-10T02:40:59.287631",
     "status": "completed"
    },
    "tags": []
   },
   "outputs": [],
   "source": []
  }
 ],
 "metadata": {
  "kernelspec": {
   "display_name": "Python 3",
   "language": "python",
   "name": "python3"
  },
  "language_info": {
   "codemirror_mode": {
    "name": "ipython",
    "version": 3
   },
   "file_extension": ".py",
   "mimetype": "text/x-python",
   "name": "python",
   "nbconvert_exporter": "python",
   "pygments_lexer": "ipython3",
   "version": "3.7.9"
  },
  "papermill": {
   "default_parameters": {},
   "duration": 2803.945329,
   "end_time": "2021-04-10T02:41:00.174138",
   "environment_variables": {},
   "exception": null,
   "input_path": "__notebook__.ipynb",
   "output_path": "__notebook__.ipynb",
   "parameters": {},
   "start_time": "2021-04-10T01:54:16.228809",
   "version": "2.3.2"
  },
  "widgets": {
   "application/vnd.jupyter.widget-state+json": {
    "state": {
     "2f1b4d87f7124dcc9541baf342eb4056": {
      "model_module": "@jupyter-widgets/controls",
      "model_module_version": "1.5.0",
      "model_name": "FloatProgressModel",
      "state": {
       "_dom_classes": [],
       "_model_module": "@jupyter-widgets/controls",
       "_model_module_version": "1.5.0",
       "_model_name": "FloatProgressModel",
       "_view_count": null,
       "_view_module": "@jupyter-widgets/controls",
       "_view_module_version": "1.5.0",
       "_view_name": "ProgressView",
       "bar_style": "success",
       "description": "",
       "description_tooltip": null,
       "layout": "IPY_MODEL_6d74b29be36e4e12af4555466e498ea6",
       "max": 24.0,
       "min": 0.0,
       "orientation": "horizontal",
       "style": "IPY_MODEL_f20fa16292874eeab0f35de0635f8f96",
       "value": 24.0
      }
     },
     "5e28326f9b794852adb5f140c1569faa": {
      "model_module": "@jupyter-widgets/controls",
      "model_module_version": "1.5.0",
      "model_name": "HBoxModel",
      "state": {
       "_dom_classes": [],
       "_model_module": "@jupyter-widgets/controls",
       "_model_module_version": "1.5.0",
       "_model_name": "HBoxModel",
       "_view_count": null,
       "_view_module": "@jupyter-widgets/controls",
       "_view_module_version": "1.5.0",
       "_view_name": "HBoxView",
       "box_style": "",
       "children": [
        "IPY_MODEL_7f97dd9dab4e4829834b7a562677b96e",
        "IPY_MODEL_2f1b4d87f7124dcc9541baf342eb4056",
        "IPY_MODEL_b89efdacf856451a897af60f7f87bfa2"
       ],
       "layout": "IPY_MODEL_b64fdb9b08d2415ea6f603cdb8c00e4f"
      }
     },
     "61f441ff2bfb4c8db977ed4b2bbc41fc": {
      "model_module": "@jupyter-widgets/controls",
      "model_module_version": "1.5.0",
      "model_name": "DescriptionStyleModel",
      "state": {
       "_model_module": "@jupyter-widgets/controls",
       "_model_module_version": "1.5.0",
       "_model_name": "DescriptionStyleModel",
       "_view_count": null,
       "_view_module": "@jupyter-widgets/base",
       "_view_module_version": "1.2.0",
       "_view_name": "StyleView",
       "description_width": ""
      }
     },
     "6d74b29be36e4e12af4555466e498ea6": {
      "model_module": "@jupyter-widgets/base",
      "model_module_version": "1.2.0",
      "model_name": "LayoutModel",
      "state": {
       "_model_module": "@jupyter-widgets/base",
       "_model_module_version": "1.2.0",
       "_model_name": "LayoutModel",
       "_view_count": null,
       "_view_module": "@jupyter-widgets/base",
       "_view_module_version": "1.2.0",
       "_view_name": "LayoutView",
       "align_content": null,
       "align_items": null,
       "align_self": null,
       "border": null,
       "bottom": null,
       "display": null,
       "flex": null,
       "flex_flow": null,
       "grid_area": null,
       "grid_auto_columns": null,
       "grid_auto_flow": null,
       "grid_auto_rows": null,
       "grid_column": null,
       "grid_gap": null,
       "grid_row": null,
       "grid_template_areas": null,
       "grid_template_columns": null,
       "grid_template_rows": null,
       "height": null,
       "justify_content": null,
       "justify_items": null,
       "left": null,
       "margin": null,
       "max_height": null,
       "max_width": null,
       "min_height": null,
       "min_width": null,
       "object_fit": null,
       "object_position": null,
       "order": null,
       "overflow": null,
       "overflow_x": null,
       "overflow_y": null,
       "padding": null,
       "right": null,
       "top": null,
       "visibility": null,
       "width": null
      }
     },
     "6e54f60c358c441089fe5bd670308c56": {
      "model_module": "@jupyter-widgets/base",
      "model_module_version": "1.2.0",
      "model_name": "LayoutModel",
      "state": {
       "_model_module": "@jupyter-widgets/base",
       "_model_module_version": "1.2.0",
       "_model_name": "LayoutModel",
       "_view_count": null,
       "_view_module": "@jupyter-widgets/base",
       "_view_module_version": "1.2.0",
       "_view_name": "LayoutView",
       "align_content": null,
       "align_items": null,
       "align_self": null,
       "border": null,
       "bottom": null,
       "display": null,
       "flex": null,
       "flex_flow": null,
       "grid_area": null,
       "grid_auto_columns": null,
       "grid_auto_flow": null,
       "grid_auto_rows": null,
       "grid_column": null,
       "grid_gap": null,
       "grid_row": null,
       "grid_template_areas": null,
       "grid_template_columns": null,
       "grid_template_rows": null,
       "height": null,
       "justify_content": null,
       "justify_items": null,
       "left": null,
       "margin": null,
       "max_height": null,
       "max_width": null,
       "min_height": null,
       "min_width": null,
       "object_fit": null,
       "object_position": null,
       "order": null,
       "overflow": null,
       "overflow_x": null,
       "overflow_y": null,
       "padding": null,
       "right": null,
       "top": null,
       "visibility": null,
       "width": null
      }
     },
     "7f97dd9dab4e4829834b7a562677b96e": {
      "model_module": "@jupyter-widgets/controls",
      "model_module_version": "1.5.0",
      "model_name": "HTMLModel",
      "state": {
       "_dom_classes": [],
       "_model_module": "@jupyter-widgets/controls",
       "_model_module_version": "1.5.0",
       "_model_name": "HTMLModel",
       "_view_count": null,
       "_view_module": "@jupyter-widgets/controls",
       "_view_module_version": "1.5.0",
       "_view_name": "HTMLView",
       "description": "",
       "description_tooltip": null,
       "layout": "IPY_MODEL_f773077e98ee482493738659ece56c42",
       "placeholder": "​",
       "style": "IPY_MODEL_61f441ff2bfb4c8db977ed4b2bbc41fc",
       "value": "100%"
      }
     },
     "b64fdb9b08d2415ea6f603cdb8c00e4f": {
      "model_module": "@jupyter-widgets/base",
      "model_module_version": "1.2.0",
      "model_name": "LayoutModel",
      "state": {
       "_model_module": "@jupyter-widgets/base",
       "_model_module_version": "1.2.0",
       "_model_name": "LayoutModel",
       "_view_count": null,
       "_view_module": "@jupyter-widgets/base",
       "_view_module_version": "1.2.0",
       "_view_name": "LayoutView",
       "align_content": null,
       "align_items": null,
       "align_self": null,
       "border": null,
       "bottom": null,
       "display": null,
       "flex": null,
       "flex_flow": null,
       "grid_area": null,
       "grid_auto_columns": null,
       "grid_auto_flow": null,
       "grid_auto_rows": null,
       "grid_column": null,
       "grid_gap": null,
       "grid_row": null,
       "grid_template_areas": null,
       "grid_template_columns": null,
       "grid_template_rows": null,
       "height": null,
       "justify_content": null,
       "justify_items": null,
       "left": null,
       "margin": null,
       "max_height": null,
       "max_width": null,
       "min_height": null,
       "min_width": null,
       "object_fit": null,
       "object_position": null,
       "order": null,
       "overflow": null,
       "overflow_x": null,
       "overflow_y": null,
       "padding": null,
       "right": null,
       "top": null,
       "visibility": null,
       "width": null
      }
     },
     "b89efdacf856451a897af60f7f87bfa2": {
      "model_module": "@jupyter-widgets/controls",
      "model_module_version": "1.5.0",
      "model_name": "HTMLModel",
      "state": {
       "_dom_classes": [],
       "_model_module": "@jupyter-widgets/controls",
       "_model_module_version": "1.5.0",
       "_model_name": "HTMLModel",
       "_view_count": null,
       "_view_module": "@jupyter-widgets/controls",
       "_view_module_version": "1.5.0",
       "_view_name": "HTMLView",
       "description": "",
       "description_tooltip": null,
       "layout": "IPY_MODEL_6e54f60c358c441089fe5bd670308c56",
       "placeholder": "​",
       "style": "IPY_MODEL_fb403f2f5cc046fc81b492bb94c35526",
       "value": " 24/24 [46:31&lt;00:00, 224.80s/it]"
      }
     },
     "f20fa16292874eeab0f35de0635f8f96": {
      "model_module": "@jupyter-widgets/controls",
      "model_module_version": "1.5.0",
      "model_name": "ProgressStyleModel",
      "state": {
       "_model_module": "@jupyter-widgets/controls",
       "_model_module_version": "1.5.0",
       "_model_name": "ProgressStyleModel",
       "_view_count": null,
       "_view_module": "@jupyter-widgets/base",
       "_view_module_version": "1.2.0",
       "_view_name": "StyleView",
       "bar_color": null,
       "description_width": ""
      }
     },
     "f773077e98ee482493738659ece56c42": {
      "model_module": "@jupyter-widgets/base",
      "model_module_version": "1.2.0",
      "model_name": "LayoutModel",
      "state": {
       "_model_module": "@jupyter-widgets/base",
       "_model_module_version": "1.2.0",
       "_model_name": "LayoutModel",
       "_view_count": null,
       "_view_module": "@jupyter-widgets/base",
       "_view_module_version": "1.2.0",
       "_view_name": "LayoutView",
       "align_content": null,
       "align_items": null,
       "align_self": null,
       "border": null,
       "bottom": null,
       "display": null,
       "flex": null,
       "flex_flow": null,
       "grid_area": null,
       "grid_auto_columns": null,
       "grid_auto_flow": null,
       "grid_auto_rows": null,
       "grid_column": null,
       "grid_gap": null,
       "grid_row": null,
       "grid_template_areas": null,
       "grid_template_columns": null,
       "grid_template_rows": null,
       "height": null,
       "justify_content": null,
       "justify_items": null,
       "left": null,
       "margin": null,
       "max_height": null,
       "max_width": null,
       "min_height": null,
       "min_width": null,
       "object_fit": null,
       "object_position": null,
       "order": null,
       "overflow": null,
       "overflow_x": null,
       "overflow_y": null,
       "padding": null,
       "right": null,
       "top": null,
       "visibility": null,
       "width": null
      }
     },
     "fb403f2f5cc046fc81b492bb94c35526": {
      "model_module": "@jupyter-widgets/controls",
      "model_module_version": "1.5.0",
      "model_name": "DescriptionStyleModel",
      "state": {
       "_model_module": "@jupyter-widgets/controls",
       "_model_module_version": "1.5.0",
       "_model_name": "DescriptionStyleModel",
       "_view_count": null,
       "_view_module": "@jupyter-widgets/base",
       "_view_module_version": "1.2.0",
       "_view_name": "StyleView",
       "description_width": ""
      }
     }
    },
    "version_major": 2,
    "version_minor": 0
   }
  }
 },
 "nbformat": 4,
 "nbformat_minor": 5
}
