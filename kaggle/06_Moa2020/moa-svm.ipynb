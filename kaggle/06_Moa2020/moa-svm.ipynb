{
 "cells": [
  {
   "cell_type": "markdown",
   "metadata": {
    "papermill": {
     "duration": 0.017654,
     "end_time": "2020-11-09T01:32:24.164523",
     "exception": false,
     "start_time": "2020-11-09T01:32:24.146869",
     "status": "completed"
    },
    "tags": []
   },
   "source": [
    "- incorporate validation method\n",
    "- vaildation seed change\n",
    "- modify mistake\n",
    "- validation threshold 19"
   ]
  },
  {
   "cell_type": "code",
   "execution_count": 1,
   "metadata": {
    "_cell_guid": "b1076dfc-b9ad-4769-8c92-a6c4dae69d19",
    "_uuid": "8f2839f25d086af736a60e9eeb907d3b93b6e0e5",
    "execution": {
     "iopub.execute_input": "2020-11-09T01:32:24.208952Z",
     "iopub.status.busy": "2020-11-09T01:32:24.205482Z",
     "iopub.status.idle": "2020-11-09T01:33:43.111929Z",
     "shell.execute_reply": "2020-11-09T01:33:43.111005Z"
    },
    "papermill": {
     "duration": 78.933669,
     "end_time": "2020-11-09T01:33:43.112124",
     "exception": false,
     "start_time": "2020-11-09T01:32:24.178455",
     "status": "completed"
    },
    "tags": []
   },
   "outputs": [],
   "source": [
    "import sys\n",
    "!cp ../input/rapids/rapids.0.15.0 /opt/conda/envs/rapids.tar.gz\n",
    "!cd /opt/conda/envs/ && tar -xzvf rapids.tar.gz > /dev/null\n",
    "sys.path = [\"/opt/conda/envs/rapids/lib/python3.7/site-packages\"] + sys.path\n",
    "sys.path = [\"/opt/conda/envs/rapids/lib/python3.7\"] + sys.path\n",
    "sys.path = [\"/opt/conda/envs/rapids/lib\"] + sys.path\n",
    "!cp /opt/conda/envs/rapids/lib/libxgboost.so /opt/conda/lib/"
   ]
  },
  {
   "cell_type": "code",
   "execution_count": 2,
   "metadata": {
    "_cell_guid": "79c7e3d0-c299-4dcb-8224-4455121ee9b0",
    "_uuid": "d629ff2d2480ee46fbb7e2d37f6b5fab8052498a",
    "execution": {
     "iopub.execute_input": "2020-11-09T01:33:47.676105Z",
     "iopub.status.busy": "2020-11-09T01:33:47.674989Z",
     "iopub.status.idle": "2020-11-09T01:33:51.886575Z",
     "shell.execute_reply": "2020-11-09T01:33:51.892456Z"
    },
    "papermill": {
     "duration": 4.249001,
     "end_time": "2020-11-09T01:33:51.895139",
     "exception": false,
     "start_time": "2020-11-09T01:33:47.646138",
     "status": "completed"
    },
    "tags": []
   },
   "outputs": [],
   "source": [
    "import os\n",
    "import warnings\n",
    "import numpy as np\n",
    "import pandas as pd \n",
    "import matplotlib.pyplot as plt\n",
    "from sklearn import preprocessing\n",
    "from sklearn.metrics import log_loss\n",
    "from sklearn.decomposition import PCA\n",
    "from sklearn.pipeline import Pipeline\n",
    "from tqdm import tqdm_notebook as tqdm\n",
    "from category_encoders import CountEncoder\n",
    "from sklearn.multioutput import MultiOutputClassifier\n",
    "from sklearn.model_selection import KFold, StratifiedKFold\n",
    "sys.path.append('../input/multilabelstraifier/')\n",
    "from ml_stratifiers import MultilabelStratifiedKFold\n",
    "warnings.filterwarnings('ignore')\n",
    "\n",
    "from sklearn.kernel_approximation import Nystroem\n",
    "from sklearn.isotonic import IsotonicRegression\n",
    "from sklearn.linear_model import LogisticRegression\n",
    "from sklearn.kernel_ridge import KernelRidge\n",
    "from cuml.svm import SVC, SVR"
   ]
  },
  {
   "cell_type": "markdown",
   "metadata": {
    "papermill": {
     "duration": 0.178074,
     "end_time": "2020-11-09T01:33:52.162091",
     "exception": false,
     "start_time": "2020-11-09T01:33:51.984017",
     "status": "completed"
    },
    "tags": []
   },
   "source": [
    "# preprocess"
   ]
  },
  {
   "cell_type": "code",
   "execution_count": 3,
   "metadata": {
    "execution": {
     "iopub.execute_input": "2020-11-09T01:33:52.237663Z",
     "iopub.status.busy": "2020-11-09T01:33:52.232707Z",
     "iopub.status.idle": "2020-11-09T01:33:58.975180Z",
     "shell.execute_reply": "2020-11-09T01:33:58.973933Z"
    },
    "papermill": {
     "duration": 6.775839,
     "end_time": "2020-11-09T01:33:58.975314",
     "exception": false,
     "start_time": "2020-11-09T01:33:52.199475",
     "status": "completed"
    },
    "tags": []
   },
   "outputs": [],
   "source": [
    "DATA_DIR = '/kaggle/input/lish-moa/'\n",
    "train = pd.read_csv(DATA_DIR + 'train_features.csv')\n",
    "targets = pd.read_csv(DATA_DIR + 'train_targets_scored.csv')\n",
    "test = pd.read_csv(DATA_DIR + 'test_features.csv')\n",
    "drug = pd.read_csv(DATA_DIR + 'train_drug.csv')"
   ]
  },
  {
   "cell_type": "code",
   "execution_count": 4,
   "metadata": {
    "execution": {
     "iopub.execute_input": "2020-11-09T01:33:59.013253Z",
     "iopub.status.busy": "2020-11-09T01:33:59.012439Z",
     "iopub.status.idle": "2020-11-09T01:33:59.016825Z",
     "shell.execute_reply": "2020-11-09T01:33:59.016288Z"
    },
    "papermill": {
     "duration": 0.026129,
     "end_time": "2020-11-09T01:33:59.016926",
     "exception": false,
     "start_time": "2020-11-09T01:33:58.990797",
     "status": "completed"
    },
    "tags": []
   },
   "outputs": [],
   "source": [
    "target_feats = [ i for i in targets.columns if i != \"sig_id\"]\n",
    "g_feats = [i for i in train.columns if \"g-\" in i]\n",
    "c_feats = [i for i in train.columns if \"c-\" in i]"
   ]
  },
  {
   "cell_type": "code",
   "execution_count": 5,
   "metadata": {
    "execution": {
     "iopub.execute_input": "2020-11-09T01:33:59.062439Z",
     "iopub.status.busy": "2020-11-09T01:33:59.061530Z",
     "iopub.status.idle": "2020-11-09T01:33:59.548432Z",
     "shell.execute_reply": "2020-11-09T01:33:59.549184Z"
    },
    "papermill": {
     "duration": 0.51678,
     "end_time": "2020-11-09T01:33:59.549347",
     "exception": false,
     "start_time": "2020-11-09T01:33:59.032567",
     "status": "completed"
    },
    "tags": []
   },
   "outputs": [],
   "source": [
    "noncons_train_index = train[train.cp_type==\"ctl_vehicle\"].index\n",
    "cons_train_index = train[train.cp_type!=\"ctl_vehicle\"].index\n",
    "noncons_test_index = test[test.cp_type==\"ctl_vehicle\"].index\n",
    "cons_test_index = test[test.cp_type!=\"ctl_vehicle\"].index\n",
    "\n",
    "y = targets.drop(\"sig_id\", axis=1).copy()\n",
    "test = test[test.index.isin(cons_test_index)].reset_index(drop=True)\n",
    "train = train[train.index.isin(cons_train_index)].reset_index(drop=True)\n",
    "targets = targets[targets.index.isin(cons_train_index)].reset_index(drop=True)\n",
    "fn_targets = targets.drop(\"sig_id\", axis=1).copy().to_numpy()"
   ]
  },
  {
   "cell_type": "code",
   "execution_count": 6,
   "metadata": {
    "execution": {
     "iopub.execute_input": "2020-11-09T01:33:59.621102Z",
     "iopub.status.busy": "2020-11-09T01:33:59.620008Z",
     "iopub.status.idle": "2020-11-09T01:34:00.498816Z",
     "shell.execute_reply": "2020-11-09T01:34:00.499968Z"
    },
    "papermill": {
     "duration": 0.924882,
     "end_time": "2020-11-09T01:34:00.500155",
     "exception": false,
     "start_time": "2020-11-09T01:33:59.575273",
     "status": "completed"
    },
    "tags": []
   },
   "outputs": [
    {
     "data": {
      "text/plain": [
       "array([[4, 4, 1, ..., 0, 1, 4]], dtype=int8)"
      ]
     },
     "execution_count": 6,
     "metadata": {},
     "output_type": "execute_result"
    }
   ],
   "source": [
    "# https://www.kaggle.com/c/lish-moa/discussion/195195\n",
    "N_SPLITS = 5\n",
    "seed = 14\n",
    "\n",
    "folds = []\n",
    "    \n",
    "# LOAD FILES\n",
    "train_score = targets.merge(drug, on='sig_id', how='left') \n",
    "\n",
    "# LOCATE DRUGS\n",
    "vc = train_score.drug_id.value_counts()\n",
    "vc1 = vc.loc[vc <= 19].index.sort_values()\n",
    "vc2 = vc.loc[vc > 19].index.sort_values()\n",
    "    \n",
    "# STRATIFY DRUGS 18X OR LESS\n",
    "dct1 = {}; dct2 = {}\n",
    "skf = MultilabelStratifiedKFold(n_splits = N_SPLITS, shuffle = True, random_state = seed)\n",
    "tmp = train_score.groupby('drug_id')[target_feats].mean().loc[vc1]\n",
    "for fold,(idxT,idxV) in enumerate(skf.split(tmp,tmp[target_feats])):\n",
    "    dd = {k:fold for k in tmp.index[idxV].values}\n",
    "    dct1.update(dd)\n",
    "\n",
    "# STRATIFY DRUGS MORE THAN 18X\n",
    "skf = MultilabelStratifiedKFold(n_splits = N_SPLITS, shuffle = True, random_state = seed)\n",
    "tmp = train_score.loc[train_score.drug_id.isin(vc2)].reset_index(drop = True)\n",
    "for fold,(idxT,idxV) in enumerate(skf.split(tmp,tmp[target_feats])):\n",
    "    dd = {k:fold for k in tmp.sig_id[idxV].values}\n",
    "    dct2.update(dd)\n",
    "    \n",
    "# ASSIGN FOLDS\n",
    "train_score['fold'] = train_score.drug_id.map(dct1)\n",
    "train_score.loc[train_score.fold.isna(),'fold'] = train_score.loc[train_score.fold.isna(),'sig_id'].map(dct2)\n",
    "train_score.fold = train_score.fold.astype('int8')\n",
    "folds.append(train_score.fold.values)\n",
    "    \n",
    "np.array(folds)"
   ]
  },
  {
   "cell_type": "code",
   "execution_count": 7,
   "metadata": {
    "execution": {
     "iopub.execute_input": "2020-11-09T01:34:00.561532Z",
     "iopub.status.busy": "2020-11-09T01:34:00.560597Z",
     "iopub.status.idle": "2020-11-09T01:34:01.516938Z",
     "shell.execute_reply": "2020-11-09T01:34:01.518267Z"
    },
    "papermill": {
     "duration": 0.992743,
     "end_time": "2020-11-09T01:34:01.518475",
     "exception": false,
     "start_time": "2020-11-09T01:34:00.525732",
     "status": "completed"
    },
    "tags": []
   },
   "outputs": [],
   "source": [
    "target_feats = [i for i in targets.columns if i != \"sig_id\"]\n",
    "\n",
    "check_dist = targets.copy()\n",
    "check_dist[\"fold\"] = np.array(folds).reshape(-1,1)\n",
    "\n",
    "noncons_feats = []\n",
    "for ind, i in enumerate(target_feats):\n",
    "    if np.max(check_dist.loc[:,[i]+[\"fold\"]].groupby(\"fold\").sum()).values[0] == check_dist[i].sum() and check_dist[i].sum()>=5:\n",
    "        noncons_feats.append(ind)"
   ]
  },
  {
   "cell_type": "markdown",
   "metadata": {
    "papermill": {
     "duration": 0.016341,
     "end_time": "2020-11-09T01:34:01.558834",
     "exception": false,
     "start_time": "2020-11-09T01:34:01.542493",
     "status": "completed"
    },
    "tags": []
   },
   "source": [
    "# Feature engineering"
   ]
  },
  {
   "cell_type": "code",
   "execution_count": 8,
   "metadata": {
    "execution": {
     "iopub.execute_input": "2020-11-09T01:34:01.600400Z",
     "iopub.status.busy": "2020-11-09T01:34:01.599268Z",
     "iopub.status.idle": "2020-11-09T01:34:02.649387Z",
     "shell.execute_reply": "2020-11-09T01:34:02.648441Z"
    },
    "papermill": {
     "duration": 1.073479,
     "end_time": "2020-11-09T01:34:02.649508",
     "exception": false,
     "start_time": "2020-11-09T01:34:01.576029",
     "status": "completed"
    },
    "tags": []
   },
   "outputs": [],
   "source": [
    "for i in c_feats + g_feats:\n",
    "    ss = preprocessing.StandardScaler()\n",
    "    ss.fit(train[i].values.reshape(-1,1))\n",
    "    train[i] = ss.transform(train[i].values.reshape(-1,1))\n",
    "    test[i] = ss.transform(test[i].values.reshape(-1,1))"
   ]
  },
  {
   "cell_type": "code",
   "execution_count": 9,
   "metadata": {
    "execution": {
     "iopub.execute_input": "2020-11-09T01:34:02.693804Z",
     "iopub.status.busy": "2020-11-09T01:34:02.692461Z",
     "iopub.status.idle": "2020-11-09T01:34:02.883030Z",
     "shell.execute_reply": "2020-11-09T01:34:02.883554Z"
    },
    "papermill": {
     "duration": 0.217138,
     "end_time": "2020-11-09T01:34:02.883704",
     "exception": false,
     "start_time": "2020-11-09T01:34:02.666566",
     "status": "completed"
    },
    "tags": []
   },
   "outputs": [
    {
     "name": "stdout",
     "output_type": "stream",
     "text": [
      "(21948, 875) (3624, 874)\n"
     ]
    }
   ],
   "source": [
    "def fe_simple(df, remove_features):\n",
    "    tmp = df.copy()\n",
    "    tmp.drop(remove_features, axis=1, inplace=True)\n",
    "    tmp.loc[:, 'cp_dose'] = tmp.loc[:, 'cp_dose'].map({'D1': 0, 'D2': 1})\n",
    "    return tmp\n",
    "\n",
    "remove_features = [\"cp_type\" , \"sig_id\"]\n",
    "train_fn = fe_simple(train, remove_features)\n",
    "test_fn = fe_simple(test, remove_features)\n",
    "train_fn[\"fold\"] = np.array(folds).reshape(-1,1)\n",
    "\n",
    "print(train_fn.shape, test_fn.shape)"
   ]
  },
  {
   "cell_type": "code",
   "execution_count": 10,
   "metadata": {
    "execution": {
     "iopub.execute_input": "2020-11-09T01:34:02.923829Z",
     "iopub.status.busy": "2020-11-09T01:34:02.922542Z",
     "iopub.status.idle": "2020-11-09T01:34:03.115328Z",
     "shell.execute_reply": "2020-11-09T01:34:03.114720Z"
    },
    "papermill": {
     "duration": 0.213962,
     "end_time": "2020-11-09T01:34:03.115439",
     "exception": false,
     "start_time": "2020-11-09T01:34:02.901477",
     "status": "completed"
    },
    "tags": []
   },
   "outputs": [],
   "source": [
    "fn_train = train_fn.copy().to_numpy()\n",
    "fn_test = test_fn.copy().to_numpy()"
   ]
  },
  {
   "cell_type": "markdown",
   "metadata": {
    "papermill": {
     "duration": 0.017341,
     "end_time": "2020-11-09T01:34:03.159453",
     "exception": false,
     "start_time": "2020-11-09T01:34:03.142112",
     "status": "completed"
    },
    "tags": []
   },
   "source": [
    "# modelling"
   ]
  },
  {
   "cell_type": "code",
   "execution_count": 11,
   "metadata": {
    "execution": {
     "iopub.execute_input": "2020-11-09T01:34:03.221459Z",
     "iopub.status.busy": "2020-11-09T01:34:03.219368Z",
     "iopub.status.idle": "2020-11-09T01:34:03.222248Z",
     "shell.execute_reply": "2020-11-09T01:34:03.222740Z"
    },
    "papermill": {
     "duration": 0.046275,
     "end_time": "2020-11-09T01:34:03.222870",
     "exception": false,
     "start_time": "2020-11-09T01:34:03.176595",
     "status": "completed"
    },
    "tags": []
   },
   "outputs": [],
   "source": [
    "N_STARTS = 1\n",
    "\n",
    "def modelling_svm(tr, ta, te):\n",
    "    svm0_oof = np.zeros([len(tr), ta.shape[1]])\n",
    "    svm0_test = np.zeros([len(te), ta.shape[1]])\n",
    "\n",
    "    svm1_test = np.zeros([len(te),ta.shape[1]])\n",
    "    svm1_oof = np.zeros([ta.shape[0],ta.shape[1]]) \n",
    "\n",
    "    for ind in tqdm(range(ta.shape[1])):\n",
    "        ind_target_sum = ta[:, ind].sum()\n",
    "        if ind_target_sum >= N_SPLITS and ind not in noncons_feats:\n",
    "            for seed in range(N_STARTS):\n",
    "                for n in range(N_SPLITS):\n",
    "                    val_index = tr[:,-1] == n\n",
    "                    train_index = tr[:,-1] != n\n",
    "                    x_tr, x_val = tr[train_index], tr[val_index]\n",
    "                    y_tr, y_val = ta[train_index,ind], ta[val_index,ind]\n",
    "                    x_tr = np.delete(x_tr, -1, 1)\n",
    "                    x_val = np.delete(x_val, -1, 1)\n",
    "                    model = SVC(C = 40, cache_size = 2000)\n",
    "                    model.fit(x_tr, y_tr)\n",
    "                    svm0_test[:, ind] += model.decision_function(te) / (N_SPLITS * N_STARTS)\n",
    "                    svm0_oof[val_index, ind] += model.decision_function(x_val) / N_STARTS\n",
    "                    \n",
    "            for seed in range(N_STARTS):\n",
    "                for n in range(N_SPLITS):\n",
    "                    val_index = tr[:,-1] == n\n",
    "                    train_index = tr[:,-1] != n\n",
    "                    x_tr, x_val = svm0_oof[train_index, ind].reshape(-1, 1), svm0_oof[val_index, ind].reshape(-1, 1)\n",
    "                    y_tr, y_val = ta[train_index,ind], ta[val_index,ind]\n",
    "\n",
    "                    model = LogisticRegression(C = 35, max_iter = 1000)\n",
    "                    model.fit(x_tr, y_tr)\n",
    "                    svm1_test[:, ind] += model.predict_proba(svm0_test[:, ind].reshape(-1, 1))[:, 1] / (N_SPLITS * N_STARTS)\n",
    "                    svm1_oof[val_index, ind] += model.predict_proba(x_val)[:, 1] / N_STARTS\n",
    "\n",
    "        score1 = log_loss(ta[:, ind], svm0_oof[:, ind])\n",
    "        score2 = log_loss(ta[:, ind], svm1_oof[:, ind])\n",
    "        print('SVM Target ind {} score {}: {}'.format(ind, score1, score2))\n",
    "\n",
    "    return svm1_test, svm1_oof"
   ]
  },
  {
   "cell_type": "code",
   "execution_count": 12,
   "metadata": {
    "execution": {
     "iopub.execute_input": "2020-11-09T01:34:03.270234Z",
     "iopub.status.busy": "2020-11-09T01:34:03.269215Z",
     "iopub.status.idle": "2020-11-09T01:43:48.172613Z",
     "shell.execute_reply": "2020-11-09T01:43:48.171829Z"
    },
    "papermill": {
     "duration": 584.931926,
     "end_time": "2020-11-09T01:43:48.172747",
     "exception": false,
     "start_time": "2020-11-09T01:34:03.240821",
     "status": "completed"
    },
    "tags": []
   },
   "outputs": [
    {
     "data": {
      "application/vnd.jupyter.widget-view+json": {
       "model_id": "6ad4bf5619674267b6e65733fb468772",
       "version_major": 2,
       "version_minor": 0
      },
      "text/plain": [
       "HBox(children=(FloatProgress(value=0.0, max=206.0), HTML(value='')))"
      ]
     },
     "metadata": {},
     "output_type": "display_data"
    },
    {
     "name": "stdout",
     "output_type": "stream",
     "text": [
      "SVM Target ind 0 score 0.0267522871657328: 0.0048122212123293704\n",
      "SVM Target ind 1 score 0.028325951116658196: 0.006770445869106968\n",
      "SVM Target ind 2 score 0.0377679348222106: 0.008648690214872171\n",
      "SVM Target ind 3 score 0.2990344481290532: 0.048714773921495466\n",
      "SVM Target ind 4 score 0.4736868044966427: 0.07136280954991497\n",
      "SVM Target ind 5 score 0.11487746841755518: 0.02234595137756862\n",
      "SVM Target ind 6 score 0.0849778533499726: 0.01722326624283357\n",
      "SVM Target ind 7 score 0.15107877203184092: 0.027914981102869423\n",
      "SVM Target ind 8 score 0.018891922657283466: 0.004205393265934258\n",
      "SVM Target ind 9 score 0.4117833910145857: 0.06133994484728045\n",
      "SVM Target ind 10 score 0.5665533919108652: 0.08282704855719118\n",
      "SVM Target ind 11 score 0.09173731824932935: 0.018122995986820847\n",
      "SVM Target ind 12 score 0.0110156476564788: 0.0110156476564788\n",
      "SVM Target ind 13 score 0.06609388593886781: 0.013647134323485403\n",
      "SVM Target ind 14 score 0.0188839674111058: 0.0048917614346998374\n",
      "SVM Target ind 15 score 0.018883967411105797: 0.004829948538421805\n",
      "SVM Target ind 16 score 0.0755358696444202: 0.015589540240999792\n",
      "SVM Target ind 17 score 0.14012149097942572: 0.026166388686752747\n",
      "SVM Target ind 18 score 0.12589699102527943: 0.02403934209920235\n",
      "SVM Target ind 19 score 0.0566519022333154: 0.012199328844973005\n",
      "SVM Target ind 20 score 0.058225566184240796: 0.012396844342183785\n",
      "SVM Target ind 21 score 0.11488528591524694: 0.021165237071924206\n",
      "SVM Target ind 22 score 0.009441983705553398: 0.009441983705553398\n",
      "SVM Target ind 23 score 0.06766754988979319: 0.014242380619295067\n",
      "SVM Target ind 24 score 0.0188839674111058: 0.004769667487327933\n",
      "SVM Target ind 25 score 0.020457631362031197: 0.004750364403721012\n",
      "SVM Target ind 26 score 0.018883967411105797: 0.004899251746230291\n",
      "SVM Target ind 27 score 0.028325951116658196: 0.006746934487096453\n",
      "SVM Target ind 28 score 0.11489994454125267: 0.0217504559033415\n",
      "SVM Target ind 29 score 0.0566519022333154: 0.012049516897666136\n",
      "SVM Target ind 30 score 0.0361959840422565: 0.008492628666510425\n",
      "SVM Target ind 31 score 0.07712476011032177: 0.016182980118025568\n",
      "SVM Target ind 32 score 0.0739622056934948: 0.015204090999585215\n",
      "SVM Target ind 33 score 0.009441983705553401: 0.009441983705553401\n",
      "SVM Target ind 34 score 0.0015736639509263987: 0.0015736639509263987\n",
      "SVM Target ind 35 score 0.018883967411105797: 0.002467852585101117\n",
      "SVM Target ind 36 score 0.12354041794750255: 0.025745045148729086\n",
      "SVM Target ind 37 score 0.029899615067583596: 0.0063590104219056615\n",
      "SVM Target ind 38 score 0.117027522981267: 0.015646338376196143\n",
      "SVM Target ind 39 score 0.0094419837055534: 0.0094419837055534\n",
      "SVM Target ind 40 score 0.09443222698934238: 0.018850779777897845\n",
      "SVM Target ind 41 score 0.12596981185546863: 0.023782026165158753\n",
      "SVM Target ind 42 score 0.056651902233315385: 0.011968476697419858\n",
      "SVM Target ind 43 score 0.3021922555051231: 0.04979909120026811\n",
      "SVM Target ind 44 score 0.14010783462935597: 0.025698321714253937\n",
      "SVM Target ind 45 score 0.18102723765002543: 0.031070620296824735\n",
      "SVM Target ind 46 score 0.0110156476564788: 0.0028658268531132377\n",
      "SVM Target ind 47 score 0.04735046826965975: 0.010391381931273003\n",
      "SVM Target ind 48 score 0.05979923013516619: 0.012798917659092067\n",
      "SVM Target ind 49 score 0.10545043223729317: 0.020205678384129802\n",
      "SVM Target ind 50 score 0.037767934822210594: 0.008622660550334095\n",
      "SVM Target ind 51 score 0.08894418142118875: 0.016255558135436686\n",
      "SVM Target ind 52 score 0.04563625457683759: 0.009830086535951748\n",
      "SVM Target ind 53 score 0.0094419837055534: 0.0094419837055534\n",
      "SVM Target ind 54 score 0.44074298736759143: 0.06799209772366961\n",
      "SVM Target ind 55 score 0.0660938859388678: 0.013825531530498734\n",
      "SVM Target ind 56 score 0.08655340827240351: 0.017192315469825734\n",
      "SVM Target ind 57 score 0.0566519022333154: 0.012193895943216966\n",
      "SVM Target ind 58 score 0.05667883987637601: 0.012181612325317896\n",
      "SVM Target ind 59 score 0.028325951116658196: 0.006897075401362036\n",
      "SVM Target ind 60 score 0.018883967411105793: 0.00480058090713985\n",
      "SVM Target ind 61 score 0.16054418659804162: 0.029686115653947517\n",
      "SVM Target ind 62 score 0.028325951116658196: 0.006621227076431886\n",
      "SVM Target ind 63 score 0.15515156887990914: 0.02454946930760223\n",
      "SVM Target ind 64 score 0.0849778533499726: 0.01713498993853533\n",
      "SVM Target ind 65 score 0.028701943512574293: 0.004401178659125449\n",
      "SVM Target ind 66 score 0.06609388593886781: 0.013766206676114221\n",
      "SVM Target ind 67 score 0.0755358696444202: 0.01562036654493434\n",
      "SVM Target ind 68 score 0.08498337260773155: 0.01685230512805121\n",
      "SVM Target ind 69 score 0.0094419837055534: 0.0094419837055534\n",
      "SVM Target ind 70 score 0.05666795544685991: 0.010633063590078028\n",
      "SVM Target ind 71 score 0.6833149662642808: 0.09403252812332667\n",
      "SVM Target ind 72 score 0.16370162600341373: 0.030137908537439594\n",
      "SVM Target ind 73 score 0.045739991249703765: 0.0096588492143437\n",
      "SVM Target ind 74 score 0.039341598773136: 0.008752612035473568\n",
      "SVM Target ind 75 score 0.0094419837055534: 0.0094419837055534\n",
      "SVM Target ind 76 score 0.07555741693010283: 0.015589352252261188\n",
      "SVM Target ind 77 score 0.6121959610368682: 0.08806763671619133\n",
      "SVM Target ind 78 score 0.19047378562691702: 0.033843083293371906\n",
      "SVM Target ind 79 score 0.6629748425839092: 0.09153735405159015\n",
      "SVM Target ind 80 score 0.15254272903585567: 0.021704151288719362\n",
      "SVM Target ind 81 score 0.009441983705553398: 0.009441983705553398\n",
      "SVM Target ind 82 score 0.0015736639509263994: 0.0015736639509263994\n",
      "SVM Target ind 83 score 0.24877237152238718: 0.04199849143907281\n",
      "SVM Target ind 84 score 0.07554329595043781: 0.015759635819753644\n",
      "SVM Target ind 85 score 0.05665321535403869: 0.011604208279925575\n",
      "SVM Target ind 86 score 0.025316019953060986: 0.0036581156074888253\n",
      "SVM Target ind 87 score 0.039341598773136: 0.008808001014793704\n",
      "SVM Target ind 88 score 0.07868536907224316: 0.015315280044443737\n",
      "SVM Target ind 89 score 0.22174756338740179: 0.035803549679740365\n",
      "SVM Target ind 90 score 0.026816801226915685: 0.0037965317222974112\n",
      "SVM Target ind 91 score 0.028325951116658196: 0.006814352605739545\n",
      "SVM Target ind 92 score 0.036194270871285204: 0.00807445526582656\n",
      "SVM Target ind 93 score 0.16683628541176634: 0.030660249741942872\n",
      "SVM Target ind 94 score 0.2596889034750546: 0.04400267545093694\n",
      "SVM Target ind 95 score 0.07304508033371049: 0.013191982008942489\n",
      "SVM Target ind 96 score 0.09822436132751709: 0.01704312058059731\n",
      "SVM Target ind 97 score 0.020457631362031197: 0.005245630390193021\n",
      "SVM Target ind 98 score 0.11647925243600864: 0.0225009232905924\n",
      "SVM Target ind 99 score 0.5775796588197007: 0.08460551028518314\n",
      "SVM Target ind 100 score 0.028325951116658202: 0.006735334425151547\n",
      "SVM Target ind 101 score 0.07133256273391811: 0.013421149559675893\n",
      "SVM Target ind 102 score 0.1133038044666298: 0.0220790780104637\n",
      "SVM Target ind 103 score 0.07596720759332505: 0.01474272967628455\n",
      "SVM Target ind 104 score 0.09284715278404923: 0.018574178847245812\n",
      "SVM Target ind 105 score 0.3793431337197532: 0.059589232097869156\n",
      "SVM Target ind 106 score 0.02752061767830488: 0.00564093553182494\n",
      "SVM Target ind 107 score 0.04884876356731782: 0.00886663621842002\n",
      "SVM Target ind 108 score 0.11331339953731533: 0.021205130528530704\n",
      "SVM Target ind 109 score 0.11148219656751567: 0.014442820895742177\n",
      "SVM Target ind 110 score 0.04139778678180223: 0.00894786131591301\n",
      "SVM Target ind 111 score 0.058225566184240796: 0.011982097771449585\n",
      "SVM Target ind 112 score 0.047209918527763: 0.013812984986543887\n",
      "SVM Target ind 113 score 0.048799928903180086: 0.01069889119480984\n",
      "SVM Target ind 114 score 0.11489700713375606: 0.021986665722632776\n",
      "SVM Target ind 115 score 0.047209918527762997: 0.010413046625845862\n",
      "SVM Target ind 116 score 0.08031136716799994: 0.01673433867057325\n",
      "SVM Target ind 117 score 0.06609388593886781: 0.013992731770019196\n",
      "SVM Target ind 118 score 0.11481191529522863: 0.017862058461734123\n",
      "SVM Target ind 119 score 0.1900503821981799: 0.029106909377399907\n",
      "SVM Target ind 120 score 0.009441983705553398: 0.009441983705553398\n",
      "SVM Target ind 121 score 0.009441983705553398: 0.009441983705553398\n",
      "SVM Target ind 122 score 0.09758370206271919: 0.01954349270380328\n",
      "SVM Target ind 123 score 0.018883967411105797: 0.004910827988053111\n",
      "SVM Target ind 124 score 0.09603085705039685: 0.019145856107990588\n",
      "SVM Target ind 125 score 0.0094419837055534: 0.0094419837055534\n",
      "SVM Target ind 126 score 0.042647805184454365: 0.007580185706503541\n",
      "SVM Target ind 127 score 0.0578453715005242: 0.012395753433592867\n",
      "SVM Target ind 128 score 0.11646998518782649: 0.022791448114633583\n",
      "SVM Target ind 129 score 0.039347978680219636: 0.00901715203565252\n",
      "SVM Target ind 130 score 0.018883967411105797: 0.004892486700691938\n",
      "SVM Target ind 131 score 0.13377220290468148: 0.02513189032455173\n",
      "SVM Target ind 132 score 0.028325951116658196: 0.005487738496776081\n",
      "SVM Target ind 133 score 0.1328684504116916: 0.019439110985058062\n",
      "SVM Target ind 134 score 0.07554073462179142: 0.015486010908267024\n",
      "SVM Target ind 135 score 0.05822603656773986: 0.01235072076299401\n",
      "SVM Target ind 136 score 0.1929998294329688: 0.03881667016491858\n",
      "SVM Target ind 137 score 0.009441983705553398: 0.009441983705553398\n",
      "SVM Target ind 138 score 0.040915262724061395: 0.009090522960673175\n",
      "SVM Target ind 139 score 0.018883967411105797: 0.006205146949600958\n",
      "SVM Target ind 140 score 0.040915262724061395: 0.009165378911992627\n",
      "SVM Target ind 141 score 0.0110156476564788: 0.003375072243705271\n",
      "SVM Target ind 142 score 0.028325951116658196: 0.0066770105345926615\n",
      "SVM Target ind 143 score 0.09599404019071243: 0.0189925740439613\n",
      "SVM Target ind 144 score 0.15110035004919148: 0.02831672826567904\n",
      "SVM Target ind 145 score 0.058225566184240796: 0.012598081736651437\n",
      "SVM Target ind 146 score 0.08889363525158744: 0.014559965277264135\n",
      "SVM Target ind 147 score 0.0377679348222106: 0.0088130222205786\n",
      "SVM Target ind 148 score 0.09600317569208881: 0.018006592830268186\n",
      "SVM Target ind 149 score 0.2238653089715262: 0.03183132650184997\n",
      "SVM Target ind 150 score 0.028325951116658196: 0.0067288317723638875\n",
      "SVM Target ind 151 score 0.4125742953475571: 0.06253510183250205\n",
      "SVM Target ind 152 score 0.039341598773136: 0.008857181921295677\n",
      "SVM Target ind 153 score 0.17817709488983066: 0.03143600877689148\n",
      "SVM Target ind 154 score 0.0487835824786884: 0.010612617947092139\n",
      "SVM Target ind 155 score 0.086551517300898: 0.017281646741547297\n",
      "SVM Target ind 156 score 0.1542430621174932: 0.0284432850817324\n",
      "SVM Target ind 157 score 0.16642570058794975: 0.02958930874661725\n",
      "SVM Target ind 158 score 0.04721161032920866: 0.010397454683358356\n",
      "SVM Target ind 159 score 0.18589619914127237: 0.031609625234598815\n",
      "SVM Target ind 160 score 0.028325951116658196: 0.006083672613123107\n",
      "SVM Target ind 161 score 0.05665971361714863: 0.012052174780785248\n",
      "SVM Target ind 162 score 0.1322021784191796: 0.02491665250065124\n",
      "SVM Target ind 163 score 0.00773799318912934: 0.0014792496198289893\n",
      "SVM Target ind 164 score 0.07553863516630119: 0.015871761006495563\n",
      "SVM Target ind 165 score 0.009441983705553398: 0.009441983705553398\n",
      "SVM Target ind 166 score 0.15758433317429665: 0.029955729481535624\n",
      "SVM Target ind 167 score 0.029899615067583596: 0.007149071440814708\n",
      "SVM Target ind 168 score 0.08812518125182339: 0.017853063857401805\n",
      "SVM Target ind 169 score 0.061469003934786666: 0.010724624244010193\n",
      "SVM Target ind 170 score 0.018883967411105797: 0.004962878254706303\n",
      "SVM Target ind 171 score 0.08625745459401825: 0.012377094749346408\n",
      "SVM Target ind 172 score 0.009441983705553398: 0.009441983705553398\n",
      "SVM Target ind 173 score 0.05354624685742569: 0.009941526794199804\n",
      "SVM Target ind 174 score 0.05708164867373365: 0.011843256067980108\n",
      "SVM Target ind 175 score 0.039341598773136: 0.009587367833978818\n",
      "SVM Target ind 176 score 0.369978132757806: 0.05899561531396269\n",
      "SVM Target ind 177 score 0.6360412257843459: 0.08850242422558528\n",
      "SVM Target ind 178 score 0.06924121384071859: 0.014529707915256205\n",
      "SVM Target ind 179 score 0.0566519022333154: 0.012075925599419382\n",
      "SVM Target ind 180 score 0.0566519022333154: 0.011959748603787318\n",
      "SVM Target ind 181 score 0.039341598773136: 0.008938946616912349\n",
      "SVM Target ind 182 score 0.4202091469008892: 0.0655633085383788\n",
      "SVM Target ind 183 score 0.039341598773136: 0.008912449532045593\n",
      "SVM Target ind 184 score 0.11057404609184526: 0.02237052070159809\n",
      "SVM Target ind 185 score 0.0094419837055534: 0.0094419837055534\n",
      "SVM Target ind 186 score 0.02991434312404023: 0.007161752511020129\n",
      "SVM Target ind 187 score 0.09442059265892178: 0.01847934044394187\n",
      "SVM Target ind 188 score 0.0321670175631215: 0.004235796232152339\n",
      "SVM Target ind 189 score 0.029899615067583596: 0.007106731580835096\n",
      "SVM Target ind 190 score 0.058233255091614713: 0.012361000234260901\n",
      "SVM Target ind 191 score 0.047209918527763: 0.010355699242387327\n",
      "SVM Target ind 192 score 0.011015647656478798: 0.0032793905681420495\n",
      "SVM Target ind 193 score 0.0566519022333154: 0.012087228913015956\n",
      "SVM Target ind 194 score 0.1215113896016568: 0.018102208513718417\n",
      "SVM Target ind 195 score 0.028325951116658196: 0.006584128186790138\n",
      "SVM Target ind 196 score 0.009441983705553398: 0.009441983705553398\n",
      "SVM Target ind 197 score 0.039341598773136: 0.00883611224679431\n",
      "SVM Target ind 198 score 0.07553947931480413: 0.015575349891729238\n",
      "SVM Target ind 199 score 0.1443305908956718: 0.024369676931582585\n",
      "SVM Target ind 200 score 0.11488245255379737: 0.022560060774133417\n",
      "SVM Target ind 201 score 0.0094419837055534: 0.0094419837055534\n",
      "SVM Target ind 202 score 0.22615630381954627: 0.03597423364918137\n",
      "SVM Target ind 203 score 0.040915262724061395: 0.009399874969104353\n",
      "SVM Target ind 204 score 0.039840694652504664: 0.004798286063572215\n",
      "SVM Target ind 205 score 0.047209918527763: 0.01035807691372092\n",
      "\n"
     ]
    }
   ],
   "source": [
    "svm1_test, svm1_oof = modelling_svm(fn_train, fn_targets, fn_test)"
   ]
  },
  {
   "cell_type": "code",
   "execution_count": 13,
   "metadata": {
    "execution": {
     "iopub.execute_input": "2020-11-09T01:43:48.339119Z",
     "iopub.status.busy": "2020-11-09T01:43:48.338347Z",
     "iopub.status.idle": "2020-11-09T01:43:49.535228Z",
     "shell.execute_reply": "2020-11-09T01:43:49.535684Z"
    },
    "papermill": {
     "duration": 1.284964,
     "end_time": "2020-11-09T01:43:49.535844",
     "exception": false,
     "start_time": "2020-11-09T01:43:48.250880",
     "status": "completed"
    },
    "tags": []
   },
   "outputs": [
    {
     "name": "stdout",
     "output_type": "stream",
     "text": [
      "OOF log loss:  0.01688336419610628\n"
     ]
    }
   ],
   "source": [
    "check_svm1 = np.zeros([y.shape[0], y.shape[1]])\n",
    "check_svm1[cons_train_index,:] = svm1_oof\n",
    "print('OOF log loss: ', log_loss(np.ravel(y), np.ravel(check_svm1)))"
   ]
  },
  {
   "cell_type": "code",
   "execution_count": 14,
   "metadata": {
    "execution": {
     "iopub.execute_input": "2020-11-09T01:43:49.700025Z",
     "iopub.status.busy": "2020-11-09T01:43:49.699320Z",
     "iopub.status.idle": "2020-11-09T01:44:01.854284Z",
     "shell.execute_reply": "2020-11-09T01:44:01.853200Z"
    },
    "papermill": {
     "duration": 12.239078,
     "end_time": "2020-11-09T01:44:01.854411",
     "exception": false,
     "start_time": "2020-11-09T01:43:49.615333",
     "status": "completed"
    },
    "tags": []
   },
   "outputs": [],
   "source": [
    "pd.DataFrame(check_svm1).to_csv(\"svm_newval_oof.csv\", index=False)"
   ]
  },
  {
   "cell_type": "markdown",
   "metadata": {
    "papermill": {
     "duration": 0.136875,
     "end_time": "2020-11-09T01:44:02.074114",
     "exception": false,
     "start_time": "2020-11-09T01:44:01.937239",
     "status": "completed"
    },
    "tags": []
   },
   "source": [
    "# submission"
   ]
  },
  {
   "cell_type": "code",
   "execution_count": 15,
   "metadata": {
    "execution": {
     "iopub.execute_input": "2020-11-09T01:44:02.333141Z",
     "iopub.status.busy": "2020-11-09T01:44:02.332275Z",
     "iopub.status.idle": "2020-11-09T01:44:04.695532Z",
     "shell.execute_reply": "2020-11-09T01:44:04.694409Z"
    },
    "papermill": {
     "duration": 2.498111,
     "end_time": "2020-11-09T01:44:04.695667",
     "exception": false,
     "start_time": "2020-11-09T01:44:02.197556",
     "status": "completed"
    },
    "tags": []
   },
   "outputs": [],
   "source": [
    "sub = pd.read_csv(DATA_DIR + 'sample_submission.csv')\n",
    "\n",
    "sub.loc[cons_test_index,target_feats] =  svm1_test \n",
    "sub.loc[noncons_test_index,target_feats] = 0\n",
    "sub.to_csv('submission.csv', index=False)"
   ]
  },
  {
   "cell_type": "code",
   "execution_count": null,
   "metadata": {
    "papermill": {
     "duration": 0.078951,
     "end_time": "2020-11-09T01:44:04.855391",
     "exception": false,
     "start_time": "2020-11-09T01:44:04.776440",
     "status": "completed"
    },
    "tags": []
   },
   "outputs": [],
   "source": []
  }
 ],
 "metadata": {
  "kernelspec": {
   "display_name": "Python 3",
   "language": "python",
   "name": "python3"
  },
  "language_info": {
   "codemirror_mode": {
    "name": "ipython",
    "version": 3
   },
   "file_extension": ".py",
   "mimetype": "text/x-python",
   "name": "python",
   "nbconvert_exporter": "python",
   "pygments_lexer": "ipython3",
   "version": "3.7.6"
  },
  "papermill": {
   "duration": 706.080359,
   "end_time": "2020-11-09T01:44:05.964840",
   "environment_variables": {},
   "exception": null,
   "input_path": "__notebook__.ipynb",
   "output_path": "__notebook__.ipynb",
   "parameters": {},
   "start_time": "2020-11-09T01:32:19.884481",
   "version": "2.1.0"
  },
  "widgets": {
   "application/vnd.jupyter.widget-state+json": {
    "state": {
     "29ac7e3368a14cefb13415eeff943f0e": {
      "model_module": "@jupyter-widgets/controls",
      "model_module_version": "1.5.0",
      "model_name": "HTMLModel",
      "state": {
       "_dom_classes": [],
       "_model_module": "@jupyter-widgets/controls",
       "_model_module_version": "1.5.0",
       "_model_name": "HTMLModel",
       "_view_count": null,
       "_view_module": "@jupyter-widgets/controls",
       "_view_module_version": "1.5.0",
       "_view_name": "HTMLView",
       "description": "",
       "description_tooltip": null,
       "layout": "IPY_MODEL_aae00f6d945145a0877f23705b7a274c",
       "placeholder": "​",
       "style": "IPY_MODEL_c34c27f8a47c4dad8ce9b5d9cd95d89a",
       "value": " 206/206 [09:44&lt;00:00,  2.84s/it]"
      }
     },
     "6ad4bf5619674267b6e65733fb468772": {
      "model_module": "@jupyter-widgets/controls",
      "model_module_version": "1.5.0",
      "model_name": "HBoxModel",
      "state": {
       "_dom_classes": [],
       "_model_module": "@jupyter-widgets/controls",
       "_model_module_version": "1.5.0",
       "_model_name": "HBoxModel",
       "_view_count": null,
       "_view_module": "@jupyter-widgets/controls",
       "_view_module_version": "1.5.0",
       "_view_name": "HBoxView",
       "box_style": "",
       "children": [
        "IPY_MODEL_e70af16aa74e44ad97457e444554fcb8",
        "IPY_MODEL_29ac7e3368a14cefb13415eeff943f0e"
       ],
       "layout": "IPY_MODEL_bea30fe0bbd84f33ae15d24a6ec09ca0"
      }
     },
     "952549f24701445dafe15192a572ff15": {
      "model_module": "@jupyter-widgets/base",
      "model_module_version": "1.2.0",
      "model_name": "LayoutModel",
      "state": {
       "_model_module": "@jupyter-widgets/base",
       "_model_module_version": "1.2.0",
       "_model_name": "LayoutModel",
       "_view_count": null,
       "_view_module": "@jupyter-widgets/base",
       "_view_module_version": "1.2.0",
       "_view_name": "LayoutView",
       "align_content": null,
       "align_items": null,
       "align_self": null,
       "border": null,
       "bottom": null,
       "display": null,
       "flex": null,
       "flex_flow": null,
       "grid_area": null,
       "grid_auto_columns": null,
       "grid_auto_flow": null,
       "grid_auto_rows": null,
       "grid_column": null,
       "grid_gap": null,
       "grid_row": null,
       "grid_template_areas": null,
       "grid_template_columns": null,
       "grid_template_rows": null,
       "height": null,
       "justify_content": null,
       "justify_items": null,
       "left": null,
       "margin": null,
       "max_height": null,
       "max_width": null,
       "min_height": null,
       "min_width": null,
       "object_fit": null,
       "object_position": null,
       "order": null,
       "overflow": null,
       "overflow_x": null,
       "overflow_y": null,
       "padding": null,
       "right": null,
       "top": null,
       "visibility": null,
       "width": null
      }
     },
     "aae00f6d945145a0877f23705b7a274c": {
      "model_module": "@jupyter-widgets/base",
      "model_module_version": "1.2.0",
      "model_name": "LayoutModel",
      "state": {
       "_model_module": "@jupyter-widgets/base",
       "_model_module_version": "1.2.0",
       "_model_name": "LayoutModel",
       "_view_count": null,
       "_view_module": "@jupyter-widgets/base",
       "_view_module_version": "1.2.0",
       "_view_name": "LayoutView",
       "align_content": null,
       "align_items": null,
       "align_self": null,
       "border": null,
       "bottom": null,
       "display": null,
       "flex": null,
       "flex_flow": null,
       "grid_area": null,
       "grid_auto_columns": null,
       "grid_auto_flow": null,
       "grid_auto_rows": null,
       "grid_column": null,
       "grid_gap": null,
       "grid_row": null,
       "grid_template_areas": null,
       "grid_template_columns": null,
       "grid_template_rows": null,
       "height": null,
       "justify_content": null,
       "justify_items": null,
       "left": null,
       "margin": null,
       "max_height": null,
       "max_width": null,
       "min_height": null,
       "min_width": null,
       "object_fit": null,
       "object_position": null,
       "order": null,
       "overflow": null,
       "overflow_x": null,
       "overflow_y": null,
       "padding": null,
       "right": null,
       "top": null,
       "visibility": null,
       "width": null
      }
     },
     "bea30fe0bbd84f33ae15d24a6ec09ca0": {
      "model_module": "@jupyter-widgets/base",
      "model_module_version": "1.2.0",
      "model_name": "LayoutModel",
      "state": {
       "_model_module": "@jupyter-widgets/base",
       "_model_module_version": "1.2.0",
       "_model_name": "LayoutModel",
       "_view_count": null,
       "_view_module": "@jupyter-widgets/base",
       "_view_module_version": "1.2.0",
       "_view_name": "LayoutView",
       "align_content": null,
       "align_items": null,
       "align_self": null,
       "border": null,
       "bottom": null,
       "display": null,
       "flex": null,
       "flex_flow": null,
       "grid_area": null,
       "grid_auto_columns": null,
       "grid_auto_flow": null,
       "grid_auto_rows": null,
       "grid_column": null,
       "grid_gap": null,
       "grid_row": null,
       "grid_template_areas": null,
       "grid_template_columns": null,
       "grid_template_rows": null,
       "height": null,
       "justify_content": null,
       "justify_items": null,
       "left": null,
       "margin": null,
       "max_height": null,
       "max_width": null,
       "min_height": null,
       "min_width": null,
       "object_fit": null,
       "object_position": null,
       "order": null,
       "overflow": null,
       "overflow_x": null,
       "overflow_y": null,
       "padding": null,
       "right": null,
       "top": null,
       "visibility": null,
       "width": null
      }
     },
     "c34c27f8a47c4dad8ce9b5d9cd95d89a": {
      "model_module": "@jupyter-widgets/controls",
      "model_module_version": "1.5.0",
      "model_name": "DescriptionStyleModel",
      "state": {
       "_model_module": "@jupyter-widgets/controls",
       "_model_module_version": "1.5.0",
       "_model_name": "DescriptionStyleModel",
       "_view_count": null,
       "_view_module": "@jupyter-widgets/base",
       "_view_module_version": "1.2.0",
       "_view_name": "StyleView",
       "description_width": ""
      }
     },
     "e481c5a8f238461da8ee99c06ea02d0c": {
      "model_module": "@jupyter-widgets/controls",
      "model_module_version": "1.5.0",
      "model_name": "ProgressStyleModel",
      "state": {
       "_model_module": "@jupyter-widgets/controls",
       "_model_module_version": "1.5.0",
       "_model_name": "ProgressStyleModel",
       "_view_count": null,
       "_view_module": "@jupyter-widgets/base",
       "_view_module_version": "1.2.0",
       "_view_name": "StyleView",
       "bar_color": null,
       "description_width": "initial"
      }
     },
     "e70af16aa74e44ad97457e444554fcb8": {
      "model_module": "@jupyter-widgets/controls",
      "model_module_version": "1.5.0",
      "model_name": "FloatProgressModel",
      "state": {
       "_dom_classes": [],
       "_model_module": "@jupyter-widgets/controls",
       "_model_module_version": "1.5.0",
       "_model_name": "FloatProgressModel",
       "_view_count": null,
       "_view_module": "@jupyter-widgets/controls",
       "_view_module_version": "1.5.0",
       "_view_name": "ProgressView",
       "bar_style": "success",
       "description": "100%",
       "description_tooltip": null,
       "layout": "IPY_MODEL_952549f24701445dafe15192a572ff15",
       "max": 206.0,
       "min": 0.0,
       "orientation": "horizontal",
       "style": "IPY_MODEL_e481c5a8f238461da8ee99c06ea02d0c",
       "value": 206.0
      }
     }
    },
    "version_major": 2,
    "version_minor": 0
   }
  }
 },
 "nbformat": 4,
 "nbformat_minor": 4
}
