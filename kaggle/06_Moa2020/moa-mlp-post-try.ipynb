{
 "cells": [
  {
   "cell_type": "markdown",
   "metadata": {
    "papermill": {
     "duration": 0.015258,
     "end_time": "2021-03-25T04:47:21.302343",
     "exception": false,
     "start_time": "2021-03-25T04:47:21.287085",
     "status": "completed"
    },
    "tags": []
   },
   "source": [
    "**Late submission**\n",
    "- solve as a multiclass classification problem\n",
    "- go back to ver 15 and change batch size to 64"
   ]
  },
  {
   "cell_type": "code",
   "execution_count": 1,
   "metadata": {
    "_cell_guid": "b1076dfc-b9ad-4769-8c92-a6c4dae69d19",
    "_uuid": "8f2839f25d086af736a60e9eeb907d3b93b6e0e5",
    "execution": {
     "iopub.execute_input": "2021-03-25T04:47:21.340343Z",
     "iopub.status.busy": "2021-03-25T04:47:21.339647Z",
     "iopub.status.idle": "2021-03-25T04:47:28.554938Z",
     "shell.execute_reply": "2021-03-25T04:47:28.554360Z"
    },
    "papermill": {
     "duration": 7.237457,
     "end_time": "2021-03-25T04:47:28.555086",
     "exception": false,
     "start_time": "2021-03-25T04:47:21.317629",
     "status": "completed"
    },
    "tags": []
   },
   "outputs": [
    {
     "name": "stderr",
     "output_type": "stream",
     "text": [
      "/opt/conda/lib/python3.7/site-packages/ipykernel_launcher.py:12: TqdmDeprecationWarning: This function will be removed in tqdm==5.0.0\n",
      "Please use `tqdm.notebook.*` instead of `tqdm._tqdm_notebook.*`\n",
      "  if sys.path[0] == '':\n"
     ]
    }
   ],
   "source": [
    "import os\n",
    "import random\n",
    "import warnings\n",
    "import numpy as np\n",
    "import pandas as pd \n",
    "from sklearn import preprocessing\n",
    "from sklearn.metrics import log_loss\n",
    "from sklearn.decomposition import PCA\n",
    "from tqdm import tqdm_notebook as tqdm\n",
    "from sklearn.feature_selection import VarianceThreshold\n",
    "from sklearn.model_selection import StratifiedKFold, KFold\n",
    "from tqdm._tqdm_notebook import tqdm_notebook\n",
    "\n",
    "import time\n",
    "import torch\n",
    "import torch.nn as nn\n",
    "import torch.optim as optim\n",
    "import torch.nn.functional as F\n",
    "import tensorflow as tf\n",
    "\n",
    "warnings.filterwarnings('ignore')"
   ]
  },
  {
   "cell_type": "markdown",
   "metadata": {
    "papermill": {
     "duration": 0.014796,
     "end_time": "2021-03-25T04:47:28.586113",
     "exception": false,
     "start_time": "2021-03-25T04:47:28.571317",
     "status": "completed"
    },
    "tags": []
   },
   "source": [
    "# final engineering"
   ]
  },
  {
   "cell_type": "code",
   "execution_count": 2,
   "metadata": {
    "execution": {
     "iopub.execute_input": "2021-03-25T04:47:28.627310Z",
     "iopub.status.busy": "2021-03-25T04:47:28.626705Z",
     "iopub.status.idle": "2021-03-25T04:47:36.115337Z",
     "shell.execute_reply": "2021-03-25T04:47:36.114214Z"
    },
    "papermill": {
     "duration": 7.5144,
     "end_time": "2021-03-25T04:47:36.115451",
     "exception": false,
     "start_time": "2021-03-25T04:47:28.601051",
     "status": "completed"
    },
    "tags": []
   },
   "outputs": [],
   "source": [
    "DATA_DIR = '/kaggle/input/lish-moa/'\n",
    "train = pd.read_csv(DATA_DIR + 'train_features.csv')\n",
    "targets = pd.read_csv(DATA_DIR + 'train_targets_scored.csv')\n",
    "non_targets = pd.read_csv(DATA_DIR + 'train_targets_nonscored.csv')\n",
    "test = pd.read_csv(DATA_DIR + 'test_features.csv')\n",
    "sub = pd.read_csv(DATA_DIR + 'sample_submission.csv')\n",
    "drug = pd.read_csv(DATA_DIR + 'train_drug.csv')"
   ]
  },
  {
   "cell_type": "code",
   "execution_count": 3,
   "metadata": {
    "execution": {
     "iopub.execute_input": "2021-03-25T04:47:36.151725Z",
     "iopub.status.busy": "2021-03-25T04:47:36.151132Z",
     "iopub.status.idle": "2021-03-25T04:47:36.155257Z",
     "shell.execute_reply": "2021-03-25T04:47:36.154771Z"
    },
    "papermill": {
     "duration": 0.024493,
     "end_time": "2021-03-25T04:47:36.155348",
     "exception": false,
     "start_time": "2021-03-25T04:47:36.130855",
     "status": "completed"
    },
    "tags": []
   },
   "outputs": [],
   "source": [
    "target_feats = [ i for i in targets.columns if i != \"sig_id\"]\n",
    "g_feats = [i for i in train.columns if \"g-\" in i]\n",
    "c_feats = [i for i in train.columns if \"c-\" in i]"
   ]
  },
  {
   "cell_type": "code",
   "execution_count": 4,
   "metadata": {
    "execution": {
     "iopub.execute_input": "2021-03-25T04:47:36.194173Z",
     "iopub.status.busy": "2021-03-25T04:47:36.193476Z",
     "iopub.status.idle": "2021-03-25T04:47:36.288892Z",
     "shell.execute_reply": "2021-03-25T04:47:36.289308Z"
    },
    "papermill": {
     "duration": 0.118451,
     "end_time": "2021-03-25T04:47:36.289442",
     "exception": false,
     "start_time": "2021-03-25T04:47:36.170991",
     "status": "completed"
    },
    "tags": []
   },
   "outputs": [],
   "source": [
    "noncons_train_index = train[train.cp_type==\"ctl_vehicle\"].index\n",
    "cons_train_index = train[train.cp_type!=\"ctl_vehicle\"].index\n",
    "noncons_test_index = test[test.cp_type==\"ctl_vehicle\"].index\n",
    "cons_test_index = test[test.cp_type!=\"ctl_vehicle\"].index"
   ]
  },
  {
   "cell_type": "markdown",
   "metadata": {
    "papermill": {
     "duration": 0.015189,
     "end_time": "2021-03-25T04:47:36.319984",
     "exception": false,
     "start_time": "2021-03-25T04:47:36.304795",
     "status": "completed"
    },
    "tags": []
   },
   "source": [
    "# target group"
   ]
  },
  {
   "cell_type": "code",
   "execution_count": 5,
   "metadata": {
    "execution": {
     "iopub.execute_input": "2021-03-25T04:47:36.368212Z",
     "iopub.status.busy": "2021-03-25T04:47:36.367525Z",
     "iopub.status.idle": "2021-03-25T04:47:36.370642Z",
     "shell.execute_reply": "2021-03-25T04:47:36.371020Z"
    },
    "papermill": {
     "duration": 0.036091,
     "end_time": "2021-03-25T04:47:36.371132",
     "exception": false,
     "start_time": "2021-03-25T04:47:36.335041",
     "status": "completed"
    },
    "tags": []
   },
   "outputs": [],
   "source": [
    "y = targets.drop(\"sig_id\", axis=1)"
   ]
  },
  {
   "cell_type": "code",
   "execution_count": 6,
   "metadata": {
    "execution": {
     "iopub.execute_input": "2021-03-25T04:47:36.411790Z",
     "iopub.status.busy": "2021-03-25T04:47:36.411193Z",
     "iopub.status.idle": "2021-03-25T04:47:47.561677Z",
     "shell.execute_reply": "2021-03-25T04:47:47.560769Z"
    },
    "papermill": {
     "duration": 11.175466,
     "end_time": "2021-03-25T04:47:47.561783",
     "exception": false,
     "start_time": "2021-03-25T04:47:36.386317",
     "status": "completed"
    },
    "tags": []
   },
   "outputs": [
    {
     "data": {
      "text/plain": [
       "((23814, 328), (328, 206))"
      ]
     },
     "execution_count": 6,
     "metadata": {},
     "output_type": "execute_result"
    }
   ],
   "source": [
    "def make_string(row):\n",
    "    return str(row[1:].values).replace('[','').replace(']','').replace('\\n','').replace(' ','')\n",
    "\n",
    "targets[\"target_pair\"] = targets.apply(make_string, axis=1)\n",
    "targetpair_id = dict(enumerate(targets[\"target_pair\"].unique()))\n",
    "id_targetpair = {y:x for x,y in targetpair_id.items()}\n",
    "targets[\"target_pair_num\"] = targets[\"target_pair\"].map(id_targetpair)\n",
    "\n",
    "multiclass_targets = pd.get_dummies(targets[\"target_pair_num\"])\n",
    "\n",
    "for i in range(len(id_targetpair.keys())):\n",
    "    if i == 0:\n",
    "        classid_target = np.array(list((targetpair_id[i]))).reshape(1,-1)      \n",
    "    else:\n",
    "        classid_target = np.vstack([classid_target, np.array(list((targetpair_id[i]))).reshape(1,-1)])\n",
    "        \n",
    "classid_target = classid_target.astype(int)\n",
    "class_num = multiclass_targets.shape[1]\n",
    "        \n",
    "multiclass_targets.shape, classid_target.shape"
   ]
  },
  {
   "cell_type": "markdown",
   "metadata": {
    "papermill": {
     "duration": 0.015772,
     "end_time": "2021-03-25T04:47:47.593538",
     "exception": false,
     "start_time": "2021-03-25T04:47:47.577766",
     "status": "completed"
    },
    "tags": []
   },
   "source": [
    "# preprocess"
   ]
  },
  {
   "cell_type": "code",
   "execution_count": 7,
   "metadata": {
    "execution": {
     "iopub.execute_input": "2021-03-25T04:47:47.638061Z",
     "iopub.status.busy": "2021-03-25T04:47:47.637160Z",
     "iopub.status.idle": "2021-03-25T04:47:47.905215Z",
     "shell.execute_reply": "2021-03-25T04:47:47.904726Z"
    },
    "papermill": {
     "duration": 0.295835,
     "end_time": "2021-03-25T04:47:47.905331",
     "exception": false,
     "start_time": "2021-03-25T04:47:47.609496",
     "status": "completed"
    },
    "tags": []
   },
   "outputs": [],
   "source": [
    "train = train[train.index.isin(cons_train_index)].copy().reset_index(drop=True)\n",
    "test = test[test.index.isin(cons_test_index)].copy().reset_index(drop=True)\n",
    "targets = targets[targets.index.isin(cons_train_index)].copy().reset_index(drop=True)\n",
    "\n",
    "# no need to change to one-hot encoding form\n",
    "# https://discuss.pytorch.org/t/runtimeerror-multi-target-not-supported-newbie/10216\n",
    "multiclass_targets = targets[\"target_pair_num\"].copy().reset_index(drop=True)"
   ]
  },
  {
   "cell_type": "markdown",
   "metadata": {
    "papermill": {
     "duration": 0.015249,
     "end_time": "2021-03-25T04:47:47.936409",
     "exception": false,
     "start_time": "2021-03-25T04:47:47.921160",
     "status": "completed"
    },
    "tags": []
   },
   "source": [
    "# Feature engineering "
   ]
  },
  {
   "cell_type": "code",
   "execution_count": 8,
   "metadata": {
    "execution": {
     "iopub.execute_input": "2021-03-25T04:47:47.973880Z",
     "iopub.status.busy": "2021-03-25T04:47:47.973130Z",
     "iopub.status.idle": "2021-03-25T04:47:47.976010Z",
     "shell.execute_reply": "2021-03-25T04:47:47.975470Z"
    },
    "papermill": {
     "duration": 0.023173,
     "end_time": "2021-03-25T04:47:47.976094",
     "exception": false,
     "start_time": "2021-03-25T04:47:47.952921",
     "status": "completed"
    },
    "tags": []
   },
   "outputs": [],
   "source": [
    "#X = train.iloc[:,4:].copy().values\n",
    "#select = VarianceThreshold(threshold=0.9)\n",
    "#X_new = select.fit_transform(X)\n",
    "#drop_feats = list(np.array(train.iloc[:,4:].columns)[select.get_support()==False])\n",
    "#print(len(drop_feats))\n",
    "\n",
    "#train.drop(drop_feats, axis=1, inplace=True)\n",
    "#test.drop(drop_feats, axis=1, inplace=True)\n",
    "\n",
    "g_feats = [i for i in train.columns if \"g-\" in i]\n",
    "c_feats = [i for i in train.columns if \"c-\" in i]"
   ]
  },
  {
   "cell_type": "code",
   "execution_count": 9,
   "metadata": {
    "execution": {
     "iopub.execute_input": "2021-03-25T04:47:48.016046Z",
     "iopub.status.busy": "2021-03-25T04:47:48.015087Z",
     "iopub.status.idle": "2021-03-25T04:47:56.055271Z",
     "shell.execute_reply": "2021-03-25T04:47:56.054226Z"
    },
    "papermill": {
     "duration": 8.063621,
     "end_time": "2021-03-25T04:47:56.055385",
     "exception": false,
     "start_time": "2021-03-25T04:47:47.991764",
     "status": "completed"
    },
    "tags": []
   },
   "outputs": [],
   "source": [
    "# rank gauss\n",
    "for i in c_feats + g_feats:\n",
    "    ss = preprocessing.QuantileTransformer(n_quantiles=100, random_state=0, output_distribution=\"normal\")\n",
    "    ss.fit(train[i].values.reshape(-1,1))\n",
    "    train[i] = ss.transform(train[i].values.reshape(-1,1))\n",
    "    test[i] = ss.transform(test[i].values.reshape(-1,1))"
   ]
  },
  {
   "cell_type": "code",
   "execution_count": 10,
   "metadata": {
    "execution": {
     "iopub.execute_input": "2021-03-25T04:47:56.105526Z",
     "iopub.status.busy": "2021-03-25T04:47:56.103933Z",
     "iopub.status.idle": "2021-03-25T04:47:57.905853Z",
     "shell.execute_reply": "2021-03-25T04:47:57.906974Z"
    },
    "papermill": {
     "duration": 1.83553,
     "end_time": "2021-03-25T04:47:57.907151",
     "exception": false,
     "start_time": "2021-03-25T04:47:56.071621",
     "status": "completed"
    },
    "tags": []
   },
   "outputs": [],
   "source": [
    "c_num = 5\n",
    "pca_c_cols = [\"pca-c\"+str(i+1) for i in range(c_num)]\n",
    "pca = PCA(n_components=c_num,random_state=42)\n",
    "c_train = pca.fit_transform(train[c_feats])\n",
    "c_test = pca.transform(test[c_feats])\n",
    "c_train = pd.DataFrame(c_train, columns=pca_c_cols)\n",
    "c_test = pd.DataFrame(c_test, columns=pca_c_cols)\n",
    "\n",
    "g_num = 30\n",
    "pca_g_cols = [\"pca-g\"+str(i+1) for i in range(g_num)]\n",
    "pca = PCA(n_components=g_num, random_state=42)\n",
    "g_train = pca.fit_transform(train[g_feats])\n",
    "g_test = pca.transform(test[g_feats])\n",
    "g_train = pd.DataFrame(g_train, columns=pca_g_cols)\n",
    "g_test = pd.DataFrame(g_test, columns=pca_g_cols)\n",
    "\n",
    "train = pd.concat([train, c_train],axis=1)\n",
    "test = pd.concat([test, c_test],axis=1)\n",
    "train = pd.concat([train, g_train],axis=1)\n",
    "test = pd.concat([test, g_test],axis=1)"
   ]
  },
  {
   "cell_type": "code",
   "execution_count": 11,
   "metadata": {
    "execution": {
     "iopub.execute_input": "2021-03-25T04:47:57.971017Z",
     "iopub.status.busy": "2021-03-25T04:47:57.970232Z",
     "iopub.status.idle": "2021-03-25T04:47:59.836937Z",
     "shell.execute_reply": "2021-03-25T04:47:59.836376Z"
    },
    "papermill": {
     "duration": 1.902827,
     "end_time": "2021-03-25T04:47:59.837046",
     "exception": false,
     "start_time": "2021-03-25T04:47:57.934219",
     "status": "completed"
    },
    "tags": []
   },
   "outputs": [],
   "source": [
    "def fe(df):\n",
    "    tmp = df.copy()\n",
    "    tmp['g_kurt'] = tmp[g_feats].kurtosis(axis = 1)\n",
    "    tmp['g_skew'] = tmp[g_feats].skew(axis = 1)\n",
    "    tmp['c_kurt'] = tmp[c_feats].kurtosis(axis = 1)\n",
    "    tmp['c_skew'] = tmp[c_feats].skew(axis = 1)\n",
    "    tmp = pd.get_dummies(tmp, columns=['cp_time','cp_dose'])\n",
    "    tmp.drop([\"cp_type\", \"sig_id\"], axis=1, inplace=True)\n",
    "    return tmp\n",
    "\n",
    "train = fe(train)\n",
    "test = fe(test)"
   ]
  },
  {
   "cell_type": "code",
   "execution_count": 12,
   "metadata": {
    "execution": {
     "iopub.execute_input": "2021-03-25T04:47:59.879942Z",
     "iopub.status.busy": "2021-03-25T04:47:59.878767Z",
     "iopub.status.idle": "2021-03-25T04:48:00.039105Z",
     "shell.execute_reply": "2021-03-25T04:48:00.039978Z"
    },
    "papermill": {
     "duration": 0.186247,
     "end_time": "2021-03-25T04:48:00.040150",
     "exception": false,
     "start_time": "2021-03-25T04:47:59.853903",
     "status": "completed"
    },
    "tags": []
   },
   "outputs": [
    {
     "name": "stdout",
     "output_type": "stream",
     "text": [
      "(21948, 916) (3624, 916) (23814, 206) (21948,)\n"
     ]
    }
   ],
   "source": [
    "fn_train = train.copy().to_numpy()\n",
    "fn_test = test.copy().to_numpy()\n",
    "fn_targets = y.copy().to_numpy()\n",
    "fn_multiclass_targets = multiclass_targets.copy().to_numpy()\n",
    "print(fn_train.shape, fn_test.shape, fn_targets.shape, fn_multiclass_targets.shape)"
   ]
  },
  {
   "cell_type": "markdown",
   "metadata": {
    "papermill": {
     "duration": 0.03249,
     "end_time": "2021-03-25T04:48:00.102876",
     "exception": false,
     "start_time": "2021-03-25T04:48:00.070386",
     "status": "completed"
    },
    "tags": []
   },
   "source": [
    "# modelling"
   ]
  },
  {
   "cell_type": "code",
   "execution_count": 13,
   "metadata": {
    "execution": {
     "iopub.execute_input": "2021-03-25T04:48:00.533416Z",
     "iopub.status.busy": "2021-03-25T04:48:00.532471Z",
     "iopub.status.idle": "2021-03-25T04:48:00.536178Z",
     "shell.execute_reply": "2021-03-25T04:48:00.535417Z"
    },
    "papermill": {
     "duration": 0.406525,
     "end_time": "2021-03-25T04:48:00.536315",
     "exception": false,
     "start_time": "2021-03-25T04:48:00.129790",
     "status": "completed"
    },
    "tags": []
   },
   "outputs": [],
   "source": [
    "device = \"cuda\" if torch.cuda.is_available() else \"cpu\""
   ]
  },
  {
   "cell_type": "code",
   "execution_count": 14,
   "metadata": {
    "execution": {
     "iopub.execute_input": "2021-03-25T04:48:00.600933Z",
     "iopub.status.busy": "2021-03-25T04:48:00.600098Z",
     "iopub.status.idle": "2021-03-25T04:48:00.618836Z",
     "shell.execute_reply": "2021-03-25T04:48:00.619348Z"
    },
    "papermill": {
     "duration": 0.05622,
     "end_time": "2021-03-25T04:48:00.619463",
     "exception": false,
     "start_time": "2021-03-25T04:48:00.563243",
     "status": "completed"
    },
    "tags": []
   },
   "outputs": [
    {
     "name": "stdout",
     "output_type": "stream",
     "text": [
      "cuda\n"
     ]
    }
   ],
   "source": [
    "print(device)\n",
    "def seed_everything(seed=42): \n",
    "    random.seed(seed)\n",
    "    os.environ['PYTHONHASHSEED'] = str(seed)\n",
    "    tf.random.set_seed(seed)\n",
    "    np.random.seed(seed)\n",
    "    torch.manual_seed(seed)\n",
    "    torch.cuda.manual_seed(seed)\n",
    "    torch.backends.cudnn.deterministic = True\n",
    "\n",
    "class MoaModel(nn.Module):\n",
    "    def __init__(self, num_columns, last_num):\n",
    "        super(MoaModel, self).__init__()\n",
    "        self.batch_norm1 = nn.BatchNorm1d(num_columns)\n",
    "        self.dropout1 = nn.Dropout(0.2)\n",
    "        self.dense1 = nn.utils.weight_norm(nn.Linear(num_columns, 1024))\n",
    "        self.relu1 = nn.LeakyReLU()\n",
    "        \n",
    "        self.batch_norm2 = nn.BatchNorm1d(1024)\n",
    "        self.dropout2 = nn.Dropout(0.2)\n",
    "        self.dense2 = nn.utils.weight_norm(nn.Linear(1024, 1024))\n",
    "        self.relu2 = nn.LeakyReLU()\n",
    "        \n",
    "        self.batch_norm3 = nn.BatchNorm1d(1024)\n",
    "        self.dropout3 = nn.Dropout(0.2)\n",
    "        self.dense3 = nn.utils.weight_norm(nn.Linear(1024, 1024))\n",
    "        self.relu3 = nn.LeakyReLU()\n",
    "        \n",
    "        self.batch_norm4 = nn.BatchNorm1d(1024)\n",
    "        self.dropout4 = nn.Dropout(0.2)\n",
    "        self.dense4 = nn.utils.weight_norm(nn.Linear(1024, last_num))\n",
    "        \n",
    "    def forward(self, x):\n",
    "        x = self.batch_norm1(x)\n",
    "        x = self.dropout1(x)\n",
    "        x = self.relu1(self.dense1(x))\n",
    "        \n",
    "        x = self.batch_norm2(x)\n",
    "        x = self.dropout2(x)\n",
    "        x = self.relu2(self.dense2(x))\n",
    "        \n",
    "        x = self.batch_norm3(x)\n",
    "        x = self.dropout3(x)\n",
    "        x = self.relu3(self.dense3(x))\n",
    "        \n",
    "        x = self.batch_norm4(x)\n",
    "        x = self.dropout4(x)\n",
    "        x = self.dense4(x)\n",
    "        \n",
    "        return x"
   ]
  },
  {
   "cell_type": "markdown",
   "metadata": {
    "papermill": {
     "duration": 0.028854,
     "end_time": "2021-03-25T04:48:00.677507",
     "exception": false,
     "start_time": "2021-03-25T04:48:00.648653",
     "status": "completed"
    },
    "tags": []
   },
   "source": [
    "# modelling"
   ]
  },
  {
   "cell_type": "code",
   "execution_count": 15,
   "metadata": {
    "execution": {
     "iopub.execute_input": "2021-03-25T04:48:00.750737Z",
     "iopub.status.busy": "2021-03-25T04:48:00.742314Z",
     "iopub.status.idle": "2021-03-25T04:48:00.786858Z",
     "shell.execute_reply": "2021-03-25T04:48:00.786213Z"
    },
    "papermill": {
     "duration": 0.080219,
     "end_time": "2021-03-25T04:48:00.787005",
     "exception": false,
     "start_time": "2021-03-25T04:48:00.706786",
     "status": "completed"
    },
    "tags": []
   },
   "outputs": [],
   "source": [
    "batch_size = 64\n",
    "n_folds=7\n",
    "EARLY_STOPPING_STEPS = 10\n",
    "smoothing = 0.001\n",
    "p_min = smoothing\n",
    "p_max = 1 - smoothing\n",
    "train_epochs = 10\n",
    "\n",
    "def multi_log_loss(y_true, y_pred):\n",
    "    metrics = []\n",
    "    for i, target in enumerate(target_feats):\n",
    "        metrics.append(log_loss(y_true[:, i], y_pred[:, i].astype(float), labels=[0,1]))\n",
    "    return np.mean(metrics)\n",
    "    \n",
    "def modelling_torch(tr, target, te, sample_seed, init_num, last_num):\n",
    "    seed_everything(seed=sample_seed) \n",
    "    X_train = tr.copy()\n",
    "    y_train = target.copy()\n",
    "    X_test = te.copy()\n",
    "    test_len = X_test.shape[0]\n",
    "    \n",
    "    mskf=KFold(n_splits = n_folds, shuffle=True, random_state=224)\n",
    "\n",
    "    models = []\n",
    "    \n",
    "    X_test2 = torch.tensor(X_test, dtype=torch.float32)\n",
    "    test = torch.utils.data.TensorDataset(X_test2) \n",
    "    test_loader = torch.utils.data.DataLoader(test, batch_size=batch_size, shuffle=False)\n",
    "    \n",
    "    oof = np.zeros([len(X_train),last_num])\n",
    "    oof_targets = np.zeros([len(X_train),last_num])\n",
    "    pred_value = np.zeros([test_len, last_num])\n",
    "    for fold, (train_index, valid_index) in enumerate(mskf.split(X_train, y_train)):\n",
    "        print(\"Seed \"+str(sample_seed)+\"_Fold \"+str(fold+1))\n",
    "        X_train2 = torch.tensor(X_train[train_index,:], dtype=torch.float32)\n",
    "        y_train2 = torch.tensor(y_train[train_index], dtype=torch.long)\n",
    "\n",
    "        X_valid2 = torch.tensor(X_train[valid_index,:], dtype=torch.float32)\n",
    "        y_valid2 = torch.tensor(y_train[valid_index], dtype=torch.long)\n",
    "        \n",
    "        train = torch.utils.data.TensorDataset(X_train2, y_train2)\n",
    "        valid = torch.utils.data.TensorDataset(X_valid2, y_valid2)\n",
    "        \n",
    "        train_loader = torch.utils.data.DataLoader(train, batch_size=batch_size, shuffle=True) \n",
    "        valid_loader = torch.utils.data.DataLoader(valid, batch_size=batch_size, shuffle=False)\n",
    "            \n",
    "        clf = MoaModel(init_num, last_num)\n",
    "        loss_fn = nn.CrossEntropyLoss() \n",
    "\n",
    "        optimizer = optim.Adam(clf.parameters(), lr = 0.01, weight_decay=1e-4) \n",
    "        scheduler = optim.lr_scheduler.OneCycleLR(optimizer=optimizer, pct_start=0.1, div_factor=1e3, \n",
    "                                              max_lr=2e-2, epochs=train_epochs, steps_per_epoch=len(train_loader))\n",
    "        \n",
    "        clf.to(device)\n",
    "        \n",
    "        best_val_loss = np.inf\n",
    "        stop_counts = 0\n",
    "        for epoch in range(train_epochs):\n",
    "            start_time = time.time()\n",
    "            clf.train()\n",
    "            avg_loss = 0.\n",
    "            for x_batch, y_batch in tqdm(train_loader, disable=True):\n",
    "                x_batch = x_batch.to(device)\n",
    "                y_batch = y_batch.to(device)\n",
    "                y_pred = clf(x_batch)\n",
    "                loss = loss_fn(y_pred, y_batch)\n",
    "                optimizer.zero_grad()\n",
    "                loss.backward()\n",
    "                optimizer.step()\n",
    "                scheduler.step()\n",
    "                avg_loss += loss.item() / len(train_loader)  \n",
    "                \n",
    "            clf.eval()\n",
    "            avg_val_loss = 0.\n",
    "            for i, (x_batch, y_batch) in enumerate(valid_loader): \n",
    "                x_batch = x_batch.to(device)\n",
    "                y_batch = y_batch.to(device)\n",
    "                y_pred = clf(x_batch).detach()\n",
    "                avg_val_loss += loss_fn(y_pred, y_batch).item() / len(valid_loader)\n",
    "        \n",
    "            elapsed_time = time.time() - start_time \n",
    "                    \n",
    "            if avg_val_loss < best_val_loss:\n",
    "                best_val_loss = avg_val_loss\n",
    "                print('Epoch {}  loss={:.5f}  val_loss={:.5f}  time={:.2f}s'.format(\n",
    "                    epoch + 1, avg_loss, avg_val_loss, elapsed_time))\n",
    "                torch.save(clf.state_dict(), 'best-model-parameters.pt')\n",
    "                stop_counts = 0\n",
    "            else:\n",
    "                stop_counts += 1\n",
    "                \n",
    "            if stop_counts >= EARLY_STOPPING_STEPS:\n",
    "                break\n",
    "        \n",
    "        pred_model = MoaModel(init_num, last_num)\n",
    "        pred_model.load_state_dict(torch.load('best-model-parameters.pt'))         \n",
    "        pred_model.eval()\n",
    "        \n",
    "        # validation check ----------------\n",
    "        oof_epoch = np.zeros([X_valid2.size(0), last_num])\n",
    "        target_epoch = np.zeros([X_valid2.size(0), last_num])\n",
    "        for i, (x_batch, y_batch) in enumerate(valid_loader): \n",
    "            y_pred = pred_model(x_batch).detach()\n",
    "            oof_epoch[i * batch_size:(i+1) * batch_size,:] = F.softmax(y_pred.cpu()) \n",
    "        oof[valid_index,:] = oof_epoch\n",
    "        #-----------------------------------\n",
    "        \n",
    "        # test predcition --------------\n",
    "        test_preds = np.zeros([test_len, last_num])\n",
    "        for i, (x_batch,) in enumerate(test_loader): \n",
    "            y_pred = pred_model(x_batch).detach()\n",
    "            test_preds[i * batch_size:(i+1) * batch_size, :] = F.softmax(y_pred.cpu()) \n",
    "        pred_value += test_preds / n_folds\n",
    "        # ------------------------------\n",
    "    \n",
    "    return oof, pred_value"
   ]
  },
  {
   "cell_type": "code",
   "execution_count": 16,
   "metadata": {
    "execution": {
     "iopub.execute_input": "2021-03-25T04:48:00.835068Z",
     "iopub.status.busy": "2021-03-25T04:48:00.834273Z",
     "iopub.status.idle": "2021-03-25T04:58:38.200947Z",
     "shell.execute_reply": "2021-03-25T04:58:38.201505Z"
    },
    "papermill": {
     "duration": 637.394715,
     "end_time": "2021-03-25T04:58:38.201681",
     "exception": false,
     "start_time": "2021-03-25T04:48:00.806966",
     "status": "completed"
    },
    "tags": []
   },
   "outputs": [
    {
     "name": "stdout",
     "output_type": "stream",
     "text": [
      "Seed 0_Fold 1\n",
      "Epoch 1  loss=4.01419  val_loss=3.42486  time=2.10s\n",
      "Epoch 2  loss=3.29696  val_loss=3.25035  time=1.50s\n",
      "Epoch 3  loss=3.18560  val_loss=3.18500  time=1.51s\n",
      "Epoch 4  loss=3.13138  val_loss=3.16785  time=1.70s\n",
      "Epoch 5  loss=3.06944  val_loss=3.10590  time=1.52s\n",
      "Epoch 6  loss=3.00349  val_loss=3.07013  time=1.55s\n",
      "Epoch 7  loss=2.90878  val_loss=2.98563  time=1.49s\n",
      "Epoch 8  loss=2.75449  val_loss=2.92837  time=1.49s\n",
      "Epoch 9  loss=2.55783  val_loss=2.87913  time=1.51s\n",
      "Epoch 10  loss=2.38975  val_loss=2.87351  time=1.56s\n",
      "Seed 0_Fold 2\n",
      "Epoch 1  loss=4.00634  val_loss=3.32515  time=1.52s\n",
      "Epoch 2  loss=3.31754  val_loss=3.16618  time=1.53s\n",
      "Epoch 3  loss=3.21018  val_loss=3.15799  time=1.52s\n",
      "Epoch 4  loss=3.15162  val_loss=3.05477  time=1.50s\n",
      "Epoch 5  loss=3.09134  val_loss=3.01255  time=1.86s\n",
      "Epoch 6  loss=3.01034  val_loss=2.96332  time=1.72s\n",
      "Epoch 7  loss=2.91678  val_loss=2.91408  time=1.52s\n",
      "Epoch 8  loss=2.78037  val_loss=2.83957  time=1.50s\n",
      "Epoch 9  loss=2.58258  val_loss=2.79300  time=1.53s\n",
      "Epoch 10  loss=2.40669  val_loss=2.79043  time=1.55s\n",
      "Seed 0_Fold 3\n",
      "Epoch 1  loss=4.01060  val_loss=3.43284  time=1.52s\n",
      "Epoch 2  loss=3.29656  val_loss=3.28088  time=1.81s\n",
      "Epoch 3  loss=3.19170  val_loss=3.21071  time=1.51s\n",
      "Epoch 4  loss=3.13357  val_loss=3.16993  time=1.51s\n",
      "Epoch 5  loss=3.06848  val_loss=3.10804  time=1.58s\n",
      "Epoch 6  loss=3.00004  val_loss=3.06880  time=1.52s\n",
      "Epoch 7  loss=2.89783  val_loss=3.02438  time=1.54s\n",
      "Epoch 8  loss=2.75043  val_loss=2.96558  time=1.59s\n",
      "Epoch 9  loss=2.56844  val_loss=2.92725  time=1.69s\n",
      "Epoch 10  loss=2.39816  val_loss=2.92226  time=1.52s\n",
      "Seed 0_Fold 4\n",
      "Epoch 1  loss=4.00352  val_loss=3.45505  time=1.55s\n",
      "Epoch 2  loss=3.28934  val_loss=3.32305  time=1.52s\n",
      "Epoch 3  loss=3.17858  val_loss=3.28644  time=1.94s\n",
      "Epoch 4  loss=3.12376  val_loss=3.25826  time=1.75s\n",
      "Epoch 5  loss=3.06712  val_loss=3.20293  time=1.52s\n",
      "Epoch 6  loss=2.99685  val_loss=3.13309  time=1.51s\n",
      "Epoch 7  loss=2.89836  val_loss=3.07120  time=1.53s\n",
      "Epoch 8  loss=2.75258  val_loss=2.99223  time=1.54s\n",
      "Epoch 9  loss=2.55997  val_loss=2.96335  time=1.52s\n",
      "Epoch 10  loss=2.39749  val_loss=2.95539  time=1.50s\n",
      "Seed 0_Fold 5\n",
      "Epoch 1  loss=4.00560  val_loss=3.32664  time=1.51s\n",
      "Epoch 2  loss=3.30806  val_loss=3.23473  time=1.50s\n",
      "Epoch 3  loss=3.20485  val_loss=3.14557  time=1.50s\n",
      "Epoch 4  loss=3.14957  val_loss=3.11104  time=1.50s\n",
      "Epoch 5  loss=3.07931  val_loss=3.02788  time=1.52s\n",
      "Epoch 6  loss=3.01037  val_loss=2.97890  time=1.51s\n",
      "Epoch 7  loss=2.91052  val_loss=2.93209  time=1.74s\n",
      "Epoch 8  loss=2.76429  val_loss=2.84902  time=1.50s\n",
      "Epoch 9  loss=2.56842  val_loss=2.81352  time=1.50s\n",
      "Epoch 10  loss=2.39944  val_loss=2.81133  time=1.53s\n",
      "Seed 0_Fold 6\n",
      "Epoch 1  loss=4.00007  val_loss=3.29951  time=1.90s\n",
      "Epoch 2  loss=3.30167  val_loss=3.22190  time=1.80s\n",
      "Epoch 3  loss=3.19603  val_loss=3.13894  time=1.54s\n",
      "Epoch 4  loss=3.13548  val_loss=3.09671  time=1.50s\n",
      "Epoch 5  loss=3.08703  val_loss=3.04032  time=1.53s\n",
      "Epoch 6  loss=3.01072  val_loss=2.98633  time=1.53s\n",
      "Epoch 7  loss=2.91657  val_loss=2.94626  time=1.49s\n",
      "Epoch 8  loss=2.76495  val_loss=2.86578  time=1.50s\n",
      "Epoch 9  loss=2.58000  val_loss=2.82382  time=1.78s\n",
      "Epoch 10  loss=2.40273  val_loss=2.82225  time=1.61s\n",
      "Seed 0_Fold 7\n",
      "Epoch 1  loss=4.00821  val_loss=3.34044  time=1.55s\n",
      "Epoch 2  loss=3.30833  val_loss=3.18144  time=1.51s\n",
      "Epoch 4  loss=3.14556  val_loss=3.08237  time=1.53s\n",
      "Epoch 5  loss=3.08768  val_loss=3.03205  time=1.76s\n",
      "Epoch 6  loss=3.01310  val_loss=2.98096  time=1.52s\n",
      "Epoch 7  loss=2.90943  val_loss=2.93144  time=1.52s\n",
      "Epoch 8  loss=2.77482  val_loss=2.86057  time=1.56s\n",
      "Epoch 9  loss=2.57642  val_loss=2.83020  time=1.53s\n",
      "Epoch 10  loss=2.40883  val_loss=2.82323  time=1.73s\n",
      "Seed 1_Fold 1\n",
      "Epoch 1  loss=3.99070  val_loss=3.41999  time=1.55s\n",
      "Epoch 2  loss=3.30154  val_loss=3.24616  time=1.54s\n",
      "Epoch 3  loss=3.18062  val_loss=3.21394  time=1.64s\n",
      "Epoch 4  loss=3.12497  val_loss=3.15509  time=1.52s\n",
      "Epoch 5  loss=3.06732  val_loss=3.10940  time=1.55s\n",
      "Epoch 6  loss=3.00075  val_loss=3.05041  time=1.51s\n",
      "Epoch 7  loss=2.90757  val_loss=2.96749  time=1.71s\n",
      "Epoch 8  loss=2.75330  val_loss=2.91897  time=1.52s\n",
      "Epoch 9  loss=2.56424  val_loss=2.89048  time=1.53s\n",
      "Epoch 10  loss=2.38986  val_loss=2.87993  time=1.51s\n",
      "Seed 1_Fold 2\n",
      "Epoch 1  loss=4.02079  val_loss=3.32807  time=1.50s\n",
      "Epoch 2  loss=3.31180  val_loss=3.14889  time=1.53s\n",
      "Epoch 3  loss=3.20438  val_loss=3.13489  time=1.76s\n",
      "Epoch 4  loss=3.15027  val_loss=3.11663  time=1.52s\n",
      "Epoch 5  loss=3.08369  val_loss=3.02895  time=1.55s\n",
      "Epoch 6  loss=3.02591  val_loss=2.96315  time=1.56s\n",
      "Epoch 7  loss=2.91759  val_loss=2.91385  time=1.51s\n",
      "Epoch 8  loss=2.78540  val_loss=2.81727  time=1.86s\n",
      "Epoch 9  loss=2.57880  val_loss=2.79470  time=1.70s\n",
      "Epoch 10  loss=2.40626  val_loss=2.78427  time=1.52s\n",
      "Seed 1_Fold 3\n",
      "Epoch 1  loss=4.00844  val_loss=3.40375  time=1.50s\n",
      "Epoch 2  loss=3.28352  val_loss=3.31577  time=1.50s\n",
      "Epoch 3  loss=3.18523  val_loss=3.21874  time=1.51s\n",
      "Epoch 4  loss=3.13515  val_loss=3.18899  time=1.52s\n",
      "Epoch 5  loss=3.07064  val_loss=3.13345  time=1.78s\n",
      "Epoch 6  loss=2.99574  val_loss=3.08082  time=1.52s\n",
      "Epoch 7  loss=2.90236  val_loss=3.03242  time=1.51s\n",
      "Epoch 8  loss=2.75354  val_loss=2.98754  time=1.53s\n",
      "Epoch 9  loss=2.55749  val_loss=2.93799  time=1.54s\n",
      "Epoch 10  loss=2.40105  val_loss=2.93402  time=1.53s\n",
      "Seed 1_Fold 4\n",
      "Epoch 1  loss=4.00866  val_loss=3.47177  time=1.74s\n",
      "Epoch 2  loss=3.28304  val_loss=3.33623  time=1.56s\n",
      "Epoch 3  loss=3.18197  val_loss=3.24098  time=1.51s\n",
      "Epoch 5  loss=3.06432  val_loss=3.20881  time=1.53s\n",
      "Epoch 6  loss=2.98987  val_loss=3.14356  time=1.92s\n",
      "Epoch 7  loss=2.89653  val_loss=3.07335  time=1.85s\n",
      "Epoch 8  loss=2.76634  val_loss=3.02371  time=1.65s\n",
      "Epoch 9  loss=2.57322  val_loss=2.96714  time=1.59s\n",
      "Seed 1_Fold 5\n",
      "Epoch 1  loss=4.00782  val_loss=3.30278  time=1.56s\n",
      "Epoch 2  loss=3.30344  val_loss=3.20926  time=1.54s\n",
      "Epoch 3  loss=3.20804  val_loss=3.10639  time=1.78s\n",
      "Epoch 4  loss=3.14499  val_loss=3.10479  time=1.53s\n",
      "Epoch 5  loss=3.09314  val_loss=3.06530  time=1.54s\n",
      "Epoch 6  loss=3.01950  val_loss=3.01748  time=1.54s\n",
      "Epoch 7  loss=2.91587  val_loss=2.95204  time=1.54s\n",
      "Epoch 8  loss=2.77181  val_loss=2.87063  time=1.53s\n",
      "Epoch 9  loss=2.56472  val_loss=2.82940  time=1.55s\n",
      "Epoch 10  loss=2.39036  val_loss=2.82420  time=1.82s\n",
      "Seed 1_Fold 6\n",
      "Epoch 1  loss=4.01483  val_loss=3.35011  time=1.55s\n",
      "Epoch 2  loss=3.30620  val_loss=3.17548  time=1.55s\n",
      "Epoch 3  loss=3.20251  val_loss=3.11636  time=1.86s\n",
      "Epoch 4  loss=3.13869  val_loss=3.06918  time=1.53s\n",
      "Epoch 5  loss=3.09911  val_loss=3.02054  time=1.74s\n",
      "Epoch 6  loss=3.00818  val_loss=2.97788  time=1.55s\n",
      "Epoch 7  loss=2.91375  val_loss=2.94621  time=1.54s\n",
      "Epoch 8  loss=2.77862  val_loss=2.87289  time=1.52s\n",
      "Epoch 9  loss=2.59693  val_loss=2.84487  time=1.51s\n",
      "Epoch 10  loss=2.42356  val_loss=2.83293  time=1.51s\n",
      "Seed 1_Fold 7\n",
      "Epoch 1  loss=4.02331  val_loss=3.35312  time=1.70s\n",
      "Epoch 2  loss=3.31007  val_loss=3.18918  time=1.62s\n",
      "Epoch 3  loss=3.20228  val_loss=3.15163  time=1.52s\n",
      "Epoch 4  loss=3.14124  val_loss=3.08513  time=1.53s\n",
      "Epoch 5  loss=3.08702  val_loss=3.03279  time=1.54s\n",
      "Epoch 6  loss=3.00978  val_loss=2.99727  time=1.51s\n",
      "Epoch 7  loss=2.91420  val_loss=2.94584  time=1.78s\n",
      "Epoch 8  loss=2.77226  val_loss=2.86539  time=1.66s\n",
      "Epoch 9  loss=2.58556  val_loss=2.84385  time=1.59s\n",
      "Seed 2_Fold 1\n",
      "Epoch 1  loss=3.99054  val_loss=3.41228  time=1.54s\n",
      "Epoch 2  loss=3.29095  val_loss=3.24822  time=1.51s\n",
      "Epoch 3  loss=3.19893  val_loss=3.19546  time=1.74s\n",
      "Epoch 4  loss=3.14074  val_loss=3.15888  time=1.54s\n",
      "Epoch 5  loss=3.07624  val_loss=3.14148  time=1.51s\n",
      "Epoch 6  loss=3.00644  val_loss=3.03170  time=1.50s\n",
      "Epoch 7  loss=2.91444  val_loss=2.98080  time=1.51s\n",
      "Epoch 8  loss=2.76333  val_loss=2.91068  time=1.51s\n",
      "Epoch 9  loss=2.57152  val_loss=2.88212  time=1.52s\n",
      "Epoch 10  loss=2.40531  val_loss=2.87064  time=1.74s\n",
      "Seed 2_Fold 2\n",
      "Epoch 1  loss=4.03649  val_loss=3.29939  time=1.51s\n",
      "Epoch 2  loss=3.31347  val_loss=3.16595  time=1.51s\n",
      "Epoch 3  loss=3.20238  val_loss=3.15324  time=1.53s\n",
      "Epoch 4  loss=3.15318  val_loss=3.06993  time=1.56s\n",
      "Epoch 5  loss=3.09102  val_loss=3.00167  time=1.74s\n",
      "Epoch 6  loss=3.02844  val_loss=2.96562  time=1.51s\n",
      "Epoch 7  loss=2.92117  val_loss=2.91129  time=1.54s\n",
      "Epoch 8  loss=2.79013  val_loss=2.85409  time=1.51s\n",
      "Epoch 9  loss=2.59057  val_loss=2.80170  time=1.90s\n",
      "Epoch 10  loss=2.42796  val_loss=2.79973  time=1.57s\n",
      "Seed 2_Fold 3\n",
      "Epoch 1  loss=3.99281  val_loss=3.44266  time=1.81s\n",
      "Epoch 2  loss=3.28499  val_loss=3.29517  time=1.59s\n",
      "Epoch 3  loss=3.18204  val_loss=3.27470  time=1.51s\n",
      "Epoch 4  loss=3.11586  val_loss=3.22449  time=1.51s\n",
      "Epoch 5  loss=3.07301  val_loss=3.11536  time=1.53s\n",
      "Epoch 6  loss=3.00585  val_loss=3.09948  time=1.51s\n",
      "Epoch 7  loss=2.89519  val_loss=3.04519  time=1.49s\n",
      "Epoch 8  loss=2.76271  val_loss=2.96847  time=1.71s\n",
      "Epoch 9  loss=2.56879  val_loss=2.93698  time=1.52s\n",
      "Epoch 10  loss=2.39591  val_loss=2.93290  time=1.53s\n",
      "Seed 2_Fold 4\n",
      "Epoch 1  loss=3.99125  val_loss=3.48729  time=1.57s\n",
      "Epoch 2  loss=3.28408  val_loss=3.36668  time=1.51s\n",
      "Epoch 3  loss=3.18650  val_loss=3.25885  time=1.70s\n",
      "Epoch 5  loss=3.06371  val_loss=3.23948  time=1.52s\n",
      "Epoch 6  loss=2.99367  val_loss=3.12945  time=1.50s\n",
      "Epoch 7  loss=2.89561  val_loss=3.07077  time=1.88s\n",
      "Epoch 8  loss=2.75105  val_loss=3.02321  time=1.52s\n",
      "Epoch 9  loss=2.56028  val_loss=2.98082  time=1.52s\n",
      "Seed 2_Fold 5\n",
      "Epoch 1  loss=4.00221  val_loss=3.32977  time=1.50s\n",
      "Epoch 2  loss=3.31213  val_loss=3.15758  time=1.51s\n",
      "Epoch 3  loss=3.19941  val_loss=3.12077  time=1.51s\n",
      "Epoch 4  loss=3.13667  val_loss=3.12052  time=1.50s\n",
      "Epoch 5  loss=3.08726  val_loss=3.06591  time=1.51s\n",
      "Epoch 6  loss=3.01143  val_loss=2.97457  time=1.72s\n",
      "Epoch 7  loss=2.91694  val_loss=2.92998  time=1.50s\n",
      "Epoch 8  loss=2.77572  val_loss=2.87540  time=1.52s\n",
      "Epoch 9  loss=2.57583  val_loss=2.82462  time=1.55s\n",
      "Epoch 10  loss=2.40676  val_loss=2.82280  time=1.50s\n",
      "Seed 2_Fold 6\n",
      "Epoch 1  loss=4.05115  val_loss=3.30818  time=1.52s\n",
      "Epoch 2  loss=3.30878  val_loss=3.15250  time=1.86s\n",
      "Epoch 3  loss=3.20798  val_loss=3.14914  time=1.65s\n",
      "Epoch 4  loss=3.14480  val_loss=3.11511  time=1.88s\n",
      "Epoch 5  loss=3.08259  val_loss=3.03715  time=1.54s\n",
      "Epoch 6  loss=3.01432  val_loss=3.00388  time=1.57s\n",
      "Epoch 7  loss=2.90805  val_loss=2.94674  time=1.54s\n",
      "Epoch 8  loss=2.76247  val_loss=2.89439  time=1.80s\n",
      "Epoch 9  loss=2.56833  val_loss=2.85655  time=1.57s\n",
      "Epoch 10  loss=2.39455  val_loss=2.83988  time=1.53s\n",
      "Seed 2_Fold 7\n",
      "Epoch 1  loss=4.00675  val_loss=3.34373  time=1.55s\n",
      "Epoch 2  loss=3.30416  val_loss=3.18613  time=1.56s\n",
      "Epoch 3  loss=3.20360  val_loss=3.11515  time=1.51s\n",
      "Epoch 4  loss=3.14875  val_loss=3.10894  time=1.77s\n",
      "Epoch 5  loss=3.08680  val_loss=3.05279  time=1.54s\n",
      "Epoch 6  loss=3.01920  val_loss=2.98463  time=1.57s\n",
      "Epoch 7  loss=2.91307  val_loss=2.95916  time=1.52s\n",
      "Epoch 8  loss=2.78216  val_loss=2.89293  time=1.53s\n",
      "Epoch 9  loss=2.58802  val_loss=2.84024  time=1.51s\n",
      "Seed 3_Fold 1\n",
      "Epoch 1  loss=4.00445  val_loss=3.45429  time=1.51s\n",
      "Epoch 2  loss=3.29409  val_loss=3.26148  time=1.85s\n",
      "Epoch 3  loss=3.19667  val_loss=3.20429  time=1.49s\n",
      "Epoch 4  loss=3.13044  val_loss=3.18105  time=1.48s\n",
      "Epoch 5  loss=3.07166  val_loss=3.10549  time=1.53s\n",
      "Epoch 6  loss=2.99577  val_loss=3.05178  time=1.71s\n",
      "Epoch 7  loss=2.91120  val_loss=2.97890  time=1.53s\n",
      "Epoch 8  loss=2.76005  val_loss=2.93914  time=1.49s\n",
      "Epoch 9  loss=2.55551  val_loss=2.88687  time=1.52s\n",
      "Epoch 10  loss=2.38486  val_loss=2.88524  time=1.51s\n",
      "Seed 3_Fold 2\n",
      "Epoch 1  loss=4.03613  val_loss=3.33864  time=1.53s\n",
      "Epoch 2  loss=3.29639  val_loss=3.18521  time=1.71s\n",
      "Epoch 3  loss=3.20222  val_loss=3.13805  time=1.54s\n",
      "Epoch 4  loss=3.13695  val_loss=3.07463  time=1.50s\n",
      "Epoch 5  loss=3.08356  val_loss=2.98156  time=1.49s\n",
      "Epoch 6  loss=3.01067  val_loss=2.96002  time=1.52s\n",
      "Epoch 7  loss=2.91001  val_loss=2.90639  time=1.53s\n",
      "Epoch 8  loss=2.77467  val_loss=2.84479  time=1.50s\n",
      "Epoch 9  loss=2.56600  val_loss=2.79447  time=1.73s\n",
      "Epoch 10  loss=2.39065  val_loss=2.79012  time=1.69s\n",
      "Seed 3_Fold 3\n",
      "Epoch 1  loss=3.98324  val_loss=3.44505  time=1.48s\n",
      "Epoch 2  loss=3.27873  val_loss=3.28805  time=1.50s\n",
      "Epoch 3  loss=3.18371  val_loss=3.19716  time=1.51s\n",
      "Epoch 4  loss=3.12726  val_loss=3.17503  time=1.57s\n",
      "Epoch 6  loss=2.99483  val_loss=3.07775  time=1.51s\n",
      "Epoch 7  loss=2.89542  val_loss=3.01566  time=1.49s\n",
      "Epoch 8  loss=2.75878  val_loss=2.96081  time=1.52s\n",
      "Epoch 9  loss=2.56367  val_loss=2.92728  time=1.49s\n",
      "Seed 3_Fold 4\n",
      "Epoch 1  loss=3.98252  val_loss=3.44067  time=1.66s\n",
      "Epoch 2  loss=3.27422  val_loss=3.31923  time=1.50s\n",
      "Epoch 3  loss=3.17956  val_loss=3.29930  time=1.52s\n",
      "Epoch 5  loss=3.06703  val_loss=3.19273  time=1.50s\n",
      "Epoch 6  loss=2.98955  val_loss=3.14586  time=1.51s\n",
      "Epoch 8  loss=2.74742  val_loss=3.01474  time=1.86s\n",
      "Epoch 9  loss=2.55855  val_loss=2.98313  time=1.50s\n",
      "Epoch 10  loss=2.38886  val_loss=2.98117  time=1.50s\n",
      "Seed 3_Fold 5\n",
      "Epoch 1  loss=3.99564  val_loss=3.35563  time=1.52s\n",
      "Epoch 2  loss=3.30679  val_loss=3.21907  time=1.56s\n",
      "Epoch 3  loss=3.20753  val_loss=3.13148  time=1.84s\n",
      "Epoch 4  loss=3.14315  val_loss=3.06662  time=1.64s\n",
      "Epoch 5  loss=3.08876  val_loss=3.03921  time=1.59s\n",
      "Epoch 6  loss=3.01497  val_loss=2.97366  time=1.53s\n",
      "Epoch 7  loss=2.90704  val_loss=2.93286  time=1.53s\n",
      "Epoch 8  loss=2.76856  val_loss=2.86239  time=1.55s\n",
      "Epoch 9  loss=2.57546  val_loss=2.81347  time=1.74s\n",
      "Seed 3_Fold 6\n",
      "Epoch 1  loss=4.01611  val_loss=3.33404  time=1.51s\n",
      "Epoch 2  loss=3.30364  val_loss=3.19540  time=1.52s\n",
      "Epoch 3  loss=3.20029  val_loss=3.13819  time=1.52s\n",
      "Epoch 4  loss=3.14421  val_loss=3.09448  time=1.50s\n",
      "Epoch 5  loss=3.08695  val_loss=3.05654  time=1.86s\n",
      "Epoch 6  loss=3.01062  val_loss=3.02785  time=1.74s\n",
      "Epoch 7  loss=2.92229  val_loss=2.93656  time=1.51s\n",
      "Epoch 8  loss=2.77724  val_loss=2.88580  time=1.51s\n",
      "Epoch 9  loss=2.58698  val_loss=2.83120  time=1.63s\n",
      "Epoch 10  loss=2.42697  val_loss=2.82649  time=1.53s\n",
      "Seed 3_Fold 7\n",
      "Epoch 1  loss=4.00737  val_loss=3.35742  time=1.80s\n",
      "Epoch 2  loss=3.31203  val_loss=3.18158  time=1.55s\n",
      "Epoch 3  loss=3.19558  val_loss=3.16846  time=1.51s\n",
      "Epoch 4  loss=3.14386  val_loss=3.07287  time=1.51s\n",
      "Epoch 5  loss=3.08822  val_loss=3.04096  time=1.52s\n",
      "Epoch 7  loss=2.91225  val_loss=2.95213  time=1.53s\n",
      "Epoch 8  loss=2.77175  val_loss=2.88512  time=1.71s\n",
      "Epoch 9  loss=2.58066  val_loss=2.83739  time=1.53s\n",
      "Epoch 10  loss=2.40606  val_loss=2.82544  time=1.52s\n",
      "Seed 4_Fold 1\n",
      "Epoch 1  loss=4.00403  val_loss=3.36878  time=1.50s\n",
      "Epoch 2  loss=3.29651  val_loss=3.23311  time=1.52s\n",
      "Epoch 3  loss=3.19188  val_loss=3.19776  time=2.20s\n",
      "Epoch 4  loss=3.12512  val_loss=3.13936  time=1.50s\n",
      "Epoch 5  loss=3.07639  val_loss=3.13091  time=1.54s\n",
      "Epoch 6  loss=2.99915  val_loss=3.06574  time=1.51s\n",
      "Epoch 7  loss=2.90001  val_loss=2.96364  time=1.51s\n",
      "Epoch 8  loss=2.75499  val_loss=2.92787  time=1.54s\n",
      "Epoch 9  loss=2.56099  val_loss=2.89039  time=1.55s\n",
      "Epoch 10  loss=2.37388  val_loss=2.88582  time=1.82s\n",
      "Seed 4_Fold 2\n",
      "Epoch 1  loss=4.01927  val_loss=3.32473  time=1.52s\n",
      "Epoch 2  loss=3.30782  val_loss=3.14672  time=1.50s\n",
      "Epoch 3  loss=3.19482  val_loss=3.11902  time=1.56s\n",
      "Epoch 4  loss=3.13527  val_loss=3.08866  time=1.50s\n",
      "Epoch 5  loss=3.08745  val_loss=3.00596  time=1.69s\n",
      "Epoch 6  loss=3.02690  val_loss=2.94536  time=1.59s\n",
      "Epoch 7  loss=2.92165  val_loss=2.92153  time=1.52s\n",
      "Epoch 8  loss=2.77290  val_loss=2.86373  time=1.51s\n",
      "Epoch 9  loss=2.58570  val_loss=2.79909  time=1.57s\n",
      "Epoch 10  loss=2.40538  val_loss=2.79774  time=1.53s\n",
      "Seed 4_Fold 3\n",
      "Epoch 1  loss=4.00580  val_loss=3.45793  time=2.15s\n",
      "Epoch 2  loss=3.28776  val_loss=3.26918  time=1.51s\n",
      "Epoch 3  loss=3.18437  val_loss=3.21828  time=1.49s\n",
      "Epoch 4  loss=3.13306  val_loss=3.20283  time=1.53s\n",
      "Epoch 5  loss=3.06817  val_loss=3.14731  time=1.51s\n",
      "Epoch 6  loss=3.00189  val_loss=3.07871  time=1.48s\n",
      "Epoch 7  loss=2.90590  val_loss=3.03040  time=1.51s\n",
      "Epoch 8  loss=2.76835  val_loss=2.99270  time=1.76s\n",
      "Epoch 9  loss=2.58102  val_loss=2.93926  time=1.60s\n",
      "Seed 4_Fold 4\n",
      "Epoch 1  loss=3.97944  val_loss=3.43277  time=1.57s\n",
      "Epoch 2  loss=3.28600  val_loss=3.27561  time=1.51s\n",
      "Epoch 5  loss=3.06372  val_loss=3.17361  time=1.51s\n",
      "Epoch 6  loss=2.98224  val_loss=3.15372  time=1.51s\n",
      "Epoch 7  loss=2.88512  val_loss=3.07607  time=1.51s\n",
      "Epoch 8  loss=2.73111  val_loss=3.01652  time=1.51s\n",
      "Epoch 9  loss=2.55334  val_loss=2.97153  time=1.70s\n",
      "Epoch 10  loss=2.37461  val_loss=2.96420  time=1.84s\n",
      "Seed 4_Fold 5\n",
      "Epoch 1  loss=3.99384  val_loss=3.33501  time=1.49s\n",
      "Epoch 2  loss=3.30018  val_loss=3.20074  time=1.50s\n",
      "Epoch 3  loss=3.20065  val_loss=3.14044  time=1.50s\n",
      "Epoch 4  loss=3.14080  val_loss=3.07907  time=1.49s\n",
      "Epoch 5  loss=3.09186  val_loss=3.02719  time=1.54s\n",
      "Epoch 6  loss=3.01594  val_loss=2.99230  time=1.72s\n",
      "Epoch 7  loss=2.91077  val_loss=2.90939  time=1.50s\n",
      "Epoch 8  loss=2.77370  val_loss=2.85565  time=1.51s\n",
      "Epoch 9  loss=2.58478  val_loss=2.81867  time=1.57s\n",
      "Epoch 10  loss=2.41628  val_loss=2.81388  time=1.50s\n",
      "Seed 4_Fold 6\n",
      "Epoch 1  loss=4.00874  val_loss=3.31774  time=1.49s\n",
      "Epoch 2  loss=3.30363  val_loss=3.19679  time=1.73s\n",
      "Epoch 3  loss=3.19384  val_loss=3.14649  time=1.49s\n",
      "Epoch 4  loss=3.14122  val_loss=3.09529  time=1.53s\n",
      "Epoch 5  loss=3.08417  val_loss=3.04077  time=1.51s\n",
      "Epoch 6  loss=3.00938  val_loss=2.99614  time=1.51s\n",
      "Epoch 7  loss=2.91972  val_loss=2.94641  time=1.62s\n",
      "Epoch 8  loss=2.77566  val_loss=2.87368  time=1.78s\n",
      "Epoch 9  loss=2.59041  val_loss=2.83730  time=1.71s\n",
      "Epoch 10  loss=2.43243  val_loss=2.83198  time=1.51s\n",
      "Seed 4_Fold 7\n",
      "Epoch 1  loss=4.00224  val_loss=3.32019  time=1.51s\n",
      "Epoch 2  loss=3.30880  val_loss=3.17664  time=1.51s\n",
      "Epoch 3  loss=3.20593  val_loss=3.17036  time=1.51s\n",
      "Epoch 4  loss=3.15370  val_loss=3.15891  time=1.51s\n",
      "Epoch 5  loss=3.08537  val_loss=3.09107  time=1.74s\n",
      "Epoch 6  loss=3.02090  val_loss=2.97530  time=1.59s\n",
      "Epoch 7  loss=2.91476  val_loss=2.92677  time=1.50s\n",
      "Epoch 8  loss=2.77606  val_loss=2.86947  time=1.49s\n",
      "Epoch 9  loss=2.58877  val_loss=2.83134  time=1.50s\n",
      "Epoch 10  loss=2.41205  val_loss=2.82573  time=1.50s\n"
     ]
    }
   ],
   "source": [
    "seeds = [0,1,2,3,4]\n",
    "target_oof = np.zeros([len(fn_train), class_num])\n",
    "target_pred = np.zeros([len(fn_test), class_num])\n",
    "\n",
    "for seed_ in seeds:\n",
    "    best_oof, pytorch_pred = modelling_torch(fn_train, fn_multiclass_targets, fn_test, seed_, fn_train.shape[1], class_num)\n",
    "    target_oof += best_oof / len(seeds)\n",
    "    target_pred += pytorch_pred / len(seeds)"
   ]
  },
  {
   "cell_type": "code",
   "execution_count": 17,
   "metadata": {
    "execution": {
     "iopub.execute_input": "2021-03-25T04:58:38.619100Z",
     "iopub.status.busy": "2021-03-25T04:58:38.618065Z",
     "iopub.status.idle": "2021-03-25T04:58:38.696238Z",
     "shell.execute_reply": "2021-03-25T04:58:38.694975Z"
    },
    "papermill": {
     "duration": 0.293519,
     "end_time": "2021-03-25T04:58:38.696346",
     "exception": false,
     "start_time": "2021-03-25T04:58:38.402827",
     "status": "completed"
    },
    "tags": []
   },
   "outputs": [],
   "source": [
    "target_oof = np.dot(target_oof, classid_target)\n",
    "target_pred = np.dot(target_pred, classid_target)"
   ]
  },
  {
   "cell_type": "code",
   "execution_count": 18,
   "metadata": {
    "execution": {
     "iopub.execute_input": "2021-03-25T04:58:38.944527Z",
     "iopub.status.busy": "2021-03-25T04:58:38.943760Z",
     "iopub.status.idle": "2021-03-25T04:58:44.816030Z",
     "shell.execute_reply": "2021-03-25T04:58:44.815547Z"
    },
    "papermill": {
     "duration": 6.003023,
     "end_time": "2021-03-25T04:58:44.816128",
     "exception": false,
     "start_time": "2021-03-25T04:58:38.813105",
     "status": "completed"
    },
    "tags": []
   },
   "outputs": [
    {
     "name": "stdout",
     "output_type": "stream",
     "text": [
      "OOF log loss:  0.014478997719235697\n"
     ]
    }
   ],
   "source": [
    "t = pd.read_csv(DATA_DIR + 'train_targets_scored.csv')\n",
    "train_checkscore = t.copy()\n",
    "train_checkscore.loc[cons_train_index,target_feats] = np.clip(target_oof, p_min, p_max)\n",
    "train_checkscore.loc[noncons_train_index,target_feats] = 0\n",
    "t.drop(\"sig_id\", axis=1, inplace=True)\n",
    "print('OOF log loss: ', log_loss(np.ravel(t), np.ravel(np.array(train_checkscore.iloc[:,1:]))))"
   ]
  },
  {
   "cell_type": "code",
   "execution_count": 19,
   "metadata": {
    "execution": {
     "iopub.execute_input": "2021-03-25T04:58:45.075482Z",
     "iopub.status.busy": "2021-03-25T04:58:45.074588Z",
     "iopub.status.idle": "2021-03-25T04:58:53.495506Z",
     "shell.execute_reply": "2021-03-25T04:58:53.494418Z"
    },
    "papermill": {
     "duration": 8.561699,
     "end_time": "2021-03-25T04:58:53.495653",
     "exception": false,
     "start_time": "2021-03-25T04:58:44.933954",
     "status": "completed"
    },
    "tags": []
   },
   "outputs": [],
   "source": [
    "train_checkscore.to_csv(\"mlp_oof.csv\", index=False)"
   ]
  },
  {
   "cell_type": "code",
   "execution_count": 20,
   "metadata": {
    "execution": {
     "iopub.execute_input": "2021-03-25T04:58:53.743411Z",
     "iopub.status.busy": "2021-03-25T04:58:53.742419Z",
     "iopub.status.idle": "2021-03-25T04:58:55.482295Z",
     "shell.execute_reply": "2021-03-25T04:58:55.481461Z"
    },
    "papermill": {
     "duration": 1.865444,
     "end_time": "2021-03-25T04:58:55.482406",
     "exception": false,
     "start_time": "2021-03-25T04:58:53.616962",
     "status": "completed"
    },
    "tags": []
   },
   "outputs": [],
   "source": [
    "sub.loc[cons_test_index,target_feats] = np.clip(target_pred, p_min, p_max)\n",
    "sub.loc[noncons_test_index,target_feats] = 0\n",
    "sub.to_csv('submission.csv', index=False)"
   ]
  },
  {
   "cell_type": "code",
   "execution_count": null,
   "metadata": {
    "papermill": {
     "duration": 0.117803,
     "end_time": "2021-03-25T04:58:55.721008",
     "exception": false,
     "start_time": "2021-03-25T04:58:55.603205",
     "status": "completed"
    },
    "tags": []
   },
   "outputs": [],
   "source": []
  }
 ],
 "metadata": {
  "kernelspec": {
   "display_name": "Python 3",
   "language": "python",
   "name": "python3"
  },
  "language_info": {
   "codemirror_mode": {
    "name": "ipython",
    "version": 3
   },
   "file_extension": ".py",
   "mimetype": "text/x-python",
   "name": "python",
   "nbconvert_exporter": "python",
   "pygments_lexer": "ipython3",
   "version": "3.7.6"
  },
  "papermill": {
   "duration": 698.78591,
   "end_time": "2021-03-25T04:58:56.347617",
   "environment_variables": {},
   "exception": null,
   "input_path": "__notebook__.ipynb",
   "output_path": "__notebook__.ipynb",
   "parameters": {},
   "start_time": "2021-03-25T04:47:17.561707",
   "version": "2.1.0"
  }
 },
 "nbformat": 4,
 "nbformat_minor": 4
}
