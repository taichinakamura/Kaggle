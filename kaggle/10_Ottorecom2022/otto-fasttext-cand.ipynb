{
 "cells": [
  {
   "cell_type": "markdown",
   "id": "33cc289a",
   "metadata": {
    "papermill": {
     "duration": 0.005927,
     "end_time": "2022-12-17T06:06:32.299959",
     "exception": false,
     "start_time": "2022-12-17T06:06:32.294032",
     "status": "completed"
    },
    "tags": []
   },
   "source": [
    "- fasttext candidate generation, but not using gpu <br>\n",
    "]https://www.kaggle.com/code/konradb/product-embeddings"
   ]
  },
  {
   "cell_type": "code",
   "execution_count": 1,
   "id": "26ba5f2f",
   "metadata": {
    "execution": {
     "iopub.execute_input": "2022-12-17T06:06:32.311979Z",
     "iopub.status.busy": "2022-12-17T06:06:32.311324Z",
     "iopub.status.idle": "2022-12-17T06:06:48.094770Z",
     "shell.execute_reply": "2022-12-17T06:06:48.093281Z"
    },
    "papermill": {
     "duration": 15.793192,
     "end_time": "2022-12-17T06:06:48.097801",
     "exception": false,
     "start_time": "2022-12-17T06:06:32.304609",
     "status": "completed"
    },
    "tags": []
   },
   "outputs": [
    {
     "name": "stdout",
     "output_type": "stream",
     "text": [
      "Collecting polars\r\n",
      "  Downloading polars-0.15.6-cp37-abi3-manylinux_2_17_x86_64.manylinux2014_x86_64.whl (14.5 MB)\r\n",
      "\u001b[2K     \u001b[90m━━━━━━━━━━━━━━━━━━━━━━━━━━━━━━━━━━━━━━━━\u001b[0m \u001b[32m14.5/14.5 MB\u001b[0m \u001b[31m28.5 MB/s\u001b[0m eta \u001b[36m0:00:00\u001b[0m\r\n",
      "\u001b[?25hRequirement already satisfied: typing_extensions>=4.0.0 in /opt/conda/lib/python3.7/site-packages (from polars) (4.4.0)\r\n",
      "Installing collected packages: polars\r\n",
      "Successfully installed polars-0.15.6\r\n",
      "\u001b[33mWARNING: Running pip as the 'root' user can result in broken permissions and conflicting behaviour with the system package manager. It is recommended to use a virtual environment instead: https://pip.pypa.io/warnings/venv\u001b[0m\u001b[33m\r\n",
      "\u001b[0m"
     ]
    }
   ],
   "source": [
    "!pip install polars"
   ]
  },
  {
   "cell_type": "code",
   "execution_count": 2,
   "id": "0aeec99d",
   "metadata": {
    "execution": {
     "iopub.execute_input": "2022-12-17T06:06:48.111927Z",
     "iopub.status.busy": "2022-12-17T06:06:48.111516Z",
     "iopub.status.idle": "2022-12-17T06:06:51.494098Z",
     "shell.execute_reply": "2022-12-17T06:06:51.492766Z"
    },
    "papermill": {
     "duration": 3.393669,
     "end_time": "2022-12-17T06:06:51.497382",
     "exception": false,
     "start_time": "2022-12-17T06:06:48.103713",
     "status": "completed"
    },
    "tags": []
   },
   "outputs": [],
   "source": [
    "import os\n",
    "import gc\n",
    "import glob\n",
    "import random\n",
    "import numpy as np\n",
    "import pandas as pd\n",
    "import polars as pl\n",
    "from tqdm.notebook import tqdm\n",
    "from gensim.models import FastText  \n",
    "import pprint\n",
    "import hashlib\n",
    "import torch\n",
    "from annoy import AnnoyIndex"
   ]
  },
  {
   "cell_type": "code",
   "execution_count": 3,
   "id": "8585d399",
   "metadata": {
    "execution": {
     "iopub.execute_input": "2022-12-17T06:06:51.511579Z",
     "iopub.status.busy": "2022-12-17T06:06:51.510818Z",
     "iopub.status.idle": "2022-12-17T06:06:51.518579Z",
     "shell.execute_reply": "2022-12-17T06:06:51.517373Z"
    },
    "papermill": {
     "duration": 0.017871,
     "end_time": "2022-12-17T06:06:51.521065",
     "exception": false,
     "start_time": "2022-12-17T06:06:51.503194",
     "status": "completed"
    },
    "tags": []
   },
   "outputs": [],
   "source": [
    "def load_df(path):    \n",
    "    dfs = []\n",
    "    for e, chunk_file in enumerate(glob.glob(path)):\n",
    "        chunk = pl.read_parquet(chunk_file)\n",
    "        chunk.ts = (chunk[\"ts\"]/1000)\n",
    "        chunk.with_column(pl.col('ts').cast(pl.Int32, strict=False))\n",
    "        dfs.append(chunk)\n",
    "    return pl.concat(dfs)#.reset_index(drop=True)"
   ]
  },
  {
   "cell_type": "code",
   "execution_count": 4,
   "id": "0562e3fe",
   "metadata": {
    "execution": {
     "iopub.execute_input": "2022-12-17T06:06:51.534634Z",
     "iopub.status.busy": "2022-12-17T06:06:51.533818Z",
     "iopub.status.idle": "2022-12-17T06:06:51.539485Z",
     "shell.execute_reply": "2022-12-17T06:06:51.538497Z"
    },
    "papermill": {
     "duration": 0.015371,
     "end_time": "2022-12-17T06:06:51.542175",
     "exception": false,
     "start_time": "2022-12-17T06:06:51.526804",
     "status": "completed"
    },
    "tags": []
   },
   "outputs": [],
   "source": [
    "class CFG:\n",
    "    emb_size = 32\n",
    "    cutoff = 2\n",
    "    modelname = 'efficientnet_b0'"
   ]
  },
  {
   "cell_type": "code",
   "execution_count": 5,
   "id": "59963b7e",
   "metadata": {
    "execution": {
     "iopub.execute_input": "2022-12-17T06:06:51.555404Z",
     "iopub.status.busy": "2022-12-17T06:06:51.554715Z",
     "iopub.status.idle": "2022-12-17T06:06:51.561207Z",
     "shell.execute_reply": "2022-12-17T06:06:51.560001Z"
    },
    "papermill": {
     "duration": 0.015907,
     "end_time": "2022-12-17T06:06:51.563724",
     "exception": false,
     "start_time": "2022-12-17T06:06:51.547817",
     "status": "completed"
    },
    "tags": []
   },
   "outputs": [],
   "source": [
    "def set_seed(seed=1029):\n",
    "    random.seed(seed)\n",
    "    os.environ['PYTHONHASHSEED'] = str(seed)\n",
    "    np.random.seed(seed)\n",
    "    torch.manual_seed(seed)\n",
    "    torch.cuda.manual_seed(seed)\n",
    "    torch.backends.cudnn.deterministic = True"
   ]
  },
  {
   "cell_type": "code",
   "execution_count": 6,
   "id": "7c7cb890",
   "metadata": {
    "execution": {
     "iopub.execute_input": "2022-12-17T06:06:51.577148Z",
     "iopub.status.busy": "2022-12-17T06:06:51.576689Z",
     "iopub.status.idle": "2022-12-17T06:06:51.585492Z",
     "shell.execute_reply": "2022-12-17T06:06:51.584307Z"
    },
    "papermill": {
     "duration": 0.018482,
     "end_time": "2022-12-17T06:06:51.587941",
     "exception": false,
     "start_time": "2022-12-17T06:06:51.569459",
     "status": "completed"
    },
    "tags": []
   },
   "outputs": [],
   "source": [
    "# w2v learning\n",
    "def hashfxn(x):\n",
    "    return int(hashlib.md5(str(x).encode()).hexdigest(), 16)\n",
    "\n",
    "def make_w2v_model(type_, valid_flg, input_df, seed_num=42):\n",
    "    sentences_df = input_df.groupby('session').agg(pl.col(type_).alias('sentence'))\n",
    "    sentences = sentences_df['sentence'].to_list()\n",
    "    \n",
    "    if valid_flg:\n",
    "        model = FastText(vector_size = CFG.emb_size, window = 3, min_count=1, workers = 4, epochs=5)   \n",
    "    else:\n",
    "        model = FastText(vector_size = CFG.emb_size, window = 3, min_count=1, workers = 4, epochs=10)   \n",
    "\n",
    "    print(\"fasttext start\")\n",
    "    model.build_vocab(sentences)\n",
    "    model.train(sentences, total_examples=len(sentences), epochs=5)\n",
    "    return model"
   ]
  },
  {
   "cell_type": "code",
   "execution_count": 7,
   "id": "22471b2f",
   "metadata": {
    "execution": {
     "iopub.execute_input": "2022-12-17T06:06:51.600933Z",
     "iopub.status.busy": "2022-12-17T06:06:51.600501Z",
     "iopub.status.idle": "2022-12-17T06:06:51.608262Z",
     "shell.execute_reply": "2022-12-17T06:06:51.607107Z"
    },
    "papermill": {
     "duration": 0.017842,
     "end_time": "2022-12-17T06:06:51.611446",
     "exception": false,
     "start_time": "2022-12-17T06:06:51.593604",
     "status": "completed"
    },
    "tags": []
   },
   "outputs": [],
   "source": [
    "# annoy learning\n",
    "def make_annoy_model(model, seed_num=42):\n",
    "    aid2idx = {aid: i for i, aid in enumerate(model.wv.index_to_key)}\n",
    "    index = AnnoyIndex(n_dim, 'euclidean') #n次元のユークリッド空間を用意\n",
    "\n",
    "    index.set_seed(seed_num)\n",
    "    \n",
    "    # annoyモデルを学習させる\n",
    "    for aid, idx in aid2idx.items():\n",
    "        index.add_item(idx, model.wv.vectors[idx])\n",
    "    \n",
    "    # k-d tree をビルドする\n",
    "    index.build(30)\n",
    "    \n",
    "    return index"
   ]
  },
  {
   "cell_type": "code",
   "execution_count": 8,
   "id": "9daddb29",
   "metadata": {
    "execution": {
     "iopub.execute_input": "2022-12-17T06:06:51.624911Z",
     "iopub.status.busy": "2022-12-17T06:06:51.624449Z",
     "iopub.status.idle": "2022-12-17T06:06:51.638496Z",
     "shell.execute_reply": "2022-12-17T06:06:51.637134Z"
    },
    "papermill": {
     "duration": 0.023468,
     "end_time": "2022-12-17T06:06:51.640816",
     "exception": false,
     "start_time": "2022-12-17T06:06:51.617348",
     "status": "completed"
    },
    "tags": []
   },
   "outputs": [],
   "source": [
    "def make_w2v_candidates(w2vec, index, session_items):\n",
    "    '''make candidates by approximate nearest search'''\n",
    "    aid2idx = {aid: i for i, aid in enumerate(w2vec.wv.index_to_key)}\n",
    "    \n",
    "    # sessionごとのcandidateの最低数\n",
    "    cand_per_session = 60 \n",
    "\n",
    "    labels = []\n",
    "\n",
    "    for AIDs in tqdm(session_items):\n",
    "        #  we will use word2vec embeddings to generate candidates!\n",
    "        AIDs = list(dict.fromkeys(AIDs[::-1]))\n",
    "        \n",
    "        # if session is long, consider only latest 10 items\n",
    "        AIDs = AIDs[:10]\n",
    "\n",
    "        remain = cand_per_session % len(AIDs)\n",
    "        \n",
    "        # itemあたりの近傍candidate\n",
    "        cand_per_item = cand_per_session // len(AIDs)\n",
    "                \n",
    "        nns_result = []\n",
    "        # and look for some neighbors! (探索対象、何個の近傍点を探すか)\n",
    "        # 距離が最小となるのは自分自身なので二番目以降から取り出す        \n",
    "        # from 2nd last item\n",
    "        for item in AIDs[1:]:\n",
    "            added_items = index.get_nns_by_item(aid2idx[item], cand_per_item + 1)[1:]\n",
    "            added_items = [i for i in added_items if i not in nns_result]\n",
    "            nns_result += added_items\n",
    "\n",
    "        # candidate数が足りない分は最新アイテムを参照して加える\n",
    "        # last item\n",
    "        if len(nns_result) < cand_per_session:\n",
    "            need_num = cand_per_session - len(nns_result)\n",
    "            last_cands = index.get_nns_by_item(aid2idx[AIDs[0]], 100)[1:]\n",
    "            last_cands = [i for i in last_cands if i not in nns_result][:need_num]\n",
    "            nns_result += last_cands\n",
    "            \n",
    "        nns_result = [w2vec.wv.index_to_key[i] for i in nns_result]\n",
    "        assert len(nns_result) == cand_per_session\n",
    "        labels.append(nns_result)\n",
    "    \n",
    "    predictions = pd.DataFrame(data={'session': session_items.index, 'aid': labels})\n",
    "    predictions[\"session\"] = predictions[\"session\"].astype('int32')\n",
    "    predictions = predictions.explode('aid') \n",
    "    predictions['aid'] = predictions['aid'].astype('int32') \n",
    "    \n",
    "    return predictions"
   ]
  },
  {
   "cell_type": "markdown",
   "id": "15111ebc",
   "metadata": {
    "papermill": {
     "duration": 0.005382,
     "end_time": "2022-12-17T06:06:51.651917",
     "exception": false,
     "start_time": "2022-12-17T06:06:51.646535",
     "status": "completed"
    },
    "tags": []
   },
   "source": [
    "# prepare data"
   ]
  },
  {
   "cell_type": "code",
   "execution_count": 9,
   "id": "7d85d030",
   "metadata": {
    "execution": {
     "iopub.execute_input": "2022-12-17T06:06:51.665443Z",
     "iopub.status.busy": "2022-12-17T06:06:51.664966Z",
     "iopub.status.idle": "2022-12-17T06:06:51.674006Z",
     "shell.execute_reply": "2022-12-17T06:06:51.672756Z"
    },
    "papermill": {
     "duration": 0.01849,
     "end_time": "2022-12-17T06:06:51.676557",
     "exception": false,
     "start_time": "2022-12-17T06:06:51.658067",
     "status": "completed"
    },
    "tags": []
   },
   "outputs": [],
   "source": [
    "type_labels = {'clicks':0, 'carts':1, 'orders':2}\n",
    "n_dim = 32\n",
    "set_seed()"
   ]
  },
  {
   "cell_type": "code",
   "execution_count": 10,
   "id": "f24df946",
   "metadata": {
    "execution": {
     "iopub.execute_input": "2022-12-17T06:06:51.690580Z",
     "iopub.status.busy": "2022-12-17T06:06:51.690154Z",
     "iopub.status.idle": "2022-12-17T06:06:51.712539Z",
     "shell.execute_reply": "2022-12-17T06:06:51.711208Z"
    },
    "papermill": {
     "duration": 0.032613,
     "end_time": "2022-12-17T06:06:51.715128",
     "exception": false,
     "start_time": "2022-12-17T06:06:51.682515",
     "status": "completed"
    },
    "tags": []
   },
   "outputs": [],
   "source": [
    "def make_outputs(valid_flg):\n",
    "    metrics = {}\n",
    "    if valid_flg:\n",
    "        # input\n",
    "        test_path = '../input/otto-validation/test_parquet/*'\n",
    "        train_path =  '../input/otto-validation/train_parquet/*'\n",
    "        \n",
    "        # for val\n",
    "        truncated_train_path = '/kaggle/input/otto-truncated-tr-dataset/truncated_train_sessions_for_validation.pqt'\n",
    "        train_label_path = '../input/otto-truncated-tr-dataset/truncated_train_labels_for_validation.pqt'\n",
    "        test_label_path = '../input/otto-validation/test_labels.parquet' \n",
    "\n",
    "        # output\n",
    "        train_output_path = \"w2vec_train_cands_for_validation.pqt\"\n",
    "        test_output_path = \"w2vec_test_cands_for_validation.pqt\"\n",
    "        w2vec_pickle_path = \"w2vec_model_for_validation.model\"\n",
    "    \n",
    "    else:\n",
    "        #input\n",
    "        test_path = '../input/otto-chunk-data-inparquet-format/test_parquet/*'\n",
    "        train_path = '../input/otto-chunk-data-inparquet-format/train_parquet/*'\n",
    "        \n",
    "        # for val\n",
    "        truncated_train_path = '/kaggle/input/otto-truncated-tr-dataset/truncated_train_sessions_for_full_train.pqt'\n",
    "        train_label_path = '../input/otto-truncated-tr-dataset/truncated_train_labels_for_full_train.pqt'\n",
    "    \n",
    "        #output\n",
    "        train_output_path = \"w2vec_train_cands_for_full_train.pqt\"\n",
    "        test_output_path = \"w2vec_test_cands_for_full_train.pqt\"\n",
    "        w2vec_pickle_path = \"w2vec_model_for_full_train.model\"  \n",
    "        \n",
    "    print(\"data preparation\")\n",
    "    train = load_df(train_path)\n",
    "    test = load_df(test_path)\n",
    "    tr_train = pl.read_parquet(truncated_train_path)\n",
    "\n",
    "    train = train.sort([\"session\", \"ts\"]).drop(\"ts\")\n",
    "    test = test.sort([\"session\", \"ts\"]).drop(\"ts\")\n",
    "    all_ = pl.concat([train, test])\n",
    "\n",
    "    print(\"make history for candidate inference\")\n",
    "    tr_session = tr_train.to_pandas()[\"session\"].unique()[-2000000:]\n",
    "    train_session_AIDs = tr_train.to_pandas().reset_index(drop=True).groupby('session')['aid'].apply(list)\n",
    "    train_session_AIDs = train_session_AIDs[train_session_AIDs.index.isin(tr_session)]\n",
    "    del tr_session\n",
    "    test_session_AIDs = test.to_pandas().reset_index(drop=True).groupby('session')['aid'].apply(list)\n",
    "    del tr_train, train, test\n",
    "        \n",
    "    print(\"learning\")\n",
    "    model = make_w2v_model(\"aid\", valid_flg, all_)\n",
    "    del all_\n",
    "    \n",
    "    index = make_annoy_model(model)\n",
    "    model.save(w2vec_pickle_path)\n",
    "    \n",
    "    print(\"make train candidates\")\n",
    "    train_candidates = make_w2v_candidates(model, index, train_session_AIDs)\n",
    "    train_candidates.to_parquet(train_output_path)\n",
    "    del train_session_AIDs, train_candidates\n",
    "    \n",
    "    print(\"make test candidates\")\n",
    "    test_candidates = make_w2v_candidates(model, index, test_session_AIDs)\n",
    "    test_candidates.to_parquet(test_output_path)\n",
    "    del test_session_AIDs, test_candidates\n",
    "    del model\n",
    "\n",
    "    print(\"metrics check\")\n",
    "    train_labels = pd.read_parquet(train_label_path)\n",
    "    train_labels = train_labels.rename(columns = {\"aid\": \"ground_truth\"})\n",
    "    train_candidates = pd.read_parquet(train_output_path)\n",
    "    train_candidates = train_candidates.groupby([\"session\"])[\"aid\"].apply(list).reset_index()\n",
    "    for type_ in [\"clicks\", \"orders\", \"carts\"]:\n",
    "        target_labels = train_labels[train_labels.type==type_].copy().drop(\"type\", axis=1)\n",
    "        denominator = target_labels.shape[0]\n",
    "        target_labels = target_labels.groupby([\"session\"])[\"ground_truth\"].apply(list).reset_index()\n",
    "        target_labels = pd.merge(target_labels, train_candidates, on = [\"session\"], how = \"inner\")\n",
    "        target_labels['hits'] = target_labels.apply(lambda df: len(set(df.ground_truth).intersection(set(df.aid))), axis=1)\n",
    "        metrics[\"train_\"+type_+\"_recall\"] = np.sum(target_labels['hits']) / denominator\n",
    "    del train_labels, target_labels, train_candidates\n",
    "    \n",
    "    if valid_flg:\n",
    "        test_labels = pd.read_parquet(test_label_path)\n",
    "        test_labels = test_labels.explode(\"ground_truth\")\n",
    "        test_candidates = pd.read_parquet(test_output_path)\n",
    "        test_candidates = test_candidates.groupby([\"session\"])[\"aid\"].apply(list).reset_index()\n",
    "        for type_ in [\"clicks\", \"orders\", \"carts\"]:\n",
    "            target_labels = test_labels[test_labels.type==type_].copy().drop(\"type\", axis=1)\n",
    "            denominator = target_labels.shape[0]\n",
    "            target_labels = target_labels.groupby([\"session\"])[\"ground_truth\"].apply(list).reset_index()\n",
    "            target_labels = pd.merge(target_labels, test_candidates, on = [\"session\"], how = \"inner\")\n",
    "            target_labels['hits'] = target_labels.apply(lambda df: len(set(df.ground_truth).intersection(set(df.aid))), axis=1)\n",
    "            metrics[\"test_\"+type_+\"_recall\"] = np.sum(target_labels['hits']) / denominator\n",
    "        del test_labels, target_labels, test_candidates\n",
    "    gc.collect()\n",
    "    pprint.pprint(metrics)"
   ]
  },
  {
   "cell_type": "code",
   "execution_count": 11,
   "id": "dbef3664",
   "metadata": {
    "execution": {
     "iopub.execute_input": "2022-12-17T06:06:51.728070Z",
     "iopub.status.busy": "2022-12-17T06:06:51.727629Z",
     "iopub.status.idle": "2022-12-17T08:41:46.456476Z",
     "shell.execute_reply": "2022-12-17T08:41:46.454996Z"
    },
    "papermill": {
     "duration": 9294.744201,
     "end_time": "2022-12-17T08:41:46.465027",
     "exception": false,
     "start_time": "2022-12-17T06:06:51.720826",
     "status": "completed"
    },
    "tags": []
   },
   "outputs": [
    {
     "name": "stdout",
     "output_type": "stream",
     "text": [
      "data preparation\n",
      "make history for candidate inference\n",
      "learning\n",
      "fasttext start\n",
      "make train candidates\n"
     ]
    },
    {
     "data": {
      "application/vnd.jupyter.widget-view+json": {
       "model_id": "f130bc25bdde4d95a768307d8d85b856",
       "version_major": 2,
       "version_minor": 0
      },
      "text/plain": [
       "  0%|          | 0/2000000 [00:00<?, ?it/s]"
      ]
     },
     "metadata": {},
     "output_type": "display_data"
    },
    {
     "name": "stdout",
     "output_type": "stream",
     "text": [
      "make test candidates\n"
     ]
    },
    {
     "data": {
      "application/vnd.jupyter.widget-view+json": {
       "model_id": "37661995af554fd7941eb1b2d50c0de6",
       "version_major": 2,
       "version_minor": 0
      },
      "text/plain": [
       "  0%|          | 0/1801251 [00:00<?, ?it/s]"
      ]
     },
     "metadata": {},
     "output_type": "display_data"
    },
    {
     "name": "stdout",
     "output_type": "stream",
     "text": [
      "metrics check\n",
      "{'test_carts_recall': 0.011833331324668527,\n",
      " 'test_clicks_recall': 0.017529708909084073,\n",
      " 'test_orders_recall': 0.008384789552291088,\n",
      " 'train_carts_recall': 0.005684920598807845,\n",
      " 'train_clicks_recall': 0.009474270066954327,\n",
      " 'train_orders_recall': 0.0048872738767240685}\n"
     ]
    }
   ],
   "source": [
    "model = make_outputs(valid_flg=True)"
   ]
  },
  {
   "cell_type": "code",
   "execution_count": 12,
   "id": "e8f54571",
   "metadata": {
    "execution": {
     "iopub.execute_input": "2022-12-17T08:41:46.480249Z",
     "iopub.status.busy": "2022-12-17T08:41:46.479796Z",
     "iopub.status.idle": "2022-12-17T08:41:46.485478Z",
     "shell.execute_reply": "2022-12-17T08:41:46.484136Z"
    },
    "papermill": {
     "duration": 0.016315,
     "end_time": "2022-12-17T08:41:46.487864",
     "exception": false,
     "start_time": "2022-12-17T08:41:46.471549",
     "status": "completed"
    },
    "tags": []
   },
   "outputs": [],
   "source": [
    "#make_outputs(valid_flg=False)"
   ]
  },
  {
   "cell_type": "code",
   "execution_count": null,
   "id": "7485003b",
   "metadata": {
    "papermill": {
     "duration": 0.006505,
     "end_time": "2022-12-17T08:41:46.501153",
     "exception": false,
     "start_time": "2022-12-17T08:41:46.494648",
     "status": "completed"
    },
    "tags": []
   },
   "outputs": [],
   "source": []
  }
 ],
 "metadata": {
  "kernelspec": {
   "display_name": "Python 3",
   "language": "python",
   "name": "python3"
  },
  "language_info": {
   "codemirror_mode": {
    "name": "ipython",
    "version": 3
   },
   "file_extension": ".py",
   "mimetype": "text/x-python",
   "name": "python",
   "nbconvert_exporter": "python",
   "pygments_lexer": "ipython3",
   "version": "3.7.12"
  },
  "papermill": {
   "default_parameters": {},
   "duration": 9326.11667,
   "end_time": "2022-12-17T08:41:49.006067",
   "environment_variables": {},
   "exception": null,
   "input_path": "__notebook__.ipynb",
   "output_path": "__notebook__.ipynb",
   "parameters": {},
   "start_time": "2022-12-17T06:06:22.889397",
   "version": "2.3.4"
  },
  "widgets": {
   "application/vnd.jupyter.widget-state+json": {
    "state": {
     "0276f3221e4c48fcaeb0297489e1dc8c": {
      "model_module": "@jupyter-widgets/base",
      "model_module_version": "1.2.0",
      "model_name": "LayoutModel",
      "state": {
       "_model_module": "@jupyter-widgets/base",
       "_model_module_version": "1.2.0",
       "_model_name": "LayoutModel",
       "_view_count": null,
       "_view_module": "@jupyter-widgets/base",
       "_view_module_version": "1.2.0",
       "_view_name": "LayoutView",
       "align_content": null,
       "align_items": null,
       "align_self": null,
       "border": null,
       "bottom": null,
       "display": null,
       "flex": null,
       "flex_flow": null,
       "grid_area": null,
       "grid_auto_columns": null,
       "grid_auto_flow": null,
       "grid_auto_rows": null,
       "grid_column": null,
       "grid_gap": null,
       "grid_row": null,
       "grid_template_areas": null,
       "grid_template_columns": null,
       "grid_template_rows": null,
       "height": null,
       "justify_content": null,
       "justify_items": null,
       "left": null,
       "margin": null,
       "max_height": null,
       "max_width": null,
       "min_height": null,
       "min_width": null,
       "object_fit": null,
       "object_position": null,
       "order": null,
       "overflow": null,
       "overflow_x": null,
       "overflow_y": null,
       "padding": null,
       "right": null,
       "top": null,
       "visibility": null,
       "width": null
      }
     },
     "0788d52c5f7a48da9f9a3e28b22f5725": {
      "model_module": "@jupyter-widgets/controls",
      "model_module_version": "1.5.0",
      "model_name": "ProgressStyleModel",
      "state": {
       "_model_module": "@jupyter-widgets/controls",
       "_model_module_version": "1.5.0",
       "_model_name": "ProgressStyleModel",
       "_view_count": null,
       "_view_module": "@jupyter-widgets/base",
       "_view_module_version": "1.2.0",
       "_view_name": "StyleView",
       "bar_color": null,
       "description_width": ""
      }
     },
     "37661995af554fd7941eb1b2d50c0de6": {
      "model_module": "@jupyter-widgets/controls",
      "model_module_version": "1.5.0",
      "model_name": "HBoxModel",
      "state": {
       "_dom_classes": [],
       "_model_module": "@jupyter-widgets/controls",
       "_model_module_version": "1.5.0",
       "_model_name": "HBoxModel",
       "_view_count": null,
       "_view_module": "@jupyter-widgets/controls",
       "_view_module_version": "1.5.0",
       "_view_name": "HBoxView",
       "box_style": "",
       "children": [
        "IPY_MODEL_90715282e408494e85b589a937e31a25",
        "IPY_MODEL_8a121244f2ad42779e366869d5a8a5d7",
        "IPY_MODEL_4db204e7eda74704b7802f75a8bfb0d3"
       ],
       "layout": "IPY_MODEL_85f43ecfe6764d68ac41f34c953929df"
      }
     },
     "4db204e7eda74704b7802f75a8bfb0d3": {
      "model_module": "@jupyter-widgets/controls",
      "model_module_version": "1.5.0",
      "model_name": "HTMLModel",
      "state": {
       "_dom_classes": [],
       "_model_module": "@jupyter-widgets/controls",
       "_model_module_version": "1.5.0",
       "_model_name": "HTMLModel",
       "_view_count": null,
       "_view_module": "@jupyter-widgets/controls",
       "_view_module_version": "1.5.0",
       "_view_name": "HTMLView",
       "description": "",
       "description_tooltip": null,
       "layout": "IPY_MODEL_ffd3e1e02a504f7ea573f9bcbaeb8a87",
       "placeholder": "​",
       "style": "IPY_MODEL_9459d9933f9843ec9f95b98ac9394f40",
       "value": " 1801251/1801251 [39:40&lt;00:00, 883.58it/s]"
      }
     },
     "6c9be2d67dda4d87bb2d47f3c5d8b70b": {
      "model_module": "@jupyter-widgets/controls",
      "model_module_version": "1.5.0",
      "model_name": "DescriptionStyleModel",
      "state": {
       "_model_module": "@jupyter-widgets/controls",
       "_model_module_version": "1.5.0",
       "_model_name": "DescriptionStyleModel",
       "_view_count": null,
       "_view_module": "@jupyter-widgets/base",
       "_view_module_version": "1.2.0",
       "_view_name": "StyleView",
       "description_width": ""
      }
     },
     "7ec1c8ed401048d7b8e7a49cb7c5bd7c": {
      "model_module": "@jupyter-widgets/controls",
      "model_module_version": "1.5.0",
      "model_name": "DescriptionStyleModel",
      "state": {
       "_model_module": "@jupyter-widgets/controls",
       "_model_module_version": "1.5.0",
       "_model_name": "DescriptionStyleModel",
       "_view_count": null,
       "_view_module": "@jupyter-widgets/base",
       "_view_module_version": "1.2.0",
       "_view_name": "StyleView",
       "description_width": ""
      }
     },
     "85f43ecfe6764d68ac41f34c953929df": {
      "model_module": "@jupyter-widgets/base",
      "model_module_version": "1.2.0",
      "model_name": "LayoutModel",
      "state": {
       "_model_module": "@jupyter-widgets/base",
       "_model_module_version": "1.2.0",
       "_model_name": "LayoutModel",
       "_view_count": null,
       "_view_module": "@jupyter-widgets/base",
       "_view_module_version": "1.2.0",
       "_view_name": "LayoutView",
       "align_content": null,
       "align_items": null,
       "align_self": null,
       "border": null,
       "bottom": null,
       "display": null,
       "flex": null,
       "flex_flow": null,
       "grid_area": null,
       "grid_auto_columns": null,
       "grid_auto_flow": null,
       "grid_auto_rows": null,
       "grid_column": null,
       "grid_gap": null,
       "grid_row": null,
       "grid_template_areas": null,
       "grid_template_columns": null,
       "grid_template_rows": null,
       "height": null,
       "justify_content": null,
       "justify_items": null,
       "left": null,
       "margin": null,
       "max_height": null,
       "max_width": null,
       "min_height": null,
       "min_width": null,
       "object_fit": null,
       "object_position": null,
       "order": null,
       "overflow": null,
       "overflow_x": null,
       "overflow_y": null,
       "padding": null,
       "right": null,
       "top": null,
       "visibility": null,
       "width": null
      }
     },
     "8a121244f2ad42779e366869d5a8a5d7": {
      "model_module": "@jupyter-widgets/controls",
      "model_module_version": "1.5.0",
      "model_name": "FloatProgressModel",
      "state": {
       "_dom_classes": [],
       "_model_module": "@jupyter-widgets/controls",
       "_model_module_version": "1.5.0",
       "_model_name": "FloatProgressModel",
       "_view_count": null,
       "_view_module": "@jupyter-widgets/controls",
       "_view_module_version": "1.5.0",
       "_view_name": "ProgressView",
       "bar_style": "success",
       "description": "",
       "description_tooltip": null,
       "layout": "IPY_MODEL_0276f3221e4c48fcaeb0297489e1dc8c",
       "max": 1801251.0,
       "min": 0.0,
       "orientation": "horizontal",
       "style": "IPY_MODEL_0788d52c5f7a48da9f9a3e28b22f5725",
       "value": 1801251.0
      }
     },
     "8f77ea503d094c86b967a0753ef9c845": {
      "model_module": "@jupyter-widgets/controls",
      "model_module_version": "1.5.0",
      "model_name": "DescriptionStyleModel",
      "state": {
       "_model_module": "@jupyter-widgets/controls",
       "_model_module_version": "1.5.0",
       "_model_name": "DescriptionStyleModel",
       "_view_count": null,
       "_view_module": "@jupyter-widgets/base",
       "_view_module_version": "1.2.0",
       "_view_name": "StyleView",
       "description_width": ""
      }
     },
     "90715282e408494e85b589a937e31a25": {
      "model_module": "@jupyter-widgets/controls",
      "model_module_version": "1.5.0",
      "model_name": "HTMLModel",
      "state": {
       "_dom_classes": [],
       "_model_module": "@jupyter-widgets/controls",
       "_model_module_version": "1.5.0",
       "_model_name": "HTMLModel",
       "_view_count": null,
       "_view_module": "@jupyter-widgets/controls",
       "_view_module_version": "1.5.0",
       "_view_name": "HTMLView",
       "description": "",
       "description_tooltip": null,
       "layout": "IPY_MODEL_fc1e161fed8b445bb7dc1cf0c83372c3",
       "placeholder": "​",
       "style": "IPY_MODEL_8f77ea503d094c86b967a0753ef9c845",
       "value": "100%"
      }
     },
     "92326485ed1d4dd0aa0f91cf5629793b": {
      "model_module": "@jupyter-widgets/base",
      "model_module_version": "1.2.0",
      "model_name": "LayoutModel",
      "state": {
       "_model_module": "@jupyter-widgets/base",
       "_model_module_version": "1.2.0",
       "_model_name": "LayoutModel",
       "_view_count": null,
       "_view_module": "@jupyter-widgets/base",
       "_view_module_version": "1.2.0",
       "_view_name": "LayoutView",
       "align_content": null,
       "align_items": null,
       "align_self": null,
       "border": null,
       "bottom": null,
       "display": null,
       "flex": null,
       "flex_flow": null,
       "grid_area": null,
       "grid_auto_columns": null,
       "grid_auto_flow": null,
       "grid_auto_rows": null,
       "grid_column": null,
       "grid_gap": null,
       "grid_row": null,
       "grid_template_areas": null,
       "grid_template_columns": null,
       "grid_template_rows": null,
       "height": null,
       "justify_content": null,
       "justify_items": null,
       "left": null,
       "margin": null,
       "max_height": null,
       "max_width": null,
       "min_height": null,
       "min_width": null,
       "object_fit": null,
       "object_position": null,
       "order": null,
       "overflow": null,
       "overflow_x": null,
       "overflow_y": null,
       "padding": null,
       "right": null,
       "top": null,
       "visibility": null,
       "width": null
      }
     },
     "9459d9933f9843ec9f95b98ac9394f40": {
      "model_module": "@jupyter-widgets/controls",
      "model_module_version": "1.5.0",
      "model_name": "DescriptionStyleModel",
      "state": {
       "_model_module": "@jupyter-widgets/controls",
       "_model_module_version": "1.5.0",
       "_model_name": "DescriptionStyleModel",
       "_view_count": null,
       "_view_module": "@jupyter-widgets/base",
       "_view_module_version": "1.2.0",
       "_view_name": "StyleView",
       "description_width": ""
      }
     },
     "af06d1ed1006412983c6a2ae9bbb5232": {
      "model_module": "@jupyter-widgets/base",
      "model_module_version": "1.2.0",
      "model_name": "LayoutModel",
      "state": {
       "_model_module": "@jupyter-widgets/base",
       "_model_module_version": "1.2.0",
       "_model_name": "LayoutModel",
       "_view_count": null,
       "_view_module": "@jupyter-widgets/base",
       "_view_module_version": "1.2.0",
       "_view_name": "LayoutView",
       "align_content": null,
       "align_items": null,
       "align_self": null,
       "border": null,
       "bottom": null,
       "display": null,
       "flex": null,
       "flex_flow": null,
       "grid_area": null,
       "grid_auto_columns": null,
       "grid_auto_flow": null,
       "grid_auto_rows": null,
       "grid_column": null,
       "grid_gap": null,
       "grid_row": null,
       "grid_template_areas": null,
       "grid_template_columns": null,
       "grid_template_rows": null,
       "height": null,
       "justify_content": null,
       "justify_items": null,
       "left": null,
       "margin": null,
       "max_height": null,
       "max_width": null,
       "min_height": null,
       "min_width": null,
       "object_fit": null,
       "object_position": null,
       "order": null,
       "overflow": null,
       "overflow_x": null,
       "overflow_y": null,
       "padding": null,
       "right": null,
       "top": null,
       "visibility": null,
       "width": null
      }
     },
     "b1d3c3f509074645ab08723e5326e690": {
      "model_module": "@jupyter-widgets/controls",
      "model_module_version": "1.5.0",
      "model_name": "FloatProgressModel",
      "state": {
       "_dom_classes": [],
       "_model_module": "@jupyter-widgets/controls",
       "_model_module_version": "1.5.0",
       "_model_name": "FloatProgressModel",
       "_view_count": null,
       "_view_module": "@jupyter-widgets/controls",
       "_view_module_version": "1.5.0",
       "_view_name": "ProgressView",
       "bar_style": "success",
       "description": "",
       "description_tooltip": null,
       "layout": "IPY_MODEL_af06d1ed1006412983c6a2ae9bbb5232",
       "max": 2000000.0,
       "min": 0.0,
       "orientation": "horizontal",
       "style": "IPY_MODEL_c940dae8269345a3a9203e1ef2d2db29",
       "value": 2000000.0
      }
     },
     "c61562eeed79406b90306b39ab344a8d": {
      "model_module": "@jupyter-widgets/controls",
      "model_module_version": "1.5.0",
      "model_name": "HTMLModel",
      "state": {
       "_dom_classes": [],
       "_model_module": "@jupyter-widgets/controls",
       "_model_module_version": "1.5.0",
       "_model_name": "HTMLModel",
       "_view_count": null,
       "_view_module": "@jupyter-widgets/controls",
       "_view_module_version": "1.5.0",
       "_view_name": "HTMLView",
       "description": "",
       "description_tooltip": null,
       "layout": "IPY_MODEL_ee739a4d7777469181c63c91536a987e",
       "placeholder": "​",
       "style": "IPY_MODEL_7ec1c8ed401048d7b8e7a49cb7c5bd7c",
       "value": "100%"
      }
     },
     "c940dae8269345a3a9203e1ef2d2db29": {
      "model_module": "@jupyter-widgets/controls",
      "model_module_version": "1.5.0",
      "model_name": "ProgressStyleModel",
      "state": {
       "_model_module": "@jupyter-widgets/controls",
       "_model_module_version": "1.5.0",
       "_model_name": "ProgressStyleModel",
       "_view_count": null,
       "_view_module": "@jupyter-widgets/base",
       "_view_module_version": "1.2.0",
       "_view_name": "StyleView",
       "bar_color": null,
       "description_width": ""
      }
     },
     "cdb61f644e82473f8ec7e65fdb1ba06d": {
      "model_module": "@jupyter-widgets/controls",
      "model_module_version": "1.5.0",
      "model_name": "HTMLModel",
      "state": {
       "_dom_classes": [],
       "_model_module": "@jupyter-widgets/controls",
       "_model_module_version": "1.5.0",
       "_model_name": "HTMLModel",
       "_view_count": null,
       "_view_module": "@jupyter-widgets/controls",
       "_view_module_version": "1.5.0",
       "_view_name": "HTMLView",
       "description": "",
       "description_tooltip": null,
       "layout": "IPY_MODEL_db1729d560eb46f49e3a028cc8f30314",
       "placeholder": "​",
       "style": "IPY_MODEL_6c9be2d67dda4d87bb2d47f3c5d8b70b",
       "value": " 2000000/2000000 [45:20&lt;00:00, 837.75it/s]"
      }
     },
     "db1729d560eb46f49e3a028cc8f30314": {
      "model_module": "@jupyter-widgets/base",
      "model_module_version": "1.2.0",
      "model_name": "LayoutModel",
      "state": {
       "_model_module": "@jupyter-widgets/base",
       "_model_module_version": "1.2.0",
       "_model_name": "LayoutModel",
       "_view_count": null,
       "_view_module": "@jupyter-widgets/base",
       "_view_module_version": "1.2.0",
       "_view_name": "LayoutView",
       "align_content": null,
       "align_items": null,
       "align_self": null,
       "border": null,
       "bottom": null,
       "display": null,
       "flex": null,
       "flex_flow": null,
       "grid_area": null,
       "grid_auto_columns": null,
       "grid_auto_flow": null,
       "grid_auto_rows": null,
       "grid_column": null,
       "grid_gap": null,
       "grid_row": null,
       "grid_template_areas": null,
       "grid_template_columns": null,
       "grid_template_rows": null,
       "height": null,
       "justify_content": null,
       "justify_items": null,
       "left": null,
       "margin": null,
       "max_height": null,
       "max_width": null,
       "min_height": null,
       "min_width": null,
       "object_fit": null,
       "object_position": null,
       "order": null,
       "overflow": null,
       "overflow_x": null,
       "overflow_y": null,
       "padding": null,
       "right": null,
       "top": null,
       "visibility": null,
       "width": null
      }
     },
     "ee739a4d7777469181c63c91536a987e": {
      "model_module": "@jupyter-widgets/base",
      "model_module_version": "1.2.0",
      "model_name": "LayoutModel",
      "state": {
       "_model_module": "@jupyter-widgets/base",
       "_model_module_version": "1.2.0",
       "_model_name": "LayoutModel",
       "_view_count": null,
       "_view_module": "@jupyter-widgets/base",
       "_view_module_version": "1.2.0",
       "_view_name": "LayoutView",
       "align_content": null,
       "align_items": null,
       "align_self": null,
       "border": null,
       "bottom": null,
       "display": null,
       "flex": null,
       "flex_flow": null,
       "grid_area": null,
       "grid_auto_columns": null,
       "grid_auto_flow": null,
       "grid_auto_rows": null,
       "grid_column": null,
       "grid_gap": null,
       "grid_row": null,
       "grid_template_areas": null,
       "grid_template_columns": null,
       "grid_template_rows": null,
       "height": null,
       "justify_content": null,
       "justify_items": null,
       "left": null,
       "margin": null,
       "max_height": null,
       "max_width": null,
       "min_height": null,
       "min_width": null,
       "object_fit": null,
       "object_position": null,
       "order": null,
       "overflow": null,
       "overflow_x": null,
       "overflow_y": null,
       "padding": null,
       "right": null,
       "top": null,
       "visibility": null,
       "width": null
      }
     },
     "f130bc25bdde4d95a768307d8d85b856": {
      "model_module": "@jupyter-widgets/controls",
      "model_module_version": "1.5.0",
      "model_name": "HBoxModel",
      "state": {
       "_dom_classes": [],
       "_model_module": "@jupyter-widgets/controls",
       "_model_module_version": "1.5.0",
       "_model_name": "HBoxModel",
       "_view_count": null,
       "_view_module": "@jupyter-widgets/controls",
       "_view_module_version": "1.5.0",
       "_view_name": "HBoxView",
       "box_style": "",
       "children": [
        "IPY_MODEL_c61562eeed79406b90306b39ab344a8d",
        "IPY_MODEL_b1d3c3f509074645ab08723e5326e690",
        "IPY_MODEL_cdb61f644e82473f8ec7e65fdb1ba06d"
       ],
       "layout": "IPY_MODEL_92326485ed1d4dd0aa0f91cf5629793b"
      }
     },
     "fc1e161fed8b445bb7dc1cf0c83372c3": {
      "model_module": "@jupyter-widgets/base",
      "model_module_version": "1.2.0",
      "model_name": "LayoutModel",
      "state": {
       "_model_module": "@jupyter-widgets/base",
       "_model_module_version": "1.2.0",
       "_model_name": "LayoutModel",
       "_view_count": null,
       "_view_module": "@jupyter-widgets/base",
       "_view_module_version": "1.2.0",
       "_view_name": "LayoutView",
       "align_content": null,
       "align_items": null,
       "align_self": null,
       "border": null,
       "bottom": null,
       "display": null,
       "flex": null,
       "flex_flow": null,
       "grid_area": null,
       "grid_auto_columns": null,
       "grid_auto_flow": null,
       "grid_auto_rows": null,
       "grid_column": null,
       "grid_gap": null,
       "grid_row": null,
       "grid_template_areas": null,
       "grid_template_columns": null,
       "grid_template_rows": null,
       "height": null,
       "justify_content": null,
       "justify_items": null,
       "left": null,
       "margin": null,
       "max_height": null,
       "max_width": null,
       "min_height": null,
       "min_width": null,
       "object_fit": null,
       "object_position": null,
       "order": null,
       "overflow": null,
       "overflow_x": null,
       "overflow_y": null,
       "padding": null,
       "right": null,
       "top": null,
       "visibility": null,
       "width": null
      }
     },
     "ffd3e1e02a504f7ea573f9bcbaeb8a87": {
      "model_module": "@jupyter-widgets/base",
      "model_module_version": "1.2.0",
      "model_name": "LayoutModel",
      "state": {
       "_model_module": "@jupyter-widgets/base",
       "_model_module_version": "1.2.0",
       "_model_name": "LayoutModel",
       "_view_count": null,
       "_view_module": "@jupyter-widgets/base",
       "_view_module_version": "1.2.0",
       "_view_name": "LayoutView",
       "align_content": null,
       "align_items": null,
       "align_self": null,
       "border": null,
       "bottom": null,
       "display": null,
       "flex": null,
       "flex_flow": null,
       "grid_area": null,
       "grid_auto_columns": null,
       "grid_auto_flow": null,
       "grid_auto_rows": null,
       "grid_column": null,
       "grid_gap": null,
       "grid_row": null,
       "grid_template_areas": null,
       "grid_template_columns": null,
       "grid_template_rows": null,
       "height": null,
       "justify_content": null,
       "justify_items": null,
       "left": null,
       "margin": null,
       "max_height": null,
       "max_width": null,
       "min_height": null,
       "min_width": null,
       "object_fit": null,
       "object_position": null,
       "order": null,
       "overflow": null,
       "overflow_x": null,
       "overflow_y": null,
       "padding": null,
       "right": null,
       "top": null,
       "visibility": null,
       "width": null
      }
     }
    },
    "version_major": 2,
    "version_minor": 0
   }
  }
 },
 "nbformat": 4,
 "nbformat_minor": 5
}
