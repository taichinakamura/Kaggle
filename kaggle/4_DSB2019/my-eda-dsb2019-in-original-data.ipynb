{
 "cells": [
  {
   "cell_type": "code",
   "execution_count": 1,
   "metadata": {
    "_cell_guid": "b1076dfc-b9ad-4769-8c92-a6c4dae69d19",
    "_uuid": "8f2839f25d086af736a60e9eeb907d3b93b6e0e5"
   },
   "outputs": [
    {
     "ename": "ModuleNotFoundError",
     "evalue": "No module named 'MeCab'",
     "output_type": "error",
     "traceback": [
      "\u001b[0;31m---------------------------------------------------------------------------\u001b[0m",
      "\u001b[0;31mModuleNotFoundError\u001b[0m                       Traceback (most recent call last)",
      "\u001b[0;32m<ipython-input-1-6003fcaa39e0>\u001b[0m in \u001b[0;36m<module>\u001b[0;34m\u001b[0m\n\u001b[1;32m      9\u001b[0m \u001b[0;32mimport\u001b[0m \u001b[0mwarnings\u001b[0m\u001b[0;34m\u001b[0m\u001b[0m\n\u001b[1;32m     10\u001b[0m \u001b[0;32mfrom\u001b[0m \u001b[0mtqdm\u001b[0m \u001b[0;32mimport\u001b[0m \u001b[0mtqdm\u001b[0m\u001b[0;34m\u001b[0m\u001b[0m\n\u001b[0;32m---> 11\u001b[0;31m \u001b[0;32mimport\u001b[0m \u001b[0mMeCab\u001b[0m\u001b[0;34m\u001b[0m\u001b[0m\n\u001b[0m\u001b[1;32m     12\u001b[0m \u001b[0mpd\u001b[0m\u001b[0;34m.\u001b[0m\u001b[0mset_option\u001b[0m\u001b[0;34m(\u001b[0m\u001b[0;34m'max_columns'\u001b[0m\u001b[0;34m,\u001b[0m \u001b[0;36m100\u001b[0m\u001b[0;34m)\u001b[0m\u001b[0;34m\u001b[0m\u001b[0m\n\u001b[1;32m     13\u001b[0m \u001b[0mpd\u001b[0m\u001b[0;34m.\u001b[0m\u001b[0mset_option\u001b[0m\u001b[0;34m(\u001b[0m\u001b[0;34m'max_rows'\u001b[0m\u001b[0;34m,\u001b[0m \u001b[0;36m5000\u001b[0m\u001b[0;34m)\u001b[0m\u001b[0;34m\u001b[0m\u001b[0m\n",
      "\u001b[0;31mModuleNotFoundError\u001b[0m: No module named 'MeCab'"
     ]
    }
   ],
   "source": [
    "import ast\n",
    "import json\n",
    "import numpy as np # linear algebra\n",
    "import pandas as pd # data processing, CSV file I/O (e.g. pd.read_csv)\n",
    "import os\n",
    "import matplotlib.pyplot as plt\n",
    "import seaborn as sns\n",
    "from IPython.display import HTML\n",
    "import warnings\n",
    "from tqdm import tqdm\n",
    "import MeCab\n",
    "pd.set_option('max_columns', 100)\n",
    "pd.set_option('max_rows', 5000)\n",
    "warnings.filterwarnings(\"ignore\")\n",
    "sns.set_style(\"whitegrid\")\n",
    "my_pal = sns.color_palette(n_colors=10)"
   ]
  },
  {
   "cell_type": "code",
   "execution_count": 2,
   "metadata": {
    "_cell_guid": "79c7e3d0-c299-4dcb-8224-4455121ee9b0",
    "_uuid": "d629ff2d2480ee46fbb7e2d37f6b5fab8052498a"
   },
   "outputs": [],
   "source": [
    "# Read in the data CSV files\n",
    "train = pd.read_csv('../input/data-science-bowl-2019/train.csv')\n",
    "train_labels = pd.read_csv('../input/data-science-bowl-2019/train_labels.csv')\n",
    "test = pd.read_csv('../input/data-science-bowl-2019/test.csv')\n",
    "specs = pd.read_csv('../input/data-science-bowl-2019/specs.csv')\n",
    "ss = pd.read_csv('../input/data-science-bowl-2019/sample_submission.csv')"
   ]
  },
  {
   "cell_type": "code",
   "execution_count": 3,
   "metadata": {},
   "outputs": [
    {
     "name": "stdout",
     "output_type": "stream",
     "text": [
      "train.csv shape:  (11341042, 11)\n",
      "train_labels.csv shape:  (17690, 7)\n",
      "test.csv shape:  (1156414, 11)\n",
      "specs.csv shape:  (386, 3)\n"
     ]
    }
   ],
   "source": [
    "print(\"train.csv shape: \", train.shape)\n",
    "print(\"train_labels.csv shape: \", train_labels.shape)\n",
    "print(\"test.csv shape: \", test.shape)\n",
    "print(\"specs.csv shape: \", specs.shape)"
   ]
  },
  {
   "cell_type": "markdown",
   "metadata": {},
   "source": [
    "## train.csv"
   ]
  },
  {
   "cell_type": "markdown",
   "metadata": {},
   "source": [
    "- event_id - Randomly generated unique identifier for the event type. Maps to event_id column in specs table.\n",
    "- game_session - Randomly generated unique identifier grouping events within a single game or video play session.\n",
    "- timestamp - Client-generated datetime\n",
    "- event_data - Semi-structured JSON formatted string containing the events parameters. Default fields are: event_count, event_code, and game_time; otherwise fields are determined by the event type.\n",
    "- installation_id - Randomly generated unique identifier grouping game sessions within a single installed application instance.\n",
    "- event_count - Incremental counter of events within a game session (offset at 1). Extracted from event_data.\n",
    "- event_code - Identifier of the event 'class'. Unique per game, but may be duplicated across games. E.g. event code '2000' always identifies the 'Start Game' event for all games. Extracted from event_data.\n",
    "- game_time - Time in milliseconds since the start of the game session. Extracted from event_data.\n",
    "- title - Title of the game or video.\n",
    "- type - Media type of the game or video. Possible values are: 'Game', 'Assessment', 'Activity', 'Clip'.\n",
    "- world - The section of the application the game or video belongs to. Helpful to identify the educational curriculum goals of the media. Possible values are: 'NONE' (at the app's start screen), TREETOPCITY' (Length/Height), 'MAGMAPEAK' (Capacity/Displacement), 'CRYSTALCAVES' (Weight)."
   ]
  },
  {
   "cell_type": "code",
   "execution_count": 4,
   "metadata": {},
   "outputs": [
    {
     "data": {
      "text/html": [
       "<div>\n",
       "<style scoped>\n",
       "    .dataframe tbody tr th:only-of-type {\n",
       "        vertical-align: middle;\n",
       "    }\n",
       "\n",
       "    .dataframe tbody tr th {\n",
       "        vertical-align: top;\n",
       "    }\n",
       "\n",
       "    .dataframe thead th {\n",
       "        text-align: right;\n",
       "    }\n",
       "</style>\n",
       "<table border=\"1\" class=\"dataframe\">\n",
       "  <thead>\n",
       "    <tr style=\"text-align: right;\">\n",
       "      <th></th>\n",
       "      <th>event_id</th>\n",
       "      <th>game_session</th>\n",
       "      <th>timestamp</th>\n",
       "      <th>event_data</th>\n",
       "      <th>installation_id</th>\n",
       "      <th>event_count</th>\n",
       "      <th>event_code</th>\n",
       "      <th>game_time</th>\n",
       "      <th>title</th>\n",
       "      <th>type</th>\n",
       "      <th>world</th>\n",
       "    </tr>\n",
       "  </thead>\n",
       "  <tbody>\n",
       "    <tr>\n",
       "      <th>0</th>\n",
       "      <td>27253bdc</td>\n",
       "      <td>45bb1e1b6b50c07b</td>\n",
       "      <td>2019-09-06T17:53:46.937Z</td>\n",
       "      <td>{\"event_code\": 2000, \"event_count\": 1}</td>\n",
       "      <td>0001e90f</td>\n",
       "      <td>1</td>\n",
       "      <td>2000</td>\n",
       "      <td>0</td>\n",
       "      <td>Welcome to Lost Lagoon!</td>\n",
       "      <td>Clip</td>\n",
       "      <td>NONE</td>\n",
       "    </tr>\n",
       "    <tr>\n",
       "      <th>1</th>\n",
       "      <td>27253bdc</td>\n",
       "      <td>17eeb7f223665f53</td>\n",
       "      <td>2019-09-06T17:54:17.519Z</td>\n",
       "      <td>{\"event_code\": 2000, \"event_count\": 1}</td>\n",
       "      <td>0001e90f</td>\n",
       "      <td>1</td>\n",
       "      <td>2000</td>\n",
       "      <td>0</td>\n",
       "      <td>Magma Peak - Level 1</td>\n",
       "      <td>Clip</td>\n",
       "      <td>MAGMAPEAK</td>\n",
       "    </tr>\n",
       "    <tr>\n",
       "      <th>2</th>\n",
       "      <td>77261ab5</td>\n",
       "      <td>0848ef14a8dc6892</td>\n",
       "      <td>2019-09-06T17:54:56.302Z</td>\n",
       "      <td>{\"version\":\"1.0\",\"event_count\":1,\"game_time\":0...</td>\n",
       "      <td>0001e90f</td>\n",
       "      <td>1</td>\n",
       "      <td>2000</td>\n",
       "      <td>0</td>\n",
       "      <td>Sandcastle Builder (Activity)</td>\n",
       "      <td>Activity</td>\n",
       "      <td>MAGMAPEAK</td>\n",
       "    </tr>\n",
       "    <tr>\n",
       "      <th>3</th>\n",
       "      <td>b2dba42b</td>\n",
       "      <td>0848ef14a8dc6892</td>\n",
       "      <td>2019-09-06T17:54:56.387Z</td>\n",
       "      <td>{\"description\":\"Let's build a sandcastle! Firs...</td>\n",
       "      <td>0001e90f</td>\n",
       "      <td>2</td>\n",
       "      <td>3010</td>\n",
       "      <td>53</td>\n",
       "      <td>Sandcastle Builder (Activity)</td>\n",
       "      <td>Activity</td>\n",
       "      <td>MAGMAPEAK</td>\n",
       "    </tr>\n",
       "    <tr>\n",
       "      <th>4</th>\n",
       "      <td>1bb5fbdb</td>\n",
       "      <td>0848ef14a8dc6892</td>\n",
       "      <td>2019-09-06T17:55:03.253Z</td>\n",
       "      <td>{\"description\":\"Let's build a sandcastle! Firs...</td>\n",
       "      <td>0001e90f</td>\n",
       "      <td>3</td>\n",
       "      <td>3110</td>\n",
       "      <td>6972</td>\n",
       "      <td>Sandcastle Builder (Activity)</td>\n",
       "      <td>Activity</td>\n",
       "      <td>MAGMAPEAK</td>\n",
       "    </tr>\n",
       "    <tr>\n",
       "      <th>5</th>\n",
       "      <td>1325467d</td>\n",
       "      <td>0848ef14a8dc6892</td>\n",
       "      <td>2019-09-06T17:55:06.279Z</td>\n",
       "      <td>{\"coordinates\":{\"x\":583,\"y\":605,\"stage_width\":...</td>\n",
       "      <td>0001e90f</td>\n",
       "      <td>4</td>\n",
       "      <td>4070</td>\n",
       "      <td>9991</td>\n",
       "      <td>Sandcastle Builder (Activity)</td>\n",
       "      <td>Activity</td>\n",
       "      <td>MAGMAPEAK</td>\n",
       "    </tr>\n",
       "    <tr>\n",
       "      <th>6</th>\n",
       "      <td>1325467d</td>\n",
       "      <td>0848ef14a8dc6892</td>\n",
       "      <td>2019-09-06T17:55:06.913Z</td>\n",
       "      <td>{\"coordinates\":{\"x\":601,\"y\":570,\"stage_width\":...</td>\n",
       "      <td>0001e90f</td>\n",
       "      <td>5</td>\n",
       "      <td>4070</td>\n",
       "      <td>10622</td>\n",
       "      <td>Sandcastle Builder (Activity)</td>\n",
       "      <td>Activity</td>\n",
       "      <td>MAGMAPEAK</td>\n",
       "    </tr>\n",
       "    <tr>\n",
       "      <th>7</th>\n",
       "      <td>1325467d</td>\n",
       "      <td>0848ef14a8dc6892</td>\n",
       "      <td>2019-09-06T17:55:07.546Z</td>\n",
       "      <td>{\"coordinates\":{\"x\":250,\"y\":665,\"stage_width\":...</td>\n",
       "      <td>0001e90f</td>\n",
       "      <td>6</td>\n",
       "      <td>4070</td>\n",
       "      <td>11255</td>\n",
       "      <td>Sandcastle Builder (Activity)</td>\n",
       "      <td>Activity</td>\n",
       "      <td>MAGMAPEAK</td>\n",
       "    </tr>\n",
       "    <tr>\n",
       "      <th>8</th>\n",
       "      <td>1325467d</td>\n",
       "      <td>0848ef14a8dc6892</td>\n",
       "      <td>2019-09-06T17:55:07.979Z</td>\n",
       "      <td>{\"coordinates\":{\"x\":279,\"y\":629,\"stage_width\":...</td>\n",
       "      <td>0001e90f</td>\n",
       "      <td>7</td>\n",
       "      <td>4070</td>\n",
       "      <td>11689</td>\n",
       "      <td>Sandcastle Builder (Activity)</td>\n",
       "      <td>Activity</td>\n",
       "      <td>MAGMAPEAK</td>\n",
       "    </tr>\n",
       "    <tr>\n",
       "      <th>9</th>\n",
       "      <td>1325467d</td>\n",
       "      <td>0848ef14a8dc6892</td>\n",
       "      <td>2019-09-06T17:55:08.566Z</td>\n",
       "      <td>{\"coordinates\":{\"x\":839,\"y\":654,\"stage_width\":...</td>\n",
       "      <td>0001e90f</td>\n",
       "      <td>8</td>\n",
       "      <td>4070</td>\n",
       "      <td>12272</td>\n",
       "      <td>Sandcastle Builder (Activity)</td>\n",
       "      <td>Activity</td>\n",
       "      <td>MAGMAPEAK</td>\n",
       "    </tr>\n",
       "  </tbody>\n",
       "</table>\n",
       "</div>"
      ],
      "text/plain": [
       "   event_id      game_session                 timestamp  \\\n",
       "0  27253bdc  45bb1e1b6b50c07b  2019-09-06T17:53:46.937Z   \n",
       "1  27253bdc  17eeb7f223665f53  2019-09-06T17:54:17.519Z   \n",
       "2  77261ab5  0848ef14a8dc6892  2019-09-06T17:54:56.302Z   \n",
       "3  b2dba42b  0848ef14a8dc6892  2019-09-06T17:54:56.387Z   \n",
       "4  1bb5fbdb  0848ef14a8dc6892  2019-09-06T17:55:03.253Z   \n",
       "5  1325467d  0848ef14a8dc6892  2019-09-06T17:55:06.279Z   \n",
       "6  1325467d  0848ef14a8dc6892  2019-09-06T17:55:06.913Z   \n",
       "7  1325467d  0848ef14a8dc6892  2019-09-06T17:55:07.546Z   \n",
       "8  1325467d  0848ef14a8dc6892  2019-09-06T17:55:07.979Z   \n",
       "9  1325467d  0848ef14a8dc6892  2019-09-06T17:55:08.566Z   \n",
       "\n",
       "                                          event_data installation_id  \\\n",
       "0             {\"event_code\": 2000, \"event_count\": 1}        0001e90f   \n",
       "1             {\"event_code\": 2000, \"event_count\": 1}        0001e90f   \n",
       "2  {\"version\":\"1.0\",\"event_count\":1,\"game_time\":0...        0001e90f   \n",
       "3  {\"description\":\"Let's build a sandcastle! Firs...        0001e90f   \n",
       "4  {\"description\":\"Let's build a sandcastle! Firs...        0001e90f   \n",
       "5  {\"coordinates\":{\"x\":583,\"y\":605,\"stage_width\":...        0001e90f   \n",
       "6  {\"coordinates\":{\"x\":601,\"y\":570,\"stage_width\":...        0001e90f   \n",
       "7  {\"coordinates\":{\"x\":250,\"y\":665,\"stage_width\":...        0001e90f   \n",
       "8  {\"coordinates\":{\"x\":279,\"y\":629,\"stage_width\":...        0001e90f   \n",
       "9  {\"coordinates\":{\"x\":839,\"y\":654,\"stage_width\":...        0001e90f   \n",
       "\n",
       "   event_count  event_code  game_time                          title  \\\n",
       "0            1        2000          0        Welcome to Lost Lagoon!   \n",
       "1            1        2000          0           Magma Peak - Level 1   \n",
       "2            1        2000          0  Sandcastle Builder (Activity)   \n",
       "3            2        3010         53  Sandcastle Builder (Activity)   \n",
       "4            3        3110       6972  Sandcastle Builder (Activity)   \n",
       "5            4        4070       9991  Sandcastle Builder (Activity)   \n",
       "6            5        4070      10622  Sandcastle Builder (Activity)   \n",
       "7            6        4070      11255  Sandcastle Builder (Activity)   \n",
       "8            7        4070      11689  Sandcastle Builder (Activity)   \n",
       "9            8        4070      12272  Sandcastle Builder (Activity)   \n",
       "\n",
       "       type      world  \n",
       "0      Clip       NONE  \n",
       "1      Clip  MAGMAPEAK  \n",
       "2  Activity  MAGMAPEAK  \n",
       "3  Activity  MAGMAPEAK  \n",
       "4  Activity  MAGMAPEAK  \n",
       "5  Activity  MAGMAPEAK  \n",
       "6  Activity  MAGMAPEAK  \n",
       "7  Activity  MAGMAPEAK  \n",
       "8  Activity  MAGMAPEAK  \n",
       "9  Activity  MAGMAPEAK  "
      ]
     },
     "execution_count": 4,
     "metadata": {},
     "output_type": "execute_result"
    }
   ],
   "source": [
    "train.head(10)"
   ]
  },
  {
   "cell_type": "code",
   "execution_count": 5,
   "metadata": {},
   "outputs": [
    {
     "name": "stdout",
     "output_type": "stream",
     "text": [
      "<class 'pandas.core.frame.DataFrame'>\n",
      "RangeIndex: 11341042 entries, 0 to 11341041\n",
      "Data columns (total 11 columns):\n",
      "event_id           object\n",
      "game_session       object\n",
      "timestamp          object\n",
      "event_data         object\n",
      "installation_id    object\n",
      "event_count        int64\n",
      "event_code         int64\n",
      "game_time          int64\n",
      "title              object\n",
      "type               object\n",
      "world              object\n",
      "dtypes: int64(3), object(8)\n",
      "memory usage: 951.8+ MB\n"
     ]
    }
   ],
   "source": [
    "train.info()"
   ]
  },
  {
   "cell_type": "code",
   "execution_count": 6,
   "metadata": {},
   "outputs": [
    {
     "data": {
      "text/html": [
       "<div>\n",
       "<style scoped>\n",
       "    .dataframe tbody tr th:only-of-type {\n",
       "        vertical-align: middle;\n",
       "    }\n",
       "\n",
       "    .dataframe tbody tr th {\n",
       "        vertical-align: top;\n",
       "    }\n",
       "\n",
       "    .dataframe thead th {\n",
       "        text-align: right;\n",
       "    }\n",
       "</style>\n",
       "<table border=\"1\" class=\"dataframe\">\n",
       "  <thead>\n",
       "    <tr style=\"text-align: right;\">\n",
       "      <th></th>\n",
       "      <th>event_count</th>\n",
       "      <th>event_code</th>\n",
       "      <th>game_time</th>\n",
       "    </tr>\n",
       "  </thead>\n",
       "  <tbody>\n",
       "    <tr>\n",
       "      <th>count</th>\n",
       "      <td>1.134104e+07</td>\n",
       "      <td>1.134104e+07</td>\n",
       "      <td>1.134104e+07</td>\n",
       "    </tr>\n",
       "    <tr>\n",
       "      <th>mean</th>\n",
       "      <td>1.056642e+02</td>\n",
       "      <td>3.513838e+03</td>\n",
       "      <td>1.976236e+05</td>\n",
       "    </tr>\n",
       "    <tr>\n",
       "      <th>std</th>\n",
       "      <td>1.483477e+02</td>\n",
       "      <td>6.816470e+02</td>\n",
       "      <td>1.803968e+06</td>\n",
       "    </tr>\n",
       "    <tr>\n",
       "      <th>min</th>\n",
       "      <td>1.000000e+00</td>\n",
       "      <td>2.000000e+03</td>\n",
       "      <td>0.000000e+00</td>\n",
       "    </tr>\n",
       "    <tr>\n",
       "      <th>25%</th>\n",
       "      <td>2.500000e+01</td>\n",
       "      <td>3.021000e+03</td>\n",
       "      <td>3.061800e+04</td>\n",
       "    </tr>\n",
       "    <tr>\n",
       "      <th>50%</th>\n",
       "      <td>6.100000e+01</td>\n",
       "      <td>4.020000e+03</td>\n",
       "      <td>7.276100e+04</td>\n",
       "    </tr>\n",
       "    <tr>\n",
       "      <th>75%</th>\n",
       "      <td>1.290000e+02</td>\n",
       "      <td>4.035000e+03</td>\n",
       "      <td>1.574460e+05</td>\n",
       "    </tr>\n",
       "    <tr>\n",
       "      <th>max</th>\n",
       "      <td>3.368000e+03</td>\n",
       "      <td>5.010000e+03</td>\n",
       "      <td>3.069102e+08</td>\n",
       "    </tr>\n",
       "  </tbody>\n",
       "</table>\n",
       "</div>"
      ],
      "text/plain": [
       "        event_count    event_code     game_time\n",
       "count  1.134104e+07  1.134104e+07  1.134104e+07\n",
       "mean   1.056642e+02  3.513838e+03  1.976236e+05\n",
       "std    1.483477e+02  6.816470e+02  1.803968e+06\n",
       "min    1.000000e+00  2.000000e+03  0.000000e+00\n",
       "25%    2.500000e+01  3.021000e+03  3.061800e+04\n",
       "50%    6.100000e+01  4.020000e+03  7.276100e+04\n",
       "75%    1.290000e+02  4.035000e+03  1.574460e+05\n",
       "max    3.368000e+03  5.010000e+03  3.069102e+08"
      ]
     },
     "execution_count": 6,
     "metadata": {},
     "output_type": "execute_result"
    }
   ],
   "source": [
    "train.describe()"
   ]
  },
  {
   "cell_type": "code",
   "execution_count": 7,
   "metadata": {},
   "outputs": [
    {
     "data": {
      "text/plain": [
       "event_id           0\n",
       "game_session       0\n",
       "timestamp          0\n",
       "event_data         0\n",
       "installation_id    0\n",
       "event_count        0\n",
       "event_code         0\n",
       "game_time          0\n",
       "title              0\n",
       "type               0\n",
       "world              0\n",
       "dtype: int64"
      ]
     },
     "execution_count": 7,
     "metadata": {},
     "output_type": "execute_result"
    }
   ],
   "source": [
    "train.isnull().sum() # no missing values in all the datasets"
   ]
  },
  {
   "cell_type": "code",
   "execution_count": 8,
   "metadata": {},
   "outputs": [],
   "source": [
    "# to check if event_id & game_session are randomly gegerated\n",
    "train['event_id_as_int'] = train['event_id'].apply(lambda x: int(x, 16))\n",
    "train['game_session_as_int'] = train['game_session'].apply(lambda x: int(x, 16))"
   ]
  },
  {
   "cell_type": "code",
   "execution_count": 9,
   "metadata": {},
   "outputs": [
    {
     "data": {
      "text/plain": [
       "<matplotlib.axes._subplots.AxesSubplot at 0x7f0c4c3f6358>"
      ]
     },
     "execution_count": 9,
     "metadata": {},
     "output_type": "execute_result"
    },
    {
     "data": {
      "image/png": "[encoded data removed]",
      "text/plain": [
       "<Figure size 720x360 with 2 Axes>"
      ]
     },
     "metadata": {
      "needs_background": "light"
     },
     "output_type": "display_data"
    }
   ],
   "source": [
    "# However, nothing intertesting is showed.\n",
    "plt.figure(figsize=(10,5))\n",
    "plt.subplot(1,2,1)\n",
    "train['event_id_as_int'].plot(kind=\"hist\", title=\"event_id dist\")\n",
    "plt.subplot(1,2,2)\n",
    "train['game_session_as_int'].plot(kind=\"hist\", title=\"game_session dist\")"
   ]
  },
  {
   "cell_type": "code",
   "execution_count": 10,
   "metadata": {},
   "outputs": [
    {
     "data": {
      "text/plain": [
       "1325467d    274673\n",
       "bb3e370b    256179\n",
       "cf82af56    224694\n",
       "5e812b27    206129\n",
       "cfbd47c8    199734\n",
       "             ...  \n",
       "1b54d27f         1\n",
       "119b5b02         1\n",
       "a8cc6fec         1\n",
       "003cd2ee         1\n",
       "4074bac2         1\n",
       "Name: event_id, Length: 384, dtype: int64"
      ]
     },
     "execution_count": 10,
     "metadata": {},
     "output_type": "execute_result"
    }
   ],
   "source": [
    "train[\"event_id\"].value_counts()"
   ]
  },
  {
   "cell_type": "code",
   "execution_count": 11,
   "metadata": {},
   "outputs": [
    {
     "data": {
      "text/plain": [
       "'{\"bottle\":{\"amount\":1,\"color\":\"pink\"},\"bottles\":[{\"color\":\"blue\",\"amount\":2},{\"color\":\"blue\",\"amount\":1},{\"color\":\"purple\",\"amount\":2},{\"color\":\"purple\",\"amount\":1},{\"color\":\"orange\",\"amount\":1},{\"color\":\"orange\",\"amount\":2},{\"color\":\"pink\",\"amount\":1},{\"color\":\"pink\",\"amount\":2},{\"color\":\"yellow\",\"amount\":1},{\"color\":\"yellow\",\"amount\":2},{\"color\":\"green\",\"amount\":1},{\"color\":\"green\",\"amount\":2}],\"coordinates\":{\"x\":401,\"y\":602,\"stage_width\":1015,\"stage_height\":762},\"source\":7,\"round\":1,\"event_count\":4,\"game_time\":3914,\"event_code\":4030}'"
      ]
     },
     "execution_count": 11,
     "metadata": {},
     "output_type": "execute_result"
    }
   ],
   "source": [
    "train[train[\"event_id\"] == \"bb3e370b\"].iloc[0][\"event_data\"]"
   ]
  },
  {
   "cell_type": "code",
   "execution_count": 12,
   "metadata": {},
   "outputs": [
    {
     "data": {
      "text/plain": [
       "6e6e697f2e593de1    3368\n",
       "bb1f09ec062b6660    3182\n",
       "33495c8f126e2ef9    2505\n",
       "34c82b23355e378c    2456\n",
       "8fe0ab3c3e448a04    2398\n",
       "                    ... \n",
       "b81c6ea6b5313648       1\n",
       "965227bea946bc07       1\n",
       "cc619ab51d317664       1\n",
       "297d46965f079126       1\n",
       "50c11c2da18d47c7       1\n",
       "Name: game_session, Length: 303319, dtype: int64"
      ]
     },
     "execution_count": 12,
     "metadata": {},
     "output_type": "execute_result"
    }
   ],
   "source": [
    "train[\"game_session\"].value_counts()"
   ]
  },
  {
   "cell_type": "code",
   "execution_count": 13,
   "metadata": {},
   "outputs": [],
   "source": [
    "# timestamp\n",
    "train['timestamp'] = pd.to_datetime(train['timestamp'])\n",
    "train['date'] = train['timestamp'].dt.date\n",
    "train['hour'] = train['timestamp'].dt.hour\n",
    "train['weekday_name'] = train['timestamp'].dt.weekday_name"
   ]
  },
  {
   "cell_type": "code",
   "execution_count": 14,
   "metadata": {},
   "outputs": [
    {
     "ename": "NameError",
     "evalue": "name 'my_pal' is not defined",
     "output_type": "error",
     "traceback": [
      "\u001b[0;31m---------------------------------------------------------------------------\u001b[0m",
      "\u001b[0;31mNameError\u001b[0m                                 Traceback (most recent call last)",
      "\u001b[0;32m<ipython-input-14-a93b15d9ef4b>\u001b[0m in \u001b[0;36m<module>\u001b[0;34m\u001b[0m\n\u001b[0;32m----> 1\u001b[0;31m \u001b[0mtrain\u001b[0m\u001b[0;34m.\u001b[0m\u001b[0mgroupby\u001b[0m\u001b[0;34m(\u001b[0m\u001b[0;34m'date'\u001b[0m\u001b[0;34m)\u001b[0m\u001b[0;34m[\u001b[0m\u001b[0;34m'event_id'\u001b[0m\u001b[0;34m]\u001b[0m\u001b[0;34m.\u001b[0m\u001b[0magg\u001b[0m\u001b[0;34m(\u001b[0m\u001b[0;34m'count'\u001b[0m\u001b[0;34m)\u001b[0m\u001b[0;34m.\u001b[0m\u001b[0mplot\u001b[0m\u001b[0;34m(\u001b[0m\u001b[0mfigsize\u001b[0m\u001b[0;34m=\u001b[0m\u001b[0;34m(\u001b[0m\u001b[0;36m15\u001b[0m\u001b[0;34m,\u001b[0m\u001b[0;36m3\u001b[0m\u001b[0;34m)\u001b[0m\u001b[0;34m,\u001b[0m \u001b[0mtitle\u001b[0m\u001b[0;34m=\u001b[0m\u001b[0;34m\"Number of event observations by date\"\u001b[0m\u001b[0;34m,\u001b[0m \u001b[0mcolor\u001b[0m\u001b[0;34m=\u001b[0m\u001b[0mmy_pal\u001b[0m\u001b[0;34m[\u001b[0m\u001b[0;36m0\u001b[0m\u001b[0;34m]\u001b[0m\u001b[0;34m)\u001b[0m\u001b[0;34m\u001b[0m\u001b[0m\n\u001b[0m\u001b[1;32m      2\u001b[0m \u001b[0mplt\u001b[0m\u001b[0;34m.\u001b[0m\u001b[0mshow\u001b[0m\u001b[0;34m(\u001b[0m\u001b[0;34m)\u001b[0m\u001b[0;34m\u001b[0m\u001b[0m\n\u001b[1;32m      3\u001b[0m \u001b[0mtrain\u001b[0m\u001b[0;34m.\u001b[0m\u001b[0mgroupby\u001b[0m\u001b[0;34m(\u001b[0m\u001b[0;34m'hour'\u001b[0m\u001b[0;34m)\u001b[0m\u001b[0;34m[\u001b[0m\u001b[0;34m'event_id'\u001b[0m\u001b[0;34m]\u001b[0m\u001b[0;34m.\u001b[0m\u001b[0magg\u001b[0m\u001b[0;34m(\u001b[0m\u001b[0;34m'count'\u001b[0m\u001b[0;34m)\u001b[0m\u001b[0;34m.\u001b[0m\u001b[0mplot\u001b[0m\u001b[0;34m(\u001b[0m\u001b[0mfigsize\u001b[0m\u001b[0;34m=\u001b[0m\u001b[0;34m(\u001b[0m\u001b[0;36m15\u001b[0m\u001b[0;34m,\u001b[0m\u001b[0;36m3\u001b[0m\u001b[0;34m)\u001b[0m\u001b[0;34m,\u001b[0m \u001b[0mtitle\u001b[0m\u001b[0;34m=\u001b[0m\u001b[0;34m\"Number of event observations by hour\"\u001b[0m\u001b[0;34m,\u001b[0m \u001b[0mcolor\u001b[0m\u001b[0;34m=\u001b[0m\u001b[0mmy_pal\u001b[0m\u001b[0;34m[\u001b[0m\u001b[0;36m1\u001b[0m\u001b[0;34m]\u001b[0m\u001b[0;34m)\u001b[0m\u001b[0;34m\u001b[0m\u001b[0m\n\u001b[1;32m      4\u001b[0m \u001b[0mplt\u001b[0m\u001b[0;34m.\u001b[0m\u001b[0mshow\u001b[0m\u001b[0;34m(\u001b[0m\u001b[0;34m)\u001b[0m\u001b[0;34m\u001b[0m\u001b[0m\n\u001b[1;32m      5\u001b[0m \u001b[0mtrain\u001b[0m\u001b[0;34m.\u001b[0m\u001b[0mgroupby\u001b[0m\u001b[0;34m(\u001b[0m\u001b[0;34m'weekday_name'\u001b[0m\u001b[0;34m)\u001b[0m\u001b[0;34m[\u001b[0m\u001b[0;34m'event_id'\u001b[0m\u001b[0;34m]\u001b[0m\u001b[0;34m.\u001b[0m\u001b[0magg\u001b[0m\u001b[0;34m(\u001b[0m\u001b[0;34m'count'\u001b[0m\u001b[0;34m)\u001b[0m\u001b[0;34m.\u001b[0m\u001b[0mplot\u001b[0m\u001b[0;34m(\u001b[0m\u001b[0mfigsize\u001b[0m\u001b[0;34m=\u001b[0m\u001b[0;34m(\u001b[0m\u001b[0;36m15\u001b[0m\u001b[0;34m,\u001b[0m\u001b[0;36m3\u001b[0m\u001b[0;34m)\u001b[0m\u001b[0;34m,\u001b[0m \u001b[0mtitle\u001b[0m\u001b[0;34m=\u001b[0m\u001b[0;34m\"Number of event observations by weekday name\"\u001b[0m\u001b[0;34m,\u001b[0m \u001b[0mcolor\u001b[0m\u001b[0;34m=\u001b[0m\u001b[0mmy_pal\u001b[0m\u001b[0;34m[\u001b[0m\u001b[0;36m2\u001b[0m\u001b[0;34m]\u001b[0m\u001b[0;34m)\u001b[0m\u001b[0;34m\u001b[0m\u001b[0m\n",
      "\u001b[0;31mNameError\u001b[0m: name 'my_pal' is not defined"
     ]
    }
   ],
   "source": [
    "train.groupby('date')['event_id'].agg('count').plot(figsize=(15,3), title=\"Number of event observations by date\", color=my_pal[0])\n",
    "plt.show()\n",
    "train.groupby('hour')['event_id'].agg('count').plot(figsize=(15,3), title=\"Number of event observations by hour\", color=my_pal[1])\n",
    "plt.show()\n",
    "train.groupby('weekday_name')['event_id'].agg('count').plot(figsize=(15,3), title=\"Number of event observations by weekday name\", color=my_pal[2])\n",
    "plt.show()"
   ]
  },
  {
   "cell_type": "code",
   "execution_count": 15,
   "metadata": {},
   "outputs": [
    {
     "name": "stdout",
     "output_type": "stream",
     "text": [
      "The date range in train is: 2019-07-23 to 2019-10-22\n",
      "The date range in test is: 2019-07-24 to 2019-10-14\n"
     ]
    }
   ],
   "source": [
    "# date range\n",
    "test['timestamp'] = pd.to_datetime(test['timestamp'])\n",
    "print(f'The date range in train is: {train.timestamp.dt.date.min()} to {train.timestamp.dt.date.max()}')\n",
    "print(f'The date range in test is: {test.timestamp.dt.date.min()} to {test.timestamp.dt.date.max()}')\n",
    "# we are talking about a dataset that seems (randomly) split on installation_id. \n",
    "# Well actually \"sort of\" as Kaggle seems to have done this on installation_id's with assessments first, and added the \"left-overs\" with no assessments taken to the train set."
   ]
  },
  {
   "cell_type": "code",
   "execution_count": 16,
   "metadata": {},
   "outputs": [
    {
     "data": {
      "text/plain": [
       "{\"event_code\": 2000, \"event_count\": 1}                                                                                                                                                                                                    183676\n",
       "{\"version\":\"1.0\",\"event_count\":1,\"game_time\":0,\"event_code\":2000}                                                                                                                                                                          59872\n",
       "{\"version\":\"1.0\",\"round\":0,\"event_count\":1,\"game_time\":0,\"event_code\":2000}                                                                                                                                                                45959\n",
       "{\"version\":\"1\",\"round\":0,\"event_count\":1,\"game_time\":0,\"event_code\":2000}                                                                                                                                                                   7577\n",
       "{\"description\":\"Let's set off these fireworks. We can drag them to any height we want!\",\"identifier\":\"Dot_LetsFireworks,Dot_DragAnyHeight\",\"media_type\":\"audio\",\"total_duration\":3885,\"event_count\":2,\"game_time\":0,\"event_code\":3010}      6327\n",
       "                                                                                                                                                                                                                                           ...  \n",
       "{\"description\":\"Wow! That looks so cool!\",\"identifier\":\"wowSoCool\",\"media_type\":\"animation\",\"duration\":2656,\"round\":28,\"event_count\":369,\"game_time\":1083497,\"event_code\":3110}                                                                1\n",
       "{\"description\":\"3\",\"identifier\":\"count3\",\"media_type\":\"animation\",\"total_duration\":1400,\"round\":1,\"event_count\":37,\"game_time\":33809,\"event_code\":3010}                                                                                        1\n",
       "{\"rocket\":3,\"coordinates\":{\"x\":321,\"y\":635,\"stage_width\":1015,\"stage_height\":762},\"event_count\":40,\"game_time\":43936,\"event_code\":4030}                                                                                                        1\n",
       "{\"coordinates\":{\"x\":235,\"y\":565,\"stage_width\":1015,\"stage_height\":762},\"round\":5,\"event_count\":50,\"game_time\":90426,\"event_code\":4070}                                                                                                         1\n",
       "{\"coordinates\":{\"x\":143,\"y\":54,\"stage_width\":1015,\"stage_height\":406},\"holding_shell\":false,\"has_water\":false,\"round\":2,\"event_count\":61,\"game_time\":102148,\"event_code\":4070}                                                                 1\n",
       "Name: event_data, Length: 10893749, dtype: int64"
      ]
     },
     "execution_count": 16,
     "metadata": {},
     "output_type": "execute_result"
    }
   ],
   "source": [
    "# event data: which seems to have the most interesting information, however, considering the RAM limit, it's necessary to exract only the influential information.\n",
    "train[\"event_data\"].value_counts()"
   ]
  },
  {
   "cell_type": "code",
   "execution_count": 17,
   "metadata": {},
   "outputs": [
    {
     "name": "stdout",
     "output_type": "stream",
     "text": [
      "{\"correct\":true,\"stumps\":[1,2,4],\"event_count\":30,\"game_time\":18026,\"event_code\":4100}\n"
     ]
    }
   ],
   "source": [
    "print(train[train.event_id == \"25fa8af4\"].iloc[1][\"event_data\"])"
   ]
  },
  {
   "cell_type": "code",
   "execution_count": 18,
   "metadata": {},
   "outputs": [
    {
     "name": "stdout",
     "output_type": "stream",
     "text": [
      "all installation id            :  17000\n",
      "installation id with assessment:  4242\n"
     ]
    }
   ],
   "source": [
    "# installation_id\n",
    "print(\"all installation id            : \", train[\"installation_id\"].nunique())\n",
    "print(\"installation id with assessment: \", train[train.type==\"Assessment\"][\"installation_id\"].nunique())"
   ]
  },
  {
   "cell_type": "code",
   "execution_count": 19,
   "metadata": {},
   "outputs": [
    {
     "data": {
      "text/plain": [
       "set()"
      ]
     },
     "execution_count": 19,
     "metadata": {},
     "output_type": "execute_result"
    }
   ],
   "source": [
    "# there are no installation_id's that appear in both train and test.\n",
    "set(list(train.installation_id.unique())).intersection(set(list(test.installation_id.unique())))"
   ]
  },
  {
   "cell_type": "code",
   "execution_count": 20,
   "metadata": {},
   "outputs": [
    {
     "ename": "NameError",
     "evalue": "name 'my_pal' is not defined",
     "output_type": "error",
     "traceback": [
      "\u001b[0;31m---------------------------------------------------------------------------\u001b[0m",
      "\u001b[0;31mNameError\u001b[0m                                 Traceback (most recent call last)",
      "\u001b[0;32m<ipython-input-20-267df467f554>\u001b[0m in \u001b[0;36m<module>\u001b[0;34m\u001b[0m\n\u001b[1;32m      2\u001b[0m train.groupby('installation_id').count()['event_id'].plot(kind=\"hist\",\n\u001b[1;32m      3\u001b[0m           \u001b[0mbins\u001b[0m\u001b[0;34m=\u001b[0m\u001b[0;36m40\u001b[0m\u001b[0;34m,\u001b[0m\u001b[0;34m\u001b[0m\u001b[0m\n\u001b[0;32m----> 4\u001b[0;31m           \u001b[0mcolor\u001b[0m\u001b[0;34m=\u001b[0m\u001b[0mmy_pal\u001b[0m\u001b[0;34m[\u001b[0m\u001b[0;36m4\u001b[0m\u001b[0;34m]\u001b[0m\u001b[0;34m,\u001b[0m\u001b[0;34m\u001b[0m\u001b[0m\n\u001b[0m\u001b[1;32m      5\u001b[0m           figsize=(15, 5), title=\"count of observations by installation_id\")\n\u001b[1;32m      6\u001b[0m \u001b[0;34m\u001b[0m\u001b[0m\n",
      "\u001b[0;31mNameError\u001b[0m: name 'my_pal' is not defined"
     ]
    }
   ],
   "source": [
    "# count of each installation_id\n",
    "train.groupby('installation_id').count()['event_id'].plot(kind=\"hist\",\n",
    "          bins=40,\n",
    "          color=my_pal[4],\n",
    "          figsize=(15, 5), title=\"count of observations by installation_id\")\n",
    "\n",
    "# taking log transformation makes the distribution normal\n",
    "#train.groupby('installation_id').count()['event_id'].apply(np.log1p).plot(kind=\"hist\",\n",
    "#          bins=40,\n",
    "#          color=my_pal[4],\n",
    "#          figsize=(15, 5), title=\"count of observations by installation_id\")"
   ]
  },
  {
   "cell_type": "code",
   "execution_count": 21,
   "metadata": {},
   "outputs": [
    {
     "data": {
      "text/plain": [
       "f1c21eda    58988\n",
       "4d7d3d97    32749\n",
       "d25338cb    31826\n",
       "cff5a334    30918\n",
       "c9ea32e9    30402\n",
       "9f399a3a    26455\n",
       "96979008    25404\n",
       "063e3e02    24988\n",
       "2d6d1ecd    24356\n",
       "4bbf5c31    24098\n",
       "Name: installation_id, dtype: int64"
      ]
     },
     "execution_count": 21,
     "metadata": {},
     "output_type": "execute_result"
    }
   ],
   "source": [
    "# what is the highest number of cases of installation_id\n",
    "train['installation_id'].value_counts().head(10)"
   ]
  },
  {
   "cell_type": "code",
   "execution_count": 22,
   "metadata": {},
   "outputs": [
    {
     "data": {
      "image/png": "[encoded data removed]",
      "text/plain": [
       "<Figure size 1080x360 with 1 Axes>"
      ]
     },
     "metadata": {
      "needs_background": "light"
     },
     "output_type": "display_data"
    },
    {
     "data": {
      "image/png": "[encoded data removed]",
      "text/plain": [
       "<Figure size 1080x360 with 1 Axes>"
      ]
     },
     "metadata": {
      "needs_background": "light"
     },
     "output_type": "display_data"
    },
    {
     "data": {
      "image/png": "[encoded data removed]",
      "text/plain": [
       "<Figure size 1080x360 with 1 Axes>"
      ]
     },
     "metadata": {
      "needs_background": "light"
     },
     "output_type": "display_data"
    }
   ],
   "source": [
    "train.query('installation_id == \"f1c21eda\"').set_index(\"timestamp\")[\"event_code\"].plot(figsize=(15,5), title=\"installation_id event code vs timestamp\", style=\".\")\n",
    "plt.show()\n",
    "train.query('installation_id == \"4d7d3d97\"').set_index(\"timestamp\")[\"event_code\"].plot(figsize=(15,5), title=\"installation_id event code vs timestamp\", style=\".\")\n",
    "plt.show()\n",
    "train.query('installation_id == \"d25338cb\"').set_index(\"timestamp\")[\"event_code\"].plot(figsize=(15,5), title=\"installation_id event code vs timestamp\", style=\".\")\n",
    "plt.show()"
   ]
  },
  {
   "cell_type": "code",
   "execution_count": 23,
   "metadata": {},
   "outputs": [
    {
     "data": {
      "text/plain": [
       "<matplotlib.axes._subplots.AxesSubplot at 0x7f0a7fb7dc50>"
      ]
     },
     "execution_count": 23,
     "metadata": {},
     "output_type": "execute_result"
    },
    {
     "data": {
      "image/png": "[encoded data removed]",
      "text/plain": [
       "<Figure size 432x288 with 1 Axes>"
      ]
     },
     "metadata": {
      "needs_background": "light"
     },
     "output_type": "display_data"
    }
   ],
   "source": [
    "# event_count\n",
    "train[\"event_count\"].plot(kind=\"hist\", bins=10, title=\"dist of event_count\")"
   ]
  },
  {
   "cell_type": "code",
   "execution_count": 24,
   "metadata": {},
   "outputs": [
    {
     "data": {
      "text/plain": [
       "<matplotlib.axes._subplots.AxesSubplot at 0x7f0c4ec52e48>"
      ]
     },
     "execution_count": 24,
     "metadata": {},
     "output_type": "execute_result"
    },
    {
     "data": {
      "image/png": "[encoded data removed]",
      "text/plain": [
       "<Figure size 1080x360 with 1 Axes>"
      ]
     },
     "metadata": {
      "needs_background": "light"
     },
     "output_type": "display_data"
    }
   ],
   "source": [
    "# event_code: looks loke dictionary format but string\n",
    "train.groupby(\"event_code\").count()[\"event_id\"].sort_values().plot(kind=\"bar\", figsize=(15,5), title=\"count of different event codes\")"
   ]
  },
  {
   "cell_type": "markdown",
   "metadata": {},
   "source": [
    "4070 and 4030 always come with coordinates (x, y) adn stage_width\n",
    "possibly they could be marking achievement or something related to position on the screen. These events look like this\n",
    "{\"coordinates\":{\"x\":583,\"y\":605,\"stage_width\":1015,\"stage_height\":762},\"event_count\":4,\"game_time\":9991,\"event_code\":4070}"
   ]
  },
  {
   "cell_type": "code",
   "execution_count": 25,
   "metadata": {},
   "outputs": [
    {
     "data": {
      "text/plain": [
       "<matplotlib.axes._subplots.AxesSubplot at 0x7f0b7dde1e80>"
      ]
     },
     "execution_count": 25,
     "metadata": {},
     "output_type": "execute_result"
    },
    {
     "data": {
      "image/png": "[encoded data removed]",
      "text/plain": [
       "<Figure size 1080x360 with 1 Axes>"
      ]
     },
     "metadata": {
      "needs_background": "light"
     },
     "output_type": "display_data"
    }
   ],
   "source": [
    "# game_time: almost similar to normal distribution\n",
    "train[\"game_time\"].apply(np.log1p).plot(kind=\"hist\", figsize=(15,5), bins=100, title=\"log transformation of game_time\")"
   ]
  },
  {
   "cell_type": "code",
   "execution_count": 26,
   "metadata": {},
   "outputs": [
    {
     "data": {
      "text/plain": [
       "<matplotlib.axes._subplots.AxesSubplot at 0x7f0b7b872d68>"
      ]
     },
     "execution_count": 26,
     "metadata": {},
     "output_type": "execute_result"
    },
    {
     "data": {
      "image/png": "[encoded data removed]",
      "text/plain": [
       "<Figure size 1080x1080 with 1 Axes>"
      ]
     },
     "metadata": {
      "needs_background": "light"
     },
     "output_type": "display_data"
    }
   ],
   "source": [
    "# game/video titles\n",
    "train.groupby(\"title\")[\"event_id\"].count().sort_values().plot(kind=\"barh\", title=\"count of observations by title\", figsize=(15,15))"
   ]
  },
  {
   "cell_type": "code",
   "execution_count": 27,
   "metadata": {},
   "outputs": [
    {
     "data": {
      "text/plain": [
       "<matplotlib.axes._subplots.AxesSubplot at 0x7f0b6fe496d8>"
      ]
     },
     "execution_count": 27,
     "metadata": {},
     "output_type": "execute_result"
    },
    {
     "data": {
      "image/png": "[encoded data removed]",
      "text/plain": [
       "<Figure size 1080x360 with 1 Axes>"
      ]
     },
     "metadata": {
      "needs_background": "light"
     },
     "output_type": "display_data"
    }
   ],
   "source": [
    "# game type = train[\"type\"].value_counts()\n",
    "train.groupby(\"type\").count()[\"event_id\"].plot(kind=\"bar\", figsize=(15,5), title = \"game type\")"
   ]
  },
  {
   "cell_type": "code",
   "execution_count": 28,
   "metadata": {},
   "outputs": [
    {
     "data": {
      "text/plain": [
       "<matplotlib.axes._subplots.AxesSubplot at 0x7f0b7a093240>"
      ]
     },
     "execution_count": 28,
     "metadata": {},
     "output_type": "execute_result"
    },
    {
     "data": {
      "image/png": "[encoded data removed]",
      "text/plain": [
       "<Figure size 1080x360 with 1 Axes>"
      ]
     },
     "metadata": {
      "needs_background": "light"
     },
     "output_type": "display_data"
    }
   ],
   "source": [
    "# world  = train.world.value_counts()\n",
    "train.groupby(\"world\").count()[\"event_id\"].plot(kind=\"bar\", figsize=(15,5), title = \"world\")"
   ]
  },
  {
   "cell_type": "code",
   "execution_count": 29,
   "metadata": {},
   "outputs": [
    {
     "data": {
      "image/png": "[encoded data removed]",
      "text/plain": [
       "<Figure size 1080x360 with 1 Axes>"
      ]
     },
     "metadata": {
      "needs_background": "light"
     },
     "output_type": "display_data"
    },
    {
     "data": {
      "image/png": "[encoded data removed]",
      "text/plain": [
       "<Figure size 1080x360 with 1 Axes>"
      ]
     },
     "metadata": {
      "needs_background": "light"
     },
     "output_type": "display_data"
    }
   ],
   "source": [
    "train[\"log1p_game_time\"] = train[\"game_time\"].apply(np.log1p)\n",
    "fig, ax = plt.subplots(figsize=(15,5))\n",
    "sns.catplot(x=\"type\", y = \"log1p_game_time\", data=train.sample(10000), alpha=0.5, ax=ax)\n",
    "plt.close()\n",
    "fig, ax = plt.subplots(figsize=(15,5))\n",
    "sns.catplot(x=\"world\", y=\"log1p_game_time\", data=train.sample(10000), alpha=0.5, ax=ax)\n",
    "plt.close()"
   ]
  },
  {
   "cell_type": "code",
   "execution_count": 30,
   "metadata": {},
   "outputs": [
    {
     "data": {
      "text/plain": [
       "world         type      \n",
       "CRYSTALCAVES  Game          2129478\n",
       "              Activity       691564\n",
       "              Assessment     353661\n",
       "              Clip            57843\n",
       "MAGMAPEAK     Activity      2407670\n",
       "              Game          2396380\n",
       "              Assessment     181925\n",
       "              Clip            37712\n",
       "NONE          Clip            23578\n",
       "TREETOPCITY   Activity      1337494\n",
       "              Game          1269435\n",
       "              Assessment     389759\n",
       "              Clip            64543\n",
       "Name: type, dtype: int64"
      ]
     },
     "execution_count": 30,
     "metadata": {},
     "output_type": "execute_result"
    }
   ],
   "source": [
    "train.groupby(\"world\")[\"type\"].value_counts()"
   ]
  },
  {
   "cell_type": "code",
   "execution_count": 31,
   "metadata": {},
   "outputs": [],
   "source": [
    "# the installation_ids without assessments are removed.\n",
    "keep_id = train[train.type == \"Assessment\"][['installation_id']].drop_duplicates()\n",
    "train = pd.merge(train, keep_id, on=\"installation_id\", how=\"inner\")"
   ]
  },
  {
   "cell_type": "markdown",
   "metadata": {},
   "source": [
    "# train_label.csv"
   ]
  },
  {
   "cell_type": "code",
   "execution_count": 32,
   "metadata": {},
   "outputs": [
    {
     "data": {
      "text/html": [
       "<div>\n",
       "<style scoped>\n",
       "    .dataframe tbody tr th:only-of-type {\n",
       "        vertical-align: middle;\n",
       "    }\n",
       "\n",
       "    .dataframe tbody tr th {\n",
       "        vertical-align: top;\n",
       "    }\n",
       "\n",
       "    .dataframe thead th {\n",
       "        text-align: right;\n",
       "    }\n",
       "</style>\n",
       "<table border=\"1\" class=\"dataframe\">\n",
       "  <thead>\n",
       "    <tr style=\"text-align: right;\">\n",
       "      <th></th>\n",
       "      <th>game_session</th>\n",
       "      <th>installation_id</th>\n",
       "      <th>title</th>\n",
       "      <th>num_correct</th>\n",
       "      <th>num_incorrect</th>\n",
       "      <th>accuracy</th>\n",
       "      <th>accuracy_group</th>\n",
       "    </tr>\n",
       "  </thead>\n",
       "  <tbody>\n",
       "    <tr>\n",
       "      <th>0</th>\n",
       "      <td>6bdf9623adc94d89</td>\n",
       "      <td>0006a69f</td>\n",
       "      <td>Mushroom Sorter (Assessment)</td>\n",
       "      <td>1</td>\n",
       "      <td>0</td>\n",
       "      <td>1.0</td>\n",
       "      <td>3</td>\n",
       "    </tr>\n",
       "    <tr>\n",
       "      <th>1</th>\n",
       "      <td>77b8ee947eb84b4e</td>\n",
       "      <td>0006a69f</td>\n",
       "      <td>Bird Measurer (Assessment)</td>\n",
       "      <td>0</td>\n",
       "      <td>11</td>\n",
       "      <td>0.0</td>\n",
       "      <td>0</td>\n",
       "    </tr>\n",
       "    <tr>\n",
       "      <th>2</th>\n",
       "      <td>901acc108f55a5a1</td>\n",
       "      <td>0006a69f</td>\n",
       "      <td>Mushroom Sorter (Assessment)</td>\n",
       "      <td>1</td>\n",
       "      <td>0</td>\n",
       "      <td>1.0</td>\n",
       "      <td>3</td>\n",
       "    </tr>\n",
       "    <tr>\n",
       "      <th>3</th>\n",
       "      <td>9501794defd84e4d</td>\n",
       "      <td>0006a69f</td>\n",
       "      <td>Mushroom Sorter (Assessment)</td>\n",
       "      <td>1</td>\n",
       "      <td>1</td>\n",
       "      <td>0.5</td>\n",
       "      <td>2</td>\n",
       "    </tr>\n",
       "    <tr>\n",
       "      <th>4</th>\n",
       "      <td>a9ef3ecb3d1acc6a</td>\n",
       "      <td>0006a69f</td>\n",
       "      <td>Bird Measurer (Assessment)</td>\n",
       "      <td>1</td>\n",
       "      <td>0</td>\n",
       "      <td>1.0</td>\n",
       "      <td>3</td>\n",
       "    </tr>\n",
       "  </tbody>\n",
       "</table>\n",
       "</div>"
      ],
      "text/plain": [
       "       game_session installation_id                         title  \\\n",
       "0  6bdf9623adc94d89        0006a69f  Mushroom Sorter (Assessment)   \n",
       "1  77b8ee947eb84b4e        0006a69f    Bird Measurer (Assessment)   \n",
       "2  901acc108f55a5a1        0006a69f  Mushroom Sorter (Assessment)   \n",
       "3  9501794defd84e4d        0006a69f  Mushroom Sorter (Assessment)   \n",
       "4  a9ef3ecb3d1acc6a        0006a69f    Bird Measurer (Assessment)   \n",
       "\n",
       "   num_correct  num_incorrect  accuracy  accuracy_group  \n",
       "0            1              0       1.0               3  \n",
       "1            0             11       0.0               0  \n",
       "2            1              0       1.0               3  \n",
       "3            1              1       0.5               2  \n",
       "4            1              0       1.0               3  "
      ]
     },
     "execution_count": 32,
     "metadata": {},
     "output_type": "execute_result"
    }
   ],
   "source": [
    "train_labels.head(5)"
   ]
  },
  {
   "cell_type": "code",
   "execution_count": 33,
   "metadata": {},
   "outputs": [
    {
     "name": "stdout",
     "output_type": "stream",
     "text": [
      "<class 'pandas.core.frame.DataFrame'>\n",
      "RangeIndex: 17690 entries, 0 to 17689\n",
      "Data columns (total 7 columns):\n",
      "game_session       17690 non-null object\n",
      "installation_id    17690 non-null object\n",
      "title              17690 non-null object\n",
      "num_correct        17690 non-null int64\n",
      "num_incorrect      17690 non-null int64\n",
      "accuracy           17690 non-null float64\n",
      "accuracy_group     17690 non-null int64\n",
      "dtypes: float64(1), int64(3), object(3)\n",
      "memory usage: 967.5+ KB\n"
     ]
    }
   ],
   "source": [
    "train_labels.info()"
   ]
  },
  {
   "cell_type": "code",
   "execution_count": 34,
   "metadata": {},
   "outputs": [
    {
     "data": {
      "text/html": [
       "<div>\n",
       "<style scoped>\n",
       "    .dataframe tbody tr th:only-of-type {\n",
       "        vertical-align: middle;\n",
       "    }\n",
       "\n",
       "    .dataframe tbody tr th {\n",
       "        vertical-align: top;\n",
       "    }\n",
       "\n",
       "    .dataframe thead th {\n",
       "        text-align: right;\n",
       "    }\n",
       "</style>\n",
       "<table border=\"1\" class=\"dataframe\">\n",
       "  <thead>\n",
       "    <tr style=\"text-align: right;\">\n",
       "      <th></th>\n",
       "      <th>num_correct</th>\n",
       "      <th>num_incorrect</th>\n",
       "      <th>accuracy</th>\n",
       "      <th>accuracy_group</th>\n",
       "    </tr>\n",
       "  </thead>\n",
       "  <tbody>\n",
       "    <tr>\n",
       "      <th>count</th>\n",
       "      <td>17690.000000</td>\n",
       "      <td>17690.000000</td>\n",
       "      <td>17690.000000</td>\n",
       "      <td>17690.000000</td>\n",
       "    </tr>\n",
       "    <tr>\n",
       "      <th>mean</th>\n",
       "      <td>0.760938</td>\n",
       "      <td>1.587790</td>\n",
       "      <td>0.595810</td>\n",
       "      <td>1.885585</td>\n",
       "    </tr>\n",
       "    <tr>\n",
       "      <th>std</th>\n",
       "      <td>0.426523</td>\n",
       "      <td>3.058295</td>\n",
       "      <td>0.430559</td>\n",
       "      <td>1.256796</td>\n",
       "    </tr>\n",
       "    <tr>\n",
       "      <th>min</th>\n",
       "      <td>0.000000</td>\n",
       "      <td>0.000000</td>\n",
       "      <td>0.000000</td>\n",
       "      <td>0.000000</td>\n",
       "    </tr>\n",
       "    <tr>\n",
       "      <th>25%</th>\n",
       "      <td>1.000000</td>\n",
       "      <td>0.000000</td>\n",
       "      <td>0.111111</td>\n",
       "      <td>1.000000</td>\n",
       "    </tr>\n",
       "    <tr>\n",
       "      <th>50%</th>\n",
       "      <td>1.000000</td>\n",
       "      <td>0.500000</td>\n",
       "      <td>0.750000</td>\n",
       "      <td>2.500000</td>\n",
       "    </tr>\n",
       "    <tr>\n",
       "      <th>75%</th>\n",
       "      <td>1.000000</td>\n",
       "      <td>2.000000</td>\n",
       "      <td>1.000000</td>\n",
       "      <td>3.000000</td>\n",
       "    </tr>\n",
       "    <tr>\n",
       "      <th>max</th>\n",
       "      <td>1.000000</td>\n",
       "      <td>85.000000</td>\n",
       "      <td>1.000000</td>\n",
       "      <td>3.000000</td>\n",
       "    </tr>\n",
       "  </tbody>\n",
       "</table>\n",
       "</div>"
      ],
      "text/plain": [
       "        num_correct  num_incorrect      accuracy  accuracy_group\n",
       "count  17690.000000   17690.000000  17690.000000    17690.000000\n",
       "mean       0.760938       1.587790      0.595810        1.885585\n",
       "std        0.426523       3.058295      0.430559        1.256796\n",
       "min        0.000000       0.000000      0.000000        0.000000\n",
       "25%        1.000000       0.000000      0.111111        1.000000\n",
       "50%        1.000000       0.500000      0.750000        2.500000\n",
       "75%        1.000000       2.000000      1.000000        3.000000\n",
       "max        1.000000      85.000000      1.000000        3.000000"
      ]
     },
     "execution_count": 34,
     "metadata": {},
     "output_type": "execute_result"
    }
   ],
   "source": [
    "train_labels.describe() # accuracy group is what we want to predict."
   ]
  },
  {
   "cell_type": "code",
   "execution_count": 35,
   "metadata": {},
   "outputs": [
    {
     "data": {
      "image/png": "[encoded data removed]",
      "text/plain": [
       "<Figure size 1080x360 with 1 Axes>"
      ]
     },
     "metadata": {
      "needs_background": "light"
     },
     "output_type": "display_data"
    }
   ],
   "source": [
    "# target\n",
    "train_labels.groupby('accuracy_group')['game_session'].count() \\\n",
    "    .plot(kind='barh', figsize=(15, 5), title='Target (accuracy group)')\n",
    "plt.show()"
   ]
  },
  {
   "cell_type": "code",
   "execution_count": 36,
   "metadata": {},
   "outputs": [
    {
     "name": "stderr",
     "output_type": "stream",
     "text": [
      "/opt/conda/lib/python3.6/site-packages/statsmodels/nonparametric/kde.py:487: RuntimeWarning: invalid value encountered in true_divide\n",
      "  binned = fast_linbin(X, a, b, gridsize) / (delta * nobs)\n",
      "/opt/conda/lib/python3.6/site-packages/statsmodels/nonparametric/kdetools.py:34: RuntimeWarning: invalid value encountered in double_scalars\n",
      "  FAC1 = 2*(np.pi*bw/RANGE)**2\n"
     ]
    },
    {
     "data": {
      "image/png": "[encoded data removed]",
      "text/plain": [
       "<Figure size 807.25x720 with 20 Axes>"
      ]
     },
     "metadata": {
      "needs_background": "light"
     },
     "output_type": "display_data"
    }
   ],
   "source": [
    "sns.pairplot(train_labels, hue='accuracy_group')\n",
    "plt.show()"
   ]
  },
  {
   "cell_type": "code",
   "execution_count": 37,
   "metadata": {},
   "outputs": [
    {
     "data": {
      "text/plain": [
       "Text(0.5, 1.0, 'Counts of titles')"
      ]
     },
     "execution_count": 37,
     "metadata": {},
     "output_type": "execute_result"
    },
    {
     "data": {
      "image/png": "[encoded data removed]",
      "text/plain": [
       "<Figure size 864x432 with 1 Axes>"
      ]
     },
     "metadata": {
      "needs_background": "light"
     },
     "output_type": "display_data"
    }
   ],
   "source": [
    "# count of title\n",
    "plt.figure(figsize=(12,6))\n",
    "sns.countplot(y=\"title\", data=train_labels, color=\"blue\", order = train_labels.title.value_counts().index)\n",
    "plt.title(\"Counts of titles\")"
   ]
  },
  {
   "cell_type": "code",
   "execution_count": 38,
   "metadata": {},
   "outputs": [
    {
     "data": {
      "text/plain": [
       "Text(0.5, 1.0, 'Counts of accuracy group')"
      ]
     },
     "execution_count": 38,
     "metadata": {},
     "output_type": "execute_result"
    },
    {
     "data": {
      "image/png": "[encoded data removed]",
      "text/plain": [
       "<Figure size 864x720 with 1 Axes>"
      ]
     },
     "metadata": {
      "needs_background": "light"
     },
     "output_type": "display_data"
    }
   ],
   "source": [
    "se = train_labels.groupby(['title', 'accuracy_group'])['accuracy_group'].count().unstack('title')\n",
    "se.plot.bar(stacked=True, rot=0, figsize=(12,10))\n",
    "plt.title(\"Counts of accuracy group\")\n",
    "# you can see that a lot of Chest Sorter assessments were never solved.\n",
    "# Bird Measurer also seems hard with a relatively small amount solved on the first attempt.\n",
    "# which means that there's difference in the difficulty of games"
   ]
  },
  {
   "cell_type": "markdown",
   "metadata": {},
   "source": [
    "Now the question arises: Could there be installation_id's who did assessments (we have already taken out the ones who never took one), but without results in the train_labels? Surprisingly, yes there are 628 examples."
   ]
  },
  {
   "cell_type": "code",
   "execution_count": 39,
   "metadata": {},
   "outputs": [
    {
     "data": {
      "text/plain": [
       "628"
      ]
     },
     "execution_count": 39,
     "metadata": {},
     "output_type": "execute_result"
    }
   ],
   "source": [
    "train[~train.installation_id.isin(train_labels.installation_id.unique())].installation_id.nunique()"
   ]
  },
  {
   "cell_type": "code",
   "execution_count": 40,
   "metadata": {},
   "outputs": [
    {
     "data": {
      "text/plain": [
       "(7734558, 17)"
      ]
     },
     "execution_count": 40,
     "metadata": {},
     "output_type": "execute_result"
    }
   ],
   "source": [
    "# remove such instances\n",
    "train = train[train.installation_id.isin(train_labels.installation_id.unique())]\n",
    "train.shape"
   ]
  },
  {
   "cell_type": "code",
   "execution_count": 41,
   "metadata": {},
   "outputs": [
    {
     "name": "stdout",
     "output_type": "stream",
     "text": [
      "current installation_ids:  3614\n"
     ]
    }
   ],
   "source": [
    "print(\"current installation_ids: \", train[\"installation_id\"].nunique())"
   ]
  },
  {
   "cell_type": "markdown",
   "metadata": {},
   "source": [
    "# test.csv"
   ]
  },
  {
   "cell_type": "code",
   "execution_count": 42,
   "metadata": {},
   "outputs": [
    {
     "data": {
      "text/html": [
       "<div>\n",
       "<style scoped>\n",
       "    .dataframe tbody tr th:only-of-type {\n",
       "        vertical-align: middle;\n",
       "    }\n",
       "\n",
       "    .dataframe tbody tr th {\n",
       "        vertical-align: top;\n",
       "    }\n",
       "\n",
       "    .dataframe thead th {\n",
       "        text-align: right;\n",
       "    }\n",
       "</style>\n",
       "<table border=\"1\" class=\"dataframe\">\n",
       "  <thead>\n",
       "    <tr style=\"text-align: right;\">\n",
       "      <th></th>\n",
       "      <th>event_id</th>\n",
       "      <th>game_session</th>\n",
       "      <th>timestamp</th>\n",
       "      <th>event_data</th>\n",
       "      <th>installation_id</th>\n",
       "      <th>event_count</th>\n",
       "      <th>event_code</th>\n",
       "      <th>game_time</th>\n",
       "      <th>title</th>\n",
       "      <th>type</th>\n",
       "      <th>world</th>\n",
       "    </tr>\n",
       "  </thead>\n",
       "  <tbody>\n",
       "    <tr>\n",
       "      <th>0</th>\n",
       "      <td>27253bdc</td>\n",
       "      <td>0ea9ecc81a565215</td>\n",
       "      <td>2019-09-10 16:50:24.910000+00:00</td>\n",
       "      <td>{\"event_code\": 2000, \"event_count\": 1}</td>\n",
       "      <td>00abaee7</td>\n",
       "      <td>1</td>\n",
       "      <td>2000</td>\n",
       "      <td>0</td>\n",
       "      <td>Welcome to Lost Lagoon!</td>\n",
       "      <td>Clip</td>\n",
       "      <td>NONE</td>\n",
       "    </tr>\n",
       "    <tr>\n",
       "      <th>1</th>\n",
       "      <td>27253bdc</td>\n",
       "      <td>c1ea43d8b8261d27</td>\n",
       "      <td>2019-09-10 16:50:55.503000+00:00</td>\n",
       "      <td>{\"event_code\": 2000, \"event_count\": 1}</td>\n",
       "      <td>00abaee7</td>\n",
       "      <td>1</td>\n",
       "      <td>2000</td>\n",
       "      <td>0</td>\n",
       "      <td>Magma Peak - Level 1</td>\n",
       "      <td>Clip</td>\n",
       "      <td>MAGMAPEAK</td>\n",
       "    </tr>\n",
       "    <tr>\n",
       "      <th>2</th>\n",
       "      <td>27253bdc</td>\n",
       "      <td>7ed86c6b72e725e2</td>\n",
       "      <td>2019-09-10 16:51:51.805000+00:00</td>\n",
       "      <td>{\"event_code\": 2000, \"event_count\": 1}</td>\n",
       "      <td>00abaee7</td>\n",
       "      <td>1</td>\n",
       "      <td>2000</td>\n",
       "      <td>0</td>\n",
       "      <td>Magma Peak - Level 2</td>\n",
       "      <td>Clip</td>\n",
       "      <td>MAGMAPEAK</td>\n",
       "    </tr>\n",
       "    <tr>\n",
       "      <th>3</th>\n",
       "      <td>27253bdc</td>\n",
       "      <td>7e516ace50e7fe67</td>\n",
       "      <td>2019-09-10 16:53:12.825000+00:00</td>\n",
       "      <td>{\"event_code\": 2000, \"event_count\": 1}</td>\n",
       "      <td>00abaee7</td>\n",
       "      <td>1</td>\n",
       "      <td>2000</td>\n",
       "      <td>0</td>\n",
       "      <td>Crystal Caves - Level 1</td>\n",
       "      <td>Clip</td>\n",
       "      <td>CRYSTALCAVES</td>\n",
       "    </tr>\n",
       "    <tr>\n",
       "      <th>4</th>\n",
       "      <td>7d093bf9</td>\n",
       "      <td>a022c3f60ba547e7</td>\n",
       "      <td>2019-09-10 16:54:12.115000+00:00</td>\n",
       "      <td>{\"version\":\"1.0\",\"round\":0,\"event_count\":1,\"ga...</td>\n",
       "      <td>00abaee7</td>\n",
       "      <td>1</td>\n",
       "      <td>2000</td>\n",
       "      <td>0</td>\n",
       "      <td>Chow Time</td>\n",
       "      <td>Game</td>\n",
       "      <td>CRYSTALCAVES</td>\n",
       "    </tr>\n",
       "  </tbody>\n",
       "</table>\n",
       "</div>"
      ],
      "text/plain": [
       "   event_id      game_session                        timestamp  \\\n",
       "0  27253bdc  0ea9ecc81a565215 2019-09-10 16:50:24.910000+00:00   \n",
       "1  27253bdc  c1ea43d8b8261d27 2019-09-10 16:50:55.503000+00:00   \n",
       "2  27253bdc  7ed86c6b72e725e2 2019-09-10 16:51:51.805000+00:00   \n",
       "3  27253bdc  7e516ace50e7fe67 2019-09-10 16:53:12.825000+00:00   \n",
       "4  7d093bf9  a022c3f60ba547e7 2019-09-10 16:54:12.115000+00:00   \n",
       "\n",
       "                                          event_data installation_id  \\\n",
       "0             {\"event_code\": 2000, \"event_count\": 1}        00abaee7   \n",
       "1             {\"event_code\": 2000, \"event_count\": 1}        00abaee7   \n",
       "2             {\"event_code\": 2000, \"event_count\": 1}        00abaee7   \n",
       "3             {\"event_code\": 2000, \"event_count\": 1}        00abaee7   \n",
       "4  {\"version\":\"1.0\",\"round\":0,\"event_count\":1,\"ga...        00abaee7   \n",
       "\n",
       "   event_count  event_code  game_time                    title  type  \\\n",
       "0            1        2000          0  Welcome to Lost Lagoon!  Clip   \n",
       "1            1        2000          0     Magma Peak - Level 1  Clip   \n",
       "2            1        2000          0     Magma Peak - Level 2  Clip   \n",
       "3            1        2000          0  Crystal Caves - Level 1  Clip   \n",
       "4            1        2000          0                Chow Time  Game   \n",
       "\n",
       "          world  \n",
       "0          NONE  \n",
       "1     MAGMAPEAK  \n",
       "2     MAGMAPEAK  \n",
       "3  CRYSTALCAVES  \n",
       "4  CRYSTALCAVES  "
      ]
     },
     "execution_count": 42,
     "metadata": {},
     "output_type": "execute_result"
    }
   ],
   "source": [
    "test.head()"
   ]
  },
  {
   "cell_type": "code",
   "execution_count": 43,
   "metadata": {},
   "outputs": [
    {
     "data": {
      "text/plain": [
       "(1156414, 11)"
      ]
     },
     "execution_count": 43,
     "metadata": {},
     "output_type": "execute_result"
    }
   ],
   "source": [
    "test.shape"
   ]
  },
  {
   "cell_type": "code",
   "execution_count": 44,
   "metadata": {},
   "outputs": [],
   "source": [
    "# Same for test\n",
    "test['timestamp'] = pd.to_datetime(test['timestamp'])\n",
    "test['date'] = test['timestamp'].dt.date\n",
    "test['hour'] = test['timestamp'].dt.hour\n",
    "test['weekday_name'] = test['timestamp'].dt.weekday_name"
   ]
  },
  {
   "cell_type": "code",
   "execution_count": 45,
   "metadata": {},
   "outputs": [
    {
     "name": "stdout",
     "output_type": "stream",
     "text": [
      "no of installation_ids in test:  1000\n",
      "no of installation_ids in ss  :  1000\n"
     ]
    }
   ],
   "source": [
    "print(\"no of installation_ids in test: \", test.installation_id.nunique())\n",
    "print(\"no of installation_ids in ss  : \", ss.shape[0])\n",
    "# So we have 1.1 million rows on a thousand unique installation_ids in the test set. \n",
    "# Below, you can see that we have this same amount of rows in the sample submission.\n",
    "# This means that there are no installation_ids without assessment in the test set indeed."
   ]
  },
  {
   "cell_type": "code",
   "execution_count": 46,
   "metadata": {},
   "outputs": [
    {
     "data": {
      "text/plain": [
       "installation_id  type      \n",
       "00abaee7         Activity       454\n",
       "                 Game           373\n",
       "                 Assessment      27\n",
       "                 Clip            14\n",
       "01242218         Activity      1356\n",
       "                               ... \n",
       "ffe00ca8         Assessment     110\n",
       "                 Game            15\n",
       "                 Clip            11\n",
       "ffe774cc         Assessment      42\n",
       "                 Clip             3\n",
       "Name: type, Length: 3615, dtype: int64"
      ]
     },
     "execution_count": 46,
     "metadata": {},
     "output_type": "execute_result"
    }
   ],
   "source": [
    "test.groupby(\"installation_id\")[\"type\"].value_counts()"
   ]
  },
  {
   "cell_type": "code",
   "execution_count": 47,
   "metadata": {},
   "outputs": [],
   "source": [
    "# last row in each installation_id data is always assessment\n",
    "#for i in list(test.installation_id.unique()): \n",
    "#    print(test[test.installation_id == i].iloc[-1][\"type\"])"
   ]
  },
  {
   "cell_type": "code",
   "execution_count": 48,
   "metadata": {},
   "outputs": [
    {
     "ename": "NameError",
     "evalue": "name 'my_pal' is not defined",
     "output_type": "error",
     "traceback": [
      "\u001b[0;31m---------------------------------------------------------------------------\u001b[0m",
      "\u001b[0;31mNameError\u001b[0m                                 Traceback (most recent call last)",
      "\u001b[0;32m<ipython-input-48-7840858be441>\u001b[0m in \u001b[0;36m<module>\u001b[0;34m\u001b[0m\n\u001b[0;32m----> 1\u001b[0;31m \u001b[0mtest\u001b[0m\u001b[0;34m.\u001b[0m\u001b[0mgroupby\u001b[0m\u001b[0;34m(\u001b[0m\u001b[0;34m'date'\u001b[0m\u001b[0;34m)\u001b[0m\u001b[0;34m[\u001b[0m\u001b[0;34m'event_id'\u001b[0m\u001b[0;34m]\u001b[0m\u001b[0;34m.\u001b[0m\u001b[0magg\u001b[0m\u001b[0;34m(\u001b[0m\u001b[0;34m'count'\u001b[0m\u001b[0;34m)\u001b[0m\u001b[0;34m.\u001b[0m\u001b[0mplot\u001b[0m\u001b[0;34m(\u001b[0m\u001b[0mfigsize\u001b[0m\u001b[0;34m=\u001b[0m\u001b[0;34m(\u001b[0m\u001b[0;36m15\u001b[0m\u001b[0;34m,\u001b[0m\u001b[0;36m3\u001b[0m\u001b[0;34m)\u001b[0m\u001b[0;34m,\u001b[0m \u001b[0mtitle\u001b[0m\u001b[0;34m=\u001b[0m\u001b[0;34m\"Number of event observations by date\"\u001b[0m\u001b[0;34m,\u001b[0m \u001b[0mcolor\u001b[0m\u001b[0;34m=\u001b[0m\u001b[0mmy_pal\u001b[0m\u001b[0;34m[\u001b[0m\u001b[0;36m0\u001b[0m\u001b[0;34m]\u001b[0m\u001b[0;34m)\u001b[0m\u001b[0;34m\u001b[0m\u001b[0m\n\u001b[0m\u001b[1;32m      2\u001b[0m \u001b[0mplt\u001b[0m\u001b[0;34m.\u001b[0m\u001b[0mshow\u001b[0m\u001b[0;34m(\u001b[0m\u001b[0;34m)\u001b[0m\u001b[0;34m\u001b[0m\u001b[0m\n\u001b[1;32m      3\u001b[0m \u001b[0mtest\u001b[0m\u001b[0;34m.\u001b[0m\u001b[0mgroupby\u001b[0m\u001b[0;34m(\u001b[0m\u001b[0;34m'hour'\u001b[0m\u001b[0;34m)\u001b[0m\u001b[0;34m[\u001b[0m\u001b[0;34m'event_id'\u001b[0m\u001b[0;34m]\u001b[0m\u001b[0;34m.\u001b[0m\u001b[0magg\u001b[0m\u001b[0;34m(\u001b[0m\u001b[0;34m'count'\u001b[0m\u001b[0;34m)\u001b[0m\u001b[0;34m.\u001b[0m\u001b[0mplot\u001b[0m\u001b[0;34m(\u001b[0m\u001b[0mfigsize\u001b[0m\u001b[0;34m=\u001b[0m\u001b[0;34m(\u001b[0m\u001b[0;36m15\u001b[0m\u001b[0;34m,\u001b[0m\u001b[0;36m3\u001b[0m\u001b[0;34m)\u001b[0m\u001b[0;34m,\u001b[0m \u001b[0mtitle\u001b[0m\u001b[0;34m=\u001b[0m\u001b[0;34m\"Number of event observations by hour\"\u001b[0m\u001b[0;34m,\u001b[0m \u001b[0mcolor\u001b[0m\u001b[0;34m=\u001b[0m\u001b[0mmy_pal\u001b[0m\u001b[0;34m[\u001b[0m\u001b[0;36m1\u001b[0m\u001b[0;34m]\u001b[0m\u001b[0;34m)\u001b[0m\u001b[0;34m\u001b[0m\u001b[0m\n\u001b[1;32m      4\u001b[0m \u001b[0mplt\u001b[0m\u001b[0;34m.\u001b[0m\u001b[0mshow\u001b[0m\u001b[0;34m(\u001b[0m\u001b[0;34m)\u001b[0m\u001b[0;34m\u001b[0m\u001b[0m\n\u001b[1;32m      5\u001b[0m \u001b[0mtest\u001b[0m\u001b[0;34m.\u001b[0m\u001b[0mgroupby\u001b[0m\u001b[0;34m(\u001b[0m\u001b[0;34m'weekday_name'\u001b[0m\u001b[0;34m)\u001b[0m\u001b[0;34m[\u001b[0m\u001b[0;34m'event_id'\u001b[0m\u001b[0;34m]\u001b[0m\u001b[0;34m.\u001b[0m\u001b[0magg\u001b[0m\u001b[0;34m(\u001b[0m\u001b[0;34m'count'\u001b[0m\u001b[0;34m)\u001b[0m\u001b[0;34m.\u001b[0m\u001b[0mplot\u001b[0m\u001b[0;34m(\u001b[0m\u001b[0mfigsize\u001b[0m\u001b[0;34m=\u001b[0m\u001b[0;34m(\u001b[0m\u001b[0;36m15\u001b[0m\u001b[0;34m,\u001b[0m\u001b[0;36m3\u001b[0m\u001b[0;34m)\u001b[0m\u001b[0;34m,\u001b[0m \u001b[0mtitle\u001b[0m\u001b[0;34m=\u001b[0m\u001b[0;34m\"Number of event observations by weekday name\"\u001b[0m\u001b[0;34m,\u001b[0m \u001b[0mcolor\u001b[0m\u001b[0;34m=\u001b[0m\u001b[0mmy_pal\u001b[0m\u001b[0;34m[\u001b[0m\u001b[0;36m2\u001b[0m\u001b[0;34m]\u001b[0m\u001b[0;34m)\u001b[0m\u001b[0;34m\u001b[0m\u001b[0m\n",
      "\u001b[0;31mNameError\u001b[0m: name 'my_pal' is not defined"
     ]
    }
   ],
   "source": [
    "test.groupby('date')['event_id'].agg('count').plot(figsize=(15,3), title=\"Number of event observations by date\", color=my_pal[0])\n",
    "plt.show()\n",
    "test.groupby('hour')['event_id'].agg('count').plot(figsize=(15,3), title=\"Number of event observations by hour\", color=my_pal[1])\n",
    "plt.show()\n",
    "test.groupby('weekday_name')['event_id'].agg('count').plot(figsize=(15,3), title=\"Number of event observations by weekday name\", color=my_pal[2])\n",
    "plt.show()"
   ]
  },
  {
   "cell_type": "markdown",
   "metadata": {},
   "source": [
    "# specs.csv"
   ]
  },
  {
   "cell_type": "code",
   "execution_count": 49,
   "metadata": {},
   "outputs": [
    {
     "name": "stdout",
     "output_type": "stream",
     "text": [
      "<class 'pandas.core.frame.DataFrame'>\n",
      "RangeIndex: 386 entries, 0 to 385\n",
      "Data columns (total 3 columns):\n",
      "event_id    386 non-null object\n",
      "info        386 non-null object\n",
      "args        386 non-null object\n",
      "dtypes: object(3)\n",
      "memory usage: 9.2+ KB\n"
     ]
    }
   ],
   "source": [
    "specs.info()"
   ]
  },
  {
   "cell_type": "code",
   "execution_count": 50,
   "metadata": {},
   "outputs": [
    {
     "data": {
      "text/html": [
       "<div>\n",
       "<style scoped>\n",
       "    .dataframe tbody tr th:only-of-type {\n",
       "        vertical-align: middle;\n",
       "    }\n",
       "\n",
       "    .dataframe tbody tr th {\n",
       "        vertical-align: top;\n",
       "    }\n",
       "\n",
       "    .dataframe thead th {\n",
       "        text-align: right;\n",
       "    }\n",
       "</style>\n",
       "<table border=\"1\" class=\"dataframe\">\n",
       "  <thead>\n",
       "    <tr style=\"text-align: right;\">\n",
       "      <th></th>\n",
       "      <th>event_id</th>\n",
       "      <th>info</th>\n",
       "      <th>args</th>\n",
       "    </tr>\n",
       "  </thead>\n",
       "  <tbody>\n",
       "    <tr>\n",
       "      <th>count</th>\n",
       "      <td>386</td>\n",
       "      <td>386</td>\n",
       "      <td>386</td>\n",
       "    </tr>\n",
       "    <tr>\n",
       "      <th>unique</th>\n",
       "      <td>386</td>\n",
       "      <td>168</td>\n",
       "      <td>191</td>\n",
       "    </tr>\n",
       "    <tr>\n",
       "      <th>top</th>\n",
       "      <td>d45ed6a1</td>\n",
       "      <td>This event occurs when the player clicks on th...</td>\n",
       "      <td>[{\"name\":\"game_time\",\"type\":\"int\",\"info\":\"mill...</td>\n",
       "    </tr>\n",
       "    <tr>\n",
       "      <th>freq</th>\n",
       "      <td>1</td>\n",
       "      <td>17</td>\n",
       "      <td>25</td>\n",
       "    </tr>\n",
       "  </tbody>\n",
       "</table>\n",
       "</div>"
      ],
      "text/plain": [
       "        event_id                                               info  \\\n",
       "count        386                                                386   \n",
       "unique       386                                                168   \n",
       "top     d45ed6a1  This event occurs when the player clicks on th...   \n",
       "freq           1                                                 17   \n",
       "\n",
       "                                                     args  \n",
       "count                                                 386  \n",
       "unique                                                191  \n",
       "top     [{\"name\":\"game_time\",\"type\":\"int\",\"info\":\"mill...  \n",
       "freq                                                   25  "
      ]
     },
     "execution_count": 50,
     "metadata": {},
     "output_type": "execute_result"
    }
   ],
   "source": [
    "specs.describe()"
   ]
  },
  {
   "cell_type": "code",
   "execution_count": 51,
   "metadata": {},
   "outputs": [
    {
     "data": {
      "text/html": [
       "<div>\n",
       "<style scoped>\n",
       "    .dataframe tbody tr th:only-of-type {\n",
       "        vertical-align: middle;\n",
       "    }\n",
       "\n",
       "    .dataframe tbody tr th {\n",
       "        vertical-align: top;\n",
       "    }\n",
       "\n",
       "    .dataframe thead th {\n",
       "        text-align: right;\n",
       "    }\n",
       "</style>\n",
       "<table border=\"1\" class=\"dataframe\">\n",
       "  <thead>\n",
       "    <tr style=\"text-align: right;\">\n",
       "      <th></th>\n",
       "      <th>event_id</th>\n",
       "      <th>info</th>\n",
       "      <th>args</th>\n",
       "    </tr>\n",
       "  </thead>\n",
       "  <tbody>\n",
       "    <tr>\n",
       "      <th>0</th>\n",
       "      <td>2b9272f4</td>\n",
       "      <td>The end of system-initiated feedback (Correct)...</td>\n",
       "      <td>[{\"name\":\"game_time\",\"type\":\"int\",\"info\":\"mill...</td>\n",
       "    </tr>\n",
       "    <tr>\n",
       "      <th>1</th>\n",
       "      <td>df4fe8b6</td>\n",
       "      <td>The end of system-initiated feedback (Incorrec...</td>\n",
       "      <td>[{\"name\":\"game_time\",\"type\":\"int\",\"info\":\"mill...</td>\n",
       "    </tr>\n",
       "    <tr>\n",
       "      <th>2</th>\n",
       "      <td>3babcb9b</td>\n",
       "      <td>The end of system-initiated instruction event ...</td>\n",
       "      <td>[{\"name\":\"game_time\",\"type\":\"int\",\"info\":\"mill...</td>\n",
       "    </tr>\n",
       "    <tr>\n",
       "      <th>3</th>\n",
       "      <td>7f0836bf</td>\n",
       "      <td>The end of system-initiated instruction event ...</td>\n",
       "      <td>[{\"name\":\"game_time\",\"type\":\"int\",\"info\":\"mill...</td>\n",
       "    </tr>\n",
       "    <tr>\n",
       "      <th>4</th>\n",
       "      <td>ab3136ba</td>\n",
       "      <td>The end of system-initiated instruction event ...</td>\n",
       "      <td>[{\"name\":\"game_time\",\"type\":\"int\",\"info\":\"mill...</td>\n",
       "    </tr>\n",
       "  </tbody>\n",
       "</table>\n",
       "</div>"
      ],
      "text/plain": [
       "   event_id                                               info  \\\n",
       "0  2b9272f4  The end of system-initiated feedback (Correct)...   \n",
       "1  df4fe8b6  The end of system-initiated feedback (Incorrec...   \n",
       "2  3babcb9b  The end of system-initiated instruction event ...   \n",
       "3  7f0836bf  The end of system-initiated instruction event ...   \n",
       "4  ab3136ba  The end of system-initiated instruction event ...   \n",
       "\n",
       "                                                args  \n",
       "0  [{\"name\":\"game_time\",\"type\":\"int\",\"info\":\"mill...  \n",
       "1  [{\"name\":\"game_time\",\"type\":\"int\",\"info\":\"mill...  \n",
       "2  [{\"name\":\"game_time\",\"type\":\"int\",\"info\":\"mill...  \n",
       "3  [{\"name\":\"game_time\",\"type\":\"int\",\"info\":\"mill...  \n",
       "4  [{\"name\":\"game_time\",\"type\":\"int\",\"info\":\"mill...  "
      ]
     },
     "execution_count": 51,
     "metadata": {},
     "output_type": "execute_result"
    }
   ],
   "source": [
    "specs.head(5)"
   ]
  },
  {
   "cell_type": "code",
   "execution_count": 52,
   "metadata": {},
   "outputs": [
    {
     "name": "stdout",
     "output_type": "stream",
     "text": [
      "0 The end of system-initiated feedback (Correct) event occurs when the game finishes delivering feedback to the player in response to a correct round attempt (pressing the go button with the correct answer). It contains information that describes the duration and content of the instruction, and will likely occur in conjunction with a beat round event. These events are used to determine the effectiveness of the feedback. We can answer questions like, \"how much time elapsed while the game was presenting feedback?\"\n",
      "\n",
      "1 The end of system-initiated feedback (Incorrect) event occurs when the game finishes delivering feedback to the player in response to an incorrect round attempt (pressing the go button with the incorrect answer). It contains information that describes the content of the instruction. These events are used to determine the effectiveness of the feedback. We can answer questions like, \"how much time elapsed while the game was presenting feedback?\"\n",
      "\n",
      "2 The end of system-initiated instruction event occurs when the game finishes delivering instructions to the player. It contains information that describes the content of the instruction including duration. These events are used to determine the effectiveness of the instructions and the amount of time they consume. We can answer questions like, \"how much time elapsed while the game was presenting instruction?\"\n",
      "\n",
      "3 The end of system-initiated instruction event occurs when the game finishes delivering instructions to the player. It contains information that describes the content of the instruction including duration. These events are used to determine the effectiveness of the instructions and the amount of time they consume. We can answer questions like \"how much time elapsed while the game was presenting instruction?\"\n",
      "\n",
      "4 This event occurs when the player drops a weight from the resource table to someplace other than the pan balance (including back on the table). It contains information about the destination and the state of the game. This event is used to diagnose player strategies and understanding.\n",
      "\n",
      "5 The system-initiated instruction event occurs when the game delivers instructions to the player. It contains information that describes the content of the instruction. This event differs from events 3020 and 3021 as it captures instructions that are not given in response to player action. These events are used to determine the effectiveness of the instructions. We can answer questions like \"did players who received instruction X do better than those who did not?\"\n",
      "\n",
      "6 This event occurs when the player drags a chicken or pig to someplace other than an acceptable destination for the chicken or pig. It contains information about the pig or chicken being moved and the destination. The event should occur when the drag is released and the pig or chicken is placed.\n",
      "\n",
      "7 The system-initiated feedback (Incorrect) event occurs when the game starts delivering feedback to the player in response to an incorrect round attempt (pressing the go button with the incorrect answer). It contains information that describes the content of the instruction. These events are used to determine the effectiveness of the feedback. We can answer questions like, \"did players who received feedback X do better than those who did not?\"\n",
      "\n",
      "8 This event occurs when the player hovers the mouse over an interactive object. It contains information about the object under the mouse and the duration of the hover. This event can be used to diagnose things like planning (are they hovering the mouse over tiles for long periods before they use those tiles) and determine which objects the player thinks are important.\n",
      "\n",
      "9 This event occurs when the player clicks to start the game from the starting screen.\n",
      "\n",
      "10 This event occurs when the player drags a crystal from the resources to someplace other than the mine carts. It contains information about the chest being moved and the destination. The event should occur when the drag is released and the crystal is placed. These events are used to diagnose player strategies and understanding.\n",
      "\n",
      "11 The system-initiated feedback (Correct) event occurs when the game starts delivering feedback to the player in response to a correct round attempt (pressing the go button with the correct answer). It contains information that describes the content of the instruction and will likely occur in conjunction with a beat round event. These events are used to determine the effectiveness of the feedback. We can answer questions like \"did players who received feedback X do better than those who did not?\"\n",
      "\n",
      "12 This event occurs when the player clicks on the help button. It contains information about the state of the game that caused the player to seek help. This event is usually followed by a 3010 (system-initiated instruction) event. It helps identify points that players feel are too difficult.\n",
      "\n",
      "13 The system-initiated instruction event occurs when the game delivers instructions to the player. It contains information that describes the content of the instruction. This event differs from events 3020 and 3021 as it captures instructions that are not given in response to player action. These events are used to determine the effectiveness of the instructions. We can answer questions like, \"did players who received instruction X do better than those who did not?\"\n",
      "\n",
      "14 The beat round event is triggered when the player finishes a round by correctly balancing the scale and clicking the submit button. This event is used for calculating time spent in a round (for speed and accuracy) attempts at solving a round and the number of rounds the player has completed (completion).\n",
      "\n",
      "15 This event occurs when the player hovers the mouse over an interactive object. It contains information about the object under the mouse, and the duration of the hover. This event can be used to diagnose things like planning (are they hovering the mouse over tiles for long periods before they use those tiles), and determine which objects the player thinks are important.\n",
      "\n",
      "16 The start game event is triggered at the very beginning of the game (after the game finishes loading, don’t wait for intro movie to finish). This is used to compute things like time spent in game.\n",
      "\n",
      "17 The movie started event triggers when an intro or outro movie starts to play. It identifies the movie being played. This is used to determine how long players spend watching the movies (more relevant after the first play through when the skip option is available).\n",
      "\n",
      "18 The system-initiated feedback (Incorrect) event occurs when the game starts delivering feedback to the player in response to an incorrect round attempt (pressing the go button with the incorrect answer). It contains information that describes the content of the instruction. These events are used to determine the effectiveness of the feedback. We can answer questions like, “did players who received feedback X do better than those who did not?”\n",
      "\n",
      "19 The beat round event is triggered when the player finishes a round by successfully placing the cauldrons and submitting the solution and when the player finishes a round by successfully selecting the specified cauldron. This event is used for calculating time spent in a round (for speed and accuracy), attempts at solving a round, and the number of rounds the player has completed (completion).\n",
      "\n",
      "20 The start game event is triggered at the very beginning of the level (after the game finishes loading, don't wait for intro movie to finish). This is used to compute things like time spent in game.\n",
      "\n",
      "21 The start round event is triggered at the start of a round when the player is to arrange the mushrooms on the stumps. There is only one round per playthrough? This event provides information about the game characteristics of the round (i.e. resources, objectives, setup). It is used in calculating things like time spent in a round (for speed and accuracy), attempts at solving a round, and the number of rounds the player has visited (exposures).\n",
      "\n",
      "22 The system-initiated feedback (Correct) event occurs when the game starts delivering feedback to the player in response to a correct round attempt (pressing the go button with the correct answer). It contains information that describes the content of the instruction, and will likely occur in conjunction with a beat round event. These events are used to determine the effectiveness of the feedback. We can answer questions like, \"did players who received feedback X do better than those who did not?\"\n",
      "\n",
      "23 This event occurs when the player places a hat on one of the birds. It contains information about the hat that was placed, the correctness of the action, and where the placement occurred. This event is used to calculate accuracy and to diagnose player strategies and understanding.\n",
      "\n",
      "24 This event occurs when the player clicks on something that isn't covered elsewhere. It can be useful in determining if there are attractive distractions (things the player think should do something, but don't) in the game, or diagnosing players who are having mechanical difficulties (near misses).\n",
      "\n",
      "25 This event occurs when the player drags a dinosaur from the resources to someplace other than the hiding spots in the play area. It contains information about the character being moved, the destination, and the state of the game area. This event is used to diagnose player strategies and understanding.\n",
      "\n",
      "26 This event occurs when the player places a bucket under one of the cauldrons. It contains information about the bucket that was placed, the correctness of the action, and where the placement occurred. This event is used to calculate accuracy and to diagnose player strategies and understanding.\n",
      "\n",
      "27 This event occurs when the player clicks to pick up or begins dragging a bowl. It contains information about the bowl being moved and the state of the game area. This event is used to diagnose player strategies and understanding.\n",
      "\n",
      "28 The exit game event is triggered when the game is quit. This is used to compute things like time spent in game. Depending on platform this may / may not be possible. NOTE: “quit” also means navigating away from game.\n",
      "\n",
      "29 The system-initiated instruction event occurs when the game delivers instructions to the player. It contains information that describes the content of the instruction. This event differs from events 3020 and 3021 as it captures instructions that are not given in response to player action. These events are used to determine the effectiveness of the instructions. We can answer questions like, “did players who received instruction X do better than those who did not?”\n",
      "\n",
      "30 This event occurs when the player picks up a chest by clicking on it, or begins dragging a chest. It contains information about the chest that was picked up and the position of the chest. This event is used to calculate accuracy and to diagnose player strategies and understanding.\n",
      "\n",
      "31 The start round event is triggered at the start of a round when the player is prompted to balance the mine carts. There is only one round per playthrough. This event provides information about the game characteristics of the round (i.e. resources, objectives, setup). It is used in calculating things like time spent in a round (for speed and accuracy), attempts at solving a round, and the number of rounds the player has visited (exposures).\n",
      "\n",
      "32 This event occurs when the player clicks a rock on one of the gates. It contains information about the rock that was clicked and where the click occurred.\n",
      "\n",
      "33 The beat round event is triggered when the player skips the tutorial by clicking on the skip button. This event is used for calculating time spent in the tutorial.\n",
      "\n",
      "34 This event occurs when the player places a mushroom on one of the three stumps. It contains information about the mushroom that was placed, the correctness of the action, and where the placement occurred. This event is used to calculate accuracy and to diagnose player strategies and understanding.\n",
      "\n",
      "35 This event occurs when the player picks up a chicken or pig by clicking on it, or begins dragging a chicken or pig. It contains information about the object that was picked up and the position of the click.\n",
      "\n",
      "36 This event occurs when the player on the done button to submit a solution. It contains information about the crystals placed in the carts and the correctness of the action. This event is used to calculate accuracy and to diagnose player strategies and understanding.\n",
      "\n",
      "37 The end of system-initiated feedback (Correct) event occurs when the game finishes delivering feedback to the player in response to a correct round attempt (pressing the go button with the correct answer). It contains information that describes the duration and content of the instruction and will likely occur in conjunction with a beat round event. These events are used to determine the effectiveness of the feedback. We can answer questions like \"how much time elapsed while the game was presenting feedback?\"\n",
      "\n",
      "38 This event occurs when the player clicks on the green check button. It contains information about the weights on the scale the state of the game and the correctness of the action. This event is used to diagnose player strategies and understanding.\n",
      "\n",
      "39 The end of system-initiated feedback (Incorrect) event occurs when the game finishes delivering feedback to the player in response to an incorrect round attempt (pressing the go button with the incorrect answer). It contains information that describes the content of the instruction. These events are used to determine the effectiveness of the feedback. We can answer questions like, how much time elapsed while the game was presenting feedback?\"\"\n",
      "\n",
      "40 The end of system-initiated feedback (Incorrect) event occurs when the game finishes delivering feedback to the player in response to an incorrect round attempt (pressing the go button with the incorrect answer). It contains information that describes the content of the instruction. These events are used to determine the effectiveness of the feedback. We can answer questions like \"how much time elapsed while the game was presenting feedback?\"\n",
      "\n",
      "41 This event occurs when the player clicks on the play again button.\n",
      "\n",
      "42 This event occurs when the player places a chest on one of the three pillars. It contains information about the chest that was placed, the correctness of the action, and where the placement occurred. This event is used to calculate accuracy and to diagnose player strategies and understanding.\n",
      "\n",
      "43 The system-initiated feedback (Incorrect) event occurs when the game starts delivering feedback to the player in response to an incorrect round attempt (pressing the go button with the incorrect answer). It contains information that describes the content of the instruction. These events are used to determine the effectiveness of the feedback. We can answer questions like, did players who received feedback X do better than those who did not?\"\"\n",
      "\n",
      "44 The start round event is triggered at the start of the game. It contains information about the layout of the activity.\n",
      "\n",
      "45 The system-initiated feedback (Correct) event occurs when the game starts delivering feedback to the player in response to a correct round attempt (pressing the go button with the correct answer). It contains information that describes the content of the instruction, and will likely occur in conjunction with a beat round event. These events are used to determine the effectiveness of the feedback. We can answer questions like, did players who received feedback X do better than those who did not?\"\"\n",
      "\n",
      "46 This event occurs when the player clicks on a filled bucket when prompted to select a bucket. It contains information about the bucket that was clicked and the correctness of the action. This event is used to calculate accuracy and to diagnose player strategies and understanding.\n",
      "\n",
      "47 The beat round event is triggered when the player finishes a round. This event is used for calculating time spent in a round (for speed and accuracy), attempts at solving a round, and the number of rounds the player has completed (completion).\n",
      "\n",
      "48 The beat round event is triggered when the player finishes a round by correctly arranging the mushrooms and submitting the solution. This event is used for calculating time spent in a round (for speed and accuracy), attempts at solving a round, and the number of rounds the player has completed (completion).\n",
      "\n",
      "49 This event occurs when the player clicks on something that isn’t covered elsewhere. It can be useful in determining if there are attractive distractions (things the player think should do something, but don’t) in the game, or diagnosing players who are having mechanical difficulties (near misses).\n",
      "\n",
      "50 The start round event is triggered at the start of a round when a new arrangement of dinosaurs and houses is presented. This event provides information about the game characteristics of the round (i.e. resources, objectives, setup). It is used in calculating things like time spent in a round (for speed and accuracy), attempts at solving a round, and the number of rounds the player has visited (exposures).\n",
      "\n",
      "51 This event occurs when the player clicks on the go button to trigger the dinosaur to fly. It contains information about the distance selected, the correctness of the action, and where the click occurred. This event is used to calculate accuracy and to diagnose player strategies and understanding.\n",
      "\n",
      "52 The start round event is triggered at the start of a round when the player is prompted to place the cauldrons and when the player is prompted to select a certain cauldron. This event provides information about the game characteristics of the round (i.e. resources, objectives, setup). It is used in calculating things like time spent in a round (for speed and accuracy), attempts at solving a round, and the number of rounds the player has visited (exposures).\n",
      "\n",
      "53 This event occurs when the player drags a bucket to the resource area. It contains information about the bucket being moved. The event should occur when the drag is released and the bucket is placed. These events are used to diagnose player strategies and understanding.\n",
      "\n",
      "54 The beat round event is triggered when the player finishes a round by successfully balancing the carts and submitting the solution. This event is used for calculating time spent in a round (for speed and accuracy), attempts at solving a round, and the number of rounds the player has completed (completion).\n",
      "\n",
      "55 This event occurs when the player places a bowl of snacks on the plate. It contains information about the bowl that was placed where the bowl was picked up from and the correctness of the action. This event is used to diagnose player strategies and understanding.\n",
      "\n",
      "56 The beat level event is triggered when a level has been completed and the player has cleared all rounds in the current layout (occurs at the same time as the beat round event for the last round in the previous level). This event is used for calculating time spent in a level (for speed and accuracy), and the number of levels the player has completed (completion).\n",
      "\n",
      "57 This event occurs when the player drags a bug to someplace other than an acceptable destination for the bug. It contains information about the rock being moved and the destination. The event should occur when the drag is released and the rock is placed.\n",
      "\n",
      "58 This event occurs when the player clicks on one of the options of object amounts. It contains information about the option that was clicked, the correctness of the option, and where the click occurred. This event is used to calculate accuracy and to diagnose player strategies and understanding.\n",
      "\n",
      "59 This event occurs when the player clicks on something that isn't covered elsewhere. It can be useful in determining if there are attractive distractions (things the player think should do something but don't) in the game or diagnosing players who are having mechanical difficulties (near misses).\n",
      "\n",
      "60 This event occurs when the player clicks on one of the dinosaurs. It contains information about the the state of the game and the correctness of the action. This event is used to diagnose player strategies and understanding.\n",
      "\n",
      "61 The reset dinosaurs event is triggered when the player has placed the last dinosaur, but not all dinosaurs are in the correct position. This event provides information about the game characteristics of the round (i.e. resources, objectives, setup). It is used to indicate a significant change in state during play.\n",
      "\n",
      "62 The beat round event is triggered when the player finishes a round by filling the jar. This event is used for calculating time spent in a round and the number of rounds the player has completed (completion).\n",
      "\n",
      "63 The start level event is triggered when a new level begins (at the same time as the start round event for the first round in the level). This event is used for calculating time spent in a level (for speed and accuracy), and the number of levels the player has completed (completion).\n",
      "\n",
      "64 The beat round event is triggered when the player finishes the tutorial. This event is used for calculating time spent in the tutorial.\n",
      "\n",
      "65 This event occurs when the dinosaurs finish draining the pool. This event is to identify a change in the state of the game.\n",
      "\n",
      "66 This event occurs when the player drags a castle or the shovel to someplace other than an acceptable destination for the castle or shovel. It contains information about the castle being moved and the destination. The event should occur when the drag is released and the castle or shovel is placed.\n",
      "\n",
      "67 This event occurs when the player places a crystal in a mine cart. It contains information about the crystal that was placed and where the placement occurred. This event is used to calculate accuracy and to diagnose player strategies and understanding.\n",
      "\n",
      "68 This event occurs when the player places a castle in the play area. It contains information about the castle that was placed and where the placement occurred.\n",
      "\n",
      "69 This event occurs when the player chooses a number of containers from the options. It contains information about the choice, and the correctness of the action. This event is used to diagnose player strategies and understanding.\n",
      "\n",
      "70 The system-initiated feedback (Incorrect) event occurs when the game starts delivering feedback to the player in response to an incorrect round attempt (pressing the go button with the incorrect answer). It contains information that describes the content of the instruction. These events are used to determine the effectiveness of the feedback. We can answer questions like \"did players who received feedback X do better than those who did not?\"\n",
      "\n",
      "71 The start game event is triggered at the very beginning of the level (after the game finishes loading don't wait for intro movie to finish). This is used to compute things like time spent in game.\n",
      "\n",
      "72 This event occurs when the player drags a hat to someplace other than an acceptable destination for the hat. It contains information about the hat being moved and the destination. The event should occur when the drag is released and the hat is placed. These events are used to diagnose player strategies and understanding.\n",
      "\n",
      "73 This event occurs when the player on the done button to submit a solution. It contains information about the length of caterpillars dragged and the correctness of the action. This event is used to calculate accuracy and to diagnose player strategies and understanding.\n",
      "\n",
      "74 This event occurs when the player clicks on the container icon to fill the tub. It contains information about the state of the game area.\n",
      "\n",
      "75 This event occurs when the player drags a crystal from the cart to the resource area. It contains information about the crystal being moved and the destination. The event should occur when the drag is released and the crystal is placed. These events are used to diagnose player strategies and understanding.\n",
      "\n",
      "76 This event occurs when the player on the done button to submit a solution. It contains information about the mushrooms placed on the stumps and the correctness of the action. This event is used to calculate accuracy and to diagnose player strategies and understanding.\n",
      "\n",
      "77 The end tutorial event is triggered when the player finishes the tutorial. This event is used for calculating time spent in the tutorial.\n",
      "\n",
      "78 This event occurs when the player clicks on the character that provides a hint (Sorry, I don't know his name). It contains information about the state of the game when the player chooses to seek help. This event is usually followed by a 3010 (system-initiated instruction) event. It helps identify points that players feel are too difficult.\n",
      "\n",
      "79 This event occurs when the player drags a chest to someplace other than an acceptable destination for the chest. It contains information about the chest being moved and the destination. The event should occur when the drag is released and the chest is placed. These events are used to diagnose player strategies and understanding.\n",
      "\n",
      "80 This event occurs when the player clicks to pick up or begins dragging a dinosaur in the resource bin. It contains information about the dinosaur being moved, the position of the click, and the state of the game area. This event is used to diagnose player strategies and understanding.\n",
      "\n",
      "81 This event occurs when the player picks up a bug by clicking on it, or begins dragging a bug. It contains information about the bug that was picked up and the position of the click.\n",
      "\n",
      "82 This event occurs when the player on the done button to submit a solution. It contains information about the chests placed on the pillars and the correctness of the action. This event is used to calculate accuracy and to diagnose player strategies and understanding.\n",
      "\n",
      "83 The movie ended event triggers when an intro or outro movie ends. It identifies the movie being played. This is used to determine how long players spend watching the movies (more relevant after the first play through when the skip option is available).\n",
      "\n",
      "84 The beat round event is triggered when the player finishes a round. This event is used for calculating time spent in a round (for speed and accuracy) attempts at solving a round and the number of rounds the player has completed (completion).\n",
      "\n",
      "85 This event occurs when the player drags a line from a rocket. It contains information about the rocket that was dragged and the height of the drag.\n",
      "\n",
      "86 This event occurs when the player drags a bottle to someplace other than an acceptable destination for the bottle. It contains information about the bottle being moved and the destination. The event should occur when the drag is released and the bottle is placed.\n",
      "\n",
      "87 The start round event is triggered at the start of a round. This event provides information about the game characteristics of the round (i.e. resources, objectives, setup). It is used in calculating things like time spent in a round (for speed and accuracy), attempts at solving a round, and the number of rounds the player has visited (exposures).\n",
      "\n",
      "88 This event occurs when the player picks up a bucket by clicking on it, or begins dragging a bucket. It contains information about the bucket that was picked up and the position of the click.\n",
      "\n",
      "89 The movie skipped event triggers when the player presses the skip button during an intro or outro movie. It identifies the movie being played. This is used to determine how long players spend watching the movies (more relevant after the first play through when the skip option is available).\n",
      "\n",
      "90 The start round event is triggered at the start of a round when the player is prompted to fill a jar. It is used in calculating things like time spent in a round and the number of rounds the player has visited (exposures).\n",
      "\n",
      "91 This event occurs when the player drags a hat to the resource area. It contains information about the hat being moved. The event should occur when the drag is released and the hat is placed. These events are used to diagnose player strategies and understanding.\n",
      "\n",
      "92 This event occurs when the player drags the object below the crystal. It occurs when the drag has finished. This event is used to diagnose player strategies and understanding.\n",
      "\n",
      "93 The start round event is triggered at the start of a round when a new dinosaur and food resources are presented. This event provides information about the game characteristics of the round (i.e. resources objectives setup). It is used in calculating things like time spent in a round (for speed and accuracy) attempts at solving a round and the number of rounds the player has visited (exposures).\n",
      "\n",
      "94 This event occurs when the player finishes dragging a toy to a new location. It contains information about the toy being moved and the destination.\n",
      "\n",
      "95 The start round event is triggered at the start of a round when the player is prompted to weigh and arrange the chests. There is only one round per playthrough. This event provides information about the game characteristics of the round (i.e. resources, objectives, setup). It is used in calculating things like time spent in a round (for speed and accuracy), attempts at solving a round, and the number of rounds the player has visited (exposures).\n",
      "\n",
      "96 The start filling tub event is triggered after a round completes and the user is prompted to fill up the tub. It is used to separate a section of gameplay that is different from the estimation section of the game.\n",
      "\n",
      "97 This event occurs when the player places sand in one of the molds. It contains information about the mold that was filled and where the click occurred.\n",
      "\n",
      "98 This event occurs when the player fills in one of the clouds partially. It contains information about the cloud that was filled.\n",
      "\n",
      "99 The skip tutorial event is triggered when the player skips the tutorial by clicking on the skip button. This event is used for calculating time spent in the tutorial.\n",
      "\n",
      "100 This event occurs when the player drops the watering can. It contains information about the location of the placement.\n",
      "\n",
      "101 The end of system-initiated feedback (Correct) event occurs when the game finishes delivering feedback to the player in response to a correct round attempt (pressing the go button with the correct answer). It contains information that describes the duration and content of the instruction, and will likely occur in conjunction with a beat round event. These events are used to determine the effectiveness of the feedback. We can answer questions like, how much time elapsed while the game was presenting feedback?\"\"\n",
      "\n",
      "102 This event occurs when the player drags a chest to the resource area. It contains information about the chest being moved. The event should occur when the drag is released and the chest is placed. These events are used to diagnose player strategies and understanding.\n",
      "\n",
      "103 This event occurs when the player drags one of the caterpillars to measure a bird. It contains information about the caterpillar that was dragged and where the click occurred. The event should occur when the drag is released and the caterpillar’s size is set.\n",
      "\n",
      "104 This event occurs when the player places a chicken on the see-saw. It contains information about the state of the see-saw and where the placement occurred.\n",
      "\n",
      "105 The finished round event is triggered when the player finishes a round (hit milestone). This event is used for calculating time spent in a round, and the number of rounds the player has completed (completion).\n",
      "\n",
      "106 This event occurs when the player places a piece of food on the scale. It contains information about the food that was placed the correctness of the action and where the placement occurred. This event is used to diagnose player strategies and understanding.\n",
      "\n",
      "107 This event occurs when the player places a dinosaur in a house. It contains information about the dinosaur that was placed, the correctness of the action, and where the placement occurred. This event is used to diagnose player strategies and understanding.\n",
      "\n",
      "108 This event occurs when the player drags a mushroom to someplace other than an acceptable destination for the mushroom. It contains information about the mushroom being moved and the destination. The event should occur when the drag is released and the mushroom is placed. These events are used to diagnose player strategies and understanding.\n",
      "\n",
      "109 This event occurs when the player picks up a mushroom by clicking on it, or begins dragging a mushroom. It contains information about the mushroom that was picked up and the position of the mushroom. This event is used to calculate accuracy and to diagnose player strategies and understanding.\n",
      "\n",
      "110 This event occurs when the player clicks on the character that provides a hint (Sorry I don't know his name). It contains information about the state of the game when the player chooses to seek help. This event is usually followed by a 3010 (system-initiated instruction) event. It helps identify points that players feel are too difficult.\n",
      "\n",
      "111 The start round event is triggered at the start of a round. This event provides information about the game characteristics of the round (i.e. resources objectives setup). It is used in calculating things like time spent in a round (for speed and accuracy) attempts at solving a round and the number of rounds the player has visited (exposures).\n",
      "\n",
      "112 This event occurs when the player drags a piece of food from the resources to someplace other than the scale in the play area. It contains information about the food being moved the destination and the state of the game area. This event is used to diagnose player strategies and understanding.\n",
      "\n",
      "113 This event occurs when the player clicks on one of the watering holes while holding a shell filled with water. It contains information about the state of the game and the correctness of the action. This event is used to diagnose player strategies and understanding.\n",
      "\n",
      "114 This event occurs when the player drags a bowl to the scale. It contains information about the bowl being moved the destination and the state of the game area. This event is used to diagnose player strategies and understanding.\n",
      "\n",
      "115 This event occurs when the player clicks on the button that provides a hint. It contains information about the state of the game when the player chooses to seek help. This event is usually followed by a 3010 (system-initiated instruction) event. It helps identify points that players feel are too difficult.\n",
      "\n",
      "116 This event occurs when the player drags a bowl to someplace other than the scale or plate in the play area. It contains information about the bowl being moved the destination and the state of the game area. This event is used to diagnose player strategies and understanding.\n",
      "\n",
      "117 This event occurs when the player picks up a crystal by clicking on it, or begins dragging a crystal. It contains information about the chest that was picked up and the position of the chest. This event is used to calculate accuracy and to diagnose player strategies and understanding.\n",
      "\n",
      "118 The end of system-initiated instruction event occurs when the game finishes delivering instructions to the player. It contains information that describes the content of the instruction including duration. These events are used to determine the effectiveness of the instructions and the amount of time they consume. We can answer questions like, “how much time elapsed while the game was presenting instruction?”\n",
      "\n",
      "119 The start round event is triggered at the start of each round. There is only one round per playthrough. This event provides information about the game characteristics of the round (i.e. resources, objectives, setup). It is used in calculating things like time spent in a round (for speed and accuracy), attempts at solving a round, and the number of rounds the player has visited (exposures).\n",
      "\n",
      "120 This event occurs when the player clicks on one of the dinosaurs. It contains information about the state of the game and the correctness of the action. This event is used to diagnose player strategies and understanding.\n",
      "\n",
      "121 The exit game event is triggered when the game is quit. This is used to compute things like time spent in game. Depending on platform this may / may not be possible. NOTE: quit also means navigating away from game.\n",
      "\n",
      "122 This event occurs when the player pours the contents of one of the bottles into the jar. It contains information about the bottle that was poured and where the state of the jar.\n",
      "\n",
      "123 The end of system-initiated feedback (Incorrect) event occurs when the game finishes delivering feedback to the player in response to an incorrect round attempt (pressing the go button with the incorrect answer). It contains information that describes the content of the instruction. These events are used to determine the effectiveness of the feedback. We can answer questions like, “how much time elapsed while the game was presenting feedback?”\n",
      "\n",
      "124 This event is triggered when the player clicks the GO button during the tutorial phase. There are no right or wrong answers, only the distance travelled is collected\n",
      "\n",
      "125 The system-initiated instruction event occurs when the game delivers instructions to the player. It contains information that describes the content of the instruction. This event differs from events 3020 and 3021 as it captures instructions that are not given in response to player action. These events are used to determine the effectiveness of the instructions. We can answer questions like, did players who received instruction X do better than those who did not?\"\"\n",
      "\n",
      "126 This event occurs when the player begins dragging from rocket. It contains information about the rocket that was dragged from and the position of the click.\n",
      "\n",
      "127 This event occurs when the player drops a weight on the pan balance. It contains information about the weight being dropped the state of the game and the correctness of the action. This event is used to diagnose player strategies and understanding.\n",
      "\n",
      "128 The beat round event is triggered when the player finishes a round by correctly placing all presented dinosaurs. This event is used for calculating time spent in a round (for speed and accuracy), attempts at solving a round, and the number of rounds the player has completed (completion).\n",
      "\n",
      "129 This event occurs when the player on the done button to submit a solution. It contains information about the hats placed on the birds and the correctness of the action. This event is used to calculate accuracy and to diagnose player strategies and understanding.\n",
      "\n",
      "130 This event occurs when the player clicks on the button to play again.\n",
      "\n",
      "131 The system-initiated feedback (Correct) event occurs when the game starts delivering feedback to the player in response to a correct round attempt (pressing the go button with the correct answer). It contains information that describes the content of the instruction, and will likely occur in conjunction with a beat round event. These events are used to determine the effectiveness of the feedback. We can answer questions like, “did players who received feedback X do better than those who did not?”\n",
      "\n",
      "132 This event occurs when the player on the done button to submit a solution. It contains information about the buckets placed under the cauldrons and the correctness of the action. This event is used to calculate accuracy and to diagnose player strategies and understanding.\n",
      "\n",
      "133 This event occurs when the player clicks on an item on the shelf of items. It contains information about the item that was clicked, the correctness of the action, and where the action occurred. This event is used to calculate accuracy and to diagnose player strategies and understanding.\n",
      "\n",
      "134 This event occurs when the player clicks on the bird to trigger dropping an egg. It contains information about where the click occurred.\n",
      "\n",
      "135 This event occurs when the player places a flower in the basket. It contains information about the state of the flowers and the location of the placement.\n",
      "\n",
      "136 This event occurs when the player clicks a group of objects. It contains information about the group clicked, the state of the game, and the correctness of the action. This event is used to diagnose player strategies and understanding.\n",
      "\n",
      "137 The exit game event is triggered when the game is quit. This is used to compute things like time spent in game. Depending on platform this may / may not be possible. NOTE: \"quit\" also means navigating away from game.\n",
      "\n",
      "138 This event occurs when the player places a pig on the see-saw. It contains information about the state of the see-saw and where the placement occurred.\n",
      "\n",
      "139 This event occurs when the player puts the watering can down after watering flowers or after a 1 second period of inactivity while watering flowers (inactive timer should start only if flowers actually grow). It contains information about the state of the flowers.\n",
      "\n",
      "140 This event occurs when the player clicks to pick up or begins dragging a bath toy. It contains information about the toy being moved, and the position of the click.\n",
      "\n",
      "141 The end of system-initiated feedback (Correct) event occurs when the game finishes delivering feedback to the player in response to a correct round attempt (pressing the go button with the correct answer). It contains information that describes the duration and content of the instruction, and will likely occur in conjunction with a beat round event. These events are used to determine the effectiveness of the feedback. We can answer questions like, “how much time elapsed while the game was presenting feedback?”\n",
      "\n",
      "142 The start game event is triggered at the very beginning of the game (after the game finishes loading, don't wait for intro movie to finish). It includes information on the current version of the game loaded. This is used to compute things like time spent in game.\n",
      "\n",
      "143 This event occurs when the player picks up the watering can or a flower, or begins dragging the watering can or flower. It contains information about the flower that was picked up and the position of the click.\n",
      "\n",
      "144 The start picking mushrooms event is triggered when the player is prompted to pick mushrooms. This event indicates a section of gameplay separate from the arranging section of gameplay.\n",
      "\n",
      "145 This event occurs when the player picks up a hat or caterpillar by clicking on it, or begins dragging a hat or caterpillar. It contains information about the hat or caterpillar that was picked up and the position of the click.\n",
      "\n",
      "146 This event occurs when the player drags a bowl from the scale to the resources. It contains information about the bowl being moved and the state of the game area. This event is used to diagnose player strategies and understanding.\n",
      "\n",
      "147 This event occurs when the player drags a mushroom to the resource area. It contains information about the mushroom being moved. The event should occur when the drag is released and the mushroom is placed. These events are used to diagnose player strategies and understanding.\n",
      "\n",
      "148 The end of system-initiated instruction event occurs when the game finishes delivering instructions to the player. It contains information that describes the content of the instruction including duration. These events are used to determine the effectiveness of the instructions and the amount of time they consume. We can answer questions like, how much time elapsed while the game was presenting instruction?\"\"\n",
      "\n",
      "149 This event occurs when the player places a chest on one the scale. It contains information about the chest that was placed and where the placement occurred. This event is used to diagnose player strategies and understanding.\n",
      "\n",
      "150 This event occurs when the player clicks to pick up or begins dragging a piece of food from the resource bin or scale. It contains information about the food being moved the position of the click and the state of the game area. This event is used to diagnose player strategies and understanding.\n",
      "\n",
      "151 This event occurs when the player drags a bucket to someplace other than an acceptable destination for the bucket. It contains information about the bucket being moved and the destination. The event should occur when the drag is released and the bucket is placed. These events are used to diagnose player strategies and understanding.\n",
      "\n",
      "152 This event occurs when the player moves the shell to the waterfall and fills it with water. It contains information about the state of the game. This event is used to diagnose player strategies and understanding.\n",
      "\n",
      "153 This event occurs when the player drags a bug to the tape measure. It contains information about the bug that was dragged and the location of the placement.\n",
      "\n",
      "154 This event is triggered when a video starts playing\n",
      "\n",
      "155 This event occurs when the player clicks an interactive object in the victory screen section. It contains information about the object that was clicked, where the click occurred.\n",
      "\n",
      "156 This event occurs when the player picks up a bottle by clicking on it, or begins dragging a bottle. It contains information about the bottle that was picked up and the position of the click.\n",
      "\n",
      "157 This event occurs when the player drops a weight on the table after picking it up from the scale. It contains information about the weight being dropped the state of the game and the correctness of the action. This event is used to diagnose player strategies and understanding.\n",
      "\n",
      "158 This event occurs when the player fills the pool with water and the dinosaurs begin draining it. It contains information about the state of the pool. This event is to identify a change in the state of the game.\n",
      "\n",
      "159 The finish filling tub event is triggered after the player finishes filling up the tub. It is used to separate a section of gameplay that is different from the estimation section of the game.\n",
      "\n",
      "160 This event occurs when the player fills in one of the clouds. It contains information about the cloud that was filled.\n",
      "\n",
      "161 This event occurs when the player clicks to have the cloud empty into the pool. It contains information about the cloud that was clicked and the state of the pool.\n",
      "\n",
      "162 This event occurs when the player picks one of the mushrooms in the resource area. It contains information about the mushroom that was picked and where the click occurred.\n",
      "\n",
      "163 The beat round event is triggered when the player finishes picking mushrooms. This event indicates a section of gameplay separate from the arranging section of gameplay.\n",
      "\n",
      "164 The finished round event is triggered when the player finishes drawing a shape that is detected as matching the prompt. This event is used for calculating time spent drawing a shape (for speed and accuracy), attempts at drawing a shape, and the number of shapes the player has completed (completion).\n",
      "\n",
      "165 The start round event is triggered at the start of the tutorial. It is used in calculating time spent in the tutorial.\n",
      "\n",
      "166 The start tutorial event is triggered at the start of the tutorial. It is used in calculating time spent in the tutorial.\n",
      "\n",
      "167 This event occurs when the player picks up a weight from the table. It contains information about the weight being picked. This event is used to diagnose player strategies and understanding.\n",
      "\n"
     ]
    }
   ],
   "source": [
    "## what is writtern in info? なぜ異なるevent_id同じinfoが書かれているのか。argが異なる？\n",
    "for i in range(specs[\"info\"].nunique()):\n",
    "    print(i, specs[\"info\"].unique()[i])\n",
    "    print(\"\")"
   ]
  },
  {
   "cell_type": "code",
   "execution_count": 53,
   "metadata": {},
   "outputs": [],
   "source": [
    "#for i in range(specs[\"args\"].nunique()): # train, testのevent_data変数に書かれている情報を示している。\n",
    "#    print(i, specs[\"args\"].unique()[i])\n",
    "#    print(\"\")"
   ]
  },
  {
   "cell_type": "code",
   "execution_count": 54,
   "metadata": {},
   "outputs": [
    {
     "data": {
      "text/plain": [
       "'This event occurs when the player picks up a bottle by clicking on it, or begins dragging a bottle. It contains information about the bottle that was picked up and the position of the click.'"
      ]
     },
     "execution_count": 54,
     "metadata": {},
     "output_type": "execute_result"
    }
   ],
   "source": [
    "specs[specs.event_id == \"bb3e370b\"].iloc[0][\"info\"]"
   ]
  },
  {
   "cell_type": "markdown",
   "metadata": {},
   "source": [
    "# what's included in info?"
   ]
  },
  {
   "cell_type": "code",
   "execution_count": 55,
   "metadata": {},
   "outputs": [
    {
     "data": {
      "text/plain": [
       "0    373\n",
       "1     13\n",
       "Name: fill, dtype: int64"
      ]
     },
     "execution_count": 55,
     "metadata": {},
     "output_type": "execute_result"
    }
   ],
   "source": [
    "# probably importance phrases for analysis\n",
    "specs[\"click\"] = specs[\"info\"].apply(lambda x: 1 if \"click\" in x else 0)\n",
    "specs[\"drag\"] = specs[\"info\"].apply(lambda x: 1 if \"drag\" in x else 0)\n",
    "specs[\"place\"] = specs[\"info\"].apply(lambda x: 1 if \"place\" in x else 0)\n",
    "specs[\"help button\"] = specs[\"info\"].apply(lambda x: 1 if \"help button\" in x else 0)\n",
    "specs[\"again button\"] = specs[\"info\"].apply(lambda x: 1 if \"again button\" in x else 0)\n",
    "specs[\"finish round\"] = specs[\"info\"].apply(lambda x: 1 if \"finishes a round\" in x else 0)\n",
    "specs[\"successful\"] = specs[\"info\"].apply(lambda x: 1 if \"successfully\" in x else 0)\n",
    "specs[\"skip button\"] = specs[\"info\"].apply(lambda x: 1 if \"skip button\" in x else 0)\n",
    "specs[\"hint\"] = specs[\"info\"].apply(lambda x: 1 if \"hint\" in x else 0)\n",
    "specs[\"done button\"] = specs[\"info\"].apply(lambda x: 1 if \"done button\" in x else 0)\n",
    "specs[\"quit\"] = specs[\"info\"].apply(lambda x: 1 if \"quit\" in x else 0)\n",
    "specs[\"video starts\"] = specs[\"info\"].apply(lambda x: 1 if \"video starts\" in x else 0)\n",
    "specs[\"victory screen\"] = specs[\"info\"].apply(lambda x: 1 if \"victory screen\" in x else 0)\n",
    "specs[\"tutorial\"] = specs[\"info\"].apply(lambda x: 1 if \"tutorial\" in x else 0)\n",
    "specs[\"fill\"] = specs[\"info\"].apply(lambda x: 1 if \"fill\" in x else 0)\n",
    "specs[\"fill\"].value_counts()"
   ]
  },
  {
   "cell_type": "code",
   "execution_count": 56,
   "metadata": {},
   "outputs": [
    {
     "data": {
      "text/html": [
       "<div>\n",
       "<style scoped>\n",
       "    .dataframe tbody tr th:only-of-type {\n",
       "        vertical-align: middle;\n",
       "    }\n",
       "\n",
       "    .dataframe tbody tr th {\n",
       "        vertical-align: top;\n",
       "    }\n",
       "\n",
       "    .dataframe thead th {\n",
       "        text-align: right;\n",
       "    }\n",
       "</style>\n",
       "<table border=\"1\" class=\"dataframe\">\n",
       "  <thead>\n",
       "    <tr style=\"text-align: right;\">\n",
       "      <th></th>\n",
       "      <th>event_id</th>\n",
       "      <th>game_session</th>\n",
       "      <th>timestamp</th>\n",
       "      <th>event_data</th>\n",
       "      <th>installation_id</th>\n",
       "      <th>event_count</th>\n",
       "      <th>event_code</th>\n",
       "      <th>game_time</th>\n",
       "      <th>title</th>\n",
       "      <th>type</th>\n",
       "      <th>...</th>\n",
       "      <th>finish round</th>\n",
       "      <th>successful</th>\n",
       "      <th>skip button</th>\n",
       "      <th>hint</th>\n",
       "      <th>done button</th>\n",
       "      <th>quit</th>\n",
       "      <th>video starts</th>\n",
       "      <th>victory screen</th>\n",
       "      <th>tutorial</th>\n",
       "      <th>fill</th>\n",
       "    </tr>\n",
       "  </thead>\n",
       "  <tbody>\n",
       "    <tr>\n",
       "      <th>0</th>\n",
       "      <td>27253bdc</td>\n",
       "      <td>34ba1a28d02ba8ba</td>\n",
       "      <td>2019-08-06 04:57:18.904000+00:00</td>\n",
       "      <td>{\"event_code\": 2000, \"event_count\": 1}</td>\n",
       "      <td>0006a69f</td>\n",
       "      <td>1</td>\n",
       "      <td>2000</td>\n",
       "      <td>0</td>\n",
       "      <td>Welcome to Lost Lagoon!</td>\n",
       "      <td>Clip</td>\n",
       "      <td>...</td>\n",
       "      <td>0</td>\n",
       "      <td>0</td>\n",
       "      <td>0</td>\n",
       "      <td>0</td>\n",
       "      <td>0</td>\n",
       "      <td>0</td>\n",
       "      <td>1</td>\n",
       "      <td>0</td>\n",
       "      <td>0</td>\n",
       "      <td>0</td>\n",
       "    </tr>\n",
       "    <tr>\n",
       "      <th>1</th>\n",
       "      <td>27253bdc</td>\n",
       "      <td>4b57c9a59474a1b9</td>\n",
       "      <td>2019-08-06 04:57:45.301000+00:00</td>\n",
       "      <td>{\"event_code\": 2000, \"event_count\": 1}</td>\n",
       "      <td>0006a69f</td>\n",
       "      <td>1</td>\n",
       "      <td>2000</td>\n",
       "      <td>0</td>\n",
       "      <td>Magma Peak - Level 1</td>\n",
       "      <td>Clip</td>\n",
       "      <td>...</td>\n",
       "      <td>0</td>\n",
       "      <td>0</td>\n",
       "      <td>0</td>\n",
       "      <td>0</td>\n",
       "      <td>0</td>\n",
       "      <td>0</td>\n",
       "      <td>1</td>\n",
       "      <td>0</td>\n",
       "      <td>0</td>\n",
       "      <td>0</td>\n",
       "    </tr>\n",
       "    <tr>\n",
       "      <th>2</th>\n",
       "      <td>27253bdc</td>\n",
       "      <td>f4d29a878230c9a0</td>\n",
       "      <td>2019-08-06 05:00:02.038000+00:00</td>\n",
       "      <td>{\"event_code\": 2000, \"event_count\": 1}</td>\n",
       "      <td>0006a69f</td>\n",
       "      <td>1</td>\n",
       "      <td>2000</td>\n",
       "      <td>0</td>\n",
       "      <td>Slop Problem</td>\n",
       "      <td>Clip</td>\n",
       "      <td>...</td>\n",
       "      <td>0</td>\n",
       "      <td>0</td>\n",
       "      <td>0</td>\n",
       "      <td>0</td>\n",
       "      <td>0</td>\n",
       "      <td>0</td>\n",
       "      <td>1</td>\n",
       "      <td>0</td>\n",
       "      <td>0</td>\n",
       "      <td>0</td>\n",
       "    </tr>\n",
       "    <tr>\n",
       "      <th>3</th>\n",
       "      <td>27253bdc</td>\n",
       "      <td>4d566eabbefd780d</td>\n",
       "      <td>2019-08-06 05:07:03.331000+00:00</td>\n",
       "      <td>{\"event_code\": 2000, \"event_count\": 1}</td>\n",
       "      <td>0006a69f</td>\n",
       "      <td>1</td>\n",
       "      <td>2000</td>\n",
       "      <td>0</td>\n",
       "      <td>Welcome to Lost Lagoon!</td>\n",
       "      <td>Clip</td>\n",
       "      <td>...</td>\n",
       "      <td>0</td>\n",
       "      <td>0</td>\n",
       "      <td>0</td>\n",
       "      <td>0</td>\n",
       "      <td>0</td>\n",
       "      <td>0</td>\n",
       "      <td>1</td>\n",
       "      <td>0</td>\n",
       "      <td>0</td>\n",
       "      <td>0</td>\n",
       "    </tr>\n",
       "    <tr>\n",
       "      <th>4</th>\n",
       "      <td>27253bdc</td>\n",
       "      <td>d3ffed2d2d77597d</td>\n",
       "      <td>2019-08-06 05:07:33.207000+00:00</td>\n",
       "      <td>{\"event_code\": 2000, \"event_count\": 1}</td>\n",
       "      <td>0006a69f</td>\n",
       "      <td>1</td>\n",
       "      <td>2000</td>\n",
       "      <td>0</td>\n",
       "      <td>Tree Top City - Level 1</td>\n",
       "      <td>Clip</td>\n",
       "      <td>...</td>\n",
       "      <td>0</td>\n",
       "      <td>0</td>\n",
       "      <td>0</td>\n",
       "      <td>0</td>\n",
       "      <td>0</td>\n",
       "      <td>0</td>\n",
       "      <td>1</td>\n",
       "      <td>0</td>\n",
       "      <td>0</td>\n",
       "      <td>0</td>\n",
       "    </tr>\n",
       "    <tr>\n",
       "      <th>...</th>\n",
       "      <td>...</td>\n",
       "      <td>...</td>\n",
       "      <td>...</td>\n",
       "      <td>...</td>\n",
       "      <td>...</td>\n",
       "      <td>...</td>\n",
       "      <td>...</td>\n",
       "      <td>...</td>\n",
       "      <td>...</td>\n",
       "      <td>...</td>\n",
       "      <td>...</td>\n",
       "      <td>...</td>\n",
       "      <td>...</td>\n",
       "      <td>...</td>\n",
       "      <td>...</td>\n",
       "      <td>...</td>\n",
       "      <td>...</td>\n",
       "      <td>...</td>\n",
       "      <td>...</td>\n",
       "      <td>...</td>\n",
       "      <td>...</td>\n",
       "    </tr>\n",
       "    <tr>\n",
       "      <th>7734553</th>\n",
       "      <td>e4d32835</td>\n",
       "      <td>4c36a9344c829227</td>\n",
       "      <td>2019-09-07 12:54:38.279000+00:00</td>\n",
       "      <td>{\"dwell_time\":1599,\"object\":\"playButton\",\"roun...</td>\n",
       "      <td>861cf8d1</td>\n",
       "      <td>2</td>\n",
       "      <td>4080</td>\n",
       "      <td>1819</td>\n",
       "      <td>Pan Balance</td>\n",
       "      <td>Game</td>\n",
       "      <td>...</td>\n",
       "      <td>0</td>\n",
       "      <td>0</td>\n",
       "      <td>0</td>\n",
       "      <td>0</td>\n",
       "      <td>0</td>\n",
       "      <td>0</td>\n",
       "      <td>0</td>\n",
       "      <td>0</td>\n",
       "      <td>0</td>\n",
       "      <td>0</td>\n",
       "    </tr>\n",
       "    <tr>\n",
       "      <th>7734554</th>\n",
       "      <td>e4d32835</td>\n",
       "      <td>6f705030030dbf07</td>\n",
       "      <td>2019-08-09 12:24:00.377000+00:00</td>\n",
       "      <td>{\"dwell_time\":2050,\"object\":\"weight5\",\"round\":...</td>\n",
       "      <td>ac5f979a</td>\n",
       "      <td>35</td>\n",
       "      <td>4080</td>\n",
       "      <td>56903</td>\n",
       "      <td>Pan Balance</td>\n",
       "      <td>Game</td>\n",
       "      <td>...</td>\n",
       "      <td>0</td>\n",
       "      <td>0</td>\n",
       "      <td>0</td>\n",
       "      <td>0</td>\n",
       "      <td>0</td>\n",
       "      <td>0</td>\n",
       "      <td>0</td>\n",
       "      <td>0</td>\n",
       "      <td>0</td>\n",
       "      <td>0</td>\n",
       "    </tr>\n",
       "    <tr>\n",
       "      <th>7734555</th>\n",
       "      <td>e4d32835</td>\n",
       "      <td>374637a624df1192</td>\n",
       "      <td>2019-08-17 19:55:33.694000+00:00</td>\n",
       "      <td>{\"dwell_time\":2361,\"object\":\"playButton\",\"roun...</td>\n",
       "      <td>d67676c4</td>\n",
       "      <td>2</td>\n",
       "      <td>4080</td>\n",
       "      <td>4448</td>\n",
       "      <td>Pan Balance</td>\n",
       "      <td>Game</td>\n",
       "      <td>...</td>\n",
       "      <td>0</td>\n",
       "      <td>0</td>\n",
       "      <td>0</td>\n",
       "      <td>0</td>\n",
       "      <td>0</td>\n",
       "      <td>0</td>\n",
       "      <td>0</td>\n",
       "      <td>0</td>\n",
       "      <td>0</td>\n",
       "      <td>0</td>\n",
       "    </tr>\n",
       "    <tr>\n",
       "      <th>7734556</th>\n",
       "      <td>e4d32835</td>\n",
       "      <td>544449d24abb7499</td>\n",
       "      <td>2019-09-25 20:48:26.865000+00:00</td>\n",
       "      <td>{\"dwell_time\":4166,\"object\":\"playButton\",\"roun...</td>\n",
       "      <td>ec9a823d</td>\n",
       "      <td>2</td>\n",
       "      <td>4080</td>\n",
       "      <td>5271</td>\n",
       "      <td>Pan Balance</td>\n",
       "      <td>Game</td>\n",
       "      <td>...</td>\n",
       "      <td>0</td>\n",
       "      <td>0</td>\n",
       "      <td>0</td>\n",
       "      <td>0</td>\n",
       "      <td>0</td>\n",
       "      <td>0</td>\n",
       "      <td>0</td>\n",
       "      <td>0</td>\n",
       "      <td>0</td>\n",
       "      <td>0</td>\n",
       "    </tr>\n",
       "    <tr>\n",
       "      <th>7734557</th>\n",
       "      <td>1b54d27f</td>\n",
       "      <td>16054807646751f1</td>\n",
       "      <td>2019-09-15 00:36:32.262000+00:00</td>\n",
       "      <td>{\"session_duration\":440,\"exit_type\":\"closed_co...</td>\n",
       "      <td>a31288d6</td>\n",
       "      <td>2</td>\n",
       "      <td>2010</td>\n",
       "      <td>440</td>\n",
       "      <td>Watering Hole (Activity)</td>\n",
       "      <td>Activity</td>\n",
       "      <td>...</td>\n",
       "      <td>0</td>\n",
       "      <td>0</td>\n",
       "      <td>0</td>\n",
       "      <td>0</td>\n",
       "      <td>0</td>\n",
       "      <td>1</td>\n",
       "      <td>0</td>\n",
       "      <td>0</td>\n",
       "      <td>0</td>\n",
       "      <td>0</td>\n",
       "    </tr>\n",
       "  </tbody>\n",
       "</table>\n",
       "<p>7734558 rows × 32 columns</p>\n",
       "</div>"
      ],
      "text/plain": [
       "         event_id      game_session                        timestamp  \\\n",
       "0        27253bdc  34ba1a28d02ba8ba 2019-08-06 04:57:18.904000+00:00   \n",
       "1        27253bdc  4b57c9a59474a1b9 2019-08-06 04:57:45.301000+00:00   \n",
       "2        27253bdc  f4d29a878230c9a0 2019-08-06 05:00:02.038000+00:00   \n",
       "3        27253bdc  4d566eabbefd780d 2019-08-06 05:07:03.331000+00:00   \n",
       "4        27253bdc  d3ffed2d2d77597d 2019-08-06 05:07:33.207000+00:00   \n",
       "...           ...               ...                              ...   \n",
       "7734553  e4d32835  4c36a9344c829227 2019-09-07 12:54:38.279000+00:00   \n",
       "7734554  e4d32835  6f705030030dbf07 2019-08-09 12:24:00.377000+00:00   \n",
       "7734555  e4d32835  374637a624df1192 2019-08-17 19:55:33.694000+00:00   \n",
       "7734556  e4d32835  544449d24abb7499 2019-09-25 20:48:26.865000+00:00   \n",
       "7734557  1b54d27f  16054807646751f1 2019-09-15 00:36:32.262000+00:00   \n",
       "\n",
       "                                                event_data installation_id  \\\n",
       "0                   {\"event_code\": 2000, \"event_count\": 1}        0006a69f   \n",
       "1                   {\"event_code\": 2000, \"event_count\": 1}        0006a69f   \n",
       "2                   {\"event_code\": 2000, \"event_count\": 1}        0006a69f   \n",
       "3                   {\"event_code\": 2000, \"event_count\": 1}        0006a69f   \n",
       "4                   {\"event_code\": 2000, \"event_count\": 1}        0006a69f   \n",
       "...                                                    ...             ...   \n",
       "7734553  {\"dwell_time\":1599,\"object\":\"playButton\",\"roun...        861cf8d1   \n",
       "7734554  {\"dwell_time\":2050,\"object\":\"weight5\",\"round\":...        ac5f979a   \n",
       "7734555  {\"dwell_time\":2361,\"object\":\"playButton\",\"roun...        d67676c4   \n",
       "7734556  {\"dwell_time\":4166,\"object\":\"playButton\",\"roun...        ec9a823d   \n",
       "7734557  {\"session_duration\":440,\"exit_type\":\"closed_co...        a31288d6   \n",
       "\n",
       "         event_count  event_code  game_time                     title  \\\n",
       "0                  1        2000          0   Welcome to Lost Lagoon!   \n",
       "1                  1        2000          0      Magma Peak - Level 1   \n",
       "2                  1        2000          0              Slop Problem   \n",
       "3                  1        2000          0   Welcome to Lost Lagoon!   \n",
       "4                  1        2000          0   Tree Top City - Level 1   \n",
       "...              ...         ...        ...                       ...   \n",
       "7734553            2        4080       1819               Pan Balance   \n",
       "7734554           35        4080      56903               Pan Balance   \n",
       "7734555            2        4080       4448               Pan Balance   \n",
       "7734556            2        4080       5271               Pan Balance   \n",
       "7734557            2        2010        440  Watering Hole (Activity)   \n",
       "\n",
       "             type  ... finish round  successful  skip button hint  \\\n",
       "0            Clip  ...            0           0            0    0   \n",
       "1            Clip  ...            0           0            0    0   \n",
       "2            Clip  ...            0           0            0    0   \n",
       "3            Clip  ...            0           0            0    0   \n",
       "4            Clip  ...            0           0            0    0   \n",
       "...           ...  ...          ...         ...          ...  ...   \n",
       "7734553      Game  ...            0           0            0    0   \n",
       "7734554      Game  ...            0           0            0    0   \n",
       "7734555      Game  ...            0           0            0    0   \n",
       "7734556      Game  ...            0           0            0    0   \n",
       "7734557  Activity  ...            0           0            0    0   \n",
       "\n",
       "         done button quit  video starts  victory screen  tutorial  fill  \n",
       "0                  0    0             1               0         0     0  \n",
       "1                  0    0             1               0         0     0  \n",
       "2                  0    0             1               0         0     0  \n",
       "3                  0    0             1               0         0     0  \n",
       "4                  0    0             1               0         0     0  \n",
       "...              ...  ...           ...             ...       ...   ...  \n",
       "7734553            0    0             0               0         0     0  \n",
       "7734554            0    0             0               0         0     0  \n",
       "7734555            0    0             0               0         0     0  \n",
       "7734556            0    0             0               0         0     0  \n",
       "7734557            0    1             0               0         0     0  \n",
       "\n",
       "[7734558 rows x 32 columns]"
      ]
     },
     "execution_count": 56,
     "metadata": {},
     "output_type": "execute_result"
    }
   ],
   "source": [
    "# 結合イメージ\n",
    "train = pd.merge(train, specs.drop([\"info\", \"args\"], axis=1))\n",
    "train"
   ]
  },
  {
   "cell_type": "markdown",
   "metadata": {},
   "source": [
    "# sample_submission.csv"
   ]
  },
  {
   "cell_type": "code",
   "execution_count": 57,
   "metadata": {},
   "outputs": [
    {
     "data": {
      "text/html": [
       "<div>\n",
       "<style scoped>\n",
       "    .dataframe tbody tr th:only-of-type {\n",
       "        vertical-align: middle;\n",
       "    }\n",
       "\n",
       "    .dataframe tbody tr th {\n",
       "        vertical-align: top;\n",
       "    }\n",
       "\n",
       "    .dataframe thead th {\n",
       "        text-align: right;\n",
       "    }\n",
       "</style>\n",
       "<table border=\"1\" class=\"dataframe\">\n",
       "  <thead>\n",
       "    <tr style=\"text-align: right;\">\n",
       "      <th></th>\n",
       "      <th>installation_id</th>\n",
       "      <th>accuracy_group</th>\n",
       "    </tr>\n",
       "  </thead>\n",
       "  <tbody>\n",
       "    <tr>\n",
       "      <th>0</th>\n",
       "      <td>00abaee7</td>\n",
       "      <td>3</td>\n",
       "    </tr>\n",
       "    <tr>\n",
       "      <th>1</th>\n",
       "      <td>01242218</td>\n",
       "      <td>3</td>\n",
       "    </tr>\n",
       "    <tr>\n",
       "      <th>2</th>\n",
       "      <td>017c5718</td>\n",
       "      <td>3</td>\n",
       "    </tr>\n",
       "    <tr>\n",
       "      <th>3</th>\n",
       "      <td>01a44906</td>\n",
       "      <td>3</td>\n",
       "    </tr>\n",
       "    <tr>\n",
       "      <th>4</th>\n",
       "      <td>01bc6cb6</td>\n",
       "      <td>3</td>\n",
       "    </tr>\n",
       "  </tbody>\n",
       "</table>\n",
       "</div>"
      ],
      "text/plain": [
       "  installation_id  accuracy_group\n",
       "0        00abaee7               3\n",
       "1        01242218               3\n",
       "2        017c5718               3\n",
       "3        01a44906               3\n",
       "4        01bc6cb6               3"
      ]
     },
     "execution_count": 57,
     "metadata": {},
     "output_type": "execute_result"
    }
   ],
   "source": [
    "ss.head()"
   ]
  },
  {
   "cell_type": "code",
   "execution_count": null,
   "metadata": {},
   "outputs": [],
   "source": []
  }
 ],
 "metadata": {
  "kernelspec": {
   "display_name": "Python 3",
   "language": "python",
   "name": "python3"
  },
  "language_info": {
   "codemirror_mode": {
    "name": "ipython",
    "version": 3
   },
   "file_extension": ".py",
   "mimetype": "text/x-python",
   "name": "python",
   "nbconvert_exporter": "python",
   "pygments_lexer": "ipython3",
   "version": "3.6.6"
  }
 },
 "nbformat": 4,
 "nbformat_minor": 1
}
