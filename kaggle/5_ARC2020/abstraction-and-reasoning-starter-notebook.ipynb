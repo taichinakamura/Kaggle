{
 "cells": [
  {
   "cell_type": "markdown",
   "metadata": {},
   "source": [
    "- understand 1st task"
   ]
  },
  {
   "cell_type": "markdown",
   "metadata": {},
   "source": [
    "# Abstraction and Reasoning Starter Notebook\n",
    "\n",
    "This notebook will get you started on on the basics of this competition"
   ]
  },
  {
   "cell_type": "code",
   "execution_count": 1,
   "metadata": {
    "_cell_guid": "b1076dfc-b9ad-4769-8c92-a6c4dae69d19",
    "_uuid": "8f2839f25d086af736a60e9eeb907d3b93b6e0e5"
   },
   "outputs": [],
   "source": [
    "import numpy as np\n",
    "import pandas as pd\n",
    "\n",
    "import os\n",
    "import json\n",
    "from pathlib import Path\n",
    "\n",
    "import matplotlib.pyplot as plt\n",
    "from matplotlib import colors\n",
    "import numpy as np"
   ]
  },
  {
   "cell_type": "code",
   "execution_count": 2,
   "metadata": {},
   "outputs": [
    {
     "name": "stdout",
     "output_type": "stream",
     "text": [
      "/kaggle/input\n",
      "/kaggle/input/abstraction-and-reasoning-challenge\n",
      "/kaggle/input/abstraction-and-reasoning-challenge/training\n",
      "/kaggle/input/abstraction-and-reasoning-challenge/evaluation\n",
      "/kaggle/input/abstraction-and-reasoning-challenge/test\n"
     ]
    }
   ],
   "source": [
    "for dirname, _, filenames in os.walk('/kaggle/input'):\n",
    "    print(dirname)"
   ]
  },
  {
   "cell_type": "markdown",
   "metadata": {},
   "source": [
    "I like to use the `Path` class for my paths."
   ]
  },
  {
   "cell_type": "code",
   "execution_count": 3,
   "metadata": {
    "_cell_guid": "79c7e3d0-c299-4dcb-8224-4455121ee9b0",
    "_uuid": "d629ff2d2480ee46fbb7e2d37f6b5fab8052498a"
   },
   "outputs": [],
   "source": [
    "from pathlib import Path\n",
    "\n",
    "data_path = Path('/kaggle/input/abstraction-and-reasoning-challenge/')\n",
    "training_path = data_path / 'training'\n",
    "evaluation_path = data_path / 'evaluation'\n",
    "test_path = data_path / 'test'"
   ]
  },
  {
   "cell_type": "markdown",
   "metadata": {},
   "source": [
    "The `training` folder has 400 JSON tasks. The names of the first three are shown below."
   ]
  },
  {
   "cell_type": "code",
   "execution_count": 4,
   "metadata": {},
   "outputs": [
    {
     "name": "stdout",
     "output_type": "stream",
     "text": [
      "['007bbfb7.json', '00d62c1b.json', '017c7c7b.json']\n"
     ]
    }
   ],
   "source": [
    "training_tasks = sorted(os.listdir(training_path))\n",
    "print(training_tasks[:3])"
   ]
  },
  {
   "cell_type": "code",
   "execution_count": 5,
   "metadata": {},
   "outputs": [
    {
     "name": "stdout",
     "output_type": "stream",
     "text": [
      "400\n",
      "['007bbfb7.json', '00d62c1b.json', '017c7c7b.json', '025d127b.json', '045e512c.json', '0520fde7.json', '05269061.json', '05f2a901.json', '06df4c85.json', '08ed6ac7.json', '09629e4f.json', '0962bcdd.json', '0a938d79.json', '0b148d64.json', '0ca9ddb6.json', '0d3d703e.json', '0dfd9992.json', '0e206a2e.json', '10fcaaa3.json', '11852cab.json', '1190e5a7.json', '137eaa0f.json', '150deff5.json', '178fcbfb.json', '1a07d186.json', '1b2d62fb.json', '1b60fb0c.json', '1bfc4729.json', '1c786137.json', '1caeab9d.json', '1cf80156.json', '1e0a9b12.json', '1e32b0e9.json', '1f0c79e5.json', '1f642eb9.json', '1f85a75f.json', '1f876c06.json', '1fad071e.json', '2013d3e2.json', '2204b7a8.json', '22168020.json', '22233c11.json', '2281f1f4.json', '228f6490.json', '22eb0ac0.json', '234bbc79.json', '23581191.json', '239be575.json', '23b5c85d.json', '253bf280.json', '25d487eb.json', '25d8a9c8.json', '25ff71a9.json', '264363fd.json', '272f95fa.json', '27a28665.json', '28bf18c6.json', '28e73c20.json', '29623171.json', '29c11459.json', '29ec7d0e.json', '2bcee788.json', '2bee17df.json', '2c608aff.json', '2dc579da.json', '2dd70a9a.json', '2dee498d.json', '31aa019c.json', '321b1fc6.json', '32597951.json', '3345333e.json', '3428a4f5.json', '3618c87e.json', '3631a71a.json', '363442ee.json', '36d67576.json', '36fdfd69.json', '3906de3d.json', '39a8645d.json', '39e1d7f9.json', '3aa6fb7a.json', '3ac3eb23.json', '3af2c5a8.json', '3bd67248.json', '3bdb4ada.json', '3befdf3e.json', '3c9b0459.json', '3de23699.json', '3e980e27.json', '3eda0437.json', '3f7978a0.json', '40853293.json', '4093f84a.json', '41e4d17e.json', '4258a5f9.json', '4290ef0e.json', '42a50994.json', '4347f46a.json', '444801d8.json', '445eab21.json', '447fd412.json', '44d8ac46.json', '44f52bb0.json', '4522001f.json', '4612dd53.json', '46442a0e.json', '469497ad.json', '46f33fce.json', '47c1f68c.json', '484b58aa.json', '48d8fb45.json', '4938f0c2.json', '496994bd.json', '49d1d64f.json', '4be741c5.json', '4c4377d9.json', '4c5c2cf0.json', '50846271.json', '508bd3b6.json', '50cb2852.json', '5117e062.json', '5168d44c.json', '539a4f51.json', '53b68214.json', '543a7ed5.json', '54d82841.json', '54d9e175.json', '5521c0d9.json', '5582e5ca.json', '5614dbcf.json', '56dc2b01.json', '56ff96f3.json', '57aa92db.json', '5ad4f10b.json', '5bd6f4ac.json', '5c0a986e.json', '5c2c9af4.json', '5daaa586.json', '60b61512.json', '6150a2bd.json', '623ea044.json', '62c24649.json', '63613498.json', '6430c8c4.json', '6455b5f5.json', '662c240a.json', '67385a82.json', '673ef223.json', '6773b310.json', '67a3c6ac.json', '67a423a3.json', '67e8384a.json', '681b3aeb.json', '6855a6e4.json', '68b16354.json', '694f12f3.json', '6a1e5592.json', '6aa20dc0.json', '6b9890af.json', '6c434453.json', '6cdd2623.json', '6cf79266.json', '6d0160f0.json', '6d0aefbc.json', '6d58a25d.json', '6d75e8bb.json', '6e02f1e3.json', '6e19193c.json', '6e82a1ae.json', '6ecd11f4.json', '6f8cd79b.json', '6fa7a44f.json', '72322fa7.json', '72ca375d.json', '73251a56.json', '7447852a.json', '7468f01a.json', '746b3537.json', '74dd1130.json', '75b8110e.json', '760b3cac.json', '776ffc46.json', '77fdfe62.json', '780d0b14.json', '7837ac64.json', '794b24be.json', '7b6016b9.json', '7b7f7511.json', '7c008303.json', '7ddcd7ec.json', '7df24a62.json', '7e0986d6.json', '7f4411dc.json', '7fe24cdd.json', '80af3007.json', '810b9b61.json', '82819916.json', '83302e8f.json', '834ec97d.json', '8403a5d5.json', '846bdb03.json', '855e0971.json', '85c4e7cd.json', '868de0fa.json', '8731374e.json', '88a10436.json', '88a62173.json', '890034e9.json', '8a004b2b.json', '8be77c9e.json', '8d5021e8.json', '8d510a79.json', '8e1813be.json', '8e5a5113.json', '8eb1be9a.json', '8efcae92.json', '8f2ea7aa.json', '90c28cc7.json', '90f3ed37.json', '913fb3ed.json', '91413438.json', '91714a58.json', '9172f3a0.json', '928ad970.json', '93b581b8.json', '941d9a10.json', '94f9d214.json', '952a094c.json', '9565186b.json', '95990924.json', '963e52fc.json', '97999447.json', '97a05b5b.json', '98cf29f8.json', '995c5fa3.json', '99b1bc43.json', '99fa7670.json', '9aec4887.json', '9af7a82c.json', '9d9215db.json', '9dfd6313.json', '9ecd008a.json', '9edfc990.json', '9f236235.json', 'a1570a43.json', 'a2fd1cf0.json', 'a3325580.json', 'a3df8b1e.json', 'a416b8f3.json', 'a48eeaf7.json', 'a5313dff.json', 'a5f85a15.json', 'a61ba2ce.json', 'a61f2674.json', 'a64e4611.json', 'a65b410d.json', 'a68b268e.json', 'a699fb00.json', 'a740d043.json', 'a78176bb.json', 'a79310a0.json', 'a85d4709.json', 'a87f7484.json', 'a8c38be5.json', 'a8d7556c.json', 'a9f96cdd.json', 'aabf363d.json', 'aba27056.json', 'ac0a08a4.json', 'ae3edfdc.json', 'ae4f1146.json', 'aedd82e4.json', 'af902bf9.json', 'b0c4d837.json', 'b190f7f5.json', 'b1948b0a.json', 'b230c067.json', 'b27ca6d3.json', 'b2862040.json', 'b527c5c6.json', 'b548a754.json', 'b60334d2.json', 'b6afb2da.json', 'b7249182.json', 'b775ac94.json', 'b782dc8a.json', 'b8825c91.json', 'b8cdaf2b.json', 'b91ae062.json', 'b94a9452.json', 'b9b7f026.json', 'ba26e723.json', 'ba97ae07.json', 'bb43febb.json', 'bbc9ae5d.json', 'bc1d5164.json', 'bd4472b8.json', 'bda2d7a6.json', 'bdad9b1f.json', 'be94b721.json', 'beb8660c.json', 'c0f76784.json', 'c1d99e64.json', 'c3e719e8.json', 'c3f564a4.json', 'c444b776.json', 'c59eb873.json', 'c8cbb738.json', 'c8f0f002.json', 'c909285e.json', 'c9e6f938.json', 'c9f8e694.json', 'caa06a1f.json', 'cbded52d.json', 'cce03e0d.json', 'cdecee7f.json', 'ce22a75a.json', 'ce4f8723.json', 'ce602527.json', 'ce9e57f2.json', 'cf98881b.json', 'd037b0a7.json', 'd06dbe63.json', 'd07ae81c.json', 'd0f5fe59.json', 'd10ecb37.json', 'd13f3404.json', 'd22278a0.json', 'd23f8c26.json', 'd2abd087.json', 'd364b489.json', 'd406998b.json', 'd43fd935.json', 'd4469b4b.json', 'd4a91cb9.json', 'd4f3cd78.json', 'd511f180.json', 'd5d6de2d.json', 'd631b094.json', 'd687bc17.json', 'd6ad076f.json', 'd89b689b.json', 'd8c310e9.json', 'd90796e8.json', 'd9f24cd1.json', 'd9fac9be.json', 'dae9d2b5.json', 'db3e9e38.json', 'db93a21d.json', 'dbc1a6ce.json', 'dc0a314f.json', 'dc1df850.json', 'dc433765.json', 'ddf7fa4f.json', 'de1cd16c.json', 'ded97339.json', 'e179c5f4.json', 'e21d9049.json', 'e26a3af2.json', 'e3497940.json', 'e40b9e2f.json', 'e48d4e1a.json', 'e5062a87.json', 'e509e548.json', 'e50d258f.json', 'e6721834.json', 'e73095fd.json', 'e76a88a6.json', 'e8593010.json', 'e8dc4411.json', 'e9614598.json', 'e98196ab.json', 'e9afcf9a.json', 'ea32f347.json', 'ea786f4a.json', 'eb281b96.json', 'eb5a1d5d.json', 'ec883f72.json', 'ecdecbb3.json', 'ed36ccf7.json', 'ef135b50.json', 'f15e1fac.json', 'f1cefba8.json', 'f25fbde4.json', 'f25ffba3.json', 'f2829549.json', 'f35d900a.json', 'f5b8619d.json', 'f76d97a5.json', 'f8a8fe49.json', 'f8b3ba0a.json', 'f8c80d96.json', 'f8ff0b80.json', 'f9012d9b.json', 'fafffa47.json', 'fcb5c309.json', 'fcc82909.json', 'feca6190.json', 'ff28f65a.json', 'ff805c23.json']"
     ]
    }
   ],
   "source": [
    "print(len(training_tasks))\n",
    "print(training_tasks, end=\"\")"
   ]
  },
  {
   "cell_type": "markdown",
   "metadata": {},
   "source": [
    "In each task, there are two dictionary keys, `train` and `test`. You learn the pattern from the train input-output pairs, and then apply the pattern to the `test` input, to predict an output."
   ]
  },
  {
   "cell_type": "code",
   "execution_count": 6,
   "metadata": {},
   "outputs": [
    {
     "name": "stdout",
     "output_type": "stream",
     "text": [
      "dict_keys(['train', 'test'])\n"
     ]
    }
   ],
   "source": [
    "task_file = str(training_path / '00d62c1b.json')\n",
    "\n",
    "with open(task_file, 'r') as f:\n",
    "    task = json.load(f)\n",
    "\n",
    "print(task.keys())"
   ]
  },
  {
   "cell_type": "markdown",
   "metadata": {},
   "source": [
    "Tasks have multiple `train` input-output pairs. Most tasks have a single `test` input-output pair, although some have more than one."
   ]
  },
  {
   "cell_type": "code",
   "execution_count": 7,
   "metadata": {},
   "outputs": [
    {
     "name": "stdout",
     "output_type": "stream",
     "text": [
      "task contains 5 training pairs\n",
      "task contains 1 test pairs\n"
     ]
    }
   ],
   "source": [
    "n_train_pairs = len(task['train'])\n",
    "n_test_pairs = len(task['test'])\n",
    "\n",
    "print(f'task contains {n_train_pairs} training pairs')\n",
    "print(f'task contains {n_test_pairs} test pairs')"
   ]
  },
  {
   "cell_type": "markdown",
   "metadata": {},
   "source": [
    "Drilling into the first `train` input-output pair, we can see the grids are expressed as 2d lists with integers 0-9."
   ]
  },
  {
   "cell_type": "code",
   "execution_count": 8,
   "metadata": {},
   "outputs": [
    {
     "data": {
      "text/plain": [
       "[[0, 0, 0, 0, 0, 0],\n",
       " [0, 0, 3, 0, 0, 0],\n",
       " [0, 3, 0, 3, 0, 0],\n",
       " [0, 0, 3, 0, 3, 0],\n",
       " [0, 0, 0, 3, 0, 0],\n",
       " [0, 0, 0, 0, 0, 0]]"
      ]
     },
     "metadata": {},
     "output_type": "display_data"
    },
    {
     "data": {
      "text/plain": [
       "[[0, 0, 0, 0, 0, 0],\n",
       " [0, 0, 3, 0, 0, 0],\n",
       " [0, 3, 4, 3, 0, 0],\n",
       " [0, 0, 3, 4, 3, 0],\n",
       " [0, 0, 0, 3, 0, 0],\n",
       " [0, 0, 0, 0, 0, 0]]"
      ]
     },
     "metadata": {},
     "output_type": "display_data"
    }
   ],
   "source": [
    "display(task['train'][0]['input'])\n",
    "display(task['train'][0]['output'])"
   ]
  },
  {
   "cell_type": "markdown",
   "metadata": {},
   "source": [
    "## Function to plot the first train/test input/output pairs of a task\n",
    "\n",
    "You can use this function to plot the first `train` and `test` grids. The color aligns with what is found on the ARC app. Note though, the ARC app presents the grids to scale, where these display the grids in the same size, regardless of their dimension."
   ]
  },
  {
   "cell_type": "code",
   "execution_count": 9,
   "metadata": {},
   "outputs": [],
   "source": [
    "def plot_task(task):\n",
    "    \"\"\"\n",
    "    Plots the first train and test pairs of a specified task,\n",
    "    using same color scheme as the ARC app\n",
    "    \"\"\"\n",
    "    cmap = colors.ListedColormap(\n",
    "        ['#000000', '#0074D9','#FF4136','#2ECC40','#FFDC00',\n",
    "         '#AAAAAA', '#F012BE', '#FF851B', '#7FDBFF', '#870C25'])\n",
    "    norm = colors.Normalize(vmin=0, vmax=9)\n",
    "    fig, axs = plt.subplots(1, 4, figsize=(15,15))\n",
    "    axs[0].imshow(task['train'][0]['input'], cmap=cmap, norm=norm)\n",
    "    axs[0].axis('off')\n",
    "    axs[0].set_title('Train Input')\n",
    "    axs[1].imshow(task['train'][0]['output'], cmap=cmap, norm=norm)\n",
    "    axs[1].axis('off')\n",
    "    axs[1].set_title('Train Output')\n",
    "    axs[2].imshow(task['test'][0]['input'], cmap=cmap, norm=norm)\n",
    "    axs[2].axis('off')\n",
    "    axs[2].set_title('Test Input')\n",
    "    axs[3].imshow(task['test'][0]['output'], cmap=cmap, norm=norm)\n",
    "    axs[3].axis('off')\n",
    "    axs[3].set_title('Test Output')\n",
    "    plt.tight_layout()\n",
    "    plt.show()"
   ]
  },
  {
   "cell_type": "code",
   "execution_count": 10,
   "metadata": {},
   "outputs": [
    {
     "data": {
      "image/png": "[encoded data removed]",
      "text/plain": [
       "<Figure size 1080x1080 with 4 Axes>"
      ]
     },
     "metadata": {
      "needs_background": "light"
     },
     "output_type": "display_data"
    }
   ],
   "source": [
    "plot_task(task)"
   ]
  },
  {
   "cell_type": "markdown",
   "metadata": {},
   "source": [
    "# evaluation data"
   ]
  },
  {
   "cell_type": "code",
   "execution_count": 11,
   "metadata": {},
   "outputs": [
    {
     "name": "stdout",
     "output_type": "stream",
     "text": [
      "['00576224.json', '009d5c81.json', '00dbd492.json']\n",
      "400\n",
      "dict_keys(['train', 'test'])\n",
      "2\n",
      "1\n"
     ]
    },
    {
     "data": {
      "text/plain": [
       "[[8, 6], [6, 4]]"
      ]
     },
     "metadata": {},
     "output_type": "display_data"
    },
    {
     "data": {
      "text/plain": [
       "[[8, 6, 8, 6, 8, 6],\n",
       " [6, 4, 6, 4, 6, 4],\n",
       " [6, 8, 6, 8, 6, 8],\n",
       " [4, 6, 4, 6, 4, 6],\n",
       " [8, 6, 8, 6, 8, 6],\n",
       " [6, 4, 6, 4, 6, 4]]"
      ]
     },
     "metadata": {},
     "output_type": "display_data"
    }
   ],
   "source": [
    "evaluation_tasks = sorted(os.listdir(evaluation_path))\n",
    "print(evaluation_tasks[:3])\n",
    "print(len(evaluation_tasks))\n",
    "\n",
    "evaluation_task_file = str(evaluation_path / '00576224.json')\n",
    "\n",
    "with open(evaluation_task_file, 'r') as f:\n",
    "    evaluation_task = json.load(f)\n",
    "print(evaluation_task.keys())\n",
    "print(len(evaluation_task[\"train\"]))\n",
    "print(len(evaluation_task[\"test\"]))\n",
    "\n",
    "display(evaluation_task['train'][0]['input'])\n",
    "display(evaluation_task['train'][0]['output'])"
   ]
  },
  {
   "cell_type": "markdown",
   "metadata": {},
   "source": [
    "# test data"
   ]
  },
  {
   "cell_type": "code",
   "execution_count": 12,
   "metadata": {},
   "outputs": [
    {
     "name": "stdout",
     "output_type": "stream",
     "text": [
      "['00576224.json', '009d5c81.json', '00dbd492.json']\n",
      "100\n",
      "dict_keys(['train', 'test'])\n",
      "2\n",
      "1\n"
     ]
    },
    {
     "data": {
      "text/plain": [
       "[[8, 6], [6, 4]]"
      ]
     },
     "metadata": {},
     "output_type": "display_data"
    },
    {
     "data": {
      "text/plain": [
       "[[8, 6, 8, 6, 8, 6],\n",
       " [6, 4, 6, 4, 6, 4],\n",
       " [6, 8, 6, 8, 6, 8],\n",
       " [4, 6, 4, 6, 4, 6],\n",
       " [8, 6, 8, 6, 8, 6],\n",
       " [6, 4, 6, 4, 6, 4]]"
      ]
     },
     "metadata": {},
     "output_type": "display_data"
    }
   ],
   "source": [
    "test_tasks = sorted(os.listdir(test_path))\n",
    "print(test_tasks[:3])\n",
    "print(len(test_tasks))\n",
    "\n",
    "test_task_file = str(test_path / '00576224.json')\n",
    "\n",
    "with open(test_task_file, 'r') as f:\n",
    "    test_task = json.load(f)\n",
    "print(test_task.keys())\n",
    "print(len(test_task[\"train\"]))\n",
    "print(len(test_task[\"test\"]))\n",
    "\n",
    "display(test_task['train'][0]['input'])\n",
    "display(test_task['train'][0]['output'])"
   ]
  },
  {
   "cell_type": "code",
   "execution_count": 13,
   "metadata": {},
   "outputs": [
    {
     "name": "stdout",
     "output_type": "stream",
     "text": [
      "300\n",
      "0\n"
     ]
    }
   ],
   "source": [
    "# all local test data in test path is included in evaluation path\n",
    "print(len(set(evaluation_tasks)-set(test_tasks)))\n",
    "print(len(set(test_tasks)-set(evaluation_tasks)))"
   ]
  },
  {
   "cell_type": "code",
   "execution_count": 14,
   "metadata": {},
   "outputs": [
    {
     "name": "stdout",
     "output_type": "stream",
     "text": [
      "400\n",
      "400\n",
      "400\n",
      "100\n"
     ]
    }
   ],
   "source": [
    "print(len(set(training_tasks)-set(evaluation_tasks)))\n",
    "print(len(set(evaluation_tasks)-set(training_tasks)))\n",
    "print(len(set(training_tasks)-set(test_tasks)))\n",
    "print(len(set(test_tasks)-set(training_tasks)))"
   ]
  },
  {
   "cell_type": "markdown",
   "metadata": {},
   "source": [
    "# Using the correct prediction format"
   ]
  },
  {
   "cell_type": "code",
   "execution_count": 15,
   "metadata": {},
   "outputs": [
    {
     "data": {
      "text/html": [
       "<div>\n",
       "<style scoped>\n",
       "    .dataframe tbody tr th:only-of-type {\n",
       "        vertical-align: middle;\n",
       "    }\n",
       "\n",
       "    .dataframe tbody tr th {\n",
       "        vertical-align: top;\n",
       "    }\n",
       "\n",
       "    .dataframe thead th {\n",
       "        text-align: right;\n",
       "    }\n",
       "</style>\n",
       "<table border=\"1\" class=\"dataframe\">\n",
       "  <thead>\n",
       "    <tr style=\"text-align: right;\">\n",
       "      <th></th>\n",
       "      <th>output</th>\n",
       "    </tr>\n",
       "    <tr>\n",
       "      <th>output_id</th>\n",
       "      <th></th>\n",
       "    </tr>\n",
       "  </thead>\n",
       "  <tbody>\n",
       "    <tr>\n",
       "      <th>00576224_0</th>\n",
       "      <td>|32|78| |32|78| |00|00|</td>\n",
       "    </tr>\n",
       "    <tr>\n",
       "      <th>009d5c81_0</th>\n",
       "      <td>|00000000000000|00000888888888|00000800080808|...</td>\n",
       "    </tr>\n",
       "    <tr>\n",
       "      <th>00dbd492_0</th>\n",
       "      <td>|00000000000222220000|02222222220200020000|020...</td>\n",
       "    </tr>\n",
       "    <tr>\n",
       "      <th>03560426_0</th>\n",
       "      <td>|0000000000|0000000000|0000000000|0000000000|0...</td>\n",
       "    </tr>\n",
       "    <tr>\n",
       "      <th>05a7bcf2_0</th>\n",
       "      <td>|000000000020000000080000000000|00000000002220...</td>\n",
       "    </tr>\n",
       "  </tbody>\n",
       "</table>\n",
       "</div>"
      ],
      "text/plain": [
       "                                                       output\n",
       "output_id                                                    \n",
       "00576224_0                           |32|78| |32|78| |00|00| \n",
       "009d5c81_0  |00000000000000|00000888888888|00000800080808|...\n",
       "00dbd492_0  |00000000000222220000|02222222220200020000|020...\n",
       "03560426_0  |0000000000|0000000000|0000000000|0000000000|0...\n",
       "05a7bcf2_0  |000000000020000000080000000000|00000000002220..."
      ]
     },
     "metadata": {},
     "output_type": "display_data"
    }
   ],
   "source": [
    "submission = pd.read_csv(data_path / 'sample_submission.csv', index_col='output_id')\n",
    "display(submission.head())"
   ]
  },
  {
   "cell_type": "markdown",
   "metadata": {},
   "source": [
    "The `output_id` is the `id` of the task, followed by the index of the `test` input that you should use to make your prediction. The `output` is the predicted output of the corresponding `test` input, reformatted into a string representation. (You can make three predictions per `output_id`, delineated by a space.) Use the following function to convert from a 2d python list to the string representation."
   ]
  },
  {
   "cell_type": "code",
   "execution_count": 16,
   "metadata": {},
   "outputs": [],
   "source": [
    "def flattener(pred):\n",
    "    str_pred = str([row for row in pred])\n",
    "    str_pred = str_pred.replace(', ', '')\n",
    "    str_pred = str_pred.replace('[[', '|')\n",
    "    str_pred = str_pred.replace('][', '|')\n",
    "    str_pred = str_pred.replace(']]', '|')\n",
    "    return str_pred"
   ]
  },
  {
   "cell_type": "code",
   "execution_count": 17,
   "metadata": {},
   "outputs": [
    {
     "data": {
      "text/plain": [
       "[[1, 2, 3], [4, 5, 6], [7, 8, 9]]"
      ]
     },
     "metadata": {},
     "output_type": "display_data"
    },
    {
     "name": "stdout",
     "output_type": "stream",
     "text": [
      "|123|456|789|\n"
     ]
    }
   ],
   "source": [
    "example_grid = [[1, 2, 3], [4, 5, 6], [7, 8, 9]]\n",
    "display(example_grid)\n",
    "print(flattener(example_grid))"
   ]
  },
  {
   "cell_type": "markdown",
   "metadata": {},
   "source": [
    "# Re-creating the sample submission output\n",
    "\n",
    "This demonstrates how to loop over the sample submission and make predictions."
   ]
  },
  {
   "cell_type": "code",
   "execution_count": 18,
   "metadata": {},
   "outputs": [],
   "source": [
    "for output_id in submission.index:\n",
    "    task_id = output_id.split('_')[0]\n",
    "    pair_id = int(output_id.split('_')[1])\n",
    "    f = str(test_path / str(task_id + '.json'))\n",
    "    with open(f, 'r') as read_file:\n",
    "        task = json.load(read_file)\n",
    "    # skipping over the training examples, since this will be naive predictions\n",
    "    # we will use the test input grid as the base, and make some modifications\n",
    "    data = task['test'][pair_id]['input'] # test pair input\n",
    "    # for the first guess, predict that output is unchanged\n",
    "    pred_1 = flattener(data)\n",
    "    # for the second guess, change all 0s to 5s\n",
    "    data = [[5 if i==0 else i for i in j] for j in data]\n",
    "    pred_2 = flattener(data)\n",
    "    # for the last gues, change everything to 0\n",
    "    data = [[0 for i in j] for j in data]\n",
    "    pred_3 = flattener(data)\n",
    "    # concatenate and add to the submission output\n",
    "    pred = pred_1 + ' ' + pred_2 + ' ' + pred_3 + ' ' \n",
    "    submission.loc[output_id, 'output'] = pred\n",
    "\n",
    "submission.to_csv('submission.csv')"
   ]
  },
  {
   "cell_type": "markdown",
   "metadata": {},
   "source": [
    "# manual coding for first 10 tasks"
   ]
  },
  {
   "cell_type": "markdown",
   "metadata": {},
   "source": [
    "https://www.kaggle.com/nagiss/manual-coding-for-the-first-10-tasks"
   ]
  },
  {
   "cell_type": "code",
   "execution_count": 19,
   "metadata": {},
   "outputs": [
    {
     "data": {
      "image/png": "[encoded data removed]",
      "text/plain": [
       "<Figure size 1000x400 with 1 Axes>"
      ]
     },
     "metadata": {
      "needs_background": "light"
     },
     "output_type": "display_data"
    }
   ],
   "source": [
    "cmap = colors.ListedColormap(\n",
    "    ['#000000', '#0074D9','#FF4136','#2ECC40','#FFDC00',\n",
    "     '#AAAAAA', '#F012BE', '#FF851B', '#7FDBFF', '#870C25'])\n",
    "norm = colors.Normalize(vmin=0, vmax=9)\n",
    "# 0:black, 1:blue, 2:red, 3:greed, 4:yellow,\n",
    "# 5:gray, 6:magenta, 7:orange, 8:sky, 9:brown\n",
    "plt.figure(figsize=(5, 2), dpi=200)\n",
    "plt.imshow([list(range(10))], cmap=cmap, norm=norm)\n",
    "plt.xticks(list(range(10)))\n",
    "plt.yticks([])\n",
    "plt.show()\n",
    "\n",
    "def plot_task(task):\n",
    "    n = len(task[\"train\"]) + len(task[\"test\"])\n",
    "    fig, axs = plt.subplots(2, n, figsize=(4*n,8), dpi=50)\n",
    "    plt.subplots_adjust(wspace=0, hspace=0)\n",
    "    fig_num = 0\n",
    "    for i, t in enumerate(task[\"train\"]):\n",
    "        t_in, t_out = np.array(t[\"input\"]), np.array(t[\"output\"])\n",
    "        axs[0][fig_num].imshow(t_in, cmap=cmap, norm=norm)\n",
    "        axs[0][fig_num].set_title(f'Train-{i} in')\n",
    "        axs[0][fig_num].set_yticks(list(range(t_in.shape[0])))\n",
    "        axs[0][fig_num].set_xticks(list(range(t_in.shape[1])))\n",
    "        axs[1][fig_num].imshow(t_out, cmap=cmap, norm=norm)\n",
    "        axs[1][fig_num].set_title(f'Train-{i} out')\n",
    "        axs[1][fig_num].set_yticks(list(range(t_out.shape[0])))\n",
    "        axs[1][fig_num].set_xticks(list(range(t_out.shape[1])))\n",
    "        fig_num += 1\n",
    "    for i, t in enumerate(task[\"test\"]):\n",
    "        t_in, t_out = np.array(t[\"input\"]), np.array(t[\"output\"])\n",
    "        axs[0][fig_num].imshow(t_in, cmap=cmap, norm=norm)\n",
    "        axs[0][fig_num].set_title(f'Test-{i} in')\n",
    "        axs[0][fig_num].set_yticks(list(range(t_in.shape[0])))\n",
    "        axs[0][fig_num].set_xticks(list(range(t_in.shape[1])))\n",
    "        axs[1][fig_num].imshow(t_out, cmap=cmap, norm=norm)\n",
    "        axs[1][fig_num].set_title(f'Test-{i} out')\n",
    "        axs[1][fig_num].set_yticks(list(range(t_out.shape[0])))\n",
    "        axs[1][fig_num].set_xticks(list(range(t_out.shape[1])))\n",
    "        fig_num += 1\n",
    "    \n",
    "    plt.tight_layout()\n",
    "    plt.show()"
   ]
  },
  {
   "cell_type": "code",
   "execution_count": 20,
   "metadata": {},
   "outputs": [],
   "source": [
    "def get_data(task_filename):\n",
    "    with open(task_filename, 'r') as f:\n",
    "        task = json.load(f)\n",
    "    return task\n",
    "\n",
    "num2color = [\"black\", \"blue\", \"red\", \"green\", \"yellow\", \"gray\", \"magenta\", \"orange\", \"sky\", \"brown\"]\n",
    "color2num = {c: n for n, c in enumerate(num2color)}"
   ]
  },
  {
   "cell_type": "code",
   "execution_count": 21,
   "metadata": {},
   "outputs": [],
   "source": [
    "def check(task, pred_func):\n",
    "    n = len(task[\"train\"]) + len(task[\"test\"])\n",
    "    fig, axs = plt.subplots(3, n, figsize=(4*n,12), dpi=50)\n",
    "    plt.subplots_adjust(wspace=0.3, hspace=0.3)\n",
    "    fig_num = 0\n",
    "    for i, t in enumerate(task[\"train\"]):\n",
    "        t_in, t_out = np.array(t[\"input\"]), np.array(t[\"output\"])\n",
    "        t_pred = pred_func(t_in)\n",
    "        axs[0][fig_num].imshow(t_in, cmap=cmap, norm=norm)\n",
    "        axs[0][fig_num].set_title(f'Train-{i} in')\n",
    "        axs[0][fig_num].set_yticks(list(range(t_in.shape[0])))\n",
    "        axs[0][fig_num].set_xticks(list(range(t_in.shape[1])))\n",
    "        axs[1][fig_num].imshow(t_out, cmap=cmap, norm=norm)\n",
    "        axs[1][fig_num].set_title(f'Train-{i} out')\n",
    "        axs[1][fig_num].set_yticks(list(range(t_out.shape[0])))\n",
    "        axs[1][fig_num].set_xticks(list(range(t_out.shape[1])))\n",
    "        axs[2][fig_num].imshow(t_pred, cmap=cmap, norm=norm)\n",
    "        axs[2][fig_num].set_title(f'Train-{i} pred')\n",
    "        axs[2][fig_num].set_yticks(list(range(t_pred.shape[0])))\n",
    "        axs[2][fig_num].set_xticks(list(range(t_pred.shape[1])))\n",
    "        fig_num += 1\n",
    "    for i, t in enumerate(task[\"test\"]):\n",
    "        t_in, t_out = np.array(t[\"input\"]), np.array(t[\"output\"])\n",
    "        t_pred = pred_func(t_in)\n",
    "        axs[0][fig_num].imshow(t_in, cmap=cmap, norm=norm)\n",
    "        axs[0][fig_num].set_title(f'Test-{i} in')\n",
    "        axs[0][fig_num].set_yticks(list(range(t_in.shape[0])))\n",
    "        axs[0][fig_num].set_xticks(list(range(t_in.shape[1])))\n",
    "        axs[1][fig_num].imshow(t_out, cmap=cmap, norm=norm)\n",
    "        axs[1][fig_num].set_title(f'Test-{i} out')\n",
    "        axs[1][fig_num].set_yticks(list(range(t_out.shape[0])))\n",
    "        axs[1][fig_num].set_xticks(list(range(t_out.shape[1])))\n",
    "        axs[2][fig_num].imshow(t_pred, cmap=cmap, norm=norm)\n",
    "        axs[2][fig_num].set_title(f'Test-{i} pred')\n",
    "        axs[2][fig_num].set_yticks(list(range(t_pred.shape[0])))\n",
    "        axs[2][fig_num].set_xticks(list(range(t_pred.shape[1])))\n",
    "        fig_num += 1"
   ]
  },
  {
   "cell_type": "code",
   "execution_count": 22,
   "metadata": {},
   "outputs": [
    {
     "data": {
      "image/png": "[encoded data removed]",
      "text/plain": [
       "<Figure size 1200x600 with 18 Axes>"
      ]
     },
     "metadata": {
      "needs_background": "light"
     },
     "output_type": "display_data"
    }
   ],
   "source": [
    "def task_train000(x):\n",
    "    x_upsampled = x.repeat(3, axis=0).repeat(3, axis=1) # xの各要素をaxisで指定した軸方向にn回繰り返す\n",
    "    x_tiled = np.tile(x, (3, 3)) # 3*3のタイル状に元画像を繰り返す\n",
    "    y = x_upsampled & x_tiled\n",
    "    return x_upsampled\n",
    "\n",
    "task = get_data(str(training_path / training_tasks[0]))\n",
    "check(task, task_train000)"
   ]
  },
  {
   "cell_type": "code",
   "execution_count": null,
   "metadata": {},
   "outputs": [],
   "source": []
  }
 ],
 "metadata": {
  "kernelspec": {
   "display_name": "Python 3",
   "language": "python",
   "name": "python3"
  },
  "language_info": {
   "codemirror_mode": {
    "name": "ipython",
    "version": 3
   },
   "file_extension": ".py",
   "mimetype": "text/x-python",
   "name": "python",
   "nbconvert_exporter": "python",
   "pygments_lexer": "ipython3",
   "version": "3.6.6"
  }
 },
 "nbformat": 4,
 "nbformat_minor": 4
}
