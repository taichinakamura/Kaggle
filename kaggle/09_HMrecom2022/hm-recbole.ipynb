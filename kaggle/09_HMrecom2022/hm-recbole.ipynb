{
 "cells": [
  {
   "cell_type": "code",
   "execution_count": 1,
   "id": "b5bbe83a",
   "metadata": {
    "execution": {
     "iopub.execute_input": "2022-04-13T02:49:38.796730Z",
     "iopub.status.busy": "2022-04-13T02:49:38.795278Z",
     "iopub.status.idle": "2022-04-13T02:49:55.624566Z",
     "shell.execute_reply": "2022-04-13T02:49:55.623744Z",
     "shell.execute_reply.started": "2022-04-13T02:14:52.262168Z"
    },
    "papermill": {
     "duration": 16.863228,
     "end_time": "2022-04-13T02:49:55.624721",
     "exception": false,
     "start_time": "2022-04-13T02:49:38.761493",
     "status": "completed"
    },
    "tags": []
   },
   "outputs": [
    {
     "name": "stdout",
     "output_type": "stream",
     "text": [
      "Collecting recbole\r\n",
      "  Downloading recbole-1.0.1-py3-none-any.whl (2.0 MB)\r\n",
      "     |████████████████████████████████| 2.0 MB 596 kB/s            \r\n",
      "\u001b[?25hRequirement already satisfied: pandas>=1.0.5 in /opt/conda/lib/python3.7/site-packages (from recbole) (1.3.5)\r\n",
      "Requirement already satisfied: pyyaml>=5.1.0 in /opt/conda/lib/python3.7/site-packages (from recbole) (6.0)\r\n",
      "Requirement already satisfied: tqdm>=4.48.2 in /opt/conda/lib/python3.7/site-packages (from recbole) (4.62.3)\r\n",
      "Requirement already satisfied: scikit-learn>=0.23.2 in /opt/conda/lib/python3.7/site-packages (from recbole) (0.23.2)\r\n",
      "Collecting colorlog==4.7.2\r\n",
      "  Downloading colorlog-4.7.2-py2.py3-none-any.whl (10 kB)\r\n",
      "Requirement already satisfied: tensorboard>=2.5.0 in /opt/conda/lib/python3.7/site-packages (from recbole) (2.6.0)\r\n",
      "Requirement already satisfied: colorama==0.4.4 in /opt/conda/lib/python3.7/site-packages (from recbole) (0.4.4)\r\n",
      "Requirement already satisfied: torch>=1.7.0 in /opt/conda/lib/python3.7/site-packages (from recbole) (1.9.1)\r\n",
      "Requirement already satisfied: numpy>=1.17.2 in /opt/conda/lib/python3.7/site-packages (from recbole) (1.20.3)\r\n",
      "Collecting scipy==1.6.0\r\n",
      "  Downloading scipy-1.6.0-cp37-cp37m-manylinux1_x86_64.whl (27.4 MB)\r\n",
      "     |████████████████████████████████| 27.4 MB 58.9 MB/s            \r\n",
      "\u001b[?25hRequirement already satisfied: python-dateutil>=2.7.3 in /opt/conda/lib/python3.7/site-packages (from pandas>=1.0.5->recbole) (2.8.2)\r\n",
      "Requirement already satisfied: pytz>=2017.3 in /opt/conda/lib/python3.7/site-packages (from pandas>=1.0.5->recbole) (2021.3)\r\n",
      "Requirement already satisfied: threadpoolctl>=2.0.0 in /opt/conda/lib/python3.7/site-packages (from scikit-learn>=0.23.2->recbole) (3.0.0)\r\n",
      "Requirement already satisfied: joblib>=0.11 in /opt/conda/lib/python3.7/site-packages (from scikit-learn>=0.23.2->recbole) (1.1.0)\r\n",
      "Requirement already satisfied: grpcio>=1.24.3 in /opt/conda/lib/python3.7/site-packages (from tensorboard>=2.5.0->recbole) (1.43.0)\r\n",
      "Requirement already satisfied: absl-py>=0.4 in /opt/conda/lib/python3.7/site-packages (from tensorboard>=2.5.0->recbole) (0.15.0)\r\n",
      "Requirement already satisfied: google-auth-oauthlib<0.5,>=0.4.1 in /opt/conda/lib/python3.7/site-packages (from tensorboard>=2.5.0->recbole) (0.4.6)\r\n",
      "Requirement already satisfied: werkzeug>=0.11.15 in /opt/conda/lib/python3.7/site-packages (from tensorboard>=2.5.0->recbole) (2.0.2)\r\n",
      "Requirement already satisfied: google-auth<2,>=1.6.3 in /opt/conda/lib/python3.7/site-packages (from tensorboard>=2.5.0->recbole) (1.35.0)\r\n",
      "Requirement already satisfied: setuptools>=41.0.0 in /opt/conda/lib/python3.7/site-packages (from tensorboard>=2.5.0->recbole) (59.5.0)\r\n",
      "Requirement already satisfied: protobuf>=3.6.0 in /opt/conda/lib/python3.7/site-packages (from tensorboard>=2.5.0->recbole) (3.19.1)\r\n",
      "Requirement already satisfied: requests<3,>=2.21.0 in /opt/conda/lib/python3.7/site-packages (from tensorboard>=2.5.0->recbole) (2.26.0)\r\n",
      "Requirement already satisfied: tensorboard-data-server<0.7.0,>=0.6.0 in /opt/conda/lib/python3.7/site-packages (from tensorboard>=2.5.0->recbole) (0.6.1)\r\n",
      "Requirement already satisfied: markdown>=2.6.8 in /opt/conda/lib/python3.7/site-packages (from tensorboard>=2.5.0->recbole) (3.3.6)\r\n",
      "Requirement already satisfied: tensorboard-plugin-wit>=1.6.0 in /opt/conda/lib/python3.7/site-packages (from tensorboard>=2.5.0->recbole) (1.8.0)\r\n",
      "Requirement already satisfied: wheel>=0.26 in /opt/conda/lib/python3.7/site-packages (from tensorboard>=2.5.0->recbole) (0.37.0)\r\n",
      "Requirement already satisfied: typing-extensions in /opt/conda/lib/python3.7/site-packages (from torch>=1.7.0->recbole) (4.0.1)\r\n",
      "Requirement already satisfied: six in /opt/conda/lib/python3.7/site-packages (from absl-py>=0.4->tensorboard>=2.5.0->recbole) (1.16.0)\r\n",
      "Requirement already satisfied: cachetools<5.0,>=2.0.0 in /opt/conda/lib/python3.7/site-packages (from google-auth<2,>=1.6.3->tensorboard>=2.5.0->recbole) (4.2.4)\r\n",
      "Requirement already satisfied: rsa<5,>=3.1.4 in /opt/conda/lib/python3.7/site-packages (from google-auth<2,>=1.6.3->tensorboard>=2.5.0->recbole) (4.8)\r\n",
      "Requirement already satisfied: pyasn1-modules>=0.2.1 in /opt/conda/lib/python3.7/site-packages (from google-auth<2,>=1.6.3->tensorboard>=2.5.0->recbole) (0.2.7)\r\n",
      "Requirement already satisfied: requests-oauthlib>=0.7.0 in /opt/conda/lib/python3.7/site-packages (from google-auth-oauthlib<0.5,>=0.4.1->tensorboard>=2.5.0->recbole) (1.3.0)\r\n",
      "Requirement already satisfied: importlib-metadata>=4.4 in /opt/conda/lib/python3.7/site-packages (from markdown>=2.6.8->tensorboard>=2.5.0->recbole) (4.10.1)\r\n",
      "Requirement already satisfied: certifi>=2017.4.17 in /opt/conda/lib/python3.7/site-packages (from requests<3,>=2.21.0->tensorboard>=2.5.0->recbole) (2021.10.8)\r\n",
      "Requirement already satisfied: urllib3<1.27,>=1.21.1 in /opt/conda/lib/python3.7/site-packages (from requests<3,>=2.21.0->tensorboard>=2.5.0->recbole) (1.26.7)\r\n",
      "Requirement already satisfied: charset-normalizer~=2.0.0 in /opt/conda/lib/python3.7/site-packages (from requests<3,>=2.21.0->tensorboard>=2.5.0->recbole) (2.0.9)\r\n",
      "Requirement already satisfied: idna<4,>=2.5 in /opt/conda/lib/python3.7/site-packages (from requests<3,>=2.21.0->tensorboard>=2.5.0->recbole) (3.1)\r\n",
      "Requirement already satisfied: zipp>=0.5 in /opt/conda/lib/python3.7/site-packages (from importlib-metadata>=4.4->markdown>=2.6.8->tensorboard>=2.5.0->recbole) (3.6.0)\r\n",
      "Requirement already satisfied: pyasn1<0.5.0,>=0.4.6 in /opt/conda/lib/python3.7/site-packages (from pyasn1-modules>=0.2.1->google-auth<2,>=1.6.3->tensorboard>=2.5.0->recbole) (0.4.8)\r\n",
      "Requirement already satisfied: oauthlib>=3.0.0 in /opt/conda/lib/python3.7/site-packages (from requests-oauthlib>=0.7.0->google-auth-oauthlib<0.5,>=0.4.1->tensorboard>=2.5.0->recbole) (3.1.1)\r\n",
      "Installing collected packages: scipy, colorlog, recbole\r\n",
      "  Attempting uninstall: scipy\r\n",
      "    Found existing installation: scipy 1.7.3\r\n",
      "    Uninstalling scipy-1.7.3:\r\n",
      "      Successfully uninstalled scipy-1.7.3\r\n",
      "  Attempting uninstall: colorlog\r\n",
      "    Found existing installation: colorlog 6.6.0\r\n",
      "    Uninstalling colorlog-6.6.0:\r\n",
      "      Successfully uninstalled colorlog-6.6.0\r\n",
      "\u001b[31mERROR: pip's dependency resolver does not currently take into account all the packages that are installed. This behaviour is the source of the following dependency conflicts.\r\n",
      "yellowbrick 1.3.post1 requires numpy<1.20,>=1.16.0, but you have numpy 1.20.3 which is incompatible.\r\n",
      "pdpbox 0.2.1 requires matplotlib==3.1.1, but you have matplotlib 3.5.1 which is incompatible.\r\n",
      "imbalanced-learn 0.9.0 requires scikit-learn>=1.0.1, but you have scikit-learn 0.23.2 which is incompatible.\r\n",
      "featuretools 1.4.1 requires numpy>=1.21.0, but you have numpy 1.20.3 which is incompatible.\r\n",
      "arviz 0.11.4 requires typing-extensions<4,>=3.7.4.3, but you have typing-extensions 4.0.1 which is incompatible.\u001b[0m\r\n",
      "Successfully installed colorlog-4.7.2 recbole-1.0.1 scipy-1.6.0\r\n",
      "\u001b[33mWARNING: Running pip as the 'root' user can result in broken permissions and conflicting behaviour with the system package manager. It is recommended to use a virtual environment instead: https://pip.pypa.io/warnings/venv\u001b[0m\r\n"
     ]
    }
   ],
   "source": [
    "!pip install recbole"
   ]
  },
  {
   "cell_type": "code",
   "execution_count": 2,
   "id": "751b696e",
   "metadata": {
    "execution": {
     "iopub.execute_input": "2022-04-13T02:49:55.724159Z",
     "iopub.status.busy": "2022-04-13T02:49:55.723542Z",
     "iopub.status.idle": "2022-04-13T02:49:57.830271Z",
     "shell.execute_reply": "2022-04-13T02:49:57.829340Z",
     "shell.execute_reply.started": "2022-04-13T02:15:09.400815Z"
    },
    "papermill": {
     "duration": 2.15848,
     "end_time": "2022-04-13T02:49:57.830414",
     "exception": false,
     "start_time": "2022-04-13T02:49:55.671934",
     "status": "completed"
    },
    "tags": []
   },
   "outputs": [],
   "source": [
    "import gc\n",
    "import os\n",
    "import numpy as np\n",
    "import pandas as pd\n",
    "\n",
    "import torch\n",
    "import logging\n",
    "from logging import getLogger\n",
    "from recbole.config import Config\n",
    "from recbole.data import create_dataset, data_preparation\n",
    "from recbole.model.sequential_recommender import GRU4RecF, SASRecF\n",
    "from recbole.trainer import Trainer\n",
    "from recbole.utils import init_seed, init_logger\n",
    "from recbole.utils.case_study import full_sort_topk\n",
    "from recbole.data.interaction import Interaction"
   ]
  },
  {
   "cell_type": "code",
   "execution_count": 3,
   "id": "71b48385",
   "metadata": {
    "execution": {
     "iopub.execute_input": "2022-04-13T02:49:57.924120Z",
     "iopub.status.busy": "2022-04-13T02:49:57.923460Z",
     "iopub.status.idle": "2022-04-13T02:49:57.926227Z",
     "shell.execute_reply": "2022-04-13T02:49:57.925743Z",
     "shell.execute_reply.started": "2022-04-13T02:15:11.801582Z"
    },
    "papermill": {
     "duration": 0.050718,
     "end_time": "2022-04-13T02:49:57.926340",
     "exception": false,
     "start_time": "2022-04-13T02:49:57.875622",
     "status": "completed"
    },
    "tags": []
   },
   "outputs": [],
   "source": [
    "VALID = True\n",
    "model_label = SASRecF"
   ]
  },
  {
   "cell_type": "code",
   "execution_count": 4,
   "id": "b0734f19",
   "metadata": {
    "execution": {
     "iopub.execute_input": "2022-04-13T02:49:58.025971Z",
     "iopub.status.busy": "2022-04-13T02:49:58.025289Z",
     "iopub.status.idle": "2022-04-13T02:49:58.028108Z",
     "shell.execute_reply": "2022-04-13T02:49:58.027596Z",
     "shell.execute_reply.started": "2022-04-13T02:15:11.809511Z"
    },
    "papermill": {
     "duration": 0.055388,
     "end_time": "2022-04-13T02:49:58.028222",
     "exception": false,
     "start_time": "2022-04-13T02:49:57.972834",
     "status": "completed"
    },
    "tags": []
   },
   "outputs": [],
   "source": [
    "def apk(actual, predicted, k=12):\n",
    "    if len(predicted)>k:\n",
    "        predicted = predicted[:k]\n",
    "        \n",
    "    score = 0.0\n",
    "    num_hits = 0.0\n",
    "    \n",
    "    for i,p in enumerate(predicted):\n",
    "        if p in actual and p not in predicted[:i]:\n",
    "            num_hits += 1.0\n",
    "            score += num_hits / (i+1.0)\n",
    "\n",
    "    if not actual:\n",
    "        return 0.0\n",
    "\n",
    "    return score / min(len(actual), k)\n",
    "\n",
    "def mapk(actual, predicted, k=12):\n",
    "    \"\"\"\n",
    "    Computes the mean average precision at k.\n",
    "    This function computes the mean average prescision at k between two lists\n",
    "    of lists of items.\n",
    "    Parameters\n",
    "    ----------\n",
    "    actual : list\n",
    "             A list of lists of elements that are to be predicted \n",
    "             (order doesn't matter in the lists)\n",
    "    predicted : list\n",
    "                A list of lists of predicted elements\n",
    "                (order matters in the lists)\n",
    "    k : int, optional\n",
    "        The maximum number of predicted elements\n",
    "    Returns\n",
    "    -------\n",
    "    score : double\n",
    "            The mean average precision at k over the input lists\n",
    "    \"\"\"\n",
    "    return np.mean([apk(a,p,k) for a,p in zip(actual, predicted)])"
   ]
  },
  {
   "cell_type": "markdown",
   "id": "d21f83db",
   "metadata": {
    "papermill": {
     "duration": 0.046228,
     "end_time": "2022-04-13T02:49:58.120284",
     "exception": false,
     "start_time": "2022-04-13T02:49:58.074056",
     "status": "completed"
    },
    "tags": []
   },
   "source": [
    "# 1. Create atomic file"
   ]
  },
  {
   "cell_type": "markdown",
   "id": "4fa2a5ff",
   "metadata": {
    "papermill": {
     "duration": 0.046631,
     "end_time": "2022-04-13T02:49:58.213053",
     "exception": false,
     "start_time": "2022-04-13T02:49:58.166422",
     "status": "completed"
    },
    "tags": []
   },
   "source": [
    "### 1.A create atomic of item features"
   ]
  },
  {
   "cell_type": "code",
   "execution_count": 5,
   "id": "a1bb9b44",
   "metadata": {
    "execution": {
     "iopub.execute_input": "2022-04-13T02:49:58.319722Z",
     "iopub.status.busy": "2022-04-13T02:49:58.318788Z",
     "iopub.status.idle": "2022-04-13T02:49:59.439175Z",
     "shell.execute_reply": "2022-04-13T02:49:59.439571Z",
     "shell.execute_reply.started": "2022-04-13T02:15:11.821852Z"
    },
    "papermill": {
     "duration": 1.179154,
     "end_time": "2022-04-13T02:49:59.439722",
     "exception": false,
     "start_time": "2022-04-13T02:49:58.260568",
     "status": "completed"
    },
    "tags": []
   },
   "outputs": [
    {
     "name": "stdout",
     "output_type": "stream",
     "text": [
      "article_id 105542\n",
      "product_code 47224\n",
      "prod_name 45875\n",
      "product_type_no 132\n",
      "product_type_name 131\n",
      "product_group_name 19\n",
      "graphical_appearance_no 30\n",
      "graphical_appearance_name 30\n",
      "colour_group_code 50\n",
      "colour_group_name 50\n",
      "perceived_colour_value_id 8\n",
      "perceived_colour_value_name 8\n",
      "perceived_colour_master_id 20\n",
      "perceived_colour_master_name 20\n",
      "department_no 299\n",
      "department_name 250\n",
      "index_code 10\n",
      "index_name 10\n",
      "index_group_no 5\n",
      "index_group_name 5\n",
      "section_no 57\n",
      "section_name 56\n",
      "garment_group_no 21\n",
      "garment_group_name 21\n",
      "detail_desc 43405\n"
     ]
    }
   ],
   "source": [
    "df = pd.read_csv(r\"/kaggle/input/h-and-m-personalized-fashion-recommendations/articles.csv\", dtype={'article_id': 'str'})\n",
    "\n",
    "for col in df.columns:\n",
    "    print(col, len(pd.unique(df[col])))"
   ]
  },
  {
   "cell_type": "code",
   "execution_count": 6,
   "id": "d7b056ca",
   "metadata": {
    "execution": {
     "iopub.execute_input": "2022-04-13T02:49:59.541219Z",
     "iopub.status.busy": "2022-04-13T02:49:59.540309Z",
     "iopub.status.idle": "2022-04-13T02:49:59.573856Z",
     "shell.execute_reply": "2022-04-13T02:49:59.574307Z",
     "shell.execute_reply.started": "2022-04-13T02:15:13.093308Z"
    },
    "papermill": {
     "duration": 0.088988,
     "end_time": "2022-04-13T02:49:59.574457",
     "exception": false,
     "start_time": "2022-04-13T02:49:59.485469",
     "status": "completed"
    },
    "tags": []
   },
   "outputs": [
    {
     "data": {
      "text/html": [
       "<div>\n",
       "<style scoped>\n",
       "    .dataframe tbody tr th:only-of-type {\n",
       "        vertical-align: middle;\n",
       "    }\n",
       "\n",
       "    .dataframe tbody tr th {\n",
       "        vertical-align: top;\n",
       "    }\n",
       "\n",
       "    .dataframe thead th {\n",
       "        text-align: right;\n",
       "    }\n",
       "</style>\n",
       "<table border=\"1\" class=\"dataframe\">\n",
       "  <thead>\n",
       "    <tr style=\"text-align: right;\">\n",
       "      <th></th>\n",
       "      <th>item_id:token</th>\n",
       "      <th>product_code:token</th>\n",
       "      <th>product_type_no:float</th>\n",
       "      <th>product_group_name:token_seq</th>\n",
       "      <th>graphical_appearance_no:token</th>\n",
       "      <th>colour_group_code:token</th>\n",
       "      <th>perceived_colour_value_id:token</th>\n",
       "      <th>perceived_colour_master_id:token</th>\n",
       "      <th>department_no:token</th>\n",
       "      <th>index_code:token</th>\n",
       "      <th>index_group_no:token</th>\n",
       "      <th>section_no:token</th>\n",
       "      <th>garment_group_no:token</th>\n",
       "    </tr>\n",
       "  </thead>\n",
       "  <tbody>\n",
       "    <tr>\n",
       "      <th>0</th>\n",
       "      <td>0108775015</td>\n",
       "      <td>108775</td>\n",
       "      <td>253</td>\n",
       "      <td>Garment Upper body</td>\n",
       "      <td>1010016</td>\n",
       "      <td>9</td>\n",
       "      <td>4</td>\n",
       "      <td>5</td>\n",
       "      <td>1676</td>\n",
       "      <td>A</td>\n",
       "      <td>1</td>\n",
       "      <td>16</td>\n",
       "      <td>1002</td>\n",
       "    </tr>\n",
       "    <tr>\n",
       "      <th>1</th>\n",
       "      <td>0108775044</td>\n",
       "      <td>108775</td>\n",
       "      <td>253</td>\n",
       "      <td>Garment Upper body</td>\n",
       "      <td>1010016</td>\n",
       "      <td>10</td>\n",
       "      <td>3</td>\n",
       "      <td>9</td>\n",
       "      <td>1676</td>\n",
       "      <td>A</td>\n",
       "      <td>1</td>\n",
       "      <td>16</td>\n",
       "      <td>1002</td>\n",
       "    </tr>\n",
       "    <tr>\n",
       "      <th>2</th>\n",
       "      <td>0108775051</td>\n",
       "      <td>108775</td>\n",
       "      <td>253</td>\n",
       "      <td>Garment Upper body</td>\n",
       "      <td>1010017</td>\n",
       "      <td>11</td>\n",
       "      <td>1</td>\n",
       "      <td>9</td>\n",
       "      <td>1676</td>\n",
       "      <td>A</td>\n",
       "      <td>1</td>\n",
       "      <td>16</td>\n",
       "      <td>1002</td>\n",
       "    </tr>\n",
       "    <tr>\n",
       "      <th>3</th>\n",
       "      <td>0110065001</td>\n",
       "      <td>110065</td>\n",
       "      <td>306</td>\n",
       "      <td>Underwear</td>\n",
       "      <td>1010016</td>\n",
       "      <td>9</td>\n",
       "      <td>4</td>\n",
       "      <td>5</td>\n",
       "      <td>1339</td>\n",
       "      <td>B</td>\n",
       "      <td>1</td>\n",
       "      <td>61</td>\n",
       "      <td>1017</td>\n",
       "    </tr>\n",
       "    <tr>\n",
       "      <th>4</th>\n",
       "      <td>0110065002</td>\n",
       "      <td>110065</td>\n",
       "      <td>306</td>\n",
       "      <td>Underwear</td>\n",
       "      <td>1010016</td>\n",
       "      <td>10</td>\n",
       "      <td>3</td>\n",
       "      <td>9</td>\n",
       "      <td>1339</td>\n",
       "      <td>B</td>\n",
       "      <td>1</td>\n",
       "      <td>61</td>\n",
       "      <td>1017</td>\n",
       "    </tr>\n",
       "  </tbody>\n",
       "</table>\n",
       "</div>"
      ],
      "text/plain": [
       "  item_id:token  product_code:token  product_type_no:float  \\\n",
       "0    0108775015              108775                    253   \n",
       "1    0108775044              108775                    253   \n",
       "2    0108775051              108775                    253   \n",
       "3    0110065001              110065                    306   \n",
       "4    0110065002              110065                    306   \n",
       "\n",
       "  product_group_name:token_seq  graphical_appearance_no:token  \\\n",
       "0           Garment Upper body                        1010016   \n",
       "1           Garment Upper body                        1010016   \n",
       "2           Garment Upper body                        1010017   \n",
       "3                    Underwear                        1010016   \n",
       "4                    Underwear                        1010016   \n",
       "\n",
       "   colour_group_code:token  perceived_colour_value_id:token  \\\n",
       "0                        9                                4   \n",
       "1                       10                                3   \n",
       "2                       11                                1   \n",
       "3                        9                                4   \n",
       "4                       10                                3   \n",
       "\n",
       "   perceived_colour_master_id:token  department_no:token index_code:token  \\\n",
       "0                                 5                 1676                A   \n",
       "1                                 9                 1676                A   \n",
       "2                                 9                 1676                A   \n",
       "3                                 5                 1339                B   \n",
       "4                                 9                 1339                B   \n",
       "\n",
       "   index_group_no:token  section_no:token  garment_group_no:token  \n",
       "0                     1                16                    1002  \n",
       "1                     1                16                    1002  \n",
       "2                     1                16                    1002  \n",
       "3                     1                61                    1017  \n",
       "4                     1                61                    1017  "
      ]
     },
     "execution_count": 6,
     "metadata": {},
     "output_type": "execute_result"
    }
   ],
   "source": [
    "df = df.drop(columns = ['product_type_name', 'graphical_appearance_name', 'colour_group_name', 'perceived_colour_value_name',\n",
    "                        'perceived_colour_master_name', 'index_name', 'index_group_name', 'section_name', \n",
    "                        'garment_group_name', 'prod_name', 'department_name', 'detail_desc'])\n",
    "temp = df.rename(\n",
    "    columns={'article_id': 'item_id:token', 'product_code': 'product_code:token', 'product_type_no': 'product_type_no:float',\n",
    "             'product_group_name': 'product_group_name:token_seq', 'graphical_appearance_no': 'graphical_appearance_no:token', \n",
    "             'colour_group_code': 'colour_group_code:token', 'perceived_colour_value_id': 'perceived_colour_value_id:token', \n",
    "             'perceived_colour_master_id': 'perceived_colour_master_id:token', 'department_no': 'department_no:token', \n",
    "             'index_code': 'index_code:token', 'index_group_no': 'index_group_no:token', 'section_no': 'section_no:token', \n",
    "             'garment_group_no': 'garment_group_no:token'})\n",
    "temp.head()"
   ]
  },
  {
   "cell_type": "code",
   "execution_count": 7,
   "id": "8dd2a916",
   "metadata": {
    "execution": {
     "iopub.execute_input": "2022-04-13T02:49:59.671516Z",
     "iopub.status.busy": "2022-04-13T02:49:59.670922Z",
     "iopub.status.idle": "2022-04-13T02:50:00.826139Z",
     "shell.execute_reply": "2022-04-13T02:50:00.825639Z",
     "shell.execute_reply.started": "2022-04-13T02:15:13.141166Z"
    },
    "papermill": {
     "duration": 1.205602,
     "end_time": "2022-04-13T02:50:00.826280",
     "exception": false,
     "start_time": "2022-04-13T02:49:59.620678",
     "status": "completed"
    },
    "tags": []
   },
   "outputs": [],
   "source": [
    "!mkdir /kaggle/working/recbox_data\n",
    "temp.to_csv(r'/kaggle/working/recbox_data/recbox_data.item', index=False, sep='\\t')"
   ]
  },
  {
   "cell_type": "markdown",
   "id": "9ba06ac7",
   "metadata": {
    "papermill": {
     "duration": 0.046407,
     "end_time": "2022-04-13T02:50:00.922978",
     "exception": false,
     "start_time": "2022-04-13T02:50:00.876571",
     "status": "completed"
    },
    "tags": []
   },
   "source": [
    "### 1.B create atomic of interation features"
   ]
  },
  {
   "cell_type": "code",
   "execution_count": 8,
   "id": "c88a9ee8",
   "metadata": {
    "execution": {
     "iopub.execute_input": "2022-04-13T02:50:01.021620Z",
     "iopub.status.busy": "2022-04-13T02:50:01.020921Z",
     "iopub.status.idle": "2022-04-13T02:51:08.329401Z",
     "shell.execute_reply": "2022-04-13T02:51:08.329834Z",
     "shell.execute_reply.started": "2022-04-13T02:15:14.361732Z"
    },
    "papermill": {
     "duration": 67.360737,
     "end_time": "2022-04-13T02:51:08.330023",
     "exception": false,
     "start_time": "2022-04-13T02:50:00.969286",
     "status": "completed"
    },
    "tags": []
   },
   "outputs": [
    {
     "data": {
      "text/html": [
       "<div>\n",
       "<style scoped>\n",
       "    .dataframe tbody tr th:only-of-type {\n",
       "        vertical-align: middle;\n",
       "    }\n",
       "\n",
       "    .dataframe tbody tr th {\n",
       "        vertical-align: top;\n",
       "    }\n",
       "\n",
       "    .dataframe thead th {\n",
       "        text-align: right;\n",
       "    }\n",
       "</style>\n",
       "<table border=\"1\" class=\"dataframe\">\n",
       "  <thead>\n",
       "    <tr style=\"text-align: right;\">\n",
       "      <th></th>\n",
       "      <th>t_dat</th>\n",
       "      <th>customer_id</th>\n",
       "      <th>article_id</th>\n",
       "      <th>price</th>\n",
       "      <th>sales_channel_id</th>\n",
       "      <th>timestamp</th>\n",
       "    </tr>\n",
       "  </thead>\n",
       "  <tbody>\n",
       "    <tr>\n",
       "      <th>0</th>\n",
       "      <td>2018-09-20</td>\n",
       "      <td>000058a12d5b43e67d225668fa1f8d618c13dc232df0ca...</td>\n",
       "      <td>0663713001</td>\n",
       "      <td>0.050831</td>\n",
       "      <td>2</td>\n",
       "      <td>1537401600</td>\n",
       "    </tr>\n",
       "    <tr>\n",
       "      <th>1</th>\n",
       "      <td>2018-09-20</td>\n",
       "      <td>000058a12d5b43e67d225668fa1f8d618c13dc232df0ca...</td>\n",
       "      <td>0541518023</td>\n",
       "      <td>0.030492</td>\n",
       "      <td>2</td>\n",
       "      <td>1537401600</td>\n",
       "    </tr>\n",
       "    <tr>\n",
       "      <th>2</th>\n",
       "      <td>2018-09-20</td>\n",
       "      <td>00007d2de826758b65a93dd24ce629ed66842531df6699...</td>\n",
       "      <td>0505221004</td>\n",
       "      <td>0.015237</td>\n",
       "      <td>2</td>\n",
       "      <td>1537401600</td>\n",
       "    </tr>\n",
       "    <tr>\n",
       "      <th>3</th>\n",
       "      <td>2018-09-20</td>\n",
       "      <td>00007d2de826758b65a93dd24ce629ed66842531df6699...</td>\n",
       "      <td>0685687003</td>\n",
       "      <td>0.016932</td>\n",
       "      <td>2</td>\n",
       "      <td>1537401600</td>\n",
       "    </tr>\n",
       "    <tr>\n",
       "      <th>4</th>\n",
       "      <td>2018-09-20</td>\n",
       "      <td>00007d2de826758b65a93dd24ce629ed66842531df6699...</td>\n",
       "      <td>0685687004</td>\n",
       "      <td>0.016932</td>\n",
       "      <td>2</td>\n",
       "      <td>1537401600</td>\n",
       "    </tr>\n",
       "  </tbody>\n",
       "</table>\n",
       "</div>"
      ],
      "text/plain": [
       "       t_dat                                        customer_id  article_id  \\\n",
       "0 2018-09-20  000058a12d5b43e67d225668fa1f8d618c13dc232df0ca...  0663713001   \n",
       "1 2018-09-20  000058a12d5b43e67d225668fa1f8d618c13dc232df0ca...  0541518023   \n",
       "2 2018-09-20  00007d2de826758b65a93dd24ce629ed66842531df6699...  0505221004   \n",
       "3 2018-09-20  00007d2de826758b65a93dd24ce629ed66842531df6699...  0685687003   \n",
       "4 2018-09-20  00007d2de826758b65a93dd24ce629ed66842531df6699...  0685687004   \n",
       "\n",
       "      price  sales_channel_id   timestamp  \n",
       "0  0.050831                 2  1537401600  \n",
       "1  0.030492                 2  1537401600  \n",
       "2  0.015237                 2  1537401600  \n",
       "3  0.016932                 2  1537401600  \n",
       "4  0.016932                 2  1537401600  "
      ]
     },
     "execution_count": 8,
     "metadata": {},
     "output_type": "execute_result"
    }
   ],
   "source": [
    "df = pd.read_csv(r\"/kaggle/input/h-and-m-personalized-fashion-recommendations/transactions_train.csv\", \n",
    "                 dtype={'article_id': 'str'})\n",
    "df['t_dat'] = pd.to_datetime(df['t_dat'], format=\"%Y-%m-%d\")\n",
    "df['timestamp'] = df.t_dat.values.astype(np.int64) // 10 ** 9\n",
    "df.head()"
   ]
  },
  {
   "cell_type": "markdown",
   "id": "db1ff8eb",
   "metadata": {
    "papermill": {
     "duration": 0.046414,
     "end_time": "2022-04-13T02:51:08.423494",
     "exception": false,
     "start_time": "2022-04-13T02:51:08.377080",
     "status": "completed"
    },
    "tags": []
   },
   "source": [
    "**We fill with data in only 2020(timestamp > > 1585620000) and create inter file**\n",
    "For anyone need instruction about inter file, please check below links:\n",
    "* https://recbole.io/docs/user_guide/data_intro.html\n",
    "* https://recbole.io/docs/user_guide/data/atomic_files.html\n",
    "\n",
    "if you want a full of iterations without limiting timestamp, please check here:"
   ]
  },
  {
   "cell_type": "code",
   "execution_count": 9,
   "id": "d2af3c6d",
   "metadata": {
    "execution": {
     "iopub.execute_input": "2022-04-13T02:51:08.524781Z",
     "iopub.status.busy": "2022-04-13T02:51:08.523878Z",
     "iopub.status.idle": "2022-04-13T02:51:11.778085Z",
     "shell.execute_reply": "2022-04-13T02:51:11.778861Z",
     "shell.execute_reply.started": "2022-04-13T02:16:25.773214Z"
    },
    "papermill": {
     "duration": 3.308949,
     "end_time": "2022-04-13T02:51:11.779043",
     "exception": false,
     "start_time": "2022-04-13T02:51:08.470094",
     "status": "completed"
    },
    "tags": []
   },
   "outputs": [],
   "source": [
    "if VALID:\n",
    "    valid_time = df[df.t_dat==\"2020-09-16\"][\"timestamp\"].values[0]\n",
    "    valid = df[df['timestamp'] >= valid_time].groupby('customer_id')['article_id'].apply(list).reset_index()\n",
    "    valid = valid.rename({'article_id':'prediction'},axis=1)\n",
    "    valid['prediction'] = valid.prediction.apply(lambda x: ' '.join([str(k) for k in x]))\n",
    "    temp = df[(df['timestamp'] > 1585620000) & (df['timestamp'] < valid_time)][['customer_id', 'article_id', 'timestamp']].rename(\n",
    "    columns={'customer_id': 'user_id:token', 'article_id': 'item_id:token', 'timestamp': 'timestamp:float'})    \n",
    "else:\n",
    "    temp = df[df['timestamp'] > 1585620000][['customer_id', 'article_id', 'timestamp']].rename(\n",
    "    columns={'customer_id': 'user_id:token', 'article_id': 'item_id:token', 'timestamp': 'timestamp:float'})    "
   ]
  },
  {
   "cell_type": "code",
   "execution_count": 10,
   "id": "47e73775",
   "metadata": {
    "execution": {
     "iopub.execute_input": "2022-04-13T02:51:11.883815Z",
     "iopub.status.busy": "2022-04-13T02:51:11.876812Z",
     "iopub.status.idle": "2022-04-13T02:51:45.614187Z",
     "shell.execute_reply": "2022-04-13T02:51:45.614634Z",
     "shell.execute_reply.started": "2022-04-13T02:16:29.056908Z"
    },
    "papermill": {
     "duration": 33.788847,
     "end_time": "2022-04-13T02:51:45.614780",
     "exception": false,
     "start_time": "2022-04-13T02:51:11.825933",
     "status": "completed"
    },
    "tags": []
   },
   "outputs": [
    {
     "data": {
      "text/plain": [
       "47"
      ]
     },
     "execution_count": 10,
     "metadata": {},
     "output_type": "execute_result"
    }
   ],
   "source": [
    "# We save atomic file in dataset format for using with recbole\n",
    "temp.to_csv('/kaggle/working/recbox_data/recbox_data.inter', index=False, sep='\\t')\n",
    "del temp\n",
    "gc.collect()"
   ]
  },
  {
   "cell_type": "markdown",
   "id": "d36c80ba",
   "metadata": {
    "papermill": {
     "duration": 0.046372,
     "end_time": "2022-04-13T02:51:45.707855",
     "exception": false,
     "start_time": "2022-04-13T02:51:45.661483",
     "status": "completed"
    },
    "tags": []
   },
   "source": [
    "# 2. We create defautl recomendation for user who can not be predicted by sequential model.\n",
    "I use this approach in notebook: https://www.kaggle.com/hervind/h-m-faster-trending-products-weekly You can check it for more detail information. I will juse copy only code here"
   ]
  },
  {
   "cell_type": "code",
   "execution_count": 11,
   "id": "881b8d92",
   "metadata": {
    "execution": {
     "iopub.execute_input": "2022-04-13T02:51:45.806930Z",
     "iopub.status.busy": "2022-04-13T02:51:45.806322Z",
     "iopub.status.idle": "2022-04-13T02:52:35.586974Z",
     "shell.execute_reply": "2022-04-13T02:52:35.586041Z",
     "shell.execute_reply.started": "2022-04-13T02:17:03.239032Z"
    },
    "papermill": {
     "duration": 49.832459,
     "end_time": "2022-04-13T02:52:35.587147",
     "exception": false,
     "start_time": "2022-04-13T02:51:45.754688",
     "status": "completed"
    },
    "tags": []
   },
   "outputs": [],
   "source": [
    "sub0 = pd.read_csv('../input/hm-pre-recommendation/submissio_byfone_chris.csv').sort_values('customer_id').reset_index(drop=True)\n",
    "sub1 = pd.read_csv('../input/hm-pre-recommendation/submission_trending.csv').sort_values('customer_id').reset_index(drop=True)\n",
    "sub2 = pd.read_csv('../input/hm-pre-recommendation/submission_exponential_decay.csv').sort_values('customer_id').reset_index(drop=True)"
   ]
  },
  {
   "cell_type": "code",
   "execution_count": 12,
   "id": "8234cf66",
   "metadata": {
    "execution": {
     "iopub.execute_input": "2022-04-13T02:52:35.688697Z",
     "iopub.status.busy": "2022-04-13T02:52:35.687882Z",
     "iopub.status.idle": "2022-04-13T02:52:35.946069Z",
     "shell.execute_reply": "2022-04-13T02:52:35.946508Z",
     "shell.execute_reply.started": "2022-04-13T02:17:55.158238Z"
    },
    "papermill": {
     "duration": 0.311327,
     "end_time": "2022-04-13T02:52:35.946656",
     "exception": false,
     "start_time": "2022-04-13T02:52:35.635329",
     "status": "completed"
    },
    "tags": []
   },
   "outputs": [
    {
     "data": {
      "text/html": [
       "<div>\n",
       "<style scoped>\n",
       "    .dataframe tbody tr th:only-of-type {\n",
       "        vertical-align: middle;\n",
       "    }\n",
       "\n",
       "    .dataframe tbody tr th {\n",
       "        vertical-align: top;\n",
       "    }\n",
       "\n",
       "    .dataframe thead th {\n",
       "        text-align: right;\n",
       "    }\n",
       "</style>\n",
       "<table border=\"1\" class=\"dataframe\">\n",
       "  <thead>\n",
       "    <tr style=\"text-align: right;\">\n",
       "      <th></th>\n",
       "      <th>customer_id</th>\n",
       "      <th>prediction0</th>\n",
       "      <th>prediction1</th>\n",
       "      <th>prediction2</th>\n",
       "    </tr>\n",
       "  </thead>\n",
       "  <tbody>\n",
       "    <tr>\n",
       "      <th>0</th>\n",
       "      <td>00000dbacae5abe5e23885899a1fa44253a17956c6d1c3...</td>\n",
       "      <td>0568601043 0568601006 0656719005 0745232001 07...</td>\n",
       "      <td>0568601043 0568601006 0656719005 0745232001 07...</td>\n",
       "      <td>0568601043 0924243001 0924243002 0918522001 07...</td>\n",
       "    </tr>\n",
       "    <tr>\n",
       "      <th>1</th>\n",
       "      <td>0000423b00ade91418cceaf3b26c6af3dd342b51fd051e...</td>\n",
       "      <td>0826211002 0800436010 0739590027 0723529001 08...</td>\n",
       "      <td>0826211002 0800436010 0739590027 0723529001 08...</td>\n",
       "      <td>0924243001 0924243002 0918522001 0751471001 04...</td>\n",
       "    </tr>\n",
       "    <tr>\n",
       "      <th>2</th>\n",
       "      <td>000058a12d5b43e67d225668fa1f8d618c13dc232df0ca...</td>\n",
       "      <td>0794321007 0852643001 0852643003 0858883002 07...</td>\n",
       "      <td>0794321007 0852643001 0852643003 0858883002 07...</td>\n",
       "      <td>0794321007 0924243001 0924243002 0918522001 07...</td>\n",
       "    </tr>\n",
       "    <tr>\n",
       "      <th>3</th>\n",
       "      <td>00005ca1c9ed5f5146b52ac8639a40ca9d57aeff4d1bd2...</td>\n",
       "      <td>0448509014 0573085028 0751471001 0706016001 06...</td>\n",
       "      <td>0448509014 0573085028 0751471001 0706016001 06...</td>\n",
       "      <td>0924243001 0924243002 0918522001 0751471001 04...</td>\n",
       "    </tr>\n",
       "    <tr>\n",
       "      <th>4</th>\n",
       "      <td>00006413d8573cd20ed7128e53b7b13819fe5cfc2d801f...</td>\n",
       "      <td>0730683050 0791587015 0896152002 0818320001 09...</td>\n",
       "      <td>0730683050 0791587015 0896152002 0818320001 09...</td>\n",
       "      <td>0924243001 0924243002 0918522001 0751471001 04...</td>\n",
       "    </tr>\n",
       "  </tbody>\n",
       "</table>\n",
       "</div>"
      ],
      "text/plain": [
       "                                         customer_id  \\\n",
       "0  00000dbacae5abe5e23885899a1fa44253a17956c6d1c3...   \n",
       "1  0000423b00ade91418cceaf3b26c6af3dd342b51fd051e...   \n",
       "2  000058a12d5b43e67d225668fa1f8d618c13dc232df0ca...   \n",
       "3  00005ca1c9ed5f5146b52ac8639a40ca9d57aeff4d1bd2...   \n",
       "4  00006413d8573cd20ed7128e53b7b13819fe5cfc2d801f...   \n",
       "\n",
       "                                         prediction0  \\\n",
       "0  0568601043 0568601006 0656719005 0745232001 07...   \n",
       "1  0826211002 0800436010 0739590027 0723529001 08...   \n",
       "2  0794321007 0852643001 0852643003 0858883002 07...   \n",
       "3  0448509014 0573085028 0751471001 0706016001 06...   \n",
       "4  0730683050 0791587015 0896152002 0818320001 09...   \n",
       "\n",
       "                                         prediction1  \\\n",
       "0  0568601043 0568601006 0656719005 0745232001 07...   \n",
       "1  0826211002 0800436010 0739590027 0723529001 08...   \n",
       "2  0794321007 0852643001 0852643003 0858883002 07...   \n",
       "3  0448509014 0573085028 0751471001 0706016001 06...   \n",
       "4  0730683050 0791587015 0896152002 0818320001 09...   \n",
       "\n",
       "                                         prediction2  \n",
       "0  0568601043 0924243001 0924243002 0918522001 07...  \n",
       "1  0924243001 0924243002 0918522001 0751471001 04...  \n",
       "2  0794321007 0924243001 0924243002 0918522001 07...  \n",
       "3  0924243001 0924243002 0918522001 0751471001 04...  \n",
       "4  0924243001 0924243002 0918522001 0751471001 04...  "
      ]
     },
     "execution_count": 12,
     "metadata": {},
     "output_type": "execute_result"
    }
   ],
   "source": [
    "sub0.columns = ['customer_id', 'prediction0']\n",
    "sub0['prediction1'] = sub1['prediction']\n",
    "sub0['prediction2'] = sub2['prediction']\n",
    "del sub1, sub2\n",
    "gc.collect()\n",
    "sub0.head()"
   ]
  },
  {
   "cell_type": "code",
   "execution_count": 13,
   "id": "fb9ea389",
   "metadata": {
    "execution": {
     "iopub.execute_input": "2022-04-13T02:52:36.053493Z",
     "iopub.status.busy": "2022-04-13T02:52:36.051976Z",
     "iopub.status.idle": "2022-04-13T02:55:25.568935Z",
     "shell.execute_reply": "2022-04-13T02:55:25.569436Z",
     "shell.execute_reply.started": "2022-04-13T02:17:55.440891Z"
    },
    "papermill": {
     "duration": 169.575433,
     "end_time": "2022-04-13T02:55:25.569590",
     "exception": false,
     "start_time": "2022-04-13T02:52:35.994157",
     "status": "completed"
    },
    "tags": []
   },
   "outputs": [
    {
     "data": {
      "text/html": [
       "<div>\n",
       "<style scoped>\n",
       "    .dataframe tbody tr th:only-of-type {\n",
       "        vertical-align: middle;\n",
       "    }\n",
       "\n",
       "    .dataframe tbody tr th {\n",
       "        vertical-align: top;\n",
       "    }\n",
       "\n",
       "    .dataframe thead th {\n",
       "        text-align: right;\n",
       "    }\n",
       "</style>\n",
       "<table border=\"1\" class=\"dataframe\">\n",
       "  <thead>\n",
       "    <tr style=\"text-align: right;\">\n",
       "      <th></th>\n",
       "      <th>customer_id</th>\n",
       "      <th>prediction0</th>\n",
       "      <th>prediction1</th>\n",
       "      <th>prediction2</th>\n",
       "      <th>prediction</th>\n",
       "    </tr>\n",
       "  </thead>\n",
       "  <tbody>\n",
       "    <tr>\n",
       "      <th>0</th>\n",
       "      <td>00000dbacae5abe5e23885899a1fa44253a17956c6d1c3...</td>\n",
       "      <td>0568601043 0568601006 0656719005 0745232001 07...</td>\n",
       "      <td>0568601043 0568601006 0656719005 0745232001 07...</td>\n",
       "      <td>0568601043 0924243001 0924243002 0918522001 07...</td>\n",
       "      <td>0568601043 0568601006 0656719005 0745232001 09...</td>\n",
       "    </tr>\n",
       "    <tr>\n",
       "      <th>1</th>\n",
       "      <td>0000423b00ade91418cceaf3b26c6af3dd342b51fd051e...</td>\n",
       "      <td>0826211002 0800436010 0739590027 0723529001 08...</td>\n",
       "      <td>0826211002 0800436010 0739590027 0723529001 08...</td>\n",
       "      <td>0924243001 0924243002 0918522001 0751471001 04...</td>\n",
       "      <td>0826211002 0800436010 0924243001 0739590027 07...</td>\n",
       "    </tr>\n",
       "    <tr>\n",
       "      <th>2</th>\n",
       "      <td>000058a12d5b43e67d225668fa1f8d618c13dc232df0ca...</td>\n",
       "      <td>0794321007 0852643001 0852643003 0858883002 07...</td>\n",
       "      <td>0794321007 0852643001 0852643003 0858883002 07...</td>\n",
       "      <td>0794321007 0924243001 0924243002 0918522001 07...</td>\n",
       "      <td>0794321007 0852643001 0852643003 0858883002 09...</td>\n",
       "    </tr>\n",
       "    <tr>\n",
       "      <th>3</th>\n",
       "      <td>00005ca1c9ed5f5146b52ac8639a40ca9d57aeff4d1bd2...</td>\n",
       "      <td>0448509014 0573085028 0751471001 0706016001 06...</td>\n",
       "      <td>0448509014 0573085028 0751471001 0706016001 06...</td>\n",
       "      <td>0924243001 0924243002 0918522001 0751471001 04...</td>\n",
       "      <td>0448509014 0573085028 0924243001 0751471001 07...</td>\n",
       "    </tr>\n",
       "    <tr>\n",
       "      <th>4</th>\n",
       "      <td>00006413d8573cd20ed7128e53b7b13819fe5cfc2d801f...</td>\n",
       "      <td>0730683050 0791587015 0896152002 0818320001 09...</td>\n",
       "      <td>0730683050 0791587015 0896152002 0818320001 09...</td>\n",
       "      <td>0924243001 0924243002 0918522001 0751471001 04...</td>\n",
       "      <td>0730683050 0791587015 0924243001 0896152002 08...</td>\n",
       "    </tr>\n",
       "  </tbody>\n",
       "</table>\n",
       "</div>"
      ],
      "text/plain": [
       "                                         customer_id  \\\n",
       "0  00000dbacae5abe5e23885899a1fa44253a17956c6d1c3...   \n",
       "1  0000423b00ade91418cceaf3b26c6af3dd342b51fd051e...   \n",
       "2  000058a12d5b43e67d225668fa1f8d618c13dc232df0ca...   \n",
       "3  00005ca1c9ed5f5146b52ac8639a40ca9d57aeff4d1bd2...   \n",
       "4  00006413d8573cd20ed7128e53b7b13819fe5cfc2d801f...   \n",
       "\n",
       "                                         prediction0  \\\n",
       "0  0568601043 0568601006 0656719005 0745232001 07...   \n",
       "1  0826211002 0800436010 0739590027 0723529001 08...   \n",
       "2  0794321007 0852643001 0852643003 0858883002 07...   \n",
       "3  0448509014 0573085028 0751471001 0706016001 06...   \n",
       "4  0730683050 0791587015 0896152002 0818320001 09...   \n",
       "\n",
       "                                         prediction1  \\\n",
       "0  0568601043 0568601006 0656719005 0745232001 07...   \n",
       "1  0826211002 0800436010 0739590027 0723529001 08...   \n",
       "2  0794321007 0852643001 0852643003 0858883002 07...   \n",
       "3  0448509014 0573085028 0751471001 0706016001 06...   \n",
       "4  0730683050 0791587015 0896152002 0818320001 09...   \n",
       "\n",
       "                                         prediction2  \\\n",
       "0  0568601043 0924243001 0924243002 0918522001 07...   \n",
       "1  0924243001 0924243002 0918522001 0751471001 04...   \n",
       "2  0794321007 0924243001 0924243002 0918522001 07...   \n",
       "3  0924243001 0924243002 0918522001 0751471001 04...   \n",
       "4  0924243001 0924243002 0918522001 0751471001 04...   \n",
       "\n",
       "                                          prediction  \n",
       "0  0568601043 0568601006 0656719005 0745232001 09...  \n",
       "1  0826211002 0800436010 0924243001 0739590027 07...  \n",
       "2  0794321007 0852643001 0852643003 0858883002 09...  \n",
       "3  0448509014 0573085028 0924243001 0751471001 07...  \n",
       "4  0730683050 0791587015 0924243001 0896152002 08...  "
      ]
     },
     "execution_count": 13,
     "metadata": {},
     "output_type": "execute_result"
    }
   ],
   "source": [
    "def cust_blend(dt, W = [1,1,1]):\n",
    "    #Global ensemble weights\n",
    "    #W = [1.15,0.95,0.85]\n",
    "    \n",
    "    #Create a list of all model predictions\n",
    "    REC = []\n",
    "    REC.append(dt['prediction0'].split())\n",
    "    REC.append(dt['prediction1'].split())\n",
    "    REC.append(dt['prediction2'].split())\n",
    "    \n",
    "    #Create a dictionary of items recommended. \n",
    "    #Assign a weight according the order of appearance and multiply by global weights\n",
    "    res = {}\n",
    "    for M in range(len(REC)):\n",
    "        for n, v in enumerate(REC[M]):\n",
    "            if v in res:\n",
    "                res[v] += (W[M]/(n+1))\n",
    "            else:\n",
    "                res[v] = (W[M]/(n+1))\n",
    "    \n",
    "    # Sort dictionary by item weights\n",
    "    res = list(dict(sorted(res.items(), key=lambda item: -item[1])).keys())\n",
    "    \n",
    "    # Return the top 12 itens only\n",
    "    return ' '.join(res[:12])\n",
    "\n",
    "sub0['prediction'] = sub0.apply(cust_blend, W = [1.05,1.00,0.95], axis=1)\n",
    "sub0.head()"
   ]
  },
  {
   "cell_type": "code",
   "execution_count": 14,
   "id": "6b1504b9",
   "metadata": {
    "execution": {
     "iopub.execute_input": "2022-04-13T02:55:25.782546Z",
     "iopub.status.busy": "2022-04-13T02:55:25.781710Z",
     "iopub.status.idle": "2022-04-13T02:55:36.837577Z",
     "shell.execute_reply": "2022-04-13T02:55:36.837101Z",
     "shell.execute_reply.started": "2022-04-13T02:20:55.476368Z"
    },
    "papermill": {
     "duration": 11.220633,
     "end_time": "2022-04-13T02:55:36.837704",
     "exception": false,
     "start_time": "2022-04-13T02:55:25.617071",
     "status": "completed"
    },
    "tags": []
   },
   "outputs": [],
   "source": [
    "del sub0['prediction0']\n",
    "del sub0['prediction1']\n",
    "del sub0['prediction2']\n",
    "gc.collect()\n",
    "sub0.to_csv(f'submission.csv', index=False)"
   ]
  },
  {
   "cell_type": "code",
   "execution_count": 15,
   "id": "70413588",
   "metadata": {
    "execution": {
     "iopub.execute_input": "2022-04-13T02:55:37.053622Z",
     "iopub.status.busy": "2022-04-13T02:55:37.051899Z",
     "iopub.status.idle": "2022-04-13T02:55:37.055892Z",
     "shell.execute_reply": "2022-04-13T02:55:37.055426Z",
     "shell.execute_reply.started": "2022-04-13T02:21:06.791758Z"
    },
    "papermill": {
     "duration": 0.169692,
     "end_time": "2022-04-13T02:55:37.056036",
     "exception": false,
     "start_time": "2022-04-13T02:55:36.886344",
     "status": "completed"
    },
    "tags": []
   },
   "outputs": [
    {
     "data": {
      "text/plain": [
       "21"
      ]
     },
     "execution_count": 15,
     "metadata": {},
     "output_type": "execute_result"
    }
   ],
   "source": [
    "del sub0\n",
    "del df\n",
    "gc.collect()"
   ]
  },
  {
   "cell_type": "markdown",
   "id": "858f038c",
   "metadata": {
    "papermill": {
     "duration": 0.05181,
     "end_time": "2022-04-13T02:55:37.160906",
     "exception": false,
     "start_time": "2022-04-13T02:55:37.109096",
     "status": "completed"
    },
    "tags": []
   },
   "source": [
    "# 3. Create dataset and train model with Recbole\n",
    "\n",
    "For anyone need instruction document, please check this link: https://recbole.io/docs/user_guide/usage/use_modules.html\n",
    "for limiting memory and time traning, we will filter for only using user who bought more than 40 items and item which is sold more than 40 times. \n",
    "If you want to train with more data, please change below config\n",
    "* user_inter_num_interval\n",
    "* item_inter_num_interval"
   ]
  },
  {
   "cell_type": "code",
   "execution_count": 16,
   "id": "6a77eb43",
   "metadata": {
    "execution": {
     "iopub.execute_input": "2022-04-13T02:55:37.275441Z",
     "iopub.status.busy": "2022-04-13T02:55:37.274670Z",
     "iopub.status.idle": "2022-04-13T02:55:37.850374Z",
     "shell.execute_reply": "2022-04-13T02:55:37.656343Z",
     "shell.execute_reply.started": "2022-04-13T02:21:06.920068Z"
    },
    "papermill": {
     "duration": 0.637895,
     "end_time": "2022-04-13T02:55:37.850531",
     "exception": false,
     "start_time": "2022-04-13T02:55:37.212636",
     "status": "completed"
    },
    "tags": []
   },
   "outputs": [
    {
     "name": "stderr",
     "output_type": "stream",
     "text": [
      "\n",
      "General Hyper Parameters:\n",
      "gpu_id = 0\n",
      "use_gpu = True\n",
      "seed = 2020\n",
      "state = INFO\n",
      "reproducibility = True\n",
      "data_path = /kaggle/working/recbox_data\n",
      "checkpoint_dir = saved\n",
      "show_progress = True\n",
      "save_dataset = False\n",
      "dataset_save_path = None\n",
      "save_dataloaders = False\n",
      "dataloaders_save_path = None\n",
      "log_wandb = False\n",
      "\n",
      "Training Hyper Parameters:\n",
      "epochs = 10\n",
      "train_batch_size = 2048\n",
      "learner = adam\n",
      "learning_rate = 0.001\n",
      "neg_sampling = None\n",
      "eval_step = 1\n",
      "stopping_step = 10\n",
      "clip_grad_norm = None\n",
      "weight_decay = 0.0\n",
      "loss_decimal_place = 4\n",
      "\n",
      "Evaluation Hyper Parameters:\n",
      "eval_args = {'split': {'RS': [10, 0, 0]}, 'group_by': 'user', 'order': 'TO', 'mode': 'full'}\n",
      "repeatable = True\n",
      "metrics = ['Recall', 'MRR', 'NDCG', 'Hit', 'Precision']\n",
      "topk = [10]\n",
      "valid_metric = MRR@10\n",
      "valid_metric_bigger = True\n",
      "eval_batch_size = 4096\n",
      "metric_decimal_place = 4\n",
      "\n",
      "Dataset Hyper Parameters:\n",
      "field_separator = \t\n",
      "seq_separator =  \n",
      "USER_ID_FIELD = user_id\n",
      "ITEM_ID_FIELD = item_id\n",
      "RATING_FIELD = rating\n",
      "TIME_FIELD = timestamp\n",
      "seq_len = None\n",
      "LABEL_FIELD = label\n",
      "threshold = None\n",
      "NEG_PREFIX = neg_\n",
      "load_col = {'inter': ['user_id', 'item_id', 'timestamp'], 'item': ['item_id', 'product_code', 'product_type_no', 'product_group_name', 'graphical_appearance_no', 'colour_group_code', 'perceived_colour_value_id', 'perceived_colour_master_id', 'department_no', 'index_code', 'index_group_no', 'section_no', 'garment_group_no']}\n",
      "unload_col = None\n",
      "unused_col = None\n",
      "additional_feat_suffix = None\n",
      "rm_dup_inter = None\n",
      "val_interval = None\n",
      "filter_inter_by_user_or_item = True\n",
      "user_inter_num_interval = [35,inf)\n",
      "item_inter_num_interval = [40,inf)\n",
      "alias_of_user_id = None\n",
      "alias_of_item_id = None\n",
      "alias_of_entity_id = None\n",
      "alias_of_relation_id = None\n",
      "preload_weight = None\n",
      "normalize_field = None\n",
      "normalize_all = None\n",
      "ITEM_LIST_LENGTH_FIELD = item_length\n",
      "LIST_SUFFIX = _list\n",
      "MAX_ITEM_LIST_LENGTH = 50\n",
      "POSITION_FIELD = position_id\n",
      "HEAD_ENTITY_ID_FIELD = head_id\n",
      "TAIL_ENTITY_ID_FIELD = tail_id\n",
      "RELATION_ID_FIELD = relation_id\n",
      "ENTITY_ID_FIELD = entity_id\n",
      "benchmark_filename = None\n",
      "\n",
      "Other Hyper Parameters: \n",
      "wandb_project = recbole\n",
      "require_pow = False\n",
      "n_layers = 2\n",
      "n_heads = 2\n",
      "hidden_size = 64\n",
      "inner_size = 256\n",
      "hidden_dropout_prob = 0.5\n",
      "attn_dropout_prob = 0.5\n",
      "hidden_act = gelu\n",
      "layer_norm_eps = 1e-12\n",
      "initializer_range = 0.02\n",
      "selected_features = ['product_code', 'product_type_no', 'product_group_name', 'graphical_appearance_no', 'colour_group_code', 'perceived_colour_value_id', 'perceived_colour_master_id', 'department_no', 'index_code', 'index_group_no', 'section_no', 'garment_group_no']\n",
      "pooling_mode = sum\n",
      "loss_type = CE\n",
      "MODEL_TYPE = ModelType.SEQUENTIAL\n",
      "MODEL_INPUT_TYPE = InputType.POINTWISE\n",
      "eval_type = EvaluatorType.RANKING\n",
      "device = cuda\n",
      "train_neg_sample_args = {'strategy': 'none'}\n",
      "eval_neg_sample_args = {'strategy': 'full', 'distribution': 'uniform'}\n",
      "\n",
      "\n"
     ]
    }
   ],
   "source": [
    "parameter_dict = {\n",
    "    'data_path': '/kaggle/working',\n",
    "    'USER_ID_FIELD': 'user_id',\n",
    "    'ITEM_ID_FIELD': 'item_id',\n",
    "    'TIME_FIELD': 'timestamp',\n",
    "    'user_inter_num_interval': \"[35,inf)\",\n",
    "    'item_inter_num_interval': \"[40,inf)\",\n",
    "    'load_col': {'inter': ['user_id', 'item_id', 'timestamp'],\n",
    "                 'item': ['item_id', 'product_code', 'product_type_no', 'product_group_name', 'graphical_appearance_no',\n",
    "                      'colour_group_code', 'perceived_colour_value_id', 'perceived_colour_master_id',\n",
    "                      'department_no', 'index_code', 'index_group_no', 'section_no', 'garment_group_no']\n",
    "             },\n",
    "    'selected_features': ['product_code', 'product_type_no', 'product_group_name', 'graphical_appearance_no',\n",
    "                          'colour_group_code', 'perceived_colour_value_id', 'perceived_colour_master_id',\n",
    "                          'department_no', 'index_code', 'index_group_no', 'section_no', 'garment_group_no'],\n",
    "    'neg_sampling': None,\n",
    "    'epochs': 10,\n",
    "    'eval_args': {\n",
    "        'split': {'RS': [10, 0, 0]},\n",
    "        'group_by': 'user',\n",
    "        'order': 'TO',\n",
    "        'mode': 'full'}\n",
    "}\n",
    "\n",
    "config = Config(model=str(model_label).split(\"'\")[1].split(\".\")[-1], \n",
    "                dataset='recbox_data', \n",
    "                config_dict=parameter_dict)\n",
    "\n",
    "# init random seed\n",
    "init_seed(config['seed'], config['reproducibility'])\n",
    "\n",
    "# logger initialization\n",
    "init_logger(config)\n",
    "logger = getLogger()\n",
    "# Create handlers\n",
    "c_handler = logging.StreamHandler()\n",
    "c_handler.setLevel(logging.INFO)\n",
    "logger.addHandler(c_handler)\n",
    "\n",
    "# write config info into log\n",
    "logger.info(config)"
   ]
  },
  {
   "cell_type": "code",
   "execution_count": 17,
   "id": "da3f1fec",
   "metadata": {
    "execution": {
     "iopub.execute_input": "2022-04-13T02:55:38.171148Z",
     "iopub.status.busy": "2022-04-13T02:55:38.170187Z",
     "iopub.status.idle": "2022-04-13T02:56:54.095349Z",
     "shell.execute_reply": "2022-04-13T02:56:54.081299Z",
     "shell.execute_reply.started": "2022-04-13T02:21:07.269161Z"
    },
    "papermill": {
     "duration": 76.084363,
     "end_time": "2022-04-13T02:56:54.095489",
     "exception": false,
     "start_time": "2022-04-13T02:55:38.011126",
     "status": "completed"
    },
    "tags": []
   },
   "outputs": [
    {
     "name": "stderr",
     "output_type": "stream",
     "text": [
      "recbox_data\n",
      "The number of users: 22808\n",
      "Average actions of users: 53.07984390757224\n",
      "The number of items: 8556\n",
      "Average actions of items: 141.50695499707774\n",
      "The number of inters: 1210592\n",
      "The sparsity of the dataset: 99.37964566782584%\n",
      "Remain Fields: ['user_id', 'item_id', 'timestamp', 'product_code', 'product_type_no', 'product_group_name', 'graphical_appearance_no', 'colour_group_code', 'perceived_colour_value_id', 'perceived_colour_master_id', 'department_no', 'index_code', 'index_group_no', 'section_no', 'garment_group_no']\n"
     ]
    }
   ],
   "source": [
    "dataset = create_dataset(config)\n",
    "logger.info(dataset)"
   ]
  },
  {
   "cell_type": "code",
   "execution_count": 18,
   "id": "90610c6c",
   "metadata": {
    "execution": {
     "iopub.execute_input": "2022-04-13T02:56:54.424528Z",
     "iopub.status.busy": "2022-04-13T02:56:54.423864Z",
     "iopub.status.idle": "2022-04-13T02:57:12.046073Z",
     "shell.execute_reply": "2022-04-13T02:57:12.039605Z",
     "shell.execute_reply.started": "2022-04-13T02:22:26.228418Z"
    },
    "papermill": {
     "duration": 17.791227,
     "end_time": "2022-04-13T02:57:12.046244",
     "exception": false,
     "start_time": "2022-04-13T02:56:54.255017",
     "status": "completed"
    },
    "tags": []
   },
   "outputs": [
    {
     "name": "stderr",
     "output_type": "stream",
     "text": [
      "[Training]: train_batch_size = [2048] negative sampling: [None]\n",
      "[Evaluation]: eval_batch_size = [4096] eval_args: [{'split': {'RS': [10, 0, 0]}, 'group_by': 'user', 'order': 'TO', 'mode': 'full'}]\n"
     ]
    }
   ],
   "source": [
    "# dataset splitting\n",
    "train_data, valid_data, test_data = data_preparation(config, dataset)"
   ]
  },
  {
   "cell_type": "code",
   "execution_count": 19,
   "id": "54b9fc38",
   "metadata": {
    "execution": {
     "iopub.execute_input": "2022-04-13T02:57:12.498997Z",
     "iopub.status.busy": "2022-04-13T02:57:12.494732Z",
     "iopub.status.idle": "2022-04-13T03:14:57.319812Z",
     "shell.execute_reply": "2022-04-13T03:14:57.321386Z",
     "shell.execute_reply.started": "2022-04-13T02:22:44.338221Z"
    },
    "papermill": {
     "duration": 1065.102628,
     "end_time": "2022-04-13T03:14:57.321680",
     "exception": false,
     "start_time": "2022-04-13T02:57:12.219052",
     "status": "completed"
    },
    "scrolled": true,
    "tags": []
   },
   "outputs": [
    {
     "name": "stderr",
     "output_type": "stream",
     "text": [
      "SASRecF(\n",
      "  (item_embedding): Embedding(8556, 64, padding_idx=0)\n",
      "  (position_embedding): Embedding(50, 64)\n",
      "  (feature_embed_layer): FeatureSeqEmbLayer(\n",
      "    (token_embedding_table): ModuleDict(\n",
      "      (item): FMEmbedding(\n",
      "        (embedding): Embedding(4557, 64)\n",
      "      )\n",
      "    )\n",
      "    (float_embedding_table): ModuleDict(\n",
      "      (item): Embedding(1, 64)\n",
      "    )\n",
      "    (token_seq_embedding_table): ModuleDict(\n",
      "      (item): ModuleList(\n",
      "        (0): Embedding(16, 64)\n",
      "      )\n",
      "    )\n",
      "  )\n",
      "  (trm_encoder): TransformerEncoder(\n",
      "    (layer): ModuleList(\n",
      "      (0): TransformerLayer(\n",
      "        (multi_head_attention): MultiHeadAttention(\n",
      "          (query): Linear(in_features=64, out_features=64, bias=True)\n",
      "          (key): Linear(in_features=64, out_features=64, bias=True)\n",
      "          (value): Linear(in_features=64, out_features=64, bias=True)\n",
      "          (softmax): Softmax(dim=-1)\n",
      "          (attn_dropout): Dropout(p=0.5, inplace=False)\n",
      "          (dense): Linear(in_features=64, out_features=64, bias=True)\n",
      "          (LayerNorm): LayerNorm((64,), eps=1e-12, elementwise_affine=True)\n",
      "          (out_dropout): Dropout(p=0.5, inplace=False)\n",
      "        )\n",
      "        (feed_forward): FeedForward(\n",
      "          (dense_1): Linear(in_features=64, out_features=256, bias=True)\n",
      "          (dense_2): Linear(in_features=256, out_features=64, bias=True)\n",
      "          (LayerNorm): LayerNorm((64,), eps=1e-12, elementwise_affine=True)\n",
      "          (dropout): Dropout(p=0.5, inplace=False)\n",
      "        )\n",
      "      )\n",
      "      (1): TransformerLayer(\n",
      "        (multi_head_attention): MultiHeadAttention(\n",
      "          (query): Linear(in_features=64, out_features=64, bias=True)\n",
      "          (key): Linear(in_features=64, out_features=64, bias=True)\n",
      "          (value): Linear(in_features=64, out_features=64, bias=True)\n",
      "          (softmax): Softmax(dim=-1)\n",
      "          (attn_dropout): Dropout(p=0.5, inplace=False)\n",
      "          (dense): Linear(in_features=64, out_features=64, bias=True)\n",
      "          (LayerNorm): LayerNorm((64,), eps=1e-12, elementwise_affine=True)\n",
      "          (out_dropout): Dropout(p=0.5, inplace=False)\n",
      "        )\n",
      "        (feed_forward): FeedForward(\n",
      "          (dense_1): Linear(in_features=64, out_features=256, bias=True)\n",
      "          (dense_2): Linear(in_features=256, out_features=64, bias=True)\n",
      "          (LayerNorm): LayerNorm((64,), eps=1e-12, elementwise_affine=True)\n",
      "          (dropout): Dropout(p=0.5, inplace=False)\n",
      "        )\n",
      "      )\n",
      "    )\n",
      "  )\n",
      "  (concat_layer): Linear(in_features=832, out_features=64, bias=True)\n",
      "  (LayerNorm): LayerNorm((64,), eps=1e-12, elementwise_affine=True)\n",
      "  (dropout): Dropout(p=0.5, inplace=False)\n",
      "  (loss_fct): CrossEntropyLoss()\n",
      ")\n",
      "Trainable parameters: 996928\n",
      "epoch 0 training [time: 105.22s, train loss: 4891.3271]\n",
      "Saving current: saved/SASRecF-Apr-13-2022_02-57-18.pth\n",
      "epoch 1 training [time: 102.68s, train loss: 4412.7413]\n",
      "Saving current: saved/SASRecF-Apr-13-2022_02-57-18.pth\n",
      "epoch 2 training [time: 102.65s, train loss: 4245.8524]\n",
      "Saving current: saved/SASRecF-Apr-13-2022_02-57-18.pth\n",
      "epoch 3 training [time: 102.82s, train loss: 4169.2825]\n",
      "Saving current: saved/SASRecF-Apr-13-2022_02-57-18.pth\n",
      "epoch 4 training [time: 102.98s, train loss: 4125.9115]\n",
      "Saving current: saved/SASRecF-Apr-13-2022_02-57-18.pth\n",
      "epoch 5 training [time: 102.95s, train loss: 4096.2514]\n",
      "Saving current: saved/SASRecF-Apr-13-2022_02-57-18.pth\n",
      "epoch 6 training [time: 102.70s, train loss: 4074.5395]\n",
      "Saving current: saved/SASRecF-Apr-13-2022_02-57-18.pth\n",
      "epoch 7 training [time: 102.72s, train loss: 4058.0036]\n",
      "Saving current: saved/SASRecF-Apr-13-2022_02-57-18.pth\n",
      "epoch 8 training [time: 102.75s, train loss: 4044.1563]\n",
      "Saving current: saved/SASRecF-Apr-13-2022_02-57-18.pth\n",
      "epoch 9 training [time: 103.04s, train loss: 4033.4372]\n",
      "Saving current: saved/SASRecF-Apr-13-2022_02-57-18.pth\n"
     ]
    }
   ],
   "source": [
    "# model loading and initialization\n",
    "model = model_label(config, train_data.dataset).to(config['device'])\n",
    "logger.info(model)\n",
    "\n",
    "# trainer loading and initialization\n",
    "trainer = Trainer(config, model)\n",
    "\n",
    "# model training\n",
    "best_valid_score, best_valid_result = trainer.fit(train_data)"
   ]
  },
  {
   "cell_type": "markdown",
   "id": "a45740db",
   "metadata": {
    "papermill": {
     "duration": 0.196834,
     "end_time": "2022-04-13T03:14:57.714075",
     "exception": false,
     "start_time": "2022-04-13T03:14:57.517241",
     "status": "completed"
    },
    "tags": []
   },
   "source": [
    "# 4. Create recommendation result from trained model\n",
    "\n",
    "I note document here for any one want to customize it: https://recbole.io/docs/user_guide/usage/case_study.html"
   ]
  },
  {
   "cell_type": "code",
   "execution_count": 20,
   "id": "2ef85bf1",
   "metadata": {
    "execution": {
     "iopub.execute_input": "2022-04-13T03:14:58.116036Z",
     "iopub.status.busy": "2022-04-13T03:14:58.115201Z",
     "iopub.status.idle": "2022-04-13T03:14:58.119144Z",
     "shell.execute_reply": "2022-04-13T03:14:58.118624Z",
     "shell.execute_reply.started": "2022-04-13T02:40:17.933788Z"
    },
    "papermill": {
     "duration": 0.208354,
     "end_time": "2022-04-13T03:14:58.119270",
     "exception": false,
     "start_time": "2022-04-13T03:14:57.910916",
     "status": "completed"
    },
    "tags": []
   },
   "outputs": [],
   "source": [
    "external_user_ids = dataset.id2token(\n",
    "    dataset.uid_field, list(range(dataset.user_num)))[1:]#fist element in array is 'PAD'(default of Recbole) ->remove it "
   ]
  },
  {
   "cell_type": "code",
   "execution_count": 21,
   "id": "395e446a",
   "metadata": {
    "execution": {
     "iopub.execute_input": "2022-04-13T03:14:58.534492Z",
     "iopub.status.busy": "2022-04-13T03:14:58.533253Z",
     "iopub.status.idle": "2022-04-13T03:14:58.536430Z",
     "shell.execute_reply": "2022-04-13T03:14:58.535945Z",
     "shell.execute_reply.started": "2022-04-13T02:40:17.946417Z"
    },
    "papermill": {
     "duration": 0.213499,
     "end_time": "2022-04-13T03:14:58.536550",
     "exception": false,
     "start_time": "2022-04-13T03:14:58.323051",
     "status": "completed"
    },
    "tags": []
   },
   "outputs": [],
   "source": [
    "def add_last_item(old_interaction, last_item_id, max_len=50):\n",
    "    new_seq_items = old_interaction['item_id_list'][-1]\n",
    "    if old_interaction['item_length'][-1].item() < max_len:\n",
    "        new_seq_items[old_interaction['item_length'][-1].item()] = last_item_id\n",
    "    else:\n",
    "        new_seq_items = torch.roll(new_seq_items, -1)\n",
    "        new_seq_items[-1] = last_item_id\n",
    "    return new_seq_items.view(1, len(new_seq_items))\n",
    "\n",
    "def predict_for_all_item(external_user_id, dataset, model):\n",
    "    model.eval()\n",
    "    with torch.no_grad():\n",
    "        uid_series = dataset.token2id(dataset.uid_field, [external_user_id])\n",
    "        index = np.isin(dataset.inter_feat[dataset.uid_field].numpy(), uid_series)\n",
    "        input_interaction = dataset[index]\n",
    "        test = {\n",
    "            'item_id_list': add_last_item(input_interaction, \n",
    "                                          input_interaction['item_id'][-1].item(), model.max_seq_length),\n",
    "            'item_length': torch.tensor(\n",
    "                [input_interaction['item_length'][-1].item() + 1\n",
    "                 if input_interaction['item_length'][-1].item() < model.max_seq_length else model.max_seq_length])\n",
    "        }\n",
    "        new_inter = Interaction(test)\n",
    "        new_inter = new_inter.to(config['device'])\n",
    "        new_scores = model.full_sort_predict(new_inter)\n",
    "        new_scores = new_scores.view(-1, test_data.dataset.item_num)\n",
    "        new_scores[:, 0] = -np.inf  # set scores of [pad] to -inf\n",
    "    return torch.topk(new_scores, 12)"
   ]
  },
  {
   "cell_type": "code",
   "execution_count": 22,
   "id": "84b6010d",
   "metadata": {
    "execution": {
     "iopub.execute_input": "2022-04-13T03:14:58.922489Z",
     "iopub.status.busy": "2022-04-13T03:14:58.921679Z",
     "iopub.status.idle": "2022-04-13T03:22:30.579485Z",
     "shell.execute_reply": "2022-04-13T03:22:30.578779Z",
     "shell.execute_reply.started": "2022-04-13T02:40:18.939726Z"
    },
    "papermill": {
     "duration": 451.852202,
     "end_time": "2022-04-13T03:22:30.579659",
     "exception": false,
     "start_time": "2022-04-13T03:14:58.727457",
     "status": "completed"
    },
    "tags": []
   },
   "outputs": [
    {
     "name": "stdout",
     "output_type": "stream",
     "text": [
      "22807\n"
     ]
    }
   ],
   "source": [
    "topk_items = []\n",
    "for external_user_id in external_user_ids:\n",
    "    _, topk_iid_list = predict_for_all_item(external_user_id, dataset, model)\n",
    "    last_topk_iid_list = topk_iid_list[-1]\n",
    "    external_item_list = dataset.id2token(dataset.iid_field, last_topk_iid_list.cpu()).tolist()\n",
    "    topk_items.append(external_item_list)\n",
    "print(len(topk_items))"
   ]
  },
  {
   "cell_type": "code",
   "execution_count": 23,
   "id": "7d8793f6",
   "metadata": {
    "execution": {
     "iopub.execute_input": "2022-04-13T03:22:31.121503Z",
     "iopub.status.busy": "2022-04-13T03:22:31.120704Z",
     "iopub.status.idle": "2022-04-13T03:22:31.124027Z",
     "shell.execute_reply": "2022-04-13T03:22:31.124428Z",
     "shell.execute_reply.started": "2022-04-13T02:47:44.107352Z"
    },
    "papermill": {
     "duration": 0.232793,
     "end_time": "2022-04-13T03:22:31.124574",
     "exception": false,
     "start_time": "2022-04-13T03:22:30.891781",
     "status": "completed"
    },
    "tags": []
   },
   "outputs": [
    {
     "data": {
      "text/html": [
       "<div>\n",
       "<style scoped>\n",
       "    .dataframe tbody tr th:only-of-type {\n",
       "        vertical-align: middle;\n",
       "    }\n",
       "\n",
       "    .dataframe tbody tr th {\n",
       "        vertical-align: top;\n",
       "    }\n",
       "\n",
       "    .dataframe thead th {\n",
       "        text-align: right;\n",
       "    }\n",
       "</style>\n",
       "<table border=\"1\" class=\"dataframe\">\n",
       "  <thead>\n",
       "    <tr style=\"text-align: right;\">\n",
       "      <th></th>\n",
       "      <th>customer_id</th>\n",
       "      <th>prediction</th>\n",
       "    </tr>\n",
       "  </thead>\n",
       "  <tbody>\n",
       "    <tr>\n",
       "      <th>0</th>\n",
       "      <td>00d7ebd46f6a6d53630d41386b6ef6a505cdc4c80011ff...</td>\n",
       "      <td>0918522001 0924243001 0918525001 0910601003 09...</td>\n",
       "    </tr>\n",
       "    <tr>\n",
       "      <th>1</th>\n",
       "      <td>00eebac2c2e37626461e74e8395711964c4e01a7afa643...</td>\n",
       "      <td>0916468003 0915526001 0915526002 0916468001 09...</td>\n",
       "    </tr>\n",
       "    <tr>\n",
       "      <th>2</th>\n",
       "      <td>0109ad0b5a76924a1b58be677409bb601cc8bead9a87b8...</td>\n",
       "      <td>0901955001 0861477001 0834217009 0901955002 06...</td>\n",
       "    </tr>\n",
       "    <tr>\n",
       "      <th>3</th>\n",
       "      <td>013f00f9e218549246a3aa82b3f3a0c22a693bc25fa735...</td>\n",
       "      <td>0839402002 0770336003 0770336001 0865172002 08...</td>\n",
       "    </tr>\n",
       "    <tr>\n",
       "      <th>4</th>\n",
       "      <td>01bada2a453b09c70ea57bdda5a9ef0fb04062718d3a3d...</td>\n",
       "      <td>0724906006 0724906009 0724904002 0746069006 08...</td>\n",
       "    </tr>\n",
       "  </tbody>\n",
       "</table>\n",
       "</div>"
      ],
      "text/plain": [
       "                                         customer_id  \\\n",
       "0  00d7ebd46f6a6d53630d41386b6ef6a505cdc4c80011ff...   \n",
       "1  00eebac2c2e37626461e74e8395711964c4e01a7afa643...   \n",
       "2  0109ad0b5a76924a1b58be677409bb601cc8bead9a87b8...   \n",
       "3  013f00f9e218549246a3aa82b3f3a0c22a693bc25fa735...   \n",
       "4  01bada2a453b09c70ea57bdda5a9ef0fb04062718d3a3d...   \n",
       "\n",
       "                                          prediction  \n",
       "0  0918522001 0924243001 0918525001 0910601003 09...  \n",
       "1  0916468003 0915526001 0915526002 0916468001 09...  \n",
       "2  0901955001 0861477001 0834217009 0901955002 06...  \n",
       "3  0839402002 0770336003 0770336001 0865172002 08...  \n",
       "4  0724906006 0724906009 0724904002 0746069006 08...  "
      ]
     },
     "execution_count": 23,
     "metadata": {},
     "output_type": "execute_result"
    }
   ],
   "source": [
    "external_item_str = [' '.join(x) for x in topk_items]\n",
    "result = pd.DataFrame(external_user_ids, columns=['customer_id'])\n",
    "result['prediction'] = external_item_str\n",
    "result.head()"
   ]
  },
  {
   "cell_type": "code",
   "execution_count": 24,
   "id": "afd5206a",
   "metadata": {
    "execution": {
     "iopub.execute_input": "2022-04-13T03:22:31.720459Z",
     "iopub.status.busy": "2022-04-13T03:22:31.719217Z",
     "iopub.status.idle": "2022-04-13T03:22:31.723877Z",
     "shell.execute_reply": "2022-04-13T03:22:31.723466Z",
     "shell.execute_reply.started": "2022-04-13T02:47:44.139189Z"
    },
    "papermill": {
     "duration": 0.409555,
     "end_time": "2022-04-13T03:22:31.724016",
     "exception": false,
     "start_time": "2022-04-13T03:22:31.314461",
     "status": "completed"
    },
    "tags": []
   },
   "outputs": [
    {
     "data": {
      "text/plain": [
       "42"
      ]
     },
     "execution_count": 24,
     "metadata": {},
     "output_type": "execute_result"
    }
   ],
   "source": [
    "del external_item_str\n",
    "del topk_items\n",
    "del external_user_ids\n",
    "del train_data\n",
    "del valid_data\n",
    "del test_data\n",
    "del model\n",
    "del Trainer\n",
    "del logger\n",
    "del dataset\n",
    "gc.collect()"
   ]
  },
  {
   "cell_type": "markdown",
   "id": "d06c6e9e",
   "metadata": {
    "papermill": {
     "duration": 0.203042,
     "end_time": "2022-04-13T03:22:32.115945",
     "exception": false,
     "start_time": "2022-04-13T03:22:31.912903",
     "status": "completed"
    },
    "tags": []
   },
   "source": [
    "# 5. Combine result from most bought items and NN model"
   ]
  },
  {
   "cell_type": "code",
   "execution_count": 25,
   "id": "6a8de09c",
   "metadata": {
    "execution": {
     "iopub.execute_input": "2022-04-13T03:22:32.538403Z",
     "iopub.status.busy": "2022-04-13T03:22:32.537792Z",
     "iopub.status.idle": "2022-04-13T03:23:00.068759Z",
     "shell.execute_reply": "2022-04-13T03:23:00.067797Z",
     "shell.execute_reply.started": "2022-04-13T02:47:44.361727Z"
    },
    "papermill": {
     "duration": 27.745129,
     "end_time": "2022-04-13T03:23:00.068911",
     "exception": false,
     "start_time": "2022-04-13T03:22:32.323782",
     "status": "completed"
    },
    "tags": []
   },
   "outputs": [],
   "source": [
    "submit_df = pd.read_csv('submission.csv')\n",
    "submit_df = pd.merge(submit_df, result, on='customer_id', how='outer')\n",
    "if VALID:\n",
    "    valid_users = list(submit_df[~submit_df.prediction_y.isnull()][\"customer_id\"])\n",
    "submit_df = submit_df.fillna(-1)\n",
    "submit_df['prediction'] = submit_df.apply(\n",
    "    lambda x: x['prediction_y'] if x['prediction_y'] != -1 else x['prediction_x'], axis=1)\n",
    "submit_df = submit_df.drop(columns=['prediction_y', 'prediction_x'])"
   ]
  },
  {
   "cell_type": "code",
   "execution_count": 26,
   "id": "0c710f99",
   "metadata": {
    "execution": {
     "iopub.execute_input": "2022-04-13T03:23:00.514613Z",
     "iopub.status.busy": "2022-04-13T03:23:00.513576Z",
     "iopub.status.idle": "2022-04-13T03:23:07.423039Z",
     "shell.execute_reply": "2022-04-13T03:23:07.423552Z",
     "shell.execute_reply.started": "2022-04-13T02:48:48.222857Z"
    },
    "papermill": {
     "duration": 7.166243,
     "end_time": "2022-04-13T03:23:07.423745",
     "exception": false,
     "start_time": "2022-04-13T03:23:00.257502",
     "status": "completed"
    },
    "tags": []
   },
   "outputs": [
    {
     "name": "stdout",
     "output_type": "stream",
     "text": [
      "t 0.003898710608011816 68984\n",
      "v 0.0014202424616743977 6086\n",
      "  \n",
      "0448509014 0573085028 0924243001 0751471001 0706016001 0924243002 0673677002 0715624001 0918522001 0706016003 0158340001 0579541001    316809\n",
      "0706016001 0448509014 0924243001 0751471001 0573085028 0706016002 0924243002 0673677002 0918522001 0715624001 0706016003 0158340001       749\n",
      "0568601006 0448509014 0924243001 0751471001 0573085028 0568597006 0924243002 0706016001 0673677002 0918522001 0715624001 0706016003       702\n",
      "0720125001 0448509014 0924243001 0706016001 0751471001 0573085028 0924243002 0673677002 0918522001 0715624001 0706016003 0158340001       621\n",
      "0673396002 0448509014 0924243001 0706016001 0751471001 0573085028 0924243002 0673677002 0918522001 0715624001 0706016003 0158340001       591\n",
      "                                                                                                                                        ...  \n",
      "0856992001 0868161002 0924243001 0851400001 0868161001 0924243002 0841807004 0854247001 0918522001 0841807005 0879166005 0751471001         1\n",
      "0611415001 0111565001 0448509014 0924243001 0673677004 0924243002 0694127001 0749699001 0918522001 0824255001 0714790003 0751471001         1\n",
      "0850917001 0655784001 0924243001 0448509014 0751471001 0924243002 0573085028 0507909001 0918522001 0706016001 0796210001 0673677002         1\n",
      "0714790020 0714790024 0924243001 0448509014 0689813002 0751471001 0924243002 0573085028 0918522001 0706016001 0673677002 0715624001         1\n",
      "0882810001 0714790020 0924243001 0821395003 0448509014 0866755002 0924243002 0840360003 0751471001 0706016001 0918522001 0464297007         1\n",
      "Name: prediction, Length: 859714, dtype: int64\n"
     ]
    }
   ],
   "source": [
    "# local score\n",
    "if VALID:\n",
    "    sub_check = submit_df.copy()\n",
    "    sub_check = sub_check.set_index('customer_id').reset_index()\n",
    "    print(\"t\", mapk(valid.prediction.str.split(), sub_check.prediction.str.split(), k=12), valid.shape[0])    \n",
    "    print(\"v\", \n",
    "            mapk(valid[valid.customer_id.isin(valid_users)].prediction.str.split(), \n",
    "               sub_check[sub_check.customer_id.isin(valid_users)].prediction.str.split(), k=12),\n",
    "            valid[valid.customer_id.isin(valid_users)].shape[0])    \n",
    "    print(\"  \")\n",
    "    print(sub_check[\"prediction\"].value_counts())  "
   ]
  },
  {
   "cell_type": "code",
   "execution_count": 27,
   "id": "d87b2c41",
   "metadata": {
    "execution": {
     "iopub.execute_input": "2022-04-13T03:23:08.138740Z",
     "iopub.status.busy": "2022-04-13T03:23:08.136454Z",
     "iopub.status.idle": "2022-04-13T03:23:19.625601Z",
     "shell.execute_reply": "2022-04-13T03:23:19.626877Z"
    },
    "papermill": {
     "duration": 11.845677,
     "end_time": "2022-04-13T03:23:19.627138",
     "exception": false,
     "start_time": "2022-04-13T03:23:07.781461",
     "status": "completed"
    },
    "tags": []
   },
   "outputs": [],
   "source": [
    "submit_df.to_csv('submission.csv', index=False)"
   ]
  }
 ],
 "metadata": {
  "kernelspec": {
   "display_name": "Python 3",
   "language": "python",
   "name": "python3"
  },
  "language_info": {
   "codemirror_mode": {
    "name": "ipython",
    "version": 3
   },
   "file_extension": ".py",
   "mimetype": "text/x-python",
   "name": "python",
   "nbconvert_exporter": "python",
   "pygments_lexer": "ipython3",
   "version": "3.7.12"
  },
  "papermill": {
   "default_parameters": {},
   "duration": 2031.857774,
   "end_time": "2022-04-13T03:23:22.642613",
   "environment_variables": {},
   "exception": null,
   "input_path": "__notebook__.ipynb",
   "output_path": "__notebook__.ipynb",
   "parameters": {},
   "start_time": "2022-04-13T02:49:30.784839",
   "version": "2.3.3"
  }
 },
 "nbformat": 4,
 "nbformat_minor": 5
}
