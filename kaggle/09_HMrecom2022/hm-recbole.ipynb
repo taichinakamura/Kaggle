{
 "cells": [
  {
   "cell_type": "code",
   "execution_count": 1,
   "id": "04dd28e8",
   "metadata": {
    "execution": {
     "iopub.execute_input": "2022-04-13T10:50:08.418426Z",
     "iopub.status.busy": "2022-04-13T10:50:08.417593Z",
     "iopub.status.idle": "2022-04-13T10:50:25.390706Z",
     "shell.execute_reply": "2022-04-13T10:50:25.389562Z",
     "shell.execute_reply.started": "2022-04-13T09:48:53.656969Z"
    },
    "papermill": {
     "duration": 17.010584,
     "end_time": "2022-04-13T10:50:25.390912",
     "exception": false,
     "start_time": "2022-04-13T10:50:08.380328",
     "status": "completed"
    },
    "tags": []
   },
   "outputs": [
    {
     "name": "stdout",
     "output_type": "stream",
     "text": [
      "Collecting recbole\r\n",
      "  Downloading recbole-1.0.1-py3-none-any.whl (2.0 MB)\r\n",
      "     |████████████████████████████████| 2.0 MB 607 kB/s            \r\n",
      "\u001b[?25hRequirement already satisfied: scikit-learn>=0.23.2 in /opt/conda/lib/python3.7/site-packages (from recbole) (0.23.2)\r\n",
      "Collecting scipy==1.6.0\r\n",
      "  Downloading scipy-1.6.0-cp37-cp37m-manylinux1_x86_64.whl (27.4 MB)\r\n",
      "     |████████████████████████████████| 27.4 MB 51.3 MB/s            \r\n",
      "\u001b[?25hRequirement already satisfied: tqdm>=4.48.2 in /opt/conda/lib/python3.7/site-packages (from recbole) (4.62.3)\r\n",
      "Collecting colorlog==4.7.2\r\n",
      "  Downloading colorlog-4.7.2-py2.py3-none-any.whl (10 kB)\r\n",
      "Requirement already satisfied: torch>=1.7.0 in /opt/conda/lib/python3.7/site-packages (from recbole) (1.9.1)\r\n",
      "Requirement already satisfied: colorama==0.4.4 in /opt/conda/lib/python3.7/site-packages (from recbole) (0.4.4)\r\n",
      "Requirement already satisfied: pandas>=1.0.5 in /opt/conda/lib/python3.7/site-packages (from recbole) (1.3.5)\r\n",
      "Requirement already satisfied: tensorboard>=2.5.0 in /opt/conda/lib/python3.7/site-packages (from recbole) (2.6.0)\r\n",
      "Requirement already satisfied: pyyaml>=5.1.0 in /opt/conda/lib/python3.7/site-packages (from recbole) (6.0)\r\n",
      "Requirement already satisfied: numpy>=1.17.2 in /opt/conda/lib/python3.7/site-packages (from recbole) (1.20.3)\r\n",
      "Requirement already satisfied: python-dateutil>=2.7.3 in /opt/conda/lib/python3.7/site-packages (from pandas>=1.0.5->recbole) (2.8.2)\r\n",
      "Requirement already satisfied: pytz>=2017.3 in /opt/conda/lib/python3.7/site-packages (from pandas>=1.0.5->recbole) (2021.3)\r\n",
      "Requirement already satisfied: joblib>=0.11 in /opt/conda/lib/python3.7/site-packages (from scikit-learn>=0.23.2->recbole) (1.1.0)\r\n",
      "Requirement already satisfied: threadpoolctl>=2.0.0 in /opt/conda/lib/python3.7/site-packages (from scikit-learn>=0.23.2->recbole) (3.0.0)\r\n",
      "Requirement already satisfied: google-auth<2,>=1.6.3 in /opt/conda/lib/python3.7/site-packages (from tensorboard>=2.5.0->recbole) (1.35.0)\r\n",
      "Requirement already satisfied: tensorboard-plugin-wit>=1.6.0 in /opt/conda/lib/python3.7/site-packages (from tensorboard>=2.5.0->recbole) (1.8.0)\r\n",
      "Requirement already satisfied: tensorboard-data-server<0.7.0,>=0.6.0 in /opt/conda/lib/python3.7/site-packages (from tensorboard>=2.5.0->recbole) (0.6.1)\r\n",
      "Requirement already satisfied: markdown>=2.6.8 in /opt/conda/lib/python3.7/site-packages (from tensorboard>=2.5.0->recbole) (3.3.6)\r\n",
      "Requirement already satisfied: google-auth-oauthlib<0.5,>=0.4.1 in /opt/conda/lib/python3.7/site-packages (from tensorboard>=2.5.0->recbole) (0.4.6)\r\n",
      "Requirement already satisfied: wheel>=0.26 in /opt/conda/lib/python3.7/site-packages (from tensorboard>=2.5.0->recbole) (0.37.0)\r\n",
      "Requirement already satisfied: protobuf>=3.6.0 in /opt/conda/lib/python3.7/site-packages (from tensorboard>=2.5.0->recbole) (3.19.1)\r\n",
      "Requirement already satisfied: requests<3,>=2.21.0 in /opt/conda/lib/python3.7/site-packages (from tensorboard>=2.5.0->recbole) (2.26.0)\r\n",
      "Requirement already satisfied: absl-py>=0.4 in /opt/conda/lib/python3.7/site-packages (from tensorboard>=2.5.0->recbole) (0.15.0)\r\n",
      "Requirement already satisfied: setuptools>=41.0.0 in /opt/conda/lib/python3.7/site-packages (from tensorboard>=2.5.0->recbole) (59.5.0)\r\n",
      "Requirement already satisfied: werkzeug>=0.11.15 in /opt/conda/lib/python3.7/site-packages (from tensorboard>=2.5.0->recbole) (2.0.2)\r\n",
      "Requirement already satisfied: grpcio>=1.24.3 in /opt/conda/lib/python3.7/site-packages (from tensorboard>=2.5.0->recbole) (1.43.0)\r\n",
      "Requirement already satisfied: typing-extensions in /opt/conda/lib/python3.7/site-packages (from torch>=1.7.0->recbole) (4.0.1)\r\n",
      "Requirement already satisfied: six in /opt/conda/lib/python3.7/site-packages (from absl-py>=0.4->tensorboard>=2.5.0->recbole) (1.16.0)\r\n",
      "Requirement already satisfied: pyasn1-modules>=0.2.1 in /opt/conda/lib/python3.7/site-packages (from google-auth<2,>=1.6.3->tensorboard>=2.5.0->recbole) (0.2.7)\r\n",
      "Requirement already satisfied: cachetools<5.0,>=2.0.0 in /opt/conda/lib/python3.7/site-packages (from google-auth<2,>=1.6.3->tensorboard>=2.5.0->recbole) (4.2.4)\r\n",
      "Requirement already satisfied: rsa<5,>=3.1.4 in /opt/conda/lib/python3.7/site-packages (from google-auth<2,>=1.6.3->tensorboard>=2.5.0->recbole) (4.8)\r\n",
      "Requirement already satisfied: requests-oauthlib>=0.7.0 in /opt/conda/lib/python3.7/site-packages (from google-auth-oauthlib<0.5,>=0.4.1->tensorboard>=2.5.0->recbole) (1.3.0)\r\n",
      "Requirement already satisfied: importlib-metadata>=4.4 in /opt/conda/lib/python3.7/site-packages (from markdown>=2.6.8->tensorboard>=2.5.0->recbole) (4.10.1)\r\n",
      "Requirement already satisfied: idna<4,>=2.5 in /opt/conda/lib/python3.7/site-packages (from requests<3,>=2.21.0->tensorboard>=2.5.0->recbole) (3.1)\r\n",
      "Requirement already satisfied: urllib3<1.27,>=1.21.1 in /opt/conda/lib/python3.7/site-packages (from requests<3,>=2.21.0->tensorboard>=2.5.0->recbole) (1.26.7)\r\n",
      "Requirement already satisfied: certifi>=2017.4.17 in /opt/conda/lib/python3.7/site-packages (from requests<3,>=2.21.0->tensorboard>=2.5.0->recbole) (2021.10.8)\r\n",
      "Requirement already satisfied: charset-normalizer~=2.0.0 in /opt/conda/lib/python3.7/site-packages (from requests<3,>=2.21.0->tensorboard>=2.5.0->recbole) (2.0.9)\r\n",
      "Requirement already satisfied: zipp>=0.5 in /opt/conda/lib/python3.7/site-packages (from importlib-metadata>=4.4->markdown>=2.6.8->tensorboard>=2.5.0->recbole) (3.6.0)\r\n",
      "Requirement already satisfied: pyasn1<0.5.0,>=0.4.6 in /opt/conda/lib/python3.7/site-packages (from pyasn1-modules>=0.2.1->google-auth<2,>=1.6.3->tensorboard>=2.5.0->recbole) (0.4.8)\r\n",
      "Requirement already satisfied: oauthlib>=3.0.0 in /opt/conda/lib/python3.7/site-packages (from requests-oauthlib>=0.7.0->google-auth-oauthlib<0.5,>=0.4.1->tensorboard>=2.5.0->recbole) (3.1.1)\r\n",
      "Installing collected packages: scipy, colorlog, recbole\r\n",
      "  Attempting uninstall: scipy\r\n",
      "    Found existing installation: scipy 1.7.3\r\n",
      "    Uninstalling scipy-1.7.3:\r\n",
      "      Successfully uninstalled scipy-1.7.3\r\n",
      "  Attempting uninstall: colorlog\r\n",
      "    Found existing installation: colorlog 6.6.0\r\n",
      "    Uninstalling colorlog-6.6.0:\r\n",
      "      Successfully uninstalled colorlog-6.6.0\r\n",
      "\u001b[31mERROR: pip's dependency resolver does not currently take into account all the packages that are installed. This behaviour is the source of the following dependency conflicts.\r\n",
      "yellowbrick 1.3.post1 requires numpy<1.20,>=1.16.0, but you have numpy 1.20.3 which is incompatible.\r\n",
      "pdpbox 0.2.1 requires matplotlib==3.1.1, but you have matplotlib 3.5.1 which is incompatible.\r\n",
      "imbalanced-learn 0.9.0 requires scikit-learn>=1.0.1, but you have scikit-learn 0.23.2 which is incompatible.\r\n",
      "featuretools 1.4.1 requires numpy>=1.21.0, but you have numpy 1.20.3 which is incompatible.\r\n",
      "arviz 0.11.4 requires typing-extensions<4,>=3.7.4.3, but you have typing-extensions 4.0.1 which is incompatible.\u001b[0m\r\n",
      "Successfully installed colorlog-4.7.2 recbole-1.0.1 scipy-1.6.0\r\n",
      "\u001b[33mWARNING: Running pip as the 'root' user can result in broken permissions and conflicting behaviour with the system package manager. It is recommended to use a virtual environment instead: https://pip.pypa.io/warnings/venv\u001b[0m\r\n"
     ]
    }
   ],
   "source": [
    "!pip install recbole"
   ]
  },
  {
   "cell_type": "code",
   "execution_count": 2,
   "id": "58113fd2",
   "metadata": {
    "execution": {
     "iopub.execute_input": "2022-04-13T10:50:25.493484Z",
     "iopub.status.busy": "2022-04-13T10:50:25.492694Z",
     "iopub.status.idle": "2022-04-13T10:50:27.884171Z",
     "shell.execute_reply": "2022-04-13T10:50:27.883667Z",
     "shell.execute_reply.started": "2022-04-13T09:49:16.664956Z"
    },
    "papermill": {
     "duration": 2.444567,
     "end_time": "2022-04-13T10:50:27.884304",
     "exception": false,
     "start_time": "2022-04-13T10:50:25.439737",
     "status": "completed"
    },
    "tags": []
   },
   "outputs": [],
   "source": [
    "import gc\n",
    "import os\n",
    "import numpy as np\n",
    "import pandas as pd\n",
    "\n",
    "import torch\n",
    "import logging\n",
    "from logging import getLogger\n",
    "from recbole.config import Config\n",
    "from recbole.data import create_dataset, data_preparation\n",
    "from recbole.model.sequential_recommender import GRU4RecF, SASRecF, SASRec\n",
    "from recbole.trainer import Trainer\n",
    "from recbole.utils import init_seed, init_logger\n",
    "from recbole.utils.case_study import full_sort_topk\n",
    "from recbole.data.interaction import Interaction"
   ]
  },
  {
   "cell_type": "code",
   "execution_count": 3,
   "id": "f8b0f7da",
   "metadata": {
    "execution": {
     "iopub.execute_input": "2022-04-13T10:50:27.992308Z",
     "iopub.status.busy": "2022-04-13T10:50:27.991306Z",
     "iopub.status.idle": "2022-04-13T10:50:27.993247Z",
     "shell.execute_reply": "2022-04-13T10:50:27.993746Z",
     "shell.execute_reply.started": "2022-04-13T09:49:18.922427Z"
    },
    "papermill": {
     "duration": 0.05774,
     "end_time": "2022-04-13T10:50:27.993952",
     "exception": false,
     "start_time": "2022-04-13T10:50:27.936212",
     "status": "completed"
    },
    "tags": []
   },
   "outputs": [],
   "source": [
    "VALID = True\n",
    "model_label = SASRecF"
   ]
  },
  {
   "cell_type": "code",
   "execution_count": 4,
   "id": "d805e9b8",
   "metadata": {
    "execution": {
     "iopub.execute_input": "2022-04-13T10:50:28.108668Z",
     "iopub.status.busy": "2022-04-13T10:50:28.106926Z",
     "iopub.status.idle": "2022-04-13T10:50:28.109420Z",
     "shell.execute_reply": "2022-04-13T10:50:28.109966Z",
     "shell.execute_reply.started": "2022-04-13T09:49:18.929901Z"
    },
    "papermill": {
     "duration": 0.062895,
     "end_time": "2022-04-13T10:50:28.110112",
     "exception": false,
     "start_time": "2022-04-13T10:50:28.047217",
     "status": "completed"
    },
    "tags": []
   },
   "outputs": [],
   "source": [
    "def apk(actual, predicted, k=12):\n",
    "    if len(predicted)>k:\n",
    "        predicted = predicted[:k]\n",
    "        \n",
    "    score = 0.0\n",
    "    num_hits = 0.0\n",
    "    \n",
    "    for i,p in enumerate(predicted):\n",
    "        if p in actual and p not in predicted[:i]:\n",
    "            num_hits += 1.0\n",
    "            score += num_hits / (i+1.0)\n",
    "\n",
    "    if not actual:\n",
    "        return 0.0\n",
    "\n",
    "    return score / min(len(actual), k)\n",
    "\n",
    "def mapk(actual, predicted, k=12):\n",
    "    \"\"\"\n",
    "    Computes the mean average precision at k.\n",
    "    This function computes the mean average prescision at k between two lists\n",
    "    of lists of items.\n",
    "    Parameters\n",
    "    ----------\n",
    "    actual : list\n",
    "             A list of lists of elements that are to be predicted \n",
    "             (order doesn't matter in the lists)\n",
    "    predicted : list\n",
    "                A list of lists of predicted elements\n",
    "                (order matters in the lists)\n",
    "    k : int, optional\n",
    "        The maximum number of predicted elements\n",
    "    Returns\n",
    "    -------\n",
    "    score : double\n",
    "            The mean average precision at k over the input lists\n",
    "    \"\"\"\n",
    "    return np.mean([apk(a,p,k) for a,p in zip(actual, predicted)])"
   ]
  },
  {
   "cell_type": "markdown",
   "id": "059a371b",
   "metadata": {
    "papermill": {
     "duration": 0.05074,
     "end_time": "2022-04-13T10:50:28.212198",
     "exception": false,
     "start_time": "2022-04-13T10:50:28.161458",
     "status": "completed"
    },
    "tags": []
   },
   "source": [
    "# 1. Create atomic file"
   ]
  },
  {
   "cell_type": "markdown",
   "id": "f2b2c56c",
   "metadata": {
    "papermill": {
     "duration": 0.046507,
     "end_time": "2022-04-13T10:50:28.307839",
     "exception": false,
     "start_time": "2022-04-13T10:50:28.261332",
     "status": "completed"
    },
    "tags": []
   },
   "source": [
    "### 1.A create atomic of item features"
   ]
  },
  {
   "cell_type": "code",
   "execution_count": 5,
   "id": "63908f34",
   "metadata": {
    "execution": {
     "iopub.execute_input": "2022-04-13T10:50:28.407538Z",
     "iopub.status.busy": "2022-04-13T10:50:28.406644Z",
     "iopub.status.idle": "2022-04-13T10:50:29.481201Z",
     "shell.execute_reply": "2022-04-13T10:50:29.481793Z",
     "shell.execute_reply.started": "2022-04-13T09:49:18.943557Z"
    },
    "papermill": {
     "duration": 1.127635,
     "end_time": "2022-04-13T10:50:29.482000",
     "exception": false,
     "start_time": "2022-04-13T10:50:28.354365",
     "status": "completed"
    },
    "tags": []
   },
   "outputs": [
    {
     "name": "stdout",
     "output_type": "stream",
     "text": [
      "article_id 105542\n",
      "product_code 47224\n",
      "prod_name 45875\n",
      "product_type_no 132\n",
      "product_type_name 131\n",
      "product_group_name 19\n",
      "graphical_appearance_no 30\n",
      "graphical_appearance_name 30\n",
      "colour_group_code 50\n",
      "colour_group_name 50\n",
      "perceived_colour_value_id 8\n",
      "perceived_colour_value_name 8\n",
      "perceived_colour_master_id 20\n",
      "perceived_colour_master_name 20\n",
      "department_no 299\n",
      "department_name 250\n",
      "index_code 10\n",
      "index_name 10\n",
      "index_group_no 5\n",
      "index_group_name 5\n",
      "section_no 57\n",
      "section_name 56\n",
      "garment_group_no 21\n",
      "garment_group_name 21\n",
      "detail_desc 43405\n"
     ]
    }
   ],
   "source": [
    "df = pd.read_csv(r\"/kaggle/input/h-and-m-personalized-fashion-recommendations/articles.csv\", dtype={'article_id': 'str'})\n",
    "\n",
    "for col in df.columns:\n",
    "    print(col, len(pd.unique(df[col])))"
   ]
  },
  {
   "cell_type": "code",
   "execution_count": 6,
   "id": "1c014469",
   "metadata": {
    "execution": {
     "iopub.execute_input": "2022-04-13T10:50:29.601235Z",
     "iopub.status.busy": "2022-04-13T10:50:29.599051Z",
     "iopub.status.idle": "2022-04-13T10:50:29.621488Z",
     "shell.execute_reply": "2022-04-13T10:50:29.621926Z",
     "shell.execute_reply.started": "2022-04-13T09:49:20.263573Z"
    },
    "papermill": {
     "duration": 0.092459,
     "end_time": "2022-04-13T10:50:29.622096",
     "exception": false,
     "start_time": "2022-04-13T10:50:29.529637",
     "status": "completed"
    },
    "tags": []
   },
   "outputs": [
    {
     "data": {
      "text/html": [
       "<div>\n",
       "<style scoped>\n",
       "    .dataframe tbody tr th:only-of-type {\n",
       "        vertical-align: middle;\n",
       "    }\n",
       "\n",
       "    .dataframe tbody tr th {\n",
       "        vertical-align: top;\n",
       "    }\n",
       "\n",
       "    .dataframe thead th {\n",
       "        text-align: right;\n",
       "    }\n",
       "</style>\n",
       "<table border=\"1\" class=\"dataframe\">\n",
       "  <thead>\n",
       "    <tr style=\"text-align: right;\">\n",
       "      <th></th>\n",
       "      <th>item_id:token</th>\n",
       "      <th>product_code:token</th>\n",
       "      <th>product_type_no:float</th>\n",
       "      <th>product_group_name:token_seq</th>\n",
       "      <th>graphical_appearance_no:token</th>\n",
       "      <th>colour_group_code:token</th>\n",
       "      <th>perceived_colour_value_id:token</th>\n",
       "      <th>perceived_colour_master_id:token</th>\n",
       "      <th>department_no:token</th>\n",
       "      <th>index_code:token</th>\n",
       "      <th>index_group_no:token</th>\n",
       "      <th>section_no:token</th>\n",
       "      <th>garment_group_no:token</th>\n",
       "    </tr>\n",
       "  </thead>\n",
       "  <tbody>\n",
       "    <tr>\n",
       "      <th>0</th>\n",
       "      <td>0108775015</td>\n",
       "      <td>108775</td>\n",
       "      <td>253</td>\n",
       "      <td>Garment Upper body</td>\n",
       "      <td>1010016</td>\n",
       "      <td>9</td>\n",
       "      <td>4</td>\n",
       "      <td>5</td>\n",
       "      <td>1676</td>\n",
       "      <td>A</td>\n",
       "      <td>1</td>\n",
       "      <td>16</td>\n",
       "      <td>1002</td>\n",
       "    </tr>\n",
       "    <tr>\n",
       "      <th>1</th>\n",
       "      <td>0108775044</td>\n",
       "      <td>108775</td>\n",
       "      <td>253</td>\n",
       "      <td>Garment Upper body</td>\n",
       "      <td>1010016</td>\n",
       "      <td>10</td>\n",
       "      <td>3</td>\n",
       "      <td>9</td>\n",
       "      <td>1676</td>\n",
       "      <td>A</td>\n",
       "      <td>1</td>\n",
       "      <td>16</td>\n",
       "      <td>1002</td>\n",
       "    </tr>\n",
       "    <tr>\n",
       "      <th>2</th>\n",
       "      <td>0108775051</td>\n",
       "      <td>108775</td>\n",
       "      <td>253</td>\n",
       "      <td>Garment Upper body</td>\n",
       "      <td>1010017</td>\n",
       "      <td>11</td>\n",
       "      <td>1</td>\n",
       "      <td>9</td>\n",
       "      <td>1676</td>\n",
       "      <td>A</td>\n",
       "      <td>1</td>\n",
       "      <td>16</td>\n",
       "      <td>1002</td>\n",
       "    </tr>\n",
       "    <tr>\n",
       "      <th>3</th>\n",
       "      <td>0110065001</td>\n",
       "      <td>110065</td>\n",
       "      <td>306</td>\n",
       "      <td>Underwear</td>\n",
       "      <td>1010016</td>\n",
       "      <td>9</td>\n",
       "      <td>4</td>\n",
       "      <td>5</td>\n",
       "      <td>1339</td>\n",
       "      <td>B</td>\n",
       "      <td>1</td>\n",
       "      <td>61</td>\n",
       "      <td>1017</td>\n",
       "    </tr>\n",
       "    <tr>\n",
       "      <th>4</th>\n",
       "      <td>0110065002</td>\n",
       "      <td>110065</td>\n",
       "      <td>306</td>\n",
       "      <td>Underwear</td>\n",
       "      <td>1010016</td>\n",
       "      <td>10</td>\n",
       "      <td>3</td>\n",
       "      <td>9</td>\n",
       "      <td>1339</td>\n",
       "      <td>B</td>\n",
       "      <td>1</td>\n",
       "      <td>61</td>\n",
       "      <td>1017</td>\n",
       "    </tr>\n",
       "  </tbody>\n",
       "</table>\n",
       "</div>"
      ],
      "text/plain": [
       "  item_id:token  product_code:token  product_type_no:float  \\\n",
       "0    0108775015              108775                    253   \n",
       "1    0108775044              108775                    253   \n",
       "2    0108775051              108775                    253   \n",
       "3    0110065001              110065                    306   \n",
       "4    0110065002              110065                    306   \n",
       "\n",
       "  product_group_name:token_seq  graphical_appearance_no:token  \\\n",
       "0           Garment Upper body                        1010016   \n",
       "1           Garment Upper body                        1010016   \n",
       "2           Garment Upper body                        1010017   \n",
       "3                    Underwear                        1010016   \n",
       "4                    Underwear                        1010016   \n",
       "\n",
       "   colour_group_code:token  perceived_colour_value_id:token  \\\n",
       "0                        9                                4   \n",
       "1                       10                                3   \n",
       "2                       11                                1   \n",
       "3                        9                                4   \n",
       "4                       10                                3   \n",
       "\n",
       "   perceived_colour_master_id:token  department_no:token index_code:token  \\\n",
       "0                                 5                 1676                A   \n",
       "1                                 9                 1676                A   \n",
       "2                                 9                 1676                A   \n",
       "3                                 5                 1339                B   \n",
       "4                                 9                 1339                B   \n",
       "\n",
       "   index_group_no:token  section_no:token  garment_group_no:token  \n",
       "0                     1                16                    1002  \n",
       "1                     1                16                    1002  \n",
       "2                     1                16                    1002  \n",
       "3                     1                61                    1017  \n",
       "4                     1                61                    1017  "
      ]
     },
     "execution_count": 6,
     "metadata": {},
     "output_type": "execute_result"
    }
   ],
   "source": [
    "df = df.drop(columns = ['product_type_name', 'graphical_appearance_name', 'colour_group_name', 'perceived_colour_value_name',\n",
    "                        'perceived_colour_master_name', 'index_name', 'index_group_name', 'section_name', \n",
    "                        'garment_group_name', 'prod_name', 'department_name', 'detail_desc'])\n",
    "temp = df.rename(\n",
    "    columns={'article_id': 'item_id:token', 'product_code': 'product_code:token', 'product_type_no': 'product_type_no:float',\n",
    "             'product_group_name': 'product_group_name:token_seq', 'graphical_appearance_no': 'graphical_appearance_no:token', \n",
    "             'colour_group_code': 'colour_group_code:token', 'perceived_colour_value_id': 'perceived_colour_value_id:token', \n",
    "             'perceived_colour_master_id': 'perceived_colour_master_id:token', 'department_no': 'department_no:token', \n",
    "             'index_code': 'index_code:token', 'index_group_no': 'index_group_no:token', 'section_no': 'section_no:token', \n",
    "             'garment_group_no': 'garment_group_no:token'})\n",
    "temp.head()"
   ]
  },
  {
   "cell_type": "code",
   "execution_count": 7,
   "id": "8147119a",
   "metadata": {
    "execution": {
     "iopub.execute_input": "2022-04-13T10:50:29.729521Z",
     "iopub.status.busy": "2022-04-13T10:50:29.721506Z",
     "iopub.status.idle": "2022-04-13T10:50:30.878593Z",
     "shell.execute_reply": "2022-04-13T10:50:30.877999Z",
     "shell.execute_reply.started": "2022-04-13T09:49:20.314789Z"
    },
    "papermill": {
     "duration": 1.209085,
     "end_time": "2022-04-13T10:50:30.878716",
     "exception": false,
     "start_time": "2022-04-13T10:50:29.669631",
     "status": "completed"
    },
    "tags": []
   },
   "outputs": [],
   "source": [
    "!mkdir /kaggle/working/recbox_data\n",
    "temp.to_csv(r'/kaggle/working/recbox_data/recbox_data.item', index=False, sep='\\t')"
   ]
  },
  {
   "cell_type": "markdown",
   "id": "52e91086",
   "metadata": {
    "papermill": {
     "duration": 0.047571,
     "end_time": "2022-04-13T10:50:30.976125",
     "exception": false,
     "start_time": "2022-04-13T10:50:30.928554",
     "status": "completed"
    },
    "tags": []
   },
   "source": [
    "### 1.B create atomic of interation features"
   ]
  },
  {
   "cell_type": "code",
   "execution_count": 8,
   "id": "911a4cc4",
   "metadata": {
    "execution": {
     "iopub.execute_input": "2022-04-13T10:50:31.077180Z",
     "iopub.status.busy": "2022-04-13T10:50:31.076539Z",
     "iopub.status.idle": "2022-04-13T10:51:41.677514Z",
     "shell.execute_reply": "2022-04-13T10:51:41.677981Z",
     "shell.execute_reply.started": "2022-04-13T09:49:21.640544Z"
    },
    "papermill": {
     "duration": 70.654436,
     "end_time": "2022-04-13T10:51:41.678170",
     "exception": false,
     "start_time": "2022-04-13T10:50:31.023734",
     "status": "completed"
    },
    "tags": []
   },
   "outputs": [],
   "source": [
    "df = pd.read_csv(r\"/kaggle/input/h-and-m-personalized-fashion-recommendations/transactions_train.csv\", \n",
    "                 dtype={'article_id': 'str'})\n",
    "df['t_dat'] = pd.to_datetime(df['t_dat'], format=\"%Y-%m-%d\")\n",
    "df['timestamp'] = df.t_dat.values.astype(np.int64) // 10 ** 9"
   ]
  },
  {
   "cell_type": "markdown",
   "id": "661c5bf9",
   "metadata": {
    "papermill": {
     "duration": 0.047225,
     "end_time": "2022-04-13T10:51:41.772901",
     "exception": false,
     "start_time": "2022-04-13T10:51:41.725676",
     "status": "completed"
    },
    "tags": []
   },
   "source": [
    "**We fill with data in only 2020(timestamp > > 1585620000) and create inter file**\n",
    "For anyone need instruction about inter file, please check below links:\n",
    "* https://recbole.io/docs/user_guide/data_intro.html\n",
    "* https://recbole.io/docs/user_guide/data/atomic_files.html\n",
    "\n",
    "if you want a full of iterations without limiting timestamp, please check here:"
   ]
  },
  {
   "cell_type": "code",
   "execution_count": 9,
   "id": "9aa357ca",
   "metadata": {
    "execution": {
     "iopub.execute_input": "2022-04-13T10:51:41.875285Z",
     "iopub.status.busy": "2022-04-13T10:51:41.874509Z",
     "iopub.status.idle": "2022-04-13T10:51:44.856110Z",
     "shell.execute_reply": "2022-04-13T10:51:44.856529Z",
     "shell.execute_reply.started": "2022-04-13T09:50:38.755010Z"
    },
    "papermill": {
     "duration": 3.036536,
     "end_time": "2022-04-13T10:51:44.856704",
     "exception": false,
     "start_time": "2022-04-13T10:51:41.820168",
     "status": "completed"
    },
    "tags": []
   },
   "outputs": [],
   "source": [
    "if VALID:\n",
    "    valid_time = df[df.t_dat==\"2020-09-16\"][\"timestamp\"].values[0]\n",
    "    valid = df[df['timestamp'] >= valid_time].groupby('customer_id')['article_id'].apply(list).reset_index()\n",
    "    valid = valid.rename({'article_id':'prediction'},axis=1)\n",
    "    valid['prediction'] = valid.prediction.apply(lambda x: ' '.join([str(k) for k in x]))\n",
    "    temp = df[(df['timestamp'] > 1585620000)][['customer_id', 'article_id', 'timestamp']].rename( # & (df['timestamp'] < valid_time)\n",
    "    columns={'customer_id': 'user_id:token', 'article_id': 'item_id:token', 'timestamp': 'timestamp:float'})    \n",
    "else:\n",
    "    temp = df[df['timestamp'] > 1585620000][['customer_id', 'article_id', 'timestamp']].rename(\n",
    "    columns={'customer_id': 'user_id:token', 'article_id': 'item_id:token', 'timestamp': 'timestamp:float'})    "
   ]
  },
  {
   "cell_type": "code",
   "execution_count": 10,
   "id": "a37203d5",
   "metadata": {
    "execution": {
     "iopub.execute_input": "2022-04-13T10:51:44.965803Z",
     "iopub.status.busy": "2022-04-13T10:51:44.964936Z",
     "iopub.status.idle": "2022-04-13T10:51:45.008221Z",
     "shell.execute_reply": "2022-04-13T10:51:45.007716Z",
     "shell.execute_reply.started": "2022-04-13T09:50:42.083642Z"
    },
    "papermill": {
     "duration": 0.103752,
     "end_time": "2022-04-13T10:51:45.008354",
     "exception": false,
     "start_time": "2022-04-13T10:51:44.904602",
     "status": "completed"
    },
    "tags": []
   },
   "outputs": [
    {
     "data": {
      "text/plain": [
       "0.03059662469616447"
      ]
     },
     "execution_count": 10,
     "metadata": {},
     "output_type": "execute_result"
    }
   ],
   "source": [
    "df[df['timestamp'] >= valid_time].shape[0] / temp.shape[0]"
   ]
  },
  {
   "cell_type": "code",
   "execution_count": 11,
   "id": "bbb863d3",
   "metadata": {
    "execution": {
     "iopub.execute_input": "2022-04-13T10:51:45.109321Z",
     "iopub.status.busy": "2022-04-13T10:51:45.108722Z",
     "iopub.status.idle": "2022-04-13T10:52:21.037757Z",
     "shell.execute_reply": "2022-04-13T10:52:21.038255Z",
     "shell.execute_reply.started": "2022-04-13T09:50:42.144704Z"
    },
    "papermill": {
     "duration": 35.981897,
     "end_time": "2022-04-13T10:52:21.038411",
     "exception": false,
     "start_time": "2022-04-13T10:51:45.056514",
     "status": "completed"
    },
    "tags": []
   },
   "outputs": [
    {
     "data": {
      "text/plain": [
       "55"
      ]
     },
     "execution_count": 11,
     "metadata": {},
     "output_type": "execute_result"
    }
   ],
   "source": [
    "# We save atomic file in dataset format for using with recbole\n",
    "temp.to_csv('/kaggle/working/recbox_data/recbox_data.inter', index=False, sep='\\t')\n",
    "del temp, df\n",
    "gc.collect()"
   ]
  },
  {
   "cell_type": "markdown",
   "id": "10c5fbb0",
   "metadata": {
    "papermill": {
     "duration": 0.047058,
     "end_time": "2022-04-13T10:52:21.132851",
     "exception": false,
     "start_time": "2022-04-13T10:52:21.085793",
     "status": "completed"
    },
    "tags": []
   },
   "source": [
    "# Create dataset and train model with Recbole\n",
    "link: https://recbole.io/docs/user_guide/usage/use_modules.html"
   ]
  },
  {
   "cell_type": "code",
   "execution_count": 12,
   "id": "84366a48",
   "metadata": {
    "execution": {
     "iopub.execute_input": "2022-04-13T10:52:21.238977Z",
     "iopub.status.busy": "2022-04-13T10:52:21.235746Z",
     "iopub.status.idle": "2022-04-13T10:52:21.829562Z",
     "shell.execute_reply": "2022-04-13T10:52:21.584327Z",
     "shell.execute_reply.started": "2022-04-13T09:51:33.727804Z"
    },
    "papermill": {
     "duration": 0.649294,
     "end_time": "2022-04-13T10:52:21.829736",
     "exception": false,
     "start_time": "2022-04-13T10:52:21.180442",
     "status": "completed"
    },
    "tags": []
   },
   "outputs": [
    {
     "name": "stderr",
     "output_type": "stream",
     "text": [
      "\n",
      "General Hyper Parameters:\n",
      "gpu_id = 0\n",
      "use_gpu = True\n",
      "seed = 2020\n",
      "state = INFO\n",
      "reproducibility = True\n",
      "data_path = /kaggle/working/recbox_data\n",
      "checkpoint_dir = saved\n",
      "show_progress = True\n",
      "save_dataset = False\n",
      "dataset_save_path = None\n",
      "save_dataloaders = False\n",
      "dataloaders_save_path = None\n",
      "log_wandb = False\n",
      "\n",
      "Training Hyper Parameters:\n",
      "epochs = 20\n",
      "train_batch_size = 2048\n",
      "learner = adam\n",
      "learning_rate = 0.005\n",
      "neg_sampling = None\n",
      "eval_step = 1\n",
      "stopping_step = 10\n",
      "clip_grad_norm = None\n",
      "weight_decay = 0.0001\n",
      "loss_decimal_place = 4\n",
      "\n",
      "Evaluation Hyper Parameters:\n",
      "eval_args = {'split': {'RS': [99.9694, 0.0306, 0]}, 'group_by': 'user', 'order': 'TO', 'mode': 'full'}\n",
      "repeatable = True\n",
      "metrics = ['MRR', 'MAP']\n",
      "topk = [10]\n",
      "valid_metric = MAP@10\n",
      "valid_metric_bigger = True\n",
      "eval_batch_size = 4096\n",
      "metric_decimal_place = 4\n",
      "\n",
      "Dataset Hyper Parameters:\n",
      "field_separator = \t\n",
      "seq_separator =  \n",
      "USER_ID_FIELD = user_id\n",
      "ITEM_ID_FIELD = item_id\n",
      "RATING_FIELD = rating\n",
      "TIME_FIELD = timestamp\n",
      "seq_len = None\n",
      "LABEL_FIELD = label\n",
      "threshold = None\n",
      "NEG_PREFIX = neg_\n",
      "load_col = {'inter': ['user_id', 'item_id', 'timestamp'], 'item': ['item_id', 'product_code', 'product_type_no', 'product_group_name', 'graphical_appearance_no', 'colour_group_code', 'perceived_colour_value_id', 'perceived_colour_master_id', 'department_no', 'index_code', 'index_group_no', 'section_no', 'garment_group_no']}\n",
      "unload_col = None\n",
      "unused_col = None\n",
      "additional_feat_suffix = None\n",
      "rm_dup_inter = None\n",
      "val_interval = None\n",
      "filter_inter_by_user_or_item = True\n",
      "user_inter_num_interval = [35,inf)\n",
      "item_inter_num_interval = [40,inf)\n",
      "alias_of_user_id = None\n",
      "alias_of_item_id = None\n",
      "alias_of_entity_id = None\n",
      "alias_of_relation_id = None\n",
      "preload_weight = None\n",
      "normalize_field = None\n",
      "normalize_all = None\n",
      "ITEM_LIST_LENGTH_FIELD = item_length\n",
      "LIST_SUFFIX = _list\n",
      "MAX_ITEM_LIST_LENGTH = 50\n",
      "POSITION_FIELD = position_id\n",
      "HEAD_ENTITY_ID_FIELD = head_id\n",
      "TAIL_ENTITY_ID_FIELD = tail_id\n",
      "RELATION_ID_FIELD = relation_id\n",
      "ENTITY_ID_FIELD = entity_id\n",
      "benchmark_filename = None\n",
      "\n",
      "Other Hyper Parameters: \n",
      "wandb_project = recbole\n",
      "require_pow = False\n",
      "n_layers = 2\n",
      "n_heads = 2\n",
      "hidden_size = 64\n",
      "inner_size = 256\n",
      "hidden_dropout_prob = 0.5\n",
      "attn_dropout_prob = 0.5\n",
      "hidden_act = gelu\n",
      "layer_norm_eps = 1e-12\n",
      "initializer_range = 0.02\n",
      "selected_features = ['product_code', 'product_type_no', 'product_group_name', 'graphical_appearance_no', 'colour_group_code', 'perceived_colour_value_id', 'perceived_colour_master_id', 'department_no', 'index_code', 'index_group_no', 'section_no', 'garment_group_no']\n",
      "pooling_mode = sum\n",
      "loss_type = CE\n",
      "MODEL_TYPE = ModelType.SEQUENTIAL\n",
      "MODEL_INPUT_TYPE = InputType.POINTWISE\n",
      "eval_type = EvaluatorType.RANKING\n",
      "device = cuda\n",
      "train_neg_sample_args = {'strategy': 'none'}\n",
      "eval_neg_sample_args = {'strategy': 'full', 'distribution': 'uniform'}\n",
      "\n",
      "\n"
     ]
    }
   ],
   "source": [
    "# can change parameters here\n",
    "parameter_dict = {\n",
    "    'data_path': '/kaggle/working',\n",
    "    'USER_ID_FIELD': 'user_id',\n",
    "    'ITEM_ID_FIELD': 'item_id',\n",
    "    'TIME_FIELD': 'timestamp',\n",
    "    'user_inter_num_interval': \"[35,inf)\",\n",
    "    'item_inter_num_interval': \"[40,inf)\",\n",
    "    'load_col': {'inter': ['user_id', 'item_id', 'timestamp'],\n",
    "                 'item': ['item_id', 'product_code', 'product_type_no', 'product_group_name', 'graphical_appearance_no',\n",
    "                      'colour_group_code', 'perceived_colour_value_id', 'perceived_colour_master_id',\n",
    "                      'department_no', 'index_code', 'index_group_no', 'section_no', 'garment_group_no']\n",
    "             },\n",
    "    'selected_features': ['product_code', 'product_type_no', 'product_group_name', 'graphical_appearance_no',\n",
    "                          'colour_group_code', 'perceived_colour_value_id', 'perceived_colour_master_id',\n",
    "                          'department_no', 'index_code', 'index_group_no', 'section_no', 'garment_group_no'],\n",
    "    'learning_rate': 0.005,\n",
    "    'weight_decay': 1e-4,\n",
    "    'neg_sampling': None,\n",
    "    'epochs': 20,\n",
    "    'metrics' : ['MRR', 'MAP'],\n",
    "    'valid_metric': 'MAP@10',\n",
    "    'eval_args': {\n",
    "        'split': {'RS': [99.9694, 0.0306, 0]},\n",
    "        'group_by': 'user',\n",
    "        'order': 'TO',\n",
    "        'mode': 'full'}\n",
    "}\n",
    "\n",
    "config = Config(model=str(model_label).split(\"'\")[1].split(\".\")[-1], \n",
    "                dataset='recbox_data', \n",
    "                config_dict=parameter_dict)\n",
    "\n",
    "# init random seed\n",
    "init_seed(config['seed'], config['reproducibility'])\n",
    "\n",
    "# logger initialization\n",
    "init_logger(config)\n",
    "logger = getLogger()\n",
    "# Create handlers\n",
    "c_handler = logging.StreamHandler()\n",
    "c_handler.setLevel(logging.INFO)\n",
    "logger.addHandler(c_handler)\n",
    "\n",
    "# write config info into log\n",
    "logger.info(config)"
   ]
  },
  {
   "cell_type": "code",
   "execution_count": 13,
   "id": "13daf16a",
   "metadata": {
    "execution": {
     "iopub.execute_input": "2022-04-13T10:52:22.151653Z",
     "iopub.status.busy": "2022-04-13T10:52:22.150788Z",
     "iopub.status.idle": "2022-04-13T10:53:40.902448Z",
     "shell.execute_reply": "2022-04-13T10:53:40.889200Z",
     "shell.execute_reply.started": "2022-04-13T09:51:37.476887Z"
    },
    "papermill": {
     "duration": 78.913574,
     "end_time": "2022-04-13T10:53:40.902580",
     "exception": false,
     "start_time": "2022-04-13T10:52:21.989006",
     "status": "completed"
    },
    "tags": []
   },
   "outputs": [
    {
     "name": "stderr",
     "output_type": "stream",
     "text": [
      "recbox_data\n",
      "The number of users: 25039\n",
      "Average actions of users: 53.40770029555076\n",
      "The number of items: 9149\n",
      "Average actions of items: 146.17643200699607\n",
      "The number of inters: 1337222\n",
      "The sparsity of the dataset: 99.41626880189104%\n",
      "Remain Fields: ['user_id', 'item_id', 'timestamp', 'product_code', 'product_type_no', 'product_group_name', 'graphical_appearance_no', 'colour_group_code', 'perceived_colour_value_id', 'perceived_colour_master_id', 'department_no', 'index_code', 'index_group_no', 'section_no', 'garment_group_no']\n"
     ]
    }
   ],
   "source": [
    "dataset = create_dataset(config)\n",
    "logger.info(dataset)"
   ]
  },
  {
   "cell_type": "code",
   "execution_count": 14,
   "id": "2190e0ba",
   "metadata": {
    "execution": {
     "iopub.execute_input": "2022-04-13T10:53:41.228095Z",
     "iopub.status.busy": "2022-04-13T10:53:41.227485Z",
     "iopub.status.idle": "2022-04-13T10:54:01.542974Z",
     "shell.execute_reply": "2022-04-13T10:54:01.539939Z",
     "shell.execute_reply.started": "2022-04-13T09:53:04.029759Z"
    },
    "papermill": {
     "duration": 20.481979,
     "end_time": "2022-04-13T10:54:01.543099",
     "exception": false,
     "start_time": "2022-04-13T10:53:41.061120",
     "status": "completed"
    },
    "tags": []
   },
   "outputs": [
    {
     "name": "stderr",
     "output_type": "stream",
     "text": [
      "[Training]: train_batch_size = [2048] negative sampling: [None]\n",
      "[Evaluation]: eval_batch_size = [4096] eval_args: [{'split': {'RS': [99.9694, 0.0306, 0]}, 'group_by': 'user', 'order': 'TO', 'mode': 'full'}]\n"
     ]
    }
   ],
   "source": [
    "# dataset splitting\n",
    "train_data, valid_data, test_data = data_preparation(config, dataset)"
   ]
  },
  {
   "cell_type": "code",
   "execution_count": 15,
   "id": "db8a80d7",
   "metadata": {
    "execution": {
     "iopub.execute_input": "2022-04-13T10:54:01.958845Z",
     "iopub.status.busy": "2022-04-13T10:54:01.957781Z",
     "iopub.status.idle": "2022-04-13T11:32:26.901534Z",
     "shell.execute_reply": "2022-04-13T11:32:26.902004Z",
     "shell.execute_reply.started": "2022-04-13T09:53:27.264571Z"
    },
    "papermill": {
     "duration": 2305.196259,
     "end_time": "2022-04-13T11:32:26.902169",
     "exception": false,
     "start_time": "2022-04-13T10:54:01.705910",
     "status": "completed"
    },
    "scrolled": true,
    "tags": []
   },
   "outputs": [
    {
     "name": "stderr",
     "output_type": "stream",
     "text": [
      "SASRecF(\n",
      "  (item_embedding): Embedding(9149, 64, padding_idx=0)\n",
      "  (position_embedding): Embedding(50, 64)\n",
      "  (feature_embed_layer): FeatureSeqEmbLayer(\n",
      "    (token_embedding_table): ModuleDict(\n",
      "      (item): FMEmbedding(\n",
      "        (embedding): Embedding(4850, 64)\n",
      "      )\n",
      "    )\n",
      "    (float_embedding_table): ModuleDict(\n",
      "      (item): Embedding(1, 64)\n",
      "    )\n",
      "    (token_seq_embedding_table): ModuleDict(\n",
      "      (item): ModuleList(\n",
      "        (0): Embedding(16, 64)\n",
      "      )\n",
      "    )\n",
      "  )\n",
      "  (trm_encoder): TransformerEncoder(\n",
      "    (layer): ModuleList(\n",
      "      (0): TransformerLayer(\n",
      "        (multi_head_attention): MultiHeadAttention(\n",
      "          (query): Linear(in_features=64, out_features=64, bias=True)\n",
      "          (key): Linear(in_features=64, out_features=64, bias=True)\n",
      "          (value): Linear(in_features=64, out_features=64, bias=True)\n",
      "          (softmax): Softmax(dim=-1)\n",
      "          (attn_dropout): Dropout(p=0.5, inplace=False)\n",
      "          (dense): Linear(in_features=64, out_features=64, bias=True)\n",
      "          (LayerNorm): LayerNorm((64,), eps=1e-12, elementwise_affine=True)\n",
      "          (out_dropout): Dropout(p=0.5, inplace=False)\n",
      "        )\n",
      "        (feed_forward): FeedForward(\n",
      "          (dense_1): Linear(in_features=64, out_features=256, bias=True)\n",
      "          (dense_2): Linear(in_features=256, out_features=64, bias=True)\n",
      "          (LayerNorm): LayerNorm((64,), eps=1e-12, elementwise_affine=True)\n",
      "          (dropout): Dropout(p=0.5, inplace=False)\n",
      "        )\n",
      "      )\n",
      "      (1): TransformerLayer(\n",
      "        (multi_head_attention): MultiHeadAttention(\n",
      "          (query): Linear(in_features=64, out_features=64, bias=True)\n",
      "          (key): Linear(in_features=64, out_features=64, bias=True)\n",
      "          (value): Linear(in_features=64, out_features=64, bias=True)\n",
      "          (softmax): Softmax(dim=-1)\n",
      "          (attn_dropout): Dropout(p=0.5, inplace=False)\n",
      "          (dense): Linear(in_features=64, out_features=64, bias=True)\n",
      "          (LayerNorm): LayerNorm((64,), eps=1e-12, elementwise_affine=True)\n",
      "          (out_dropout): Dropout(p=0.5, inplace=False)\n",
      "        )\n",
      "        (feed_forward): FeedForward(\n",
      "          (dense_1): Linear(in_features=64, out_features=256, bias=True)\n",
      "          (dense_2): Linear(in_features=256, out_features=64, bias=True)\n",
      "          (LayerNorm): LayerNorm((64,), eps=1e-12, elementwise_affine=True)\n",
      "          (dropout): Dropout(p=0.5, inplace=False)\n",
      "        )\n",
      "      )\n",
      "    )\n",
      "  )\n",
      "  (concat_layer): Linear(in_features=832, out_features=64, bias=True)\n",
      "  (LayerNorm): LayerNorm((64,), eps=1e-12, elementwise_affine=True)\n",
      "  (dropout): Dropout(p=0.5, inplace=False)\n",
      "  (loss_fct): CrossEntropyLoss()\n",
      ")\n",
      "Trainable parameters: 1053632\n",
      "epoch 0 training [time: 114.08s, train loss: 5531.0402]\n",
      "epoch 0 evaluating [time: 0.86s, valid_score: 0.006300]\n",
      "valid result: \n",
      "mrr@10 : 0.0063    map@10 : 0.0063\n",
      "Saving current: saved/SASRecF-Apr-13-2022_10-54-08.pth\n",
      "epoch 1 training [time: 111.83s, train loss: 5171.0107]\n",
      "epoch 1 evaluating [time: 0.73s, valid_score: 0.034800]\n",
      "valid result: \n",
      "mrr@10 : 0.0348    map@10 : 0.0348\n",
      "Saving current: saved/SASRecF-Apr-13-2022_10-54-08.pth\n",
      "epoch 2 training [time: 111.52s, train loss: 4950.6503]\n",
      "epoch 2 evaluating [time: 0.74s, valid_score: 0.059400]\n",
      "valid result: \n",
      "mrr@10 : 0.0594    map@10 : 0.0594\n",
      "Saving current: saved/SASRecF-Apr-13-2022_10-54-08.pth\n",
      "epoch 3 training [time: 112.10s, train loss: 4827.9358]\n",
      "epoch 3 evaluating [time: 0.72s, valid_score: 0.106100]\n",
      "valid result: \n",
      "mrr@10 : 0.1061    map@10 : 0.1061\n",
      "Saving current: saved/SASRecF-Apr-13-2022_10-54-08.pth\n",
      "epoch 4 training [time: 111.76s, train loss: 4772.9865]\n",
      "epoch 4 evaluating [time: 0.87s, valid_score: 0.122400]\n",
      "valid result: \n",
      "mrr@10 : 0.1224    map@10 : 0.1224\n",
      "Saving current: saved/SASRecF-Apr-13-2022_10-54-08.pth\n",
      "epoch 5 training [time: 111.69s, train loss: 4742.6400]\n",
      "epoch 5 evaluating [time: 0.73s, valid_score: 0.127400]\n",
      "valid result: \n",
      "mrr@10 : 0.1274    map@10 : 0.1274\n",
      "Saving current: saved/SASRecF-Apr-13-2022_10-54-08.pth\n",
      "epoch 6 training [time: 111.60s, train loss: 4723.3087]\n",
      "epoch 6 evaluating [time: 0.79s, valid_score: 0.134100]\n",
      "valid result: \n",
      "mrr@10 : 0.1341    map@10 : 0.1341\n",
      "Saving current: saved/SASRecF-Apr-13-2022_10-54-08.pth\n",
      "epoch 7 training [time: 111.39s, train loss: 4707.7866]\n",
      "epoch 7 evaluating [time: 0.72s, valid_score: 0.139100]\n",
      "valid result: \n",
      "mrr@10 : 0.1391    map@10 : 0.1391\n",
      "Saving current: saved/SASRecF-Apr-13-2022_10-54-08.pth\n",
      "epoch 8 training [time: 111.59s, train loss: 4696.2420]\n",
      "epoch 8 evaluating [time: 0.72s, valid_score: 0.143700]\n",
      "valid result: \n",
      "mrr@10 : 0.1437    map@10 : 0.1437\n",
      "Saving current: saved/SASRecF-Apr-13-2022_10-54-08.pth\n",
      "epoch 9 training [time: 111.31s, train loss: 4688.3010]\n",
      "epoch 9 evaluating [time: 0.72s, valid_score: 0.145400]\n",
      "valid result: \n",
      "mrr@10 : 0.1454    map@10 : 0.1454\n",
      "Saving current: saved/SASRecF-Apr-13-2022_10-54-08.pth\n",
      "epoch 10 training [time: 111.33s, train loss: 4680.2505]\n",
      "epoch 10 evaluating [time: 0.72s, valid_score: 0.149100]\n",
      "valid result: \n",
      "mrr@10 : 0.1491    map@10 : 0.1491\n",
      "Saving current: saved/SASRecF-Apr-13-2022_10-54-08.pth\n",
      "epoch 11 training [time: 111.45s, train loss: 4675.0980]\n",
      "epoch 11 evaluating [time: 0.72s, valid_score: 0.149500]\n",
      "valid result: \n",
      "mrr@10 : 0.1495    map@10 : 0.1495\n",
      "Saving current: saved/SASRecF-Apr-13-2022_10-54-08.pth\n",
      "epoch 12 training [time: 111.42s, train loss: 4671.7083]\n",
      "epoch 12 evaluating [time: 0.72s, valid_score: 0.149400]\n",
      "valid result: \n",
      "mrr@10 : 0.1494    map@10 : 0.1494\n",
      "epoch 13 training [time: 111.68s, train loss: 4667.9600]\n",
      "epoch 13 evaluating [time: 0.72s, valid_score: 0.151800]\n",
      "valid result: \n",
      "mrr@10 : 0.1518    map@10 : 0.1518\n",
      "Saving current: saved/SASRecF-Apr-13-2022_10-54-08.pth\n",
      "epoch 14 training [time: 111.86s, train loss: 4665.8046]\n",
      "epoch 14 evaluating [time: 0.72s, valid_score: 0.153500]\n",
      "valid result: \n",
      "mrr@10 : 0.1535    map@10 : 0.1535\n",
      "Saving current: saved/SASRecF-Apr-13-2022_10-54-08.pth\n",
      "epoch 15 training [time: 111.64s, train loss: 4664.5846]\n",
      "epoch 15 evaluating [time: 0.72s, valid_score: 0.154000]\n",
      "valid result: \n",
      "mrr@10 : 0.154    map@10 : 0.154\n",
      "Saving current: saved/SASRecF-Apr-13-2022_10-54-08.pth\n",
      "epoch 16 training [time: 111.62s, train loss: 4662.4945]\n",
      "epoch 16 evaluating [time: 0.73s, valid_score: 0.153000]\n",
      "valid result: \n",
      "mrr@10 : 0.153    map@10 : 0.153\n",
      "epoch 17 training [time: 111.51s, train loss: 4660.8674]\n",
      "epoch 17 evaluating [time: 0.73s, valid_score: 0.152900]\n",
      "valid result: \n",
      "mrr@10 : 0.1529    map@10 : 0.1529\n",
      "epoch 18 training [time: 111.72s, train loss: 4659.3401]\n",
      "epoch 18 evaluating [time: 0.76s, valid_score: 0.155200]\n",
      "valid result: \n",
      "mrr@10 : 0.1552    map@10 : 0.1552\n",
      "Saving current: saved/SASRecF-Apr-13-2022_10-54-08.pth\n",
      "epoch 19 training [time: 111.45s, train loss: 4659.1871]\n",
      "epoch 19 evaluating [time: 0.72s, valid_score: 0.152900]\n",
      "valid result: \n",
      "mrr@10 : 0.1529    map@10 : 0.1529\n"
     ]
    }
   ],
   "source": [
    "# model loading and initialization\n",
    "model = model_label(config, train_data.dataset).to(config['device'])\n",
    "logger.info(model)\n",
    "\n",
    "# trainer loading and initialization\n",
    "trainer = Trainer(config, model)\n",
    "\n",
    "# model training\n",
    "if VALID:\n",
    "    best_valid_score, best_valid_result = trainer.fit(train_data, valid_data)\n",
    "else:\n",
    "    best_valid_score, best_valid_result = trainer.fit(train_data)"
   ]
  },
  {
   "cell_type": "markdown",
   "id": "411a11ca",
   "metadata": {
    "papermill": {
     "duration": 0.271836,
     "end_time": "2022-04-13T11:32:27.432729",
     "exception": false,
     "start_time": "2022-04-13T11:32:27.160893",
     "status": "completed"
    },
    "tags": []
   },
   "source": [
    "# 4. Create recommendation result from trained model\n",
    "\n",
    "I note document here for any one want to customize it: https://recbole.io/docs/user_guide/usage/case_study.html"
   ]
  },
  {
   "cell_type": "code",
   "execution_count": 16,
   "id": "f0a2c699",
   "metadata": {
    "execution": {
     "iopub.execute_input": "2022-04-13T11:32:28.000091Z",
     "iopub.status.busy": "2022-04-13T11:32:27.999242Z",
     "iopub.status.idle": "2022-04-13T11:32:28.003049Z",
     "shell.execute_reply": "2022-04-13T11:32:28.002569Z",
     "shell.execute_reply.started": "2022-04-13T10:34:04.244159Z"
    },
    "papermill": {
     "duration": 0.28705,
     "end_time": "2022-04-13T11:32:28.003169",
     "exception": false,
     "start_time": "2022-04-13T11:32:27.716119",
     "status": "completed"
    },
    "tags": []
   },
   "outputs": [],
   "source": [
    "external_user_ids = dataset.id2token(\n",
    "    dataset.uid_field, list(range(dataset.user_num)))[1:]#fist element in array is 'PAD'(default of Recbole) ->remove it "
   ]
  },
  {
   "cell_type": "code",
   "execution_count": 17,
   "id": "a24d44d7",
   "metadata": {
    "execution": {
     "iopub.execute_input": "2022-04-13T11:32:28.530877Z",
     "iopub.status.busy": "2022-04-13T11:32:28.529895Z",
     "iopub.status.idle": "2022-04-13T11:32:28.532557Z",
     "shell.execute_reply": "2022-04-13T11:32:28.532145Z",
     "shell.execute_reply.started": "2022-04-13T10:34:04.258340Z"
    },
    "papermill": {
     "duration": 0.271583,
     "end_time": "2022-04-13T11:32:28.532672",
     "exception": false,
     "start_time": "2022-04-13T11:32:28.261089",
     "status": "completed"
    },
    "tags": []
   },
   "outputs": [],
   "source": [
    "def add_last_item(old_interaction, last_item_id, max_len=50):\n",
    "    new_seq_items = old_interaction['item_id_list'][-1]\n",
    "    if old_interaction['item_length'][-1].item() < max_len:\n",
    "        new_seq_items[old_interaction['item_length'][-1].item()] = last_item_id\n",
    "    else:\n",
    "        new_seq_items = torch.roll(new_seq_items, -1)\n",
    "        new_seq_items[-1] = last_item_id\n",
    "    return new_seq_items.view(1, len(new_seq_items))\n",
    "\n",
    "def predict_for_all_item(external_user_id, dataset, model):\n",
    "    model.eval()\n",
    "    with torch.no_grad():\n",
    "        uid_series = dataset.token2id(dataset.uid_field, [external_user_id])\n",
    "        index = np.isin(dataset.inter_feat[dataset.uid_field].numpy(), uid_series)\n",
    "        input_interaction = dataset[index]\n",
    "        test = {\n",
    "            'item_id_list': add_last_item(input_interaction, \n",
    "                                          input_interaction['item_id'][-1].item(), model.max_seq_length),\n",
    "            'item_length': torch.tensor(\n",
    "                [input_interaction['item_length'][-1].item() + 1\n",
    "                 if input_interaction['item_length'][-1].item() < model.max_seq_length else model.max_seq_length])\n",
    "        }\n",
    "        new_inter = Interaction(test)\n",
    "        new_inter = new_inter.to(config['device'])\n",
    "        new_scores = model.full_sort_predict(new_inter)\n",
    "        new_scores = new_scores.view(-1, test_data.dataset.item_num)\n",
    "        new_scores[:, 0] = -np.inf  # set scores of [pad] to -inf\n",
    "    return torch.topk(new_scores, 12)"
   ]
  },
  {
   "cell_type": "code",
   "execution_count": 18,
   "id": "473d5771",
   "metadata": {
    "execution": {
     "iopub.execute_input": "2022-04-13T11:32:29.075843Z",
     "iopub.status.busy": "2022-04-13T11:32:29.075073Z",
     "iopub.status.idle": "2022-04-13T11:41:21.548787Z",
     "shell.execute_reply": "2022-04-13T11:41:21.548304Z",
     "shell.execute_reply.started": "2022-04-13T10:34:04.274083Z"
    },
    "papermill": {
     "duration": 532.748041,
     "end_time": "2022-04-13T11:41:21.548928",
     "exception": false,
     "start_time": "2022-04-13T11:32:28.800887",
     "status": "completed"
    },
    "tags": []
   },
   "outputs": [
    {
     "name": "stdout",
     "output_type": "stream",
     "text": [
      "25038\n"
     ]
    }
   ],
   "source": [
    "topk_items = []\n",
    "for external_user_id in external_user_ids:\n",
    "    _, topk_iid_list = predict_for_all_item(external_user_id, dataset, model)\n",
    "    last_topk_iid_list = topk_iid_list[-1]\n",
    "    external_item_list = dataset.id2token(dataset.iid_field, last_topk_iid_list.cpu()).tolist()\n",
    "    topk_items.append(external_item_list)\n",
    "print(len(topk_items))"
   ]
  },
  {
   "cell_type": "code",
   "execution_count": 19,
   "id": "de558951",
   "metadata": {
    "execution": {
     "iopub.execute_input": "2022-04-13T11:41:22.100282Z",
     "iopub.status.busy": "2022-04-13T11:41:22.099480Z",
     "iopub.status.idle": "2022-04-13T11:41:22.102355Z",
     "shell.execute_reply": "2022-04-13T11:41:22.102880Z",
     "shell.execute_reply.started": "2022-04-13T10:44:26.185757Z"
    },
    "papermill": {
     "duration": 0.287917,
     "end_time": "2022-04-13T11:41:22.103021",
     "exception": false,
     "start_time": "2022-04-13T11:41:21.815104",
     "status": "completed"
    },
    "tags": []
   },
   "outputs": [
    {
     "data": {
      "text/html": [
       "<div>\n",
       "<style scoped>\n",
       "    .dataframe tbody tr th:only-of-type {\n",
       "        vertical-align: middle;\n",
       "    }\n",
       "\n",
       "    .dataframe tbody tr th {\n",
       "        vertical-align: top;\n",
       "    }\n",
       "\n",
       "    .dataframe thead th {\n",
       "        text-align: right;\n",
       "    }\n",
       "</style>\n",
       "<table border=\"1\" class=\"dataframe\">\n",
       "  <thead>\n",
       "    <tr style=\"text-align: right;\">\n",
       "      <th></th>\n",
       "      <th>customer_id</th>\n",
       "      <th>prediction</th>\n",
       "    </tr>\n",
       "  </thead>\n",
       "  <tbody>\n",
       "    <tr>\n",
       "      <th>0</th>\n",
       "      <td>0064cd1ee810d4caabd1182a8f177479b82b18961bd76b...</td>\n",
       "      <td>0894956001 0918292001 0914537002 0730683050 08...</td>\n",
       "    </tr>\n",
       "    <tr>\n",
       "      <th>1</th>\n",
       "      <td>00d7ebd46f6a6d53630d41386b6ef6a505cdc4c80011ff...</td>\n",
       "      <td>0918522001 0924243001 0923758001 0918525001 08...</td>\n",
       "    </tr>\n",
       "    <tr>\n",
       "      <th>2</th>\n",
       "      <td>00eebac2c2e37626461e74e8395711964c4e01a7afa643...</td>\n",
       "      <td>0860498001 0824490001 0852773002 0896848001 08...</td>\n",
       "    </tr>\n",
       "    <tr>\n",
       "      <th>3</th>\n",
       "      <td>0109ad0b5a76924a1b58be677409bb601cc8bead9a87b8...</td>\n",
       "      <td>0901955001 0865587001 0861477001 0600886001 07...</td>\n",
       "    </tr>\n",
       "    <tr>\n",
       "      <th>4</th>\n",
       "      <td>013f00f9e218549246a3aa82b3f3a0c22a693bc25fa735...</td>\n",
       "      <td>0839402002 0771602001 0861731002 0865172003 08...</td>\n",
       "    </tr>\n",
       "  </tbody>\n",
       "</table>\n",
       "</div>"
      ],
      "text/plain": [
       "                                         customer_id  \\\n",
       "0  0064cd1ee810d4caabd1182a8f177479b82b18961bd76b...   \n",
       "1  00d7ebd46f6a6d53630d41386b6ef6a505cdc4c80011ff...   \n",
       "2  00eebac2c2e37626461e74e8395711964c4e01a7afa643...   \n",
       "3  0109ad0b5a76924a1b58be677409bb601cc8bead9a87b8...   \n",
       "4  013f00f9e218549246a3aa82b3f3a0c22a693bc25fa735...   \n",
       "\n",
       "                                          prediction  \n",
       "0  0894956001 0918292001 0914537002 0730683050 08...  \n",
       "1  0918522001 0924243001 0923758001 0918525001 08...  \n",
       "2  0860498001 0824490001 0852773002 0896848001 08...  \n",
       "3  0901955001 0865587001 0861477001 0600886001 07...  \n",
       "4  0839402002 0771602001 0861731002 0865172003 08...  "
      ]
     },
     "execution_count": 19,
     "metadata": {},
     "output_type": "execute_result"
    }
   ],
   "source": [
    "external_item_str = [' '.join(x) for x in topk_items]\n",
    "result = pd.DataFrame(external_user_ids, columns=['customer_id'])\n",
    "result['prediction'] = external_item_str\n",
    "result.head()"
   ]
  },
  {
   "cell_type": "code",
   "execution_count": 20,
   "id": "5a2bdacf",
   "metadata": {
    "execution": {
     "iopub.execute_input": "2022-04-13T11:41:22.840022Z",
     "iopub.status.busy": "2022-04-13T11:41:22.839238Z",
     "iopub.status.idle": "2022-04-13T11:41:22.842143Z",
     "shell.execute_reply": "2022-04-13T11:41:22.842547Z",
     "shell.execute_reply.started": "2022-04-13T10:44:26.220793Z"
    },
    "papermill": {
     "duration": 0.472974,
     "end_time": "2022-04-13T11:41:22.842689",
     "exception": false,
     "start_time": "2022-04-13T11:41:22.369715",
     "status": "completed"
    },
    "tags": []
   },
   "outputs": [
    {
     "data": {
      "text/plain": [
       "42"
      ]
     },
     "execution_count": 20,
     "metadata": {},
     "output_type": "execute_result"
    }
   ],
   "source": [
    "del external_item_str\n",
    "del topk_items\n",
    "del external_user_ids\n",
    "del train_data\n",
    "del valid_data\n",
    "del test_data\n",
    "del model\n",
    "del Trainer\n",
    "del logger\n",
    "del dataset\n",
    "gc.collect()"
   ]
  },
  {
   "cell_type": "markdown",
   "id": "0a0ed14e",
   "metadata": {
    "papermill": {
     "duration": 0.259405,
     "end_time": "2022-04-13T11:41:23.363455",
     "exception": false,
     "start_time": "2022-04-13T11:41:23.104050",
     "status": "completed"
    },
    "tags": []
   },
   "source": [
    "#  default recomendation for user who can not be predicted by sequential model.\n",
    "I use this approach in notebook: https://www.kaggle.com/hervind/h-m-faster-trending-products-weekly You can check it for more detail information. I will juse copy only code here"
   ]
  },
  {
   "cell_type": "code",
   "execution_count": 21,
   "id": "0f1e170e",
   "metadata": {
    "execution": {
     "iopub.execute_input": "2022-04-13T11:41:24.017815Z",
     "iopub.status.busy": "2022-04-13T11:41:24.003301Z",
     "iopub.status.idle": "2022-04-13T11:41:24.019055Z",
     "shell.execute_reply": "2022-04-13T11:41:24.018443Z",
     "shell.execute_reply.started": "2022-04-13T10:44:26.460406Z"
    },
    "papermill": {
     "duration": 0.396894,
     "end_time": "2022-04-13T11:41:24.019193",
     "exception": false,
     "start_time": "2022-04-13T11:41:23.622299",
     "status": "completed"
    },
    "tags": []
   },
   "outputs": [],
   "source": [
    "def cust_blend(dt, W = [1,1,1]):\n",
    "    #Global ensemble weights\n",
    "    #W = [1.15,0.95,0.85]\n",
    "    \n",
    "    #Create a list of all model predictions\n",
    "    REC = []\n",
    "    REC.append(dt['prediction0'].split())\n",
    "    REC.append(dt['prediction1'].split())\n",
    "    REC.append(dt['prediction2'].split())\n",
    "    \n",
    "    #Create a dictionary of items recommended. \n",
    "    #Assign a weight according the order of appearance and multiply by global weights\n",
    "    res = {}\n",
    "    for M in range(len(REC)):\n",
    "        for n, v in enumerate(REC[M]):\n",
    "            if v in res:\n",
    "                res[v] += (W[M]/(n+1))\n",
    "            else:\n",
    "                res[v] = (W[M]/(n+1))\n",
    "    \n",
    "    # Sort dictionary by item weights\n",
    "    res = list(dict(sorted(res.items(), key=lambda item: -item[1])).keys())\n",
    "    \n",
    "    # Return the top 12 itens only\n",
    "    return ' '.join(res[:12])"
   ]
  },
  {
   "cell_type": "code",
   "execution_count": 22,
   "id": "d2df059e",
   "metadata": {
    "execution": {
     "iopub.execute_input": "2022-04-13T11:41:24.886824Z",
     "iopub.status.busy": "2022-04-13T11:41:24.886042Z",
     "iopub.status.idle": "2022-04-13T11:42:16.972738Z",
     "shell.execute_reply": "2022-04-13T11:42:16.973228Z",
     "shell.execute_reply.started": "2022-04-13T10:44:26.474335Z"
    },
    "papermill": {
     "duration": 52.522926,
     "end_time": "2022-04-13T11:42:16.973371",
     "exception": false,
     "start_time": "2022-04-13T11:41:24.450445",
     "status": "completed"
    },
    "tags": []
   },
   "outputs": [
    {
     "data": {
      "text/plain": [
       "21"
      ]
     },
     "execution_count": 22,
     "metadata": {},
     "output_type": "execute_result"
    }
   ],
   "source": [
    "sub0 = pd.read_csv('../input/hm-pre-recommendation/submissio_byfone_chris.csv').sort_values('customer_id').reset_index(drop=True)\n",
    "sub1 = pd.read_csv('../input/hm-pre-recommendation/submission_trending.csv').sort_values('customer_id').reset_index(drop=True)\n",
    "sub2 = pd.read_csv('../input/hm-pre-recommendation/submission_exponential_decay.csv').sort_values('customer_id').reset_index(drop=True)\n",
    "\n",
    "sub0.columns = ['customer_id', 'prediction0']\n",
    "sub0['prediction1'] = sub1['prediction']\n",
    "sub0['prediction2'] = sub2['prediction']\n",
    "del sub1, sub2\n",
    "gc.collect()"
   ]
  },
  {
   "cell_type": "code",
   "execution_count": 23,
   "id": "ead6517a",
   "metadata": {
    "execution": {
     "iopub.execute_input": "2022-04-13T11:42:17.560490Z",
     "iopub.status.busy": "2022-04-13T11:42:17.558827Z",
     "iopub.status.idle": "2022-04-13T11:45:06.853566Z",
     "shell.execute_reply": "2022-04-13T11:45:06.854016Z",
     "shell.execute_reply.started": "2022-04-13T10:45:24.752591Z"
    },
    "papermill": {
     "duration": 169.596773,
     "end_time": "2022-04-13T11:45:06.854163",
     "exception": false,
     "start_time": "2022-04-13T11:42:17.257390",
     "status": "completed"
    },
    "tags": []
   },
   "outputs": [
    {
     "data": {
      "text/plain": [
       "0"
      ]
     },
     "execution_count": 23,
     "metadata": {},
     "output_type": "execute_result"
    }
   ],
   "source": [
    "sub0['prediction'] = sub0.apply(cust_blend, W = [1.05,1.00,0.95], axis=1)\n",
    "del sub0['prediction0']\n",
    "del sub0['prediction1']\n",
    "del sub0['prediction2']\n",
    "gc.collect()\n",
    "#sub0.to_csv(f'submission.csv', index=False)"
   ]
  },
  {
   "cell_type": "markdown",
   "id": "a9e166b1",
   "metadata": {
    "papermill": {
     "duration": 0.271882,
     "end_time": "2022-04-13T11:45:07.393993",
     "exception": false,
     "start_time": "2022-04-13T11:45:07.122111",
     "status": "completed"
    },
    "tags": []
   },
   "source": [
    "# 5. Combine result from most bought items and NN model"
   ]
  },
  {
   "cell_type": "code",
   "execution_count": 24,
   "id": "cab41c2a",
   "metadata": {
    "execution": {
     "iopub.execute_input": "2022-04-13T11:45:07.962896Z",
     "iopub.status.busy": "2022-04-13T11:45:07.961925Z",
     "iopub.status.idle": "2022-04-13T11:45:32.884305Z",
     "shell.execute_reply": "2022-04-13T11:45:32.885709Z",
     "shell.execute_reply.started": "2022-04-13T10:48:41.284855Z"
    },
    "papermill": {
     "duration": 25.212282,
     "end_time": "2022-04-13T11:45:32.886287",
     "exception": false,
     "start_time": "2022-04-13T11:45:07.674005",
     "status": "completed"
    },
    "tags": []
   },
   "outputs": [],
   "source": [
    "submit_df = sub0.copy() #pd.read_csv('submission.csv')\n",
    "del sub0\n",
    "submit_df = pd.merge(submit_df, result, on='customer_id', how='outer')\n",
    "if VALID:\n",
    "    valid_users = list(submit_df[~submit_df.prediction_y.isnull()][\"customer_id\"])\n",
    "submit_df = submit_df.fillna(-1)\n",
    "submit_df['prediction'] = submit_df.apply(\n",
    "    lambda x: x['prediction_y'] if x['prediction_y'] != -1 else x['prediction_x'], axis=1)\n",
    "submit_df = submit_df.drop(columns=['prediction_y', 'prediction_x'])"
   ]
  },
  {
   "cell_type": "code",
   "execution_count": 25,
   "id": "1ac2de16",
   "metadata": {
    "execution": {
     "iopub.execute_input": "2022-04-13T11:45:33.618563Z",
     "iopub.status.busy": "2022-04-13T11:45:33.617344Z",
     "iopub.status.idle": "2022-04-13T11:45:40.314240Z",
     "shell.execute_reply": "2022-04-13T11:45:40.313760Z",
     "shell.execute_reply.started": "2022-04-13T10:49:09.664324Z"
    },
    "papermill": {
     "duration": 6.987674,
     "end_time": "2022-04-13T11:45:40.314360",
     "exception": false,
     "start_time": "2022-04-13T11:45:33.326686",
     "status": "completed"
    },
    "tags": []
   },
   "outputs": [
    {
     "name": "stdout",
     "output_type": "stream",
     "text": [
      "t 0.0039022005616532536 68984\n",
      "v 0.0018913636160436706 7665\n",
      "  \n",
      "0448509014 0573085028 0924243001 0751471001 0706016001 0924243002 0673677002 0715624001 0918522001 0706016003 0158340001 0579541001    316809\n",
      "0706016001 0448509014 0924243001 0751471001 0573085028 0706016002 0924243002 0673677002 0918522001 0715624001 0706016003 0158340001       749\n",
      "0568601006 0448509014 0924243001 0751471001 0573085028 0568597006 0924243002 0706016001 0673677002 0918522001 0715624001 0706016003       702\n",
      "0720125001 0448509014 0924243001 0706016001 0751471001 0573085028 0924243002 0673677002 0918522001 0715624001 0706016003 0158340001       621\n",
      "0673396002 0448509014 0924243001 0706016001 0751471001 0573085028 0924243002 0673677002 0918522001 0715624001 0706016003 0158340001       591\n",
      "                                                                                                                                        ...  \n",
      "0906226002 0867979001 0915529003 0918836001 0906226001 0852584001 0878604002 0762796013 0554598047 0832458002 0886223001 0715624002         1\n",
      "0856992001 0868161002 0924243001 0851400001 0868161001 0924243002 0841807004 0854247001 0918522001 0841807005 0879166005 0751471001         1\n",
      "0611415001 0111565001 0448509014 0924243001 0673677004 0924243002 0694127001 0749699001 0918522001 0824255001 0714790003 0751471001         1\n",
      "0850917001 0655784001 0924243001 0448509014 0751471001 0924243002 0573085028 0507909001 0918522001 0706016001 0796210001 0673677002         1\n",
      "0882810001 0714790020 0924243001 0821395003 0448509014 0866755002 0924243002 0840360003 0751471001 0706016001 0918522001 0464297007         1\n",
      "Name: prediction, Length: 859715, dtype: int64\n"
     ]
    }
   ],
   "source": [
    "# local score\n",
    "if VALID:\n",
    "    sub_check = submit_df.copy()\n",
    "    sub_check = sub_check.set_index('customer_id').reset_index()\n",
    "    print(\"t\", mapk(valid.prediction.str.split(), sub_check.prediction.str.split(), k=12), valid.shape[0])    \n",
    "    print(\"v\", \n",
    "            mapk(valid[valid.customer_id.isin(valid_users)].prediction.str.split(), \n",
    "               sub_check[sub_check.customer_id.isin(valid_users)].prediction.str.split(), k=12),\n",
    "            valid[valid.customer_id.isin(valid_users)].shape[0])    \n",
    "    print(\"  \")\n",
    "    print(sub_check[\"prediction\"].value_counts())  "
   ]
  },
  {
   "cell_type": "code",
   "execution_count": 26,
   "id": "a1d51748",
   "metadata": {
    "execution": {
     "iopub.execute_input": "2022-04-13T11:45:40.856725Z",
     "iopub.status.busy": "2022-04-13T11:45:40.854030Z",
     "iopub.status.idle": "2022-04-13T11:45:52.318520Z",
     "shell.execute_reply": "2022-04-13T11:45:52.318978Z",
     "shell.execute_reply.started": "2022-04-13T09:51:24.199233Z"
    },
    "papermill": {
     "duration": 11.735189,
     "end_time": "2022-04-13T11:45:52.319158",
     "exception": false,
     "start_time": "2022-04-13T11:45:40.583969",
     "status": "completed"
    },
    "tags": []
   },
   "outputs": [],
   "source": [
    "submit_df.to_csv('submission.csv', index=False)"
   ]
  }
 ],
 "metadata": {
  "kernelspec": {
   "display_name": "Python 3",
   "language": "python",
   "name": "python3"
  },
  "language_info": {
   "codemirror_mode": {
    "name": "ipython",
    "version": 3
   },
   "file_extension": ".py",
   "mimetype": "text/x-python",
   "name": "python",
   "nbconvert_exporter": "python",
   "pygments_lexer": "ipython3",
   "version": "3.7.12"
  },
  "papermill": {
   "default_parameters": {},
   "duration": 3355.840097,
   "end_time": "2022-04-13T11:45:56.096739",
   "environment_variables": {},
   "exception": null,
   "input_path": "__notebook__.ipynb",
   "output_path": "__notebook__.ipynb",
   "parameters": {},
   "start_time": "2022-04-13T10:50:00.256642",
   "version": "2.3.3"
  }
 },
 "nbformat": 4,
 "nbformat_minor": 5
}
