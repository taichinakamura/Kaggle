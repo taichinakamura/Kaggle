{
 "cells": [
  {
   "cell_type": "code",
   "execution_count": 1,
   "id": "830cd7d3",
   "metadata": {
    "execution": {
     "iopub.execute_input": "2022-04-13T01:33:08.865287Z",
     "iopub.status.busy": "2022-04-13T01:33:08.863803Z",
     "iopub.status.idle": "2022-04-13T01:33:25.363855Z",
     "shell.execute_reply": "2022-04-13T01:33:25.363151Z",
     "shell.execute_reply.started": "2022-04-13T00:39:53.235023Z"
    },
    "papermill": {
     "duration": 16.534757,
     "end_time": "2022-04-13T01:33:25.364028",
     "exception": false,
     "start_time": "2022-04-13T01:33:08.829271",
     "status": "completed"
    },
    "tags": []
   },
   "outputs": [
    {
     "name": "stdout",
     "output_type": "stream",
     "text": [
      "Collecting recbole\r\n",
      "  Downloading recbole-1.0.1-py3-none-any.whl (2.0 MB)\r\n",
      "     |████████████████████████████████| 2.0 MB 884 kB/s            \r\n",
      "\u001b[?25hRequirement already satisfied: torch>=1.7.0 in /opt/conda/lib/python3.7/site-packages (from recbole) (1.9.1)\r\n",
      "Requirement already satisfied: numpy>=1.17.2 in /opt/conda/lib/python3.7/site-packages (from recbole) (1.20.3)\r\n",
      "Requirement already satisfied: tqdm>=4.48.2 in /opt/conda/lib/python3.7/site-packages (from recbole) (4.62.3)\r\n",
      "Requirement already satisfied: pandas>=1.0.5 in /opt/conda/lib/python3.7/site-packages (from recbole) (1.3.5)\r\n",
      "Collecting colorlog==4.7.2\r\n",
      "  Downloading colorlog-4.7.2-py2.py3-none-any.whl (10 kB)\r\n",
      "Requirement already satisfied: tensorboard>=2.5.0 in /opt/conda/lib/python3.7/site-packages (from recbole) (2.6.0)\r\n",
      "Requirement already satisfied: pyyaml>=5.1.0 in /opt/conda/lib/python3.7/site-packages (from recbole) (6.0)\r\n",
      "Requirement already satisfied: colorama==0.4.4 in /opt/conda/lib/python3.7/site-packages (from recbole) (0.4.4)\r\n",
      "Collecting scipy==1.6.0\r\n",
      "  Downloading scipy-1.6.0-cp37-cp37m-manylinux1_x86_64.whl (27.4 MB)\r\n",
      "     |████████████████████████████████| 27.4 MB 54.1 MB/s            \r\n",
      "\u001b[?25hRequirement already satisfied: scikit-learn>=0.23.2 in /opt/conda/lib/python3.7/site-packages (from recbole) (0.23.2)\r\n",
      "Requirement already satisfied: python-dateutil>=2.7.3 in /opt/conda/lib/python3.7/site-packages (from pandas>=1.0.5->recbole) (2.8.2)\r\n",
      "Requirement already satisfied: pytz>=2017.3 in /opt/conda/lib/python3.7/site-packages (from pandas>=1.0.5->recbole) (2021.3)\r\n",
      "Requirement already satisfied: joblib>=0.11 in /opt/conda/lib/python3.7/site-packages (from scikit-learn>=0.23.2->recbole) (1.1.0)\r\n",
      "Requirement already satisfied: threadpoolctl>=2.0.0 in /opt/conda/lib/python3.7/site-packages (from scikit-learn>=0.23.2->recbole) (3.0.0)\r\n",
      "Requirement already satisfied: google-auth-oauthlib<0.5,>=0.4.1 in /opt/conda/lib/python3.7/site-packages (from tensorboard>=2.5.0->recbole) (0.4.6)\r\n",
      "Requirement already satisfied: grpcio>=1.24.3 in /opt/conda/lib/python3.7/site-packages (from tensorboard>=2.5.0->recbole) (1.43.0)\r\n",
      "Requirement already satisfied: absl-py>=0.4 in /opt/conda/lib/python3.7/site-packages (from tensorboard>=2.5.0->recbole) (0.15.0)\r\n",
      "Requirement already satisfied: google-auth<2,>=1.6.3 in /opt/conda/lib/python3.7/site-packages (from tensorboard>=2.5.0->recbole) (1.35.0)\r\n",
      "Requirement already satisfied: werkzeug>=0.11.15 in /opt/conda/lib/python3.7/site-packages (from tensorboard>=2.5.0->recbole) (2.0.2)\r\n",
      "Requirement already satisfied: tensorboard-plugin-wit>=1.6.0 in /opt/conda/lib/python3.7/site-packages (from tensorboard>=2.5.0->recbole) (1.8.0)\r\n",
      "Requirement already satisfied: protobuf>=3.6.0 in /opt/conda/lib/python3.7/site-packages (from tensorboard>=2.5.0->recbole) (3.19.1)\r\n",
      "Requirement already satisfied: tensorboard-data-server<0.7.0,>=0.6.0 in /opt/conda/lib/python3.7/site-packages (from tensorboard>=2.5.0->recbole) (0.6.1)\r\n",
      "Requirement already satisfied: setuptools>=41.0.0 in /opt/conda/lib/python3.7/site-packages (from tensorboard>=2.5.0->recbole) (59.5.0)\r\n",
      "Requirement already satisfied: markdown>=2.6.8 in /opt/conda/lib/python3.7/site-packages (from tensorboard>=2.5.0->recbole) (3.3.6)\r\n",
      "Requirement already satisfied: requests<3,>=2.21.0 in /opt/conda/lib/python3.7/site-packages (from tensorboard>=2.5.0->recbole) (2.26.0)\r\n",
      "Requirement already satisfied: wheel>=0.26 in /opt/conda/lib/python3.7/site-packages (from tensorboard>=2.5.0->recbole) (0.37.0)\r\n",
      "Requirement already satisfied: typing-extensions in /opt/conda/lib/python3.7/site-packages (from torch>=1.7.0->recbole) (4.0.1)\r\n",
      "Requirement already satisfied: six in /opt/conda/lib/python3.7/site-packages (from absl-py>=0.4->tensorboard>=2.5.0->recbole) (1.16.0)\r\n",
      "Requirement already satisfied: rsa<5,>=3.1.4 in /opt/conda/lib/python3.7/site-packages (from google-auth<2,>=1.6.3->tensorboard>=2.5.0->recbole) (4.8)\r\n",
      "Requirement already satisfied: pyasn1-modules>=0.2.1 in /opt/conda/lib/python3.7/site-packages (from google-auth<2,>=1.6.3->tensorboard>=2.5.0->recbole) (0.2.7)\r\n",
      "Requirement already satisfied: cachetools<5.0,>=2.0.0 in /opt/conda/lib/python3.7/site-packages (from google-auth<2,>=1.6.3->tensorboard>=2.5.0->recbole) (4.2.4)\r\n",
      "Requirement already satisfied: requests-oauthlib>=0.7.0 in /opt/conda/lib/python3.7/site-packages (from google-auth-oauthlib<0.5,>=0.4.1->tensorboard>=2.5.0->recbole) (1.3.0)\r\n",
      "Requirement already satisfied: importlib-metadata>=4.4 in /opt/conda/lib/python3.7/site-packages (from markdown>=2.6.8->tensorboard>=2.5.0->recbole) (4.10.1)\r\n",
      "Requirement already satisfied: idna<4,>=2.5 in /opt/conda/lib/python3.7/site-packages (from requests<3,>=2.21.0->tensorboard>=2.5.0->recbole) (3.1)\r\n",
      "Requirement already satisfied: charset-normalizer~=2.0.0 in /opt/conda/lib/python3.7/site-packages (from requests<3,>=2.21.0->tensorboard>=2.5.0->recbole) (2.0.9)\r\n",
      "Requirement already satisfied: certifi>=2017.4.17 in /opt/conda/lib/python3.7/site-packages (from requests<3,>=2.21.0->tensorboard>=2.5.0->recbole) (2021.10.8)\r\n",
      "Requirement already satisfied: urllib3<1.27,>=1.21.1 in /opt/conda/lib/python3.7/site-packages (from requests<3,>=2.21.0->tensorboard>=2.5.0->recbole) (1.26.7)\r\n",
      "Requirement already satisfied: zipp>=0.5 in /opt/conda/lib/python3.7/site-packages (from importlib-metadata>=4.4->markdown>=2.6.8->tensorboard>=2.5.0->recbole) (3.6.0)\r\n",
      "Requirement already satisfied: pyasn1<0.5.0,>=0.4.6 in /opt/conda/lib/python3.7/site-packages (from pyasn1-modules>=0.2.1->google-auth<2,>=1.6.3->tensorboard>=2.5.0->recbole) (0.4.8)\r\n",
      "Requirement already satisfied: oauthlib>=3.0.0 in /opt/conda/lib/python3.7/site-packages (from requests-oauthlib>=0.7.0->google-auth-oauthlib<0.5,>=0.4.1->tensorboard>=2.5.0->recbole) (3.1.1)\r\n",
      "Installing collected packages: scipy, colorlog, recbole\r\n",
      "  Attempting uninstall: scipy\r\n",
      "    Found existing installation: scipy 1.7.3\r\n",
      "    Uninstalling scipy-1.7.3:\r\n",
      "      Successfully uninstalled scipy-1.7.3\r\n",
      "  Attempting uninstall: colorlog\r\n",
      "    Found existing installation: colorlog 6.6.0\r\n",
      "    Uninstalling colorlog-6.6.0:\r\n",
      "      Successfully uninstalled colorlog-6.6.0\r\n",
      "\u001b[31mERROR: pip's dependency resolver does not currently take into account all the packages that are installed. This behaviour is the source of the following dependency conflicts.\r\n",
      "yellowbrick 1.3.post1 requires numpy<1.20,>=1.16.0, but you have numpy 1.20.3 which is incompatible.\r\n",
      "pdpbox 0.2.1 requires matplotlib==3.1.1, but you have matplotlib 3.5.1 which is incompatible.\r\n",
      "imbalanced-learn 0.9.0 requires scikit-learn>=1.0.1, but you have scikit-learn 0.23.2 which is incompatible.\r\n",
      "featuretools 1.4.1 requires numpy>=1.21.0, but you have numpy 1.20.3 which is incompatible.\r\n",
      "arviz 0.11.4 requires typing-extensions<4,>=3.7.4.3, but you have typing-extensions 4.0.1 which is incompatible.\u001b[0m\r\n",
      "Successfully installed colorlog-4.7.2 recbole-1.0.1 scipy-1.6.0\r\n",
      "\u001b[33mWARNING: Running pip as the 'root' user can result in broken permissions and conflicting behaviour with the system package manager. It is recommended to use a virtual environment instead: https://pip.pypa.io/warnings/venv\u001b[0m\r\n"
     ]
    }
   ],
   "source": [
    "!pip install recbole"
   ]
  },
  {
   "cell_type": "code",
   "execution_count": 2,
   "id": "9d6f60a8",
   "metadata": {
    "execution": {
     "iopub.execute_input": "2022-04-13T01:33:25.463492Z",
     "iopub.status.busy": "2022-04-13T01:33:25.462694Z",
     "iopub.status.idle": "2022-04-13T01:33:27.739437Z",
     "shell.execute_reply": "2022-04-13T01:33:27.738767Z",
     "shell.execute_reply.started": "2022-04-13T00:40:09.471144Z"
    },
    "papermill": {
     "duration": 2.328038,
     "end_time": "2022-04-13T01:33:27.739589",
     "exception": false,
     "start_time": "2022-04-13T01:33:25.411551",
     "status": "completed"
    },
    "tags": []
   },
   "outputs": [],
   "source": [
    "import gc\n",
    "import os\n",
    "import numpy as np\n",
    "import pandas as pd\n",
    "\n",
    "import torch\n",
    "import logging\n",
    "from logging import getLogger\n",
    "from recbole.config import Config\n",
    "from recbole.data import create_dataset, data_preparation\n",
    "from recbole.model.sequential_recommender import GRU4RecF\n",
    "from recbole.trainer import Trainer\n",
    "from recbole.utils import init_seed, init_logger\n",
    "from recbole.utils.case_study import full_sort_topk\n",
    "from recbole.data.interaction import Interaction"
   ]
  },
  {
   "cell_type": "code",
   "execution_count": 3,
   "id": "d114b21a",
   "metadata": {
    "execution": {
     "iopub.execute_input": "2022-04-13T01:33:27.833594Z",
     "iopub.status.busy": "2022-04-13T01:33:27.832909Z",
     "iopub.status.idle": "2022-04-13T01:33:27.836254Z",
     "shell.execute_reply": "2022-04-13T01:33:27.835680Z",
     "shell.execute_reply.started": "2022-04-13T00:40:11.844719Z"
    },
    "papermill": {
     "duration": 0.051584,
     "end_time": "2022-04-13T01:33:27.836381",
     "exception": false,
     "start_time": "2022-04-13T01:33:27.784797",
     "status": "completed"
    },
    "tags": []
   },
   "outputs": [],
   "source": [
    "VALID = True"
   ]
  },
  {
   "cell_type": "code",
   "execution_count": 4,
   "id": "951608fe",
   "metadata": {
    "execution": {
     "iopub.execute_input": "2022-04-13T01:33:27.935432Z",
     "iopub.status.busy": "2022-04-13T01:33:27.934662Z",
     "iopub.status.idle": "2022-04-13T01:33:27.936974Z",
     "shell.execute_reply": "2022-04-13T01:33:27.937360Z",
     "shell.execute_reply.started": "2022-04-13T00:40:11.854705Z"
    },
    "papermill": {
     "duration": 0.053996,
     "end_time": "2022-04-13T01:33:27.937486",
     "exception": false,
     "start_time": "2022-04-13T01:33:27.883490",
     "status": "completed"
    },
    "tags": []
   },
   "outputs": [],
   "source": [
    "def apk(actual, predicted, k=12):\n",
    "    if len(predicted)>k:\n",
    "        predicted = predicted[:k]\n",
    "        \n",
    "    score = 0.0\n",
    "    num_hits = 0.0\n",
    "    \n",
    "    for i,p in enumerate(predicted):\n",
    "        if p in actual and p not in predicted[:i]:\n",
    "            num_hits += 1.0\n",
    "            score += num_hits / (i+1.0)\n",
    "\n",
    "    if not actual:\n",
    "        return 0.0\n",
    "\n",
    "    return score / min(len(actual), k)\n",
    "\n",
    "def mapk(actual, predicted, k=12):\n",
    "    \"\"\"\n",
    "    Computes the mean average precision at k.\n",
    "    This function computes the mean average prescision at k between two lists\n",
    "    of lists of items.\n",
    "    Parameters\n",
    "    ----------\n",
    "    actual : list\n",
    "             A list of lists of elements that are to be predicted \n",
    "             (order doesn't matter in the lists)\n",
    "    predicted : list\n",
    "                A list of lists of predicted elements\n",
    "                (order matters in the lists)\n",
    "    k : int, optional\n",
    "        The maximum number of predicted elements\n",
    "    Returns\n",
    "    -------\n",
    "    score : double\n",
    "            The mean average precision at k over the input lists\n",
    "    \"\"\"\n",
    "    return np.mean([apk(a,p,k) for a,p in zip(actual, predicted)])"
   ]
  },
  {
   "cell_type": "markdown",
   "id": "64b8459a",
   "metadata": {
    "papermill": {
     "duration": 0.045208,
     "end_time": "2022-04-13T01:33:28.027589",
     "exception": false,
     "start_time": "2022-04-13T01:33:27.982381",
     "status": "completed"
    },
    "tags": []
   },
   "source": [
    "# 1. Create atomic file"
   ]
  },
  {
   "cell_type": "markdown",
   "id": "2076e4a8",
   "metadata": {
    "papermill": {
     "duration": 0.053374,
     "end_time": "2022-04-13T01:33:28.125686",
     "exception": false,
     "start_time": "2022-04-13T01:33:28.072312",
     "status": "completed"
    },
    "tags": []
   },
   "source": [
    "### 1.A create atomic of item features"
   ]
  },
  {
   "cell_type": "code",
   "execution_count": 5,
   "id": "a7ceaedb",
   "metadata": {
    "execution": {
     "iopub.execute_input": "2022-04-13T01:33:28.220011Z",
     "iopub.status.busy": "2022-04-13T01:33:28.219151Z",
     "iopub.status.idle": "2022-04-13T01:33:29.246619Z",
     "shell.execute_reply": "2022-04-13T01:33:29.245989Z",
     "shell.execute_reply.started": "2022-04-13T00:40:11.870717Z"
    },
    "papermill": {
     "duration": 1.076636,
     "end_time": "2022-04-13T01:33:29.246779",
     "exception": false,
     "start_time": "2022-04-13T01:33:28.170143",
     "status": "completed"
    },
    "tags": []
   },
   "outputs": [
    {
     "name": "stdout",
     "output_type": "stream",
     "text": [
      "article_id 105542\n",
      "product_code 47224\n",
      "prod_name 45875\n",
      "product_type_no 132\n",
      "product_type_name 131\n",
      "product_group_name 19\n",
      "graphical_appearance_no 30\n",
      "graphical_appearance_name 30\n",
      "colour_group_code 50\n",
      "colour_group_name 50\n",
      "perceived_colour_value_id 8\n",
      "perceived_colour_value_name 8\n",
      "perceived_colour_master_id 20\n",
      "perceived_colour_master_name 20\n",
      "department_no 299\n",
      "department_name 250\n",
      "index_code 10\n",
      "index_name 10\n",
      "index_group_no 5\n",
      "index_group_name 5\n",
      "section_no 57\n",
      "section_name 56\n",
      "garment_group_no 21\n",
      "garment_group_name 21\n",
      "detail_desc 43405\n"
     ]
    }
   ],
   "source": [
    "df = pd.read_csv(r\"/kaggle/input/h-and-m-personalized-fashion-recommendations/articles.csv\", dtype={'article_id': 'str'})\n",
    "\n",
    "for col in df.columns:\n",
    "    print(col, len(pd.unique(df[col])))"
   ]
  },
  {
   "cell_type": "code",
   "execution_count": 6,
   "id": "a9191ede",
   "metadata": {
    "execution": {
     "iopub.execute_input": "2022-04-13T01:33:29.347489Z",
     "iopub.status.busy": "2022-04-13T01:33:29.346592Z",
     "iopub.status.idle": "2022-04-13T01:33:29.382438Z",
     "shell.execute_reply": "2022-04-13T01:33:29.382850Z",
     "shell.execute_reply.started": "2022-04-13T00:40:12.934441Z"
    },
    "papermill": {
     "duration": 0.09012,
     "end_time": "2022-04-13T01:33:29.383013",
     "exception": false,
     "start_time": "2022-04-13T01:33:29.292893",
     "status": "completed"
    },
    "tags": []
   },
   "outputs": [
    {
     "data": {
      "text/html": [
       "<div>\n",
       "<style scoped>\n",
       "    .dataframe tbody tr th:only-of-type {\n",
       "        vertical-align: middle;\n",
       "    }\n",
       "\n",
       "    .dataframe tbody tr th {\n",
       "        vertical-align: top;\n",
       "    }\n",
       "\n",
       "    .dataframe thead th {\n",
       "        text-align: right;\n",
       "    }\n",
       "</style>\n",
       "<table border=\"1\" class=\"dataframe\">\n",
       "  <thead>\n",
       "    <tr style=\"text-align: right;\">\n",
       "      <th></th>\n",
       "      <th>item_id:token</th>\n",
       "      <th>product_code:token</th>\n",
       "      <th>product_type_no:float</th>\n",
       "      <th>product_group_name:token_seq</th>\n",
       "      <th>graphical_appearance_no:token</th>\n",
       "      <th>colour_group_code:token</th>\n",
       "      <th>perceived_colour_value_id:token</th>\n",
       "      <th>perceived_colour_master_id:token</th>\n",
       "      <th>department_no:token</th>\n",
       "      <th>index_code:token</th>\n",
       "      <th>index_group_no:token</th>\n",
       "      <th>section_no:token</th>\n",
       "      <th>garment_group_no:token</th>\n",
       "    </tr>\n",
       "  </thead>\n",
       "  <tbody>\n",
       "    <tr>\n",
       "      <th>0</th>\n",
       "      <td>0108775015</td>\n",
       "      <td>108775</td>\n",
       "      <td>253</td>\n",
       "      <td>Garment Upper body</td>\n",
       "      <td>1010016</td>\n",
       "      <td>9</td>\n",
       "      <td>4</td>\n",
       "      <td>5</td>\n",
       "      <td>1676</td>\n",
       "      <td>A</td>\n",
       "      <td>1</td>\n",
       "      <td>16</td>\n",
       "      <td>1002</td>\n",
       "    </tr>\n",
       "    <tr>\n",
       "      <th>1</th>\n",
       "      <td>0108775044</td>\n",
       "      <td>108775</td>\n",
       "      <td>253</td>\n",
       "      <td>Garment Upper body</td>\n",
       "      <td>1010016</td>\n",
       "      <td>10</td>\n",
       "      <td>3</td>\n",
       "      <td>9</td>\n",
       "      <td>1676</td>\n",
       "      <td>A</td>\n",
       "      <td>1</td>\n",
       "      <td>16</td>\n",
       "      <td>1002</td>\n",
       "    </tr>\n",
       "    <tr>\n",
       "      <th>2</th>\n",
       "      <td>0108775051</td>\n",
       "      <td>108775</td>\n",
       "      <td>253</td>\n",
       "      <td>Garment Upper body</td>\n",
       "      <td>1010017</td>\n",
       "      <td>11</td>\n",
       "      <td>1</td>\n",
       "      <td>9</td>\n",
       "      <td>1676</td>\n",
       "      <td>A</td>\n",
       "      <td>1</td>\n",
       "      <td>16</td>\n",
       "      <td>1002</td>\n",
       "    </tr>\n",
       "    <tr>\n",
       "      <th>3</th>\n",
       "      <td>0110065001</td>\n",
       "      <td>110065</td>\n",
       "      <td>306</td>\n",
       "      <td>Underwear</td>\n",
       "      <td>1010016</td>\n",
       "      <td>9</td>\n",
       "      <td>4</td>\n",
       "      <td>5</td>\n",
       "      <td>1339</td>\n",
       "      <td>B</td>\n",
       "      <td>1</td>\n",
       "      <td>61</td>\n",
       "      <td>1017</td>\n",
       "    </tr>\n",
       "    <tr>\n",
       "      <th>4</th>\n",
       "      <td>0110065002</td>\n",
       "      <td>110065</td>\n",
       "      <td>306</td>\n",
       "      <td>Underwear</td>\n",
       "      <td>1010016</td>\n",
       "      <td>10</td>\n",
       "      <td>3</td>\n",
       "      <td>9</td>\n",
       "      <td>1339</td>\n",
       "      <td>B</td>\n",
       "      <td>1</td>\n",
       "      <td>61</td>\n",
       "      <td>1017</td>\n",
       "    </tr>\n",
       "  </tbody>\n",
       "</table>\n",
       "</div>"
      ],
      "text/plain": [
       "  item_id:token  product_code:token  product_type_no:float  \\\n",
       "0    0108775015              108775                    253   \n",
       "1    0108775044              108775                    253   \n",
       "2    0108775051              108775                    253   \n",
       "3    0110065001              110065                    306   \n",
       "4    0110065002              110065                    306   \n",
       "\n",
       "  product_group_name:token_seq  graphical_appearance_no:token  \\\n",
       "0           Garment Upper body                        1010016   \n",
       "1           Garment Upper body                        1010016   \n",
       "2           Garment Upper body                        1010017   \n",
       "3                    Underwear                        1010016   \n",
       "4                    Underwear                        1010016   \n",
       "\n",
       "   colour_group_code:token  perceived_colour_value_id:token  \\\n",
       "0                        9                                4   \n",
       "1                       10                                3   \n",
       "2                       11                                1   \n",
       "3                        9                                4   \n",
       "4                       10                                3   \n",
       "\n",
       "   perceived_colour_master_id:token  department_no:token index_code:token  \\\n",
       "0                                 5                 1676                A   \n",
       "1                                 9                 1676                A   \n",
       "2                                 9                 1676                A   \n",
       "3                                 5                 1339                B   \n",
       "4                                 9                 1339                B   \n",
       "\n",
       "   index_group_no:token  section_no:token  garment_group_no:token  \n",
       "0                     1                16                    1002  \n",
       "1                     1                16                    1002  \n",
       "2                     1                16                    1002  \n",
       "3                     1                61                    1017  \n",
       "4                     1                61                    1017  "
      ]
     },
     "execution_count": 6,
     "metadata": {},
     "output_type": "execute_result"
    }
   ],
   "source": [
    "df = df.drop(columns = ['product_type_name', 'graphical_appearance_name', 'colour_group_name', 'perceived_colour_value_name',\n",
    "                        'perceived_colour_master_name', 'index_name', 'index_group_name', 'section_name', \n",
    "                        'garment_group_name', 'prod_name', 'department_name', 'detail_desc'])\n",
    "temp = df.rename(\n",
    "    columns={'article_id': 'item_id:token', 'product_code': 'product_code:token', 'product_type_no': 'product_type_no:float',\n",
    "             'product_group_name': 'product_group_name:token_seq', 'graphical_appearance_no': 'graphical_appearance_no:token', \n",
    "             'colour_group_code': 'colour_group_code:token', 'perceived_colour_value_id': 'perceived_colour_value_id:token', \n",
    "             'perceived_colour_master_id': 'perceived_colour_master_id:token', 'department_no': 'department_no:token', \n",
    "             'index_code': 'index_code:token', 'index_group_no': 'index_group_no:token', 'section_no': 'section_no:token', \n",
    "             'garment_group_no': 'garment_group_no:token'})\n",
    "temp.head()"
   ]
  },
  {
   "cell_type": "code",
   "execution_count": 7,
   "id": "e5df80d4",
   "metadata": {
    "execution": {
     "iopub.execute_input": "2022-04-13T01:33:29.481158Z",
     "iopub.status.busy": "2022-04-13T01:33:29.480480Z",
     "iopub.status.idle": "2022-04-13T01:33:30.642109Z",
     "shell.execute_reply": "2022-04-13T01:33:30.641606Z",
     "shell.execute_reply.started": "2022-04-13T00:40:12.979300Z"
    },
    "papermill": {
     "duration": 1.213243,
     "end_time": "2022-04-13T01:33:30.642251",
     "exception": false,
     "start_time": "2022-04-13T01:33:29.429008",
     "status": "completed"
    },
    "tags": []
   },
   "outputs": [],
   "source": [
    "!mkdir /kaggle/working/recbox_data\n",
    "temp.to_csv(r'/kaggle/working/recbox_data/recbox_data.item', index=False, sep='\\t')"
   ]
  },
  {
   "cell_type": "markdown",
   "id": "22dcdf74",
   "metadata": {
    "papermill": {
     "duration": 0.045509,
     "end_time": "2022-04-13T01:33:30.735719",
     "exception": false,
     "start_time": "2022-04-13T01:33:30.690210",
     "status": "completed"
    },
    "tags": []
   },
   "source": [
    "### 1.B create atomic of interation features"
   ]
  },
  {
   "cell_type": "code",
   "execution_count": 8,
   "id": "9af565a4",
   "metadata": {
    "execution": {
     "iopub.execute_input": "2022-04-13T01:33:30.833026Z",
     "iopub.status.busy": "2022-04-13T01:33:30.832237Z",
     "iopub.status.idle": "2022-04-13T01:34:38.036876Z",
     "shell.execute_reply": "2022-04-13T01:34:38.037330Z",
     "shell.execute_reply.started": "2022-04-13T00:40:14.136683Z"
    },
    "papermill": {
     "duration": 67.25629,
     "end_time": "2022-04-13T01:34:38.037476",
     "exception": false,
     "start_time": "2022-04-13T01:33:30.781186",
     "status": "completed"
    },
    "tags": []
   },
   "outputs": [
    {
     "data": {
      "text/html": [
       "<div>\n",
       "<style scoped>\n",
       "    .dataframe tbody tr th:only-of-type {\n",
       "        vertical-align: middle;\n",
       "    }\n",
       "\n",
       "    .dataframe tbody tr th {\n",
       "        vertical-align: top;\n",
       "    }\n",
       "\n",
       "    .dataframe thead th {\n",
       "        text-align: right;\n",
       "    }\n",
       "</style>\n",
       "<table border=\"1\" class=\"dataframe\">\n",
       "  <thead>\n",
       "    <tr style=\"text-align: right;\">\n",
       "      <th></th>\n",
       "      <th>t_dat</th>\n",
       "      <th>customer_id</th>\n",
       "      <th>article_id</th>\n",
       "      <th>price</th>\n",
       "      <th>sales_channel_id</th>\n",
       "      <th>timestamp</th>\n",
       "    </tr>\n",
       "  </thead>\n",
       "  <tbody>\n",
       "    <tr>\n",
       "      <th>0</th>\n",
       "      <td>2018-09-20</td>\n",
       "      <td>000058a12d5b43e67d225668fa1f8d618c13dc232df0ca...</td>\n",
       "      <td>0663713001</td>\n",
       "      <td>0.050831</td>\n",
       "      <td>2</td>\n",
       "      <td>1537401600</td>\n",
       "    </tr>\n",
       "    <tr>\n",
       "      <th>1</th>\n",
       "      <td>2018-09-20</td>\n",
       "      <td>000058a12d5b43e67d225668fa1f8d618c13dc232df0ca...</td>\n",
       "      <td>0541518023</td>\n",
       "      <td>0.030492</td>\n",
       "      <td>2</td>\n",
       "      <td>1537401600</td>\n",
       "    </tr>\n",
       "    <tr>\n",
       "      <th>2</th>\n",
       "      <td>2018-09-20</td>\n",
       "      <td>00007d2de826758b65a93dd24ce629ed66842531df6699...</td>\n",
       "      <td>0505221004</td>\n",
       "      <td>0.015237</td>\n",
       "      <td>2</td>\n",
       "      <td>1537401600</td>\n",
       "    </tr>\n",
       "    <tr>\n",
       "      <th>3</th>\n",
       "      <td>2018-09-20</td>\n",
       "      <td>00007d2de826758b65a93dd24ce629ed66842531df6699...</td>\n",
       "      <td>0685687003</td>\n",
       "      <td>0.016932</td>\n",
       "      <td>2</td>\n",
       "      <td>1537401600</td>\n",
       "    </tr>\n",
       "    <tr>\n",
       "      <th>4</th>\n",
       "      <td>2018-09-20</td>\n",
       "      <td>00007d2de826758b65a93dd24ce629ed66842531df6699...</td>\n",
       "      <td>0685687004</td>\n",
       "      <td>0.016932</td>\n",
       "      <td>2</td>\n",
       "      <td>1537401600</td>\n",
       "    </tr>\n",
       "  </tbody>\n",
       "</table>\n",
       "</div>"
      ],
      "text/plain": [
       "       t_dat                                        customer_id  article_id  \\\n",
       "0 2018-09-20  000058a12d5b43e67d225668fa1f8d618c13dc232df0ca...  0663713001   \n",
       "1 2018-09-20  000058a12d5b43e67d225668fa1f8d618c13dc232df0ca...  0541518023   \n",
       "2 2018-09-20  00007d2de826758b65a93dd24ce629ed66842531df6699...  0505221004   \n",
       "3 2018-09-20  00007d2de826758b65a93dd24ce629ed66842531df6699...  0685687003   \n",
       "4 2018-09-20  00007d2de826758b65a93dd24ce629ed66842531df6699...  0685687004   \n",
       "\n",
       "      price  sales_channel_id   timestamp  \n",
       "0  0.050831                 2  1537401600  \n",
       "1  0.030492                 2  1537401600  \n",
       "2  0.015237                 2  1537401600  \n",
       "3  0.016932                 2  1537401600  \n",
       "4  0.016932                 2  1537401600  "
      ]
     },
     "execution_count": 8,
     "metadata": {},
     "output_type": "execute_result"
    }
   ],
   "source": [
    "df = pd.read_csv(r\"/kaggle/input/h-and-m-personalized-fashion-recommendations/transactions_train.csv\", \n",
    "                 dtype={'article_id': 'str'})\n",
    "df['t_dat'] = pd.to_datetime(df['t_dat'], format=\"%Y-%m-%d\")\n",
    "df['timestamp'] = df.t_dat.values.astype(np.int64) // 10 ** 9\n",
    "df.head()"
   ]
  },
  {
   "cell_type": "markdown",
   "id": "a569a126",
   "metadata": {
    "papermill": {
     "duration": 0.082123,
     "end_time": "2022-04-13T01:34:38.174894",
     "exception": false,
     "start_time": "2022-04-13T01:34:38.092771",
     "status": "completed"
    },
    "tags": []
   },
   "source": [
    "**We fill with data in only 2020(timestamp > > 1585620000) and create inter file**\n",
    "For anyone need instruction about inter file, please check below links:\n",
    "* https://recbole.io/docs/user_guide/data_intro.html\n",
    "* https://recbole.io/docs/user_guide/data/atomic_files.html\n",
    "\n",
    "if you want a full of iterations without limiting timestamp, please check here:"
   ]
  },
  {
   "cell_type": "code",
   "execution_count": 9,
   "id": "615b4a8a",
   "metadata": {
    "execution": {
     "iopub.execute_input": "2022-04-13T01:34:38.340099Z",
     "iopub.status.busy": "2022-04-13T01:34:38.339334Z",
     "iopub.status.idle": "2022-04-13T01:34:41.393525Z",
     "shell.execute_reply": "2022-04-13T01:34:41.393043Z",
     "shell.execute_reply.started": "2022-04-13T00:41:23.025232Z"
    },
    "papermill": {
     "duration": 3.139215,
     "end_time": "2022-04-13T01:34:41.393659",
     "exception": false,
     "start_time": "2022-04-13T01:34:38.254444",
     "status": "completed"
    },
    "tags": []
   },
   "outputs": [],
   "source": [
    "if VALID:\n",
    "    valid_time = df[df.t_dat==\"2020-09-16\"][\"timestamp\"].values[0]\n",
    "    valid = df[df['timestamp'] >= valid_time].groupby('customer_id')['article_id'].apply(list).reset_index()\n",
    "    valid = valid.rename({'article_id':'prediction'},axis=1)\n",
    "    valid['prediction'] = valid.prediction.apply(lambda x: ' '.join([str(k) for k in x]))\n",
    "    temp = df[(df['timestamp'] > 1585620000) & (df['timestamp'] < valid_time)][['customer_id', 'article_id', 'timestamp']].rename(\n",
    "    columns={'customer_id': 'user_id:token', 'article_id': 'item_id:token', 'timestamp': 'timestamp:float'})    \n",
    "else:\n",
    "    temp = df[df['timestamp'] > 1585620000][['customer_id', 'article_id', 'timestamp']].rename(\n",
    "    columns={'customer_id': 'user_id:token', 'article_id': 'item_id:token', 'timestamp': 'timestamp:float'})    "
   ]
  },
  {
   "cell_type": "code",
   "execution_count": 10,
   "id": "4593d1b2",
   "metadata": {
    "execution": {
     "iopub.execute_input": "2022-04-13T01:34:41.491591Z",
     "iopub.status.busy": "2022-04-13T01:34:41.490799Z",
     "iopub.status.idle": "2022-04-13T01:35:14.930898Z",
     "shell.execute_reply": "2022-04-13T01:35:14.931380Z",
     "shell.execute_reply.started": "2022-04-13T00:41:26.014440Z"
    },
    "papermill": {
     "duration": 33.491837,
     "end_time": "2022-04-13T01:35:14.931533",
     "exception": false,
     "start_time": "2022-04-13T01:34:41.439696",
     "status": "completed"
    },
    "tags": []
   },
   "outputs": [
    {
     "data": {
      "text/plain": [
       "47"
      ]
     },
     "execution_count": 10,
     "metadata": {},
     "output_type": "execute_result"
    }
   ],
   "source": [
    "# We save atomic file in dataset format for using with recbole\n",
    "temp.to_csv('/kaggle/working/recbox_data/recbox_data.inter', index=False, sep='\\t')\n",
    "del temp\n",
    "gc.collect()"
   ]
  },
  {
   "cell_type": "markdown",
   "id": "d112c2a6",
   "metadata": {
    "papermill": {
     "duration": 0.046274,
     "end_time": "2022-04-13T01:35:15.023337",
     "exception": false,
     "start_time": "2022-04-13T01:35:14.977063",
     "status": "completed"
    },
    "tags": []
   },
   "source": [
    "# 2. We create defautl recomendation for user who can not be predicted by sequential model.\n",
    "I use this approach in notebook: https://www.kaggle.com/hervind/h-m-faster-trending-products-weekly You can check it for more detail information. I will juse copy only code here"
   ]
  },
  {
   "cell_type": "code",
   "execution_count": 11,
   "id": "a2ebd529",
   "metadata": {
    "execution": {
     "iopub.execute_input": "2022-04-13T01:35:15.120146Z",
     "iopub.status.busy": "2022-04-13T01:35:15.119601Z",
     "iopub.status.idle": "2022-04-13T01:36:05.283356Z",
     "shell.execute_reply": "2022-04-13T01:36:05.283766Z",
     "shell.execute_reply.started": "2022-04-13T00:41:59.595186Z"
    },
    "papermill": {
     "duration": 50.214347,
     "end_time": "2022-04-13T01:36:05.283916",
     "exception": false,
     "start_time": "2022-04-13T01:35:15.069569",
     "status": "completed"
    },
    "tags": []
   },
   "outputs": [
    {
     "data": {
      "text/plain": [
       "((1371980, 2), (1371980, 2), (1371980, 2))"
      ]
     },
     "execution_count": 11,
     "metadata": {},
     "output_type": "execute_result"
    }
   ],
   "source": [
    "sub0 = pd.read_csv('../input/hm-pre-recommendation/submissio_byfone_chris.csv').sort_values('customer_id').reset_index(drop=True)\n",
    "sub1 = pd.read_csv('../input/hm-pre-recommendation/submission_trending.csv').sort_values('customer_id').reset_index(drop=True)\n",
    "sub2 = pd.read_csv('../input/hm-pre-recommendation/submission_exponential_decay.csv').sort_values('customer_id').reset_index(drop=True)\n",
    "\n",
    "sub0.shape, sub1.shape, sub2.shape"
   ]
  },
  {
   "cell_type": "code",
   "execution_count": 12,
   "id": "24373178",
   "metadata": {
    "execution": {
     "iopub.execute_input": "2022-04-13T01:36:05.382829Z",
     "iopub.status.busy": "2022-04-13T01:36:05.382302Z",
     "iopub.status.idle": "2022-04-13T01:36:05.632199Z",
     "shell.execute_reply": "2022-04-13T01:36:05.631724Z",
     "shell.execute_reply.started": "2022-04-13T00:42:52.903340Z"
    },
    "papermill": {
     "duration": 0.30148,
     "end_time": "2022-04-13T01:36:05.632321",
     "exception": false,
     "start_time": "2022-04-13T01:36:05.330841",
     "status": "completed"
    },
    "tags": []
   },
   "outputs": [
    {
     "data": {
      "text/html": [
       "<div>\n",
       "<style scoped>\n",
       "    .dataframe tbody tr th:only-of-type {\n",
       "        vertical-align: middle;\n",
       "    }\n",
       "\n",
       "    .dataframe tbody tr th {\n",
       "        vertical-align: top;\n",
       "    }\n",
       "\n",
       "    .dataframe thead th {\n",
       "        text-align: right;\n",
       "    }\n",
       "</style>\n",
       "<table border=\"1\" class=\"dataframe\">\n",
       "  <thead>\n",
       "    <tr style=\"text-align: right;\">\n",
       "      <th></th>\n",
       "      <th>customer_id</th>\n",
       "      <th>prediction0</th>\n",
       "      <th>prediction1</th>\n",
       "      <th>prediction2</th>\n",
       "    </tr>\n",
       "  </thead>\n",
       "  <tbody>\n",
       "    <tr>\n",
       "      <th>0</th>\n",
       "      <td>00000dbacae5abe5e23885899a1fa44253a17956c6d1c3...</td>\n",
       "      <td>0568601043 0568601006 0656719005 0745232001 07...</td>\n",
       "      <td>0568601043 0568601006 0656719005 0745232001 07...</td>\n",
       "      <td>0568601043 0924243001 0924243002 0918522001 07...</td>\n",
       "    </tr>\n",
       "    <tr>\n",
       "      <th>1</th>\n",
       "      <td>0000423b00ade91418cceaf3b26c6af3dd342b51fd051e...</td>\n",
       "      <td>0826211002 0800436010 0739590027 0723529001 08...</td>\n",
       "      <td>0826211002 0800436010 0739590027 0723529001 08...</td>\n",
       "      <td>0924243001 0924243002 0918522001 0751471001 04...</td>\n",
       "    </tr>\n",
       "    <tr>\n",
       "      <th>2</th>\n",
       "      <td>000058a12d5b43e67d225668fa1f8d618c13dc232df0ca...</td>\n",
       "      <td>0794321007 0852643001 0852643003 0858883002 07...</td>\n",
       "      <td>0794321007 0852643001 0852643003 0858883002 07...</td>\n",
       "      <td>0794321007 0924243001 0924243002 0918522001 07...</td>\n",
       "    </tr>\n",
       "    <tr>\n",
       "      <th>3</th>\n",
       "      <td>00005ca1c9ed5f5146b52ac8639a40ca9d57aeff4d1bd2...</td>\n",
       "      <td>0448509014 0573085028 0751471001 0706016001 06...</td>\n",
       "      <td>0448509014 0573085028 0751471001 0706016001 06...</td>\n",
       "      <td>0924243001 0924243002 0918522001 0751471001 04...</td>\n",
       "    </tr>\n",
       "    <tr>\n",
       "      <th>4</th>\n",
       "      <td>00006413d8573cd20ed7128e53b7b13819fe5cfc2d801f...</td>\n",
       "      <td>0730683050 0791587015 0896152002 0818320001 09...</td>\n",
       "      <td>0730683050 0791587015 0896152002 0818320001 09...</td>\n",
       "      <td>0924243001 0924243002 0918522001 0751471001 04...</td>\n",
       "    </tr>\n",
       "  </tbody>\n",
       "</table>\n",
       "</div>"
      ],
      "text/plain": [
       "                                         customer_id  \\\n",
       "0  00000dbacae5abe5e23885899a1fa44253a17956c6d1c3...   \n",
       "1  0000423b00ade91418cceaf3b26c6af3dd342b51fd051e...   \n",
       "2  000058a12d5b43e67d225668fa1f8d618c13dc232df0ca...   \n",
       "3  00005ca1c9ed5f5146b52ac8639a40ca9d57aeff4d1bd2...   \n",
       "4  00006413d8573cd20ed7128e53b7b13819fe5cfc2d801f...   \n",
       "\n",
       "                                         prediction0  \\\n",
       "0  0568601043 0568601006 0656719005 0745232001 07...   \n",
       "1  0826211002 0800436010 0739590027 0723529001 08...   \n",
       "2  0794321007 0852643001 0852643003 0858883002 07...   \n",
       "3  0448509014 0573085028 0751471001 0706016001 06...   \n",
       "4  0730683050 0791587015 0896152002 0818320001 09...   \n",
       "\n",
       "                                         prediction1  \\\n",
       "0  0568601043 0568601006 0656719005 0745232001 07...   \n",
       "1  0826211002 0800436010 0739590027 0723529001 08...   \n",
       "2  0794321007 0852643001 0852643003 0858883002 07...   \n",
       "3  0448509014 0573085028 0751471001 0706016001 06...   \n",
       "4  0730683050 0791587015 0896152002 0818320001 09...   \n",
       "\n",
       "                                         prediction2  \n",
       "0  0568601043 0924243001 0924243002 0918522001 07...  \n",
       "1  0924243001 0924243002 0918522001 0751471001 04...  \n",
       "2  0794321007 0924243001 0924243002 0918522001 07...  \n",
       "3  0924243001 0924243002 0918522001 0751471001 04...  \n",
       "4  0924243001 0924243002 0918522001 0751471001 04...  "
      ]
     },
     "execution_count": 12,
     "metadata": {},
     "output_type": "execute_result"
    }
   ],
   "source": [
    "sub0.columns = ['customer_id', 'prediction0']\n",
    "sub0['prediction1'] = sub1['prediction']\n",
    "sub0['prediction2'] = sub2['prediction']\n",
    "del sub1, sub2\n",
    "gc.collect()\n",
    "sub0.head()"
   ]
  },
  {
   "cell_type": "code",
   "execution_count": 13,
   "id": "2ad2823e",
   "metadata": {
    "execution": {
     "iopub.execute_input": "2022-04-13T01:36:05.737927Z",
     "iopub.status.busy": "2022-04-13T01:36:05.736487Z",
     "iopub.status.idle": "2022-04-13T01:38:52.582780Z",
     "shell.execute_reply": "2022-04-13T01:38:52.583308Z",
     "shell.execute_reply.started": "2022-04-13T00:42:53.161990Z"
    },
    "papermill": {
     "duration": 166.903352,
     "end_time": "2022-04-13T01:38:52.583477",
     "exception": false,
     "start_time": "2022-04-13T01:36:05.680125",
     "status": "completed"
    },
    "tags": []
   },
   "outputs": [
    {
     "data": {
      "text/html": [
       "<div>\n",
       "<style scoped>\n",
       "    .dataframe tbody tr th:only-of-type {\n",
       "        vertical-align: middle;\n",
       "    }\n",
       "\n",
       "    .dataframe tbody tr th {\n",
       "        vertical-align: top;\n",
       "    }\n",
       "\n",
       "    .dataframe thead th {\n",
       "        text-align: right;\n",
       "    }\n",
       "</style>\n",
       "<table border=\"1\" class=\"dataframe\">\n",
       "  <thead>\n",
       "    <tr style=\"text-align: right;\">\n",
       "      <th></th>\n",
       "      <th>customer_id</th>\n",
       "      <th>prediction0</th>\n",
       "      <th>prediction1</th>\n",
       "      <th>prediction2</th>\n",
       "      <th>prediction</th>\n",
       "    </tr>\n",
       "  </thead>\n",
       "  <tbody>\n",
       "    <tr>\n",
       "      <th>0</th>\n",
       "      <td>00000dbacae5abe5e23885899a1fa44253a17956c6d1c3...</td>\n",
       "      <td>0568601043 0568601006 0656719005 0745232001 07...</td>\n",
       "      <td>0568601043 0568601006 0656719005 0745232001 07...</td>\n",
       "      <td>0568601043 0924243001 0924243002 0918522001 07...</td>\n",
       "      <td>0568601043 0568601006 0656719005 0745232001 09...</td>\n",
       "    </tr>\n",
       "    <tr>\n",
       "      <th>1</th>\n",
       "      <td>0000423b00ade91418cceaf3b26c6af3dd342b51fd051e...</td>\n",
       "      <td>0826211002 0800436010 0739590027 0723529001 08...</td>\n",
       "      <td>0826211002 0800436010 0739590027 0723529001 08...</td>\n",
       "      <td>0924243001 0924243002 0918522001 0751471001 04...</td>\n",
       "      <td>0826211002 0800436010 0924243001 0739590027 07...</td>\n",
       "    </tr>\n",
       "    <tr>\n",
       "      <th>2</th>\n",
       "      <td>000058a12d5b43e67d225668fa1f8d618c13dc232df0ca...</td>\n",
       "      <td>0794321007 0852643001 0852643003 0858883002 07...</td>\n",
       "      <td>0794321007 0852643001 0852643003 0858883002 07...</td>\n",
       "      <td>0794321007 0924243001 0924243002 0918522001 07...</td>\n",
       "      <td>0794321007 0852643001 0852643003 0858883002 09...</td>\n",
       "    </tr>\n",
       "    <tr>\n",
       "      <th>3</th>\n",
       "      <td>00005ca1c9ed5f5146b52ac8639a40ca9d57aeff4d1bd2...</td>\n",
       "      <td>0448509014 0573085028 0751471001 0706016001 06...</td>\n",
       "      <td>0448509014 0573085028 0751471001 0706016001 06...</td>\n",
       "      <td>0924243001 0924243002 0918522001 0751471001 04...</td>\n",
       "      <td>0448509014 0573085028 0924243001 0751471001 07...</td>\n",
       "    </tr>\n",
       "    <tr>\n",
       "      <th>4</th>\n",
       "      <td>00006413d8573cd20ed7128e53b7b13819fe5cfc2d801f...</td>\n",
       "      <td>0730683050 0791587015 0896152002 0818320001 09...</td>\n",
       "      <td>0730683050 0791587015 0896152002 0818320001 09...</td>\n",
       "      <td>0924243001 0924243002 0918522001 0751471001 04...</td>\n",
       "      <td>0730683050 0791587015 0924243001 0896152002 08...</td>\n",
       "    </tr>\n",
       "  </tbody>\n",
       "</table>\n",
       "</div>"
      ],
      "text/plain": [
       "                                         customer_id  \\\n",
       "0  00000dbacae5abe5e23885899a1fa44253a17956c6d1c3...   \n",
       "1  0000423b00ade91418cceaf3b26c6af3dd342b51fd051e...   \n",
       "2  000058a12d5b43e67d225668fa1f8d618c13dc232df0ca...   \n",
       "3  00005ca1c9ed5f5146b52ac8639a40ca9d57aeff4d1bd2...   \n",
       "4  00006413d8573cd20ed7128e53b7b13819fe5cfc2d801f...   \n",
       "\n",
       "                                         prediction0  \\\n",
       "0  0568601043 0568601006 0656719005 0745232001 07...   \n",
       "1  0826211002 0800436010 0739590027 0723529001 08...   \n",
       "2  0794321007 0852643001 0852643003 0858883002 07...   \n",
       "3  0448509014 0573085028 0751471001 0706016001 06...   \n",
       "4  0730683050 0791587015 0896152002 0818320001 09...   \n",
       "\n",
       "                                         prediction1  \\\n",
       "0  0568601043 0568601006 0656719005 0745232001 07...   \n",
       "1  0826211002 0800436010 0739590027 0723529001 08...   \n",
       "2  0794321007 0852643001 0852643003 0858883002 07...   \n",
       "3  0448509014 0573085028 0751471001 0706016001 06...   \n",
       "4  0730683050 0791587015 0896152002 0818320001 09...   \n",
       "\n",
       "                                         prediction2  \\\n",
       "0  0568601043 0924243001 0924243002 0918522001 07...   \n",
       "1  0924243001 0924243002 0918522001 0751471001 04...   \n",
       "2  0794321007 0924243001 0924243002 0918522001 07...   \n",
       "3  0924243001 0924243002 0918522001 0751471001 04...   \n",
       "4  0924243001 0924243002 0918522001 0751471001 04...   \n",
       "\n",
       "                                          prediction  \n",
       "0  0568601043 0568601006 0656719005 0745232001 09...  \n",
       "1  0826211002 0800436010 0924243001 0739590027 07...  \n",
       "2  0794321007 0852643001 0852643003 0858883002 09...  \n",
       "3  0448509014 0573085028 0924243001 0751471001 07...  \n",
       "4  0730683050 0791587015 0924243001 0896152002 08...  "
      ]
     },
     "execution_count": 13,
     "metadata": {},
     "output_type": "execute_result"
    }
   ],
   "source": [
    "def cust_blend(dt, W = [1,1,1]):\n",
    "    #Global ensemble weights\n",
    "    #W = [1.15,0.95,0.85]\n",
    "    \n",
    "    #Create a list of all model predictions\n",
    "    REC = []\n",
    "    REC.append(dt['prediction0'].split())\n",
    "    REC.append(dt['prediction1'].split())\n",
    "    REC.append(dt['prediction2'].split())\n",
    "    \n",
    "    #Create a dictionary of items recommended. \n",
    "    #Assign a weight according the order of appearance and multiply by global weights\n",
    "    res = {}\n",
    "    for M in range(len(REC)):\n",
    "        for n, v in enumerate(REC[M]):\n",
    "            if v in res:\n",
    "                res[v] += (W[M]/(n+1))\n",
    "            else:\n",
    "                res[v] = (W[M]/(n+1))\n",
    "    \n",
    "    # Sort dictionary by item weights\n",
    "    res = list(dict(sorted(res.items(), key=lambda item: -item[1])).keys())\n",
    "    \n",
    "    # Return the top 12 itens only\n",
    "    return ' '.join(res[:12])\n",
    "\n",
    "sub0['prediction'] = sub0.apply(cust_blend, W = [1.05,1.00,0.95], axis=1)\n",
    "sub0.head()"
   ]
  },
  {
   "cell_type": "code",
   "execution_count": 14,
   "id": "24499aad",
   "metadata": {
    "execution": {
     "iopub.execute_input": "2022-04-13T01:38:52.799764Z",
     "iopub.status.busy": "2022-04-13T01:38:52.793999Z",
     "iopub.status.idle": "2022-04-13T01:39:03.857104Z",
     "shell.execute_reply": "2022-04-13T01:39:03.857535Z",
     "shell.execute_reply.started": "2022-04-13T00:45:41.103152Z"
    },
    "papermill": {
     "duration": 11.226397,
     "end_time": "2022-04-13T01:39:03.857699",
     "exception": false,
     "start_time": "2022-04-13T01:38:52.631302",
     "status": "completed"
    },
    "tags": []
   },
   "outputs": [],
   "source": [
    "del sub0['prediction0']\n",
    "del sub0['prediction1']\n",
    "del sub0['prediction2']\n",
    "gc.collect()\n",
    "sub0.to_csv(f'submission.csv', index=False)"
   ]
  },
  {
   "cell_type": "code",
   "execution_count": 15,
   "id": "367a6715",
   "metadata": {
    "execution": {
     "iopub.execute_input": "2022-04-13T01:39:04.068200Z",
     "iopub.status.busy": "2022-04-13T01:39:04.067519Z",
     "iopub.status.idle": "2022-04-13T01:39:04.070310Z",
     "shell.execute_reply": "2022-04-13T01:39:04.070707Z",
     "shell.execute_reply.started": "2022-04-13T00:45:52.173192Z"
    },
    "papermill": {
     "duration": 0.164741,
     "end_time": "2022-04-13T01:39:04.070859",
     "exception": false,
     "start_time": "2022-04-13T01:39:03.906118",
     "status": "completed"
    },
    "tags": []
   },
   "outputs": [
    {
     "data": {
      "text/plain": [
       "21"
      ]
     },
     "execution_count": 15,
     "metadata": {},
     "output_type": "execute_result"
    }
   ],
   "source": [
    "del sub0\n",
    "del df\n",
    "gc.collect()"
   ]
  },
  {
   "cell_type": "markdown",
   "id": "9c19ed2e",
   "metadata": {
    "papermill": {
     "duration": 0.048676,
     "end_time": "2022-04-13T01:39:04.167677",
     "exception": false,
     "start_time": "2022-04-13T01:39:04.119001",
     "status": "completed"
    },
    "tags": []
   },
   "source": [
    "# 3. Create dataset and train model with Recbole\n",
    "\n",
    "For anyone need instruction document, please check this link: https://recbole.io/docs/user_guide/usage/use_modules.html\n",
    "for limiting memory and time traning, we will filter for only using user who bought more than 40 items and item which is sold more than 40 times. \n",
    "If you want to train with more data, please change below config\n",
    "* user_inter_num_interval\n",
    "* item_inter_num_interval"
   ]
  },
  {
   "cell_type": "code",
   "execution_count": 16,
   "id": "513bd626",
   "metadata": {
    "execution": {
     "iopub.execute_input": "2022-04-13T01:39:04.274077Z",
     "iopub.status.busy": "2022-04-13T01:39:04.273141Z",
     "iopub.status.idle": "2022-04-13T01:39:04.857250Z",
     "shell.execute_reply": "2022-04-13T01:39:04.619117Z",
     "shell.execute_reply.started": "2022-04-13T00:45:52.288313Z"
    },
    "papermill": {
     "duration": 0.641322,
     "end_time": "2022-04-13T01:39:04.857383",
     "exception": false,
     "start_time": "2022-04-13T01:39:04.216061",
     "status": "completed"
    },
    "tags": []
   },
   "outputs": [
    {
     "name": "stderr",
     "output_type": "stream",
     "text": [
      "\n",
      "General Hyper Parameters:\n",
      "gpu_id = 0\n",
      "use_gpu = True\n",
      "seed = 2020\n",
      "state = INFO\n",
      "reproducibility = True\n",
      "data_path = /kaggle/working/recbox_data\n",
      "checkpoint_dir = saved\n",
      "show_progress = True\n",
      "save_dataset = False\n",
      "dataset_save_path = None\n",
      "save_dataloaders = False\n",
      "dataloaders_save_path = None\n",
      "log_wandb = False\n",
      "\n",
      "Training Hyper Parameters:\n",
      "epochs = 30\n",
      "train_batch_size = 2048\n",
      "learner = adam\n",
      "learning_rate = 0.001\n",
      "neg_sampling = None\n",
      "eval_step = 1\n",
      "stopping_step = 10\n",
      "clip_grad_norm = None\n",
      "weight_decay = 0.0\n",
      "loss_decimal_place = 4\n",
      "\n",
      "Evaluation Hyper Parameters:\n",
      "eval_args = {'split': {'RS': [10, 0, 0]}, 'group_by': 'user', 'order': 'TO', 'mode': 'full'}\n",
      "repeatable = True\n",
      "metrics = ['Recall', 'MRR', 'NDCG', 'Hit', 'Precision']\n",
      "topk = [10]\n",
      "valid_metric = MRR@10\n",
      "valid_metric_bigger = True\n",
      "eval_batch_size = 4096\n",
      "metric_decimal_place = 4\n",
      "\n",
      "Dataset Hyper Parameters:\n",
      "field_separator = \t\n",
      "seq_separator =  \n",
      "USER_ID_FIELD = user_id\n",
      "ITEM_ID_FIELD = item_id\n",
      "RATING_FIELD = rating\n",
      "TIME_FIELD = timestamp\n",
      "seq_len = None\n",
      "LABEL_FIELD = label\n",
      "threshold = None\n",
      "NEG_PREFIX = neg_\n",
      "load_col = {'inter': ['user_id', 'item_id', 'timestamp'], 'item': ['item_id', 'product_code', 'product_type_no', 'product_group_name', 'graphical_appearance_no', 'colour_group_code', 'perceived_colour_value_id', 'perceived_colour_master_id', 'department_no', 'index_code', 'index_group_no', 'section_no', 'garment_group_no']}\n",
      "unload_col = None\n",
      "unused_col = None\n",
      "additional_feat_suffix = None\n",
      "rm_dup_inter = None\n",
      "val_interval = None\n",
      "filter_inter_by_user_or_item = True\n",
      "user_inter_num_interval = [35,inf)\n",
      "item_inter_num_interval = [40,inf)\n",
      "alias_of_user_id = None\n",
      "alias_of_item_id = None\n",
      "alias_of_entity_id = None\n",
      "alias_of_relation_id = None\n",
      "preload_weight = None\n",
      "normalize_field = None\n",
      "normalize_all = None\n",
      "ITEM_LIST_LENGTH_FIELD = item_length\n",
      "LIST_SUFFIX = _list\n",
      "MAX_ITEM_LIST_LENGTH = 50\n",
      "POSITION_FIELD = position_id\n",
      "HEAD_ENTITY_ID_FIELD = head_id\n",
      "TAIL_ENTITY_ID_FIELD = tail_id\n",
      "RELATION_ID_FIELD = relation_id\n",
      "ENTITY_ID_FIELD = entity_id\n",
      "benchmark_filename = None\n",
      "\n",
      "Other Hyper Parameters: \n",
      "wandb_project = recbole\n",
      "require_pow = False\n",
      "embedding_size = 64\n",
      "hidden_size = 128\n",
      "num_layers = 1\n",
      "dropout_prob = 0.3\n",
      "selected_features = ['product_code', 'product_type_no', 'product_group_name', 'graphical_appearance_no', 'colour_group_code', 'perceived_colour_value_id', 'perceived_colour_master_id', 'department_no', 'index_code', 'index_group_no', 'section_no', 'garment_group_no']\n",
      "pooling_mode = sum\n",
      "loss_type = CE\n",
      "MODEL_TYPE = ModelType.SEQUENTIAL\n",
      "MODEL_INPUT_TYPE = InputType.POINTWISE\n",
      "eval_type = EvaluatorType.RANKING\n",
      "device = cuda\n",
      "train_neg_sample_args = {'strategy': 'none'}\n",
      "eval_neg_sample_args = {'strategy': 'full', 'distribution': 'uniform'}\n",
      "\n",
      "\n"
     ]
    }
   ],
   "source": [
    "parameter_dict = {\n",
    "    'data_path': '/kaggle/working',\n",
    "    'USER_ID_FIELD': 'user_id',\n",
    "    'ITEM_ID_FIELD': 'item_id',\n",
    "    'TIME_FIELD': 'timestamp',\n",
    "    'user_inter_num_interval': \"[35,inf)\",\n",
    "    'item_inter_num_interval': \"[40,inf)\",\n",
    "    'load_col': {'inter': ['user_id', 'item_id', 'timestamp'],\n",
    "                 'item': ['item_id', 'product_code', 'product_type_no', 'product_group_name', 'graphical_appearance_no',\n",
    "                      'colour_group_code', 'perceived_colour_value_id', 'perceived_colour_master_id',\n",
    "                      'department_no', 'index_code', 'index_group_no', 'section_no', 'garment_group_no']\n",
    "             },\n",
    "    'selected_features': ['product_code', 'product_type_no', 'product_group_name', 'graphical_appearance_no',\n",
    "                          'colour_group_code', 'perceived_colour_value_id', 'perceived_colour_master_id',\n",
    "                          'department_no', 'index_code', 'index_group_no', 'section_no', 'garment_group_no'],\n",
    "    'neg_sampling': None,\n",
    "    'epochs': 30,\n",
    "    'eval_args': {\n",
    "        'split': {'RS': [10, 0, 0]},\n",
    "        'group_by': 'user',\n",
    "        'order': 'TO',\n",
    "        'mode': 'full'}\n",
    "}\n",
    "\n",
    "config = Config(model='GRU4RecF', dataset='recbox_data', config_dict=parameter_dict)\n",
    "\n",
    "# init random seed\n",
    "init_seed(config['seed'], config['reproducibility'])\n",
    "\n",
    "# logger initialization\n",
    "init_logger(config)\n",
    "logger = getLogger()\n",
    "# Create handlers\n",
    "c_handler = logging.StreamHandler()\n",
    "c_handler.setLevel(logging.INFO)\n",
    "logger.addHandler(c_handler)\n",
    "\n",
    "# write config info into log\n",
    "logger.info(config)"
   ]
  },
  {
   "cell_type": "code",
   "execution_count": 17,
   "id": "f3aafc44",
   "metadata": {
    "execution": {
     "iopub.execute_input": "2022-04-13T01:39:05.159806Z",
     "iopub.status.busy": "2022-04-13T01:39:05.158840Z",
     "iopub.status.idle": "2022-04-13T01:40:18.717128Z",
     "shell.execute_reply": "2022-04-13T01:40:18.703646Z",
     "shell.execute_reply.started": "2022-04-13T00:45:52.636348Z"
    },
    "papermill": {
     "duration": 73.710712,
     "end_time": "2022-04-13T01:40:18.717281",
     "exception": false,
     "start_time": "2022-04-13T01:39:05.006569",
     "status": "completed"
    },
    "tags": []
   },
   "outputs": [
    {
     "name": "stderr",
     "output_type": "stream",
     "text": [
      "recbox_data\n",
      "The number of users: 22808\n",
      "Average actions of users: 53.07984390757224\n",
      "The number of items: 8556\n",
      "Average actions of items: 141.50695499707774\n",
      "The number of inters: 1210592\n",
      "The sparsity of the dataset: 99.37964566782584%\n",
      "Remain Fields: ['user_id', 'item_id', 'timestamp', 'product_code', 'product_type_no', 'product_group_name', 'graphical_appearance_no', 'colour_group_code', 'perceived_colour_value_id', 'perceived_colour_master_id', 'department_no', 'index_code', 'index_group_no', 'section_no', 'garment_group_no']\n"
     ]
    }
   ],
   "source": [
    "dataset = create_dataset(config)\n",
    "logger.info(dataset)"
   ]
  },
  {
   "cell_type": "code",
   "execution_count": 18,
   "id": "4ff7446d",
   "metadata": {
    "execution": {
     "iopub.execute_input": "2022-04-13T01:40:19.032561Z",
     "iopub.status.busy": "2022-04-13T01:40:19.031931Z",
     "iopub.status.idle": "2022-04-13T01:40:37.247180Z",
     "shell.execute_reply": "2022-04-13T01:40:37.244819Z",
     "shell.execute_reply.started": "2022-04-13T00:47:06.351897Z"
    },
    "papermill": {
     "duration": 18.37706,
     "end_time": "2022-04-13T01:40:37.247309",
     "exception": false,
     "start_time": "2022-04-13T01:40:18.870249",
     "status": "completed"
    },
    "tags": []
   },
   "outputs": [
    {
     "name": "stderr",
     "output_type": "stream",
     "text": [
      "[Training]: train_batch_size = [2048] negative sampling: [None]\n",
      "[Evaluation]: eval_batch_size = [4096] eval_args: [{'split': {'RS': [10, 0, 0]}, 'group_by': 'user', 'order': 'TO', 'mode': 'full'}]\n"
     ]
    }
   ],
   "source": [
    "# dataset splitting\n",
    "train_data, valid_data, test_data = data_preparation(config, dataset)"
   ]
  },
  {
   "cell_type": "code",
   "execution_count": 19,
   "id": "17b257b8",
   "metadata": {
    "execution": {
     "iopub.execute_input": "2022-04-13T01:40:37.571502Z",
     "iopub.status.busy": "2022-04-13T01:40:37.570857Z",
     "iopub.status.idle": "2022-04-13T02:10:11.154209Z",
     "shell.execute_reply": "2022-04-13T02:10:11.154859Z",
     "shell.execute_reply.started": "2022-04-13T00:47:24.258358Z"
    },
    "papermill": {
     "duration": 1773.750435,
     "end_time": "2022-04-13T02:10:11.155089",
     "exception": false,
     "start_time": "2022-04-13T01:40:37.404654",
     "status": "completed"
    },
    "scrolled": true,
    "tags": []
   },
   "outputs": [
    {
     "name": "stderr",
     "output_type": "stream",
     "text": [
      "GRU4RecF(\n",
      "  (item_embedding): Embedding(8556, 64, padding_idx=0)\n",
      "  (feature_embed_layer): FeatureSeqEmbLayer(\n",
      "    (token_embedding_table): ModuleDict(\n",
      "      (item): FMEmbedding(\n",
      "        (embedding): Embedding(4557, 64)\n",
      "      )\n",
      "    )\n",
      "    (float_embedding_table): ModuleDict(\n",
      "      (item): Embedding(1, 64)\n",
      "    )\n",
      "    (token_seq_embedding_table): ModuleDict(\n",
      "      (item): ModuleList(\n",
      "        (0): Embedding(16, 64)\n",
      "      )\n",
      "    )\n",
      "  )\n",
      "  (item_gru_layers): GRU(64, 128, bias=False, batch_first=True)\n",
      "  (feature_gru_layers): GRU(768, 128, bias=False, batch_first=True)\n",
      "  (dense_layer): Linear(in_features=256, out_features=64, bias=True)\n",
      "  (dropout): Dropout(p=0.3, inplace=False)\n",
      "  (loss_fct): CrossEntropyLoss()\n",
      ")\n",
      "Trainable parameters: 1274560\n",
      "epoch 0 training [time: 58.94s, train loss: 4828.0062]\n",
      "Saving current: saved/GRU4RecF-Apr-13-2022_01-40-45.pth\n",
      "epoch 1 training [time: 56.51s, train loss: 4481.8514]\n",
      "Saving current: saved/GRU4RecF-Apr-13-2022_01-40-45.pth\n",
      "epoch 2 training [time: 56.25s, train loss: 4316.7690]\n",
      "Saving current: saved/GRU4RecF-Apr-13-2022_01-40-45.pth\n",
      "epoch 3 training [time: 56.35s, train loss: 4205.0814]\n",
      "Saving current: saved/GRU4RecF-Apr-13-2022_01-40-45.pth\n",
      "epoch 4 training [time: 56.33s, train loss: 4119.9241]\n",
      "Saving current: saved/GRU4RecF-Apr-13-2022_01-40-45.pth\n",
      "epoch 5 training [time: 56.40s, train loss: 4056.5627]\n",
      "Saving current: saved/GRU4RecF-Apr-13-2022_01-40-45.pth\n",
      "epoch 6 training [time: 56.50s, train loss: 4005.3092]\n",
      "Saving current: saved/GRU4RecF-Apr-13-2022_01-40-45.pth\n",
      "epoch 7 training [time: 56.48s, train loss: 3964.1200]\n",
      "Saving current: saved/GRU4RecF-Apr-13-2022_01-40-45.pth\n",
      "epoch 8 training [time: 56.26s, train loss: 3929.5969]\n",
      "Saving current: saved/GRU4RecF-Apr-13-2022_01-40-45.pth\n",
      "epoch 9 training [time: 56.29s, train loss: 3899.9619]\n",
      "Saving current: saved/GRU4RecF-Apr-13-2022_01-40-45.pth\n",
      "epoch 10 training [time: 55.74s, train loss: 3874.6511]\n",
      "Saving current: saved/GRU4RecF-Apr-13-2022_01-40-45.pth\n",
      "epoch 11 training [time: 55.86s, train loss: 3851.1265]\n",
      "Saving current: saved/GRU4RecF-Apr-13-2022_01-40-45.pth\n",
      "epoch 12 training [time: 56.15s, train loss: 3831.3574]\n",
      "Saving current: saved/GRU4RecF-Apr-13-2022_01-40-45.pth\n",
      "epoch 13 training [time: 55.71s, train loss: 3813.6865]\n",
      "Saving current: saved/GRU4RecF-Apr-13-2022_01-40-45.pth\n",
      "epoch 14 training [time: 55.94s, train loss: 3798.0624]\n",
      "Saving current: saved/GRU4RecF-Apr-13-2022_01-40-45.pth\n",
      "epoch 15 training [time: 55.89s, train loss: 3784.1216]\n",
      "Saving current: saved/GRU4RecF-Apr-13-2022_01-40-45.pth\n",
      "epoch 16 training [time: 55.81s, train loss: 3771.9238]\n",
      "Saving current: saved/GRU4RecF-Apr-13-2022_01-40-45.pth\n",
      "epoch 17 training [time: 55.79s, train loss: 3760.1103]\n",
      "Saving current: saved/GRU4RecF-Apr-13-2022_01-40-45.pth\n",
      "epoch 18 training [time: 55.92s, train loss: 3750.5035]\n",
      "Saving current: saved/GRU4RecF-Apr-13-2022_01-40-45.pth\n",
      "epoch 19 training [time: 55.75s, train loss: 3741.2263]\n",
      "Saving current: saved/GRU4RecF-Apr-13-2022_01-40-45.pth\n",
      "epoch 20 training [time: 55.76s, train loss: 3732.6552]\n",
      "Saving current: saved/GRU4RecF-Apr-13-2022_01-40-45.pth\n",
      "epoch 21 training [time: 55.95s, train loss: 3725.1233]\n",
      "Saving current: saved/GRU4RecF-Apr-13-2022_01-40-45.pth\n",
      "epoch 22 training [time: 55.77s, train loss: 3717.5195]\n",
      "Saving current: saved/GRU4RecF-Apr-13-2022_01-40-45.pth\n",
      "epoch 23 training [time: 55.80s, train loss: 3711.0493]\n",
      "Saving current: saved/GRU4RecF-Apr-13-2022_01-40-45.pth\n",
      "epoch 24 training [time: 56.34s, train loss: 3704.7858]\n",
      "Saving current: saved/GRU4RecF-Apr-13-2022_01-40-45.pth\n",
      "epoch 25 training [time: 56.12s, train loss: 3699.0172]\n",
      "Saving current: saved/GRU4RecF-Apr-13-2022_01-40-45.pth\n",
      "epoch 26 training [time: 55.80s, train loss: 3693.4936]\n",
      "Saving current: saved/GRU4RecF-Apr-13-2022_01-40-45.pth\n",
      "epoch 27 training [time: 55.83s, train loss: 3687.9870]\n",
      "Saving current: saved/GRU4RecF-Apr-13-2022_01-40-45.pth\n",
      "epoch 28 training [time: 55.63s, train loss: 3683.2251]\n",
      "Saving current: saved/GRU4RecF-Apr-13-2022_01-40-45.pth\n",
      "epoch 29 training [time: 55.65s, train loss: 3678.5186]\n",
      "Saving current: saved/GRU4RecF-Apr-13-2022_01-40-45.pth\n"
     ]
    }
   ],
   "source": [
    "# model loading and initialization\n",
    "model = GRU4RecF(config, train_data.dataset).to(config['device'])\n",
    "logger.info(model)\n",
    "\n",
    "# trainer loading and initialization\n",
    "trainer = Trainer(config, model)\n",
    "\n",
    "# model training\n",
    "best_valid_score, best_valid_result = trainer.fit(train_data)"
   ]
  },
  {
   "cell_type": "markdown",
   "id": "a81a2d92",
   "metadata": {
    "papermill": {
     "duration": 0.255268,
     "end_time": "2022-04-13T02:10:11.665319",
     "exception": false,
     "start_time": "2022-04-13T02:10:11.410051",
     "status": "completed"
    },
    "tags": []
   },
   "source": [
    "# 4. Create recommendation result from trained model\n",
    "\n",
    "I note document here for any one want to customize it: https://recbole.io/docs/user_guide/usage/case_study.html"
   ]
  },
  {
   "cell_type": "code",
   "execution_count": 20,
   "id": "15da2ba4",
   "metadata": {
    "execution": {
     "iopub.execute_input": "2022-04-13T02:10:12.267740Z",
     "iopub.status.busy": "2022-04-13T02:10:12.266350Z",
     "iopub.status.idle": "2022-04-13T02:10:12.273050Z",
     "shell.execute_reply": "2022-04-13T02:10:12.274433Z",
     "shell.execute_reply.started": "2022-04-13T01:16:48.355438Z"
    },
    "papermill": {
     "duration": 0.356792,
     "end_time": "2022-04-13T02:10:12.274762",
     "exception": false,
     "start_time": "2022-04-13T02:10:11.917970",
     "status": "completed"
    },
    "tags": []
   },
   "outputs": [],
   "source": [
    "external_user_ids = dataset.id2token(\n",
    "    dataset.uid_field, list(range(dataset.user_num)))[1:]#fist element in array is 'PAD'(default of Recbole) ->remove it "
   ]
  },
  {
   "cell_type": "code",
   "execution_count": 21,
   "id": "a6f4dad2",
   "metadata": {
    "execution": {
     "iopub.execute_input": "2022-04-13T02:10:13.082495Z",
     "iopub.status.busy": "2022-04-13T02:10:13.081678Z",
     "iopub.status.idle": "2022-04-13T02:10:13.084311Z",
     "shell.execute_reply": "2022-04-13T02:10:13.083710Z",
     "shell.execute_reply.started": "2022-04-13T01:16:48.366562Z"
    },
    "papermill": {
     "duration": 0.354148,
     "end_time": "2022-04-13T02:10:13.084432",
     "exception": false,
     "start_time": "2022-04-13T02:10:12.730284",
     "status": "completed"
    },
    "tags": []
   },
   "outputs": [],
   "source": [
    "def add_last_item(old_interaction, last_item_id, max_len=50):\n",
    "    new_seq_items = old_interaction['item_id_list'][-1]\n",
    "    if old_interaction['item_length'][-1].item() < max_len:\n",
    "        new_seq_items[old_interaction['item_length'][-1].item()] = last_item_id\n",
    "    else:\n",
    "        new_seq_items = torch.roll(new_seq_items, -1)\n",
    "        new_seq_items[-1] = last_item_id\n",
    "    return new_seq_items.view(1, len(new_seq_items))\n",
    "\n",
    "def predict_for_all_item(external_user_id, dataset, model):\n",
    "    model.eval()\n",
    "    with torch.no_grad():\n",
    "        uid_series = dataset.token2id(dataset.uid_field, [external_user_id])\n",
    "        index = np.isin(dataset.inter_feat[dataset.uid_field].numpy(), uid_series)\n",
    "        input_interaction = dataset[index]\n",
    "        test = {\n",
    "            'item_id_list': add_last_item(input_interaction, \n",
    "                                          input_interaction['item_id'][-1].item(), model.max_seq_length),\n",
    "            'item_length': torch.tensor(\n",
    "                [input_interaction['item_length'][-1].item() + 1\n",
    "                 if input_interaction['item_length'][-1].item() < model.max_seq_length else model.max_seq_length])\n",
    "        }\n",
    "        new_inter = Interaction(test)\n",
    "        new_inter = new_inter.to(config['device'])\n",
    "        new_scores = model.full_sort_predict(new_inter)\n",
    "        new_scores = new_scores.view(-1, test_data.dataset.item_num)\n",
    "        new_scores[:, 0] = -np.inf  # set scores of [pad] to -inf\n",
    "    return torch.topk(new_scores, 12)"
   ]
  },
  {
   "cell_type": "code",
   "execution_count": 22,
   "id": "a197f224",
   "metadata": {
    "execution": {
     "iopub.execute_input": "2022-04-13T02:10:13.583314Z",
     "iopub.status.busy": "2022-04-13T02:10:13.582585Z",
     "iopub.status.idle": "2022-04-13T02:17:36.034221Z",
     "shell.execute_reply": "2022-04-13T02:17:36.033569Z",
     "shell.execute_reply.started": "2022-04-13T01:16:48.822815Z"
    },
    "papermill": {
     "duration": 442.698971,
     "end_time": "2022-04-13T02:17:36.034393",
     "exception": false,
     "start_time": "2022-04-13T02:10:13.335422",
     "status": "completed"
    },
    "tags": []
   },
   "outputs": [
    {
     "name": "stdout",
     "output_type": "stream",
     "text": [
      "22807\n"
     ]
    }
   ],
   "source": [
    "topk_items = []\n",
    "for external_user_id in external_user_ids:\n",
    "    _, topk_iid_list = predict_for_all_item(external_user_id, dataset, model)\n",
    "    last_topk_iid_list = topk_iid_list[-1]\n",
    "    external_item_list = dataset.id2token(dataset.iid_field, last_topk_iid_list.cpu()).tolist()\n",
    "    topk_items.append(external_item_list)\n",
    "print(len(topk_items))"
   ]
  },
  {
   "cell_type": "code",
   "execution_count": 23,
   "id": "86c06a30",
   "metadata": {
    "execution": {
     "iopub.execute_input": "2022-04-13T02:17:36.521713Z",
     "iopub.status.busy": "2022-04-13T02:17:36.521181Z",
     "iopub.status.idle": "2022-04-13T02:17:36.525712Z",
     "shell.execute_reply": "2022-04-13T02:17:36.526153Z",
     "shell.execute_reply.started": "2022-04-13T01:24:12.774759Z"
    },
    "papermill": {
     "duration": 0.260384,
     "end_time": "2022-04-13T02:17:36.526295",
     "exception": false,
     "start_time": "2022-04-13T02:17:36.265911",
     "status": "completed"
    },
    "tags": []
   },
   "outputs": [
    {
     "data": {
      "text/html": [
       "<div>\n",
       "<style scoped>\n",
       "    .dataframe tbody tr th:only-of-type {\n",
       "        vertical-align: middle;\n",
       "    }\n",
       "\n",
       "    .dataframe tbody tr th {\n",
       "        vertical-align: top;\n",
       "    }\n",
       "\n",
       "    .dataframe thead th {\n",
       "        text-align: right;\n",
       "    }\n",
       "</style>\n",
       "<table border=\"1\" class=\"dataframe\">\n",
       "  <thead>\n",
       "    <tr style=\"text-align: right;\">\n",
       "      <th></th>\n",
       "      <th>customer_id</th>\n",
       "      <th>prediction</th>\n",
       "    </tr>\n",
       "  </thead>\n",
       "  <tbody>\n",
       "    <tr>\n",
       "      <th>0</th>\n",
       "      <td>00d7ebd46f6a6d53630d41386b6ef6a505cdc4c80011ff...</td>\n",
       "      <td>0918522001 0924243001 0751592001 0923758001 09...</td>\n",
       "    </tr>\n",
       "    <tr>\n",
       "      <th>1</th>\n",
       "      <td>00eebac2c2e37626461e74e8395711964c4e01a7afa643...</td>\n",
       "      <td>0916468003 0933891001 0915526002 0915526001 08...</td>\n",
       "    </tr>\n",
       "    <tr>\n",
       "      <th>2</th>\n",
       "      <td>0109ad0b5a76924a1b58be677409bb601cc8bead9a87b8...</td>\n",
       "      <td>0901955001 0599580044 0834217009 0599580072 08...</td>\n",
       "    </tr>\n",
       "    <tr>\n",
       "      <th>3</th>\n",
       "      <td>013f00f9e218549246a3aa82b3f3a0c22a693bc25fa735...</td>\n",
       "      <td>0839402002 0857621001 0865172003 0839402001 08...</td>\n",
       "    </tr>\n",
       "    <tr>\n",
       "      <th>4</th>\n",
       "      <td>01bada2a453b09c70ea57bdda5a9ef0fb04062718d3a3d...</td>\n",
       "      <td>0724906006 0253448003 0885951001 0916468001 05...</td>\n",
       "    </tr>\n",
       "  </tbody>\n",
       "</table>\n",
       "</div>"
      ],
      "text/plain": [
       "                                         customer_id  \\\n",
       "0  00d7ebd46f6a6d53630d41386b6ef6a505cdc4c80011ff...   \n",
       "1  00eebac2c2e37626461e74e8395711964c4e01a7afa643...   \n",
       "2  0109ad0b5a76924a1b58be677409bb601cc8bead9a87b8...   \n",
       "3  013f00f9e218549246a3aa82b3f3a0c22a693bc25fa735...   \n",
       "4  01bada2a453b09c70ea57bdda5a9ef0fb04062718d3a3d...   \n",
       "\n",
       "                                          prediction  \n",
       "0  0918522001 0924243001 0751592001 0923758001 09...  \n",
       "1  0916468003 0933891001 0915526002 0915526001 08...  \n",
       "2  0901955001 0599580044 0834217009 0599580072 08...  \n",
       "3  0839402002 0857621001 0865172003 0839402001 08...  \n",
       "4  0724906006 0253448003 0885951001 0916468001 05...  "
      ]
     },
     "execution_count": 23,
     "metadata": {},
     "output_type": "execute_result"
    }
   ],
   "source": [
    "external_item_str = [' '.join(x) for x in topk_items]\n",
    "result = pd.DataFrame(external_user_ids, columns=['customer_id'])\n",
    "result['prediction'] = external_item_str\n",
    "result.head()"
   ]
  },
  {
   "cell_type": "code",
   "execution_count": 24,
   "id": "05d169e9",
   "metadata": {
    "execution": {
     "iopub.execute_input": "2022-04-13T02:17:37.189497Z",
     "iopub.status.busy": "2022-04-13T02:17:37.188764Z",
     "iopub.status.idle": "2022-04-13T02:17:37.191593Z",
     "shell.execute_reply": "2022-04-13T02:17:37.192004Z",
     "shell.execute_reply.started": "2022-04-13T01:24:12.803411Z"
    },
    "papermill": {
     "duration": 0.436475,
     "end_time": "2022-04-13T02:17:37.192149",
     "exception": false,
     "start_time": "2022-04-13T02:17:36.755674",
     "status": "completed"
    },
    "tags": []
   },
   "outputs": [
    {
     "data": {
      "text/plain": [
       "42"
      ]
     },
     "execution_count": 24,
     "metadata": {},
     "output_type": "execute_result"
    }
   ],
   "source": [
    "del external_item_str\n",
    "del topk_items\n",
    "del external_user_ids\n",
    "del train_data\n",
    "del valid_data\n",
    "del test_data\n",
    "del model\n",
    "del Trainer\n",
    "del logger\n",
    "del dataset\n",
    "gc.collect()"
   ]
  },
  {
   "cell_type": "markdown",
   "id": "9a525897",
   "metadata": {
    "papermill": {
     "duration": 0.239674,
     "end_time": "2022-04-13T02:17:37.664129",
     "exception": false,
     "start_time": "2022-04-13T02:17:37.424455",
     "status": "completed"
    },
    "tags": []
   },
   "source": [
    "# 5. Combine result from most bought items and GRU model"
   ]
  },
  {
   "cell_type": "code",
   "execution_count": 25,
   "id": "d942efb4",
   "metadata": {
    "execution": {
     "iopub.execute_input": "2022-04-13T02:17:38.139876Z",
     "iopub.status.busy": "2022-04-13T02:17:38.138739Z",
     "iopub.status.idle": "2022-04-13T02:18:05.889299Z",
     "shell.execute_reply": "2022-04-13T02:18:05.888400Z",
     "shell.execute_reply.started": "2022-04-13T01:24:13.013884Z"
    },
    "papermill": {
     "duration": 27.99499,
     "end_time": "2022-04-13T02:18:05.889444",
     "exception": false,
     "start_time": "2022-04-13T02:17:37.894454",
     "status": "completed"
    },
    "tags": []
   },
   "outputs": [],
   "source": [
    "submit_df = pd.read_csv('submission.csv')\n",
    "submit_df = pd.merge(submit_df, result, on='customer_id', how='outer')\n",
    "if VALID:\n",
    "    valid_users = list(submit_df[~submit_df.prediction_y.isnull()][\"customer_id\"])\n",
    "submit_df = submit_df.fillna(-1)\n",
    "submit_df['prediction'] = submit_df.apply(\n",
    "    lambda x: x['prediction_y'] if x['prediction_y'] != -1 else x['prediction_x'], axis=1)\n",
    "submit_df = submit_df.drop(columns=['prediction_y', 'prediction_x'])"
   ]
  },
  {
   "cell_type": "code",
   "execution_count": 26,
   "id": "43f5521d",
   "metadata": {
    "execution": {
     "iopub.execute_input": "2022-04-13T02:18:06.358709Z",
     "iopub.status.busy": "2022-04-13T02:18:06.358015Z",
     "iopub.status.idle": "2022-04-13T02:18:17.467901Z",
     "shell.execute_reply": "2022-04-13T02:18:17.467218Z",
     "shell.execute_reply.started": "2022-04-13T01:24:42.157535Z"
    },
    "papermill": {
     "duration": 11.346957,
     "end_time": "2022-04-13T02:18:17.468092",
     "exception": false,
     "start_time": "2022-04-13T02:18:06.121135",
     "status": "completed"
    },
    "tags": []
   },
   "outputs": [],
   "source": [
    "submit_df.to_csv('submission.csv', index=False)"
   ]
  },
  {
   "cell_type": "code",
   "execution_count": 27,
   "id": "33edcc6e",
   "metadata": {
    "execution": {
     "iopub.execute_input": "2022-04-13T02:18:17.987766Z",
     "iopub.status.busy": "2022-04-13T02:18:17.986819Z",
     "iopub.status.idle": "2022-04-13T02:18:18.542887Z",
     "shell.execute_reply": "2022-04-13T02:18:18.541149Z",
     "shell.execute_reply.started": "2022-04-13T01:31:07.695938Z"
    },
    "papermill": {
     "duration": 0.816982,
     "end_time": "2022-04-13T02:18:18.543177",
     "exception": true,
     "start_time": "2022-04-13T02:18:17.726195",
     "status": "failed"
    },
    "tags": []
   },
   "outputs": [
    {
     "ename": "NameError",
     "evalue": "name 'sub_check' is not defined",
     "output_type": "error",
     "traceback": [
      "\u001b[0;31m---------------------------------------------------------------------------\u001b[0m",
      "\u001b[0;31mNameError\u001b[0m                                 Traceback (most recent call last)",
      "\u001b[0;32m/tmp/ipykernel_23/552749404.py\u001b[0m in \u001b[0;36m<module>\u001b[0;34m\u001b[0m\n\u001b[0;32m----> 1\u001b[0;31m \u001b[0msub_check\u001b[0m\u001b[0;34m[\u001b[0m\u001b[0msub_check\u001b[0m\u001b[0;34m.\u001b[0m\u001b[0mcustomer_id\u001b[0m\u001b[0;34m.\u001b[0m\u001b[0misin\u001b[0m\u001b[0;34m(\u001b[0m\u001b[0mvalid_users\u001b[0m\u001b[0;34m)\u001b[0m\u001b[0;34m]\u001b[0m\u001b[0;34m.\u001b[0m\u001b[0mshape\u001b[0m\u001b[0;34m,\u001b[0m \u001b[0mvalid\u001b[0m\u001b[0;34m[\u001b[0m\u001b[0mvalid\u001b[0m\u001b[0;34m.\u001b[0m\u001b[0mcustomer_id\u001b[0m\u001b[0;34m.\u001b[0m\u001b[0misin\u001b[0m\u001b[0;34m(\u001b[0m\u001b[0mvalid_users\u001b[0m\u001b[0;34m)\u001b[0m\u001b[0;34m]\u001b[0m\u001b[0;34m.\u001b[0m\u001b[0mshape\u001b[0m\u001b[0;34m\u001b[0m\u001b[0;34m\u001b[0m\u001b[0m\n\u001b[0m",
      "\u001b[0;31mNameError\u001b[0m: name 'sub_check' is not defined"
     ]
    }
   ],
   "source": [
    "sub_check[sub_check.customer_id.isin(valid_users)].shape, valid[valid.customer_id.isin(valid_users)].shape"
   ]
  },
  {
   "cell_type": "code",
   "execution_count": null,
   "id": "dc595902",
   "metadata": {
    "execution": {
     "iopub.execute_input": "2022-04-13T01:32:22.006108Z",
     "iopub.status.busy": "2022-04-13T01:32:22.005839Z",
     "iopub.status.idle": "2022-04-13T01:32:28.279007Z",
     "shell.execute_reply": "2022-04-13T01:32:28.278265Z",
     "shell.execute_reply.started": "2022-04-13T01:32:22.006077Z"
    },
    "papermill": {
     "duration": null,
     "end_time": null,
     "exception": null,
     "start_time": null,
     "status": "pending"
    },
    "tags": []
   },
   "outputs": [],
   "source": [
    "# local score\n",
    "if VALID:\n",
    "    sub_check = submit_df.copy()\n",
    "    sub_check = sub_check.set_index('customer_id').reset_index()\n",
    "    print(\"t\", mapk(valid.prediction.str.split(), sub_check.prediction.str.split(), k=12), valid.shape[0])    \n",
    "    print(\"v\", \n",
    "            mapk(valid[valid.customer_id.isin(valid_users)].prediction.str.split(), \n",
    "               sub_check[sub_check.customer_id.isin(valid_users)].prediction.str.split(), k=12),\n",
    "            valid[valid.customer_id.isin(valid_users)].shape[0])    \n",
    "    print(\"  \")\n",
    "    print(sub_check[\"prediction\"].value_counts())  "
   ]
  },
  {
   "cell_type": "code",
   "execution_count": null,
   "id": "7dc5d6d8",
   "metadata": {
    "papermill": {
     "duration": null,
     "end_time": null,
     "exception": null,
     "start_time": null,
     "status": "pending"
    },
    "tags": []
   },
   "outputs": [],
   "source": []
  }
 ],
 "metadata": {
  "kernelspec": {
   "display_name": "Python 3",
   "language": "python",
   "name": "python3"
  },
  "language_info": {
   "codemirror_mode": {
    "name": "ipython",
    "version": 3
   },
   "file_extension": ".py",
   "mimetype": "text/x-python",
   "name": "python",
   "nbconvert_exporter": "python",
   "pygments_lexer": "ipython3",
   "version": "3.7.12"
  },
  "papermill": {
   "default_parameters": {},
   "duration": 2721.704223,
   "end_time": "2022-04-13T02:18:22.297457",
   "environment_variables": {},
   "exception": true,
   "input_path": "__notebook__.ipynb",
   "output_path": "__notebook__.ipynb",
   "parameters": {},
   "start_time": "2022-04-13T01:33:00.593234",
   "version": "2.3.3"
  }
 },
 "nbformat": 4,
 "nbformat_minor": 5
}
