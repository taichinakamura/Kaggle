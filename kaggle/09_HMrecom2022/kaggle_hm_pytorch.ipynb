{
  "cells": [
    {
      "cell_type": "markdown",
      "metadata": {
        "id": "1s4uy5bKoNws"
      },
      "source": [
        "# data preparation"
      ]
    },
    {
      "cell_type": "code",
      "execution_count": 1,
      "metadata": {
        "colab": {
          "base_uri": "https://localhost:8080/",
          "height": 96,
          "resources": {
            "http://localhost:8080/nbextensions/google.colab/files.js": {
              "data": "Ly8gQ29weXJpZ2h0IDIwMTcgR29vZ2xlIExMQwovLwovLyBMaWNlbnNlZCB1bmRlciB0aGUgQXBhY2hlIExpY2Vuc2UsIFZlcnNpb24gMi4wICh0aGUgIkxpY2Vuc2UiKTsKLy8geW91IG1heSBub3QgdXNlIHRoaXMgZmlsZSBleGNlcHQgaW4gY29tcGxpYW5jZSB3aXRoIHRoZSBMaWNlbnNlLgovLyBZb3UgbWF5IG9idGFpbiBhIGNvcHkgb2YgdGhlIExpY2Vuc2UgYXQKLy8KLy8gICAgICBodHRwOi8vd3d3LmFwYWNoZS5vcmcvbGljZW5zZXMvTElDRU5TRS0yLjAKLy8KLy8gVW5sZXNzIHJlcXVpcmVkIGJ5IGFwcGxpY2FibGUgbGF3IG9yIGFncmVlZCB0byBpbiB3cml0aW5nLCBzb2Z0d2FyZQovLyBkaXN0cmlidXRlZCB1bmRlciB0aGUgTGljZW5zZSBpcyBkaXN0cmlidXRlZCBvbiBhbiAiQVMgSVMiIEJBU0lTLAovLyBXSVRIT1VUIFdBUlJBTlRJRVMgT1IgQ09ORElUSU9OUyBPRiBBTlkgS0lORCwgZWl0aGVyIGV4cHJlc3Mgb3IgaW1wbGllZC4KLy8gU2VlIHRoZSBMaWNlbnNlIGZvciB0aGUgc3BlY2lmaWMgbGFuZ3VhZ2UgZ292ZXJuaW5nIHBlcm1pc3Npb25zIGFuZAovLyBsaW1pdGF0aW9ucyB1bmRlciB0aGUgTGljZW5zZS4KCi8qKgogKiBAZmlsZW92ZXJ2aWV3IEhlbHBlcnMgZm9yIGdvb2dsZS5jb2xhYiBQeXRob24gbW9kdWxlLgogKi8KKGZ1bmN0aW9uKHNjb3BlKSB7CmZ1bmN0aW9uIHNwYW4odGV4dCwgc3R5bGVBdHRyaWJ1dGVzID0ge30pIHsKICBjb25zdCBlbGVtZW50ID0gZG9jdW1lbnQuY3JlYXRlRWxlbWVudCgnc3BhbicpOwogIGVsZW1lbnQudGV4dENvbnRlbnQgPSB0ZXh0OwogIGZvciAoY29uc3Qga2V5IG9mIE9iamVjdC5rZXlzKHN0eWxlQXR0cmlidXRlcykpIHsKICAgIGVsZW1lbnQuc3R5bGVba2V5XSA9IHN0eWxlQXR0cmlidXRlc1trZXldOwogIH0KICByZXR1cm4gZWxlbWVudDsKfQoKLy8gTWF4IG51bWJlciBvZiBieXRlcyB3aGljaCB3aWxsIGJlIHVwbG9hZGVkIGF0IGEgdGltZS4KY29uc3QgTUFYX1BBWUxPQURfU0laRSA9IDEwMCAqIDEwMjQ7CgpmdW5jdGlvbiBfdXBsb2FkRmlsZXMoaW5wdXRJZCwgb3V0cHV0SWQpIHsKICBjb25zdCBzdGVwcyA9IHVwbG9hZEZpbGVzU3RlcChpbnB1dElkLCBvdXRwdXRJZCk7CiAgY29uc3Qgb3V0cHV0RWxlbWVudCA9IGRvY3VtZW50LmdldEVsZW1lbnRCeUlkKG91dHB1dElkKTsKICAvLyBDYWNoZSBzdGVwcyBvbiB0aGUgb3V0cHV0RWxlbWVudCB0byBtYWtlIGl0IGF2YWlsYWJsZSBmb3IgdGhlIG5leHQgY2FsbAogIC8vIHRvIHVwbG9hZEZpbGVzQ29udGludWUgZnJvbSBQeXRob24uCiAgb3V0cHV0RWxlbWVudC5zdGVwcyA9IHN0ZXBzOwoKICByZXR1cm4gX3VwbG9hZEZpbGVzQ29udGludWUob3V0cHV0SWQpOwp9CgovLyBUaGlzIGlzIHJvdWdobHkgYW4gYXN5bmMgZ2VuZXJhdG9yIChub3Qgc3VwcG9ydGVkIGluIHRoZSBicm93c2VyIHlldCksCi8vIHdoZXJlIHRoZXJlIGFyZSBtdWx0aXBsZSBhc3luY2hyb25vdXMgc3RlcHMgYW5kIHRoZSBQeXRob24gc2lkZSBpcyBnb2luZwovLyB0byBwb2xsIGZvciBjb21wbGV0aW9uIG9mIGVhY2ggc3RlcC4KLy8gVGhpcyB1c2VzIGEgUHJvbWlzZSB0byBibG9jayB0aGUgcHl0aG9uIHNpZGUgb24gY29tcGxldGlvbiBvZiBlYWNoIHN0ZXAsCi8vIHRoZW4gcGFzc2VzIHRoZSByZXN1bHQgb2YgdGhlIHByZXZpb3VzIHN0ZXAgYXMgdGhlIGlucHV0IHRvIHRoZSBuZXh0IHN0ZXAuCmZ1bmN0aW9uIF91cGxvYWRGaWxlc0NvbnRpbnVlKG91dHB1dElkKSB7CiAgY29uc3Qgb3V0cHV0RWxlbWVudCA9IGRvY3VtZW50LmdldEVsZW1lbnRCeUlkKG91dHB1dElkKTsKICBjb25zdCBzdGVwcyA9IG91dHB1dEVsZW1lbnQuc3RlcHM7CgogIGNvbnN0IG5leHQgPSBzdGVwcy5uZXh0KG91dHB1dEVsZW1lbnQubGFzdFByb21pc2VWYWx1ZSk7CiAgcmV0dXJuIFByb21pc2UucmVzb2x2ZShuZXh0LnZhbHVlLnByb21pc2UpLnRoZW4oKHZhbHVlKSA9PiB7CiAgICAvLyBDYWNoZSB0aGUgbGFzdCBwcm9taXNlIHZhbHVlIHRvIG1ha2UgaXQgYXZhaWxhYmxlIHRvIHRoZSBuZXh0CiAgICAvLyBzdGVwIG9mIHRoZSBnZW5lcmF0b3IuCiAgICBvdXRwdXRFbGVtZW50Lmxhc3RQcm9taXNlVmFsdWUgPSB2YWx1ZTsKICAgIHJldHVybiBuZXh0LnZhbHVlLnJlc3BvbnNlOwogIH0pOwp9CgovKioKICogR2VuZXJhdG9yIGZ1bmN0aW9uIHdoaWNoIGlzIGNhbGxlZCBiZXR3ZWVuIGVhY2ggYXN5bmMgc3RlcCBvZiB0aGUgdXBsb2FkCiAqIHByb2Nlc3MuCiAqIEBwYXJhbSB7c3RyaW5nfSBpbnB1dElkIEVsZW1lbnQgSUQgb2YgdGhlIGlucHV0IGZpbGUgcGlja2VyIGVsZW1lbnQuCiAqIEBwYXJhbSB7c3RyaW5nfSBvdXRwdXRJZCBFbGVtZW50IElEIG9mIHRoZSBvdXRwdXQgZGlzcGxheS4KICogQHJldHVybiB7IUl0ZXJhYmxlPCFPYmplY3Q+fSBJdGVyYWJsZSBvZiBuZXh0IHN0ZXBzLgogKi8KZnVuY3Rpb24qIHVwbG9hZEZpbGVzU3RlcChpbnB1dElkLCBvdXRwdXRJZCkgewogIGNvbnN0IGlucHV0RWxlbWVudCA9IGRvY3VtZW50LmdldEVsZW1lbnRCeUlkKGlucHV0SWQpOwogIGlucHV0RWxlbWVudC5kaXNhYmxlZCA9IGZhbHNlOwoKICBjb25zdCBvdXRwdXRFbGVtZW50ID0gZG9jdW1lbnQuZ2V0RWxlbWVudEJ5SWQob3V0cHV0SWQpOwogIG91dHB1dEVsZW1lbnQuaW5uZXJIVE1MID0gJyc7CgogIGNvbnN0IHBpY2tlZFByb21pc2UgPSBuZXcgUHJvbWlzZSgocmVzb2x2ZSkgPT4gewogICAgaW5wdXRFbGVtZW50LmFkZEV2ZW50TGlzdGVuZXIoJ2NoYW5nZScsIChlKSA9PiB7CiAgICAgIHJlc29sdmUoZS50YXJnZXQuZmlsZXMpOwogICAgfSk7CiAgfSk7CgogIGNvbnN0IGNhbmNlbCA9IGRvY3VtZW50LmNyZWF0ZUVsZW1lbnQoJ2J1dHRvbicpOwogIGlucHV0RWxlbWVudC5wYXJlbnRFbGVtZW50LmFwcGVuZENoaWxkKGNhbmNlbCk7CiAgY2FuY2VsLnRleHRDb250ZW50ID0gJ0NhbmNlbCB1cGxvYWQnOwogIGNvbnN0IGNhbmNlbFByb21pc2UgPSBuZXcgUHJvbWlzZSgocmVzb2x2ZSkgPT4gewogICAgY2FuY2VsLm9uY2xpY2sgPSAoKSA9PiB7CiAgICAgIHJlc29sdmUobnVsbCk7CiAgICB9OwogIH0pOwoKICAvLyBXYWl0IGZvciB0aGUgdXNlciB0byBwaWNrIHRoZSBmaWxlcy4KICBjb25zdCBmaWxlcyA9IHlpZWxkIHsKICAgIHByb21pc2U6IFByb21pc2UucmFjZShbcGlja2VkUHJvbWlzZSwgY2FuY2VsUHJvbWlzZV0pLAogICAgcmVzcG9uc2U6IHsKICAgICAgYWN0aW9uOiAnc3RhcnRpbmcnLAogICAgfQogIH07CgogIGNhbmNlbC5yZW1vdmUoKTsKCiAgLy8gRGlzYWJsZSB0aGUgaW5wdXQgZWxlbWVudCBzaW5jZSBmdXJ0aGVyIHBpY2tzIGFyZSBub3QgYWxsb3dlZC4KICBpbnB1dEVsZW1lbnQuZGlzYWJsZWQgPSB0cnVlOwoKICBpZiAoIWZpbGVzKSB7CiAgICByZXR1cm4gewogICAgICByZXNwb25zZTogewogICAgICAgIGFjdGlvbjogJ2NvbXBsZXRlJywKICAgICAgfQogICAgfTsKICB9CgogIGZvciAoY29uc3QgZmlsZSBvZiBmaWxlcykgewogICAgY29uc3QgbGkgPSBkb2N1bWVudC5jcmVhdGVFbGVtZW50KCdsaScpOwogICAgbGkuYXBwZW5kKHNwYW4oZmlsZS5uYW1lLCB7Zm9udFdlaWdodDogJ2JvbGQnfSkpOwogICAgbGkuYXBwZW5kKHNwYW4oCiAgICAgICAgYCgke2ZpbGUudHlwZSB8fCAnbi9hJ30pIC0gJHtmaWxlLnNpemV9IGJ5dGVzLCBgICsKICAgICAgICBgbGFzdCBtb2RpZmllZDogJHsKICAgICAgICAgICAgZmlsZS5sYXN0TW9kaWZpZWREYXRlID8gZmlsZS5sYXN0TW9kaWZpZWREYXRlLnRvTG9jYWxlRGF0ZVN0cmluZygpIDoKICAgICAgICAgICAgICAgICAgICAgICAgICAgICAgICAgICAgJ24vYSd9IC0gYCkpOwogICAgY29uc3QgcGVyY2VudCA9IHNwYW4oJzAlIGRvbmUnKTsKICAgIGxpLmFwcGVuZENoaWxkKHBlcmNlbnQpOwoKICAgIG91dHB1dEVsZW1lbnQuYXBwZW5kQ2hpbGQobGkpOwoKICAgIGNvbnN0IGZpbGVEYXRhUHJvbWlzZSA9IG5ldyBQcm9taXNlKChyZXNvbHZlKSA9PiB7CiAgICAgIGNvbnN0IHJlYWRlciA9IG5ldyBGaWxlUmVhZGVyKCk7CiAgICAgIHJlYWRlci5vbmxvYWQgPSAoZSkgPT4gewogICAgICAgIHJlc29sdmUoZS50YXJnZXQucmVzdWx0KTsKICAgICAgfTsKICAgICAgcmVhZGVyLnJlYWRBc0FycmF5QnVmZmVyKGZpbGUpOwogICAgfSk7CiAgICAvLyBXYWl0IGZvciB0aGUgZGF0YSB0byBiZSByZWFkeS4KICAgIGxldCBmaWxlRGF0YSA9IHlpZWxkIHsKICAgICAgcHJvbWlzZTogZmlsZURhdGFQcm9taXNlLAogICAgICByZXNwb25zZTogewogICAgICAgIGFjdGlvbjogJ2NvbnRpbnVlJywKICAgICAgfQogICAgfTsKCiAgICAvLyBVc2UgYSBjaHVua2VkIHNlbmRpbmcgdG8gYXZvaWQgbWVzc2FnZSBzaXplIGxpbWl0cy4gU2VlIGIvNjIxMTU2NjAuCiAgICBsZXQgcG9zaXRpb24gPSAwOwogICAgZG8gewogICAgICBjb25zdCBsZW5ndGggPSBNYXRoLm1pbihmaWxlRGF0YS5ieXRlTGVuZ3RoIC0gcG9zaXRpb24sIE1BWF9QQVlMT0FEX1NJWkUpOwogICAgICBjb25zdCBjaHVuayA9IG5ldyBVaW50OEFycmF5KGZpbGVEYXRhLCBwb3NpdGlvbiwgbGVuZ3RoKTsKICAgICAgcG9zaXRpb24gKz0gbGVuZ3RoOwoKICAgICAgY29uc3QgYmFzZTY0ID0gYnRvYShTdHJpbmcuZnJvbUNoYXJDb2RlLmFwcGx5KG51bGwsIGNodW5rKSk7CiAgICAgIHlpZWxkIHsKICAgICAgICByZXNwb25zZTogewogICAgICAgICAgYWN0aW9uOiAnYXBwZW5kJywKICAgICAgICAgIGZpbGU6IGZpbGUubmFtZSwKICAgICAgICAgIGRhdGE6IGJhc2U2NCwKICAgICAgICB9LAogICAgICB9OwoKICAgICAgbGV0IHBlcmNlbnREb25lID0gZmlsZURhdGEuYnl0ZUxlbmd0aCA9PT0gMCA/CiAgICAgICAgICAxMDAgOgogICAgICAgICAgTWF0aC5yb3VuZCgocG9zaXRpb24gLyBmaWxlRGF0YS5ieXRlTGVuZ3RoKSAqIDEwMCk7CiAgICAgIHBlcmNlbnQudGV4dENvbnRlbnQgPSBgJHtwZXJjZW50RG9uZX0lIGRvbmVgOwoKICAgIH0gd2hpbGUgKHBvc2l0aW9uIDwgZmlsZURhdGEuYnl0ZUxlbmd0aCk7CiAgfQoKICAvLyBBbGwgZG9uZS4KICB5aWVsZCB7CiAgICByZXNwb25zZTogewogICAgICBhY3Rpb246ICdjb21wbGV0ZScsCiAgICB9CiAgfTsKfQoKc2NvcGUuZ29vZ2xlID0gc2NvcGUuZ29vZ2xlIHx8IHt9OwpzY29wZS5nb29nbGUuY29sYWIgPSBzY29wZS5nb29nbGUuY29sYWIgfHwge307CnNjb3BlLmdvb2dsZS5jb2xhYi5fZmlsZXMgPSB7CiAgX3VwbG9hZEZpbGVzLAogIF91cGxvYWRGaWxlc0NvbnRpbnVlLAp9Owp9KShzZWxmKTsK",
              "headers": [
                [
                  "content-type",
                  "application/javascript"
                ]
              ],
              "ok": true,
              "status": 200,
              "status_text": ""
            }
          }
        },
        "id": "_ef-vHHxjHnH",
        "outputId": "df738a9e-3911-4d17-d3df-4463b82b344f"
      },
      "outputs": [
        {
          "output_type": "display_data",
          "data": {
            "text/plain": [
              "<IPython.core.display.HTML object>"
            ],
            "text/html": [
              "\n",
              "     <input type=\"file\" id=\"files-e4a0d99b-c5c6-4520-8212-83c3c6e6fe99\" name=\"files[]\" multiple disabled\n",
              "        style=\"border:none\" />\n",
              "     <output id=\"result-e4a0d99b-c5c6-4520-8212-83c3c6e6fe99\">\n",
              "      Upload widget is only available when the cell has been executed in the\n",
              "      current browser session. Please rerun this cell to enable.\n",
              "      </output>\n",
              "      <script src=\"/nbextensions/google.colab/files.js\"></script> "
            ]
          },
          "metadata": {}
        },
        {
          "output_type": "stream",
          "name": "stdout",
          "text": [
            "Saving kaggle.json to kaggle.json\n",
            "User uploaded file \"kaggle.json\" with length 63 bytes\n"
          ]
        }
      ],
      "source": [
        "from google.colab import files\n",
        "\n",
        "uploaded = files.upload()\n",
        "\n",
        "for fn in uploaded.keys():\n",
        "  print('User uploaded file \"{name}\" with length {length} bytes'.format(\n",
        "      name=fn, length=len(uploaded[fn])))\n",
        "\n",
        "# Then move kaggle.json into the folder where the API expects to find it.\n",
        "!mkdir -p ~/.kaggle/ && mv kaggle.json ~/.kaggle/ && chmod 600 ~/.kaggle/kaggle.json"
      ]
    },
    {
      "cell_type": "code",
      "execution_count": 2,
      "metadata": {
        "colab": {
          "base_uri": "https://localhost:8080/"
        },
        "id": "JHoawxAohrQ6",
        "outputId": "820d1db3-fbc6-4884-c990-823a26c3e97f"
      },
      "outputs": [
        {
          "output_type": "stream",
          "name": "stdout",
          "text": [
            "Downloading h-and-m-personalized-fashion-recommendations.zip to /content\n",
            "100% 28.7G/28.7G [05:49<00:00, 123MB/s]\n",
            "100% 28.7G/28.7G [05:49<00:00, 88.1MB/s]\n"
          ]
        }
      ],
      "source": [
        "!kaggle competitions download -c h-and-m-personalized-fashion-recommendations"
      ]
    },
    {
      "cell_type": "code",
      "execution_count": 3,
      "metadata": {
        "id": "e1doEYC_j9_e",
        "colab": {
          "base_uri": "https://localhost:8080/"
        },
        "outputId": "717bb2ef-a64e-440a-cb6c-014151841cad"
      },
      "outputs": [
        {
          "output_type": "stream",
          "name": "stdout",
          "text": [
            "Archive:  h-and-m-personalized-fashion-recommendations.zip\n",
            "  inflating: articles.csv            \n",
            "Archive:  h-and-m-personalized-fashion-recommendations.zip\n",
            "  inflating: customers.csv           \n",
            "Archive:  h-and-m-personalized-fashion-recommendations.zip\n",
            "  inflating: transactions_train.csv  \n",
            "Archive:  h-and-m-personalized-fashion-recommendations.zip\n",
            "  inflating: sample_submission.csv   \n"
          ]
        }
      ],
      "source": [
        "!unzip h-and-m-personalized-fashion-recommendations.zip articles.csv\n",
        "!unzip h-and-m-personalized-fashion-recommendations.zip customers.csv\n",
        "!unzip h-and-m-personalized-fashion-recommendations.zip transactions_train.csv\n",
        "!unzip h-and-m-personalized-fashion-recommendations.zip sample_submission.csv"
      ]
    },
    {
      "cell_type": "markdown",
      "metadata": {
        "id": "gIbG9KKzoR99"
      },
      "source": [
        "# import modules"
      ]
    },
    {
      "cell_type": "code",
      "execution_count": 4,
      "metadata": {
        "id": "vVJtER4PhKSD"
      },
      "outputs": [],
      "source": [
        "import os\n",
        "import sys\n",
        "import torch\n",
        "import random\n",
        "import numpy as np\n",
        "import pandas as pd\n",
        "import tensorflow as tf\n",
        "from sklearn.preprocessing import LabelEncoder\n",
        "from tqdm import tqdm\n",
        "\n",
        "import torch.nn as nn\n",
        "import torch.optim as optim\n",
        "import torch.nn.functional as F\n",
        "from torch.utils.data import Dataset, DataLoader"
      ]
    },
    {
      "cell_type": "code",
      "execution_count": 5,
      "metadata": {
        "id": "6d9lc2eBhP9F"
      },
      "outputs": [],
      "source": [
        "def seed_everything(seed=42): \n",
        "    random.seed(seed)\n",
        "    os.environ['PYTHONHASHSEED'] = str(seed)\n",
        "    tf.random.set_seed(seed)\n",
        "    np.random.seed(seed)\n",
        "    torch.manual_seed(seed)\n",
        "    torch.cuda.manual_seed(seed)\n",
        "    torch.backends.cudnn.deterministic = True\n",
        "seed_everything()"
      ]
    },
    {
      "cell_type": "markdown",
      "metadata": {
        "id": "EnPQWZwvoUwl"
      },
      "source": [
        "# data "
      ]
    },
    {
      "cell_type": "code",
      "execution_count": 6,
      "metadata": {
        "id": "ym_xRfR4iAKZ"
      },
      "outputs": [],
      "source": [
        "df = pd.read_csv(\"transactions_train.csv\", dtype={\"article_id\": str})"
      ]
    },
    {
      "cell_type": "code",
      "execution_count": 7,
      "metadata": {
        "id": "aG44k-Mcj4i9",
        "colab": {
          "base_uri": "https://localhost:8080/"
        },
        "outputId": "4c9e8509-42c9-42bb-ede8-75c2c5134e63"
      },
      "outputs": [
        {
          "output_type": "execute_result",
          "data": {
            "text/plain": [
              "Timestamp('2020-09-22 00:00:00')"
            ]
          },
          "metadata": {},
          "execution_count": 7
        }
      ],
      "source": [
        "df[\"t_dat\"] = pd.to_datetime(df[\"t_dat\"])\n",
        "df[\"t_dat\"].max()"
      ]
    },
    {
      "cell_type": "code",
      "execution_count": 8,
      "metadata": {
        "id": "lMmNPUbPj5Me",
        "colab": {
          "base_uri": "https://localhost:8080/"
        },
        "outputId": "bf85943e-f8db-4b92-b932-c070fb18203f"
      },
      "outputs": [
        {
          "output_type": "execute_result",
          "data": {
            "text/plain": [
              "(73239, 3)"
            ]
          },
          "metadata": {},
          "execution_count": 8
        }
      ],
      "source": [
        "active_articles = df.groupby(\"article_id\")[\"t_dat\"].max().reset_index()\n",
        "active_articles = active_articles[active_articles[\"t_dat\"] >= \"2019-08-24\"].reset_index()\n",
        "active_articles.shape"
      ]
    },
    {
      "cell_type": "code",
      "execution_count": 9,
      "metadata": {
        "id": "QyyXzwpfoYlu",
        "colab": {
          "base_uri": "https://localhost:8080/"
        },
        "outputId": "7467838d-354f-4a59-c769-3a24f588a875"
      },
      "outputs": [
        {
          "output_type": "execute_result",
          "data": {
            "text/plain": [
              "(29728257, 5)"
            ]
          },
          "metadata": {},
          "execution_count": 9
        }
      ],
      "source": [
        "df = df[df[\"article_id\"].isin(active_articles[\"article_id\"])].reset_index(drop=True)\n",
        "df.shape"
      ]
    },
    {
      "cell_type": "code",
      "execution_count": 10,
      "metadata": {
        "id": "HGbeu3HLoYMQ",
        "colab": {
          "base_uri": "https://localhost:8080/"
        },
        "outputId": "0c0f79aa-32a4-44bb-ddb2-fccce4aacce7"
      },
      "outputs": [
        {
          "output_type": "execute_result",
          "data": {
            "text/plain": [
              "65     622657\n",
              "13     549443\n",
              "42     518403\n",
              "12     517428\n",
              "64     510510\n",
              "        ...  \n",
              "93     176262\n",
              "102    166222\n",
              "104    165015\n",
              "97     164462\n",
              "94     154993\n",
              "Name: week, Length: 105, dtype: int64"
            ]
          },
          "metadata": {},
          "execution_count": 10
        }
      ],
      "source": [
        "df[\"week\"] = (df[\"t_dat\"].max() - df[\"t_dat\"]).dt.days // 7\n",
        "df[\"week\"].value_counts()"
      ]
    },
    {
      "cell_type": "code",
      "execution_count": 11,
      "metadata": {
        "id": "lSgfjMJaoXfj"
      },
      "outputs": [],
      "source": [
        "article_ids = np.concatenate([[\"placeholder\"], np.unique(df[\"article_id\"].values)])\n",
        "\n",
        "le_article = LabelEncoder()\n",
        "le_article.fit(article_ids)\n",
        "df[\"article_id\"] = le_article.transform(df[\"article_id\"])"
      ]
    },
    {
      "cell_type": "code",
      "execution_count": 12,
      "metadata": {
        "id": "wkvg8MwOorzM",
        "colab": {
          "base_uri": "https://localhost:8080/",
          "height": 337
        },
        "outputId": "77d357e1-7569-48cc-c5f3-8491515dd589"
      },
      "outputs": [
        {
          "output_type": "stream",
          "name": "stdout",
          "text": [
            "273166\n"
          ]
        },
        {
          "output_type": "display_data",
          "data": {
            "text/plain": [
              "                                         customer_id  \\\n",
              "0  000058a12d5b43e67d225668fa1f8d618c13dc232df0ca...   \n",
              "1  0000757967448a6cb83efb3ea7a3fb9d418ac7adf2379d...   \n",
              "2  0001d44dbe7f6c4b35200abdb052c77a87596fe1bdcc37...   \n",
              "3  0003e867a930d0d6842f923d6ba7c9b77aba33fe2a0fbf...   \n",
              "4  00040239317e877c77ac6e79df42eb2633ad38fcac09fc...   \n",
              "\n",
              "                                target  week  \\\n",
              "0                              [47084]     1   \n",
              "1                        [29309, 1818]     1   \n",
              "2                              [32003]     1   \n",
              "3  [14885, 12129, 66912, 66912, 68467]     1   \n",
              "4         [65998, 65999, 65998, 65999]     1   \n",
              "\n",
              "                                          article_id  \\\n",
              "0                                                NaN   \n",
              "1                                                NaN   \n",
              "2  [52049, 27705, 65845, 69607, 71677, 71677, 716...   \n",
              "3         [72643, 72141, 68849, 71570, 70590, 70807]   \n",
              "4                                                NaN   \n",
              "\n",
              "                                        week_history  \n",
              "0                                                NaN  \n",
              "1                                                NaN  \n",
              "2  [6, 6, 6, 6, 6, 6, 6, 6, 6, 6, 6, 6, 6, 6, 6, ...  \n",
              "3                                 [6, 6, 6, 2, 2, 2]  \n",
              "4                                                NaN  "
            ],
            "text/html": [
              "\n",
              "  <div id=\"df-ebc1b51d-cf8f-43e1-8f98-ecc229c5c8fa\">\n",
              "    <div class=\"colab-df-container\">\n",
              "      <div>\n",
              "<style scoped>\n",
              "    .dataframe tbody tr th:only-of-type {\n",
              "        vertical-align: middle;\n",
              "    }\n",
              "\n",
              "    .dataframe tbody tr th {\n",
              "        vertical-align: top;\n",
              "    }\n",
              "\n",
              "    .dataframe thead th {\n",
              "        text-align: right;\n",
              "    }\n",
              "</style>\n",
              "<table border=\"1\" class=\"dataframe\">\n",
              "  <thead>\n",
              "    <tr style=\"text-align: right;\">\n",
              "      <th></th>\n",
              "      <th>customer_id</th>\n",
              "      <th>target</th>\n",
              "      <th>week</th>\n",
              "      <th>article_id</th>\n",
              "      <th>week_history</th>\n",
              "    </tr>\n",
              "  </thead>\n",
              "  <tbody>\n",
              "    <tr>\n",
              "      <th>0</th>\n",
              "      <td>000058a12d5b43e67d225668fa1f8d618c13dc232df0ca...</td>\n",
              "      <td>[47084]</td>\n",
              "      <td>1</td>\n",
              "      <td>NaN</td>\n",
              "      <td>NaN</td>\n",
              "    </tr>\n",
              "    <tr>\n",
              "      <th>1</th>\n",
              "      <td>0000757967448a6cb83efb3ea7a3fb9d418ac7adf2379d...</td>\n",
              "      <td>[29309, 1818]</td>\n",
              "      <td>1</td>\n",
              "      <td>NaN</td>\n",
              "      <td>NaN</td>\n",
              "    </tr>\n",
              "    <tr>\n",
              "      <th>2</th>\n",
              "      <td>0001d44dbe7f6c4b35200abdb052c77a87596fe1bdcc37...</td>\n",
              "      <td>[32003]</td>\n",
              "      <td>1</td>\n",
              "      <td>[52049, 27705, 65845, 69607, 71677, 71677, 716...</td>\n",
              "      <td>[6, 6, 6, 6, 6, 6, 6, 6, 6, 6, 6, 6, 6, 6, 6, ...</td>\n",
              "    </tr>\n",
              "    <tr>\n",
              "      <th>3</th>\n",
              "      <td>0003e867a930d0d6842f923d6ba7c9b77aba33fe2a0fbf...</td>\n",
              "      <td>[14885, 12129, 66912, 66912, 68467]</td>\n",
              "      <td>1</td>\n",
              "      <td>[72643, 72141, 68849, 71570, 70590, 70807]</td>\n",
              "      <td>[6, 6, 6, 2, 2, 2]</td>\n",
              "    </tr>\n",
              "    <tr>\n",
              "      <th>4</th>\n",
              "      <td>00040239317e877c77ac6e79df42eb2633ad38fcac09fc...</td>\n",
              "      <td>[65998, 65999, 65998, 65999]</td>\n",
              "      <td>1</td>\n",
              "      <td>NaN</td>\n",
              "      <td>NaN</td>\n",
              "    </tr>\n",
              "  </tbody>\n",
              "</table>\n",
              "</div>\n",
              "      <button class=\"colab-df-convert\" onclick=\"convertToInteractive('df-ebc1b51d-cf8f-43e1-8f98-ecc229c5c8fa')\"\n",
              "              title=\"Convert this dataframe to an interactive table.\"\n",
              "              style=\"display:none;\">\n",
              "        \n",
              "  <svg xmlns=\"http://www.w3.org/2000/svg\" height=\"24px\"viewBox=\"0 0 24 24\"\n",
              "       width=\"24px\">\n",
              "    <path d=\"M0 0h24v24H0V0z\" fill=\"none\"/>\n",
              "    <path d=\"M18.56 5.44l.94 2.06.94-2.06 2.06-.94-2.06-.94-.94-2.06-.94 2.06-2.06.94zm-11 1L8.5 8.5l.94-2.06 2.06-.94-2.06-.94L8.5 2.5l-.94 2.06-2.06.94zm10 10l.94 2.06.94-2.06 2.06-.94-2.06-.94-.94-2.06-.94 2.06-2.06.94z\"/><path d=\"M17.41 7.96l-1.37-1.37c-.4-.4-.92-.59-1.43-.59-.52 0-1.04.2-1.43.59L10.3 9.45l-7.72 7.72c-.78.78-.78 2.05 0 2.83L4 21.41c.39.39.9.59 1.41.59.51 0 1.02-.2 1.41-.59l7.78-7.78 2.81-2.81c.8-.78.8-2.07 0-2.86zM5.41 20L4 18.59l7.72-7.72 1.47 1.35L5.41 20z\"/>\n",
              "  </svg>\n",
              "      </button>\n",
              "      \n",
              "  <style>\n",
              "    .colab-df-container {\n",
              "      display:flex;\n",
              "      flex-wrap:wrap;\n",
              "      gap: 12px;\n",
              "    }\n",
              "\n",
              "    .colab-df-convert {\n",
              "      background-color: #E8F0FE;\n",
              "      border: none;\n",
              "      border-radius: 50%;\n",
              "      cursor: pointer;\n",
              "      display: none;\n",
              "      fill: #1967D2;\n",
              "      height: 32px;\n",
              "      padding: 0 0 0 0;\n",
              "      width: 32px;\n",
              "    }\n",
              "\n",
              "    .colab-df-convert:hover {\n",
              "      background-color: #E2EBFA;\n",
              "      box-shadow: 0px 1px 2px rgba(60, 64, 67, 0.3), 0px 1px 3px 1px rgba(60, 64, 67, 0.15);\n",
              "      fill: #174EA6;\n",
              "    }\n",
              "\n",
              "    [theme=dark] .colab-df-convert {\n",
              "      background-color: #3B4455;\n",
              "      fill: #D2E3FC;\n",
              "    }\n",
              "\n",
              "    [theme=dark] .colab-df-convert:hover {\n",
              "      background-color: #434B5C;\n",
              "      box-shadow: 0px 1px 3px 1px rgba(0, 0, 0, 0.15);\n",
              "      filter: drop-shadow(0px 1px 2px rgba(0, 0, 0, 0.3));\n",
              "      fill: #FFFFFF;\n",
              "    }\n",
              "  </style>\n",
              "\n",
              "      <script>\n",
              "        const buttonEl =\n",
              "          document.querySelector('#df-ebc1b51d-cf8f-43e1-8f98-ecc229c5c8fa button.colab-df-convert');\n",
              "        buttonEl.style.display =\n",
              "          google.colab.kernel.accessAllowed ? 'block' : 'none';\n",
              "\n",
              "        async function convertToInteractive(key) {\n",
              "          const element = document.querySelector('#df-ebc1b51d-cf8f-43e1-8f98-ecc229c5c8fa');\n",
              "          const dataTable =\n",
              "            await google.colab.kernel.invokeFunction('convertToInteractive',\n",
              "                                                     [key], {});\n",
              "          if (!dataTable) return;\n",
              "\n",
              "          const docLinkHtml = 'Like what you see? Visit the ' +\n",
              "            '<a target=\"_blank\" href=https://colab.research.google.com/notebooks/data_table.ipynb>data table notebook</a>'\n",
              "            + ' to learn more about interactive tables.';\n",
              "          element.innerHTML = '';\n",
              "          dataTable['output_type'] = 'display_data';\n",
              "          await google.colab.output.renderOutput(dataTable, element);\n",
              "          const docLink = document.createElement('div');\n",
              "          docLink.innerHTML = docLinkHtml;\n",
              "          element.appendChild(docLink);\n",
              "        }\n",
              "      </script>\n",
              "    </div>\n",
              "  </div>\n",
              "  "
            ]
          },
          "metadata": {}
        },
        {
          "output_type": "execute_result",
          "data": {
            "text/plain": [
              "((300129, 5), (68984, 5))"
            ]
          },
          "metadata": {},
          "execution_count": 12
        }
      ],
      "source": [
        "def create_dataset(df, week):\n",
        "    hist_df = df[(df[\"week\"] > week) & (df[\"week\"] <= week + WEEK_HIST_MAX)]\n",
        "    hist_df = hist_df.groupby(\"customer_id\").agg({\"article_id\": list, \"week\": list}).reset_index()\n",
        "    hist_df.rename(columns={\"week\": 'week_history'}, inplace=True)\n",
        "    \n",
        "    target_df = df[df[\"week\"] == week]\n",
        "    target_df = target_df.groupby(\"customer_id\").agg({\"article_id\": list}).reset_index()\n",
        "    target_df.rename(columns={\"article_id\": \"target\"}, inplace=True)\n",
        "    target_df[\"week\"] = week\n",
        "    \n",
        "    return target_df.merge(hist_df, on=\"customer_id\", how=\"left\")\n",
        "\n",
        "val_weeks = [0]\n",
        "train_weeks = [1, 2, 3, 4] \n",
        "WEEK_HIST_MAX = 5\n",
        "\n",
        "# memory save\n",
        "df = df[df.week < (max(train_weeks) + WEEK_HIST_MAX) * 2].reset_index(drop=True)\n",
        "\n",
        "val_df = pd.concat([create_dataset(df, w) for w in val_weeks]).reset_index(drop=True)\n",
        "train_df = pd.concat([create_dataset(df, w) for w in train_weeks]).reset_index(drop=True)\n",
        "\n",
        "cons_users = list(set(train_df.customer_id).union(set(val_df.customer_id)))\n",
        "print(len(cons_users))\n",
        "display(train_df.head())\n",
        "train_df.shape, val_df.shape"
      ]
    },
    {
      "cell_type": "markdown",
      "metadata": {
        "id": "8O258vZto0zW"
      },
      "source": [
        "# setting for nn"
      ]
    },
    {
      "cell_type": "code",
      "execution_count": 13,
      "metadata": {
        "id": "FLJab1vEorvW"
      },
      "outputs": [],
      "source": [
        "class HMDataset(Dataset):\n",
        "    def __init__(self, df, seq_len, is_test=False):\n",
        "        self.df = df.reset_index(drop=True)\n",
        "        self.seq_len = seq_len\n",
        "        self.is_test = is_test\n",
        "    \n",
        "    def __len__(self):\n",
        "        return self.df.shape[0]\n",
        "    \n",
        "    def __getitem__(self, index):\n",
        "        row = self.df.iloc[index]\n",
        "        \n",
        "        if self.is_test:\n",
        "            target = torch.zeros(2).float()\n",
        "        else:\n",
        "            target = torch.zeros(len(article_ids)).float()\n",
        "            for t in row.target:\n",
        "                target[t] = 1.0\n",
        "            \n",
        "        article_hist = torch.zeros(self.seq_len).long()\n",
        "        week_hist = torch.ones(self.seq_len).float()\n",
        "        \n",
        "        \n",
        "        if isinstance(row.article_id, list):\n",
        "            if len(row.article_id) >= self.seq_len:\n",
        "                article_hist = torch.LongTensor(row.article_id[-self.seq_len:])\n",
        "                week_hist = (torch.LongTensor(row.week_history[-self.seq_len:]) - row.week)/WEEK_HIST_MAX\n",
        "            else:\n",
        "                article_hist[-len(row.article_id):] = torch.LongTensor(row.article_id)\n",
        "                week_hist[-len(row.article_id):] = (torch.LongTensor(row.week_history) - row.week)/WEEK_HIST_MAX\n",
        "                \n",
        "        return article_hist, week_hist, target"
      ]
    },
    {
      "cell_type": "code",
      "source": [
        "# https://github.com/ChristophReich1996/SmeLU/blob/master/smelu/smelu.py\n",
        "class SmeLU(nn.Module):\n",
        "    \"\"\"\n",
        "    This class implements the Smooth ReLU (SmeLU) activation function proposed in:\n",
        "    https://arxiv.org/pdf/2202.06499.pdf\n",
        "    \"\"\"\n",
        "\n",
        "    def __init__(self, beta: float = 2.) -> None:\n",
        "        \"\"\"\n",
        "        Constructor method.\n",
        "        :param beta (float): Beta value if the SmeLU activation function. Default 2.\n",
        "        \"\"\"\n",
        "        # Call super constructor\n",
        "        super(SmeLU, self).__init__()\n",
        "        # Check beta\n",
        "        assert beta >= 0., f\"Beta must be equal or larger than zero. beta={beta} given.\"\n",
        "        # Save parameter\n",
        "        self.beta: float = beta\n",
        "\n",
        "    def __repr__(self) -> str:\n",
        "        \"\"\"\n",
        "        Returns a string representation.\n",
        "        :return (str): String representation\n",
        "        \"\"\"\n",
        "        return f\"SmeLU(beta={self.beta})\"\n",
        "\n",
        "    def forward(self, input: torch.Tensor) -> torch.Tensor:\n",
        "        \"\"\"\n",
        "        Forward pass.\n",
        "        :param input (torch.Tensor): Tensor of any shape\n",
        "        :return (torch.Tensor): Output activation tensor of the same shape as the input tensor\n",
        "        \"\"\"\n",
        "        output: torch.Tensor = torch.where(input > self.beta, input,\n",
        "                                           torch.tensor([0.], device=input.device, dtype=input.dtype))\n",
        "        output: torch.Tensor = torch.where(torch.abs(input) <= self.beta,\n",
        "                                           torch.div(torch.square(torch.add(input, self.beta)), (4. * self.beta)), output)\n",
        "        output = torch.tensor(output, dtype=torch.float16)\n",
        "        return output"
      ],
      "metadata": {
        "id": "N3mw5MNalz6n"
      },
      "execution_count": 14,
      "outputs": []
    },
    {
      "cell_type": "code",
      "execution_count": 15,
      "metadata": {
        "id": "gMexyF0worlI"
      },
      "outputs": [],
      "source": [
        "class HMModel(nn.Module):\n",
        "    def __init__(self, article_shape):\n",
        "        super(HMModel, self).__init__()\n",
        "        \n",
        "        self.article_emb = nn.Embedding(article_shape[0], embedding_dim=article_shape[1])\n",
        "        self.article_likelihood = nn.Parameter(torch.zeros(article_shape[0]), requires_grad=True)\n",
        "\n",
        "        self.top = nn.Sequential(nn.Conv1d(3, 16, kernel_size=1), nn.LeakyReLU(),\n",
        "                                 nn.Conv1d(16, 8, kernel_size=1), nn.LeakyReLU(),\n",
        "                                 nn.Conv1d(8, 1, kernel_size=1))\n",
        "        \n",
        "    def forward(self, inputs):\n",
        "        article_hist, week_hist = inputs[0], inputs[1]\n",
        "        x = self.article_emb(article_hist)\n",
        "        x = F.normalize(x, dim=2)\n",
        "        \n",
        "        x = x@F.normalize(self.article_emb.weight).T\n",
        "        \n",
        "        x, indices = x.max(axis=1)\n",
        "        x = x.clamp(1e-3, 0.999)\n",
        "        x = -torch.log(1/x - 1)\n",
        "        \n",
        "        max_week = week_hist.unsqueeze(2).repeat(1, 1, x.shape[-1]).gather(1, indices.unsqueeze(1).repeat(1, week_hist.shape[1], 1))\n",
        "        max_week = max_week.mean(axis=1).unsqueeze(1)\n",
        "        \n",
        "        x = torch.cat([x.unsqueeze(1), max_week,\n",
        "                       self.article_likelihood[None, None, :].repeat(x.shape[0], 1, 1)], axis=1)\n",
        "        \n",
        "        x = self.top(x).squeeze(1)\n",
        "        return x"
      ]
    },
    {
      "cell_type": "code",
      "execution_count": 16,
      "metadata": {
        "id": "ASux4XF8pTkN"
      },
      "outputs": [],
      "source": [
        "def calc_map(topk_preds, target_array, k=12):\n",
        "    metric = []\n",
        "    tp, fp = 0, 0\n",
        "    \n",
        "    for pred in topk_preds:\n",
        "        if target_array[pred]:\n",
        "            tp += 1\n",
        "            metric.append(tp/(tp + fp))\n",
        "        else:\n",
        "            fp += 1\n",
        "            \n",
        "    return np.sum(metric) / min(k, target_array.sum())\n",
        "\n",
        "def read_data(data):\n",
        "    return tuple(d.cuda() for d in data[:-1]), data[-1].cuda()\n",
        "\n",
        "\n",
        "def validate(model, val_loader, k=12):\n",
        "    model.eval()\n",
        "    \n",
        "    tbar = tqdm(val_loader, file=sys.stdout)\n",
        "    \n",
        "    maps = []\n",
        "    \n",
        "    with torch.no_grad():\n",
        "        for idx, data in enumerate(tbar):\n",
        "            inputs, target = read_data(data)\n",
        "\n",
        "            logits = model(inputs)\n",
        "\n",
        "            _, indices = torch.topk(logits, k, dim=1)\n",
        "\n",
        "            indices = indices.detach().cpu().numpy()\n",
        "            target = target.detach().cpu().numpy()\n",
        "\n",
        "            for i in range(indices.shape[0]):\n",
        "                maps.append(calc_map(indices[i], target[i]))\n",
        "        \n",
        "    \n",
        "    return np.mean(maps)"
      ]
    },
    {
      "cell_type": "code",
      "execution_count": 17,
      "metadata": {
        "id": "RDoePqiWzSXT"
      },
      "outputs": [],
      "source": [
        "def dice_loss(y_pred, y_true):\n",
        "    y_pred = y_pred.sigmoid()\n",
        "    intersect = (y_true*y_pred).sum(axis=1)\n",
        "    \n",
        "    return 1 - (intersect/(intersect + y_true.sum(axis=1) + y_pred.sum(axis=1))).mean()\n",
        "\n",
        "def get_optimizer(net):\n",
        "    optimizer = torch.optim.Adam(filter(lambda p: p.requires_grad, net.parameters()), lr=1e-4, betas=(0.9, 0.999),\n",
        "                                 eps=1e-08)\n",
        "    return optimizer\n",
        "\n",
        "def train(model, train_loader, val_loader, epochs):\n",
        "    np.random.seed(SEED)\n",
        "    \n",
        "    optimizer = get_optimizer(model)\n",
        "    scheduler = optim.lr_scheduler.OneCycleLR(optimizer=optimizer, pct_start=0.1, div_factor=1e1, \n",
        "                                              max_lr=5e-4, epochs=epochs, steps_per_epoch=len(train_loader))\n",
        "    scaler = torch.cuda.amp.GradScaler()\n",
        "    criterion = torch.nn.BCEWithLogitsLoss()\n",
        "    best_score = 0\n",
        "    \n",
        "    for e in range(epochs):\n",
        "        model.train()\n",
        "        tbar = tqdm(train_loader, file=sys.stdout)\n",
        "                \n",
        "        loss_list = []\n",
        "\n",
        "        for idx, data in enumerate(tbar):\n",
        "            inputs, target = read_data(data)\n",
        "\n",
        "            optimizer.zero_grad()\n",
        "            \n",
        "            with torch.cuda.amp.autocast():\n",
        "                logits = model(inputs)\n",
        "                loss = criterion(logits, target) + dice_loss(logits, target)\n",
        "            \n",
        "            \n",
        "            #loss.backward()\n",
        "            scaler.scale(loss).backward()\n",
        "            #optimizer.step()\n",
        "            scaler.step(optimizer)\n",
        "            scheduler.step()\n",
        "            scaler.update()\n",
        "            \n",
        "            loss_list.append(loss.detach().cpu().item())\n",
        "            \n",
        "            avg_loss = np.round(100*np.mean(loss_list), 4)\n",
        "\n",
        "            tbar.set_description(f\"Epoch {e+1} Loss: {avg_loss}\")\n",
        "            \n",
        "        val_map = validate(model, val_loader)\n",
        "\n",
        "        log_text = f\"Epoch {e+1}\\nTrain Loss: {avg_loss}\\nValidation MAP: {val_map}\\n\"\n",
        "        print(log_text)\n",
        "        if val_map > best_score:\n",
        "            torch.save(model.state_dict(), 'best-model-parameters.pt')\n",
        "            best_score = val_map\n",
        "    #model.load_state_dict(torch.load('best-model-parameters.pt')) \n",
        "    \n",
        "    return model"
      ]
    },
    {
      "cell_type": "markdown",
      "metadata": {
        "id": "F6fs4cARqgK2"
      },
      "source": [
        "# first training"
      ]
    },
    {
      "cell_type": "code",
      "execution_count": 18,
      "metadata": {
        "id": "UK0O62CQorjc",
        "colab": {
          "base_uri": "https://localhost:8080/"
        },
        "outputId": "67c28116-a1c6-45ca-f7ff-62b58a1a0b12"
      },
      "outputs": [
        {
          "output_type": "stream",
          "name": "stdout",
          "text": [
            "Epoch 1 Loss: 124.0741: 100%|██████████| 1172/1172 [09:51<00:00,  1.98it/s]\n",
            "100%|██████████| 270/270 [00:55<00:00,  4.85it/s]\n",
            "Epoch 1\n",
            "Train Loss: 124.0741\n",
            "Validation MAP: 0.021859966581562962\n",
            "\n",
            "Epoch 2 Loss: 100.176: 100%|██████████| 1172/1172 [09:54<00:00,  1.97it/s]\n",
            "100%|██████████| 270/270 [00:56<00:00,  4.80it/s]\n",
            "Epoch 2\n",
            "Train Loss: 100.176\n",
            "Validation MAP: 0.024571923107638016\n",
            "\n",
            "Epoch 3 Loss: 99.6667: 100%|██████████| 1172/1172 [09:53<00:00,  1.97it/s]\n",
            "100%|██████████| 270/270 [00:55<00:00,  4.84it/s]\n",
            "Epoch 3\n",
            "Train Loss: 99.6667\n",
            "Validation MAP: 0.024458442525758538\n",
            "\n",
            "Epoch 4 Loss: 99.4035: 100%|██████████| 1172/1172 [09:54<00:00,  1.97it/s]\n",
            "100%|██████████| 270/270 [00:56<00:00,  4.82it/s]\n",
            "Epoch 4\n",
            "Train Loss: 99.4035\n",
            "Validation MAP: 0.024580935655122683\n",
            "\n",
            "Epoch 5 Loss: 99.3722: 100%|██████████| 1172/1172 [09:54<00:00,  1.97it/s]\n",
            "100%|██████████| 270/270 [00:56<00:00,  4.81it/s]\n",
            "Epoch 5\n",
            "Train Loss: 99.3722\n",
            "Validation MAP: 0.024494185729599757\n",
            "\n",
            "Epoch 6 Loss: 99.3657: 100%|██████████| 1172/1172 [09:54<00:00,  1.97it/s]\n",
            "100%|██████████| 270/270 [00:56<00:00,  4.79it/s]\n",
            "Epoch 6\n",
            "Train Loss: 99.3657\n",
            "Validation MAP: 0.02458229251370941\n",
            "\n",
            "Epoch 7 Loss: 99.3611: 100%|██████████| 1172/1172 [09:54<00:00,  1.97it/s]\n",
            "100%|██████████| 270/270 [00:56<00:00,  4.81it/s]\n",
            "Epoch 7\n",
            "Train Loss: 99.3611\n",
            "Validation MAP: 0.024593080663008127\n",
            "\n",
            "Epoch 8 Loss: 99.3573: 100%|██████████| 1172/1172 [09:54<00:00,  1.97it/s]\n",
            "100%|██████████| 270/270 [00:56<00:00,  4.80it/s]\n",
            "Epoch 8\n",
            "Train Loss: 99.3573\n",
            "Validation MAP: 0.024581657974872613\n",
            "\n",
            "Epoch 9 Loss: 99.3548: 100%|██████████| 1172/1172 [09:54<00:00,  1.97it/s]\n",
            "100%|██████████| 270/270 [00:56<00:00,  4.79it/s]\n",
            "Epoch 9\n",
            "Train Loss: 99.3548\n",
            "Validation MAP: 0.02458471155466138\n",
            "\n",
            "Epoch 10 Loss: 99.3543: 100%|██████████| 1172/1172 [09:54<00:00,  1.97it/s]\n",
            "100%|██████████| 270/270 [00:56<00:00,  4.81it/s]\n",
            "Epoch 10\n",
            "Train Loss: 99.3543\n",
            "Validation MAP: 0.02459151182353933\n",
            "\n"
          ]
        }
      ],
      "source": [
        "SEQ_LEN = 16\n",
        "BS = 256\n",
        "NW = 8\n",
        "MODEL_NAME = \"exp001\"\n",
        "SEED = 0\n",
        "article_emb_size = 256\n",
        "\n",
        "model = HMModel((len(le_article.classes_), article_emb_size))\n",
        "model = model.cuda()\n",
        "\n",
        "val_dataset = HMDataset(val_df, SEQ_LEN)\n",
        "val_loader = DataLoader(val_dataset, batch_size=BS, shuffle=False, num_workers=NW,\n",
        "                          pin_memory=False, drop_last=False)\n",
        "\n",
        "train_dataset = HMDataset(train_df, SEQ_LEN)\n",
        "train_loader = DataLoader(train_dataset, batch_size=BS, shuffle=True, num_workers=NW,\n",
        "                          pin_memory=False, drop_last=True)\n",
        "\n",
        "model = train(model, train_loader, val_loader, epochs=10)"
      ]
    },
    {
      "cell_type": "markdown",
      "metadata": {
        "id": "xud4aUS9qeTV"
      },
      "source": [
        "# fine tune"
      ]
    },
    {
      "cell_type": "code",
      "execution_count": 19,
      "metadata": {
        "id": "4KEGo48Pord2",
        "colab": {
          "base_uri": "https://localhost:8080/"
        },
        "outputId": "4b9ab3a4-7d1e-4b6c-871c-9515dd3c05ba"
      },
      "outputs": [
        {
          "output_type": "stream",
          "name": "stdout",
          "text": [
            "Epoch 1 Loss: 99.3228: 100%|██████████| 1160/1160 [09:50<00:00,  1.96it/s]\n",
            "100%|██████████| 270/270 [00:54<00:00,  4.98it/s]\n",
            "Epoch 1\n",
            "Train Loss: 99.3228\n",
            "Validation MAP: 0.024451718765059954\n",
            "\n",
            "Epoch 2 Loss: 99.2788: 100%|██████████| 1160/1160 [09:49<00:00,  1.97it/s]\n",
            "100%|██████████| 270/270 [00:54<00:00,  4.98it/s]\n",
            "Epoch 2\n",
            "Train Loss: 99.2788\n",
            "Validation MAP: 0.02496460312542449\n",
            "\n",
            "Epoch 3 Loss: 99.2583: 100%|██████████| 1160/1160 [09:49<00:00,  1.97it/s]\n",
            "100%|██████████| 270/270 [00:54<00:00,  4.93it/s]\n",
            "Epoch 3\n",
            "Train Loss: 99.2583\n",
            "Validation MAP: 0.02578280280538141\n",
            "\n",
            "Epoch 4 Loss: 99.2326: 100%|██████████| 1160/1160 [09:49<00:00,  1.97it/s]\n",
            "100%|██████████| 270/270 [00:54<00:00,  4.95it/s]\n",
            "Epoch 4\n",
            "Train Loss: 99.2326\n",
            "Validation MAP: 0.02682543854128069\n",
            "\n",
            "Epoch 5 Loss: 99.2136: 100%|██████████| 1160/1160 [09:49<00:00,  1.97it/s]\n",
            "100%|██████████| 270/270 [00:54<00:00,  4.93it/s]\n",
            "Epoch 5\n",
            "Train Loss: 99.2136\n",
            "Validation MAP: 0.026868258544967733\n",
            "\n",
            "Epoch 6 Loss: 99.2047: 100%|██████████| 1160/1160 [09:49<00:00,  1.97it/s]\n",
            "100%|██████████| 270/270 [00:54<00:00,  4.95it/s]\n",
            "Epoch 6\n",
            "Train Loss: 99.2047\n",
            "Validation MAP: 0.026908060681338476\n",
            "\n",
            "Epoch 7 Loss: 99.1984: 100%|██████████| 1160/1160 [09:49<00:00,  1.97it/s]\n",
            "100%|██████████| 270/270 [00:54<00:00,  4.91it/s]\n",
            "Epoch 7\n",
            "Train Loss: 99.1984\n",
            "Validation MAP: 0.027034066319829124\n",
            "\n",
            "Epoch 8 Loss: 99.1942: 100%|██████████| 1160/1160 [09:49<00:00,  1.97it/s]\n",
            "100%|██████████| 270/270 [00:55<00:00,  4.89it/s]\n",
            "Epoch 8\n",
            "Train Loss: 99.1942\n",
            "Validation MAP: 0.027082868989070343\n",
            "\n",
            "Epoch 9 Loss: 99.1916: 100%|██████████| 1160/1160 [09:50<00:00,  1.97it/s]\n",
            "100%|██████████| 270/270 [00:55<00:00,  4.85it/s]\n",
            "Epoch 9\n",
            "Train Loss: 99.1916\n",
            "Validation MAP: 0.027091518586111814\n",
            "\n",
            "Epoch 10 Loss: 99.1907: 100%|██████████| 1160/1160 [09:50<00:00,  1.96it/s]\n",
            "100%|██████████| 270/270 [00:55<00:00,  4.85it/s]\n",
            "Epoch 10\n",
            "Train Loss: 99.1907\n",
            "Validation MAP: 0.027089470382324808\n",
            "\n"
          ]
        }
      ],
      "source": [
        "train_dataset = HMDataset(train_df[train_df[\"week\"] < 4].append(val_df), SEQ_LEN)\n",
        "train_loader = DataLoader(train_dataset, batch_size=BS, shuffle=True, num_workers=NW,\n",
        "                          pin_memory=False, drop_last=True)\n",
        "\n",
        "model = train(model, train_loader, val_loader, epochs=10)"
      ]
    },
    {
      "cell_type": "markdown",
      "metadata": {
        "id": "mdjkT5mBqyyv"
      },
      "source": [
        "# prediction"
      ]
    },
    {
      "cell_type": "code",
      "execution_count": 20,
      "metadata": {
        "id": "GhFogf8horaK"
      },
      "outputs": [],
      "source": [
        "def create_test_dataset(test_df):\n",
        "    week = -1\n",
        "    test_df[\"week\"] = week\n",
        "    \n",
        "    hist_df = df[(df[\"week\"] > week) & (df[\"week\"] <= week + WEEK_HIST_MAX)]\n",
        "    hist_df = hist_df.groupby(\"customer_id\").agg({\"article_id\": list, \"week\": list}).reset_index()\n",
        "    hist_df.rename(columns={\"week\": 'week_history'}, inplace=True)\n",
        "    \n",
        "    return test_df.merge(hist_df, on=\"customer_id\", how=\"left\")"
      ]
    },
    {
      "cell_type": "code",
      "execution_count": 21,
      "metadata": {
        "id": "u_qmc9xhorRW",
        "colab": {
          "base_uri": "https://localhost:8080/",
          "height": 224
        },
        "outputId": "c90550e7-0ca4-411e-827f-ad41c6bfab18"
      },
      "outputs": [
        {
          "output_type": "stream",
          "name": "stdout",
          "text": [
            "0.8008965145264508\n"
          ]
        },
        {
          "output_type": "execute_result",
          "data": {
            "text/plain": [
              "                                         customer_id  week article_id  \\\n",
              "0  00000dbacae5abe5e23885899a1fa44253a17956c6d1c3...    -1     [7257]   \n",
              "1  0000423b00ade91418cceaf3b26c6af3dd342b51fd051e...    -1        NaN   \n",
              "2  000058a12d5b43e67d225668fa1f8d618c13dc232df0ca...    -1    [47084]   \n",
              "3  00005ca1c9ed5f5146b52ac8639a40ca9d57aeff4d1bd2...    -1        NaN   \n",
              "4  00006413d8573cd20ed7128e53b7b13819fe5cfc2d801f...    -1        NaN   \n",
              "\n",
              "  week_history  \n",
              "0          [2]  \n",
              "1          NaN  \n",
              "2          [1]  \n",
              "3          NaN  \n",
              "4          NaN  "
            ],
            "text/html": [
              "\n",
              "  <div id=\"df-d173f673-7cfc-4710-9a6f-d0efebf5e37e\">\n",
              "    <div class=\"colab-df-container\">\n",
              "      <div>\n",
              "<style scoped>\n",
              "    .dataframe tbody tr th:only-of-type {\n",
              "        vertical-align: middle;\n",
              "    }\n",
              "\n",
              "    .dataframe tbody tr th {\n",
              "        vertical-align: top;\n",
              "    }\n",
              "\n",
              "    .dataframe thead th {\n",
              "        text-align: right;\n",
              "    }\n",
              "</style>\n",
              "<table border=\"1\" class=\"dataframe\">\n",
              "  <thead>\n",
              "    <tr style=\"text-align: right;\">\n",
              "      <th></th>\n",
              "      <th>customer_id</th>\n",
              "      <th>week</th>\n",
              "      <th>article_id</th>\n",
              "      <th>week_history</th>\n",
              "    </tr>\n",
              "  </thead>\n",
              "  <tbody>\n",
              "    <tr>\n",
              "      <th>0</th>\n",
              "      <td>00000dbacae5abe5e23885899a1fa44253a17956c6d1c3...</td>\n",
              "      <td>-1</td>\n",
              "      <td>[7257]</td>\n",
              "      <td>[2]</td>\n",
              "    </tr>\n",
              "    <tr>\n",
              "      <th>1</th>\n",
              "      <td>0000423b00ade91418cceaf3b26c6af3dd342b51fd051e...</td>\n",
              "      <td>-1</td>\n",
              "      <td>NaN</td>\n",
              "      <td>NaN</td>\n",
              "    </tr>\n",
              "    <tr>\n",
              "      <th>2</th>\n",
              "      <td>000058a12d5b43e67d225668fa1f8d618c13dc232df0ca...</td>\n",
              "      <td>-1</td>\n",
              "      <td>[47084]</td>\n",
              "      <td>[1]</td>\n",
              "    </tr>\n",
              "    <tr>\n",
              "      <th>3</th>\n",
              "      <td>00005ca1c9ed5f5146b52ac8639a40ca9d57aeff4d1bd2...</td>\n",
              "      <td>-1</td>\n",
              "      <td>NaN</td>\n",
              "      <td>NaN</td>\n",
              "    </tr>\n",
              "    <tr>\n",
              "      <th>4</th>\n",
              "      <td>00006413d8573cd20ed7128e53b7b13819fe5cfc2d801f...</td>\n",
              "      <td>-1</td>\n",
              "      <td>NaN</td>\n",
              "      <td>NaN</td>\n",
              "    </tr>\n",
              "  </tbody>\n",
              "</table>\n",
              "</div>\n",
              "      <button class=\"colab-df-convert\" onclick=\"convertToInteractive('df-d173f673-7cfc-4710-9a6f-d0efebf5e37e')\"\n",
              "              title=\"Convert this dataframe to an interactive table.\"\n",
              "              style=\"display:none;\">\n",
              "        \n",
              "  <svg xmlns=\"http://www.w3.org/2000/svg\" height=\"24px\"viewBox=\"0 0 24 24\"\n",
              "       width=\"24px\">\n",
              "    <path d=\"M0 0h24v24H0V0z\" fill=\"none\"/>\n",
              "    <path d=\"M18.56 5.44l.94 2.06.94-2.06 2.06-.94-2.06-.94-.94-2.06-.94 2.06-2.06.94zm-11 1L8.5 8.5l.94-2.06 2.06-.94-2.06-.94L8.5 2.5l-.94 2.06-2.06.94zm10 10l.94 2.06.94-2.06 2.06-.94-2.06-.94-.94-2.06-.94 2.06-2.06.94z\"/><path d=\"M17.41 7.96l-1.37-1.37c-.4-.4-.92-.59-1.43-.59-.52 0-1.04.2-1.43.59L10.3 9.45l-7.72 7.72c-.78.78-.78 2.05 0 2.83L4 21.41c.39.39.9.59 1.41.59.51 0 1.02-.2 1.41-.59l7.78-7.78 2.81-2.81c.8-.78.8-2.07 0-2.86zM5.41 20L4 18.59l7.72-7.72 1.47 1.35L5.41 20z\"/>\n",
              "  </svg>\n",
              "      </button>\n",
              "      \n",
              "  <style>\n",
              "    .colab-df-container {\n",
              "      display:flex;\n",
              "      flex-wrap:wrap;\n",
              "      gap: 12px;\n",
              "    }\n",
              "\n",
              "    .colab-df-convert {\n",
              "      background-color: #E8F0FE;\n",
              "      border: none;\n",
              "      border-radius: 50%;\n",
              "      cursor: pointer;\n",
              "      display: none;\n",
              "      fill: #1967D2;\n",
              "      height: 32px;\n",
              "      padding: 0 0 0 0;\n",
              "      width: 32px;\n",
              "    }\n",
              "\n",
              "    .colab-df-convert:hover {\n",
              "      background-color: #E2EBFA;\n",
              "      box-shadow: 0px 1px 2px rgba(60, 64, 67, 0.3), 0px 1px 3px 1px rgba(60, 64, 67, 0.15);\n",
              "      fill: #174EA6;\n",
              "    }\n",
              "\n",
              "    [theme=dark] .colab-df-convert {\n",
              "      background-color: #3B4455;\n",
              "      fill: #D2E3FC;\n",
              "    }\n",
              "\n",
              "    [theme=dark] .colab-df-convert:hover {\n",
              "      background-color: #434B5C;\n",
              "      box-shadow: 0px 1px 3px 1px rgba(0, 0, 0, 0.15);\n",
              "      filter: drop-shadow(0px 1px 2px rgba(0, 0, 0, 0.3));\n",
              "      fill: #FFFFFF;\n",
              "    }\n",
              "  </style>\n",
              "\n",
              "      <script>\n",
              "        const buttonEl =\n",
              "          document.querySelector('#df-d173f673-7cfc-4710-9a6f-d0efebf5e37e button.colab-df-convert');\n",
              "        buttonEl.style.display =\n",
              "          google.colab.kernel.accessAllowed ? 'block' : 'none';\n",
              "\n",
              "        async function convertToInteractive(key) {\n",
              "          const element = document.querySelector('#df-d173f673-7cfc-4710-9a6f-d0efebf5e37e');\n",
              "          const dataTable =\n",
              "            await google.colab.kernel.invokeFunction('convertToInteractive',\n",
              "                                                     [key], {});\n",
              "          if (!dataTable) return;\n",
              "\n",
              "          const docLinkHtml = 'Like what you see? Visit the ' +\n",
              "            '<a target=\"_blank\" href=https://colab.research.google.com/notebooks/data_table.ipynb>data table notebook</a>'\n",
              "            + ' to learn more about interactive tables.';\n",
              "          element.innerHTML = '';\n",
              "          dataTable['output_type'] = 'display_data';\n",
              "          await google.colab.output.renderOutput(dataTable, element);\n",
              "          const docLink = document.createElement('div');\n",
              "          docLink.innerHTML = docLinkHtml;\n",
              "          element.appendChild(docLink);\n",
              "        }\n",
              "      </script>\n",
              "    </div>\n",
              "  </div>\n",
              "  "
            ]
          },
          "metadata": {},
          "execution_count": 21
        }
      ],
      "source": [
        "test_df = pd.read_csv('sample_submission.csv').drop(\"prediction\", axis=1)\n",
        "test_df = create_test_dataset(test_df)\n",
        "print(test_df[\"article_id\"].isnull().mean())\n",
        "test_df.head()"
      ]
    },
    {
      "cell_type": "code",
      "execution_count": 22,
      "metadata": {
        "id": "AcNM48PSoq1D",
        "colab": {
          "base_uri": "https://localhost:8080/"
        },
        "outputId": "561dff9b-5896-4741-906b-1679c6841ee6"
      },
      "outputs": [
        {
          "output_type": "stream",
          "name": "stdout",
          "text": [
            "100%|██████████| 1068/1068 [10:02<00:00,  1.77it/s]\n"
          ]
        }
      ],
      "source": [
        "test_ds = HMDataset(test_df[test_df.customer_id.isin(cons_users)], SEQ_LEN, is_test=True)\n",
        "test_loader = DataLoader(test_ds, batch_size=BS, shuffle=False, num_workers=NW,\n",
        "                          pin_memory=False, drop_last=False)\n",
        "\n",
        "def inference(model, loader, k=12):\n",
        "    model.eval()\n",
        "    \n",
        "    tbar = tqdm(loader, file=sys.stdout)\n",
        "    \n",
        "    preds = []\n",
        "    \n",
        "    with torch.no_grad():\n",
        "        for idx, data in enumerate(tbar):\n",
        "            inputs, target = read_data(data)\n",
        "\n",
        "            logits = model(inputs)\n",
        "\n",
        "            _, indices = torch.topk(logits, k, dim=1)\n",
        "\n",
        "            indices = indices.detach().cpu().numpy()\n",
        "            target = target.detach().cpu().numpy()\n",
        "\n",
        "            for i in range(indices.shape[0]):\n",
        "                preds.append(\" \".join(list(le_article.inverse_transform(indices[i]))))\n",
        "    \n",
        "    return preds\n",
        "\n",
        "\n",
        "test_df.loc[test_df.customer_id.isin(cons_users), \"prediction\"] = inference(model, test_loader)"
      ]
    },
    {
      "cell_type": "code",
      "execution_count": 23,
      "metadata": {
        "id": "zUH-ONMVrNyH"
      },
      "outputs": [],
      "source": [
        "test_df.to_csv(\"submission.csv\", index=False, columns=[\"customer_id\", \"prediction\"])"
      ]
    },
    {
      "cell_type": "code",
      "execution_count": 24,
      "metadata": {
        "id": "aFdsmK4Kj5Us"
      },
      "outputs": [],
      "source": [
        "# submit用\n",
        "##!kaggle competitions submit -c h-and-m-personalized-fashion-recommendations -f submission.csv -m \"Message\""
      ]
    },
    {
      "cell_type": "code",
      "execution_count": 24,
      "metadata": {
        "id": "TzJukiS8IKzO"
      },
      "outputs": [],
      "source": [
        ""
      ]
    }
  ],
  "metadata": {
    "accelerator": "GPU",
    "colab": {
      "collapsed_sections": [],
      "machine_shape": "hm",
      "name": "kaggle_hm_pytorch.ipynb",
      "provenance": [],
      "background_execution": "on"
    },
    "kernelspec": {
      "display_name": "Python 3",
      "name": "python3"
    },
    "language_info": {
      "name": "python"
    }
  },
  "nbformat": 4,
  "nbformat_minor": 0
}