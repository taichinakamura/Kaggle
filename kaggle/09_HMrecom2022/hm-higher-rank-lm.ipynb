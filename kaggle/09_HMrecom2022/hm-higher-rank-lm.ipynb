{
 "cells": [
  {
   "cell_type": "markdown",
   "id": "0d862724",
   "metadata": {
    "_cell_guid": "b1076dfc-b9ad-4769-8c92-a6c4dae69d19",
    "_uuid": "8f2839f25d086af736a60e9eeb907d3b93b6e0e5",
    "execution": {
     "iopub.execute_input": "2022-02-19T01:06:26.341225Z",
     "iopub.status.busy": "2022-02-19T01:06:26.340823Z",
     "iopub.status.idle": "2022-02-19T01:06:26.495875Z",
     "shell.execute_reply": "2022-02-19T01:06:26.494768Z",
     "shell.execute_reply.started": "2022-02-19T01:06:26.341124Z"
    },
    "papermill": {
     "duration": 0.031195,
     "end_time": "2022-02-25T02:31:37.590766",
     "exception": false,
     "start_time": "2022-02-25T02:31:37.559571",
     "status": "completed"
    },
    "tags": []
   },
   "source": [
    "- increase data by efficient memory usage"
   ]
  },
  {
   "cell_type": "markdown",
   "id": "80eb3afd",
   "metadata": {
    "papermill": {
     "duration": 0.028419,
     "end_time": "2022-02-25T02:31:37.648057",
     "exception": false,
     "start_time": "2022-02-25T02:31:37.619638",
     "status": "completed"
    },
    "tags": []
   },
   "source": [
    "# recsys2021 best paper\n",
    "- paper: https://dl.acm.org/doi/pdf/10.1145/3460231.3474273\n",
    "- code: https://github.com/hasteck/Higher_Recsys_2021/blob/main/Higher_RecSys_2021.ipynb"
   ]
  },
  {
   "cell_type": "code",
   "execution_count": 1,
   "id": "2b046f4e",
   "metadata": {
    "execution": {
     "iopub.execute_input": "2022-02-25T02:31:37.710993Z",
     "iopub.status.busy": "2022-02-25T02:31:37.709500Z",
     "iopub.status.idle": "2022-02-25T02:31:38.584757Z",
     "shell.execute_reply": "2022-02-25T02:31:38.585687Z",
     "shell.execute_reply.started": "2022-02-25T01:28:31.511259Z"
    },
    "papermill": {
     "duration": 0.909351,
     "end_time": "2022-02-25T02:31:38.586226",
     "exception": false,
     "start_time": "2022-02-25T02:31:37.676875",
     "status": "completed"
    },
    "tags": []
   },
   "outputs": [],
   "source": [
    "import os\n",
    "import numpy as np \n",
    "import pandas as pd \n",
    "from tqdm import tqdm\n",
    "from numba import jit\n",
    "from copy import deepcopy\n",
    "from scipy import sparse, linalg\n",
    "\n",
    "import warnings\n",
    "warnings.filterwarnings('ignore')"
   ]
  },
  {
   "cell_type": "code",
   "execution_count": 2,
   "id": "a0517b4b",
   "metadata": {
    "execution": {
     "iopub.execute_input": "2022-02-25T02:31:38.665972Z",
     "iopub.status.busy": "2022-02-25T02:31:38.665291Z",
     "iopub.status.idle": "2022-02-25T02:32:58.268514Z",
     "shell.execute_reply": "2022-02-25T02:32:58.267211Z",
     "shell.execute_reply.started": "2022-02-25T01:23:26.596951Z"
    },
    "papermill": {
     "duration": 79.637186,
     "end_time": "2022-02-25T02:32:58.268939",
     "exception": false,
     "start_time": "2022-02-25T02:31:38.631753",
     "status": "completed"
    },
    "tags": []
   },
   "outputs": [],
   "source": [
    "DATA_DIR = \"/kaggle/input/h-and-m-personalized-fashion-recommendations/\"\n",
    "df = pd.read_csv(DATA_DIR + \"transactions_train.csv\")\n",
    "#article_df = pd.read_csv(DATA_DIR + \"articles.csv\")\n",
    "#customer_df = pd.read_csv(DATA_DIR + \"customers.csv\")\n",
    "sub_df = pd.read_csv(DATA_DIR + \"sample_submission.csv\")"
   ]
  },
  {
   "cell_type": "code",
   "execution_count": 3,
   "id": "a26dd40f",
   "metadata": {
    "execution": {
     "iopub.execute_input": "2022-02-25T02:32:58.340429Z",
     "iopub.status.busy": "2022-02-25T02:32:58.339318Z",
     "iopub.status.idle": "2022-02-25T02:32:58.342172Z",
     "shell.execute_reply": "2022-02-25T02:32:58.341623Z",
     "shell.execute_reply.started": "2022-02-25T01:24:57.665780Z"
    },
    "papermill": {
     "duration": 0.042816,
     "end_time": "2022-02-25T02:32:58.342342",
     "exception": false,
     "start_time": "2022-02-25T02:32:58.299526",
     "status": "completed"
    },
    "tags": []
   },
   "outputs": [],
   "source": [
    "# https://www.kaggle.com/c/h-and-m-personalized-fashion-recommendations/discussion/306007\n",
    "# https://github.com/benhamner/Metrics/blob/master/Python/ml_metrics/average_precision.py\n",
    "\n",
    "def apk(actual, predicted, k=12):\n",
    "    \"\"\"\n",
    "    Computes the average precision at k.\n",
    "    This function computes the average prescision at k between two lists of\n",
    "    items.\n",
    "    Parameters\n",
    "    ----------\n",
    "    actual : list\n",
    "             A list of elements that are to be predicted (order doesn't matter)\n",
    "    predicted : list\n",
    "                A list of predicted elements (order does matter)\n",
    "    k : int, optional\n",
    "        The maximum number of predicted elements\n",
    "    Returns\n",
    "    -------\n",
    "    score : double\n",
    "            The average precision at k over the input lists\n",
    "    \"\"\"\n",
    "    if len(predicted)>k:\n",
    "        predicted = predicted[:k]\n",
    "        \n",
    "    score = 0.0\n",
    "    num_hits = 0.0\n",
    "\n",
    "    for i,p in enumerate(predicted):\n",
    "        if p in actual and p not in predicted[:i]:\n",
    "            num_hits += 1.0\n",
    "            score += num_hits / (i+1.0)\n",
    "\n",
    "    if not actual:\n",
    "        return 0.0\n",
    "\n",
    "    return score / min(len(actual), k)\n",
    "\n",
    "def mapk(actual, predicted, k=12):\n",
    "    \"\"\"\n",
    "    Computes the mean average precision at k.\n",
    "    This function computes the mean average prescision at k between two lists\n",
    "    of lists of items.\n",
    "    Parameters\n",
    "    ----------\n",
    "    actual : list\n",
    "             A list of lists of elements that are to be predicted \n",
    "             (order doesn't matter in the lists)\n",
    "    predicted : list\n",
    "                A list of lists of predicted elements\n",
    "                (order matters in the lists)\n",
    "    k : int, optional\n",
    "        The maximum number of predicted elements\n",
    "    Returns\n",
    "    -------\n",
    "    score : double\n",
    "            The mean average precision at k over the input lists\n",
    "    \"\"\"\n",
    "    return np.mean([apk(a,p,k) for a,p in zip(actual, predicted)])"
   ]
  },
  {
   "cell_type": "markdown",
   "id": "badbbff4",
   "metadata": {
    "papermill": {
     "duration": 0.026866,
     "end_time": "2022-02-25T02:32:58.396696",
     "exception": false,
     "start_time": "2022-02-25T02:32:58.369830",
     "status": "completed"
    },
    "tags": []
   },
   "source": [
    "## prepare data"
   ]
  },
  {
   "cell_type": "code",
   "execution_count": 4,
   "id": "ac003219",
   "metadata": {
    "execution": {
     "iopub.execute_input": "2022-02-25T02:32:58.466551Z",
     "iopub.status.busy": "2022-02-25T02:32:58.465721Z",
     "iopub.status.idle": "2022-02-25T02:33:05.117037Z",
     "shell.execute_reply": "2022-02-25T02:33:05.117576Z",
     "shell.execute_reply.started": "2022-02-25T01:24:57.686843Z"
    },
    "papermill": {
     "duration": 6.694359,
     "end_time": "2022-02-25T02:33:05.117794",
     "exception": false,
     "start_time": "2022-02-25T02:32:58.423435",
     "status": "completed"
    },
    "tags": []
   },
   "outputs": [],
   "source": [
    "start_date = '2020-09-13'\n",
    "val_start_date = '2020-09-19' #9/16\n",
    "\n",
    "df = df[[\"t_dat\", \"customer_id\", \"article_id\"]]\n",
    "\n",
    "# sample check for small memoery usage\n",
    "df = df.query(f\"t_dat >= '{start_date}'\").reset_index(drop=True)\n",
    "train_data = df.query(f\"t_dat < '{val_start_date}'\").reset_index(drop=True)"
   ]
  },
  {
   "cell_type": "code",
   "execution_count": 5,
   "id": "e6e918fb",
   "metadata": {
    "execution": {
     "iopub.execute_input": "2022-02-25T02:33:05.181490Z",
     "iopub.status.busy": "2022-02-25T02:33:05.180250Z",
     "iopub.status.idle": "2022-02-25T02:33:05.315721Z",
     "shell.execute_reply": "2022-02-25T02:33:05.316488Z",
     "shell.execute_reply.started": "2022-02-25T01:25:03.451093Z"
    },
    "papermill": {
     "duration": 0.16651,
     "end_time": "2022-02-25T02:33:05.316757",
     "exception": false,
     "start_time": "2022-02-25T02:33:05.150247",
     "status": "completed"
    },
    "tags": []
   },
   "outputs": [
    {
     "name": "stdout",
     "output_type": "stream",
     "text": [
      "91188 20162\n"
     ]
    }
   ],
   "source": [
    "unique_uid = df[\"customer_id\"].unique()\n",
    "unique_sid = df['article_id'].unique()\n",
    "\n",
    "show2id = dict((sid, i) for (i, sid) in enumerate(unique_sid))\n",
    "profile2id = dict((pid, i) for (i, pid) in enumerate(unique_uid))\n",
    "\n",
    "n_users = max(list(profile2id.values())) + 1\n",
    "n_items = max(list(show2id.values())) + 1\n",
    "print(n_users, n_items)\n",
    "\n",
    "del df, unique_uid, unique_sid"
   ]
  },
  {
   "cell_type": "code",
   "execution_count": 6,
   "id": "e86a2ebd",
   "metadata": {
    "execution": {
     "iopub.execute_input": "2022-02-25T02:33:05.382179Z",
     "iopub.status.busy": "2022-02-25T02:33:05.381397Z",
     "iopub.status.idle": "2022-02-25T02:33:05.387564Z",
     "shell.execute_reply": "2022-02-25T02:33:05.388083Z",
     "shell.execute_reply.started": "2022-02-25T01:25:03.600270Z"
    },
    "papermill": {
     "duration": 0.040591,
     "end_time": "2022-02-25T02:33:05.388287",
     "exception": false,
     "start_time": "2022-02-25T02:33:05.347696",
     "status": "completed"
    },
    "tags": []
   },
   "outputs": [],
   "source": [
    "def numerize(tp):\n",
    "    uid = map(lambda x: profile2id[x], tp['customer_id'])\n",
    "    sid = map(lambda x: show2id[x], tp['article_id'])\n",
    "    out = pd.DataFrame(data={'uid': list(uid), 'sid': list(sid)}, columns=['uid', 'sid'])\n",
    "    return out.sort_values(\"uid\").reset_index(drop=True)"
   ]
  },
  {
   "cell_type": "code",
   "execution_count": 7,
   "id": "6b960465",
   "metadata": {
    "execution": {
     "iopub.execute_input": "2022-02-25T02:33:05.466624Z",
     "iopub.status.busy": "2022-02-25T02:33:05.461654Z",
     "iopub.status.idle": "2022-02-25T02:33:05.825634Z",
     "shell.execute_reply": "2022-02-25T02:33:05.824895Z",
     "shell.execute_reply.started": "2022-02-25T01:25:03.610978Z"
    },
    "papermill": {
     "duration": 0.407876,
     "end_time": "2022-02-25T02:33:05.825803",
     "exception": false,
     "start_time": "2022-02-25T02:33:05.417927",
     "status": "completed"
    },
    "tags": []
   },
   "outputs": [
    {
     "name": "stdout",
     "output_type": "stream",
     "text": [
      "(202552, 2)\n"
     ]
    }
   ],
   "source": [
    "train_data = numerize(train_data)\n",
    "print(train_data.shape)"
   ]
  },
  {
   "cell_type": "markdown",
   "id": "82eaf71a",
   "metadata": {
    "papermill": {
     "duration": 0.027862,
     "end_time": "2022-02-25T02:33:05.881998",
     "exception": false,
     "start_time": "2022-02-25T02:33:05.854136",
     "status": "completed"
    },
    "tags": []
   },
   "source": [
    "# training"
   ]
  },
  {
   "cell_type": "code",
   "execution_count": 8,
   "id": "55d429e0",
   "metadata": {
    "execution": {
     "iopub.execute_input": "2022-02-25T02:33:05.952239Z",
     "iopub.status.busy": "2022-02-25T02:33:05.951511Z",
     "iopub.status.idle": "2022-02-25T02:33:06.308945Z",
     "shell.execute_reply": "2022-02-25T02:33:06.309515Z",
     "shell.execute_reply.started": "2022-02-25T01:25:04.071210Z"
    },
    "papermill": {
     "duration": 0.397426,
     "end_time": "2022-02-25T02:33:06.309734",
     "exception": false,
     "start_time": "2022-02-25T02:33:05.912308",
     "status": "completed"
    },
    "tags": []
   },
   "outputs": [],
   "source": [
    "# function for training\n",
    "### functions to create the feature-pairs\n",
    "@jit\n",
    "def create_list_feature_pairs(XtX, threshold):\n",
    "    AA= np.triu(np.abs(XtX))\n",
    "    AA[np.diag_indices(AA.shape[0])]=0.0\n",
    "    ii_pairs = np.where((AA>threshold)==True)\n",
    "    return ii_pairs\n",
    "\n",
    "@jit\n",
    "def create_matrix_Z(ii_pairs, X):\n",
    "    MM = np.zeros( (len(ii_pairs[0]), X.shape[1]), dtype=np.float)\n",
    "    MM[np.arange(MM.shape[0]), ii_pairs[0]]=1.0\n",
    "    MM[np.arange(MM.shape[0]), ii_pairs[1]]=1.0\n",
    "    CCmask = 1.0-MM    # see Eq. 8 in the paper\n",
    "    MM=sparse.csc_matrix(MM.T)\n",
    "    Z=  X * MM\n",
    "    Z= (Z == 2.0)\n",
    "    Z=Z*1.0\n",
    "    return [Z, CCmask]\n",
    "\n",
    "### training-function of higher-order model\n",
    "@jit\n",
    "def train_higher(XtX, XtXdiag,lambdaBB, ZtZ, ZtZdiag, lambdaCC, CCmask, ZtX, rho, epochs):\n",
    "    # precompute for BB\n",
    "    ii_diag=np.diag_indices(XtX.shape[0])\n",
    "    XtX[ii_diag] = XtXdiag+lambdaBB\n",
    "    PP=np.linalg.inv(XtX)\n",
    "    \n",
    "    # precompute for CC\n",
    "    ii_diag_ZZ=np.diag_indices(ZtZ.shape[0])\n",
    "    ZtZ[ii_diag_ZZ] = ZtZdiag+lambdaCC+rho\n",
    "    #QQ=np.linalg.inv(ZtZ)\n",
    "    \n",
    "    # initialize\n",
    "    CC = np.zeros((ZtZ.shape[0], XtX.shape[0]),dtype=np.float32)\n",
    "    DD = np.zeros((ZtZ.shape[0], XtX.shape[0]),dtype=np.float32)\n",
    "    UU = np.zeros((ZtZ.shape[0], XtX.shape[0]),dtype=np.float32) # is Gamma in paper\n",
    "    XtX[ii_diag] = XtXdiag\n",
    "    \n",
    "    for iter in range(epochs):\n",
    "        print(\"epoch {}\".format(iter))\n",
    "        # learn BB\n",
    "        BB= PP.dot(XtX-ZtX.T.dot(CC)) # BB = np.linalg.solve(XtX, XtX-ZtX.T.dot(CC))\n",
    "        gamma = np.diag(BB) / np.diag(PP)\n",
    "        BB -= PP * gamma\n",
    "        \n",
    "        # learn CC\n",
    "        #CC = QQ.dot(ZtX-ZtX.dot(BB) +rho *(DD-UU))\n",
    "        CC = np.linalg.solve(ZtZ, ZtX-ZtX.dot(BB) + rho * (DD-UU))\n",
    "        \n",
    "        # learn DD\n",
    "        DD =  CC  * CCmask \n",
    "        #DD= np.maximum(0.0, DD) # if you want to enforce non-negative parameters\n",
    "        \n",
    "        # learn UU (is Gamma in paper)\n",
    "        UU += CC-DD\n",
    "    return [BB,DD]\n",
    "\n",
    "#### data formation \n",
    "def format_data(tp):\n",
    "    rows, cols = tp['uid'], tp['sid']\n",
    "    data = sparse.csr_matrix((np.ones_like(rows),\n",
    "                             (rows, cols)), dtype='float32',\n",
    "                             shape=(n_users, n_items))\n",
    "    return data"
   ]
  },
  {
   "cell_type": "code",
   "execution_count": 9,
   "id": "62fc71d2",
   "metadata": {
    "execution": {
     "iopub.execute_input": "2022-02-25T02:33:06.373466Z",
     "iopub.status.busy": "2022-02-25T02:33:06.372681Z",
     "iopub.status.idle": "2022-02-25T02:33:06.374299Z",
     "shell.execute_reply": "2022-02-25T02:33:06.374912Z",
     "shell.execute_reply.started": "2022-02-25T01:25:04.464271Z"
    },
    "papermill": {
     "duration": 0.036116,
     "end_time": "2022-02-25T02:33:06.375123",
     "exception": false,
     "start_time": "2022-02-25T02:33:06.339007",
     "status": "completed"
    },
    "tags": []
   },
   "outputs": [],
   "source": [
    "### choose the training-hyperparameters\n",
    "epochs = 10\n",
    "threshold, lambdaBB, lambdaCC, rho = 100, 500, 5000, 100000"
   ]
  },
  {
   "cell_type": "code",
   "execution_count": 10,
   "id": "146b0261",
   "metadata": {
    "execution": {
     "iopub.execute_input": "2022-02-25T02:33:06.450316Z",
     "iopub.status.busy": "2022-02-25T02:33:06.447388Z",
     "iopub.status.idle": "2022-02-25T02:33:08.251708Z",
     "shell.execute_reply": "2022-02-25T02:33:08.251058Z",
     "shell.execute_reply.started": "2022-02-25T01:25:04.472229Z"
    },
    "papermill": {
     "duration": 1.841894,
     "end_time": "2022-02-25T02:33:08.251899",
     "exception": false,
     "start_time": "2022-02-25T02:33:06.410005",
     "status": "completed"
    },
    "tags": []
   },
   "outputs": [],
   "source": [
    "X = format_data(train_data)\n",
    "del train_data\n",
    "\n",
    "XtX=np.array((X.transpose() * X).todense()) \n",
    "XtXdiag=deepcopy(np.diag(XtX))"
   ]
  },
  {
   "cell_type": "code",
   "execution_count": 11,
   "id": "f64823ce",
   "metadata": {
    "execution": {
     "iopub.execute_input": "2022-02-25T02:33:08.323728Z",
     "iopub.status.busy": "2022-02-25T02:33:08.323023Z",
     "iopub.status.idle": "2022-02-25T02:33:17.360520Z",
     "shell.execute_reply": "2022-02-25T02:33:17.361063Z",
     "shell.execute_reply.started": "2022-02-25T01:28:41.468321Z"
    },
    "papermill": {
     "duration": 9.0783,
     "end_time": "2022-02-25T02:33:17.361272",
     "exception": false,
     "start_time": "2022-02-25T02:33:08.282972",
     "status": "completed"
    },
    "tags": []
   },
   "outputs": [
    {
     "name": "stdout",
     "output_type": "stream",
     "text": [
      "number of feature-pairs: 10\n"
     ]
    }
   ],
   "source": [
    "### create the list of feature-pairs and the higher-order matrix Z\n",
    "XtX[np.diag_indices(XtX.shape[0])]=XtXdiag #if code is re-run, ensure that the diagonal is correct\n",
    "ii_feature_pairs = create_list_feature_pairs(XtX, threshold)\n",
    "print(\"number of feature-pairs: {}\".format(len(ii_feature_pairs[0])))\n",
    "Z, CCmask = create_matrix_Z(ii_feature_pairs, X)"
   ]
  },
  {
   "cell_type": "code",
   "execution_count": 12,
   "id": "68727a1a",
   "metadata": {
    "execution": {
     "iopub.execute_input": "2022-02-25T02:33:17.424464Z",
     "iopub.status.busy": "2022-02-25T02:33:17.423807Z",
     "iopub.status.idle": "2022-02-25T02:33:17.434640Z",
     "shell.execute_reply": "2022-02-25T02:33:17.434038Z",
     "shell.execute_reply.started": "2022-02-25T01:29:34.739473Z"
    },
    "papermill": {
     "duration": 0.045682,
     "end_time": "2022-02-25T02:33:17.434786",
     "exception": false,
     "start_time": "2022-02-25T02:33:17.389104",
     "status": "completed"
    },
    "tags": []
   },
   "outputs": [],
   "source": [
    "### create the higher-order matrices\n",
    "ZtZ=np.array((Z.transpose() * Z).todense()) \n",
    "ZtX=np.array((Z.transpose() * X).todense()) \n",
    "ZtZdiag=deepcopy(np.diag(ZtZ))\n",
    "del X, Z"
   ]
  },
  {
   "cell_type": "code",
   "execution_count": 13,
   "id": "ad459bef",
   "metadata": {
    "execution": {
     "iopub.execute_input": "2022-02-25T02:33:17.523623Z",
     "iopub.status.busy": "2022-02-25T02:33:17.522908Z",
     "iopub.status.idle": "2022-02-25T03:22:33.848731Z",
     "shell.execute_reply": "2022-02-25T03:22:33.849769Z",
     "shell.execute_reply.started": "2022-02-25T01:29:35.856866Z"
    },
    "papermill": {
     "duration": 2956.387069,
     "end_time": "2022-02-25T03:22:33.850167",
     "exception": false,
     "start_time": "2022-02-25T02:33:17.463098",
     "status": "completed"
    },
    "tags": []
   },
   "outputs": [
    {
     "name": "stdout",
     "output_type": "stream",
     "text": [
      "epoch 0\n",
      "epoch 1\n",
      "epoch 2\n",
      "epoch 3\n",
      "epoch 4\n",
      "epoch 5\n",
      "epoch 6\n",
      "epoch 7\n",
      "epoch 8\n",
      "epoch 9\n"
     ]
    }
   ],
   "source": [
    "### iterative training, and evaluation every 10 epochs \n",
    "BB, CC = train_higher(XtX, XtXdiag, lambdaBB, ZtZ, ZtZdiag, lambdaCC, CCmask, ZtX, rho, epochs)"
   ]
  },
  {
   "cell_type": "code",
   "execution_count": 14,
   "id": "37ab0c63",
   "metadata": {
    "execution": {
     "iopub.execute_input": "2022-02-25T03:22:33.971819Z",
     "iopub.status.busy": "2022-02-25T03:22:33.970773Z",
     "iopub.status.idle": "2022-02-25T03:22:33.972908Z",
     "shell.execute_reply": "2022-02-25T03:22:33.973360Z",
     "shell.execute_reply.started": "2022-02-25T02:10:54.617994Z"
    },
    "papermill": {
     "duration": 0.064541,
     "end_time": "2022-02-25T03:22:33.973550",
     "exception": false,
     "start_time": "2022-02-25T03:22:33.909009",
     "status": "completed"
    },
    "tags": []
   },
   "outputs": [],
   "source": [
    "del ZtZ, ZtX, ZtZdiag"
   ]
  },
  {
   "cell_type": "markdown",
   "id": "84c4ea57",
   "metadata": {
    "papermill": {
     "duration": 0.032212,
     "end_time": "2022-02-25T03:22:34.037515",
     "exception": false,
     "start_time": "2022-02-25T03:22:34.005303",
     "status": "completed"
    },
    "tags": []
   },
   "source": [
    "# prediction"
   ]
  },
  {
   "cell_type": "code",
   "execution_count": 15,
   "id": "79536767",
   "metadata": {
    "execution": {
     "iopub.execute_input": "2022-02-25T03:22:34.105710Z",
     "iopub.status.busy": "2022-02-25T03:22:34.104653Z",
     "iopub.status.idle": "2022-02-25T03:22:34.115657Z",
     "shell.execute_reply": "2022-02-25T03:22:34.116207Z",
     "shell.execute_reply.started": "2022-02-25T02:10:57.297292Z"
    },
    "papermill": {
     "duration": 0.047012,
     "end_time": "2022-02-25T03:22:34.116391",
     "exception": false,
     "start_time": "2022-02-25T03:22:34.069379",
     "status": "completed"
    },
    "tags": []
   },
   "outputs": [],
   "source": [
    "### evaluation-function of higher-order model\n",
    "@jit\n",
    "def pred_func(BB,CC,test_data_tr, Z_test_data_tr, N_test, batch_size_test=5000):\n",
    "    print(\"Evaluating ...\")\n",
    "    #evaluate in batches\n",
    "    for bnum, st_idx in tqdm(enumerate(range(0, N_test, batch_size_test))):\n",
    "        end_idx = min(st_idx + batch_size_test, N_test)\n",
    "        Xtest = test_data_tr[st_idx:end_idx]\n",
    "        Ztest = Z_test_data_tr[st_idx:end_idx]\n",
    "        if sparse.isspmatrix(Xtest):\n",
    "            Xtest = Xtest.toarray()\n",
    "            Ztest = Ztest.toarray()\n",
    "        Xtest = Xtest.astype('float64')\n",
    "        Ztest = Ztest.astype('float64')\n",
    "        pred_val = (Xtest).dot(BB) + Ztest.dot(CC)\n",
    "        #pred_val[Xtest.nonzero()] = -np.inf # exclude examples from training and validation (if any)\n",
    "        pred_val = np.argpartition(pred_val, -12)[:,-12:]\n",
    "        if bnum == 0:\n",
    "            ans = pred_val\n",
    "        else:\n",
    "            ans = np.concatenate((ans,pred_val), axis=0)\n",
    "    return ans"
   ]
  },
  {
   "cell_type": "code",
   "execution_count": 16,
   "id": "bdc8b8e6",
   "metadata": {
    "execution": {
     "iopub.execute_input": "2022-02-25T03:22:34.185454Z",
     "iopub.status.busy": "2022-02-25T03:22:34.184460Z",
     "iopub.status.idle": "2022-02-25T03:23:51.628672Z",
     "shell.execute_reply": "2022-02-25T03:23:51.629700Z",
     "shell.execute_reply.started": "2022-02-25T02:10:58.386626Z"
    },
    "papermill": {
     "duration": 77.480432,
     "end_time": "2022-02-25T03:23:51.630006",
     "exception": false,
     "start_time": "2022-02-25T03:22:34.149574",
     "status": "completed"
    },
    "tags": []
   },
   "outputs": [
    {
     "name": "stdout",
     "output_type": "stream",
     "text": [
      "(133281, 2)\n"
     ]
    }
   ],
   "source": [
    "df = pd.read_csv(DATA_DIR + \"transactions_train.csv\")\n",
    "df = df[[\"t_dat\", \"customer_id\", \"article_id\"]]\n",
    "\n",
    "valid_data = df.query(f\"t_dat >= '{val_start_date}'\").reset_index(drop=True)\n",
    "valid_unq = valid_data.groupby('customer_id')['article_id'].apply(list).reset_index()\n",
    "valid_unq['valid_true'] = valid_unq['article_id'].map(lambda x: '0'+' 0'.join(str(x)[1:-1].split(', ')))\n",
    "valid_unq.drop(\"article_id\", axis=1, inplace=True)\n",
    "\n",
    "valid_data = numerize(valid_data)\n",
    "print(valid_data.shape)\n",
    "X_valid = format_data(valid_data)\n",
    "del valid_data, df\n",
    "\n",
    "Z_val_data , _ = create_matrix_Z(ii_feature_pairs, X_valid)\n",
    "N_valid = X_valid.shape[0]"
   ]
  },
  {
   "cell_type": "code",
   "execution_count": 17,
   "id": "baa6d3bb",
   "metadata": {
    "execution": {
     "iopub.execute_input": "2022-02-25T03:23:51.703501Z",
     "iopub.status.busy": "2022-02-25T03:23:51.702854Z",
     "iopub.status.idle": "2022-02-25T03:23:51.750933Z",
     "shell.execute_reply": "2022-02-25T03:23:51.751796Z",
     "shell.execute_reply.started": "2022-02-25T02:12:30.511361Z"
    },
    "papermill": {
     "duration": 0.08953,
     "end_time": "2022-02-25T03:23:51.752060",
     "exception": false,
     "start_time": "2022-02-25T03:23:51.662530",
     "status": "completed"
    },
    "tags": []
   },
   "outputs": [],
   "source": [
    "id2show = dict((v,\"0\"+str(k)) for k,v in show2id.items())\n",
    "id2profile = dict((v,k) for k,v in profile2id.items())\n",
    "\n",
    "sample_value = sub_df[\"prediction\"][0]"
   ]
  },
  {
   "cell_type": "code",
   "execution_count": 18,
   "id": "a464f92f",
   "metadata": {
    "execution": {
     "iopub.execute_input": "2022-02-25T03:23:51.822961Z",
     "iopub.status.busy": "2022-02-25T03:23:51.822256Z",
     "iopub.status.idle": "2022-02-25T03:43:28.771634Z",
     "shell.execute_reply": "2022-02-25T03:43:28.772149Z",
     "shell.execute_reply.started": "2022-02-25T02:12:30.557186Z"
    },
    "papermill": {
     "duration": 1176.98712,
     "end_time": "2022-02-25T03:43:28.772422",
     "exception": false,
     "start_time": "2022-02-25T03:23:51.785302",
     "status": "completed"
    },
    "tags": []
   },
   "outputs": [
    {
     "name": "stdout",
     "output_type": "stream",
     "text": [
      "Evaluating ...\n"
     ]
    },
    {
     "name": "stderr",
     "output_type": "stream",
     "text": [
      "19it [19:35, 61.87s/it]\n"
     ]
    }
   ],
   "source": [
    "pred = pred_func(BB,CC, X_valid, Z_val_data, N_valid)"
   ]
  },
  {
   "cell_type": "code",
   "execution_count": 19,
   "id": "687a3fb8",
   "metadata": {
    "execution": {
     "iopub.execute_input": "2022-02-25T03:43:28.864924Z",
     "iopub.status.busy": "2022-02-25T03:43:28.864124Z",
     "iopub.status.idle": "2022-02-25T03:43:29.546367Z",
     "shell.execute_reply": "2022-02-25T03:43:29.545750Z",
     "shell.execute_reply.started": "2022-02-25T02:29:31.663082Z"
    },
    "papermill": {
     "duration": 0.732687,
     "end_time": "2022-02-25T03:43:29.546598",
     "exception": false,
     "start_time": "2022-02-25T03:43:28.813911",
     "status": "completed"
    },
    "tags": []
   },
   "outputs": [],
   "source": [
    "# https://stackoverflow.com/questions/16992713/translate-every-element-in-numpy-array-according-to-key\n",
    "# indexから商品idに変換\n",
    "pred = np.vectorize(id2show.get)(pred)\n",
    "pred = pd.DataFrame(pred)"
   ]
  },
  {
   "cell_type": "code",
   "execution_count": 20,
   "id": "4b36c045",
   "metadata": {
    "execution": {
     "iopub.execute_input": "2022-02-25T03:43:29.640118Z",
     "iopub.status.busy": "2022-02-25T03:43:29.639374Z",
     "iopub.status.idle": "2022-02-25T03:43:31.999192Z",
     "shell.execute_reply": "2022-02-25T03:43:31.998628Z",
     "shell.execute_reply.started": "2022-02-25T02:29:32.238003Z"
    },
    "papermill": {
     "duration": 2.410041,
     "end_time": "2022-02-25T03:43:31.999346",
     "exception": false,
     "start_time": "2022-02-25T03:43:29.589305",
     "status": "completed"
    },
    "tags": []
   },
   "outputs": [],
   "source": [
    "cols = pred.columns\n",
    "pred['prediction'] = pred[cols].apply(lambda row: ' '.join(row.values.astype(str)), axis=1)\n",
    "pred = pred.drop(cols, axis=1).reset_index(drop=False)\n",
    "pred.columns = [\"customer_id\", \"prediction\"]\n",
    "pred[\"customer_id\"] = pred[\"customer_id\"].map(id2profile)"
   ]
  },
  {
   "cell_type": "code",
   "execution_count": 21,
   "id": "eacc10cb",
   "metadata": {
    "execution": {
     "iopub.execute_input": "2022-02-25T03:43:32.087587Z",
     "iopub.status.busy": "2022-02-25T03:43:32.086504Z",
     "iopub.status.idle": "2022-02-25T03:43:46.833899Z",
     "shell.execute_reply": "2022-02-25T03:43:46.833232Z",
     "shell.execute_reply.started": "2022-02-25T02:29:34.176126Z"
    },
    "papermill": {
     "duration": 14.794479,
     "end_time": "2022-02-25T03:43:46.834054",
     "exception": false,
     "start_time": "2022-02-25T03:43:32.039575",
     "status": "completed"
    },
    "tags": []
   },
   "outputs": [],
   "source": [
    "sub_df = pd.merge(sub_df[\"customer_id\"], pred, on = \"customer_id\", how=\"left\")\n",
    "sub_df[\"prediction\"].fillna(sample_value, inplace=True)\n",
    "sub_df.to_csv(\"submission.csv\", index=False)"
   ]
  },
  {
   "cell_type": "code",
   "execution_count": 22,
   "id": "a4a46040",
   "metadata": {
    "execution": {
     "iopub.execute_input": "2022-02-25T03:43:46.935499Z",
     "iopub.status.busy": "2022-02-25T03:43:46.930443Z",
     "iopub.status.idle": "2022-02-25T03:43:47.649655Z",
     "shell.execute_reply": "2022-02-25T03:43:47.648990Z",
     "shell.execute_reply.started": "2022-02-25T02:29:45.445286Z"
    },
    "papermill": {
     "duration": 0.774709,
     "end_time": "2022-02-25T03:43:47.649837",
     "exception": false,
     "start_time": "2022-02-25T03:43:46.875128",
     "status": "completed"
    },
    "tags": []
   },
   "outputs": [
    {
     "data": {
      "text/plain": [
       "0.021079123367383944"
      ]
     },
     "execution_count": 22,
     "metadata": {},
     "output_type": "execute_result"
    }
   ],
   "source": [
    "# local score\n",
    "valid_unq = pd.merge(valid_unq, pred, on =\"customer_id\", how=\"left\")\n",
    "mapk(valid_unq['valid_true'].map(lambda x: x.split()), valid_unq['prediction'].map(lambda x: x.split()), k=12)"
   ]
  },
  {
   "cell_type": "code",
   "execution_count": null,
   "id": "9c4ebc8f",
   "metadata": {
    "papermill": {
     "duration": 0.040702,
     "end_time": "2022-02-25T03:43:47.732012",
     "exception": false,
     "start_time": "2022-02-25T03:43:47.691310",
     "status": "completed"
    },
    "tags": []
   },
   "outputs": [],
   "source": []
  }
 ],
 "metadata": {
  "kernelspec": {
   "display_name": "Python 3",
   "language": "python",
   "name": "python3"
  },
  "language_info": {
   "codemirror_mode": {
    "name": "ipython",
    "version": 3
   },
   "file_extension": ".py",
   "mimetype": "text/x-python",
   "name": "python",
   "nbconvert_exporter": "python",
   "pygments_lexer": "ipython3",
   "version": "3.7.12"
  },
  "papermill": {
   "default_parameters": {},
   "duration": 4341.929071,
   "end_time": "2022-02-25T03:43:49.019663",
   "environment_variables": {},
   "exception": null,
   "input_path": "__notebook__.ipynb",
   "output_path": "__notebook__.ipynb",
   "parameters": {},
   "start_time": "2022-02-25T02:31:27.090592",
   "version": "2.3.3"
  }
 },
 "nbformat": 4,
 "nbformat_minor": 5
}
