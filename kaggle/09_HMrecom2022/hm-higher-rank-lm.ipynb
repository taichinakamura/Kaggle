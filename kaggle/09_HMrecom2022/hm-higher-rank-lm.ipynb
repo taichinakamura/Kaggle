{
 "cells": [
  {
   "cell_type": "markdown",
   "id": "d8b8e9ea",
   "metadata": {
    "_cell_guid": "b1076dfc-b9ad-4769-8c92-a6c4dae69d19",
    "_uuid": "8f2839f25d086af736a60e9eeb907d3b93b6e0e5",
    "execution": {
     "iopub.execute_input": "2022-02-19T01:06:26.341225Z",
     "iopub.status.busy": "2022-02-19T01:06:26.340823Z",
     "iopub.status.idle": "2022-02-19T01:06:26.495875Z",
     "shell.execute_reply": "2022-02-19T01:06:26.494768Z",
     "shell.execute_reply.started": "2022-02-19T01:06:26.341124Z"
    },
    "papermill": {
     "duration": 0.028201,
     "end_time": "2022-02-23T03:58:44.994955",
     "exception": false,
     "start_time": "2022-02-23T03:58:44.966754",
     "status": "completed"
    },
    "tags": []
   },
   "source": [
    "# recsys2021 best paper\n",
    "- paper: https://dl.acm.org/doi/pdf/10.1145/3460231.3474273\n",
    "- code: https://github.com/hasteck/Higher_Recsys_2021/blob/main/Higher_RecSys_2021.ipynb"
   ]
  },
  {
   "cell_type": "code",
   "execution_count": 1,
   "id": "b2544702",
   "metadata": {
    "execution": {
     "iopub.execute_input": "2022-02-23T03:58:45.059738Z",
     "iopub.status.busy": "2022-02-23T03:58:45.058949Z",
     "iopub.status.idle": "2022-02-23T03:58:45.174516Z",
     "shell.execute_reply": "2022-02-23T03:58:45.175067Z",
     "shell.execute_reply.started": "2022-02-23T02:59:38.827981Z"
    },
    "papermill": {
     "duration": 0.152487,
     "end_time": "2022-02-23T03:58:45.175385",
     "exception": false,
     "start_time": "2022-02-23T03:58:45.022898",
     "status": "completed"
    },
    "tags": []
   },
   "outputs": [],
   "source": [
    "import os\n",
    "from tqdm import tqdm\n",
    "import numpy as np # linear algebra\n",
    "import pandas as pd # data processing, CSV file I/O (e.g. pd.read_csv)\n",
    "from scipy import sparse\n",
    "from copy import deepcopy"
   ]
  },
  {
   "cell_type": "code",
   "execution_count": 2,
   "id": "ddac2ed5",
   "metadata": {
    "execution": {
     "iopub.execute_input": "2022-02-23T03:58:45.232736Z",
     "iopub.status.busy": "2022-02-23T03:58:45.232011Z",
     "iopub.status.idle": "2022-02-23T04:00:09.180554Z",
     "shell.execute_reply": "2022-02-23T04:00:09.181207Z",
     "shell.execute_reply.started": "2022-02-23T02:59:38.943632Z"
    },
    "papermill": {
     "duration": 83.979799,
     "end_time": "2022-02-23T04:00:09.181489",
     "exception": false,
     "start_time": "2022-02-23T03:58:45.201690",
     "status": "completed"
    },
    "tags": []
   },
   "outputs": [],
   "source": [
    "DATA_DIR = \"/kaggle/input/h-and-m-personalized-fashion-recommendations/\"\n",
    "df = pd.read_csv(DATA_DIR + \"transactions_train.csv\")\n",
    "#article_df = pd.read_csv(DATA_DIR + \"articles.csv\")\n",
    "#customer_df = pd.read_csv(DATA_DIR + \"customers.csv\")\n",
    "sub_df = pd.read_csv(DATA_DIR + \"sample_submission.csv\")"
   ]
  },
  {
   "cell_type": "code",
   "execution_count": 3,
   "id": "b0a4fff2",
   "metadata": {
    "execution": {
     "iopub.execute_input": "2022-02-23T04:00:09.245915Z",
     "iopub.status.busy": "2022-02-23T04:00:09.244859Z",
     "iopub.status.idle": "2022-02-23T04:00:09.251655Z",
     "shell.execute_reply": "2022-02-23T04:00:09.250961Z",
     "shell.execute_reply.started": "2022-02-23T03:01:10.789455Z"
    },
    "papermill": {
     "duration": 0.041726,
     "end_time": "2022-02-23T04:00:09.251798",
     "exception": false,
     "start_time": "2022-02-23T04:00:09.210072",
     "status": "completed"
    },
    "tags": []
   },
   "outputs": [],
   "source": [
    "# https://www.kaggle.com/c/h-and-m-personalized-fashion-recommendations/discussion/306007\n",
    "# https://github.com/benhamner/Metrics/blob/master/Python/ml_metrics/average_precision.py\n",
    "\n",
    "def apk(actual, predicted, k=10):\n",
    "    \"\"\"\n",
    "    Computes the average precision at k.\n",
    "    This function computes the average prescision at k between two lists of\n",
    "    items.\n",
    "    Parameters\n",
    "    ----------\n",
    "    actual : list\n",
    "             A list of elements that are to be predicted (order doesn't matter)\n",
    "    predicted : list\n",
    "                A list of predicted elements (order does matter)\n",
    "    k : int, optional\n",
    "        The maximum number of predicted elements\n",
    "    Returns\n",
    "    -------\n",
    "    score : double\n",
    "            The average precision at k over the input lists\n",
    "    \"\"\"\n",
    "    if len(predicted)>k:\n",
    "        predicted = predicted[:k]\n",
    "        \n",
    "    score = 0.0\n",
    "    num_hits = 0.0\n",
    "\n",
    "    for i,p in enumerate(predicted):\n",
    "        if p in actual and p not in predicted[:i]:\n",
    "            num_hits += 1.0\n",
    "            score += num_hits / (i+1.0)\n",
    "\n",
    "    if not actual:\n",
    "        return 0.0\n",
    "\n",
    "    return score / min(len(actual), k)\n",
    "\n",
    "def mapk(actual, predicted, k=12):\n",
    "    \"\"\"\n",
    "    Computes the mean average precision at k.\n",
    "    This function computes the mean average prescision at k between two lists\n",
    "    of lists of items.\n",
    "    Parameters\n",
    "    ----------\n",
    "    actual : list\n",
    "             A list of lists of elements that are to be predicted \n",
    "             (order doesn't matter in the lists)\n",
    "    predicted : list\n",
    "                A list of lists of predicted elements\n",
    "                (order matters in the lists)\n",
    "    k : int, optional\n",
    "        The maximum number of predicted elements\n",
    "    Returns\n",
    "    -------\n",
    "    score : double\n",
    "            The mean average precision at k over the input lists\n",
    "    \"\"\"\n",
    "    return np.mean([apk(a,p,k) for a,p in zip(actual, predicted)])"
   ]
  },
  {
   "cell_type": "markdown",
   "id": "e1decc36",
   "metadata": {
    "papermill": {
     "duration": 0.025666,
     "end_time": "2022-02-23T04:00:09.303658",
     "exception": false,
     "start_time": "2022-02-23T04:00:09.277992",
     "status": "completed"
    },
    "tags": []
   },
   "source": [
    "## prepare data"
   ]
  },
  {
   "cell_type": "code",
   "execution_count": 4,
   "id": "637d4d18",
   "metadata": {
    "execution": {
     "iopub.execute_input": "2022-02-23T04:00:10.639560Z",
     "iopub.status.busy": "2022-02-23T04:00:09.904051Z",
     "iopub.status.idle": "2022-02-23T04:00:16.451900Z",
     "shell.execute_reply": "2022-02-23T04:00:16.451255Z",
     "shell.execute_reply.started": "2022-02-23T03:01:10.804921Z"
    },
    "papermill": {
     "duration": 7.122154,
     "end_time": "2022-02-23T04:00:16.452050",
     "exception": false,
     "start_time": "2022-02-23T04:00:09.329896",
     "status": "completed"
    },
    "tags": []
   },
   "outputs": [
    {
     "name": "stdout",
     "output_type": "stream",
     "text": [
      "(296305, 3) (32866, 3)\n"
     ]
    }
   ],
   "source": [
    "start_date = '2020-09-14'\n",
    "val_start_date = '2020-09-22' #9/16\n",
    "\n",
    "df = df[[\"t_dat\", \"customer_id\", \"article_id\"]]\n",
    "# sample check for small memoery usage\n",
    "df = df.query(f\"t_dat >= '{start_date}'\").reset_index(drop=True)\n",
    "\n",
    "valid_data = df.query(f\"t_dat >= '{val_start_date}'\").reset_index(drop=True)\n",
    "valid_unq = valid_data.groupby('customer_id')['article_id'].apply(list).reset_index()\n",
    "valid_unq['valid_true'] = valid_unq['article_id'].map(lambda x: '0'+' 0'.join(str(x)[1:-1].split(', ')))\n",
    "\n",
    "print(df.shape, valid_data.shape)"
   ]
  },
  {
   "cell_type": "code",
   "execution_count": 5,
   "id": "fd45cf7c",
   "metadata": {
    "execution": {
     "iopub.execute_input": "2022-02-23T04:00:16.517195Z",
     "iopub.status.busy": "2022-02-23T04:00:16.516188Z",
     "iopub.status.idle": "2022-02-23T04:00:16.934919Z",
     "shell.execute_reply": "2022-02-23T04:00:16.934314Z",
     "shell.execute_reply.started": "2022-02-23T03:01:17.843106Z"
    },
    "papermill": {
     "duration": 0.451142,
     "end_time": "2022-02-23T04:00:16.935074",
     "exception": false,
     "start_time": "2022-02-23T04:00:16.483932",
     "status": "completed"
    },
    "tags": []
   },
   "outputs": [
    {
     "name": "stdout",
     "output_type": "stream",
     "text": [
      "(296305, 3)\n",
      "(296305, 3)\n",
      "(166158, 3)\n"
     ]
    }
   ],
   "source": [
    "def get_count(tp, id):\n",
    "    playcount_groupbyid = tp[[id]].groupby(id, as_index=False)\n",
    "    count = playcount_groupbyid.size()\n",
    "    return count\n",
    "\n",
    "def filter_triplets(df, min_uc=5, min_sc=0):\n",
    "    tp = df.copy()\n",
    "    print(tp.shape)\n",
    "    # Only keep the triplets for items which were clicked on by at least min_sc users. \n",
    "    if min_sc > 0:\n",
    "        itemcount = get_count(tp, 'article_id')\n",
    "        tp = tp[tp['article_id'].isin(itemcount[itemcount[\"size\"] >= min_sc][\"article_id\"])]\n",
    "    print(tp.shape)\n",
    "    \n",
    "    # Only keep the triplets for users who clicked on at least min_uc items\n",
    "    # After doing this, some of the items will have less than min_uc users, but should only be a small proportion\n",
    "    if min_uc > 0:\n",
    "        usercount = get_count(tp, 'customer_id')\n",
    "        tp = tp[tp['customer_id'].isin(usercount[usercount[\"size\"] >= min_uc][\"customer_id\"])]\n",
    "    print(tp.shape)\n",
    "    \n",
    "    # Update both usercount and itemcount after filtering\n",
    "    usercount, itemcount = get_count(tp, 'customer_id'), get_count(tp, 'article_id') \n",
    "    return tp , usercount, itemcount\n",
    "\n",
    "raw_data, user_activity, item_popularity = filter_triplets(df)\n",
    "train_data = raw_data.query(f\"t_dat < '{val_start_date}'\").reset_index(drop=True)"
   ]
  },
  {
   "cell_type": "code",
   "execution_count": 6,
   "id": "73da1ad8",
   "metadata": {
    "execution": {
     "iopub.execute_input": "2022-02-23T04:00:16.995362Z",
     "iopub.status.busy": "2022-02-23T04:00:16.994341Z",
     "iopub.status.idle": "2022-02-23T04:00:17.107532Z",
     "shell.execute_reply": "2022-02-23T04:00:17.106886Z",
     "shell.execute_reply.started": "2022-02-23T03:01:18.253072Z"
    },
    "papermill": {
     "duration": 0.145171,
     "end_time": "2022-02-23T04:00:17.107699",
     "exception": false,
     "start_time": "2022-02-23T04:00:16.962528",
     "status": "completed"
    },
    "tags": []
   },
   "outputs": [],
   "source": [
    "unique_uid = df[\"customer_id\"].unique()\n",
    "\n",
    "unique_sid = df['article_id'].unique()\n",
    "show2id = dict((sid, i) for (i, sid) in enumerate(unique_sid))\n",
    "profile2id = dict((pid, i) for (i, pid) in enumerate(unique_uid))\n",
    "\n",
    "n_users = max(list(profile2id.values())) + 1\n",
    "n_items = max(list(show2id.values())) + 1\n",
    "\n",
    "del df, raw_data, unique_uid, unique_sid"
   ]
  },
  {
   "cell_type": "code",
   "execution_count": 7,
   "id": "5c801398",
   "metadata": {
    "execution": {
     "iopub.execute_input": "2022-02-23T04:00:17.172334Z",
     "iopub.status.busy": "2022-02-23T04:00:17.171365Z",
     "iopub.status.idle": "2022-02-23T04:00:17.177474Z",
     "shell.execute_reply": "2022-02-23T04:00:17.177989Z",
     "shell.execute_reply.started": "2022-02-23T03:01:18.368093Z"
    },
    "papermill": {
     "duration": 0.04014,
     "end_time": "2022-02-23T04:00:17.178174",
     "exception": false,
     "start_time": "2022-02-23T04:00:17.138034",
     "status": "completed"
    },
    "tags": []
   },
   "outputs": [],
   "source": [
    "def numerize(tp):\n",
    "    uid = map(lambda x: profile2id[x], tp['customer_id'])\n",
    "    sid = map(lambda x: show2id[x], tp['article_id'])\n",
    "    out = pd.DataFrame(data={'uid': list(uid), 'sid': list(sid)}, columns=['uid', 'sid'])\n",
    "    return out.sort_values(\"uid\").reset_index(drop=True)"
   ]
  },
  {
   "cell_type": "code",
   "execution_count": 8,
   "id": "e5a3eddb",
   "metadata": {
    "execution": {
     "iopub.execute_input": "2022-02-23T04:00:17.236932Z",
     "iopub.status.busy": "2022-02-23T04:00:17.235888Z",
     "iopub.status.idle": "2022-02-23T04:00:17.579112Z",
     "shell.execute_reply": "2022-02-23T04:00:17.579658Z",
     "shell.execute_reply.started": "2022-02-23T03:01:18.377257Z"
    },
    "papermill": {
     "duration": 0.374456,
     "end_time": "2022-02-23T04:00:17.579837",
     "exception": false,
     "start_time": "2022-02-23T04:00:17.205381",
     "status": "completed"
    },
    "tags": []
   },
   "outputs": [],
   "source": [
    "train_data = numerize(train_data)\n",
    "valid_data = numerize(valid_data)"
   ]
  },
  {
   "cell_type": "code",
   "execution_count": 9,
   "id": "161bf591",
   "metadata": {
    "execution": {
     "iopub.execute_input": "2022-02-23T04:00:17.643904Z",
     "iopub.status.busy": "2022-02-23T04:00:17.642857Z",
     "iopub.status.idle": "2022-02-23T04:00:17.653282Z",
     "shell.execute_reply": "2022-02-23T04:00:17.653887Z",
     "shell.execute_reply.started": "2022-02-23T03:01:18.728858Z"
    },
    "papermill": {
     "duration": 0.047132,
     "end_time": "2022-02-23T04:00:17.654060",
     "exception": false,
     "start_time": "2022-02-23T04:00:17.606928",
     "status": "completed"
    },
    "tags": []
   },
   "outputs": [],
   "source": [
    "# function for training\n",
    "\n",
    "### functions to create the feature-pairs\n",
    "def create_list_feature_pairs(XtX, threshold):\n",
    "    AA= np.triu(np.abs(XtX))\n",
    "    AA[np.diag_indices(AA.shape[0])]=0.0\n",
    "    ii_pairs = np.where((AA>threshold)==True)\n",
    "    return ii_pairs\n",
    "\n",
    "def create_matrix_Z(ii_pairs, X):\n",
    "    MM = np.zeros( (len(ii_pairs[0]), X.shape[1]), dtype=np.float)\n",
    "    MM[np.arange(MM.shape[0]) , ii_pairs[0]   ]=1.0\n",
    "    MM[np.arange(MM.shape[0]) , ii_pairs[1]   ]=1.0\n",
    "    CCmask = 1.0-MM    # see Eq. 8 in the paper\n",
    "    MM=sparse.csc_matrix(MM.T)\n",
    "    Z=  X * MM\n",
    "    Z= (Z == 2.0 )\n",
    "    Z=Z*1.0\n",
    "    return [Z, CCmask]\n",
    "\n",
    "### training-function of higher-order model\n",
    "def train_higher(XtX, XtXdiag,lambdaBB, ZtZ, ZtZdiag, lambdaCC, CCmask, ZtX, rho, epochs):\n",
    "    # precompute for BB\n",
    "    ii_diag=np.diag_indices(XtX.shape[0])\n",
    "    XtX[ii_diag] = XtXdiag+lambdaBB\n",
    "    PP=np.linalg.inv(XtX)\n",
    "    # precompute for CC\n",
    "    ii_diag_ZZ=np.diag_indices(ZtZ.shape[0])\n",
    "    ZtZ[ii_diag_ZZ] = ZtZdiag+lambdaCC+rho\n",
    "    QQ=np.linalg.inv(ZtZ)\n",
    "    # initialize\n",
    "    CC = np.zeros( (ZtZ.shape[0], XtX.shape[0]),dtype=np.float64)\n",
    "    DD = np.zeros( (ZtZ.shape[0], XtX.shape[0]),dtype=np.float64)\n",
    "    UU = np.zeros( (ZtZ.shape[0], XtX.shape[0]),dtype=np.float64) # is Gamma in paper\n",
    "    for iter in range(epochs):\n",
    "        print(\"epoch {}\".format(iter))\n",
    "        # learn BB\n",
    "        XtX[ii_diag] = XtXdiag\n",
    "        BB= PP.dot(XtX-ZtX.T.dot(CC))\n",
    "        gamma = np.diag(BB) / np.diag(PP)\n",
    "        BB-= PP *gamma\n",
    "        # learn CC\n",
    "        CC= QQ.dot(ZtX-ZtX.dot(BB) +rho *(DD-UU))\n",
    "        # learn DD\n",
    "        DD=  CC  * CCmask \n",
    "        #DD= np.maximum(0.0, DD) # if you want to enforce non-negative parameters\n",
    "        # learn UU (is Gamma in paper)\n",
    "        UU+= CC-DD\n",
    "    return [BB,DD]"
   ]
  },
  {
   "cell_type": "markdown",
   "id": "e3eb7a78",
   "metadata": {
    "papermill": {
     "duration": 0.026824,
     "end_time": "2022-02-23T04:00:17.708654",
     "exception": false,
     "start_time": "2022-02-23T04:00:17.681830",
     "status": "completed"
    },
    "tags": []
   },
   "source": [
    "## training"
   ]
  },
  {
   "cell_type": "code",
   "execution_count": 10,
   "id": "d273e3be",
   "metadata": {
    "execution": {
     "iopub.execute_input": "2022-02-23T04:00:17.767018Z",
     "iopub.status.busy": "2022-02-23T04:00:17.765988Z",
     "iopub.status.idle": "2022-02-23T04:00:17.770080Z",
     "shell.execute_reply": "2022-02-23T04:00:17.770740Z",
     "shell.execute_reply.started": "2022-02-23T03:01:18.746210Z"
    },
    "papermill": {
     "duration": 0.034938,
     "end_time": "2022-02-23T04:00:17.770921",
     "exception": false,
     "start_time": "2022-02-23T04:00:17.735983",
     "status": "completed"
    },
    "tags": []
   },
   "outputs": [],
   "source": [
    "### choose the training-hyperparameters\n",
    "epochs = 5\n",
    "threshold, lambdaBB, lambdaCC, rho = 100, 500, 5000, 100000"
   ]
  },
  {
   "cell_type": "code",
   "execution_count": 11,
   "id": "1db05bae",
   "metadata": {
    "execution": {
     "iopub.execute_input": "2022-02-23T04:00:17.829051Z",
     "iopub.status.busy": "2022-02-23T04:00:17.828082Z",
     "iopub.status.idle": "2022-02-23T04:00:20.935789Z",
     "shell.execute_reply": "2022-02-23T04:00:20.934448Z",
     "shell.execute_reply.started": "2022-02-23T03:01:18.761566Z"
    },
    "papermill": {
     "duration": 3.137946,
     "end_time": "2022-02-23T04:00:20.935961",
     "exception": false,
     "start_time": "2022-02-23T04:00:17.798015",
     "status": "completed"
    },
    "tags": []
   },
   "outputs": [],
   "source": [
    "def format_data(tp):\n",
    "    rows, cols = tp['uid'], tp['sid']\n",
    "    data = sparse.csr_matrix((np.ones_like(rows),\n",
    "                             (rows, cols)), dtype='float64',\n",
    "                             shape=(n_users, n_items))\n",
    "    return data\n",
    "\n",
    "X = format_data(train_data)\n",
    "XtX=np.array((X.transpose() * X).todense()) \n",
    "XtXdiag=deepcopy(np.diag(XtX))"
   ]
  },
  {
   "cell_type": "code",
   "execution_count": 12,
   "id": "d7c1c25a",
   "metadata": {
    "execution": {
     "iopub.execute_input": "2022-02-23T04:00:20.994616Z",
     "iopub.status.busy": "2022-02-23T04:00:20.993613Z",
     "iopub.status.idle": "2022-02-23T04:00:37.746749Z",
     "shell.execute_reply": "2022-02-23T04:00:37.747264Z",
     "shell.execute_reply.started": "2022-02-23T03:01:21.651135Z"
    },
    "papermill": {
     "duration": 16.78398,
     "end_time": "2022-02-23T04:00:37.747481",
     "exception": false,
     "start_time": "2022-02-23T04:00:20.963501",
     "status": "completed"
    },
    "tags": []
   },
   "outputs": [
    {
     "name": "stdout",
     "output_type": "stream",
     "text": [
      "number of feature-pairs: 12\n"
     ]
    },
    {
     "name": "stderr",
     "output_type": "stream",
     "text": [
      "/opt/conda/lib/python3.7/site-packages/ipykernel_launcher.py:11: DeprecationWarning: `np.float` is a deprecated alias for the builtin `float`. To silence this warning, use `float` by itself. Doing this will not modify any behavior and is safe. If you specifically wanted the numpy scalar type, use `np.float64` here.\n",
      "Deprecated in NumPy 1.20; for more details and guidance: https://numpy.org/devdocs/release/1.20.0-notes.html#deprecations\n",
      "  # This is added back by InteractiveShellApp.init_path()\n"
     ]
    }
   ],
   "source": [
    "### create the list of feature-pairs and the higher-order matrix Z\n",
    "XtX[np.diag_indices(XtX.shape[0])]=XtXdiag #if code is re-run, ensure that the diagonal is correct\n",
    "ii_feature_pairs = create_list_feature_pairs(XtX, threshold)\n",
    "print(\"number of feature-pairs: {}\".format(len(ii_feature_pairs[0])))\n",
    "Z, CCmask = create_matrix_Z(ii_feature_pairs, X)"
   ]
  },
  {
   "cell_type": "code",
   "execution_count": 13,
   "id": "36b10de4",
   "metadata": {
    "execution": {
     "iopub.execute_input": "2022-02-23T04:00:37.808703Z",
     "iopub.status.busy": "2022-02-23T04:00:37.807938Z",
     "iopub.status.idle": "2022-02-23T04:25:14.846893Z",
     "shell.execute_reply": "2022-02-23T04:25:14.848526Z",
     "shell.execute_reply.started": "2022-02-23T03:01:31.190555Z"
    },
    "papermill": {
     "duration": 1477.07199,
     "end_time": "2022-02-23T04:25:14.848895",
     "exception": false,
     "start_time": "2022-02-23T04:00:37.776905",
     "status": "completed"
    },
    "tags": []
   },
   "outputs": [
    {
     "name": "stdout",
     "output_type": "stream",
     "text": [
      "epoch 0\n",
      "epoch 1\n",
      "epoch 2\n",
      "epoch 3\n",
      "epoch 4\n"
     ]
    }
   ],
   "source": [
    "### create the higher-order matrices\n",
    "ZtZ=np.array((Z.transpose() * Z).todense()) \n",
    "ZtX=np.array((Z.transpose() * X).todense()) \n",
    "ZtZdiag=deepcopy(np.diag(ZtZ))\n",
    "\n",
    "### iterative training, and evaluation every 10 epochs \n",
    "BB, CC = train_higher(XtX, XtXdiag, lambdaBB, ZtZ, ZtZdiag, lambdaCC, CCmask, ZtX, rho, epochs)"
   ]
  },
  {
   "cell_type": "code",
   "execution_count": 14,
   "id": "ca9d2c66",
   "metadata": {
    "execution": {
     "iopub.execute_input": "2022-02-23T04:25:14.926179Z",
     "iopub.status.busy": "2022-02-23T04:25:14.925500Z",
     "iopub.status.idle": "2022-02-23T04:25:14.927929Z",
     "shell.execute_reply": "2022-02-23T04:25:14.928501Z",
     "shell.execute_reply.started": "2022-02-23T03:25:08.468651Z"
    },
    "papermill": {
     "duration": 0.038065,
     "end_time": "2022-02-23T04:25:14.928717",
     "exception": false,
     "start_time": "2022-02-23T04:25:14.890652",
     "status": "completed"
    },
    "tags": []
   },
   "outputs": [],
   "source": [
    "del ZtZ, ZtX, ZtZdiag"
   ]
  },
  {
   "cell_type": "code",
   "execution_count": 15,
   "id": "22bb3006",
   "metadata": {
    "execution": {
     "iopub.execute_input": "2022-02-23T04:25:14.993251Z",
     "iopub.status.busy": "2022-02-23T04:25:14.992535Z",
     "iopub.status.idle": "2022-02-23T04:25:15.001507Z",
     "shell.execute_reply": "2022-02-23T04:25:15.002110Z",
     "shell.execute_reply.started": "2022-02-23T03:25:08.479756Z"
    },
    "papermill": {
     "duration": 0.043127,
     "end_time": "2022-02-23T04:25:15.002298",
     "exception": false,
     "start_time": "2022-02-23T04:25:14.959171",
     "status": "completed"
    },
    "tags": []
   },
   "outputs": [],
   "source": [
    "### evaluation-function of higher-order model\n",
    "def pred_func(BB,CC,test_data_tr, Z_test_data_tr, N_test, idxlist, batch_size_test=5000):\n",
    "    print(\"Evaluating ...\")\n",
    "    #evaluate in batches\n",
    "    for bnum, st_idx in tqdm(enumerate(range(0, N_test, batch_size_test))):\n",
    "        end_idx = min(st_idx + batch_size_test, N_test)\n",
    "        Xtest = test_data_tr[idxlist[st_idx:end_idx]]\n",
    "        Ztest = Z_test_data_tr[idxlist[st_idx:end_idx]]\n",
    "        if sparse.isspmatrix(Xtest):\n",
    "            Xtest = Xtest.toarray()\n",
    "            Ztest = Ztest.toarray()\n",
    "        Xtest = Xtest.astype('float32')\n",
    "        Ztest = Ztest.astype('float32')\n",
    "        pred_val = (Xtest).dot(BB) + Ztest.dot(CC)\n",
    "        #pred_val[Xtest.nonzero()] = -np.inf # exclude examples from training and validation (if any)\n",
    "        pred_val = np.argpartition(pred_val, -12)[:,-12:]\n",
    "        if bnum == 0:\n",
    "            ans = pred_val\n",
    "        else:\n",
    "            ans = np.concatenate((ans,pred_val), axis=0)\n",
    "    return ans"
   ]
  },
  {
   "cell_type": "code",
   "execution_count": 16,
   "id": "b7f62913",
   "metadata": {
    "execution": {
     "iopub.execute_input": "2022-02-23T04:25:15.067614Z",
     "iopub.status.busy": "2022-02-23T04:25:15.066891Z",
     "iopub.status.idle": "2022-02-23T04:25:15.088501Z",
     "shell.execute_reply": "2022-02-23T04:25:15.087932Z",
     "shell.execute_reply.started": "2022-02-23T03:25:08.494176Z"
    },
    "papermill": {
     "duration": 0.055275,
     "end_time": "2022-02-23T04:25:15.088658",
     "exception": false,
     "start_time": "2022-02-23T04:25:15.033383",
     "status": "completed"
    },
    "tags": []
   },
   "outputs": [
    {
     "name": "stderr",
     "output_type": "stream",
     "text": [
      "/opt/conda/lib/python3.7/site-packages/ipykernel_launcher.py:11: DeprecationWarning: `np.float` is a deprecated alias for the builtin `float`. To silence this warning, use `float` by itself. Doing this will not modify any behavior and is safe. If you specifically wanted the numpy scalar type, use `np.float64` here.\n",
      "Deprecated in NumPy 1.20; for more details and guidance: https://numpy.org/devdocs/release/1.20.0-notes.html#deprecations\n",
      "  # This is added back by InteractiveShellApp.init_path()\n"
     ]
    }
   ],
   "source": [
    "X_valid = format_data(valid_data)\n",
    "Z_val_data , _ = create_matrix_Z(ii_feature_pairs, X_valid)\n",
    "N_valid = X_valid.shape[0]\n",
    "idxlist = range(N_valid)"
   ]
  },
  {
   "cell_type": "markdown",
   "id": "e5c7158c",
   "metadata": {
    "papermill": {
     "duration": 0.030486,
     "end_time": "2022-02-23T04:25:15.150188",
     "exception": false,
     "start_time": "2022-02-23T04:25:15.119702",
     "status": "completed"
    },
    "tags": []
   },
   "source": [
    "# prediction"
   ]
  },
  {
   "cell_type": "code",
   "execution_count": 17,
   "id": "8c33cd01",
   "metadata": {
    "execution": {
     "iopub.execute_input": "2022-02-23T04:25:15.216452Z",
     "iopub.status.busy": "2022-02-23T04:25:15.215705Z",
     "iopub.status.idle": "2022-02-23T04:25:15.274320Z",
     "shell.execute_reply": "2022-02-23T04:25:15.273591Z",
     "shell.execute_reply.started": "2022-02-23T03:25:08.532184Z"
    },
    "papermill": {
     "duration": 0.092252,
     "end_time": "2022-02-23T04:25:15.274493",
     "exception": false,
     "start_time": "2022-02-23T04:25:15.182241",
     "status": "completed"
    },
    "tags": []
   },
   "outputs": [],
   "source": [
    "id2show = dict((v,\"0\"+str(k)) for k,v in show2id.items())\n",
    "id2profile = dict((v,k) for k,v in profile2id.items())\n",
    "\n",
    "sample_value = sub_df[\"prediction\"][0]"
   ]
  },
  {
   "cell_type": "code",
   "execution_count": 18,
   "id": "9a551d3b",
   "metadata": {
    "execution": {
     "iopub.execute_input": "2022-02-23T04:25:15.341942Z",
     "iopub.status.busy": "2022-02-23T04:25:15.341217Z",
     "iopub.status.idle": "2022-02-23T04:42:02.320610Z",
     "shell.execute_reply": "2022-02-23T04:42:02.318673Z",
     "shell.execute_reply.started": "2022-02-23T03:25:08.609030Z"
    },
    "papermill": {
     "duration": 1007.015458,
     "end_time": "2022-02-23T04:42:02.321045",
     "exception": false,
     "start_time": "2022-02-23T04:25:15.305587",
     "status": "completed"
    },
    "tags": []
   },
   "outputs": [
    {
     "name": "stdout",
     "output_type": "stream",
     "text": [
      "Evaluating ...\n"
     ]
    },
    {
     "name": "stderr",
     "output_type": "stream",
     "text": [
      "17it [16:46, 59.23s/it]\n"
     ]
    }
   ],
   "source": [
    "pred = pred_func(BB,CC, X_valid, Z_val_data, N_valid, idxlist)"
   ]
  },
  {
   "cell_type": "code",
   "execution_count": 19,
   "id": "4c3d38e9",
   "metadata": {
    "execution": {
     "iopub.execute_input": "2022-02-23T04:42:02.405215Z",
     "iopub.status.busy": "2022-02-23T04:42:02.404393Z",
     "iopub.status.idle": "2022-02-23T04:42:02.988969Z",
     "shell.execute_reply": "2022-02-23T04:42:02.989592Z",
     "shell.execute_reply.started": "2022-02-23T03:41:15.032821Z"
    },
    "papermill": {
     "duration": 0.630383,
     "end_time": "2022-02-23T04:42:02.989822",
     "exception": false,
     "start_time": "2022-02-23T04:42:02.359439",
     "status": "completed"
    },
    "tags": []
   },
   "outputs": [],
   "source": [
    "# https://stackoverflow.com/questions/16992713/translate-every-element-in-numpy-array-according-to-key\n",
    "# indexから商品idに変換\n",
    "pred = np.vectorize(id2show.get)(pred)\n",
    "pred = pd.DataFrame(pred)"
   ]
  },
  {
   "cell_type": "code",
   "execution_count": 20,
   "id": "9a4f4103",
   "metadata": {
    "execution": {
     "iopub.execute_input": "2022-02-23T04:42:03.078930Z",
     "iopub.status.busy": "2022-02-23T04:42:03.078155Z",
     "iopub.status.idle": "2022-02-23T04:42:05.196225Z",
     "shell.execute_reply": "2022-02-23T04:42:05.195528Z",
     "shell.execute_reply.started": "2022-02-23T03:41:15.600642Z"
    },
    "papermill": {
     "duration": 2.167084,
     "end_time": "2022-02-23T04:42:05.196381",
     "exception": false,
     "start_time": "2022-02-23T04:42:03.029297",
     "status": "completed"
    },
    "tags": []
   },
   "outputs": [],
   "source": [
    "cols = pred.columns\n",
    "pred['prediction'] = pred[cols].apply(lambda row: ' '.join(row.values.astype(str)), axis=1)\n",
    "pred = pred.drop(cols, axis=1).reset_index(drop=False)\n",
    "pred.columns = [\"customer_id\", \"prediction\"]\n",
    "pred[\"customer_id\"] = pred[\"customer_id\"].map(id2profile)"
   ]
  },
  {
   "cell_type": "code",
   "execution_count": 21,
   "id": "df31aabc",
   "metadata": {
    "execution": {
     "iopub.execute_input": "2022-02-23T04:42:05.280371Z",
     "iopub.status.busy": "2022-02-23T04:42:05.279683Z",
     "iopub.status.idle": "2022-02-23T04:42:19.947868Z",
     "shell.execute_reply": "2022-02-23T04:42:19.947261Z",
     "shell.execute_reply.started": "2022-02-23T03:41:17.747411Z"
    },
    "papermill": {
     "duration": 14.713016,
     "end_time": "2022-02-23T04:42:19.948019",
     "exception": false,
     "start_time": "2022-02-23T04:42:05.235003",
     "status": "completed"
    },
    "tags": []
   },
   "outputs": [],
   "source": [
    "sub_df = pd.merge(sub_df[\"customer_id\"], pred, on = \"customer_id\", how=\"left\")\n",
    "sub_df[\"prediction\"].fillna(sample_value, inplace=True)\n",
    "sub_df.to_csv(\"submission.csv\", index=False)"
   ]
  },
  {
   "cell_type": "code",
   "execution_count": 22,
   "id": "a5b4b7af",
   "metadata": {
    "execution": {
     "iopub.execute_input": "2022-02-23T04:42:20.035371Z",
     "iopub.status.busy": "2022-02-23T04:42:20.033715Z",
     "iopub.status.idle": "2022-02-23T04:42:20.160781Z",
     "shell.execute_reply": "2022-02-23T04:42:20.160180Z",
     "shell.execute_reply.started": "2022-02-23T03:41:32.714986Z"
    },
    "papermill": {
     "duration": 0.172194,
     "end_time": "2022-02-23T04:42:20.160927",
     "exception": false,
     "start_time": "2022-02-23T04:42:19.988733",
     "status": "completed"
    },
    "tags": []
   },
   "outputs": [
    {
     "data": {
      "text/plain": [
       "0.3901456190921188"
      ]
     },
     "execution_count": 22,
     "metadata": {},
     "output_type": "execute_result"
    }
   ],
   "source": [
    "# local score\n",
    "valid_unq = pd.merge(valid_unq, pred, on =\"customer_id\", how=\"left\")\n",
    "mapk(valid_unq[\"valid_true\"], valid_unq[\"prediction\"], k=12)"
   ]
  },
  {
   "cell_type": "code",
   "execution_count": null,
   "id": "a211d217",
   "metadata": {
    "papermill": {
     "duration": 0.03828,
     "end_time": "2022-02-23T04:42:20.237575",
     "exception": false,
     "start_time": "2022-02-23T04:42:20.199295",
     "status": "completed"
    },
    "tags": []
   },
   "outputs": [],
   "source": []
  }
 ],
 "metadata": {
  "kernelspec": {
   "display_name": "Python 3",
   "language": "python",
   "name": "python3"
  },
  "language_info": {
   "codemirror_mode": {
    "name": "ipython",
    "version": 3
   },
   "file_extension": ".py",
   "mimetype": "text/x-python",
   "name": "python",
   "nbconvert_exporter": "python",
   "pygments_lexer": "ipython3",
   "version": "3.7.12"
  },
  "papermill": {
   "default_parameters": {},
   "duration": 2627.827627,
   "end_time": "2022-02-23T04:42:21.296727",
   "environment_variables": {},
   "exception": null,
   "input_path": "__notebook__.ipynb",
   "output_path": "__notebook__.ipynb",
   "parameters": {},
   "start_time": "2022-02-23T03:58:33.469100",
   "version": "2.3.3"
  }
 },
 "nbformat": 4,
 "nbformat_minor": 5
}
