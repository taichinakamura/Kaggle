{
 "cells": [
  {
   "cell_type": "markdown",
   "id": "e9bd0328",
   "metadata": {
    "_cell_guid": "b1076dfc-b9ad-4769-8c92-a6c4dae69d19",
    "_uuid": "8f2839f25d086af736a60e9eeb907d3b93b6e0e5",
    "execution": {
     "iopub.execute_input": "2022-02-19T01:06:26.341225Z",
     "iopub.status.busy": "2022-02-19T01:06:26.340823Z",
     "iopub.status.idle": "2022-02-19T01:06:26.495875Z",
     "shell.execute_reply": "2022-02-19T01:06:26.494768Z",
     "shell.execute_reply.started": "2022-02-19T01:06:26.341124Z"
    },
    "papermill": {
     "duration": 0.028859,
     "end_time": "2022-02-24T08:29:18.437026",
     "exception": false,
     "start_time": "2022-02-24T08:29:18.408167",
     "status": "completed"
    },
    "tags": []
   },
   "source": [
    "- modify map calculation\n",
    "- change data period\n",
    "- delete unnecessary data"
   ]
  },
  {
   "cell_type": "markdown",
   "id": "75d36a15",
   "metadata": {
    "papermill": {
     "duration": 0.026504,
     "end_time": "2022-02-24T08:29:18.490976",
     "exception": false,
     "start_time": "2022-02-24T08:29:18.464472",
     "status": "completed"
    },
    "tags": []
   },
   "source": [
    "# recsys2021 best paper\n",
    "- paper: https://dl.acm.org/doi/pdf/10.1145/3460231.3474273\n",
    "- code: https://github.com/hasteck/Higher_Recsys_2021/blob/main/Higher_RecSys_2021.ipynb"
   ]
  },
  {
   "cell_type": "code",
   "execution_count": 1,
   "id": "3d39b385",
   "metadata": {
    "execution": {
     "iopub.execute_input": "2022-02-24T08:29:18.553388Z",
     "iopub.status.busy": "2022-02-24T08:29:18.551576Z",
     "iopub.status.idle": "2022-02-24T08:29:18.740011Z",
     "shell.execute_reply": "2022-02-24T08:29:18.740853Z",
     "shell.execute_reply.started": "2022-02-24T07:28:59.846924Z"
    },
    "papermill": {
     "duration": 0.223552,
     "end_time": "2022-02-24T08:29:18.741317",
     "exception": false,
     "start_time": "2022-02-24T08:29:18.517765",
     "status": "completed"
    },
    "tags": []
   },
   "outputs": [],
   "source": [
    "import os\n",
    "from tqdm import tqdm\n",
    "import numpy as np # linear algebra\n",
    "import pandas as pd # data processing, CSV file I/O (e.g. pd.read_csv)\n",
    "from scipy import sparse, linalg\n",
    "from copy import deepcopy"
   ]
  },
  {
   "cell_type": "code",
   "execution_count": 2,
   "id": "cce5260b",
   "metadata": {
    "execution": {
     "iopub.execute_input": "2022-02-24T08:29:18.823815Z",
     "iopub.status.busy": "2022-02-24T08:29:18.823174Z",
     "iopub.status.idle": "2022-02-24T08:30:36.937898Z",
     "shell.execute_reply": "2022-02-24T08:30:36.938384Z",
     "shell.execute_reply.started": "2022-02-24T07:28:59.855992Z"
    },
    "papermill": {
     "duration": 78.148516,
     "end_time": "2022-02-24T08:30:36.938574",
     "exception": false,
     "start_time": "2022-02-24T08:29:18.790058",
     "status": "completed"
    },
    "tags": []
   },
   "outputs": [],
   "source": [
    "DATA_DIR = \"/kaggle/input/h-and-m-personalized-fashion-recommendations/\"\n",
    "df = pd.read_csv(DATA_DIR + \"transactions_train.csv\")\n",
    "#article_df = pd.read_csv(DATA_DIR + \"articles.csv\")\n",
    "#customer_df = pd.read_csv(DATA_DIR + \"customers.csv\")\n",
    "sub_df = pd.read_csv(DATA_DIR + \"sample_submission.csv\")"
   ]
  },
  {
   "cell_type": "code",
   "execution_count": 3,
   "id": "ef715d05",
   "metadata": {
    "execution": {
     "iopub.execute_input": "2022-02-24T08:30:37.005641Z",
     "iopub.status.busy": "2022-02-24T08:30:37.004111Z",
     "iopub.status.idle": "2022-02-24T08:30:37.006406Z",
     "shell.execute_reply": "2022-02-24T08:30:37.006885Z",
     "shell.execute_reply.started": "2022-02-24T07:29:41.707303Z"
    },
    "papermill": {
     "duration": 0.040447,
     "end_time": "2022-02-24T08:30:37.007051",
     "exception": false,
     "start_time": "2022-02-24T08:30:36.966604",
     "status": "completed"
    },
    "tags": []
   },
   "outputs": [],
   "source": [
    "# https://www.kaggle.com/c/h-and-m-personalized-fashion-recommendations/discussion/306007\n",
    "# https://github.com/benhamner/Metrics/blob/master/Python/ml_metrics/average_precision.py\n",
    "\n",
    "def apk(actual, predicted, k=12):\n",
    "    \"\"\"\n",
    "    Computes the average precision at k.\n",
    "    This function computes the average prescision at k between two lists of\n",
    "    items.\n",
    "    Parameters\n",
    "    ----------\n",
    "    actual : list\n",
    "             A list of elements that are to be predicted (order doesn't matter)\n",
    "    predicted : list\n",
    "                A list of predicted elements (order does matter)\n",
    "    k : int, optional\n",
    "        The maximum number of predicted elements\n",
    "    Returns\n",
    "    -------\n",
    "    score : double\n",
    "            The average precision at k over the input lists\n",
    "    \"\"\"\n",
    "    if len(predicted)>k:\n",
    "        predicted = predicted[:k]\n",
    "        \n",
    "    score = 0.0\n",
    "    num_hits = 0.0\n",
    "\n",
    "    for i,p in enumerate(predicted):\n",
    "        if p in actual and p not in predicted[:i]:\n",
    "            num_hits += 1.0\n",
    "            score += num_hits / (i+1.0)\n",
    "\n",
    "    if not actual:\n",
    "        return 0.0\n",
    "\n",
    "    return score / min(len(actual), k)\n",
    "\n",
    "def mapk(actual, predicted, k=12):\n",
    "    \"\"\"\n",
    "    Computes the mean average precision at k.\n",
    "    This function computes the mean average prescision at k between two lists\n",
    "    of lists of items.\n",
    "    Parameters\n",
    "    ----------\n",
    "    actual : list\n",
    "             A list of lists of elements that are to be predicted \n",
    "             (order doesn't matter in the lists)\n",
    "    predicted : list\n",
    "                A list of lists of predicted elements\n",
    "                (order matters in the lists)\n",
    "    k : int, optional\n",
    "        The maximum number of predicted elements\n",
    "    Returns\n",
    "    -------\n",
    "    score : double\n",
    "            The mean average precision at k over the input lists\n",
    "    \"\"\"\n",
    "    return np.mean([apk(a,p,k) for a,p in zip(actual, predicted)])"
   ]
  },
  {
   "cell_type": "markdown",
   "id": "e32b8b8e",
   "metadata": {
    "papermill": {
     "duration": 0.026661,
     "end_time": "2022-02-24T08:30:37.060703",
     "exception": false,
     "start_time": "2022-02-24T08:30:37.034042",
     "status": "completed"
    },
    "tags": []
   },
   "source": [
    "## prepare data"
   ]
  },
  {
   "cell_type": "code",
   "execution_count": 4,
   "id": "0bb6e320",
   "metadata": {
    "execution": {
     "iopub.execute_input": "2022-02-24T08:30:37.124180Z",
     "iopub.status.busy": "2022-02-24T08:30:37.123505Z",
     "iopub.status.idle": "2022-02-24T08:30:43.822924Z",
     "shell.execute_reply": "2022-02-24T08:30:43.823464Z",
     "shell.execute_reply.started": "2022-02-24T07:29:41.717964Z"
    },
    "papermill": {
     "duration": 6.735779,
     "end_time": "2022-02-24T08:30:43.823624",
     "exception": false,
     "start_time": "2022-02-24T08:30:37.087845",
     "status": "completed"
    },
    "tags": []
   },
   "outputs": [
    {
     "name": "stdout",
     "output_type": "stream",
     "text": [
      "(266364, 3) (96485, 3)\n"
     ]
    }
   ],
   "source": [
    "#start_date = '2020-09-01'\n",
    "#val_start_date = '2020-09-16' #9/16\n",
    "\n",
    "start_date = '2020-09-15'\n",
    "val_start_date = '2020-09-20' #9/16\n",
    "\n",
    "df = df[[\"t_dat\", \"customer_id\", \"article_id\"]]\n",
    "# sample check for small memoery usage\n",
    "df = df.query(f\"t_dat >= '{start_date}'\").reset_index(drop=True)\n",
    "\n",
    "valid_data = df.query(f\"t_dat >= '{val_start_date}'\").reset_index(drop=True)\n",
    "valid_unq = valid_data.groupby('customer_id')['article_id'].apply(list).reset_index()\n",
    "valid_unq['valid_true'] = valid_unq['article_id'].map(lambda x: '0'+' 0'.join(str(x)[1:-1].split(', ')))\n",
    "valid_unq.drop(\"article_id\", axis=1, inplace=True)\n",
    "\n",
    "print(df.shape, valid_data.shape)"
   ]
  },
  {
   "cell_type": "code",
   "execution_count": 5,
   "id": "1c575fc5",
   "metadata": {
    "execution": {
     "iopub.execute_input": "2022-02-24T08:30:43.891825Z",
     "iopub.status.busy": "2022-02-24T08:30:43.890499Z",
     "iopub.status.idle": "2022-02-24T08:30:44.141700Z",
     "shell.execute_reply": "2022-02-24T08:30:44.142205Z",
     "shell.execute_reply.started": "2022-02-24T07:29:48.758966Z"
    },
    "papermill": {
     "duration": 0.289047,
     "end_time": "2022-02-24T08:30:44.142395",
     "exception": false,
     "start_time": "2022-02-24T08:30:43.853348",
     "status": "completed"
    },
    "tags": []
   },
   "outputs": [],
   "source": [
    "def get_count(tp, id):\n",
    "    playcount_groupbyid = tp[[id]].groupby(id, as_index=False)\n",
    "    count = playcount_groupbyid.size()\n",
    "    return count\n",
    "\n",
    "def filter_triplets(df, min_uc=5, min_sc=0):\n",
    "    tp = df.copy()\n",
    "    # Only keep the triplets for items which were clicked on by at least min_sc users. \n",
    "    if min_sc > 0:\n",
    "        itemcount = get_count(tp, 'article_id')\n",
    "        tp = tp[tp['article_id'].isin(itemcount[itemcount[\"size\"] >= min_sc][\"article_id\"])]\n",
    "    \n",
    "    # Only keep the triplets for users who clicked on at least min_uc items\n",
    "    # After doing this, some of the items will have less than min_uc users, but should only be a small proportion\n",
    "    if min_uc > 0:\n",
    "        usercount = get_count(tp, 'customer_id')\n",
    "        tp = tp[tp['customer_id'].isin(usercount[usercount[\"size\"] >= min_uc][\"customer_id\"])]\n",
    "    \n",
    "    # Update both usercount and itemcount after filtering\n",
    "    #usercount, itemcount = get_count(tp, 'customer_id'), get_count(tp, 'article_id') \n",
    "    return tp \n",
    "\n",
    "raw_data = filter_triplets(df)\n",
    "train_data = raw_data.query(f\"t_dat < '{val_start_date}'\").reset_index(drop=True)"
   ]
  },
  {
   "cell_type": "code",
   "execution_count": 6,
   "id": "9536f321",
   "metadata": {
    "execution": {
     "iopub.execute_input": "2022-02-24T08:30:44.202814Z",
     "iopub.status.busy": "2022-02-24T08:30:44.201859Z",
     "iopub.status.idle": "2022-02-24T08:30:44.294494Z",
     "shell.execute_reply": "2022-02-24T08:30:44.293951Z",
     "shell.execute_reply.started": "2022-02-24T07:29:49.040884Z"
    },
    "papermill": {
     "duration": 0.124365,
     "end_time": "2022-02-24T08:30:44.294654",
     "exception": false,
     "start_time": "2022-02-24T08:30:44.170289",
     "status": "completed"
    },
    "tags": []
   },
   "outputs": [],
   "source": [
    "unique_uid = df[\"customer_id\"].unique()\n",
    "\n",
    "unique_sid = df['article_id'].unique()\n",
    "show2id = dict((sid, i) for (i, sid) in enumerate(unique_sid))\n",
    "profile2id = dict((pid, i) for (i, pid) in enumerate(unique_uid))\n",
    "\n",
    "n_users = max(list(profile2id.values())) + 1\n",
    "n_items = max(list(show2id.values())) + 1\n",
    "\n",
    "del df, raw_data, unique_uid, unique_sid"
   ]
  },
  {
   "cell_type": "code",
   "execution_count": 7,
   "id": "003264f4",
   "metadata": {
    "execution": {
     "iopub.execute_input": "2022-02-24T08:30:44.357502Z",
     "iopub.status.busy": "2022-02-24T08:30:44.356712Z",
     "iopub.status.idle": "2022-02-24T08:30:44.359282Z",
     "shell.execute_reply": "2022-02-24T08:30:44.358772Z",
     "shell.execute_reply.started": "2022-02-24T07:29:49.138911Z"
    },
    "papermill": {
     "duration": 0.037072,
     "end_time": "2022-02-24T08:30:44.359423",
     "exception": false,
     "start_time": "2022-02-24T08:30:44.322351",
     "status": "completed"
    },
    "tags": []
   },
   "outputs": [],
   "source": [
    "def numerize(tp):\n",
    "    uid = map(lambda x: profile2id[x], tp['customer_id'])\n",
    "    sid = map(lambda x: show2id[x], tp['article_id'])\n",
    "    out = pd.DataFrame(data={'uid': list(uid), 'sid': list(sid)}, columns=['uid', 'sid'])\n",
    "    return out.sort_values(\"uid\").reset_index(drop=True)"
   ]
  },
  {
   "cell_type": "code",
   "execution_count": 8,
   "id": "2746701f",
   "metadata": {
    "execution": {
     "iopub.execute_input": "2022-02-24T08:30:44.418593Z",
     "iopub.status.busy": "2022-02-24T08:30:44.417985Z",
     "iopub.status.idle": "2022-02-24T08:30:44.768197Z",
     "shell.execute_reply": "2022-02-24T08:30:44.768951Z",
     "shell.execute_reply.started": "2022-02-24T07:29:49.147055Z"
    },
    "papermill": {
     "duration": 0.382092,
     "end_time": "2022-02-24T08:30:44.769185",
     "exception": false,
     "start_time": "2022-02-24T08:30:44.387093",
     "status": "completed"
    },
    "tags": []
   },
   "outputs": [
    {
     "name": "stdout",
     "output_type": "stream",
     "text": [
      "(91998, 2) (96485, 2)\n"
     ]
    }
   ],
   "source": [
    "train_data = numerize(train_data)\n",
    "valid_data = numerize(valid_data)\n",
    "print(train_data.shape, valid_data.shape)"
   ]
  },
  {
   "cell_type": "markdown",
   "id": "f3d75284",
   "metadata": {
    "papermill": {
     "duration": 0.028818,
     "end_time": "2022-02-24T08:30:44.827317",
     "exception": false,
     "start_time": "2022-02-24T08:30:44.798499",
     "status": "completed"
    },
    "tags": []
   },
   "source": [
    "# training"
   ]
  },
  {
   "cell_type": "code",
   "execution_count": 9,
   "id": "4c4a4f59",
   "metadata": {
    "execution": {
     "iopub.execute_input": "2022-02-24T08:30:44.888970Z",
     "iopub.status.busy": "2022-02-24T08:30:44.888256Z",
     "iopub.status.idle": "2022-02-24T08:30:44.903892Z",
     "shell.execute_reply": "2022-02-24T08:30:44.904468Z",
     "shell.execute_reply.started": "2022-02-24T07:33:25.548163Z"
    },
    "papermill": {
     "duration": 0.049138,
     "end_time": "2022-02-24T08:30:44.904646",
     "exception": false,
     "start_time": "2022-02-24T08:30:44.855508",
     "status": "completed"
    },
    "tags": []
   },
   "outputs": [],
   "source": [
    "# function for training\n",
    "### functions to create the feature-pairs\n",
    "def create_list_feature_pairs(XtX, threshold):\n",
    "    AA= np.triu(np.abs(XtX))\n",
    "    AA[np.diag_indices(AA.shape[0])]=0.0\n",
    "    ii_pairs = np.where((AA>threshold)==True)\n",
    "    return ii_pairs\n",
    "\n",
    "def create_matrix_Z(ii_pairs, X):\n",
    "    MM = np.zeros( (len(ii_pairs[0]), X.shape[1]), dtype=np.float)\n",
    "    MM[np.arange(MM.shape[0]), ii_pairs[0]]=1.0\n",
    "    MM[np.arange(MM.shape[0]), ii_pairs[1]]=1.0\n",
    "    CCmask = 1.0-MM    # see Eq. 8 in the paper\n",
    "    MM=sparse.csc_matrix(MM.T)\n",
    "    Z=  X * MM\n",
    "    Z= (Z == 2.0)\n",
    "    Z=Z*1.0\n",
    "    return [Z, CCmask]\n",
    "\n",
    "### training-function of higher-order model\n",
    "def train_higher(XtX, XtXdiag,lambdaBB, ZtZ, ZtZdiag, lambdaCC, CCmask, ZtX, rho, epochs):\n",
    "    # precompute for BB\n",
    "    ii_diag=np.diag_indices(XtX.shape[0])\n",
    "    XtX[ii_diag] = XtXdiag+lambdaBB\n",
    "    PP=np.linalg.inv(XtX)\n",
    "    # precompute for CC\n",
    "    ii_diag_ZZ=np.diag_indices(ZtZ.shape[0])\n",
    "    ZtZ[ii_diag_ZZ] = ZtZdiag+lambdaCC+rho\n",
    "    #QQ=np.linalg.inv(ZtZ)\n",
    "    # initialize\n",
    "    CC = np.zeros((ZtZ.shape[0], XtX.shape[0]),dtype=np.float32)\n",
    "    DD = np.zeros((ZtZ.shape[0], XtX.shape[0]),dtype=np.float32)\n",
    "    UU = np.zeros((ZtZ.shape[0], XtX.shape[0]),dtype=np.float32) # is Gamma in paper\n",
    "    for iter in range(epochs):\n",
    "        print(\"epoch {}\".format(iter))\n",
    "        # learn BB\n",
    "        XtX[ii_diag] = XtXdiag\n",
    "        BB= PP.dot(XtX-ZtX.T.dot(CC))\n",
    "        # BB = np.linalg.solve(XtX, XtX-ZtX.T.dot(CC))\n",
    "        gamma = np.diag(BB) / np.diag(PP)\n",
    "        BB-= PP * gamma\n",
    "        # learn CC\n",
    "        #CC = QQ.dot(ZtX-ZtX.dot(BB) +rho *(DD-UU))\n",
    "        CC = np.linalg.solve(ZtZ, ZtX-ZtX.dot(BB) + rho * (DD-UU))\n",
    "        # learn DD\n",
    "        DD =  CC  * CCmask \n",
    "        #DD= np.maximum(0.0, DD) # if you want to enforce non-negative parameters\n",
    "        # learn UU (is Gamma in paper)\n",
    "        UU+= CC-DD\n",
    "    return [BB,DD]\n",
    "\n",
    "#### data formation \n",
    "def format_data(tp):\n",
    "    rows, cols = tp['uid'], tp['sid']\n",
    "    data = sparse.csr_matrix((np.ones_like(rows),\n",
    "                             (rows, cols)), dtype='float32',\n",
    "                             shape=(n_users, n_items))\n",
    "    return data"
   ]
  },
  {
   "cell_type": "code",
   "execution_count": 10,
   "id": "7448427d",
   "metadata": {
    "execution": {
     "iopub.execute_input": "2022-02-24T08:30:44.965119Z",
     "iopub.status.busy": "2022-02-24T08:30:44.964485Z",
     "iopub.status.idle": "2022-02-24T08:30:44.967788Z",
     "shell.execute_reply": "2022-02-24T08:30:44.968360Z",
     "shell.execute_reply.started": "2022-02-24T07:33:27.866581Z"
    },
    "papermill": {
     "duration": 0.035369,
     "end_time": "2022-02-24T08:30:44.968517",
     "exception": false,
     "start_time": "2022-02-24T08:30:44.933148",
     "status": "completed"
    },
    "tags": []
   },
   "outputs": [],
   "source": [
    "### choose the training-hyperparameters\n",
    "epochs = 10\n",
    "threshold, lambdaBB, lambdaCC, rho = 100, 500, 5000, 100000"
   ]
  },
  {
   "cell_type": "code",
   "execution_count": 11,
   "id": "c42ee21f",
   "metadata": {
    "execution": {
     "iopub.execute_input": "2022-02-24T08:30:45.028529Z",
     "iopub.status.busy": "2022-02-24T08:30:45.027920Z",
     "iopub.status.idle": "2022-02-24T08:30:46.389262Z",
     "shell.execute_reply": "2022-02-24T08:30:46.388510Z",
     "shell.execute_reply.started": "2022-02-24T07:33:28.036936Z"
    },
    "papermill": {
     "duration": 1.391974,
     "end_time": "2022-02-24T08:30:46.389403",
     "exception": false,
     "start_time": "2022-02-24T08:30:44.997429",
     "status": "completed"
    },
    "tags": []
   },
   "outputs": [],
   "source": [
    "X = format_data(train_data)\n",
    "del train_data\n",
    "\n",
    "XtX=np.array((X.transpose() * X).todense()) \n",
    "XtXdiag=deepcopy(np.diag(XtX))"
   ]
  },
  {
   "cell_type": "code",
   "execution_count": 12,
   "id": "b87f96af",
   "metadata": {
    "execution": {
     "iopub.execute_input": "2022-02-24T08:30:46.449047Z",
     "iopub.status.busy": "2022-02-24T08:30:46.448466Z",
     "iopub.status.idle": "2022-02-24T08:30:50.071653Z",
     "shell.execute_reply": "2022-02-24T08:30:50.072155Z",
     "shell.execute_reply.started": "2022-02-24T07:29:50.897771Z"
    },
    "papermill": {
     "duration": 3.654718,
     "end_time": "2022-02-24T08:30:50.072323",
     "exception": false,
     "start_time": "2022-02-24T08:30:46.417605",
     "status": "completed"
    },
    "tags": []
   },
   "outputs": [
    {
     "name": "stdout",
     "output_type": "stream",
     "text": [
      "number of feature-pairs: 4\n"
     ]
    },
    {
     "name": "stderr",
     "output_type": "stream",
     "text": [
      "/opt/conda/lib/python3.7/site-packages/ipykernel_launcher.py:10: DeprecationWarning: `np.float` is a deprecated alias for the builtin `float`. To silence this warning, use `float` by itself. Doing this will not modify any behavior and is safe. If you specifically wanted the numpy scalar type, use `np.float64` here.\n",
      "Deprecated in NumPy 1.20; for more details and guidance: https://numpy.org/devdocs/release/1.20.0-notes.html#deprecations\n",
      "  # Remove the CWD from sys.path while we load stuff.\n"
     ]
    }
   ],
   "source": [
    "### create the list of feature-pairs and the higher-order matrix Z\n",
    "XtX[np.diag_indices(XtX.shape[0])]=XtXdiag #if code is re-run, ensure that the diagonal is correct\n",
    "ii_feature_pairs = create_list_feature_pairs(XtX, threshold)\n",
    "print(\"number of feature-pairs: {}\".format(len(ii_feature_pairs[0])))\n",
    "Z, CCmask = create_matrix_Z(ii_feature_pairs, X)"
   ]
  },
  {
   "cell_type": "code",
   "execution_count": 13,
   "id": "32eb024a",
   "metadata": {
    "execution": {
     "iopub.execute_input": "2022-02-24T08:30:50.134489Z",
     "iopub.status.busy": "2022-02-24T08:30:50.133526Z",
     "iopub.status.idle": "2022-02-24T08:30:50.141670Z",
     "shell.execute_reply": "2022-02-24T08:30:50.142144Z",
     "shell.execute_reply.started": "2022-02-24T07:29:54.483985Z"
    },
    "papermill": {
     "duration": 0.040611,
     "end_time": "2022-02-24T08:30:50.142316",
     "exception": false,
     "start_time": "2022-02-24T08:30:50.101705",
     "status": "completed"
    },
    "tags": []
   },
   "outputs": [],
   "source": [
    "### create the higher-order matrices\n",
    "ZtZ=np.array((Z.transpose() * Z).todense()) \n",
    "ZtX=np.array((Z.transpose() * X).todense()) \n",
    "ZtZdiag=deepcopy(np.diag(ZtZ))\n",
    "del X, Z"
   ]
  },
  {
   "cell_type": "code",
   "execution_count": 14,
   "id": "d07fe5bd",
   "metadata": {
    "execution": {
     "iopub.execute_input": "2022-02-24T08:30:50.204412Z",
     "iopub.status.busy": "2022-02-24T08:30:50.203460Z",
     "iopub.status.idle": "2022-02-24T09:08:13.706485Z",
     "shell.execute_reply": "2022-02-24T09:08:13.707435Z",
     "shell.execute_reply.started": "2022-02-24T07:33:39.366825Z"
    },
    "papermill": {
     "duration": 2243.536496,
     "end_time": "2022-02-24T09:08:13.707761",
     "exception": false,
     "start_time": "2022-02-24T08:30:50.171265",
     "status": "completed"
    },
    "tags": []
   },
   "outputs": [
    {
     "name": "stdout",
     "output_type": "stream",
     "text": [
      "epoch 0\n",
      "epoch 1\n",
      "epoch 2\n",
      "epoch 3\n",
      "epoch 4\n",
      "epoch 5\n",
      "epoch 6\n",
      "epoch 7\n",
      "epoch 8\n",
      "epoch 9\n"
     ]
    }
   ],
   "source": [
    "### iterative training, and evaluation every 10 epochs \n",
    "BB, CC = train_higher(XtX, XtXdiag, lambdaBB, ZtZ, ZtZdiag, lambdaCC, CCmask, ZtX, rho, epochs)"
   ]
  },
  {
   "cell_type": "code",
   "execution_count": 15,
   "id": "42c1aa60",
   "metadata": {
    "execution": {
     "iopub.execute_input": "2022-02-24T09:08:13.827025Z",
     "iopub.status.busy": "2022-02-24T09:08:13.826358Z",
     "iopub.status.idle": "2022-02-24T09:08:13.828542Z",
     "shell.execute_reply": "2022-02-24T09:08:13.829050Z",
     "shell.execute_reply.started": "2022-02-24T08:11:34.379826Z"
    },
    "papermill": {
     "duration": 0.060923,
     "end_time": "2022-02-24T09:08:13.829212",
     "exception": false,
     "start_time": "2022-02-24T09:08:13.768289",
     "status": "completed"
    },
    "tags": []
   },
   "outputs": [],
   "source": [
    "del ZtZ, ZtX, ZtZdiag"
   ]
  },
  {
   "cell_type": "code",
   "execution_count": 16,
   "id": "4211aa56",
   "metadata": {
    "execution": {
     "iopub.execute_input": "2022-02-24T09:08:13.905865Z",
     "iopub.status.busy": "2022-02-24T09:08:13.899777Z",
     "iopub.status.idle": "2022-02-24T09:08:13.910462Z",
     "shell.execute_reply": "2022-02-24T09:08:13.909861Z",
     "shell.execute_reply.started": "2022-02-24T08:11:34.400038Z"
    },
    "papermill": {
     "duration": 0.047115,
     "end_time": "2022-02-24T09:08:13.910617",
     "exception": false,
     "start_time": "2022-02-24T09:08:13.863502",
     "status": "completed"
    },
    "tags": []
   },
   "outputs": [],
   "source": [
    "### evaluation-function of higher-order model\n",
    "def pred_func(BB,CC,test_data_tr, Z_test_data_tr, N_test, idxlist, batch_size_test=5000):\n",
    "    print(\"Evaluating ...\")\n",
    "    #evaluate in batches\n",
    "    for bnum, st_idx in tqdm(enumerate(range(0, N_test, batch_size_test))):\n",
    "        end_idx = min(st_idx + batch_size_test, N_test)\n",
    "        Xtest = test_data_tr[idxlist[st_idx:end_idx]]\n",
    "        Ztest = Z_test_data_tr[idxlist[st_idx:end_idx]]\n",
    "        if sparse.isspmatrix(Xtest):\n",
    "            Xtest = Xtest.toarray()\n",
    "            Ztest = Ztest.toarray()\n",
    "        Xtest = Xtest.astype('float32')\n",
    "        Ztest = Ztest.astype('float32')\n",
    "        pred_val = (Xtest).dot(BB) + Ztest.dot(CC)\n",
    "        #pred_val[Xtest.nonzero()] = -np.inf # exclude examples from training and validation (if any)\n",
    "        pred_val = np.argpartition(pred_val, -12)[:,-12:]\n",
    "        if bnum == 0:\n",
    "            ans = pred_val\n",
    "        else:\n",
    "            ans = np.concatenate((ans,pred_val), axis=0)\n",
    "    return ans"
   ]
  },
  {
   "cell_type": "code",
   "execution_count": 17,
   "id": "62574e49",
   "metadata": {
    "execution": {
     "iopub.execute_input": "2022-02-24T09:08:13.980835Z",
     "iopub.status.busy": "2022-02-24T09:08:13.980207Z",
     "iopub.status.idle": "2022-02-24T09:08:13.995609Z",
     "shell.execute_reply": "2022-02-24T09:08:13.994970Z",
     "shell.execute_reply.started": "2022-02-24T08:11:34.428891Z"
    },
    "papermill": {
     "duration": 0.051909,
     "end_time": "2022-02-24T09:08:13.995753",
     "exception": false,
     "start_time": "2022-02-24T09:08:13.943844",
     "status": "completed"
    },
    "tags": []
   },
   "outputs": [
    {
     "name": "stderr",
     "output_type": "stream",
     "text": [
      "/opt/conda/lib/python3.7/site-packages/ipykernel_launcher.py:10: DeprecationWarning: `np.float` is a deprecated alias for the builtin `float`. To silence this warning, use `float` by itself. Doing this will not modify any behavior and is safe. If you specifically wanted the numpy scalar type, use `np.float64` here.\n",
      "Deprecated in NumPy 1.20; for more details and guidance: https://numpy.org/devdocs/release/1.20.0-notes.html#deprecations\n",
      "  # Remove the CWD from sys.path while we load stuff.\n"
     ]
    }
   ],
   "source": [
    "X_valid = format_data(valid_data)\n",
    "Z_val_data , _ = create_matrix_Z(ii_feature_pairs, X_valid)\n",
    "N_valid = X_valid.shape[0]\n",
    "idxlist = range(N_valid)"
   ]
  },
  {
   "cell_type": "markdown",
   "id": "525493aa",
   "metadata": {
    "papermill": {
     "duration": 0.03325,
     "end_time": "2022-02-24T09:08:14.062897",
     "exception": false,
     "start_time": "2022-02-24T09:08:14.029647",
     "status": "completed"
    },
    "tags": []
   },
   "source": [
    "# prediction"
   ]
  },
  {
   "cell_type": "code",
   "execution_count": 18,
   "id": "01dbbdb0",
   "metadata": {
    "execution": {
     "iopub.execute_input": "2022-02-24T09:08:14.139063Z",
     "iopub.status.busy": "2022-02-24T09:08:14.133160Z",
     "iopub.status.idle": "2022-02-24T09:08:14.171252Z",
     "shell.execute_reply": "2022-02-24T09:08:14.170670Z",
     "shell.execute_reply.started": "2022-02-24T08:11:34.458234Z"
    },
    "papermill": {
     "duration": 0.074698,
     "end_time": "2022-02-24T09:08:14.171405",
     "exception": false,
     "start_time": "2022-02-24T09:08:14.096707",
     "status": "completed"
    },
    "tags": []
   },
   "outputs": [],
   "source": [
    "id2show = dict((v,\"0\"+str(k)) for k,v in show2id.items())\n",
    "id2profile = dict((v,k) for k,v in profile2id.items())\n",
    "\n",
    "sample_value = sub_df[\"prediction\"][0]"
   ]
  },
  {
   "cell_type": "code",
   "execution_count": 19,
   "id": "0da4e6a2",
   "metadata": {
    "execution": {
     "iopub.execute_input": "2022-02-24T09:08:14.243988Z",
     "iopub.status.busy": "2022-02-24T09:08:14.243341Z",
     "iopub.status.idle": "2022-02-24T09:21:39.978075Z",
     "shell.execute_reply": "2022-02-24T09:21:39.979037Z",
     "shell.execute_reply.started": "2022-02-24T08:11:34.518441Z"
    },
    "papermill": {
     "duration": 805.773678,
     "end_time": "2022-02-24T09:21:39.979354",
     "exception": false,
     "start_time": "2022-02-24T09:08:14.205676",
     "status": "completed"
    },
    "tags": []
   },
   "outputs": [
    {
     "name": "stdout",
     "output_type": "stream",
     "text": [
      "Evaluating ...\n"
     ]
    },
    {
     "name": "stderr",
     "output_type": "stream",
     "text": [
      "16it [13:25, 50.36s/it]\n"
     ]
    }
   ],
   "source": [
    "pred = pred_func(BB,CC, X_valid, Z_val_data, N_valid, idxlist)"
   ]
  },
  {
   "cell_type": "code",
   "execution_count": 20,
   "id": "4ac51470",
   "metadata": {
    "execution": {
     "iopub.execute_input": "2022-02-24T09:21:40.068549Z",
     "iopub.status.busy": "2022-02-24T09:21:40.067571Z",
     "iopub.status.idle": "2022-02-24T09:21:40.486063Z",
     "shell.execute_reply": "2022-02-24T09:21:40.485423Z",
     "shell.execute_reply.started": "2022-02-24T08:25:48.649995Z"
    },
    "papermill": {
     "duration": 0.465184,
     "end_time": "2022-02-24T09:21:40.486201",
     "exception": false,
     "start_time": "2022-02-24T09:21:40.021017",
     "status": "completed"
    },
    "tags": []
   },
   "outputs": [],
   "source": [
    "# https://stackoverflow.com/questions/16992713/translate-every-element-in-numpy-array-according-to-key\n",
    "# indexから商品idに変換\n",
    "pred = np.vectorize(id2show.get)(pred)\n",
    "pred = pd.DataFrame(pred)"
   ]
  },
  {
   "cell_type": "code",
   "execution_count": 21,
   "id": "280174f9",
   "metadata": {
    "execution": {
     "iopub.execute_input": "2022-02-24T09:21:40.576804Z",
     "iopub.status.busy": "2022-02-24T09:21:40.575679Z",
     "iopub.status.idle": "2022-02-24T09:21:42.374952Z",
     "shell.execute_reply": "2022-02-24T09:21:42.374204Z",
     "shell.execute_reply.started": "2022-02-24T08:25:49.200129Z"
    },
    "papermill": {
     "duration": 1.849247,
     "end_time": "2022-02-24T09:21:42.375099",
     "exception": false,
     "start_time": "2022-02-24T09:21:40.525852",
     "status": "completed"
    },
    "tags": []
   },
   "outputs": [],
   "source": [
    "cols = pred.columns\n",
    "pred['prediction'] = pred[cols].apply(lambda row: ' '.join(row.values.astype(str)), axis=1)\n",
    "pred = pred.drop(cols, axis=1).reset_index(drop=False)\n",
    "pred.columns = [\"customer_id\", \"prediction\"]\n",
    "pred[\"customer_id\"] = pred[\"customer_id\"].map(id2profile)"
   ]
  },
  {
   "cell_type": "code",
   "execution_count": 22,
   "id": "154400a8",
   "metadata": {
    "execution": {
     "iopub.execute_input": "2022-02-24T09:21:42.458991Z",
     "iopub.status.busy": "2022-02-24T09:21:42.458321Z",
     "iopub.status.idle": "2022-02-24T09:21:56.307940Z",
     "shell.execute_reply": "2022-02-24T09:21:56.307331Z",
     "shell.execute_reply.started": "2022-02-24T08:25:51.158981Z"
    },
    "papermill": {
     "duration": 13.892358,
     "end_time": "2022-02-24T09:21:56.308091",
     "exception": false,
     "start_time": "2022-02-24T09:21:42.415733",
     "status": "completed"
    },
    "tags": []
   },
   "outputs": [],
   "source": [
    "sub_df = pd.merge(sub_df[\"customer_id\"], pred, on = \"customer_id\", how=\"left\")\n",
    "sub_df[\"prediction\"].fillna(sample_value, inplace=True)\n",
    "sub_df.to_csv(\"submission.csv\", index=False)"
   ]
  },
  {
   "cell_type": "code",
   "execution_count": 23,
   "id": "1a7b0164",
   "metadata": {
    "execution": {
     "iopub.execute_input": "2022-02-24T09:21:56.392696Z",
     "iopub.status.busy": "2022-02-24T09:21:56.391726Z",
     "iopub.status.idle": "2022-02-24T09:21:56.615354Z",
     "shell.execute_reply": "2022-02-24T09:21:56.615824Z",
     "shell.execute_reply.started": "2022-02-24T08:26:06.141845Z"
    },
    "papermill": {
     "duration": 0.267054,
     "end_time": "2022-02-24T09:21:56.616011",
     "exception": false,
     "start_time": "2022-02-24T09:21:56.348957",
     "status": "completed"
    },
    "tags": []
   },
   "outputs": [
    {
     "data": {
      "text/plain": [
       "0.019005011457073777"
      ]
     },
     "execution_count": 23,
     "metadata": {},
     "output_type": "execute_result"
    }
   ],
   "source": [
    "# local score\n",
    "valid_unq = pd.merge(valid_unq, pred, on =\"customer_id\", how=\"left\")\n",
    "mapk(valid_unq['valid_true'].map(lambda x: x.split()), valid_unq['prediction'].map(lambda x: x.split()), k=12)"
   ]
  },
  {
   "cell_type": "code",
   "execution_count": null,
   "id": "00f39a04",
   "metadata": {
    "papermill": {
     "duration": 0.040067,
     "end_time": "2022-02-24T09:21:56.696368",
     "exception": false,
     "start_time": "2022-02-24T09:21:56.656301",
     "status": "completed"
    },
    "tags": []
   },
   "outputs": [],
   "source": []
  }
 ],
 "metadata": {
  "kernelspec": {
   "display_name": "Python 3",
   "language": "python",
   "name": "python3"
  },
  "language_info": {
   "codemirror_mode": {
    "name": "ipython",
    "version": 3
   },
   "file_extension": ".py",
   "mimetype": "text/x-python",
   "name": "python",
   "nbconvert_exporter": "python",
   "pygments_lexer": "ipython3",
   "version": "3.7.12"
  },
  "papermill": {
   "default_parameters": {},
   "duration": 3168.392337,
   "end_time": "2022-02-24T09:21:57.653977",
   "environment_variables": {},
   "exception": null,
   "input_path": "__notebook__.ipynb",
   "output_path": "__notebook__.ipynb",
   "parameters": {},
   "start_time": "2022-02-24T08:29:09.261640",
   "version": "2.3.3"
  }
 },
 "nbformat": 4,
 "nbformat_minor": 5
}
