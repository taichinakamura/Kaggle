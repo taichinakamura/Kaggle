{
 "cells": [
  {
   "cell_type": "markdown",
   "id": "7a4cdf1e",
   "metadata": {
    "_cell_guid": "b1076dfc-b9ad-4769-8c92-a6c4dae69d19",
    "_uuid": "8f2839f25d086af736a60e9eeb907d3b93b6e0e5",
    "execution": {
     "iopub.execute_input": "2022-02-19T01:06:26.341225Z",
     "iopub.status.busy": "2022-02-19T01:06:26.340823Z",
     "iopub.status.idle": "2022-02-19T01:06:26.495875Z",
     "shell.execute_reply": "2022-02-19T01:06:26.494768Z",
     "shell.execute_reply.started": "2022-02-19T01:06:26.341124Z"
    },
    "papermill": {
     "duration": 0.034082,
     "end_time": "2022-02-25T13:41:27.184448",
     "exception": false,
     "start_time": "2022-02-25T13:41:27.150366",
     "status": "completed"
    },
    "tags": []
   },
   "source": [
    "- to check convergence of BB and CC"
   ]
  },
  {
   "cell_type": "markdown",
   "id": "26b90eb8",
   "metadata": {
    "papermill": {
     "duration": 0.028096,
     "end_time": "2022-02-25T13:41:27.241541",
     "exception": false,
     "start_time": "2022-02-25T13:41:27.213445",
     "status": "completed"
    },
    "tags": []
   },
   "source": [
    "# recsys2021 best paper\n",
    "- paper: https://dl.acm.org/doi/pdf/10.1145/3460231.3474273\n",
    "- code: https://github.com/hasteck/Higher_Recsys_2021/blob/main/Higher_RecSys_2021.ipynb"
   ]
  },
  {
   "cell_type": "code",
   "execution_count": 1,
   "id": "6c1601ff",
   "metadata": {
    "execution": {
     "iopub.execute_input": "2022-02-25T13:41:27.310740Z",
     "iopub.status.busy": "2022-02-25T13:41:27.309845Z",
     "iopub.status.idle": "2022-02-25T13:41:28.211447Z",
     "shell.execute_reply": "2022-02-25T13:41:28.212398Z",
     "shell.execute_reply.started": "2022-02-25T11:06:55.796859Z"
    },
    "papermill": {
     "duration": 0.942816,
     "end_time": "2022-02-25T13:41:28.213034",
     "exception": false,
     "start_time": "2022-02-25T13:41:27.270218",
     "status": "completed"
    },
    "tags": []
   },
   "outputs": [],
   "source": [
    "import os\n",
    "import numpy as np \n",
    "import pandas as pd \n",
    "from tqdm import tqdm\n",
    "from numba import jit\n",
    "from copy import deepcopy\n",
    "from scipy import sparse, linalg\n",
    "\n",
    "import warnings\n",
    "warnings.filterwarnings('ignore')"
   ]
  },
  {
   "cell_type": "code",
   "execution_count": 2,
   "id": "47c66aab",
   "metadata": {
    "execution": {
     "iopub.execute_input": "2022-02-25T13:41:28.294167Z",
     "iopub.status.busy": "2022-02-25T13:41:28.293337Z",
     "iopub.status.idle": "2022-02-25T13:42:43.715400Z",
     "shell.execute_reply": "2022-02-25T13:42:43.714733Z",
     "shell.execute_reply.started": "2022-02-25T11:06:56.406995Z"
    },
    "papermill": {
     "duration": 75.457589,
     "end_time": "2022-02-25T13:42:43.715575",
     "exception": false,
     "start_time": "2022-02-25T13:41:28.257986",
     "status": "completed"
    },
    "tags": []
   },
   "outputs": [],
   "source": [
    "DATA_DIR = \"/kaggle/input/h-and-m-personalized-fashion-recommendations/\"\n",
    "df = pd.read_csv(DATA_DIR + \"transactions_train.csv\")\n",
    "#article_df = pd.read_csv(DATA_DIR + \"articles.csv\")\n",
    "#customer_df = pd.read_csv(DATA_DIR + \"customers.csv\")\n",
    "sub_df = pd.read_csv(DATA_DIR + \"sample_submission.csv\")"
   ]
  },
  {
   "cell_type": "code",
   "execution_count": 3,
   "id": "5fec2447",
   "metadata": {
    "execution": {
     "iopub.execute_input": "2022-02-25T13:42:43.785349Z",
     "iopub.status.busy": "2022-02-25T13:42:43.784554Z",
     "iopub.status.idle": "2022-02-25T13:42:43.787264Z",
     "shell.execute_reply": "2022-02-25T13:42:43.786612Z",
     "shell.execute_reply.started": "2022-02-25T11:07:55.707057Z"
    },
    "papermill": {
     "duration": 0.042741,
     "end_time": "2022-02-25T13:42:43.787452",
     "exception": false,
     "start_time": "2022-02-25T13:42:43.744711",
     "status": "completed"
    },
    "tags": []
   },
   "outputs": [],
   "source": [
    "# https://www.kaggle.com/c/h-and-m-personalized-fashion-recommendations/discussion/306007\n",
    "# https://github.com/benhamner/Metrics/blob/master/Python/ml_metrics/average_precision.py\n",
    "\n",
    "def apk(actual, predicted, k=12):\n",
    "    \"\"\"\n",
    "    Computes the average precision at k.\n",
    "    This function computes the average prescision at k between two lists of\n",
    "    items.\n",
    "    Parameters\n",
    "    ----------\n",
    "    actual : list\n",
    "             A list of elements that are to be predicted (order doesn't matter)\n",
    "    predicted : list\n",
    "                A list of predicted elements (order does matter)\n",
    "    k : int, optional\n",
    "        The maximum number of predicted elements\n",
    "    Returns\n",
    "    -------\n",
    "    score : double\n",
    "            The average precision at k over the input lists\n",
    "    \"\"\"\n",
    "    if len(predicted)>k:\n",
    "        predicted = predicted[:k]\n",
    "        \n",
    "    score = 0.0\n",
    "    num_hits = 0.0\n",
    "\n",
    "    for i,p in enumerate(predicted):\n",
    "        if p in actual and p not in predicted[:i]:\n",
    "            num_hits += 1.0\n",
    "            score += num_hits / (i+1.0)\n",
    "\n",
    "    if not actual:\n",
    "        return 0.0\n",
    "\n",
    "    return score / min(len(actual), k)\n",
    "\n",
    "def mapk(actual, predicted, k=12):\n",
    "    \"\"\"\n",
    "    Computes the mean average precision at k.\n",
    "    This function computes the mean average prescision at k between two lists\n",
    "    of lists of items.\n",
    "    Parameters\n",
    "    ----------\n",
    "    actual : list\n",
    "             A list of lists of elements that are to be predicted \n",
    "             (order doesn't matter in the lists)\n",
    "    predicted : list\n",
    "                A list of lists of predicted elements\n",
    "                (order matters in the lists)\n",
    "    k : int, optional\n",
    "        The maximum number of predicted elements\n",
    "    Returns\n",
    "    -------\n",
    "    score : double\n",
    "            The mean average precision at k over the input lists\n",
    "    \"\"\"\n",
    "    return np.mean([apk(a,p,k) for a,p in zip(actual, predicted)])"
   ]
  },
  {
   "cell_type": "markdown",
   "id": "2de58cfb",
   "metadata": {
    "papermill": {
     "duration": 0.030039,
     "end_time": "2022-02-25T13:42:43.846759",
     "exception": false,
     "start_time": "2022-02-25T13:42:43.816720",
     "status": "completed"
    },
    "tags": []
   },
   "source": [
    "## prepare data"
   ]
  },
  {
   "cell_type": "code",
   "execution_count": 4,
   "id": "e662c750",
   "metadata": {
    "execution": {
     "iopub.execute_input": "2022-02-25T13:42:43.916242Z",
     "iopub.status.busy": "2022-02-25T13:42:43.915513Z",
     "iopub.status.idle": "2022-02-25T13:42:49.929734Z",
     "shell.execute_reply": "2022-02-25T13:42:49.930272Z",
     "shell.execute_reply.started": "2022-02-25T11:07:55.719128Z"
    },
    "papermill": {
     "duration": 6.054431,
     "end_time": "2022-02-25T13:42:49.930492",
     "exception": false,
     "start_time": "2022-02-25T13:42:43.876061",
     "status": "completed"
    },
    "tags": []
   },
   "outputs": [],
   "source": [
    "start_date = '2020-09-18'\n",
    "val_start_date = '2020-09-21' #9/16\n",
    "\n",
    "df = df[[\"t_dat\", \"customer_id\", \"article_id\"]]\n",
    "\n",
    "# sample check for small memoery usage\n",
    "df = df.query(f\"t_dat >= '{start_date}'\").reset_index(drop=True)\n",
    "train_data = df.query(f\"t_dat < '{val_start_date}'\").reset_index(drop=True)"
   ]
  },
  {
   "cell_type": "code",
   "execution_count": 5,
   "id": "ea6c0c58",
   "metadata": {
    "execution": {
     "iopub.execute_input": "2022-02-25T13:42:49.993185Z",
     "iopub.status.busy": "2022-02-25T13:42:49.992529Z",
     "iopub.status.idle": "2022-02-25T13:42:50.065129Z",
     "shell.execute_reply": "2022-02-25T13:42:50.064492Z",
     "shell.execute_reply.started": "2022-02-25T11:08:01.869465Z"
    },
    "papermill": {
     "duration": 0.104129,
     "end_time": "2022-02-25T13:42:50.065272",
     "exception": false,
     "start_time": "2022-02-25T13:42:49.961143",
     "status": "completed"
    },
    "tags": []
   },
   "outputs": [
    {
     "name": "stdout",
     "output_type": "stream",
     "text": [
      "51023 16047\n"
     ]
    }
   ],
   "source": [
    "unique_uid = df[\"customer_id\"].unique()\n",
    "unique_sid = df['article_id'].unique()\n",
    "\n",
    "show2id = dict((sid, i) for (i, sid) in enumerate(unique_sid))\n",
    "profile2id = dict((pid, i) for (i, pid) in enumerate(unique_uid))\n",
    "\n",
    "n_users = max(list(profile2id.values())) + 1\n",
    "n_items = max(list(show2id.values())) + 1\n",
    "print(n_users, n_items)\n",
    "\n",
    "del df, unique_uid, unique_sid"
   ]
  },
  {
   "cell_type": "code",
   "execution_count": 6,
   "id": "bb8bd3b7",
   "metadata": {
    "execution": {
     "iopub.execute_input": "2022-02-25T13:42:50.129031Z",
     "iopub.status.busy": "2022-02-25T13:42:50.128342Z",
     "iopub.status.idle": "2022-02-25T13:42:50.134006Z",
     "shell.execute_reply": "2022-02-25T13:42:50.134577Z",
     "shell.execute_reply.started": "2022-02-25T11:08:01.945020Z"
    },
    "papermill": {
     "duration": 0.039734,
     "end_time": "2022-02-25T13:42:50.134797",
     "exception": false,
     "start_time": "2022-02-25T13:42:50.095063",
     "status": "completed"
    },
    "tags": []
   },
   "outputs": [],
   "source": [
    "def numerize(tp):\n",
    "    uid = map(lambda x: profile2id[x], tp['customer_id'])\n",
    "    sid = map(lambda x: show2id[x], tp['article_id'])\n",
    "    out = pd.DataFrame(data={'uid': list(uid), 'sid': list(sid)}, columns=['uid', 'sid'])\n",
    "    return out.sort_values(\"uid\").reset_index(drop=True)"
   ]
  },
  {
   "cell_type": "code",
   "execution_count": 7,
   "id": "fe9ddd89",
   "metadata": {
    "execution": {
     "iopub.execute_input": "2022-02-25T13:42:50.197981Z",
     "iopub.status.busy": "2022-02-25T13:42:50.197323Z",
     "iopub.status.idle": "2022-02-25T13:42:50.404984Z",
     "shell.execute_reply": "2022-02-25T13:42:50.405617Z",
     "shell.execute_reply.started": "2022-02-25T11:08:01.955350Z"
    },
    "papermill": {
     "duration": 0.241052,
     "end_time": "2022-02-25T13:42:50.405829",
     "exception": false,
     "start_time": "2022-02-25T13:42:50.164777",
     "status": "completed"
    },
    "tags": []
   },
   "outputs": [
    {
     "name": "stdout",
     "output_type": "stream",
     "text": [
      "(107569, 2)\n"
     ]
    }
   ],
   "source": [
    "train_data = numerize(train_data)\n",
    "print(train_data.shape)"
   ]
  },
  {
   "cell_type": "markdown",
   "id": "33b18974",
   "metadata": {
    "papermill": {
     "duration": 0.029196,
     "end_time": "2022-02-25T13:42:50.464679",
     "exception": false,
     "start_time": "2022-02-25T13:42:50.435483",
     "status": "completed"
    },
    "tags": []
   },
   "source": [
    "# training"
   ]
  },
  {
   "cell_type": "code",
   "execution_count": 8,
   "id": "94206fc0",
   "metadata": {
    "execution": {
     "iopub.execute_input": "2022-02-25T13:42:50.533351Z",
     "iopub.status.busy": "2022-02-25T13:42:50.527277Z",
     "iopub.status.idle": "2022-02-25T13:42:50.832502Z",
     "shell.execute_reply": "2022-02-25T13:42:50.831868Z",
     "shell.execute_reply.started": "2022-02-25T11:08:02.185057Z"
    },
    "papermill": {
     "duration": 0.337684,
     "end_time": "2022-02-25T13:42:50.832665",
     "exception": false,
     "start_time": "2022-02-25T13:42:50.494981",
     "status": "completed"
    },
    "tags": []
   },
   "outputs": [],
   "source": [
    "# function for training\n",
    "### functions to create the feature-pairs\n",
    "@jit\n",
    "def create_list_feature_pairs(XtX, threshold):\n",
    "    AA= np.triu(np.abs(XtX))\n",
    "    AA[np.diag_indices(AA.shape[0])]=0.0\n",
    "    ii_pairs = np.where((AA>threshold)==True)\n",
    "    return ii_pairs\n",
    "\n",
    "@jit\n",
    "def create_matrix_Z(ii_pairs, X):\n",
    "    MM = np.zeros( (len(ii_pairs[0]), X.shape[1]), dtype=np.float)\n",
    "    MM[np.arange(MM.shape[0]), ii_pairs[0]]=1.0\n",
    "    MM[np.arange(MM.shape[0]), ii_pairs[1]]=1.0\n",
    "    CCmask = 1.0-MM    # see Eq. 8 in the paper\n",
    "    MM=sparse.csc_matrix(MM.T)\n",
    "    Z=  X * MM\n",
    "    Z= (Z == 2.0)\n",
    "    Z=Z*1.0\n",
    "    return [Z, CCmask]\n",
    "\n",
    "### training-function of higher-order model\n",
    "@jit\n",
    "def train_higher(XtX, XtXdiag,lambdaBB, ZtZ, ZtZdiag, lambdaCC, CCmask, ZtX, rho, epochs):\n",
    "    # precompute for BB\n",
    "    ii_diag=np.diag_indices(XtX.shape[0])\n",
    "    XtX[ii_diag] = XtXdiag+lambdaBB\n",
    "    PP=np.linalg.inv(XtX)\n",
    "    \n",
    "    # precompute for CC\n",
    "    ii_diag_ZZ=np.diag_indices(ZtZ.shape[0])\n",
    "    ZtZ[ii_diag_ZZ] = ZtZdiag+lambdaCC+rho\n",
    "    \n",
    "    # initialize\n",
    "    CC = np.zeros((ZtZ.shape[0], XtX.shape[0]),dtype=np.float64)\n",
    "    DD = np.zeros((ZtZ.shape[0], XtX.shape[0]),dtype=np.float64)\n",
    "    UU = np.zeros((ZtZ.shape[0], XtX.shape[0]),dtype=np.float64) # is Gamma in paper\n",
    "    XtX[ii_diag] = XtXdiag\n",
    "    \n",
    "    for iter in range(epochs):\n",
    "        print(\"epoch {}\".format(iter))\n",
    "        # learn BB\n",
    "        #BB= PP.dot(XtX-ZtX.T.dot(CC)) \n",
    "        #gamma = np.diag(BB) / np.diag(PP)\n",
    "        #BB -= PP * gamma\n",
    "\n",
    "        BB= PP.dot(ZtX.T.dot(CC)) \n",
    "        gamma = (1 - np.diag(BB)) / np.diag(PP)\n",
    "        BB = np.eye(n_items) - BB + PP * gamma\n",
    "        \n",
    "        # learn CC\n",
    "        CC = np.linalg.solve(ZtZ, ZtX-ZtX.dot(BB) + rho * (DD-UU))\n",
    "        \n",
    "        # learn DD\n",
    "        DD =  CC  * CCmask \n",
    "        #DD= np.maximum(0.0, DD) # if you want to enforce non-negative parameters\n",
    "        \n",
    "        # learn UU (is Gamma in paper)\n",
    "        UU += CC-DD\n",
    "        print(BB.max(), BB.min(), CC.max(), CC.min())\n",
    "    return [BB,CC,DD]\n",
    "\n",
    "#### data formation \n",
    "def format_data(tp):\n",
    "    rows, cols = tp['uid'], tp['sid']\n",
    "    data = sparse.csr_matrix((np.ones_like(rows),\n",
    "                             (rows, cols)), dtype='float64',\n",
    "                             shape=(n_users, n_items))\n",
    "    return data"
   ]
  },
  {
   "cell_type": "code",
   "execution_count": 9,
   "id": "f60243af",
   "metadata": {
    "execution": {
     "iopub.execute_input": "2022-02-25T13:42:50.898871Z",
     "iopub.status.busy": "2022-02-25T13:42:50.898147Z",
     "iopub.status.idle": "2022-02-25T13:42:50.900759Z",
     "shell.execute_reply": "2022-02-25T13:42:50.900201Z",
     "shell.execute_reply.started": "2022-02-25T11:08:02.247061Z"
    },
    "papermill": {
     "duration": 0.037902,
     "end_time": "2022-02-25T13:42:50.900921",
     "exception": false,
     "start_time": "2022-02-25T13:42:50.863019",
     "status": "completed"
    },
    "tags": []
   },
   "outputs": [],
   "source": [
    "### choose the training-hyperparameters\n",
    "epochs = 40 \n",
    "threshold, lambdaBB, lambdaCC, rho = 4, 500, 5000, 100000"
   ]
  },
  {
   "cell_type": "code",
   "execution_count": 10,
   "id": "9834f5de",
   "metadata": {
    "execution": {
     "iopub.execute_input": "2022-02-25T13:42:50.966911Z",
     "iopub.status.busy": "2022-02-25T13:42:50.966170Z",
     "iopub.status.idle": "2022-02-25T13:42:50.979457Z",
     "shell.execute_reply": "2022-02-25T13:42:50.978831Z",
     "shell.execute_reply.started": "2022-02-25T11:08:02.257946Z"
    },
    "papermill": {
     "duration": 0.048027,
     "end_time": "2022-02-25T13:42:50.979616",
     "exception": false,
     "start_time": "2022-02-25T13:42:50.931589",
     "status": "completed"
    },
    "tags": []
   },
   "outputs": [],
   "source": [
    "### format data ###\n",
    "X = format_data(train_data)\n",
    "del train_data"
   ]
  },
  {
   "cell_type": "code",
   "execution_count": 11,
   "id": "c7cb15bd",
   "metadata": {
    "execution": {
     "iopub.execute_input": "2022-02-25T13:42:51.043372Z",
     "iopub.status.busy": "2022-02-25T13:42:51.042598Z",
     "iopub.status.idle": "2022-02-25T13:43:00.903622Z",
     "shell.execute_reply": "2022-02-25T13:43:00.902643Z",
     "shell.execute_reply.started": "2022-02-25T11:08:02.274348Z"
    },
    "papermill": {
     "duration": 9.893866,
     "end_time": "2022-02-25T13:43:00.903791",
     "exception": false,
     "start_time": "2022-02-25T13:42:51.009925",
     "status": "completed"
    },
    "tags": []
   },
   "outputs": [
    {
     "name": "stdout",
     "output_type": "stream",
     "text": [
      "number of feature-pairs: 4171\n"
     ]
    }
   ],
   "source": [
    "XtX=np.array((X.transpose() * X).todense()) \n",
    "XtXdiag=deepcopy(np.diag(XtX))\n",
    "\n",
    "### create the list of feature-pairs and the higher-order matrix Z\n",
    "XtX[np.diag_indices(XtX.shape[0])]=XtXdiag #if code is re-run, ensure that the diagonal is correct\n",
    "ii_feature_pairs = create_list_feature_pairs(XtX, threshold)\n",
    "print(\"number of feature-pairs: {}\".format(len(ii_feature_pairs[0])))\n",
    "Z, CCmask = create_matrix_Z(ii_feature_pairs, X)\n",
    "\n",
    "### create the higher-order matrices\n",
    "ZtZ=np.array((Z.transpose() * Z).todense()) \n",
    "ZtX=np.array((Z.transpose() * X).todense()) \n",
    "ZtZdiag=deepcopy(np.diag(ZtZ))\n",
    "del X, Z"
   ]
  },
  {
   "cell_type": "code",
   "execution_count": 12,
   "id": "93373354",
   "metadata": {
    "execution": {
     "iopub.execute_input": "2022-02-25T13:43:00.996499Z",
     "iopub.status.busy": "2022-02-25T13:43:00.975214Z",
     "iopub.status.idle": "2022-02-25T16:05:12.628970Z",
     "shell.execute_reply": "2022-02-25T16:05:12.629794Z",
     "shell.execute_reply.started": "2022-02-25T11:08:14.268284Z"
    },
    "papermill": {
     "duration": 8531.69587,
     "end_time": "2022-02-25T16:05:12.630465",
     "exception": false,
     "start_time": "2022-02-25T13:43:00.934595",
     "status": "completed"
    },
    "tags": []
   },
   "outputs": [
    {
     "name": "stdout",
     "output_type": "stream",
     "text": [
      "epoch 0\n",
      "2.0 -0.14849171077822657 2.840962807823277e-05 -0.0007626453099606382\n",
      "epoch 1\n",
      "2.0043173531975644 -0.14849463428997553 5.524418650589409e-05 -0.00035378179323302577\n",
      "epoch 2\n",
      "2.0006279514553076 -0.14849449333889267 8.061489445696383e-05 -0.0005169510629481182\n",
      "epoch 3\n",
      "2.000808123081036 -0.14849567526407162 0.00010460119853334152 -0.0006714564010133423\n",
      "epoch 4\n",
      "2.0010470596728087 -0.14849686033756843 0.00012727885836483026 -0.0008177726647850774\n",
      "epoch 5\n",
      "2.0012741089046777 -0.14849798817985174 0.00014871950760823315 -0.0009563367332311784\n",
      "epoch 6\n",
      "2.0014886743100115 -0.14849905885977843 0.00016899084764837748 -0.0010875616381246281\n",
      "epoch 7\n",
      "2.0016914175663367 -0.1485000751516516 0.00018815686264271147 -0.0012118382794570454\n",
      "epoch 8\n",
      "2.001882991326013 -0.14850103981628054 0.00020627802418807012 -0.001329536626657571\n",
      "epoch 9\n",
      "2.0020640122982045 -0.14850195547984754 0.00022341148475130666 -0.0014410068449425399\n",
      "epoch 10\n",
      "2.0022350630552186 -0.14850282463502612 0.0002396112604192237 -0.0015465803607003302\n",
      "epoch 11\n",
      "2.00239669394339 -0.1485036496475207 0.0002549284035562898 -0.0016465708693036098\n",
      "epoch 12\n",
      "2.0025494248700224 -0.14850443276253086 0.000269973848185937 -0.0017412752884676226\n",
      "epoch 13\n",
      "2.0026937469899955 -0.14850517611089759 0.0002844636604082432 -0.0018309746601089898\n",
      "epoch 14\n",
      "2.0028301242987236 -0.1485058817149358 0.0002982602989929949 -0.001915935003498941\n",
      "epoch 15\n",
      "2.002958995136721 -0.14850655149397 0.00031139692854549085 -0.0019964081223527454\n",
      "epoch 16\n",
      "2.003080773610679 -0.1485071872695859 0.0003239051266960834 -0.0020726323683532594\n",
      "epoch 17\n",
      "2.0031958509356977 -0.1485077907706149 0.0003358149600520237 -0.002144833363470494\n",
      "epoch 18\n",
      "2.0033045967030554 -0.14850836363786366 0.00034715505651357223 -0.0022132246833105667\n",
      "epoch 19\n",
      "2.003407360077646 -0.14850890742860207 0.00035795267412845497 -0.002278008503605847\n",
      "epoch 20\n",
      "2.0035044709290015 -0.14850942362082217 0.00036823376665040373 -0.0023393762118432034\n",
      "epoch 21\n",
      "2.0035962408995807 -0.14850991361728003 0.0003780230459595898 -0.002397508985918642\n",
      "epoch 22\n",
      "2.003682964413813 -0.14851037874933048 0.00038734404149519337 -0.0024525783416039257\n",
      "epoch 23\n",
      "2.0037649196311875 -0.14851082028056686 0.0003962191568431606 -0.0025047466505136707\n",
      "epoch 24\n",
      "2.003842369346492 -0.14851123941027472 0.00040466972361535115 -0.0025541676301696296\n",
      "epoch 25\n",
      "2.0039155618401447 -0.14851163727670902 0.00041271605274975144 -0.0026009868076720868\n",
      "epoch 26\n",
      "2.0039847316813786 -0.14851201496020444 0.0004203774833552228 -0.0026453419584062435\n",
      "epoch 27\n",
      "2.004050100486906 -0.14851237348612692 0.00042767242921833875 -0.0026873635211338985\n",
      "epoch 28\n",
      "2.004111877637531 -0.14851271382767425 0.00043461842308423936 -0.002727174990747394\n",
      "epoch 29\n",
      "2.0041702609550454 -0.14851303690853418 0.0004412321588180661 -0.0027648932898934357\n",
      "epoch 30\n",
      "2.004225437341609 -0.1485133436054066 0.0004475295315484428 -0.00280062912060885\n",
      "epoch 31\n",
      "2.004277583383705 -0.1485136347503975 0.00045352567588960473 -0.002834487297048347\n",
      "epoch 32\n",
      "2.004326865922627 -0.14851391113329007 0.0004592350023341582 -0.0028665670603257466\n",
      "epoch 33\n",
      "2.004373442593362 -0.14851417350370072 0.0004646712319040414 -0.0028969623764346962\n",
      "epoch 34\n",
      "2.004417462333621 -0.1485144225731247 0.0004698474291430697 -0.002925762218162525\n",
      "epoch 35\n",
      "2.0044590658646695 -0.14851465901687744 0.0004747760335304542 -0.002953050831861315\n",
      "epoch 36\n",
      "2.004498386145534 -0.14851488347593694 0.00047946888939088097 -0.002978907989893444\n",
      "epoch 37\n",
      "2.0045355488020458 -0.1485150965586923 0.00048393727437311726 -0.0030034092295245203\n",
      "epoch 38\n",
      "2.0045706725321306 -0.1485152988426029 0.00048819192656566975 -0.003026626078994786\n",
      "epoch 39\n",
      "2.0046038694886565 -0.14851549087577307 0.0004922430703147357 -0.0030486262714604184\n"
     ]
    }
   ],
   "source": [
    "### iterative training, and evaluation every 10 epochs \n",
    "BB, CC, DD = train_higher(XtX, XtXdiag, lambdaBB, ZtZ, ZtZdiag, lambdaCC, CCmask, ZtX, rho, epochs)"
   ]
  },
  {
   "cell_type": "code",
   "execution_count": 13,
   "id": "979017db",
   "metadata": {
    "execution": {
     "iopub.execute_input": "2022-02-25T16:05:12.741944Z",
     "iopub.status.busy": "2022-02-25T16:05:12.740752Z",
     "iopub.status.idle": "2022-02-25T16:05:12.743717Z",
     "shell.execute_reply": "2022-02-25T16:05:12.744344Z",
     "shell.execute_reply.started": "2022-02-25T13:28:36.927038Z"
    },
    "papermill": {
     "duration": 0.067828,
     "end_time": "2022-02-25T16:05:12.744552",
     "exception": false,
     "start_time": "2022-02-25T16:05:12.676724",
     "status": "completed"
    },
    "tags": []
   },
   "outputs": [],
   "source": [
    "del ZtZ, ZtX, ZtZdiag"
   ]
  },
  {
   "cell_type": "markdown",
   "id": "f2aae575",
   "metadata": {
    "papermill": {
     "duration": 0.045745,
     "end_time": "2022-02-25T16:05:12.836482",
     "exception": false,
     "start_time": "2022-02-25T16:05:12.790737",
     "status": "completed"
    },
    "tags": []
   },
   "source": [
    "# prediction"
   ]
  },
  {
   "cell_type": "code",
   "execution_count": 14,
   "id": "cfdbaca2",
   "metadata": {
    "execution": {
     "iopub.execute_input": "2022-02-25T16:05:12.933485Z",
     "iopub.status.busy": "2022-02-25T16:05:12.932290Z",
     "iopub.status.idle": "2022-02-25T16:05:12.952268Z",
     "shell.execute_reply": "2022-02-25T16:05:12.951282Z",
     "shell.execute_reply.started": "2022-02-25T13:28:37.007216Z"
    },
    "papermill": {
     "duration": 0.070158,
     "end_time": "2022-02-25T16:05:12.952492",
     "exception": false,
     "start_time": "2022-02-25T16:05:12.882334",
     "status": "completed"
    },
    "tags": []
   },
   "outputs": [],
   "source": [
    "### evaluation-function of higher-order model\n",
    "@jit\n",
    "def pred_func(BB,CC,test_data_tr, Z_test_data_tr, N_test, batch_size_test=5000):\n",
    "    print(\"Evaluating ...\")\n",
    "    #evaluate in batches\n",
    "    for bnum, st_idx in tqdm(enumerate(range(0, N_test, batch_size_test))):\n",
    "        end_idx = min(st_idx + batch_size_test, N_test)\n",
    "        Xtest = test_data_tr[st_idx:end_idx]\n",
    "        Ztest = Z_test_data_tr[st_idx:end_idx]\n",
    "        if sparse.isspmatrix(Xtest):\n",
    "            Xtest = Xtest.toarray()\n",
    "            Ztest = Ztest.toarray()\n",
    "        Xtest = Xtest.astype('float64')\n",
    "        Ztest = Ztest.astype('float64')\n",
    "        pred_val = (Xtest).dot(BB) + Ztest.dot(CC)\n",
    "        #pred_val[Xtest.nonzero()] = -np.inf # exclude examples from training and validation (if any)\n",
    "        pred_val = np.argpartition(pred_val, -12)[:,-12:]\n",
    "        if bnum == 0:\n",
    "            ans = pred_val\n",
    "        else:\n",
    "            ans = np.concatenate((ans,pred_val), axis=0)\n",
    "    return ans"
   ]
  },
  {
   "cell_type": "code",
   "execution_count": 15,
   "id": "63b1a7d6",
   "metadata": {
    "execution": {
     "iopub.execute_input": "2022-02-25T16:05:13.054285Z",
     "iopub.status.busy": "2022-02-25T16:05:13.053116Z",
     "iopub.status.idle": "2022-02-25T16:06:32.762918Z",
     "shell.execute_reply": "2022-02-25T16:06:32.762096Z",
     "shell.execute_reply.started": "2022-02-25T13:28:37.030599Z"
    },
    "papermill": {
     "duration": 79.764902,
     "end_time": "2022-02-25T16:06:32.763126",
     "exception": false,
     "start_time": "2022-02-25T16:05:12.998224",
     "status": "completed"
    },
    "tags": []
   },
   "outputs": [
    {
     "name": "stdout",
     "output_type": "stream",
     "text": [
      "(64996, 2)\n"
     ]
    }
   ],
   "source": [
    "df = pd.read_csv(DATA_DIR + \"transactions_train.csv\")\n",
    "df = df[[\"t_dat\", \"customer_id\", \"article_id\"]]\n",
    "\n",
    "valid_data = df.query(f\"t_dat >= '{val_start_date}'\").reset_index(drop=True)\n",
    "valid_unq = valid_data.groupby('customer_id')['article_id'].apply(list).reset_index()\n",
    "valid_unq['valid_true'] = valid_unq['article_id'].map(lambda x: '0'+' 0'.join(str(x)[1:-1].split(', ')))\n",
    "valid_unq.drop(\"article_id\", axis=1, inplace=True)\n",
    "\n",
    "valid_data = numerize(valid_data)\n",
    "print(valid_data.shape)\n",
    "X_valid = format_data(valid_data)\n",
    "del valid_data, df\n",
    "\n",
    "Z_val_data , _ = create_matrix_Z(ii_feature_pairs, X_valid)\n",
    "N_valid = X_valid.shape[0]"
   ]
  },
  {
   "cell_type": "code",
   "execution_count": 16,
   "id": "6cc138e6",
   "metadata": {
    "execution": {
     "iopub.execute_input": "2022-02-25T16:06:32.887648Z",
     "iopub.status.busy": "2022-02-25T16:06:32.883025Z",
     "iopub.status.idle": "2022-02-25T16:06:32.891652Z",
     "shell.execute_reply": "2022-02-25T16:06:32.890967Z",
     "shell.execute_reply.started": "2022-02-25T13:29:49.770706Z"
    },
    "papermill": {
     "duration": 0.083711,
     "end_time": "2022-02-25T16:06:32.891838",
     "exception": false,
     "start_time": "2022-02-25T16:06:32.808127",
     "status": "completed"
    },
    "tags": []
   },
   "outputs": [],
   "source": [
    "id2show = dict((v,\"0\"+str(k)) for k,v in show2id.items())\n",
    "id2profile = dict((v,k) for k,v in profile2id.items())\n",
    "\n",
    "sample_value = sub_df[\"prediction\"][0]"
   ]
  },
  {
   "cell_type": "code",
   "execution_count": 17,
   "id": "2b0904dc",
   "metadata": {
    "execution": {
     "iopub.execute_input": "2022-02-25T16:06:32.986141Z",
     "iopub.status.busy": "2022-02-25T16:06:32.985134Z",
     "iopub.status.idle": "2022-02-25T16:15:20.097619Z",
     "shell.execute_reply": "2022-02-25T16:15:20.098164Z",
     "shell.execute_reply.started": "2022-02-25T13:29:49.806653Z"
    },
    "papermill": {
     "duration": 527.161634,
     "end_time": "2022-02-25T16:15:20.098629",
     "exception": false,
     "start_time": "2022-02-25T16:06:32.936995",
     "status": "completed"
    },
    "tags": []
   },
   "outputs": [
    {
     "name": "stdout",
     "output_type": "stream",
     "text": [
      "Evaluating ...\n"
     ]
    },
    {
     "name": "stderr",
     "output_type": "stream",
     "text": [
      "11it [08:45, 47.74s/it]\n"
     ]
    }
   ],
   "source": [
    "pred = pred_func(BB,CC, X_valid, Z_val_data, N_valid)"
   ]
  },
  {
   "cell_type": "code",
   "execution_count": 18,
   "id": "08096caf",
   "metadata": {
    "execution": {
     "iopub.execute_input": "2022-02-25T16:15:20.206653Z",
     "iopub.status.busy": "2022-02-25T16:15:20.205596Z",
     "iopub.status.idle": "2022-02-25T16:15:20.564102Z",
     "shell.execute_reply": "2022-02-25T16:15:20.563495Z",
     "shell.execute_reply.started": "2022-02-25T13:38:29.772657Z"
    },
    "papermill": {
     "duration": 0.414923,
     "end_time": "2022-02-25T16:15:20.564254",
     "exception": false,
     "start_time": "2022-02-25T16:15:20.149331",
     "status": "completed"
    },
    "tags": []
   },
   "outputs": [],
   "source": [
    "# https://stackoverflow.com/questions/16992713/translate-every-element-in-numpy-array-according-to-key\n",
    "# indexから商品idに変換\n",
    "pred = np.vectorize(id2show.get)(pred)\n",
    "pred = pd.DataFrame(pred)"
   ]
  },
  {
   "cell_type": "code",
   "execution_count": 19,
   "id": "acaf5e2b",
   "metadata": {
    "execution": {
     "iopub.execute_input": "2022-02-25T16:15:20.674550Z",
     "iopub.status.busy": "2022-02-25T16:15:20.668199Z",
     "iopub.status.idle": "2022-02-25T16:15:22.057351Z",
     "shell.execute_reply": "2022-02-25T16:15:22.056715Z",
     "shell.execute_reply.started": "2022-02-25T13:38:30.068127Z"
    },
    "papermill": {
     "duration": 1.442633,
     "end_time": "2022-02-25T16:15:22.057541",
     "exception": false,
     "start_time": "2022-02-25T16:15:20.614908",
     "status": "completed"
    },
    "tags": []
   },
   "outputs": [],
   "source": [
    "cols = pred.columns\n",
    "pred['prediction'] = pred[cols].apply(lambda row: ' '.join(row.values.astype(str)), axis=1)\n",
    "pred = pred.drop(cols, axis=1).reset_index(drop=False)\n",
    "pred.columns = [\"customer_id\", \"prediction\"]\n",
    "pred[\"customer_id\"] = pred[\"customer_id\"].map(id2profile)"
   ]
  },
  {
   "cell_type": "code",
   "execution_count": 20,
   "id": "7cb68b87",
   "metadata": {
    "execution": {
     "iopub.execute_input": "2022-02-25T16:15:22.168414Z",
     "iopub.status.busy": "2022-02-25T16:15:22.166878Z",
     "iopub.status.idle": "2022-02-25T16:15:37.128579Z",
     "shell.execute_reply": "2022-02-25T16:15:37.127907Z",
     "shell.execute_reply.started": "2022-02-25T13:38:31.330308Z"
    },
    "papermill": {
     "duration": 15.020553,
     "end_time": "2022-02-25T16:15:37.128759",
     "exception": false,
     "start_time": "2022-02-25T16:15:22.108206",
     "status": "completed"
    },
    "tags": []
   },
   "outputs": [],
   "source": [
    "sub_df = pd.merge(sub_df[\"customer_id\"], pred, on = \"customer_id\", how=\"left\")\n",
    "sub_df[\"prediction\"].fillna(sample_value, inplace=True)\n",
    "sub_df.to_csv(\"submission.csv\", index=False)"
   ]
  },
  {
   "cell_type": "code",
   "execution_count": 21,
   "id": "d3385961",
   "metadata": {
    "execution": {
     "iopub.execute_input": "2022-02-25T16:15:37.240349Z",
     "iopub.status.busy": "2022-02-25T16:15:37.239047Z",
     "iopub.status.idle": "2022-02-25T16:15:37.500088Z",
     "shell.execute_reply": "2022-02-25T16:15:37.500631Z",
     "shell.execute_reply.started": "2022-02-25T13:38:45.776934Z"
    },
    "papermill": {
     "duration": 0.321005,
     "end_time": "2022-02-25T16:15:37.500812",
     "exception": false,
     "start_time": "2022-02-25T16:15:37.179807",
     "status": "completed"
    },
    "tags": []
   },
   "outputs": [
    {
     "data": {
      "text/plain": [
       "0.2134497415770507"
      ]
     },
     "execution_count": 21,
     "metadata": {},
     "output_type": "execute_result"
    }
   ],
   "source": [
    "# local score\n",
    "valid_unq = pd.merge(valid_unq, pred, on =\"customer_id\", how=\"left\")\n",
    "mapk(valid_unq['valid_true'].map(lambda x: x.split()), valid_unq['prediction'].map(lambda x: x.split()), k=12)"
   ]
  },
  {
   "cell_type": "markdown",
   "id": "44c0c70f",
   "metadata": {
    "papermill": {
     "duration": 0.050799,
     "end_time": "2022-02-25T16:15:37.602571",
     "exception": false,
     "start_time": "2022-02-25T16:15:37.551772",
     "status": "completed"
    },
    "tags": []
   },
   "source": [
    "# check"
   ]
  },
  {
   "cell_type": "code",
   "execution_count": 22,
   "id": "bac6b720",
   "metadata": {
    "execution": {
     "iopub.execute_input": "2022-02-25T16:15:37.886663Z",
     "iopub.status.busy": "2022-02-25T16:15:37.708139Z",
     "iopub.status.idle": "2022-02-25T16:15:37.897345Z",
     "shell.execute_reply": "2022-02-25T16:15:37.896640Z",
     "shell.execute_reply.started": "2022-02-25T13:38:45.996230Z"
    },
    "papermill": {
     "duration": 0.243874,
     "end_time": "2022-02-25T16:15:37.897497",
     "exception": false,
     "start_time": "2022-02-25T16:15:37.653623",
     "status": "completed"
    },
    "tags": []
   },
   "outputs": [
    {
     "data": {
      "text/plain": [
       "(0706016001 0706016002 0372860001 0610776002 0759871002 0464297007 0372860002 0610776001 0399223001 0706016003 0720125001 0156231001    1320957\n",
       " 0882651001 0634541002 0640001033 0759482007 0883689001 0824752001 0910199002 0730454060 0877369002 0730863012 0875272001 0864339003      30790\n",
       " 0918292001 0882902001 0730683062 0902802005 0740519002 0673677002 0788575002 0871517014 0874110016 0573085057 0714790020 0804992014         47\n",
       " 0762796013 0884319005 0814686004 0873279005 0887757001 0924243001 0898694002 0849588008 0793012001 0831431001 0733803001 0928351001         35\n",
       " 0923340001 0873274002 0909721001 0751471001 0903992003 0714790020 0928210002 0863583001 0896169002 0918522001 0918890002 0894780001         35\n",
       "                                                                                                                                         ...   \n",
       " 0884319005 0929275001 0573085057 0867969003 0673677002 0842000003 0906226001 0909721002 0706016001 0924243002 0894780001 0762846006          1\n",
       " 0611415001 0765743007 0921679001 0918292001 0915529005 0868823008 0894210001 0926502001 0894780001 0914537001 0873217003 0914449001          1\n",
       " 0850917001 0915529003 0751471001 0924243001 0749974009 0867729001 0372860002 0831861004 0919106001 0814631001 0832307007 0570004010          1\n",
       " 0573085057 0919365008 0762846006 0933032002 0762846027 0906352001 0752689002 0870449002 0929508002 0874817002 0923569002 0897679003          1\n",
       " 0924243001 0740519006 0714790020 0751471001 0874816003 0902507001 0673677002 0923758001 0762846006 0915529005 0911870004 0863583001          1\n",
       " Name: prediction, Length: 16414, dtype: int64,\n",
       " (1371980, 2))"
      ]
     },
     "execution_count": 22,
     "metadata": {},
     "output_type": "execute_result"
    }
   ],
   "source": [
    "sub_df[\"prediction\"].value_counts(), sub_df.shape"
   ]
  },
  {
   "cell_type": "code",
   "execution_count": 23,
   "id": "f433c682",
   "metadata": {
    "execution": {
     "iopub.execute_input": "2022-02-25T16:15:38.019509Z",
     "iopub.status.busy": "2022-02-25T16:15:38.018592Z",
     "iopub.status.idle": "2022-02-25T16:15:38.027560Z",
     "shell.execute_reply": "2022-02-25T16:15:38.028065Z",
     "shell.execute_reply.started": "2022-02-25T13:38:46.188519Z"
    },
    "papermill": {
     "duration": 0.079344,
     "end_time": "2022-02-25T16:15:38.028257",
     "exception": false,
     "start_time": "2022-02-25T16:15:37.948913",
     "status": "completed"
    },
    "tags": []
   },
   "outputs": [
    {
     "data": {
      "text/plain": [
       "(0918292001 0882902001 0730683062 0902802005 0740519002 0673677002 0788575002 0871517014 0874110016 0573085057 0714790020 0804992014    47\n",
       " 0762796013 0884319005 0814686004 0873279005 0887757001 0924243001 0898694002 0849588008 0793012001 0831431001 0733803001 0928351001    35\n",
       " 0923340001 0873274002 0909721001 0751471001 0903992003 0714790020 0928210002 0863583001 0896169002 0918522001 0918890002 0894780001    35\n",
       " 0889550002 0924243002 0935541001 0929165002 0909721002 0909370001 0933032002 0918890002 0762796013 0895610005 0923758001 0896169005    31\n",
       " 0919273001 0934835001 0902388001 0915453005 0909093003 0933032001 0673677002 0785034009 0714790020 0898694001 0924243002 0849588008    29\n",
       "                                                                                                                                        ..\n",
       " 0850917001 0915529003 0751471001 0924243001 0749974009 0867729001 0372860002 0831861004 0919106001 0814631001 0832307007 0570004010     1\n",
       " 0573085057 0919365008 0762846006 0933032002 0762846027 0906352001 0752689002 0870449002 0929508002 0874817002 0923569002 0897679003     1\n",
       " 0918522001 0827968001 0448509014 0925290006 0914805002 0919365008 0915529005 0751471041 0781613015 0903049004 0762846027 0924243001     1\n",
       " 0900279001 0922408001 0894780001 0915361005 0740519006 0882336002 0924243001 0725893001 0854602009 0845790001 0877666001 0902507001     1\n",
       " 0924243001 0740519006 0714790020 0751471001 0874816003 0902507001 0673677002 0923758001 0762846006 0915529005 0911870004 0863583001     1\n",
       " Name: prediction, Length: 16412, dtype: int64,\n",
       " (20233, 3))"
      ]
     },
     "execution_count": 23,
     "metadata": {},
     "output_type": "execute_result"
    }
   ],
   "source": [
    "valid_unq[\"prediction\"].value_counts(), valid_unq.shape"
   ]
  },
  {
   "cell_type": "code",
   "execution_count": null,
   "id": "d7022f5f",
   "metadata": {
    "papermill": {
     "duration": 0.053634,
     "end_time": "2022-02-25T16:15:38.134478",
     "exception": false,
     "start_time": "2022-02-25T16:15:38.080844",
     "status": "completed"
    },
    "tags": []
   },
   "outputs": [],
   "source": []
  }
 ],
 "metadata": {
  "kernelspec": {
   "display_name": "Python 3",
   "language": "python",
   "name": "python3"
  },
  "language_info": {
   "codemirror_mode": {
    "name": "ipython",
    "version": 3
   },
   "file_extension": ".py",
   "mimetype": "text/x-python",
   "name": "python",
   "nbconvert_exporter": "python",
   "pygments_lexer": "ipython3",
   "version": "3.7.12"
  },
  "papermill": {
   "default_parameters": {},
   "duration": 9263.913835,
   "end_time": "2022-02-25T16:15:39.844249",
   "environment_variables": {},
   "exception": null,
   "input_path": "__notebook__.ipynb",
   "output_path": "__notebook__.ipynb",
   "parameters": {},
   "start_time": "2022-02-25T13:41:15.930414",
   "version": "2.3.3"
  }
 },
 "nbformat": 4,
 "nbformat_minor": 5
}
