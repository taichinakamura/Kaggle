{
 "cells": [
  {
   "cell_type": "markdown",
   "id": "a695bfd7",
   "metadata": {
    "_cell_guid": "b1076dfc-b9ad-4769-8c92-a6c4dae69d19",
    "_uuid": "8f2839f25d086af736a60e9eeb907d3b93b6e0e5",
    "execution": {
     "iopub.execute_input": "2022-02-19T01:06:26.341225Z",
     "iopub.status.busy": "2022-02-19T01:06:26.340823Z",
     "iopub.status.idle": "2022-02-19T01:06:26.495875Z",
     "shell.execute_reply": "2022-02-19T01:06:26.494768Z",
     "shell.execute_reply.started": "2022-02-19T01:06:26.341124Z"
    },
    "papermill": {
     "duration": 0.027516,
     "end_time": "2022-02-24T11:06:26.406526",
     "exception": false,
     "start_time": "2022-02-24T11:06:26.379010",
     "status": "completed"
    },
    "tags": []
   },
   "source": [
    "- change data period \n",
    "- use jit"
   ]
  },
  {
   "cell_type": "markdown",
   "id": "d787248f",
   "metadata": {
    "papermill": {
     "duration": 0.026684,
     "end_time": "2022-02-24T11:06:26.461163",
     "exception": false,
     "start_time": "2022-02-24T11:06:26.434479",
     "status": "completed"
    },
    "tags": []
   },
   "source": [
    "# recsys2021 best paper\n",
    "- paper: https://dl.acm.org/doi/pdf/10.1145/3460231.3474273\n",
    "- code: https://github.com/hasteck/Higher_Recsys_2021/blob/main/Higher_RecSys_2021.ipynb"
   ]
  },
  {
   "cell_type": "code",
   "execution_count": 1,
   "id": "11711533",
   "metadata": {
    "execution": {
     "iopub.execute_input": "2022-02-24T11:06:26.523987Z",
     "iopub.status.busy": "2022-02-24T11:06:26.523349Z",
     "iopub.status.idle": "2022-02-24T11:06:27.316442Z",
     "shell.execute_reply": "2022-02-24T11:06:27.315784Z",
     "shell.execute_reply.started": "2022-02-24T10:11:24.664583Z"
    },
    "papermill": {
     "duration": 0.828685,
     "end_time": "2022-02-24T11:06:27.316640",
     "exception": false,
     "start_time": "2022-02-24T11:06:26.487955",
     "status": "completed"
    },
    "tags": []
   },
   "outputs": [],
   "source": [
    "import os\n",
    "from tqdm import tqdm\n",
    "import numpy as np # linear algebra\n",
    "import pandas as pd # data processing, CSV file I/O (e.g. pd.read_csv)\n",
    "from scipy import sparse, linalg\n",
    "from copy import deepcopy\n",
    "from numba import jit\n",
    "import warnings\n",
    "warnings.filterwarnings('ignore')"
   ]
  },
  {
   "cell_type": "code",
   "execution_count": 2,
   "id": "6e421bbe",
   "metadata": {
    "execution": {
     "iopub.execute_input": "2022-02-24T11:06:27.375286Z",
     "iopub.status.busy": "2022-02-24T11:06:27.374438Z",
     "iopub.status.idle": "2022-02-24T11:07:43.927372Z",
     "shell.execute_reply": "2022-02-24T11:07:43.926769Z",
     "shell.execute_reply.started": "2022-02-24T10:11:25.516289Z"
    },
    "papermill": {
     "duration": 76.584657,
     "end_time": "2022-02-24T11:07:43.927520",
     "exception": false,
     "start_time": "2022-02-24T11:06:27.342863",
     "status": "completed"
    },
    "tags": []
   },
   "outputs": [],
   "source": [
    "DATA_DIR = \"/kaggle/input/h-and-m-personalized-fashion-recommendations/\"\n",
    "df = pd.read_csv(DATA_DIR + \"transactions_train.csv\")\n",
    "#article_df = pd.read_csv(DATA_DIR + \"articles.csv\")\n",
    "#customer_df = pd.read_csv(DATA_DIR + \"customers.csv\")\n",
    "sub_df = pd.read_csv(DATA_DIR + \"sample_submission.csv\")"
   ]
  },
  {
   "cell_type": "code",
   "execution_count": 3,
   "id": "e53b74f3",
   "metadata": {
    "execution": {
     "iopub.execute_input": "2022-02-24T11:07:43.993861Z",
     "iopub.status.busy": "2022-02-24T11:07:43.991882Z",
     "iopub.status.idle": "2022-02-24T11:07:43.995838Z",
     "shell.execute_reply": "2022-02-24T11:07:43.996332Z",
     "shell.execute_reply.started": "2022-02-24T10:12:28.727473Z"
    },
    "papermill": {
     "duration": 0.040967,
     "end_time": "2022-02-24T11:07:43.996494",
     "exception": false,
     "start_time": "2022-02-24T11:07:43.955527",
     "status": "completed"
    },
    "tags": []
   },
   "outputs": [],
   "source": [
    "# https://www.kaggle.com/c/h-and-m-personalized-fashion-recommendations/discussion/306007\n",
    "# https://github.com/benhamner/Metrics/blob/master/Python/ml_metrics/average_precision.py\n",
    "\n",
    "def apk(actual, predicted, k=12):\n",
    "    \"\"\"\n",
    "    Computes the average precision at k.\n",
    "    This function computes the average prescision at k between two lists of\n",
    "    items.\n",
    "    Parameters\n",
    "    ----------\n",
    "    actual : list\n",
    "             A list of elements that are to be predicted (order doesn't matter)\n",
    "    predicted : list\n",
    "                A list of predicted elements (order does matter)\n",
    "    k : int, optional\n",
    "        The maximum number of predicted elements\n",
    "    Returns\n",
    "    -------\n",
    "    score : double\n",
    "            The average precision at k over the input lists\n",
    "    \"\"\"\n",
    "    if len(predicted)>k:\n",
    "        predicted = predicted[:k]\n",
    "        \n",
    "    score = 0.0\n",
    "    num_hits = 0.0\n",
    "\n",
    "    for i,p in enumerate(predicted):\n",
    "        if p in actual and p not in predicted[:i]:\n",
    "            num_hits += 1.0\n",
    "            score += num_hits / (i+1.0)\n",
    "\n",
    "    if not actual:\n",
    "        return 0.0\n",
    "\n",
    "    return score / min(len(actual), k)\n",
    "\n",
    "def mapk(actual, predicted, k=12):\n",
    "    \"\"\"\n",
    "    Computes the mean average precision at k.\n",
    "    This function computes the mean average prescision at k between two lists\n",
    "    of lists of items.\n",
    "    Parameters\n",
    "    ----------\n",
    "    actual : list\n",
    "             A list of lists of elements that are to be predicted \n",
    "             (order doesn't matter in the lists)\n",
    "    predicted : list\n",
    "                A list of lists of predicted elements\n",
    "                (order matters in the lists)\n",
    "    k : int, optional\n",
    "        The maximum number of predicted elements\n",
    "    Returns\n",
    "    -------\n",
    "    score : double\n",
    "            The mean average precision at k over the input lists\n",
    "    \"\"\"\n",
    "    return np.mean([apk(a,p,k) for a,p in zip(actual, predicted)])"
   ]
  },
  {
   "cell_type": "markdown",
   "id": "ae65ce60",
   "metadata": {
    "papermill": {
     "duration": 0.026851,
     "end_time": "2022-02-24T11:07:44.051548",
     "exception": false,
     "start_time": "2022-02-24T11:07:44.024697",
     "status": "completed"
    },
    "tags": []
   },
   "source": [
    "## prepare data"
   ]
  },
  {
   "cell_type": "code",
   "execution_count": 4,
   "id": "275f4888",
   "metadata": {
    "execution": {
     "iopub.execute_input": "2022-02-24T11:07:44.108707Z",
     "iopub.status.busy": "2022-02-24T11:07:44.108052Z",
     "iopub.status.idle": "2022-02-24T11:07:51.021345Z",
     "shell.execute_reply": "2022-02-24T11:07:51.020846Z",
     "shell.execute_reply.started": "2022-02-24T10:12:28.735803Z"
    },
    "papermill": {
     "duration": 6.942684,
     "end_time": "2022-02-24T11:07:51.021488",
     "exception": false,
     "start_time": "2022-02-24T11:07:44.078804",
     "status": "completed"
    },
    "tags": []
   },
   "outputs": [
    {
     "name": "stdout",
     "output_type": "stream",
     "text": [
      "(296305, 3) (133281, 3)\n"
     ]
    }
   ],
   "source": [
    "#start_date = '2020-09-01'\n",
    "#val_start_date = '2020-09-16' #9/16\n",
    "\n",
    "start_date = '2020-09-14'\n",
    "val_start_date = '2020-09-19' #9/16\n",
    "\n",
    "df = df[[\"t_dat\", \"customer_id\", \"article_id\"]]\n",
    "# sample check for small memoery usage\n",
    "df = df.query(f\"t_dat >= '{start_date}'\").reset_index(drop=True)\n",
    "\n",
    "valid_data = df.query(f\"t_dat >= '{val_start_date}'\").reset_index(drop=True)\n",
    "valid_unq = valid_data.groupby('customer_id')['article_id'].apply(list).reset_index()\n",
    "valid_unq['valid_true'] = valid_unq['article_id'].map(lambda x: '0'+' 0'.join(str(x)[1:-1].split(', ')))\n",
    "valid_unq.drop(\"article_id\", axis=1, inplace=True)\n",
    "\n",
    "print(df.shape, valid_data.shape)"
   ]
  },
  {
   "cell_type": "code",
   "execution_count": 5,
   "id": "e119b8c5",
   "metadata": {
    "execution": {
     "iopub.execute_input": "2022-02-24T11:07:51.089813Z",
     "iopub.status.busy": "2022-02-24T11:07:51.088697Z",
     "iopub.status.idle": "2022-02-24T11:07:51.368128Z",
     "shell.execute_reply": "2022-02-24T11:07:51.366904Z",
     "shell.execute_reply.started": "2022-02-24T10:12:32.673152Z"
    },
    "papermill": {
     "duration": 0.316918,
     "end_time": "2022-02-24T11:07:51.368294",
     "exception": false,
     "start_time": "2022-02-24T11:07:51.051376",
     "status": "completed"
    },
    "tags": []
   },
   "outputs": [],
   "source": [
    "def get_count(tp, id):\n",
    "    playcount_groupbyid = tp[[id]].groupby(id, as_index=False)\n",
    "    count = playcount_groupbyid.size()\n",
    "    return count\n",
    "\n",
    "def filter_triplets(df, min_uc=5, min_sc=0):\n",
    "    tp = df.copy()\n",
    "    # Only keep the triplets for items which were clicked on by at least min_sc users. \n",
    "    if min_sc > 0:\n",
    "        itemcount = get_count(tp, 'article_id')\n",
    "        tp = tp[tp['article_id'].isin(itemcount[itemcount[\"size\"] >= min_sc][\"article_id\"])]\n",
    "    \n",
    "    # Only keep the triplets for users who clicked on at least min_uc items\n",
    "    # After doing this, some of the items will have less than min_uc users, but should only be a small proportion\n",
    "    if min_uc > 0:\n",
    "        usercount = get_count(tp, 'customer_id')\n",
    "        tp = tp[tp['customer_id'].isin(usercount[usercount[\"size\"] >= min_uc][\"customer_id\"])]\n",
    "    \n",
    "    # Update both usercount and itemcount after filtering\n",
    "    #usercount, itemcount = get_count(tp, 'customer_id'), get_count(tp, 'article_id') \n",
    "    return tp \n",
    "\n",
    "raw_data = filter_triplets(df)\n",
    "train_data = raw_data.query(f\"t_dat < '{val_start_date}'\").reset_index(drop=True)"
   ]
  },
  {
   "cell_type": "code",
   "execution_count": 6,
   "id": "a2ad1f38",
   "metadata": {
    "execution": {
     "iopub.execute_input": "2022-02-24T11:07:51.449744Z",
     "iopub.status.busy": "2022-02-24T11:07:51.448780Z",
     "iopub.status.idle": "2022-02-24T11:07:51.531063Z",
     "shell.execute_reply": "2022-02-24T11:07:51.530361Z",
     "shell.execute_reply.started": "2022-02-24T10:12:32.874697Z"
    },
    "papermill": {
     "duration": 0.134919,
     "end_time": "2022-02-24T11:07:51.531218",
     "exception": false,
     "start_time": "2022-02-24T11:07:51.396299",
     "status": "completed"
    },
    "tags": []
   },
   "outputs": [],
   "source": [
    "unique_uid = df[\"customer_id\"].unique()\n",
    "\n",
    "unique_sid = df['article_id'].unique()\n",
    "show2id = dict((sid, i) for (i, sid) in enumerate(unique_sid))\n",
    "profile2id = dict((pid, i) for (i, pid) in enumerate(unique_uid))\n",
    "\n",
    "n_users = max(list(profile2id.values())) + 1\n",
    "n_items = max(list(show2id.values())) + 1\n",
    "\n",
    "del df, raw_data, unique_uid, unique_sid"
   ]
  },
  {
   "cell_type": "code",
   "execution_count": 7,
   "id": "b23f76d8",
   "metadata": {
    "execution": {
     "iopub.execute_input": "2022-02-24T11:07:51.590932Z",
     "iopub.status.busy": "2022-02-24T11:07:51.590267Z",
     "iopub.status.idle": "2022-02-24T11:07:51.595334Z",
     "shell.execute_reply": "2022-02-24T11:07:51.595918Z",
     "shell.execute_reply.started": "2022-02-24T10:12:32.966572Z"
    },
    "papermill": {
     "duration": 0.036695,
     "end_time": "2022-02-24T11:07:51.596092",
     "exception": false,
     "start_time": "2022-02-24T11:07:51.559397",
     "status": "completed"
    },
    "tags": []
   },
   "outputs": [],
   "source": [
    "def numerize(tp):\n",
    "    uid = map(lambda x: profile2id[x], tp['customer_id'])\n",
    "    sid = map(lambda x: show2id[x], tp['article_id'])\n",
    "    out = pd.DataFrame(data={'uid': list(uid), 'sid': list(sid)}, columns=['uid', 'sid'])\n",
    "    return out.sort_values(\"uid\").reset_index(drop=True)"
   ]
  },
  {
   "cell_type": "code",
   "execution_count": 8,
   "id": "a950b9ee",
   "metadata": {
    "execution": {
     "iopub.execute_input": "2022-02-24T11:07:51.655189Z",
     "iopub.status.busy": "2022-02-24T11:07:51.654571Z",
     "iopub.status.idle": "2022-02-24T11:07:52.073934Z",
     "shell.execute_reply": "2022-02-24T11:07:52.074410Z",
     "shell.execute_reply.started": "2022-02-24T10:12:32.972000Z"
    },
    "papermill": {
     "duration": 0.450499,
     "end_time": "2022-02-24T11:07:52.074605",
     "exception": false,
     "start_time": "2022-02-24T11:07:51.624106",
     "status": "completed"
    },
    "tags": []
   },
   "outputs": [
    {
     "name": "stdout",
     "output_type": "stream",
     "text": [
      "(90961, 2) (133281, 2)\n"
     ]
    }
   ],
   "source": [
    "train_data = numerize(train_data)\n",
    "valid_data = numerize(valid_data)\n",
    "print(train_data.shape, valid_data.shape)"
   ]
  },
  {
   "cell_type": "markdown",
   "id": "eea5ea34",
   "metadata": {
    "papermill": {
     "duration": 0.028041,
     "end_time": "2022-02-24T11:07:52.130905",
     "exception": false,
     "start_time": "2022-02-24T11:07:52.102864",
     "status": "completed"
    },
    "tags": []
   },
   "source": [
    "# training"
   ]
  },
  {
   "cell_type": "code",
   "execution_count": 9,
   "id": "3a9209ff",
   "metadata": {
    "execution": {
     "iopub.execute_input": "2022-02-24T11:07:52.190637Z",
     "iopub.status.busy": "2022-02-24T11:07:52.189995Z",
     "iopub.status.idle": "2022-02-24T11:07:52.431183Z",
     "shell.execute_reply": "2022-02-24T11:07:52.430607Z",
     "shell.execute_reply.started": "2022-02-24T10:12:33.256001Z"
    },
    "papermill": {
     "duration": 0.272114,
     "end_time": "2022-02-24T11:07:52.431326",
     "exception": false,
     "start_time": "2022-02-24T11:07:52.159212",
     "status": "completed"
    },
    "tags": []
   },
   "outputs": [],
   "source": [
    "# function for training\n",
    "### functions to create the feature-pairs\n",
    "@jit\n",
    "def create_list_feature_pairs(XtX, threshold):\n",
    "    AA= np.triu(np.abs(XtX))\n",
    "    AA[np.diag_indices(AA.shape[0])]=0.0\n",
    "    ii_pairs = np.where((AA>threshold)==True)\n",
    "    return ii_pairs\n",
    "\n",
    "@jit\n",
    "def create_matrix_Z(ii_pairs, X):\n",
    "    MM = np.zeros( (len(ii_pairs[0]), X.shape[1]), dtype=np.float)\n",
    "    MM[np.arange(MM.shape[0]), ii_pairs[0]]=1.0\n",
    "    MM[np.arange(MM.shape[0]), ii_pairs[1]]=1.0\n",
    "    CCmask = 1.0-MM    # see Eq. 8 in the paper\n",
    "    MM=sparse.csc_matrix(MM.T)\n",
    "    Z=  X * MM\n",
    "    Z= (Z == 2.0)\n",
    "    Z=Z*1.0\n",
    "    return [Z, CCmask]\n",
    "\n",
    "### training-function of higher-order model\n",
    "@jit\n",
    "def train_higher(XtX, XtXdiag,lambdaBB, ZtZ, ZtZdiag, lambdaCC, CCmask, ZtX, rho, epochs):\n",
    "    # precompute for BB\n",
    "    ii_diag=np.diag_indices(XtX.shape[0])\n",
    "    XtX[ii_diag] = XtXdiag+lambdaBB\n",
    "    PP=np.linalg.inv(XtX)\n",
    "    # precompute for CC\n",
    "    ii_diag_ZZ=np.diag_indices(ZtZ.shape[0])\n",
    "    ZtZ[ii_diag_ZZ] = ZtZdiag+lambdaCC+rho\n",
    "    #QQ=np.linalg.inv(ZtZ)\n",
    "    # initialize\n",
    "    CC = np.zeros((ZtZ.shape[0], XtX.shape[0]),dtype=np.float32)\n",
    "    DD = np.zeros((ZtZ.shape[0], XtX.shape[0]),dtype=np.float32)\n",
    "    UU = np.zeros((ZtZ.shape[0], XtX.shape[0]),dtype=np.float32) # is Gamma in paper\n",
    "    for iter in range(epochs):\n",
    "        print(\"epoch {}\".format(iter))\n",
    "        # learn BB\n",
    "        XtX[ii_diag] = XtXdiag\n",
    "        BB= PP.dot(XtX-ZtX.T.dot(CC))\n",
    "        # BB = np.linalg.solve(XtX, XtX-ZtX.T.dot(CC))\n",
    "        gamma = np.diag(BB) / np.diag(PP)\n",
    "        BB-= PP * gamma\n",
    "        # learn CC\n",
    "        #CC = QQ.dot(ZtX-ZtX.dot(BB) +rho *(DD-UU))\n",
    "        CC = np.linalg.solve(ZtZ, ZtX-ZtX.dot(BB) + rho * (DD-UU))\n",
    "        # learn DD\n",
    "        DD =  CC  * CCmask \n",
    "        #DD= np.maximum(0.0, DD) # if you want to enforce non-negative parameters\n",
    "        # learn UU (is Gamma in paper)\n",
    "        UU+= CC-DD\n",
    "    return [BB,DD]\n",
    "\n",
    "#### data formation \n",
    "def format_data(tp):\n",
    "    rows, cols = tp['uid'], tp['sid']\n",
    "    data = sparse.csr_matrix((np.ones_like(rows),\n",
    "                             (rows, cols)), dtype='float32',\n",
    "                             shape=(n_users, n_items))\n",
    "    return data"
   ]
  },
  {
   "cell_type": "code",
   "execution_count": 10,
   "id": "94f9b384",
   "metadata": {
    "execution": {
     "iopub.execute_input": "2022-02-24T11:07:52.493147Z",
     "iopub.status.busy": "2022-02-24T11:07:52.492476Z",
     "iopub.status.idle": "2022-02-24T11:07:52.494505Z",
     "shell.execute_reply": "2022-02-24T11:07:52.495001Z",
     "shell.execute_reply.started": "2022-02-24T10:12:33.512730Z"
    },
    "papermill": {
     "duration": 0.035055,
     "end_time": "2022-02-24T11:07:52.495152",
     "exception": false,
     "start_time": "2022-02-24T11:07:52.460097",
     "status": "completed"
    },
    "tags": []
   },
   "outputs": [],
   "source": [
    "### choose the training-hyperparameters\n",
    "epochs = 10\n",
    "threshold, lambdaBB, lambdaCC, rho = 100, 500, 5000, 100000"
   ]
  },
  {
   "cell_type": "code",
   "execution_count": 11,
   "id": "3fec7861",
   "metadata": {
    "execution": {
     "iopub.execute_input": "2022-02-24T11:07:52.554167Z",
     "iopub.status.busy": "2022-02-24T11:07:52.553482Z",
     "iopub.status.idle": "2022-02-24T11:07:53.965243Z",
     "shell.execute_reply": "2022-02-24T11:07:53.964713Z",
     "shell.execute_reply.started": "2022-02-24T10:12:33.521755Z"
    },
    "papermill": {
     "duration": 1.441934,
     "end_time": "2022-02-24T11:07:53.965385",
     "exception": false,
     "start_time": "2022-02-24T11:07:52.523451",
     "status": "completed"
    },
    "tags": []
   },
   "outputs": [],
   "source": [
    "X = format_data(train_data)\n",
    "del train_data\n",
    "\n",
    "XtX=np.array((X.transpose() * X).todense()) \n",
    "XtXdiag=deepcopy(np.diag(XtX))"
   ]
  },
  {
   "cell_type": "code",
   "execution_count": 12,
   "id": "0e4047cf",
   "metadata": {
    "execution": {
     "iopub.execute_input": "2022-02-24T11:07:54.026920Z",
     "iopub.status.busy": "2022-02-24T11:07:54.024609Z",
     "iopub.status.idle": "2022-02-24T11:07:59.795350Z",
     "shell.execute_reply": "2022-02-24T11:07:59.795883Z",
     "shell.execute_reply.started": "2022-02-24T10:12:34.955417Z"
    },
    "papermill": {
     "duration": 5.802184,
     "end_time": "2022-02-24T11:07:59.796061",
     "exception": false,
     "start_time": "2022-02-24T11:07:53.993877",
     "status": "completed"
    },
    "tags": []
   },
   "outputs": [
    {
     "name": "stdout",
     "output_type": "stream",
     "text": [
      "number of feature-pairs: 4\n"
     ]
    }
   ],
   "source": [
    "### create the list of feature-pairs and the higher-order matrix Z\n",
    "XtX[np.diag_indices(XtX.shape[0])]=XtXdiag #if code is re-run, ensure that the diagonal is correct\n",
    "ii_feature_pairs = create_list_feature_pairs(XtX, threshold)\n",
    "print(\"number of feature-pairs: {}\".format(len(ii_feature_pairs[0])))\n",
    "Z, CCmask = create_matrix_Z(ii_feature_pairs, X)"
   ]
  },
  {
   "cell_type": "code",
   "execution_count": 13,
   "id": "e9e8de6c",
   "metadata": {
    "execution": {
     "iopub.execute_input": "2022-02-24T11:07:59.860136Z",
     "iopub.status.busy": "2022-02-24T11:07:59.859484Z",
     "iopub.status.idle": "2022-02-24T11:07:59.864596Z",
     "shell.execute_reply": "2022-02-24T11:07:59.865082Z",
     "shell.execute_reply.started": "2022-02-24T10:12:40.705779Z"
    },
    "papermill": {
     "duration": 0.040208,
     "end_time": "2022-02-24T11:07:59.865256",
     "exception": false,
     "start_time": "2022-02-24T11:07:59.825048",
     "status": "completed"
    },
    "tags": []
   },
   "outputs": [],
   "source": [
    "### create the higher-order matrices\n",
    "ZtZ=np.array((Z.transpose() * Z).todense()) \n",
    "ZtX=np.array((Z.transpose() * X).todense()) \n",
    "ZtZdiag=deepcopy(np.diag(ZtZ))\n",
    "del X, Z"
   ]
  },
  {
   "cell_type": "code",
   "execution_count": 14,
   "id": "af07db85",
   "metadata": {
    "execution": {
     "iopub.execute_input": "2022-02-24T11:07:59.926488Z",
     "iopub.status.busy": "2022-02-24T11:07:59.925842Z",
     "iopub.status.idle": "2022-02-24T11:49:41.814136Z",
     "shell.execute_reply": "2022-02-24T11:49:41.815677Z",
     "shell.execute_reply.started": "2022-02-24T10:12:40.717569Z"
    },
    "papermill": {
     "duration": 2501.922012,
     "end_time": "2022-02-24T11:49:41.816137",
     "exception": false,
     "start_time": "2022-02-24T11:07:59.894125",
     "status": "completed"
    },
    "tags": []
   },
   "outputs": [
    {
     "name": "stdout",
     "output_type": "stream",
     "text": [
      "epoch 0\n",
      "epoch 1\n",
      "epoch 2\n",
      "epoch 3\n",
      "epoch 4\n",
      "epoch 5\n",
      "epoch 6\n",
      "epoch 7\n",
      "epoch 8\n",
      "epoch 9\n"
     ]
    }
   ],
   "source": [
    "### iterative training, and evaluation every 10 epochs \n",
    "BB, CC = train_higher(XtX, XtXdiag, lambdaBB, ZtZ, ZtZdiag, lambdaCC, CCmask, ZtX, rho, epochs)"
   ]
  },
  {
   "cell_type": "code",
   "execution_count": 15,
   "id": "fab99324",
   "metadata": {
    "execution": {
     "iopub.execute_input": "2022-02-24T11:49:41.935213Z",
     "iopub.status.busy": "2022-02-24T11:49:41.934550Z",
     "iopub.status.idle": "2022-02-24T11:49:41.937686Z",
     "shell.execute_reply": "2022-02-24T11:49:41.937159Z",
     "shell.execute_reply.started": "2022-02-24T10:50:25.094843Z"
    },
    "papermill": {
     "duration": 0.064125,
     "end_time": "2022-02-24T11:49:41.937828",
     "exception": false,
     "start_time": "2022-02-24T11:49:41.873703",
     "status": "completed"
    },
    "tags": []
   },
   "outputs": [],
   "source": [
    "del ZtZ, ZtX, ZtZdiag"
   ]
  },
  {
   "cell_type": "code",
   "execution_count": 16,
   "id": "3af48206",
   "metadata": {
    "execution": {
     "iopub.execute_input": "2022-02-24T11:49:42.014612Z",
     "iopub.status.busy": "2022-02-24T11:49:42.010995Z",
     "iopub.status.idle": "2022-02-24T11:49:42.016465Z",
     "shell.execute_reply": "2022-02-24T11:49:42.017035Z",
     "shell.execute_reply.started": "2022-02-24T10:50:25.111627Z"
    },
    "papermill": {
     "duration": 0.046064,
     "end_time": "2022-02-24T11:49:42.017195",
     "exception": false,
     "start_time": "2022-02-24T11:49:41.971131",
     "status": "completed"
    },
    "tags": []
   },
   "outputs": [],
   "source": [
    "### evaluation-function of higher-order model\n",
    "def pred_func(BB,CC,test_data_tr, Z_test_data_tr, N_test, idxlist, batch_size_test=5000):\n",
    "    print(\"Evaluating ...\")\n",
    "    #evaluate in batches\n",
    "    for bnum, st_idx in tqdm(enumerate(range(0, N_test, batch_size_test))):\n",
    "        end_idx = min(st_idx + batch_size_test, N_test)\n",
    "        Xtest = test_data_tr[idxlist[st_idx:end_idx]]\n",
    "        Ztest = Z_test_data_tr[idxlist[st_idx:end_idx]]\n",
    "        if sparse.isspmatrix(Xtest):\n",
    "            Xtest = Xtest.toarray()\n",
    "            Ztest = Ztest.toarray()\n",
    "        Xtest = Xtest.astype('float32')\n",
    "        Ztest = Ztest.astype('float32')\n",
    "        pred_val = (Xtest).dot(BB) + Ztest.dot(CC)\n",
    "        #pred_val[Xtest.nonzero()] = -np.inf # exclude examples from training and validation (if any)\n",
    "        pred_val = np.argpartition(pred_val, -12)[:,-12:]\n",
    "        if bnum == 0:\n",
    "            ans = pred_val\n",
    "        else:\n",
    "            ans = np.concatenate((ans,pred_val), axis=0)\n",
    "    return ans"
   ]
  },
  {
   "cell_type": "code",
   "execution_count": 17,
   "id": "ef171bd9",
   "metadata": {
    "execution": {
     "iopub.execute_input": "2022-02-24T11:49:42.085627Z",
     "iopub.status.busy": "2022-02-24T11:49:42.084960Z",
     "iopub.status.idle": "2022-02-24T11:49:42.116067Z",
     "shell.execute_reply": "2022-02-24T11:49:42.116692Z",
     "shell.execute_reply.started": "2022-02-24T10:50:25.132647Z"
    },
    "papermill": {
     "duration": 0.066742,
     "end_time": "2022-02-24T11:49:42.116850",
     "exception": false,
     "start_time": "2022-02-24T11:49:42.050108",
     "status": "completed"
    },
    "tags": []
   },
   "outputs": [],
   "source": [
    "X_valid = format_data(valid_data)\n",
    "Z_val_data , _ = create_matrix_Z(ii_feature_pairs, X_valid)\n",
    "N_valid = X_valid.shape[0]\n",
    "idxlist = range(N_valid)"
   ]
  },
  {
   "cell_type": "markdown",
   "id": "b5f883f2",
   "metadata": {
    "papermill": {
     "duration": 0.031498,
     "end_time": "2022-02-24T11:49:42.180624",
     "exception": false,
     "start_time": "2022-02-24T11:49:42.149126",
     "status": "completed"
    },
    "tags": []
   },
   "source": [
    "# prediction"
   ]
  },
  {
   "cell_type": "code",
   "execution_count": 18,
   "id": "1e019aba",
   "metadata": {
    "execution": {
     "iopub.execute_input": "2022-02-24T11:49:42.246294Z",
     "iopub.status.busy": "2022-02-24T11:49:42.245713Z",
     "iopub.status.idle": "2022-02-24T11:49:42.299677Z",
     "shell.execute_reply": "2022-02-24T11:49:42.300189Z",
     "shell.execute_reply.started": "2022-02-24T10:50:25.193963Z"
    },
    "papermill": {
     "duration": 0.088885,
     "end_time": "2022-02-24T11:49:42.300364",
     "exception": false,
     "start_time": "2022-02-24T11:49:42.211479",
     "status": "completed"
    },
    "tags": []
   },
   "outputs": [],
   "source": [
    "id2show = dict((v,\"0\"+str(k)) for k,v in show2id.items())\n",
    "id2profile = dict((v,k) for k,v in profile2id.items())\n",
    "\n",
    "sample_value = sub_df[\"prediction\"][0]"
   ]
  },
  {
   "cell_type": "code",
   "execution_count": 19,
   "id": "5da37299",
   "metadata": {
    "execution": {
     "iopub.execute_input": "2022-02-24T11:49:42.369961Z",
     "iopub.status.busy": "2022-02-24T11:49:42.369356Z",
     "iopub.status.idle": "2022-02-24T12:05:29.965626Z",
     "shell.execute_reply": "2022-02-24T12:05:29.963858Z",
     "shell.execute_reply.started": "2022-02-24T10:50:25.284338Z"
    },
    "papermill": {
     "duration": 947.633338,
     "end_time": "2022-02-24T12:05:29.965871",
     "exception": false,
     "start_time": "2022-02-24T11:49:42.332533",
     "status": "completed"
    },
    "tags": []
   },
   "outputs": [
    {
     "name": "stdout",
     "output_type": "stream",
     "text": [
      "Evaluating ...\n"
     ]
    },
    {
     "name": "stderr",
     "output_type": "stream",
     "text": [
      "17it [15:47, 55.74s/it]\n"
     ]
    }
   ],
   "source": [
    "pred = pred_func(BB,CC, X_valid, Z_val_data, N_valid, idxlist)"
   ]
  },
  {
   "cell_type": "code",
   "execution_count": 20,
   "id": "c2cb93d3",
   "metadata": {
    "execution": {
     "iopub.execute_input": "2022-02-24T12:05:30.048259Z",
     "iopub.status.busy": "2022-02-24T12:05:30.047586Z",
     "iopub.status.idle": "2022-02-24T12:05:30.550845Z",
     "shell.execute_reply": "2022-02-24T12:05:30.550301Z",
     "shell.execute_reply.started": "2022-02-24T11:04:45.601736Z"
    },
    "papermill": {
     "duration": 0.544666,
     "end_time": "2022-02-24T12:05:30.550990",
     "exception": false,
     "start_time": "2022-02-24T12:05:30.006324",
     "status": "completed"
    },
    "tags": []
   },
   "outputs": [],
   "source": [
    "# https://stackoverflow.com/questions/16992713/translate-every-element-in-numpy-array-according-to-key\n",
    "# indexから商品idに変換\n",
    "pred = np.vectorize(id2show.get)(pred)\n",
    "pred = pd.DataFrame(pred)"
   ]
  },
  {
   "cell_type": "code",
   "execution_count": 21,
   "id": "41ed0dff",
   "metadata": {
    "execution": {
     "iopub.execute_input": "2022-02-24T12:05:30.641758Z",
     "iopub.status.busy": "2022-02-24T12:05:30.641177Z",
     "iopub.status.idle": "2022-02-24T12:05:32.608017Z",
     "shell.execute_reply": "2022-02-24T12:05:32.607357Z",
     "shell.execute_reply.started": "2022-02-24T11:04:45.993967Z"
    },
    "papermill": {
     "duration": 2.018206,
     "end_time": "2022-02-24T12:05:32.608152",
     "exception": false,
     "start_time": "2022-02-24T12:05:30.589946",
     "status": "completed"
    },
    "tags": []
   },
   "outputs": [],
   "source": [
    "cols = pred.columns\n",
    "pred['prediction'] = pred[cols].apply(lambda row: ' '.join(row.values.astype(str)), axis=1)\n",
    "pred = pred.drop(cols, axis=1).reset_index(drop=False)\n",
    "pred.columns = [\"customer_id\", \"prediction\"]\n",
    "pred[\"customer_id\"] = pred[\"customer_id\"].map(id2profile)"
   ]
  },
  {
   "cell_type": "code",
   "execution_count": 22,
   "id": "33d6c818",
   "metadata": {
    "execution": {
     "iopub.execute_input": "2022-02-24T12:05:32.694523Z",
     "iopub.status.busy": "2022-02-24T12:05:32.693865Z",
     "iopub.status.idle": "2022-02-24T12:05:46.546329Z",
     "shell.execute_reply": "2022-02-24T12:05:46.546932Z",
     "shell.execute_reply.started": "2022-02-24T11:04:47.444145Z"
    },
    "papermill": {
     "duration": 13.899428,
     "end_time": "2022-02-24T12:05:46.547104",
     "exception": false,
     "start_time": "2022-02-24T12:05:32.647676",
     "status": "completed"
    },
    "tags": []
   },
   "outputs": [],
   "source": [
    "sub_df = pd.merge(sub_df[\"customer_id\"], pred, on = \"customer_id\", how=\"left\")\n",
    "sub_df[\"prediction\"].fillna(sample_value, inplace=True)\n",
    "sub_df.to_csv(\"submission.csv\", index=False)"
   ]
  },
  {
   "cell_type": "code",
   "execution_count": 23,
   "id": "afb3d524",
   "metadata": {
    "execution": {
     "iopub.execute_input": "2022-02-24T12:05:46.631405Z",
     "iopub.status.busy": "2022-02-24T12:05:46.628042Z",
     "iopub.status.idle": "2022-02-24T12:05:47.413716Z",
     "shell.execute_reply": "2022-02-24T12:05:47.414226Z",
     "shell.execute_reply.started": "2022-02-24T11:04:55.337011Z"
    },
    "papermill": {
     "duration": 0.827963,
     "end_time": "2022-02-24T12:05:47.414388",
     "exception": false,
     "start_time": "2022-02-24T12:05:46.586425",
     "status": "completed"
    },
    "tags": []
   },
   "outputs": [
    {
     "data": {
      "text/plain": [
       "0.01744750141828405"
      ]
     },
     "execution_count": 23,
     "metadata": {},
     "output_type": "execute_result"
    }
   ],
   "source": [
    "# local score\n",
    "valid_unq = pd.merge(valid_unq, pred, on =\"customer_id\", how=\"left\")\n",
    "mapk(valid_unq['valid_true'].map(lambda x: x.split()), valid_unq['prediction'].map(lambda x: x.split()), k=12)"
   ]
  },
  {
   "cell_type": "code",
   "execution_count": null,
   "id": "fc41b98b",
   "metadata": {
    "papermill": {
     "duration": 0.038991,
     "end_time": "2022-02-24T12:05:47.493053",
     "exception": false,
     "start_time": "2022-02-24T12:05:47.454062",
     "status": "completed"
    },
    "tags": []
   },
   "outputs": [],
   "source": []
  }
 ],
 "metadata": {
  "kernelspec": {
   "display_name": "Python 3",
   "language": "python",
   "name": "python3"
  },
  "language_info": {
   "codemirror_mode": {
    "name": "ipython",
    "version": 3
   },
   "file_extension": ".py",
   "mimetype": "text/x-python",
   "name": "python",
   "nbconvert_exporter": "python",
   "pygments_lexer": "ipython3",
   "version": "3.7.12"
  },
  "papermill": {
   "default_parameters": {},
   "duration": 3571.368151,
   "end_time": "2022-02-24T12:05:48.553794",
   "environment_variables": {},
   "exception": null,
   "input_path": "__notebook__.ipynb",
   "output_path": "__notebook__.ipynb",
   "parameters": {},
   "start_time": "2022-02-24T11:06:17.185643",
   "version": "2.3.3"
  }
 },
 "nbformat": 4,
 "nbformat_minor": 5
}
