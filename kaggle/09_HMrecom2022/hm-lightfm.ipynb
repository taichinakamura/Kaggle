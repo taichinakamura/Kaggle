{
 "cells": [
  {
   "cell_type": "markdown",
   "id": "232a74bf",
   "metadata": {
    "papermill": {
     "duration": 0.021837,
     "end_time": "2022-04-03T02:24:25.121677",
     "exception": false,
     "start_time": "2022-04-03T02:24:25.099840",
     "status": "completed"
    },
    "tags": []
   },
   "source": [
    "- https://making.lyst.com/lightfm/docs/lightfm.html\n",
    "- modify mistake in valid label\n",
    "- consider item, user features"
   ]
  },
  {
   "cell_type": "code",
   "execution_count": 1,
   "id": "29baa64d",
   "metadata": {
    "execution": {
     "iopub.execute_input": "2022-04-03T02:24:25.168117Z",
     "iopub.status.busy": "2022-04-03T02:24:25.166929Z",
     "iopub.status.idle": "2022-04-03T02:24:26.333293Z",
     "shell.execute_reply": "2022-04-03T02:24:26.332491Z",
     "shell.execute_reply.started": "2022-04-03T02:21:36.535528Z"
    },
    "papermill": {
     "duration": 1.191171,
     "end_time": "2022-04-03T02:24:26.333604",
     "exception": false,
     "start_time": "2022-04-03T02:24:25.142433",
     "status": "completed"
    },
    "tags": []
   },
   "outputs": [],
   "source": [
    "import os\n",
    "import tqdm\n",
    "\n",
    "import numpy as np\n",
    "import pandas as pd\n",
    "from lightfm import LightFM\n",
    "from lightfm.data import Dataset\n",
    "from sklearn import preprocessing\n",
    "\n",
    "import itertools\n",
    "from multiprocessing import Pool\n",
    "\n",
    "SEED = 42\n",
    "np.random.seed(SEED)\n",
    "os.environ['PYTHONHASHSEED'] = str(SEED)\n",
    "\n",
    "VALID = True"
   ]
  },
  {
   "cell_type": "code",
   "execution_count": 2,
   "id": "8d75ea1d",
   "metadata": {
    "execution": {
     "iopub.execute_input": "2022-04-03T02:24:26.387491Z",
     "iopub.status.busy": "2022-04-03T02:24:26.386680Z",
     "iopub.status.idle": "2022-04-03T02:24:26.388178Z",
     "shell.execute_reply": "2022-04-03T02:24:26.388664Z",
     "shell.execute_reply.started": "2022-04-03T02:21:39.765191Z"
    },
    "papermill": {
     "duration": 0.032632,
     "end_time": "2022-04-03T02:24:26.388865",
     "exception": false,
     "start_time": "2022-04-03T02:24:26.356233",
     "status": "completed"
    },
    "tags": []
   },
   "outputs": [],
   "source": [
    "def apk(actual, predicted, k=12):\n",
    "    if len(predicted)>k:\n",
    "        predicted = predicted[:k]\n",
    "        \n",
    "    score = 0.0\n",
    "    num_hits = 0.0\n",
    "    \n",
    "    for i,p in enumerate(predicted):\n",
    "        if p in actual and p not in predicted[:i]:\n",
    "            num_hits += 1.0\n",
    "            score += num_hits / (i+1.0)\n",
    "\n",
    "    if not actual:\n",
    "        return 0.0\n",
    "\n",
    "    return score / min(len(actual), k)\n",
    "\n",
    "\n",
    "def mapk(actual, predicted, k=12):\n",
    "    \"\"\"\n",
    "    Computes the mean average precision at k.\n",
    "    This function computes the mean average prescision at k between two lists\n",
    "    of lists of items.\n",
    "    Parameters\n",
    "    ----------\n",
    "    actual : list\n",
    "             A list of lists of elements that are to be predicted \n",
    "             (order doesn't matter in the lists)\n",
    "    predicted : list\n",
    "                A list of lists of predicted elements\n",
    "                (order matters in the lists)\n",
    "    k : int, optional\n",
    "        The maximum number of predicted elements\n",
    "    Returns\n",
    "    -------\n",
    "    score : double\n",
    "            The mean average precision at k over the input lists\n",
    "    \"\"\"\n",
    "    return np.mean([apk(a,p,k) for a,p in zip(actual, predicted)])"
   ]
  },
  {
   "cell_type": "markdown",
   "id": "ef0f6e8e",
   "metadata": {
    "papermill": {
     "duration": 0.020696,
     "end_time": "2022-04-03T02:24:26.430759",
     "exception": false,
     "start_time": "2022-04-03T02:24:26.410063",
     "status": "completed"
    },
    "tags": []
   },
   "source": [
    "## Configs"
   ]
  },
  {
   "cell_type": "code",
   "execution_count": 3,
   "id": "fd72887b",
   "metadata": {
    "execution": {
     "iopub.execute_input": "2022-04-03T02:24:26.476634Z",
     "iopub.status.busy": "2022-04-03T02:24:26.475846Z",
     "iopub.status.idle": "2022-04-03T02:24:26.479972Z",
     "shell.execute_reply": "2022-04-03T02:24:26.480629Z",
     "shell.execute_reply.started": "2022-04-03T02:21:41.365854Z"
    },
    "papermill": {
     "duration": 0.02897,
     "end_time": "2022-04-03T02:24:26.480831",
     "exception": false,
     "start_time": "2022-04-03T02:24:26.451861",
     "status": "completed"
    },
    "tags": []
   },
   "outputs": [],
   "source": [
    "# default number of recommendations\n",
    "K = 12\n",
    "EPOCHS = 50\n",
    "\n",
    "# model learning rate\n",
    "LEARNING_RATE = 0.25\n",
    "# no of latent factors\n",
    "NO_COMPONENTS = 20\n",
    "\n",
    "# no of threads to fit model\n",
    "NO_THREADS = 32\n",
    "# regularisation for both user and item features\n",
    "ITEM_ALPHA=1e-6\n",
    "USER_ALPHA=1e-6\n",
    "\n",
    "# for multiprocssing of final predictions\n",
    "num_cores=4"
   ]
  },
  {
   "cell_type": "markdown",
   "id": "2469d2ca",
   "metadata": {
    "papermill": {
     "duration": 0.021109,
     "end_time": "2022-04-03T02:24:26.523292",
     "exception": false,
     "start_time": "2022-04-03T02:24:26.502183",
     "status": "completed"
    },
    "tags": []
   },
   "source": [
    "## Load the data"
   ]
  },
  {
   "cell_type": "code",
   "execution_count": 4,
   "id": "f3d600eb",
   "metadata": {
    "execution": {
     "iopub.execute_input": "2022-04-03T02:24:26.575672Z",
     "iopub.status.busy": "2022-04-03T02:24:26.574832Z",
     "iopub.status.idle": "2022-04-03T02:25:58.972327Z",
     "shell.execute_reply": "2022-04-03T02:25:58.971572Z",
     "shell.execute_reply.started": "2022-04-03T02:21:44.624797Z"
    },
    "papermill": {
     "duration": 92.427604,
     "end_time": "2022-04-03T02:25:58.972544",
     "exception": false,
     "start_time": "2022-04-03T02:24:26.544940",
     "status": "completed"
    },
    "tags": []
   },
   "outputs": [],
   "source": [
    "main_dir = \"../input/h-and-m-personalized-fashion-recommendations\"\n",
    "images_dir = main_dir+\"/images/\" \n",
    "customers = pd.read_csv(main_dir+\"/customers.csv\")\n",
    "articles = pd.read_csv(main_dir+\"/articles.csv\", dtype={'article_id': str})\n",
    "sample_submission = pd.read_csv(main_dir+\"/sample_submission.csv\", dtype={'article_id': str})\n",
    "\n",
    "train = pd.read_csv(main_dir+'/transactions_train.csv',  dtype={'article_id': str}, parse_dates=['t_dat'])\n",
    "customers.fillna(-1, inplace=True)"
   ]
  },
  {
   "cell_type": "markdown",
   "id": "b18d9bb6",
   "metadata": {
    "papermill": {
     "duration": 0.020386,
     "end_time": "2022-04-03T02:25:59.014466",
     "exception": false,
     "start_time": "2022-04-03T02:25:58.994080",
     "status": "completed"
    },
    "tags": []
   },
   "source": [
    "## dataset"
   ]
  },
  {
   "cell_type": "code",
   "execution_count": 5,
   "id": "c20b6a19",
   "metadata": {
    "execution": {
     "iopub.execute_input": "2022-04-03T02:25:59.068229Z",
     "iopub.status.busy": "2022-04-03T02:25:59.067444Z",
     "iopub.status.idle": "2022-04-03T02:25:59.097646Z",
     "shell.execute_reply": "2022-04-03T02:25:59.096986Z",
     "shell.execute_reply.started": "2022-04-03T02:23:14.183300Z"
    },
    "papermill": {
     "duration": 0.061516,
     "end_time": "2022-04-03T02:25:59.097819",
     "exception": false,
     "start_time": "2022-04-03T02:25:59.036303",
     "status": "completed"
    },
    "tags": []
   },
   "outputs": [],
   "source": [
    "# item\n",
    "article_columns = [i for i in articles.columns if \"int\" in str(articles[i].dtype)]\n",
    "articles = articles[['article_id'] + article_columns]"
   ]
  },
  {
   "cell_type": "code",
   "execution_count": 6,
   "id": "2089e7b5",
   "metadata": {
    "execution": {
     "iopub.execute_input": "2022-04-03T02:25:59.510545Z",
     "iopub.status.busy": "2022-04-03T02:25:59.509849Z",
     "iopub.status.idle": "2022-04-03T02:26:12.763567Z",
     "shell.execute_reply": "2022-04-03T02:26:12.764093Z"
    },
    "papermill": {
     "duration": 13.64577,
     "end_time": "2022-04-03T02:26:12.764378",
     "exception": false,
     "start_time": "2022-04-03T02:25:59.118608",
     "status": "completed"
    },
    "tags": []
   },
   "outputs": [],
   "source": [
    "# user\n",
    "user_columns = ['FN', 'Active', 'club_member_status', 'fashion_news_frequency', 'postal_code']\n",
    "for feat in user_columns:\n",
    "    lbl = preprocessing.LabelEncoder()\n",
    "    lbl.fit(list(customers[feat]))\n",
    "    customers[feat] = lbl.transform(list(customers[feat]))"
   ]
  },
  {
   "cell_type": "code",
   "execution_count": 7,
   "id": "60f77643",
   "metadata": {
    "execution": {
     "iopub.execute_input": "2022-04-03T02:26:12.867401Z",
     "iopub.status.busy": "2022-04-03T02:26:12.862472Z",
     "iopub.status.idle": "2022-04-03T02:26:14.645124Z",
     "shell.execute_reply": "2022-04-03T02:26:14.645647Z"
    },
    "papermill": {
     "duration": 1.860367,
     "end_time": "2022-04-03T02:26:14.645851",
     "exception": false,
     "start_time": "2022-04-03T02:26:12.785484",
     "status": "completed"
    },
    "tags": []
   },
   "outputs": [
    {
     "name": "stdout",
     "output_type": "stream",
     "text": [
      "Number of users: 1371980, Number of topics: 105542.\n"
     ]
    }
   ],
   "source": [
    "dataset = Dataset()\n",
    "dataset.fit(users=customers['customer_id'], \n",
    "            items=articles['article_id'],\n",
    "            user_features = user_columns,\n",
    "            item_features = article_columns) \n",
    "\n",
    "num_users, num_topics = dataset.interactions_shape()\n",
    "print(f'Number of users: {num_users}, Number of topics: {num_topics}.')"
   ]
  },
  {
   "cell_type": "code",
   "execution_count": 8,
   "id": "4e7afde3",
   "metadata": {
    "execution": {
     "iopub.execute_input": "2022-04-03T02:26:14.722768Z",
     "iopub.status.busy": "2022-04-03T02:26:14.722001Z",
     "iopub.status.idle": "2022-04-03T02:26:22.182992Z",
     "shell.execute_reply": "2022-04-03T02:26:22.182373Z"
    },
    "papermill": {
     "duration": 7.507465,
     "end_time": "2022-04-03T02:26:22.183186",
     "exception": false,
     "start_time": "2022-04-03T02:26:14.675721",
     "status": "completed"
    },
    "tags": []
   },
   "outputs": [
    {
     "name": "stderr",
     "output_type": "stream",
     "text": [
      "/opt/conda/lib/python3.7/site-packages/ipykernel_launcher.py:4: FutureWarning: Series.dt.weekofyear and Series.dt.week have been deprecated.  Please use Series.dt.isocalendar().week instead.\n",
      "  after removing the cwd from sys.path.\n"
     ]
    }
   ],
   "source": [
    "train[\"t_dat\"] = pd.to_datetime(train[\"t_dat\"])\n",
    "\n",
    "date_week_df = train.drop_duplicates(\"t_dat\")[[\"t_dat\"]].reset_index(drop=True)\n",
    "date_week_df['week_no'] = (date_week_df['t_dat'] + pd.DateOffset(days=5)).dt.week\n",
    "date_week_df[\"week_no\"] = date_week_df[\"week_no\"].diff(1)\n",
    "date_week_df[\"week_no\"].fillna(0, inplace=True)\n",
    "date_week_df[\"week_no\"] = date_week_df[\"week_no\"] != 0\n",
    "date_week_df[\"week_no\"] = date_week_df[\"week_no\"].cumsum()\n",
    "\n",
    "train = pd.merge(train, date_week_df, on=\"t_dat\", how=\"left\")\n",
    "test_week = train.week_no.max()\n",
    "\n",
    "del date_week_df"
   ]
  },
  {
   "cell_type": "code",
   "execution_count": 9,
   "id": "382b407a",
   "metadata": {
    "execution": {
     "iopub.execute_input": "2022-04-03T02:26:22.253037Z",
     "iopub.status.busy": "2022-04-03T02:26:22.230886Z",
     "iopub.status.idle": "2022-04-03T02:32:43.249798Z",
     "shell.execute_reply": "2022-04-03T02:32:43.250662Z"
    },
    "papermill": {
     "duration": 381.045812,
     "end_time": "2022-04-03T02:32:43.251168",
     "exception": false,
     "start_time": "2022-04-03T02:26:22.205356",
     "status": "completed"
    },
    "tags": []
   },
   "outputs": [
    {
     "name": "stdout",
     "output_type": "stream",
     "text": [
      "(1371980, 105542) (1371980, 105542)\n"
     ]
    }
   ],
   "source": [
    "train_set = train[train.week_no < test_week]\n",
    "val_set = train[train.week_no == test_week]\n",
    "\n",
    "(interactions, weights) = dataset.build_interactions(train_set.iloc[:, 1:3].values)\n",
    "(val_interactions, val_weights) = dataset.build_interactions(val_set.iloc[:, 1:3].values)\n",
    "dataset.build_item_features(((articles.iloc[index][\"article_id\"], article_columns) for index in range(articles.shape[0])))\n",
    "dataset.build_user_features(((customers.iloc[index][\"customer_id\"], user_columns) for index in range(customers.shape[0])))\n",
    "\n",
    "print(interactions.shape, val_interactions.shape)\n",
    "del train"
   ]
  },
  {
   "cell_type": "code",
   "execution_count": 10,
   "id": "ea957945",
   "metadata": {
    "execution": {
     "iopub.execute_input": "2022-04-03T02:32:43.308700Z",
     "iopub.status.busy": "2022-04-03T02:32:43.307987Z",
     "iopub.status.idle": "2022-04-03T02:33:04.051108Z",
     "shell.execute_reply": "2022-04-03T02:33:04.050460Z"
    },
    "papermill": {
     "duration": 20.775702,
     "end_time": "2022-04-03T02:33:04.051340",
     "exception": false,
     "start_time": "2022-04-03T02:32:43.275638",
     "status": "completed"
    },
    "tags": []
   },
   "outputs": [],
   "source": [
    "valid = val_set.groupby('customer_id')['article_id'].apply(list).reset_index()\n",
    "valid = valid.rename({'article_id':'prediction'},axis=1)\n",
    "valid['prediction'] = valid.prediction.apply(lambda x: ' '.join([str(k) for k in x]))\n",
    "\n",
    "inactive_users = list(set(train_set.customer_id) - set(train_set[train_set.week_no > test_week - 10][\"customer_id\"]))\n",
    "cold_users = list(set(valid.customer_id) - set(train_set.customer_id))\n",
    "del train_set, val_set"
   ]
  },
  {
   "cell_type": "markdown",
   "id": "bebf2018",
   "metadata": {
    "papermill": {
     "duration": 0.022474,
     "end_time": "2022-04-03T02:33:04.096920",
     "exception": false,
     "start_time": "2022-04-03T02:33:04.074446",
     "status": "completed"
    },
    "tags": []
   },
   "source": [
    "# fitting"
   ]
  },
  {
   "cell_type": "code",
   "execution_count": 11,
   "id": "3a8cf035",
   "metadata": {
    "execution": {
     "iopub.execute_input": "2022-04-03T02:33:04.150191Z",
     "iopub.status.busy": "2022-04-03T02:33:04.149441Z",
     "iopub.status.idle": "2022-04-03T03:04:28.703357Z",
     "shell.execute_reply": "2022-04-03T03:04:28.699032Z"
    },
    "papermill": {
     "duration": 1884.583629,
     "end_time": "2022-04-03T03:04:28.703545",
     "exception": false,
     "start_time": "2022-04-03T02:33:04.119916",
     "status": "completed"
    },
    "tags": []
   },
   "outputs": [
    {
     "name": "stderr",
     "output_type": "stream",
     "text": [
      "Epoch: 100%|██████████| 50/50 [31:23<00:00, 37.68s/it]\n"
     ]
    },
    {
     "data": {
      "text/plain": [
       "<lightfm.lightfm.LightFM at 0x7f853883e9d0>"
      ]
     },
     "execution_count": 11,
     "metadata": {},
     "output_type": "execute_result"
    }
   ],
   "source": [
    "model = LightFM(loss='bpr', \n",
    "                no_components=NO_COMPONENTS, \n",
    "                learning_rate=LEARNING_RATE,                 \n",
    "                random_state=np.random.RandomState(SEED),\n",
    "                #user_alpha=USER_ALPHA,\n",
    "                #item_alpha=ITEM_ALPHA\n",
    "               )\n",
    "model.fit(interactions=interactions, epochs=EPOCHS, verbose=1, num_threads=NO_THREADS)"
   ]
  },
  {
   "cell_type": "code",
   "execution_count": 12,
   "id": "d4e1bf39",
   "metadata": {
    "execution": {
     "iopub.execute_input": "2022-04-03T03:04:28.795007Z",
     "iopub.status.busy": "2022-04-03T03:04:28.794314Z",
     "iopub.status.idle": "2022-04-03T03:04:28.797389Z",
     "shell.execute_reply": "2022-04-03T03:04:28.796874Z"
    },
    "papermill": {
     "duration": 0.050859,
     "end_time": "2022-04-03T03:04:28.797532",
     "exception": false,
     "start_time": "2022-04-03T03:04:28.746673",
     "status": "completed"
    },
    "tags": []
   },
   "outputs": [],
   "source": [
    "#Load Trained Model\n",
    "\n",
    "#!pip3 install pickle5\n",
    "#import pickle5 as pickle\n",
    "#with open('../input/lightfm1/lightFM1.pickle', \"rb\") as fh:\n",
    "#    trained_model = pickle.load(fh)"
   ]
  },
  {
   "cell_type": "markdown",
   "id": "6de79685",
   "metadata": {
    "papermill": {
     "duration": 0.042258,
     "end_time": "2022-04-03T03:04:28.881760",
     "exception": false,
     "start_time": "2022-04-03T03:04:28.839502",
     "status": "completed"
    },
    "tags": []
   },
   "source": [
    "# Submission"
   ]
  },
  {
   "cell_type": "code",
   "execution_count": 13,
   "id": "e95a1fd6",
   "metadata": {
    "execution": {
     "iopub.execute_input": "2022-04-03T03:04:28.999753Z",
     "iopub.status.busy": "2022-04-03T03:04:28.998994Z",
     "iopub.status.idle": "2022-04-03T03:04:29.331356Z",
     "shell.execute_reply": "2022-04-03T03:04:29.330548Z"
    },
    "papermill": {
     "duration": 0.406809,
     "end_time": "2022-04-03T03:04:29.331531",
     "exception": false,
     "start_time": "2022-04-03T03:04:28.924722",
     "status": "completed"
    },
    "tags": []
   },
   "outputs": [
    {
     "name": "stdout",
     "output_type": "stream",
     "text": [
      "68984\n"
     ]
    }
   ],
   "source": [
    "#Get the mappings\n",
    "'''\n",
    "uid = mapping from customer_id to model equivalent user_id\n",
    "iid = mapping from article_id to  model equivalent article_id\n",
    "'''\n",
    "uid_map, ufeature_map, iid_map, ifeature_map = dataset.mapping() \n",
    "'''\n",
    "create inverse mappings\n",
    "'''\n",
    "inv_uid_map = {v:k for k, v in uid_map.items()}\n",
    "inv_iid_map = {v:k for k, v in iid_map.items()}\n",
    "\n",
    "#convert submission user_id and article_id to model equivalent user_id and article_id\n",
    "\n",
    "if VALID:\n",
    "    test_X = valid.customer_id.values\n",
    "else:\n",
    "    test_X = sample_submission.customer_id.values    \n",
    "\n",
    "lfn_user = lambda x: uid_map[x]\n",
    "test_X_m = [lfn_user(tx) for tx in test_X]\n",
    "\n",
    "print(len(test_X_m))"
   ]
  },
  {
   "cell_type": "code",
   "execution_count": 14,
   "id": "b613feb9",
   "metadata": {
    "execution": {
     "iopub.execute_input": "2022-04-03T03:04:29.858431Z",
     "iopub.status.busy": "2022-04-03T03:04:29.857583Z",
     "iopub.status.idle": "2022-04-03T03:04:29.861466Z",
     "shell.execute_reply": "2022-04-03T03:04:29.860891Z"
    },
    "papermill": {
     "duration": 0.486341,
     "end_time": "2022-04-03T03:04:29.861620",
     "exception": false,
     "start_time": "2022-04-03T03:04:29.375279",
     "status": "completed"
    },
    "tags": []
   },
   "outputs": [],
   "source": [
    "def predict_submission():\n",
    "    df_split = np.array_split(test_X_m, num_cores)\n",
    "    chunk_size = len(df_split[0])\n",
    "    \n",
    "    chunk1 = list(df_split[0])\n",
    "    chunk2 = list(df_split[1])\n",
    "    chunk3 = list(df_split[2])\n",
    "    chunk4 = list(df_split[3])\n",
    "    \n",
    "    #list of items for multiprocessing, 4 since using 4 cores\n",
    "    all_chunks = [chunk1, chunk2, chunk3, chunk4]\n",
    "    \n",
    "    pool = Pool(num_cores)\n",
    "    result = pool.map(make_predict, all_chunks)\n",
    "    \n",
    "    pred_combined = list(itertools.chain(result[0], result[1], result[2], result[3]))\n",
    "\n",
    "    return pred_combined\n",
    "\n",
    "def make_predict(usr_chunk):\n",
    "    customer_ids = []\n",
    "    preds = []\n",
    "    item_array = np.array(list(iid_map.values()))\n",
    "\n",
    "    for usr_ in usr_chunk:\n",
    "        m_opt = model.predict(np.array([usr_] * len(iid_map)), item_array)\n",
    "        pred = np.argsort(-m_opt)[:K]\n",
    "        #customer_ids.append(inv_uid_map[usr_])\n",
    "        preds.append(' '.join([inv_iid_map[p] for p in pred]).strip())\n",
    "    \n",
    "    #customer_ids = np.array(customer_ids).reshape(-1, 1)\n",
    "    preds = np.array(preds).reshape(-1, 1)\n",
    "    return preds"
   ]
  },
  {
   "cell_type": "code",
   "execution_count": 15,
   "id": "435a8c76",
   "metadata": {
    "execution": {
     "iopub.execute_input": "2022-04-03T03:04:29.981041Z",
     "iopub.status.busy": "2022-04-03T03:04:29.978534Z",
     "iopub.status.idle": "2022-04-03T03:16:10.172405Z",
     "shell.execute_reply": "2022-04-03T03:16:10.172974Z"
    },
    "papermill": {
     "duration": 700.268735,
     "end_time": "2022-04-03T03:16:10.173226",
     "exception": false,
     "start_time": "2022-04-03T03:04:29.904491",
     "status": "completed"
    },
    "tags": []
   },
   "outputs": [
    {
     "name": "stdout",
     "output_type": "stream",
     "text": [
      "CPU times: user 1.27 s, sys: 685 ms, total: 1.96 s\n",
      "Wall time: 11min 40s\n"
     ]
    }
   ],
   "source": [
    "%%time\n",
    "final_predictions = predict_submission()"
   ]
  },
  {
   "cell_type": "code",
   "execution_count": 16,
   "id": "b656a587",
   "metadata": {
    "execution": {
     "iopub.execute_input": "2022-04-03T03:16:10.274770Z",
     "iopub.status.busy": "2022-04-03T03:16:10.273624Z",
     "iopub.status.idle": "2022-04-03T03:16:24.751834Z",
     "shell.execute_reply": "2022-04-03T03:16:24.752484Z"
    },
    "papermill": {
     "duration": 14.535649,
     "end_time": "2022-04-03T03:16:24.752711",
     "exception": false,
     "start_time": "2022-04-03T03:16:10.217062",
     "status": "completed"
    },
    "tags": []
   },
   "outputs": [],
   "source": [
    "final_sub = pd.DataFrame(data=np.concatenate((np.array(test_X).reshape(-1,1), np.array(final_predictions)), axis=1).reshape(-1, 2),\n",
    "                         columns=['customer_id', 'prediction'])\n",
    "\n",
    "sample_submission.loc[sample_submission.customer_id.isin(final_sub.customer_id), 'prediction'] = ( \n",
    "    final_sub['prediction']\n",
    "    )\n",
    "sample_submission.to_csv('submission.csv', index=False)"
   ]
  },
  {
   "cell_type": "code",
   "execution_count": 17,
   "id": "bf341b58",
   "metadata": {
    "execution": {
     "iopub.execute_input": "2022-04-03T03:16:24.851783Z",
     "iopub.status.busy": "2022-04-03T03:16:24.843968Z",
     "iopub.status.idle": "2022-04-03T03:16:34.526489Z",
     "shell.execute_reply": "2022-04-03T03:16:34.525845Z"
    },
    "papermill": {
     "duration": 9.729818,
     "end_time": "2022-04-03T03:16:34.526654",
     "exception": false,
     "start_time": "2022-04-03T03:16:24.796836",
     "status": "completed"
    },
    "tags": []
   },
   "outputs": [
    {
     "name": "stdout",
     "output_type": "stream",
     "text": [
      "t 0.0017520020885607762\n",
      "i 0.0012314053066581766 19048\n",
      "c 1.1839953736938662e-05 5572\n",
      "  \n",
      "0552473025 0655710006 0228257005 0568943001 0315509024 0341186001 0446224010 0437668015 0577512009 0577512005 0579844003 0625773001    1\n",
      "0818015003 0779924003 0758282003 0767398003 0832472001 0512630008 0528199003 0545375002 0555686003 0723349002 0589222002 0779590011    1\n",
      "0648255001 0509642001 0640613002 0383569008 0583915001 0619822002 0616849003 0594256001 0578430004 0573054002 0610700003 0832013001    1\n",
      "0652747005 0652747002 0677037005 0666204001 0664485001 0676580003 0649397003 0685417002 0652747001 0711274001 0680380001 0688873014    1\n",
      "0817876001 0698823002 0586361002 0679484002 0665724001 0583533001 0554450001 0569929001 0678073001 0252298002 0797710001 0787216001    1\n",
      "                                                                                                                                      ..\n",
      "0376172006 0768591002 0864615001 0376172003 0268305007 0740376001 0376172001 0270375004 0899011001 0882995001 0370594020 0831961003    1\n",
      "0854060001 0663009002 0773738001 0674314001 0796322002 0865430001 0894400002 0918655002 0649057007 0796322004 0812241011 0704481001    1\n",
      "0305304008 0710936004 0674244001 0687948002 0726106001 0884405003 0661399006 0305304020 0487932044 0768205003 0603584015 0884405006    1\n",
      "0520424001 0686923002 0681900001 0399201020 0571436018 0399136060 0651348002 0605692001 0399136009 0399201045 0625818001 0695450002    1\n",
      "0766495009 0857794003 0774543009 0872920001 0781078009 0834340002 0866465001 0895610003 0901793005 0909895001 0834340001 0860256001    1\n",
      "Name: prediction, Length: 68984, dtype: int64\n"
     ]
    }
   ],
   "source": [
    "# local score\n",
    "if VALID:\n",
    "    sub_check = final_sub.copy()\n",
    "    sub_check = sub_check.set_index('customer_id').reset_index()\n",
    "    print(\"t\", mapk(valid.prediction.str.split(), sub_check.prediction.str.split(), k=12))    \n",
    "    print(\"i\", \n",
    "            mapk(valid[valid.customer_id.isin(inactive_users)].prediction.str.split(), \n",
    "               sub_check[sub_check.customer_id.isin(inactive_users)].prediction.str.split(), k=12),\n",
    "            valid[valid.customer_id.isin(inactive_users)].shape[0])\n",
    "    print(\"c\", \n",
    "            mapk(valid[valid.customer_id.isin(cold_users)].prediction.str.split(), \n",
    "               sub_check[sub_check.customer_id.isin(cold_users)].prediction.str.split(), k=12),\n",
    "            valid[valid.customer_id.isin(cold_users)].shape[0])\n",
    "    \n",
    "    print(\"  \")\n",
    "    print(sub_check[\"prediction\"].value_counts())  "
   ]
  },
  {
   "cell_type": "code",
   "execution_count": null,
   "id": "fc3d6879",
   "metadata": {
    "papermill": {
     "duration": 0.045265,
     "end_time": "2022-04-03T03:16:34.617603",
     "exception": false,
     "start_time": "2022-04-03T03:16:34.572338",
     "status": "completed"
    },
    "tags": []
   },
   "outputs": [],
   "source": []
  }
 ],
 "metadata": {
  "kernelspec": {
   "display_name": "Python 3",
   "language": "python",
   "name": "python3"
  },
  "language_info": {
   "codemirror_mode": {
    "name": "ipython",
    "version": 3
   },
   "file_extension": ".py",
   "mimetype": "text/x-python",
   "name": "python",
   "nbconvert_exporter": "python",
   "pygments_lexer": "ipython3",
   "version": "3.7.12"
  },
  "papermill": {
   "default_parameters": {},
   "duration": 3143.238248,
   "end_time": "2022-04-03T03:16:37.486448",
   "environment_variables": {},
   "exception": null,
   "input_path": "__notebook__.ipynb",
   "output_path": "__notebook__.ipynb",
   "parameters": {},
   "start_time": "2022-04-03T02:24:14.248200",
   "version": "2.3.3"
  }
 },
 "nbformat": 4,
 "nbformat_minor": 5
}
