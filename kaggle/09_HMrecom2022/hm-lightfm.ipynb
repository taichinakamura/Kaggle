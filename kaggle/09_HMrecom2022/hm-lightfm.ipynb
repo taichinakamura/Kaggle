{
 "cells": [
  {
   "cell_type": "markdown",
   "id": "c2b9e65e",
   "metadata": {
    "papermill": {
     "duration": 0.02598,
     "end_time": "2022-04-08T14:31:51.091719",
     "exception": false,
     "start_time": "2022-04-08T14:31:51.065739",
     "status": "completed"
    },
    "tags": []
   },
   "source": [
    "- https://making.lyst.com/lightfm/docs/lightfm.html\n",
    "- modify mistake in valid label\n",
    "- consider item, user features\n",
    "- change weight and range\n",
    "- remove some features \n",
    "- remove inactive items *"
   ]
  },
  {
   "cell_type": "code",
   "execution_count": 1,
   "id": "8b477d70",
   "metadata": {
    "execution": {
     "iopub.execute_input": "2022-04-08T14:31:51.152370Z",
     "iopub.status.busy": "2022-04-08T14:31:51.151711Z",
     "iopub.status.idle": "2022-04-08T14:31:52.260547Z",
     "shell.execute_reply": "2022-04-08T14:31:52.259678Z",
     "shell.execute_reply.started": "2022-04-08T13:06:33.757017Z"
    },
    "papermill": {
     "duration": 1.142026,
     "end_time": "2022-04-08T14:31:52.260713",
     "exception": false,
     "start_time": "2022-04-08T14:31:51.118687",
     "status": "completed"
    },
    "tags": []
   },
   "outputs": [],
   "source": [
    "import os\n",
    "import tqdm\n",
    "\n",
    "import numpy as np\n",
    "import pandas as pd\n",
    "from lightfm import LightFM\n",
    "from lightfm.data import Dataset\n",
    "from sklearn import preprocessing\n",
    "\n",
    "import itertools\n",
    "from multiprocessing import Pool\n",
    "\n",
    "SEED = 42\n",
    "np.random.seed(SEED)\n",
    "os.environ['PYTHONHASHSEED'] = str(SEED)\n",
    "\n",
    "VALID = True"
   ]
  },
  {
   "cell_type": "code",
   "execution_count": 2,
   "id": "543e110a",
   "metadata": {
    "execution": {
     "iopub.execute_input": "2022-04-08T14:31:52.321509Z",
     "iopub.status.busy": "2022-04-08T14:31:52.320780Z",
     "iopub.status.idle": "2022-04-08T14:31:52.323670Z",
     "shell.execute_reply": "2022-04-08T14:31:52.324168Z",
     "shell.execute_reply.started": "2022-04-08T13:06:34.752161Z"
    },
    "papermill": {
     "duration": 0.038308,
     "end_time": "2022-04-08T14:31:52.324342",
     "exception": false,
     "start_time": "2022-04-08T14:31:52.286034",
     "status": "completed"
    },
    "tags": []
   },
   "outputs": [],
   "source": [
    "def apk(actual, predicted, k=12):\n",
    "    if len(predicted)>k:\n",
    "        predicted = predicted[:k]\n",
    "        \n",
    "    score = 0.0\n",
    "    num_hits = 0.0\n",
    "    \n",
    "    for i,p in enumerate(predicted):\n",
    "        if p in actual and p not in predicted[:i]:\n",
    "            num_hits += 1.0\n",
    "            score += num_hits / (i+1.0)\n",
    "\n",
    "    if not actual:\n",
    "        return 0.0\n",
    "\n",
    "    return score / min(len(actual), k)\n",
    "\n",
    "\n",
    "def mapk(actual, predicted, k=12):\n",
    "    \"\"\"\n",
    "    Computes the mean average precision at k.\n",
    "    This function computes the mean average prescision at k between two lists\n",
    "    of lists of items.\n",
    "    Parameters\n",
    "    ----------\n",
    "    actual : list\n",
    "             A list of lists of elements that are to be predicted \n",
    "             (order doesn't matter in the lists)\n",
    "    predicted : list\n",
    "                A list of lists of predicted elements\n",
    "                (order matters in the lists)\n",
    "    k : int, optional\n",
    "        The maximum number of predicted elements\n",
    "    Returns\n",
    "    -------\n",
    "    score : double\n",
    "            The mean average precision at k over the input lists\n",
    "    \"\"\"\n",
    "    return np.mean([apk(a,p,k) for a,p in zip(actual, predicted)])"
   ]
  },
  {
   "cell_type": "markdown",
   "id": "eda1c85c",
   "metadata": {
    "papermill": {
     "duration": 0.024801,
     "end_time": "2022-04-08T14:31:52.373905",
     "exception": false,
     "start_time": "2022-04-08T14:31:52.349104",
     "status": "completed"
    },
    "tags": []
   },
   "source": [
    "## Configs"
   ]
  },
  {
   "cell_type": "code",
   "execution_count": 3,
   "id": "e7b77472",
   "metadata": {
    "execution": {
     "iopub.execute_input": "2022-04-08T14:31:52.428129Z",
     "iopub.status.busy": "2022-04-08T14:31:52.427388Z",
     "iopub.status.idle": "2022-04-08T14:31:52.433285Z",
     "shell.execute_reply": "2022-04-08T14:31:52.432513Z",
     "shell.execute_reply.started": "2022-04-08T13:06:34.761164Z"
    },
    "papermill": {
     "duration": 0.034373,
     "end_time": "2022-04-08T14:31:52.433446",
     "exception": false,
     "start_time": "2022-04-08T14:31:52.399073",
     "status": "completed"
    },
    "tags": []
   },
   "outputs": [],
   "source": [
    "# default number of recommendations\n",
    "K = 12\n",
    "EPOCHS = 100\n",
    "LEARNING_RATE = 0.1 \n",
    "NO_COMPONENTS = 50\n",
    "NO_THREADS = 32\n",
    "ITEM_ALPHA=1e-6\n",
    "USER_ALPHA=1e-6\n",
    "\n",
    "num_cores=4"
   ]
  },
  {
   "cell_type": "markdown",
   "id": "11d4b61b",
   "metadata": {
    "papermill": {
     "duration": 0.02431,
     "end_time": "2022-04-08T14:31:52.482690",
     "exception": false,
     "start_time": "2022-04-08T14:31:52.458380",
     "status": "completed"
    },
    "tags": []
   },
   "source": [
    "## Load the data"
   ]
  },
  {
   "cell_type": "code",
   "execution_count": 4,
   "id": "fb4ac553",
   "metadata": {
    "execution": {
     "iopub.execute_input": "2022-04-08T14:31:52.539590Z",
     "iopub.status.busy": "2022-04-08T14:31:52.538801Z",
     "iopub.status.idle": "2022-04-08T14:33:25.477271Z",
     "shell.execute_reply": "2022-04-08T14:33:25.476672Z",
     "shell.execute_reply.started": "2022-04-08T13:06:34.772017Z"
    },
    "papermill": {
     "duration": 92.969905,
     "end_time": "2022-04-08T14:33:25.477432",
     "exception": false,
     "start_time": "2022-04-08T14:31:52.507527",
     "status": "completed"
    },
    "tags": []
   },
   "outputs": [],
   "source": [
    "main_dir = \"../input/h-and-m-personalized-fashion-recommendations\"\n",
    "images_dir = main_dir+\"/images/\" \n",
    "customers = pd.read_csv(main_dir+\"/customers.csv\")\n",
    "articles = pd.read_csv(main_dir+\"/articles.csv\", dtype={'article_id': str})\n",
    "sample_submission = pd.read_csv(main_dir+\"/sample_submission.csv\", dtype={'article_id': str})\n",
    "train = pd.read_csv(main_dir+'/transactions_train.csv',  dtype={'article_id': str}, parse_dates=['t_dat'])"
   ]
  },
  {
   "cell_type": "markdown",
   "id": "901e0dd3",
   "metadata": {
    "papermill": {
     "duration": 0.02415,
     "end_time": "2022-04-08T14:33:25.526925",
     "exception": false,
     "start_time": "2022-04-08T14:33:25.502775",
     "status": "completed"
    },
    "tags": []
   },
   "source": [
    "# features"
   ]
  },
  {
   "cell_type": "code",
   "execution_count": 5,
   "id": "e7796ce9",
   "metadata": {
    "execution": {
     "iopub.execute_input": "2022-04-08T14:33:25.582105Z",
     "iopub.status.busy": "2022-04-08T14:33:25.581389Z",
     "iopub.status.idle": "2022-04-08T14:33:33.641681Z",
     "shell.execute_reply": "2022-04-08T14:33:33.640993Z",
     "shell.execute_reply.started": "2022-04-08T13:07:56.025211Z"
    },
    "papermill": {
     "duration": 8.089758,
     "end_time": "2022-04-08T14:33:33.641855",
     "exception": false,
     "start_time": "2022-04-08T14:33:25.552097",
     "status": "completed"
    },
    "tags": []
   },
   "outputs": [
    {
     "name": "stderr",
     "output_type": "stream",
     "text": [
      "/opt/conda/lib/python3.7/site-packages/ipykernel_launcher.py:4: FutureWarning: Series.dt.weekofyear and Series.dt.week have been deprecated.  Please use Series.dt.isocalendar().week instead.\n",
      "  after removing the cwd from sys.path.\n"
     ]
    }
   ],
   "source": [
    "train[\"t_dat\"] = pd.to_datetime(train[\"t_dat\"])\n",
    "\n",
    "date_week_df = train.drop_duplicates(\"t_dat\")[[\"t_dat\"]].reset_index(drop=True)\n",
    "date_week_df['week_no'] = (date_week_df['t_dat'] + pd.DateOffset(days=5)).dt.week\n",
    "date_week_df[\"week_no\"] = date_week_df[\"week_no\"].diff(1)\n",
    "date_week_df[\"week_no\"].fillna(0, inplace=True)\n",
    "date_week_df[\"week_no\"] = date_week_df[\"week_no\"] != 0\n",
    "date_week_df[\"week_no\"] = date_week_df[\"week_no\"].cumsum()\n",
    "\n",
    "train = pd.merge(train, date_week_df, on=\"t_dat\", how=\"left\")\n",
    "test_week = train.week_no.max()\n",
    "\n",
    "del date_week_df"
   ]
  },
  {
   "cell_type": "code",
   "execution_count": 6,
   "id": "2d34e804",
   "metadata": {
    "execution": {
     "iopub.execute_input": "2022-04-08T14:33:33.708446Z",
     "iopub.status.busy": "2022-04-08T14:33:33.707706Z",
     "iopub.status.idle": "2022-04-08T14:35:19.276470Z",
     "shell.execute_reply": "2022-04-08T14:35:19.275788Z",
     "shell.execute_reply.started": "2022-04-08T13:08:02.307337Z"
    },
    "papermill": {
     "duration": 105.609022,
     "end_time": "2022-04-08T14:35:19.276625",
     "exception": false,
     "start_time": "2022-04-08T14:33:33.667603",
     "status": "completed"
    },
    "tags": []
   },
   "outputs": [],
   "source": [
    "if VALID:\n",
    "    tmp = train[train.week_no < test_week].reset_index(drop=True).copy()\n",
    "else:\n",
    "    tmp = train.copy()\n",
    "\n",
    "# count encoding\n",
    "tmp = pd.merge(tmp, articles[[\"article_id\", \"index_group_name\"]], on='article_id', how='left')\n",
    "mp = {'Ladieswear':1, 'Baby/Children':0.5, 'Menswear':0, 'Sport':0.5, 'Divided':0.5} \n",
    "tmp[\"gender\"] = tmp[\"index_group_name\"].map(mp)\n",
    "user_g = tmp.groupby('customer_id').gender.mean().reset_index()\n",
    "    \n",
    "item_count = tmp[\"article_id\"].value_counts().reset_index()\n",
    "item_count.columns = [\"article_id\", \"item_count\"]\n",
    "user_count = tmp[\"customer_id\"].value_counts().reset_index()\n",
    "user_count.columns = [\"customer_id\", \"user_count\"]\n",
    "\n",
    "tmp1 = tmp[tmp.sales_channel_id==1][\"article_id\"].value_counts().reset_index()\n",
    "tmp1.columns = [\"article_id\", \"count_in1\"]\n",
    "\n",
    "tmp2 = tmp[tmp.sales_channel_id==2][\"article_id\"].value_counts().reset_index()\n",
    "tmp2.columns = [\"article_id\", \"count_in2\"]\n",
    "\n",
    "sales_channel_count = pd.merge(tmp1, tmp2, on=\"article_id\", how=\"outer\").fillna(0)\n",
    "sales_channel_count[\"channel_ratio\"] = sales_channel_count[\"count_in1\"] / (sales_channel_count[\"count_in2\"]+0.1)\n",
    "\n",
    "user_last_week = tmp.groupby(\"customer_id\")[\"week_no\"].max().reset_index()\n",
    "user_last_week.columns = [\"customer_id\", \"last_week\"]\n",
    "\n",
    "user_num_week = tmp.groupby(\"customer_id\")[\"week_no\"].nunique().reset_index()\n",
    "user_num_week.columns = [\"customer_id\", \"week_num\"]\n",
    "\n",
    "del tmp1, tmp2, tmp\n",
    "\n",
    "customers = pd.merge(customers, user_count, on = \"customer_id\", how=\"left\")\n",
    "customers[\"user_count\"].fillna(0, inplace=True)\n",
    "customers = pd.merge(customers, user_last_week, on = \"customer_id\", how=\"left\")\n",
    "customers[\"last_week\"].fillna(-1, inplace=True)\n",
    "customers = pd.merge(customers, user_num_week, on = \"customer_id\", how=\"left\")\n",
    "customers[\"week_num\"].fillna(-1, inplace=True)\n",
    "customers = pd.merge(customers, user_g, on = \"customer_id\", how=\"left\")\n",
    "customers[\"gender\"].fillna(0.75, inplace=True)\n",
    "del user_count, user_last_week, user_num_week, user_g\n",
    "\n",
    "articles = pd.merge(articles, item_count, on = \"article_id\", how=\"left\")\n",
    "articles = pd.merge(articles, sales_channel_count, on = \"article_id\", how=\"left\")\n",
    "articles[\"item_count\"].fillna(0, inplace=True)\n",
    "articles.fillna(-1, inplace=True)\n",
    "del item_count, sales_channel_count"
   ]
  },
  {
   "cell_type": "code",
   "execution_count": 7,
   "id": "ba7f4b50",
   "metadata": {
    "execution": {
     "iopub.execute_input": "2022-04-08T14:35:27.124496Z",
     "iopub.status.busy": "2022-04-08T14:35:27.123785Z",
     "iopub.status.idle": "2022-04-08T14:35:41.751985Z",
     "shell.execute_reply": "2022-04-08T14:35:41.751434Z",
     "shell.execute_reply.started": "2022-04-08T13:09:32.780606Z"
    },
    "papermill": {
     "duration": 22.449961,
     "end_time": "2022-04-08T14:35:41.752135",
     "exception": false,
     "start_time": "2022-04-08T14:35:19.302174",
     "status": "completed"
    },
    "tags": []
   },
   "outputs": [],
   "source": [
    "# focus items\n",
    "new_articles = list(set(articles.article_id) - set(train.article_id))\n",
    "active_articles = train.groupby(\"article_id\")[\"t_dat\"].max().reset_index()\n",
    "active_articles = active_articles[active_articles[\"t_dat\"] >= \"2019-09-01\"].reset_index()\n",
    "active_articles = list(active_articles.article_id)\n",
    "train = train[train[\"article_id\"].isin(active_articles)].reset_index(drop=True)\n",
    "articles = articles[articles[\"article_id\"].isin(active_articles + new_articles)].reset_index(drop=True)"
   ]
  },
  {
   "cell_type": "code",
   "execution_count": 8,
   "id": "b5584e9a",
   "metadata": {
    "execution": {
     "iopub.execute_input": "2022-04-08T14:35:41.805599Z",
     "iopub.status.busy": "2022-04-08T14:35:41.804949Z",
     "iopub.status.idle": "2022-04-08T14:35:41.825022Z",
     "shell.execute_reply": "2022-04-08T14:35:41.825501Z",
     "shell.execute_reply.started": "2022-04-08T13:09:51.564638Z"
    },
    "papermill": {
     "duration": 0.048341,
     "end_time": "2022-04-08T14:35:41.825664",
     "exception": false,
     "start_time": "2022-04-08T14:35:41.777323",
     "status": "completed"
    },
    "tags": []
   },
   "outputs": [
    {
     "data": {
      "text/plain": [
       "['product_code',\n",
       " 'product_type_no',\n",
       " 'graphical_appearance_no',\n",
       " 'colour_group_code',\n",
       " 'perceived_colour_value_id',\n",
       " 'perceived_colour_master_id',\n",
       " 'department_no',\n",
       " 'index_group_no',\n",
       " 'section_no',\n",
       " 'garment_group_no',\n",
       " 'item_count',\n",
       " 'count_in1',\n",
       " 'count_in2',\n",
       " 'channel_ratio']"
      ]
     },
     "execution_count": 8,
     "metadata": {},
     "output_type": "execute_result"
    }
   ],
   "source": [
    "# item\n",
    "article_columns = [i for i in articles.columns if \"int\" in str(articles[i].dtype)]\n",
    "article_columns += [\"item_count\", \"count_in1\", \"count_in2\", \"channel_ratio\"]\n",
    "articles = articles[['article_id'] + article_columns]\n",
    "\n",
    "article_columns"
   ]
  },
  {
   "cell_type": "code",
   "execution_count": 9,
   "id": "d6927f07",
   "metadata": {
    "execution": {
     "iopub.execute_input": "2022-04-08T14:35:41.882997Z",
     "iopub.status.busy": "2022-04-08T14:35:41.879299Z",
     "iopub.status.idle": "2022-04-08T14:35:42.702239Z",
     "shell.execute_reply": "2022-04-08T14:35:42.701560Z",
     "shell.execute_reply.started": "2022-04-08T13:09:51.587330Z"
    },
    "papermill": {
     "duration": 0.851263,
     "end_time": "2022-04-08T14:35:42.702403",
     "exception": false,
     "start_time": "2022-04-08T14:35:41.851140",
     "status": "completed"
    },
    "tags": []
   },
   "outputs": [
    {
     "data": {
      "text/plain": [
       "['age', 'user_count', 'last_week', 'week_num', 'gender']"
      ]
     },
     "execution_count": 9,
     "metadata": {},
     "output_type": "execute_result"
    }
   ],
   "source": [
    "# user\n",
    "user_columns = [] #'FN', 'Active', 'club_member_status'　#'fashion_news_frequency', 'postal_code'\n",
    "customers.fillna(-1, inplace=True)\n",
    "for feat in user_columns:\n",
    "    lbl = preprocessing.LabelEncoder()\n",
    "    lbl.fit(list(customers[feat]))\n",
    "    customers[feat] = lbl.transform(list(customers[feat]))\n",
    "user_columns += ['age', \"user_count\", \"last_week\", \"week_num\", \"gender\"]\n",
    "user_columns"
   ]
  },
  {
   "cell_type": "markdown",
   "id": "26431280",
   "metadata": {
    "papermill": {
     "duration": 0.026108,
     "end_time": "2022-04-08T14:35:42.755197",
     "exception": false,
     "start_time": "2022-04-08T14:35:42.729089",
     "status": "completed"
    },
    "tags": []
   },
   "source": [
    "# dataset"
   ]
  },
  {
   "cell_type": "code",
   "execution_count": 10,
   "id": "249a6bd2",
   "metadata": {
    "execution": {
     "iopub.execute_input": "2022-04-08T14:35:42.852369Z",
     "iopub.status.busy": "2022-04-08T14:35:42.846336Z",
     "iopub.status.idle": "2022-04-08T14:35:44.826041Z",
     "shell.execute_reply": "2022-04-08T14:35:44.826795Z",
     "shell.execute_reply.started": "2022-04-08T13:09:52.360531Z"
    },
    "papermill": {
     "duration": 2.045132,
     "end_time": "2022-04-08T14:35:44.827012",
     "exception": false,
     "start_time": "2022-04-08T14:35:42.781880",
     "status": "completed"
    },
    "tags": []
   },
   "outputs": [
    {
     "name": "stdout",
     "output_type": "stream",
     "text": [
      "Number of users: 1371980, Number of topics: 73576.\n"
     ]
    }
   ],
   "source": [
    "dataset = Dataset()\n",
    "dataset.fit(users=customers['customer_id'], \n",
    "            items=articles['article_id'],\n",
    "            user_features = user_columns,\n",
    "            item_features = article_columns) \n",
    "\n",
    "num_users, num_topics = dataset.interactions_shape()\n",
    "print(f'Number of users: {num_users}, Number of topics: {num_topics}.')\n",
    "\n",
    "#Get the mappings\n",
    "uid_map, ufeature_map, iid_map, ifeature_map = dataset.mapping() \n",
    "inv_uid_map = {v:k for k, v in uid_map.items()}\n",
    "inv_iid_map = {v:k for k, v in iid_map.items()}"
   ]
  },
  {
   "cell_type": "code",
   "execution_count": 11,
   "id": "5b50b699",
   "metadata": {
    "execution": {
     "iopub.execute_input": "2022-04-08T14:35:44.883550Z",
     "iopub.status.busy": "2022-04-08T14:35:44.882593Z",
     "iopub.status.idle": "2022-04-08T14:35:49.339111Z",
     "shell.execute_reply": "2022-04-08T14:35:49.339594Z",
     "shell.execute_reply.started": "2022-04-08T13:09:54.185842Z"
    },
    "papermill": {
     "duration": 4.486305,
     "end_time": "2022-04-08T14:35:49.339776",
     "exception": false,
     "start_time": "2022-04-08T14:35:44.853471",
     "status": "completed"
    },
    "tags": []
   },
   "outputs": [],
   "source": [
    "item_last_week = train.groupby(\"article_id\")[\"week_no\"].max().reset_index()\n",
    "weak_weight_items = item_last_week[item_last_week.week_no > 100][\"article_id\"].values\n",
    "weak_weight_id = [iid_map[ele] for ele in weak_weight_items]\n",
    "del item_last_week"
   ]
  },
  {
   "cell_type": "code",
   "execution_count": 12,
   "id": "5c2bef23",
   "metadata": {
    "execution": {
     "iopub.execute_input": "2022-04-08T14:35:49.396378Z",
     "iopub.status.busy": "2022-04-08T14:35:49.395438Z",
     "iopub.status.idle": "2022-04-08T14:42:31.956187Z",
     "shell.execute_reply": "2022-04-08T14:42:31.956798Z",
     "shell.execute_reply.started": "2022-04-08T13:09:58.722044Z"
    },
    "papermill": {
     "duration": 402.591248,
     "end_time": "2022-04-08T14:42:31.957263",
     "exception": false,
     "start_time": "2022-04-08T14:35:49.366015",
     "status": "completed"
    },
    "tags": []
   },
   "outputs": [
    {
     "name": "stdout",
     "output_type": "stream",
     "text": [
      "(1371980, 73576)\n"
     ]
    }
   ],
   "source": [
    "if VALID:\n",
    "    train_set = train[train.week_no < test_week].copy()\n",
    "    train_ser = train_set.drop_duplicates([\"customer_id\", \"article_id\"]).reset_index(drop=True)\n",
    "    (interactions, weights) = dataset.build_interactions(train_set.iloc[:, 1:3].values)\n",
    "\n",
    "    valid = train[train.week_no == test_week].groupby('customer_id')['article_id'].apply(list).reset_index()\n",
    "    valid = valid.rename({'article_id':'prediction'},axis=1)\n",
    "    valid['prediction'] = valid.prediction.apply(lambda x: ' '.join([str(k) for k in x]))\n",
    "\n",
    "    inactive_users = list(set(train_set.customer_id) - set(train_set[train_set.week_no > test_week - 10][\"customer_id\"]))\n",
    "    cold_users = list(set(valid.customer_id) - set(train_set.customer_id))\n",
    "    del train_set\n",
    "else:\n",
    "    (interactions, weights) = dataset.build_interactions(train.iloc[:, 1:3].values)\n",
    "    \n",
    "dataset.build_item_features(((articles.iloc[index][\"article_id\"], article_columns) for index in range(articles.shape[0])))\n",
    "dataset.build_user_features(((customers.iloc[index][\"customer_id\"], user_columns) for index in range(customers.shape[0])))\n",
    "\n",
    "print(interactions.shape)\n",
    "del train"
   ]
  },
  {
   "cell_type": "code",
   "execution_count": 13,
   "id": "4d7394fd",
   "metadata": {
    "execution": {
     "iopub.execute_input": "2022-04-08T14:42:32.024139Z",
     "iopub.status.busy": "2022-04-08T14:42:32.022714Z",
     "iopub.status.idle": "2022-04-08T14:42:39.307208Z",
     "shell.execute_reply": "2022-04-08T14:42:39.306609Z",
     "shell.execute_reply.started": "2022-04-08T13:15:52.421418Z"
    },
    "papermill": {
     "duration": 7.322976,
     "end_time": "2022-04-08T14:42:39.307379",
     "exception": false,
     "start_time": "2022-04-08T14:42:31.984403",
     "status": "completed"
    },
    "tags": []
   },
   "outputs": [],
   "source": [
    "change_index = np.isin(weights.col, weak_weight_id)\n",
    "weights.data[change_index] = 3.0"
   ]
  },
  {
   "cell_type": "markdown",
   "id": "e5e03696",
   "metadata": {
    "papermill": {
     "duration": 0.026456,
     "end_time": "2022-04-08T14:42:39.360778",
     "exception": false,
     "start_time": "2022-04-08T14:42:39.334322",
     "status": "completed"
    },
    "tags": []
   },
   "source": [
    "# fitting"
   ]
  },
  {
   "cell_type": "code",
   "execution_count": 14,
   "id": "84602868",
   "metadata": {
    "execution": {
     "iopub.execute_input": "2022-04-08T14:42:39.422975Z",
     "iopub.status.busy": "2022-04-08T14:42:39.421553Z",
     "iopub.status.idle": "2022-04-08T16:02:31.183516Z",
     "shell.execute_reply": "2022-04-08T16:02:31.179421Z",
     "shell.execute_reply.started": "2022-04-08T13:15:57.632239Z"
    },
    "papermill": {
     "duration": 4791.796422,
     "end_time": "2022-04-08T16:02:31.183914",
     "exception": false,
     "start_time": "2022-04-08T14:42:39.387492",
     "status": "completed"
    },
    "tags": []
   },
   "outputs": [
    {
     "name": "stderr",
     "output_type": "stream",
     "text": [
      "Epoch: 100%|██████████| 100/100 [1:19:50<00:00, 47.90s/it]\n"
     ]
    },
    {
     "data": {
      "text/plain": [
       "<lightfm.lightfm.LightFM at 0x7f5ba9270c90>"
      ]
     },
     "execution_count": 14,
     "metadata": {},
     "output_type": "execute_result"
    }
   ],
   "source": [
    "model = LightFM(loss='bpr', \n",
    "                no_components=NO_COMPONENTS, \n",
    "                learning_rate=LEARNING_RATE,                 \n",
    "                random_state=np.random.RandomState(SEED),\n",
    "                user_alpha=USER_ALPHA,\n",
    "                item_alpha=ITEM_ALPHA,\n",
    "               )\n",
    "\n",
    "model.fit(interactions=interactions, \n",
    "          epochs=EPOCHS, \n",
    "          verbose=1, \n",
    "          num_threads=NO_THREADS,\n",
    "          sample_weight=weights,\n",
    "         )"
   ]
  },
  {
   "cell_type": "markdown",
   "id": "7f290430",
   "metadata": {
    "papermill": {
     "duration": 0.065418,
     "end_time": "2022-04-08T16:02:31.313912",
     "exception": false,
     "start_time": "2022-04-08T16:02:31.248494",
     "status": "completed"
    },
    "tags": []
   },
   "source": [
    "# Submission"
   ]
  },
  {
   "cell_type": "code",
   "execution_count": 15,
   "id": "b9ff8e52",
   "metadata": {
    "execution": {
     "iopub.execute_input": "2022-04-08T16:02:31.451005Z",
     "iopub.status.busy": "2022-04-08T16:02:31.450283Z",
     "iopub.status.idle": "2022-04-08T16:02:31.918233Z",
     "shell.execute_reply": "2022-04-08T16:02:31.918736Z",
     "shell.execute_reply.started": "2022-04-08T14:16:41.527420Z"
    },
    "papermill": {
     "duration": 0.537577,
     "end_time": "2022-04-08T16:02:31.918959",
     "exception": false,
     "start_time": "2022-04-08T16:02:31.381382",
     "status": "completed"
    },
    "tags": []
   },
   "outputs": [
    {
     "name": "stdout",
     "output_type": "stream",
     "text": [
      "68984\n"
     ]
    }
   ],
   "source": [
    "if VALID:\n",
    "    test_X = valid.customer_id.values\n",
    "else:\n",
    "    test_X = sample_submission.customer_id.values    \n",
    "\n",
    "lfn_user = lambda x: uid_map[x]\n",
    "test_X_m = [lfn_user(tx) for tx in test_X]\n",
    "\n",
    "print(len(test_X_m))"
   ]
  },
  {
   "cell_type": "code",
   "execution_count": 16,
   "id": "86a1d44c",
   "metadata": {
    "execution": {
     "iopub.execute_input": "2022-04-08T16:02:35.636141Z",
     "iopub.status.busy": "2022-04-08T16:02:32.054621Z",
     "iopub.status.idle": "2022-04-08T16:02:35.639500Z",
     "shell.execute_reply": "2022-04-08T16:02:35.640458Z",
     "shell.execute_reply.started": "2022-04-08T14:16:41.751452Z"
    },
    "papermill": {
     "duration": 3.655789,
     "end_time": "2022-04-08T16:02:35.640695",
     "exception": false,
     "start_time": "2022-04-08T16:02:31.984906",
     "status": "completed"
    },
    "tags": []
   },
   "outputs": [],
   "source": [
    "def predict_submission():\n",
    "    df_split = np.array_split(test_X_m, num_cores)\n",
    "    chunk_size = len(df_split[0])\n",
    "    \n",
    "    chunk1 = list(df_split[0])\n",
    "    chunk2 = list(df_split[1])\n",
    "    chunk3 = list(df_split[2])\n",
    "    chunk4 = list(df_split[3])\n",
    "    \n",
    "    #list of items for multiprocessing, 4 since using 4 cores\n",
    "    all_chunks = [chunk1, chunk2, chunk3, chunk4]\n",
    "    \n",
    "    pool = Pool(num_cores)\n",
    "    result = pool.map(make_predict, all_chunks)\n",
    "    \n",
    "    pred_combined = list(itertools.chain(result[0], result[1], result[2], result[3]))\n",
    "\n",
    "    return pred_combined\n",
    "\n",
    "def make_predict(usr_chunk):\n",
    "    customer_ids = []\n",
    "    preds = []\n",
    "    item_array = np.array(list(iid_map.values()))\n",
    "\n",
    "    for usr_ in usr_chunk:\n",
    "        m_opt = model.predict(np.array([usr_] * len(iid_map)), item_array)\n",
    "        pred = np.argsort(-m_opt)[:K]\n",
    "        preds.append(' '.join([inv_iid_map[p] for p in pred]).strip())\n",
    "    \n",
    "    preds = np.array(preds).reshape(-1, 1)\n",
    "    return preds"
   ]
  },
  {
   "cell_type": "code",
   "execution_count": 17,
   "id": "eb4787da",
   "metadata": {
    "execution": {
     "iopub.execute_input": "2022-04-08T16:02:35.825693Z",
     "iopub.status.busy": "2022-04-08T16:02:35.824777Z",
     "iopub.status.idle": "2022-04-08T16:11:05.546573Z",
     "shell.execute_reply": "2022-04-08T16:11:05.547098Z",
     "shell.execute_reply.started": "2022-04-08T14:16:42.735021Z"
    },
    "papermill": {
     "duration": 509.832026,
     "end_time": "2022-04-08T16:11:05.547294",
     "exception": false,
     "start_time": "2022-04-08T16:02:35.715268",
     "status": "completed"
    },
    "tags": []
   },
   "outputs": [
    {
     "name": "stdout",
     "output_type": "stream",
     "text": [
      "CPU times: user 924 ms, sys: 569 ms, total: 1.49 s\n",
      "Wall time: 8min 29s\n"
     ]
    }
   ],
   "source": [
    "%%time\n",
    "final_predictions = predict_submission()"
   ]
  },
  {
   "cell_type": "code",
   "execution_count": 18,
   "id": "0c49adf2",
   "metadata": {
    "execution": {
     "iopub.execute_input": "2022-04-08T16:11:05.682529Z",
     "iopub.status.busy": "2022-04-08T16:11:05.681785Z",
     "iopub.status.idle": "2022-04-08T16:11:19.883505Z",
     "shell.execute_reply": "2022-04-08T16:11:19.882792Z",
     "shell.execute_reply.started": "2022-04-08T14:23:53.680672Z"
    },
    "papermill": {
     "duration": 14.271741,
     "end_time": "2022-04-08T16:11:19.883663",
     "exception": false,
     "start_time": "2022-04-08T16:11:05.611922",
     "status": "completed"
    },
    "tags": []
   },
   "outputs": [],
   "source": [
    "final_sub = pd.DataFrame(data=np.concatenate((np.array(test_X).reshape(-1,1), np.array(final_predictions)), axis=1).reshape(-1, 2),\n",
    "                         columns=['customer_id', 'prediction'])\n",
    "\n",
    "sample_submission.loc[sample_submission.customer_id.isin(final_sub.customer_id), 'prediction'] = ( \n",
    "    final_sub['prediction']\n",
    "    )\n",
    "sample_submission.to_csv('submission.csv', index=False)"
   ]
  },
  {
   "cell_type": "code",
   "execution_count": 19,
   "id": "0a7d6981",
   "metadata": {
    "execution": {
     "iopub.execute_input": "2022-04-08T16:11:20.024383Z",
     "iopub.status.busy": "2022-04-08T16:11:20.023618Z",
     "iopub.status.idle": "2022-04-08T16:11:29.293937Z",
     "shell.execute_reply": "2022-04-08T16:11:29.294452Z",
     "shell.execute_reply.started": "2022-04-08T14:24:05.769365Z"
    },
    "papermill": {
     "duration": 9.345933,
     "end_time": "2022-04-08T16:11:29.294630",
     "exception": false,
     "start_time": "2022-04-08T16:11:19.948697",
     "status": "completed"
    },
    "tags": []
   },
   "outputs": [
    {
     "name": "stdout",
     "output_type": "stream",
     "text": [
      "t 0.006460247647598937\n",
      "i 0.0067256857632400704 18988\n",
      "c 0.0001216827876984127 5632\n",
      "  \n",
      "0376172001 0500435039 0649551007 0676111001 0725718001 0428291001 0757903001 0753475001 0613666005 0511105002 0754362004 0663465002    5632\n",
      "0120129001 0534164001 0215589001 0567532004 0752657001 0775382001 0300024058 0510465001 0442915001 0433444001 0341129001 0469562002       2\n",
      "0120129001 0534164001 0215589001 0300024058 0775382001 0567532004 0752657001 0433444001 0510465001 0442915001 0469562002 0341129001       2\n",
      "0120129001 0534164001 0215589001 0300024058 0567532004 0775382001 0752657001 0510465001 0433444001 0442915001 0469562002 0262277011       2\n",
      "0120129001 0534164001 0215589001 0300024058 0775382001 0567532004 0752657001 0433444001 0510465001 0442915001 0469562002 0262277011       2\n",
      "                                                                                                                                       ... \n",
      "0495685001 0495685006 0578630002 0501616007 0378447004 0618319002 0495685003 0616598005 0584298001 0392938001 0378447002 0400342003       1\n",
      "0599718002 0599718015 0850176002 0739590032 0854619002 0599718012 0833530002 0599718001 0824764001 0779546002 0599718009 0860949001       1\n",
      "0832453005 0832453002 0832473001 0832473003 0852775003 0762656002 0688537010 0879944002 0834412010 0832453006 0832453001 0876053001       1\n",
      "0685816011 0699923008 0685811002 0685813006 0684021068 0656677022 0783707002 0783707047 0763275001 0781758001 0685813005 0757805002       1\n",
      "0896169002 0879781003 0879781002 0918836001 0915529003 0915529001 0863937003 0866465001 0764073002 0918835001 0794538003 0827370002       1\n",
      "Name: prediction, Length: 63346, dtype: int64\n"
     ]
    }
   ],
   "source": [
    "# local score\n",
    "if VALID:\n",
    "    sub_check = final_sub.copy()\n",
    "    sub_check = sub_check.set_index('customer_id').reset_index()\n",
    "    print(\"t\", mapk(valid.prediction.str.split(), sub_check.prediction.str.split(), k=12))    \n",
    "    print(\"i\", \n",
    "            mapk(valid[valid.customer_id.isin(inactive_users)].prediction.str.split(), \n",
    "               sub_check[sub_check.customer_id.isin(inactive_users)].prediction.str.split(), k=12),\n",
    "            valid[valid.customer_id.isin(inactive_users)].shape[0])\n",
    "    print(\"c\", \n",
    "            mapk(valid[valid.customer_id.isin(cold_users)].prediction.str.split(), \n",
    "               sub_check[sub_check.customer_id.isin(cold_users)].prediction.str.split(), k=12),\n",
    "            valid[valid.customer_id.isin(cold_users)].shape[0])\n",
    "    \n",
    "    print(\"  \")\n",
    "    print(sub_check[\"prediction\"].value_counts())  "
   ]
  },
  {
   "cell_type": "markdown",
   "id": "8463f337",
   "metadata": {
    "execution": {
     "iopub.execute_input": "2022-04-08T08:15:12.704927Z",
     "iopub.status.busy": "2022-04-08T08:15:12.704372Z",
     "iopub.status.idle": "2022-04-08T08:15:12.711426Z",
     "shell.execute_reply": "2022-04-08T08:15:12.710036Z",
     "shell.execute_reply.started": "2022-04-08T08:15:12.704894Z"
    },
    "papermill": {
     "duration": 0.066854,
     "end_time": "2022-04-08T16:11:29.428942",
     "exception": false,
     "start_time": "2022-04-08T16:11:29.362088",
     "status": "completed"
    },
    "tags": []
   },
   "source": [
    "t 0.006381818856199835\n",
    "i 0.006671911219209461 18988\n",
    "c 0.00011491871843434344 5632"
   ]
  }
 ],
 "metadata": {
  "kernelspec": {
   "display_name": "Python 3",
   "language": "python",
   "name": "python3"
  },
  "language_info": {
   "codemirror_mode": {
    "name": "ipython",
    "version": 3
   },
   "file_extension": ".py",
   "mimetype": "text/x-python",
   "name": "python",
   "nbconvert_exporter": "python",
   "pygments_lexer": "ipython3",
   "version": "3.7.12"
  },
  "papermill": {
   "default_parameters": {},
   "duration": 5991.365811,
   "end_time": "2022-04-08T16:11:32.222744",
   "environment_variables": {},
   "exception": null,
   "input_path": "__notebook__.ipynb",
   "output_path": "__notebook__.ipynb",
   "parameters": {},
   "start_time": "2022-04-08T14:31:40.856933",
   "version": "2.3.3"
  }
 },
 "nbformat": 4,
 "nbformat_minor": 5
}
