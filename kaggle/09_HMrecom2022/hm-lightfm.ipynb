{
 "cells": [
  {
   "cell_type": "markdown",
   "id": "6b9549f6",
   "metadata": {
    "papermill": {
     "duration": 0.026092,
     "end_time": "2022-04-05T12:35:33.308680",
     "exception": false,
     "start_time": "2022-04-05T12:35:33.282588",
     "status": "completed"
    },
    "tags": []
   },
   "source": [
    "- https://making.lyst.com/lightfm/docs/lightfm.html\n",
    "- modify mistake in valid label\n",
    "- consider item, user features\n",
    "- change weight and range"
   ]
  },
  {
   "cell_type": "code",
   "execution_count": 1,
   "id": "d2d13401",
   "metadata": {
    "execution": {
     "iopub.execute_input": "2022-04-05T12:35:33.365487Z",
     "iopub.status.busy": "2022-04-05T12:35:33.363694Z",
     "iopub.status.idle": "2022-04-05T12:35:34.475265Z",
     "shell.execute_reply": "2022-04-05T12:35:34.474591Z",
     "shell.execute_reply.started": "2022-04-05T10:33:06.447467Z"
    },
    "papermill": {
     "duration": 1.141416,
     "end_time": "2022-04-05T12:35:34.475433",
     "exception": false,
     "start_time": "2022-04-05T12:35:33.334017",
     "status": "completed"
    },
    "tags": []
   },
   "outputs": [],
   "source": [
    "import os\n",
    "import tqdm\n",
    "\n",
    "import numpy as np\n",
    "import pandas as pd\n",
    "from lightfm import LightFM\n",
    "from lightfm.data import Dataset\n",
    "from sklearn import preprocessing\n",
    "\n",
    "import itertools\n",
    "from multiprocessing import Pool\n",
    "\n",
    "SEED = 42\n",
    "np.random.seed(SEED)\n",
    "os.environ['PYTHONHASHSEED'] = str(SEED)\n",
    "\n",
    "VALID = True"
   ]
  },
  {
   "cell_type": "code",
   "execution_count": 2,
   "id": "ea442d12",
   "metadata": {
    "execution": {
     "iopub.execute_input": "2022-04-05T12:35:34.531138Z",
     "iopub.status.busy": "2022-04-05T12:35:34.530391Z",
     "iopub.status.idle": "2022-04-05T12:35:34.540407Z",
     "shell.execute_reply": "2022-04-05T12:35:34.539757Z",
     "shell.execute_reply.started": "2022-04-05T10:33:07.550236Z"
    },
    "papermill": {
     "duration": 0.039429,
     "end_time": "2022-04-05T12:35:34.540564",
     "exception": false,
     "start_time": "2022-04-05T12:35:34.501135",
     "status": "completed"
    },
    "tags": []
   },
   "outputs": [],
   "source": [
    "def apk(actual, predicted, k=12):\n",
    "    if len(predicted)>k:\n",
    "        predicted = predicted[:k]\n",
    "        \n",
    "    score = 0.0\n",
    "    num_hits = 0.0\n",
    "    \n",
    "    for i,p in enumerate(predicted):\n",
    "        if p in actual and p not in predicted[:i]:\n",
    "            num_hits += 1.0\n",
    "            score += num_hits / (i+1.0)\n",
    "\n",
    "    if not actual:\n",
    "        return 0.0\n",
    "\n",
    "    return score / min(len(actual), k)\n",
    "\n",
    "\n",
    "def mapk(actual, predicted, k=12):\n",
    "    \"\"\"\n",
    "    Computes the mean average precision at k.\n",
    "    This function computes the mean average prescision at k between two lists\n",
    "    of lists of items.\n",
    "    Parameters\n",
    "    ----------\n",
    "    actual : list\n",
    "             A list of lists of elements that are to be predicted \n",
    "             (order doesn't matter in the lists)\n",
    "    predicted : list\n",
    "                A list of lists of predicted elements\n",
    "                (order matters in the lists)\n",
    "    k : int, optional\n",
    "        The maximum number of predicted elements\n",
    "    Returns\n",
    "    -------\n",
    "    score : double\n",
    "            The mean average precision at k over the input lists\n",
    "    \"\"\"\n",
    "    return np.mean([apk(a,p,k) for a,p in zip(actual, predicted)])"
   ]
  },
  {
   "cell_type": "markdown",
   "id": "fe468abd",
   "metadata": {
    "papermill": {
     "duration": 0.024842,
     "end_time": "2022-04-05T12:35:34.590604",
     "exception": false,
     "start_time": "2022-04-05T12:35:34.565762",
     "status": "completed"
    },
    "tags": []
   },
   "source": [
    "## Configs"
   ]
  },
  {
   "cell_type": "code",
   "execution_count": 3,
   "id": "3b0ba3fd",
   "metadata": {
    "execution": {
     "iopub.execute_input": "2022-04-05T12:35:34.646590Z",
     "iopub.status.busy": "2022-04-05T12:35:34.645506Z",
     "iopub.status.idle": "2022-04-05T12:35:34.647912Z",
     "shell.execute_reply": "2022-04-05T12:35:34.648352Z",
     "shell.execute_reply.started": "2022-04-05T10:33:07.560560Z"
    },
    "papermill": {
     "duration": 0.033007,
     "end_time": "2022-04-05T12:35:34.648524",
     "exception": false,
     "start_time": "2022-04-05T12:35:34.615517",
     "status": "completed"
    },
    "tags": []
   },
   "outputs": [],
   "source": [
    "# default number of recommendations\n",
    "K = 12\n",
    "EPOCHS = 100\n",
    "LEARNING_RATE = 0.1\n",
    "NO_COMPONENTS = 50\n",
    "NO_THREADS = 32\n",
    "ITEM_ALPHA=1e-6\n",
    "USER_ALPHA=1e-6\n",
    "# cold_userはwarp, alpha: 1e-5がよさげ\n",
    "\n",
    "num_cores=4"
   ]
  },
  {
   "cell_type": "markdown",
   "id": "61a2d9b4",
   "metadata": {
    "papermill": {
     "duration": 0.024449,
     "end_time": "2022-04-05T12:35:34.697820",
     "exception": false,
     "start_time": "2022-04-05T12:35:34.673371",
     "status": "completed"
    },
    "tags": []
   },
   "source": [
    "## Load the data"
   ]
  },
  {
   "cell_type": "code",
   "execution_count": 4,
   "id": "f6ae6827",
   "metadata": {
    "execution": {
     "iopub.execute_input": "2022-04-05T12:35:34.751241Z",
     "iopub.status.busy": "2022-04-05T12:35:34.750576Z",
     "iopub.status.idle": "2022-04-05T12:37:02.630029Z",
     "shell.execute_reply": "2022-04-05T12:37:02.630784Z",
     "shell.execute_reply.started": "2022-04-05T10:33:07.572607Z"
    },
    "papermill": {
     "duration": 87.908237,
     "end_time": "2022-04-05T12:37:02.630991",
     "exception": false,
     "start_time": "2022-04-05T12:35:34.722754",
     "status": "completed"
    },
    "tags": []
   },
   "outputs": [],
   "source": [
    "main_dir = \"../input/h-and-m-personalized-fashion-recommendations\"\n",
    "images_dir = main_dir+\"/images/\" \n",
    "customers = pd.read_csv(main_dir+\"/customers.csv\")\n",
    "articles = pd.read_csv(main_dir+\"/articles.csv\", dtype={'article_id': str})\n",
    "sample_submission = pd.read_csv(main_dir+\"/sample_submission.csv\", dtype={'article_id': str})\n",
    "train = pd.read_csv(main_dir+'/transactions_train.csv',  dtype={'article_id': str}, parse_dates=['t_dat'])"
   ]
  },
  {
   "cell_type": "markdown",
   "id": "43fecd1e",
   "metadata": {
    "papermill": {
     "duration": 0.024785,
     "end_time": "2022-04-05T12:37:02.681664",
     "exception": false,
     "start_time": "2022-04-05T12:37:02.656879",
     "status": "completed"
    },
    "tags": []
   },
   "source": [
    "# features"
   ]
  },
  {
   "cell_type": "code",
   "execution_count": 5,
   "id": "3b9cdb20",
   "metadata": {
    "execution": {
     "iopub.execute_input": "2022-04-05T12:37:02.735892Z",
     "iopub.status.busy": "2022-04-05T12:37:02.735169Z",
     "iopub.status.idle": "2022-04-05T12:37:09.686698Z",
     "shell.execute_reply": "2022-04-05T12:37:09.686092Z",
     "shell.execute_reply.started": "2022-04-05T10:34:27.474274Z"
    },
    "papermill": {
     "duration": 6.979988,
     "end_time": "2022-04-05T12:37:09.686868",
     "exception": false,
     "start_time": "2022-04-05T12:37:02.706880",
     "status": "completed"
    },
    "tags": []
   },
   "outputs": [
    {
     "name": "stderr",
     "output_type": "stream",
     "text": [
      "/opt/conda/lib/python3.7/site-packages/ipykernel_launcher.py:4: FutureWarning: Series.dt.weekofyear and Series.dt.week have been deprecated.  Please use Series.dt.isocalendar().week instead.\n",
      "  after removing the cwd from sys.path.\n"
     ]
    }
   ],
   "source": [
    "train[\"t_dat\"] = pd.to_datetime(train[\"t_dat\"])\n",
    "\n",
    "date_week_df = train.drop_duplicates(\"t_dat\")[[\"t_dat\"]].reset_index(drop=True)\n",
    "date_week_df['week_no'] = (date_week_df['t_dat'] + pd.DateOffset(days=5)).dt.week\n",
    "date_week_df[\"week_no\"] = date_week_df[\"week_no\"].diff(1)\n",
    "date_week_df[\"week_no\"].fillna(0, inplace=True)\n",
    "date_week_df[\"week_no\"] = date_week_df[\"week_no\"] != 0\n",
    "date_week_df[\"week_no\"] = date_week_df[\"week_no\"].cumsum()\n",
    "\n",
    "train = pd.merge(train, date_week_df, on=\"t_dat\", how=\"left\")\n",
    "test_week = train.week_no.max()\n",
    "\n",
    "del date_week_df"
   ]
  },
  {
   "cell_type": "code",
   "execution_count": 6,
   "id": "c1f42ed4",
   "metadata": {
    "execution": {
     "iopub.execute_input": "2022-04-05T12:37:09.754687Z",
     "iopub.status.busy": "2022-04-05T12:37:09.750348Z",
     "iopub.status.idle": "2022-04-05T12:37:45.969204Z",
     "shell.execute_reply": "2022-04-05T12:37:45.968483Z",
     "shell.execute_reply.started": "2022-04-05T10:34:34.351615Z"
    },
    "papermill": {
     "duration": 36.25389,
     "end_time": "2022-04-05T12:37:45.969375",
     "exception": false,
     "start_time": "2022-04-05T12:37:09.715485",
     "status": "completed"
    },
    "tags": []
   },
   "outputs": [],
   "source": [
    "if VALID:\n",
    "    tmp = train[train.week_no < test_week].reset_index(drop=True).copy()\n",
    "else:\n",
    "    tmp = train.copy()\n",
    "\n",
    "# count encoding\n",
    "#tmp = pd.merge(tmp, article_df[[\"article_id\"] + article_columns], on='article_id', how='left')\n",
    "    \n",
    "item_count = tmp[\"article_id\"].value_counts().reset_index()\n",
    "item_count.columns = [\"article_id\", \"item_count\"]\n",
    "user_count = tmp[\"customer_id\"].value_counts().reset_index()\n",
    "user_count.columns = [\"customer_id\", \"user_count\"]\n",
    "\n",
    "tmp1 = tmp[tmp.sales_channel_id==1][\"article_id\"].value_counts().reset_index()\n",
    "tmp1.columns = [\"article_id\", \"count_in1\"]\n",
    "\n",
    "tmp2 = tmp[tmp.sales_channel_id==2][\"article_id\"].value_counts().reset_index()\n",
    "tmp2.columns = [\"article_id\", \"count_in2\"]\n",
    "\n",
    "sales_channel_count = pd.merge(tmp1, tmp2, on=\"article_id\", how=\"outer\").fillna(0)\n",
    "sales_channel_count[\"channel_ratio\"] = sales_channel_count[\"count_in1\"] / (sales_channel_count[\"count_in2\"]+0.1)\n",
    "del tmp1, tmp2, tmp\n",
    "\n",
    "customers = pd.merge(customers, user_count, on = \"customer_id\", how=\"left\")\n",
    "customers[\"user_count\"].fillna(0, inplace=True)\n",
    "\n",
    "articles = pd.merge(articles, item_count, on = \"article_id\", how=\"left\")\n",
    "articles = pd.merge(articles, sales_channel_count, on = \"article_id\", how=\"left\")\n",
    "articles[\"item_count\"].fillna(0, inplace=True)\n",
    "articles.fillna(-1, inplace=True)"
   ]
  },
  {
   "cell_type": "code",
   "execution_count": 7,
   "id": "2bc8c389",
   "metadata": {
    "execution": {
     "iopub.execute_input": "2022-04-05T12:37:46.033271Z",
     "iopub.status.busy": "2022-04-05T12:37:46.031917Z",
     "iopub.status.idle": "2022-04-05T12:37:46.070211Z",
     "shell.execute_reply": "2022-04-05T12:37:46.070742Z",
     "shell.execute_reply.started": "2022-04-05T10:35:02.258365Z"
    },
    "papermill": {
     "duration": 0.075824,
     "end_time": "2022-04-05T12:37:46.070918",
     "exception": false,
     "start_time": "2022-04-05T12:37:45.995094",
     "status": "completed"
    },
    "tags": []
   },
   "outputs": [
    {
     "data": {
      "text/plain": [
       "['product_code',\n",
       " 'product_type_no',\n",
       " 'graphical_appearance_no',\n",
       " 'colour_group_code',\n",
       " 'perceived_colour_value_id',\n",
       " 'perceived_colour_master_id',\n",
       " 'department_no',\n",
       " 'index_group_no',\n",
       " 'section_no',\n",
       " 'garment_group_no']"
      ]
     },
     "execution_count": 7,
     "metadata": {},
     "output_type": "execute_result"
    }
   ],
   "source": [
    "# item\n",
    "article_columns = [i for i in articles.columns if \"int\" in str(articles[i].dtype)]\n",
    "#article_columns += [\"item_count\", \"count_in1\", \"count_in2\", \"channel_ratio\"]\n",
    "articles = articles[['article_id'] + article_columns]\n",
    "\n",
    "#image_feats = pd.read_csv(\"../input/hm-table-dataset/autox_features.csv\")\n",
    "#articles = pd.concat([articles, image_feats], axis=1)\n",
    "#articles.fillna(-999, inplace=True)\n",
    "#del image_feats\n",
    "#article_columns = [i for i in articles.columns if \"int\" in str(articles[i].dtype) or \"float\" in str(articles[i].dtype)]\n",
    "article_columns"
   ]
  },
  {
   "cell_type": "code",
   "execution_count": 8,
   "id": "f8d96f7e",
   "metadata": {
    "execution": {
     "iopub.execute_input": "2022-04-05T12:37:46.132300Z",
     "iopub.status.busy": "2022-04-05T12:37:46.127881Z",
     "iopub.status.idle": "2022-04-05T12:38:00.027961Z",
     "shell.execute_reply": "2022-04-05T12:38:00.028729Z",
     "shell.execute_reply.started": "2022-04-05T10:35:02.306461Z"
    },
    "papermill": {
     "duration": 13.930079,
     "end_time": "2022-04-05T12:38:00.028931",
     "exception": false,
     "start_time": "2022-04-05T12:37:46.098852",
     "status": "completed"
    },
    "tags": []
   },
   "outputs": [
    {
     "data": {
      "text/plain": [
       "['FN',\n",
       " 'Active',\n",
       " 'club_member_status',\n",
       " 'fashion_news_frequency',\n",
       " 'postal_code',\n",
       " 'age']"
      ]
     },
     "execution_count": 8,
     "metadata": {},
     "output_type": "execute_result"
    }
   ],
   "source": [
    "# user\n",
    "user_columns = ['FN', 'Active', 'club_member_status', 'fashion_news_frequency', 'postal_code']\n",
    "customers.fillna(-1, inplace=True)\n",
    "for feat in user_columns:\n",
    "    lbl = preprocessing.LabelEncoder()\n",
    "    lbl.fit(list(customers[feat]))\n",
    "    customers[feat] = lbl.transform(list(customers[feat]))\n",
    "user_columns += ['age'] #, \"user_count\"]\n",
    "user_columns"
   ]
  },
  {
   "cell_type": "markdown",
   "id": "eac5f88f",
   "metadata": {
    "papermill": {
     "duration": 0.027198,
     "end_time": "2022-04-05T12:38:00.083643",
     "exception": false,
     "start_time": "2022-04-05T12:38:00.056445",
     "status": "completed"
    },
    "tags": []
   },
   "source": [
    "# dataset"
   ]
  },
  {
   "cell_type": "code",
   "execution_count": 9,
   "id": "e5149c58",
   "metadata": {
    "execution": {
     "iopub.execute_input": "2022-04-05T12:38:00.141489Z",
     "iopub.status.busy": "2022-04-05T12:38:00.140387Z",
     "iopub.status.idle": "2022-04-05T12:38:02.285048Z",
     "shell.execute_reply": "2022-04-05T12:38:02.284184Z",
     "shell.execute_reply.started": "2022-04-05T10:35:13.837497Z"
    },
    "papermill": {
     "duration": 2.175228,
     "end_time": "2022-04-05T12:38:02.285205",
     "exception": false,
     "start_time": "2022-04-05T12:38:00.109977",
     "status": "completed"
    },
    "tags": []
   },
   "outputs": [
    {
     "name": "stdout",
     "output_type": "stream",
     "text": [
      "Number of users: 1371980, Number of topics: 105542.\n"
     ]
    }
   ],
   "source": [
    "dataset = Dataset()\n",
    "dataset.fit(users=customers['customer_id'], \n",
    "            items=articles['article_id'],\n",
    "            user_features = user_columns,\n",
    "            item_features = article_columns) \n",
    "\n",
    "num_users, num_topics = dataset.interactions_shape()\n",
    "print(f'Number of users: {num_users}, Number of topics: {num_topics}.')\n",
    "\n",
    "#Get the mappings\n",
    "'''\n",
    "uid = mapping from customer_id to model equivalent user_id\n",
    "iid = mapping from article_id to  model equivalent article_id\n",
    "'''\n",
    "uid_map, ufeature_map, iid_map, ifeature_map = dataset.mapping() \n",
    "inv_uid_map = {v:k for k, v in uid_map.items()}\n",
    "inv_iid_map = {v:k for k, v in iid_map.items()}"
   ]
  },
  {
   "cell_type": "code",
   "execution_count": 10,
   "id": "a665cddc",
   "metadata": {
    "execution": {
     "iopub.execute_input": "2022-04-05T12:38:02.342678Z",
     "iopub.status.busy": "2022-04-05T12:38:02.341635Z",
     "iopub.status.idle": "2022-04-05T12:38:08.526595Z",
     "shell.execute_reply": "2022-04-05T12:38:08.525936Z",
     "shell.execute_reply.started": "2022-04-05T10:35:15.680031Z"
    },
    "papermill": {
     "duration": 6.214761,
     "end_time": "2022-04-05T12:38:08.526748",
     "exception": false,
     "start_time": "2022-04-05T12:38:02.311987",
     "status": "completed"
    },
    "tags": []
   },
   "outputs": [],
   "source": [
    "item_last_week = train.groupby(\"article_id\")[\"week_no\"].max().reset_index()\n",
    "weak_weight_items = item_last_week[item_last_week.week_no > 80][\"article_id\"].values\n",
    "weak_weight_id = [iid_map[ele] for ele in weak_weight_items]\n",
    "del item_last_week"
   ]
  },
  {
   "cell_type": "code",
   "execution_count": 11,
   "id": "80974970",
   "metadata": {
    "execution": {
     "iopub.execute_input": "2022-04-05T12:38:08.591006Z",
     "iopub.status.busy": "2022-04-05T12:38:08.590064Z",
     "iopub.status.idle": "2022-04-05T12:44:47.141617Z",
     "shell.execute_reply": "2022-04-05T12:44:47.142242Z",
     "shell.execute_reply.started": "2022-04-05T10:35:20.638603Z"
    },
    "papermill": {
     "duration": 398.587911,
     "end_time": "2022-04-05T12:44:47.142606",
     "exception": false,
     "start_time": "2022-04-05T12:38:08.554695",
     "status": "completed"
    },
    "tags": []
   },
   "outputs": [
    {
     "name": "stdout",
     "output_type": "stream",
     "text": [
      "(1371980, 105542)\n"
     ]
    }
   ],
   "source": [
    "if VALID:\n",
    "    train_set = train[train.week_no < test_week]\n",
    "    (interactions, weights) = dataset.build_interactions(train_set.iloc[:, 1:3].values)\n",
    "\n",
    "    valid = train[train.week_no == test_week].groupby('customer_id')['article_id'].apply(list).reset_index()\n",
    "    valid = valid.rename({'article_id':'prediction'},axis=1)\n",
    "    valid['prediction'] = valid.prediction.apply(lambda x: ' '.join([str(k) for k in x]))\n",
    "\n",
    "    inactive_users = list(set(train_set.customer_id) - set(train_set[train_set.week_no > test_week - 10][\"customer_id\"]))\n",
    "    cold_users = list(set(valid.customer_id) - set(train_set.customer_id))\n",
    "    del train_set\n",
    "else:\n",
    "    (interactions, weights) = dataset.build_interactions(train.iloc[:, 1:3].values)\n",
    "    \n",
    "dataset.build_item_features(((articles.iloc[index][\"article_id\"], article_columns) for index in range(articles.shape[0])))\n",
    "dataset.build_user_features(((customers.iloc[index][\"customer_id\"], user_columns) for index in range(customers.shape[0])))\n",
    "\n",
    "print(interactions.shape)\n",
    "del train"
   ]
  },
  {
   "cell_type": "code",
   "execution_count": 12,
   "id": "8fcfb985",
   "metadata": {
    "execution": {
     "iopub.execute_input": "2022-04-05T12:44:47.217065Z",
     "iopub.status.busy": "2022-04-05T12:44:47.215935Z",
     "iopub.status.idle": "2022-04-05T12:44:53.919664Z",
     "shell.execute_reply": "2022-04-05T12:44:53.918919Z",
     "shell.execute_reply.started": "2022-04-05T10:40:37.026081Z"
    },
    "papermill": {
     "duration": 6.750027,
     "end_time": "2022-04-05T12:44:53.919819",
     "exception": false,
     "start_time": "2022-04-05T12:44:47.169792",
     "status": "completed"
    },
    "tags": []
   },
   "outputs": [],
   "source": [
    "change_index = np.isin(weights.col, weak_weight_id)\n",
    "weights.data[change_index] = 2.0 #1.5"
   ]
  },
  {
   "cell_type": "markdown",
   "id": "f3ab0f6e",
   "metadata": {
    "papermill": {
     "duration": 0.031154,
     "end_time": "2022-04-05T12:44:53.978447",
     "exception": false,
     "start_time": "2022-04-05T12:44:53.947293",
     "status": "completed"
    },
    "tags": []
   },
   "source": [
    "# fitting"
   ]
  },
  {
   "cell_type": "code",
   "execution_count": 13,
   "id": "9be5927e",
   "metadata": {
    "execution": {
     "iopub.execute_input": "2022-04-05T12:44:54.065735Z",
     "iopub.status.busy": "2022-04-05T12:44:54.064461Z",
     "iopub.status.idle": "2022-04-05T14:06:02.494988Z",
     "shell.execute_reply": "2022-04-05T14:06:02.491072Z",
     "shell.execute_reply.started": "2022-04-05T10:40:43.600929Z"
    },
    "papermill": {
     "duration": 4868.478336,
     "end_time": "2022-04-05T14:06:02.495301",
     "exception": false,
     "start_time": "2022-04-05T12:44:54.016965",
     "status": "completed"
    },
    "tags": []
   },
   "outputs": [
    {
     "name": "stderr",
     "output_type": "stream",
     "text": [
      "Epoch: 100%|██████████| 100/100 [1:21:06<00:00, 48.67s/it]\n"
     ]
    },
    {
     "data": {
      "text/plain": [
       "<lightfm.lightfm.LightFM at 0x7fda0d09f610>"
      ]
     },
     "execution_count": 13,
     "metadata": {},
     "output_type": "execute_result"
    }
   ],
   "source": [
    "model = LightFM(loss='bpr', \n",
    "                no_components=NO_COMPONENTS, \n",
    "                learning_rate=LEARNING_RATE,                 \n",
    "                random_state=np.random.RandomState(SEED),\n",
    "                user_alpha=USER_ALPHA,\n",
    "                item_alpha=ITEM_ALPHA\n",
    "               )\n",
    "\n",
    "model.fit(interactions=interactions, \n",
    "          epochs=EPOCHS, \n",
    "          verbose=1, \n",
    "          num_threads=NO_THREADS,\n",
    "          sample_weight=weights,\n",
    "         )"
   ]
  },
  {
   "cell_type": "code",
   "execution_count": 14,
   "id": "bb9d0a17",
   "metadata": {
    "execution": {
     "iopub.execute_input": "2022-04-05T14:06:02.637859Z",
     "iopub.status.busy": "2022-04-05T14:06:02.636829Z",
     "iopub.status.idle": "2022-04-05T14:06:02.640977Z",
     "shell.execute_reply": "2022-04-05T14:06:02.641629Z",
     "shell.execute_reply.started": "2022-04-05T11:56:49.751730Z"
    },
    "papermill": {
     "duration": 0.0768,
     "end_time": "2022-04-05T14:06:02.641804",
     "exception": false,
     "start_time": "2022-04-05T14:06:02.565004",
     "status": "completed"
    },
    "tags": []
   },
   "outputs": [],
   "source": [
    "#!pip3 install pickle5\n",
    "#import pickle5 as pickle\n",
    "#with open('../input/lightfm1/lightFM1.pickle', \"rb\") as fh:\n",
    "#    trained_model = pickle.load(fh)"
   ]
  },
  {
   "cell_type": "markdown",
   "id": "6cf5cfdd",
   "metadata": {
    "papermill": {
     "duration": 0.064106,
     "end_time": "2022-04-05T14:06:02.770398",
     "exception": false,
     "start_time": "2022-04-05T14:06:02.706292",
     "status": "completed"
    },
    "tags": []
   },
   "source": [
    "# Submission"
   ]
  },
  {
   "cell_type": "code",
   "execution_count": 15,
   "id": "9746baca",
   "metadata": {
    "execution": {
     "iopub.execute_input": "2022-04-05T14:06:02.903456Z",
     "iopub.status.busy": "2022-04-05T14:06:02.902431Z",
     "iopub.status.idle": "2022-04-05T14:06:03.471959Z",
     "shell.execute_reply": "2022-04-05T14:06:03.472587Z",
     "shell.execute_reply.started": "2022-04-05T11:56:49.756641Z"
    },
    "papermill": {
     "duration": 0.638052,
     "end_time": "2022-04-05T14:06:03.472771",
     "exception": false,
     "start_time": "2022-04-05T14:06:02.834719",
     "status": "completed"
    },
    "tags": []
   },
   "outputs": [
    {
     "name": "stdout",
     "output_type": "stream",
     "text": [
      "68984\n"
     ]
    }
   ],
   "source": [
    "if VALID:\n",
    "    test_X = valid.customer_id.values\n",
    "else:\n",
    "    test_X = sample_submission.customer_id.values    \n",
    "\n",
    "lfn_user = lambda x: uid_map[x]\n",
    "test_X_m = [lfn_user(tx) for tx in test_X]\n",
    "\n",
    "print(len(test_X_m))"
   ]
  },
  {
   "cell_type": "code",
   "execution_count": 16,
   "id": "36e70f60",
   "metadata": {
    "execution": {
     "iopub.execute_input": "2022-04-05T14:06:03.607212Z",
     "iopub.status.busy": "2022-04-05T14:06:03.606199Z",
     "iopub.status.idle": "2022-04-05T14:06:04.883321Z",
     "shell.execute_reply": "2022-04-05T14:06:04.882647Z",
     "shell.execute_reply.started": "2022-04-05T11:56:50.042650Z"
    },
    "papermill": {
     "duration": 1.345495,
     "end_time": "2022-04-05T14:06:04.883477",
     "exception": false,
     "start_time": "2022-04-05T14:06:03.537982",
     "status": "completed"
    },
    "tags": []
   },
   "outputs": [],
   "source": [
    "def predict_submission():\n",
    "    df_split = np.array_split(test_X_m, num_cores)\n",
    "    chunk_size = len(df_split[0])\n",
    "    \n",
    "    chunk1 = list(df_split[0])\n",
    "    chunk2 = list(df_split[1])\n",
    "    chunk3 = list(df_split[2])\n",
    "    chunk4 = list(df_split[3])\n",
    "    \n",
    "    #list of items for multiprocessing, 4 since using 4 cores\n",
    "    all_chunks = [chunk1, chunk2, chunk3, chunk4]\n",
    "    \n",
    "    pool = Pool(num_cores)\n",
    "    result = pool.map(make_predict, all_chunks)\n",
    "    \n",
    "    pred_combined = list(itertools.chain(result[0], result[1], result[2], result[3]))\n",
    "\n",
    "    return pred_combined\n",
    "\n",
    "def make_predict(usr_chunk):\n",
    "    customer_ids = []\n",
    "    preds = []\n",
    "    item_array = np.array(list(iid_map.values()))\n",
    "\n",
    "    for usr_ in usr_chunk:\n",
    "        m_opt = model.predict(np.array([usr_] * len(iid_map)), item_array)\n",
    "        pred = np.argsort(-m_opt)[:K]\n",
    "        preds.append(' '.join([inv_iid_map[p] for p in pred]).strip())\n",
    "    \n",
    "    preds = np.array(preds).reshape(-1, 1)\n",
    "    return preds"
   ]
  },
  {
   "cell_type": "code",
   "execution_count": 17,
   "id": "402340f4",
   "metadata": {
    "execution": {
     "iopub.execute_input": "2022-04-05T14:06:05.019087Z",
     "iopub.status.busy": "2022-04-05T14:06:05.017928Z",
     "iopub.status.idle": "2022-04-05T14:18:08.040649Z",
     "shell.execute_reply": "2022-04-05T14:18:08.041213Z",
     "shell.execute_reply.started": "2022-04-05T11:56:51.208869Z"
    },
    "papermill": {
     "duration": 723.091368,
     "end_time": "2022-04-05T14:18:08.041418",
     "exception": false,
     "start_time": "2022-04-05T14:06:04.950050",
     "status": "completed"
    },
    "tags": []
   },
   "outputs": [
    {
     "name": "stdout",
     "output_type": "stream",
     "text": [
      "CPU times: user 1.12 s, sys: 750 ms, total: 1.87 s\n",
      "Wall time: 12min 2s\n"
     ]
    }
   ],
   "source": [
    "%%time\n",
    "final_predictions = predict_submission()"
   ]
  },
  {
   "cell_type": "code",
   "execution_count": 18,
   "id": "e71d23b8",
   "metadata": {
    "execution": {
     "iopub.execute_input": "2022-04-05T14:18:08.186080Z",
     "iopub.status.busy": "2022-04-05T14:18:08.185273Z",
     "iopub.status.idle": "2022-04-05T14:18:22.174822Z",
     "shell.execute_reply": "2022-04-05T14:18:22.173674Z",
     "shell.execute_reply.started": "2022-04-05T12:07:59.578609Z"
    },
    "papermill": {
     "duration": 14.066548,
     "end_time": "2022-04-05T14:18:22.174982",
     "exception": false,
     "start_time": "2022-04-05T14:18:08.108434",
     "status": "completed"
    },
    "tags": []
   },
   "outputs": [],
   "source": [
    "final_sub = pd.DataFrame(data=np.concatenate((np.array(test_X).reshape(-1,1), np.array(final_predictions)), axis=1).reshape(-1, 2),\n",
    "                         columns=['customer_id', 'prediction'])\n",
    "\n",
    "sample_submission.loc[sample_submission.customer_id.isin(final_sub.customer_id), 'prediction'] = ( \n",
    "    final_sub['prediction']\n",
    "    )\n",
    "sample_submission.to_csv('submission.csv', index=False)"
   ]
  },
  {
   "cell_type": "code",
   "execution_count": 19,
   "id": "6244b6c7",
   "metadata": {
    "execution": {
     "iopub.execute_input": "2022-04-05T14:18:22.316058Z",
     "iopub.status.busy": "2022-04-05T14:18:22.310436Z",
     "iopub.status.idle": "2022-04-05T14:18:30.881991Z",
     "shell.execute_reply": "2022-04-05T14:18:30.882584Z",
     "shell.execute_reply.started": "2022-04-05T12:08:07.535257Z"
    },
    "papermill": {
     "duration": 8.641868,
     "end_time": "2022-04-05T14:18:30.882829",
     "exception": false,
     "start_time": "2022-04-05T14:18:22.240961",
     "status": "completed"
    },
    "tags": []
   },
   "outputs": [
    {
     "name": "stdout",
     "output_type": "stream",
     "text": [
      "t 0.005859985083043677\n",
      "i 0.006306451357144094 19048\n",
      "c 4.839840738081944e-05 5572\n",
      "  \n",
      "0754362003 0731743001 0376172001 0731743004 0676111001 0569244002 0732108001 0649551007 0428291001 0768591002 0500435039 0780418001    5572\n",
      "0758050001 0758049001 0758064001 0758060001 0758040001 0758043001 0758088002 0758089002 0758084002 0758126002 0758064002 0758060002       3\n",
      "0120129001 0534164001 0215589001 0300024058 0775382001 0567532004 0433444001 0752657001 0510465001 0262277011 0469562002 0442915001       3\n",
      "0120129001 0534164001 0215589001 0300024058 0567532004 0775382001 0433444001 0752657001 0510465001 0262277011 0469562002 0442915001       2\n",
      "0120129001 0534164001 0215589001 0300024058 0567532004 0775382001 0752657001 0433444001 0510465001 0262277011 0469562002 0442915001       2\n",
      "                                                                                                                                       ... \n",
      "0629758005 0727948001 0736530007 0351484033 0698286003 0458543005 0629758013 0692721005 0727948005 0351484027 0599580012 0736530006       1\n",
      "0803772002 0778064003 0629420007 0629420001 0778064005 0827968001 0739529002 0803772001 0799365013 0799365001 0863937003 0806131003       1\n",
      "0841434001 0825577001 0803757001 0827968004 0610776002 0825600002 0372860002 0806388009 0759814009 0841434012 0857812003 0372860001       1\n",
      "0883033002 0850259001 0817353003 0832362002 0859105006 0818031001 0818031002 0859105002 0850259004 0883033001 0817472002 0850259002       1\n",
      "0879781003 0896169002 0879781002 0863937003 0817472005 0800691007 0817401001 0764073002 0918836001 0915529001 0915529003 0843793004       1\n",
      "Name: prediction, Length: 63403, dtype: int64\n"
     ]
    }
   ],
   "source": [
    "# local score\n",
    "if VALID:\n",
    "    sub_check = final_sub.copy()\n",
    "    sub_check = sub_check.set_index('customer_id').reset_index()\n",
    "    print(\"t\", mapk(valid.prediction.str.split(), sub_check.prediction.str.split(), k=12))    \n",
    "    print(\"i\", \n",
    "            mapk(valid[valid.customer_id.isin(inactive_users)].prediction.str.split(), \n",
    "               sub_check[sub_check.customer_id.isin(inactive_users)].prediction.str.split(), k=12),\n",
    "            valid[valid.customer_id.isin(inactive_users)].shape[0])\n",
    "    print(\"c\", \n",
    "            mapk(valid[valid.customer_id.isin(cold_users)].prediction.str.split(), \n",
    "               sub_check[sub_check.customer_id.isin(cold_users)].prediction.str.split(), k=12),\n",
    "            valid[valid.customer_id.isin(cold_users)].shape[0])\n",
    "    \n",
    "    print(\"  \")\n",
    "    print(sub_check[\"prediction\"].value_counts())  "
   ]
  },
  {
   "cell_type": "code",
   "execution_count": null,
   "id": "4ecf1f14",
   "metadata": {
    "papermill": {
     "duration": 0.067764,
     "end_time": "2022-04-05T14:18:31.018075",
     "exception": false,
     "start_time": "2022-04-05T14:18:30.950311",
     "status": "completed"
    },
    "tags": []
   },
   "outputs": [],
   "source": []
  }
 ],
 "metadata": {
  "kernelspec": {
   "display_name": "Python 3",
   "language": "python",
   "name": "python3"
  },
  "language_info": {
   "codemirror_mode": {
    "name": "ipython",
    "version": 3
   },
   "file_extension": ".py",
   "mimetype": "text/x-python",
   "name": "python",
   "nbconvert_exporter": "python",
   "pygments_lexer": "ipython3",
   "version": "3.7.12"
  },
  "papermill": {
   "default_parameters": {},
   "duration": 6190.839767,
   "end_time": "2022-04-05T14:18:33.714974",
   "environment_variables": {},
   "exception": null,
   "input_path": "__notebook__.ipynb",
   "output_path": "__notebook__.ipynb",
   "parameters": {},
   "start_time": "2022-04-05T12:35:22.875207",
   "version": "2.3.3"
  }
 },
 "nbformat": 4,
 "nbformat_minor": 5
}
