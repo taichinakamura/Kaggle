{
 "cells": [
  {
   "cell_type": "markdown",
   "id": "0bce3885",
   "metadata": {
    "papermill": {
     "duration": 0.026313,
     "end_time": "2022-04-06T06:01:41.984241",
     "exception": false,
     "start_time": "2022-04-06T06:01:41.957928",
     "status": "completed"
    },
    "tags": []
   },
   "source": [
    "- https://making.lyst.com/lightfm/docs/lightfm.html\n",
    "- modify mistake in valid label\n",
    "- consider item, user features\n",
    "- change weight and range\n",
    "- add some features"
   ]
  },
  {
   "cell_type": "code",
   "execution_count": 1,
   "id": "9b4d2418",
   "metadata": {
    "execution": {
     "iopub.execute_input": "2022-04-06T06:01:42.041599Z",
     "iopub.status.busy": "2022-04-06T06:01:42.040623Z",
     "iopub.status.idle": "2022-04-06T06:01:43.182739Z",
     "shell.execute_reply": "2022-04-06T06:01:43.183356Z",
     "shell.execute_reply.started": "2022-04-06T04:19:47.893302Z"
    },
    "papermill": {
     "duration": 1.175167,
     "end_time": "2022-04-06T06:01:43.183658",
     "exception": false,
     "start_time": "2022-04-06T06:01:42.008491",
     "status": "completed"
    },
    "tags": []
   },
   "outputs": [],
   "source": [
    "import os\n",
    "import tqdm\n",
    "\n",
    "import numpy as np\n",
    "import pandas as pd\n",
    "from lightfm import LightFM\n",
    "from lightfm.data import Dataset\n",
    "from sklearn import preprocessing\n",
    "\n",
    "import itertools\n",
    "from multiprocessing import Pool\n",
    "\n",
    "SEED = 42\n",
    "np.random.seed(SEED)\n",
    "os.environ['PYTHONHASHSEED'] = str(SEED)\n",
    "\n",
    "VALID = True"
   ]
  },
  {
   "cell_type": "code",
   "execution_count": 2,
   "id": "fd36a633",
   "metadata": {
    "execution": {
     "iopub.execute_input": "2022-04-06T06:01:43.235745Z",
     "iopub.status.busy": "2022-04-06T06:01:43.234723Z",
     "iopub.status.idle": "2022-04-06T06:01:43.244101Z",
     "shell.execute_reply": "2022-04-06T06:01:43.244673Z",
     "shell.execute_reply.started": "2022-04-06T04:19:49.112304Z"
    },
    "papermill": {
     "duration": 0.037071,
     "end_time": "2022-04-06T06:01:43.244897",
     "exception": false,
     "start_time": "2022-04-06T06:01:43.207826",
     "status": "completed"
    },
    "tags": []
   },
   "outputs": [],
   "source": [
    "def apk(actual, predicted, k=12):\n",
    "    if len(predicted)>k:\n",
    "        predicted = predicted[:k]\n",
    "        \n",
    "    score = 0.0\n",
    "    num_hits = 0.0\n",
    "    \n",
    "    for i,p in enumerate(predicted):\n",
    "        if p in actual and p not in predicted[:i]:\n",
    "            num_hits += 1.0\n",
    "            score += num_hits / (i+1.0)\n",
    "\n",
    "    if not actual:\n",
    "        return 0.0\n",
    "\n",
    "    return score / min(len(actual), k)\n",
    "\n",
    "\n",
    "def mapk(actual, predicted, k=12):\n",
    "    \"\"\"\n",
    "    Computes the mean average precision at k.\n",
    "    This function computes the mean average prescision at k between two lists\n",
    "    of lists of items.\n",
    "    Parameters\n",
    "    ----------\n",
    "    actual : list\n",
    "             A list of lists of elements that are to be predicted \n",
    "             (order doesn't matter in the lists)\n",
    "    predicted : list\n",
    "                A list of lists of predicted elements\n",
    "                (order matters in the lists)\n",
    "    k : int, optional\n",
    "        The maximum number of predicted elements\n",
    "    Returns\n",
    "    -------\n",
    "    score : double\n",
    "            The mean average precision at k over the input lists\n",
    "    \"\"\"\n",
    "    return np.mean([apk(a,p,k) for a,p in zip(actual, predicted)])"
   ]
  },
  {
   "cell_type": "markdown",
   "id": "0ba4406b",
   "metadata": {
    "papermill": {
     "duration": 0.023665,
     "end_time": "2022-04-06T06:01:43.292778",
     "exception": false,
     "start_time": "2022-04-06T06:01:43.269113",
     "status": "completed"
    },
    "tags": []
   },
   "source": [
    "## Configs"
   ]
  },
  {
   "cell_type": "code",
   "execution_count": 3,
   "id": "e7449c66",
   "metadata": {
    "execution": {
     "iopub.execute_input": "2022-04-06T06:01:43.344899Z",
     "iopub.status.busy": "2022-04-06T06:01:43.343839Z",
     "iopub.status.idle": "2022-04-06T06:01:43.348528Z",
     "shell.execute_reply": "2022-04-06T06:01:43.349077Z",
     "shell.execute_reply.started": "2022-04-06T04:19:49.126749Z"
    },
    "papermill": {
     "duration": 0.032578,
     "end_time": "2022-04-06T06:01:43.349267",
     "exception": false,
     "start_time": "2022-04-06T06:01:43.316689",
     "status": "completed"
    },
    "tags": []
   },
   "outputs": [],
   "source": [
    "# default number of recommendations\n",
    "K = 12\n",
    "EPOCHS = 100\n",
    "LEARNING_RATE = 0.1 \n",
    "NO_COMPONENTS = 50\n",
    "NO_THREADS = 32\n",
    "ITEM_ALPHA=1e-6\n",
    "USER_ALPHA=1e-6\n",
    "\n",
    "num_cores=4"
   ]
  },
  {
   "cell_type": "markdown",
   "id": "57b5ec49",
   "metadata": {
    "papermill": {
     "duration": 0.023424,
     "end_time": "2022-04-06T06:01:43.396342",
     "exception": false,
     "start_time": "2022-04-06T06:01:43.372918",
     "status": "completed"
    },
    "tags": []
   },
   "source": [
    "## Load the data"
   ]
  },
  {
   "cell_type": "code",
   "execution_count": 4,
   "id": "8a221b1c",
   "metadata": {
    "execution": {
     "iopub.execute_input": "2022-04-06T06:01:43.450209Z",
     "iopub.status.busy": "2022-04-06T06:01:43.449241Z",
     "iopub.status.idle": "2022-04-06T06:03:17.852333Z",
     "shell.execute_reply": "2022-04-06T06:03:17.852865Z",
     "shell.execute_reply.started": "2022-04-06T04:19:49.146475Z"
    },
    "papermill": {
     "duration": 94.430618,
     "end_time": "2022-04-06T06:03:17.853078",
     "exception": false,
     "start_time": "2022-04-06T06:01:43.422460",
     "status": "completed"
    },
    "tags": []
   },
   "outputs": [],
   "source": [
    "main_dir = \"../input/h-and-m-personalized-fashion-recommendations\"\n",
    "images_dir = main_dir+\"/images/\" \n",
    "customers = pd.read_csv(main_dir+\"/customers.csv\")\n",
    "articles = pd.read_csv(main_dir+\"/articles.csv\", dtype={'article_id': str})\n",
    "sample_submission = pd.read_csv(main_dir+\"/sample_submission.csv\", dtype={'article_id': str})\n",
    "train = pd.read_csv(main_dir+'/transactions_train.csv',  dtype={'article_id': str}, parse_dates=['t_dat'])"
   ]
  },
  {
   "cell_type": "markdown",
   "id": "0d92a4e4",
   "metadata": {
    "papermill": {
     "duration": 0.024031,
     "end_time": "2022-04-06T06:03:17.902184",
     "exception": false,
     "start_time": "2022-04-06T06:03:17.878153",
     "status": "completed"
    },
    "tags": []
   },
   "source": [
    "# features"
   ]
  },
  {
   "cell_type": "code",
   "execution_count": 5,
   "id": "63f7f6d2",
   "metadata": {
    "execution": {
     "iopub.execute_input": "2022-04-06T06:03:17.955623Z",
     "iopub.status.busy": "2022-04-06T06:03:17.954790Z",
     "iopub.status.idle": "2022-04-06T06:03:26.942203Z",
     "shell.execute_reply": "2022-04-06T06:03:26.941672Z",
     "shell.execute_reply.started": "2022-04-06T04:21:17.754417Z"
    },
    "papermill": {
     "duration": 9.0154,
     "end_time": "2022-04-06T06:03:26.942398",
     "exception": false,
     "start_time": "2022-04-06T06:03:17.926998",
     "status": "completed"
    },
    "tags": []
   },
   "outputs": [
    {
     "name": "stderr",
     "output_type": "stream",
     "text": [
      "/opt/conda/lib/python3.7/site-packages/ipykernel_launcher.py:4: FutureWarning: Series.dt.weekofyear and Series.dt.week have been deprecated.  Please use Series.dt.isocalendar().week instead.\n",
      "  after removing the cwd from sys.path.\n"
     ]
    }
   ],
   "source": [
    "train[\"t_dat\"] = pd.to_datetime(train[\"t_dat\"])\n",
    "\n",
    "date_week_df = train.drop_duplicates(\"t_dat\")[[\"t_dat\"]].reset_index(drop=True)\n",
    "date_week_df['week_no'] = (date_week_df['t_dat'] + pd.DateOffset(days=5)).dt.week\n",
    "date_week_df[\"week_no\"] = date_week_df[\"week_no\"].diff(1)\n",
    "date_week_df[\"week_no\"].fillna(0, inplace=True)\n",
    "date_week_df[\"week_no\"] = date_week_df[\"week_no\"] != 0\n",
    "date_week_df[\"week_no\"] = date_week_df[\"week_no\"].cumsum()\n",
    "\n",
    "train = pd.merge(train, date_week_df, on=\"t_dat\", how=\"left\")\n",
    "test_week = train.week_no.max()\n",
    "\n",
    "del date_week_df"
   ]
  },
  {
   "cell_type": "code",
   "execution_count": 6,
   "id": "0dca7019",
   "metadata": {
    "execution": {
     "iopub.execute_input": "2022-04-06T06:03:26.997324Z",
     "iopub.status.busy": "2022-04-06T06:03:26.996309Z",
     "iopub.status.idle": "2022-04-06T06:04:10.995477Z",
     "shell.execute_reply": "2022-04-06T06:04:10.994723Z",
     "shell.execute_reply.started": "2022-04-06T04:21:22.949424Z"
    },
    "papermill": {
     "duration": 44.026664,
     "end_time": "2022-04-06T06:04:10.995635",
     "exception": false,
     "start_time": "2022-04-06T06:03:26.968971",
     "status": "completed"
    },
    "tags": []
   },
   "outputs": [],
   "source": [
    "if VALID:\n",
    "    tmp = train[train.week_no < test_week].reset_index(drop=True).copy()\n",
    "else:\n",
    "    tmp = train.copy()\n",
    "\n",
    "# count encoding\n",
    "#tmp = pd.merge(tmp, article_df[[\"article_id\"] + article_columns], on='article_id', how='left')\n",
    "    \n",
    "item_count = tmp[\"article_id\"].value_counts().reset_index()\n",
    "item_count.columns = [\"article_id\", \"item_count\"]\n",
    "user_count = tmp[\"customer_id\"].value_counts().reset_index()\n",
    "user_count.columns = [\"customer_id\", \"user_count\"]\n",
    "\n",
    "tmp1 = tmp[tmp.sales_channel_id==1][\"article_id\"].value_counts().reset_index()\n",
    "tmp1.columns = [\"article_id\", \"count_in1\"]\n",
    "\n",
    "tmp2 = tmp[tmp.sales_channel_id==2][\"article_id\"].value_counts().reset_index()\n",
    "tmp2.columns = [\"article_id\", \"count_in2\"]\n",
    "\n",
    "sales_channel_count = pd.merge(tmp1, tmp2, on=\"article_id\", how=\"outer\").fillna(0)\n",
    "sales_channel_count[\"channel_ratio\"] = sales_channel_count[\"count_in1\"] / (sales_channel_count[\"count_in2\"]+0.1)\n",
    "del tmp1, tmp2, tmp\n",
    "\n",
    "customers = pd.merge(customers, user_count, on = \"customer_id\", how=\"left\")\n",
    "customers[\"user_count\"].fillna(0, inplace=True)\n",
    "\n",
    "articles = pd.merge(articles, item_count, on = \"article_id\", how=\"left\")\n",
    "articles = pd.merge(articles, sales_channel_count, on = \"article_id\", how=\"left\")\n",
    "articles[\"item_count\"].fillna(0, inplace=True)\n",
    "articles.fillna(-1, inplace=True)"
   ]
  },
  {
   "cell_type": "code",
   "execution_count": 7,
   "id": "cf2fee39",
   "metadata": {
    "execution": {
     "iopub.execute_input": "2022-04-06T06:04:11.047883Z",
     "iopub.status.busy": "2022-04-06T06:04:11.047149Z",
     "iopub.status.idle": "2022-04-06T06:04:11.098984Z",
     "shell.execute_reply": "2022-04-06T06:04:11.099506Z",
     "shell.execute_reply.started": "2022-04-06T04:21:51.258109Z"
    },
    "papermill": {
     "duration": 0.079568,
     "end_time": "2022-04-06T06:04:11.099687",
     "exception": false,
     "start_time": "2022-04-06T06:04:11.020119",
     "status": "completed"
    },
    "tags": []
   },
   "outputs": [
    {
     "data": {
      "text/plain": [
       "['product_code',\n",
       " 'product_type_no',\n",
       " 'graphical_appearance_no',\n",
       " 'colour_group_code',\n",
       " 'perceived_colour_value_id',\n",
       " 'perceived_colour_master_id',\n",
       " 'department_no',\n",
       " 'index_group_no',\n",
       " 'section_no',\n",
       " 'garment_group_no',\n",
       " 'item_count',\n",
       " 'count_in1',\n",
       " 'count_in2',\n",
       " 'channel_ratio']"
      ]
     },
     "execution_count": 7,
     "metadata": {},
     "output_type": "execute_result"
    }
   ],
   "source": [
    "# item\n",
    "article_columns = [i for i in articles.columns if \"int\" in str(articles[i].dtype)]\n",
    "article_columns += [\"item_count\", \"count_in1\", \"count_in2\", \"channel_ratio\"]\n",
    "articles = articles[['article_id'] + article_columns]\n",
    "\n",
    "article_columns"
   ]
  },
  {
   "cell_type": "code",
   "execution_count": 8,
   "id": "8271c116",
   "metadata": {
    "execution": {
     "iopub.execute_input": "2022-04-06T06:04:11.152788Z",
     "iopub.status.busy": "2022-04-06T06:04:11.152102Z",
     "iopub.status.idle": "2022-04-06T06:04:27.254770Z",
     "shell.execute_reply": "2022-04-06T06:04:27.254149Z",
     "shell.execute_reply.started": "2022-04-06T04:21:51.308865Z"
    },
    "papermill": {
     "duration": 16.130249,
     "end_time": "2022-04-06T06:04:27.254919",
     "exception": false,
     "start_time": "2022-04-06T06:04:11.124670",
     "status": "completed"
    },
    "tags": []
   },
   "outputs": [
    {
     "data": {
      "text/plain": [
       "['FN',\n",
       " 'Active',\n",
       " 'club_member_status',\n",
       " 'fashion_news_frequency',\n",
       " 'postal_code',\n",
       " 'age',\n",
       " 'user_count']"
      ]
     },
     "execution_count": 8,
     "metadata": {},
     "output_type": "execute_result"
    }
   ],
   "source": [
    "# user\n",
    "user_columns = ['FN', 'Active', 'club_member_status', 'fashion_news_frequency', 'postal_code']\n",
    "customers.fillna(-1, inplace=True)\n",
    "for feat in user_columns:\n",
    "    lbl = preprocessing.LabelEncoder()\n",
    "    lbl.fit(list(customers[feat]))\n",
    "    customers[feat] = lbl.transform(list(customers[feat]))\n",
    "user_columns += ['age', \"user_count\"]\n",
    "user_columns"
   ]
  },
  {
   "cell_type": "markdown",
   "id": "c28d0742",
   "metadata": {
    "papermill": {
     "duration": 0.025049,
     "end_time": "2022-04-06T06:04:27.305573",
     "exception": false,
     "start_time": "2022-04-06T06:04:27.280524",
     "status": "completed"
    },
    "tags": []
   },
   "source": [
    "# dataset"
   ]
  },
  {
   "cell_type": "code",
   "execution_count": 9,
   "id": "ab416e95",
   "metadata": {
    "execution": {
     "iopub.execute_input": "2022-04-06T06:04:27.363835Z",
     "iopub.status.busy": "2022-04-06T06:04:27.363096Z",
     "iopub.status.idle": "2022-04-06T06:04:29.996459Z",
     "shell.execute_reply": "2022-04-06T06:04:29.997002Z",
     "shell.execute_reply.started": "2022-04-06T04:22:00.739156Z"
    },
    "papermill": {
     "duration": 2.666029,
     "end_time": "2022-04-06T06:04:29.997172",
     "exception": false,
     "start_time": "2022-04-06T06:04:27.331143",
     "status": "completed"
    },
    "tags": []
   },
   "outputs": [
    {
     "name": "stdout",
     "output_type": "stream",
     "text": [
      "Number of users: 1371980, Number of topics: 105542.\n"
     ]
    }
   ],
   "source": [
    "dataset = Dataset()\n",
    "dataset.fit(users=customers['customer_id'], \n",
    "            items=articles['article_id'],\n",
    "            user_features = user_columns,\n",
    "            item_features = article_columns) \n",
    "\n",
    "num_users, num_topics = dataset.interactions_shape()\n",
    "print(f'Number of users: {num_users}, Number of topics: {num_topics}.')\n",
    "\n",
    "#Get the mappings\n",
    "'''\n",
    "uid = mapping from customer_id to model equivalent user_id\n",
    "iid = mapping from article_id to  model equivalent article_id\n",
    "'''\n",
    "uid_map, ufeature_map, iid_map, ifeature_map = dataset.mapping() \n",
    "inv_uid_map = {v:k for k, v in uid_map.items()}\n",
    "inv_iid_map = {v:k for k, v in iid_map.items()}"
   ]
  },
  {
   "cell_type": "code",
   "execution_count": 10,
   "id": "ef33424a",
   "metadata": {
    "execution": {
     "iopub.execute_input": "2022-04-06T06:04:32.304339Z",
     "iopub.status.busy": "2022-04-06T06:04:32.303641Z",
     "iopub.status.idle": "2022-04-06T06:04:36.686012Z",
     "shell.execute_reply": "2022-04-06T06:04:36.684981Z",
     "shell.execute_reply.started": "2022-04-06T04:22:02.381134Z"
    },
    "papermill": {
     "duration": 6.663371,
     "end_time": "2022-04-06T06:04:36.686178",
     "exception": false,
     "start_time": "2022-04-06T06:04:30.022807",
     "status": "completed"
    },
    "tags": []
   },
   "outputs": [],
   "source": [
    "item_last_week = train.groupby(\"article_id\")[\"week_no\"].max().reset_index()\n",
    "weak_weight_items = item_last_week[item_last_week.week_no > 80][\"article_id\"].values\n",
    "weak_weight_id = [iid_map[ele] for ele in weak_weight_items]\n",
    "del item_last_week"
   ]
  },
  {
   "cell_type": "code",
   "execution_count": 11,
   "id": "d6e34554",
   "metadata": {
    "execution": {
     "iopub.execute_input": "2022-04-06T06:04:36.756293Z",
     "iopub.status.busy": "2022-04-06T06:04:36.755156Z",
     "iopub.status.idle": "2022-04-06T06:11:57.055238Z",
     "shell.execute_reply": "2022-04-06T06:11:57.055862Z",
     "shell.execute_reply.started": "2022-04-06T04:22:07.600388Z"
    },
    "papermill": {
     "duration": 440.344402,
     "end_time": "2022-04-06T06:11:57.056442",
     "exception": false,
     "start_time": "2022-04-06T06:04:36.712040",
     "status": "completed"
    },
    "tags": []
   },
   "outputs": [
    {
     "name": "stdout",
     "output_type": "stream",
     "text": [
      "(1371980, 105542)\n"
     ]
    }
   ],
   "source": [
    "if VALID:\n",
    "    train_set = train[train.week_no < test_week]\n",
    "    train_ser = train_set.drop_duplicates([\"customer_id\", \"article_id\"]).reset_index(drop=True) #\n",
    "    (interactions, weights) = dataset.build_interactions(train_set.iloc[:, 1:3].values)\n",
    "\n",
    "    valid = train[train.week_no == test_week].groupby('customer_id')['article_id'].apply(list).reset_index()\n",
    "    valid = valid.rename({'article_id':'prediction'},axis=1)\n",
    "    valid['prediction'] = valid.prediction.apply(lambda x: ' '.join([str(k) for k in x]))\n",
    "\n",
    "    inactive_users = list(set(train_set.customer_id) - set(train_set[train_set.week_no > test_week - 10][\"customer_id\"]))\n",
    "    cold_users = list(set(valid.customer_id) - set(train_set.customer_id))\n",
    "    del train_set\n",
    "else:\n",
    "    (interactions, weights) = dataset.build_interactions(train.iloc[:, 1:3].values)\n",
    "    \n",
    "dataset.build_item_features(((articles.iloc[index][\"article_id\"], article_columns) for index in range(articles.shape[0])))\n",
    "dataset.build_user_features(((customers.iloc[index][\"customer_id\"], user_columns) for index in range(customers.shape[0])))\n",
    "\n",
    "print(interactions.shape)\n",
    "del train"
   ]
  },
  {
   "cell_type": "code",
   "execution_count": 12,
   "id": "a40cc793",
   "metadata": {
    "execution": {
     "iopub.execute_input": "2022-04-06T06:11:57.140013Z",
     "iopub.status.busy": "2022-04-06T06:11:57.139124Z",
     "iopub.status.idle": "2022-04-06T06:12:04.838286Z",
     "shell.execute_reply": "2022-04-06T06:12:04.837558Z",
     "shell.execute_reply.started": "2022-04-06T04:28:09.322745Z"
    },
    "papermill": {
     "duration": 7.746332,
     "end_time": "2022-04-06T06:12:04.838436",
     "exception": false,
     "start_time": "2022-04-06T06:11:57.092104",
     "status": "completed"
    },
    "tags": []
   },
   "outputs": [],
   "source": [
    "change_index = np.isin(weights.col, weak_weight_id)\n",
    "weights.data[change_index] = 2.0 "
   ]
  },
  {
   "cell_type": "markdown",
   "id": "f65dcde5",
   "metadata": {
    "papermill": {
     "duration": 0.027204,
     "end_time": "2022-04-06T06:12:04.891862",
     "exception": false,
     "start_time": "2022-04-06T06:12:04.864658",
     "status": "completed"
    },
    "tags": []
   },
   "source": [
    "# fitting"
   ]
  },
  {
   "cell_type": "code",
   "execution_count": 13,
   "id": "ccd231ff",
   "metadata": {
    "execution": {
     "iopub.execute_input": "2022-04-06T06:12:04.953328Z",
     "iopub.status.busy": "2022-04-06T06:12:04.952636Z",
     "iopub.status.idle": "2022-04-06T07:38:23.852635Z",
     "shell.execute_reply": "2022-04-06T07:38:23.848904Z",
     "shell.execute_reply.started": "2022-04-06T04:28:14.466705Z"
    },
    "papermill": {
     "duration": 5178.93475,
     "end_time": "2022-04-06T07:38:23.853325",
     "exception": false,
     "start_time": "2022-04-06T06:12:04.918575",
     "status": "completed"
    },
    "tags": []
   },
   "outputs": [
    {
     "name": "stderr",
     "output_type": "stream",
     "text": [
      "Epoch: 100%|██████████| 100/100 [1:26:17<00:00, 51.77s/it]\n"
     ]
    },
    {
     "data": {
      "text/plain": [
       "<lightfm.lightfm.LightFM at 0x7f899f3a0b90>"
      ]
     },
     "execution_count": 13,
     "metadata": {},
     "output_type": "execute_result"
    }
   ],
   "source": [
    "model = LightFM(loss='bpr', \n",
    "                no_components=NO_COMPONENTS, \n",
    "                learning_rate=LEARNING_RATE,                 \n",
    "                random_state=np.random.RandomState(SEED),\n",
    "                user_alpha=USER_ALPHA,\n",
    "                item_alpha=ITEM_ALPHA\n",
    "               )\n",
    "\n",
    "model.fit(interactions=interactions, \n",
    "          epochs=EPOCHS, \n",
    "          verbose=1, \n",
    "          num_threads=NO_THREADS,\n",
    "          sample_weight=weights,\n",
    "         )"
   ]
  },
  {
   "cell_type": "markdown",
   "id": "36d157de",
   "metadata": {
    "papermill": {
     "duration": 0.065319,
     "end_time": "2022-04-06T07:38:23.983207",
     "exception": false,
     "start_time": "2022-04-06T07:38:23.917888",
     "status": "completed"
    },
    "tags": []
   },
   "source": [
    "# Submission"
   ]
  },
  {
   "cell_type": "code",
   "execution_count": 14,
   "id": "15a811d2",
   "metadata": {
    "execution": {
     "iopub.execute_input": "2022-04-06T07:38:24.118543Z",
     "iopub.status.busy": "2022-04-06T07:38:24.117838Z",
     "iopub.status.idle": "2022-04-06T07:38:24.518839Z",
     "shell.execute_reply": "2022-04-06T07:38:24.519341Z",
     "shell.execute_reply.started": "2022-04-06T05:46:40.719800Z"
    },
    "papermill": {
     "duration": 0.471375,
     "end_time": "2022-04-06T07:38:24.519516",
     "exception": false,
     "start_time": "2022-04-06T07:38:24.048141",
     "status": "completed"
    },
    "tags": []
   },
   "outputs": [
    {
     "name": "stdout",
     "output_type": "stream",
     "text": [
      "68984\n"
     ]
    }
   ],
   "source": [
    "if VALID:\n",
    "    test_X = valid.customer_id.values\n",
    "else:\n",
    "    test_X = sample_submission.customer_id.values    \n",
    "\n",
    "lfn_user = lambda x: uid_map[x]\n",
    "test_X_m = [lfn_user(tx) for tx in test_X]\n",
    "\n",
    "print(len(test_X_m))"
   ]
  },
  {
   "cell_type": "code",
   "execution_count": 15,
   "id": "30f778aa",
   "metadata": {
    "execution": {
     "iopub.execute_input": "2022-04-06T07:38:26.388859Z",
     "iopub.status.busy": "2022-04-06T07:38:26.380100Z",
     "iopub.status.idle": "2022-04-06T07:38:26.390894Z",
     "shell.execute_reply": "2022-04-06T07:38:26.391391Z",
     "shell.execute_reply.started": "2022-04-06T05:46:40.858002Z"
    },
    "papermill": {
     "duration": 1.808488,
     "end_time": "2022-04-06T07:38:26.391562",
     "exception": false,
     "start_time": "2022-04-06T07:38:24.583074",
     "status": "completed"
    },
    "tags": []
   },
   "outputs": [],
   "source": [
    "def predict_submission():\n",
    "    df_split = np.array_split(test_X_m, num_cores)\n",
    "    chunk_size = len(df_split[0])\n",
    "    \n",
    "    chunk1 = list(df_split[0])\n",
    "    chunk2 = list(df_split[1])\n",
    "    chunk3 = list(df_split[2])\n",
    "    chunk4 = list(df_split[3])\n",
    "    \n",
    "    #list of items for multiprocessing, 4 since using 4 cores\n",
    "    all_chunks = [chunk1, chunk2, chunk3, chunk4]\n",
    "    \n",
    "    pool = Pool(num_cores)\n",
    "    result = pool.map(make_predict, all_chunks)\n",
    "    \n",
    "    pred_combined = list(itertools.chain(result[0], result[1], result[2], result[3]))\n",
    "\n",
    "    return pred_combined\n",
    "\n",
    "def make_predict(usr_chunk):\n",
    "    customer_ids = []\n",
    "    preds = []\n",
    "    item_array = np.array(list(iid_map.values()))\n",
    "\n",
    "    for usr_ in usr_chunk:\n",
    "        m_opt = model.predict(np.array([usr_] * len(iid_map)), item_array)\n",
    "        pred = np.argsort(-m_opt)[:K]\n",
    "        preds.append(' '.join([inv_iid_map[p] for p in pred]).strip())\n",
    "    \n",
    "    preds = np.array(preds).reshape(-1, 1)\n",
    "    return preds"
   ]
  },
  {
   "cell_type": "code",
   "execution_count": 16,
   "id": "3e98ddf4",
   "metadata": {
    "execution": {
     "iopub.execute_input": "2022-04-06T07:38:26.522831Z",
     "iopub.status.busy": "2022-04-06T07:38:26.521903Z",
     "iopub.status.idle": "2022-04-06T07:50:30.428594Z",
     "shell.execute_reply": "2022-04-06T07:50:30.429120Z",
     "shell.execute_reply.started": "2022-04-06T05:46:41.284014Z"
    },
    "papermill": {
     "duration": 723.973929,
     "end_time": "2022-04-06T07:50:30.429325",
     "exception": false,
     "start_time": "2022-04-06T07:38:26.455396",
     "status": "completed"
    },
    "tags": []
   },
   "outputs": [
    {
     "name": "stdout",
     "output_type": "stream",
     "text": [
      "CPU times: user 1.09 s, sys: 793 ms, total: 1.88 s\n",
      "Wall time: 12min 3s\n"
     ]
    }
   ],
   "source": [
    "%%time\n",
    "final_predictions = predict_submission()"
   ]
  },
  {
   "cell_type": "code",
   "execution_count": 17,
   "id": "c7e63e4e",
   "metadata": {
    "execution": {
     "iopub.execute_input": "2022-04-06T07:50:30.591922Z",
     "iopub.status.busy": "2022-04-06T07:50:30.591194Z",
     "iopub.status.idle": "2022-04-06T07:50:44.872176Z",
     "shell.execute_reply": "2022-04-06T07:50:44.871543Z",
     "shell.execute_reply.started": "2022-04-06T05:55:50.492636Z"
    },
    "papermill": {
     "duration": 14.378558,
     "end_time": "2022-04-06T07:50:44.872374",
     "exception": false,
     "start_time": "2022-04-06T07:50:30.493816",
     "status": "completed"
    },
    "tags": []
   },
   "outputs": [],
   "source": [
    "final_sub = pd.DataFrame(data=np.concatenate((np.array(test_X).reshape(-1,1), np.array(final_predictions)), axis=1).reshape(-1, 2),\n",
    "                         columns=['customer_id', 'prediction'])\n",
    "\n",
    "sample_submission.loc[sample_submission.customer_id.isin(final_sub.customer_id), 'prediction'] = ( \n",
    "    final_sub['prediction']\n",
    "    )\n",
    "sample_submission.to_csv('submission.csv', index=False)"
   ]
  },
  {
   "cell_type": "code",
   "execution_count": 18,
   "id": "9f931d37",
   "metadata": {
    "execution": {
     "iopub.execute_input": "2022-04-06T07:50:45.007481Z",
     "iopub.status.busy": "2022-04-06T07:50:45.006263Z",
     "iopub.status.idle": "2022-04-06T07:50:54.414750Z",
     "shell.execute_reply": "2022-04-06T07:50:54.415565Z",
     "shell.execute_reply.started": "2022-04-06T05:55:56.601175Z"
    },
    "papermill": {
     "duration": 9.477932,
     "end_time": "2022-04-06T07:50:54.415815",
     "exception": false,
     "start_time": "2022-04-06T07:50:44.937883",
     "status": "completed"
    },
    "tags": []
   },
   "outputs": [
    {
     "name": "stdout",
     "output_type": "stream",
     "text": [
      "t 0.005864700754811183\n",
      "i 0.006357562701958825 19048\n",
      "c 4.96031746031746e-05 5572\n",
      "  \n",
      "0754362003 0731743001 0376172001 0731743004 0569244002 0428291001 0676111001 0649551007 0732108001 0780418001 0768591002 0500435039    5572\n",
      "0120129001 0534164001 0215589001 0300024058 0567532004 0775382001 0752657001 0433444001 0510465001 0262277011 0469562002 0442915001       2\n",
      "0120129001 0534164001 0215589001 0567532004 0300024058 0775382001 0752657001 0433444001 0510465001 0469562002 0341129001 0442915001       2\n",
      "0758064001 0758060001 0758050001 0758049001 0758040001 0758088002 0758089002 0758043001 0758084002 0758126002 0758064002 0758060002       2\n",
      "0158340001 0111593001 0111586001 0436261001 0123173001 0240561001 0228257001 0417951005 0457466002 0542402001 0297067002 0200182001       2\n",
      "                                                                                                                                       ... \n",
      "0832453005 0832453002 0832473001 0832473003 0832453001 0879944002 0688537026 0688537029 0684209032 0559601019 0698286007 0843873007       1\n",
      "0783707002 0699923008 0783707047 0742400042 0685811002 0656677019 0685816017 0684021068 0656677022 0501620040 0763275001 0853612001       1\n",
      "0658030011 0399087014 0399087030 0658030006 0658030020 0399087010 0658030016 0658030001 0399087029 0658030005 0731160005 0399136004       1\n",
      "0819147001 0735121001 0735122002 0712846001 0838787005 0820873001 0735121003 0788846004 0865520003 0855249006 0829017007 0652731007       1\n",
      "0879781003 0896169002 0879781002 0863937003 0817472005 0817401001 0918836001 0764073002 0915529001 0843793004 0915529003 0859139001       1\n",
      "Name: prediction, Length: 63402, dtype: int64\n"
     ]
    }
   ],
   "source": [
    "# local score\n",
    "if VALID:\n",
    "    sub_check = final_sub.copy()\n",
    "    sub_check = sub_check.set_index('customer_id').reset_index()\n",
    "    print(\"t\", mapk(valid.prediction.str.split(), sub_check.prediction.str.split(), k=12))    \n",
    "    print(\"i\", \n",
    "            mapk(valid[valid.customer_id.isin(inactive_users)].prediction.str.split(), \n",
    "               sub_check[sub_check.customer_id.isin(inactive_users)].prediction.str.split(), k=12),\n",
    "            valid[valid.customer_id.isin(inactive_users)].shape[0])\n",
    "    print(\"c\", \n",
    "            mapk(valid[valid.customer_id.isin(cold_users)].prediction.str.split(), \n",
    "               sub_check[sub_check.customer_id.isin(cold_users)].prediction.str.split(), k=12),\n",
    "            valid[valid.customer_id.isin(cold_users)].shape[0])\n",
    "    \n",
    "    print(\"  \")\n",
    "    print(sub_check[\"prediction\"].value_counts())  "
   ]
  },
  {
   "cell_type": "code",
   "execution_count": null,
   "id": "81efe897",
   "metadata": {
    "papermill": {
     "duration": 0.067317,
     "end_time": "2022-04-06T07:50:54.552015",
     "exception": false,
     "start_time": "2022-04-06T07:50:54.484698",
     "status": "completed"
    },
    "tags": []
   },
   "outputs": [],
   "source": []
  }
 ],
 "metadata": {
  "kernelspec": {
   "display_name": "Python 3",
   "language": "python",
   "name": "python3"
  },
  "language_info": {
   "codemirror_mode": {
    "name": "ipython",
    "version": 3
   },
   "file_extension": ".py",
   "mimetype": "text/x-python",
   "name": "python",
   "nbconvert_exporter": "python",
   "pygments_lexer": "ipython3",
   "version": "3.7.12"
  },
  "papermill": {
   "default_parameters": {},
   "duration": 6565.897636,
   "end_time": "2022-04-06T07:50:57.458499",
   "environment_variables": {},
   "exception": null,
   "input_path": "__notebook__.ipynb",
   "output_path": "__notebook__.ipynb",
   "parameters": {},
   "start_time": "2022-04-06T06:01:31.560863",
   "version": "2.3.3"
  }
 },
 "nbformat": 4,
 "nbformat_minor": 5
}
