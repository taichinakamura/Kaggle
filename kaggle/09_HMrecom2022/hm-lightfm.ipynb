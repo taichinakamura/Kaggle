{
 "cells": [
  {
   "cell_type": "markdown",
   "id": "1e4bb849",
   "metadata": {
    "papermill": {
     "duration": 0.023562,
     "end_time": "2022-04-03T05:48:04.098032",
     "exception": false,
     "start_time": "2022-04-03T05:48:04.074470",
     "status": "completed"
    },
    "tags": []
   },
   "source": [
    "- https://making.lyst.com/lightfm/docs/lightfm.html\n",
    "- modify mistake in valid label\n",
    "- consider item, user features"
   ]
  },
  {
   "cell_type": "code",
   "execution_count": 1,
   "id": "4621b60e",
   "metadata": {
    "execution": {
     "iopub.execute_input": "2022-04-03T05:48:04.156371Z",
     "iopub.status.busy": "2022-04-03T05:48:04.155649Z",
     "iopub.status.idle": "2022-04-03T05:48:05.193178Z",
     "shell.execute_reply": "2022-04-03T05:48:05.192379Z",
     "shell.execute_reply.started": "2022-04-03T04:21:10.657003Z"
    },
    "papermill": {
     "duration": 1.070649,
     "end_time": "2022-04-03T05:48:05.193351",
     "exception": false,
     "start_time": "2022-04-03T05:48:04.122702",
     "status": "completed"
    },
    "tags": []
   },
   "outputs": [],
   "source": [
    "import os\n",
    "import tqdm\n",
    "\n",
    "import numpy as np\n",
    "import pandas as pd\n",
    "from lightfm import LightFM\n",
    "from lightfm.data import Dataset\n",
    "from sklearn import preprocessing\n",
    "\n",
    "import itertools\n",
    "from multiprocessing import Pool\n",
    "\n",
    "SEED = 42\n",
    "np.random.seed(SEED)\n",
    "os.environ['PYTHONHASHSEED'] = str(SEED)\n",
    "\n",
    "VALID = True"
   ]
  },
  {
   "cell_type": "code",
   "execution_count": 2,
   "id": "244d97bf",
   "metadata": {
    "execution": {
     "iopub.execute_input": "2022-04-03T05:48:05.248027Z",
     "iopub.status.busy": "2022-04-03T05:48:05.247342Z",
     "iopub.status.idle": "2022-04-03T05:48:05.249988Z",
     "shell.execute_reply": "2022-04-03T05:48:05.249498Z",
     "shell.execute_reply.started": "2022-04-03T04:21:11.592613Z"
    },
    "papermill": {
     "duration": 0.034038,
     "end_time": "2022-04-03T05:48:05.250127",
     "exception": false,
     "start_time": "2022-04-03T05:48:05.216089",
     "status": "completed"
    },
    "tags": []
   },
   "outputs": [],
   "source": [
    "def apk(actual, predicted, k=12):\n",
    "    if len(predicted)>k:\n",
    "        predicted = predicted[:k]\n",
    "        \n",
    "    score = 0.0\n",
    "    num_hits = 0.0\n",
    "    \n",
    "    for i,p in enumerate(predicted):\n",
    "        if p in actual and p not in predicted[:i]:\n",
    "            num_hits += 1.0\n",
    "            score += num_hits / (i+1.0)\n",
    "\n",
    "    if not actual:\n",
    "        return 0.0\n",
    "\n",
    "    return score / min(len(actual), k)\n",
    "\n",
    "\n",
    "def mapk(actual, predicted, k=12):\n",
    "    \"\"\"\n",
    "    Computes the mean average precision at k.\n",
    "    This function computes the mean average prescision at k between two lists\n",
    "    of lists of items.\n",
    "    Parameters\n",
    "    ----------\n",
    "    actual : list\n",
    "             A list of lists of elements that are to be predicted \n",
    "             (order doesn't matter in the lists)\n",
    "    predicted : list\n",
    "                A list of lists of predicted elements\n",
    "                (order matters in the lists)\n",
    "    k : int, optional\n",
    "        The maximum number of predicted elements\n",
    "    Returns\n",
    "    -------\n",
    "    score : double\n",
    "            The mean average precision at k over the input lists\n",
    "    \"\"\"\n",
    "    return np.mean([apk(a,p,k) for a,p in zip(actual, predicted)])"
   ]
  },
  {
   "cell_type": "markdown",
   "id": "3f04dd1f",
   "metadata": {
    "papermill": {
     "duration": 0.021883,
     "end_time": "2022-04-03T05:48:05.294467",
     "exception": false,
     "start_time": "2022-04-03T05:48:05.272584",
     "status": "completed"
    },
    "tags": []
   },
   "source": [
    "## Configs"
   ]
  },
  {
   "cell_type": "code",
   "execution_count": 3,
   "id": "778d759e",
   "metadata": {
    "execution": {
     "iopub.execute_input": "2022-04-03T05:48:05.345268Z",
     "iopub.status.busy": "2022-04-03T05:48:05.344564Z",
     "iopub.status.idle": "2022-04-03T05:48:05.347381Z",
     "shell.execute_reply": "2022-04-03T05:48:05.346874Z",
     "shell.execute_reply.started": "2022-04-03T04:21:11.602487Z"
    },
    "papermill": {
     "duration": 0.030584,
     "end_time": "2022-04-03T05:48:05.347522",
     "exception": false,
     "start_time": "2022-04-03T05:48:05.316938",
     "status": "completed"
    },
    "tags": []
   },
   "outputs": [],
   "source": [
    "# default number of recommendations\n",
    "K = 12\n",
    "EPOCHS = 100\n",
    "\n",
    "# model learning rate\n",
    "LEARNING_RATE = 0.25\n",
    "# no of latent factors\n",
    "NO_COMPONENTS = 40\n",
    "\n",
    "# no of threads to fit model\n",
    "NO_THREADS = 32\n",
    "# regularisation for both user and item features\n",
    "ITEM_ALPHA=1e-6\n",
    "USER_ALPHA=1e-6\n",
    "\n",
    "# for multiprocssing of final predictions\n",
    "num_cores=4"
   ]
  },
  {
   "cell_type": "markdown",
   "id": "f9ba5cca",
   "metadata": {
    "papermill": {
     "duration": 0.021867,
     "end_time": "2022-04-03T05:48:05.392429",
     "exception": false,
     "start_time": "2022-04-03T05:48:05.370562",
     "status": "completed"
    },
    "tags": []
   },
   "source": [
    "## Load the data"
   ]
  },
  {
   "cell_type": "code",
   "execution_count": 4,
   "id": "00a63771",
   "metadata": {
    "execution": {
     "iopub.execute_input": "2022-04-03T05:48:05.440040Z",
     "iopub.status.busy": "2022-04-03T05:48:05.439416Z",
     "iopub.status.idle": "2022-04-03T05:49:35.576769Z",
     "shell.execute_reply": "2022-04-03T05:49:35.577767Z",
     "shell.execute_reply.started": "2022-04-03T04:21:11.613068Z"
    },
    "papermill": {
     "duration": 90.163322,
     "end_time": "2022-04-03T05:49:35.578272",
     "exception": false,
     "start_time": "2022-04-03T05:48:05.414950",
     "status": "completed"
    },
    "tags": []
   },
   "outputs": [],
   "source": [
    "main_dir = \"../input/h-and-m-personalized-fashion-recommendations\"\n",
    "images_dir = main_dir+\"/images/\" \n",
    "customers = pd.read_csv(main_dir+\"/customers.csv\")\n",
    "articles = pd.read_csv(main_dir+\"/articles.csv\", dtype={'article_id': str})\n",
    "sample_submission = pd.read_csv(main_dir+\"/sample_submission.csv\", dtype={'article_id': str})\n",
    "\n",
    "train = pd.read_csv(main_dir+'/transactions_train.csv',  dtype={'article_id': str}, parse_dates=['t_dat'])"
   ]
  },
  {
   "cell_type": "markdown",
   "id": "dbc084f0",
   "metadata": {
    "papermill": {
     "duration": 0.021597,
     "end_time": "2022-04-03T05:49:35.625128",
     "exception": false,
     "start_time": "2022-04-03T05:49:35.603531",
     "status": "completed"
    },
    "tags": []
   },
   "source": [
    "## dataset"
   ]
  },
  {
   "cell_type": "code",
   "execution_count": 5,
   "id": "43a66a98",
   "metadata": {
    "execution": {
     "iopub.execute_input": "2022-04-03T05:49:35.672752Z",
     "iopub.status.busy": "2022-04-03T05:49:35.672123Z",
     "iopub.status.idle": "2022-04-03T05:49:35.726965Z",
     "shell.execute_reply": "2022-04-03T05:49:35.727601Z",
     "shell.execute_reply.started": "2022-04-03T04:22:41.626283Z"
    },
    "papermill": {
     "duration": 0.080685,
     "end_time": "2022-04-03T05:49:35.727778",
     "exception": false,
     "start_time": "2022-04-03T05:49:35.647093",
     "status": "completed"
    },
    "tags": []
   },
   "outputs": [],
   "source": [
    "# item\n",
    "article_columns = [i for i in articles.columns if \"int\" in str(articles[i].dtype)]\n",
    "articles = articles[['article_id'] + article_columns]\n",
    "\n",
    "#image_feats = pd.read_csv(\"../input/hm-table-dataset/autox_features.csv\")\n",
    "#articles = pd.concat([articles, image_feats], axis=1)\n",
    "#articles.fillna(-999, inplace=True)\n",
    "#del image_feats\n",
    "#article_columns = [i for i in articles.columns if \"int\" in str(articles[i].dtype) or \"float\" in str(articles[i].dtype)]"
   ]
  },
  {
   "cell_type": "code",
   "execution_count": 6,
   "id": "93afc4bd",
   "metadata": {
    "execution": {
     "iopub.execute_input": "2022-04-03T05:49:35.779610Z",
     "iopub.status.busy": "2022-04-03T05:49:35.778963Z",
     "iopub.status.idle": "2022-04-03T05:49:49.501101Z",
     "shell.execute_reply": "2022-04-03T05:49:49.500391Z",
     "shell.execute_reply.started": "2022-04-03T04:22:41.648595Z"
    },
    "papermill": {
     "duration": 13.747,
     "end_time": "2022-04-03T05:49:49.501291",
     "exception": false,
     "start_time": "2022-04-03T05:49:35.754291",
     "status": "completed"
    },
    "tags": []
   },
   "outputs": [],
   "source": [
    "# user\n",
    "user_columns = ['FN', 'Active', 'club_member_status', 'fashion_news_frequency', 'postal_code']\n",
    "customers.fillna(-1, inplace=True)\n",
    "for feat in user_columns:\n",
    "    lbl = preprocessing.LabelEncoder()\n",
    "    lbl.fit(list(customers[feat]))\n",
    "    customers[feat] = lbl.transform(list(customers[feat]))"
   ]
  },
  {
   "cell_type": "code",
   "execution_count": 7,
   "id": "c8655559",
   "metadata": {
    "execution": {
     "iopub.execute_input": "2022-04-03T05:49:49.604429Z",
     "iopub.status.busy": "2022-04-03T05:49:49.578422Z",
     "iopub.status.idle": "2022-04-03T05:49:51.431628Z",
     "shell.execute_reply": "2022-04-03T05:49:51.432208Z",
     "shell.execute_reply.started": "2022-04-03T04:22:54.723679Z"
    },
    "papermill": {
     "duration": 1.90792,
     "end_time": "2022-04-03T05:49:51.432412",
     "exception": false,
     "start_time": "2022-04-03T05:49:49.524492",
     "status": "completed"
    },
    "tags": []
   },
   "outputs": [
    {
     "name": "stdout",
     "output_type": "stream",
     "text": [
      "Number of users: 1371980, Number of topics: 105542.\n"
     ]
    }
   ],
   "source": [
    "dataset = Dataset()\n",
    "dataset.fit(users=customers['customer_id'], \n",
    "            items=articles['article_id'],\n",
    "            user_features = user_columns,\n",
    "            item_features = article_columns) \n",
    "\n",
    "num_users, num_topics = dataset.interactions_shape()\n",
    "print(f'Number of users: {num_users}, Number of topics: {num_topics}.')"
   ]
  },
  {
   "cell_type": "code",
   "execution_count": 8,
   "id": "a0623060",
   "metadata": {
    "execution": {
     "iopub.execute_input": "2022-04-03T05:49:51.481924Z",
     "iopub.status.busy": "2022-04-03T05:49:51.481277Z",
     "iopub.status.idle": "2022-04-03T05:49:58.638730Z",
     "shell.execute_reply": "2022-04-03T05:49:58.639267Z",
     "shell.execute_reply.started": "2022-04-03T04:22:56.468100Z"
    },
    "papermill": {
     "duration": 7.183479,
     "end_time": "2022-04-03T05:49:58.639464",
     "exception": false,
     "start_time": "2022-04-03T05:49:51.455985",
     "status": "completed"
    },
    "tags": []
   },
   "outputs": [
    {
     "name": "stderr",
     "output_type": "stream",
     "text": [
      "/opt/conda/lib/python3.7/site-packages/ipykernel_launcher.py:4: FutureWarning: Series.dt.weekofyear and Series.dt.week have been deprecated.  Please use Series.dt.isocalendar().week instead.\n",
      "  after removing the cwd from sys.path.\n"
     ]
    }
   ],
   "source": [
    "train[\"t_dat\"] = pd.to_datetime(train[\"t_dat\"])\n",
    "\n",
    "date_week_df = train.drop_duplicates(\"t_dat\")[[\"t_dat\"]].reset_index(drop=True)\n",
    "date_week_df['week_no'] = (date_week_df['t_dat'] + pd.DateOffset(days=5)).dt.week\n",
    "date_week_df[\"week_no\"] = date_week_df[\"week_no\"].diff(1)\n",
    "date_week_df[\"week_no\"].fillna(0, inplace=True)\n",
    "date_week_df[\"week_no\"] = date_week_df[\"week_no\"] != 0\n",
    "date_week_df[\"week_no\"] = date_week_df[\"week_no\"].cumsum()\n",
    "\n",
    "train = pd.merge(train, date_week_df, on=\"t_dat\", how=\"left\")\n",
    "test_week = train.week_no.max()\n",
    "\n",
    "del date_week_df"
   ]
  },
  {
   "cell_type": "code",
   "execution_count": 9,
   "id": "48d5bcf4",
   "metadata": {
    "execution": {
     "iopub.execute_input": "2022-04-03T05:49:58.697580Z",
     "iopub.status.busy": "2022-04-03T05:49:58.696547Z",
     "iopub.status.idle": "2022-04-03T05:56:08.236868Z",
     "shell.execute_reply": "2022-04-03T05:56:08.237870Z",
     "shell.execute_reply.started": "2022-04-03T04:23:03.197281Z"
    },
    "papermill": {
     "duration": 369.575827,
     "end_time": "2022-04-03T05:56:08.238385",
     "exception": false,
     "start_time": "2022-04-03T05:49:58.662558",
     "status": "completed"
    },
    "tags": []
   },
   "outputs": [
    {
     "name": "stdout",
     "output_type": "stream",
     "text": [
      "(1371980, 105542) (1371980, 105542)\n"
     ]
    }
   ],
   "source": [
    "train_set = train[train.week_no < test_week]\n",
    "val_set = train[train.week_no == test_week]\n",
    "\n",
    "(interactions, weights) = dataset.build_interactions(train_set.iloc[:, 1:3].values)\n",
    "(val_interactions, val_weights) = dataset.build_interactions(val_set.iloc[:, 1:3].values)\n",
    "dataset.build_item_features(((articles.iloc[index][\"article_id\"], article_columns) for index in range(articles.shape[0])))\n",
    "dataset.build_user_features(((customers.iloc[index][\"customer_id\"], user_columns) for index in range(customers.shape[0])))\n",
    "\n",
    "print(interactions.shape, val_interactions.shape)\n",
    "del train"
   ]
  },
  {
   "cell_type": "code",
   "execution_count": 10,
   "id": "1a73af90",
   "metadata": {
    "execution": {
     "iopub.execute_input": "2022-04-03T05:56:08.292524Z",
     "iopub.status.busy": "2022-04-03T05:56:08.291764Z",
     "iopub.status.idle": "2022-04-03T05:56:26.121792Z",
     "shell.execute_reply": "2022-04-03T05:56:26.122386Z",
     "shell.execute_reply.started": "2022-04-03T04:28:55.454303Z"
    },
    "papermill": {
     "duration": 17.858672,
     "end_time": "2022-04-03T05:56:26.122607",
     "exception": false,
     "start_time": "2022-04-03T05:56:08.263935",
     "status": "completed"
    },
    "tags": []
   },
   "outputs": [],
   "source": [
    "valid = val_set.groupby('customer_id')['article_id'].apply(list).reset_index()\n",
    "valid = valid.rename({'article_id':'prediction'},axis=1)\n",
    "valid['prediction'] = valid.prediction.apply(lambda x: ' '.join([str(k) for k in x]))\n",
    "\n",
    "inactive_users = list(set(train_set.customer_id) - set(train_set[train_set.week_no > test_week - 10][\"customer_id\"]))\n",
    "cold_users = list(set(valid.customer_id) - set(train_set.customer_id))\n",
    "del train_set, val_set"
   ]
  },
  {
   "cell_type": "markdown",
   "id": "15c92c17",
   "metadata": {
    "papermill": {
     "duration": 0.023385,
     "end_time": "2022-04-03T05:56:26.170664",
     "exception": false,
     "start_time": "2022-04-03T05:56:26.147279",
     "status": "completed"
    },
    "tags": []
   },
   "source": [
    "# fitting"
   ]
  },
  {
   "cell_type": "code",
   "execution_count": 11,
   "id": "826d2819",
   "metadata": {
    "execution": {
     "iopub.execute_input": "2022-04-03T05:56:26.221850Z",
     "iopub.status.busy": "2022-04-03T05:56:26.221140Z",
     "iopub.status.idle": "2022-04-03T07:00:42.283621Z",
     "shell.execute_reply": "2022-04-03T07:00:42.279545Z",
     "shell.execute_reply.started": "2022-04-03T04:29:12.940656Z"
    },
    "papermill": {
     "duration": 3856.08933,
     "end_time": "2022-04-03T07:00:42.283866",
     "exception": false,
     "start_time": "2022-04-03T05:56:26.194536",
     "status": "completed"
    },
    "tags": []
   },
   "outputs": [
    {
     "name": "stderr",
     "output_type": "stream",
     "text": [
      "Epoch: 100%|██████████| 100/100 [1:04:15<00:00, 38.55s/it]\n"
     ]
    },
    {
     "data": {
      "text/plain": [
       "<lightfm.lightfm.LightFM at 0x7fa79efd8310>"
      ]
     },
     "execution_count": 11,
     "metadata": {},
     "output_type": "execute_result"
    }
   ],
   "source": [
    "model = LightFM(loss='bpr', \n",
    "                no_components=NO_COMPONENTS, \n",
    "                learning_rate=LEARNING_RATE,                 \n",
    "                random_state=np.random.RandomState(SEED),\n",
    "                user_alpha=USER_ALPHA,\n",
    "                item_alpha=ITEM_ALPHA\n",
    "               )\n",
    "model.fit(interactions=interactions, epochs=EPOCHS, verbose=1, num_threads=NO_THREADS)"
   ]
  },
  {
   "cell_type": "code",
   "execution_count": 12,
   "id": "daa76403",
   "metadata": {
    "execution": {
     "iopub.execute_input": "2022-04-03T07:00:42.411852Z",
     "iopub.status.busy": "2022-04-03T07:00:42.411104Z",
     "iopub.status.idle": "2022-04-03T07:00:42.412856Z",
     "shell.execute_reply": "2022-04-03T07:00:42.413337Z",
     "shell.execute_reply.started": "2022-04-03T05:31:18.819308Z"
    },
    "papermill": {
     "duration": 0.069031,
     "end_time": "2022-04-03T07:00:42.413521",
     "exception": false,
     "start_time": "2022-04-03T07:00:42.344490",
     "status": "completed"
    },
    "tags": []
   },
   "outputs": [],
   "source": [
    "#Load Trained Model\n",
    "\n",
    "#!pip3 install pickle5\n",
    "#import pickle5 as pickle\n",
    "#with open('../input/lightfm1/lightFM1.pickle', \"rb\") as fh:\n",
    "#    trained_model = pickle.load(fh)"
   ]
  },
  {
   "cell_type": "markdown",
   "id": "bef61875",
   "metadata": {
    "papermill": {
     "duration": 0.061227,
     "end_time": "2022-04-03T07:00:42.536175",
     "exception": false,
     "start_time": "2022-04-03T07:00:42.474948",
     "status": "completed"
    },
    "tags": []
   },
   "source": [
    "# Submission"
   ]
  },
  {
   "cell_type": "code",
   "execution_count": 13,
   "id": "9eadabdd",
   "metadata": {
    "execution": {
     "iopub.execute_input": "2022-04-03T07:00:42.666909Z",
     "iopub.status.busy": "2022-04-03T07:00:42.661417Z",
     "iopub.status.idle": "2022-04-03T07:00:43.500843Z",
     "shell.execute_reply": "2022-04-03T07:00:43.501615Z",
     "shell.execute_reply.started": "2022-04-03T05:31:18.825633Z"
    },
    "papermill": {
     "duration": 0.904247,
     "end_time": "2022-04-03T07:00:43.501870",
     "exception": false,
     "start_time": "2022-04-03T07:00:42.597623",
     "status": "completed"
    },
    "tags": []
   },
   "outputs": [
    {
     "name": "stdout",
     "output_type": "stream",
     "text": [
      "68984\n"
     ]
    }
   ],
   "source": [
    "#Get the mappings\n",
    "'''\n",
    "uid = mapping from customer_id to model equivalent user_id\n",
    "iid = mapping from article_id to  model equivalent article_id\n",
    "'''\n",
    "uid_map, ufeature_map, iid_map, ifeature_map = dataset.mapping() \n",
    "inv_uid_map = {v:k for k, v in uid_map.items()}\n",
    "inv_iid_map = {v:k for k, v in iid_map.items()}\n",
    "\n",
    "if VALID:\n",
    "    test_X = valid.customer_id.values\n",
    "else:\n",
    "    test_X = sample_submission.customer_id.values    \n",
    "\n",
    "lfn_user = lambda x: uid_map[x]\n",
    "test_X_m = [lfn_user(tx) for tx in test_X]\n",
    "\n",
    "print(len(test_X_m))"
   ]
  },
  {
   "cell_type": "code",
   "execution_count": 14,
   "id": "d5950a24",
   "metadata": {
    "execution": {
     "iopub.execute_input": "2022-04-03T07:00:45.102192Z",
     "iopub.status.busy": "2022-04-03T07:00:45.101388Z",
     "iopub.status.idle": "2022-04-03T07:00:45.111333Z",
     "shell.execute_reply": "2022-04-03T07:00:45.111859Z",
     "shell.execute_reply.started": "2022-04-03T05:31:19.995732Z"
    },
    "papermill": {
     "duration": 1.54169,
     "end_time": "2022-04-03T07:00:45.112031",
     "exception": false,
     "start_time": "2022-04-03T07:00:43.570341",
     "status": "completed"
    },
    "tags": []
   },
   "outputs": [],
   "source": [
    "def predict_submission():\n",
    "    df_split = np.array_split(test_X_m, num_cores)\n",
    "    chunk_size = len(df_split[0])\n",
    "    \n",
    "    chunk1 = list(df_split[0])\n",
    "    chunk2 = list(df_split[1])\n",
    "    chunk3 = list(df_split[2])\n",
    "    chunk4 = list(df_split[3])\n",
    "    \n",
    "    #list of items for multiprocessing, 4 since using 4 cores\n",
    "    all_chunks = [chunk1, chunk2, chunk3, chunk4]\n",
    "    \n",
    "    pool = Pool(num_cores)\n",
    "    result = pool.map(make_predict, all_chunks)\n",
    "    \n",
    "    pred_combined = list(itertools.chain(result[0], result[1], result[2], result[3]))\n",
    "\n",
    "    return pred_combined\n",
    "\n",
    "def make_predict(usr_chunk):\n",
    "    customer_ids = []\n",
    "    preds = []\n",
    "    item_array = np.array(list(iid_map.values()))\n",
    "\n",
    "    for usr_ in usr_chunk:\n",
    "        m_opt = model.predict(np.array([usr_] * len(iid_map)), item_array)\n",
    "        pred = np.argsort(-m_opt)[:K]\n",
    "        #customer_ids.append(inv_uid_map[usr_])\n",
    "        preds.append(' '.join([inv_iid_map[p] for p in pred]).strip())\n",
    "    \n",
    "    #customer_ids = np.array(customer_ids).reshape(-1, 1)\n",
    "    preds = np.array(preds).reshape(-1, 1)\n",
    "    return preds"
   ]
  },
  {
   "cell_type": "code",
   "execution_count": 15,
   "id": "3bc25cdc",
   "metadata": {
    "execution": {
     "iopub.execute_input": "2022-04-03T07:00:45.286775Z",
     "iopub.status.busy": "2022-04-03T07:00:45.286035Z",
     "iopub.status.idle": "2022-04-03T07:12:31.385432Z",
     "shell.execute_reply": "2022-04-03T07:12:31.386214Z",
     "shell.execute_reply.started": "2022-04-03T05:31:20.068538Z"
    },
    "papermill": {
     "duration": 706.200404,
     "end_time": "2022-04-03T07:12:31.386526",
     "exception": false,
     "start_time": "2022-04-03T07:00:45.186122",
     "status": "completed"
    },
    "tags": []
   },
   "outputs": [
    {
     "name": "stdout",
     "output_type": "stream",
     "text": [
      "CPU times: user 1.04 s, sys: 645 ms, total: 1.69 s\n",
      "Wall time: 11min 46s\n"
     ]
    }
   ],
   "source": [
    "%%time\n",
    "final_predictions = predict_submission()"
   ]
  },
  {
   "cell_type": "code",
   "execution_count": 16,
   "id": "8e754dd0",
   "metadata": {
    "execution": {
     "iopub.execute_input": "2022-04-03T07:12:31.516468Z",
     "iopub.status.busy": "2022-04-03T07:12:31.515769Z",
     "iopub.status.idle": "2022-04-03T07:12:46.583188Z",
     "shell.execute_reply": "2022-04-03T07:12:46.582583Z",
     "shell.execute_reply.started": "2022-04-03T05:42:39.155375Z"
    },
    "papermill": {
     "duration": 15.13439,
     "end_time": "2022-04-03T07:12:46.583379",
     "exception": false,
     "start_time": "2022-04-03T07:12:31.448989",
     "status": "completed"
    },
    "tags": []
   },
   "outputs": [],
   "source": [
    "final_sub = pd.DataFrame(data=np.concatenate((np.array(test_X).reshape(-1,1), np.array(final_predictions)), axis=1).reshape(-1, 2),\n",
    "                         columns=['customer_id', 'prediction'])\n",
    "\n",
    "sample_submission.loc[sample_submission.customer_id.isin(final_sub.customer_id), 'prediction'] = ( \n",
    "    final_sub['prediction']\n",
    "    )\n",
    "sample_submission.to_csv('submission.csv', index=False)"
   ]
  },
  {
   "cell_type": "code",
   "execution_count": 17,
   "id": "1027834f",
   "metadata": {
    "execution": {
     "iopub.execute_input": "2022-04-03T07:12:46.723580Z",
     "iopub.status.busy": "2022-04-03T07:12:46.719852Z",
     "iopub.status.idle": "2022-04-03T07:12:55.447732Z",
     "shell.execute_reply": "2022-04-03T07:12:55.448520Z",
     "shell.execute_reply.started": "2022-04-03T05:42:52.905759Z"
    },
    "papermill": {
     "duration": 8.802626,
     "end_time": "2022-04-03T07:12:55.448749",
     "exception": false,
     "start_time": "2022-04-03T07:12:46.646123",
     "status": "completed"
    },
    "tags": []
   },
   "outputs": [
    {
     "name": "stdout",
     "output_type": "stream",
     "text": [
      "t 0.003978059103175519\n",
      "i 0.004204908578664427 19048\n",
      "c 3.9014387542743606e-05 5572\n",
      "  \n",
      "0740450006 0481781006 0754362003 0456163030 0824255001 0805860005 0757903001 0749415005 0425242005 0816355003 0759483001 0589748012    5572\n",
      "0294008002 0573937001 0751551001 0652924004 0368979001 0779551002 0640542002 0294008005 0742274001 0779554002 0624257001 0750330002       4\n",
      "0806388003 0806388002 0806388001 0806388005 0685814001 0685814003 0685813001 0685816002 0806388009 0685814005 0685816001 0685813003       2\n",
      "0120129001 0534164001 0215589001 0567532004 0775382001 0510465001 0752657001 0433444001 0442915001 0300024058 0469562002 0300024013       2\n",
      "0120129001 0534164001 0215589001 0567532004 0510465001 0775382001 0433444001 0300024058 0442915001 0752657001 0469562002 0262277011       2\n",
      "                                                                                                                                       ... \n",
      "0780297001 0780297002 0832453005 0832473001 0843872006 0810838010 0854683004 0868018001 0854683002 0756318001 0832453001 0832473003       1\n",
      "0685811002 0757805017 0699923008 0685816017 0474471001 0570002013 0649440035 0757805013 0687635010 0685813005 0685816024 0309864002       1\n",
      "0658030011 0399087014 0399087030 0658030006 0658030020 0658030005 0658030016 0658030001 0399087001 0399087028 0399087015 0399087010       1\n",
      "0735121001 0794793003 0717879014 0714807004 0826498002 0717879011 0811198001 0693246011 0790368001 0783244001 0675319002 0598859001       1\n",
      "0859125001 0879781003 0827968001 0817472005 0859139001 0827370002 0817401001 0879781002 0915529003 0883033002 0897687001 0799365011       1\n",
      "Name: prediction, Length: 63404, dtype: int64\n"
     ]
    }
   ],
   "source": [
    "# local score\n",
    "if VALID:\n",
    "    sub_check = final_sub.copy()\n",
    "    sub_check = sub_check.set_index('customer_id').reset_index()\n",
    "    print(\"t\", mapk(valid.prediction.str.split(), sub_check.prediction.str.split(), k=12))    \n",
    "    print(\"i\", \n",
    "            mapk(valid[valid.customer_id.isin(inactive_users)].prediction.str.split(), \n",
    "               sub_check[sub_check.customer_id.isin(inactive_users)].prediction.str.split(), k=12),\n",
    "            valid[valid.customer_id.isin(inactive_users)].shape[0])\n",
    "    print(\"c\", \n",
    "            mapk(valid[valid.customer_id.isin(cold_users)].prediction.str.split(), \n",
    "               sub_check[sub_check.customer_id.isin(cold_users)].prediction.str.split(), k=12),\n",
    "            valid[valid.customer_id.isin(cold_users)].shape[0])\n",
    "    \n",
    "    print(\"  \")\n",
    "    print(sub_check[\"prediction\"].value_counts())  "
   ]
  },
  {
   "cell_type": "code",
   "execution_count": null,
   "id": "4b44b980",
   "metadata": {
    "papermill": {
     "duration": 0.062529,
     "end_time": "2022-04-03T07:12:55.574121",
     "exception": false,
     "start_time": "2022-04-03T07:12:55.511592",
     "status": "completed"
    },
    "tags": []
   },
   "outputs": [],
   "source": []
  }
 ],
 "metadata": {
  "kernelspec": {
   "display_name": "Python 3",
   "language": "python",
   "name": "python3"
  },
  "language_info": {
   "codemirror_mode": {
    "name": "ipython",
    "version": 3
   },
   "file_extension": ".py",
   "mimetype": "text/x-python",
   "name": "python",
   "nbconvert_exporter": "python",
   "pygments_lexer": "ipython3",
   "version": "3.7.12"
  },
  "papermill": {
   "default_parameters": {},
   "duration": 5103.606986,
   "end_time": "2022-04-03T07:12:57.970674",
   "environment_variables": {},
   "exception": null,
   "input_path": "__notebook__.ipynb",
   "output_path": "__notebook__.ipynb",
   "parameters": {},
   "start_time": "2022-04-03T05:47:54.363688",
   "version": "2.3.3"
  }
 },
 "nbformat": 4,
 "nbformat_minor": 5
}
