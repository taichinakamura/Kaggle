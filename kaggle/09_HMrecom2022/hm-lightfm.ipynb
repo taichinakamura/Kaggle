{
 "cells": [
  {
   "cell_type": "markdown",
   "id": "ef8d8b27",
   "metadata": {
    "papermill": {
     "duration": 0.027894,
     "end_time": "2022-04-06T14:38:03.449655",
     "exception": false,
     "start_time": "2022-04-06T14:38:03.421761",
     "status": "completed"
    },
    "tags": []
   },
   "source": [
    "- https://making.lyst.com/lightfm/docs/lightfm.html\n",
    "- modify mistake in valid label\n",
    "- consider item, user features\n",
    "- change weight and range *\n",
    "- add more features"
   ]
  },
  {
   "cell_type": "code",
   "execution_count": 1,
   "id": "f474bc2c",
   "metadata": {
    "execution": {
     "iopub.execute_input": "2022-04-06T14:38:03.508197Z",
     "iopub.status.busy": "2022-04-06T14:38:03.506891Z",
     "iopub.status.idle": "2022-04-06T14:38:04.609437Z",
     "shell.execute_reply": "2022-04-06T14:38:04.608701Z",
     "shell.execute_reply.started": "2022-04-06T12:56:28.791978Z"
    },
    "papermill": {
     "duration": 1.132753,
     "end_time": "2022-04-06T14:38:04.609644",
     "exception": false,
     "start_time": "2022-04-06T14:38:03.476891",
     "status": "completed"
    },
    "tags": []
   },
   "outputs": [],
   "source": [
    "import os\n",
    "import tqdm\n",
    "\n",
    "import numpy as np\n",
    "import pandas as pd\n",
    "from lightfm import LightFM\n",
    "from lightfm.data import Dataset\n",
    "from sklearn import preprocessing\n",
    "\n",
    "import itertools\n",
    "from multiprocessing import Pool\n",
    "\n",
    "SEED = 42\n",
    "np.random.seed(SEED)\n",
    "os.environ['PYTHONHASHSEED'] = str(SEED)\n",
    "\n",
    "VALID = True"
   ]
  },
  {
   "cell_type": "code",
   "execution_count": 2,
   "id": "b7597af8",
   "metadata": {
    "execution": {
     "iopub.execute_input": "2022-04-06T14:38:04.674259Z",
     "iopub.status.busy": "2022-04-06T14:38:04.673544Z",
     "iopub.status.idle": "2022-04-06T14:38:04.675292Z",
     "shell.execute_reply": "2022-04-06T14:38:04.675980Z",
     "shell.execute_reply.started": "2022-04-06T12:56:29.831367Z"
    },
    "papermill": {
     "duration": 0.039552,
     "end_time": "2022-04-06T14:38:04.676170",
     "exception": false,
     "start_time": "2022-04-06T14:38:04.636618",
     "status": "completed"
    },
    "tags": []
   },
   "outputs": [],
   "source": [
    "def apk(actual, predicted, k=12):\n",
    "    if len(predicted)>k:\n",
    "        predicted = predicted[:k]\n",
    "        \n",
    "    score = 0.0\n",
    "    num_hits = 0.0\n",
    "    \n",
    "    for i,p in enumerate(predicted):\n",
    "        if p in actual and p not in predicted[:i]:\n",
    "            num_hits += 1.0\n",
    "            score += num_hits / (i+1.0)\n",
    "\n",
    "    if not actual:\n",
    "        return 0.0\n",
    "\n",
    "    return score / min(len(actual), k)\n",
    "\n",
    "\n",
    "def mapk(actual, predicted, k=12):\n",
    "    \"\"\"\n",
    "    Computes the mean average precision at k.\n",
    "    This function computes the mean average prescision at k between two lists\n",
    "    of lists of items.\n",
    "    Parameters\n",
    "    ----------\n",
    "    actual : list\n",
    "             A list of lists of elements that are to be predicted \n",
    "             (order doesn't matter in the lists)\n",
    "    predicted : list\n",
    "                A list of lists of predicted elements\n",
    "                (order matters in the lists)\n",
    "    k : int, optional\n",
    "        The maximum number of predicted elements\n",
    "    Returns\n",
    "    -------\n",
    "    score : double\n",
    "            The mean average precision at k over the input lists\n",
    "    \"\"\"\n",
    "    return np.mean([apk(a,p,k) for a,p in zip(actual, predicted)])"
   ]
  },
  {
   "cell_type": "markdown",
   "id": "4d204b3f",
   "metadata": {
    "papermill": {
     "duration": 0.026988,
     "end_time": "2022-04-06T14:38:04.730205",
     "exception": false,
     "start_time": "2022-04-06T14:38:04.703217",
     "status": "completed"
    },
    "tags": []
   },
   "source": [
    "## Configs"
   ]
  },
  {
   "cell_type": "code",
   "execution_count": 3,
   "id": "34cbb80f",
   "metadata": {
    "execution": {
     "iopub.execute_input": "2022-04-06T14:38:04.787736Z",
     "iopub.status.busy": "2022-04-06T14:38:04.787041Z",
     "iopub.status.idle": "2022-04-06T14:38:04.791087Z",
     "shell.execute_reply": "2022-04-06T14:38:04.791739Z",
     "shell.execute_reply.started": "2022-04-06T12:56:29.844983Z"
    },
    "papermill": {
     "duration": 0.034606,
     "end_time": "2022-04-06T14:38:04.791942",
     "exception": false,
     "start_time": "2022-04-06T14:38:04.757336",
     "status": "completed"
    },
    "tags": []
   },
   "outputs": [],
   "source": [
    "# default number of recommendations\n",
    "K = 12\n",
    "EPOCHS = 100\n",
    "LEARNING_RATE = 0.1 \n",
    "NO_COMPONENTS = 50\n",
    "NO_THREADS = 32\n",
    "ITEM_ALPHA=1e-6\n",
    "USER_ALPHA=1e-6\n",
    "\n",
    "num_cores=4"
   ]
  },
  {
   "cell_type": "markdown",
   "id": "4966a71f",
   "metadata": {
    "papermill": {
     "duration": 0.026661,
     "end_time": "2022-04-06T14:38:04.845533",
     "exception": false,
     "start_time": "2022-04-06T14:38:04.818872",
     "status": "completed"
    },
    "tags": []
   },
   "source": [
    "## Load the data"
   ]
  },
  {
   "cell_type": "code",
   "execution_count": 4,
   "id": "275263eb",
   "metadata": {
    "execution": {
     "iopub.execute_input": "2022-04-06T14:38:04.903332Z",
     "iopub.status.busy": "2022-04-06T14:38:04.902629Z",
     "iopub.status.idle": "2022-04-06T14:39:32.922448Z",
     "shell.execute_reply": "2022-04-06T14:39:32.921432Z",
     "shell.execute_reply.started": "2022-04-06T12:56:29.857033Z"
    },
    "papermill": {
     "duration": 88.050364,
     "end_time": "2022-04-06T14:39:32.922729",
     "exception": false,
     "start_time": "2022-04-06T14:38:04.872365",
     "status": "completed"
    },
    "tags": []
   },
   "outputs": [],
   "source": [
    "main_dir = \"../input/h-and-m-personalized-fashion-recommendations\"\n",
    "images_dir = main_dir+\"/images/\" \n",
    "customers = pd.read_csv(main_dir+\"/customers.csv\")\n",
    "articles = pd.read_csv(main_dir+\"/articles.csv\", dtype={'article_id': str})\n",
    "sample_submission = pd.read_csv(main_dir+\"/sample_submission.csv\", dtype={'article_id': str})\n",
    "train = pd.read_csv(main_dir+'/transactions_train.csv',  dtype={'article_id': str}, parse_dates=['t_dat'])"
   ]
  },
  {
   "cell_type": "markdown",
   "id": "0bc2bb47",
   "metadata": {
    "papermill": {
     "duration": 0.027877,
     "end_time": "2022-04-06T14:39:32.982577",
     "exception": false,
     "start_time": "2022-04-06T14:39:32.954700",
     "status": "completed"
    },
    "tags": []
   },
   "source": [
    "# features"
   ]
  },
  {
   "cell_type": "code",
   "execution_count": 5,
   "id": "9da7fc8f",
   "metadata": {
    "execution": {
     "iopub.execute_input": "2022-04-06T14:39:33.043852Z",
     "iopub.status.busy": "2022-04-06T14:39:33.043085Z",
     "iopub.status.idle": "2022-04-06T14:39:40.476677Z",
     "shell.execute_reply": "2022-04-06T14:39:40.475874Z",
     "shell.execute_reply.started": "2022-04-06T12:58:01.915962Z"
    },
    "papermill": {
     "duration": 7.466165,
     "end_time": "2022-04-06T14:39:40.476873",
     "exception": false,
     "start_time": "2022-04-06T14:39:33.010708",
     "status": "completed"
    },
    "tags": []
   },
   "outputs": [
    {
     "name": "stderr",
     "output_type": "stream",
     "text": [
      "/opt/conda/lib/python3.7/site-packages/ipykernel_launcher.py:4: FutureWarning: Series.dt.weekofyear and Series.dt.week have been deprecated.  Please use Series.dt.isocalendar().week instead.\n",
      "  after removing the cwd from sys.path.\n"
     ]
    }
   ],
   "source": [
    "train[\"t_dat\"] = pd.to_datetime(train[\"t_dat\"])\n",
    "\n",
    "date_week_df = train.drop_duplicates(\"t_dat\")[[\"t_dat\"]].reset_index(drop=True)\n",
    "date_week_df['week_no'] = (date_week_df['t_dat'] + pd.DateOffset(days=5)).dt.week\n",
    "date_week_df[\"week_no\"] = date_week_df[\"week_no\"].diff(1)\n",
    "date_week_df[\"week_no\"].fillna(0, inplace=True)\n",
    "date_week_df[\"week_no\"] = date_week_df[\"week_no\"] != 0\n",
    "date_week_df[\"week_no\"] = date_week_df[\"week_no\"].cumsum()\n",
    "\n",
    "train = pd.merge(train, date_week_df, on=\"t_dat\", how=\"left\")\n",
    "test_week = train.week_no.max()\n",
    "\n",
    "del date_week_df"
   ]
  },
  {
   "cell_type": "code",
   "execution_count": 6,
   "id": "27b6d89e",
   "metadata": {
    "execution": {
     "iopub.execute_input": "2022-04-06T14:39:40.569410Z",
     "iopub.status.busy": "2022-04-06T14:39:40.568228Z",
     "iopub.status.idle": "2022-04-06T14:41:32.469674Z",
     "shell.execute_reply": "2022-04-06T14:41:32.469013Z",
     "shell.execute_reply.started": "2022-04-06T12:58:08.892135Z"
    },
    "papermill": {
     "duration": 111.962521,
     "end_time": "2022-04-06T14:41:32.469864",
     "exception": false,
     "start_time": "2022-04-06T14:39:40.507343",
     "status": "completed"
    },
    "tags": []
   },
   "outputs": [],
   "source": [
    "if VALID:\n",
    "    tmp = train[train.week_no < test_week].reset_index(drop=True).copy()\n",
    "else:\n",
    "    tmp = train.copy()\n",
    "\n",
    "# count encoding\n",
    "tmp = pd.merge(tmp, articles[[\"article_id\", \"index_group_name\"]], on='article_id', how='left')\n",
    "mp = {'Ladieswear':1, 'Baby/Children':0.5, 'Menswear':0, 'Sport':0.5, 'Divided':0.5} \n",
    "tmp[\"gender\"] = tmp[\"index_group_name\"].map(mp)\n",
    "user_g = tmp.groupby('customer_id').gender.mean().reset_index()\n",
    "    \n",
    "item_count = tmp[\"article_id\"].value_counts().reset_index()\n",
    "item_count.columns = [\"article_id\", \"item_count\"]\n",
    "user_count = tmp[\"customer_id\"].value_counts().reset_index()\n",
    "user_count.columns = [\"customer_id\", \"user_count\"]\n",
    "\n",
    "tmp1 = tmp[tmp.sales_channel_id==1][\"article_id\"].value_counts().reset_index()\n",
    "tmp1.columns = [\"article_id\", \"count_in1\"]\n",
    "\n",
    "tmp2 = tmp[tmp.sales_channel_id==2][\"article_id\"].value_counts().reset_index()\n",
    "tmp2.columns = [\"article_id\", \"count_in2\"]\n",
    "\n",
    "sales_channel_count = pd.merge(tmp1, tmp2, on=\"article_id\", how=\"outer\").fillna(0)\n",
    "sales_channel_count[\"channel_ratio\"] = sales_channel_count[\"count_in1\"] / (sales_channel_count[\"count_in2\"]+0.1)\n",
    "\n",
    "user_last_week = tmp.groupby(\"customer_id\")[\"week_no\"].max().reset_index()\n",
    "user_last_week.columns = [\"customer_id\", \"last_week\"]\n",
    "\n",
    "user_num_week = tmp.groupby(\"customer_id\")[\"week_no\"].nunique().reset_index()\n",
    "user_num_week.columns = [\"customer_id\", \"week_num\"]\n",
    "\n",
    "del tmp1, tmp2, tmp\n",
    "\n",
    "customers = pd.merge(customers, user_count, on = \"customer_id\", how=\"left\")\n",
    "customers[\"user_count\"].fillna(0, inplace=True)\n",
    "customers = pd.merge(customers, user_last_week, on = \"customer_id\", how=\"left\")\n",
    "customers[\"last_week\"].fillna(-1, inplace=True)\n",
    "customers = pd.merge(customers, user_num_week, on = \"customer_id\", how=\"left\")\n",
    "customers[\"week_num\"].fillna(-1, inplace=True)\n",
    "customers = pd.merge(customers, user_g, on = \"customer_id\", how=\"left\")\n",
    "customers[\"gender\"].fillna(0.75, inplace=True)\n",
    "del user_count, user_last_week, user_num_week, user_g\n",
    "\n",
    "articles = pd.merge(articles, item_count, on = \"article_id\", how=\"left\")\n",
    "articles = pd.merge(articles, sales_channel_count, on = \"article_id\", how=\"left\")\n",
    "articles[\"item_count\"].fillna(0, inplace=True)\n",
    "articles.fillna(-1, inplace=True)\n",
    "del item_count, sales_channel_count"
   ]
  },
  {
   "cell_type": "code",
   "execution_count": 7,
   "id": "0c349fb9",
   "metadata": {
    "execution": {
     "iopub.execute_input": "2022-04-06T14:41:32.529350Z",
     "iopub.status.busy": "2022-04-06T14:41:32.528648Z",
     "iopub.status.idle": "2022-04-06T14:41:32.578093Z",
     "shell.execute_reply": "2022-04-06T14:41:32.578668Z",
     "shell.execute_reply.started": "2022-04-06T12:59:51.097224Z"
    },
    "papermill": {
     "duration": 0.080891,
     "end_time": "2022-04-06T14:41:32.578874",
     "exception": false,
     "start_time": "2022-04-06T14:41:32.497983",
     "status": "completed"
    },
    "tags": []
   },
   "outputs": [
    {
     "data": {
      "text/plain": [
       "['product_code',\n",
       " 'product_type_no',\n",
       " 'graphical_appearance_no',\n",
       " 'colour_group_code',\n",
       " 'perceived_colour_value_id',\n",
       " 'perceived_colour_master_id',\n",
       " 'department_no',\n",
       " 'index_group_no',\n",
       " 'section_no',\n",
       " 'garment_group_no',\n",
       " 'item_count',\n",
       " 'count_in1',\n",
       " 'count_in2',\n",
       " 'channel_ratio']"
      ]
     },
     "execution_count": 7,
     "metadata": {},
     "output_type": "execute_result"
    }
   ],
   "source": [
    "# item\n",
    "article_columns = [i for i in articles.columns if \"int\" in str(articles[i].dtype)]\n",
    "article_columns += [\"item_count\", \"count_in1\", \"count_in2\", \"channel_ratio\"]\n",
    "articles = articles[['article_id'] + article_columns]\n",
    "\n",
    "article_columns"
   ]
  },
  {
   "cell_type": "code",
   "execution_count": 8,
   "id": "f13fd011",
   "metadata": {
    "execution": {
     "iopub.execute_input": "2022-04-06T14:41:32.642625Z",
     "iopub.status.busy": "2022-04-06T14:41:32.638239Z",
     "iopub.status.idle": "2022-04-06T14:41:46.185700Z",
     "shell.execute_reply": "2022-04-06T14:41:46.185062Z",
     "shell.execute_reply.started": "2022-04-06T12:59:51.145128Z"
    },
    "papermill": {
     "duration": 13.578548,
     "end_time": "2022-04-06T14:41:46.185869",
     "exception": false,
     "start_time": "2022-04-06T14:41:32.607321",
     "status": "completed"
    },
    "tags": []
   },
   "outputs": [
    {
     "data": {
      "text/plain": [
       "['FN',\n",
       " 'Active',\n",
       " 'club_member_status',\n",
       " 'fashion_news_frequency',\n",
       " 'postal_code',\n",
       " 'age',\n",
       " 'user_count',\n",
       " 'last_week',\n",
       " 'week_num',\n",
       " 'gender']"
      ]
     },
     "execution_count": 8,
     "metadata": {},
     "output_type": "execute_result"
    }
   ],
   "source": [
    "# user\n",
    "user_columns = ['FN', 'Active', 'club_member_status', 'fashion_news_frequency', 'postal_code']\n",
    "customers.fillna(-1, inplace=True)\n",
    "for feat in user_columns:\n",
    "    lbl = preprocessing.LabelEncoder()\n",
    "    lbl.fit(list(customers[feat]))\n",
    "    customers[feat] = lbl.transform(list(customers[feat]))\n",
    "user_columns += ['age', \"user_count\", \"last_week\", \"week_num\", \"gender\"]\n",
    "user_columns"
   ]
  },
  {
   "cell_type": "markdown",
   "id": "96c5c2e7",
   "metadata": {
    "papermill": {
     "duration": 0.027857,
     "end_time": "2022-04-06T14:41:46.242195",
     "exception": false,
     "start_time": "2022-04-06T14:41:46.214338",
     "status": "completed"
    },
    "tags": []
   },
   "source": [
    "# dataset"
   ]
  },
  {
   "cell_type": "code",
   "execution_count": 9,
   "id": "79aa0369",
   "metadata": {
    "execution": {
     "iopub.execute_input": "2022-04-06T14:41:46.344767Z",
     "iopub.status.busy": "2022-04-06T14:41:46.334537Z",
     "iopub.status.idle": "2022-04-06T14:41:48.584294Z",
     "shell.execute_reply": "2022-04-06T14:41:48.583697Z",
     "shell.execute_reply.started": "2022-04-06T13:00:05.863194Z"
    },
    "papermill": {
     "duration": 2.312469,
     "end_time": "2022-04-06T14:41:48.584448",
     "exception": false,
     "start_time": "2022-04-06T14:41:46.271979",
     "status": "completed"
    },
    "tags": []
   },
   "outputs": [
    {
     "name": "stdout",
     "output_type": "stream",
     "text": [
      "Number of users: 1371980, Number of topics: 105542.\n"
     ]
    }
   ],
   "source": [
    "dataset = Dataset()\n",
    "dataset.fit(users=customers['customer_id'], \n",
    "            items=articles['article_id'],\n",
    "            user_features = user_columns,\n",
    "            item_features = article_columns) \n",
    "\n",
    "num_users, num_topics = dataset.interactions_shape()\n",
    "print(f'Number of users: {num_users}, Number of topics: {num_topics}.')\n",
    "\n",
    "#Get the mappings\n",
    "uid_map, ufeature_map, iid_map, ifeature_map = dataset.mapping() \n",
    "inv_uid_map = {v:k for k, v in uid_map.items()}\n",
    "inv_iid_map = {v:k for k, v in iid_map.items()}"
   ]
  },
  {
   "cell_type": "code",
   "execution_count": 10,
   "id": "ddb89248",
   "metadata": {
    "execution": {
     "iopub.execute_input": "2022-04-06T14:41:50.875069Z",
     "iopub.status.busy": "2022-04-06T14:41:50.873256Z",
     "iopub.status.idle": "2022-04-06T14:41:55.192064Z",
     "shell.execute_reply": "2022-04-06T14:41:55.191313Z",
     "shell.execute_reply.started": "2022-04-06T13:00:07.922540Z"
    },
    "papermill": {
     "duration": 6.578967,
     "end_time": "2022-04-06T14:41:55.192234",
     "exception": false,
     "start_time": "2022-04-06T14:41:48.613267",
     "status": "completed"
    },
    "tags": []
   },
   "outputs": [],
   "source": [
    "item_last_week = train.groupby(\"article_id\")[\"week_no\"].max().reset_index()\n",
    "weak_weight_items = item_last_week[item_last_week.week_no > 100][\"article_id\"].values #80\n",
    "weak_weight_id = [iid_map[ele] for ele in weak_weight_items]\n",
    "del item_last_week"
   ]
  },
  {
   "cell_type": "code",
   "execution_count": 11,
   "id": "17bfb85a",
   "metadata": {
    "execution": {
     "iopub.execute_input": "2022-04-06T14:41:55.282066Z",
     "iopub.status.busy": "2022-04-06T14:41:55.276239Z",
     "iopub.status.idle": "2022-04-06T14:50:40.557808Z",
     "shell.execute_reply": "2022-04-06T14:50:40.558352Z",
     "shell.execute_reply.started": "2022-04-06T13:00:13.814718Z"
    },
    "papermill": {
     "duration": 525.33739,
     "end_time": "2022-04-06T14:50:40.558562",
     "exception": false,
     "start_time": "2022-04-06T14:41:55.221172",
     "status": "completed"
    },
    "tags": []
   },
   "outputs": [
    {
     "name": "stdout",
     "output_type": "stream",
     "text": [
      "(1371980, 105542)\n"
     ]
    }
   ],
   "source": [
    "if VALID:\n",
    "    train_set = train[train.week_no < test_week].copy()\n",
    "    train_ser = train_set.drop_duplicates([\"customer_id\", \"article_id\"]).reset_index(drop=True)\n",
    "    (interactions, weights) = dataset.build_interactions(train_set.iloc[:, 1:3].values)\n",
    "\n",
    "    valid = train[train.week_no == test_week].groupby('customer_id')['article_id'].apply(list).reset_index()\n",
    "    valid = valid.rename({'article_id':'prediction'},axis=1)\n",
    "    valid['prediction'] = valid.prediction.apply(lambda x: ' '.join([str(k) for k in x]))\n",
    "\n",
    "    inactive_users = list(set(train_set.customer_id) - set(train_set[train_set.week_no > test_week - 10][\"customer_id\"]))\n",
    "    cold_users = list(set(valid.customer_id) - set(train_set.customer_id))\n",
    "    del train_set\n",
    "else:\n",
    "    (interactions, weights) = dataset.build_interactions(train.iloc[:, 1:3].values)\n",
    "    \n",
    "dataset.build_item_features(((articles.iloc[index][\"article_id\"], article_columns) for index in range(articles.shape[0])))\n",
    "dataset.build_user_features(((customers.iloc[index][\"customer_id\"], user_columns) for index in range(customers.shape[0])))\n",
    "\n",
    "print(interactions.shape)\n",
    "del train"
   ]
  },
  {
   "cell_type": "code",
   "execution_count": 12,
   "id": "5e37fd28",
   "metadata": {
    "execution": {
     "iopub.execute_input": "2022-04-06T14:50:40.626059Z",
     "iopub.status.busy": "2022-04-06T14:50:40.624602Z",
     "iopub.status.idle": "2022-04-06T14:50:46.518470Z",
     "shell.execute_reply": "2022-04-06T14:50:46.517811Z",
     "shell.execute_reply.started": "2022-04-06T13:07:29.599145Z"
    },
    "papermill": {
     "duration": 5.931505,
     "end_time": "2022-04-06T14:50:46.518637",
     "exception": false,
     "start_time": "2022-04-06T14:50:40.587132",
     "status": "completed"
    },
    "tags": []
   },
   "outputs": [],
   "source": [
    "change_index = np.isin(weights.col, weak_weight_id)\n",
    "weights.data[change_index] = 3.0 #2.0"
   ]
  },
  {
   "cell_type": "markdown",
   "id": "8287abee",
   "metadata": {
    "papermill": {
     "duration": 0.029524,
     "end_time": "2022-04-06T14:50:46.577491",
     "exception": false,
     "start_time": "2022-04-06T14:50:46.547967",
     "status": "completed"
    },
    "tags": []
   },
   "source": [
    "# fitting"
   ]
  },
  {
   "cell_type": "code",
   "execution_count": 13,
   "id": "18397aad",
   "metadata": {
    "execution": {
     "iopub.execute_input": "2022-04-06T14:50:46.642483Z",
     "iopub.status.busy": "2022-04-06T14:50:46.641783Z",
     "iopub.status.idle": "2022-04-06T16:10:23.963096Z",
     "shell.execute_reply": "2022-04-06T16:10:23.959960Z",
     "shell.execute_reply.started": "2022-04-06T13:07:37.630463Z"
    },
    "papermill": {
     "duration": 4777.356542,
     "end_time": "2022-04-06T16:10:23.963246",
     "exception": false,
     "start_time": "2022-04-06T14:50:46.606704",
     "status": "completed"
    },
    "tags": []
   },
   "outputs": [
    {
     "name": "stderr",
     "output_type": "stream",
     "text": [
      "Epoch: 100%|██████████| 100/100 [1:19:35<00:00, 47.76s/it]\n"
     ]
    },
    {
     "data": {
      "text/plain": [
       "<lightfm.lightfm.LightFM at 0x7f822e0227d0>"
      ]
     },
     "execution_count": 13,
     "metadata": {},
     "output_type": "execute_result"
    }
   ],
   "source": [
    "model = LightFM(loss='bpr', \n",
    "                no_components=NO_COMPONENTS, \n",
    "                learning_rate=LEARNING_RATE,                 \n",
    "                random_state=np.random.RandomState(SEED),\n",
    "                user_alpha=USER_ALPHA,\n",
    "                item_alpha=ITEM_ALPHA\n",
    "               )\n",
    "\n",
    "model.fit(interactions=interactions, \n",
    "          epochs=EPOCHS, \n",
    "          verbose=1, \n",
    "          num_threads=NO_THREADS,\n",
    "          sample_weight=weights,\n",
    "         )"
   ]
  },
  {
   "cell_type": "markdown",
   "id": "5c22f96d",
   "metadata": {
    "papermill": {
     "duration": 0.072975,
     "end_time": "2022-04-06T16:10:24.107770",
     "exception": false,
     "start_time": "2022-04-06T16:10:24.034795",
     "status": "completed"
    },
    "tags": []
   },
   "source": [
    "# Submission"
   ]
  },
  {
   "cell_type": "code",
   "execution_count": 14,
   "id": "0c842ca9",
   "metadata": {
    "execution": {
     "iopub.execute_input": "2022-04-06T16:10:24.266533Z",
     "iopub.status.busy": "2022-04-06T16:10:24.265420Z",
     "iopub.status.idle": "2022-04-06T16:10:24.616965Z",
     "shell.execute_reply": "2022-04-06T16:10:24.616361Z",
     "shell.execute_reply.started": "2022-04-06T14:24:16.337808Z"
    },
    "papermill": {
     "duration": 0.439038,
     "end_time": "2022-04-06T16:10:24.617137",
     "exception": false,
     "start_time": "2022-04-06T16:10:24.178099",
     "status": "completed"
    },
    "tags": []
   },
   "outputs": [
    {
     "name": "stdout",
     "output_type": "stream",
     "text": [
      "68984\n"
     ]
    }
   ],
   "source": [
    "if VALID:\n",
    "    test_X = valid.customer_id.values\n",
    "else:\n",
    "    test_X = sample_submission.customer_id.values    \n",
    "\n",
    "lfn_user = lambda x: uid_map[x]\n",
    "test_X_m = [lfn_user(tx) for tx in test_X]\n",
    "\n",
    "print(len(test_X_m))"
   ]
  },
  {
   "cell_type": "code",
   "execution_count": 15,
   "id": "a844903b",
   "metadata": {
    "execution": {
     "iopub.execute_input": "2022-04-06T16:10:25.272970Z",
     "iopub.status.busy": "2022-04-06T16:10:25.271924Z",
     "iopub.status.idle": "2022-04-06T16:10:25.274735Z",
     "shell.execute_reply": "2022-04-06T16:10:25.275266Z",
     "shell.execute_reply.started": "2022-04-06T14:24:16.585843Z"
    },
    "papermill": {
     "duration": 0.573375,
     "end_time": "2022-04-06T16:10:25.275447",
     "exception": false,
     "start_time": "2022-04-06T16:10:24.702072",
     "status": "completed"
    },
    "tags": []
   },
   "outputs": [],
   "source": [
    "def predict_submission():\n",
    "    df_split = np.array_split(test_X_m, num_cores)\n",
    "    chunk_size = len(df_split[0])\n",
    "    \n",
    "    chunk1 = list(df_split[0])\n",
    "    chunk2 = list(df_split[1])\n",
    "    chunk3 = list(df_split[2])\n",
    "    chunk4 = list(df_split[3])\n",
    "    \n",
    "    #list of items for multiprocessing, 4 since using 4 cores\n",
    "    all_chunks = [chunk1, chunk2, chunk3, chunk4]\n",
    "    \n",
    "    pool = Pool(num_cores)\n",
    "    result = pool.map(make_predict, all_chunks)\n",
    "    \n",
    "    pred_combined = list(itertools.chain(result[0], result[1], result[2], result[3]))\n",
    "\n",
    "    return pred_combined\n",
    "\n",
    "def make_predict(usr_chunk):\n",
    "    customer_ids = []\n",
    "    preds = []\n",
    "    item_array = np.array(list(iid_map.values()))\n",
    "\n",
    "    for usr_ in usr_chunk:\n",
    "        m_opt = model.predict(np.array([usr_] * len(iid_map)), item_array)\n",
    "        pred = np.argsort(-m_opt)[:K]\n",
    "        preds.append(' '.join([inv_iid_map[p] for p in pred]).strip())\n",
    "    \n",
    "    preds = np.array(preds).reshape(-1, 1)\n",
    "    return preds"
   ]
  },
  {
   "cell_type": "code",
   "execution_count": 16,
   "id": "117b3b77",
   "metadata": {
    "execution": {
     "iopub.execute_input": "2022-04-06T16:10:25.446220Z",
     "iopub.status.busy": "2022-04-06T16:10:25.444906Z",
     "iopub.status.idle": "2022-04-06T16:22:23.347676Z",
     "shell.execute_reply": "2022-04-06T16:22:23.348241Z",
     "shell.execute_reply.started": "2022-04-06T14:24:17.803707Z"
    },
    "papermill": {
     "duration": 718.000763,
     "end_time": "2022-04-06T16:22:23.348436",
     "exception": false,
     "start_time": "2022-04-06T16:10:25.347673",
     "status": "completed"
    },
    "tags": []
   },
   "outputs": [
    {
     "name": "stdout",
     "output_type": "stream",
     "text": [
      "CPU times: user 1.11 s, sys: 543 ms, total: 1.65 s\n",
      "Wall time: 11min 57s\n"
     ]
    }
   ],
   "source": [
    "%%time\n",
    "final_predictions = predict_submission()"
   ]
  },
  {
   "cell_type": "code",
   "execution_count": 17,
   "id": "f2fbd538",
   "metadata": {
    "execution": {
     "iopub.execute_input": "2022-04-06T16:22:23.502429Z",
     "iopub.status.busy": "2022-04-06T16:22:23.501761Z",
     "iopub.status.idle": "2022-04-06T16:22:35.091698Z",
     "shell.execute_reply": "2022-04-06T16:22:35.091067Z",
     "shell.execute_reply.started": "2022-04-06T14:36:16.717982Z"
    },
    "papermill": {
     "duration": 11.670613,
     "end_time": "2022-04-06T16:22:35.091868",
     "exception": false,
     "start_time": "2022-04-06T16:22:23.421255",
     "status": "completed"
    },
    "tags": []
   },
   "outputs": [],
   "source": [
    "final_sub = pd.DataFrame(data=np.concatenate((np.array(test_X).reshape(-1,1), np.array(final_predictions)), axis=1).reshape(-1, 2),\n",
    "                         columns=['customer_id', 'prediction'])\n",
    "\n",
    "sample_submission.loc[sample_submission.customer_id.isin(final_sub.customer_id), 'prediction'] = ( \n",
    "    final_sub['prediction']\n",
    "    )\n",
    "sample_submission.to_csv('submission.csv', index=False)"
   ]
  },
  {
   "cell_type": "code",
   "execution_count": 18,
   "id": "c65a7a38",
   "metadata": {
    "execution": {
     "iopub.execute_input": "2022-04-06T16:22:35.269039Z",
     "iopub.status.busy": "2022-04-06T16:22:35.268025Z",
     "iopub.status.idle": "2022-04-06T16:22:42.363111Z",
     "shell.execute_reply": "2022-04-06T16:22:42.362565Z",
     "shell.execute_reply.started": "2022-04-06T14:36:30.631049Z"
    },
    "papermill": {
     "duration": 7.187464,
     "end_time": "2022-04-06T16:22:42.363275",
     "exception": false,
     "start_time": "2022-04-06T16:22:35.175811",
     "status": "completed"
    },
    "tags": []
   },
   "outputs": [
    {
     "name": "stdout",
     "output_type": "stream",
     "text": [
      "t 0.006192260190338804\n",
      "i 0.006540853482227439 19048\n",
      "c 6.543132328308207e-05 5572\n",
      "  \n",
      "0428291001 0376172001 0649551007 0754362003 0500435039 0233091021 0676111001 0725718001 0126589010 0562211012 0613666005 0780418001    5572\n",
      "0120129001 0534164001 0215589001 0300024058 0567532004 0775382001 0752657001 0433444001 0510465001 0442915001 0262277011 0469562002       4\n",
      "0120129001 0534164001 0215589001 0567532004 0300024058 0775382001 0752657001 0433444001 0510465001 0442915001 0469562002 0262277011       3\n",
      "0120129001 0534164001 0215589001 0300024058 0567532004 0775382001 0433444001 0752657001 0510465001 0262277011 0469562002 0442915001       2\n",
      "0573937001 0294008002 0652924004 0751551001 0750330002 0640542002 0652924010 0624257001 0797892001 0294008005 0750330003 0698387001       2\n",
      "                                                                                                                                       ... \n",
      "0832453005 0832453002 0832473001 0832453001 0832473003 0879944002 0907696001 0559601019 0733097008 0852775003 0688537026 0688537029       1\n",
      "0783707002 0699923008 0685811002 0685816011 0783707047 0685813006 0684021068 0742400042 0656677019 0656677022 0685816017 0763275001       1\n",
      "0658030011 0399087014 0399087030 0399087010 0658030006 0399087029 0658030020 0658030016 0556260004 0658030001 0658030005 0399087021       1\n",
      "0735121001 0714807003 0838787005 0714807004 0790368001 0857570001 0865520003 0857812002 0630675001 0481781004 0827637001 0855249006       1\n",
      "0896169002 0879781003 0915529001 0879781002 0918836001 0915529003 0764073002 0817472005 0866465001 0863937003 0843793004 0794538003       1\n",
      "Name: prediction, Length: 63396, dtype: int64\n"
     ]
    }
   ],
   "source": [
    "# local score\n",
    "if VALID:\n",
    "    sub_check = final_sub.copy()\n",
    "    sub_check = sub_check.set_index('customer_id').reset_index()\n",
    "    print(\"t\", mapk(valid.prediction.str.split(), sub_check.prediction.str.split(), k=12))    \n",
    "    print(\"i\", \n",
    "            mapk(valid[valid.customer_id.isin(inactive_users)].prediction.str.split(), \n",
    "               sub_check[sub_check.customer_id.isin(inactive_users)].prediction.str.split(), k=12),\n",
    "            valid[valid.customer_id.isin(inactive_users)].shape[0])\n",
    "    print(\"c\", \n",
    "            mapk(valid[valid.customer_id.isin(cold_users)].prediction.str.split(), \n",
    "               sub_check[sub_check.customer_id.isin(cold_users)].prediction.str.split(), k=12),\n",
    "            valid[valid.customer_id.isin(cold_users)].shape[0])\n",
    "    \n",
    "    print(\"  \")\n",
    "    print(sub_check[\"prediction\"].value_counts())  "
   ]
  },
  {
   "cell_type": "code",
   "execution_count": null,
   "id": "c632dbea",
   "metadata": {
    "papermill": {
     "duration": 0.072401,
     "end_time": "2022-04-06T16:22:42.509081",
     "exception": false,
     "start_time": "2022-04-06T16:22:42.436680",
     "status": "completed"
    },
    "tags": []
   },
   "outputs": [],
   "source": []
  }
 ],
 "metadata": {
  "kernelspec": {
   "display_name": "Python 3",
   "language": "python",
   "name": "python3"
  },
  "language_info": {
   "codemirror_mode": {
    "name": "ipython",
    "version": 3
   },
   "file_extension": ".py",
   "mimetype": "text/x-python",
   "name": "python",
   "nbconvert_exporter": "python",
   "pygments_lexer": "ipython3",
   "version": "3.7.12"
  },
  "papermill": {
   "default_parameters": {},
   "duration": 6291.971588,
   "end_time": "2022-04-06T16:22:45.507630",
   "environment_variables": {},
   "exception": null,
   "input_path": "__notebook__.ipynb",
   "output_path": "__notebook__.ipynb",
   "parameters": {},
   "start_time": "2022-04-06T14:37:53.536042",
   "version": "2.3.3"
  }
 },
 "nbformat": 4,
 "nbformat_minor": 5
}
