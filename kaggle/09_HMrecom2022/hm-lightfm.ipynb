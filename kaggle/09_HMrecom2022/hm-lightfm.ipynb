{
 "cells": [
  {
   "cell_type": "markdown",
   "id": "61c270fd",
   "metadata": {
    "papermill": {
     "duration": 0.022762,
     "end_time": "2022-04-02T12:52:41.617334",
     "exception": false,
     "start_time": "2022-04-02T12:52:41.594572",
     "status": "completed"
    },
    "tags": []
   },
   "source": [
    "- https://making.lyst.com/lightfm/docs/lightfm.html\n",
    "- modify mistake in valid label"
   ]
  },
  {
   "cell_type": "code",
   "execution_count": 1,
   "id": "3c9ab32a",
   "metadata": {
    "execution": {
     "iopub.execute_input": "2022-04-02T12:52:41.670745Z",
     "iopub.status.busy": "2022-04-02T12:52:41.670033Z",
     "iopub.status.idle": "2022-04-02T12:52:43.485760Z",
     "shell.execute_reply": "2022-04-02T12:52:43.485069Z",
     "shell.execute_reply.started": "2022-04-02T12:36:41.272299Z"
    },
    "papermill": {
     "duration": 1.844481,
     "end_time": "2022-04-02T12:52:43.485936",
     "exception": false,
     "start_time": "2022-04-02T12:52:41.641455",
     "status": "completed"
    },
    "tags": []
   },
   "outputs": [],
   "source": [
    "import os\n",
    "import cv2\n",
    "import tqdm\n",
    "\n",
    "import numpy as np\n",
    "import pandas as pd\n",
    "from lightfm import LightFM\n",
    "from lightfm.data import Dataset\n",
    "from lightfm.evaluation import precision_at_k\n",
    "\n",
    "\n",
    "from numba import jit\n",
    "import itertools\n",
    "from multiprocessing import Pool\n",
    "\n",
    "SEED = 42\n",
    "np.random.seed(SEED)\n",
    "os.environ['PYTHONHASHSEED'] = str(SEED)\n",
    "\n",
    "VALID = True"
   ]
  },
  {
   "cell_type": "code",
   "execution_count": 2,
   "id": "b21a4c1c",
   "metadata": {
    "execution": {
     "iopub.execute_input": "2022-04-02T12:52:43.530264Z",
     "iopub.status.busy": "2022-04-02T12:52:43.529593Z",
     "iopub.status.idle": "2022-04-02T12:52:43.539651Z",
     "shell.execute_reply": "2022-04-02T12:52:43.539064Z",
     "shell.execute_reply.started": "2022-04-02T12:36:41.316380Z"
    },
    "papermill": {
     "duration": 0.033319,
     "end_time": "2022-04-02T12:52:43.539812",
     "exception": false,
     "start_time": "2022-04-02T12:52:43.506493",
     "status": "completed"
    },
    "tags": []
   },
   "outputs": [],
   "source": [
    "def apk(actual, predicted, k=12):\n",
    "    if len(predicted)>k:\n",
    "        predicted = predicted[:k]\n",
    "        \n",
    "    score = 0.0\n",
    "    num_hits = 0.0\n",
    "    \n",
    "    for i,p in enumerate(predicted):\n",
    "        if p in actual and p not in predicted[:i]:\n",
    "            num_hits += 1.0\n",
    "            score += num_hits / (i+1.0)\n",
    "\n",
    "    if not actual:\n",
    "        return 0.0\n",
    "\n",
    "    return score / min(len(actual), k)\n",
    "\n",
    "\n",
    "def mapk(actual, predicted, k=12):\n",
    "    \"\"\"\n",
    "    Computes the mean average precision at k.\n",
    "    This function computes the mean average prescision at k between two lists\n",
    "    of lists of items.\n",
    "    Parameters\n",
    "    ----------\n",
    "    actual : list\n",
    "             A list of lists of elements that are to be predicted \n",
    "             (order doesn't matter in the lists)\n",
    "    predicted : list\n",
    "                A list of lists of predicted elements\n",
    "                (order matters in the lists)\n",
    "    k : int, optional\n",
    "        The maximum number of predicted elements\n",
    "    Returns\n",
    "    -------\n",
    "    score : double\n",
    "            The mean average precision at k over the input lists\n",
    "    \"\"\"\n",
    "    return np.mean([apk(a,p,k) for a,p in zip(actual, predicted)])"
   ]
  },
  {
   "cell_type": "markdown",
   "id": "0c055c4e",
   "metadata": {
    "papermill": {
     "duration": 0.020016,
     "end_time": "2022-04-02T12:52:43.580206",
     "exception": false,
     "start_time": "2022-04-02T12:52:43.560190",
     "status": "completed"
    },
    "tags": []
   },
   "source": [
    "## Configs"
   ]
  },
  {
   "cell_type": "code",
   "execution_count": 3,
   "id": "5460a46c",
   "metadata": {
    "execution": {
     "iopub.execute_input": "2022-04-02T12:52:43.625845Z",
     "iopub.status.busy": "2022-04-02T12:52:43.623541Z",
     "iopub.status.idle": "2022-04-02T12:52:43.628523Z",
     "shell.execute_reply": "2022-04-02T12:52:43.627999Z",
     "shell.execute_reply.started": "2022-04-02T12:36:41.341120Z"
    },
    "papermill": {
     "duration": 0.028241,
     "end_time": "2022-04-02T12:52:43.628670",
     "exception": false,
     "start_time": "2022-04-02T12:52:43.600429",
     "status": "completed"
    },
    "tags": []
   },
   "outputs": [],
   "source": [
    "# default number of recommendations\n",
    "K = 12\n",
    "EPOCHS = 50\n",
    "\n",
    "# model learning rate\n",
    "LEARNING_RATE = 0.25\n",
    "# no of latent factors\n",
    "NO_COMPONENTS = 10\n",
    "\n",
    "# no of threads to fit model\n",
    "NO_THREADS = 32\n",
    "# regularisation for both user and item features\n",
    "ITEM_ALPHA=1e-6\n",
    "USER_ALPHA=1e-6"
   ]
  },
  {
   "cell_type": "markdown",
   "id": "475f94f2",
   "metadata": {
    "papermill": {
     "duration": 0.019845,
     "end_time": "2022-04-02T12:52:43.669185",
     "exception": false,
     "start_time": "2022-04-02T12:52:43.649340",
     "status": "completed"
    },
    "tags": []
   },
   "source": [
    "## Load the data"
   ]
  },
  {
   "cell_type": "code",
   "execution_count": 4,
   "id": "6f4b51f7",
   "metadata": {
    "execution": {
     "iopub.execute_input": "2022-04-02T12:52:43.713182Z",
     "iopub.status.busy": "2022-04-02T12:52:43.712468Z",
     "iopub.status.idle": "2022-04-02T12:54:10.393138Z",
     "shell.execute_reply": "2022-04-02T12:54:10.392457Z",
     "shell.execute_reply.started": "2022-04-02T12:36:41.356120Z"
    },
    "papermill": {
     "duration": 86.70383,
     "end_time": "2022-04-02T12:54:10.393323",
     "exception": false,
     "start_time": "2022-04-02T12:52:43.689493",
     "status": "completed"
    },
    "tags": []
   },
   "outputs": [],
   "source": [
    "main_dir = \"../input/h-and-m-personalized-fashion-recommendations\"\n",
    "images_dir = main_dir+\"/images/\" \n",
    "customers = pd.read_csv(main_dir+\"/customers.csv\")\n",
    "articles = pd.read_csv(main_dir+\"/articles.csv\", dtype={'article_id': str})\n",
    "sample_submission = pd.read_csv(main_dir+\"/sample_submission.csv\", dtype={'article_id': str})\n",
    "\n",
    "train = pd.read_csv('../input/h-and-m-personalized-fashion-recommendations/transactions_train.csv',  dtype={'article_id': str}, parse_dates=['t_dat'])"
   ]
  },
  {
   "cell_type": "markdown",
   "id": "34ae2d22",
   "metadata": {
    "papermill": {
     "duration": 0.020108,
     "end_time": "2022-04-02T12:54:10.440794",
     "exception": false,
     "start_time": "2022-04-02T12:54:10.420686",
     "status": "completed"
    },
    "tags": []
   },
   "source": [
    "## dataset"
   ]
  },
  {
   "cell_type": "code",
   "execution_count": 5,
   "id": "5a5bc465",
   "metadata": {
    "execution": {
     "iopub.execute_input": "2022-04-02T12:54:10.503328Z",
     "iopub.status.busy": "2022-04-02T12:54:10.498047Z",
     "iopub.status.idle": "2022-04-02T12:54:12.250623Z",
     "shell.execute_reply": "2022-04-02T12:54:12.250059Z",
     "shell.execute_reply.started": "2022-04-02T12:38:08.507003Z"
    },
    "papermill": {
     "duration": 1.789649,
     "end_time": "2022-04-02T12:54:12.250771",
     "exception": false,
     "start_time": "2022-04-02T12:54:10.461122",
     "status": "completed"
    },
    "tags": []
   },
   "outputs": [
    {
     "name": "stdout",
     "output_type": "stream",
     "text": [
      "Number of users: 1371980, Number of topics: 105542.\n"
     ]
    }
   ],
   "source": [
    "dataset = Dataset()\n",
    "dataset.fit(users=customers['customer_id'], \n",
    "            items=articles['article_id']) # consider both new user and item\n",
    "\n",
    "num_users, num_topics = dataset.interactions_shape()\n",
    "print(f'Number of users: {num_users}, Number of topics: {num_topics}.')"
   ]
  },
  {
   "cell_type": "code",
   "execution_count": 6,
   "id": "952f83da",
   "metadata": {
    "execution": {
     "iopub.execute_input": "2022-04-02T12:54:12.296221Z",
     "iopub.status.busy": "2022-04-02T12:54:12.295219Z",
     "iopub.status.idle": "2022-04-02T12:54:19.100950Z",
     "shell.execute_reply": "2022-04-02T12:54:19.100258Z",
     "shell.execute_reply.started": "2022-04-02T12:38:10.372782Z"
    },
    "papermill": {
     "duration": 6.829474,
     "end_time": "2022-04-02T12:54:19.101091",
     "exception": false,
     "start_time": "2022-04-02T12:54:12.271617",
     "status": "completed"
    },
    "tags": []
   },
   "outputs": [
    {
     "name": "stderr",
     "output_type": "stream",
     "text": [
      "/opt/conda/lib/python3.7/site-packages/ipykernel_launcher.py:4: FutureWarning: Series.dt.weekofyear and Series.dt.week have been deprecated.  Please use Series.dt.isocalendar().week instead.\n",
      "  after removing the cwd from sys.path.\n"
     ]
    }
   ],
   "source": [
    "train[\"t_dat\"] = pd.to_datetime(train[\"t_dat\"])\n",
    "\n",
    "date_week_df = train.drop_duplicates(\"t_dat\")[[\"t_dat\"]].reset_index(drop=True)\n",
    "date_week_df['week_no'] = (date_week_df['t_dat'] + pd.DateOffset(days=5)).dt.week\n",
    "date_week_df[\"week_no\"] = date_week_df[\"week_no\"].diff(1)\n",
    "date_week_df[\"week_no\"].fillna(0, inplace=True)\n",
    "date_week_df[\"week_no\"] = date_week_df[\"week_no\"] != 0\n",
    "date_week_df[\"week_no\"] = date_week_df[\"week_no\"].cumsum()\n",
    "\n",
    "train = pd.merge(train, date_week_df, on=\"t_dat\", how=\"left\")\n",
    "\n",
    "#train.sort_values(['t_dat', 'customer_id'], inplace=True)\n",
    "\n",
    "test_week = train.week_no.max()\n",
    "del date_week_df"
   ]
  },
  {
   "cell_type": "code",
   "execution_count": 7,
   "id": "deff5aeb",
   "metadata": {
    "execution": {
     "iopub.execute_input": "2022-04-02T12:54:19.148865Z",
     "iopub.status.busy": "2022-04-02T12:54:19.147937Z",
     "iopub.status.idle": "2022-04-02T12:56:59.118027Z",
     "shell.execute_reply": "2022-04-02T12:56:59.118560Z",
     "shell.execute_reply.started": "2022-04-02T12:38:17.349791Z"
    },
    "papermill": {
     "duration": 159.994678,
     "end_time": "2022-04-02T12:56:59.118747",
     "exception": false,
     "start_time": "2022-04-02T12:54:19.124069",
     "status": "completed"
    },
    "tags": []
   },
   "outputs": [
    {
     "name": "stdout",
     "output_type": "stream",
     "text": [
      "(1371980, 105542) (1371980, 105542)\n"
     ]
    }
   ],
   "source": [
    "train_set = train[train.week_no < test_week]\n",
    "val_set = train[train.week_no == test_week]\n",
    "\n",
    "(interactions, weights) = dataset.build_interactions(train_set.iloc[:, 1:3].values)\n",
    "(val_interactions, val_weights) = dataset.build_interactions(val_set.iloc[:, 1:3].values)\n",
    "#build_item_features\n",
    "#build_user_features\n",
    "print(interactions.shape, val_interactions.shape)\n",
    "del train"
   ]
  },
  {
   "cell_type": "code",
   "execution_count": 8,
   "id": "c7d6a705",
   "metadata": {
    "execution": {
     "iopub.execute_input": "2022-04-02T12:56:59.184396Z",
     "iopub.status.busy": "2022-04-02T12:56:59.173746Z",
     "iopub.status.idle": "2022-04-02T12:57:17.067996Z",
     "shell.execute_reply": "2022-04-02T12:57:17.068591Z",
     "shell.execute_reply.started": "2022-04-02T12:40:57.983707Z"
    },
    "papermill": {
     "duration": 17.928778,
     "end_time": "2022-04-02T12:57:17.068773",
     "exception": false,
     "start_time": "2022-04-02T12:56:59.139995",
     "status": "completed"
    },
    "tags": []
   },
   "outputs": [],
   "source": [
    "valid = val_set.groupby('customer_id')['article_id'].apply(list).reset_index()\n",
    "valid = valid.rename({'article_id':'prediction'},axis=1)\n",
    "valid['prediction'] = valid.prediction.apply(lambda x: ' '.join([str(k) for k in x]))\n",
    "\n",
    "inactive_users = list(set(train_set.customer_id) - set(train_set[train_set.week_no > test_week - 10][\"customer_id\"]))\n",
    "cold_users = list(set(valid.customer_id) - set(train_set.customer_id))\n",
    "del train_set, val_set"
   ]
  },
  {
   "cell_type": "markdown",
   "id": "ac9a157c",
   "metadata": {
    "papermill": {
     "duration": 0.021151,
     "end_time": "2022-04-02T12:57:17.112026",
     "exception": false,
     "start_time": "2022-04-02T12:57:17.090875",
     "status": "completed"
    },
    "tags": []
   },
   "source": [
    "# fitting"
   ]
  },
  {
   "cell_type": "code",
   "execution_count": 9,
   "id": "97175334",
   "metadata": {
    "execution": {
     "iopub.execute_input": "2022-04-02T12:57:17.158445Z",
     "iopub.status.busy": "2022-04-02T12:57:17.157755Z",
     "iopub.status.idle": "2022-04-02T13:16:54.142649Z",
     "shell.execute_reply": "2022-04-02T13:16:54.138687Z",
     "shell.execute_reply.started": "2022-04-02T12:41:17.563787Z"
    },
    "papermill": {
     "duration": 1177.009317,
     "end_time": "2022-04-02T13:16:54.142913",
     "exception": false,
     "start_time": "2022-04-02T12:57:17.133596",
     "status": "completed"
    },
    "tags": []
   },
   "outputs": [
    {
     "name": "stderr",
     "output_type": "stream",
     "text": [
      "Epoch: 100%|██████████| 50/50 [19:36<00:00, 23.53s/it]\n"
     ]
    },
    {
     "data": {
      "text/plain": [
       "<lightfm.lightfm.LightFM at 0x7ff555525450>"
      ]
     },
     "execution_count": 9,
     "metadata": {},
     "output_type": "execute_result"
    }
   ],
   "source": [
    "model = LightFM(loss='bpr', no_components=NO_COMPONENTS, \n",
    "                 learning_rate=LEARNING_RATE,                 \n",
    "                 random_state=np.random.RandomState(SEED))\n",
    "model.fit(interactions=interactions, epochs=EPOCHS, verbose=1, num_threads=NO_THREADS)"
   ]
  },
  {
   "cell_type": "code",
   "execution_count": 10,
   "id": "87099b71",
   "metadata": {
    "execution": {
     "iopub.execute_input": "2022-04-02T13:16:54.231691Z",
     "iopub.status.busy": "2022-04-02T13:16:54.230973Z",
     "iopub.status.idle": "2022-04-02T13:16:54.233331Z",
     "shell.execute_reply": "2022-04-02T13:16:54.234015Z",
     "shell.execute_reply.started": "2022-04-02T12:50:43.235009Z"
    },
    "papermill": {
     "duration": 0.050045,
     "end_time": "2022-04-02T13:16:54.234191",
     "exception": false,
     "start_time": "2022-04-02T13:16:54.184146",
     "status": "completed"
    },
    "tags": []
   },
   "outputs": [],
   "source": [
    "#Load Trained Model\n",
    "\n",
    "#!pip3 install pickle5\n",
    "#import pickle5 as pickle\n",
    "#with open('../input/lightfm1/lightFM1.pickle', \"rb\") as fh:\n",
    "#    trained_model = pickle.load(fh)\n",
    "\n",
    "#if VALID:\n",
    "#    val_precision = precision_at_k(model, val_interactions, k=K).mean()\n",
    "#    print(val_precision)"
   ]
  },
  {
   "cell_type": "markdown",
   "id": "4535db6c",
   "metadata": {
    "papermill": {
     "duration": 0.041037,
     "end_time": "2022-04-02T13:16:54.316315",
     "exception": false,
     "start_time": "2022-04-02T13:16:54.275278",
     "status": "completed"
    },
    "tags": []
   },
   "source": [
    "# Submission"
   ]
  },
  {
   "cell_type": "code",
   "execution_count": 11,
   "id": "4d9eba4e",
   "metadata": {
    "execution": {
     "iopub.execute_input": "2022-04-02T13:16:54.403344Z",
     "iopub.status.busy": "2022-04-02T13:16:54.402653Z",
     "iopub.status.idle": "2022-04-02T13:16:55.057273Z",
     "shell.execute_reply": "2022-04-02T13:16:55.057796Z",
     "shell.execute_reply.started": "2022-04-02T12:50:43.236593Z"
    },
    "papermill": {
     "duration": 0.700445,
     "end_time": "2022-04-02T13:16:55.057988",
     "exception": false,
     "start_time": "2022-04-02T13:16:54.357543",
     "status": "completed"
    },
    "tags": []
   },
   "outputs": [
    {
     "name": "stdout",
     "output_type": "stream",
     "text": [
      "68984\n"
     ]
    }
   ],
   "source": [
    "#Get the mappings\n",
    "'''\n",
    "uid = mapping from customer_id to model equivalent user_id\n",
    "iid = mapping from article_id to  model equivalent article_id\n",
    "'''\n",
    "uid_map, ufeature_map, iid_map, ifeature_map = dataset.mapping() \n",
    "'''\n",
    "create inverse mappings\n",
    "'''\n",
    "inv_uid_map = {v:k for k, v in uid_map.items()}\n",
    "inv_iid_map = {v:k for k, v in iid_map.items()}\n",
    "\n",
    "#convert submission user_id and article_id to model equivalent user_id and article_id\n",
    "\n",
    "if VALID:\n",
    "    test_X = valid.customer_id.values\n",
    "else:\n",
    "    test_X = sample_submission.customer_id.values    \n",
    "\n",
    "lfn_user = lambda x: uid_map[x]\n",
    "test_X_m = [lfn_user(tx) for tx in test_X]\n",
    "\n",
    "print(len(test_X_m))"
   ]
  },
  {
   "cell_type": "code",
   "execution_count": 12,
   "id": "993e3014",
   "metadata": {
    "execution": {
     "iopub.execute_input": "2022-04-02T13:16:55.150942Z",
     "iopub.status.busy": "2022-04-02T13:16:55.150197Z",
     "iopub.status.idle": "2022-04-02T13:16:55.155099Z",
     "shell.execute_reply": "2022-04-02T13:16:55.155676Z",
     "shell.execute_reply.started": "2022-04-02T12:50:43.238571Z"
    },
    "papermill": {
     "duration": 0.055433,
     "end_time": "2022-04-02T13:16:55.155852",
     "exception": false,
     "start_time": "2022-04-02T13:16:55.100419",
     "status": "completed"
    },
    "tags": []
   },
   "outputs": [],
   "source": [
    "num_cores=4\n",
    "\n",
    "def predict_submission():\n",
    "    df_split = np.array_split(test_X_m, num_cores)\n",
    "    chunk_size = len(df_split[0])\n",
    "    \n",
    "    chunk1 = list(df_split[0])\n",
    "    chunk2 = list(df_split[1])\n",
    "    chunk3 = list(df_split[2])\n",
    "    chunk4 = list(df_split[3])\n",
    "    \n",
    "    #list of items for multiprocessing, 4 since using 4 cores\n",
    "    all_chunks = [chunk1, chunk2, chunk3, chunk4]\n",
    "    \n",
    "    pool = Pool(num_cores)\n",
    "    result = pool.map(make_predict, all_chunks)\n",
    "    \n",
    "    pred_combined = list(itertools.chain(result[0], result[1], result[2], result[3]))\n",
    "\n",
    "    return pred_combined\n",
    "\n",
    "def make_predict(usr_chunk):\n",
    "    customer_ids = []\n",
    "    preds = []\n",
    "    item_array = np.array(list(iid_map.values()))\n",
    "\n",
    "    for usr_ in usr_chunk:\n",
    "        m_opt = model.predict(np.array([usr_] * len(iid_map)), item_array)\n",
    "        pred = np.argsort(-m_opt)[:K]\n",
    "        #customer_ids.append(inv_uid_map[usr_])\n",
    "        preds.append(' '.join([inv_iid_map[p] for p in pred]).strip())\n",
    "        #break\n",
    "    \n",
    "    #customer_ids = np.array(customer_ids).reshape(-1, 1)\n",
    "    preds = np.array(preds).reshape(-1, 1)\n",
    "    return preds"
   ]
  },
  {
   "cell_type": "code",
   "execution_count": 13,
   "id": "8f9626fa",
   "metadata": {
    "execution": {
     "iopub.execute_input": "2022-04-02T13:16:55.242751Z",
     "iopub.status.busy": "2022-04-02T13:16:55.242035Z",
     "iopub.status.idle": "2022-04-02T13:27:55.619874Z",
     "shell.execute_reply": "2022-04-02T13:27:55.620548Z",
     "shell.execute_reply.started": "2022-04-02T12:50:43.240418Z"
    },
    "papermill": {
     "duration": 660.423101,
     "end_time": "2022-04-02T13:27:55.620761",
     "exception": false,
     "start_time": "2022-04-02T13:16:55.197660",
     "status": "completed"
    },
    "tags": []
   },
   "outputs": [
    {
     "name": "stdout",
     "output_type": "stream",
     "text": [
      "CPU times: user 1.05 s, sys: 704 ms, total: 1.76 s\n",
      "Wall time: 11min\n"
     ]
    }
   ],
   "source": [
    "%%time\n",
    "final_predictions = predict_submission()"
   ]
  },
  {
   "cell_type": "code",
   "execution_count": 14,
   "id": "eaca0924",
   "metadata": {
    "execution": {
     "iopub.execute_input": "2022-04-02T13:27:55.721867Z",
     "iopub.status.busy": "2022-04-02T13:27:55.721022Z",
     "iopub.status.idle": "2022-04-02T13:28:09.840512Z",
     "shell.execute_reply": "2022-04-02T13:28:09.839837Z",
     "shell.execute_reply.started": "2022-04-02T12:50:43.242037Z"
    },
    "papermill": {
     "duration": 14.172771,
     "end_time": "2022-04-02T13:28:09.840684",
     "exception": false,
     "start_time": "2022-04-02T13:27:55.667913",
     "status": "completed"
    },
    "tags": []
   },
   "outputs": [],
   "source": [
    "final_sub = pd.DataFrame(data=np.concatenate((np.array(test_X).reshape(-1,1), np.array(final_predictions)), axis=1).reshape(-1, 2),\n",
    "                         columns=['customer_id', 'prediction'])\n",
    "\n",
    "sample_submission.loc[sample_submission.customer_id.isin(final_sub.customer_id), 'prediction'] = ( \n",
    "    final_sub['prediction']\n",
    "    )\n",
    "sample_submission.to_csv('submission.csv', index=False)"
   ]
  },
  {
   "cell_type": "code",
   "execution_count": 15,
   "id": "5b1c2c87",
   "metadata": {
    "execution": {
     "iopub.execute_input": "2022-04-02T13:28:09.940752Z",
     "iopub.status.busy": "2022-04-02T13:28:09.939640Z",
     "iopub.status.idle": "2022-04-02T13:28:19.364879Z",
     "shell.execute_reply": "2022-04-02T13:28:19.364136Z",
     "shell.execute_reply.started": "2022-04-02T12:50:43.243780Z"
    },
    "papermill": {
     "duration": 9.481377,
     "end_time": "2022-04-02T13:28:19.365099",
     "exception": false,
     "start_time": "2022-04-02T13:28:09.883722",
     "status": "completed"
    },
    "tags": []
   },
   "outputs": [
    {
     "name": "stdout",
     "output_type": "stream",
     "text": [
      "t 0.0007800701522315257\n",
      "i 0.0006007137748659168 19048\n",
      "c 1.0207879913551126e-05 5572\n",
      "  \n",
      "0111586001 0234432001 0417951005 0457466002 0111593001 0158340001 0436261001 0123173001 0671607001 0774258001 0728162009 0767304002    2\n",
      "0619881007 0582138002 0573716007 0610730026 0567494002 0534044001 0591439009 0662344008 0443000001 0719589004 0634248003 0639323001    1\n",
      "0621381022 0621381012 0621381016 0621381019 0621381027 0621381001 0621381014 0724791002 0755754002 0732842008 0724791006 0777743001    1\n",
      "0851363004 0877773003 0837741005 0886390002 0889669006 0857812007 0864513001 0877773004 0852809001 0873604003 0848359001 0806916008    1\n",
      "0753379001 0838197003 0831998007 0784848001 0761308001 0860305002 0880238005 0890631005 0761308002 0844059003 0633136010 0798901008    1\n",
      "                                                                                                                                      ..\n",
      "0663282007 0810187004 0756684005 0761218004 0761432001 0756662004 0622966001 0809240001 0749415005 0753708001 0508156031 0664405015    1\n",
      "0819709001 0871353001 0615795001 0861564002 0795425002 0699592001 0831047001 0841170001 0709036001 0674314001 0548930019 0865430001    1\n",
      "0754238015 0657014004 0695537002 0738656001 0824208003 0868823011 0744796003 0812481001 0902507001 0577294015 0657014001 0785791002    1\n",
      "0255396006 0652246001 0724402001 0668887001 0711411001 0678280008 0712518001 0573652003 0701354002 0552041003 0700280001 0717032002    1\n",
      "0895555002 0779781012 0913714001 0909895001 0774543013 0934054001 0539217024 0774543009 0844970001 0844990001 0866465001 0872934003    1\n",
      "Name: prediction, Length: 68983, dtype: int64\n"
     ]
    }
   ],
   "source": [
    "# local score\n",
    "if VALID:\n",
    "    sub_check = final_sub.copy()\n",
    "    sub_check = sub_check.set_index('customer_id').reset_index()\n",
    "    print(\"t\", mapk(valid.prediction.str.split(), sub_check.prediction.str.split(), k=12))    \n",
    "    print(\"i\", \n",
    "            mapk(valid[valid.customer_id.isin(inactive_users)].prediction.str.split(), \n",
    "               sub_check[sub_check.customer_id.isin(inactive_users)].prediction.str.split(), k=12),\n",
    "            valid[valid.customer_id.isin(inactive_users)].shape[0])\n",
    "    print(\"c\", \n",
    "            mapk(valid[valid.customer_id.isin(cold_users)].prediction.str.split(), \n",
    "               sub_check[sub_check.customer_id.isin(cold_users)].prediction.str.split(), k=12),\n",
    "            valid[valid.customer_id.isin(cold_users)].shape[0])\n",
    "    \n",
    "    print(\"  \")\n",
    "    print(sub_check[\"prediction\"].value_counts())  "
   ]
  },
  {
   "cell_type": "code",
   "execution_count": null,
   "id": "cda64837",
   "metadata": {
    "papermill": {
     "duration": 0.045019,
     "end_time": "2022-04-02T13:28:19.464681",
     "exception": false,
     "start_time": "2022-04-02T13:28:19.419662",
     "status": "completed"
    },
    "tags": []
   },
   "outputs": [],
   "source": []
  }
 ],
 "metadata": {
  "kernelspec": {
   "display_name": "Python 3",
   "language": "python",
   "name": "python3"
  },
  "language_info": {
   "codemirror_mode": {
    "name": "ipython",
    "version": 3
   },
   "file_extension": ".py",
   "mimetype": "text/x-python",
   "name": "python",
   "nbconvert_exporter": "python",
   "pygments_lexer": "ipython3",
   "version": "3.7.12"
  },
  "papermill": {
   "default_parameters": {},
   "duration": 2150.430047,
   "end_time": "2022-04-02T13:28:22.235714",
   "environment_variables": {},
   "exception": null,
   "input_path": "__notebook__.ipynb",
   "output_path": "__notebook__.ipynb",
   "parameters": {},
   "start_time": "2022-04-02T12:52:31.805667",
   "version": "2.3.3"
  }
 },
 "nbformat": 4,
 "nbformat_minor": 5
}
