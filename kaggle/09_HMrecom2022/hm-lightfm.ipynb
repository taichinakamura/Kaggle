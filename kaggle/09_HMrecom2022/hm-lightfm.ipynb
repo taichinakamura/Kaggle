{
 "cells": [
  {
   "cell_type": "markdown",
   "id": "4bdf5c35",
   "metadata": {
    "papermill": {
     "duration": 0.02625,
     "end_time": "2022-04-04T01:17:25.401880",
     "exception": false,
     "start_time": "2022-04-04T01:17:25.375630",
     "status": "completed"
    },
    "tags": []
   },
   "source": [
    "- https://making.lyst.com/lightfm/docs/lightfm.html\n",
    "- modify mistake in valid label\n",
    "- consider item, user features"
   ]
  },
  {
   "cell_type": "code",
   "execution_count": 1,
   "id": "90ac4f22",
   "metadata": {
    "execution": {
     "iopub.execute_input": "2022-04-04T01:17:25.457065Z",
     "iopub.status.busy": "2022-04-04T01:17:25.455785Z",
     "iopub.status.idle": "2022-04-04T01:17:26.581626Z",
     "shell.execute_reply": "2022-04-04T01:17:26.580764Z",
     "shell.execute_reply.started": "2022-04-03T23:47:30.131751Z"
    },
    "papermill": {
     "duration": 1.154868,
     "end_time": "2022-04-04T01:17:26.581821",
     "exception": false,
     "start_time": "2022-04-04T01:17:25.426953",
     "status": "completed"
    },
    "tags": []
   },
   "outputs": [],
   "source": [
    "import os\n",
    "import tqdm\n",
    "\n",
    "import numpy as np\n",
    "import pandas as pd\n",
    "from lightfm import LightFM\n",
    "from lightfm.data import Dataset\n",
    "from sklearn import preprocessing\n",
    "\n",
    "import itertools\n",
    "from multiprocessing import Pool\n",
    "\n",
    "SEED = 42\n",
    "np.random.seed(SEED)\n",
    "os.environ['PYTHONHASHSEED'] = str(SEED)\n",
    "\n",
    "VALID = True"
   ]
  },
  {
   "cell_type": "code",
   "execution_count": 2,
   "id": "05e1bcee",
   "metadata": {
    "execution": {
     "iopub.execute_input": "2022-04-04T01:17:26.634718Z",
     "iopub.status.busy": "2022-04-04T01:17:26.633643Z",
     "iopub.status.idle": "2022-04-04T01:17:26.643486Z",
     "shell.execute_reply": "2022-04-04T01:17:26.642809Z",
     "shell.execute_reply.started": "2022-04-03T23:47:31.676799Z"
    },
    "papermill": {
     "duration": 0.037402,
     "end_time": "2022-04-04T01:17:26.643625",
     "exception": false,
     "start_time": "2022-04-04T01:17:26.606223",
     "status": "completed"
    },
    "tags": []
   },
   "outputs": [],
   "source": [
    "def apk(actual, predicted, k=12):\n",
    "    if len(predicted)>k:\n",
    "        predicted = predicted[:k]\n",
    "        \n",
    "    score = 0.0\n",
    "    num_hits = 0.0\n",
    "    \n",
    "    for i,p in enumerate(predicted):\n",
    "        if p in actual and p not in predicted[:i]:\n",
    "            num_hits += 1.0\n",
    "            score += num_hits / (i+1.0)\n",
    "\n",
    "    if not actual:\n",
    "        return 0.0\n",
    "\n",
    "    return score / min(len(actual), k)\n",
    "\n",
    "\n",
    "def mapk(actual, predicted, k=12):\n",
    "    \"\"\"\n",
    "    Computes the mean average precision at k.\n",
    "    This function computes the mean average prescision at k between two lists\n",
    "    of lists of items.\n",
    "    Parameters\n",
    "    ----------\n",
    "    actual : list\n",
    "             A list of lists of elements that are to be predicted \n",
    "             (order doesn't matter in the lists)\n",
    "    predicted : list\n",
    "                A list of lists of predicted elements\n",
    "                (order matters in the lists)\n",
    "    k : int, optional\n",
    "        The maximum number of predicted elements\n",
    "    Returns\n",
    "    -------\n",
    "    score : double\n",
    "            The mean average precision at k over the input lists\n",
    "    \"\"\"\n",
    "    return np.mean([apk(a,p,k) for a,p in zip(actual, predicted)])"
   ]
  },
  {
   "cell_type": "markdown",
   "id": "f542513c",
   "metadata": {
    "papermill": {
     "duration": 0.024859,
     "end_time": "2022-04-04T01:17:26.693142",
     "exception": false,
     "start_time": "2022-04-04T01:17:26.668283",
     "status": "completed"
    },
    "tags": []
   },
   "source": [
    "## Configs"
   ]
  },
  {
   "cell_type": "code",
   "execution_count": 3,
   "id": "2eb40075",
   "metadata": {
    "execution": {
     "iopub.execute_input": "2022-04-04T01:17:26.747670Z",
     "iopub.status.busy": "2022-04-04T01:17:26.746957Z",
     "iopub.status.idle": "2022-04-04T01:17:26.750209Z",
     "shell.execute_reply": "2022-04-04T01:17:26.749556Z",
     "shell.execute_reply.started": "2022-04-03T23:47:31.687456Z"
    },
    "papermill": {
     "duration": 0.032881,
     "end_time": "2022-04-04T01:17:26.750365",
     "exception": false,
     "start_time": "2022-04-04T01:17:26.717484",
     "status": "completed"
    },
    "tags": []
   },
   "outputs": [],
   "source": [
    "# default number of recommendations\n",
    "K = 12\n",
    "EPOCHS = 100\n",
    "LEARNING_RATE = 0.1 #2\n",
    "NO_COMPONENTS = 40\n",
    "NO_THREADS = 32\n",
    "ITEM_ALPHA=1e-6\n",
    "USER_ALPHA=1e-6\n",
    "\n",
    "num_cores=4"
   ]
  },
  {
   "cell_type": "markdown",
   "id": "68b2e52a",
   "metadata": {
    "papermill": {
     "duration": 0.025632,
     "end_time": "2022-04-04T01:17:26.801635",
     "exception": false,
     "start_time": "2022-04-04T01:17:26.776003",
     "status": "completed"
    },
    "tags": []
   },
   "source": [
    "## Load the data"
   ]
  },
  {
   "cell_type": "code",
   "execution_count": 4,
   "id": "5b191261",
   "metadata": {
    "execution": {
     "iopub.execute_input": "2022-04-04T01:17:26.857477Z",
     "iopub.status.busy": "2022-04-04T01:17:26.856527Z",
     "iopub.status.idle": "2022-04-04T01:18:56.177206Z",
     "shell.execute_reply": "2022-04-04T01:18:56.176544Z",
     "shell.execute_reply.started": "2022-04-03T23:47:31.700481Z"
    },
    "papermill": {
     "duration": 89.351405,
     "end_time": "2022-04-04T01:18:56.177387",
     "exception": false,
     "start_time": "2022-04-04T01:17:26.825982",
     "status": "completed"
    },
    "tags": []
   },
   "outputs": [],
   "source": [
    "main_dir = \"../input/h-and-m-personalized-fashion-recommendations\"\n",
    "images_dir = main_dir+\"/images/\" \n",
    "customers = pd.read_csv(main_dir+\"/customers.csv\")\n",
    "articles = pd.read_csv(main_dir+\"/articles.csv\", dtype={'article_id': str})\n",
    "sample_submission = pd.read_csv(main_dir+\"/sample_submission.csv\", dtype={'article_id': str})\n",
    "train = pd.read_csv(main_dir+'/transactions_train.csv',  dtype={'article_id': str}, parse_dates=['t_dat'])"
   ]
  },
  {
   "cell_type": "markdown",
   "id": "f74b67c6",
   "metadata": {
    "papermill": {
     "duration": 0.024339,
     "end_time": "2022-04-04T01:18:56.226737",
     "exception": false,
     "start_time": "2022-04-04T01:18:56.202398",
     "status": "completed"
    },
    "tags": []
   },
   "source": [
    "# dataset"
   ]
  },
  {
   "cell_type": "code",
   "execution_count": 5,
   "id": "9b59d2a0",
   "metadata": {
    "execution": {
     "iopub.execute_input": "2022-04-04T01:18:56.280420Z",
     "iopub.status.busy": "2022-04-04T01:18:56.279324Z",
     "iopub.status.idle": "2022-04-04T01:18:56.320663Z",
     "shell.execute_reply": "2022-04-04T01:18:56.321207Z",
     "shell.execute_reply.started": "2022-04-03T23:48:58.543273Z"
    },
    "papermill": {
     "duration": 0.070131,
     "end_time": "2022-04-04T01:18:56.321388",
     "exception": false,
     "start_time": "2022-04-04T01:18:56.251257",
     "status": "completed"
    },
    "tags": []
   },
   "outputs": [
    {
     "data": {
      "text/plain": [
       "['product_code',\n",
       " 'product_type_no',\n",
       " 'graphical_appearance_no',\n",
       " 'colour_group_code',\n",
       " 'perceived_colour_value_id',\n",
       " 'perceived_colour_master_id',\n",
       " 'department_no',\n",
       " 'index_group_no',\n",
       " 'section_no',\n",
       " 'garment_group_no']"
      ]
     },
     "execution_count": 5,
     "metadata": {},
     "output_type": "execute_result"
    }
   ],
   "source": [
    "# item\n",
    "article_columns = [i for i in articles.columns if \"int\" in str(articles[i].dtype)]\n",
    "articles = articles[['article_id'] + article_columns]\n",
    "\n",
    "#image_feats = pd.read_csv(\"../input/hm-table-dataset/autox_features.csv\")\n",
    "#articles = pd.concat([articles, image_feats], axis=1)\n",
    "#articles.fillna(-999, inplace=True)\n",
    "#del image_feats\n",
    "#article_columns = [i for i in articles.columns if \"int\" in str(articles[i].dtype) or \"float\" in str(articles[i].dtype)]\n",
    "article_columns"
   ]
  },
  {
   "cell_type": "code",
   "execution_count": 6,
   "id": "f011f93e",
   "metadata": {
    "execution": {
     "iopub.execute_input": "2022-04-04T01:18:56.377563Z",
     "iopub.status.busy": "2022-04-04T01:18:56.376446Z",
     "iopub.status.idle": "2022-04-04T01:19:10.175931Z",
     "shell.execute_reply": "2022-04-04T01:19:10.174859Z",
     "shell.execute_reply.started": "2022-04-03T23:48:58.573921Z"
    },
    "papermill": {
     "duration": 13.827734,
     "end_time": "2022-04-04T01:19:10.176113",
     "exception": false,
     "start_time": "2022-04-04T01:18:56.348379",
     "status": "completed"
    },
    "tags": []
   },
   "outputs": [
    {
     "data": {
      "text/plain": [
       "['FN', 'Active', 'club_member_status', 'fashion_news_frequency', 'postal_code']"
      ]
     },
     "execution_count": 6,
     "metadata": {},
     "output_type": "execute_result"
    }
   ],
   "source": [
    "# user\n",
    "user_columns = ['FN', 'Active', 'club_member_status', 'fashion_news_frequency', 'postal_code']\n",
    "customers.fillna(-1, inplace=True)\n",
    "for feat in user_columns:\n",
    "    lbl = preprocessing.LabelEncoder()\n",
    "    lbl.fit(list(customers[feat]))\n",
    "    customers[feat] = lbl.transform(list(customers[feat]))\n",
    "#user_columns += ['age']\n",
    "user_columns"
   ]
  },
  {
   "cell_type": "code",
   "execution_count": 7,
   "id": "477072a3",
   "metadata": {
    "execution": {
     "iopub.execute_input": "2022-04-04T01:19:10.277896Z",
     "iopub.status.busy": "2022-04-04T01:19:10.240713Z",
     "iopub.status.idle": "2022-04-04T01:19:12.313029Z",
     "shell.execute_reply": "2022-04-04T01:19:12.312276Z",
     "shell.execute_reply.started": "2022-04-03T23:49:12.300105Z"
    },
    "papermill": {
     "duration": 2.110854,
     "end_time": "2022-04-04T01:19:12.313182",
     "exception": false,
     "start_time": "2022-04-04T01:19:10.202328",
     "status": "completed"
    },
    "tags": []
   },
   "outputs": [
    {
     "name": "stdout",
     "output_type": "stream",
     "text": [
      "Number of users: 1371980, Number of topics: 105542.\n"
     ]
    }
   ],
   "source": [
    "dataset = Dataset()\n",
    "dataset.fit(users=customers['customer_id'], \n",
    "            items=articles['article_id'],\n",
    "            user_features = user_columns,\n",
    "            item_features = article_columns) \n",
    "\n",
    "num_users, num_topics = dataset.interactions_shape()\n",
    "print(f'Number of users: {num_users}, Number of topics: {num_topics}.')\n",
    "\n",
    "#Get the mappings\n",
    "'''\n",
    "uid = mapping from customer_id to model equivalent user_id\n",
    "iid = mapping from article_id to  model equivalent article_id\n",
    "'''\n",
    "uid_map, ufeature_map, iid_map, ifeature_map = dataset.mapping() \n",
    "inv_uid_map = {v:k for k, v in uid_map.items()}\n",
    "inv_iid_map = {v:k for k, v in iid_map.items()}"
   ]
  },
  {
   "cell_type": "code",
   "execution_count": 8,
   "id": "22d8b39d",
   "metadata": {
    "execution": {
     "iopub.execute_input": "2022-04-04T01:19:12.387242Z",
     "iopub.status.busy": "2022-04-04T01:19:12.386243Z",
     "iopub.status.idle": "2022-04-04T01:19:19.320549Z",
     "shell.execute_reply": "2022-04-04T01:19:19.321100Z",
     "shell.execute_reply.started": "2022-04-03T23:49:14.300612Z"
    },
    "papermill": {
     "duration": 6.982731,
     "end_time": "2022-04-04T01:19:19.321304",
     "exception": false,
     "start_time": "2022-04-04T01:19:12.338573",
     "status": "completed"
    },
    "tags": []
   },
   "outputs": [
    {
     "name": "stderr",
     "output_type": "stream",
     "text": [
      "/opt/conda/lib/python3.7/site-packages/ipykernel_launcher.py:4: FutureWarning: Series.dt.weekofyear and Series.dt.week have been deprecated.  Please use Series.dt.isocalendar().week instead.\n",
      "  after removing the cwd from sys.path.\n"
     ]
    }
   ],
   "source": [
    "train[\"t_dat\"] = pd.to_datetime(train[\"t_dat\"])\n",
    "\n",
    "date_week_df = train.drop_duplicates(\"t_dat\")[[\"t_dat\"]].reset_index(drop=True)\n",
    "date_week_df['week_no'] = (date_week_df['t_dat'] + pd.DateOffset(days=5)).dt.week\n",
    "date_week_df[\"week_no\"] = date_week_df[\"week_no\"].diff(1)\n",
    "date_week_df[\"week_no\"].fillna(0, inplace=True)\n",
    "date_week_df[\"week_no\"] = date_week_df[\"week_no\"] != 0\n",
    "date_week_df[\"week_no\"] = date_week_df[\"week_no\"].cumsum()\n",
    "\n",
    "train = pd.merge(train, date_week_df, on=\"t_dat\", how=\"left\")\n",
    "test_week = train.week_no.max()\n",
    "\n",
    "del date_week_df"
   ]
  },
  {
   "cell_type": "code",
   "execution_count": 9,
   "id": "efb6d6b4",
   "metadata": {
    "execution": {
     "iopub.execute_input": "2022-04-04T01:19:19.377018Z",
     "iopub.status.busy": "2022-04-04T01:19:19.376273Z",
     "iopub.status.idle": "2022-04-04T01:19:19.378645Z",
     "shell.execute_reply": "2022-04-04T01:19:19.379165Z",
     "shell.execute_reply.started": "2022-04-03T23:49:21.185559Z"
    },
    "papermill": {
     "duration": 0.03199,
     "end_time": "2022-04-04T01:19:19.379340",
     "exception": false,
     "start_time": "2022-04-04T01:19:19.347350",
     "status": "completed"
    },
    "tags": []
   },
   "outputs": [],
   "source": [
    "#item_last_week = train.groupby(\"article_id\")[\"week_no\"].max().reset_index()\n",
    "#weak_weight_items = item_last_week[item_last_week.week_no < 50][\"article_id\"].values\n",
    "#weak_weight_id = [iid_map[ele] for ele in weak_weight_items]\n",
    "#del item_last_week"
   ]
  },
  {
   "cell_type": "code",
   "execution_count": 10,
   "id": "6d75ee5e",
   "metadata": {
    "execution": {
     "iopub.execute_input": "2022-04-04T01:19:19.435070Z",
     "iopub.status.busy": "2022-04-04T01:19:19.434387Z",
     "iopub.status.idle": "2022-04-04T01:25:39.176239Z",
     "shell.execute_reply": "2022-04-04T01:25:39.177385Z",
     "shell.execute_reply.started": "2022-04-03T23:49:26.127624Z"
    },
    "papermill": {
     "duration": 379.772696,
     "end_time": "2022-04-04T01:25:39.178264",
     "exception": false,
     "start_time": "2022-04-04T01:19:19.405568",
     "status": "completed"
    },
    "tags": []
   },
   "outputs": [
    {
     "name": "stdout",
     "output_type": "stream",
     "text": [
      "(1371980, 105542) (1371980, 105542)\n"
     ]
    }
   ],
   "source": [
    "train_set = train[train.week_no < test_week]\n",
    "val_set = train[train.week_no == test_week]\n",
    "\n",
    "(interactions, weights) = dataset.build_interactions(train_set.iloc[:, 1:3].values)\n",
    "(val_interactions, val_weights) = dataset.build_interactions(val_set.iloc[:, 1:3].values)\n",
    "dataset.build_item_features(((articles.iloc[index][\"article_id\"], article_columns) for index in range(articles.shape[0])))\n",
    "dataset.build_user_features(((customers.iloc[index][\"customer_id\"], user_columns) for index in range(customers.shape[0])))\n",
    "\n",
    "print(interactions.shape, val_interactions.shape)\n",
    "del train"
   ]
  },
  {
   "cell_type": "code",
   "execution_count": 11,
   "id": "72352ae7",
   "metadata": {
    "execution": {
     "iopub.execute_input": "2022-04-04T01:25:39.258622Z",
     "iopub.status.busy": "2022-04-04T01:25:39.257832Z",
     "iopub.status.idle": "2022-04-04T01:25:39.260994Z",
     "shell.execute_reply": "2022-04-04T01:25:39.260142Z",
     "shell.execute_reply.started": "2022-04-03T23:55:36.216111Z"
    },
    "papermill": {
     "duration": 0.04852,
     "end_time": "2022-04-04T01:25:39.261155",
     "exception": false,
     "start_time": "2022-04-04T01:25:39.212635",
     "status": "completed"
    },
    "tags": []
   },
   "outputs": [],
   "source": [
    "#change_index = np.isin(weights.col, weak_weight_id)\n",
    "#weights.data[change_index] = 0.9"
   ]
  },
  {
   "cell_type": "code",
   "execution_count": 12,
   "id": "bd5ce620",
   "metadata": {
    "execution": {
     "iopub.execute_input": "2022-04-04T01:25:39.336890Z",
     "iopub.status.busy": "2022-04-04T01:25:39.330534Z",
     "iopub.status.idle": "2022-04-04T01:25:57.736807Z",
     "shell.execute_reply": "2022-04-04T01:25:57.736038Z",
     "shell.execute_reply.started": "2022-04-03T23:55:36.222604Z"
    },
    "papermill": {
     "duration": 18.444864,
     "end_time": "2022-04-04T01:25:57.736991",
     "exception": false,
     "start_time": "2022-04-04T01:25:39.292127",
     "status": "completed"
    },
    "tags": []
   },
   "outputs": [],
   "source": [
    "valid = val_set.groupby('customer_id')['article_id'].apply(list).reset_index()\n",
    "valid = valid.rename({'article_id':'prediction'},axis=1)\n",
    "valid['prediction'] = valid.prediction.apply(lambda x: ' '.join([str(k) for k in x]))\n",
    "\n",
    "inactive_users = list(set(train_set.customer_id) - set(train_set[train_set.week_no > test_week - 10][\"customer_id\"]))\n",
    "cold_users = list(set(valid.customer_id) - set(train_set.customer_id))\n",
    "del train_set, val_set"
   ]
  },
  {
   "cell_type": "markdown",
   "id": "d803e100",
   "metadata": {
    "papermill": {
     "duration": 0.027169,
     "end_time": "2022-04-04T01:25:57.790933",
     "exception": false,
     "start_time": "2022-04-04T01:25:57.763764",
     "status": "completed"
    },
    "tags": []
   },
   "source": [
    "# fitting"
   ]
  },
  {
   "cell_type": "code",
   "execution_count": 13,
   "id": "33b7992c",
   "metadata": {
    "execution": {
     "iopub.execute_input": "2022-04-04T01:25:57.851863Z",
     "iopub.status.busy": "2022-04-04T01:25:57.851042Z",
     "iopub.status.idle": "2022-04-04T02:33:34.048038Z",
     "shell.execute_reply": "2022-04-04T02:33:34.045136Z",
     "shell.execute_reply.started": "2022-04-03T23:55:54.370938Z"
    },
    "papermill": {
     "duration": 4056.231006,
     "end_time": "2022-04-04T02:33:34.048251",
     "exception": false,
     "start_time": "2022-04-04T01:25:57.817245",
     "status": "completed"
    },
    "tags": []
   },
   "outputs": [
    {
     "name": "stderr",
     "output_type": "stream",
     "text": [
      "Epoch: 100%|██████████| 100/100 [1:07:35<00:00, 40.55s/it]\n"
     ]
    },
    {
     "data": {
      "text/plain": [
       "<lightfm.lightfm.LightFM at 0x7fa68ff09a50>"
      ]
     },
     "execution_count": 13,
     "metadata": {},
     "output_type": "execute_result"
    }
   ],
   "source": [
    "model = LightFM(loss='bpr', \n",
    "                no_components=NO_COMPONENTS, \n",
    "                learning_rate=LEARNING_RATE,                 \n",
    "                random_state=np.random.RandomState(SEED),\n",
    "                user_alpha=USER_ALPHA,\n",
    "                item_alpha=ITEM_ALPHA\n",
    "               )\n",
    "\n",
    "model.fit(interactions=interactions, \n",
    "          epochs=EPOCHS, \n",
    "          verbose=1, \n",
    "          num_threads=NO_THREADS,\n",
    "          #sample_weight=weights,\n",
    "         )"
   ]
  },
  {
   "cell_type": "code",
   "execution_count": 14,
   "id": "0e7a714d",
   "metadata": {
    "execution": {
     "iopub.execute_input": "2022-04-04T02:33:34.182963Z",
     "iopub.status.busy": "2022-04-04T02:33:34.182283Z",
     "iopub.status.idle": "2022-04-04T02:33:34.184424Z",
     "shell.execute_reply": "2022-04-04T02:33:34.184947Z",
     "shell.execute_reply.started": "2022-04-04T01:03:52.001409Z"
    },
    "papermill": {
     "duration": 0.07192,
     "end_time": "2022-04-04T02:33:34.185135",
     "exception": false,
     "start_time": "2022-04-04T02:33:34.113215",
     "status": "completed"
    },
    "tags": []
   },
   "outputs": [],
   "source": [
    "#!pip3 install pickle5\n",
    "#import pickle5 as pickle\n",
    "#with open('../input/lightfm1/lightFM1.pickle', \"rb\") as fh:\n",
    "#    trained_model = pickle.load(fh)"
   ]
  },
  {
   "cell_type": "markdown",
   "id": "bcc4c2b1",
   "metadata": {
    "papermill": {
     "duration": 0.063424,
     "end_time": "2022-04-04T02:33:34.312415",
     "exception": false,
     "start_time": "2022-04-04T02:33:34.248991",
     "status": "completed"
    },
    "tags": []
   },
   "source": [
    "# Submission"
   ]
  },
  {
   "cell_type": "code",
   "execution_count": 15,
   "id": "009cb272",
   "metadata": {
    "execution": {
     "iopub.execute_input": "2022-04-04T02:33:34.443306Z",
     "iopub.status.busy": "2022-04-04T02:33:34.442645Z",
     "iopub.status.idle": "2022-04-04T02:33:34.844824Z",
     "shell.execute_reply": "2022-04-04T02:33:34.845399Z",
     "shell.execute_reply.started": "2022-04-04T01:03:52.007001Z"
    },
    "papermill": {
     "duration": 0.469525,
     "end_time": "2022-04-04T02:33:34.845581",
     "exception": false,
     "start_time": "2022-04-04T02:33:34.376056",
     "status": "completed"
    },
    "tags": []
   },
   "outputs": [
    {
     "name": "stdout",
     "output_type": "stream",
     "text": [
      "68984\n"
     ]
    }
   ],
   "source": [
    "if VALID:\n",
    "    test_X = valid.customer_id.values\n",
    "else:\n",
    "    test_X = sample_submission.customer_id.values    \n",
    "\n",
    "lfn_user = lambda x: uid_map[x]\n",
    "test_X_m = [lfn_user(tx) for tx in test_X]\n",
    "\n",
    "print(len(test_X_m))"
   ]
  },
  {
   "cell_type": "code",
   "execution_count": 16,
   "id": "8b91202b",
   "metadata": {
    "execution": {
     "iopub.execute_input": "2022-04-04T02:33:36.232621Z",
     "iopub.status.busy": "2022-04-04T02:33:34.978379Z",
     "iopub.status.idle": "2022-04-04T02:33:36.244417Z",
     "shell.execute_reply": "2022-04-04T02:33:36.243812Z",
     "shell.execute_reply.started": "2022-04-04T01:03:52.362039Z"
    },
    "papermill": {
     "duration": 1.334818,
     "end_time": "2022-04-04T02:33:36.244574",
     "exception": false,
     "start_time": "2022-04-04T02:33:34.909756",
     "status": "completed"
    },
    "tags": []
   },
   "outputs": [],
   "source": [
    "def predict_submission():\n",
    "    df_split = np.array_split(test_X_m, num_cores)\n",
    "    chunk_size = len(df_split[0])\n",
    "    \n",
    "    chunk1 = list(df_split[0])\n",
    "    chunk2 = list(df_split[1])\n",
    "    chunk3 = list(df_split[2])\n",
    "    chunk4 = list(df_split[3])\n",
    "    \n",
    "    #list of items for multiprocessing, 4 since using 4 cores\n",
    "    all_chunks = [chunk1, chunk2, chunk3, chunk4]\n",
    "    \n",
    "    pool = Pool(num_cores)\n",
    "    result = pool.map(make_predict, all_chunks)\n",
    "    \n",
    "    pred_combined = list(itertools.chain(result[0], result[1], result[2], result[3]))\n",
    "\n",
    "    return pred_combined\n",
    "\n",
    "def make_predict(usr_chunk):\n",
    "    customer_ids = []\n",
    "    preds = []\n",
    "    item_array = np.array(list(iid_map.values()))\n",
    "\n",
    "    for usr_ in usr_chunk:\n",
    "        m_opt = model.predict(np.array([usr_] * len(iid_map)), item_array)\n",
    "        pred = np.argsort(-m_opt)[:K]\n",
    "        preds.append(' '.join([inv_iid_map[p] for p in pred]).strip())\n",
    "    \n",
    "    preds = np.array(preds).reshape(-1, 1)\n",
    "    return preds"
   ]
  },
  {
   "cell_type": "code",
   "execution_count": 17,
   "id": "5af8cc48",
   "metadata": {
    "execution": {
     "iopub.execute_input": "2022-04-04T02:33:36.411700Z",
     "iopub.status.busy": "2022-04-04T02:33:36.410997Z",
     "iopub.status.idle": "2022-04-04T02:44:58.282723Z",
     "shell.execute_reply": "2022-04-04T02:44:58.283851Z",
     "shell.execute_reply.started": "2022-04-04T01:03:53.039142Z"
    },
    "papermill": {
     "duration": 681.974874,
     "end_time": "2022-04-04T02:44:58.284139",
     "exception": false,
     "start_time": "2022-04-04T02:33:36.309265",
     "status": "completed"
    },
    "tags": []
   },
   "outputs": [
    {
     "name": "stdout",
     "output_type": "stream",
     "text": [
      "CPU times: user 1.1 s, sys: 611 ms, total: 1.71 s\n",
      "Wall time: 11min 21s\n"
     ]
    }
   ],
   "source": [
    "%%time\n",
    "final_predictions = predict_submission()"
   ]
  },
  {
   "cell_type": "code",
   "execution_count": 18,
   "id": "1039613f",
   "metadata": {
    "execution": {
     "iopub.execute_input": "2022-04-04T02:44:58.428024Z",
     "iopub.status.busy": "2022-04-04T02:44:58.426674Z",
     "iopub.status.idle": "2022-04-04T02:45:12.325909Z",
     "shell.execute_reply": "2022-04-04T02:45:12.324634Z",
     "shell.execute_reply.started": "2022-04-04T01:15:24.584404Z"
    },
    "papermill": {
     "duration": 13.975131,
     "end_time": "2022-04-04T02:45:12.326093",
     "exception": false,
     "start_time": "2022-04-04T02:44:58.350962",
     "status": "completed"
    },
    "tags": []
   },
   "outputs": [],
   "source": [
    "final_sub = pd.DataFrame(data=np.concatenate((np.array(test_X).reshape(-1,1), np.array(final_predictions)), axis=1).reshape(-1, 2),\n",
    "                         columns=['customer_id', 'prediction'])\n",
    "\n",
    "sample_submission.loc[sample_submission.customer_id.isin(final_sub.customer_id), 'prediction'] = ( \n",
    "    final_sub['prediction']\n",
    "    )\n",
    "sample_submission.to_csv('submission.csv', index=False)"
   ]
  },
  {
   "cell_type": "code",
   "execution_count": 19,
   "id": "1ab47dd2",
   "metadata": {
    "execution": {
     "iopub.execute_input": "2022-04-04T02:45:12.459906Z",
     "iopub.status.busy": "2022-04-04T02:45:12.459193Z",
     "iopub.status.idle": "2022-04-04T02:45:21.338184Z",
     "shell.execute_reply": "2022-04-04T02:45:21.338720Z",
     "shell.execute_reply.started": "2022-04-04T01:15:39.101871Z"
    },
    "papermill": {
     "duration": 8.947979,
     "end_time": "2022-04-04T02:45:21.338930",
     "exception": false,
     "start_time": "2022-04-04T02:45:12.390951",
     "status": "completed"
    },
    "tags": []
   },
   "outputs": [
    {
     "name": "stdout",
     "output_type": "stream",
     "text": [
      "t 0.004968906757149\n",
      "i 0.005595781342919098 19048\n",
      "c 0.00013759272553242404 5572\n",
      "  \n",
      "0754362003 0757903001 0664405005 0749415005 0456163030 0763280006 0376172001 0757903014 0740450006 0649551007 0511105002 0724906003    5572\n",
      "0534164001 0120129001 0215589001 0567532004 0510465001 0775382001 0300024058 0433444001 0752657001 0442915001 0469562002 0262277011       4\n",
      "0758064001 0758060001 0758049001 0758050001 0758089002 0758088002 0758040001 0758043001 0758118001 0758084002 0758064002 0758060002       3\n",
      "0158340001 0111593001 0111586001 0436261001 0228257001 0123173001 0240561001 0542402001 0200182001 0297067002 0417951005 0234432001       3\n",
      "0120129001 0534164001 0215589001 0567532004 0510465001 0300024058 0775382001 0433444001 0752657001 0442915001 0469562002 0262277011       3\n",
      "                                                                                                                                       ... \n",
      "0735121001 0717879014 0743594003 0636455005 0794793003 0714807003 0636455003 0790368001 0752468001 0754323003 0714807004 0537688010       1\n",
      "0742925003 0723173001 0721298001 0712216008 0775328001 0740943001 0742924003 0712216009 0723173006 0733027002 0723173004 0742933002       1\n",
      "0859105002 0697564010 0685816001 0859105003 0685816024 0685816017 0685816041 0372860069 0865917002 0859105006 0685816037 0806131004       1\n",
      "0736530007 0723469001 0429313006 0629758005 0611415005 0599580012 0736530006 0727948001 0429313008 0506098007 0736531006 0692709002       1\n",
      "0859125001 0859139001 0817472005 0827968001 0817401001 0879781003 0915529003 0883033002 0800691007 0827370002 0879781002 0862325001       1\n",
      "Name: prediction, Length: 63375, dtype: int64\n"
     ]
    }
   ],
   "source": [
    "# local score\n",
    "if VALID:\n",
    "    sub_check = final_sub.copy()\n",
    "    sub_check = sub_check.set_index('customer_id').reset_index()\n",
    "    print(\"t\", mapk(valid.prediction.str.split(), sub_check.prediction.str.split(), k=12))    \n",
    "    print(\"i\", \n",
    "            mapk(valid[valid.customer_id.isin(inactive_users)].prediction.str.split(), \n",
    "               sub_check[sub_check.customer_id.isin(inactive_users)].prediction.str.split(), k=12),\n",
    "            valid[valid.customer_id.isin(inactive_users)].shape[0])\n",
    "    print(\"c\", \n",
    "            mapk(valid[valid.customer_id.isin(cold_users)].prediction.str.split(), \n",
    "               sub_check[sub_check.customer_id.isin(cold_users)].prediction.str.split(), k=12),\n",
    "            valid[valid.customer_id.isin(cold_users)].shape[0])\n",
    "    \n",
    "    print(\"  \")\n",
    "    print(sub_check[\"prediction\"].value_counts())  "
   ]
  },
  {
   "cell_type": "code",
   "execution_count": null,
   "id": "6ec7d8ff",
   "metadata": {
    "papermill": {
     "duration": 0.066705,
     "end_time": "2022-04-04T02:45:21.471965",
     "exception": false,
     "start_time": "2022-04-04T02:45:21.405260",
     "status": "completed"
    },
    "tags": []
   },
   "outputs": [],
   "source": []
  }
 ],
 "metadata": {
  "kernelspec": {
   "display_name": "Python 3",
   "language": "python",
   "name": "python3"
  },
  "language_info": {
   "codemirror_mode": {
    "name": "ipython",
    "version": 3
   },
   "file_extension": ".py",
   "mimetype": "text/x-python",
   "name": "python",
   "nbconvert_exporter": "python",
   "pygments_lexer": "ipython3",
   "version": "3.7.12"
  },
  "papermill": {
   "default_parameters": {},
   "duration": 5288.81154,
   "end_time": "2022-04-04T02:45:23.771096",
   "environment_variables": {},
   "exception": null,
   "input_path": "__notebook__.ipynb",
   "output_path": "__notebook__.ipynb",
   "parameters": {},
   "start_time": "2022-04-04T01:17:14.959556",
   "version": "2.3.3"
  }
 },
 "nbformat": 4,
 "nbformat_minor": 5
}
