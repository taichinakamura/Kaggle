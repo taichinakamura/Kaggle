{
 "cells": [
  {
   "cell_type": "markdown",
   "id": "21ab6aa0",
   "metadata": {
    "papermill": {
     "duration": 0.025569,
     "end_time": "2022-04-07T09:40:06.114751",
     "exception": false,
     "start_time": "2022-04-07T09:40:06.089182",
     "status": "completed"
    },
    "tags": []
   },
   "source": [
    "- https://making.lyst.com/lightfm/docs/lightfm.html\n",
    "- modify mistake in valid label\n",
    "- consider item, user features\n",
    "- change weight and range\n",
    "- remove some features *"
   ]
  },
  {
   "cell_type": "code",
   "execution_count": 1,
   "id": "80dbd6ff",
   "metadata": {
    "execution": {
     "iopub.execute_input": "2022-04-07T09:40:06.183190Z",
     "iopub.status.busy": "2022-04-07T09:40:06.178684Z",
     "iopub.status.idle": "2022-04-07T09:40:07.402390Z",
     "shell.execute_reply": "2022-04-07T09:40:07.401162Z",
     "shell.execute_reply.started": "2022-04-07T07:46:12.703018Z"
    },
    "papermill": {
     "duration": 1.261345,
     "end_time": "2022-04-07T09:40:07.402588",
     "exception": false,
     "start_time": "2022-04-07T09:40:06.141243",
     "status": "completed"
    },
    "tags": []
   },
   "outputs": [],
   "source": [
    "import os\n",
    "import tqdm\n",
    "\n",
    "import numpy as np\n",
    "import pandas as pd\n",
    "from lightfm import LightFM\n",
    "from lightfm.data import Dataset\n",
    "from sklearn import preprocessing\n",
    "\n",
    "import itertools\n",
    "from multiprocessing import Pool\n",
    "\n",
    "SEED = 42\n",
    "np.random.seed(SEED)\n",
    "os.environ['PYTHONHASHSEED'] = str(SEED)\n",
    "\n",
    "VALID = True"
   ]
  },
  {
   "cell_type": "code",
   "execution_count": 2,
   "id": "840f0749",
   "metadata": {
    "execution": {
     "iopub.execute_input": "2022-04-07T09:40:07.455620Z",
     "iopub.status.busy": "2022-04-07T09:40:07.454569Z",
     "iopub.status.idle": "2022-04-07T09:40:07.463896Z",
     "shell.execute_reply": "2022-04-07T09:40:07.464503Z",
     "shell.execute_reply.started": "2022-04-07T07:46:13.900858Z"
    },
    "papermill": {
     "duration": 0.037198,
     "end_time": "2022-04-07T09:40:07.464685",
     "exception": false,
     "start_time": "2022-04-07T09:40:07.427487",
     "status": "completed"
    },
    "tags": []
   },
   "outputs": [],
   "source": [
    "def apk(actual, predicted, k=12):\n",
    "    if len(predicted)>k:\n",
    "        predicted = predicted[:k]\n",
    "        \n",
    "    score = 0.0\n",
    "    num_hits = 0.0\n",
    "    \n",
    "    for i,p in enumerate(predicted):\n",
    "        if p in actual and p not in predicted[:i]:\n",
    "            num_hits += 1.0\n",
    "            score += num_hits / (i+1.0)\n",
    "\n",
    "    if not actual:\n",
    "        return 0.0\n",
    "\n",
    "    return score / min(len(actual), k)\n",
    "\n",
    "\n",
    "def mapk(actual, predicted, k=12):\n",
    "    \"\"\"\n",
    "    Computes the mean average precision at k.\n",
    "    This function computes the mean average prescision at k between two lists\n",
    "    of lists of items.\n",
    "    Parameters\n",
    "    ----------\n",
    "    actual : list\n",
    "             A list of lists of elements that are to be predicted \n",
    "             (order doesn't matter in the lists)\n",
    "    predicted : list\n",
    "                A list of lists of predicted elements\n",
    "                (order matters in the lists)\n",
    "    k : int, optional\n",
    "        The maximum number of predicted elements\n",
    "    Returns\n",
    "    -------\n",
    "    score : double\n",
    "            The mean average precision at k over the input lists\n",
    "    \"\"\"\n",
    "    return np.mean([apk(a,p,k) for a,p in zip(actual, predicted)])"
   ]
  },
  {
   "cell_type": "markdown",
   "id": "90b4886a",
   "metadata": {
    "papermill": {
     "duration": 0.023778,
     "end_time": "2022-04-07T09:40:07.512721",
     "exception": false,
     "start_time": "2022-04-07T09:40:07.488943",
     "status": "completed"
    },
    "tags": []
   },
   "source": [
    "## Configs"
   ]
  },
  {
   "cell_type": "code",
   "execution_count": 3,
   "id": "eefe95c3",
   "metadata": {
    "execution": {
     "iopub.execute_input": "2022-04-07T09:40:07.564808Z",
     "iopub.status.busy": "2022-04-07T09:40:07.563777Z",
     "iopub.status.idle": "2022-04-07T09:40:07.568621Z",
     "shell.execute_reply": "2022-04-07T09:40:07.569181Z",
     "shell.execute_reply.started": "2022-04-07T07:46:13.912181Z"
    },
    "papermill": {
     "duration": 0.03246,
     "end_time": "2022-04-07T09:40:07.569356",
     "exception": false,
     "start_time": "2022-04-07T09:40:07.536896",
     "status": "completed"
    },
    "tags": []
   },
   "outputs": [],
   "source": [
    "# default number of recommendations\n",
    "K = 12\n",
    "EPOCHS = 100\n",
    "LEARNING_RATE = 0.1 \n",
    "NO_COMPONENTS = 50\n",
    "NO_THREADS = 32\n",
    "ITEM_ALPHA=1e-6\n",
    "USER_ALPHA=1e-6\n",
    "\n",
    "num_cores=4"
   ]
  },
  {
   "cell_type": "markdown",
   "id": "43a75e81",
   "metadata": {
    "papermill": {
     "duration": 0.023649,
     "end_time": "2022-04-07T09:40:07.617107",
     "exception": false,
     "start_time": "2022-04-07T09:40:07.593458",
     "status": "completed"
    },
    "tags": []
   },
   "source": [
    "## Load the data"
   ]
  },
  {
   "cell_type": "code",
   "execution_count": 4,
   "id": "880332ba",
   "metadata": {
    "execution": {
     "iopub.execute_input": "2022-04-07T09:40:07.669800Z",
     "iopub.status.busy": "2022-04-07T09:40:07.668772Z",
     "iopub.status.idle": "2022-04-07T09:41:36.031762Z",
     "shell.execute_reply": "2022-04-07T09:41:36.031022Z",
     "shell.execute_reply.started": "2022-04-07T07:46:13.927453Z"
    },
    "papermill": {
     "duration": 88.390768,
     "end_time": "2022-04-07T09:41:36.031957",
     "exception": false,
     "start_time": "2022-04-07T09:40:07.641189",
     "status": "completed"
    },
    "tags": []
   },
   "outputs": [],
   "source": [
    "main_dir = \"../input/h-and-m-personalized-fashion-recommendations\"\n",
    "images_dir = main_dir+\"/images/\" \n",
    "customers = pd.read_csv(main_dir+\"/customers.csv\")\n",
    "articles = pd.read_csv(main_dir+\"/articles.csv\", dtype={'article_id': str})\n",
    "sample_submission = pd.read_csv(main_dir+\"/sample_submission.csv\", dtype={'article_id': str})\n",
    "train = pd.read_csv(main_dir+'/transactions_train.csv',  dtype={'article_id': str}, parse_dates=['t_dat'])"
   ]
  },
  {
   "cell_type": "markdown",
   "id": "a85a8209",
   "metadata": {
    "papermill": {
     "duration": 0.024008,
     "end_time": "2022-04-07T09:41:36.080940",
     "exception": false,
     "start_time": "2022-04-07T09:41:36.056932",
     "status": "completed"
    },
    "tags": []
   },
   "source": [
    "# features"
   ]
  },
  {
   "cell_type": "code",
   "execution_count": 5,
   "id": "521a11dd",
   "metadata": {
    "execution": {
     "iopub.execute_input": "2022-04-07T09:41:36.132773Z",
     "iopub.status.busy": "2022-04-07T09:41:36.131812Z",
     "iopub.status.idle": "2022-04-07T09:41:43.118690Z",
     "shell.execute_reply": "2022-04-07T09:41:43.118109Z",
     "shell.execute_reply.started": "2022-04-07T07:47:50.449740Z"
    },
    "papermill": {
     "duration": 7.013966,
     "end_time": "2022-04-07T09:41:43.118871",
     "exception": false,
     "start_time": "2022-04-07T09:41:36.104905",
     "status": "completed"
    },
    "tags": []
   },
   "outputs": [
    {
     "name": "stderr",
     "output_type": "stream",
     "text": [
      "/opt/conda/lib/python3.7/site-packages/ipykernel_launcher.py:4: FutureWarning: Series.dt.weekofyear and Series.dt.week have been deprecated.  Please use Series.dt.isocalendar().week instead.\n",
      "  after removing the cwd from sys.path.\n"
     ]
    }
   ],
   "source": [
    "train[\"t_dat\"] = pd.to_datetime(train[\"t_dat\"])\n",
    "\n",
    "date_week_df = train.drop_duplicates(\"t_dat\")[[\"t_dat\"]].reset_index(drop=True)\n",
    "date_week_df['week_no'] = (date_week_df['t_dat'] + pd.DateOffset(days=5)).dt.week\n",
    "date_week_df[\"week_no\"] = date_week_df[\"week_no\"].diff(1)\n",
    "date_week_df[\"week_no\"].fillna(0, inplace=True)\n",
    "date_week_df[\"week_no\"] = date_week_df[\"week_no\"] != 0\n",
    "date_week_df[\"week_no\"] = date_week_df[\"week_no\"].cumsum()\n",
    "\n",
    "train = pd.merge(train, date_week_df, on=\"t_dat\", how=\"left\")\n",
    "test_week = train.week_no.max()\n",
    "\n",
    "del date_week_df"
   ]
  },
  {
   "cell_type": "code",
   "execution_count": 6,
   "id": "0e3d4840",
   "metadata": {
    "execution": {
     "iopub.execute_input": "2022-04-07T09:41:43.191379Z",
     "iopub.status.busy": "2022-04-07T09:41:43.181033Z",
     "iopub.status.idle": "2022-04-07T09:43:32.616276Z",
     "shell.execute_reply": "2022-04-07T09:43:32.615241Z",
     "shell.execute_reply.started": "2022-04-07T07:47:59.260278Z"
    },
    "papermill": {
     "duration": 109.470202,
     "end_time": "2022-04-07T09:43:32.616645",
     "exception": false,
     "start_time": "2022-04-07T09:41:43.146443",
     "status": "completed"
    },
    "tags": []
   },
   "outputs": [],
   "source": [
    "if VALID:\n",
    "    tmp = train[train.week_no < test_week].reset_index(drop=True).copy()\n",
    "else:\n",
    "    tmp = train.copy()\n",
    "\n",
    "# count encoding\n",
    "tmp = pd.merge(tmp, articles[[\"article_id\", \"index_group_name\"]], on='article_id', how='left')\n",
    "mp = {'Ladieswear':1, 'Baby/Children':0.5, 'Menswear':0, 'Sport':0.5, 'Divided':0.5} \n",
    "tmp[\"gender\"] = tmp[\"index_group_name\"].map(mp)\n",
    "user_g = tmp.groupby('customer_id').gender.mean().reset_index()\n",
    "    \n",
    "item_count = tmp[\"article_id\"].value_counts().reset_index()\n",
    "item_count.columns = [\"article_id\", \"item_count\"]\n",
    "user_count = tmp[\"customer_id\"].value_counts().reset_index()\n",
    "user_count.columns = [\"customer_id\", \"user_count\"]\n",
    "\n",
    "tmp1 = tmp[tmp.sales_channel_id==1][\"article_id\"].value_counts().reset_index()\n",
    "tmp1.columns = [\"article_id\", \"count_in1\"]\n",
    "\n",
    "tmp2 = tmp[tmp.sales_channel_id==2][\"article_id\"].value_counts().reset_index()\n",
    "tmp2.columns = [\"article_id\", \"count_in2\"]\n",
    "\n",
    "sales_channel_count = pd.merge(tmp1, tmp2, on=\"article_id\", how=\"outer\").fillna(0)\n",
    "sales_channel_count[\"channel_ratio\"] = sales_channel_count[\"count_in1\"] / (sales_channel_count[\"count_in2\"]+0.1)\n",
    "\n",
    "user_last_week = tmp.groupby(\"customer_id\")[\"week_no\"].max().reset_index()\n",
    "user_last_week.columns = [\"customer_id\", \"last_week\"]\n",
    "\n",
    "user_num_week = tmp.groupby(\"customer_id\")[\"week_no\"].nunique().reset_index()\n",
    "user_num_week.columns = [\"customer_id\", \"week_num\"]\n",
    "\n",
    "del tmp1, tmp2, tmp\n",
    "\n",
    "customers = pd.merge(customers, user_count, on = \"customer_id\", how=\"left\")\n",
    "customers[\"user_count\"].fillna(0, inplace=True)\n",
    "customers = pd.merge(customers, user_last_week, on = \"customer_id\", how=\"left\")\n",
    "customers[\"last_week\"].fillna(-1, inplace=True)\n",
    "customers = pd.merge(customers, user_num_week, on = \"customer_id\", how=\"left\")\n",
    "customers[\"week_num\"].fillna(-1, inplace=True)\n",
    "customers = pd.merge(customers, user_g, on = \"customer_id\", how=\"left\")\n",
    "customers[\"gender\"].fillna(0.75, inplace=True)\n",
    "del user_count, user_last_week, user_num_week, user_g\n",
    "\n",
    "articles = pd.merge(articles, item_count, on = \"article_id\", how=\"left\")\n",
    "articles = pd.merge(articles, sales_channel_count, on = \"article_id\", how=\"left\")\n",
    "articles[\"item_count\"].fillna(0, inplace=True)\n",
    "articles.fillna(-1, inplace=True)\n",
    "del item_count, sales_channel_count"
   ]
  },
  {
   "cell_type": "code",
   "execution_count": 7,
   "id": "dcba361f",
   "metadata": {
    "execution": {
     "iopub.execute_input": "2022-04-07T09:43:32.681156Z",
     "iopub.status.busy": "2022-04-07T09:43:32.680382Z",
     "iopub.status.idle": "2022-04-07T09:43:32.721721Z",
     "shell.execute_reply": "2022-04-07T09:43:32.722244Z",
     "shell.execute_reply.started": "2022-04-07T07:49:48.752175Z"
    },
    "papermill": {
     "duration": 0.077805,
     "end_time": "2022-04-07T09:43:32.722413",
     "exception": false,
     "start_time": "2022-04-07T09:43:32.644608",
     "status": "completed"
    },
    "tags": []
   },
   "outputs": [
    {
     "data": {
      "text/plain": [
       "['product_code',\n",
       " 'product_type_no',\n",
       " 'graphical_appearance_no',\n",
       " 'colour_group_code',\n",
       " 'perceived_colour_value_id',\n",
       " 'perceived_colour_master_id',\n",
       " 'department_no',\n",
       " 'index_group_no',\n",
       " 'section_no',\n",
       " 'garment_group_no',\n",
       " 'item_count',\n",
       " 'count_in1',\n",
       " 'count_in2',\n",
       " 'channel_ratio']"
      ]
     },
     "execution_count": 7,
     "metadata": {},
     "output_type": "execute_result"
    }
   ],
   "source": [
    "# item\n",
    "article_columns = [i for i in articles.columns if \"int\" in str(articles[i].dtype)]\n",
    "article_columns += [\"item_count\", \"count_in1\", \"count_in2\", \"channel_ratio\"]\n",
    "articles = articles[['article_id'] + article_columns]\n",
    "\n",
    "article_columns"
   ]
  },
  {
   "cell_type": "code",
   "execution_count": 8,
   "id": "bef9e855",
   "metadata": {
    "execution": {
     "iopub.execute_input": "2022-04-07T09:43:32.782396Z",
     "iopub.status.busy": "2022-04-07T09:43:32.780346Z",
     "iopub.status.idle": "2022-04-07T09:43:42.366008Z",
     "shell.execute_reply": "2022-04-07T09:43:42.365422Z",
     "shell.execute_reply.started": "2022-04-07T07:49:48.800313Z"
    },
    "papermill": {
     "duration": 9.618619,
     "end_time": "2022-04-07T09:43:42.366156",
     "exception": false,
     "start_time": "2022-04-07T09:43:32.747537",
     "status": "completed"
    },
    "tags": []
   },
   "outputs": [
    {
     "data": {
      "text/plain": [
       "['fashion_news_frequency',\n",
       " 'postal_code',\n",
       " 'age',\n",
       " 'user_count',\n",
       " 'last_week',\n",
       " 'week_num',\n",
       " 'gender']"
      ]
     },
     "execution_count": 8,
     "metadata": {},
     "output_type": "execute_result"
    }
   ],
   "source": [
    "# user\n",
    "user_columns = ['fashion_news_frequency', 'postal_code'] #'FN', 'Active', 'club_member_status'\n",
    "customers.fillna(-1, inplace=True)\n",
    "for feat in user_columns:\n",
    "    lbl = preprocessing.LabelEncoder()\n",
    "    lbl.fit(list(customers[feat]))\n",
    "    customers[feat] = lbl.transform(list(customers[feat]))\n",
    "user_columns += ['age', \"user_count\", \"last_week\", \"week_num\", \"gender\"]\n",
    "user_columns"
   ]
  },
  {
   "cell_type": "markdown",
   "id": "73d92f7b",
   "metadata": {
    "papermill": {
     "duration": 0.026099,
     "end_time": "2022-04-07T09:43:42.418440",
     "exception": false,
     "start_time": "2022-04-07T09:43:42.392341",
     "status": "completed"
    },
    "tags": []
   },
   "source": [
    "# dataset"
   ]
  },
  {
   "cell_type": "code",
   "execution_count": 9,
   "id": "1d4d9f2e",
   "metadata": {
    "execution": {
     "iopub.execute_input": "2022-04-07T09:43:42.524452Z",
     "iopub.status.busy": "2022-04-07T09:43:42.487941Z",
     "iopub.status.idle": "2022-04-07T09:43:44.539942Z",
     "shell.execute_reply": "2022-04-07T09:43:44.539245Z",
     "shell.execute_reply.started": "2022-04-07T07:49:58.329643Z"
    },
    "papermill": {
     "duration": 2.095269,
     "end_time": "2022-04-07T09:43:44.540092",
     "exception": false,
     "start_time": "2022-04-07T09:43:42.444823",
     "status": "completed"
    },
    "tags": []
   },
   "outputs": [
    {
     "name": "stdout",
     "output_type": "stream",
     "text": [
      "Number of users: 1371980, Number of topics: 105542.\n"
     ]
    }
   ],
   "source": [
    "dataset = Dataset()\n",
    "dataset.fit(users=customers['customer_id'], \n",
    "            items=articles['article_id'],\n",
    "            user_features = user_columns,\n",
    "            item_features = article_columns) \n",
    "\n",
    "num_users, num_topics = dataset.interactions_shape()\n",
    "print(f'Number of users: {num_users}, Number of topics: {num_topics}.')\n",
    "\n",
    "#Get the mappings\n",
    "uid_map, ufeature_map, iid_map, ifeature_map = dataset.mapping() \n",
    "inv_uid_map = {v:k for k, v in uid_map.items()}\n",
    "inv_iid_map = {v:k for k, v in iid_map.items()}"
   ]
  },
  {
   "cell_type": "code",
   "execution_count": 10,
   "id": "98195b5f",
   "metadata": {
    "execution": {
     "iopub.execute_input": "2022-04-07T09:43:46.951652Z",
     "iopub.status.busy": "2022-04-07T09:43:45.256059Z",
     "iopub.status.idle": "2022-04-07T09:43:50.915194Z",
     "shell.execute_reply": "2022-04-07T09:43:50.914461Z",
     "shell.execute_reply.started": "2022-04-07T07:50:00.328054Z"
    },
    "papermill": {
     "duration": 6.348865,
     "end_time": "2022-04-07T09:43:50.915348",
     "exception": false,
     "start_time": "2022-04-07T09:43:44.566483",
     "status": "completed"
    },
    "tags": []
   },
   "outputs": [],
   "source": [
    "item_last_week = train.groupby(\"article_id\")[\"week_no\"].max().reset_index()\n",
    "weak_weight_items = item_last_week[item_last_week.week_no > 100][\"article_id\"].values\n",
    "weak_weight_id = [iid_map[ele] for ele in weak_weight_items]\n",
    "del item_last_week"
   ]
  },
  {
   "cell_type": "code",
   "execution_count": 11,
   "id": "71ca7018",
   "metadata": {
    "execution": {
     "iopub.execute_input": "2022-04-07T09:43:50.993278Z",
     "iopub.status.busy": "2022-04-07T09:43:50.992214Z",
     "iopub.status.idle": "2022-04-07T09:51:08.685443Z",
     "shell.execute_reply": "2022-04-07T09:51:08.686069Z",
     "shell.execute_reply.started": "2022-04-07T07:50:06.257914Z"
    },
    "papermill": {
     "duration": 437.744965,
     "end_time": "2022-04-07T09:51:08.686368",
     "exception": false,
     "start_time": "2022-04-07T09:43:50.941403",
     "status": "completed"
    },
    "tags": []
   },
   "outputs": [
    {
     "name": "stdout",
     "output_type": "stream",
     "text": [
      "(1371980, 105542)\n"
     ]
    }
   ],
   "source": [
    "if VALID:\n",
    "    train_set = train[train.week_no < test_week].copy()\n",
    "    train_ser = train_set.drop_duplicates([\"customer_id\", \"article_id\"]).reset_index(drop=True)\n",
    "    (interactions, weights) = dataset.build_interactions(train_set.iloc[:, 1:3].values)\n",
    "\n",
    "    valid = train[train.week_no == test_week].groupby('customer_id')['article_id'].apply(list).reset_index()\n",
    "    valid = valid.rename({'article_id':'prediction'},axis=1)\n",
    "    valid['prediction'] = valid.prediction.apply(lambda x: ' '.join([str(k) for k in x]))\n",
    "\n",
    "    inactive_users = list(set(train_set.customer_id) - set(train_set[train_set.week_no > test_week - 10][\"customer_id\"]))\n",
    "    cold_users = list(set(valid.customer_id) - set(train_set.customer_id))\n",
    "    del train_set\n",
    "else:\n",
    "    (interactions, weights) = dataset.build_interactions(train.iloc[:, 1:3].values)\n",
    "    \n",
    "dataset.build_item_features(((articles.iloc[index][\"article_id\"], article_columns) for index in range(articles.shape[0])))\n",
    "dataset.build_user_features(((customers.iloc[index][\"customer_id\"], user_columns) for index in range(customers.shape[0])))\n",
    "\n",
    "print(interactions.shape)\n",
    "del train"
   ]
  },
  {
   "cell_type": "code",
   "execution_count": 12,
   "id": "139a628c",
   "metadata": {
    "execution": {
     "iopub.execute_input": "2022-04-07T09:51:08.742310Z",
     "iopub.status.busy": "2022-04-07T09:51:08.741633Z",
     "iopub.status.idle": "2022-04-07T09:51:15.811193Z",
     "shell.execute_reply": "2022-04-07T09:51:15.812012Z",
     "shell.execute_reply.started": "2022-04-07T07:57:30.429893Z"
    },
    "papermill": {
     "duration": 7.099444,
     "end_time": "2022-04-07T09:51:15.812200",
     "exception": false,
     "start_time": "2022-04-07T09:51:08.712756",
     "status": "completed"
    },
    "tags": []
   },
   "outputs": [],
   "source": [
    "change_index = np.isin(weights.col, weak_weight_id)\n",
    "weights.data[change_index] = 3.0"
   ]
  },
  {
   "cell_type": "markdown",
   "id": "26aae242",
   "metadata": {
    "papermill": {
     "duration": 0.028857,
     "end_time": "2022-04-07T09:51:15.870294",
     "exception": false,
     "start_time": "2022-04-07T09:51:15.841437",
     "status": "completed"
    },
    "tags": []
   },
   "source": [
    "# fitting"
   ]
  },
  {
   "cell_type": "code",
   "execution_count": 13,
   "id": "e4017930",
   "metadata": {
    "execution": {
     "iopub.execute_input": "2022-04-07T09:51:15.932211Z",
     "iopub.status.busy": "2022-04-07T09:51:15.930267Z",
     "iopub.status.idle": "2022-04-07T11:12:32.469309Z",
     "shell.execute_reply": "2022-04-07T11:12:32.466127Z",
     "shell.execute_reply.started": "2022-04-07T07:57:38.442280Z"
    },
    "papermill": {
     "duration": 4876.572979,
     "end_time": "2022-04-07T11:12:32.469591",
     "exception": false,
     "start_time": "2022-04-07T09:51:15.896612",
     "status": "completed"
    },
    "tags": []
   },
   "outputs": [
    {
     "name": "stderr",
     "output_type": "stream",
     "text": [
      "Epoch: 100%|██████████| 100/100 [1:21:15<00:00, 48.75s/it]\n"
     ]
    },
    {
     "data": {
      "text/plain": [
       "<lightfm.lightfm.LightFM at 0x7fad0ec1d090>"
      ]
     },
     "execution_count": 13,
     "metadata": {},
     "output_type": "execute_result"
    }
   ],
   "source": [
    "model = LightFM(loss='bpr', \n",
    "                no_components=NO_COMPONENTS, \n",
    "                learning_rate=LEARNING_RATE,                 \n",
    "                random_state=np.random.RandomState(SEED),\n",
    "                user_alpha=USER_ALPHA,\n",
    "                item_alpha=ITEM_ALPHA,\n",
    "               )\n",
    "\n",
    "model.fit(interactions=interactions, \n",
    "          epochs=EPOCHS, \n",
    "          verbose=1, \n",
    "          num_threads=NO_THREADS,\n",
    "          sample_weight=weights,\n",
    "         )"
   ]
  },
  {
   "cell_type": "markdown",
   "id": "6387fc7e",
   "metadata": {
    "papermill": {
     "duration": 0.066597,
     "end_time": "2022-04-07T11:12:32.603182",
     "exception": false,
     "start_time": "2022-04-07T11:12:32.536585",
     "status": "completed"
    },
    "tags": []
   },
   "source": [
    "# Submission"
   ]
  },
  {
   "cell_type": "code",
   "execution_count": 14,
   "id": "3fe39e44",
   "metadata": {
    "execution": {
     "iopub.execute_input": "2022-04-07T11:12:32.737061Z",
     "iopub.status.busy": "2022-04-07T11:12:32.736348Z",
     "iopub.status.idle": "2022-04-07T11:12:33.251549Z",
     "shell.execute_reply": "2022-04-07T11:12:33.250961Z",
     "shell.execute_reply.started": "2022-04-07T09:25:59.059588Z"
    },
    "papermill": {
     "duration": 0.584552,
     "end_time": "2022-04-07T11:12:33.251706",
     "exception": false,
     "start_time": "2022-04-07T11:12:32.667154",
     "status": "completed"
    },
    "tags": []
   },
   "outputs": [
    {
     "name": "stdout",
     "output_type": "stream",
     "text": [
      "68984\n"
     ]
    }
   ],
   "source": [
    "if VALID:\n",
    "    test_X = valid.customer_id.values\n",
    "else:\n",
    "    test_X = sample_submission.customer_id.values    \n",
    "\n",
    "lfn_user = lambda x: uid_map[x]\n",
    "test_X_m = [lfn_user(tx) for tx in test_X]\n",
    "\n",
    "print(len(test_X_m))"
   ]
  },
  {
   "cell_type": "code",
   "execution_count": 15,
   "id": "be8da981",
   "metadata": {
    "execution": {
     "iopub.execute_input": "2022-04-07T11:12:33.387498Z",
     "iopub.status.busy": "2022-04-07T11:12:33.386504Z",
     "iopub.status.idle": "2022-04-07T11:12:34.604282Z",
     "shell.execute_reply": "2022-04-07T11:12:34.604779Z",
     "shell.execute_reply.started": "2022-04-07T09:25:59.582886Z"
    },
    "papermill": {
     "duration": 1.28828,
     "end_time": "2022-04-07T11:12:34.605008",
     "exception": false,
     "start_time": "2022-04-07T11:12:33.316728",
     "status": "completed"
    },
    "tags": []
   },
   "outputs": [],
   "source": [
    "def predict_submission():\n",
    "    df_split = np.array_split(test_X_m, num_cores)\n",
    "    chunk_size = len(df_split[0])\n",
    "    \n",
    "    chunk1 = list(df_split[0])\n",
    "    chunk2 = list(df_split[1])\n",
    "    chunk3 = list(df_split[2])\n",
    "    chunk4 = list(df_split[3])\n",
    "    \n",
    "    #list of items for multiprocessing, 4 since using 4 cores\n",
    "    all_chunks = [chunk1, chunk2, chunk3, chunk4]\n",
    "    \n",
    "    pool = Pool(num_cores)\n",
    "    result = pool.map(make_predict, all_chunks)\n",
    "    \n",
    "    pred_combined = list(itertools.chain(result[0], result[1], result[2], result[3]))\n",
    "\n",
    "    return pred_combined\n",
    "\n",
    "def make_predict(usr_chunk):\n",
    "    customer_ids = []\n",
    "    preds = []\n",
    "    item_array = np.array(list(iid_map.values()))\n",
    "\n",
    "    for usr_ in usr_chunk:\n",
    "        m_opt = model.predict(np.array([usr_] * len(iid_map)), item_array)\n",
    "        pred = np.argsort(-m_opt)[:K]\n",
    "        preds.append(' '.join([inv_iid_map[p] for p in pred]).strip())\n",
    "    \n",
    "    preds = np.array(preds).reshape(-1, 1)\n",
    "    return preds"
   ]
  },
  {
   "cell_type": "code",
   "execution_count": 16,
   "id": "fcd75566",
   "metadata": {
    "execution": {
     "iopub.execute_input": "2022-04-07T11:12:34.760061Z",
     "iopub.status.busy": "2022-04-07T11:12:34.759076Z",
     "iopub.status.idle": "2022-04-07T11:24:52.752092Z",
     "shell.execute_reply": "2022-04-07T11:24:52.752605Z",
     "shell.execute_reply.started": "2022-04-07T09:26:00.876987Z"
    },
    "papermill": {
     "duration": 738.083607,
     "end_time": "2022-04-07T11:24:52.752813",
     "exception": false,
     "start_time": "2022-04-07T11:12:34.669206",
     "status": "completed"
    },
    "tags": []
   },
   "outputs": [
    {
     "name": "stdout",
     "output_type": "stream",
     "text": [
      "CPU times: user 1.2 s, sys: 732 ms, total: 1.93 s\n",
      "Wall time: 12min 17s\n"
     ]
    }
   ],
   "source": [
    "%%time\n",
    "final_predictions = predict_submission()"
   ]
  },
  {
   "cell_type": "code",
   "execution_count": 17,
   "id": "a9b3c42e",
   "metadata": {
    "execution": {
     "iopub.execute_input": "2022-04-07T11:24:52.893200Z",
     "iopub.status.busy": "2022-04-07T11:24:52.887863Z",
     "iopub.status.idle": "2022-04-07T11:25:06.824746Z",
     "shell.execute_reply": "2022-04-07T11:25:06.825745Z",
     "shell.execute_reply.started": "2022-04-07T09:38:14.135825Z"
    },
    "papermill": {
     "duration": 14.007818,
     "end_time": "2022-04-07T11:25:06.826008",
     "exception": false,
     "start_time": "2022-04-07T11:24:52.818190",
     "status": "completed"
    },
    "tags": []
   },
   "outputs": [],
   "source": [
    "final_sub = pd.DataFrame(data=np.concatenate((np.array(test_X).reshape(-1,1), np.array(final_predictions)), axis=1).reshape(-1, 2),\n",
    "                         columns=['customer_id', 'prediction'])\n",
    "\n",
    "sample_submission.loc[sample_submission.customer_id.isin(final_sub.customer_id), 'prediction'] = ( \n",
    "    final_sub['prediction']\n",
    "    )\n",
    "sample_submission.to_csv('submission.csv', index=False)"
   ]
  },
  {
   "cell_type": "code",
   "execution_count": 18,
   "id": "5590ec7a",
   "metadata": {
    "execution": {
     "iopub.execute_input": "2022-04-07T11:25:06.959140Z",
     "iopub.status.busy": "2022-04-07T11:25:06.957751Z",
     "iopub.status.idle": "2022-04-07T11:25:15.625167Z",
     "shell.execute_reply": "2022-04-07T11:25:15.624489Z",
     "shell.execute_reply.started": "2022-04-07T09:38:28.229254Z"
    },
    "papermill": {
     "duration": 8.734907,
     "end_time": "2022-04-07T11:25:15.625316",
     "exception": false,
     "start_time": "2022-04-07T11:25:06.890409",
     "status": "completed"
    },
    "tags": []
   },
   "outputs": [
    {
     "name": "stdout",
     "output_type": "stream",
     "text": [
      "t 0.006226118333924059\n",
      "i 0.006565475649347808 19048\n",
      "c 6.589262018192384e-05 5572\n",
      "  \n",
      "0428291001 0376172001 0649551007 0754362003 0500435039 0233091021 0676111001 0725718001 0126589010 0562211012 0724906003 0613666005    5572\n",
      "0120129001 0534164001 0215589001 0567532004 0300024058 0775382001 0752657001 0433444001 0510465001 0469562002 0442915001 0262277011       6\n",
      "0120129001 0534164001 0215589001 0300024058 0567532004 0775382001 0752657001 0433444001 0510465001 0469562002 0262277011 0442915001       3\n",
      "0120129001 0534164001 0215589001 0300024058 0567532004 0775382001 0752657001 0433444001 0510465001 0262277011 0469562002 0442915001       3\n",
      "0120129001 0534164001 0215589001 0567532004 0300024058 0775382001 0752657001 0510465001 0433444001 0469562002 0262277011 0442915001       2\n",
      "                                                                                                                                       ... \n",
      "0610776001 0714807003 0735121001 0714807004 0857812002 0827637001 0838787005 0610776002 0790368001 0481781004 0630675001 0855249006       1\n",
      "0762188001 0712216011 0712216008 0723173001 0762188002 0781180002 0712216009 0723173006 0712216010 0767438004 0723173004 0469137015       1\n",
      "0685816001 0859105002 0865799001 0697564010 0685816002 0865799002 0817401001 0859125001 0806131003 0685816011 0806131002 0806131004       1\n",
      "0629758005 0727948001 0736530007 0692721005 0351484033 0351484027 0629758013 0458543005 0727948005 0736530006 0736531006 0611415005       1\n",
      "0896169002 0879781003 0879781002 0915529001 0918836001 0863937003 0764073002 0915529003 0817472005 0843793004 0866465001 0794538003       1\n",
      "Name: prediction, Length: 63400, dtype: int64\n"
     ]
    }
   ],
   "source": [
    "# local score\n",
    "if VALID:\n",
    "    sub_check = final_sub.copy()\n",
    "    sub_check = sub_check.set_index('customer_id').reset_index()\n",
    "    print(\"t\", mapk(valid.prediction.str.split(), sub_check.prediction.str.split(), k=12))    \n",
    "    print(\"i\", \n",
    "            mapk(valid[valid.customer_id.isin(inactive_users)].prediction.str.split(), \n",
    "               sub_check[sub_check.customer_id.isin(inactive_users)].prediction.str.split(), k=12),\n",
    "            valid[valid.customer_id.isin(inactive_users)].shape[0])\n",
    "    print(\"c\", \n",
    "            mapk(valid[valid.customer_id.isin(cold_users)].prediction.str.split(), \n",
    "               sub_check[sub_check.customer_id.isin(cold_users)].prediction.str.split(), k=12),\n",
    "            valid[valid.customer_id.isin(cold_users)].shape[0])\n",
    "    \n",
    "    print(\"  \")\n",
    "    print(sub_check[\"prediction\"].value_counts())  "
   ]
  },
  {
   "cell_type": "code",
   "execution_count": null,
   "id": "39d0fae0",
   "metadata": {
    "papermill": {
     "duration": 0.065419,
     "end_time": "2022-04-07T11:25:15.756304",
     "exception": false,
     "start_time": "2022-04-07T11:25:15.690885",
     "status": "completed"
    },
    "tags": []
   },
   "outputs": [],
   "source": []
  }
 ],
 "metadata": {
  "kernelspec": {
   "display_name": "Python 3",
   "language": "python",
   "name": "python3"
  },
  "language_info": {
   "codemirror_mode": {
    "name": "ipython",
    "version": 3
   },
   "file_extension": ".py",
   "mimetype": "text/x-python",
   "name": "python",
   "nbconvert_exporter": "python",
   "pygments_lexer": "ipython3",
   "version": "3.7.12"
  },
  "papermill": {
   "default_parameters": {},
   "duration": 6323.976155,
   "end_time": "2022-04-07T11:25:18.651660",
   "environment_variables": {},
   "exception": null,
   "input_path": "__notebook__.ipynb",
   "output_path": "__notebook__.ipynb",
   "parameters": {},
   "start_time": "2022-04-07T09:39:54.675505",
   "version": "2.3.3"
  }
 },
 "nbformat": 4,
 "nbformat_minor": 5
}
