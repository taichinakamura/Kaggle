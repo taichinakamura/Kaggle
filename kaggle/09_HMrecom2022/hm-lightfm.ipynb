{
 "cells": [
  {
   "cell_type": "markdown",
   "id": "f21da01d",
   "metadata": {
    "papermill": {
     "duration": 0.01827,
     "end_time": "2022-04-03T02:06:49.043578",
     "exception": false,
     "start_time": "2022-04-03T02:06:49.025308",
     "status": "completed"
    },
    "tags": []
   },
   "source": [
    "- https://making.lyst.com/lightfm/docs/lightfm.html\n",
    "- modify mistake in valid label\n",
    "- consider item, user features"
   ]
  },
  {
   "cell_type": "code",
   "execution_count": 1,
   "id": "8f7a2878",
   "metadata": {
    "execution": {
     "iopub.execute_input": "2022-04-03T02:06:49.095748Z",
     "iopub.status.busy": "2022-04-03T02:06:49.094747Z",
     "iopub.status.idle": "2022-04-03T02:06:50.360017Z",
     "shell.execute_reply": "2022-04-03T02:06:50.360549Z",
     "shell.execute_reply.started": "2022-04-03T01:18:12.216293Z"
    },
    "papermill": {
     "duration": 1.296793,
     "end_time": "2022-04-03T02:06:50.360944",
     "exception": false,
     "start_time": "2022-04-03T02:06:49.064151",
     "status": "completed"
    },
    "tags": []
   },
   "outputs": [],
   "source": [
    "import os\n",
    "import tqdm\n",
    "\n",
    "import numpy as np\n",
    "import pandas as pd\n",
    "from lightfm import LightFM\n",
    "from lightfm.data import Dataset\n",
    "from sklearn import preprocessing\n",
    "\n",
    "import itertools\n",
    "from multiprocessing import Pool\n",
    "\n",
    "SEED = 42\n",
    "np.random.seed(SEED)\n",
    "os.environ['PYTHONHASHSEED'] = str(SEED)\n",
    "\n",
    "VALID = True"
   ]
  },
  {
   "cell_type": "code",
   "execution_count": 2,
   "id": "9c1ec024",
   "metadata": {
    "execution": {
     "iopub.execute_input": "2022-04-03T02:06:50.401677Z",
     "iopub.status.busy": "2022-04-03T02:06:50.400814Z",
     "iopub.status.idle": "2022-04-03T02:06:50.408327Z",
     "shell.execute_reply": "2022-04-03T02:06:50.408865Z",
     "shell.execute_reply.started": "2022-04-03T01:18:13.311314Z"
    },
    "papermill": {
     "duration": 0.030592,
     "end_time": "2022-04-03T02:06:50.409066",
     "exception": false,
     "start_time": "2022-04-03T02:06:50.378474",
     "status": "completed"
    },
    "tags": []
   },
   "outputs": [],
   "source": [
    "def apk(actual, predicted, k=12):\n",
    "    if len(predicted)>k:\n",
    "        predicted = predicted[:k]\n",
    "        \n",
    "    score = 0.0\n",
    "    num_hits = 0.0\n",
    "    \n",
    "    for i,p in enumerate(predicted):\n",
    "        if p in actual and p not in predicted[:i]:\n",
    "            num_hits += 1.0\n",
    "            score += num_hits / (i+1.0)\n",
    "\n",
    "    if not actual:\n",
    "        return 0.0\n",
    "\n",
    "    return score / min(len(actual), k)\n",
    "\n",
    "\n",
    "def mapk(actual, predicted, k=12):\n",
    "    \"\"\"\n",
    "    Computes the mean average precision at k.\n",
    "    This function computes the mean average prescision at k between two lists\n",
    "    of lists of items.\n",
    "    Parameters\n",
    "    ----------\n",
    "    actual : list\n",
    "             A list of lists of elements that are to be predicted \n",
    "             (order doesn't matter in the lists)\n",
    "    predicted : list\n",
    "                A list of lists of predicted elements\n",
    "                (order matters in the lists)\n",
    "    k : int, optional\n",
    "        The maximum number of predicted elements\n",
    "    Returns\n",
    "    -------\n",
    "    score : double\n",
    "            The mean average precision at k over the input lists\n",
    "    \"\"\"\n",
    "    return np.mean([apk(a,p,k) for a,p in zip(actual, predicted)])"
   ]
  },
  {
   "cell_type": "markdown",
   "id": "a587f786",
   "metadata": {
    "papermill": {
     "duration": 0.01709,
     "end_time": "2022-04-03T02:06:50.443919",
     "exception": false,
     "start_time": "2022-04-03T02:06:50.426829",
     "status": "completed"
    },
    "tags": []
   },
   "source": [
    "## Configs"
   ]
  },
  {
   "cell_type": "code",
   "execution_count": 3,
   "id": "73b67110",
   "metadata": {
    "execution": {
     "iopub.execute_input": "2022-04-03T02:06:50.483176Z",
     "iopub.status.busy": "2022-04-03T02:06:50.482220Z",
     "iopub.status.idle": "2022-04-03T02:06:50.486452Z",
     "shell.execute_reply": "2022-04-03T02:06:50.486943Z",
     "shell.execute_reply.started": "2022-04-03T01:18:13.324027Z"
    },
    "papermill": {
     "duration": 0.026093,
     "end_time": "2022-04-03T02:06:50.487133",
     "exception": false,
     "start_time": "2022-04-03T02:06:50.461040",
     "status": "completed"
    },
    "tags": []
   },
   "outputs": [],
   "source": [
    "# default number of recommendations\n",
    "K = 12\n",
    "EPOCHS = 50\n",
    "\n",
    "# model learning rate\n",
    "LEARNING_RATE = 0.25\n",
    "# no of latent factors\n",
    "NO_COMPONENTS = 20\n",
    "\n",
    "# no of threads to fit model\n",
    "NO_THREADS = 32\n",
    "# regularisation for both user and item features\n",
    "ITEM_ALPHA=1e-6\n",
    "USER_ALPHA=1e-6\n",
    "\n",
    "# for multiprocssing of final predictions\n",
    "num_cores=4"
   ]
  },
  {
   "cell_type": "markdown",
   "id": "3c823313",
   "metadata": {
    "papermill": {
     "duration": 0.017587,
     "end_time": "2022-04-03T02:06:50.522147",
     "exception": false,
     "start_time": "2022-04-03T02:06:50.504560",
     "status": "completed"
    },
    "tags": []
   },
   "source": [
    "## Load the data"
   ]
  },
  {
   "cell_type": "code",
   "execution_count": 4,
   "id": "dfe54fef",
   "metadata": {
    "execution": {
     "iopub.execute_input": "2022-04-03T02:06:50.565875Z",
     "iopub.status.busy": "2022-04-03T02:06:50.565127Z",
     "iopub.status.idle": "2022-04-03T02:08:22.367480Z",
     "shell.execute_reply": "2022-04-03T02:08:22.366178Z",
     "shell.execute_reply.started": "2022-04-03T01:18:13.338115Z"
    },
    "papermill": {
     "duration": 91.82675,
     "end_time": "2022-04-03T02:08:22.367698",
     "exception": false,
     "start_time": "2022-04-03T02:06:50.540948",
     "status": "completed"
    },
    "tags": []
   },
   "outputs": [],
   "source": [
    "main_dir = \"../input/h-and-m-personalized-fashion-recommendations\"\n",
    "images_dir = main_dir+\"/images/\" \n",
    "customers = pd.read_csv(main_dir+\"/customers.csv\")\n",
    "articles = pd.read_csv(main_dir+\"/articles.csv\", dtype={'article_id': str})\n",
    "sample_submission = pd.read_csv(main_dir+\"/sample_submission.csv\", dtype={'article_id': str})\n",
    "\n",
    "train = pd.read_csv('../input/h-and-m-personalized-fashion-recommendations/transactions_train.csv',  dtype={'article_id': str}, parse_dates=['t_dat'])\n",
    "customers.fillna(-1, inplace=True)"
   ]
  },
  {
   "cell_type": "markdown",
   "id": "85f25533",
   "metadata": {
    "papermill": {
     "duration": 0.017535,
     "end_time": "2022-04-03T02:08:22.403697",
     "exception": false,
     "start_time": "2022-04-03T02:08:22.386162",
     "status": "completed"
    },
    "tags": []
   },
   "source": [
    "## dataset"
   ]
  },
  {
   "cell_type": "code",
   "execution_count": 5,
   "id": "2031173e",
   "metadata": {
    "execution": {
     "iopub.execute_input": "2022-04-03T02:08:22.442835Z",
     "iopub.status.busy": "2022-04-03T02:08:22.442007Z",
     "iopub.status.idle": "2022-04-03T02:08:22.464481Z",
     "shell.execute_reply": "2022-04-03T02:08:22.465082Z",
     "shell.execute_reply.started": "2022-04-03T01:19:43.621418Z"
    },
    "papermill": {
     "duration": 0.044537,
     "end_time": "2022-04-03T02:08:22.465284",
     "exception": false,
     "start_time": "2022-04-03T02:08:22.420747",
     "status": "completed"
    },
    "tags": []
   },
   "outputs": [],
   "source": [
    "# item\n",
    "article_columns = [i for i in articles.columns if \"int\" in str(articles[i].dtype)]\n",
    "articles = articles[['article_id'] + article_columns]"
   ]
  },
  {
   "cell_type": "code",
   "execution_count": 6,
   "id": "edd60544",
   "metadata": {
    "execution": {
     "iopub.execute_input": "2022-04-03T02:08:22.505065Z",
     "iopub.status.busy": "2022-04-03T02:08:22.504361Z",
     "iopub.status.idle": "2022-04-03T02:08:34.010043Z",
     "shell.execute_reply": "2022-04-03T02:08:34.009482Z",
     "shell.execute_reply.started": "2022-04-03T01:19:43.656821Z"
    },
    "papermill": {
     "duration": 11.525737,
     "end_time": "2022-04-03T02:08:34.010204",
     "exception": false,
     "start_time": "2022-04-03T02:08:22.484467",
     "status": "completed"
    },
    "tags": []
   },
   "outputs": [],
   "source": [
    "# user\n",
    "user_columns = ['FN', 'Active', 'club_member_status', 'fashion_news_frequency', 'postal_code']\n",
    "for feat in user_columns:\n",
    "    lbl = preprocessing.LabelEncoder()\n",
    "    lbl.fit(list(customers[feat]))\n",
    "    customers[feat] = lbl.transform(list(customers[feat]))"
   ]
  },
  {
   "cell_type": "code",
   "execution_count": 7,
   "id": "09662d16",
   "metadata": {
    "execution": {
     "iopub.execute_input": "2022-04-03T02:08:34.049593Z",
     "iopub.status.busy": "2022-04-03T02:08:34.048860Z",
     "iopub.status.idle": "2022-04-03T02:08:35.785578Z",
     "shell.execute_reply": "2022-04-03T02:08:35.784878Z",
     "shell.execute_reply.started": "2022-04-03T01:19:56.858705Z"
    },
    "papermill": {
     "duration": 1.757134,
     "end_time": "2022-04-03T02:08:35.785732",
     "exception": false,
     "start_time": "2022-04-03T02:08:34.028598",
     "status": "completed"
    },
    "tags": []
   },
   "outputs": [
    {
     "name": "stdout",
     "output_type": "stream",
     "text": [
      "Number of users: 1371980, Number of topics: 105542.\n"
     ]
    }
   ],
   "source": [
    "dataset = Dataset()\n",
    "dataset.fit(users=customers['customer_id'], \n",
    "            items=articles['article_id'],\n",
    "            user_features = user_columns,\n",
    "            item_features = article_columns) \n",
    "\n",
    "num_users, num_topics = dataset.interactions_shape()\n",
    "print(f'Number of users: {num_users}, Number of topics: {num_topics}.')"
   ]
  },
  {
   "cell_type": "code",
   "execution_count": 8,
   "id": "0b3415a4",
   "metadata": {
    "execution": {
     "iopub.execute_input": "2022-04-03T02:08:35.842810Z",
     "iopub.status.busy": "2022-04-03T02:08:35.841790Z",
     "iopub.status.idle": "2022-04-03T02:08:43.603485Z",
     "shell.execute_reply": "2022-04-03T02:08:43.604096Z",
     "shell.execute_reply.started": "2022-04-03T01:19:58.752929Z"
    },
    "papermill": {
     "duration": 7.799907,
     "end_time": "2022-04-03T02:08:43.604339",
     "exception": false,
     "start_time": "2022-04-03T02:08:35.804432",
     "status": "completed"
    },
    "tags": []
   },
   "outputs": [
    {
     "name": "stderr",
     "output_type": "stream",
     "text": [
      "/opt/conda/lib/python3.7/site-packages/ipykernel_launcher.py:4: FutureWarning: Series.dt.weekofyear and Series.dt.week have been deprecated.  Please use Series.dt.isocalendar().week instead.\n",
      "  after removing the cwd from sys.path.\n"
     ]
    }
   ],
   "source": [
    "train[\"t_dat\"] = pd.to_datetime(train[\"t_dat\"])\n",
    "\n",
    "date_week_df = train.drop_duplicates(\"t_dat\")[[\"t_dat\"]].reset_index(drop=True)\n",
    "date_week_df['week_no'] = (date_week_df['t_dat'] + pd.DateOffset(days=5)).dt.week\n",
    "date_week_df[\"week_no\"] = date_week_df[\"week_no\"].diff(1)\n",
    "date_week_df[\"week_no\"].fillna(0, inplace=True)\n",
    "date_week_df[\"week_no\"] = date_week_df[\"week_no\"] != 0\n",
    "date_week_df[\"week_no\"] = date_week_df[\"week_no\"].cumsum()\n",
    "\n",
    "train = pd.merge(train, date_week_df, on=\"t_dat\", how=\"left\")\n",
    "test_week = train.week_no.max()\n",
    "\n",
    "del date_week_df"
   ]
  },
  {
   "cell_type": "code",
   "execution_count": 9,
   "id": "de4a4670",
   "metadata": {
    "execution": {
     "iopub.execute_input": "2022-04-03T02:08:43.646595Z",
     "iopub.status.busy": "2022-04-03T02:08:43.645463Z",
     "iopub.status.idle": "2022-04-03T02:13:38.648137Z",
     "shell.execute_reply": "2022-04-03T02:13:38.648731Z",
     "shell.execute_reply.started": "2022-04-03T01:20:05.683529Z"
    },
    "papermill": {
     "duration": 295.026978,
     "end_time": "2022-04-03T02:13:38.649145",
     "exception": false,
     "start_time": "2022-04-03T02:08:43.622167",
     "status": "completed"
    },
    "tags": []
   },
   "outputs": [
    {
     "name": "stdout",
     "output_type": "stream",
     "text": [
      "(1371980, 105542) (1371980, 105542)\n"
     ]
    }
   ],
   "source": [
    "train_set = train[train.week_no < test_week]\n",
    "val_set = train[train.week_no == test_week]\n",
    "\n",
    "(interactions, weights) = dataset.build_interactions(train_set.iloc[:, 1:3].values)\n",
    "(val_interactions, val_weights) = dataset.build_interactions(val_set.iloc[:, 1:3].values)\n",
    "dataset.build_item_features(((articles.iloc[index][\"article_id\"], article_columns) for index in range(articles.shape[0])))\n",
    "dataset.build_user_features(((customers.iloc[index][\"customer_id\"], user_columns) for index in range(customers.shape[0])))\n",
    "\n",
    "print(interactions.shape, val_interactions.shape)\n",
    "del train"
   ]
  },
  {
   "cell_type": "code",
   "execution_count": 10,
   "id": "4e0ed99d",
   "metadata": {
    "execution": {
     "iopub.execute_input": "2022-04-03T02:13:38.701707Z",
     "iopub.status.busy": "2022-04-03T02:13:38.695109Z",
     "iopub.status.idle": "2022-04-03T02:13:55.444521Z",
     "shell.execute_reply": "2022-04-03T02:13:55.445117Z",
     "shell.execute_reply.started": "2022-04-03T01:26:31.924947Z"
    },
    "papermill": {
     "duration": 16.777679,
     "end_time": "2022-04-03T02:13:55.445335",
     "exception": false,
     "start_time": "2022-04-03T02:13:38.667656",
     "status": "completed"
    },
    "tags": []
   },
   "outputs": [],
   "source": [
    "valid = val_set.groupby('customer_id')['article_id'].apply(list).reset_index()\n",
    "valid = valid.rename({'article_id':'prediction'},axis=1)\n",
    "valid['prediction'] = valid.prediction.apply(lambda x: ' '.join([str(k) for k in x]))\n",
    "\n",
    "inactive_users = list(set(train_set.customer_id) - set(train_set[train_set.week_no > test_week - 10][\"customer_id\"]))\n",
    "cold_users = list(set(valid.customer_id) - set(train_set.customer_id))\n",
    "del train_set, val_set"
   ]
  },
  {
   "cell_type": "markdown",
   "id": "1bc250f9",
   "metadata": {
    "papermill": {
     "duration": 0.017512,
     "end_time": "2022-04-03T02:13:55.481940",
     "exception": false,
     "start_time": "2022-04-03T02:13:55.464428",
     "status": "completed"
    },
    "tags": []
   },
   "source": [
    "# fitting"
   ]
  },
  {
   "cell_type": "code",
   "execution_count": 11,
   "id": "964560b6",
   "metadata": {
    "execution": {
     "iopub.execute_input": "2022-04-03T02:13:55.524041Z",
     "iopub.status.busy": "2022-04-03T02:13:55.523107Z",
     "iopub.status.idle": "2022-04-03T02:13:55.526734Z",
     "shell.execute_reply": "2022-04-03T02:13:55.525833Z",
     "shell.execute_reply.started": "2022-04-03T01:26:51.022630Z"
    },
    "papermill": {
     "duration": 0.027504,
     "end_time": "2022-04-03T02:13:55.527399",
     "exception": true,
     "start_time": "2022-04-03T02:13:55.499895",
     "status": "failed"
    },
    "tags": []
   },
   "outputs": [
    {
     "ename": "SyntaxError",
     "evalue": "unexpected EOF while parsing (2539361329.py, line 7)",
     "output_type": "error",
     "traceback": [
      "\u001b[0;36m  File \u001b[0;32m\"/tmp/ipykernel_19/2539361329.py\"\u001b[0;36m, line \u001b[0;32m7\u001b[0m\n\u001b[0;31m    model.fit(interactions=interactions, epochs=EPOCHS, verbose=1, num_threads=NO_THREADS)\u001b[0m\n\u001b[0m                                                                                          ^\u001b[0m\n\u001b[0;31mSyntaxError\u001b[0m\u001b[0;31m:\u001b[0m unexpected EOF while parsing\n"
     ]
    }
   ],
   "source": [
    "model = LightFM(loss='bpr', \n",
    "                no_components=NO_COMPONENTS, \n",
    "                learning_rate=LEARNING_RATE,                 \n",
    "                random_state=np.random.RandomState(SEED),\n",
    "                #user_alpha=USER_ALPHA,\n",
    "                #item_alpha=ITEM_ALPHA)\n",
    "model.fit(interactions=interactions, epochs=EPOCHS, verbose=1, num_threads=NO_THREADS)"
   ]
  },
  {
   "cell_type": "code",
   "execution_count": null,
   "id": "4937c191",
   "metadata": {
    "execution": {
     "iopub.execute_input": "2022-04-03T01:49:28.772838Z",
     "iopub.status.busy": "2022-04-03T01:49:28.772599Z",
     "iopub.status.idle": "2022-04-03T01:49:28.776481Z",
     "shell.execute_reply": "2022-04-03T01:49:28.775888Z",
     "shell.execute_reply.started": "2022-04-03T01:49:28.772811Z"
    },
    "papermill": {
     "duration": null,
     "end_time": null,
     "exception": null,
     "start_time": null,
     "status": "pending"
    },
    "tags": []
   },
   "outputs": [],
   "source": [
    "#Load Trained Model\n",
    "\n",
    "#!pip3 install pickle5\n",
    "#import pickle5 as pickle\n",
    "#with open('../input/lightfm1/lightFM1.pickle', \"rb\") as fh:\n",
    "#    trained_model = pickle.load(fh)"
   ]
  },
  {
   "cell_type": "markdown",
   "id": "1aa7842c",
   "metadata": {
    "papermill": {
     "duration": null,
     "end_time": null,
     "exception": null,
     "start_time": null,
     "status": "pending"
    },
    "tags": []
   },
   "source": [
    "# Submission"
   ]
  },
  {
   "cell_type": "code",
   "execution_count": null,
   "id": "b2fe7f29",
   "metadata": {
    "execution": {
     "iopub.execute_input": "2022-04-03T01:49:28.777973Z",
     "iopub.status.busy": "2022-04-03T01:49:28.777561Z",
     "iopub.status.idle": "2022-04-03T01:49:29.457634Z",
     "shell.execute_reply": "2022-04-03T01:49:29.456746Z",
     "shell.execute_reply.started": "2022-04-03T01:49:28.777942Z"
    },
    "papermill": {
     "duration": null,
     "end_time": null,
     "exception": null,
     "start_time": null,
     "status": "pending"
    },
    "tags": []
   },
   "outputs": [],
   "source": [
    "#Get the mappings\n",
    "'''\n",
    "uid = mapping from customer_id to model equivalent user_id\n",
    "iid = mapping from article_id to  model equivalent article_id\n",
    "'''\n",
    "uid_map, ufeature_map, iid_map, ifeature_map = dataset.mapping() \n",
    "'''\n",
    "create inverse mappings\n",
    "'''\n",
    "inv_uid_map = {v:k for k, v in uid_map.items()}\n",
    "inv_iid_map = {v:k for k, v in iid_map.items()}\n",
    "\n",
    "#convert submission user_id and article_id to model equivalent user_id and article_id\n",
    "\n",
    "if VALID:\n",
    "    test_X = valid.customer_id.values\n",
    "else:\n",
    "    test_X = sample_submission.customer_id.values    \n",
    "\n",
    "lfn_user = lambda x: uid_map[x]\n",
    "test_X_m = [lfn_user(tx) for tx in test_X]\n",
    "\n",
    "print(len(test_X_m))"
   ]
  },
  {
   "cell_type": "code",
   "execution_count": null,
   "id": "15c44231",
   "metadata": {
    "execution": {
     "iopub.execute_input": "2022-04-03T01:49:29.459824Z",
     "iopub.status.busy": "2022-04-03T01:49:29.459254Z",
     "iopub.status.idle": "2022-04-03T01:49:29.539182Z",
     "shell.execute_reply": "2022-04-03T01:49:29.538129Z",
     "shell.execute_reply.started": "2022-04-03T01:49:29.459777Z"
    },
    "papermill": {
     "duration": null,
     "end_time": null,
     "exception": null,
     "start_time": null,
     "status": "pending"
    },
    "tags": []
   },
   "outputs": [],
   "source": [
    "def predict_submission():\n",
    "    df_split = np.array_split(test_X_m, num_cores)\n",
    "    chunk_size = len(df_split[0])\n",
    "    \n",
    "    chunk1 = list(df_split[0])\n",
    "    chunk2 = list(df_split[1])\n",
    "    chunk3 = list(df_split[2])\n",
    "    chunk4 = list(df_split[3])\n",
    "    \n",
    "    #list of items for multiprocessing, 4 since using 4 cores\n",
    "    all_chunks = [chunk1, chunk2, chunk3, chunk4]\n",
    "    \n",
    "    pool = Pool(num_cores)\n",
    "    result = pool.map(make_predict, all_chunks)\n",
    "    \n",
    "    pred_combined = list(itertools.chain(result[0], result[1], result[2], result[3]))\n",
    "\n",
    "    return pred_combined\n",
    "\n",
    "def make_predict(usr_chunk):\n",
    "    customer_ids = []\n",
    "    preds = []\n",
    "    item_array = np.array(list(iid_map.values()))\n",
    "\n",
    "    for usr_ in usr_chunk:\n",
    "        m_opt = model.predict(np.array([usr_] * len(iid_map)), item_array)\n",
    "        pred = np.argsort(-m_opt)[:K]\n",
    "        #customer_ids.append(inv_uid_map[usr_])\n",
    "        preds.append(' '.join([inv_iid_map[p] for p in pred]).strip())\n",
    "    \n",
    "    #customer_ids = np.array(customer_ids).reshape(-1, 1)\n",
    "    preds = np.array(preds).reshape(-1, 1)\n",
    "    return preds"
   ]
  },
  {
   "cell_type": "code",
   "execution_count": null,
   "id": "1a892d1d",
   "metadata": {
    "execution": {
     "iopub.execute_input": "2022-04-03T01:49:29.540807Z",
     "iopub.status.busy": "2022-04-03T01:49:29.540535Z",
     "iopub.status.idle": "2022-04-03T02:00:55.613251Z",
     "shell.execute_reply": "2022-04-03T02:00:55.611347Z",
     "shell.execute_reply.started": "2022-04-03T01:49:29.540778Z"
    },
    "papermill": {
     "duration": null,
     "end_time": null,
     "exception": null,
     "start_time": null,
     "status": "pending"
    },
    "tags": []
   },
   "outputs": [],
   "source": [
    "%%time\n",
    "final_predictions = predict_submission()"
   ]
  },
  {
   "cell_type": "code",
   "execution_count": null,
   "id": "757034bb",
   "metadata": {
    "execution": {
     "iopub.execute_input": "2022-04-03T02:00:55.618140Z",
     "iopub.status.busy": "2022-04-03T02:00:55.617669Z",
     "iopub.status.idle": "2022-04-03T02:01:10.006511Z",
     "shell.execute_reply": "2022-04-03T02:01:10.005171Z",
     "shell.execute_reply.started": "2022-04-03T02:00:55.618084Z"
    },
    "papermill": {
     "duration": null,
     "end_time": null,
     "exception": null,
     "start_time": null,
     "status": "pending"
    },
    "tags": []
   },
   "outputs": [],
   "source": [
    "final_sub = pd.DataFrame(data=np.concatenate((np.array(test_X).reshape(-1,1), np.array(final_predictions)), axis=1).reshape(-1, 2),\n",
    "                         columns=['customer_id', 'prediction'])\n",
    "\n",
    "sample_submission.loc[sample_submission.customer_id.isin(final_sub.customer_id), 'prediction'] = ( \n",
    "    final_sub['prediction']\n",
    "    )\n",
    "sample_submission.to_csv('submission.csv', index=False)"
   ]
  },
  {
   "cell_type": "code",
   "execution_count": null,
   "id": "c97ded65",
   "metadata": {
    "execution": {
     "iopub.execute_input": "2022-04-03T02:01:10.008821Z",
     "iopub.status.busy": "2022-04-03T02:01:10.007875Z",
     "iopub.status.idle": "2022-04-03T02:01:18.860502Z",
     "shell.execute_reply": "2022-04-03T02:01:18.859398Z",
     "shell.execute_reply.started": "2022-04-03T02:01:10.008754Z"
    },
    "papermill": {
     "duration": null,
     "end_time": null,
     "exception": null,
     "start_time": null,
     "status": "pending"
    },
    "tags": []
   },
   "outputs": [],
   "source": [
    "# local score\n",
    "if VALID:\n",
    "    sub_check = final_sub.copy()\n",
    "    sub_check = sub_check.set_index('customer_id').reset_index()\n",
    "    print(\"t\", mapk(valid.prediction.str.split(), sub_check.prediction.str.split(), k=12))    \n",
    "    print(\"i\", \n",
    "            mapk(valid[valid.customer_id.isin(inactive_users)].prediction.str.split(), \n",
    "               sub_check[sub_check.customer_id.isin(inactive_users)].prediction.str.split(), k=12),\n",
    "            valid[valid.customer_id.isin(inactive_users)].shape[0])\n",
    "    print(\"c\", \n",
    "            mapk(valid[valid.customer_id.isin(cold_users)].prediction.str.split(), \n",
    "               sub_check[sub_check.customer_id.isin(cold_users)].prediction.str.split(), k=12),\n",
    "            valid[valid.customer_id.isin(cold_users)].shape[0])\n",
    "    \n",
    "    print(\"  \")\n",
    "    print(sub_check[\"prediction\"].value_counts())  "
   ]
  },
  {
   "cell_type": "code",
   "execution_count": null,
   "id": "4ba8dafa",
   "metadata": {
    "papermill": {
     "duration": null,
     "end_time": null,
     "exception": null,
     "start_time": null,
     "status": "pending"
    },
    "tags": []
   },
   "outputs": [],
   "source": []
  }
 ],
 "metadata": {
  "kernelspec": {
   "display_name": "Python 3",
   "language": "python",
   "name": "python3"
  },
  "language_info": {
   "codemirror_mode": {
    "name": "ipython",
    "version": 3
   },
   "file_extension": ".py",
   "mimetype": "text/x-python",
   "name": "python",
   "nbconvert_exporter": "python",
   "pygments_lexer": "ipython3",
   "version": "3.7.12"
  },
  "papermill": {
   "default_parameters": {},
   "duration": 440.175845,
   "end_time": "2022-04-03T02:13:57.567149",
   "environment_variables": {},
   "exception": true,
   "input_path": "__notebook__.ipynb",
   "output_path": "__notebook__.ipynb",
   "parameters": {},
   "start_time": "2022-04-03T02:06:37.391304",
   "version": "2.3.3"
  }
 },
 "nbformat": 4,
 "nbformat_minor": 5
}
