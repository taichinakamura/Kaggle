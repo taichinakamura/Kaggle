{
 "cells": [
  {
   "cell_type": "markdown",
   "id": "f4542220",
   "metadata": {
    "papermill": {
     "duration": 0.02653,
     "end_time": "2022-04-09T00:33:20.189792",
     "exception": false,
     "start_time": "2022-04-09T00:33:20.163262",
     "status": "completed"
    },
    "tags": []
   },
   "source": [
    "- https://making.lyst.com/lightfm/docs/lightfm.html\n",
    "- modify mistake in valid label\n",
    "- consider item, user features\n",
    "- change weight and range\n",
    "- remove some features \n",
    "- remove inactive items \n",
    "- change learning rate * "
   ]
  },
  {
   "cell_type": "code",
   "execution_count": 1,
   "id": "ade93f90",
   "metadata": {
    "execution": {
     "iopub.execute_input": "2022-04-09T00:33:20.252406Z",
     "iopub.status.busy": "2022-04-09T00:33:20.251716Z",
     "iopub.status.idle": "2022-04-09T00:33:21.475365Z",
     "shell.execute_reply": "2022-04-09T00:33:21.474383Z",
     "shell.execute_reply.started": "2022-04-08T22:43:02.655746Z"
    },
    "papermill": {
     "duration": 1.259625,
     "end_time": "2022-04-09T00:33:21.475589",
     "exception": false,
     "start_time": "2022-04-09T00:33:20.215964",
     "status": "completed"
    },
    "tags": []
   },
   "outputs": [],
   "source": [
    "import os\n",
    "import tqdm\n",
    "\n",
    "import numpy as np\n",
    "import pandas as pd\n",
    "from lightfm import LightFM\n",
    "from lightfm.data import Dataset\n",
    "from sklearn import preprocessing\n",
    "\n",
    "import itertools\n",
    "from multiprocessing import Pool\n",
    "\n",
    "SEED = 42\n",
    "np.random.seed(SEED)\n",
    "os.environ['PYTHONHASHSEED'] = str(SEED)\n",
    "\n",
    "VALID = True"
   ]
  },
  {
   "cell_type": "code",
   "execution_count": 2,
   "id": "8f04e642",
   "metadata": {
    "execution": {
     "iopub.execute_input": "2022-04-09T00:33:21.538225Z",
     "iopub.status.busy": "2022-04-09T00:33:21.536411Z",
     "iopub.status.idle": "2022-04-09T00:33:21.541882Z",
     "shell.execute_reply": "2022-04-09T00:33:21.541105Z",
     "shell.execute_reply.started": "2022-04-08T22:43:03.799062Z"
    },
    "papermill": {
     "duration": 0.039798,
     "end_time": "2022-04-09T00:33:21.542055",
     "exception": false,
     "start_time": "2022-04-09T00:33:21.502257",
     "status": "completed"
    },
    "tags": []
   },
   "outputs": [],
   "source": [
    "def apk(actual, predicted, k=12):\n",
    "    if len(predicted)>k:\n",
    "        predicted = predicted[:k]\n",
    "        \n",
    "    score = 0.0\n",
    "    num_hits = 0.0\n",
    "    \n",
    "    for i,p in enumerate(predicted):\n",
    "        if p in actual and p not in predicted[:i]:\n",
    "            num_hits += 1.0\n",
    "            score += num_hits / (i+1.0)\n",
    "\n",
    "    if not actual:\n",
    "        return 0.0\n",
    "\n",
    "    return score / min(len(actual), k)\n",
    "\n",
    "\n",
    "def mapk(actual, predicted, k=12):\n",
    "    \"\"\"\n",
    "    Computes the mean average precision at k.\n",
    "    This function computes the mean average prescision at k between two lists\n",
    "    of lists of items.\n",
    "    Parameters\n",
    "    ----------\n",
    "    actual : list\n",
    "             A list of lists of elements that are to be predicted \n",
    "             (order doesn't matter in the lists)\n",
    "    predicted : list\n",
    "                A list of lists of predicted elements\n",
    "                (order matters in the lists)\n",
    "    k : int, optional\n",
    "        The maximum number of predicted elements\n",
    "    Returns\n",
    "    -------\n",
    "    score : double\n",
    "            The mean average precision at k over the input lists\n",
    "    \"\"\"\n",
    "    return np.mean([apk(a,p,k) for a,p in zip(actual, predicted)])"
   ]
  },
  {
   "cell_type": "markdown",
   "id": "dc77c252",
   "metadata": {
    "papermill": {
     "duration": 0.025365,
     "end_time": "2022-04-09T00:33:21.593707",
     "exception": false,
     "start_time": "2022-04-09T00:33:21.568342",
     "status": "completed"
    },
    "tags": []
   },
   "source": [
    "## Configs"
   ]
  },
  {
   "cell_type": "code",
   "execution_count": 3,
   "id": "5f10b8c7",
   "metadata": {
    "execution": {
     "iopub.execute_input": "2022-04-09T00:33:21.652048Z",
     "iopub.status.busy": "2022-04-09T00:33:21.651091Z",
     "iopub.status.idle": "2022-04-09T00:33:21.653939Z",
     "shell.execute_reply": "2022-04-09T00:33:21.653241Z",
     "shell.execute_reply.started": "2022-04-08T22:43:03.810995Z"
    },
    "papermill": {
     "duration": 0.034552,
     "end_time": "2022-04-09T00:33:21.654101",
     "exception": false,
     "start_time": "2022-04-09T00:33:21.619549",
     "status": "completed"
    },
    "tags": []
   },
   "outputs": [],
   "source": [
    "# default number of recommendations\n",
    "K = 12\n",
    "EPOCHS = 100\n",
    "LEARNING_RATE = 0.05 #\n",
    "NO_COMPONENTS = 50\n",
    "NO_THREADS = 32\n",
    "ITEM_ALPHA=1e-6\n",
    "USER_ALPHA=1e-6\n",
    "\n",
    "num_cores=4"
   ]
  },
  {
   "cell_type": "markdown",
   "id": "8f48ce1d",
   "metadata": {
    "papermill": {
     "duration": 0.025093,
     "end_time": "2022-04-09T00:33:21.705171",
     "exception": false,
     "start_time": "2022-04-09T00:33:21.680078",
     "status": "completed"
    },
    "tags": []
   },
   "source": [
    "## Load the data"
   ]
  },
  {
   "cell_type": "code",
   "execution_count": 4,
   "id": "f2310bce",
   "metadata": {
    "execution": {
     "iopub.execute_input": "2022-04-09T00:33:21.764730Z",
     "iopub.status.busy": "2022-04-09T00:33:21.763890Z",
     "iopub.status.idle": "2022-04-09T00:35:00.224067Z",
     "shell.execute_reply": "2022-04-09T00:35:00.222616Z",
     "shell.execute_reply.started": "2022-04-08T22:43:03.824378Z"
    },
    "papermill": {
     "duration": 98.493874,
     "end_time": "2022-04-09T00:35:00.224616",
     "exception": false,
     "start_time": "2022-04-09T00:33:21.730742",
     "status": "completed"
    },
    "tags": []
   },
   "outputs": [],
   "source": [
    "main_dir = \"../input/h-and-m-personalized-fashion-recommendations\"\n",
    "images_dir = main_dir+\"/images/\" \n",
    "customers = pd.read_csv(main_dir+\"/customers.csv\")\n",
    "articles = pd.read_csv(main_dir+\"/articles.csv\", dtype={'article_id': str})\n",
    "sample_submission = pd.read_csv(main_dir+\"/sample_submission.csv\", dtype={'article_id': str})\n",
    "train = pd.read_csv(main_dir+'/transactions_train.csv',  dtype={'article_id': str}, parse_dates=['t_dat'])"
   ]
  },
  {
   "cell_type": "markdown",
   "id": "864130e1",
   "metadata": {
    "papermill": {
     "duration": 0.025088,
     "end_time": "2022-04-09T00:35:00.280064",
     "exception": false,
     "start_time": "2022-04-09T00:35:00.254976",
     "status": "completed"
    },
    "tags": []
   },
   "source": [
    "# features"
   ]
  },
  {
   "cell_type": "code",
   "execution_count": 5,
   "id": "9f4e51e4",
   "metadata": {
    "execution": {
     "iopub.execute_input": "2022-04-09T00:35:00.345492Z",
     "iopub.status.busy": "2022-04-09T00:35:00.344655Z",
     "iopub.status.idle": "2022-04-09T00:35:08.931926Z",
     "shell.execute_reply": "2022-04-09T00:35:08.931033Z",
     "shell.execute_reply.started": "2022-04-08T22:44:47.798288Z"
    },
    "papermill": {
     "duration": 8.626504,
     "end_time": "2022-04-09T00:35:08.932125",
     "exception": false,
     "start_time": "2022-04-09T00:35:00.305621",
     "status": "completed"
    },
    "tags": []
   },
   "outputs": [
    {
     "name": "stderr",
     "output_type": "stream",
     "text": [
      "/opt/conda/lib/python3.7/site-packages/ipykernel_launcher.py:4: FutureWarning: Series.dt.weekofyear and Series.dt.week have been deprecated.  Please use Series.dt.isocalendar().week instead.\n",
      "  after removing the cwd from sys.path.\n"
     ]
    }
   ],
   "source": [
    "train[\"t_dat\"] = pd.to_datetime(train[\"t_dat\"])\n",
    "\n",
    "date_week_df = train.drop_duplicates(\"t_dat\")[[\"t_dat\"]].reset_index(drop=True)\n",
    "date_week_df['week_no'] = (date_week_df['t_dat'] + pd.DateOffset(days=5)).dt.week\n",
    "date_week_df[\"week_no\"] = date_week_df[\"week_no\"].diff(1)\n",
    "date_week_df[\"week_no\"].fillna(0, inplace=True)\n",
    "date_week_df[\"week_no\"] = date_week_df[\"week_no\"] != 0\n",
    "date_week_df[\"week_no\"] = date_week_df[\"week_no\"].cumsum()\n",
    "\n",
    "train = pd.merge(train, date_week_df, on=\"t_dat\", how=\"left\")\n",
    "test_week = train.week_no.max()\n",
    "\n",
    "del date_week_df"
   ]
  },
  {
   "cell_type": "code",
   "execution_count": 6,
   "id": "1b0c2497",
   "metadata": {
    "execution": {
     "iopub.execute_input": "2022-04-09T00:35:09.005881Z",
     "iopub.status.busy": "2022-04-09T00:35:08.993321Z",
     "iopub.status.idle": "2022-04-09T00:37:12.342176Z",
     "shell.execute_reply": "2022-04-09T00:37:12.341398Z",
     "shell.execute_reply.started": "2022-04-08T22:44:55.306523Z"
    },
    "papermill": {
     "duration": 123.383734,
     "end_time": "2022-04-09T00:37:12.342405",
     "exception": false,
     "start_time": "2022-04-09T00:35:08.958671",
     "status": "completed"
    },
    "tags": []
   },
   "outputs": [],
   "source": [
    "if VALID:\n",
    "    tmp = train[train.week_no < test_week].reset_index(drop=True).copy()\n",
    "else:\n",
    "    tmp = train.copy()\n",
    "\n",
    "# count encoding\n",
    "tmp = pd.merge(tmp, articles[[\"article_id\", \"index_group_name\"]], on='article_id', how='left')\n",
    "mp = {'Ladieswear':1, 'Baby/Children':0.5, 'Menswear':0, 'Sport':0.5, 'Divided':0.5} \n",
    "tmp[\"gender\"] = tmp[\"index_group_name\"].map(mp)\n",
    "user_g = tmp.groupby('customer_id').gender.mean().reset_index()\n",
    "    \n",
    "item_count = tmp[\"article_id\"].value_counts().reset_index()\n",
    "item_count.columns = [\"article_id\", \"item_count\"]\n",
    "user_count = tmp[\"customer_id\"].value_counts().reset_index()\n",
    "user_count.columns = [\"customer_id\", \"user_count\"]\n",
    "\n",
    "tmp1 = tmp[tmp.sales_channel_id==1][\"article_id\"].value_counts().reset_index()\n",
    "tmp1.columns = [\"article_id\", \"count_in1\"]\n",
    "\n",
    "tmp2 = tmp[tmp.sales_channel_id==2][\"article_id\"].value_counts().reset_index()\n",
    "tmp2.columns = [\"article_id\", \"count_in2\"]\n",
    "\n",
    "sales_channel_count = pd.merge(tmp1, tmp2, on=\"article_id\", how=\"outer\").fillna(0)\n",
    "sales_channel_count[\"channel_ratio\"] = sales_channel_count[\"count_in1\"] / (sales_channel_count[\"count_in2\"]+0.1)\n",
    "\n",
    "user_last_week = tmp.groupby(\"customer_id\")[\"week_no\"].max().reset_index()\n",
    "user_last_week.columns = [\"customer_id\", \"last_week\"]\n",
    "\n",
    "user_num_week = tmp.groupby(\"customer_id\")[\"week_no\"].nunique().reset_index()\n",
    "user_num_week.columns = [\"customer_id\", \"week_num\"]\n",
    "\n",
    "del tmp1, tmp2, tmp\n",
    "\n",
    "customers = pd.merge(customers, user_count, on = \"customer_id\", how=\"left\")\n",
    "customers[\"user_count\"].fillna(0, inplace=True)\n",
    "customers = pd.merge(customers, user_last_week, on = \"customer_id\", how=\"left\")\n",
    "customers[\"last_week\"].fillna(-1, inplace=True)\n",
    "customers = pd.merge(customers, user_num_week, on = \"customer_id\", how=\"left\")\n",
    "customers[\"week_num\"].fillna(-1, inplace=True)\n",
    "customers = pd.merge(customers, user_g, on = \"customer_id\", how=\"left\")\n",
    "customers[\"gender\"].fillna(0.75, inplace=True)\n",
    "del user_count, user_last_week, user_num_week, user_g\n",
    "\n",
    "articles = pd.merge(articles, item_count, on = \"article_id\", how=\"left\")\n",
    "articles = pd.merge(articles, sales_channel_count, on = \"article_id\", how=\"left\")\n",
    "articles[\"item_count\"].fillna(0, inplace=True)\n",
    "articles.fillna(-1, inplace=True)\n",
    "del item_count, sales_channel_count"
   ]
  },
  {
   "cell_type": "code",
   "execution_count": 7,
   "id": "3532c927",
   "metadata": {
    "execution": {
     "iopub.execute_input": "2022-04-09T00:37:12.398746Z",
     "iopub.status.busy": "2022-04-09T00:37:12.397989Z",
     "iopub.status.idle": "2022-04-09T00:37:39.833918Z",
     "shell.execute_reply": "2022-04-09T00:37:39.834508Z",
     "shell.execute_reply.started": "2022-04-08T22:46:44.462155Z"
    },
    "papermill": {
     "duration": 27.465852,
     "end_time": "2022-04-09T00:37:39.834756",
     "exception": false,
     "start_time": "2022-04-09T00:37:12.368904",
     "status": "completed"
    },
    "tags": []
   },
   "outputs": [],
   "source": [
    "# focus items\n",
    "new_articles = list(set(articles.article_id) - set(train.article_id))\n",
    "active_articles = train.groupby(\"article_id\")[\"t_dat\"].max().reset_index()\n",
    "active_articles = active_articles[active_articles[\"t_dat\"] >= \"2019-09-01\"].reset_index()\n",
    "active_articles = list(active_articles.article_id)\n",
    "train = train[train[\"article_id\"].isin(active_articles)].reset_index(drop=True)\n",
    "articles = articles[articles[\"article_id\"].isin(active_articles + new_articles)].reset_index(drop=True)"
   ]
  },
  {
   "cell_type": "code",
   "execution_count": 8,
   "id": "75afbdaf",
   "metadata": {
    "execution": {
     "iopub.execute_input": "2022-04-09T00:37:39.892776Z",
     "iopub.status.busy": "2022-04-09T00:37:39.891997Z",
     "iopub.status.idle": "2022-04-09T00:37:39.915656Z",
     "shell.execute_reply": "2022-04-09T00:37:39.916232Z",
     "shell.execute_reply.started": "2022-04-08T22:47:07.951266Z"
    },
    "papermill": {
     "duration": 0.055476,
     "end_time": "2022-04-09T00:37:39.916449",
     "exception": false,
     "start_time": "2022-04-09T00:37:39.860973",
     "status": "completed"
    },
    "tags": []
   },
   "outputs": [
    {
     "data": {
      "text/plain": [
       "['product_code',\n",
       " 'product_type_no',\n",
       " 'graphical_appearance_no',\n",
       " 'colour_group_code',\n",
       " 'perceived_colour_value_id',\n",
       " 'perceived_colour_master_id',\n",
       " 'department_no',\n",
       " 'index_group_no',\n",
       " 'section_no',\n",
       " 'garment_group_no',\n",
       " 'item_count',\n",
       " 'count_in1',\n",
       " 'count_in2',\n",
       " 'channel_ratio']"
      ]
     },
     "execution_count": 8,
     "metadata": {},
     "output_type": "execute_result"
    }
   ],
   "source": [
    "# item\n",
    "article_columns = [i for i in articles.columns if \"int\" in str(articles[i].dtype)]\n",
    "article_columns += [\"item_count\", \"count_in1\", \"count_in2\", \"channel_ratio\"]\n",
    "articles = articles[['article_id'] + article_columns]\n",
    "\n",
    "article_columns"
   ]
  },
  {
   "cell_type": "code",
   "execution_count": 9,
   "id": "777287a7",
   "metadata": {
    "execution": {
     "iopub.execute_input": "2022-04-09T00:37:39.977932Z",
     "iopub.status.busy": "2022-04-09T00:37:39.977151Z",
     "iopub.status.idle": "2022-04-09T00:37:40.849923Z",
     "shell.execute_reply": "2022-04-09T00:37:40.849254Z",
     "shell.execute_reply.started": "2022-04-08T22:47:07.981842Z"
    },
    "papermill": {
     "duration": 0.907344,
     "end_time": "2022-04-09T00:37:40.850083",
     "exception": false,
     "start_time": "2022-04-09T00:37:39.942739",
     "status": "completed"
    },
    "tags": []
   },
   "outputs": [
    {
     "data": {
      "text/plain": [
       "['age', 'user_count', 'last_week', 'week_num', 'gender']"
      ]
     },
     "execution_count": 9,
     "metadata": {},
     "output_type": "execute_result"
    }
   ],
   "source": [
    "# user\n",
    "user_columns = [] #'FN', 'Active', 'club_member_status'　#'fashion_news_frequency', 'postal_code'\n",
    "customers.fillna(-1, inplace=True)\n",
    "for feat in user_columns:\n",
    "    lbl = preprocessing.LabelEncoder()\n",
    "    lbl.fit(list(customers[feat]))\n",
    "    customers[feat] = lbl.transform(list(customers[feat]))\n",
    "user_columns += ['age', \"user_count\", \"last_week\", \"week_num\", \"gender\"]\n",
    "user_columns"
   ]
  },
  {
   "cell_type": "markdown",
   "id": "46fa9b0f",
   "metadata": {
    "papermill": {
     "duration": 0.026252,
     "end_time": "2022-04-09T00:37:40.902907",
     "exception": false,
     "start_time": "2022-04-09T00:37:40.876655",
     "status": "completed"
    },
    "tags": []
   },
   "source": [
    "# dataset"
   ]
  },
  {
   "cell_type": "code",
   "execution_count": 10,
   "id": "759aff92",
   "metadata": {
    "execution": {
     "iopub.execute_input": "2022-04-09T00:37:40.971020Z",
     "iopub.status.busy": "2022-04-09T00:37:40.969958Z",
     "iopub.status.idle": "2022-04-09T00:37:43.132617Z",
     "shell.execute_reply": "2022-04-09T00:37:43.133133Z",
     "shell.execute_reply.started": "2022-04-08T22:47:08.826319Z"
    },
    "papermill": {
     "duration": 2.203859,
     "end_time": "2022-04-09T00:37:43.133327",
     "exception": false,
     "start_time": "2022-04-09T00:37:40.929468",
     "status": "completed"
    },
    "tags": []
   },
   "outputs": [
    {
     "name": "stdout",
     "output_type": "stream",
     "text": [
      "Number of users: 1371980, Number of topics: 73576.\n"
     ]
    }
   ],
   "source": [
    "dataset = Dataset()\n",
    "dataset.fit(users=customers['customer_id'], \n",
    "            items=articles['article_id'],\n",
    "            user_features = user_columns,\n",
    "            item_features = article_columns) \n",
    "\n",
    "num_users, num_topics = dataset.interactions_shape()\n",
    "print(f'Number of users: {num_users}, Number of topics: {num_topics}.')\n",
    "\n",
    "#Get the mappings\n",
    "uid_map, ufeature_map, iid_map, ifeature_map = dataset.mapping() \n",
    "inv_uid_map = {v:k for k, v in uid_map.items()}\n",
    "inv_iid_map = {v:k for k, v in iid_map.items()}"
   ]
  },
  {
   "cell_type": "code",
   "execution_count": 11,
   "id": "3568a158",
   "metadata": {
    "execution": {
     "iopub.execute_input": "2022-04-09T00:37:43.194869Z",
     "iopub.status.busy": "2022-04-09T00:37:43.191461Z",
     "iopub.status.idle": "2022-04-09T00:37:49.080943Z",
     "shell.execute_reply": "2022-04-09T00:37:49.080231Z",
     "shell.execute_reply.started": "2022-04-08T22:47:10.884712Z"
    },
    "papermill": {
     "duration": 5.920525,
     "end_time": "2022-04-09T00:37:49.081097",
     "exception": false,
     "start_time": "2022-04-09T00:37:43.160572",
     "status": "completed"
    },
    "tags": []
   },
   "outputs": [],
   "source": [
    "item_last_week = train.groupby(\"article_id\")[\"week_no\"].max().reset_index()\n",
    "weak_weight_items = item_last_week[item_last_week.week_no > 100][\"article_id\"].values\n",
    "weak_weight_id = [iid_map[ele] for ele in weak_weight_items]\n",
    "del item_last_week"
   ]
  },
  {
   "cell_type": "code",
   "execution_count": 12,
   "id": "e375676c",
   "metadata": {
    "execution": {
     "iopub.execute_input": "2022-04-09T00:37:49.163815Z",
     "iopub.status.busy": "2022-04-09T00:37:49.143278Z",
     "iopub.status.idle": "2022-04-09T00:44:49.778345Z",
     "shell.execute_reply": "2022-04-09T00:44:49.779190Z",
     "shell.execute_reply.started": "2022-04-08T22:47:16.481863Z"
    },
    "papermill": {
     "duration": 420.671231,
     "end_time": "2022-04-09T00:44:49.779607",
     "exception": false,
     "start_time": "2022-04-09T00:37:49.108376",
     "status": "completed"
    },
    "tags": []
   },
   "outputs": [
    {
     "name": "stdout",
     "output_type": "stream",
     "text": [
      "(1371980, 73576)\n"
     ]
    }
   ],
   "source": [
    "if VALID:\n",
    "    train_set = train[train.week_no < test_week].copy()\n",
    "    train_ser = train_set.drop_duplicates([\"customer_id\", \"article_id\"]).reset_index(drop=True)\n",
    "    (interactions, weights) = dataset.build_interactions(train_set.iloc[:, 1:3].values)\n",
    "\n",
    "    valid = train[train.week_no == test_week].groupby('customer_id')['article_id'].apply(list).reset_index()\n",
    "    valid = valid.rename({'article_id':'prediction'},axis=1)\n",
    "    valid['prediction'] = valid.prediction.apply(lambda x: ' '.join([str(k) for k in x]))\n",
    "\n",
    "    inactive_users = list(set(train_set.customer_id) - set(train_set[train_set.week_no > test_week - 10][\"customer_id\"]))\n",
    "    cold_users = list(set(valid.customer_id) - set(train_set.customer_id))\n",
    "    del train_set\n",
    "else:\n",
    "    (interactions, weights) = dataset.build_interactions(train.iloc[:, 1:3].values)\n",
    "    \n",
    "dataset.build_item_features(((articles.iloc[index][\"article_id\"], article_columns) for index in range(articles.shape[0])))\n",
    "dataset.build_user_features(((customers.iloc[index][\"customer_id\"], user_columns) for index in range(customers.shape[0])))\n",
    "\n",
    "print(interactions.shape)\n",
    "del train"
   ]
  },
  {
   "cell_type": "code",
   "execution_count": 13,
   "id": "d2be420e",
   "metadata": {
    "execution": {
     "iopub.execute_input": "2022-04-09T00:44:49.847802Z",
     "iopub.status.busy": "2022-04-09T00:44:49.839449Z",
     "iopub.status.idle": "2022-04-09T00:44:57.600155Z",
     "shell.execute_reply": "2022-04-09T00:44:57.600855Z",
     "shell.execute_reply.started": "2022-04-08T22:53:55.855206Z"
    },
    "papermill": {
     "duration": 7.79317,
     "end_time": "2022-04-09T00:44:57.601123",
     "exception": false,
     "start_time": "2022-04-09T00:44:49.807953",
     "status": "completed"
    },
    "tags": []
   },
   "outputs": [],
   "source": [
    "change_index = np.isin(weights.col, weak_weight_id)\n",
    "weights.data[change_index] = 3.0"
   ]
  },
  {
   "cell_type": "markdown",
   "id": "c845a74e",
   "metadata": {
    "papermill": {
     "duration": 0.028994,
     "end_time": "2022-04-09T00:44:57.662694",
     "exception": false,
     "start_time": "2022-04-09T00:44:57.633700",
     "status": "completed"
    },
    "tags": []
   },
   "source": [
    "# fitting"
   ]
  },
  {
   "cell_type": "code",
   "execution_count": 14,
   "id": "8f1eb1a7",
   "metadata": {
    "execution": {
     "iopub.execute_input": "2022-04-09T00:44:57.722774Z",
     "iopub.status.busy": "2022-04-09T00:44:57.722051Z",
     "iopub.status.idle": "2022-04-09T02:04:46.912251Z",
     "shell.execute_reply": "2022-04-09T02:04:46.908934Z",
     "shell.execute_reply.started": "2022-04-08T22:54:02.146055Z"
    },
    "papermill": {
     "duration": 4789.22284,
     "end_time": "2022-04-09T02:04:46.912653",
     "exception": false,
     "start_time": "2022-04-09T00:44:57.689813",
     "status": "completed"
    },
    "tags": []
   },
   "outputs": [
    {
     "name": "stderr",
     "output_type": "stream",
     "text": [
      "Epoch: 100%|██████████| 100/100 [1:19:47<00:00, 47.87s/it]\n"
     ]
    },
    {
     "data": {
      "text/plain": [
       "<lightfm.lightfm.LightFM at 0x7f35fa4a5d50>"
      ]
     },
     "execution_count": 14,
     "metadata": {},
     "output_type": "execute_result"
    }
   ],
   "source": [
    "model = LightFM(loss='bpr', \n",
    "                no_components=NO_COMPONENTS, \n",
    "                learning_rate=LEARNING_RATE,                 \n",
    "                random_state=np.random.RandomState(SEED),\n",
    "                user_alpha=USER_ALPHA,\n",
    "                item_alpha=ITEM_ALPHA,\n",
    "               )\n",
    "\n",
    "model.fit(interactions=interactions, \n",
    "          epochs=EPOCHS, \n",
    "          verbose=1, \n",
    "          #user_features=user_features,\n",
    "          #item_features=item_features, \n",
    "          num_threads=NO_THREADS,\n",
    "          sample_weight=weights,\n",
    "         )"
   ]
  },
  {
   "cell_type": "markdown",
   "id": "d2092d91",
   "metadata": {
    "papermill": {
     "duration": 0.066459,
     "end_time": "2022-04-09T02:04:47.046940",
     "exception": false,
     "start_time": "2022-04-09T02:04:46.980481",
     "status": "completed"
    },
    "tags": []
   },
   "source": [
    "# Submission"
   ]
  },
  {
   "cell_type": "code",
   "execution_count": 15,
   "id": "924c9604",
   "metadata": {
    "execution": {
     "iopub.execute_input": "2022-04-09T02:04:47.187907Z",
     "iopub.status.busy": "2022-04-09T02:04:47.181991Z",
     "iopub.status.idle": "2022-04-09T02:04:47.617973Z",
     "shell.execute_reply": "2022-04-09T02:04:47.617154Z",
     "shell.execute_reply.started": "2022-04-09T00:08:10.097606Z"
    },
    "papermill": {
     "duration": 0.506601,
     "end_time": "2022-04-09T02:04:47.618193",
     "exception": false,
     "start_time": "2022-04-09T02:04:47.111592",
     "status": "completed"
    },
    "tags": []
   },
   "outputs": [
    {
     "name": "stdout",
     "output_type": "stream",
     "text": [
      "68984\n"
     ]
    }
   ],
   "source": [
    "if VALID:\n",
    "    test_X = valid.customer_id.values\n",
    "else:\n",
    "    test_X = sample_submission.customer_id.values    \n",
    "\n",
    "lfn_user = lambda x: uid_map[x]\n",
    "test_X_m = [lfn_user(tx) for tx in test_X]\n",
    "\n",
    "print(len(test_X_m))"
   ]
  },
  {
   "cell_type": "code",
   "execution_count": 16,
   "id": "347d22cb",
   "metadata": {
    "execution": {
     "iopub.execute_input": "2022-04-09T02:04:47.754603Z",
     "iopub.status.busy": "2022-04-09T02:04:47.753849Z",
     "iopub.status.idle": "2022-04-09T02:04:51.178894Z",
     "shell.execute_reply": "2022-04-09T02:04:51.178281Z",
     "shell.execute_reply.started": "2022-04-09T00:08:10.590033Z"
    },
    "papermill": {
     "duration": 3.495202,
     "end_time": "2022-04-09T02:04:51.179070",
     "exception": false,
     "start_time": "2022-04-09T02:04:47.683868",
     "status": "completed"
    },
    "tags": []
   },
   "outputs": [],
   "source": [
    "def predict_submission():\n",
    "    df_split = np.array_split(test_X_m, num_cores)\n",
    "    chunk_size = len(df_split[0])\n",
    "    \n",
    "    chunk1 = list(df_split[0])\n",
    "    chunk2 = list(df_split[1])\n",
    "    chunk3 = list(df_split[2])\n",
    "    chunk4 = list(df_split[3])\n",
    "    \n",
    "    #list of items for multiprocessing, 4 since using 4 cores\n",
    "    all_chunks = [chunk1, chunk2, chunk3, chunk4]\n",
    "    \n",
    "    pool = Pool(num_cores)\n",
    "    result = pool.map(make_predict, all_chunks)\n",
    "    \n",
    "    pred_combined = list(itertools.chain(result[0], result[1], result[2], result[3]))\n",
    "\n",
    "    return pred_combined\n",
    "\n",
    "def make_predict(usr_chunk):\n",
    "    customer_ids = []\n",
    "    preds = []\n",
    "    item_array = np.array(list(iid_map.values()))\n",
    "\n",
    "    for usr_ in usr_chunk:\n",
    "        m_opt = model.predict(np.array([usr_] * len(iid_map)),\n",
    "                              item_array,\n",
    "                              #user_features=user_features,\n",
    "                              #item_features=item_features, \n",
    "                            )\n",
    "        pred = np.argsort(-m_opt)[:K]\n",
    "        #pred = pred[np.isin(pred, [**])] # remove seasonal items\n",
    "        preds.append(' '.join([inv_iid_map[p] for p in pred]).strip())\n",
    "    \n",
    "    preds = np.array(preds).reshape(-1, 1)\n",
    "    return preds"
   ]
  },
  {
   "cell_type": "code",
   "execution_count": 17,
   "id": "78f87142",
   "metadata": {
    "execution": {
     "iopub.execute_input": "2022-04-09T02:04:51.360142Z",
     "iopub.status.busy": "2022-04-09T02:04:51.358119Z",
     "iopub.status.idle": "2022-04-09T02:13:25.752039Z",
     "shell.execute_reply": "2022-04-09T02:13:25.752817Z",
     "shell.execute_reply.started": "2022-04-09T00:08:11.670258Z"
    },
    "papermill": {
     "duration": 514.507194,
     "end_time": "2022-04-09T02:13:25.753098",
     "exception": false,
     "start_time": "2022-04-09T02:04:51.245904",
     "status": "completed"
    },
    "tags": []
   },
   "outputs": [
    {
     "name": "stdout",
     "output_type": "stream",
     "text": [
      "CPU times: user 1.01 s, sys: 588 ms, total: 1.6 s\n",
      "Wall time: 8min 34s\n"
     ]
    }
   ],
   "source": [
    "%%time\n",
    "final_predictions = predict_submission()"
   ]
  },
  {
   "cell_type": "code",
   "execution_count": 18,
   "id": "076b111b",
   "metadata": {
    "execution": {
     "iopub.execute_input": "2022-04-09T02:13:25.894568Z",
     "iopub.status.busy": "2022-04-09T02:13:25.893772Z",
     "iopub.status.idle": "2022-04-09T02:13:40.344927Z",
     "shell.execute_reply": "2022-04-09T02:13:40.343802Z",
     "shell.execute_reply.started": "2022-04-09T00:16:43.376122Z"
    },
    "papermill": {
     "duration": 14.526008,
     "end_time": "2022-04-09T02:13:40.345098",
     "exception": false,
     "start_time": "2022-04-09T02:13:25.819090",
     "status": "completed"
    },
    "tags": []
   },
   "outputs": [],
   "source": [
    "final_sub = pd.DataFrame(data=np.concatenate((np.array(test_X).reshape(-1,1), np.array(final_predictions)), axis=1).reshape(-1, 2),\n",
    "                         columns=['customer_id', 'prediction'])\n",
    "\n",
    "sample_submission.loc[sample_submission.customer_id.isin(final_sub.customer_id), 'prediction'] = ( \n",
    "    final_sub['prediction']\n",
    "    )\n",
    "sample_submission.to_csv('submission.csv', index=False)"
   ]
  },
  {
   "cell_type": "code",
   "execution_count": 19,
   "id": "e659aea3",
   "metadata": {
    "execution": {
     "iopub.execute_input": "2022-04-09T02:13:40.488056Z",
     "iopub.status.busy": "2022-04-09T02:13:40.479875Z",
     "iopub.status.idle": "2022-04-09T02:13:51.368323Z",
     "shell.execute_reply": "2022-04-09T02:13:51.366851Z",
     "shell.execute_reply.started": "2022-04-09T00:16:57.446993Z"
    },
    "papermill": {
     "duration": 10.956862,
     "end_time": "2022-04-09T02:13:51.368674",
     "exception": false,
     "start_time": "2022-04-09T02:13:40.411812",
     "status": "completed"
    },
    "tags": []
   },
   "outputs": [
    {
     "name": "stdout",
     "output_type": "stream",
     "text": [
      "t 0.0064910952367430285\n",
      "i 0.006968612826117127 18988\n",
      "c 0.00012946851325757575 5632\n",
      "  \n",
      "0376172001 0649551007 0500435039 0428291001 0676111001 0757903001 0725718001 0511105002 0233091021 0754362003 0613666005 0754362004    5632\n",
      "0120129001 0534164001 0215589001 0300024058 0567532004 0752657001 0775382001 0510465001 0433444001 0442915001 0469562002 0262277011       3\n",
      "0120129001 0534164001 0215589001 0775382001 0752657001 0300024058 0510465001 0567532004 0433444001 0442915001 0469562002 0262277011       2\n",
      "0120129001 0534164001 0215589001 0300024058 0567532004 0775382001 0510465001 0752657001 0433444001 0442915001 0469562002 0262277011       2\n",
      "0120129001 0534164001 0215589001 0567532004 0300024058 0775382001 0752657001 0510465001 0433444001 0442915001 0469562002 0341129001       2\n",
      "                                                                                                                                       ... \n",
      "0554450001 0554450036 0762846008 0861765001 0562245018 0562245050 0763727003 0554450025 0562245046 0554450004 0554450027 0842727001       1\n",
      "0372860001 0372860002 0803757002 0688728001 0403448007 0372860024 0536139046 0547780001 0772349002 0803757001 0628425001 0547780025       1\n",
      "0611415001 0470789001 0111593001 0611415005 0470789019 0557599001 0111586001 0783440002 0436261001 0158340001 0487722001 0736531001       1\n",
      "0749699002 0821163009 0768759001 0824764001 0795440003 0821163008 0768759002 0817401002 0832732002 0799365011 0768759005 0749699001       1\n",
      "0896169002 0879781003 0803757014 0915529003 0827370002 0915529001 0918836001 0879781002 0866465001 0863937003 0764073002 0794538003       1\n",
      "Name: prediction, Length: 63346, dtype: int64\n"
     ]
    }
   ],
   "source": [
    "# local score\n",
    "if VALID:\n",
    "    sub_check = final_sub.copy()\n",
    "    sub_check = sub_check.set_index('customer_id').reset_index()\n",
    "    print(\"t\", mapk(valid.prediction.str.split(), sub_check.prediction.str.split(), k=12))    \n",
    "    print(\"i\", \n",
    "            mapk(valid[valid.customer_id.isin(inactive_users)].prediction.str.split(), \n",
    "               sub_check[sub_check.customer_id.isin(inactive_users)].prediction.str.split(), k=12),\n",
    "            valid[valid.customer_id.isin(inactive_users)].shape[0])\n",
    "    print(\"c\", \n",
    "            mapk(valid[valid.customer_id.isin(cold_users)].prediction.str.split(), \n",
    "               sub_check[sub_check.customer_id.isin(cold_users)].prediction.str.split(), k=12),\n",
    "            valid[valid.customer_id.isin(cold_users)].shape[0])\n",
    "    \n",
    "    print(\"  \")\n",
    "    print(sub_check[\"prediction\"].value_counts())  "
   ]
  },
  {
   "cell_type": "markdown",
   "id": "4816c99d",
   "metadata": {
    "execution": {
     "iopub.execute_input": "2022-04-08T08:15:12.704927Z",
     "iopub.status.busy": "2022-04-08T08:15:12.704372Z",
     "iopub.status.idle": "2022-04-08T08:15:12.711426Z",
     "shell.execute_reply": "2022-04-08T08:15:12.710036Z",
     "shell.execute_reply.started": "2022-04-08T08:15:12.704894Z"
    },
    "papermill": {
     "duration": 0.066161,
     "end_time": "2022-04-09T02:13:51.503025",
     "exception": false,
     "start_time": "2022-04-09T02:13:51.436864",
     "status": "completed"
    },
    "tags": []
   },
   "source": []
  }
 ],
 "metadata": {
  "kernelspec": {
   "display_name": "Python 3",
   "language": "python",
   "name": "python3"
  },
  "language_info": {
   "codemirror_mode": {
    "name": "ipython",
    "version": 3
   },
   "file_extension": ".py",
   "mimetype": "text/x-python",
   "name": "python",
   "nbconvert_exporter": "python",
   "pygments_lexer": "ipython3",
   "version": "3.7.12"
  },
  "papermill": {
   "default_parameters": {},
   "duration": 6045.421979,
   "end_time": "2022-04-09T02:13:54.404916",
   "environment_variables": {},
   "exception": null,
   "input_path": "__notebook__.ipynb",
   "output_path": "__notebook__.ipynb",
   "parameters": {},
   "start_time": "2022-04-09T00:33:08.982937",
   "version": "2.3.3"
  }
 },
 "nbformat": 4,
 "nbformat_minor": 5
}
