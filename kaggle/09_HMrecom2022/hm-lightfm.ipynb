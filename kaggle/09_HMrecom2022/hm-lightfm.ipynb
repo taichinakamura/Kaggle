{
 "cells": [
  {
   "cell_type": "markdown",
   "id": "68f2519e",
   "metadata": {
    "papermill": {
     "duration": 0.018617,
     "end_time": "2022-04-04T06:03:17.342240",
     "exception": false,
     "start_time": "2022-04-04T06:03:17.323623",
     "status": "completed"
    },
    "tags": []
   },
   "source": [
    "- https://making.lyst.com/lightfm/docs/lightfm.html\n",
    "- modify mistake in valid label\n",
    "- consider item, user features"
   ]
  },
  {
   "cell_type": "code",
   "execution_count": 1,
   "id": "61de703f",
   "metadata": {
    "execution": {
     "iopub.execute_input": "2022-04-04T06:03:17.381753Z",
     "iopub.status.busy": "2022-04-04T06:03:17.380645Z",
     "iopub.status.idle": "2022-04-04T06:03:18.413879Z",
     "shell.execute_reply": "2022-04-04T06:03:18.413216Z",
     "shell.execute_reply.started": "2022-04-04T04:29:16.877920Z"
    },
    "papermill": {
     "duration": 1.053939,
     "end_time": "2022-04-04T06:03:18.414043",
     "exception": false,
     "start_time": "2022-04-04T06:03:17.360104",
     "status": "completed"
    },
    "tags": []
   },
   "outputs": [],
   "source": [
    "import os\n",
    "import tqdm\n",
    "\n",
    "import numpy as np\n",
    "import pandas as pd\n",
    "from lightfm import LightFM\n",
    "from lightfm.data import Dataset\n",
    "from sklearn import preprocessing\n",
    "\n",
    "import itertools\n",
    "from multiprocessing import Pool\n",
    "\n",
    "SEED = 42\n",
    "np.random.seed(SEED)\n",
    "os.environ['PYTHONHASHSEED'] = str(SEED)\n",
    "\n",
    "VALID = True"
   ]
  },
  {
   "cell_type": "code",
   "execution_count": 2,
   "id": "f929b0d8",
   "metadata": {
    "execution": {
     "iopub.execute_input": "2022-04-04T06:03:18.457883Z",
     "iopub.status.busy": "2022-04-04T06:03:18.457029Z",
     "iopub.status.idle": "2022-04-04T06:03:18.459122Z",
     "shell.execute_reply": "2022-04-04T06:03:18.459623Z",
     "shell.execute_reply.started": "2022-04-04T04:29:17.871869Z"
    },
    "papermill": {
     "duration": 0.028,
     "end_time": "2022-04-04T06:03:18.459800",
     "exception": false,
     "start_time": "2022-04-04T06:03:18.431800",
     "status": "completed"
    },
    "tags": []
   },
   "outputs": [],
   "source": [
    "def apk(actual, predicted, k=12):\n",
    "    if len(predicted)>k:\n",
    "        predicted = predicted[:k]\n",
    "        \n",
    "    score = 0.0\n",
    "    num_hits = 0.0\n",
    "    \n",
    "    for i,p in enumerate(predicted):\n",
    "        if p in actual and p not in predicted[:i]:\n",
    "            num_hits += 1.0\n",
    "            score += num_hits / (i+1.0)\n",
    "\n",
    "    if not actual:\n",
    "        return 0.0\n",
    "\n",
    "    return score / min(len(actual), k)\n",
    "\n",
    "\n",
    "def mapk(actual, predicted, k=12):\n",
    "    \"\"\"\n",
    "    Computes the mean average precision at k.\n",
    "    This function computes the mean average prescision at k between two lists\n",
    "    of lists of items.\n",
    "    Parameters\n",
    "    ----------\n",
    "    actual : list\n",
    "             A list of lists of elements that are to be predicted \n",
    "             (order doesn't matter in the lists)\n",
    "    predicted : list\n",
    "                A list of lists of predicted elements\n",
    "                (order matters in the lists)\n",
    "    k : int, optional\n",
    "        The maximum number of predicted elements\n",
    "    Returns\n",
    "    -------\n",
    "    score : double\n",
    "            The mean average precision at k over the input lists\n",
    "    \"\"\"\n",
    "    return np.mean([apk(a,p,k) for a,p in zip(actual, predicted)])"
   ]
  },
  {
   "cell_type": "markdown",
   "id": "2ab68de3",
   "metadata": {
    "papermill": {
     "duration": 0.017119,
     "end_time": "2022-04-04T06:03:18.494930",
     "exception": false,
     "start_time": "2022-04-04T06:03:18.477811",
     "status": "completed"
    },
    "tags": []
   },
   "source": [
    "## Configs"
   ]
  },
  {
   "cell_type": "code",
   "execution_count": 3,
   "id": "2dfcddc6",
   "metadata": {
    "execution": {
     "iopub.execute_input": "2022-04-04T06:03:18.533158Z",
     "iopub.status.busy": "2022-04-04T06:03:18.532538Z",
     "iopub.status.idle": "2022-04-04T06:03:18.535926Z",
     "shell.execute_reply": "2022-04-04T06:03:18.536376Z",
     "shell.execute_reply.started": "2022-04-04T04:29:17.881968Z"
    },
    "papermill": {
     "duration": 0.024079,
     "end_time": "2022-04-04T06:03:18.536566",
     "exception": false,
     "start_time": "2022-04-04T06:03:18.512487",
     "status": "completed"
    },
    "tags": []
   },
   "outputs": [],
   "source": [
    "# default number of recommendations\n",
    "K = 12\n",
    "EPOCHS = 100\n",
    "LEARNING_RATE = 0.1\n",
    "NO_COMPONENTS = 50\n",
    "NO_THREADS = 32\n",
    "ITEM_ALPHA=1e-6\n",
    "USER_ALPHA=1e-6\n",
    "# cold_userは1e-5がよさげ\n",
    "\n",
    "num_cores=4"
   ]
  },
  {
   "cell_type": "markdown",
   "id": "d3c3304c",
   "metadata": {
    "papermill": {
     "duration": 0.020295,
     "end_time": "2022-04-04T06:03:18.574547",
     "exception": false,
     "start_time": "2022-04-04T06:03:18.554252",
     "status": "completed"
    },
    "tags": []
   },
   "source": [
    "## Load the data"
   ]
  },
  {
   "cell_type": "code",
   "execution_count": 4,
   "id": "58ea1b92",
   "metadata": {
    "execution": {
     "iopub.execute_input": "2022-04-04T06:03:18.612979Z",
     "iopub.status.busy": "2022-04-04T06:03:18.612279Z",
     "iopub.status.idle": "2022-04-04T06:04:38.900289Z",
     "shell.execute_reply": "2022-04-04T06:04:38.899773Z",
     "shell.execute_reply.started": "2022-04-04T04:29:18.495376Z"
    },
    "papermill": {
     "duration": 80.308258,
     "end_time": "2022-04-04T06:04:38.900479",
     "exception": false,
     "start_time": "2022-04-04T06:03:18.592221",
     "status": "completed"
    },
    "tags": []
   },
   "outputs": [],
   "source": [
    "main_dir = \"../input/h-and-m-personalized-fashion-recommendations\"\n",
    "images_dir = main_dir+\"/images/\" \n",
    "customers = pd.read_csv(main_dir+\"/customers.csv\")\n",
    "articles = pd.read_csv(main_dir+\"/articles.csv\", dtype={'article_id': str})\n",
    "sample_submission = pd.read_csv(main_dir+\"/sample_submission.csv\", dtype={'article_id': str})\n",
    "train = pd.read_csv(main_dir+'/transactions_train.csv',  dtype={'article_id': str}, parse_dates=['t_dat'])"
   ]
  },
  {
   "cell_type": "markdown",
   "id": "c68a80a1",
   "metadata": {
    "papermill": {
     "duration": 0.018147,
     "end_time": "2022-04-04T06:04:38.937351",
     "exception": false,
     "start_time": "2022-04-04T06:04:38.919204",
     "status": "completed"
    },
    "tags": []
   },
   "source": [
    "# dataset"
   ]
  },
  {
   "cell_type": "code",
   "execution_count": 5,
   "id": "f8d7fae0",
   "metadata": {
    "execution": {
     "iopub.execute_input": "2022-04-04T06:04:38.975794Z",
     "iopub.status.busy": "2022-04-04T06:04:38.974859Z",
     "iopub.status.idle": "2022-04-04T06:04:39.011349Z",
     "shell.execute_reply": "2022-04-04T06:04:39.011783Z",
     "shell.execute_reply.started": "2022-04-04T04:30:45.893015Z"
    },
    "papermill": {
     "duration": 0.057248,
     "end_time": "2022-04-04T06:04:39.011943",
     "exception": false,
     "start_time": "2022-04-04T06:04:38.954695",
     "status": "completed"
    },
    "tags": []
   },
   "outputs": [
    {
     "data": {
      "text/plain": [
       "['product_code',\n",
       " 'product_type_no',\n",
       " 'graphical_appearance_no',\n",
       " 'colour_group_code',\n",
       " 'perceived_colour_value_id',\n",
       " 'perceived_colour_master_id',\n",
       " 'department_no',\n",
       " 'index_group_no',\n",
       " 'section_no',\n",
       " 'garment_group_no']"
      ]
     },
     "execution_count": 5,
     "metadata": {},
     "output_type": "execute_result"
    }
   ],
   "source": [
    "# item\n",
    "article_columns = [i for i in articles.columns if \"int\" in str(articles[i].dtype)]\n",
    "articles = articles[['article_id'] + article_columns]\n",
    "\n",
    "#image_feats = pd.read_csv(\"../input/hm-table-dataset/autox_features.csv\")\n",
    "#articles = pd.concat([articles, image_feats], axis=1)\n",
    "#articles.fillna(-999, inplace=True)\n",
    "#del image_feats\n",
    "#article_columns = [i for i in articles.columns if \"int\" in str(articles[i].dtype) or \"float\" in str(articles[i].dtype)]\n",
    "article_columns"
   ]
  },
  {
   "cell_type": "code",
   "execution_count": 6,
   "id": "faf334ea",
   "metadata": {
    "execution": {
     "iopub.execute_input": "2022-04-04T06:04:39.056660Z",
     "iopub.status.busy": "2022-04-04T06:04:39.055607Z",
     "iopub.status.idle": "2022-04-04T06:04:50.345049Z",
     "shell.execute_reply": "2022-04-04T06:04:50.345531Z",
     "shell.execute_reply.started": "2022-04-04T04:30:45.938057Z"
    },
    "papermill": {
     "duration": 11.314062,
     "end_time": "2022-04-04T06:04:50.345691",
     "exception": false,
     "start_time": "2022-04-04T06:04:39.031629",
     "status": "completed"
    },
    "tags": []
   },
   "outputs": [
    {
     "data": {
      "text/plain": [
       "['FN', 'Active', 'club_member_status', 'fashion_news_frequency', 'postal_code']"
      ]
     },
     "execution_count": 6,
     "metadata": {},
     "output_type": "execute_result"
    }
   ],
   "source": [
    "# user\n",
    "user_columns = ['FN', 'Active', 'club_member_status', 'fashion_news_frequency', 'postal_code']\n",
    "customers.fillna(-1, inplace=True)\n",
    "for feat in user_columns:\n",
    "    lbl = preprocessing.LabelEncoder()\n",
    "    lbl.fit(list(customers[feat]))\n",
    "    customers[feat] = lbl.transform(list(customers[feat]))\n",
    "#user_columns += ['age']\n",
    "user_columns"
   ]
  },
  {
   "cell_type": "code",
   "execution_count": 7,
   "id": "f3664e07",
   "metadata": {
    "execution": {
     "iopub.execute_input": "2022-04-04T06:04:50.394288Z",
     "iopub.status.busy": "2022-04-04T06:04:50.393217Z",
     "iopub.status.idle": "2022-04-04T06:04:52.025918Z",
     "shell.execute_reply": "2022-04-04T06:04:52.026416Z",
     "shell.execute_reply.started": "2022-04-04T04:30:59.391113Z"
    },
    "papermill": {
     "duration": 1.662942,
     "end_time": "2022-04-04T06:04:52.026597",
     "exception": false,
     "start_time": "2022-04-04T06:04:50.363655",
     "status": "completed"
    },
    "tags": []
   },
   "outputs": [
    {
     "name": "stdout",
     "output_type": "stream",
     "text": [
      "Number of users: 1371980, Number of topics: 105542.\n"
     ]
    }
   ],
   "source": [
    "dataset = Dataset()\n",
    "dataset.fit(users=customers['customer_id'], \n",
    "            items=articles['article_id'],\n",
    "            user_features = user_columns,\n",
    "            item_features = article_columns) \n",
    "\n",
    "num_users, num_topics = dataset.interactions_shape()\n",
    "print(f'Number of users: {num_users}, Number of topics: {num_topics}.')\n",
    "\n",
    "#Get the mappings\n",
    "'''\n",
    "uid = mapping from customer_id to model equivalent user_id\n",
    "iid = mapping from article_id to  model equivalent article_id\n",
    "'''\n",
    "uid_map, ufeature_map, iid_map, ifeature_map = dataset.mapping() \n",
    "inv_uid_map = {v:k for k, v in uid_map.items()}\n",
    "inv_iid_map = {v:k for k, v in iid_map.items()}"
   ]
  },
  {
   "cell_type": "code",
   "execution_count": 8,
   "id": "a9e438b5",
   "metadata": {
    "execution": {
     "iopub.execute_input": "2022-04-04T06:04:52.071772Z",
     "iopub.status.busy": "2022-04-04T06:04:52.071097Z",
     "iopub.status.idle": "2022-04-04T06:04:58.810567Z",
     "shell.execute_reply": "2022-04-04T06:04:58.809868Z",
     "shell.execute_reply.started": "2022-04-04T04:31:01.312772Z"
    },
    "papermill": {
     "duration": 6.764226,
     "end_time": "2022-04-04T06:04:58.810710",
     "exception": false,
     "start_time": "2022-04-04T06:04:52.046484",
     "status": "completed"
    },
    "tags": []
   },
   "outputs": [
    {
     "name": "stderr",
     "output_type": "stream",
     "text": [
      "/opt/conda/lib/python3.7/site-packages/ipykernel_launcher.py:4: FutureWarning: Series.dt.weekofyear and Series.dt.week have been deprecated.  Please use Series.dt.isocalendar().week instead.\n",
      "  after removing the cwd from sys.path.\n"
     ]
    }
   ],
   "source": [
    "train[\"t_dat\"] = pd.to_datetime(train[\"t_dat\"])\n",
    "\n",
    "date_week_df = train.drop_duplicates(\"t_dat\")[[\"t_dat\"]].reset_index(drop=True)\n",
    "date_week_df['week_no'] = (date_week_df['t_dat'] + pd.DateOffset(days=5)).dt.week\n",
    "date_week_df[\"week_no\"] = date_week_df[\"week_no\"].diff(1)\n",
    "date_week_df[\"week_no\"].fillna(0, inplace=True)\n",
    "date_week_df[\"week_no\"] = date_week_df[\"week_no\"] != 0\n",
    "date_week_df[\"week_no\"] = date_week_df[\"week_no\"].cumsum()\n",
    "\n",
    "train = pd.merge(train, date_week_df, on=\"t_dat\", how=\"left\")\n",
    "test_week = train.week_no.max()\n",
    "\n",
    "del date_week_df"
   ]
  },
  {
   "cell_type": "code",
   "execution_count": 9,
   "id": "9f12a311",
   "metadata": {
    "execution": {
     "iopub.execute_input": "2022-04-04T06:04:58.853127Z",
     "iopub.status.busy": "2022-04-04T06:04:58.852360Z",
     "iopub.status.idle": "2022-04-04T06:04:58.855025Z",
     "shell.execute_reply": "2022-04-04T06:04:58.854582Z",
     "shell.execute_reply.started": "2022-04-04T04:31:08.163942Z"
    },
    "papermill": {
     "duration": 0.025512,
     "end_time": "2022-04-04T06:04:58.855191",
     "exception": false,
     "start_time": "2022-04-04T06:04:58.829679",
     "status": "completed"
    },
    "tags": []
   },
   "outputs": [],
   "source": [
    "#item_last_week = train.groupby(\"article_id\")[\"week_no\"].max().reset_index()\n",
    "#weak_weight_items = item_last_week[item_last_week.week_no < 50][\"article_id\"].values\n",
    "#weak_weight_id = [iid_map[ele] for ele in weak_weight_items]\n",
    "#del item_last_week"
   ]
  },
  {
   "cell_type": "code",
   "execution_count": 10,
   "id": "155d30e9",
   "metadata": {
    "execution": {
     "iopub.execute_input": "2022-04-04T06:04:58.913781Z",
     "iopub.status.busy": "2022-04-04T06:04:58.912692Z",
     "iopub.status.idle": "2022-04-04T06:10:03.737441Z",
     "shell.execute_reply": "2022-04-04T06:10:03.738225Z",
     "shell.execute_reply.started": "2022-04-04T04:31:08.169297Z"
    },
    "papermill": {
     "duration": 304.863682,
     "end_time": "2022-04-04T06:10:03.738536",
     "exception": false,
     "start_time": "2022-04-04T06:04:58.874854",
     "status": "completed"
    },
    "tags": []
   },
   "outputs": [
    {
     "name": "stdout",
     "output_type": "stream",
     "text": [
      "(1371980, 105542)\n"
     ]
    }
   ],
   "source": [
    "if VALID:\n",
    "    train_set = train[train.week_no < test_week]\n",
    "    (interactions, weights) = dataset.build_interactions(train_set.iloc[:, 1:3].values)\n",
    "\n",
    "    valid = train[train.week_no == test_week].groupby('customer_id')['article_id'].apply(list).reset_index()\n",
    "    valid = valid.rename({'article_id':'prediction'},axis=1)\n",
    "    valid['prediction'] = valid.prediction.apply(lambda x: ' '.join([str(k) for k in x]))\n",
    "\n",
    "    inactive_users = list(set(train_set.customer_id) - set(train_set[train_set.week_no > test_week - 10][\"customer_id\"]))\n",
    "    cold_users = list(set(valid.customer_id) - set(train_set.customer_id))\n",
    "    del train_set\n",
    "else:\n",
    "    (interactions, weights) = dataset.build_interactions(train.iloc[:, 1:3].values)\n",
    "    \n",
    "dataset.build_item_features(((articles.iloc[index][\"article_id\"], article_columns) for index in range(articles.shape[0])))\n",
    "dataset.build_user_features(((customers.iloc[index][\"customer_id\"], user_columns) for index in range(customers.shape[0])))\n",
    "\n",
    "print(interactions.shape)\n",
    "del train"
   ]
  },
  {
   "cell_type": "code",
   "execution_count": 11,
   "id": "d9d12bbe",
   "metadata": {
    "execution": {
     "iopub.execute_input": "2022-04-04T06:10:03.782121Z",
     "iopub.status.busy": "2022-04-04T06:10:03.781548Z",
     "iopub.status.idle": "2022-04-04T06:10:03.784544Z",
     "shell.execute_reply": "2022-04-04T06:10:03.784975Z",
     "shell.execute_reply.started": "2022-04-04T04:37:30.278076Z"
    },
    "papermill": {
     "duration": 0.025878,
     "end_time": "2022-04-04T06:10:03.785139",
     "exception": false,
     "start_time": "2022-04-04T06:10:03.759261",
     "status": "completed"
    },
    "tags": []
   },
   "outputs": [],
   "source": [
    "#change_index = np.isin(weights.col, weak_weight_id)\n",
    "#weights.data[change_index] = 0.9"
   ]
  },
  {
   "cell_type": "markdown",
   "id": "ec1281da",
   "metadata": {
    "papermill": {
     "duration": 0.018683,
     "end_time": "2022-04-04T06:10:03.823504",
     "exception": false,
     "start_time": "2022-04-04T06:10:03.804821",
     "status": "completed"
    },
    "tags": []
   },
   "source": [
    "# fitting"
   ]
  },
  {
   "cell_type": "code",
   "execution_count": 12,
   "id": "5afc5ba3",
   "metadata": {
    "execution": {
     "iopub.execute_input": "2022-04-04T06:10:03.867329Z",
     "iopub.status.busy": "2022-04-04T06:10:03.866711Z",
     "iopub.status.idle": "2022-04-04T07:24:31.083331Z",
     "shell.execute_reply": "2022-04-04T07:24:31.080619Z",
     "shell.execute_reply.started": "2022-04-04T04:37:30.284235Z"
    },
    "papermill": {
     "duration": 4467.241147,
     "end_time": "2022-04-04T07:24:31.083704",
     "exception": false,
     "start_time": "2022-04-04T06:10:03.842557",
     "status": "completed"
    },
    "tags": []
   },
   "outputs": [
    {
     "name": "stderr",
     "output_type": "stream",
     "text": [
      "Epoch: 100%|██████████| 100/100 [1:14:25<00:00, 44.66s/it]\n"
     ]
    },
    {
     "data": {
      "text/plain": [
       "<lightfm.lightfm.LightFM at 0x7f58fd2c72d0>"
      ]
     },
     "execution_count": 12,
     "metadata": {},
     "output_type": "execute_result"
    }
   ],
   "source": [
    "model = LightFM(loss='bpr', \n",
    "                no_components=NO_COMPONENTS, \n",
    "                learning_rate=LEARNING_RATE,                 \n",
    "                random_state=np.random.RandomState(SEED),\n",
    "                user_alpha=USER_ALPHA,\n",
    "                item_alpha=ITEM_ALPHA\n",
    "               )\n",
    "\n",
    "model.fit(interactions=interactions, \n",
    "          epochs=EPOCHS, \n",
    "          verbose=1, \n",
    "          num_threads=NO_THREADS,\n",
    "          #sample_weight=weights,\n",
    "         )"
   ]
  },
  {
   "cell_type": "code",
   "execution_count": 13,
   "id": "fefe7b79",
   "metadata": {
    "execution": {
     "iopub.execute_input": "2022-04-04T07:24:31.184247Z",
     "iopub.status.busy": "2022-04-04T07:24:31.182181Z",
     "iopub.status.idle": "2022-04-04T07:24:31.187398Z",
     "shell.execute_reply": "2022-04-04T07:24:31.186802Z",
     "shell.execute_reply.started": "2022-04-04T05:49:48.868657Z"
    },
    "papermill": {
     "duration": 0.056726,
     "end_time": "2022-04-04T07:24:31.187530",
     "exception": false,
     "start_time": "2022-04-04T07:24:31.130804",
     "status": "completed"
    },
    "tags": []
   },
   "outputs": [],
   "source": [
    "#!pip3 install pickle5\n",
    "#import pickle5 as pickle\n",
    "#with open('../input/lightfm1/lightFM1.pickle', \"rb\") as fh:\n",
    "#    trained_model = pickle.load(fh)"
   ]
  },
  {
   "cell_type": "markdown",
   "id": "91e85e0a",
   "metadata": {
    "papermill": {
     "duration": 0.047062,
     "end_time": "2022-04-04T07:24:31.282109",
     "exception": false,
     "start_time": "2022-04-04T07:24:31.235047",
     "status": "completed"
    },
    "tags": []
   },
   "source": [
    "# Submission"
   ]
  },
  {
   "cell_type": "code",
   "execution_count": 14,
   "id": "c077a43e",
   "metadata": {
    "execution": {
     "iopub.execute_input": "2022-04-04T07:24:31.384827Z",
     "iopub.status.busy": "2022-04-04T07:24:31.378938Z",
     "iopub.status.idle": "2022-04-04T07:24:31.819460Z",
     "shell.execute_reply": "2022-04-04T07:24:31.818902Z",
     "shell.execute_reply.started": "2022-04-04T05:49:48.874033Z"
    },
    "papermill": {
     "duration": 0.490086,
     "end_time": "2022-04-04T07:24:31.819601",
     "exception": false,
     "start_time": "2022-04-04T07:24:31.329515",
     "status": "completed"
    },
    "tags": []
   },
   "outputs": [
    {
     "name": "stdout",
     "output_type": "stream",
     "text": [
      "68984\n"
     ]
    }
   ],
   "source": [
    "if VALID:\n",
    "    test_X = valid.customer_id.values\n",
    "else:\n",
    "    test_X = sample_submission.customer_id.values    \n",
    "\n",
    "lfn_user = lambda x: uid_map[x]\n",
    "test_X_m = [lfn_user(tx) for tx in test_X]\n",
    "\n",
    "print(len(test_X_m))"
   ]
  },
  {
   "cell_type": "code",
   "execution_count": 15,
   "id": "2fdab241",
   "metadata": {
    "execution": {
     "iopub.execute_input": "2022-04-04T07:24:33.114161Z",
     "iopub.status.busy": "2022-04-04T07:24:33.113421Z",
     "iopub.status.idle": "2022-04-04T07:24:33.121242Z",
     "shell.execute_reply": "2022-04-04T07:24:33.121753Z",
     "shell.execute_reply.started": "2022-04-04T05:49:49.079420Z"
    },
    "papermill": {
     "duration": 1.254496,
     "end_time": "2022-04-04T07:24:33.121919",
     "exception": false,
     "start_time": "2022-04-04T07:24:31.867423",
     "status": "completed"
    },
    "tags": []
   },
   "outputs": [],
   "source": [
    "def predict_submission():\n",
    "    df_split = np.array_split(test_X_m, num_cores)\n",
    "    chunk_size = len(df_split[0])\n",
    "    \n",
    "    chunk1 = list(df_split[0])\n",
    "    chunk2 = list(df_split[1])\n",
    "    chunk3 = list(df_split[2])\n",
    "    chunk4 = list(df_split[3])\n",
    "    \n",
    "    #list of items for multiprocessing, 4 since using 4 cores\n",
    "    all_chunks = [chunk1, chunk2, chunk3, chunk4]\n",
    "    \n",
    "    pool = Pool(num_cores)\n",
    "    result = pool.map(make_predict, all_chunks)\n",
    "    \n",
    "    pred_combined = list(itertools.chain(result[0], result[1], result[2], result[3]))\n",
    "\n",
    "    return pred_combined\n",
    "\n",
    "def make_predict(usr_chunk):\n",
    "    customer_ids = []\n",
    "    preds = []\n",
    "    item_array = np.array(list(iid_map.values()))\n",
    "\n",
    "    for usr_ in usr_chunk:\n",
    "        m_opt = model.predict(np.array([usr_] * len(iid_map)), item_array)\n",
    "        pred = np.argsort(-m_opt)[:K]\n",
    "        preds.append(' '.join([inv_iid_map[p] for p in pred]).strip())\n",
    "    \n",
    "    preds = np.array(preds).reshape(-1, 1)\n",
    "    return preds"
   ]
  },
  {
   "cell_type": "code",
   "execution_count": 16,
   "id": "cbf8b227",
   "metadata": {
    "execution": {
     "iopub.execute_input": "2022-04-04T07:24:33.253938Z",
     "iopub.status.busy": "2022-04-04T07:24:33.253252Z",
     "iopub.status.idle": "2022-04-04T07:35:31.145867Z",
     "shell.execute_reply": "2022-04-04T07:35:31.146406Z",
     "shell.execute_reply.started": "2022-04-04T05:49:49.994724Z"
    },
    "papermill": {
     "duration": 657.976028,
     "end_time": "2022-04-04T07:35:31.146593",
     "exception": false,
     "start_time": "2022-04-04T07:24:33.170565",
     "status": "completed"
    },
    "tags": []
   },
   "outputs": [
    {
     "name": "stdout",
     "output_type": "stream",
     "text": [
      "CPU times: user 969 ms, sys: 646 ms, total: 1.62 s\n",
      "Wall time: 10min 57s\n"
     ]
    }
   ],
   "source": [
    "%%time\n",
    "final_predictions = predict_submission()"
   ]
  },
  {
   "cell_type": "code",
   "execution_count": 17,
   "id": "77228886",
   "metadata": {
    "execution": {
     "iopub.execute_input": "2022-04-04T07:35:31.250482Z",
     "iopub.status.busy": "2022-04-04T07:35:31.249576Z",
     "iopub.status.idle": "2022-04-04T07:35:39.264985Z",
     "shell.execute_reply": "2022-04-04T07:35:39.264448Z",
     "shell.execute_reply.started": "2022-04-04T06:01:44.926851Z"
    },
    "papermill": {
     "duration": 8.068187,
     "end_time": "2022-04-04T07:35:39.265117",
     "exception": false,
     "start_time": "2022-04-04T07:35:31.196930",
     "status": "completed"
    },
    "tags": []
   },
   "outputs": [],
   "source": [
    "final_sub = pd.DataFrame(data=np.concatenate((np.array(test_X).reshape(-1,1), np.array(final_predictions)), axis=1).reshape(-1, 2),\n",
    "                         columns=['customer_id', 'prediction'])\n",
    "\n",
    "sample_submission.loc[sample_submission.customer_id.isin(final_sub.customer_id), 'prediction'] = ( \n",
    "    final_sub['prediction']\n",
    "    )\n",
    "sample_submission.to_csv('submission.csv', index=False)"
   ]
  },
  {
   "cell_type": "code",
   "execution_count": 18,
   "id": "6b07ada3",
   "metadata": {
    "execution": {
     "iopub.execute_input": "2022-04-04T07:35:39.367530Z",
     "iopub.status.busy": "2022-04-04T07:35:39.366580Z",
     "iopub.status.idle": "2022-04-04T07:35:47.729477Z",
     "shell.execute_reply": "2022-04-04T07:35:47.730037Z",
     "shell.execute_reply.started": "2022-04-04T06:01:59.126816Z"
    },
    "papermill": {
     "duration": 8.417185,
     "end_time": "2022-04-04T07:35:47.730213",
     "exception": false,
     "start_time": "2022-04-04T07:35:39.313028",
     "status": "completed"
    },
    "tags": []
   },
   "outputs": [
    {
     "name": "stdout",
     "output_type": "stream",
     "text": [
      "t 0.0051678753192868875\n",
      "i 0.005933723515352707 19048\n",
      "c 0.0001270168871568728 5572\n",
      "  \n",
      "0754362003 0697564037 0664405005 0731743001 0682236001 0757903001 0764646003 0762286004 0750397013 0780418001 0809278006 0724906003    5572\n",
      "0120129001 0534164001 0215589001 0300024058 0567532004 0433444001 0510465001 0775382001 0442915001 0752657001 0469562002 0262277011       5\n",
      "0573937001 0294008002 0652924004 0751551001 0368979001 0779551002 0750330002 0652924010 0779554002 0640542002 0294008005 0624257001       4\n",
      "0573937001 0294008002 0652924004 0751551001 0368979001 0779551002 0750330002 0652924010 0640542002 0779554002 0624257001 0294008005       3\n",
      "0573937001 0294008002 0652924004 0751551001 0368979001 0779551002 0750330002 0652924010 0779554002 0624257001 0294008005 0698387001       3\n",
      "                                                                                                                                       ... \n",
      "0699923008 0783707002 0685811002 0853612001 0783707047 0656677019 0501620040 0685816039 0656677022 0606395006 0685811001 0687635010       1\n",
      "0658030011 0399087014 0399087030 0399087010 0399087029 0658030006 0658030020 0399087021 0658030001 0399087001 0658030016 0556260004       1\n",
      "0743594003 0790368001 0754323003 0735121001 0820873001 0537688010 0735122002 0768085001 0819147001 0717879014 0770241001 0788846004       1\n",
      "0721298001 0723173001 0742925003 0733027002 0721298003 0712216008 0775328001 0742924003 0723173006 0712216009 0740943001 0372008001       1\n",
      "0859125001 0817401001 0817472005 0859139001 0862325001 0879781003 0896169002 0827968001 0863937003 0858052001 0883033002 0902107001       1\n",
      "Name: prediction, Length: 63373, dtype: int64\n"
     ]
    }
   ],
   "source": [
    "# local score\n",
    "if VALID:\n",
    "    sub_check = final_sub.copy()\n",
    "    sub_check = sub_check.set_index('customer_id').reset_index()\n",
    "    print(\"t\", mapk(valid.prediction.str.split(), sub_check.prediction.str.split(), k=12))    \n",
    "    print(\"i\", \n",
    "            mapk(valid[valid.customer_id.isin(inactive_users)].prediction.str.split(), \n",
    "               sub_check[sub_check.customer_id.isin(inactive_users)].prediction.str.split(), k=12),\n",
    "            valid[valid.customer_id.isin(inactive_users)].shape[0])\n",
    "    print(\"c\", \n",
    "            mapk(valid[valid.customer_id.isin(cold_users)].prediction.str.split(), \n",
    "               sub_check[sub_check.customer_id.isin(cold_users)].prediction.str.split(), k=12),\n",
    "            valid[valid.customer_id.isin(cold_users)].shape[0])\n",
    "    \n",
    "    print(\"  \")\n",
    "    print(sub_check[\"prediction\"].value_counts())  "
   ]
  },
  {
   "cell_type": "code",
   "execution_count": null,
   "id": "56f59343",
   "metadata": {
    "papermill": {
     "duration": 0.050066,
     "end_time": "2022-04-04T07:35:47.830441",
     "exception": false,
     "start_time": "2022-04-04T07:35:47.780375",
     "status": "completed"
    },
    "tags": []
   },
   "outputs": [],
   "source": []
  }
 ],
 "metadata": {
  "kernelspec": {
   "display_name": "Python 3",
   "language": "python",
   "name": "python3"
  },
  "language_info": {
   "codemirror_mode": {
    "name": "ipython",
    "version": 3
   },
   "file_extension": ".py",
   "mimetype": "text/x-python",
   "name": "python",
   "nbconvert_exporter": "python",
   "pygments_lexer": "ipython3",
   "version": "3.7.12"
  },
  "papermill": {
   "default_parameters": {},
   "duration": 5561.981592,
   "end_time": "2022-04-04T07:35:50.205821",
   "environment_variables": {},
   "exception": null,
   "input_path": "__notebook__.ipynb",
   "output_path": "__notebook__.ipynb",
   "parameters": {},
   "start_time": "2022-04-04T06:03:08.224229",
   "version": "2.3.3"
  }
 },
 "nbformat": 4,
 "nbformat_minor": 5
}
