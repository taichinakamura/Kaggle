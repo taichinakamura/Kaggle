{
 "cells": [
  {
   "cell_type": "markdown",
   "id": "2da9063f",
   "metadata": {
    "papermill": {
     "duration": 0.019161,
     "end_time": "2022-04-06T12:18:10.454762",
     "exception": false,
     "start_time": "2022-04-06T12:18:10.435601",
     "status": "completed"
    },
    "tags": []
   },
   "source": [
    "- https://making.lyst.com/lightfm/docs/lightfm.html\n",
    "- modify mistake in valid label\n",
    "- consider item, user features\n",
    "- change weight and range\n",
    "- add more features"
   ]
  },
  {
   "cell_type": "code",
   "execution_count": 1,
   "id": "f3f91884",
   "metadata": {
    "execution": {
     "iopub.execute_input": "2022-04-06T12:18:10.505500Z",
     "iopub.status.busy": "2022-04-06T12:18:10.504623Z",
     "iopub.status.idle": "2022-04-06T12:18:11.661364Z",
     "shell.execute_reply": "2022-04-06T12:18:11.662809Z",
     "shell.execute_reply.started": "2022-04-06T10:26:34.258997Z"
    },
    "papermill": {
     "duration": 1.187777,
     "end_time": "2022-04-06T12:18:11.663263",
     "exception": false,
     "start_time": "2022-04-06T12:18:10.475486",
     "status": "completed"
    },
    "tags": []
   },
   "outputs": [],
   "source": [
    "import os\n",
    "import tqdm\n",
    "\n",
    "import numpy as np\n",
    "import pandas as pd\n",
    "from lightfm import LightFM\n",
    "from lightfm.data import Dataset\n",
    "from sklearn import preprocessing\n",
    "\n",
    "import itertools\n",
    "from multiprocessing import Pool\n",
    "\n",
    "SEED = 42\n",
    "np.random.seed(SEED)\n",
    "os.environ['PYTHONHASHSEED'] = str(SEED)\n",
    "\n",
    "VALID = True"
   ]
  },
  {
   "cell_type": "code",
   "execution_count": 2,
   "id": "ab2c7e1b",
   "metadata": {
    "execution": {
     "iopub.execute_input": "2022-04-06T12:18:11.716318Z",
     "iopub.status.busy": "2022-04-06T12:18:11.715108Z",
     "iopub.status.idle": "2022-04-06T12:18:11.723875Z",
     "shell.execute_reply": "2022-04-06T12:18:11.724489Z",
     "shell.execute_reply.started": "2022-04-06T10:26:35.397734Z"
    },
    "papermill": {
     "duration": 0.035965,
     "end_time": "2022-04-06T12:18:11.724675",
     "exception": false,
     "start_time": "2022-04-06T12:18:11.688710",
     "status": "completed"
    },
    "tags": []
   },
   "outputs": [],
   "source": [
    "def apk(actual, predicted, k=12):\n",
    "    if len(predicted)>k:\n",
    "        predicted = predicted[:k]\n",
    "        \n",
    "    score = 0.0\n",
    "    num_hits = 0.0\n",
    "    \n",
    "    for i,p in enumerate(predicted):\n",
    "        if p in actual and p not in predicted[:i]:\n",
    "            num_hits += 1.0\n",
    "            score += num_hits / (i+1.0)\n",
    "\n",
    "    if not actual:\n",
    "        return 0.0\n",
    "\n",
    "    return score / min(len(actual), k)\n",
    "\n",
    "\n",
    "def mapk(actual, predicted, k=12):\n",
    "    \"\"\"\n",
    "    Computes the mean average precision at k.\n",
    "    This function computes the mean average prescision at k between two lists\n",
    "    of lists of items.\n",
    "    Parameters\n",
    "    ----------\n",
    "    actual : list\n",
    "             A list of lists of elements that are to be predicted \n",
    "             (order doesn't matter in the lists)\n",
    "    predicted : list\n",
    "                A list of lists of predicted elements\n",
    "                (order matters in the lists)\n",
    "    k : int, optional\n",
    "        The maximum number of predicted elements\n",
    "    Returns\n",
    "    -------\n",
    "    score : double\n",
    "            The mean average precision at k over the input lists\n",
    "    \"\"\"\n",
    "    return np.mean([apk(a,p,k) for a,p in zip(actual, predicted)])"
   ]
  },
  {
   "cell_type": "markdown",
   "id": "502375dd",
   "metadata": {
    "papermill": {
     "duration": 0.019365,
     "end_time": "2022-04-06T12:18:11.765244",
     "exception": false,
     "start_time": "2022-04-06T12:18:11.745879",
     "status": "completed"
    },
    "tags": []
   },
   "source": [
    "## Configs"
   ]
  },
  {
   "cell_type": "code",
   "execution_count": 3,
   "id": "4320fbb4",
   "metadata": {
    "execution": {
     "iopub.execute_input": "2022-04-06T12:18:11.804992Z",
     "iopub.status.busy": "2022-04-06T12:18:11.804334Z",
     "iopub.status.idle": "2022-04-06T12:18:11.808192Z",
     "shell.execute_reply": "2022-04-06T12:18:11.808596Z",
     "shell.execute_reply.started": "2022-04-06T10:26:35.408939Z"
    },
    "papermill": {
     "duration": 0.025194,
     "end_time": "2022-04-06T12:18:11.808771",
     "exception": false,
     "start_time": "2022-04-06T12:18:11.783577",
     "status": "completed"
    },
    "tags": []
   },
   "outputs": [],
   "source": [
    "# default number of recommendations\n",
    "K = 12\n",
    "EPOCHS = 100\n",
    "LEARNING_RATE = 0.1 \n",
    "NO_COMPONENTS = 50\n",
    "NO_THREADS = 32\n",
    "ITEM_ALPHA=1e-6\n",
    "USER_ALPHA=1e-6\n",
    "\n",
    "num_cores=4"
   ]
  },
  {
   "cell_type": "markdown",
   "id": "3ae0550d",
   "metadata": {
    "papermill": {
     "duration": 0.017633,
     "end_time": "2022-04-06T12:18:11.844323",
     "exception": false,
     "start_time": "2022-04-06T12:18:11.826690",
     "status": "completed"
    },
    "tags": []
   },
   "source": [
    "## Load the data"
   ]
  },
  {
   "cell_type": "code",
   "execution_count": 4,
   "id": "41cec952",
   "metadata": {
    "execution": {
     "iopub.execute_input": "2022-04-06T12:18:11.884487Z",
     "iopub.status.busy": "2022-04-06T12:18:11.883616Z",
     "iopub.status.idle": "2022-04-06T12:19:32.129508Z",
     "shell.execute_reply": "2022-04-06T12:19:32.128941Z",
     "shell.execute_reply.started": "2022-04-06T10:26:35.422605Z"
    },
    "papermill": {
     "duration": 80.267279,
     "end_time": "2022-04-06T12:19:32.129660",
     "exception": false,
     "start_time": "2022-04-06T12:18:11.862381",
     "status": "completed"
    },
    "tags": []
   },
   "outputs": [],
   "source": [
    "main_dir = \"../input/h-and-m-personalized-fashion-recommendations\"\n",
    "images_dir = main_dir+\"/images/\" \n",
    "customers = pd.read_csv(main_dir+\"/customers.csv\")\n",
    "articles = pd.read_csv(main_dir+\"/articles.csv\", dtype={'article_id': str})\n",
    "sample_submission = pd.read_csv(main_dir+\"/sample_submission.csv\", dtype={'article_id': str})\n",
    "train = pd.read_csv(main_dir+'/transactions_train.csv',  dtype={'article_id': str}, parse_dates=['t_dat'])"
   ]
  },
  {
   "cell_type": "markdown",
   "id": "608dcfcb",
   "metadata": {
    "papermill": {
     "duration": 0.018163,
     "end_time": "2022-04-06T12:19:32.166563",
     "exception": false,
     "start_time": "2022-04-06T12:19:32.148400",
     "status": "completed"
    },
    "tags": []
   },
   "source": [
    "# features"
   ]
  },
  {
   "cell_type": "code",
   "execution_count": 5,
   "id": "b6a70f83",
   "metadata": {
    "execution": {
     "iopub.execute_input": "2022-04-06T12:19:32.205503Z",
     "iopub.status.busy": "2022-04-06T12:19:32.204906Z",
     "iopub.status.idle": "2022-04-06T12:19:39.084368Z",
     "shell.execute_reply": "2022-04-06T12:19:39.083716Z",
     "shell.execute_reply.started": "2022-04-06T10:28:07.978365Z"
    },
    "papermill": {
     "duration": 6.899977,
     "end_time": "2022-04-06T12:19:39.084509",
     "exception": false,
     "start_time": "2022-04-06T12:19:32.184532",
     "status": "completed"
    },
    "tags": []
   },
   "outputs": [
    {
     "name": "stderr",
     "output_type": "stream",
     "text": [
      "/opt/conda/lib/python3.7/site-packages/ipykernel_launcher.py:4: FutureWarning: Series.dt.weekofyear and Series.dt.week have been deprecated.  Please use Series.dt.isocalendar().week instead.\n",
      "  after removing the cwd from sys.path.\n"
     ]
    }
   ],
   "source": [
    "train[\"t_dat\"] = pd.to_datetime(train[\"t_dat\"])\n",
    "\n",
    "date_week_df = train.drop_duplicates(\"t_dat\")[[\"t_dat\"]].reset_index(drop=True)\n",
    "date_week_df['week_no'] = (date_week_df['t_dat'] + pd.DateOffset(days=5)).dt.week\n",
    "date_week_df[\"week_no\"] = date_week_df[\"week_no\"].diff(1)\n",
    "date_week_df[\"week_no\"].fillna(0, inplace=True)\n",
    "date_week_df[\"week_no\"] = date_week_df[\"week_no\"] != 0\n",
    "date_week_df[\"week_no\"] = date_week_df[\"week_no\"].cumsum()\n",
    "\n",
    "train = pd.merge(train, date_week_df, on=\"t_dat\", how=\"left\")\n",
    "test_week = train.week_no.max()\n",
    "\n",
    "del date_week_df"
   ]
  },
  {
   "cell_type": "code",
   "execution_count": 6,
   "id": "9a021555",
   "metadata": {
    "execution": {
     "iopub.execute_input": "2022-04-06T12:19:39.135440Z",
     "iopub.status.busy": "2022-04-06T12:19:39.129741Z",
     "iopub.status.idle": "2022-04-06T12:21:05.665522Z",
     "shell.execute_reply": "2022-04-06T12:21:05.666042Z",
     "shell.execute_reply.started": "2022-04-06T10:30:59.667261Z"
    },
    "papermill": {
     "duration": 86.559466,
     "end_time": "2022-04-06T12:21:05.666226",
     "exception": false,
     "start_time": "2022-04-06T12:19:39.106760",
     "status": "completed"
    },
    "tags": []
   },
   "outputs": [],
   "source": [
    "if VALID:\n",
    "    tmp = train[train.week_no < test_week].reset_index(drop=True).copy()\n",
    "else:\n",
    "    tmp = train.copy()\n",
    "\n",
    "# count encoding\n",
    "tmp = pd.merge(tmp, articles[[\"article_id\", \"index_group_name\"]], on='article_id', how='left')\n",
    "mp = {'Ladieswear':1, 'Baby/Children':0.5, 'Menswear':0, 'Sport':0.5, 'Divided':0.5} \n",
    "tmp[\"gender\"] = tmp[\"index_group_name\"].map(mp)\n",
    "user_g = tmp.groupby('customer_id').gender.mean().reset_index()\n",
    "    \n",
    "item_count = tmp[\"article_id\"].value_counts().reset_index()\n",
    "item_count.columns = [\"article_id\", \"item_count\"]\n",
    "user_count = tmp[\"customer_id\"].value_counts().reset_index()\n",
    "user_count.columns = [\"customer_id\", \"user_count\"]\n",
    "\n",
    "tmp1 = tmp[tmp.sales_channel_id==1][\"article_id\"].value_counts().reset_index()\n",
    "tmp1.columns = [\"article_id\", \"count_in1\"]\n",
    "\n",
    "tmp2 = tmp[tmp.sales_channel_id==2][\"article_id\"].value_counts().reset_index()\n",
    "tmp2.columns = [\"article_id\", \"count_in2\"]\n",
    "\n",
    "sales_channel_count = pd.merge(tmp1, tmp2, on=\"article_id\", how=\"outer\").fillna(0)\n",
    "sales_channel_count[\"channel_ratio\"] = sales_channel_count[\"count_in1\"] / (sales_channel_count[\"count_in2\"]+0.1)\n",
    "\n",
    "user_last_week = tmp.groupby(\"customer_id\")[\"week_no\"].max().reset_index()\n",
    "user_last_week.columns = [\"customer_id\", \"last_week\"]\n",
    "\n",
    "user_num_week = tmp.groupby(\"customer_id\")[\"week_no\"].nunique().reset_index()\n",
    "user_num_week.columns = [\"customer_id\", \"week_num\"]\n",
    "\n",
    "del tmp1, tmp2, tmp\n",
    "\n",
    "customers = pd.merge(customers, user_count, on = \"customer_id\", how=\"left\")\n",
    "customers[\"user_count\"].fillna(0, inplace=True)\n",
    "customers = pd.merge(customers, user_last_week, on = \"customer_id\", how=\"left\")\n",
    "customers[\"last_week\"].fillna(-1, inplace=True)\n",
    "customers = pd.merge(customers, user_num_week, on = \"customer_id\", how=\"left\")\n",
    "customers[\"week_num\"].fillna(-1, inplace=True)\n",
    "customers = pd.merge(customers, user_g, on = \"customer_id\", how=\"left\")\n",
    "customers[\"gender\"].fillna(0.75, inplace=True)\n",
    "del user_count, user_last_week, user_num_week, user_g\n",
    "\n",
    "articles = pd.merge(articles, item_count, on = \"article_id\", how=\"left\")\n",
    "articles = pd.merge(articles, sales_channel_count, on = \"article_id\", how=\"left\")\n",
    "articles[\"item_count\"].fillna(0, inplace=True)\n",
    "articles.fillna(-1, inplace=True)\n",
    "del item_count, sales_channel_count"
   ]
  },
  {
   "cell_type": "code",
   "execution_count": 7,
   "id": "6957ee78",
   "metadata": {
    "execution": {
     "iopub.execute_input": "2022-04-06T12:21:05.707514Z",
     "iopub.status.busy": "2022-04-06T12:21:05.706828Z",
     "iopub.status.idle": "2022-04-06T12:21:05.747638Z",
     "shell.execute_reply": "2022-04-06T12:21:05.747148Z",
     "shell.execute_reply.started": "2022-04-06T10:35:06.856776Z"
    },
    "papermill": {
     "duration": 0.062335,
     "end_time": "2022-04-06T12:21:05.747803",
     "exception": false,
     "start_time": "2022-04-06T12:21:05.685468",
     "status": "completed"
    },
    "tags": []
   },
   "outputs": [
    {
     "data": {
      "text/plain": [
       "['product_code',\n",
       " 'product_type_no',\n",
       " 'graphical_appearance_no',\n",
       " 'colour_group_code',\n",
       " 'perceived_colour_value_id',\n",
       " 'perceived_colour_master_id',\n",
       " 'department_no',\n",
       " 'index_group_no',\n",
       " 'section_no',\n",
       " 'garment_group_no',\n",
       " 'item_count',\n",
       " 'count_in1',\n",
       " 'count_in2',\n",
       " 'channel_ratio']"
      ]
     },
     "execution_count": 7,
     "metadata": {},
     "output_type": "execute_result"
    }
   ],
   "source": [
    "# item\n",
    "article_columns = [i for i in articles.columns if \"int\" in str(articles[i].dtype)]\n",
    "article_columns += [\"item_count\", \"count_in1\", \"count_in2\", \"channel_ratio\"]\n",
    "articles = articles[['article_id'] + article_columns]\n",
    "\n",
    "article_columns"
   ]
  },
  {
   "cell_type": "code",
   "execution_count": 8,
   "id": "ee36d0cc",
   "metadata": {
    "execution": {
     "iopub.execute_input": "2022-04-06T12:21:05.795549Z",
     "iopub.status.busy": "2022-04-06T12:21:05.793524Z",
     "iopub.status.idle": "2022-04-06T12:21:17.131933Z",
     "shell.execute_reply": "2022-04-06T12:21:17.131417Z",
     "shell.execute_reply.started": "2022-04-06T10:35:07.225632Z"
    },
    "papermill": {
     "duration": 11.364552,
     "end_time": "2022-04-06T12:21:17.132081",
     "exception": false,
     "start_time": "2022-04-06T12:21:05.767529",
     "status": "completed"
    },
    "tags": []
   },
   "outputs": [
    {
     "data": {
      "text/plain": [
       "['FN',\n",
       " 'Active',\n",
       " 'club_member_status',\n",
       " 'fashion_news_frequency',\n",
       " 'postal_code',\n",
       " 'age',\n",
       " 'user_count',\n",
       " 'last_week',\n",
       " 'week_num',\n",
       " 'gender']"
      ]
     },
     "execution_count": 8,
     "metadata": {},
     "output_type": "execute_result"
    }
   ],
   "source": [
    "# user\n",
    "user_columns = ['FN', 'Active', 'club_member_status', 'fashion_news_frequency', 'postal_code']\n",
    "customers.fillna(-1, inplace=True)\n",
    "for feat in user_columns:\n",
    "    lbl = preprocessing.LabelEncoder()\n",
    "    lbl.fit(list(customers[feat]))\n",
    "    customers[feat] = lbl.transform(list(customers[feat]))\n",
    "user_columns += ['age', \"user_count\", \"last_week\", \"week_num\", \"gender\"]\n",
    "user_columns"
   ]
  },
  {
   "cell_type": "markdown",
   "id": "aac561ee",
   "metadata": {
    "papermill": {
     "duration": 0.019267,
     "end_time": "2022-04-06T12:21:17.170673",
     "exception": false,
     "start_time": "2022-04-06T12:21:17.151406",
     "status": "completed"
    },
    "tags": []
   },
   "source": [
    "# dataset"
   ]
  },
  {
   "cell_type": "code",
   "execution_count": 9,
   "id": "c628df79",
   "metadata": {
    "execution": {
     "iopub.execute_input": "2022-04-06T12:21:17.212040Z",
     "iopub.status.busy": "2022-04-06T12:21:17.211410Z",
     "iopub.status.idle": "2022-04-06T12:21:18.904233Z",
     "shell.execute_reply": "2022-04-06T12:21:18.903604Z",
     "shell.execute_reply.started": "2022-04-06T10:35:21.073896Z"
    },
    "papermill": {
     "duration": 1.714627,
     "end_time": "2022-04-06T12:21:18.904375",
     "exception": false,
     "start_time": "2022-04-06T12:21:17.189748",
     "status": "completed"
    },
    "tags": []
   },
   "outputs": [
    {
     "name": "stdout",
     "output_type": "stream",
     "text": [
      "Number of users: 1371980, Number of topics: 105542.\n"
     ]
    }
   ],
   "source": [
    "dataset = Dataset()\n",
    "dataset.fit(users=customers['customer_id'], \n",
    "            items=articles['article_id'],\n",
    "            user_features = user_columns,\n",
    "            item_features = article_columns) \n",
    "\n",
    "num_users, num_topics = dataset.interactions_shape()\n",
    "print(f'Number of users: {num_users}, Number of topics: {num_topics}.')\n",
    "\n",
    "#Get the mappings\n",
    "uid_map, ufeature_map, iid_map, ifeature_map = dataset.mapping() \n",
    "inv_uid_map = {v:k for k, v in uid_map.items()}\n",
    "inv_iid_map = {v:k for k, v in iid_map.items()}"
   ]
  },
  {
   "cell_type": "code",
   "execution_count": 10,
   "id": "775ba120",
   "metadata": {
    "execution": {
     "iopub.execute_input": "2022-04-06T12:21:18.947171Z",
     "iopub.status.busy": "2022-04-06T12:21:18.946531Z",
     "iopub.status.idle": "2022-04-06T12:21:23.592637Z",
     "shell.execute_reply": "2022-04-06T12:21:23.592144Z",
     "shell.execute_reply.started": "2022-04-06T10:35:23.200052Z"
    },
    "papermill": {
     "duration": 4.668442,
     "end_time": "2022-04-06T12:21:23.592778",
     "exception": false,
     "start_time": "2022-04-06T12:21:18.924336",
     "status": "completed"
    },
    "tags": []
   },
   "outputs": [],
   "source": [
    "item_last_week = train.groupby(\"article_id\")[\"week_no\"].max().reset_index()\n",
    "weak_weight_items = item_last_week[item_last_week.week_no > 80][\"article_id\"].values\n",
    "weak_weight_id = [iid_map[ele] for ele in weak_weight_items]\n",
    "del item_last_week"
   ]
  },
  {
   "cell_type": "code",
   "execution_count": 11,
   "id": "f75a16dd",
   "metadata": {
    "execution": {
     "iopub.execute_input": "2022-04-06T12:21:23.655222Z",
     "iopub.status.busy": "2022-04-06T12:21:23.654174Z",
     "iopub.status.idle": "2022-04-06T12:27:04.738105Z",
     "shell.execute_reply": "2022-04-06T12:27:04.739039Z",
     "shell.execute_reply.started": "2022-04-06T10:35:29.411094Z"
    },
    "papermill": {
     "duration": 341.126943,
     "end_time": "2022-04-06T12:27:04.739533",
     "exception": false,
     "start_time": "2022-04-06T12:21:23.612590",
     "status": "completed"
    },
    "tags": []
   },
   "outputs": [
    {
     "name": "stdout",
     "output_type": "stream",
     "text": [
      "(1371980, 105542)\n"
     ]
    }
   ],
   "source": [
    "if VALID:\n",
    "    train_set = train[train.week_no < test_week].copy()\n",
    "    train_ser = train_set.drop_duplicates([\"customer_id\", \"article_id\"]).reset_index(drop=True)\n",
    "    (interactions, weights) = dataset.build_interactions(train_set.iloc[:, 1:3].values)\n",
    "\n",
    "    valid = train[train.week_no == test_week].groupby('customer_id')['article_id'].apply(list).reset_index()\n",
    "    valid = valid.rename({'article_id':'prediction'},axis=1)\n",
    "    valid['prediction'] = valid.prediction.apply(lambda x: ' '.join([str(k) for k in x]))\n",
    "\n",
    "    inactive_users = list(set(train_set.customer_id) - set(train_set[train_set.week_no > test_week - 10][\"customer_id\"]))\n",
    "    cold_users = list(set(valid.customer_id) - set(train_set.customer_id))\n",
    "    del train_set\n",
    "else:\n",
    "    (interactions, weights) = dataset.build_interactions(train.iloc[:, 1:3].values)\n",
    "    \n",
    "dataset.build_item_features(((articles.iloc[index][\"article_id\"], article_columns) for index in range(articles.shape[0])))\n",
    "dataset.build_user_features(((customers.iloc[index][\"customer_id\"], user_columns) for index in range(customers.shape[0])))\n",
    "\n",
    "print(interactions.shape)\n",
    "del train"
   ]
  },
  {
   "cell_type": "code",
   "execution_count": 12,
   "id": "0b868a56",
   "metadata": {
    "execution": {
     "iopub.execute_input": "2022-04-06T12:27:04.785064Z",
     "iopub.status.busy": "2022-04-06T12:27:04.784085Z",
     "iopub.status.idle": "2022-04-06T12:27:11.313155Z",
     "shell.execute_reply": "2022-04-06T12:27:11.312480Z",
     "shell.execute_reply.started": "2022-04-06T10:42:55.155782Z"
    },
    "papermill": {
     "duration": 6.552888,
     "end_time": "2022-04-06T12:27:11.313298",
     "exception": false,
     "start_time": "2022-04-06T12:27:04.760410",
     "status": "completed"
    },
    "tags": []
   },
   "outputs": [],
   "source": [
    "change_index = np.isin(weights.col, weak_weight_id)\n",
    "weights.data[change_index] = 2.0 "
   ]
  },
  {
   "cell_type": "markdown",
   "id": "da05511e",
   "metadata": {
    "papermill": {
     "duration": 0.019308,
     "end_time": "2022-04-06T12:27:11.353274",
     "exception": false,
     "start_time": "2022-04-06T12:27:11.333966",
     "status": "completed"
    },
    "tags": []
   },
   "source": [
    "# fitting"
   ]
  },
  {
   "cell_type": "code",
   "execution_count": 13,
   "id": "de114bb6",
   "metadata": {
    "execution": {
     "iopub.execute_input": "2022-04-06T12:27:11.399118Z",
     "iopub.status.busy": "2022-04-06T12:27:11.398427Z",
     "iopub.status.idle": "2022-04-06T13:43:48.971129Z",
     "shell.execute_reply": "2022-04-06T13:43:48.968693Z",
     "shell.execute_reply.started": "2022-04-06T10:43:01.681663Z"
    },
    "papermill": {
     "duration": 4597.598569,
     "end_time": "2022-04-06T13:43:48.971324",
     "exception": false,
     "start_time": "2022-04-06T12:27:11.372755",
     "status": "completed"
    },
    "tags": []
   },
   "outputs": [
    {
     "name": "stderr",
     "output_type": "stream",
     "text": [
      "Epoch: 100%|██████████| 100/100 [1:16:36<00:00, 45.96s/it]\n"
     ]
    },
    {
     "data": {
      "text/plain": [
       "<lightfm.lightfm.LightFM at 0x7efdb1f03290>"
      ]
     },
     "execution_count": 13,
     "metadata": {},
     "output_type": "execute_result"
    }
   ],
   "source": [
    "model = LightFM(loss='bpr', \n",
    "                no_components=NO_COMPONENTS, \n",
    "                learning_rate=LEARNING_RATE,                 \n",
    "                random_state=np.random.RandomState(SEED),\n",
    "                user_alpha=USER_ALPHA,\n",
    "                item_alpha=ITEM_ALPHA\n",
    "               )\n",
    "\n",
    "model.fit(interactions=interactions, \n",
    "          epochs=EPOCHS, \n",
    "          verbose=1, \n",
    "          num_threads=NO_THREADS,\n",
    "          sample_weight=weights,\n",
    "         )"
   ]
  },
  {
   "cell_type": "markdown",
   "id": "835dc93f",
   "metadata": {
    "papermill": {
     "duration": 0.047455,
     "end_time": "2022-04-06T13:43:49.066462",
     "exception": false,
     "start_time": "2022-04-06T13:43:49.019007",
     "status": "completed"
    },
    "tags": []
   },
   "source": [
    "# Submission"
   ]
  },
  {
   "cell_type": "code",
   "execution_count": 14,
   "id": "37a66487",
   "metadata": {
    "execution": {
     "iopub.execute_input": "2022-04-06T13:43:49.167933Z",
     "iopub.status.busy": "2022-04-06T13:43:49.167009Z",
     "iopub.status.idle": "2022-04-06T13:43:49.328382Z",
     "shell.execute_reply": "2022-04-06T13:43:49.327882Z",
     "shell.execute_reply.started": "2022-04-06T12:01:45.765089Z"
    },
    "papermill": {
     "duration": 0.213586,
     "end_time": "2022-04-06T13:43:49.328534",
     "exception": false,
     "start_time": "2022-04-06T13:43:49.114948",
     "status": "completed"
    },
    "tags": []
   },
   "outputs": [
    {
     "name": "stdout",
     "output_type": "stream",
     "text": [
      "68984\n"
     ]
    }
   ],
   "source": [
    "if VALID:\n",
    "    test_X = valid.customer_id.values\n",
    "else:\n",
    "    test_X = sample_submission.customer_id.values    \n",
    "\n",
    "lfn_user = lambda x: uid_map[x]\n",
    "test_X_m = [lfn_user(tx) for tx in test_X]\n",
    "\n",
    "print(len(test_X_m))"
   ]
  },
  {
   "cell_type": "code",
   "execution_count": 15,
   "id": "2c3a62fd",
   "metadata": {
    "execution": {
     "iopub.execute_input": "2022-04-06T13:43:49.985089Z",
     "iopub.status.busy": "2022-04-06T13:43:49.984089Z",
     "iopub.status.idle": "2022-04-06T13:43:49.986421Z",
     "shell.execute_reply": "2022-04-06T13:43:49.986999Z",
     "shell.execute_reply.started": "2022-04-06T12:01:46.094763Z"
    },
    "papermill": {
     "duration": 0.610714,
     "end_time": "2022-04-06T13:43:49.987176",
     "exception": false,
     "start_time": "2022-04-06T13:43:49.376462",
     "status": "completed"
    },
    "tags": []
   },
   "outputs": [],
   "source": [
    "def predict_submission():\n",
    "    df_split = np.array_split(test_X_m, num_cores)\n",
    "    chunk_size = len(df_split[0])\n",
    "    \n",
    "    chunk1 = list(df_split[0])\n",
    "    chunk2 = list(df_split[1])\n",
    "    chunk3 = list(df_split[2])\n",
    "    chunk4 = list(df_split[3])\n",
    "    \n",
    "    #list of items for multiprocessing, 4 since using 4 cores\n",
    "    all_chunks = [chunk1, chunk2, chunk3, chunk4]\n",
    "    \n",
    "    pool = Pool(num_cores)\n",
    "    result = pool.map(make_predict, all_chunks)\n",
    "    \n",
    "    pred_combined = list(itertools.chain(result[0], result[1], result[2], result[3]))\n",
    "\n",
    "    return pred_combined\n",
    "\n",
    "def make_predict(usr_chunk):\n",
    "    customer_ids = []\n",
    "    preds = []\n",
    "    item_array = np.array(list(iid_map.values()))\n",
    "\n",
    "    for usr_ in usr_chunk:\n",
    "        m_opt = model.predict(np.array([usr_] * len(iid_map)), item_array)\n",
    "        pred = np.argsort(-m_opt)[:K]\n",
    "        preds.append(' '.join([inv_iid_map[p] for p in pred]).strip())\n",
    "    \n",
    "    preds = np.array(preds).reshape(-1, 1)\n",
    "    return preds"
   ]
  },
  {
   "cell_type": "code",
   "execution_count": 16,
   "id": "f6f84abf",
   "metadata": {
    "execution": {
     "iopub.execute_input": "2022-04-06T13:43:50.123573Z",
     "iopub.status.busy": "2022-04-06T13:43:50.087571Z",
     "iopub.status.idle": "2022-04-06T13:54:49.270690Z",
     "shell.execute_reply": "2022-04-06T13:54:49.271443Z",
     "shell.execute_reply.started": "2022-04-06T12:01:46.111919Z"
    },
    "papermill": {
     "duration": 659.236479,
     "end_time": "2022-04-06T13:54:49.271684",
     "exception": false,
     "start_time": "2022-04-06T13:43:50.035205",
     "status": "completed"
    },
    "tags": []
   },
   "outputs": [
    {
     "name": "stdout",
     "output_type": "stream",
     "text": [
      "CPU times: user 904 ms, sys: 714 ms, total: 1.62 s\n",
      "Wall time: 10min 59s\n"
     ]
    }
   ],
   "source": [
    "%%time\n",
    "final_predictions = predict_submission()"
   ]
  },
  {
   "cell_type": "code",
   "execution_count": 17,
   "id": "00c44ad8",
   "metadata": {
    "execution": {
     "iopub.execute_input": "2022-04-06T13:54:49.380761Z",
     "iopub.status.busy": "2022-04-06T13:54:49.380124Z",
     "iopub.status.idle": "2022-04-06T13:54:57.035398Z",
     "shell.execute_reply": "2022-04-06T13:54:57.035915Z",
     "shell.execute_reply.started": "2022-04-06T12:13:47.177655Z"
    },
    "papermill": {
     "duration": 7.714772,
     "end_time": "2022-04-06T13:54:57.036111",
     "exception": false,
     "start_time": "2022-04-06T13:54:49.321339",
     "status": "completed"
    },
    "tags": []
   },
   "outputs": [],
   "source": [
    "final_sub = pd.DataFrame(data=np.concatenate((np.array(test_X).reshape(-1,1), np.array(final_predictions)), axis=1).reshape(-1, 2),\n",
    "                         columns=['customer_id', 'prediction'])\n",
    "\n",
    "sample_submission.loc[sample_submission.customer_id.isin(final_sub.customer_id), 'prediction'] = ( \n",
    "    final_sub['prediction']\n",
    "    )\n",
    "sample_submission.to_csv('submission.csv', index=False)"
   ]
  },
  {
   "cell_type": "code",
   "execution_count": 18,
   "id": "f4513f29",
   "metadata": {
    "execution": {
     "iopub.execute_input": "2022-04-06T13:54:57.142690Z",
     "iopub.status.busy": "2022-04-06T13:54:57.137190Z",
     "iopub.status.idle": "2022-04-06T13:55:05.536161Z",
     "shell.execute_reply": "2022-04-06T13:55:05.535519Z",
     "shell.execute_reply.started": "2022-04-06T12:14:01.368145Z"
    },
    "papermill": {
     "duration": 8.45153,
     "end_time": "2022-04-06T13:55:05.536305",
     "exception": false,
     "start_time": "2022-04-06T13:54:57.084775",
     "status": "completed"
    },
    "tags": []
   },
   "outputs": [
    {
     "name": "stdout",
     "output_type": "stream",
     "text": [
      "t 0.005875104845834162\n",
      "i 0.006344011154138389 19048\n",
      "c 4.839840738081944e-05 5572\n",
      "  \n",
      "0754362003 0731743001 0376172001 0731743004 0676111001 0569244002 0732108001 0649551007 0428291001 0768591002 0500435039 0780418001    5572\n",
      "0534164001 0120129001 0215589001 0300024058 0775382001 0567532004 0752657001 0433444001 0510465001 0469562002 0262277011 0341129001       3\n",
      "0758050001 0758049001 0758064001 0758060001 0758040001 0758043001 0758088002 0758089002 0758084002 0758126002 0758064002 0758060002       3\n",
      "0120129001 0534164001 0215589001 0567532004 0752657001 0300024058 0510465001 0775382001 0433444001 0341129001 0469562002 0442915001       2\n",
      "0120129001 0534164001 0215589001 0300024058 0567532004 0775382001 0752657001 0433444001 0510465001 0262277011 0469562002 0442915001       2\n",
      "                                                                                                                                       ... \n",
      "0783707002 0699923008 0783707047 0742400042 0685811002 0685816017 0656677019 0763275001 0684021068 0656677022 0501620040 0853612001       1\n",
      "0658030011 0399087014 0399087030 0658030020 0658030006 0658030016 0399087010 0658030001 0399087029 0658030005 0658030029 0731160005       1\n",
      "0819147001 0735121001 0735122002 0712846001 0838787005 0865520003 0863001001 0855249006 0788846004 0735121003 0820873001 0829017007       1\n",
      "0740943001 0733027002 0775328001 0712216011 0712216008 0781180002 0723173001 0742912003 0762188001 0742916003 0712216009 0723173006       1\n",
      "0879781003 0896169002 0879781002 0863937003 0817472005 0817401001 0764073002 0918836001 0843793004 0915529001 0915529003 0800691007       1\n",
      "Name: prediction, Length: 63403, dtype: int64\n"
     ]
    }
   ],
   "source": [
    "# local score\n",
    "if VALID:\n",
    "    sub_check = final_sub.copy()\n",
    "    sub_check = sub_check.set_index('customer_id').reset_index()\n",
    "    print(\"t\", mapk(valid.prediction.str.split(), sub_check.prediction.str.split(), k=12))    \n",
    "    print(\"i\", \n",
    "            mapk(valid[valid.customer_id.isin(inactive_users)].prediction.str.split(), \n",
    "               sub_check[sub_check.customer_id.isin(inactive_users)].prediction.str.split(), k=12),\n",
    "            valid[valid.customer_id.isin(inactive_users)].shape[0])\n",
    "    print(\"c\", \n",
    "            mapk(valid[valid.customer_id.isin(cold_users)].prediction.str.split(), \n",
    "               sub_check[sub_check.customer_id.isin(cold_users)].prediction.str.split(), k=12),\n",
    "            valid[valid.customer_id.isin(cold_users)].shape[0])\n",
    "    \n",
    "    print(\"  \")\n",
    "    print(sub_check[\"prediction\"].value_counts())  "
   ]
  },
  {
   "cell_type": "code",
   "execution_count": null,
   "id": "4f4c16c2",
   "metadata": {
    "papermill": {
     "duration": 0.048503,
     "end_time": "2022-04-06T13:55:05.634494",
     "exception": false,
     "start_time": "2022-04-06T13:55:05.585991",
     "status": "completed"
    },
    "tags": []
   },
   "outputs": [],
   "source": []
  }
 ],
 "metadata": {
  "kernelspec": {
   "display_name": "Python 3",
   "language": "python",
   "name": "python3"
  },
  "language_info": {
   "codemirror_mode": {
    "name": "ipython",
    "version": 3
   },
   "file_extension": ".py",
   "mimetype": "text/x-python",
   "name": "python",
   "nbconvert_exporter": "python",
   "pygments_lexer": "ipython3",
   "version": "3.7.12"
  },
  "papermill": {
   "default_parameters": {},
   "duration": 5827.002125,
   "end_time": "2022-04-06T13:55:08.606388",
   "environment_variables": {},
   "exception": null,
   "input_path": "__notebook__.ipynb",
   "output_path": "__notebook__.ipynb",
   "parameters": {},
   "start_time": "2022-04-06T12:18:01.604263",
   "version": "2.3.3"
  }
 },
 "nbformat": 4,
 "nbformat_minor": 5
}
