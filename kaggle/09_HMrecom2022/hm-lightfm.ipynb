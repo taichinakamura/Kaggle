{
 "cells": [
  {
   "cell_type": "markdown",
   "id": "ddaa9f55",
   "metadata": {
    "papermill": {
     "duration": 0.0258,
     "end_time": "2022-04-04T11:28:33.427613",
     "exception": false,
     "start_time": "2022-04-04T11:28:33.401813",
     "status": "completed"
    },
    "tags": []
   },
   "source": [
    "- https://making.lyst.com/lightfm/docs/lightfm.html\n",
    "- modify mistake in valid label\n",
    "- consider item, user features"
   ]
  },
  {
   "cell_type": "code",
   "execution_count": 1,
   "id": "622a28c7",
   "metadata": {
    "execution": {
     "iopub.execute_input": "2022-04-04T11:28:33.490418Z",
     "iopub.status.busy": "2022-04-04T11:28:33.489653Z",
     "iopub.status.idle": "2022-04-04T11:28:34.648284Z",
     "shell.execute_reply": "2022-04-04T11:28:34.647315Z",
     "shell.execute_reply.started": "2022-04-04T09:43:54.600711Z"
    },
    "papermill": {
     "duration": 1.193774,
     "end_time": "2022-04-04T11:28:34.648485",
     "exception": false,
     "start_time": "2022-04-04T11:28:33.454711",
     "status": "completed"
    },
    "tags": []
   },
   "outputs": [],
   "source": [
    "import os\n",
    "import tqdm\n",
    "\n",
    "import numpy as np\n",
    "import pandas as pd\n",
    "from lightfm import LightFM\n",
    "from lightfm.data import Dataset\n",
    "from sklearn import preprocessing\n",
    "\n",
    "import itertools\n",
    "from multiprocessing import Pool\n",
    "\n",
    "SEED = 42\n",
    "np.random.seed(SEED)\n",
    "os.environ['PYTHONHASHSEED'] = str(SEED)\n",
    "\n",
    "VALID = True"
   ]
  },
  {
   "cell_type": "code",
   "execution_count": 2,
   "id": "c7f73873",
   "metadata": {
    "execution": {
     "iopub.execute_input": "2022-04-04T11:28:34.706416Z",
     "iopub.status.busy": "2022-04-04T11:28:34.704859Z",
     "iopub.status.idle": "2022-04-04T11:28:34.708299Z",
     "shell.execute_reply": "2022-04-04T11:28:34.708821Z",
     "shell.execute_reply.started": "2022-04-04T09:43:55.727431Z"
    },
    "papermill": {
     "duration": 0.036659,
     "end_time": "2022-04-04T11:28:34.709019",
     "exception": false,
     "start_time": "2022-04-04T11:28:34.672360",
     "status": "completed"
    },
    "tags": []
   },
   "outputs": [],
   "source": [
    "def apk(actual, predicted, k=12):\n",
    "    if len(predicted)>k:\n",
    "        predicted = predicted[:k]\n",
    "        \n",
    "    score = 0.0\n",
    "    num_hits = 0.0\n",
    "    \n",
    "    for i,p in enumerate(predicted):\n",
    "        if p in actual and p not in predicted[:i]:\n",
    "            num_hits += 1.0\n",
    "            score += num_hits / (i+1.0)\n",
    "\n",
    "    if not actual:\n",
    "        return 0.0\n",
    "\n",
    "    return score / min(len(actual), k)\n",
    "\n",
    "\n",
    "def mapk(actual, predicted, k=12):\n",
    "    \"\"\"\n",
    "    Computes the mean average precision at k.\n",
    "    This function computes the mean average prescision at k between two lists\n",
    "    of lists of items.\n",
    "    Parameters\n",
    "    ----------\n",
    "    actual : list\n",
    "             A list of lists of elements that are to be predicted \n",
    "             (order doesn't matter in the lists)\n",
    "    predicted : list\n",
    "                A list of lists of predicted elements\n",
    "                (order matters in the lists)\n",
    "    k : int, optional\n",
    "        The maximum number of predicted elements\n",
    "    Returns\n",
    "    -------\n",
    "    score : double\n",
    "            The mean average precision at k over the input lists\n",
    "    \"\"\"\n",
    "    return np.mean([apk(a,p,k) for a,p in zip(actual, predicted)])"
   ]
  },
  {
   "cell_type": "markdown",
   "id": "35a66c68",
   "metadata": {
    "papermill": {
     "duration": 0.023257,
     "end_time": "2022-04-04T11:28:34.756044",
     "exception": false,
     "start_time": "2022-04-04T11:28:34.732787",
     "status": "completed"
    },
    "tags": []
   },
   "source": [
    "## Configs"
   ]
  },
  {
   "cell_type": "code",
   "execution_count": 3,
   "id": "85a37840",
   "metadata": {
    "execution": {
     "iopub.execute_input": "2022-04-04T11:28:34.807951Z",
     "iopub.status.busy": "2022-04-04T11:28:34.807224Z",
     "iopub.status.idle": "2022-04-04T11:28:34.811489Z",
     "shell.execute_reply": "2022-04-04T11:28:34.812032Z",
     "shell.execute_reply.started": "2022-04-04T09:43:55.738205Z"
    },
    "papermill": {
     "duration": 0.032302,
     "end_time": "2022-04-04T11:28:34.812233",
     "exception": false,
     "start_time": "2022-04-04T11:28:34.779931",
     "status": "completed"
    },
    "tags": []
   },
   "outputs": [],
   "source": [
    "# default number of recommendations\n",
    "K = 12\n",
    "EPOCHS = 100\n",
    "LEARNING_RATE = 0.1\n",
    "NO_COMPONENTS = 50\n",
    "NO_THREADS = 32\n",
    "ITEM_ALPHA=1e-6\n",
    "USER_ALPHA=1e-6\n",
    "# cold_userはwarp, alpha: 1e-5がよさげ\n",
    "\n",
    "num_cores=4"
   ]
  },
  {
   "cell_type": "markdown",
   "id": "398b9ae8",
   "metadata": {
    "papermill": {
     "duration": 0.024183,
     "end_time": "2022-04-04T11:28:34.860405",
     "exception": false,
     "start_time": "2022-04-04T11:28:34.836222",
     "status": "completed"
    },
    "tags": []
   },
   "source": [
    "## Load the data"
   ]
  },
  {
   "cell_type": "code",
   "execution_count": 4,
   "id": "53ebb202",
   "metadata": {
    "execution": {
     "iopub.execute_input": "2022-04-04T11:28:34.911769Z",
     "iopub.status.busy": "2022-04-04T11:28:34.911120Z",
     "iopub.status.idle": "2022-04-04T11:30:06.421892Z",
     "shell.execute_reply": "2022-04-04T11:30:06.421203Z",
     "shell.execute_reply.started": "2022-04-04T09:43:55.830072Z"
    },
    "papermill": {
     "duration": 91.537339,
     "end_time": "2022-04-04T11:30:06.422074",
     "exception": false,
     "start_time": "2022-04-04T11:28:34.884735",
     "status": "completed"
    },
    "tags": []
   },
   "outputs": [],
   "source": [
    "main_dir = \"../input/h-and-m-personalized-fashion-recommendations\"\n",
    "images_dir = main_dir+\"/images/\" \n",
    "customers = pd.read_csv(main_dir+\"/customers.csv\")\n",
    "articles = pd.read_csv(main_dir+\"/articles.csv\", dtype={'article_id': str})\n",
    "sample_submission = pd.read_csv(main_dir+\"/sample_submission.csv\", dtype={'article_id': str})\n",
    "train = pd.read_csv(main_dir+'/transactions_train.csv',  dtype={'article_id': str}, parse_dates=['t_dat'])"
   ]
  },
  {
   "cell_type": "markdown",
   "id": "4ee958af",
   "metadata": {
    "papermill": {
     "duration": 0.023516,
     "end_time": "2022-04-04T11:30:06.470317",
     "exception": false,
     "start_time": "2022-04-04T11:30:06.446801",
     "status": "completed"
    },
    "tags": []
   },
   "source": [
    "# dataset"
   ]
  },
  {
   "cell_type": "code",
   "execution_count": 5,
   "id": "cb9e5a6f",
   "metadata": {
    "execution": {
     "iopub.execute_input": "2022-04-04T11:30:06.539381Z",
     "iopub.status.busy": "2022-04-04T11:30:06.535053Z",
     "iopub.status.idle": "2022-04-04T11:30:06.563349Z",
     "shell.execute_reply": "2022-04-04T11:30:06.563855Z",
     "shell.execute_reply.started": "2022-04-04T09:45:27.762705Z"
    },
    "papermill": {
     "duration": 0.069762,
     "end_time": "2022-04-04T11:30:06.564049",
     "exception": false,
     "start_time": "2022-04-04T11:30:06.494287",
     "status": "completed"
    },
    "tags": []
   },
   "outputs": [
    {
     "data": {
      "text/plain": [
       "['product_code',\n",
       " 'product_type_no',\n",
       " 'graphical_appearance_no',\n",
       " 'colour_group_code',\n",
       " 'perceived_colour_value_id',\n",
       " 'perceived_colour_master_id',\n",
       " 'department_no',\n",
       " 'index_group_no',\n",
       " 'section_no',\n",
       " 'garment_group_no']"
      ]
     },
     "execution_count": 5,
     "metadata": {},
     "output_type": "execute_result"
    }
   ],
   "source": [
    "# item\n",
    "article_columns = [i for i in articles.columns if \"int\" in str(articles[i].dtype)]\n",
    "articles = articles[['article_id'] + article_columns]\n",
    "\n",
    "#image_feats = pd.read_csv(\"../input/hm-table-dataset/autox_features.csv\")\n",
    "#articles = pd.concat([articles, image_feats], axis=1)\n",
    "#articles.fillna(-999, inplace=True)\n",
    "#del image_feats\n",
    "#article_columns = [i for i in articles.columns if \"int\" in str(articles[i].dtype) or \"float\" in str(articles[i].dtype)]\n",
    "article_columns"
   ]
  },
  {
   "cell_type": "code",
   "execution_count": 6,
   "id": "7ec3feb2",
   "metadata": {
    "execution": {
     "iopub.execute_input": "2022-04-04T11:30:06.619338Z",
     "iopub.status.busy": "2022-04-04T11:30:06.618657Z",
     "iopub.status.idle": "2022-04-04T11:30:20.956048Z",
     "shell.execute_reply": "2022-04-04T11:30:20.955284Z",
     "shell.execute_reply.started": "2022-04-04T09:45:27.820319Z"
    },
    "papermill": {
     "duration": 14.364264,
     "end_time": "2022-04-04T11:30:20.956211",
     "exception": false,
     "start_time": "2022-04-04T11:30:06.591947",
     "status": "completed"
    },
    "tags": []
   },
   "outputs": [
    {
     "data": {
      "text/plain": [
       "['FN',\n",
       " 'Active',\n",
       " 'club_member_status',\n",
       " 'fashion_news_frequency',\n",
       " 'postal_code',\n",
       " 'age']"
      ]
     },
     "execution_count": 6,
     "metadata": {},
     "output_type": "execute_result"
    }
   ],
   "source": [
    "# user\n",
    "user_columns = ['FN', 'Active', 'club_member_status', 'fashion_news_frequency', 'postal_code']\n",
    "customers.fillna(-1, inplace=True)\n",
    "for feat in user_columns:\n",
    "    lbl = preprocessing.LabelEncoder()\n",
    "    lbl.fit(list(customers[feat]))\n",
    "    customers[feat] = lbl.transform(list(customers[feat]))\n",
    "user_columns += ['age']\n",
    "user_columns"
   ]
  },
  {
   "cell_type": "code",
   "execution_count": 7,
   "id": "6cb60f49",
   "metadata": {
    "execution": {
     "iopub.execute_input": "2022-04-04T11:30:21.009341Z",
     "iopub.status.busy": "2022-04-04T11:30:21.008689Z",
     "iopub.status.idle": "2022-04-04T11:30:23.495168Z",
     "shell.execute_reply": "2022-04-04T11:30:23.495686Z",
     "shell.execute_reply.started": "2022-04-04T09:45:41.702189Z"
    },
    "papermill": {
     "duration": 2.515106,
     "end_time": "2022-04-04T11:30:23.495897",
     "exception": false,
     "start_time": "2022-04-04T11:30:20.980791",
     "status": "completed"
    },
    "tags": []
   },
   "outputs": [
    {
     "name": "stdout",
     "output_type": "stream",
     "text": [
      "Number of users: 1371980, Number of topics: 105542.\n"
     ]
    }
   ],
   "source": [
    "dataset = Dataset()\n",
    "dataset.fit(users=customers['customer_id'], \n",
    "            items=articles['article_id'],\n",
    "            user_features = user_columns,\n",
    "            item_features = article_columns) \n",
    "\n",
    "num_users, num_topics = dataset.interactions_shape()\n",
    "print(f'Number of users: {num_users}, Number of topics: {num_topics}.')\n",
    "\n",
    "#Get the mappings\n",
    "'''\n",
    "uid = mapping from customer_id to model equivalent user_id\n",
    "iid = mapping from article_id to  model equivalent article_id\n",
    "'''\n",
    "uid_map, ufeature_map, iid_map, ifeature_map = dataset.mapping() \n",
    "inv_uid_map = {v:k for k, v in uid_map.items()}\n",
    "inv_iid_map = {v:k for k, v in iid_map.items()}"
   ]
  },
  {
   "cell_type": "code",
   "execution_count": 8,
   "id": "7269e420",
   "metadata": {
    "execution": {
     "iopub.execute_input": "2022-04-04T11:30:23.550221Z",
     "iopub.status.busy": "2022-04-04T11:30:23.549210Z",
     "iopub.status.idle": "2022-04-04T11:30:31.194613Z",
     "shell.execute_reply": "2022-04-04T11:30:31.193415Z",
     "shell.execute_reply.started": "2022-04-04T09:45:43.849759Z"
    },
    "papermill": {
     "duration": 7.673978,
     "end_time": "2022-04-04T11:30:31.194799",
     "exception": false,
     "start_time": "2022-04-04T11:30:23.520821",
     "status": "completed"
    },
    "tags": []
   },
   "outputs": [
    {
     "name": "stderr",
     "output_type": "stream",
     "text": [
      "/opt/conda/lib/python3.7/site-packages/ipykernel_launcher.py:4: FutureWarning: Series.dt.weekofyear and Series.dt.week have been deprecated.  Please use Series.dt.isocalendar().week instead.\n",
      "  after removing the cwd from sys.path.\n"
     ]
    }
   ],
   "source": [
    "train[\"t_dat\"] = pd.to_datetime(train[\"t_dat\"])\n",
    "\n",
    "date_week_df = train.drop_duplicates(\"t_dat\")[[\"t_dat\"]].reset_index(drop=True)\n",
    "date_week_df['week_no'] = (date_week_df['t_dat'] + pd.DateOffset(days=5)).dt.week\n",
    "date_week_df[\"week_no\"] = date_week_df[\"week_no\"].diff(1)\n",
    "date_week_df[\"week_no\"].fillna(0, inplace=True)\n",
    "date_week_df[\"week_no\"] = date_week_df[\"week_no\"] != 0\n",
    "date_week_df[\"week_no\"] = date_week_df[\"week_no\"].cumsum()\n",
    "\n",
    "train = pd.merge(train, date_week_df, on=\"t_dat\", how=\"left\")\n",
    "test_week = train.week_no.max()\n",
    "\n",
    "del date_week_df"
   ]
  },
  {
   "cell_type": "code",
   "execution_count": 9,
   "id": "b4f0dd68",
   "metadata": {
    "execution": {
     "iopub.execute_input": "2022-04-04T11:30:31.250551Z",
     "iopub.status.busy": "2022-04-04T11:30:31.249542Z",
     "iopub.status.idle": "2022-04-04T11:30:31.253362Z",
     "shell.execute_reply": "2022-04-04T11:30:31.253939Z",
     "shell.execute_reply.started": "2022-04-04T09:45:50.770132Z"
    },
    "papermill": {
     "duration": 0.033534,
     "end_time": "2022-04-04T11:30:31.254141",
     "exception": false,
     "start_time": "2022-04-04T11:30:31.220607",
     "status": "completed"
    },
    "tags": []
   },
   "outputs": [],
   "source": [
    "#item_last_week = train.groupby(\"article_id\")[\"week_no\"].max().reset_index()\n",
    "#weak_weight_items = item_last_week[item_last_week.week_no < 50][\"article_id\"].values\n",
    "#weak_weight_id = [iid_map[ele] for ele in weak_weight_items]\n",
    "#del item_last_week"
   ]
  },
  {
   "cell_type": "code",
   "execution_count": 10,
   "id": "adf231e4",
   "metadata": {
    "execution": {
     "iopub.execute_input": "2022-04-04T11:30:31.309693Z",
     "iopub.status.busy": "2022-04-04T11:30:31.308699Z",
     "iopub.status.idle": "2022-04-04T11:37:10.791717Z",
     "shell.execute_reply": "2022-04-04T11:37:10.792431Z",
     "shell.execute_reply.started": "2022-04-04T09:45:50.775444Z"
    },
    "papermill": {
     "duration": 399.513108,
     "end_time": "2022-04-04T11:37:10.792892",
     "exception": false,
     "start_time": "2022-04-04T11:30:31.279784",
     "status": "completed"
    },
    "tags": []
   },
   "outputs": [
    {
     "name": "stdout",
     "output_type": "stream",
     "text": [
      "(1371980, 105542)\n"
     ]
    }
   ],
   "source": [
    "if VALID:\n",
    "    train_set = train[train.week_no < test_week]\n",
    "    (interactions, weights) = dataset.build_interactions(train_set.iloc[:, 1:3].values)\n",
    "\n",
    "    valid = train[train.week_no == test_week].groupby('customer_id')['article_id'].apply(list).reset_index()\n",
    "    valid = valid.rename({'article_id':'prediction'},axis=1)\n",
    "    valid['prediction'] = valid.prediction.apply(lambda x: ' '.join([str(k) for k in x]))\n",
    "\n",
    "    inactive_users = list(set(train_set.customer_id) - set(train_set[train_set.week_no > test_week - 10][\"customer_id\"]))\n",
    "    cold_users = list(set(valid.customer_id) - set(train_set.customer_id))\n",
    "    del train_set\n",
    "else:\n",
    "    (interactions, weights) = dataset.build_interactions(train.iloc[:, 1:3].values)\n",
    "    \n",
    "dataset.build_item_features(((articles.iloc[index][\"article_id\"], article_columns) for index in range(articles.shape[0])))\n",
    "dataset.build_user_features(((customers.iloc[index][\"customer_id\"], user_columns) for index in range(customers.shape[0])))\n",
    "\n",
    "print(interactions.shape)\n",
    "del train"
   ]
  },
  {
   "cell_type": "code",
   "execution_count": 11,
   "id": "bb163a57",
   "metadata": {
    "execution": {
     "iopub.execute_input": "2022-04-04T11:37:10.851927Z",
     "iopub.status.busy": "2022-04-04T11:37:10.851202Z",
     "iopub.status.idle": "2022-04-04T11:37:10.854856Z",
     "shell.execute_reply": "2022-04-04T11:37:10.854215Z",
     "shell.execute_reply.started": "2022-04-04T09:52:33.741871Z"
    },
    "papermill": {
     "duration": 0.035397,
     "end_time": "2022-04-04T11:37:10.855022",
     "exception": false,
     "start_time": "2022-04-04T11:37:10.819625",
     "status": "completed"
    },
    "tags": []
   },
   "outputs": [],
   "source": [
    "#change_index = np.isin(weights.col, weak_weight_id)\n",
    "#weights.data[change_index] = 0.9"
   ]
  },
  {
   "cell_type": "markdown",
   "id": "43735b7e",
   "metadata": {
    "papermill": {
     "duration": 0.025997,
     "end_time": "2022-04-04T11:37:10.907748",
     "exception": false,
     "start_time": "2022-04-04T11:37:10.881751",
     "status": "completed"
    },
    "tags": []
   },
   "source": [
    "# fitting"
   ]
  },
  {
   "cell_type": "code",
   "execution_count": 12,
   "id": "f6c1a763",
   "metadata": {
    "execution": {
     "iopub.execute_input": "2022-04-04T11:37:10.969708Z",
     "iopub.status.busy": "2022-04-04T11:37:10.964196Z",
     "iopub.status.idle": "2022-04-04T13:14:27.220646Z",
     "shell.execute_reply": "2022-04-04T13:14:27.217858Z",
     "shell.execute_reply.started": "2022-04-04T09:52:33.748280Z"
    },
    "papermill": {
     "duration": 5836.286819,
     "end_time": "2022-04-04T13:14:27.220831",
     "exception": false,
     "start_time": "2022-04-04T11:37:10.934012",
     "status": "completed"
    },
    "tags": []
   },
   "outputs": [
    {
     "name": "stderr",
     "output_type": "stream",
     "text": [
      "Epoch: 100%|██████████| 100/100 [1:37:14<00:00, 58.35s/it]\n"
     ]
    },
    {
     "data": {
      "text/plain": [
       "<lightfm.lightfm.LightFM at 0x7f05c48f3f10>"
      ]
     },
     "execution_count": 12,
     "metadata": {},
     "output_type": "execute_result"
    }
   ],
   "source": [
    "model = LightFM(loss='bpr', \n",
    "                no_components=NO_COMPONENTS, \n",
    "                learning_rate=LEARNING_RATE,                 \n",
    "                random_state=np.random.RandomState(SEED),\n",
    "                user_alpha=USER_ALPHA,\n",
    "                item_alpha=ITEM_ALPHA\n",
    "               )\n",
    "\n",
    "model.fit(interactions=interactions, \n",
    "          epochs=EPOCHS, \n",
    "          verbose=1, \n",
    "          num_threads=NO_THREADS,\n",
    "          #sample_weight=weights,\n",
    "         )"
   ]
  },
  {
   "cell_type": "code",
   "execution_count": 13,
   "id": "3fa05b97",
   "metadata": {
    "execution": {
     "iopub.execute_input": "2022-04-04T13:14:27.354913Z",
     "iopub.status.busy": "2022-04-04T13:14:27.353926Z",
     "iopub.status.idle": "2022-04-04T13:14:27.357331Z",
     "shell.execute_reply": "2022-04-04T13:14:27.356726Z",
     "shell.execute_reply.started": "2022-04-04T11:10:21.297750Z"
    },
    "papermill": {
     "duration": 0.073104,
     "end_time": "2022-04-04T13:14:27.357492",
     "exception": false,
     "start_time": "2022-04-04T13:14:27.284388",
     "status": "completed"
    },
    "tags": []
   },
   "outputs": [],
   "source": [
    "#!pip3 install pickle5\n",
    "#import pickle5 as pickle\n",
    "#with open('../input/lightfm1/lightFM1.pickle', \"rb\") as fh:\n",
    "#    trained_model = pickle.load(fh)"
   ]
  },
  {
   "cell_type": "markdown",
   "id": "a97be587",
   "metadata": {
    "papermill": {
     "duration": 0.062461,
     "end_time": "2022-04-04T13:14:27.485052",
     "exception": false,
     "start_time": "2022-04-04T13:14:27.422591",
     "status": "completed"
    },
    "tags": []
   },
   "source": [
    "# Submission"
   ]
  },
  {
   "cell_type": "code",
   "execution_count": 14,
   "id": "66dd90c8",
   "metadata": {
    "execution": {
     "iopub.execute_input": "2022-04-04T13:14:27.630169Z",
     "iopub.status.busy": "2022-04-04T13:14:27.624861Z",
     "iopub.status.idle": "2022-04-04T13:14:27.993345Z",
     "shell.execute_reply": "2022-04-04T13:14:27.992274Z",
     "shell.execute_reply.started": "2022-04-04T11:10:21.304263Z"
    },
    "papermill": {
     "duration": 0.445651,
     "end_time": "2022-04-04T13:14:27.993597",
     "exception": false,
     "start_time": "2022-04-04T13:14:27.547946",
     "status": "completed"
    },
    "tags": []
   },
   "outputs": [
    {
     "name": "stdout",
     "output_type": "stream",
     "text": [
      "68984\n"
     ]
    }
   ],
   "source": [
    "if VALID:\n",
    "    test_X = valid.customer_id.values\n",
    "else:\n",
    "    test_X = sample_submission.customer_id.values    \n",
    "\n",
    "lfn_user = lambda x: uid_map[x]\n",
    "test_X_m = [lfn_user(tx) for tx in test_X]\n",
    "\n",
    "print(len(test_X_m))"
   ]
  },
  {
   "cell_type": "code",
   "execution_count": 15,
   "id": "e343b363",
   "metadata": {
    "execution": {
     "iopub.execute_input": "2022-04-04T13:14:28.125786Z",
     "iopub.status.busy": "2022-04-04T13:14:28.125109Z",
     "iopub.status.idle": "2022-04-04T13:14:29.095418Z",
     "shell.execute_reply": "2022-04-04T13:14:29.094692Z",
     "shell.execute_reply.started": "2022-04-04T11:10:21.513366Z"
    },
    "papermill": {
     "duration": 1.037103,
     "end_time": "2022-04-04T13:14:29.095592",
     "exception": false,
     "start_time": "2022-04-04T13:14:28.058489",
     "status": "completed"
    },
    "tags": []
   },
   "outputs": [],
   "source": [
    "def predict_submission():\n",
    "    df_split = np.array_split(test_X_m, num_cores)\n",
    "    chunk_size = len(df_split[0])\n",
    "    \n",
    "    chunk1 = list(df_split[0])\n",
    "    chunk2 = list(df_split[1])\n",
    "    chunk3 = list(df_split[2])\n",
    "    chunk4 = list(df_split[3])\n",
    "    \n",
    "    #list of items for multiprocessing, 4 since using 4 cores\n",
    "    all_chunks = [chunk1, chunk2, chunk3, chunk4]\n",
    "    \n",
    "    pool = Pool(num_cores)\n",
    "    result = pool.map(make_predict, all_chunks)\n",
    "    \n",
    "    pred_combined = list(itertools.chain(result[0], result[1], result[2], result[3]))\n",
    "\n",
    "    return pred_combined\n",
    "\n",
    "def make_predict(usr_chunk):\n",
    "    customer_ids = []\n",
    "    preds = []\n",
    "    item_array = np.array(list(iid_map.values()))\n",
    "\n",
    "    for usr_ in usr_chunk:\n",
    "        m_opt = model.predict(np.array([usr_] * len(iid_map)), item_array)\n",
    "        pred = np.argsort(-m_opt)[:K]\n",
    "        preds.append(' '.join([inv_iid_map[p] for p in pred]).strip())\n",
    "    \n",
    "    preds = np.array(preds).reshape(-1, 1)\n",
    "    return preds"
   ]
  },
  {
   "cell_type": "code",
   "execution_count": 16,
   "id": "2d655eaa",
   "metadata": {
    "execution": {
     "iopub.execute_input": "2022-04-04T13:14:29.264334Z",
     "iopub.status.busy": "2022-04-04T13:14:29.263612Z",
     "iopub.status.idle": "2022-04-04T13:26:53.774775Z",
     "shell.execute_reply": "2022-04-04T13:26:53.775417Z",
     "shell.execute_reply.started": "2022-04-04T11:10:22.563234Z"
    },
    "papermill": {
     "duration": 744.615743,
     "end_time": "2022-04-04T13:26:53.775643",
     "exception": false,
     "start_time": "2022-04-04T13:14:29.159900",
     "status": "completed"
    },
    "tags": []
   },
   "outputs": [
    {
     "name": "stdout",
     "output_type": "stream",
     "text": [
      "CPU times: user 1.31 s, sys: 762 ms, total: 2.07 s\n",
      "Wall time: 12min 24s\n"
     ]
    }
   ],
   "source": [
    "%%time\n",
    "final_predictions = predict_submission()"
   ]
  },
  {
   "cell_type": "code",
   "execution_count": 17,
   "id": "ab76b9d7",
   "metadata": {
    "execution": {
     "iopub.execute_input": "2022-04-04T13:26:53.920520Z",
     "iopub.status.busy": "2022-04-04T13:26:53.919483Z",
     "iopub.status.idle": "2022-04-04T13:27:07.970660Z",
     "shell.execute_reply": "2022-04-04T13:27:07.971207Z",
     "shell.execute_reply.started": "2022-04-04T11:22:26.367720Z"
    },
    "papermill": {
     "duration": 14.128789,
     "end_time": "2022-04-04T13:27:07.971501",
     "exception": false,
     "start_time": "2022-04-04T13:26:53.842712",
     "status": "completed"
    },
    "tags": []
   },
   "outputs": [],
   "source": [
    "final_sub = pd.DataFrame(data=np.concatenate((np.array(test_X).reshape(-1,1), np.array(final_predictions)), axis=1).reshape(-1, 2),\n",
    "                         columns=['customer_id', 'prediction'])\n",
    "\n",
    "sample_submission.loc[sample_submission.customer_id.isin(final_sub.customer_id), 'prediction'] = ( \n",
    "    final_sub['prediction']\n",
    "    )\n",
    "sample_submission.to_csv('submission.csv', index=False)"
   ]
  },
  {
   "cell_type": "code",
   "execution_count": 18,
   "id": "38144329",
   "metadata": {
    "execution": {
     "iopub.execute_input": "2022-04-04T13:27:08.109944Z",
     "iopub.status.busy": "2022-04-04T13:27:08.109158Z",
     "iopub.status.idle": "2022-04-04T13:27:17.595497Z",
     "shell.execute_reply": "2022-04-04T13:27:17.594859Z",
     "shell.execute_reply.started": "2022-04-04T11:22:40.494216Z"
    },
    "papermill": {
     "duration": 9.556938,
     "end_time": "2022-04-04T13:27:17.595670",
     "exception": false,
     "start_time": "2022-04-04T13:27:08.038732",
     "status": "completed"
    },
    "tags": []
   },
   "outputs": [
    {
     "name": "stdout",
     "output_type": "stream",
     "text": [
      "t 0.005492542445037553\n",
      "i 0.006073484429399697 19048\n",
      "c 6.379687553413324e-05 5572\n",
      "  \n",
      "0754362003 0697564037 0731743001 0764646003 0757903001 0750397013 0780418001 0436570008 0451744001 0724906003 0809278006 0693700001    5572\n",
      "0534164001 0120129001 0215589001 0300024058 0567532004 0433444001 0775382001 0510465001 0752657001 0442915001 0262277011 0469562002       3\n",
      "0158340001 0111593001 0111586001 0436261001 0228257001 0123173001 0240561001 0542402001 0297067002 0200182001 0417951005 0234432001       3\n",
      "0758050001 0758049001 0758064001 0758060001 0758040001 0758088002 0758043001 0758089002 0758118001 0758084002 0758126002 0758064002       3\n",
      "0120129001 0534164001 0215589001 0300024058 0567532004 0433444001 0775382001 0510465001 0752657001 0442915001 0262277011 0469562002       2\n",
      "                                                                                                                                       ... \n",
      "0658030011 0399087014 0399087030 0399087010 0658030006 0399087029 0658030020 0658030016 0658030001 0399087021 0658030005 0556260004       1\n",
      "0770241001 0717879014 0735121001 0735122002 0743594003 0819147001 0768085001 0712846001 0537688010 0820873001 0762630001 0700515001       1\n",
      "0733027002 0723173001 0721298001 0775328001 0742925003 0740943001 0712216008 0712216009 0781180002 0712216011 0723173006 0372008001       1\n",
      "0685816001 0685816017 0697564010 0859105002 0685816037 0685816002 0685816024 0859105003 0685816041 0685816011 0685816023 0685816004       1\n",
      "0859125001 0879781003 0817472005 0817401001 0859139001 0896169002 0863937003 0879781002 0862325001 0902107001 0827370002 0827968001       1\n",
      "Name: prediction, Length: 63387, dtype: int64\n"
     ]
    }
   ],
   "source": [
    "# local score\n",
    "if VALID:\n",
    "    sub_check = final_sub.copy()\n",
    "    sub_check = sub_check.set_index('customer_id').reset_index()\n",
    "    print(\"t\", mapk(valid.prediction.str.split(), sub_check.prediction.str.split(), k=12))    \n",
    "    print(\"i\", \n",
    "            mapk(valid[valid.customer_id.isin(inactive_users)].prediction.str.split(), \n",
    "               sub_check[sub_check.customer_id.isin(inactive_users)].prediction.str.split(), k=12),\n",
    "            valid[valid.customer_id.isin(inactive_users)].shape[0])\n",
    "    print(\"c\", \n",
    "            mapk(valid[valid.customer_id.isin(cold_users)].prediction.str.split(), \n",
    "               sub_check[sub_check.customer_id.isin(cold_users)].prediction.str.split(), k=12),\n",
    "            valid[valid.customer_id.isin(cold_users)].shape[0])\n",
    "    \n",
    "    print(\"  \")\n",
    "    print(sub_check[\"prediction\"].value_counts())  "
   ]
  },
  {
   "cell_type": "code",
   "execution_count": null,
   "id": "0f43ff34",
   "metadata": {
    "papermill": {
     "duration": 0.065607,
     "end_time": "2022-04-04T13:27:17.728907",
     "exception": false,
     "start_time": "2022-04-04T13:27:17.663300",
     "status": "completed"
    },
    "tags": []
   },
   "outputs": [],
   "source": []
  }
 ],
 "metadata": {
  "kernelspec": {
   "display_name": "Python 3",
   "language": "python",
   "name": "python3"
  },
  "language_info": {
   "codemirror_mode": {
    "name": "ipython",
    "version": 3
   },
   "file_extension": ".py",
   "mimetype": "text/x-python",
   "name": "python",
   "nbconvert_exporter": "python",
   "pygments_lexer": "ipython3",
   "version": "3.7.12"
  },
  "papermill": {
   "default_parameters": {},
   "duration": 7137.444996,
   "end_time": "2022-04-04T13:27:20.232439",
   "environment_variables": {},
   "exception": null,
   "input_path": "__notebook__.ipynb",
   "output_path": "__notebook__.ipynb",
   "parameters": {},
   "start_time": "2022-04-04T11:28:22.787443",
   "version": "2.3.3"
  }
 },
 "nbformat": 4,
 "nbformat_minor": 5
}
