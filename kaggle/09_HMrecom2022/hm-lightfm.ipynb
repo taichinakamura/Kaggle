{
 "cells": [
  {
   "cell_type": "markdown",
   "id": "8beb112d",
   "metadata": {
    "papermill": {
     "duration": 0.031399,
     "end_time": "2022-04-03T04:20:27.843107",
     "exception": false,
     "start_time": "2022-04-03T04:20:27.811708",
     "status": "completed"
    },
    "tags": []
   },
   "source": [
    "- https://making.lyst.com/lightfm/docs/lightfm.html\n",
    "- modify mistake in valid label\n",
    "- consider item, user features"
   ]
  },
  {
   "cell_type": "code",
   "execution_count": 1,
   "id": "c3ab961e",
   "metadata": {
    "execution": {
     "iopub.execute_input": "2022-04-03T04:20:27.915155Z",
     "iopub.status.busy": "2022-04-03T04:20:27.914010Z",
     "iopub.status.idle": "2022-04-03T04:20:29.142878Z",
     "shell.execute_reply": "2022-04-03T04:20:29.142134Z",
     "shell.execute_reply.started": "2022-04-03T03:23:57.356924Z"
    },
    "papermill": {
     "duration": 1.269687,
     "end_time": "2022-04-03T04:20:29.143040",
     "exception": false,
     "start_time": "2022-04-03T04:20:27.873353",
     "status": "completed"
    },
    "tags": []
   },
   "outputs": [],
   "source": [
    "import os\n",
    "import tqdm\n",
    "\n",
    "import numpy as np\n",
    "import pandas as pd\n",
    "from lightfm import LightFM\n",
    "from lightfm.data import Dataset\n",
    "from sklearn import preprocessing\n",
    "\n",
    "import itertools\n",
    "from multiprocessing import Pool\n",
    "\n",
    "SEED = 42\n",
    "np.random.seed(SEED)\n",
    "os.environ['PYTHONHASHSEED'] = str(SEED)\n",
    "\n",
    "VALID = True"
   ]
  },
  {
   "cell_type": "code",
   "execution_count": 2,
   "id": "0a41e5bd",
   "metadata": {
    "execution": {
     "iopub.execute_input": "2022-04-03T04:20:29.190788Z",
     "iopub.status.busy": "2022-04-03T04:20:29.190121Z",
     "iopub.status.idle": "2022-04-03T04:20:29.194900Z",
     "shell.execute_reply": "2022-04-03T04:20:29.194304Z",
     "shell.execute_reply.started": "2022-04-03T03:23:58.343531Z"
    },
    "papermill": {
     "duration": 0.032191,
     "end_time": "2022-04-03T04:20:29.195031",
     "exception": false,
     "start_time": "2022-04-03T04:20:29.162840",
     "status": "completed"
    },
    "tags": []
   },
   "outputs": [],
   "source": [
    "def apk(actual, predicted, k=12):\n",
    "    if len(predicted)>k:\n",
    "        predicted = predicted[:k]\n",
    "        \n",
    "    score = 0.0\n",
    "    num_hits = 0.0\n",
    "    \n",
    "    for i,p in enumerate(predicted):\n",
    "        if p in actual and p not in predicted[:i]:\n",
    "            num_hits += 1.0\n",
    "            score += num_hits / (i+1.0)\n",
    "\n",
    "    if not actual:\n",
    "        return 0.0\n",
    "\n",
    "    return score / min(len(actual), k)\n",
    "\n",
    "\n",
    "def mapk(actual, predicted, k=12):\n",
    "    \"\"\"\n",
    "    Computes the mean average precision at k.\n",
    "    This function computes the mean average prescision at k between two lists\n",
    "    of lists of items.\n",
    "    Parameters\n",
    "    ----------\n",
    "    actual : list\n",
    "             A list of lists of elements that are to be predicted \n",
    "             (order doesn't matter in the lists)\n",
    "    predicted : list\n",
    "                A list of lists of predicted elements\n",
    "                (order matters in the lists)\n",
    "    k : int, optional\n",
    "        The maximum number of predicted elements\n",
    "    Returns\n",
    "    -------\n",
    "    score : double\n",
    "            The mean average precision at k over the input lists\n",
    "    \"\"\"\n",
    "    return np.mean([apk(a,p,k) for a,p in zip(actual, predicted)])"
   ]
  },
  {
   "cell_type": "markdown",
   "id": "1a716b18",
   "metadata": {
    "papermill": {
     "duration": 0.019467,
     "end_time": "2022-04-03T04:20:29.234050",
     "exception": false,
     "start_time": "2022-04-03T04:20:29.214583",
     "status": "completed"
    },
    "tags": []
   },
   "source": [
    "## Configs"
   ]
  },
  {
   "cell_type": "code",
   "execution_count": 3,
   "id": "5d6fc491",
   "metadata": {
    "execution": {
     "iopub.execute_input": "2022-04-03T04:20:29.277605Z",
     "iopub.status.busy": "2022-04-03T04:20:29.277041Z",
     "iopub.status.idle": "2022-04-03T04:20:29.281049Z",
     "shell.execute_reply": "2022-04-03T04:20:29.280524Z",
     "shell.execute_reply.started": "2022-04-03T03:23:58.355796Z"
    },
    "papermill": {
     "duration": 0.028256,
     "end_time": "2022-04-03T04:20:29.281170",
     "exception": false,
     "start_time": "2022-04-03T04:20:29.252914",
     "status": "completed"
    },
    "tags": []
   },
   "outputs": [],
   "source": [
    "# default number of recommendations\n",
    "K = 12\n",
    "EPOCHS = 50\n",
    "\n",
    "# model learning rate\n",
    "LEARNING_RATE = 0.25\n",
    "# no of latent factors\n",
    "NO_COMPONENTS = 40\n",
    "\n",
    "# no of threads to fit model\n",
    "NO_THREADS = 32\n",
    "# regularisation for both user and item features\n",
    "ITEM_ALPHA=1e-6\n",
    "USER_ALPHA=1e-6\n",
    "\n",
    "# for multiprocssing of final predictions\n",
    "num_cores=4"
   ]
  },
  {
   "cell_type": "markdown",
   "id": "be0df2fc",
   "metadata": {
    "papermill": {
     "duration": 0.01846,
     "end_time": "2022-04-03T04:20:29.318577",
     "exception": false,
     "start_time": "2022-04-03T04:20:29.300117",
     "status": "completed"
    },
    "tags": []
   },
   "source": [
    "## Load the data"
   ]
  },
  {
   "cell_type": "code",
   "execution_count": 4,
   "id": "e3a976c1",
   "metadata": {
    "execution": {
     "iopub.execute_input": "2022-04-03T04:20:29.360138Z",
     "iopub.status.busy": "2022-04-03T04:20:29.359584Z",
     "iopub.status.idle": "2022-04-03T04:22:02.072711Z",
     "shell.execute_reply": "2022-04-03T04:22:02.071554Z",
     "shell.execute_reply.started": "2022-04-03T03:23:58.366123Z"
    },
    "papermill": {
     "duration": 92.735324,
     "end_time": "2022-04-03T04:22:02.073072",
     "exception": false,
     "start_time": "2022-04-03T04:20:29.337748",
     "status": "completed"
    },
    "tags": []
   },
   "outputs": [],
   "source": [
    "main_dir = \"../input/h-and-m-personalized-fashion-recommendations\"\n",
    "images_dir = main_dir+\"/images/\" \n",
    "customers = pd.read_csv(main_dir+\"/customers.csv\")\n",
    "articles = pd.read_csv(main_dir+\"/articles.csv\", dtype={'article_id': str})\n",
    "sample_submission = pd.read_csv(main_dir+\"/sample_submission.csv\", dtype={'article_id': str})\n",
    "\n",
    "train = pd.read_csv(main_dir+'/transactions_train.csv',  dtype={'article_id': str}, parse_dates=['t_dat'])"
   ]
  },
  {
   "cell_type": "markdown",
   "id": "b8074270",
   "metadata": {
    "papermill": {
     "duration": 0.029453,
     "end_time": "2022-04-03T04:22:02.135737",
     "exception": false,
     "start_time": "2022-04-03T04:22:02.106284",
     "status": "completed"
    },
    "tags": []
   },
   "source": [
    "## dataset"
   ]
  },
  {
   "cell_type": "code",
   "execution_count": 5,
   "id": "79046506",
   "metadata": {
    "execution": {
     "iopub.execute_input": "2022-04-03T04:22:02.216796Z",
     "iopub.status.busy": "2022-04-03T04:22:02.198337Z",
     "iopub.status.idle": "2022-04-03T04:22:02.248319Z",
     "shell.execute_reply": "2022-04-03T04:22:02.248924Z",
     "shell.execute_reply.started": "2022-04-03T03:25:44.677383Z"
    },
    "papermill": {
     "duration": 0.084338,
     "end_time": "2022-04-03T04:22:02.249121",
     "exception": false,
     "start_time": "2022-04-03T04:22:02.164783",
     "status": "completed"
    },
    "tags": []
   },
   "outputs": [],
   "source": [
    "# item\n",
    "article_columns = [i for i in articles.columns if \"int\" in str(articles[i].dtype)]\n",
    "articles = articles[['article_id'] + article_columns]\n",
    "\n",
    "#image_feats = pd.read_csv(\"../input/hm-table-dataset/autox_features.csv\")\n",
    "#articles = pd.concat([articles, image_feats], axis=1)\n",
    "#articles.fillna(-999, inplace=True)\n",
    "#del image_feats\n",
    "#article_columns = [i for i in articles.columns if \"int\" in str(articles[i].dtype) or \"float\" in str(articles[i].dtype)]"
   ]
  },
  {
   "cell_type": "code",
   "execution_count": 6,
   "id": "e3bd5363",
   "metadata": {
    "execution": {
     "iopub.execute_input": "2022-04-03T04:22:02.315356Z",
     "iopub.status.busy": "2022-04-03T04:22:02.314615Z",
     "iopub.status.idle": "2022-04-03T04:22:12.106228Z",
     "shell.execute_reply": "2022-04-03T04:22:12.105761Z",
     "shell.execute_reply.started": "2022-04-03T03:25:44.711122Z"
    },
    "papermill": {
     "duration": 9.823887,
     "end_time": "2022-04-03T04:22:12.106344",
     "exception": false,
     "start_time": "2022-04-03T04:22:02.282457",
     "status": "completed"
    },
    "tags": []
   },
   "outputs": [],
   "source": [
    "# user\n",
    "user_columns = ['FN', 'Active', 'club_member_status', 'fashion_news_frequency', 'postal_code']\n",
    "customers.fillna(-1, inplace=True)\n",
    "for feat in user_columns:\n",
    "    lbl = preprocessing.LabelEncoder()\n",
    "    lbl.fit(list(customers[feat]))\n",
    "    customers[feat] = lbl.transform(list(customers[feat]))"
   ]
  },
  {
   "cell_type": "code",
   "execution_count": 7,
   "id": "1fdbfc9b",
   "metadata": {
    "execution": {
     "iopub.execute_input": "2022-04-03T04:22:12.202193Z",
     "iopub.status.busy": "2022-04-03T04:22:12.196580Z",
     "iopub.status.idle": "2022-04-03T04:22:14.428016Z",
     "shell.execute_reply": "2022-04-03T04:22:14.428569Z",
     "shell.execute_reply.started": "2022-04-03T03:25:57.755590Z"
    },
    "papermill": {
     "duration": 2.303919,
     "end_time": "2022-04-03T04:22:14.428824",
     "exception": false,
     "start_time": "2022-04-03T04:22:12.124905",
     "status": "completed"
    },
    "tags": []
   },
   "outputs": [
    {
     "name": "stdout",
     "output_type": "stream",
     "text": [
      "Number of users: 1371980, Number of topics: 105542.\n"
     ]
    }
   ],
   "source": [
    "dataset = Dataset()\n",
    "dataset.fit(users=customers['customer_id'], \n",
    "            items=articles['article_id'],\n",
    "            user_features = user_columns,\n",
    "            item_features = article_columns) \n",
    "\n",
    "num_users, num_topics = dataset.interactions_shape()\n",
    "print(f'Number of users: {num_users}, Number of topics: {num_topics}.')"
   ]
  },
  {
   "cell_type": "code",
   "execution_count": 8,
   "id": "0548ba0a",
   "metadata": {
    "execution": {
     "iopub.execute_input": "2022-04-03T04:22:14.485139Z",
     "iopub.status.busy": "2022-04-03T04:22:14.484558Z",
     "iopub.status.idle": "2022-04-03T04:22:19.848149Z",
     "shell.execute_reply": "2022-04-03T04:22:19.848560Z",
     "shell.execute_reply.started": "2022-04-03T03:25:59.690967Z"
    },
    "papermill": {
     "duration": 5.396948,
     "end_time": "2022-04-03T04:22:19.848726",
     "exception": false,
     "start_time": "2022-04-03T04:22:14.451778",
     "status": "completed"
    },
    "tags": []
   },
   "outputs": [
    {
     "name": "stderr",
     "output_type": "stream",
     "text": [
      "/opt/conda/lib/python3.7/site-packages/ipykernel_launcher.py:4: FutureWarning: Series.dt.weekofyear and Series.dt.week have been deprecated.  Please use Series.dt.isocalendar().week instead.\n",
      "  after removing the cwd from sys.path.\n"
     ]
    }
   ],
   "source": [
    "train[\"t_dat\"] = pd.to_datetime(train[\"t_dat\"])\n",
    "\n",
    "date_week_df = train.drop_duplicates(\"t_dat\")[[\"t_dat\"]].reset_index(drop=True)\n",
    "date_week_df['week_no'] = (date_week_df['t_dat'] + pd.DateOffset(days=5)).dt.week\n",
    "date_week_df[\"week_no\"] = date_week_df[\"week_no\"].diff(1)\n",
    "date_week_df[\"week_no\"].fillna(0, inplace=True)\n",
    "date_week_df[\"week_no\"] = date_week_df[\"week_no\"] != 0\n",
    "date_week_df[\"week_no\"] = date_week_df[\"week_no\"].cumsum()\n",
    "\n",
    "train = pd.merge(train, date_week_df, on=\"t_dat\", how=\"left\")\n",
    "test_week = train.week_no.max()\n",
    "\n",
    "del date_week_df"
   ]
  },
  {
   "cell_type": "code",
   "execution_count": 9,
   "id": "d0e747a9",
   "metadata": {
    "execution": {
     "iopub.execute_input": "2022-04-03T04:22:19.905717Z",
     "iopub.status.busy": "2022-04-03T04:22:19.904939Z",
     "iopub.status.idle": "2022-04-03T04:28:02.106996Z",
     "shell.execute_reply": "2022-04-03T04:28:02.107782Z",
     "shell.execute_reply.started": "2022-04-03T03:26:06.046658Z"
    },
    "papermill": {
     "duration": 342.240365,
     "end_time": "2022-04-03T04:28:02.108051",
     "exception": false,
     "start_time": "2022-04-03T04:22:19.867686",
     "status": "completed"
    },
    "tags": []
   },
   "outputs": [
    {
     "name": "stdout",
     "output_type": "stream",
     "text": [
      "(1371980, 105542) (1371980, 105542)\n"
     ]
    }
   ],
   "source": [
    "train_set = train[train.week_no < test_week]\n",
    "val_set = train[train.week_no == test_week]\n",
    "\n",
    "(interactions, weights) = dataset.build_interactions(train_set.iloc[:, 1:3].values)\n",
    "(val_interactions, val_weights) = dataset.build_interactions(val_set.iloc[:, 1:3].values)\n",
    "dataset.build_item_features(((articles.iloc[index][\"article_id\"], article_columns) for index in range(articles.shape[0])))\n",
    "dataset.build_user_features(((customers.iloc[index][\"customer_id\"], user_columns) for index in range(customers.shape[0])))\n",
    "\n",
    "print(interactions.shape, val_interactions.shape)\n",
    "del train"
   ]
  },
  {
   "cell_type": "code",
   "execution_count": 10,
   "id": "692c3efa",
   "metadata": {
    "execution": {
     "iopub.execute_input": "2022-04-03T04:28:02.173487Z",
     "iopub.status.busy": "2022-04-03T04:28:02.172960Z",
     "iopub.status.idle": "2022-04-03T04:28:15.750693Z",
     "shell.execute_reply": "2022-04-03T04:28:15.750082Z",
     "shell.execute_reply.started": "2022-04-03T03:32:54.026744Z"
    },
    "papermill": {
     "duration": 13.612793,
     "end_time": "2022-04-03T04:28:15.750820",
     "exception": false,
     "start_time": "2022-04-03T04:28:02.138027",
     "status": "completed"
    },
    "tags": []
   },
   "outputs": [],
   "source": [
    "valid = val_set.groupby('customer_id')['article_id'].apply(list).reset_index()\n",
    "valid = valid.rename({'article_id':'prediction'},axis=1)\n",
    "valid['prediction'] = valid.prediction.apply(lambda x: ' '.join([str(k) for k in x]))\n",
    "\n",
    "inactive_users = list(set(train_set.customer_id) - set(train_set[train_set.week_no > test_week - 10][\"customer_id\"]))\n",
    "cold_users = list(set(valid.customer_id) - set(train_set.customer_id))\n",
    "del train_set, val_set"
   ]
  },
  {
   "cell_type": "markdown",
   "id": "06f3d002",
   "metadata": {
    "papermill": {
     "duration": 0.019657,
     "end_time": "2022-04-03T04:28:15.790013",
     "exception": false,
     "start_time": "2022-04-03T04:28:15.770356",
     "status": "completed"
    },
    "tags": []
   },
   "source": [
    "# fitting"
   ]
  },
  {
   "cell_type": "code",
   "execution_count": 11,
   "id": "e0a21626",
   "metadata": {
    "execution": {
     "iopub.execute_input": "2022-04-03T04:28:15.836696Z",
     "iopub.status.busy": "2022-04-03T04:28:15.836104Z",
     "iopub.status.idle": "2022-04-03T05:05:53.877544Z",
     "shell.execute_reply": "2022-04-03T05:05:53.874969Z",
     "shell.execute_reply.started": "2022-04-03T03:33:09.040331Z"
    },
    "papermill": {
     "duration": 2258.066837,
     "end_time": "2022-04-03T05:05:53.877692",
     "exception": false,
     "start_time": "2022-04-03T04:28:15.810855",
     "status": "completed"
    },
    "tags": []
   },
   "outputs": [
    {
     "name": "stderr",
     "output_type": "stream",
     "text": [
      "Epoch: 100%|██████████| 50/50 [37:37<00:00, 45.15s/it]\n"
     ]
    },
    {
     "data": {
      "text/plain": [
       "<lightfm.lightfm.LightFM at 0x7fae1e4ac9d0>"
      ]
     },
     "execution_count": 11,
     "metadata": {},
     "output_type": "execute_result"
    }
   ],
   "source": [
    "model = LightFM(loss='bpr', \n",
    "                no_components=NO_COMPONENTS, \n",
    "                learning_rate=LEARNING_RATE,                 \n",
    "                random_state=np.random.RandomState(SEED),\n",
    "                user_alpha=USER_ALPHA,\n",
    "                item_alpha=ITEM_ALPHA\n",
    "               )\n",
    "model.fit(interactions=interactions, epochs=EPOCHS, verbose=1, num_threads=NO_THREADS)"
   ]
  },
  {
   "cell_type": "code",
   "execution_count": 12,
   "id": "17f39b6f",
   "metadata": {
    "execution": {
     "iopub.execute_input": "2022-04-03T05:05:53.953067Z",
     "iopub.status.busy": "2022-04-03T05:05:53.952552Z",
     "iopub.status.idle": "2022-04-03T05:05:53.956225Z",
     "shell.execute_reply": "2022-04-03T05:05:53.955765Z",
     "shell.execute_reply.started": "2022-04-03T04:07:20.853499Z"
    },
    "papermill": {
     "duration": 0.0429,
     "end_time": "2022-04-03T05:05:53.956335",
     "exception": false,
     "start_time": "2022-04-03T05:05:53.913435",
     "status": "completed"
    },
    "tags": []
   },
   "outputs": [],
   "source": [
    "#Load Trained Model\n",
    "\n",
    "#!pip3 install pickle5\n",
    "#import pickle5 as pickle\n",
    "#with open('../input/lightfm1/lightFM1.pickle', \"rb\") as fh:\n",
    "#    trained_model = pickle.load(fh)"
   ]
  },
  {
   "cell_type": "markdown",
   "id": "c011d1f7",
   "metadata": {
    "papermill": {
     "duration": 0.034953,
     "end_time": "2022-04-03T05:05:54.026205",
     "exception": false,
     "start_time": "2022-04-03T05:05:53.991252",
     "status": "completed"
    },
    "tags": []
   },
   "source": [
    "# Submission"
   ]
  },
  {
   "cell_type": "code",
   "execution_count": 13,
   "id": "dd97e94d",
   "metadata": {
    "execution": {
     "iopub.execute_input": "2022-04-03T05:05:54.101699Z",
     "iopub.status.busy": "2022-04-03T05:05:54.101152Z",
     "iopub.status.idle": "2022-04-03T05:05:54.471427Z",
     "shell.execute_reply": "2022-04-03T05:05:54.470740Z",
     "shell.execute_reply.started": "2022-04-03T04:07:20.857066Z"
    },
    "papermill": {
     "duration": 0.409914,
     "end_time": "2022-04-03T05:05:54.471562",
     "exception": false,
     "start_time": "2022-04-03T05:05:54.061648",
     "status": "completed"
    },
    "tags": []
   },
   "outputs": [
    {
     "name": "stdout",
     "output_type": "stream",
     "text": [
      "68984\n"
     ]
    }
   ],
   "source": [
    "#Get the mappings\n",
    "'''\n",
    "uid = mapping from customer_id to model equivalent user_id\n",
    "iid = mapping from article_id to  model equivalent article_id\n",
    "'''\n",
    "uid_map, ufeature_map, iid_map, ifeature_map = dataset.mapping() \n",
    "inv_uid_map = {v:k for k, v in uid_map.items()}\n",
    "inv_iid_map = {v:k for k, v in iid_map.items()}\n",
    "\n",
    "if VALID:\n",
    "    test_X = valid.customer_id.values\n",
    "else:\n",
    "    test_X = sample_submission.customer_id.values    \n",
    "\n",
    "lfn_user = lambda x: uid_map[x]\n",
    "test_X_m = [lfn_user(tx) for tx in test_X]\n",
    "\n",
    "print(len(test_X_m))"
   ]
  },
  {
   "cell_type": "code",
   "execution_count": 14,
   "id": "eb917c7f",
   "metadata": {
    "execution": {
     "iopub.execute_input": "2022-04-03T05:05:54.865394Z",
     "iopub.status.busy": "2022-04-03T05:05:54.864835Z",
     "iopub.status.idle": "2022-04-03T05:05:54.867198Z",
     "shell.execute_reply": "2022-04-03T05:05:54.866640Z",
     "shell.execute_reply.started": "2022-04-03T04:07:21.775509Z"
    },
    "papermill": {
     "duration": 0.356157,
     "end_time": "2022-04-03T05:05:54.867324",
     "exception": false,
     "start_time": "2022-04-03T05:05:54.511167",
     "status": "completed"
    },
    "tags": []
   },
   "outputs": [],
   "source": [
    "def predict_submission():\n",
    "    df_split = np.array_split(test_X_m, num_cores)\n",
    "    chunk_size = len(df_split[0])\n",
    "    \n",
    "    chunk1 = list(df_split[0])\n",
    "    chunk2 = list(df_split[1])\n",
    "    chunk3 = list(df_split[2])\n",
    "    chunk4 = list(df_split[3])\n",
    "    \n",
    "    #list of items for multiprocessing, 4 since using 4 cores\n",
    "    all_chunks = [chunk1, chunk2, chunk3, chunk4]\n",
    "    \n",
    "    pool = Pool(num_cores)\n",
    "    result = pool.map(make_predict, all_chunks)\n",
    "    \n",
    "    pred_combined = list(itertools.chain(result[0], result[1], result[2], result[3]))\n",
    "\n",
    "    return pred_combined\n",
    "\n",
    "def make_predict(usr_chunk):\n",
    "    customer_ids = []\n",
    "    preds = []\n",
    "    item_array = np.array(list(iid_map.values()))\n",
    "\n",
    "    for usr_ in usr_chunk:\n",
    "        m_opt = model.predict(np.array([usr_] * len(iid_map)), item_array)\n",
    "        pred = np.argsort(-m_opt)[:K]\n",
    "        #customer_ids.append(inv_uid_map[usr_])\n",
    "        preds.append(' '.join([inv_iid_map[p] for p in pred]).strip())\n",
    "    \n",
    "    #customer_ids = np.array(customer_ids).reshape(-1, 1)\n",
    "    preds = np.array(preds).reshape(-1, 1)\n",
    "    return preds"
   ]
  },
  {
   "cell_type": "code",
   "execution_count": 15,
   "id": "34d5dc37",
   "metadata": {
    "execution": {
     "iopub.execute_input": "2022-04-03T05:05:54.982741Z",
     "iopub.status.busy": "2022-04-03T05:05:54.974507Z",
     "iopub.status.idle": "2022-04-03T05:15:19.827317Z",
     "shell.execute_reply": "2022-04-03T05:15:19.827798Z",
     "shell.execute_reply.started": "2022-04-03T04:07:22.153391Z"
    },
    "papermill": {
     "duration": 564.923607,
     "end_time": "2022-04-03T05:15:19.827956",
     "exception": false,
     "start_time": "2022-04-03T05:05:54.904349",
     "status": "completed"
    },
    "tags": []
   },
   "outputs": [
    {
     "name": "stdout",
     "output_type": "stream",
     "text": [
      "CPU times: user 876 ms, sys: 467 ms, total: 1.34 s\n",
      "Wall time: 9min 24s\n"
     ]
    }
   ],
   "source": [
    "%%time\n",
    "final_predictions = predict_submission()"
   ]
  },
  {
   "cell_type": "code",
   "execution_count": 16,
   "id": "c2b4af9d",
   "metadata": {
    "execution": {
     "iopub.execute_input": "2022-04-03T05:15:19.910936Z",
     "iopub.status.busy": "2022-04-03T05:15:19.910223Z",
     "iopub.status.idle": "2022-04-03T05:15:26.130206Z",
     "shell.execute_reply": "2022-04-03T05:15:26.129611Z",
     "shell.execute_reply.started": "2022-04-03T04:17:56.088674Z"
    },
    "papermill": {
     "duration": 6.264929,
     "end_time": "2022-04-03T05:15:26.130358",
     "exception": false,
     "start_time": "2022-04-03T05:15:19.865429",
     "status": "completed"
    },
    "tags": []
   },
   "outputs": [],
   "source": [
    "final_sub = pd.DataFrame(data=np.concatenate((np.array(test_X).reshape(-1,1), np.array(final_predictions)), axis=1).reshape(-1, 2),\n",
    "                         columns=['customer_id', 'prediction'])\n",
    "\n",
    "sample_submission.loc[sample_submission.customer_id.isin(final_sub.customer_id), 'prediction'] = ( \n",
    "    final_sub['prediction']\n",
    "    )\n",
    "sample_submission.to_csv('submission.csv', index=False)"
   ]
  },
  {
   "cell_type": "code",
   "execution_count": 17,
   "id": "3b6a1e83",
   "metadata": {
    "execution": {
     "iopub.execute_input": "2022-04-03T05:15:26.254376Z",
     "iopub.status.busy": "2022-04-03T05:15:26.253798Z",
     "iopub.status.idle": "2022-04-03T05:15:35.874532Z",
     "shell.execute_reply": "2022-04-03T05:15:35.874072Z",
     "shell.execute_reply.started": "2022-04-03T04:18:04.658561Z"
    },
    "papermill": {
     "duration": 9.68761,
     "end_time": "2022-04-03T05:15:35.874678",
     "exception": false,
     "start_time": "2022-04-03T05:15:26.187068",
     "status": "completed"
    },
    "tags": []
   },
   "outputs": [
    {
     "name": "stdout",
     "output_type": "stream",
     "text": [
      "t 0.0033021174700348186\n",
      "i 0.003568400955732471 19048\n",
      "c 2.5638396061942365e-05 5572\n",
      "  \n",
      "0724906003 0699071004 0815024001 0799797001 0537895008 0689365057 0691489006 0519847021 0786791002 0683395002 0767249003 0759160002    5572\n",
      "0294008002 0573937001 0751551001 0652924004 0640542002 0779551002 0368979001 0294008005 0742274001 0750330002 0698387001 0624257001       3\n",
      "0120129001 0215589001 0534164001 0300024058 0510465001 0775382001 0567532004 0300024013 0433444001 0752657001 0120129014 0300024009       2\n",
      "0706016001 0706016002 0706016003 0399223001 0706016015 0573085028 0706016006 0399223029 0573085043 0706016019 0573085004 0562245046       2\n",
      "0220094001 0636505001 0713200003 0728197001 0733123004 0806261002 0823317002 0794454002 0689047004 0787696003 0744180001 0720506007       1\n",
      "                                                                                                                                       ... \n",
      "0658030011 0658030006 0658030005 0399087030 0399087014 0399136004 0658030016 0661794001 0556260004 0399087001 0399087021 0658030020       1\n",
      "0537688010 0735121001 0695545005 0598859001 0811198001 0717879014 0636455003 0675319002 0704668001 0783244001 0537688015 0794793003       1\n",
      "0723173004 0775328001 0372008001 0589514001 0781180002 0633109002 0651685002 0714718002 0650672001 0681182010 0723173001 0742925003       1\n",
      "0859105002 0697564010 0806131004 0865799003 0806131001 0856310001 0865799001 0818397004 0859105003 0714790017 0865917002 0841260013       1\n",
      "0879781003 0859139001 0859125001 0817401001 0827370002 0902107001 0859139002 0879781002 0863937003 0859125004 0870304001 0858052001       1\n",
      "Name: prediction, Length: 63409, dtype: int64\n"
     ]
    }
   ],
   "source": [
    "# local score\n",
    "if VALID:\n",
    "    sub_check = final_sub.copy()\n",
    "    sub_check = sub_check.set_index('customer_id').reset_index()\n",
    "    print(\"t\", mapk(valid.prediction.str.split(), sub_check.prediction.str.split(), k=12))    \n",
    "    print(\"i\", \n",
    "            mapk(valid[valid.customer_id.isin(inactive_users)].prediction.str.split(), \n",
    "               sub_check[sub_check.customer_id.isin(inactive_users)].prediction.str.split(), k=12),\n",
    "            valid[valid.customer_id.isin(inactive_users)].shape[0])\n",
    "    print(\"c\", \n",
    "            mapk(valid[valid.customer_id.isin(cold_users)].prediction.str.split(), \n",
    "               sub_check[sub_check.customer_id.isin(cold_users)].prediction.str.split(), k=12),\n",
    "            valid[valid.customer_id.isin(cold_users)].shape[0])\n",
    "    \n",
    "    print(\"  \")\n",
    "    print(sub_check[\"prediction\"].value_counts())  "
   ]
  },
  {
   "cell_type": "code",
   "execution_count": null,
   "id": "7507cd2d",
   "metadata": {
    "papermill": {
     "duration": 0.038155,
     "end_time": "2022-04-03T05:15:35.950423",
     "exception": false,
     "start_time": "2022-04-03T05:15:35.912268",
     "status": "completed"
    },
    "tags": []
   },
   "outputs": [],
   "source": []
  }
 ],
 "metadata": {
  "kernelspec": {
   "display_name": "Python 3",
   "language": "python",
   "name": "python3"
  },
  "language_info": {
   "codemirror_mode": {
    "name": "ipython",
    "version": 3
   },
   "file_extension": ".py",
   "mimetype": "text/x-python",
   "name": "python",
   "nbconvert_exporter": "python",
   "pygments_lexer": "ipython3",
   "version": "3.7.12"
  },
  "papermill": {
   "default_parameters": {},
   "duration": 3320.725867,
   "end_time": "2022-04-03T05:15:38.806583",
   "environment_variables": {},
   "exception": null,
   "input_path": "__notebook__.ipynb",
   "output_path": "__notebook__.ipynb",
   "parameters": {},
   "start_time": "2022-04-03T04:20:18.080716",
   "version": "2.3.3"
  }
 },
 "nbformat": 4,
 "nbformat_minor": 5
}
