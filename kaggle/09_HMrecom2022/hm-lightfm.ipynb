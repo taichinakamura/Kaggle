{
 "cells": [
  {
   "cell_type": "markdown",
   "id": "78f8f552",
   "metadata": {
    "papermill": {
     "duration": 0.02155,
     "end_time": "2022-04-02T07:42:15.074933",
     "exception": false,
     "start_time": "2022-04-02T07:42:15.053383",
     "status": "completed"
    },
    "tags": []
   },
   "source": [
    "- https://making.lyst.com/lightfm/docs/lightfm.html"
   ]
  },
  {
   "cell_type": "code",
   "execution_count": 1,
   "id": "d3c4c6cd",
   "metadata": {
    "execution": {
     "iopub.execute_input": "2022-04-02T07:42:15.121292Z",
     "iopub.status.busy": "2022-04-02T07:42:15.120060Z",
     "iopub.status.idle": "2022-04-02T07:42:17.010582Z",
     "shell.execute_reply": "2022-04-02T07:42:17.009836Z",
     "shell.execute_reply.started": "2022-04-02T07:21:35.750655Z"
    },
    "papermill": {
     "duration": 1.91499,
     "end_time": "2022-04-02T07:42:17.010756",
     "exception": false,
     "start_time": "2022-04-02T07:42:15.095766",
     "status": "completed"
    },
    "tags": []
   },
   "outputs": [],
   "source": [
    "import os\n",
    "import cv2\n",
    "import tqdm\n",
    "\n",
    "import numpy as np\n",
    "import pandas as pd\n",
    "from lightfm import LightFM\n",
    "from lightfm.data import Dataset\n",
    "from lightfm.evaluation import precision_at_k\n",
    "\n",
    "\n",
    "from numba import jit\n",
    "import itertools\n",
    "from multiprocessing import Pool\n",
    "\n",
    "SEED = 42\n",
    "np.random.seed(SEED)\n",
    "os.environ['PYTHONHASHSEED'] = str(SEED)\n",
    "\n",
    "VALID = True"
   ]
  },
  {
   "cell_type": "code",
   "execution_count": 2,
   "id": "c0c35a48",
   "metadata": {
    "execution": {
     "iopub.execute_input": "2022-04-02T07:42:17.061986Z",
     "iopub.status.busy": "2022-04-02T07:42:17.054943Z",
     "iopub.status.idle": "2022-04-02T07:42:17.064736Z",
     "shell.execute_reply": "2022-04-02T07:42:17.064157Z",
     "shell.execute_reply.started": "2022-04-02T07:21:37.631989Z"
    },
    "papermill": {
     "duration": 0.032801,
     "end_time": "2022-04-02T07:42:17.064874",
     "exception": false,
     "start_time": "2022-04-02T07:42:17.032073",
     "status": "completed"
    },
    "tags": []
   },
   "outputs": [],
   "source": [
    "def apk(actual, predicted, k=12):\n",
    "    if len(predicted)>k:\n",
    "        predicted = predicted[:k]\n",
    "        \n",
    "    score = 0.0\n",
    "    num_hits = 0.0\n",
    "    \n",
    "    for i,p in enumerate(predicted):\n",
    "        if p in actual and p not in predicted[:i]:\n",
    "            num_hits += 1.0\n",
    "            score += num_hits / (i+1.0)\n",
    "\n",
    "    if not actual:\n",
    "        return 0.0\n",
    "\n",
    "    return score / min(len(actual), k)\n",
    "\n",
    "\n",
    "def mapk(actual, predicted, k=12):\n",
    "    \"\"\"\n",
    "    Computes the mean average precision at k.\n",
    "    This function computes the mean average prescision at k between two lists\n",
    "    of lists of items.\n",
    "    Parameters\n",
    "    ----------\n",
    "    actual : list\n",
    "             A list of lists of elements that are to be predicted \n",
    "             (order doesn't matter in the lists)\n",
    "    predicted : list\n",
    "                A list of lists of predicted elements\n",
    "                (order matters in the lists)\n",
    "    k : int, optional\n",
    "        The maximum number of predicted elements\n",
    "    Returns\n",
    "    -------\n",
    "    score : double\n",
    "            The mean average precision at k over the input lists\n",
    "    \"\"\"\n",
    "    return np.mean([apk(a,p,k) for a,p in zip(actual, predicted)])"
   ]
  },
  {
   "cell_type": "markdown",
   "id": "225bf628",
   "metadata": {
    "papermill": {
     "duration": 0.020165,
     "end_time": "2022-04-02T07:42:17.105568",
     "exception": false,
     "start_time": "2022-04-02T07:42:17.085403",
     "status": "completed"
    },
    "tags": []
   },
   "source": [
    "## Configs"
   ]
  },
  {
   "cell_type": "code",
   "execution_count": 3,
   "id": "d979d4ee",
   "metadata": {
    "execution": {
     "iopub.execute_input": "2022-04-02T07:42:17.152132Z",
     "iopub.status.busy": "2022-04-02T07:42:17.151107Z",
     "iopub.status.idle": "2022-04-02T07:42:17.153719Z",
     "shell.execute_reply": "2022-04-02T07:42:17.153220Z",
     "shell.execute_reply.started": "2022-04-02T07:21:37.643551Z"
    },
    "papermill": {
     "duration": 0.027931,
     "end_time": "2022-04-02T07:42:17.153872",
     "exception": false,
     "start_time": "2022-04-02T07:42:17.125941",
     "status": "completed"
    },
    "tags": []
   },
   "outputs": [],
   "source": [
    "# default number of recommendations\n",
    "K = 12\n",
    "EPOCHS = 100\n",
    "\n",
    "# model learning rate\n",
    "LEARNING_RATE = 0.25\n",
    "# no of latent factors\n",
    "NO_COMPONENTS = 20\n",
    "\n",
    "# no of threads to fit model\n",
    "NO_THREADS = 32\n",
    "# regularisation for both user and item features\n",
    "ITEM_ALPHA=1e-6\n",
    "USER_ALPHA=1e-6"
   ]
  },
  {
   "cell_type": "markdown",
   "id": "8cada053",
   "metadata": {
    "papermill": {
     "duration": 0.019867,
     "end_time": "2022-04-02T07:42:17.194221",
     "exception": false,
     "start_time": "2022-04-02T07:42:17.174354",
     "status": "completed"
    },
    "tags": []
   },
   "source": [
    "## Load the data"
   ]
  },
  {
   "cell_type": "code",
   "execution_count": 4,
   "id": "f44d174b",
   "metadata": {
    "execution": {
     "iopub.execute_input": "2022-04-02T07:42:17.241932Z",
     "iopub.status.busy": "2022-04-02T07:42:17.241194Z",
     "iopub.status.idle": "2022-04-02T07:43:44.567920Z",
     "shell.execute_reply": "2022-04-02T07:43:44.568497Z",
     "shell.execute_reply.started": "2022-04-02T07:21:37.655293Z"
    },
    "papermill": {
     "duration": 87.354068,
     "end_time": "2022-04-02T07:43:44.568714",
     "exception": false,
     "start_time": "2022-04-02T07:42:17.214646",
     "status": "completed"
    },
    "tags": []
   },
   "outputs": [],
   "source": [
    "main_dir = \"../input/h-and-m-personalized-fashion-recommendations\"\n",
    "images_dir = main_dir+\"/images/\" \n",
    "customers = pd.read_csv(main_dir+\"/customers.csv\")\n",
    "articles = pd.read_csv(main_dir+\"/articles.csv\", dtype={'article_id': str})\n",
    "sample_submission = pd.read_csv(main_dir+\"/sample_submission.csv\", dtype={'article_id': str})\n",
    "\n",
    "train = pd.read_csv('../input/h-and-m-personalized-fashion-recommendations/transactions_train.csv',  dtype={'article_id': str}, parse_dates=['t_dat'])"
   ]
  },
  {
   "cell_type": "markdown",
   "id": "0f62aa33",
   "metadata": {
    "papermill": {
     "duration": 0.02023,
     "end_time": "2022-04-02T07:43:44.610638",
     "exception": false,
     "start_time": "2022-04-02T07:43:44.590408",
     "status": "completed"
    },
    "tags": []
   },
   "source": [
    "## dataset"
   ]
  },
  {
   "cell_type": "code",
   "execution_count": 5,
   "id": "2f8714c6",
   "metadata": {
    "execution": {
     "iopub.execute_input": "2022-04-02T07:43:44.670175Z",
     "iopub.status.busy": "2022-04-02T07:43:44.669147Z",
     "iopub.status.idle": "2022-04-02T07:43:46.499956Z",
     "shell.execute_reply": "2022-04-02T07:43:46.500465Z",
     "shell.execute_reply.started": "2022-04-02T07:23:02.433898Z"
    },
    "papermill": {
     "duration": 1.869008,
     "end_time": "2022-04-02T07:43:46.500634",
     "exception": false,
     "start_time": "2022-04-02T07:43:44.631626",
     "status": "completed"
    },
    "tags": []
   },
   "outputs": [
    {
     "name": "stdout",
     "output_type": "stream",
     "text": [
      "Number of users: 1371980, Number of topics: 105542.\n"
     ]
    }
   ],
   "source": [
    "dataset = Dataset()\n",
    "dataset.fit(users=customers['customer_id'], \n",
    "            items=articles['article_id']) # consider both new user and item\n",
    "\n",
    "num_users, num_topics = dataset.interactions_shape()\n",
    "print(f'Number of users: {num_users}, Number of topics: {num_topics}.')"
   ]
  },
  {
   "cell_type": "code",
   "execution_count": 6,
   "id": "85528f3e",
   "metadata": {
    "execution": {
     "iopub.execute_input": "2022-04-02T07:43:46.566229Z",
     "iopub.status.busy": "2022-04-02T07:43:46.564121Z",
     "iopub.status.idle": "2022-04-02T07:43:53.506628Z",
     "shell.execute_reply": "2022-04-02T07:43:53.505889Z",
     "shell.execute_reply.started": "2022-04-02T07:23:04.174976Z"
    },
    "papermill": {
     "duration": 6.98494,
     "end_time": "2022-04-02T07:43:53.506790",
     "exception": false,
     "start_time": "2022-04-02T07:43:46.521850",
     "status": "completed"
    },
    "tags": []
   },
   "outputs": [
    {
     "name": "stderr",
     "output_type": "stream",
     "text": [
      "/opt/conda/lib/python3.7/site-packages/ipykernel_launcher.py:4: FutureWarning: Series.dt.weekofyear and Series.dt.week have been deprecated.  Please use Series.dt.isocalendar().week instead.\n",
      "  after removing the cwd from sys.path.\n"
     ]
    }
   ],
   "source": [
    "train[\"t_dat\"] = pd.to_datetime(train[\"t_dat\"])\n",
    "\n",
    "date_week_df = train.drop_duplicates(\"t_dat\")[[\"t_dat\"]].reset_index(drop=True)\n",
    "date_week_df['week_no'] = (date_week_df['t_dat'] + pd.DateOffset(days=5)).dt.week\n",
    "date_week_df[\"week_no\"] = date_week_df[\"week_no\"].diff(1)\n",
    "date_week_df[\"week_no\"].fillna(0, inplace=True)\n",
    "date_week_df[\"week_no\"] = date_week_df[\"week_no\"] != 0\n",
    "date_week_df[\"week_no\"] = date_week_df[\"week_no\"].cumsum()\n",
    "\n",
    "train = pd.merge(train, date_week_df, on=\"t_dat\", how=\"left\")\n",
    "\n",
    "#train.sort_values(['t_dat', 'customer_id'], inplace=True)\n",
    "\n",
    "test_week = train.week_no.max()\n",
    "del date_week_df"
   ]
  },
  {
   "cell_type": "code",
   "execution_count": 7,
   "id": "d2ba7cb7",
   "metadata": {
    "execution": {
     "iopub.execute_input": "2022-04-02T07:43:53.570829Z",
     "iopub.status.busy": "2022-04-02T07:43:53.569727Z",
     "iopub.status.idle": "2022-04-02T07:46:34.255167Z",
     "shell.execute_reply": "2022-04-02T07:46:34.255759Z",
     "shell.execute_reply.started": "2022-04-02T07:23:10.950018Z"
    },
    "papermill": {
     "duration": 160.724759,
     "end_time": "2022-04-02T07:46:34.256118",
     "exception": false,
     "start_time": "2022-04-02T07:43:53.531359",
     "status": "completed"
    },
    "tags": []
   },
   "outputs": [
    {
     "name": "stdout",
     "output_type": "stream",
     "text": [
      "(1371980, 105542) (1371980, 105542)\n"
     ]
    }
   ],
   "source": [
    "train_set = train[train.week_no < test_week]\n",
    "val_set = train[train.week_no == test_week]\n",
    "\n",
    "(interactions, weights) = dataset.build_interactions(train_set.iloc[:, 1:3].values)\n",
    "(val_interactions, val_weights) = dataset.build_interactions(val_set.iloc[:, 1:3].values)\n",
    "print(interactions.shape, val_interactions.shape)\n",
    "del train"
   ]
  },
  {
   "cell_type": "code",
   "execution_count": 8,
   "id": "235d921c",
   "metadata": {
    "execution": {
     "iopub.execute_input": "2022-04-02T07:46:34.316540Z",
     "iopub.status.busy": "2022-04-02T07:46:34.315496Z",
     "iopub.status.idle": "2022-04-02T07:46:53.398473Z",
     "shell.execute_reply": "2022-04-02T07:46:53.397838Z",
     "shell.execute_reply.started": "2022-04-02T07:25:48.514526Z"
    },
    "papermill": {
     "duration": 19.120718,
     "end_time": "2022-04-02T07:46:53.398629",
     "exception": false,
     "start_time": "2022-04-02T07:46:34.277911",
     "status": "completed"
    },
    "tags": []
   },
   "outputs": [],
   "source": [
    "valid = val_set.groupby('customer_id')['article_id'].apply(list).reset_index()\n",
    "valid = valid.rename({'article_id':'prediction'},axis=1)\n",
    "valid['prediction'] = valid.prediction.apply(lambda x: ' '.join(['0'+str(k) for k in x]))\n",
    "\n",
    "inactive_users = list(set(train_set.customer_id) - set(train_set[train_set.week_no > test_week - 10][\"customer_id\"]))\n",
    "cold_users = list(set(valid.customer_id) - set(train_set.customer_id))\n",
    "del train_set, val_set"
   ]
  },
  {
   "cell_type": "markdown",
   "id": "42ef262a",
   "metadata": {
    "papermill": {
     "duration": 0.021059,
     "end_time": "2022-04-02T07:46:53.441481",
     "exception": false,
     "start_time": "2022-04-02T07:46:53.420422",
     "status": "completed"
    },
    "tags": []
   },
   "source": [
    "# fitting"
   ]
  },
  {
   "cell_type": "code",
   "execution_count": 9,
   "id": "e4c7db31",
   "metadata": {
    "execution": {
     "iopub.execute_input": "2022-04-02T07:46:53.488299Z",
     "iopub.status.busy": "2022-04-02T07:46:53.487270Z",
     "iopub.status.idle": "2022-04-02T08:42:20.651403Z",
     "shell.execute_reply": "2022-04-02T08:42:20.647200Z",
     "shell.execute_reply.started": "2022-04-02T07:26:06.336246Z"
    },
    "papermill": {
     "duration": 3327.1887,
     "end_time": "2022-04-02T08:42:20.651631",
     "exception": false,
     "start_time": "2022-04-02T07:46:53.462931",
     "status": "completed"
    },
    "tags": []
   },
   "outputs": [
    {
     "name": "stderr",
     "output_type": "stream",
     "text": [
      "Epoch: 100%|██████████| 100/100 [55:26<00:00, 33.26s/it]\n"
     ]
    },
    {
     "data": {
      "text/plain": [
       "<lightfm.lightfm.LightFM at 0x7fd533d7fe90>"
      ]
     },
     "execution_count": 9,
     "metadata": {},
     "output_type": "execute_result"
    }
   ],
   "source": [
    "model = LightFM(loss='warp', no_components=NO_COMPONENTS, \n",
    "                 learning_rate=LEARNING_RATE,                 \n",
    "                 random_state=np.random.RandomState(SEED))\n",
    "model.fit(interactions=interactions, epochs=EPOCHS, verbose=1, num_threads=NO_THREADS)"
   ]
  },
  {
   "cell_type": "code",
   "execution_count": 10,
   "id": "b324fa58",
   "metadata": {
    "execution": {
     "iopub.execute_input": "2022-04-02T08:42:20.777911Z",
     "iopub.status.busy": "2022-04-02T08:42:20.777053Z",
     "iopub.status.idle": "2022-04-02T08:42:20.779765Z",
     "shell.execute_reply": "2022-04-02T08:42:20.779221Z",
     "shell.execute_reply.started": "2022-04-02T07:26:37.592248Z"
    },
    "papermill": {
     "duration": 0.068645,
     "end_time": "2022-04-02T08:42:20.779913",
     "exception": false,
     "start_time": "2022-04-02T08:42:20.711268",
     "status": "completed"
    },
    "tags": []
   },
   "outputs": [],
   "source": [
    "#Load Trained Model\n",
    "\n",
    "#!pip3 install pickle5\n",
    "#import pickle5 as pickle\n",
    "#with open('../input/lightfm1/lightFM1.pickle', \"rb\") as fh:\n",
    "#    trained_model = pickle.load(fh)\n",
    "\n",
    "#if VALID:\n",
    "#    val_precision = precision_at_k(model, val_interactions, k=K).mean()\n",
    "#    print(val_precision)"
   ]
  },
  {
   "cell_type": "markdown",
   "id": "94e4ff92",
   "metadata": {
    "papermill": {
     "duration": 0.058673,
     "end_time": "2022-04-02T08:42:20.899061",
     "exception": false,
     "start_time": "2022-04-02T08:42:20.840388",
     "status": "completed"
    },
    "tags": []
   },
   "source": [
    "# Submission"
   ]
  },
  {
   "cell_type": "code",
   "execution_count": 11,
   "id": "dc620f51",
   "metadata": {
    "execution": {
     "iopub.execute_input": "2022-04-02T08:42:21.021864Z",
     "iopub.status.busy": "2022-04-02T08:42:21.021160Z",
     "iopub.status.idle": "2022-04-02T08:42:22.258570Z",
     "shell.execute_reply": "2022-04-02T08:42:22.258037Z",
     "shell.execute_reply.started": "2022-04-02T07:26:37.597393Z"
    },
    "papermill": {
     "duration": 1.298887,
     "end_time": "2022-04-02T08:42:22.258712",
     "exception": false,
     "start_time": "2022-04-02T08:42:20.959825",
     "status": "completed"
    },
    "tags": []
   },
   "outputs": [
    {
     "name": "stdout",
     "output_type": "stream",
     "text": [
      "68984\n"
     ]
    }
   ],
   "source": [
    "#Get the mappings\n",
    "'''\n",
    "uid = mapping from customer_id to model equivalent user_id\n",
    "iid = mapping from article_id to  model equivalent article_id\n",
    "'''\n",
    "uid_map, ufeature_map, iid_map, ifeature_map = dataset.mapping() \n",
    "'''\n",
    "create inverse mappings\n",
    "'''\n",
    "inv_uid_map = {v:k for k, v in uid_map.items()}\n",
    "inv_iid_map = {v:k for k, v in iid_map.items()}\n",
    "\n",
    "#convert submission user_id and article_id to model equivalent user_id and article_id\n",
    "\n",
    "if VALID:\n",
    "    test_X = valid.customer_id.values\n",
    "else:\n",
    "    test_X = sample_submission.customer_id.values    \n",
    "\n",
    "lfn_user = lambda x: uid_map[x]\n",
    "test_X_m = [lfn_user(tx) for tx in test_X]\n",
    "\n",
    "print(len(test_X_m))"
   ]
  },
  {
   "cell_type": "code",
   "execution_count": 12,
   "id": "bb48bff2",
   "metadata": {
    "execution": {
     "iopub.execute_input": "2022-04-02T08:42:22.385790Z",
     "iopub.status.busy": "2022-04-02T08:42:22.385031Z",
     "iopub.status.idle": "2022-04-02T08:42:22.391119Z",
     "shell.execute_reply": "2022-04-02T08:42:22.391668Z",
     "shell.execute_reply.started": "2022-04-02T07:26:37.850558Z"
    },
    "papermill": {
     "duration": 0.073583,
     "end_time": "2022-04-02T08:42:22.391836",
     "exception": false,
     "start_time": "2022-04-02T08:42:22.318253",
     "status": "completed"
    },
    "tags": []
   },
   "outputs": [],
   "source": [
    "num_cores=4\n",
    "\n",
    "def predict_submission():\n",
    "    df_split = np.array_split(test_X_m, num_cores)\n",
    "    chunk_size = len(df_split[0])\n",
    "    \n",
    "    chunk1 = list(df_split[0])\n",
    "    chunk2 = list(df_split[1])\n",
    "    chunk3 = list(df_split[2])\n",
    "    chunk4 = list(df_split[3])\n",
    "    \n",
    "    #list of items for multiprocessing, 4 since using 4 cores\n",
    "    all_chunks = [chunk1, chunk2, chunk3, chunk4]\n",
    "    \n",
    "    pool = Pool(num_cores)\n",
    "    result = pool.map(make_predict, all_chunks)\n",
    "    \n",
    "    pred_combined = list(itertools.chain(result[0], result[1], result[2], result[3]))\n",
    "\n",
    "    return pred_combined\n",
    "\n",
    "def make_predict(usr_chunk):\n",
    "    customer_ids = []\n",
    "    preds = []\n",
    "    item_array = np.array(list(iid_map.values()))\n",
    "\n",
    "    for usr_ in usr_chunk:\n",
    "        m_opt = model.predict(np.array([usr_] * len(iid_map)), item_array)\n",
    "        pred = np.argsort(-m_opt)[:K]\n",
    "        #customer_ids.append(inv_uid_map[usr_])\n",
    "        preds.append(' '.join([inv_iid_map[p] for p in pred]).strip())\n",
    "        #break\n",
    "    \n",
    "    #customer_ids = np.array(customer_ids).reshape(-1, 1)\n",
    "    preds = np.array(preds).reshape(-1, 1)\n",
    "    return preds"
   ]
  },
  {
   "cell_type": "code",
   "execution_count": 13,
   "id": "7443bc14",
   "metadata": {
    "execution": {
     "iopub.execute_input": "2022-04-02T08:42:22.513596Z",
     "iopub.status.busy": "2022-04-02T08:42:22.512945Z",
     "iopub.status.idle": "2022-04-02T08:54:03.902072Z",
     "shell.execute_reply": "2022-04-02T08:54:03.902668Z",
     "shell.execute_reply.started": "2022-04-02T07:26:37.864294Z"
    },
    "papermill": {
     "duration": 701.45131,
     "end_time": "2022-04-02T08:54:03.902862",
     "exception": false,
     "start_time": "2022-04-02T08:42:22.451552",
     "status": "completed"
    },
    "tags": []
   },
   "outputs": [
    {
     "name": "stdout",
     "output_type": "stream",
     "text": [
      "CPU times: user 1.06 s, sys: 661 ms, total: 1.72 s\n",
      "Wall time: 11min 41s\n"
     ]
    }
   ],
   "source": [
    "%%time\n",
    "final_predictions = predict_submission()"
   ]
  },
  {
   "cell_type": "code",
   "execution_count": 14,
   "id": "dc5179be",
   "metadata": {
    "execution": {
     "iopub.execute_input": "2022-04-02T08:54:04.036540Z",
     "iopub.status.busy": "2022-04-02T08:54:04.035520Z",
     "iopub.status.idle": "2022-04-02T08:54:17.992642Z",
     "shell.execute_reply": "2022-04-02T08:54:17.993367Z",
     "shell.execute_reply.started": "2022-04-02T07:39:33.555882Z"
    },
    "papermill": {
     "duration": 14.03018,
     "end_time": "2022-04-02T08:54:17.993554",
     "exception": false,
     "start_time": "2022-04-02T08:54:03.963374",
     "status": "completed"
    },
    "tags": []
   },
   "outputs": [],
   "source": [
    "final_sub = pd.DataFrame(data=np.concatenate((np.array(test_X).reshape(-1,1), np.array(final_predictions)), axis=1).reshape(-1, 2),\n",
    "                         columns=['customer_id', 'prediction'])\n",
    "\n",
    "sample_submission.loc[sample_submission.customer_id.isin(final_sub.customer_id), 'prediction'] = ( \n",
    "    final_sub['prediction']\n",
    "    )\n",
    "sample_submission.to_csv('submission.csv', index=False)"
   ]
  },
  {
   "cell_type": "code",
   "execution_count": 15,
   "id": "7e569195",
   "metadata": {
    "execution": {
     "iopub.execute_input": "2022-04-02T08:54:18.121463Z",
     "iopub.status.busy": "2022-04-02T08:54:18.120735Z",
     "iopub.status.idle": "2022-04-02T08:54:26.612212Z",
     "shell.execute_reply": "2022-04-02T08:54:26.611445Z",
     "shell.execute_reply.started": "2022-04-02T07:41:24.380285Z"
    },
    "papermill": {
     "duration": 8.557931,
     "end_time": "2022-04-02T08:54:26.612400",
     "exception": false,
     "start_time": "2022-04-02T08:54:18.054469",
     "status": "completed"
    },
    "tags": []
   },
   "outputs": [
    {
     "name": "stdout",
     "output_type": "stream",
     "text": [
      "t 0.0\n",
      "i 0.0 19048\n",
      "c 0.0 5572\n",
      "  \n",
      "0706016001 0706016002 0372860001 0610776002 0759871002 0464297007 0372860002 0399223001 0610776001 0706016003 0720125001 0156231001    119\n",
      "0563988010 0706016001 0706016002 0372860001 0610776002 0759871002 0464297007 0372860002 0399223001 0610776001 0706016003 0720125001     52\n",
      "0749484026 0706016001 0706016002 0372860001 0610776002 0759871002 0464297007 0372860002 0399223001 0610776001 0706016003 0720125001     42\n",
      "0809460003 0706016001 0706016002 0372860001 0610776002 0759871002 0464297007 0372860002 0399223001 0610776001 0706016003 0720125001     26\n",
      "0609636002 0706016001 0706016002 0372860001 0610776002 0759871002 0464297007 0372860002 0399223001 0610776001 0706016003 0720125001     20\n",
      "                                                                                                                                      ... \n",
      "0545085002 0614304001 0538706002 0563988010 0809460001 0531284032 0664456001 0661069001 0912164001 0910458001 0648419004 0834208001      1\n",
      "0614304001 0706016001 0545085002 0809460003 0706016002 0372860001 0610776002 0550618001 0759871002 0464297007 0372860002 0448262046      1\n",
      "0749484026 0717810008 0402382009 0586955032 0717810006 0610173002 0737627001 0579105005 0614304001 0572154001 0653924002 0828841002      1\n",
      "0563988010 0579105005 0609636002 0693607006 0688227001 0683653003 0790640001 0615325002 0586955032 0827280002 0527203002 0677737003      1\n",
      "0717810006 0915851002 0752577001 0806157001 0579105005 0557247006 0827280002 0614304001 0809460001 0713774022 0575156027 0609474001      1\n",
      "Name: prediction, Length: 67705, dtype: int64\n"
     ]
    }
   ],
   "source": [
    "# local score\n",
    "if VALID:\n",
    "    sub_check = final_sub.copy()\n",
    "    sub_check = sub_check.set_index('customer_id').reset_index()\n",
    "    print(\"t\", mapk(valid.prediction.str.split(), sub_check.prediction.str.split(), k=12))    \n",
    "    print(\"i\", \n",
    "            mapk(valid[valid.customer_id.isin(inactive_users)].prediction.str.split(), \n",
    "               sub_check[sub_check.customer_id.isin(inactive_users)].prediction.str.split(), k=12),\n",
    "            valid[valid.customer_id.isin(inactive_users)].shape[0])\n",
    "    print(\"c\", \n",
    "            mapk(valid[valid.customer_id.isin(cold_users)].prediction.str.split(), \n",
    "               sub_check[sub_check.customer_id.isin(cold_users)].prediction.str.split(), k=12),\n",
    "            valid[valid.customer_id.isin(cold_users)].shape[0])\n",
    "    \n",
    "    print(\"  \")\n",
    "    print(sub_check[\"prediction\"].value_counts())  "
   ]
  },
  {
   "cell_type": "code",
   "execution_count": null,
   "id": "4362440f",
   "metadata": {
    "papermill": {
     "duration": 0.06189,
     "end_time": "2022-04-02T08:54:26.734987",
     "exception": false,
     "start_time": "2022-04-02T08:54:26.673097",
     "status": "completed"
    },
    "tags": []
   },
   "outputs": [],
   "source": []
  }
 ],
 "metadata": {
  "kernelspec": {
   "display_name": "Python 3",
   "language": "python",
   "name": "python3"
  },
  "language_info": {
   "codemirror_mode": {
    "name": "ipython",
    "version": 3
   },
   "file_extension": ".py",
   "mimetype": "text/x-python",
   "name": "python",
   "nbconvert_exporter": "python",
   "pygments_lexer": "ipython3",
   "version": "3.7.12"
  },
  "papermill": {
   "default_parameters": {},
   "duration": 4343.884455,
   "end_time": "2022-04-02T08:54:29.026725",
   "environment_variables": {},
   "exception": null,
   "input_path": "__notebook__.ipynb",
   "output_path": "__notebook__.ipynb",
   "parameters": {},
   "start_time": "2022-04-02T07:42:05.142270",
   "version": "2.3.3"
  }
 },
 "nbformat": 4,
 "nbformat_minor": 5
}
