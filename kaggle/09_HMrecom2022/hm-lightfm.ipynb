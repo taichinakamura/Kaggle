{
 "cells": [
  {
   "cell_type": "markdown",
   "id": "5f86841d",
   "metadata": {
    "papermill": {
     "duration": 0.026279,
     "end_time": "2022-04-08T08:22:43.359917",
     "exception": false,
     "start_time": "2022-04-08T08:22:43.333638",
     "status": "completed"
    },
    "tags": []
   },
   "source": [
    "- https://making.lyst.com/lightfm/docs/lightfm.html\n",
    "- modify mistake in valid label\n",
    "- consider item, user features\n",
    "- change weight and range *\n",
    "- remove some features "
   ]
  },
  {
   "cell_type": "code",
   "execution_count": 1,
   "id": "9cc91082",
   "metadata": {
    "execution": {
     "iopub.execute_input": "2022-04-08T08:22:43.411204Z",
     "iopub.status.busy": "2022-04-08T08:22:43.409472Z",
     "iopub.status.idle": "2022-04-08T08:22:44.560714Z",
     "shell.execute_reply": "2022-04-08T08:22:44.560006Z",
     "shell.execute_reply.started": "2022-04-08T06:39:50.517635Z"
    },
    "papermill": {
     "duration": 1.178809,
     "end_time": "2022-04-08T08:22:44.560916",
     "exception": false,
     "start_time": "2022-04-08T08:22:43.382107",
     "status": "completed"
    },
    "tags": []
   },
   "outputs": [],
   "source": [
    "import os\n",
    "import tqdm\n",
    "\n",
    "import numpy as np\n",
    "import pandas as pd\n",
    "from lightfm import LightFM\n",
    "from lightfm.data import Dataset\n",
    "from sklearn import preprocessing\n",
    "\n",
    "import itertools\n",
    "from multiprocessing import Pool\n",
    "\n",
    "SEED = 42\n",
    "np.random.seed(SEED)\n",
    "os.environ['PYTHONHASHSEED'] = str(SEED)\n",
    "\n",
    "VALID = True"
   ]
  },
  {
   "cell_type": "code",
   "execution_count": 2,
   "id": "b3fa22bf",
   "metadata": {
    "execution": {
     "iopub.execute_input": "2022-04-08T08:22:44.604314Z",
     "iopub.status.busy": "2022-04-08T08:22:44.603676Z",
     "iopub.status.idle": "2022-04-08T08:22:44.611604Z",
     "shell.execute_reply": "2022-04-08T08:22:44.610983Z",
     "shell.execute_reply.started": "2022-04-08T06:39:51.494147Z"
    },
    "papermill": {
     "duration": 0.029544,
     "end_time": "2022-04-08T08:22:44.611741",
     "exception": false,
     "start_time": "2022-04-08T08:22:44.582197",
     "status": "completed"
    },
    "tags": []
   },
   "outputs": [],
   "source": [
    "def apk(actual, predicted, k=12):\n",
    "    if len(predicted)>k:\n",
    "        predicted = predicted[:k]\n",
    "        \n",
    "    score = 0.0\n",
    "    num_hits = 0.0\n",
    "    \n",
    "    for i,p in enumerate(predicted):\n",
    "        if p in actual and p not in predicted[:i]:\n",
    "            num_hits += 1.0\n",
    "            score += num_hits / (i+1.0)\n",
    "\n",
    "    if not actual:\n",
    "        return 0.0\n",
    "\n",
    "    return score / min(len(actual), k)\n",
    "\n",
    "\n",
    "def mapk(actual, predicted, k=12):\n",
    "    \"\"\"\n",
    "    Computes the mean average precision at k.\n",
    "    This function computes the mean average prescision at k between two lists\n",
    "    of lists of items.\n",
    "    Parameters\n",
    "    ----------\n",
    "    actual : list\n",
    "             A list of lists of elements that are to be predicted \n",
    "             (order doesn't matter in the lists)\n",
    "    predicted : list\n",
    "                A list of lists of predicted elements\n",
    "                (order matters in the lists)\n",
    "    k : int, optional\n",
    "        The maximum number of predicted elements\n",
    "    Returns\n",
    "    -------\n",
    "    score : double\n",
    "            The mean average precision at k over the input lists\n",
    "    \"\"\"\n",
    "    return np.mean([apk(a,p,k) for a,p in zip(actual, predicted)])"
   ]
  },
  {
   "cell_type": "markdown",
   "id": "68bd3da4",
   "metadata": {
    "papermill": {
     "duration": 0.017793,
     "end_time": "2022-04-08T08:22:44.647796",
     "exception": false,
     "start_time": "2022-04-08T08:22:44.630003",
     "status": "completed"
    },
    "tags": []
   },
   "source": [
    "## Configs"
   ]
  },
  {
   "cell_type": "code",
   "execution_count": 3,
   "id": "2431e179",
   "metadata": {
    "execution": {
     "iopub.execute_input": "2022-04-08T08:22:44.690560Z",
     "iopub.status.busy": "2022-04-08T08:22:44.689857Z",
     "iopub.status.idle": "2022-04-08T08:22:44.691571Z",
     "shell.execute_reply": "2022-04-08T08:22:44.692050Z",
     "shell.execute_reply.started": "2022-04-08T06:39:51.503094Z"
    },
    "papermill": {
     "duration": 0.025904,
     "end_time": "2022-04-08T08:22:44.692223",
     "exception": false,
     "start_time": "2022-04-08T08:22:44.666319",
     "status": "completed"
    },
    "tags": []
   },
   "outputs": [],
   "source": [
    "# default number of recommendations\n",
    "K = 12\n",
    "EPOCHS = 100\n",
    "LEARNING_RATE = 0.1 \n",
    "NO_COMPONENTS = 50\n",
    "NO_THREADS = 32\n",
    "ITEM_ALPHA=1e-6\n",
    "USER_ALPHA=1e-6\n",
    "\n",
    "num_cores=4"
   ]
  },
  {
   "cell_type": "markdown",
   "id": "b786c0b7",
   "metadata": {
    "papermill": {
     "duration": 0.01986,
     "end_time": "2022-04-08T08:22:44.732206",
     "exception": false,
     "start_time": "2022-04-08T08:22:44.712346",
     "status": "completed"
    },
    "tags": []
   },
   "source": [
    "## Load the data"
   ]
  },
  {
   "cell_type": "code",
   "execution_count": 4,
   "id": "a3bb7162",
   "metadata": {
    "execution": {
     "iopub.execute_input": "2022-04-08T08:22:44.778927Z",
     "iopub.status.busy": "2022-04-08T08:22:44.778087Z",
     "iopub.status.idle": "2022-04-08T08:24:06.610718Z",
     "shell.execute_reply": "2022-04-08T08:24:06.610161Z",
     "shell.execute_reply.started": "2022-04-08T06:39:51.513483Z"
    },
    "papermill": {
     "duration": 81.858133,
     "end_time": "2022-04-08T08:24:06.610862",
     "exception": false,
     "start_time": "2022-04-08T08:22:44.752729",
     "status": "completed"
    },
    "tags": []
   },
   "outputs": [],
   "source": [
    "main_dir = \"../input/h-and-m-personalized-fashion-recommendations\"\n",
    "images_dir = main_dir+\"/images/\" \n",
    "customers = pd.read_csv(main_dir+\"/customers.csv\")\n",
    "articles = pd.read_csv(main_dir+\"/articles.csv\", dtype={'article_id': str})\n",
    "sample_submission = pd.read_csv(main_dir+\"/sample_submission.csv\", dtype={'article_id': str})\n",
    "train = pd.read_csv(main_dir+'/transactions_train.csv',  dtype={'article_id': str}, parse_dates=['t_dat'])"
   ]
  },
  {
   "cell_type": "markdown",
   "id": "2c1f0fb6",
   "metadata": {
    "papermill": {
     "duration": 0.035887,
     "end_time": "2022-04-08T08:24:06.683834",
     "exception": false,
     "start_time": "2022-04-08T08:24:06.647947",
     "status": "completed"
    },
    "tags": []
   },
   "source": [
    "# features"
   ]
  },
  {
   "cell_type": "code",
   "execution_count": 5,
   "id": "d81ebbd8",
   "metadata": {
    "execution": {
     "iopub.execute_input": "2022-04-08T08:24:06.730410Z",
     "iopub.status.busy": "2022-04-08T08:24:06.729706Z",
     "iopub.status.idle": "2022-04-08T08:24:18.088743Z",
     "shell.execute_reply": "2022-04-08T08:24:18.087633Z",
     "shell.execute_reply.started": "2022-04-08T06:41:08.602894Z"
    },
    "papermill": {
     "duration": 11.382598,
     "end_time": "2022-04-08T08:24:18.089171",
     "exception": false,
     "start_time": "2022-04-08T08:24:06.706573",
     "status": "completed"
    },
    "tags": []
   },
   "outputs": [
    {
     "name": "stderr",
     "output_type": "stream",
     "text": [
      "/opt/conda/lib/python3.7/site-packages/ipykernel_launcher.py:4: FutureWarning: Series.dt.weekofyear and Series.dt.week have been deprecated.  Please use Series.dt.isocalendar().week instead.\n",
      "  after removing the cwd from sys.path.\n"
     ]
    }
   ],
   "source": [
    "train[\"t_dat\"] = pd.to_datetime(train[\"t_dat\"])\n",
    "\n",
    "date_week_df = train.drop_duplicates(\"t_dat\")[[\"t_dat\"]].reset_index(drop=True)\n",
    "date_week_df['week_no'] = (date_week_df['t_dat'] + pd.DateOffset(days=5)).dt.week\n",
    "date_week_df[\"week_no\"] = date_week_df[\"week_no\"].diff(1)\n",
    "date_week_df[\"week_no\"].fillna(0, inplace=True)\n",
    "date_week_df[\"week_no\"] = date_week_df[\"week_no\"] != 0\n",
    "date_week_df[\"week_no\"] = date_week_df[\"week_no\"].cumsum()\n",
    "\n",
    "train = pd.merge(train, date_week_df, on=\"t_dat\", how=\"left\")\n",
    "test_week = train.week_no.max()\n",
    "\n",
    "del date_week_df"
   ]
  },
  {
   "cell_type": "code",
   "execution_count": 6,
   "id": "7e2004eb",
   "metadata": {
    "execution": {
     "iopub.execute_input": "2022-04-08T08:24:18.168603Z",
     "iopub.status.busy": "2022-04-08T08:24:18.167350Z",
     "iopub.status.idle": "2022-04-08T08:25:49.177117Z",
     "shell.execute_reply": "2022-04-08T08:25:49.176453Z",
     "shell.execute_reply.started": "2022-04-08T06:41:15.326576Z"
    },
    "papermill": {
     "duration": 91.057092,
     "end_time": "2022-04-08T08:25:49.177303",
     "exception": false,
     "start_time": "2022-04-08T08:24:18.120211",
     "status": "completed"
    },
    "tags": []
   },
   "outputs": [],
   "source": [
    "if VALID:\n",
    "    tmp = train[train.week_no < test_week].reset_index(drop=True).copy()\n",
    "else:\n",
    "    tmp = train.copy()\n",
    "\n",
    "# count encoding\n",
    "tmp = pd.merge(tmp, articles[[\"article_id\", \"index_group_name\"]], on='article_id', how='left')\n",
    "mp = {'Ladieswear':1, 'Baby/Children':0.5, 'Menswear':0, 'Sport':0.5, 'Divided':0.5} \n",
    "tmp[\"gender\"] = tmp[\"index_group_name\"].map(mp)\n",
    "user_g = tmp.groupby('customer_id').gender.mean().reset_index()\n",
    "    \n",
    "item_count = tmp[\"article_id\"].value_counts().reset_index()\n",
    "item_count.columns = [\"article_id\", \"item_count\"]\n",
    "user_count = tmp[\"customer_id\"].value_counts().reset_index()\n",
    "user_count.columns = [\"customer_id\", \"user_count\"]\n",
    "\n",
    "tmp1 = tmp[tmp.sales_channel_id==1][\"article_id\"].value_counts().reset_index()\n",
    "tmp1.columns = [\"article_id\", \"count_in1\"]\n",
    "\n",
    "tmp2 = tmp[tmp.sales_channel_id==2][\"article_id\"].value_counts().reset_index()\n",
    "tmp2.columns = [\"article_id\", \"count_in2\"]\n",
    "\n",
    "sales_channel_count = pd.merge(tmp1, tmp2, on=\"article_id\", how=\"outer\").fillna(0)\n",
    "sales_channel_count[\"channel_ratio\"] = sales_channel_count[\"count_in1\"] / (sales_channel_count[\"count_in2\"]+0.1)\n",
    "\n",
    "user_last_week = tmp.groupby(\"customer_id\")[\"week_no\"].max().reset_index()\n",
    "user_last_week.columns = [\"customer_id\", \"last_week\"]\n",
    "\n",
    "user_num_week = tmp.groupby(\"customer_id\")[\"week_no\"].nunique().reset_index()\n",
    "user_num_week.columns = [\"customer_id\", \"week_num\"]\n",
    "\n",
    "del tmp1, tmp2, tmp\n",
    "\n",
    "customers = pd.merge(customers, user_count, on = \"customer_id\", how=\"left\")\n",
    "customers[\"user_count\"].fillna(0, inplace=True)\n",
    "customers = pd.merge(customers, user_last_week, on = \"customer_id\", how=\"left\")\n",
    "customers[\"last_week\"].fillna(-1, inplace=True)\n",
    "customers = pd.merge(customers, user_num_week, on = \"customer_id\", how=\"left\")\n",
    "customers[\"week_num\"].fillna(-1, inplace=True)\n",
    "customers = pd.merge(customers, user_g, on = \"customer_id\", how=\"left\")\n",
    "customers[\"gender\"].fillna(0.75, inplace=True)\n",
    "del user_count, user_last_week, user_num_week, user_g\n",
    "\n",
    "articles = pd.merge(articles, item_count, on = \"article_id\", how=\"left\")\n",
    "articles = pd.merge(articles, sales_channel_count, on = \"article_id\", how=\"left\")\n",
    "articles[\"item_count\"].fillna(0, inplace=True)\n",
    "articles.fillna(-1, inplace=True)\n",
    "del item_count, sales_channel_count"
   ]
  },
  {
   "cell_type": "code",
   "execution_count": 7,
   "id": "933f6905",
   "metadata": {
    "execution": {
     "iopub.execute_input": "2022-04-08T08:25:49.224685Z",
     "iopub.status.busy": "2022-04-08T08:25:49.224005Z",
     "iopub.status.idle": "2022-04-08T08:25:49.264376Z",
     "shell.execute_reply": "2022-04-08T08:25:49.263817Z",
     "shell.execute_reply.started": "2022-04-08T06:42:39.000550Z"
    },
    "papermill": {
     "duration": 0.067723,
     "end_time": "2022-04-08T08:25:49.264520",
     "exception": false,
     "start_time": "2022-04-08T08:25:49.196797",
     "status": "completed"
    },
    "tags": []
   },
   "outputs": [
    {
     "data": {
      "text/plain": [
       "['product_code',\n",
       " 'product_type_no',\n",
       " 'graphical_appearance_no',\n",
       " 'colour_group_code',\n",
       " 'perceived_colour_value_id',\n",
       " 'perceived_colour_master_id',\n",
       " 'department_no',\n",
       " 'index_group_no',\n",
       " 'section_no',\n",
       " 'garment_group_no',\n",
       " 'item_count',\n",
       " 'count_in1',\n",
       " 'count_in2',\n",
       " 'channel_ratio']"
      ]
     },
     "execution_count": 7,
     "metadata": {},
     "output_type": "execute_result"
    }
   ],
   "source": [
    "# item\n",
    "article_columns = [i for i in articles.columns if \"int\" in str(articles[i].dtype)]\n",
    "article_columns += [\"item_count\", \"count_in1\", \"count_in2\", \"channel_ratio\"]\n",
    "articles = articles[['article_id'] + article_columns]\n",
    "\n",
    "article_columns"
   ]
  },
  {
   "cell_type": "code",
   "execution_count": 8,
   "id": "973bed9a",
   "metadata": {
    "execution": {
     "iopub.execute_input": "2022-04-08T08:25:49.306564Z",
     "iopub.status.busy": "2022-04-08T08:25:49.305936Z",
     "iopub.status.idle": "2022-04-08T08:25:49.804230Z",
     "shell.execute_reply": "2022-04-08T08:25:49.804850Z",
     "shell.execute_reply.started": "2022-04-08T06:42:39.043969Z"
    },
    "papermill": {
     "duration": 0.521125,
     "end_time": "2022-04-08T08:25:49.805044",
     "exception": false,
     "start_time": "2022-04-08T08:25:49.283919",
     "status": "completed"
    },
    "tags": []
   },
   "outputs": [
    {
     "data": {
      "text/plain": [
       "['age', 'user_count', 'last_week', 'week_num', 'gender']"
      ]
     },
     "execution_count": 8,
     "metadata": {},
     "output_type": "execute_result"
    }
   ],
   "source": [
    "# user\n",
    "user_columns = [] #'FN', 'Active', 'club_member_status'　#'fashion_news_frequency', 'postal_code'\n",
    "customers.fillna(-1, inplace=True)\n",
    "for feat in user_columns:\n",
    "    lbl = preprocessing.LabelEncoder()\n",
    "    lbl.fit(list(customers[feat]))\n",
    "    customers[feat] = lbl.transform(list(customers[feat]))\n",
    "user_columns += ['age', \"user_count\", \"last_week\", \"week_num\", \"gender\"]\n",
    "user_columns"
   ]
  },
  {
   "cell_type": "markdown",
   "id": "961ba1a8",
   "metadata": {
    "papermill": {
     "duration": 0.020099,
     "end_time": "2022-04-08T08:25:49.846350",
     "exception": false,
     "start_time": "2022-04-08T08:25:49.826251",
     "status": "completed"
    },
    "tags": []
   },
   "source": [
    "# dataset"
   ]
  },
  {
   "cell_type": "code",
   "execution_count": 9,
   "id": "82240987",
   "metadata": {
    "execution": {
     "iopub.execute_input": "2022-04-08T08:25:49.889147Z",
     "iopub.status.busy": "2022-04-08T08:25:49.888162Z",
     "iopub.status.idle": "2022-04-08T08:25:51.744746Z",
     "shell.execute_reply": "2022-04-08T08:25:51.745435Z",
     "shell.execute_reply.started": "2022-04-08T06:42:39.532541Z"
    },
    "papermill": {
     "duration": 1.880092,
     "end_time": "2022-04-08T08:25:51.745659",
     "exception": false,
     "start_time": "2022-04-08T08:25:49.865567",
     "status": "completed"
    },
    "tags": []
   },
   "outputs": [
    {
     "name": "stdout",
     "output_type": "stream",
     "text": [
      "Number of users: 1371980, Number of topics: 105542.\n"
     ]
    }
   ],
   "source": [
    "dataset = Dataset()\n",
    "dataset.fit(users=customers['customer_id'], \n",
    "            items=articles['article_id'],\n",
    "            user_features = user_columns,\n",
    "            item_features = article_columns) \n",
    "\n",
    "num_users, num_topics = dataset.interactions_shape()\n",
    "print(f'Number of users: {num_users}, Number of topics: {num_topics}.')\n",
    "\n",
    "#Get the mappings\n",
    "uid_map, ufeature_map, iid_map, ifeature_map = dataset.mapping() \n",
    "inv_uid_map = {v:k for k, v in uid_map.items()}\n",
    "inv_iid_map = {v:k for k, v in iid_map.items()}"
   ]
  },
  {
   "cell_type": "code",
   "execution_count": 10,
   "id": "6cd036a6",
   "metadata": {
    "execution": {
     "iopub.execute_input": "2022-04-08T08:25:51.788998Z",
     "iopub.status.busy": "2022-04-08T08:25:51.788384Z",
     "iopub.status.idle": "2022-04-08T08:25:57.507017Z",
     "shell.execute_reply": "2022-04-08T08:25:57.506470Z",
     "shell.execute_reply.started": "2022-04-08T06:42:41.222457Z"
    },
    "papermill": {
     "duration": 5.741036,
     "end_time": "2022-04-08T08:25:57.507194",
     "exception": false,
     "start_time": "2022-04-08T08:25:51.766158",
     "status": "completed"
    },
    "tags": []
   },
   "outputs": [],
   "source": [
    "item_last_week = train.groupby(\"article_id\")[\"week_no\"].max().reset_index()\n",
    "weak_weight_items = item_last_week[item_last_week.week_no > 100][\"article_id\"].values\n",
    "weak_weight_id = [iid_map[ele] for ele in weak_weight_items]\n",
    "\n",
    "weak_weight_items2 = item_last_week[item_last_week.week_no > 90][\"article_id\"].values\n",
    "weak_weight_id2 = [iid_map[ele] for ele in weak_weight_items2]\n",
    "del item_last_week"
   ]
  },
  {
   "cell_type": "code",
   "execution_count": 11,
   "id": "bcb76ccb",
   "metadata": {
    "execution": {
     "iopub.execute_input": "2022-04-08T08:25:57.567288Z",
     "iopub.status.busy": "2022-04-08T08:25:57.549427Z",
     "iopub.status.idle": "2022-04-08T08:31:37.748824Z",
     "shell.execute_reply": "2022-04-08T08:31:37.749412Z",
     "shell.execute_reply.started": "2022-04-08T06:42:45.847434Z"
    },
    "papermill": {
     "duration": 340.222721,
     "end_time": "2022-04-08T08:31:37.749686",
     "exception": false,
     "start_time": "2022-04-08T08:25:57.526965",
     "status": "completed"
    },
    "tags": []
   },
   "outputs": [
    {
     "name": "stdout",
     "output_type": "stream",
     "text": [
      "(1371980, 105542)\n"
     ]
    }
   ],
   "source": [
    "if VALID:\n",
    "    train_set = train[train.week_no < test_week].copy()\n",
    "    train_ser = train_set.drop_duplicates([\"customer_id\", \"article_id\"]).reset_index(drop=True)\n",
    "    (interactions, weights) = dataset.build_interactions(train_set.iloc[:, 1:3].values)\n",
    "\n",
    "    valid = train[train.week_no == test_week].groupby('customer_id')['article_id'].apply(list).reset_index()\n",
    "    valid = valid.rename({'article_id':'prediction'},axis=1)\n",
    "    valid['prediction'] = valid.prediction.apply(lambda x: ' '.join([str(k) for k in x]))\n",
    "\n",
    "    inactive_users = list(set(train_set.customer_id) - set(train_set[train_set.week_no > test_week - 10][\"customer_id\"]))\n",
    "    cold_users = list(set(valid.customer_id) - set(train_set.customer_id))\n",
    "    del train_set\n",
    "else:\n",
    "    (interactions, weights) = dataset.build_interactions(train.iloc[:, 1:3].values)\n",
    "    \n",
    "dataset.build_item_features(((articles.iloc[index][\"article_id\"], article_columns) for index in range(articles.shape[0])))\n",
    "dataset.build_user_features(((customers.iloc[index][\"customer_id\"], user_columns) for index in range(customers.shape[0])))\n",
    "\n",
    "print(interactions.shape)\n",
    "del train"
   ]
  },
  {
   "cell_type": "code",
   "execution_count": 12,
   "id": "e2299522",
   "metadata": {
    "execution": {
     "iopub.execute_input": "2022-04-08T08:31:37.793741Z",
     "iopub.status.busy": "2022-04-08T08:31:37.793170Z",
     "iopub.status.idle": "2022-04-08T08:31:52.460484Z",
     "shell.execute_reply": "2022-04-08T08:31:52.459755Z",
     "shell.execute_reply.started": "2022-04-08T06:48:05.162804Z"
    },
    "papermill": {
     "duration": 14.690044,
     "end_time": "2022-04-08T08:31:52.460633",
     "exception": false,
     "start_time": "2022-04-08T08:31:37.770589",
     "status": "completed"
    },
    "tags": []
   },
   "outputs": [],
   "source": [
    "change_index = np.isin(weights.col, weak_weight_id)\n",
    "change_index2 = np.isin(weights.col, weak_weight_id2)\n",
    "\n",
    "weights.data[change_index2] = 2.0\n",
    "weights.data[change_index] = 3.0"
   ]
  },
  {
   "cell_type": "markdown",
   "id": "3ae99b10",
   "metadata": {
    "papermill": {
     "duration": 0.019715,
     "end_time": "2022-04-08T08:31:52.500252",
     "exception": false,
     "start_time": "2022-04-08T08:31:52.480537",
     "status": "completed"
    },
    "tags": []
   },
   "source": [
    "# fitting"
   ]
  },
  {
   "cell_type": "code",
   "execution_count": 13,
   "id": "410667df",
   "metadata": {
    "execution": {
     "iopub.execute_input": "2022-04-08T08:31:52.548465Z",
     "iopub.status.busy": "2022-04-08T08:31:52.547755Z",
     "iopub.status.idle": "2022-04-08T09:51:05.735760Z",
     "shell.execute_reply": "2022-04-08T09:51:05.732515Z",
     "shell.execute_reply.started": "2022-04-08T06:48:18.366985Z"
    },
    "papermill": {
     "duration": 4753.215087,
     "end_time": "2022-04-08T09:51:05.736162",
     "exception": false,
     "start_time": "2022-04-08T08:31:52.521075",
     "status": "completed"
    },
    "tags": []
   },
   "outputs": [
    {
     "name": "stderr",
     "output_type": "stream",
     "text": [
      "Epoch: 100%|██████████| 100/100 [1:19:11<00:00, 47.52s/it]\n"
     ]
    },
    {
     "data": {
      "text/plain": [
       "<lightfm.lightfm.LightFM at 0x7f5ab597c650>"
      ]
     },
     "execution_count": 13,
     "metadata": {},
     "output_type": "execute_result"
    }
   ],
   "source": [
    "model = LightFM(loss='bpr', \n",
    "                no_components=NO_COMPONENTS, \n",
    "                learning_rate=LEARNING_RATE,                 \n",
    "                random_state=np.random.RandomState(SEED),\n",
    "                user_alpha=USER_ALPHA,\n",
    "                item_alpha=ITEM_ALPHA,\n",
    "               )\n",
    "\n",
    "model.fit(interactions=interactions, \n",
    "          epochs=EPOCHS, \n",
    "          verbose=1, \n",
    "          num_threads=NO_THREADS,\n",
    "          sample_weight=weights,\n",
    "         )"
   ]
  },
  {
   "cell_type": "markdown",
   "id": "cb2a5b52",
   "metadata": {
    "papermill": {
     "duration": 0.048588,
     "end_time": "2022-04-08T09:51:05.834525",
     "exception": false,
     "start_time": "2022-04-08T09:51:05.785937",
     "status": "completed"
    },
    "tags": []
   },
   "source": [
    "# Submission"
   ]
  },
  {
   "cell_type": "code",
   "execution_count": 14,
   "id": "363c394a",
   "metadata": {
    "execution": {
     "iopub.execute_input": "2022-04-08T09:51:05.945787Z",
     "iopub.status.busy": "2022-04-08T09:51:05.944462Z",
     "iopub.status.idle": "2022-04-08T09:51:06.306375Z",
     "shell.execute_reply": "2022-04-08T09:51:06.307045Z",
     "shell.execute_reply.started": "2022-04-08T08:03:53.379831Z"
    },
    "papermill": {
     "duration": 0.419223,
     "end_time": "2022-04-08T09:51:06.307229",
     "exception": false,
     "start_time": "2022-04-08T09:51:05.888006",
     "status": "completed"
    },
    "tags": []
   },
   "outputs": [
    {
     "name": "stdout",
     "output_type": "stream",
     "text": [
      "68984\n"
     ]
    }
   ],
   "source": [
    "if VALID:\n",
    "    test_X = valid.customer_id.values\n",
    "else:\n",
    "    test_X = sample_submission.customer_id.values    \n",
    "\n",
    "lfn_user = lambda x: uid_map[x]\n",
    "test_X_m = [lfn_user(tx) for tx in test_X]\n",
    "\n",
    "print(len(test_X_m))"
   ]
  },
  {
   "cell_type": "code",
   "execution_count": 15,
   "id": "f02fa186",
   "metadata": {
    "execution": {
     "iopub.execute_input": "2022-04-08T09:51:08.145052Z",
     "iopub.status.busy": "2022-04-08T09:51:06.418074Z",
     "iopub.status.idle": "2022-04-08T09:51:08.154225Z",
     "shell.execute_reply": "2022-04-08T09:51:08.153655Z",
     "shell.execute_reply.started": "2022-04-08T08:03:53.823803Z"
    },
    "papermill": {
     "duration": 1.796513,
     "end_time": "2022-04-08T09:51:08.154383",
     "exception": false,
     "start_time": "2022-04-08T09:51:06.357870",
     "status": "completed"
    },
    "tags": []
   },
   "outputs": [],
   "source": [
    "def predict_submission():\n",
    "    df_split = np.array_split(test_X_m, num_cores)\n",
    "    chunk_size = len(df_split[0])\n",
    "    \n",
    "    chunk1 = list(df_split[0])\n",
    "    chunk2 = list(df_split[1])\n",
    "    chunk3 = list(df_split[2])\n",
    "    chunk4 = list(df_split[3])\n",
    "    \n",
    "    #list of items for multiprocessing, 4 since using 4 cores\n",
    "    all_chunks = [chunk1, chunk2, chunk3, chunk4]\n",
    "    \n",
    "    pool = Pool(num_cores)\n",
    "    result = pool.map(make_predict, all_chunks)\n",
    "    \n",
    "    pred_combined = list(itertools.chain(result[0], result[1], result[2], result[3]))\n",
    "\n",
    "    return pred_combined\n",
    "\n",
    "def make_predict(usr_chunk):\n",
    "    customer_ids = []\n",
    "    preds = []\n",
    "    item_array = np.array(list(iid_map.values()))\n",
    "\n",
    "    for usr_ in usr_chunk:\n",
    "        m_opt = model.predict(np.array([usr_] * len(iid_map)), item_array)\n",
    "        pred = np.argsort(-m_opt)[:K]\n",
    "        preds.append(' '.join([inv_iid_map[p] for p in pred]).strip())\n",
    "    \n",
    "    preds = np.array(preds).reshape(-1, 1)\n",
    "    return preds"
   ]
  },
  {
   "cell_type": "code",
   "execution_count": 16,
   "id": "6920c5ba",
   "metadata": {
    "execution": {
     "iopub.execute_input": "2022-04-08T09:51:08.277158Z",
     "iopub.status.busy": "2022-04-08T09:51:08.276361Z",
     "iopub.status.idle": "2022-04-08T10:02:24.878341Z",
     "shell.execute_reply": "2022-04-08T10:02:24.878913Z",
     "shell.execute_reply.started": "2022-04-08T08:03:56.341165Z"
    },
    "papermill": {
     "duration": 676.676182,
     "end_time": "2022-04-08T10:02:24.879133",
     "exception": false,
     "start_time": "2022-04-08T09:51:08.202951",
     "status": "completed"
    },
    "tags": []
   },
   "outputs": [
    {
     "name": "stdout",
     "output_type": "stream",
     "text": [
      "CPU times: user 1.05 s, sys: 618 ms, total: 1.67 s\n",
      "Wall time: 11min 16s\n"
     ]
    }
   ],
   "source": [
    "%%time\n",
    "final_predictions = predict_submission()"
   ]
  },
  {
   "cell_type": "code",
   "execution_count": 17,
   "id": "599e5964",
   "metadata": {
    "execution": {
     "iopub.execute_input": "2022-04-08T10:02:24.989708Z",
     "iopub.status.busy": "2022-04-08T10:02:24.988767Z",
     "iopub.status.idle": "2022-04-08T10:02:32.751810Z",
     "shell.execute_reply": "2022-04-08T10:02:32.751167Z",
     "shell.execute_reply.started": "2022-04-08T08:14:55.933064Z"
    },
    "papermill": {
     "duration": 7.819082,
     "end_time": "2022-04-08T10:02:32.751979",
     "exception": false,
     "start_time": "2022-04-08T10:02:24.932897",
     "status": "completed"
    },
    "tags": []
   },
   "outputs": [],
   "source": [
    "final_sub = pd.DataFrame(data=np.concatenate((np.array(test_X).reshape(-1,1), np.array(final_predictions)), axis=1).reshape(-1, 2),\n",
    "                         columns=['customer_id', 'prediction'])\n",
    "\n",
    "sample_submission.loc[sample_submission.customer_id.isin(final_sub.customer_id), 'prediction'] = ( \n",
    "    final_sub['prediction']\n",
    "    )\n",
    "sample_submission.to_csv('submission.csv', index=False)"
   ]
  },
  {
   "cell_type": "code",
   "execution_count": 18,
   "id": "e904b0bd",
   "metadata": {
    "execution": {
     "iopub.execute_input": "2022-04-08T10:02:32.866581Z",
     "iopub.status.busy": "2022-04-08T10:02:32.863588Z",
     "iopub.status.idle": "2022-04-08T10:02:42.377397Z",
     "shell.execute_reply": "2022-04-08T10:02:42.376780Z",
     "shell.execute_reply.started": "2022-04-08T08:15:03.772625Z"
    },
    "papermill": {
     "duration": 9.574718,
     "end_time": "2022-04-08T10:02:42.377538",
     "exception": false,
     "start_time": "2022-04-08T10:02:32.802820",
     "status": "completed"
    },
    "tags": []
   },
   "outputs": [
    {
     "name": "stdout",
     "output_type": "stream",
     "text": [
      "t 0.00627272470774719\n",
      "i 0.006565105112640412 19048\n",
      "c 9.708762064289703e-05 5572\n",
      "  \n",
      "0376172001 0649551007 0500435039 0676111001 0754362003 0428291001 0725718001 0233091021 0704148001 0768591002 0126589010 0780418001    5572\n",
      "0120129001 0534164001 0215589001 0567532004 0300024058 0775382001 0752657001 0433444001 0510465001 0442915001 0262277011 0469562002       3\n",
      "0120129001 0534164001 0215589001 0300024058 0567532004 0752657001 0775382001 0510465001 0433444001 0262277011 0469562002 0442915001       2\n",
      "0120129001 0534164001 0215589001 0567532004 0300024058 0775382001 0752657001 0433444001 0510465001 0469562002 0442915001 0262277011       2\n",
      "0120129001 0534164001 0215589001 0300024058 0775382001 0567532004 0752657001 0433444001 0510465001 0262277011 0469562002 0442915001       2\n",
      "                                                                                                                                       ... \n",
      "0629758005 0727948001 0692721005 0736530007 0629758013 0727948005 0351484027 0458543005 0736530006 0351484026 0351484033 0351484034       1\n",
      "0803772002 0778064003 0629420001 0739529002 0778064005 0799365013 0799365001 0806131003 0803772001 0827968001 0629420007 0863937003       1\n",
      "0372860002 0841434001 0825577001 0825600002 0372860001 0857812003 0838900001 0841434012 0827968004 0610776002 0803757001 0776179001       1\n",
      "0883033002 0850259001 0817353003 0832362002 0859105006 0850259004 0818031001 0859105002 0850259002 0817353007 0856310001 0818031002       1\n",
      "0896169002 0879781003 0879781002 0918836001 0863937003 0764073002 0817472005 0915529001 0915529003 0843793004 0866465001 0579541072       1\n",
      "Name: prediction, Length: 63405, dtype: int64\n"
     ]
    }
   ],
   "source": [
    "# local score\n",
    "if VALID:\n",
    "    sub_check = final_sub.copy()\n",
    "    sub_check = sub_check.set_index('customer_id').reset_index()\n",
    "    print(\"t\", mapk(valid.prediction.str.split(), sub_check.prediction.str.split(), k=12))    \n",
    "    print(\"i\", \n",
    "            mapk(valid[valid.customer_id.isin(inactive_users)].prediction.str.split(), \n",
    "               sub_check[sub_check.customer_id.isin(inactive_users)].prediction.str.split(), k=12),\n",
    "            valid[valid.customer_id.isin(inactive_users)].shape[0])\n",
    "    print(\"c\", \n",
    "            mapk(valid[valid.customer_id.isin(cold_users)].prediction.str.split(), \n",
    "               sub_check[sub_check.customer_id.isin(cold_users)].prediction.str.split(), k=12),\n",
    "            valid[valid.customer_id.isin(cold_users)].shape[0])\n",
    "    \n",
    "    print(\"  \")\n",
    "    print(sub_check[\"prediction\"].value_counts())  "
   ]
  },
  {
   "cell_type": "code",
   "execution_count": 19,
   "id": "17f1e646",
   "metadata": {
    "execution": {
     "iopub.execute_input": "2022-04-08T10:02:42.486966Z",
     "iopub.status.busy": "2022-04-08T10:02:42.486298Z",
     "iopub.status.idle": "2022-04-08T10:02:42.493918Z",
     "shell.execute_reply": "2022-04-08T10:02:42.492277Z",
     "shell.execute_reply.started": "2022-04-08T08:15:12.704894Z"
    },
    "papermill": {
     "duration": 0.062695,
     "end_time": "2022-04-08T10:02:42.495296",
     "exception": true,
     "start_time": "2022-04-08T10:02:42.432601",
     "status": "failed"
    },
    "tags": []
   },
   "outputs": [
    {
     "ename": "SyntaxError",
     "evalue": "invalid syntax (111086816.py, line 1)",
     "output_type": "error",
     "traceback": [
      "\u001b[0;36m  File \u001b[0;32m\"/tmp/ipykernel_20/111086816.py\"\u001b[0;36m, line \u001b[0;32m1\u001b[0m\n\u001b[0;31m    i 0.00658943773398899 19048\u001b[0m\n\u001b[0m                        ^\u001b[0m\n\u001b[0;31mSyntaxError\u001b[0m\u001b[0;31m:\u001b[0m invalid syntax\n"
     ]
    }
   ],
   "source": [
    "i 0.00658943773398899 19048"
   ]
  }
 ],
 "metadata": {
  "kernelspec": {
   "display_name": "Python 3",
   "language": "python",
   "name": "python3"
  },
  "language_info": {
   "codemirror_mode": {
    "name": "ipython",
    "version": 3
   },
   "file_extension": ".py",
   "mimetype": "text/x-python",
   "name": "python",
   "nbconvert_exporter": "python",
   "pygments_lexer": "ipython3",
   "version": "3.7.12"
  },
  "papermill": {
   "default_parameters": {},
   "duration": 6011.067525,
   "end_time": "2022-04-08T10:02:45.176836",
   "environment_variables": {},
   "exception": true,
   "input_path": "__notebook__.ipynb",
   "output_path": "__notebook__.ipynb",
   "parameters": {},
   "start_time": "2022-04-08T08:22:34.109311",
   "version": "2.3.3"
  }
 },
 "nbformat": 4,
 "nbformat_minor": 5
}
