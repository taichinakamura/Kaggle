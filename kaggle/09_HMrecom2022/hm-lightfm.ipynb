{
 "cells": [
  {
   "cell_type": "markdown",
   "id": "faba9ba5",
   "metadata": {
    "papermill": {
     "duration": 0.030748,
     "end_time": "2022-04-05T08:12:46.309172",
     "exception": false,
     "start_time": "2022-04-05T08:12:46.278424",
     "status": "completed"
    },
    "tags": []
   },
   "source": [
    "- https://making.lyst.com/lightfm/docs/lightfm.html\n",
    "- modify mistake in valid label\n",
    "- consider item, user features\n",
    "- add weight"
   ]
  },
  {
   "cell_type": "code",
   "execution_count": 1,
   "id": "06870563",
   "metadata": {
    "execution": {
     "iopub.execute_input": "2022-04-05T08:12:46.368663Z",
     "iopub.status.busy": "2022-04-05T08:12:46.366773Z",
     "iopub.status.idle": "2022-04-05T08:12:47.450913Z",
     "shell.execute_reply": "2022-04-05T08:12:47.449880Z",
     "shell.execute_reply.started": "2022-04-05T06:24:42.996917Z"
    },
    "papermill": {
     "duration": 1.113678,
     "end_time": "2022-04-05T08:12:47.451101",
     "exception": false,
     "start_time": "2022-04-05T08:12:46.337423",
     "status": "completed"
    },
    "tags": []
   },
   "outputs": [],
   "source": [
    "import os\n",
    "import tqdm\n",
    "\n",
    "import numpy as np\n",
    "import pandas as pd\n",
    "from lightfm import LightFM\n",
    "from lightfm.data import Dataset\n",
    "from sklearn import preprocessing\n",
    "\n",
    "import itertools\n",
    "from multiprocessing import Pool\n",
    "\n",
    "SEED = 42\n",
    "np.random.seed(SEED)\n",
    "os.environ['PYTHONHASHSEED'] = str(SEED)\n",
    "\n",
    "VALID = True"
   ]
  },
  {
   "cell_type": "code",
   "execution_count": 2,
   "id": "7e466532",
   "metadata": {
    "execution": {
     "iopub.execute_input": "2022-04-05T08:12:47.514079Z",
     "iopub.status.busy": "2022-04-05T08:12:47.513335Z",
     "iopub.status.idle": "2022-04-05T08:12:47.515446Z",
     "shell.execute_reply": "2022-04-05T08:12:47.514960Z",
     "shell.execute_reply.started": "2022-04-05T06:24:44.172704Z"
    },
    "papermill": {
     "duration": 0.0381,
     "end_time": "2022-04-05T08:12:47.515598",
     "exception": false,
     "start_time": "2022-04-05T08:12:47.477498",
     "status": "completed"
    },
    "tags": []
   },
   "outputs": [],
   "source": [
    "def apk(actual, predicted, k=12):\n",
    "    if len(predicted)>k:\n",
    "        predicted = predicted[:k]\n",
    "        \n",
    "    score = 0.0\n",
    "    num_hits = 0.0\n",
    "    \n",
    "    for i,p in enumerate(predicted):\n",
    "        if p in actual and p not in predicted[:i]:\n",
    "            num_hits += 1.0\n",
    "            score += num_hits / (i+1.0)\n",
    "\n",
    "    if not actual:\n",
    "        return 0.0\n",
    "\n",
    "    return score / min(len(actual), k)\n",
    "\n",
    "\n",
    "def mapk(actual, predicted, k=12):\n",
    "    \"\"\"\n",
    "    Computes the mean average precision at k.\n",
    "    This function computes the mean average prescision at k between two lists\n",
    "    of lists of items.\n",
    "    Parameters\n",
    "    ----------\n",
    "    actual : list\n",
    "             A list of lists of elements that are to be predicted \n",
    "             (order doesn't matter in the lists)\n",
    "    predicted : list\n",
    "                A list of lists of predicted elements\n",
    "                (order matters in the lists)\n",
    "    k : int, optional\n",
    "        The maximum number of predicted elements\n",
    "    Returns\n",
    "    -------\n",
    "    score : double\n",
    "            The mean average precision at k over the input lists\n",
    "    \"\"\"\n",
    "    return np.mean([apk(a,p,k) for a,p in zip(actual, predicted)])"
   ]
  },
  {
   "cell_type": "markdown",
   "id": "d00a246d",
   "metadata": {
    "papermill": {
     "duration": 0.024702,
     "end_time": "2022-04-05T08:12:47.565364",
     "exception": false,
     "start_time": "2022-04-05T08:12:47.540662",
     "status": "completed"
    },
    "tags": []
   },
   "source": [
    "## Configs"
   ]
  },
  {
   "cell_type": "code",
   "execution_count": 3,
   "id": "e8cc571a",
   "metadata": {
    "execution": {
     "iopub.execute_input": "2022-04-05T08:12:47.619400Z",
     "iopub.status.busy": "2022-04-05T08:12:47.618753Z",
     "iopub.status.idle": "2022-04-05T08:12:47.622783Z",
     "shell.execute_reply": "2022-04-05T08:12:47.623228Z",
     "shell.execute_reply.started": "2022-04-05T06:24:44.183679Z"
    },
    "papermill": {
     "duration": 0.032703,
     "end_time": "2022-04-05T08:12:47.623401",
     "exception": false,
     "start_time": "2022-04-05T08:12:47.590698",
     "status": "completed"
    },
    "tags": []
   },
   "outputs": [],
   "source": [
    "# default number of recommendations\n",
    "K = 12\n",
    "EPOCHS = 100\n",
    "LEARNING_RATE = 0.1\n",
    "NO_COMPONENTS = 50\n",
    "NO_THREADS = 32\n",
    "ITEM_ALPHA=1e-6\n",
    "USER_ALPHA=1e-6\n",
    "# cold_userはwarp, alpha: 1e-5がよさげ\n",
    "\n",
    "num_cores=4"
   ]
  },
  {
   "cell_type": "markdown",
   "id": "8c54ea81",
   "metadata": {
    "papermill": {
     "duration": 0.024701,
     "end_time": "2022-04-05T08:12:47.673089",
     "exception": false,
     "start_time": "2022-04-05T08:12:47.648388",
     "status": "completed"
    },
    "tags": []
   },
   "source": [
    "## Load the data"
   ]
  },
  {
   "cell_type": "code",
   "execution_count": 4,
   "id": "2d8809c8",
   "metadata": {
    "execution": {
     "iopub.execute_input": "2022-04-05T08:12:47.727910Z",
     "iopub.status.busy": "2022-04-05T08:12:47.727173Z",
     "iopub.status.idle": "2022-04-05T08:14:16.667330Z",
     "shell.execute_reply": "2022-04-05T08:14:16.666665Z",
     "shell.execute_reply.started": "2022-04-05T06:24:44.198941Z"
    },
    "papermill": {
     "duration": 88.968472,
     "end_time": "2022-04-05T08:14:16.667505",
     "exception": false,
     "start_time": "2022-04-05T08:12:47.699033",
     "status": "completed"
    },
    "tags": []
   },
   "outputs": [],
   "source": [
    "main_dir = \"../input/h-and-m-personalized-fashion-recommendations\"\n",
    "images_dir = main_dir+\"/images/\" \n",
    "customers = pd.read_csv(main_dir+\"/customers.csv\")\n",
    "articles = pd.read_csv(main_dir+\"/articles.csv\", dtype={'article_id': str})\n",
    "sample_submission = pd.read_csv(main_dir+\"/sample_submission.csv\", dtype={'article_id': str})\n",
    "train = pd.read_csv(main_dir+'/transactions_train.csv',  dtype={'article_id': str}, parse_dates=['t_dat'])"
   ]
  },
  {
   "cell_type": "markdown",
   "id": "1b770bda",
   "metadata": {
    "papermill": {
     "duration": 0.024727,
     "end_time": "2022-04-05T08:14:16.718110",
     "exception": false,
     "start_time": "2022-04-05T08:14:16.693383",
     "status": "completed"
    },
    "tags": []
   },
   "source": [
    "# features"
   ]
  },
  {
   "cell_type": "code",
   "execution_count": 5,
   "id": "ce3e8ef4",
   "metadata": {
    "execution": {
     "iopub.execute_input": "2022-04-05T08:14:16.792054Z",
     "iopub.status.busy": "2022-04-05T08:14:16.787471Z",
     "iopub.status.idle": "2022-04-05T08:14:25.364113Z",
     "shell.execute_reply": "2022-04-05T08:14:25.364722Z",
     "shell.execute_reply.started": "2022-04-05T06:26:16.597269Z"
    },
    "papermill": {
     "duration": 8.621775,
     "end_time": "2022-04-05T08:14:25.364905",
     "exception": false,
     "start_time": "2022-04-05T08:14:16.743130",
     "status": "completed"
    },
    "tags": []
   },
   "outputs": [
    {
     "name": "stderr",
     "output_type": "stream",
     "text": [
      "/opt/conda/lib/python3.7/site-packages/ipykernel_launcher.py:4: FutureWarning: Series.dt.weekofyear and Series.dt.week have been deprecated.  Please use Series.dt.isocalendar().week instead.\n",
      "  after removing the cwd from sys.path.\n"
     ]
    }
   ],
   "source": [
    "train[\"t_dat\"] = pd.to_datetime(train[\"t_dat\"])\n",
    "\n",
    "date_week_df = train.drop_duplicates(\"t_dat\")[[\"t_dat\"]].reset_index(drop=True)\n",
    "date_week_df['week_no'] = (date_week_df['t_dat'] + pd.DateOffset(days=5)).dt.week\n",
    "date_week_df[\"week_no\"] = date_week_df[\"week_no\"].diff(1)\n",
    "date_week_df[\"week_no\"].fillna(0, inplace=True)\n",
    "date_week_df[\"week_no\"] = date_week_df[\"week_no\"] != 0\n",
    "date_week_df[\"week_no\"] = date_week_df[\"week_no\"].cumsum()\n",
    "\n",
    "train = pd.merge(train, date_week_df, on=\"t_dat\", how=\"left\")\n",
    "test_week = train.week_no.max()\n",
    "\n",
    "del date_week_df"
   ]
  },
  {
   "cell_type": "code",
   "execution_count": 6,
   "id": "70e07f44",
   "metadata": {
    "execution": {
     "iopub.execute_input": "2022-04-05T08:14:25.443082Z",
     "iopub.status.busy": "2022-04-05T08:14:25.422556Z",
     "iopub.status.idle": "2022-04-05T08:15:05.082210Z",
     "shell.execute_reply": "2022-04-05T08:15:05.081440Z",
     "shell.execute_reply.started": "2022-04-05T06:26:23.753757Z"
    },
    "papermill": {
     "duration": 39.688599,
     "end_time": "2022-04-05T08:15:05.082375",
     "exception": false,
     "start_time": "2022-04-05T08:14:25.393776",
     "status": "completed"
    },
    "tags": []
   },
   "outputs": [],
   "source": [
    "if VALID:\n",
    "    tmp = train[train.week_no < test_week].reset_index(drop=True).copy()\n",
    "else:\n",
    "    tmp = train.copy()\n",
    "\n",
    "# count encoding\n",
    "#tmp = pd.merge(tmp, article_df[[\"article_id\"] + article_columns], on='article_id', how='left')\n",
    "    \n",
    "item_count = tmp[\"article_id\"].value_counts().reset_index()\n",
    "item_count.columns = [\"article_id\", \"item_count\"]\n",
    "user_count = tmp[\"customer_id\"].value_counts().reset_index()\n",
    "user_count.columns = [\"customer_id\", \"user_count\"]\n",
    "\n",
    "tmp1 = tmp[tmp.sales_channel_id==1][\"article_id\"].value_counts().reset_index()\n",
    "tmp1.columns = [\"article_id\", \"count_in1\"]\n",
    "\n",
    "tmp2 = tmp[tmp.sales_channel_id==2][\"article_id\"].value_counts().reset_index()\n",
    "tmp2.columns = [\"article_id\", \"count_in2\"]\n",
    "\n",
    "sales_channel_count = pd.merge(tmp1, tmp2, on=\"article_id\", how=\"outer\").fillna(0)\n",
    "sales_channel_count[\"channel_ratio\"] = sales_channel_count[\"count_in1\"] / (sales_channel_count[\"count_in2\"]+0.1)\n",
    "del tmp1, tmp2, tmp\n",
    "\n",
    "customers = pd.merge(customers, user_count, on = \"customer_id\", how=\"left\")\n",
    "customers[\"user_count\"].fillna(0, inplace=True)\n",
    "\n",
    "articles = pd.merge(articles, item_count, on = \"article_id\", how=\"left\")\n",
    "articles = pd.merge(articles, sales_channel_count, on = \"article_id\", how=\"left\")\n",
    "articles[\"item_count\"].fillna(0, inplace=True)\n",
    "articles.fillna(-1, inplace=True)"
   ]
  },
  {
   "cell_type": "code",
   "execution_count": 7,
   "id": "daba2eae",
   "metadata": {
    "execution": {
     "iopub.execute_input": "2022-04-05T08:15:05.137986Z",
     "iopub.status.busy": "2022-04-05T08:15:05.137213Z",
     "iopub.status.idle": "2022-04-05T08:15:05.186391Z",
     "shell.execute_reply": "2022-04-05T08:15:05.186936Z",
     "shell.execute_reply.started": "2022-04-05T06:27:00.811053Z"
    },
    "papermill": {
     "duration": 0.078762,
     "end_time": "2022-04-05T08:15:05.187114",
     "exception": false,
     "start_time": "2022-04-05T08:15:05.108352",
     "status": "completed"
    },
    "tags": []
   },
   "outputs": [
    {
     "data": {
      "text/plain": [
       "['product_code',\n",
       " 'product_type_no',\n",
       " 'graphical_appearance_no',\n",
       " 'colour_group_code',\n",
       " 'perceived_colour_value_id',\n",
       " 'perceived_colour_master_id',\n",
       " 'department_no',\n",
       " 'index_group_no',\n",
       " 'section_no',\n",
       " 'garment_group_no']"
      ]
     },
     "execution_count": 7,
     "metadata": {},
     "output_type": "execute_result"
    }
   ],
   "source": [
    "# item\n",
    "article_columns = [i for i in articles.columns if \"int\" in str(articles[i].dtype)]\n",
    "#article_columns += [\"item_count\", \"count_in1\", \"count_in2\", \"channel_ratio\"]\n",
    "articles = articles[['article_id'] + article_columns]\n",
    "\n",
    "#image_feats = pd.read_csv(\"../input/hm-table-dataset/autox_features.csv\")\n",
    "#articles = pd.concat([articles, image_feats], axis=1)\n",
    "#articles.fillna(-999, inplace=True)\n",
    "#del image_feats\n",
    "#article_columns = [i for i in articles.columns if \"int\" in str(articles[i].dtype) or \"float\" in str(articles[i].dtype)]\n",
    "article_columns"
   ]
  },
  {
   "cell_type": "code",
   "execution_count": 8,
   "id": "6a5a7808",
   "metadata": {
    "execution": {
     "iopub.execute_input": "2022-04-05T08:15:05.246040Z",
     "iopub.status.busy": "2022-04-05T08:15:05.245277Z",
     "iopub.status.idle": "2022-04-05T08:15:23.010548Z",
     "shell.execute_reply": "2022-04-05T08:15:23.011435Z",
     "shell.execute_reply.started": "2022-04-05T06:27:00.860034Z"
    },
    "papermill": {
     "duration": 17.798665,
     "end_time": "2022-04-05T08:15:23.011988",
     "exception": false,
     "start_time": "2022-04-05T08:15:05.213323",
     "status": "completed"
    },
    "tags": []
   },
   "outputs": [
    {
     "data": {
      "text/plain": [
       "['FN',\n",
       " 'Active',\n",
       " 'club_member_status',\n",
       " 'fashion_news_frequency',\n",
       " 'postal_code',\n",
       " 'age']"
      ]
     },
     "execution_count": 8,
     "metadata": {},
     "output_type": "execute_result"
    }
   ],
   "source": [
    "# user\n",
    "user_columns = ['FN', 'Active', 'club_member_status', 'fashion_news_frequency', 'postal_code']\n",
    "customers.fillna(-1, inplace=True)\n",
    "for feat in user_columns:\n",
    "    lbl = preprocessing.LabelEncoder()\n",
    "    lbl.fit(list(customers[feat]))\n",
    "    customers[feat] = lbl.transform(list(customers[feat]))\n",
    "user_columns += ['age'] #, \"user_count\"]\n",
    "user_columns"
   ]
  },
  {
   "cell_type": "markdown",
   "id": "d8ae1322",
   "metadata": {
    "papermill": {
     "duration": 0.03896,
     "end_time": "2022-04-05T08:15:23.092529",
     "exception": false,
     "start_time": "2022-04-05T08:15:23.053569",
     "status": "completed"
    },
    "tags": []
   },
   "source": [
    "# dataset"
   ]
  },
  {
   "cell_type": "code",
   "execution_count": 9,
   "id": "2a2306d3",
   "metadata": {
    "execution": {
     "iopub.execute_input": "2022-04-05T08:15:23.177544Z",
     "iopub.status.busy": "2022-04-05T08:15:23.176524Z",
     "iopub.status.idle": "2022-04-05T08:15:25.967515Z",
     "shell.execute_reply": "2022-04-05T08:15:25.966959Z",
     "shell.execute_reply.started": "2022-04-05T06:27:14.894335Z"
    },
    "papermill": {
     "duration": 2.835682,
     "end_time": "2022-04-05T08:15:25.967715",
     "exception": false,
     "start_time": "2022-04-05T08:15:23.132033",
     "status": "completed"
    },
    "tags": []
   },
   "outputs": [
    {
     "name": "stdout",
     "output_type": "stream",
     "text": [
      "Number of users: 1371980, Number of topics: 105542.\n"
     ]
    }
   ],
   "source": [
    "dataset = Dataset()\n",
    "dataset.fit(users=customers['customer_id'], \n",
    "            items=articles['article_id'],\n",
    "            user_features = user_columns,\n",
    "            item_features = article_columns) \n",
    "\n",
    "num_users, num_topics = dataset.interactions_shape()\n",
    "print(f'Number of users: {num_users}, Number of topics: {num_topics}.')\n",
    "\n",
    "#Get the mappings\n",
    "'''\n",
    "uid = mapping from customer_id to model equivalent user_id\n",
    "iid = mapping from article_id to  model equivalent article_id\n",
    "'''\n",
    "uid_map, ufeature_map, iid_map, ifeature_map = dataset.mapping() \n",
    "inv_uid_map = {v:k for k, v in uid_map.items()}\n",
    "inv_iid_map = {v:k for k, v in iid_map.items()}"
   ]
  },
  {
   "cell_type": "code",
   "execution_count": 10,
   "id": "39dccefe",
   "metadata": {
    "execution": {
     "iopub.execute_input": "2022-04-05T08:15:26.029314Z",
     "iopub.status.busy": "2022-04-05T08:15:26.028640Z",
     "iopub.status.idle": "2022-04-05T08:15:33.323378Z",
     "shell.execute_reply": "2022-04-05T08:15:33.322688Z",
     "shell.execute_reply.started": "2022-04-05T06:27:17.129332Z"
    },
    "papermill": {
     "duration": 7.328399,
     "end_time": "2022-04-05T08:15:33.323532",
     "exception": false,
     "start_time": "2022-04-05T08:15:25.995133",
     "status": "completed"
    },
    "tags": []
   },
   "outputs": [],
   "source": [
    "item_last_week = train.groupby(\"article_id\")[\"week_no\"].max().reset_index()\n",
    "weak_weight_items = item_last_week[item_last_week.week_no > 90][\"article_id\"].values\n",
    "weak_weight_id = [iid_map[ele] for ele in weak_weight_items]\n",
    "del item_last_week"
   ]
  },
  {
   "cell_type": "code",
   "execution_count": 11,
   "id": "54e4113f",
   "metadata": {
    "execution": {
     "iopub.execute_input": "2022-04-05T08:15:33.392756Z",
     "iopub.status.busy": "2022-04-05T08:15:33.387346Z",
     "iopub.status.idle": "2022-04-05T08:22:17.963861Z",
     "shell.execute_reply": "2022-04-05T08:22:17.964417Z",
     "shell.execute_reply.started": "2022-04-05T06:27:23.623360Z"
    },
    "papermill": {
     "duration": 404.613241,
     "end_time": "2022-04-05T08:22:17.964726",
     "exception": false,
     "start_time": "2022-04-05T08:15:33.351485",
     "status": "completed"
    },
    "tags": []
   },
   "outputs": [
    {
     "name": "stdout",
     "output_type": "stream",
     "text": [
      "(1371980, 105542)\n"
     ]
    }
   ],
   "source": [
    "if VALID:\n",
    "    train_set = train[train.week_no < test_week]\n",
    "    (interactions, weights) = dataset.build_interactions(train_set.iloc[:, 1:3].values)\n",
    "\n",
    "    valid = train[train.week_no == test_week].groupby('customer_id')['article_id'].apply(list).reset_index()\n",
    "    valid = valid.rename({'article_id':'prediction'},axis=1)\n",
    "    valid['prediction'] = valid.prediction.apply(lambda x: ' '.join([str(k) for k in x]))\n",
    "\n",
    "    inactive_users = list(set(train_set.customer_id) - set(train_set[train_set.week_no > test_week - 10][\"customer_id\"]))\n",
    "    cold_users = list(set(valid.customer_id) - set(train_set.customer_id))\n",
    "    del train_set\n",
    "else:\n",
    "    (interactions, weights) = dataset.build_interactions(train.iloc[:, 1:3].values)\n",
    "    \n",
    "dataset.build_item_features(((articles.iloc[index][\"article_id\"], article_columns) for index in range(articles.shape[0])))\n",
    "dataset.build_user_features(((customers.iloc[index][\"customer_id\"], user_columns) for index in range(customers.shape[0])))\n",
    "\n",
    "print(interactions.shape)\n",
    "del train"
   ]
  },
  {
   "cell_type": "code",
   "execution_count": 12,
   "id": "91d01631",
   "metadata": {
    "execution": {
     "iopub.execute_input": "2022-04-05T08:22:18.023993Z",
     "iopub.status.busy": "2022-04-05T08:22:18.023305Z",
     "iopub.status.idle": "2022-04-05T08:22:25.505217Z",
     "shell.execute_reply": "2022-04-05T08:22:25.505809Z",
     "shell.execute_reply.started": "2022-04-05T06:34:08.645623Z"
    },
    "papermill": {
     "duration": 7.513782,
     "end_time": "2022-04-05T08:22:25.506017",
     "exception": false,
     "start_time": "2022-04-05T08:22:17.992235",
     "status": "completed"
    },
    "tags": []
   },
   "outputs": [],
   "source": [
    "change_index = np.isin(weights.col, weak_weight_id)\n",
    "weights.data[change_index] = 1.5"
   ]
  },
  {
   "cell_type": "markdown",
   "id": "80868c16",
   "metadata": {
    "papermill": {
     "duration": 0.026968,
     "end_time": "2022-04-05T08:22:25.560420",
     "exception": false,
     "start_time": "2022-04-05T08:22:25.533452",
     "status": "completed"
    },
    "tags": []
   },
   "source": [
    "# fitting"
   ]
  },
  {
   "cell_type": "code",
   "execution_count": 13,
   "id": "05a38cf3",
   "metadata": {
    "execution": {
     "iopub.execute_input": "2022-04-05T08:22:25.618496Z",
     "iopub.status.busy": "2022-04-05T08:22:25.617831Z",
     "iopub.status.idle": "2022-04-05T09:48:48.123945Z",
     "shell.execute_reply": "2022-04-05T09:48:48.121111Z",
     "shell.execute_reply.started": "2022-04-05T06:34:15.447505Z"
    },
    "papermill": {
     "duration": 5182.536359,
     "end_time": "2022-04-05T09:48:48.124213",
     "exception": false,
     "start_time": "2022-04-05T08:22:25.587854",
     "status": "completed"
    },
    "tags": []
   },
   "outputs": [
    {
     "name": "stderr",
     "output_type": "stream",
     "text": [
      "Epoch: 100%|██████████| 100/100 [1:26:20<00:00, 51.81s/it]\n"
     ]
    },
    {
     "data": {
      "text/plain": [
       "<lightfm.lightfm.LightFM at 0x7f835d4ff890>"
      ]
     },
     "execution_count": 13,
     "metadata": {},
     "output_type": "execute_result"
    }
   ],
   "source": [
    "model = LightFM(loss='bpr', \n",
    "                no_components=NO_COMPONENTS, \n",
    "                learning_rate=LEARNING_RATE,                 \n",
    "                random_state=np.random.RandomState(SEED),\n",
    "                user_alpha=USER_ALPHA,\n",
    "                item_alpha=ITEM_ALPHA\n",
    "               )\n",
    "\n",
    "model.fit(interactions=interactions, \n",
    "          epochs=EPOCHS, \n",
    "          verbose=1, \n",
    "          num_threads=NO_THREADS,\n",
    "          sample_weight=weights,\n",
    "         )"
   ]
  },
  {
   "cell_type": "code",
   "execution_count": 14,
   "id": "951358e6",
   "metadata": {
    "execution": {
     "iopub.execute_input": "2022-04-05T09:48:48.258512Z",
     "iopub.status.busy": "2022-04-05T09:48:48.257447Z",
     "iopub.status.idle": "2022-04-05T09:48:48.261443Z",
     "shell.execute_reply": "2022-04-05T09:48:48.262113Z",
     "shell.execute_reply.started": "2022-04-05T07:57:23.426626Z"
    },
    "papermill": {
     "duration": 0.073453,
     "end_time": "2022-04-05T09:48:48.262286",
     "exception": false,
     "start_time": "2022-04-05T09:48:48.188833",
     "status": "completed"
    },
    "tags": []
   },
   "outputs": [],
   "source": [
    "#!pip3 install pickle5\n",
    "#import pickle5 as pickle\n",
    "#with open('../input/lightfm1/lightFM1.pickle', \"rb\") as fh:\n",
    "#    trained_model = pickle.load(fh)"
   ]
  },
  {
   "cell_type": "markdown",
   "id": "49979d01",
   "metadata": {
    "papermill": {
     "duration": 0.064324,
     "end_time": "2022-04-05T09:48:48.391028",
     "exception": false,
     "start_time": "2022-04-05T09:48:48.326704",
     "status": "completed"
    },
    "tags": []
   },
   "source": [
    "# Submission"
   ]
  },
  {
   "cell_type": "code",
   "execution_count": 15,
   "id": "a2235954",
   "metadata": {
    "execution": {
     "iopub.execute_input": "2022-04-05T09:48:48.536775Z",
     "iopub.status.busy": "2022-04-05T09:48:48.531189Z",
     "iopub.status.idle": "2022-04-05T09:48:48.978846Z",
     "shell.execute_reply": "2022-04-05T09:48:48.978169Z",
     "shell.execute_reply.started": "2022-04-05T07:57:23.432263Z"
    },
    "papermill": {
     "duration": 0.522921,
     "end_time": "2022-04-05T09:48:48.978990",
     "exception": false,
     "start_time": "2022-04-05T09:48:48.456069",
     "status": "completed"
    },
    "tags": []
   },
   "outputs": [
    {
     "name": "stdout",
     "output_type": "stream",
     "text": [
      "68984\n"
     ]
    }
   ],
   "source": [
    "if VALID:\n",
    "    test_X = valid.customer_id.values\n",
    "else:\n",
    "    test_X = sample_submission.customer_id.values    \n",
    "\n",
    "lfn_user = lambda x: uid_map[x]\n",
    "test_X_m = [lfn_user(tx) for tx in test_X]\n",
    "\n",
    "print(len(test_X_m))"
   ]
  },
  {
   "cell_type": "code",
   "execution_count": 16,
   "id": "cc737b03",
   "metadata": {
    "execution": {
     "iopub.execute_input": "2022-04-05T09:48:50.727112Z",
     "iopub.status.busy": "2022-04-05T09:48:50.721452Z",
     "iopub.status.idle": "2022-04-05T09:48:50.732574Z",
     "shell.execute_reply": "2022-04-05T09:48:50.732019Z",
     "shell.execute_reply.started": "2022-04-05T07:57:23.659494Z"
    },
    "papermill": {
     "duration": 1.687218,
     "end_time": "2022-04-05T09:48:50.732732",
     "exception": false,
     "start_time": "2022-04-05T09:48:49.045514",
     "status": "completed"
    },
    "tags": []
   },
   "outputs": [],
   "source": [
    "def predict_submission():\n",
    "    df_split = np.array_split(test_X_m, num_cores)\n",
    "    chunk_size = len(df_split[0])\n",
    "    \n",
    "    chunk1 = list(df_split[0])\n",
    "    chunk2 = list(df_split[1])\n",
    "    chunk3 = list(df_split[2])\n",
    "    chunk4 = list(df_split[3])\n",
    "    \n",
    "    #list of items for multiprocessing, 4 since using 4 cores\n",
    "    all_chunks = [chunk1, chunk2, chunk3, chunk4]\n",
    "    \n",
    "    pool = Pool(num_cores)\n",
    "    result = pool.map(make_predict, all_chunks)\n",
    "    \n",
    "    pred_combined = list(itertools.chain(result[0], result[1], result[2], result[3]))\n",
    "\n",
    "    return pred_combined\n",
    "\n",
    "def make_predict(usr_chunk):\n",
    "    customer_ids = []\n",
    "    preds = []\n",
    "    item_array = np.array(list(iid_map.values()))\n",
    "\n",
    "    for usr_ in usr_chunk:\n",
    "        m_opt = model.predict(np.array([usr_] * len(iid_map)), item_array)\n",
    "        pred = np.argsort(-m_opt)[:K]\n",
    "        preds.append(' '.join([inv_iid_map[p] for p in pred]).strip())\n",
    "    \n",
    "    preds = np.array(preds).reshape(-1, 1)\n",
    "    return preds"
   ]
  },
  {
   "cell_type": "code",
   "execution_count": 17,
   "id": "bb4fd4c3",
   "metadata": {
    "execution": {
     "iopub.execute_input": "2022-04-05T09:48:50.903858Z",
     "iopub.status.busy": "2022-04-05T09:48:50.901191Z",
     "iopub.status.idle": "2022-04-05T10:00:57.197128Z",
     "shell.execute_reply": "2022-04-05T10:00:57.197693Z",
     "shell.execute_reply.started": "2022-04-05T07:57:26.542115Z"
    },
    "papermill": {
     "duration": 726.399962,
     "end_time": "2022-04-05T10:00:57.197909",
     "exception": false,
     "start_time": "2022-04-05T09:48:50.797947",
     "status": "completed"
    },
    "tags": []
   },
   "outputs": [
    {
     "name": "stdout",
     "output_type": "stream",
     "text": [
      "CPU times: user 1.1 s, sys: 693 ms, total: 1.79 s\n",
      "Wall time: 12min 6s\n"
     ]
    }
   ],
   "source": [
    "%%time\n",
    "final_predictions = predict_submission()"
   ]
  },
  {
   "cell_type": "code",
   "execution_count": 18,
   "id": "3f188092",
   "metadata": {
    "execution": {
     "iopub.execute_input": "2022-04-05T10:00:57.342818Z",
     "iopub.status.busy": "2022-04-05T10:00:57.342083Z",
     "iopub.status.idle": "2022-04-05T10:01:11.793940Z",
     "shell.execute_reply": "2022-04-05T10:01:11.794507Z",
     "shell.execute_reply.started": "2022-04-05T08:10:13.093918Z"
    },
    "papermill": {
     "duration": 14.529495,
     "end_time": "2022-04-05T10:01:11.794717",
     "exception": false,
     "start_time": "2022-04-05T10:00:57.265222",
     "status": "completed"
    },
    "tags": []
   },
   "outputs": [],
   "source": [
    "final_sub = pd.DataFrame(data=np.concatenate((np.array(test_X).reshape(-1,1), np.array(final_predictions)), axis=1).reshape(-1, 2),\n",
    "                         columns=['customer_id', 'prediction'])\n",
    "\n",
    "sample_submission.loc[sample_submission.customer_id.isin(final_sub.customer_id), 'prediction'] = ( \n",
    "    final_sub['prediction']\n",
    "    )\n",
    "sample_submission.to_csv('submission.csv', index=False)"
   ]
  },
  {
   "cell_type": "code",
   "execution_count": 19,
   "id": "1e2a0e31",
   "metadata": {
    "execution": {
     "iopub.execute_input": "2022-04-05T10:01:11.931401Z",
     "iopub.status.busy": "2022-04-05T10:01:11.930342Z",
     "iopub.status.idle": "2022-04-05T10:01:21.186533Z",
     "shell.execute_reply": "2022-04-05T10:01:21.185391Z",
     "shell.execute_reply.started": "2022-04-05T08:10:28.025636Z"
    },
    "papermill": {
     "duration": 9.326249,
     "end_time": "2022-04-05T10:01:21.186794",
     "exception": false,
     "start_time": "2022-04-05T10:01:11.860545",
     "status": "completed"
    },
    "tags": []
   },
   "outputs": [
    {
     "name": "stdout",
     "output_type": "stream",
     "text": [
      "t 0.005681059253547619\n",
      "i 0.006215328884628197 19048\n",
      "c 0.00016354165880496513 5572\n",
      "  \n",
      "0754362003 0731743001 0757903001 0780418001 0428291001 0731743004 0724906003 0664405005 0376172001 0682236001 0680391002 0676111001    5572\n",
      "0120129001 0534164001 0215589001 0300024058 0567532004 0433444001 0775382001 0510465001 0752657001 0442915001 0469562002 0262277011       3\n",
      "0120129001 0534164001 0215589001 0567532004 0300024058 0510465001 0433444001 0262277011 0442915001 0752657001 0775382001 0469562002       2\n",
      "0294008002 0573937001 0652924004 0751551001 0368979001 0779551002 0750330002 0652924010 0779554002 0294008005 0624257001 0640542002       2\n",
      "0534164001 0120129001 0215589001 0775382001 0567532004 0300024058 0510465001 0433444001 0752657001 0341129001 0469562002 0442915001       2\n",
      "                                                                                                                                       ... \n",
      "0658030011 0399087014 0399087030 0399087010 0658030006 0399087029 0658030020 0658030016 0658030001 0399087021 0658030005 0556260004       1\n",
      "0819147001 0735121001 0735122002 0743594003 0714807003 0790368001 0788846004 0827637001 0838787005 0714807004 0661306008 0857812002       1\n",
      "0733027002 0723173001 0712216008 0721298001 0775328001 0712216011 0712216009 0740943001 0723173006 0742925003 0372008001 0781180002       1\n",
      "0685816001 0697564010 0859105002 0685816017 0685816002 0685816037 0685816024 0685816041 0859105003 0685816011 0685816023 0865917002       1\n",
      "0896169002 0879781003 0859125001 0817472005 0863937003 0817401001 0879781002 0859139001 0862325001 0902107001 0918836001 0915529003       1\n",
      "Name: prediction, Length: 63398, dtype: int64\n"
     ]
    }
   ],
   "source": [
    "# local score\n",
    "if VALID:\n",
    "    sub_check = final_sub.copy()\n",
    "    sub_check = sub_check.set_index('customer_id').reset_index()\n",
    "    print(\"t\", mapk(valid.prediction.str.split(), sub_check.prediction.str.split(), k=12))    \n",
    "    print(\"i\", \n",
    "            mapk(valid[valid.customer_id.isin(inactive_users)].prediction.str.split(), \n",
    "               sub_check[sub_check.customer_id.isin(inactive_users)].prediction.str.split(), k=12),\n",
    "            valid[valid.customer_id.isin(inactive_users)].shape[0])\n",
    "    print(\"c\", \n",
    "            mapk(valid[valid.customer_id.isin(cold_users)].prediction.str.split(), \n",
    "               sub_check[sub_check.customer_id.isin(cold_users)].prediction.str.split(), k=12),\n",
    "            valid[valid.customer_id.isin(cold_users)].shape[0])\n",
    "    \n",
    "    print(\"  \")\n",
    "    print(sub_check[\"prediction\"].value_counts())  "
   ]
  },
  {
   "cell_type": "code",
   "execution_count": null,
   "id": "b373fcf5",
   "metadata": {
    "papermill": {
     "duration": 0.066934,
     "end_time": "2022-04-05T10:01:21.322451",
     "exception": false,
     "start_time": "2022-04-05T10:01:21.255517",
     "status": "completed"
    },
    "tags": []
   },
   "outputs": [],
   "source": []
  }
 ],
 "metadata": {
  "kernelspec": {
   "display_name": "Python 3",
   "language": "python",
   "name": "python3"
  },
  "language_info": {
   "codemirror_mode": {
    "name": "ipython",
    "version": 3
   },
   "file_extension": ".py",
   "mimetype": "text/x-python",
   "name": "python",
   "nbconvert_exporter": "python",
   "pygments_lexer": "ipython3",
   "version": "3.7.12"
  },
  "papermill": {
   "default_parameters": {},
   "duration": 6527.942167,
   "end_time": "2022-04-05T10:01:24.023577",
   "environment_variables": {},
   "exception": null,
   "input_path": "__notebook__.ipynb",
   "output_path": "__notebook__.ipynb",
   "parameters": {},
   "start_time": "2022-04-05T08:12:36.081410",
   "version": "2.3.3"
  }
 },
 "nbformat": 4,
 "nbformat_minor": 5
}
