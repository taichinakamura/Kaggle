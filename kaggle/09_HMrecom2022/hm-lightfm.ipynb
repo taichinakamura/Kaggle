{
 "cells": [
  {
   "cell_type": "markdown",
   "id": "c74d1048",
   "metadata": {
    "papermill": {
     "duration": 0.023738,
     "end_time": "2022-04-03T11:11:05.737320",
     "exception": false,
     "start_time": "2022-04-03T11:11:05.713582",
     "status": "completed"
    },
    "tags": []
   },
   "source": [
    "- https://making.lyst.com/lightfm/docs/lightfm.html\n",
    "- modify mistake in valid label\n",
    "- consider item, user features"
   ]
  },
  {
   "cell_type": "code",
   "execution_count": 1,
   "id": "ce7b5b36",
   "metadata": {
    "execution": {
     "iopub.execute_input": "2022-04-03T11:11:05.785317Z",
     "iopub.status.busy": "2022-04-03T11:11:05.784686Z",
     "iopub.status.idle": "2022-04-03T11:11:06.876398Z",
     "shell.execute_reply": "2022-04-03T11:11:06.875694Z",
     "shell.execute_reply.started": "2022-04-03T09:39:43.791179Z"
    },
    "papermill": {
     "duration": 1.116868,
     "end_time": "2022-04-03T11:11:06.876566",
     "exception": false,
     "start_time": "2022-04-03T11:11:05.759698",
     "status": "completed"
    },
    "tags": []
   },
   "outputs": [],
   "source": [
    "import os\n",
    "import tqdm\n",
    "\n",
    "import numpy as np\n",
    "import pandas as pd\n",
    "from lightfm import LightFM\n",
    "from lightfm.data import Dataset\n",
    "from sklearn import preprocessing\n",
    "\n",
    "import itertools\n",
    "from multiprocessing import Pool\n",
    "\n",
    "SEED = 42\n",
    "np.random.seed(SEED)\n",
    "os.environ['PYTHONHASHSEED'] = str(SEED)\n",
    "\n",
    "VALID = True"
   ]
  },
  {
   "cell_type": "code",
   "execution_count": 2,
   "id": "98bc867c",
   "metadata": {
    "execution": {
     "iopub.execute_input": "2022-04-03T11:11:06.919081Z",
     "iopub.status.busy": "2022-04-03T11:11:06.918439Z",
     "iopub.status.idle": "2022-04-03T11:11:06.921500Z",
     "shell.execute_reply": "2022-04-03T11:11:06.920920Z",
     "shell.execute_reply.started": "2022-04-03T09:39:44.994877Z"
    },
    "papermill": {
     "duration": 0.028039,
     "end_time": "2022-04-03T11:11:06.921634",
     "exception": false,
     "start_time": "2022-04-03T11:11:06.893595",
     "status": "completed"
    },
    "tags": []
   },
   "outputs": [],
   "source": [
    "def apk(actual, predicted, k=12):\n",
    "    if len(predicted)>k:\n",
    "        predicted = predicted[:k]\n",
    "        \n",
    "    score = 0.0\n",
    "    num_hits = 0.0\n",
    "    \n",
    "    for i,p in enumerate(predicted):\n",
    "        if p in actual and p not in predicted[:i]:\n",
    "            num_hits += 1.0\n",
    "            score += num_hits / (i+1.0)\n",
    "\n",
    "    if not actual:\n",
    "        return 0.0\n",
    "\n",
    "    return score / min(len(actual), k)\n",
    "\n",
    "\n",
    "def mapk(actual, predicted, k=12):\n",
    "    \"\"\"\n",
    "    Computes the mean average precision at k.\n",
    "    This function computes the mean average prescision at k between two lists\n",
    "    of lists of items.\n",
    "    Parameters\n",
    "    ----------\n",
    "    actual : list\n",
    "             A list of lists of elements that are to be predicted \n",
    "             (order doesn't matter in the lists)\n",
    "    predicted : list\n",
    "                A list of lists of predicted elements\n",
    "                (order matters in the lists)\n",
    "    k : int, optional\n",
    "        The maximum number of predicted elements\n",
    "    Returns\n",
    "    -------\n",
    "    score : double\n",
    "            The mean average precision at k over the input lists\n",
    "    \"\"\"\n",
    "    return np.mean([apk(a,p,k) for a,p in zip(actual, predicted)])"
   ]
  },
  {
   "cell_type": "markdown",
   "id": "9873a448",
   "metadata": {
    "papermill": {
     "duration": 0.016309,
     "end_time": "2022-04-03T11:11:06.954578",
     "exception": false,
     "start_time": "2022-04-03T11:11:06.938269",
     "status": "completed"
    },
    "tags": []
   },
   "source": [
    "## Configs"
   ]
  },
  {
   "cell_type": "code",
   "execution_count": 3,
   "id": "aac1a450",
   "metadata": {
    "execution": {
     "iopub.execute_input": "2022-04-03T11:11:06.993101Z",
     "iopub.status.busy": "2022-04-03T11:11:06.990713Z",
     "iopub.status.idle": "2022-04-03T11:11:06.994750Z",
     "shell.execute_reply": "2022-04-03T11:11:06.995291Z",
     "shell.execute_reply.started": "2022-04-03T09:39:45.007379Z"
    },
    "papermill": {
     "duration": 0.024271,
     "end_time": "2022-04-03T11:11:06.995466",
     "exception": false,
     "start_time": "2022-04-03T11:11:06.971195",
     "status": "completed"
    },
    "tags": []
   },
   "outputs": [],
   "source": [
    "# default number of recommendations\n",
    "K = 12\n",
    "EPOCHS = 100\n",
    "\n",
    "# model learning rate\n",
    "LEARNING_RATE = 0.2\n",
    "# no of latent factors\n",
    "NO_COMPONENTS = 40\n",
    "\n",
    "# no of threads to fit model\n",
    "NO_THREADS = 32\n",
    "# regularisation for both user and item features\n",
    "ITEM_ALPHA=1e-6\n",
    "USER_ALPHA=1e-6\n",
    "\n",
    "# for multiprocssing of final predictions\n",
    "num_cores=4"
   ]
  },
  {
   "cell_type": "markdown",
   "id": "cb3bae04",
   "metadata": {
    "papermill": {
     "duration": 0.016038,
     "end_time": "2022-04-03T11:11:07.028720",
     "exception": false,
     "start_time": "2022-04-03T11:11:07.012682",
     "status": "completed"
    },
    "tags": []
   },
   "source": [
    "## Load the data"
   ]
  },
  {
   "cell_type": "code",
   "execution_count": 4,
   "id": "c1993ddf",
   "metadata": {
    "execution": {
     "iopub.execute_input": "2022-04-03T11:11:07.064511Z",
     "iopub.status.busy": "2022-04-03T11:11:07.063888Z",
     "iopub.status.idle": "2022-04-03T11:12:28.798274Z",
     "shell.execute_reply": "2022-04-03T11:12:28.798711Z",
     "shell.execute_reply.started": "2022-04-03T09:39:45.020651Z"
    },
    "papermill": {
     "duration": 81.753852,
     "end_time": "2022-04-03T11:12:28.798904",
     "exception": false,
     "start_time": "2022-04-03T11:11:07.045052",
     "status": "completed"
    },
    "tags": []
   },
   "outputs": [],
   "source": [
    "main_dir = \"../input/h-and-m-personalized-fashion-recommendations\"\n",
    "images_dir = main_dir+\"/images/\" \n",
    "customers = pd.read_csv(main_dir+\"/customers.csv\")\n",
    "articles = pd.read_csv(main_dir+\"/articles.csv\", dtype={'article_id': str})\n",
    "sample_submission = pd.read_csv(main_dir+\"/sample_submission.csv\", dtype={'article_id': str})\n",
    "\n",
    "train = pd.read_csv(main_dir+'/transactions_train.csv',  dtype={'article_id': str}, parse_dates=['t_dat'])"
   ]
  },
  {
   "cell_type": "markdown",
   "id": "3440bb7d",
   "metadata": {
    "papermill": {
     "duration": 0.016901,
     "end_time": "2022-04-03T11:12:28.832946",
     "exception": false,
     "start_time": "2022-04-03T11:12:28.816045",
     "status": "completed"
    },
    "tags": []
   },
   "source": [
    "## dataset"
   ]
  },
  {
   "cell_type": "code",
   "execution_count": 5,
   "id": "27db4ece",
   "metadata": {
    "execution": {
     "iopub.execute_input": "2022-04-03T11:12:28.875625Z",
     "iopub.status.busy": "2022-04-03T11:12:28.869164Z",
     "iopub.status.idle": "2022-04-03T11:12:28.891616Z",
     "shell.execute_reply": "2022-04-03T11:12:28.891097Z",
     "shell.execute_reply.started": "2022-04-03T09:41:18.268110Z"
    },
    "papermill": {
     "duration": 0.042195,
     "end_time": "2022-04-03T11:12:28.891767",
     "exception": false,
     "start_time": "2022-04-03T11:12:28.849572",
     "status": "completed"
    },
    "tags": []
   },
   "outputs": [],
   "source": [
    "# item\n",
    "article_columns = [i for i in articles.columns if \"int\" in str(articles[i].dtype)]\n",
    "articles = articles[['article_id'] + article_columns]\n",
    "\n",
    "#image_feats = pd.read_csv(\"../input/hm-table-dataset/autox_features.csv\")\n",
    "#articles = pd.concat([articles, image_feats], axis=1)\n",
    "#articles.fillna(-999, inplace=True)\n",
    "#del image_feats\n",
    "#article_columns = [i for i in articles.columns if \"int\" in str(articles[i].dtype) or \"float\" in str(articles[i].dtype)]"
   ]
  },
  {
   "cell_type": "code",
   "execution_count": 6,
   "id": "2f0e4d10",
   "metadata": {
    "execution": {
     "iopub.execute_input": "2022-04-03T11:12:28.932312Z",
     "iopub.status.busy": "2022-04-03T11:12:28.931605Z",
     "iopub.status.idle": "2022-04-03T11:12:41.781443Z",
     "shell.execute_reply": "2022-04-03T11:12:41.780814Z",
     "shell.execute_reply.started": "2022-04-03T09:41:18.296126Z"
    },
    "papermill": {
     "duration": 12.871317,
     "end_time": "2022-04-03T11:12:41.781577",
     "exception": false,
     "start_time": "2022-04-03T11:12:28.910260",
     "status": "completed"
    },
    "tags": []
   },
   "outputs": [],
   "source": [
    "# user\n",
    "user_columns = ['FN', 'Active', 'club_member_status', 'fashion_news_frequency', 'postal_code']\n",
    "customers.fillna(-1, inplace=True)\n",
    "for feat in user_columns:\n",
    "    lbl = preprocessing.LabelEncoder()\n",
    "    lbl.fit(list(customers[feat]))\n",
    "    customers[feat] = lbl.transform(list(customers[feat]))\n",
    "    \n",
    "#user_columns += ['age']"
   ]
  },
  {
   "cell_type": "code",
   "execution_count": 7,
   "id": "6ff8c843",
   "metadata": {
    "execution": {
     "iopub.execute_input": "2022-04-03T11:12:41.862913Z",
     "iopub.status.busy": "2022-04-03T11:12:41.857548Z",
     "iopub.status.idle": "2022-04-03T11:12:43.671920Z",
     "shell.execute_reply": "2022-04-03T11:12:43.672356Z",
     "shell.execute_reply.started": "2022-04-03T09:41:31.803350Z"
    },
    "papermill": {
     "duration": 1.874168,
     "end_time": "2022-04-03T11:12:43.672540",
     "exception": false,
     "start_time": "2022-04-03T11:12:41.798372",
     "status": "completed"
    },
    "tags": []
   },
   "outputs": [
    {
     "name": "stdout",
     "output_type": "stream",
     "text": [
      "Number of users: 1371980, Number of topics: 105542.\n"
     ]
    }
   ],
   "source": [
    "dataset = Dataset()\n",
    "dataset.fit(users=customers['customer_id'], \n",
    "            items=articles['article_id'],\n",
    "            user_features = user_columns,\n",
    "            item_features = article_columns) \n",
    "\n",
    "num_users, num_topics = dataset.interactions_shape()\n",
    "print(f'Number of users: {num_users}, Number of topics: {num_topics}.')"
   ]
  },
  {
   "cell_type": "code",
   "execution_count": 8,
   "id": "842602b0",
   "metadata": {
    "execution": {
     "iopub.execute_input": "2022-04-03T11:12:43.710430Z",
     "iopub.status.busy": "2022-04-03T11:12:43.709861Z",
     "iopub.status.idle": "2022-04-03T11:12:52.270663Z",
     "shell.execute_reply": "2022-04-03T11:12:52.270144Z",
     "shell.execute_reply.started": "2022-04-03T09:41:33.321346Z"
    },
    "papermill": {
     "duration": 8.580613,
     "end_time": "2022-04-03T11:12:52.270844",
     "exception": false,
     "start_time": "2022-04-03T11:12:43.690231",
     "status": "completed"
    },
    "tags": []
   },
   "outputs": [
    {
     "name": "stderr",
     "output_type": "stream",
     "text": [
      "/opt/conda/lib/python3.7/site-packages/ipykernel_launcher.py:4: FutureWarning: Series.dt.weekofyear and Series.dt.week have been deprecated.  Please use Series.dt.isocalendar().week instead.\n",
      "  after removing the cwd from sys.path.\n"
     ]
    }
   ],
   "source": [
    "train[\"t_dat\"] = pd.to_datetime(train[\"t_dat\"])\n",
    "\n",
    "date_week_df = train.drop_duplicates(\"t_dat\")[[\"t_dat\"]].reset_index(drop=True)\n",
    "date_week_df['week_no'] = (date_week_df['t_dat'] + pd.DateOffset(days=5)).dt.week\n",
    "date_week_df[\"week_no\"] = date_week_df[\"week_no\"].diff(1)\n",
    "date_week_df[\"week_no\"].fillna(0, inplace=True)\n",
    "date_week_df[\"week_no\"] = date_week_df[\"week_no\"] != 0\n",
    "date_week_df[\"week_no\"] = date_week_df[\"week_no\"].cumsum()\n",
    "\n",
    "train = pd.merge(train, date_week_df, on=\"t_dat\", how=\"left\")\n",
    "test_week = train.week_no.max()\n",
    "\n",
    "del date_week_df"
   ]
  },
  {
   "cell_type": "code",
   "execution_count": 9,
   "id": "87e62816",
   "metadata": {
    "execution": {
     "iopub.execute_input": "2022-04-03T11:12:52.324066Z",
     "iopub.status.busy": "2022-04-03T11:12:52.323058Z",
     "iopub.status.idle": "2022-04-03T11:17:44.875974Z",
     "shell.execute_reply": "2022-04-03T11:17:44.876522Z",
     "shell.execute_reply.started": "2022-04-03T09:41:39.843736Z"
    },
    "papermill": {
     "duration": 292.588358,
     "end_time": "2022-04-03T11:17:44.876900",
     "exception": false,
     "start_time": "2022-04-03T11:12:52.288542",
     "status": "completed"
    },
    "tags": []
   },
   "outputs": [
    {
     "name": "stdout",
     "output_type": "stream",
     "text": [
      "(1371980, 105542) (1371980, 105542)\n"
     ]
    }
   ],
   "source": [
    "train_set = train[train.week_no < test_week]\n",
    "val_set = train[train.week_no == test_week]\n",
    "\n",
    "(interactions, weights) = dataset.build_interactions(train_set.iloc[:, 1:3].values)\n",
    "(val_interactions, val_weights) = dataset.build_interactions(val_set.iloc[:, 1:3].values)\n",
    "dataset.build_item_features(((articles.iloc[index][\"article_id\"], article_columns) for index in range(articles.shape[0])))\n",
    "dataset.build_user_features(((customers.iloc[index][\"customer_id\"], user_columns) for index in range(customers.shape[0])))\n",
    "\n",
    "print(interactions.shape, val_interactions.shape)\n",
    "del train"
   ]
  },
  {
   "cell_type": "code",
   "execution_count": 10,
   "id": "46260ca6",
   "metadata": {
    "execution": {
     "iopub.execute_input": "2022-04-03T11:17:44.921866Z",
     "iopub.status.busy": "2022-04-03T11:17:44.916252Z",
     "iopub.status.idle": "2022-04-03T11:18:01.400273Z",
     "shell.execute_reply": "2022-04-03T11:18:01.399587Z",
     "shell.execute_reply.started": "2022-04-03T09:47:52.428623Z"
    },
    "papermill": {
     "duration": 16.505852,
     "end_time": "2022-04-03T11:18:01.400429",
     "exception": false,
     "start_time": "2022-04-03T11:17:44.894577",
     "status": "completed"
    },
    "tags": []
   },
   "outputs": [],
   "source": [
    "valid = val_set.groupby('customer_id')['article_id'].apply(list).reset_index()\n",
    "valid = valid.rename({'article_id':'prediction'},axis=1)\n",
    "valid['prediction'] = valid.prediction.apply(lambda x: ' '.join([str(k) for k in x]))\n",
    "\n",
    "inactive_users = list(set(train_set.customer_id) - set(train_set[train_set.week_no > test_week - 10][\"customer_id\"]))\n",
    "cold_users = list(set(valid.customer_id) - set(train_set.customer_id))\n",
    "del train_set, val_set"
   ]
  },
  {
   "cell_type": "markdown",
   "id": "74af4dcd",
   "metadata": {
    "papermill": {
     "duration": 0.017308,
     "end_time": "2022-04-03T11:18:01.435577",
     "exception": false,
     "start_time": "2022-04-03T11:18:01.418269",
     "status": "completed"
    },
    "tags": []
   },
   "source": [
    "# fitting"
   ]
  },
  {
   "cell_type": "code",
   "execution_count": 11,
   "id": "80798561",
   "metadata": {
    "execution": {
     "iopub.execute_input": "2022-04-03T11:18:01.477960Z",
     "iopub.status.busy": "2022-04-03T11:18:01.477230Z",
     "iopub.status.idle": "2022-04-03T12:26:35.955653Z",
     "shell.execute_reply": "2022-04-03T12:26:35.952161Z",
     "shell.execute_reply.started": "2022-04-03T09:48:05.415133Z"
    },
    "papermill": {
     "duration": 4114.502657,
     "end_time": "2022-04-03T12:26:35.955846",
     "exception": false,
     "start_time": "2022-04-03T11:18:01.453189",
     "status": "completed"
    },
    "tags": []
   },
   "outputs": [
    {
     "name": "stderr",
     "output_type": "stream",
     "text": [
      "Epoch: 100%|██████████| 100/100 [1:08:33<00:00, 41.13s/it]\n"
     ]
    },
    {
     "data": {
      "text/plain": [
       "<lightfm.lightfm.LightFM at 0x7f6297e29b90>"
      ]
     },
     "execution_count": 11,
     "metadata": {},
     "output_type": "execute_result"
    }
   ],
   "source": [
    "model = LightFM(loss='bpr', \n",
    "                no_components=NO_COMPONENTS, \n",
    "                learning_rate=LEARNING_RATE,                 \n",
    "                random_state=np.random.RandomState(SEED),\n",
    "                user_alpha=USER_ALPHA,\n",
    "                item_alpha=ITEM_ALPHA\n",
    "               )\n",
    "model.fit(interactions=interactions, epochs=EPOCHS, verbose=1, num_threads=NO_THREADS)"
   ]
  },
  {
   "cell_type": "code",
   "execution_count": 12,
   "id": "b825decd",
   "metadata": {
    "execution": {
     "iopub.execute_input": "2022-04-03T12:26:36.052589Z",
     "iopub.status.busy": "2022-04-03T12:26:36.052008Z",
     "iopub.status.idle": "2022-04-03T12:26:36.054185Z",
     "shell.execute_reply": "2022-04-03T12:26:36.054717Z",
     "shell.execute_reply.started": "2022-04-03T10:58:20.037497Z"
    },
    "papermill": {
     "duration": 0.053349,
     "end_time": "2022-04-03T12:26:36.054895",
     "exception": false,
     "start_time": "2022-04-03T12:26:36.001546",
     "status": "completed"
    },
    "tags": []
   },
   "outputs": [],
   "source": [
    "#!pip3 install pickle5\n",
    "#import pickle5 as pickle\n",
    "#with open('../input/lightfm1/lightFM1.pickle', \"rb\") as fh:\n",
    "#    trained_model = pickle.load(fh)"
   ]
  },
  {
   "cell_type": "markdown",
   "id": "4ebccc3e",
   "metadata": {
    "papermill": {
     "duration": 0.045244,
     "end_time": "2022-04-03T12:26:36.146088",
     "exception": false,
     "start_time": "2022-04-03T12:26:36.100844",
     "status": "completed"
    },
    "tags": []
   },
   "source": [
    "# Submission"
   ]
  },
  {
   "cell_type": "code",
   "execution_count": 13,
   "id": "cb9ce61c",
   "metadata": {
    "execution": {
     "iopub.execute_input": "2022-04-03T12:26:36.239429Z",
     "iopub.status.busy": "2022-04-03T12:26:36.238859Z",
     "iopub.status.idle": "2022-04-03T12:26:36.799156Z",
     "shell.execute_reply": "2022-04-03T12:26:36.799590Z",
     "shell.execute_reply.started": "2022-04-03T10:58:20.041706Z"
    },
    "papermill": {
     "duration": 0.608111,
     "end_time": "2022-04-03T12:26:36.799803",
     "exception": false,
     "start_time": "2022-04-03T12:26:36.191692",
     "status": "completed"
    },
    "tags": []
   },
   "outputs": [
    {
     "name": "stdout",
     "output_type": "stream",
     "text": [
      "68984\n"
     ]
    }
   ],
   "source": [
    "#Get the mappings\n",
    "'''\n",
    "uid = mapping from customer_id to model equivalent user_id\n",
    "iid = mapping from article_id to  model equivalent article_id\n",
    "'''\n",
    "uid_map, ufeature_map, iid_map, ifeature_map = dataset.mapping() \n",
    "inv_uid_map = {v:k for k, v in uid_map.items()}\n",
    "inv_iid_map = {v:k for k, v in iid_map.items()}\n",
    "\n",
    "if VALID:\n",
    "    test_X = valid.customer_id.values\n",
    "else:\n",
    "    test_X = sample_submission.customer_id.values    \n",
    "\n",
    "lfn_user = lambda x: uid_map[x]\n",
    "test_X_m = [lfn_user(tx) for tx in test_X]\n",
    "\n",
    "print(len(test_X_m))"
   ]
  },
  {
   "cell_type": "code",
   "execution_count": 14,
   "id": "8317a274",
   "metadata": {
    "execution": {
     "iopub.execute_input": "2022-04-03T12:26:36.895774Z",
     "iopub.status.busy": "2022-04-03T12:26:36.895175Z",
     "iopub.status.idle": "2022-04-03T12:26:37.960111Z",
     "shell.execute_reply": "2022-04-03T12:26:37.959287Z",
     "shell.execute_reply.started": "2022-04-03T10:58:20.338498Z"
    },
    "papermill": {
     "duration": 1.114525,
     "end_time": "2022-04-03T12:26:37.960296",
     "exception": false,
     "start_time": "2022-04-03T12:26:36.845771",
     "status": "completed"
    },
    "tags": []
   },
   "outputs": [],
   "source": [
    "def predict_submission():\n",
    "    df_split = np.array_split(test_X_m, num_cores)\n",
    "    chunk_size = len(df_split[0])\n",
    "    \n",
    "    chunk1 = list(df_split[0])\n",
    "    chunk2 = list(df_split[1])\n",
    "    chunk3 = list(df_split[2])\n",
    "    chunk4 = list(df_split[3])\n",
    "    \n",
    "    #list of items for multiprocessing, 4 since using 4 cores\n",
    "    all_chunks = [chunk1, chunk2, chunk3, chunk4]\n",
    "    \n",
    "    pool = Pool(num_cores)\n",
    "    result = pool.map(make_predict, all_chunks)\n",
    "    \n",
    "    pred_combined = list(itertools.chain(result[0], result[1], result[2], result[3]))\n",
    "\n",
    "    return pred_combined\n",
    "\n",
    "def make_predict(usr_chunk):\n",
    "    customer_ids = []\n",
    "    preds = []\n",
    "    item_array = np.array(list(iid_map.values()))\n",
    "\n",
    "    for usr_ in usr_chunk:\n",
    "        m_opt = model.predict(np.array([usr_] * len(iid_map)), item_array)\n",
    "        pred = np.argsort(-m_opt)[:K]\n",
    "        #customer_ids.append(inv_uid_map[usr_])\n",
    "        preds.append(' '.join([inv_iid_map[p] for p in pred]).strip())\n",
    "    \n",
    "    #customer_ids = np.array(customer_ids).reshape(-1, 1)\n",
    "    preds = np.array(preds).reshape(-1, 1)\n",
    "    return preds"
   ]
  },
  {
   "cell_type": "code",
   "execution_count": 15,
   "id": "32c0d853",
   "metadata": {
    "execution": {
     "iopub.execute_input": "2022-04-03T12:26:38.075350Z",
     "iopub.status.busy": "2022-04-03T12:26:38.074655Z",
     "iopub.status.idle": "2022-04-03T12:37:12.699889Z",
     "shell.execute_reply": "2022-04-03T12:37:12.700738Z",
     "shell.execute_reply.started": "2022-04-03T10:58:20.743921Z"
    },
    "papermill": {
     "duration": 634.695008,
     "end_time": "2022-04-03T12:37:12.701073",
     "exception": false,
     "start_time": "2022-04-03T12:26:38.006065",
     "status": "completed"
    },
    "tags": []
   },
   "outputs": [
    {
     "name": "stdout",
     "output_type": "stream",
     "text": [
      "CPU times: user 884 ms, sys: 538 ms, total: 1.42 s\n",
      "Wall time: 10min 34s\n"
     ]
    }
   ],
   "source": [
    "%%time\n",
    "final_predictions = predict_submission()"
   ]
  },
  {
   "cell_type": "code",
   "execution_count": 16,
   "id": "12010c87",
   "metadata": {
    "execution": {
     "iopub.execute_input": "2022-04-03T12:37:12.812190Z",
     "iopub.status.busy": "2022-04-03T12:37:12.811076Z",
     "iopub.status.idle": "2022-04-03T12:37:20.896284Z",
     "shell.execute_reply": "2022-04-03T12:37:20.895560Z",
     "shell.execute_reply.started": "2022-04-03T11:08:03.044793Z"
    },
    "papermill": {
     "duration": 8.146751,
     "end_time": "2022-04-03T12:37:20.896438",
     "exception": false,
     "start_time": "2022-04-03T12:37:12.749687",
     "status": "completed"
    },
    "tags": []
   },
   "outputs": [],
   "source": [
    "final_sub = pd.DataFrame(data=np.concatenate((np.array(test_X).reshape(-1,1), np.array(final_predictions)), axis=1).reshape(-1, 2),\n",
    "                         columns=['customer_id', 'prediction'])\n",
    "\n",
    "sample_submission.loc[sample_submission.customer_id.isin(final_sub.customer_id), 'prediction'] = ( \n",
    "    final_sub['prediction']\n",
    "    )\n",
    "sample_submission.to_csv('submission.csv', index=False)"
   ]
  },
  {
   "cell_type": "code",
   "execution_count": 17,
   "id": "2d23c3fd",
   "metadata": {
    "execution": {
     "iopub.execute_input": "2022-04-03T12:37:21.004241Z",
     "iopub.status.busy": "2022-04-03T12:37:21.003547Z",
     "iopub.status.idle": "2022-04-03T12:37:29.435054Z",
     "shell.execute_reply": "2022-04-03T12:37:29.435761Z",
     "shell.execute_reply.started": "2022-04-03T11:08:13.894315Z"
    },
    "papermill": {
     "duration": 8.492465,
     "end_time": "2022-04-03T12:37:29.436063",
     "exception": false,
     "start_time": "2022-04-03T12:37:20.943598",
     "status": "completed"
    },
    "tags": []
   },
   "outputs": [
    {
     "name": "stdout",
     "output_type": "stream",
     "text": [
      "t 0.004331153103590783\n",
      "i 0.004668374889476717 19048\n",
      "c 0.00013487350170767257 5572\n",
      "  \n",
      "0754362003 0757903001 0740450006 0456163030 0481781006 0749415005 0649551007 0824255001 0500435039 0376172001 0759483001 0764155001    5572\n",
      "0573937001 0294008002 0652924004 0751551001 0640542002 0294008005 0779551002 0368979001 0652924010 0750330002 0624257001 0742274001       2\n",
      "0534164001 0120129001 0215589001 0775382001 0567532004 0510465001 0433444001 0300024058 0752657001 0442915001 0341129001 0469562002       2\n",
      "0573937001 0294008002 0652924004 0751551001 0368979001 0779551002 0750330002 0779554002 0652924010 0294008005 0624257001 0640542002       2\n",
      "0120129001 0534164001 0215589001 0567532004 0510465001 0775382001 0300024058 0752657001 0433444001 0442915001 0262277011 0300024013       2\n",
      "                                                                                                                                       ... \n",
      "0843872006 0832453005 0832473001 0843873007 0758002011 0854683004 0868018001 0810838010 0854683002 0780297001 0780297002 0832473003       1\n",
      "0685811002 0699923008 0757805017 0474471001 0756248001 0687635010 0853612001 0783707002 0656677022 0570002013 0501620040 0757805013       1\n",
      "0658030011 0399087014 0399087030 0658030006 0658030020 0658030001 0658030016 0658030005 0399087001 0399087015 0399087028 0399087021       1\n",
      "0735121001 0717879014 0794793003 0826498002 0827637001 0790368001 0783244001 0693246011 0717879011 0537688010 0754323003 0673677002       1\n",
      "0859125001 0817472005 0879781003 0859139001 0915529003 0817401001 0827968001 0827370002 0879781002 0897687001 0883033002 0803757014       1\n",
      "Name: prediction, Length: 63408, dtype: int64\n"
     ]
    }
   ],
   "source": [
    "# local score\n",
    "if VALID:\n",
    "    sub_check = final_sub.copy()\n",
    "    sub_check = sub_check.set_index('customer_id').reset_index()\n",
    "    print(\"t\", mapk(valid.prediction.str.split(), sub_check.prediction.str.split(), k=12))    \n",
    "    print(\"i\", \n",
    "            mapk(valid[valid.customer_id.isin(inactive_users)].prediction.str.split(), \n",
    "               sub_check[sub_check.customer_id.isin(inactive_users)].prediction.str.split(), k=12),\n",
    "            valid[valid.customer_id.isin(inactive_users)].shape[0])\n",
    "    print(\"c\", \n",
    "            mapk(valid[valid.customer_id.isin(cold_users)].prediction.str.split(), \n",
    "               sub_check[sub_check.customer_id.isin(cold_users)].prediction.str.split(), k=12),\n",
    "            valid[valid.customer_id.isin(cold_users)].shape[0])\n",
    "    \n",
    "    print(\"  \")\n",
    "    print(sub_check[\"prediction\"].value_counts())  "
   ]
  },
  {
   "cell_type": "code",
   "execution_count": null,
   "id": "47f9ae6e",
   "metadata": {
    "papermill": {
     "duration": 0.046611,
     "end_time": "2022-04-03T12:37:29.529844",
     "exception": false,
     "start_time": "2022-04-03T12:37:29.483233",
     "status": "completed"
    },
    "tags": []
   },
   "outputs": [],
   "source": []
  }
 ],
 "metadata": {
  "kernelspec": {
   "display_name": "Python 3",
   "language": "python",
   "name": "python3"
  },
  "language_info": {
   "codemirror_mode": {
    "name": "ipython",
    "version": 3
   },
   "file_extension": ".py",
   "mimetype": "text/x-python",
   "name": "python",
   "nbconvert_exporter": "python",
   "pygments_lexer": "ipython3",
   "version": "3.7.12"
  },
  "papermill": {
   "default_parameters": {},
   "duration": 5194.539779,
   "end_time": "2022-04-03T12:37:31.500711",
   "environment_variables": {},
   "exception": null,
   "input_path": "__notebook__.ipynb",
   "output_path": "__notebook__.ipynb",
   "parameters": {},
   "start_time": "2022-04-03T11:10:56.960932",
   "version": "2.3.3"
  }
 },
 "nbformat": 4,
 "nbformat_minor": 5
}
