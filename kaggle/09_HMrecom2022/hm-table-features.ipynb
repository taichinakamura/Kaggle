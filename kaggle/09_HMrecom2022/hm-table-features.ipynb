{
 "cells": [
  {
   "cell_type": "markdown",
   "id": "55fc3f92",
   "metadata": {
    "execution": {
     "iopub.execute_input": "2022-03-07T23:26:29.454418Z",
     "iopub.status.busy": "2022-03-07T23:26:29.454082Z",
     "iopub.status.idle": "2022-03-07T23:27:40.641480Z",
     "shell.execute_reply": "2022-03-07T23:27:40.640021Z",
     "shell.execute_reply.started": "2022-03-07T23:26:29.454386Z"
    },
    "papermill": {
     "duration": 0.018904,
     "end_time": "2022-03-07T23:53:20.180116",
     "exception": false,
     "start_time": "2022-03-07T23:53:20.161212",
     "status": "completed"
    },
    "tags": []
   },
   "source": [
    "- consider only item features"
   ]
  },
  {
   "cell_type": "code",
   "execution_count": 1,
   "id": "2d5bff74",
   "metadata": {
    "execution": {
     "iopub.execute_input": "2022-03-07T23:53:20.221509Z",
     "iopub.status.busy": "2022-03-07T23:53:20.220249Z",
     "iopub.status.idle": "2022-03-07T23:54:22.295019Z",
     "shell.execute_reply": "2022-03-07T23:54:22.295627Z"
    },
    "papermill": {
     "duration": 62.097778,
     "end_time": "2022-03-07T23:54:22.295940",
     "exception": false,
     "start_time": "2022-03-07T23:53:20.198162",
     "status": "completed"
    },
    "tags": []
   },
   "outputs": [
    {
     "name": "stdout",
     "output_type": "stream",
     "text": [
      "Collecting similaripy\r\n",
      "  Downloading similaripy-0.1.2.tar.gz (331 kB)\r\n",
      "     |████████████████████████████████| 331 kB 598 kB/s            \r\n",
      "\u001b[?25h  Preparing metadata (setup.py) ... \u001b[?25l-\b \b\\\b \bdone\r\n",
      "\u001b[?25hRequirement already satisfied: scipy>=1.0.0 in /opt/conda/lib/python3.7/site-packages (from similaripy) (1.7.3)\r\n",
      "Requirement already satisfied: numpy>=1.14.0 in /opt/conda/lib/python3.7/site-packages (from similaripy) (1.20.3)\r\n",
      "Requirement already satisfied: tqdm>=4.19.6 in /opt/conda/lib/python3.7/site-packages (from similaripy) (4.62.3)\r\n",
      "Building wheels for collected packages: similaripy\r\n",
      "  Building wheel for similaripy (setup.py) ... \u001b[?25l-\b \b\\\b \b|\b \b/\b \b-\b \b\\\b \b|\b \b/\b \b-\b \bdone\r\n",
      "\u001b[?25h  Created wheel for similaripy: filename=similaripy-0.1.2-cp37-cp37m-linux_x86_64.whl size=2040879 sha256=b15add20203b0a4677c2b0d7f3cb380bba8aef46ee0c86e517d75db9badc6d84\r\n",
      "  Stored in directory: /root/.cache/pip/wheels/2e/81/4b/7a396ebc45534553ddee1eb106d99023df4d9d09b53b13cc66\r\n",
      "Successfully built similaripy\r\n",
      "Installing collected packages: similaripy\r\n",
      "Successfully installed similaripy-0.1.2\r\n",
      "\u001b[33mWARNING: Running pip as the 'root' user can result in broken permissions and conflicting behaviour with the system package manager. It is recommended to use a virtual environment instead: https://pip.pypa.io/warnings/venv\u001b[0m\r\n"
     ]
    }
   ],
   "source": [
    "!pip install similaripy"
   ]
  },
  {
   "cell_type": "code",
   "execution_count": 2,
   "id": "d8b10372",
   "metadata": {
    "execution": {
     "iopub.execute_input": "2022-03-07T23:54:22.357971Z",
     "iopub.status.busy": "2022-03-07T23:54:22.357206Z",
     "iopub.status.idle": "2022-03-07T23:54:23.743095Z",
     "shell.execute_reply": "2022-03-07T23:54:23.743675Z",
     "shell.execute_reply.started": "2022-03-07T23:27:40.644832Z"
    },
    "papermill": {
     "duration": 1.422215,
     "end_time": "2022-03-07T23:54:23.743862",
     "exception": false,
     "start_time": "2022-03-07T23:54:22.321647",
     "status": "completed"
    },
    "tags": []
   },
   "outputs": [],
   "source": [
    "import numpy as np\n",
    "import pandas as pd\n",
    "from tqdm import tqdm\n",
    "from sklearn import preprocessing\n",
    "from scipy.sparse import coo_matrix\n",
    "from sklearn.decomposition import TruncatedSVD\n",
    "from sklearn.feature_extraction.text import TfidfVectorizer\n",
    "from sklearn.decomposition import LatentDirichletAllocation\n",
    "import implicit\n",
    "import similaripy\n",
    "\n",
    "import warnings\n",
    "warnings.filterwarnings('ignore')"
   ]
  },
  {
   "cell_type": "code",
   "execution_count": 3,
   "id": "ce23ec9e",
   "metadata": {
    "execution": {
     "iopub.execute_input": "2022-03-07T23:54:23.799592Z",
     "iopub.status.busy": "2022-03-07T23:54:23.798886Z",
     "iopub.status.idle": "2022-03-07T23:55:30.769472Z",
     "shell.execute_reply": "2022-03-07T23:55:30.767132Z",
     "shell.execute_reply.started": "2022-03-07T23:27:40.667211Z"
    },
    "papermill": {
     "duration": 67.000665,
     "end_time": "2022-03-07T23:55:30.770186",
     "exception": false,
     "start_time": "2022-03-07T23:54:23.769521",
     "status": "completed"
    },
    "tags": []
   },
   "outputs": [],
   "source": [
    "DATA_DIR = \"/kaggle/input/h-and-m-personalized-fashion-recommendations/\"\n",
    "df = pd.read_csv(DATA_DIR + \"transactions_train.csv\")\n",
    "article_df = pd.read_csv(DATA_DIR + \"articles.csv\")\n",
    "customer_df = pd.read_csv(DATA_DIR + \"customers.csv\")"
   ]
  },
  {
   "cell_type": "code",
   "execution_count": 4,
   "id": "910a15dc",
   "metadata": {
    "execution": {
     "iopub.execute_input": "2022-03-07T23:55:30.856868Z",
     "iopub.status.busy": "2022-03-07T23:55:30.855773Z",
     "iopub.status.idle": "2022-03-07T23:56:11.742095Z",
     "shell.execute_reply": "2022-03-07T23:56:11.742865Z",
     "shell.execute_reply.started": "2022-03-07T23:29:47.524938Z"
    },
    "papermill": {
     "duration": 40.917456,
     "end_time": "2022-03-07T23:56:11.743374",
     "exception": false,
     "start_time": "2022-03-07T23:55:30.825918",
     "status": "completed"
    },
    "tags": []
   },
   "outputs": [],
   "source": [
    "df[\"t_dat\"] = pd.to_datetime(df[\"t_dat\"])\n",
    "\n",
    "date_week_df = df.drop_duplicates(\"t_dat\")[[\"t_dat\"]].reset_index(drop=True)\n",
    "date_week_df['week_no'] = (date_week_df['t_dat'] + pd.DateOffset(days=5)).dt.week\n",
    "date_week_df[\"week_no\"] = date_week_df[\"week_no\"].diff(1)\n",
    "date_week_df[\"week_no\"].fillna(0, inplace=True)\n",
    "date_week_df[\"week_no\"] = date_week_df[\"week_no\"] != 0\n",
    "date_week_df[\"week_no\"] = date_week_df[\"week_no\"].cumsum()\n",
    "\n",
    "df = pd.merge(df, date_week_df, on=\"t_dat\", how=\"left\")\n",
    "\n",
    "df.sort_values(['t_dat', 'customer_id'], inplace=True)\n",
    "\n",
    "df = df[df.week_no > df.week_no.max() - 50].reset_index(drop=True)\n",
    "test_week = df.week_no.max()"
   ]
  },
  {
   "cell_type": "markdown",
   "id": "cacad6cc",
   "metadata": {
    "papermill": {
     "duration": 0.02541,
     "end_time": "2022-03-07T23:56:11.797460",
     "exception": false,
     "start_time": "2022-03-07T23:56:11.772050",
     "status": "completed"
    },
    "tags": []
   },
   "source": [
    "# features by implicit"
   ]
  },
  {
   "cell_type": "code",
   "execution_count": 5,
   "id": "f16dbf5f",
   "metadata": {
    "execution": {
     "iopub.execute_input": "2022-03-07T23:56:11.854031Z",
     "iopub.status.busy": "2022-03-07T23:56:11.852966Z",
     "iopub.status.idle": "2022-03-07T23:56:11.857303Z",
     "shell.execute_reply": "2022-03-07T23:56:11.857959Z",
     "shell.execute_reply.started": "2022-03-07T08:41:05.443093Z"
    },
    "papermill": {
     "duration": 0.035178,
     "end_time": "2022-03-07T23:56:11.858128",
     "exception": false,
     "start_time": "2022-03-07T23:56:11.822950",
     "status": "completed"
    },
    "tags": []
   },
   "outputs": [],
   "source": [
    "#all_users = df[\"customer_id\"].unique().tolist()\n",
    "#all_items = df[\"article_id\"].unique().tolist()\n",
    "\n",
    "#user_ids = dict(list(enumerate(all_users)))\n",
    "#item_ids = dict(list(enumerate(all_items)))\n",
    "\n",
    "#user_map = {u: uidx for uidx, u in user_ids.items()}\n",
    "#item_map = {u: iidx for iidx, u in item_ids.items()}\n",
    "\n",
    "#df[\"customer_id\"] = df[\"customer_id\"].map(user_map)\n",
    "#df[\"article_id\"] = df[\"article_id\"].map(item_map)\n",
    "\n",
    "#row = df[\"customer_id\"].values\n",
    "#col = df[\"article_id\"].values\n",
    "\n",
    "#data = np.ones(df.shape[0])\n",
    "#coo = coo_matrix((data, (row, col)), shape=(len(all_users), len(all_items)))\n",
    "\n",
    "#model = implicit.als.AlternatingLeastSquares(factors=10, iterations = 5, regularization=0.01)\n",
    "#model.fit(coo)\n",
    "\n",
    "#model.user_factors, model.user_factors.shape\n",
    "#model.item_factors, model.item_factors.shape"
   ]
  },
  {
   "cell_type": "markdown",
   "id": "8ddfce30",
   "metadata": {
    "papermill": {
     "duration": 0.032254,
     "end_time": "2022-03-07T23:56:11.915943",
     "exception": false,
     "start_time": "2022-03-07T23:56:11.883689",
     "status": "completed"
    },
    "tags": []
   },
   "source": [
    "# features by similaripy"
   ]
  },
  {
   "cell_type": "code",
   "execution_count": 6,
   "id": "053ec2aa",
   "metadata": {
    "execution": {
     "iopub.execute_input": "2022-03-07T23:56:11.973324Z",
     "iopub.status.busy": "2022-03-07T23:56:11.972206Z",
     "iopub.status.idle": "2022-03-07T23:56:11.975440Z",
     "shell.execute_reply": "2022-03-07T23:56:11.974742Z",
     "shell.execute_reply.started": "2022-03-07T23:26:24.161875Z"
    },
    "papermill": {
     "duration": 0.033748,
     "end_time": "2022-03-07T23:56:11.975585",
     "exception": false,
     "start_time": "2022-03-07T23:56:11.941837",
     "status": "completed"
    },
    "tags": []
   },
   "outputs": [],
   "source": [
    "# normalize matrix with bm25\n",
    "#coo_bm = similaripy.normalization.bm25(coo)\n",
    "\n",
    "# train the model with 50 knn per item \n",
    "#model = similaripy.cosine(coo_bm.T, k=50)\n",
    "\n",
    "# recommend 100 items to users 1, 14 and 8 filtering the items already seen by each users\n",
    "#user_recommendations = sim.dot_product(coo_bm, model.T, k=100, target_rows=[1,14,8], filter_cols=coo_bm)"
   ]
  },
  {
   "cell_type": "markdown",
   "id": "6c2f4252",
   "metadata": {
    "papermill": {
     "duration": 0.026999,
     "end_time": "2022-03-07T23:56:12.028793",
     "exception": false,
     "start_time": "2022-03-07T23:56:12.001794",
     "status": "completed"
    },
    "tags": []
   },
   "source": [
    "# features by abstraction block"
   ]
  },
  {
   "cell_type": "code",
   "execution_count": 7,
   "id": "b9b78173",
   "metadata": {
    "execution": {
     "iopub.execute_input": "2022-03-07T23:56:12.095793Z",
     "iopub.status.busy": "2022-03-07T23:56:12.088405Z",
     "iopub.status.idle": "2022-03-07T23:56:16.560904Z",
     "shell.execute_reply": "2022-03-07T23:56:16.560139Z",
     "shell.execute_reply.started": "2022-03-07T23:30:44.304930Z"
    },
    "papermill": {
     "duration": 4.506362,
     "end_time": "2022-03-07T23:56:16.561076",
     "exception": false,
     "start_time": "2022-03-07T23:56:12.054714",
     "status": "completed"
    },
    "tags": []
   },
   "outputs": [],
   "source": [
    "article_columns = [\"garment_group_no\",\n",
    "                \"product_code\", \"product_type_no\", \n",
    "                \"graphical_appearance_no\", \"colour_group_code\", \"perceived_colour_value_id\",\n",
    "                \"perceived_colour_master_id\", \"department_no\", \"index_group_no\", \n",
    "                \"section_no\"]\n",
    "\n",
    "df = pd.merge(df, article_df[[\"article_id\"] + article_columns], on='article_id', how='left')"
   ]
  },
  {
   "cell_type": "code",
   "execution_count": 8,
   "id": "062061b4",
   "metadata": {
    "execution": {
     "iopub.execute_input": "2022-03-07T23:56:16.863698Z",
     "iopub.status.busy": "2022-03-07T23:56:16.862705Z",
     "iopub.status.idle": "2022-03-07T23:57:20.285814Z",
     "shell.execute_reply": "2022-03-07T23:57:20.286367Z",
     "shell.execute_reply.started": "2022-03-07T23:30:54.352740Z"
    },
    "papermill": {
     "duration": 63.699631,
     "end_time": "2022-03-07T23:57:20.286611",
     "exception": false,
     "start_time": "2022-03-07T23:56:16.586980",
     "status": "completed"
    },
    "tags": []
   },
   "outputs": [],
   "source": [
    "# customerごとに何か購入したweek\n",
    "customer2weeks = df.groupby('customer_id')['week_no'].unique()\n",
    "\n",
    "# customerごとに学習データの特徴量となるweekとラベルとなるweekのペアを作る。\n",
    "customer2weekpairs = {}\n",
    "\n",
    "for c_id, weeks in customer2weeks.items():\n",
    "    customer2weekpairs[c_id] = {}\n",
    "    for i in range(weeks.shape[0]-1):\n",
    "        customer2weekpairs[c_id][weeks[i]] = weeks[i+1]\n",
    "    customer2weekpairs[c_id][weeks[-1]] = test_week"
   ]
  },
  {
   "cell_type": "code",
   "execution_count": 9,
   "id": "47f06b48",
   "metadata": {
    "execution": {
     "iopub.execute_input": "2022-03-07T23:57:20.342685Z",
     "iopub.status.busy": "2022-03-07T23:57:20.341959Z",
     "iopub.status.idle": "2022-03-07T23:57:20.348606Z",
     "shell.execute_reply": "2022-03-07T23:57:20.349061Z",
     "shell.execute_reply.started": "2022-03-07T23:32:30.241070Z"
    },
    "papermill": {
     "duration": 0.03618,
     "end_time": "2022-03-07T23:57:20.349262",
     "exception": false,
     "start_time": "2022-03-07T23:57:20.313082",
     "status": "completed"
    },
    "tags": []
   },
   "outputs": [],
   "source": [
    "def join(df):\n",
    "    x = [str(e) for e in list(df)]\n",
    "    return \" \".join(x)\n",
    "\n",
    "def label_prev_week(input_df):\n",
    "    weeks = []\n",
    "    for i, (c_id, week) in enumerate(zip(input_df['customer_id'], input_df['week_no'])):\n",
    "        weeks.append(customer2weekpairs[c_id][week])\n",
    "    input_df.week_no=weeks\n",
    "    return input_df"
   ]
  },
  {
   "cell_type": "code",
   "execution_count": 10,
   "id": "4256ef1c",
   "metadata": {
    "execution": {
     "iopub.execute_input": "2022-03-07T23:57:20.404328Z",
     "iopub.status.busy": "2022-03-07T23:57:20.403622Z",
     "iopub.status.idle": "2022-03-07T23:57:20.424201Z",
     "shell.execute_reply": "2022-03-07T23:57:20.423598Z",
     "shell.execute_reply.started": "2022-03-07T23:50:39.315684Z"
    },
    "papermill": {
     "duration": 0.049517,
     "end_time": "2022-03-07T23:57:20.424395",
     "exception": false,
     "start_time": "2022-03-07T23:57:20.374878",
     "status": "completed"
    },
    "tags": []
   },
   "outputs": [],
   "source": [
    "class AbstractBaseBlock:\n",
    "    def fit(self, input_df, y=None):\n",
    "        return self.transform(input_df)\n",
    "\n",
    "    def transform(self, input_df):\n",
    "        raise NotImplementedError()\n",
    "        \n",
    "class UserHistoryEveryBlock(AbstractBaseBlock):\n",
    "    \"\"\"ユーザーの数値履歴を週間で集計した特徴量を付与する block 累積ではない\"\"\"\n",
    "    def __init__(self, item):\n",
    "        self.item = item\n",
    "\n",
    "    def fit(self, input_df, y=None):\n",
    "        out = input_df \\\n",
    "        .groupby(['customer_id', 'week_no'])[self.item].agg([\"sum\", \"std\", \"max\", \"min\"]).add_prefix(\"u_prev_\"+self.item+\"_\").reset_index()\n",
    "        out = label_prev_week(out)\n",
    "        return self.transform(out)\n",
    "\n",
    "    def transform(self, input_df):\n",
    "        return input_df\n",
    "    \n",
    "class UserHistoryVectorEveryBlock(AbstractBaseBlock):\n",
    "    \"\"\"ユーザーの文字履歴を週間で集計しベクトル化した特徴量を付与する block 累積ではない\"\"\"\n",
    "    def __init__(self, item, n_components = 5):\n",
    "        self.item = item\n",
    "        self.n_components = n_components\n",
    "        \n",
    "    def fit(self, input_df, y=None):\n",
    "        docs = input_df.groupby([\"customer_id\", \"week_no\"])[self.item].apply(join)\n",
    "        max_features = int(input_df[self.item].nunique() * 0.8)\n",
    "        tv = TfidfVectorizer(max_features=max_features)\n",
    "        X = tv.fit_transform(docs)\n",
    "        \n",
    "        svd = TruncatedSVD(n_components=self.n_components, random_state=0)\n",
    "        X = svd.fit_transform(X)\n",
    "        result = pd.DataFrame(X, columns=[f\"u_{self.item}_{i}\" for i in range(self.n_components)])\n",
    "        result.index = docs.index\n",
    "        result = result.reset_index()\n",
    "        result = label_prev_week(result)\n",
    "        return self.transform(result)\n",
    "  \n",
    "    def transform(self, input_df):\n",
    "        return input_df  \n",
    "\n",
    "class ItemHistoryEveryBlock(AbstractBaseBlock):\n",
    "    \"\"\"アイテムの数値履歴を週間で集計した特徴量を付与する block 累積ではない\"\"\"\n",
    "    def __init__(self, item):\n",
    "        self.item = item\n",
    "\n",
    "    def fit(self, input_df, y=None):\n",
    "        out = input_df \\\n",
    "        .groupby(['week_no'])[self.item].value_counts()\n",
    "        out = out.to_frame(\"sale_count\").reset_index()\n",
    "        return self.transform(out)\n",
    "\n",
    "    def transform(self, input_df):\n",
    "        return input_df\n",
    "    \n",
    "class ItemHistorySumBlock(AbstractBaseBlock):\n",
    "    \"\"\"アイテムの数値履歴を週間で集計した特徴量を付与する block 累積ではない\"\"\"\n",
    "    def __init__(self, item):\n",
    "        self.item = item\n",
    "\n",
    "    def fit(self, input_df, y=None):\n",
    "        out = input_df \\\n",
    "        .groupby(['week_no', self.item])['price'].agg([\"sum\"]).add_prefix(\"sale_\").reset_index()\n",
    "        return self.transform(out)\n",
    "\n",
    "    def transform(self, input_df):\n",
    "        return input_df"
   ]
  },
  {
   "cell_type": "code",
   "execution_count": 11,
   "id": "d62a31ec",
   "metadata": {
    "execution": {
     "iopub.execute_input": "2022-03-07T23:57:20.481888Z",
     "iopub.status.busy": "2022-03-07T23:57:20.480798Z",
     "iopub.status.idle": "2022-03-07T23:57:20.483114Z",
     "shell.execute_reply": "2022-03-07T23:57:20.483640Z",
     "shell.execute_reply.started": "2022-03-06T02:04:56.455526Z"
    },
    "papermill": {
     "duration": 0.032986,
     "end_time": "2022-03-07T23:57:20.483829",
     "exception": false,
     "start_time": "2022-03-07T23:57:20.450843",
     "status": "completed"
    },
    "tags": []
   },
   "outputs": [],
   "source": [
    "# user_features\n",
    "#feature_blocks = [\n",
    "#    UserHistoryEveryBlock(\"price\"),\n",
    "#    UserHistoryVectorEveryBlock(\"section_no\"),\n",
    "#    UserHistoryVectorEveryBlock(\"garment_group_no\"),\n",
    "#]\n",
    "\n",
    "#for i, block in enumerate(feature_blocks):\n",
    "#    if i == 0:\n",
    "#        user_features_df = block.fit(df)\n",
    "#    else:\n",
    "#        out_i = block.fit(df)\n",
    "#        user_features_df = pd.merge(user_features_df, out_i, on = [\"customer_id\", \"week_no\"], how=\"left\")\n",
    "        \n",
    "#user_features_df.to_csv(\"user_features.csv\", index=False)\n",
    "#del user_features_df"
   ]
  },
  {
   "cell_type": "code",
   "execution_count": 12,
   "id": "5a9aef83",
   "metadata": {
    "execution": {
     "iopub.execute_input": "2022-03-07T23:57:20.540079Z",
     "iopub.status.busy": "2022-03-07T23:57:20.539065Z",
     "iopub.status.idle": "2022-03-07T23:57:33.389333Z",
     "shell.execute_reply": "2022-03-07T23:57:33.388683Z",
     "shell.execute_reply.started": "2022-03-07T23:50:41.094830Z"
    },
    "papermill": {
     "duration": 12.878918,
     "end_time": "2022-03-07T23:57:33.389504",
     "exception": false,
     "start_time": "2022-03-07T23:57:20.510586",
     "status": "completed"
    },
    "tags": []
   },
   "outputs": [],
   "source": [
    "# item_features\n",
    "article_count = ItemHistoryEveryBlock(\"article_id\").fit(df)\n",
    "article_count.to_csv(\"article_count.csv\", index=False)\n",
    "\n",
    "article_sale = ItemHistorySumBlock(\"article_id\").fit(df)\n",
    "article_sale.to_csv(\"article_sale.csv\", index=False)"
   ]
  },
  {
   "cell_type": "code",
   "execution_count": 13,
   "id": "b29ddf3f",
   "metadata": {
    "execution": {
     "iopub.execute_input": "2022-03-07T23:57:33.445882Z",
     "iopub.status.busy": "2022-03-07T23:57:33.444938Z",
     "iopub.status.idle": "2022-03-07T23:57:33.448054Z",
     "shell.execute_reply": "2022-03-07T23:57:33.448500Z",
     "shell.execute_reply.started": "2022-03-06T02:22:59.807299Z"
    },
    "papermill": {
     "duration": 0.033291,
     "end_time": "2022-03-07T23:57:33.448664",
     "exception": false,
     "start_time": "2022-03-07T23:57:33.415373",
     "status": "completed"
    },
    "tags": []
   },
   "outputs": [],
   "source": [
    "# user_item_features\n",
    "#user_item_features_df_garment_group = UserItemHistoryEveryBlock(\"garment_group_no\").fit(df)\n",
    "#user_item_features_df_garment_group.to_csv(\"user_item_features_garment_group.csv\", index=False)\n",
    "#del user_item_features_df_garment_group"
   ]
  },
  {
   "cell_type": "code",
   "execution_count": null,
   "id": "a4e98525",
   "metadata": {
    "papermill": {
     "duration": 0.025356,
     "end_time": "2022-03-07T23:57:33.500520",
     "exception": false,
     "start_time": "2022-03-07T23:57:33.475164",
     "status": "completed"
    },
    "tags": []
   },
   "outputs": [],
   "source": []
  }
 ],
 "metadata": {
  "kernelspec": {
   "display_name": "Python 3",
   "language": "python",
   "name": "python3"
  },
  "language_info": {
   "codemirror_mode": {
    "name": "ipython",
    "version": 3
   },
   "file_extension": ".py",
   "mimetype": "text/x-python",
   "name": "python",
   "nbconvert_exporter": "python",
   "pygments_lexer": "ipython3",
   "version": "3.7.12"
  },
  "papermill": {
   "default_parameters": {},
   "duration": 266.643298,
   "end_time": "2022-03-07T23:57:35.645721",
   "environment_variables": {},
   "exception": null,
   "input_path": "__notebook__.ipynb",
   "output_path": "__notebook__.ipynb",
   "parameters": {},
   "start_time": "2022-03-07T23:53:09.002423",
   "version": "2.3.3"
  }
 },
 "nbformat": 4,
 "nbformat_minor": 5
}
