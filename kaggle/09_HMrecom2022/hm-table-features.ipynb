{
 "cells": [
  {
   "cell_type": "markdown",
   "id": "2a80ac73",
   "metadata": {
    "execution": {
     "iopub.execute_input": "2022-03-07T23:26:29.454418Z",
     "iopub.status.busy": "2022-03-07T23:26:29.454082Z",
     "iopub.status.idle": "2022-03-07T23:27:40.64148Z",
     "shell.execute_reply": "2022-03-07T23:27:40.640021Z",
     "shell.execute_reply.started": "2022-03-07T23:26:29.454386Z"
    },
    "papermill": {
     "duration": 0.024429,
     "end_time": "2022-03-16T00:52:08.091566",
     "exception": false,
     "start_time": "2022-03-16T00:52:08.067137",
     "status": "completed"
    },
    "tags": []
   },
   "source": [
    "- consider only item features\n",
    "- modify functions for predictions of cold users\n",
    "- pickle als model and user, item mapping\n",
    "- remove cold prediction"
   ]
  },
  {
   "cell_type": "code",
   "execution_count": 1,
   "id": "f936046d",
   "metadata": {
    "execution": {
     "iopub.execute_input": "2022-03-16T00:52:08.143216Z",
     "iopub.status.busy": "2022-03-16T00:52:08.141921Z",
     "iopub.status.idle": "2022-03-16T00:53:14.345207Z",
     "shell.execute_reply": "2022-03-16T00:53:14.344398Z",
     "shell.execute_reply.started": "2022-03-15T10:32:54.813484Z"
    },
    "papermill": {
     "duration": 66.230662,
     "end_time": "2022-03-16T00:53:14.345517",
     "exception": false,
     "start_time": "2022-03-16T00:52:08.114855",
     "status": "completed"
    },
    "tags": []
   },
   "outputs": [
    {
     "name": "stdout",
     "output_type": "stream",
     "text": [
      "Collecting similaripy\r\n",
      "  Downloading similaripy-0.1.2.tar.gz (331 kB)\r\n",
      "     |████████████████████████████████| 331 kB 281 kB/s            \r\n",
      "\u001b[?25h  Preparing metadata (setup.py) ... \u001b[?25l-\b \b\\\b \bdone\r\n",
      "\u001b[?25hRequirement already satisfied: scipy>=1.0.0 in /opt/conda/lib/python3.7/site-packages (from similaripy) (1.7.3)\r\n",
      "Requirement already satisfied: numpy>=1.14.0 in /opt/conda/lib/python3.7/site-packages (from similaripy) (1.20.3)\r\n",
      "Requirement already satisfied: tqdm>=4.19.6 in /opt/conda/lib/python3.7/site-packages (from similaripy) (4.62.3)\r\n",
      "Building wheels for collected packages: similaripy\r\n",
      "  Building wheel for similaripy (setup.py) ... \u001b[?25l-\b \b\\\b \b|\b \b/\b \b-\b \b\\\b \b|\b \b/\b \b-\b \bdone\r\n",
      "\u001b[?25h  Created wheel for similaripy: filename=similaripy-0.1.2-cp37-cp37m-linux_x86_64.whl size=2040891 sha256=340225fc67b23764ab8969bbd67ac16a612b6494c0cfe00ace461461d950621b\r\n",
      "  Stored in directory: /root/.cache/pip/wheels/2e/81/4b/7a396ebc45534553ddee1eb106d99023df4d9d09b53b13cc66\r\n",
      "Successfully built similaripy\r\n",
      "Installing collected packages: similaripy\r\n",
      "Successfully installed similaripy-0.1.2\r\n",
      "\u001b[33mWARNING: Running pip as the 'root' user can result in broken permissions and conflicting behaviour with the system package manager. It is recommended to use a virtual environment instead: https://pip.pypa.io/warnings/venv\u001b[0m\r\n"
     ]
    }
   ],
   "source": [
    "!pip install similaripy"
   ]
  },
  {
   "cell_type": "code",
   "execution_count": 2,
   "id": "b69c861c",
   "metadata": {
    "execution": {
     "iopub.execute_input": "2022-03-16T00:53:14.424438Z",
     "iopub.status.busy": "2022-03-16T00:53:14.423265Z",
     "iopub.status.idle": "2022-03-16T00:53:15.774824Z",
     "shell.execute_reply": "2022-03-16T00:53:15.774219Z",
     "shell.execute_reply.started": "2022-03-15T10:33:50.752997Z"
    },
    "papermill": {
     "duration": 1.395098,
     "end_time": "2022-03-16T00:53:15.774986",
     "exception": false,
     "start_time": "2022-03-16T00:53:14.379888",
     "status": "completed"
    },
    "tags": []
   },
   "outputs": [],
   "source": [
    "import numpy as np\n",
    "import pandas as pd\n",
    "from tqdm import tqdm\n",
    "from sklearn import preprocessing\n",
    "from scipy.sparse import coo_matrix\n",
    "from sklearn.decomposition import TruncatedSVD\n",
    "from sklearn.feature_extraction.text import TfidfVectorizer\n",
    "from sklearn.decomposition import LatentDirichletAllocation\n",
    "import implicit\n",
    "import similaripy\n",
    "import pickle\n",
    "\n",
    "import warnings\n",
    "warnings.filterwarnings('ignore')\n",
    "\n",
    "tqdm.pandas()"
   ]
  },
  {
   "cell_type": "code",
   "execution_count": 3,
   "id": "2d252341",
   "metadata": {
    "execution": {
     "iopub.execute_input": "2022-03-16T00:53:15.851157Z",
     "iopub.status.busy": "2022-03-16T00:53:15.850434Z",
     "iopub.status.idle": "2022-03-16T00:54:28.358452Z",
     "shell.execute_reply": "2022-03-16T00:54:28.357696Z",
     "shell.execute_reply.started": "2022-03-15T10:33:52.030974Z"
    },
    "papermill": {
     "duration": 72.54966,
     "end_time": "2022-03-16T00:54:28.358617",
     "exception": false,
     "start_time": "2022-03-16T00:53:15.808957",
     "status": "completed"
    },
    "tags": []
   },
   "outputs": [],
   "source": [
    "DATA_DIR = \"/kaggle/input/h-and-m-personalized-fashion-recommendations/\"\n",
    "df = pd.read_csv(DATA_DIR + \"transactions_train.csv\")\n",
    "article_df = pd.read_csv(DATA_DIR + \"articles.csv\")\n",
    "customer_df = pd.read_csv(DATA_DIR + \"customers.csv\")\n",
    "sub = pd.read_csv(DATA_DIR + 'sample_submission.csv')"
   ]
  },
  {
   "cell_type": "code",
   "execution_count": 4,
   "id": "431b9466",
   "metadata": {
    "execution": {
     "iopub.execute_input": "2022-03-16T00:54:30.046170Z",
     "iopub.status.busy": "2022-03-16T00:54:28.464393Z",
     "iopub.status.idle": "2022-03-16T00:54:59.685602Z",
     "shell.execute_reply": "2022-03-16T00:54:59.684939Z",
     "shell.execute_reply.started": "2022-03-15T10:35:20.501738Z"
    },
    "papermill": {
     "duration": 31.28505,
     "end_time": "2022-03-16T00:54:59.685789",
     "exception": false,
     "start_time": "2022-03-16T00:54:28.400739",
     "status": "completed"
    },
    "tags": []
   },
   "outputs": [],
   "source": [
    "df[\"t_dat\"] = pd.to_datetime(df[\"t_dat\"])\n",
    "\n",
    "date_week_df = df.drop_duplicates(\"t_dat\")[[\"t_dat\"]].reset_index(drop=True)\n",
    "date_week_df['week_no'] = (date_week_df['t_dat'] + pd.DateOffset(days=5)).dt.week\n",
    "date_week_df[\"week_no\"] = date_week_df[\"week_no\"].diff(1)\n",
    "date_week_df[\"week_no\"].fillna(0, inplace=True)\n",
    "date_week_df[\"week_no\"] = date_week_df[\"week_no\"] != 0\n",
    "date_week_df[\"week_no\"] = date_week_df[\"week_no\"].cumsum()\n",
    "\n",
    "df = pd.merge(df, date_week_df, on=\"t_dat\", how=\"left\")\n",
    "\n",
    "df.sort_values(['t_dat', 'customer_id'], inplace=True)\n",
    "\n",
    "test_week = df.week_no.max()\n",
    "last_ts = df['t_dat'].max()"
   ]
  },
  {
   "cell_type": "markdown",
   "id": "511d2d91",
   "metadata": {
    "papermill": {
     "duration": 0.032424,
     "end_time": "2022-03-16T00:54:59.750907",
     "exception": false,
     "start_time": "2022-03-16T00:54:59.718483",
     "status": "completed"
    },
    "tags": []
   },
   "source": [
    "# als model"
   ]
  },
  {
   "cell_type": "code",
   "execution_count": 5,
   "id": "fcf502b5",
   "metadata": {
    "execution": {
     "iopub.execute_input": "2022-03-16T00:54:59.841109Z",
     "iopub.status.busy": "2022-03-16T00:54:59.839754Z",
     "iopub.status.idle": "2022-03-16T00:57:14.134136Z",
     "shell.execute_reply": "2022-03-16T00:57:14.133419Z",
     "shell.execute_reply.started": "2022-03-15T10:35:57.356384Z"
    },
    "papermill": {
     "duration": 134.351418,
     "end_time": "2022-03-16T00:57:14.134341",
     "exception": false,
     "start_time": "2022-03-16T00:54:59.782923",
     "status": "completed"
    },
    "tags": []
   },
   "outputs": [
    {
     "data": {
      "application/vnd.jupyter.widget-view+json": {
       "model_id": "bdb3be3ceb424385b27c2b71abd72916",
       "version_major": 2,
       "version_minor": 0
      },
      "text/plain": [
       "  0%|          | 0/5 [00:00<?, ?it/s]"
      ]
     },
     "metadata": {},
     "output_type": "display_data"
    }
   ],
   "source": [
    "# for validation\n",
    "tmp = df[df.week_no < test_week].reset_index(drop=True).copy()\n",
    "    \n",
    "# als model\n",
    "all_users = tmp[\"customer_id\"].unique().tolist()\n",
    "all_items = tmp[\"article_id\"].unique().tolist()\n",
    "\n",
    "user_ids = dict(list(enumerate(all_users)))\n",
    "item_ids = dict(list(enumerate(all_items)))\n",
    "\n",
    "user_map = {u: uidx for uidx, u in user_ids.items()}\n",
    "item_map = {u: iidx for iidx, u in item_ids.items()}\n",
    "\n",
    "tmp[\"customer_id\"] = tmp[\"customer_id\"].map(user_map)\n",
    "tmp[\"article_id\"] = tmp[\"article_id\"].map(item_map)\n",
    "\n",
    "row = tmp[\"customer_id\"].values\n",
    "col = tmp[\"article_id\"].values\n",
    "\n",
    "data = np.ones(tmp.shape[0])\n",
    "coo = coo_matrix((data, (row, col)), shape=(len(all_users), len(all_items)))\n",
    "\n",
    "n_factors = 5\n",
    "als_model = implicit.als.AlternatingLeastSquares(factors=n_factors, iterations = 5, regularization=0.1, random_state=2240)\n",
    "als_model.fit(coo)\n",
    "item_factor_columns = [\"article_id_\"+str(i) for i in range(n_factors)]\n",
    "\n",
    "del row, col, tmp, data, coo, user_ids, item_ids\n",
    "\n",
    "with open('als_model_val.pickle', mode='wb') as f:\n",
    "    pickle.dump(als_model, f)\n",
    "    \n",
    "with open('user_map_val.pickle', mode='wb') as f:\n",
    "    pickle.dump(user_map, f)\n",
    "    \n",
    "with open('item_map_val.pickle', mode='wb') as f:\n",
    "    pickle.dump(item_map, f)"
   ]
  },
  {
   "cell_type": "code",
   "execution_count": 6,
   "id": "54638e9d",
   "metadata": {
    "execution": {
     "iopub.execute_input": "2022-03-16T00:57:14.217944Z",
     "iopub.status.busy": "2022-03-16T00:57:14.216076Z",
     "iopub.status.idle": "2022-03-16T00:59:23.700394Z",
     "shell.execute_reply": "2022-03-16T00:59:23.699698Z",
     "shell.execute_reply.started": "2022-03-15T10:37:56.14881Z"
    },
    "papermill": {
     "duration": 129.533078,
     "end_time": "2022-03-16T00:59:23.700578",
     "exception": false,
     "start_time": "2022-03-16T00:57:14.167500",
     "status": "completed"
    },
    "tags": []
   },
   "outputs": [
    {
     "data": {
      "application/vnd.jupyter.widget-view+json": {
       "model_id": "0b52c18d887e4dba868dfcdd378b3609",
       "version_major": 2,
       "version_minor": 0
      },
      "text/plain": [
       "  0%|          | 0/5 [00:00<?, ?it/s]"
      ]
     },
     "metadata": {},
     "output_type": "display_data"
    }
   ],
   "source": [
    "# for full train\n",
    "tmp = df.copy()\n",
    "    \n",
    "# als model\n",
    "all_users = tmp[\"customer_id\"].unique().tolist()\n",
    "all_items = tmp[\"article_id\"].unique().tolist()\n",
    "\n",
    "user_ids = dict(list(enumerate(all_users)))\n",
    "item_ids = dict(list(enumerate(all_items)))\n",
    "\n",
    "user_map = {u: uidx for uidx, u in user_ids.items()}\n",
    "item_map = {u: iidx for iidx, u in item_ids.items()}\n",
    "\n",
    "tmp[\"customer_id\"] = tmp[\"customer_id\"].map(user_map)\n",
    "tmp[\"article_id\"] = tmp[\"article_id\"].map(item_map)\n",
    "\n",
    "row = tmp[\"customer_id\"].values\n",
    "col = tmp[\"article_id\"].values\n",
    "\n",
    "data = np.ones(tmp.shape[0])\n",
    "coo = coo_matrix((data, (row, col)), shape=(len(all_users), len(all_items)))\n",
    "\n",
    "n_factors = 5\n",
    "als_model = implicit.als.AlternatingLeastSquares(factors=n_factors, iterations = 5, regularization=0.1, random_state=2240)\n",
    "als_model.fit(coo)\n",
    "item_factor_columns = [\"article_id_\"+str(i) for i in range(n_factors)]\n",
    "\n",
    "del row, col, tmp, data, coo, user_ids, item_ids\n",
    "\n",
    "with open('als_model_full.pickle', mode='wb') as f:\n",
    "    pickle.dump(als_model, f)\n",
    "    \n",
    "with open('user_map_full.pickle', mode='wb') as f:\n",
    "    pickle.dump(user_map, f)\n",
    "    \n",
    "with open('item_map_full.pickle', mode='wb') as f:\n",
    "    pickle.dump(item_map, f)"
   ]
  },
  {
   "cell_type": "markdown",
   "id": "dbe56d71",
   "metadata": {
    "papermill": {
     "duration": 0.034535,
     "end_time": "2022-03-16T00:59:23.770096",
     "exception": false,
     "start_time": "2022-03-16T00:59:23.735561",
     "status": "completed"
    },
    "tags": []
   },
   "source": [
    "# first appperance week of article_id"
   ]
  },
  {
   "cell_type": "code",
   "execution_count": 7,
   "id": "0254d410",
   "metadata": {
    "execution": {
     "iopub.execute_input": "2022-03-16T00:59:23.843465Z",
     "iopub.status.busy": "2022-03-16T00:59:23.842689Z",
     "iopub.status.idle": "2022-03-16T00:59:25.572920Z",
     "shell.execute_reply": "2022-03-16T00:59:25.573545Z",
     "shell.execute_reply.started": "2022-03-15T10:39:53.499666Z"
    },
    "papermill": {
     "duration": 1.768908,
     "end_time": "2022-03-16T00:59:25.573734",
     "exception": false,
     "start_time": "2022-03-16T00:59:23.804826",
     "status": "completed"
    },
    "tags": []
   },
   "outputs": [],
   "source": [
    "article_week_range = df.groupby(\"article_id\").week_no.agg([\"min\", \"max\"]).reset_index()\n",
    "article_week_range.to_csv('article_week_range.csv', index=None)"
   ]
  },
  {
   "cell_type": "markdown",
   "id": "aab6a753",
   "metadata": {
    "papermill": {
     "duration": 0.038885,
     "end_time": "2022-03-16T00:59:25.649281",
     "exception": false,
     "start_time": "2022-03-16T00:59:25.610396",
     "status": "completed"
    },
    "tags": []
   },
   "source": [
    "# features by similaripy"
   ]
  },
  {
   "cell_type": "code",
   "execution_count": 8,
   "id": "81a2d367",
   "metadata": {
    "execution": {
     "iopub.execute_input": "2022-03-16T00:59:25.726667Z",
     "iopub.status.busy": "2022-03-16T00:59:25.725968Z",
     "iopub.status.idle": "2022-03-16T00:59:25.729492Z",
     "shell.execute_reply": "2022-03-16T00:59:25.730055Z",
     "shell.execute_reply.started": "2022-03-15T10:39:54.949715Z"
    },
    "papermill": {
     "duration": 0.044049,
     "end_time": "2022-03-16T00:59:25.730257",
     "exception": false,
     "start_time": "2022-03-16T00:59:25.686208",
     "status": "completed"
    },
    "tags": []
   },
   "outputs": [],
   "source": [
    "# normalize matrix with bm25\n",
    "#coo_bm = similaripy.normalization.bm25(coo)\n",
    "\n",
    "# train the model with 50 knn per item \n",
    "#model = similaripy.cosine(coo_bm.T, k=50)\n",
    "\n",
    "# recommend 100 items to users 1, 14 and 8 filtering the items already seen by each users\n",
    "#user_recommendations = sim.dot_product(coo_bm, model.T, k=100, target_rows=[1,14,8], filter_cols=coo_bm)"
   ]
  },
  {
   "cell_type": "markdown",
   "id": "49d8c779",
   "metadata": {
    "papermill": {
     "duration": 0.03584,
     "end_time": "2022-03-16T00:59:25.803020",
     "exception": false,
     "start_time": "2022-03-16T00:59:25.767180",
     "status": "completed"
    },
    "tags": []
   },
   "source": [
    "# features by abstraction block"
   ]
  },
  {
   "cell_type": "code",
   "execution_count": 9,
   "id": "45452262",
   "metadata": {
    "execution": {
     "iopub.execute_input": "2022-03-16T00:59:25.877808Z",
     "iopub.status.busy": "2022-03-16T00:59:25.877128Z",
     "iopub.status.idle": "2022-03-16T00:59:27.453786Z",
     "shell.execute_reply": "2022-03-16T00:59:27.453098Z",
     "shell.execute_reply.started": "2022-03-15T10:39:54.9579Z"
    },
    "papermill": {
     "duration": 1.615624,
     "end_time": "2022-03-16T00:59:27.453944",
     "exception": false,
     "start_time": "2022-03-16T00:59:25.838320",
     "status": "completed"
    },
    "tags": []
   },
   "outputs": [],
   "source": [
    "df = df[df.week_no > df.week_no.max() - 50].reset_index(drop=True)"
   ]
  },
  {
   "cell_type": "code",
   "execution_count": 10,
   "id": "468a5222",
   "metadata": {
    "execution": {
     "iopub.execute_input": "2022-03-16T00:59:27.538730Z",
     "iopub.status.busy": "2022-03-16T00:59:27.537831Z",
     "iopub.status.idle": "2022-03-16T00:59:32.524278Z",
     "shell.execute_reply": "2022-03-16T00:59:32.524921Z",
     "shell.execute_reply.started": "2022-03-15T10:39:56.106311Z"
    },
    "papermill": {
     "duration": 5.03527,
     "end_time": "2022-03-16T00:59:32.525119",
     "exception": false,
     "start_time": "2022-03-16T00:59:27.489849",
     "status": "completed"
    },
    "tags": []
   },
   "outputs": [],
   "source": [
    "article_columns = [\"garment_group_no\",\n",
    "                \"product_code\", \"product_type_no\", \n",
    "                \"graphical_appearance_no\", \"colour_group_code\", \"perceived_colour_value_id\",\n",
    "                \"perceived_colour_master_id\", \"department_no\", \"index_group_no\", \n",
    "                \"section_no\"]\n",
    "\n",
    "df = pd.merge(df, article_df[[\"article_id\"] + article_columns], on='article_id', how='left')"
   ]
  },
  {
   "cell_type": "code",
   "execution_count": 11,
   "id": "35dabe24",
   "metadata": {
    "execution": {
     "iopub.execute_input": "2022-03-16T00:59:32.597009Z",
     "iopub.status.busy": "2022-03-16T00:59:32.596318Z",
     "iopub.status.idle": "2022-03-16T01:00:54.827967Z",
     "shell.execute_reply": "2022-03-16T01:00:54.826972Z",
     "shell.execute_reply.started": "2022-03-15T10:39:59.116013Z"
    },
    "papermill": {
     "duration": 82.268977,
     "end_time": "2022-03-16T01:00:54.828356",
     "exception": false,
     "start_time": "2022-03-16T00:59:32.559379",
     "status": "completed"
    },
    "tags": []
   },
   "outputs": [],
   "source": [
    "# customerごとに何か購入したweek\n",
    "customer2weeks = df.groupby('customer_id')['week_no'].unique()\n",
    "\n",
    "# customerごとに学習データの特徴量となるweekとラベルとなるweekのペアを作る。\n",
    "customer2weekpairs = {}\n",
    "\n",
    "for c_id, weeks in customer2weeks.items():\n",
    "    customer2weekpairs[c_id] = {}\n",
    "    for i in range(weeks.shape[0]-1):\n",
    "        customer2weekpairs[c_id][weeks[i]] = weeks[i+1]\n",
    "    customer2weekpairs[c_id][weeks[-1]] = test_week"
   ]
  },
  {
   "cell_type": "code",
   "execution_count": 12,
   "id": "fe296524",
   "metadata": {
    "execution": {
     "iopub.execute_input": "2022-03-16T01:00:54.911319Z",
     "iopub.status.busy": "2022-03-16T01:00:54.910180Z",
     "iopub.status.idle": "2022-03-16T01:00:54.913471Z",
     "shell.execute_reply": "2022-03-16T01:00:54.912740Z",
     "shell.execute_reply.started": "2022-03-15T10:40:57.802516Z"
    },
    "papermill": {
     "duration": 0.047425,
     "end_time": "2022-03-16T01:00:54.913630",
     "exception": false,
     "start_time": "2022-03-16T01:00:54.866205",
     "status": "completed"
    },
    "tags": []
   },
   "outputs": [],
   "source": [
    "def join(df):\n",
    "    x = [str(e) for e in list(df)]\n",
    "    return \" \".join(x)\n",
    "\n",
    "def label_prev_week(input_df):\n",
    "    weeks = []\n",
    "    for i, (c_id, week) in enumerate(zip(input_df['customer_id'], input_df['week_no'])):\n",
    "        weeks.append(customer2weekpairs[c_id][week])\n",
    "    input_df.week_no=weeks\n",
    "    return input_df"
   ]
  },
  {
   "cell_type": "code",
   "execution_count": 13,
   "id": "f60731b9",
   "metadata": {
    "execution": {
     "iopub.execute_input": "2022-03-16T01:00:54.993954Z",
     "iopub.status.busy": "2022-03-16T01:00:54.992721Z",
     "iopub.status.idle": "2022-03-16T01:00:55.007150Z",
     "shell.execute_reply": "2022-03-16T01:00:55.007735Z",
     "shell.execute_reply.started": "2022-03-15T10:40:57.810747Z"
    },
    "papermill": {
     "duration": 0.058975,
     "end_time": "2022-03-16T01:00:55.007935",
     "exception": false,
     "start_time": "2022-03-16T01:00:54.948960",
     "status": "completed"
    },
    "tags": []
   },
   "outputs": [],
   "source": [
    "class AbstractBaseBlock:\n",
    "    def fit(self, input_df, y=None):\n",
    "        return self.transform(input_df)\n",
    "\n",
    "    def transform(self, input_df):\n",
    "        raise NotImplementedError()\n",
    "        \n",
    "class UserHistoryEveryBlock(AbstractBaseBlock):\n",
    "    \"\"\"ユーザーの数値履歴を週間で集計した特徴量を付与する block 累積ではない\"\"\"\n",
    "    def __init__(self, item):\n",
    "        self.item = item\n",
    "\n",
    "    def fit(self, input_df, y=None):\n",
    "        out = input_df \\\n",
    "        .groupby(['customer_id', 'week_no'])[self.item].agg([\"sum\", \"std\", \"max\", \"min\"]).add_prefix(\"u_prev_\"+self.item+\"_\").reset_index()\n",
    "        out = label_prev_week(out)\n",
    "        return self.transform(out)\n",
    "\n",
    "    def transform(self, input_df):\n",
    "        return input_df\n",
    "    \n",
    "class UserHistoryVectorEveryBlock(AbstractBaseBlock):\n",
    "    \"\"\"ユーザーの文字履歴を週間で集計しベクトル化した特徴量を付与する block 累積ではない\"\"\"\n",
    "    def __init__(self, item, n_components = 5):\n",
    "        self.item = item\n",
    "        self.n_components = n_components\n",
    "        \n",
    "    def fit(self, input_df, y=None):\n",
    "        docs = input_df.groupby([\"customer_id\", \"week_no\"])[self.item].apply(join)\n",
    "        max_features = int(input_df[self.item].nunique() * 0.8)\n",
    "        tv = TfidfVectorizer(max_features=max_features)\n",
    "        X = tv.fit_transform(docs)\n",
    "        \n",
    "        svd = TruncatedSVD(n_components=self.n_components, random_state=0)\n",
    "        X = svd.fit_transform(X)\n",
    "        result = pd.DataFrame(X, columns=[f\"u_{self.item}_{i}\" for i in range(self.n_components)])\n",
    "        result.index = docs.index\n",
    "        result = result.reset_index()\n",
    "        result = label_prev_week(result)\n",
    "        return self.transform(result)\n",
    "  \n",
    "    def transform(self, input_df):\n",
    "        return input_df  \n",
    "\n",
    "class ItemHistoryEveryBlock(AbstractBaseBlock):\n",
    "    \"\"\"アイテムの数値履歴を週間で集計した特徴量を付与する block 累積ではない\"\"\"\n",
    "    def __init__(self, item):\n",
    "        self.item = item\n",
    "\n",
    "    def fit(self, input_df, y=None):\n",
    "        out = input_df \\\n",
    "        .groupby(['week_no'])[self.item].value_counts()\n",
    "        out = out.to_frame(\"sale_count\").reset_index()\n",
    "        return self.transform(out)\n",
    "\n",
    "    def transform(self, input_df):\n",
    "        return input_df\n",
    "    \n",
    "class ItemHistorySumBlock(AbstractBaseBlock):\n",
    "    \"\"\"アイテムの数値履歴を週間で集計した特徴量を付与する block 累積ではない\"\"\"\n",
    "    def __init__(self, item):\n",
    "        self.item = item\n",
    "\n",
    "    def fit(self, input_df, y=None):\n",
    "        out = input_df \\\n",
    "        .groupby(['week_no', self.item])['price'].agg([\"sum\"]).add_prefix(\"sale_\").reset_index()\n",
    "        return self.transform(out)\n",
    "\n",
    "    def transform(self, input_df):\n",
    "        return input_df"
   ]
  },
  {
   "cell_type": "code",
   "execution_count": 14,
   "id": "70d58c3a",
   "metadata": {
    "execution": {
     "iopub.execute_input": "2022-03-16T01:00:55.316658Z",
     "iopub.status.busy": "2022-03-16T01:00:55.315061Z",
     "iopub.status.idle": "2022-03-16T01:08:29.566712Z",
     "shell.execute_reply": "2022-03-16T01:08:29.565577Z",
     "shell.execute_reply.started": "2022-03-15T10:41:21.294815Z"
    },
    "papermill": {
     "duration": 454.524866,
     "end_time": "2022-03-16T01:08:29.567019",
     "exception": false,
     "start_time": "2022-03-16T01:00:55.042153",
     "status": "completed"
    },
    "tags": []
   },
   "outputs": [],
   "source": [
    "# user_features\n",
    "feature_blocks = [\n",
    "#    UserHistoryEveryBlock(\"price\"),\n",
    "    UserHistoryVectorEveryBlock(\"section_no\"),\n",
    "    UserHistoryVectorEveryBlock(\"garment_group_no\"),\n",
    "]\n",
    "\n",
    "for i, block in enumerate(feature_blocks):\n",
    "    if i == 0:\n",
    "        user_features_df = block.fit(df)\n",
    "    else:\n",
    "        out_i = block.fit(df)\n",
    "        user_features_df = pd.merge(user_features_df, out_i, on = [\"customer_id\", \"week_no\"], how=\"left\")\n",
    "        \n",
    "user_features_df.to_csv(\"user_features.csv\", index=False)\n",
    "del user_features_df"
   ]
  },
  {
   "cell_type": "code",
   "execution_count": 15,
   "id": "8be0335b",
   "metadata": {
    "execution": {
     "iopub.execute_input": "2022-03-16T01:08:29.640423Z",
     "iopub.status.busy": "2022-03-16T01:08:29.639350Z",
     "iopub.status.idle": "2022-03-16T01:08:41.414758Z",
     "shell.execute_reply": "2022-03-16T01:08:41.414147Z",
     "shell.execute_reply.started": "2022-03-15T10:48:28.618852Z"
    },
    "papermill": {
     "duration": 11.812209,
     "end_time": "2022-03-16T01:08:41.414924",
     "exception": false,
     "start_time": "2022-03-16T01:08:29.602715",
     "status": "completed"
    },
    "tags": []
   },
   "outputs": [],
   "source": [
    "# item_features\n",
    "article_count = ItemHistoryEveryBlock(\"article_id\").fit(df)\n",
    "article_count.to_csv(\"article_count.csv\", index=False)\n",
    "\n",
    "article_sale = ItemHistorySumBlock(\"article_id\").fit(df)\n",
    "article_sale.to_csv(\"article_sale.csv\", index=False)"
   ]
  },
  {
   "cell_type": "code",
   "execution_count": null,
   "id": "d2bde7bb",
   "metadata": {
    "papermill": {
     "duration": 0.034236,
     "end_time": "2022-03-16T01:08:41.485591",
     "exception": false,
     "start_time": "2022-03-16T01:08:41.451355",
     "status": "completed"
    },
    "tags": []
   },
   "outputs": [],
   "source": []
  }
 ],
 "metadata": {
  "kernelspec": {
   "display_name": "Python 3",
   "language": "python",
   "name": "python3"
  },
  "language_info": {
   "codemirror_mode": {
    "name": "ipython",
    "version": 3
   },
   "file_extension": ".py",
   "mimetype": "text/x-python",
   "name": "python",
   "nbconvert_exporter": "python",
   "pygments_lexer": "ipython3",
   "version": "3.7.12"
  },
  "papermill": {
   "default_parameters": {},
   "duration": 1005.919026,
   "end_time": "2022-03-16T01:08:43.945339",
   "environment_variables": {},
   "exception": null,
   "input_path": "__notebook__.ipynb",
   "output_path": "__notebook__.ipynb",
   "parameters": {},
   "start_time": "2022-03-16T00:51:58.026313",
   "version": "2.3.3"
  },
  "widgets": {
   "application/vnd.jupyter.widget-state+json": {
    "state": {
     "0589f23916be492892d1b2c370461eb8": {
      "model_module": "@jupyter-widgets/controls",
      "model_module_version": "1.5.0",
      "model_name": "FloatProgressModel",
      "state": {
       "_dom_classes": [],
       "_model_module": "@jupyter-widgets/controls",
       "_model_module_version": "1.5.0",
       "_model_name": "FloatProgressModel",
       "_view_count": null,
       "_view_module": "@jupyter-widgets/controls",
       "_view_module_version": "1.5.0",
       "_view_name": "ProgressView",
       "bar_style": "success",
       "description": "",
       "description_tooltip": null,
       "layout": "IPY_MODEL_1f4663622cb54ebe975dae54b7801da6",
       "max": 5.0,
       "min": 0.0,
       "orientation": "horizontal",
       "style": "IPY_MODEL_eba253d17588439ea586dfbf6902c98b",
       "value": 5.0
      }
     },
     "06ff10b3803d4eb28871496bfd15382b": {
      "model_module": "@jupyter-widgets/base",
      "model_module_version": "1.2.0",
      "model_name": "LayoutModel",
      "state": {
       "_model_module": "@jupyter-widgets/base",
       "_model_module_version": "1.2.0",
       "_model_name": "LayoutModel",
       "_view_count": null,
       "_view_module": "@jupyter-widgets/base",
       "_view_module_version": "1.2.0",
       "_view_name": "LayoutView",
       "align_content": null,
       "align_items": null,
       "align_self": null,
       "border": null,
       "bottom": null,
       "display": null,
       "flex": null,
       "flex_flow": null,
       "grid_area": null,
       "grid_auto_columns": null,
       "grid_auto_flow": null,
       "grid_auto_rows": null,
       "grid_column": null,
       "grid_gap": null,
       "grid_row": null,
       "grid_template_areas": null,
       "grid_template_columns": null,
       "grid_template_rows": null,
       "height": null,
       "justify_content": null,
       "justify_items": null,
       "left": null,
       "margin": null,
       "max_height": null,
       "max_width": null,
       "min_height": null,
       "min_width": null,
       "object_fit": null,
       "object_position": null,
       "order": null,
       "overflow": null,
       "overflow_x": null,
       "overflow_y": null,
       "padding": null,
       "right": null,
       "top": null,
       "visibility": null,
       "width": null
      }
     },
     "0b52c18d887e4dba868dfcdd378b3609": {
      "model_module": "@jupyter-widgets/controls",
      "model_module_version": "1.5.0",
      "model_name": "HBoxModel",
      "state": {
       "_dom_classes": [],
       "_model_module": "@jupyter-widgets/controls",
       "_model_module_version": "1.5.0",
       "_model_name": "HBoxModel",
       "_view_count": null,
       "_view_module": "@jupyter-widgets/controls",
       "_view_module_version": "1.5.0",
       "_view_name": "HBoxView",
       "box_style": "",
       "children": [
        "IPY_MODEL_e9b16311b5c341c5bd9872572169c114",
        "IPY_MODEL_0589f23916be492892d1b2c370461eb8",
        "IPY_MODEL_44fdc0c7c0f144b68436b115339bce2c"
       ],
       "layout": "IPY_MODEL_c6bef4c237cc49d5b7aaab9320c5551c"
      }
     },
     "1f4663622cb54ebe975dae54b7801da6": {
      "model_module": "@jupyter-widgets/base",
      "model_module_version": "1.2.0",
      "model_name": "LayoutModel",
      "state": {
       "_model_module": "@jupyter-widgets/base",
       "_model_module_version": "1.2.0",
       "_model_name": "LayoutModel",
       "_view_count": null,
       "_view_module": "@jupyter-widgets/base",
       "_view_module_version": "1.2.0",
       "_view_name": "LayoutView",
       "align_content": null,
       "align_items": null,
       "align_self": null,
       "border": null,
       "bottom": null,
       "display": null,
       "flex": null,
       "flex_flow": null,
       "grid_area": null,
       "grid_auto_columns": null,
       "grid_auto_flow": null,
       "grid_auto_rows": null,
       "grid_column": null,
       "grid_gap": null,
       "grid_row": null,
       "grid_template_areas": null,
       "grid_template_columns": null,
       "grid_template_rows": null,
       "height": null,
       "justify_content": null,
       "justify_items": null,
       "left": null,
       "margin": null,
       "max_height": null,
       "max_width": null,
       "min_height": null,
       "min_width": null,
       "object_fit": null,
       "object_position": null,
       "order": null,
       "overflow": null,
       "overflow_x": null,
       "overflow_y": null,
       "padding": null,
       "right": null,
       "top": null,
       "visibility": null,
       "width": null
      }
     },
     "2cb15af9cbdb46f99cb91ba09fae3c69": {
      "model_module": "@jupyter-widgets/controls",
      "model_module_version": "1.5.0",
      "model_name": "DescriptionStyleModel",
      "state": {
       "_model_module": "@jupyter-widgets/controls",
       "_model_module_version": "1.5.0",
       "_model_name": "DescriptionStyleModel",
       "_view_count": null,
       "_view_module": "@jupyter-widgets/base",
       "_view_module_version": "1.2.0",
       "_view_name": "StyleView",
       "description_width": ""
      }
     },
     "3ed0110107004334a896b6b503ed34d3": {
      "model_module": "@jupyter-widgets/controls",
      "model_module_version": "1.5.0",
      "model_name": "HTMLModel",
      "state": {
       "_dom_classes": [],
       "_model_module": "@jupyter-widgets/controls",
       "_model_module_version": "1.5.0",
       "_model_name": "HTMLModel",
       "_view_count": null,
       "_view_module": "@jupyter-widgets/controls",
       "_view_module_version": "1.5.0",
       "_view_name": "HTMLView",
       "description": "",
       "description_tooltip": null,
       "layout": "IPY_MODEL_06ff10b3803d4eb28871496bfd15382b",
       "placeholder": "​",
       "style": "IPY_MODEL_d426211b5ca341b4805f9cef78eedc27",
       "value": "100%"
      }
     },
     "44fdc0c7c0f144b68436b115339bce2c": {
      "model_module": "@jupyter-widgets/controls",
      "model_module_version": "1.5.0",
      "model_name": "HTMLModel",
      "state": {
       "_dom_classes": [],
       "_model_module": "@jupyter-widgets/controls",
       "_model_module_version": "1.5.0",
       "_model_name": "HTMLModel",
       "_view_count": null,
       "_view_module": "@jupyter-widgets/controls",
       "_view_module_version": "1.5.0",
       "_view_name": "HTMLView",
       "description": "",
       "description_tooltip": null,
       "layout": "IPY_MODEL_d7826e6e62c440ac921091904813c0ab",
       "placeholder": "​",
       "style": "IPY_MODEL_7c472be4993e41be804ebd39a7f810a3",
       "value": " 5/5 [01:44&lt;00:00, 20.73s/it]"
      }
     },
     "5046ecaf175f4dc5a13346083be0d6f2": {
      "model_module": "@jupyter-widgets/controls",
      "model_module_version": "1.5.0",
      "model_name": "FloatProgressModel",
      "state": {
       "_dom_classes": [],
       "_model_module": "@jupyter-widgets/controls",
       "_model_module_version": "1.5.0",
       "_model_name": "FloatProgressModel",
       "_view_count": null,
       "_view_module": "@jupyter-widgets/controls",
       "_view_module_version": "1.5.0",
       "_view_name": "ProgressView",
       "bar_style": "success",
       "description": "",
       "description_tooltip": null,
       "layout": "IPY_MODEL_5de9f3fe7e2a42eebcb45262a5cf4592",
       "max": 5.0,
       "min": 0.0,
       "orientation": "horizontal",
       "style": "IPY_MODEL_7d8669f2300348fcafbd49c64f59ad35",
       "value": 5.0
      }
     },
     "5d63c6f3275c493da8896fb37a1ce126": {
      "model_module": "@jupyter-widgets/controls",
      "model_module_version": "1.5.0",
      "model_name": "DescriptionStyleModel",
      "state": {
       "_model_module": "@jupyter-widgets/controls",
       "_model_module_version": "1.5.0",
       "_model_name": "DescriptionStyleModel",
       "_view_count": null,
       "_view_module": "@jupyter-widgets/base",
       "_view_module_version": "1.2.0",
       "_view_name": "StyleView",
       "description_width": ""
      }
     },
     "5de9f3fe7e2a42eebcb45262a5cf4592": {
      "model_module": "@jupyter-widgets/base",
      "model_module_version": "1.2.0",
      "model_name": "LayoutModel",
      "state": {
       "_model_module": "@jupyter-widgets/base",
       "_model_module_version": "1.2.0",
       "_model_name": "LayoutModel",
       "_view_count": null,
       "_view_module": "@jupyter-widgets/base",
       "_view_module_version": "1.2.0",
       "_view_name": "LayoutView",
       "align_content": null,
       "align_items": null,
       "align_self": null,
       "border": null,
       "bottom": null,
       "display": null,
       "flex": null,
       "flex_flow": null,
       "grid_area": null,
       "grid_auto_columns": null,
       "grid_auto_flow": null,
       "grid_auto_rows": null,
       "grid_column": null,
       "grid_gap": null,
       "grid_row": null,
       "grid_template_areas": null,
       "grid_template_columns": null,
       "grid_template_rows": null,
       "height": null,
       "justify_content": null,
       "justify_items": null,
       "left": null,
       "margin": null,
       "max_height": null,
       "max_width": null,
       "min_height": null,
       "min_width": null,
       "object_fit": null,
       "object_position": null,
       "order": null,
       "overflow": null,
       "overflow_x": null,
       "overflow_y": null,
       "padding": null,
       "right": null,
       "top": null,
       "visibility": null,
       "width": null
      }
     },
     "65537612be374404b960dc9a562d38ec": {
      "model_module": "@jupyter-widgets/base",
      "model_module_version": "1.2.0",
      "model_name": "LayoutModel",
      "state": {
       "_model_module": "@jupyter-widgets/base",
       "_model_module_version": "1.2.0",
       "_model_name": "LayoutModel",
       "_view_count": null,
       "_view_module": "@jupyter-widgets/base",
       "_view_module_version": "1.2.0",
       "_view_name": "LayoutView",
       "align_content": null,
       "align_items": null,
       "align_self": null,
       "border": null,
       "bottom": null,
       "display": null,
       "flex": null,
       "flex_flow": null,
       "grid_area": null,
       "grid_auto_columns": null,
       "grid_auto_flow": null,
       "grid_auto_rows": null,
       "grid_column": null,
       "grid_gap": null,
       "grid_row": null,
       "grid_template_areas": null,
       "grid_template_columns": null,
       "grid_template_rows": null,
       "height": null,
       "justify_content": null,
       "justify_items": null,
       "left": null,
       "margin": null,
       "max_height": null,
       "max_width": null,
       "min_height": null,
       "min_width": null,
       "object_fit": null,
       "object_position": null,
       "order": null,
       "overflow": null,
       "overflow_x": null,
       "overflow_y": null,
       "padding": null,
       "right": null,
       "top": null,
       "visibility": null,
       "width": null
      }
     },
     "72b9a34845404785831081e38a09b590": {
      "model_module": "@jupyter-widgets/base",
      "model_module_version": "1.2.0",
      "model_name": "LayoutModel",
      "state": {
       "_model_module": "@jupyter-widgets/base",
       "_model_module_version": "1.2.0",
       "_model_name": "LayoutModel",
       "_view_count": null,
       "_view_module": "@jupyter-widgets/base",
       "_view_module_version": "1.2.0",
       "_view_name": "LayoutView",
       "align_content": null,
       "align_items": null,
       "align_self": null,
       "border": null,
       "bottom": null,
       "display": null,
       "flex": null,
       "flex_flow": null,
       "grid_area": null,
       "grid_auto_columns": null,
       "grid_auto_flow": null,
       "grid_auto_rows": null,
       "grid_column": null,
       "grid_gap": null,
       "grid_row": null,
       "grid_template_areas": null,
       "grid_template_columns": null,
       "grid_template_rows": null,
       "height": null,
       "justify_content": null,
       "justify_items": null,
       "left": null,
       "margin": null,
       "max_height": null,
       "max_width": null,
       "min_height": null,
       "min_width": null,
       "object_fit": null,
       "object_position": null,
       "order": null,
       "overflow": null,
       "overflow_x": null,
       "overflow_y": null,
       "padding": null,
       "right": null,
       "top": null,
       "visibility": null,
       "width": null
      }
     },
     "7c472be4993e41be804ebd39a7f810a3": {
      "model_module": "@jupyter-widgets/controls",
      "model_module_version": "1.5.0",
      "model_name": "DescriptionStyleModel",
      "state": {
       "_model_module": "@jupyter-widgets/controls",
       "_model_module_version": "1.5.0",
       "_model_name": "DescriptionStyleModel",
       "_view_count": null,
       "_view_module": "@jupyter-widgets/base",
       "_view_module_version": "1.2.0",
       "_view_name": "StyleView",
       "description_width": ""
      }
     },
     "7d8669f2300348fcafbd49c64f59ad35": {
      "model_module": "@jupyter-widgets/controls",
      "model_module_version": "1.5.0",
      "model_name": "ProgressStyleModel",
      "state": {
       "_model_module": "@jupyter-widgets/controls",
       "_model_module_version": "1.5.0",
       "_model_name": "ProgressStyleModel",
       "_view_count": null,
       "_view_module": "@jupyter-widgets/base",
       "_view_module_version": "1.2.0",
       "_view_name": "StyleView",
       "bar_color": null,
       "description_width": ""
      }
     },
     "ae75d343867e4dc8bc418d7e0acb7166": {
      "model_module": "@jupyter-widgets/base",
      "model_module_version": "1.2.0",
      "model_name": "LayoutModel",
      "state": {
       "_model_module": "@jupyter-widgets/base",
       "_model_module_version": "1.2.0",
       "_model_name": "LayoutModel",
       "_view_count": null,
       "_view_module": "@jupyter-widgets/base",
       "_view_module_version": "1.2.0",
       "_view_name": "LayoutView",
       "align_content": null,
       "align_items": null,
       "align_self": null,
       "border": null,
       "bottom": null,
       "display": null,
       "flex": null,
       "flex_flow": null,
       "grid_area": null,
       "grid_auto_columns": null,
       "grid_auto_flow": null,
       "grid_auto_rows": null,
       "grid_column": null,
       "grid_gap": null,
       "grid_row": null,
       "grid_template_areas": null,
       "grid_template_columns": null,
       "grid_template_rows": null,
       "height": null,
       "justify_content": null,
       "justify_items": null,
       "left": null,
       "margin": null,
       "max_height": null,
       "max_width": null,
       "min_height": null,
       "min_width": null,
       "object_fit": null,
       "object_position": null,
       "order": null,
       "overflow": null,
       "overflow_x": null,
       "overflow_y": null,
       "padding": null,
       "right": null,
       "top": null,
       "visibility": null,
       "width": null
      }
     },
     "bdb3be3ceb424385b27c2b71abd72916": {
      "model_module": "@jupyter-widgets/controls",
      "model_module_version": "1.5.0",
      "model_name": "HBoxModel",
      "state": {
       "_dom_classes": [],
       "_model_module": "@jupyter-widgets/controls",
       "_model_module_version": "1.5.0",
       "_model_name": "HBoxModel",
       "_view_count": null,
       "_view_module": "@jupyter-widgets/controls",
       "_view_module_version": "1.5.0",
       "_view_name": "HBoxView",
       "box_style": "",
       "children": [
        "IPY_MODEL_3ed0110107004334a896b6b503ed34d3",
        "IPY_MODEL_5046ecaf175f4dc5a13346083be0d6f2",
        "IPY_MODEL_e2675de0bcfa46e98301eb9f2a4e246a"
       ],
       "layout": "IPY_MODEL_72b9a34845404785831081e38a09b590"
      }
     },
     "c6bef4c237cc49d5b7aaab9320c5551c": {
      "model_module": "@jupyter-widgets/base",
      "model_module_version": "1.2.0",
      "model_name": "LayoutModel",
      "state": {
       "_model_module": "@jupyter-widgets/base",
       "_model_module_version": "1.2.0",
       "_model_name": "LayoutModel",
       "_view_count": null,
       "_view_module": "@jupyter-widgets/base",
       "_view_module_version": "1.2.0",
       "_view_name": "LayoutView",
       "align_content": null,
       "align_items": null,
       "align_self": null,
       "border": null,
       "bottom": null,
       "display": null,
       "flex": null,
       "flex_flow": null,
       "grid_area": null,
       "grid_auto_columns": null,
       "grid_auto_flow": null,
       "grid_auto_rows": null,
       "grid_column": null,
       "grid_gap": null,
       "grid_row": null,
       "grid_template_areas": null,
       "grid_template_columns": null,
       "grid_template_rows": null,
       "height": null,
       "justify_content": null,
       "justify_items": null,
       "left": null,
       "margin": null,
       "max_height": null,
       "max_width": null,
       "min_height": null,
       "min_width": null,
       "object_fit": null,
       "object_position": null,
       "order": null,
       "overflow": null,
       "overflow_x": null,
       "overflow_y": null,
       "padding": null,
       "right": null,
       "top": null,
       "visibility": null,
       "width": null
      }
     },
     "d426211b5ca341b4805f9cef78eedc27": {
      "model_module": "@jupyter-widgets/controls",
      "model_module_version": "1.5.0",
      "model_name": "DescriptionStyleModel",
      "state": {
       "_model_module": "@jupyter-widgets/controls",
       "_model_module_version": "1.5.0",
       "_model_name": "DescriptionStyleModel",
       "_view_count": null,
       "_view_module": "@jupyter-widgets/base",
       "_view_module_version": "1.2.0",
       "_view_name": "StyleView",
       "description_width": ""
      }
     },
     "d7826e6e62c440ac921091904813c0ab": {
      "model_module": "@jupyter-widgets/base",
      "model_module_version": "1.2.0",
      "model_name": "LayoutModel",
      "state": {
       "_model_module": "@jupyter-widgets/base",
       "_model_module_version": "1.2.0",
       "_model_name": "LayoutModel",
       "_view_count": null,
       "_view_module": "@jupyter-widgets/base",
       "_view_module_version": "1.2.0",
       "_view_name": "LayoutView",
       "align_content": null,
       "align_items": null,
       "align_self": null,
       "border": null,
       "bottom": null,
       "display": null,
       "flex": null,
       "flex_flow": null,
       "grid_area": null,
       "grid_auto_columns": null,
       "grid_auto_flow": null,
       "grid_auto_rows": null,
       "grid_column": null,
       "grid_gap": null,
       "grid_row": null,
       "grid_template_areas": null,
       "grid_template_columns": null,
       "grid_template_rows": null,
       "height": null,
       "justify_content": null,
       "justify_items": null,
       "left": null,
       "margin": null,
       "max_height": null,
       "max_width": null,
       "min_height": null,
       "min_width": null,
       "object_fit": null,
       "object_position": null,
       "order": null,
       "overflow": null,
       "overflow_x": null,
       "overflow_y": null,
       "padding": null,
       "right": null,
       "top": null,
       "visibility": null,
       "width": null
      }
     },
     "e2675de0bcfa46e98301eb9f2a4e246a": {
      "model_module": "@jupyter-widgets/controls",
      "model_module_version": "1.5.0",
      "model_name": "HTMLModel",
      "state": {
       "_dom_classes": [],
       "_model_module": "@jupyter-widgets/controls",
       "_model_module_version": "1.5.0",
       "_model_name": "HTMLModel",
       "_view_count": null,
       "_view_module": "@jupyter-widgets/controls",
       "_view_module_version": "1.5.0",
       "_view_name": "HTMLView",
       "description": "",
       "description_tooltip": null,
       "layout": "IPY_MODEL_ae75d343867e4dc8bc418d7e0acb7166",
       "placeholder": "​",
       "style": "IPY_MODEL_5d63c6f3275c493da8896fb37a1ce126",
       "value": " 5/5 [01:45&lt;00:00, 21.00s/it]"
      }
     },
     "e9b16311b5c341c5bd9872572169c114": {
      "model_module": "@jupyter-widgets/controls",
      "model_module_version": "1.5.0",
      "model_name": "HTMLModel",
      "state": {
       "_dom_classes": [],
       "_model_module": "@jupyter-widgets/controls",
       "_model_module_version": "1.5.0",
       "_model_name": "HTMLModel",
       "_view_count": null,
       "_view_module": "@jupyter-widgets/controls",
       "_view_module_version": "1.5.0",
       "_view_name": "HTMLView",
       "description": "",
       "description_tooltip": null,
       "layout": "IPY_MODEL_65537612be374404b960dc9a562d38ec",
       "placeholder": "​",
       "style": "IPY_MODEL_2cb15af9cbdb46f99cb91ba09fae3c69",
       "value": "100%"
      }
     },
     "eba253d17588439ea586dfbf6902c98b": {
      "model_module": "@jupyter-widgets/controls",
      "model_module_version": "1.5.0",
      "model_name": "ProgressStyleModel",
      "state": {
       "_model_module": "@jupyter-widgets/controls",
       "_model_module_version": "1.5.0",
       "_model_name": "ProgressStyleModel",
       "_view_count": null,
       "_view_module": "@jupyter-widgets/base",
       "_view_module_version": "1.2.0",
       "_view_name": "StyleView",
       "bar_color": null,
       "description_width": ""
      }
     }
    },
    "version_major": 2,
    "version_minor": 0
   }
  }
 },
 "nbformat": 4,
 "nbformat_minor": 5
}
