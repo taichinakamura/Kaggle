{
 "cells": [
  {
   "cell_type": "markdown",
   "id": "9841660f",
   "metadata": {
    "execution": {
     "iopub.execute_input": "2022-03-07T23:26:29.454418Z",
     "iopub.status.busy": "2022-03-07T23:26:29.454082Z",
     "iopub.status.idle": "2022-03-07T23:27:40.64148Z",
     "shell.execute_reply": "2022-03-07T23:27:40.640021Z",
     "shell.execute_reply.started": "2022-03-07T23:26:29.454386Z"
    },
    "papermill": {
     "duration": 0.026416,
     "end_time": "2022-03-09T02:33:27.713417",
     "exception": false,
     "start_time": "2022-03-09T02:33:27.687001",
     "status": "completed"
    },
    "tags": []
   },
   "source": [
    "- consider only item features\n",
    "- add predictions for cold users"
   ]
  },
  {
   "cell_type": "code",
   "execution_count": 1,
   "id": "a736326b",
   "metadata": {
    "execution": {
     "iopub.execute_input": "2022-03-09T02:33:27.771051Z",
     "iopub.status.busy": "2022-03-09T02:33:27.770124Z",
     "iopub.status.idle": "2022-03-09T02:34:28.585222Z",
     "shell.execute_reply": "2022-03-09T02:34:28.584234Z",
     "shell.execute_reply.started": "2022-03-09T02:01:51.009516Z"
    },
    "papermill": {
     "duration": 60.847668,
     "end_time": "2022-03-09T02:34:28.585418",
     "exception": false,
     "start_time": "2022-03-09T02:33:27.737750",
     "status": "completed"
    },
    "tags": []
   },
   "outputs": [
    {
     "name": "stdout",
     "output_type": "stream",
     "text": [
      "Collecting similaripy\r\n",
      "  Downloading similaripy-0.1.2.tar.gz (331 kB)\r\n",
      "     |████████████████████████████████| 331 kB 893 kB/s            \r\n",
      "\u001b[?25h  Preparing metadata (setup.py) ... \u001b[?25l-\b \b\\\b \bdone\r\n",
      "\u001b[?25hRequirement already satisfied: scipy>=1.0.0 in /opt/conda/lib/python3.7/site-packages (from similaripy) (1.7.3)\r\n",
      "Requirement already satisfied: numpy>=1.14.0 in /opt/conda/lib/python3.7/site-packages (from similaripy) (1.20.3)\r\n",
      "Requirement already satisfied: tqdm>=4.19.6 in /opt/conda/lib/python3.7/site-packages (from similaripy) (4.62.3)\r\n",
      "Building wheels for collected packages: similaripy\r\n",
      "  Building wheel for similaripy (setup.py) ... \u001b[?25l-\b \b\\\b \b|\b \b/\b \b-\b \b\\\b \b|\b \b/\b \b-\b \bdone\r\n",
      "\u001b[?25h  Created wheel for similaripy: filename=similaripy-0.1.2-cp37-cp37m-linux_x86_64.whl size=2040874 sha256=14e18fffa66e15f220232632874035b24cec4a28f5cc3cae9ad1a144b7bcbff8\r\n",
      "  Stored in directory: /root/.cache/pip/wheels/2e/81/4b/7a396ebc45534553ddee1eb106d99023df4d9d09b53b13cc66\r\n",
      "Successfully built similaripy\r\n",
      "Installing collected packages: similaripy\r\n",
      "Successfully installed similaripy-0.1.2\r\n",
      "\u001b[33mWARNING: Running pip as the 'root' user can result in broken permissions and conflicting behaviour with the system package manager. It is recommended to use a virtual environment instead: https://pip.pypa.io/warnings/venv\u001b[0m\r\n"
     ]
    }
   ],
   "source": [
    "!pip install similaripy"
   ]
  },
  {
   "cell_type": "code",
   "execution_count": 2,
   "id": "a298bb2f",
   "metadata": {
    "execution": {
     "iopub.execute_input": "2022-03-09T02:34:28.658647Z",
     "iopub.status.busy": "2022-03-09T02:34:28.657958Z",
     "iopub.status.idle": "2022-03-09T02:34:29.941581Z",
     "shell.execute_reply": "2022-03-09T02:34:29.940942Z",
     "shell.execute_reply.started": "2022-03-09T02:02:47.796604Z"
    },
    "papermill": {
     "duration": 1.323547,
     "end_time": "2022-03-09T02:34:29.941733",
     "exception": false,
     "start_time": "2022-03-09T02:34:28.618186",
     "status": "completed"
    },
    "tags": []
   },
   "outputs": [],
   "source": [
    "import numpy as np\n",
    "import pandas as pd\n",
    "from tqdm import tqdm\n",
    "from sklearn import preprocessing\n",
    "from scipy.sparse import coo_matrix\n",
    "from sklearn.decomposition import TruncatedSVD\n",
    "from sklearn.feature_extraction.text import TfidfVectorizer\n",
    "from sklearn.decomposition import LatentDirichletAllocation\n",
    "import implicit\n",
    "import similaripy\n",
    "\n",
    "import warnings\n",
    "warnings.filterwarnings('ignore')\n",
    "\n",
    "tqdm.pandas()"
   ]
  },
  {
   "cell_type": "code",
   "execution_count": 3,
   "id": "e32d84c8",
   "metadata": {
    "execution": {
     "iopub.execute_input": "2022-03-09T02:34:30.011896Z",
     "iopub.status.busy": "2022-03-09T02:34:30.011159Z",
     "iopub.status.idle": "2022-03-09T02:35:51.924543Z",
     "shell.execute_reply": "2022-03-09T02:35:51.925708Z",
     "shell.execute_reply.started": "2022-03-09T02:02:49.244440Z"
    },
    "papermill": {
     "duration": 81.952389,
     "end_time": "2022-03-09T02:35:51.926726",
     "exception": false,
     "start_time": "2022-03-09T02:34:29.974337",
     "status": "completed"
    },
    "tags": []
   },
   "outputs": [],
   "source": [
    "DATA_DIR = \"/kaggle/input/h-and-m-personalized-fashion-recommendations/\"\n",
    "df = pd.read_csv(DATA_DIR + \"transactions_train.csv\")\n",
    "article_df = pd.read_csv(DATA_DIR + \"articles.csv\")\n",
    "customer_df = pd.read_csv(DATA_DIR + \"customers.csv\")"
   ]
  },
  {
   "cell_type": "code",
   "execution_count": 4,
   "id": "24136d64",
   "metadata": {
    "execution": {
     "iopub.execute_input": "2022-03-09T02:35:52.027471Z",
     "iopub.status.busy": "2022-03-09T02:35:52.026669Z",
     "iopub.status.idle": "2022-03-09T02:36:27.518981Z",
     "shell.execute_reply": "2022-03-09T02:36:27.518229Z",
     "shell.execute_reply.started": "2022-03-09T02:04:07.603917Z"
    },
    "papermill": {
     "duration": 35.54429,
     "end_time": "2022-03-09T02:36:27.519150",
     "exception": false,
     "start_time": "2022-03-09T02:35:51.974860",
     "status": "completed"
    },
    "tags": []
   },
   "outputs": [],
   "source": [
    "df[\"t_dat\"] = pd.to_datetime(df[\"t_dat\"])\n",
    "\n",
    "date_week_df = df.drop_duplicates(\"t_dat\")[[\"t_dat\"]].reset_index(drop=True)\n",
    "date_week_df['week_no'] = (date_week_df['t_dat'] + pd.DateOffset(days=5)).dt.week\n",
    "date_week_df[\"week_no\"] = date_week_df[\"week_no\"].diff(1)\n",
    "date_week_df[\"week_no\"].fillna(0, inplace=True)\n",
    "date_week_df[\"week_no\"] = date_week_df[\"week_no\"] != 0\n",
    "date_week_df[\"week_no\"] = date_week_df[\"week_no\"].cumsum()\n",
    "\n",
    "df = pd.merge(df, date_week_df, on=\"t_dat\", how=\"left\")\n",
    "\n",
    "df.sort_values(['t_dat', 'customer_id'], inplace=True)\n",
    "\n",
    "test_week = df.week_no.max()\n",
    "last_ts = df['t_dat'].max()\n",
    "\n",
    "df = df[df.week_no > df.week_no.max() - 50].reset_index(drop=True)"
   ]
  },
  {
   "cell_type": "markdown",
   "id": "93f61f67",
   "metadata": {
    "papermill": {
     "duration": 0.032052,
     "end_time": "2022-03-09T02:36:27.585158",
     "exception": false,
     "start_time": "2022-03-09T02:36:27.553106",
     "status": "completed"
    },
    "tags": []
   },
   "source": [
    "# preds for cold users\n",
    "- https://www.kaggle.com/byfone/h-m-trending-products-weekly"
   ]
  },
  {
   "cell_type": "code",
   "execution_count": 5,
   "id": "598c605e",
   "metadata": {
    "execution": {
     "iopub.execute_input": "2022-03-09T02:36:27.662803Z",
     "iopub.status.busy": "2022-03-09T02:36:27.661635Z",
     "iopub.status.idle": "2022-03-09T02:36:27.664532Z",
     "shell.execute_reply": "2022-03-09T02:36:27.664003Z",
     "shell.execute_reply.started": "2022-03-09T02:04:46.652981Z"
    },
    "papermill": {
     "duration": 0.047175,
     "end_time": "2022-03-09T02:36:27.664712",
     "exception": false,
     "start_time": "2022-03-09T02:36:27.617537",
     "status": "completed"
    },
    "tags": []
   },
   "outputs": [],
   "source": [
    "# Add the last day of billing week\n",
    "#df['ldbw'] = df['t_dat'].progress_apply(lambda d: last_ts - (last_ts - d).floor('7D'))"
   ]
  },
  {
   "cell_type": "code",
   "execution_count": 6,
   "id": "711d3f1c",
   "metadata": {
    "execution": {
     "iopub.execute_input": "2022-03-09T02:36:27.741143Z",
     "iopub.status.busy": "2022-03-09T02:36:27.739478Z",
     "iopub.status.idle": "2022-03-09T02:36:32.453819Z",
     "shell.execute_reply": "2022-03-09T02:36:32.453055Z",
     "shell.execute_reply.started": "2022-03-09T02:06:27.213229Z"
    },
    "papermill": {
     "duration": 4.756245,
     "end_time": "2022-03-09T02:36:32.453994",
     "exception": false,
     "start_time": "2022-03-09T02:36:27.697749",
     "status": "completed"
    },
    "tags": []
   },
   "outputs": [],
   "source": [
    "# Count the number of transactions per week¶\n",
    "weekly_sales = df.drop('customer_id', axis=1).groupby(['week_no', 'article_id'])['t_dat'].count().reset_index()\n",
    "weekly_sales = weekly_sales.rename(columns={'t_dat': 'count'})\n",
    "df = pd.merge(df, weekly_sales, on=['week_no', 'article_id'], how=\"left\")"
   ]
  },
  {
   "cell_type": "code",
   "execution_count": 7,
   "id": "83512780",
   "metadata": {
    "execution": {
     "iopub.execute_input": "2022-03-09T02:36:32.525385Z",
     "iopub.status.busy": "2022-03-09T02:36:32.524682Z",
     "iopub.status.idle": "2022-03-09T02:36:34.604675Z",
     "shell.execute_reply": "2022-03-09T02:36:34.605183Z",
     "shell.execute_reply.started": "2022-03-09T02:06:48.619897Z"
    },
    "papermill": {
     "duration": 2.118776,
     "end_time": "2022-03-09T02:36:34.605383",
     "exception": false,
     "start_time": "2022-03-09T02:36:32.486607",
     "status": "completed"
    },
    "tags": []
   },
   "outputs": [],
   "source": [
    "#Let's assume that in the target week sales will be similar to the last week of the training data\n",
    "weekly_sales = weekly_sales.set_index('article_id')\n",
    "\n",
    "df = df.join(\n",
    "    weekly_sales.loc[weekly_sales['week_no']==test_week-1, ['count']],\n",
    "    on='article_id', rsuffix=\"_targ\")\n",
    "\n",
    "df['count_targ'].fillna(0, inplace=True)\n",
    "del weekly_sales"
   ]
  },
  {
   "cell_type": "code",
   "execution_count": 8,
   "id": "a38d0749",
   "metadata": {
    "execution": {
     "iopub.execute_input": "2022-03-09T02:36:34.687858Z",
     "iopub.status.busy": "2022-03-09T02:36:34.686337Z",
     "iopub.status.idle": "2022-03-09T02:36:34.732794Z",
     "shell.execute_reply": "2022-03-09T02:36:34.732012Z",
     "shell.execute_reply.started": "2022-03-09T02:17:13.923464Z"
    },
    "papermill": {
     "duration": 0.094702,
     "end_time": "2022-03-09T02:36:34.732958",
     "exception": false,
     "start_time": "2022-03-09T02:36:34.638256",
     "status": "completed"
    },
    "tags": []
   },
   "outputs": [],
   "source": [
    "# Calculate sales rate adjusted for changes in product popularity¶\n",
    "df['quotient'] = df['count_targ'] / df['count']"
   ]
  },
  {
   "cell_type": "code",
   "execution_count": 9,
   "id": "2b73cde0",
   "metadata": {
    "execution": {
     "iopub.execute_input": "2022-03-09T02:36:34.809648Z",
     "iopub.status.busy": "2022-03-09T02:36:34.808818Z",
     "iopub.status.idle": "2022-03-09T02:36:36.179224Z",
     "shell.execute_reply": "2022-03-09T02:36:36.178457Z",
     "shell.execute_reply.started": "2022-03-09T02:21:45.905982Z"
    },
    "papermill": {
     "duration": 1.406911,
     "end_time": "2022-03-09T02:36:36.179380",
     "exception": false,
     "start_time": "2022-03-09T02:36:34.772469",
     "status": "completed"
    },
    "tags": []
   },
   "outputs": [],
   "source": [
    "N = 12\n",
    "# Take supposedly popular products¶\n",
    "target_sales = df.drop('customer_id', axis=1).groupby('article_id')['quotient'].sum()\n",
    "general_pred = target_sales.nlargest(N).index.tolist()\n",
    "del target_sales"
   ]
  },
  {
   "cell_type": "code",
   "execution_count": 10,
   "id": "a6895555",
   "metadata": {
    "execution": {
     "iopub.execute_input": "2022-03-09T02:36:36.255695Z",
     "iopub.status.busy": "2022-03-09T02:36:36.254889Z",
     "iopub.status.idle": "2022-03-09T03:04:06.767613Z",
     "shell.execute_reply": "2022-03-09T03:04:06.766886Z"
    },
    "papermill": {
     "duration": 1650.555438,
     "end_time": "2022-03-09T03:04:06.767768",
     "exception": false,
     "start_time": "2022-03-09T02:36:36.212330",
     "status": "completed"
    },
    "tags": []
   },
   "outputs": [
    {
     "name": "stderr",
     "output_type": "stream",
     "text": [
      "100%|██████████| 14082347/14082347 [27:30<00:00, 8532.18it/s]\n"
     ]
    }
   ],
   "source": [
    "# Fill in purchase dictionary¶\n",
    "purchase_dict = {}\n",
    "\n",
    "for i in tqdm(df.index):\n",
    "    cust_id = df.at[i, 'customer_id']\n",
    "    art_id = df.at[i, 'article_id']\n",
    "    t_dat = df.at[i, 't_dat']\n",
    "\n",
    "    if cust_id not in purchase_dict:\n",
    "        purchase_dict[cust_id] = {}\n",
    "\n",
    "    if art_id not in purchase_dict[cust_id]:\n",
    "        purchase_dict[cust_id][art_id] = 0\n",
    "    \n",
    "    x = max(1, (last_ts - t_dat).days)\n",
    "\n",
    "    a, b, c, d = 2.5e4, 1.5e5, 2e-1, 1e3\n",
    "    y = a / np.sqrt(x) + b * np.exp(-c*x) - d\n",
    "\n",
    "    value = df.at[i, 'quotient'] * max(0, y)\n",
    "    purchase_dict[cust_id][art_id] += value"
   ]
  },
  {
   "cell_type": "code",
   "execution_count": 11,
   "id": "486793d6",
   "metadata": {
    "execution": {
     "iopub.execute_input": "2022-03-09T03:04:18.751508Z",
     "iopub.status.busy": "2022-03-09T03:04:18.750746Z",
     "iopub.status.idle": "2022-03-09T03:04:18.974499Z",
     "shell.execute_reply": "2022-03-09T03:04:18.972991Z"
    },
    "papermill": {
     "duration": 6.279277,
     "end_time": "2022-03-09T03:04:18.974997",
     "exception": true,
     "start_time": "2022-03-09T03:04:12.695720",
     "status": "failed"
    },
    "tags": []
   },
   "outputs": [
    {
     "ename": "NameError",
     "evalue": "name 'data_path' is not defined",
     "output_type": "error",
     "traceback": [
      "\u001b[0;31m---------------------------------------------------------------------------\u001b[0m",
      "\u001b[0;31mNameError\u001b[0m                                 Traceback (most recent call last)",
      "\u001b[0;32m/tmp/ipykernel_21/4218600634.py\u001b[0m in \u001b[0;36m<module>\u001b[0;34m\u001b[0m\n\u001b[0;32m----> 1\u001b[0;31m \u001b[0msub\u001b[0m \u001b[0;34m=\u001b[0m \u001b[0mpd\u001b[0m\u001b[0;34m.\u001b[0m\u001b[0mread_csv\u001b[0m\u001b[0;34m(\u001b[0m\u001b[0mdata_path\u001b[0m \u001b[0;34m/\u001b[0m \u001b[0;34m'sample_submission.csv'\u001b[0m\u001b[0;34m)\u001b[0m\u001b[0;34m\u001b[0m\u001b[0;34m\u001b[0m\u001b[0m\n\u001b[0m\u001b[1;32m      2\u001b[0m \u001b[0;34m\u001b[0m\u001b[0m\n\u001b[1;32m      3\u001b[0m \u001b[0mpred_list\u001b[0m \u001b[0;34m=\u001b[0m \u001b[0;34m[\u001b[0m\u001b[0;34m]\u001b[0m\u001b[0;34m\u001b[0m\u001b[0;34m\u001b[0m\u001b[0m\n\u001b[1;32m      4\u001b[0m \u001b[0;32mfor\u001b[0m \u001b[0mcust_id\u001b[0m \u001b[0;32min\u001b[0m \u001b[0mtqdm\u001b[0m\u001b[0;34m(\u001b[0m\u001b[0msub\u001b[0m\u001b[0;34m[\u001b[0m\u001b[0;34m'customer_id'\u001b[0m\u001b[0;34m]\u001b[0m\u001b[0;34m)\u001b[0m\u001b[0;34m:\u001b[0m\u001b[0;34m\u001b[0m\u001b[0;34m\u001b[0m\u001b[0m\n\u001b[1;32m      5\u001b[0m     \u001b[0;32mif\u001b[0m \u001b[0mcust_id\u001b[0m \u001b[0;32min\u001b[0m \u001b[0mpurchase_dict\u001b[0m\u001b[0;34m:\u001b[0m\u001b[0;34m\u001b[0m\u001b[0;34m\u001b[0m\u001b[0m\n",
      "\u001b[0;31mNameError\u001b[0m: name 'data_path' is not defined"
     ]
    }
   ],
   "source": [
    "sub = pd.read_csv(data_path / 'sample_submission.csv')\n",
    "\n",
    "pred_list = []\n",
    "for cust_id in tqdm(sub['customer_id']):\n",
    "    if cust_id in purchase_dict:\n",
    "        series = pd.Series(purchase_dict[cust_id])\n",
    "        series = series[series > 0]\n",
    "        l = series.nlargest(N).index.tolist()\n",
    "        if len(l) < N:\n",
    "            l = l + general_pred[:(N-len(l))]\n",
    "    else:\n",
    "        l = general_pred\n",
    "    pred_list.append(' '.join(l))\n",
    "\n",
    "sub['prediction'] = pred_list\n",
    "sub.to_csv('cold_user_predictions.csv', index=None)"
   ]
  },
  {
   "cell_type": "markdown",
   "id": "683f111f",
   "metadata": {
    "papermill": {
     "duration": null,
     "end_time": null,
     "exception": null,
     "start_time": null,
     "status": "pending"
    },
    "tags": []
   },
   "source": [
    "# features by implicit"
   ]
  },
  {
   "cell_type": "code",
   "execution_count": null,
   "id": "d0ab9931",
   "metadata": {
    "execution": {
     "iopub.execute_input": "2022-03-07T08:41:05.443131Z",
     "iopub.status.busy": "2022-03-07T08:41:05.442804Z",
     "iopub.status.idle": "2022-03-07T08:41:24.436132Z",
     "shell.execute_reply": "2022-03-07T08:41:24.43533Z",
     "shell.execute_reply.started": "2022-03-07T08:41:05.443093Z"
    },
    "papermill": {
     "duration": null,
     "end_time": null,
     "exception": null,
     "start_time": null,
     "status": "pending"
    },
    "tags": []
   },
   "outputs": [],
   "source": [
    "#all_users = df[\"customer_id\"].unique().tolist()\n",
    "#all_items = df[\"article_id\"].unique().tolist()\n",
    "\n",
    "#user_ids = dict(list(enumerate(all_users)))\n",
    "#item_ids = dict(list(enumerate(all_items)))\n",
    "\n",
    "#user_map = {u: uidx for uidx, u in user_ids.items()}\n",
    "#item_map = {u: iidx for iidx, u in item_ids.items()}\n",
    "\n",
    "#df[\"customer_id\"] = df[\"customer_id\"].map(user_map)\n",
    "#df[\"article_id\"] = df[\"article_id\"].map(item_map)\n",
    "\n",
    "#row = df[\"customer_id\"].values\n",
    "#col = df[\"article_id\"].values\n",
    "\n",
    "#data = np.ones(df.shape[0])\n",
    "#coo = coo_matrix((data, (row, col)), shape=(len(all_users), len(all_items)))\n",
    "\n",
    "#model = implicit.als.AlternatingLeastSquares(factors=10, iterations = 5, regularization=0.01)\n",
    "#model.fit(coo)\n",
    "\n",
    "#model.user_factors, model.user_factors.shape\n",
    "#model.item_factors, model.item_factors.shape"
   ]
  },
  {
   "cell_type": "markdown",
   "id": "f6822c93",
   "metadata": {
    "papermill": {
     "duration": null,
     "end_time": null,
     "exception": null,
     "start_time": null,
     "status": "pending"
    },
    "tags": []
   },
   "source": [
    "# features by similaripy"
   ]
  },
  {
   "cell_type": "code",
   "execution_count": null,
   "id": "02d82599",
   "metadata": {
    "execution": {
     "iopub.status.busy": "2022-03-07T23:26:24.161614Z",
     "iopub.status.idle": "2022-03-07T23:26:24.162154Z",
     "shell.execute_reply": "2022-03-07T23:26:24.161905Z",
     "shell.execute_reply.started": "2022-03-07T23:26:24.161875Z"
    },
    "papermill": {
     "duration": null,
     "end_time": null,
     "exception": null,
     "start_time": null,
     "status": "pending"
    },
    "tags": []
   },
   "outputs": [],
   "source": [
    "# normalize matrix with bm25\n",
    "#coo_bm = similaripy.normalization.bm25(coo)\n",
    "\n",
    "# train the model with 50 knn per item \n",
    "#model = similaripy.cosine(coo_bm.T, k=50)\n",
    "\n",
    "# recommend 100 items to users 1, 14 and 8 filtering the items already seen by each users\n",
    "#user_recommendations = sim.dot_product(coo_bm, model.T, k=100, target_rows=[1,14,8], filter_cols=coo_bm)"
   ]
  },
  {
   "cell_type": "markdown",
   "id": "c7b6758f",
   "metadata": {
    "papermill": {
     "duration": null,
     "end_time": null,
     "exception": null,
     "start_time": null,
     "status": "pending"
    },
    "tags": []
   },
   "source": [
    "# features by abstraction block"
   ]
  },
  {
   "cell_type": "code",
   "execution_count": null,
   "id": "e8336461",
   "metadata": {
    "execution": {
     "iopub.execute_input": "2022-03-07T23:30:44.304995Z",
     "iopub.status.busy": "2022-03-07T23:30:44.304082Z",
     "iopub.status.idle": "2022-03-07T23:30:54.349924Z",
     "shell.execute_reply": "2022-03-07T23:30:54.348664Z",
     "shell.execute_reply.started": "2022-03-07T23:30:44.30493Z"
    },
    "papermill": {
     "duration": null,
     "end_time": null,
     "exception": null,
     "start_time": null,
     "status": "pending"
    },
    "tags": []
   },
   "outputs": [],
   "source": [
    "article_columns = [\"garment_group_no\",\n",
    "                \"product_code\", \"product_type_no\", \n",
    "                \"graphical_appearance_no\", \"colour_group_code\", \"perceived_colour_value_id\",\n",
    "                \"perceived_colour_master_id\", \"department_no\", \"index_group_no\", \n",
    "                \"section_no\"]\n",
    "\n",
    "df = pd.merge(df, article_df[[\"article_id\"] + article_columns], on='article_id', how='left')"
   ]
  },
  {
   "cell_type": "code",
   "execution_count": null,
   "id": "b0cb76fc",
   "metadata": {
    "execution": {
     "iopub.execute_input": "2022-03-07T23:30:54.352799Z",
     "iopub.status.busy": "2022-03-07T23:30:54.352355Z",
     "iopub.status.idle": "2022-03-07T23:32:30.239095Z",
     "shell.execute_reply": "2022-03-07T23:32:30.237805Z",
     "shell.execute_reply.started": "2022-03-07T23:30:54.35274Z"
    },
    "papermill": {
     "duration": null,
     "end_time": null,
     "exception": null,
     "start_time": null,
     "status": "pending"
    },
    "tags": []
   },
   "outputs": [],
   "source": [
    "# customerごとに何か購入したweek\n",
    "customer2weeks = df.groupby('customer_id')['week_no'].unique()\n",
    "\n",
    "# customerごとに学習データの特徴量となるweekとラベルとなるweekのペアを作る。\n",
    "customer2weekpairs = {}\n",
    "\n",
    "for c_id, weeks in customer2weeks.items():\n",
    "    customer2weekpairs[c_id] = {}\n",
    "    for i in range(weeks.shape[0]-1):\n",
    "        customer2weekpairs[c_id][weeks[i]] = weeks[i+1]\n",
    "    customer2weekpairs[c_id][weeks[-1]] = test_week"
   ]
  },
  {
   "cell_type": "code",
   "execution_count": null,
   "id": "40fa2114",
   "metadata": {
    "execution": {
     "iopub.execute_input": "2022-03-07T23:32:30.241104Z",
     "iopub.status.busy": "2022-03-07T23:32:30.240802Z",
     "iopub.status.idle": "2022-03-07T23:32:30.249007Z",
     "shell.execute_reply": "2022-03-07T23:32:30.247805Z",
     "shell.execute_reply.started": "2022-03-07T23:32:30.24107Z"
    },
    "papermill": {
     "duration": null,
     "end_time": null,
     "exception": null,
     "start_time": null,
     "status": "pending"
    },
    "tags": []
   },
   "outputs": [],
   "source": [
    "def join(df):\n",
    "    x = [str(e) for e in list(df)]\n",
    "    return \" \".join(x)\n",
    "\n",
    "def label_prev_week(input_df):\n",
    "    weeks = []\n",
    "    for i, (c_id, week) in enumerate(zip(input_df['customer_id'], input_df['week_no'])):\n",
    "        weeks.append(customer2weekpairs[c_id][week])\n",
    "    input_df.week_no=weeks\n",
    "    return input_df"
   ]
  },
  {
   "cell_type": "code",
   "execution_count": null,
   "id": "2bdbe7e2",
   "metadata": {
    "execution": {
     "iopub.execute_input": "2022-03-07T23:50:39.315747Z",
     "iopub.status.busy": "2022-03-07T23:50:39.315348Z",
     "iopub.status.idle": "2022-03-07T23:50:39.335292Z",
     "shell.execute_reply": "2022-03-07T23:50:39.334594Z",
     "shell.execute_reply.started": "2022-03-07T23:50:39.315684Z"
    },
    "papermill": {
     "duration": null,
     "end_time": null,
     "exception": null,
     "start_time": null,
     "status": "pending"
    },
    "tags": []
   },
   "outputs": [],
   "source": [
    "class AbstractBaseBlock:\n",
    "    def fit(self, input_df, y=None):\n",
    "        return self.transform(input_df)\n",
    "\n",
    "    def transform(self, input_df):\n",
    "        raise NotImplementedError()\n",
    "        \n",
    "class UserHistoryEveryBlock(AbstractBaseBlock):\n",
    "    \"\"\"ユーザーの数値履歴を週間で集計した特徴量を付与する block 累積ではない\"\"\"\n",
    "    def __init__(self, item):\n",
    "        self.item = item\n",
    "\n",
    "    def fit(self, input_df, y=None):\n",
    "        out = input_df \\\n",
    "        .groupby(['customer_id', 'week_no'])[self.item].agg([\"sum\", \"std\", \"max\", \"min\"]).add_prefix(\"u_prev_\"+self.item+\"_\").reset_index()\n",
    "        out = label_prev_week(out)\n",
    "        return self.transform(out)\n",
    "\n",
    "    def transform(self, input_df):\n",
    "        return input_df\n",
    "    \n",
    "class UserHistoryVectorEveryBlock(AbstractBaseBlock):\n",
    "    \"\"\"ユーザーの文字履歴を週間で集計しベクトル化した特徴量を付与する block 累積ではない\"\"\"\n",
    "    def __init__(self, item, n_components = 5):\n",
    "        self.item = item\n",
    "        self.n_components = n_components\n",
    "        \n",
    "    def fit(self, input_df, y=None):\n",
    "        docs = input_df.groupby([\"customer_id\", \"week_no\"])[self.item].apply(join)\n",
    "        max_features = int(input_df[self.item].nunique() * 0.8)\n",
    "        tv = TfidfVectorizer(max_features=max_features)\n",
    "        X = tv.fit_transform(docs)\n",
    "        \n",
    "        svd = TruncatedSVD(n_components=self.n_components, random_state=0)\n",
    "        X = svd.fit_transform(X)\n",
    "        result = pd.DataFrame(X, columns=[f\"u_{self.item}_{i}\" for i in range(self.n_components)])\n",
    "        result.index = docs.index\n",
    "        result = result.reset_index()\n",
    "        result = label_prev_week(result)\n",
    "        return self.transform(result)\n",
    "  \n",
    "    def transform(self, input_df):\n",
    "        return input_df  \n",
    "\n",
    "class ItemHistoryEveryBlock(AbstractBaseBlock):\n",
    "    \"\"\"アイテムの数値履歴を週間で集計した特徴量を付与する block 累積ではない\"\"\"\n",
    "    def __init__(self, item):\n",
    "        self.item = item\n",
    "\n",
    "    def fit(self, input_df, y=None):\n",
    "        out = input_df \\\n",
    "        .groupby(['week_no'])[self.item].value_counts()\n",
    "        out = out.to_frame(\"sale_count\").reset_index()\n",
    "        return self.transform(out)\n",
    "\n",
    "    def transform(self, input_df):\n",
    "        return input_df\n",
    "    \n",
    "class ItemHistorySumBlock(AbstractBaseBlock):\n",
    "    \"\"\"アイテムの数値履歴を週間で集計した特徴量を付与する block 累積ではない\"\"\"\n",
    "    def __init__(self, item):\n",
    "        self.item = item\n",
    "\n",
    "    def fit(self, input_df, y=None):\n",
    "        out = input_df \\\n",
    "        .groupby(['week_no', self.item])['price'].agg([\"sum\"]).add_prefix(\"sale_\").reset_index()\n",
    "        return self.transform(out)\n",
    "\n",
    "    def transform(self, input_df):\n",
    "        return input_df"
   ]
  },
  {
   "cell_type": "code",
   "execution_count": null,
   "id": "72f46693",
   "metadata": {
    "execution": {
     "iopub.execute_input": "2022-03-06T02:04:56.455558Z",
     "iopub.status.busy": "2022-03-06T02:04:56.455116Z",
     "iopub.status.idle": "2022-03-06T02:17:50.206159Z",
     "shell.execute_reply": "2022-03-06T02:17:50.204586Z",
     "shell.execute_reply.started": "2022-03-06T02:04:56.455526Z"
    },
    "papermill": {
     "duration": null,
     "end_time": null,
     "exception": null,
     "start_time": null,
     "status": "pending"
    },
    "tags": []
   },
   "outputs": [],
   "source": [
    "# user_features\n",
    "#feature_blocks = [\n",
    "#    UserHistoryEveryBlock(\"price\"),\n",
    "#    UserHistoryVectorEveryBlock(\"section_no\"),\n",
    "#    UserHistoryVectorEveryBlock(\"garment_group_no\"),\n",
    "#]\n",
    "\n",
    "#for i, block in enumerate(feature_blocks):\n",
    "#    if i == 0:\n",
    "#        user_features_df = block.fit(df)\n",
    "#    else:\n",
    "#        out_i = block.fit(df)\n",
    "#        user_features_df = pd.merge(user_features_df, out_i, on = [\"customer_id\", \"week_no\"], how=\"left\")\n",
    "        \n",
    "#user_features_df.to_csv(\"user_features.csv\", index=False)\n",
    "#del user_features_df"
   ]
  },
  {
   "cell_type": "code",
   "execution_count": null,
   "id": "7953b34a",
   "metadata": {
    "execution": {
     "iopub.execute_input": "2022-03-07T23:50:41.094884Z",
     "iopub.status.busy": "2022-03-07T23:50:41.094081Z",
     "iopub.status.idle": "2022-03-07T23:51:12.315307Z",
     "shell.execute_reply": "2022-03-07T23:51:12.314589Z",
     "shell.execute_reply.started": "2022-03-07T23:50:41.09483Z"
    },
    "papermill": {
     "duration": null,
     "end_time": null,
     "exception": null,
     "start_time": null,
     "status": "pending"
    },
    "tags": []
   },
   "outputs": [],
   "source": [
    "# item_features\n",
    "article_count = ItemHistoryEveryBlock(\"article_id\").fit(df)\n",
    "article_count.to_csv(\"article_count.csv\", index=False)\n",
    "\n",
    "article_sale = ItemHistorySumBlock(\"article_id\").fit(df)\n",
    "article_sale.to_csv(\"article_sale.csv\", index=False)"
   ]
  },
  {
   "cell_type": "code",
   "execution_count": null,
   "id": "ff5c1395",
   "metadata": {
    "papermill": {
     "duration": null,
     "end_time": null,
     "exception": null,
     "start_time": null,
     "status": "pending"
    },
    "tags": []
   },
   "outputs": [],
   "source": []
  }
 ],
 "metadata": {
  "kernelspec": {
   "display_name": "Python 3",
   "language": "python",
   "name": "python3"
  },
  "language_info": {
   "codemirror_mode": {
    "name": "ipython",
    "version": 3
   },
   "file_extension": ".py",
   "mimetype": "text/x-python",
   "name": "python",
   "nbconvert_exporter": "python",
   "pygments_lexer": "ipython3",
   "version": "3.7.12"
  },
  "papermill": {
   "default_parameters": {},
   "duration": 1869.94088,
   "end_time": "2022-03-09T03:04:27.673950",
   "environment_variables": {},
   "exception": true,
   "input_path": "__notebook__.ipynb",
   "output_path": "__notebook__.ipynb",
   "parameters": {},
   "start_time": "2022-03-09T02:33:17.733070",
   "version": "2.3.3"
  }
 },
 "nbformat": 4,
 "nbformat_minor": 5
}
