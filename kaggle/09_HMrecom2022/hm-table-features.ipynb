{
 "cells": [
  {
   "cell_type": "markdown",
   "id": "58dbff34",
   "metadata": {
    "execution": {
     "iopub.execute_input": "2022-03-07T23:26:29.454418Z",
     "iopub.status.busy": "2022-03-07T23:26:29.454082Z",
     "iopub.status.idle": "2022-03-07T23:27:40.64148Z",
     "shell.execute_reply": "2022-03-07T23:27:40.640021Z",
     "shell.execute_reply.started": "2022-03-07T23:26:29.454386Z"
    },
    "papermill": {
     "duration": 0.025058,
     "end_time": "2022-03-15T10:55:03.250757",
     "exception": false,
     "start_time": "2022-03-15T10:55:03.225699",
     "status": "completed"
    },
    "tags": []
   },
   "source": [
    "- consider only item features\n",
    "- modify functions for predictions of cold users\n",
    "- pickle als model\n",
    "- remove cold prediction"
   ]
  },
  {
   "cell_type": "code",
   "execution_count": 1,
   "id": "28a297c6",
   "metadata": {
    "execution": {
     "iopub.execute_input": "2022-03-15T10:55:03.312213Z",
     "iopub.status.busy": "2022-03-15T10:55:03.311452Z",
     "iopub.status.idle": "2022-03-15T10:55:58.945892Z",
     "shell.execute_reply": "2022-03-15T10:55:58.945001Z",
     "shell.execute_reply.started": "2022-03-15T10:32:54.813484Z"
    },
    "papermill": {
     "duration": 55.670509,
     "end_time": "2022-03-15T10:55:58.946089",
     "exception": false,
     "start_time": "2022-03-15T10:55:03.275580",
     "status": "completed"
    },
    "tags": []
   },
   "outputs": [
    {
     "name": "stdout",
     "output_type": "stream",
     "text": [
      "Collecting similaripy\r\n",
      "  Downloading similaripy-0.1.2.tar.gz (331 kB)\r\n",
      "     |████████████████████████████████| 331 kB 4.3 MB/s            \r\n",
      "\u001b[?25h  Preparing metadata (setup.py) ... \u001b[?25l-\b \b\\\b \bdone\r\n",
      "\u001b[?25hRequirement already satisfied: scipy>=1.0.0 in /opt/conda/lib/python3.7/site-packages (from similaripy) (1.7.3)\r\n",
      "Requirement already satisfied: numpy>=1.14.0 in /opt/conda/lib/python3.7/site-packages (from similaripy) (1.20.3)\r\n",
      "Requirement already satisfied: tqdm>=4.19.6 in /opt/conda/lib/python3.7/site-packages (from similaripy) (4.62.3)\r\n",
      "Building wheels for collected packages: similaripy\r\n",
      "  Building wheel for similaripy (setup.py) ... \u001b[?25l-\b \b\\\b \b|\b \b/\b \b-\b \b\\\b \b|\b \b/\b \bdone\r\n",
      "\u001b[?25h  Created wheel for similaripy: filename=similaripy-0.1.2-cp37-cp37m-linux_x86_64.whl size=2040882 sha256=98a9ae6e8c23fe70fce0651ac61f985aed57cdb6dde7252cb65a077340e5f052\r\n",
      "  Stored in directory: /root/.cache/pip/wheels/2e/81/4b/7a396ebc45534553ddee1eb106d99023df4d9d09b53b13cc66\r\n",
      "Successfully built similaripy\r\n",
      "Installing collected packages: similaripy\r\n",
      "Successfully installed similaripy-0.1.2\r\n",
      "\u001b[33mWARNING: Running pip as the 'root' user can result in broken permissions and conflicting behaviour with the system package manager. It is recommended to use a virtual environment instead: https://pip.pypa.io/warnings/venv\u001b[0m\r\n"
     ]
    }
   ],
   "source": [
    "!pip install similaripy"
   ]
  },
  {
   "cell_type": "code",
   "execution_count": 2,
   "id": "b82e7354",
   "metadata": {
    "execution": {
     "iopub.execute_input": "2022-03-15T10:55:59.019782Z",
     "iopub.status.busy": "2022-03-15T10:55:59.018962Z",
     "iopub.status.idle": "2022-03-15T10:56:00.230546Z",
     "shell.execute_reply": "2022-03-15T10:56:00.229691Z",
     "shell.execute_reply.started": "2022-03-15T10:33:50.752997Z"
    },
    "papermill": {
     "duration": 1.251104,
     "end_time": "2022-03-15T10:56:00.230680",
     "exception": false,
     "start_time": "2022-03-15T10:55:58.979576",
     "status": "completed"
    },
    "tags": []
   },
   "outputs": [],
   "source": [
    "import numpy as np\n",
    "import pandas as pd\n",
    "from tqdm import tqdm\n",
    "from sklearn import preprocessing\n",
    "from scipy.sparse import coo_matrix\n",
    "from sklearn.decomposition import TruncatedSVD\n",
    "from sklearn.feature_extraction.text import TfidfVectorizer\n",
    "from sklearn.decomposition import LatentDirichletAllocation\n",
    "import implicit\n",
    "import similaripy\n",
    "import pickle\n",
    "\n",
    "import warnings\n",
    "warnings.filterwarnings('ignore')\n",
    "\n",
    "tqdm.pandas()"
   ]
  },
  {
   "cell_type": "code",
   "execution_count": 3,
   "id": "6e0c2293",
   "metadata": {
    "execution": {
     "iopub.execute_input": "2022-03-15T10:56:00.304126Z",
     "iopub.status.busy": "2022-03-15T10:56:00.303475Z",
     "iopub.status.idle": "2022-03-15T10:57:31.408206Z",
     "shell.execute_reply": "2022-03-15T10:57:31.408888Z",
     "shell.execute_reply.started": "2022-03-15T10:33:52.030974Z"
    },
    "papermill": {
     "duration": 91.145567,
     "end_time": "2022-03-15T10:57:31.409358",
     "exception": false,
     "start_time": "2022-03-15T10:56:00.263791",
     "status": "completed"
    },
    "tags": []
   },
   "outputs": [],
   "source": [
    "DATA_DIR = \"/kaggle/input/h-and-m-personalized-fashion-recommendations/\"\n",
    "df = pd.read_csv(DATA_DIR + \"transactions_train.csv\")\n",
    "article_df = pd.read_csv(DATA_DIR + \"articles.csv\")\n",
    "customer_df = pd.read_csv(DATA_DIR + \"customers.csv\")\n",
    "sub = pd.read_csv(DATA_DIR + 'sample_submission.csv')"
   ]
  },
  {
   "cell_type": "code",
   "execution_count": 4,
   "id": "1db0711d",
   "metadata": {
    "execution": {
     "iopub.execute_input": "2022-03-15T10:57:31.494125Z",
     "iopub.status.busy": "2022-03-15T10:57:31.487196Z",
     "iopub.status.idle": "2022-03-15T10:58:07.390951Z",
     "shell.execute_reply": "2022-03-15T10:58:07.390249Z",
     "shell.execute_reply.started": "2022-03-15T10:35:20.501738Z"
    },
    "papermill": {
     "duration": 35.94601,
     "end_time": "2022-03-15T10:58:07.391122",
     "exception": false,
     "start_time": "2022-03-15T10:57:31.445112",
     "status": "completed"
    },
    "tags": []
   },
   "outputs": [],
   "source": [
    "df[\"t_dat\"] = pd.to_datetime(df[\"t_dat\"])\n",
    "\n",
    "date_week_df = df.drop_duplicates(\"t_dat\")[[\"t_dat\"]].reset_index(drop=True)\n",
    "date_week_df['week_no'] = (date_week_df['t_dat'] + pd.DateOffset(days=5)).dt.week\n",
    "date_week_df[\"week_no\"] = date_week_df[\"week_no\"].diff(1)\n",
    "date_week_df[\"week_no\"].fillna(0, inplace=True)\n",
    "date_week_df[\"week_no\"] = date_week_df[\"week_no\"] != 0\n",
    "date_week_df[\"week_no\"] = date_week_df[\"week_no\"].cumsum()\n",
    "\n",
    "df = pd.merge(df, date_week_df, on=\"t_dat\", how=\"left\")\n",
    "\n",
    "df.sort_values(['t_dat', 'customer_id'], inplace=True)\n",
    "\n",
    "test_week = df.week_no.max()\n",
    "last_ts = df['t_dat'].max()"
   ]
  },
  {
   "cell_type": "markdown",
   "id": "420f4038",
   "metadata": {
    "papermill": {
     "duration": 0.032764,
     "end_time": "2022-03-15T10:58:07.457291",
     "exception": false,
     "start_time": "2022-03-15T10:58:07.424527",
     "status": "completed"
    },
    "tags": []
   },
   "source": [
    "# als model"
   ]
  },
  {
   "cell_type": "code",
   "execution_count": 5,
   "id": "83284915",
   "metadata": {
    "execution": {
     "iopub.execute_input": "2022-03-15T10:58:07.527277Z",
     "iopub.status.busy": "2022-03-15T10:58:07.526592Z",
     "iopub.status.idle": "2022-03-15T11:00:21.088872Z",
     "shell.execute_reply": "2022-03-15T11:00:21.089422Z",
     "shell.execute_reply.started": "2022-03-15T10:35:57.356384Z"
    },
    "papermill": {
     "duration": 133.599185,
     "end_time": "2022-03-15T11:00:21.089599",
     "exception": false,
     "start_time": "2022-03-15T10:58:07.490414",
     "status": "completed"
    },
    "tags": []
   },
   "outputs": [
    {
     "data": {
      "application/vnd.jupyter.widget-view+json": {
       "model_id": "18ccc3c869fc4c02977f75d9daf383fc",
       "version_major": 2,
       "version_minor": 0
      },
      "text/plain": [
       "  0%|          | 0/5 [00:00<?, ?it/s]"
      ]
     },
     "metadata": {},
     "output_type": "display_data"
    }
   ],
   "source": [
    "# for validation\n",
    "tmp = df[df.week_no < test_week].reset_index(drop=True).copy()\n",
    "    \n",
    "# als model\n",
    "all_users = tmp[\"customer_id\"].unique().tolist()\n",
    "all_items = tmp[\"article_id\"].unique().tolist()\n",
    "\n",
    "user_ids = dict(list(enumerate(all_users)))\n",
    "item_ids = dict(list(enumerate(all_items)))\n",
    "\n",
    "user_map = {u: uidx for uidx, u in user_ids.items()}\n",
    "item_map = {u: iidx for iidx, u in item_ids.items()}\n",
    "\n",
    "tmp[\"customer_id\"] = tmp[\"customer_id\"].map(user_map)\n",
    "tmp[\"article_id\"] = tmp[\"article_id\"].map(item_map)\n",
    "\n",
    "row = tmp[\"customer_id\"].values\n",
    "col = tmp[\"article_id\"].values\n",
    "\n",
    "data = np.ones(tmp.shape[0])\n",
    "coo = coo_matrix((data, (row, col)), shape=(len(all_users), len(all_items)))\n",
    "\n",
    "n_factors = 5\n",
    "als_model = implicit.als.AlternatingLeastSquares(factors=n_factors, iterations = 5, regularization=0.1, random_state=2240)\n",
    "als_model.fit(coo)\n",
    "item_factor_columns = [\"article_id_\"+str(i) for i in range(n_factors)]\n",
    "\n",
    "del row, col, tmp, data, coo, user_ids, item_ids\n",
    "\n",
    "with open('als_model_val.pickle', mode='wb') as f:\n",
    "    pickle.dump(als_model, f)"
   ]
  },
  {
   "cell_type": "code",
   "execution_count": 6,
   "id": "fd1fccf2",
   "metadata": {
    "execution": {
     "iopub.execute_input": "2022-03-15T11:00:21.161190Z",
     "iopub.status.busy": "2022-03-15T11:00:21.160317Z",
     "iopub.status.idle": "2022-03-15T11:02:28.291614Z",
     "shell.execute_reply": "2022-03-15T11:02:28.290917Z",
     "shell.execute_reply.started": "2022-03-15T10:37:56.148810Z"
    },
    "papermill": {
     "duration": 127.168242,
     "end_time": "2022-03-15T11:02:28.291757",
     "exception": false,
     "start_time": "2022-03-15T11:00:21.123515",
     "status": "completed"
    },
    "tags": []
   },
   "outputs": [
    {
     "data": {
      "application/vnd.jupyter.widget-view+json": {
       "model_id": "f533b852c8a84971a34a4ade1139ee5b",
       "version_major": 2,
       "version_minor": 0
      },
      "text/plain": [
       "  0%|          | 0/5 [00:00<?, ?it/s]"
      ]
     },
     "metadata": {},
     "output_type": "display_data"
    }
   ],
   "source": [
    "# for full train\n",
    "tmp = df.copy()\n",
    "    \n",
    "# als model\n",
    "all_users = tmp[\"customer_id\"].unique().tolist()\n",
    "all_items = tmp[\"article_id\"].unique().tolist()\n",
    "\n",
    "user_ids = dict(list(enumerate(all_users)))\n",
    "item_ids = dict(list(enumerate(all_items)))\n",
    "\n",
    "user_map = {u: uidx for uidx, u in user_ids.items()}\n",
    "item_map = {u: iidx for iidx, u in item_ids.items()}\n",
    "\n",
    "tmp[\"customer_id\"] = tmp[\"customer_id\"].map(user_map)\n",
    "tmp[\"article_id\"] = tmp[\"article_id\"].map(item_map)\n",
    "\n",
    "row = tmp[\"customer_id\"].values\n",
    "col = tmp[\"article_id\"].values\n",
    "\n",
    "data = np.ones(tmp.shape[0])\n",
    "coo = coo_matrix((data, (row, col)), shape=(len(all_users), len(all_items)))\n",
    "\n",
    "n_factors = 5\n",
    "als_model = implicit.als.AlternatingLeastSquares(factors=n_factors, iterations = 5, regularization=0.1, random_state=2240)\n",
    "als_model.fit(coo)\n",
    "item_factor_columns = [\"article_id_\"+str(i) for i in range(n_factors)]\n",
    "\n",
    "del row, col, tmp, data, coo, user_ids, item_ids\n",
    "\n",
    "with open('als_model_full.pickle', mode='wb') as f:\n",
    "    pickle.dump(als_model, f)"
   ]
  },
  {
   "cell_type": "markdown",
   "id": "ab091e8c",
   "metadata": {
    "papermill": {
     "duration": 0.0332,
     "end_time": "2022-03-15T11:02:28.358857",
     "exception": false,
     "start_time": "2022-03-15T11:02:28.325657",
     "status": "completed"
    },
    "tags": []
   },
   "source": [
    "# first appperance week of article_id"
   ]
  },
  {
   "cell_type": "code",
   "execution_count": 7,
   "id": "843e2645",
   "metadata": {
    "execution": {
     "iopub.execute_input": "2022-03-15T11:02:28.434554Z",
     "iopub.status.busy": "2022-03-15T11:02:28.433687Z",
     "iopub.status.idle": "2022-03-15T11:02:29.800076Z",
     "shell.execute_reply": "2022-03-15T11:02:29.799489Z",
     "shell.execute_reply.started": "2022-03-15T10:39:53.499666Z"
    },
    "papermill": {
     "duration": 1.406836,
     "end_time": "2022-03-15T11:02:29.800222",
     "exception": false,
     "start_time": "2022-03-15T11:02:28.393386",
     "status": "completed"
    },
    "tags": []
   },
   "outputs": [],
   "source": [
    "article_week_range = df.groupby(\"article_id\").week_no.agg([\"min\", \"max\"]).reset_index()\n",
    "article_week_range.to_csv('article_week_range.csv', index=None)"
   ]
  },
  {
   "cell_type": "markdown",
   "id": "476cd499",
   "metadata": {
    "papermill": {
     "duration": 0.03299,
     "end_time": "2022-03-15T11:02:29.866967",
     "exception": false,
     "start_time": "2022-03-15T11:02:29.833977",
     "status": "completed"
    },
    "tags": []
   },
   "source": [
    "# features by similaripy"
   ]
  },
  {
   "cell_type": "code",
   "execution_count": 8,
   "id": "3f0c7ad8",
   "metadata": {
    "execution": {
     "iopub.execute_input": "2022-03-15T11:02:29.938405Z",
     "iopub.status.busy": "2022-03-15T11:02:29.937791Z",
     "iopub.status.idle": "2022-03-15T11:02:29.939587Z",
     "shell.execute_reply": "2022-03-15T11:02:29.940175Z",
     "shell.execute_reply.started": "2022-03-15T10:39:54.949715Z"
    },
    "papermill": {
     "duration": 0.039951,
     "end_time": "2022-03-15T11:02:29.940314",
     "exception": false,
     "start_time": "2022-03-15T11:02:29.900363",
     "status": "completed"
    },
    "tags": []
   },
   "outputs": [],
   "source": [
    "# normalize matrix with bm25\n",
    "#coo_bm = similaripy.normalization.bm25(coo)\n",
    "\n",
    "# train the model with 50 knn per item \n",
    "#model = similaripy.cosine(coo_bm.T, k=50)\n",
    "\n",
    "# recommend 100 items to users 1, 14 and 8 filtering the items already seen by each users\n",
    "#user_recommendations = sim.dot_product(coo_bm, model.T, k=100, target_rows=[1,14,8], filter_cols=coo_bm)"
   ]
  },
  {
   "cell_type": "markdown",
   "id": "826e5a44",
   "metadata": {
    "papermill": {
     "duration": 0.034483,
     "end_time": "2022-03-15T11:02:30.009111",
     "exception": false,
     "start_time": "2022-03-15T11:02:29.974628",
     "status": "completed"
    },
    "tags": []
   },
   "source": [
    "# features by abstraction block"
   ]
  },
  {
   "cell_type": "code",
   "execution_count": 9,
   "id": "59d74011",
   "metadata": {
    "execution": {
     "iopub.execute_input": "2022-03-15T11:02:30.080974Z",
     "iopub.status.busy": "2022-03-15T11:02:30.080324Z",
     "iopub.status.idle": "2022-03-15T11:02:31.204360Z",
     "shell.execute_reply": "2022-03-15T11:02:31.203775Z",
     "shell.execute_reply.started": "2022-03-15T10:39:54.957900Z"
    },
    "papermill": {
     "duration": 1.161112,
     "end_time": "2022-03-15T11:02:31.204503",
     "exception": false,
     "start_time": "2022-03-15T11:02:30.043391",
     "status": "completed"
    },
    "tags": []
   },
   "outputs": [],
   "source": [
    "df = df[df.week_no > df.week_no.max() - 50].reset_index(drop=True)"
   ]
  },
  {
   "cell_type": "code",
   "execution_count": 10,
   "id": "5053eeab",
   "metadata": {
    "execution": {
     "iopub.execute_input": "2022-03-15T11:02:31.281715Z",
     "iopub.status.busy": "2022-03-15T11:02:31.281092Z",
     "iopub.status.idle": "2022-03-15T11:02:33.990964Z",
     "shell.execute_reply": "2022-03-15T11:02:33.990325Z",
     "shell.execute_reply.started": "2022-03-15T10:39:56.106311Z"
    },
    "papermill": {
     "duration": 2.752529,
     "end_time": "2022-03-15T11:02:33.991123",
     "exception": false,
     "start_time": "2022-03-15T11:02:31.238594",
     "status": "completed"
    },
    "tags": []
   },
   "outputs": [],
   "source": [
    "article_columns = [\"garment_group_no\",\n",
    "                \"product_code\", \"product_type_no\", \n",
    "                \"graphical_appearance_no\", \"colour_group_code\", \"perceived_colour_value_id\",\n",
    "                \"perceived_colour_master_id\", \"department_no\", \"index_group_no\", \n",
    "                \"section_no\"]\n",
    "\n",
    "df = pd.merge(df, article_df[[\"article_id\"] + article_columns], on='article_id', how='left')"
   ]
  },
  {
   "cell_type": "code",
   "execution_count": 11,
   "id": "fb67cd2f",
   "metadata": {
    "execution": {
     "iopub.execute_input": "2022-03-15T11:02:34.062886Z",
     "iopub.status.busy": "2022-03-15T11:02:34.062276Z",
     "iopub.status.idle": "2022-03-15T11:03:38.622457Z",
     "shell.execute_reply": "2022-03-15T11:03:38.622991Z",
     "shell.execute_reply.started": "2022-03-15T10:39:59.116013Z"
    },
    "papermill": {
     "duration": 64.5978,
     "end_time": "2022-03-15T11:03:38.623195",
     "exception": false,
     "start_time": "2022-03-15T11:02:34.025395",
     "status": "completed"
    },
    "tags": []
   },
   "outputs": [],
   "source": [
    "# customerごとに何か購入したweek\n",
    "customer2weeks = df.groupby('customer_id')['week_no'].unique()\n",
    "\n",
    "# customerごとに学習データの特徴量となるweekとラベルとなるweekのペアを作る。\n",
    "customer2weekpairs = {}\n",
    "\n",
    "for c_id, weeks in customer2weeks.items():\n",
    "    customer2weekpairs[c_id] = {}\n",
    "    for i in range(weeks.shape[0]-1):\n",
    "        customer2weekpairs[c_id][weeks[i]] = weeks[i+1]\n",
    "    customer2weekpairs[c_id][weeks[-1]] = test_week"
   ]
  },
  {
   "cell_type": "code",
   "execution_count": 12,
   "id": "285fdf3b",
   "metadata": {
    "execution": {
     "iopub.execute_input": "2022-03-15T11:03:38.694800Z",
     "iopub.status.busy": "2022-03-15T11:03:38.694191Z",
     "iopub.status.idle": "2022-03-15T11:03:38.700204Z",
     "shell.execute_reply": "2022-03-15T11:03:38.700727Z",
     "shell.execute_reply.started": "2022-03-15T10:40:57.802516Z"
    },
    "papermill": {
     "duration": 0.04341,
     "end_time": "2022-03-15T11:03:38.700916",
     "exception": false,
     "start_time": "2022-03-15T11:03:38.657506",
     "status": "completed"
    },
    "tags": []
   },
   "outputs": [],
   "source": [
    "def join(df):\n",
    "    x = [str(e) for e in list(df)]\n",
    "    return \" \".join(x)\n",
    "\n",
    "def label_prev_week(input_df):\n",
    "    weeks = []\n",
    "    for i, (c_id, week) in enumerate(zip(input_df['customer_id'], input_df['week_no'])):\n",
    "        weeks.append(customer2weekpairs[c_id][week])\n",
    "    input_df.week_no=weeks\n",
    "    return input_df"
   ]
  },
  {
   "cell_type": "code",
   "execution_count": 13,
   "id": "70be5bf0",
   "metadata": {
    "execution": {
     "iopub.execute_input": "2022-03-15T11:03:38.771404Z",
     "iopub.status.busy": "2022-03-15T11:03:38.770739Z",
     "iopub.status.idle": "2022-03-15T11:03:38.792649Z",
     "shell.execute_reply": "2022-03-15T11:03:38.792093Z",
     "shell.execute_reply.started": "2022-03-15T10:40:57.810747Z"
    },
    "papermill": {
     "duration": 0.057868,
     "end_time": "2022-03-15T11:03:38.792796",
     "exception": false,
     "start_time": "2022-03-15T11:03:38.734928",
     "status": "completed"
    },
    "tags": []
   },
   "outputs": [],
   "source": [
    "class AbstractBaseBlock:\n",
    "    def fit(self, input_df, y=None):\n",
    "        return self.transform(input_df)\n",
    "\n",
    "    def transform(self, input_df):\n",
    "        raise NotImplementedError()\n",
    "        \n",
    "class UserHistoryEveryBlock(AbstractBaseBlock):\n",
    "    \"\"\"ユーザーの数値履歴を週間で集計した特徴量を付与する block 累積ではない\"\"\"\n",
    "    def __init__(self, item):\n",
    "        self.item = item\n",
    "\n",
    "    def fit(self, input_df, y=None):\n",
    "        out = input_df \\\n",
    "        .groupby(['customer_id', 'week_no'])[self.item].agg([\"sum\", \"std\", \"max\", \"min\"]).add_prefix(\"u_prev_\"+self.item+\"_\").reset_index()\n",
    "        out = label_prev_week(out)\n",
    "        return self.transform(out)\n",
    "\n",
    "    def transform(self, input_df):\n",
    "        return input_df\n",
    "    \n",
    "class UserHistoryVectorEveryBlock(AbstractBaseBlock):\n",
    "    \"\"\"ユーザーの文字履歴を週間で集計しベクトル化した特徴量を付与する block 累積ではない\"\"\"\n",
    "    def __init__(self, item, n_components = 5):\n",
    "        self.item = item\n",
    "        self.n_components = n_components\n",
    "        \n",
    "    def fit(self, input_df, y=None):\n",
    "        docs = input_df.groupby([\"customer_id\", \"week_no\"])[self.item].apply(join)\n",
    "        max_features = int(input_df[self.item].nunique() * 0.8)\n",
    "        tv = TfidfVectorizer(max_features=max_features)\n",
    "        X = tv.fit_transform(docs)\n",
    "        \n",
    "        svd = TruncatedSVD(n_components=self.n_components, random_state=0)\n",
    "        X = svd.fit_transform(X)\n",
    "        result = pd.DataFrame(X, columns=[f\"u_{self.item}_{i}\" for i in range(self.n_components)])\n",
    "        result.index = docs.index\n",
    "        result = result.reset_index()\n",
    "        result = label_prev_week(result)\n",
    "        return self.transform(result)\n",
    "  \n",
    "    def transform(self, input_df):\n",
    "        return input_df  \n",
    "\n",
    "class ItemHistoryEveryBlock(AbstractBaseBlock):\n",
    "    \"\"\"アイテムの数値履歴を週間で集計した特徴量を付与する block 累積ではない\"\"\"\n",
    "    def __init__(self, item):\n",
    "        self.item = item\n",
    "\n",
    "    def fit(self, input_df, y=None):\n",
    "        out = input_df \\\n",
    "        .groupby(['week_no'])[self.item].value_counts()\n",
    "        out = out.to_frame(\"sale_count\").reset_index()\n",
    "        return self.transform(out)\n",
    "\n",
    "    def transform(self, input_df):\n",
    "        return input_df\n",
    "    \n",
    "class ItemHistorySumBlock(AbstractBaseBlock):\n",
    "    \"\"\"アイテムの数値履歴を週間で集計した特徴量を付与する block 累積ではない\"\"\"\n",
    "    def __init__(self, item):\n",
    "        self.item = item\n",
    "\n",
    "    def fit(self, input_df, y=None):\n",
    "        out = input_df \\\n",
    "        .groupby(['week_no', self.item])['price'].agg([\"sum\"]).add_prefix(\"sale_\").reset_index()\n",
    "        return self.transform(out)\n",
    "\n",
    "    def transform(self, input_df):\n",
    "        return input_df"
   ]
  },
  {
   "cell_type": "code",
   "execution_count": 14,
   "id": "df35b8d5",
   "metadata": {
    "execution": {
     "iopub.execute_input": "2022-03-15T11:03:38.865169Z",
     "iopub.status.busy": "2022-03-15T11:03:38.864479Z",
     "iopub.status.idle": "2022-03-15T11:10:38.802682Z",
     "shell.execute_reply": "2022-03-15T11:10:38.802125Z",
     "shell.execute_reply.started": "2022-03-15T10:41:21.294815Z"
    },
    "papermill": {
     "duration": 419.975931,
     "end_time": "2022-03-15T11:10:38.802835",
     "exception": false,
     "start_time": "2022-03-15T11:03:38.826904",
     "status": "completed"
    },
    "tags": []
   },
   "outputs": [],
   "source": [
    "# user_features\n",
    "feature_blocks = [\n",
    "#    UserHistoryEveryBlock(\"price\"),\n",
    "    UserHistoryVectorEveryBlock(\"section_no\"),\n",
    "    UserHistoryVectorEveryBlock(\"garment_group_no\"),\n",
    "]\n",
    "\n",
    "for i, block in enumerate(feature_blocks):\n",
    "    if i == 0:\n",
    "        user_features_df = block.fit(df)\n",
    "    else:\n",
    "        out_i = block.fit(df)\n",
    "        user_features_df = pd.merge(user_features_df, out_i, on = [\"customer_id\", \"week_no\"], how=\"left\")\n",
    "        \n",
    "user_features_df.to_csv(\"user_features.csv\", index=False)\n",
    "del user_features_df"
   ]
  },
  {
   "cell_type": "code",
   "execution_count": 15,
   "id": "43867f52",
   "metadata": {
    "execution": {
     "iopub.execute_input": "2022-03-15T11:10:38.876870Z",
     "iopub.status.busy": "2022-03-15T11:10:38.876013Z",
     "iopub.status.idle": "2022-03-15T11:10:48.870955Z",
     "shell.execute_reply": "2022-03-15T11:10:48.870504Z",
     "shell.execute_reply.started": "2022-03-15T10:48:28.618852Z"
    },
    "papermill": {
     "duration": 10.032414,
     "end_time": "2022-03-15T11:10:48.871099",
     "exception": false,
     "start_time": "2022-03-15T11:10:38.838685",
     "status": "completed"
    },
    "tags": []
   },
   "outputs": [],
   "source": [
    "# item_features\n",
    "article_count = ItemHistoryEveryBlock(\"article_id\").fit(df)\n",
    "article_count.to_csv(\"article_count.csv\", index=False)\n",
    "\n",
    "article_sale = ItemHistorySumBlock(\"article_id\").fit(df)\n",
    "article_sale.to_csv(\"article_sale.csv\", index=False)"
   ]
  },
  {
   "cell_type": "code",
   "execution_count": null,
   "id": "0004e409",
   "metadata": {
    "papermill": {
     "duration": 0.023822,
     "end_time": "2022-03-15T11:10:48.919240",
     "exception": false,
     "start_time": "2022-03-15T11:10:48.895418",
     "status": "completed"
    },
    "tags": []
   },
   "outputs": [],
   "source": []
  }
 ],
 "metadata": {
  "kernelspec": {
   "display_name": "Python 3",
   "language": "python",
   "name": "python3"
  },
  "language_info": {
   "codemirror_mode": {
    "name": "ipython",
    "version": 3
   },
   "file_extension": ".py",
   "mimetype": "text/x-python",
   "name": "python",
   "nbconvert_exporter": "python",
   "pygments_lexer": "ipython3",
   "version": "3.7.12"
  },
  "papermill": {
   "default_parameters": {},
   "duration": 958.304304,
   "end_time": "2022-03-15T11:10:51.553105",
   "environment_variables": {},
   "exception": null,
   "input_path": "__notebook__.ipynb",
   "output_path": "__notebook__.ipynb",
   "parameters": {},
   "start_time": "2022-03-15T10:54:53.248801",
   "version": "2.3.3"
  },
  "widgets": {
   "application/vnd.jupyter.widget-state+json": {
    "state": {
     "0ec94f461dec4745b949122b54bb8d7d": {
      "model_module": "@jupyter-widgets/controls",
      "model_module_version": "1.5.0",
      "model_name": "ProgressStyleModel",
      "state": {
       "_model_module": "@jupyter-widgets/controls",
       "_model_module_version": "1.5.0",
       "_model_name": "ProgressStyleModel",
       "_view_count": null,
       "_view_module": "@jupyter-widgets/base",
       "_view_module_version": "1.2.0",
       "_view_name": "StyleView",
       "bar_color": null,
       "description_width": ""
      }
     },
     "18ccc3c869fc4c02977f75d9daf383fc": {
      "model_module": "@jupyter-widgets/controls",
      "model_module_version": "1.5.0",
      "model_name": "HBoxModel",
      "state": {
       "_dom_classes": [],
       "_model_module": "@jupyter-widgets/controls",
       "_model_module_version": "1.5.0",
       "_model_name": "HBoxModel",
       "_view_count": null,
       "_view_module": "@jupyter-widgets/controls",
       "_view_module_version": "1.5.0",
       "_view_name": "HBoxView",
       "box_style": "",
       "children": [
        "IPY_MODEL_96268ad0c716404a8fadc52fc11e7860",
        "IPY_MODEL_8088b425d28d4a7eac56842f87b6bf82",
        "IPY_MODEL_427a942a1f0748cb87dc62243fd80657"
       ],
       "layout": "IPY_MODEL_ebd5f8d219dc4562995bf3dde257787c"
      }
     },
     "245c190a000d47a59aec0bcaac1bfff9": {
      "model_module": "@jupyter-widgets/base",
      "model_module_version": "1.2.0",
      "model_name": "LayoutModel",
      "state": {
       "_model_module": "@jupyter-widgets/base",
       "_model_module_version": "1.2.0",
       "_model_name": "LayoutModel",
       "_view_count": null,
       "_view_module": "@jupyter-widgets/base",
       "_view_module_version": "1.2.0",
       "_view_name": "LayoutView",
       "align_content": null,
       "align_items": null,
       "align_self": null,
       "border": null,
       "bottom": null,
       "display": null,
       "flex": null,
       "flex_flow": null,
       "grid_area": null,
       "grid_auto_columns": null,
       "grid_auto_flow": null,
       "grid_auto_rows": null,
       "grid_column": null,
       "grid_gap": null,
       "grid_row": null,
       "grid_template_areas": null,
       "grid_template_columns": null,
       "grid_template_rows": null,
       "height": null,
       "justify_content": null,
       "justify_items": null,
       "left": null,
       "margin": null,
       "max_height": null,
       "max_width": null,
       "min_height": null,
       "min_width": null,
       "object_fit": null,
       "object_position": null,
       "order": null,
       "overflow": null,
       "overflow_x": null,
       "overflow_y": null,
       "padding": null,
       "right": null,
       "top": null,
       "visibility": null,
       "width": null
      }
     },
     "3c329a40eef14c168751bfe35132754d": {
      "model_module": "@jupyter-widgets/controls",
      "model_module_version": "1.5.0",
      "model_name": "HTMLModel",
      "state": {
       "_dom_classes": [],
       "_model_module": "@jupyter-widgets/controls",
       "_model_module_version": "1.5.0",
       "_model_name": "HTMLModel",
       "_view_count": null,
       "_view_module": "@jupyter-widgets/controls",
       "_view_module_version": "1.5.0",
       "_view_name": "HTMLView",
       "description": "",
       "description_tooltip": null,
       "layout": "IPY_MODEL_6a77f538d5ea4602adcd6a376c76ab7d",
       "placeholder": "​",
       "style": "IPY_MODEL_bd400c688cf44af5ae7696afc0826ed5",
       "value": " 5/5 [01:40&lt;00:00, 20.25s/it]"
      }
     },
     "427a942a1f0748cb87dc62243fd80657": {
      "model_module": "@jupyter-widgets/controls",
      "model_module_version": "1.5.0",
      "model_name": "HTMLModel",
      "state": {
       "_dom_classes": [],
       "_model_module": "@jupyter-widgets/controls",
       "_model_module_version": "1.5.0",
       "_model_name": "HTMLModel",
       "_view_count": null,
       "_view_module": "@jupyter-widgets/controls",
       "_view_module_version": "1.5.0",
       "_view_name": "HTMLView",
       "description": "",
       "description_tooltip": null,
       "layout": "IPY_MODEL_efa4d61b349a4dc2baeea89bc4c6ec71",
       "placeholder": "​",
       "style": "IPY_MODEL_86830c167baf4c7ca135d2bd0642ec01",
       "value": " 5/5 [01:42&lt;00:00, 20.69s/it]"
      }
     },
     "6a77f538d5ea4602adcd6a376c76ab7d": {
      "model_module": "@jupyter-widgets/base",
      "model_module_version": "1.2.0",
      "model_name": "LayoutModel",
      "state": {
       "_model_module": "@jupyter-widgets/base",
       "_model_module_version": "1.2.0",
       "_model_name": "LayoutModel",
       "_view_count": null,
       "_view_module": "@jupyter-widgets/base",
       "_view_module_version": "1.2.0",
       "_view_name": "LayoutView",
       "align_content": null,
       "align_items": null,
       "align_self": null,
       "border": null,
       "bottom": null,
       "display": null,
       "flex": null,
       "flex_flow": null,
       "grid_area": null,
       "grid_auto_columns": null,
       "grid_auto_flow": null,
       "grid_auto_rows": null,
       "grid_column": null,
       "grid_gap": null,
       "grid_row": null,
       "grid_template_areas": null,
       "grid_template_columns": null,
       "grid_template_rows": null,
       "height": null,
       "justify_content": null,
       "justify_items": null,
       "left": null,
       "margin": null,
       "max_height": null,
       "max_width": null,
       "min_height": null,
       "min_width": null,
       "object_fit": null,
       "object_position": null,
       "order": null,
       "overflow": null,
       "overflow_x": null,
       "overflow_y": null,
       "padding": null,
       "right": null,
       "top": null,
       "visibility": null,
       "width": null
      }
     },
     "6e07609354b249c49d4f03a84cf4d3a6": {
      "model_module": "@jupyter-widgets/base",
      "model_module_version": "1.2.0",
      "model_name": "LayoutModel",
      "state": {
       "_model_module": "@jupyter-widgets/base",
       "_model_module_version": "1.2.0",
       "_model_name": "LayoutModel",
       "_view_count": null,
       "_view_module": "@jupyter-widgets/base",
       "_view_module_version": "1.2.0",
       "_view_name": "LayoutView",
       "align_content": null,
       "align_items": null,
       "align_self": null,
       "border": null,
       "bottom": null,
       "display": null,
       "flex": null,
       "flex_flow": null,
       "grid_area": null,
       "grid_auto_columns": null,
       "grid_auto_flow": null,
       "grid_auto_rows": null,
       "grid_column": null,
       "grid_gap": null,
       "grid_row": null,
       "grid_template_areas": null,
       "grid_template_columns": null,
       "grid_template_rows": null,
       "height": null,
       "justify_content": null,
       "justify_items": null,
       "left": null,
       "margin": null,
       "max_height": null,
       "max_width": null,
       "min_height": null,
       "min_width": null,
       "object_fit": null,
       "object_position": null,
       "order": null,
       "overflow": null,
       "overflow_x": null,
       "overflow_y": null,
       "padding": null,
       "right": null,
       "top": null,
       "visibility": null,
       "width": null
      }
     },
     "706979a0018b4dfa9ab43df3d59eef31": {
      "model_module": "@jupyter-widgets/base",
      "model_module_version": "1.2.0",
      "model_name": "LayoutModel",
      "state": {
       "_model_module": "@jupyter-widgets/base",
       "_model_module_version": "1.2.0",
       "_model_name": "LayoutModel",
       "_view_count": null,
       "_view_module": "@jupyter-widgets/base",
       "_view_module_version": "1.2.0",
       "_view_name": "LayoutView",
       "align_content": null,
       "align_items": null,
       "align_self": null,
       "border": null,
       "bottom": null,
       "display": null,
       "flex": null,
       "flex_flow": null,
       "grid_area": null,
       "grid_auto_columns": null,
       "grid_auto_flow": null,
       "grid_auto_rows": null,
       "grid_column": null,
       "grid_gap": null,
       "grid_row": null,
       "grid_template_areas": null,
       "grid_template_columns": null,
       "grid_template_rows": null,
       "height": null,
       "justify_content": null,
       "justify_items": null,
       "left": null,
       "margin": null,
       "max_height": null,
       "max_width": null,
       "min_height": null,
       "min_width": null,
       "object_fit": null,
       "object_position": null,
       "order": null,
       "overflow": null,
       "overflow_x": null,
       "overflow_y": null,
       "padding": null,
       "right": null,
       "top": null,
       "visibility": null,
       "width": null
      }
     },
     "711c0f1a95e14682a065a1915b457074": {
      "model_module": "@jupyter-widgets/controls",
      "model_module_version": "1.5.0",
      "model_name": "HTMLModel",
      "state": {
       "_dom_classes": [],
       "_model_module": "@jupyter-widgets/controls",
       "_model_module_version": "1.5.0",
       "_model_name": "HTMLModel",
       "_view_count": null,
       "_view_module": "@jupyter-widgets/controls",
       "_view_module_version": "1.5.0",
       "_view_name": "HTMLView",
       "description": "",
       "description_tooltip": null,
       "layout": "IPY_MODEL_7616e0900e87451eb9c1a9844cc38f5b",
       "placeholder": "​",
       "style": "IPY_MODEL_f3c2dab68d444733bfed66c04abdd21e",
       "value": "100%"
      }
     },
     "7616e0900e87451eb9c1a9844cc38f5b": {
      "model_module": "@jupyter-widgets/base",
      "model_module_version": "1.2.0",
      "model_name": "LayoutModel",
      "state": {
       "_model_module": "@jupyter-widgets/base",
       "_model_module_version": "1.2.0",
       "_model_name": "LayoutModel",
       "_view_count": null,
       "_view_module": "@jupyter-widgets/base",
       "_view_module_version": "1.2.0",
       "_view_name": "LayoutView",
       "align_content": null,
       "align_items": null,
       "align_self": null,
       "border": null,
       "bottom": null,
       "display": null,
       "flex": null,
       "flex_flow": null,
       "grid_area": null,
       "grid_auto_columns": null,
       "grid_auto_flow": null,
       "grid_auto_rows": null,
       "grid_column": null,
       "grid_gap": null,
       "grid_row": null,
       "grid_template_areas": null,
       "grid_template_columns": null,
       "grid_template_rows": null,
       "height": null,
       "justify_content": null,
       "justify_items": null,
       "left": null,
       "margin": null,
       "max_height": null,
       "max_width": null,
       "min_height": null,
       "min_width": null,
       "object_fit": null,
       "object_position": null,
       "order": null,
       "overflow": null,
       "overflow_x": null,
       "overflow_y": null,
       "padding": null,
       "right": null,
       "top": null,
       "visibility": null,
       "width": null
      }
     },
     "7d1873b4bd5649b18a0b764c03d82b0e": {
      "model_module": "@jupyter-widgets/controls",
      "model_module_version": "1.5.0",
      "model_name": "FloatProgressModel",
      "state": {
       "_dom_classes": [],
       "_model_module": "@jupyter-widgets/controls",
       "_model_module_version": "1.5.0",
       "_model_name": "FloatProgressModel",
       "_view_count": null,
       "_view_module": "@jupyter-widgets/controls",
       "_view_module_version": "1.5.0",
       "_view_name": "ProgressView",
       "bar_style": "success",
       "description": "",
       "description_tooltip": null,
       "layout": "IPY_MODEL_245c190a000d47a59aec0bcaac1bfff9",
       "max": 5.0,
       "min": 0.0,
       "orientation": "horizontal",
       "style": "IPY_MODEL_c44b82edc3034312a8a2c7c1de3d6b10",
       "value": 5.0
      }
     },
     "8088b425d28d4a7eac56842f87b6bf82": {
      "model_module": "@jupyter-widgets/controls",
      "model_module_version": "1.5.0",
      "model_name": "FloatProgressModel",
      "state": {
       "_dom_classes": [],
       "_model_module": "@jupyter-widgets/controls",
       "_model_module_version": "1.5.0",
       "_model_name": "FloatProgressModel",
       "_view_count": null,
       "_view_module": "@jupyter-widgets/controls",
       "_view_module_version": "1.5.0",
       "_view_name": "ProgressView",
       "bar_style": "success",
       "description": "",
       "description_tooltip": null,
       "layout": "IPY_MODEL_6e07609354b249c49d4f03a84cf4d3a6",
       "max": 5.0,
       "min": 0.0,
       "orientation": "horizontal",
       "style": "IPY_MODEL_0ec94f461dec4745b949122b54bb8d7d",
       "value": 5.0
      }
     },
     "86830c167baf4c7ca135d2bd0642ec01": {
      "model_module": "@jupyter-widgets/controls",
      "model_module_version": "1.5.0",
      "model_name": "DescriptionStyleModel",
      "state": {
       "_model_module": "@jupyter-widgets/controls",
       "_model_module_version": "1.5.0",
       "_model_name": "DescriptionStyleModel",
       "_view_count": null,
       "_view_module": "@jupyter-widgets/base",
       "_view_module_version": "1.2.0",
       "_view_name": "StyleView",
       "description_width": ""
      }
     },
     "96268ad0c716404a8fadc52fc11e7860": {
      "model_module": "@jupyter-widgets/controls",
      "model_module_version": "1.5.0",
      "model_name": "HTMLModel",
      "state": {
       "_dom_classes": [],
       "_model_module": "@jupyter-widgets/controls",
       "_model_module_version": "1.5.0",
       "_model_name": "HTMLModel",
       "_view_count": null,
       "_view_module": "@jupyter-widgets/controls",
       "_view_module_version": "1.5.0",
       "_view_name": "HTMLView",
       "description": "",
       "description_tooltip": null,
       "layout": "IPY_MODEL_d398ca299d2c406db9426a543440587e",
       "placeholder": "​",
       "style": "IPY_MODEL_a610e29967384e418475ae61b5b2cf92",
       "value": "100%"
      }
     },
     "a610e29967384e418475ae61b5b2cf92": {
      "model_module": "@jupyter-widgets/controls",
      "model_module_version": "1.5.0",
      "model_name": "DescriptionStyleModel",
      "state": {
       "_model_module": "@jupyter-widgets/controls",
       "_model_module_version": "1.5.0",
       "_model_name": "DescriptionStyleModel",
       "_view_count": null,
       "_view_module": "@jupyter-widgets/base",
       "_view_module_version": "1.2.0",
       "_view_name": "StyleView",
       "description_width": ""
      }
     },
     "bd400c688cf44af5ae7696afc0826ed5": {
      "model_module": "@jupyter-widgets/controls",
      "model_module_version": "1.5.0",
      "model_name": "DescriptionStyleModel",
      "state": {
       "_model_module": "@jupyter-widgets/controls",
       "_model_module_version": "1.5.0",
       "_model_name": "DescriptionStyleModel",
       "_view_count": null,
       "_view_module": "@jupyter-widgets/base",
       "_view_module_version": "1.2.0",
       "_view_name": "StyleView",
       "description_width": ""
      }
     },
     "c44b82edc3034312a8a2c7c1de3d6b10": {
      "model_module": "@jupyter-widgets/controls",
      "model_module_version": "1.5.0",
      "model_name": "ProgressStyleModel",
      "state": {
       "_model_module": "@jupyter-widgets/controls",
       "_model_module_version": "1.5.0",
       "_model_name": "ProgressStyleModel",
       "_view_count": null,
       "_view_module": "@jupyter-widgets/base",
       "_view_module_version": "1.2.0",
       "_view_name": "StyleView",
       "bar_color": null,
       "description_width": ""
      }
     },
     "d398ca299d2c406db9426a543440587e": {
      "model_module": "@jupyter-widgets/base",
      "model_module_version": "1.2.0",
      "model_name": "LayoutModel",
      "state": {
       "_model_module": "@jupyter-widgets/base",
       "_model_module_version": "1.2.0",
       "_model_name": "LayoutModel",
       "_view_count": null,
       "_view_module": "@jupyter-widgets/base",
       "_view_module_version": "1.2.0",
       "_view_name": "LayoutView",
       "align_content": null,
       "align_items": null,
       "align_self": null,
       "border": null,
       "bottom": null,
       "display": null,
       "flex": null,
       "flex_flow": null,
       "grid_area": null,
       "grid_auto_columns": null,
       "grid_auto_flow": null,
       "grid_auto_rows": null,
       "grid_column": null,
       "grid_gap": null,
       "grid_row": null,
       "grid_template_areas": null,
       "grid_template_columns": null,
       "grid_template_rows": null,
       "height": null,
       "justify_content": null,
       "justify_items": null,
       "left": null,
       "margin": null,
       "max_height": null,
       "max_width": null,
       "min_height": null,
       "min_width": null,
       "object_fit": null,
       "object_position": null,
       "order": null,
       "overflow": null,
       "overflow_x": null,
       "overflow_y": null,
       "padding": null,
       "right": null,
       "top": null,
       "visibility": null,
       "width": null
      }
     },
     "ebd5f8d219dc4562995bf3dde257787c": {
      "model_module": "@jupyter-widgets/base",
      "model_module_version": "1.2.0",
      "model_name": "LayoutModel",
      "state": {
       "_model_module": "@jupyter-widgets/base",
       "_model_module_version": "1.2.0",
       "_model_name": "LayoutModel",
       "_view_count": null,
       "_view_module": "@jupyter-widgets/base",
       "_view_module_version": "1.2.0",
       "_view_name": "LayoutView",
       "align_content": null,
       "align_items": null,
       "align_self": null,
       "border": null,
       "bottom": null,
       "display": null,
       "flex": null,
       "flex_flow": null,
       "grid_area": null,
       "grid_auto_columns": null,
       "grid_auto_flow": null,
       "grid_auto_rows": null,
       "grid_column": null,
       "grid_gap": null,
       "grid_row": null,
       "grid_template_areas": null,
       "grid_template_columns": null,
       "grid_template_rows": null,
       "height": null,
       "justify_content": null,
       "justify_items": null,
       "left": null,
       "margin": null,
       "max_height": null,
       "max_width": null,
       "min_height": null,
       "min_width": null,
       "object_fit": null,
       "object_position": null,
       "order": null,
       "overflow": null,
       "overflow_x": null,
       "overflow_y": null,
       "padding": null,
       "right": null,
       "top": null,
       "visibility": null,
       "width": null
      }
     },
     "efa4d61b349a4dc2baeea89bc4c6ec71": {
      "model_module": "@jupyter-widgets/base",
      "model_module_version": "1.2.0",
      "model_name": "LayoutModel",
      "state": {
       "_model_module": "@jupyter-widgets/base",
       "_model_module_version": "1.2.0",
       "_model_name": "LayoutModel",
       "_view_count": null,
       "_view_module": "@jupyter-widgets/base",
       "_view_module_version": "1.2.0",
       "_view_name": "LayoutView",
       "align_content": null,
       "align_items": null,
       "align_self": null,
       "border": null,
       "bottom": null,
       "display": null,
       "flex": null,
       "flex_flow": null,
       "grid_area": null,
       "grid_auto_columns": null,
       "grid_auto_flow": null,
       "grid_auto_rows": null,
       "grid_column": null,
       "grid_gap": null,
       "grid_row": null,
       "grid_template_areas": null,
       "grid_template_columns": null,
       "grid_template_rows": null,
       "height": null,
       "justify_content": null,
       "justify_items": null,
       "left": null,
       "margin": null,
       "max_height": null,
       "max_width": null,
       "min_height": null,
       "min_width": null,
       "object_fit": null,
       "object_position": null,
       "order": null,
       "overflow": null,
       "overflow_x": null,
       "overflow_y": null,
       "padding": null,
       "right": null,
       "top": null,
       "visibility": null,
       "width": null
      }
     },
     "f3c2dab68d444733bfed66c04abdd21e": {
      "model_module": "@jupyter-widgets/controls",
      "model_module_version": "1.5.0",
      "model_name": "DescriptionStyleModel",
      "state": {
       "_model_module": "@jupyter-widgets/controls",
       "_model_module_version": "1.5.0",
       "_model_name": "DescriptionStyleModel",
       "_view_count": null,
       "_view_module": "@jupyter-widgets/base",
       "_view_module_version": "1.2.0",
       "_view_name": "StyleView",
       "description_width": ""
      }
     },
     "f533b852c8a84971a34a4ade1139ee5b": {
      "model_module": "@jupyter-widgets/controls",
      "model_module_version": "1.5.0",
      "model_name": "HBoxModel",
      "state": {
       "_dom_classes": [],
       "_model_module": "@jupyter-widgets/controls",
       "_model_module_version": "1.5.0",
       "_model_name": "HBoxModel",
       "_view_count": null,
       "_view_module": "@jupyter-widgets/controls",
       "_view_module_version": "1.5.0",
       "_view_name": "HBoxView",
       "box_style": "",
       "children": [
        "IPY_MODEL_711c0f1a95e14682a065a1915b457074",
        "IPY_MODEL_7d1873b4bd5649b18a0b764c03d82b0e",
        "IPY_MODEL_3c329a40eef14c168751bfe35132754d"
       ],
       "layout": "IPY_MODEL_706979a0018b4dfa9ab43df3d59eef31"
      }
     }
    },
    "version_major": 2,
    "version_minor": 0
   }
  }
 },
 "nbformat": 4,
 "nbformat_minor": 5
}
