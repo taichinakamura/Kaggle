{
 "cells": [
  {
   "cell_type": "markdown",
   "id": "0c6af1e3",
   "metadata": {
    "execution": {
     "iopub.execute_input": "2022-03-07T23:26:29.454418Z",
     "iopub.status.busy": "2022-03-07T23:26:29.454082Z",
     "iopub.status.idle": "2022-03-07T23:27:40.64148Z",
     "shell.execute_reply": "2022-03-07T23:27:40.640021Z",
     "shell.execute_reply.started": "2022-03-07T23:26:29.454386Z"
    },
    "papermill": {
     "duration": 0.023675,
     "end_time": "2022-03-09T08:33:59.290314",
     "exception": false,
     "start_time": "2022-03-09T08:33:59.266639",
     "status": "completed"
    },
    "tags": []
   },
   "source": [
    "- consider only item features\n",
    "- modify functions for predictions of cold users"
   ]
  },
  {
   "cell_type": "code",
   "execution_count": 1,
   "id": "09a9cb9c",
   "metadata": {
    "execution": {
     "iopub.execute_input": "2022-03-09T08:33:59.344356Z",
     "iopub.status.busy": "2022-03-09T08:33:59.343720Z",
     "iopub.status.idle": "2022-03-09T08:35:01.001772Z",
     "shell.execute_reply": "2022-03-09T08:35:01.000878Z",
     "shell.execute_reply.started": "2022-03-09T08:27:56.946733Z"
    },
    "papermill": {
     "duration": 61.68894,
     "end_time": "2022-03-09T08:35:01.001953",
     "exception": false,
     "start_time": "2022-03-09T08:33:59.313013",
     "status": "completed"
    },
    "tags": []
   },
   "outputs": [
    {
     "name": "stdout",
     "output_type": "stream",
     "text": [
      "Collecting similaripy\r\n",
      "  Downloading similaripy-0.1.2.tar.gz (331 kB)\r\n",
      "     |████████████████████████████████| 331 kB 599 kB/s            \r\n",
      "\u001b[?25h  Preparing metadata (setup.py) ... \u001b[?25l-\b \b\\\b \bdone\r\n",
      "\u001b[?25hRequirement already satisfied: scipy>=1.0.0 in /opt/conda/lib/python3.7/site-packages (from similaripy) (1.7.3)\r\n",
      "Requirement already satisfied: numpy>=1.14.0 in /opt/conda/lib/python3.7/site-packages (from similaripy) (1.20.3)\r\n",
      "Requirement already satisfied: tqdm>=4.19.6 in /opt/conda/lib/python3.7/site-packages (from similaripy) (4.62.3)\r\n",
      "Building wheels for collected packages: similaripy\r\n",
      "  Building wheel for similaripy (setup.py) ... \u001b[?25l-\b \b\\\b \b|\b \b/\b \b-\b \b\\\b \b|\b \b/\b \bdone\r\n",
      "\u001b[?25h  Created wheel for similaripy: filename=similaripy-0.1.2-cp37-cp37m-linux_x86_64.whl size=2040900 sha256=a2b607d1aa08251a418e11efd2295b02e3615937bf59a765fae407bcb33f0626\r\n",
      "  Stored in directory: /root/.cache/pip/wheels/2e/81/4b/7a396ebc45534553ddee1eb106d99023df4d9d09b53b13cc66\r\n",
      "Successfully built similaripy\r\n",
      "Installing collected packages: similaripy\r\n",
      "Successfully installed similaripy-0.1.2\r\n",
      "\u001b[33mWARNING: Running pip as the 'root' user can result in broken permissions and conflicting behaviour with the system package manager. It is recommended to use a virtual environment instead: https://pip.pypa.io/warnings/venv\u001b[0m\r\n"
     ]
    }
   ],
   "source": [
    "!pip install similaripy"
   ]
  },
  {
   "cell_type": "code",
   "execution_count": 2,
   "id": "c34b41e4",
   "metadata": {
    "execution": {
     "iopub.execute_input": "2022-03-09T08:35:01.073709Z",
     "iopub.status.busy": "2022-03-09T08:35:01.072686Z",
     "iopub.status.idle": "2022-03-09T08:35:02.482858Z",
     "shell.execute_reply": "2022-03-09T08:35:02.481880Z",
     "shell.execute_reply.started": "2022-03-09T08:29:02.016743Z"
    },
    "papermill": {
     "duration": 1.448788,
     "end_time": "2022-03-09T08:35:02.483006",
     "exception": false,
     "start_time": "2022-03-09T08:35:01.034218",
     "status": "completed"
    },
    "tags": []
   },
   "outputs": [],
   "source": [
    "import numpy as np\n",
    "import pandas as pd\n",
    "from tqdm import tqdm\n",
    "from sklearn import preprocessing\n",
    "from scipy.sparse import coo_matrix\n",
    "from sklearn.decomposition import TruncatedSVD\n",
    "from sklearn.feature_extraction.text import TfidfVectorizer\n",
    "from sklearn.decomposition import LatentDirichletAllocation\n",
    "import implicit\n",
    "import similaripy\n",
    "\n",
    "import warnings\n",
    "warnings.filterwarnings('ignore')\n",
    "\n",
    "tqdm.pandas()"
   ]
  },
  {
   "cell_type": "code",
   "execution_count": 3,
   "id": "48267bdb",
   "metadata": {
    "execution": {
     "iopub.execute_input": "2022-03-09T08:35:02.548221Z",
     "iopub.status.busy": "2022-03-09T08:35:02.547488Z",
     "iopub.status.idle": "2022-03-09T08:36:22.820879Z",
     "shell.execute_reply": "2022-03-09T08:36:22.820140Z",
     "shell.execute_reply.started": "2022-03-09T08:29:03.421699Z"
    },
    "papermill": {
     "duration": 80.307248,
     "end_time": "2022-03-09T08:36:22.821021",
     "exception": false,
     "start_time": "2022-03-09T08:35:02.513773",
     "status": "completed"
    },
    "tags": []
   },
   "outputs": [],
   "source": [
    "DATA_DIR = \"/kaggle/input/h-and-m-personalized-fashion-recommendations/\"\n",
    "df = pd.read_csv(DATA_DIR + \"transactions_train.csv\")\n",
    "article_df = pd.read_csv(DATA_DIR + \"articles.csv\")\n",
    "customer_df = pd.read_csv(DATA_DIR + \"customers.csv\")\n",
    "sub = pd.read_csv(DATA_DIR + 'sample_submission.csv')"
   ]
  },
  {
   "cell_type": "code",
   "execution_count": 4,
   "id": "2e605420",
   "metadata": {
    "execution": {
     "iopub.execute_input": "2022-03-09T08:36:24.590026Z",
     "iopub.status.busy": "2022-03-09T08:36:23.362275Z",
     "iopub.status.idle": "2022-03-09T08:36:57.013061Z",
     "shell.execute_reply": "2022-03-09T08:36:57.012415Z",
     "shell.execute_reply.started": "2022-03-09T08:30:29.112606Z"
    },
    "papermill": {
     "duration": 34.160561,
     "end_time": "2022-03-09T08:36:57.013241",
     "exception": false,
     "start_time": "2022-03-09T08:36:22.852680",
     "status": "completed"
    },
    "tags": []
   },
   "outputs": [],
   "source": [
    "df[\"t_dat\"] = pd.to_datetime(df[\"t_dat\"])\n",
    "\n",
    "date_week_df = df.drop_duplicates(\"t_dat\")[[\"t_dat\"]].reset_index(drop=True)\n",
    "date_week_df['week_no'] = (date_week_df['t_dat'] + pd.DateOffset(days=5)).dt.week\n",
    "date_week_df[\"week_no\"] = date_week_df[\"week_no\"].diff(1)\n",
    "date_week_df[\"week_no\"].fillna(0, inplace=True)\n",
    "date_week_df[\"week_no\"] = date_week_df[\"week_no\"] != 0\n",
    "date_week_df[\"week_no\"] = date_week_df[\"week_no\"].cumsum()\n",
    "\n",
    "df = pd.merge(df, date_week_df, on=\"t_dat\", how=\"left\")\n",
    "\n",
    "df.sort_values(['t_dat', 'customer_id'], inplace=True)\n",
    "\n",
    "test_week = df.week_no.max()\n",
    "last_ts = df['t_dat'].max()"
   ]
  },
  {
   "cell_type": "markdown",
   "id": "7fa61d61",
   "metadata": {
    "papermill": {
     "duration": 0.031901,
     "end_time": "2022-03-09T08:36:57.076602",
     "exception": false,
     "start_time": "2022-03-09T08:36:57.044701",
     "status": "completed"
    },
    "tags": []
   },
   "source": [
    "# first appperance week of article_id"
   ]
  },
  {
   "cell_type": "code",
   "execution_count": 5,
   "id": "633bbc3a",
   "metadata": {
    "execution": {
     "iopub.execute_input": "2022-03-09T08:36:57.148133Z",
     "iopub.status.busy": "2022-03-09T08:36:57.147006Z",
     "iopub.status.idle": "2022-03-09T08:36:58.778882Z",
     "shell.execute_reply": "2022-03-09T08:36:58.779728Z",
     "shell.execute_reply.started": "2022-03-09T08:31:06.196673Z"
    },
    "papermill": {
     "duration": 1.671978,
     "end_time": "2022-03-09T08:36:58.779964",
     "exception": false,
     "start_time": "2022-03-09T08:36:57.107986",
     "status": "completed"
    },
    "tags": []
   },
   "outputs": [],
   "source": [
    "article_week_range = df.groupby(\"article_id\").week_no.agg([\"min\", \"max\"]).reset_index()\n",
    "article_week_range.to_csv('article_week_range.csv', index=None)"
   ]
  },
  {
   "cell_type": "markdown",
   "id": "be97080b",
   "metadata": {
    "papermill": {
     "duration": 0.031257,
     "end_time": "2022-03-09T08:36:58.842471",
     "exception": false,
     "start_time": "2022-03-09T08:36:58.811214",
     "status": "completed"
    },
    "tags": []
   },
   "source": [
    "# preds for cold users\n",
    "- https://www.kaggle.com/byfone/h-m-trending-products-weekly"
   ]
  },
  {
   "cell_type": "code",
   "execution_count": 6,
   "id": "ea79df23",
   "metadata": {
    "execution": {
     "iopub.execute_input": "2022-03-09T08:36:58.910078Z",
     "iopub.status.busy": "2022-03-09T08:36:58.909396Z",
     "iopub.status.idle": "2022-03-09T08:37:01.162739Z",
     "shell.execute_reply": "2022-03-09T08:37:01.162175Z"
    },
    "papermill": {
     "duration": 2.289467,
     "end_time": "2022-03-09T08:37:01.162875",
     "exception": false,
     "start_time": "2022-03-09T08:36:58.873408",
     "status": "completed"
    },
    "tags": []
   },
   "outputs": [],
   "source": [
    "df = df[df.week_no > df.week_no.max() - 50].reset_index(drop=True)"
   ]
  },
  {
   "cell_type": "code",
   "execution_count": 7,
   "id": "104d8975",
   "metadata": {
    "execution": {
     "iopub.execute_input": "2022-03-09T08:37:01.230816Z",
     "iopub.status.busy": "2022-03-09T08:37:01.229703Z",
     "iopub.status.idle": "2022-03-09T08:37:01.247324Z",
     "shell.execute_reply": "2022-03-09T08:37:01.247815Z",
     "shell.execute_reply.started": "2022-03-09T05:55:53.727807Z"
    },
    "papermill": {
     "duration": 0.053194,
     "end_time": "2022-03-09T08:37:01.248016",
     "exception": false,
     "start_time": "2022-03-09T08:37:01.194822",
     "status": "completed"
    },
    "tags": []
   },
   "outputs": [],
   "source": [
    "def make_cold_predictions(input_df, sub):\n",
    "    # Count the number of transactions per week\n",
    "    weekly_sales = input_df.drop('customer_id', axis=1).groupby(['week_no', 'article_id'])['t_dat'].count().reset_index()\n",
    "    weekly_sales = weekly_sales.rename(columns={'t_dat': 'count'})\n",
    "    input_df = pd.merge(input_df, weekly_sales, on=['week_no', 'article_id'], how=\"left\")\n",
    "    \n",
    "    #Let's assume that in the target week sales will be similar to the last week of the training data\n",
    "    weekly_sales = weekly_sales.set_index('article_id')\n",
    "\n",
    "    input_df = input_df.join(\n",
    "        weekly_sales.loc[weekly_sales['week_no']==input_df.week_no.max(), ['count']],\n",
    "        on='article_id', rsuffix=\"_targ\")\n",
    "\n",
    "    input_df['count_targ'].fillna(0, inplace=True)\n",
    "    del weekly_sales\n",
    "    \n",
    "    # Calculate sales rate adjusted for changes in product popularity¶\n",
    "    input_df['quotient'] = input_df['count_targ'] / input_df['count']\n",
    "    \n",
    "    N = 12\n",
    "    # Take supposedly popular products¶\n",
    "    target_sales = input_df.drop('customer_id', axis=1).groupby('article_id')['quotient'].sum()\n",
    "    general_pred = target_sales.nlargest(N).index.tolist()\n",
    "    del target_sales\n",
    "    \n",
    "    # Fill in purchase dictionary¶\n",
    "    purchase_dict = {}\n",
    "\n",
    "    for i in tqdm(input_df.index):\n",
    "        cust_id = input_df.at[i, 'customer_id']\n",
    "        art_id = input_df.at[i, 'article_id']\n",
    "        t_dat = input_df.at[i, 't_dat']\n",
    "\n",
    "        if cust_id not in purchase_dict:\n",
    "            purchase_dict[cust_id] = {}\n",
    "\n",
    "        if art_id not in purchase_dict[cust_id]:\n",
    "            purchase_dict[cust_id][art_id] = 0\n",
    "    \n",
    "        x = max(1, (last_ts - t_dat).days)\n",
    "\n",
    "        a, b, c, d = 2.5e4, 1.5e5, 2e-1, 1e3\n",
    "        y = a / np.sqrt(x) + b * np.exp(-c*x) - d\n",
    "\n",
    "        value = input_df.at[i, 'quotient'] * max(0, y)\n",
    "        purchase_dict[cust_id][art_id] += value\n",
    "        \n",
    "\n",
    "    pred_list = []\n",
    "    for cust_id in tqdm(sub['customer_id']):\n",
    "        if cust_id in purchase_dict:\n",
    "            series = pd.Series(purchase_dict[cust_id])\n",
    "            series = series[series > 0]\n",
    "            l = series.nlargest(N).index.tolist()\n",
    "            if len(l) < N:\n",
    "                l = l + general_pred[:(N-len(l))]\n",
    "        else:\n",
    "            l = general_pred\n",
    "        l = ['0'+str(ele) for ele in l]\n",
    "        pred_list.append(' '.join(l))\n",
    "\n",
    "    sub['prediction'] = pred_list\n",
    "    return sub"
   ]
  },
  {
   "cell_type": "code",
   "execution_count": 8,
   "id": "b1bfbfc3",
   "metadata": {
    "execution": {
     "iopub.execute_input": "2022-03-09T08:37:01.326421Z",
     "iopub.status.busy": "2022-03-09T08:37:01.315856Z",
     "iopub.status.idle": "2022-03-09T09:04:40.823730Z",
     "shell.execute_reply": "2022-03-09T09:04:40.824324Z",
     "shell.execute_reply.started": "2022-03-09T05:55:53.866216Z"
    },
    "papermill": {
     "duration": 1659.543947,
     "end_time": "2022-03-09T09:04:40.824609",
     "exception": false,
     "start_time": "2022-03-09T08:37:01.280662",
     "status": "completed"
    },
    "tags": []
   },
   "outputs": [
    {
     "name": "stderr",
     "output_type": "stream",
     "text": [
      "100%|██████████| 8817060/8817060 [17:03<00:00, 8618.82it/s]\n",
      "100%|██████████| 1371980/1371980 [10:11<00:00, 2242.03it/s]\n"
     ]
    }
   ],
   "source": [
    "tmp1 = df[(df.week_no > test_week-30) & (df.week_no < test_week)].reset_index(drop=True).copy()\n",
    "sub1 = make_cold_predictions(tmp1, sub)\n",
    "sub1.to_csv('cold_user_predictions1.csv', index=None)\n",
    "del tmp1"
   ]
  },
  {
   "cell_type": "code",
   "execution_count": 9,
   "id": "43234b9f",
   "metadata": {
    "execution": {
     "iopub.execute_input": "2022-03-09T09:04:53.194037Z",
     "iopub.status.busy": "2022-03-09T09:04:53.192813Z",
     "iopub.status.idle": "2022-03-09T09:32:40.342580Z",
     "shell.execute_reply": "2022-03-09T09:32:40.341751Z"
    },
    "papermill": {
     "duration": 1673.005315,
     "end_time": "2022-03-09T09:32:40.342770",
     "exception": false,
     "start_time": "2022-03-09T09:04:47.337455",
     "status": "completed"
    },
    "tags": []
   },
   "outputs": [
    {
     "name": "stderr",
     "output_type": "stream",
     "text": [
      "100%|██████████| 9057371/9057371 [17:15<00:00, 8745.24it/s]\n",
      "100%|██████████| 1371980/1371980 [10:08<00:00, 2255.78it/s]\n"
     ]
    }
   ],
   "source": [
    "tmp = df[(df.week_no > test_week-30)].reset_index(drop=True).copy()\n",
    "sub = make_cold_predictions(tmp, sub)\n",
    "sub.to_csv('cold_user_predictions_for_test.csv', index=None)\n",
    "del tmp"
   ]
  },
  {
   "cell_type": "markdown",
   "id": "7b42b106",
   "metadata": {
    "papermill": {
     "duration": 11.709475,
     "end_time": "2022-03-09T09:33:03.954674",
     "exception": false,
     "start_time": "2022-03-09T09:32:52.245199",
     "status": "completed"
    },
    "tags": []
   },
   "source": [
    "# features by implicit"
   ]
  },
  {
   "cell_type": "code",
   "execution_count": 10,
   "id": "f41b4b71",
   "metadata": {
    "execution": {
     "iopub.execute_input": "2022-03-09T09:33:28.195124Z",
     "iopub.status.busy": "2022-03-09T09:33:28.194452Z",
     "iopub.status.idle": "2022-03-09T09:33:28.196804Z",
     "shell.execute_reply": "2022-03-09T09:33:28.196210Z",
     "shell.execute_reply.started": "2022-03-09T03:45:53.20932Z"
    },
    "papermill": {
     "duration": 12.413061,
     "end_time": "2022-03-09T09:33:28.196939",
     "exception": false,
     "start_time": "2022-03-09T09:33:15.783878",
     "status": "completed"
    },
    "tags": []
   },
   "outputs": [],
   "source": [
    "#all_users = df[\"customer_id\"].unique().tolist()\n",
    "#all_items = df[\"article_id\"].unique().tolist()\n",
    "\n",
    "#user_ids = dict(list(enumerate(all_users)))\n",
    "#item_ids = dict(list(enumerate(all_items)))\n",
    "\n",
    "#user_map = {u: uidx for uidx, u in user_ids.items()}\n",
    "#item_map = {u: iidx for iidx, u in item_ids.items()}\n",
    "\n",
    "#df[\"customer_id\"] = df[\"customer_id\"].map(user_map)\n",
    "#df[\"article_id\"] = df[\"article_id\"].map(item_map)\n",
    "\n",
    "#row = df[\"customer_id\"].values\n",
    "#col = df[\"article_id\"].values\n",
    "\n",
    "#data = np.ones(df.shape[0])\n",
    "#coo = coo_matrix((data, (row, col)), shape=(len(all_users), len(all_items)))\n",
    "\n",
    "#model = implicit.als.AlternatingLeastSquares(factors=10, iterations = 5, regularization=0.01)\n",
    "#model.fit(coo)\n",
    "\n",
    "#model.user_factors, model.user_factors.shape\n",
    "#model.item_factors, model.item_factors.shape"
   ]
  },
  {
   "cell_type": "markdown",
   "id": "0ff92e11",
   "metadata": {
    "papermill": {
     "duration": 11.749639,
     "end_time": "2022-03-09T09:33:51.637320",
     "exception": false,
     "start_time": "2022-03-09T09:33:39.887681",
     "status": "completed"
    },
    "tags": []
   },
   "source": [
    "# features by similaripy"
   ]
  },
  {
   "cell_type": "code",
   "execution_count": 11,
   "id": "3d674b23",
   "metadata": {
    "execution": {
     "iopub.execute_input": "2022-03-09T09:34:15.117287Z",
     "iopub.status.busy": "2022-03-09T09:34:15.116581Z",
     "iopub.status.idle": "2022-03-09T09:34:15.119992Z",
     "shell.execute_reply": "2022-03-09T09:34:15.119480Z",
     "shell.execute_reply.started": "2022-03-09T03:45:53.211309Z"
    },
    "papermill": {
     "duration": 11.774994,
     "end_time": "2022-03-09T09:34:15.120229",
     "exception": false,
     "start_time": "2022-03-09T09:34:03.345235",
     "status": "completed"
    },
    "tags": []
   },
   "outputs": [],
   "source": [
    "# normalize matrix with bm25\n",
    "#coo_bm = similaripy.normalization.bm25(coo)\n",
    "\n",
    "# train the model with 50 knn per item \n",
    "#model = similaripy.cosine(coo_bm.T, k=50)\n",
    "\n",
    "# recommend 100 items to users 1, 14 and 8 filtering the items already seen by each users\n",
    "#user_recommendations = sim.dot_product(coo_bm, model.T, k=100, target_rows=[1,14,8], filter_cols=coo_bm)"
   ]
  },
  {
   "cell_type": "markdown",
   "id": "a807e7ba",
   "metadata": {
    "papermill": {
     "duration": 11.719608,
     "end_time": "2022-03-09T09:34:38.661078",
     "exception": false,
     "start_time": "2022-03-09T09:34:26.941470",
     "status": "completed"
    },
    "tags": []
   },
   "source": [
    "# features by abstraction block"
   ]
  },
  {
   "cell_type": "code",
   "execution_count": 12,
   "id": "66f3203e",
   "metadata": {
    "execution": {
     "iopub.execute_input": "2022-03-09T09:35:02.536166Z",
     "iopub.status.busy": "2022-03-09T09:35:02.535488Z",
     "iopub.status.idle": "2022-03-09T09:35:07.234526Z",
     "shell.execute_reply": "2022-03-09T09:35:07.233889Z",
     "shell.execute_reply.started": "2022-03-09T03:45:53.21309Z"
    },
    "papermill": {
     "duration": 16.741719,
     "end_time": "2022-03-09T09:35:07.234676",
     "exception": false,
     "start_time": "2022-03-09T09:34:50.492957",
     "status": "completed"
    },
    "tags": []
   },
   "outputs": [],
   "source": [
    "article_columns = [\"garment_group_no\",\n",
    "                \"product_code\", \"product_type_no\", \n",
    "                \"graphical_appearance_no\", \"colour_group_code\", \"perceived_colour_value_id\",\n",
    "                \"perceived_colour_master_id\", \"department_no\", \"index_group_no\", \n",
    "                \"section_no\"]\n",
    "\n",
    "df = pd.merge(df, article_df[[\"article_id\"] + article_columns], on='article_id', how='left')"
   ]
  },
  {
   "cell_type": "code",
   "execution_count": 13,
   "id": "a2526db3",
   "metadata": {
    "execution": {
     "iopub.execute_input": "2022-03-09T09:35:30.756834Z",
     "iopub.status.busy": "2022-03-09T09:35:30.755765Z",
     "iopub.status.idle": "2022-03-09T09:36:32.697293Z",
     "shell.execute_reply": "2022-03-09T09:36:32.696536Z",
     "shell.execute_reply.started": "2022-03-09T03:45:53.214312Z"
    },
    "papermill": {
     "duration": 73.843627,
     "end_time": "2022-03-09T09:36:32.697450",
     "exception": false,
     "start_time": "2022-03-09T09:35:18.853823",
     "status": "completed"
    },
    "tags": []
   },
   "outputs": [],
   "source": [
    "# customerごとに何か購入したweek\n",
    "customer2weeks = df.groupby('customer_id')['week_no'].unique()\n",
    "\n",
    "# customerごとに学習データの特徴量となるweekとラベルとなるweekのペアを作る。\n",
    "customer2weekpairs = {}\n",
    "\n",
    "for c_id, weeks in customer2weeks.items():\n",
    "    customer2weekpairs[c_id] = {}\n",
    "    for i in range(weeks.shape[0]-1):\n",
    "        customer2weekpairs[c_id][weeks[i]] = weeks[i+1]\n",
    "    customer2weekpairs[c_id][weeks[-1]] = test_week"
   ]
  },
  {
   "cell_type": "code",
   "execution_count": 14,
   "id": "d3a1d6b9",
   "metadata": {
    "execution": {
     "iopub.execute_input": "2022-03-09T09:36:56.203231Z",
     "iopub.status.busy": "2022-03-09T09:36:56.202247Z",
     "iopub.status.idle": "2022-03-09T09:36:56.208724Z",
     "shell.execute_reply": "2022-03-09T09:36:56.209239Z",
     "shell.execute_reply.started": "2022-03-09T03:45:53.215795Z"
    },
    "papermill": {
     "duration": 11.781733,
     "end_time": "2022-03-09T09:36:56.209409",
     "exception": false,
     "start_time": "2022-03-09T09:36:44.427676",
     "status": "completed"
    },
    "tags": []
   },
   "outputs": [],
   "source": [
    "def join(df):\n",
    "    x = [str(e) for e in list(df)]\n",
    "    return \" \".join(x)\n",
    "\n",
    "def label_prev_week(input_df):\n",
    "    weeks = []\n",
    "    for i, (c_id, week) in enumerate(zip(input_df['customer_id'], input_df['week_no'])):\n",
    "        weeks.append(customer2weekpairs[c_id][week])\n",
    "    input_df.week_no=weeks\n",
    "    return input_df"
   ]
  },
  {
   "cell_type": "code",
   "execution_count": 15,
   "id": "316083f2",
   "metadata": {
    "execution": {
     "iopub.execute_input": "2022-03-09T09:37:20.024375Z",
     "iopub.status.busy": "2022-03-09T09:37:20.023187Z",
     "iopub.status.idle": "2022-03-09T09:37:20.038742Z",
     "shell.execute_reply": "2022-03-09T09:37:20.039326Z",
     "shell.execute_reply.started": "2022-03-09T03:45:53.219066Z"
    },
    "papermill": {
     "duration": 11.811155,
     "end_time": "2022-03-09T09:37:20.039507",
     "exception": false,
     "start_time": "2022-03-09T09:37:08.228352",
     "status": "completed"
    },
    "tags": []
   },
   "outputs": [],
   "source": [
    "class AbstractBaseBlock:\n",
    "    def fit(self, input_df, y=None):\n",
    "        return self.transform(input_df)\n",
    "\n",
    "    def transform(self, input_df):\n",
    "        raise NotImplementedError()\n",
    "        \n",
    "class UserHistoryEveryBlock(AbstractBaseBlock):\n",
    "    \"\"\"ユーザーの数値履歴を週間で集計した特徴量を付与する block 累積ではない\"\"\"\n",
    "    def __init__(self, item):\n",
    "        self.item = item\n",
    "\n",
    "    def fit(self, input_df, y=None):\n",
    "        out = input_df \\\n",
    "        .groupby(['customer_id', 'week_no'])[self.item].agg([\"sum\", \"std\", \"max\", \"min\"]).add_prefix(\"u_prev_\"+self.item+\"_\").reset_index()\n",
    "        out = label_prev_week(out)\n",
    "        return self.transform(out)\n",
    "\n",
    "    def transform(self, input_df):\n",
    "        return input_df\n",
    "    \n",
    "class UserHistoryVectorEveryBlock(AbstractBaseBlock):\n",
    "    \"\"\"ユーザーの文字履歴を週間で集計しベクトル化した特徴量を付与する block 累積ではない\"\"\"\n",
    "    def __init__(self, item, n_components = 5):\n",
    "        self.item = item\n",
    "        self.n_components = n_components\n",
    "        \n",
    "    def fit(self, input_df, y=None):\n",
    "        docs = input_df.groupby([\"customer_id\", \"week_no\"])[self.item].apply(join)\n",
    "        max_features = int(input_df[self.item].nunique() * 0.8)\n",
    "        tv = TfidfVectorizer(max_features=max_features)\n",
    "        X = tv.fit_transform(docs)\n",
    "        \n",
    "        svd = TruncatedSVD(n_components=self.n_components, random_state=0)\n",
    "        X = svd.fit_transform(X)\n",
    "        result = pd.DataFrame(X, columns=[f\"u_{self.item}_{i}\" for i in range(self.n_components)])\n",
    "        result.index = docs.index\n",
    "        result = result.reset_index()\n",
    "        result = label_prev_week(result)\n",
    "        return self.transform(result)\n",
    "  \n",
    "    def transform(self, input_df):\n",
    "        return input_df  \n",
    "\n",
    "class ItemHistoryEveryBlock(AbstractBaseBlock):\n",
    "    \"\"\"アイテムの数値履歴を週間で集計した特徴量を付与する block 累積ではない\"\"\"\n",
    "    def __init__(self, item):\n",
    "        self.item = item\n",
    "\n",
    "    def fit(self, input_df, y=None):\n",
    "        out = input_df \\\n",
    "        .groupby(['week_no'])[self.item].value_counts()\n",
    "        out = out.to_frame(\"sale_count\").reset_index()\n",
    "        return self.transform(out)\n",
    "\n",
    "    def transform(self, input_df):\n",
    "        return input_df\n",
    "    \n",
    "class ItemHistorySumBlock(AbstractBaseBlock):\n",
    "    \"\"\"アイテムの数値履歴を週間で集計した特徴量を付与する block 累積ではない\"\"\"\n",
    "    def __init__(self, item):\n",
    "        self.item = item\n",
    "\n",
    "    def fit(self, input_df, y=None):\n",
    "        out = input_df \\\n",
    "        .groupby(['week_no', self.item])['price'].agg([\"sum\"]).add_prefix(\"sale_\").reset_index()\n",
    "        return self.transform(out)\n",
    "\n",
    "    def transform(self, input_df):\n",
    "        return input_df"
   ]
  },
  {
   "cell_type": "code",
   "execution_count": 16,
   "id": "2538aa07",
   "metadata": {
    "execution": {
     "iopub.execute_input": "2022-03-09T09:37:43.725997Z",
     "iopub.status.busy": "2022-03-09T09:37:43.725346Z",
     "iopub.status.idle": "2022-03-09T09:37:43.728877Z",
     "shell.execute_reply": "2022-03-09T09:37:43.729389Z",
     "shell.execute_reply.started": "2022-03-09T03:45:53.220174Z"
    },
    "papermill": {
     "duration": 11.83638,
     "end_time": "2022-03-09T09:37:43.729562",
     "exception": false,
     "start_time": "2022-03-09T09:37:31.893182",
     "status": "completed"
    },
    "tags": []
   },
   "outputs": [],
   "source": [
    "# user_features\n",
    "#feature_blocks = [\n",
    "#    UserHistoryEveryBlock(\"price\"),\n",
    "#    UserHistoryVectorEveryBlock(\"section_no\"),\n",
    "#    UserHistoryVectorEveryBlock(\"garment_group_no\"),\n",
    "#]\n",
    "\n",
    "#for i, block in enumerate(feature_blocks):\n",
    "#    if i == 0:\n",
    "#        user_features_df = block.fit(df)\n",
    "#    else:\n",
    "#        out_i = block.fit(df)\n",
    "#        user_features_df = pd.merge(user_features_df, out_i, on = [\"customer_id\", \"week_no\"], how=\"left\")\n",
    "        \n",
    "#user_features_df.to_csv(\"user_features.csv\", index=False)\n",
    "#del user_features_df"
   ]
  },
  {
   "cell_type": "code",
   "execution_count": 17,
   "id": "e09c37bb",
   "metadata": {
    "execution": {
     "iopub.execute_input": "2022-03-09T09:38:07.133955Z",
     "iopub.status.busy": "2022-03-09T09:38:07.132956Z",
     "iopub.status.idle": "2022-03-09T09:38:19.772851Z",
     "shell.execute_reply": "2022-03-09T09:38:19.771886Z",
     "shell.execute_reply.started": "2022-03-09T03:45:53.223249Z"
    },
    "papermill": {
     "duration": 24.295578,
     "end_time": "2022-03-09T09:38:19.773005",
     "exception": false,
     "start_time": "2022-03-09T09:37:55.477427",
     "status": "completed"
    },
    "tags": []
   },
   "outputs": [],
   "source": [
    "# item_features\n",
    "article_count = ItemHistoryEveryBlock(\"article_id\").fit(df)\n",
    "article_count.to_csv(\"article_count.csv\", index=False)\n",
    "\n",
    "article_sale = ItemHistorySumBlock(\"article_id\").fit(df)\n",
    "article_sale.to_csv(\"article_sale.csv\", index=False)"
   ]
  },
  {
   "cell_type": "code",
   "execution_count": null,
   "id": "8cbc37fe",
   "metadata": {
    "papermill": {
     "duration": 11.681892,
     "end_time": "2022-03-09T09:38:43.218206",
     "exception": false,
     "start_time": "2022-03-09T09:38:31.536314",
     "status": "completed"
    },
    "tags": []
   },
   "outputs": [],
   "source": []
  }
 ],
 "metadata": {
  "kernelspec": {
   "display_name": "Python 3",
   "language": "python",
   "name": "python3"
  },
  "language_info": {
   "codemirror_mode": {
    "name": "ipython",
    "version": 3
   },
   "file_extension": ".py",
   "mimetype": "text/x-python",
   "name": "python",
   "nbconvert_exporter": "python",
   "pygments_lexer": "ipython3",
   "version": "3.7.12"
  },
  "papermill": {
   "default_parameters": {},
   "duration": 3909.160256,
   "end_time": "2022-03-09T09:38:57.498251",
   "environment_variables": {},
   "exception": null,
   "input_path": "__notebook__.ipynb",
   "output_path": "__notebook__.ipynb",
   "parameters": {},
   "start_time": "2022-03-09T08:33:48.337995",
   "version": "2.3.3"
  }
 },
 "nbformat": 4,
 "nbformat_minor": 5
}
