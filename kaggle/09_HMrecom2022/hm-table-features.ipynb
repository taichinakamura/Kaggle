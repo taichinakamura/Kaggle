{
 "cells": [
  {
   "cell_type": "code",
   "execution_count": 1,
   "id": "d016b9d3",
   "metadata": {
    "_cell_guid": "b1076dfc-b9ad-4769-8c92-a6c4dae69d19",
    "_uuid": "8f2839f25d086af736a60e9eeb907d3b93b6e0e5",
    "execution": {
     "iopub.execute_input": "2022-03-06T02:28:56.493638Z",
     "iopub.status.busy": "2022-03-06T02:28:56.492499Z",
     "iopub.status.idle": "2022-03-06T02:28:57.940464Z",
     "shell.execute_reply": "2022-03-06T02:28:57.941280Z",
     "shell.execute_reply.started": "2022-03-06T02:01:13.531504Z"
    },
    "papermill": {
     "duration": 1.466702,
     "end_time": "2022-03-06T02:28:57.941810",
     "exception": false,
     "start_time": "2022-03-06T02:28:56.475108",
     "status": "completed"
    },
    "tags": []
   },
   "outputs": [],
   "source": [
    "import numpy as np\n",
    "import pandas as pd\n",
    "from tqdm import tqdm\n",
    "from sklearn import preprocessing\n",
    "from sklearn.decomposition import TruncatedSVD\n",
    "from sklearn.feature_extraction.text import TfidfVectorizer\n",
    "from sklearn.decomposition import LatentDirichletAllocation\n",
    "\n",
    "import warnings\n",
    "warnings.filterwarnings('ignore')"
   ]
  },
  {
   "cell_type": "code",
   "execution_count": 2,
   "id": "5aeb5296",
   "metadata": {
    "execution": {
     "iopub.execute_input": "2022-03-06T02:28:57.972892Z",
     "iopub.status.busy": "2022-03-06T02:28:57.971551Z",
     "iopub.status.idle": "2022-03-06T02:30:20.134431Z",
     "shell.execute_reply": "2022-03-06T02:30:20.133659Z",
     "shell.execute_reply.started": "2022-03-06T02:01:14.860325Z"
    },
    "papermill": {
     "duration": 82.178512,
     "end_time": "2022-03-06T02:30:20.134636",
     "exception": false,
     "start_time": "2022-03-06T02:28:57.956124",
     "status": "completed"
    },
    "tags": []
   },
   "outputs": [],
   "source": [
    "DATA_DIR = \"/kaggle/input/h-and-m-personalized-fashion-recommendations/\"\n",
    "df = pd.read_csv(DATA_DIR + \"transactions_train.csv\")\n",
    "article_df = pd.read_csv(DATA_DIR + \"articles.csv\")\n",
    "customer_df = pd.read_csv(DATA_DIR + \"customers.csv\")"
   ]
  },
  {
   "cell_type": "code",
   "execution_count": 3,
   "id": "2160d297",
   "metadata": {
    "execution": {
     "iopub.execute_input": "2022-03-06T02:30:22.055860Z",
     "iopub.status.busy": "2022-03-06T02:30:20.184050Z",
     "iopub.status.idle": "2022-03-06T02:30:54.948001Z",
     "shell.execute_reply": "2022-03-06T02:30:54.948888Z",
     "shell.execute_reply.started": "2022-03-06T02:02:35.814185Z"
    },
    "papermill": {
     "duration": 34.794288,
     "end_time": "2022-03-06T02:30:54.949126",
     "exception": false,
     "start_time": "2022-03-06T02:30:20.154838",
     "status": "completed"
    },
    "tags": []
   },
   "outputs": [],
   "source": [
    "df[\"t_dat\"] = pd.to_datetime(df[\"t_dat\"])\n",
    "\n",
    "date_week_df = df.drop_duplicates(\"t_dat\")[[\"t_dat\"]].reset_index(drop=True)\n",
    "date_week_df['week_no'] = (date_week_df['t_dat'] + pd.DateOffset(days=5)).dt.week\n",
    "date_week_df[\"week_no\"] = date_week_df[\"week_no\"].diff(1)\n",
    "date_week_df[\"week_no\"].fillna(0, inplace=True)\n",
    "date_week_df[\"week_no\"] = date_week_df[\"week_no\"] != 0\n",
    "date_week_df[\"week_no\"] = date_week_df[\"week_no\"].cumsum()\n",
    "\n",
    "df = pd.merge(df, date_week_df, on=\"t_dat\", how=\"left\")\n",
    "\n",
    "df.sort_values(['t_dat', 'customer_id'], inplace=True)\n",
    "\n",
    "df = df[df.week_no > df.week_no.max() - 100].reset_index(drop=True)\n",
    "test_week = df.week_no.max()"
   ]
  },
  {
   "cell_type": "code",
   "execution_count": 4,
   "id": "791b311b",
   "metadata": {
    "execution": {
     "iopub.execute_input": "2022-03-06T02:30:54.990515Z",
     "iopub.status.busy": "2022-03-06T02:30:54.989546Z",
     "iopub.status.idle": "2022-03-06T02:31:04.664904Z",
     "shell.execute_reply": "2022-03-06T02:31:04.665423Z",
     "shell.execute_reply.started": "2022-03-06T02:03:14.391595Z"
    },
    "papermill": {
     "duration": 9.698021,
     "end_time": "2022-03-06T02:31:04.665596",
     "exception": false,
     "start_time": "2022-03-06T02:30:54.967575",
     "status": "completed"
    },
    "tags": []
   },
   "outputs": [],
   "source": [
    "article_columns = [\"garment_group_no\",\n",
    "                \"product_code\", \"product_type_no\", \n",
    "                \"graphical_appearance_no\", \"colour_group_code\", \"perceived_colour_value_id\",\n",
    "                \"perceived_colour_master_id\", \"department_no\", \"index_group_no\", \n",
    "                \"section_no\"]\n",
    "\n",
    "df = pd.merge(df, article_df[[\"article_id\"] + article_columns], on='article_id', how='left')"
   ]
  },
  {
   "cell_type": "code",
   "execution_count": 5,
   "id": "6032c6f7",
   "metadata": {
    "execution": {
     "iopub.execute_input": "2022-03-06T02:31:04.697371Z",
     "iopub.status.busy": "2022-03-06T02:31:04.696598Z",
     "iopub.status.idle": "2022-03-06T02:32:30.741113Z",
     "shell.execute_reply": "2022-03-06T02:32:30.740405Z",
     "shell.execute_reply.started": "2022-03-06T02:03:22.443682Z"
    },
    "papermill": {
     "duration": 86.063885,
     "end_time": "2022-03-06T02:32:30.741334",
     "exception": false,
     "start_time": "2022-03-06T02:31:04.677449",
     "status": "completed"
    },
    "tags": []
   },
   "outputs": [],
   "source": [
    "# customerごとに何か購入したweek\n",
    "customer2weeks = df.groupby('customer_id')['week_no'].unique()\n",
    "\n",
    "# customerごとに学習データの特徴量となるweekとラベルとなるweekのペアを作る。\n",
    "customer2weekpairs = {}\n",
    "\n",
    "for c_id, weeks in customer2weeks.items():\n",
    "    customer2weekpairs[c_id] = {}\n",
    "    for i in range(weeks.shape[0]-1):\n",
    "        customer2weekpairs[c_id][weeks[i]] = weeks[i+1]\n",
    "    customer2weekpairs[c_id][weeks[-1]] = test_week"
   ]
  },
  {
   "cell_type": "markdown",
   "id": "ae3a3e3b",
   "metadata": {
    "papermill": {
     "duration": 0.017974,
     "end_time": "2022-03-06T02:32:30.778005",
     "exception": false,
     "start_time": "2022-03-06T02:32:30.760031",
     "status": "completed"
    },
    "tags": []
   },
   "source": [
    "# feature engineering"
   ]
  },
  {
   "cell_type": "code",
   "execution_count": 6,
   "id": "f0fa3b01",
   "metadata": {
    "execution": {
     "iopub.execute_input": "2022-03-06T02:32:30.816834Z",
     "iopub.status.busy": "2022-03-06T02:32:30.816010Z",
     "iopub.status.idle": "2022-03-06T02:32:30.823922Z",
     "shell.execute_reply": "2022-03-06T02:32:30.824698Z",
     "shell.execute_reply.started": "2022-03-06T02:04:56.427629Z"
    },
    "papermill": {
     "duration": 0.029076,
     "end_time": "2022-03-06T02:32:30.824915",
     "exception": false,
     "start_time": "2022-03-06T02:32:30.795839",
     "status": "completed"
    },
    "tags": []
   },
   "outputs": [],
   "source": [
    "def join(df):\n",
    "    x = [str(e) for e in list(df)]\n",
    "    return \" \".join(x)\n",
    "\n",
    "def label_prev_week(input_df):\n",
    "    weeks = []\n",
    "    for i, (c_id, week) in enumerate(zip(input_df['customer_id'], input_df['week_no'])):\n",
    "        weeks.append(customer2weekpairs[c_id][week])\n",
    "    input_df.week_no=weeks\n",
    "    return input_df"
   ]
  },
  {
   "cell_type": "code",
   "execution_count": 7,
   "id": "11b25ed2",
   "metadata": {
    "execution": {
     "iopub.execute_input": "2022-03-06T02:32:30.876484Z",
     "iopub.status.busy": "2022-03-06T02:32:30.875513Z",
     "iopub.status.idle": "2022-03-06T02:32:30.878003Z",
     "shell.execute_reply": "2022-03-06T02:32:30.877290Z",
     "shell.execute_reply.started": "2022-03-06T02:22:45.256041Z"
    },
    "papermill": {
     "duration": 0.035296,
     "end_time": "2022-03-06T02:32:30.878167",
     "exception": false,
     "start_time": "2022-03-06T02:32:30.842871",
     "status": "completed"
    },
    "tags": []
   },
   "outputs": [],
   "source": [
    "class AbstractBaseBlock:\n",
    "    def fit(self, input_df, y=None):\n",
    "        return self.transform(input_df)\n",
    "\n",
    "    def transform(self, input_df):\n",
    "        raise NotImplementedError()\n",
    "        \n",
    "class UserHistoryEveryBlock(AbstractBaseBlock):\n",
    "    \"\"\"ユーザーの数値履歴を週間で集計した特徴量を付与する block 累積ではない\"\"\"\n",
    "    def __init__(self, item):\n",
    "        self.item = item\n",
    "\n",
    "    def fit(self, input_df, y=None):\n",
    "        out = input_df \\\n",
    "        .groupby(['customer_id', 'week_no'])[self.item].agg([\"sum\", \"std\", \"max\", \"min\"]).add_prefix(\"u_prev_\"+self.item+\"_\").reset_index()\n",
    "        out = label_prev_week(out)\n",
    "        return self.transform(out)\n",
    "\n",
    "    def transform(self, input_df):\n",
    "        return input_df\n",
    "    \n",
    "class UserHistoryVectorEveryBlock(AbstractBaseBlock):\n",
    "    \"\"\"ユーザーの文字履歴を週間で集計しベクトル化した特徴量を付与する block 累積ではない\"\"\"\n",
    "    def __init__(self, item, n_components = 5):\n",
    "        self.item = item\n",
    "        self.n_components = n_components\n",
    "        \n",
    "    def fit(self, input_df, y=None):\n",
    "        docs = input_df.groupby([\"customer_id\", \"week_no\"])[self.item].apply(join)\n",
    "        max_features = int(input_df[self.item].nunique() * 0.8)\n",
    "        tv = TfidfVectorizer(max_features=max_features)\n",
    "        X = tv.fit_transform(docs)\n",
    "        \n",
    "        svd = TruncatedSVD(n_components=self.n_components, random_state=0)\n",
    "        X = svd.fit_transform(X)\n",
    "        result = pd.DataFrame(X, columns=[f\"u_{self.item}_{i}\" for i in range(self.n_components)])\n",
    "        result.index = docs.index\n",
    "        result = result.reset_index()\n",
    "        result = label_prev_week(result)\n",
    "        return self.transform(result)\n",
    "  \n",
    "    def transform(self, input_df):\n",
    "        return input_df  \n",
    "    \n",
    "class UserItemHistoryEveryBlock(AbstractBaseBlock):\n",
    "    \"\"\"ユーザーの数値履歴を週間で集計した特徴量を付与する block 累積ではない\"\"\"\n",
    "    def __init__(self, item):\n",
    "        self.item = item\n",
    "\n",
    "    def fit(self, input_df, y=None):\n",
    "        out = input_df \\\n",
    "        .groupby(['customer_id', 'week_no', self.item])[\"price\"].agg([\"sum\", \"std\", \"max\", \"min\"]).add_prefix(\"ui_prev_\"+self.item+\"_\").reset_index()\n",
    "        out = label_prev_week(out)\n",
    "        return self.transform(out)\n",
    "\n",
    "    def transform(self, input_df):\n",
    "        return input_df"
   ]
  },
  {
   "cell_type": "markdown",
   "id": "eeced7d2",
   "metadata": {
    "papermill": {
     "duration": 0.017506,
     "end_time": "2022-03-06T02:32:30.913242",
     "exception": false,
     "start_time": "2022-03-06T02:32:30.895736",
     "status": "completed"
    },
    "tags": []
   },
   "source": [
    "# gengerate and output"
   ]
  },
  {
   "cell_type": "code",
   "execution_count": 8,
   "id": "260d8518",
   "metadata": {
    "execution": {
     "iopub.execute_input": "2022-03-06T02:32:30.955699Z",
     "iopub.status.busy": "2022-03-06T02:32:30.953998Z",
     "iopub.status.idle": "2022-03-06T02:46:40.413246Z",
     "shell.execute_reply": "2022-03-06T02:46:40.410802Z",
     "shell.execute_reply.started": "2022-03-06T02:04:56.455526Z"
    },
    "papermill": {
     "duration": 849.482794,
     "end_time": "2022-03-06T02:46:40.414226",
     "exception": false,
     "start_time": "2022-03-06T02:32:30.931432",
     "status": "completed"
    },
    "tags": []
   },
   "outputs": [],
   "source": [
    "# user_features\n",
    "feature_blocks = [\n",
    "    UserHistoryEveryBlock(\"price\"),\n",
    "    UserHistoryVectorEveryBlock(\"section_no\"),\n",
    "    UserHistoryVectorEveryBlock(\"garment_group_no\"),\n",
    "]\n",
    "\n",
    "for i, block in enumerate(feature_blocks):\n",
    "    if i == 0:\n",
    "        user_features_df = block.fit(df)\n",
    "    else:\n",
    "        out_i = block.fit(df)\n",
    "        user_features_df = pd.merge(user_features_df, out_i, on = [\"customer_id\", \"week_no\"], how=\"left\")\n",
    "        \n",
    "user_features_df.to_csv(\"user_features.csv\", index=False)\n",
    "del user_features_df"
   ]
  },
  {
   "cell_type": "code",
   "execution_count": 9,
   "id": "f3133812",
   "metadata": {
    "execution": {
     "iopub.execute_input": "2022-03-06T02:46:40.473067Z",
     "iopub.status.busy": "2022-03-06T02:46:40.471847Z",
     "iopub.status.idle": "2022-03-06T02:46:40.475354Z",
     "shell.execute_reply": "2022-03-06T02:46:40.474712Z"
    },
    "papermill": {
     "duration": 0.031044,
     "end_time": "2022-03-06T02:46:40.475531",
     "exception": false,
     "start_time": "2022-03-06T02:46:40.444487",
     "status": "completed"
    },
    "tags": []
   },
   "outputs": [],
   "source": [
    "# item_features"
   ]
  },
  {
   "cell_type": "code",
   "execution_count": 10,
   "id": "99ae6a08",
   "metadata": {
    "execution": {
     "iopub.execute_input": "2022-03-06T02:46:40.506979Z",
     "iopub.status.busy": "2022-03-06T02:46:40.505998Z",
     "iopub.status.idle": "2022-03-06T02:49:04.811004Z",
     "shell.execute_reply": "2022-03-06T02:49:04.810146Z",
     "shell.execute_reply.started": "2022-03-06T02:22:59.807299Z"
    },
    "papermill": {
     "duration": 144.322858,
     "end_time": "2022-03-06T02:49:04.811388",
     "exception": false,
     "start_time": "2022-03-06T02:46:40.488530",
     "status": "completed"
    },
    "tags": []
   },
   "outputs": [],
   "source": [
    "# user_item_features\n",
    "user_item_features_df_garment_group = UserItemHistoryEveryBlock(\"garment_group_no\").fit(df)\n",
    "user_item_features_df_garment_group.to_csv(\"user_item_features_garment_group.csv\", index=False)\n",
    "del user_item_features_df_garment_group"
   ]
  },
  {
   "cell_type": "code",
   "execution_count": null,
   "id": "474fa712",
   "metadata": {
    "papermill": {
     "duration": 0.011349,
     "end_time": "2022-03-06T02:49:04.838536",
     "exception": false,
     "start_time": "2022-03-06T02:49:04.827187",
     "status": "completed"
    },
    "tags": []
   },
   "outputs": [],
   "source": []
  }
 ],
 "metadata": {
  "kernelspec": {
   "display_name": "Python 3",
   "language": "python",
   "name": "python3"
  },
  "language_info": {
   "codemirror_mode": {
    "name": "ipython",
    "version": 3
   },
   "file_extension": ".py",
   "mimetype": "text/x-python",
   "name": "python",
   "nbconvert_exporter": "python",
   "pygments_lexer": "ipython3",
   "version": "3.7.12"
  },
  "papermill": {
   "default_parameters": {},
   "duration": 1221.81661,
   "end_time": "2022-03-06T02:49:07.471162",
   "environment_variables": {},
   "exception": null,
   "input_path": "__notebook__.ipynb",
   "output_path": "__notebook__.ipynb",
   "parameters": {},
   "start_time": "2022-03-06T02:28:45.654552",
   "version": "2.3.3"
  }
 },
 "nbformat": 4,
 "nbformat_minor": 5
}
