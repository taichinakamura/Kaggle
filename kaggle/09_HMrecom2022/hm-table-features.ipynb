{
 "cells": [
  {
   "cell_type": "markdown",
   "id": "5e28479c",
   "metadata": {
    "execution": {
     "iopub.execute_input": "2022-03-07T23:26:29.454418Z",
     "iopub.status.busy": "2022-03-07T23:26:29.454082Z",
     "iopub.status.idle": "2022-03-07T23:27:40.64148Z",
     "shell.execute_reply": "2022-03-07T23:27:40.640021Z",
     "shell.execute_reply.started": "2022-03-07T23:26:29.454386Z"
    },
    "papermill": {
     "duration": 0.020126,
     "end_time": "2022-03-09T06:37:44.830638",
     "exception": false,
     "start_time": "2022-03-09T06:37:44.810512",
     "status": "completed"
    },
    "tags": []
   },
   "source": [
    "- consider only item features\n",
    "- modify functions for predictions of cold users"
   ]
  },
  {
   "cell_type": "code",
   "execution_count": 1,
   "id": "ee0ba475",
   "metadata": {
    "execution": {
     "iopub.execute_input": "2022-03-09T06:37:44.875614Z",
     "iopub.status.busy": "2022-03-09T06:37:44.873787Z",
     "iopub.status.idle": "2022-03-09T06:38:47.292906Z",
     "shell.execute_reply": "2022-03-09T06:38:47.292002Z",
     "shell.execute_reply.started": "2022-03-09T05:51:34.001512Z"
    },
    "papermill": {
     "duration": 62.442686,
     "end_time": "2022-03-09T06:38:47.293085",
     "exception": false,
     "start_time": "2022-03-09T06:37:44.850399",
     "status": "completed"
    },
    "tags": []
   },
   "outputs": [
    {
     "name": "stdout",
     "output_type": "stream",
     "text": [
      "Collecting similaripy\r\n",
      "  Downloading similaripy-0.1.2.tar.gz (331 kB)\r\n",
      "     |████████████████████████████████| 331 kB 892 kB/s            \r\n",
      "\u001b[?25h  Preparing metadata (setup.py) ... \u001b[?25l-\b \b\\\b \bdone\r\n",
      "\u001b[?25hRequirement already satisfied: scipy>=1.0.0 in /opt/conda/lib/python3.7/site-packages (from similaripy) (1.7.3)\r\n",
      "Requirement already satisfied: numpy>=1.14.0 in /opt/conda/lib/python3.7/site-packages (from similaripy) (1.20.3)\r\n",
      "Requirement already satisfied: tqdm>=4.19.6 in /opt/conda/lib/python3.7/site-packages (from similaripy) (4.62.3)\r\n",
      "Building wheels for collected packages: similaripy\r\n",
      "  Building wheel for similaripy (setup.py) ... \u001b[?25l-\b \b\\\b \b|\b \b/\b \b-\b \b\\\b \b|\b \b/\b \bdone\r\n",
      "\u001b[?25h  Created wheel for similaripy: filename=similaripy-0.1.2-cp37-cp37m-linux_x86_64.whl size=2040880 sha256=381449eebd8121c9fd49661781cc67fe8cce1a7b06f57a162c47c60c402b2a47\r\n",
      "  Stored in directory: /root/.cache/pip/wheels/2e/81/4b/7a396ebc45534553ddee1eb106d99023df4d9d09b53b13cc66\r\n",
      "Successfully built similaripy\r\n",
      "Installing collected packages: similaripy\r\n",
      "Successfully installed similaripy-0.1.2\r\n",
      "\u001b[33mWARNING: Running pip as the 'root' user can result in broken permissions and conflicting behaviour with the system package manager. It is recommended to use a virtual environment instead: https://pip.pypa.io/warnings/venv\u001b[0m\r\n"
     ]
    }
   ],
   "source": [
    "!pip install similaripy"
   ]
  },
  {
   "cell_type": "code",
   "execution_count": 2,
   "id": "a59ca0c1",
   "metadata": {
    "execution": {
     "iopub.execute_input": "2022-03-09T06:38:47.352861Z",
     "iopub.status.busy": "2022-03-09T06:38:47.352115Z",
     "iopub.status.idle": "2022-03-09T06:38:48.648971Z",
     "shell.execute_reply": "2022-03-09T06:38:48.649434Z",
     "shell.execute_reply.started": "2022-03-09T05:52:38.055035Z"
    },
    "papermill": {
     "duration": 1.330271,
     "end_time": "2022-03-09T06:38:48.649624",
     "exception": false,
     "start_time": "2022-03-09T06:38:47.319353",
     "status": "completed"
    },
    "tags": []
   },
   "outputs": [],
   "source": [
    "import numpy as np\n",
    "import pandas as pd\n",
    "from tqdm import tqdm\n",
    "from sklearn import preprocessing\n",
    "from scipy.sparse import coo_matrix\n",
    "from sklearn.decomposition import TruncatedSVD\n",
    "from sklearn.feature_extraction.text import TfidfVectorizer\n",
    "from sklearn.decomposition import LatentDirichletAllocation\n",
    "import implicit\n",
    "import similaripy\n",
    "\n",
    "import warnings\n",
    "warnings.filterwarnings('ignore')\n",
    "\n",
    "tqdm.pandas()"
   ]
  },
  {
   "cell_type": "code",
   "execution_count": 3,
   "id": "d656f760",
   "metadata": {
    "execution": {
     "iopub.execute_input": "2022-03-09T06:38:48.705705Z",
     "iopub.status.busy": "2022-03-09T06:38:48.705079Z",
     "iopub.status.idle": "2022-03-09T06:40:15.264039Z",
     "shell.execute_reply": "2022-03-09T06:40:15.263017Z",
     "shell.execute_reply.started": "2022-03-09T05:52:39.534271Z"
    },
    "papermill": {
     "duration": 86.588552,
     "end_time": "2022-03-09T06:40:15.264440",
     "exception": false,
     "start_time": "2022-03-09T06:38:48.675888",
     "status": "completed"
    },
    "tags": []
   },
   "outputs": [],
   "source": [
    "DATA_DIR = \"/kaggle/input/h-and-m-personalized-fashion-recommendations/\"\n",
    "df = pd.read_csv(DATA_DIR + \"transactions_train.csv\")\n",
    "article_df = pd.read_csv(DATA_DIR + \"articles.csv\")\n",
    "customer_df = pd.read_csv(DATA_DIR + \"customers.csv\")\n",
    "sub = pd.read_csv(DATA_DIR + 'sample_submission.csv')"
   ]
  },
  {
   "cell_type": "code",
   "execution_count": 4,
   "id": "2a63e7b1",
   "metadata": {
    "execution": {
     "iopub.execute_input": "2022-03-09T06:40:17.339175Z",
     "iopub.status.busy": "2022-03-09T06:40:17.338426Z",
     "iopub.status.idle": "2022-03-09T06:40:53.939573Z",
     "shell.execute_reply": "2022-03-09T06:40:53.938848Z",
     "shell.execute_reply.started": "2022-03-09T05:53:59.234185Z"
    },
    "papermill": {
     "duration": 38.645555,
     "end_time": "2022-03-09T06:40:53.939745",
     "exception": false,
     "start_time": "2022-03-09T06:40:15.294190",
     "status": "completed"
    },
    "tags": []
   },
   "outputs": [],
   "source": [
    "df[\"t_dat\"] = pd.to_datetime(df[\"t_dat\"])\n",
    "\n",
    "date_week_df = df.drop_duplicates(\"t_dat\")[[\"t_dat\"]].reset_index(drop=True)\n",
    "date_week_df['week_no'] = (date_week_df['t_dat'] + pd.DateOffset(days=5)).dt.week\n",
    "date_week_df[\"week_no\"] = date_week_df[\"week_no\"].diff(1)\n",
    "date_week_df[\"week_no\"].fillna(0, inplace=True)\n",
    "date_week_df[\"week_no\"] = date_week_df[\"week_no\"] != 0\n",
    "date_week_df[\"week_no\"] = date_week_df[\"week_no\"].cumsum()\n",
    "\n",
    "df = pd.merge(df, date_week_df, on=\"t_dat\", how=\"left\")\n",
    "\n",
    "df.sort_values(['t_dat', 'customer_id'], inplace=True)\n",
    "\n",
    "test_week = df.week_no.max()\n",
    "last_ts = df['t_dat'].max()\n",
    "\n",
    "df = df[df.week_no > df.week_no.max() - 50].reset_index(drop=True)"
   ]
  },
  {
   "cell_type": "markdown",
   "id": "d86be1f6",
   "metadata": {
    "papermill": {
     "duration": 0.027096,
     "end_time": "2022-03-09T06:40:53.996555",
     "exception": false,
     "start_time": "2022-03-09T06:40:53.969459",
     "status": "completed"
    },
    "tags": []
   },
   "source": [
    "# preds for cold users\n",
    "- https://www.kaggle.com/byfone/h-m-trending-products-weekly"
   ]
  },
  {
   "cell_type": "code",
   "execution_count": 5,
   "id": "d7062cc2",
   "metadata": {
    "execution": {
     "iopub.execute_input": "2022-03-09T06:40:54.054547Z",
     "iopub.status.busy": "2022-03-09T06:40:54.053751Z",
     "iopub.status.idle": "2022-03-09T06:40:54.073817Z",
     "shell.execute_reply": "2022-03-09T06:40:54.073056Z",
     "shell.execute_reply.started": "2022-03-09T05:55:53.727807Z"
    },
    "papermill": {
     "duration": 0.05099,
     "end_time": "2022-03-09T06:40:54.073980",
     "exception": false,
     "start_time": "2022-03-09T06:40:54.022990",
     "status": "completed"
    },
    "tags": []
   },
   "outputs": [],
   "source": [
    "def make_cold_predictions(input_df, sub):\n",
    "    # Count the number of transactions per week\n",
    "    weekly_sales = input_df.drop('customer_id', axis=1).groupby(['week_no', 'article_id'])['t_dat'].count().reset_index()\n",
    "    weekly_sales = weekly_sales.rename(columns={'t_dat': 'count'})\n",
    "    input_df = pd.merge(input_df, weekly_sales, on=['week_no', 'article_id'], how=\"left\")\n",
    "    \n",
    "    #Let's assume that in the target week sales will be similar to the last week of the training data\n",
    "    weekly_sales = weekly_sales.set_index('article_id')\n",
    "\n",
    "    input_df = input_df.join(\n",
    "        weekly_sales.loc[weekly_sales['week_no']==input_df.week_no.max(), ['count']],\n",
    "        on='article_id', rsuffix=\"_targ\")\n",
    "\n",
    "    input_df['count_targ'].fillna(0, inplace=True)\n",
    "    del weekly_sales\n",
    "    \n",
    "    # Calculate sales rate adjusted for changes in product popularity¶\n",
    "    input_df['quotient'] = input_df['count_targ'] / input_df['count']\n",
    "    \n",
    "    N = 12\n",
    "    # Take supposedly popular products¶\n",
    "    target_sales = input_df.drop('customer_id', axis=1).groupby('article_id')['quotient'].sum()\n",
    "    general_pred = target_sales.nlargest(N).index.tolist()\n",
    "    del target_sales\n",
    "    \n",
    "    # Fill in purchase dictionary¶\n",
    "    purchase_dict = {}\n",
    "\n",
    "    for i in tqdm(input_df.index):\n",
    "        cust_id = input_df.at[i, 'customer_id']\n",
    "        art_id = input_df.at[i, 'article_id']\n",
    "        t_dat = input_df.at[i, 't_dat']\n",
    "\n",
    "        if cust_id not in purchase_dict:\n",
    "            purchase_dict[cust_id] = {}\n",
    "\n",
    "        if art_id not in purchase_dict[cust_id]:\n",
    "            purchase_dict[cust_id][art_id] = 0\n",
    "    \n",
    "        x = max(1, (last_ts - t_dat).days)\n",
    "\n",
    "        a, b, c, d = 2.5e4, 1.5e5, 2e-1, 1e3\n",
    "        y = a / np.sqrt(x) + b * np.exp(-c*x) - d\n",
    "\n",
    "        value = input_df.at[i, 'quotient'] * max(0, y)\n",
    "        purchase_dict[cust_id][art_id] += value\n",
    "        \n",
    "\n",
    "    pred_list = []\n",
    "    for cust_id in tqdm(sub['customer_id']):\n",
    "        if cust_id in purchase_dict:\n",
    "            series = pd.Series(purchase_dict[cust_id])\n",
    "            series = series[series > 0]\n",
    "            l = series.nlargest(N).index.tolist()\n",
    "            if len(l) < N:\n",
    "                l = l + general_pred[:(N-len(l))]\n",
    "        else:\n",
    "            l = general_pred\n",
    "        l = ['0'+str(ele) for ele in l]\n",
    "        pred_list.append(' '.join(l))\n",
    "\n",
    "    sub['prediction'] = pred_list\n",
    "    return sub"
   ]
  },
  {
   "cell_type": "code",
   "execution_count": 6,
   "id": "dbba4a1d",
   "metadata": {
    "execution": {
     "iopub.execute_input": "2022-03-09T06:40:54.138312Z",
     "iopub.status.busy": "2022-03-09T06:40:54.137614Z",
     "iopub.status.idle": "2022-03-09T07:20:10.117333Z",
     "shell.execute_reply": "2022-03-09T07:20:10.117935Z",
     "shell.execute_reply.started": "2022-03-09T05:55:53.866216Z"
    },
    "papermill": {
     "duration": 2356.010746,
     "end_time": "2022-03-09T07:20:10.118131",
     "exception": false,
     "start_time": "2022-03-09T06:40:54.107385",
     "status": "completed"
    },
    "tags": []
   },
   "outputs": [
    {
     "name": "stderr",
     "output_type": "stream",
     "text": [
      "100%|██████████| 13842036/13842036 [26:34<00:00, 8681.50it/s]\n",
      "100%|██████████| 1371980/1371980 [12:13<00:00, 1869.64it/s]\n"
     ]
    }
   ],
   "source": [
    "tmp1 = df[df.week_no < test_week].reset_index(drop=True).copy()\n",
    "sub1 = make_cold_predictions(tmp1, sub)\n",
    "sub1.to_csv('cold_user_predictions1.csv', index=None)\n",
    "del tmp1"
   ]
  },
  {
   "cell_type": "markdown",
   "id": "23b0292b",
   "metadata": {
    "papermill": {
     "duration": 8.149679,
     "end_time": "2022-03-09T07:20:26.497521",
     "exception": false,
     "start_time": "2022-03-09T07:20:18.347842",
     "status": "completed"
    },
    "tags": []
   },
   "source": [
    "# features by implicit"
   ]
  },
  {
   "cell_type": "code",
   "execution_count": 7,
   "id": "136d8d75",
   "metadata": {
    "execution": {
     "iopub.execute_input": "2022-03-09T07:20:42.963593Z",
     "iopub.status.busy": "2022-03-09T07:20:42.962554Z",
     "iopub.status.idle": "2022-03-09T07:20:42.964403Z",
     "shell.execute_reply": "2022-03-09T07:20:42.964904Z",
     "shell.execute_reply.started": "2022-03-09T03:45:53.20932Z"
    },
    "papermill": {
     "duration": 8.260338,
     "end_time": "2022-03-09T07:20:42.965073",
     "exception": false,
     "start_time": "2022-03-09T07:20:34.704735",
     "status": "completed"
    },
    "tags": []
   },
   "outputs": [],
   "source": [
    "#all_users = df[\"customer_id\"].unique().tolist()\n",
    "#all_items = df[\"article_id\"].unique().tolist()\n",
    "\n",
    "#user_ids = dict(list(enumerate(all_users)))\n",
    "#item_ids = dict(list(enumerate(all_items)))\n",
    "\n",
    "#user_map = {u: uidx for uidx, u in user_ids.items()}\n",
    "#item_map = {u: iidx for iidx, u in item_ids.items()}\n",
    "\n",
    "#df[\"customer_id\"] = df[\"customer_id\"].map(user_map)\n",
    "#df[\"article_id\"] = df[\"article_id\"].map(item_map)\n",
    "\n",
    "#row = df[\"customer_id\"].values\n",
    "#col = df[\"article_id\"].values\n",
    "\n",
    "#data = np.ones(df.shape[0])\n",
    "#coo = coo_matrix((data, (row, col)), shape=(len(all_users), len(all_items)))\n",
    "\n",
    "#model = implicit.als.AlternatingLeastSquares(factors=10, iterations = 5, regularization=0.01)\n",
    "#model.fit(coo)\n",
    "\n",
    "#model.user_factors, model.user_factors.shape\n",
    "#model.item_factors, model.item_factors.shape"
   ]
  },
  {
   "cell_type": "markdown",
   "id": "e08d5d73",
   "metadata": {
    "papermill": {
     "duration": 8.227397,
     "end_time": "2022-03-09T07:20:59.427511",
     "exception": false,
     "start_time": "2022-03-09T07:20:51.200114",
     "status": "completed"
    },
    "tags": []
   },
   "source": [
    "# features by similaripy"
   ]
  },
  {
   "cell_type": "code",
   "execution_count": 8,
   "id": "5dcc0285",
   "metadata": {
    "execution": {
     "iopub.execute_input": "2022-03-09T07:21:16.674755Z",
     "iopub.status.busy": "2022-03-09T07:21:16.673691Z",
     "iopub.status.idle": "2022-03-09T07:21:16.676301Z",
     "shell.execute_reply": "2022-03-09T07:21:16.675808Z",
     "shell.execute_reply.started": "2022-03-09T03:45:53.211309Z"
    },
    "papermill": {
     "duration": 8.496325,
     "end_time": "2022-03-09T07:21:16.676446",
     "exception": false,
     "start_time": "2022-03-09T07:21:08.180121",
     "status": "completed"
    },
    "tags": []
   },
   "outputs": [],
   "source": [
    "# normalize matrix with bm25\n",
    "#coo_bm = similaripy.normalization.bm25(coo)\n",
    "\n",
    "# train the model with 50 knn per item \n",
    "#model = similaripy.cosine(coo_bm.T, k=50)\n",
    "\n",
    "# recommend 100 items to users 1, 14 and 8 filtering the items already seen by each users\n",
    "#user_recommendations = sim.dot_product(coo_bm, model.T, k=100, target_rows=[1,14,8], filter_cols=coo_bm)"
   ]
  },
  {
   "cell_type": "markdown",
   "id": "fd81f0c9",
   "metadata": {
    "papermill": {
     "duration": 8.212839,
     "end_time": "2022-03-09T07:21:33.197270",
     "exception": false,
     "start_time": "2022-03-09T07:21:24.984431",
     "status": "completed"
    },
    "tags": []
   },
   "source": [
    "# features by abstraction block"
   ]
  },
  {
   "cell_type": "code",
   "execution_count": 9,
   "id": "fec9af0b",
   "metadata": {
    "execution": {
     "iopub.execute_input": "2022-03-09T07:21:49.706647Z",
     "iopub.status.busy": "2022-03-09T07:21:49.705633Z",
     "iopub.status.idle": "2022-03-09T07:21:54.844917Z",
     "shell.execute_reply": "2022-03-09T07:21:54.844382Z",
     "shell.execute_reply.started": "2022-03-09T03:45:53.21309Z"
    },
    "papermill": {
     "duration": 13.441579,
     "end_time": "2022-03-09T07:21:54.845069",
     "exception": false,
     "start_time": "2022-03-09T07:21:41.403490",
     "status": "completed"
    },
    "tags": []
   },
   "outputs": [],
   "source": [
    "article_columns = [\"garment_group_no\",\n",
    "                \"product_code\", \"product_type_no\", \n",
    "                \"graphical_appearance_no\", \"colour_group_code\", \"perceived_colour_value_id\",\n",
    "                \"perceived_colour_master_id\", \"department_no\", \"index_group_no\", \n",
    "                \"section_no\"]\n",
    "\n",
    "df = pd.merge(df, article_df[[\"article_id\"] + article_columns], on='article_id', how='left')"
   ]
  },
  {
   "cell_type": "code",
   "execution_count": 10,
   "id": "1d652495",
   "metadata": {
    "execution": {
     "iopub.execute_input": "2022-03-09T07:22:11.239000Z",
     "iopub.status.busy": "2022-03-09T07:22:11.238323Z",
     "iopub.status.idle": "2022-03-09T07:23:17.528642Z",
     "shell.execute_reply": "2022-03-09T07:23:17.528007Z",
     "shell.execute_reply.started": "2022-03-09T03:45:53.214312Z"
    },
    "papermill": {
     "duration": 74.524526,
     "end_time": "2022-03-09T07:23:17.528847",
     "exception": false,
     "start_time": "2022-03-09T07:22:03.004321",
     "status": "completed"
    },
    "tags": []
   },
   "outputs": [],
   "source": [
    "# customerごとに何か購入したweek\n",
    "customer2weeks = df.groupby('customer_id')['week_no'].unique()\n",
    "\n",
    "# customerごとに学習データの特徴量となるweekとラベルとなるweekのペアを作る。\n",
    "customer2weekpairs = {}\n",
    "\n",
    "for c_id, weeks in customer2weeks.items():\n",
    "    customer2weekpairs[c_id] = {}\n",
    "    for i in range(weeks.shape[0]-1):\n",
    "        customer2weekpairs[c_id][weeks[i]] = weeks[i+1]\n",
    "    customer2weekpairs[c_id][weeks[-1]] = test_week"
   ]
  },
  {
   "cell_type": "code",
   "execution_count": 11,
   "id": "4adb0e06",
   "metadata": {
    "execution": {
     "iopub.execute_input": "2022-03-09T07:23:34.156822Z",
     "iopub.status.busy": "2022-03-09T07:23:34.155761Z",
     "iopub.status.idle": "2022-03-09T07:23:34.157692Z",
     "shell.execute_reply": "2022-03-09T07:23:34.158303Z",
     "shell.execute_reply.started": "2022-03-09T03:45:53.215795Z"
    },
    "papermill": {
     "duration": 8.25099,
     "end_time": "2022-03-09T07:23:34.158482",
     "exception": false,
     "start_time": "2022-03-09T07:23:25.907492",
     "status": "completed"
    },
    "tags": []
   },
   "outputs": [],
   "source": [
    "def join(df):\n",
    "    x = [str(e) for e in list(df)]\n",
    "    return \" \".join(x)\n",
    "\n",
    "def label_prev_week(input_df):\n",
    "    weeks = []\n",
    "    for i, (c_id, week) in enumerate(zip(input_df['customer_id'], input_df['week_no'])):\n",
    "        weeks.append(customer2weekpairs[c_id][week])\n",
    "    input_df.week_no=weeks\n",
    "    return input_df"
   ]
  },
  {
   "cell_type": "code",
   "execution_count": 12,
   "id": "f5edf97a",
   "metadata": {
    "execution": {
     "iopub.execute_input": "2022-03-09T07:23:50.770208Z",
     "iopub.status.busy": "2022-03-09T07:23:50.769192Z",
     "iopub.status.idle": "2022-03-09T07:23:50.782994Z",
     "shell.execute_reply": "2022-03-09T07:23:50.783451Z",
     "shell.execute_reply.started": "2022-03-09T03:45:53.219066Z"
    },
    "papermill": {
     "duration": 8.394253,
     "end_time": "2022-03-09T07:23:50.783635",
     "exception": false,
     "start_time": "2022-03-09T07:23:42.389382",
     "status": "completed"
    },
    "tags": []
   },
   "outputs": [],
   "source": [
    "class AbstractBaseBlock:\n",
    "    def fit(self, input_df, y=None):\n",
    "        return self.transform(input_df)\n",
    "\n",
    "    def transform(self, input_df):\n",
    "        raise NotImplementedError()\n",
    "        \n",
    "class UserHistoryEveryBlock(AbstractBaseBlock):\n",
    "    \"\"\"ユーザーの数値履歴を週間で集計した特徴量を付与する block 累積ではない\"\"\"\n",
    "    def __init__(self, item):\n",
    "        self.item = item\n",
    "\n",
    "    def fit(self, input_df, y=None):\n",
    "        out = input_df \\\n",
    "        .groupby(['customer_id', 'week_no'])[self.item].agg([\"sum\", \"std\", \"max\", \"min\"]).add_prefix(\"u_prev_\"+self.item+\"_\").reset_index()\n",
    "        out = label_prev_week(out)\n",
    "        return self.transform(out)\n",
    "\n",
    "    def transform(self, input_df):\n",
    "        return input_df\n",
    "    \n",
    "class UserHistoryVectorEveryBlock(AbstractBaseBlock):\n",
    "    \"\"\"ユーザーの文字履歴を週間で集計しベクトル化した特徴量を付与する block 累積ではない\"\"\"\n",
    "    def __init__(self, item, n_components = 5):\n",
    "        self.item = item\n",
    "        self.n_components = n_components\n",
    "        \n",
    "    def fit(self, input_df, y=None):\n",
    "        docs = input_df.groupby([\"customer_id\", \"week_no\"])[self.item].apply(join)\n",
    "        max_features = int(input_df[self.item].nunique() * 0.8)\n",
    "        tv = TfidfVectorizer(max_features=max_features)\n",
    "        X = tv.fit_transform(docs)\n",
    "        \n",
    "        svd = TruncatedSVD(n_components=self.n_components, random_state=0)\n",
    "        X = svd.fit_transform(X)\n",
    "        result = pd.DataFrame(X, columns=[f\"u_{self.item}_{i}\" for i in range(self.n_components)])\n",
    "        result.index = docs.index\n",
    "        result = result.reset_index()\n",
    "        result = label_prev_week(result)\n",
    "        return self.transform(result)\n",
    "  \n",
    "    def transform(self, input_df):\n",
    "        return input_df  \n",
    "\n",
    "class ItemHistoryEveryBlock(AbstractBaseBlock):\n",
    "    \"\"\"アイテムの数値履歴を週間で集計した特徴量を付与する block 累積ではない\"\"\"\n",
    "    def __init__(self, item):\n",
    "        self.item = item\n",
    "\n",
    "    def fit(self, input_df, y=None):\n",
    "        out = input_df \\\n",
    "        .groupby(['week_no'])[self.item].value_counts()\n",
    "        out = out.to_frame(\"sale_count\").reset_index()\n",
    "        return self.transform(out)\n",
    "\n",
    "    def transform(self, input_df):\n",
    "        return input_df\n",
    "    \n",
    "class ItemHistorySumBlock(AbstractBaseBlock):\n",
    "    \"\"\"アイテムの数値履歴を週間で集計した特徴量を付与する block 累積ではない\"\"\"\n",
    "    def __init__(self, item):\n",
    "        self.item = item\n",
    "\n",
    "    def fit(self, input_df, y=None):\n",
    "        out = input_df \\\n",
    "        .groupby(['week_no', self.item])['price'].agg([\"sum\"]).add_prefix(\"sale_\").reset_index()\n",
    "        return self.transform(out)\n",
    "\n",
    "    def transform(self, input_df):\n",
    "        return input_df"
   ]
  },
  {
   "cell_type": "code",
   "execution_count": 13,
   "id": "71a89408",
   "metadata": {
    "execution": {
     "iopub.execute_input": "2022-03-09T07:24:07.210132Z",
     "iopub.status.busy": "2022-03-09T07:24:07.209249Z",
     "iopub.status.idle": "2022-03-09T07:24:07.211888Z",
     "shell.execute_reply": "2022-03-09T07:24:07.211327Z",
     "shell.execute_reply.started": "2022-03-09T03:45:53.220174Z"
    },
    "papermill": {
     "duration": 8.243078,
     "end_time": "2022-03-09T07:24:07.212039",
     "exception": false,
     "start_time": "2022-03-09T07:23:58.968961",
     "status": "completed"
    },
    "tags": []
   },
   "outputs": [],
   "source": [
    "# user_features\n",
    "#feature_blocks = [\n",
    "#    UserHistoryEveryBlock(\"price\"),\n",
    "#    UserHistoryVectorEveryBlock(\"section_no\"),\n",
    "#    UserHistoryVectorEveryBlock(\"garment_group_no\"),\n",
    "#]\n",
    "\n",
    "#for i, block in enumerate(feature_blocks):\n",
    "#    if i == 0:\n",
    "#        user_features_df = block.fit(df)\n",
    "#    else:\n",
    "#        out_i = block.fit(df)\n",
    "#        user_features_df = pd.merge(user_features_df, out_i, on = [\"customer_id\", \"week_no\"], how=\"left\")\n",
    "        \n",
    "#user_features_df.to_csv(\"user_features.csv\", index=False)\n",
    "#del user_features_df"
   ]
  },
  {
   "cell_type": "code",
   "execution_count": 14,
   "id": "e7b6cfd4",
   "metadata": {
    "execution": {
     "iopub.execute_input": "2022-03-09T07:24:23.830357Z",
     "iopub.status.busy": "2022-03-09T07:24:23.829638Z",
     "iopub.status.idle": "2022-03-09T07:24:37.114374Z",
     "shell.execute_reply": "2022-03-09T07:24:37.113564Z",
     "shell.execute_reply.started": "2022-03-09T03:45:53.223249Z"
    },
    "papermill": {
     "duration": 21.623924,
     "end_time": "2022-03-09T07:24:37.114529",
     "exception": false,
     "start_time": "2022-03-09T07:24:15.490605",
     "status": "completed"
    },
    "tags": []
   },
   "outputs": [],
   "source": [
    "# item_features\n",
    "article_count = ItemHistoryEveryBlock(\"article_id\").fit(df)\n",
    "article_count.to_csv(\"article_count.csv\", index=False)\n",
    "\n",
    "article_sale = ItemHistorySumBlock(\"article_id\").fit(df)\n",
    "article_sale.to_csv(\"article_sale.csv\", index=False)"
   ]
  },
  {
   "cell_type": "code",
   "execution_count": null,
   "id": "55daacbb",
   "metadata": {
    "papermill": {
     "duration": 8.317765,
     "end_time": "2022-03-09T07:24:53.764181",
     "exception": false,
     "start_time": "2022-03-09T07:24:45.446416",
     "status": "completed"
    },
    "tags": []
   },
   "outputs": [],
   "source": []
  }
 ],
 "metadata": {
  "kernelspec": {
   "display_name": "Python 3",
   "language": "python",
   "name": "python3"
  },
  "language_info": {
   "codemirror_mode": {
    "name": "ipython",
    "version": 3
   },
   "file_extension": ".py",
   "mimetype": "text/x-python",
   "name": "python",
   "nbconvert_exporter": "python",
   "pygments_lexer": "ipython3",
   "version": "3.7.12"
  },
  "papermill": {
   "default_parameters": {},
   "duration": 2849.122211,
   "end_time": "2022-03-09T07:25:04.422458",
   "environment_variables": {},
   "exception": null,
   "input_path": "__notebook__.ipynb",
   "output_path": "__notebook__.ipynb",
   "parameters": {},
   "start_time": "2022-03-09T06:37:35.300247",
   "version": "2.3.3"
  }
 },
 "nbformat": 4,
 "nbformat_minor": 5
}
