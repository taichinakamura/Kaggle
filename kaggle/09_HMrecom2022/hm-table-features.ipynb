{
 "cells": [
  {
   "cell_type": "markdown",
   "id": "8c16247a",
   "metadata": {
    "execution": {
     "iopub.execute_input": "2022-03-07T23:26:29.454418Z",
     "iopub.status.busy": "2022-03-07T23:26:29.454082Z",
     "iopub.status.idle": "2022-03-07T23:27:40.64148Z",
     "shell.execute_reply": "2022-03-07T23:27:40.640021Z",
     "shell.execute_reply.started": "2022-03-07T23:26:29.454386Z"
    },
    "papermill": {
     "duration": 0.02001,
     "end_time": "2022-03-09T04:40:58.151338",
     "exception": false,
     "start_time": "2022-03-09T04:40:58.131328",
     "status": "completed"
    },
    "tags": []
   },
   "source": [
    "- consider only item features\n",
    "- add predictions for cold users"
   ]
  },
  {
   "cell_type": "code",
   "execution_count": 1,
   "id": "81ea3e83",
   "metadata": {
    "execution": {
     "iopub.execute_input": "2022-03-09T04:40:58.199119Z",
     "iopub.status.busy": "2022-03-09T04:40:58.197984Z",
     "iopub.status.idle": "2022-03-09T04:41:50.347394Z",
     "shell.execute_reply": "2022-03-09T04:41:50.346812Z",
     "shell.execute_reply.started": "2022-03-09T03:10:21.420699Z"
    },
    "papermill": {
     "duration": 52.176252,
     "end_time": "2022-03-09T04:41:50.347523",
     "exception": false,
     "start_time": "2022-03-09T04:40:58.171271",
     "status": "completed"
    },
    "tags": []
   },
   "outputs": [
    {
     "name": "stdout",
     "output_type": "stream",
     "text": [
      "Collecting similaripy\r\n",
      "  Downloading similaripy-0.1.2.tar.gz (331 kB)\r\n",
      "     |████████████████████████████████| 331 kB 594 kB/s            \r\n",
      "\u001b[?25h  Preparing metadata (setup.py) ... \u001b[?25l-\b \b\\\b \bdone\r\n",
      "\u001b[?25hRequirement already satisfied: scipy>=1.0.0 in /opt/conda/lib/python3.7/site-packages (from similaripy) (1.7.3)\r\n",
      "Requirement already satisfied: numpy>=1.14.0 in /opt/conda/lib/python3.7/site-packages (from similaripy) (1.20.3)\r\n",
      "Requirement already satisfied: tqdm>=4.19.6 in /opt/conda/lib/python3.7/site-packages (from similaripy) (4.62.3)\r\n",
      "Building wheels for collected packages: similaripy\r\n",
      "  Building wheel for similaripy (setup.py) ... \u001b[?25l-\b \b\\\b \b|\b \b/\b \b-\b \b\\\b \b|\b \b/\b \b-\b \bdone\r\n",
      "\u001b[?25h  Created wheel for similaripy: filename=similaripy-0.1.2-cp37-cp37m-linux_x86_64.whl size=2040875 sha256=102dba8f672fca03a6b64493feb93c7eb21e582fc03d8d0f3a90b8f54b9acc4b\r\n",
      "  Stored in directory: /root/.cache/pip/wheels/2e/81/4b/7a396ebc45534553ddee1eb106d99023df4d9d09b53b13cc66\r\n",
      "Successfully built similaripy\r\n",
      "Installing collected packages: similaripy\r\n",
      "Successfully installed similaripy-0.1.2\r\n",
      "\u001b[33mWARNING: Running pip as the 'root' user can result in broken permissions and conflicting behaviour with the system package manager. It is recommended to use a virtual environment instead: https://pip.pypa.io/warnings/venv\u001b[0m\r\n"
     ]
    }
   ],
   "source": [
    "!pip install similaripy"
   ]
  },
  {
   "cell_type": "code",
   "execution_count": 2,
   "id": "42391c80",
   "metadata": {
    "execution": {
     "iopub.execute_input": "2022-03-09T04:41:50.408741Z",
     "iopub.status.busy": "2022-03-09T04:41:50.407585Z",
     "iopub.status.idle": "2022-03-09T04:41:51.782533Z",
     "shell.execute_reply": "2022-03-09T04:41:51.781995Z",
     "shell.execute_reply.started": "2022-03-09T03:11:27.882917Z"
    },
    "papermill": {
     "duration": 1.408107,
     "end_time": "2022-03-09T04:41:51.782646",
     "exception": false,
     "start_time": "2022-03-09T04:41:50.374539",
     "status": "completed"
    },
    "tags": []
   },
   "outputs": [],
   "source": [
    "import numpy as np\n",
    "import pandas as pd\n",
    "from tqdm import tqdm\n",
    "from sklearn import preprocessing\n",
    "from scipy.sparse import coo_matrix\n",
    "from sklearn.decomposition import TruncatedSVD\n",
    "from sklearn.feature_extraction.text import TfidfVectorizer\n",
    "from sklearn.decomposition import LatentDirichletAllocation\n",
    "import implicit\n",
    "import similaripy\n",
    "\n",
    "import warnings\n",
    "warnings.filterwarnings('ignore')\n",
    "\n",
    "tqdm.pandas()"
   ]
  },
  {
   "cell_type": "code",
   "execution_count": 3,
   "id": "e67161c0",
   "metadata": {
    "execution": {
     "iopub.execute_input": "2022-03-09T04:41:51.841462Z",
     "iopub.status.busy": "2022-03-09T04:41:51.840951Z",
     "iopub.status.idle": "2022-03-09T04:43:01.031162Z",
     "shell.execute_reply": "2022-03-09T04:43:01.030719Z",
     "shell.execute_reply.started": "2022-03-09T03:11:29.175340Z"
    },
    "papermill": {
     "duration": 69.221953,
     "end_time": "2022-03-09T04:43:01.031277",
     "exception": false,
     "start_time": "2022-03-09T04:41:51.809324",
     "status": "completed"
    },
    "tags": []
   },
   "outputs": [],
   "source": [
    "DATA_DIR = \"/kaggle/input/h-and-m-personalized-fashion-recommendations/\"\n",
    "df = pd.read_csv(DATA_DIR + \"transactions_train.csv\")\n",
    "article_df = pd.read_csv(DATA_DIR + \"articles.csv\")\n",
    "customer_df = pd.read_csv(DATA_DIR + \"customers.csv\")"
   ]
  },
  {
   "cell_type": "code",
   "execution_count": 4,
   "id": "e2a6aa1e",
   "metadata": {
    "execution": {
     "iopub.execute_input": "2022-03-09T04:43:01.099669Z",
     "iopub.status.busy": "2022-03-09T04:43:01.091615Z",
     "iopub.status.idle": "2022-03-09T04:43:35.881928Z",
     "shell.execute_reply": "2022-03-09T04:43:35.882320Z",
     "shell.execute_reply.started": "2022-03-09T03:12:44.019810Z"
    },
    "papermill": {
     "duration": 34.824801,
     "end_time": "2022-03-09T04:43:35.882468",
     "exception": false,
     "start_time": "2022-03-09T04:43:01.057667",
     "status": "completed"
    },
    "tags": []
   },
   "outputs": [],
   "source": [
    "df[\"t_dat\"] = pd.to_datetime(df[\"t_dat\"])\n",
    "\n",
    "date_week_df = df.drop_duplicates(\"t_dat\")[[\"t_dat\"]].reset_index(drop=True)\n",
    "date_week_df['week_no'] = (date_week_df['t_dat'] + pd.DateOffset(days=5)).dt.week\n",
    "date_week_df[\"week_no\"] = date_week_df[\"week_no\"].diff(1)\n",
    "date_week_df[\"week_no\"].fillna(0, inplace=True)\n",
    "date_week_df[\"week_no\"] = date_week_df[\"week_no\"] != 0\n",
    "date_week_df[\"week_no\"] = date_week_df[\"week_no\"].cumsum()\n",
    "\n",
    "df = pd.merge(df, date_week_df, on=\"t_dat\", how=\"left\")\n",
    "\n",
    "df.sort_values(['t_dat', 'customer_id'], inplace=True)\n",
    "\n",
    "test_week = df.week_no.max()\n",
    "last_ts = df['t_dat'].max()\n",
    "\n",
    "df = df[df.week_no > df.week_no.max() - 50].reset_index(drop=True)"
   ]
  },
  {
   "cell_type": "markdown",
   "id": "c8326d90",
   "metadata": {
    "papermill": {
     "duration": 0.026311,
     "end_time": "2022-03-09T04:43:35.935924",
     "exception": false,
     "start_time": "2022-03-09T04:43:35.909613",
     "status": "completed"
    },
    "tags": []
   },
   "source": [
    "# preds for cold users\n",
    "- https://www.kaggle.com/byfone/h-m-trending-products-weekly"
   ]
  },
  {
   "cell_type": "code",
   "execution_count": 5,
   "id": "1e92c42a",
   "metadata": {
    "execution": {
     "iopub.execute_input": "2022-03-09T04:43:35.994698Z",
     "iopub.status.busy": "2022-03-09T04:43:35.993614Z",
     "iopub.status.idle": "2022-03-09T04:43:35.996277Z",
     "shell.execute_reply": "2022-03-09T04:43:35.996657Z",
     "shell.execute_reply.started": "2022-03-09T03:13:20.461737Z"
    },
    "papermill": {
     "duration": 0.033619,
     "end_time": "2022-03-09T04:43:35.996778",
     "exception": false,
     "start_time": "2022-03-09T04:43:35.963159",
     "status": "completed"
    },
    "tags": []
   },
   "outputs": [],
   "source": [
    "# Add the last day of billing week\n",
    "#df['ldbw'] = df['t_dat'].progress_apply(lambda d: last_ts - (last_ts - d).floor('7D'))"
   ]
  },
  {
   "cell_type": "code",
   "execution_count": 6,
   "id": "79fb6921",
   "metadata": {
    "execution": {
     "iopub.execute_input": "2022-03-09T04:43:36.052577Z",
     "iopub.status.busy": "2022-03-09T04:43:36.052122Z",
     "iopub.status.idle": "2022-03-09T04:43:40.986571Z",
     "shell.execute_reply": "2022-03-09T04:43:40.986995Z",
     "shell.execute_reply.started": "2022-03-09T03:13:20.468643Z"
    },
    "papermill": {
     "duration": 4.963805,
     "end_time": "2022-03-09T04:43:40.987135",
     "exception": false,
     "start_time": "2022-03-09T04:43:36.023330",
     "status": "completed"
    },
    "tags": []
   },
   "outputs": [],
   "source": [
    "# Count the number of transactions per week¶\n",
    "weekly_sales = df.drop('customer_id', axis=1).groupby(['week_no', 'article_id'])['t_dat'].count().reset_index()\n",
    "weekly_sales = weekly_sales.rename(columns={'t_dat': 'count'})\n",
    "df = pd.merge(df, weekly_sales, on=['week_no', 'article_id'], how=\"left\")"
   ]
  },
  {
   "cell_type": "code",
   "execution_count": 7,
   "id": "b93711bf",
   "metadata": {
    "execution": {
     "iopub.execute_input": "2022-03-09T04:43:41.046360Z",
     "iopub.status.busy": "2022-03-09T04:43:41.045675Z",
     "iopub.status.idle": "2022-03-09T04:43:43.150007Z",
     "shell.execute_reply": "2022-03-09T04:43:43.149417Z",
     "shell.execute_reply.started": "2022-03-09T03:13:26.740502Z"
    },
    "papermill": {
     "duration": 2.134451,
     "end_time": "2022-03-09T04:43:43.150140",
     "exception": false,
     "start_time": "2022-03-09T04:43:41.015689",
     "status": "completed"
    },
    "tags": []
   },
   "outputs": [],
   "source": [
    "#Let's assume that in the target week sales will be similar to the last week of the training data\n",
    "weekly_sales = weekly_sales.set_index('article_id')\n",
    "\n",
    "df = df.join(\n",
    "    weekly_sales.loc[weekly_sales['week_no']==test_week-1, ['count']],\n",
    "    on='article_id', rsuffix=\"_targ\")\n",
    "\n",
    "df['count_targ'].fillna(0, inplace=True)\n",
    "del weekly_sales"
   ]
  },
  {
   "cell_type": "code",
   "execution_count": 8,
   "id": "bde02d1a",
   "metadata": {
    "execution": {
     "iopub.execute_input": "2022-03-09T04:43:43.232816Z",
     "iopub.status.busy": "2022-03-09T04:43:43.232166Z",
     "iopub.status.idle": "2022-03-09T04:43:43.276195Z",
     "shell.execute_reply": "2022-03-09T04:43:43.275501Z",
     "shell.execute_reply.started": "2022-03-09T03:13:30.718349Z"
    },
    "papermill": {
     "duration": 0.08638,
     "end_time": "2022-03-09T04:43:43.276334",
     "exception": false,
     "start_time": "2022-03-09T04:43:43.189954",
     "status": "completed"
    },
    "tags": []
   },
   "outputs": [],
   "source": [
    "# Calculate sales rate adjusted for changes in product popularity¶\n",
    "df['quotient'] = df['count_targ'] / df['count']"
   ]
  },
  {
   "cell_type": "code",
   "execution_count": 9,
   "id": "7d1c6fa4",
   "metadata": {
    "execution": {
     "iopub.execute_input": "2022-03-09T04:43:43.363960Z",
     "iopub.status.busy": "2022-03-09T04:43:43.362923Z",
     "iopub.status.idle": "2022-03-09T04:43:44.241351Z",
     "shell.execute_reply": "2022-03-09T04:43:44.240565Z",
     "shell.execute_reply.started": "2022-03-09T03:13:30.805231Z"
    },
    "papermill": {
     "duration": 0.924998,
     "end_time": "2022-03-09T04:43:44.241506",
     "exception": false,
     "start_time": "2022-03-09T04:43:43.316508",
     "status": "completed"
    },
    "tags": []
   },
   "outputs": [],
   "source": [
    "N = 12\n",
    "# Take supposedly popular products¶\n",
    "target_sales = df.drop('customer_id', axis=1).groupby('article_id')['quotient'].sum()\n",
    "general_pred = target_sales.nlargest(N).index.tolist()\n",
    "del target_sales"
   ]
  },
  {
   "cell_type": "code",
   "execution_count": 10,
   "id": "5d8417c3",
   "metadata": {
    "execution": {
     "iopub.execute_input": "2022-03-09T04:43:44.330512Z",
     "iopub.status.busy": "2022-03-09T04:43:44.329609Z",
     "iopub.status.idle": "2022-03-09T05:02:28.296815Z",
     "shell.execute_reply": "2022-03-09T05:02:28.303516Z",
     "shell.execute_reply.started": "2022-03-09T03:13:32.450741Z"
    },
    "papermill": {
     "duration": 1124.021985,
     "end_time": "2022-03-09T05:02:28.303773",
     "exception": false,
     "start_time": "2022-03-09T04:43:44.281788",
     "status": "completed"
    },
    "tags": []
   },
   "outputs": [
    {
     "name": "stderr",
     "output_type": "stream",
     "text": [
      "100%|██████████| 14082347/14082347 [18:43<00:00, 12529.26it/s]\n"
     ]
    }
   ],
   "source": [
    "# Fill in purchase dictionary¶\n",
    "purchase_dict = {}\n",
    "\n",
    "for i in tqdm(df.index):\n",
    "    cust_id = df.at[i, 'customer_id']\n",
    "    art_id = df.at[i, 'article_id']\n",
    "    t_dat = df.at[i, 't_dat']\n",
    "\n",
    "    if cust_id not in purchase_dict:\n",
    "        purchase_dict[cust_id] = {}\n",
    "\n",
    "    if art_id not in purchase_dict[cust_id]:\n",
    "        purchase_dict[cust_id][art_id] = 0\n",
    "    \n",
    "    x = max(1, (last_ts - t_dat).days)\n",
    "\n",
    "    a, b, c, d = 2.5e4, 1.5e5, 2e-1, 1e3\n",
    "    y = a / np.sqrt(x) + b * np.exp(-c*x) - d\n",
    "\n",
    "    value = df.at[i, 'quotient'] * max(0, y)\n",
    "    purchase_dict[cust_id][art_id] += value"
   ]
  },
  {
   "cell_type": "code",
   "execution_count": 11,
   "id": "ac3b0028",
   "metadata": {
    "execution": {
     "iopub.execute_input": "2022-03-09T05:02:36.129899Z",
     "iopub.status.busy": "2022-03-09T05:02:36.129223Z",
     "iopub.status.idle": "2022-03-09T05:13:12.122794Z",
     "shell.execute_reply": "2022-03-09T05:13:12.122253Z",
     "shell.execute_reply.started": "2022-03-09T04:23:52.726863Z"
    },
    "papermill": {
     "duration": 639.298294,
     "end_time": "2022-03-09T05:13:12.122934",
     "exception": false,
     "start_time": "2022-03-09T05:02:32.824640",
     "status": "completed"
    },
    "tags": []
   },
   "outputs": [
    {
     "name": "stderr",
     "output_type": "stream",
     "text": [
      "100%|██████████| 1371980/1371980 [10:24<00:00, 2195.29it/s]\n"
     ]
    }
   ],
   "source": [
    "sub = pd.read_csv(DATA_DIR + 'sample_submission.csv')\n",
    "\n",
    "pred_list = []\n",
    "for cust_id in tqdm(sub['customer_id']):\n",
    "    if cust_id in purchase_dict:\n",
    "        series = pd.Series(purchase_dict[cust_id])\n",
    "        series = series[series > 0]\n",
    "        l = series.nlargest(N).index.tolist()\n",
    "        if len(l) < N:\n",
    "            l = l + general_pred[:(N-len(l))]\n",
    "    else:\n",
    "        l = general_pred\n",
    "    l = ['0'+str(ele) for ele in l]\n",
    "    pred_list.append(' '.join(l))\n",
    "\n",
    "sub['prediction'] = pred_list\n",
    "sub.to_csv('cold_user_predictions.csv', index=None)"
   ]
  },
  {
   "cell_type": "markdown",
   "id": "0285bcc4",
   "metadata": {
    "papermill": {
     "duration": 4.942649,
     "end_time": "2022-03-09T05:13:22.142505",
     "exception": false,
     "start_time": "2022-03-09T05:13:17.199856",
     "status": "completed"
    },
    "tags": []
   },
   "source": [
    "# features by implicit"
   ]
  },
  {
   "cell_type": "code",
   "execution_count": 12,
   "id": "6716ba9b",
   "metadata": {
    "execution": {
     "iopub.execute_input": "2022-03-09T05:13:32.208539Z",
     "iopub.status.busy": "2022-03-09T05:13:32.207741Z",
     "iopub.status.idle": "2022-03-09T05:13:32.209377Z",
     "shell.execute_reply": "2022-03-09T05:13:32.209744Z",
     "shell.execute_reply.started": "2022-03-09T03:45:53.209320Z"
    },
    "papermill": {
     "duration": 4.982896,
     "end_time": "2022-03-09T05:13:32.209911",
     "exception": false,
     "start_time": "2022-03-09T05:13:27.227015",
     "status": "completed"
    },
    "tags": []
   },
   "outputs": [],
   "source": [
    "#all_users = df[\"customer_id\"].unique().tolist()\n",
    "#all_items = df[\"article_id\"].unique().tolist()\n",
    "\n",
    "#user_ids = dict(list(enumerate(all_users)))\n",
    "#item_ids = dict(list(enumerate(all_items)))\n",
    "\n",
    "#user_map = {u: uidx for uidx, u in user_ids.items()}\n",
    "#item_map = {u: iidx for iidx, u in item_ids.items()}\n",
    "\n",
    "#df[\"customer_id\"] = df[\"customer_id\"].map(user_map)\n",
    "#df[\"article_id\"] = df[\"article_id\"].map(item_map)\n",
    "\n",
    "#row = df[\"customer_id\"].values\n",
    "#col = df[\"article_id\"].values\n",
    "\n",
    "#data = np.ones(df.shape[0])\n",
    "#coo = coo_matrix((data, (row, col)), shape=(len(all_users), len(all_items)))\n",
    "\n",
    "#model = implicit.als.AlternatingLeastSquares(factors=10, iterations = 5, regularization=0.01)\n",
    "#model.fit(coo)\n",
    "\n",
    "#model.user_factors, model.user_factors.shape\n",
    "#model.item_factors, model.item_factors.shape"
   ]
  },
  {
   "cell_type": "markdown",
   "id": "5f149e47",
   "metadata": {
    "papermill": {
     "duration": 5.211114,
     "end_time": "2022-03-09T05:13:42.466777",
     "exception": false,
     "start_time": "2022-03-09T05:13:37.255663",
     "status": "completed"
    },
    "tags": []
   },
   "source": [
    "# features by similaripy"
   ]
  },
  {
   "cell_type": "code",
   "execution_count": 13,
   "id": "68762891",
   "metadata": {
    "execution": {
     "iopub.execute_input": "2022-03-09T05:13:54.671222Z",
     "iopub.status.busy": "2022-03-09T05:13:54.670621Z",
     "iopub.status.idle": "2022-03-09T05:13:54.675147Z",
     "shell.execute_reply": "2022-03-09T05:13:54.674554Z",
     "shell.execute_reply.started": "2022-03-09T03:45:53.211309Z"
    },
    "papermill": {
     "duration": 5.185751,
     "end_time": "2022-03-09T05:13:54.675308",
     "exception": false,
     "start_time": "2022-03-09T05:13:49.489557",
     "status": "completed"
    },
    "tags": []
   },
   "outputs": [],
   "source": [
    "# normalize matrix with bm25\n",
    "#coo_bm = similaripy.normalization.bm25(coo)\n",
    "\n",
    "# train the model with 50 knn per item \n",
    "#model = similaripy.cosine(coo_bm.T, k=50)\n",
    "\n",
    "# recommend 100 items to users 1, 14 and 8 filtering the items already seen by each users\n",
    "#user_recommendations = sim.dot_product(coo_bm, model.T, k=100, target_rows=[1,14,8], filter_cols=coo_bm)"
   ]
  },
  {
   "cell_type": "markdown",
   "id": "717568a2",
   "metadata": {
    "papermill": {
     "duration": 5.01165,
     "end_time": "2022-03-09T05:14:04.820682",
     "exception": false,
     "start_time": "2022-03-09T05:13:59.809032",
     "status": "completed"
    },
    "tags": []
   },
   "source": [
    "# features by abstraction block"
   ]
  },
  {
   "cell_type": "code",
   "execution_count": 14,
   "id": "afb54500",
   "metadata": {
    "execution": {
     "iopub.execute_input": "2022-03-09T05:14:14.968774Z",
     "iopub.status.busy": "2022-03-09T05:14:14.968051Z",
     "iopub.status.idle": "2022-03-09T05:14:18.565629Z",
     "shell.execute_reply": "2022-03-09T05:14:18.565062Z",
     "shell.execute_reply.started": "2022-03-09T03:45:53.213090Z"
    },
    "papermill": {
     "duration": 8.719365,
     "end_time": "2022-03-09T05:14:18.565797",
     "exception": false,
     "start_time": "2022-03-09T05:14:09.846432",
     "status": "completed"
    },
    "tags": []
   },
   "outputs": [],
   "source": [
    "article_columns = [\"garment_group_no\",\n",
    "                \"product_code\", \"product_type_no\", \n",
    "                \"graphical_appearance_no\", \"colour_group_code\", \"perceived_colour_value_id\",\n",
    "                \"perceived_colour_master_id\", \"department_no\", \"index_group_no\", \n",
    "                \"section_no\"]\n",
    "\n",
    "df = pd.merge(df, article_df[[\"article_id\"] + article_columns], on='article_id', how='left')"
   ]
  },
  {
   "cell_type": "code",
   "execution_count": 15,
   "id": "83447828",
   "metadata": {
    "execution": {
     "iopub.execute_input": "2022-03-09T05:14:32.978069Z",
     "iopub.status.busy": "2022-03-09T05:14:32.571980Z",
     "iopub.status.idle": "2022-03-09T05:15:24.827909Z",
     "shell.execute_reply": "2022-03-09T05:15:24.827285Z",
     "shell.execute_reply.started": "2022-03-09T03:45:53.214312Z"
    },
    "papermill": {
     "duration": 60.043622,
     "end_time": "2022-03-09T05:15:24.828040",
     "exception": false,
     "start_time": "2022-03-09T05:14:24.784418",
     "status": "completed"
    },
    "tags": []
   },
   "outputs": [],
   "source": [
    "# customerごとに何か購入したweek\n",
    "customer2weeks = df.groupby('customer_id')['week_no'].unique()\n",
    "\n",
    "# customerごとに学習データの特徴量となるweekとラベルとなるweekのペアを作る。\n",
    "customer2weekpairs = {}\n",
    "\n",
    "for c_id, weeks in customer2weeks.items():\n",
    "    customer2weekpairs[c_id] = {}\n",
    "    for i in range(weeks.shape[0]-1):\n",
    "        customer2weekpairs[c_id][weeks[i]] = weeks[i+1]\n",
    "    customer2weekpairs[c_id][weeks[-1]] = test_week"
   ]
  },
  {
   "cell_type": "code",
   "execution_count": 16,
   "id": "591f2ec7",
   "metadata": {
    "execution": {
     "iopub.execute_input": "2022-03-09T05:15:34.932166Z",
     "iopub.status.busy": "2022-03-09T05:15:34.931478Z",
     "iopub.status.idle": "2022-03-09T05:15:34.936194Z",
     "shell.execute_reply": "2022-03-09T05:15:34.936645Z",
     "shell.execute_reply.started": "2022-03-09T03:45:53.215795Z"
    },
    "papermill": {
     "duration": 5.067417,
     "end_time": "2022-03-09T05:15:34.936788",
     "exception": false,
     "start_time": "2022-03-09T05:15:29.869371",
     "status": "completed"
    },
    "tags": []
   },
   "outputs": [],
   "source": [
    "def join(df):\n",
    "    x = [str(e) for e in list(df)]\n",
    "    return \" \".join(x)\n",
    "\n",
    "def label_prev_week(input_df):\n",
    "    weeks = []\n",
    "    for i, (c_id, week) in enumerate(zip(input_df['customer_id'], input_df['week_no'])):\n",
    "        weeks.append(customer2weekpairs[c_id][week])\n",
    "    input_df.week_no=weeks\n",
    "    return input_df"
   ]
  },
  {
   "cell_type": "code",
   "execution_count": 17,
   "id": "af4ce635",
   "metadata": {
    "execution": {
     "iopub.execute_input": "2022-03-09T05:15:44.937081Z",
     "iopub.status.busy": "2022-03-09T05:15:44.936318Z",
     "iopub.status.idle": "2022-03-09T05:15:44.950867Z",
     "shell.execute_reply": "2022-03-09T05:15:44.951278Z",
     "shell.execute_reply.started": "2022-03-09T03:45:53.219066Z"
    },
    "papermill": {
     "duration": 4.956728,
     "end_time": "2022-03-09T05:15:44.951422",
     "exception": false,
     "start_time": "2022-03-09T05:15:39.994694",
     "status": "completed"
    },
    "tags": []
   },
   "outputs": [],
   "source": [
    "class AbstractBaseBlock:\n",
    "    def fit(self, input_df, y=None):\n",
    "        return self.transform(input_df)\n",
    "\n",
    "    def transform(self, input_df):\n",
    "        raise NotImplementedError()\n",
    "        \n",
    "class UserHistoryEveryBlock(AbstractBaseBlock):\n",
    "    \"\"\"ユーザーの数値履歴を週間で集計した特徴量を付与する block 累積ではない\"\"\"\n",
    "    def __init__(self, item):\n",
    "        self.item = item\n",
    "\n",
    "    def fit(self, input_df, y=None):\n",
    "        out = input_df \\\n",
    "        .groupby(['customer_id', 'week_no'])[self.item].agg([\"sum\", \"std\", \"max\", \"min\"]).add_prefix(\"u_prev_\"+self.item+\"_\").reset_index()\n",
    "        out = label_prev_week(out)\n",
    "        return self.transform(out)\n",
    "\n",
    "    def transform(self, input_df):\n",
    "        return input_df\n",
    "    \n",
    "class UserHistoryVectorEveryBlock(AbstractBaseBlock):\n",
    "    \"\"\"ユーザーの文字履歴を週間で集計しベクトル化した特徴量を付与する block 累積ではない\"\"\"\n",
    "    def __init__(self, item, n_components = 5):\n",
    "        self.item = item\n",
    "        self.n_components = n_components\n",
    "        \n",
    "    def fit(self, input_df, y=None):\n",
    "        docs = input_df.groupby([\"customer_id\", \"week_no\"])[self.item].apply(join)\n",
    "        max_features = int(input_df[self.item].nunique() * 0.8)\n",
    "        tv = TfidfVectorizer(max_features=max_features)\n",
    "        X = tv.fit_transform(docs)\n",
    "        \n",
    "        svd = TruncatedSVD(n_components=self.n_components, random_state=0)\n",
    "        X = svd.fit_transform(X)\n",
    "        result = pd.DataFrame(X, columns=[f\"u_{self.item}_{i}\" for i in range(self.n_components)])\n",
    "        result.index = docs.index\n",
    "        result = result.reset_index()\n",
    "        result = label_prev_week(result)\n",
    "        return self.transform(result)\n",
    "  \n",
    "    def transform(self, input_df):\n",
    "        return input_df  \n",
    "\n",
    "class ItemHistoryEveryBlock(AbstractBaseBlock):\n",
    "    \"\"\"アイテムの数値履歴を週間で集計した特徴量を付与する block 累積ではない\"\"\"\n",
    "    def __init__(self, item):\n",
    "        self.item = item\n",
    "\n",
    "    def fit(self, input_df, y=None):\n",
    "        out = input_df \\\n",
    "        .groupby(['week_no'])[self.item].value_counts()\n",
    "        out = out.to_frame(\"sale_count\").reset_index()\n",
    "        return self.transform(out)\n",
    "\n",
    "    def transform(self, input_df):\n",
    "        return input_df\n",
    "    \n",
    "class ItemHistorySumBlock(AbstractBaseBlock):\n",
    "    \"\"\"アイテムの数値履歴を週間で集計した特徴量を付与する block 累積ではない\"\"\"\n",
    "    def __init__(self, item):\n",
    "        self.item = item\n",
    "\n",
    "    def fit(self, input_df, y=None):\n",
    "        out = input_df \\\n",
    "        .groupby(['week_no', self.item])['price'].agg([\"sum\"]).add_prefix(\"sale_\").reset_index()\n",
    "        return self.transform(out)\n",
    "\n",
    "    def transform(self, input_df):\n",
    "        return input_df"
   ]
  },
  {
   "cell_type": "code",
   "execution_count": 18,
   "id": "d0c36dc9",
   "metadata": {
    "execution": {
     "iopub.execute_input": "2022-03-09T05:15:55.079295Z",
     "iopub.status.busy": "2022-03-09T05:15:55.078557Z",
     "iopub.status.idle": "2022-03-09T05:15:55.080675Z",
     "shell.execute_reply": "2022-03-09T05:15:55.080299Z",
     "shell.execute_reply.started": "2022-03-09T03:45:53.220174Z"
    },
    "papermill": {
     "duration": 5.000132,
     "end_time": "2022-03-09T05:15:55.080785",
     "exception": false,
     "start_time": "2022-03-09T05:15:50.080653",
     "status": "completed"
    },
    "tags": []
   },
   "outputs": [],
   "source": [
    "# user_features\n",
    "#feature_blocks = [\n",
    "#    UserHistoryEveryBlock(\"price\"),\n",
    "#    UserHistoryVectorEveryBlock(\"section_no\"),\n",
    "#    UserHistoryVectorEveryBlock(\"garment_group_no\"),\n",
    "#]\n",
    "\n",
    "#for i, block in enumerate(feature_blocks):\n",
    "#    if i == 0:\n",
    "#        user_features_df = block.fit(df)\n",
    "#    else:\n",
    "#        out_i = block.fit(df)\n",
    "#        user_features_df = pd.merge(user_features_df, out_i, on = [\"customer_id\", \"week_no\"], how=\"left\")\n",
    "        \n",
    "#user_features_df.to_csv(\"user_features.csv\", index=False)\n",
    "#del user_features_df"
   ]
  },
  {
   "cell_type": "code",
   "execution_count": 19,
   "id": "5c8082d3",
   "metadata": {
    "execution": {
     "iopub.execute_input": "2022-03-09T05:16:05.234544Z",
     "iopub.status.busy": "2022-03-09T05:16:05.234014Z",
     "iopub.status.idle": "2022-03-09T05:16:13.733014Z",
     "shell.execute_reply": "2022-03-09T05:16:13.732542Z",
     "shell.execute_reply.started": "2022-03-09T03:45:53.223249Z"
    },
    "papermill": {
     "duration": 13.573963,
     "end_time": "2022-03-09T05:16:13.733127",
     "exception": false,
     "start_time": "2022-03-09T05:16:00.159164",
     "status": "completed"
    },
    "tags": []
   },
   "outputs": [],
   "source": [
    "# item_features\n",
    "article_count = ItemHistoryEveryBlock(\"article_id\").fit(df)\n",
    "article_count.to_csv(\"article_count.csv\", index=False)\n",
    "\n",
    "article_sale = ItemHistorySumBlock(\"article_id\").fit(df)\n",
    "article_sale.to_csv(\"article_sale.csv\", index=False)"
   ]
  },
  {
   "cell_type": "code",
   "execution_count": null,
   "id": "51196d87",
   "metadata": {
    "papermill": {
     "duration": 5.662199,
     "end_time": "2022-03-09T05:16:24.377948",
     "exception": false,
     "start_time": "2022-03-09T05:16:18.715749",
     "status": "completed"
    },
    "tags": []
   },
   "outputs": [],
   "source": []
  }
 ],
 "metadata": {
  "kernelspec": {
   "display_name": "Python 3",
   "language": "python",
   "name": "python3"
  },
  "language_info": {
   "codemirror_mode": {
    "name": "ipython",
    "version": 3
   },
   "file_extension": ".py",
   "mimetype": "text/x-python",
   "name": "python",
   "nbconvert_exporter": "python",
   "pygments_lexer": "ipython3",
   "version": "3.7.12"
  },
  "papermill": {
   "default_parameters": {},
   "duration": 2142.762663,
   "end_time": "2022-03-09T05:16:32.025964",
   "environment_variables": {},
   "exception": null,
   "input_path": "__notebook__.ipynb",
   "output_path": "__notebook__.ipynb",
   "parameters": {},
   "start_time": "2022-03-09T04:40:49.263301",
   "version": "2.3.3"
  }
 },
 "nbformat": 4,
 "nbformat_minor": 5
}
