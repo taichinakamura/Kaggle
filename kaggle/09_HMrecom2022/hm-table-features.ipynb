{
 "cells": [
  {
   "cell_type": "code",
   "execution_count": 1,
   "id": "df8f2512",
   "metadata": {
    "_cell_guid": "b1076dfc-b9ad-4769-8c92-a6c4dae69d19",
    "_uuid": "8f2839f25d086af736a60e9eeb907d3b93b6e0e5",
    "execution": {
     "iopub.execute_input": "2022-03-06T01:26:08.765029Z",
     "iopub.status.busy": "2022-03-06T01:26:08.763814Z",
     "iopub.status.idle": "2022-03-06T01:26:09.992610Z",
     "shell.execute_reply": "2022-03-06T01:26:09.991872Z",
     "shell.execute_reply.started": "2022-03-06T01:18:48.936773Z"
    },
    "papermill": {
     "duration": 1.245696,
     "end_time": "2022-03-06T01:26:09.992864",
     "exception": false,
     "start_time": "2022-03-06T01:26:08.747168",
     "status": "completed"
    },
    "tags": []
   },
   "outputs": [],
   "source": [
    "import numpy as np\n",
    "import pandas as pd\n",
    "from tqdm import tqdm\n",
    "from sklearn import preprocessing\n",
    "from sklearn.decomposition import TruncatedSVD\n",
    "from sklearn.feature_extraction.text import TfidfVectorizer\n",
    "from sklearn.decomposition import LatentDirichletAllocation\n",
    "\n",
    "import warnings\n",
    "warnings.filterwarnings('ignore')"
   ]
  },
  {
   "cell_type": "code",
   "execution_count": 2,
   "id": "4c819b7b",
   "metadata": {
    "execution": {
     "iopub.execute_input": "2022-03-06T01:26:10.024878Z",
     "iopub.status.busy": "2022-03-06T01:26:10.024105Z",
     "iopub.status.idle": "2022-03-06T01:27:23.499295Z",
     "shell.execute_reply": "2022-03-06T01:27:23.498687Z",
     "shell.execute_reply.started": "2022-03-06T01:18:50.192669Z"
    },
    "papermill": {
     "duration": 73.493393,
     "end_time": "2022-03-06T01:27:23.499457",
     "exception": false,
     "start_time": "2022-03-06T01:26:10.006064",
     "status": "completed"
    },
    "tags": []
   },
   "outputs": [],
   "source": [
    "DATA_DIR = \"/kaggle/input/h-and-m-personalized-fashion-recommendations/\"\n",
    "df = pd.read_csv(DATA_DIR + \"transactions_train.csv\")\n",
    "article_df = pd.read_csv(DATA_DIR + \"articles.csv\")\n",
    "customer_df = pd.read_csv(DATA_DIR + \"customers.csv\")"
   ]
  },
  {
   "cell_type": "code",
   "execution_count": 3,
   "id": "c939a90b",
   "metadata": {
    "execution": {
     "iopub.execute_input": "2022-03-06T01:27:23.527630Z",
     "iopub.status.busy": "2022-03-06T01:27:23.526642Z",
     "iopub.status.idle": "2022-03-06T01:27:56.895557Z",
     "shell.execute_reply": "2022-03-06T01:27:56.896071Z",
     "shell.execute_reply.started": "2022-03-06T01:20:01.501981Z"
    },
    "papermill": {
     "duration": 33.384567,
     "end_time": "2022-03-06T01:27:56.896254",
     "exception": false,
     "start_time": "2022-03-06T01:27:23.511687",
     "status": "completed"
    },
    "tags": []
   },
   "outputs": [],
   "source": [
    "df[\"t_dat\"] = pd.to_datetime(df[\"t_dat\"])\n",
    "\n",
    "date_week_df = df.drop_duplicates(\"t_dat\")[[\"t_dat\"]].reset_index(drop=True)\n",
    "date_week_df['week_no'] = (date_week_df['t_dat'] + pd.DateOffset(days=5)).dt.week\n",
    "date_week_df[\"week_no\"] = date_week_df[\"week_no\"].diff(1)\n",
    "date_week_df[\"week_no\"].fillna(0, inplace=True)\n",
    "date_week_df[\"week_no\"] = date_week_df[\"week_no\"] != 0\n",
    "date_week_df[\"week_no\"] = date_week_df[\"week_no\"].cumsum()\n",
    "\n",
    "df = pd.merge(df, date_week_df, on=\"t_dat\", how=\"left\")\n",
    "\n",
    "df.sort_values(['t_dat', 'customer_id'], inplace=True)\n",
    "\n",
    "df = df[df.week_no > df.week_no.max() - 30].reset_index(drop=True)\n",
    "test_week = df.week_no.max()"
   ]
  },
  {
   "cell_type": "code",
   "execution_count": 4,
   "id": "ca8644c3",
   "metadata": {
    "execution": {
     "iopub.execute_input": "2022-03-06T01:27:56.930156Z",
     "iopub.status.busy": "2022-03-06T01:27:56.929488Z",
     "iopub.status.idle": "2022-03-06T01:27:59.027450Z",
     "shell.execute_reply": "2022-03-06T01:27:59.027979Z",
     "shell.execute_reply.started": "2022-03-06T01:20:34.995822Z"
    },
    "papermill": {
     "duration": 2.119028,
     "end_time": "2022-03-06T01:27:59.028168",
     "exception": false,
     "start_time": "2022-03-06T01:27:56.909140",
     "status": "completed"
    },
    "tags": []
   },
   "outputs": [],
   "source": [
    "article_columns = [\"garment_group_no\",\n",
    "                \"product_code\", \"product_type_no\", \n",
    "                \"graphical_appearance_no\", \"colour_group_code\", \"perceived_colour_value_id\",\n",
    "                \"perceived_colour_master_id\", \"department_no\", \"index_group_no\", \n",
    "                \"section_no\"]\n",
    "\n",
    "df = pd.merge(df, article_df[[\"article_id\"] + article_columns], on='article_id', how='left')"
   ]
  },
  {
   "cell_type": "code",
   "execution_count": 5,
   "id": "80204673",
   "metadata": {
    "execution": {
     "iopub.execute_input": "2022-03-06T01:27:59.234826Z",
     "iopub.status.busy": "2022-03-06T01:27:59.055928Z",
     "iopub.status.idle": "2022-03-06T01:28:47.734855Z",
     "shell.execute_reply": "2022-03-06T01:28:47.734242Z",
     "shell.execute_reply.started": "2022-03-06T01:20:38.366554Z"
    },
    "papermill": {
     "duration": 48.694733,
     "end_time": "2022-03-06T01:28:47.735026",
     "exception": false,
     "start_time": "2022-03-06T01:27:59.040293",
     "status": "completed"
    },
    "tags": []
   },
   "outputs": [],
   "source": [
    "# customerごとに何か購入したweek\n",
    "customer2weeks = df.groupby('customer_id')['week_no'].unique()\n",
    "\n",
    "# customerごとに学習データの特徴量となるweekとラベルとなるweekのペアを作る。\n",
    "customer2weekpairs = {}\n",
    "\n",
    "for c_id, weeks in customer2weeks.items():\n",
    "    customer2weekpairs[c_id] = {}\n",
    "    for i in range(weeks.shape[0]-1):\n",
    "        customer2weekpairs[c_id][weeks[i]] = weeks[i+1]\n",
    "    customer2weekpairs[c_id][weeks[-1]] = test_week"
   ]
  },
  {
   "cell_type": "markdown",
   "id": "d25ec69c",
   "metadata": {
    "papermill": {
     "duration": 0.011514,
     "end_time": "2022-03-06T01:28:47.759111",
     "exception": false,
     "start_time": "2022-03-06T01:28:47.747597",
     "status": "completed"
    },
    "tags": []
   },
   "source": [
    "# feature engineering"
   ]
  },
  {
   "cell_type": "code",
   "execution_count": 6,
   "id": "9d7f91c2",
   "metadata": {
    "execution": {
     "iopub.execute_input": "2022-03-06T01:28:47.785898Z",
     "iopub.status.busy": "2022-03-06T01:28:47.785235Z",
     "iopub.status.idle": "2022-03-06T01:28:47.791105Z",
     "shell.execute_reply": "2022-03-06T01:28:47.791613Z",
     "shell.execute_reply.started": "2022-03-06T01:21:44.880755Z"
    },
    "papermill": {
     "duration": 0.020758,
     "end_time": "2022-03-06T01:28:47.791797",
     "exception": false,
     "start_time": "2022-03-06T01:28:47.771039",
     "status": "completed"
    },
    "tags": []
   },
   "outputs": [],
   "source": [
    "def join(df):\n",
    "    x = [str(e) for e in list(df)]\n",
    "    return \" \".join(x)\n",
    "\n",
    "def label_prev_week(input_df):\n",
    "    weeks = []\n",
    "    for i, (c_id, week) in enumerate(zip(input_df['customer_id'], input_df['week_no'])):\n",
    "        weeks.append(customer2weekpairs[c_id][week])\n",
    "    input_df.week_no=weeks\n",
    "    return input_df"
   ]
  },
  {
   "cell_type": "code",
   "execution_count": 7,
   "id": "df6c991c",
   "metadata": {
    "execution": {
     "iopub.execute_input": "2022-03-06T01:28:47.819335Z",
     "iopub.status.busy": "2022-03-06T01:28:47.818557Z",
     "iopub.status.idle": "2022-03-06T01:28:47.831972Z",
     "shell.execute_reply": "2022-03-06T01:28:47.832529Z",
     "shell.execute_reply.started": "2022-03-06T01:21:44.890195Z"
    },
    "papermill": {
     "duration": 0.028936,
     "end_time": "2022-03-06T01:28:47.832699",
     "exception": false,
     "start_time": "2022-03-06T01:28:47.803763",
     "status": "completed"
    },
    "tags": []
   },
   "outputs": [],
   "source": [
    "class AbstractBaseBlock:\n",
    "    def fit(self, input_df, y=None):\n",
    "        return self.transform(input_df)\n",
    "\n",
    "    def transform(self, input_df):\n",
    "        raise NotImplementedError()\n",
    "        \n",
    "class UserHistoryEveryBlock(AbstractBaseBlock):\n",
    "    \"\"\"ユーザーの数値履歴を週間で集計した特徴量を付与する block 累積ではない\"\"\"\n",
    "    def __init__(self, item):\n",
    "        self.item = item\n",
    "\n",
    "    def fit(self, input_df, y=None):\n",
    "        out = input_df \\\n",
    "        .groupby(['customer_id', 'week_no'])[self.item].agg([\"sum\", \"std\", \"max\", \"min\"]).add_prefix(\"prev_\"+self.item+\"_\").reset_index()\n",
    "        out = label_prev_week(out)\n",
    "        return self.transform(out)\n",
    "\n",
    "    def transform(self, input_df):\n",
    "        return input_df\n",
    "    \n",
    "class UserHistoryVectorEveryBlock(AbstractBaseBlock):\n",
    "    \"\"\"ユーザーの文字履歴を週間で集計しベクトル化した特徴量を付与する block 累積ではない\"\"\"\n",
    "    def __init__(self, item, n_components = 5):\n",
    "        self.item = item\n",
    "        self.n_components = n_components\n",
    "        \n",
    "    def fit(self, input_df, y=None):\n",
    "        docs = input_df.groupby([\"customer_id\", \"week_no\"])[self.item].apply(join)\n",
    "        max_features = int(input_df[self.item].nunique() * 0.8)\n",
    "        tv = TfidfVectorizer(max_features=max_features)\n",
    "        X = tv.fit_transform(docs)\n",
    "        \n",
    "        svd = TruncatedSVD(n_components=self.n_components, random_state=0)\n",
    "        X = svd.fit_transform(X)\n",
    "        result = pd.DataFrame(X, columns=[f\"tfidf_{self.item}_{i}\" for i in range(self.n_components)])\n",
    "        result.index = docs.index\n",
    "        result = result.reset_index()\n",
    "        result = label_prev_week(result)\n",
    "        return self.transform(result)\n",
    "  \n",
    "    def transform(self, input_df):\n",
    "        return input_df  "
   ]
  },
  {
   "cell_type": "code",
   "execution_count": 8,
   "id": "7e055b3f",
   "metadata": {
    "execution": {
     "iopub.execute_input": "2022-03-06T01:28:48.020816Z",
     "iopub.status.busy": "2022-03-06T01:28:48.019943Z",
     "iopub.status.idle": "2022-03-06T01:32:21.961393Z",
     "shell.execute_reply": "2022-03-06T01:32:21.960216Z",
     "shell.execute_reply.started": "2022-03-06T01:21:44.910189Z"
    },
    "papermill": {
     "duration": 214.117278,
     "end_time": "2022-03-06T01:32:21.961806",
     "exception": false,
     "start_time": "2022-03-06T01:28:47.844528",
     "status": "completed"
    },
    "tags": []
   },
   "outputs": [],
   "source": [
    "feature_blocks = [\n",
    "    UserHistoryEveryBlock(\"price\"),\n",
    "    UserHistoryVectorEveryBlock(\"section_no\"),\n",
    "    UserHistoryVectorEveryBlock(\"garment_group_no\"),\n",
    "]\n",
    "\n",
    "for i, block in enumerate(feature_blocks):\n",
    "    if i == 0:\n",
    "        user_features_df = block.fit(df)\n",
    "    else:\n",
    "        out_i = block.fit(df)\n",
    "        user_features_df = pd.merge(user_features_df, out_i, on = [\"customer_id\", \"week_no\"], how=\"left\")"
   ]
  },
  {
   "cell_type": "code",
   "execution_count": 9,
   "id": "44370490",
   "metadata": {
    "execution": {
     "iopub.execute_input": "2022-03-06T01:32:22.004110Z",
     "iopub.status.busy": "2022-03-06T01:32:22.003338Z",
     "iopub.status.idle": "2022-03-06T01:33:43.782367Z",
     "shell.execute_reply": "2022-03-06T01:33:43.783061Z"
    },
    "papermill": {
     "duration": 81.800209,
     "end_time": "2022-03-06T01:33:43.783294",
     "exception": false,
     "start_time": "2022-03-06T01:32:21.983085",
     "status": "completed"
    },
    "tags": []
   },
   "outputs": [],
   "source": [
    "user_features_df.to_csv(\"user_features.csv\", index=False)"
   ]
  },
  {
   "cell_type": "code",
   "execution_count": null,
   "id": "eb7f606f",
   "metadata": {
    "papermill": {
     "duration": 0.012361,
     "end_time": "2022-03-06T01:33:43.808414",
     "exception": false,
     "start_time": "2022-03-06T01:33:43.796053",
     "status": "completed"
    },
    "tags": []
   },
   "outputs": [],
   "source": []
  }
 ],
 "metadata": {
  "kernelspec": {
   "display_name": "Python 3",
   "language": "python",
   "name": "python3"
  },
  "language_info": {
   "codemirror_mode": {
    "name": "ipython",
    "version": 3
   },
   "file_extension": ".py",
   "mimetype": "text/x-python",
   "name": "python",
   "nbconvert_exporter": "python",
   "pygments_lexer": "ipython3",
   "version": "3.7.12"
  },
  "papermill": {
   "default_parameters": {},
   "duration": 466.897359,
   "end_time": "2022-03-06T01:33:45.740196",
   "environment_variables": {},
   "exception": null,
   "input_path": "__notebook__.ipynb",
   "output_path": "__notebook__.ipynb",
   "parameters": {},
   "start_time": "2022-03-06T01:25:58.842837",
   "version": "2.3.3"
  }
 },
 "nbformat": 4,
 "nbformat_minor": 5
}
