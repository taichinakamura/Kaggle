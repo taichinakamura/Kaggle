{
 "cells": [
  {
   "cell_type": "markdown",
   "id": "5fdc3ec4",
   "metadata": {
    "execution": {
     "iopub.execute_input": "2022-03-07T23:26:29.454418Z",
     "iopub.status.busy": "2022-03-07T23:26:29.454082Z",
     "iopub.status.idle": "2022-03-07T23:27:40.64148Z",
     "shell.execute_reply": "2022-03-07T23:27:40.640021Z",
     "shell.execute_reply.started": "2022-03-07T23:26:29.454386Z"
    },
    "papermill": {
     "duration": 0.018242,
     "end_time": "2022-03-15T07:35:38.151663",
     "exception": false,
     "start_time": "2022-03-15T07:35:38.133421",
     "status": "completed"
    },
    "tags": []
   },
   "source": [
    "- consider only item features\n",
    "- modify functions for predictions of cold users\n",
    "- pickle als model\n",
    "- remove cold prediction"
   ]
  },
  {
   "cell_type": "code",
   "execution_count": 1,
   "id": "d948bd88",
   "metadata": {
    "execution": {
     "iopub.execute_input": "2022-03-15T07:35:38.190807Z",
     "iopub.status.busy": "2022-03-15T07:35:38.190093Z",
     "iopub.status.idle": "2022-03-15T07:36:34.546307Z",
     "shell.execute_reply": "2022-03-15T07:36:34.546794Z",
     "shell.execute_reply.started": "2022-03-14T08:19:36.603827Z"
    },
    "papermill": {
     "duration": 56.379035,
     "end_time": "2022-03-15T07:36:34.547148",
     "exception": false,
     "start_time": "2022-03-15T07:35:38.168113",
     "status": "completed"
    },
    "tags": []
   },
   "outputs": [
    {
     "name": "stdout",
     "output_type": "stream",
     "text": [
      "Collecting similaripy\r\n",
      "  Downloading similaripy-0.1.2.tar.gz (331 kB)\r\n",
      "     |████████████████████████████████| 331 kB 290 kB/s            \r\n",
      "\u001b[?25h  Preparing metadata (setup.py) ... \u001b[?25l-\b \b\\\b \bdone\r\n",
      "\u001b[?25hRequirement already satisfied: scipy>=1.0.0 in /opt/conda/lib/python3.7/site-packages (from similaripy) (1.7.3)\r\n",
      "Requirement already satisfied: numpy>=1.14.0 in /opt/conda/lib/python3.7/site-packages (from similaripy) (1.20.3)\r\n",
      "Requirement already satisfied: tqdm>=4.19.6 in /opt/conda/lib/python3.7/site-packages (from similaripy) (4.62.3)\r\n",
      "Building wheels for collected packages: similaripy\r\n",
      "  Building wheel for similaripy (setup.py) ... \u001b[?25l-\b \b\\\b \b|\b \b/\b \b-\b \b\\\b \b|\b \b/\b \bdone\r\n",
      "\u001b[?25h  Created wheel for similaripy: filename=similaripy-0.1.2-cp37-cp37m-linux_x86_64.whl size=2040888 sha256=1e1270cfdd56ba182d2ea2a5eb393ca1af5ca80526df9bc95185c6d38b3d550f\r\n",
      "  Stored in directory: /root/.cache/pip/wheels/2e/81/4b/7a396ebc45534553ddee1eb106d99023df4d9d09b53b13cc66\r\n",
      "Successfully built similaripy\r\n",
      "Installing collected packages: similaripy\r\n",
      "Successfully installed similaripy-0.1.2\r\n",
      "\u001b[33mWARNING: Running pip as the 'root' user can result in broken permissions and conflicting behaviour with the system package manager. It is recommended to use a virtual environment instead: https://pip.pypa.io/warnings/venv\u001b[0m\r\n"
     ]
    }
   ],
   "source": [
    "!pip install similaripy"
   ]
  },
  {
   "cell_type": "code",
   "execution_count": 2,
   "id": "dedc1b79",
   "metadata": {
    "execution": {
     "iopub.execute_input": "2022-03-15T07:36:34.596435Z",
     "iopub.status.busy": "2022-03-15T07:36:34.595763Z",
     "iopub.status.idle": "2022-03-15T07:36:35.918887Z",
     "shell.execute_reply": "2022-03-15T07:36:35.918315Z",
     "shell.execute_reply.started": "2022-03-14T08:20:35.785873Z"
    },
    "papermill": {
     "duration": 1.350599,
     "end_time": "2022-03-15T07:36:35.919071",
     "exception": false,
     "start_time": "2022-03-15T07:36:34.568472",
     "status": "completed"
    },
    "tags": []
   },
   "outputs": [],
   "source": [
    "import numpy as np\n",
    "import pandas as pd\n",
    "from tqdm import tqdm\n",
    "from sklearn import preprocessing\n",
    "from scipy.sparse import coo_matrix\n",
    "from sklearn.decomposition import TruncatedSVD\n",
    "from sklearn.feature_extraction.text import TfidfVectorizer\n",
    "from sklearn.decomposition import LatentDirichletAllocation\n",
    "import implicit\n",
    "import similaripy\n",
    "import pickle\n",
    "\n",
    "import warnings\n",
    "warnings.filterwarnings('ignore')\n",
    "\n",
    "tqdm.pandas()"
   ]
  },
  {
   "cell_type": "code",
   "execution_count": 3,
   "id": "71e31a4c",
   "metadata": {
    "execution": {
     "iopub.execute_input": "2022-03-15T07:36:35.969574Z",
     "iopub.status.busy": "2022-03-15T07:36:35.968928Z",
     "iopub.status.idle": "2022-03-15T07:37:47.296260Z",
     "shell.execute_reply": "2022-03-15T07:37:47.295735Z",
     "shell.execute_reply.started": "2022-03-14T08:20:37.152245Z"
    },
    "papermill": {
     "duration": 71.354913,
     "end_time": "2022-03-15T07:37:47.296419",
     "exception": false,
     "start_time": "2022-03-15T07:36:35.941506",
     "status": "completed"
    },
    "tags": []
   },
   "outputs": [],
   "source": [
    "DATA_DIR = \"/kaggle/input/h-and-m-personalized-fashion-recommendations/\"\n",
    "df = pd.read_csv(DATA_DIR + \"transactions_train.csv\")\n",
    "article_df = pd.read_csv(DATA_DIR + \"articles.csv\")\n",
    "customer_df = pd.read_csv(DATA_DIR + \"customers.csv\")\n",
    "sub = pd.read_csv(DATA_DIR + 'sample_submission.csv')"
   ]
  },
  {
   "cell_type": "code",
   "execution_count": 4,
   "id": "2d4c00bf",
   "metadata": {
    "execution": {
     "iopub.execute_input": "2022-03-15T07:37:48.643792Z",
     "iopub.status.busy": "2022-03-15T07:37:48.642874Z",
     "iopub.status.idle": "2022-03-15T07:38:19.405590Z",
     "shell.execute_reply": "2022-03-15T07:38:19.404861Z",
     "shell.execute_reply.started": "2022-03-14T08:22:01.69054Z"
    },
    "papermill": {
     "duration": 32.08756,
     "end_time": "2022-03-15T07:38:19.405743",
     "exception": false,
     "start_time": "2022-03-15T07:37:47.318183",
     "status": "completed"
    },
    "tags": []
   },
   "outputs": [],
   "source": [
    "df[\"t_dat\"] = pd.to_datetime(df[\"t_dat\"])\n",
    "\n",
    "date_week_df = df.drop_duplicates(\"t_dat\")[[\"t_dat\"]].reset_index(drop=True)\n",
    "date_week_df['week_no'] = (date_week_df['t_dat'] + pd.DateOffset(days=5)).dt.week\n",
    "date_week_df[\"week_no\"] = date_week_df[\"week_no\"].diff(1)\n",
    "date_week_df[\"week_no\"].fillna(0, inplace=True)\n",
    "date_week_df[\"week_no\"] = date_week_df[\"week_no\"] != 0\n",
    "date_week_df[\"week_no\"] = date_week_df[\"week_no\"].cumsum()\n",
    "\n",
    "df = pd.merge(df, date_week_df, on=\"t_dat\", how=\"left\")\n",
    "\n",
    "df.sort_values(['t_dat', 'customer_id'], inplace=True)\n",
    "\n",
    "test_week = df.week_no.max()\n",
    "last_ts = df['t_dat'].max()"
   ]
  },
  {
   "cell_type": "markdown",
   "id": "6f8772f2",
   "metadata": {
    "papermill": {
     "duration": 0.021276,
     "end_time": "2022-03-15T07:38:19.449154",
     "exception": false,
     "start_time": "2022-03-15T07:38:19.427878",
     "status": "completed"
    },
    "tags": []
   },
   "source": [
    "# als model"
   ]
  },
  {
   "cell_type": "code",
   "execution_count": 5,
   "id": "b2852832",
   "metadata": {
    "execution": {
     "iopub.execute_input": "2022-03-15T07:38:19.514236Z",
     "iopub.status.busy": "2022-03-15T07:38:19.513216Z",
     "iopub.status.idle": "2022-03-15T07:40:42.834057Z",
     "shell.execute_reply": "2022-03-15T07:40:42.833370Z",
     "shell.execute_reply.started": "2022-03-14T08:22:40.067254Z"
    },
    "papermill": {
     "duration": 143.363803,
     "end_time": "2022-03-15T07:40:42.834426",
     "exception": false,
     "start_time": "2022-03-15T07:38:19.470623",
     "status": "completed"
    },
    "tags": []
   },
   "outputs": [
    {
     "data": {
      "application/vnd.jupyter.widget-view+json": {
       "model_id": "30012e8b2bf14fbea714e625b4bd5258",
       "version_major": 2,
       "version_minor": 0
      },
      "text/plain": [
       "  0%|          | 0/5 [00:00<?, ?it/s]"
      ]
     },
     "metadata": {},
     "output_type": "display_data"
    }
   ],
   "source": [
    "# for validation\n",
    "tmp = df[df.week_no < test_week].reset_index(drop=True).copy()\n",
    "    \n",
    "# als model\n",
    "all_users = tmp[\"customer_id\"].unique().tolist()\n",
    "all_items = tmp[\"article_id\"].unique().tolist()\n",
    "\n",
    "user_ids = dict(list(enumerate(all_users)))\n",
    "item_ids = dict(list(enumerate(all_items)))\n",
    "\n",
    "user_map = {u: uidx for uidx, u in user_ids.items()}\n",
    "item_map = {u: iidx for iidx, u in item_ids.items()}\n",
    "\n",
    "tmp[\"customer_id\"] = tmp[\"customer_id\"].map(user_map)\n",
    "tmp[\"article_id\"] = tmp[\"article_id\"].map(item_map)\n",
    "\n",
    "row = tmp[\"customer_id\"].values\n",
    "col = tmp[\"article_id\"].values\n",
    "\n",
    "data = np.ones(tmp.shape[0])\n",
    "coo = coo_matrix((data, (row, col)), shape=(len(all_users), len(all_items)))\n",
    "\n",
    "n_factors = 5\n",
    "als_model = implicit.als.AlternatingLeastSquares(factors=n_factors, iterations = 5, regularization=0.1, random_state=2240)\n",
    "als_model.fit(coo)\n",
    "item_factor_columns = [\"article_id_\"+str(i) for i in range(n_factors)]\n",
    "\n",
    "del row, col, tmp, data, coo, user_ids, item_ids\n",
    "\n",
    "with open('als_model_val.pickle', mode='wb') as f:\n",
    "    pickle.dump(als_model, f)"
   ]
  },
  {
   "cell_type": "code",
   "execution_count": 6,
   "id": "c5137713",
   "metadata": {
    "execution": {
     "iopub.execute_input": "2022-03-15T07:40:42.891474Z",
     "iopub.status.busy": "2022-03-15T07:40:42.890792Z",
     "iopub.status.idle": "2022-03-15T07:42:59.086522Z",
     "shell.execute_reply": "2022-03-15T07:42:59.085919Z",
     "shell.execute_reply.started": "2022-03-14T08:25:00.147084Z"
    },
    "papermill": {
     "duration": 136.229543,
     "end_time": "2022-03-15T07:42:59.086743",
     "exception": false,
     "start_time": "2022-03-15T07:40:42.857200",
     "status": "completed"
    },
    "tags": []
   },
   "outputs": [
    {
     "data": {
      "application/vnd.jupyter.widget-view+json": {
       "model_id": "209cf326e87b45c88a6adc20df1db60d",
       "version_major": 2,
       "version_minor": 0
      },
      "text/plain": [
       "  0%|          | 0/5 [00:00<?, ?it/s]"
      ]
     },
     "metadata": {},
     "output_type": "display_data"
    }
   ],
   "source": [
    "# for full train\n",
    "tmp = df.copy()\n",
    "    \n",
    "# als model\n",
    "all_users = tmp[\"customer_id\"].unique().tolist()\n",
    "all_items = tmp[\"article_id\"].unique().tolist()\n",
    "\n",
    "user_ids = dict(list(enumerate(all_users)))\n",
    "item_ids = dict(list(enumerate(all_items)))\n",
    "\n",
    "user_map = {u: uidx for uidx, u in user_ids.items()}\n",
    "item_map = {u: iidx for iidx, u in item_ids.items()}\n",
    "\n",
    "tmp[\"customer_id\"] = tmp[\"customer_id\"].map(user_map)\n",
    "tmp[\"article_id\"] = tmp[\"article_id\"].map(item_map)\n",
    "\n",
    "row = tmp[\"customer_id\"].values\n",
    "col = tmp[\"article_id\"].values\n",
    "\n",
    "data = np.ones(tmp.shape[0])\n",
    "coo = coo_matrix((data, (row, col)), shape=(len(all_users), len(all_items)))\n",
    "\n",
    "n_factors = 5\n",
    "als_model = implicit.als.AlternatingLeastSquares(factors=n_factors, iterations = 5, regularization=0.1, random_state=2240)\n",
    "als_model.fit(coo)\n",
    "item_factor_columns = [\"article_id_\"+str(i) for i in range(n_factors)]\n",
    "\n",
    "del row, col, tmp, data, coo, user_ids, item_ids\n",
    "\n",
    "with open('als_model_full.pickle', mode='wb') as f:\n",
    "    pickle.dump(als_model, f)"
   ]
  },
  {
   "cell_type": "markdown",
   "id": "fe9998aa",
   "metadata": {
    "papermill": {
     "duration": 0.022013,
     "end_time": "2022-03-15T07:42:59.132143",
     "exception": false,
     "start_time": "2022-03-15T07:42:59.110130",
     "status": "completed"
    },
    "tags": []
   },
   "source": [
    "# first appperance week of article_id"
   ]
  },
  {
   "cell_type": "code",
   "execution_count": 7,
   "id": "ff795a19",
   "metadata": {
    "execution": {
     "iopub.execute_input": "2022-03-15T07:42:59.185070Z",
     "iopub.status.busy": "2022-03-15T07:42:59.184450Z",
     "iopub.status.idle": "2022-03-15T07:43:00.905556Z",
     "shell.execute_reply": "2022-03-15T07:43:00.904995Z",
     "shell.execute_reply.started": "2022-03-09T08:31:06.196673Z"
    },
    "papermill": {
     "duration": 1.751271,
     "end_time": "2022-03-15T07:43:00.905689",
     "exception": false,
     "start_time": "2022-03-15T07:42:59.154418",
     "status": "completed"
    },
    "tags": []
   },
   "outputs": [],
   "source": [
    "article_week_range = df.groupby(\"article_id\").week_no.agg([\"min\", \"max\"]).reset_index()\n",
    "article_week_range.to_csv('article_week_range.csv', index=None)"
   ]
  },
  {
   "cell_type": "markdown",
   "id": "d2b23442",
   "metadata": {
    "papermill": {
     "duration": 0.022473,
     "end_time": "2022-03-15T07:43:00.950805",
     "exception": false,
     "start_time": "2022-03-15T07:43:00.928332",
     "status": "completed"
    },
    "tags": []
   },
   "source": [
    "# features by similaripy"
   ]
  },
  {
   "cell_type": "code",
   "execution_count": 8,
   "id": "085c0e66",
   "metadata": {
    "execution": {
     "iopub.execute_input": "2022-03-15T07:43:01.001555Z",
     "iopub.status.busy": "2022-03-15T07:43:01.000520Z",
     "iopub.status.idle": "2022-03-15T07:43:01.003329Z",
     "shell.execute_reply": "2022-03-15T07:43:01.002830Z",
     "shell.execute_reply.started": "2022-03-09T03:45:53.211309Z"
    },
    "papermill": {
     "duration": 0.030041,
     "end_time": "2022-03-15T07:43:01.003476",
     "exception": false,
     "start_time": "2022-03-15T07:43:00.973435",
     "status": "completed"
    },
    "tags": []
   },
   "outputs": [],
   "source": [
    "# normalize matrix with bm25\n",
    "#coo_bm = similaripy.normalization.bm25(coo)\n",
    "\n",
    "# train the model with 50 knn per item \n",
    "#model = similaripy.cosine(coo_bm.T, k=50)\n",
    "\n",
    "# recommend 100 items to users 1, 14 and 8 filtering the items already seen by each users\n",
    "#user_recommendations = sim.dot_product(coo_bm, model.T, k=100, target_rows=[1,14,8], filter_cols=coo_bm)"
   ]
  },
  {
   "cell_type": "markdown",
   "id": "31cb95ab",
   "metadata": {
    "papermill": {
     "duration": 0.022793,
     "end_time": "2022-03-15T07:43:01.048905",
     "exception": false,
     "start_time": "2022-03-15T07:43:01.026112",
     "status": "completed"
    },
    "tags": []
   },
   "source": [
    "# features by abstraction block"
   ]
  },
  {
   "cell_type": "code",
   "execution_count": 9,
   "id": "fd0a8273",
   "metadata": {
    "execution": {
     "iopub.execute_input": "2022-03-15T07:43:01.101929Z",
     "iopub.status.busy": "2022-03-15T07:43:01.101304Z",
     "iopub.status.idle": "2022-03-15T07:43:02.881121Z",
     "shell.execute_reply": "2022-03-15T07:43:02.880587Z"
    },
    "papermill": {
     "duration": 1.809227,
     "end_time": "2022-03-15T07:43:02.881279",
     "exception": false,
     "start_time": "2022-03-15T07:43:01.072052",
     "status": "completed"
    },
    "tags": []
   },
   "outputs": [],
   "source": [
    "df = df[df.week_no > df.week_no.max() - 50].reset_index(drop=True)"
   ]
  },
  {
   "cell_type": "code",
   "execution_count": 10,
   "id": "20074839",
   "metadata": {
    "execution": {
     "iopub.execute_input": "2022-03-15T07:43:02.930740Z",
     "iopub.status.busy": "2022-03-15T07:43:02.929724Z",
     "iopub.status.idle": "2022-03-15T07:43:07.507404Z",
     "shell.execute_reply": "2022-03-15T07:43:07.506287Z",
     "shell.execute_reply.started": "2022-03-09T03:45:53.21309Z"
    },
    "papermill": {
     "duration": 4.603449,
     "end_time": "2022-03-15T07:43:07.507575",
     "exception": false,
     "start_time": "2022-03-15T07:43:02.904126",
     "status": "completed"
    },
    "tags": []
   },
   "outputs": [],
   "source": [
    "article_columns = [\"garment_group_no\",\n",
    "                \"product_code\", \"product_type_no\", \n",
    "                \"graphical_appearance_no\", \"colour_group_code\", \"perceived_colour_value_id\",\n",
    "                \"perceived_colour_master_id\", \"department_no\", \"index_group_no\", \n",
    "                \"section_no\"]\n",
    "\n",
    "df = pd.merge(df, article_df[[\"article_id\"] + article_columns], on='article_id', how='left')"
   ]
  },
  {
   "cell_type": "code",
   "execution_count": 11,
   "id": "1f2a06e4",
   "metadata": {
    "execution": {
     "iopub.execute_input": "2022-03-15T07:43:08.193829Z",
     "iopub.status.busy": "2022-03-15T07:43:07.801907Z",
     "iopub.status.idle": "2022-03-15T07:43:59.762719Z",
     "shell.execute_reply": "2022-03-15T07:43:59.761636Z",
     "shell.execute_reply.started": "2022-03-09T03:45:53.214312Z"
    },
    "papermill": {
     "duration": 52.231389,
     "end_time": "2022-03-15T07:43:59.762894",
     "exception": false,
     "start_time": "2022-03-15T07:43:07.531505",
     "status": "completed"
    },
    "tags": []
   },
   "outputs": [],
   "source": [
    "# customerごとに何か購入したweek\n",
    "customer2weeks = df.groupby('customer_id')['week_no'].unique()\n",
    "\n",
    "# customerごとに学習データの特徴量となるweekとラベルとなるweekのペアを作る。\n",
    "customer2weekpairs = {}\n",
    "\n",
    "for c_id, weeks in customer2weeks.items():\n",
    "    customer2weekpairs[c_id] = {}\n",
    "    for i in range(weeks.shape[0]-1):\n",
    "        customer2weekpairs[c_id][weeks[i]] = weeks[i+1]\n",
    "    customer2weekpairs[c_id][weeks[-1]] = test_week"
   ]
  },
  {
   "cell_type": "code",
   "execution_count": 12,
   "id": "acc802b2",
   "metadata": {
    "execution": {
     "iopub.execute_input": "2022-03-15T07:43:59.813698Z",
     "iopub.status.busy": "2022-03-15T07:43:59.813050Z",
     "iopub.status.idle": "2022-03-15T07:43:59.818039Z",
     "shell.execute_reply": "2022-03-15T07:43:59.818489Z",
     "shell.execute_reply.started": "2022-03-09T03:45:53.215795Z"
    },
    "papermill": {
     "duration": 0.031742,
     "end_time": "2022-03-15T07:43:59.818655",
     "exception": false,
     "start_time": "2022-03-15T07:43:59.786913",
     "status": "completed"
    },
    "tags": []
   },
   "outputs": [],
   "source": [
    "def join(df):\n",
    "    x = [str(e) for e in list(df)]\n",
    "    return \" \".join(x)\n",
    "\n",
    "def label_prev_week(input_df):\n",
    "    weeks = []\n",
    "    for i, (c_id, week) in enumerate(zip(input_df['customer_id'], input_df['week_no'])):\n",
    "        weeks.append(customer2weekpairs[c_id][week])\n",
    "    input_df.week_no=weeks\n",
    "    return input_df"
   ]
  },
  {
   "cell_type": "code",
   "execution_count": 13,
   "id": "84bc1c1a",
   "metadata": {
    "execution": {
     "iopub.execute_input": "2022-03-15T07:43:59.880554Z",
     "iopub.status.busy": "2022-03-15T07:43:59.879718Z",
     "iopub.status.idle": "2022-03-15T07:43:59.882495Z",
     "shell.execute_reply": "2022-03-15T07:43:59.881893Z",
     "shell.execute_reply.started": "2022-03-09T03:45:53.219066Z"
    },
    "papermill": {
     "duration": 0.041472,
     "end_time": "2022-03-15T07:43:59.882645",
     "exception": false,
     "start_time": "2022-03-15T07:43:59.841173",
     "status": "completed"
    },
    "tags": []
   },
   "outputs": [],
   "source": [
    "class AbstractBaseBlock:\n",
    "    def fit(self, input_df, y=None):\n",
    "        return self.transform(input_df)\n",
    "\n",
    "    def transform(self, input_df):\n",
    "        raise NotImplementedError()\n",
    "        \n",
    "class UserHistoryEveryBlock(AbstractBaseBlock):\n",
    "    \"\"\"ユーザーの数値履歴を週間で集計した特徴量を付与する block 累積ではない\"\"\"\n",
    "    def __init__(self, item):\n",
    "        self.item = item\n",
    "\n",
    "    def fit(self, input_df, y=None):\n",
    "        out = input_df \\\n",
    "        .groupby(['customer_id', 'week_no'])[self.item].agg([\"sum\", \"std\", \"max\", \"min\"]).add_prefix(\"u_prev_\"+self.item+\"_\").reset_index()\n",
    "        out = label_prev_week(out)\n",
    "        return self.transform(out)\n",
    "\n",
    "    def transform(self, input_df):\n",
    "        return input_df\n",
    "    \n",
    "class UserHistoryVectorEveryBlock(AbstractBaseBlock):\n",
    "    \"\"\"ユーザーの文字履歴を週間で集計しベクトル化した特徴量を付与する block 累積ではない\"\"\"\n",
    "    def __init__(self, item, n_components = 5):\n",
    "        self.item = item\n",
    "        self.n_components = n_components\n",
    "        \n",
    "    def fit(self, input_df, y=None):\n",
    "        docs = input_df.groupby([\"customer_id\", \"week_no\"])[self.item].apply(join)\n",
    "        max_features = int(input_df[self.item].nunique() * 0.8)\n",
    "        tv = TfidfVectorizer(max_features=max_features)\n",
    "        X = tv.fit_transform(docs)\n",
    "        \n",
    "        svd = TruncatedSVD(n_components=self.n_components, random_state=0)\n",
    "        X = svd.fit_transform(X)\n",
    "        result = pd.DataFrame(X, columns=[f\"u_{self.item}_{i}\" for i in range(self.n_components)])\n",
    "        result.index = docs.index\n",
    "        result = result.reset_index()\n",
    "        result = label_prev_week(result)\n",
    "        return self.transform(result)\n",
    "  \n",
    "    def transform(self, input_df):\n",
    "        return input_df  \n",
    "\n",
    "class ItemHistoryEveryBlock(AbstractBaseBlock):\n",
    "    \"\"\"アイテムの数値履歴を週間で集計した特徴量を付与する block 累積ではない\"\"\"\n",
    "    def __init__(self, item):\n",
    "        self.item = item\n",
    "\n",
    "    def fit(self, input_df, y=None):\n",
    "        out = input_df \\\n",
    "        .groupby(['week_no'])[self.item].value_counts()\n",
    "        out = out.to_frame(\"sale_count\").reset_index()\n",
    "        return self.transform(out)\n",
    "\n",
    "    def transform(self, input_df):\n",
    "        return input_df\n",
    "    \n",
    "class ItemHistorySumBlock(AbstractBaseBlock):\n",
    "    \"\"\"アイテムの数値履歴を週間で集計した特徴量を付与する block 累積ではない\"\"\"\n",
    "    def __init__(self, item):\n",
    "        self.item = item\n",
    "\n",
    "    def fit(self, input_df, y=None):\n",
    "        out = input_df \\\n",
    "        .groupby(['week_no', self.item])['price'].agg([\"sum\"]).add_prefix(\"sale_\").reset_index()\n",
    "        return self.transform(out)\n",
    "\n",
    "    def transform(self, input_df):\n",
    "        return input_df"
   ]
  },
  {
   "cell_type": "code",
   "execution_count": 14,
   "id": "df6be25d",
   "metadata": {
    "execution": {
     "iopub.execute_input": "2022-03-15T07:43:59.933285Z",
     "iopub.status.busy": "2022-03-15T07:43:59.932364Z",
     "iopub.status.idle": "2022-03-15T07:43:59.934777Z",
     "shell.execute_reply": "2022-03-15T07:43:59.935373Z",
     "shell.execute_reply.started": "2022-03-09T03:45:53.220174Z"
    },
    "papermill": {
     "duration": 0.029638,
     "end_time": "2022-03-15T07:43:59.935549",
     "exception": false,
     "start_time": "2022-03-15T07:43:59.905911",
     "status": "completed"
    },
    "tags": []
   },
   "outputs": [],
   "source": [
    "# user_features\n",
    "#feature_blocks = [\n",
    "#    UserHistoryEveryBlock(\"price\"),\n",
    "#    UserHistoryVectorEveryBlock(\"section_no\"),\n",
    "#    UserHistoryVectorEveryBlock(\"garment_group_no\"),\n",
    "#]\n",
    "\n",
    "#for i, block in enumerate(feature_blocks):\n",
    "#    if i == 0:\n",
    "#        user_features_df = block.fit(df)\n",
    "#    else:\n",
    "#        out_i = block.fit(df)\n",
    "#        user_features_df = pd.merge(user_features_df, out_i, on = [\"customer_id\", \"week_no\"], how=\"left\")\n",
    "        \n",
    "#user_features_df.to_csv(\"user_features.csv\", index=False)\n",
    "#del user_features_df"
   ]
  },
  {
   "cell_type": "code",
   "execution_count": 15,
   "id": "7bf5f7a5",
   "metadata": {
    "execution": {
     "iopub.execute_input": "2022-03-15T07:43:59.988238Z",
     "iopub.status.busy": "2022-03-15T07:43:59.987142Z",
     "iopub.status.idle": "2022-03-15T07:44:11.262752Z",
     "shell.execute_reply": "2022-03-15T07:44:11.262090Z",
     "shell.execute_reply.started": "2022-03-09T03:45:53.223249Z"
    },
    "papermill": {
     "duration": 11.30458,
     "end_time": "2022-03-15T07:44:11.262890",
     "exception": false,
     "start_time": "2022-03-15T07:43:59.958310",
     "status": "completed"
    },
    "tags": []
   },
   "outputs": [],
   "source": [
    "# item_features\n",
    "article_count = ItemHistoryEveryBlock(\"article_id\").fit(df)\n",
    "article_count.to_csv(\"article_count.csv\", index=False)\n",
    "\n",
    "article_sale = ItemHistorySumBlock(\"article_id\").fit(df)\n",
    "article_sale.to_csv(\"article_sale.csv\", index=False)"
   ]
  },
  {
   "cell_type": "code",
   "execution_count": null,
   "id": "1453c67b",
   "metadata": {
    "papermill": {
     "duration": 0.023269,
     "end_time": "2022-03-15T07:44:11.310668",
     "exception": false,
     "start_time": "2022-03-15T07:44:11.287399",
     "status": "completed"
    },
    "tags": []
   },
   "outputs": [],
   "source": []
  }
 ],
 "metadata": {
  "kernelspec": {
   "display_name": "Python 3",
   "language": "python",
   "name": "python3"
  },
  "language_info": {
   "codemirror_mode": {
    "name": "ipython",
    "version": 3
   },
   "file_extension": ".py",
   "mimetype": "text/x-python",
   "name": "python",
   "nbconvert_exporter": "python",
   "pygments_lexer": "ipython3",
   "version": "3.7.12"
  },
  "papermill": {
   "default_parameters": {},
   "duration": 524.02292,
   "end_time": "2022-03-15T07:44:13.616040",
   "environment_variables": {},
   "exception": null,
   "input_path": "__notebook__.ipynb",
   "output_path": "__notebook__.ipynb",
   "parameters": {},
   "start_time": "2022-03-15T07:35:29.593120",
   "version": "2.3.3"
  },
  "widgets": {
   "application/vnd.jupyter.widget-state+json": {
    "state": {
     "10722fe13dad49b4bbf25d40c79c6949": {
      "model_module": "@jupyter-widgets/base",
      "model_module_version": "1.2.0",
      "model_name": "LayoutModel",
      "state": {
       "_model_module": "@jupyter-widgets/base",
       "_model_module_version": "1.2.0",
       "_model_name": "LayoutModel",
       "_view_count": null,
       "_view_module": "@jupyter-widgets/base",
       "_view_module_version": "1.2.0",
       "_view_name": "LayoutView",
       "align_content": null,
       "align_items": null,
       "align_self": null,
       "border": null,
       "bottom": null,
       "display": null,
       "flex": null,
       "flex_flow": null,
       "grid_area": null,
       "grid_auto_columns": null,
       "grid_auto_flow": null,
       "grid_auto_rows": null,
       "grid_column": null,
       "grid_gap": null,
       "grid_row": null,
       "grid_template_areas": null,
       "grid_template_columns": null,
       "grid_template_rows": null,
       "height": null,
       "justify_content": null,
       "justify_items": null,
       "left": null,
       "margin": null,
       "max_height": null,
       "max_width": null,
       "min_height": null,
       "min_width": null,
       "object_fit": null,
       "object_position": null,
       "order": null,
       "overflow": null,
       "overflow_x": null,
       "overflow_y": null,
       "padding": null,
       "right": null,
       "top": null,
       "visibility": null,
       "width": null
      }
     },
     "209cf326e87b45c88a6adc20df1db60d": {
      "model_module": "@jupyter-widgets/controls",
      "model_module_version": "1.5.0",
      "model_name": "HBoxModel",
      "state": {
       "_dom_classes": [],
       "_model_module": "@jupyter-widgets/controls",
       "_model_module_version": "1.5.0",
       "_model_name": "HBoxModel",
       "_view_count": null,
       "_view_module": "@jupyter-widgets/controls",
       "_view_module_version": "1.5.0",
       "_view_name": "HBoxView",
       "box_style": "",
       "children": [
        "IPY_MODEL_9b2ca960e66d4133b166460a6f820174",
        "IPY_MODEL_4cbcaa0c3ecd45bebdcedd8e003a2b54",
        "IPY_MODEL_3a0835c27e8c4d9a930f364a2e2dabfd"
       ],
       "layout": "IPY_MODEL_e8cbbbeda9a14864b601f8c2516bb1e0"
      }
     },
     "2ae367e78f76472e9df3f5308690101d": {
      "model_module": "@jupyter-widgets/controls",
      "model_module_version": "1.5.0",
      "model_name": "HTMLModel",
      "state": {
       "_dom_classes": [],
       "_model_module": "@jupyter-widgets/controls",
       "_model_module_version": "1.5.0",
       "_model_name": "HTMLModel",
       "_view_count": null,
       "_view_module": "@jupyter-widgets/controls",
       "_view_module_version": "1.5.0",
       "_view_name": "HTMLView",
       "description": "",
       "description_tooltip": null,
       "layout": "IPY_MODEL_49f05cb8f6ca490ea03a86bb315d8ec7",
       "placeholder": "​",
       "style": "IPY_MODEL_2d9ac767184a4690a79bca70a21da892",
       "value": "100%"
      }
     },
     "2d9ac767184a4690a79bca70a21da892": {
      "model_module": "@jupyter-widgets/controls",
      "model_module_version": "1.5.0",
      "model_name": "DescriptionStyleModel",
      "state": {
       "_model_module": "@jupyter-widgets/controls",
       "_model_module_version": "1.5.0",
       "_model_name": "DescriptionStyleModel",
       "_view_count": null,
       "_view_module": "@jupyter-widgets/base",
       "_view_module_version": "1.2.0",
       "_view_name": "StyleView",
       "description_width": ""
      }
     },
     "2f9580c85bf541598546d7a96242530a": {
      "model_module": "@jupyter-widgets/base",
      "model_module_version": "1.2.0",
      "model_name": "LayoutModel",
      "state": {
       "_model_module": "@jupyter-widgets/base",
       "_model_module_version": "1.2.0",
       "_model_name": "LayoutModel",
       "_view_count": null,
       "_view_module": "@jupyter-widgets/base",
       "_view_module_version": "1.2.0",
       "_view_name": "LayoutView",
       "align_content": null,
       "align_items": null,
       "align_self": null,
       "border": null,
       "bottom": null,
       "display": null,
       "flex": null,
       "flex_flow": null,
       "grid_area": null,
       "grid_auto_columns": null,
       "grid_auto_flow": null,
       "grid_auto_rows": null,
       "grid_column": null,
       "grid_gap": null,
       "grid_row": null,
       "grid_template_areas": null,
       "grid_template_columns": null,
       "grid_template_rows": null,
       "height": null,
       "justify_content": null,
       "justify_items": null,
       "left": null,
       "margin": null,
       "max_height": null,
       "max_width": null,
       "min_height": null,
       "min_width": null,
       "object_fit": null,
       "object_position": null,
       "order": null,
       "overflow": null,
       "overflow_x": null,
       "overflow_y": null,
       "padding": null,
       "right": null,
       "top": null,
       "visibility": null,
       "width": null
      }
     },
     "30012e8b2bf14fbea714e625b4bd5258": {
      "model_module": "@jupyter-widgets/controls",
      "model_module_version": "1.5.0",
      "model_name": "HBoxModel",
      "state": {
       "_dom_classes": [],
       "_model_module": "@jupyter-widgets/controls",
       "_model_module_version": "1.5.0",
       "_model_name": "HBoxModel",
       "_view_count": null,
       "_view_module": "@jupyter-widgets/controls",
       "_view_module_version": "1.5.0",
       "_view_name": "HBoxView",
       "box_style": "",
       "children": [
        "IPY_MODEL_2ae367e78f76472e9df3f5308690101d",
        "IPY_MODEL_fdb4000074dc4e4ea84a7ec0fd28df1f",
        "IPY_MODEL_9453409ef385483292d53f171218c1c9"
       ],
       "layout": "IPY_MODEL_8f3659b6dab74009a4c1b99e1e0bbd29"
      }
     },
     "3a0835c27e8c4d9a930f364a2e2dabfd": {
      "model_module": "@jupyter-widgets/controls",
      "model_module_version": "1.5.0",
      "model_name": "HTMLModel",
      "state": {
       "_dom_classes": [],
       "_model_module": "@jupyter-widgets/controls",
       "_model_module_version": "1.5.0",
       "_model_name": "HTMLModel",
       "_view_count": null,
       "_view_module": "@jupyter-widgets/controls",
       "_view_module_version": "1.5.0",
       "_view_name": "HTMLView",
       "description": "",
       "description_tooltip": null,
       "layout": "IPY_MODEL_655589e3f203409da54e5c54d9280658",
       "placeholder": "​",
       "style": "IPY_MODEL_8273fee550ca4b6aab1f9504f938dedf",
       "value": " 5/5 [01:50&lt;00:00, 22.06s/it]"
      }
     },
     "443f8c63a1684163ba1d85db815fe0ee": {
      "model_module": "@jupyter-widgets/base",
      "model_module_version": "1.2.0",
      "model_name": "LayoutModel",
      "state": {
       "_model_module": "@jupyter-widgets/base",
       "_model_module_version": "1.2.0",
       "_model_name": "LayoutModel",
       "_view_count": null,
       "_view_module": "@jupyter-widgets/base",
       "_view_module_version": "1.2.0",
       "_view_name": "LayoutView",
       "align_content": null,
       "align_items": null,
       "align_self": null,
       "border": null,
       "bottom": null,
       "display": null,
       "flex": null,
       "flex_flow": null,
       "grid_area": null,
       "grid_auto_columns": null,
       "grid_auto_flow": null,
       "grid_auto_rows": null,
       "grid_column": null,
       "grid_gap": null,
       "grid_row": null,
       "grid_template_areas": null,
       "grid_template_columns": null,
       "grid_template_rows": null,
       "height": null,
       "justify_content": null,
       "justify_items": null,
       "left": null,
       "margin": null,
       "max_height": null,
       "max_width": null,
       "min_height": null,
       "min_width": null,
       "object_fit": null,
       "object_position": null,
       "order": null,
       "overflow": null,
       "overflow_x": null,
       "overflow_y": null,
       "padding": null,
       "right": null,
       "top": null,
       "visibility": null,
       "width": null
      }
     },
     "49f05cb8f6ca490ea03a86bb315d8ec7": {
      "model_module": "@jupyter-widgets/base",
      "model_module_version": "1.2.0",
      "model_name": "LayoutModel",
      "state": {
       "_model_module": "@jupyter-widgets/base",
       "_model_module_version": "1.2.0",
       "_model_name": "LayoutModel",
       "_view_count": null,
       "_view_module": "@jupyter-widgets/base",
       "_view_module_version": "1.2.0",
       "_view_name": "LayoutView",
       "align_content": null,
       "align_items": null,
       "align_self": null,
       "border": null,
       "bottom": null,
       "display": null,
       "flex": null,
       "flex_flow": null,
       "grid_area": null,
       "grid_auto_columns": null,
       "grid_auto_flow": null,
       "grid_auto_rows": null,
       "grid_column": null,
       "grid_gap": null,
       "grid_row": null,
       "grid_template_areas": null,
       "grid_template_columns": null,
       "grid_template_rows": null,
       "height": null,
       "justify_content": null,
       "justify_items": null,
       "left": null,
       "margin": null,
       "max_height": null,
       "max_width": null,
       "min_height": null,
       "min_width": null,
       "object_fit": null,
       "object_position": null,
       "order": null,
       "overflow": null,
       "overflow_x": null,
       "overflow_y": null,
       "padding": null,
       "right": null,
       "top": null,
       "visibility": null,
       "width": null
      }
     },
     "4cbcaa0c3ecd45bebdcedd8e003a2b54": {
      "model_module": "@jupyter-widgets/controls",
      "model_module_version": "1.5.0",
      "model_name": "FloatProgressModel",
      "state": {
       "_dom_classes": [],
       "_model_module": "@jupyter-widgets/controls",
       "_model_module_version": "1.5.0",
       "_model_name": "FloatProgressModel",
       "_view_count": null,
       "_view_module": "@jupyter-widgets/controls",
       "_view_module_version": "1.5.0",
       "_view_name": "ProgressView",
       "bar_style": "success",
       "description": "",
       "description_tooltip": null,
       "layout": "IPY_MODEL_2f9580c85bf541598546d7a96242530a",
       "max": 5.0,
       "min": 0.0,
       "orientation": "horizontal",
       "style": "IPY_MODEL_de2411d5601e4630b6c86f901a2a9b15",
       "value": 5.0
      }
     },
     "655589e3f203409da54e5c54d9280658": {
      "model_module": "@jupyter-widgets/base",
      "model_module_version": "1.2.0",
      "model_name": "LayoutModel",
      "state": {
       "_model_module": "@jupyter-widgets/base",
       "_model_module_version": "1.2.0",
       "_model_name": "LayoutModel",
       "_view_count": null,
       "_view_module": "@jupyter-widgets/base",
       "_view_module_version": "1.2.0",
       "_view_name": "LayoutView",
       "align_content": null,
       "align_items": null,
       "align_self": null,
       "border": null,
       "bottom": null,
       "display": null,
       "flex": null,
       "flex_flow": null,
       "grid_area": null,
       "grid_auto_columns": null,
       "grid_auto_flow": null,
       "grid_auto_rows": null,
       "grid_column": null,
       "grid_gap": null,
       "grid_row": null,
       "grid_template_areas": null,
       "grid_template_columns": null,
       "grid_template_rows": null,
       "height": null,
       "justify_content": null,
       "justify_items": null,
       "left": null,
       "margin": null,
       "max_height": null,
       "max_width": null,
       "min_height": null,
       "min_width": null,
       "object_fit": null,
       "object_position": null,
       "order": null,
       "overflow": null,
       "overflow_x": null,
       "overflow_y": null,
       "padding": null,
       "right": null,
       "top": null,
       "visibility": null,
       "width": null
      }
     },
     "8273fee550ca4b6aab1f9504f938dedf": {
      "model_module": "@jupyter-widgets/controls",
      "model_module_version": "1.5.0",
      "model_name": "DescriptionStyleModel",
      "state": {
       "_model_module": "@jupyter-widgets/controls",
       "_model_module_version": "1.5.0",
       "_model_name": "DescriptionStyleModel",
       "_view_count": null,
       "_view_module": "@jupyter-widgets/base",
       "_view_module_version": "1.2.0",
       "_view_name": "StyleView",
       "description_width": ""
      }
     },
     "8f3659b6dab74009a4c1b99e1e0bbd29": {
      "model_module": "@jupyter-widgets/base",
      "model_module_version": "1.2.0",
      "model_name": "LayoutModel",
      "state": {
       "_model_module": "@jupyter-widgets/base",
       "_model_module_version": "1.2.0",
       "_model_name": "LayoutModel",
       "_view_count": null,
       "_view_module": "@jupyter-widgets/base",
       "_view_module_version": "1.2.0",
       "_view_name": "LayoutView",
       "align_content": null,
       "align_items": null,
       "align_self": null,
       "border": null,
       "bottom": null,
       "display": null,
       "flex": null,
       "flex_flow": null,
       "grid_area": null,
       "grid_auto_columns": null,
       "grid_auto_flow": null,
       "grid_auto_rows": null,
       "grid_column": null,
       "grid_gap": null,
       "grid_row": null,
       "grid_template_areas": null,
       "grid_template_columns": null,
       "grid_template_rows": null,
       "height": null,
       "justify_content": null,
       "justify_items": null,
       "left": null,
       "margin": null,
       "max_height": null,
       "max_width": null,
       "min_height": null,
       "min_width": null,
       "object_fit": null,
       "object_position": null,
       "order": null,
       "overflow": null,
       "overflow_x": null,
       "overflow_y": null,
       "padding": null,
       "right": null,
       "top": null,
       "visibility": null,
       "width": null
      }
     },
     "9453409ef385483292d53f171218c1c9": {
      "model_module": "@jupyter-widgets/controls",
      "model_module_version": "1.5.0",
      "model_name": "HTMLModel",
      "state": {
       "_dom_classes": [],
       "_model_module": "@jupyter-widgets/controls",
       "_model_module_version": "1.5.0",
       "_model_name": "HTMLModel",
       "_view_count": null,
       "_view_module": "@jupyter-widgets/controls",
       "_view_module_version": "1.5.0",
       "_view_name": "HTMLView",
       "description": "",
       "description_tooltip": null,
       "layout": "IPY_MODEL_443f8c63a1684163ba1d85db815fe0ee",
       "placeholder": "​",
       "style": "IPY_MODEL_cb86ce1e11cb4c1fbbc0adac159f1a4d",
       "value": " 5/5 [01:52&lt;00:00, 22.50s/it]"
      }
     },
     "9b2ca960e66d4133b166460a6f820174": {
      "model_module": "@jupyter-widgets/controls",
      "model_module_version": "1.5.0",
      "model_name": "HTMLModel",
      "state": {
       "_dom_classes": [],
       "_model_module": "@jupyter-widgets/controls",
       "_model_module_version": "1.5.0",
       "_model_name": "HTMLModel",
       "_view_count": null,
       "_view_module": "@jupyter-widgets/controls",
       "_view_module_version": "1.5.0",
       "_view_name": "HTMLView",
       "description": "",
       "description_tooltip": null,
       "layout": "IPY_MODEL_9d7f9d76f61547e8b441b3e31a00a20f",
       "placeholder": "​",
       "style": "IPY_MODEL_cd335a5e99e442bb862d1d145a74c394",
       "value": "100%"
      }
     },
     "9d7f9d76f61547e8b441b3e31a00a20f": {
      "model_module": "@jupyter-widgets/base",
      "model_module_version": "1.2.0",
      "model_name": "LayoutModel",
      "state": {
       "_model_module": "@jupyter-widgets/base",
       "_model_module_version": "1.2.0",
       "_model_name": "LayoutModel",
       "_view_count": null,
       "_view_module": "@jupyter-widgets/base",
       "_view_module_version": "1.2.0",
       "_view_name": "LayoutView",
       "align_content": null,
       "align_items": null,
       "align_self": null,
       "border": null,
       "bottom": null,
       "display": null,
       "flex": null,
       "flex_flow": null,
       "grid_area": null,
       "grid_auto_columns": null,
       "grid_auto_flow": null,
       "grid_auto_rows": null,
       "grid_column": null,
       "grid_gap": null,
       "grid_row": null,
       "grid_template_areas": null,
       "grid_template_columns": null,
       "grid_template_rows": null,
       "height": null,
       "justify_content": null,
       "justify_items": null,
       "left": null,
       "margin": null,
       "max_height": null,
       "max_width": null,
       "min_height": null,
       "min_width": null,
       "object_fit": null,
       "object_position": null,
       "order": null,
       "overflow": null,
       "overflow_x": null,
       "overflow_y": null,
       "padding": null,
       "right": null,
       "top": null,
       "visibility": null,
       "width": null
      }
     },
     "be32d4102a824ad58abfcbd4db487de5": {
      "model_module": "@jupyter-widgets/controls",
      "model_module_version": "1.5.0",
      "model_name": "ProgressStyleModel",
      "state": {
       "_model_module": "@jupyter-widgets/controls",
       "_model_module_version": "1.5.0",
       "_model_name": "ProgressStyleModel",
       "_view_count": null,
       "_view_module": "@jupyter-widgets/base",
       "_view_module_version": "1.2.0",
       "_view_name": "StyleView",
       "bar_color": null,
       "description_width": ""
      }
     },
     "cb86ce1e11cb4c1fbbc0adac159f1a4d": {
      "model_module": "@jupyter-widgets/controls",
      "model_module_version": "1.5.0",
      "model_name": "DescriptionStyleModel",
      "state": {
       "_model_module": "@jupyter-widgets/controls",
       "_model_module_version": "1.5.0",
       "_model_name": "DescriptionStyleModel",
       "_view_count": null,
       "_view_module": "@jupyter-widgets/base",
       "_view_module_version": "1.2.0",
       "_view_name": "StyleView",
       "description_width": ""
      }
     },
     "cd335a5e99e442bb862d1d145a74c394": {
      "model_module": "@jupyter-widgets/controls",
      "model_module_version": "1.5.0",
      "model_name": "DescriptionStyleModel",
      "state": {
       "_model_module": "@jupyter-widgets/controls",
       "_model_module_version": "1.5.0",
       "_model_name": "DescriptionStyleModel",
       "_view_count": null,
       "_view_module": "@jupyter-widgets/base",
       "_view_module_version": "1.2.0",
       "_view_name": "StyleView",
       "description_width": ""
      }
     },
     "de2411d5601e4630b6c86f901a2a9b15": {
      "model_module": "@jupyter-widgets/controls",
      "model_module_version": "1.5.0",
      "model_name": "ProgressStyleModel",
      "state": {
       "_model_module": "@jupyter-widgets/controls",
       "_model_module_version": "1.5.0",
       "_model_name": "ProgressStyleModel",
       "_view_count": null,
       "_view_module": "@jupyter-widgets/base",
       "_view_module_version": "1.2.0",
       "_view_name": "StyleView",
       "bar_color": null,
       "description_width": ""
      }
     },
     "e8cbbbeda9a14864b601f8c2516bb1e0": {
      "model_module": "@jupyter-widgets/base",
      "model_module_version": "1.2.0",
      "model_name": "LayoutModel",
      "state": {
       "_model_module": "@jupyter-widgets/base",
       "_model_module_version": "1.2.0",
       "_model_name": "LayoutModel",
       "_view_count": null,
       "_view_module": "@jupyter-widgets/base",
       "_view_module_version": "1.2.0",
       "_view_name": "LayoutView",
       "align_content": null,
       "align_items": null,
       "align_self": null,
       "border": null,
       "bottom": null,
       "display": null,
       "flex": null,
       "flex_flow": null,
       "grid_area": null,
       "grid_auto_columns": null,
       "grid_auto_flow": null,
       "grid_auto_rows": null,
       "grid_column": null,
       "grid_gap": null,
       "grid_row": null,
       "grid_template_areas": null,
       "grid_template_columns": null,
       "grid_template_rows": null,
       "height": null,
       "justify_content": null,
       "justify_items": null,
       "left": null,
       "margin": null,
       "max_height": null,
       "max_width": null,
       "min_height": null,
       "min_width": null,
       "object_fit": null,
       "object_position": null,
       "order": null,
       "overflow": null,
       "overflow_x": null,
       "overflow_y": null,
       "padding": null,
       "right": null,
       "top": null,
       "visibility": null,
       "width": null
      }
     },
     "fdb4000074dc4e4ea84a7ec0fd28df1f": {
      "model_module": "@jupyter-widgets/controls",
      "model_module_version": "1.5.0",
      "model_name": "FloatProgressModel",
      "state": {
       "_dom_classes": [],
       "_model_module": "@jupyter-widgets/controls",
       "_model_module_version": "1.5.0",
       "_model_name": "FloatProgressModel",
       "_view_count": null,
       "_view_module": "@jupyter-widgets/controls",
       "_view_module_version": "1.5.0",
       "_view_name": "ProgressView",
       "bar_style": "success",
       "description": "",
       "description_tooltip": null,
       "layout": "IPY_MODEL_10722fe13dad49b4bbf25d40c79c6949",
       "max": 5.0,
       "min": 0.0,
       "orientation": "horizontal",
       "style": "IPY_MODEL_be32d4102a824ad58abfcbd4db487de5",
       "value": 5.0
      }
     }
    },
    "version_major": 2,
    "version_minor": 0
   }
  }
 },
 "nbformat": 4,
 "nbformat_minor": 5
}
