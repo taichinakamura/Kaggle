{
 "cells": [
  {
   "cell_type": "markdown",
   "id": "acbbf852",
   "metadata": {
    "execution": {
     "iopub.execute_input": "2022-03-07T23:26:29.454418Z",
     "iopub.status.busy": "2022-03-07T23:26:29.454082Z",
     "iopub.status.idle": "2022-03-07T23:27:40.64148Z",
     "shell.execute_reply": "2022-03-07T23:27:40.640021Z",
     "shell.execute_reply.started": "2022-03-07T23:26:29.454386Z"
    },
    "papermill": {
     "duration": 0.026965,
     "end_time": "2022-03-14T08:30:09.719008",
     "exception": false,
     "start_time": "2022-03-14T08:30:09.692043",
     "status": "completed"
    },
    "tags": []
   },
   "source": [
    "- consider only item features\n",
    "- modify functions for predictions of cold users\n",
    "- pickle als model"
   ]
  },
  {
   "cell_type": "code",
   "execution_count": 1,
   "id": "54560f2d",
   "metadata": {
    "execution": {
     "iopub.execute_input": "2022-03-14T08:30:09.780333Z",
     "iopub.status.busy": "2022-03-14T08:30:09.779616Z",
     "iopub.status.idle": "2022-03-14T08:31:15.788686Z",
     "shell.execute_reply": "2022-03-14T08:31:15.787750Z",
     "shell.execute_reply.started": "2022-03-14T08:19:36.603827Z"
    },
    "papermill": {
     "duration": 66.042301,
     "end_time": "2022-03-14T08:31:15.788889",
     "exception": false,
     "start_time": "2022-03-14T08:30:09.746588",
     "status": "completed"
    },
    "tags": []
   },
   "outputs": [
    {
     "name": "stdout",
     "output_type": "stream",
     "text": [
      "Collecting similaripy\r\n",
      "  Downloading similaripy-0.1.2.tar.gz (331 kB)\r\n",
      "     |████████████████████████████████| 331 kB 2.0 MB/s            \r\n",
      "\u001b[?25h  Preparing metadata (setup.py) ... \u001b[?25l-\b \b\\\b \bdone\r\n",
      "\u001b[?25hRequirement already satisfied: scipy>=1.0.0 in /opt/conda/lib/python3.7/site-packages (from similaripy) (1.7.3)\r\n",
      "Requirement already satisfied: numpy>=1.14.0 in /opt/conda/lib/python3.7/site-packages (from similaripy) (1.20.3)\r\n",
      "Requirement already satisfied: tqdm>=4.19.6 in /opt/conda/lib/python3.7/site-packages (from similaripy) (4.62.3)\r\n",
      "Building wheels for collected packages: similaripy\r\n",
      "  Building wheel for similaripy (setup.py) ... \u001b[?25l-\b \b\\\b \b|\b \b/\b \b-\b \b\\\b \b|\b \b/\b \b-\b \bdone\r\n",
      "\u001b[?25h  Created wheel for similaripy: filename=similaripy-0.1.2-cp37-cp37m-linux_x86_64.whl size=2040867 sha256=11de8692a8a2608e087bdfda38ca902fb1f44a610333c7199bfbb89ac47c760d\r\n",
      "  Stored in directory: /root/.cache/pip/wheels/2e/81/4b/7a396ebc45534553ddee1eb106d99023df4d9d09b53b13cc66\r\n",
      "Successfully built similaripy\r\n",
      "Installing collected packages: similaripy\r\n",
      "Successfully installed similaripy-0.1.2\r\n",
      "\u001b[33mWARNING: Running pip as the 'root' user can result in broken permissions and conflicting behaviour with the system package manager. It is recommended to use a virtual environment instead: https://pip.pypa.io/warnings/venv\u001b[0m\r\n"
     ]
    }
   ],
   "source": [
    "!pip install similaripy"
   ]
  },
  {
   "cell_type": "code",
   "execution_count": 2,
   "id": "4284f901",
   "metadata": {
    "execution": {
     "iopub.execute_input": "2022-03-14T08:31:15.861544Z",
     "iopub.status.busy": "2022-03-14T08:31:15.860792Z",
     "iopub.status.idle": "2022-03-14T08:31:17.326988Z",
     "shell.execute_reply": "2022-03-14T08:31:17.326362Z",
     "shell.execute_reply.started": "2022-03-14T08:20:35.785873Z"
    },
    "papermill": {
     "duration": 1.505727,
     "end_time": "2022-03-14T08:31:17.327147",
     "exception": false,
     "start_time": "2022-03-14T08:31:15.821420",
     "status": "completed"
    },
    "tags": []
   },
   "outputs": [],
   "source": [
    "import numpy as np\n",
    "import pandas as pd\n",
    "from tqdm import tqdm\n",
    "from sklearn import preprocessing\n",
    "from scipy.sparse import coo_matrix\n",
    "from sklearn.decomposition import TruncatedSVD\n",
    "from sklearn.feature_extraction.text import TfidfVectorizer\n",
    "from sklearn.decomposition import LatentDirichletAllocation\n",
    "import implicit\n",
    "import similaripy\n",
    "import pickle\n",
    "\n",
    "import warnings\n",
    "warnings.filterwarnings('ignore')\n",
    "\n",
    "tqdm.pandas()"
   ]
  },
  {
   "cell_type": "code",
   "execution_count": 3,
   "id": "4931bf41",
   "metadata": {
    "execution": {
     "iopub.execute_input": "2022-03-14T08:31:17.401085Z",
     "iopub.status.busy": "2022-03-14T08:31:17.400405Z",
     "iopub.status.idle": "2022-03-14T08:32:40.618048Z",
     "shell.execute_reply": "2022-03-14T08:32:40.617350Z",
     "shell.execute_reply.started": "2022-03-14T08:20:37.152245Z"
    },
    "papermill": {
     "duration": 83.258973,
     "end_time": "2022-03-14T08:32:40.618238",
     "exception": false,
     "start_time": "2022-03-14T08:31:17.359265",
     "status": "completed"
    },
    "tags": []
   },
   "outputs": [],
   "source": [
    "DATA_DIR = \"/kaggle/input/h-and-m-personalized-fashion-recommendations/\"\n",
    "df = pd.read_csv(DATA_DIR + \"transactions_train.csv\")\n",
    "article_df = pd.read_csv(DATA_DIR + \"articles.csv\")\n",
    "customer_df = pd.read_csv(DATA_DIR + \"customers.csv\")\n",
    "sub = pd.read_csv(DATA_DIR + 'sample_submission.csv')"
   ]
  },
  {
   "cell_type": "code",
   "execution_count": 4,
   "id": "43685f36",
   "metadata": {
    "execution": {
     "iopub.execute_input": "2022-03-14T08:32:42.407904Z",
     "iopub.status.busy": "2022-03-14T08:32:42.407097Z",
     "iopub.status.idle": "2022-03-14T08:33:18.280408Z",
     "shell.execute_reply": "2022-03-14T08:33:18.279793Z",
     "shell.execute_reply.started": "2022-03-14T08:22:01.690540Z"
    },
    "papermill": {
     "duration": 37.629481,
     "end_time": "2022-03-14T08:33:18.280595",
     "exception": false,
     "start_time": "2022-03-14T08:32:40.651114",
     "status": "completed"
    },
    "tags": []
   },
   "outputs": [],
   "source": [
    "df[\"t_dat\"] = pd.to_datetime(df[\"t_dat\"])\n",
    "\n",
    "date_week_df = df.drop_duplicates(\"t_dat\")[[\"t_dat\"]].reset_index(drop=True)\n",
    "date_week_df['week_no'] = (date_week_df['t_dat'] + pd.DateOffset(days=5)).dt.week\n",
    "date_week_df[\"week_no\"] = date_week_df[\"week_no\"].diff(1)\n",
    "date_week_df[\"week_no\"].fillna(0, inplace=True)\n",
    "date_week_df[\"week_no\"] = date_week_df[\"week_no\"] != 0\n",
    "date_week_df[\"week_no\"] = date_week_df[\"week_no\"].cumsum()\n",
    "\n",
    "df = pd.merge(df, date_week_df, on=\"t_dat\", how=\"left\")\n",
    "\n",
    "df.sort_values(['t_dat', 'customer_id'], inplace=True)\n",
    "\n",
    "test_week = df.week_no.max()\n",
    "last_ts = df['t_dat'].max()"
   ]
  },
  {
   "cell_type": "markdown",
   "id": "4ded20c7",
   "metadata": {
    "papermill": {
     "duration": 0.031573,
     "end_time": "2022-03-14T08:33:18.347089",
     "exception": false,
     "start_time": "2022-03-14T08:33:18.315516",
     "status": "completed"
    },
    "tags": []
   },
   "source": [
    "# als model"
   ]
  },
  {
   "cell_type": "code",
   "execution_count": 5,
   "id": "8564cbad",
   "metadata": {
    "execution": {
     "iopub.execute_input": "2022-03-14T08:33:18.434316Z",
     "iopub.status.busy": "2022-03-14T08:33:18.419718Z",
     "iopub.status.idle": "2022-03-14T08:35:42.585642Z",
     "shell.execute_reply": "2022-03-14T08:35:42.584968Z",
     "shell.execute_reply.started": "2022-03-14T08:22:40.067254Z"
    },
    "papermill": {
     "duration": 144.206543,
     "end_time": "2022-03-14T08:35:42.585809",
     "exception": false,
     "start_time": "2022-03-14T08:33:18.379266",
     "status": "completed"
    },
    "tags": []
   },
   "outputs": [
    {
     "data": {
      "application/vnd.jupyter.widget-view+json": {
       "model_id": "3eb0a05431514a3392da93cdcbd92aad",
       "version_major": 2,
       "version_minor": 0
      },
      "text/plain": [
       "  0%|          | 0/5 [00:00<?, ?it/s]"
      ]
     },
     "metadata": {},
     "output_type": "display_data"
    }
   ],
   "source": [
    "# for validation\n",
    "tmp = df[df.week_no < test_week].reset_index(drop=True).copy()\n",
    "    \n",
    "# als model\n",
    "all_users = tmp[\"customer_id\"].unique().tolist()\n",
    "all_items = tmp[\"article_id\"].unique().tolist()\n",
    "\n",
    "user_ids = dict(list(enumerate(all_users)))\n",
    "item_ids = dict(list(enumerate(all_items)))\n",
    "\n",
    "user_map = {u: uidx for uidx, u in user_ids.items()}\n",
    "item_map = {u: iidx for iidx, u in item_ids.items()}\n",
    "\n",
    "tmp[\"customer_id\"] = tmp[\"customer_id\"].map(user_map)\n",
    "tmp[\"article_id\"] = tmp[\"article_id\"].map(item_map)\n",
    "\n",
    "row = tmp[\"customer_id\"].values\n",
    "col = tmp[\"article_id\"].values\n",
    "\n",
    "data = np.ones(tmp.shape[0])\n",
    "coo = coo_matrix((data, (row, col)), shape=(len(all_users), len(all_items)))\n",
    "\n",
    "n_factors = 5\n",
    "als_model = implicit.als.AlternatingLeastSquares(factors=n_factors, iterations = 5, regularization=0.1, random_state=2240)\n",
    "als_model.fit(coo)\n",
    "item_factor_columns = [\"article_id_\"+str(i) for i in range(n_factors)]\n",
    "\n",
    "del row, col, tmp, data, coo, user_ids, item_ids\n",
    "\n",
    "with open('als_model_val.pickle', mode='wb') as f:\n",
    "    pickle.dump(als_model, f)"
   ]
  },
  {
   "cell_type": "code",
   "execution_count": 6,
   "id": "6c96af71",
   "metadata": {
    "execution": {
     "iopub.execute_input": "2022-03-14T08:35:42.654387Z",
     "iopub.status.busy": "2022-03-14T08:35:42.653732Z",
     "iopub.status.idle": "2022-03-14T08:38:02.414755Z",
     "shell.execute_reply": "2022-03-14T08:38:02.415462Z",
     "shell.execute_reply.started": "2022-03-14T08:25:00.147084Z"
    },
    "papermill": {
     "duration": 139.797564,
     "end_time": "2022-03-14T08:38:02.415888",
     "exception": false,
     "start_time": "2022-03-14T08:35:42.618324",
     "status": "completed"
    },
    "tags": []
   },
   "outputs": [
    {
     "data": {
      "application/vnd.jupyter.widget-view+json": {
       "model_id": "ba01052464194555a461203041977b96",
       "version_major": 2,
       "version_minor": 0
      },
      "text/plain": [
       "  0%|          | 0/5 [00:00<?, ?it/s]"
      ]
     },
     "metadata": {},
     "output_type": "display_data"
    }
   ],
   "source": [
    "# for full train\n",
    "tmp = df.copy()\n",
    "    \n",
    "# als model\n",
    "all_users = tmp[\"customer_id\"].unique().tolist()\n",
    "all_items = tmp[\"article_id\"].unique().tolist()\n",
    "\n",
    "user_ids = dict(list(enumerate(all_users)))\n",
    "item_ids = dict(list(enumerate(all_items)))\n",
    "\n",
    "user_map = {u: uidx for uidx, u in user_ids.items()}\n",
    "item_map = {u: iidx for iidx, u in item_ids.items()}\n",
    "\n",
    "tmp[\"customer_id\"] = tmp[\"customer_id\"].map(user_map)\n",
    "tmp[\"article_id\"] = tmp[\"article_id\"].map(item_map)\n",
    "\n",
    "row = tmp[\"customer_id\"].values\n",
    "col = tmp[\"article_id\"].values\n",
    "\n",
    "data = np.ones(tmp.shape[0])\n",
    "coo = coo_matrix((data, (row, col)), shape=(len(all_users), len(all_items)))\n",
    "\n",
    "n_factors = 5\n",
    "als_model = implicit.als.AlternatingLeastSquares(factors=n_factors, iterations = 5, regularization=0.1, random_state=2240)\n",
    "als_model.fit(coo)\n",
    "item_factor_columns = [\"article_id_\"+str(i) for i in range(n_factors)]\n",
    "\n",
    "del row, col, tmp, data, coo, user_ids, item_ids\n",
    "\n",
    "with open('als_model_full.pickle', mode='wb') as f:\n",
    "    pickle.dump(als_model, f)"
   ]
  },
  {
   "cell_type": "markdown",
   "id": "403c4530",
   "metadata": {
    "papermill": {
     "duration": 0.035869,
     "end_time": "2022-03-14T08:38:02.487367",
     "exception": false,
     "start_time": "2022-03-14T08:38:02.451498",
     "status": "completed"
    },
    "tags": []
   },
   "source": [
    "# first appperance week of article_id"
   ]
  },
  {
   "cell_type": "code",
   "execution_count": 7,
   "id": "4337d904",
   "metadata": {
    "execution": {
     "iopub.execute_input": "2022-03-14T08:38:02.564210Z",
     "iopub.status.busy": "2022-03-14T08:38:02.563439Z",
     "iopub.status.idle": "2022-03-14T08:38:04.033822Z",
     "shell.execute_reply": "2022-03-14T08:38:04.032739Z",
     "shell.execute_reply.started": "2022-03-09T08:31:06.196673Z"
    },
    "papermill": {
     "duration": 1.509595,
     "end_time": "2022-03-14T08:38:04.033993",
     "exception": false,
     "start_time": "2022-03-14T08:38:02.524398",
     "status": "completed"
    },
    "tags": []
   },
   "outputs": [],
   "source": [
    "article_week_range = df.groupby(\"article_id\").week_no.agg([\"min\", \"max\"]).reset_index()\n",
    "article_week_range.to_csv('article_week_range.csv', index=None)"
   ]
  },
  {
   "cell_type": "markdown",
   "id": "03a18920",
   "metadata": {
    "papermill": {
     "duration": 0.033467,
     "end_time": "2022-03-14T08:38:04.100819",
     "exception": false,
     "start_time": "2022-03-14T08:38:04.067352",
     "status": "completed"
    },
    "tags": []
   },
   "source": [
    "# preds for cold users\n",
    "- https://www.kaggle.com/byfone/h-m-trending-products-weekly"
   ]
  },
  {
   "cell_type": "code",
   "execution_count": 8,
   "id": "1e8c858e",
   "metadata": {
    "execution": {
     "iopub.execute_input": "2022-03-14T08:38:04.171960Z",
     "iopub.status.busy": "2022-03-14T08:38:04.171238Z",
     "iopub.status.idle": "2022-03-14T08:38:06.268969Z",
     "shell.execute_reply": "2022-03-14T08:38:06.268350Z"
    },
    "papermill": {
     "duration": 2.134151,
     "end_time": "2022-03-14T08:38:06.269135",
     "exception": false,
     "start_time": "2022-03-14T08:38:04.134984",
     "status": "completed"
    },
    "tags": []
   },
   "outputs": [],
   "source": [
    "df = df[df.week_no > df.week_no.max() - 50].reset_index(drop=True)"
   ]
  },
  {
   "cell_type": "code",
   "execution_count": 9,
   "id": "09f24141",
   "metadata": {
    "execution": {
     "iopub.execute_input": "2022-03-14T08:38:06.355877Z",
     "iopub.status.busy": "2022-03-14T08:38:06.354976Z",
     "iopub.status.idle": "2022-03-14T08:38:06.357954Z",
     "shell.execute_reply": "2022-03-14T08:38:06.357276Z",
     "shell.execute_reply.started": "2022-03-09T05:55:53.727807Z"
    },
    "papermill": {
     "duration": 0.055717,
     "end_time": "2022-03-14T08:38:06.358111",
     "exception": false,
     "start_time": "2022-03-14T08:38:06.302394",
     "status": "completed"
    },
    "tags": []
   },
   "outputs": [],
   "source": [
    "def make_cold_predictions(input_df, sub):\n",
    "    # Count the number of transactions per week\n",
    "    weekly_sales = input_df.drop('customer_id', axis=1).groupby(['week_no', 'article_id'])['t_dat'].count().reset_index()\n",
    "    weekly_sales = weekly_sales.rename(columns={'t_dat': 'count'})\n",
    "    input_df = pd.merge(input_df, weekly_sales, on=['week_no', 'article_id'], how=\"left\")\n",
    "    \n",
    "    #Let's assume that in the target week sales will be similar to the last week of the training data\n",
    "    weekly_sales = weekly_sales.set_index('article_id')\n",
    "\n",
    "    input_df = input_df.join(\n",
    "        weekly_sales.loc[weekly_sales['week_no']==input_df.week_no.max(), ['count']],\n",
    "        on='article_id', rsuffix=\"_targ\")\n",
    "\n",
    "    input_df['count_targ'].fillna(0, inplace=True)\n",
    "    del weekly_sales\n",
    "    \n",
    "    # Calculate sales rate adjusted for changes in product popularity¶\n",
    "    input_df['quotient'] = input_df['count_targ'] / input_df['count']\n",
    "    \n",
    "    N = 12\n",
    "    # Take supposedly popular products¶\n",
    "    target_sales = input_df.drop('customer_id', axis=1).groupby('article_id')['quotient'].sum()\n",
    "    general_pred = target_sales.nlargest(N).index.tolist()\n",
    "    del target_sales\n",
    "    \n",
    "    # Fill in purchase dictionary¶\n",
    "    purchase_dict = {}\n",
    "\n",
    "    for i in tqdm(input_df.index):\n",
    "        cust_id = input_df.at[i, 'customer_id']\n",
    "        art_id = input_df.at[i, 'article_id']\n",
    "        t_dat = input_df.at[i, 't_dat']\n",
    "\n",
    "        if cust_id not in purchase_dict:\n",
    "            purchase_dict[cust_id] = {}\n",
    "\n",
    "        if art_id not in purchase_dict[cust_id]:\n",
    "            purchase_dict[cust_id][art_id] = 0\n",
    "    \n",
    "        x = max(1, (last_ts - t_dat).days)\n",
    "\n",
    "        a, b, c, d = 2.5e4, 1.5e5, 2e-1, 1e3\n",
    "        y = a / np.sqrt(x) + b * np.exp(-c*x) - d\n",
    "\n",
    "        value = input_df.at[i, 'quotient'] * max(0, y)\n",
    "        purchase_dict[cust_id][art_id] += value\n",
    "        \n",
    "\n",
    "    pred_list = []\n",
    "    for cust_id in tqdm(sub['customer_id']):\n",
    "        if cust_id in purchase_dict:\n",
    "            series = pd.Series(purchase_dict[cust_id])\n",
    "            series = series[series > 0]\n",
    "            l = series.nlargest(N).index.tolist()\n",
    "            if len(l) < N:\n",
    "                l = l + general_pred[:(N-len(l))]\n",
    "        else:\n",
    "            l = general_pred\n",
    "        l = ['0'+str(ele) for ele in l]\n",
    "        pred_list.append(' '.join(l))\n",
    "\n",
    "    sub['prediction'] = pred_list\n",
    "    return sub"
   ]
  },
  {
   "cell_type": "code",
   "execution_count": 10,
   "id": "630d9cb2",
   "metadata": {
    "execution": {
     "iopub.execute_input": "2022-03-14T08:38:06.428588Z",
     "iopub.status.busy": "2022-03-14T08:38:06.427855Z",
     "iopub.status.idle": "2022-03-14T09:05:24.310635Z",
     "shell.execute_reply": "2022-03-14T09:05:24.309870Z",
     "shell.execute_reply.started": "2022-03-09T05:55:53.866216Z"
    },
    "papermill": {
     "duration": 1637.919558,
     "end_time": "2022-03-14T09:05:24.310862",
     "exception": false,
     "start_time": "2022-03-14T08:38:06.391304",
     "status": "completed"
    },
    "tags": []
   },
   "outputs": [
    {
     "name": "stderr",
     "output_type": "stream",
     "text": [
      "100%|██████████| 8817060/8817060 [16:41<00:00, 8800.76it/s]\n",
      "100%|██████████| 1371980/1371980 [10:13<00:00, 2237.61it/s]\n"
     ]
    }
   ],
   "source": [
    "tmp1 = df[(df.week_no > test_week-30) & (df.week_no < test_week)].reset_index(drop=True).copy()\n",
    "sub1 = make_cold_predictions(tmp1, sub)\n",
    "sub1.to_csv('cold_user_predictions1.csv', index=None)\n",
    "del tmp1"
   ]
  },
  {
   "cell_type": "code",
   "execution_count": 11,
   "id": "c32e9b7f",
   "metadata": {
    "execution": {
     "iopub.execute_input": "2022-03-14T09:05:36.097836Z",
     "iopub.status.busy": "2022-03-14T09:05:36.096991Z",
     "iopub.status.idle": "2022-03-14T09:33:26.640915Z",
     "shell.execute_reply": "2022-03-14T09:33:26.640136Z"
    },
    "papermill": {
     "duration": 1676.380589,
     "end_time": "2022-03-14T09:33:26.641142",
     "exception": false,
     "start_time": "2022-03-14T09:05:30.260553",
     "status": "completed"
    },
    "tags": []
   },
   "outputs": [
    {
     "name": "stderr",
     "output_type": "stream",
     "text": [
      "100%|██████████| 9057371/9057371 [17:10<00:00, 8791.44it/s]\n",
      "100%|██████████| 1371980/1371980 [10:17<00:00, 2221.62it/s]\n"
     ]
    }
   ],
   "source": [
    "tmp = df[(df.week_no > test_week-30)].reset_index(drop=True).copy()\n",
    "sub = make_cold_predictions(tmp, sub)\n",
    "sub.to_csv('cold_user_predictions_for_test.csv', index=None)\n",
    "del tmp"
   ]
  },
  {
   "cell_type": "markdown",
   "id": "30f0dfe8",
   "metadata": {
    "papermill": {
     "duration": 11.729839,
     "end_time": "2022-03-14T09:33:50.071344",
     "exception": false,
     "start_time": "2022-03-14T09:33:38.341505",
     "status": "completed"
    },
    "tags": []
   },
   "source": [
    "# features by implicit"
   ]
  },
  {
   "cell_type": "code",
   "execution_count": 12,
   "id": "431029c8",
   "metadata": {
    "execution": {
     "iopub.execute_input": "2022-03-14T09:34:13.880817Z",
     "iopub.status.busy": "2022-03-14T09:34:13.879580Z",
     "iopub.status.idle": "2022-03-14T09:34:13.881736Z",
     "shell.execute_reply": "2022-03-14T09:34:13.882333Z",
     "shell.execute_reply.started": "2022-03-09T03:45:53.20932Z"
    },
    "papermill": {
     "duration": 12.095393,
     "end_time": "2022-03-14T09:34:13.882549",
     "exception": false,
     "start_time": "2022-03-14T09:34:01.787156",
     "status": "completed"
    },
    "tags": []
   },
   "outputs": [],
   "source": [
    "#all_users = df[\"customer_id\"].unique().tolist()\n",
    "#all_items = df[\"article_id\"].unique().tolist()\n",
    "\n",
    "#user_ids = dict(list(enumerate(all_users)))\n",
    "#item_ids = dict(list(enumerate(all_items)))\n",
    "\n",
    "#user_map = {u: uidx for uidx, u in user_ids.items()}\n",
    "#item_map = {u: iidx for iidx, u in item_ids.items()}\n",
    "\n",
    "#df[\"customer_id\"] = df[\"customer_id\"].map(user_map)\n",
    "#df[\"article_id\"] = df[\"article_id\"].map(item_map)\n",
    "\n",
    "#row = df[\"customer_id\"].values\n",
    "#col = df[\"article_id\"].values\n",
    "\n",
    "#data = np.ones(df.shape[0])\n",
    "#coo = coo_matrix((data, (row, col)), shape=(len(all_users), len(all_items)))\n",
    "\n",
    "#model = implicit.als.AlternatingLeastSquares(factors=10, iterations = 5, regularization=0.01)\n",
    "#model.fit(coo)\n",
    "\n",
    "#model.user_factors, model.user_factors.shape\n",
    "#model.item_factors, model.item_factors.shape"
   ]
  },
  {
   "cell_type": "markdown",
   "id": "30bacdd0",
   "metadata": {
    "papermill": {
     "duration": 11.729263,
     "end_time": "2022-03-14T09:34:37.248465",
     "exception": false,
     "start_time": "2022-03-14T09:34:25.519202",
     "status": "completed"
    },
    "tags": []
   },
   "source": [
    "# features by similaripy"
   ]
  },
  {
   "cell_type": "code",
   "execution_count": 13,
   "id": "72997687",
   "metadata": {
    "execution": {
     "iopub.execute_input": "2022-03-14T09:35:00.701906Z",
     "iopub.status.busy": "2022-03-14T09:35:00.700959Z",
     "iopub.status.idle": "2022-03-14T09:35:00.703801Z",
     "shell.execute_reply": "2022-03-14T09:35:00.703103Z",
     "shell.execute_reply.started": "2022-03-09T03:45:53.211309Z"
    },
    "papermill": {
     "duration": 11.734629,
     "end_time": "2022-03-14T09:35:00.703978",
     "exception": false,
     "start_time": "2022-03-14T09:34:48.969349",
     "status": "completed"
    },
    "tags": []
   },
   "outputs": [],
   "source": [
    "# normalize matrix with bm25\n",
    "#coo_bm = similaripy.normalization.bm25(coo)\n",
    "\n",
    "# train the model with 50 knn per item \n",
    "#model = similaripy.cosine(coo_bm.T, k=50)\n",
    "\n",
    "# recommend 100 items to users 1, 14 and 8 filtering the items already seen by each users\n",
    "#user_recommendations = sim.dot_product(coo_bm, model.T, k=100, target_rows=[1,14,8], filter_cols=coo_bm)"
   ]
  },
  {
   "cell_type": "markdown",
   "id": "bcb800aa",
   "metadata": {
    "papermill": {
     "duration": 11.586489,
     "end_time": "2022-03-14T09:35:24.112363",
     "exception": false,
     "start_time": "2022-03-14T09:35:12.525874",
     "status": "completed"
    },
    "tags": []
   },
   "source": [
    "# features by abstraction block"
   ]
  },
  {
   "cell_type": "code",
   "execution_count": 14,
   "id": "a7bebcd7",
   "metadata": {
    "execution": {
     "iopub.execute_input": "2022-03-14T09:35:47.892541Z",
     "iopub.status.busy": "2022-03-14T09:35:47.891786Z",
     "iopub.status.idle": "2022-03-14T09:35:51.995441Z",
     "shell.execute_reply": "2022-03-14T09:35:51.994564Z",
     "shell.execute_reply.started": "2022-03-09T03:45:53.21309Z"
    },
    "papermill": {
     "duration": 16.146913,
     "end_time": "2022-03-14T09:35:51.995631",
     "exception": false,
     "start_time": "2022-03-14T09:35:35.848718",
     "status": "completed"
    },
    "tags": []
   },
   "outputs": [],
   "source": [
    "article_columns = [\"garment_group_no\",\n",
    "                \"product_code\", \"product_type_no\", \n",
    "                \"graphical_appearance_no\", \"colour_group_code\", \"perceived_colour_value_id\",\n",
    "                \"perceived_colour_master_id\", \"department_no\", \"index_group_no\", \n",
    "                \"section_no\"]\n",
    "\n",
    "df = pd.merge(df, article_df[[\"article_id\"] + article_columns], on='article_id', how='left')"
   ]
  },
  {
   "cell_type": "code",
   "execution_count": 15,
   "id": "e3ae96d3",
   "metadata": {
    "execution": {
     "iopub.execute_input": "2022-03-14T09:36:15.768425Z",
     "iopub.status.busy": "2022-03-14T09:36:15.765683Z",
     "iopub.status.idle": "2022-03-14T09:37:18.143152Z",
     "shell.execute_reply": "2022-03-14T09:37:18.143801Z",
     "shell.execute_reply.started": "2022-03-09T03:45:53.214312Z"
    },
    "papermill": {
     "duration": 74.438967,
     "end_time": "2022-03-14T09:37:18.144023",
     "exception": false,
     "start_time": "2022-03-14T09:36:03.705056",
     "status": "completed"
    },
    "tags": []
   },
   "outputs": [],
   "source": [
    "# customerごとに何か購入したweek\n",
    "customer2weeks = df.groupby('customer_id')['week_no'].unique()\n",
    "\n",
    "# customerごとに学習データの特徴量となるweekとラベルとなるweekのペアを作る。\n",
    "customer2weekpairs = {}\n",
    "\n",
    "for c_id, weeks in customer2weeks.items():\n",
    "    customer2weekpairs[c_id] = {}\n",
    "    for i in range(weeks.shape[0]-1):\n",
    "        customer2weekpairs[c_id][weeks[i]] = weeks[i+1]\n",
    "    customer2weekpairs[c_id][weeks[-1]] = test_week"
   ]
  },
  {
   "cell_type": "code",
   "execution_count": 16,
   "id": "1b7a78c5",
   "metadata": {
    "execution": {
     "iopub.execute_input": "2022-03-14T09:37:41.452066Z",
     "iopub.status.busy": "2022-03-14T09:37:41.451366Z",
     "iopub.status.idle": "2022-03-14T09:37:41.453768Z",
     "shell.execute_reply": "2022-03-14T09:37:41.454248Z",
     "shell.execute_reply.started": "2022-03-09T03:45:53.215795Z"
    },
    "papermill": {
     "duration": 11.63491,
     "end_time": "2022-03-14T09:37:41.454455",
     "exception": false,
     "start_time": "2022-03-14T09:37:29.819545",
     "status": "completed"
    },
    "tags": []
   },
   "outputs": [],
   "source": [
    "def join(df):\n",
    "    x = [str(e) for e in list(df)]\n",
    "    return \" \".join(x)\n",
    "\n",
    "def label_prev_week(input_df):\n",
    "    weeks = []\n",
    "    for i, (c_id, week) in enumerate(zip(input_df['customer_id'], input_df['week_no'])):\n",
    "        weeks.append(customer2weekpairs[c_id][week])\n",
    "    input_df.week_no=weeks\n",
    "    return input_df"
   ]
  },
  {
   "cell_type": "code",
   "execution_count": 17,
   "id": "a20cd542",
   "metadata": {
    "execution": {
     "iopub.execute_input": "2022-03-14T09:38:04.825576Z",
     "iopub.status.busy": "2022-03-14T09:38:04.824421Z",
     "iopub.status.idle": "2022-03-14T09:38:04.839658Z",
     "shell.execute_reply": "2022-03-14T09:38:04.840154Z",
     "shell.execute_reply.started": "2022-03-09T03:45:53.219066Z"
    },
    "papermill": {
     "duration": 11.671583,
     "end_time": "2022-03-14T09:38:04.840362",
     "exception": false,
     "start_time": "2022-03-14T09:37:53.168779",
     "status": "completed"
    },
    "tags": []
   },
   "outputs": [],
   "source": [
    "class AbstractBaseBlock:\n",
    "    def fit(self, input_df, y=None):\n",
    "        return self.transform(input_df)\n",
    "\n",
    "    def transform(self, input_df):\n",
    "        raise NotImplementedError()\n",
    "        \n",
    "class UserHistoryEveryBlock(AbstractBaseBlock):\n",
    "    \"\"\"ユーザーの数値履歴を週間で集計した特徴量を付与する block 累積ではない\"\"\"\n",
    "    def __init__(self, item):\n",
    "        self.item = item\n",
    "\n",
    "    def fit(self, input_df, y=None):\n",
    "        out = input_df \\\n",
    "        .groupby(['customer_id', 'week_no'])[self.item].agg([\"sum\", \"std\", \"max\", \"min\"]).add_prefix(\"u_prev_\"+self.item+\"_\").reset_index()\n",
    "        out = label_prev_week(out)\n",
    "        return self.transform(out)\n",
    "\n",
    "    def transform(self, input_df):\n",
    "        return input_df\n",
    "    \n",
    "class UserHistoryVectorEveryBlock(AbstractBaseBlock):\n",
    "    \"\"\"ユーザーの文字履歴を週間で集計しベクトル化した特徴量を付与する block 累積ではない\"\"\"\n",
    "    def __init__(self, item, n_components = 5):\n",
    "        self.item = item\n",
    "        self.n_components = n_components\n",
    "        \n",
    "    def fit(self, input_df, y=None):\n",
    "        docs = input_df.groupby([\"customer_id\", \"week_no\"])[self.item].apply(join)\n",
    "        max_features = int(input_df[self.item].nunique() * 0.8)\n",
    "        tv = TfidfVectorizer(max_features=max_features)\n",
    "        X = tv.fit_transform(docs)\n",
    "        \n",
    "        svd = TruncatedSVD(n_components=self.n_components, random_state=0)\n",
    "        X = svd.fit_transform(X)\n",
    "        result = pd.DataFrame(X, columns=[f\"u_{self.item}_{i}\" for i in range(self.n_components)])\n",
    "        result.index = docs.index\n",
    "        result = result.reset_index()\n",
    "        result = label_prev_week(result)\n",
    "        return self.transform(result)\n",
    "  \n",
    "    def transform(self, input_df):\n",
    "        return input_df  \n",
    "\n",
    "class ItemHistoryEveryBlock(AbstractBaseBlock):\n",
    "    \"\"\"アイテムの数値履歴を週間で集計した特徴量を付与する block 累積ではない\"\"\"\n",
    "    def __init__(self, item):\n",
    "        self.item = item\n",
    "\n",
    "    def fit(self, input_df, y=None):\n",
    "        out = input_df \\\n",
    "        .groupby(['week_no'])[self.item].value_counts()\n",
    "        out = out.to_frame(\"sale_count\").reset_index()\n",
    "        return self.transform(out)\n",
    "\n",
    "    def transform(self, input_df):\n",
    "        return input_df\n",
    "    \n",
    "class ItemHistorySumBlock(AbstractBaseBlock):\n",
    "    \"\"\"アイテムの数値履歴を週間で集計した特徴量を付与する block 累積ではない\"\"\"\n",
    "    def __init__(self, item):\n",
    "        self.item = item\n",
    "\n",
    "    def fit(self, input_df, y=None):\n",
    "        out = input_df \\\n",
    "        .groupby(['week_no', self.item])['price'].agg([\"sum\"]).add_prefix(\"sale_\").reset_index()\n",
    "        return self.transform(out)\n",
    "\n",
    "    def transform(self, input_df):\n",
    "        return input_df"
   ]
  },
  {
   "cell_type": "code",
   "execution_count": 18,
   "id": "f7cfee1d",
   "metadata": {
    "execution": {
     "iopub.execute_input": "2022-03-14T09:38:28.186919Z",
     "iopub.status.busy": "2022-03-14T09:38:28.185769Z",
     "iopub.status.idle": "2022-03-14T09:38:28.187795Z",
     "shell.execute_reply": "2022-03-14T09:38:28.188280Z",
     "shell.execute_reply.started": "2022-03-09T03:45:53.220174Z"
    },
    "papermill": {
     "duration": 11.861432,
     "end_time": "2022-03-14T09:38:28.188491",
     "exception": false,
     "start_time": "2022-03-14T09:38:16.327059",
     "status": "completed"
    },
    "tags": []
   },
   "outputs": [],
   "source": [
    "# user_features\n",
    "#feature_blocks = [\n",
    "#    UserHistoryEveryBlock(\"price\"),\n",
    "#    UserHistoryVectorEveryBlock(\"section_no\"),\n",
    "#    UserHistoryVectorEveryBlock(\"garment_group_no\"),\n",
    "#]\n",
    "\n",
    "#for i, block in enumerate(feature_blocks):\n",
    "#    if i == 0:\n",
    "#        user_features_df = block.fit(df)\n",
    "#    else:\n",
    "#        out_i = block.fit(df)\n",
    "#        user_features_df = pd.merge(user_features_df, out_i, on = [\"customer_id\", \"week_no\"], how=\"left\")\n",
    "        \n",
    "#user_features_df.to_csv(\"user_features.csv\", index=False)\n",
    "#del user_features_df"
   ]
  },
  {
   "cell_type": "code",
   "execution_count": 19,
   "id": "6d570f1c",
   "metadata": {
    "execution": {
     "iopub.execute_input": "2022-03-14T09:38:51.434398Z",
     "iopub.status.busy": "2022-03-14T09:38:51.433552Z",
     "iopub.status.idle": "2022-03-14T09:39:04.553329Z",
     "shell.execute_reply": "2022-03-14T09:39:04.552709Z",
     "shell.execute_reply.started": "2022-03-09T03:45:53.223249Z"
    },
    "papermill": {
     "duration": 24.750783,
     "end_time": "2022-03-14T09:39:04.553541",
     "exception": false,
     "start_time": "2022-03-14T09:38:39.802758",
     "status": "completed"
    },
    "tags": []
   },
   "outputs": [],
   "source": [
    "# item_features\n",
    "article_count = ItemHistoryEveryBlock(\"article_id\").fit(df)\n",
    "article_count.to_csv(\"article_count.csv\", index=False)\n",
    "\n",
    "article_sale = ItemHistorySumBlock(\"article_id\").fit(df)\n",
    "article_sale.to_csv(\"article_sale.csv\", index=False)"
   ]
  },
  {
   "cell_type": "code",
   "execution_count": null,
   "id": "5c1948f1",
   "metadata": {
    "papermill": {
     "duration": 11.95999,
     "end_time": "2022-03-14T09:39:28.427064",
     "exception": false,
     "start_time": "2022-03-14T09:39:16.467074",
     "status": "completed"
    },
    "tags": []
   },
   "outputs": [],
   "source": []
  }
 ],
 "metadata": {
  "kernelspec": {
   "display_name": "Python 3",
   "language": "python",
   "name": "python3"
  },
  "language_info": {
   "codemirror_mode": {
    "name": "ipython",
    "version": 3
   },
   "file_extension": ".py",
   "mimetype": "text/x-python",
   "name": "python",
   "nbconvert_exporter": "python",
   "pygments_lexer": "ipython3",
   "version": "3.7.12"
  },
  "papermill": {
   "default_parameters": {},
   "duration": 4183.653085,
   "end_time": "2022-03-14T09:39:42.682274",
   "environment_variables": {},
   "exception": null,
   "input_path": "__notebook__.ipynb",
   "output_path": "__notebook__.ipynb",
   "parameters": {},
   "start_time": "2022-03-14T08:29:59.029189",
   "version": "2.3.3"
  },
  "widgets": {
   "application/vnd.jupyter.widget-state+json": {
    "state": {
     "096136751ca74542b91cbda6c206453b": {
      "model_module": "@jupyter-widgets/controls",
      "model_module_version": "1.5.0",
      "model_name": "FloatProgressModel",
      "state": {
       "_dom_classes": [],
       "_model_module": "@jupyter-widgets/controls",
       "_model_module_version": "1.5.0",
       "_model_name": "FloatProgressModel",
       "_view_count": null,
       "_view_module": "@jupyter-widgets/controls",
       "_view_module_version": "1.5.0",
       "_view_name": "ProgressView",
       "bar_style": "success",
       "description": "",
       "description_tooltip": null,
       "layout": "IPY_MODEL_a6063a36fe3e4e769ac5f86ddd7c2c1a",
       "max": 5.0,
       "min": 0.0,
       "orientation": "horizontal",
       "style": "IPY_MODEL_addba9cf8e6b47f1bec7cb7bd658ce2a",
       "value": 5.0
      }
     },
     "0f25099690cf4f6d8e8c4de457bdf95c": {
      "model_module": "@jupyter-widgets/base",
      "model_module_version": "1.2.0",
      "model_name": "LayoutModel",
      "state": {
       "_model_module": "@jupyter-widgets/base",
       "_model_module_version": "1.2.0",
       "_model_name": "LayoutModel",
       "_view_count": null,
       "_view_module": "@jupyter-widgets/base",
       "_view_module_version": "1.2.0",
       "_view_name": "LayoutView",
       "align_content": null,
       "align_items": null,
       "align_self": null,
       "border": null,
       "bottom": null,
       "display": null,
       "flex": null,
       "flex_flow": null,
       "grid_area": null,
       "grid_auto_columns": null,
       "grid_auto_flow": null,
       "grid_auto_rows": null,
       "grid_column": null,
       "grid_gap": null,
       "grid_row": null,
       "grid_template_areas": null,
       "grid_template_columns": null,
       "grid_template_rows": null,
       "height": null,
       "justify_content": null,
       "justify_items": null,
       "left": null,
       "margin": null,
       "max_height": null,
       "max_width": null,
       "min_height": null,
       "min_width": null,
       "object_fit": null,
       "object_position": null,
       "order": null,
       "overflow": null,
       "overflow_x": null,
       "overflow_y": null,
       "padding": null,
       "right": null,
       "top": null,
       "visibility": null,
       "width": null
      }
     },
     "109b895d5df24a169cb98338ff44a25e": {
      "model_module": "@jupyter-widgets/controls",
      "model_module_version": "1.5.0",
      "model_name": "FloatProgressModel",
      "state": {
       "_dom_classes": [],
       "_model_module": "@jupyter-widgets/controls",
       "_model_module_version": "1.5.0",
       "_model_name": "FloatProgressModel",
       "_view_count": null,
       "_view_module": "@jupyter-widgets/controls",
       "_view_module_version": "1.5.0",
       "_view_name": "ProgressView",
       "bar_style": "success",
       "description": "",
       "description_tooltip": null,
       "layout": "IPY_MODEL_3f65736bc46d4dd4b6ebacdb97823137",
       "max": 5.0,
       "min": 0.0,
       "orientation": "horizontal",
       "style": "IPY_MODEL_350e8afdea2a4ca7ad74fec3eaf8231a",
       "value": 5.0
      }
     },
     "179f99c0a64e4f69896051acad3264ff": {
      "model_module": "@jupyter-widgets/controls",
      "model_module_version": "1.5.0",
      "model_name": "HTMLModel",
      "state": {
       "_dom_classes": [],
       "_model_module": "@jupyter-widgets/controls",
       "_model_module_version": "1.5.0",
       "_model_name": "HTMLModel",
       "_view_count": null,
       "_view_module": "@jupyter-widgets/controls",
       "_view_module_version": "1.5.0",
       "_view_name": "HTMLView",
       "description": "",
       "description_tooltip": null,
       "layout": "IPY_MODEL_acda874f05c346c18cc3397cd7c41c20",
       "placeholder": "​",
       "style": "IPY_MODEL_638f4e1fef7b4d10b6116523d330c585",
       "value": "100%"
      }
     },
     "350e8afdea2a4ca7ad74fec3eaf8231a": {
      "model_module": "@jupyter-widgets/controls",
      "model_module_version": "1.5.0",
      "model_name": "ProgressStyleModel",
      "state": {
       "_model_module": "@jupyter-widgets/controls",
       "_model_module_version": "1.5.0",
       "_model_name": "ProgressStyleModel",
       "_view_count": null,
       "_view_module": "@jupyter-widgets/base",
       "_view_module_version": "1.2.0",
       "_view_name": "StyleView",
       "bar_color": null,
       "description_width": ""
      }
     },
     "3c5e5a29429d44a591d30e4d13edef84": {
      "model_module": "@jupyter-widgets/controls",
      "model_module_version": "1.5.0",
      "model_name": "HTMLModel",
      "state": {
       "_dom_classes": [],
       "_model_module": "@jupyter-widgets/controls",
       "_model_module_version": "1.5.0",
       "_model_name": "HTMLModel",
       "_view_count": null,
       "_view_module": "@jupyter-widgets/controls",
       "_view_module_version": "1.5.0",
       "_view_name": "HTMLView",
       "description": "",
       "description_tooltip": null,
       "layout": "IPY_MODEL_a2098cc2999b4855899ca48b545b0054",
       "placeholder": "​",
       "style": "IPY_MODEL_3cbfc44aa71949debf7a3f5af06f9fb1",
       "value": " 5/5 [01:50&lt;00:00, 22.10s/it]"
      }
     },
     "3cbfc44aa71949debf7a3f5af06f9fb1": {
      "model_module": "@jupyter-widgets/controls",
      "model_module_version": "1.5.0",
      "model_name": "DescriptionStyleModel",
      "state": {
       "_model_module": "@jupyter-widgets/controls",
       "_model_module_version": "1.5.0",
       "_model_name": "DescriptionStyleModel",
       "_view_count": null,
       "_view_module": "@jupyter-widgets/base",
       "_view_module_version": "1.2.0",
       "_view_name": "StyleView",
       "description_width": ""
      }
     },
     "3eb0a05431514a3392da93cdcbd92aad": {
      "model_module": "@jupyter-widgets/controls",
      "model_module_version": "1.5.0",
      "model_name": "HBoxModel",
      "state": {
       "_dom_classes": [],
       "_model_module": "@jupyter-widgets/controls",
       "_model_module_version": "1.5.0",
       "_model_name": "HBoxModel",
       "_view_count": null,
       "_view_module": "@jupyter-widgets/controls",
       "_view_module_version": "1.5.0",
       "_view_name": "HBoxView",
       "box_style": "",
       "children": [
        "IPY_MODEL_179f99c0a64e4f69896051acad3264ff",
        "IPY_MODEL_096136751ca74542b91cbda6c206453b",
        "IPY_MODEL_61cd6c6fbafc42d08d8e2b49affcc3a9"
       ],
       "layout": "IPY_MODEL_0f25099690cf4f6d8e8c4de457bdf95c"
      }
     },
     "3f65736bc46d4dd4b6ebacdb97823137": {
      "model_module": "@jupyter-widgets/base",
      "model_module_version": "1.2.0",
      "model_name": "LayoutModel",
      "state": {
       "_model_module": "@jupyter-widgets/base",
       "_model_module_version": "1.2.0",
       "_model_name": "LayoutModel",
       "_view_count": null,
       "_view_module": "@jupyter-widgets/base",
       "_view_module_version": "1.2.0",
       "_view_name": "LayoutView",
       "align_content": null,
       "align_items": null,
       "align_self": null,
       "border": null,
       "bottom": null,
       "display": null,
       "flex": null,
       "flex_flow": null,
       "grid_area": null,
       "grid_auto_columns": null,
       "grid_auto_flow": null,
       "grid_auto_rows": null,
       "grid_column": null,
       "grid_gap": null,
       "grid_row": null,
       "grid_template_areas": null,
       "grid_template_columns": null,
       "grid_template_rows": null,
       "height": null,
       "justify_content": null,
       "justify_items": null,
       "left": null,
       "margin": null,
       "max_height": null,
       "max_width": null,
       "min_height": null,
       "min_width": null,
       "object_fit": null,
       "object_position": null,
       "order": null,
       "overflow": null,
       "overflow_x": null,
       "overflow_y": null,
       "padding": null,
       "right": null,
       "top": null,
       "visibility": null,
       "width": null
      }
     },
     "61cd6c6fbafc42d08d8e2b49affcc3a9": {
      "model_module": "@jupyter-widgets/controls",
      "model_module_version": "1.5.0",
      "model_name": "HTMLModel",
      "state": {
       "_dom_classes": [],
       "_model_module": "@jupyter-widgets/controls",
       "_model_module_version": "1.5.0",
       "_model_name": "HTMLModel",
       "_view_count": null,
       "_view_module": "@jupyter-widgets/controls",
       "_view_module_version": "1.5.0",
       "_view_name": "HTMLView",
       "description": "",
       "description_tooltip": null,
       "layout": "IPY_MODEL_cefdc57b6f554bc2a10d62a13f9700e6",
       "placeholder": "​",
       "style": "IPY_MODEL_8892829ef0b84228a2e524e35a67f724",
       "value": " 5/5 [01:49&lt;00:00, 21.99s/it]"
      }
     },
     "638f4e1fef7b4d10b6116523d330c585": {
      "model_module": "@jupyter-widgets/controls",
      "model_module_version": "1.5.0",
      "model_name": "DescriptionStyleModel",
      "state": {
       "_model_module": "@jupyter-widgets/controls",
       "_model_module_version": "1.5.0",
       "_model_name": "DescriptionStyleModel",
       "_view_count": null,
       "_view_module": "@jupyter-widgets/base",
       "_view_module_version": "1.2.0",
       "_view_name": "StyleView",
       "description_width": ""
      }
     },
     "8892829ef0b84228a2e524e35a67f724": {
      "model_module": "@jupyter-widgets/controls",
      "model_module_version": "1.5.0",
      "model_name": "DescriptionStyleModel",
      "state": {
       "_model_module": "@jupyter-widgets/controls",
       "_model_module_version": "1.5.0",
       "_model_name": "DescriptionStyleModel",
       "_view_count": null,
       "_view_module": "@jupyter-widgets/base",
       "_view_module_version": "1.2.0",
       "_view_name": "StyleView",
       "description_width": ""
      }
     },
     "a2098cc2999b4855899ca48b545b0054": {
      "model_module": "@jupyter-widgets/base",
      "model_module_version": "1.2.0",
      "model_name": "LayoutModel",
      "state": {
       "_model_module": "@jupyter-widgets/base",
       "_model_module_version": "1.2.0",
       "_model_name": "LayoutModel",
       "_view_count": null,
       "_view_module": "@jupyter-widgets/base",
       "_view_module_version": "1.2.0",
       "_view_name": "LayoutView",
       "align_content": null,
       "align_items": null,
       "align_self": null,
       "border": null,
       "bottom": null,
       "display": null,
       "flex": null,
       "flex_flow": null,
       "grid_area": null,
       "grid_auto_columns": null,
       "grid_auto_flow": null,
       "grid_auto_rows": null,
       "grid_column": null,
       "grid_gap": null,
       "grid_row": null,
       "grid_template_areas": null,
       "grid_template_columns": null,
       "grid_template_rows": null,
       "height": null,
       "justify_content": null,
       "justify_items": null,
       "left": null,
       "margin": null,
       "max_height": null,
       "max_width": null,
       "min_height": null,
       "min_width": null,
       "object_fit": null,
       "object_position": null,
       "order": null,
       "overflow": null,
       "overflow_x": null,
       "overflow_y": null,
       "padding": null,
       "right": null,
       "top": null,
       "visibility": null,
       "width": null
      }
     },
     "a6063a36fe3e4e769ac5f86ddd7c2c1a": {
      "model_module": "@jupyter-widgets/base",
      "model_module_version": "1.2.0",
      "model_name": "LayoutModel",
      "state": {
       "_model_module": "@jupyter-widgets/base",
       "_model_module_version": "1.2.0",
       "_model_name": "LayoutModel",
       "_view_count": null,
       "_view_module": "@jupyter-widgets/base",
       "_view_module_version": "1.2.0",
       "_view_name": "LayoutView",
       "align_content": null,
       "align_items": null,
       "align_self": null,
       "border": null,
       "bottom": null,
       "display": null,
       "flex": null,
       "flex_flow": null,
       "grid_area": null,
       "grid_auto_columns": null,
       "grid_auto_flow": null,
       "grid_auto_rows": null,
       "grid_column": null,
       "grid_gap": null,
       "grid_row": null,
       "grid_template_areas": null,
       "grid_template_columns": null,
       "grid_template_rows": null,
       "height": null,
       "justify_content": null,
       "justify_items": null,
       "left": null,
       "margin": null,
       "max_height": null,
       "max_width": null,
       "min_height": null,
       "min_width": null,
       "object_fit": null,
       "object_position": null,
       "order": null,
       "overflow": null,
       "overflow_x": null,
       "overflow_y": null,
       "padding": null,
       "right": null,
       "top": null,
       "visibility": null,
       "width": null
      }
     },
     "acda874f05c346c18cc3397cd7c41c20": {
      "model_module": "@jupyter-widgets/base",
      "model_module_version": "1.2.0",
      "model_name": "LayoutModel",
      "state": {
       "_model_module": "@jupyter-widgets/base",
       "_model_module_version": "1.2.0",
       "_model_name": "LayoutModel",
       "_view_count": null,
       "_view_module": "@jupyter-widgets/base",
       "_view_module_version": "1.2.0",
       "_view_name": "LayoutView",
       "align_content": null,
       "align_items": null,
       "align_self": null,
       "border": null,
       "bottom": null,
       "display": null,
       "flex": null,
       "flex_flow": null,
       "grid_area": null,
       "grid_auto_columns": null,
       "grid_auto_flow": null,
       "grid_auto_rows": null,
       "grid_column": null,
       "grid_gap": null,
       "grid_row": null,
       "grid_template_areas": null,
       "grid_template_columns": null,
       "grid_template_rows": null,
       "height": null,
       "justify_content": null,
       "justify_items": null,
       "left": null,
       "margin": null,
       "max_height": null,
       "max_width": null,
       "min_height": null,
       "min_width": null,
       "object_fit": null,
       "object_position": null,
       "order": null,
       "overflow": null,
       "overflow_x": null,
       "overflow_y": null,
       "padding": null,
       "right": null,
       "top": null,
       "visibility": null,
       "width": null
      }
     },
     "addba9cf8e6b47f1bec7cb7bd658ce2a": {
      "model_module": "@jupyter-widgets/controls",
      "model_module_version": "1.5.0",
      "model_name": "ProgressStyleModel",
      "state": {
       "_model_module": "@jupyter-widgets/controls",
       "_model_module_version": "1.5.0",
       "_model_name": "ProgressStyleModel",
       "_view_count": null,
       "_view_module": "@jupyter-widgets/base",
       "_view_module_version": "1.2.0",
       "_view_name": "StyleView",
       "bar_color": null,
       "description_width": ""
      }
     },
     "b61a522b08ee4455965f1403ef4a53b3": {
      "model_module": "@jupyter-widgets/base",
      "model_module_version": "1.2.0",
      "model_name": "LayoutModel",
      "state": {
       "_model_module": "@jupyter-widgets/base",
       "_model_module_version": "1.2.0",
       "_model_name": "LayoutModel",
       "_view_count": null,
       "_view_module": "@jupyter-widgets/base",
       "_view_module_version": "1.2.0",
       "_view_name": "LayoutView",
       "align_content": null,
       "align_items": null,
       "align_self": null,
       "border": null,
       "bottom": null,
       "display": null,
       "flex": null,
       "flex_flow": null,
       "grid_area": null,
       "grid_auto_columns": null,
       "grid_auto_flow": null,
       "grid_auto_rows": null,
       "grid_column": null,
       "grid_gap": null,
       "grid_row": null,
       "grid_template_areas": null,
       "grid_template_columns": null,
       "grid_template_rows": null,
       "height": null,
       "justify_content": null,
       "justify_items": null,
       "left": null,
       "margin": null,
       "max_height": null,
       "max_width": null,
       "min_height": null,
       "min_width": null,
       "object_fit": null,
       "object_position": null,
       "order": null,
       "overflow": null,
       "overflow_x": null,
       "overflow_y": null,
       "padding": null,
       "right": null,
       "top": null,
       "visibility": null,
       "width": null
      }
     },
     "ba01052464194555a461203041977b96": {
      "model_module": "@jupyter-widgets/controls",
      "model_module_version": "1.5.0",
      "model_name": "HBoxModel",
      "state": {
       "_dom_classes": [],
       "_model_module": "@jupyter-widgets/controls",
       "_model_module_version": "1.5.0",
       "_model_name": "HBoxModel",
       "_view_count": null,
       "_view_module": "@jupyter-widgets/controls",
       "_view_module_version": "1.5.0",
       "_view_name": "HBoxView",
       "box_style": "",
       "children": [
        "IPY_MODEL_f7b027fad26e4f9e9c31732e575adef3",
        "IPY_MODEL_109b895d5df24a169cb98338ff44a25e",
        "IPY_MODEL_3c5e5a29429d44a591d30e4d13edef84"
       ],
       "layout": "IPY_MODEL_d9dbf0a54c2d451b836db6d8d430c99d"
      }
     },
     "cefdc57b6f554bc2a10d62a13f9700e6": {
      "model_module": "@jupyter-widgets/base",
      "model_module_version": "1.2.0",
      "model_name": "LayoutModel",
      "state": {
       "_model_module": "@jupyter-widgets/base",
       "_model_module_version": "1.2.0",
       "_model_name": "LayoutModel",
       "_view_count": null,
       "_view_module": "@jupyter-widgets/base",
       "_view_module_version": "1.2.0",
       "_view_name": "LayoutView",
       "align_content": null,
       "align_items": null,
       "align_self": null,
       "border": null,
       "bottom": null,
       "display": null,
       "flex": null,
       "flex_flow": null,
       "grid_area": null,
       "grid_auto_columns": null,
       "grid_auto_flow": null,
       "grid_auto_rows": null,
       "grid_column": null,
       "grid_gap": null,
       "grid_row": null,
       "grid_template_areas": null,
       "grid_template_columns": null,
       "grid_template_rows": null,
       "height": null,
       "justify_content": null,
       "justify_items": null,
       "left": null,
       "margin": null,
       "max_height": null,
       "max_width": null,
       "min_height": null,
       "min_width": null,
       "object_fit": null,
       "object_position": null,
       "order": null,
       "overflow": null,
       "overflow_x": null,
       "overflow_y": null,
       "padding": null,
       "right": null,
       "top": null,
       "visibility": null,
       "width": null
      }
     },
     "d9dbf0a54c2d451b836db6d8d430c99d": {
      "model_module": "@jupyter-widgets/base",
      "model_module_version": "1.2.0",
      "model_name": "LayoutModel",
      "state": {
       "_model_module": "@jupyter-widgets/base",
       "_model_module_version": "1.2.0",
       "_model_name": "LayoutModel",
       "_view_count": null,
       "_view_module": "@jupyter-widgets/base",
       "_view_module_version": "1.2.0",
       "_view_name": "LayoutView",
       "align_content": null,
       "align_items": null,
       "align_self": null,
       "border": null,
       "bottom": null,
       "display": null,
       "flex": null,
       "flex_flow": null,
       "grid_area": null,
       "grid_auto_columns": null,
       "grid_auto_flow": null,
       "grid_auto_rows": null,
       "grid_column": null,
       "grid_gap": null,
       "grid_row": null,
       "grid_template_areas": null,
       "grid_template_columns": null,
       "grid_template_rows": null,
       "height": null,
       "justify_content": null,
       "justify_items": null,
       "left": null,
       "margin": null,
       "max_height": null,
       "max_width": null,
       "min_height": null,
       "min_width": null,
       "object_fit": null,
       "object_position": null,
       "order": null,
       "overflow": null,
       "overflow_x": null,
       "overflow_y": null,
       "padding": null,
       "right": null,
       "top": null,
       "visibility": null,
       "width": null
      }
     },
     "e57a296d65c54412abe0185d870ce7a4": {
      "model_module": "@jupyter-widgets/controls",
      "model_module_version": "1.5.0",
      "model_name": "DescriptionStyleModel",
      "state": {
       "_model_module": "@jupyter-widgets/controls",
       "_model_module_version": "1.5.0",
       "_model_name": "DescriptionStyleModel",
       "_view_count": null,
       "_view_module": "@jupyter-widgets/base",
       "_view_module_version": "1.2.0",
       "_view_name": "StyleView",
       "description_width": ""
      }
     },
     "f7b027fad26e4f9e9c31732e575adef3": {
      "model_module": "@jupyter-widgets/controls",
      "model_module_version": "1.5.0",
      "model_name": "HTMLModel",
      "state": {
       "_dom_classes": [],
       "_model_module": "@jupyter-widgets/controls",
       "_model_module_version": "1.5.0",
       "_model_name": "HTMLModel",
       "_view_count": null,
       "_view_module": "@jupyter-widgets/controls",
       "_view_module_version": "1.5.0",
       "_view_name": "HTMLView",
       "description": "",
       "description_tooltip": null,
       "layout": "IPY_MODEL_b61a522b08ee4455965f1403ef4a53b3",
       "placeholder": "​",
       "style": "IPY_MODEL_e57a296d65c54412abe0185d870ce7a4",
       "value": "100%"
      }
     }
    },
    "version_major": 2,
    "version_minor": 0
   }
  }
 },
 "nbformat": 4,
 "nbformat_minor": 5
}
