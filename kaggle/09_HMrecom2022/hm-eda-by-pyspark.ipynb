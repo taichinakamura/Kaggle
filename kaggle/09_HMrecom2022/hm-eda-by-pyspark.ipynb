{
 "cells": [
  {
   "cell_type": "markdown",
   "id": "1b2591cd",
   "metadata": {
    "papermill": {
     "duration": 0.010262,
     "end_time": "2022-02-23T08:53:21.108961",
     "exception": false,
     "start_time": "2022-02-23T08:53:21.098699",
     "status": "completed"
    },
    "tags": []
   },
   "source": [
    "- ref:https://www.kaggle.com/kaerunantoka/h-m-eda-w-pyspark"
   ]
  },
  {
   "cell_type": "code",
   "execution_count": 1,
   "id": "7191494c",
   "metadata": {
    "_cell_guid": "b1076dfc-b9ad-4769-8c92-a6c4dae69d19",
    "_uuid": "8f2839f25d086af736a60e9eeb907d3b93b6e0e5",
    "execution": {
     "iopub.execute_input": "2022-02-23T08:53:21.139066Z",
     "iopub.status.busy": "2022-02-23T08:53:21.138158Z",
     "iopub.status.idle": "2022-02-23T08:58:36.467445Z",
     "shell.execute_reply": "2022-02-23T08:58:36.466380Z",
     "shell.execute_reply.started": "2022-02-23T08:45:31.635012Z"
    },
    "papermill": {
     "duration": 315.34898,
     "end_time": "2022-02-23T08:58:36.467752",
     "exception": false,
     "start_time": "2022-02-23T08:53:21.118772",
     "status": "completed"
    },
    "tags": []
   },
   "outputs": [
    {
     "name": "stdout",
     "output_type": "stream",
     "text": [
      "\u001b[33mWARNING: Running pip as the 'root' user can result in broken permissions and conflicting behaviour with the system package manager. It is recommended to use a virtual environment instead: https://pip.pypa.io/warnings/venv\u001b[0m\r\n"
     ]
    }
   ],
   "source": [
    "!pip install pyspark > /dev/null"
   ]
  },
  {
   "cell_type": "code",
   "execution_count": 2,
   "id": "1a134a8b",
   "metadata": {
    "execution": {
     "iopub.execute_input": "2022-02-23T08:58:36.495827Z",
     "iopub.status.busy": "2022-02-23T08:58:36.494991Z",
     "iopub.status.idle": "2022-02-23T08:58:42.780857Z",
     "shell.execute_reply": "2022-02-23T08:58:42.779301Z",
     "shell.execute_reply.started": "2022-02-23T08:47:19.377121Z"
    },
    "papermill": {
     "duration": 6.303363,
     "end_time": "2022-02-23T08:58:42.781076",
     "exception": false,
     "start_time": "2022-02-23T08:58:36.477713",
     "status": "completed"
    },
    "tags": []
   },
   "outputs": [
    {
     "name": "stderr",
     "output_type": "stream",
     "text": [
      "WARNING: An illegal reflective access operation has occurred\n",
      "WARNING: Illegal reflective access by org.apache.spark.unsafe.Platform (file:/opt/conda/lib/python3.7/site-packages/pyspark/jars/spark-unsafe_2.12-3.2.1.jar) to constructor java.nio.DirectByteBuffer(long,int)\n",
      "WARNING: Please consider reporting this to the maintainers of org.apache.spark.unsafe.Platform\n",
      "WARNING: Use --illegal-access=warn to enable warnings of further illegal reflective access operations\n",
      "WARNING: All illegal access operations will be denied in a future release\n",
      "Using Spark's default log4j profile: org/apache/spark/log4j-defaults.properties\n",
      "Setting default log level to \"WARN\".\n",
      "To adjust logging level use sc.setLogLevel(newLevel). For SparkR, use setLogLevel(newLevel).\n",
      "22/02/23 08:58:39 WARN NativeCodeLoader: Unable to load native-hadoop library for your platform... using builtin-java classes where applicable\n"
     ]
    }
   ],
   "source": [
    "import pyspark\n",
    "from pyspark.sql import SparkSession\n",
    "\n",
    "spark = SparkSession.builder.appName('h-and-m-personalized-fashion-recommendations').getOrCreate()"
   ]
  },
  {
   "cell_type": "code",
   "execution_count": 3,
   "id": "06881181",
   "metadata": {
    "execution": {
     "iopub.execute_input": "2022-02-23T08:58:42.815925Z",
     "iopub.status.busy": "2022-02-23T08:58:42.814815Z",
     "iopub.status.idle": "2022-02-23T08:58:42.816990Z",
     "shell.execute_reply": "2022-02-23T08:58:42.817470Z",
     "shell.execute_reply.started": "2022-02-23T08:47:43.057677Z"
    },
    "papermill": {
     "duration": 0.019444,
     "end_time": "2022-02-23T08:58:42.817635",
     "exception": false,
     "start_time": "2022-02-23T08:58:42.798191",
     "status": "completed"
    },
    "tags": []
   },
   "outputs": [],
   "source": [
    "class CFG:\n",
    "    TRANSACTION_PATH = '../input/h-and-m-personalized-fashion-recommendations/transactions_train.csv'\n",
    "    ARTICLE_PATH = '../input/h-and-m-personalized-fashion-recommendations/articles.csv'\n",
    "    CUSTOMER_PATH = '../input/h-and-m-personalized-fashion-recommendations/customers.csv'\n",
    "    SAMPLE_PATH = '../input/h-and-m-personalized-fashion-recommendations/sample_submission.csv'\n",
    "    IMAGE_PATH = '../input/h-and-m-personalized-fashion-recommendations/images'"
   ]
  },
  {
   "cell_type": "markdown",
   "id": "1b2d2546",
   "metadata": {
    "papermill": {
     "duration": 0.011233,
     "end_time": "2022-02-23T08:58:42.840221",
     "exception": false,
     "start_time": "2022-02-23T08:58:42.828988",
     "status": "completed"
    },
    "tags": []
   },
   "source": [
    "# log data"
   ]
  },
  {
   "cell_type": "code",
   "execution_count": 4,
   "id": "ce6bfe9b",
   "metadata": {
    "execution": {
     "iopub.execute_input": "2022-02-23T08:58:42.866322Z",
     "iopub.status.busy": "2022-02-23T08:58:42.865664Z",
     "iopub.status.idle": "2022-02-23T08:58:48.574571Z",
     "shell.execute_reply": "2022-02-23T08:58:48.573122Z",
     "shell.execute_reply.started": "2022-02-23T08:47:55.016208Z"
    },
    "papermill": {
     "duration": 5.723281,
     "end_time": "2022-02-23T08:58:48.574810",
     "exception": false,
     "start_time": "2022-02-23T08:58:42.851529",
     "status": "completed"
    },
    "tags": []
   },
   "outputs": [
    {
     "name": "stderr",
     "output_type": "stream",
     "text": [
      "                                                                                \r"
     ]
    }
   ],
   "source": [
    "train = spark.read.option('header','true').csv(CFG.TRANSACTION_PATH)"
   ]
  },
  {
   "cell_type": "code",
   "execution_count": 5,
   "id": "838064a9",
   "metadata": {
    "execution": {
     "iopub.execute_input": "2022-02-23T08:58:48.615839Z",
     "iopub.status.busy": "2022-02-23T08:58:48.614721Z",
     "iopub.status.idle": "2022-02-23T08:59:05.605530Z",
     "shell.execute_reply": "2022-02-23T08:59:05.606810Z",
     "shell.execute_reply.started": "2022-02-23T08:48:07.301891Z"
    },
    "papermill": {
     "duration": 17.01473,
     "end_time": "2022-02-23T08:59:05.607059",
     "exception": false,
     "start_time": "2022-02-23T08:58:48.592329",
     "status": "completed"
    },
    "tags": []
   },
   "outputs": [
    {
     "name": "stderr",
     "output_type": "stream",
     "text": [
      "                                                                                \r"
     ]
    },
    {
     "data": {
      "text/plain": [
       "31788324"
      ]
     },
     "execution_count": 5,
     "metadata": {},
     "output_type": "execute_result"
    }
   ],
   "source": [
    "train.count()"
   ]
  },
  {
   "cell_type": "code",
   "execution_count": 6,
   "id": "d515c940",
   "metadata": {
    "execution": {
     "iopub.execute_input": "2022-02-23T08:59:05.664175Z",
     "iopub.status.busy": "2022-02-23T08:59:05.663205Z",
     "iopub.status.idle": "2022-02-23T08:59:05.903963Z",
     "shell.execute_reply": "2022-02-23T08:59:05.903356Z",
     "shell.execute_reply.started": "2022-02-23T08:49:15.330468Z"
    },
    "papermill": {
     "duration": 0.267754,
     "end_time": "2022-02-23T08:59:05.904123",
     "exception": false,
     "start_time": "2022-02-23T08:59:05.636369",
     "status": "completed"
    },
    "tags": []
   },
   "outputs": [
    {
     "name": "stdout",
     "output_type": "stream",
     "text": [
      "+----------+----------------------------------------------------------------+----------+--------------------+----------------+\n",
      "|t_dat     |customer_id                                                     |article_id|price               |sales_channel_id|\n",
      "+----------+----------------------------------------------------------------+----------+--------------------+----------------+\n",
      "|2018-09-20|000058a12d5b43e67d225668fa1f8d618c13dc232df0cad8ffe7ad4a1091e318|0663713001|0.050830508474576264|2               |\n",
      "|2018-09-20|000058a12d5b43e67d225668fa1f8d618c13dc232df0cad8ffe7ad4a1091e318|0541518023|0.03049152542372881 |2               |\n",
      "|2018-09-20|00007d2de826758b65a93dd24ce629ed66842531df6699338c5570910a014cc2|0505221004|0.01523728813559322 |2               |\n",
      "|2018-09-20|00007d2de826758b65a93dd24ce629ed66842531df6699338c5570910a014cc2|0685687003|0.016932203389830508|2               |\n",
      "|2018-09-20|00007d2de826758b65a93dd24ce629ed66842531df6699338c5570910a014cc2|0685687004|0.016932203389830508|2               |\n",
      "+----------+----------------------------------------------------------------+----------+--------------------+----------------+\n",
      "only showing top 5 rows\n",
      "\n"
     ]
    }
   ],
   "source": [
    "train.show(5, False)"
   ]
  },
  {
   "cell_type": "code",
   "execution_count": null,
   "id": "08d52c8f",
   "metadata": {
    "papermill": {
     "duration": 0.015264,
     "end_time": "2022-02-23T08:59:05.934577",
     "exception": false,
     "start_time": "2022-02-23T08:59:05.919313",
     "status": "completed"
    },
    "tags": []
   },
   "outputs": [],
   "source": []
  }
 ],
 "metadata": {
  "kernelspec": {
   "display_name": "Python 3",
   "language": "python",
   "name": "python3"
  },
  "language_info": {
   "codemirror_mode": {
    "name": "ipython",
    "version": 3
   },
   "file_extension": ".py",
   "mimetype": "text/x-python",
   "name": "python",
   "nbconvert_exporter": "python",
   "pygments_lexer": "ipython3",
   "version": "3.7.12"
  },
  "papermill": {
   "default_parameters": {},
   "duration": 356.4282,
   "end_time": "2022-02-23T08:59:06.763671",
   "environment_variables": {},
   "exception": null,
   "input_path": "__notebook__.ipynb",
   "output_path": "__notebook__.ipynb",
   "parameters": {},
   "start_time": "2022-02-23T08:53:10.335471",
   "version": "2.3.3"
  }
 },
 "nbformat": 4,
 "nbformat_minor": 5
}
