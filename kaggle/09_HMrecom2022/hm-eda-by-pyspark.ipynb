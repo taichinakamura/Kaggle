{
 "cells": [
  {
   "cell_type": "markdown",
   "id": "3ed7a7b9",
   "metadata": {
    "papermill": {
     "duration": 0.034471,
     "end_time": "2022-03-26T03:52:56.010611",
     "exception": false,
     "start_time": "2022-03-26T03:52:55.976140",
     "status": "completed"
    },
    "tags": []
   },
   "source": [
    "- ref:https://www.kaggle.com/kaerunantoka/h-m-eda-w-pyspark\n",
    "- ref: https://qiita.com/t-yotsu/items/4cabd1ae5406cfd7d741\n",
    "- ref: https://qiita.com/taka4sato/items/4ab2cf9e941599f1c0ca"
   ]
  },
  {
   "cell_type": "code",
   "execution_count": 1,
   "id": "e913816b",
   "metadata": {
    "_cell_guid": "b1076dfc-b9ad-4769-8c92-a6c4dae69d19",
    "_uuid": "8f2839f25d086af736a60e9eeb907d3b93b6e0e5",
    "execution": {
     "iopub.execute_input": "2022-03-26T03:52:56.082485Z",
     "iopub.status.busy": "2022-03-26T03:52:56.080730Z",
     "iopub.status.idle": "2022-03-26T03:53:42.961442Z",
     "shell.execute_reply": "2022-03-26T03:53:42.960470Z",
     "shell.execute_reply.started": "2022-03-26T01:57:52.634879Z"
    },
    "papermill": {
     "duration": 46.918151,
     "end_time": "2022-03-26T03:53:42.961653",
     "exception": false,
     "start_time": "2022-03-26T03:52:56.043502",
     "status": "completed"
    },
    "tags": []
   },
   "outputs": [
    {
     "name": "stdout",
     "output_type": "stream",
     "text": [
      "\u001b[33mWARNING: Running pip as the 'root' user can result in broken permissions and conflicting behaviour with the system package manager. It is recommended to use a virtual environment instead: https://pip.pypa.io/warnings/venv\u001b[0m\r\n"
     ]
    }
   ],
   "source": [
    "!pip install pyspark > /dev/null"
   ]
  },
  {
   "cell_type": "code",
   "execution_count": 2,
   "id": "ac07a06d",
   "metadata": {
    "execution": {
     "iopub.execute_input": "2022-03-26T03:53:43.034839Z",
     "iopub.status.busy": "2022-03-26T03:53:43.034109Z",
     "iopub.status.idle": "2022-03-26T03:53:49.249897Z",
     "shell.execute_reply": "2022-03-26T03:53:49.248670Z",
     "shell.execute_reply.started": "2022-03-26T01:58:42.216382Z"
    },
    "papermill": {
     "duration": 6.255095,
     "end_time": "2022-03-26T03:53:49.250138",
     "exception": false,
     "start_time": "2022-03-26T03:53:42.995043",
     "status": "completed"
    },
    "tags": []
   },
   "outputs": [
    {
     "name": "stderr",
     "output_type": "stream",
     "text": [
      "WARNING: An illegal reflective access operation has occurred\n",
      "WARNING: Illegal reflective access by org.apache.spark.unsafe.Platform (file:/opt/conda/lib/python3.7/site-packages/pyspark/jars/spark-unsafe_2.12-3.2.1.jar) to constructor java.nio.DirectByteBuffer(long,int)\n",
      "WARNING: Please consider reporting this to the maintainers of org.apache.spark.unsafe.Platform\n",
      "WARNING: Use --illegal-access=warn to enable warnings of further illegal reflective access operations\n",
      "WARNING: All illegal access operations will be denied in a future release\n",
      "Using Spark's default log4j profile: org/apache/spark/log4j-defaults.properties\n",
      "Setting default log level to \"WARN\".\n",
      "To adjust logging level use sc.setLogLevel(newLevel). For SparkR, use setLogLevel(newLevel).\n",
      "22/03/26 03:53:45 WARN NativeCodeLoader: Unable to load native-hadoop library for your platform... using builtin-java classes where applicable\n"
     ]
    }
   ],
   "source": [
    "import pyspark\n",
    "from pyspark.sql import SparkSession, SQLContext, Row\n",
    "from pyspark.sql.window import Window\n",
    "\n",
    "import pyspark.sql.functions as F \n",
    "import warnings\n",
    "warnings.filterwarnings('ignore')\n",
    "\n",
    "spark = SparkSession.builder.appName('h-and-m-personalized-fashion-recommendations').getOrCreate()"
   ]
  },
  {
   "cell_type": "code",
   "execution_count": 3,
   "id": "e445bec3",
   "metadata": {
    "execution": {
     "iopub.execute_input": "2022-03-26T03:53:49.333510Z",
     "iopub.status.busy": "2022-03-26T03:53:49.332843Z",
     "iopub.status.idle": "2022-03-26T03:53:49.335054Z",
     "shell.execute_reply": "2022-03-26T03:53:49.335661Z",
     "shell.execute_reply.started": "2022-03-26T01:58:49.256901Z"
    },
    "papermill": {
     "duration": 0.04483,
     "end_time": "2022-03-26T03:53:49.335839",
     "exception": false,
     "start_time": "2022-03-26T03:53:49.291009",
     "status": "completed"
    },
    "tags": []
   },
   "outputs": [],
   "source": [
    "class CFG:\n",
    "    TRANSACTION_PATH = '../input/h-and-m-personalized-fashion-recommendations/transactions_train.csv'\n",
    "    ARTICLE_PATH = '../input/h-and-m-personalized-fashion-recommendations/articles.csv'\n",
    "    CUSTOMER_PATH = '../input/h-and-m-personalized-fashion-recommendations/customers.csv'\n",
    "    SAMPLE_PATH = '../input/h-and-m-personalized-fashion-recommendations/sample_submission.csv'\n",
    "    IMAGE_PATH = '../input/h-and-m-personalized-fashion-recommendations/images'"
   ]
  },
  {
   "cell_type": "markdown",
   "id": "6aaf8521",
   "metadata": {
    "papermill": {
     "duration": 0.034313,
     "end_time": "2022-03-26T03:53:49.404645",
     "exception": false,
     "start_time": "2022-03-26T03:53:49.370332",
     "status": "completed"
    },
    "tags": []
   },
   "source": [
    "# log data"
   ]
  },
  {
   "cell_type": "code",
   "execution_count": 4,
   "id": "20023d2e",
   "metadata": {
    "execution": {
     "iopub.execute_input": "2022-03-26T03:53:49.478817Z",
     "iopub.status.busy": "2022-03-26T03:53:49.478088Z",
     "iopub.status.idle": "2022-03-26T03:53:55.139899Z",
     "shell.execute_reply": "2022-03-26T03:53:55.138751Z",
     "shell.execute_reply.started": "2022-03-26T01:58:49.273645Z"
    },
    "papermill": {
     "duration": 5.699438,
     "end_time": "2022-03-26T03:53:55.140078",
     "exception": false,
     "start_time": "2022-03-26T03:53:49.440640",
     "status": "completed"
    },
    "tags": []
   },
   "outputs": [
    {
     "name": "stderr",
     "output_type": "stream",
     "text": [
      "                                                                                \r"
     ]
    }
   ],
   "source": [
    "train = spark.read.option('header','true').csv(CFG.TRANSACTION_PATH)"
   ]
  },
  {
   "cell_type": "code",
   "execution_count": 5,
   "id": "fc502278",
   "metadata": {
    "execution": {
     "iopub.execute_input": "2022-03-26T03:53:55.447290Z",
     "iopub.status.busy": "2022-03-26T03:53:55.445454Z",
     "iopub.status.idle": "2022-03-26T03:54:10.937203Z",
     "shell.execute_reply": "2022-03-26T03:54:10.938626Z",
     "shell.execute_reply.started": "2022-03-26T01:58:55.256339Z"
    },
    "papermill": {
     "duration": 15.759164,
     "end_time": "2022-03-26T03:54:10.938898",
     "exception": false,
     "start_time": "2022-03-26T03:53:55.179734",
     "status": "completed"
    },
    "tags": []
   },
   "outputs": [
    {
     "name": "stderr",
     "output_type": "stream",
     "text": [
      "                                                                                \r"
     ]
    },
    {
     "data": {
      "text/plain": [
       "31788324"
      ]
     },
     "execution_count": 5,
     "metadata": {},
     "output_type": "execute_result"
    }
   ],
   "source": [
    "train.count()"
   ]
  },
  {
   "cell_type": "code",
   "execution_count": 6,
   "id": "629e49bc",
   "metadata": {
    "execution": {
     "iopub.execute_input": "2022-03-26T03:54:11.033666Z",
     "iopub.status.busy": "2022-03-26T03:54:11.032979Z",
     "iopub.status.idle": "2022-03-26T03:54:11.047815Z",
     "shell.execute_reply": "2022-03-26T03:54:11.049316Z",
     "shell.execute_reply.started": "2022-03-26T01:59:12.592793Z"
    },
    "papermill": {
     "duration": 0.059172,
     "end_time": "2022-03-26T03:54:11.049785",
     "exception": false,
     "start_time": "2022-03-26T03:54:10.990613",
     "status": "completed"
    },
    "tags": []
   },
   "outputs": [
    {
     "name": "stdout",
     "output_type": "stream",
     "text": [
      "root\n",
      " |-- t_dat: string (nullable = true)\n",
      " |-- customer_id: string (nullable = true)\n",
      " |-- article_id: string (nullable = true)\n",
      " |-- price: string (nullable = true)\n",
      " |-- sales_channel_id: string (nullable = true)\n",
      "\n"
     ]
    }
   ],
   "source": [
    "train.printSchema()"
   ]
  },
  {
   "cell_type": "code",
   "execution_count": 7,
   "id": "b20dcab2",
   "metadata": {
    "execution": {
     "iopub.execute_input": "2022-03-26T03:54:11.154388Z",
     "iopub.status.busy": "2022-03-26T03:54:11.153726Z",
     "iopub.status.idle": "2022-03-26T03:54:38.873248Z",
     "shell.execute_reply": "2022-03-26T03:54:38.874189Z",
     "shell.execute_reply.started": "2022-03-26T01:59:12.616271Z"
    },
    "papermill": {
     "duration": 27.762535,
     "end_time": "2022-03-26T03:54:38.874474",
     "exception": false,
     "start_time": "2022-03-26T03:54:11.111939",
     "status": "completed"
    },
    "tags": []
   },
   "outputs": [
    {
     "name": "stderr",
     "output_type": "stream",
     "text": [
      "[Stage 4:====================================================>    (24 + 2) / 26]\r"
     ]
    },
    {
     "name": "stdout",
     "output_type": "stream",
     "text": [
      "+----------------+\n",
      "|sales_channel_id|\n",
      "+----------------+\n",
      "|               1|\n",
      "|               2|\n",
      "+----------------+\n",
      "\n"
     ]
    },
    {
     "name": "stderr",
     "output_type": "stream",
     "text": [
      "                                                                                \r"
     ]
    }
   ],
   "source": [
    "train.select('sales_channel_id').distinct().show(5)"
   ]
  },
  {
   "cell_type": "code",
   "execution_count": 8,
   "id": "318c91cf",
   "metadata": {
    "execution": {
     "iopub.execute_input": "2022-03-26T03:54:39.026319Z",
     "iopub.status.busy": "2022-03-26T03:54:39.025231Z",
     "iopub.status.idle": "2022-03-26T03:55:07.342385Z",
     "shell.execute_reply": "2022-03-26T03:55:07.341576Z",
     "shell.execute_reply.started": "2022-03-26T02:05:33.873670Z"
    },
    "papermill": {
     "duration": 28.394852,
     "end_time": "2022-03-26T03:55:07.342637",
     "exception": false,
     "start_time": "2022-03-26T03:54:38.947785",
     "status": "completed"
    },
    "tags": []
   },
   "outputs": [
    {
     "name": "stderr",
     "output_type": "stream",
     "text": [
      "[Stage 7:======================================================>  (25 + 1) / 26]\r"
     ]
    },
    {
     "name": "stdout",
     "output_type": "stream",
     "text": [
      "+----------------+--------+\n",
      "|sales_channel_id|   count|\n",
      "+----------------+--------+\n",
      "|               2|22379862|\n",
      "|               1| 9408462|\n",
      "+----------------+--------+\n",
      "\n"
     ]
    },
    {
     "name": "stderr",
     "output_type": "stream",
     "text": [
      "                                                                                \r"
     ]
    }
   ],
   "source": [
    "train.groupby('sales_channel_id').count().sort(\"count\", ascending=False).show(5)"
   ]
  },
  {
   "cell_type": "code",
   "execution_count": 9,
   "id": "57608dc6",
   "metadata": {
    "execution": {
     "iopub.execute_input": "2022-03-26T03:55:07.448679Z",
     "iopub.status.busy": "2022-03-26T03:55:07.447596Z",
     "iopub.status.idle": "2022-03-26T03:55:07.936154Z",
     "shell.execute_reply": "2022-03-26T03:55:07.935171Z",
     "shell.execute_reply.started": "2022-03-26T01:59:38.929688Z"
    },
    "papermill": {
     "duration": 0.542735,
     "end_time": "2022-03-26T03:55:07.936358",
     "exception": false,
     "start_time": "2022-03-26T03:55:07.393623",
     "status": "completed"
    },
    "tags": []
   },
   "outputs": [
    {
     "name": "stdout",
     "output_type": "stream",
     "text": [
      "+----------+----------------------------------------------------------------+----------+--------------------+----------------+\n",
      "|t_dat     |customer_id                                                     |article_id|price               |sales_channel_id|\n",
      "+----------+----------------------------------------------------------------+----------+--------------------+----------------+\n",
      "|2018-09-20|00083cda041544b2fbb0e0d2905ad17da7cf1007526fb4c73235dccbbc132280|0688873012|0.03049152542372881 |1               |\n",
      "|2018-09-20|00083cda041544b2fbb0e0d2905ad17da7cf1007526fb4c73235dccbbc132280|0501323011|0.053372881355932204|1               |\n",
      "|2018-09-20|00083cda041544b2fbb0e0d2905ad17da7cf1007526fb4c73235dccbbc132280|0688873020|0.03049152542372881 |1               |\n",
      "|2018-09-20|00083cda041544b2fbb0e0d2905ad17da7cf1007526fb4c73235dccbbc132280|0688873011|0.03049152542372881 |1               |\n",
      "|2018-09-20|001127bffdda108579e6cb16080440e89bf1250a776c6e55f56e35e9ee029a8d|0397068015|0.033881355932203386|1               |\n",
      "+----------+----------------------------------------------------------------+----------+--------------------+----------------+\n",
      "only showing top 5 rows\n",
      "\n"
     ]
    }
   ],
   "source": [
    "train.registerTempTable(\"train_table\") #dataframeにsqlテーブル名を付与\n",
    "sqlContext = SQLContext(spark) #sparksqlを利用するには、sparkcontextだけでなくSQLContextも必要\n",
    "\n",
    "sqlContext.sql(\" SELECT * FROM train_table where sales_channel_id == 1 \").show(5, False)"
   ]
  },
  {
   "cell_type": "code",
   "execution_count": 10,
   "id": "641830c9",
   "metadata": {
    "execution": {
     "iopub.execute_input": "2022-03-26T03:55:08.060347Z",
     "iopub.status.busy": "2022-03-26T03:55:08.059241Z",
     "iopub.status.idle": "2022-03-26T03:55:33.402963Z",
     "shell.execute_reply": "2022-03-26T03:55:33.401929Z",
     "shell.execute_reply.started": "2022-03-26T03:16:16.277882Z"
    },
    "papermill": {
     "duration": 25.399602,
     "end_time": "2022-03-26T03:55:33.403208",
     "exception": false,
     "start_time": "2022-03-26T03:55:08.003606",
     "status": "completed"
    },
    "tags": []
   },
   "outputs": [
    {
     "name": "stderr",
     "output_type": "stream",
     "text": [
      "                                                                                \r"
     ]
    },
    {
     "data": {
      "text/plain": [
       "484944"
      ]
     },
     "execution_count": 10,
     "metadata": {},
     "output_type": "execute_result"
    }
   ],
   "source": [
    "last2month_user = train.filter(train.t_dat > \"2020-07-01\").select(\"customer_id\").distinct()\n",
    "last2month_user.count()"
   ]
  },
  {
   "cell_type": "code",
   "execution_count": 11,
   "id": "fb3d245d",
   "metadata": {
    "execution": {
     "iopub.execute_input": "2022-03-26T03:55:33.543649Z",
     "iopub.status.busy": "2022-03-26T03:55:33.542638Z",
     "iopub.status.idle": "2022-03-26T03:56:34.682290Z",
     "shell.execute_reply": "2022-03-26T03:56:34.683171Z",
     "shell.execute_reply.started": "2022-03-26T03:35:19.928360Z"
    },
    "papermill": {
     "duration": 61.198837,
     "end_time": "2022-03-26T03:56:34.683446",
     "exception": false,
     "start_time": "2022-03-26T03:55:33.484609",
     "status": "completed"
    },
    "tags": []
   },
   "outputs": [
    {
     "name": "stderr",
     "output_type": "stream",
     "text": [
      "                                                                                \r"
     ]
    },
    {
     "data": {
      "text/plain": [
       "876561"
      ]
     },
     "execution_count": 11,
     "metadata": {},
     "output_type": "execute_result"
    }
   ],
   "source": [
    "past_user = train.filter(train.t_dat <= \"2020-06-30\").select(\"customer_id\").distinct()\n",
    "past_user = past_user.join(last2month_user, past_user.customer_id == last2month_user.customer_id, \"leftanti\")\n",
    "past_user.count()"
   ]
  },
  {
   "cell_type": "code",
   "execution_count": 12,
   "id": "45791816",
   "metadata": {
    "execution": {
     "iopub.execute_input": "2022-03-26T03:56:34.826785Z",
     "iopub.status.busy": "2022-03-26T03:56:34.826046Z",
     "iopub.status.idle": "2022-03-26T03:57:29.579018Z",
     "shell.execute_reply": "2022-03-26T03:57:29.578445Z",
     "shell.execute_reply.started": "2022-03-26T03:36:34.257021Z"
    },
    "papermill": {
     "duration": 54.824752,
     "end_time": "2022-03-26T03:57:29.579159",
     "exception": false,
     "start_time": "2022-03-26T03:56:34.754407",
     "status": "completed"
    },
    "tags": []
   },
   "outputs": [
    {
     "name": "stderr",
     "output_type": "stream",
     "text": [
      "[Stage 27:=====================================================>  (25 + 1) / 26]\r"
     ]
    },
    {
     "name": "stdout",
     "output_type": "stream",
     "text": [
      "+--------------------+\n",
      "|         customer_id|\n",
      "+--------------------+\n",
      "|000064249685c1155...|\n",
      "|0001ab2ebc1bb9a21...|\n",
      "|000226b9ea8101924...|\n",
      "|000253f6914890557...|\n",
      "|0002697f519fce0a4...|\n",
      "|00028f80bf6da2c28...|\n",
      "|0003bf22bd16afdff...|\n",
      "|0003e56a4332b2503...|\n",
      "|0003e9bbb9faf3937...|\n",
      "|000406f7566f4c298...|\n",
      "|00048f2f68760664d...|\n",
      "|0004ec078693c417c...|\n",
      "|00053308738e0d6bc...|\n",
      "|00058bbdde20e5d34...|\n",
      "|00059eadf61683b9b...|\n",
      "|0005baed366933727...|\n",
      "|0005c68366e795568...|\n",
      "|0005f8253fe3d050a...|\n",
      "|000608ab13228c9d4...|\n",
      "|000775da04900bb53...|\n",
      "+--------------------+\n",
      "only showing top 20 rows\n",
      "\n"
     ]
    },
    {
     "name": "stderr",
     "output_type": "stream",
     "text": [
      "                                                                                \r"
     ]
    }
   ],
   "source": [
    "past_user.show()"
   ]
  },
  {
   "cell_type": "code",
   "execution_count": 13,
   "id": "8527741b",
   "metadata": {
    "execution": {
     "iopub.execute_input": "2022-03-26T03:57:29.740766Z",
     "iopub.status.busy": "2022-03-26T03:57:29.739708Z",
     "iopub.status.idle": "2022-03-26T03:57:29.765754Z",
     "shell.execute_reply": "2022-03-26T03:57:29.764872Z",
     "shell.execute_reply.started": "2022-03-26T03:50:12.691636Z"
    },
    "papermill": {
     "duration": 0.108704,
     "end_time": "2022-03-26T03:57:29.765903",
     "exception": false,
     "start_time": "2022-03-26T03:57:29.657199",
     "status": "completed"
    },
    "tags": []
   },
   "outputs": [],
   "source": [
    "train_past_user = train.join(past_user, train.customer_id == past_user.customer_id, \"inner\").drop(past_user.customer_id)"
   ]
  },
  {
   "cell_type": "code",
   "execution_count": 14,
   "id": "7fa41388",
   "metadata": {
    "execution": {
     "iopub.execute_input": "2022-03-26T03:57:29.941798Z",
     "iopub.status.busy": "2022-03-26T03:57:29.939765Z",
     "iopub.status.idle": "2022-03-26T03:59:16.851846Z",
     "shell.execute_reply": "2022-03-26T03:59:16.852847Z",
     "shell.execute_reply.started": "2022-03-26T03:50:14.631077Z"
    },
    "papermill": {
     "duration": 107.010035,
     "end_time": "2022-03-26T03:59:16.853373",
     "exception": false,
     "start_time": "2022-03-26T03:57:29.843338",
     "status": "completed"
    },
    "tags": []
   },
   "outputs": [
    {
     "name": "stderr",
     "output_type": "stream",
     "text": [
      "[Stage 37:>                                                         (0 + 1) / 1]\r"
     ]
    },
    {
     "name": "stdout",
     "output_type": "stream",
     "text": [
      "+----------+----------+--------------------+----------------+----------------------------------------------------------------+\n",
      "|t_dat     |article_id|price               |sales_channel_id|customer_id                                                     |\n",
      "+----------+----------+--------------------+----------------+----------------------------------------------------------------+\n",
      "|2019-10-02|0738133005|0.016932203389830508|2               |000064249685c11552da43ef22a5030f35a147f723d5b02ddd9fd22452b1f5a6|\n",
      "|2019-10-02|0680265002|0.042355932203389825|2               |000064249685c11552da43ef22a5030f35a147f723d5b02ddd9fd22452b1f5a6|\n",
      "|2019-10-02|0740962001|0.042355932203389825|2               |000064249685c11552da43ef22a5030f35a147f723d5b02ddd9fd22452b1f5a6|\n",
      "|2019-01-25|0682520002|0.024389830508474576|1               |0003e56a4332b2503e34640be92031ad48f1280ee6e3a7f6b7b94664383facdc|\n",
      "|2018-09-29|0587026013|0.040661016949152536|1               |00048f2f68760664d2d0fa1e7fbfe083f05287f342484c29a13661772507ee6b|\n",
      "+----------+----------+--------------------+----------------+----------------------------------------------------------------+\n",
      "only showing top 5 rows\n",
      "\n"
     ]
    },
    {
     "name": "stderr",
     "output_type": "stream",
     "text": [
      "                                                                                \r"
     ]
    }
   ],
   "source": [
    "train_past_user.show(5, False)"
   ]
  },
  {
   "cell_type": "code",
   "execution_count": 15,
   "id": "7017331d",
   "metadata": {
    "execution": {
     "iopub.execute_input": "2022-03-26T03:59:17.068350Z",
     "iopub.status.busy": "2022-03-26T03:59:17.067601Z",
     "iopub.status.idle": "2022-03-26T03:59:54.058776Z",
     "shell.execute_reply": "2022-03-26T03:59:54.057761Z",
     "shell.execute_reply.started": "2022-03-26T01:59:39.636796Z"
    },
    "papermill": {
     "duration": 37.09716,
     "end_time": "2022-03-26T03:59:54.058981",
     "exception": false,
     "start_time": "2022-03-26T03:59:16.961821",
     "status": "completed"
    },
    "tags": []
   },
   "outputs": [
    {
     "name": "stderr",
     "output_type": "stream",
     "text": [
      "[Stage 40:=================================>                        (4 + 3) / 7]\r"
     ]
    },
    {
     "name": "stdout",
     "output_type": "stream",
     "text": [
      "+--------------------+-----+\n",
      "|         customer_id|count|\n",
      "+--------------------+-----+\n",
      "|be1981ab818cf4ef6...| 1895|\n",
      "|b4db5e5259234574e...| 1441|\n",
      "|49beaacac0c7801c2...| 1364|\n",
      "|a65f77281a528bf5c...| 1361|\n",
      "|cd04ec2726dd58a8c...| 1237|\n",
      "+--------------------+-----+\n",
      "only showing top 5 rows\n",
      "\n"
     ]
    },
    {
     "name": "stderr",
     "output_type": "stream",
     "text": [
      "                                                                                \r"
     ]
    }
   ],
   "source": [
    "train.groupBy(\"customer_id\").count().sort(\"count\", ascending=False).show(5)"
   ]
  },
  {
   "cell_type": "code",
   "execution_count": 16,
   "id": "524128a9",
   "metadata": {
    "execution": {
     "iopub.execute_input": "2022-03-26T03:59:54.267952Z",
     "iopub.status.busy": "2022-03-26T03:59:54.267142Z",
     "iopub.status.idle": "2022-03-26T04:00:22.021860Z",
     "shell.execute_reply": "2022-03-26T04:00:22.021077Z",
     "shell.execute_reply.started": "2022-03-26T02:00:24.892075Z"
    },
    "papermill": {
     "duration": 27.860676,
     "end_time": "2022-03-26T04:00:22.022053",
     "exception": false,
     "start_time": "2022-03-26T03:59:54.161377",
     "status": "completed"
    },
    "tags": []
   },
   "outputs": [
    {
     "name": "stderr",
     "output_type": "stream",
     "text": [
      "[Stage 41:===================================================>    (24 + 2) / 26]\r"
     ]
    },
    {
     "name": "stdout",
     "output_type": "stream",
     "text": [
      "+----------+------+\n",
      "|     t_dat| count|\n",
      "+----------+------+\n",
      "|2019-09-28|198622|\n",
      "|2020-04-11|162799|\n",
      "|2019-11-29|160875|\n",
      "|2018-11-23|142018|\n",
      "|2018-09-29|141700|\n",
      "+----------+------+\n",
      "only showing top 5 rows\n",
      "\n"
     ]
    },
    {
     "name": "stderr",
     "output_type": "stream",
     "text": [
      "                                                                                \r"
     ]
    }
   ],
   "source": [
    "train.groupBy(\"t_dat\").count().sort(\"count\", ascending=False).show(5)"
   ]
  },
  {
   "cell_type": "code",
   "execution_count": 17,
   "id": "2b28dbad",
   "metadata": {
    "execution": {
     "iopub.execute_input": "2022-03-26T04:00:22.252093Z",
     "iopub.status.busy": "2022-03-26T04:00:22.250275Z",
     "iopub.status.idle": "2022-03-26T04:01:10.050389Z",
     "shell.execute_reply": "2022-03-26T04:01:10.050959Z",
     "shell.execute_reply.started": "2022-03-26T02:00:52.445761Z"
    },
    "papermill": {
     "duration": 47.918148,
     "end_time": "2022-03-26T04:01:10.051147",
     "exception": false,
     "start_time": "2022-03-26T04:00:22.132999",
     "status": "completed"
    },
    "tags": []
   },
   "outputs": [
    {
     "name": "stderr",
     "output_type": "stream",
     "text": [
      "[Stage 44:=====================================================>  (25 + 1) / 26]\r"
     ]
    },
    {
     "name": "stdout",
     "output_type": "stream",
     "text": [
      "+--------------------+-------------------+\n",
      "|         customer_id|         sum(price)|\n",
      "+--------------------+-------------------+\n",
      "|05f65801b9a2d28a5...| 1.7262881355932203|\n",
      "|05f79b715286a38a8...| 0.3919322033898305|\n",
      "|072d11a8c0a1e6d0f...|0.38801694915254237|\n",
      "+--------------------+-------------------+\n",
      "only showing top 3 rows\n",
      "\n"
     ]
    },
    {
     "name": "stderr",
     "output_type": "stream",
     "text": [
      "                                                                                \r"
     ]
    }
   ],
   "source": [
    "# groupby + aggは使える\n",
    "train.groupBy(\"customer_id\").agg({\"price\": \"sum\"}).show(3)"
   ]
  },
  {
   "cell_type": "code",
   "execution_count": 18,
   "id": "14918b35",
   "metadata": {
    "execution": {
     "iopub.execute_input": "2022-03-26T04:01:10.290979Z",
     "iopub.status.busy": "2022-03-26T04:01:10.289875Z",
     "iopub.status.idle": "2022-03-26T04:01:51.294558Z",
     "shell.execute_reply": "2022-03-26T04:01:51.294015Z",
     "shell.execute_reply.started": "2022-03-26T02:01:42.770931Z"
    },
    "papermill": {
     "duration": 41.126517,
     "end_time": "2022-03-26T04:01:51.294702",
     "exception": false,
     "start_time": "2022-03-26T04:01:10.168185",
     "status": "completed"
    },
    "tags": []
   },
   "outputs": [
    {
     "name": "stderr",
     "output_type": "stream",
     "text": [
      "[Stage 47:===================================================>    (24 + 2) / 26]\r"
     ]
    },
    {
     "name": "stdout",
     "output_type": "stream",
     "text": [
      "+--------------------+----------+-----+\n",
      "|         customer_id|     t_dat|count|\n",
      "+--------------------+----------+-----+\n",
      "|00b5bd5358a051556...|2018-09-20|    3|\n",
      "|00be0a263381af381...|2018-09-20|    1|\n",
      "|023b48de81f6af9de...|2018-09-20|    9|\n",
      "+--------------------+----------+-----+\n",
      "only showing top 3 rows\n",
      "\n"
     ]
    },
    {
     "name": "stderr",
     "output_type": "stream",
     "text": [
      "                                                                                \r"
     ]
    }
   ],
   "source": [
    "agged_df = train.groupBy(\"customer_id\", \"t_dat\").count()\n",
    "agged_df.show(3)"
   ]
  },
  {
   "cell_type": "code",
   "execution_count": 19,
   "id": "594579a6",
   "metadata": {
    "execution": {
     "iopub.execute_input": "2022-03-26T04:01:51.529150Z",
     "iopub.status.busy": "2022-03-26T04:01:51.528322Z",
     "iopub.status.idle": "2022-03-26T04:01:51.719358Z",
     "shell.execute_reply": "2022-03-26T04:01:51.718788Z",
     "shell.execute_reply.started": "2022-03-26T02:02:25.870444Z"
    },
    "papermill": {
     "duration": 0.311501,
     "end_time": "2022-03-26T04:01:51.719534",
     "exception": false,
     "start_time": "2022-03-26T04:01:51.408033",
     "status": "completed"
    },
    "tags": []
   },
   "outputs": [
    {
     "name": "stdout",
     "output_type": "stream",
     "text": [
      "+----------+----------------------------------------------------------------+----------+--------------------+----------------+------------------+\n",
      "|t_dat     |customer_id                                                     |article_id|price               |sales_channel_id|real_price        |\n",
      "+----------+----------------------------------------------------------------+----------+--------------------+----------------+------------------+\n",
      "|2018-09-20|000058a12d5b43e67d225668fa1f8d618c13dc232df0cad8ffe7ad4a1091e318|0663713001|0.050830508474576264|2               |29.989999999999995|\n",
      "|2018-09-20|000058a12d5b43e67d225668fa1f8d618c13dc232df0cad8ffe7ad4a1091e318|0541518023|0.03049152542372881 |2               |17.99             |\n",
      "|2018-09-20|00007d2de826758b65a93dd24ce629ed66842531df6699338c5570910a014cc2|0505221004|0.01523728813559322 |2               |8.99              |\n",
      "|2018-09-20|00007d2de826758b65a93dd24ce629ed66842531df6699338c5570910a014cc2|0685687003|0.016932203389830508|2               |9.99              |\n",
      "|2018-09-20|00007d2de826758b65a93dd24ce629ed66842531df6699338c5570910a014cc2|0685687004|0.016932203389830508|2               |9.99              |\n",
      "+----------+----------------------------------------------------------------+----------+--------------------+----------------+------------------+\n",
      "only showing top 5 rows\n",
      "\n"
     ]
    }
   ],
   "source": [
    "train.withColumn(\"real_price\", train.price * 590).show(5, False)"
   ]
  },
  {
   "cell_type": "code",
   "execution_count": 20,
   "id": "7960d061",
   "metadata": {
    "execution": {
     "iopub.execute_input": "2022-03-26T04:01:51.958773Z",
     "iopub.status.busy": "2022-03-26T04:01:51.958025Z",
     "iopub.status.idle": "2022-03-26T04:01:51.961916Z",
     "shell.execute_reply": "2022-03-26T04:01:51.961260Z",
     "shell.execute_reply.started": "2022-03-26T02:02:26.200176Z"
    },
    "papermill": {
     "duration": 0.122606,
     "end_time": "2022-03-26T04:01:51.962060",
     "exception": false,
     "start_time": "2022-03-26T04:01:51.839454",
     "status": "completed"
    },
    "tags": []
   },
   "outputs": [
    {
     "data": {
      "text/plain": [
       "['t_dat', 'customer_id', 'article_id', 'price', 'sales_channel_id']"
      ]
     },
     "execution_count": 20,
     "metadata": {},
     "output_type": "execute_result"
    }
   ],
   "source": [
    "train.columns"
   ]
  },
  {
   "cell_type": "code",
   "execution_count": 21,
   "id": "4946c859",
   "metadata": {
    "execution": {
     "iopub.execute_input": "2022-03-26T04:01:52.196320Z",
     "iopub.status.busy": "2022-03-26T04:01:52.195636Z",
     "iopub.status.idle": "2022-03-26T04:02:37.784379Z",
     "shell.execute_reply": "2022-03-26T04:02:37.784928Z",
     "shell.execute_reply.started": "2022-03-26T02:03:09.570509Z"
    },
    "papermill": {
     "duration": 45.70891,
     "end_time": "2022-03-26T04:02:37.785121",
     "exception": false,
     "start_time": "2022-03-26T04:01:52.076211",
     "status": "completed"
    },
    "tags": []
   },
   "outputs": [
    {
     "name": "stderr",
     "output_type": "stream",
     "text": [
      "[Stage 51:=====================================================>  (25 + 1) / 26]\r"
     ]
    },
    {
     "name": "stdout",
     "output_type": "stream",
     "text": [
      "+--------------------+-------------------+\n",
      "|         customer_id|         sum(price)|\n",
      "+--------------------+-------------------+\n",
      "|05f65801b9a2d28a5...| 1.7262881355932203|\n",
      "|05f79b715286a38a8...| 0.3919322033898305|\n",
      "|072d11a8c0a1e6d0f...|0.38801694915254237|\n",
      "+--------------------+-------------------+\n",
      "only showing top 3 rows\n",
      "\n"
     ]
    },
    {
     "name": "stderr",
     "output_type": "stream",
     "text": [
      "                                                                                \r"
     ]
    }
   ],
   "source": [
    "train.groupBy(\"customer_id\").agg({\"price\": \"sum\"}).show(3)"
   ]
  },
  {
   "cell_type": "markdown",
   "id": "56e84737",
   "metadata": {
    "papermill": {
     "duration": 0.148051,
     "end_time": "2022-03-26T04:02:38.061779",
     "exception": false,
     "start_time": "2022-03-26T04:02:37.913728",
     "status": "completed"
    },
    "tags": []
   },
   "source": [
    "# article"
   ]
  },
  {
   "cell_type": "code",
   "execution_count": 22,
   "id": "5c20bfe7",
   "metadata": {
    "execution": {
     "iopub.execute_input": "2022-03-26T04:02:38.307106Z",
     "iopub.status.busy": "2022-03-26T04:02:38.306055Z",
     "iopub.status.idle": "2022-03-26T04:02:38.509091Z",
     "shell.execute_reply": "2022-03-26T04:02:38.508166Z",
     "shell.execute_reply.started": "2022-03-17T00:24:11.419222Z"
    },
    "papermill": {
     "duration": 0.32812,
     "end_time": "2022-03-26T04:02:38.509323",
     "exception": false,
     "start_time": "2022-03-26T04:02:38.181203",
     "status": "completed"
    },
    "tags": []
   },
   "outputs": [],
   "source": [
    "article = spark.read.option('header','true').csv(CFG.ARTICLE_PATH)"
   ]
  },
  {
   "cell_type": "code",
   "execution_count": 23,
   "id": "0546fbda",
   "metadata": {
    "execution": {
     "iopub.execute_input": "2022-03-26T04:02:38.760715Z",
     "iopub.status.busy": "2022-03-26T04:02:38.759647Z",
     "iopub.status.idle": "2022-03-26T04:02:39.071271Z",
     "shell.execute_reply": "2022-03-26T04:02:39.070252Z",
     "shell.execute_reply.started": "2022-03-17T00:24:13.707668Z"
    },
    "papermill": {
     "duration": 0.436451,
     "end_time": "2022-03-26T04:02:39.071495",
     "exception": false,
     "start_time": "2022-03-26T04:02:38.635044",
     "status": "completed"
    },
    "tags": []
   },
   "outputs": [
    {
     "name": "stdout",
     "output_type": "stream",
     "text": [
      "+----------+------------+------------+---------------+-----------------+------------------+-----------------------+-------------------------+-----------------+-----------------+-------------------------+---------------------------+--------------------------+----------------------------+-------------+---------------+----------+----------+--------------+----------------+----------+--------------+----------------+------------------+--------------------+\n",
      "|article_id|product_code|   prod_name|product_type_no|product_type_name|product_group_name|graphical_appearance_no|graphical_appearance_name|colour_group_code|colour_group_name|perceived_colour_value_id|perceived_colour_value_name|perceived_colour_master_id|perceived_colour_master_name|department_no|department_name|index_code|index_name|index_group_no|index_group_name|section_no|  section_name|garment_group_no|garment_group_name|         detail_desc|\n",
      "+----------+------------+------------+---------------+-----------------+------------------+-----------------------+-------------------------+-----------------+-----------------+-------------------------+---------------------------+--------------------------+----------------------------+-------------+---------------+----------+----------+--------------+----------------+----------+--------------+----------------+------------------+--------------------+\n",
      "|0467191004|     0467191|Bobby cotton|            262|           Jacket|Garment Upper body|                1010016|                    Solid|               19|   Greenish Khaki|                        4|                       Dark|                        20|                 Khaki green|         5252|  Jacket Casual|         F|  Menswear|             3|        Menswear|        31|Mens Outerwear|            1007|           Outdoor|Bomber jacket in ...|\n",
      "|0477163001|     0477163|   Shaun (1)|            308|           Hoodie|Garment Upper body|                1010016|                    Solid|               09|            Black|                        4|                       Dark|                         5|                       Black|         5252|  Jacket Casual|         F|  Menswear|             3|        Menswear|        31|Mens Outerwear|            1007|           Outdoor|Windbreaker in wo...|\n",
      "|0477163010|     0477163|   Shaun (1)|            308|           Hoodie|Garment Upper body|                1010001|         All over pattern|               42|              Red|                        7|                     Medium|                        18|                         Red|         5252|  Jacket Casual|         F|  Menswear|             3|        Menswear|        31|Mens Outerwear|            1007|           Outdoor|Windbreaker in wo...|\n",
      "|0477163013|     0477163|   Shaun (1)|            308|           Hoodie|Garment Upper body|                1010016|                    Solid|               22|           Yellow|                        4|                       Dark|                         8|                      Yellow|         5252|  Jacket Casual|         F|  Menswear|             3|        Menswear|        31|Mens Outerwear|            1007|           Outdoor|Windbreaker in wo...|\n",
      "|0477163015|     0477163|   Shaun (1)|            308|           Hoodie|Garment Upper body|                1010005|          Colour blocking|               73|        Dark Blue|                        4|                       Dark|                         2|                        Blue|         5252|  Jacket Casual|         F|  Menswear|             3|        Menswear|        31|Mens Outerwear|            1007|           Outdoor|Windbreaker in wo...|\n",
      "+----------+------------+------------+---------------+-----------------+------------------+-----------------------+-------------------------+-----------------+-----------------+-------------------------+---------------------------+--------------------------+----------------------------+-------------+---------------+----------+----------+--------------+----------------+----------+--------------+----------------+------------------+--------------------+\n",
      "only showing top 5 rows\n",
      "\n"
     ]
    }
   ],
   "source": [
    "article.filter(article[\"department_name\"] == \"Jacket Casual\").show(5)"
   ]
  },
  {
   "cell_type": "markdown",
   "id": "cb8ac92d",
   "metadata": {
    "papermill": {
     "duration": 0.120791,
     "end_time": "2022-03-26T04:02:39.383589",
     "exception": false,
     "start_time": "2022-03-26T04:02:39.262798",
     "status": "completed"
    },
    "tags": []
   },
   "source": [
    "# customer"
   ]
  },
  {
   "cell_type": "code",
   "execution_count": 24,
   "id": "18777b5d",
   "metadata": {
    "execution": {
     "iopub.execute_input": "2022-03-26T04:02:39.637923Z",
     "iopub.status.busy": "2022-03-26T04:02:39.637199Z",
     "iopub.status.idle": "2022-03-26T04:02:39.821592Z",
     "shell.execute_reply": "2022-03-26T04:02:39.820904Z",
     "shell.execute_reply.started": "2022-03-17T00:24:13.940649Z"
    },
    "papermill": {
     "duration": 0.315,
     "end_time": "2022-03-26T04:02:39.821753",
     "exception": false,
     "start_time": "2022-03-26T04:02:39.506753",
     "status": "completed"
    },
    "tags": []
   },
   "outputs": [],
   "source": [
    "customer = spark.read.option('header','true').csv(CFG.CUSTOMER_PATH)"
   ]
  },
  {
   "cell_type": "code",
   "execution_count": 25,
   "id": "cd1041ed",
   "metadata": {
    "execution": {
     "iopub.execute_input": "2022-03-26T04:02:40.069718Z",
     "iopub.status.busy": "2022-03-26T04:02:40.068555Z",
     "iopub.status.idle": "2022-03-26T04:02:40.159056Z",
     "shell.execute_reply": "2022-03-26T04:02:40.157904Z",
     "shell.execute_reply.started": "2022-03-17T00:24:14.107724Z"
    },
    "papermill": {
     "duration": 0.216708,
     "end_time": "2022-03-26T04:02:40.159318",
     "exception": false,
     "start_time": "2022-03-26T04:02:39.942610",
     "status": "completed"
    },
    "tags": []
   },
   "outputs": [
    {
     "name": "stdout",
     "output_type": "stream",
     "text": [
      "+----------------------------------------------------------------+----+------+------------------+----------------------+---+----------------------------------------------------------------+\n",
      "|customer_id                                                     |FN  |Active|club_member_status|fashion_news_frequency|age|postal_code                                                     |\n",
      "+----------------------------------------------------------------+----+------+------------------+----------------------+---+----------------------------------------------------------------+\n",
      "|00000dbacae5abe5e23885899a1fa44253a17956c6d1c3d25f88aa139fdfc657|null|null  |ACTIVE            |NONE                  |49 |52043ee2162cf5aa7ee79974281641c6f11a68d276429a91f8ca0d4b6efa8100|\n",
      "|0000423b00ade91418cceaf3b26c6af3dd342b51fd051eec9c12fb36984420fa|null|null  |ACTIVE            |NONE                  |25 |2973abc54daa8a5f8ccfe9362140c63247c5eee03f1d93f4c830291c32bc3057|\n",
      "|000058a12d5b43e67d225668fa1f8d618c13dc232df0cad8ffe7ad4a1091e318|null|null  |ACTIVE            |NONE                  |24 |64f17e6a330a85798e4998f62d0930d14db8db1c054af6c9090f7dd3e38380dc|\n",
      "|00005ca1c9ed5f5146b52ac8639a40ca9d57aeff4d1bd2c5feb1ca5dff07c43e|null|null  |ACTIVE            |NONE                  |54 |5d36574f52495e81f019b680c843c443bd343d5ca5b1c222539af5973a23ae6d|\n",
      "|00006413d8573cd20ed7128e53b7b13819fe5cfc2d801fe7fc0f26dd8d65a85a|1.0 |1.0   |ACTIVE            |Regularly             |52 |25fa5ddee9aac01b35208d01736e57942317d756b32ddd4564743b005a805b1d|\n",
      "+----------------------------------------------------------------+----+------+------------------+----------------------+---+----------------------------------------------------------------+\n",
      "only showing top 5 rows\n",
      "\n"
     ]
    }
   ],
   "source": [
    "customer.show(5, False)"
   ]
  },
  {
   "cell_type": "code",
   "execution_count": 26,
   "id": "d95110c3",
   "metadata": {
    "execution": {
     "iopub.execute_input": "2022-03-26T04:02:40.538409Z",
     "iopub.status.busy": "2022-03-26T04:02:40.537326Z",
     "iopub.status.idle": "2022-03-26T04:02:42.615794Z",
     "shell.execute_reply": "2022-03-26T04:02:42.616311Z",
     "shell.execute_reply.started": "2022-03-17T00:24:14.217321Z"
    },
    "papermill": {
     "duration": 2.260449,
     "end_time": "2022-03-26T04:02:42.616489",
     "exception": false,
     "start_time": "2022-03-26T04:02:40.356040",
     "status": "completed"
    },
    "tags": []
   },
   "outputs": [
    {
     "name": "stderr",
     "output_type": "stream",
     "text": [
      "[Stage 58:>                                                         (0 + 4) / 4]\r"
     ]
    },
    {
     "name": "stdout",
     "output_type": "stream",
     "text": [
      "+----+------+\n",
      "|  FN| count|\n",
      "+----+------+\n",
      "|null|895050|\n",
      "| 1.0|476930|\n",
      "+----+------+\n",
      "\n"
     ]
    },
    {
     "name": "stderr",
     "output_type": "stream",
     "text": [
      "                                                                                \r"
     ]
    }
   ],
   "source": [
    "customer.groupby(\"FN\").count().sort(\"count\", ascending=False).show(5)"
   ]
  },
  {
   "cell_type": "code",
   "execution_count": 27,
   "id": "186963f5",
   "metadata": {
    "execution": {
     "iopub.execute_input": "2022-03-26T04:02:42.869836Z",
     "iopub.status.busy": "2022-03-26T04:02:42.868795Z",
     "iopub.status.idle": "2022-03-26T04:02:44.415009Z",
     "shell.execute_reply": "2022-03-26T04:02:44.415509Z",
     "shell.execute_reply.started": "2022-03-17T00:24:15.815708Z"
    },
    "papermill": {
     "duration": 1.67561,
     "end_time": "2022-03-26T04:02:44.415729",
     "exception": false,
     "start_time": "2022-03-26T04:02:42.740119",
     "status": "completed"
    },
    "tags": []
   },
   "outputs": [
    {
     "name": "stderr",
     "output_type": "stream",
     "text": [
      "[Stage 61:>                                                         (0 + 4) / 4]\r"
     ]
    },
    {
     "name": "stdout",
     "output_type": "stream",
     "text": [
      "+---+-----+\n",
      "|age|count|\n",
      "+---+-----+\n",
      "| 21|67530|\n",
      "| 24|56124|\n",
      "| 20|55196|\n",
      "| 25|54989|\n",
      "| 23|54867|\n",
      "+---+-----+\n",
      "only showing top 5 rows\n",
      "\n"
     ]
    },
    {
     "name": "stderr",
     "output_type": "stream",
     "text": [
      "                                                                                \r"
     ]
    }
   ],
   "source": [
    "customer.groupby(\"age\").count().sort(\"count\", ascending=False).show(5)"
   ]
  },
  {
   "cell_type": "code",
   "execution_count": 28,
   "id": "40c98e83",
   "metadata": {
    "execution": {
     "iopub.execute_input": "2022-03-26T04:02:44.667809Z",
     "iopub.status.busy": "2022-03-26T04:02:44.667034Z",
     "iopub.status.idle": "2022-03-26T04:02:54.763467Z",
     "shell.execute_reply": "2022-03-26T04:02:54.764052Z",
     "shell.execute_reply.started": "2022-03-17T00:26:46.479166Z"
    },
    "papermill": {
     "duration": 10.22744,
     "end_time": "2022-03-26T04:02:54.764231",
     "exception": false,
     "start_time": "2022-03-26T04:02:44.536791",
     "status": "completed"
    },
    "tags": []
   },
   "outputs": [
    {
     "name": "stderr",
     "output_type": "stream",
     "text": [
      "[Stage 64:==============>                                           (1 + 3) / 4]\r"
     ]
    },
    {
     "name": "stdout",
     "output_type": "stream",
     "text": [
      "+-----------+---+------+------------------+----------------------+---+-----------+\n",
      "|customer_id| FN|Active|club_member_status|fashion_news_frequency|age|postal_code|\n",
      "+-----------+---+------+------------------+----------------------+---+-----------+\n",
      "|          0|  0|     0|                 0|                     0|  0|          0|\n",
      "+-----------+---+------+------------------+----------------------+---+-----------+\n",
      "\n"
     ]
    },
    {
     "name": "stderr",
     "output_type": "stream",
     "text": [
      "                                                                                \r"
     ]
    }
   ],
   "source": [
    "customer.select([F.count(F.when(F.isnan(c), c)).alias(c) for c in customer.columns]).show()"
   ]
  },
  {
   "cell_type": "code",
   "execution_count": null,
   "id": "bc9be533",
   "metadata": {
    "papermill": {
     "duration": 0.124609,
     "end_time": "2022-03-26T04:02:55.012821",
     "exception": false,
     "start_time": "2022-03-26T04:02:54.888212",
     "status": "completed"
    },
    "tags": []
   },
   "outputs": [],
   "source": []
  },
  {
   "cell_type": "markdown",
   "id": "a5bb3c6e",
   "metadata": {
    "papermill": {
     "duration": 0.123271,
     "end_time": "2022-03-26T04:02:55.258862",
     "exception": false,
     "start_time": "2022-03-26T04:02:55.135591",
     "status": "completed"
    },
    "tags": []
   },
   "source": [
    "# purchase history"
   ]
  },
  {
   "cell_type": "code",
   "execution_count": null,
   "id": "a9f309d3",
   "metadata": {
    "papermill": {
     "duration": 0.121843,
     "end_time": "2022-03-26T04:02:55.509415",
     "exception": false,
     "start_time": "2022-03-26T04:02:55.387572",
     "status": "completed"
    },
    "tags": []
   },
   "outputs": [],
   "source": []
  }
 ],
 "metadata": {
  "kernelspec": {
   "display_name": "Python 3",
   "language": "python",
   "name": "python3"
  },
  "language_info": {
   "codemirror_mode": {
    "name": "ipython",
    "version": 3
   },
   "file_extension": ".py",
   "mimetype": "text/x-python",
   "name": "python",
   "nbconvert_exporter": "python",
   "pygments_lexer": "ipython3",
   "version": "3.7.12"
  },
  "papermill": {
   "default_parameters": {},
   "duration": 610.709484,
   "end_time": "2022-03-26T04:02:56.545847",
   "environment_variables": {},
   "exception": null,
   "input_path": "__notebook__.ipynb",
   "output_path": "__notebook__.ipynb",
   "parameters": {},
   "start_time": "2022-03-26T03:52:45.836363",
   "version": "2.3.3"
  }
 },
 "nbformat": 4,
 "nbformat_minor": 5
}
