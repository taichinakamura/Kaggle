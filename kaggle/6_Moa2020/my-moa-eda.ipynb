{
 "cells": [
  {
   "cell_type": "code",
   "execution_count": 1,
   "metadata": {
    "_cell_guid": "b1076dfc-b9ad-4769-8c92-a6c4dae69d19",
    "_uuid": "8f2839f25d086af736a60e9eeb907d3b93b6e0e5",
    "execution": {
     "iopub.execute_input": "2020-09-10T02:02:58.829558Z",
     "iopub.status.busy": "2020-09-10T02:02:58.828704Z",
     "iopub.status.idle": "2020-09-10T02:02:59.855410Z",
     "shell.execute_reply": "2020-09-10T02:02:59.854672Z"
    },
    "papermill": {
     "duration": 1.044181,
     "end_time": "2020-09-10T02:02:59.855552",
     "exception": false,
     "start_time": "2020-09-10T02:02:58.811371",
     "status": "completed"
    },
    "tags": []
   },
   "outputs": [
    {
     "name": "stdout",
     "output_type": "stream",
     "text": [
      "/kaggle/input/lish-moa/test_features.csv\n",
      "/kaggle/input/lish-moa/train_features.csv\n",
      "/kaggle/input/lish-moa/train_targets_scored.csv\n",
      "/kaggle/input/lish-moa/train_targets_nonscored.csv\n",
      "/kaggle/input/lish-moa/sample_submission.csv\n"
     ]
    }
   ],
   "source": [
    "import numpy as np # linear algebra\n",
    "import pandas as pd # data processing, CSV file I/O (e.g. pd.read_csv)\n",
    "import matplotlib.pyplot as plt \n",
    "import seaborn as sns\n",
    "import os\n",
    "for dirname, _, filenames in os.walk('/kaggle/input'):\n",
    "    for filename in filenames:\n",
    "        print(os.path.join(dirname, filename))"
   ]
  },
  {
   "cell_type": "code",
   "execution_count": 2,
   "metadata": {
    "_cell_guid": "79c7e3d0-c299-4dcb-8224-4455121ee9b0",
    "_uuid": "d629ff2d2480ee46fbb7e2d37f6b5fab8052498a",
    "execution": {
     "iopub.execute_input": "2020-09-10T02:02:59.884536Z",
     "iopub.status.busy": "2020-09-10T02:02:59.883774Z",
     "iopub.status.idle": "2020-09-10T02:03:06.669015Z",
     "shell.execute_reply": "2020-09-10T02:03:06.668153Z"
    },
    "papermill": {
     "duration": 6.803558,
     "end_time": "2020-09-10T02:03:06.669144",
     "exception": false,
     "start_time": "2020-09-10T02:02:59.865586",
     "status": "completed"
    },
    "tags": []
   },
   "outputs": [],
   "source": [
    "DIR = \"/kaggle/input/lish-moa/\"\n",
    "train_feat = pd.read_csv(DIR+\"train_features.csv\")\n",
    "test_feat = pd.read_csv(DIR+\"test_features.csv\")\n",
    "train_nonscore = pd.read_csv(DIR+\"train_targets_nonscored.csv\")\n",
    "train_score = pd.read_csv(DIR+\"train_targets_scored.csv\")"
   ]
  },
  {
   "cell_type": "markdown",
   "execution_count": null,
   "metadata": {
    "papermill": {
     "duration": 0.010798,
     "end_time": "2020-09-10T02:03:06.689629",
     "exception": false,
     "start_time": "2020-09-10T02:03:06.678831",
     "status": "completed"
    },
    "tags": []
   },
   "source": [
    "# training data"
   ]
  },
  {
   "cell_type": "code",
   "execution_count": 3,
   "metadata": {
    "execution": {
     "iopub.execute_input": "2020-09-10T02:03:06.715624Z",
     "iopub.status.busy": "2020-09-10T02:03:06.714709Z",
     "iopub.status.idle": "2020-09-10T02:03:06.719536Z",
     "shell.execute_reply": "2020-09-10T02:03:06.718811Z"
    },
    "papermill": {
     "duration": 0.020968,
     "end_time": "2020-09-10T02:03:06.719658",
     "exception": false,
     "start_time": "2020-09-10T02:03:06.698690",
     "status": "completed"
    },
    "tags": []
   },
   "outputs": [
    {
     "data": {
      "text/plain": [
       "(23814, 876)"
      ]
     },
     "execution_count": 3,
     "metadata": {},
     "output_type": "execute_result"
    }
   ],
   "source": [
    "train_feat.shape"
   ]
  },
  {
   "cell_type": "code",
   "execution_count": 4,
   "metadata": {
    "execution": {
     "iopub.execute_input": "2020-09-10T02:03:06.747006Z",
     "iopub.status.busy": "2020-09-10T02:03:06.746157Z",
     "iopub.status.idle": "2020-09-10T02:03:06.780621Z",
     "shell.execute_reply": "2020-09-10T02:03:06.779854Z"
    },
    "papermill": {
     "duration": 0.051577,
     "end_time": "2020-09-10T02:03:06.780746",
     "exception": false,
     "start_time": "2020-09-10T02:03:06.729169",
     "status": "completed"
    },
    "tags": []
   },
   "outputs": [
    {
     "data": {
      "text/html": [
       "<div>\n",
       "<style scoped>\n",
       "    .dataframe tbody tr th:only-of-type {\n",
       "        vertical-align: middle;\n",
       "    }\n",
       "\n",
       "    .dataframe tbody tr th {\n",
       "        vertical-align: top;\n",
       "    }\n",
       "\n",
       "    .dataframe thead th {\n",
       "        text-align: right;\n",
       "    }\n",
       "</style>\n",
       "<table border=\"1\" class=\"dataframe\">\n",
       "  <thead>\n",
       "    <tr style=\"text-align: right;\">\n",
       "      <th></th>\n",
       "      <th>sig_id</th>\n",
       "      <th>cp_type</th>\n",
       "      <th>cp_time</th>\n",
       "      <th>cp_dose</th>\n",
       "      <th>g-0</th>\n",
       "      <th>g-1</th>\n",
       "      <th>g-2</th>\n",
       "      <th>g-3</th>\n",
       "      <th>g-4</th>\n",
       "      <th>g-5</th>\n",
       "      <th>...</th>\n",
       "      <th>c-90</th>\n",
       "      <th>c-91</th>\n",
       "      <th>c-92</th>\n",
       "      <th>c-93</th>\n",
       "      <th>c-94</th>\n",
       "      <th>c-95</th>\n",
       "      <th>c-96</th>\n",
       "      <th>c-97</th>\n",
       "      <th>c-98</th>\n",
       "      <th>c-99</th>\n",
       "    </tr>\n",
       "  </thead>\n",
       "  <tbody>\n",
       "    <tr>\n",
       "      <th>0</th>\n",
       "      <td>id_000644bb2</td>\n",
       "      <td>trt_cp</td>\n",
       "      <td>24</td>\n",
       "      <td>D1</td>\n",
       "      <td>1.0620</td>\n",
       "      <td>0.5577</td>\n",
       "      <td>-0.2479</td>\n",
       "      <td>-0.6208</td>\n",
       "      <td>-0.1944</td>\n",
       "      <td>-1.0120</td>\n",
       "      <td>...</td>\n",
       "      <td>0.2862</td>\n",
       "      <td>0.2584</td>\n",
       "      <td>0.8076</td>\n",
       "      <td>0.5523</td>\n",
       "      <td>-0.1912</td>\n",
       "      <td>0.6584</td>\n",
       "      <td>-0.3981</td>\n",
       "      <td>0.2139</td>\n",
       "      <td>0.3801</td>\n",
       "      <td>0.4176</td>\n",
       "    </tr>\n",
       "    <tr>\n",
       "      <th>1</th>\n",
       "      <td>id_000779bfc</td>\n",
       "      <td>trt_cp</td>\n",
       "      <td>72</td>\n",
       "      <td>D1</td>\n",
       "      <td>0.0743</td>\n",
       "      <td>0.4087</td>\n",
       "      <td>0.2991</td>\n",
       "      <td>0.0604</td>\n",
       "      <td>1.0190</td>\n",
       "      <td>0.5207</td>\n",
       "      <td>...</td>\n",
       "      <td>-0.4265</td>\n",
       "      <td>0.7543</td>\n",
       "      <td>0.4708</td>\n",
       "      <td>0.0230</td>\n",
       "      <td>0.2957</td>\n",
       "      <td>0.4899</td>\n",
       "      <td>0.1522</td>\n",
       "      <td>0.1241</td>\n",
       "      <td>0.6077</td>\n",
       "      <td>0.7371</td>\n",
       "    </tr>\n",
       "    <tr>\n",
       "      <th>2</th>\n",
       "      <td>id_000a6266a</td>\n",
       "      <td>trt_cp</td>\n",
       "      <td>48</td>\n",
       "      <td>D1</td>\n",
       "      <td>0.6280</td>\n",
       "      <td>0.5817</td>\n",
       "      <td>1.5540</td>\n",
       "      <td>-0.0764</td>\n",
       "      <td>-0.0323</td>\n",
       "      <td>1.2390</td>\n",
       "      <td>...</td>\n",
       "      <td>-0.7250</td>\n",
       "      <td>-0.6297</td>\n",
       "      <td>0.6103</td>\n",
       "      <td>0.0223</td>\n",
       "      <td>-1.3240</td>\n",
       "      <td>-0.3174</td>\n",
       "      <td>-0.6417</td>\n",
       "      <td>-0.2187</td>\n",
       "      <td>-1.4080</td>\n",
       "      <td>0.6931</td>\n",
       "    </tr>\n",
       "    <tr>\n",
       "      <th>3</th>\n",
       "      <td>id_0015fd391</td>\n",
       "      <td>trt_cp</td>\n",
       "      <td>48</td>\n",
       "      <td>D1</td>\n",
       "      <td>-0.5138</td>\n",
       "      <td>-0.2491</td>\n",
       "      <td>-0.2656</td>\n",
       "      <td>0.5288</td>\n",
       "      <td>4.0620</td>\n",
       "      <td>-0.8095</td>\n",
       "      <td>...</td>\n",
       "      <td>-2.0990</td>\n",
       "      <td>-0.6441</td>\n",
       "      <td>-5.6300</td>\n",
       "      <td>-1.3780</td>\n",
       "      <td>-0.8632</td>\n",
       "      <td>-1.2880</td>\n",
       "      <td>-1.6210</td>\n",
       "      <td>-0.8784</td>\n",
       "      <td>-0.3876</td>\n",
       "      <td>-0.8154</td>\n",
       "    </tr>\n",
       "    <tr>\n",
       "      <th>4</th>\n",
       "      <td>id_001626bd3</td>\n",
       "      <td>trt_cp</td>\n",
       "      <td>72</td>\n",
       "      <td>D2</td>\n",
       "      <td>-0.3254</td>\n",
       "      <td>-0.4009</td>\n",
       "      <td>0.9700</td>\n",
       "      <td>0.6919</td>\n",
       "      <td>1.4180</td>\n",
       "      <td>-0.8244</td>\n",
       "      <td>...</td>\n",
       "      <td>0.0042</td>\n",
       "      <td>0.0048</td>\n",
       "      <td>0.6670</td>\n",
       "      <td>1.0690</td>\n",
       "      <td>0.5523</td>\n",
       "      <td>-0.3031</td>\n",
       "      <td>0.1094</td>\n",
       "      <td>0.2885</td>\n",
       "      <td>-0.3786</td>\n",
       "      <td>0.7125</td>\n",
       "    </tr>\n",
       "  </tbody>\n",
       "</table>\n",
       "<p>5 rows × 876 columns</p>\n",
       "</div>"
      ],
      "text/plain": [
       "         sig_id cp_type  cp_time cp_dose     g-0     g-1     g-2     g-3  \\\n",
       "0  id_000644bb2  trt_cp       24      D1  1.0620  0.5577 -0.2479 -0.6208   \n",
       "1  id_000779bfc  trt_cp       72      D1  0.0743  0.4087  0.2991  0.0604   \n",
       "2  id_000a6266a  trt_cp       48      D1  0.6280  0.5817  1.5540 -0.0764   \n",
       "3  id_0015fd391  trt_cp       48      D1 -0.5138 -0.2491 -0.2656  0.5288   \n",
       "4  id_001626bd3  trt_cp       72      D2 -0.3254 -0.4009  0.9700  0.6919   \n",
       "\n",
       "      g-4     g-5  ...    c-90    c-91    c-92    c-93    c-94    c-95  \\\n",
       "0 -0.1944 -1.0120  ...  0.2862  0.2584  0.8076  0.5523 -0.1912  0.6584   \n",
       "1  1.0190  0.5207  ... -0.4265  0.7543  0.4708  0.0230  0.2957  0.4899   \n",
       "2 -0.0323  1.2390  ... -0.7250 -0.6297  0.6103  0.0223 -1.3240 -0.3174   \n",
       "3  4.0620 -0.8095  ... -2.0990 -0.6441 -5.6300 -1.3780 -0.8632 -1.2880   \n",
       "4  1.4180 -0.8244  ...  0.0042  0.0048  0.6670  1.0690  0.5523 -0.3031   \n",
       "\n",
       "     c-96    c-97    c-98    c-99  \n",
       "0 -0.3981  0.2139  0.3801  0.4176  \n",
       "1  0.1522  0.1241  0.6077  0.7371  \n",
       "2 -0.6417 -0.2187 -1.4080  0.6931  \n",
       "3 -1.6210 -0.8784 -0.3876 -0.8154  \n",
       "4  0.1094  0.2885 -0.3786  0.7125  \n",
       "\n",
       "[5 rows x 876 columns]"
      ]
     },
     "execution_count": 4,
     "metadata": {},
     "output_type": "execute_result"
    }
   ],
   "source": [
    "train_feat.head()"
   ]
  },
  {
   "cell_type": "code",
   "execution_count": 5,
   "metadata": {
    "execution": {
     "iopub.execute_input": "2020-09-10T02:03:06.806751Z",
     "iopub.status.busy": "2020-09-10T02:03:06.805660Z",
     "iopub.status.idle": "2020-09-10T02:03:06.809970Z",
     "shell.execute_reply": "2020-09-10T02:03:06.809211Z"
    },
    "papermill": {
     "duration": 0.019378,
     "end_time": "2020-09-10T02:03:06.810096",
     "exception": false,
     "start_time": "2020-09-10T02:03:06.790718",
     "status": "completed"
    },
    "tags": []
   },
   "outputs": [
    {
     "data": {
      "text/plain": [
       "(23814, 207)"
      ]
     },
     "execution_count": 5,
     "metadata": {},
     "output_type": "execute_result"
    }
   ],
   "source": [
    "train_score.shape"
   ]
  },
  {
   "cell_type": "code",
   "execution_count": 6,
   "metadata": {
    "execution": {
     "iopub.execute_input": "2020-09-10T02:03:06.853175Z",
     "iopub.status.busy": "2020-09-10T02:03:06.852125Z",
     "iopub.status.idle": "2020-09-10T02:03:06.857506Z",
     "shell.execute_reply": "2020-09-10T02:03:06.856758Z"
    },
    "papermill": {
     "duration": 0.037513,
     "end_time": "2020-09-10T02:03:06.857633",
     "exception": false,
     "start_time": "2020-09-10T02:03:06.820120",
     "status": "completed"
    },
    "tags": []
   },
   "outputs": [
    {
     "data": {
      "text/html": [
       "<div>\n",
       "<style scoped>\n",
       "    .dataframe tbody tr th:only-of-type {\n",
       "        vertical-align: middle;\n",
       "    }\n",
       "\n",
       "    .dataframe tbody tr th {\n",
       "        vertical-align: top;\n",
       "    }\n",
       "\n",
       "    .dataframe thead th {\n",
       "        text-align: right;\n",
       "    }\n",
       "</style>\n",
       "<table border=\"1\" class=\"dataframe\">\n",
       "  <thead>\n",
       "    <tr style=\"text-align: right;\">\n",
       "      <th></th>\n",
       "      <th>sig_id</th>\n",
       "      <th>5-alpha_reductase_inhibitor</th>\n",
       "      <th>11-beta-hsd1_inhibitor</th>\n",
       "      <th>acat_inhibitor</th>\n",
       "      <th>acetylcholine_receptor_agonist</th>\n",
       "      <th>acetylcholine_receptor_antagonist</th>\n",
       "      <th>acetylcholinesterase_inhibitor</th>\n",
       "      <th>adenosine_receptor_agonist</th>\n",
       "      <th>adenosine_receptor_antagonist</th>\n",
       "      <th>adenylyl_cyclase_activator</th>\n",
       "      <th>...</th>\n",
       "      <th>tropomyosin_receptor_kinase_inhibitor</th>\n",
       "      <th>trpv_agonist</th>\n",
       "      <th>trpv_antagonist</th>\n",
       "      <th>tubulin_inhibitor</th>\n",
       "      <th>tyrosine_kinase_inhibitor</th>\n",
       "      <th>ubiquitin_specific_protease_inhibitor</th>\n",
       "      <th>vegfr_inhibitor</th>\n",
       "      <th>vitamin_b</th>\n",
       "      <th>vitamin_d_receptor_agonist</th>\n",
       "      <th>wnt_inhibitor</th>\n",
       "    </tr>\n",
       "  </thead>\n",
       "  <tbody>\n",
       "    <tr>\n",
       "      <th>0</th>\n",
       "      <td>id_000644bb2</td>\n",
       "      <td>0</td>\n",
       "      <td>0</td>\n",
       "      <td>0</td>\n",
       "      <td>0</td>\n",
       "      <td>0</td>\n",
       "      <td>0</td>\n",
       "      <td>0</td>\n",
       "      <td>0</td>\n",
       "      <td>0</td>\n",
       "      <td>...</td>\n",
       "      <td>0</td>\n",
       "      <td>0</td>\n",
       "      <td>0</td>\n",
       "      <td>0</td>\n",
       "      <td>0</td>\n",
       "      <td>0</td>\n",
       "      <td>0</td>\n",
       "      <td>0</td>\n",
       "      <td>0</td>\n",
       "      <td>0</td>\n",
       "    </tr>\n",
       "    <tr>\n",
       "      <th>1</th>\n",
       "      <td>id_000779bfc</td>\n",
       "      <td>0</td>\n",
       "      <td>0</td>\n",
       "      <td>0</td>\n",
       "      <td>0</td>\n",
       "      <td>0</td>\n",
       "      <td>0</td>\n",
       "      <td>0</td>\n",
       "      <td>0</td>\n",
       "      <td>0</td>\n",
       "      <td>...</td>\n",
       "      <td>0</td>\n",
       "      <td>0</td>\n",
       "      <td>0</td>\n",
       "      <td>0</td>\n",
       "      <td>0</td>\n",
       "      <td>0</td>\n",
       "      <td>0</td>\n",
       "      <td>0</td>\n",
       "      <td>0</td>\n",
       "      <td>0</td>\n",
       "    </tr>\n",
       "    <tr>\n",
       "      <th>2</th>\n",
       "      <td>id_000a6266a</td>\n",
       "      <td>0</td>\n",
       "      <td>0</td>\n",
       "      <td>0</td>\n",
       "      <td>0</td>\n",
       "      <td>0</td>\n",
       "      <td>0</td>\n",
       "      <td>0</td>\n",
       "      <td>0</td>\n",
       "      <td>0</td>\n",
       "      <td>...</td>\n",
       "      <td>0</td>\n",
       "      <td>0</td>\n",
       "      <td>0</td>\n",
       "      <td>0</td>\n",
       "      <td>0</td>\n",
       "      <td>0</td>\n",
       "      <td>0</td>\n",
       "      <td>0</td>\n",
       "      <td>0</td>\n",
       "      <td>0</td>\n",
       "    </tr>\n",
       "    <tr>\n",
       "      <th>3</th>\n",
       "      <td>id_0015fd391</td>\n",
       "      <td>0</td>\n",
       "      <td>0</td>\n",
       "      <td>0</td>\n",
       "      <td>0</td>\n",
       "      <td>0</td>\n",
       "      <td>0</td>\n",
       "      <td>0</td>\n",
       "      <td>0</td>\n",
       "      <td>0</td>\n",
       "      <td>...</td>\n",
       "      <td>0</td>\n",
       "      <td>0</td>\n",
       "      <td>0</td>\n",
       "      <td>0</td>\n",
       "      <td>0</td>\n",
       "      <td>0</td>\n",
       "      <td>0</td>\n",
       "      <td>0</td>\n",
       "      <td>0</td>\n",
       "      <td>0</td>\n",
       "    </tr>\n",
       "    <tr>\n",
       "      <th>4</th>\n",
       "      <td>id_001626bd3</td>\n",
       "      <td>0</td>\n",
       "      <td>0</td>\n",
       "      <td>0</td>\n",
       "      <td>0</td>\n",
       "      <td>0</td>\n",
       "      <td>0</td>\n",
       "      <td>0</td>\n",
       "      <td>0</td>\n",
       "      <td>0</td>\n",
       "      <td>...</td>\n",
       "      <td>0</td>\n",
       "      <td>0</td>\n",
       "      <td>0</td>\n",
       "      <td>0</td>\n",
       "      <td>0</td>\n",
       "      <td>0</td>\n",
       "      <td>0</td>\n",
       "      <td>0</td>\n",
       "      <td>0</td>\n",
       "      <td>0</td>\n",
       "    </tr>\n",
       "  </tbody>\n",
       "</table>\n",
       "<p>5 rows × 207 columns</p>\n",
       "</div>"
      ],
      "text/plain": [
       "         sig_id  5-alpha_reductase_inhibitor  11-beta-hsd1_inhibitor  \\\n",
       "0  id_000644bb2                            0                       0   \n",
       "1  id_000779bfc                            0                       0   \n",
       "2  id_000a6266a                            0                       0   \n",
       "3  id_0015fd391                            0                       0   \n",
       "4  id_001626bd3                            0                       0   \n",
       "\n",
       "   acat_inhibitor  acetylcholine_receptor_agonist  \\\n",
       "0               0                               0   \n",
       "1               0                               0   \n",
       "2               0                               0   \n",
       "3               0                               0   \n",
       "4               0                               0   \n",
       "\n",
       "   acetylcholine_receptor_antagonist  acetylcholinesterase_inhibitor  \\\n",
       "0                                  0                               0   \n",
       "1                                  0                               0   \n",
       "2                                  0                               0   \n",
       "3                                  0                               0   \n",
       "4                                  0                               0   \n",
       "\n",
       "   adenosine_receptor_agonist  adenosine_receptor_antagonist  \\\n",
       "0                           0                              0   \n",
       "1                           0                              0   \n",
       "2                           0                              0   \n",
       "3                           0                              0   \n",
       "4                           0                              0   \n",
       "\n",
       "   adenylyl_cyclase_activator  ...  tropomyosin_receptor_kinase_inhibitor  \\\n",
       "0                           0  ...                                      0   \n",
       "1                           0  ...                                      0   \n",
       "2                           0  ...                                      0   \n",
       "3                           0  ...                                      0   \n",
       "4                           0  ...                                      0   \n",
       "\n",
       "   trpv_agonist  trpv_antagonist  tubulin_inhibitor  \\\n",
       "0             0                0                  0   \n",
       "1             0                0                  0   \n",
       "2             0                0                  0   \n",
       "3             0                0                  0   \n",
       "4             0                0                  0   \n",
       "\n",
       "   tyrosine_kinase_inhibitor  ubiquitin_specific_protease_inhibitor  \\\n",
       "0                          0                                      0   \n",
       "1                          0                                      0   \n",
       "2                          0                                      0   \n",
       "3                          0                                      0   \n",
       "4                          0                                      0   \n",
       "\n",
       "   vegfr_inhibitor  vitamin_b  vitamin_d_receptor_agonist  wnt_inhibitor  \n",
       "0                0          0                           0              0  \n",
       "1                0          0                           0              0  \n",
       "2                0          0                           0              0  \n",
       "3                0          0                           0              0  \n",
       "4                0          0                           0              0  \n",
       "\n",
       "[5 rows x 207 columns]"
      ]
     },
     "execution_count": 6,
     "metadata": {},
     "output_type": "execute_result"
    }
   ],
   "source": [
    "train_score.head()"
   ]
  },
  {
   "cell_type": "code",
   "execution_count": 7,
   "metadata": {
    "execution": {
     "iopub.execute_input": "2020-09-10T02:03:06.894494Z",
     "iopub.status.busy": "2020-09-10T02:03:06.893711Z",
     "iopub.status.idle": "2020-09-10T02:03:06.914680Z",
     "shell.execute_reply": "2020-09-10T02:03:06.913909Z"
    },
    "papermill": {
     "duration": 0.046251,
     "end_time": "2020-09-10T02:03:06.914803",
     "exception": false,
     "start_time": "2020-09-10T02:03:06.868552",
     "status": "completed"
    },
    "tags": []
   },
   "outputs": [
    {
     "data": {
      "text/plain": [
       "True"
      ]
     },
     "execution_count": 7,
     "metadata": {},
     "output_type": "execute_result"
    }
   ],
   "source": [
    "set(train_feat.sig_id.unique()) == set(train_score.sig_id.unique())"
   ]
  },
  {
   "cell_type": "markdown",
   "execution_count": null,
   "metadata": {
    "papermill": {
     "duration": 0.010345,
     "end_time": "2020-09-10T02:03:06.935665",
     "exception": false,
     "start_time": "2020-09-10T02:03:06.925320",
     "status": "completed"
    },
    "tags": []
   },
   "source": [
    "# target info"
   ]
  },
  {
   "cell_type": "markdown",
   "execution_count": null,
   "metadata": {
    "papermill": {
     "duration": 0.010287,
     "end_time": "2020-09-10T02:03:06.956531",
     "exception": false,
     "start_time": "2020-09-10T02:03:06.946244",
     "status": "completed"
    },
    "tags": []
   },
   "source": [
    "## per target"
   ]
  },
  {
   "cell_type": "code",
   "execution_count": 8,
   "metadata": {
    "execution": {
     "iopub.execute_input": "2020-09-10T02:03:06.985427Z",
     "iopub.status.busy": "2020-09-10T02:03:06.984649Z",
     "iopub.status.idle": "2020-09-10T02:03:07.058052Z",
     "shell.execute_reply": "2020-09-10T02:03:07.057292Z"
    },
    "papermill": {
     "duration": 0.090732,
     "end_time": "2020-09-10T02:03:07.058188",
     "exception": false,
     "start_time": "2020-09-10T02:03:06.967456",
     "status": "completed"
    },
    "tags": []
   },
   "outputs": [
    {
     "ename": "NameError",
     "evalue": "name 'train' is not defined",
     "output_type": "error",
     "traceback": [
      "\u001b[0;31m---------------------------------------------------------------------------\u001b[0m",
      "\u001b[0;31mNameError\u001b[0m                                 Traceback (most recent call last)",
      "\u001b[0;32m<ipython-input-8-ac86d3fb54be>\u001b[0m in \u001b[0;36m<module>\u001b[0;34m\u001b[0m\n\u001b[1;32m      1\u001b[0m \u001b[0mtarget_feats\u001b[0m \u001b[0;34m=\u001b[0m \u001b[0;34m[\u001b[0m\u001b[0mi\u001b[0m \u001b[0;32mfor\u001b[0m \u001b[0mi\u001b[0m \u001b[0;32min\u001b[0m \u001b[0mtrain_score\u001b[0m\u001b[0;34m.\u001b[0m\u001b[0mcolumns\u001b[0m \u001b[0;32mif\u001b[0m \u001b[0mi\u001b[0m \u001b[0;34m!=\u001b[0m \u001b[0;34m\"sig_id\"\u001b[0m\u001b[0;34m]\u001b[0m\u001b[0;34m\u001b[0m\u001b[0;34m\u001b[0m\u001b[0m\n\u001b[0;32m----> 2\u001b[0;31m \u001b[0mtarget_dists\u001b[0m \u001b[0;34m=\u001b[0m \u001b[0mpd\u001b[0m\u001b[0;34m.\u001b[0m\u001b[0mDataFrame\u001b[0m\u001b[0;34m(\u001b[0m\u001b[0mnp\u001b[0m\u001b[0;34m.\u001b[0m\u001b[0msum\u001b[0m\u001b[0;34m(\u001b[0m\u001b[0mtrain\u001b[0m\u001b[0;34m[\u001b[0m\u001b[0mtarget_feats\u001b[0m\u001b[0;34m]\u001b[0m\u001b[0;34m)\u001b[0m\u001b[0;34m)\u001b[0m\u001b[0;34m.\u001b[0m\u001b[0mreset_index\u001b[0m\u001b[0;34m(\u001b[0m\u001b[0mdrop\u001b[0m\u001b[0;34m=\u001b[0m\u001b[0;32mFalse\u001b[0m\u001b[0;34m)\u001b[0m\u001b[0;34m\u001b[0m\u001b[0;34m\u001b[0m\u001b[0m\n\u001b[0m\u001b[1;32m      3\u001b[0m \u001b[0mtarget_dists\u001b[0m\u001b[0;34m.\u001b[0m\u001b[0mcolumns\u001b[0m \u001b[0;34m=\u001b[0m \u001b[0;34m[\u001b[0m\u001b[0;34m\"target\"\u001b[0m\u001b[0;34m,\u001b[0m \u001b[0;34m\"number\"\u001b[0m\u001b[0;34m]\u001b[0m\u001b[0;34m\u001b[0m\u001b[0;34m\u001b[0m\u001b[0m\n\u001b[1;32m      4\u001b[0m \u001b[0mtarget_dists\u001b[0m\u001b[0;34m\u001b[0m\u001b[0;34m\u001b[0m\u001b[0m\n",
      "\u001b[0;31mNameError\u001b[0m: name 'train' is not defined"
     ]
    }
   ],
   "source": [
    "target_feats = [i for i in train_score.columns if i != \"sig_id\"]\n",
    "target_dists = pd.DataFrame(np.sum(train[target_feats])).reset_index(drop=False)\n",
    "target_dists.columns = [\"target\", \"number\"]\n",
    "target_dists"
   ]
  },
  {
   "cell_type": "code",
   "execution_count": 9,
   "metadata": {
    "execution": {
     "iopub.execute_input": "2020-09-10T02:03:07.093809Z",
     "iopub.status.busy": "2020-09-10T02:03:07.092320Z",
     "iopub.status.idle": "2020-09-10T02:03:07.098587Z",
     "shell.execute_reply": "2020-09-10T02:03:07.097810Z"
    },
    "papermill": {
     "duration": 0.029426,
     "end_time": "2020-09-10T02:03:07.098713",
     "exception": false,
     "start_time": "2020-09-10T02:03:07.069287",
     "status": "completed"
    },
    "tags": []
   },
   "outputs": [
    {
     "ename": "NameError",
     "evalue": "name 'target_dists' is not defined",
     "output_type": "error",
     "traceback": [
      "\u001b[0;31m---------------------------------------------------------------------------\u001b[0m",
      "\u001b[0;31mNameError\u001b[0m                                 Traceback (most recent call last)",
      "\u001b[0;32m<ipython-input-9-efa86d7bec6c>\u001b[0m in \u001b[0;36m<module>\u001b[0;34m\u001b[0m\n\u001b[0;32m----> 1\u001b[0;31m \u001b[0mtarget_dists\u001b[0m\u001b[0;34m[\u001b[0m\u001b[0;34m\"number\"\u001b[0m\u001b[0;34m]\u001b[0m\u001b[0;34m.\u001b[0m\u001b[0mdescribe\u001b[0m\u001b[0;34m(\u001b[0m\u001b[0;34m)\u001b[0m \u001b[0;31m# ターゲットラベルとしてあるのに、一回も観測されていないターゲットはない\u001b[0m\u001b[0;34m\u001b[0m\u001b[0;34m\u001b[0m\u001b[0m\n\u001b[0m",
      "\u001b[0;31mNameError\u001b[0m: name 'target_dists' is not defined"
     ]
    }
   ],
   "source": [
    "target_dists[\"number\"].describe() # ターゲットラベルとしてあるのに、一回も観測されていないターゲットはない"
   ]
  },
  {
   "cell_type": "code",
   "execution_count": 10,
   "metadata": {
    "execution": {
     "iopub.execute_input": "2020-09-10T02:03:07.127032Z",
     "iopub.status.busy": "2020-09-10T02:03:07.126285Z",
     "iopub.status.idle": "2020-09-10T02:03:07.181855Z",
     "shell.execute_reply": "2020-09-10T02:03:07.181208Z"
    },
    "papermill": {
     "duration": 0.072122,
     "end_time": "2020-09-10T02:03:07.181988",
     "exception": false,
     "start_time": "2020-09-10T02:03:07.109866",
     "status": "completed"
    },
    "tags": []
   },
   "outputs": [
    {
     "ename": "NameError",
     "evalue": "name 'target_dists' is not defined",
     "output_type": "error",
     "traceback": [
      "\u001b[0;31m---------------------------------------------------------------------------\u001b[0m",
      "\u001b[0;31mNameError\u001b[0m                                 Traceback (most recent call last)",
      "\u001b[0;32m<ipython-input-10-563cf84ea6e3>\u001b[0m in \u001b[0;36m<module>\u001b[0;34m\u001b[0m\n\u001b[1;32m      1\u001b[0m \u001b[0;31m# target変数によって差がある。\u001b[0m\u001b[0;34m\u001b[0m\u001b[0;34m\u001b[0m\u001b[0;34m\u001b[0m\u001b[0m\n\u001b[1;32m      2\u001b[0m \u001b[0mplt\u001b[0m\u001b[0;34m.\u001b[0m\u001b[0mfigure\u001b[0m\u001b[0;34m(\u001b[0m\u001b[0mfigsize\u001b[0m\u001b[0;34m=\u001b[0m\u001b[0;34m(\u001b[0m\u001b[0;36m20\u001b[0m\u001b[0;34m,\u001b[0m\u001b[0;36m5\u001b[0m\u001b[0;34m)\u001b[0m\u001b[0;34m)\u001b[0m\u001b[0;34m\u001b[0m\u001b[0;34m\u001b[0m\u001b[0m\n\u001b[0;32m----> 3\u001b[0;31m \u001b[0mplt\u001b[0m\u001b[0;34m.\u001b[0m\u001b[0mbar\u001b[0m\u001b[0;34m(\u001b[0m\u001b[0mrange\u001b[0m\u001b[0;34m(\u001b[0m\u001b[0mtarget_dists\u001b[0m\u001b[0;34m.\u001b[0m\u001b[0mshape\u001b[0m\u001b[0;34m[\u001b[0m\u001b[0;36m0\u001b[0m\u001b[0;34m]\u001b[0m\u001b[0;34m)\u001b[0m\u001b[0;34m,\u001b[0m \u001b[0mtarget_dists\u001b[0m\u001b[0;34m[\u001b[0m\u001b[0;34m\"number\"\u001b[0m\u001b[0;34m]\u001b[0m\u001b[0;34m)\u001b[0m\u001b[0;34m\u001b[0m\u001b[0;34m\u001b[0m\u001b[0m\n\u001b[0m",
      "\u001b[0;31mNameError\u001b[0m: name 'target_dists' is not defined"
     ]
    },
    {
     "data": {
      "text/plain": [
       "<Figure size 1440x360 with 0 Axes>"
      ]
     },
     "metadata": {},
     "output_type": "display_data"
    }
   ],
   "source": [
    "# target変数によって差がある。\n",
    "plt.figure(figsize=(20,5))\n",
    "plt.bar(range(target_dists.shape[0]), target_dists[\"number\"])"
   ]
  },
  {
   "cell_type": "markdown",
   "execution_count": null,
   "metadata": {
    "papermill": {
     "duration": 0.012301,
     "end_time": "2020-09-10T02:03:07.206239",
     "exception": false,
     "start_time": "2020-09-10T02:03:07.193938",
     "status": "completed"
    },
    "tags": []
   },
   "source": [
    "## per exmaple"
   ]
  },
  {
   "cell_type": "code",
   "execution_count": 11,
   "metadata": {
    "execution": {
     "iopub.execute_input": "2020-09-10T02:03:07.247289Z",
     "iopub.status.busy": "2020-09-10T02:03:07.244575Z",
     "iopub.status.idle": "2020-09-10T02:03:07.252557Z",
     "shell.execute_reply": "2020-09-10T02:03:07.251890Z"
    },
    "papermill": {
     "duration": 0.034359,
     "end_time": "2020-09-10T02:03:07.252682",
     "exception": false,
     "start_time": "2020-09-10T02:03:07.218323",
     "status": "completed"
    },
    "tags": []
   },
   "outputs": [
    {
     "ename": "NameError",
     "evalue": "name 'train' is not defined",
     "output_type": "error",
     "traceback": [
      "\u001b[0;31m---------------------------------------------------------------------------\u001b[0m",
      "\u001b[0;31mNameError\u001b[0m                                 Traceback (most recent call last)",
      "\u001b[0;32m<ipython-input-11-dc9b9c23b8a1>\u001b[0m in \u001b[0;36m<module>\u001b[0;34m\u001b[0m\n\u001b[0;32m----> 1\u001b[0;31m \u001b[0mtarget_dists_per_id\u001b[0m \u001b[0;34m=\u001b[0m \u001b[0mpd\u001b[0m\u001b[0;34m.\u001b[0m\u001b[0mDataFrame\u001b[0m\u001b[0;34m(\u001b[0m\u001b[0mnp\u001b[0m\u001b[0;34m.\u001b[0m\u001b[0msum\u001b[0m\u001b[0;34m(\u001b[0m\u001b[0mtrain\u001b[0m\u001b[0;34m[\u001b[0m\u001b[0mtarget_feats\u001b[0m\u001b[0;34m]\u001b[0m\u001b[0;34m,\u001b[0m \u001b[0maxis\u001b[0m\u001b[0;34m=\u001b[0m\u001b[0;36m1\u001b[0m\u001b[0;34m)\u001b[0m\u001b[0;34m)\u001b[0m\u001b[0;34m\u001b[0m\u001b[0;34m\u001b[0m\u001b[0m\n\u001b[0m\u001b[1;32m      2\u001b[0m \u001b[0mtarget_dists_per_id\u001b[0m\u001b[0;34m.\u001b[0m\u001b[0mcolumns\u001b[0m \u001b[0;34m=\u001b[0m \u001b[0;34m[\u001b[0m\u001b[0;34m\"number\"\u001b[0m\u001b[0;34m]\u001b[0m\u001b[0;34m\u001b[0m\u001b[0;34m\u001b[0m\u001b[0m\n\u001b[1;32m      3\u001b[0m \u001b[0mprint\u001b[0m\u001b[0;34m(\u001b[0m\u001b[0mtarget_dists_per_id\u001b[0m\u001b[0;34m[\u001b[0m\u001b[0;34m\"number\"\u001b[0m\u001b[0;34m]\u001b[0m\u001b[0;34m.\u001b[0m\u001b[0msum\u001b[0m\u001b[0;34m(\u001b[0m\u001b[0;34m)\u001b[0m\u001b[0;34m)\u001b[0m\u001b[0;34m\u001b[0m\u001b[0;34m\u001b[0m\u001b[0m\n\u001b[1;32m      4\u001b[0m \u001b[0mprint\u001b[0m\u001b[0;34m(\u001b[0m\u001b[0mtarget_dists_per_id\u001b[0m\u001b[0;34m[\u001b[0m\u001b[0;34m\"number\"\u001b[0m\u001b[0;34m]\u001b[0m\u001b[0;34m.\u001b[0m\u001b[0mvalue_counts\u001b[0m\u001b[0;34m(\u001b[0m\u001b[0;34m)\u001b[0m\u001b[0;34m)\u001b[0m\u001b[0;34m\u001b[0m\u001b[0;34m\u001b[0m\u001b[0m\n\u001b[1;32m      5\u001b[0m \u001b[0msns\u001b[0m\u001b[0;34m.\u001b[0m\u001b[0mdistplot\u001b[0m\u001b[0;34m(\u001b[0m\u001b[0mtarget_dists_per_id\u001b[0m\u001b[0;34m[\u001b[0m\u001b[0;34m\"number\"\u001b[0m\u001b[0;34m]\u001b[0m\u001b[0;34m)\u001b[0m\u001b[0;34m\u001b[0m\u001b[0;34m\u001b[0m\u001b[0m\n",
      "\u001b[0;31mNameError\u001b[0m: name 'train' is not defined"
     ]
    }
   ],
   "source": [
    "target_dists_per_id = pd.DataFrame(np.sum(train[target_feats], axis=1))\n",
    "target_dists_per_id.columns = [\"number\"]\n",
    "print(target_dists_per_id[\"number\"].sum())\n",
    "print(target_dists_per_id[\"number\"].value_counts())\n",
    "sns.distplot(target_dists_per_id[\"number\"])"
   ]
  },
  {
   "cell_type": "code",
   "execution_count": 12,
   "metadata": {
    "execution": {
     "iopub.execute_input": "2020-09-10T02:03:07.292826Z",
     "iopub.status.busy": "2020-09-10T02:03:07.291922Z",
     "iopub.status.idle": "2020-09-10T02:03:07.297050Z",
     "shell.execute_reply": "2020-09-10T02:03:07.296466Z"
    },
    "papermill": {
     "duration": 0.033101,
     "end_time": "2020-09-10T02:03:07.297176",
     "exception": false,
     "start_time": "2020-09-10T02:03:07.264075",
     "status": "completed"
    },
    "tags": []
   },
   "outputs": [
    {
     "ename": "NameError",
     "evalue": "name 'target_dists_per_id' is not defined",
     "output_type": "error",
     "traceback": [
      "\u001b[0;31m---------------------------------------------------------------------------\u001b[0m",
      "\u001b[0;31mNameError\u001b[0m                                 Traceback (most recent call last)",
      "\u001b[0;32m<ipython-input-12-bd3ad7368d4b>\u001b[0m in \u001b[0;36m<module>\u001b[0;34m\u001b[0m\n\u001b[1;32m      1\u001b[0m \u001b[0;31m# positive label rate = 0.3%\u001b[0m\u001b[0;34m\u001b[0m\u001b[0;34m\u001b[0m\u001b[0;34m\u001b[0m\u001b[0m\n\u001b[0;32m----> 2\u001b[0;31m \u001b[0mtarget_dists_per_id\u001b[0m\u001b[0;34m[\u001b[0m\u001b[0;34m\"number\"\u001b[0m\u001b[0;34m]\u001b[0m\u001b[0;34m.\u001b[0m\u001b[0msum\u001b[0m\u001b[0;34m(\u001b[0m\u001b[0;34m)\u001b[0m \u001b[0;34m*\u001b[0m \u001b[0;36m100\u001b[0m \u001b[0;34m/\u001b[0m \u001b[0;34m(\u001b[0m\u001b[0mlen\u001b[0m\u001b[0;34m(\u001b[0m\u001b[0mtarget_feats\u001b[0m\u001b[0;34m)\u001b[0m \u001b[0;34m*\u001b[0m \u001b[0mtrain_feat\u001b[0m\u001b[0;34m.\u001b[0m\u001b[0mshape\u001b[0m\u001b[0;34m[\u001b[0m\u001b[0;36m0\u001b[0m\u001b[0;34m]\u001b[0m\u001b[0;34m)\u001b[0m\u001b[0;34m\u001b[0m\u001b[0;34m\u001b[0m\u001b[0m\n\u001b[0m",
      "\u001b[0;31mNameError\u001b[0m: name 'target_dists_per_id' is not defined"
     ]
    }
   ],
   "source": [
    "# positive label rate = 0.3%\n",
    "target_dists_per_id[\"number\"].sum() * 100 / (len(target_feats) * train_feat.shape[0])"
   ]
  },
  {
   "cell_type": "markdown",
   "execution_count": null,
   "metadata": {
    "papermill": {
     "duration": 0.011133,
     "end_time": "2020-09-10T02:03:07.320194",
     "exception": false,
     "start_time": "2020-09-10T02:03:07.309061",
     "status": "completed"
    },
    "tags": []
   },
   "source": [
    "# auxiliary training data"
   ]
  },
  {
   "cell_type": "code",
   "execution_count": 13,
   "metadata": {
    "execution": {
     "iopub.execute_input": "2020-09-10T02:03:07.348839Z",
     "iopub.status.busy": "2020-09-10T02:03:07.347931Z",
     "iopub.status.idle": "2020-09-10T02:03:07.352837Z",
     "shell.execute_reply": "2020-09-10T02:03:07.352060Z"
    },
    "papermill": {
     "duration": 0.021337,
     "end_time": "2020-09-10T02:03:07.352962",
     "exception": false,
     "start_time": "2020-09-10T02:03:07.331625",
     "status": "completed"
    },
    "tags": []
   },
   "outputs": [
    {
     "data": {
      "text/plain": [
       "(23814, 403)"
      ]
     },
     "execution_count": 13,
     "metadata": {},
     "output_type": "execute_result"
    }
   ],
   "source": [
    "train_nonscore.shape"
   ]
  },
  {
   "cell_type": "code",
   "execution_count": 14,
   "metadata": {
    "execution": {
     "iopub.execute_input": "2020-09-10T02:03:07.399399Z",
     "iopub.status.busy": "2020-09-10T02:03:07.398263Z",
     "iopub.status.idle": "2020-09-10T02:03:07.403047Z",
     "shell.execute_reply": "2020-09-10T02:03:07.402311Z"
    },
    "papermill": {
     "duration": 0.038349,
     "end_time": "2020-09-10T02:03:07.403177",
     "exception": false,
     "start_time": "2020-09-10T02:03:07.364828",
     "status": "completed"
    },
    "tags": []
   },
   "outputs": [
    {
     "data": {
      "text/html": [
       "<div>\n",
       "<style scoped>\n",
       "    .dataframe tbody tr th:only-of-type {\n",
       "        vertical-align: middle;\n",
       "    }\n",
       "\n",
       "    .dataframe tbody tr th {\n",
       "        vertical-align: top;\n",
       "    }\n",
       "\n",
       "    .dataframe thead th {\n",
       "        text-align: right;\n",
       "    }\n",
       "</style>\n",
       "<table border=\"1\" class=\"dataframe\">\n",
       "  <thead>\n",
       "    <tr style=\"text-align: right;\">\n",
       "      <th></th>\n",
       "      <th>sig_id</th>\n",
       "      <th>abc_transporter_expression_enhancer</th>\n",
       "      <th>abl_inhibitor</th>\n",
       "      <th>ace_inhibitor</th>\n",
       "      <th>acetylcholine_release_enhancer</th>\n",
       "      <th>adenosine_deaminase_inhibitor</th>\n",
       "      <th>adenosine_kinase_inhibitor</th>\n",
       "      <th>adenylyl_cyclase_inhibitor</th>\n",
       "      <th>age_inhibitor</th>\n",
       "      <th>alcohol_dehydrogenase_inhibitor</th>\n",
       "      <th>...</th>\n",
       "      <th>ve-cadherin_antagonist</th>\n",
       "      <th>vesicular_monoamine_transporter_inhibitor</th>\n",
       "      <th>vitamin_k_antagonist</th>\n",
       "      <th>voltage-gated_calcium_channel_ligand</th>\n",
       "      <th>voltage-gated_potassium_channel_activator</th>\n",
       "      <th>voltage-gated_sodium_channel_blocker</th>\n",
       "      <th>wdr5_mll_interaction_inhibitor</th>\n",
       "      <th>wnt_agonist</th>\n",
       "      <th>xanthine_oxidase_inhibitor</th>\n",
       "      <th>xiap_inhibitor</th>\n",
       "    </tr>\n",
       "  </thead>\n",
       "  <tbody>\n",
       "    <tr>\n",
       "      <th>0</th>\n",
       "      <td>id_000644bb2</td>\n",
       "      <td>0</td>\n",
       "      <td>0</td>\n",
       "      <td>0</td>\n",
       "      <td>0</td>\n",
       "      <td>0</td>\n",
       "      <td>0</td>\n",
       "      <td>0</td>\n",
       "      <td>0</td>\n",
       "      <td>0</td>\n",
       "      <td>...</td>\n",
       "      <td>0</td>\n",
       "      <td>0</td>\n",
       "      <td>0</td>\n",
       "      <td>0</td>\n",
       "      <td>0</td>\n",
       "      <td>0</td>\n",
       "      <td>0</td>\n",
       "      <td>0</td>\n",
       "      <td>0</td>\n",
       "      <td>0</td>\n",
       "    </tr>\n",
       "    <tr>\n",
       "      <th>1</th>\n",
       "      <td>id_000779bfc</td>\n",
       "      <td>0</td>\n",
       "      <td>0</td>\n",
       "      <td>0</td>\n",
       "      <td>0</td>\n",
       "      <td>0</td>\n",
       "      <td>0</td>\n",
       "      <td>0</td>\n",
       "      <td>0</td>\n",
       "      <td>0</td>\n",
       "      <td>...</td>\n",
       "      <td>0</td>\n",
       "      <td>0</td>\n",
       "      <td>0</td>\n",
       "      <td>0</td>\n",
       "      <td>0</td>\n",
       "      <td>0</td>\n",
       "      <td>0</td>\n",
       "      <td>0</td>\n",
       "      <td>0</td>\n",
       "      <td>0</td>\n",
       "    </tr>\n",
       "    <tr>\n",
       "      <th>2</th>\n",
       "      <td>id_000a6266a</td>\n",
       "      <td>0</td>\n",
       "      <td>0</td>\n",
       "      <td>0</td>\n",
       "      <td>0</td>\n",
       "      <td>0</td>\n",
       "      <td>0</td>\n",
       "      <td>0</td>\n",
       "      <td>0</td>\n",
       "      <td>0</td>\n",
       "      <td>...</td>\n",
       "      <td>0</td>\n",
       "      <td>0</td>\n",
       "      <td>0</td>\n",
       "      <td>0</td>\n",
       "      <td>0</td>\n",
       "      <td>0</td>\n",
       "      <td>0</td>\n",
       "      <td>0</td>\n",
       "      <td>0</td>\n",
       "      <td>0</td>\n",
       "    </tr>\n",
       "    <tr>\n",
       "      <th>3</th>\n",
       "      <td>id_0015fd391</td>\n",
       "      <td>0</td>\n",
       "      <td>0</td>\n",
       "      <td>0</td>\n",
       "      <td>0</td>\n",
       "      <td>0</td>\n",
       "      <td>0</td>\n",
       "      <td>0</td>\n",
       "      <td>0</td>\n",
       "      <td>0</td>\n",
       "      <td>...</td>\n",
       "      <td>0</td>\n",
       "      <td>0</td>\n",
       "      <td>0</td>\n",
       "      <td>0</td>\n",
       "      <td>0</td>\n",
       "      <td>0</td>\n",
       "      <td>0</td>\n",
       "      <td>0</td>\n",
       "      <td>0</td>\n",
       "      <td>0</td>\n",
       "    </tr>\n",
       "    <tr>\n",
       "      <th>4</th>\n",
       "      <td>id_001626bd3</td>\n",
       "      <td>0</td>\n",
       "      <td>0</td>\n",
       "      <td>0</td>\n",
       "      <td>0</td>\n",
       "      <td>0</td>\n",
       "      <td>0</td>\n",
       "      <td>0</td>\n",
       "      <td>0</td>\n",
       "      <td>0</td>\n",
       "      <td>...</td>\n",
       "      <td>0</td>\n",
       "      <td>0</td>\n",
       "      <td>0</td>\n",
       "      <td>0</td>\n",
       "      <td>0</td>\n",
       "      <td>0</td>\n",
       "      <td>0</td>\n",
       "      <td>0</td>\n",
       "      <td>0</td>\n",
       "      <td>0</td>\n",
       "    </tr>\n",
       "  </tbody>\n",
       "</table>\n",
       "<p>5 rows × 403 columns</p>\n",
       "</div>"
      ],
      "text/plain": [
       "         sig_id  abc_transporter_expression_enhancer  abl_inhibitor  \\\n",
       "0  id_000644bb2                                    0              0   \n",
       "1  id_000779bfc                                    0              0   \n",
       "2  id_000a6266a                                    0              0   \n",
       "3  id_0015fd391                                    0              0   \n",
       "4  id_001626bd3                                    0              0   \n",
       "\n",
       "   ace_inhibitor  acetylcholine_release_enhancer  \\\n",
       "0              0                               0   \n",
       "1              0                               0   \n",
       "2              0                               0   \n",
       "3              0                               0   \n",
       "4              0                               0   \n",
       "\n",
       "   adenosine_deaminase_inhibitor  adenosine_kinase_inhibitor  \\\n",
       "0                              0                           0   \n",
       "1                              0                           0   \n",
       "2                              0                           0   \n",
       "3                              0                           0   \n",
       "4                              0                           0   \n",
       "\n",
       "   adenylyl_cyclase_inhibitor  age_inhibitor  alcohol_dehydrogenase_inhibitor  \\\n",
       "0                           0              0                                0   \n",
       "1                           0              0                                0   \n",
       "2                           0              0                                0   \n",
       "3                           0              0                                0   \n",
       "4                           0              0                                0   \n",
       "\n",
       "   ...  ve-cadherin_antagonist  vesicular_monoamine_transporter_inhibitor  \\\n",
       "0  ...                       0                                          0   \n",
       "1  ...                       0                                          0   \n",
       "2  ...                       0                                          0   \n",
       "3  ...                       0                                          0   \n",
       "4  ...                       0                                          0   \n",
       "\n",
       "   vitamin_k_antagonist  voltage-gated_calcium_channel_ligand  \\\n",
       "0                     0                                     0   \n",
       "1                     0                                     0   \n",
       "2                     0                                     0   \n",
       "3                     0                                     0   \n",
       "4                     0                                     0   \n",
       "\n",
       "   voltage-gated_potassium_channel_activator  \\\n",
       "0                                          0   \n",
       "1                                          0   \n",
       "2                                          0   \n",
       "3                                          0   \n",
       "4                                          0   \n",
       "\n",
       "   voltage-gated_sodium_channel_blocker  wdr5_mll_interaction_inhibitor  \\\n",
       "0                                     0                               0   \n",
       "1                                     0                               0   \n",
       "2                                     0                               0   \n",
       "3                                     0                               0   \n",
       "4                                     0                               0   \n",
       "\n",
       "   wnt_agonist  xanthine_oxidase_inhibitor  xiap_inhibitor  \n",
       "0            0                           0               0  \n",
       "1            0                           0               0  \n",
       "2            0                           0               0  \n",
       "3            0                           0               0  \n",
       "4            0                           0               0  \n",
       "\n",
       "[5 rows x 403 columns]"
      ]
     },
     "execution_count": 14,
     "metadata": {},
     "output_type": "execute_result"
    }
   ],
   "source": [
    "train_nonscore.head()"
   ]
  },
  {
   "cell_type": "code",
   "execution_count": 15,
   "metadata": {
    "execution": {
     "iopub.execute_input": "2020-09-10T02:03:07.436924Z",
     "iopub.status.busy": "2020-09-10T02:03:07.435790Z",
     "iopub.status.idle": "2020-09-10T02:03:07.456982Z",
     "shell.execute_reply": "2020-09-10T02:03:07.456245Z"
    },
    "papermill": {
     "duration": 0.041427,
     "end_time": "2020-09-10T02:03:07.457118",
     "exception": false,
     "start_time": "2020-09-10T02:03:07.415691",
     "status": "completed"
    },
    "tags": []
   },
   "outputs": [
    {
     "data": {
      "text/plain": [
       "True"
      ]
     },
     "execution_count": 15,
     "metadata": {},
     "output_type": "execute_result"
    }
   ],
   "source": [
    "set(train_nonscore.sig_id.unique()) == set(train_score.sig_id.unique()) # idは完全一致"
   ]
  },
  {
   "cell_type": "code",
   "execution_count": 16,
   "metadata": {
    "execution": {
     "iopub.execute_input": "2020-09-10T02:03:07.489108Z",
     "iopub.status.busy": "2020-09-10T02:03:07.488005Z",
     "iopub.status.idle": "2020-09-10T02:03:07.492311Z",
     "shell.execute_reply": "2020-09-10T02:03:07.491572Z"
    },
    "papermill": {
     "duration": 0.022605,
     "end_time": "2020-09-10T02:03:07.492444",
     "exception": false,
     "start_time": "2020-09-10T02:03:07.469839",
     "status": "completed"
    },
    "tags": []
   },
   "outputs": [
    {
     "data": {
      "text/plain": [
       "{'sig_id'}"
      ]
     },
     "execution_count": 16,
     "metadata": {},
     "output_type": "execute_result"
    }
   ],
   "source": [
    "set(train_score.columns) & set(train_nonscore.columns)"
   ]
  },
  {
   "cell_type": "markdown",
   "execution_count": null,
   "metadata": {
    "papermill": {
     "duration": 0.01235,
     "end_time": "2020-09-10T02:03:07.517542",
     "exception": false,
     "start_time": "2020-09-10T02:03:07.505192",
     "status": "completed"
    },
    "tags": []
   },
   "source": [
    "# test data"
   ]
  },
  {
   "cell_type": "code",
   "execution_count": 17,
   "metadata": {
    "execution": {
     "iopub.execute_input": "2020-09-10T02:03:07.549049Z",
     "iopub.status.busy": "2020-09-10T02:03:07.548217Z",
     "iopub.status.idle": "2020-09-10T02:03:07.552573Z",
     "shell.execute_reply": "2020-09-10T02:03:07.551847Z"
    },
    "papermill": {
     "duration": 0.022304,
     "end_time": "2020-09-10T02:03:07.552695",
     "exception": false,
     "start_time": "2020-09-10T02:03:07.530391",
     "status": "completed"
    },
    "tags": []
   },
   "outputs": [
    {
     "data": {
      "text/plain": [
       "(3982, 876)"
      ]
     },
     "execution_count": 17,
     "metadata": {},
     "output_type": "execute_result"
    }
   ],
   "source": [
    "test_feat.shape"
   ]
  },
  {
   "cell_type": "markdown",
   "execution_count": null,
   "metadata": {
    "papermill": {
     "duration": 0.012389,
     "end_time": "2020-09-10T02:03:07.577813",
     "exception": false,
     "start_time": "2020-09-10T02:03:07.565424",
     "status": "completed"
    },
    "tags": []
   },
   "source": [
    "# to combine"
   ]
  },
  {
   "cell_type": "code",
   "execution_count": 18,
   "metadata": {
    "execution": {
     "iopub.execute_input": "2020-09-10T02:03:07.610374Z",
     "iopub.status.busy": "2020-09-10T02:03:07.609610Z",
     "iopub.status.idle": "2020-09-10T02:03:07.879958Z",
     "shell.execute_reply": "2020-09-10T02:03:07.879051Z"
    },
    "papermill": {
     "duration": 0.289437,
     "end_time": "2020-09-10T02:03:07.880135",
     "exception": false,
     "start_time": "2020-09-10T02:03:07.590698",
     "status": "completed"
    },
    "tags": []
   },
   "outputs": [
    {
     "name": "stdout",
     "output_type": "stream",
     "text": [
      "(23814, 1082)\n",
      "sig_id, cp_type, cp_time, cp_dose, g-0, g-1, g-2, g-3, g-4, g-5, g-6, g-7, g-8, g-9, g-10, g-11, g-12, g-13, g-14, g-15, g-16, g-17, g-18, g-19, g-20, g-21, g-22, g-23, g-24, g-25, g-26, g-27, g-28, g-29, g-30, g-31, g-32, g-33, g-34, g-35, g-36, g-37, g-38, g-39, g-40, g-41, g-42, g-43, g-44, g-45, g-46, g-47, g-48, g-49, g-50, g-51, g-52, g-53, g-54, g-55, g-56, g-57, g-58, g-59, g-60, g-61, g-62, g-63, g-64, g-65, g-66, g-67, g-68, g-69, g-70, g-71, g-72, g-73, g-74, g-75, g-76, g-77, g-78, g-79, g-80, g-81, g-82, g-83, g-84, g-85, g-86, g-87, g-88, g-89, g-90, g-91, g-92, g-93, g-94, g-95, g-96, g-97, g-98, g-99, g-100, g-101, g-102, g-103, g-104, g-105, g-106, g-107, g-108, g-109, g-110, g-111, g-112, g-113, g-114, g-115, g-116, g-117, g-118, g-119, g-120, g-121, g-122, g-123, g-124, g-125, g-126, g-127, g-128, g-129, g-130, g-131, g-132, g-133, g-134, g-135, g-136, g-137, g-138, g-139, g-140, g-141, g-142, g-143, g-144, g-145, g-146, g-147, g-148, g-149, g-150, g-151, g-152, g-153, g-154, g-155, g-156, g-157, g-158, g-159, g-160, g-161, g-162, g-163, g-164, g-165, g-166, g-167, g-168, g-169, g-170, g-171, g-172, g-173, g-174, g-175, g-176, g-177, g-178, g-179, g-180, g-181, g-182, g-183, g-184, g-185, g-186, g-187, g-188, g-189, g-190, g-191, g-192, g-193, g-194, g-195, g-196, g-197, g-198, g-199, g-200, g-201, g-202, g-203, g-204, g-205, g-206, g-207, g-208, g-209, g-210, g-211, g-212, g-213, g-214, g-215, g-216, g-217, g-218, g-219, g-220, g-221, g-222, g-223, g-224, g-225, g-226, g-227, g-228, g-229, g-230, g-231, g-232, g-233, g-234, g-235, g-236, g-237, g-238, g-239, g-240, g-241, g-242, g-243, g-244, g-245, g-246, g-247, g-248, g-249, g-250, g-251, g-252, g-253, g-254, g-255, g-256, g-257, g-258, g-259, g-260, g-261, g-262, g-263, g-264, g-265, g-266, g-267, g-268, g-269, g-270, g-271, g-272, g-273, g-274, g-275, g-276, g-277, g-278, g-279, g-280, g-281, g-282, g-283, g-284, g-285, g-286, g-287, g-288, g-289, g-290, g-291, g-292, g-293, g-294, g-295, g-296, g-297, g-298, g-299, g-300, g-301, g-302, g-303, g-304, g-305, g-306, g-307, g-308, g-309, g-310, g-311, g-312, g-313, g-314, g-315, g-316, g-317, g-318, g-319, g-320, g-321, g-322, g-323, g-324, g-325, g-326, g-327, g-328, g-329, g-330, g-331, g-332, g-333, g-334, g-335, g-336, g-337, g-338, g-339, g-340, g-341, g-342, g-343, g-344, g-345, g-346, g-347, g-348, g-349, g-350, g-351, g-352, g-353, g-354, g-355, g-356, g-357, g-358, g-359, g-360, g-361, g-362, g-363, g-364, g-365, g-366, g-367, g-368, g-369, g-370, g-371, g-372, g-373, g-374, g-375, g-376, g-377, g-378, g-379, g-380, g-381, g-382, g-383, g-384, g-385, g-386, g-387, g-388, g-389, g-390, g-391, g-392, g-393, g-394, g-395, g-396, g-397, g-398, g-399, g-400, g-401, g-402, g-403, g-404, g-405, g-406, g-407, g-408, g-409, g-410, g-411, g-412, g-413, g-414, g-415, g-416, g-417, g-418, g-419, g-420, g-421, g-422, g-423, g-424, g-425, g-426, g-427, g-428, g-429, g-430, g-431, g-432, g-433, g-434, g-435, g-436, g-437, g-438, g-439, g-440, g-441, g-442, g-443, g-444, g-445, g-446, g-447, g-448, g-449, g-450, g-451, g-452, g-453, g-454, g-455, g-456, g-457, g-458, g-459, g-460, g-461, g-462, g-463, g-464, g-465, g-466, g-467, g-468, g-469, g-470, g-471, g-472, g-473, g-474, g-475, g-476, g-477, g-478, g-479, g-480, g-481, g-482, g-483, g-484, g-485, g-486, g-487, g-488, g-489, g-490, g-491, g-492, g-493, g-494, g-495, g-496, g-497, g-498, g-499, g-500, g-501, g-502, g-503, g-504, g-505, g-506, g-507, g-508, g-509, g-510, g-511, g-512, g-513, g-514, g-515, g-516, g-517, g-518, g-519, g-520, g-521, g-522, g-523, g-524, g-525, g-526, g-527, g-528, g-529, g-530, g-531, g-532, g-533, g-534, g-535, g-536, g-537, g-538, g-539, g-540, g-541, g-542, g-543, g-544, g-545, g-546, g-547, g-548, g-549, g-550, g-551, g-552, g-553, g-554, g-555, g-556, g-557, g-558, g-559, g-560, g-561, g-562, g-563, g-564, g-565, g-566, g-567, g-568, g-569, g-570, g-571, g-572, g-573, g-574, g-575, g-576, g-577, g-578, g-579, g-580, g-581, g-582, g-583, g-584, g-585, g-586, g-587, g-588, g-589, g-590, g-591, g-592, g-593, g-594, g-595, g-596, g-597, g-598, g-599, g-600, g-601, g-602, g-603, g-604, g-605, g-606, g-607, g-608, g-609, g-610, g-611, g-612, g-613, g-614, g-615, g-616, g-617, g-618, g-619, g-620, g-621, g-622, g-623, g-624, g-625, g-626, g-627, g-628, g-629, g-630, g-631, g-632, g-633, g-634, g-635, g-636, g-637, g-638, g-639, g-640, g-641, g-642, g-643, g-644, g-645, g-646, g-647, g-648, g-649, g-650, g-651, g-652, g-653, g-654, g-655, g-656, g-657, g-658, g-659, g-660, g-661, g-662, g-663, g-664, g-665, g-666, g-667, g-668, g-669, g-670, g-671, g-672, g-673, g-674, g-675, g-676, g-677, g-678, g-679, g-680, g-681, g-682, g-683, g-684, g-685, g-686, g-687, g-688, g-689, g-690, g-691, g-692, g-693, g-694, g-695, g-696, g-697, g-698, g-699, g-700, g-701, g-702, g-703, g-704, g-705, g-706, g-707, g-708, g-709, g-710, g-711, g-712, g-713, g-714, g-715, g-716, g-717, g-718, g-719, g-720, g-721, g-722, g-723, g-724, g-725, g-726, g-727, g-728, g-729, g-730, g-731, g-732, g-733, g-734, g-735, g-736, g-737, g-738, g-739, g-740, g-741, g-742, g-743, g-744, g-745, g-746, g-747, g-748, g-749, g-750, g-751, g-752, g-753, g-754, g-755, g-756, g-757, g-758, g-759, g-760, g-761, g-762, g-763, g-764, g-765, g-766, g-767, g-768, g-769, g-770, g-771, c-0, c-1, c-2, c-3, c-4, c-5, c-6, c-7, c-8, c-9, c-10, c-11, c-12, c-13, c-14, c-15, c-16, c-17, c-18, c-19, c-20, c-21, c-22, c-23, c-24, c-25, c-26, c-27, c-28, c-29, c-30, c-31, c-32, c-33, c-34, c-35, c-36, c-37, c-38, c-39, c-40, c-41, c-42, c-43, c-44, c-45, c-46, c-47, c-48, c-49, c-50, c-51, c-52, c-53, c-54, c-55, c-56, c-57, c-58, c-59, c-60, c-61, c-62, c-63, c-64, c-65, c-66, c-67, c-68, c-69, c-70, c-71, c-72, c-73, c-74, c-75, c-76, c-77, c-78, c-79, c-80, c-81, c-82, c-83, c-84, c-85, c-86, c-87, c-88, c-89, c-90, c-91, c-92, c-93, c-94, c-95, c-96, c-97, c-98, c-99, 5-alpha_reductase_inhibitor, 11-beta-hsd1_inhibitor, acat_inhibitor, acetylcholine_receptor_agonist, acetylcholine_receptor_antagonist, acetylcholinesterase_inhibitor, adenosine_receptor_agonist, adenosine_receptor_antagonist, adenylyl_cyclase_activator, adrenergic_receptor_agonist, adrenergic_receptor_antagonist, akt_inhibitor, aldehyde_dehydrogenase_inhibitor, alk_inhibitor, ampk_activator, analgesic, androgen_receptor_agonist, androgen_receptor_antagonist, anesthetic_-_local, angiogenesis_inhibitor, angiotensin_receptor_antagonist, anti-inflammatory, antiarrhythmic, antibiotic, anticonvulsant, antifungal, antihistamine, antimalarial, antioxidant, antiprotozoal, antiviral, apoptosis_stimulant, aromatase_inhibitor, atm_kinase_inhibitor, atp-sensitive_potassium_channel_antagonist, atp_synthase_inhibitor, atpase_inhibitor, atr_kinase_inhibitor, aurora_kinase_inhibitor, autotaxin_inhibitor, bacterial_30s_ribosomal_subunit_inhibitor, bacterial_50s_ribosomal_subunit_inhibitor, bacterial_antifolate, bacterial_cell_wall_synthesis_inhibitor, bacterial_dna_gyrase_inhibitor, bacterial_dna_inhibitor, bacterial_membrane_integrity_inhibitor, bcl_inhibitor, bcr-abl_inhibitor, benzodiazepine_receptor_agonist, beta_amyloid_inhibitor, bromodomain_inhibitor, btk_inhibitor, calcineurin_inhibitor, calcium_channel_blocker, cannabinoid_receptor_agonist, cannabinoid_receptor_antagonist, carbonic_anhydrase_inhibitor, casein_kinase_inhibitor, caspase_activator, catechol_o_methyltransferase_inhibitor, cc_chemokine_receptor_antagonist, cck_receptor_antagonist, cdk_inhibitor, chelating_agent, chk_inhibitor, chloride_channel_blocker, cholesterol_inhibitor, cholinergic_receptor_antagonist, coagulation_factor_inhibitor, corticosteroid_agonist, cyclooxygenase_inhibitor, cytochrome_p450_inhibitor, dihydrofolate_reductase_inhibitor, dipeptidyl_peptidase_inhibitor, diuretic, dna_alkylating_agent, dna_inhibitor, dopamine_receptor_agonist, dopamine_receptor_antagonist, egfr_inhibitor, elastase_inhibitor, erbb2_inhibitor, estrogen_receptor_agonist, estrogen_receptor_antagonist, faah_inhibitor, farnesyltransferase_inhibitor, fatty_acid_receptor_agonist, fgfr_inhibitor, flt3_inhibitor, focal_adhesion_kinase_inhibitor, free_radical_scavenger, fungal_squalene_epoxidase_inhibitor, gaba_receptor_agonist, gaba_receptor_antagonist, gamma_secretase_inhibitor, glucocorticoid_receptor_agonist, glutamate_inhibitor, glutamate_receptor_agonist, glutamate_receptor_antagonist, gonadotropin_receptor_agonist, gsk_inhibitor, hcv_inhibitor, hdac_inhibitor, histamine_receptor_agonist, histamine_receptor_antagonist, histone_lysine_demethylase_inhibitor, histone_lysine_methyltransferase_inhibitor, hiv_inhibitor, hmgcr_inhibitor, hsp_inhibitor, igf-1_inhibitor, ikk_inhibitor, imidazoline_receptor_agonist, immunosuppressant, insulin_secretagogue, insulin_sensitizer, integrin_inhibitor, jak_inhibitor, kit_inhibitor, laxative, leukotriene_inhibitor, leukotriene_receptor_antagonist, lipase_inhibitor, lipoxygenase_inhibitor, lxr_agonist, mdm_inhibitor, mek_inhibitor, membrane_integrity_inhibitor, mineralocorticoid_receptor_antagonist, monoacylglycerol_lipase_inhibitor, monoamine_oxidase_inhibitor, monopolar_spindle_1_kinase_inhibitor, mtor_inhibitor, mucolytic_agent, neuropeptide_receptor_antagonist, nfkb_inhibitor, nicotinic_receptor_agonist, nitric_oxide_donor, nitric_oxide_production_inhibitor, nitric_oxide_synthase_inhibitor, norepinephrine_reuptake_inhibitor, nrf2_activator, opioid_receptor_agonist, opioid_receptor_antagonist, orexin_receptor_antagonist, p38_mapk_inhibitor, p-glycoprotein_inhibitor, parp_inhibitor, pdgfr_inhibitor, pdk_inhibitor, phosphodiesterase_inhibitor, phospholipase_inhibitor, pi3k_inhibitor, pkc_inhibitor, potassium_channel_activator, potassium_channel_antagonist, ppar_receptor_agonist, ppar_receptor_antagonist, progesterone_receptor_agonist, progesterone_receptor_antagonist, prostaglandin_inhibitor, prostanoid_receptor_antagonist, proteasome_inhibitor, protein_kinase_inhibitor, protein_phosphatase_inhibitor, protein_synthesis_inhibitor, protein_tyrosine_kinase_inhibitor, radiopaque_medium, raf_inhibitor, ras_gtpase_inhibitor, retinoid_receptor_agonist, retinoid_receptor_antagonist, rho_associated_kinase_inhibitor, ribonucleoside_reductase_inhibitor, rna_polymerase_inhibitor, serotonin_receptor_agonist, serotonin_receptor_antagonist, serotonin_reuptake_inhibitor, sigma_receptor_agonist, sigma_receptor_antagonist, smoothened_receptor_antagonist, sodium_channel_inhibitor, sphingosine_receptor_agonist, src_inhibitor, steroid, syk_inhibitor, tachykinin_antagonist, tgf-beta_receptor_inhibitor, thrombin_inhibitor, thymidylate_synthase_inhibitor, tlr_agonist, tlr_antagonist, tnf_inhibitor, topoisomerase_inhibitor, transient_receptor_potential_channel_antagonist, tropomyosin_receptor_kinase_inhibitor, trpv_agonist, trpv_antagonist, tubulin_inhibitor, tyrosine_kinase_inhibitor, ubiquitin_specific_protease_inhibitor, vegfr_inhibitor, vitamin_b, vitamin_d_receptor_agonist, wnt_inhibitor, "
     ]
    }
   ],
   "source": [
    "train = pd.merge(train_feat, train_score, on=\"sig_id\")\n",
    "print(train.shape)\n",
    "\n",
    "for i in train.columns:\n",
    "    print(i, end=\", \")"
   ]
  }
 ],
 "metadata": {
  "kernelspec": {
   "display_name": "Python 3",
   "language": "python",
   "name": "python3"
  },
  "language_info": {
   "codemirror_mode": {
    "name": "ipython",
    "version": 3
   },
   "file_extension": ".py",
   "mimetype": "text/x-python",
   "name": "python",
   "nbconvert_exporter": "python",
   "pygments_lexer": "ipython3",
   "version": "3.7.6"
  },
  "papermill": {
   "duration": 14.11341,
   "end_time": "2020-09-10T02:03:08.002045",
   "environment_variables": {},
   "exception": null,
   "input_path": "__notebook__.ipynb",
   "output_path": "__notebook__.ipynb",
   "parameters": {},
   "start_time": "2020-09-10T02:02:53.888635",
   "version": "2.1.0"
  }
 },
 "nbformat": 4,
 "nbformat_minor": 4
}
