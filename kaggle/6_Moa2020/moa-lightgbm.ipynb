{
 "cells": [
  {
   "cell_type": "markdown",
   "metadata": {
    "papermill": {
     "duration": 0.02107,
     "end_time": "2020-10-03T07:01:10.737443",
     "exception": false,
     "start_time": "2020-10-03T07:01:10.716373",
     "status": "completed"
    },
    "tags": []
   },
   "source": [
    "- try multioutputclassifier without gpu\n",
    "- cancel 2nd layer structures\n",
    "- add regression function"
   ]
  },
  {
   "cell_type": "code",
   "execution_count": 1,
   "metadata": {
    "_cell_guid": "b1076dfc-b9ad-4769-8c92-a6c4dae69d19",
    "_uuid": "8f2839f25d086af736a60e9eeb907d3b93b6e0e5",
    "execution": {
     "iopub.execute_input": "2020-10-03T07:01:10.791531Z",
     "iopub.status.busy": "2020-10-03T07:01:10.790247Z",
     "iopub.status.idle": "2020-10-03T07:01:12.386952Z",
     "shell.execute_reply": "2020-10-03T07:01:12.385863Z"
    },
    "papermill": {
     "duration": 1.628824,
     "end_time": "2020-10-03T07:01:12.387137",
     "exception": false,
     "start_time": "2020-10-03T07:01:10.758313",
     "status": "completed"
    },
    "tags": []
   },
   "outputs": [
    {
     "name": "stderr",
     "output_type": "stream",
     "text": [
      "/opt/conda/lib/python3.7/site-packages/ipykernel_launcher.py:13: TqdmDeprecationWarning: This function will be removed in tqdm==5.0.0\n",
      "Please use `tqdm.notebook.*` instead of `tqdm._tqdm_notebook.*`\n",
      "  del sys.path[0]\n"
     ]
    }
   ],
   "source": [
    "import os\n",
    "import sys\n",
    "import warnings\n",
    "import numpy as np\n",
    "import pandas as pd\n",
    "import seaborn as sns\n",
    "import lightgbm as lgb\n",
    "import matplotlib.pyplot as plt\n",
    "from sklearn import preprocessing\n",
    "from lightgbm import LGBMClassifier\n",
    "from sklearn.metrics import log_loss, mean_squared_error\n",
    "from sklearn.decomposition import PCA\n",
    "from tqdm._tqdm_notebook import tqdm_notebook\n",
    "from sklearn.multioutput import MultiOutputClassifier\n",
    "from sklearn.model_selection import StratifiedKFold, KFold\n",
    "sys.path.append('../input/multilabelstraifier/')\n",
    "from ml_stratifiers import MultilabelStratifiedKFold\n",
    "warnings.filterwarnings('ignore')"
   ]
  },
  {
   "cell_type": "code",
   "execution_count": 2,
   "metadata": {
    "execution": {
     "iopub.execute_input": "2020-10-03T07:01:12.434861Z",
     "iopub.status.busy": "2020-10-03T07:01:12.434019Z",
     "iopub.status.idle": "2020-10-03T07:01:12.437087Z",
     "shell.execute_reply": "2020-10-03T07:01:12.436307Z"
    },
    "papermill": {
     "duration": 0.028667,
     "end_time": "2020-10-03T07:01:12.437228",
     "exception": false,
     "start_time": "2020-10-03T07:01:12.408561",
     "status": "completed"
    },
    "tags": []
   },
   "outputs": [],
   "source": [
    "SEED = 42\n",
    "NFOLDS = 5\n",
    "np.random.seed(SEED)"
   ]
  },
  {
   "cell_type": "code",
   "execution_count": 3,
   "metadata": {
    "_cell_guid": "79c7e3d0-c299-4dcb-8224-4455121ee9b0",
    "_uuid": "d629ff2d2480ee46fbb7e2d37f6b5fab8052498a",
    "execution": {
     "iopub.execute_input": "2020-10-03T07:01:12.490096Z",
     "iopub.status.busy": "2020-10-03T07:01:12.488991Z",
     "iopub.status.idle": "2020-10-03T07:01:19.743927Z",
     "shell.execute_reply": "2020-10-03T07:01:19.743114Z"
    },
    "papermill": {
     "duration": 7.286333,
     "end_time": "2020-10-03T07:01:19.744086",
     "exception": false,
     "start_time": "2020-10-03T07:01:12.457753",
     "status": "completed"
    },
    "tags": []
   },
   "outputs": [],
   "source": [
    "DIR = \"/kaggle/input/lish-moa/\"\n",
    "train = pd.read_csv(DIR+\"train_features.csv\")\n",
    "test = pd.read_csv(DIR+\"test_features.csv\")\n",
    "nontargets = pd.read_csv(DIR+\"train_targets_nonscored.csv\")\n",
    "targets = pd.read_csv(DIR+\"train_targets_scored.csv\")\n",
    "sub = pd.read_csv(DIR+\"sample_submission.csv\")"
   ]
  },
  {
   "cell_type": "code",
   "execution_count": 4,
   "metadata": {
    "execution": {
     "iopub.execute_input": "2020-10-03T07:01:19.793395Z",
     "iopub.status.busy": "2020-10-03T07:01:19.792599Z",
     "iopub.status.idle": "2020-10-03T07:01:19.795890Z",
     "shell.execute_reply": "2020-10-03T07:01:19.795144Z"
    },
    "papermill": {
     "duration": 0.030981,
     "end_time": "2020-10-03T07:01:19.796020",
     "exception": false,
     "start_time": "2020-10-03T07:01:19.765039",
     "status": "completed"
    },
    "tags": []
   },
   "outputs": [],
   "source": [
    "target_feats = [ i for i in targets.columns if i != \"sig_id\"]\n",
    "g_feats = [i for i in train.columns if \"g-\" in i]\n",
    "c_feats = [i for i in train.columns if \"c-\" in i]"
   ]
  },
  {
   "cell_type": "code",
   "execution_count": 5,
   "metadata": {
    "execution": {
     "iopub.execute_input": "2020-10-03T07:01:19.847450Z",
     "iopub.status.busy": "2020-10-03T07:01:19.846441Z",
     "iopub.status.idle": "2020-10-03T07:01:19.999347Z",
     "shell.execute_reply": "2020-10-03T07:01:19.998699Z"
    },
    "papermill": {
     "duration": 0.182331,
     "end_time": "2020-10-03T07:01:19.999484",
     "exception": false,
     "start_time": "2020-10-03T07:01:19.817153",
     "status": "completed"
    },
    "tags": []
   },
   "outputs": [],
   "source": [
    "noncons_train_index = train[train.cp_type==\"ctl_vehicle\"].index\n",
    "cons_train_index = train[train.cp_type!=\"ctl_vehicle\"].index\n",
    "noncons_test_index = test[test.cp_type==\"ctl_vehicle\"].index\n",
    "cons_test_index = test[test.cp_type!=\"ctl_vehicle\"].index"
   ]
  },
  {
   "cell_type": "markdown",
   "metadata": {
    "papermill": {
     "duration": 0.021013,
     "end_time": "2020-10-03T07:01:20.041613",
     "exception": false,
     "start_time": "2020-10-03T07:01:20.020600",
     "status": "completed"
    },
    "tags": []
   },
   "source": [
    "# preprocess"
   ]
  },
  {
   "cell_type": "code",
   "execution_count": 6,
   "metadata": {
    "execution": {
     "iopub.execute_input": "2020-10-03T07:01:20.103729Z",
     "iopub.status.busy": "2020-10-03T07:01:20.098282Z",
     "iopub.status.idle": "2020-10-03T07:01:28.678032Z",
     "shell.execute_reply": "2020-10-03T07:01:28.677235Z"
    },
    "papermill": {
     "duration": 8.615461,
     "end_time": "2020-10-03T07:01:28.678180",
     "exception": false,
     "start_time": "2020-10-03T07:01:20.062719",
     "status": "completed"
    },
    "tags": []
   },
   "outputs": [],
   "source": [
    "# normalization by ctl group\n",
    "train_ctl = train[train.index.isin(noncons_train_index)].copy().reset_index(drop=True)\n",
    "test_ctl = test[test.index.isin(noncons_test_index)].copy().reset_index(drop=True)\n",
    "ctl_df = pd.concat([train_ctl, test_ctl])\n",
    "\n",
    "ctl_group_data = ctl_df.groupby([\"cp_dose\", \"cp_time\"]).agg({\"mean\"}).reset_index()\n",
    "mean_g_feats = [\"mean-\" + i for i in g_feats]\n",
    "mean_c_feats = [\"mean-\" + i for i in c_feats]\n",
    "columns = [\"cp_dose\", \"cp_time\"] + mean_g_feats + mean_c_feats\n",
    "ctl_group_data.columns = columns\n",
    "\n",
    "#train_cons = train_feat[train_feat.index.isin(cons_train_index)].copy().reset_index(drop=True)\n",
    "#test_cons = test_feat[test_feat.index.isin(cons_test_index)].copy().reset_index(drop=True)\n",
    "#n_train_score = train_score[train_score.index.isin(cons_train_index)].copy().reset_index(drop=True)\n",
    "#n_train_nonscore = train_nonscore[train_nonscore.index.isin(cons_train_index)].copy().reset_index(drop=True)\n",
    "\n",
    "n_train = pd.merge(train, ctl_group_data, on=[\"cp_time\", \"cp_dose\"], how=\"left\")\n",
    "n_test = pd.merge(test, ctl_group_data, on=[\"cp_time\", \"cp_dose\"], how=\"left\")\n",
    "\n",
    "for i in range(len(g_feats)):\n",
    "    n_train[\"diff-g-\"+str(i)] = n_train[\"g-\"+str(i)] - n_train[\"mean-g-\"+str(i)]\n",
    "    n_test[\"diff-g-\"+str(i)] = n_test[\"g-\"+str(i)] - n_test[\"mean-g-\"+str(i)]\n",
    "    \n",
    "for i in range(len(c_feats)):\n",
    "    n_train[\"diff-c-\"+str(i)] = n_train[\"c-\"+str(i)] - n_train[\"mean-c-\"+str(i)]\n",
    "    n_test[\"diff-c-\"+str(i)] = n_test[\"c-\"+str(i)] - n_test[\"mean-c-\"+str(i)]"
   ]
  },
  {
   "cell_type": "code",
   "execution_count": 7,
   "metadata": {
    "execution": {
     "iopub.execute_input": "2020-10-03T07:01:28.738806Z",
     "iopub.status.busy": "2020-10-03T07:01:28.737745Z",
     "iopub.status.idle": "2020-10-03T07:01:28.775753Z",
     "shell.execute_reply": "2020-10-03T07:01:28.775015Z"
    },
    "papermill": {
     "duration": 0.076509,
     "end_time": "2020-10-03T07:01:28.775888",
     "exception": false,
     "start_time": "2020-10-03T07:01:28.699379",
     "status": "completed"
    },
    "tags": []
   },
   "outputs": [],
   "source": [
    "categoricals = [\"cp_dose\"]\n",
    "\n",
    "def encoding(tr, te):\n",
    "    for f in categoricals:\n",
    "        lbl = preprocessing.LabelEncoder()\n",
    "        lbl.fit(list(tr[f]))\n",
    "        tr[f] = lbl.transform(list(tr[f]))\n",
    "        te[f] = lbl.transform(list(te[f])) \n",
    "        \n",
    "    return tr, te\n",
    "\n",
    "n_train, n_test = encoding(n_train, n_test)"
   ]
  },
  {
   "cell_type": "markdown",
   "metadata": {
    "papermill": {
     "duration": 0.020925,
     "end_time": "2020-10-03T07:01:28.818137",
     "exception": false,
     "start_time": "2020-10-03T07:01:28.797212",
     "status": "completed"
    },
    "tags": []
   },
   "source": [
    "# feature engineering"
   ]
  },
  {
   "cell_type": "code",
   "execution_count": 8,
   "metadata": {
    "execution": {
     "iopub.execute_input": "2020-10-03T07:01:28.882668Z",
     "iopub.status.busy": "2020-10-03T07:01:28.869957Z",
     "iopub.status.idle": "2020-10-03T07:01:29.589877Z",
     "shell.execute_reply": "2020-10-03T07:01:29.589078Z"
    },
    "papermill": {
     "duration": 0.750517,
     "end_time": "2020-10-03T07:01:29.590003",
     "exception": false,
     "start_time": "2020-10-03T07:01:28.839486",
     "status": "completed"
    },
    "tags": []
   },
   "outputs": [
    {
     "name": "stdout",
     "output_type": "stream",
     "text": [
      "(23814, 874) (3982, 874)\n"
     ]
    }
   ],
   "source": [
    "def fe(df, remove_features):\n",
    "    df.drop(remove_features, axis=1, inplace=True)\n",
    "    return df\n",
    "\n",
    "remove_features = [\"cp_type\", \"sig_id\"] + mean_g_feats + mean_c_feats + g_feats + c_feats \n",
    "for i in [i for i in n_train.columns if i != \"sig_id\"]:\n",
    "    if i not in remove_features and (n_train[i].std() == 0):\n",
    "        remove_features.append(i)\n",
    "        \n",
    "n_train = fe(n_train, remove_features)\n",
    "n_test = fe(n_test, remove_features)\n",
    "    \n",
    "print(n_train.shape, n_test.shape)"
   ]
  },
  {
   "cell_type": "code",
   "execution_count": 9,
   "metadata": {
    "execution": {
     "iopub.execute_input": "2020-10-03T07:01:29.651146Z",
     "iopub.status.busy": "2020-10-03T07:01:29.650266Z",
     "iopub.status.idle": "2020-10-03T07:01:29.654188Z",
     "shell.execute_reply": "2020-10-03T07:01:29.653469Z"
    },
    "papermill": {
     "duration": 0.04248,
     "end_time": "2020-10-03T07:01:29.654338",
     "exception": false,
     "start_time": "2020-10-03T07:01:29.611858",
     "status": "completed"
    },
    "tags": []
   },
   "outputs": [],
   "source": [
    "def regression(tr, ta, te):\n",
    "    y_train = ta.sum(axis=1).copy()\n",
    "    X_train = tr.copy()\n",
    "    X_test = te.copy()\n",
    "\n",
    "    params = {'objective': 'regression', 'metric': 'rmse', 'boosting_type': 'gbdt', 'tree_learner': 'serial', 'learning_rate': 0.01, \n",
    "               \"num_leaves\": 10, 'random_seed':44, 'max_depth': 4} \n",
    "        \n",
    "    n_folds=4\n",
    "    skf=StratifiedKFold(n_splits = n_folds, shuffle=True, random_state=0)\n",
    "\n",
    "    train_score_pred = np.zeros([X_train.shape[0]])\n",
    "    test_score_pred = np.zeros(X_test.shape[0])\n",
    "    for i , (train_index, test_index) in enumerate(skf.split(X_train, y_train)):\n",
    "        X_train2 = X_train.iloc[train_index,:]\n",
    "        y_train2 = y_train.iloc[train_index]\n",
    "\n",
    "        X_valid2 = X_train.iloc[test_index,:]\n",
    "        y_valid2 = y_train.iloc[test_index]\n",
    "        \n",
    "        lgb_train = lgb.Dataset(X_train2, y_train2)\n",
    "        lgb_eval = lgb.Dataset(X_valid2, y_valid2, reference=lgb_train)\n",
    "        \n",
    "        clf = lgb.train(params, lgb_train,valid_sets=[lgb_train, lgb_eval], \n",
    "               num_boost_round=10000,early_stopping_rounds=50,verbose_eval = 100) \n",
    "\n",
    "        valid_predict = clf.predict(X_valid2, num_iteration = clf.best_iteration)\n",
    "        train_score_pred[test_index] = valid_predict\n",
    "        test_score_pred += clf.predict(X_test, num_iteration = clf.best_iteration) / n_folds\n",
    "            \n",
    "    print(\"score:\", mean_squared_error(y_train, valid))\n",
    "    return train_score_pred, test_score_pred"
   ]
  },
  {
   "cell_type": "markdown",
   "metadata": {
    "papermill": {
     "duration": 0.021906,
     "end_time": "2020-10-03T07:01:29.698904",
     "exception": false,
     "start_time": "2020-10-03T07:01:29.676998",
     "status": "completed"
    },
    "tags": []
   },
   "source": [
    "# 1st model (multi output)"
   ]
  },
  {
   "cell_type": "code",
   "execution_count": 10,
   "metadata": {
    "execution": {
     "iopub.execute_input": "2020-10-03T07:01:29.755274Z",
     "iopub.status.busy": "2020-10-03T07:01:29.754143Z",
     "iopub.status.idle": "2020-10-03T07:01:29.767100Z",
     "shell.execute_reply": "2020-10-03T07:01:29.766423Z"
    },
    "papermill": {
     "duration": 0.045808,
     "end_time": "2020-10-03T07:01:29.767225",
     "exception": false,
     "start_time": "2020-10-03T07:01:29.721417",
     "status": "completed"
    },
    "tags": []
   },
   "outputs": [
    {
     "name": "stdout",
     "output_type": "stream",
     "text": [
      "dict_keys(['estimator__boosting_type', 'estimator__class_weight', 'estimator__colsample_bytree', 'estimator__importance_type', 'estimator__learning_rate', 'estimator__max_depth', 'estimator__min_child_samples', 'estimator__min_child_weight', 'estimator__min_split_gain', 'estimator__n_estimators', 'estimator__n_jobs', 'estimator__num_leaves', 'estimator__objective', 'estimator__random_state', 'estimator__reg_alpha', 'estimator__reg_lambda', 'estimator__silent', 'estimator__subsample', 'estimator__subsample_for_bin', 'estimator__subsample_freq', 'estimator__tree_method', 'estimator', 'n_jobs'])\n"
     ]
    },
    {
     "data": {
      "text/plain": [
       "MultiOutputClassifier(estimator=LGBMClassifier(learning_rate=0.0503,\n",
       "                                               max_depth=10,\n",
       "                                               min_child_weight=31.58,\n",
       "                                               n_estimators=160,\n",
       "                                               tree_method='hist'))"
      ]
     },
     "execution_count": 10,
     "metadata": {},
     "output_type": "execute_result"
    }
   ],
   "source": [
    "clf = MultiOutputClassifier(LGBMClassifier(tree_method='hist')) #gpu_hist\n",
    "\n",
    "params = {#'estimator__colsample_bytree': 0.9522,\n",
    "          'estimator__learning_rate': 0.0503,\n",
    "          'estimator__max_depth': 10,\n",
    "          'estimator__min_child_weight': 31.5800,\n",
    "          'estimator__n_estimators': 160,\n",
    "          #'estimator__subsample': 0.8639,\n",
    "         }\n",
    "\n",
    "print(clf.get_params().keys())\n",
    "clf.set_params(**params)"
   ]
  },
  {
   "cell_type": "code",
   "execution_count": 11,
   "metadata": {
    "execution": {
     "iopub.execute_input": "2020-10-03T07:01:29.827750Z",
     "iopub.status.busy": "2020-10-03T07:01:29.822461Z",
     "iopub.status.idle": "2020-10-03T08:31:07.907160Z",
     "shell.execute_reply": "2020-10-03T08:31:07.908222Z"
    },
    "papermill": {
     "duration": 5378.11804,
     "end_time": "2020-10-03T08:31:07.908610",
     "exception": false,
     "start_time": "2020-10-03T07:01:29.790570",
     "status": "completed"
    },
    "tags": []
   },
   "outputs": [
    {
     "name": "stdout",
     "output_type": "stream",
     "text": [
      "Starting fold:  0\n",
      "0.016850499174407747\n",
      "Starting fold:  1\n",
      "0.01698703268588588\n",
      "Starting fold:  2\n",
      "0.01691767019520539\n",
      "Starting fold:  3\n",
      "0.016634349310579655\n",
      "Starting fold:  4\n",
      "0.016809659993064215\n",
      "[0.016850499174407747, 0.01698703268588588, 0.01691767019520539, 0.016634349310579655, 0.016809659993064215]\n",
      "Mean OOF loss across folds 0.016839842271828578\n",
      "STD OOF loss across folds 0.00011914201634549347\n"
     ]
    }
   ],
   "source": [
    "def multi_modelling(tr, ta, te):\n",
    "    X = tr.copy()\n",
    "    y = ta.drop(\"sig_id\", axis=1).copy()\n",
    "    X_test = te.copy()\n",
    "\n",
    "    oof_preds = np.zeros(y.shape)\n",
    "    test_preds = np.zeros((test.shape[0], y.shape[1]))\n",
    "    oof_losses = []\n",
    "    mskf = MultilabelStratifiedKFold(n_splits=NFOLDS, random_state=SEED, shuffle=True)\n",
    "    for fn, (trn_idx, val_idx) in enumerate(mskf.split(X, y)):\n",
    "        print('Starting fold: ', fn)\n",
    "        X_train, X_val = X.iloc[trn_idx,:], X.iloc[val_idx,:].to_numpy()\n",
    "        y_train, y_val = y.iloc[trn_idx], y.iloc[val_idx].to_numpy()\n",
    "    \n",
    "        X_train = X_train[X_train.index.isin(cons_train_index)].to_numpy()\n",
    "        y_train = y_train[y_train.index.isin(cons_train_index)].to_numpy()\n",
    "    \n",
    "        clf.fit(X_train, y_train)\n",
    "        val_preds = clf.predict_proba(X_val) # list of preds per class\n",
    "        val_preds = np.array(val_preds)[:,:,1].T # take the positive class\n",
    "        oof_preds[val_idx] = val_preds\n",
    "    \n",
    "        loss = log_loss(np.ravel(y_val), np.ravel(val_preds))\n",
    "        print(loss)\n",
    "        oof_losses.append(loss)\n",
    "        preds = clf.predict_proba(X_test)\n",
    "        preds = np.array(preds)[:,:,1].T # take the positive class\n",
    "        test_preds += preds / NFOLDS\n",
    "    \n",
    "    print(oof_losses)\n",
    "    print('Mean OOF loss across folds', np.mean(oof_losses))\n",
    "    print('STD OOF loss across folds', np.std(oof_losses))\n",
    "    return oof_preds, test_preds\n",
    "    \n",
    "oof_preds, test_preds = multi_modelling(n_train, targets, n_test)"
   ]
  },
  {
   "cell_type": "code",
   "execution_count": 12,
   "metadata": {
    "execution": {
     "iopub.execute_input": "2020-10-03T08:31:08.049227Z",
     "iopub.status.busy": "2020-10-03T08:31:08.048253Z",
     "iopub.status.idle": "2020-10-03T08:31:13.696085Z",
     "shell.execute_reply": "2020-10-03T08:31:13.691880Z"
    },
    "papermill": {
     "duration": 5.734518,
     "end_time": "2020-10-03T08:31:13.696256",
     "exception": false,
     "start_time": "2020-10-03T08:31:07.961738",
     "status": "completed"
    },
    "tags": []
   },
   "outputs": [
    {
     "name": "stdout",
     "output_type": "stream",
     "text": [
      "OOF log loss:  0.016599404799040197\n"
     ]
    }
   ],
   "source": [
    "train_checkscore = targets.copy()\n",
    "train_checkscore.iloc[:,1:] = oof_preds\n",
    "train_checkscore.loc[train_checkscore.index.isin(noncons_train_index),target_feats] = 0\n",
    "print('OOF log loss: ', log_loss(np.ravel(targets.drop(\"sig_id\", axis=1)), np.ravel(np.array(train_checkscore.iloc[:,1:]))))"
   ]
  },
  {
   "cell_type": "code",
   "execution_count": 13,
   "metadata": {
    "execution": {
     "iopub.execute_input": "2020-10-03T08:31:13.781612Z",
     "iopub.status.busy": "2020-10-03T08:31:13.780770Z",
     "iopub.status.idle": "2020-10-03T08:31:16.898420Z",
     "shell.execute_reply": "2020-10-03T08:31:16.897535Z"
    },
    "papermill": {
     "duration": 3.160422,
     "end_time": "2020-10-03T08:31:16.898595",
     "exception": false,
     "start_time": "2020-10-03T08:31:13.738173",
     "status": "completed"
    },
    "tags": []
   },
   "outputs": [],
   "source": [
    "sub.iloc[:,1:] = test_preds\n",
    "sub.loc[sub.index.isin(noncons_test_index),target_feats] = 0\n",
    "sub.to_csv('submission.csv', index=False)"
   ]
  },
  {
   "cell_type": "markdown",
   "metadata": {
    "papermill": {
     "duration": 0.028151,
     "end_time": "2020-10-03T08:31:16.955808",
     "exception": false,
     "start_time": "2020-10-03T08:31:16.927657",
     "status": "completed"
    },
    "tags": []
   },
   "source": [
    "# 2nd model"
   ]
  },
  {
   "cell_type": "code",
   "execution_count": 14,
   "metadata": {
    "execution": {
     "iopub.execute_input": "2020-10-03T08:31:17.032929Z",
     "iopub.status.busy": "2020-10-03T08:31:17.023196Z",
     "iopub.status.idle": "2020-10-03T08:31:17.036089Z",
     "shell.execute_reply": "2020-10-03T08:31:17.035316Z"
    },
    "papermill": {
     "duration": 0.051317,
     "end_time": "2020-10-03T08:31:17.036221",
     "exception": false,
     "start_time": "2020-10-03T08:31:16.984904",
     "status": "completed"
    },
    "tags": []
   },
   "outputs": [],
   "source": [
    "def modelling_lgb(new_train, target_train, new_test, target):\n",
    "    \n",
    "    X_train = new_train.copy()\n",
    "    X_test = new_test.copy()\n",
    "    y_train = target_train[target].copy()\n",
    "    \n",
    "    params = {'objective': 'binary', 'boosting_type': 'gbdt', 'tree_learner': 'serial', 'learning_rate': 0.01, \n",
    "               \"num_leaves\": 10, 'random_seed':44, 'max_depth': 5} \n",
    "        \n",
    "    n_folds=4\n",
    "    if target not in [\"erbb2_inhibitor\", \"atp-sensitive_potassium_channel_antagonist\"]:\n",
    "        skf=StratifiedKFold(n_splits = n_folds, shuffle=True, random_state=0)\n",
    "    else:\n",
    "        skf=KFold(n_splits = n_folds, shuffle=True, random_state=0)\n",
    "\n",
    "    valid = np.zeros([X_train.shape[0]])\n",
    "    pred_value = np.zeros(X_test.shape[0])\n",
    "    for i , (train_index, test_index) in enumerate(skf.split(X_train, y_train)):\n",
    "        X_train2 = X_train.iloc[train_index,:]\n",
    "        y_train2 = y_train.iloc[train_index]\n",
    "\n",
    "        X_valid2 = X_train.iloc[test_index,:]\n",
    "        y_valid2 = y_train.iloc[test_index]\n",
    "        \n",
    "        lgb_train = lgb.Dataset(X_train2, y_train2)\n",
    "        lgb_eval = lgb.Dataset(X_valid2, y_valid2, reference=lgb_train)\n",
    "        \n",
    "        clf = lgb.train(params, lgb_train,valid_sets=[lgb_train, lgb_eval], \n",
    "               num_boost_round=10000,early_stopping_rounds=25,verbose_eval = 0) \n",
    "\n",
    "        valid_predict = clf.predict(X_valid2, num_iteration = clf.best_iteration)\n",
    "        valid[test_index] = valid_predict\n",
    "        pred_value += clf.predict(X_test, num_iteration = clf.best_iteration) / n_folds\n",
    "            \n",
    "    score = log_loss(y_train, valid)\n",
    "            \n",
    "    return valid, pred_value, score"
   ]
  },
  {
   "cell_type": "code",
   "execution_count": 15,
   "metadata": {
    "execution": {
     "iopub.execute_input": "2020-10-03T08:31:17.100995Z",
     "iopub.status.busy": "2020-10-03T08:31:17.100216Z",
     "iopub.status.idle": "2020-10-03T08:31:17.103694Z",
     "shell.execute_reply": "2020-10-03T08:31:17.102880Z"
    },
    "papermill": {
     "duration": 0.038178,
     "end_time": "2020-10-03T08:31:17.103818",
     "exception": false,
     "start_time": "2020-10-03T08:31:17.065640",
     "status": "completed"
    },
    "tags": []
   },
   "outputs": [],
   "source": [
    "#layer1_train = train_checkscore[train_checkscore.index.isin(cons_train_index)].drop(\"sig_id\", axis=1).copy()\n",
    "#layer1_test = sub[sub.index.isin(cons_test_index)].drop(\"sig_id\", axis=1).copy()\n",
    "#layer1_targets = targets[targets.index.isin(cons_train_index)].drop(\"sig_id\", axis=1).copy()\n",
    "\n",
    "#n_train2 = pd.merge(n_train, layer1_train, on=\"sig_id\", how=\"outer\") \n",
    "#n_test2 = pd.merge(n_test, layer1_test, on=\"sig_id\", how=\"outer\")"
   ]
  },
  {
   "cell_type": "code",
   "execution_count": 16,
   "metadata": {
    "execution": {
     "iopub.execute_input": "2020-10-03T08:31:17.167848Z",
     "iopub.status.busy": "2020-10-03T08:31:17.167015Z",
     "iopub.status.idle": "2020-10-03T08:31:17.169529Z",
     "shell.execute_reply": "2020-10-03T08:31:17.170140Z"
    },
    "papermill": {
     "duration": 0.037708,
     "end_time": "2020-10-03T08:31:17.170288",
     "exception": false,
     "start_time": "2020-10-03T08:31:17.132580",
     "status": "completed"
    },
    "tags": []
   },
   "outputs": [],
   "source": [
    "#final = pd.read_csv(DIR+\"sample_submission.csv\")\n",
    "#train_checkscore2 = targets.copy()\n",
    "#target_list2 = []\n",
    "#log_loss_list2 = []\n",
    "\n",
    "#for ind, target in enumerate(target_feats):\n",
    "#    print(ind, target)\n",
    "#    valid, pred_value, score = modelling_lgb(layer1_train, layer1_targets, layer1_test, target)\n",
    "#    train_checkscore2.loc[cons_train_index, target] = valid\n",
    "#    train_checkscore2.loc[noncons_train_index, target] = 0\n",
    "#    print(\"oof log_loss= {}, all log_loss= {}\".format(score, log_loss(targets[target], train_checkscore2[target])))\n",
    "#    target_list2.append(target)\n",
    "#    log_loss_list2.append(score)\n",
    "#    final.loc[cons_test_index, target] = pred_value\n",
    "#    final.loc[noncons_test_index, target] = 0"
   ]
  },
  {
   "cell_type": "code",
   "execution_count": 17,
   "metadata": {
    "execution": {
     "iopub.execute_input": "2020-10-03T08:31:17.233468Z",
     "iopub.status.busy": "2020-10-03T08:31:17.232757Z",
     "iopub.status.idle": "2020-10-03T08:31:17.236392Z",
     "shell.execute_reply": "2020-10-03T08:31:17.235650Z"
    },
    "papermill": {
     "duration": 0.037274,
     "end_time": "2020-10-03T08:31:17.236520",
     "exception": false,
     "start_time": "2020-10-03T08:31:17.199246",
     "status": "completed"
    },
    "tags": []
   },
   "outputs": [],
   "source": [
    "# local score\n",
    "#scores = [log_loss(targets[target_col], train_checkscore2[target_col]) for target_col in target_feats]\n",
    "#print(np.mean(scores))"
   ]
  },
  {
   "cell_type": "code",
   "execution_count": 18,
   "metadata": {
    "execution": {
     "iopub.execute_input": "2020-10-03T08:31:17.300781Z",
     "iopub.status.busy": "2020-10-03T08:31:17.299960Z",
     "iopub.status.idle": "2020-10-03T08:31:17.303578Z",
     "shell.execute_reply": "2020-10-03T08:31:17.302909Z"
    },
    "papermill": {
     "duration": 0.037966,
     "end_time": "2020-10-03T08:31:17.303705",
     "exception": false,
     "start_time": "2020-10-03T08:31:17.265739",
     "status": "completed"
    },
    "tags": []
   },
   "outputs": [],
   "source": [
    "#score_df = pd.DataFrame(target_list2, columns=[\"Target\"])\n",
    "#score_df[\"score\"] = log_loss_list2\n",
    "\n",
    "#plt.figure(figsize=(20,10))\n",
    "#sns.barplot(x=\"Target\", y=\"score\", data=score_df)\n",
    "#plt.show()\n",
    "\n",
    "#np.transpose(score_df)"
   ]
  },
  {
   "cell_type": "markdown",
   "metadata": {
    "papermill": {
     "duration": 0.028713,
     "end_time": "2020-10-03T08:31:17.361683",
     "exception": false,
     "start_time": "2020-10-03T08:31:17.332970",
     "status": "completed"
    },
    "tags": []
   },
   "source": [
    "# submission"
   ]
  },
  {
   "cell_type": "code",
   "execution_count": 19,
   "metadata": {
    "execution": {
     "iopub.execute_input": "2020-10-03T08:31:17.425396Z",
     "iopub.status.busy": "2020-10-03T08:31:17.424300Z",
     "iopub.status.idle": "2020-10-03T08:31:17.427873Z",
     "shell.execute_reply": "2020-10-03T08:31:17.427154Z"
    },
    "papermill": {
     "duration": 0.037271,
     "end_time": "2020-10-03T08:31:17.427992",
     "exception": false,
     "start_time": "2020-10-03T08:31:17.390721",
     "status": "completed"
    },
    "tags": []
   },
   "outputs": [],
   "source": [
    "#final.to_csv(\"submission.csv\", index=False) "
   ]
  },
  {
   "cell_type": "code",
   "execution_count": null,
   "metadata": {
    "papermill": {
     "duration": 0.029067,
     "end_time": "2020-10-03T08:31:17.486859",
     "exception": false,
     "start_time": "2020-10-03T08:31:17.457792",
     "status": "completed"
    },
    "tags": []
   },
   "outputs": [],
   "source": []
  }
 ],
 "metadata": {
  "kernelspec": {
   "display_name": "Python 3",
   "language": "python",
   "name": "python3"
  },
  "language_info": {
   "codemirror_mode": {
    "name": "ipython",
    "version": 3
   },
   "file_extension": ".py",
   "mimetype": "text/x-python",
   "name": "python",
   "nbconvert_exporter": "python",
   "pygments_lexer": "ipython3",
   "version": "3.7.6"
  },
  "papermill": {
   "duration": 5412.459417,
   "end_time": "2020-10-03T08:31:17.626553",
   "environment_variables": {},
   "exception": null,
   "input_path": "__notebook__.ipynb",
   "output_path": "__notebook__.ipynb",
   "parameters": {},
   "start_time": "2020-10-03T07:01:05.167136",
   "version": "2.1.0"
  }
 },
 "nbformat": 4,
 "nbformat_minor": 4
}
