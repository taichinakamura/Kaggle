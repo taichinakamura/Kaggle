{
 "cells": [
  {
   "cell_type": "markdown",
   "metadata": {
    "papermill": {
     "duration": 0.012063,
     "end_time": "2021-03-23T03:40:49.117213",
     "exception": false,
     "start_time": "2021-03-23T03:40:49.105150",
     "status": "completed"
    },
    "tags": []
   },
   "source": [
    "**late submission**\n",
    "- copy tabnet from version 83 \n",
    "- solve as a multiclass classification (metric: logloss)\n",
    "- data augmentation for minor class by cutmix\n",
    "- 6 fold 5 seed\n",
    "- change batch size to 256\n",
    "- add robust scaler"
   ]
  },
  {
   "cell_type": "code",
   "execution_count": 1,
   "metadata": {
    "execution": {
     "iopub.execute_input": "2021-03-23T03:40:49.145954Z",
     "iopub.status.busy": "2021-03-23T03:40:49.145187Z",
     "iopub.status.idle": "2021-03-23T03:40:56.820802Z",
     "shell.execute_reply": "2021-03-23T03:40:56.820275Z"
    },
    "papermill": {
     "duration": 7.692523,
     "end_time": "2021-03-23T03:40:56.820922",
     "exception": false,
     "start_time": "2021-03-23T03:40:49.128399",
     "status": "completed"
    },
    "tags": []
   },
   "outputs": [
    {
     "name": "stdout",
     "output_type": "stream",
     "text": [
      "Looking in links: /kaggle/input/pytorchtabnet/pytorch_tabnet-2.0.0-py3-none-any.whl\r\n",
      "Processing /kaggle/input/pytorchtabnet/pytorch_tabnet-2.0.0-py3-none-any.whl\r\n",
      "Requirement already satisfied: tqdm<5.0,>=4.36 in /opt/conda/lib/python3.7/site-packages (from pytorch-tabnet) (4.45.0)\r\n",
      "Requirement already satisfied: torch<2.0,>=1.2 in /opt/conda/lib/python3.7/site-packages (from pytorch-tabnet) (1.6.0)\r\n",
      "Requirement already satisfied: scikit_learn>0.21 in /opt/conda/lib/python3.7/site-packages (from pytorch-tabnet) (0.23.2)\r\n",
      "Requirement already satisfied: scipy>1.4 in /opt/conda/lib/python3.7/site-packages (from pytorch-tabnet) (1.4.1)\r\n",
      "Requirement already satisfied: numpy<2.0,>=1.17 in /opt/conda/lib/python3.7/site-packages (from pytorch-tabnet) (1.18.5)\r\n",
      "Requirement already satisfied: future in /opt/conda/lib/python3.7/site-packages (from torch<2.0,>=1.2->pytorch-tabnet) (0.18.2)\r\n",
      "Requirement already satisfied: threadpoolctl>=2.0.0 in /opt/conda/lib/python3.7/site-packages (from scikit_learn>0.21->pytorch-tabnet) (2.1.0)\r\n",
      "Requirement already satisfied: joblib>=0.11 in /opt/conda/lib/python3.7/site-packages (from scikit_learn>0.21->pytorch-tabnet) (0.14.1)\r\n",
      "Installing collected packages: pytorch-tabnet\r\n",
      "Successfully installed pytorch-tabnet-2.0.0\r\n"
     ]
    }
   ],
   "source": [
    "!pip install --no-index --find-links /kaggle/input/pytorchtabnet/pytorch_tabnet-2.0.0-py3-none-any.whl pytorch-tabnet"
   ]
  },
  {
   "cell_type": "code",
   "execution_count": 2,
   "metadata": {
    "_cell_guid": "b1076dfc-b9ad-4769-8c92-a6c4dae69d19",
    "_uuid": "8f2839f25d086af736a60e9eeb907d3b93b6e0e5",
    "execution": {
     "iopub.execute_input": "2021-03-23T03:40:56.857921Z",
     "iopub.status.busy": "2021-03-23T03:40:56.857083Z",
     "iopub.status.idle": "2021-03-23T03:41:03.899241Z",
     "shell.execute_reply": "2021-03-23T03:41:03.898058Z"
    },
    "papermill": {
     "duration": 7.06434,
     "end_time": "2021-03-23T03:41:03.899411",
     "exception": false,
     "start_time": "2021-03-23T03:40:56.835071",
     "status": "completed"
    },
    "tags": []
   },
   "outputs": [],
   "source": [
    "import os\n",
    "import random\n",
    "import warnings\n",
    "import numpy as np\n",
    "import pandas as pd \n",
    "from sklearn.metrics import log_loss\n",
    "from sklearn.utils import check_random_state\n",
    "from sklearn.model_selection import StratifiedKFold\n",
    "from sklearn import preprocessing\n",
    "from pytorch_tabnet.tab_model import TabNetClassifier\n",
    "\n",
    "import time\n",
    "import torch\n",
    "import torch.nn as nn\n",
    "import torch.optim as optim\n",
    "import torch.nn.functional as F\n",
    "import tensorflow as tf\n",
    "\n",
    "warnings.filterwarnings('ignore')"
   ]
  },
  {
   "cell_type": "code",
   "execution_count": 3,
   "metadata": {
    "execution": {
     "iopub.execute_input": "2021-03-23T03:41:03.936193Z",
     "iopub.status.busy": "2021-03-23T03:41:03.935669Z",
     "iopub.status.idle": "2021-03-23T03:41:12.378601Z",
     "shell.execute_reply": "2021-03-23T03:41:12.377518Z"
    },
    "papermill": {
     "duration": 8.465837,
     "end_time": "2021-03-23T03:41:12.378722",
     "exception": false,
     "start_time": "2021-03-23T03:41:03.912885",
     "status": "completed"
    },
    "tags": []
   },
   "outputs": [],
   "source": [
    "DATA_DIR = '/kaggle/input/lish-moa/'\n",
    "train = pd.read_csv(DATA_DIR + 'train_features.csv')\n",
    "targets = pd.read_csv(DATA_DIR + 'train_targets_scored.csv')\n",
    "non_targets = pd.read_csv(DATA_DIR + 'train_targets_nonscored.csv')\n",
    "test = pd.read_csv(DATA_DIR + 'test_features.csv')\n",
    "sub = pd.read_csv(DATA_DIR + 'sample_submission.csv')\n",
    "drug = pd.read_csv(DATA_DIR + 'train_drug.csv')"
   ]
  },
  {
   "cell_type": "code",
   "execution_count": 4,
   "metadata": {
    "execution": {
     "iopub.execute_input": "2021-03-23T03:41:12.417468Z",
     "iopub.status.busy": "2021-03-23T03:41:12.416829Z",
     "iopub.status.idle": "2021-03-23T03:41:12.505482Z",
     "shell.execute_reply": "2021-03-23T03:41:12.504995Z"
    },
    "papermill": {
     "duration": 0.113319,
     "end_time": "2021-03-23T03:41:12.505603",
     "exception": false,
     "start_time": "2021-03-23T03:41:12.392284",
     "status": "completed"
    },
    "tags": []
   },
   "outputs": [],
   "source": [
    "target_feats = [ i for i in targets.columns if i != \"sig_id\"]\n",
    "g_feats = [i for i in train.columns if \"g-\" in i]\n",
    "c_feats = [i for i in train.columns if \"c-\" in i]\n",
    "\n",
    "noncons_train_index = train[train.cp_type==\"ctl_vehicle\"].index\n",
    "cons_train_index = train[~train.index.isin(noncons_train_index)].index\n",
    "noncons_test_index = test[test.cp_type==\"ctl_vehicle\"].index\n",
    "cons_test_index = test[test.cp_type!=\"ctl_vehicle\"].index"
   ]
  },
  {
   "cell_type": "markdown",
   "metadata": {
    "papermill": {
     "duration": 0.013233,
     "end_time": "2021-03-23T03:41:12.532557",
     "exception": false,
     "start_time": "2021-03-23T03:41:12.519324",
     "status": "completed"
    },
    "tags": []
   },
   "source": [
    "# preprocess"
   ]
  },
  {
   "cell_type": "code",
   "execution_count": 5,
   "metadata": {
    "execution": {
     "iopub.execute_input": "2021-03-23T03:41:12.570478Z",
     "iopub.status.busy": "2021-03-23T03:41:12.569930Z",
     "iopub.status.idle": "2021-03-23T03:41:24.438518Z",
     "shell.execute_reply": "2021-03-23T03:41:24.437750Z"
    },
    "papermill": {
     "duration": 11.892604,
     "end_time": "2021-03-23T03:41:24.438622",
     "exception": false,
     "start_time": "2021-03-23T03:41:12.546018",
     "status": "completed"
    },
    "tags": []
   },
   "outputs": [
    {
     "data": {
      "text/plain": [
       "((23814, 328), (328, 206))"
      ]
     },
     "execution_count": 5,
     "metadata": {},
     "output_type": "execute_result"
    }
   ],
   "source": [
    "def make_string(row):\n",
    "    return str(row[1:].values).replace('[','').replace(']','').replace('\\n','').replace(' ','')\n",
    "\n",
    "targets[\"target_pair\"] = targets.apply(make_string, axis=1)\n",
    "targetpair_id = dict(enumerate(targets[\"target_pair\"].unique()))\n",
    "id_targetpair = {y:x for x,y in targetpair_id.items()}\n",
    "targets[\"target_pair_num\"] = targets[\"target_pair\"].map(id_targetpair)\n",
    "\n",
    "multiclass_targets = pd.get_dummies(targets[\"target_pair_num\"])\n",
    "\n",
    "for i in range(len(id_targetpair.keys())):\n",
    "    if i == 0:\n",
    "        classid_target = np.array(list((targetpair_id[i]))).reshape(1,-1)      \n",
    "    else:\n",
    "        classid_target = np.vstack([classid_target, np.array(list((targetpair_id[i]))).reshape(1,-1)])\n",
    "        \n",
    "classid_target = classid_target.astype(int)\n",
    "class_num = multiclass_targets.shape[1]\n",
    "        \n",
    "multiclass_targets.shape, classid_target.shape"
   ]
  },
  {
   "cell_type": "code",
   "execution_count": 6,
   "metadata": {
    "execution": {
     "iopub.execute_input": "2021-03-23T03:41:24.479522Z",
     "iopub.status.busy": "2021-03-23T03:41:24.478470Z",
     "iopub.status.idle": "2021-03-23T03:41:24.727643Z",
     "shell.execute_reply": "2021-03-23T03:41:24.727132Z"
    },
    "papermill": {
     "duration": 0.275011,
     "end_time": "2021-03-23T03:41:24.727741",
     "exception": false,
     "start_time": "2021-03-23T03:41:24.452730",
     "status": "completed"
    },
    "tags": []
   },
   "outputs": [],
   "source": [
    "train = train[train.index.isin(cons_train_index)].copy().reset_index(drop=True)\n",
    "targets = targets[targets.index.isin(cons_train_index)].copy().reset_index(drop=True)\n",
    "multiclass_targets = targets[\"target_pair_num\"].copy().reset_index(drop=True)"
   ]
  },
  {
   "cell_type": "code",
   "execution_count": 7,
   "metadata": {
    "execution": {
     "iopub.execute_input": "2021-03-23T03:41:24.761690Z",
     "iopub.status.busy": "2021-03-23T03:41:24.760847Z",
     "iopub.status.idle": "2021-03-23T03:41:24.792907Z",
     "shell.execute_reply": "2021-03-23T03:41:24.793357Z"
    },
    "papermill": {
     "duration": 0.051355,
     "end_time": "2021-03-23T03:41:24.793494",
     "exception": false,
     "start_time": "2021-03-23T03:41:24.742139",
     "status": "completed"
    },
    "tags": []
   },
   "outputs": [
    {
     "data": {
      "text/plain": [
       "(Int64Index([326, 327, 318, 312, 325, 310], dtype='int64'),\n",
       " Int64Index([321, 275,  19, 307, 323, 290, 146, 243, 322, 256,\n",
       "             ...\n",
       "             280, 168, 263, 303, 231, 199, 183,  71,  39,   7],\n",
       "            dtype='int64', length=111))"
      ]
     },
     "execution_count": 7,
     "metadata": {},
     "output_type": "execute_result"
    }
   ],
   "source": [
    "tmp = multiclass_targets.value_counts().copy()\n",
    "minor_class = tmp[tmp==1].index\n",
    "minor_class6 = tmp[tmp==6].index\n",
    "minor_class, minor_class6"
   ]
  },
  {
   "cell_type": "markdown",
   "metadata": {
    "papermill": {
     "duration": 0.014436,
     "end_time": "2021-03-23T03:41:24.822430",
     "exception": false,
     "start_time": "2021-03-23T03:41:24.807994",
     "status": "completed"
    },
    "tags": []
   },
   "source": [
    "# feature engineering"
   ]
  },
  {
   "cell_type": "code",
   "execution_count": 8,
   "metadata": {
    "execution": {
     "iopub.execute_input": "2021-03-23T03:41:24.858734Z",
     "iopub.status.busy": "2021-03-23T03:41:24.858143Z",
     "iopub.status.idle": "2021-03-23T03:41:26.348792Z",
     "shell.execute_reply": "2021-03-23T03:41:26.349604Z"
    },
    "papermill": {
     "duration": 1.512909,
     "end_time": "2021-03-23T03:41:26.349826",
     "exception": false,
     "start_time": "2021-03-23T03:41:24.836917",
     "status": "completed"
    },
    "tags": []
   },
   "outputs": [],
   "source": [
    "for i in c_feats + g_feats:\n",
    "    ss = preprocessing.RobustScaler()\n",
    "    ss.fit(train[i].values.reshape(-1,1))\n",
    "    train[i] = ss.transform(train[i].values.reshape(-1,1))\n",
    "    test[i] = ss.transform(test[i].values.reshape(-1,1))"
   ]
  },
  {
   "cell_type": "code",
   "execution_count": 9,
   "metadata": {
    "execution": {
     "iopub.execute_input": "2021-03-23T03:41:26.406275Z",
     "iopub.status.busy": "2021-03-23T03:41:26.405061Z",
     "iopub.status.idle": "2021-03-23T03:41:26.553284Z",
     "shell.execute_reply": "2021-03-23T03:41:26.554603Z"
    },
    "papermill": {
     "duration": 0.180253,
     "end_time": "2021-03-23T03:41:26.554776",
     "exception": false,
     "start_time": "2021-03-23T03:41:26.374523",
     "status": "completed"
    },
    "tags": []
   },
   "outputs": [
    {
     "name": "stdout",
     "output_type": "stream",
     "text": [
      "(21948, 874) (3982, 874)\n"
     ]
    }
   ],
   "source": [
    "def fe(df):\n",
    "    tmp = df.copy()\n",
    "    tmp.loc[:, 'cp_dose'] = tmp.loc[:, 'cp_dose'].map({'D1': 0, 'D2': 1})      \n",
    "    tmp.drop([\"sig_id\", \"cp_type\"], axis=1, inplace=True)\n",
    "    return tmp\n",
    "\n",
    "train = fe(train)\n",
    "test = fe(test)\n",
    "\n",
    "print(train.shape, test.shape)"
   ]
  },
  {
   "cell_type": "code",
   "execution_count": 10,
   "metadata": {
    "execution": {
     "iopub.execute_input": "2021-03-23T03:41:26.633032Z",
     "iopub.status.busy": "2021-03-23T03:41:26.631749Z",
     "iopub.status.idle": "2021-03-23T03:41:28.692511Z",
     "shell.execute_reply": "2021-03-23T03:41:28.693039Z"
    },
    "papermill": {
     "duration": 2.110791,
     "end_time": "2021-03-23T03:41:28.693180",
     "exception": false,
     "start_time": "2021-03-23T03:41:26.582389",
     "status": "completed"
    },
    "tags": []
   },
   "outputs": [
    {
     "name": "stdout",
     "output_type": "stream",
     "text": [
      "[  599  2348  5784 12816 17718 20062]\n",
      "[ 6269  6613  9380 10755 13810 14313]\n",
      "[ 7176  7455  9098 15661 15970 18894]\n",
      "[  858  9318  9931 18208 19565 20789]\n",
      "[ 7176  7455  9098 15661 15970 18894]\n"
     ]
    }
   ],
   "source": [
    "# data augmentation by cutmix\n",
    "# https://www.kaggle.com/yxohrxn/moa-cutmix\n",
    "\n",
    "def cutmix_for_tabular(x, y=None, alpha=1.0, p=1.0, random_state=None):\n",
    "    x_ = x.copy()\n",
    "    n, d = x.shape\n",
    "\n",
    "    if n is not None and random.random() < p:\n",
    "        random_state = check_random_state(random_state)\n",
    "        l = random_state.beta(alpha, alpha)\n",
    "        mask = random_state.choice([False, True], size=d, p=[l, 1.0 - l])\n",
    "        mask = np.where(mask)[0]\n",
    "        shuffle = random_state.choice(n, n, replace=False)\n",
    "        x_[:,mask] = x_[np.ix_(shuffle,mask)]\n",
    "        \n",
    "        if y is not None:\n",
    "            y = l * y + (1.0 - l) * y[shuffle]\n",
    "        \n",
    "    # extract minor class\n",
    "    tmp_index = np.where(np.isin(np.argmax(y, axis=1), minor_class))[0]\n",
    "    print(tmp_index)\n",
    "        \n",
    "    return x_[tmp_index], np.argmax(y[tmp_index],axis=1)\n",
    "\n",
    "for i in [0,1,2,3,4]:\n",
    "    if i == 0:\n",
    "        train_mod, y_mod = cutmix_for_tabular(train.values, \n",
    "                                      pd.get_dummies(multiclass_targets).values, alpha=1, p=1, random_state=i)\n",
    "    else:\n",
    "        train_tmp, y_tmp = cutmix_for_tabular(train.values, \n",
    "                                      pd.get_dummies(multiclass_targets).values, alpha=1, p=1, random_state=i)\n",
    "        train_mod = np.concatenate([train_mod, train_tmp], axis=0)\n",
    "        y_mod = np.concatenate([y_mod, y_tmp])\n",
    "        \n",
    "train_mod = pd.DataFrame(train_mod, columns = train.columns)\n",
    "train = pd.concat([train, train_mod], axis=0).reset_index(drop=True)\n",
    "\n",
    "y_mod = pd.DataFrame(y_mod)\n",
    "multiclass_targets = pd.concat([multiclass_targets, y_mod]).reset_index(drop=True)"
   ]
  },
  {
   "cell_type": "code",
   "execution_count": 11,
   "metadata": {
    "execution": {
     "iopub.execute_input": "2021-03-23T03:41:28.734268Z",
     "iopub.status.busy": "2021-03-23T03:41:28.733055Z",
     "iopub.status.idle": "2021-03-23T03:41:29.060953Z",
     "shell.execute_reply": "2021-03-23T03:41:29.060521Z"
    },
    "papermill": {
     "duration": 0.351265,
     "end_time": "2021-03-23T03:41:29.061068",
     "exception": false,
     "start_time": "2021-03-23T03:41:28.709803",
     "status": "completed"
    },
    "tags": []
   },
   "outputs": [
    {
     "data": {
      "text/plain": [
       "((21978, 874), (3982, 874), (21978,))"
      ]
     },
     "execution_count": 11,
     "metadata": {},
     "output_type": "execute_result"
    }
   ],
   "source": [
    "fn_train = train.copy().to_numpy()\n",
    "fn_test = test.copy().to_numpy()\n",
    "    \n",
    "fn_targets = targets.drop(\"sig_id\", axis=1).copy().to_numpy()\n",
    "fn_multiclass_targets = multiclass_targets.copy().to_numpy().reshape(-1,)\n",
    "\n",
    "fn_train.shape, fn_test.shape, fn_multiclass_targets.shape"
   ]
  },
  {
   "cell_type": "markdown",
   "metadata": {
    "papermill": {
     "duration": 0.017062,
     "end_time": "2021-03-23T03:41:29.095066",
     "exception": false,
     "start_time": "2021-03-23T03:41:29.078004",
     "status": "completed"
    },
    "tags": []
   },
   "source": [
    "# modelling"
   ]
  },
  {
   "cell_type": "code",
   "execution_count": 12,
   "metadata": {
    "execution": {
     "iopub.execute_input": "2021-03-23T03:41:29.501699Z",
     "iopub.status.busy": "2021-03-23T03:41:29.498763Z",
     "iopub.status.idle": "2021-03-23T04:07:23.067469Z",
     "shell.execute_reply": "2021-03-23T04:07:23.067898Z"
    },
    "papermill": {
     "duration": 1553.956076,
     "end_time": "2021-03-23T04:07:23.068059",
     "exception": false,
     "start_time": "2021-03-23T03:41:29.111983",
     "status": "completed"
    },
    "tags": []
   },
   "outputs": [
    {
     "name": "stdout",
     "output_type": "stream",
     "text": [
      "FOLDS :  1\n",
      "Device used : cuda\n",
      "epoch 0  | loss: 4.11951 | val_logloss: 3.61906 |  0:00:02s\n",
      "epoch 10 | loss: 2.78922 | val_logloss: 3.1474  |  0:00:18s\n",
      "epoch 20 | loss: 2.10873 | val_logloss: 3.61048 |  0:00:34s\n",
      "\n",
      "Early stopping occured at epoch 29 with best_epoch = 9 and best_val_logloss = 3.12504\n",
      "Best weights from best epoch are automatically used!\n",
      "FOLDS :  2\n",
      "Device used : cuda\n",
      "epoch 0  | loss: 4.11944 | val_logloss: 3.69822 |  0:00:01s\n",
      "epoch 10 | loss: 2.85335 | val_logloss: 3.03776 |  0:00:17s\n",
      "epoch 20 | loss: 2.24707 | val_logloss: 3.44122 |  0:00:33s\n",
      "epoch 30 | loss: 1.49847 | val_logloss: 4.64161 |  0:00:49s\n",
      "\n",
      "Early stopping occured at epoch 30 with best_epoch = 10 and best_val_logloss = 3.03776\n",
      "Best weights from best epoch are automatically used!\n",
      "FOLDS :  3\n",
      "Device used : cuda\n",
      "epoch 0  | loss: 4.11078 | val_logloss: 3.63913 |  0:00:01s\n",
      "epoch 10 | loss: 2.85814 | val_logloss: 3.15428 |  0:00:18s\n",
      "epoch 20 | loss: 2.2583  | val_logloss: 3.62336 |  0:00:33s\n",
      "\n",
      "Early stopping occured at epoch 28 with best_epoch = 8 and best_val_logloss = 3.1542\n",
      "Best weights from best epoch are automatically used!\n",
      "FOLDS :  4\n",
      "Device used : cuda\n",
      "epoch 0  | loss: 4.13551 | val_logloss: 3.63893 |  0:00:01s\n",
      "epoch 10 | loss: 2.86046 | val_logloss: 3.13056 |  0:00:17s\n",
      "epoch 20 | loss: 2.21562 | val_logloss: 3.53212 |  0:00:33s\n",
      "epoch 30 | loss: 1.4113  | val_logloss: 4.98712 |  0:00:49s\n",
      "\n",
      "Early stopping occured at epoch 30 with best_epoch = 10 and best_val_logloss = 3.13056\n",
      "Best weights from best epoch are automatically used!\n",
      "FOLDS :  5\n",
      "Device used : cuda\n",
      "epoch 0  | loss: 4.10199 | val_logloss: 3.62218 |  0:00:01s\n",
      "epoch 10 | loss: 2.83192 | val_logloss: 3.12411 |  0:00:18s\n",
      "epoch 20 | loss: 2.15933 | val_logloss: 3.65361 |  0:00:33s\n",
      "\n",
      "Early stopping occured at epoch 27 with best_epoch = 7 and best_val_logloss = 3.12215\n",
      "Best weights from best epoch are automatically used!\n",
      "FOLDS :  6\n",
      "Device used : cuda\n",
      "epoch 0  | loss: 4.1339  | val_logloss: 3.69748 |  0:00:01s\n",
      "epoch 10 | loss: 2.81142 | val_logloss: 3.18159 |  0:00:17s\n",
      "epoch 20 | loss: 2.15176 | val_logloss: 3.61969 |  0:00:34s\n",
      "epoch 30 | loss: 1.381   | val_logloss: 4.87876 |  0:00:49s\n",
      "\n",
      "Early stopping occured at epoch 31 with best_epoch = 11 and best_val_logloss = 3.12655\n",
      "Best weights from best epoch are automatically used!\n",
      "FOLDS :  1\n",
      "Device used : cuda\n",
      "epoch 0  | loss: 4.11395 | val_logloss: 3.74653 |  0:00:01s\n",
      "epoch 10 | loss: 2.84042 | val_logloss: 3.27257 |  0:00:18s\n",
      "epoch 20 | loss: 2.16401 | val_logloss: 3.67469 |  0:00:33s\n",
      "\n",
      "Early stopping occured at epoch 27 with best_epoch = 7 and best_val_logloss = 3.12061\n",
      "Best weights from best epoch are automatically used!\n",
      "FOLDS :  2\n",
      "Device used : cuda\n",
      "epoch 0  | loss: 4.07442 | val_logloss: 3.66455 |  0:00:01s\n",
      "epoch 10 | loss: 2.81667 | val_logloss: 3.12539 |  0:00:17s\n",
      "epoch 20 | loss: 2.16703 | val_logloss: 3.54765 |  0:00:34s\n",
      "\n",
      "Early stopping occured at epoch 29 with best_epoch = 9 and best_val_logloss = 3.07973\n",
      "Best weights from best epoch are automatically used!\n",
      "FOLDS :  3\n",
      "Device used : cuda\n",
      "epoch 0  | loss: 4.11182 | val_logloss: 3.59708 |  0:00:01s\n",
      "epoch 10 | loss: 2.83681 | val_logloss: 3.13535 |  0:00:18s\n",
      "epoch 20 | loss: 2.16578 | val_logloss: 4.1117  |  0:00:33s\n",
      "\n",
      "Early stopping occured at epoch 29 with best_epoch = 9 and best_val_logloss = 3.12667\n",
      "Best weights from best epoch are automatically used!\n",
      "FOLDS :  4\n",
      "Device used : cuda\n",
      "epoch 0  | loss: 4.0593  | val_logloss: 3.58561 |  0:00:01s\n",
      "epoch 10 | loss: 2.87371 | val_logloss: 3.21951 |  0:00:17s\n",
      "epoch 20 | loss: 2.222   | val_logloss: 3.50405 |  0:00:34s\n",
      "epoch 30 | loss: 1.53535 | val_logloss: 4.56308 |  0:00:50s\n",
      "\n",
      "Early stopping occured at epoch 32 with best_epoch = 12 and best_val_logloss = 3.09789\n",
      "Best weights from best epoch are automatically used!\n",
      "FOLDS :  5\n",
      "Device used : cuda\n",
      "epoch 0  | loss: 4.12312 | val_logloss: 3.66514 |  0:00:01s\n",
      "epoch 10 | loss: 2.84756 | val_logloss: 3.12416 |  0:00:17s\n",
      "epoch 20 | loss: 2.25913 | val_logloss: 3.48936 |  0:00:34s\n",
      "\n",
      "Early stopping occured at epoch 29 with best_epoch = 9 and best_val_logloss = 3.08827\n",
      "Best weights from best epoch are automatically used!\n",
      "FOLDS :  6\n",
      "Device used : cuda\n",
      "epoch 0  | loss: 4.13842 | val_logloss: 3.6956  |  0:00:01s\n",
      "epoch 10 | loss: 2.84895 | val_logloss: 3.14389 |  0:00:18s\n",
      "epoch 20 | loss: 2.22523 | val_logloss: 3.51253 |  0:00:34s\n",
      "epoch 30 | loss: 1.48521 | val_logloss: 4.7974  |  0:00:50s\n",
      "\n",
      "Early stopping occured at epoch 31 with best_epoch = 11 and best_val_logloss = 3.13933\n",
      "Best weights from best epoch are automatically used!\n",
      "FOLDS :  1\n",
      "Device used : cuda\n",
      "epoch 0  | loss: 4.07585 | val_logloss: 3.65321 |  0:00:01s\n",
      "epoch 10 | loss: 2.81127 | val_logloss: 3.13262 |  0:00:18s\n",
      "epoch 20 | loss: 2.10969 | val_logloss: 3.63231 |  0:00:34s\n",
      "epoch 30 | loss: 1.30044 | val_logloss: 5.63548 |  0:00:51s\n",
      "\n",
      "Early stopping occured at epoch 30 with best_epoch = 10 and best_val_logloss = 3.13262\n",
      "Best weights from best epoch are automatically used!\n",
      "FOLDS :  2\n",
      "Device used : cuda\n",
      "epoch 0  | loss: 4.05401 | val_logloss: 3.69705 |  0:00:01s\n",
      "epoch 10 | loss: 2.84526 | val_logloss: 3.12714 |  0:00:17s\n",
      "epoch 20 | loss: 2.20308 | val_logloss: 3.50234 |  0:00:34s\n",
      "epoch 30 | loss: 1.461   | val_logloss: 5.60348 |  0:00:50s\n",
      "\n",
      "Early stopping occured at epoch 31 with best_epoch = 11 and best_val_logloss = 3.10399\n",
      "Best weights from best epoch are automatically used!\n",
      "FOLDS :  3\n",
      "Device used : cuda\n",
      "epoch 0  | loss: 4.06794 | val_logloss: 3.64946 |  0:00:01s\n",
      "epoch 10 | loss: 2.88454 | val_logloss: 3.14451 |  0:00:17s\n",
      "epoch 20 | loss: 2.30808 | val_logloss: 3.42001 |  0:00:33s\n",
      "epoch 30 | loss: 1.53889 | val_logloss: 4.77662 |  0:00:50s\n",
      "\n",
      "Early stopping occured at epoch 31 with best_epoch = 11 and best_val_logloss = 3.12573\n",
      "Best weights from best epoch are automatically used!\n",
      "FOLDS :  4\n",
      "Device used : cuda\n",
      "epoch 0  | loss: 4.06869 | val_logloss: 3.69377 |  0:00:01s\n",
      "epoch 10 | loss: 2.8176  | val_logloss: 3.16509 |  0:00:18s\n",
      "epoch 20 | loss: 2.09169 | val_logloss: 3.71316 |  0:00:34s\n",
      "\n",
      "Early stopping occured at epoch 27 with best_epoch = 7 and best_val_logloss = 3.13942\n",
      "Best weights from best epoch are automatically used!\n",
      "FOLDS :  5\n",
      "Device used : cuda\n",
      "epoch 0  | loss: 4.06317 | val_logloss: 3.62889 |  0:00:01s\n",
      "epoch 10 | loss: 2.82624 | val_logloss: 3.19227 |  0:00:18s\n",
      "epoch 20 | loss: 2.13356 | val_logloss: 3.69679 |  0:00:34s\n",
      "\n",
      "Early stopping occured at epoch 29 with best_epoch = 9 and best_val_logloss = 3.09233\n",
      "Best weights from best epoch are automatically used!\n",
      "FOLDS :  6\n",
      "Device used : cuda\n",
      "epoch 0  | loss: 4.06396 | val_logloss: 3.61847 |  0:00:01s\n",
      "epoch 10 | loss: 2.84675 | val_logloss: 3.29217 |  0:00:18s\n",
      "epoch 20 | loss: 2.20188 | val_logloss: 3.53237 |  0:00:34s\n",
      "epoch 30 | loss: 1.49143 | val_logloss: 4.83064 |  0:00:50s\n",
      "\n",
      "Early stopping occured at epoch 32 with best_epoch = 12 and best_val_logloss = 3.14053\n",
      "Best weights from best epoch are automatically used!\n",
      "FOLDS :  1\n",
      "Device used : cuda\n",
      "epoch 0  | loss: 4.13479 | val_logloss: 3.73192 |  0:00:01s\n",
      "epoch 10 | loss: 2.86423 | val_logloss: 3.16103 |  0:00:17s\n",
      "epoch 20 | loss: 2.22544 | val_logloss: 3.47416 |  0:00:34s\n",
      "epoch 30 | loss: 1.43728 | val_logloss: 4.85255 |  0:00:50s\n",
      "\n",
      "Early stopping occured at epoch 31 with best_epoch = 11 and best_val_logloss = 3.11477\n",
      "Best weights from best epoch are automatically used!\n",
      "FOLDS :  2\n",
      "Device used : cuda\n",
      "epoch 0  | loss: 4.14196 | val_logloss: 3.64662 |  0:00:01s\n",
      "epoch 10 | loss: 2.88075 | val_logloss: 3.1169  |  0:00:18s\n",
      "epoch 20 | loss: 2.22498 | val_logloss: 3.47917 |  0:00:35s\n",
      "epoch 30 | loss: 1.44404 | val_logloss: 4.76317 |  0:00:51s\n",
      "\n",
      "Early stopping occured at epoch 33 with best_epoch = 13 and best_val_logloss = 3.09824\n",
      "Best weights from best epoch are automatically used!\n",
      "FOLDS :  3\n",
      "Device used : cuda\n",
      "epoch 0  | loss: 4.12368 | val_logloss: 3.70177 |  0:00:01s\n",
      "epoch 10 | loss: 2.85195 | val_logloss: 3.13403 |  0:00:18s\n",
      "epoch 20 | loss: 2.21173 | val_logloss: 3.56793 |  0:00:34s\n",
      "epoch 30 | loss: 1.43102 | val_logloss: 4.88733 |  0:00:50s\n",
      "\n",
      "Early stopping occured at epoch 30 with best_epoch = 10 and best_val_logloss = 3.13403\n",
      "Best weights from best epoch are automatically used!\n",
      "FOLDS :  4\n",
      "Device used : cuda\n",
      "epoch 0  | loss: 4.13813 | val_logloss: 3.66462 |  0:00:01s\n",
      "epoch 10 | loss: 2.86401 | val_logloss: 3.10603 |  0:00:18s\n",
      "epoch 20 | loss: 2.24488 | val_logloss: 3.52916 |  0:00:34s\n",
      "epoch 30 | loss: 1.44576 | val_logloss: 5.21531 |  0:00:50s\n",
      "\n",
      "Early stopping occured at epoch 31 with best_epoch = 11 and best_val_logloss = 3.09795\n",
      "Best weights from best epoch are automatically used!\n",
      "FOLDS :  5\n",
      "Device used : cuda\n",
      "epoch 0  | loss: 4.11802 | val_logloss: 3.5995  |  0:00:01s\n",
      "epoch 10 | loss: 2.83846 | val_logloss: 3.12877 |  0:00:17s\n",
      "epoch 20 | loss: 2.22554 | val_logloss: 3.50851 |  0:00:33s\n",
      "\n",
      "Early stopping occured at epoch 29 with best_epoch = 9 and best_val_logloss = 3.1046\n",
      "Best weights from best epoch are automatically used!\n",
      "FOLDS :  6\n",
      "Device used : cuda\n",
      "epoch 0  | loss: 4.15975 | val_logloss: 3.63913 |  0:00:01s\n",
      "epoch 10 | loss: 2.86903 | val_logloss: 3.10116 |  0:00:18s\n",
      "epoch 20 | loss: 2.27213 | val_logloss: 3.39985 |  0:00:34s\n",
      "epoch 30 | loss: 1.5423  | val_logloss: 4.49649 |  0:00:50s\n",
      "\n",
      "Early stopping occured at epoch 32 with best_epoch = 12 and best_val_logloss = 3.10038\n",
      "Best weights from best epoch are automatically used!\n",
      "FOLDS :  1\n",
      "Device used : cuda\n",
      "epoch 0  | loss: 4.06747 | val_logloss: 3.76838 |  0:00:01s\n",
      "epoch 10 | loss: 2.90391 | val_logloss: 3.14167 |  0:00:17s\n",
      "epoch 20 | loss: 2.32172 | val_logloss: 3.76494 |  0:00:34s\n",
      "epoch 30 | loss: 1.65682 | val_logloss: 4.38285 |  0:00:50s\n",
      "\n",
      "Early stopping occured at epoch 32 with best_epoch = 12 and best_val_logloss = 3.12369\n",
      "Best weights from best epoch are automatically used!\n",
      "FOLDS :  2\n",
      "Device used : cuda\n",
      "epoch 0  | loss: 4.06618 | val_logloss: 3.65968 |  0:00:01s\n",
      "epoch 10 | loss: 2.81966 | val_logloss: 3.10711 |  0:00:17s\n",
      "epoch 20 | loss: 2.11568 | val_logloss: 4.03242 |  0:00:33s\n",
      "\n",
      "Early stopping occured at epoch 29 with best_epoch = 9 and best_val_logloss = 3.09435\n",
      "Best weights from best epoch are automatically used!\n",
      "FOLDS :  3\n",
      "Device used : cuda\n",
      "epoch 0  | loss: 4.0833  | val_logloss: 3.68418 |  0:00:01s\n",
      "epoch 10 | loss: 2.84835 | val_logloss: 3.15218 |  0:00:18s\n",
      "epoch 20 | loss: 2.21118 | val_logloss: 3.5597  |  0:00:34s\n",
      "\n",
      "Early stopping occured at epoch 29 with best_epoch = 9 and best_val_logloss = 3.10891\n",
      "Best weights from best epoch are automatically used!\n",
      "FOLDS :  4\n",
      "Device used : cuda\n",
      "epoch 0  | loss: 4.05867 | val_logloss: 3.71247 |  0:00:01s\n",
      "epoch 10 | loss: 2.81589 | val_logloss: 3.1133  |  0:00:17s\n",
      "epoch 20 | loss: 2.15648 | val_logloss: 3.63153 |  0:00:34s\n",
      "epoch 30 | loss: 1.34766 | val_logloss: 5.043   |  0:00:50s\n",
      "\n",
      "Early stopping occured at epoch 30 with best_epoch = 10 and best_val_logloss = 3.1133\n",
      "Best weights from best epoch are automatically used!\n",
      "FOLDS :  5\n",
      "Device used : cuda\n",
      "epoch 0  | loss: 4.08079 | val_logloss: 3.69787 |  0:00:01s\n",
      "epoch 10 | loss: 2.8213  | val_logloss: 3.1772  |  0:00:18s\n",
      "epoch 20 | loss: 2.16018 | val_logloss: 3.52943 |  0:00:34s\n",
      "\n",
      "Early stopping occured at epoch 29 with best_epoch = 9 and best_val_logloss = 3.08446\n",
      "Best weights from best epoch are automatically used!\n",
      "FOLDS :  6\n",
      "Device used : cuda\n",
      "epoch 0  | loss: 4.06263 | val_logloss: 3.71571 |  0:00:01s\n",
      "epoch 10 | loss: 2.88251 | val_logloss: 3.10388 |  0:00:18s\n",
      "epoch 20 | loss: 2.31638 | val_logloss: 3.36163 |  0:00:34s\n",
      "epoch 30 | loss: 1.68612 | val_logloss: 4.38844 |  0:00:50s\n",
      "\n",
      "Early stopping occured at epoch 32 with best_epoch = 12 and best_val_logloss = 3.09817\n",
      "Best weights from best epoch are automatically used!\n"
     ]
    }
   ],
   "source": [
    "MAX_EPOCH=200\n",
    "device = \"cuda\" if torch.cuda.is_available() else \"cpu\"\n",
    "\n",
    "def seed_everything(seed_value):\n",
    "    random.seed(seed_value)\n",
    "    np.random.seed(seed_value)\n",
    "    torch.manual_seed(seed_value)\n",
    "    os.environ['PYTHONHASHSEED'] = str(seed_value)\n",
    "    \n",
    "    if torch.cuda.is_available(): \n",
    "        torch.cuda.manual_seed(seed_value)\n",
    "        torch.cuda.manual_seed_all(seed_value)\n",
    "        torch.backends.cudnn.deterministic = True\n",
    "        torch.backends.cudnn.benchmark = False\n",
    "\n",
    "def modelling_tabnet(tr, target, te, sample_seed, target_shape):\n",
    "    seed_everything(sample_seed) \n",
    "    tabnet_params = dict(n_d=32, n_a=32, n_steps=1, gamma=1.3, seed = sample_seed,\n",
    "                     lambda_sparse=0, optimizer_fn=torch.optim.Adam,\n",
    "                     optimizer_params=dict(lr=2e-2, weight_decay=1e-5),\n",
    "                     mask_type='entmax',\n",
    "                     scheduler_params=dict(mode=\"min\",\n",
    "                                           patience=5,\n",
    "                                           min_lr=1e-5,\n",
    "                                           factor=0.9,),\n",
    "                     scheduler_fn=torch.optim.lr_scheduler.ReduceLROnPlateau,\n",
    "                     verbose=10,\n",
    "                     )\n",
    "    test_cv_preds = []\n",
    "\n",
    "    oof_preds = np.zeros([len(tr),target_shape])\n",
    "    scores = []\n",
    "    NB_SPLITS = 6\n",
    "    mskf = StratifiedKFold(n_splits=NB_SPLITS, random_state=0, shuffle=True)\n",
    "    for fold_nb, (train_idx, val_idx) in enumerate(mskf.split(tr, target)):\n",
    "        print(\"FOLDS : \", fold_nb+1)\n",
    "\n",
    "        ## model\n",
    "        X_train, y_train = tr[train_idx, :], target[train_idx]\n",
    "        X_val, y_val = tr[val_idx, :], target[val_idx]\n",
    "        model = TabNetClassifier(**tabnet_params)\n",
    "    \n",
    "        model.fit(X_train=X_train,\n",
    "              y_train=y_train,\n",
    "              eval_set=[(X_val, y_val)],\n",
    "              eval_name = [\"val\"],\n",
    "              eval_metric = ['logloss'],\n",
    "              max_epochs=MAX_EPOCH,\n",
    "              patience=20, batch_size=256, virtual_batch_size=128,\n",
    "              num_workers=1)\n",
    "    \n",
    "        preds_val = model.predict_proba(X_val)\n",
    "        score = np.min(model.history[\"val_logloss\"])\n",
    "        oof_preds[val_idx,:] = preds_val\n",
    "        scores.append(score)\n",
    "\n",
    "        # preds on test\n",
    "        preds_test = model.predict_proba(te)\n",
    "        test_cv_preds.append(preds_test)\n",
    "        \n",
    "    test_preds_all = np.stack(test_cv_preds)\n",
    "    return oof_preds, test_preds_all\n",
    "\n",
    "target_oof = np.zeros([len(fn_train),class_num])\n",
    "target_pred = np.zeros([len(fn_test),class_num])\n",
    "\n",
    "seeds = [0,1,2,3,4]\n",
    "for seed_ in seeds:\n",
    "    oof_preds, test_preds_all = modelling_tabnet(fn_train, fn_multiclass_targets, fn_test, seed_, class_num)\n",
    "    target_oof += oof_preds / len(seeds)\n",
    "    target_pred += test_preds_all.mean(axis=0) / len(seeds)"
   ]
  },
  {
   "cell_type": "code",
   "execution_count": 13,
   "metadata": {
    "execution": {
     "iopub.execute_input": "2021-03-23T04:07:23.200542Z",
     "iopub.status.busy": "2021-03-23T04:07:23.199948Z",
     "iopub.status.idle": "2021-03-23T04:07:23.280099Z",
     "shell.execute_reply": "2021-03-23T04:07:23.279607Z"
    },
    "papermill": {
     "duration": 0.150678,
     "end_time": "2021-03-23T04:07:23.280201",
     "exception": false,
     "start_time": "2021-03-23T04:07:23.129523",
     "status": "completed"
    },
    "tags": []
   },
   "outputs": [],
   "source": [
    "target_oof = np.dot(target_oof, classid_target)[:21948,:]\n",
    "target_pred = np.dot(target_pred, classid_target)"
   ]
  },
  {
   "cell_type": "code",
   "execution_count": 14,
   "metadata": {
    "execution": {
     "iopub.execute_input": "2021-03-23T04:07:23.420113Z",
     "iopub.status.busy": "2021-03-23T04:07:23.419281Z",
     "iopub.status.idle": "2021-03-23T04:07:30.984088Z",
     "shell.execute_reply": "2021-03-23T04:07:30.983114Z"
    },
    "papermill": {
     "duration": 7.642226,
     "end_time": "2021-03-23T04:07:30.984204",
     "exception": false,
     "start_time": "2021-03-23T04:07:23.341978",
     "status": "completed"
    },
    "tags": []
   },
   "outputs": [
    {
     "name": "stdout",
     "output_type": "stream",
     "text": [
      "OOF log loss:  0.01492488092801164\n",
      "OOF log loss:  0.015258924248195863\n"
     ]
    }
   ],
   "source": [
    "p_min = 0.001\n",
    "p_max = 1 - p_min\n",
    "\n",
    "t = pd.read_csv(DATA_DIR + 'train_targets_scored.csv')\n",
    "train_checkscore = t.copy()\n",
    "train_checkscore.loc[train_checkscore.index.isin(cons_train_index),target_feats] = target_oof\n",
    "train_checkscore.loc[train_checkscore.index.isin(noncons_train_index),target_feats] = 0\n",
    "\n",
    "t.drop(\"sig_id\", axis=1, inplace=True)\n",
    "print('OOF log loss: ', log_loss(np.ravel(t), np.ravel(np.array(train_checkscore.iloc[:,1:]))))\n",
    "print('OOF log loss: ', log_loss(np.ravel(t), np.ravel(np.clip(np.array(train_checkscore.iloc[:,1:]),p_min, p_max))))"
   ]
  },
  {
   "cell_type": "code",
   "execution_count": 15,
   "metadata": {
    "execution": {
     "iopub.execute_input": "2021-03-23T04:07:31.114197Z",
     "iopub.status.busy": "2021-03-23T04:07:31.113454Z",
     "iopub.status.idle": "2021-03-23T04:07:42.186262Z",
     "shell.execute_reply": "2021-03-23T04:07:42.185090Z"
    },
    "papermill": {
     "duration": 11.140521,
     "end_time": "2021-03-23T04:07:42.186400",
     "exception": false,
     "start_time": "2021-03-23T04:07:31.045879",
     "status": "completed"
    },
    "tags": []
   },
   "outputs": [],
   "source": [
    "train_checkscore.to_csv(\"tab_newval_oof.csv\", index=False)"
   ]
  },
  {
   "cell_type": "code",
   "execution_count": 16,
   "metadata": {
    "execution": {
     "iopub.execute_input": "2021-03-23T04:07:42.317997Z",
     "iopub.status.busy": "2021-03-23T04:07:42.317116Z",
     "iopub.status.idle": "2021-03-23T04:07:44.018757Z",
     "shell.execute_reply": "2021-03-23T04:07:44.018170Z"
    },
    "papermill": {
     "duration": 1.770736,
     "end_time": "2021-03-23T04:07:44.018867",
     "exception": false,
     "start_time": "2021-03-23T04:07:42.248131",
     "status": "completed"
    },
    "tags": []
   },
   "outputs": [],
   "source": [
    "sub[target_feats] = np.clip(target_pred,p_min,p_max)\n",
    "sub.loc[noncons_test_index,target_feats] = 0\n",
    "sub.to_csv('submission.csv', index=False)"
   ]
  },
  {
   "cell_type": "code",
   "execution_count": null,
   "metadata": {
    "papermill": {
     "duration": 0.061309,
     "end_time": "2021-03-23T04:07:44.142589",
     "exception": false,
     "start_time": "2021-03-23T04:07:44.081280",
     "status": "completed"
    },
    "tags": []
   },
   "outputs": [],
   "source": []
  }
 ],
 "metadata": {
  "kernelspec": {
   "display_name": "Python 3",
   "language": "python",
   "name": "python3"
  },
  "language_info": {
   "codemirror_mode": {
    "name": "ipython",
    "version": 3
   },
   "file_extension": ".py",
   "mimetype": "text/x-python",
   "name": "python",
   "nbconvert_exporter": "python",
   "pygments_lexer": "ipython3",
   "version": "3.7.6"
  },
  "papermill": {
   "duration": 1619.928313,
   "end_time": "2021-03-23T04:07:44.714684",
   "environment_variables": {},
   "exception": null,
   "input_path": "__notebook__.ipynb",
   "output_path": "__notebook__.ipynb",
   "parameters": {},
   "start_time": "2021-03-23T03:40:44.786371",
   "version": "2.1.0"
  }
 },
 "nbformat": 4,
 "nbformat_minor": 4
}
