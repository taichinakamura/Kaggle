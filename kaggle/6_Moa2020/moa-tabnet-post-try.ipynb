{
 "cells": [
  {
   "cell_type": "markdown",
   "metadata": {
    "papermill": {
     "duration": 0.012301,
     "end_time": "2021-03-23T11:13:26.299734",
     "exception": false,
     "start_time": "2021-03-23T11:13:26.287433",
     "status": "completed"
    },
    "tags": []
   },
   "source": [
    "**late submission**\n",
    "- copy tabnet from version 83 \n",
    "- solve as a multiclass classification (metric: logloss)\n",
    "- data augmentation for minor class by cutmix for minor class\n",
    "- 6 fold 5 seed, robust scaler\n",
    "- change weight decay to 1e-4"
   ]
  },
  {
   "cell_type": "code",
   "execution_count": 1,
   "metadata": {
    "execution": {
     "iopub.execute_input": "2021-03-23T11:13:26.328205Z",
     "iopub.status.busy": "2021-03-23T11:13:26.327443Z",
     "iopub.status.idle": "2021-03-23T11:13:33.850611Z",
     "shell.execute_reply": "2021-03-23T11:13:33.849589Z"
    },
    "papermill": {
     "duration": 7.539641,
     "end_time": "2021-03-23T11:13:33.850727",
     "exception": false,
     "start_time": "2021-03-23T11:13:26.311086",
     "status": "completed"
    },
    "tags": []
   },
   "outputs": [
    {
     "name": "stdout",
     "output_type": "stream",
     "text": [
      "Looking in links: /kaggle/input/pytorchtabnet/pytorch_tabnet-2.0.0-py3-none-any.whl\r\n",
      "Processing /kaggle/input/pytorchtabnet/pytorch_tabnet-2.0.0-py3-none-any.whl\r\n",
      "Requirement already satisfied: scipy>1.4 in /opt/conda/lib/python3.7/site-packages (from pytorch-tabnet) (1.4.1)\r\n",
      "Requirement already satisfied: torch<2.0,>=1.2 in /opt/conda/lib/python3.7/site-packages (from pytorch-tabnet) (1.6.0)\r\n",
      "Requirement already satisfied: numpy<2.0,>=1.17 in /opt/conda/lib/python3.7/site-packages (from pytorch-tabnet) (1.18.5)\r\n",
      "Requirement already satisfied: tqdm<5.0,>=4.36 in /opt/conda/lib/python3.7/site-packages (from pytorch-tabnet) (4.45.0)\r\n",
      "Requirement already satisfied: scikit_learn>0.21 in /opt/conda/lib/python3.7/site-packages (from pytorch-tabnet) (0.23.2)\r\n",
      "Requirement already satisfied: future in /opt/conda/lib/python3.7/site-packages (from torch<2.0,>=1.2->pytorch-tabnet) (0.18.2)\r\n",
      "Requirement already satisfied: joblib>=0.11 in /opt/conda/lib/python3.7/site-packages (from scikit_learn>0.21->pytorch-tabnet) (0.14.1)\r\n",
      "Requirement already satisfied: threadpoolctl>=2.0.0 in /opt/conda/lib/python3.7/site-packages (from scikit_learn>0.21->pytorch-tabnet) (2.1.0)\r\n",
      "Installing collected packages: pytorch-tabnet\r\n",
      "Successfully installed pytorch-tabnet-2.0.0\r\n"
     ]
    }
   ],
   "source": [
    "!pip install --no-index --find-links /kaggle/input/pytorchtabnet/pytorch_tabnet-2.0.0-py3-none-any.whl pytorch-tabnet"
   ]
  },
  {
   "cell_type": "code",
   "execution_count": 2,
   "metadata": {
    "_cell_guid": "b1076dfc-b9ad-4769-8c92-a6c4dae69d19",
    "_uuid": "8f2839f25d086af736a60e9eeb907d3b93b6e0e5",
    "execution": {
     "iopub.execute_input": "2021-03-23T11:13:33.887238Z",
     "iopub.status.busy": "2021-03-23T11:13:33.886359Z",
     "iopub.status.idle": "2021-03-23T11:13:41.230444Z",
     "shell.execute_reply": "2021-03-23T11:13:41.229237Z"
    },
    "papermill": {
     "duration": 7.365897,
     "end_time": "2021-03-23T11:13:41.230564",
     "exception": false,
     "start_time": "2021-03-23T11:13:33.864667",
     "status": "completed"
    },
    "tags": []
   },
   "outputs": [],
   "source": [
    "import os\n",
    "import random\n",
    "import warnings\n",
    "import numpy as np\n",
    "import pandas as pd \n",
    "from sklearn import preprocessing\n",
    "from sklearn.decomposition import PCA\n",
    "from sklearn.metrics import log_loss\n",
    "from sklearn.utils import check_random_state\n",
    "from sklearn.model_selection import StratifiedKFold\n",
    "from sklearn.feature_selection import VarianceThreshold\n",
    "from pytorch_tabnet.tab_model import TabNetClassifier\n",
    "\n",
    "import time\n",
    "import torch\n",
    "import torch.nn as nn\n",
    "import torch.optim as optim\n",
    "import torch.nn.functional as F\n",
    "import tensorflow as tf\n",
    "\n",
    "warnings.filterwarnings('ignore')"
   ]
  },
  {
   "cell_type": "code",
   "execution_count": 3,
   "metadata": {
    "execution": {
     "iopub.execute_input": "2021-03-23T11:13:41.272708Z",
     "iopub.status.busy": "2021-03-23T11:13:41.272088Z",
     "iopub.status.idle": "2021-03-23T11:13:49.548051Z",
     "shell.execute_reply": "2021-03-23T11:13:49.547462Z"
    },
    "papermill": {
     "duration": 8.301668,
     "end_time": "2021-03-23T11:13:49.548158",
     "exception": false,
     "start_time": "2021-03-23T11:13:41.246490",
     "status": "completed"
    },
    "tags": []
   },
   "outputs": [],
   "source": [
    "DATA_DIR = '/kaggle/input/lish-moa/'\n",
    "train = pd.read_csv(DATA_DIR + 'train_features.csv')\n",
    "targets = pd.read_csv(DATA_DIR + 'train_targets_scored.csv')\n",
    "non_targets = pd.read_csv(DATA_DIR + 'train_targets_nonscored.csv')\n",
    "test = pd.read_csv(DATA_DIR + 'test_features.csv')\n",
    "sub = pd.read_csv(DATA_DIR + 'sample_submission.csv')\n",
    "drug = pd.read_csv(DATA_DIR + 'train_drug.csv')"
   ]
  },
  {
   "cell_type": "code",
   "execution_count": 4,
   "metadata": {
    "execution": {
     "iopub.execute_input": "2021-03-23T11:13:49.586951Z",
     "iopub.status.busy": "2021-03-23T11:13:49.586177Z",
     "iopub.status.idle": "2021-03-23T11:13:49.673623Z",
     "shell.execute_reply": "2021-03-23T11:13:49.673165Z"
    },
    "papermill": {
     "duration": 0.111962,
     "end_time": "2021-03-23T11:13:49.673735",
     "exception": false,
     "start_time": "2021-03-23T11:13:49.561773",
     "status": "completed"
    },
    "tags": []
   },
   "outputs": [],
   "source": [
    "target_feats = [ i for i in targets.columns if i != \"sig_id\"]\n",
    "g_feats = [i for i in train.columns if \"g-\" in i]\n",
    "c_feats = [i for i in train.columns if \"c-\" in i]\n",
    "\n",
    "noncons_train_index = train[train.cp_type==\"ctl_vehicle\"].index\n",
    "cons_train_index = train[~train.index.isin(noncons_train_index)].index\n",
    "noncons_test_index = test[test.cp_type==\"ctl_vehicle\"].index\n",
    "cons_test_index = test[test.cp_type!=\"ctl_vehicle\"].index"
   ]
  },
  {
   "cell_type": "markdown",
   "metadata": {
    "papermill": {
     "duration": 0.013396,
     "end_time": "2021-03-23T11:13:49.700814",
     "exception": false,
     "start_time": "2021-03-23T11:13:49.687418",
     "status": "completed"
    },
    "tags": []
   },
   "source": [
    "# preprocess"
   ]
  },
  {
   "cell_type": "code",
   "execution_count": 5,
   "metadata": {
    "execution": {
     "iopub.execute_input": "2021-03-23T11:13:49.738350Z",
     "iopub.status.busy": "2021-03-23T11:13:49.737562Z",
     "iopub.status.idle": "2021-03-23T11:14:01.658235Z",
     "shell.execute_reply": "2021-03-23T11:14:01.658621Z"
    },
    "papermill": {
     "duration": 11.944469,
     "end_time": "2021-03-23T11:14:01.658746",
     "exception": false,
     "start_time": "2021-03-23T11:13:49.714277",
     "status": "completed"
    },
    "tags": []
   },
   "outputs": [
    {
     "data": {
      "text/plain": [
       "((23814, 328), (328, 206))"
      ]
     },
     "execution_count": 5,
     "metadata": {},
     "output_type": "execute_result"
    }
   ],
   "source": [
    "def make_string(row):\n",
    "    return str(row[1:].values).replace('[','').replace(']','').replace('\\n','').replace(' ','')\n",
    "\n",
    "targets[\"target_pair\"] = targets.apply(make_string, axis=1)\n",
    "targetpair_id = dict(enumerate(targets[\"target_pair\"].unique()))\n",
    "id_targetpair = {y:x for x,y in targetpair_id.items()}\n",
    "targets[\"target_pair_num\"] = targets[\"target_pair\"].map(id_targetpair)\n",
    "\n",
    "multiclass_targets = pd.get_dummies(targets[\"target_pair_num\"])\n",
    "\n",
    "for i in range(len(id_targetpair.keys())):\n",
    "    if i == 0:\n",
    "        classid_target = np.array(list((targetpair_id[i]))).reshape(1,-1)      \n",
    "    else:\n",
    "        classid_target = np.vstack([classid_target, np.array(list((targetpair_id[i]))).reshape(1,-1)])\n",
    "        \n",
    "classid_target = classid_target.astype(int)\n",
    "class_num = multiclass_targets.shape[1]\n",
    "        \n",
    "multiclass_targets.shape, classid_target.shape"
   ]
  },
  {
   "cell_type": "code",
   "execution_count": 6,
   "metadata": {
    "execution": {
     "iopub.execute_input": "2021-03-23T11:14:01.697825Z",
     "iopub.status.busy": "2021-03-23T11:14:01.696866Z",
     "iopub.status.idle": "2021-03-23T11:14:01.945495Z",
     "shell.execute_reply": "2021-03-23T11:14:01.944976Z"
    },
    "papermill": {
     "duration": 0.272647,
     "end_time": "2021-03-23T11:14:01.945595",
     "exception": false,
     "start_time": "2021-03-23T11:14:01.672948",
     "status": "completed"
    },
    "tags": []
   },
   "outputs": [],
   "source": [
    "train = train[train.index.isin(cons_train_index)].copy().reset_index(drop=True)\n",
    "targets = targets[targets.index.isin(cons_train_index)].copy().reset_index(drop=True)\n",
    "multiclass_targets = targets[\"target_pair_num\"].copy().reset_index(drop=True)"
   ]
  },
  {
   "cell_type": "code",
   "execution_count": 7,
   "metadata": {
    "execution": {
     "iopub.execute_input": "2021-03-23T11:14:01.979763Z",
     "iopub.status.busy": "2021-03-23T11:14:01.978942Z",
     "iopub.status.idle": "2021-03-23T11:14:02.003418Z",
     "shell.execute_reply": "2021-03-23T11:14:02.002884Z"
    },
    "papermill": {
     "duration": 0.043557,
     "end_time": "2021-03-23T11:14:02.003509",
     "exception": false,
     "start_time": "2021-03-23T11:14:01.959952",
     "status": "completed"
    },
    "tags": []
   },
   "outputs": [
    {
     "data": {
      "text/plain": [
       "(Int64Index([326, 327, 318, 312, 325, 310], dtype='int64'),\n",
       " Int64Index([321, 275,  19, 307, 323, 290, 146, 243, 322, 256,\n",
       "             ...\n",
       "             280, 168, 263, 303, 231, 199, 183,  71,  39,   7],\n",
       "            dtype='int64', length=111))"
      ]
     },
     "execution_count": 7,
     "metadata": {},
     "output_type": "execute_result"
    }
   ],
   "source": [
    "tmp = multiclass_targets.value_counts().copy()\n",
    "minor_class = tmp[tmp==1].index\n",
    "minor_class6 = tmp[tmp==6].index\n",
    "minor_class, minor_class6"
   ]
  },
  {
   "cell_type": "markdown",
   "metadata": {
    "papermill": {
     "duration": 0.014119,
     "end_time": "2021-03-23T11:14:02.031941",
     "exception": false,
     "start_time": "2021-03-23T11:14:02.017822",
     "status": "completed"
    },
    "tags": []
   },
   "source": [
    "# feature engineering"
   ]
  },
  {
   "cell_type": "code",
   "execution_count": 8,
   "metadata": {
    "execution": {
     "iopub.execute_input": "2021-03-23T11:14:02.067773Z",
     "iopub.status.busy": "2021-03-23T11:14:02.066980Z",
     "iopub.status.idle": "2021-03-23T11:14:03.490993Z",
     "shell.execute_reply": "2021-03-23T11:14:03.490475Z"
    },
    "papermill": {
     "duration": 1.444157,
     "end_time": "2021-03-23T11:14:03.491092",
     "exception": false,
     "start_time": "2021-03-23T11:14:02.046935",
     "status": "completed"
    },
    "tags": []
   },
   "outputs": [],
   "source": [
    "for i in c_feats + g_feats:\n",
    "    ss = preprocessing.RobustScaler()\n",
    "    ss.fit(train[i].values.reshape(-1,1))\n",
    "    train[i] = ss.transform(train[i].values.reshape(-1,1))\n",
    "    test[i] = ss.transform(test[i].values.reshape(-1,1))"
   ]
  },
  {
   "cell_type": "code",
   "execution_count": 9,
   "metadata": {
    "execution": {
     "iopub.execute_input": "2021-03-23T11:14:03.529395Z",
     "iopub.status.busy": "2021-03-23T11:14:03.528252Z",
     "iopub.status.idle": "2021-03-23T11:14:03.688958Z",
     "shell.execute_reply": "2021-03-23T11:14:03.689975Z"
    },
    "papermill": {
     "duration": 0.183252,
     "end_time": "2021-03-23T11:14:03.690269",
     "exception": false,
     "start_time": "2021-03-23T11:14:03.507017",
     "status": "completed"
    },
    "tags": []
   },
   "outputs": [
    {
     "name": "stdout",
     "output_type": "stream",
     "text": [
      "(21948, 874) (3982, 874)\n"
     ]
    }
   ],
   "source": [
    "def fe(df):\n",
    "    tmp = df.copy()\n",
    "    tmp.loc[:, 'cp_dose'] = tmp.loc[:, 'cp_dose'].map({'D1': 0, 'D2': 1})     \n",
    "    tmp.drop([\"sig_id\", \"cp_type\"], axis=1, inplace=True)\n",
    "    return tmp\n",
    "\n",
    "train = fe(train)\n",
    "test = fe(test)\n",
    "\n",
    "print(train.shape, test.shape)"
   ]
  },
  {
   "cell_type": "code",
   "execution_count": 10,
   "metadata": {
    "execution": {
     "iopub.execute_input": "2021-03-23T11:14:03.755239Z",
     "iopub.status.busy": "2021-03-23T11:14:03.751258Z",
     "iopub.status.idle": "2021-03-23T11:14:05.845594Z",
     "shell.execute_reply": "2021-03-23T11:14:05.846027Z"
    },
    "papermill": {
     "duration": 2.13213,
     "end_time": "2021-03-23T11:14:05.846161",
     "exception": false,
     "start_time": "2021-03-23T11:14:03.714031",
     "status": "completed"
    },
    "tags": []
   },
   "outputs": [
    {
     "name": "stdout",
     "output_type": "stream",
     "text": [
      "[  599  2348  5784 12816 17718 20062]\n",
      "[ 6269  6613  9380 10755 13810 14313]\n",
      "[ 7176  7455  9098 15661 15970 18894]\n",
      "[  858  9318  9931 18208 19565 20789]\n",
      "[ 7176  7455  9098 15661 15970 18894]\n"
     ]
    }
   ],
   "source": [
    "# data augmentation by cutmix\n",
    "# https://www.kaggle.com/yxohrxn/moa-cutmix\n",
    "\n",
    "def cutmix_for_tabular(x, y=None, alpha=1.0, p=1.0, random_state=None):\n",
    "    x_ = x.copy()\n",
    "    n, d = x.shape\n",
    "\n",
    "    if n is not None and random.random() < p:\n",
    "        random_state = check_random_state(random_state)\n",
    "        l = random_state.beta(alpha, alpha)\n",
    "        mask = random_state.choice([False, True], size=d, p=[l, 1.0 - l])\n",
    "        mask = np.where(mask)[0]\n",
    "        shuffle = random_state.choice(n, n, replace=False)\n",
    "        x_[:,mask] = x_[np.ix_(shuffle,mask)]\n",
    "        \n",
    "        if y is not None:\n",
    "            y = l * y + (1.0 - l) * y[shuffle]\n",
    "        \n",
    "    # extract minor class\n",
    "    tmp_index = np.where(np.isin(np.argmax(y, axis=1), minor_class))[0]\n",
    "    print(tmp_index)\n",
    "        \n",
    "    return x_[tmp_index], np.argmax(y[tmp_index],axis=1)\n",
    "\n",
    "for i in [0,1,2,3,4]:\n",
    "    if i == 0:\n",
    "        train_mod, y_mod = cutmix_for_tabular(train.values, \n",
    "                                      pd.get_dummies(multiclass_targets).values, alpha=1, p=1, random_state=i)\n",
    "    else:\n",
    "        train_tmp, y_tmp = cutmix_for_tabular(train.values, \n",
    "                                      pd.get_dummies(multiclass_targets).values, alpha=1, p=1, random_state=i)\n",
    "        train_mod = np.concatenate([train_mod, train_tmp], axis=0)\n",
    "        y_mod = np.concatenate([y_mod, y_tmp])\n",
    "        \n",
    "train_mod = pd.DataFrame(train_mod, columns = train.columns)\n",
    "train = pd.concat([train, train_mod], axis=0).reset_index(drop=True)\n",
    "\n",
    "y_mod = pd.DataFrame(y_mod)\n",
    "multiclass_targets = pd.concat([multiclass_targets, y_mod]).reset_index(drop=True)"
   ]
  },
  {
   "cell_type": "code",
   "execution_count": 11,
   "metadata": {
    "execution": {
     "iopub.execute_input": "2021-03-23T11:14:05.885811Z",
     "iopub.status.busy": "2021-03-23T11:14:05.884070Z",
     "iopub.status.idle": "2021-03-23T11:14:06.222787Z",
     "shell.execute_reply": "2021-03-23T11:14:06.221925Z"
    },
    "papermill": {
     "duration": 0.360254,
     "end_time": "2021-03-23T11:14:06.222905",
     "exception": false,
     "start_time": "2021-03-23T11:14:05.862651",
     "status": "completed"
    },
    "tags": []
   },
   "outputs": [
    {
     "data": {
      "text/plain": [
       "((21978, 874), (3982, 874), (21978,))"
      ]
     },
     "execution_count": 11,
     "metadata": {},
     "output_type": "execute_result"
    }
   ],
   "source": [
    "fn_train = train.copy().to_numpy()\n",
    "fn_test = test.copy().to_numpy()\n",
    "    \n",
    "fn_targets = targets.drop(\"sig_id\", axis=1).copy().to_numpy()\n",
    "fn_multiclass_targets = multiclass_targets.copy().to_numpy().reshape(-1,)\n",
    "\n",
    "fn_train.shape, fn_test.shape, fn_multiclass_targets.shape"
   ]
  },
  {
   "cell_type": "markdown",
   "metadata": {
    "papermill": {
     "duration": 0.016283,
     "end_time": "2021-03-23T11:14:06.255732",
     "exception": false,
     "start_time": "2021-03-23T11:14:06.239449",
     "status": "completed"
    },
    "tags": []
   },
   "source": [
    "# modelling"
   ]
  },
  {
   "cell_type": "code",
   "execution_count": 12,
   "metadata": {
    "execution": {
     "iopub.execute_input": "2021-03-23T11:14:06.670883Z",
     "iopub.status.busy": "2021-03-23T11:14:06.669626Z",
     "iopub.status.idle": "2021-03-23T11:46:36.662241Z",
     "shell.execute_reply": "2021-03-23T11:46:36.662669Z"
    },
    "papermill": {
     "duration": 1950.390811,
     "end_time": "2021-03-23T11:46:36.662874",
     "exception": false,
     "start_time": "2021-03-23T11:14:06.272063",
     "status": "completed"
    },
    "tags": []
   },
   "outputs": [
    {
     "name": "stdout",
     "output_type": "stream",
     "text": [
      "FOLDS :  1\n",
      "Device used : cuda\n",
      "epoch 0  | loss: 4.13934 | val_logloss: 3.667   |  0:00:02s\n",
      "epoch 10 | loss: 2.97112 | val_logloss: 3.10937 |  0:00:17s\n",
      "epoch 20 | loss: 2.72479 | val_logloss: 3.10881 |  0:00:33s\n",
      "epoch 30 | loss: 2.47724 | val_logloss: 3.19402 |  0:00:49s\n",
      "\n",
      "Early stopping occured at epoch 35 with best_epoch = 15 and best_val_logloss = 3.0605\n",
      "Best weights from best epoch are automatically used!\n",
      "FOLDS :  2\n",
      "Device used : cuda\n",
      "epoch 0  | loss: 4.10816 | val_logloss: 3.67552 |  0:00:01s\n",
      "epoch 10 | loss: 2.94775 | val_logloss: 3.29145 |  0:00:16s\n",
      "epoch 20 | loss: 2.73511 | val_logloss: 3.09727 |  0:00:32s\n",
      "epoch 30 | loss: 2.48522 | val_logloss: 3.13994 |  0:00:48s\n",
      "epoch 40 | loss: 2.20551 | val_logloss: 3.30351 |  0:01:04s\n",
      "\n",
      "Early stopping occured at epoch 41 with best_epoch = 21 and best_val_logloss = 3.01696\n",
      "Best weights from best epoch are automatically used!\n",
      "FOLDS :  3\n",
      "Device used : cuda\n",
      "epoch 0  | loss: 4.13042 | val_logloss: 3.69712 |  0:00:01s\n",
      "epoch 10 | loss: 2.98225 | val_logloss: 3.29633 |  0:00:17s\n",
      "epoch 20 | loss: 2.74174 | val_logloss: 3.08372 |  0:00:33s\n",
      "epoch 30 | loss: 2.49648 | val_logloss: 3.1762  |  0:00:48s\n",
      "\n",
      "Early stopping occured at epoch 37 with best_epoch = 17 and best_val_logloss = 3.05135\n",
      "Best weights from best epoch are automatically used!\n",
      "FOLDS :  4\n",
      "Device used : cuda\n",
      "epoch 0  | loss: 4.12171 | val_logloss: 3.6659  |  0:00:01s\n",
      "epoch 10 | loss: 2.96929 | val_logloss: 3.08709 |  0:00:17s\n",
      "epoch 20 | loss: 2.72218 | val_logloss: 3.06263 |  0:00:32s\n",
      "epoch 30 | loss: 2.47329 | val_logloss: 3.18253 |  0:00:48s\n",
      "\n",
      "Early stopping occured at epoch 36 with best_epoch = 16 and best_val_logloss = 3.02696\n",
      "Best weights from best epoch are automatically used!\n",
      "FOLDS :  5\n",
      "Device used : cuda\n",
      "epoch 0  | loss: 4.11426 | val_logloss: 3.66668 |  0:00:01s\n",
      "epoch 10 | loss: 2.9735  | val_logloss: 3.08095 |  0:00:17s\n",
      "epoch 20 | loss: 2.74881 | val_logloss: 3.10973 |  0:00:33s\n",
      "epoch 30 | loss: 2.5352  | val_logloss: 3.13933 |  0:00:49s\n",
      "epoch 40 | loss: 2.29975 | val_logloss: 3.24629 |  0:01:04s\n",
      "\n",
      "Early stopping occured at epoch 41 with best_epoch = 21 and best_val_logloss = 3.0434\n",
      "Best weights from best epoch are automatically used!\n",
      "FOLDS :  6\n",
      "Device used : cuda\n",
      "epoch 0  | loss: 4.12822 | val_logloss: 3.66498 |  0:00:01s\n",
      "epoch 10 | loss: 2.97875 | val_logloss: 3.08767 |  0:00:17s\n",
      "epoch 20 | loss: 2.71532 | val_logloss: 3.09969 |  0:00:33s\n",
      "epoch 30 | loss: 2.49183 | val_logloss: 3.23081 |  0:00:49s\n",
      "\n",
      "Early stopping occured at epoch 33 with best_epoch = 13 and best_val_logloss = 3.05451\n",
      "Best weights from best epoch are automatically used!\n",
      "FOLDS :  1\n",
      "Device used : cuda\n",
      "epoch 0  | loss: 4.08627 | val_logloss: 3.651   |  0:00:01s\n",
      "epoch 10 | loss: 3.01211 | val_logloss: 3.10477 |  0:00:17s\n",
      "epoch 20 | loss: 2.74877 | val_logloss: 3.22574 |  0:00:33s\n",
      "epoch 30 | loss: 2.54049 | val_logloss: 3.14991 |  0:00:49s\n",
      "epoch 40 | loss: 2.3311  | val_logloss: 3.3194  |  0:01:04s\n",
      "\n",
      "Early stopping occured at epoch 43 with best_epoch = 23 and best_val_logloss = 3.0669\n",
      "Best weights from best epoch are automatically used!\n",
      "FOLDS :  2\n",
      "Device used : cuda\n",
      "epoch 0  | loss: 4.07937 | val_logloss: 3.63278 |  0:00:01s\n",
      "epoch 10 | loss: 3.04261 | val_logloss: 3.16618 |  0:00:17s\n",
      "epoch 20 | loss: 2.79617 | val_logloss: 3.37462 |  0:00:32s\n",
      "epoch 30 | loss: 2.62344 | val_logloss: 3.10368 |  0:00:48s\n",
      "epoch 40 | loss: 2.41881 | val_logloss: 3.17943 |  0:01:04s\n",
      "\n",
      "Early stopping occured at epoch 46 with best_epoch = 26 and best_val_logloss = 3.04623\n",
      "Best weights from best epoch are automatically used!\n",
      "FOLDS :  3\n",
      "Device used : cuda\n",
      "epoch 0  | loss: 4.10258 | val_logloss: 3.62736 |  0:00:01s\n",
      "epoch 10 | loss: 2.95376 | val_logloss: 3.30381 |  0:00:17s\n",
      "epoch 20 | loss: 2.71535 | val_logloss: 3.07697 |  0:00:32s\n",
      "epoch 30 | loss: 2.48303 | val_logloss: 3.17724 |  0:00:48s\n",
      "\n",
      "Early stopping occured at epoch 36 with best_epoch = 16 and best_val_logloss = 3.05862\n",
      "Best weights from best epoch are automatically used!\n",
      "FOLDS :  4\n",
      "Device used : cuda\n",
      "epoch 0  | loss: 4.12848 | val_logloss: 3.63731 |  0:00:01s\n",
      "epoch 10 | loss: 2.99669 | val_logloss: 3.10874 |  0:00:17s\n",
      "epoch 20 | loss: 2.76228 | val_logloss: 3.07151 |  0:00:33s\n",
      "epoch 30 | loss: 2.51785 | val_logloss: 3.18119 |  0:00:49s\n",
      "\n",
      "Early stopping occured at epoch 37 with best_epoch = 17 and best_val_logloss = 3.04604\n",
      "Best weights from best epoch are automatically used!\n",
      "FOLDS :  5\n",
      "Device used : cuda\n",
      "epoch 0  | loss: 4.06646 | val_logloss: 3.56462 |  0:00:01s\n",
      "epoch 10 | loss: 2.99958 | val_logloss: 3.11562 |  0:00:17s\n",
      "epoch 20 | loss: 2.77674 | val_logloss: 3.06509 |  0:00:33s\n",
      "epoch 30 | loss: 2.52377 | val_logloss: 3.23079 |  0:00:49s\n",
      "\n",
      "Early stopping occured at epoch 36 with best_epoch = 16 and best_val_logloss = 3.05118\n",
      "Best weights from best epoch are automatically used!\n",
      "FOLDS :  6\n",
      "Device used : cuda\n",
      "epoch 0  | loss: 4.11308 | val_logloss: 3.68575 |  0:00:01s\n",
      "epoch 10 | loss: 2.96541 | val_logloss: 3.09565 |  0:00:17s\n",
      "epoch 20 | loss: 2.71771 | val_logloss: 3.13867 |  0:00:33s\n",
      "epoch 30 | loss: 2.47769 | val_logloss: 3.16392 |  0:00:49s\n",
      "epoch 40 | loss: 2.23493 | val_logloss: 3.32764 |  0:01:04s\n",
      "\n",
      "Early stopping occured at epoch 41 with best_epoch = 21 and best_val_logloss = 3.04745\n",
      "Best weights from best epoch are automatically used!\n",
      "FOLDS :  1\n",
      "Device used : cuda\n",
      "epoch 0  | loss: 4.05587 | val_logloss: 3.7144  |  0:00:01s\n",
      "epoch 10 | loss: 2.98915 | val_logloss: 3.48025 |  0:00:17s\n",
      "epoch 20 | loss: 2.75112 | val_logloss: 3.12608 |  0:00:33s\n",
      "epoch 30 | loss: 2.5746  | val_logloss: 3.1712  |  0:00:48s\n",
      "epoch 40 | loss: 2.39364 | val_logloss: 3.27181 |  0:01:05s\n",
      "\n",
      "Early stopping occured at epoch 43 with best_epoch = 23 and best_val_logloss = 3.07063\n",
      "Best weights from best epoch are automatically used!\n",
      "FOLDS :  2\n",
      "Device used : cuda\n",
      "epoch 0  | loss: 4.04607 | val_logloss: 3.64357 |  0:00:01s\n",
      "epoch 10 | loss: 2.97761 | val_logloss: 3.07586 |  0:00:17s\n",
      "epoch 20 | loss: 2.75438 | val_logloss: 3.10504 |  0:00:32s\n",
      "epoch 30 | loss: 2.57518 | val_logloss: 3.14488 |  0:00:48s\n",
      "\n",
      "Early stopping occured at epoch 38 with best_epoch = 18 and best_val_logloss = 3.04922\n",
      "Best weights from best epoch are automatically used!\n",
      "FOLDS :  3\n",
      "Device used : cuda\n",
      "epoch 0  | loss: 4.02685 | val_logloss: 3.65761 |  0:00:01s\n",
      "epoch 10 | loss: 3.00178 | val_logloss: 3.12833 |  0:00:17s\n",
      "epoch 20 | loss: 2.77133 | val_logloss: 3.24888 |  0:00:33s\n",
      "epoch 30 | loss: 2.57065 | val_logloss: 3.1027  |  0:00:48s\n",
      "\n",
      "Early stopping occured at epoch 39 with best_epoch = 19 and best_val_logloss = 3.06308\n",
      "Best weights from best epoch are automatically used!\n",
      "FOLDS :  4\n",
      "Device used : cuda\n",
      "epoch 0  | loss: 4.03982 | val_logloss: 3.66303 |  0:00:01s\n",
      "epoch 10 | loss: 3.01408 | val_logloss: 3.30808 |  0:00:17s\n",
      "epoch 20 | loss: 2.77923 | val_logloss: 3.12544 |  0:00:33s\n",
      "epoch 30 | loss: 2.58351 | val_logloss: 3.12476 |  0:00:49s\n",
      "epoch 40 | loss: 2.37386 | val_logloss: 3.34559 |  0:01:05s\n",
      "\n",
      "Early stopping occured at epoch 43 with best_epoch = 23 and best_val_logloss = 3.0677\n",
      "Best weights from best epoch are automatically used!\n",
      "FOLDS :  5\n",
      "Device used : cuda\n",
      "epoch 0  | loss: 4.00859 | val_logloss: 3.60269 |  0:00:01s\n",
      "epoch 10 | loss: 3.00855 | val_logloss: 3.0989  |  0:00:17s\n",
      "epoch 20 | loss: 2.76193 | val_logloss: 3.08231 |  0:00:33s\n",
      "epoch 30 | loss: 2.57361 | val_logloss: 3.10501 |  0:00:49s\n",
      "epoch 40 | loss: 2.38764 | val_logloss: 3.24575 |  0:01:05s\n",
      "\n",
      "Early stopping occured at epoch 48 with best_epoch = 28 and best_val_logloss = 3.04783\n",
      "Best weights from best epoch are automatically used!\n",
      "FOLDS :  6\n",
      "Device used : cuda\n",
      "epoch 0  | loss: 4.05178 | val_logloss: 3.63831 |  0:00:01s\n",
      "epoch 10 | loss: 2.99142 | val_logloss: 3.11569 |  0:00:17s\n",
      "epoch 20 | loss: 2.77216 | val_logloss: 3.11582 |  0:00:33s\n",
      "epoch 30 | loss: 2.51693 | val_logloss: 3.12696 |  0:00:49s\n",
      "\n",
      "Early stopping occured at epoch 36 with best_epoch = 16 and best_val_logloss = 3.06668\n",
      "Best weights from best epoch are automatically used!\n",
      "FOLDS :  1\n",
      "Device used : cuda\n",
      "epoch 0  | loss: 4.12386 | val_logloss: 3.64667 |  0:00:01s\n",
      "epoch 10 | loss: 2.98284 | val_logloss: 3.29721 |  0:00:17s\n",
      "epoch 20 | loss: 2.72894 | val_logloss: 3.12727 |  0:00:33s\n",
      "epoch 30 | loss: 2.52531 | val_logloss: 3.14228 |  0:00:49s\n",
      "\n",
      "Early stopping occured at epoch 39 with best_epoch = 19 and best_val_logloss = 3.07958\n",
      "Best weights from best epoch are automatically used!\n",
      "FOLDS :  2\n",
      "Device used : cuda\n",
      "epoch 0  | loss: 4.15328 | val_logloss: 3.67123 |  0:00:01s\n",
      "epoch 10 | loss: 3.02123 | val_logloss: 3.17493 |  0:00:17s\n",
      "epoch 20 | loss: 2.81311 | val_logloss: 3.0617  |  0:00:33s\n",
      "epoch 30 | loss: 2.59206 | val_logloss: 3.08003 |  0:00:49s\n",
      "\n",
      "Early stopping occured at epoch 39 with best_epoch = 19 and best_val_logloss = 3.02253\n",
      "Best weights from best epoch are automatically used!\n",
      "FOLDS :  3\n",
      "Device used : cuda\n",
      "epoch 0  | loss: 4.12362 | val_logloss: 3.64518 |  0:00:01s\n",
      "epoch 10 | loss: 2.9995  | val_logloss: 3.42016 |  0:00:17s\n",
      "epoch 20 | loss: 2.76452 | val_logloss: 3.1024  |  0:00:33s\n",
      "epoch 30 | loss: 2.56477 | val_logloss: 3.14034 |  0:00:49s\n",
      "\n",
      "Early stopping occured at epoch 38 with best_epoch = 18 and best_val_logloss = 3.03322\n",
      "Best weights from best epoch are automatically used!\n",
      "FOLDS :  4\n",
      "Device used : cuda\n",
      "epoch 0  | loss: 4.1265  | val_logloss: 3.62642 |  0:00:01s\n",
      "epoch 10 | loss: 2.99604 | val_logloss: 3.08635 |  0:00:17s\n",
      "epoch 20 | loss: 2.76155 | val_logloss: 3.0362  |  0:00:33s\n",
      "epoch 30 | loss: 2.5603  | val_logloss: 3.1267  |  0:00:49s\n",
      "epoch 40 | loss: 2.35706 | val_logloss: 3.25792 |  0:01:04s\n",
      "\n",
      "Early stopping occured at epoch 40 with best_epoch = 20 and best_val_logloss = 3.0362\n",
      "Best weights from best epoch are automatically used!\n",
      "FOLDS :  5\n",
      "Device used : cuda\n",
      "epoch 0  | loss: 4.10283 | val_logloss: 3.6276  |  0:00:01s\n",
      "epoch 10 | loss: 2.95426 | val_logloss: 3.08355 |  0:00:17s\n",
      "epoch 20 | loss: 2.71862 | val_logloss: 3.07793 |  0:00:33s\n",
      "epoch 30 | loss: 2.47816 | val_logloss: 3.13057 |  0:00:49s\n",
      "epoch 40 | loss: 2.25892 | val_logloss: 3.4915  |  0:01:05s\n",
      "\n",
      "Early stopping occured at epoch 42 with best_epoch = 22 and best_val_logloss = 3.0254\n",
      "Best weights from best epoch are automatically used!\n",
      "FOLDS :  6\n",
      "Device used : cuda\n",
      "epoch 0  | loss: 4.13094 | val_logloss: 3.64858 |  0:00:01s\n",
      "epoch 10 | loss: 2.99101 | val_logloss: 3.13742 |  0:00:17s\n",
      "epoch 20 | loss: 2.74971 | val_logloss: 3.07334 |  0:00:33s\n",
      "epoch 30 | loss: 2.5575  | val_logloss: 3.16094 |  0:00:49s\n",
      "epoch 40 | loss: 2.34079 | val_logloss: 3.26425 |  0:01:05s\n",
      "\n",
      "Early stopping occured at epoch 40 with best_epoch = 20 and best_val_logloss = 3.07334\n",
      "Best weights from best epoch are automatically used!\n",
      "FOLDS :  1\n",
      "Device used : cuda\n",
      "epoch 0  | loss: 4.0406  | val_logloss: 3.68911 |  0:00:01s\n",
      "epoch 10 | loss: 2.98127 | val_logloss: 3.14677 |  0:00:17s\n",
      "epoch 20 | loss: 2.73736 | val_logloss: 3.15004 |  0:00:33s\n",
      "epoch 30 | loss: 2.5033  | val_logloss: 3.18636 |  0:00:49s\n",
      "\n",
      "Early stopping occured at epoch 39 with best_epoch = 19 and best_val_logloss = 3.07799\n",
      "Best weights from best epoch are automatically used!\n",
      "FOLDS :  2\n",
      "Device used : cuda\n",
      "epoch 0  | loss: 4.0412  | val_logloss: 3.62604 |  0:00:01s\n",
      "epoch 10 | loss: 2.97451 | val_logloss: 3.11792 |  0:00:17s\n",
      "epoch 20 | loss: 2.7263  | val_logloss: 3.07455 |  0:00:33s\n",
      "epoch 30 | loss: 2.52735 | val_logloss: 3.1516  |  0:00:49s\n",
      "epoch 40 | loss: 2.3333  | val_logloss: 3.25969 |  0:01:05s\n",
      "\n",
      "Early stopping occured at epoch 42 with best_epoch = 22 and best_val_logloss = 3.04922\n",
      "Best weights from best epoch are automatically used!\n",
      "FOLDS :  3\n",
      "Device used : cuda\n",
      "epoch 0  | loss: 4.06768 | val_logloss: 3.66628 |  0:00:01s\n",
      "epoch 10 | loss: 2.98016 | val_logloss: 3.14476 |  0:00:17s\n",
      "epoch 20 | loss: 2.75483 | val_logloss: 3.79198 |  0:00:33s\n",
      "epoch 30 | loss: 2.54727 | val_logloss: 3.14753 |  0:00:48s\n",
      "\n",
      "Early stopping occured at epoch 38 with best_epoch = 18 and best_val_logloss = 3.05958\n",
      "Best weights from best epoch are automatically used!\n",
      "FOLDS :  4\n",
      "Device used : cuda\n",
      "epoch 0  | loss: 4.05359 | val_logloss: 3.69602 |  0:00:01s\n",
      "epoch 10 | loss: 3.00177 | val_logloss: 3.11049 |  0:00:17s\n",
      "epoch 20 | loss: 2.74576 | val_logloss: 3.08836 |  0:00:33s\n",
      "epoch 30 | loss: 2.52853 | val_logloss: 3.15607 |  0:00:49s\n",
      "\n",
      "Early stopping occured at epoch 35 with best_epoch = 15 and best_val_logloss = 3.06389\n",
      "Best weights from best epoch are automatically used!\n",
      "FOLDS :  5\n",
      "Device used : cuda\n",
      "epoch 0  | loss: 4.09642 | val_logloss: 3.82329 |  0:00:01s\n",
      "epoch 10 | loss: 2.99972 | val_logloss: 3.12028 |  0:00:17s\n",
      "epoch 20 | loss: 2.73987 | val_logloss: 3.06404 |  0:00:33s\n",
      "epoch 30 | loss: 2.55577 | val_logloss: 3.09756 |  0:00:49s\n",
      "\n",
      "Early stopping occured at epoch 38 with best_epoch = 18 and best_val_logloss = 3.05589\n",
      "Best weights from best epoch are automatically used!\n",
      "FOLDS :  6\n",
      "Device used : cuda\n",
      "epoch 0  | loss: 4.07016 | val_logloss: 3.63041 |  0:00:01s\n",
      "epoch 10 | loss: 3.0172  | val_logloss: 3.14871 |  0:00:17s\n",
      "epoch 20 | loss: 2.76259 | val_logloss: 3.09861 |  0:00:33s\n",
      "epoch 30 | loss: 2.58518 | val_logloss: 3.18534 |  0:00:49s\n",
      "\n",
      "Early stopping occured at epoch 38 with best_epoch = 18 and best_val_logloss = 3.06319\n",
      "Best weights from best epoch are automatically used!\n"
     ]
    }
   ],
   "source": [
    "MAX_EPOCH=200\n",
    "device = \"cuda\" if torch.cuda.is_available() else \"cpu\"\n",
    "\n",
    "def seed_everything(seed_value):\n",
    "    random.seed(seed_value)\n",
    "    np.random.seed(seed_value)\n",
    "    torch.manual_seed(seed_value)\n",
    "    os.environ['PYTHONHASHSEED'] = str(seed_value)\n",
    "    \n",
    "    if torch.cuda.is_available(): \n",
    "        torch.cuda.manual_seed(seed_value)\n",
    "        torch.cuda.manual_seed_all(seed_value)\n",
    "        torch.backends.cudnn.deterministic = True\n",
    "        torch.backends.cudnn.benchmark = False\n",
    "\n",
    "def modelling_tabnet(tr, target, te, sample_seed, target_shape):\n",
    "    seed_everything(sample_seed) \n",
    "    tabnet_params = dict(n_d=32, n_a=32, n_steps=1, gamma=1.3, seed = sample_seed,\n",
    "                     lambda_sparse=0, optimizer_fn=torch.optim.Adam,\n",
    "                     optimizer_params=dict(lr=2e-2, weight_decay=1e-4),\n",
    "                     mask_type='entmax',\n",
    "                     scheduler_params=dict(mode=\"min\",\n",
    "                                           patience=5,\n",
    "                                           min_lr=1e-5,\n",
    "                                           factor=0.9,),\n",
    "                     scheduler_fn=torch.optim.lr_scheduler.ReduceLROnPlateau,\n",
    "                     verbose=10,\n",
    "                     )\n",
    "    test_cv_preds = []\n",
    "\n",
    "    oof_preds = np.zeros([len(tr),target_shape])\n",
    "    scores = []\n",
    "    NB_SPLITS = 6\n",
    "    mskf = StratifiedKFold(n_splits=NB_SPLITS, random_state=0, shuffle=True)\n",
    "    for fold_nb, (train_idx, val_idx) in enumerate(mskf.split(tr, target)):\n",
    "        print(\"FOLDS : \", fold_nb+1)\n",
    "\n",
    "        ## model\n",
    "        X_train, y_train = tr[train_idx, :], target[train_idx]\n",
    "        X_val, y_val = tr[val_idx, :], target[val_idx]\n",
    "        model = TabNetClassifier(**tabnet_params)\n",
    "    \n",
    "        model.fit(X_train=X_train,\n",
    "              y_train=y_train,\n",
    "              eval_set=[(X_val, y_val)],\n",
    "              eval_name = [\"val\"],\n",
    "              eval_metric = ['logloss'],\n",
    "              max_epochs=MAX_EPOCH,\n",
    "              patience=20, batch_size=256, virtual_batch_size=128,\n",
    "              num_workers=1)\n",
    "    \n",
    "        preds_val = model.predict_proba(X_val)\n",
    "        score = np.min(model.history[\"val_logloss\"])\n",
    "        oof_preds[val_idx,:] = preds_val\n",
    "        scores.append(score)\n",
    "\n",
    "        # preds on test\n",
    "        preds_test = model.predict_proba(te)\n",
    "        test_cv_preds.append(preds_test)\n",
    "        \n",
    "    test_preds_all = np.stack(test_cv_preds)\n",
    "    return oof_preds, test_preds_all\n",
    "\n",
    "target_oof = np.zeros([len(fn_train),class_num])\n",
    "target_pred = np.zeros([len(fn_test),class_num])\n",
    "\n",
    "seeds = [0,1,2,3,4]\n",
    "for seed_ in seeds:\n",
    "    oof_preds, test_preds_all = modelling_tabnet(fn_train, fn_multiclass_targets, fn_test, seed_, class_num)\n",
    "    target_oof += oof_preds / len(seeds)\n",
    "    target_pred += test_preds_all.mean(axis=0) / len(seeds)"
   ]
  },
  {
   "cell_type": "code",
   "execution_count": 13,
   "metadata": {
    "execution": {
     "iopub.execute_input": "2021-03-23T11:46:36.811652Z",
     "iopub.status.busy": "2021-03-23T11:46:36.811057Z",
     "iopub.status.idle": "2021-03-23T11:46:36.885750Z",
     "shell.execute_reply": "2021-03-23T11:46:36.885157Z"
    },
    "papermill": {
     "duration": 0.153564,
     "end_time": "2021-03-23T11:46:36.885867",
     "exception": false,
     "start_time": "2021-03-23T11:46:36.732303",
     "status": "completed"
    },
    "tags": []
   },
   "outputs": [],
   "source": [
    "target_oof = np.dot(target_oof, classid_target)[:21948,:]\n",
    "target_pred = np.dot(target_pred, classid_target)"
   ]
  },
  {
   "cell_type": "code",
   "execution_count": 14,
   "metadata": {
    "execution": {
     "iopub.execute_input": "2021-03-23T11:46:37.039994Z",
     "iopub.status.busy": "2021-03-23T11:46:37.039198Z",
     "iopub.status.idle": "2021-03-23T11:46:44.309747Z",
     "shell.execute_reply": "2021-03-23T11:46:44.308782Z"
    },
    "papermill": {
     "duration": 7.354907,
     "end_time": "2021-03-23T11:46:44.309866",
     "exception": false,
     "start_time": "2021-03-23T11:46:36.954959",
     "status": "completed"
    },
    "tags": []
   },
   "outputs": [
    {
     "name": "stdout",
     "output_type": "stream",
     "text": [
      "OOF log loss:  0.01466766080403371\n",
      "OOF log loss:  0.015007241161113483\n"
     ]
    }
   ],
   "source": [
    "p_min = 0.001\n",
    "p_max = 1 - p_min\n",
    "\n",
    "t = pd.read_csv(DATA_DIR + 'train_targets_scored.csv')\n",
    "train_checkscore = t.copy()\n",
    "train_checkscore.loc[train_checkscore.index.isin(cons_train_index),target_feats] = target_oof\n",
    "train_checkscore.loc[train_checkscore.index.isin(noncons_train_index),target_feats] = 0\n",
    "\n",
    "t.drop(\"sig_id\", axis=1, inplace=True)\n",
    "print('OOF log loss: ', log_loss(np.ravel(t), np.ravel(np.array(train_checkscore.iloc[:,1:]))))\n",
    "print('OOF log loss: ', log_loss(np.ravel(t), np.ravel(np.clip(np.array(train_checkscore.iloc[:,1:]),p_min, p_max))))"
   ]
  },
  {
   "cell_type": "code",
   "execution_count": 15,
   "metadata": {
    "execution": {
     "iopub.execute_input": "2021-03-23T11:46:44.452805Z",
     "iopub.status.busy": "2021-03-23T11:46:44.452287Z",
     "iopub.status.idle": "2021-03-23T11:46:55.261332Z",
     "shell.execute_reply": "2021-03-23T11:46:55.260383Z"
    },
    "papermill": {
     "duration": 10.882122,
     "end_time": "2021-03-23T11:46:55.261466",
     "exception": false,
     "start_time": "2021-03-23T11:46:44.379344",
     "status": "completed"
    },
    "tags": []
   },
   "outputs": [],
   "source": [
    "train_checkscore.to_csv(\"tab_newval_oof.csv\", index=False)"
   ]
  },
  {
   "cell_type": "code",
   "execution_count": 16,
   "metadata": {
    "execution": {
     "iopub.execute_input": "2021-03-23T11:46:55.411383Z",
     "iopub.status.busy": "2021-03-23T11:46:55.410606Z",
     "iopub.status.idle": "2021-03-23T11:46:57.052141Z",
     "shell.execute_reply": "2021-03-23T11:46:57.051589Z"
    },
    "papermill": {
     "duration": 1.71646,
     "end_time": "2021-03-23T11:46:57.052250",
     "exception": false,
     "start_time": "2021-03-23T11:46:55.335790",
     "status": "completed"
    },
    "tags": []
   },
   "outputs": [],
   "source": [
    "sub[target_feats] = np.clip(target_pred,p_min,p_max)\n",
    "sub.loc[noncons_test_index,target_feats] = 0\n",
    "sub.to_csv('submission.csv', index=False)"
   ]
  },
  {
   "cell_type": "code",
   "execution_count": null,
   "metadata": {
    "papermill": {
     "duration": 0.116357,
     "end_time": "2021-03-23T11:46:57.265860",
     "exception": false,
     "start_time": "2021-03-23T11:46:57.149503",
     "status": "completed"
    },
    "tags": []
   },
   "outputs": [],
   "source": []
  }
 ],
 "metadata": {
  "kernelspec": {
   "display_name": "Python 3",
   "language": "python",
   "name": "python3"
  },
  "language_info": {
   "codemirror_mode": {
    "name": "ipython",
    "version": 3
   },
   "file_extension": ".py",
   "mimetype": "text/x-python",
   "name": "python",
   "nbconvert_exporter": "python",
   "pygments_lexer": "ipython3",
   "version": "3.7.6"
  },
  "papermill": {
   "duration": 2016.398073,
   "end_time": "2021-03-23T11:46:58.547815",
   "environment_variables": {},
   "exception": null,
   "input_path": "__notebook__.ipynb",
   "output_path": "__notebook__.ipynb",
   "parameters": {},
   "start_time": "2021-03-23T11:13:22.149742",
   "version": "2.1.0"
  }
 },
 "nbformat": 4,
 "nbformat_minor": 4
}
