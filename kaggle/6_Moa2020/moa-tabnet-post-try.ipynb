{
 "cells": [
  {
   "cell_type": "markdown",
   "metadata": {
    "papermill": {
     "duration": 0.011949,
     "end_time": "2021-03-20T08:46:55.923560",
     "exception": false,
     "start_time": "2021-03-20T08:46:55.911611",
     "status": "completed"
    },
    "tags": []
   },
   "source": [
    "**late submission**\n",
    "- copy tabnet from version 83 \n",
    "- solve as a multiclass classification (metric: logloss)\n",
    "- data augmentation for minor class by cutmix\n",
    "- 6 fold 2 seed\n",
    "- change batch size to 512"
   ]
  },
  {
   "cell_type": "code",
   "execution_count": 1,
   "metadata": {
    "execution": {
     "iopub.execute_input": "2021-03-20T08:46:55.949729Z",
     "iopub.status.busy": "2021-03-20T08:46:55.949167Z",
     "iopub.status.idle": "2021-03-20T08:47:03.284577Z",
     "shell.execute_reply": "2021-03-20T08:47:03.283528Z"
    },
    "papermill": {
     "duration": 7.350535,
     "end_time": "2021-03-20T08:47:03.284701",
     "exception": false,
     "start_time": "2021-03-20T08:46:55.934166",
     "status": "completed"
    },
    "tags": []
   },
   "outputs": [
    {
     "name": "stdout",
     "output_type": "stream",
     "text": [
      "Looking in links: /kaggle/input/pytorchtabnet/pytorch_tabnet-2.0.0-py3-none-any.whl\r\n",
      "Processing /kaggle/input/pytorchtabnet/pytorch_tabnet-2.0.0-py3-none-any.whl\r\n",
      "Requirement already satisfied: tqdm<5.0,>=4.36 in /opt/conda/lib/python3.7/site-packages (from pytorch-tabnet) (4.45.0)\r\n",
      "Requirement already satisfied: numpy<2.0,>=1.17 in /opt/conda/lib/python3.7/site-packages (from pytorch-tabnet) (1.18.5)\r\n",
      "Requirement already satisfied: scipy>1.4 in /opt/conda/lib/python3.7/site-packages (from pytorch-tabnet) (1.4.1)\r\n",
      "Requirement already satisfied: scikit_learn>0.21 in /opt/conda/lib/python3.7/site-packages (from pytorch-tabnet) (0.23.2)\r\n",
      "Requirement already satisfied: torch<2.0,>=1.2 in /opt/conda/lib/python3.7/site-packages (from pytorch-tabnet) (1.6.0)\r\n",
      "Requirement already satisfied: joblib>=0.11 in /opt/conda/lib/python3.7/site-packages (from scikit_learn>0.21->pytorch-tabnet) (0.14.1)\r\n",
      "Requirement already satisfied: threadpoolctl>=2.0.0 in /opt/conda/lib/python3.7/site-packages (from scikit_learn>0.21->pytorch-tabnet) (2.1.0)\r\n",
      "Requirement already satisfied: future in /opt/conda/lib/python3.7/site-packages (from torch<2.0,>=1.2->pytorch-tabnet) (0.18.2)\r\n",
      "Installing collected packages: pytorch-tabnet\r\n",
      "Successfully installed pytorch-tabnet-2.0.0\r\n"
     ]
    }
   ],
   "source": [
    "!pip install --no-index --find-links /kaggle/input/pytorchtabnet/pytorch_tabnet-2.0.0-py3-none-any.whl pytorch-tabnet"
   ]
  },
  {
   "cell_type": "code",
   "execution_count": 2,
   "metadata": {
    "_cell_guid": "b1076dfc-b9ad-4769-8c92-a6c4dae69d19",
    "_uuid": "8f2839f25d086af736a60e9eeb907d3b93b6e0e5",
    "execution": {
     "iopub.execute_input": "2021-03-20T08:47:03.318816Z",
     "iopub.status.busy": "2021-03-20T08:47:03.318014Z",
     "iopub.status.idle": "2021-03-20T08:47:09.791014Z",
     "shell.execute_reply": "2021-03-20T08:47:09.789949Z"
    },
    "papermill": {
     "duration": 6.493449,
     "end_time": "2021-03-20T08:47:09.791130",
     "exception": false,
     "start_time": "2021-03-20T08:47:03.297681",
     "status": "completed"
    },
    "tags": []
   },
   "outputs": [],
   "source": [
    "import os\n",
    "import random\n",
    "import warnings\n",
    "import numpy as np\n",
    "import pandas as pd \n",
    "from sklearn.metrics import log_loss\n",
    "from sklearn.utils import check_random_state\n",
    "from sklearn.model_selection import StratifiedKFold\n",
    "from pytorch_tabnet.tab_model import TabNetClassifier\n",
    "\n",
    "import time\n",
    "import torch\n",
    "import torch.nn as nn\n",
    "import torch.optim as optim\n",
    "import torch.nn.functional as F\n",
    "import tensorflow as tf\n",
    "\n",
    "warnings.filterwarnings('ignore')"
   ]
  },
  {
   "cell_type": "code",
   "execution_count": 3,
   "metadata": {
    "execution": {
     "iopub.execute_input": "2021-03-20T08:47:09.827224Z",
     "iopub.status.busy": "2021-03-20T08:47:09.826715Z",
     "iopub.status.idle": "2021-03-20T08:47:17.223120Z",
     "shell.execute_reply": "2021-03-20T08:47:17.222403Z"
    },
    "papermill": {
     "duration": 7.418342,
     "end_time": "2021-03-20T08:47:17.223226",
     "exception": false,
     "start_time": "2021-03-20T08:47:09.804884",
     "status": "completed"
    },
    "tags": []
   },
   "outputs": [],
   "source": [
    "DATA_DIR = '/kaggle/input/lish-moa/'\n",
    "train = pd.read_csv(DATA_DIR + 'train_features.csv')\n",
    "targets = pd.read_csv(DATA_DIR + 'train_targets_scored.csv')\n",
    "non_targets = pd.read_csv(DATA_DIR + 'train_targets_nonscored.csv')\n",
    "test = pd.read_csv(DATA_DIR + 'test_features.csv')\n",
    "sub = pd.read_csv(DATA_DIR + 'sample_submission.csv')\n",
    "drug = pd.read_csv(DATA_DIR + 'train_drug.csv')"
   ]
  },
  {
   "cell_type": "code",
   "execution_count": 4,
   "metadata": {
    "execution": {
     "iopub.execute_input": "2021-03-20T08:47:17.259257Z",
     "iopub.status.busy": "2021-03-20T08:47:17.258648Z",
     "iopub.status.idle": "2021-03-20T08:47:17.345672Z",
     "shell.execute_reply": "2021-03-20T08:47:17.345193Z"
    },
    "papermill": {
     "duration": 0.10972,
     "end_time": "2021-03-20T08:47:17.345777",
     "exception": false,
     "start_time": "2021-03-20T08:47:17.236057",
     "status": "completed"
    },
    "tags": []
   },
   "outputs": [],
   "source": [
    "target_feats = [ i for i in targets.columns if i != \"sig_id\"]\n",
    "g_feats = [i for i in train.columns if \"g-\" in i]\n",
    "c_feats = [i for i in train.columns if \"c-\" in i]\n",
    "\n",
    "noncons_train_index = train[train.cp_type==\"ctl_vehicle\"].index\n",
    "cons_train_index = train[~train.index.isin(noncons_train_index)].index\n",
    "noncons_test_index = test[test.cp_type==\"ctl_vehicle\"].index\n",
    "cons_test_index = test[test.cp_type!=\"ctl_vehicle\"].index"
   ]
  },
  {
   "cell_type": "markdown",
   "metadata": {
    "papermill": {
     "duration": 0.012654,
     "end_time": "2021-03-20T08:47:17.371355",
     "exception": false,
     "start_time": "2021-03-20T08:47:17.358701",
     "status": "completed"
    },
    "tags": []
   },
   "source": [
    "# preprocess"
   ]
  },
  {
   "cell_type": "code",
   "execution_count": 5,
   "metadata": {
    "execution": {
     "iopub.execute_input": "2021-03-20T08:47:17.406988Z",
     "iopub.status.busy": "2021-03-20T08:47:17.406435Z",
     "iopub.status.idle": "2021-03-20T08:47:29.041328Z",
     "shell.execute_reply": "2021-03-20T08:47:29.040848Z"
    },
    "papermill": {
     "duration": 11.657274,
     "end_time": "2021-03-20T08:47:29.041428",
     "exception": false,
     "start_time": "2021-03-20T08:47:17.384154",
     "status": "completed"
    },
    "tags": []
   },
   "outputs": [
    {
     "data": {
      "text/plain": [
       "((23814, 328), (328, 206))"
      ]
     },
     "execution_count": 5,
     "metadata": {},
     "output_type": "execute_result"
    }
   ],
   "source": [
    "def make_string(row):\n",
    "    return str(row[1:].values).replace('[','').replace(']','').replace('\\n','').replace(' ','')\n",
    "\n",
    "targets[\"target_pair\"] = targets.apply(make_string, axis=1)\n",
    "targetpair_id = dict(enumerate(targets[\"target_pair\"].unique()))\n",
    "id_targetpair = {y:x for x,y in targetpair_id.items()}\n",
    "targets[\"target_pair_num\"] = targets[\"target_pair\"].map(id_targetpair)\n",
    "\n",
    "multiclass_targets = pd.get_dummies(targets[\"target_pair_num\"])\n",
    "\n",
    "for i in range(len(id_targetpair.keys())):\n",
    "    if i == 0:\n",
    "        classid_target = np.array(list((targetpair_id[i]))).reshape(1,-1)      \n",
    "    else:\n",
    "        classid_target = np.vstack([classid_target, np.array(list((targetpair_id[i]))).reshape(1,-1)])\n",
    "        \n",
    "classid_target = classid_target.astype(int)\n",
    "class_num = multiclass_targets.shape[1]\n",
    "        \n",
    "multiclass_targets.shape, classid_target.shape"
   ]
  },
  {
   "cell_type": "code",
   "execution_count": 6,
   "metadata": {
    "execution": {
     "iopub.execute_input": "2021-03-20T08:47:29.078969Z",
     "iopub.status.busy": "2021-03-20T08:47:29.078026Z",
     "iopub.status.idle": "2021-03-20T08:47:29.319184Z",
     "shell.execute_reply": "2021-03-20T08:47:29.318729Z"
    },
    "papermill": {
     "duration": 0.264737,
     "end_time": "2021-03-20T08:47:29.319285",
     "exception": false,
     "start_time": "2021-03-20T08:47:29.054548",
     "status": "completed"
    },
    "tags": []
   },
   "outputs": [],
   "source": [
    "train = train[train.index.isin(cons_train_index)].copy().reset_index(drop=True)\n",
    "targets = targets[targets.index.isin(cons_train_index)].copy().reset_index(drop=True)\n",
    "multiclass_targets = targets[\"target_pair_num\"].copy().reset_index(drop=True)"
   ]
  },
  {
   "cell_type": "code",
   "execution_count": 7,
   "metadata": {
    "execution": {
     "iopub.execute_input": "2021-03-20T08:47:29.350209Z",
     "iopub.status.busy": "2021-03-20T08:47:29.349700Z",
     "iopub.status.idle": "2021-03-20T08:47:29.374519Z",
     "shell.execute_reply": "2021-03-20T08:47:29.373798Z"
    },
    "papermill": {
     "duration": 0.041964,
     "end_time": "2021-03-20T08:47:29.374609",
     "exception": false,
     "start_time": "2021-03-20T08:47:29.332645",
     "status": "completed"
    },
    "tags": []
   },
   "outputs": [
    {
     "data": {
      "text/plain": [
       "(Int64Index([326, 327, 318, 312, 325, 310], dtype='int64'),\n",
       " Int64Index([321, 275,  19, 307, 323, 290, 146, 243, 322, 256,\n",
       "             ...\n",
       "             280, 168, 263, 303, 231, 199, 183,  71,  39,   7],\n",
       "            dtype='int64', length=111))"
      ]
     },
     "execution_count": 7,
     "metadata": {},
     "output_type": "execute_result"
    }
   ],
   "source": [
    "tmp = multiclass_targets.value_counts().copy()\n",
    "minor_class = tmp[tmp==1].index\n",
    "minor_class6 = tmp[tmp==6].index\n",
    "minor_class, minor_class6"
   ]
  },
  {
   "cell_type": "markdown",
   "metadata": {
    "papermill": {
     "duration": 0.013299,
     "end_time": "2021-03-20T08:47:29.401969",
     "exception": false,
     "start_time": "2021-03-20T08:47:29.388670",
     "status": "completed"
    },
    "tags": []
   },
   "source": [
    "# feature engineering"
   ]
  },
  {
   "cell_type": "code",
   "execution_count": 8,
   "metadata": {
    "execution": {
     "iopub.execute_input": "2021-03-20T08:47:29.436114Z",
     "iopub.status.busy": "2021-03-20T08:47:29.434933Z",
     "iopub.status.idle": "2021-03-20T08:47:29.562877Z",
     "shell.execute_reply": "2021-03-20T08:47:29.563306Z"
    },
    "papermill": {
     "duration": 0.147991,
     "end_time": "2021-03-20T08:47:29.563437",
     "exception": false,
     "start_time": "2021-03-20T08:47:29.415446",
     "status": "completed"
    },
    "tags": []
   },
   "outputs": [
    {
     "name": "stdout",
     "output_type": "stream",
     "text": [
      "(21948, 874) (3982, 874)\n"
     ]
    }
   ],
   "source": [
    "def fe(df):\n",
    "    tmp = df.copy()\n",
    "    tmp.loc[:, 'cp_dose'] = tmp.loc[:, 'cp_dose'].map({'D1': 0, 'D2': 1})      \n",
    "    tmp.drop([\"sig_id\", \"cp_type\"], axis=1, inplace=True)\n",
    "    return tmp\n",
    "\n",
    "train = fe(train)\n",
    "test = fe(test)\n",
    "\n",
    "print(train.shape, test.shape)"
   ]
  },
  {
   "cell_type": "code",
   "execution_count": 9,
   "metadata": {
    "execution": {
     "iopub.execute_input": "2021-03-20T08:47:29.607609Z",
     "iopub.status.busy": "2021-03-20T08:47:29.606525Z",
     "iopub.status.idle": "2021-03-20T08:47:31.461386Z",
     "shell.execute_reply": "2021-03-20T08:47:31.460670Z"
    },
    "papermill": {
     "duration": 1.883725,
     "end_time": "2021-03-20T08:47:31.461524",
     "exception": false,
     "start_time": "2021-03-20T08:47:29.577799",
     "status": "completed"
    },
    "tags": []
   },
   "outputs": [
    {
     "name": "stdout",
     "output_type": "stream",
     "text": [
      "[  599  2348  5784 12816 17718 20062]\n",
      "[ 6269  6613  9380 10755 13810 14313]\n",
      "[ 7176  7455  9098 15661 15970 18894]\n",
      "[  858  9318  9931 18208 19565 20789]\n",
      "[ 7176  7455  9098 15661 15970 18894]\n"
     ]
    }
   ],
   "source": [
    "# data augmentation by cutmix\n",
    "# https://www.kaggle.com/yxohrxn/moa-cutmix\n",
    "\n",
    "def cutmix_for_tabular(x, y=None, alpha=1.0, p=1.0, random_state=None):\n",
    "    x_ = x.copy()\n",
    "    n, d = x.shape\n",
    "\n",
    "    if n is not None and random.random() < p:\n",
    "        random_state = check_random_state(random_state)\n",
    "        l = random_state.beta(alpha, alpha)\n",
    "        mask = random_state.choice([False, True], size=d, p=[l, 1.0 - l])\n",
    "        mask = np.where(mask)[0]\n",
    "        shuffle = random_state.choice(n, n, replace=False)\n",
    "        x_[:,mask] = x_[np.ix_(shuffle,mask)]\n",
    "        \n",
    "        if y is not None:\n",
    "            y = l * y + (1.0 - l) * y[shuffle]\n",
    "        \n",
    "    # extract minor class\n",
    "    tmp_index = np.where(np.isin(np.argmax(y, axis=1), minor_class))[0]\n",
    "    print(tmp_index)\n",
    "        \n",
    "    return x_[tmp_index], np.argmax(y[tmp_index],axis=1)\n",
    "\n",
    "for i in [0,1,2,3,4]:\n",
    "    if i == 0:\n",
    "        train_mod, y_mod = cutmix_for_tabular(train.values, \n",
    "                                      pd.get_dummies(multiclass_targets).values, alpha=1, p=1, random_state=i)\n",
    "    else:\n",
    "        train_tmp, y_tmp = cutmix_for_tabular(train.values, \n",
    "                                      pd.get_dummies(multiclass_targets).values, alpha=1, p=1, random_state=i)\n",
    "        train_mod = np.concatenate([train_mod, train_tmp], axis=0)\n",
    "        y_mod = np.concatenate([y_mod, y_tmp])\n",
    "        \n",
    "train_mod = pd.DataFrame(train_mod, columns = train.columns)\n",
    "train = pd.concat([train, train_mod], axis=0).reset_index(drop=True)\n",
    "\n",
    "y_mod = pd.DataFrame(y_mod)\n",
    "multiclass_targets = pd.concat([multiclass_targets, y_mod]).reset_index(drop=True)"
   ]
  },
  {
   "cell_type": "code",
   "execution_count": 10,
   "metadata": {
    "execution": {
     "iopub.execute_input": "2021-03-20T08:47:31.499287Z",
     "iopub.status.busy": "2021-03-20T08:47:31.498198Z",
     "iopub.status.idle": "2021-03-20T08:47:31.824053Z",
     "shell.execute_reply": "2021-03-20T08:47:31.823461Z"
    },
    "papermill": {
     "duration": 0.346674,
     "end_time": "2021-03-20T08:47:31.824159",
     "exception": false,
     "start_time": "2021-03-20T08:47:31.477485",
     "status": "completed"
    },
    "tags": []
   },
   "outputs": [
    {
     "data": {
      "text/plain": [
       "((21978, 874), (3982, 874), (21978,))"
      ]
     },
     "execution_count": 10,
     "metadata": {},
     "output_type": "execute_result"
    }
   ],
   "source": [
    "fn_train = train.copy().to_numpy()\n",
    "fn_test = test.copy().to_numpy()\n",
    "    \n",
    "fn_targets = targets.drop(\"sig_id\", axis=1).copy().to_numpy()\n",
    "fn_multiclass_targets = multiclass_targets.copy().to_numpy().reshape(-1,)\n",
    "\n",
    "fn_train.shape, fn_test.shape, fn_multiclass_targets.shape"
   ]
  },
  {
   "cell_type": "markdown",
   "metadata": {
    "papermill": {
     "duration": 0.015729,
     "end_time": "2021-03-20T08:47:31.856236",
     "exception": false,
     "start_time": "2021-03-20T08:47:31.840507",
     "status": "completed"
    },
    "tags": []
   },
   "source": [
    "# modelling"
   ]
  },
  {
   "cell_type": "code",
   "execution_count": 11,
   "metadata": {
    "execution": {
     "iopub.execute_input": "2021-03-20T08:47:32.257072Z",
     "iopub.status.busy": "2021-03-20T08:47:32.256326Z",
     "iopub.status.idle": "2021-03-20T08:54:14.877788Z",
     "shell.execute_reply": "2021-03-20T08:54:14.878954Z"
    },
    "papermill": {
     "duration": 403.006781,
     "end_time": "2021-03-20T08:54:14.879145",
     "exception": false,
     "start_time": "2021-03-20T08:47:31.872364",
     "status": "completed"
    },
    "tags": []
   },
   "outputs": [
    {
     "name": "stdout",
     "output_type": "stream",
     "text": [
      "FOLDS :  1\n",
      "Device used : cuda\n",
      "epoch 0  | loss: 4.43123 | val_logloss: 3.78796 |  0:00:01s\n",
      "epoch 10 | loss: 2.87846 | val_logloss: 3.17692 |  0:00:12s\n",
      "epoch 20 | loss: 2.14594 | val_logloss: 3.67625 |  0:00:22s\n",
      "\n",
      "Early stopping occured at epoch 27 with best_epoch = 7 and best_val_logloss = 3.14602\n",
      "Best weights from best epoch are automatically used!\n",
      "FOLDS :  2\n",
      "Device used : cuda\n",
      "epoch 0  | loss: 4.44176 | val_logloss: 3.75457 |  0:00:01s\n",
      "epoch 10 | loss: 2.87023 | val_logloss: 3.14335 |  0:00:11s\n",
      "epoch 20 | loss: 2.16785 | val_logloss: 4.11665 |  0:00:22s\n",
      "\n",
      "Early stopping occured at epoch 27 with best_epoch = 7 and best_val_logloss = 3.12499\n",
      "Best weights from best epoch are automatically used!\n",
      "FOLDS :  3\n",
      "Device used : cuda\n",
      "epoch 0  | loss: 4.41961 | val_logloss: 3.7912  |  0:00:01s\n",
      "epoch 10 | loss: 2.88194 | val_logloss: 3.15675 |  0:00:11s\n",
      "epoch 20 | loss: 2.21087 | val_logloss: 3.73764 |  0:00:22s\n",
      "epoch 30 | loss: 1.35916 | val_logloss: 5.1574  |  0:00:32s\n",
      "\n",
      "Early stopping occured at epoch 30 with best_epoch = 10 and best_val_logloss = 3.15675\n",
      "Best weights from best epoch are automatically used!\n",
      "FOLDS :  4\n",
      "Device used : cuda\n",
      "epoch 0  | loss: 4.44554 | val_logloss: 3.82455 |  0:00:01s\n",
      "epoch 10 | loss: 2.90142 | val_logloss: 3.19598 |  0:00:11s\n",
      "epoch 20 | loss: 2.2349  | val_logloss: 3.54787 |  0:00:22s\n",
      "\n",
      "Early stopping occured at epoch 29 with best_epoch = 9 and best_val_logloss = 3.16471\n",
      "Best weights from best epoch are automatically used!\n",
      "FOLDS :  5\n",
      "Device used : cuda\n",
      "epoch 0  | loss: 4.44386 | val_logloss: 3.83873 |  0:00:01s\n",
      "epoch 10 | loss: 2.87226 | val_logloss: 3.14238 |  0:00:11s\n",
      "epoch 20 | loss: 2.22746 | val_logloss: 3.61935 |  0:00:22s\n",
      "\n",
      "Early stopping occured at epoch 28 with best_epoch = 8 and best_val_logloss = 3.12821\n",
      "Best weights from best epoch are automatically used!\n",
      "FOLDS :  6\n",
      "Device used : cuda\n",
      "epoch 0  | loss: 4.44616 | val_logloss: 3.73785 |  0:00:00s\n",
      "epoch 10 | loss: 2.91573 | val_logloss: 3.16155 |  0:00:11s\n",
      "epoch 20 | loss: 2.30296 | val_logloss: 3.48593 |  0:00:22s\n",
      "\n",
      "Early stopping occured at epoch 28 with best_epoch = 8 and best_val_logloss = 3.16064\n",
      "Best weights from best epoch are automatically used!\n",
      "FOLDS :  1\n",
      "Device used : cuda\n",
      "epoch 0  | loss: 4.45676 | val_logloss: 3.74285 |  0:00:01s\n",
      "epoch 10 | loss: 2.90578 | val_logloss: 3.18209 |  0:00:11s\n",
      "epoch 20 | loss: 2.26494 | val_logloss: 3.56304 |  0:00:22s\n",
      "epoch 30 | loss: 1.51041 | val_logloss: 4.87204 |  0:00:33s\n",
      "\n",
      "Early stopping occured at epoch 31 with best_epoch = 11 and best_val_logloss = 3.13146\n",
      "Best weights from best epoch are automatically used!\n",
      "FOLDS :  2\n",
      "Device used : cuda\n",
      "epoch 0  | loss: 4.45851 | val_logloss: 3.75801 |  0:00:01s\n",
      "epoch 10 | loss: 2.89062 | val_logloss: 3.14729 |  0:00:11s\n",
      "epoch 20 | loss: 2.26855 | val_logloss: 3.44545 |  0:00:22s\n",
      "\n",
      "Early stopping occured at epoch 29 with best_epoch = 9 and best_val_logloss = 3.12172\n",
      "Best weights from best epoch are automatically used!\n",
      "FOLDS :  3\n",
      "Device used : cuda\n",
      "epoch 0  | loss: 4.42973 | val_logloss: 3.82244 |  0:00:01s\n",
      "epoch 10 | loss: 2.89434 | val_logloss: 3.16181 |  0:00:12s\n",
      "epoch 20 | loss: 2.26288 | val_logloss: 3.58551 |  0:00:22s\n",
      "epoch 30 | loss: 1.476   | val_logloss: 5.25117 |  0:00:33s\n",
      "\n",
      "Early stopping occured at epoch 30 with best_epoch = 10 and best_val_logloss = 3.16181\n",
      "Best weights from best epoch are automatically used!\n",
      "FOLDS :  4\n",
      "Device used : cuda\n",
      "epoch 0  | loss: 4.4254  | val_logloss: 3.72027 |  0:00:01s\n",
      "epoch 10 | loss: 2.89312 | val_logloss: 3.15322 |  0:00:12s\n",
      "epoch 20 | loss: 2.24994 | val_logloss: 3.63886 |  0:00:22s\n",
      "epoch 30 | loss: 1.48178 | val_logloss: 4.84663 |  0:00:33s\n",
      "\n",
      "Early stopping occured at epoch 30 with best_epoch = 10 and best_val_logloss = 3.15322\n",
      "Best weights from best epoch are automatically used!\n",
      "FOLDS :  5\n",
      "Device used : cuda\n",
      "epoch 0  | loss: 4.42237 | val_logloss: 3.72029 |  0:00:01s\n",
      "epoch 10 | loss: 2.90121 | val_logloss: 3.13269 |  0:00:12s\n",
      "epoch 20 | loss: 2.22215 | val_logloss: 3.58533 |  0:00:23s\n",
      "epoch 30 | loss: 1.46579 | val_logloss: 4.86659 |  0:00:33s\n",
      "\n",
      "Early stopping occured at epoch 32 with best_epoch = 12 and best_val_logloss = 3.1321\n",
      "Best weights from best epoch are automatically used!\n",
      "FOLDS :  6\n",
      "Device used : cuda\n",
      "epoch 0  | loss: 4.45527 | val_logloss: 3.78556 |  0:00:01s\n",
      "epoch 10 | loss: 2.91204 | val_logloss: 3.19048 |  0:00:12s\n",
      "epoch 20 | loss: 2.18342 | val_logloss: 3.60637 |  0:00:22s\n",
      "\n",
      "Early stopping occured at epoch 29 with best_epoch = 9 and best_val_logloss = 3.15489\n",
      "Best weights from best epoch are automatically used!\n"
     ]
    }
   ],
   "source": [
    "MAX_EPOCH=200\n",
    "device = \"cuda\" if torch.cuda.is_available() else \"cpu\"\n",
    "\n",
    "def seed_everything(seed_value):\n",
    "    random.seed(seed_value)\n",
    "    np.random.seed(seed_value)\n",
    "    torch.manual_seed(seed_value)\n",
    "    os.environ['PYTHONHASHSEED'] = str(seed_value)\n",
    "    \n",
    "    if torch.cuda.is_available(): \n",
    "        torch.cuda.manual_seed(seed_value)\n",
    "        torch.cuda.manual_seed_all(seed_value)\n",
    "        torch.backends.cudnn.deterministic = True\n",
    "        torch.backends.cudnn.benchmark = False\n",
    "\n",
    "def modelling_tabnet(tr, target, te, sample_seed, target_shape):\n",
    "    seed_everything(sample_seed) \n",
    "    tabnet_params = dict(n_d=32, n_a=32, n_steps=1, gamma=1.3, seed = sample_seed,\n",
    "                     lambda_sparse=0, optimizer_fn=torch.optim.Adam,\n",
    "                     optimizer_params=dict(lr=2e-2, weight_decay=1e-5),\n",
    "                     mask_type='entmax',\n",
    "                     scheduler_params=dict(mode=\"min\",\n",
    "                                           patience=5,\n",
    "                                           min_lr=1e-5,\n",
    "                                           factor=0.9,),\n",
    "                     scheduler_fn=torch.optim.lr_scheduler.ReduceLROnPlateau,\n",
    "                     verbose=10,\n",
    "                     )\n",
    "    test_cv_preds = []\n",
    "\n",
    "    oof_preds = np.zeros([len(tr),target_shape])\n",
    "    scores = []\n",
    "    NB_SPLITS = 6\n",
    "    mskf = StratifiedKFold(n_splits=NB_SPLITS, random_state=0, shuffle=True)\n",
    "    for fold_nb, (train_idx, val_idx) in enumerate(mskf.split(tr, target)):\n",
    "        print(\"FOLDS : \", fold_nb+1)\n",
    "\n",
    "        ## model\n",
    "        X_train, y_train = tr[train_idx, :], target[train_idx]\n",
    "        X_val, y_val = tr[val_idx, :], target[val_idx]\n",
    "        model = TabNetClassifier(**tabnet_params)\n",
    "    \n",
    "        model.fit(X_train=X_train,\n",
    "              y_train=y_train,\n",
    "              eval_set=[(X_val, y_val)],\n",
    "              eval_name = [\"val\"],\n",
    "              eval_metric = ['logloss'],\n",
    "              max_epochs=MAX_EPOCH,\n",
    "              patience=20, batch_size=512, virtual_batch_size=128,\n",
    "              num_workers=1)\n",
    "    \n",
    "        preds_val = model.predict_proba(X_val)\n",
    "        score = np.min(model.history[\"val_logloss\"])\n",
    "        oof_preds[val_idx,:] = preds_val\n",
    "        scores.append(score)\n",
    "\n",
    "        # preds on test\n",
    "        preds_test = model.predict_proba(te)\n",
    "        test_cv_preds.append(preds_test)\n",
    "        \n",
    "    test_preds_all = np.stack(test_cv_preds)\n",
    "    return oof_preds, test_preds_all\n",
    "\n",
    "target_oof = np.zeros([len(fn_train),class_num])\n",
    "target_pred = np.zeros([len(fn_test),class_num])\n",
    "\n",
    "seeds = [0,1] #,2,3,4]\n",
    "for seed_ in seeds:\n",
    "    oof_preds, test_preds_all = modelling_tabnet(fn_train, fn_multiclass_targets, fn_test, seed_, class_num)\n",
    "    target_oof += oof_preds / len(seeds)\n",
    "    target_pred += test_preds_all.mean(axis=0) / len(seeds)"
   ]
  },
  {
   "cell_type": "code",
   "execution_count": 12,
   "metadata": {
    "execution": {
     "iopub.execute_input": "2021-03-20T08:54:15.004106Z",
     "iopub.status.busy": "2021-03-20T08:54:15.003342Z",
     "iopub.status.idle": "2021-03-20T08:54:15.124182Z",
     "shell.execute_reply": "2021-03-20T08:54:15.125330Z"
    },
    "papermill": {
     "duration": 0.190794,
     "end_time": "2021-03-20T08:54:15.125513",
     "exception": false,
     "start_time": "2021-03-20T08:54:14.934719",
     "status": "completed"
    },
    "tags": []
   },
   "outputs": [],
   "source": [
    "target_oof = np.dot(target_oof, classid_target)[:21948,:]\n",
    "target_pred = np.dot(target_pred, classid_target)"
   ]
  },
  {
   "cell_type": "code",
   "execution_count": 13,
   "metadata": {
    "execution": {
     "iopub.execute_input": "2021-03-20T08:54:15.251479Z",
     "iopub.status.busy": "2021-03-20T08:54:15.250578Z",
     "iopub.status.idle": "2021-03-20T08:54:22.438974Z",
     "shell.execute_reply": "2021-03-20T08:54:22.439427Z"
    },
    "papermill": {
     "duration": 7.257061,
     "end_time": "2021-03-20T08:54:22.439552",
     "exception": false,
     "start_time": "2021-03-20T08:54:15.182491",
     "status": "completed"
    },
    "tags": []
   },
   "outputs": [
    {
     "name": "stdout",
     "output_type": "stream",
     "text": [
      "OOF log loss:  0.01542961248445792\n",
      "OOF log loss:  0.01573494954430456\n"
     ]
    }
   ],
   "source": [
    "p_min = 0.001\n",
    "p_max = 1 - p_min\n",
    "\n",
    "t = pd.read_csv(DATA_DIR + 'train_targets_scored.csv')\n",
    "train_checkscore = t.copy()\n",
    "train_checkscore.loc[train_checkscore.index.isin(cons_train_index),target_feats] = target_oof\n",
    "train_checkscore.loc[train_checkscore.index.isin(noncons_train_index),target_feats] = 0\n",
    "\n",
    "t.drop(\"sig_id\", axis=1, inplace=True)\n",
    "print('OOF log loss: ', log_loss(np.ravel(t), np.ravel(np.array(train_checkscore.iloc[:,1:]))))\n",
    "print('OOF log loss: ', log_loss(np.ravel(t), np.ravel(np.clip(np.array(train_checkscore.iloc[:,1:]),p_min, p_max))))"
   ]
  },
  {
   "cell_type": "code",
   "execution_count": 14,
   "metadata": {
    "execution": {
     "iopub.execute_input": "2021-03-20T08:54:22.513848Z",
     "iopub.status.busy": "2021-03-20T08:54:22.513109Z",
     "iopub.status.idle": "2021-03-20T08:54:33.621896Z",
     "shell.execute_reply": "2021-03-20T08:54:33.620929Z"
    },
    "papermill": {
     "duration": 11.147377,
     "end_time": "2021-03-20T08:54:33.622007",
     "exception": false,
     "start_time": "2021-03-20T08:54:22.474630",
     "status": "completed"
    },
    "tags": []
   },
   "outputs": [],
   "source": [
    "train_checkscore.to_csv(\"tab_newval_oof.csv\", index=False)"
   ]
  },
  {
   "cell_type": "code",
   "execution_count": 15,
   "metadata": {
    "execution": {
     "iopub.execute_input": "2021-03-20T08:54:33.696508Z",
     "iopub.status.busy": "2021-03-20T08:54:33.695599Z",
     "iopub.status.idle": "2021-03-20T08:54:35.436032Z",
     "shell.execute_reply": "2021-03-20T08:54:35.435567Z"
    },
    "papermill": {
     "duration": 1.779884,
     "end_time": "2021-03-20T08:54:35.436138",
     "exception": false,
     "start_time": "2021-03-20T08:54:33.656254",
     "status": "completed"
    },
    "tags": []
   },
   "outputs": [],
   "source": [
    "sub[target_feats] = np.clip(target_pred,p_min,p_max)\n",
    "sub.loc[noncons_test_index,target_feats] = 0\n",
    "sub.to_csv('submission.csv', index=False)"
   ]
  },
  {
   "cell_type": "code",
   "execution_count": null,
   "metadata": {
    "papermill": {
     "duration": 0.033704,
     "end_time": "2021-03-20T08:54:35.504146",
     "exception": false,
     "start_time": "2021-03-20T08:54:35.470442",
     "status": "completed"
    },
    "tags": []
   },
   "outputs": [],
   "source": []
  }
 ],
 "metadata": {
  "kernelspec": {
   "display_name": "Python 3",
   "language": "python",
   "name": "python3"
  },
  "language_info": {
   "codemirror_mode": {
    "name": "ipython",
    "version": 3
   },
   "file_extension": ".py",
   "mimetype": "text/x-python",
   "name": "python",
   "nbconvert_exporter": "python",
   "pygments_lexer": "ipython3",
   "version": "3.7.6"
  },
  "papermill": {
   "duration": 463.814838,
   "end_time": "2021-03-20T08:54:35.946178",
   "environment_variables": {},
   "exception": null,
   "input_path": "__notebook__.ipynb",
   "output_path": "__notebook__.ipynb",
   "parameters": {},
   "start_time": "2021-03-20T08:46:52.131340",
   "version": "2.1.0"
  }
 },
 "nbformat": 4,
 "nbformat_minor": 4
}
