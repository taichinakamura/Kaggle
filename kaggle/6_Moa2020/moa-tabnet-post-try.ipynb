{
 "cells": [
  {
   "cell_type": "markdown",
   "metadata": {
    "papermill": {
     "duration": 0.015923,
     "end_time": "2021-03-20T01:44:12.806708",
     "exception": false,
     "start_time": "2021-03-20T01:44:12.790785",
     "status": "completed"
    },
    "tags": []
   },
   "source": [
    "**late submission**\n",
    "- copy tabnet from version 83 \n",
    "- solve as a multiclass classification (metric: logloss)\n",
    "- data augmentation for minor class by cutmix\n",
    "- postprocess clipping"
   ]
  },
  {
   "cell_type": "code",
   "execution_count": 1,
   "metadata": {
    "execution": {
     "iopub.execute_input": "2021-03-20T01:44:12.841062Z",
     "iopub.status.busy": "2021-03-20T01:44:12.840208Z",
     "iopub.status.idle": "2021-03-20T01:44:20.281115Z",
     "shell.execute_reply": "2021-03-20T01:44:20.280120Z"
    },
    "papermill": {
     "duration": 7.460366,
     "end_time": "2021-03-20T01:44:20.281259",
     "exception": false,
     "start_time": "2021-03-20T01:44:12.820893",
     "status": "completed"
    },
    "tags": []
   },
   "outputs": [
    {
     "name": "stdout",
     "output_type": "stream",
     "text": [
      "Looking in links: /kaggle/input/pytorchtabnet/pytorch_tabnet-2.0.0-py3-none-any.whl\r\n",
      "Processing /kaggle/input/pytorchtabnet/pytorch_tabnet-2.0.0-py3-none-any.whl\r\n",
      "Requirement already satisfied: torch<2.0,>=1.2 in /opt/conda/lib/python3.7/site-packages (from pytorch-tabnet) (1.6.0)\r\n",
      "Requirement already satisfied: scikit_learn>0.21 in /opt/conda/lib/python3.7/site-packages (from pytorch-tabnet) (0.23.2)\r\n",
      "Requirement already satisfied: tqdm<5.0,>=4.36 in /opt/conda/lib/python3.7/site-packages (from pytorch-tabnet) (4.45.0)\r\n",
      "Requirement already satisfied: scipy>1.4 in /opt/conda/lib/python3.7/site-packages (from pytorch-tabnet) (1.4.1)\r\n",
      "Requirement already satisfied: numpy<2.0,>=1.17 in /opt/conda/lib/python3.7/site-packages (from pytorch-tabnet) (1.18.5)\r\n",
      "Requirement already satisfied: future in /opt/conda/lib/python3.7/site-packages (from torch<2.0,>=1.2->pytorch-tabnet) (0.18.2)\r\n",
      "Requirement already satisfied: threadpoolctl>=2.0.0 in /opt/conda/lib/python3.7/site-packages (from scikit_learn>0.21->pytorch-tabnet) (2.1.0)\r\n",
      "Requirement already satisfied: joblib>=0.11 in /opt/conda/lib/python3.7/site-packages (from scikit_learn>0.21->pytorch-tabnet) (0.14.1)\r\n",
      "Installing collected packages: pytorch-tabnet\r\n",
      "Successfully installed pytorch-tabnet-2.0.0\r\n"
     ]
    }
   ],
   "source": [
    "!pip install --no-index --find-links /kaggle/input/pytorchtabnet/pytorch_tabnet-2.0.0-py3-none-any.whl pytorch-tabnet"
   ]
  },
  {
   "cell_type": "code",
   "execution_count": 2,
   "metadata": {
    "_cell_guid": "b1076dfc-b9ad-4769-8c92-a6c4dae69d19",
    "_uuid": "8f2839f25d086af736a60e9eeb907d3b93b6e0e5",
    "execution": {
     "iopub.execute_input": "2021-03-20T01:44:20.325724Z",
     "iopub.status.busy": "2021-03-20T01:44:20.324505Z",
     "iopub.status.idle": "2021-03-20T01:44:29.580004Z",
     "shell.execute_reply": "2021-03-20T01:44:29.579215Z"
    },
    "papermill": {
     "duration": 9.280499,
     "end_time": "2021-03-20T01:44:29.580115",
     "exception": false,
     "start_time": "2021-03-20T01:44:20.299616",
     "status": "completed"
    },
    "tags": []
   },
   "outputs": [],
   "source": [
    "import os\n",
    "import sys\n",
    "import random\n",
    "import warnings\n",
    "import numpy as np\n",
    "import pandas as pd \n",
    "from umap import UMAP\n",
    "from sklearn import preprocessing\n",
    "from sklearn.metrics import log_loss,roc_auc_score\n",
    "from sklearn.decomposition import PCA\n",
    "from tqdm import tqdm_notebook as tqdm\n",
    "from sklearn.cluster import KMeans\n",
    "from sklearn.multioutput import MultiOutputClassifier\n",
    "from sklearn.feature_selection import VarianceThreshold\n",
    "from torch.nn.modules.loss import _WeightedLoss\n",
    "from sklearn.model_selection import StratifiedKFold, KFold\n",
    "from sklearn.utils import check_random_state\n",
    "\n",
    "from pytorch_tabnet.metrics import Metric\n",
    "from pytorch_tabnet.tab_model import TabNetRegressor, TabNetClassifier\n",
    "\n",
    "sys.path.append('../input/multilabelstraifier/')\n",
    "from ml_stratifiers import MultilabelStratifiedKFold\n",
    "warnings.filterwarnings('ignore')\n",
    "\n",
    "import time\n",
    "import torch\n",
    "import torch.nn as nn\n",
    "import torch.optim as optim\n",
    "import torch.nn.functional as F\n",
    "import tensorflow as tf"
   ]
  },
  {
   "cell_type": "code",
   "execution_count": 3,
   "metadata": {
    "execution": {
     "iopub.execute_input": "2021-03-20T01:44:29.621238Z",
     "iopub.status.busy": "2021-03-20T01:44:29.620722Z",
     "iopub.status.idle": "2021-03-20T01:44:37.048577Z",
     "shell.execute_reply": "2021-03-20T01:44:37.047114Z"
    },
    "papermill": {
     "duration": 7.4515,
     "end_time": "2021-03-20T01:44:37.048694",
     "exception": false,
     "start_time": "2021-03-20T01:44:29.597194",
     "status": "completed"
    },
    "tags": []
   },
   "outputs": [],
   "source": [
    "DATA_DIR = '/kaggle/input/lish-moa/'\n",
    "train = pd.read_csv(DATA_DIR + 'train_features.csv')\n",
    "targets = pd.read_csv(DATA_DIR + 'train_targets_scored.csv')\n",
    "non_targets = pd.read_csv(DATA_DIR + 'train_targets_nonscored.csv')\n",
    "test = pd.read_csv(DATA_DIR + 'test_features.csv')\n",
    "sub = pd.read_csv(DATA_DIR + 'sample_submission.csv')\n",
    "drug = pd.read_csv(DATA_DIR + 'train_drug.csv')"
   ]
  },
  {
   "cell_type": "code",
   "execution_count": 4,
   "metadata": {
    "execution": {
     "iopub.execute_input": "2021-03-20T01:44:37.092534Z",
     "iopub.status.busy": "2021-03-20T01:44:37.091993Z",
     "iopub.status.idle": "2021-03-20T01:44:37.180599Z",
     "shell.execute_reply": "2021-03-20T01:44:37.180097Z"
    },
    "papermill": {
     "duration": 0.114505,
     "end_time": "2021-03-20T01:44:37.180746",
     "exception": false,
     "start_time": "2021-03-20T01:44:37.066241",
     "status": "completed"
    },
    "tags": []
   },
   "outputs": [],
   "source": [
    "target_feats = [ i for i in targets.columns if i != \"sig_id\"]\n",
    "g_feats = [i for i in train.columns if \"g-\" in i]\n",
    "c_feats = [i for i in train.columns if \"c-\" in i]\n",
    "\n",
    "noncons_train_index = train[train.cp_type==\"ctl_vehicle\"].index\n",
    "cons_train_index = train[~train.index.isin(noncons_train_index)].index\n",
    "noncons_test_index = test[test.cp_type==\"ctl_vehicle\"].index\n",
    "cons_test_index = test[test.cp_type!=\"ctl_vehicle\"].index"
   ]
  },
  {
   "cell_type": "markdown",
   "metadata": {
    "papermill": {
     "duration": 0.016107,
     "end_time": "2021-03-20T01:44:37.213704",
     "exception": false,
     "start_time": "2021-03-20T01:44:37.197597",
     "status": "completed"
    },
    "tags": []
   },
   "source": [
    "# preprocess"
   ]
  },
  {
   "cell_type": "code",
   "execution_count": 5,
   "metadata": {
    "execution": {
     "iopub.execute_input": "2021-03-20T01:44:37.256937Z",
     "iopub.status.busy": "2021-03-20T01:44:37.256244Z",
     "iopub.status.idle": "2021-03-20T01:44:48.483512Z",
     "shell.execute_reply": "2021-03-20T01:44:48.482767Z"
    },
    "papermill": {
     "duration": 11.253567,
     "end_time": "2021-03-20T01:44:48.483618",
     "exception": false,
     "start_time": "2021-03-20T01:44:37.230051",
     "status": "completed"
    },
    "tags": []
   },
   "outputs": [
    {
     "data": {
      "text/plain": [
       "((23814, 328), (328, 206))"
      ]
     },
     "execution_count": 5,
     "metadata": {},
     "output_type": "execute_result"
    }
   ],
   "source": [
    "def make_string(row):\n",
    "    return str(row[1:].values).replace('[','').replace(']','').replace('\\n','').replace(' ','')\n",
    "\n",
    "targets[\"target_pair\"] = targets.apply(make_string, axis=1)\n",
    "targetpair_id = dict(enumerate(targets[\"target_pair\"].unique()))\n",
    "id_targetpair = {y:x for x,y in targetpair_id.items()}\n",
    "targets[\"target_pair_num\"] = targets[\"target_pair\"].map(id_targetpair)\n",
    "\n",
    "multiclass_targets = pd.get_dummies(targets[\"target_pair_num\"])\n",
    "\n",
    "for i in range(len(id_targetpair.keys())):\n",
    "    if i == 0:\n",
    "        classid_target = np.array(list((targetpair_id[i]))).reshape(1,-1)      \n",
    "    else:\n",
    "        classid_target = np.vstack([classid_target, np.array(list((targetpair_id[i]))).reshape(1,-1)])\n",
    "        \n",
    "classid_target = classid_target.astype(int)\n",
    "class_num = multiclass_targets.shape[1]\n",
    "        \n",
    "multiclass_targets.shape, classid_target.shape"
   ]
  },
  {
   "cell_type": "code",
   "execution_count": 6,
   "metadata": {
    "execution": {
     "iopub.execute_input": "2021-03-20T01:44:48.528601Z",
     "iopub.status.busy": "2021-03-20T01:44:48.527622Z",
     "iopub.status.idle": "2021-03-20T01:44:48.769566Z",
     "shell.execute_reply": "2021-03-20T01:44:48.769048Z"
    },
    "papermill": {
     "duration": 0.269227,
     "end_time": "2021-03-20T01:44:48.769669",
     "exception": false,
     "start_time": "2021-03-20T01:44:48.500442",
     "status": "completed"
    },
    "tags": []
   },
   "outputs": [],
   "source": [
    "train = train[train.index.isin(cons_train_index)].copy().reset_index(drop=True)\n",
    "targets = targets[targets.index.isin(cons_train_index)].copy().reset_index(drop=True)\n",
    "multiclass_targets = targets[\"target_pair_num\"].copy().reset_index(drop=True)"
   ]
  },
  {
   "cell_type": "code",
   "execution_count": 7,
   "metadata": {
    "execution": {
     "iopub.execute_input": "2021-03-20T01:44:48.808401Z",
     "iopub.status.busy": "2021-03-20T01:44:48.807566Z",
     "iopub.status.idle": "2021-03-20T01:44:48.829702Z",
     "shell.execute_reply": "2021-03-20T01:44:48.828990Z"
    },
    "papermill": {
     "duration": 0.042955,
     "end_time": "2021-03-20T01:44:48.829802",
     "exception": false,
     "start_time": "2021-03-20T01:44:48.786847",
     "status": "completed"
    },
    "tags": []
   },
   "outputs": [],
   "source": [
    "tmp = multiclass_targets.value_counts().copy()\n",
    "minor_class = tmp[tmp==1].index\n",
    "minor_class_index = multiclass_targets[multiclass_targets.isin(minor_class)].index"
   ]
  },
  {
   "cell_type": "code",
   "execution_count": 8,
   "metadata": {
    "execution": {
     "iopub.execute_input": "2021-03-20T01:44:48.869319Z",
     "iopub.status.busy": "2021-03-20T01:44:48.868531Z",
     "iopub.status.idle": "2021-03-20T01:44:48.872231Z",
     "shell.execute_reply": "2021-03-20T01:44:48.871830Z"
    },
    "papermill": {
     "duration": 0.025186,
     "end_time": "2021-03-20T01:44:48.872320",
     "exception": false,
     "start_time": "2021-03-20T01:44:48.847134",
     "status": "completed"
    },
    "tags": []
   },
   "outputs": [
    {
     "data": {
      "text/plain": [
       "Int64Index([326, 327, 318, 312, 325, 310], dtype='int64')"
      ]
     },
     "execution_count": 8,
     "metadata": {},
     "output_type": "execute_result"
    }
   ],
   "source": [
    "minor_class"
   ]
  },
  {
   "cell_type": "markdown",
   "metadata": {
    "papermill": {
     "duration": 0.017177,
     "end_time": "2021-03-20T01:44:48.906785",
     "exception": false,
     "start_time": "2021-03-20T01:44:48.889608",
     "status": "completed"
    },
    "tags": []
   },
   "source": [
    "# feature engineering"
   ]
  },
  {
   "cell_type": "code",
   "execution_count": 9,
   "metadata": {
    "execution": {
     "iopub.execute_input": "2021-03-20T01:44:48.945137Z",
     "iopub.status.busy": "2021-03-20T01:44:48.944464Z",
     "iopub.status.idle": "2021-03-20T01:44:48.947393Z",
     "shell.execute_reply": "2021-03-20T01:44:48.946950Z"
    },
    "papermill": {
     "duration": 0.023251,
     "end_time": "2021-03-20T01:44:48.947476",
     "exception": false,
     "start_time": "2021-03-20T01:44:48.924225",
     "status": "completed"
    },
    "tags": []
   },
   "outputs": [],
   "source": [
    "#X = train[g_feats+c_feats].copy().values\n",
    "#select = VarianceThreshold(threshold=0.7)\n",
    "#X_new = select.fit_transform(X)\n",
    "#drop_feats = list(np.array(train[g_feats+c_feats].columns)[select.get_support()==False])\n",
    "#len(drop_feats)\n",
    "\n",
    "#train.drop(drop_feats, axis=1, inplace=True)\n",
    "#test.drop(drop_feats, axis=1, inplace=True)\n",
    "\n",
    "#g_feats = [i for i in train.columns if \"g-\" in i]\n",
    "#c_feats = [i for i in train.columns if \"c-\" in i]"
   ]
  },
  {
   "cell_type": "code",
   "execution_count": 10,
   "metadata": {
    "execution": {
     "iopub.execute_input": "2021-03-20T01:44:48.985978Z",
     "iopub.status.busy": "2021-03-20T01:44:48.985312Z",
     "iopub.status.idle": "2021-03-20T01:44:48.988200Z",
     "shell.execute_reply": "2021-03-20T01:44:48.987806Z"
    },
    "papermill": {
     "duration": 0.023372,
     "end_time": "2021-03-20T01:44:48.988296",
     "exception": false,
     "start_time": "2021-03-20T01:44:48.964924",
     "status": "completed"
    },
    "tags": []
   },
   "outputs": [],
   "source": [
    "#for i in c_feats + g_feats:\n",
    "    #ss = preprocessing.QuantileTransformer(n_quantiles=100, random_state=0, output_distribution=\"normal\")\n",
    "#    ss = preprocessing.RobustScaler()\n",
    "#    ss.fit(train[i].values.reshape(-1,1))\n",
    "#    train[i] = ss.transform(train[i].values.reshape(-1,1))\n",
    "#    test[i] = ss.transform(test[i].values.reshape(-1,1))"
   ]
  },
  {
   "cell_type": "code",
   "execution_count": 11,
   "metadata": {
    "execution": {
     "iopub.execute_input": "2021-03-20T01:44:49.027973Z",
     "iopub.status.busy": "2021-03-20T01:44:49.027172Z",
     "iopub.status.idle": "2021-03-20T01:44:49.029968Z",
     "shell.execute_reply": "2021-03-20T01:44:49.029561Z"
    },
    "papermill": {
     "duration": 0.024206,
     "end_time": "2021-03-20T01:44:49.030053",
     "exception": false,
     "start_time": "2021-03-20T01:44:49.005847",
     "status": "completed"
    },
    "tags": []
   },
   "outputs": [],
   "source": [
    "#c_num = 1\n",
    "#pca_c_cols = [\"pca-c\"+str(i+1) for i in range(c_num)]\n",
    "#pca = PCA(n_components=c_num,random_state=42)\n",
    "#c_train = pca.fit_transform(train[c_feats])\n",
    "#c_test = pca.transform(test[c_feats])\n",
    "#c_train = pd.DataFrame(c_train, columns=pca_c_cols)\n",
    "#c_test = pd.DataFrame(c_test, columns=pca_c_cols)\n",
    "\n",
    "#g_num = 10\n",
    "#pca_g_cols = [\"pca-g\"+str(i+1) for i in range(g_num)]\n",
    "#pca = PCA(n_components=g_num, random_state=42)\n",
    "#g_train = pca.fit_transform(train[g_feats])\n",
    "#g_test = pca.transform(test[g_feats])\n",
    "#g_train = pd.DataFrame(g_train, columns=pca_g_cols)\n",
    "#g_test = pd.DataFrame(g_test, columns=pca_g_cols)\n",
    "\n",
    "#train = pd.concat([train, c_train],axis=1)\n",
    "#test = pd.concat([test, c_test],axis=1)\n",
    "#train = pd.concat([train, g_train],axis=1)\n",
    "#test = pd.concat([test, g_test],axis=1)"
   ]
  },
  {
   "cell_type": "code",
   "execution_count": 12,
   "metadata": {
    "execution": {
     "iopub.execute_input": "2021-03-20T01:44:49.069335Z",
     "iopub.status.busy": "2021-03-20T01:44:49.068679Z",
     "iopub.status.idle": "2021-03-20T01:44:49.071721Z",
     "shell.execute_reply": "2021-03-20T01:44:49.071303Z"
    },
    "papermill": {
     "duration": 0.023893,
     "end_time": "2021-03-20T01:44:49.071805",
     "exception": false,
     "start_time": "2021-03-20T01:44:49.047912",
     "status": "completed"
    },
    "tags": []
   },
   "outputs": [],
   "source": [
    "#uc_num = 1\n",
    "#um = UMAP(n_neighbors=30, n_components=uc_num, random_state=42)\n",
    "#um_c_cols = [\"um-c\"+str(i+1) for i in range(uc_num)]#\n",
    "#uc_train = um.fit_transform(train[c_feats])\n",
    "#uc_test = um.transform(test[c_feats])\n",
    "#uc_train = pd.DataFrame(uc_train, columns=um_c_cols)\n",
    "#uc_test = pd.DataFrame(uc_test, columns=um_c_cols)\n",
    "\n",
    "#ug_num = 10\n",
    "#um = UMAP(n_neighbors=30, n_components=ug_num, random_state=42)\n",
    "#um_g_cols = [\"um-g\"+str(i+1) for i in range(ug_num)]\n",
    "#ug_train = um.fit_transform(train[g_feats])\n",
    "#ug_test = um.transform(test[g_feats])\n",
    "#ug_train = pd.DataFrame(ug_train, columns=um_g_cols)\n",
    "#ug_test = pd.DataFrame(ug_test, columns=um_g_cols)\n",
    "\n",
    "#train = pd.concat([train, uc_train],axis=1)\n",
    "#test = pd.concat([test, uc_test],axis=1)\n",
    "#train = pd.concat([train, ug_train],axis=1)\n",
    "#test = pd.concat([test, ug_test],axis=1)"
   ]
  },
  {
   "cell_type": "code",
   "execution_count": 13,
   "metadata": {
    "execution": {
     "iopub.execute_input": "2021-03-20T01:44:49.111101Z",
     "iopub.status.busy": "2021-03-20T01:44:49.110422Z",
     "iopub.status.idle": "2021-03-20T01:44:49.112877Z",
     "shell.execute_reply": "2021-03-20T01:44:49.113374Z"
    },
    "papermill": {
     "duration": 0.023837,
     "end_time": "2021-03-20T01:44:49.113472",
     "exception": false,
     "start_time": "2021-03-20T01:44:49.089635",
     "status": "completed"
    },
    "tags": []
   },
   "outputs": [],
   "source": [
    "#n_clusters_g = 15\n",
    "#n_clusters_c = 5\n",
    "#def create_cluster(train, test, kind, n_clusters):\n",
    "#    if kind == \"g\":\n",
    "#        train_ = train[pca_g_cols].copy()\n",
    "#        test_ = test[pca_g_cols].copy()\n",
    "#    else:\n",
    "#        train_ = train[pca_c_cols].copy()\n",
    "#        test_ = test[pca_c_cols].copy()    \n",
    "#    kmeans = KMeans(n_clusters = n_clusters, random_state = 0).fit(train_)\n",
    "#    train[f'clusters_{kind}'] = kmeans.labels_\n",
    "#    test[f'clusters_{kind}'] = kmeans.predict(test_)\n",
    "#    train = pd.get_dummies(train, columns = [f'clusters_{kind}'])\n",
    "#    test = pd.get_dummies(test, columns = [f'clusters_{kind}'])\n",
    "#    return train, test\n",
    "    \n",
    "#train, test = create_cluster(train, test, kind = 'g', n_clusters = n_clusters_g)\n",
    "#train, test = create_cluster(train, test, kind = 'c', n_clusters = n_clusters_c)"
   ]
  },
  {
   "cell_type": "code",
   "execution_count": 14,
   "metadata": {
    "execution": {
     "iopub.execute_input": "2021-03-20T01:44:49.157136Z",
     "iopub.status.busy": "2021-03-20T01:44:49.156026Z",
     "iopub.status.idle": "2021-03-20T01:44:49.286032Z",
     "shell.execute_reply": "2021-03-20T01:44:49.285559Z"
    },
    "papermill": {
     "duration": 0.15447,
     "end_time": "2021-03-20T01:44:49.286128",
     "exception": false,
     "start_time": "2021-03-20T01:44:49.131658",
     "status": "completed"
    },
    "tags": []
   },
   "outputs": [
    {
     "name": "stdout",
     "output_type": "stream",
     "text": [
      "(21948, 874) (3982, 874)\n"
     ]
    }
   ],
   "source": [
    "def fe(df):\n",
    "    tmp = df.copy()\n",
    "    tmp.loc[:, 'cp_dose'] = tmp.loc[:, 'cp_dose'].map({'D1': 0, 'D2': 1})      \n",
    "    tmp.drop([\"sig_id\", \"cp_type\"], axis=1, inplace=True)\n",
    "    return tmp\n",
    "\n",
    "train = fe(train)\n",
    "test = fe(test)\n",
    "\n",
    "print(train.shape, test.shape)"
   ]
  },
  {
   "cell_type": "code",
   "execution_count": 15,
   "metadata": {
    "execution": {
     "iopub.execute_input": "2021-03-20T01:44:49.339000Z",
     "iopub.status.busy": "2021-03-20T01:44:49.337866Z",
     "iopub.status.idle": "2021-03-20T01:44:51.374847Z",
     "shell.execute_reply": "2021-03-20T01:44:51.374138Z"
    },
    "papermill": {
     "duration": 2.070257,
     "end_time": "2021-03-20T01:44:51.374974",
     "exception": false,
     "start_time": "2021-03-20T01:44:49.304717",
     "status": "completed"
    },
    "tags": []
   },
   "outputs": [
    {
     "name": "stdout",
     "output_type": "stream",
     "text": [
      "[  599  2348  5784 12816 17718 20062]\n",
      "[ 6269  6613  9380 10755 13810 14313]\n",
      "[ 7176  7455  9098 15661 15970 18894]\n",
      "[  858  9318  9931 18208 19565 20789]\n",
      "[ 7176  7455  9098 15661 15970 18894]\n"
     ]
    }
   ],
   "source": [
    "# data augmentation by cutmix\n",
    "# https://www.kaggle.com/yxohrxn/moa-cutmix\n",
    "\n",
    "def cutmix_for_tabular(x, y=None, alpha=1.0, p=1.0, random_state=None):\n",
    "    x_ = x.copy()\n",
    "    n, d = x.shape\n",
    "\n",
    "    if n is not None and random.random() < p:\n",
    "        random_state = check_random_state(random_state)\n",
    "        l = random_state.beta(alpha, alpha)\n",
    "        mask = random_state.choice([False, True], size=d, p=[l, 1.0 - l])\n",
    "        mask = np.where(mask)[0]\n",
    "        shuffle = random_state.choice(n, n, replace=False)\n",
    "        x_[:,mask] = x_[np.ix_(shuffle,mask)]\n",
    "        \n",
    "        if y is not None:\n",
    "            y = l * y + (1.0 - l) * y[shuffle]\n",
    "        \n",
    "    # extract minor class\n",
    "    tmp_index = np.where(np.isin(np.argmax(y, axis=1), minor_class))[0]\n",
    "    print(tmp_index)\n",
    "        \n",
    "    return x_[tmp_index], np.argmax(y[tmp_index],axis=1)\n",
    "\n",
    "for i in [0,1,2,3,4]:\n",
    "    if i == 0:\n",
    "        train_mod, y_mod = cutmix_for_tabular(train.values, \n",
    "                                      pd.get_dummies(multiclass_targets).values, alpha=1, p=1, random_state=i)\n",
    "    else:\n",
    "        train_tmp, y_tmp = cutmix_for_tabular(train.values, \n",
    "                                      pd.get_dummies(multiclass_targets).values, alpha=1, p=1, random_state=i)\n",
    "        train_mod = np.concatenate([train_mod, train_tmp], axis=0)\n",
    "        y_mod = np.concatenate([y_mod, y_tmp])\n",
    "        \n",
    "train_mod = pd.DataFrame(train_mod, columns = train.columns)\n",
    "train = pd.concat([train, train_mod], axis=0).reset_index(drop=True)\n",
    "\n",
    "y_mod = pd.DataFrame(y_mod)\n",
    "multiclass_targets = pd.concat([multiclass_targets, y_mod]).reset_index(drop=True)"
   ]
  },
  {
   "cell_type": "code",
   "execution_count": 16,
   "metadata": {
    "execution": {
     "iopub.execute_input": "2021-03-20T01:44:51.448276Z",
     "iopub.status.busy": "2021-03-20T01:44:51.447428Z",
     "iopub.status.idle": "2021-03-20T01:44:51.825219Z",
     "shell.execute_reply": "2021-03-20T01:44:51.826282Z"
    },
    "papermill": {
     "duration": 0.42098,
     "end_time": "2021-03-20T01:44:51.826469",
     "exception": false,
     "start_time": "2021-03-20T01:44:51.405489",
     "status": "completed"
    },
    "tags": []
   },
   "outputs": [],
   "source": [
    "fn_train = train.copy().to_numpy()\n",
    "fn_test = test.copy().to_numpy()\n",
    "    \n",
    "fn_targets = targets.drop(\"sig_id\", axis=1).copy().to_numpy()\n",
    "fn_multiclass_targets = multiclass_targets.copy().to_numpy().reshape(-1,)"
   ]
  },
  {
   "cell_type": "code",
   "execution_count": 17,
   "metadata": {
    "execution": {
     "iopub.execute_input": "2021-03-20T01:44:51.892774Z",
     "iopub.status.busy": "2021-03-20T01:44:51.891851Z",
     "iopub.status.idle": "2021-03-20T01:44:51.894604Z",
     "shell.execute_reply": "2021-03-20T01:44:51.895020Z"
    },
    "papermill": {
     "duration": 0.032074,
     "end_time": "2021-03-20T01:44:51.895134",
     "exception": false,
     "start_time": "2021-03-20T01:44:51.863060",
     "status": "completed"
    },
    "tags": []
   },
   "outputs": [
    {
     "data": {
      "text/plain": [
       "((21978, 874), (3982, 874), (21978,))"
      ]
     },
     "execution_count": 17,
     "metadata": {},
     "output_type": "execute_result"
    }
   ],
   "source": [
    "fn_train.shape, fn_test.shape, fn_multiclass_targets.shape"
   ]
  },
  {
   "cell_type": "markdown",
   "metadata": {
    "papermill": {
     "duration": 0.020187,
     "end_time": "2021-03-20T01:44:51.936169",
     "exception": false,
     "start_time": "2021-03-20T01:44:51.915982",
     "status": "completed"
    },
    "tags": []
   },
   "source": [
    "# modelling"
   ]
  },
  {
   "cell_type": "code",
   "execution_count": 18,
   "metadata": {
    "execution": {
     "iopub.execute_input": "2021-03-20T01:44:52.347630Z",
     "iopub.status.busy": "2021-03-20T01:44:52.346833Z",
     "iopub.status.idle": "2021-03-20T01:51:40.954234Z",
     "shell.execute_reply": "2021-03-20T01:51:40.953748Z"
    },
    "papermill": {
     "duration": 408.997598,
     "end_time": "2021-03-20T01:51:40.954364",
     "exception": false,
     "start_time": "2021-03-20T01:44:51.956766",
     "status": "completed"
    },
    "tags": []
   },
   "outputs": [
    {
     "name": "stdout",
     "output_type": "stream",
     "text": [
      "FOLDS :  1\n",
      "Device used : cuda\n",
      "epoch 0  | loss: 5.63938 | val_logloss: 5.34741 |  0:00:01s\n",
      "epoch 10 | loss: 3.29167 | val_logloss: 3.35576 |  0:00:09s\n",
      "epoch 20 | loss: 3.04215 | val_logloss: 3.25486 |  0:00:17s\n",
      "epoch 30 | loss: 2.84841 | val_logloss: 3.30825 |  0:00:25s\n",
      "\n",
      "Early stopping occured at epoch 37 with best_epoch = 17 and best_val_logloss = 3.25334\n",
      "Best weights from best epoch are automatically used!\n",
      "FOLDS :  2\n",
      "Device used : cuda\n",
      "epoch 0  | loss: 5.62497 | val_logloss: 5.19518 |  0:00:00s\n",
      "epoch 10 | loss: 3.27392 | val_logloss: 3.29962 |  0:00:08s\n",
      "epoch 20 | loss: 3.05437 | val_logloss: 3.24507 |  0:00:16s\n",
      "epoch 30 | loss: 2.84964 | val_logloss: 3.30106 |  0:00:24s\n",
      "\n",
      "Early stopping occured at epoch 39 with best_epoch = 19 and best_val_logloss = 3.2313\n",
      "Best weights from best epoch are automatically used!\n",
      "FOLDS :  3\n",
      "Device used : cuda\n",
      "epoch 0  | loss: 5.6524  | val_logloss: 5.31011 |  0:00:00s\n",
      "epoch 10 | loss: 3.2792  | val_logloss: 3.28837 |  0:00:08s\n",
      "epoch 20 | loss: 3.04016 | val_logloss: 3.21842 |  0:00:17s\n",
      "epoch 30 | loss: 2.82716 | val_logloss: 3.29684 |  0:00:25s\n",
      "epoch 40 | loss: 2.66211 | val_logloss: 3.46579 |  0:00:33s\n",
      "\n",
      "Early stopping occured at epoch 40 with best_epoch = 20 and best_val_logloss = 3.21842\n",
      "Best weights from best epoch are automatically used!\n",
      "FOLDS :  4\n",
      "Device used : cuda\n",
      "epoch 0  | loss: 5.6086  | val_logloss: 5.25084 |  0:00:00s\n",
      "epoch 10 | loss: 3.30917 | val_logloss: 3.3416  |  0:00:08s\n",
      "epoch 20 | loss: 3.05812 | val_logloss: 3.2286  |  0:00:16s\n",
      "epoch 30 | loss: 2.87353 | val_logloss: 3.27793 |  0:00:25s\n",
      "epoch 40 | loss: 2.69504 | val_logloss: 3.44814 |  0:00:33s\n",
      "\n",
      "Early stopping occured at epoch 44 with best_epoch = 24 and best_val_logloss = 3.20732\n",
      "Best weights from best epoch are automatically used!\n",
      "FOLDS :  5\n",
      "Device used : cuda\n",
      "epoch 0  | loss: 5.62871 | val_logloss: 5.25384 |  0:00:00s\n",
      "epoch 10 | loss: 3.28001 | val_logloss: 3.2976  |  0:00:08s\n",
      "epoch 20 | loss: 3.02559 | val_logloss: 3.21675 |  0:00:16s\n",
      "epoch 30 | loss: 2.81587 | val_logloss: 3.29499 |  0:00:25s\n",
      "\n",
      "Early stopping occured at epoch 38 with best_epoch = 18 and best_val_logloss = 3.20416\n",
      "Best weights from best epoch are automatically used!\n",
      "FOLDS :  6\n",
      "Device used : cuda\n",
      "epoch 0  | loss: 5.62261 | val_logloss: 5.29227 |  0:00:00s\n",
      "epoch 10 | loss: 3.29269 | val_logloss: 3.29659 |  0:00:08s\n",
      "epoch 20 | loss: 3.03887 | val_logloss: 3.21718 |  0:00:17s\n",
      "epoch 30 | loss: 2.83192 | val_logloss: 3.2962  |  0:00:25s\n",
      "epoch 40 | loss: 2.64317 | val_logloss: 3.46783 |  0:00:34s\n",
      "\n",
      "Early stopping occured at epoch 40 with best_epoch = 20 and best_val_logloss = 3.21718\n",
      "Best weights from best epoch are automatically used!\n",
      "FOLDS :  1\n",
      "Device used : cuda\n",
      "epoch 0  | loss: 5.66774 | val_logloss: 5.2659  |  0:00:00s\n",
      "epoch 10 | loss: 3.25612 | val_logloss: 3.2891  |  0:00:09s\n",
      "epoch 20 | loss: 2.9889  | val_logloss: 3.2652  |  0:00:17s\n",
      "epoch 30 | loss: 2.76653 | val_logloss: 3.39091 |  0:00:25s\n",
      "\n",
      "Early stopping occured at epoch 38 with best_epoch = 18 and best_val_logloss = 3.23941\n",
      "Best weights from best epoch are automatically used!\n",
      "FOLDS :  2\n",
      "Device used : cuda\n",
      "epoch 0  | loss: 5.68255 | val_logloss: 5.27556 |  0:00:00s\n",
      "epoch 10 | loss: 3.27279 | val_logloss: 3.29911 |  0:00:09s\n",
      "epoch 20 | loss: 2.98704 | val_logloss: 3.28201 |  0:00:17s\n",
      "epoch 30 | loss: 2.77041 | val_logloss: 3.41528 |  0:00:25s\n",
      "\n",
      "Early stopping occured at epoch 37 with best_epoch = 17 and best_val_logloss = 3.23753\n",
      "Best weights from best epoch are automatically used!\n",
      "FOLDS :  3\n",
      "Device used : cuda\n",
      "epoch 0  | loss: 5.67654 | val_logloss: 5.25976 |  0:00:00s\n",
      "epoch 10 | loss: 3.24492 | val_logloss: 3.28698 |  0:00:09s\n",
      "epoch 20 | loss: 3.01265 | val_logloss: 3.30695 |  0:00:17s\n",
      "epoch 30 | loss: 2.82456 | val_logloss: 3.34047 |  0:00:25s\n",
      "\n",
      "Early stopping occured at epoch 36 with best_epoch = 16 and best_val_logloss = 3.23781\n",
      "Best weights from best epoch are automatically used!\n",
      "FOLDS :  4\n",
      "Device used : cuda\n",
      "epoch 0  | loss: 5.68347 | val_logloss: 5.24427 |  0:00:00s\n",
      "epoch 10 | loss: 3.26024 | val_logloss: 3.29784 |  0:00:08s\n",
      "epoch 20 | loss: 3.03574 | val_logloss: 3.26319 |  0:00:17s\n",
      "epoch 30 | loss: 2.83596 | val_logloss: 3.33998 |  0:00:25s\n",
      "epoch 40 | loss: 2.65291 | val_logloss: 3.56038 |  0:00:33s\n",
      "\n",
      "Early stopping occured at epoch 41 with best_epoch = 21 and best_val_logloss = 3.24473\n",
      "Best weights from best epoch are automatically used!\n",
      "FOLDS :  5\n",
      "Device used : cuda\n",
      "epoch 0  | loss: 5.66622 | val_logloss: 5.19991 |  0:00:00s\n",
      "epoch 10 | loss: 3.25205 | val_logloss: 3.28469 |  0:00:09s\n",
      "epoch 20 | loss: 2.98839 | val_logloss: 3.31248 |  0:00:17s\n",
      "epoch 30 | loss: 2.77501 | val_logloss: 3.39808 |  0:00:25s\n",
      "\n",
      "Early stopping occured at epoch 37 with best_epoch = 17 and best_val_logloss = 3.2523\n",
      "Best weights from best epoch are automatically used!\n",
      "FOLDS :  6\n",
      "Device used : cuda\n",
      "epoch 0  | loss: 5.6735  | val_logloss: 5.23974 |  0:00:00s\n",
      "epoch 10 | loss: 3.24181 | val_logloss: 3.28154 |  0:00:09s\n",
      "epoch 20 | loss: 2.98292 | val_logloss: 3.23634 |  0:00:17s\n",
      "epoch 30 | loss: 2.76485 | val_logloss: 3.35557 |  0:00:25s\n",
      "\n",
      "Early stopping occured at epoch 38 with best_epoch = 18 and best_val_logloss = 3.22469\n",
      "Best weights from best epoch are automatically used!\n"
     ]
    }
   ],
   "source": [
    "MAX_EPOCH=200\n",
    "device = \"cuda\" if torch.cuda.is_available() else \"cpu\"\n",
    "\n",
    "def seed_everything(seed_value):\n",
    "    random.seed(seed_value)\n",
    "    np.random.seed(seed_value)\n",
    "    torch.manual_seed(seed_value)\n",
    "    os.environ['PYTHONHASHSEED'] = str(seed_value)\n",
    "    \n",
    "    if torch.cuda.is_available(): \n",
    "        torch.cuda.manual_seed(seed_value)\n",
    "        torch.cuda.manual_seed_all(seed_value)\n",
    "        torch.backends.cudnn.deterministic = True\n",
    "        torch.backends.cudnn.benchmark = False\n",
    "\n",
    "def modelling_tabnet(tr, target, te, sample_seed, target_shape):\n",
    "    seed_everything(sample_seed) \n",
    "    tabnet_params = dict(n_d=8, n_a=8, n_steps=1, gamma=1.3, seed = sample_seed,\n",
    "                     lambda_sparse=0, optimizer_fn=torch.optim.Adam,\n",
    "                     optimizer_params=dict(lr=2e-2, weight_decay=1e-5),\n",
    "                     mask_type='entmax',\n",
    "                     scheduler_params=dict(mode=\"min\",\n",
    "                                           patience=5,\n",
    "                                           min_lr=1e-5,\n",
    "                                           factor=0.9,),\n",
    "                     scheduler_fn=torch.optim.lr_scheduler.ReduceLROnPlateau,\n",
    "                     verbose=10,\n",
    "                     )\n",
    "    test_cv_preds = []\n",
    "\n",
    "    oof_preds = np.zeros([len(tr),target_shape])\n",
    "    scores = []\n",
    "    NB_SPLITS = 6\n",
    "    mskf = StratifiedKFold(n_splits=NB_SPLITS, random_state=0, shuffle=True)\n",
    "    for fold_nb, (train_idx, val_idx) in enumerate(mskf.split(tr, target)):\n",
    "        print(\"FOLDS : \", fold_nb+1)\n",
    "\n",
    "        ## model\n",
    "        X_train, y_train = tr[train_idx, :], target[train_idx]\n",
    "        X_val, y_val = tr[val_idx, :], target[val_idx]\n",
    "        model = TabNetClassifier(**tabnet_params)\n",
    "    \n",
    "        model.fit(X_train=X_train,\n",
    "              y_train=y_train,\n",
    "              eval_set=[(X_val, y_val)],\n",
    "              eval_name = [\"val\"],\n",
    "              eval_metric = ['logloss'],\n",
    "              max_epochs=MAX_EPOCH,\n",
    "              patience=20, batch_size=1024, virtual_batch_size=128,\n",
    "              num_workers=1)\n",
    "    \n",
    "        preds_val = model.predict_proba(X_val)\n",
    "        # Apply sigmoid to the predictions\n",
    "        #preds_val =  1 / (1 + np.exp(-preds_val))\n",
    "        score = np.min(model.history[\"val_logloss\"])\n",
    "        oof_preds[val_idx,:] = preds_val\n",
    "        scores.append(score)\n",
    "\n",
    "        # preds on test\n",
    "        preds_test = model.predict_proba(te)\n",
    "        test_cv_preds.append(preds_test)\n",
    "        \n",
    "    test_preds_all = np.stack(test_cv_preds)\n",
    "    return oof_preds, test_preds_all\n",
    "\n",
    "target_oof = np.zeros([len(fn_train),class_num])\n",
    "target_pred = np.zeros([len(fn_test),class_num])\n",
    "\n",
    "seeds = [0,1]\n",
    "for seed_ in seeds:\n",
    "    oof_preds, test_preds_all = modelling_tabnet(fn_train, fn_multiclass_targets, fn_test, seed_, class_num)\n",
    "    target_oof += oof_preds / len(seeds)\n",
    "    target_pred += test_preds_all.mean(axis=0) / len(seeds)"
   ]
  },
  {
   "cell_type": "code",
   "execution_count": 19,
   "metadata": {
    "execution": {
     "iopub.execute_input": "2021-03-20T01:51:41.048290Z",
     "iopub.status.busy": "2021-03-20T01:51:41.047757Z",
     "iopub.status.idle": "2021-03-20T01:51:41.129785Z",
     "shell.execute_reply": "2021-03-20T01:51:41.129310Z"
    },
    "papermill": {
     "duration": 0.134207,
     "end_time": "2021-03-20T01:51:41.129891",
     "exception": false,
     "start_time": "2021-03-20T01:51:40.995684",
     "status": "completed"
    },
    "tags": []
   },
   "outputs": [],
   "source": [
    "target_oof = np.dot(target_oof, classid_target)[:21948,:]\n",
    "target_pred = np.dot(target_pred, classid_target)"
   ]
  },
  {
   "cell_type": "code",
   "execution_count": 20,
   "metadata": {
    "execution": {
     "iopub.execute_input": "2021-03-20T01:51:41.225891Z",
     "iopub.status.busy": "2021-03-20T01:51:41.225092Z",
     "iopub.status.idle": "2021-03-20T01:51:48.184815Z",
     "shell.execute_reply": "2021-03-20T01:51:48.184360Z"
    },
    "papermill": {
     "duration": 7.01425,
     "end_time": "2021-03-20T01:51:48.184910",
     "exception": false,
     "start_time": "2021-03-20T01:51:41.170660",
     "status": "completed"
    },
    "tags": []
   },
   "outputs": [
    {
     "name": "stdout",
     "output_type": "stream",
     "text": [
      "OOF log loss:  0.015844497285548823\n",
      "OOF log loss:  0.016106240157341484\n"
     ]
    }
   ],
   "source": [
    "p_min = 0.001\n",
    "p_max = 1 - p_min\n",
    "\n",
    "t = pd.read_csv(DATA_DIR + 'train_targets_scored.csv')\n",
    "train_checkscore = t.copy()\n",
    "train_checkscore.loc[train_checkscore.index.isin(cons_train_index),target_feats] = target_oof\n",
    "train_checkscore.loc[train_checkscore.index.isin(noncons_train_index),target_feats] = 0\n",
    "\n",
    "t.drop(\"sig_id\", axis=1, inplace=True)\n",
    "print('OOF log loss: ', log_loss(np.ravel(t), np.ravel(np.array(train_checkscore.iloc[:,1:]))))\n",
    "print('OOF log loss: ', log_loss(np.ravel(t), np.ravel(np.clip(np.array(train_checkscore.iloc[:,1:]),p_min, p_max))))"
   ]
  },
  {
   "cell_type": "code",
   "execution_count": 21,
   "metadata": {
    "execution": {
     "iopub.execute_input": "2021-03-20T01:51:48.271946Z",
     "iopub.status.busy": "2021-03-20T01:51:48.271253Z",
     "iopub.status.idle": "2021-03-20T01:51:59.863817Z",
     "shell.execute_reply": "2021-03-20T01:51:59.864290Z"
    },
    "papermill": {
     "duration": 11.638066,
     "end_time": "2021-03-20T01:51:59.864485",
     "exception": false,
     "start_time": "2021-03-20T01:51:48.226419",
     "status": "completed"
    },
    "tags": []
   },
   "outputs": [],
   "source": [
    "train_checkscore.to_csv(\"tab_newval_oof.csv\", index=False)"
   ]
  },
  {
   "cell_type": "code",
   "execution_count": 22,
   "metadata": {
    "execution": {
     "iopub.execute_input": "2021-03-20T01:52:00.006418Z",
     "iopub.status.busy": "2021-03-20T01:52:00.005609Z",
     "iopub.status.idle": "2021-03-20T01:52:01.806199Z",
     "shell.execute_reply": "2021-03-20T01:52:01.804758Z"
    },
    "papermill": {
     "duration": 1.873442,
     "end_time": "2021-03-20T01:52:01.806311",
     "exception": false,
     "start_time": "2021-03-20T01:51:59.932869",
     "status": "completed"
    },
    "tags": []
   },
   "outputs": [],
   "source": [
    "sub[target_feats] = np.clip(target_pred,p_min,p_max)\n",
    "sub.loc[noncons_test_index,target_feats] = 0\n",
    "sub.to_csv('submission.csv', index=False)"
   ]
  },
  {
   "cell_type": "code",
   "execution_count": null,
   "metadata": {
    "papermill": {
     "duration": 0.041383,
     "end_time": "2021-03-20T01:52:01.889667",
     "exception": false,
     "start_time": "2021-03-20T01:52:01.848284",
     "status": "completed"
    },
    "tags": []
   },
   "outputs": [],
   "source": []
  }
 ],
 "metadata": {
  "kernelspec": {
   "display_name": "Python 3",
   "language": "python",
   "name": "python3"
  },
  "language_info": {
   "codemirror_mode": {
    "name": "ipython",
    "version": 3
   },
   "file_extension": ".py",
   "mimetype": "text/x-python",
   "name": "python",
   "nbconvert_exporter": "python",
   "pygments_lexer": "ipython3",
   "version": "3.7.6"
  },
  "papermill": {
   "duration": 473.468072,
   "end_time": "2021-03-20T01:52:02.441304",
   "environment_variables": {},
   "exception": null,
   "input_path": "__notebook__.ipynb",
   "output_path": "__notebook__.ipynb",
   "parameters": {},
   "start_time": "2021-03-20T01:44:08.973232",
   "version": "2.1.0"
  }
 },
 "nbformat": 4,
 "nbformat_minor": 4
}
