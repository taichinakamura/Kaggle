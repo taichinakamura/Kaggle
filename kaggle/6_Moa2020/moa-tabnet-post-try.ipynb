{
 "cells": [
  {
   "cell_type": "markdown",
   "metadata": {
    "papermill": {
     "duration": 0.011452,
     "end_time": "2021-03-20T07:29:52.057629",
     "exception": false,
     "start_time": "2021-03-20T07:29:52.046177",
     "status": "completed"
    },
    "tags": []
   },
   "source": [
    "**late submission**\n",
    "- copy tabnet from version 83 \n",
    "- solve as a multiclass classification (metric: logloss)\n",
    "- data augmentation for minor class by cutmix\n",
    "- increase to 5 seeds"
   ]
  },
  {
   "cell_type": "code",
   "execution_count": 1,
   "metadata": {
    "execution": {
     "iopub.execute_input": "2021-03-20T07:29:52.084507Z",
     "iopub.status.busy": "2021-03-20T07:29:52.083756Z",
     "iopub.status.idle": "2021-03-20T07:29:59.663833Z",
     "shell.execute_reply": "2021-03-20T07:29:59.662423Z"
    },
    "papermill": {
     "duration": 7.595867,
     "end_time": "2021-03-20T07:29:59.664020",
     "exception": false,
     "start_time": "2021-03-20T07:29:52.068153",
     "status": "completed"
    },
    "tags": []
   },
   "outputs": [
    {
     "name": "stdout",
     "output_type": "stream",
     "text": [
      "Looking in links: /kaggle/input/pytorchtabnet/pytorch_tabnet-2.0.0-py3-none-any.whl\r\n",
      "Processing /kaggle/input/pytorchtabnet/pytorch_tabnet-2.0.0-py3-none-any.whl\r\n",
      "Requirement already satisfied: numpy<2.0,>=1.17 in /opt/conda/lib/python3.7/site-packages (from pytorch-tabnet) (1.18.5)\r\n",
      "Requirement already satisfied: torch<2.0,>=1.2 in /opt/conda/lib/python3.7/site-packages (from pytorch-tabnet) (1.6.0)\r\n",
      "Requirement already satisfied: scikit_learn>0.21 in /opt/conda/lib/python3.7/site-packages (from pytorch-tabnet) (0.23.2)\r\n",
      "Requirement already satisfied: scipy>1.4 in /opt/conda/lib/python3.7/site-packages (from pytorch-tabnet) (1.4.1)\r\n",
      "Requirement already satisfied: tqdm<5.0,>=4.36 in /opt/conda/lib/python3.7/site-packages (from pytorch-tabnet) (4.45.0)\r\n",
      "Requirement already satisfied: future in /opt/conda/lib/python3.7/site-packages (from torch<2.0,>=1.2->pytorch-tabnet) (0.18.2)\r\n",
      "Requirement already satisfied: joblib>=0.11 in /opt/conda/lib/python3.7/site-packages (from scikit_learn>0.21->pytorch-tabnet) (0.14.1)\r\n",
      "Requirement already satisfied: threadpoolctl>=2.0.0 in /opt/conda/lib/python3.7/site-packages (from scikit_learn>0.21->pytorch-tabnet) (2.1.0)\r\n",
      "Installing collected packages: pytorch-tabnet\r\n",
      "Successfully installed pytorch-tabnet-2.0.0\r\n"
     ]
    }
   ],
   "source": [
    "!pip install --no-index --find-links /kaggle/input/pytorchtabnet/pytorch_tabnet-2.0.0-py3-none-any.whl pytorch-tabnet"
   ]
  },
  {
   "cell_type": "code",
   "execution_count": 2,
   "metadata": {
    "_cell_guid": "b1076dfc-b9ad-4769-8c92-a6c4dae69d19",
    "_uuid": "8f2839f25d086af736a60e9eeb907d3b93b6e0e5",
    "execution": {
     "iopub.execute_input": "2021-03-20T07:29:59.702787Z",
     "iopub.status.busy": "2021-03-20T07:29:59.702028Z",
     "iopub.status.idle": "2021-03-20T07:30:06.564657Z",
     "shell.execute_reply": "2021-03-20T07:30:06.563286Z"
    },
    "papermill": {
     "duration": 6.883465,
     "end_time": "2021-03-20T07:30:06.564777",
     "exception": false,
     "start_time": "2021-03-20T07:29:59.681312",
     "status": "completed"
    },
    "tags": []
   },
   "outputs": [],
   "source": [
    "import os\n",
    "import random\n",
    "import warnings\n",
    "import numpy as np\n",
    "import pandas as pd \n",
    "from sklearn.metrics import log_loss\n",
    "from sklearn.utils import check_random_state\n",
    "from sklearn.model_selection import StratifiedKFold\n",
    "from pytorch_tabnet.tab_model import TabNetClassifier\n",
    "\n",
    "import time\n",
    "import torch\n",
    "import torch.nn as nn\n",
    "import torch.optim as optim\n",
    "import torch.nn.functional as F\n",
    "import tensorflow as tf\n",
    "\n",
    "warnings.filterwarnings('ignore')"
   ]
  },
  {
   "cell_type": "code",
   "execution_count": 3,
   "metadata": {
    "execution": {
     "iopub.execute_input": "2021-03-20T07:30:06.598489Z",
     "iopub.status.busy": "2021-03-20T07:30:06.597963Z",
     "iopub.status.idle": "2021-03-20T07:30:14.059179Z",
     "shell.execute_reply": "2021-03-20T07:30:14.058137Z"
    },
    "papermill": {
     "duration": 7.481697,
     "end_time": "2021-03-20T07:30:14.059307",
     "exception": false,
     "start_time": "2021-03-20T07:30:06.577610",
     "status": "completed"
    },
    "tags": []
   },
   "outputs": [],
   "source": [
    "DATA_DIR = '/kaggle/input/lish-moa/'\n",
    "train = pd.read_csv(DATA_DIR + 'train_features.csv')\n",
    "targets = pd.read_csv(DATA_DIR + 'train_targets_scored.csv')\n",
    "non_targets = pd.read_csv(DATA_DIR + 'train_targets_nonscored.csv')\n",
    "test = pd.read_csv(DATA_DIR + 'test_features.csv')\n",
    "sub = pd.read_csv(DATA_DIR + 'sample_submission.csv')\n",
    "drug = pd.read_csv(DATA_DIR + 'train_drug.csv')"
   ]
  },
  {
   "cell_type": "code",
   "execution_count": 4,
   "metadata": {
    "execution": {
     "iopub.execute_input": "2021-03-20T07:30:14.095434Z",
     "iopub.status.busy": "2021-03-20T07:30:14.094745Z",
     "iopub.status.idle": "2021-03-20T07:30:14.184846Z",
     "shell.execute_reply": "2021-03-20T07:30:14.184355Z"
    },
    "papermill": {
     "duration": 0.112791,
     "end_time": "2021-03-20T07:30:14.184968",
     "exception": false,
     "start_time": "2021-03-20T07:30:14.072177",
     "status": "completed"
    },
    "tags": []
   },
   "outputs": [],
   "source": [
    "target_feats = [ i for i in targets.columns if i != \"sig_id\"]\n",
    "g_feats = [i for i in train.columns if \"g-\" in i]\n",
    "c_feats = [i for i in train.columns if \"c-\" in i]\n",
    "\n",
    "noncons_train_index = train[train.cp_type==\"ctl_vehicle\"].index\n",
    "cons_train_index = train[~train.index.isin(noncons_train_index)].index\n",
    "noncons_test_index = test[test.cp_type==\"ctl_vehicle\"].index\n",
    "cons_test_index = test[test.cp_type!=\"ctl_vehicle\"].index"
   ]
  },
  {
   "cell_type": "markdown",
   "metadata": {
    "papermill": {
     "duration": 0.012492,
     "end_time": "2021-03-20T07:30:14.210526",
     "exception": false,
     "start_time": "2021-03-20T07:30:14.198034",
     "status": "completed"
    },
    "tags": []
   },
   "source": [
    "# preprocess"
   ]
  },
  {
   "cell_type": "code",
   "execution_count": 5,
   "metadata": {
    "execution": {
     "iopub.execute_input": "2021-03-20T07:30:14.246029Z",
     "iopub.status.busy": "2021-03-20T07:30:14.245464Z",
     "iopub.status.idle": "2021-03-20T07:30:25.896175Z",
     "shell.execute_reply": "2021-03-20T07:30:25.895673Z"
    },
    "papermill": {
     "duration": 11.673159,
     "end_time": "2021-03-20T07:30:25.896280",
     "exception": false,
     "start_time": "2021-03-20T07:30:14.223121",
     "status": "completed"
    },
    "tags": []
   },
   "outputs": [
    {
     "data": {
      "text/plain": [
       "((23814, 328), (328, 206))"
      ]
     },
     "execution_count": 5,
     "metadata": {},
     "output_type": "execute_result"
    }
   ],
   "source": [
    "def make_string(row):\n",
    "    return str(row[1:].values).replace('[','').replace(']','').replace('\\n','').replace(' ','')\n",
    "\n",
    "targets[\"target_pair\"] = targets.apply(make_string, axis=1)\n",
    "targetpair_id = dict(enumerate(targets[\"target_pair\"].unique()))\n",
    "id_targetpair = {y:x for x,y in targetpair_id.items()}\n",
    "targets[\"target_pair_num\"] = targets[\"target_pair\"].map(id_targetpair)\n",
    "\n",
    "multiclass_targets = pd.get_dummies(targets[\"target_pair_num\"])\n",
    "\n",
    "for i in range(len(id_targetpair.keys())):\n",
    "    if i == 0:\n",
    "        classid_target = np.array(list((targetpair_id[i]))).reshape(1,-1)      \n",
    "    else:\n",
    "        classid_target = np.vstack([classid_target, np.array(list((targetpair_id[i]))).reshape(1,-1)])\n",
    "        \n",
    "classid_target = classid_target.astype(int)\n",
    "class_num = multiclass_targets.shape[1]\n",
    "        \n",
    "multiclass_targets.shape, classid_target.shape"
   ]
  },
  {
   "cell_type": "code",
   "execution_count": 6,
   "metadata": {
    "execution": {
     "iopub.execute_input": "2021-03-20T07:30:25.933621Z",
     "iopub.status.busy": "2021-03-20T07:30:25.932812Z",
     "iopub.status.idle": "2021-03-20T07:30:26.176853Z",
     "shell.execute_reply": "2021-03-20T07:30:26.176371Z"
    },
    "papermill": {
     "duration": 0.267225,
     "end_time": "2021-03-20T07:30:26.176979",
     "exception": false,
     "start_time": "2021-03-20T07:30:25.909754",
     "status": "completed"
    },
    "tags": []
   },
   "outputs": [],
   "source": [
    "train = train[train.index.isin(cons_train_index)].copy().reset_index(drop=True)\n",
    "targets = targets[targets.index.isin(cons_train_index)].copy().reset_index(drop=True)\n",
    "multiclass_targets = targets[\"target_pair_num\"].copy().reset_index(drop=True)"
   ]
  },
  {
   "cell_type": "code",
   "execution_count": 7,
   "metadata": {
    "execution": {
     "iopub.execute_input": "2021-03-20T07:30:26.209010Z",
     "iopub.status.busy": "2021-03-20T07:30:26.208214Z",
     "iopub.status.idle": "2021-03-20T07:30:26.234519Z",
     "shell.execute_reply": "2021-03-20T07:30:26.233836Z"
    },
    "papermill": {
     "duration": 0.044176,
     "end_time": "2021-03-20T07:30:26.234607",
     "exception": false,
     "start_time": "2021-03-20T07:30:26.190431",
     "status": "completed"
    },
    "tags": []
   },
   "outputs": [
    {
     "data": {
      "text/plain": [
       "Int64Index([326, 327, 318, 312, 325, 310], dtype='int64')"
      ]
     },
     "execution_count": 7,
     "metadata": {},
     "output_type": "execute_result"
    }
   ],
   "source": [
    "tmp = multiclass_targets.value_counts().copy()\n",
    "minor_class = tmp[tmp==1].index\n",
    "minor_class_index = multiclass_targets[multiclass_targets.isin(minor_class)].index\n",
    "\n",
    "minor_class"
   ]
  },
  {
   "cell_type": "markdown",
   "metadata": {
    "papermill": {
     "duration": 0.013364,
     "end_time": "2021-03-20T07:30:26.261647",
     "exception": false,
     "start_time": "2021-03-20T07:30:26.248283",
     "status": "completed"
    },
    "tags": []
   },
   "source": [
    "# feature engineering"
   ]
  },
  {
   "cell_type": "code",
   "execution_count": 8,
   "metadata": {
    "execution": {
     "iopub.execute_input": "2021-03-20T07:30:26.295029Z",
     "iopub.status.busy": "2021-03-20T07:30:26.294101Z",
     "iopub.status.idle": "2021-03-20T07:30:26.423715Z",
     "shell.execute_reply": "2021-03-20T07:30:26.424357Z"
    },
    "papermill": {
     "duration": 0.149477,
     "end_time": "2021-03-20T07:30:26.424533",
     "exception": false,
     "start_time": "2021-03-20T07:30:26.275056",
     "status": "completed"
    },
    "tags": []
   },
   "outputs": [
    {
     "name": "stdout",
     "output_type": "stream",
     "text": [
      "(21948, 874) (3982, 874)\n"
     ]
    }
   ],
   "source": [
    "def fe(df):\n",
    "    tmp = df.copy()\n",
    "    tmp.loc[:, 'cp_dose'] = tmp.loc[:, 'cp_dose'].map({'D1': 0, 'D2': 1})      \n",
    "    tmp.drop([\"sig_id\", \"cp_type\"], axis=1, inplace=True)\n",
    "    return tmp\n",
    "\n",
    "train = fe(train)\n",
    "test = fe(test)\n",
    "\n",
    "print(train.shape, test.shape)"
   ]
  },
  {
   "cell_type": "code",
   "execution_count": 9,
   "metadata": {
    "execution": {
     "iopub.execute_input": "2021-03-20T07:30:26.469589Z",
     "iopub.status.busy": "2021-03-20T07:30:26.466835Z",
     "iopub.status.idle": "2021-03-20T07:30:28.323517Z",
     "shell.execute_reply": "2021-03-20T07:30:28.324154Z"
    },
    "papermill": {
     "duration": 1.884248,
     "end_time": "2021-03-20T07:30:28.324335",
     "exception": false,
     "start_time": "2021-03-20T07:30:26.440087",
     "status": "completed"
    },
    "tags": []
   },
   "outputs": [
    {
     "name": "stdout",
     "output_type": "stream",
     "text": [
      "[  599  2348  5784 12816 17718 20062]\n",
      "[ 6269  6613  9380 10755 13810 14313]\n",
      "[ 7176  7455  9098 15661 15970 18894]\n",
      "[  858  9318  9931 18208 19565 20789]\n",
      "[ 7176  7455  9098 15661 15970 18894]\n"
     ]
    }
   ],
   "source": [
    "# data augmentation by cutmix\n",
    "# https://www.kaggle.com/yxohrxn/moa-cutmix\n",
    "\n",
    "def cutmix_for_tabular(x, y=None, alpha=1.0, p=1.0, random_state=None):\n",
    "    x_ = x.copy()\n",
    "    n, d = x.shape\n",
    "\n",
    "    if n is not None and random.random() < p:\n",
    "        random_state = check_random_state(random_state)\n",
    "        l = random_state.beta(alpha, alpha)\n",
    "        mask = random_state.choice([False, True], size=d, p=[l, 1.0 - l])\n",
    "        mask = np.where(mask)[0]\n",
    "        shuffle = random_state.choice(n, n, replace=False)\n",
    "        x_[:,mask] = x_[np.ix_(shuffle,mask)]\n",
    "        \n",
    "        if y is not None:\n",
    "            y = l * y + (1.0 - l) * y[shuffle]\n",
    "        \n",
    "    # extract minor class\n",
    "    tmp_index = np.where(np.isin(np.argmax(y, axis=1), minor_class))[0]\n",
    "    print(tmp_index)\n",
    "        \n",
    "    return x_[tmp_index], np.argmax(y[tmp_index],axis=1)\n",
    "\n",
    "for i in [0,1,2,3,4]:\n",
    "    if i == 0:\n",
    "        train_mod, y_mod = cutmix_for_tabular(train.values, \n",
    "                                      pd.get_dummies(multiclass_targets).values, alpha=1, p=1, random_state=i)\n",
    "    else:\n",
    "        train_tmp, y_tmp = cutmix_for_tabular(train.values, \n",
    "                                      pd.get_dummies(multiclass_targets).values, alpha=1, p=1, random_state=i)\n",
    "        train_mod = np.concatenate([train_mod, train_tmp], axis=0)\n",
    "        y_mod = np.concatenate([y_mod, y_tmp])\n",
    "        \n",
    "train_mod = pd.DataFrame(train_mod, columns = train.columns)\n",
    "train = pd.concat([train, train_mod], axis=0).reset_index(drop=True)\n",
    "\n",
    "y_mod = pd.DataFrame(y_mod)\n",
    "multiclass_targets = pd.concat([multiclass_targets, y_mod]).reset_index(drop=True)"
   ]
  },
  {
   "cell_type": "code",
   "execution_count": 10,
   "metadata": {
    "execution": {
     "iopub.execute_input": "2021-03-20T07:30:28.363094Z",
     "iopub.status.busy": "2021-03-20T07:30:28.361944Z",
     "iopub.status.idle": "2021-03-20T07:30:28.673764Z",
     "shell.execute_reply": "2021-03-20T07:30:28.674215Z"
    },
    "papermill": {
     "duration": 0.3335,
     "end_time": "2021-03-20T07:30:28.674339",
     "exception": false,
     "start_time": "2021-03-20T07:30:28.340839",
     "status": "completed"
    },
    "tags": []
   },
   "outputs": [
    {
     "data": {
      "text/plain": [
       "((21978, 874), (3982, 874), (21978,))"
      ]
     },
     "execution_count": 10,
     "metadata": {},
     "output_type": "execute_result"
    }
   ],
   "source": [
    "fn_train = train.copy().to_numpy()\n",
    "fn_test = test.copy().to_numpy()\n",
    "    \n",
    "fn_targets = targets.drop(\"sig_id\", axis=1).copy().to_numpy()\n",
    "fn_multiclass_targets = multiclass_targets.copy().to_numpy().reshape(-1,)\n",
    "\n",
    "fn_train.shape, fn_test.shape, fn_multiclass_targets.shape"
   ]
  },
  {
   "cell_type": "markdown",
   "metadata": {
    "papermill": {
     "duration": 0.015578,
     "end_time": "2021-03-20T07:30:28.705780",
     "exception": false,
     "start_time": "2021-03-20T07:30:28.690202",
     "status": "completed"
    },
    "tags": []
   },
   "source": [
    "# modelling"
   ]
  },
  {
   "cell_type": "code",
   "execution_count": 11,
   "metadata": {
    "execution": {
     "iopub.execute_input": "2021-03-20T07:30:29.110649Z",
     "iopub.status.busy": "2021-03-20T07:30:29.107798Z",
     "iopub.status.idle": "2021-03-20T07:44:50.396404Z",
     "shell.execute_reply": "2021-03-20T07:44:50.396896Z"
    },
    "papermill": {
     "duration": 861.67518,
     "end_time": "2021-03-20T07:44:50.397063",
     "exception": false,
     "start_time": "2021-03-20T07:30:28.721883",
     "status": "completed"
    },
    "tags": []
   },
   "outputs": [
    {
     "name": "stdout",
     "output_type": "stream",
     "text": [
      "FOLDS :  1\n",
      "Device used : cuda\n",
      "epoch 0  | loss: 4.99896 | val_logloss: 4.01496 |  0:00:01s\n",
      "epoch 10 | loss: 2.99992 | val_logloss: 3.22779 |  0:00:09s\n",
      "epoch 20 | loss: 2.40406 | val_logloss: 3.52419 |  0:00:17s\n",
      "epoch 30 | loss: 1.72286 | val_logloss: 4.59778 |  0:00:25s\n",
      "\n",
      "Early stopping occured at epoch 30 with best_epoch = 10 and best_val_logloss = 3.22779\n",
      "Best weights from best epoch are automatically used!\n",
      "FOLDS :  2\n",
      "Device used : cuda\n",
      "epoch 0  | loss: 4.96411 | val_logloss: 4.00465 |  0:00:00s\n",
      "epoch 10 | loss: 3.04422 | val_logloss: 3.19112 |  0:00:08s\n",
      "epoch 20 | loss: 2.46241 | val_logloss: 3.48068 |  0:00:16s\n",
      "epoch 30 | loss: 1.77428 | val_logloss: 4.46131 |  0:00:24s\n",
      "\n",
      "Early stopping occured at epoch 33 with best_epoch = 13 and best_val_logloss = 3.17633\n",
      "Best weights from best epoch are automatically used!\n",
      "FOLDS :  3\n",
      "Device used : cuda\n",
      "epoch 0  | loss: 4.98278 | val_logloss: 4.00139 |  0:00:00s\n",
      "epoch 10 | loss: 2.99854 | val_logloss: 3.21513 |  0:00:08s\n",
      "epoch 20 | loss: 2.38152 | val_logloss: 3.60563 |  0:00:16s\n",
      "epoch 30 | loss: 1.69603 | val_logloss: 4.66919 |  0:00:24s\n",
      "\n",
      "Early stopping occured at epoch 31 with best_epoch = 11 and best_val_logloss = 3.20492\n",
      "Best weights from best epoch are automatically used!\n",
      "FOLDS :  4\n",
      "Device used : cuda\n",
      "epoch 0  | loss: 4.96942 | val_logloss: 3.94309 |  0:00:00s\n",
      "epoch 10 | loss: 3.00277 | val_logloss: 3.21173 |  0:00:09s\n",
      "epoch 20 | loss: 2.42315 | val_logloss: 3.48667 |  0:00:17s\n",
      "\n",
      "Early stopping occured at epoch 28 with best_epoch = 8 and best_val_logloss = 3.20078\n",
      "Best weights from best epoch are automatically used!\n",
      "FOLDS :  5\n",
      "Device used : cuda\n",
      "epoch 0  | loss: 4.98649 | val_logloss: 3.99889 |  0:00:01s\n",
      "epoch 10 | loss: 3.03935 | val_logloss: 3.18816 |  0:00:08s\n",
      "epoch 20 | loss: 2.45949 | val_logloss: 3.44583 |  0:00:17s\n",
      "epoch 30 | loss: 1.78422 | val_logloss: 4.30969 |  0:00:25s\n",
      "\n",
      "Early stopping occured at epoch 31 with best_epoch = 11 and best_val_logloss = 3.18647\n",
      "Best weights from best epoch are automatically used!\n",
      "FOLDS :  6\n",
      "Device used : cuda\n",
      "epoch 0  | loss: 4.97844 | val_logloss: 3.93509 |  0:00:00s\n",
      "epoch 10 | loss: 3.02892 | val_logloss: 3.17223 |  0:00:08s\n",
      "epoch 20 | loss: 2.43007 | val_logloss: 3.43969 |  0:00:17s\n",
      "epoch 30 | loss: 1.71496 | val_logloss: 4.32409 |  0:00:25s\n",
      "\n",
      "Early stopping occured at epoch 30 with best_epoch = 10 and best_val_logloss = 3.17223\n",
      "Best weights from best epoch are automatically used!\n",
      "FOLDS :  1\n",
      "Device used : cuda\n",
      "epoch 0  | loss: 4.93544 | val_logloss: 3.8825  |  0:00:00s\n",
      "epoch 10 | loss: 3.0154  | val_logloss: 3.20971 |  0:00:08s\n",
      "epoch 20 | loss: 2.38672 | val_logloss: 3.84974 |  0:00:16s\n",
      "epoch 30 | loss: 1.7385  | val_logloss: 4.47604 |  0:00:25s\n",
      "\n",
      "Early stopping occured at epoch 31 with best_epoch = 11 and best_val_logloss = 3.20739\n",
      "Best weights from best epoch are automatically used!\n",
      "FOLDS :  2\n",
      "Device used : cuda\n",
      "epoch 0  | loss: 4.92869 | val_logloss: 3.96594 |  0:00:00s\n",
      "epoch 10 | loss: 2.99034 | val_logloss: 3.1697  |  0:00:08s\n",
      "epoch 20 | loss: 2.42242 | val_logloss: 3.41811 |  0:00:16s\n",
      "epoch 30 | loss: 1.77246 | val_logloss: 4.37404 |  0:00:24s\n",
      "\n",
      "Early stopping occured at epoch 31 with best_epoch = 11 and best_val_logloss = 3.14883\n",
      "Best weights from best epoch are automatically used!\n",
      "FOLDS :  3\n",
      "Device used : cuda\n",
      "epoch 0  | loss: 4.95256 | val_logloss: 3.90483 |  0:00:00s\n",
      "epoch 10 | loss: 3.04372 | val_logloss: 3.20337 |  0:00:09s\n",
      "epoch 20 | loss: 2.44181 | val_logloss: 3.44204 |  0:00:17s\n",
      "epoch 30 | loss: 1.76452 | val_logloss: 4.41136 |  0:00:25s\n",
      "\n",
      "Early stopping occured at epoch 31 with best_epoch = 11 and best_val_logloss = 3.19782\n",
      "Best weights from best epoch are automatically used!\n",
      "FOLDS :  4\n",
      "Device used : cuda\n",
      "epoch 0  | loss: 4.9023  | val_logloss: 3.90244 |  0:00:00s\n",
      "epoch 10 | loss: 2.99921 | val_logloss: 3.20062 |  0:00:09s\n",
      "epoch 20 | loss: 2.4078  | val_logloss: 3.47934 |  0:00:17s\n",
      "epoch 30 | loss: 1.72512 | val_logloss: 4.47646 |  0:00:25s\n",
      "\n",
      "Early stopping occured at epoch 31 with best_epoch = 11 and best_val_logloss = 3.1981\n",
      "Best weights from best epoch are automatically used!\n",
      "FOLDS :  5\n",
      "Device used : cuda\n",
      "epoch 0  | loss: 4.96186 | val_logloss: 4.0439  |  0:00:00s\n",
      "epoch 10 | loss: 3.00645 | val_logloss: 3.19128 |  0:00:09s\n",
      "epoch 20 | loss: 2.4287  | val_logloss: 3.41151 |  0:00:17s\n",
      "epoch 30 | loss: 1.80953 | val_logloss: 4.16384 |  0:00:25s\n",
      "\n",
      "Early stopping occured at epoch 32 with best_epoch = 12 and best_val_logloss = 3.17293\n",
      "Best weights from best epoch are automatically used!\n",
      "FOLDS :  6\n",
      "Device used : cuda\n",
      "epoch 0  | loss: 4.95958 | val_logloss: 3.90304 |  0:00:00s\n",
      "epoch 10 | loss: 3.0085  | val_logloss: 3.1796  |  0:00:08s\n",
      "epoch 20 | loss: 2.3901  | val_logloss: 3.54813 |  0:00:17s\n",
      "epoch 30 | loss: 1.68276 | val_logloss: 4.62682 |  0:00:25s\n",
      "\n",
      "Early stopping occured at epoch 31 with best_epoch = 11 and best_val_logloss = 3.16893\n",
      "Best weights from best epoch are automatically used!\n",
      "FOLDS :  1\n",
      "Device used : cuda\n",
      "epoch 0  | loss: 4.78256 | val_logloss: 3.89704 |  0:00:00s\n",
      "epoch 10 | loss: 3.04176 | val_logloss: 3.22574 |  0:00:08s\n",
      "epoch 20 | loss: 2.44097 | val_logloss: 3.50475 |  0:00:17s\n",
      "epoch 30 | loss: 1.76362 | val_logloss: 4.41693 |  0:00:25s\n",
      "\n",
      "Early stopping occured at epoch 33 with best_epoch = 13 and best_val_logloss = 3.22281\n",
      "Best weights from best epoch are automatically used!\n",
      "FOLDS :  2\n",
      "Device used : cuda\n",
      "epoch 0  | loss: 4.75647 | val_logloss: 3.85198 |  0:00:00s\n",
      "epoch 10 | loss: 3.01848 | val_logloss: 3.25496 |  0:00:08s\n",
      "epoch 20 | loss: 2.43474 | val_logloss: 3.58005 |  0:00:16s\n",
      "\n",
      "Early stopping occured at epoch 29 with best_epoch = 9 and best_val_logloss = 3.23236\n",
      "Best weights from best epoch are automatically used!\n",
      "FOLDS :  3\n",
      "Device used : cuda\n",
      "epoch 0  | loss: 4.75771 | val_logloss: 3.91971 |  0:00:00s\n",
      "epoch 10 | loss: 3.04598 | val_logloss: 3.20944 |  0:00:08s\n",
      "epoch 20 | loss: 2.39258 | val_logloss: 3.4938  |  0:00:17s\n",
      "epoch 30 | loss: 1.7007  | val_logloss: 4.46047 |  0:00:25s\n",
      "\n",
      "Early stopping occured at epoch 32 with best_epoch = 12 and best_val_logloss = 3.16948\n",
      "Best weights from best epoch are automatically used!\n",
      "FOLDS :  4\n",
      "Device used : cuda\n",
      "epoch 0  | loss: 4.70456 | val_logloss: 3.92682 |  0:00:00s\n",
      "epoch 10 | loss: 3.03318 | val_logloss: 3.17297 |  0:00:09s\n",
      "epoch 20 | loss: 2.34545 | val_logloss: 3.50753 |  0:00:17s\n",
      "epoch 30 | loss: 1.53695 | val_logloss: 4.8351  |  0:00:25s\n",
      "\n",
      "Early stopping occured at epoch 30 with best_epoch = 10 and best_val_logloss = 3.17297\n",
      "Best weights from best epoch are automatically used!\n",
      "FOLDS :  5\n",
      "Device used : cuda\n",
      "epoch 0  | loss: 4.72848 | val_logloss: 3.90436 |  0:00:01s\n",
      "epoch 10 | loss: 3.0338  | val_logloss: 3.23114 |  0:00:12s\n",
      "epoch 20 | loss: 2.45646 | val_logloss: 3.50904 |  0:00:22s\n",
      "epoch 30 | loss: 1.82263 | val_logloss: 4.32505 |  0:00:33s\n",
      "\n",
      "Early stopping occured at epoch 30 with best_epoch = 10 and best_val_logloss = 3.23114\n",
      "Best weights from best epoch are automatically used!\n",
      "FOLDS :  6\n",
      "Device used : cuda\n",
      "epoch 0  | loss: 4.7369  | val_logloss: 3.92955 |  0:00:01s\n",
      "epoch 10 | loss: 3.04915 | val_logloss: 3.17086 |  0:00:12s\n",
      "epoch 20 | loss: 2.49348 | val_logloss: 3.39551 |  0:00:22s\n",
      "epoch 30 | loss: 1.83004 | val_logloss: 4.38906 |  0:00:32s\n",
      "\n",
      "Early stopping occured at epoch 32 with best_epoch = 12 and best_val_logloss = 3.16286\n",
      "Best weights from best epoch are automatically used!\n",
      "FOLDS :  1\n",
      "Device used : cuda\n",
      "epoch 0  | loss: 4.99726 | val_logloss: 3.98058 |  0:00:01s\n",
      "epoch 10 | loss: 3.04483 | val_logloss: 3.20904 |  0:00:14s\n",
      "epoch 20 | loss: 2.45573 | val_logloss: 3.47638 |  0:00:27s\n",
      "epoch 30 | loss: 1.82113 | val_logloss: 4.35814 |  0:00:41s\n",
      "\n",
      "Early stopping occured at epoch 30 with best_epoch = 10 and best_val_logloss = 3.20904\n",
      "Best weights from best epoch are automatically used!\n",
      "FOLDS :  2\n",
      "Device used : cuda\n",
      "epoch 0  | loss: 4.98074 | val_logloss: 3.96793 |  0:00:01s\n",
      "epoch 10 | loss: 3.03127 | val_logloss: 3.18587 |  0:00:14s\n",
      "epoch 20 | loss: 2.44816 | val_logloss: 3.48386 |  0:00:27s\n",
      "epoch 30 | loss: 1.74317 | val_logloss: 4.46791 |  0:00:40s\n",
      "\n",
      "Early stopping occured at epoch 31 with best_epoch = 11 and best_val_logloss = 3.17955\n",
      "Best weights from best epoch are automatically used!\n",
      "FOLDS :  3\n",
      "Device used : cuda\n",
      "epoch 0  | loss: 4.96531 | val_logloss: 3.92892 |  0:00:00s\n",
      "epoch 10 | loss: 3.01356 | val_logloss: 3.22853 |  0:00:09s\n",
      "epoch 20 | loss: 2.4154  | val_logloss: 3.54166 |  0:00:17s\n",
      "\n",
      "Early stopping occured at epoch 29 with best_epoch = 9 and best_val_logloss = 3.21237\n",
      "Best weights from best epoch are automatically used!\n",
      "FOLDS :  4\n",
      "Device used : cuda\n",
      "epoch 0  | loss: 4.93587 | val_logloss: 3.89718 |  0:00:00s\n",
      "epoch 10 | loss: 3.02781 | val_logloss: 3.20488 |  0:00:09s\n",
      "epoch 20 | loss: 2.41231 | val_logloss: 3.52163 |  0:00:17s\n",
      "epoch 30 | loss: 1.75217 | val_logloss: 4.38345 |  0:00:26s\n",
      "\n",
      "Early stopping occured at epoch 31 with best_epoch = 11 and best_val_logloss = 3.19871\n",
      "Best weights from best epoch are automatically used!\n",
      "FOLDS :  5\n",
      "Device used : cuda\n",
      "epoch 0  | loss: 4.97962 | val_logloss: 4.02883 |  0:00:00s\n",
      "epoch 10 | loss: 3.00362 | val_logloss: 3.2514  |  0:00:09s\n",
      "epoch 20 | loss: 2.37935 | val_logloss: 3.6214  |  0:00:16s\n",
      "\n",
      "Early stopping occured at epoch 29 with best_epoch = 9 and best_val_logloss = 3.23978\n",
      "Best weights from best epoch are automatically used!\n",
      "FOLDS :  6\n",
      "Device used : cuda\n",
      "epoch 0  | loss: 4.96892 | val_logloss: 3.9662  |  0:00:00s\n",
      "epoch 10 | loss: 2.99978 | val_logloss: 3.2019  |  0:00:09s\n",
      "epoch 20 | loss: 2.40515 | val_logloss: 3.47796 |  0:00:17s\n",
      "epoch 30 | loss: 1.7267  | val_logloss: 4.54206 |  0:00:25s\n",
      "\n",
      "Early stopping occured at epoch 31 with best_epoch = 11 and best_val_logloss = 3.18256\n",
      "Best weights from best epoch are automatically used!\n",
      "FOLDS :  1\n",
      "Device used : cuda\n",
      "epoch 0  | loss: 4.7524  | val_logloss: 3.86632 |  0:00:01s\n",
      "epoch 10 | loss: 3.02807 | val_logloss: 3.20715 |  0:00:09s\n",
      "epoch 20 | loss: 2.43633 | val_logloss: 3.50712 |  0:00:17s\n",
      "epoch 30 | loss: 1.73025 | val_logloss: 4.62753 |  0:00:25s\n",
      "\n",
      "Early stopping occured at epoch 31 with best_epoch = 11 and best_val_logloss = 3.1916\n",
      "Best weights from best epoch are automatically used!\n",
      "FOLDS :  2\n",
      "Device used : cuda\n",
      "epoch 0  | loss: 4.72778 | val_logloss: 3.95647 |  0:00:00s\n",
      "epoch 10 | loss: 2.99056 | val_logloss: 3.186   |  0:00:09s\n",
      "epoch 20 | loss: 2.4085  | val_logloss: 3.50274 |  0:00:17s\n",
      "epoch 30 | loss: 1.76558 | val_logloss: 4.4815  |  0:00:25s\n",
      "\n",
      "Early stopping occured at epoch 32 with best_epoch = 12 and best_val_logloss = 3.16795\n",
      "Best weights from best epoch are automatically used!\n",
      "FOLDS :  3\n",
      "Device used : cuda\n",
      "epoch 0  | loss: 4.72665 | val_logloss: 3.8848  |  0:00:00s\n",
      "epoch 10 | loss: 3.01483 | val_logloss: 3.20289 |  0:00:09s\n",
      "epoch 20 | loss: 2.39532 | val_logloss: 3.53121 |  0:00:17s\n",
      "epoch 30 | loss: 1.70989 | val_logloss: 4.48989 |  0:00:25s\n",
      "\n",
      "Early stopping occured at epoch 30 with best_epoch = 10 and best_val_logloss = 3.20289\n",
      "Best weights from best epoch are automatically used!\n",
      "FOLDS :  4\n",
      "Device used : cuda\n",
      "epoch 0  | loss: 4.75914 | val_logloss: 3.95144 |  0:00:00s\n",
      "epoch 10 | loss: 3.05336 | val_logloss: 3.1961  |  0:00:08s\n",
      "epoch 20 | loss: 2.45793 | val_logloss: 3.47673 |  0:00:17s\n",
      "epoch 30 | loss: 1.77905 | val_logloss: 4.69302 |  0:00:25s\n",
      "\n",
      "Early stopping occured at epoch 32 with best_epoch = 12 and best_val_logloss = 3.18732\n",
      "Best weights from best epoch are automatically used!\n",
      "FOLDS :  5\n",
      "Device used : cuda\n",
      "epoch 0  | loss: 4.74136 | val_logloss: 3.86242 |  0:00:00s\n",
      "epoch 10 | loss: 3.04011 | val_logloss: 3.21392 |  0:00:08s\n",
      "epoch 20 | loss: 2.47815 | val_logloss: 3.4662  |  0:00:16s\n",
      "epoch 30 | loss: 1.88775 | val_logloss: 4.25184 |  0:00:25s\n",
      "\n",
      "Early stopping occured at epoch 32 with best_epoch = 12 and best_val_logloss = 3.19032\n",
      "Best weights from best epoch are automatically used!\n",
      "FOLDS :  6\n",
      "Device used : cuda\n",
      "epoch 0  | loss: 4.71368 | val_logloss: 3.97273 |  0:00:00s\n",
      "epoch 10 | loss: 3.04781 | val_logloss: 3.22868 |  0:00:09s\n",
      "epoch 20 | loss: 2.46866 | val_logloss: 3.62093 |  0:00:17s\n",
      "epoch 30 | loss: 1.82932 | val_logloss: 4.42229 |  0:00:25s\n",
      "\n",
      "Early stopping occured at epoch 30 with best_epoch = 10 and best_val_logloss = 3.22868\n",
      "Best weights from best epoch are automatically used!\n"
     ]
    }
   ],
   "source": [
    "MAX_EPOCH=200\n",
    "device = \"cuda\" if torch.cuda.is_available() else \"cpu\"\n",
    "\n",
    "def seed_everything(seed_value):\n",
    "    random.seed(seed_value)\n",
    "    np.random.seed(seed_value)\n",
    "    torch.manual_seed(seed_value)\n",
    "    os.environ['PYTHONHASHSEED'] = str(seed_value)\n",
    "    \n",
    "    if torch.cuda.is_available(): \n",
    "        torch.cuda.manual_seed(seed_value)\n",
    "        torch.cuda.manual_seed_all(seed_value)\n",
    "        torch.backends.cudnn.deterministic = True\n",
    "        torch.backends.cudnn.benchmark = False\n",
    "\n",
    "def modelling_tabnet(tr, target, te, sample_seed, target_shape):\n",
    "    seed_everything(sample_seed) \n",
    "    tabnet_params = dict(n_d=32, n_a=32, n_steps=1, gamma=1.3, seed = sample_seed,\n",
    "                     lambda_sparse=0, optimizer_fn=torch.optim.Adam,\n",
    "                     optimizer_params=dict(lr=2e-2, weight_decay=1e-5),\n",
    "                     mask_type='entmax',\n",
    "                     scheduler_params=dict(mode=\"min\",\n",
    "                                           patience=5,\n",
    "                                           min_lr=1e-5,\n",
    "                                           factor=0.9,),\n",
    "                     scheduler_fn=torch.optim.lr_scheduler.ReduceLROnPlateau,\n",
    "                     verbose=10,\n",
    "                     )\n",
    "    test_cv_preds = []\n",
    "\n",
    "    oof_preds = np.zeros([len(tr),target_shape])\n",
    "    scores = []\n",
    "    NB_SPLITS = 6\n",
    "    mskf = StratifiedKFold(n_splits=NB_SPLITS, random_state=0, shuffle=True)\n",
    "    for fold_nb, (train_idx, val_idx) in enumerate(mskf.split(tr, target)):\n",
    "        print(\"FOLDS : \", fold_nb+1)\n",
    "\n",
    "        ## model\n",
    "        X_train, y_train = tr[train_idx, :], target[train_idx]\n",
    "        X_val, y_val = tr[val_idx, :], target[val_idx]\n",
    "        model = TabNetClassifier(**tabnet_params)\n",
    "    \n",
    "        model.fit(X_train=X_train,\n",
    "              y_train=y_train,\n",
    "              eval_set=[(X_val, y_val)],\n",
    "              eval_name = [\"val\"],\n",
    "              eval_metric = ['logloss'],\n",
    "              max_epochs=MAX_EPOCH,\n",
    "              patience=20, batch_size=1024, virtual_batch_size=128,\n",
    "              num_workers=1)\n",
    "    \n",
    "        preds_val = model.predict_proba(X_val)\n",
    "        score = np.min(model.history[\"val_logloss\"])\n",
    "        oof_preds[val_idx,:] = preds_val\n",
    "        scores.append(score)\n",
    "\n",
    "        # preds on test\n",
    "        preds_test = model.predict_proba(te)\n",
    "        test_cv_preds.append(preds_test)\n",
    "        \n",
    "    test_preds_all = np.stack(test_cv_preds)\n",
    "    return oof_preds, test_preds_all\n",
    "\n",
    "target_oof = np.zeros([len(fn_train),class_num])\n",
    "target_pred = np.zeros([len(fn_test),class_num])\n",
    "\n",
    "seeds = [0,1,2,3,4]\n",
    "for seed_ in seeds:\n",
    "    oof_preds, test_preds_all = modelling_tabnet(fn_train, fn_multiclass_targets, fn_test, seed_, class_num)\n",
    "    target_oof += oof_preds / len(seeds)\n",
    "    target_pred += test_preds_all.mean(axis=0) / len(seeds)"
   ]
  },
  {
   "cell_type": "code",
   "execution_count": 12,
   "metadata": {
    "execution": {
     "iopub.execute_input": "2021-03-20T07:44:50.533608Z",
     "iopub.status.busy": "2021-03-20T07:44:50.533024Z",
     "iopub.status.idle": "2021-03-20T07:44:50.601550Z",
     "shell.execute_reply": "2021-03-20T07:44:50.601105Z"
    },
    "papermill": {
     "duration": 0.142597,
     "end_time": "2021-03-20T07:44:50.601650",
     "exception": false,
     "start_time": "2021-03-20T07:44:50.459053",
     "status": "completed"
    },
    "tags": []
   },
   "outputs": [],
   "source": [
    "target_oof = np.dot(target_oof, classid_target)[:21948,:]\n",
    "target_pred = np.dot(target_pred, classid_target)"
   ]
  },
  {
   "cell_type": "code",
   "execution_count": 13,
   "metadata": {
    "execution": {
     "iopub.execute_input": "2021-03-20T07:44:50.739391Z",
     "iopub.status.busy": "2021-03-20T07:44:50.738593Z",
     "iopub.status.idle": "2021-03-20T07:44:57.714417Z",
     "shell.execute_reply": "2021-03-20T07:44:57.713944Z"
    },
    "papermill": {
     "duration": 7.050661,
     "end_time": "2021-03-20T07:44:57.714526",
     "exception": false,
     "start_time": "2021-03-20T07:44:50.663865",
     "status": "completed"
    },
    "tags": []
   },
   "outputs": [
    {
     "name": "stdout",
     "output_type": "stream",
     "text": [
      "OOF log loss:  0.01540865041583286\n",
      "OOF log loss:  0.01570994318414621\n"
     ]
    }
   ],
   "source": [
    "p_min = 0.001\n",
    "p_max = 1 - p_min\n",
    "\n",
    "t = pd.read_csv(DATA_DIR + 'train_targets_scored.csv')\n",
    "train_checkscore = t.copy()\n",
    "train_checkscore.loc[train_checkscore.index.isin(cons_train_index),target_feats] = target_oof\n",
    "train_checkscore.loc[train_checkscore.index.isin(noncons_train_index),target_feats] = 0\n",
    "\n",
    "t.drop(\"sig_id\", axis=1, inplace=True)\n",
    "print('OOF log loss: ', log_loss(np.ravel(t), np.ravel(np.array(train_checkscore.iloc[:,1:]))))\n",
    "print('OOF log loss: ', log_loss(np.ravel(t), np.ravel(np.clip(np.array(train_checkscore.iloc[:,1:]),p_min, p_max))))"
   ]
  },
  {
   "cell_type": "code",
   "execution_count": 14,
   "metadata": {
    "execution": {
     "iopub.execute_input": "2021-03-20T07:44:57.843593Z",
     "iopub.status.busy": "2021-03-20T07:44:57.843074Z",
     "iopub.status.idle": "2021-03-20T07:45:08.880250Z",
     "shell.execute_reply": "2021-03-20T07:45:08.879567Z"
    },
    "papermill": {
     "duration": 11.103235,
     "end_time": "2021-03-20T07:45:08.880369",
     "exception": false,
     "start_time": "2021-03-20T07:44:57.777134",
     "status": "completed"
    },
    "tags": []
   },
   "outputs": [],
   "source": [
    "train_checkscore.to_csv(\"tab_newval_oof.csv\", index=False)"
   ]
  },
  {
   "cell_type": "code",
   "execution_count": 15,
   "metadata": {
    "execution": {
     "iopub.execute_input": "2021-03-20T07:45:09.011515Z",
     "iopub.status.busy": "2021-03-20T07:45:09.010695Z",
     "iopub.status.idle": "2021-03-20T07:45:10.965775Z",
     "shell.execute_reply": "2021-03-20T07:45:10.964794Z"
    },
    "papermill": {
     "duration": 2.022182,
     "end_time": "2021-03-20T07:45:10.965891",
     "exception": false,
     "start_time": "2021-03-20T07:45:08.943709",
     "status": "completed"
    },
    "tags": []
   },
   "outputs": [],
   "source": [
    "sub[target_feats] = np.clip(target_pred,p_min,p_max)\n",
    "sub.loc[noncons_test_index,target_feats] = 0\n",
    "sub.to_csv('submission.csv', index=False)"
   ]
  },
  {
   "cell_type": "code",
   "execution_count": null,
   "metadata": {
    "papermill": {
     "duration": 0.064374,
     "end_time": "2021-03-20T07:45:11.096365",
     "exception": false,
     "start_time": "2021-03-20T07:45:11.031991",
     "status": "completed"
    },
    "tags": []
   },
   "outputs": [],
   "source": []
  }
 ],
 "metadata": {
  "kernelspec": {
   "display_name": "Python 3",
   "language": "python",
   "name": "python3"
  },
  "language_info": {
   "codemirror_mode": {
    "name": "ipython",
    "version": 3
   },
   "file_extension": ".py",
   "mimetype": "text/x-python",
   "name": "python",
   "nbconvert_exporter": "python",
   "pygments_lexer": "ipython3",
   "version": "3.7.6"
  },
  "papermill": {
   "duration": 923.849766,
   "end_time": "2021-03-20T07:45:11.670213",
   "environment_variables": {},
   "exception": null,
   "input_path": "__notebook__.ipynb",
   "output_path": "__notebook__.ipynb",
   "parameters": {},
   "start_time": "2021-03-20T07:29:47.820447",
   "version": "2.1.0"
  }
 },
 "nbformat": 4,
 "nbformat_minor": 4
}
