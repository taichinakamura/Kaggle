{
 "cells": [
  {
   "cell_type": "markdown",
   "metadata": {
    "papermill": {
     "duration": 0.011748,
     "end_time": "2021-03-20T09:08:04.605682",
     "exception": false,
     "start_time": "2021-03-20T09:08:04.593934",
     "status": "completed"
    },
    "tags": []
   },
   "source": [
    "**late submission**\n",
    "- copy tabnet from version 83 \n",
    "- solve as a multiclass classification (metric: logloss)\n",
    "- data augmentation for minor class by cutmix\n",
    "- 6 fold 2 seed\n",
    "- change batch size to 256"
   ]
  },
  {
   "cell_type": "code",
   "execution_count": 1,
   "metadata": {
    "execution": {
     "iopub.execute_input": "2021-03-20T09:08:04.632646Z",
     "iopub.status.busy": "2021-03-20T09:08:04.631964Z",
     "iopub.status.idle": "2021-03-20T09:08:12.163564Z",
     "shell.execute_reply": "2021-03-20T09:08:12.163051Z"
    },
    "papermill": {
     "duration": 7.547338,
     "end_time": "2021-03-20T09:08:12.163675",
     "exception": false,
     "start_time": "2021-03-20T09:08:04.616337",
     "status": "completed"
    },
    "tags": []
   },
   "outputs": [
    {
     "name": "stdout",
     "output_type": "stream",
     "text": [
      "Looking in links: /kaggle/input/pytorchtabnet/pytorch_tabnet-2.0.0-py3-none-any.whl\r\n",
      "Processing /kaggle/input/pytorchtabnet/pytorch_tabnet-2.0.0-py3-none-any.whl\r\n",
      "Requirement already satisfied: tqdm<5.0,>=4.36 in /opt/conda/lib/python3.7/site-packages (from pytorch-tabnet) (4.45.0)\r\n",
      "Requirement already satisfied: scikit_learn>0.21 in /opt/conda/lib/python3.7/site-packages (from pytorch-tabnet) (0.23.2)\r\n",
      "Requirement already satisfied: scipy>1.4 in /opt/conda/lib/python3.7/site-packages (from pytorch-tabnet) (1.4.1)\r\n",
      "Requirement already satisfied: torch<2.0,>=1.2 in /opt/conda/lib/python3.7/site-packages (from pytorch-tabnet) (1.6.0)\r\n",
      "Requirement already satisfied: numpy<2.0,>=1.17 in /opt/conda/lib/python3.7/site-packages (from pytorch-tabnet) (1.18.5)\r\n",
      "Requirement already satisfied: threadpoolctl>=2.0.0 in /opt/conda/lib/python3.7/site-packages (from scikit_learn>0.21->pytorch-tabnet) (2.1.0)\r\n",
      "Requirement already satisfied: joblib>=0.11 in /opt/conda/lib/python3.7/site-packages (from scikit_learn>0.21->pytorch-tabnet) (0.14.1)\r\n",
      "Requirement already satisfied: future in /opt/conda/lib/python3.7/site-packages (from torch<2.0,>=1.2->pytorch-tabnet) (0.18.2)\r\n",
      "Installing collected packages: pytorch-tabnet\r\n",
      "Successfully installed pytorch-tabnet-2.0.0\r\n"
     ]
    }
   ],
   "source": [
    "!pip install --no-index --find-links /kaggle/input/pytorchtabnet/pytorch_tabnet-2.0.0-py3-none-any.whl pytorch-tabnet"
   ]
  },
  {
   "cell_type": "code",
   "execution_count": 2,
   "metadata": {
    "_cell_guid": "b1076dfc-b9ad-4769-8c92-a6c4dae69d19",
    "_uuid": "8f2839f25d086af736a60e9eeb907d3b93b6e0e5",
    "execution": {
     "iopub.execute_input": "2021-03-20T09:08:12.199386Z",
     "iopub.status.busy": "2021-03-20T09:08:12.198359Z",
     "iopub.status.idle": "2021-03-20T09:08:19.091483Z",
     "shell.execute_reply": "2021-03-20T09:08:19.092578Z"
    },
    "papermill": {
     "duration": 6.91593,
     "end_time": "2021-03-20T09:08:19.092751",
     "exception": false,
     "start_time": "2021-03-20T09:08:12.176821",
     "status": "completed"
    },
    "tags": []
   },
   "outputs": [],
   "source": [
    "import os\n",
    "import random\n",
    "import warnings\n",
    "import numpy as np\n",
    "import pandas as pd \n",
    "from sklearn.metrics import log_loss\n",
    "from sklearn.utils import check_random_state\n",
    "from sklearn.model_selection import StratifiedKFold\n",
    "from pytorch_tabnet.tab_model import TabNetClassifier\n",
    "\n",
    "import time\n",
    "import torch\n",
    "import torch.nn as nn\n",
    "import torch.optim as optim\n",
    "import torch.nn.functional as F\n",
    "import tensorflow as tf\n",
    "\n",
    "warnings.filterwarnings('ignore')"
   ]
  },
  {
   "cell_type": "code",
   "execution_count": 3,
   "metadata": {
    "execution": {
     "iopub.execute_input": "2021-03-20T09:08:19.145298Z",
     "iopub.status.busy": "2021-03-20T09:08:19.144488Z",
     "iopub.status.idle": "2021-03-20T09:08:27.328489Z",
     "shell.execute_reply": "2021-03-20T09:08:27.330351Z"
    },
    "papermill": {
     "duration": 8.21669,
     "end_time": "2021-03-20T09:08:27.330629",
     "exception": false,
     "start_time": "2021-03-20T09:08:19.113939",
     "status": "completed"
    },
    "tags": []
   },
   "outputs": [],
   "source": [
    "DATA_DIR = '/kaggle/input/lish-moa/'\n",
    "train = pd.read_csv(DATA_DIR + 'train_features.csv')\n",
    "targets = pd.read_csv(DATA_DIR + 'train_targets_scored.csv')\n",
    "non_targets = pd.read_csv(DATA_DIR + 'train_targets_nonscored.csv')\n",
    "test = pd.read_csv(DATA_DIR + 'test_features.csv')\n",
    "sub = pd.read_csv(DATA_DIR + 'sample_submission.csv')\n",
    "drug = pd.read_csv(DATA_DIR + 'train_drug.csv')"
   ]
  },
  {
   "cell_type": "code",
   "execution_count": 4,
   "metadata": {
    "execution": {
     "iopub.execute_input": "2021-03-20T09:08:27.371021Z",
     "iopub.status.busy": "2021-03-20T09:08:27.370268Z",
     "iopub.status.idle": "2021-03-20T09:08:27.457231Z",
     "shell.execute_reply": "2021-03-20T09:08:27.456727Z"
    },
    "papermill": {
     "duration": 0.109726,
     "end_time": "2021-03-20T09:08:27.457333",
     "exception": false,
     "start_time": "2021-03-20T09:08:27.347607",
     "status": "completed"
    },
    "tags": []
   },
   "outputs": [],
   "source": [
    "target_feats = [ i for i in targets.columns if i != \"sig_id\"]\n",
    "g_feats = [i for i in train.columns if \"g-\" in i]\n",
    "c_feats = [i for i in train.columns if \"c-\" in i]\n",
    "\n",
    "noncons_train_index = train[train.cp_type==\"ctl_vehicle\"].index\n",
    "cons_train_index = train[~train.index.isin(noncons_train_index)].index\n",
    "noncons_test_index = test[test.cp_type==\"ctl_vehicle\"].index\n",
    "cons_test_index = test[test.cp_type!=\"ctl_vehicle\"].index"
   ]
  },
  {
   "cell_type": "markdown",
   "metadata": {
    "papermill": {
     "duration": 0.01254,
     "end_time": "2021-03-20T09:08:27.483224",
     "exception": false,
     "start_time": "2021-03-20T09:08:27.470684",
     "status": "completed"
    },
    "tags": []
   },
   "source": [
    "# preprocess"
   ]
  },
  {
   "cell_type": "code",
   "execution_count": 5,
   "metadata": {
    "execution": {
     "iopub.execute_input": "2021-03-20T09:08:27.518896Z",
     "iopub.status.busy": "2021-03-20T09:08:27.518339Z",
     "iopub.status.idle": "2021-03-20T09:08:38.741833Z",
     "shell.execute_reply": "2021-03-20T09:08:38.740859Z"
    },
    "papermill": {
     "duration": 11.245882,
     "end_time": "2021-03-20T09:08:38.741937",
     "exception": false,
     "start_time": "2021-03-20T09:08:27.496055",
     "status": "completed"
    },
    "tags": []
   },
   "outputs": [
    {
     "data": {
      "text/plain": [
       "((23814, 328), (328, 206))"
      ]
     },
     "execution_count": 5,
     "metadata": {},
     "output_type": "execute_result"
    }
   ],
   "source": [
    "def make_string(row):\n",
    "    return str(row[1:].values).replace('[','').replace(']','').replace('\\n','').replace(' ','')\n",
    "\n",
    "targets[\"target_pair\"] = targets.apply(make_string, axis=1)\n",
    "targetpair_id = dict(enumerate(targets[\"target_pair\"].unique()))\n",
    "id_targetpair = {y:x for x,y in targetpair_id.items()}\n",
    "targets[\"target_pair_num\"] = targets[\"target_pair\"].map(id_targetpair)\n",
    "\n",
    "multiclass_targets = pd.get_dummies(targets[\"target_pair_num\"])\n",
    "\n",
    "for i in range(len(id_targetpair.keys())):\n",
    "    if i == 0:\n",
    "        classid_target = np.array(list((targetpair_id[i]))).reshape(1,-1)      \n",
    "    else:\n",
    "        classid_target = np.vstack([classid_target, np.array(list((targetpair_id[i]))).reshape(1,-1)])\n",
    "        \n",
    "classid_target = classid_target.astype(int)\n",
    "class_num = multiclass_targets.shape[1]\n",
    "        \n",
    "multiclass_targets.shape, classid_target.shape"
   ]
  },
  {
   "cell_type": "code",
   "execution_count": 6,
   "metadata": {
    "execution": {
     "iopub.execute_input": "2021-03-20T09:08:38.780666Z",
     "iopub.status.busy": "2021-03-20T09:08:38.779661Z",
     "iopub.status.idle": "2021-03-20T09:08:39.027368Z",
     "shell.execute_reply": "2021-03-20T09:08:39.026863Z"
    },
    "papermill": {
     "duration": 0.272157,
     "end_time": "2021-03-20T09:08:39.027470",
     "exception": false,
     "start_time": "2021-03-20T09:08:38.755313",
     "status": "completed"
    },
    "tags": []
   },
   "outputs": [],
   "source": [
    "train = train[train.index.isin(cons_train_index)].copy().reset_index(drop=True)\n",
    "targets = targets[targets.index.isin(cons_train_index)].copy().reset_index(drop=True)\n",
    "multiclass_targets = targets[\"target_pair_num\"].copy().reset_index(drop=True)"
   ]
  },
  {
   "cell_type": "code",
   "execution_count": 7,
   "metadata": {
    "execution": {
     "iopub.execute_input": "2021-03-20T09:08:39.059479Z",
     "iopub.status.busy": "2021-03-20T09:08:39.058675Z",
     "iopub.status.idle": "2021-03-20T09:08:39.083170Z",
     "shell.execute_reply": "2021-03-20T09:08:39.082615Z"
    },
    "papermill": {
     "duration": 0.042334,
     "end_time": "2021-03-20T09:08:39.083259",
     "exception": false,
     "start_time": "2021-03-20T09:08:39.040925",
     "status": "completed"
    },
    "tags": []
   },
   "outputs": [
    {
     "data": {
      "text/plain": [
       "(Int64Index([326, 327, 318, 312, 325, 310], dtype='int64'),\n",
       " Int64Index([321, 275,  19, 307, 323, 290, 146, 243, 322, 256,\n",
       "             ...\n",
       "             280, 168, 263, 303, 231, 199, 183,  71,  39,   7],\n",
       "            dtype='int64', length=111))"
      ]
     },
     "execution_count": 7,
     "metadata": {},
     "output_type": "execute_result"
    }
   ],
   "source": [
    "tmp = multiclass_targets.value_counts().copy()\n",
    "minor_class = tmp[tmp==1].index\n",
    "minor_class6 = tmp[tmp==6].index\n",
    "minor_class, minor_class6"
   ]
  },
  {
   "cell_type": "markdown",
   "metadata": {
    "papermill": {
     "duration": 0.013486,
     "end_time": "2021-03-20T09:08:39.110404",
     "exception": false,
     "start_time": "2021-03-20T09:08:39.096918",
     "status": "completed"
    },
    "tags": []
   },
   "source": [
    "# feature engineering"
   ]
  },
  {
   "cell_type": "code",
   "execution_count": 8,
   "metadata": {
    "execution": {
     "iopub.execute_input": "2021-03-20T09:08:39.144540Z",
     "iopub.status.busy": "2021-03-20T09:08:39.143393Z",
     "iopub.status.idle": "2021-03-20T09:08:39.273766Z",
     "shell.execute_reply": "2021-03-20T09:08:39.274218Z"
    },
    "papermill": {
     "duration": 0.150255,
     "end_time": "2021-03-20T09:08:39.274344",
     "exception": false,
     "start_time": "2021-03-20T09:08:39.124089",
     "status": "completed"
    },
    "tags": []
   },
   "outputs": [
    {
     "name": "stdout",
     "output_type": "stream",
     "text": [
      "(21948, 874) (3982, 874)\n"
     ]
    }
   ],
   "source": [
    "def fe(df):\n",
    "    tmp = df.copy()\n",
    "    tmp.loc[:, 'cp_dose'] = tmp.loc[:, 'cp_dose'].map({'D1': 0, 'D2': 1})      \n",
    "    tmp.drop([\"sig_id\", \"cp_type\"], axis=1, inplace=True)\n",
    "    return tmp\n",
    "\n",
    "train = fe(train)\n",
    "test = fe(test)\n",
    "\n",
    "print(train.shape, test.shape)"
   ]
  },
  {
   "cell_type": "code",
   "execution_count": 9,
   "metadata": {
    "execution": {
     "iopub.execute_input": "2021-03-20T09:08:39.318415Z",
     "iopub.status.busy": "2021-03-20T09:08:39.317466Z",
     "iopub.status.idle": "2021-03-20T09:08:41.170415Z",
     "shell.execute_reply": "2021-03-20T09:08:41.169801Z"
    },
    "papermill": {
     "duration": 1.881973,
     "end_time": "2021-03-20T09:08:41.170543",
     "exception": false,
     "start_time": "2021-03-20T09:08:39.288570",
     "status": "completed"
    },
    "tags": []
   },
   "outputs": [
    {
     "name": "stdout",
     "output_type": "stream",
     "text": [
      "[  599  2348  5784 12816 17718 20062]\n",
      "[ 6269  6613  9380 10755 13810 14313]\n",
      "[ 7176  7455  9098 15661 15970 18894]\n",
      "[  858  9318  9931 18208 19565 20789]\n",
      "[ 7176  7455  9098 15661 15970 18894]\n"
     ]
    }
   ],
   "source": [
    "# data augmentation by cutmix\n",
    "# https://www.kaggle.com/yxohrxn/moa-cutmix\n",
    "\n",
    "def cutmix_for_tabular(x, y=None, alpha=1.0, p=1.0, random_state=None):\n",
    "    x_ = x.copy()\n",
    "    n, d = x.shape\n",
    "\n",
    "    if n is not None and random.random() < p:\n",
    "        random_state = check_random_state(random_state)\n",
    "        l = random_state.beta(alpha, alpha)\n",
    "        mask = random_state.choice([False, True], size=d, p=[l, 1.0 - l])\n",
    "        mask = np.where(mask)[0]\n",
    "        shuffle = random_state.choice(n, n, replace=False)\n",
    "        x_[:,mask] = x_[np.ix_(shuffle,mask)]\n",
    "        \n",
    "        if y is not None:\n",
    "            y = l * y + (1.0 - l) * y[shuffle]\n",
    "        \n",
    "    # extract minor class\n",
    "    tmp_index = np.where(np.isin(np.argmax(y, axis=1), minor_class))[0]\n",
    "    print(tmp_index)\n",
    "        \n",
    "    return x_[tmp_index], np.argmax(y[tmp_index],axis=1)\n",
    "\n",
    "for i in [0,1,2,3,4]:\n",
    "    if i == 0:\n",
    "        train_mod, y_mod = cutmix_for_tabular(train.values, \n",
    "                                      pd.get_dummies(multiclass_targets).values, alpha=1, p=1, random_state=i)\n",
    "    else:\n",
    "        train_tmp, y_tmp = cutmix_for_tabular(train.values, \n",
    "                                      pd.get_dummies(multiclass_targets).values, alpha=1, p=1, random_state=i)\n",
    "        train_mod = np.concatenate([train_mod, train_tmp], axis=0)\n",
    "        y_mod = np.concatenate([y_mod, y_tmp])\n",
    "        \n",
    "train_mod = pd.DataFrame(train_mod, columns = train.columns)\n",
    "train = pd.concat([train, train_mod], axis=0).reset_index(drop=True)\n",
    "\n",
    "y_mod = pd.DataFrame(y_mod)\n",
    "multiclass_targets = pd.concat([multiclass_targets, y_mod]).reset_index(drop=True)"
   ]
  },
  {
   "cell_type": "code",
   "execution_count": 10,
   "metadata": {
    "execution": {
     "iopub.execute_input": "2021-03-20T09:08:41.208818Z",
     "iopub.status.busy": "2021-03-20T09:08:41.207701Z",
     "iopub.status.idle": "2021-03-20T09:08:41.536599Z",
     "shell.execute_reply": "2021-03-20T09:08:41.537040Z"
    },
    "papermill": {
     "duration": 0.350856,
     "end_time": "2021-03-20T09:08:41.537183",
     "exception": false,
     "start_time": "2021-03-20T09:08:41.186327",
     "status": "completed"
    },
    "tags": []
   },
   "outputs": [
    {
     "data": {
      "text/plain": [
       "((21978, 874), (3982, 874), (21978,))"
      ]
     },
     "execution_count": 10,
     "metadata": {},
     "output_type": "execute_result"
    }
   ],
   "source": [
    "fn_train = train.copy().to_numpy()\n",
    "fn_test = test.copy().to_numpy()\n",
    "    \n",
    "fn_targets = targets.drop(\"sig_id\", axis=1).copy().to_numpy()\n",
    "fn_multiclass_targets = multiclass_targets.copy().to_numpy().reshape(-1,)\n",
    "\n",
    "fn_train.shape, fn_test.shape, fn_multiclass_targets.shape"
   ]
  },
  {
   "cell_type": "markdown",
   "metadata": {
    "papermill": {
     "duration": 0.015795,
     "end_time": "2021-03-20T09:08:41.569727",
     "exception": false,
     "start_time": "2021-03-20T09:08:41.553932",
     "status": "completed"
    },
    "tags": []
   },
   "source": [
    "# modelling"
   ]
  },
  {
   "cell_type": "code",
   "execution_count": 11,
   "metadata": {
    "execution": {
     "iopub.execute_input": "2021-03-20T09:08:41.966816Z",
     "iopub.status.busy": "2021-03-20T09:08:41.965617Z",
     "iopub.status.idle": "2021-03-20T09:18:31.626029Z",
     "shell.execute_reply": "2021-03-20T09:18:31.626786Z"
    },
    "papermill": {
     "duration": 590.041295,
     "end_time": "2021-03-20T09:18:31.626977",
     "exception": false,
     "start_time": "2021-03-20T09:08:41.585682",
     "status": "completed"
    },
    "tags": []
   },
   "outputs": [
    {
     "name": "stdout",
     "output_type": "stream",
     "text": [
      "FOLDS :  1\n",
      "Device used : cuda\n",
      "epoch 0  | loss: 4.09597 | val_logloss: 3.74387 |  0:00:02s\n",
      "epoch 10 | loss: 2.83402 | val_logloss: 3.16361 |  0:00:17s\n",
      "epoch 20 | loss: 2.11482 | val_logloss: 3.60851 |  0:00:33s\n",
      "\n",
      "Early stopping occured at epoch 27 with best_epoch = 7 and best_val_logloss = 3.15102\n",
      "Best weights from best epoch are automatically used!\n",
      "FOLDS :  2\n",
      "Device used : cuda\n",
      "epoch 0  | loss: 4.11473 | val_logloss: 3.73238 |  0:00:01s\n",
      "epoch 10 | loss: 2.83603 | val_logloss: 3.13761 |  0:00:16s\n",
      "epoch 20 | loss: 2.14984 | val_logloss: 3.52574 |  0:00:32s\n",
      "epoch 30 | loss: 1.3328  | val_logloss: 5.05292 |  0:00:47s\n",
      "\n",
      "Early stopping occured at epoch 31 with best_epoch = 11 and best_val_logloss = 3.11086\n",
      "Best weights from best epoch are automatically used!\n",
      "FOLDS :  3\n",
      "Device used : cuda\n",
      "epoch 0  | loss: 4.12638 | val_logloss: 3.6585  |  0:00:01s\n",
      "epoch 10 | loss: 2.84536 | val_logloss: 3.14115 |  0:00:17s\n",
      "epoch 20 | loss: 2.18855 | val_logloss: 3.60345 |  0:00:32s\n",
      "\n",
      "Early stopping occured at epoch 28 with best_epoch = 8 and best_val_logloss = 3.11964\n",
      "Best weights from best epoch are automatically used!\n",
      "FOLDS :  4\n",
      "Device used : cuda\n",
      "epoch 0  | loss: 4.11774 | val_logloss: 3.72811 |  0:00:01s\n",
      "epoch 10 | loss: 2.82608 | val_logloss: 3.13461 |  0:00:17s\n",
      "epoch 20 | loss: 2.19672 | val_logloss: 3.59038 |  0:00:33s\n",
      "\n",
      "Early stopping occured at epoch 29 with best_epoch = 9 and best_val_logloss = 3.11155\n",
      "Best weights from best epoch are automatically used!\n",
      "FOLDS :  5\n",
      "Device used : cuda\n",
      "epoch 0  | loss: 4.13463 | val_logloss: 3.68134 |  0:00:01s\n",
      "epoch 10 | loss: 2.83672 | val_logloss: 3.12378 |  0:00:17s\n",
      "epoch 20 | loss: 2.18534 | val_logloss: 3.56858 |  0:00:32s\n",
      "epoch 30 | loss: 1.42226 | val_logloss: 4.85626 |  0:00:48s\n",
      "\n",
      "Early stopping occured at epoch 31 with best_epoch = 11 and best_val_logloss = 3.09071\n",
      "Best weights from best epoch are automatically used!\n",
      "FOLDS :  6\n",
      "Device used : cuda\n",
      "epoch 0  | loss: 4.12566 | val_logloss: 3.63909 |  0:00:01s\n",
      "epoch 10 | loss: 2.87548 | val_logloss: 3.22711 |  0:00:16s\n",
      "epoch 20 | loss: 2.25544 | val_logloss: 3.43988 |  0:00:32s\n",
      "\n",
      "Early stopping occured at epoch 29 with best_epoch = 9 and best_val_logloss = 3.1201\n",
      "Best weights from best epoch are automatically used!\n",
      "FOLDS :  1\n",
      "Device used : cuda\n",
      "epoch 0  | loss: 4.09945 | val_logloss: 3.66377 |  0:00:01s\n",
      "epoch 10 | loss: 2.90946 | val_logloss: 3.133   |  0:00:17s\n",
      "epoch 20 | loss: 2.2623  | val_logloss: 3.45582 |  0:00:32s\n",
      "epoch 30 | loss: 1.50076 | val_logloss: 4.84502 |  0:00:48s\n",
      "\n",
      "Early stopping occured at epoch 31 with best_epoch = 11 and best_val_logloss = 3.11801\n",
      "Best weights from best epoch are automatically used!\n",
      "FOLDS :  2\n",
      "Device used : cuda\n",
      "epoch 0  | loss: 4.09564 | val_logloss: 3.63109 |  0:00:01s\n",
      "epoch 10 | loss: 2.86731 | val_logloss: 3.34843 |  0:00:16s\n",
      "epoch 20 | loss: 2.2404  | val_logloss: 3.51268 |  0:00:32s\n",
      "epoch 30 | loss: 1.45604 | val_logloss: 4.79072 |  0:00:47s\n",
      "\n",
      "Early stopping occured at epoch 31 with best_epoch = 11 and best_val_logloss = 3.10851\n",
      "Best weights from best epoch are automatically used!\n",
      "FOLDS :  3\n",
      "Device used : cuda\n",
      "epoch 0  | loss: 4.12388 | val_logloss: 3.63762 |  0:00:01s\n",
      "epoch 10 | loss: 2.87561 | val_logloss: 3.14813 |  0:00:17s\n",
      "epoch 20 | loss: 2.31939 | val_logloss: 3.44433 |  0:00:32s\n",
      "\n",
      "Early stopping occured at epoch 29 with best_epoch = 9 and best_val_logloss = 3.10964\n",
      "Best weights from best epoch are automatically used!\n",
      "FOLDS :  4\n",
      "Device used : cuda\n",
      "epoch 0  | loss: 4.0912  | val_logloss: 3.66276 |  0:00:01s\n",
      "epoch 10 | loss: 2.88321 | val_logloss: 3.13383 |  0:00:16s\n",
      "epoch 20 | loss: 2.28663 | val_logloss: 3.57338 |  0:00:32s\n",
      "\n",
      "Early stopping occured at epoch 28 with best_epoch = 8 and best_val_logloss = 3.11162\n",
      "Best weights from best epoch are automatically used!\n",
      "FOLDS :  5\n",
      "Device used : cuda\n",
      "epoch 0  | loss: 4.135   | val_logloss: 3.65438 |  0:00:01s\n",
      "epoch 10 | loss: 2.85663 | val_logloss: 3.43358 |  0:00:17s\n",
      "epoch 20 | loss: 2.16419 | val_logloss: 3.57969 |  0:00:33s\n",
      "epoch 30 | loss: 1.32352 | val_logloss: 5.09606 |  0:00:48s\n",
      "\n",
      "Early stopping occured at epoch 31 with best_epoch = 11 and best_val_logloss = 3.09663\n",
      "Best weights from best epoch are automatically used!\n",
      "FOLDS :  6\n",
      "Device used : cuda\n",
      "epoch 0  | loss: 4.1359  | val_logloss: 3.64953 |  0:00:01s\n",
      "epoch 10 | loss: 2.87138 | val_logloss: 3.10923 |  0:00:17s\n",
      "epoch 20 | loss: 2.22814 | val_logloss: 4.79795 |  0:00:33s\n",
      "epoch 30 | loss: 1.46434 | val_logloss: 5.07843 |  0:00:48s\n",
      "\n",
      "Early stopping occured at epoch 30 with best_epoch = 10 and best_val_logloss = 3.10923\n",
      "Best weights from best epoch are automatically used!\n"
     ]
    }
   ],
   "source": [
    "MAX_EPOCH=200\n",
    "device = \"cuda\" if torch.cuda.is_available() else \"cpu\"\n",
    "\n",
    "def seed_everything(seed_value):\n",
    "    random.seed(seed_value)\n",
    "    np.random.seed(seed_value)\n",
    "    torch.manual_seed(seed_value)\n",
    "    os.environ['PYTHONHASHSEED'] = str(seed_value)\n",
    "    \n",
    "    if torch.cuda.is_available(): \n",
    "        torch.cuda.manual_seed(seed_value)\n",
    "        torch.cuda.manual_seed_all(seed_value)\n",
    "        torch.backends.cudnn.deterministic = True\n",
    "        torch.backends.cudnn.benchmark = False\n",
    "\n",
    "def modelling_tabnet(tr, target, te, sample_seed, target_shape):\n",
    "    seed_everything(sample_seed) \n",
    "    tabnet_params = dict(n_d=32, n_a=32, n_steps=1, gamma=1.3, seed = sample_seed,\n",
    "                     lambda_sparse=0, optimizer_fn=torch.optim.Adam,\n",
    "                     optimizer_params=dict(lr=2e-2, weight_decay=1e-5),\n",
    "                     mask_type='entmax',\n",
    "                     scheduler_params=dict(mode=\"min\",\n",
    "                                           patience=5,\n",
    "                                           min_lr=1e-5,\n",
    "                                           factor=0.9,),\n",
    "                     scheduler_fn=torch.optim.lr_scheduler.ReduceLROnPlateau,\n",
    "                     verbose=10,\n",
    "                     )\n",
    "    test_cv_preds = []\n",
    "\n",
    "    oof_preds = np.zeros([len(tr),target_shape])\n",
    "    scores = []\n",
    "    NB_SPLITS = 6\n",
    "    mskf = StratifiedKFold(n_splits=NB_SPLITS, random_state=0, shuffle=True)\n",
    "    for fold_nb, (train_idx, val_idx) in enumerate(mskf.split(tr, target)):\n",
    "        print(\"FOLDS : \", fold_nb+1)\n",
    "\n",
    "        ## model\n",
    "        X_train, y_train = tr[train_idx, :], target[train_idx]\n",
    "        X_val, y_val = tr[val_idx, :], target[val_idx]\n",
    "        model = TabNetClassifier(**tabnet_params)\n",
    "    \n",
    "        model.fit(X_train=X_train,\n",
    "              y_train=y_train,\n",
    "              eval_set=[(X_val, y_val)],\n",
    "              eval_name = [\"val\"],\n",
    "              eval_metric = ['logloss'],\n",
    "              max_epochs=MAX_EPOCH,\n",
    "              patience=20, batch_size=256, virtual_batch_size=128,\n",
    "              num_workers=1)\n",
    "    \n",
    "        preds_val = model.predict_proba(X_val)\n",
    "        score = np.min(model.history[\"val_logloss\"])\n",
    "        oof_preds[val_idx,:] = preds_val\n",
    "        scores.append(score)\n",
    "\n",
    "        # preds on test\n",
    "        preds_test = model.predict_proba(te)\n",
    "        test_cv_preds.append(preds_test)\n",
    "        \n",
    "    test_preds_all = np.stack(test_cv_preds)\n",
    "    return oof_preds, test_preds_all\n",
    "\n",
    "target_oof = np.zeros([len(fn_train),class_num])\n",
    "target_pred = np.zeros([len(fn_test),class_num])\n",
    "\n",
    "seeds = [0,1] #,2,3,4]\n",
    "for seed_ in seeds:\n",
    "    oof_preds, test_preds_all = modelling_tabnet(fn_train, fn_multiclass_targets, fn_test, seed_, class_num)\n",
    "    target_oof += oof_preds / len(seeds)\n",
    "    target_pred += test_preds_all.mean(axis=0) / len(seeds)"
   ]
  },
  {
   "cell_type": "code",
   "execution_count": 12,
   "metadata": {
    "execution": {
     "iopub.execute_input": "2021-03-20T09:18:31.755359Z",
     "iopub.status.busy": "2021-03-20T09:18:31.754512Z",
     "iopub.status.idle": "2021-03-20T09:18:31.855223Z",
     "shell.execute_reply": "2021-03-20T09:18:31.854717Z"
    },
    "papermill": {
     "duration": 0.171529,
     "end_time": "2021-03-20T09:18:31.855322",
     "exception": false,
     "start_time": "2021-03-20T09:18:31.683793",
     "status": "completed"
    },
    "tags": []
   },
   "outputs": [],
   "source": [
    "target_oof = np.dot(target_oof, classid_target)[:21948,:]\n",
    "target_pred = np.dot(target_pred, classid_target)"
   ]
  },
  {
   "cell_type": "code",
   "execution_count": 13,
   "metadata": {
    "execution": {
     "iopub.execute_input": "2021-03-20T09:18:31.938363Z",
     "iopub.status.busy": "2021-03-20T09:18:31.937565Z",
     "iopub.status.idle": "2021-03-20T09:18:39.264810Z",
     "shell.execute_reply": "2021-03-20T09:18:39.265684Z"
    },
    "papermill": {
     "duration": 7.376247,
     "end_time": "2021-03-20T09:18:39.265857",
     "exception": false,
     "start_time": "2021-03-20T09:18:31.889610",
     "status": "completed"
    },
    "tags": []
   },
   "outputs": [
    {
     "name": "stdout",
     "output_type": "stream",
     "text": [
      "OOF log loss:  0.015244139312345651\n",
      "OOF log loss:  0.015566310183487022\n"
     ]
    }
   ],
   "source": [
    "p_min = 0.001\n",
    "p_max = 1 - p_min\n",
    "\n",
    "t = pd.read_csv(DATA_DIR + 'train_targets_scored.csv')\n",
    "train_checkscore = t.copy()\n",
    "train_checkscore.loc[train_checkscore.index.isin(cons_train_index),target_feats] = target_oof\n",
    "train_checkscore.loc[train_checkscore.index.isin(noncons_train_index),target_feats] = 0\n",
    "\n",
    "t.drop(\"sig_id\", axis=1, inplace=True)\n",
    "print('OOF log loss: ', log_loss(np.ravel(t), np.ravel(np.array(train_checkscore.iloc[:,1:]))))\n",
    "print('OOF log loss: ', log_loss(np.ravel(t), np.ravel(np.clip(np.array(train_checkscore.iloc[:,1:]),p_min, p_max))))"
   ]
  },
  {
   "cell_type": "code",
   "execution_count": 14,
   "metadata": {
    "execution": {
     "iopub.execute_input": "2021-03-20T09:18:39.340885Z",
     "iopub.status.busy": "2021-03-20T09:18:39.340376Z",
     "iopub.status.idle": "2021-03-20T09:18:50.286040Z",
     "shell.execute_reply": "2021-03-20T09:18:50.284659Z"
    },
    "papermill": {
     "duration": 10.984411,
     "end_time": "2021-03-20T09:18:50.286198",
     "exception": false,
     "start_time": "2021-03-20T09:18:39.301787",
     "status": "completed"
    },
    "tags": []
   },
   "outputs": [],
   "source": [
    "train_checkscore.to_csv(\"tab_newval_oof.csv\", index=False)"
   ]
  },
  {
   "cell_type": "code",
   "execution_count": 15,
   "metadata": {
    "execution": {
     "iopub.execute_input": "2021-03-20T09:18:50.364318Z",
     "iopub.status.busy": "2021-03-20T09:18:50.363491Z",
     "iopub.status.idle": "2021-03-20T09:18:52.097786Z",
     "shell.execute_reply": "2021-03-20T09:18:52.097193Z"
    },
    "papermill": {
     "duration": 1.776467,
     "end_time": "2021-03-20T09:18:52.097897",
     "exception": false,
     "start_time": "2021-03-20T09:18:50.321430",
     "status": "completed"
    },
    "tags": []
   },
   "outputs": [],
   "source": [
    "sub[target_feats] = np.clip(target_pred,p_min,p_max)\n",
    "sub.loc[noncons_test_index,target_feats] = 0\n",
    "sub.to_csv('submission.csv', index=False)"
   ]
  },
  {
   "cell_type": "code",
   "execution_count": null,
   "metadata": {
    "papermill": {
     "duration": 0.035722,
     "end_time": "2021-03-20T09:18:52.174680",
     "exception": false,
     "start_time": "2021-03-20T09:18:52.138958",
     "status": "completed"
    },
    "tags": []
   },
   "outputs": [],
   "source": []
  }
 ],
 "metadata": {
  "kernelspec": {
   "display_name": "Python 3",
   "language": "python",
   "name": "python3"
  },
  "language_info": {
   "codemirror_mode": {
    "name": "ipython",
    "version": 3
   },
   "file_extension": ".py",
   "mimetype": "text/x-python",
   "name": "python",
   "nbconvert_exporter": "python",
   "pygments_lexer": "ipython3",
   "version": "3.7.6"
  },
  "papermill": {
   "duration": 651.978258,
   "end_time": "2021-03-20T09:18:52.616606",
   "environment_variables": {},
   "exception": null,
   "input_path": "__notebook__.ipynb",
   "output_path": "__notebook__.ipynb",
   "parameters": {},
   "start_time": "2021-03-20T09:08:00.638348",
   "version": "2.1.0"
  }
 },
 "nbformat": 4,
 "nbformat_minor": 4
}
