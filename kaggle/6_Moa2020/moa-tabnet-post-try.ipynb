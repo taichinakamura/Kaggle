{
 "cells": [
  {
   "cell_type": "markdown",
   "metadata": {
    "papermill": {
     "duration": 0.016258,
     "end_time": "2021-03-20T06:57:20.339992",
     "exception": false,
     "start_time": "2021-03-20T06:57:20.323734",
     "status": "completed"
    },
    "tags": []
   },
   "source": [
    "**late submission**\n",
    "- copy tabnet from version 83 \n",
    "- solve as a multiclass classification (metric: logloss)\n",
    "- data augmentation for minor class by cutmix\n",
    "- model parameter change"
   ]
  },
  {
   "cell_type": "code",
   "execution_count": 1,
   "metadata": {
    "execution": {
     "iopub.execute_input": "2021-03-20T06:57:20.377234Z",
     "iopub.status.busy": "2021-03-20T06:57:20.376372Z",
     "iopub.status.idle": "2021-03-20T06:57:28.537297Z",
     "shell.execute_reply": "2021-03-20T06:57:28.536699Z"
    },
    "papermill": {
     "duration": 8.182255,
     "end_time": "2021-03-20T06:57:28.537428",
     "exception": false,
     "start_time": "2021-03-20T06:57:20.355173",
     "status": "completed"
    },
    "tags": []
   },
   "outputs": [
    {
     "name": "stdout",
     "output_type": "stream",
     "text": [
      "Looking in links: /kaggle/input/pytorchtabnet/pytorch_tabnet-2.0.0-py3-none-any.whl\r\n",
      "Processing /kaggle/input/pytorchtabnet/pytorch_tabnet-2.0.0-py3-none-any.whl\r\n",
      "Requirement already satisfied: scipy>1.4 in /opt/conda/lib/python3.7/site-packages (from pytorch-tabnet) (1.4.1)\r\n",
      "Requirement already satisfied: scikit_learn>0.21 in /opt/conda/lib/python3.7/site-packages (from pytorch-tabnet) (0.23.2)\r\n",
      "Requirement already satisfied: tqdm<5.0,>=4.36 in /opt/conda/lib/python3.7/site-packages (from pytorch-tabnet) (4.45.0)\r\n",
      "Requirement already satisfied: torch<2.0,>=1.2 in /opt/conda/lib/python3.7/site-packages (from pytorch-tabnet) (1.6.0)\r\n",
      "Requirement already satisfied: numpy<2.0,>=1.17 in /opt/conda/lib/python3.7/site-packages (from pytorch-tabnet) (1.18.5)\r\n",
      "Requirement already satisfied: joblib>=0.11 in /opt/conda/lib/python3.7/site-packages (from scikit_learn>0.21->pytorch-tabnet) (0.14.1)\r\n",
      "Requirement already satisfied: threadpoolctl>=2.0.0 in /opt/conda/lib/python3.7/site-packages (from scikit_learn>0.21->pytorch-tabnet) (2.1.0)\r\n",
      "Requirement already satisfied: future in /opt/conda/lib/python3.7/site-packages (from torch<2.0,>=1.2->pytorch-tabnet) (0.18.2)\r\n",
      "Installing collected packages: pytorch-tabnet\r\n",
      "Successfully installed pytorch-tabnet-2.0.0\r\n"
     ]
    }
   ],
   "source": [
    "!pip install --no-index --find-links /kaggle/input/pytorchtabnet/pytorch_tabnet-2.0.0-py3-none-any.whl pytorch-tabnet"
   ]
  },
  {
   "cell_type": "code",
   "execution_count": 2,
   "metadata": {
    "_cell_guid": "b1076dfc-b9ad-4769-8c92-a6c4dae69d19",
    "_uuid": "8f2839f25d086af736a60e9eeb907d3b93b6e0e5",
    "execution": {
     "iopub.execute_input": "2021-03-20T06:57:28.583789Z",
     "iopub.status.busy": "2021-03-20T06:57:28.582904Z",
     "iopub.status.idle": "2021-03-20T06:57:37.766188Z",
     "shell.execute_reply": "2021-03-20T06:57:37.765262Z"
    },
    "papermill": {
     "duration": 9.209849,
     "end_time": "2021-03-20T06:57:37.766312",
     "exception": false,
     "start_time": "2021-03-20T06:57:28.556463",
     "status": "completed"
    },
    "tags": []
   },
   "outputs": [],
   "source": [
    "import os\n",
    "import sys\n",
    "import random\n",
    "import warnings\n",
    "import numpy as np\n",
    "import pandas as pd \n",
    "from umap import UMAP\n",
    "from sklearn import preprocessing\n",
    "from sklearn.metrics import log_loss,roc_auc_score\n",
    "from sklearn.decomposition import PCA\n",
    "from tqdm import tqdm_notebook as tqdm\n",
    "from sklearn.cluster import KMeans\n",
    "from sklearn.multioutput import MultiOutputClassifier\n",
    "from sklearn.feature_selection import VarianceThreshold\n",
    "from torch.nn.modules.loss import _WeightedLoss\n",
    "from sklearn.model_selection import StratifiedKFold, KFold\n",
    "from sklearn.utils import check_random_state\n",
    "\n",
    "from pytorch_tabnet.metrics import Metric\n",
    "from pytorch_tabnet.tab_model import TabNetRegressor, TabNetClassifier\n",
    "\n",
    "sys.path.append('../input/multilabelstraifier/')\n",
    "from ml_stratifiers import MultilabelStratifiedKFold\n",
    "warnings.filterwarnings('ignore')\n",
    "\n",
    "import time\n",
    "import torch\n",
    "import torch.nn as nn\n",
    "import torch.optim as optim\n",
    "import torch.nn.functional as F\n",
    "import tensorflow as tf"
   ]
  },
  {
   "cell_type": "code",
   "execution_count": 3,
   "metadata": {
    "execution": {
     "iopub.execute_input": "2021-03-20T06:57:37.809914Z",
     "iopub.status.busy": "2021-03-20T06:57:37.809237Z",
     "iopub.status.idle": "2021-03-20T06:57:45.309268Z",
     "shell.execute_reply": "2021-03-20T06:57:45.307751Z"
    },
    "papermill": {
     "duration": 7.525977,
     "end_time": "2021-03-20T06:57:45.309386",
     "exception": false,
     "start_time": "2021-03-20T06:57:37.783409",
     "status": "completed"
    },
    "tags": []
   },
   "outputs": [],
   "source": [
    "DATA_DIR = '/kaggle/input/lish-moa/'\n",
    "train = pd.read_csv(DATA_DIR + 'train_features.csv')\n",
    "targets = pd.read_csv(DATA_DIR + 'train_targets_scored.csv')\n",
    "non_targets = pd.read_csv(DATA_DIR + 'train_targets_nonscored.csv')\n",
    "test = pd.read_csv(DATA_DIR + 'test_features.csv')\n",
    "sub = pd.read_csv(DATA_DIR + 'sample_submission.csv')\n",
    "drug = pd.read_csv(DATA_DIR + 'train_drug.csv')"
   ]
  },
  {
   "cell_type": "code",
   "execution_count": 4,
   "metadata": {
    "execution": {
     "iopub.execute_input": "2021-03-20T06:57:45.354455Z",
     "iopub.status.busy": "2021-03-20T06:57:45.353660Z",
     "iopub.status.idle": "2021-03-20T06:57:45.444889Z",
     "shell.execute_reply": "2021-03-20T06:57:45.444371Z"
    },
    "papermill": {
     "duration": 0.118152,
     "end_time": "2021-03-20T06:57:45.444992",
     "exception": false,
     "start_time": "2021-03-20T06:57:45.326840",
     "status": "completed"
    },
    "tags": []
   },
   "outputs": [],
   "source": [
    "target_feats = [ i for i in targets.columns if i != \"sig_id\"]\n",
    "g_feats = [i for i in train.columns if \"g-\" in i]\n",
    "c_feats = [i for i in train.columns if \"c-\" in i]\n",
    "\n",
    "noncons_train_index = train[train.cp_type==\"ctl_vehicle\"].index\n",
    "cons_train_index = train[~train.index.isin(noncons_train_index)].index\n",
    "noncons_test_index = test[test.cp_type==\"ctl_vehicle\"].index\n",
    "cons_test_index = test[test.cp_type!=\"ctl_vehicle\"].index"
   ]
  },
  {
   "cell_type": "markdown",
   "metadata": {
    "papermill": {
     "duration": 0.015984,
     "end_time": "2021-03-20T06:57:45.477658",
     "exception": false,
     "start_time": "2021-03-20T06:57:45.461674",
     "status": "completed"
    },
    "tags": []
   },
   "source": [
    "# preprocess"
   ]
  },
  {
   "cell_type": "code",
   "execution_count": 5,
   "metadata": {
    "execution": {
     "iopub.execute_input": "2021-03-20T06:57:45.521310Z",
     "iopub.status.busy": "2021-03-20T06:57:45.520607Z",
     "iopub.status.idle": "2021-03-20T06:57:56.686979Z",
     "shell.execute_reply": "2021-03-20T06:57:56.686534Z"
    },
    "papermill": {
     "duration": 11.192993,
     "end_time": "2021-03-20T06:57:56.687098",
     "exception": false,
     "start_time": "2021-03-20T06:57:45.494105",
     "status": "completed"
    },
    "tags": []
   },
   "outputs": [
    {
     "data": {
      "text/plain": [
       "((23814, 328), (328, 206))"
      ]
     },
     "execution_count": 5,
     "metadata": {},
     "output_type": "execute_result"
    }
   ],
   "source": [
    "def make_string(row):\n",
    "    return str(row[1:].values).replace('[','').replace(']','').replace('\\n','').replace(' ','')\n",
    "\n",
    "targets[\"target_pair\"] = targets.apply(make_string, axis=1)\n",
    "targetpair_id = dict(enumerate(targets[\"target_pair\"].unique()))\n",
    "id_targetpair = {y:x for x,y in targetpair_id.items()}\n",
    "targets[\"target_pair_num\"] = targets[\"target_pair\"].map(id_targetpair)\n",
    "\n",
    "multiclass_targets = pd.get_dummies(targets[\"target_pair_num\"])\n",
    "\n",
    "for i in range(len(id_targetpair.keys())):\n",
    "    if i == 0:\n",
    "        classid_target = np.array(list((targetpair_id[i]))).reshape(1,-1)      \n",
    "    else:\n",
    "        classid_target = np.vstack([classid_target, np.array(list((targetpair_id[i]))).reshape(1,-1)])\n",
    "        \n",
    "classid_target = classid_target.astype(int)\n",
    "class_num = multiclass_targets.shape[1]\n",
    "        \n",
    "multiclass_targets.shape, classid_target.shape"
   ]
  },
  {
   "cell_type": "code",
   "execution_count": 6,
   "metadata": {
    "execution": {
     "iopub.execute_input": "2021-03-20T06:57:56.732872Z",
     "iopub.status.busy": "2021-03-20T06:57:56.731760Z",
     "iopub.status.idle": "2021-03-20T06:57:56.981563Z",
     "shell.execute_reply": "2021-03-20T06:57:56.981093Z"
    },
    "papermill": {
     "duration": 0.277782,
     "end_time": "2021-03-20T06:57:56.981668",
     "exception": false,
     "start_time": "2021-03-20T06:57:56.703886",
     "status": "completed"
    },
    "tags": []
   },
   "outputs": [],
   "source": [
    "train = train[train.index.isin(cons_train_index)].copy().reset_index(drop=True)\n",
    "targets = targets[targets.index.isin(cons_train_index)].copy().reset_index(drop=True)\n",
    "multiclass_targets = targets[\"target_pair_num\"].copy().reset_index(drop=True)"
   ]
  },
  {
   "cell_type": "code",
   "execution_count": 7,
   "metadata": {
    "execution": {
     "iopub.execute_input": "2021-03-20T06:57:57.021443Z",
     "iopub.status.busy": "2021-03-20T06:57:57.020579Z",
     "iopub.status.idle": "2021-03-20T06:57:57.043559Z",
     "shell.execute_reply": "2021-03-20T06:57:57.042983Z"
    },
    "papermill": {
     "duration": 0.04503,
     "end_time": "2021-03-20T06:57:57.043682",
     "exception": false,
     "start_time": "2021-03-20T06:57:56.998652",
     "status": "completed"
    },
    "tags": []
   },
   "outputs": [],
   "source": [
    "tmp = multiclass_targets.value_counts().copy()\n",
    "minor_class = tmp[tmp==1].index\n",
    "minor_class_index = multiclass_targets[multiclass_targets.isin(minor_class)].index"
   ]
  },
  {
   "cell_type": "code",
   "execution_count": 8,
   "metadata": {
    "execution": {
     "iopub.execute_input": "2021-03-20T06:57:57.083881Z",
     "iopub.status.busy": "2021-03-20T06:57:57.083100Z",
     "iopub.status.idle": "2021-03-20T06:57:57.086584Z",
     "shell.execute_reply": "2021-03-20T06:57:57.087068Z"
    },
    "papermill": {
     "duration": 0.025668,
     "end_time": "2021-03-20T06:57:57.087192",
     "exception": false,
     "start_time": "2021-03-20T06:57:57.061524",
     "status": "completed"
    },
    "tags": []
   },
   "outputs": [
    {
     "data": {
      "text/plain": [
       "Int64Index([326, 327, 318, 312, 325, 310], dtype='int64')"
      ]
     },
     "execution_count": 8,
     "metadata": {},
     "output_type": "execute_result"
    }
   ],
   "source": [
    "minor_class"
   ]
  },
  {
   "cell_type": "markdown",
   "metadata": {
    "papermill": {
     "duration": 0.017143,
     "end_time": "2021-03-20T06:57:57.123814",
     "exception": false,
     "start_time": "2021-03-20T06:57:57.106671",
     "status": "completed"
    },
    "tags": []
   },
   "source": [
    "# feature engineering"
   ]
  },
  {
   "cell_type": "code",
   "execution_count": 9,
   "metadata": {
    "execution": {
     "iopub.execute_input": "2021-03-20T06:57:57.163023Z",
     "iopub.status.busy": "2021-03-20T06:57:57.162215Z",
     "iopub.status.idle": "2021-03-20T06:57:57.165059Z",
     "shell.execute_reply": "2021-03-20T06:57:57.164630Z"
    },
    "papermill": {
     "duration": 0.023782,
     "end_time": "2021-03-20T06:57:57.165151",
     "exception": false,
     "start_time": "2021-03-20T06:57:57.141369",
     "status": "completed"
    },
    "tags": []
   },
   "outputs": [],
   "source": [
    "#X = train[g_feats+c_feats].copy().values\n",
    "#select = VarianceThreshold(threshold=0.7)\n",
    "#X_new = select.fit_transform(X)\n",
    "#drop_feats = list(np.array(train[g_feats+c_feats].columns)[select.get_support()==False])\n",
    "#len(drop_feats)\n",
    "\n",
    "#train.drop(drop_feats, axis=1, inplace=True)\n",
    "#test.drop(drop_feats, axis=1, inplace=True)\n",
    "\n",
    "#g_feats = [i for i in train.columns if \"g-\" in i]\n",
    "#c_feats = [i for i in train.columns if \"c-\" in i]"
   ]
  },
  {
   "cell_type": "code",
   "execution_count": 10,
   "metadata": {
    "execution": {
     "iopub.execute_input": "2021-03-20T06:57:57.204111Z",
     "iopub.status.busy": "2021-03-20T06:57:57.203355Z",
     "iopub.status.idle": "2021-03-20T06:57:57.206307Z",
     "shell.execute_reply": "2021-03-20T06:57:57.205880Z"
    },
    "papermill": {
     "duration": 0.02412,
     "end_time": "2021-03-20T06:57:57.206398",
     "exception": false,
     "start_time": "2021-03-20T06:57:57.182278",
     "status": "completed"
    },
    "tags": []
   },
   "outputs": [],
   "source": [
    "#for i in c_feats + g_feats:\n",
    "    #ss = preprocessing.QuantileTransformer(n_quantiles=100, random_state=0, output_distribution=\"normal\")\n",
    "#    ss = preprocessing.RobustScaler()\n",
    "#    ss.fit(train[i].values.reshape(-1,1))\n",
    "#    train[i] = ss.transform(train[i].values.reshape(-1,1))\n",
    "#    test[i] = ss.transform(test[i].values.reshape(-1,1))"
   ]
  },
  {
   "cell_type": "code",
   "execution_count": 11,
   "metadata": {
    "execution": {
     "iopub.execute_input": "2021-03-20T06:57:57.245932Z",
     "iopub.status.busy": "2021-03-20T06:57:57.245176Z",
     "iopub.status.idle": "2021-03-20T06:57:57.248104Z",
     "shell.execute_reply": "2021-03-20T06:57:57.247672Z"
    },
    "papermill": {
     "duration": 0.0243,
     "end_time": "2021-03-20T06:57:57.248199",
     "exception": false,
     "start_time": "2021-03-20T06:57:57.223899",
     "status": "completed"
    },
    "tags": []
   },
   "outputs": [],
   "source": [
    "#c_num = 1\n",
    "#pca_c_cols = [\"pca-c\"+str(i+1) for i in range(c_num)]\n",
    "#pca = PCA(n_components=c_num,random_state=42)\n",
    "#c_train = pca.fit_transform(train[c_feats])\n",
    "#c_test = pca.transform(test[c_feats])\n",
    "#c_train = pd.DataFrame(c_train, columns=pca_c_cols)\n",
    "#c_test = pd.DataFrame(c_test, columns=pca_c_cols)\n",
    "\n",
    "#g_num = 10\n",
    "#pca_g_cols = [\"pca-g\"+str(i+1) for i in range(g_num)]\n",
    "#pca = PCA(n_components=g_num, random_state=42)\n",
    "#g_train = pca.fit_transform(train[g_feats])\n",
    "#g_test = pca.transform(test[g_feats])\n",
    "#g_train = pd.DataFrame(g_train, columns=pca_g_cols)\n",
    "#g_test = pd.DataFrame(g_test, columns=pca_g_cols)\n",
    "\n",
    "#train = pd.concat([train, c_train],axis=1)\n",
    "#test = pd.concat([test, c_test],axis=1)\n",
    "#train = pd.concat([train, g_train],axis=1)\n",
    "#test = pd.concat([test, g_test],axis=1)"
   ]
  },
  {
   "cell_type": "code",
   "execution_count": 12,
   "metadata": {
    "execution": {
     "iopub.execute_input": "2021-03-20T06:57:57.288701Z",
     "iopub.status.busy": "2021-03-20T06:57:57.287923Z",
     "iopub.status.idle": "2021-03-20T06:57:57.290840Z",
     "shell.execute_reply": "2021-03-20T06:57:57.290419Z"
    },
    "papermill": {
     "duration": 0.024944,
     "end_time": "2021-03-20T06:57:57.290949",
     "exception": false,
     "start_time": "2021-03-20T06:57:57.266005",
     "status": "completed"
    },
    "tags": []
   },
   "outputs": [],
   "source": [
    "#uc_num = 1\n",
    "#um = UMAP(n_neighbors=30, n_components=uc_num, random_state=42)\n",
    "#um_c_cols = [\"um-c\"+str(i+1) for i in range(uc_num)]#\n",
    "#uc_train = um.fit_transform(train[c_feats])\n",
    "#uc_test = um.transform(test[c_feats])\n",
    "#uc_train = pd.DataFrame(uc_train, columns=um_c_cols)\n",
    "#uc_test = pd.DataFrame(uc_test, columns=um_c_cols)\n",
    "\n",
    "#ug_num = 10\n",
    "#um = UMAP(n_neighbors=30, n_components=ug_num, random_state=42)\n",
    "#um_g_cols = [\"um-g\"+str(i+1) for i in range(ug_num)]\n",
    "#ug_train = um.fit_transform(train[g_feats])\n",
    "#ug_test = um.transform(test[g_feats])\n",
    "#ug_train = pd.DataFrame(ug_train, columns=um_g_cols)\n",
    "#ug_test = pd.DataFrame(ug_test, columns=um_g_cols)\n",
    "\n",
    "#train = pd.concat([train, uc_train],axis=1)\n",
    "#test = pd.concat([test, uc_test],axis=1)\n",
    "#train = pd.concat([train, ug_train],axis=1)\n",
    "#test = pd.concat([test, ug_test],axis=1)"
   ]
  },
  {
   "cell_type": "code",
   "execution_count": 13,
   "metadata": {
    "execution": {
     "iopub.execute_input": "2021-03-20T06:57:57.330747Z",
     "iopub.status.busy": "2021-03-20T06:57:57.329973Z",
     "iopub.status.idle": "2021-03-20T06:57:57.332816Z",
     "shell.execute_reply": "2021-03-20T06:57:57.332409Z"
    },
    "papermill": {
     "duration": 0.024309,
     "end_time": "2021-03-20T06:57:57.332926",
     "exception": false,
     "start_time": "2021-03-20T06:57:57.308617",
     "status": "completed"
    },
    "tags": []
   },
   "outputs": [],
   "source": [
    "#n_clusters_g = 15\n",
    "#n_clusters_c = 5\n",
    "#def create_cluster(train, test, kind, n_clusters):\n",
    "#    if kind == \"g\":\n",
    "#        train_ = train[pca_g_cols].copy()\n",
    "#        test_ = test[pca_g_cols].copy()\n",
    "#    else:\n",
    "#        train_ = train[pca_c_cols].copy()\n",
    "#        test_ = test[pca_c_cols].copy()    \n",
    "#    kmeans = KMeans(n_clusters = n_clusters, random_state = 0).fit(train_)\n",
    "#    train[f'clusters_{kind}'] = kmeans.labels_\n",
    "#    test[f'clusters_{kind}'] = kmeans.predict(test_)\n",
    "#    train = pd.get_dummies(train, columns = [f'clusters_{kind}'])\n",
    "#    test = pd.get_dummies(test, columns = [f'clusters_{kind}'])\n",
    "#    return train, test\n",
    "    \n",
    "#train, test = create_cluster(train, test, kind = 'g', n_clusters = n_clusters_g)\n",
    "#train, test = create_cluster(train, test, kind = 'c', n_clusters = n_clusters_c)"
   ]
  },
  {
   "cell_type": "code",
   "execution_count": 14,
   "metadata": {
    "execution": {
     "iopub.execute_input": "2021-03-20T06:57:57.376396Z",
     "iopub.status.busy": "2021-03-20T06:57:57.375229Z",
     "iopub.status.idle": "2021-03-20T06:57:57.503717Z",
     "shell.execute_reply": "2021-03-20T06:57:57.504173Z"
    },
    "papermill": {
     "duration": 0.153642,
     "end_time": "2021-03-20T06:57:57.504300",
     "exception": false,
     "start_time": "2021-03-20T06:57:57.350658",
     "status": "completed"
    },
    "tags": []
   },
   "outputs": [
    {
     "name": "stdout",
     "output_type": "stream",
     "text": [
      "(21948, 874) (3982, 874)\n"
     ]
    }
   ],
   "source": [
    "def fe(df):\n",
    "    tmp = df.copy()\n",
    "    tmp.loc[:, 'cp_dose'] = tmp.loc[:, 'cp_dose'].map({'D1': 0, 'D2': 1})      \n",
    "    tmp.drop([\"sig_id\", \"cp_type\"], axis=1, inplace=True)\n",
    "    return tmp\n",
    "\n",
    "train = fe(train)\n",
    "test = fe(test)\n",
    "\n",
    "print(train.shape, test.shape)"
   ]
  },
  {
   "cell_type": "code",
   "execution_count": 15,
   "metadata": {
    "execution": {
     "iopub.execute_input": "2021-03-20T06:57:57.558231Z",
     "iopub.status.busy": "2021-03-20T06:57:57.557172Z",
     "iopub.status.idle": "2021-03-20T06:58:00.002893Z",
     "shell.execute_reply": "2021-03-20T06:58:00.003527Z"
    },
    "papermill": {
     "duration": 2.480877,
     "end_time": "2021-03-20T06:58:00.003713",
     "exception": false,
     "start_time": "2021-03-20T06:57:57.522836",
     "status": "completed"
    },
    "tags": []
   },
   "outputs": [
    {
     "name": "stdout",
     "output_type": "stream",
     "text": [
      "[  599  2348  5784 12816 17718 20062]\n",
      "[ 6269  6613  9380 10755 13810 14313]\n",
      "[ 7176  7455  9098 15661 15970 18894]\n",
      "[  858  9318  9931 18208 19565 20789]\n",
      "[ 7176  7455  9098 15661 15970 18894]\n"
     ]
    }
   ],
   "source": [
    "# data augmentation by cutmix\n",
    "# https://www.kaggle.com/yxohrxn/moa-cutmix\n",
    "\n",
    "def cutmix_for_tabular(x, y=None, alpha=1.0, p=1.0, random_state=None):\n",
    "    x_ = x.copy()\n",
    "    n, d = x.shape\n",
    "\n",
    "    if n is not None and random.random() < p:\n",
    "        random_state = check_random_state(random_state)\n",
    "        l = random_state.beta(alpha, alpha)\n",
    "        mask = random_state.choice([False, True], size=d, p=[l, 1.0 - l])\n",
    "        mask = np.where(mask)[0]\n",
    "        shuffle = random_state.choice(n, n, replace=False)\n",
    "        x_[:,mask] = x_[np.ix_(shuffle,mask)]\n",
    "        \n",
    "        if y is not None:\n",
    "            y = l * y + (1.0 - l) * y[shuffle]\n",
    "        \n",
    "    # extract minor class\n",
    "    tmp_index = np.where(np.isin(np.argmax(y, axis=1), minor_class))[0]\n",
    "    print(tmp_index)\n",
    "        \n",
    "    return x_[tmp_index], np.argmax(y[tmp_index],axis=1)\n",
    "\n",
    "for i in [0,1,2,3,4]:\n",
    "    if i == 0:\n",
    "        train_mod, y_mod = cutmix_for_tabular(train.values, \n",
    "                                      pd.get_dummies(multiclass_targets).values, alpha=1, p=1, random_state=i)\n",
    "    else:\n",
    "        train_tmp, y_tmp = cutmix_for_tabular(train.values, \n",
    "                                      pd.get_dummies(multiclass_targets).values, alpha=1, p=1, random_state=i)\n",
    "        train_mod = np.concatenate([train_mod, train_tmp], axis=0)\n",
    "        y_mod = np.concatenate([y_mod, y_tmp])\n",
    "        \n",
    "train_mod = pd.DataFrame(train_mod, columns = train.columns)\n",
    "train = pd.concat([train, train_mod], axis=0).reset_index(drop=True)\n",
    "\n",
    "y_mod = pd.DataFrame(y_mod)\n",
    "multiclass_targets = pd.concat([multiclass_targets, y_mod]).reset_index(drop=True)"
   ]
  },
  {
   "cell_type": "code",
   "execution_count": 16,
   "metadata": {
    "execution": {
     "iopub.execute_input": "2021-03-20T06:58:00.085038Z",
     "iopub.status.busy": "2021-03-20T06:58:00.084211Z",
     "iopub.status.idle": "2021-03-20T06:58:00.418810Z",
     "shell.execute_reply": "2021-03-20T06:58:00.418243Z"
    },
    "papermill": {
     "duration": 0.38197,
     "end_time": "2021-03-20T06:58:00.418931",
     "exception": false,
     "start_time": "2021-03-20T06:58:00.036961",
     "status": "completed"
    },
    "tags": []
   },
   "outputs": [],
   "source": [
    "fn_train = train.copy().to_numpy()\n",
    "fn_test = test.copy().to_numpy()\n",
    "    \n",
    "fn_targets = targets.drop(\"sig_id\", axis=1).copy().to_numpy()\n",
    "fn_multiclass_targets = multiclass_targets.copy().to_numpy().reshape(-1,)"
   ]
  },
  {
   "cell_type": "code",
   "execution_count": 17,
   "metadata": {
    "execution": {
     "iopub.execute_input": "2021-03-20T06:58:00.464394Z",
     "iopub.status.busy": "2021-03-20T06:58:00.463633Z",
     "iopub.status.idle": "2021-03-20T06:58:00.468456Z",
     "shell.execute_reply": "2021-03-20T06:58:00.468027Z"
    },
    "papermill": {
     "duration": 0.029353,
     "end_time": "2021-03-20T06:58:00.468545",
     "exception": false,
     "start_time": "2021-03-20T06:58:00.439192",
     "status": "completed"
    },
    "tags": []
   },
   "outputs": [
    {
     "data": {
      "text/plain": [
       "((21978, 874), (3982, 874), (21978,))"
      ]
     },
     "execution_count": 17,
     "metadata": {},
     "output_type": "execute_result"
    }
   ],
   "source": [
    "fn_train.shape, fn_test.shape, fn_multiclass_targets.shape"
   ]
  },
  {
   "cell_type": "markdown",
   "metadata": {
    "papermill": {
     "duration": 0.020058,
     "end_time": "2021-03-20T06:58:00.508980",
     "exception": false,
     "start_time": "2021-03-20T06:58:00.488922",
     "status": "completed"
    },
    "tags": []
   },
   "source": [
    "# modelling"
   ]
  },
  {
   "cell_type": "code",
   "execution_count": 18,
   "metadata": {
    "execution": {
     "iopub.execute_input": "2021-03-20T06:58:00.916508Z",
     "iopub.status.busy": "2021-03-20T06:58:00.915636Z",
     "iopub.status.idle": "2021-03-20T07:03:38.240731Z",
     "shell.execute_reply": "2021-03-20T07:03:38.240128Z"
    },
    "papermill": {
     "duration": 337.711227,
     "end_time": "2021-03-20T07:03:38.240865",
     "exception": false,
     "start_time": "2021-03-20T06:58:00.529638",
     "status": "completed"
    },
    "tags": []
   },
   "outputs": [
    {
     "name": "stdout",
     "output_type": "stream",
     "text": [
      "FOLDS :  1\n",
      "Device used : cuda\n",
      "epoch 0  | loss: 4.99896 | val_logloss: 4.01496 |  0:00:01s\n",
      "epoch 10 | loss: 2.99992 | val_logloss: 3.22779 |  0:00:09s\n",
      "epoch 20 | loss: 2.40406 | val_logloss: 3.52419 |  0:00:18s\n",
      "epoch 30 | loss: 1.72286 | val_logloss: 4.59778 |  0:00:26s\n",
      "\n",
      "Early stopping occured at epoch 30 with best_epoch = 10 and best_val_logloss = 3.22779\n",
      "Best weights from best epoch are automatically used!\n",
      "FOLDS :  2\n",
      "Device used : cuda\n",
      "epoch 0  | loss: 4.96411 | val_logloss: 4.00465 |  0:00:00s\n",
      "epoch 10 | loss: 3.04422 | val_logloss: 3.19112 |  0:00:09s\n",
      "epoch 20 | loss: 2.46241 | val_logloss: 3.48068 |  0:00:17s\n",
      "epoch 30 | loss: 1.77428 | val_logloss: 4.46131 |  0:00:25s\n",
      "\n",
      "Early stopping occured at epoch 33 with best_epoch = 13 and best_val_logloss = 3.17633\n",
      "Best weights from best epoch are automatically used!\n",
      "FOLDS :  3\n",
      "Device used : cuda\n",
      "epoch 0  | loss: 4.98278 | val_logloss: 4.00139 |  0:00:00s\n",
      "epoch 10 | loss: 2.99854 | val_logloss: 3.21513 |  0:00:09s\n",
      "epoch 20 | loss: 2.38152 | val_logloss: 3.60563 |  0:00:17s\n",
      "epoch 30 | loss: 1.69603 | val_logloss: 4.66919 |  0:00:26s\n",
      "\n",
      "Early stopping occured at epoch 31 with best_epoch = 11 and best_val_logloss = 3.20492\n",
      "Best weights from best epoch are automatically used!\n",
      "FOLDS :  4\n",
      "Device used : cuda\n",
      "epoch 0  | loss: 4.96942 | val_logloss: 3.94309 |  0:00:00s\n",
      "epoch 10 | loss: 3.00277 | val_logloss: 3.21173 |  0:00:09s\n",
      "epoch 20 | loss: 2.42315 | val_logloss: 3.48667 |  0:00:17s\n",
      "\n",
      "Early stopping occured at epoch 28 with best_epoch = 8 and best_val_logloss = 3.20078\n",
      "Best weights from best epoch are automatically used!\n",
      "FOLDS :  5\n",
      "Device used : cuda\n",
      "epoch 0  | loss: 4.98649 | val_logloss: 3.99889 |  0:00:00s\n",
      "epoch 10 | loss: 3.03935 | val_logloss: 3.18816 |  0:00:09s\n",
      "epoch 20 | loss: 2.45949 | val_logloss: 3.44583 |  0:00:17s\n",
      "epoch 30 | loss: 1.78422 | val_logloss: 4.30969 |  0:00:26s\n",
      "\n",
      "Early stopping occured at epoch 31 with best_epoch = 11 and best_val_logloss = 3.18647\n",
      "Best weights from best epoch are automatically used!\n",
      "FOLDS :  6\n",
      "Device used : cuda\n",
      "epoch 0  | loss: 4.97844 | val_logloss: 3.93509 |  0:00:00s\n",
      "epoch 10 | loss: 3.02892 | val_logloss: 3.17223 |  0:00:08s\n",
      "epoch 20 | loss: 2.43007 | val_logloss: 3.43969 |  0:00:17s\n",
      "epoch 30 | loss: 1.71496 | val_logloss: 4.32409 |  0:00:25s\n",
      "\n",
      "Early stopping occured at epoch 30 with best_epoch = 10 and best_val_logloss = 3.17223\n",
      "Best weights from best epoch are automatically used!\n",
      "FOLDS :  1\n",
      "Device used : cuda\n",
      "epoch 0  | loss: 4.93544 | val_logloss: 3.8825  |  0:00:00s\n",
      "epoch 10 | loss: 3.0154  | val_logloss: 3.20971 |  0:00:09s\n",
      "epoch 20 | loss: 2.38672 | val_logloss: 3.84974 |  0:00:17s\n",
      "epoch 30 | loss: 1.7385  | val_logloss: 4.47604 |  0:00:26s\n",
      "\n",
      "Early stopping occured at epoch 31 with best_epoch = 11 and best_val_logloss = 3.20739\n",
      "Best weights from best epoch are automatically used!\n",
      "FOLDS :  2\n",
      "Device used : cuda\n",
      "epoch 0  | loss: 4.92869 | val_logloss: 3.96594 |  0:00:00s\n",
      "epoch 10 | loss: 2.99034 | val_logloss: 3.1697  |  0:00:09s\n",
      "epoch 20 | loss: 2.42242 | val_logloss: 3.41811 |  0:00:17s\n",
      "epoch 30 | loss: 1.77246 | val_logloss: 4.37404 |  0:00:26s\n",
      "\n",
      "Early stopping occured at epoch 31 with best_epoch = 11 and best_val_logloss = 3.14883\n",
      "Best weights from best epoch are automatically used!\n",
      "FOLDS :  3\n",
      "Device used : cuda\n",
      "epoch 0  | loss: 4.95256 | val_logloss: 3.90483 |  0:00:00s\n",
      "epoch 10 | loss: 3.04372 | val_logloss: 3.20337 |  0:00:09s\n",
      "epoch 20 | loss: 2.44181 | val_logloss: 3.44204 |  0:00:17s\n",
      "epoch 30 | loss: 1.76452 | val_logloss: 4.41136 |  0:00:25s\n",
      "\n",
      "Early stopping occured at epoch 31 with best_epoch = 11 and best_val_logloss = 3.19782\n",
      "Best weights from best epoch are automatically used!\n",
      "FOLDS :  4\n",
      "Device used : cuda\n",
      "epoch 0  | loss: 4.9023  | val_logloss: 3.90244 |  0:00:00s\n",
      "epoch 10 | loss: 2.99921 | val_logloss: 3.20062 |  0:00:09s\n",
      "epoch 20 | loss: 2.4078  | val_logloss: 3.47934 |  0:00:17s\n",
      "epoch 30 | loss: 1.72512 | val_logloss: 4.47646 |  0:00:26s\n",
      "\n",
      "Early stopping occured at epoch 31 with best_epoch = 11 and best_val_logloss = 3.1981\n",
      "Best weights from best epoch are automatically used!\n",
      "FOLDS :  5\n",
      "Device used : cuda\n",
      "epoch 0  | loss: 4.96186 | val_logloss: 4.0439  |  0:00:00s\n",
      "epoch 10 | loss: 3.00645 | val_logloss: 3.19128 |  0:00:09s\n",
      "epoch 20 | loss: 2.4287  | val_logloss: 3.41151 |  0:00:18s\n",
      "epoch 30 | loss: 1.80953 | val_logloss: 4.16384 |  0:00:26s\n",
      "\n",
      "Early stopping occured at epoch 32 with best_epoch = 12 and best_val_logloss = 3.17293\n",
      "Best weights from best epoch are automatically used!\n",
      "FOLDS :  6\n",
      "Device used : cuda\n",
      "epoch 0  | loss: 4.95958 | val_logloss: 3.90304 |  0:00:00s\n",
      "epoch 10 | loss: 3.0085  | val_logloss: 3.1796  |  0:00:09s\n",
      "epoch 20 | loss: 2.3901  | val_logloss: 3.54813 |  0:00:18s\n",
      "epoch 30 | loss: 1.68276 | val_logloss: 4.62682 |  0:00:26s\n",
      "\n",
      "Early stopping occured at epoch 31 with best_epoch = 11 and best_val_logloss = 3.16893\n",
      "Best weights from best epoch are automatically used!\n"
     ]
    }
   ],
   "source": [
    "MAX_EPOCH=200\n",
    "device = \"cuda\" if torch.cuda.is_available() else \"cpu\"\n",
    "\n",
    "def seed_everything(seed_value):\n",
    "    random.seed(seed_value)\n",
    "    np.random.seed(seed_value)\n",
    "    torch.manual_seed(seed_value)\n",
    "    os.environ['PYTHONHASHSEED'] = str(seed_value)\n",
    "    \n",
    "    if torch.cuda.is_available(): \n",
    "        torch.cuda.manual_seed(seed_value)\n",
    "        torch.cuda.manual_seed_all(seed_value)\n",
    "        torch.backends.cudnn.deterministic = True\n",
    "        torch.backends.cudnn.benchmark = False\n",
    "\n",
    "def modelling_tabnet(tr, target, te, sample_seed, target_shape):\n",
    "    seed_everything(sample_seed) \n",
    "    tabnet_params = dict(n_d=32, n_a=32, n_steps=1, gamma=1.3, seed = sample_seed,\n",
    "                     lambda_sparse=0, optimizer_fn=torch.optim.Adam,\n",
    "                     optimizer_params=dict(lr=2e-2, weight_decay=1e-5),\n",
    "                     mask_type='entmax',\n",
    "                     scheduler_params=dict(mode=\"min\",\n",
    "                                           patience=5,\n",
    "                                           min_lr=1e-5,\n",
    "                                           factor=0.9,),\n",
    "                     scheduler_fn=torch.optim.lr_scheduler.ReduceLROnPlateau,\n",
    "                     verbose=10,\n",
    "                     )\n",
    "    test_cv_preds = []\n",
    "\n",
    "    oof_preds = np.zeros([len(tr),target_shape])\n",
    "    scores = []\n",
    "    NB_SPLITS = 6\n",
    "    mskf = StratifiedKFold(n_splits=NB_SPLITS, random_state=0, shuffle=True)\n",
    "    for fold_nb, (train_idx, val_idx) in enumerate(mskf.split(tr, target)):\n",
    "        print(\"FOLDS : \", fold_nb+1)\n",
    "\n",
    "        ## model\n",
    "        X_train, y_train = tr[train_idx, :], target[train_idx]\n",
    "        X_val, y_val = tr[val_idx, :], target[val_idx]\n",
    "        model = TabNetClassifier(**tabnet_params)\n",
    "    \n",
    "        model.fit(X_train=X_train,\n",
    "              y_train=y_train,\n",
    "              eval_set=[(X_val, y_val)],\n",
    "              eval_name = [\"val\"],\n",
    "              eval_metric = ['logloss'],\n",
    "              max_epochs=MAX_EPOCH,\n",
    "              patience=20, batch_size=1024, virtual_batch_size=128,\n",
    "              num_workers=1)\n",
    "    \n",
    "        preds_val = model.predict_proba(X_val)\n",
    "        # Apply sigmoid to the predictions\n",
    "        score = np.min(model.history[\"val_logloss\"])\n",
    "        oof_preds[val_idx,:] = preds_val\n",
    "        scores.append(score)\n",
    "\n",
    "        # preds on test\n",
    "        preds_test = model.predict_proba(te)\n",
    "        test_cv_preds.append(preds_test)\n",
    "        \n",
    "    test_preds_all = np.stack(test_cv_preds)\n",
    "    return oof_preds, test_preds_all\n",
    "\n",
    "target_oof = np.zeros([len(fn_train),class_num])\n",
    "target_pred = np.zeros([len(fn_test),class_num])\n",
    "\n",
    "seeds = [0,1]\n",
    "for seed_ in seeds:\n",
    "    oof_preds, test_preds_all = modelling_tabnet(fn_train, fn_multiclass_targets, fn_test, seed_, class_num)\n",
    "    target_oof += oof_preds / len(seeds)\n",
    "    target_pred += test_preds_all.mean(axis=0) / len(seeds)"
   ]
  },
  {
   "cell_type": "code",
   "execution_count": 19,
   "metadata": {
    "execution": {
     "iopub.execute_input": "2021-03-20T07:03:38.332825Z",
     "iopub.status.busy": "2021-03-20T07:03:38.332275Z",
     "iopub.status.idle": "2021-03-20T07:03:38.410984Z",
     "shell.execute_reply": "2021-03-20T07:03:38.410503Z"
    },
    "papermill": {
     "duration": 0.131051,
     "end_time": "2021-03-20T07:03:38.411092",
     "exception": false,
     "start_time": "2021-03-20T07:03:38.280041",
     "status": "completed"
    },
    "tags": []
   },
   "outputs": [],
   "source": [
    "target_oof = np.dot(target_oof, classid_target)[:21948,:]\n",
    "target_pred = np.dot(target_pred, classid_target)"
   ]
  },
  {
   "cell_type": "code",
   "execution_count": 20,
   "metadata": {
    "execution": {
     "iopub.execute_input": "2021-03-20T07:03:38.504586Z",
     "iopub.status.busy": "2021-03-20T07:03:38.503721Z",
     "iopub.status.idle": "2021-03-20T07:03:46.128867Z",
     "shell.execute_reply": "2021-03-20T07:03:46.128409Z"
    },
    "papermill": {
     "duration": 7.678624,
     "end_time": "2021-03-20T07:03:46.128971",
     "exception": false,
     "start_time": "2021-03-20T07:03:38.450347",
     "status": "completed"
    },
    "tags": []
   },
   "outputs": [
    {
     "name": "stdout",
     "output_type": "stream",
     "text": [
      "OOF log loss:  0.01558332455669168\n",
      "OOF log loss:  0.015868948840538095\n"
     ]
    }
   ],
   "source": [
    "p_min = 0.001\n",
    "p_max = 1 - p_min\n",
    "\n",
    "t = pd.read_csv(DATA_DIR + 'train_targets_scored.csv')\n",
    "train_checkscore = t.copy()\n",
    "train_checkscore.loc[train_checkscore.index.isin(cons_train_index),target_feats] = target_oof\n",
    "train_checkscore.loc[train_checkscore.index.isin(noncons_train_index),target_feats] = 0\n",
    "\n",
    "t.drop(\"sig_id\", axis=1, inplace=True)\n",
    "print('OOF log loss: ', log_loss(np.ravel(t), np.ravel(np.array(train_checkscore.iloc[:,1:]))))\n",
    "print('OOF log loss: ', log_loss(np.ravel(t), np.ravel(np.clip(np.array(train_checkscore.iloc[:,1:]),p_min, p_max))))"
   ]
  },
  {
   "cell_type": "code",
   "execution_count": 21,
   "metadata": {
    "execution": {
     "iopub.execute_input": "2021-03-20T07:03:46.213811Z",
     "iopub.status.busy": "2021-03-20T07:03:46.213262Z",
     "iopub.status.idle": "2021-03-20T07:03:57.884899Z",
     "shell.execute_reply": "2021-03-20T07:03:57.884151Z"
    },
    "papermill": {
     "duration": 11.715775,
     "end_time": "2021-03-20T07:03:57.885035",
     "exception": false,
     "start_time": "2021-03-20T07:03:46.169260",
     "status": "completed"
    },
    "tags": []
   },
   "outputs": [],
   "source": [
    "train_checkscore.to_csv(\"tab_newval_oof.csv\", index=False)"
   ]
  },
  {
   "cell_type": "code",
   "execution_count": 22,
   "metadata": {
    "execution": {
     "iopub.execute_input": "2021-03-20T07:03:57.972382Z",
     "iopub.status.busy": "2021-03-20T07:03:57.971508Z",
     "iopub.status.idle": "2021-03-20T07:03:59.734826Z",
     "shell.execute_reply": "2021-03-20T07:03:59.733744Z"
    },
    "papermill": {
     "duration": 1.808816,
     "end_time": "2021-03-20T07:03:59.734980",
     "exception": false,
     "start_time": "2021-03-20T07:03:57.926164",
     "status": "completed"
    },
    "tags": []
   },
   "outputs": [],
   "source": [
    "sub[target_feats] = np.clip(target_pred,p_min,p_max)\n",
    "sub.loc[noncons_test_index,target_feats] = 0\n",
    "sub.to_csv('submission.csv', index=False)"
   ]
  },
  {
   "cell_type": "code",
   "execution_count": null,
   "metadata": {
    "papermill": {
     "duration": 0.040279,
     "end_time": "2021-03-20T07:03:59.816115",
     "exception": false,
     "start_time": "2021-03-20T07:03:59.775836",
     "status": "completed"
    },
    "tags": []
   },
   "outputs": [],
   "source": []
  }
 ],
 "metadata": {
  "kernelspec": {
   "display_name": "Python 3",
   "language": "python",
   "name": "python3"
  },
  "language_info": {
   "codemirror_mode": {
    "name": "ipython",
    "version": 3
   },
   "file_extension": ".py",
   "mimetype": "text/x-python",
   "name": "python",
   "nbconvert_exporter": "python",
   "pygments_lexer": "ipython3",
   "version": "3.7.6"
  },
  "papermill": {
   "duration": 403.896546,
   "end_time": "2021-03-20T07:04:00.365832",
   "environment_variables": {},
   "exception": null,
   "input_path": "__notebook__.ipynb",
   "output_path": "__notebook__.ipynb",
   "parameters": {},
   "start_time": "2021-03-20T06:57:16.469286",
   "version": "2.1.0"
  }
 },
 "nbformat": 4,
 "nbformat_minor": 4
}
