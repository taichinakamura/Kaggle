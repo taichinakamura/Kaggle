{
 "cells": [
  {
   "cell_type": "markdown",
   "metadata": {
    "papermill": {
     "duration": 0.012468,
     "end_time": "2020-10-08T02:40:13.814300",
     "exception": false,
     "start_time": "2020-10-08T02:40:13.801832",
     "status": "completed"
    },
    "tags": []
   },
   "source": [
    "- cancel diff between ctl group\n",
    "- change model parameters"
   ]
  },
  {
   "cell_type": "code",
   "execution_count": 1,
   "metadata": {
    "_cell_guid": "b1076dfc-b9ad-4769-8c92-a6c4dae69d19",
    "_uuid": "8f2839f25d086af736a60e9eeb907d3b93b6e0e5",
    "execution": {
     "iopub.execute_input": "2020-10-08T02:40:13.845026Z",
     "iopub.status.busy": "2020-10-08T02:40:13.844296Z",
     "iopub.status.idle": "2020-10-08T02:40:16.711783Z",
     "shell.execute_reply": "2020-10-08T02:40:16.711094Z"
    },
    "papermill": {
     "duration": 2.885967,
     "end_time": "2020-10-08T02:40:16.711908",
     "exception": false,
     "start_time": "2020-10-08T02:40:13.825941",
     "status": "completed"
    },
    "tags": []
   },
   "outputs": [],
   "source": [
    "import os\n",
    "import sys\n",
    "import warnings\n",
    "import numpy as np\n",
    "import pandas as pd \n",
    "import lightgbm as lgb\n",
    "from sklearn.decomposition import PCA\n",
    "import matplotlib.pyplot as plt\n",
    "from xgboost import XGBClassifier\n",
    "from sklearn.model_selection import KFold, StratifiedKFold\n",
    "from category_encoders import CountEncoder\n",
    "from sklearn.pipeline import Pipeline\n",
    "from sklearn.metrics import log_loss, mean_squared_error\n",
    "from sklearn import preprocessing\n",
    "from sklearn.multioutput import MultiOutputClassifier\n",
    "sys.path.append('../input/multilabelstraifier/')\n",
    "from ml_stratifiers import MultilabelStratifiedKFold\n",
    "warnings.filterwarnings('ignore')"
   ]
  },
  {
   "cell_type": "code",
   "execution_count": 2,
   "metadata": {
    "execution": {
     "iopub.execute_input": "2020-10-08T02:40:16.740389Z",
     "iopub.status.busy": "2020-10-08T02:40:16.739606Z",
     "iopub.status.idle": "2020-10-08T02:40:16.742080Z",
     "shell.execute_reply": "2020-10-08T02:40:16.742565Z"
    },
    "papermill": {
     "duration": 0.018667,
     "end_time": "2020-10-08T02:40:16.742676",
     "exception": false,
     "start_time": "2020-10-08T02:40:16.724009",
     "status": "completed"
    },
    "tags": []
   },
   "outputs": [],
   "source": [
    "SEED = 42\n",
    "NFOLDS = 5\n",
    "np.random.seed(SEED)\n",
    "DATA_DIR = '/kaggle/input/lish-moa/'"
   ]
  },
  {
   "cell_type": "code",
   "execution_count": 3,
   "metadata": {
    "_cell_guid": "79c7e3d0-c299-4dcb-8224-4455121ee9b0",
    "_uuid": "d629ff2d2480ee46fbb7e2d37f6b5fab8052498a",
    "execution": {
     "iopub.execute_input": "2020-10-08T02:40:16.773480Z",
     "iopub.status.busy": "2020-10-08T02:40:16.772243Z",
     "iopub.status.idle": "2020-10-08T02:40:22.114479Z",
     "shell.execute_reply": "2020-10-08T02:40:22.113598Z"
    },
    "papermill": {
     "duration": 5.360382,
     "end_time": "2020-10-08T02:40:22.114655",
     "exception": false,
     "start_time": "2020-10-08T02:40:16.754273",
     "status": "completed"
    },
    "tags": []
   },
   "outputs": [],
   "source": [
    "train = pd.read_csv(DATA_DIR + 'train_features.csv')\n",
    "targets = pd.read_csv(DATA_DIR + 'train_targets_scored.csv')\n",
    "\n",
    "test = pd.read_csv(DATA_DIR + 'test_features.csv')\n",
    "sub = pd.read_csv(DATA_DIR + 'sample_submission.csv')"
   ]
  },
  {
   "cell_type": "code",
   "execution_count": 4,
   "metadata": {
    "execution": {
     "iopub.execute_input": "2020-10-08T02:40:22.153414Z",
     "iopub.status.busy": "2020-10-08T02:40:22.151565Z",
     "iopub.status.idle": "2020-10-08T02:40:22.154121Z",
     "shell.execute_reply": "2020-10-08T02:40:22.154607Z"
    },
    "papermill": {
     "duration": 0.022867,
     "end_time": "2020-10-08T02:40:22.154738",
     "exception": false,
     "start_time": "2020-10-08T02:40:22.131871",
     "status": "completed"
    },
    "tags": []
   },
   "outputs": [],
   "source": [
    "target_feats = [ i for i in targets.columns if i != \"sig_id\"]\n",
    "g_feats = [i for i in train.columns if \"g-\" in i]\n",
    "c_feats = [i for i in train.columns if \"c-\" in i]"
   ]
  },
  {
   "cell_type": "code",
   "execution_count": 5,
   "metadata": {
    "execution": {
     "iopub.execute_input": "2020-10-08T02:40:22.189047Z",
     "iopub.status.busy": "2020-10-08T02:40:22.188137Z",
     "iopub.status.idle": "2020-10-08T02:40:22.283929Z",
     "shell.execute_reply": "2020-10-08T02:40:22.282491Z"
    },
    "papermill": {
     "duration": 0.117237,
     "end_time": "2020-10-08T02:40:22.284056",
     "exception": false,
     "start_time": "2020-10-08T02:40:22.166819",
     "status": "completed"
    },
    "tags": []
   },
   "outputs": [],
   "source": [
    "noncons_train_index = train[train.cp_type==\"ctl_vehicle\"].index\n",
    "cons_train_index = train[train.cp_type!=\"ctl_vehicle\"].index\n",
    "noncons_test_index = test[test.cp_type==\"ctl_vehicle\"].index\n",
    "cons_test_index = test[test.cp_type!=\"ctl_vehicle\"].index"
   ]
  },
  {
   "cell_type": "markdown",
   "metadata": {
    "papermill": {
     "duration": 0.012008,
     "end_time": "2020-10-08T02:40:22.310018",
     "exception": false,
     "start_time": "2020-10-08T02:40:22.298010",
     "status": "completed"
    },
    "tags": []
   },
   "source": [
    "# Preprocess"
   ]
  },
  {
   "cell_type": "code",
   "execution_count": 6,
   "metadata": {
    "execution": {
     "iopub.execute_input": "2020-10-08T02:40:22.339160Z",
     "iopub.status.busy": "2020-10-08T02:40:22.338197Z",
     "iopub.status.idle": "2020-10-08T02:40:22.340788Z",
     "shell.execute_reply": "2020-10-08T02:40:22.340183Z"
    },
    "papermill": {
     "duration": 0.01865,
     "end_time": "2020-10-08T02:40:22.340880",
     "exception": false,
     "start_time": "2020-10-08T02:40:22.322230",
     "status": "completed"
    },
    "tags": []
   },
   "outputs": [],
   "source": [
    "# normalization by ctl group\n",
    "#train_ctl = train[train.index.isin(noncons_train_index)].copy().reset_index(drop=True)\n",
    "#test_ctl = test[test.index.isin(noncons_test_index)].copy().reset_index(drop=True)\n",
    "#ctl_df = pd.concat([train_ctl, test_ctl])\n",
    "\n",
    "#ctl_group_data = ctl_df.groupby([\"cp_dose\", \"cp_time\"]).agg({\"mean\"}).reset_index()\n",
    "#mean_g_feats = [\"mean-\" + i for i in g_feats]\n",
    "#mean_c_feats = [\"mean-\" + i for i in c_feats]\n",
    "#columns = [\"cp_dose\", \"cp_time\"] + mean_g_feats + mean_c_feats\n",
    "#ctl_group_data.columns = columns\n",
    "\n",
    "#train_cons = train_feat[train_feat.index.isin(cons_train_index)].copy().reset_index(drop=True)\n",
    "#test_cons = test_feat[test_feat.index.isin(cons_test_index)].copy().reset_index(drop=True)\n",
    "#n_train_score = train_score[train_score.index.isin(cons_train_index)].copy().reset_index(drop=True)\n",
    "#n_train_nonscore = train_nonscore[train_nonscore.index.isin(cons_train_index)].copy().reset_index(drop=True)"
   ]
  },
  {
   "cell_type": "code",
   "execution_count": 7,
   "metadata": {
    "execution": {
     "iopub.execute_input": "2020-10-08T02:40:22.369178Z",
     "iopub.status.busy": "2020-10-08T02:40:22.368521Z",
     "iopub.status.idle": "2020-10-08T02:40:22.372123Z",
     "shell.execute_reply": "2020-10-08T02:40:22.371578Z"
    },
    "papermill": {
     "duration": 0.019209,
     "end_time": "2020-10-08T02:40:22.372218",
     "exception": false,
     "start_time": "2020-10-08T02:40:22.353009",
     "status": "completed"
    },
    "tags": []
   },
   "outputs": [],
   "source": [
    "#train = pd.merge(train, ctl_group_data, on=[\"cp_time\", \"cp_dose\"], how=\"left\")\n",
    "#test = pd.merge(test, ctl_group_data, on=[\"cp_time\", \"cp_dose\"], how=\"left\")\n",
    "\n",
    "#for i in range(len(g_feats)):\n",
    "#    train[\"diff-g-\"+str(i)] = train[\"g-\"+str(i)] - train[\"mean-g-\"+str(i)]\n",
    "#    test[\"diff-g-\"+str(i)] = test[\"g-\"+str(i)] - test[\"mean-g-\"+str(i)]\n",
    "    \n",
    "#for i in range(len(c_feats)):\n",
    "#    train[\"diff-c-\"+str(i)] = train[\"c-\"+str(i)] - train[\"mean-c-\"+str(i)]\n",
    "#    test[\"diff-c-\"+str(i)] = test[\"c-\"+str(i)] - test[\"mean-c-\"+str(i)]"
   ]
  },
  {
   "cell_type": "code",
   "execution_count": 8,
   "metadata": {
    "execution": {
     "iopub.execute_input": "2020-10-08T02:40:22.411286Z",
     "iopub.status.busy": "2020-10-08T02:40:22.410502Z",
     "iopub.status.idle": "2020-10-08T02:40:22.428475Z",
     "shell.execute_reply": "2020-10-08T02:40:22.427986Z"
    },
    "papermill": {
     "duration": 0.044009,
     "end_time": "2020-10-08T02:40:22.428573",
     "exception": false,
     "start_time": "2020-10-08T02:40:22.384564",
     "status": "completed"
    },
    "tags": []
   },
   "outputs": [],
   "source": [
    "categoricals = [\"cp_dose\"]\n",
    "\n",
    "def encoding(tr, te):\n",
    "    for f in categoricals:\n",
    "        lbl = preprocessing.LabelEncoder()\n",
    "        lbl.fit(list(tr[f]))\n",
    "        tr[f] = lbl.transform(list(tr[f]))\n",
    "        te[f] = lbl.transform(list(te[f])) \n",
    "        \n",
    "    return tr, te\n",
    "\n",
    "train, test = encoding(train, test)"
   ]
  },
  {
   "cell_type": "markdown",
   "metadata": {
    "papermill": {
     "duration": 0.012447,
     "end_time": "2020-10-08T02:40:22.453628",
     "exception": false,
     "start_time": "2020-10-08T02:40:22.441181",
     "status": "completed"
    },
    "tags": []
   },
   "source": [
    "# Feature engineering"
   ]
  },
  {
   "cell_type": "code",
   "execution_count": 9,
   "metadata": {
    "execution": {
     "iopub.execute_input": "2020-10-08T02:40:22.488300Z",
     "iopub.status.busy": "2020-10-08T02:40:22.487653Z",
     "iopub.status.idle": "2020-10-08T02:40:22.553530Z",
     "shell.execute_reply": "2020-10-08T02:40:22.554041Z"
    },
    "papermill": {
     "duration": 0.087253,
     "end_time": "2020-10-08T02:40:22.554177",
     "exception": false,
     "start_time": "2020-10-08T02:40:22.466924",
     "status": "completed"
    },
    "tags": []
   },
   "outputs": [
    {
     "name": "stdout",
     "output_type": "stream",
     "text": [
      "(23814, 874) (3982, 874)\n"
     ]
    }
   ],
   "source": [
    "def fe(df, remove_features):\n",
    "    df.drop(remove_features, axis=1, inplace=True)\n",
    "    return df\n",
    "\n",
    "remove_features = [\"cp_type\" , \"sig_id\"]\n",
    "        \n",
    "train = fe(train, remove_features)\n",
    "test = fe(test, remove_features)\n",
    "    \n",
    "print(train.shape, test.shape)"
   ]
  },
  {
   "cell_type": "markdown",
   "metadata": {
    "papermill": {
     "duration": 0.013004,
     "end_time": "2020-10-08T02:40:22.580647",
     "exception": false,
     "start_time": "2020-10-08T02:40:22.567643",
     "status": "completed"
    },
    "tags": []
   },
   "source": [
    "# modelling"
   ]
  },
  {
   "cell_type": "code",
   "execution_count": 10,
   "metadata": {
    "execution": {
     "iopub.execute_input": "2020-10-08T02:40:22.615599Z",
     "iopub.status.busy": "2020-10-08T02:40:22.614887Z",
     "iopub.status.idle": "2020-10-08T02:40:22.646002Z",
     "shell.execute_reply": "2020-10-08T02:40:22.646473Z"
    },
    "papermill": {
     "duration": 0.052968,
     "end_time": "2020-10-08T02:40:22.646579",
     "exception": false,
     "start_time": "2020-10-08T02:40:22.593611",
     "status": "completed"
    },
    "tags": []
   },
   "outputs": [
    {
     "data": {
      "text/plain": [
       "Pipeline(steps=[('classify',\n",
       "                 MultiOutputClassifier(estimator=XGBClassifier(base_score=None,\n",
       "                                                               booster=None,\n",
       "                                                               colsample_bylevel=None,\n",
       "                                                               colsample_bynode=None,\n",
       "                                                               colsample_bytree=None,\n",
       "                                                               gamma=3.6975,\n",
       "                                                               gpu_id=None,\n",
       "                                                               importance_type='gain',\n",
       "                                                               interaction_constraints=None,\n",
       "                                                               learning_rate=0.0703,\n",
       "                                                               max_delta_step=2.0706,\n",
       "                                                               max_depth=10,\n",
       "                                                               min_child_weight=31.58,\n",
       "                                                               missing=nan,\n",
       "                                                               monotone_constraints=None,\n",
       "                                                               n_estimators=166,\n",
       "                                                               n_jobs=None,\n",
       "                                                               num_parallel_tree=None,\n",
       "                                                               random_state=None,\n",
       "                                                               reg_alpha=None,\n",
       "                                                               reg_lambda=None,\n",
       "                                                               scale_pos_weight=None,\n",
       "                                                               subsample=None,\n",
       "                                                               tree_method='gpu_hist',\n",
       "                                                               validate_parameters=None,\n",
       "                                                               verbosity=None)))])"
      ]
     },
     "execution_count": 10,
     "metadata": {},
     "output_type": "execute_result"
    }
   ],
   "source": [
    "classifier = MultiOutputClassifier(XGBClassifier(tree_method='gpu_hist'))\n",
    "\n",
    "clf = Pipeline([('classify', classifier)\n",
    "               ])\n",
    "\n",
    "params = {'classify__estimator__gamma': 3.6975,\n",
    "          'classify__estimator__learning_rate': 0.0703,\n",
    "          'classify__estimator__max_delta_step': 2.0706,\n",
    "          'classify__estimator__max_depth': 10,\n",
    "          'classify__estimator__min_child_weight': 31.5800,\n",
    "          'classify__estimator__n_estimators': 166,\n",
    "         }\n",
    "\n",
    "clf.set_params(**params)"
   ]
  },
  {
   "cell_type": "code",
   "execution_count": 11,
   "metadata": {
    "execution": {
     "iopub.execute_input": "2020-10-08T02:40:22.690211Z",
     "iopub.status.busy": "2020-10-08T02:40:22.688394Z",
     "iopub.status.idle": "2020-10-08T02:40:22.690929Z",
     "shell.execute_reply": "2020-10-08T02:40:22.691416Z"
    },
    "papermill": {
     "duration": 0.031035,
     "end_time": "2020-10-08T02:40:22.691531",
     "exception": false,
     "start_time": "2020-10-08T02:40:22.660496",
     "status": "completed"
    },
    "tags": []
   },
   "outputs": [],
   "source": [
    "def modelling_xgb(X, y, X_test, seed):\n",
    "    oof_preds = np.zeros(y.shape)\n",
    "    test_preds = np.zeros((X_test.shape[0], y.shape[1]))\n",
    "    oof_losses = []\n",
    "    mskf = MultilabelStratifiedKFold(n_splits=NFOLDS, random_state=seed, shuffle=True)\n",
    "    for fn, (trn_idx, val_idx) in enumerate(mskf.split(X, y)):\n",
    "        print('Starting fold: ', fn)\n",
    "        X_train, X_val = X.iloc[trn_idx,:], X.iloc[val_idx,:].to_numpy()\n",
    "        y_train, y_val = y.iloc[trn_idx], y.iloc[val_idx].to_numpy()\n",
    "    \n",
    "        X_train = X_train[X_train.index.isin(cons_train_index)].to_numpy()\n",
    "        y_train = y_train[y_train.index.isin(cons_train_index)].to_numpy()\n",
    "    \n",
    "        clf.fit(X_train, y_train)\n",
    "        val_preds = clf.predict_proba(X_val) # list of preds per class\n",
    "        val_preds = np.array(val_preds)[:,:,1].T # take the positive class\n",
    "        oof_preds[val_idx] = val_preds\n",
    "    \n",
    "        loss = log_loss(np.ravel(y_val), np.ravel(val_preds))\n",
    "        print(loss)\n",
    "        oof_losses.append(loss)\n",
    "        preds = clf.predict_proba(X_test)\n",
    "        preds = np.array(preds)[:,:,1].T # take the positive class\n",
    "        test_preds += preds / NFOLDS\n",
    "    \n",
    "    print(oof_losses)\n",
    "    print('Mean OOF loss across folds', np.mean(oof_losses))\n",
    "    print('STD OOF loss across folds', np.std(oof_losses))\n",
    "    return oof_preds, test_preds"
   ]
  },
  {
   "cell_type": "code",
   "execution_count": 12,
   "metadata": {
    "execution": {
     "iopub.execute_input": "2020-10-08T02:40:22.727405Z",
     "iopub.status.busy": "2020-10-08T02:40:22.726096Z",
     "iopub.status.idle": "2020-10-08T03:03:04.244320Z",
     "shell.execute_reply": "2020-10-08T03:03:04.245175Z"
    },
    "papermill": {
     "duration": 1361.540102,
     "end_time": "2020-10-08T03:03:04.245378",
     "exception": false,
     "start_time": "2020-10-08T02:40:22.705276",
     "status": "completed"
    },
    "tags": []
   },
   "outputs": [
    {
     "name": "stdout",
     "output_type": "stream",
     "text": [
      "Starting fold:  0\n",
      "0.016738832513000318\n",
      "Starting fold:  1\n",
      "0.016908957230028557\n",
      "Starting fold:  2\n",
      "0.016773734659711288\n",
      "Starting fold:  3\n",
      "0.016497753560878757\n",
      "Starting fold:  4\n",
      "0.01667905765085504\n",
      "[0.016738832513000318, 0.016908957230028557, 0.016773734659711288, 0.016497753560878757, 0.01667905765085504]\n",
      "Mean OOF loss across folds 0.01671966712289479\n",
      "STD OOF loss across folds 0.00013417608848077545\n"
     ]
    }
   ],
   "source": [
    "X = train.copy()\n",
    "y = targets.drop(\"sig_id\", axis=1).copy()\n",
    "X_test = test.copy()\n",
    "\n",
    "seeds = [42]\n",
    "oof_preds = np.zeros(y.shape)\n",
    "test_preds = np.zeros((test.shape[0], y.shape[1]))\n",
    "for seed_ in seeds:\n",
    "    ind_preds, ind_test_preds = modelling_xgb(X, y, X_test, seed_)\n",
    "    oof_preds += ind_preds / len(seeds)\n",
    "    test_preds += ind_test_preds / len(seeds)"
   ]
  },
  {
   "cell_type": "code",
   "execution_count": 13,
   "metadata": {
    "execution": {
     "iopub.execute_input": "2020-10-08T03:03:04.302735Z",
     "iopub.status.busy": "2020-10-08T03:03:04.295961Z",
     "iopub.status.idle": "2020-10-08T03:03:08.326764Z",
     "shell.execute_reply": "2020-10-08T03:03:08.325869Z"
    },
    "papermill": {
     "duration": 4.060055,
     "end_time": "2020-10-08T03:03:08.326886",
     "exception": false,
     "start_time": "2020-10-08T03:03:04.266831",
     "status": "completed"
    },
    "tags": []
   },
   "outputs": [
    {
     "name": "stdout",
     "output_type": "stream",
     "text": [
      "OOF log loss:  0.016449612618380825\n"
     ]
    }
   ],
   "source": [
    "train_checkscore = targets.copy()\n",
    "train_checkscore.iloc[:,1:] = oof_preds\n",
    "train_checkscore.loc[train_checkscore.index.isin(noncons_train_index),target_feats] = 0\n",
    "print('OOF log loss: ', log_loss(np.ravel(y), np.ravel(np.array(train_checkscore.iloc[:,1:]))))"
   ]
  },
  {
   "cell_type": "code",
   "execution_count": 14,
   "metadata": {
    "execution": {
     "iopub.execute_input": "2020-10-08T03:03:08.369677Z",
     "iopub.status.busy": "2020-10-08T03:03:08.368872Z",
     "iopub.status.idle": "2020-10-08T03:03:10.665858Z",
     "shell.execute_reply": "2020-10-08T03:03:10.664921Z"
    },
    "papermill": {
     "duration": 2.32067,
     "end_time": "2020-10-08T03:03:10.665980",
     "exception": false,
     "start_time": "2020-10-08T03:03:08.345310",
     "status": "completed"
    },
    "tags": []
   },
   "outputs": [],
   "source": [
    "sub.iloc[:,1:] = test_preds\n",
    "sub.loc[sub.index.isin(noncons_test_index),target_feats] = 0\n",
    "sub.to_csv('submission.csv', index=False)"
   ]
  }
 ],
 "metadata": {
  "kernelspec": {
   "display_name": "Python 3",
   "language": "python",
   "name": "python3"
  },
  "language_info": {
   "codemirror_mode": {
    "name": "ipython",
    "version": 3
   },
   "file_extension": ".py",
   "mimetype": "text/x-python",
   "name": "python",
   "nbconvert_exporter": "python",
   "pygments_lexer": "ipython3",
   "version": "3.7.6"
  },
  "papermill": {
   "duration": 1382.230784,
   "end_time": "2020-10-08T03:03:11.916172",
   "environment_variables": {},
   "exception": null,
   "input_path": "__notebook__.ipynb",
   "output_path": "__notebook__.ipynb",
   "parameters": {},
   "start_time": "2020-10-08T02:40:09.685388",
   "version": "2.1.0"
  }
 },
 "nbformat": 4,
 "nbformat_minor": 4
}
