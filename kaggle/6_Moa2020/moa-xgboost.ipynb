{
 "cells": [
  {
   "cell_type": "markdown",
   "metadata": {
    "papermill": {
     "duration": 0.013322,
     "end_time": "2020-10-31T03:29:38.485608",
     "exception": false,
     "start_time": "2020-10-31T03:29:38.472286",
     "status": "completed"
    },
    "tags": []
   },
   "source": [
    "- reduce n_estimator (change other parameters)"
   ]
  },
  {
   "cell_type": "code",
   "execution_count": 1,
   "metadata": {
    "_cell_guid": "b1076dfc-b9ad-4769-8c92-a6c4dae69d19",
    "_uuid": "8f2839f25d086af736a60e9eeb907d3b93b6e0e5",
    "execution": {
     "iopub.execute_input": "2020-10-31T03:29:38.520131Z",
     "iopub.status.busy": "2020-10-31T03:29:38.519305Z",
     "iopub.status.idle": "2020-10-31T03:29:42.139546Z",
     "shell.execute_reply": "2020-10-31T03:29:42.138659Z"
    },
    "papermill": {
     "duration": 3.641151,
     "end_time": "2020-10-31T03:29:42.139713",
     "exception": false,
     "start_time": "2020-10-31T03:29:38.498562",
     "status": "completed"
    },
    "tags": []
   },
   "outputs": [],
   "source": [
    "import os\n",
    "import sys\n",
    "import warnings\n",
    "import numpy as np\n",
    "import pandas as pd \n",
    "import lightgbm as lgb\n",
    "from sklearn.decomposition import PCA\n",
    "import matplotlib.pyplot as plt\n",
    "from xgboost import XGBClassifier\n",
    "from sklearn.model_selection import KFold, StratifiedKFold\n",
    "from category_encoders import CountEncoder\n",
    "from sklearn.pipeline import Pipeline\n",
    "from sklearn.metrics import log_loss, mean_squared_error\n",
    "from sklearn import preprocessing\n",
    "from sklearn.multioutput import MultiOutputClassifier\n",
    "sys.path.append('../input/multilabelstraifier/')\n",
    "from ml_stratifiers import MultilabelStratifiedKFold\n",
    "warnings.filterwarnings('ignore')\n",
    "from sklearn.feature_selection import VarianceThreshold"
   ]
  },
  {
   "cell_type": "code",
   "execution_count": 2,
   "metadata": {
    "execution": {
     "iopub.execute_input": "2020-10-31T03:29:42.186123Z",
     "iopub.status.busy": "2020-10-31T03:29:42.185147Z",
     "iopub.status.idle": "2020-10-31T03:29:42.187588Z",
     "shell.execute_reply": "2020-10-31T03:29:42.188409Z"
    },
    "papermill": {
     "duration": 0.029264,
     "end_time": "2020-10-31T03:29:42.188562",
     "exception": false,
     "start_time": "2020-10-31T03:29:42.159298",
     "status": "completed"
    },
    "tags": []
   },
   "outputs": [],
   "source": [
    "SEED = 42\n",
    "NFOLDS = 5\n",
    "np.random.seed(SEED)\n",
    "DATA_DIR = '/kaggle/input/lish-moa/'"
   ]
  },
  {
   "cell_type": "code",
   "execution_count": 3,
   "metadata": {
    "_cell_guid": "79c7e3d0-c299-4dcb-8224-4455121ee9b0",
    "_uuid": "d629ff2d2480ee46fbb7e2d37f6b5fab8052498a",
    "execution": {
     "iopub.execute_input": "2020-10-31T03:29:42.238810Z",
     "iopub.status.busy": "2020-10-31T03:29:42.234843Z",
     "iopub.status.idle": "2020-10-31T03:29:48.526927Z",
     "shell.execute_reply": "2020-10-31T03:29:48.525739Z"
    },
    "papermill": {
     "duration": 6.319895,
     "end_time": "2020-10-31T03:29:48.527074",
     "exception": false,
     "start_time": "2020-10-31T03:29:42.207179",
     "status": "completed"
    },
    "tags": []
   },
   "outputs": [],
   "source": [
    "train = pd.read_csv(DATA_DIR + 'train_features.csv')\n",
    "targets = pd.read_csv(DATA_DIR + 'train_targets_scored.csv')\n",
    "\n",
    "test = pd.read_csv(DATA_DIR + 'test_features.csv')\n",
    "sub = pd.read_csv(DATA_DIR + 'sample_submission.csv')"
   ]
  },
  {
   "cell_type": "code",
   "execution_count": 4,
   "metadata": {
    "execution": {
     "iopub.execute_input": "2020-10-31T03:29:48.559935Z",
     "iopub.status.busy": "2020-10-31T03:29:48.558156Z",
     "iopub.status.idle": "2020-10-31T03:29:48.560576Z",
     "shell.execute_reply": "2020-10-31T03:29:48.561046Z"
    },
    "papermill": {
     "duration": 0.021528,
     "end_time": "2020-10-31T03:29:48.561158",
     "exception": false,
     "start_time": "2020-10-31T03:29:48.539630",
     "status": "completed"
    },
    "tags": []
   },
   "outputs": [],
   "source": [
    "target_feats = [ i for i in targets.columns if i != \"sig_id\"]\n",
    "g_feats = [i for i in train.columns if \"g-\" in i]\n",
    "c_feats = [i for i in train.columns if \"c-\" in i]"
   ]
  },
  {
   "cell_type": "code",
   "execution_count": 5,
   "metadata": {
    "execution": {
     "iopub.execute_input": "2020-10-31T03:29:48.596695Z",
     "iopub.status.busy": "2020-10-31T03:29:48.595940Z",
     "iopub.status.idle": "2020-10-31T03:29:48.696669Z",
     "shell.execute_reply": "2020-10-31T03:29:48.696125Z"
    },
    "papermill": {
     "duration": 0.122669,
     "end_time": "2020-10-31T03:29:48.696796",
     "exception": false,
     "start_time": "2020-10-31T03:29:48.574127",
     "status": "completed"
    },
    "tags": []
   },
   "outputs": [],
   "source": [
    "noncons_train_index = train[train.cp_type==\"ctl_vehicle\"].index\n",
    "cons_train_index = train[train.cp_type!=\"ctl_vehicle\"].index\n",
    "noncons_test_index = test[test.cp_type==\"ctl_vehicle\"].index\n",
    "cons_test_index = test[test.cp_type!=\"ctl_vehicle\"].index"
   ]
  },
  {
   "cell_type": "markdown",
   "metadata": {
    "papermill": {
     "duration": 0.01248,
     "end_time": "2020-10-31T03:29:48.723893",
     "exception": false,
     "start_time": "2020-10-31T03:29:48.711413",
     "status": "completed"
    },
    "tags": []
   },
   "source": [
    "# Preprocess"
   ]
  },
  {
   "cell_type": "code",
   "execution_count": 6,
   "metadata": {
    "execution": {
     "iopub.execute_input": "2020-10-31T03:29:48.759942Z",
     "iopub.status.busy": "2020-10-31T03:29:48.758892Z",
     "iopub.status.idle": "2020-10-31T03:29:48.969098Z",
     "shell.execute_reply": "2020-10-31T03:29:48.968503Z"
    },
    "papermill": {
     "duration": 0.232497,
     "end_time": "2020-10-31T03:29:48.969219",
     "exception": false,
     "start_time": "2020-10-31T03:29:48.736722",
     "status": "completed"
    },
    "tags": []
   },
   "outputs": [],
   "source": [
    "test = test[test.index.isin(cons_test_index)].reset_index(drop=True)\n",
    "train = train[train.index.isin(cons_train_index)].reset_index(drop=True)\n",
    "fn_targets = targets[targets.index.isin(cons_train_index)].copy().reset_index(drop=True)\n",
    "y = targets.drop(\"sig_id\", axis=1).copy()"
   ]
  },
  {
   "cell_type": "markdown",
   "metadata": {
    "papermill": {
     "duration": 0.013,
     "end_time": "2020-10-31T03:29:48.995708",
     "exception": false,
     "start_time": "2020-10-31T03:29:48.982708",
     "status": "completed"
    },
    "tags": []
   },
   "source": [
    "# Feature engineering"
   ]
  },
  {
   "cell_type": "code",
   "execution_count": 7,
   "metadata": {
    "execution": {
     "iopub.execute_input": "2020-10-31T03:29:49.041001Z",
     "iopub.status.busy": "2020-10-31T03:29:49.039772Z",
     "iopub.status.idle": "2020-10-31T03:29:54.178944Z",
     "shell.execute_reply": "2020-10-31T03:29:54.179571Z"
    },
    "papermill": {
     "duration": 5.171251,
     "end_time": "2020-10-31T03:29:54.179768",
     "exception": false,
     "start_time": "2020-10-31T03:29:49.008517",
     "status": "completed"
    },
    "tags": []
   },
   "outputs": [
    {
     "name": "stdout",
     "output_type": "stream",
     "text": [
      "(21948, 889) (3624, 889)\n"
     ]
    }
   ],
   "source": [
    "def fe(df, remove_features):\n",
    "    df['g_sum'] = df[g_feats].sum(axis = 1)\n",
    "    df['g_mean'] = df[g_feats].mean(axis = 1)\n",
    "    df['g_std'] = df[g_feats].std(axis = 1)\n",
    "    df['g_kurt'] = df[g_feats].kurtosis(axis = 1)\n",
    "    df['g_skew'] = df[g_feats].skew(axis = 1)\n",
    "    df['c_sum'] = df[c_feats].sum(axis = 1)\n",
    "    df['c_mean'] = df[c_feats].mean(axis = 1)\n",
    "    df['c_std'] = df[c_feats].std(axis = 1)\n",
    "    df['c_kurt'] = df[c_feats].kurtosis(axis = 1)\n",
    "    df['c_skew'] = df[c_feats].skew(axis = 1)\n",
    "    df['gc_sum'] = df[c_feats + g_feats].sum(axis = 1)\n",
    "    df['gc_mean'] = df[c_feats + g_feats].mean(axis = 1)\n",
    "    df['gc_std'] = df[c_feats + g_feats].std(axis = 1)\n",
    "    df['gc_kurt'] = df[c_feats + g_feats].kurtosis(axis = 1)\n",
    "    df['gc_skew'] = df[c_feats + g_feats].skew(axis = 1)\n",
    "    df.drop(remove_features, axis=1, inplace=True)\n",
    "    df.loc[:, 'cp_dose'] = df.loc[:, 'cp_dose'].map({'D1': 0, 'D2': 1})\n",
    "    return df\n",
    "\n",
    "remove_features = [\"cp_type\" , \"sig_id\"]\n",
    "        \n",
    "train = fe(train, remove_features)\n",
    "test = fe(test, remove_features)\n",
    "    \n",
    "print(train.shape, test.shape)"
   ]
  },
  {
   "cell_type": "markdown",
   "metadata": {
    "papermill": {
     "duration": 0.014922,
     "end_time": "2020-10-31T03:29:54.211544",
     "exception": false,
     "start_time": "2020-10-31T03:29:54.196622",
     "status": "completed"
    },
    "tags": []
   },
   "source": [
    "# modelling"
   ]
  },
  {
   "cell_type": "code",
   "execution_count": 8,
   "metadata": {
    "execution": {
     "iopub.execute_input": "2020-10-31T03:29:54.251962Z",
     "iopub.status.busy": "2020-10-31T03:29:54.251077Z",
     "iopub.status.idle": "2020-10-31T03:29:54.284479Z",
     "shell.execute_reply": "2020-10-31T03:29:54.285034Z"
    },
    "papermill": {
     "duration": 0.057765,
     "end_time": "2020-10-31T03:29:54.285159",
     "exception": false,
     "start_time": "2020-10-31T03:29:54.227394",
     "status": "completed"
    },
    "tags": []
   },
   "outputs": [
    {
     "data": {
      "text/plain": [
       "Pipeline(steps=[('classify',\n",
       "                 MultiOutputClassifier(estimator=XGBClassifier(base_score=None,\n",
       "                                                               booster=None,\n",
       "                                                               colsample_bylevel=None,\n",
       "                                                               colsample_bynode=None,\n",
       "                                                               colsample_bytree=None,\n",
       "                                                               gamma=3.6975,\n",
       "                                                               gpu_id=None,\n",
       "                                                               importance_type='gain',\n",
       "                                                               interaction_constraints=None,\n",
       "                                                               learning_rate=0.0803,\n",
       "                                                               max_delta_step=2.0706,\n",
       "                                                               max_depth=10,\n",
       "                                                               min_child_weight=25.58,\n",
       "                                                               missing=nan,\n",
       "                                                               monotone_constraints=None,\n",
       "                                                               n_estimators=100,\n",
       "                                                               n_jobs=None,\n",
       "                                                               num_parallel_tree=None,\n",
       "                                                               random_state=None,\n",
       "                                                               reg_alpha=None,\n",
       "                                                               reg_lambda=None,\n",
       "                                                               scale_pos_weight=None,\n",
       "                                                               subsample=None,\n",
       "                                                               tree_method='gpu_hist',\n",
       "                                                               validate_parameters=None,\n",
       "                                                               verbosity=None)))])"
      ]
     },
     "execution_count": 8,
     "metadata": {},
     "output_type": "execute_result"
    }
   ],
   "source": [
    "classifier = MultiOutputClassifier(XGBClassifier(tree_method='gpu_hist')) \n",
    "\n",
    "clf = Pipeline([('classify', classifier)\n",
    "               ])\n",
    "\n",
    "params = {'classify__estimator__gamma': 3.6975,\n",
    "          'classify__estimator__learning_rate': 0.0803,\n",
    "          'classify__estimator__max_delta_step': 2.0706,\n",
    "          'classify__estimator__max_depth': 10,\n",
    "          'classify__estimator__min_child_weight': 25.5800,\n",
    "          'classify__estimator__n_estimators': 100,\n",
    "         }\n",
    "\n",
    "clf.set_params(**params)"
   ]
  },
  {
   "cell_type": "code",
   "execution_count": 9,
   "metadata": {
    "execution": {
     "iopub.execute_input": "2020-10-31T03:29:54.327503Z",
     "iopub.status.busy": "2020-10-31T03:29:54.326885Z",
     "iopub.status.idle": "2020-10-31T03:29:54.330160Z",
     "shell.execute_reply": "2020-10-31T03:29:54.329677Z"
    },
    "papermill": {
     "duration": 0.030881,
     "end_time": "2020-10-31T03:29:54.330256",
     "exception": false,
     "start_time": "2020-10-31T03:29:54.299375",
     "status": "completed"
    },
    "tags": []
   },
   "outputs": [],
   "source": [
    "def modelling_xgb(X, y, X_test, seed):\n",
    "    oof_preds = np.zeros(y.shape)\n",
    "    test_preds = np.zeros((X_test.shape[0], y.shape[1]))\n",
    "    oof_losses = []\n",
    "    mskf = MultilabelStratifiedKFold(n_splits=NFOLDS, random_state=seed, shuffle=True)\n",
    "    for fn, (trn_idx, val_idx) in enumerate(mskf.split(X, y)):\n",
    "        print('Starting fold: ', fn)\n",
    "        X_train, X_val = X.iloc[trn_idx,:].to_numpy(), X.iloc[val_idx,:].to_numpy()\n",
    "        y_train, y_val = y.iloc[trn_idx].to_numpy(), y.iloc[val_idx].to_numpy()\n",
    "    \n",
    "        clf.fit(X_train, y_train)\n",
    "        val_preds = clf.predict_proba(X_val) # list of preds per class\n",
    "        val_preds = np.array(val_preds)[:,:,1].T # take the positive class\n",
    "        oof_preds[val_idx] = val_preds\n",
    "    \n",
    "        loss = log_loss(np.ravel(y_val), np.ravel(val_preds))\n",
    "        print(loss)\n",
    "        oof_losses.append(loss)\n",
    "        preds = clf.predict_proba(X_test)\n",
    "        preds = np.array(preds)[:,:,1].T # take the positive class\n",
    "        test_preds += preds / NFOLDS\n",
    "    \n",
    "    print(oof_losses)\n",
    "    print('Mean OOF loss across folds', np.mean(oof_losses))\n",
    "    print('STD OOF loss across folds', np.std(oof_losses))\n",
    "    return oof_preds, test_preds"
   ]
  },
  {
   "cell_type": "code",
   "execution_count": 10,
   "metadata": {
    "execution": {
     "iopub.execute_input": "2020-10-31T03:29:54.365786Z",
     "iopub.status.busy": "2020-10-31T03:29:54.364465Z",
     "iopub.status.idle": "2020-10-31T03:50:51.022978Z",
     "shell.execute_reply": "2020-10-31T03:50:51.024019Z"
    },
    "papermill": {
     "duration": 1256.680376,
     "end_time": "2020-10-31T03:50:51.024198",
     "exception": false,
     "start_time": "2020-10-31T03:29:54.343822",
     "status": "completed"
    },
    "tags": []
   },
   "outputs": [
    {
     "name": "stdout",
     "output_type": "stream",
     "text": [
      "Starting fold:  0\n",
      "0.017738735475654337\n",
      "Starting fold:  1\n",
      "0.017728636817706374\n",
      "Starting fold:  2\n",
      "0.0174600812110519\n",
      "Starting fold:  3\n",
      "0.017768631367041644\n",
      "Starting fold:  4\n",
      "0.017781262518877964\n",
      "[0.017738735475654337, 0.017728636817706374, 0.0174600812110519, 0.017768631367041644, 0.017781262518877964]\n",
      "Mean OOF loss across folds 0.017695469478066442\n",
      "STD OOF loss across folds 0.00011924157250244787\n"
     ]
    }
   ],
   "source": [
    "X = train.copy()\n",
    "y_xgb = fn_targets.drop(\"sig_id\", axis=1).copy()\n",
    "X_test = test.copy()\n",
    "\n",
    "seeds = [42]\n",
    "oof_preds = np.zeros(y_xgb.shape)\n",
    "test_preds = np.zeros((test.shape[0], y_xgb.shape[1]))\n",
    "for seed_ in seeds:\n",
    "    ind_preds, ind_test_preds = modelling_xgb(X, y_xgb, X_test, seed_)\n",
    "    oof_preds += ind_preds / len(seeds)\n",
    "    test_preds += ind_test_preds / len(seeds)"
   ]
  },
  {
   "cell_type": "code",
   "execution_count": 11,
   "metadata": {
    "execution": {
     "iopub.execute_input": "2020-10-31T03:50:51.072901Z",
     "iopub.status.busy": "2020-10-31T03:50:51.072207Z",
     "iopub.status.idle": "2020-10-31T03:50:51.206526Z",
     "shell.execute_reply": "2020-10-31T03:50:51.205975Z"
    },
    "papermill": {
     "duration": 0.161273,
     "end_time": "2020-10-31T03:50:51.206632",
     "exception": false,
     "start_time": "2020-10-31T03:50:51.045359",
     "status": "completed"
    },
    "tags": []
   },
   "outputs": [
    {
     "ename": "NameError",
     "evalue": "name 'roc_auc_score' is not defined",
     "output_type": "error",
     "traceback": [
      "\u001b[0;31m---------------------------------------------------------------------------\u001b[0m",
      "\u001b[0;31mNameError\u001b[0m                                 Traceback (most recent call last)",
      "\u001b[0;32m<ipython-input-11-5fffcac37256>\u001b[0m in \u001b[0;36m<module>\u001b[0;34m\u001b[0m\n\u001b[1;32m      1\u001b[0m \u001b[0maucs\u001b[0m \u001b[0;34m=\u001b[0m \u001b[0;34m[\u001b[0m\u001b[0;34m]\u001b[0m\u001b[0;34m\u001b[0m\u001b[0;34m\u001b[0m\u001b[0m\n\u001b[1;32m      2\u001b[0m \u001b[0;32mfor\u001b[0m \u001b[0mtask_id\u001b[0m \u001b[0;32min\u001b[0m \u001b[0mrange\u001b[0m\u001b[0;34m(\u001b[0m\u001b[0mtargets\u001b[0m\u001b[0;34m.\u001b[0m\u001b[0mshape\u001b[0m\u001b[0;34m[\u001b[0m\u001b[0;36m1\u001b[0m\u001b[0;34m]\u001b[0m\u001b[0;34m-\u001b[0m\u001b[0;36m1\u001b[0m\u001b[0;34m)\u001b[0m\u001b[0;34m:\u001b[0m\u001b[0;34m\u001b[0m\u001b[0;34m\u001b[0m\u001b[0m\n\u001b[0;32m----> 3\u001b[0;31m     aucs.append(roc_auc_score(y_true=targets.iloc[:, task_id+1].values,\n\u001b[0m\u001b[1;32m      4\u001b[0m                               y_score=oof_preds[:, task_id]))\n\u001b[1;32m      5\u001b[0m \u001b[0mprint\u001b[0m\u001b[0;34m(\u001b[0m\u001b[0;34mf\"Overall AUC : {np.mean(aucs)}\"\u001b[0m\u001b[0;34m)\u001b[0m\u001b[0;34m\u001b[0m\u001b[0;34m\u001b[0m\u001b[0m\n",
      "\u001b[0;31mNameError\u001b[0m: name 'roc_auc_score' is not defined"
     ]
    }
   ],
   "source": [
    "aucs = []\n",
    "for task_id in range(targets.shape[1]-1):\n",
    "    aucs.append(roc_auc_score(y_true=targets.iloc[:, task_id+1].values,\n",
    "                              y_score=oof_preds[:, task_id]))\n",
    "print(f\"Overall AUC : {np.mean(aucs)}\")"
   ]
  },
  {
   "cell_type": "code",
   "execution_count": 12,
   "metadata": {
    "execution": {
     "iopub.execute_input": "2020-10-31T03:50:51.251647Z",
     "iopub.status.busy": "2020-10-31T03:50:51.250204Z",
     "iopub.status.idle": "2020-10-31T03:50:52.440758Z",
     "shell.execute_reply": "2020-10-31T03:50:52.441305Z"
    },
    "papermill": {
     "duration": 1.215616,
     "end_time": "2020-10-31T03:50:52.441459",
     "exception": false,
     "start_time": "2020-10-31T03:50:51.225843",
     "status": "completed"
    },
    "tags": []
   },
   "outputs": [
    {
     "name": "stdout",
     "output_type": "stream",
     "text": [
      "OOF log loss:  0.016308906175128927\n"
     ]
    }
   ],
   "source": [
    "check = np.zeros([targets.shape[0], targets.shape[1]-1])\n",
    "check[cons_train_index,:] = oof_preds\n",
    "print('OOF log loss: ', log_loss(np.ravel(y), np.ravel(check)))"
   ]
  },
  {
   "cell_type": "code",
   "execution_count": 13,
   "metadata": {
    "execution": {
     "iopub.execute_input": "2020-10-31T03:50:52.485430Z",
     "iopub.status.busy": "2020-10-31T03:50:52.484354Z",
     "iopub.status.idle": "2020-10-31T03:50:54.917339Z",
     "shell.execute_reply": "2020-10-31T03:50:54.916737Z"
    },
    "papermill": {
     "duration": 2.457267,
     "end_time": "2020-10-31T03:50:54.917451",
     "exception": false,
     "start_time": "2020-10-31T03:50:52.460184",
     "status": "completed"
    },
    "tags": []
   },
   "outputs": [],
   "source": [
    "sub.loc[cons_test_index,target_feats] = test_preds\n",
    "sub.loc[noncons_test_index,target_feats] = 0\n",
    "sub.to_csv('submission.csv', index=False)"
   ]
  },
  {
   "cell_type": "code",
   "execution_count": null,
   "metadata": {
    "papermill": {
     "duration": 0.018785,
     "end_time": "2020-10-31T03:50:54.955302",
     "exception": false,
     "start_time": "2020-10-31T03:50:54.936517",
     "status": "completed"
    },
    "tags": []
   },
   "outputs": [],
   "source": []
  }
 ],
 "metadata": {
  "kernelspec": {
   "display_name": "Python 3",
   "language": "python",
   "name": "python3"
  },
  "language_info": {
   "codemirror_mode": {
    "name": "ipython",
    "version": 3
   },
   "file_extension": ".py",
   "mimetype": "text/x-python",
   "name": "python",
   "nbconvert_exporter": "python",
   "pygments_lexer": "ipython3",
   "version": "3.7.6"
  },
  "papermill": {
   "duration": 1282.268038,
   "end_time": "2020-10-31T03:50:56.243492",
   "environment_variables": {},
   "exception": null,
   "input_path": "__notebook__.ipynb",
   "output_path": "__notebook__.ipynb",
   "parameters": {},
   "start_time": "2020-10-31T03:29:33.975454",
   "version": "2.1.0"
  }
 },
 "nbformat": 4,
 "nbformat_minor": 4
}
