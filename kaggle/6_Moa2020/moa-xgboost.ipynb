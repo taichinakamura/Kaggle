{
 "cells": [
  {
   "cell_type": "markdown",
   "metadata": {
    "papermill": {
     "duration": 0.014866,
     "end_time": "2020-10-06T12:06:47.232732",
     "exception": false,
     "start_time": "2020-10-06T12:06:47.217866",
     "status": "completed"
    },
    "tags": []
   },
   "source": [
    "- add shuffle True in mskf\n",
    "- make ensemble formulation\n",
    "- modify mistake"
   ]
  },
  {
   "cell_type": "code",
   "execution_count": 1,
   "metadata": {
    "_cell_guid": "b1076dfc-b9ad-4769-8c92-a6c4dae69d19",
    "_uuid": "8f2839f25d086af736a60e9eeb907d3b93b6e0e5",
    "execution": {
     "iopub.execute_input": "2020-10-06T12:06:47.268404Z",
     "iopub.status.busy": "2020-10-06T12:06:47.267523Z",
     "iopub.status.idle": "2020-10-06T12:06:50.573084Z",
     "shell.execute_reply": "2020-10-06T12:06:50.572374Z"
    },
    "papermill": {
     "duration": 3.326676,
     "end_time": "2020-10-06T12:06:50.573217",
     "exception": false,
     "start_time": "2020-10-06T12:06:47.246541",
     "status": "completed"
    },
    "tags": []
   },
   "outputs": [],
   "source": [
    "import os\n",
    "import sys\n",
    "import warnings\n",
    "import numpy as np\n",
    "import pandas as pd \n",
    "import lightgbm as lgb\n",
    "from sklearn.decomposition import PCA\n",
    "import matplotlib.pyplot as plt\n",
    "from xgboost import XGBClassifier\n",
    "from sklearn.model_selection import KFold, StratifiedKFold\n",
    "from category_encoders import CountEncoder\n",
    "from sklearn.pipeline import Pipeline\n",
    "from sklearn.metrics import log_loss, mean_squared_error\n",
    "from sklearn import preprocessing\n",
    "from sklearn.multioutput import MultiOutputClassifier\n",
    "sys.path.append('../input/multilabelstraifier/')\n",
    "from ml_stratifiers import MultilabelStratifiedKFold\n",
    "warnings.filterwarnings('ignore')"
   ]
  },
  {
   "cell_type": "code",
   "execution_count": 2,
   "metadata": {
    "execution": {
     "iopub.execute_input": "2020-10-06T12:06:50.604982Z",
     "iopub.status.busy": "2020-10-06T12:06:50.604262Z",
     "iopub.status.idle": "2020-10-06T12:06:50.608390Z",
     "shell.execute_reply": "2020-10-06T12:06:50.608930Z"
    },
    "papermill": {
     "duration": 0.022311,
     "end_time": "2020-10-06T12:06:50.609055",
     "exception": false,
     "start_time": "2020-10-06T12:06:50.586744",
     "status": "completed"
    },
    "tags": []
   },
   "outputs": [],
   "source": [
    "SEED = 42\n",
    "NFOLDS = 5\n",
    "np.random.seed(SEED)\n",
    "DATA_DIR = '/kaggle/input/lish-moa/'"
   ]
  },
  {
   "cell_type": "code",
   "execution_count": 3,
   "metadata": {
    "_cell_guid": "79c7e3d0-c299-4dcb-8224-4455121ee9b0",
    "_uuid": "d629ff2d2480ee46fbb7e2d37f6b5fab8052498a",
    "execution": {
     "iopub.execute_input": "2020-10-06T12:06:50.644039Z",
     "iopub.status.busy": "2020-10-06T12:06:50.642777Z",
     "iopub.status.idle": "2020-10-06T12:06:56.263040Z",
     "shell.execute_reply": "2020-10-06T12:06:56.261891Z"
    },
    "papermill": {
     "duration": 5.640508,
     "end_time": "2020-10-06T12:06:56.263165",
     "exception": false,
     "start_time": "2020-10-06T12:06:50.622657",
     "status": "completed"
    },
    "tags": []
   },
   "outputs": [],
   "source": [
    "train = pd.read_csv(DATA_DIR + 'train_features.csv')\n",
    "targets = pd.read_csv(DATA_DIR + 'train_targets_scored.csv')\n",
    "\n",
    "test = pd.read_csv(DATA_DIR + 'test_features.csv')\n",
    "sub = pd.read_csv(DATA_DIR + 'sample_submission.csv')"
   ]
  },
  {
   "cell_type": "code",
   "execution_count": 4,
   "metadata": {
    "execution": {
     "iopub.execute_input": "2020-10-06T12:06:56.296680Z",
     "iopub.status.busy": "2020-10-06T12:06:56.295995Z",
     "iopub.status.idle": "2020-10-06T12:06:56.300022Z",
     "shell.execute_reply": "2020-10-06T12:06:56.300533Z"
    },
    "papermill": {
     "duration": 0.023821,
     "end_time": "2020-10-06T12:06:56.300666",
     "exception": false,
     "start_time": "2020-10-06T12:06:56.276845",
     "status": "completed"
    },
    "tags": []
   },
   "outputs": [],
   "source": [
    "target_feats = [ i for i in targets.columns if i != \"sig_id\"]\n",
    "g_feats = [i for i in train.columns if \"g-\" in i]\n",
    "c_feats = [i for i in train.columns if \"c-\" in i]"
   ]
  },
  {
   "cell_type": "code",
   "execution_count": 5,
   "metadata": {
    "execution": {
     "iopub.execute_input": "2020-10-06T12:06:56.339882Z",
     "iopub.status.busy": "2020-10-06T12:06:56.339187Z",
     "iopub.status.idle": "2020-10-06T12:06:56.435076Z",
     "shell.execute_reply": "2020-10-06T12:06:56.434392Z"
    },
    "papermill": {
     "duration": 0.121005,
     "end_time": "2020-10-06T12:06:56.435207",
     "exception": false,
     "start_time": "2020-10-06T12:06:56.314202",
     "status": "completed"
    },
    "tags": []
   },
   "outputs": [],
   "source": [
    "noncons_train_index = train[train.cp_type==\"ctl_vehicle\"].index\n",
    "cons_train_index = train[train.cp_type!=\"ctl_vehicle\"].index\n",
    "noncons_test_index = test[test.cp_type==\"ctl_vehicle\"].index\n",
    "cons_test_index = test[test.cp_type!=\"ctl_vehicle\"].index"
   ]
  },
  {
   "cell_type": "markdown",
   "metadata": {
    "papermill": {
     "duration": 0.013348,
     "end_time": "2020-10-06T12:06:56.464294",
     "exception": false,
     "start_time": "2020-10-06T12:06:56.450946",
     "status": "completed"
    },
    "tags": []
   },
   "source": [
    "# Preprocess"
   ]
  },
  {
   "cell_type": "code",
   "execution_count": 6,
   "metadata": {
    "execution": {
     "iopub.execute_input": "2020-10-06T12:06:56.502401Z",
     "iopub.status.busy": "2020-10-06T12:06:56.501443Z",
     "iopub.status.idle": "2020-10-06T12:06:58.436203Z",
     "shell.execute_reply": "2020-10-06T12:06:58.434823Z"
    },
    "papermill": {
     "duration": 1.958675,
     "end_time": "2020-10-06T12:06:58.436421",
     "exception": false,
     "start_time": "2020-10-06T12:06:56.477746",
     "status": "completed"
    },
    "tags": []
   },
   "outputs": [],
   "source": [
    "# normalization by ctl group\n",
    "train_ctl = train[train.index.isin(noncons_train_index)].copy().reset_index(drop=True)\n",
    "test_ctl = test[test.index.isin(noncons_test_index)].copy().reset_index(drop=True)\n",
    "ctl_df = pd.concat([train_ctl, test_ctl])\n",
    "\n",
    "ctl_group_data = ctl_df.groupby([\"cp_dose\", \"cp_time\"]).agg({\"mean\"}).reset_index()\n",
    "mean_g_feats = [\"mean-\" + i for i in g_feats]\n",
    "mean_c_feats = [\"mean-\" + i for i in c_feats]\n",
    "columns = [\"cp_dose\", \"cp_time\"] + mean_g_feats + mean_c_feats\n",
    "ctl_group_data.columns = columns\n",
    "\n",
    "#train_cons = train_feat[train_feat.index.isin(cons_train_index)].copy().reset_index(drop=True)\n",
    "#test_cons = test_feat[test_feat.index.isin(cons_test_index)].copy().reset_index(drop=True)\n",
    "#n_train_score = train_score[train_score.index.isin(cons_train_index)].copy().reset_index(drop=True)\n",
    "#n_train_nonscore = train_nonscore[train_nonscore.index.isin(cons_train_index)].copy().reset_index(drop=True)"
   ]
  },
  {
   "cell_type": "code",
   "execution_count": 7,
   "metadata": {
    "execution": {
     "iopub.execute_input": "2020-10-06T12:06:58.480337Z",
     "iopub.status.busy": "2020-10-06T12:06:58.479404Z",
     "iopub.status.idle": "2020-10-06T12:07:03.624165Z",
     "shell.execute_reply": "2020-10-06T12:07:03.625295Z"
    },
    "papermill": {
     "duration": 5.173159,
     "end_time": "2020-10-06T12:07:03.625475",
     "exception": false,
     "start_time": "2020-10-06T12:06:58.452316",
     "status": "completed"
    },
    "tags": []
   },
   "outputs": [],
   "source": [
    "train = pd.merge(train, ctl_group_data, on=[\"cp_time\", \"cp_dose\"], how=\"left\")\n",
    "test = pd.merge(test, ctl_group_data, on=[\"cp_time\", \"cp_dose\"], how=\"left\")\n",
    "\n",
    "for i in range(len(g_feats)):\n",
    "    train[\"diff-g-\"+str(i)] = train[\"g-\"+str(i)] - train[\"mean-g-\"+str(i)]\n",
    "    test[\"diff-g-\"+str(i)] = test[\"g-\"+str(i)] - test[\"mean-g-\"+str(i)]\n",
    "    \n",
    "for i in range(len(c_feats)):\n",
    "    train[\"diff-c-\"+str(i)] = train[\"c-\"+str(i)] - train[\"mean-c-\"+str(i)]\n",
    "    test[\"diff-c-\"+str(i)] = test[\"c-\"+str(i)] - test[\"mean-c-\"+str(i)]"
   ]
  },
  {
   "cell_type": "code",
   "execution_count": 8,
   "metadata": {
    "execution": {
     "iopub.execute_input": "2020-10-06T12:07:03.678242Z",
     "iopub.status.busy": "2020-10-06T12:07:03.677400Z",
     "iopub.status.idle": "2020-10-06T12:07:03.723901Z",
     "shell.execute_reply": "2020-10-06T12:07:03.724973Z"
    },
    "papermill": {
     "duration": 0.080309,
     "end_time": "2020-10-06T12:07:03.725135",
     "exception": false,
     "start_time": "2020-10-06T12:07:03.644826",
     "status": "completed"
    },
    "tags": []
   },
   "outputs": [],
   "source": [
    "categoricals = [\"cp_dose\"]\n",
    "\n",
    "def encoding(tr, te):\n",
    "    for f in categoricals:\n",
    "        lbl = preprocessing.LabelEncoder()\n",
    "        lbl.fit(list(tr[f]))\n",
    "        tr[f] = lbl.transform(list(tr[f]))\n",
    "        te[f] = lbl.transform(list(te[f])) \n",
    "        \n",
    "    return tr, te\n",
    "\n",
    "train, test = encoding(train, test)"
   ]
  },
  {
   "cell_type": "markdown",
   "metadata": {
    "papermill": {
     "duration": 0.018215,
     "end_time": "2020-10-06T12:07:03.762405",
     "exception": false,
     "start_time": "2020-10-06T12:07:03.744190",
     "status": "completed"
    },
    "tags": []
   },
   "source": [
    "# Feature engineering"
   ]
  },
  {
   "cell_type": "code",
   "execution_count": 9,
   "metadata": {
    "execution": {
     "iopub.execute_input": "2020-10-06T12:07:03.829882Z",
     "iopub.status.busy": "2020-10-06T12:07:03.828928Z",
     "iopub.status.idle": "2020-10-06T12:07:04.314689Z",
     "shell.execute_reply": "2020-10-06T12:07:04.314089Z"
    },
    "papermill": {
     "duration": 0.526003,
     "end_time": "2020-10-06T12:07:04.314814",
     "exception": false,
     "start_time": "2020-10-06T12:07:03.788811",
     "status": "completed"
    },
    "tags": []
   },
   "outputs": [
    {
     "name": "stdout",
     "output_type": "stream",
     "text": [
      "(23814, 874) (3982, 874)\n"
     ]
    }
   ],
   "source": [
    "def fe(df, remove_features):\n",
    "    df.drop(remove_features, axis=1, inplace=True)\n",
    "    return df\n",
    "\n",
    "remove_features = [\"cp_type\" , \"sig_id\"] + mean_g_feats + mean_c_feats + g_feats + c_feats \n",
    "        \n",
    "train = fe(train, remove_features)\n",
    "test = fe(test, remove_features)\n",
    "    \n",
    "print(train.shape, test.shape)"
   ]
  },
  {
   "cell_type": "markdown",
   "metadata": {
    "papermill": {
     "duration": 0.014209,
     "end_time": "2020-10-06T12:07:04.344210",
     "exception": false,
     "start_time": "2020-10-06T12:07:04.330001",
     "status": "completed"
    },
    "tags": []
   },
   "source": [
    "# modelling"
   ]
  },
  {
   "cell_type": "code",
   "execution_count": 10,
   "metadata": {
    "execution": {
     "iopub.execute_input": "2020-10-06T12:07:04.383751Z",
     "iopub.status.busy": "2020-10-06T12:07:04.383073Z",
     "iopub.status.idle": "2020-10-06T12:07:04.415730Z",
     "shell.execute_reply": "2020-10-06T12:07:04.416243Z"
    },
    "papermill": {
     "duration": 0.056914,
     "end_time": "2020-10-06T12:07:04.416379",
     "exception": false,
     "start_time": "2020-10-06T12:07:04.359465",
     "status": "completed"
    },
    "tags": []
   },
   "outputs": [
    {
     "data": {
      "text/plain": [
       "Pipeline(steps=[('classify',\n",
       "                 MultiOutputClassifier(estimator=XGBClassifier(base_score=None,\n",
       "                                                               booster=None,\n",
       "                                                               colsample_bylevel=None,\n",
       "                                                               colsample_bynode=None,\n",
       "                                                               colsample_bytree=None,\n",
       "                                                               gamma=3.6975,\n",
       "                                                               gpu_id=None,\n",
       "                                                               importance_type='gain',\n",
       "                                                               interaction_constraints=None,\n",
       "                                                               learning_rate=0.0603,\n",
       "                                                               max_delta_step=2.0706,\n",
       "                                                               max_depth=10,\n",
       "                                                               min_child_weight=31.58,\n",
       "                                                               missing=nan,\n",
       "                                                               monotone_constraints=None,\n",
       "                                                               n_estimators=166,\n",
       "                                                               n_jobs=None,\n",
       "                                                               num_parallel_tree=None,\n",
       "                                                               random_state=None,\n",
       "                                                               reg_alpha=None,\n",
       "                                                               reg_lambda=None,\n",
       "                                                               scale_pos_weight=None,\n",
       "                                                               subsample=None,\n",
       "                                                               tree_method='gpu_hist',\n",
       "                                                               validate_parameters=None,\n",
       "                                                               verbosity=None)))])"
      ]
     },
     "execution_count": 10,
     "metadata": {},
     "output_type": "execute_result"
    }
   ],
   "source": [
    "classifier = MultiOutputClassifier(XGBClassifier(tree_method='gpu_hist'))\n",
    "\n",
    "clf = Pipeline([('classify', classifier)\n",
    "               ])\n",
    "\n",
    "params = {'classify__estimator__gamma': 3.6975,\n",
    "          'classify__estimator__learning_rate': 0.0603,\n",
    "          'classify__estimator__max_delta_step': 2.0706,\n",
    "          'classify__estimator__max_depth': 10,\n",
    "          'classify__estimator__min_child_weight': 31.5800,\n",
    "          'classify__estimator__n_estimators': 166,\n",
    "         }\n",
    "\n",
    "clf.set_params(**params)"
   ]
  },
  {
   "cell_type": "code",
   "execution_count": 11,
   "metadata": {
    "execution": {
     "iopub.execute_input": "2020-10-06T12:07:04.461150Z",
     "iopub.status.busy": "2020-10-06T12:07:04.460529Z",
     "iopub.status.idle": "2020-10-06T12:07:04.464034Z",
     "shell.execute_reply": "2020-10-06T12:07:04.463509Z"
    },
    "papermill": {
     "duration": 0.032556,
     "end_time": "2020-10-06T12:07:04.464140",
     "exception": false,
     "start_time": "2020-10-06T12:07:04.431584",
     "status": "completed"
    },
    "tags": []
   },
   "outputs": [],
   "source": [
    "def modelling_xgb(X, y, X_test, seed):\n",
    "    oof_preds = np.zeros(y.shape)\n",
    "    test_preds = np.zeros((X_test.shape[0], y.shape[1]))\n",
    "    oof_losses = []\n",
    "    mskf = MultilabelStratifiedKFold(n_splits=NFOLDS, random_state=seed, shuffle=True)\n",
    "    for fn, (trn_idx, val_idx) in enumerate(mskf.split(X, y)):\n",
    "        print('Starting fold: ', fn)\n",
    "        X_train, X_val = X.iloc[trn_idx,:], X.iloc[val_idx,:].to_numpy()\n",
    "        y_train, y_val = y.iloc[trn_idx], y.iloc[val_idx].to_numpy()\n",
    "    \n",
    "        X_train = X_train[X_train.index.isin(cons_train_index)].to_numpy()\n",
    "        y_train = y_train[y_train.index.isin(cons_train_index)].to_numpy()\n",
    "    \n",
    "        clf.fit(X_train, y_train)\n",
    "        val_preds = clf.predict_proba(X_val) # list of preds per class\n",
    "        val_preds = np.array(val_preds)[:,:,1].T # take the positive class\n",
    "        oof_preds[val_idx] = val_preds\n",
    "    \n",
    "        loss = log_loss(np.ravel(y_val), np.ravel(val_preds))\n",
    "        print(loss)\n",
    "        oof_losses.append(loss)\n",
    "        preds = clf.predict_proba(X_test)\n",
    "        preds = np.array(preds)[:,:,1].T # take the positive class\n",
    "        test_preds += preds / NFOLDS\n",
    "    \n",
    "    print(oof_losses)\n",
    "    print('Mean OOF loss across folds', np.mean(oof_losses))\n",
    "    print('STD OOF loss across folds', np.std(oof_losses))\n",
    "    return oof_preds, test_preds"
   ]
  },
  {
   "cell_type": "code",
   "execution_count": 12,
   "metadata": {
    "execution": {
     "iopub.execute_input": "2020-10-06T12:07:04.532047Z",
     "iopub.status.busy": "2020-10-06T12:07:04.531166Z",
     "iopub.status.idle": "2020-10-06T13:14:58.209488Z",
     "shell.execute_reply": "2020-10-06T13:14:58.210307Z"
    },
    "papermill": {
     "duration": 4073.714784,
     "end_time": "2020-10-06T13:14:58.210553",
     "exception": false,
     "start_time": "2020-10-06T12:07:04.495769",
     "status": "completed"
    },
    "tags": []
   },
   "outputs": [
    {
     "name": "stdout",
     "output_type": "stream",
     "text": [
      "Starting fold:  0\n",
      "0.016782120553577386\n",
      "Starting fold:  1\n",
      "0.016923111808250887\n",
      "Starting fold:  2\n",
      "0.01684675120532887\n",
      "Starting fold:  3\n",
      "0.016567807339092584\n",
      "Starting fold:  4\n",
      "0.016762154930071254\n",
      "[0.016782120553577386, 0.016923111808250887, 0.01684675120532887, 0.016567807339092584, 0.016762154930071254]\n",
      "Mean OOF loss across folds 0.016776389167264198\n",
      "STD OOF loss across folds 0.00011850754500846916\n",
      "Starting fold:  0\n",
      "0.016776726735058676\n",
      "Starting fold:  1\n",
      "0.016797396507513034\n",
      "Starting fold:  2\n",
      "0.016766481835805844\n",
      "Starting fold:  3\n",
      "0.016727137771111823\n",
      "Starting fold:  4\n",
      "0.01684152178972259\n",
      "[0.016776726735058676, 0.016797396507513034, 0.016766481835805844, 0.016727137771111823, 0.01684152178972259]\n",
      "Mean OOF loss across folds 0.016781852927842393\n",
      "STD OOF loss across folds 3.75719912859524e-05\n",
      "Starting fold:  0\n",
      "0.016737077027686214\n",
      "Starting fold:  1\n",
      "0.016814861047016263\n",
      "Starting fold:  2\n",
      "0.01674855971902707\n",
      "Starting fold:  3\n",
      "0.016739571268362285\n",
      "Starting fold:  4\n",
      "0.016893459837372983\n",
      "[0.016737077027686214, 0.016814861047016263, 0.01674855971902707, 0.016739571268362285, 0.016893459837372983]\n",
      "Mean OOF loss across folds 0.01678670577989296\n",
      "STD OOF loss across folds 6.054575961642674e-05\n"
     ]
    }
   ],
   "source": [
    "X = train.copy()\n",
    "y = targets.drop(\"sig_id\", axis=1).copy()\n",
    "X_test = test.copy()\n",
    "\n",
    "seeds = [42,43,44]\n",
    "oof_preds = np.zeros(y.shape)\n",
    "test_preds = np.zeros((test.shape[0], y.shape[1]))\n",
    "for seed_ in seeds:\n",
    "    ind_preds, ind_test_preds = modelling_xgb(X, y, X_test, seed_)\n",
    "    oof_preds += ind_preds / len(seeds)\n",
    "    test_preds += ind_test_preds / len(seeds)"
   ]
  },
  {
   "cell_type": "code",
   "execution_count": 13,
   "metadata": {
    "execution": {
     "iopub.execute_input": "2020-10-06T13:14:58.288503Z",
     "iopub.status.busy": "2020-10-06T13:14:58.286974Z",
     "iopub.status.idle": "2020-10-06T13:15:02.827702Z",
     "shell.execute_reply": "2020-10-06T13:15:02.826747Z"
    },
    "papermill": {
     "duration": 4.582439,
     "end_time": "2020-10-06T13:15:02.827840",
     "exception": false,
     "start_time": "2020-10-06T13:14:58.245401",
     "status": "completed"
    },
    "tags": []
   },
   "outputs": [
    {
     "name": "stdout",
     "output_type": "stream",
     "text": [
      "OOF log loss:  0.016424609859509692\n"
     ]
    }
   ],
   "source": [
    "train_checkscore = targets.copy()\n",
    "train_checkscore.iloc[:,1:] = oof_preds\n",
    "train_checkscore.loc[train_checkscore.index.isin(noncons_train_index),target_feats] = 0\n",
    "print('OOF log loss: ', log_loss(np.ravel(y), np.ravel(np.array(train_checkscore.iloc[:,1:]))))"
   ]
  },
  {
   "cell_type": "code",
   "execution_count": 14,
   "metadata": {
    "execution": {
     "iopub.execute_input": "2020-10-06T13:15:02.891574Z",
     "iopub.status.busy": "2020-10-06T13:15:02.890682Z",
     "iopub.status.idle": "2020-10-06T13:15:06.228849Z",
     "shell.execute_reply": "2020-10-06T13:15:06.228111Z"
    },
    "papermill": {
     "duration": 3.372228,
     "end_time": "2020-10-06T13:15:06.228968",
     "exception": false,
     "start_time": "2020-10-06T13:15:02.856740",
     "status": "completed"
    },
    "tags": []
   },
   "outputs": [],
   "source": [
    "sub.iloc[:,1:] = test_preds\n",
    "sub.loc[sub.index.isin(noncons_test_index),target_feats] = 0\n",
    "sub.to_csv('submission.csv', index=False)"
   ]
  },
  {
   "cell_type": "code",
   "execution_count": null,
   "metadata": {
    "papermill": {
     "duration": 0.030989,
     "end_time": "2020-10-06T13:15:06.290942",
     "exception": false,
     "start_time": "2020-10-06T13:15:06.259953",
     "status": "completed"
    },
    "tags": []
   },
   "outputs": [],
   "source": []
  }
 ],
 "metadata": {
  "kernelspec": {
   "display_name": "Python 3",
   "language": "python",
   "name": "python3"
  },
  "language_info": {
   "codemirror_mode": {
    "name": "ipython",
    "version": 3
   },
   "file_extension": ".py",
   "mimetype": "text/x-python",
   "name": "python",
   "nbconvert_exporter": "python",
   "pygments_lexer": "ipython3",
   "version": "3.7.6"
  },
  "papermill": {
   "duration": 4104.162562,
   "end_time": "2020-10-06T13:15:06.729491",
   "environment_variables": {},
   "exception": null,
   "input_path": "__notebook__.ipynb",
   "output_path": "__notebook__.ipynb",
   "parameters": {},
   "start_time": "2020-10-06T12:06:42.566929",
   "version": "2.1.0"
  }
 },
 "nbformat": 4,
 "nbformat_minor": 4
}
