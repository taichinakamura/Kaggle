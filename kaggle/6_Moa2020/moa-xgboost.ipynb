{
 "cells": [
  {
   "cell_type": "markdown",
   "metadata": {
    "papermill": {
     "duration": 0.012992,
     "end_time": "2020-10-29T14:23:59.609408",
     "exception": false,
     "start_time": "2020-10-29T14:23:59.596416",
     "status": "completed"
    },
    "tags": []
   },
   "source": [
    "- drop some features by variance reduction"
   ]
  },
  {
   "cell_type": "code",
   "execution_count": 1,
   "metadata": {
    "_cell_guid": "b1076dfc-b9ad-4769-8c92-a6c4dae69d19",
    "_uuid": "8f2839f25d086af736a60e9eeb907d3b93b6e0e5",
    "execution": {
     "iopub.execute_input": "2020-10-29T14:23:59.643495Z",
     "iopub.status.busy": "2020-10-29T14:23:59.642593Z",
     "iopub.status.idle": "2020-10-29T14:24:01.868264Z",
     "shell.execute_reply": "2020-10-29T14:24:01.867500Z"
    },
    "papermill": {
     "duration": 2.247271,
     "end_time": "2020-10-29T14:24:01.868391",
     "exception": false,
     "start_time": "2020-10-29T14:23:59.621120",
     "status": "completed"
    },
    "tags": []
   },
   "outputs": [],
   "source": [
    "import os\n",
    "import sys\n",
    "import warnings\n",
    "import numpy as np\n",
    "import pandas as pd \n",
    "import lightgbm as lgb\n",
    "from sklearn.decomposition import PCA\n",
    "import matplotlib.pyplot as plt\n",
    "from xgboost import XGBClassifier\n",
    "from sklearn.model_selection import KFold, StratifiedKFold\n",
    "from category_encoders import CountEncoder\n",
    "from sklearn.pipeline import Pipeline\n",
    "from sklearn.metrics import log_loss, mean_squared_error\n",
    "from sklearn import preprocessing\n",
    "from sklearn.multioutput import MultiOutputClassifier\n",
    "sys.path.append('../input/multilabelstraifier/')\n",
    "from ml_stratifiers import MultilabelStratifiedKFold\n",
    "warnings.filterwarnings('ignore')\n",
    "from sklearn.feature_selection import VarianceThreshold"
   ]
  },
  {
   "cell_type": "code",
   "execution_count": 2,
   "metadata": {
    "execution": {
     "iopub.execute_input": "2020-10-29T14:24:01.894554Z",
     "iopub.status.busy": "2020-10-29T14:24:01.893943Z",
     "iopub.status.idle": "2020-10-29T14:24:01.896547Z",
     "shell.execute_reply": "2020-10-29T14:24:01.895969Z"
    },
    "papermill": {
     "duration": 0.017523,
     "end_time": "2020-10-29T14:24:01.896650",
     "exception": false,
     "start_time": "2020-10-29T14:24:01.879127",
     "status": "completed"
    },
    "tags": []
   },
   "outputs": [],
   "source": [
    "SEED = 42\n",
    "NFOLDS = 5\n",
    "np.random.seed(SEED)\n",
    "DATA_DIR = '/kaggle/input/lish-moa/'"
   ]
  },
  {
   "cell_type": "code",
   "execution_count": 3,
   "metadata": {
    "_cell_guid": "79c7e3d0-c299-4dcb-8224-4455121ee9b0",
    "_uuid": "d629ff2d2480ee46fbb7e2d37f6b5fab8052498a",
    "execution": {
     "iopub.execute_input": "2020-10-29T14:24:01.924340Z",
     "iopub.status.busy": "2020-10-29T14:24:01.923705Z",
     "iopub.status.idle": "2020-10-29T14:24:06.783482Z",
     "shell.execute_reply": "2020-10-29T14:24:06.782792Z"
    },
    "papermill": {
     "duration": 4.876367,
     "end_time": "2020-10-29T14:24:06.783599",
     "exception": false,
     "start_time": "2020-10-29T14:24:01.907232",
     "status": "completed"
    },
    "tags": []
   },
   "outputs": [],
   "source": [
    "train = pd.read_csv(DATA_DIR + 'train_features.csv')\n",
    "targets = pd.read_csv(DATA_DIR + 'train_targets_scored.csv')\n",
    "\n",
    "test = pd.read_csv(DATA_DIR + 'test_features.csv')\n",
    "sub = pd.read_csv(DATA_DIR + 'sample_submission.csv')"
   ]
  },
  {
   "cell_type": "code",
   "execution_count": 4,
   "metadata": {
    "execution": {
     "iopub.execute_input": "2020-10-29T14:24:06.811468Z",
     "iopub.status.busy": "2020-10-29T14:24:06.810708Z",
     "iopub.status.idle": "2020-10-29T14:24:06.813774Z",
     "shell.execute_reply": "2020-10-29T14:24:06.813248Z"
    },
    "papermill": {
     "duration": 0.019475,
     "end_time": "2020-10-29T14:24:06.813888",
     "exception": false,
     "start_time": "2020-10-29T14:24:06.794413",
     "status": "completed"
    },
    "tags": []
   },
   "outputs": [],
   "source": [
    "target_feats = [ i for i in targets.columns if i != \"sig_id\"]\n",
    "g_feats = [i for i in train.columns if \"g-\" in i]\n",
    "c_feats = [i for i in train.columns if \"c-\" in i]"
   ]
  },
  {
   "cell_type": "code",
   "execution_count": 5,
   "metadata": {
    "execution": {
     "iopub.execute_input": "2020-10-29T14:24:06.847536Z",
     "iopub.status.busy": "2020-10-29T14:24:06.844916Z",
     "iopub.status.idle": "2020-10-29T14:24:06.990189Z",
     "shell.execute_reply": "2020-10-29T14:24:06.989477Z"
    },
    "papermill": {
     "duration": 0.165687,
     "end_time": "2020-10-29T14:24:06.990306",
     "exception": false,
     "start_time": "2020-10-29T14:24:06.824619",
     "status": "completed"
    },
    "tags": []
   },
   "outputs": [],
   "source": [
    "noncons_train_index = train[train.cp_type==\"ctl_vehicle\"].index\n",
    "cons_train_index = train[train.cp_type!=\"ctl_vehicle\"].index\n",
    "noncons_test_index = test[test.cp_type==\"ctl_vehicle\"].index\n",
    "cons_test_index = test[test.cp_type!=\"ctl_vehicle\"].index"
   ]
  },
  {
   "cell_type": "markdown",
   "metadata": {
    "papermill": {
     "duration": 0.010949,
     "end_time": "2020-10-29T14:24:07.014009",
     "exception": false,
     "start_time": "2020-10-29T14:24:07.003060",
     "status": "completed"
    },
    "tags": []
   },
   "source": [
    "# Preprocess"
   ]
  },
  {
   "cell_type": "code",
   "execution_count": 6,
   "metadata": {
    "execution": {
     "iopub.execute_input": "2020-10-29T14:24:07.048499Z",
     "iopub.status.busy": "2020-10-29T14:24:07.046719Z",
     "iopub.status.idle": "2020-10-29T14:24:07.314791Z",
     "shell.execute_reply": "2020-10-29T14:24:07.314164Z"
    },
    "papermill": {
     "duration": 0.289499,
     "end_time": "2020-10-29T14:24:07.314911",
     "exception": false,
     "start_time": "2020-10-29T14:24:07.025412",
     "status": "completed"
    },
    "tags": []
   },
   "outputs": [],
   "source": [
    "test = test[test.index.isin(cons_test_index)].reset_index(drop=True)\n",
    "train = train[train.index.isin(cons_train_index)].reset_index(drop=True)\n",
    "fn_targets = targets[targets.index.isin(cons_train_index)].copy().reset_index(drop=True)\n",
    "y = targets.drop(\"sig_id\", axis=1).copy()"
   ]
  },
  {
   "cell_type": "markdown",
   "metadata": {
    "papermill": {
     "duration": 0.011082,
     "end_time": "2020-10-29T14:24:07.337108",
     "exception": false,
     "start_time": "2020-10-29T14:24:07.326026",
     "status": "completed"
    },
    "tags": []
   },
   "source": [
    "# Feature engineering"
   ]
  },
  {
   "cell_type": "code",
   "execution_count": 7,
   "metadata": {
    "execution": {
     "iopub.execute_input": "2020-10-29T14:24:07.415617Z",
     "iopub.status.busy": "2020-10-29T14:24:07.414148Z",
     "iopub.status.idle": "2020-10-29T14:24:07.804511Z",
     "shell.execute_reply": "2020-10-29T14:24:07.803885Z"
    },
    "papermill": {
     "duration": 0.456497,
     "end_time": "2020-10-29T14:24:07.804621",
     "exception": false,
     "start_time": "2020-10-29T14:24:07.348124",
     "status": "completed"
    },
    "tags": []
   },
   "outputs": [
    {
     "data": {
      "text/plain": [
       "18"
      ]
     },
     "execution_count": 7,
     "metadata": {},
     "output_type": "execute_result"
    }
   ],
   "source": [
    "X = train.iloc[:,4:].copy().values\n",
    "select = VarianceThreshold(threshold=0.6)\n",
    "X_new = select.fit_transform(X)\n",
    "drop_feats = list(np.array(train.iloc[:,4:].columns)[select.get_support()==False])\n",
    "len(drop_feats)"
   ]
  },
  {
   "cell_type": "code",
   "execution_count": 8,
   "metadata": {
    "execution": {
     "iopub.execute_input": "2020-10-29T14:24:07.886393Z",
     "iopub.status.busy": "2020-10-29T14:24:07.883904Z",
     "iopub.status.idle": "2020-10-29T14:24:07.896797Z",
     "shell.execute_reply": "2020-10-29T14:24:07.896232Z"
    },
    "papermill": {
     "duration": 0.080368,
     "end_time": "2020-10-29T14:24:07.896931",
     "exception": false,
     "start_time": "2020-10-29T14:24:07.816563",
     "status": "completed"
    },
    "tags": []
   },
   "outputs": [],
   "source": [
    "train.drop(drop_feats, axis=1, inplace=True)\n",
    "test.drop(drop_feats, axis=1, inplace=True)\n",
    "g_feats = [i for i in train.columns if \"g-\" in i]\n",
    "c_feats = [i for i in train.columns if \"c-\" in i]"
   ]
  },
  {
   "cell_type": "code",
   "execution_count": 9,
   "metadata": {
    "execution": {
     "iopub.execute_input": "2020-10-29T14:24:07.935745Z",
     "iopub.status.busy": "2020-10-29T14:24:07.934311Z",
     "iopub.status.idle": "2020-10-29T14:24:12.871002Z",
     "shell.execute_reply": "2020-10-29T14:24:12.870463Z"
    },
    "papermill": {
     "duration": 4.962571,
     "end_time": "2020-10-29T14:24:12.871114",
     "exception": false,
     "start_time": "2020-10-29T14:24:07.908543",
     "status": "completed"
    },
    "tags": []
   },
   "outputs": [
    {
     "name": "stdout",
     "output_type": "stream",
     "text": [
      "(21948, 871) (3624, 871)\n"
     ]
    }
   ],
   "source": [
    "def fe(df, remove_features):\n",
    "    df['g_sum'] = df[g_feats].sum(axis = 1)\n",
    "    df['g_mean'] = df[g_feats].mean(axis = 1)\n",
    "    df['g_std'] = df[g_feats].std(axis = 1)\n",
    "    df['g_kurt'] = df[g_feats].kurtosis(axis = 1)\n",
    "    df['g_skew'] = df[g_feats].skew(axis = 1)\n",
    "    df['c_sum'] = df[c_feats].sum(axis = 1)\n",
    "    df['c_mean'] = df[c_feats].mean(axis = 1)\n",
    "    df['c_std'] = df[c_feats].std(axis = 1)\n",
    "    df['c_kurt'] = df[c_feats].kurtosis(axis = 1)\n",
    "    df['c_skew'] = df[c_feats].skew(axis = 1)\n",
    "    df['gc_sum'] = df[c_feats + g_feats].sum(axis = 1)\n",
    "    df['gc_mean'] = df[c_feats + g_feats].mean(axis = 1)\n",
    "    df['gc_std'] = df[c_feats + g_feats].std(axis = 1)\n",
    "    df['gc_kurt'] = df[c_feats + g_feats].kurtosis(axis = 1)\n",
    "    df['gc_skew'] = df[c_feats + g_feats].skew(axis = 1)\n",
    "    df.drop(remove_features, axis=1, inplace=True)\n",
    "    df.loc[:, 'cp_dose'] = df.loc[:, 'cp_dose'].map({'D1': 0, 'D2': 1})\n",
    "    return df\n",
    "\n",
    "remove_features = [\"cp_type\" , \"sig_id\"]\n",
    "        \n",
    "train = fe(train, remove_features)\n",
    "test = fe(test, remove_features)\n",
    "    \n",
    "print(train.shape, test.shape)"
   ]
  },
  {
   "cell_type": "markdown",
   "metadata": {
    "papermill": {
     "duration": 0.011645,
     "end_time": "2020-10-29T14:24:12.894783",
     "exception": false,
     "start_time": "2020-10-29T14:24:12.883138",
     "status": "completed"
    },
    "tags": []
   },
   "source": [
    "# modelling"
   ]
  },
  {
   "cell_type": "code",
   "execution_count": 10,
   "metadata": {
    "execution": {
     "iopub.execute_input": "2020-10-29T14:24:12.926176Z",
     "iopub.status.busy": "2020-10-29T14:24:12.925380Z",
     "iopub.status.idle": "2020-10-29T14:24:12.953799Z",
     "shell.execute_reply": "2020-10-29T14:24:12.953146Z"
    },
    "papermill": {
     "duration": 0.047278,
     "end_time": "2020-10-29T14:24:12.953923",
     "exception": false,
     "start_time": "2020-10-29T14:24:12.906645",
     "status": "completed"
    },
    "tags": []
   },
   "outputs": [
    {
     "data": {
      "text/plain": [
       "Pipeline(steps=[('classify',\n",
       "                 MultiOutputClassifier(estimator=XGBClassifier(base_score=None,\n",
       "                                                               booster=None,\n",
       "                                                               colsample_bylevel=None,\n",
       "                                                               colsample_bynode=None,\n",
       "                                                               colsample_bytree=None,\n",
       "                                                               gamma=3.6975,\n",
       "                                                               gpu_id=None,\n",
       "                                                               importance_type='gain',\n",
       "                                                               interaction_constraints=None,\n",
       "                                                               learning_rate=0.0803,\n",
       "                                                               max_delta_step=2.0706,\n",
       "                                                               max_depth=10,\n",
       "                                                               min_child_weight=31.58,\n",
       "                                                               missing=nan,\n",
       "                                                               monotone_constraints=None,\n",
       "                                                               n_estimators=166,\n",
       "                                                               n_jobs=None,\n",
       "                                                               num_parallel_tree=None,\n",
       "                                                               random_state=None,\n",
       "                                                               reg_alpha=None,\n",
       "                                                               reg_lambda=None,\n",
       "                                                               scale_pos_weight=None,\n",
       "                                                               subsample=None,\n",
       "                                                               tree_method='hist',\n",
       "                                                               validate_parameters=None,\n",
       "                                                               verbosity=None)))])"
      ]
     },
     "execution_count": 10,
     "metadata": {},
     "output_type": "execute_result"
    }
   ],
   "source": [
    "classifier = MultiOutputClassifier(XGBClassifier(tree_method='hist')) #gpu_\n",
    "\n",
    "clf = Pipeline([('classify', classifier)\n",
    "               ])\n",
    "\n",
    "params = {'classify__estimator__gamma': 3.6975,\n",
    "          'classify__estimator__learning_rate': 0.0803,\n",
    "          'classify__estimator__max_delta_step': 2.0706,\n",
    "          'classify__estimator__max_depth': 10,\n",
    "          'classify__estimator__min_child_weight': 31.5800,\n",
    "          'classify__estimator__n_estimators': 166,\n",
    "         }\n",
    "\n",
    "clf.set_params(**params)"
   ]
  },
  {
   "cell_type": "code",
   "execution_count": 11,
   "metadata": {
    "execution": {
     "iopub.execute_input": "2020-10-29T14:24:12.991481Z",
     "iopub.status.busy": "2020-10-29T14:24:12.990506Z",
     "iopub.status.idle": "2020-10-29T14:24:12.993589Z",
     "shell.execute_reply": "2020-10-29T14:24:12.992984Z"
    },
    "papermill": {
     "duration": 0.027179,
     "end_time": "2020-10-29T14:24:12.993729",
     "exception": false,
     "start_time": "2020-10-29T14:24:12.966550",
     "status": "completed"
    },
    "tags": []
   },
   "outputs": [],
   "source": [
    "def modelling_xgb(X, y, X_test, seed):\n",
    "    oof_preds = np.zeros(y.shape)\n",
    "    test_preds = np.zeros((X_test.shape[0], y.shape[1]))\n",
    "    oof_losses = []\n",
    "    mskf = MultilabelStratifiedKFold(n_splits=NFOLDS, random_state=seed, shuffle=True)\n",
    "    for fn, (trn_idx, val_idx) in enumerate(mskf.split(X, y)):\n",
    "        print('Starting fold: ', fn)\n",
    "        X_train, X_val = X.iloc[trn_idx,:].to_numpy(), X.iloc[val_idx,:].to_numpy()\n",
    "        y_train, y_val = y.iloc[trn_idx].to_numpy(), y.iloc[val_idx].to_numpy()\n",
    "    \n",
    "        clf.fit(X_train, y_train)\n",
    "        val_preds = clf.predict_proba(X_val) # list of preds per class\n",
    "        val_preds = np.array(val_preds)[:,:,1].T # take the positive class\n",
    "        oof_preds[val_idx] = val_preds\n",
    "    \n",
    "        loss = log_loss(np.ravel(y_val), np.ravel(val_preds))\n",
    "        print(loss)\n",
    "        oof_losses.append(loss)\n",
    "        preds = clf.predict_proba(X_test)\n",
    "        preds = np.array(preds)[:,:,1].T # take the positive class\n",
    "        test_preds += preds / NFOLDS\n",
    "    \n",
    "    print(oof_losses)\n",
    "    print('Mean OOF loss across folds', np.mean(oof_losses))\n",
    "    print('STD OOF loss across folds', np.std(oof_losses))\n",
    "    return oof_preds, test_preds"
   ]
  },
  {
   "cell_type": "code",
   "execution_count": 12,
   "metadata": {
    "execution": {
     "iopub.execute_input": "2020-10-29T14:24:13.027483Z",
     "iopub.status.busy": "2020-10-29T14:24:13.025913Z",
     "iopub.status.idle": "2020-10-29T17:51:20.218899Z",
     "shell.execute_reply": "2020-10-29T17:51:20.219541Z"
    },
    "papermill": {
     "duration": 12427.213311,
     "end_time": "2020-10-29T17:51:20.219768",
     "exception": false,
     "start_time": "2020-10-29T14:24:13.006457",
     "status": "completed"
    },
    "tags": []
   },
   "outputs": [
    {
     "name": "stdout",
     "output_type": "stream",
     "text": [
      "Starting fold:  0\n",
      "0.017649600028782266\n",
      "Starting fold:  1\n",
      "0.017664109902785125\n",
      "Starting fold:  2\n",
      "0.017348828468583172\n",
      "Starting fold:  3\n",
      "0.017649022918552134\n",
      "Starting fold:  4\n",
      "0.017688793651512238\n",
      "[0.017649600028782266, 0.017664109902785125, 0.017348828468583172, 0.017649022918552134, 0.017688793651512238]\n",
      "Mean OOF loss across folds 0.01760007099404299\n",
      "STD OOF loss across folds 0.00012644755005619478\n"
     ]
    }
   ],
   "source": [
    "X = train.copy()\n",
    "y_xgb = fn_targets.drop(\"sig_id\", axis=1).copy()\n",
    "X_test = test.copy()\n",
    "\n",
    "seeds = [42]\n",
    "oof_preds = np.zeros(y_xgb.shape)\n",
    "test_preds = np.zeros((test.shape[0], y_xgb.shape[1]))\n",
    "for seed_ in seeds:\n",
    "    ind_preds, ind_test_preds = modelling_xgb(X, y_xgb, X_test, seed_)\n",
    "    oof_preds += ind_preds / len(seeds)\n",
    "    test_preds += ind_test_preds / len(seeds)"
   ]
  },
  {
   "cell_type": "code",
   "execution_count": 13,
   "metadata": {
    "execution": {
     "iopub.execute_input": "2020-10-29T17:51:20.271729Z",
     "iopub.status.busy": "2020-10-29T17:51:20.270985Z",
     "iopub.status.idle": "2020-10-29T17:51:21.604600Z",
     "shell.execute_reply": "2020-10-29T17:51:21.603972Z"
    },
    "papermill": {
     "duration": 1.364529,
     "end_time": "2020-10-29T17:51:21.604725",
     "exception": false,
     "start_time": "2020-10-29T17:51:20.240196",
     "status": "completed"
    },
    "tags": []
   },
   "outputs": [
    {
     "name": "stdout",
     "output_type": "stream",
     "text": [
      "OOF log loss:  0.01622098435431768\n"
     ]
    }
   ],
   "source": [
    "check = np.zeros([targets.shape[0], targets.shape[1]-1])\n",
    "check[cons_train_index,:] = oof_preds\n",
    "print('OOF log loss: ', log_loss(np.ravel(y), np.ravel(check)))"
   ]
  },
  {
   "cell_type": "code",
   "execution_count": 14,
   "metadata": {
    "execution": {
     "iopub.execute_input": "2020-10-29T17:51:21.641938Z",
     "iopub.status.busy": "2020-10-29T17:51:21.641309Z",
     "iopub.status.idle": "2020-10-29T17:51:23.728624Z",
     "shell.execute_reply": "2020-10-29T17:51:23.727963Z"
    },
    "papermill": {
     "duration": 2.108227,
     "end_time": "2020-10-29T17:51:23.728755",
     "exception": false,
     "start_time": "2020-10-29T17:51:21.620528",
     "status": "completed"
    },
    "tags": []
   },
   "outputs": [],
   "source": [
    "sub.loc[cons_test_index,target_feats] = test_preds\n",
    "sub.loc[noncons_test_index,target_feats] = 0\n",
    "sub.to_csv('submission.csv', index=False)"
   ]
  },
  {
   "cell_type": "code",
   "execution_count": null,
   "metadata": {
    "papermill": {
     "duration": 0.015978,
     "end_time": "2020-10-29T17:51:23.760924",
     "exception": false,
     "start_time": "2020-10-29T17:51:23.744946",
     "status": "completed"
    },
    "tags": []
   },
   "outputs": [],
   "source": []
  }
 ],
 "metadata": {
  "kernelspec": {
   "display_name": "Python 3",
   "language": "python",
   "name": "python3"
  },
  "language_info": {
   "codemirror_mode": {
    "name": "ipython",
    "version": 3
   },
   "file_extension": ".py",
   "mimetype": "text/x-python",
   "name": "python",
   "nbconvert_exporter": "python",
   "pygments_lexer": "ipython3",
   "version": "3.7.6"
  },
  "papermill": {
   "duration": 12449.27764,
   "end_time": "2020-10-29T17:51:23.884369",
   "environment_variables": {},
   "exception": null,
   "input_path": "__notebook__.ipynb",
   "output_path": "__notebook__.ipynb",
   "parameters": {},
   "start_time": "2020-10-29T14:23:54.606729",
   "version": "2.1.0"
  }
 },
 "nbformat": 4,
 "nbformat_minor": 4
}
