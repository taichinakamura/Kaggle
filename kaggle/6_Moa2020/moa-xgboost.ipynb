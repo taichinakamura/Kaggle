{
 "cells": [
  {
   "cell_type": "markdown",
   "metadata": {
    "papermill": {
     "duration": 0.014555,
     "end_time": "2020-11-03T12:37:32.313042",
     "exception": false,
     "start_time": "2020-11-03T12:37:32.298487",
     "status": "completed"
    },
    "tags": []
   },
   "source": [
    "- add pca"
   ]
  },
  {
   "cell_type": "code",
   "execution_count": 1,
   "metadata": {
    "_cell_guid": "b1076dfc-b9ad-4769-8c92-a6c4dae69d19",
    "_uuid": "8f2839f25d086af736a60e9eeb907d3b93b6e0e5",
    "execution": {
     "iopub.execute_input": "2020-11-03T12:37:32.348218Z",
     "iopub.status.busy": "2020-11-03T12:37:32.347491Z",
     "iopub.status.idle": "2020-11-03T12:37:35.202184Z",
     "shell.execute_reply": "2020-11-03T12:37:35.201178Z"
    },
    "papermill": {
     "duration": 2.875883,
     "end_time": "2020-11-03T12:37:35.202307",
     "exception": false,
     "start_time": "2020-11-03T12:37:32.326424",
     "status": "completed"
    },
    "tags": []
   },
   "outputs": [],
   "source": [
    "import os\n",
    "import sys\n",
    "import warnings\n",
    "import numpy as np\n",
    "import pandas as pd \n",
    "import lightgbm as lgb\n",
    "from sklearn.decomposition import PCA\n",
    "import matplotlib.pyplot as plt\n",
    "from xgboost import XGBClassifier\n",
    "from sklearn.model_selection import KFold, StratifiedKFold\n",
    "from category_encoders import CountEncoder\n",
    "from sklearn.pipeline import Pipeline\n",
    "from sklearn.metrics import log_loss, roc_auc_score\n",
    "from sklearn import preprocessing\n",
    "from sklearn.multioutput import MultiOutputClassifier\n",
    "sys.path.append('../input/multilabelstraifier/')\n",
    "from ml_stratifiers import MultilabelStratifiedKFold\n",
    "warnings.filterwarnings('ignore')\n",
    "from sklearn.feature_selection import VarianceThreshold"
   ]
  },
  {
   "cell_type": "code",
   "execution_count": 2,
   "metadata": {
    "execution": {
     "iopub.execute_input": "2020-11-03T12:37:35.235406Z",
     "iopub.status.busy": "2020-11-03T12:37:35.234630Z",
     "iopub.status.idle": "2020-11-03T12:37:35.237431Z",
     "shell.execute_reply": "2020-11-03T12:37:35.236974Z"
    },
    "papermill": {
     "duration": 0.020648,
     "end_time": "2020-11-03T12:37:35.237544",
     "exception": false,
     "start_time": "2020-11-03T12:37:35.216896",
     "status": "completed"
    },
    "tags": []
   },
   "outputs": [],
   "source": [
    "SEED = 42\n",
    "NFOLDS = 5\n",
    "np.random.seed(SEED)\n",
    "DATA_DIR = '/kaggle/input/lish-moa/'\n",
    "p_min = 0.001\n",
    "p_max = 1 - p_min"
   ]
  },
  {
   "cell_type": "code",
   "execution_count": 3,
   "metadata": {
    "_cell_guid": "79c7e3d0-c299-4dcb-8224-4455121ee9b0",
    "_uuid": "d629ff2d2480ee46fbb7e2d37f6b5fab8052498a",
    "execution": {
     "iopub.execute_input": "2020-11-03T12:37:35.270805Z",
     "iopub.status.busy": "2020-11-03T12:37:35.270077Z",
     "iopub.status.idle": "2020-11-03T12:37:41.211079Z",
     "shell.execute_reply": "2020-11-03T12:37:41.210370Z"
    },
    "papermill": {
     "duration": 5.960305,
     "end_time": "2020-11-03T12:37:41.211204",
     "exception": false,
     "start_time": "2020-11-03T12:37:35.250899",
     "status": "completed"
    },
    "tags": []
   },
   "outputs": [],
   "source": [
    "train = pd.read_csv(DATA_DIR + 'train_features.csv')\n",
    "targets = pd.read_csv(DATA_DIR + 'train_targets_scored.csv')\n",
    "\n",
    "test = pd.read_csv(DATA_DIR + 'test_features.csv')\n",
    "sub = pd.read_csv(DATA_DIR + 'sample_submission.csv')"
   ]
  },
  {
   "cell_type": "code",
   "execution_count": 4,
   "metadata": {
    "execution": {
     "iopub.execute_input": "2020-11-03T12:37:41.246290Z",
     "iopub.status.busy": "2020-11-03T12:37:41.245716Z",
     "iopub.status.idle": "2020-11-03T12:37:41.249669Z",
     "shell.execute_reply": "2020-11-03T12:37:41.249110Z"
    },
    "papermill": {
     "duration": 0.02309,
     "end_time": "2020-11-03T12:37:41.249808",
     "exception": false,
     "start_time": "2020-11-03T12:37:41.226718",
     "status": "completed"
    },
    "tags": []
   },
   "outputs": [],
   "source": [
    "target_feats = [ i for i in targets.columns if i != \"sig_id\"]\n",
    "g_feats = [i for i in train.columns if \"g-\" in i]\n",
    "c_feats = [i for i in train.columns if \"c-\" in i]"
   ]
  },
  {
   "cell_type": "code",
   "execution_count": 5,
   "metadata": {
    "execution": {
     "iopub.execute_input": "2020-11-03T12:37:41.289657Z",
     "iopub.status.busy": "2020-11-03T12:37:41.285374Z",
     "iopub.status.idle": "2020-11-03T12:37:41.385029Z",
     "shell.execute_reply": "2020-11-03T12:37:41.384369Z"
    },
    "papermill": {
     "duration": 0.121181,
     "end_time": "2020-11-03T12:37:41.385150",
     "exception": false,
     "start_time": "2020-11-03T12:37:41.263969",
     "status": "completed"
    },
    "tags": []
   },
   "outputs": [],
   "source": [
    "noncons_train_index = train[train.cp_type==\"ctl_vehicle\"].index\n",
    "cons_train_index = train[train.cp_type!=\"ctl_vehicle\"].index\n",
    "noncons_test_index = test[test.cp_type==\"ctl_vehicle\"].index\n",
    "cons_test_index = test[test.cp_type!=\"ctl_vehicle\"].index"
   ]
  },
  {
   "cell_type": "markdown",
   "metadata": {
    "papermill": {
     "duration": 0.015874,
     "end_time": "2020-11-03T12:37:41.417704",
     "exception": false,
     "start_time": "2020-11-03T12:37:41.401830",
     "status": "completed"
    },
    "tags": []
   },
   "source": [
    "# Preprocess"
   ]
  },
  {
   "cell_type": "code",
   "execution_count": 6,
   "metadata": {
    "execution": {
     "iopub.execute_input": "2020-11-03T12:37:41.458413Z",
     "iopub.status.busy": "2020-11-03T12:37:41.457270Z",
     "iopub.status.idle": "2020-11-03T12:37:41.660544Z",
     "shell.execute_reply": "2020-11-03T12:37:41.659967Z"
    },
    "papermill": {
     "duration": 0.22842,
     "end_time": "2020-11-03T12:37:41.660656",
     "exception": false,
     "start_time": "2020-11-03T12:37:41.432236",
     "status": "completed"
    },
    "tags": []
   },
   "outputs": [],
   "source": [
    "test = test[test.index.isin(cons_test_index)].reset_index(drop=True)\n",
    "train = train[train.index.isin(cons_train_index)].reset_index(drop=True)\n",
    "fn_targets = targets[targets.index.isin(cons_train_index)].copy().reset_index(drop=True)\n",
    "y = targets.drop(\"sig_id\", axis=1).copy()"
   ]
  },
  {
   "cell_type": "markdown",
   "metadata": {
    "papermill": {
     "duration": 0.013895,
     "end_time": "2020-11-03T12:37:41.689161",
     "exception": false,
     "start_time": "2020-11-03T12:37:41.675266",
     "status": "completed"
    },
    "tags": []
   },
   "source": [
    "# Feature engineering"
   ]
  },
  {
   "cell_type": "code",
   "execution_count": 7,
   "metadata": {
    "execution": {
     "iopub.execute_input": "2020-11-03T12:37:41.737927Z",
     "iopub.status.busy": "2020-11-03T12:37:41.736879Z",
     "iopub.status.idle": "2020-11-03T12:37:43.162474Z",
     "shell.execute_reply": "2020-11-03T12:37:43.161286Z"
    },
    "papermill": {
     "duration": 1.459376,
     "end_time": "2020-11-03T12:37:43.162614",
     "exception": false,
     "start_time": "2020-11-03T12:37:41.703238",
     "status": "completed"
    },
    "tags": []
   },
   "outputs": [],
   "source": [
    "c_num = 1\n",
    "pca_c_cols = [\"pca-c\"+str(i+1) for i in range(c_num)]\n",
    "pca = PCA(n_components=c_num,random_state=42)\n",
    "c_train = pca.fit_transform(train[c_feats])\n",
    "c_test = pca.transform(test[c_feats])\n",
    "c_train = pd.DataFrame(c_train, columns=pca_c_cols)\n",
    "c_test = pd.DataFrame(c_test, columns=pca_c_cols)\n",
    "\n",
    "g_num = 10\n",
    "pca_g_cols = [\"pca-g\"+str(i+1) for i in range(g_num)]\n",
    "pca = PCA(n_components=g_num, random_state=42)\n",
    "g_train = pca.fit_transform(train[g_feats])\n",
    "g_test = pca.transform(test[g_feats])\n",
    "g_train = pd.DataFrame(g_train, columns=pca_g_cols)\n",
    "g_test = pd.DataFrame(g_test, columns=pca_g_cols)\n",
    "\n",
    "train = pd.concat([train, c_train],axis=1)\n",
    "test = pd.concat([test, c_test],axis=1)\n",
    "train = pd.concat([train, g_train],axis=1)\n",
    "test = pd.concat([test, g_test],axis=1)"
   ]
  },
  {
   "cell_type": "code",
   "execution_count": 8,
   "metadata": {
    "execution": {
     "iopub.execute_input": "2020-11-03T12:37:43.210270Z",
     "iopub.status.busy": "2020-11-03T12:37:43.209118Z",
     "iopub.status.idle": "2020-11-03T12:37:48.030081Z",
     "shell.execute_reply": "2020-11-03T12:37:48.030593Z"
    },
    "papermill": {
     "duration": 4.853096,
     "end_time": "2020-11-03T12:37:48.030728",
     "exception": false,
     "start_time": "2020-11-03T12:37:43.177632",
     "status": "completed"
    },
    "tags": []
   },
   "outputs": [
    {
     "name": "stdout",
     "output_type": "stream",
     "text": [
      "(21948, 900) (3624, 900)\n"
     ]
    }
   ],
   "source": [
    "def fe(df, remove_features):\n",
    "    df['g_sum'] = df[g_feats].sum(axis = 1)\n",
    "    df['g_mean'] = df[g_feats].mean(axis = 1)\n",
    "    df['g_std'] = df[g_feats].std(axis = 1)\n",
    "    df['g_kurt'] = df[g_feats].kurtosis(axis = 1)\n",
    "    df['g_skew'] = df[g_feats].skew(axis = 1)\n",
    "    df['c_sum'] = df[c_feats].sum(axis = 1)\n",
    "    df['c_mean'] = df[c_feats].mean(axis = 1)\n",
    "    df['c_std'] = df[c_feats].std(axis = 1)\n",
    "    df['c_kurt'] = df[c_feats].kurtosis(axis = 1)\n",
    "    df['c_skew'] = df[c_feats].skew(axis = 1)\n",
    "    df['gc_sum'] = df[c_feats + g_feats].sum(axis = 1)\n",
    "    df['gc_mean'] = df[c_feats + g_feats].mean(axis = 1)\n",
    "    df['gc_std'] = df[c_feats + g_feats].std(axis = 1)\n",
    "    df['gc_kurt'] = df[c_feats + g_feats].kurtosis(axis = 1)\n",
    "    df['gc_skew'] = df[c_feats + g_feats].skew(axis = 1)\n",
    "    df.drop(remove_features, axis=1, inplace=True)\n",
    "    df.loc[:, 'cp_dose'] = df.loc[:, 'cp_dose'].map({'D1': 0, 'D2': 1})\n",
    "    return df\n",
    "\n",
    "remove_features = [\"cp_type\" , \"sig_id\"]\n",
    "        \n",
    "train = fe(train, remove_features)\n",
    "test = fe(test, remove_features)\n",
    "    \n",
    "print(train.shape, test.shape)"
   ]
  },
  {
   "cell_type": "markdown",
   "metadata": {
    "papermill": {
     "duration": 0.01589,
     "end_time": "2020-11-03T12:37:48.063581",
     "exception": false,
     "start_time": "2020-11-03T12:37:48.047691",
     "status": "completed"
    },
    "tags": []
   },
   "source": [
    "# modelling"
   ]
  },
  {
   "cell_type": "code",
   "execution_count": 9,
   "metadata": {
    "execution": {
     "iopub.execute_input": "2020-11-03T12:37:48.104321Z",
     "iopub.status.busy": "2020-11-03T12:37:48.103302Z",
     "iopub.status.idle": "2020-11-03T12:37:48.136893Z",
     "shell.execute_reply": "2020-11-03T12:37:48.137357Z"
    },
    "papermill": {
     "duration": 0.058432,
     "end_time": "2020-11-03T12:37:48.137485",
     "exception": false,
     "start_time": "2020-11-03T12:37:48.079053",
     "status": "completed"
    },
    "tags": []
   },
   "outputs": [
    {
     "data": {
      "text/plain": [
       "Pipeline(steps=[('classify',\n",
       "                 MultiOutputClassifier(estimator=XGBClassifier(base_score=None,\n",
       "                                                               booster=None,\n",
       "                                                               colsample_bylevel=None,\n",
       "                                                               colsample_bynode=None,\n",
       "                                                               colsample_bytree=None,\n",
       "                                                               gamma=3.6975,\n",
       "                                                               gpu_id=None,\n",
       "                                                               importance_type='gain',\n",
       "                                                               interaction_constraints=None,\n",
       "                                                               learning_rate=0.0803,\n",
       "                                                               max_delta_step=2.0706,\n",
       "                                                               max_depth=10,\n",
       "                                                               min_child_weight=25.58,\n",
       "                                                               missing=nan,\n",
       "                                                               monotone_constraints=None,\n",
       "                                                               n_estimators=100,\n",
       "                                                               n_jobs=None,\n",
       "                                                               num_parallel_tree=None,\n",
       "                                                               random_state=None,\n",
       "                                                               reg_alpha=None,\n",
       "                                                               reg_lambda=None,\n",
       "                                                               scale_pos_weight=None,\n",
       "                                                               subsample=None,\n",
       "                                                               tree_method='gpu_hist',\n",
       "                                                               validate_parameters=None,\n",
       "                                                               verbosity=None)))])"
      ]
     },
     "execution_count": 9,
     "metadata": {},
     "output_type": "execute_result"
    }
   ],
   "source": [
    "classifier = MultiOutputClassifier(XGBClassifier(tree_method='gpu_hist')) \n",
    "\n",
    "clf = Pipeline([('classify', classifier)\n",
    "               ])\n",
    "\n",
    "params = {'classify__estimator__gamma': 3.6975,\n",
    "          'classify__estimator__learning_rate': 0.0803,\n",
    "          'classify__estimator__max_delta_step': 2.0706,\n",
    "          'classify__estimator__max_depth': 10,\n",
    "          'classify__estimator__min_child_weight': 25.5800,\n",
    "          'classify__estimator__n_estimators': 100,\n",
    "         }\n",
    "\n",
    "clf.set_params(**params)"
   ]
  },
  {
   "cell_type": "code",
   "execution_count": 10,
   "metadata": {
    "execution": {
     "iopub.execute_input": "2020-11-03T12:37:48.184659Z",
     "iopub.status.busy": "2020-11-03T12:37:48.183586Z",
     "iopub.status.idle": "2020-11-03T12:37:48.186884Z",
     "shell.execute_reply": "2020-11-03T12:37:48.186335Z"
    },
    "papermill": {
     "duration": 0.03284,
     "end_time": "2020-11-03T12:37:48.187003",
     "exception": false,
     "start_time": "2020-11-03T12:37:48.154163",
     "status": "completed"
    },
    "tags": []
   },
   "outputs": [],
   "source": [
    "def modelling_xgb(X, y, X_test, seed):\n",
    "    oof_preds = np.zeros(y.shape)\n",
    "    test_preds = np.zeros((X_test.shape[0], y.shape[1]))\n",
    "    oof_losses = []\n",
    "    mskf = MultilabelStratifiedKFold(n_splits=NFOLDS, random_state=seed, shuffle=True)\n",
    "    for fn, (trn_idx, val_idx) in enumerate(mskf.split(X, y)):\n",
    "        print('Starting fold: ', fn)\n",
    "        X_train, X_val = X.iloc[trn_idx,:].to_numpy(), X.iloc[val_idx,:].to_numpy()\n",
    "        y_train, y_val = y.iloc[trn_idx].to_numpy(), y.iloc[val_idx].to_numpy()\n",
    "    \n",
    "        clf.fit(X_train, y_train)\n",
    "        val_preds = clf.predict_proba(X_val) # list of preds per class\n",
    "        val_preds = np.array(val_preds)[:,:,1].T # take the positive class\n",
    "        oof_preds[val_idx] = val_preds\n",
    "    \n",
    "        loss = log_loss(np.ravel(y_val), np.ravel(val_preds))\n",
    "        print(loss)\n",
    "        oof_losses.append(loss)\n",
    "        preds = clf.predict_proba(X_test)\n",
    "        preds = np.array(preds)[:,:,1].T # take the positive class\n",
    "        test_preds += preds / NFOLDS\n",
    "    \n",
    "    print(oof_losses)\n",
    "    print('Mean OOF loss across folds', np.mean(oof_losses))\n",
    "    print('STD OOF loss across folds', np.std(oof_losses))\n",
    "    return oof_preds, test_preds"
   ]
  },
  {
   "cell_type": "code",
   "execution_count": 11,
   "metadata": {
    "execution": {
     "iopub.execute_input": "2020-11-03T12:37:48.228371Z",
     "iopub.status.busy": "2020-11-03T12:37:48.227188Z",
     "iopub.status.idle": "2020-11-03T12:58:50.050164Z",
     "shell.execute_reply": "2020-11-03T12:58:50.050966Z"
    },
    "papermill": {
     "duration": 1261.847945,
     "end_time": "2020-11-03T12:58:50.051146",
     "exception": false,
     "start_time": "2020-11-03T12:37:48.203201",
     "status": "completed"
    },
    "tags": []
   },
   "outputs": [
    {
     "name": "stdout",
     "output_type": "stream",
     "text": [
      "Starting fold:  0\n",
      "0.01772382692577984\n",
      "Starting fold:  1\n",
      "0.017715984802664047\n",
      "Starting fold:  2\n",
      "0.017423999495925054\n",
      "Starting fold:  3\n",
      "0.017750439624358322\n",
      "Starting fold:  4\n",
      "0.017780389260514104\n",
      "[0.01772382692577984, 0.017715984802664047, 0.017423999495925054, 0.017750439624358322, 0.017780389260514104]\n",
      "Mean OOF loss across folds 0.017678928021848277\n",
      "STD OOF loss across folds 0.00012944957485695337\n"
     ]
    }
   ],
   "source": [
    "X = train.copy()\n",
    "y_xgb = fn_targets.drop(\"sig_id\", axis=1).copy()\n",
    "X_test = test.copy()\n",
    "\n",
    "seeds = [42]\n",
    "oof_preds = np.zeros(y_xgb.shape)\n",
    "test_preds = np.zeros((test.shape[0], y_xgb.shape[1]))\n",
    "for seed_ in seeds:\n",
    "    ind_preds, ind_test_preds = modelling_xgb(X, y_xgb, X_test, seed_)\n",
    "    oof_preds += ind_preds / len(seeds)\n",
    "    test_preds += ind_test_preds / len(seeds)"
   ]
  },
  {
   "cell_type": "code",
   "execution_count": 12,
   "metadata": {
    "execution": {
     "iopub.execute_input": "2020-11-03T12:58:50.105125Z",
     "iopub.status.busy": "2020-11-03T12:58:50.104157Z",
     "iopub.status.idle": "2020-11-03T12:58:50.106381Z",
     "shell.execute_reply": "2020-11-03T12:58:50.105814Z"
    },
    "papermill": {
     "duration": 0.032122,
     "end_time": "2020-11-03T12:58:50.106510",
     "exception": false,
     "start_time": "2020-11-03T12:58:50.074388",
     "status": "completed"
    },
    "tags": []
   },
   "outputs": [],
   "source": [
    "#aucs = []\n",
    "#for task_id in range(targets.shape[1]-1):\n",
    "#    aucs.append(roc_auc_score(y_true=targets.iloc[:, task_id+1].values,\n",
    "#                              y_score=oof_preds[:, task_id]))\n",
    "#print(f\"Overall AUC : {np.mean(aucs)}\")"
   ]
  },
  {
   "cell_type": "code",
   "execution_count": 13,
   "metadata": {
    "execution": {
     "iopub.execute_input": "2020-11-03T12:58:50.158876Z",
     "iopub.status.busy": "2020-11-03T12:58:50.157324Z",
     "iopub.status.idle": "2020-11-03T12:58:51.380257Z",
     "shell.execute_reply": "2020-11-03T12:58:51.380754Z"
    },
    "papermill": {
     "duration": 1.251053,
     "end_time": "2020-11-03T12:58:51.380908",
     "exception": false,
     "start_time": "2020-11-03T12:58:50.129855",
     "status": "completed"
    },
    "tags": []
   },
   "outputs": [
    {
     "name": "stdout",
     "output_type": "stream",
     "text": [
      "OOF log loss:  0.01629366099921832\n"
     ]
    }
   ],
   "source": [
    "check = np.zeros([targets.shape[0], targets.shape[1]-1])\n",
    "check[cons_train_index,:] = oof_preds\n",
    "print('OOF log loss: ', log_loss(np.ravel(y), np.ravel(check)))"
   ]
  },
  {
   "cell_type": "code",
   "execution_count": 14,
   "metadata": {
    "execution": {
     "iopub.execute_input": "2020-11-03T12:58:51.426902Z",
     "iopub.status.busy": "2020-11-03T12:58:51.426189Z",
     "iopub.status.idle": "2020-11-03T12:58:51.430786Z",
     "shell.execute_reply": "2020-11-03T12:58:51.430254Z"
    },
    "papermill": {
     "duration": 0.029427,
     "end_time": "2020-11-03T12:58:51.430900",
     "exception": false,
     "start_time": "2020-11-03T12:58:51.401473",
     "status": "completed"
    },
    "tags": []
   },
   "outputs": [],
   "source": [
    "#aucs = []\n",
    "#for task_id in range(targets.shape[1]-1):\n",
    "#    aucs.append(roc_auc_score(y_true=targets.iloc[:, task_id+1].values,\n",
    "#                              y_score=np.clip(oof_preds[:, task_id], p_min,p_max)))\n",
    "#print(f\"Overall AUC : {np.mean(aucs)}\")"
   ]
  },
  {
   "cell_type": "code",
   "execution_count": 15,
   "metadata": {
    "execution": {
     "iopub.execute_input": "2020-11-03T12:58:51.482250Z",
     "iopub.status.busy": "2020-11-03T12:58:51.481074Z",
     "iopub.status.idle": "2020-11-03T12:58:52.756626Z",
     "shell.execute_reply": "2020-11-03T12:58:52.755964Z"
    },
    "papermill": {
     "duration": 1.304338,
     "end_time": "2020-11-03T12:58:52.756732",
     "exception": false,
     "start_time": "2020-11-03T12:58:51.452394",
     "status": "completed"
    },
    "tags": []
   },
   "outputs": [
    {
     "name": "stdout",
     "output_type": "stream",
     "text": [
      "OOF log loss:  0.016375015173433285\n"
     ]
    }
   ],
   "source": [
    "check = np.zeros([targets.shape[0], targets.shape[1]-1])\n",
    "check[cons_train_index,:] = oof_preds\n",
    "print('OOF log loss: ', log_loss(np.ravel(y), np.ravel(np.clip(check,p_min,p_max))))"
   ]
  },
  {
   "cell_type": "code",
   "execution_count": 16,
   "metadata": {
    "execution": {
     "iopub.execute_input": "2020-11-03T12:58:52.806051Z",
     "iopub.status.busy": "2020-11-03T12:58:52.804951Z",
     "iopub.status.idle": "2020-11-03T12:58:55.531591Z",
     "shell.execute_reply": "2020-11-03T12:58:55.530852Z"
    },
    "papermill": {
     "duration": 2.753695,
     "end_time": "2020-11-03T12:58:55.531718",
     "exception": false,
     "start_time": "2020-11-03T12:58:52.778023",
     "status": "completed"
    },
    "tags": []
   },
   "outputs": [],
   "source": [
    "sub.loc[cons_test_index,target_feats] = np.clip(test_preds,p_min,p_max)\n",
    "sub.loc[noncons_test_index,target_feats] = 0\n",
    "sub.to_csv('submission.csv', index=False)"
   ]
  },
  {
   "cell_type": "code",
   "execution_count": null,
   "metadata": {
    "papermill": {
     "duration": 0.022528,
     "end_time": "2020-11-03T12:58:55.577657",
     "exception": false,
     "start_time": "2020-11-03T12:58:55.555129",
     "status": "completed"
    },
    "tags": []
   },
   "outputs": [],
   "source": []
  }
 ],
 "metadata": {
  "kernelspec": {
   "display_name": "Python 3",
   "language": "python",
   "name": "python3"
  },
  "language_info": {
   "codemirror_mode": {
    "name": "ipython",
    "version": 3
   },
   "file_extension": ".py",
   "mimetype": "text/x-python",
   "name": "python",
   "nbconvert_exporter": "python",
   "pygments_lexer": "ipython3",
   "version": "3.7.6"
  },
  "papermill": {
   "duration": 1287.748634,
   "end_time": "2020-11-03T12:58:56.009275",
   "environment_variables": {},
   "exception": null,
   "input_path": "__notebook__.ipynb",
   "output_path": "__notebook__.ipynb",
   "parameters": {},
   "start_time": "2020-11-03T12:37:28.260641",
   "version": "2.1.0"
  }
 },
 "nbformat": 4,
 "nbformat_minor": 4
}
