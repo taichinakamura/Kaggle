{
 "cells": [
  {
   "cell_type": "markdown",
   "metadata": {
    "papermill": {
     "duration": 0.013101,
     "end_time": "2020-10-12T10:31:00.947570",
     "exception": false,
     "start_time": "2020-10-12T10:31:00.934469",
     "status": "completed"
    },
    "tags": []
   },
   "source": [
    "- add new features of g, c stats\n",
    "- change learning rate to 0.0803"
   ]
  },
  {
   "cell_type": "code",
   "execution_count": 1,
   "metadata": {
    "_cell_guid": "b1076dfc-b9ad-4769-8c92-a6c4dae69d19",
    "_uuid": "8f2839f25d086af736a60e9eeb907d3b93b6e0e5",
    "execution": {
     "iopub.execute_input": "2020-10-12T10:31:00.980028Z",
     "iopub.status.busy": "2020-10-12T10:31:00.979389Z",
     "iopub.status.idle": "2020-10-12T10:31:04.355425Z",
     "shell.execute_reply": "2020-10-12T10:31:04.353989Z"
    },
    "papermill": {
     "duration": 3.396206,
     "end_time": "2020-10-12T10:31:04.355972",
     "exception": false,
     "start_time": "2020-10-12T10:31:00.959766",
     "status": "completed"
    },
    "tags": []
   },
   "outputs": [],
   "source": [
    "import os\n",
    "import sys\n",
    "import warnings\n",
    "import numpy as np\n",
    "import pandas as pd \n",
    "import lightgbm as lgb\n",
    "from sklearn.decomposition import PCA\n",
    "import matplotlib.pyplot as plt\n",
    "from xgboost import XGBClassifier\n",
    "from sklearn.model_selection import KFold, StratifiedKFold\n",
    "from category_encoders import CountEncoder\n",
    "from sklearn.pipeline import Pipeline\n",
    "from sklearn.metrics import log_loss, mean_squared_error\n",
    "from sklearn import preprocessing\n",
    "from sklearn.multioutput import MultiOutputClassifier\n",
    "sys.path.append('../input/multilabelstraifier/')\n",
    "from ml_stratifiers import MultilabelStratifiedKFold\n",
    "warnings.filterwarnings('ignore')"
   ]
  },
  {
   "cell_type": "code",
   "execution_count": 2,
   "metadata": {
    "execution": {
     "iopub.execute_input": "2020-10-12T10:31:04.408409Z",
     "iopub.status.busy": "2020-10-12T10:31:04.407031Z",
     "iopub.status.idle": "2020-10-12T10:31:04.410504Z",
     "shell.execute_reply": "2020-10-12T10:31:04.409590Z"
    },
    "papermill": {
     "duration": 0.032008,
     "end_time": "2020-10-12T10:31:04.410664",
     "exception": false,
     "start_time": "2020-10-12T10:31:04.378656",
     "status": "completed"
    },
    "tags": []
   },
   "outputs": [],
   "source": [
    "SEED = 42\n",
    "NFOLDS = 5\n",
    "np.random.seed(SEED)\n",
    "DATA_DIR = '/kaggle/input/lish-moa/'"
   ]
  },
  {
   "cell_type": "code",
   "execution_count": 3,
   "metadata": {
    "_cell_guid": "79c7e3d0-c299-4dcb-8224-4455121ee9b0",
    "_uuid": "d629ff2d2480ee46fbb7e2d37f6b5fab8052498a",
    "execution": {
     "iopub.execute_input": "2020-10-12T10:31:04.464826Z",
     "iopub.status.busy": "2020-10-12T10:31:04.463688Z",
     "iopub.status.idle": "2020-10-12T10:31:10.087298Z",
     "shell.execute_reply": "2020-10-12T10:31:10.085730Z"
    },
    "papermill": {
     "duration": 5.656945,
     "end_time": "2020-10-12T10:31:10.087434",
     "exception": false,
     "start_time": "2020-10-12T10:31:04.430489",
     "status": "completed"
    },
    "tags": []
   },
   "outputs": [],
   "source": [
    "train = pd.read_csv(DATA_DIR + 'train_features.csv')\n",
    "targets = pd.read_csv(DATA_DIR + 'train_targets_scored.csv')\n",
    "\n",
    "test = pd.read_csv(DATA_DIR + 'test_features.csv')\n",
    "sub = pd.read_csv(DATA_DIR + 'sample_submission.csv')"
   ]
  },
  {
   "cell_type": "code",
   "execution_count": 4,
   "metadata": {
    "execution": {
     "iopub.execute_input": "2020-10-12T10:31:10.118680Z",
     "iopub.status.busy": "2020-10-12T10:31:10.116942Z",
     "iopub.status.idle": "2020-10-12T10:31:10.119338Z",
     "shell.execute_reply": "2020-10-12T10:31:10.119835Z"
    },
    "papermill": {
     "duration": 0.020701,
     "end_time": "2020-10-12T10:31:10.119969",
     "exception": false,
     "start_time": "2020-10-12T10:31:10.099268",
     "status": "completed"
    },
    "tags": []
   },
   "outputs": [],
   "source": [
    "target_feats = [ i for i in targets.columns if i != \"sig_id\"]\n",
    "g_feats = [i for i in train.columns if \"g-\" in i]\n",
    "c_feats = [i for i in train.columns if \"c-\" in i]"
   ]
  },
  {
   "cell_type": "code",
   "execution_count": 5,
   "metadata": {
    "execution": {
     "iopub.execute_input": "2020-10-12T10:31:10.155371Z",
     "iopub.status.busy": "2020-10-12T10:31:10.150499Z",
     "iopub.status.idle": "2020-10-12T10:31:10.249337Z",
     "shell.execute_reply": "2020-10-12T10:31:10.248795Z"
    },
    "papermill": {
     "duration": 0.118145,
     "end_time": "2020-10-12T10:31:10.249473",
     "exception": false,
     "start_time": "2020-10-12T10:31:10.131328",
     "status": "completed"
    },
    "tags": []
   },
   "outputs": [],
   "source": [
    "noncons_train_index = train[train.cp_type==\"ctl_vehicle\"].index\n",
    "cons_train_index = train[train.cp_type!=\"ctl_vehicle\"].index\n",
    "noncons_test_index = test[test.cp_type==\"ctl_vehicle\"].index\n",
    "cons_test_index = test[test.cp_type!=\"ctl_vehicle\"].index"
   ]
  },
  {
   "cell_type": "markdown",
   "metadata": {
    "papermill": {
     "duration": 0.011109,
     "end_time": "2020-10-12T10:31:10.272577",
     "exception": false,
     "start_time": "2020-10-12T10:31:10.261468",
     "status": "completed"
    },
    "tags": []
   },
   "source": [
    "# Preprocess"
   ]
  },
  {
   "cell_type": "code",
   "execution_count": 6,
   "metadata": {
    "execution": {
     "iopub.execute_input": "2020-10-12T10:31:10.312404Z",
     "iopub.status.busy": "2020-10-12T10:31:10.311629Z",
     "iopub.status.idle": "2020-10-12T10:31:10.330378Z",
     "shell.execute_reply": "2020-10-12T10:31:10.329781Z"
    },
    "papermill": {
     "duration": 0.044676,
     "end_time": "2020-10-12T10:31:10.330487",
     "exception": false,
     "start_time": "2020-10-12T10:31:10.285811",
     "status": "completed"
    },
    "tags": []
   },
   "outputs": [],
   "source": [
    "categoricals = [\"cp_dose\"]\n",
    "\n",
    "def encoding(tr, te):\n",
    "    for f in categoricals:\n",
    "        lbl = preprocessing.LabelEncoder()\n",
    "        lbl.fit(list(tr[f]))\n",
    "        tr[f] = lbl.transform(list(tr[f]))\n",
    "        te[f] = lbl.transform(list(te[f])) \n",
    "        \n",
    "    return tr, te\n",
    "\n",
    "train, test = encoding(train, test)"
   ]
  },
  {
   "cell_type": "markdown",
   "metadata": {
    "papermill": {
     "duration": 0.011756,
     "end_time": "2020-10-12T10:31:10.354346",
     "exception": false,
     "start_time": "2020-10-12T10:31:10.342590",
     "status": "completed"
    },
    "tags": []
   },
   "source": [
    "# Feature engineering"
   ]
  },
  {
   "cell_type": "code",
   "execution_count": 7,
   "metadata": {
    "execution": {
     "iopub.execute_input": "2020-10-12T10:31:10.396357Z",
     "iopub.status.busy": "2020-10-12T10:31:10.395495Z",
     "iopub.status.idle": "2020-10-12T10:31:15.915775Z",
     "shell.execute_reply": "2020-10-12T10:31:15.916776Z"
    },
    "papermill": {
     "duration": 5.550778,
     "end_time": "2020-10-12T10:31:15.916991",
     "exception": false,
     "start_time": "2020-10-12T10:31:10.366213",
     "status": "completed"
    },
    "tags": []
   },
   "outputs": [
    {
     "name": "stdout",
     "output_type": "stream",
     "text": [
      "(23814, 889) (3982, 889)\n"
     ]
    }
   ],
   "source": [
    "def fe(df, remove_features):\n",
    "    df['g_sum'] = df[g_feats].sum(axis = 1)\n",
    "    df['g_mean'] = df[g_feats].mean(axis = 1)\n",
    "    df['g_std'] = df[g_feats].std(axis = 1)\n",
    "    df['g_kurt'] = df[g_feats].kurtosis(axis = 1)\n",
    "    df['g_skew'] = df[g_feats].skew(axis = 1)\n",
    "    df['c_sum'] = df[c_feats].sum(axis = 1)\n",
    "    df['c_mean'] = df[c_feats].mean(axis = 1)\n",
    "    df['c_std'] = df[c_feats].std(axis = 1)\n",
    "    df['c_kurt'] = df[c_feats].kurtosis(axis = 1)\n",
    "    df['c_skew'] = df[c_feats].skew(axis = 1)\n",
    "    df['gc_sum'] = df[c_feats + g_feats].sum(axis = 1)\n",
    "    df['gc_mean'] = df[c_feats + g_feats].mean(axis = 1)\n",
    "    df['gc_std'] = df[c_feats + g_feats].std(axis = 1)\n",
    "    df['gc_kurt'] = df[c_feats + g_feats].kurtosis(axis = 1)\n",
    "    df['gc_skew'] = df[c_feats + g_feats].skew(axis = 1)\n",
    "    df.drop(remove_features, axis=1, inplace=True)\n",
    "    return df\n",
    "\n",
    "remove_features = [\"cp_type\" , \"sig_id\"]\n",
    "        \n",
    "train = fe(train, remove_features)\n",
    "test = fe(test, remove_features)\n",
    "    \n",
    "print(train.shape, test.shape)"
   ]
  },
  {
   "cell_type": "markdown",
   "metadata": {
    "papermill": {
     "duration": 0.020595,
     "end_time": "2020-10-12T10:31:15.959825",
     "exception": false,
     "start_time": "2020-10-12T10:31:15.939230",
     "status": "completed"
    },
    "tags": []
   },
   "source": [
    "# modelling"
   ]
  },
  {
   "cell_type": "code",
   "execution_count": 8,
   "metadata": {
    "execution": {
     "iopub.execute_input": "2020-10-12T10:31:16.011518Z",
     "iopub.status.busy": "2020-10-12T10:31:16.010527Z",
     "iopub.status.idle": "2020-10-12T10:31:16.080247Z",
     "shell.execute_reply": "2020-10-12T10:31:16.079268Z"
    },
    "papermill": {
     "duration": 0.099092,
     "end_time": "2020-10-12T10:31:16.080447",
     "exception": false,
     "start_time": "2020-10-12T10:31:15.981355",
     "status": "completed"
    },
    "tags": []
   },
   "outputs": [
    {
     "data": {
      "text/plain": [
       "Pipeline(steps=[('classify',\n",
       "                 MultiOutputClassifier(estimator=XGBClassifier(base_score=None,\n",
       "                                                               booster=None,\n",
       "                                                               colsample_bylevel=None,\n",
       "                                                               colsample_bynode=None,\n",
       "                                                               colsample_bytree=None,\n",
       "                                                               gamma=3.6975,\n",
       "                                                               gpu_id=None,\n",
       "                                                               importance_type='gain',\n",
       "                                                               interaction_constraints=None,\n",
       "                                                               learning_rate=0.0803,\n",
       "                                                               max_delta_step=2.0706,\n",
       "                                                               max_depth=10,\n",
       "                                                               min_child_weight=31.58,\n",
       "                                                               missing=nan,\n",
       "                                                               monotone_constraints=None,\n",
       "                                                               n_estimators=166,\n",
       "                                                               n_jobs=None,\n",
       "                                                               num_parallel_tree=None,\n",
       "                                                               random_state=None,\n",
       "                                                               reg_alpha=None,\n",
       "                                                               reg_lambda=None,\n",
       "                                                               scale_pos_weight=None,\n",
       "                                                               subsample=None,\n",
       "                                                               tree_method='gpu_hist',\n",
       "                                                               validate_parameters=None,\n",
       "                                                               verbosity=None)))])"
      ]
     },
     "execution_count": 8,
     "metadata": {},
     "output_type": "execute_result"
    }
   ],
   "source": [
    "classifier = MultiOutputClassifier(XGBClassifier(tree_method='gpu_hist'))\n",
    "\n",
    "clf = Pipeline([('classify', classifier)\n",
    "               ])\n",
    "\n",
    "params = {'classify__estimator__gamma': 3.6975,\n",
    "          'classify__estimator__learning_rate': 0.0803,\n",
    "          'classify__estimator__max_delta_step': 2.0706,\n",
    "          'classify__estimator__max_depth': 10,\n",
    "          'classify__estimator__min_child_weight': 31.5800,\n",
    "          'classify__estimator__n_estimators': 166,\n",
    "         }\n",
    "\n",
    "clf.set_params(**params)"
   ]
  },
  {
   "cell_type": "code",
   "execution_count": 9,
   "metadata": {
    "execution": {
     "iopub.execute_input": "2020-10-12T10:31:16.145448Z",
     "iopub.status.busy": "2020-10-12T10:31:16.144626Z",
     "iopub.status.idle": "2020-10-12T10:31:16.163347Z",
     "shell.execute_reply": "2020-10-12T10:31:16.164448Z"
    },
    "papermill": {
     "duration": 0.060764,
     "end_time": "2020-10-12T10:31:16.164614",
     "exception": false,
     "start_time": "2020-10-12T10:31:16.103850",
     "status": "completed"
    },
    "tags": []
   },
   "outputs": [],
   "source": [
    "def modelling_xgb(X, y, X_test, seed):\n",
    "    oof_preds = np.zeros(y.shape)\n",
    "    test_preds = np.zeros((X_test.shape[0], y.shape[1]))\n",
    "    oof_losses = []\n",
    "    mskf = MultilabelStratifiedKFold(n_splits=NFOLDS, random_state=seed, shuffle=True)\n",
    "    for fn, (trn_idx, val_idx) in enumerate(mskf.split(X, y)):\n",
    "        print('Starting fold: ', fn)\n",
    "        X_train, X_val = X.iloc[trn_idx,:], X.iloc[val_idx,:].to_numpy()\n",
    "        y_train, y_val = y.iloc[trn_idx], y.iloc[val_idx].to_numpy()\n",
    "    \n",
    "        X_train = X_train[X_train.index.isin(cons_train_index)].to_numpy()\n",
    "        y_train = y_train[y_train.index.isin(cons_train_index)].to_numpy()\n",
    "    \n",
    "        clf.fit(X_train, y_train)\n",
    "        val_preds = clf.predict_proba(X_val) # list of preds per class\n",
    "        val_preds = np.array(val_preds)[:,:,1].T # take the positive class\n",
    "        oof_preds[val_idx] = val_preds\n",
    "    \n",
    "        loss = log_loss(np.ravel(y_val), np.ravel(val_preds))\n",
    "        print(loss)\n",
    "        oof_losses.append(loss)\n",
    "        preds = clf.predict_proba(X_test)\n",
    "        preds = np.array(preds)[:,:,1].T # take the positive class\n",
    "        test_preds += preds / NFOLDS\n",
    "    \n",
    "    print(oof_losses)\n",
    "    print('Mean OOF loss across folds', np.mean(oof_losses))\n",
    "    print('STD OOF loss across folds', np.std(oof_losses))\n",
    "    return oof_preds, test_preds"
   ]
  },
  {
   "cell_type": "code",
   "execution_count": 10,
   "metadata": {
    "execution": {
     "iopub.execute_input": "2020-10-12T10:31:16.222847Z",
     "iopub.status.busy": "2020-10-12T10:31:16.222084Z",
     "iopub.status.idle": "2020-10-12T10:56:03.785992Z",
     "shell.execute_reply": "2020-10-12T10:56:03.786703Z"
    },
    "papermill": {
     "duration": 1487.590679,
     "end_time": "2020-10-12T10:56:03.786890",
     "exception": false,
     "start_time": "2020-10-12T10:31:16.196211",
     "status": "completed"
    },
    "tags": []
   },
   "outputs": [
    {
     "name": "stdout",
     "output_type": "stream",
     "text": [
      "Starting fold:  0\n",
      "0.01671861894520932\n",
      "Starting fold:  1\n",
      "0.016885537966761784\n",
      "Starting fold:  2\n",
      "0.016748042318291873\n",
      "Starting fold:  3\n",
      "0.016496208213280707\n",
      "Starting fold:  4\n",
      "0.016668623542416817\n",
      "[0.01671861894520932, 0.016885537966761784, 0.016748042318291873, 0.016496208213280707, 0.016668623542416817]\n",
      "Mean OOF loss across folds 0.0167034061971921\n",
      "STD OOF loss across folds 0.00012612424834726742\n"
     ]
    }
   ],
   "source": [
    "X = train.copy()\n",
    "y = targets.drop(\"sig_id\", axis=1).copy()\n",
    "X_test = test.copy()\n",
    "\n",
    "seeds = [42]\n",
    "oof_preds = np.zeros(y.shape)\n",
    "test_preds = np.zeros((test.shape[0], y.shape[1]))\n",
    "for seed_ in seeds:\n",
    "    ind_preds, ind_test_preds = modelling_xgb(X, y, X_test, seed_)\n",
    "    oof_preds += ind_preds / len(seeds)\n",
    "    test_preds += ind_test_preds / len(seeds)"
   ]
  },
  {
   "cell_type": "code",
   "execution_count": 11,
   "metadata": {
    "execution": {
     "iopub.execute_input": "2020-10-12T10:56:03.835487Z",
     "iopub.status.busy": "2020-10-12T10:56:03.834292Z",
     "iopub.status.idle": "2020-10-12T10:56:07.894039Z",
     "shell.execute_reply": "2020-10-12T10:56:07.894650Z"
    },
    "papermill": {
     "duration": 4.08728,
     "end_time": "2020-10-12T10:56:07.894818",
     "exception": false,
     "start_time": "2020-10-12T10:56:03.807538",
     "status": "completed"
    },
    "tags": []
   },
   "outputs": [
    {
     "name": "stdout",
     "output_type": "stream",
     "text": [
      "OOF log loss:  0.016436818512973263\n"
     ]
    }
   ],
   "source": [
    "train_checkscore = targets.copy()\n",
    "train_checkscore.iloc[:,1:] = oof_preds\n",
    "train_checkscore.loc[train_checkscore.index.isin(noncons_train_index),target_feats] = 0\n",
    "print('OOF log loss: ', log_loss(np.ravel(y), np.ravel(np.array(train_checkscore.iloc[:,1:]))))"
   ]
  },
  {
   "cell_type": "code",
   "execution_count": 12,
   "metadata": {
    "execution": {
     "iopub.execute_input": "2020-10-12T10:56:07.938493Z",
     "iopub.status.busy": "2020-10-12T10:56:07.937642Z",
     "iopub.status.idle": "2020-10-12T10:56:10.526350Z",
     "shell.execute_reply": "2020-10-12T10:56:10.525573Z"
    },
    "papermill": {
     "duration": 2.613138,
     "end_time": "2020-10-12T10:56:10.526480",
     "exception": false,
     "start_time": "2020-10-12T10:56:07.913342",
     "status": "completed"
    },
    "tags": []
   },
   "outputs": [],
   "source": [
    "sub.iloc[:,1:] = test_preds\n",
    "sub.loc[sub.index.isin(noncons_test_index),target_feats] = 0\n",
    "sub.to_csv('submission.csv', index=False)"
   ]
  }
 ],
 "metadata": {
  "kernelspec": {
   "display_name": "Python 3",
   "language": "python",
   "name": "python3"
  },
  "language_info": {
   "codemirror_mode": {
    "name": "ipython",
    "version": 3
   },
   "file_extension": ".py",
   "mimetype": "text/x-python",
   "name": "python",
   "nbconvert_exporter": "python",
   "pygments_lexer": "ipython3",
   "version": "3.7.6"
  },
  "papermill": {
   "duration": 1515.43149,
   "end_time": "2020-10-12T10:56:11.829994",
   "environment_variables": {},
   "exception": null,
   "input_path": "__notebook__.ipynb",
   "output_path": "__notebook__.ipynb",
   "parameters": {},
   "start_time": "2020-10-12T10:30:56.398504",
   "version": "2.1.0"
  }
 },
 "nbformat": 4,
 "nbformat_minor": 4
}
