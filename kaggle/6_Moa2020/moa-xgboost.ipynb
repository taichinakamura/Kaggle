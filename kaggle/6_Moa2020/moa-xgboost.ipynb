{
 "cells": [
  {
   "cell_type": "markdown",
   "metadata": {
    "papermill": {
     "duration": 0.014959,
     "end_time": "2020-10-03T02:59:43.037704",
     "exception": false,
     "start_time": "2020-10-03T02:59:43.022745",
     "status": "completed"
    },
    "tags": []
   },
   "source": [
    "- change colsample_bytree to 0.7522"
   ]
  },
  {
   "cell_type": "code",
   "execution_count": 1,
   "metadata": {
    "_cell_guid": "b1076dfc-b9ad-4769-8c92-a6c4dae69d19",
    "_uuid": "8f2839f25d086af736a60e9eeb907d3b93b6e0e5",
    "execution": {
     "iopub.execute_input": "2020-10-03T02:59:43.074819Z",
     "iopub.status.busy": "2020-10-03T02:59:43.073893Z",
     "iopub.status.idle": "2020-10-03T02:59:46.732851Z",
     "shell.execute_reply": "2020-10-03T02:59:46.733553Z"
    },
    "papermill": {
     "duration": 3.682061,
     "end_time": "2020-10-03T02:59:46.733837",
     "exception": false,
     "start_time": "2020-10-03T02:59:43.051776",
     "status": "completed"
    },
    "tags": []
   },
   "outputs": [],
   "source": [
    "import os\n",
    "import sys\n",
    "import warnings\n",
    "import numpy as np\n",
    "import pandas as pd \n",
    "import matplotlib.pyplot as plt\n",
    "from xgboost import XGBClassifier\n",
    "from sklearn.model_selection import KFold\n",
    "from category_encoders import CountEncoder\n",
    "from sklearn.pipeline import Pipeline\n",
    "from sklearn.metrics import log_loss\n",
    "from sklearn import preprocessing\n",
    "from sklearn.multioutput import MultiOutputClassifier\n",
    "sys.path.append('../input/multilabelstraifier/')\n",
    "from ml_stratifiers import MultilabelStratifiedKFold\n",
    "warnings.filterwarnings('ignore')"
   ]
  },
  {
   "cell_type": "code",
   "execution_count": 2,
   "metadata": {
    "execution": {
     "iopub.execute_input": "2020-10-03T02:59:46.781974Z",
     "iopub.status.busy": "2020-10-03T02:59:46.780864Z",
     "iopub.status.idle": "2020-10-03T02:59:46.783590Z",
     "shell.execute_reply": "2020-10-03T02:59:46.782816Z"
    },
    "papermill": {
     "duration": 0.031127,
     "end_time": "2020-10-03T02:59:46.783737",
     "exception": false,
     "start_time": "2020-10-03T02:59:46.752610",
     "status": "completed"
    },
    "tags": []
   },
   "outputs": [],
   "source": [
    "SEED = 42\n",
    "NFOLDS = 5\n",
    "np.random.seed(SEED)\n",
    "DATA_DIR = '/kaggle/input/lish-moa/'"
   ]
  },
  {
   "cell_type": "code",
   "execution_count": 3,
   "metadata": {
    "_cell_guid": "79c7e3d0-c299-4dcb-8224-4455121ee9b0",
    "_uuid": "d629ff2d2480ee46fbb7e2d37f6b5fab8052498a",
    "execution": {
     "iopub.execute_input": "2020-10-03T02:59:46.844843Z",
     "iopub.status.busy": "2020-10-03T02:59:46.843868Z",
     "iopub.status.idle": "2020-10-03T02:59:52.938181Z",
     "shell.execute_reply": "2020-10-03T02:59:52.937550Z"
    },
    "papermill": {
     "duration": 6.136044,
     "end_time": "2020-10-03T02:59:52.938385",
     "exception": false,
     "start_time": "2020-10-03T02:59:46.802341",
     "status": "completed"
    },
    "tags": []
   },
   "outputs": [],
   "source": [
    "train = pd.read_csv(DATA_DIR + 'train_features.csv')\n",
    "targets = pd.read_csv(DATA_DIR + 'train_targets_scored.csv')\n",
    "\n",
    "test = pd.read_csv(DATA_DIR + 'test_features.csv')\n",
    "sub = pd.read_csv(DATA_DIR + 'sample_submission.csv')"
   ]
  },
  {
   "cell_type": "code",
   "execution_count": 4,
   "metadata": {
    "execution": {
     "iopub.execute_input": "2020-10-03T02:59:52.976822Z",
     "iopub.status.busy": "2020-10-03T02:59:52.974681Z",
     "iopub.status.idle": "2020-10-03T02:59:52.977585Z",
     "shell.execute_reply": "2020-10-03T02:59:52.978137Z"
    },
    "papermill": {
     "duration": 0.025314,
     "end_time": "2020-10-03T02:59:52.978319",
     "exception": false,
     "start_time": "2020-10-03T02:59:52.953005",
     "status": "completed"
    },
    "tags": []
   },
   "outputs": [],
   "source": [
    "target_feats = [ i for i in targets.columns if i != \"sig_id\"]\n",
    "g_feats = [i for i in train.columns if \"g-\" in i]\n",
    "c_feats = [i for i in train.columns if \"c-\" in i]"
   ]
  },
  {
   "cell_type": "code",
   "execution_count": 5,
   "metadata": {
    "execution": {
     "iopub.execute_input": "2020-10-03T02:59:53.043788Z",
     "iopub.status.busy": "2020-10-03T02:59:53.021045Z",
     "iopub.status.idle": "2020-10-03T02:59:53.123625Z",
     "shell.execute_reply": "2020-10-03T02:59:53.122968Z"
    },
    "papermill": {
     "duration": 0.130974,
     "end_time": "2020-10-03T02:59:53.123757",
     "exception": false,
     "start_time": "2020-10-03T02:59:52.992783",
     "status": "completed"
    },
    "tags": []
   },
   "outputs": [],
   "source": [
    "noncons_train_index = train[train.cp_type==\"ctl_vehicle\"].index\n",
    "cons_train_index = train[train.cp_type!=\"ctl_vehicle\"].index\n",
    "noncons_test_index = test[test.cp_type==\"ctl_vehicle\"].index\n",
    "cons_test_index = test[test.cp_type!=\"ctl_vehicle\"].index"
   ]
  },
  {
   "cell_type": "markdown",
   "metadata": {
    "papermill": {
     "duration": 0.014493,
     "end_time": "2020-10-03T02:59:53.154494",
     "exception": false,
     "start_time": "2020-10-03T02:59:53.140001",
     "status": "completed"
    },
    "tags": []
   },
   "source": [
    "# Preprocess"
   ]
  },
  {
   "cell_type": "code",
   "execution_count": 6,
   "metadata": {
    "execution": {
     "iopub.execute_input": "2020-10-03T02:59:53.204029Z",
     "iopub.status.busy": "2020-10-03T02:59:53.198578Z",
     "iopub.status.idle": "2020-10-03T03:00:00.645624Z",
     "shell.execute_reply": "2020-10-03T03:00:00.644921Z"
    },
    "papermill": {
     "duration": 7.475728,
     "end_time": "2020-10-03T03:00:00.645752",
     "exception": false,
     "start_time": "2020-10-03T02:59:53.170024",
     "status": "completed"
    },
    "tags": []
   },
   "outputs": [],
   "source": [
    "# normalization by ctl group\n",
    "train_ctl = train[train.index.isin(noncons_train_index)].copy().reset_index(drop=True)\n",
    "test_ctl = test[test.index.isin(noncons_test_index)].copy().reset_index(drop=True)\n",
    "ctl_df = pd.concat([train_ctl, test_ctl])\n",
    "\n",
    "ctl_group_data = ctl_df.groupby([\"cp_dose\", \"cp_time\"]).agg({\"mean\"}).reset_index()\n",
    "mean_g_feats = [\"mean-\" + i for i in g_feats]\n",
    "mean_c_feats = [\"mean-\" + i for i in c_feats]\n",
    "columns = [\"cp_dose\", \"cp_time\"] + mean_g_feats + mean_c_feats\n",
    "ctl_group_data.columns = columns\n",
    "\n",
    "#train_cons = train_feat[train_feat.index.isin(cons_train_index)].copy().reset_index(drop=True)\n",
    "#test_cons = test_feat[test_feat.index.isin(cons_test_index)].copy().reset_index(drop=True)\n",
    "#n_train_score = train_score[train_score.index.isin(cons_train_index)].copy().reset_index(drop=True)\n",
    "#n_train_nonscore = train_nonscore[train_nonscore.index.isin(cons_train_index)].copy().reset_index(drop=True)\n",
    "\n",
    "train = pd.merge(train, ctl_group_data, on=[\"cp_time\", \"cp_dose\"], how=\"left\")\n",
    "test = pd.merge(test, ctl_group_data, on=[\"cp_time\", \"cp_dose\"], how=\"left\")\n",
    "\n",
    "for i in range(len(g_feats)):\n",
    "    train[\"diff-g-\"+str(i)] = train[\"g-\"+str(i)] - train[\"mean-g-\"+str(i)]\n",
    "    test[\"diff-g-\"+str(i)] = test[\"g-\"+str(i)] - test[\"mean-g-\"+str(i)]\n",
    "    \n",
    "for i in range(len(c_feats)):\n",
    "    train[\"diff-c-\"+str(i)] = train[\"c-\"+str(i)] - train[\"mean-c-\"+str(i)]\n",
    "    test[\"diff-c-\"+str(i)] = test[\"c-\"+str(i)] - test[\"mean-c-\"+str(i)]"
   ]
  },
  {
   "cell_type": "code",
   "execution_count": 7,
   "metadata": {
    "execution": {
     "iopub.execute_input": "2020-10-03T03:00:00.696803Z",
     "iopub.status.busy": "2020-10-03T03:00:00.694684Z",
     "iopub.status.idle": "2020-10-03T03:00:00.733150Z",
     "shell.execute_reply": "2020-10-03T03:00:00.732485Z"
    },
    "papermill": {
     "duration": 0.072652,
     "end_time": "2020-10-03T03:00:00.733316",
     "exception": false,
     "start_time": "2020-10-03T03:00:00.660664",
     "status": "completed"
    },
    "tags": []
   },
   "outputs": [],
   "source": [
    "categoricals = [\"cp_dose\"]\n",
    "\n",
    "def encoding(tr, te):\n",
    "    for f in categoricals:\n",
    "        lbl = preprocessing.LabelEncoder()\n",
    "        lbl.fit(list(tr[f]))\n",
    "        tr[f] = lbl.transform(list(tr[f]))\n",
    "        te[f] = lbl.transform(list(te[f])) \n",
    "        \n",
    "    return tr, te\n",
    "\n",
    "train, test = encoding(train, test)"
   ]
  },
  {
   "cell_type": "markdown",
   "metadata": {
    "papermill": {
     "duration": 0.014982,
     "end_time": "2020-10-03T03:00:00.763744",
     "exception": false,
     "start_time": "2020-10-03T03:00:00.748762",
     "status": "completed"
    },
    "tags": []
   },
   "source": [
    "# Feature engineering"
   ]
  },
  {
   "cell_type": "code",
   "execution_count": 8,
   "metadata": {
    "execution": {
     "iopub.execute_input": "2020-10-03T03:00:00.806252Z",
     "iopub.status.busy": "2020-10-03T03:00:00.802949Z",
     "iopub.status.idle": "2020-10-03T03:00:01.285079Z",
     "shell.execute_reply": "2020-10-03T03:00:01.285682Z"
    },
    "papermill": {
     "duration": 0.506449,
     "end_time": "2020-10-03T03:00:01.285847",
     "exception": false,
     "start_time": "2020-10-03T03:00:00.779398",
     "status": "completed"
    },
    "tags": []
   },
   "outputs": [
    {
     "name": "stdout",
     "output_type": "stream",
     "text": [
      "(23814, 874) (3982, 874)\n"
     ]
    }
   ],
   "source": [
    "def fe(df, remove_features):\n",
    "    df.drop(remove_features, axis=1, inplace=True)\n",
    "    return df\n",
    "\n",
    "remove_features = [\"cp_type\" , \"sig_id\"] + mean_g_feats + mean_c_feats + g_feats + c_feats \n",
    "#for i in [i for i in train.columns if i != \"sig_id\"]:\n",
    "#    if i not in remove_features and (n_train_feat[i].std() == 0):\n",
    "#        remove_features.append(i)\n",
    "        \n",
    "train = fe(train, remove_features)\n",
    "test = fe(test, remove_features)\n",
    "    \n",
    "print(train.shape, test.shape)"
   ]
  },
  {
   "cell_type": "markdown",
   "metadata": {
    "papermill": {
     "duration": 0.015471,
     "end_time": "2020-10-03T03:00:01.317347",
     "exception": false,
     "start_time": "2020-10-03T03:00:01.301876",
     "status": "completed"
    },
    "tags": []
   },
   "source": [
    "# modelling"
   ]
  },
  {
   "cell_type": "code",
   "execution_count": 9,
   "metadata": {
    "execution": {
     "iopub.execute_input": "2020-10-03T03:00:01.361366Z",
     "iopub.status.busy": "2020-10-03T03:00:01.360424Z",
     "iopub.status.idle": "2020-10-03T03:00:01.398963Z",
     "shell.execute_reply": "2020-10-03T03:00:01.399622Z"
    },
    "papermill": {
     "duration": 0.06651,
     "end_time": "2020-10-03T03:00:01.399792",
     "exception": false,
     "start_time": "2020-10-03T03:00:01.333282",
     "status": "completed"
    },
    "tags": []
   },
   "outputs": [
    {
     "data": {
      "text/plain": [
       "Pipeline(steps=[('classify',\n",
       "                 MultiOutputClassifier(estimator=XGBClassifier(base_score=None,\n",
       "                                                               booster=None,\n",
       "                                                               colsample_bylevel=None,\n",
       "                                                               colsample_bynode=None,\n",
       "                                                               colsample_bytree=0.7522,\n",
       "                                                               gamma=3.6975,\n",
       "                                                               gpu_id=None,\n",
       "                                                               importance_type='gain',\n",
       "                                                               interaction_constraints=None,\n",
       "                                                               learning_rate=0.0503,\n",
       "                                                               max_delta_step=2.0706,\n",
       "                                                               max_depth=10,\n",
       "                                                               min_child_weight=31.58,\n",
       "                                                               missing=nan,\n",
       "                                                               monotone_constraints=None,\n",
       "                                                               n_estimators=166,\n",
       "                                                               n_jobs=None,\n",
       "                                                               num_parallel_tree=None,\n",
       "                                                               random_state=None,\n",
       "                                                               reg_alpha=None,\n",
       "                                                               reg_lambda=None,\n",
       "                                                               scale_pos_weight=None,\n",
       "                                                               subsample=0.8639,\n",
       "                                                               tree_method='gpu_hist',\n",
       "                                                               validate_parameters=None,\n",
       "                                                               verbosity=None)))])"
      ]
     },
     "execution_count": 9,
     "metadata": {},
     "output_type": "execute_result"
    }
   ],
   "source": [
    "classifier = MultiOutputClassifier(XGBClassifier(tree_method='gpu_hist'))\n",
    "\n",
    "clf = Pipeline([('classify', classifier)\n",
    "               ])\n",
    "\n",
    "params = {'classify__estimator__colsample_bytree': 0.7522,\n",
    "          'classify__estimator__gamma': 3.6975,\n",
    "          'classify__estimator__learning_rate': 0.0503,\n",
    "          'classify__estimator__max_delta_step': 2.0706,\n",
    "          'classify__estimator__max_depth': 10,\n",
    "          'classify__estimator__min_child_weight': 31.5800,\n",
    "          'classify__estimator__n_estimators': 166,\n",
    "          'classify__estimator__subsample': 0.8639\n",
    "         }\n",
    "\n",
    "clf.set_params(**params)"
   ]
  },
  {
   "cell_type": "code",
   "execution_count": 10,
   "metadata": {
    "execution": {
     "iopub.execute_input": "2020-10-03T03:00:01.440472Z",
     "iopub.status.busy": "2020-10-03T03:00:01.438902Z",
     "iopub.status.idle": "2020-10-03T03:00:01.542366Z",
     "shell.execute_reply": "2020-10-03T03:00:01.541750Z"
    },
    "papermill": {
     "duration": 0.126309,
     "end_time": "2020-10-03T03:00:01.542495",
     "exception": false,
     "start_time": "2020-10-03T03:00:01.416186",
     "status": "completed"
    },
    "tags": []
   },
   "outputs": [],
   "source": [
    "X = train.copy()\n",
    "y = targets.drop(\"sig_id\", axis=1).copy()\n",
    "X_test = test.copy()"
   ]
  },
  {
   "cell_type": "code",
   "execution_count": 11,
   "metadata": {
    "execution": {
     "iopub.execute_input": "2020-10-03T03:00:01.594795Z",
     "iopub.status.busy": "2020-10-03T03:00:01.593627Z",
     "iopub.status.idle": "2020-10-03T03:24:56.264533Z",
     "shell.execute_reply": "2020-10-03T03:24:56.265389Z"
    },
    "papermill": {
     "duration": 1494.706513,
     "end_time": "2020-10-03T03:24:56.265590",
     "exception": false,
     "start_time": "2020-10-03T03:00:01.559077",
     "status": "completed"
    },
    "tags": []
   },
   "outputs": [
    {
     "name": "stdout",
     "output_type": "stream",
     "text": [
      "Starting fold:  0\n",
      "0.01690865470844782\n",
      "Starting fold:  1\n",
      "0.017011516647738287\n",
      "Starting fold:  2\n",
      "0.016959000138704702\n",
      "Starting fold:  3\n",
      "0.017147154520798288\n",
      "Starting fold:  4\n",
      "0.016962504545744488\n",
      "[0.01690865470844782, 0.017011516647738287, 0.016959000138704702, 0.017147154520798288, 0.016962504545744488]\n",
      "Mean OOF loss across folds 0.016997766112286716\n",
      "STD OOF loss across folds 8.14775980251472e-05\n"
     ]
    }
   ],
   "source": [
    "oof_preds = np.zeros(y.shape)\n",
    "test_preds = np.zeros((test.shape[0], y.shape[1]))\n",
    "oof_losses = []\n",
    "mskf = MultilabelStratifiedKFold(n_splits=NFOLDS, random_state=SEED)\n",
    "for fn, (trn_idx, val_idx) in enumerate(mskf.split(X, y)):\n",
    "    print('Starting fold: ', fn)\n",
    "    X_train, X_val = X.iloc[trn_idx,:], X.iloc[val_idx,:].to_numpy()\n",
    "    y_train, y_val = y.iloc[trn_idx], y.iloc[val_idx].to_numpy()\n",
    "    \n",
    "    X_train = X_train[X_train.index.isin(cons_train_index)].to_numpy()\n",
    "    y_train = y_train[y_train.index.isin(cons_train_index)].to_numpy()\n",
    "    \n",
    "    clf.fit(X_train, y_train)\n",
    "    val_preds = clf.predict_proba(X_val) # list of preds per class\n",
    "    val_preds = np.array(val_preds)[:,:,1].T # take the positive class\n",
    "    oof_preds[val_idx] = val_preds\n",
    "    \n",
    "    loss = log_loss(np.ravel(y_val), np.ravel(val_preds))\n",
    "    print(loss)\n",
    "    oof_losses.append(loss)\n",
    "    preds = clf.predict_proba(X_test)\n",
    "    preds = np.array(preds)[:,:,1].T # take the positive class\n",
    "    test_preds += preds / NFOLDS\n",
    "    \n",
    "print(oof_losses)\n",
    "print('Mean OOF loss across folds', np.mean(oof_losses))\n",
    "print('STD OOF loss across folds', np.std(oof_losses))"
   ]
  },
  {
   "cell_type": "code",
   "execution_count": 12,
   "metadata": {
    "execution": {
     "iopub.execute_input": "2020-10-03T03:24:56.327229Z",
     "iopub.status.busy": "2020-10-03T03:24:56.326422Z",
     "iopub.status.idle": "2020-10-03T03:25:01.229028Z",
     "shell.execute_reply": "2020-10-03T03:25:01.229647Z"
    },
    "papermill": {
     "duration": 4.939708,
     "end_time": "2020-10-03T03:25:01.229803",
     "exception": false,
     "start_time": "2020-10-03T03:24:56.290095",
     "status": "completed"
    },
    "tags": []
   },
   "outputs": [
    {
     "name": "stdout",
     "output_type": "stream",
     "text": [
      "OOF log loss:  0.016706320613830112\n"
     ]
    }
   ],
   "source": [
    "train_checkscore = targets.copy()\n",
    "train_checkscore.iloc[:,1:] = oof_preds\n",
    "train_checkscore.loc[train_checkscore.index.isin(noncons_train_index),target_feats] = 0\n",
    "print('OOF log loss: ', log_loss(np.ravel(y), np.ravel(np.array(train_checkscore.iloc[:,1:]))))"
   ]
  },
  {
   "cell_type": "code",
   "execution_count": 13,
   "metadata": {
    "execution": {
     "iopub.execute_input": "2020-10-03T03:25:01.280847Z",
     "iopub.status.busy": "2020-10-03T03:25:01.279803Z",
     "iopub.status.idle": "2020-10-03T03:25:04.090274Z",
     "shell.execute_reply": "2020-10-03T03:25:04.089604Z"
    },
    "papermill": {
     "duration": 2.8389,
     "end_time": "2020-10-03T03:25:04.090402",
     "exception": false,
     "start_time": "2020-10-03T03:25:01.251502",
     "status": "completed"
    },
    "tags": []
   },
   "outputs": [],
   "source": [
    "sub.iloc[:,1:] = test_preds\n",
    "sub.loc[sub.index.isin(noncons_test_index),target_feats] = 0\n",
    "sub.to_csv('submission.csv', index=False)"
   ]
  },
  {
   "cell_type": "code",
   "execution_count": null,
   "metadata": {
    "papermill": {
     "duration": 0.021278,
     "end_time": "2020-10-03T03:25:04.133829",
     "exception": false,
     "start_time": "2020-10-03T03:25:04.112551",
     "status": "completed"
    },
    "tags": []
   },
   "outputs": [],
   "source": []
  }
 ],
 "metadata": {
  "kernelspec": {
   "display_name": "Python 3",
   "language": "python",
   "name": "python3"
  },
  "language_info": {
   "codemirror_mode": {
    "name": "ipython",
    "version": 3
   },
   "file_extension": ".py",
   "mimetype": "text/x-python",
   "name": "python",
   "nbconvert_exporter": "python",
   "pygments_lexer": "ipython3",
   "version": "3.7.6"
  },
  "papermill": {
   "duration": 1526.436947,
   "end_time": "2020-10-03T03:25:04.564280",
   "environment_variables": {},
   "exception": null,
   "input_path": "__notebook__.ipynb",
   "output_path": "__notebook__.ipynb",
   "parameters": {},
   "start_time": "2020-10-03T02:59:38.127333",
   "version": "2.1.0"
  }
 },
 "nbformat": 4,
 "nbformat_minor": 4
}
