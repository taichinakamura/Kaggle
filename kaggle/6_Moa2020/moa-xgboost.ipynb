{
 "cells": [
  {
   "cell_type": "markdown",
   "metadata": {
    "papermill": {
     "duration": 0.018519,
     "end_time": "2020-11-04T10:22:39.548397",
     "exception": false,
     "start_time": "2020-11-04T10:22:39.529878",
     "status": "completed"
    },
    "tags": []
   },
   "source": [
    "- additional pca\n",
    "- import variance threshold\n",
    "- change valdiation method"
   ]
  },
  {
   "cell_type": "code",
   "execution_count": 1,
   "metadata": {
    "_cell_guid": "b1076dfc-b9ad-4769-8c92-a6c4dae69d19",
    "_uuid": "8f2839f25d086af736a60e9eeb907d3b93b6e0e5",
    "execution": {
     "iopub.execute_input": "2020-11-04T10:22:39.593530Z",
     "iopub.status.busy": "2020-11-04T10:22:39.592587Z",
     "iopub.status.idle": "2020-11-04T10:22:42.436729Z",
     "shell.execute_reply": "2020-11-04T10:22:42.435775Z"
    },
    "papermill": {
     "duration": 2.870589,
     "end_time": "2020-11-04T10:22:42.436862",
     "exception": false,
     "start_time": "2020-11-04T10:22:39.566273",
     "status": "completed"
    },
    "tags": []
   },
   "outputs": [],
   "source": [
    "import os\n",
    "import sys\n",
    "import warnings\n",
    "import numpy as np\n",
    "import pandas as pd \n",
    "import lightgbm as lgb\n",
    "from sklearn.decomposition import PCA\n",
    "import matplotlib.pyplot as plt\n",
    "from xgboost import XGBClassifier\n",
    "from sklearn.model_selection import KFold, StratifiedKFold\n",
    "from category_encoders import CountEncoder\n",
    "from sklearn.pipeline import Pipeline\n",
    "from sklearn.metrics import log_loss, roc_auc_score\n",
    "from sklearn import preprocessing\n",
    "from sklearn.multioutput import MultiOutputClassifier\n",
    "sys.path.append('../input/multilabelstraifier/')\n",
    "from ml_stratifiers import MultilabelStratifiedKFold\n",
    "warnings.filterwarnings('ignore')\n",
    "from sklearn.feature_selection import VarianceThreshold"
   ]
  },
  {
   "cell_type": "code",
   "execution_count": 2,
   "metadata": {
    "execution": {
     "iopub.execute_input": "2020-11-04T10:22:42.479528Z",
     "iopub.status.busy": "2020-11-04T10:22:42.478582Z",
     "iopub.status.idle": "2020-11-04T10:22:42.481617Z",
     "shell.execute_reply": "2020-11-04T10:22:42.481055Z"
    },
    "papermill": {
     "duration": 0.026509,
     "end_time": "2020-11-04T10:22:42.481741",
     "exception": false,
     "start_time": "2020-11-04T10:22:42.455232",
     "status": "completed"
    },
    "tags": []
   },
   "outputs": [],
   "source": [
    "SEED = 42\n",
    "NFOLDS = 5\n",
    "np.random.seed(SEED)\n",
    "DATA_DIR = '/kaggle/input/lish-moa/'\n",
    "p_min = 0.001\n",
    "p_max = 1 - p_min"
   ]
  },
  {
   "cell_type": "code",
   "execution_count": 3,
   "metadata": {
    "_cell_guid": "79c7e3d0-c299-4dcb-8224-4455121ee9b0",
    "_uuid": "d629ff2d2480ee46fbb7e2d37f6b5fab8052498a",
    "execution": {
     "iopub.execute_input": "2020-11-04T10:22:42.525131Z",
     "iopub.status.busy": "2020-11-04T10:22:42.524328Z",
     "iopub.status.idle": "2020-11-04T10:22:48.975957Z",
     "shell.execute_reply": "2020-11-04T10:22:48.975116Z"
    },
    "papermill": {
     "duration": 6.476473,
     "end_time": "2020-11-04T10:22:48.976109",
     "exception": false,
     "start_time": "2020-11-04T10:22:42.499636",
     "status": "completed"
    },
    "tags": []
   },
   "outputs": [],
   "source": [
    "train = pd.read_csv(DATA_DIR + 'train_features.csv')\n",
    "targets = pd.read_csv(DATA_DIR + 'train_targets_scored.csv')\n",
    "\n",
    "test = pd.read_csv(DATA_DIR + 'test_features.csv')\n",
    "sub = pd.read_csv(DATA_DIR + 'sample_submission.csv')\n",
    "drug = pd.read_csv(DATA_DIR + 'train_drug.csv')"
   ]
  },
  {
   "cell_type": "code",
   "execution_count": 4,
   "metadata": {
    "execution": {
     "iopub.execute_input": "2020-11-04T10:22:49.021936Z",
     "iopub.status.busy": "2020-11-04T10:22:49.020955Z",
     "iopub.status.idle": "2020-11-04T10:22:49.026167Z",
     "shell.execute_reply": "2020-11-04T10:22:49.025321Z"
    },
    "papermill": {
     "duration": 0.029942,
     "end_time": "2020-11-04T10:22:49.026296",
     "exception": false,
     "start_time": "2020-11-04T10:22:48.996354",
     "status": "completed"
    },
    "tags": []
   },
   "outputs": [],
   "source": [
    "target_feats = [ i for i in targets.columns if i != \"sig_id\"]\n",
    "g_feats = [i for i in train.columns if \"g-\" in i]\n",
    "c_feats = [i for i in train.columns if \"c-\" in i]"
   ]
  },
  {
   "cell_type": "code",
   "execution_count": 5,
   "metadata": {
    "execution": {
     "iopub.execute_input": "2020-11-04T10:22:49.077327Z",
     "iopub.status.busy": "2020-11-04T10:22:49.072350Z",
     "iopub.status.idle": "2020-11-04T10:22:49.181078Z",
     "shell.execute_reply": "2020-11-04T10:22:49.180470Z"
    },
    "papermill": {
     "duration": 0.135796,
     "end_time": "2020-11-04T10:22:49.181203",
     "exception": false,
     "start_time": "2020-11-04T10:22:49.045407",
     "status": "completed"
    },
    "tags": []
   },
   "outputs": [],
   "source": [
    "noncons_train_index = train[train.cp_type==\"ctl_vehicle\"].index\n",
    "cons_train_index = train[train.cp_type!=\"ctl_vehicle\"].index\n",
    "noncons_test_index = test[test.cp_type==\"ctl_vehicle\"].index\n",
    "cons_test_index = test[test.cp_type!=\"ctl_vehicle\"].index"
   ]
  },
  {
   "cell_type": "markdown",
   "metadata": {
    "papermill": {
     "duration": 0.019095,
     "end_time": "2020-11-04T10:22:49.220100",
     "exception": false,
     "start_time": "2020-11-04T10:22:49.201005",
     "status": "completed"
    },
    "tags": []
   },
   "source": [
    "# Preprocess"
   ]
  },
  {
   "cell_type": "code",
   "execution_count": 6,
   "metadata": {
    "execution": {
     "iopub.execute_input": "2020-11-04T10:22:49.270104Z",
     "iopub.status.busy": "2020-11-04T10:22:49.268891Z",
     "iopub.status.idle": "2020-11-04T10:22:49.501036Z",
     "shell.execute_reply": "2020-11-04T10:22:49.501663Z"
    },
    "papermill": {
     "duration": 0.262076,
     "end_time": "2020-11-04T10:22:49.501871",
     "exception": false,
     "start_time": "2020-11-04T10:22:49.239795",
     "status": "completed"
    },
    "tags": []
   },
   "outputs": [],
   "source": [
    "test = test[test.index.isin(cons_test_index)].reset_index(drop=True)\n",
    "train = train[train.index.isin(cons_train_index)].reset_index(drop=True)\n",
    "fn_targets = targets[targets.index.isin(cons_train_index)].copy().reset_index(drop=True)\n",
    "y = targets.drop(\"sig_id\", axis=1).copy()\n",
    "drug = drug[drug.index.isin(cons_train_index)].copy().reset_index(drop=True)"
   ]
  },
  {
   "cell_type": "code",
   "execution_count": 7,
   "metadata": {
    "execution": {
     "iopub.execute_input": "2020-11-04T10:22:49.572132Z",
     "iopub.status.busy": "2020-11-04T10:22:49.559371Z",
     "iopub.status.idle": "2020-11-04T10:22:50.107862Z",
     "shell.execute_reply": "2020-11-04T10:22:50.107099Z"
    },
    "papermill": {
     "duration": 0.587162,
     "end_time": "2020-11-04T10:22:50.108003",
     "exception": false,
     "start_time": "2020-11-04T10:22:49.520841",
     "status": "completed"
    },
    "tags": []
   },
   "outputs": [
    {
     "data": {
      "text/plain": [
       "array([[1, 1, 4, ..., 1, 0, 1]], dtype=int8)"
      ]
     },
     "execution_count": 7,
     "metadata": {},
     "output_type": "execute_result"
    }
   ],
   "source": [
    "# https://www.kaggle.com/c/lish-moa/discussion/195195\n",
    "seed = 34\n",
    "\n",
    "folds = []\n",
    "    \n",
    "# LOAD FILES\n",
    "train_score = fn_targets.merge(drug, on='sig_id', how='left') \n",
    "\n",
    "# LOCATE DRUGS\n",
    "vc = train_score.drug_id.value_counts()\n",
    "vc1 = vc.loc[vc <= 18].index.sort_values()\n",
    "vc2 = vc.loc[vc > 18].index.sort_values()\n",
    "    \n",
    "# STRATIFY DRUGS 18X OR LESS\n",
    "dct1 = {}; dct2 = {}\n",
    "skf = MultilabelStratifiedKFold(n_splits = NFOLDS, shuffle = True, random_state = seed)\n",
    "tmp = train_score.groupby('drug_id')[target_feats].mean().loc[vc1]\n",
    "for fold,(idxT,idxV) in enumerate(skf.split(tmp,tmp[target_feats])):\n",
    "    dd = {k:fold for k in tmp.index[idxV].values}\n",
    "    dct1.update(dd)\n",
    "\n",
    "# STRATIFY DRUGS MORE THAN 18X\n",
    "skf = MultilabelStratifiedKFold(n_splits = NFOLDS, shuffle = True, random_state = seed)\n",
    "tmp = train_score.loc[train_score.drug_id.isin(vc2)].reset_index(drop = True)\n",
    "for fold,(idxT,idxV) in enumerate(skf.split(tmp,tmp[target_feats])):\n",
    "    dd = {k:fold for k in tmp.sig_id[idxV].values}\n",
    "    dct2.update(dd)\n",
    "\n",
    "# ASSIGN FOLDS\n",
    "train_score['fold'] = train_score.drug_id.map(dct1)\n",
    "train_score.loc[train_score.fold.isna(),'fold'] = train_score.loc[train_score.fold.isna(),'sig_id'].map(dct2)\n",
    "train_score.fold = train_score.fold.astype('int8')\n",
    "folds.append(train_score.fold.values)\n",
    "    \n",
    "np.array(folds)"
   ]
  },
  {
   "cell_type": "markdown",
   "metadata": {
    "papermill": {
     "duration": 0.018858,
     "end_time": "2020-11-04T10:22:50.147914",
     "exception": false,
     "start_time": "2020-11-04T10:22:50.129056",
     "status": "completed"
    },
    "tags": []
   },
   "source": [
    "# Feature engineering"
   ]
  },
  {
   "cell_type": "code",
   "execution_count": 8,
   "metadata": {
    "execution": {
     "iopub.execute_input": "2020-11-04T10:22:50.200288Z",
     "iopub.status.busy": "2020-11-04T10:22:50.198600Z",
     "iopub.status.idle": "2020-11-04T10:22:50.631079Z",
     "shell.execute_reply": "2020-11-04T10:22:50.631782Z"
    },
    "papermill": {
     "duration": 0.463965,
     "end_time": "2020-11-04T10:22:50.631941",
     "exception": false,
     "start_time": "2020-11-04T10:22:50.167976",
     "status": "completed"
    },
    "tags": []
   },
   "outputs": [],
   "source": [
    "X = train[g_feats+c_feats].copy().values\n",
    "select = VarianceThreshold(threshold=0.8)\n",
    "X_new = select.fit_transform(X)\n",
    "drop_feats = list(np.array(train[g_feats+c_feats].columns)[select.get_support()==False])\n",
    "len(drop_feats)\n",
    "\n",
    "train.drop(drop_feats, axis=1, inplace=True)\n",
    "test.drop(drop_feats, axis=1, inplace=True)\n",
    "\n",
    "g_feats = [i for i in train.columns if \"g-\" in i]\n",
    "c_feats = [i for i in train.columns if \"c-\" in i]"
   ]
  },
  {
   "cell_type": "code",
   "execution_count": 9,
   "metadata": {
    "execution": {
     "iopub.execute_input": "2020-11-04T10:22:50.692846Z",
     "iopub.status.busy": "2020-11-04T10:22:50.685789Z",
     "iopub.status.idle": "2020-11-04T10:22:52.587071Z",
     "shell.execute_reply": "2020-11-04T10:22:52.586409Z"
    },
    "papermill": {
     "duration": 1.93595,
     "end_time": "2020-11-04T10:22:52.587201",
     "exception": false,
     "start_time": "2020-11-04T10:22:50.651251",
     "status": "completed"
    },
    "tags": []
   },
   "outputs": [],
   "source": [
    "c_num = 10\n",
    "pca_c_cols = [\"pca-c\"+str(i+1) for i in range(c_num)]\n",
    "pca = PCA(n_components=c_num,random_state=42)\n",
    "c_train = pca.fit_transform(train[c_feats])\n",
    "c_test = pca.transform(test[c_feats])\n",
    "c_train = pd.DataFrame(c_train, columns=pca_c_cols)\n",
    "c_test = pd.DataFrame(c_test, columns=pca_c_cols)\n",
    "\n",
    "g_num = 80\n",
    "pca_g_cols = [\"pca-g\"+str(i+1) for i in range(g_num)]\n",
    "pca = PCA(n_components=g_num, random_state=42)\n",
    "g_train = pca.fit_transform(train[g_feats])\n",
    "g_test = pca.transform(test[g_feats])\n",
    "g_train = pd.DataFrame(g_train, columns=pca_g_cols)\n",
    "g_test = pd.DataFrame(g_test, columns=pca_g_cols)\n",
    "\n",
    "train = pd.concat([train, c_train],axis=1)\n",
    "test = pd.concat([test, c_test],axis=1)\n",
    "train = pd.concat([train, g_train],axis=1)\n",
    "test = pd.concat([test, g_test],axis=1)"
   ]
  },
  {
   "cell_type": "code",
   "execution_count": 10,
   "metadata": {
    "execution": {
     "iopub.execute_input": "2020-11-04T10:22:52.645039Z",
     "iopub.status.busy": "2020-11-04T10:22:52.643617Z",
     "iopub.status.idle": "2020-11-04T10:22:57.929334Z",
     "shell.execute_reply": "2020-11-04T10:22:57.928826Z"
    },
    "papermill": {
     "duration": 5.323455,
     "end_time": "2020-11-04T10:22:57.929477",
     "exception": false,
     "start_time": "2020-11-04T10:22:52.606022",
     "status": "completed"
    },
    "tags": []
   },
   "outputs": [
    {
     "name": "stdout",
     "output_type": "stream",
     "text": [
      "(21948, 914) (3624, 914)\n"
     ]
    }
   ],
   "source": [
    "def fe(df, remove_features):\n",
    "    df['g_sum'] = df[g_feats].sum(axis = 1)\n",
    "    df['g_mean'] = df[g_feats].mean(axis = 1)\n",
    "    df['g_std'] = df[g_feats].std(axis = 1)\n",
    "    df['g_kurt'] = df[g_feats].kurtosis(axis = 1)\n",
    "    df['g_skew'] = df[g_feats].skew(axis = 1)\n",
    "    df['c_sum'] = df[c_feats].sum(axis = 1)\n",
    "    df['c_mean'] = df[c_feats].mean(axis = 1)\n",
    "    df['c_std'] = df[c_feats].std(axis = 1)\n",
    "    df['c_kurt'] = df[c_feats].kurtosis(axis = 1)\n",
    "    df['c_skew'] = df[c_feats].skew(axis = 1)\n",
    "    df['gc_sum'] = df[c_feats + g_feats].sum(axis = 1)\n",
    "    df['gc_mean'] = df[c_feats + g_feats].mean(axis = 1)\n",
    "    df['gc_std'] = df[c_feats + g_feats].std(axis = 1)\n",
    "    df['gc_kurt'] = df[c_feats + g_feats].kurtosis(axis = 1)\n",
    "    df['gc_skew'] = df[c_feats + g_feats].skew(axis = 1)\n",
    "    df.drop(remove_features, axis=1, inplace=True)\n",
    "    df.loc[:, 'cp_dose'] = df.loc[:, 'cp_dose'].map({'D1': 0, 'D2': 1})\n",
    "    return df\n",
    "\n",
    "remove_features = [\"cp_type\" , \"sig_id\"]\n",
    "        \n",
    "train = fe(train, remove_features)\n",
    "test = fe(test, remove_features)\n",
    "    \n",
    "print(train.shape, test.shape)"
   ]
  },
  {
   "cell_type": "code",
   "execution_count": 11,
   "metadata": {
    "execution": {
     "iopub.execute_input": "2020-11-04T10:22:57.978870Z",
     "iopub.status.busy": "2020-11-04T10:22:57.976953Z",
     "iopub.status.idle": "2020-11-04T10:22:57.979618Z",
     "shell.execute_reply": "2020-11-04T10:22:57.980179Z"
    },
    "papermill": {
     "duration": 0.030501,
     "end_time": "2020-11-04T10:22:57.980320",
     "exception": false,
     "start_time": "2020-11-04T10:22:57.949819",
     "status": "completed"
    },
    "tags": []
   },
   "outputs": [],
   "source": [
    "train[\"fold\"] = np.array(folds).reshape(-1,1)"
   ]
  },
  {
   "cell_type": "markdown",
   "metadata": {
    "papermill": {
     "duration": 0.020174,
     "end_time": "2020-11-04T10:22:58.021088",
     "exception": false,
     "start_time": "2020-11-04T10:22:58.000914",
     "status": "completed"
    },
    "tags": []
   },
   "source": [
    "# modelling"
   ]
  },
  {
   "cell_type": "code",
   "execution_count": 12,
   "metadata": {
    "execution": {
     "iopub.execute_input": "2020-11-04T10:22:58.069579Z",
     "iopub.status.busy": "2020-11-04T10:22:58.068875Z",
     "iopub.status.idle": "2020-11-04T10:22:58.104807Z",
     "shell.execute_reply": "2020-11-04T10:22:58.105322Z"
    },
    "papermill": {
     "duration": 0.064028,
     "end_time": "2020-11-04T10:22:58.105486",
     "exception": false,
     "start_time": "2020-11-04T10:22:58.041458",
     "status": "completed"
    },
    "tags": []
   },
   "outputs": [
    {
     "data": {
      "text/plain": [
       "Pipeline(steps=[('classify',\n",
       "                 MultiOutputClassifier(estimator=XGBClassifier(base_score=None,\n",
       "                                                               booster=None,\n",
       "                                                               colsample_bylevel=None,\n",
       "                                                               colsample_bynode=None,\n",
       "                                                               colsample_bytree=None,\n",
       "                                                               gamma=3.6975,\n",
       "                                                               gpu_id=None,\n",
       "                                                               importance_type='gain',\n",
       "                                                               interaction_constraints=None,\n",
       "                                                               learning_rate=0.0803,\n",
       "                                                               max_delta_step=2.0706,\n",
       "                                                               max_depth=10,\n",
       "                                                               min_child_weight=25.58,\n",
       "                                                               missing=nan,\n",
       "                                                               monotone_constraints=None,\n",
       "                                                               n_estimators=100,\n",
       "                                                               n_jobs=None,\n",
       "                                                               num_parallel_tree=None,\n",
       "                                                               random_state=None,\n",
       "                                                               reg_alpha=None,\n",
       "                                                               reg_lambda=None,\n",
       "                                                               scale_pos_weight=None,\n",
       "                                                               subsample=None,\n",
       "                                                               tree_method='gpu_hist',\n",
       "                                                               validate_parameters=None,\n",
       "                                                               verbosity=None)))])"
      ]
     },
     "execution_count": 12,
     "metadata": {},
     "output_type": "execute_result"
    }
   ],
   "source": [
    "classifier = MultiOutputClassifier(XGBClassifier(tree_method='gpu_hist')) \n",
    "\n",
    "clf = Pipeline([('classify', classifier)\n",
    "               ])\n",
    "\n",
    "params = {'classify__estimator__gamma': 3.6975,\n",
    "          'classify__estimator__learning_rate': 0.0803,\n",
    "          'classify__estimator__max_delta_step': 2.0706,\n",
    "          'classify__estimator__max_depth': 10,\n",
    "          'classify__estimator__min_child_weight': 25.5800,\n",
    "          'classify__estimator__n_estimators': 100,\n",
    "         }\n",
    "\n",
    "clf.set_params(**params)"
   ]
  },
  {
   "cell_type": "code",
   "execution_count": 13,
   "metadata": {
    "execution": {
     "iopub.execute_input": "2020-11-04T10:22:58.163349Z",
     "iopub.status.busy": "2020-11-04T10:22:58.160125Z",
     "iopub.status.idle": "2020-11-04T10:22:58.166519Z",
     "shell.execute_reply": "2020-11-04T10:22:58.165709Z"
    },
    "papermill": {
     "duration": 0.041194,
     "end_time": "2020-11-04T10:22:58.166640",
     "exception": false,
     "start_time": "2020-11-04T10:22:58.125446",
     "status": "completed"
    },
    "tags": []
   },
   "outputs": [],
   "source": [
    "def modelling_xgb(X, y, X_test, seed):\n",
    "    oof_preds = np.zeros(y.shape)\n",
    "    test_preds = np.zeros((X_test.shape[0], y.shape[1]))\n",
    "    oof_losses = []\n",
    "    for fn in range(NFOLDS):\n",
    "        print('Starting fold: ', fn)\n",
    "        val_idx = X.iloc[:,-1] == fn\n",
    "        trn_idx = X.iloc[:,-1] != fn\n",
    "        X_train, X_val = X.loc[trn_idx,:].to_numpy(), X.loc[val_idx,:].to_numpy()\n",
    "        y_train, y_val = y.loc[trn_idx].to_numpy(), y.loc[val_idx].to_numpy()\n",
    "        X_train = np.delete(X_train, -1, 1)\n",
    "        X_val = np.delete(X_val, -1, 1)\n",
    "    \n",
    "        clf.fit(X_train, y_train)\n",
    "        val_preds = clf.predict_proba(X_val) # list of preds per class\n",
    "        val_preds = np.array(val_preds)[:,:,1].T # take the positive class\n",
    "        oof_preds[val_idx] = val_preds\n",
    "    \n",
    "        loss = log_loss(np.ravel(y_val), np.ravel(val_preds))\n",
    "        print(loss)\n",
    "        oof_losses.append(loss)\n",
    "        preds = clf.predict_proba(X_test)\n",
    "        preds = np.array(preds)[:,:,1].T # take the positive class\n",
    "        test_preds += preds / NFOLDS\n",
    "    \n",
    "    print(oof_losses)\n",
    "    print('Mean OOF loss across folds', np.mean(oof_losses))\n",
    "    print('STD OOF loss across folds', np.std(oof_losses))\n",
    "    return oof_preds, test_preds"
   ]
  },
  {
   "cell_type": "code",
   "execution_count": 14,
   "metadata": {
    "execution": {
     "iopub.execute_input": "2020-11-04T10:22:58.218145Z",
     "iopub.status.busy": "2020-11-04T10:22:58.216724Z",
     "iopub.status.idle": "2020-11-04T10:45:52.433546Z",
     "shell.execute_reply": "2020-11-04T10:45:52.434418Z"
    },
    "papermill": {
     "duration": 1374.246812,
     "end_time": "2020-11-04T10:45:52.434631",
     "exception": false,
     "start_time": "2020-11-04T10:22:58.187819",
     "status": "completed"
    },
    "tags": []
   },
   "outputs": [
    {
     "name": "stdout",
     "output_type": "stream",
     "text": [
      "Starting fold:  0\n",
      "0.01802298004472023\n",
      "Starting fold:  1\n",
      "0.018461632031383953\n",
      "Starting fold:  2\n",
      "0.01771447134739482\n",
      "Starting fold:  3\n",
      "0.0180343302189189\n",
      "Starting fold:  4\n",
      "0.01803448574623002\n",
      "[0.01802298004472023, 0.018461632031383953, 0.01771447134739482, 0.0180343302189189, 0.01803448574623002]\n",
      "Mean OOF loss across folds 0.018053579877729584\n",
      "STD OOF loss across folds 0.00023798010019748418\n"
     ]
    }
   ],
   "source": [
    "X = train.copy()\n",
    "y_xgb = fn_targets.drop(\"sig_id\", axis=1).copy()\n",
    "X_test = test.copy()\n",
    "\n",
    "seeds = [42]\n",
    "oof_preds = np.zeros(y_xgb.shape)\n",
    "test_preds = np.zeros((test.shape[0], y_xgb.shape[1]))\n",
    "for seed_ in seeds:\n",
    "    ind_preds, ind_test_preds = modelling_xgb(X, y_xgb, X_test, seed_)\n",
    "    oof_preds += ind_preds / len(seeds)\n",
    "    test_preds += ind_test_preds / len(seeds)"
   ]
  },
  {
   "cell_type": "code",
   "execution_count": 15,
   "metadata": {
    "execution": {
     "iopub.execute_input": "2020-11-04T10:45:52.505604Z",
     "iopub.status.busy": "2020-11-04T10:45:52.504536Z",
     "iopub.status.idle": "2020-11-04T10:45:52.506722Z",
     "shell.execute_reply": "2020-11-04T10:45:52.507279Z"
    },
    "papermill": {
     "duration": 0.03354,
     "end_time": "2020-11-04T10:45:52.507435",
     "exception": false,
     "start_time": "2020-11-04T10:45:52.473895",
     "status": "completed"
    },
    "tags": []
   },
   "outputs": [],
   "source": [
    "#aucs = []\n",
    "#for task_id in range(targets.shape[1]-1):\n",
    "#    aucs.append(roc_auc_score(y_true=targets.iloc[:, task_id+1].values,\n",
    "#                              y_score=oof_preds[:, task_id]))\n",
    "#print(f\"Overall AUC : {np.mean(aucs)}\")"
   ]
  },
  {
   "cell_type": "code",
   "execution_count": 16,
   "metadata": {
    "execution": {
     "iopub.execute_input": "2020-11-04T10:45:52.571623Z",
     "iopub.status.busy": "2020-11-04T10:45:52.569860Z",
     "iopub.status.idle": "2020-11-04T10:45:53.898628Z",
     "shell.execute_reply": "2020-11-04T10:45:53.898011Z"
    },
    "papermill": {
     "duration": 1.362297,
     "end_time": "2020-11-04T10:45:53.898744",
     "exception": false,
     "start_time": "2020-11-04T10:45:52.536447",
     "status": "completed"
    },
    "tags": []
   },
   "outputs": [
    {
     "name": "stdout",
     "output_type": "stream",
     "text": [
      "OOF log loss:  0.01663886078344363\n"
     ]
    }
   ],
   "source": [
    "check = np.zeros([targets.shape[0], targets.shape[1]-1])\n",
    "check[cons_train_index,:] = oof_preds\n",
    "print('OOF log loss: ', log_loss(np.ravel(y), np.ravel(check)))"
   ]
  },
  {
   "cell_type": "code",
   "execution_count": 17,
   "metadata": {
    "execution": {
     "iopub.execute_input": "2020-11-04T10:45:53.956200Z",
     "iopub.status.busy": "2020-11-04T10:45:53.954001Z",
     "iopub.status.idle": "2020-11-04T10:45:53.956947Z",
     "shell.execute_reply": "2020-11-04T10:45:53.957495Z"
    },
    "papermill": {
     "duration": 0.033845,
     "end_time": "2020-11-04T10:45:53.957658",
     "exception": false,
     "start_time": "2020-11-04T10:45:53.923813",
     "status": "completed"
    },
    "tags": []
   },
   "outputs": [],
   "source": [
    "#aucs = []\n",
    "#for task_id in range(targets.shape[1]-1):\n",
    "#    aucs.append(roc_auc_score(y_true=targets.iloc[:, task_id+1].values,\n",
    "#                              y_score=np.clip(oof_preds[:, task_id], p_min,p_max)))\n",
    "#print(f\"Overall AUC : {np.mean(aucs)}\")"
   ]
  },
  {
   "cell_type": "code",
   "execution_count": 18,
   "metadata": {
    "execution": {
     "iopub.execute_input": "2020-11-04T10:45:54.016690Z",
     "iopub.status.busy": "2020-11-04T10:45:54.015571Z",
     "iopub.status.idle": "2020-11-04T10:45:55.365371Z",
     "shell.execute_reply": "2020-11-04T10:45:55.364788Z"
    },
    "papermill": {
     "duration": 1.382656,
     "end_time": "2020-11-04T10:45:55.365513",
     "exception": false,
     "start_time": "2020-11-04T10:45:53.982857",
     "status": "completed"
    },
    "tags": []
   },
   "outputs": [
    {
     "name": "stdout",
     "output_type": "stream",
     "text": [
      "OOF log loss:  0.01671837272518806\n"
     ]
    }
   ],
   "source": [
    "check = np.zeros([targets.shape[0], targets.shape[1]-1])\n",
    "check[cons_train_index,:] = oof_preds\n",
    "print('OOF log loss: ', log_loss(np.ravel(y), np.ravel(np.clip(check,p_min,p_max))))"
   ]
  },
  {
   "cell_type": "code",
   "execution_count": 19,
   "metadata": {
    "execution": {
     "iopub.execute_input": "2020-11-04T10:45:55.425265Z",
     "iopub.status.busy": "2020-11-04T10:45:55.424064Z",
     "iopub.status.idle": "2020-11-04T10:45:58.271866Z",
     "shell.execute_reply": "2020-11-04T10:45:58.270930Z"
    },
    "papermill": {
     "duration": 2.880079,
     "end_time": "2020-11-04T10:45:58.271994",
     "exception": false,
     "start_time": "2020-11-04T10:45:55.391915",
     "status": "completed"
    },
    "tags": []
   },
   "outputs": [],
   "source": [
    "sub.loc[cons_test_index,target_feats] = np.clip(test_preds,p_min,p_max)\n",
    "sub.loc[noncons_test_index,target_feats] = 0\n",
    "sub.to_csv('submission.csv', index=False)"
   ]
  },
  {
   "cell_type": "code",
   "execution_count": null,
   "metadata": {
    "papermill": {
     "duration": 0.027134,
     "end_time": "2020-11-04T10:45:58.326904",
     "exception": false,
     "start_time": "2020-11-04T10:45:58.299770",
     "status": "completed"
    },
    "tags": []
   },
   "outputs": [],
   "source": []
  }
 ],
 "metadata": {
  "kernelspec": {
   "display_name": "Python 3",
   "language": "python",
   "name": "python3"
  },
  "language_info": {
   "codemirror_mode": {
    "name": "ipython",
    "version": 3
   },
   "file_extension": ".py",
   "mimetype": "text/x-python",
   "name": "python",
   "nbconvert_exporter": "python",
   "pygments_lexer": "ipython3",
   "version": "3.7.6"
  },
  "papermill": {
   "duration": 1404.231657,
   "end_time": "2020-11-04T10:45:59.637045",
   "environment_variables": {},
   "exception": null,
   "input_path": "__notebook__.ipynb",
   "output_path": "__notebook__.ipynb",
   "parameters": {},
   "start_time": "2020-11-04T10:22:35.405388",
   "version": "2.1.0"
  }
 },
 "nbformat": 4,
 "nbformat_minor": 4
}
