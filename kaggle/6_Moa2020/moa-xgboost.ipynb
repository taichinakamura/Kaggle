{
 "cells": [
  {
   "cell_type": "markdown",
   "metadata": {
    "papermill": {
     "duration": 0.014819,
     "end_time": "2020-11-03T13:59:25.927097",
     "exception": false,
     "start_time": "2020-11-03T13:59:25.912278",
     "status": "completed"
    },
    "tags": []
   },
   "source": [
    "- additional pca\n",
    "- import variance threshold"
   ]
  },
  {
   "cell_type": "code",
   "execution_count": 1,
   "metadata": {
    "_cell_guid": "b1076dfc-b9ad-4769-8c92-a6c4dae69d19",
    "_uuid": "8f2839f25d086af736a60e9eeb907d3b93b6e0e5",
    "execution": {
     "iopub.execute_input": "2020-11-03T13:59:25.963061Z",
     "iopub.status.busy": "2020-11-03T13:59:25.962204Z",
     "iopub.status.idle": "2020-11-03T13:59:28.947000Z",
     "shell.execute_reply": "2020-11-03T13:59:28.945892Z"
    },
    "papermill": {
     "duration": 3.005914,
     "end_time": "2020-11-03T13:59:28.947127",
     "exception": false,
     "start_time": "2020-11-03T13:59:25.941213",
     "status": "completed"
    },
    "tags": []
   },
   "outputs": [],
   "source": [
    "import os\n",
    "import sys\n",
    "import warnings\n",
    "import numpy as np\n",
    "import pandas as pd \n",
    "import lightgbm as lgb\n",
    "from sklearn.decomposition import PCA\n",
    "import matplotlib.pyplot as plt\n",
    "from xgboost import XGBClassifier\n",
    "from sklearn.model_selection import KFold, StratifiedKFold\n",
    "from category_encoders import CountEncoder\n",
    "from sklearn.pipeline import Pipeline\n",
    "from sklearn.metrics import log_loss, roc_auc_score\n",
    "from sklearn import preprocessing\n",
    "from sklearn.multioutput import MultiOutputClassifier\n",
    "sys.path.append('../input/multilabelstraifier/')\n",
    "from ml_stratifiers import MultilabelStratifiedKFold\n",
    "warnings.filterwarnings('ignore')\n",
    "from sklearn.feature_selection import VarianceThreshold"
   ]
  },
  {
   "cell_type": "code",
   "execution_count": 2,
   "metadata": {
    "execution": {
     "iopub.execute_input": "2020-11-03T13:59:28.980873Z",
     "iopub.status.busy": "2020-11-03T13:59:28.980070Z",
     "iopub.status.idle": "2020-11-03T13:59:28.983096Z",
     "shell.execute_reply": "2020-11-03T13:59:28.982624Z"
    },
    "papermill": {
     "duration": 0.021559,
     "end_time": "2020-11-03T13:59:28.983195",
     "exception": false,
     "start_time": "2020-11-03T13:59:28.961636",
     "status": "completed"
    },
    "tags": []
   },
   "outputs": [],
   "source": [
    "SEED = 42\n",
    "NFOLDS = 5\n",
    "np.random.seed(SEED)\n",
    "DATA_DIR = '/kaggle/input/lish-moa/'\n",
    "p_min = 0.001\n",
    "p_max = 1 - p_min"
   ]
  },
  {
   "cell_type": "code",
   "execution_count": 3,
   "metadata": {
    "_cell_guid": "79c7e3d0-c299-4dcb-8224-4455121ee9b0",
    "_uuid": "d629ff2d2480ee46fbb7e2d37f6b5fab8052498a",
    "execution": {
     "iopub.execute_input": "2020-11-03T13:59:29.017401Z",
     "iopub.status.busy": "2020-11-03T13:59:29.016743Z",
     "iopub.status.idle": "2020-11-03T13:59:34.994630Z",
     "shell.execute_reply": "2020-11-03T13:59:34.993249Z"
    },
    "papermill": {
     "duration": 5.997509,
     "end_time": "2020-11-03T13:59:34.994758",
     "exception": false,
     "start_time": "2020-11-03T13:59:28.997249",
     "status": "completed"
    },
    "tags": []
   },
   "outputs": [],
   "source": [
    "train = pd.read_csv(DATA_DIR + 'train_features.csv')\n",
    "targets = pd.read_csv(DATA_DIR + 'train_targets_scored.csv')\n",
    "\n",
    "test = pd.read_csv(DATA_DIR + 'test_features.csv')\n",
    "sub = pd.read_csv(DATA_DIR + 'sample_submission.csv')"
   ]
  },
  {
   "cell_type": "code",
   "execution_count": 4,
   "metadata": {
    "execution": {
     "iopub.execute_input": "2020-11-03T13:59:35.033579Z",
     "iopub.status.busy": "2020-11-03T13:59:35.032869Z",
     "iopub.status.idle": "2020-11-03T13:59:35.035778Z",
     "shell.execute_reply": "2020-11-03T13:59:35.036334Z"
    },
    "papermill": {
     "duration": 0.024575,
     "end_time": "2020-11-03T13:59:35.036486",
     "exception": false,
     "start_time": "2020-11-03T13:59:35.011911",
     "status": "completed"
    },
    "tags": []
   },
   "outputs": [],
   "source": [
    "target_feats = [ i for i in targets.columns if i != \"sig_id\"]\n",
    "g_feats = [i for i in train.columns if \"g-\" in i]\n",
    "c_feats = [i for i in train.columns if \"c-\" in i]"
   ]
  },
  {
   "cell_type": "code",
   "execution_count": 5,
   "metadata": {
    "execution": {
     "iopub.execute_input": "2020-11-03T13:59:35.078298Z",
     "iopub.status.busy": "2020-11-03T13:59:35.077614Z",
     "iopub.status.idle": "2020-11-03T13:59:35.172480Z",
     "shell.execute_reply": "2020-11-03T13:59:35.171705Z"
    },
    "papermill": {
     "duration": 0.12132,
     "end_time": "2020-11-03T13:59:35.172614",
     "exception": false,
     "start_time": "2020-11-03T13:59:35.051294",
     "status": "completed"
    },
    "tags": []
   },
   "outputs": [],
   "source": [
    "noncons_train_index = train[train.cp_type==\"ctl_vehicle\"].index\n",
    "cons_train_index = train[train.cp_type!=\"ctl_vehicle\"].index\n",
    "noncons_test_index = test[test.cp_type==\"ctl_vehicle\"].index\n",
    "cons_test_index = test[test.cp_type!=\"ctl_vehicle\"].index"
   ]
  },
  {
   "cell_type": "markdown",
   "metadata": {
    "papermill": {
     "duration": 0.01651,
     "end_time": "2020-11-03T13:59:35.204802",
     "exception": false,
     "start_time": "2020-11-03T13:59:35.188292",
     "status": "completed"
    },
    "tags": []
   },
   "source": [
    "# Preprocess"
   ]
  },
  {
   "cell_type": "code",
   "execution_count": 6,
   "metadata": {
    "execution": {
     "iopub.execute_input": "2020-11-03T13:59:35.255923Z",
     "iopub.status.busy": "2020-11-03T13:59:35.246565Z",
     "iopub.status.idle": "2020-11-03T13:59:35.450484Z",
     "shell.execute_reply": "2020-11-03T13:59:35.449804Z"
    },
    "papermill": {
     "duration": 0.228572,
     "end_time": "2020-11-03T13:59:35.450615",
     "exception": false,
     "start_time": "2020-11-03T13:59:35.222043",
     "status": "completed"
    },
    "tags": []
   },
   "outputs": [],
   "source": [
    "test = test[test.index.isin(cons_test_index)].reset_index(drop=True)\n",
    "train = train[train.index.isin(cons_train_index)].reset_index(drop=True)\n",
    "fn_targets = targets[targets.index.isin(cons_train_index)].copy().reset_index(drop=True)\n",
    "y = targets.drop(\"sig_id\", axis=1).copy()"
   ]
  },
  {
   "cell_type": "markdown",
   "metadata": {
    "papermill": {
     "duration": 0.015062,
     "end_time": "2020-11-03T13:59:35.480852",
     "exception": false,
     "start_time": "2020-11-03T13:59:35.465790",
     "status": "completed"
    },
    "tags": []
   },
   "source": [
    "# Feature engineering"
   ]
  },
  {
   "cell_type": "code",
   "execution_count": 7,
   "metadata": {
    "execution": {
     "iopub.execute_input": "2020-11-03T13:59:35.565629Z",
     "iopub.status.busy": "2020-11-03T13:59:35.563941Z",
     "iopub.status.idle": "2020-11-03T13:59:35.931321Z",
     "shell.execute_reply": "2020-11-03T13:59:35.930750Z"
    },
    "papermill": {
     "duration": 0.435557,
     "end_time": "2020-11-03T13:59:35.931473",
     "exception": false,
     "start_time": "2020-11-03T13:59:35.495916",
     "status": "completed"
    },
    "tags": []
   },
   "outputs": [],
   "source": [
    "X = train[g_feats+c_feats].copy().values\n",
    "select = VarianceThreshold(threshold=0.8)\n",
    "X_new = select.fit_transform(X)\n",
    "drop_feats = list(np.array(train[g_feats+c_feats].columns)[select.get_support()==False])\n",
    "len(drop_feats)\n",
    "\n",
    "train.drop(drop_feats, axis=1, inplace=True)\n",
    "test.drop(drop_feats, axis=1, inplace=True)\n",
    "\n",
    "g_feats = [i for i in train.columns if \"g-\" in i]\n",
    "c_feats = [i for i in train.columns if \"c-\" in i]"
   ]
  },
  {
   "cell_type": "code",
   "execution_count": 8,
   "metadata": {
    "execution": {
     "iopub.execute_input": "2020-11-03T13:59:35.983314Z",
     "iopub.status.busy": "2020-11-03T13:59:35.981366Z",
     "iopub.status.idle": "2020-11-03T13:59:37.657409Z",
     "shell.execute_reply": "2020-11-03T13:59:37.657918Z"
    },
    "papermill": {
     "duration": 1.711117,
     "end_time": "2020-11-03T13:59:37.658070",
     "exception": false,
     "start_time": "2020-11-03T13:59:35.946953",
     "status": "completed"
    },
    "tags": []
   },
   "outputs": [],
   "source": [
    "c_num = 10\n",
    "pca_c_cols = [\"pca-c\"+str(i+1) for i in range(c_num)]\n",
    "pca = PCA(n_components=c_num,random_state=42)\n",
    "c_train = pca.fit_transform(train[c_feats])\n",
    "c_test = pca.transform(test[c_feats])\n",
    "c_train = pd.DataFrame(c_train, columns=pca_c_cols)\n",
    "c_test = pd.DataFrame(c_test, columns=pca_c_cols)\n",
    "\n",
    "g_num = 80\n",
    "pca_g_cols = [\"pca-g\"+str(i+1) for i in range(g_num)]\n",
    "pca = PCA(n_components=g_num, random_state=42)\n",
    "g_train = pca.fit_transform(train[g_feats])\n",
    "g_test = pca.transform(test[g_feats])\n",
    "g_train = pd.DataFrame(g_train, columns=pca_g_cols)\n",
    "g_test = pd.DataFrame(g_test, columns=pca_g_cols)\n",
    "\n",
    "train = pd.concat([train, c_train],axis=1)\n",
    "test = pd.concat([test, c_test],axis=1)\n",
    "train = pd.concat([train, g_train],axis=1)\n",
    "test = pd.concat([test, g_test],axis=1)"
   ]
  },
  {
   "cell_type": "code",
   "execution_count": 9,
   "metadata": {
    "execution": {
     "iopub.execute_input": "2020-11-03T13:59:37.705419Z",
     "iopub.status.busy": "2020-11-03T13:59:37.704231Z",
     "iopub.status.idle": "2020-11-03T13:59:42.393399Z",
     "shell.execute_reply": "2020-11-03T13:59:42.394227Z"
    },
    "papermill": {
     "duration": 4.721128,
     "end_time": "2020-11-03T13:59:42.394453",
     "exception": false,
     "start_time": "2020-11-03T13:59:37.673325",
     "status": "completed"
    },
    "tags": []
   },
   "outputs": [
    {
     "name": "stdout",
     "output_type": "stream",
     "text": [
      "(21948, 914) (3624, 914)\n"
     ]
    }
   ],
   "source": [
    "def fe(df, remove_features):\n",
    "    df['g_sum'] = df[g_feats].sum(axis = 1)\n",
    "    df['g_mean'] = df[g_feats].mean(axis = 1)\n",
    "    df['g_std'] = df[g_feats].std(axis = 1)\n",
    "    df['g_kurt'] = df[g_feats].kurtosis(axis = 1)\n",
    "    df['g_skew'] = df[g_feats].skew(axis = 1)\n",
    "    df['c_sum'] = df[c_feats].sum(axis = 1)\n",
    "    df['c_mean'] = df[c_feats].mean(axis = 1)\n",
    "    df['c_std'] = df[c_feats].std(axis = 1)\n",
    "    df['c_kurt'] = df[c_feats].kurtosis(axis = 1)\n",
    "    df['c_skew'] = df[c_feats].skew(axis = 1)\n",
    "    df['gc_sum'] = df[c_feats + g_feats].sum(axis = 1)\n",
    "    df['gc_mean'] = df[c_feats + g_feats].mean(axis = 1)\n",
    "    df['gc_std'] = df[c_feats + g_feats].std(axis = 1)\n",
    "    df['gc_kurt'] = df[c_feats + g_feats].kurtosis(axis = 1)\n",
    "    df['gc_skew'] = df[c_feats + g_feats].skew(axis = 1)\n",
    "    df.drop(remove_features, axis=1, inplace=True)\n",
    "    df.loc[:, 'cp_dose'] = df.loc[:, 'cp_dose'].map({'D1': 0, 'D2': 1})\n",
    "    return df\n",
    "\n",
    "remove_features = [\"cp_type\" , \"sig_id\"]\n",
    "        \n",
    "train = fe(train, remove_features)\n",
    "test = fe(test, remove_features)\n",
    "    \n",
    "print(train.shape, test.shape)"
   ]
  },
  {
   "cell_type": "markdown",
   "metadata": {
    "papermill": {
     "duration": 0.025483,
     "end_time": "2020-11-03T13:59:42.445624",
     "exception": false,
     "start_time": "2020-11-03T13:59:42.420141",
     "status": "completed"
    },
    "tags": []
   },
   "source": [
    "# modelling"
   ]
  },
  {
   "cell_type": "code",
   "execution_count": 10,
   "metadata": {
    "execution": {
     "iopub.execute_input": "2020-11-03T13:59:42.503972Z",
     "iopub.status.busy": "2020-11-03T13:59:42.502737Z",
     "iopub.status.idle": "2020-11-03T13:59:42.550142Z",
     "shell.execute_reply": "2020-11-03T13:59:42.551367Z"
    },
    "papermill": {
     "duration": 0.083174,
     "end_time": "2020-11-03T13:59:42.551580",
     "exception": false,
     "start_time": "2020-11-03T13:59:42.468406",
     "status": "completed"
    },
    "tags": []
   },
   "outputs": [
    {
     "data": {
      "text/plain": [
       "Pipeline(steps=[('classify',\n",
       "                 MultiOutputClassifier(estimator=XGBClassifier(base_score=None,\n",
       "                                                               booster=None,\n",
       "                                                               colsample_bylevel=None,\n",
       "                                                               colsample_bynode=None,\n",
       "                                                               colsample_bytree=None,\n",
       "                                                               gamma=3.6975,\n",
       "                                                               gpu_id=None,\n",
       "                                                               importance_type='gain',\n",
       "                                                               interaction_constraints=None,\n",
       "                                                               learning_rate=0.0803,\n",
       "                                                               max_delta_step=2.0706,\n",
       "                                                               max_depth=10,\n",
       "                                                               min_child_weight=25.58,\n",
       "                                                               missing=nan,\n",
       "                                                               monotone_constraints=None,\n",
       "                                                               n_estimators=100,\n",
       "                                                               n_jobs=None,\n",
       "                                                               num_parallel_tree=None,\n",
       "                                                               random_state=None,\n",
       "                                                               reg_alpha=None,\n",
       "                                                               reg_lambda=None,\n",
       "                                                               scale_pos_weight=None,\n",
       "                                                               subsample=None,\n",
       "                                                               tree_method='gpu_hist',\n",
       "                                                               validate_parameters=None,\n",
       "                                                               verbosity=None)))])"
      ]
     },
     "execution_count": 10,
     "metadata": {},
     "output_type": "execute_result"
    }
   ],
   "source": [
    "classifier = MultiOutputClassifier(XGBClassifier(tree_method='gpu_hist')) \n",
    "\n",
    "clf = Pipeline([('classify', classifier)\n",
    "               ])\n",
    "\n",
    "params = {'classify__estimator__gamma': 3.6975,\n",
    "          'classify__estimator__learning_rate': 0.0803,\n",
    "          'classify__estimator__max_delta_step': 2.0706,\n",
    "          'classify__estimator__max_depth': 10,\n",
    "          'classify__estimator__min_child_weight': 25.5800,\n",
    "          'classify__estimator__n_estimators': 100,\n",
    "         }\n",
    "\n",
    "clf.set_params(**params)"
   ]
  },
  {
   "cell_type": "code",
   "execution_count": 11,
   "metadata": {
    "execution": {
     "iopub.execute_input": "2020-11-03T13:59:42.612616Z",
     "iopub.status.busy": "2020-11-03T13:59:42.611749Z",
     "iopub.status.idle": "2020-11-03T13:59:42.623975Z",
     "shell.execute_reply": "2020-11-03T13:59:42.625096Z"
    },
    "papermill": {
     "duration": 0.048356,
     "end_time": "2020-11-03T13:59:42.625246",
     "exception": false,
     "start_time": "2020-11-03T13:59:42.576890",
     "status": "completed"
    },
    "tags": []
   },
   "outputs": [],
   "source": [
    "def modelling_xgb(X, y, X_test, seed):\n",
    "    oof_preds = np.zeros(y.shape)\n",
    "    test_preds = np.zeros((X_test.shape[0], y.shape[1]))\n",
    "    oof_losses = []\n",
    "    mskf = MultilabelStratifiedKFold(n_splits=NFOLDS, random_state=seed, shuffle=True)\n",
    "    for fn, (trn_idx, val_idx) in enumerate(mskf.split(X, y)):\n",
    "        print('Starting fold: ', fn)\n",
    "        X_train, X_val = X.iloc[trn_idx,:].to_numpy(), X.iloc[val_idx,:].to_numpy()\n",
    "        y_train, y_val = y.iloc[trn_idx].to_numpy(), y.iloc[val_idx].to_numpy()\n",
    "    \n",
    "        clf.fit(X_train, y_train)\n",
    "        val_preds = clf.predict_proba(X_val) # list of preds per class\n",
    "        val_preds = np.array(val_preds)[:,:,1].T # take the positive class\n",
    "        oof_preds[val_idx] = val_preds\n",
    "    \n",
    "        loss = log_loss(np.ravel(y_val), np.ravel(val_preds))\n",
    "        print(loss)\n",
    "        oof_losses.append(loss)\n",
    "        preds = clf.predict_proba(X_test)\n",
    "        preds = np.array(preds)[:,:,1].T # take the positive class\n",
    "        test_preds += preds / NFOLDS\n",
    "    \n",
    "    print(oof_losses)\n",
    "    print('Mean OOF loss across folds', np.mean(oof_losses))\n",
    "    print('STD OOF loss across folds', np.std(oof_losses))\n",
    "    return oof_preds, test_preds"
   ]
  },
  {
   "cell_type": "code",
   "execution_count": 12,
   "metadata": {
    "execution": {
     "iopub.execute_input": "2020-11-03T13:59:42.687553Z",
     "iopub.status.busy": "2020-11-03T13:59:42.686682Z",
     "iopub.status.idle": "2020-11-03T14:20:35.392360Z",
     "shell.execute_reply": "2020-11-03T14:20:35.392957Z"
    },
    "papermill": {
     "duration": 1252.741053,
     "end_time": "2020-11-03T14:20:35.393124",
     "exception": false,
     "start_time": "2020-11-03T13:59:42.652071",
     "status": "completed"
    },
    "tags": []
   },
   "outputs": [
    {
     "name": "stdout",
     "output_type": "stream",
     "text": [
      "Starting fold:  0\n",
      "0.017712732953793643\n",
      "Starting fold:  1\n",
      "0.017677696230735077\n",
      "Starting fold:  2\n",
      "0.017357067419251533\n",
      "Starting fold:  3\n",
      "0.017689016485660528\n",
      "Starting fold:  4\n",
      "0.017712594400369482\n",
      "[0.017712732953793643, 0.017677696230735077, 0.017357067419251533, 0.017689016485660528, 0.017712594400369482]\n",
      "Mean OOF loss across folds 0.017629821497962054\n",
      "STD OOF loss across folds 0.00013705217031554005\n"
     ]
    }
   ],
   "source": [
    "X = train.copy()\n",
    "y_xgb = fn_targets.drop(\"sig_id\", axis=1).copy()\n",
    "X_test = test.copy()\n",
    "\n",
    "seeds = [42]\n",
    "oof_preds = np.zeros(y_xgb.shape)\n",
    "test_preds = np.zeros((test.shape[0], y_xgb.shape[1]))\n",
    "for seed_ in seeds:\n",
    "    ind_preds, ind_test_preds = modelling_xgb(X, y_xgb, X_test, seed_)\n",
    "    oof_preds += ind_preds / len(seeds)\n",
    "    test_preds += ind_test_preds / len(seeds)"
   ]
  },
  {
   "cell_type": "code",
   "execution_count": 13,
   "metadata": {
    "execution": {
     "iopub.execute_input": "2020-11-03T14:20:35.446229Z",
     "iopub.status.busy": "2020-11-03T14:20:35.444378Z",
     "iopub.status.idle": "2020-11-03T14:20:35.446976Z",
     "shell.execute_reply": "2020-11-03T14:20:35.447509Z"
    },
    "papermill": {
     "duration": 0.030656,
     "end_time": "2020-11-03T14:20:35.447628",
     "exception": false,
     "start_time": "2020-11-03T14:20:35.416972",
     "status": "completed"
    },
    "tags": []
   },
   "outputs": [],
   "source": [
    "#aucs = []\n",
    "#for task_id in range(targets.shape[1]-1):\n",
    "#    aucs.append(roc_auc_score(y_true=targets.iloc[:, task_id+1].values,\n",
    "#                              y_score=oof_preds[:, task_id]))\n",
    "#print(f\"Overall AUC : {np.mean(aucs)}\")"
   ]
  },
  {
   "cell_type": "code",
   "execution_count": 14,
   "metadata": {
    "execution": {
     "iopub.execute_input": "2020-11-03T14:20:35.498216Z",
     "iopub.status.busy": "2020-11-03T14:20:35.496798Z",
     "iopub.status.idle": "2020-11-03T14:20:36.886132Z",
     "shell.execute_reply": "2020-11-03T14:20:36.885346Z"
    },
    "papermill": {
     "duration": 1.414956,
     "end_time": "2020-11-03T14:20:36.886242",
     "exception": false,
     "start_time": "2020-11-03T14:20:35.471286",
     "status": "completed"
    },
    "tags": []
   },
   "outputs": [
    {
     "name": "stdout",
     "output_type": "stream",
     "text": [
      "OOF log loss:  0.016248403821117086\n"
     ]
    }
   ],
   "source": [
    "check = np.zeros([targets.shape[0], targets.shape[1]-1])\n",
    "check[cons_train_index,:] = oof_preds\n",
    "print('OOF log loss: ', log_loss(np.ravel(y), np.ravel(check)))"
   ]
  },
  {
   "cell_type": "code",
   "execution_count": 15,
   "metadata": {
    "execution": {
     "iopub.execute_input": "2020-11-03T14:20:36.931516Z",
     "iopub.status.busy": "2020-11-03T14:20:36.930897Z",
     "iopub.status.idle": "2020-11-03T14:20:36.935179Z",
     "shell.execute_reply": "2020-11-03T14:20:36.934719Z"
    },
    "papermill": {
     "duration": 0.028217,
     "end_time": "2020-11-03T14:20:36.935305",
     "exception": false,
     "start_time": "2020-11-03T14:20:36.907088",
     "status": "completed"
    },
    "tags": []
   },
   "outputs": [],
   "source": [
    "#aucs = []\n",
    "#for task_id in range(targets.shape[1]-1):\n",
    "#    aucs.append(roc_auc_score(y_true=targets.iloc[:, task_id+1].values,\n",
    "#                              y_score=np.clip(oof_preds[:, task_id], p_min,p_max)))\n",
    "#print(f\"Overall AUC : {np.mean(aucs)}\")"
   ]
  },
  {
   "cell_type": "code",
   "execution_count": 16,
   "metadata": {
    "execution": {
     "iopub.execute_input": "2020-11-03T14:20:36.983115Z",
     "iopub.status.busy": "2020-11-03T14:20:36.982186Z",
     "iopub.status.idle": "2020-11-03T14:20:38.195421Z",
     "shell.execute_reply": "2020-11-03T14:20:38.194923Z"
    },
    "papermill": {
     "duration": 1.239253,
     "end_time": "2020-11-03T14:20:38.195549",
     "exception": false,
     "start_time": "2020-11-03T14:20:36.956296",
     "status": "completed"
    },
    "tags": []
   },
   "outputs": [
    {
     "name": "stdout",
     "output_type": "stream",
     "text": [
      "OOF log loss:  0.016329363207924632\n"
     ]
    }
   ],
   "source": [
    "check = np.zeros([targets.shape[0], targets.shape[1]-1])\n",
    "check[cons_train_index,:] = oof_preds\n",
    "print('OOF log loss: ', log_loss(np.ravel(y), np.ravel(np.clip(check,p_min,p_max))))"
   ]
  },
  {
   "cell_type": "code",
   "execution_count": 17,
   "metadata": {
    "execution": {
     "iopub.execute_input": "2020-11-03T14:20:38.243829Z",
     "iopub.status.busy": "2020-11-03T14:20:38.242958Z",
     "iopub.status.idle": "2020-11-03T14:20:40.605701Z",
     "shell.execute_reply": "2020-11-03T14:20:40.604670Z"
    },
    "papermill": {
     "duration": 2.389065,
     "end_time": "2020-11-03T14:20:40.605828",
     "exception": false,
     "start_time": "2020-11-03T14:20:38.216763",
     "status": "completed"
    },
    "tags": []
   },
   "outputs": [],
   "source": [
    "sub.loc[cons_test_index,target_feats] = np.clip(test_preds,p_min,p_max)\n",
    "sub.loc[noncons_test_index,target_feats] = 0\n",
    "sub.to_csv('submission.csv', index=False)"
   ]
  },
  {
   "cell_type": "code",
   "execution_count": null,
   "metadata": {
    "papermill": {
     "duration": 0.020997,
     "end_time": "2020-11-03T14:20:40.649150",
     "exception": false,
     "start_time": "2020-11-03T14:20:40.628153",
     "status": "completed"
    },
    "tags": []
   },
   "outputs": [],
   "source": []
  }
 ],
 "metadata": {
  "kernelspec": {
   "display_name": "Python 3",
   "language": "python",
   "name": "python3"
  },
  "language_info": {
   "codemirror_mode": {
    "name": "ipython",
    "version": 3
   },
   "file_extension": ".py",
   "mimetype": "text/x-python",
   "name": "python",
   "nbconvert_exporter": "python",
   "pygments_lexer": "ipython3",
   "version": "3.7.6"
  },
  "papermill": {
   "duration": 1280.107119,
   "end_time": "2020-11-03T14:20:41.988039",
   "environment_variables": {},
   "exception": null,
   "input_path": "__notebook__.ipynb",
   "output_path": "__notebook__.ipynb",
   "parameters": {},
   "start_time": "2020-11-03T13:59:21.880920",
   "version": "2.1.0"
  }
 },
 "nbformat": 4,
 "nbformat_minor": 4
}
