{
 "cells": [
  {
   "cell_type": "code",
   "execution_count": 1,
   "metadata": {
    "_cell_guid": "b1076dfc-b9ad-4769-8c92-a6c4dae69d19",
    "_uuid": "8f2839f25d086af736a60e9eeb907d3b93b6e0e5",
    "execution": {
     "iopub.execute_input": "2020-10-02T10:16:49.241249Z",
     "iopub.status.busy": "2020-10-02T10:16:49.238199Z",
     "iopub.status.idle": "2020-10-02T10:16:52.635149Z",
     "shell.execute_reply": "2020-10-02T10:16:52.634021Z"
    },
    "papermill": {
     "duration": 3.430307,
     "end_time": "2020-10-02T10:16:52.635289",
     "exception": false,
     "start_time": "2020-10-02T10:16:49.204982",
     "status": "completed"
    },
    "tags": []
   },
   "outputs": [],
   "source": [
    "import os\n",
    "import sys\n",
    "import warnings\n",
    "import numpy as np # linear algebra\n",
    "import pandas as pd # data processing, CSV file I/O (e.g. pd.read_csv)\n",
    "import matplotlib.pyplot as plt\n",
    "from xgboost import XGBClassifier\n",
    "from sklearn.model_selection import KFold\n",
    "from category_encoders import CountEncoder\n",
    "from sklearn.pipeline import Pipeline\n",
    "from sklearn.metrics import log_loss\n",
    "from sklearn import preprocessing\n",
    "from sklearn.multioutput import MultiOutputClassifier\n",
    "sys.path.append('../input/multilabelstraifier/')\n",
    "from ml_stratifiers import MultilabelStratifiedKFold\n",
    "warnings.filterwarnings('ignore')"
   ]
  },
  {
   "cell_type": "code",
   "execution_count": 2,
   "metadata": {
    "execution": {
     "iopub.execute_input": "2020-10-02T10:16:52.669946Z",
     "iopub.status.busy": "2020-10-02T10:16:52.668562Z",
     "iopub.status.idle": "2020-10-02T10:16:52.672522Z",
     "shell.execute_reply": "2020-10-02T10:16:52.671884Z"
    },
    "papermill": {
     "duration": 0.023021,
     "end_time": "2020-10-02T10:16:52.672639",
     "exception": false,
     "start_time": "2020-10-02T10:16:52.649618",
     "status": "completed"
    },
    "tags": []
   },
   "outputs": [],
   "source": [
    "SEED = 42\n",
    "NFOLDS = 5\n",
    "np.random.seed(SEED)\n",
    "DATA_DIR = '/kaggle/input/lish-moa/'"
   ]
  },
  {
   "cell_type": "code",
   "execution_count": 3,
   "metadata": {
    "_cell_guid": "79c7e3d0-c299-4dcb-8224-4455121ee9b0",
    "_uuid": "d629ff2d2480ee46fbb7e2d37f6b5fab8052498a",
    "execution": {
     "iopub.execute_input": "2020-10-02T10:16:52.709025Z",
     "iopub.status.busy": "2020-10-02T10:16:52.707933Z",
     "iopub.status.idle": "2020-10-02T10:16:58.834812Z",
     "shell.execute_reply": "2020-10-02T10:16:58.833675Z"
    },
    "papermill": {
     "duration": 6.149054,
     "end_time": "2020-10-02T10:16:58.834936",
     "exception": false,
     "start_time": "2020-10-02T10:16:52.685882",
     "status": "completed"
    },
    "tags": []
   },
   "outputs": [],
   "source": [
    "train = pd.read_csv(DATA_DIR + 'train_features.csv')\n",
    "targets = pd.read_csv(DATA_DIR + 'train_targets_scored.csv')\n",
    "\n",
    "test = pd.read_csv(DATA_DIR + 'test_features.csv')\n",
    "sub = pd.read_csv(DATA_DIR + 'sample_submission.csv')"
   ]
  },
  {
   "cell_type": "code",
   "execution_count": 4,
   "metadata": {
    "execution": {
     "iopub.execute_input": "2020-10-02T10:16:58.869828Z",
     "iopub.status.busy": "2020-10-02T10:16:58.867852Z",
     "iopub.status.idle": "2020-10-02T10:16:58.870629Z",
     "shell.execute_reply": "2020-10-02T10:16:58.871149Z"
    },
    "papermill": {
     "duration": 0.023351,
     "end_time": "2020-10-02T10:16:58.871282",
     "exception": false,
     "start_time": "2020-10-02T10:16:58.847931",
     "status": "completed"
    },
    "tags": []
   },
   "outputs": [],
   "source": [
    "target_feats = [ i for i in targets.columns if i != \"sig_id\"]\n",
    "g_feats = [i for i in train.columns if \"g-\" in i]\n",
    "c_feats = [i for i in train.columns if \"c-\" in i]"
   ]
  },
  {
   "cell_type": "code",
   "execution_count": 5,
   "metadata": {
    "execution": {
     "iopub.execute_input": "2020-10-02T10:16:58.934043Z",
     "iopub.status.busy": "2020-10-02T10:16:58.911088Z",
     "iopub.status.idle": "2020-10-02T10:16:59.009986Z",
     "shell.execute_reply": "2020-10-02T10:16:59.010529Z"
    },
    "papermill": {
     "duration": 0.125605,
     "end_time": "2020-10-02T10:16:59.010683",
     "exception": false,
     "start_time": "2020-10-02T10:16:58.885078",
     "status": "completed"
    },
    "tags": []
   },
   "outputs": [],
   "source": [
    "noncons_train_index = train[train.cp_type==\"ctl_vehicle\"].index\n",
    "cons_train_index = train[train.cp_type!=\"ctl_vehicle\"].index\n",
    "noncons_test_index = test[test.cp_type==\"ctl_vehicle\"].index\n",
    "cons_test_index = test[test.cp_type!=\"ctl_vehicle\"].index"
   ]
  },
  {
   "cell_type": "markdown",
   "metadata": {
    "papermill": {
     "duration": 0.013238,
     "end_time": "2020-10-02T10:16:59.038117",
     "exception": false,
     "start_time": "2020-10-02T10:16:59.024879",
     "status": "completed"
    },
    "tags": []
   },
   "source": [
    "# Preprocess"
   ]
  },
  {
   "cell_type": "code",
   "execution_count": 6,
   "metadata": {
    "execution": {
     "iopub.execute_input": "2020-10-02T10:16:59.085292Z",
     "iopub.status.busy": "2020-10-02T10:16:59.075381Z",
     "iopub.status.idle": "2020-10-02T10:17:06.333811Z",
     "shell.execute_reply": "2020-10-02T10:17:06.334456Z"
    },
    "papermill": {
     "duration": 7.28304,
     "end_time": "2020-10-02T10:17:06.334617",
     "exception": false,
     "start_time": "2020-10-02T10:16:59.051577",
     "status": "completed"
    },
    "tags": []
   },
   "outputs": [],
   "source": [
    "# normalization by ctl group\n",
    "train_ctl = train[train.index.isin(noncons_train_index)].copy().reset_index(drop=True)\n",
    "test_ctl = test[test.index.isin(noncons_test_index)].copy().reset_index(drop=True)\n",
    "ctl_df = pd.concat([train_ctl, test_ctl])\n",
    "\n",
    "ctl_group_data = ctl_df.groupby([\"cp_dose\", \"cp_time\"]).agg({\"mean\"}).reset_index()\n",
    "mean_g_feats = [\"mean-\" + i for i in g_feats]\n",
    "mean_c_feats = [\"mean-\" + i for i in c_feats]\n",
    "columns = [\"cp_dose\", \"cp_time\"] + mean_g_feats + mean_c_feats\n",
    "ctl_group_data.columns = columns\n",
    "\n",
    "#train_cons = train_feat[train_feat.index.isin(cons_train_index)].copy().reset_index(drop=True)\n",
    "#test_cons = test_feat[test_feat.index.isin(cons_test_index)].copy().reset_index(drop=True)\n",
    "#n_train_score = train_score[train_score.index.isin(cons_train_index)].copy().reset_index(drop=True)\n",
    "#n_train_nonscore = train_nonscore[train_nonscore.index.isin(cons_train_index)].copy().reset_index(drop=True)\n",
    "\n",
    "train = pd.merge(train, ctl_group_data, on=[\"cp_time\", \"cp_dose\"], how=\"left\")\n",
    "test = pd.merge(test, ctl_group_data, on=[\"cp_time\", \"cp_dose\"], how=\"left\")\n",
    "\n",
    "for i in range(len(g_feats)):\n",
    "    train[\"diff-g-\"+str(i)] = train[\"g-\"+str(i)] - train[\"mean-g-\"+str(i)]\n",
    "    test[\"diff-g-\"+str(i)] = test[\"g-\"+str(i)] - test[\"mean-g-\"+str(i)]\n",
    "    \n",
    "for i in range(len(c_feats)):\n",
    "    train[\"diff-c-\"+str(i)] = train[\"c-\"+str(i)] - train[\"mean-c-\"+str(i)]\n",
    "    test[\"diff-c-\"+str(i)] = test[\"c-\"+str(i)] - test[\"mean-c-\"+str(i)]"
   ]
  },
  {
   "cell_type": "code",
   "execution_count": 7,
   "metadata": {
    "execution": {
     "iopub.execute_input": "2020-10-02T10:17:06.379567Z",
     "iopub.status.busy": "2020-10-02T10:17:06.378677Z",
     "iopub.status.idle": "2020-10-02T10:17:06.411961Z",
     "shell.execute_reply": "2020-10-02T10:17:06.411374Z"
    },
    "papermill": {
     "duration": 0.063176,
     "end_time": "2020-10-02T10:17:06.412080",
     "exception": false,
     "start_time": "2020-10-02T10:17:06.348904",
     "status": "completed"
    },
    "tags": []
   },
   "outputs": [],
   "source": [
    "categoricals = [\"cp_dose\"]\n",
    "\n",
    "def encoding(tr, te):\n",
    "    for f in categoricals:\n",
    "        lbl = preprocessing.LabelEncoder()\n",
    "        lbl.fit(list(tr[f]))\n",
    "        tr[f] = lbl.transform(list(tr[f]))\n",
    "        te[f] = lbl.transform(list(te[f])) \n",
    "        \n",
    "    return tr, te\n",
    "\n",
    "train, test = encoding(train, test)"
   ]
  },
  {
   "cell_type": "markdown",
   "metadata": {
    "papermill": {
     "duration": 0.013535,
     "end_time": "2020-10-02T10:17:06.439475",
     "exception": false,
     "start_time": "2020-10-02T10:17:06.425940",
     "status": "completed"
    },
    "tags": []
   },
   "source": [
    "# Feature engineering"
   ]
  },
  {
   "cell_type": "code",
   "execution_count": 8,
   "metadata": {
    "execution": {
     "iopub.execute_input": "2020-10-02T10:17:06.478963Z",
     "iopub.status.busy": "2020-10-02T10:17:06.477661Z",
     "iopub.status.idle": "2020-10-02T10:17:06.942420Z",
     "shell.execute_reply": "2020-10-02T10:17:06.943015Z"
    },
    "papermill": {
     "duration": 0.489733,
     "end_time": "2020-10-02T10:17:06.943164",
     "exception": false,
     "start_time": "2020-10-02T10:17:06.453431",
     "status": "completed"
    },
    "tags": []
   },
   "outputs": [
    {
     "name": "stdout",
     "output_type": "stream",
     "text": [
      "(23814, 874) (3982, 874)\n"
     ]
    }
   ],
   "source": [
    "def fe(df, remove_features):\n",
    "    df.drop(remove_features, axis=1, inplace=True)\n",
    "    return df\n",
    "\n",
    "remove_features = [\"cp_type\" , \"sig_id\"] + mean_g_feats + mean_c_feats + g_feats + c_feats \n",
    "#for i in [i for i in train.columns if i != \"sig_id\"]:\n",
    "#    if i not in remove_features and (n_train_feat[i].std() == 0):\n",
    "#        remove_features.append(i)\n",
    "        \n",
    "train = fe(train, remove_features)\n",
    "test = fe(test, remove_features)\n",
    "    \n",
    "print(train.shape, test.shape)"
   ]
  },
  {
   "cell_type": "markdown",
   "metadata": {
    "papermill": {
     "duration": 0.01498,
     "end_time": "2020-10-02T10:17:06.973228",
     "exception": false,
     "start_time": "2020-10-02T10:17:06.958248",
     "status": "completed"
    },
    "tags": []
   },
   "source": [
    "# modelling"
   ]
  },
  {
   "cell_type": "code",
   "execution_count": 9,
   "metadata": {
    "execution": {
     "iopub.execute_input": "2020-10-02T10:17:07.012163Z",
     "iopub.status.busy": "2020-10-02T10:17:07.011261Z",
     "iopub.status.idle": "2020-10-02T10:17:07.015707Z",
     "shell.execute_reply": "2020-10-02T10:17:07.015100Z"
    },
    "papermill": {
     "duration": 0.027261,
     "end_time": "2020-10-02T10:17:07.015818",
     "exception": false,
     "start_time": "2020-10-02T10:17:06.988557",
     "status": "completed"
    },
    "tags": []
   },
   "outputs": [],
   "source": [
    "classifier = MultiOutputClassifier(XGBClassifier(tree_method='gpu_hist'))\n",
    "\n",
    "clf = Pipeline([('classify', classifier)\n",
    "               ])\n",
    "\n",
    "params = {'classify__estimator__colsample_bytree': 0.6522,\n",
    "          'classify__estimator__gamma': 3.6975,\n",
    "          'classify__estimator__learning_rate': 0.0503,\n",
    "          'classify__estimator__max_delta_step': 2.0706,\n",
    "          'classify__estimator__max_depth': 10,\n",
    "          'classify__estimator__min_child_weight': 31.5800,\n",
    "          'classify__estimator__n_estimators': 166,\n",
    "          'classify__estimator__subsample': 0.8639\n",
    "         }\n",
    "\n",
    "_ = clf.set_params(**params)"
   ]
  },
  {
   "cell_type": "code",
   "execution_count": 10,
   "metadata": {
    "execution": {
     "iopub.execute_input": "2020-10-02T10:17:07.055265Z",
     "iopub.status.busy": "2020-10-02T10:17:07.053469Z",
     "iopub.status.idle": "2020-10-02T10:17:07.159519Z",
     "shell.execute_reply": "2020-10-02T10:17:07.158833Z"
    },
    "papermill": {
     "duration": 0.128701,
     "end_time": "2020-10-02T10:17:07.159641",
     "exception": false,
     "start_time": "2020-10-02T10:17:07.030940",
     "status": "completed"
    },
    "tags": []
   },
   "outputs": [],
   "source": [
    "X = train.copy()\n",
    "y = targets.drop(\"sig_id\", axis=1).copy()\n",
    "X_test = test.copy()"
   ]
  },
  {
   "cell_type": "code",
   "execution_count": 11,
   "metadata": {
    "execution": {
     "iopub.execute_input": "2020-10-02T10:17:07.205397Z",
     "iopub.status.busy": "2020-10-02T10:17:07.204396Z",
     "iopub.status.idle": "2020-10-02T10:41:27.194406Z",
     "shell.execute_reply": "2020-10-02T10:41:27.195259Z"
    },
    "papermill": {
     "duration": 1460.020812,
     "end_time": "2020-10-02T10:41:27.195511",
     "exception": false,
     "start_time": "2020-10-02T10:17:07.174699",
     "status": "completed"
    },
    "tags": []
   },
   "outputs": [
    {
     "name": "stdout",
     "output_type": "stream",
     "text": [
      "Starting fold:  0\n",
      "Starting fold:  1\n",
      "Starting fold:  2\n",
      "Starting fold:  3\n",
      "Starting fold:  4\n",
      "[0.016929206998120352, 0.017015867903594235, 0.016972143205191186, 0.017138860088217602, 0.01697901645377062]\n",
      "Mean OOF loss across folds 0.017007018929778798\n",
      "STD OOF loss across folds 7.143605102830118e-05\n"
     ]
    }
   ],
   "source": [
    "oof_preds = np.zeros(y.shape)\n",
    "test_preds = np.zeros((test.shape[0], y.shape[1]))\n",
    "oof_losses = []\n",
    "mskf = MultilabelStratifiedKFold(n_splits=NFOLDS, random_state=SEED)\n",
    "for fn, (trn_idx, val_idx) in enumerate(mskf.split(X, y)):\n",
    "    print('Starting fold: ', fn)\n",
    "    X_train, X_val = X.iloc[trn_idx,:], X.iloc[val_idx,:].to_numpy()\n",
    "    y_train, y_val = y.iloc[trn_idx], y.iloc[val_idx].to_numpy()\n",
    "    \n",
    "    X_train = X_train[X_train.index.isin(cons_train_index)].to_numpy()\n",
    "    y_train = y_train[y_train.index.isin(cons_train_index)].to_numpy()\n",
    "    \n",
    "    clf.fit(X_train, y_train)\n",
    "    val_preds = clf.predict_proba(X_val) # list of preds per class\n",
    "    val_preds = np.array(val_preds)[:,:,1].T # take the positive class\n",
    "    oof_preds[val_idx] = val_preds\n",
    "    \n",
    "    loss = log_loss(np.ravel(y_val), np.ravel(val_preds))\n",
    "    oof_losses.append(loss)\n",
    "    preds = clf.predict_proba(X_test)\n",
    "    preds = np.array(preds)[:,:,1].T # take the positive class\n",
    "    test_preds += preds / NFOLDS\n",
    "    \n",
    "print(oof_losses)\n",
    "print('Mean OOF loss across folds', np.mean(oof_losses))\n",
    "print('STD OOF loss across folds', np.std(oof_losses))"
   ]
  },
  {
   "cell_type": "code",
   "execution_count": 12,
   "metadata": {
    "execution": {
     "iopub.execute_input": "2020-10-02T10:41:27.310147Z",
     "iopub.status.busy": "2020-10-02T10:41:27.309069Z",
     "iopub.status.idle": "2020-10-02T10:41:32.036659Z",
     "shell.execute_reply": "2020-10-02T10:41:32.035658Z"
    },
    "papermill": {
     "duration": 4.787842,
     "end_time": "2020-10-02T10:41:32.036819",
     "exception": false,
     "start_time": "2020-10-02T10:41:27.248977",
     "status": "completed"
    },
    "tags": []
   },
   "outputs": [
    {
     "name": "stdout",
     "output_type": "stream",
     "text": [
      "OOF log loss:  0.01671552115234324\n"
     ]
    }
   ],
   "source": [
    "train_checkscore = targets.copy()\n",
    "train_checkscore.iloc[:,1:] = oof_preds\n",
    "train_checkscore.loc[train_checkscore.index.isin(noncons_train_index),target_feats] = 0\n",
    "print('OOF log loss: ', log_loss(np.ravel(y), np.ravel(np.array(train_checkscore.iloc[:,1:]))))"
   ]
  },
  {
   "cell_type": "code",
   "execution_count": 13,
   "metadata": {
    "execution": {
     "iopub.execute_input": "2020-10-02T10:41:32.081195Z",
     "iopub.status.busy": "2020-10-02T10:41:32.080191Z",
     "iopub.status.idle": "2020-10-02T10:41:34.848825Z",
     "shell.execute_reply": "2020-10-02T10:41:34.848106Z"
    },
    "papermill": {
     "duration": 2.793483,
     "end_time": "2020-10-02T10:41:34.848951",
     "exception": false,
     "start_time": "2020-10-02T10:41:32.055468",
     "status": "completed"
    },
    "tags": []
   },
   "outputs": [],
   "source": [
    "sub.iloc[:,1:] = test_preds\n",
    "sub.loc[sub.index.isin(noncons_test_index),target_feats] = 0\n",
    "sub.to_csv('submission.csv', index=False)"
   ]
  },
  {
   "cell_type": "code",
   "execution_count": null,
   "metadata": {
    "papermill": {
     "duration": 0.018754,
     "end_time": "2020-10-02T10:41:34.886751",
     "exception": false,
     "start_time": "2020-10-02T10:41:34.867997",
     "status": "completed"
    },
    "tags": []
   },
   "outputs": [],
   "source": []
  }
 ],
 "metadata": {
  "kernelspec": {
   "display_name": "Python 3",
   "language": "python",
   "name": "python3"
  },
  "language_info": {
   "codemirror_mode": {
    "name": "ipython",
    "version": 3
   },
   "file_extension": ".py",
   "mimetype": "text/x-python",
   "name": "python",
   "nbconvert_exporter": "python",
   "pygments_lexer": "ipython3",
   "version": "3.7.6"
  },
  "papermill": {
   "duration": 1490.901719,
   "end_time": "2020-10-02T10:41:35.313735",
   "environment_variables": {},
   "exception": null,
   "input_path": "__notebook__.ipynb",
   "output_path": "__notebook__.ipynb",
   "parameters": {},
   "start_time": "2020-10-02T10:16:44.412016",
   "version": "2.1.0"
  }
 },
 "nbformat": 4,
 "nbformat_minor": 4
}
