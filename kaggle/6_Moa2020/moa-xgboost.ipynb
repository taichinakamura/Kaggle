{
 "cells": [
  {
   "cell_type": "markdown",
   "metadata": {
    "papermill": {
     "duration": 0.012428,
     "end_time": "2020-10-29T22:01:08.444105",
     "exception": false,
     "start_time": "2020-10-29T22:01:08.431677",
     "status": "completed"
    },
    "tags": []
   },
   "source": [
    "- drop more features by variance reduction"
   ]
  },
  {
   "cell_type": "code",
   "execution_count": 1,
   "metadata": {
    "_cell_guid": "b1076dfc-b9ad-4769-8c92-a6c4dae69d19",
    "_uuid": "8f2839f25d086af736a60e9eeb907d3b93b6e0e5",
    "execution": {
     "iopub.execute_input": "2020-10-29T22:01:08.473545Z",
     "iopub.status.busy": "2020-10-29T22:01:08.472749Z",
     "iopub.status.idle": "2020-10-29T22:01:10.959710Z",
     "shell.execute_reply": "2020-10-29T22:01:10.958999Z"
    },
    "papermill": {
     "duration": 2.504326,
     "end_time": "2020-10-29T22:01:10.959833",
     "exception": false,
     "start_time": "2020-10-29T22:01:08.455507",
     "status": "completed"
    },
    "tags": []
   },
   "outputs": [],
   "source": [
    "import os\n",
    "import sys\n",
    "import warnings\n",
    "import numpy as np\n",
    "import pandas as pd \n",
    "import lightgbm as lgb\n",
    "from sklearn.decomposition import PCA\n",
    "import matplotlib.pyplot as plt\n",
    "from xgboost import XGBClassifier\n",
    "from sklearn.model_selection import KFold, StratifiedKFold\n",
    "from category_encoders import CountEncoder\n",
    "from sklearn.pipeline import Pipeline\n",
    "from sklearn.metrics import log_loss, mean_squared_error\n",
    "from sklearn import preprocessing\n",
    "from sklearn.multioutput import MultiOutputClassifier\n",
    "sys.path.append('../input/multilabelstraifier/')\n",
    "from ml_stratifiers import MultilabelStratifiedKFold\n",
    "warnings.filterwarnings('ignore')\n",
    "from sklearn.feature_selection import VarianceThreshold"
   ]
  },
  {
   "cell_type": "code",
   "execution_count": 2,
   "metadata": {
    "execution": {
     "iopub.execute_input": "2020-10-29T22:01:10.987098Z",
     "iopub.status.busy": "2020-10-29T22:01:10.986193Z",
     "iopub.status.idle": "2020-10-29T22:01:10.988789Z",
     "shell.execute_reply": "2020-10-29T22:01:10.989264Z"
    },
    "papermill": {
     "duration": 0.018641,
     "end_time": "2020-10-29T22:01:10.989449",
     "exception": false,
     "start_time": "2020-10-29T22:01:10.970808",
     "status": "completed"
    },
    "tags": []
   },
   "outputs": [],
   "source": [
    "SEED = 42\n",
    "NFOLDS = 5\n",
    "np.random.seed(SEED)\n",
    "DATA_DIR = '/kaggle/input/lish-moa/'"
   ]
  },
  {
   "cell_type": "code",
   "execution_count": 3,
   "metadata": {
    "_cell_guid": "79c7e3d0-c299-4dcb-8224-4455121ee9b0",
    "_uuid": "d629ff2d2480ee46fbb7e2d37f6b5fab8052498a",
    "execution": {
     "iopub.execute_input": "2020-10-29T22:01:11.018301Z",
     "iopub.status.busy": "2020-10-29T22:01:11.017564Z",
     "iopub.status.idle": "2020-10-29T22:01:15.850379Z",
     "shell.execute_reply": "2020-10-29T22:01:15.849705Z"
    },
    "papermill": {
     "duration": 4.850096,
     "end_time": "2020-10-29T22:01:15.850502",
     "exception": false,
     "start_time": "2020-10-29T22:01:11.000406",
     "status": "completed"
    },
    "tags": []
   },
   "outputs": [],
   "source": [
    "train = pd.read_csv(DATA_DIR + 'train_features.csv')\n",
    "targets = pd.read_csv(DATA_DIR + 'train_targets_scored.csv')\n",
    "\n",
    "test = pd.read_csv(DATA_DIR + 'test_features.csv')\n",
    "sub = pd.read_csv(DATA_DIR + 'sample_submission.csv')"
   ]
  },
  {
   "cell_type": "code",
   "execution_count": 4,
   "metadata": {
    "execution": {
     "iopub.execute_input": "2020-10-29T22:01:15.878397Z",
     "iopub.status.busy": "2020-10-29T22:01:15.877739Z",
     "iopub.status.idle": "2020-10-29T22:01:15.880406Z",
     "shell.execute_reply": "2020-10-29T22:01:15.879796Z"
    },
    "papermill": {
     "duration": 0.019117,
     "end_time": "2020-10-29T22:01:15.880539",
     "exception": false,
     "start_time": "2020-10-29T22:01:15.861422",
     "status": "completed"
    },
    "tags": []
   },
   "outputs": [],
   "source": [
    "target_feats = [ i for i in targets.columns if i != \"sig_id\"]\n",
    "g_feats = [i for i in train.columns if \"g-\" in i]\n",
    "c_feats = [i for i in train.columns if \"c-\" in i]"
   ]
  },
  {
   "cell_type": "code",
   "execution_count": 5,
   "metadata": {
    "execution": {
     "iopub.execute_input": "2020-10-29T22:01:15.928691Z",
     "iopub.status.busy": "2020-10-29T22:01:15.910853Z",
     "iopub.status.idle": "2020-10-29T22:01:16.045075Z",
     "shell.execute_reply": "2020-10-29T22:01:16.045554Z"
    },
    "papermill": {
     "duration": 0.154152,
     "end_time": "2020-10-29T22:01:16.045721",
     "exception": false,
     "start_time": "2020-10-29T22:01:15.891569",
     "status": "completed"
    },
    "tags": []
   },
   "outputs": [],
   "source": [
    "noncons_train_index = train[train.cp_type==\"ctl_vehicle\"].index\n",
    "cons_train_index = train[train.cp_type!=\"ctl_vehicle\"].index\n",
    "noncons_test_index = test[test.cp_type==\"ctl_vehicle\"].index\n",
    "cons_test_index = test[test.cp_type!=\"ctl_vehicle\"].index"
   ]
  },
  {
   "cell_type": "markdown",
   "metadata": {
    "papermill": {
     "duration": 0.010731,
     "end_time": "2020-10-29T22:01:16.069026",
     "exception": false,
     "start_time": "2020-10-29T22:01:16.058295",
     "status": "completed"
    },
    "tags": []
   },
   "source": [
    "# Preprocess"
   ]
  },
  {
   "cell_type": "code",
   "execution_count": 6,
   "metadata": {
    "execution": {
     "iopub.execute_input": "2020-10-29T22:01:16.099512Z",
     "iopub.status.busy": "2020-10-29T22:01:16.098845Z",
     "iopub.status.idle": "2020-10-29T22:01:16.358471Z",
     "shell.execute_reply": "2020-10-29T22:01:16.357910Z"
    },
    "papermill": {
     "duration": 0.278643,
     "end_time": "2020-10-29T22:01:16.358598",
     "exception": false,
     "start_time": "2020-10-29T22:01:16.079955",
     "status": "completed"
    },
    "tags": []
   },
   "outputs": [],
   "source": [
    "test = test[test.index.isin(cons_test_index)].reset_index(drop=True)\n",
    "train = train[train.index.isin(cons_train_index)].reset_index(drop=True)\n",
    "fn_targets = targets[targets.index.isin(cons_train_index)].copy().reset_index(drop=True)\n",
    "y = targets.drop(\"sig_id\", axis=1).copy()"
   ]
  },
  {
   "cell_type": "markdown",
   "metadata": {
    "papermill": {
     "duration": 0.011022,
     "end_time": "2020-10-29T22:01:16.381030",
     "exception": false,
     "start_time": "2020-10-29T22:01:16.370008",
     "status": "completed"
    },
    "tags": []
   },
   "source": [
    "# Feature engineering"
   ]
  },
  {
   "cell_type": "code",
   "execution_count": 7,
   "metadata": {
    "execution": {
     "iopub.execute_input": "2020-10-29T22:01:16.457155Z",
     "iopub.status.busy": "2020-10-29T22:01:16.409265Z",
     "iopub.status.idle": "2020-10-29T22:01:16.840931Z",
     "shell.execute_reply": "2020-10-29T22:01:16.840370Z"
    },
    "papermill": {
     "duration": 0.448779,
     "end_time": "2020-10-29T22:01:16.841046",
     "exception": false,
     "start_time": "2020-10-29T22:01:16.392267",
     "status": "completed"
    },
    "tags": []
   },
   "outputs": [
    {
     "data": {
      "text/plain": [
       "33"
      ]
     },
     "execution_count": 7,
     "metadata": {},
     "output_type": "execute_result"
    }
   ],
   "source": [
    "X = train.iloc[:,4:].copy().values\n",
    "select = VarianceThreshold(threshold=0.7)\n",
    "X_new = select.fit_transform(X)\n",
    "drop_feats = list(np.array(train.iloc[:,4:].columns)[select.get_support()==False])\n",
    "len(drop_feats)"
   ]
  },
  {
   "cell_type": "code",
   "execution_count": 8,
   "metadata": {
    "execution": {
     "iopub.execute_input": "2020-10-29T22:01:16.926416Z",
     "iopub.status.busy": "2020-10-29T22:01:16.921001Z",
     "iopub.status.idle": "2020-10-29T22:01:16.930978Z",
     "shell.execute_reply": "2020-10-29T22:01:16.931535Z"
    },
    "papermill": {
     "duration": 0.078559,
     "end_time": "2020-10-29T22:01:16.931685",
     "exception": false,
     "start_time": "2020-10-29T22:01:16.853126",
     "status": "completed"
    },
    "tags": []
   },
   "outputs": [],
   "source": [
    "train.drop(drop_feats, axis=1, inplace=True)\n",
    "test.drop(drop_feats, axis=1, inplace=True)\n",
    "g_feats = [i for i in train.columns if \"g-\" in i]\n",
    "c_feats = [i for i in train.columns if \"c-\" in i]"
   ]
  },
  {
   "cell_type": "code",
   "execution_count": 9,
   "metadata": {
    "execution": {
     "iopub.execute_input": "2020-10-29T22:01:16.970054Z",
     "iopub.status.busy": "2020-10-29T22:01:16.969387Z",
     "iopub.status.idle": "2020-10-29T22:01:21.827107Z",
     "shell.execute_reply": "2020-10-29T22:01:21.827569Z"
    },
    "papermill": {
     "duration": 4.8841,
     "end_time": "2020-10-29T22:01:21.827726",
     "exception": false,
     "start_time": "2020-10-29T22:01:16.943626",
     "status": "completed"
    },
    "tags": []
   },
   "outputs": [
    {
     "name": "stdout",
     "output_type": "stream",
     "text": [
      "(21948, 856) (3624, 856)\n"
     ]
    }
   ],
   "source": [
    "def fe(df, remove_features):\n",
    "    df['g_sum'] = df[g_feats].sum(axis = 1)\n",
    "    df['g_mean'] = df[g_feats].mean(axis = 1)\n",
    "    df['g_std'] = df[g_feats].std(axis = 1)\n",
    "    df['g_kurt'] = df[g_feats].kurtosis(axis = 1)\n",
    "    df['g_skew'] = df[g_feats].skew(axis = 1)\n",
    "    df['c_sum'] = df[c_feats].sum(axis = 1)\n",
    "    df['c_mean'] = df[c_feats].mean(axis = 1)\n",
    "    df['c_std'] = df[c_feats].std(axis = 1)\n",
    "    df['c_kurt'] = df[c_feats].kurtosis(axis = 1)\n",
    "    df['c_skew'] = df[c_feats].skew(axis = 1)\n",
    "    df['gc_sum'] = df[c_feats + g_feats].sum(axis = 1)\n",
    "    df['gc_mean'] = df[c_feats + g_feats].mean(axis = 1)\n",
    "    df['gc_std'] = df[c_feats + g_feats].std(axis = 1)\n",
    "    df['gc_kurt'] = df[c_feats + g_feats].kurtosis(axis = 1)\n",
    "    df['gc_skew'] = df[c_feats + g_feats].skew(axis = 1)\n",
    "    df.drop(remove_features, axis=1, inplace=True)\n",
    "    df.loc[:, 'cp_dose'] = df.loc[:, 'cp_dose'].map({'D1': 0, 'D2': 1})\n",
    "    return df\n",
    "\n",
    "remove_features = [\"cp_type\" , \"sig_id\"]\n",
    "        \n",
    "train = fe(train, remove_features)\n",
    "test = fe(test, remove_features)\n",
    "    \n",
    "print(train.shape, test.shape)"
   ]
  },
  {
   "cell_type": "markdown",
   "metadata": {
    "papermill": {
     "duration": 0.011836,
     "end_time": "2020-10-29T22:01:21.851754",
     "exception": false,
     "start_time": "2020-10-29T22:01:21.839918",
     "status": "completed"
    },
    "tags": []
   },
   "source": [
    "# modelling"
   ]
  },
  {
   "cell_type": "code",
   "execution_count": 10,
   "metadata": {
    "execution": {
     "iopub.execute_input": "2020-10-29T22:01:21.883537Z",
     "iopub.status.busy": "2020-10-29T22:01:21.882838Z",
     "iopub.status.idle": "2020-10-29T22:01:21.911557Z",
     "shell.execute_reply": "2020-10-29T22:01:21.910911Z"
    },
    "papermill": {
     "duration": 0.0479,
     "end_time": "2020-10-29T22:01:21.911671",
     "exception": false,
     "start_time": "2020-10-29T22:01:21.863771",
     "status": "completed"
    },
    "tags": []
   },
   "outputs": [
    {
     "data": {
      "text/plain": [
       "Pipeline(steps=[('classify',\n",
       "                 MultiOutputClassifier(estimator=XGBClassifier(base_score=None,\n",
       "                                                               booster=None,\n",
       "                                                               colsample_bylevel=None,\n",
       "                                                               colsample_bynode=None,\n",
       "                                                               colsample_bytree=None,\n",
       "                                                               gamma=3.6975,\n",
       "                                                               gpu_id=None,\n",
       "                                                               importance_type='gain',\n",
       "                                                               interaction_constraints=None,\n",
       "                                                               learning_rate=0.0803,\n",
       "                                                               max_delta_step=2.0706,\n",
       "                                                               max_depth=10,\n",
       "                                                               min_child_weight=31.58,\n",
       "                                                               missing=nan,\n",
       "                                                               monotone_constraints=None,\n",
       "                                                               n_estimators=166,\n",
       "                                                               n_jobs=None,\n",
       "                                                               num_parallel_tree=None,\n",
       "                                                               random_state=None,\n",
       "                                                               reg_alpha=None,\n",
       "                                                               reg_lambda=None,\n",
       "                                                               scale_pos_weight=None,\n",
       "                                                               subsample=None,\n",
       "                                                               tree_method='hist',\n",
       "                                                               validate_parameters=None,\n",
       "                                                               verbosity=None)))])"
      ]
     },
     "execution_count": 10,
     "metadata": {},
     "output_type": "execute_result"
    }
   ],
   "source": [
    "classifier = MultiOutputClassifier(XGBClassifier(tree_method='hist')) #gpu_\n",
    "\n",
    "clf = Pipeline([('classify', classifier)\n",
    "               ])\n",
    "\n",
    "params = {'classify__estimator__gamma': 3.6975,\n",
    "          'classify__estimator__learning_rate': 0.0803,\n",
    "          'classify__estimator__max_delta_step': 2.0706,\n",
    "          'classify__estimator__max_depth': 10,\n",
    "          'classify__estimator__min_child_weight': 31.5800,\n",
    "          'classify__estimator__n_estimators': 166,\n",
    "         }\n",
    "\n",
    "clf.set_params(**params)"
   ]
  },
  {
   "cell_type": "code",
   "execution_count": 11,
   "metadata": {
    "execution": {
     "iopub.execute_input": "2020-10-29T22:01:21.950431Z",
     "iopub.status.busy": "2020-10-29T22:01:21.947020Z",
     "iopub.status.idle": "2020-10-29T22:01:21.953809Z",
     "shell.execute_reply": "2020-10-29T22:01:21.953138Z"
    },
    "papermill": {
     "duration": 0.027697,
     "end_time": "2020-10-29T22:01:21.953937",
     "exception": false,
     "start_time": "2020-10-29T22:01:21.926240",
     "status": "completed"
    },
    "tags": []
   },
   "outputs": [],
   "source": [
    "def modelling_xgb(X, y, X_test, seed):\n",
    "    oof_preds = np.zeros(y.shape)\n",
    "    test_preds = np.zeros((X_test.shape[0], y.shape[1]))\n",
    "    oof_losses = []\n",
    "    mskf = MultilabelStratifiedKFold(n_splits=NFOLDS, random_state=seed, shuffle=True)\n",
    "    for fn, (trn_idx, val_idx) in enumerate(mskf.split(X, y)):\n",
    "        print('Starting fold: ', fn)\n",
    "        X_train, X_val = X.iloc[trn_idx,:].to_numpy(), X.iloc[val_idx,:].to_numpy()\n",
    "        y_train, y_val = y.iloc[trn_idx].to_numpy(), y.iloc[val_idx].to_numpy()\n",
    "    \n",
    "        clf.fit(X_train, y_train)\n",
    "        val_preds = clf.predict_proba(X_val) # list of preds per class\n",
    "        val_preds = np.array(val_preds)[:,:,1].T # take the positive class\n",
    "        oof_preds[val_idx] = val_preds\n",
    "    \n",
    "        loss = log_loss(np.ravel(y_val), np.ravel(val_preds))\n",
    "        print(loss)\n",
    "        oof_losses.append(loss)\n",
    "        preds = clf.predict_proba(X_test)\n",
    "        preds = np.array(preds)[:,:,1].T # take the positive class\n",
    "        test_preds += preds / NFOLDS\n",
    "    \n",
    "    print(oof_losses)\n",
    "    print('Mean OOF loss across folds', np.mean(oof_losses))\n",
    "    print('STD OOF loss across folds', np.std(oof_losses))\n",
    "    return oof_preds, test_preds"
   ]
  },
  {
   "cell_type": "code",
   "execution_count": 12,
   "metadata": {
    "execution": {
     "iopub.execute_input": "2020-10-29T22:01:21.986595Z",
     "iopub.status.busy": "2020-10-29T22:01:21.985958Z",
     "iopub.status.idle": "2020-10-30T01:16:03.452253Z",
     "shell.execute_reply": "2020-10-30T01:16:03.453031Z"
    },
    "papermill": {
     "duration": 11681.486546,
     "end_time": "2020-10-30T01:16:03.453278",
     "exception": false,
     "start_time": "2020-10-29T22:01:21.966732",
     "status": "completed"
    },
    "tags": []
   },
   "outputs": [
    {
     "name": "stdout",
     "output_type": "stream",
     "text": [
      "Starting fold:  0\n",
      "0.01764773892686984\n",
      "Starting fold:  1\n",
      "0.017661657040961988\n",
      "Starting fold:  2\n",
      "0.017338399393737398\n",
      "Starting fold:  3\n",
      "0.017675481530712266\n",
      "Starting fold:  4\n",
      "0.017692802591760058\n",
      "[0.01764773892686984, 0.017661657040961988, 0.017338399393737398, 0.017675481530712266, 0.017692802591760058]\n",
      "Mean OOF loss across folds 0.01760321589680831\n",
      "STD OOF loss across folds 0.0001332467977780146\n"
     ]
    }
   ],
   "source": [
    "X = train.copy()\n",
    "y_xgb = fn_targets.drop(\"sig_id\", axis=1).copy()\n",
    "X_test = test.copy()\n",
    "\n",
    "seeds = [42]\n",
    "oof_preds = np.zeros(y_xgb.shape)\n",
    "test_preds = np.zeros((test.shape[0], y_xgb.shape[1]))\n",
    "for seed_ in seeds:\n",
    "    ind_preds, ind_test_preds = modelling_xgb(X, y_xgb, X_test, seed_)\n",
    "    oof_preds += ind_preds / len(seeds)\n",
    "    test_preds += ind_test_preds / len(seeds)"
   ]
  },
  {
   "cell_type": "code",
   "execution_count": 13,
   "metadata": {
    "execution": {
     "iopub.execute_input": "2020-10-30T01:16:03.497949Z",
     "iopub.status.busy": "2020-10-30T01:16:03.497257Z",
     "iopub.status.idle": "2020-10-30T01:16:04.948734Z",
     "shell.execute_reply": "2020-10-30T01:16:04.948103Z"
    },
    "papermill": {
     "duration": 1.473358,
     "end_time": "2020-10-30T01:16:04.948844",
     "exception": false,
     "start_time": "2020-10-30T01:16:03.475486",
     "status": "completed"
    },
    "tags": []
   },
   "outputs": [
    {
     "name": "stdout",
     "output_type": "stream",
     "text": [
      "OOF log loss:  0.016223883433194877\n"
     ]
    }
   ],
   "source": [
    "check = np.zeros([targets.shape[0], targets.shape[1]-1])\n",
    "check[cons_train_index,:] = oof_preds\n",
    "print('OOF log loss: ', log_loss(np.ravel(y), np.ravel(check)))"
   ]
  },
  {
   "cell_type": "code",
   "execution_count": 14,
   "metadata": {
    "execution": {
     "iopub.execute_input": "2020-10-30T01:16:04.988804Z",
     "iopub.status.busy": "2020-10-30T01:16:04.987436Z",
     "iopub.status.idle": "2020-10-30T01:16:07.052602Z",
     "shell.execute_reply": "2020-10-30T01:16:07.051922Z"
    },
    "papermill": {
     "duration": 2.087339,
     "end_time": "2020-10-30T01:16:07.052725",
     "exception": false,
     "start_time": "2020-10-30T01:16:04.965386",
     "status": "completed"
    },
    "tags": []
   },
   "outputs": [],
   "source": [
    "sub.loc[cons_test_index,target_feats] = test_preds\n",
    "sub.loc[noncons_test_index,target_feats] = 0\n",
    "sub.to_csv('submission.csv', index=False)"
   ]
  },
  {
   "cell_type": "code",
   "execution_count": null,
   "metadata": {
    "papermill": {
     "duration": 0.016381,
     "end_time": "2020-10-30T01:16:07.085924",
     "exception": false,
     "start_time": "2020-10-30T01:16:07.069543",
     "status": "completed"
    },
    "tags": []
   },
   "outputs": [],
   "source": []
  }
 ],
 "metadata": {
  "kernelspec": {
   "display_name": "Python 3",
   "language": "python",
   "name": "python3"
  },
  "language_info": {
   "codemirror_mode": {
    "name": "ipython",
    "version": 3
   },
   "file_extension": ".py",
   "mimetype": "text/x-python",
   "name": "python",
   "nbconvert_exporter": "python",
   "pygments_lexer": "ipython3",
   "version": "3.7.6"
  },
  "papermill": {
   "duration": 11703.855199,
   "end_time": "2020-10-30T01:16:07.212023",
   "environment_variables": {},
   "exception": null,
   "input_path": "__notebook__.ipynb",
   "output_path": "__notebook__.ipynb",
   "parameters": {},
   "start_time": "2020-10-29T22:01:03.356824",
   "version": "2.1.0"
  }
 },
 "nbformat": 4,
 "nbformat_minor": 4
}
