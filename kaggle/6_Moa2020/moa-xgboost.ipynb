{
 "cells": [
  {
   "cell_type": "markdown",
   "metadata": {
    "papermill": {
     "duration": 0.014223,
     "end_time": "2020-10-04T07:08:29.106276",
     "exception": false,
     "start_time": "2020-10-04T07:08:29.092053",
     "status": "completed"
    },
    "tags": []
   },
   "source": [
    "- change fold to 7"
   ]
  },
  {
   "cell_type": "code",
   "execution_count": 1,
   "metadata": {
    "_cell_guid": "b1076dfc-b9ad-4769-8c92-a6c4dae69d19",
    "_uuid": "8f2839f25d086af736a60e9eeb907d3b93b6e0e5",
    "execution": {
     "iopub.execute_input": "2020-10-04T07:08:29.141515Z",
     "iopub.status.busy": "2020-10-04T07:08:29.140574Z",
     "iopub.status.idle": "2020-10-04T07:08:32.276725Z",
     "shell.execute_reply": "2020-10-04T07:08:32.275703Z"
    },
    "papermill": {
     "duration": 3.157441,
     "end_time": "2020-10-04T07:08:32.276882",
     "exception": false,
     "start_time": "2020-10-04T07:08:29.119441",
     "status": "completed"
    },
    "tags": []
   },
   "outputs": [],
   "source": [
    "import os\n",
    "import sys\n",
    "import warnings\n",
    "import numpy as np\n",
    "import pandas as pd \n",
    "import matplotlib.pyplot as plt\n",
    "from xgboost import XGBClassifier\n",
    "from sklearn.model_selection import KFold\n",
    "from category_encoders import CountEncoder\n",
    "from sklearn.pipeline import Pipeline\n",
    "from sklearn.metrics import log_loss\n",
    "from sklearn import preprocessing\n",
    "from sklearn.multioutput import MultiOutputClassifier\n",
    "sys.path.append('../input/multilabelstraifier/')\n",
    "from ml_stratifiers import MultilabelStratifiedKFold\n",
    "warnings.filterwarnings('ignore')"
   ]
  },
  {
   "cell_type": "code",
   "execution_count": 2,
   "metadata": {
    "execution": {
     "iopub.execute_input": "2020-10-04T07:08:32.309773Z",
     "iopub.status.busy": "2020-10-04T07:08:32.308810Z",
     "iopub.status.idle": "2020-10-04T07:08:32.312091Z",
     "shell.execute_reply": "2020-10-04T07:08:32.311525Z"
    },
    "papermill": {
     "duration": 0.021263,
     "end_time": "2020-10-04T07:08:32.312192",
     "exception": false,
     "start_time": "2020-10-04T07:08:32.290929",
     "status": "completed"
    },
    "tags": []
   },
   "outputs": [],
   "source": [
    "SEED = 42\n",
    "NFOLDS = 7\n",
    "np.random.seed(SEED)\n",
    "DATA_DIR = '/kaggle/input/lish-moa/'"
   ]
  },
  {
   "cell_type": "code",
   "execution_count": 3,
   "metadata": {
    "_cell_guid": "79c7e3d0-c299-4dcb-8224-4455121ee9b0",
    "_uuid": "d629ff2d2480ee46fbb7e2d37f6b5fab8052498a",
    "execution": {
     "iopub.execute_input": "2020-10-04T07:08:32.346988Z",
     "iopub.status.busy": "2020-10-04T07:08:32.346037Z",
     "iopub.status.idle": "2020-10-04T07:08:39.031874Z",
     "shell.execute_reply": "2020-10-04T07:08:39.030304Z"
    },
    "papermill": {
     "duration": 6.706414,
     "end_time": "2020-10-04T07:08:39.032007",
     "exception": false,
     "start_time": "2020-10-04T07:08:32.325593",
     "status": "completed"
    },
    "tags": []
   },
   "outputs": [],
   "source": [
    "train = pd.read_csv(DATA_DIR + 'train_features.csv')\n",
    "targets = pd.read_csv(DATA_DIR + 'train_targets_scored.csv')\n",
    "\n",
    "test = pd.read_csv(DATA_DIR + 'test_features.csv')\n",
    "sub = pd.read_csv(DATA_DIR + 'sample_submission.csv')"
   ]
  },
  {
   "cell_type": "code",
   "execution_count": 4,
   "metadata": {
    "execution": {
     "iopub.execute_input": "2020-10-04T07:08:39.069287Z",
     "iopub.status.busy": "2020-10-04T07:08:39.067562Z",
     "iopub.status.idle": "2020-10-04T07:08:39.070032Z",
     "shell.execute_reply": "2020-10-04T07:08:39.070583Z"
    },
    "papermill": {
     "duration": 0.024381,
     "end_time": "2020-10-04T07:08:39.070745",
     "exception": false,
     "start_time": "2020-10-04T07:08:39.046364",
     "status": "completed"
    },
    "tags": []
   },
   "outputs": [],
   "source": [
    "target_feats = [ i for i in targets.columns if i != \"sig_id\"]\n",
    "g_feats = [i for i in train.columns if \"g-\" in i]\n",
    "c_feats = [i for i in train.columns if \"c-\" in i]"
   ]
  },
  {
   "cell_type": "code",
   "execution_count": 5,
   "metadata": {
    "execution": {
     "iopub.execute_input": "2020-10-04T07:08:39.112150Z",
     "iopub.status.busy": "2020-10-04T07:08:39.111193Z",
     "iopub.status.idle": "2020-10-04T07:08:39.234805Z",
     "shell.execute_reply": "2020-10-04T07:08:39.234109Z"
    },
    "papermill": {
     "duration": 0.150278,
     "end_time": "2020-10-04T07:08:39.234930",
     "exception": false,
     "start_time": "2020-10-04T07:08:39.084652",
     "status": "completed"
    },
    "tags": []
   },
   "outputs": [],
   "source": [
    "noncons_train_index = train[train.cp_type==\"ctl_vehicle\"].index\n",
    "cons_train_index = train[train.cp_type!=\"ctl_vehicle\"].index\n",
    "noncons_test_index = test[test.cp_type==\"ctl_vehicle\"].index\n",
    "cons_test_index = test[test.cp_type!=\"ctl_vehicle\"].index"
   ]
  },
  {
   "cell_type": "markdown",
   "metadata": {
    "papermill": {
     "duration": 0.013959,
     "end_time": "2020-10-04T07:08:39.264896",
     "exception": false,
     "start_time": "2020-10-04T07:08:39.250937",
     "status": "completed"
    },
    "tags": []
   },
   "source": [
    "# Preprocess"
   ]
  },
  {
   "cell_type": "code",
   "execution_count": 6,
   "metadata": {
    "execution": {
     "iopub.execute_input": "2020-10-04T07:08:39.311720Z",
     "iopub.status.busy": "2020-10-04T07:08:39.310761Z",
     "iopub.status.idle": "2020-10-04T07:08:46.708859Z",
     "shell.execute_reply": "2020-10-04T07:08:46.707534Z"
    },
    "papermill": {
     "duration": 7.429934,
     "end_time": "2020-10-04T07:08:46.709003",
     "exception": false,
     "start_time": "2020-10-04T07:08:39.279069",
     "status": "completed"
    },
    "tags": []
   },
   "outputs": [],
   "source": [
    "# normalization by ctl group\n",
    "train_ctl = train[train.index.isin(noncons_train_index)].copy().reset_index(drop=True)\n",
    "test_ctl = test[test.index.isin(noncons_test_index)].copy().reset_index(drop=True)\n",
    "ctl_df = pd.concat([train_ctl, test_ctl])\n",
    "\n",
    "ctl_group_data = ctl_df.groupby([\"cp_dose\", \"cp_time\"]).agg({\"mean\"}).reset_index()\n",
    "mean_g_feats = [\"mean-\" + i for i in g_feats]\n",
    "mean_c_feats = [\"mean-\" + i for i in c_feats]\n",
    "columns = [\"cp_dose\", \"cp_time\"] + mean_g_feats + mean_c_feats\n",
    "ctl_group_data.columns = columns\n",
    "\n",
    "#train_cons = train_feat[train_feat.index.isin(cons_train_index)].copy().reset_index(drop=True)\n",
    "#test_cons = test_feat[test_feat.index.isin(cons_test_index)].copy().reset_index(drop=True)\n",
    "#n_train_score = train_score[train_score.index.isin(cons_train_index)].copy().reset_index(drop=True)\n",
    "#n_train_nonscore = train_nonscore[train_nonscore.index.isin(cons_train_index)].copy().reset_index(drop=True)\n",
    "\n",
    "train = pd.merge(train, ctl_group_data, on=[\"cp_time\", \"cp_dose\"], how=\"left\")\n",
    "test = pd.merge(test, ctl_group_data, on=[\"cp_time\", \"cp_dose\"], how=\"left\")\n",
    "\n",
    "for i in range(len(g_feats)):\n",
    "    train[\"diff-g-\"+str(i)] = train[\"g-\"+str(i)] - train[\"mean-g-\"+str(i)]\n",
    "    test[\"diff-g-\"+str(i)] = test[\"g-\"+str(i)] - test[\"mean-g-\"+str(i)]\n",
    "    \n",
    "for i in range(len(c_feats)):\n",
    "    train[\"diff-c-\"+str(i)] = train[\"c-\"+str(i)] - train[\"mean-c-\"+str(i)]\n",
    "    test[\"diff-c-\"+str(i)] = test[\"c-\"+str(i)] - test[\"mean-c-\"+str(i)]"
   ]
  },
  {
   "cell_type": "code",
   "execution_count": 7,
   "metadata": {
    "execution": {
     "iopub.execute_input": "2020-10-04T07:08:46.755401Z",
     "iopub.status.busy": "2020-10-04T07:08:46.754466Z",
     "iopub.status.idle": "2020-10-04T07:08:46.792359Z",
     "shell.execute_reply": "2020-10-04T07:08:46.791708Z"
    },
    "papermill": {
     "duration": 0.068495,
     "end_time": "2020-10-04T07:08:46.792521",
     "exception": false,
     "start_time": "2020-10-04T07:08:46.724026",
     "status": "completed"
    },
    "tags": []
   },
   "outputs": [],
   "source": [
    "categoricals = [\"cp_dose\"]\n",
    "\n",
    "def encoding(tr, te):\n",
    "    for f in categoricals:\n",
    "        lbl = preprocessing.LabelEncoder()\n",
    "        lbl.fit(list(tr[f]))\n",
    "        tr[f] = lbl.transform(list(tr[f]))\n",
    "        te[f] = lbl.transform(list(te[f])) \n",
    "        \n",
    "    return tr, te\n",
    "\n",
    "train, test = encoding(train, test)"
   ]
  },
  {
   "cell_type": "markdown",
   "metadata": {
    "papermill": {
     "duration": 0.01441,
     "end_time": "2020-10-04T07:08:46.821648",
     "exception": false,
     "start_time": "2020-10-04T07:08:46.807238",
     "status": "completed"
    },
    "tags": []
   },
   "source": [
    "# Feature engineering"
   ]
  },
  {
   "cell_type": "code",
   "execution_count": 8,
   "metadata": {
    "execution": {
     "iopub.execute_input": "2020-10-04T07:08:46.862440Z",
     "iopub.status.busy": "2020-10-04T07:08:46.860896Z",
     "iopub.status.idle": "2020-10-04T07:08:47.323333Z",
     "shell.execute_reply": "2020-10-04T07:08:47.324040Z"
    },
    "papermill": {
     "duration": 0.487886,
     "end_time": "2020-10-04T07:08:47.324188",
     "exception": false,
     "start_time": "2020-10-04T07:08:46.836302",
     "status": "completed"
    },
    "tags": []
   },
   "outputs": [
    {
     "name": "stdout",
     "output_type": "stream",
     "text": [
      "(23814, 874) (3982, 874)\n"
     ]
    }
   ],
   "source": [
    "def fe(df, remove_features):\n",
    "    df.drop(remove_features, axis=1, inplace=True)\n",
    "    return df\n",
    "\n",
    "remove_features = [\"cp_type\" , \"sig_id\"] + mean_g_feats + mean_c_feats + g_feats + c_feats \n",
    "#for i in [i for i in train.columns if i != \"sig_id\"]:\n",
    "#    if i not in remove_features and (n_train_feat[i].std() == 0):\n",
    "#        remove_features.append(i)\n",
    "        \n",
    "train = fe(train, remove_features)\n",
    "test = fe(test, remove_features)\n",
    "    \n",
    "print(train.shape, test.shape)"
   ]
  },
  {
   "cell_type": "markdown",
   "metadata": {
    "papermill": {
     "duration": 0.014754,
     "end_time": "2020-10-04T07:08:47.355088",
     "exception": false,
     "start_time": "2020-10-04T07:08:47.340334",
     "status": "completed"
    },
    "tags": []
   },
   "source": [
    "# modelling"
   ]
  },
  {
   "cell_type": "code",
   "execution_count": 9,
   "metadata": {
    "execution": {
     "iopub.execute_input": "2020-10-04T07:08:47.395490Z",
     "iopub.status.busy": "2020-10-04T07:08:47.394501Z",
     "iopub.status.idle": "2020-10-04T07:08:47.430947Z",
     "shell.execute_reply": "2020-10-04T07:08:47.431519Z"
    },
    "papermill": {
     "duration": 0.061724,
     "end_time": "2020-10-04T07:08:47.431656",
     "exception": false,
     "start_time": "2020-10-04T07:08:47.369932",
     "status": "completed"
    },
    "tags": []
   },
   "outputs": [
    {
     "data": {
      "text/plain": [
       "Pipeline(steps=[('classify',\n",
       "                 MultiOutputClassifier(estimator=XGBClassifier(base_score=None,\n",
       "                                                               booster=None,\n",
       "                                                               colsample_bylevel=None,\n",
       "                                                               colsample_bynode=None,\n",
       "                                                               colsample_bytree=None,\n",
       "                                                               gamma=3.6975,\n",
       "                                                               gpu_id=None,\n",
       "                                                               importance_type='gain',\n",
       "                                                               interaction_constraints=None,\n",
       "                                                               learning_rate=0.0603,\n",
       "                                                               max_delta_step=2.0706,\n",
       "                                                               max_depth=10,\n",
       "                                                               min_child_weight=31.58,\n",
       "                                                               missing=nan,\n",
       "                                                               monotone_constraints=None,\n",
       "                                                               n_estimators=166,\n",
       "                                                               n_jobs=None,\n",
       "                                                               num_parallel_tree=None,\n",
       "                                                               random_state=None,\n",
       "                                                               reg_alpha=None,\n",
       "                                                               reg_lambda=None,\n",
       "                                                               scale_pos_weight=None,\n",
       "                                                               subsample=None,\n",
       "                                                               tree_method='gpu_hist',\n",
       "                                                               validate_parameters=None,\n",
       "                                                               verbosity=None)))])"
      ]
     },
     "execution_count": 9,
     "metadata": {},
     "output_type": "execute_result"
    }
   ],
   "source": [
    "classifier = MultiOutputClassifier(XGBClassifier(tree_method='gpu_hist'))\n",
    "\n",
    "clf = Pipeline([('classify', classifier)\n",
    "               ])\n",
    "\n",
    "params = {#'classify__estimator__colsample_bytree': 0.7522,\n",
    "          'classify__estimator__gamma': 3.6975,\n",
    "          'classify__estimator__learning_rate': 0.0603,\n",
    "          'classify__estimator__max_delta_step': 2.0706,\n",
    "          'classify__estimator__max_depth': 10,\n",
    "          'classify__estimator__min_child_weight': 31.5800,\n",
    "          'classify__estimator__n_estimators': 166,\n",
    "          #'classify__estimator__subsample': 0.8639\n",
    "         }\n",
    "\n",
    "clf.set_params(**params)"
   ]
  },
  {
   "cell_type": "code",
   "execution_count": 10,
   "metadata": {
    "execution": {
     "iopub.execute_input": "2020-10-04T07:08:47.469338Z",
     "iopub.status.busy": "2020-10-04T07:08:47.468066Z",
     "iopub.status.idle": "2020-10-04T07:08:47.568522Z",
     "shell.execute_reply": "2020-10-04T07:08:47.567931Z"
    },
    "papermill": {
     "duration": 0.121253,
     "end_time": "2020-10-04T07:08:47.568650",
     "exception": false,
     "start_time": "2020-10-04T07:08:47.447397",
     "status": "completed"
    },
    "tags": []
   },
   "outputs": [],
   "source": [
    "X = train.copy()\n",
    "y = targets.drop(\"sig_id\", axis=1).copy()\n",
    "X_test = test.copy()"
   ]
  },
  {
   "cell_type": "code",
   "execution_count": 11,
   "metadata": {
    "execution": {
     "iopub.execute_input": "2020-10-04T07:08:47.617947Z",
     "iopub.status.busy": "2020-10-04T07:08:47.616876Z",
     "iopub.status.idle": "2020-10-04T07:44:11.669015Z",
     "shell.execute_reply": "2020-10-04T07:44:11.669724Z"
    },
    "papermill": {
     "duration": 2124.085213,
     "end_time": "2020-10-04T07:44:11.669922",
     "exception": false,
     "start_time": "2020-10-04T07:08:47.584709",
     "status": "completed"
    },
    "tags": []
   },
   "outputs": [
    {
     "name": "stdout",
     "output_type": "stream",
     "text": [
      "Starting fold:  0\n",
      "0.016741122841737573\n",
      "Starting fold:  1\n",
      "0.016485589299882943\n",
      "Starting fold:  2\n",
      "0.0166550220307152\n",
      "Starting fold:  3\n",
      "0.01677312524564486\n",
      "Starting fold:  4\n",
      "0.016687081842472917\n",
      "Starting fold:  5\n",
      "0.016691035529425417\n",
      "Starting fold:  6\n",
      "0.016619025657092192\n",
      "[0.016741122841737573, 0.016485589299882943, 0.0166550220307152, 0.01677312524564486, 0.016687081842472917, 0.016691035529425417, 0.016619025657092192]\n",
      "Mean OOF loss across folds 0.01666457177813873\n",
      "STD OOF loss across folds 8.705608054174312e-05\n"
     ]
    }
   ],
   "source": [
    "oof_preds = np.zeros(y.shape)\n",
    "test_preds = np.zeros((test.shape[0], y.shape[1]))\n",
    "oof_losses = []\n",
    "mskf = MultilabelStratifiedKFold(n_splits=NFOLDS, random_state=SEED)\n",
    "for fn, (trn_idx, val_idx) in enumerate(mskf.split(X, y)):\n",
    "    print('Starting fold: ', fn)\n",
    "    X_train, X_val = X.iloc[trn_idx,:], X.iloc[val_idx,:].to_numpy()\n",
    "    y_train, y_val = y.iloc[trn_idx], y.iloc[val_idx].to_numpy()\n",
    "    \n",
    "    X_train = X_train[X_train.index.isin(cons_train_index)].to_numpy()\n",
    "    y_train = y_train[y_train.index.isin(cons_train_index)].to_numpy()\n",
    "    \n",
    "    clf.fit(X_train, y_train)\n",
    "    val_preds = clf.predict_proba(X_val) # list of preds per class\n",
    "    val_preds = np.array(val_preds)[:,:,1].T # take the positive class\n",
    "    oof_preds[val_idx] = val_preds\n",
    "    \n",
    "    loss = log_loss(np.ravel(y_val), np.ravel(val_preds))\n",
    "    print(loss)\n",
    "    oof_losses.append(loss)\n",
    "    preds = clf.predict_proba(X_test)\n",
    "    preds = np.array(preds)[:,:,1].T # take the positive class\n",
    "    test_preds += preds / NFOLDS\n",
    "    \n",
    "print(oof_losses)\n",
    "print('Mean OOF loss across folds', np.mean(oof_losses))\n",
    "print('STD OOF loss across folds', np.std(oof_losses))"
   ]
  },
  {
   "cell_type": "code",
   "execution_count": 12,
   "metadata": {
    "execution": {
     "iopub.execute_input": "2020-10-04T07:44:11.732711Z",
     "iopub.status.busy": "2020-10-04T07:44:11.731133Z",
     "iopub.status.idle": "2020-10-04T07:44:16.197629Z",
     "shell.execute_reply": "2020-10-04T07:44:16.196704Z"
    },
    "papermill": {
     "duration": 4.501414,
     "end_time": "2020-10-04T07:44:16.197758",
     "exception": false,
     "start_time": "2020-10-04T07:44:11.696344",
     "status": "completed"
    },
    "tags": []
   },
   "outputs": [
    {
     "name": "stdout",
     "output_type": "stream",
     "text": [
      "OOF log loss:  0.01639730389118748\n"
     ]
    }
   ],
   "source": [
    "train_checkscore = targets.copy()\n",
    "train_checkscore.iloc[:,1:] = oof_preds\n",
    "train_checkscore.loc[train_checkscore.index.isin(noncons_train_index),target_feats] = 0\n",
    "print('OOF log loss: ', log_loss(np.ravel(y), np.ravel(np.array(train_checkscore.iloc[:,1:]))))"
   ]
  },
  {
   "cell_type": "code",
   "execution_count": 13,
   "metadata": {
    "execution": {
     "iopub.execute_input": "2020-10-04T07:44:16.250399Z",
     "iopub.status.busy": "2020-10-04T07:44:16.249490Z",
     "iopub.status.idle": "2020-10-04T07:44:19.082070Z",
     "shell.execute_reply": "2020-10-04T07:44:19.083441Z"
    },
    "papermill": {
     "duration": 2.86305,
     "end_time": "2020-10-04T07:44:19.083644",
     "exception": false,
     "start_time": "2020-10-04T07:44:16.220594",
     "status": "completed"
    },
    "tags": []
   },
   "outputs": [],
   "source": [
    "sub.iloc[:,1:] = test_preds\n",
    "sub.loc[sub.index.isin(noncons_test_index),target_feats] = 0\n",
    "sub.to_csv('submission.csv', index=False)"
   ]
  },
  {
   "cell_type": "code",
   "execution_count": null,
   "metadata": {
    "papermill": {
     "duration": 0.035828,
     "end_time": "2020-10-04T07:44:19.157228",
     "exception": false,
     "start_time": "2020-10-04T07:44:19.121400",
     "status": "completed"
    },
    "tags": []
   },
   "outputs": [],
   "source": []
  }
 ],
 "metadata": {
  "kernelspec": {
   "display_name": "Python 3",
   "language": "python",
   "name": "python3"
  },
  "language_info": {
   "codemirror_mode": {
    "name": "ipython",
    "version": 3
   },
   "file_extension": ".py",
   "mimetype": "text/x-python",
   "name": "python",
   "nbconvert_exporter": "python",
   "pygments_lexer": "ipython3",
   "version": "3.7.6"
  },
  "papermill": {
   "duration": 2154.952052,
   "end_time": "2020-10-04T07:44:19.608287",
   "environment_variables": {},
   "exception": null,
   "input_path": "__notebook__.ipynb",
   "output_path": "__notebook__.ipynb",
   "parameters": {},
   "start_time": "2020-10-04T07:08:24.656235",
   "version": "2.1.0"
  }
 },
 "nbformat": 4,
 "nbformat_minor": 4
}
