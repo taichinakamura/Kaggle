{
 "cells": [
  {
   "cell_type": "markdown",
   "metadata": {
    "papermill": {
     "duration": 0.014647,
     "end_time": "2020-10-04T08:51:50.642827",
     "exception": false,
     "start_time": "2020-10-04T08:51:50.628180",
     "status": "completed"
    },
    "tags": []
   },
   "source": [
    "- change fold to 5 again\n",
    "- incorporate sum of moa as variable\n",
    "- install lgb"
   ]
  },
  {
   "cell_type": "code",
   "execution_count": 1,
   "metadata": {
    "_cell_guid": "b1076dfc-b9ad-4769-8c92-a6c4dae69d19",
    "_uuid": "8f2839f25d086af736a60e9eeb907d3b93b6e0e5",
    "execution": {
     "iopub.execute_input": "2020-10-04T08:51:50.677807Z",
     "iopub.status.busy": "2020-10-04T08:51:50.677071Z",
     "iopub.status.idle": "2020-10-04T08:51:53.669170Z",
     "shell.execute_reply": "2020-10-04T08:51:53.667916Z"
    },
    "papermill": {
     "duration": 3.013089,
     "end_time": "2020-10-04T08:51:53.669344",
     "exception": false,
     "start_time": "2020-10-04T08:51:50.656255",
     "status": "completed"
    },
    "tags": []
   },
   "outputs": [],
   "source": [
    "import os\n",
    "import sys\n",
    "import warnings\n",
    "import numpy as np\n",
    "import pandas as pd \n",
    "import lightgbm as lgb\n",
    "import matplotlib.pyplot as plt\n",
    "from xgboost import XGBClassifier\n",
    "from sklearn.model_selection import KFold, StratifiedKFold\n",
    "from category_encoders import CountEncoder\n",
    "from sklearn.pipeline import Pipeline\n",
    "from sklearn.metrics import log_loss, mean_squared_error\n",
    "from sklearn import preprocessing\n",
    "from sklearn.multioutput import MultiOutputClassifier\n",
    "sys.path.append('../input/multilabelstraifier/')\n",
    "from ml_stratifiers import MultilabelStratifiedKFold\n",
    "warnings.filterwarnings('ignore')"
   ]
  },
  {
   "cell_type": "code",
   "execution_count": 2,
   "metadata": {
    "execution": {
     "iopub.execute_input": "2020-10-04T08:51:53.705459Z",
     "iopub.status.busy": "2020-10-04T08:51:53.703390Z",
     "iopub.status.idle": "2020-10-04T08:51:53.706346Z",
     "shell.execute_reply": "2020-10-04T08:51:53.706822Z"
    },
    "papermill": {
     "duration": 0.022838,
     "end_time": "2020-10-04T08:51:53.706950",
     "exception": false,
     "start_time": "2020-10-04T08:51:53.684112",
     "status": "completed"
    },
    "tags": []
   },
   "outputs": [],
   "source": [
    "SEED = 42\n",
    "NFOLDS = 5\n",
    "np.random.seed(SEED)\n",
    "DATA_DIR = '/kaggle/input/lish-moa/'"
   ]
  },
  {
   "cell_type": "code",
   "execution_count": 3,
   "metadata": {
    "_cell_guid": "79c7e3d0-c299-4dcb-8224-4455121ee9b0",
    "_uuid": "d629ff2d2480ee46fbb7e2d37f6b5fab8052498a",
    "execution": {
     "iopub.execute_input": "2020-10-04T08:51:53.742355Z",
     "iopub.status.busy": "2020-10-04T08:51:53.741552Z",
     "iopub.status.idle": "2020-10-04T08:51:59.530397Z",
     "shell.execute_reply": "2020-10-04T08:51:59.529215Z"
    },
    "papermill": {
     "duration": 5.809336,
     "end_time": "2020-10-04T08:51:59.530530",
     "exception": false,
     "start_time": "2020-10-04T08:51:53.721194",
     "status": "completed"
    },
    "tags": []
   },
   "outputs": [],
   "source": [
    "train = pd.read_csv(DATA_DIR + 'train_features.csv')\n",
    "targets = pd.read_csv(DATA_DIR + 'train_targets_scored.csv')\n",
    "\n",
    "test = pd.read_csv(DATA_DIR + 'test_features.csv')\n",
    "sub = pd.read_csv(DATA_DIR + 'sample_submission.csv')"
   ]
  },
  {
   "cell_type": "code",
   "execution_count": 4,
   "metadata": {
    "execution": {
     "iopub.execute_input": "2020-10-04T08:51:59.566542Z",
     "iopub.status.busy": "2020-10-04T08:51:59.564701Z",
     "iopub.status.idle": "2020-10-04T08:51:59.567227Z",
     "shell.execute_reply": "2020-10-04T08:51:59.567741Z"
    },
    "papermill": {
     "duration": 0.023182,
     "end_time": "2020-10-04T08:51:59.567873",
     "exception": false,
     "start_time": "2020-10-04T08:51:59.544691",
     "status": "completed"
    },
    "tags": []
   },
   "outputs": [],
   "source": [
    "target_feats = [ i for i in targets.columns if i != \"sig_id\"]\n",
    "g_feats = [i for i in train.columns if \"g-\" in i]\n",
    "c_feats = [i for i in train.columns if \"c-\" in i]"
   ]
  },
  {
   "cell_type": "code",
   "execution_count": 5,
   "metadata": {
    "execution": {
     "iopub.execute_input": "2020-10-04T08:51:59.608986Z",
     "iopub.status.busy": "2020-10-04T08:51:59.604378Z",
     "iopub.status.idle": "2020-10-04T08:51:59.707343Z",
     "shell.execute_reply": "2020-10-04T08:51:59.706738Z"
    },
    "papermill": {
     "duration": 0.125378,
     "end_time": "2020-10-04T08:51:59.707460",
     "exception": false,
     "start_time": "2020-10-04T08:51:59.582082",
     "status": "completed"
    },
    "tags": []
   },
   "outputs": [],
   "source": [
    "noncons_train_index = train[train.cp_type==\"ctl_vehicle\"].index\n",
    "cons_train_index = train[train.cp_type!=\"ctl_vehicle\"].index\n",
    "noncons_test_index = test[test.cp_type==\"ctl_vehicle\"].index\n",
    "cons_test_index = test[test.cp_type!=\"ctl_vehicle\"].index"
   ]
  },
  {
   "cell_type": "markdown",
   "metadata": {
    "papermill": {
     "duration": 0.01355,
     "end_time": "2020-10-04T08:51:59.737334",
     "exception": false,
     "start_time": "2020-10-04T08:51:59.723784",
     "status": "completed"
    },
    "tags": []
   },
   "source": [
    "# Preprocess"
   ]
  },
  {
   "cell_type": "code",
   "execution_count": 6,
   "metadata": {
    "execution": {
     "iopub.execute_input": "2020-10-04T08:51:59.777132Z",
     "iopub.status.busy": "2020-10-04T08:51:59.776246Z",
     "iopub.status.idle": "2020-10-04T08:52:01.754362Z",
     "shell.execute_reply": "2020-10-04T08:52:01.753050Z"
    },
    "papermill": {
     "duration": 2.002772,
     "end_time": "2020-10-04T08:52:01.754524",
     "exception": false,
     "start_time": "2020-10-04T08:51:59.751752",
     "status": "completed"
    },
    "tags": []
   },
   "outputs": [],
   "source": [
    "# normalization by ctl group\n",
    "train_ctl = train[train.index.isin(noncons_train_index)].copy().reset_index(drop=True)\n",
    "test_ctl = test[test.index.isin(noncons_test_index)].copy().reset_index(drop=True)\n",
    "ctl_df = pd.concat([train_ctl, test_ctl])\n",
    "\n",
    "ctl_group_data = ctl_df.groupby([\"cp_dose\", \"cp_time\"]).agg({\"mean\"}).reset_index()\n",
    "mean_g_feats = [\"mean-\" + i for i in g_feats]\n",
    "mean_c_feats = [\"mean-\" + i for i in c_feats]\n",
    "columns = [\"cp_dose\", \"cp_time\"] + mean_g_feats + mean_c_feats\n",
    "ctl_group_data.columns = columns\n",
    "\n",
    "#train_cons = train_feat[train_feat.index.isin(cons_train_index)].copy().reset_index(drop=True)\n",
    "#test_cons = test_feat[test_feat.index.isin(cons_test_index)].copy().reset_index(drop=True)\n",
    "#n_train_score = train_score[train_score.index.isin(cons_train_index)].copy().reset_index(drop=True)\n",
    "#n_train_nonscore = train_nonscore[train_nonscore.index.isin(cons_train_index)].copy().reset_index(drop=True)"
   ]
  },
  {
   "cell_type": "code",
   "execution_count": 7,
   "metadata": {
    "execution": {
     "iopub.execute_input": "2020-10-04T08:52:01.956678Z",
     "iopub.status.busy": "2020-10-04T08:52:01.807917Z",
     "iopub.status.idle": "2020-10-04T09:01:21.336152Z",
     "shell.execute_reply": "2020-10-04T09:01:21.337005Z"
    },
    "papermill": {
     "duration": 559.567234,
     "end_time": "2020-10-04T09:01:21.337187",
     "exception": false,
     "start_time": "2020-10-04T08:52:01.769953",
     "status": "completed"
    },
    "tags": []
   },
   "outputs": [
    {
     "name": "stdout",
     "output_type": "stream",
     "text": [
      "Training until validation scores don't improve for 50 rounds\n",
      "[1000]\ttraining's rmse: 0.524983\tvalid_1's rmse: 0.57542\n",
      "Early stopping, best iteration is:\n",
      "[1182]\ttraining's rmse: 0.517943\tvalid_1's rmse: 0.575035\n",
      "Training until validation scores don't improve for 50 rounds\n",
      "[1000]\ttraining's rmse: 0.526143\tvalid_1's rmse: 0.57163\n",
      "Early stopping, best iteration is:\n",
      "[1071]\ttraining's rmse: 0.52337\tvalid_1's rmse: 0.571491\n",
      "Training until validation scores don't improve for 50 rounds\n",
      "[1000]\ttraining's rmse: 0.527321\tvalid_1's rmse: 0.571052\n",
      "Early stopping, best iteration is:\n",
      "[1642]\ttraining's rmse: 0.503547\tvalid_1's rmse: 0.569874\n",
      "Training until validation scores don't improve for 50 rounds\n",
      "[1000]\ttraining's rmse: 0.528824\tvalid_1's rmse: 0.561002\n",
      "Early stopping, best iteration is:\n",
      "[1591]\ttraining's rmse: 0.50649\tvalid_1's rmse: 0.56025\n",
      "score: 0.32397641910322417\n"
     ]
    }
   ],
   "source": [
    "def regression(tr, ta, te):\n",
    "    y_train = ta.sum(axis=1).copy()\n",
    "    X_train = tr.copy()\n",
    "    X_test = te.copy()\n",
    "    for f in [\"cp_dose\", \"cp_type\"]:\n",
    "        lbl = preprocessing.LabelEncoder()\n",
    "        lbl.fit(list(tr[f]))\n",
    "        X_train[f] = lbl.transform(list(X_train[f]))\n",
    "        X_test[f] = lbl.transform(list(X_test[f])) \n",
    "    X_train.drop(\"sig_id\", axis=1, inplace=True)\n",
    "    X_test.drop(\"sig_id\", axis=1, inplace=True)\n",
    "    \n",
    "    params = {'objective': 'regression', 'metric': 'rmse', 'boosting_type': 'gbdt', 'tree_learner': 'serial', 'learning_rate': 0.01, \n",
    "               \"num_leaves\": 10, 'random_seed':44, 'max_depth': 4} \n",
    "        \n",
    "    n_folds=4\n",
    "    skf=StratifiedKFold(n_splits = n_folds, shuffle=True, random_state=0)\n",
    "\n",
    "    train_score_pred = np.zeros([X_train.shape[0]])\n",
    "    test_score_pred = np.zeros(X_test.shape[0])\n",
    "    for i , (train_index, test_index) in enumerate(skf.split(X_train, y_train)):\n",
    "        X_train2 = X_train.iloc[train_index,:]\n",
    "        y_train2 = y_train.iloc[train_index]\n",
    "\n",
    "        X_valid2 = X_train.iloc[test_index,:]\n",
    "        y_valid2 = y_train.iloc[test_index]\n",
    "        \n",
    "        lgb_train = lgb.Dataset(X_train2, y_train2)\n",
    "        lgb_eval = lgb.Dataset(X_valid2, y_valid2, reference=lgb_train)\n",
    "        \n",
    "        clf = lgb.train(params, lgb_train,valid_sets=[lgb_train, lgb_eval], \n",
    "               num_boost_round=10000,early_stopping_rounds=50,verbose_eval = 1000) \n",
    "\n",
    "        valid_predict = clf.predict(X_valid2, num_iteration = clf.best_iteration)\n",
    "        train_score_pred[test_index] = valid_predict\n",
    "        test_score_pred += clf.predict(X_test, num_iteration = clf.best_iteration) / n_folds\n",
    "            \n",
    "    print(\"score:\", mean_squared_error(y_train, train_score_pred))\n",
    "    return train_score_pred, test_score_pred\n",
    "\n",
    "train_score_pred, test_score_pred = regression(train, targets, test)"
   ]
  },
  {
   "cell_type": "code",
   "execution_count": 8,
   "metadata": {
    "execution": {
     "iopub.execute_input": "2020-10-04T09:01:21.400920Z",
     "iopub.status.busy": "2020-10-04T09:01:21.394908Z",
     "iopub.status.idle": "2020-10-04T09:01:26.067947Z",
     "shell.execute_reply": "2020-10-04T09:01:26.067347Z"
    },
    "papermill": {
     "duration": 4.706263,
     "end_time": "2020-10-04T09:01:26.068078",
     "exception": false,
     "start_time": "2020-10-04T09:01:21.361815",
     "status": "completed"
    },
    "tags": []
   },
   "outputs": [],
   "source": [
    "train = pd.merge(train, ctl_group_data, on=[\"cp_time\", \"cp_dose\"], how=\"left\")\n",
    "test = pd.merge(test, ctl_group_data, on=[\"cp_time\", \"cp_dose\"], how=\"left\")\n",
    "\n",
    "for i in range(len(g_feats)):\n",
    "    train[\"diff-g-\"+str(i)] = train[\"g-\"+str(i)] - train[\"mean-g-\"+str(i)]\n",
    "    test[\"diff-g-\"+str(i)] = test[\"g-\"+str(i)] - test[\"mean-g-\"+str(i)]\n",
    "    \n",
    "for i in range(len(c_feats)):\n",
    "    train[\"diff-c-\"+str(i)] = train[\"c-\"+str(i)] - train[\"mean-c-\"+str(i)]\n",
    "    test[\"diff-c-\"+str(i)] = test[\"c-\"+str(i)] - test[\"mean-c-\"+str(i)]"
   ]
  },
  {
   "cell_type": "code",
   "execution_count": 9,
   "metadata": {
    "execution": {
     "iopub.execute_input": "2020-10-04T09:01:26.125219Z",
     "iopub.status.busy": "2020-10-04T09:01:26.124326Z",
     "iopub.status.idle": "2020-10-04T09:01:26.157020Z",
     "shell.execute_reply": "2020-10-04T09:01:26.156511Z"
    },
    "papermill": {
     "duration": 0.067706,
     "end_time": "2020-10-04T09:01:26.157130",
     "exception": false,
     "start_time": "2020-10-04T09:01:26.089424",
     "status": "completed"
    },
    "tags": []
   },
   "outputs": [],
   "source": [
    "categoricals = [\"cp_dose\"]\n",
    "\n",
    "def encoding(tr, te):\n",
    "    for f in categoricals:\n",
    "        lbl = preprocessing.LabelEncoder()\n",
    "        lbl.fit(list(tr[f]))\n",
    "        tr[f] = lbl.transform(list(tr[f]))\n",
    "        te[f] = lbl.transform(list(te[f])) \n",
    "        \n",
    "    return tr, te\n",
    "\n",
    "train, test = encoding(train, test)"
   ]
  },
  {
   "cell_type": "markdown",
   "metadata": {
    "papermill": {
     "duration": 0.01934,
     "end_time": "2020-10-04T09:01:26.195750",
     "exception": false,
     "start_time": "2020-10-04T09:01:26.176410",
     "status": "completed"
    },
    "tags": []
   },
   "source": [
    "# Feature engineering"
   ]
  },
  {
   "cell_type": "code",
   "execution_count": 10,
   "metadata": {
    "execution": {
     "iopub.execute_input": "2020-10-04T09:01:26.245722Z",
     "iopub.status.busy": "2020-10-04T09:01:26.244391Z",
     "iopub.status.idle": "2020-10-04T09:01:26.709657Z",
     "shell.execute_reply": "2020-10-04T09:01:26.710207Z"
    },
    "papermill": {
     "duration": 0.495041,
     "end_time": "2020-10-04T09:01:26.710370",
     "exception": false,
     "start_time": "2020-10-04T09:01:26.215329",
     "status": "completed"
    },
    "tags": []
   },
   "outputs": [
    {
     "name": "stdout",
     "output_type": "stream",
     "text": [
      "(23814, 875) (3982, 875)\n"
     ]
    }
   ],
   "source": [
    "def fe(df, remove_features):\n",
    "    df.drop(remove_features, axis=1, inplace=True)\n",
    "    return df\n",
    "\n",
    "remove_features = [\"cp_type\" , \"sig_id\"] + mean_g_feats + mean_c_feats + g_feats + c_feats \n",
    "#for i in [i for i in train.columns if i != \"sig_id\"]:\n",
    "#    if i not in remove_features and (n_train_feat[i].std() == 0):\n",
    "#        remove_features.append(i)\n",
    "        \n",
    "train = fe(train, remove_features)\n",
    "test = fe(test, remove_features)\n",
    "train[\"score_sum\"] = train_score_pred\n",
    "test[\"score_sum\"] = test_score_pred\n",
    "    \n",
    "print(train.shape, test.shape)"
   ]
  },
  {
   "cell_type": "markdown",
   "metadata": {
    "papermill": {
     "duration": 0.020016,
     "end_time": "2020-10-04T09:01:26.750252",
     "exception": false,
     "start_time": "2020-10-04T09:01:26.730236",
     "status": "completed"
    },
    "tags": []
   },
   "source": [
    "# modelling"
   ]
  },
  {
   "cell_type": "code",
   "execution_count": 11,
   "metadata": {
    "execution": {
     "iopub.execute_input": "2020-10-04T09:01:26.800379Z",
     "iopub.status.busy": "2020-10-04T09:01:26.799735Z",
     "iopub.status.idle": "2020-10-04T09:01:26.834274Z",
     "shell.execute_reply": "2020-10-04T09:01:26.833731Z"
    },
    "papermill": {
     "duration": 0.063724,
     "end_time": "2020-10-04T09:01:26.834404",
     "exception": false,
     "start_time": "2020-10-04T09:01:26.770680",
     "status": "completed"
    },
    "tags": []
   },
   "outputs": [
    {
     "data": {
      "text/plain": [
       "Pipeline(steps=[('classify',\n",
       "                 MultiOutputClassifier(estimator=XGBClassifier(base_score=None,\n",
       "                                                               booster=None,\n",
       "                                                               colsample_bylevel=None,\n",
       "                                                               colsample_bynode=None,\n",
       "                                                               colsample_bytree=None,\n",
       "                                                               gamma=3.6975,\n",
       "                                                               gpu_id=None,\n",
       "                                                               importance_type='gain',\n",
       "                                                               interaction_constraints=None,\n",
       "                                                               learning_rate=0.0603,\n",
       "                                                               max_delta_step=2.0706,\n",
       "                                                               max_depth=10,\n",
       "                                                               min_child_weight=31.58,\n",
       "                                                               missing=nan,\n",
       "                                                               monotone_constraints=None,\n",
       "                                                               n_estimators=166,\n",
       "                                                               n_jobs=None,\n",
       "                                                               num_parallel_tree=None,\n",
       "                                                               random_state=None,\n",
       "                                                               reg_alpha=None,\n",
       "                                                               reg_lambda=None,\n",
       "                                                               scale_pos_weight=None,\n",
       "                                                               subsample=None,\n",
       "                                                               tree_method='gpu_hist',\n",
       "                                                               validate_parameters=None,\n",
       "                                                               verbosity=None)))])"
      ]
     },
     "execution_count": 11,
     "metadata": {},
     "output_type": "execute_result"
    }
   ],
   "source": [
    "classifier = MultiOutputClassifier(XGBClassifier(tree_method='gpu_hist'))\n",
    "\n",
    "clf = Pipeline([('classify', classifier)\n",
    "               ])\n",
    "\n",
    "params = {'classify__estimator__gamma': 3.6975,\n",
    "          'classify__estimator__learning_rate': 0.0603,\n",
    "          'classify__estimator__max_delta_step': 2.0706,\n",
    "          'classify__estimator__max_depth': 10,\n",
    "          'classify__estimator__min_child_weight': 31.5800,\n",
    "          'classify__estimator__n_estimators': 166,\n",
    "         }\n",
    "\n",
    "clf.set_params(**params)"
   ]
  },
  {
   "cell_type": "code",
   "execution_count": 12,
   "metadata": {
    "execution": {
     "iopub.execute_input": "2020-10-04T09:01:26.880596Z",
     "iopub.status.busy": "2020-10-04T09:01:26.879352Z",
     "iopub.status.idle": "2020-10-04T09:01:26.978436Z",
     "shell.execute_reply": "2020-10-04T09:01:26.977834Z"
    },
    "papermill": {
     "duration": 0.124056,
     "end_time": "2020-10-04T09:01:26.978580",
     "exception": false,
     "start_time": "2020-10-04T09:01:26.854524",
     "status": "completed"
    },
    "tags": []
   },
   "outputs": [],
   "source": [
    "X = train.copy()\n",
    "y = targets.drop(\"sig_id\", axis=1).copy()\n",
    "X_test = test.copy()"
   ]
  },
  {
   "cell_type": "code",
   "execution_count": 13,
   "metadata": {
    "execution": {
     "iopub.execute_input": "2020-10-04T09:01:27.035047Z",
     "iopub.status.busy": "2020-10-04T09:01:27.034161Z",
     "iopub.status.idle": "2020-10-04T09:24:48.481468Z",
     "shell.execute_reply": "2020-10-04T09:24:48.482048Z"
    },
    "papermill": {
     "duration": 1401.483001,
     "end_time": "2020-10-04T09:24:48.482210",
     "exception": false,
     "start_time": "2020-10-04T09:01:26.999209",
     "status": "completed"
    },
    "tags": []
   },
   "outputs": [
    {
     "name": "stdout",
     "output_type": "stream",
     "text": [
      "Starting fold:  0\n",
      "0.01666543050581402\n",
      "Starting fold:  1\n",
      "0.016792976328319952\n",
      "Starting fold:  2\n",
      "0.016726157396588233\n",
      "Starting fold:  3\n",
      "0.01688796637086785\n",
      "Starting fold:  4\n",
      "0.016736985421047904\n",
      "[0.01666543050581402, 0.016792976328319952, 0.016726157396588233, 0.01688796637086785, 0.016736985421047904]\n",
      "Mean OOF loss across folds 0.01676190320452759\n",
      "STD OOF loss across folds 7.491742286785465e-05\n"
     ]
    }
   ],
   "source": [
    "oof_preds = np.zeros(y.shape)\n",
    "test_preds = np.zeros((test.shape[0], y.shape[1]))\n",
    "oof_losses = []\n",
    "mskf = MultilabelStratifiedKFold(n_splits=NFOLDS, random_state=SEED)\n",
    "for fn, (trn_idx, val_idx) in enumerate(mskf.split(X, y)):\n",
    "    print('Starting fold: ', fn)\n",
    "    X_train, X_val = X.iloc[trn_idx,:], X.iloc[val_idx,:].to_numpy()\n",
    "    y_train, y_val = y.iloc[trn_idx], y.iloc[val_idx].to_numpy()\n",
    "    \n",
    "    X_train = X_train[X_train.index.isin(cons_train_index)].to_numpy()\n",
    "    y_train = y_train[y_train.index.isin(cons_train_index)].to_numpy()\n",
    "    \n",
    "    clf.fit(X_train, y_train)\n",
    "    val_preds = clf.predict_proba(X_val) # list of preds per class\n",
    "    val_preds = np.array(val_preds)[:,:,1].T # take the positive class\n",
    "    oof_preds[val_idx] = val_preds\n",
    "    \n",
    "    loss = log_loss(np.ravel(y_val), np.ravel(val_preds))\n",
    "    print(loss)\n",
    "    oof_losses.append(loss)\n",
    "    preds = clf.predict_proba(X_test)\n",
    "    preds = np.array(preds)[:,:,1].T # take the positive class\n",
    "    test_preds += preds / NFOLDS\n",
    "    \n",
    "print(oof_losses)\n",
    "print('Mean OOF loss across folds', np.mean(oof_losses))\n",
    "print('STD OOF loss across folds', np.std(oof_losses))"
   ]
  },
  {
   "cell_type": "code",
   "execution_count": 14,
   "metadata": {
    "execution": {
     "iopub.execute_input": "2020-10-04T09:24:48.553929Z",
     "iopub.status.busy": "2020-10-04T09:24:48.552485Z",
     "iopub.status.idle": "2020-10-04T09:24:52.627004Z",
     "shell.execute_reply": "2020-10-04T09:24:52.627758Z"
    },
    "papermill": {
     "duration": 4.116868,
     "end_time": "2020-10-04T09:24:52.627964",
     "exception": false,
     "start_time": "2020-10-04T09:24:48.511096",
     "status": "completed"
    },
    "tags": []
   },
   "outputs": [
    {
     "name": "stdout",
     "output_type": "stream",
     "text": [
      "OOF log loss:  0.016486723472810064\n"
     ]
    }
   ],
   "source": [
    "train_checkscore = targets.copy()\n",
    "train_checkscore.iloc[:,1:] = oof_preds\n",
    "train_checkscore.loc[train_checkscore.index.isin(noncons_train_index),target_feats] = 0\n",
    "print('OOF log loss: ', log_loss(np.ravel(y), np.ravel(np.array(train_checkscore.iloc[:,1:]))))"
   ]
  },
  {
   "cell_type": "code",
   "execution_count": 15,
   "metadata": {
    "execution": {
     "iopub.execute_input": "2020-10-04T09:24:52.684419Z",
     "iopub.status.busy": "2020-10-04T09:24:52.683603Z",
     "iopub.status.idle": "2020-10-04T09:24:55.092439Z",
     "shell.execute_reply": "2020-10-04T09:24:55.090911Z"
    },
    "papermill": {
     "duration": 2.438865,
     "end_time": "2020-10-04T09:24:55.092564",
     "exception": false,
     "start_time": "2020-10-04T09:24:52.653699",
     "status": "completed"
    },
    "tags": []
   },
   "outputs": [],
   "source": [
    "sub.iloc[:,1:] = test_preds\n",
    "sub.loc[sub.index.isin(noncons_test_index),target_feats] = 0\n",
    "sub.to_csv('submission.csv', index=False)"
   ]
  },
  {
   "cell_type": "code",
   "execution_count": null,
   "metadata": {
    "papermill": {
     "duration": 0.026106,
     "end_time": "2020-10-04T09:24:55.146666",
     "exception": false,
     "start_time": "2020-10-04T09:24:55.120560",
     "status": "completed"
    },
    "tags": []
   },
   "outputs": [],
   "source": []
  }
 ],
 "metadata": {
  "kernelspec": {
   "display_name": "Python 3",
   "language": "python",
   "name": "python3"
  },
  "language_info": {
   "codemirror_mode": {
    "name": "ipython",
    "version": 3
   },
   "file_extension": ".py",
   "mimetype": "text/x-python",
   "name": "python",
   "nbconvert_exporter": "python",
   "pygments_lexer": "ipython3",
   "version": "3.7.6"
  },
  "papermill": {
   "duration": 1989.810381,
   "end_time": "2020-10-04T09:24:56.209443",
   "environment_variables": {},
   "exception": null,
   "input_path": "__notebook__.ipynb",
   "output_path": "__notebook__.ipynb",
   "parameters": {},
   "start_time": "2020-10-04T08:51:46.399062",
   "version": "2.1.0"
  }
 },
 "nbformat": 4,
 "nbformat_minor": 4
}
