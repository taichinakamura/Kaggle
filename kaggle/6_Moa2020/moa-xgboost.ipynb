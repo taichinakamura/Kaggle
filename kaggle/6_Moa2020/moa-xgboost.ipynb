{
 "cells": [
  {
   "cell_type": "markdown",
   "metadata": {
    "papermill": {
     "duration": 0.013158,
     "end_time": "2020-10-13T04:41:24.748485",
     "exception": false,
     "start_time": "2020-10-13T04:41:24.735327",
     "status": "completed"
    },
    "tags": []
   },
   "source": [
    "- add new features of g, c stats\n",
    "- change learning rate to 0.0803"
   ]
  },
  {
   "cell_type": "code",
   "execution_count": 1,
   "metadata": {
    "_cell_guid": "b1076dfc-b9ad-4769-8c92-a6c4dae69d19",
    "_uuid": "8f2839f25d086af736a60e9eeb907d3b93b6e0e5",
    "execution": {
     "iopub.execute_input": "2020-10-13T04:41:24.781655Z",
     "iopub.status.busy": "2020-10-13T04:41:24.780938Z",
     "iopub.status.idle": "2020-10-13T04:41:28.075769Z",
     "shell.execute_reply": "2020-10-13T04:41:28.075074Z"
    },
    "papermill": {
     "duration": 3.314766,
     "end_time": "2020-10-13T04:41:28.075906",
     "exception": false,
     "start_time": "2020-10-13T04:41:24.761140",
     "status": "completed"
    },
    "tags": []
   },
   "outputs": [],
   "source": [
    "import os\n",
    "import sys\n",
    "import warnings\n",
    "import numpy as np\n",
    "import pandas as pd \n",
    "import lightgbm as lgb\n",
    "from sklearn.decomposition import PCA\n",
    "import matplotlib.pyplot as plt\n",
    "from xgboost import XGBClassifier\n",
    "from sklearn.model_selection import KFold, StratifiedKFold\n",
    "from category_encoders import CountEncoder\n",
    "from sklearn.pipeline import Pipeline\n",
    "from sklearn.metrics import log_loss, mean_squared_error\n",
    "from sklearn import preprocessing\n",
    "from sklearn.multioutput import MultiOutputClassifier\n",
    "sys.path.append('../input/multilabelstraifier/')\n",
    "from ml_stratifiers import MultilabelStratifiedKFold\n",
    "warnings.filterwarnings('ignore')"
   ]
  },
  {
   "cell_type": "code",
   "execution_count": 2,
   "metadata": {
    "execution": {
     "iopub.execute_input": "2020-10-13T04:41:28.106557Z",
     "iopub.status.busy": "2020-10-13T04:41:28.105855Z",
     "iopub.status.idle": "2020-10-13T04:41:28.110578Z",
     "shell.execute_reply": "2020-10-13T04:41:28.109976Z"
    },
    "papermill": {
     "duration": 0.021259,
     "end_time": "2020-10-13T04:41:28.110695",
     "exception": false,
     "start_time": "2020-10-13T04:41:28.089436",
     "status": "completed"
    },
    "tags": []
   },
   "outputs": [],
   "source": [
    "SEED = 42\n",
    "NFOLDS = 5\n",
    "np.random.seed(SEED)\n",
    "DATA_DIR = '/kaggle/input/lish-moa/'"
   ]
  },
  {
   "cell_type": "code",
   "execution_count": 3,
   "metadata": {
    "_cell_guid": "79c7e3d0-c299-4dcb-8224-4455121ee9b0",
    "_uuid": "d629ff2d2480ee46fbb7e2d37f6b5fab8052498a",
    "execution": {
     "iopub.execute_input": "2020-10-13T04:41:28.143858Z",
     "iopub.status.busy": "2020-10-13T04:41:28.142692Z",
     "iopub.status.idle": "2020-10-13T04:41:33.994793Z",
     "shell.execute_reply": "2020-10-13T04:41:33.993426Z"
    },
    "papermill": {
     "duration": 5.871953,
     "end_time": "2020-10-13T04:41:33.994941",
     "exception": false,
     "start_time": "2020-10-13T04:41:28.122988",
     "status": "completed"
    },
    "tags": []
   },
   "outputs": [],
   "source": [
    "train = pd.read_csv(DATA_DIR + 'train_features.csv')\n",
    "targets = pd.read_csv(DATA_DIR + 'train_targets_scored.csv')\n",
    "\n",
    "test = pd.read_csv(DATA_DIR + 'test_features.csv')\n",
    "sub = pd.read_csv(DATA_DIR + 'sample_submission.csv')"
   ]
  },
  {
   "cell_type": "code",
   "execution_count": 4,
   "metadata": {
    "execution": {
     "iopub.execute_input": "2020-10-13T04:41:34.026152Z",
     "iopub.status.busy": "2020-10-13T04:41:34.025505Z",
     "iopub.status.idle": "2020-10-13T04:41:34.030188Z",
     "shell.execute_reply": "2020-10-13T04:41:34.029573Z"
    },
    "papermill": {
     "duration": 0.022964,
     "end_time": "2020-10-13T04:41:34.030290",
     "exception": false,
     "start_time": "2020-10-13T04:41:34.007326",
     "status": "completed"
    },
    "tags": []
   },
   "outputs": [],
   "source": [
    "target_feats = [ i for i in targets.columns if i != \"sig_id\"]\n",
    "g_feats = [i for i in train.columns if \"g-\" in i]\n",
    "c_feats = [i for i in train.columns if \"c-\" in i]"
   ]
  },
  {
   "cell_type": "code",
   "execution_count": 5,
   "metadata": {
    "execution": {
     "iopub.execute_input": "2020-10-13T04:41:34.069887Z",
     "iopub.status.busy": "2020-10-13T04:41:34.069226Z",
     "iopub.status.idle": "2020-10-13T04:41:34.167727Z",
     "shell.execute_reply": "2020-10-13T04:41:34.167139Z"
    },
    "papermill": {
     "duration": 0.124562,
     "end_time": "2020-10-13T04:41:34.167857",
     "exception": false,
     "start_time": "2020-10-13T04:41:34.043295",
     "status": "completed"
    },
    "tags": []
   },
   "outputs": [],
   "source": [
    "noncons_train_index = train[train.cp_type==\"ctl_vehicle\"].index\n",
    "cons_train_index = train[train.cp_type!=\"ctl_vehicle\"].index\n",
    "noncons_test_index = test[test.cp_type==\"ctl_vehicle\"].index\n",
    "cons_test_index = test[test.cp_type!=\"ctl_vehicle\"].index"
   ]
  },
  {
   "cell_type": "markdown",
   "metadata": {
    "papermill": {
     "duration": 0.014733,
     "end_time": "2020-10-13T04:41:34.195807",
     "exception": false,
     "start_time": "2020-10-13T04:41:34.181074",
     "status": "completed"
    },
    "tags": []
   },
   "source": [
    "# Preprocess"
   ]
  },
  {
   "cell_type": "code",
   "execution_count": 6,
   "metadata": {
    "execution": {
     "iopub.execute_input": "2020-10-13T04:41:34.232776Z",
     "iopub.status.busy": "2020-10-13T04:41:34.231792Z",
     "iopub.status.idle": "2020-10-13T04:41:34.456594Z",
     "shell.execute_reply": "2020-10-13T04:41:34.455847Z"
    },
    "papermill": {
     "duration": 0.247978,
     "end_time": "2020-10-13T04:41:34.456725",
     "exception": false,
     "start_time": "2020-10-13T04:41:34.208747",
     "status": "completed"
    },
    "tags": []
   },
   "outputs": [],
   "source": [
    "test = test[test.index.isin(cons_test_index)].reset_index(drop=True)\n",
    "train = train[train.index.isin(cons_train_index)].reset_index(drop=True)\n",
    "fn_targets = targets[targets.index.isin(cons_train_index)].copy().reset_index(drop=True)\n",
    "y = targets.drop(\"sig_id\", axis=1).copy()"
   ]
  },
  {
   "cell_type": "markdown",
   "metadata": {
    "papermill": {
     "duration": 0.013059,
     "end_time": "2020-10-13T04:41:34.482784",
     "exception": false,
     "start_time": "2020-10-13T04:41:34.469725",
     "status": "completed"
    },
    "tags": []
   },
   "source": [
    "# Feature engineering"
   ]
  },
  {
   "cell_type": "code",
   "execution_count": 7,
   "metadata": {
    "execution": {
     "iopub.execute_input": "2020-10-13T04:41:34.572442Z",
     "iopub.status.busy": "2020-10-13T04:41:34.571153Z",
     "iopub.status.idle": "2020-10-13T04:41:39.689534Z",
     "shell.execute_reply": "2020-10-13T04:41:39.690204Z"
    },
    "papermill": {
     "duration": 5.194363,
     "end_time": "2020-10-13T04:41:39.690346",
     "exception": false,
     "start_time": "2020-10-13T04:41:34.495983",
     "status": "completed"
    },
    "tags": []
   },
   "outputs": [
    {
     "name": "stdout",
     "output_type": "stream",
     "text": [
      "(21948, 889) (3624, 889)\n"
     ]
    }
   ],
   "source": [
    "def fe(df, remove_features):\n",
    "    df['g_sum'] = df[g_feats].sum(axis = 1)\n",
    "    df['g_mean'] = df[g_feats].mean(axis = 1)\n",
    "    df['g_std'] = df[g_feats].std(axis = 1)\n",
    "    df['g_kurt'] = df[g_feats].kurtosis(axis = 1)\n",
    "    df['g_skew'] = df[g_feats].skew(axis = 1)\n",
    "    df['c_sum'] = df[c_feats].sum(axis = 1)\n",
    "    df['c_mean'] = df[c_feats].mean(axis = 1)\n",
    "    df['c_std'] = df[c_feats].std(axis = 1)\n",
    "    df['c_kurt'] = df[c_feats].kurtosis(axis = 1)\n",
    "    df['c_skew'] = df[c_feats].skew(axis = 1)\n",
    "    df['gc_sum'] = df[c_feats + g_feats].sum(axis = 1)\n",
    "    df['gc_mean'] = df[c_feats + g_feats].mean(axis = 1)\n",
    "    df['gc_std'] = df[c_feats + g_feats].std(axis = 1)\n",
    "    df['gc_kurt'] = df[c_feats + g_feats].kurtosis(axis = 1)\n",
    "    df['gc_skew'] = df[c_feats + g_feats].skew(axis = 1)\n",
    "    df.drop(remove_features, axis=1, inplace=True)\n",
    "    df.loc[:, 'cp_dose'] = df.loc[:, 'cp_dose'].map({'D1': 0, 'D2': 1})\n",
    "    return df\n",
    "\n",
    "remove_features = [\"cp_type\" , \"sig_id\"]\n",
    "        \n",
    "train = fe(train, remove_features)\n",
    "test = fe(test, remove_features)\n",
    "    \n",
    "print(train.shape, test.shape)"
   ]
  },
  {
   "cell_type": "markdown",
   "metadata": {
    "papermill": {
     "duration": 0.014509,
     "end_time": "2020-10-13T04:41:39.719801",
     "exception": false,
     "start_time": "2020-10-13T04:41:39.705292",
     "status": "completed"
    },
    "tags": []
   },
   "source": [
    "# modelling"
   ]
  },
  {
   "cell_type": "code",
   "execution_count": 8,
   "metadata": {
    "execution": {
     "iopub.execute_input": "2020-10-13T04:41:39.760032Z",
     "iopub.status.busy": "2020-10-13T04:41:39.757564Z",
     "iopub.status.idle": "2020-10-13T04:41:39.798224Z",
     "shell.execute_reply": "2020-10-13T04:41:39.798850Z"
    },
    "papermill": {
     "duration": 0.06459,
     "end_time": "2020-10-13T04:41:39.799000",
     "exception": false,
     "start_time": "2020-10-13T04:41:39.734410",
     "status": "completed"
    },
    "tags": []
   },
   "outputs": [
    {
     "data": {
      "text/plain": [
       "Pipeline(steps=[('classify',\n",
       "                 MultiOutputClassifier(estimator=XGBClassifier(base_score=None,\n",
       "                                                               booster=None,\n",
       "                                                               colsample_bylevel=None,\n",
       "                                                               colsample_bynode=None,\n",
       "                                                               colsample_bytree=None,\n",
       "                                                               gamma=3.6975,\n",
       "                                                               gpu_id=None,\n",
       "                                                               importance_type='gain',\n",
       "                                                               interaction_constraints=None,\n",
       "                                                               learning_rate=0.0803,\n",
       "                                                               max_delta_step=2.0706,\n",
       "                                                               max_depth=10,\n",
       "                                                               min_child_weight=31.58,\n",
       "                                                               missing=nan,\n",
       "                                                               monotone_constraints=None,\n",
       "                                                               n_estimators=166,\n",
       "                                                               n_jobs=None,\n",
       "                                                               num_parallel_tree=None,\n",
       "                                                               random_state=None,\n",
       "                                                               reg_alpha=None,\n",
       "                                                               reg_lambda=None,\n",
       "                                                               scale_pos_weight=None,\n",
       "                                                               subsample=None,\n",
       "                                                               tree_method='gpu_hist',\n",
       "                                                               validate_parameters=None,\n",
       "                                                               verbosity=None)))])"
      ]
     },
     "execution_count": 8,
     "metadata": {},
     "output_type": "execute_result"
    }
   ],
   "source": [
    "classifier = MultiOutputClassifier(XGBClassifier(tree_method='gpu_hist'))\n",
    "\n",
    "clf = Pipeline([('classify', classifier)\n",
    "               ])\n",
    "\n",
    "params = {'classify__estimator__gamma': 3.6975,\n",
    "          'classify__estimator__learning_rate': 0.0803,\n",
    "          'classify__estimator__max_delta_step': 2.0706,\n",
    "          'classify__estimator__max_depth': 10,\n",
    "          'classify__estimator__min_child_weight': 31.5800,\n",
    "          'classify__estimator__n_estimators': 166,\n",
    "         }\n",
    "\n",
    "clf.set_params(**params)"
   ]
  },
  {
   "cell_type": "code",
   "execution_count": 9,
   "metadata": {
    "execution": {
     "iopub.execute_input": "2020-10-13T04:41:39.845157Z",
     "iopub.status.busy": "2020-10-13T04:41:39.837984Z",
     "iopub.status.idle": "2020-10-13T04:41:39.849524Z",
     "shell.execute_reply": "2020-10-13T04:41:39.848883Z"
    },
    "papermill": {
     "duration": 0.035382,
     "end_time": "2020-10-13T04:41:39.849644",
     "exception": false,
     "start_time": "2020-10-13T04:41:39.814262",
     "status": "completed"
    },
    "tags": []
   },
   "outputs": [],
   "source": [
    "def modelling_xgb(X, y, X_test, seed):\n",
    "    oof_preds = np.zeros(y.shape)\n",
    "    test_preds = np.zeros((X_test.shape[0], y.shape[1]))\n",
    "    oof_losses = []\n",
    "    mskf = MultilabelStratifiedKFold(n_splits=NFOLDS, random_state=seed, shuffle=True)\n",
    "    for fn, (trn_idx, val_idx) in enumerate(mskf.split(X, y)):\n",
    "        print('Starting fold: ', fn)\n",
    "        X_train, X_val = X.iloc[trn_idx,:].to_numpy(), X.iloc[val_idx,:].to_numpy()\n",
    "        y_train, y_val = y.iloc[trn_idx].to_numpy(), y.iloc[val_idx].to_numpy()\n",
    "    \n",
    "        clf.fit(X_train, y_train)\n",
    "        val_preds = clf.predict_proba(X_val) # list of preds per class\n",
    "        val_preds = np.array(val_preds)[:,:,1].T # take the positive class\n",
    "        oof_preds[val_idx] = val_preds\n",
    "    \n",
    "        loss = log_loss(np.ravel(y_val), np.ravel(val_preds))\n",
    "        print(loss)\n",
    "        oof_losses.append(loss)\n",
    "        preds = clf.predict_proba(X_test)\n",
    "        preds = np.array(preds)[:,:,1].T # take the positive class\n",
    "        test_preds += preds / NFOLDS\n",
    "    \n",
    "    print(oof_losses)\n",
    "    print('Mean OOF loss across folds', np.mean(oof_losses))\n",
    "    print('STD OOF loss across folds', np.std(oof_losses))\n",
    "    return oof_preds, test_preds"
   ]
  },
  {
   "cell_type": "code",
   "execution_count": 10,
   "metadata": {
    "execution": {
     "iopub.execute_input": "2020-10-13T04:41:39.891252Z",
     "iopub.status.busy": "2020-10-13T04:41:39.889948Z",
     "iopub.status.idle": "2020-10-13T05:06:06.044507Z",
     "shell.execute_reply": "2020-10-13T05:06:06.045443Z"
    },
    "papermill": {
     "duration": 1466.180212,
     "end_time": "2020-10-13T05:06:06.045665",
     "exception": false,
     "start_time": "2020-10-13T04:41:39.865453",
     "status": "completed"
    },
    "tags": []
   },
   "outputs": [
    {
     "name": "stdout",
     "output_type": "stream",
     "text": [
      "Starting fold:  0\n",
      "0.017890018527333493\n",
      "Starting fold:  1\n",
      "0.017878259676696682\n",
      "Starting fold:  2\n",
      "0.017561236619825567\n",
      "Starting fold:  3\n",
      "0.017891451323207592\n",
      "Starting fold:  4\n",
      "0.017919797908421412\n",
      "[0.017890018527333493, 0.017878259676696682, 0.017561236619825567, 0.017891451323207592, 0.017919797908421412]\n",
      "Mean OOF loss across folds 0.017828152811096946\n",
      "STD OOF loss across folds 0.00013415501741458868\n"
     ]
    }
   ],
   "source": [
    "X = train.copy()\n",
    "y_xgb = fn_targets.drop(\"sig_id\", axis=1).copy()\n",
    "X_test = test.copy()\n",
    "\n",
    "seeds = [42]\n",
    "oof_preds = np.zeros(y_xgb.shape)\n",
    "test_preds = np.zeros((test.shape[0], y_xgb.shape[1]))\n",
    "for seed_ in seeds:\n",
    "    ind_preds, ind_test_preds = modelling_xgb(X, y_xgb, X_test, seed_)\n",
    "    oof_preds += ind_preds / len(seeds)\n",
    "    test_preds += ind_test_preds / len(seeds)"
   ]
  },
  {
   "cell_type": "code",
   "execution_count": 11,
   "metadata": {
    "execution": {
     "iopub.execute_input": "2020-10-13T05:06:06.134549Z",
     "iopub.status.busy": "2020-10-13T05:06:06.133515Z",
     "iopub.status.idle": "2020-10-13T05:06:07.931188Z",
     "shell.execute_reply": "2020-10-13T05:06:07.930641Z"
    },
    "papermill": {
     "duration": 1.841044,
     "end_time": "2020-10-13T05:06:07.931333",
     "exception": false,
     "start_time": "2020-10-13T05:06:06.090289",
     "status": "completed"
    },
    "tags": []
   },
   "outputs": [
    {
     "name": "stdout",
     "output_type": "stream",
     "text": [
      "OOF log loss:  0.016431194422447486\n"
     ]
    }
   ],
   "source": [
    "check = np.zeros([targets.shape[0], targets.shape[1]-1])\n",
    "check[cons_train_index,:] = oof_preds\n",
    "print('OOF log loss: ', log_loss(np.ravel(y), np.ravel(check)))"
   ]
  },
  {
   "cell_type": "code",
   "execution_count": 12,
   "metadata": {
    "execution": {
     "iopub.execute_input": "2020-10-13T05:06:07.979751Z",
     "iopub.status.busy": "2020-10-13T05:06:07.978405Z",
     "iopub.status.idle": "2020-10-13T05:06:10.767727Z",
     "shell.execute_reply": "2020-10-13T05:06:10.766577Z"
    },
    "papermill": {
     "duration": 2.816005,
     "end_time": "2020-10-13T05:06:10.767854",
     "exception": false,
     "start_time": "2020-10-13T05:06:07.951849",
     "status": "completed"
    },
    "tags": []
   },
   "outputs": [],
   "source": [
    "sub.loc[cons_test_index,target_feats] = test_preds\n",
    "sub.loc[noncons_test_index,target_feats] = 0\n",
    "sub.to_csv('submission.csv', index=False)"
   ]
  },
  {
   "cell_type": "code",
   "execution_count": null,
   "metadata": {
    "papermill": {
     "duration": 0.019828,
     "end_time": "2020-10-13T05:06:10.807765",
     "exception": false,
     "start_time": "2020-10-13T05:06:10.787937",
     "status": "completed"
    },
    "tags": []
   },
   "outputs": [],
   "source": []
  }
 ],
 "metadata": {
  "kernelspec": {
   "display_name": "Python 3",
   "language": "python",
   "name": "python3"
  },
  "language_info": {
   "codemirror_mode": {
    "name": "ipython",
    "version": 3
   },
   "file_extension": ".py",
   "mimetype": "text/x-python",
   "name": "python",
   "nbconvert_exporter": "python",
   "pygments_lexer": "ipython3",
   "version": "3.7.6"
  },
  "papermill": {
   "duration": 1492.202229,
   "end_time": "2020-10-13T05:06:12.089571",
   "environment_variables": {},
   "exception": null,
   "input_path": "__notebook__.ipynb",
   "output_path": "__notebook__.ipynb",
   "parameters": {},
   "start_time": "2020-10-13T04:41:19.887342",
   "version": "2.1.0"
  }
 },
 "nbformat": 4,
 "nbformat_minor": 4
}
