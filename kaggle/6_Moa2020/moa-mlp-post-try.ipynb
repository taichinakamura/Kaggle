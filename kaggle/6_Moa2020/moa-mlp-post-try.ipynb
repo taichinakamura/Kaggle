{
 "cells": [
  {
   "cell_type": "markdown",
   "metadata": {
    "papermill": {
     "duration": 0.020389,
     "end_time": "2021-03-23T08:16:00.189919",
     "exception": false,
     "start_time": "2021-03-23T08:16:00.169530",
     "status": "completed"
    },
    "tags": []
   },
   "source": [
    "**Late submission**\n",
    "- solve as a multiclass classification problem\n",
    "- change model architecture\n",
    "- remove test when quantile transformer"
   ]
  },
  {
   "cell_type": "code",
   "execution_count": 1,
   "metadata": {
    "_cell_guid": "b1076dfc-b9ad-4769-8c92-a6c4dae69d19",
    "_uuid": "8f2839f25d086af736a60e9eeb907d3b93b6e0e5",
    "execution": {
     "iopub.execute_input": "2021-03-23T08:16:00.235137Z",
     "iopub.status.busy": "2021-03-23T08:16:00.234257Z",
     "iopub.status.idle": "2021-03-23T08:16:09.429633Z",
     "shell.execute_reply": "2021-03-23T08:16:09.428337Z"
    },
    "papermill": {
     "duration": 9.221854,
     "end_time": "2021-03-23T08:16:09.429797",
     "exception": false,
     "start_time": "2021-03-23T08:16:00.207943",
     "status": "completed"
    },
    "tags": []
   },
   "outputs": [
    {
     "name": "stderr",
     "output_type": "stream",
     "text": [
      "/opt/conda/lib/python3.7/site-packages/ipykernel_launcher.py:12: TqdmDeprecationWarning: This function will be removed in tqdm==5.0.0\n",
      "Please use `tqdm.notebook.*` instead of `tqdm._tqdm_notebook.*`\n",
      "  if sys.path[0] == '':\n"
     ]
    }
   ],
   "source": [
    "import os\n",
    "import random\n",
    "import warnings\n",
    "import numpy as np\n",
    "import pandas as pd \n",
    "from sklearn import preprocessing\n",
    "from sklearn.metrics import log_loss\n",
    "from sklearn.decomposition import PCA\n",
    "from tqdm import tqdm_notebook as tqdm\n",
    "from sklearn.feature_selection import VarianceThreshold\n",
    "from sklearn.model_selection import StratifiedKFold, KFold\n",
    "from tqdm._tqdm_notebook import tqdm_notebook\n",
    "\n",
    "import time\n",
    "import torch\n",
    "import torch.nn as nn\n",
    "import torch.optim as optim\n",
    "import torch.nn.functional as F\n",
    "import tensorflow as tf\n",
    "\n",
    "warnings.filterwarnings('ignore')"
   ]
  },
  {
   "cell_type": "markdown",
   "metadata": {
    "papermill": {
     "duration": 0.019994,
     "end_time": "2021-03-23T08:16:09.469869",
     "exception": false,
     "start_time": "2021-03-23T08:16:09.449875",
     "status": "completed"
    },
    "tags": []
   },
   "source": [
    "# final engineering"
   ]
  },
  {
   "cell_type": "code",
   "execution_count": 2,
   "metadata": {
    "execution": {
     "iopub.execute_input": "2021-03-23T08:16:09.517278Z",
     "iopub.status.busy": "2021-03-23T08:16:09.516649Z",
     "iopub.status.idle": "2021-03-23T08:16:18.404905Z",
     "shell.execute_reply": "2021-03-23T08:16:18.403766Z"
    },
    "papermill": {
     "duration": 8.916656,
     "end_time": "2021-03-23T08:16:18.405069",
     "exception": false,
     "start_time": "2021-03-23T08:16:09.488413",
     "status": "completed"
    },
    "tags": []
   },
   "outputs": [],
   "source": [
    "DATA_DIR = '/kaggle/input/lish-moa/'\n",
    "train = pd.read_csv(DATA_DIR + 'train_features.csv')\n",
    "targets = pd.read_csv(DATA_DIR + 'train_targets_scored.csv')\n",
    "non_targets = pd.read_csv(DATA_DIR + 'train_targets_nonscored.csv')\n",
    "test = pd.read_csv(DATA_DIR + 'test_features.csv')\n",
    "sub = pd.read_csv(DATA_DIR + 'sample_submission.csv')\n",
    "drug = pd.read_csv(DATA_DIR + 'train_drug.csv')"
   ]
  },
  {
   "cell_type": "code",
   "execution_count": 3,
   "metadata": {
    "execution": {
     "iopub.execute_input": "2021-03-23T08:16:18.449305Z",
     "iopub.status.busy": "2021-03-23T08:16:18.448446Z",
     "iopub.status.idle": "2021-03-23T08:16:18.452557Z",
     "shell.execute_reply": "2021-03-23T08:16:18.453185Z"
    },
    "papermill": {
     "duration": 0.02898,
     "end_time": "2021-03-23T08:16:18.453341",
     "exception": false,
     "start_time": "2021-03-23T08:16:18.424361",
     "status": "completed"
    },
    "tags": []
   },
   "outputs": [],
   "source": [
    "target_feats = [ i for i in targets.columns if i != \"sig_id\"]\n",
    "g_feats = [i for i in train.columns if \"g-\" in i]\n",
    "c_feats = [i for i in train.columns if \"c-\" in i]"
   ]
  },
  {
   "cell_type": "code",
   "execution_count": 4,
   "metadata": {
    "execution": {
     "iopub.execute_input": "2021-03-23T08:16:18.499772Z",
     "iopub.status.busy": "2021-03-23T08:16:18.499087Z",
     "iopub.status.idle": "2021-03-23T08:16:18.617236Z",
     "shell.execute_reply": "2021-03-23T08:16:18.616515Z"
    },
    "papermill": {
     "duration": 0.145455,
     "end_time": "2021-03-23T08:16:18.617372",
     "exception": false,
     "start_time": "2021-03-23T08:16:18.471917",
     "status": "completed"
    },
    "tags": []
   },
   "outputs": [],
   "source": [
    "noncons_train_index = train[train.cp_type==\"ctl_vehicle\"].index\n",
    "cons_train_index = train[train.cp_type!=\"ctl_vehicle\"].index\n",
    "noncons_test_index = test[test.cp_type==\"ctl_vehicle\"].index\n",
    "cons_test_index = test[test.cp_type!=\"ctl_vehicle\"].index"
   ]
  },
  {
   "cell_type": "markdown",
   "metadata": {
    "papermill": {
     "duration": 0.01843,
     "end_time": "2021-03-23T08:16:18.654988",
     "exception": false,
     "start_time": "2021-03-23T08:16:18.636558",
     "status": "completed"
    },
    "tags": []
   },
   "source": [
    "# target group"
   ]
  },
  {
   "cell_type": "code",
   "execution_count": 5,
   "metadata": {
    "execution": {
     "iopub.execute_input": "2021-03-23T08:16:18.717460Z",
     "iopub.status.busy": "2021-03-23T08:16:18.715015Z",
     "iopub.status.idle": "2021-03-23T08:16:18.718376Z",
     "shell.execute_reply": "2021-03-23T08:16:18.719166Z"
    },
    "papermill": {
     "duration": 0.045953,
     "end_time": "2021-03-23T08:16:18.719362",
     "exception": false,
     "start_time": "2021-03-23T08:16:18.673409",
     "status": "completed"
    },
    "tags": []
   },
   "outputs": [],
   "source": [
    "y = targets.drop(\"sig_id\", axis=1)"
   ]
  },
  {
   "cell_type": "code",
   "execution_count": 6,
   "metadata": {
    "execution": {
     "iopub.execute_input": "2021-03-23T08:16:18.769960Z",
     "iopub.status.busy": "2021-03-23T08:16:18.769224Z",
     "iopub.status.idle": "2021-03-23T08:16:32.518508Z",
     "shell.execute_reply": "2021-03-23T08:16:32.517318Z"
    },
    "papermill": {
     "duration": 13.779921,
     "end_time": "2021-03-23T08:16:32.518627",
     "exception": false,
     "start_time": "2021-03-23T08:16:18.738706",
     "status": "completed"
    },
    "tags": []
   },
   "outputs": [
    {
     "data": {
      "text/plain": [
       "((23814, 328), (328, 206))"
      ]
     },
     "execution_count": 6,
     "metadata": {},
     "output_type": "execute_result"
    }
   ],
   "source": [
    "def make_string(row):\n",
    "    return str(row[1:].values).replace('[','').replace(']','').replace('\\n','').replace(' ','')\n",
    "\n",
    "targets[\"target_pair\"] = targets.apply(make_string, axis=1)\n",
    "targetpair_id = dict(enumerate(targets[\"target_pair\"].unique()))\n",
    "id_targetpair = {y:x for x,y in targetpair_id.items()}\n",
    "targets[\"target_pair_num\"] = targets[\"target_pair\"].map(id_targetpair)\n",
    "\n",
    "multiclass_targets = pd.get_dummies(targets[\"target_pair_num\"])\n",
    "\n",
    "for i in range(len(id_targetpair.keys())):\n",
    "    if i == 0:\n",
    "        classid_target = np.array(list((targetpair_id[i]))).reshape(1,-1)      \n",
    "    else:\n",
    "        classid_target = np.vstack([classid_target, np.array(list((targetpair_id[i]))).reshape(1,-1)])\n",
    "        \n",
    "classid_target = classid_target.astype(int)\n",
    "class_num = multiclass_targets.shape[1]\n",
    "        \n",
    "multiclass_targets.shape, classid_target.shape"
   ]
  },
  {
   "cell_type": "markdown",
   "metadata": {
    "papermill": {
     "duration": 0.019273,
     "end_time": "2021-03-23T08:16:32.557667",
     "exception": false,
     "start_time": "2021-03-23T08:16:32.538394",
     "status": "completed"
    },
    "tags": []
   },
   "source": [
    "# preprocess"
   ]
  },
  {
   "cell_type": "code",
   "execution_count": 7,
   "metadata": {
    "execution": {
     "iopub.execute_input": "2021-03-23T08:16:32.611443Z",
     "iopub.status.busy": "2021-03-23T08:16:32.610106Z",
     "iopub.status.idle": "2021-03-23T08:16:32.912082Z",
     "shell.execute_reply": "2021-03-23T08:16:32.911470Z"
    },
    "papermill": {
     "duration": 0.335228,
     "end_time": "2021-03-23T08:16:32.912219",
     "exception": false,
     "start_time": "2021-03-23T08:16:32.576991",
     "status": "completed"
    },
    "tags": []
   },
   "outputs": [],
   "source": [
    "train = train[train.index.isin(cons_train_index)].copy().reset_index(drop=True)\n",
    "test = test[test.index.isin(cons_test_index)].copy().reset_index(drop=True)\n",
    "targets = targets[targets.index.isin(cons_train_index)].copy().reset_index(drop=True)\n",
    "\n",
    "# no need to change to one-hot encoding form\n",
    "# https://discuss.pytorch.org/t/runtimeerror-multi-target-not-supported-newbie/10216\n",
    "multiclass_targets = targets[\"target_pair_num\"].copy().reset_index(drop=True)"
   ]
  },
  {
   "cell_type": "markdown",
   "metadata": {
    "papermill": {
     "duration": 0.019623,
     "end_time": "2021-03-23T08:16:32.951876",
     "exception": false,
     "start_time": "2021-03-23T08:16:32.932253",
     "status": "completed"
    },
    "tags": []
   },
   "source": [
    "# Feature engineering "
   ]
  },
  {
   "cell_type": "code",
   "execution_count": 8,
   "metadata": {
    "execution": {
     "iopub.execute_input": "2021-03-23T08:16:32.998912Z",
     "iopub.status.busy": "2021-03-23T08:16:32.997862Z",
     "iopub.status.idle": "2021-03-23T08:16:33.001725Z",
     "shell.execute_reply": "2021-03-23T08:16:33.001200Z"
    },
    "papermill": {
     "duration": 0.029774,
     "end_time": "2021-03-23T08:16:33.001856",
     "exception": false,
     "start_time": "2021-03-23T08:16:32.972082",
     "status": "completed"
    },
    "tags": []
   },
   "outputs": [],
   "source": [
    "#X = train.iloc[:,4:].copy().values\n",
    "#select = VarianceThreshold(threshold=0.9)\n",
    "#X_new = select.fit_transform(X)\n",
    "#drop_feats = list(np.array(train.iloc[:,4:].columns)[select.get_support()==False])\n",
    "#print(len(drop_feats))\n",
    "\n",
    "#train.drop(drop_feats, axis=1, inplace=True)\n",
    "#test.drop(drop_feats, axis=1, inplace=True)\n",
    "\n",
    "g_feats = [i for i in train.columns if \"g-\" in i]\n",
    "c_feats = [i for i in train.columns if \"c-\" in i]"
   ]
  },
  {
   "cell_type": "code",
   "execution_count": 9,
   "metadata": {
    "execution": {
     "iopub.execute_input": "2021-03-23T08:16:33.049680Z",
     "iopub.status.busy": "2021-03-23T08:16:33.048643Z",
     "iopub.status.idle": "2021-03-23T08:16:42.541481Z",
     "shell.execute_reply": "2021-03-23T08:16:42.542295Z"
    },
    "papermill": {
     "duration": 9.520585,
     "end_time": "2021-03-23T08:16:42.542518",
     "exception": false,
     "start_time": "2021-03-23T08:16:33.021933",
     "status": "completed"
    },
    "tags": []
   },
   "outputs": [],
   "source": [
    "# rank gauss\n",
    "for i in c_feats + g_feats:\n",
    "    ss = preprocessing.QuantileTransformer(n_quantiles=100, random_state=0, output_distribution=\"normal\")\n",
    "    ss.fit(train[i].values.reshape(-1,1))\n",
    "    train[i] = ss.transform(train[i].values.reshape(-1,1))\n",
    "    test[i] = ss.transform(test[i].values.reshape(-1,1))"
   ]
  },
  {
   "cell_type": "code",
   "execution_count": 10,
   "metadata": {
    "execution": {
     "iopub.execute_input": "2021-03-23T08:16:42.603529Z",
     "iopub.status.busy": "2021-03-23T08:16:42.601692Z",
     "iopub.status.idle": "2021-03-23T08:16:44.487122Z",
     "shell.execute_reply": "2021-03-23T08:16:44.487645Z"
    },
    "papermill": {
     "duration": 1.925655,
     "end_time": "2021-03-23T08:16:44.487805",
     "exception": false,
     "start_time": "2021-03-23T08:16:42.562150",
     "status": "completed"
    },
    "tags": []
   },
   "outputs": [],
   "source": [
    "c_num = 5\n",
    "pca_c_cols = [\"pca-c\"+str(i+1) for i in range(c_num)]\n",
    "pca = PCA(n_components=c_num,random_state=42)\n",
    "c_train = pca.fit_transform(train[c_feats])\n",
    "c_test = pca.transform(test[c_feats])\n",
    "c_train = pd.DataFrame(c_train, columns=pca_c_cols)\n",
    "c_test = pd.DataFrame(c_test, columns=pca_c_cols)\n",
    "\n",
    "g_num = 30\n",
    "pca_g_cols = [\"pca-g\"+str(i+1) for i in range(g_num)]\n",
    "pca = PCA(n_components=g_num, random_state=42)\n",
    "g_train = pca.fit_transform(train[g_feats])\n",
    "g_test = pca.transform(test[g_feats])\n",
    "g_train = pd.DataFrame(g_train, columns=pca_g_cols)\n",
    "g_test = pd.DataFrame(g_test, columns=pca_g_cols)\n",
    "\n",
    "train = pd.concat([train, c_train],axis=1)\n",
    "test = pd.concat([test, c_test],axis=1)\n",
    "train = pd.concat([train, g_train],axis=1)\n",
    "test = pd.concat([test, g_test],axis=1)"
   ]
  },
  {
   "cell_type": "code",
   "execution_count": 11,
   "metadata": {
    "execution": {
     "iopub.execute_input": "2021-03-23T08:16:44.536888Z",
     "iopub.status.busy": "2021-03-23T08:16:44.535485Z",
     "iopub.status.idle": "2021-03-23T08:16:46.746507Z",
     "shell.execute_reply": "2021-03-23T08:16:46.745979Z"
    },
    "papermill": {
     "duration": 2.238798,
     "end_time": "2021-03-23T08:16:46.746636",
     "exception": false,
     "start_time": "2021-03-23T08:16:44.507838",
     "status": "completed"
    },
    "tags": []
   },
   "outputs": [],
   "source": [
    "def fe(df):\n",
    "    tmp = df.copy()\n",
    "    tmp['g_kurt'] = tmp[g_feats].kurtosis(axis = 1)\n",
    "    tmp['g_skew'] = tmp[g_feats].skew(axis = 1)\n",
    "    tmp['c_kurt'] = tmp[c_feats].kurtosis(axis = 1)\n",
    "    tmp['c_skew'] = tmp[c_feats].skew(axis = 1)\n",
    "    tmp = pd.get_dummies(tmp, columns=['cp_time','cp_dose'])\n",
    "    tmp.drop([\"cp_type\", \"sig_id\"], axis=1, inplace=True)\n",
    "    return tmp\n",
    "\n",
    "train = fe(train)\n",
    "test = fe(test)"
   ]
  },
  {
   "cell_type": "code",
   "execution_count": 12,
   "metadata": {
    "execution": {
     "iopub.execute_input": "2021-03-23T08:16:46.795169Z",
     "iopub.status.busy": "2021-03-23T08:16:46.793634Z",
     "iopub.status.idle": "2021-03-23T08:16:46.964353Z",
     "shell.execute_reply": "2021-03-23T08:16:46.964907Z"
    },
    "papermill": {
     "duration": 0.197529,
     "end_time": "2021-03-23T08:16:46.965050",
     "exception": false,
     "start_time": "2021-03-23T08:16:46.767521",
     "status": "completed"
    },
    "tags": []
   },
   "outputs": [
    {
     "name": "stdout",
     "output_type": "stream",
     "text": [
      "(21948, 916) (3624, 916) (23814, 206) (21948,)\n"
     ]
    }
   ],
   "source": [
    "fn_train = train.copy().to_numpy()\n",
    "fn_test = test.copy().to_numpy()\n",
    "fn_targets = y.copy().to_numpy()\n",
    "fn_multiclass_targets = multiclass_targets.copy().to_numpy()\n",
    "print(fn_train.shape, fn_test.shape, fn_targets.shape, fn_multiclass_targets.shape)"
   ]
  },
  {
   "cell_type": "markdown",
   "metadata": {
    "papermill": {
     "duration": 0.020144,
     "end_time": "2021-03-23T08:16:47.005479",
     "exception": false,
     "start_time": "2021-03-23T08:16:46.985335",
     "status": "completed"
    },
    "tags": []
   },
   "source": [
    "# modelling"
   ]
  },
  {
   "cell_type": "code",
   "execution_count": 13,
   "metadata": {
    "execution": {
     "iopub.execute_input": "2021-03-23T08:16:47.444852Z",
     "iopub.status.busy": "2021-03-23T08:16:47.443680Z",
     "iopub.status.idle": "2021-03-23T08:16:47.447685Z",
     "shell.execute_reply": "2021-03-23T08:16:47.447185Z"
    },
    "papermill": {
     "duration": 0.421642,
     "end_time": "2021-03-23T08:16:47.447835",
     "exception": false,
     "start_time": "2021-03-23T08:16:47.026193",
     "status": "completed"
    },
    "tags": []
   },
   "outputs": [],
   "source": [
    "device = \"cuda\" if torch.cuda.is_available() else \"cpu\""
   ]
  },
  {
   "cell_type": "code",
   "execution_count": 14,
   "metadata": {
    "execution": {
     "iopub.execute_input": "2021-03-23T08:16:47.509565Z",
     "iopub.status.busy": "2021-03-23T08:16:47.507040Z",
     "iopub.status.idle": "2021-03-23T08:16:47.511752Z",
     "shell.execute_reply": "2021-03-23T08:16:47.511255Z"
    },
    "papermill": {
     "duration": 0.043849,
     "end_time": "2021-03-23T08:16:47.511937",
     "exception": false,
     "start_time": "2021-03-23T08:16:47.468088",
     "status": "completed"
    },
    "tags": []
   },
   "outputs": [
    {
     "name": "stdout",
     "output_type": "stream",
     "text": [
      "cuda\n"
     ]
    }
   ],
   "source": [
    "print(device)\n",
    "def seed_everything(seed=42): \n",
    "    random.seed(seed)\n",
    "    os.environ['PYTHONHASHSEED'] = str(seed)\n",
    "    tf.random.set_seed(seed)\n",
    "    np.random.seed(seed)\n",
    "    torch.manual_seed(seed)\n",
    "    torch.cuda.manual_seed(seed)\n",
    "    torch.backends.cudnn.deterministic = True\n",
    "\n",
    "class MoaModel(nn.Module):\n",
    "    def __init__(self, num_columns, last_num):\n",
    "        super(MoaModel, self).__init__()\n",
    "        self.batch_norm1 = nn.BatchNorm1d(num_columns)\n",
    "        self.dropout1 = nn.Dropout(0.2)\n",
    "        self.dense1 = nn.utils.weight_norm(nn.Linear(num_columns, 1024))\n",
    "        self.relu1 = nn.LeakyReLU()\n",
    "        \n",
    "        self.batch_norm2 = nn.BatchNorm1d(1024)\n",
    "        self.dropout2 = nn.Dropout(0.2)\n",
    "        self.dense2 = nn.utils.weight_norm(nn.Linear(1024, 1024))\n",
    "        self.relu2 = nn.LeakyReLU()\n",
    "        \n",
    "        self.batch_norm3 = nn.BatchNorm1d(1024)\n",
    "        self.dropout3 = nn.Dropout(0.2)\n",
    "        self.dense3 = nn.utils.weight_norm(nn.Linear(1024, 1024))\n",
    "        self.relu3 = nn.LeakyReLU()\n",
    "        \n",
    "        self.batch_norm4 = nn.BatchNorm1d(1024)\n",
    "        self.dropout4 = nn.Dropout(0.2)\n",
    "        self.dense4 = nn.utils.weight_norm(nn.Linear(1024, last_num))\n",
    "        \n",
    "    def forward(self, x):\n",
    "        x = self.batch_norm1(x)\n",
    "        x = self.dropout1(x)\n",
    "        x = self.relu1(self.dense1(x))\n",
    "        \n",
    "        x = self.batch_norm2(x)\n",
    "        x = self.dropout2(x)\n",
    "        x = self.relu2(self.dense2(x))\n",
    "        \n",
    "        x = self.batch_norm3(x)\n",
    "        x = self.dropout3(x)\n",
    "        x = self.relu3(self.dense3(x))\n",
    "        \n",
    "        x = self.batch_norm4(x)\n",
    "        x = self.dropout4(x)\n",
    "        x = self.dense4(x)\n",
    "        \n",
    "        return x"
   ]
  },
  {
   "cell_type": "markdown",
   "metadata": {
    "papermill": {
     "duration": 0.019996,
     "end_time": "2021-03-23T08:16:47.552714",
     "exception": false,
     "start_time": "2021-03-23T08:16:47.532718",
     "status": "completed"
    },
    "tags": []
   },
   "source": [
    "# modelling"
   ]
  },
  {
   "cell_type": "code",
   "execution_count": 15,
   "metadata": {
    "execution": {
     "iopub.execute_input": "2021-03-23T08:16:47.619657Z",
     "iopub.status.busy": "2021-03-23T08:16:47.609267Z",
     "iopub.status.idle": "2021-03-23T08:16:47.637473Z",
     "shell.execute_reply": "2021-03-23T08:16:47.636925Z"
    },
    "papermill": {
     "duration": 0.064361,
     "end_time": "2021-03-23T08:16:47.637595",
     "exception": false,
     "start_time": "2021-03-23T08:16:47.573234",
     "status": "completed"
    },
    "tags": []
   },
   "outputs": [],
   "source": [
    "batch_size = 128\n",
    "n_folds=7\n",
    "EARLY_STOPPING_STEPS = 10\n",
    "smoothing = 0.001\n",
    "p_min = smoothing\n",
    "p_max = 1 - smoothing\n",
    "train_epochs = 10\n",
    "\n",
    "def multi_log_loss(y_true, y_pred):\n",
    "    metrics = []\n",
    "    for i, target in enumerate(target_feats):\n",
    "        metrics.append(log_loss(y_true[:, i], y_pred[:, i].astype(float), labels=[0,1]))\n",
    "    return np.mean(metrics)\n",
    "    \n",
    "def modelling_torch(tr, target, te, sample_seed, init_num, last_num):\n",
    "    seed_everything(seed=sample_seed) \n",
    "    X_train = tr.copy()\n",
    "    y_train = target.copy()\n",
    "    X_test = te.copy()\n",
    "    test_len = X_test.shape[0]\n",
    "    \n",
    "    mskf=KFold(n_splits = n_folds, shuffle=True, random_state=224)\n",
    "\n",
    "    models = []\n",
    "    \n",
    "    X_test2 = torch.tensor(X_test, dtype=torch.float32)\n",
    "    test = torch.utils.data.TensorDataset(X_test2) \n",
    "    test_loader = torch.utils.data.DataLoader(test, batch_size=batch_size, shuffle=False)\n",
    "    \n",
    "    oof = np.zeros([len(X_train),last_num])\n",
    "    oof_targets = np.zeros([len(X_train),last_num])\n",
    "    pred_value = np.zeros([test_len, last_num])\n",
    "    for fold, (train_index, valid_index) in enumerate(mskf.split(X_train, y_train)):\n",
    "        print(\"Seed \"+str(sample_seed)+\"_Fold \"+str(fold+1))\n",
    "        X_train2 = torch.tensor(X_train[train_index,:], dtype=torch.float32)\n",
    "        y_train2 = torch.tensor(y_train[train_index], dtype=torch.long)\n",
    "\n",
    "        X_valid2 = torch.tensor(X_train[valid_index,:], dtype=torch.float32)\n",
    "        y_valid2 = torch.tensor(y_train[valid_index], dtype=torch.long)\n",
    "        \n",
    "        train = torch.utils.data.TensorDataset(X_train2, y_train2)\n",
    "        valid = torch.utils.data.TensorDataset(X_valid2, y_valid2)\n",
    "        \n",
    "        train_loader = torch.utils.data.DataLoader(train, batch_size=batch_size, shuffle=True) \n",
    "        valid_loader = torch.utils.data.DataLoader(valid, batch_size=batch_size, shuffle=False)\n",
    "            \n",
    "        clf = MoaModel(init_num, last_num)\n",
    "        loss_fn = nn.CrossEntropyLoss() \n",
    "\n",
    "        optimizer = optim.Adam(clf.parameters(), lr = 0.01, weight_decay=1e-5) \n",
    "        scheduler = optim.lr_scheduler.OneCycleLR(optimizer=optimizer, pct_start=0.1, div_factor=1e3, \n",
    "                                              max_lr=1e-2, epochs=train_epochs, steps_per_epoch=len(train_loader))\n",
    "        \n",
    "        clf.to(device)\n",
    "        \n",
    "        best_val_loss = np.inf\n",
    "        stop_counts = 0\n",
    "        for epoch in range(train_epochs):\n",
    "            start_time = time.time()\n",
    "            clf.train()\n",
    "            avg_loss = 0.\n",
    "            for x_batch, y_batch in tqdm(train_loader, disable=True):\n",
    "                x_batch = x_batch.to(device)\n",
    "                y_batch = y_batch.to(device)\n",
    "                y_pred = clf(x_batch)\n",
    "                loss = loss_fn(y_pred, y_batch)\n",
    "                optimizer.zero_grad()\n",
    "                loss.backward()\n",
    "                optimizer.step()\n",
    "                scheduler.step()\n",
    "                avg_loss += loss.item() / len(train_loader)  \n",
    "                \n",
    "            clf.eval()\n",
    "            avg_val_loss = 0.\n",
    "            for i, (x_batch, y_batch) in enumerate(valid_loader): \n",
    "                x_batch = x_batch.to(device)\n",
    "                y_batch = y_batch.to(device)\n",
    "                y_pred = clf(x_batch).detach()\n",
    "                avg_val_loss += loss_fn(y_pred, y_batch).item() / len(valid_loader)\n",
    "        \n",
    "            elapsed_time = time.time() - start_time \n",
    "                    \n",
    "            if avg_val_loss < best_val_loss:\n",
    "                best_val_loss = avg_val_loss\n",
    "                print('Epoch {}  loss={:.5f}  val_loss={:.5f}  time={:.2f}s'.format(\n",
    "                    epoch + 1, avg_loss, avg_val_loss, elapsed_time))\n",
    "                torch.save(clf.state_dict(), 'best-model-parameters.pt')\n",
    "                stop_counts = 0\n",
    "            else:\n",
    "                stop_counts += 1\n",
    "                \n",
    "            if stop_counts >= EARLY_STOPPING_STEPS:\n",
    "                break\n",
    "        \n",
    "        pred_model = MoaModel(init_num, last_num)\n",
    "        pred_model.load_state_dict(torch.load('best-model-parameters.pt'))         \n",
    "        pred_model.eval()\n",
    "        \n",
    "        # validation check ----------------\n",
    "        oof_epoch = np.zeros([X_valid2.size(0), last_num])\n",
    "        target_epoch = np.zeros([X_valid2.size(0), last_num])\n",
    "        for i, (x_batch, y_batch) in enumerate(valid_loader): \n",
    "            y_pred = pred_model(x_batch).detach()\n",
    "            oof_epoch[i * batch_size:(i+1) * batch_size,:] = F.softmax(y_pred.cpu()) \n",
    "        oof[valid_index,:] = oof_epoch\n",
    "        #-----------------------------------\n",
    "        \n",
    "        # test predcition --------------\n",
    "        test_preds = np.zeros([test_len, last_num])\n",
    "        for i, (x_batch,) in enumerate(test_loader): \n",
    "            y_pred = pred_model(x_batch).detach()\n",
    "            test_preds[i * batch_size:(i+1) * batch_size, :] = F.softmax(y_pred.cpu()) \n",
    "        pred_value += test_preds / n_folds\n",
    "        # ------------------------------\n",
    "    \n",
    "    return oof, pred_value"
   ]
  },
  {
   "cell_type": "code",
   "execution_count": 16,
   "metadata": {
    "execution": {
     "iopub.execute_input": "2021-03-23T08:16:47.687337Z",
     "iopub.status.busy": "2021-03-23T08:16:47.686259Z",
     "iopub.status.idle": "2021-03-23T08:26:11.689736Z",
     "shell.execute_reply": "2021-03-23T08:26:11.689148Z"
    },
    "papermill": {
     "duration": 564.031147,
     "end_time": "2021-03-23T08:26:11.689875",
     "exception": false,
     "start_time": "2021-03-23T08:16:47.658728",
     "status": "completed"
    },
    "tags": []
   },
   "outputs": [
    {
     "name": "stdout",
     "output_type": "stream",
     "text": [
      "Seed 0_Fold 1\n",
      "Epoch 1  loss=4.11265  val_loss=3.39937  time=2.05s\n",
      "Epoch 2  loss=3.19641  val_loss=3.13618  time=1.37s\n",
      "Epoch 3  loss=2.95805  val_loss=3.04786  time=1.31s\n",
      "Epoch 4  loss=2.80074  val_loss=2.99965  time=1.57s\n",
      "Epoch 5  loss=2.61102  val_loss=2.99872  time=1.32s\n",
      "Seed 0_Fold 2\n",
      "Epoch 1  loss=4.11124  val_loss=3.26748  time=1.56s\n",
      "Epoch 2  loss=3.23703  val_loss=3.03651  time=1.78s\n",
      "Epoch 3  loss=2.98830  val_loss=2.95498  time=1.32s\n",
      "Epoch 4  loss=2.80579  val_loss=2.89805  time=1.32s\n",
      "Epoch 5  loss=2.63440  val_loss=2.89547  time=1.32s\n",
      "Seed 0_Fold 3\n",
      "Epoch 1  loss=4.10482  val_loss=3.38680  time=1.31s\n",
      "Epoch 2  loss=3.18181  val_loss=3.18579  time=1.33s\n",
      "Epoch 3  loss=2.95567  val_loss=3.10037  time=1.34s\n",
      "Epoch 4  loss=2.77925  val_loss=3.04453  time=1.30s\n",
      "Epoch 5  loss=2.59252  val_loss=3.02385  time=1.64s\n",
      "Seed 0_Fold 4\n",
      "Epoch 1  loss=4.10329  val_loss=3.39123  time=1.36s\n",
      "Epoch 2  loss=3.15814  val_loss=3.20495  time=1.89s\n",
      "Epoch 3  loss=2.95073  val_loss=3.14425  time=1.43s\n",
      "Epoch 4  loss=2.78545  val_loss=3.09497  time=1.27s\n",
      "Epoch 5  loss=2.60345  val_loss=3.09269  time=1.32s\n",
      "Epoch 6  loss=2.38847  val_loss=3.08960  time=1.30s\n",
      "Seed 0_Fold 5\n",
      "Epoch 1  loss=4.09361  val_loss=3.28127  time=1.44s\n",
      "Epoch 2  loss=3.21402  val_loss=3.09260  time=1.36s\n",
      "Epoch 3  loss=2.98782  val_loss=3.01846  time=1.36s\n",
      "Epoch 4  loss=2.80841  val_loss=2.93359  time=1.33s\n",
      "Epoch 5  loss=2.61496  val_loss=2.93115  time=1.33s\n",
      "Seed 0_Fold 6\n",
      "Epoch 1  loss=4.11783  val_loss=3.24226  time=1.36s\n",
      "Epoch 2  loss=3.21145  val_loss=3.08431  time=1.35s\n",
      "Epoch 3  loss=2.99200  val_loss=2.98366  time=1.97s\n",
      "Epoch 4  loss=2.81994  val_loss=2.96325  time=1.51s\n",
      "Epoch 5  loss=2.63869  val_loss=2.92402  time=1.36s\n",
      "Epoch 6  loss=2.43075  val_loss=2.92000  time=1.38s\n",
      "Seed 0_Fold 7\n",
      "Epoch 1  loss=4.09768  val_loss=3.28041  time=1.36s\n",
      "Epoch 2  loss=3.17708  val_loss=3.06318  time=1.36s\n",
      "Epoch 3  loss=2.98146  val_loss=3.04195  time=1.30s\n",
      "Epoch 4  loss=2.80765  val_loss=2.94331  time=1.30s\n",
      "Seed 1_Fold 1\n",
      "Epoch 1  loss=4.12243  val_loss=3.29727  time=1.37s\n",
      "Epoch 2  loss=3.19626  val_loss=3.11688  time=1.33s\n",
      "Epoch 3  loss=2.96130  val_loss=3.05023  time=1.49s\n",
      "Epoch 4  loss=2.80604  val_loss=2.99363  time=1.91s\n",
      "Epoch 5  loss=2.61152  val_loss=2.98708  time=1.35s\n",
      "Epoch 6  loss=2.41512  val_loss=2.98643  time=1.33s\n",
      "Seed 1_Fold 2\n",
      "Epoch 1  loss=4.09923  val_loss=3.24083  time=1.34s\n",
      "Epoch 2  loss=3.21133  val_loss=3.03383  time=1.33s\n",
      "Epoch 3  loss=2.97185  val_loss=2.95912  time=1.32s\n",
      "Epoch 4  loss=2.81748  val_loss=2.91107  time=1.32s\n",
      "Epoch 5  loss=2.63998  val_loss=2.88180  time=1.30s\n",
      "Seed 1_Fold 3\n",
      "Epoch 1  loss=4.12067  val_loss=3.34494  time=1.32s\n",
      "Epoch 2  loss=3.17432  val_loss=3.17984  time=1.36s\n",
      "Epoch 3  loss=2.96879  val_loss=3.07480  time=1.38s\n",
      "Epoch 4  loss=2.79242  val_loss=3.03388  time=1.61s\n",
      "Seed 1_Fold 4\n",
      "Epoch 1  loss=4.09414  val_loss=3.39587  time=1.64s\n",
      "Epoch 2  loss=3.18897  val_loss=3.21252  time=1.33s\n",
      "Epoch 3  loss=2.95263  val_loss=3.12006  time=1.36s\n",
      "Epoch 4  loss=2.78384  val_loss=3.10402  time=1.32s\n",
      "Epoch 5  loss=2.60921  val_loss=3.06513  time=1.29s\n",
      "Seed 1_Fold 5\n",
      "Epoch 1  loss=4.12473  val_loss=3.30551  time=1.30s\n",
      "Epoch 2  loss=3.20344  val_loss=3.07160  time=1.30s\n",
      "Epoch 3  loss=2.98290  val_loss=2.98420  time=1.46s\n",
      "Epoch 4  loss=2.81229  val_loss=2.97511  time=1.38s\n",
      "Epoch 5  loss=2.62916  val_loss=2.91409  time=1.54s\n",
      "Seed 1_Fold 6\n",
      "Epoch 1  loss=4.10419  val_loss=3.27928  time=1.35s\n",
      "Epoch 2  loss=3.20277  val_loss=3.06381  time=1.60s\n",
      "Epoch 3  loss=2.96317  val_loss=2.97565  time=1.32s\n",
      "Epoch 4  loss=2.79926  val_loss=2.93820  time=1.29s\n",
      "Epoch 5  loss=2.61747  val_loss=2.90417  time=1.29s\n",
      "Seed 1_Fold 7\n",
      "Epoch 1  loss=4.10584  val_loss=3.29947  time=1.28s\n",
      "Epoch 2  loss=3.22378  val_loss=3.08019  time=1.37s\n",
      "Epoch 3  loss=2.97937  val_loss=3.01801  time=1.37s\n",
      "Epoch 4  loss=2.79775  val_loss=2.94553  time=1.33s\n",
      "Epoch 5  loss=2.62734  val_loss=2.93342  time=1.37s\n",
      "Seed 2_Fold 1\n",
      "Epoch 1  loss=4.10863  val_loss=3.33823  time=1.32s\n",
      "Epoch 2  loss=3.19271  val_loss=3.13610  time=1.33s\n",
      "Epoch 3  loss=2.97614  val_loss=3.04175  time=1.64s\n",
      "Epoch 4  loss=2.80335  val_loss=3.01675  time=1.36s\n",
      "Epoch 5  loss=2.62106  val_loss=2.97948  time=1.33s\n",
      "Epoch 6  loss=2.41191  val_loss=2.97547  time=1.34s\n",
      "Seed 2_Fold 2\n",
      "Epoch 1  loss=4.12552  val_loss=3.28294  time=1.50s\n",
      "Epoch 2  loss=3.21584  val_loss=3.06349  time=1.44s\n",
      "Epoch 3  loss=2.98304  val_loss=2.95642  time=1.37s\n",
      "Epoch 4  loss=2.82668  val_loss=2.89916  time=1.31s\n",
      "Epoch 5  loss=2.62524  val_loss=2.89241  time=1.32s\n",
      "Seed 2_Fold 3\n",
      "Epoch 1  loss=4.10371  val_loss=3.41892  time=1.33s\n",
      "Epoch 2  loss=3.18569  val_loss=3.16659  time=1.33s\n",
      "Epoch 3  loss=2.97584  val_loss=3.11504  time=1.49s\n",
      "Epoch 4  loss=2.78513  val_loss=3.07118  time=1.46s\n",
      "Epoch 5  loss=2.62201  val_loss=3.03398  time=1.34s\n",
      "Seed 2_Fold 4\n",
      "Epoch 1  loss=4.10484  val_loss=3.43605  time=1.39s\n",
      "Epoch 2  loss=3.16727  val_loss=3.20444  time=1.33s\n",
      "Epoch 3  loss=2.95403  val_loss=3.12007  time=1.33s\n",
      "Epoch 4  loss=2.78993  val_loss=3.05142  time=1.34s\n",
      "Seed 2_Fold 5\n",
      "Epoch 1  loss=4.10866  val_loss=3.27131  time=1.32s\n",
      "Epoch 2  loss=3.19900  val_loss=3.10090  time=1.37s\n",
      "Epoch 3  loss=2.97551  val_loss=3.00184  time=1.34s\n",
      "Epoch 4  loss=2.79758  val_loss=2.95832  time=1.52s\n",
      "Epoch 5  loss=2.61801  val_loss=2.93029  time=1.38s\n",
      "Seed 2_Fold 6\n",
      "Epoch 1  loss=4.13713  val_loss=3.24462  time=1.64s\n",
      "Epoch 2  loss=3.19460  val_loss=3.06681  time=1.32s\n",
      "Epoch 3  loss=2.97191  val_loss=2.99331  time=1.31s\n",
      "Epoch 4  loss=2.80687  val_loss=2.93401  time=1.34s\n",
      "Epoch 5  loss=2.62024  val_loss=2.91953  time=1.39s\n",
      "Seed 2_Fold 7\n",
      "Epoch 1  loss=4.12039  val_loss=3.28054  time=1.34s\n",
      "Epoch 2  loss=3.18664  val_loss=3.07021  time=1.37s\n",
      "Epoch 3  loss=2.97700  val_loss=3.01372  time=1.33s\n",
      "Epoch 4  loss=2.80845  val_loss=2.95791  time=1.35s\n",
      "Seed 3_Fold 1\n",
      "Epoch 1  loss=4.10157  val_loss=3.32938  time=1.40s\n",
      "Epoch 2  loss=3.19312  val_loss=3.12830  time=1.60s\n",
      "Epoch 3  loss=2.96991  val_loss=3.05800  time=1.34s\n",
      "Epoch 4  loss=2.78951  val_loss=3.00976  time=1.34s\n",
      "Epoch 5  loss=2.60704  val_loss=2.98960  time=1.33s\n",
      "Seed 3_Fold 2\n",
      "Epoch 1  loss=4.14259  val_loss=3.20952  time=1.31s\n",
      "Epoch 2  loss=3.18889  val_loss=3.04044  time=1.35s\n",
      "Epoch 3  loss=2.98154  val_loss=2.95553  time=1.31s\n",
      "Epoch 4  loss=2.80045  val_loss=2.90762  time=1.33s\n",
      "Epoch 5  loss=2.61172  val_loss=2.88644  time=1.36s\n",
      "Seed 3_Fold 3\n",
      "Epoch 1  loss=4.11118  val_loss=3.40956  time=1.40s\n",
      "Epoch 2  loss=3.20748  val_loss=3.18715  time=1.36s\n",
      "Epoch 3  loss=2.96536  val_loss=3.09859  time=1.64s\n",
      "Epoch 4  loss=2.80356  val_loss=3.07932  time=1.31s\n",
      "Epoch 5  loss=2.62328  val_loss=3.01697  time=1.33s\n",
      "Seed 3_Fold 4\n",
      "Epoch 1  loss=4.08002  val_loss=3.40254  time=1.32s\n",
      "Epoch 2  loss=3.17641  val_loss=3.21247  time=1.34s\n",
      "Epoch 3  loss=2.95157  val_loss=3.14424  time=1.34s\n",
      "Epoch 4  loss=2.77640  val_loss=3.10173  time=1.34s\n",
      "Epoch 5  loss=2.60804  val_loss=3.05553  time=1.39s\n",
      "Seed 3_Fold 5\n",
      "Epoch 1  loss=4.08528  val_loss=3.26098  time=1.37s\n",
      "Epoch 2  loss=3.21151  val_loss=3.12186  time=1.31s\n",
      "Epoch 3  loss=2.99096  val_loss=3.00265  time=1.36s\n",
      "Epoch 4  loss=2.81368  val_loss=2.94557  time=1.56s\n",
      "Epoch 5  loss=2.62098  val_loss=2.93194  time=1.33s\n",
      "Epoch 6  loss=2.40064  val_loss=2.91515  time=1.35s\n",
      "Seed 3_Fold 6\n",
      "Epoch 1  loss=4.08503  val_loss=3.28806  time=1.46s\n",
      "Epoch 2  loss=3.20318  val_loss=3.04480  time=1.43s\n",
      "Epoch 3  loss=2.95871  val_loss=2.96507  time=1.36s\n",
      "Epoch 4  loss=2.79885  val_loss=2.93994  time=1.35s\n",
      "Epoch 5  loss=2.61561  val_loss=2.91459  time=1.38s\n",
      "Seed 3_Fold 7\n",
      "Epoch 1  loss=4.08657  val_loss=3.27277  time=1.53s\n",
      "Epoch 2  loss=3.21418  val_loss=3.07944  time=1.31s\n",
      "Epoch 3  loss=2.97446  val_loss=2.99918  time=1.39s\n",
      "Epoch 4  loss=2.80324  val_loss=2.94432  time=1.66s\n",
      "Seed 4_Fold 1\n",
      "Epoch 1  loss=4.13989  val_loss=3.34927  time=1.40s\n",
      "Epoch 2  loss=3.20467  val_loss=3.15806  time=1.37s\n",
      "Epoch 3  loss=2.97877  val_loss=3.05961  time=1.34s\n",
      "Epoch 4  loss=2.80078  val_loss=3.02789  time=1.31s\n",
      "Epoch 5  loss=2.62953  val_loss=3.01574  time=1.35s\n",
      "Seed 4_Fold 2\n",
      "Epoch 1  loss=4.12854  val_loss=3.32238  time=1.42s\n",
      "Epoch 2  loss=3.19930  val_loss=3.06421  time=1.33s\n",
      "Epoch 3  loss=2.99522  val_loss=2.97635  time=1.34s\n",
      "Epoch 4  loss=2.81803  val_loss=2.90602  time=1.36s\n",
      "Epoch 5  loss=2.63741  val_loss=2.88750  time=1.66s\n",
      "Seed 4_Fold 3\n",
      "Epoch 1  loss=4.08997  val_loss=3.39873  time=1.69s\n",
      "Epoch 2  loss=3.19616  val_loss=3.17848  time=1.44s\n",
      "Epoch 3  loss=2.96749  val_loss=3.08444  time=1.44s\n",
      "Epoch 5  loss=2.62379  val_loss=3.01406  time=1.32s\n",
      "Seed 4_Fold 4\n",
      "Epoch 1  loss=4.05950  val_loss=3.43202  time=1.45s\n",
      "Epoch 2  loss=3.18576  val_loss=3.20067  time=1.37s\n",
      "Epoch 3  loss=2.94979  val_loss=3.12245  time=1.34s\n",
      "Epoch 4  loss=2.77397  val_loss=3.11517  time=1.38s\n",
      "Epoch 5  loss=2.60895  val_loss=3.04750  time=1.65s\n",
      "Seed 4_Fold 5\n",
      "Epoch 1  loss=4.07725  val_loss=3.26246  time=1.35s\n",
      "Epoch 2  loss=3.20951  val_loss=3.13053  time=1.62s\n",
      "Epoch 3  loss=2.98332  val_loss=2.99638  time=1.36s\n",
      "Epoch 4  loss=2.83157  val_loss=2.94649  time=1.34s\n",
      "Epoch 5  loss=2.63769  val_loss=2.89707  time=1.37s\n",
      "Seed 4_Fold 6\n",
      "Epoch 1  loss=4.12967  val_loss=3.30767  time=1.40s\n",
      "Epoch 2  loss=3.19579  val_loss=3.04881  time=1.36s\n",
      "Epoch 3  loss=2.99138  val_loss=2.98386  time=1.36s\n",
      "Epoch 4  loss=2.81631  val_loss=2.93759  time=1.35s\n",
      "Epoch 5  loss=2.64201  val_loss=2.92358  time=1.35s\n",
      "Epoch 6  loss=2.41638  val_loss=2.92169  time=1.65s\n",
      "Seed 4_Fold 7\n",
      "Epoch 1  loss=4.14258  val_loss=3.30686  time=1.31s\n",
      "Epoch 2  loss=3.21224  val_loss=3.07400  time=1.64s\n",
      "Epoch 3  loss=2.98187  val_loss=2.99833  time=1.34s\n",
      "Epoch 5  loss=2.62930  val_loss=2.92523  time=1.34s\n"
     ]
    }
   ],
   "source": [
    "seeds = [0,1,2,3,4]\n",
    "target_oof = np.zeros([len(fn_train), class_num])\n",
    "target_pred = np.zeros([len(fn_test), class_num])\n",
    "\n",
    "for seed_ in seeds:\n",
    "    best_oof, pytorch_pred = modelling_torch(fn_train, fn_multiclass_targets, fn_test, seed_, fn_train.shape[1], class_num)\n",
    "    target_oof += best_oof / len(seeds)\n",
    "    target_pred += pytorch_pred / len(seeds)"
   ]
  },
  {
   "cell_type": "code",
   "execution_count": 17,
   "metadata": {
    "execution": {
     "iopub.execute_input": "2021-03-23T08:26:11.893712Z",
     "iopub.status.busy": "2021-03-23T08:26:11.892343Z",
     "iopub.status.idle": "2021-03-23T08:26:12.009874Z",
     "shell.execute_reply": "2021-03-23T08:26:12.009306Z"
    },
    "papermill": {
     "duration": 0.226581,
     "end_time": "2021-03-23T08:26:12.010017",
     "exception": false,
     "start_time": "2021-03-23T08:26:11.783436",
     "status": "completed"
    },
    "tags": []
   },
   "outputs": [],
   "source": [
    "target_oof = np.dot(target_oof, classid_target)\n",
    "target_pred = np.dot(target_pred, classid_target)"
   ]
  },
  {
   "cell_type": "code",
   "execution_count": 18,
   "metadata": {
    "execution": {
     "iopub.execute_input": "2021-03-23T08:26:12.220234Z",
     "iopub.status.busy": "2021-03-23T08:26:12.219290Z",
     "iopub.status.idle": "2021-03-23T08:26:18.676730Z",
     "shell.execute_reply": "2021-03-23T08:26:18.676129Z"
    },
    "papermill": {
     "duration": 6.561531,
     "end_time": "2021-03-23T08:26:18.676868",
     "exception": false,
     "start_time": "2021-03-23T08:26:12.115337",
     "status": "completed"
    },
    "tags": []
   },
   "outputs": [
    {
     "name": "stdout",
     "output_type": "stream",
     "text": [
      "OOF log loss:  0.014685356751855078\n"
     ]
    }
   ],
   "source": [
    "t = pd.read_csv(DATA_DIR + 'train_targets_scored.csv')\n",
    "train_checkscore = t.copy()\n",
    "train_checkscore.loc[train_checkscore.index.isin(cons_train_index),target_feats] = np.clip(target_oof, p_min, p_max)\n",
    "train_checkscore.loc[train_checkscore.index.isin(noncons_train_index),target_feats] = 0\n",
    "t.drop(\"sig_id\", axis=1, inplace=True)\n",
    "print('OOF log loss: ', log_loss(np.ravel(t), np.ravel(np.array(train_checkscore.iloc[:,1:]))))"
   ]
  },
  {
   "cell_type": "code",
   "execution_count": 19,
   "metadata": {
    "execution": {
     "iopub.execute_input": "2021-03-23T08:26:18.876084Z",
     "iopub.status.busy": "2021-03-23T08:26:18.875383Z",
     "iopub.status.idle": "2021-03-23T08:26:28.546153Z",
     "shell.execute_reply": "2021-03-23T08:26:28.545576Z"
    },
    "papermill": {
     "duration": 9.772723,
     "end_time": "2021-03-23T08:26:28.546275",
     "exception": false,
     "start_time": "2021-03-23T08:26:18.773552",
     "status": "completed"
    },
    "tags": []
   },
   "outputs": [],
   "source": [
    "train_checkscore.to_csv(\"mlp_oof.csv\", index=False)"
   ]
  },
  {
   "cell_type": "code",
   "execution_count": 20,
   "metadata": {
    "execution": {
     "iopub.execute_input": "2021-03-23T08:26:28.754727Z",
     "iopub.status.busy": "2021-03-23T08:26:28.753648Z",
     "iopub.status.idle": "2021-03-23T08:26:30.669663Z",
     "shell.execute_reply": "2021-03-23T08:26:30.669010Z"
    },
    "papermill": {
     "duration": 2.024576,
     "end_time": "2021-03-23T08:26:30.669796",
     "exception": false,
     "start_time": "2021-03-23T08:26:28.645220",
     "status": "completed"
    },
    "tags": []
   },
   "outputs": [],
   "source": [
    "sub.loc[cons_test_index,target_feats] = np.clip(target_pred, p_min, p_max)\n",
    "sub.loc[noncons_test_index,target_feats] = 0\n",
    "sub.to_csv('submission.csv', index=False)"
   ]
  },
  {
   "cell_type": "code",
   "execution_count": null,
   "metadata": {
    "papermill": {
     "duration": 0.095838,
     "end_time": "2021-03-23T08:26:30.861097",
     "exception": false,
     "start_time": "2021-03-23T08:26:30.765259",
     "status": "completed"
    },
    "tags": []
   },
   "outputs": [],
   "source": []
  }
 ],
 "metadata": {
  "kernelspec": {
   "display_name": "Python 3",
   "language": "python",
   "name": "python3"
  },
  "language_info": {
   "codemirror_mode": {
    "name": "ipython",
    "version": 3
   },
   "file_extension": ".py",
   "mimetype": "text/x-python",
   "name": "python",
   "nbconvert_exporter": "python",
   "pygments_lexer": "ipython3",
   "version": "3.7.6"
  },
  "papermill": {
   "duration": 636.033024,
   "end_time": "2021-03-23T08:26:31.468517",
   "environment_variables": {},
   "exception": null,
   "input_path": "__notebook__.ipynb",
   "output_path": "__notebook__.ipynb",
   "parameters": {},
   "start_time": "2021-03-23T08:15:55.435493",
   "version": "2.1.0"
  }
 },
 "nbformat": 4,
 "nbformat_minor": 4
}
