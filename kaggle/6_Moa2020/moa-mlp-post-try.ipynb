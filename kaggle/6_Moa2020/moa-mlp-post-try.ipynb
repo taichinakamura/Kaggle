{
 "cells": [
  {
   "cell_type": "markdown",
   "metadata": {
    "papermill": {
     "duration": 0.018835,
     "end_time": "2021-03-19T06:14:42.143027",
     "exception": false,
     "start_time": "2021-03-19T06:14:42.124192",
     "status": "completed"
    },
    "tags": []
   },
   "source": [
    "**Late submission**\n",
    "- solve as a multiclass classification problem\n",
    "- cancel label smoothing"
   ]
  },
  {
   "cell_type": "code",
   "execution_count": 1,
   "metadata": {
    "_cell_guid": "b1076dfc-b9ad-4769-8c92-a6c4dae69d19",
    "_uuid": "8f2839f25d086af736a60e9eeb907d3b93b6e0e5",
    "execution": {
     "iopub.execute_input": "2021-03-19T06:14:42.189549Z",
     "iopub.status.busy": "2021-03-19T06:14:42.188796Z",
     "iopub.status.idle": "2021-03-19T06:14:52.174466Z",
     "shell.execute_reply": "2021-03-19T06:14:52.173533Z"
    },
    "papermill": {
     "duration": 10.01385,
     "end_time": "2021-03-19T06:14:52.174603",
     "exception": false,
     "start_time": "2021-03-19T06:14:42.160753",
     "status": "completed"
    },
    "tags": []
   },
   "outputs": [
    {
     "name": "stderr",
     "output_type": "stream",
     "text": [
      "/opt/conda/lib/python3.7/site-packages/ipykernel_launcher.py:21: TqdmDeprecationWarning: This function will be removed in tqdm==5.0.0\n",
      "Please use `tqdm.notebook.*` instead of `tqdm._tqdm_notebook.*`\n"
     ]
    }
   ],
   "source": [
    "import os\n",
    "import sys\n",
    "import random\n",
    "import warnings\n",
    "import numpy as np\n",
    "import pandas as pd \n",
    "from umap import UMAP\n",
    "import networkx as nx\n",
    "from sklearn import preprocessing\n",
    "from sklearn.metrics import log_loss,roc_auc_score\n",
    "from sklearn.decomposition import PCA\n",
    "from tqdm import tqdm_notebook as tqdm\n",
    "from sklearn.cluster import KMeans\n",
    "from sklearn.multioutput import MultiOutputClassifier\n",
    "from sklearn.feature_selection import VarianceThreshold\n",
    "from sklearn.compose import make_column_transformer,ColumnTransformer\n",
    "from sklearn.base import BaseEstimator,TransformerMixin\n",
    "from sklearn.pipeline import make_pipeline,make_union\n",
    "from sklearn.decomposition import TruncatedSVD\n",
    "from sklearn.model_selection import StratifiedKFold, KFold\n",
    "from tqdm._tqdm_notebook import tqdm_notebook\n",
    "\n",
    "sys.path.append('../input/multilabelstraifier/')\n",
    "from ml_stratifiers import MultilabelStratifiedKFold\n",
    "warnings.filterwarnings('ignore')\n",
    "\n",
    "import time\n",
    "import torch\n",
    "import torch.nn as nn\n",
    "import torch.optim as optim\n",
    "import torch.nn.functional as F\n",
    "import tensorflow as tf\n",
    "from torch.nn.modules.loss import _WeightedLoss\n",
    "from sklearn.utils import check_random_state"
   ]
  },
  {
   "cell_type": "markdown",
   "metadata": {
    "papermill": {
     "duration": 0.018789,
     "end_time": "2021-03-19T06:14:52.213271",
     "exception": false,
     "start_time": "2021-03-19T06:14:52.194482",
     "status": "completed"
    },
    "tags": []
   },
   "source": [
    "# final engineering"
   ]
  },
  {
   "cell_type": "code",
   "execution_count": 2,
   "metadata": {
    "execution": {
     "iopub.execute_input": "2021-03-19T06:14:52.257387Z",
     "iopub.status.busy": "2021-03-19T06:14:52.256856Z",
     "iopub.status.idle": "2021-03-19T06:14:59.756284Z",
     "shell.execute_reply": "2021-03-19T06:14:59.759102Z"
    },
    "papermill": {
     "duration": 7.528483,
     "end_time": "2021-03-19T06:14:59.759244",
     "exception": false,
     "start_time": "2021-03-19T06:14:52.230761",
     "status": "completed"
    },
    "tags": []
   },
   "outputs": [],
   "source": [
    "DATA_DIR = '/kaggle/input/lish-moa/'\n",
    "train = pd.read_csv(DATA_DIR + 'train_features.csv')\n",
    "targets = pd.read_csv(DATA_DIR + 'train_targets_scored.csv')\n",
    "non_targets = pd.read_csv(DATA_DIR + 'train_targets_nonscored.csv')\n",
    "test = pd.read_csv(DATA_DIR + 'test_features.csv')\n",
    "sub = pd.read_csv(DATA_DIR + 'sample_submission.csv')\n",
    "drug = pd.read_csv(DATA_DIR + 'train_drug.csv')"
   ]
  },
  {
   "cell_type": "code",
   "execution_count": 3,
   "metadata": {
    "execution": {
     "iopub.execute_input": "2021-03-19T06:14:59.836348Z",
     "iopub.status.busy": "2021-03-19T06:14:59.835603Z",
     "iopub.status.idle": "2021-03-19T06:14:59.838989Z",
     "shell.execute_reply": "2021-03-19T06:14:59.839524Z"
    },
    "papermill": {
     "duration": 0.044753,
     "end_time": "2021-03-19T06:14:59.839690",
     "exception": false,
     "start_time": "2021-03-19T06:14:59.794937",
     "status": "completed"
    },
    "tags": []
   },
   "outputs": [],
   "source": [
    "target_feats = [ i for i in targets.columns if i != \"sig_id\"]\n",
    "g_feats = [i for i in train.columns if \"g-\" in i]\n",
    "c_feats = [i for i in train.columns if \"c-\" in i]"
   ]
  },
  {
   "cell_type": "code",
   "execution_count": 4,
   "metadata": {
    "execution": {
     "iopub.execute_input": "2021-03-19T06:14:59.904284Z",
     "iopub.status.busy": "2021-03-19T06:14:59.900975Z",
     "iopub.status.idle": "2021-03-19T06:15:00.021061Z",
     "shell.execute_reply": "2021-03-19T06:15:00.022264Z"
    },
    "papermill": {
     "duration": 0.156043,
     "end_time": "2021-03-19T06:15:00.022453",
     "exception": false,
     "start_time": "2021-03-19T06:14:59.866410",
     "status": "completed"
    },
    "tags": []
   },
   "outputs": [],
   "source": [
    "noncons_train_index = train[train.cp_type==\"ctl_vehicle\"].index\n",
    "cons_train_index = train[train.cp_type!=\"ctl_vehicle\"].index\n",
    "noncons_test_index = test[test.cp_type==\"ctl_vehicle\"].index\n",
    "cons_test_index = test[test.cp_type!=\"ctl_vehicle\"].index"
   ]
  },
  {
   "cell_type": "markdown",
   "metadata": {
    "papermill": {
     "duration": 0.019215,
     "end_time": "2021-03-19T06:15:00.060213",
     "exception": false,
     "start_time": "2021-03-19T06:15:00.040998",
     "status": "completed"
    },
    "tags": []
   },
   "source": [
    "# target group"
   ]
  },
  {
   "cell_type": "code",
   "execution_count": 5,
   "metadata": {
    "execution": {
     "iopub.execute_input": "2021-03-19T06:15:00.126924Z",
     "iopub.status.busy": "2021-03-19T06:15:00.126209Z",
     "iopub.status.idle": "2021-03-19T06:15:00.129092Z",
     "shell.execute_reply": "2021-03-19T06:15:00.129988Z"
    },
    "papermill": {
     "duration": 0.049129,
     "end_time": "2021-03-19T06:15:00.130136",
     "exception": false,
     "start_time": "2021-03-19T06:15:00.081007",
     "status": "completed"
    },
    "tags": []
   },
   "outputs": [],
   "source": [
    "y = targets.drop(\"sig_id\", axis=1)"
   ]
  },
  {
   "cell_type": "code",
   "execution_count": 6,
   "metadata": {
    "execution": {
     "iopub.execute_input": "2021-03-19T06:15:00.198394Z",
     "iopub.status.busy": "2021-03-19T06:15:00.194964Z",
     "iopub.status.idle": "2021-03-19T06:15:11.562539Z",
     "shell.execute_reply": "2021-03-19T06:15:11.562117Z"
    },
    "papermill": {
     "duration": 11.405031,
     "end_time": "2021-03-19T06:15:11.562634",
     "exception": false,
     "start_time": "2021-03-19T06:15:00.157603",
     "status": "completed"
    },
    "tags": []
   },
   "outputs": [
    {
     "data": {
      "text/plain": [
       "((23814, 328), (328, 206))"
      ]
     },
     "execution_count": 6,
     "metadata": {},
     "output_type": "execute_result"
    }
   ],
   "source": [
    "def make_string(row):\n",
    "    return str(row[1:].values).replace('[','').replace(']','').replace('\\n','').replace(' ','')\n",
    "\n",
    "targets[\"target_pair\"] = targets.apply(make_string, axis=1)\n",
    "targetpair_id = dict(enumerate(targets[\"target_pair\"].unique()))\n",
    "id_targetpair = {y:x for x,y in targetpair_id.items()}\n",
    "targets[\"target_pair_num\"] = targets[\"target_pair\"].map(id_targetpair)\n",
    "\n",
    "multiclass_targets = pd.get_dummies(targets[\"target_pair_num\"])\n",
    "\n",
    "for i in range(len(id_targetpair.keys())):\n",
    "    if i == 0:\n",
    "        classid_target = np.array(list((targetpair_id[i]))).reshape(1,-1)      \n",
    "    else:\n",
    "        classid_target = np.vstack([classid_target, np.array(list((targetpair_id[i]))).reshape(1,-1)])\n",
    "        \n",
    "multiclass_targets.shape, classid_target.shape"
   ]
  },
  {
   "cell_type": "code",
   "execution_count": 7,
   "metadata": {
    "execution": {
     "iopub.execute_input": "2021-03-19T06:15:11.640681Z",
     "iopub.status.busy": "2021-03-19T06:15:11.640074Z",
     "iopub.status.idle": "2021-03-19T06:15:11.643259Z",
     "shell.execute_reply": "2021-03-19T06:15:11.642834Z"
    },
    "papermill": {
     "duration": 0.061769,
     "end_time": "2021-03-19T06:15:11.643360",
     "exception": false,
     "start_time": "2021-03-19T06:15:11.581591",
     "status": "completed"
    },
    "tags": []
   },
   "outputs": [],
   "source": [
    "classid_target = classid_target.astype(int)"
   ]
  },
  {
   "cell_type": "code",
   "execution_count": 8,
   "metadata": {
    "execution": {
     "iopub.execute_input": "2021-03-19T06:15:11.684746Z",
     "iopub.status.busy": "2021-03-19T06:15:11.683950Z",
     "iopub.status.idle": "2021-03-19T06:15:11.686989Z",
     "shell.execute_reply": "2021-03-19T06:15:11.686412Z"
    },
    "papermill": {
     "duration": 0.025229,
     "end_time": "2021-03-19T06:15:11.687084",
     "exception": false,
     "start_time": "2021-03-19T06:15:11.661855",
     "status": "completed"
    },
    "tags": []
   },
   "outputs": [],
   "source": [
    "class_num = multiclass_targets.shape[1]"
   ]
  },
  {
   "cell_type": "markdown",
   "metadata": {
    "papermill": {
     "duration": 0.020302,
     "end_time": "2021-03-19T06:15:11.727780",
     "exception": false,
     "start_time": "2021-03-19T06:15:11.707478",
     "status": "completed"
    },
    "tags": []
   },
   "source": [
    "# preprocess"
   ]
  },
  {
   "cell_type": "code",
   "execution_count": 9,
   "metadata": {
    "execution": {
     "iopub.execute_input": "2021-03-19T06:15:11.781771Z",
     "iopub.status.busy": "2021-03-19T06:15:11.780683Z",
     "iopub.status.idle": "2021-03-19T06:15:12.093482Z",
     "shell.execute_reply": "2021-03-19T06:15:12.092981Z"
    },
    "papermill": {
     "duration": 0.345598,
     "end_time": "2021-03-19T06:15:12.093589",
     "exception": false,
     "start_time": "2021-03-19T06:15:11.747991",
     "status": "completed"
    },
    "tags": []
   },
   "outputs": [],
   "source": [
    "train = train[train.index.isin(cons_train_index)].copy().reset_index(drop=True)\n",
    "test = test[test.index.isin(cons_test_index)].copy().reset_index(drop=True)\n",
    "targets = targets[targets.index.isin(cons_train_index)].copy().reset_index(drop=True)\n",
    "multiclass_targets = multiclass_targets[multiclass_targets.index.isin(cons_train_index)].copy().reset_index(drop=True)"
   ]
  },
  {
   "cell_type": "markdown",
   "metadata": {
    "papermill": {
     "duration": 0.02082,
     "end_time": "2021-03-19T06:15:12.136046",
     "exception": false,
     "start_time": "2021-03-19T06:15:12.115226",
     "status": "completed"
    },
    "tags": []
   },
   "source": [
    "# Feature engineering "
   ]
  },
  {
   "cell_type": "code",
   "execution_count": 10,
   "metadata": {
    "execution": {
     "iopub.execute_input": "2021-03-19T06:15:12.233453Z",
     "iopub.status.busy": "2021-03-19T06:15:12.231989Z",
     "iopub.status.idle": "2021-03-19T06:15:12.604698Z",
     "shell.execute_reply": "2021-03-19T06:15:12.604230Z"
    },
    "papermill": {
     "duration": 0.447779,
     "end_time": "2021-03-19T06:15:12.604812",
     "exception": false,
     "start_time": "2021-03-19T06:15:12.157033",
     "status": "completed"
    },
    "tags": []
   },
   "outputs": [
    {
     "name": "stdout",
     "output_type": "stream",
     "text": [
      "33\n"
     ]
    }
   ],
   "source": [
    "#importance = pd.read_csv('../input/moa-feat-importance-rapids/output_source.csv')\n",
    "#importance = importance.set_index(\"Feature\")\n",
    "\n",
    "#imp_scaled = importance.copy(deep=True)\n",
    "#for c in imp_scaled.columns:\n",
    "#    imp_scaled[c] = (1 - preprocessing.MinMaxScaler().fit_transform(imp_scaled[[c]])).round(14)\n",
    "\n",
    "#print(imp_scaled.min().min(), imp_scaled.max().max(), imp_scaled.std().mean())\n",
    "\n",
    "#imp_scaled[\"MeanImp\"] = imp_scaled[target_feats].mean(axis=1)\n",
    "#imp_scaled[\"MaxImp\"]  = imp_scaled[target_feats].max(axis=1)\n",
    "\n",
    "#thresh_mean, thresh_max = 0.3, 0.95\n",
    "#fs_both = imp_scaled.loc[(imp_scaled.MeanImp >= thresh_mean) & (imp_scaled.MaxImp >= thresh_max), Targets]\n",
    "#fs_any = list(imp_scaled.loc[(imp_scaled.MeanImp >= thresh_mean) | (imp_scaled.MaxImp >= thresh_max), target_feats].index)\n",
    "#print(len(fs_any))\n",
    "\n",
    "#least_contribution = list(imp_scaled.sort_values(\"MeanImp\", ascending=True).index)\n",
    "#least_contribution2 = list(imp_scaled.sort_values(\"MaxImp\", ascending=True).index)\n",
    "#drop_feats = [i for i in c_feats+g_feats if i not in fs_any]\n",
    "\n",
    "X = train.iloc[:,4:].copy().values\n",
    "select = VarianceThreshold(threshold=0.7)\n",
    "X_new = select.fit_transform(X)\n",
    "drop_feats = list(np.array(train.iloc[:,4:].columns)[select.get_support()==False])\n",
    "print(len(drop_feats))\n",
    "\n",
    "#drop_feats = least_contribution[:10]\n",
    "#drop_feats += least_contribution2[:10]\n",
    "\n",
    "train.drop(drop_feats, axis=1, inplace=True)\n",
    "test.drop(drop_feats, axis=1, inplace=True)\n",
    "\n",
    "g_feats = [i for i in train.columns if \"g-\" in i]\n",
    "c_feats = [i for i in train.columns if \"c-\" in i]"
   ]
  },
  {
   "cell_type": "code",
   "execution_count": 11,
   "metadata": {
    "execution": {
     "iopub.execute_input": "2021-03-19T06:15:12.652736Z",
     "iopub.status.busy": "2021-03-19T06:15:12.651873Z",
     "iopub.status.idle": "2021-03-19T06:15:22.971540Z",
     "shell.execute_reply": "2021-03-19T06:15:22.970967Z"
    },
    "papermill": {
     "duration": 10.3466,
     "end_time": "2021-03-19T06:15:22.971642",
     "exception": false,
     "start_time": "2021-03-19T06:15:12.625042",
     "status": "completed"
    },
    "tags": []
   },
   "outputs": [],
   "source": [
    "# rank gauss\n",
    "for i in c_feats + g_feats:\n",
    "    ss = preprocessing.QuantileTransformer(n_quantiles=1000, random_state=0, output_distribution=\"normal\")\n",
    "    ss.fit(pd.concat([train[i], test[i]]).values.reshape(-1,1))\n",
    "    #ss.fit(train[i].values.reshape(-1,1))\n",
    "    train[i] = ss.transform(train[i].values.reshape(-1,1))\n",
    "    test[i] = ss.transform(test[i].values.reshape(-1,1))"
   ]
  },
  {
   "cell_type": "code",
   "execution_count": 12,
   "metadata": {
    "execution": {
     "iopub.execute_input": "2021-03-19T06:15:23.016996Z",
     "iopub.status.busy": "2021-03-19T06:15:23.015236Z",
     "iopub.status.idle": "2021-03-19T06:15:23.017550Z",
     "shell.execute_reply": "2021-03-19T06:15:23.017983Z"
    },
    "papermill": {
     "duration": 0.026536,
     "end_time": "2021-03-19T06:15:23.018091",
     "exception": false,
     "start_time": "2021-03-19T06:15:22.991555",
     "status": "completed"
    },
    "tags": []
   },
   "outputs": [],
   "source": [
    "# # data augmentation by cutmix\n",
    "# random.seed(0)\n",
    "# np.random.seed(0)\n",
    "# def cutmix_for_tabular(x, y=None, alpha=1.0, p=1.0, random_state=None):\n",
    "#     x_ = x.copy()\n",
    "#     n, d = x.shape\n",
    "\n",
    "#     if n is not None and random.random() < p:\n",
    "#         random_state = check_random_state(random_state)\n",
    "#         l = random_state.beta(alpha, alpha)\n",
    "#         mask = random_state.choice([False, True], size=d, p=[l, 1.0 - l])\n",
    "#         mask = np.where(mask)[0]\n",
    "#         shuffle = random_state.choice(n, n, replace=False)\n",
    "#         x_[:,mask] = x_[np.ix_(shuffle,mask)]\n",
    "        \n",
    "#         if y is not None:\n",
    "#             y = l * y + (1.0 - l) * y[shuffle]\n",
    "        \n",
    "#     return x_, y\n",
    "\n",
    "# train_mod, y_mod = cutmix_for_tabular(train.values, y.values, alpha=1, p=1)\n",
    "\n",
    "# assert np.sum(y_mod != y.values).sum() != 0 \n",
    "# assert np.sum(train_mod != train.values).sum() != 0\n",
    "\n",
    "# train_mod = pd.DataFrame(train_mod, columns = train.columns)\n",
    "# train = pd.concat([train, train_mod], axis=0).reset_index(drop=True)\n",
    "\n",
    "# y_mod = pd.DataFrame(y_mod, columns = y.columns)\n",
    "# y = pd.concat([y, y_mod], axis=0).reset_index(drop=True)"
   ]
  },
  {
   "cell_type": "code",
   "execution_count": 13,
   "metadata": {
    "execution": {
     "iopub.execute_input": "2021-03-19T06:15:23.076640Z",
     "iopub.status.busy": "2021-03-19T06:15:23.075694Z",
     "iopub.status.idle": "2021-03-19T06:15:25.094951Z",
     "shell.execute_reply": "2021-03-19T06:15:25.094463Z"
    },
    "papermill": {
     "duration": 2.056741,
     "end_time": "2021-03-19T06:15:25.095059",
     "exception": false,
     "start_time": "2021-03-19T06:15:23.038318",
     "status": "completed"
    },
    "tags": []
   },
   "outputs": [],
   "source": [
    "c_num = 10\n",
    "pca_c_cols = [\"pca-c\"+str(i+1) for i in range(c_num)]\n",
    "pca = PCA(n_components=c_num,random_state=42)\n",
    "c_train = pca.fit_transform(train[c_feats])\n",
    "c_test = pca.transform(test[c_feats])\n",
    "c_train = pd.DataFrame(c_train, columns=pca_c_cols)\n",
    "c_test = pd.DataFrame(c_test, columns=pca_c_cols)\n",
    "\n",
    "g_num = 60\n",
    "pca_g_cols = [\"pca-g\"+str(i+1) for i in range(g_num)]\n",
    "pca = PCA(n_components=g_num, random_state=42)\n",
    "g_train = pca.fit_transform(train[g_feats])\n",
    "g_test = pca.transform(test[g_feats])\n",
    "g_train = pd.DataFrame(g_train, columns=pca_g_cols)\n",
    "g_test = pd.DataFrame(g_test, columns=pca_g_cols)\n",
    "\n",
    "train = pd.concat([train, c_train],axis=1)\n",
    "test = pd.concat([test, c_test],axis=1)\n",
    "train = pd.concat([train, g_train],axis=1)\n",
    "test = pd.concat([test, g_test],axis=1)"
   ]
  },
  {
   "cell_type": "code",
   "execution_count": 14,
   "metadata": {
    "execution": {
     "iopub.execute_input": "2021-03-19T06:15:25.142861Z",
     "iopub.status.busy": "2021-03-19T06:15:25.141641Z",
     "iopub.status.idle": "2021-03-19T06:15:26.944860Z",
     "shell.execute_reply": "2021-03-19T06:15:26.944293Z"
    },
    "papermill": {
     "duration": 1.830245,
     "end_time": "2021-03-19T06:15:26.945019",
     "exception": false,
     "start_time": "2021-03-19T06:15:25.114774",
     "status": "completed"
    },
    "tags": []
   },
   "outputs": [],
   "source": [
    "def fe(df):\n",
    "    tmp = df.copy()\n",
    "    tmp['g_kurt'] = tmp[g_feats].kurtosis(axis = 1)\n",
    "    tmp['g_skew'] = tmp[g_feats].skew(axis = 1)\n",
    "    tmp['c_kurt'] = tmp[c_feats].kurtosis(axis = 1)\n",
    "    tmp['c_skew'] = tmp[c_feats].skew(axis = 1)\n",
    "    tmp = pd.get_dummies(tmp, columns=['cp_time','cp_dose'])\n",
    "    tmp.drop([\"cp_type\", \"sig_id\"], axis=1, inplace=True)\n",
    "    return tmp\n",
    "\n",
    "train = fe(train)\n",
    "test = fe(test)"
   ]
  },
  {
   "cell_type": "code",
   "execution_count": 15,
   "metadata": {
    "execution": {
     "iopub.execute_input": "2021-03-19T06:15:26.992108Z",
     "iopub.status.busy": "2021-03-19T06:15:26.990940Z",
     "iopub.status.idle": "2021-03-19T06:15:27.141183Z",
     "shell.execute_reply": "2021-03-19T06:15:27.140588Z"
    },
    "papermill": {
     "duration": 0.175917,
     "end_time": "2021-03-19T06:15:27.141306",
     "exception": false,
     "start_time": "2021-03-19T06:15:26.965389",
     "status": "completed"
    },
    "tags": []
   },
   "outputs": [],
   "source": [
    "fn_train = train.copy().to_numpy()\n",
    "fn_test = test.copy().to_numpy()\n",
    "fn_targets = y.copy().to_numpy()"
   ]
  },
  {
   "cell_type": "code",
   "execution_count": 16,
   "metadata": {
    "execution": {
     "iopub.execute_input": "2021-03-19T06:15:27.187430Z",
     "iopub.status.busy": "2021-03-19T06:15:27.186274Z",
     "iopub.status.idle": "2021-03-19T06:15:27.190178Z",
     "shell.execute_reply": "2021-03-19T06:15:27.189622Z"
    },
    "papermill": {
     "duration": 0.028744,
     "end_time": "2021-03-19T06:15:27.190287",
     "exception": false,
     "start_time": "2021-03-19T06:15:27.161543",
     "status": "completed"
    },
    "tags": []
   },
   "outputs": [],
   "source": [
    "fn_mutliclass_targets = multiclass_targets.copy().to_numpy()"
   ]
  },
  {
   "cell_type": "code",
   "execution_count": 17,
   "metadata": {
    "execution": {
     "iopub.execute_input": "2021-03-19T06:15:27.236065Z",
     "iopub.status.busy": "2021-03-19T06:15:27.235225Z",
     "iopub.status.idle": "2021-03-19T06:15:27.239142Z",
     "shell.execute_reply": "2021-03-19T06:15:27.238649Z"
    },
    "papermill": {
     "duration": 0.028616,
     "end_time": "2021-03-19T06:15:27.239234",
     "exception": false,
     "start_time": "2021-03-19T06:15:27.210618",
     "status": "completed"
    },
    "tags": []
   },
   "outputs": [
    {
     "name": "stdout",
     "output_type": "stream",
     "text": [
      "(21948, 918) (3624, 918) (23814, 206) (21948, 328)\n"
     ]
    }
   ],
   "source": [
    "print(fn_train.shape, fn_test.shape, fn_targets.shape, fn_mutliclass_targets.shape)"
   ]
  },
  {
   "cell_type": "markdown",
   "metadata": {
    "papermill": {
     "duration": 0.020821,
     "end_time": "2021-03-19T06:15:27.280471",
     "exception": false,
     "start_time": "2021-03-19T06:15:27.259650",
     "status": "completed"
    },
    "tags": []
   },
   "source": [
    "# modelling"
   ]
  },
  {
   "cell_type": "code",
   "execution_count": 18,
   "metadata": {
    "execution": {
     "iopub.execute_input": "2021-03-19T06:15:27.668976Z",
     "iopub.status.busy": "2021-03-19T06:15:27.668251Z",
     "iopub.status.idle": "2021-03-19T06:15:27.672651Z",
     "shell.execute_reply": "2021-03-19T06:15:27.671899Z"
    },
    "papermill": {
     "duration": 0.371676,
     "end_time": "2021-03-19T06:15:27.672767",
     "exception": false,
     "start_time": "2021-03-19T06:15:27.301091",
     "status": "completed"
    },
    "tags": []
   },
   "outputs": [],
   "source": [
    "device = \"cuda\" if torch.cuda.is_available() else \"cpu\""
   ]
  },
  {
   "cell_type": "code",
   "execution_count": 19,
   "metadata": {
    "execution": {
     "iopub.execute_input": "2021-03-19T06:15:27.723982Z",
     "iopub.status.busy": "2021-03-19T06:15:27.723196Z",
     "iopub.status.idle": "2021-03-19T06:15:27.725990Z",
     "shell.execute_reply": "2021-03-19T06:15:27.725546Z"
    },
    "papermill": {
     "duration": 0.032788,
     "end_time": "2021-03-19T06:15:27.726083",
     "exception": false,
     "start_time": "2021-03-19T06:15:27.693295",
     "status": "completed"
    },
    "tags": []
   },
   "outputs": [],
   "source": [
    "class SmoothCrossEntropyLoss(_WeightedLoss):\n",
    "    def __init__(self, weight=None, reduction='mean', smoothing=0.0):\n",
    "        super().__init__(weight=weight, reduction=reduction)\n",
    "        self.smoothing = smoothing\n",
    "        self.weight = weight\n",
    "        self.reduction = reduction\n",
    "\n",
    "    @staticmethod\n",
    "    def _smooth(targets, n_classes, smoothing=0.0):\n",
    "        assert 0 <= smoothing <= 1\n",
    "        with torch.no_grad():\n",
    "            targets = targets * (1 - smoothing) + torch.ones_like(targets).to(device) * smoothing / n_classes\n",
    "        return targets\n",
    "\n",
    "    def forward(self, inputs, targets):\n",
    "        targets = SmoothCrossEntropyLoss()._smooth(targets, inputs.shape[1], self.smoothing)\n",
    "\n",
    "        if self.weight is not None:\n",
    "            inputs = inputs * self.weight.unsqueeze(0)\n",
    "\n",
    "        loss = F.binary_cross_entropy_with_logits(inputs, targets)\n",
    "\n",
    "        return loss"
   ]
  },
  {
   "cell_type": "code",
   "execution_count": 20,
   "metadata": {
    "execution": {
     "iopub.execute_input": "2021-03-19T06:15:27.782608Z",
     "iopub.status.busy": "2021-03-19T06:15:27.782006Z",
     "iopub.status.idle": "2021-03-19T06:15:27.784969Z",
     "shell.execute_reply": "2021-03-19T06:15:27.785549Z"
    },
    "papermill": {
     "duration": 0.038576,
     "end_time": "2021-03-19T06:15:27.785704",
     "exception": false,
     "start_time": "2021-03-19T06:15:27.747128",
     "status": "completed"
    },
    "tags": []
   },
   "outputs": [
    {
     "name": "stdout",
     "output_type": "stream",
     "text": [
      "cuda\n"
     ]
    }
   ],
   "source": [
    "print(device)\n",
    "def seed_everything(seed=42): \n",
    "    random.seed(seed)\n",
    "    os.environ['PYTHONHASHSEED'] = str(seed)\n",
    "    tf.random.set_seed(seed)\n",
    "    np.random.seed(seed)\n",
    "    torch.manual_seed(seed)\n",
    "    torch.cuda.manual_seed(seed)\n",
    "    torch.backends.cudnn.deterministic = True\n",
    "\n",
    "class MoaModel(nn.Module):\n",
    "    def __init__(self, num_columns, last_num):\n",
    "        super(MoaModel, self).__init__()\n",
    "        self.batch_norm1 = nn.BatchNorm1d(num_columns)\n",
    "        self.dropout1 = nn.Dropout(0.1)\n",
    "        self.dense1 = nn.utils.weight_norm(nn.Linear(num_columns, 1024))\n",
    "        self.relu1 = nn.LeakyReLU()\n",
    "        \n",
    "        self.batch_norm2 = nn.BatchNorm1d(1024)\n",
    "        self.dropout2 = nn.Dropout(0.1)\n",
    "        self.dense2 = nn.utils.weight_norm(nn.Linear(1024, 1024))\n",
    "        self.relu2 = nn.LeakyReLU()\n",
    "        \n",
    "        self.batch_norm3 = nn.BatchNorm1d(1024)\n",
    "        self.dropout3 = nn.Dropout(0.1)\n",
    "        self.dense3 = nn.utils.weight_norm(nn.Linear(1024, last_num))\n",
    "        \n",
    "    def forward(self, x):\n",
    "        x = self.batch_norm1(x)\n",
    "        x = self.dropout1(x)\n",
    "        x = self.relu1(self.dense1(x))\n",
    "        \n",
    "        x = self.batch_norm2(x)\n",
    "        x = self.dropout2(x)\n",
    "        x = self.relu2(self.dense2(x))\n",
    "        \n",
    "        x = self.batch_norm3(x)\n",
    "        x = self.dropout3(x)\n",
    "        x = self.dense3(x)\n",
    "        \n",
    "        return x"
   ]
  },
  {
   "cell_type": "markdown",
   "metadata": {
    "papermill": {
     "duration": 0.020719,
     "end_time": "2021-03-19T06:15:27.828404",
     "exception": false,
     "start_time": "2021-03-19T06:15:27.807685",
     "status": "completed"
    },
    "tags": []
   },
   "source": [
    "# modelling"
   ]
  },
  {
   "cell_type": "code",
   "execution_count": 21,
   "metadata": {
    "execution": {
     "iopub.execute_input": "2021-03-19T06:15:27.874316Z",
     "iopub.status.busy": "2021-03-19T06:15:27.873356Z",
     "iopub.status.idle": "2021-03-19T06:15:27.911321Z",
     "shell.execute_reply": "2021-03-19T06:15:27.910844Z"
    },
    "papermill": {
     "duration": 0.062083,
     "end_time": "2021-03-19T06:15:27.911427",
     "exception": false,
     "start_time": "2021-03-19T06:15:27.849344",
     "status": "completed"
    },
    "tags": []
   },
   "outputs": [],
   "source": [
    "batch_size = 128\n",
    "n_folds=7\n",
    "EARLY_STOPPING_STEPS = 10\n",
    "smoothing = 0\n",
    "p_min = smoothing\n",
    "p_max = 1 - smoothing\n",
    "train_epochs = 20\n",
    "\n",
    "def mean_log_loss(y_true, y_pred):\n",
    "    metrics = []\n",
    "    for i, target in enumerate(target_feats):\n",
    "        metrics.append(log_loss(y_true[:, i], y_pred[:, i].astype(float), labels=[0,1]))\n",
    "    return np.mean(metrics)\n",
    "\n",
    "    \n",
    "def modelling_torch(tr, target, te, sample_seed, init_num, last_num):\n",
    "    seed_everything(seed=sample_seed) \n",
    "    X_train = tr.copy()\n",
    "    y_train = target.copy()\n",
    "    X_test = te.copy()\n",
    "    test_len = X_test.shape[0]\n",
    "    \n",
    "    mskf=MultilabelStratifiedKFold(n_splits = n_folds, shuffle=True, random_state=224)\n",
    "    metric = lambda inputs, targets : F.binary_cross_entropy((torch.clamp(torch.sigmoid(inputs), p_min, p_max)), targets)\n",
    "\n",
    "    models = []\n",
    "    \n",
    "    X_test2 = torch.tensor(X_test, dtype=torch.float32)\n",
    "    test = torch.utils.data.TensorDataset(X_test2) \n",
    "    test_loader = torch.utils.data.DataLoader(test, batch_size=batch_size, shuffle=False)\n",
    "    \n",
    "    oof = np.zeros([len(X_train),y_train.shape[1]])\n",
    "    oof_targets = np.zeros([len(X_train),y_train.shape[1]])\n",
    "    pred_value = np.zeros([test_len, y_train.shape[1]])\n",
    "    for fold, (train_index, valid_index) in enumerate(mskf.split(X_train, y_train)):\n",
    "        print(\"Fold \"+str(fold+1))\n",
    "        X_train2 = torch.tensor(X_train[train_index,:], dtype=torch.float32)\n",
    "        y_train2 = torch.tensor(y_train[train_index], dtype=torch.float32)\n",
    "\n",
    "        X_valid2 = torch.tensor(X_train[valid_index,:], dtype=torch.float32)\n",
    "        y_valid2 = torch.tensor(y_train[valid_index], dtype=torch.float32)\n",
    "        \n",
    "        train = torch.utils.data.TensorDataset(X_train2, y_train2)\n",
    "        valid = torch.utils.data.TensorDataset(X_valid2, y_valid2)\n",
    "        \n",
    "        train_loader = torch.utils.data.DataLoader(train, batch_size=batch_size, shuffle=True) \n",
    "        valid_loader = torch.utils.data.DataLoader(valid, batch_size=batch_size, shuffle=False)\n",
    "            \n",
    "        clf = MoaModel(init_num, last_num)\n",
    "        loss_fn = SmoothCrossEntropyLoss(smoothing=smoothing)\n",
    "\n",
    "        optimizer = optim.Adam(clf.parameters(), lr = 0.001, weight_decay=1e-5) \n",
    "        scheduler = optim.lr_scheduler.OneCycleLR(optimizer=optimizer, pct_start=0.1, div_factor=1e3, \n",
    "                                              max_lr=1e-2, epochs=train_epochs, steps_per_epoch=len(train_loader))\n",
    "        \n",
    "        clf.to(device)\n",
    "        \n",
    "        best_val_loss = np.inf\n",
    "        stop_counts = 0\n",
    "        for epoch in range(train_epochs):\n",
    "            start_time = time.time()\n",
    "            clf.train()\n",
    "            avg_loss = 0.\n",
    "            sm_avg_loss = 0.\n",
    "            for x_batch, y_batch in tqdm(train_loader, disable=True):\n",
    "                x_batch = x_batch.to(device)\n",
    "                y_batch = y_batch.to(device)\n",
    "                y_pred = clf(x_batch) \n",
    "                loss = loss_fn(y_pred, y_batch)\n",
    "                optimizer.zero_grad()\n",
    "                loss.backward()\n",
    "                optimizer.step()\n",
    "                scheduler.step()\n",
    "                avg_loss += loss.item() / len(train_loader)  \n",
    "                sm_avg_loss += metric(y_pred, y_batch) / len(train_loader) \n",
    "                \n",
    "            clf.eval()\n",
    "            avg_val_loss = 0.\n",
    "            sm_avg_val_loss = 0.\n",
    "            for i, (x_batch, y_batch) in enumerate(valid_loader): \n",
    "                x_batch = x_batch.to(device)\n",
    "                y_batch = y_batch.to(device)\n",
    "                y_pred = clf(x_batch).detach()\n",
    "                avg_val_loss += loss_fn(y_pred, y_batch).item() / len(valid_loader)\n",
    "                sm_avg_val_loss += metric(y_pred, y_batch) / len(valid_loader)\n",
    "        \n",
    "            elapsed_time = time.time() - start_time \n",
    "                    \n",
    "            if avg_val_loss < best_val_loss:\n",
    "                best_val_loss = avg_val_loss\n",
    "                print('Epoch {}  loss={:.5f}  val_loss={:.5f}  sm_loss={:.5f}  sm_val_loss={:.5f}  time={:.2f}s'.format(\n",
    "                    epoch + 1, avg_loss, avg_val_loss, sm_avg_loss, sm_avg_val_loss, elapsed_time))\n",
    "                torch.save(clf.state_dict(), 'best-model-parameters.pt')\n",
    "                stop_counts = 0\n",
    "            else:\n",
    "                stop_counts += 1\n",
    "                \n",
    "            if stop_counts >= EARLY_STOPPING_STEPS:\n",
    "                break\n",
    "        \n",
    "        pred_model = MoaModel(init_num, last_num)\n",
    "        pred_model.load_state_dict(torch.load('best-model-parameters.pt'))         \n",
    "        pred_model.eval()\n",
    "        \n",
    "        # validation check ----------------\n",
    "        oof_epoch = np.zeros([X_valid2.size(0), y_train.shape[1]])\n",
    "        target_epoch = np.zeros([X_valid2.size(0), y_train.shape[1]])\n",
    "        for i, (x_batch, y_batch) in enumerate(valid_loader): \n",
    "            y_pred = pred_model(x_batch).detach()\n",
    "            oof_epoch[i * batch_size:(i+1) * batch_size,:] = torch.sigmoid(y_pred.cpu()) #torch.clamp(torch.sigmoid(y_pred.cpu()), p_min, p_max)\n",
    "            target_epoch[i * batch_size:(i+1) * batch_size,:] = y_batch.cpu().numpy()\n",
    "        oof[valid_index,:] = oof_epoch\n",
    "        oof_targets[valid_index,:] = target_epoch\n",
    "        #-----------------------------------\n",
    "        \n",
    "        # test predcition --------------\n",
    "        test_preds = np.zeros([test_len, y_train.shape[1]])\n",
    "        for i, (x_batch,) in enumerate(test_loader): \n",
    "            y_pred = pred_model(x_batch).detach()\n",
    "            test_preds[i * batch_size:(i+1) * batch_size, :] = torch.sigmoid(y_pred.cpu()) #torch.clamp(torch.sigmoid(y_pred.cpu()), p_min, p_max)\n",
    "        pred_value += test_preds / n_folds\n",
    "        # ------------------------------\n",
    "    \n",
    "    return oof, pred_value"
   ]
  },
  {
   "cell_type": "code",
   "execution_count": 22,
   "metadata": {
    "execution": {
     "iopub.execute_input": "2021-03-19T06:15:27.964390Z",
     "iopub.status.busy": "2021-03-19T06:15:27.963602Z",
     "iopub.status.idle": "2021-03-19T06:18:00.262762Z",
     "shell.execute_reply": "2021-03-19T06:18:00.262256Z"
    },
    "papermill": {
     "duration": 152.329185,
     "end_time": "2021-03-19T06:18:00.262865",
     "exception": false,
     "start_time": "2021-03-19T06:15:27.933680",
     "status": "completed"
    },
    "tags": []
   },
   "outputs": [
    {
     "name": "stdout",
     "output_type": "stream",
     "text": [
      "Fold 1\n",
      "Epoch 1  loss=0.41214  val_loss=0.01679  sm_loss=0.41214  sm_val_loss=0.01679  time=1.43s\n",
      "Epoch 2  loss=0.01446  val_loss=0.01366  sm_loss=0.01449  sm_val_loss=0.01366  time=0.79s\n",
      "Epoch 3  loss=0.01286  val_loss=0.01333  sm_loss=0.01286  sm_val_loss=0.01333  time=0.80s\n",
      "Epoch 4  loss=0.01258  val_loss=0.01270  sm_loss=0.01258  sm_val_loss=0.01270  time=0.80s\n",
      "Epoch 5  loss=0.01251  val_loss=0.01258  sm_loss=0.01251  sm_val_loss=0.01258  time=0.81s\n",
      "Epoch 6  loss=0.01252  val_loss=0.01252  sm_loss=0.01252  sm_val_loss=0.01252  time=0.81s\n",
      "Epoch 7  loss=0.01255  val_loss=0.01240  sm_loss=0.01255  sm_val_loss=0.01240  time=0.80s\n",
      "Epoch 13  loss=0.01225  val_loss=0.01223  sm_loss=0.01225  sm_val_loss=0.01223  time=0.80s\n",
      "Epoch 14  loss=0.01210  val_loss=0.01215  sm_loss=0.01210  sm_val_loss=0.01215  time=0.83s\n",
      "Epoch 15  loss=0.01192  val_loss=0.01205  sm_loss=0.01192  sm_val_loss=0.01205  time=0.87s\n",
      "Epoch 16  loss=0.01176  val_loss=0.01185  sm_loss=0.01176  sm_val_loss=0.01185  time=1.09s\n",
      "Epoch 17  loss=0.01154  val_loss=0.01171  sm_loss=0.01154  sm_val_loss=0.01171  time=0.82s\n",
      "Epoch 18  loss=0.01130  val_loss=0.01157  sm_loss=0.01130  sm_val_loss=0.01157  time=0.81s\n",
      "Epoch 19  loss=0.01108  val_loss=0.01153  sm_loss=0.01108  sm_val_loss=0.01153  time=0.81s\n",
      "Fold 2\n",
      "Epoch 1  loss=0.41227  val_loss=0.01726  sm_loss=0.41227  sm_val_loss=0.01726  time=0.97s\n",
      "Epoch 2  loss=0.01447  val_loss=0.01374  sm_loss=0.01447  sm_val_loss=0.01374  time=0.81s\n",
      "Epoch 3  loss=0.01295  val_loss=0.01282  sm_loss=0.01298  sm_val_loss=0.01282  time=0.82s\n",
      "Epoch 4  loss=0.01252  val_loss=0.01251  sm_loss=0.01252  sm_val_loss=0.01251  time=0.81s\n",
      "Epoch 5  loss=0.01252  val_loss=0.01250  sm_loss=0.01252  sm_val_loss=0.01250  time=0.84s\n",
      "Epoch 8  loss=0.01255  val_loss=0.01249  sm_loss=0.01255  sm_val_loss=0.01249  time=0.81s\n",
      "Epoch 10  loss=0.01249  val_loss=0.01245  sm_loss=0.01249  sm_val_loss=0.01245  time=0.82s\n",
      "Epoch 11  loss=0.01243  val_loss=0.01244  sm_loss=0.01243  sm_val_loss=0.01244  time=0.82s\n",
      "Epoch 12  loss=0.01235  val_loss=0.01218  sm_loss=0.01235  sm_val_loss=0.01218  time=0.83s\n",
      "Epoch 14  loss=0.01209  val_loss=0.01200  sm_loss=0.01209  sm_val_loss=0.01200  time=0.92s\n",
      "Epoch 15  loss=0.01194  val_loss=0.01193  sm_loss=0.01194  sm_val_loss=0.01193  time=0.83s\n",
      "Epoch 16  loss=0.01175  val_loss=0.01179  sm_loss=0.01175  sm_val_loss=0.01179  time=0.82s\n",
      "Epoch 17  loss=0.01151  val_loss=0.01169  sm_loss=0.01151  sm_val_loss=0.01169  time=0.83s\n",
      "Epoch 18  loss=0.01128  val_loss=0.01158  sm_loss=0.01128  sm_val_loss=0.01158  time=0.81s\n",
      "Epoch 19  loss=0.01107  val_loss=0.01153  sm_loss=0.01107  sm_val_loss=0.01153  time=0.80s\n",
      "Epoch 20  loss=0.01095  val_loss=0.01153  sm_loss=0.01095  sm_val_loss=0.01153  time=0.81s\n",
      "Fold 3\n",
      "Epoch 1  loss=0.41408  val_loss=0.01691  sm_loss=0.41408  sm_val_loss=0.01691  time=0.81s\n",
      "Epoch 2  loss=0.01458  val_loss=0.01346  sm_loss=0.01458  sm_val_loss=0.01346  time=0.81s\n",
      "Epoch 3  loss=0.01286  val_loss=0.01301  sm_loss=0.01286  sm_val_loss=0.01301  time=0.81s\n",
      "Epoch 4  loss=0.01251  val_loss=0.01249  sm_loss=0.01252  sm_val_loss=0.01249  time=0.81s\n",
      "Epoch 9  loss=0.01253  val_loss=0.01245  sm_loss=0.01253  sm_val_loss=0.01245  time=0.81s\n",
      "Epoch 10  loss=0.01247  val_loss=0.01243  sm_loss=0.01247  sm_val_loss=0.01243  time=0.81s\n",
      "Epoch 12  loss=0.01236  val_loss=0.01227  sm_loss=0.01236  sm_val_loss=0.01227  time=0.96s\n",
      "Epoch 13  loss=0.01221  val_loss=0.01225  sm_loss=0.01221  sm_val_loss=0.01225  time=0.81s\n",
      "Epoch 14  loss=0.01209  val_loss=0.01210  sm_loss=0.01209  sm_val_loss=0.01210  time=0.81s\n",
      "Epoch 15  loss=0.01191  val_loss=0.01197  sm_loss=0.01191  sm_val_loss=0.01197  time=0.81s\n",
      "Epoch 16  loss=0.01172  val_loss=0.01183  sm_loss=0.01172  sm_val_loss=0.01183  time=0.82s\n",
      "Epoch 17  loss=0.01149  val_loss=0.01164  sm_loss=0.01149  sm_val_loss=0.01164  time=0.87s\n",
      "Epoch 18  loss=0.01124  val_loss=0.01159  sm_loss=0.01124  sm_val_loss=0.01159  time=0.92s\n",
      "Epoch 19  loss=0.01104  val_loss=0.01156  sm_loss=0.01104  sm_val_loss=0.01156  time=0.83s\n",
      "Epoch 20  loss=0.01090  val_loss=0.01154  sm_loss=0.01090  sm_val_loss=0.01154  time=0.80s\n",
      "Fold 4\n",
      "Epoch 1  loss=0.41305  val_loss=0.01679  sm_loss=0.41307  sm_val_loss=0.01679  time=0.82s\n",
      "Epoch 2  loss=0.01447  val_loss=0.01320  sm_loss=0.01447  sm_val_loss=0.01320  time=0.81s\n",
      "Epoch 3  loss=0.01289  val_loss=0.01255  sm_loss=0.01290  sm_val_loss=0.01255  time=0.82s\n",
      "Epoch 5  loss=0.01257  val_loss=0.01250  sm_loss=0.01257  sm_val_loss=0.01250  time=0.80s\n",
      "Epoch 8  loss=0.01260  val_loss=0.01246  sm_loss=0.01260  sm_val_loss=0.01246  time=0.81s\n",
      "Epoch 10  loss=0.01251  val_loss=0.01243  sm_loss=0.01251  sm_val_loss=0.01243  time=0.90s\n",
      "Epoch 11  loss=0.01246  val_loss=0.01230  sm_loss=0.01246  sm_val_loss=0.01230  time=0.80s\n",
      "Epoch 13  loss=0.01226  val_loss=0.01217  sm_loss=0.01226  sm_val_loss=0.01217  time=0.80s\n",
      "Epoch 14  loss=0.01210  val_loss=0.01202  sm_loss=0.01210  sm_val_loss=0.01202  time=0.80s\n",
      "Epoch 15  loss=0.01193  val_loss=0.01191  sm_loss=0.01193  sm_val_loss=0.01191  time=0.81s\n",
      "Epoch 16  loss=0.01172  val_loss=0.01177  sm_loss=0.01172  sm_val_loss=0.01177  time=0.81s\n",
      "Epoch 17  loss=0.01151  val_loss=0.01164  sm_loss=0.01151  sm_val_loss=0.01164  time=0.80s\n",
      "Epoch 18  loss=0.01127  val_loss=0.01158  sm_loss=0.01127  sm_val_loss=0.01158  time=0.81s\n",
      "Epoch 19  loss=0.01105  val_loss=0.01152  sm_loss=0.01105  sm_val_loss=0.01152  time=0.81s\n",
      "Epoch 20  loss=0.01093  val_loss=0.01151  sm_loss=0.01093  sm_val_loss=0.01151  time=0.81s\n",
      "Fold 5\n",
      "Epoch 1  loss=0.41273  val_loss=0.01673  sm_loss=0.41273  sm_val_loss=0.01673  time=0.97s\n",
      "Epoch 2  loss=0.01439  val_loss=0.01384  sm_loss=0.01439  sm_val_loss=0.01384  time=0.89s\n",
      "Epoch 3  loss=0.01286  val_loss=0.01267  sm_loss=0.01287  sm_val_loss=0.01267  time=0.82s\n",
      "Epoch 4  loss=0.01249  val_loss=0.01239  sm_loss=0.01249  sm_val_loss=0.01239  time=0.83s\n",
      "Epoch 11  loss=0.01243  val_loss=0.01234  sm_loss=0.01243  sm_val_loss=0.01234  time=0.80s\n",
      "Epoch 13  loss=0.01221  val_loss=0.01227  sm_loss=0.01221  sm_val_loss=0.01227  time=0.82s\n",
      "Epoch 14  loss=0.01207  val_loss=0.01211  sm_loss=0.01207  sm_val_loss=0.01211  time=1.07s\n",
      "Epoch 15  loss=0.01192  val_loss=0.01197  sm_loss=0.01192  sm_val_loss=0.01197  time=0.84s\n",
      "Epoch 16  loss=0.01169  val_loss=0.01181  sm_loss=0.01169  sm_val_loss=0.01181  time=0.84s\n",
      "Epoch 17  loss=0.01147  val_loss=0.01175  sm_loss=0.01147  sm_val_loss=0.01175  time=0.84s\n",
      "Epoch 18  loss=0.01124  val_loss=0.01164  sm_loss=0.01124  sm_val_loss=0.01164  time=0.85s\n",
      "Epoch 19  loss=0.01099  val_loss=0.01159  sm_loss=0.01099  sm_val_loss=0.01159  time=0.84s\n",
      "Epoch 20  loss=0.01087  val_loss=0.01157  sm_loss=0.01087  sm_val_loss=0.01157  time=0.83s\n",
      "Fold 6\n",
      "Epoch 1  loss=0.41243  val_loss=0.01689  sm_loss=0.41243  sm_val_loss=0.01689  time=0.81s\n",
      "Epoch 3  loss=0.01293  val_loss=0.01258  sm_loss=0.01296  sm_val_loss=0.01258  time=0.84s\n",
      "Epoch 5  loss=0.01249  val_loss=0.01253  sm_loss=0.01249  sm_val_loss=0.01253  time=0.94s\n",
      "Epoch 10  loss=0.01248  val_loss=0.01249  sm_loss=0.01248  sm_val_loss=0.01249  time=0.80s\n",
      "Epoch 11  loss=0.01240  val_loss=0.01233  sm_loss=0.01240  sm_val_loss=0.01233  time=0.81s\n",
      "Epoch 12  loss=0.01234  val_loss=0.01231  sm_loss=0.01234  sm_val_loss=0.01231  time=0.80s\n",
      "Epoch 13  loss=0.01224  val_loss=0.01218  sm_loss=0.01224  sm_val_loss=0.01218  time=0.80s\n",
      "Epoch 14  loss=0.01211  val_loss=0.01212  sm_loss=0.01211  sm_val_loss=0.01212  time=0.81s\n",
      "Epoch 15  loss=0.01192  val_loss=0.01203  sm_loss=0.01192  sm_val_loss=0.01203  time=0.81s\n",
      "Epoch 16  loss=0.01172  val_loss=0.01183  sm_loss=0.01172  sm_val_loss=0.01183  time=0.81s\n",
      "Epoch 17  loss=0.01148  val_loss=0.01174  sm_loss=0.01148  sm_val_loss=0.01174  time=0.81s\n",
      "Epoch 18  loss=0.01125  val_loss=0.01161  sm_loss=0.01125  sm_val_loss=0.01161  time=0.87s\n",
      "Epoch 19  loss=0.01102  val_loss=0.01156  sm_loss=0.01102  sm_val_loss=0.01156  time=0.96s\n",
      "Epoch 20  loss=0.01088  val_loss=0.01155  sm_loss=0.01088  sm_val_loss=0.01155  time=0.83s\n",
      "Fold 7\n",
      "Epoch 1  loss=0.41270  val_loss=0.01679  sm_loss=0.41270  sm_val_loss=0.01679  time=1.12s\n",
      "Epoch 2  loss=0.01443  val_loss=0.01317  sm_loss=0.01443  sm_val_loss=0.01317  time=0.81s\n",
      "Epoch 3  loss=0.01285  val_loss=0.01270  sm_loss=0.01286  sm_val_loss=0.01270  time=0.83s\n",
      "Epoch 4  loss=0.01250  val_loss=0.01251  sm_loss=0.01251  sm_val_loss=0.01251  time=0.82s\n",
      "Epoch 6  loss=0.01256  val_loss=0.01245  sm_loss=0.01256  sm_val_loss=0.01245  time=0.81s\n",
      "Epoch 9  loss=0.01251  val_loss=0.01241  sm_loss=0.01251  sm_val_loss=0.01241  time=0.82s\n",
      "Epoch 11  loss=0.01241  val_loss=0.01231  sm_loss=0.01241  sm_val_loss=0.01231  time=0.82s\n",
      "Epoch 13  loss=0.01222  val_loss=0.01213  sm_loss=0.01222  sm_val_loss=0.01213  time=0.83s\n",
      "Epoch 14  loss=0.01209  val_loss=0.01209  sm_loss=0.01209  sm_val_loss=0.01209  time=0.83s\n",
      "Epoch 15  loss=0.01193  val_loss=0.01193  sm_loss=0.01193  sm_val_loss=0.01193  time=0.80s\n",
      "Epoch 16  loss=0.01171  val_loss=0.01178  sm_loss=0.01171  sm_val_loss=0.01178  time=0.81s\n",
      "Epoch 17  loss=0.01148  val_loss=0.01168  sm_loss=0.01148  sm_val_loss=0.01168  time=0.81s\n",
      "Epoch 18  loss=0.01126  val_loss=0.01157  sm_loss=0.01126  sm_val_loss=0.01157  time=0.81s\n",
      "Epoch 19  loss=0.01104  val_loss=0.01152  sm_loss=0.01104  sm_val_loss=0.01152  time=0.81s\n",
      "Epoch 20  loss=0.01092  val_loss=0.01150  sm_loss=0.01092  sm_val_loss=0.01150  time=0.80s\n",
      "Fold 1\n",
      "Epoch 1  loss=0.41339  val_loss=0.01663  sm_loss=0.41339  sm_val_loss=0.01663  time=0.80s\n",
      "Epoch 2  loss=0.01443  val_loss=0.01334  sm_loss=0.01444  sm_val_loss=0.01334  time=0.80s\n",
      "Epoch 3  loss=0.01287  val_loss=0.01284  sm_loss=0.01288  sm_val_loss=0.01284  time=0.81s\n",
      "Epoch 4  loss=0.01252  val_loss=0.01250  sm_loss=0.01252  sm_val_loss=0.01250  time=0.80s\n",
      "Epoch 8  loss=0.01256  val_loss=0.01249  sm_loss=0.01256  sm_val_loss=0.01249  time=0.81s\n",
      "Epoch 10  loss=0.01248  val_loss=0.01233  sm_loss=0.01248  sm_val_loss=0.01233  time=0.81s\n",
      "Epoch 13  loss=0.01225  val_loss=0.01225  sm_loss=0.01225  sm_val_loss=0.01225  time=0.83s\n",
      "Epoch 14  loss=0.01207  val_loss=0.01207  sm_loss=0.01207  sm_val_loss=0.01207  time=0.98s\n",
      "Epoch 15  loss=0.01191  val_loss=0.01191  sm_loss=0.01191  sm_val_loss=0.01191  time=0.95s\n"
     ]
    },
    {
     "ename": "RuntimeError",
     "evalue": "CUDA error: device-side assert triggered",
     "output_type": "error",
     "traceback": [
      "\u001b[0;31m---------------------------------------------------------------------------\u001b[0m",
      "\u001b[0;31mRuntimeError\u001b[0m                              Traceback (most recent call last)",
      "\u001b[0;32m<ipython-input-22-0176cc836e52>\u001b[0m in \u001b[0;36m<module>\u001b[0;34m\u001b[0m\n\u001b[1;32m      4\u001b[0m \u001b[0;34m\u001b[0m\u001b[0m\n\u001b[1;32m      5\u001b[0m \u001b[0;32mfor\u001b[0m \u001b[0mseed_\u001b[0m \u001b[0;32min\u001b[0m \u001b[0mseeds\u001b[0m\u001b[0;34m:\u001b[0m\u001b[0;34m\u001b[0m\u001b[0;34m\u001b[0m\u001b[0m\n\u001b[0;32m----> 6\u001b[0;31m     \u001b[0mbest_oof\u001b[0m\u001b[0;34m,\u001b[0m \u001b[0mpytorch_pred\u001b[0m \u001b[0;34m=\u001b[0m \u001b[0mmodelling_torch\u001b[0m\u001b[0;34m(\u001b[0m\u001b[0mfn_train\u001b[0m\u001b[0;34m,\u001b[0m \u001b[0mfn_mutliclass_targets\u001b[0m\u001b[0;34m,\u001b[0m \u001b[0mfn_test\u001b[0m\u001b[0;34m,\u001b[0m \u001b[0mseed_\u001b[0m\u001b[0;34m,\u001b[0m \u001b[0mfn_train\u001b[0m\u001b[0;34m.\u001b[0m\u001b[0mshape\u001b[0m\u001b[0;34m[\u001b[0m\u001b[0;36m1\u001b[0m\u001b[0;34m]\u001b[0m\u001b[0;34m,\u001b[0m \u001b[0mclass_num\u001b[0m\u001b[0;34m)\u001b[0m\u001b[0;34m\u001b[0m\u001b[0;34m\u001b[0m\u001b[0m\n\u001b[0m\u001b[1;32m      7\u001b[0m     \u001b[0mtarget_oof\u001b[0m \u001b[0;34m+=\u001b[0m \u001b[0mbest_oof\u001b[0m \u001b[0;34m/\u001b[0m \u001b[0mlen\u001b[0m\u001b[0;34m(\u001b[0m\u001b[0mseeds\u001b[0m\u001b[0;34m)\u001b[0m\u001b[0;34m\u001b[0m\u001b[0;34m\u001b[0m\u001b[0m\n\u001b[1;32m      8\u001b[0m     \u001b[0mtarget_pred\u001b[0m \u001b[0;34m+=\u001b[0m \u001b[0mpytorch_pred\u001b[0m \u001b[0;34m/\u001b[0m \u001b[0mlen\u001b[0m\u001b[0;34m(\u001b[0m\u001b[0mseeds\u001b[0m\u001b[0;34m)\u001b[0m\u001b[0;34m\u001b[0m\u001b[0;34m\u001b[0m\u001b[0m\n",
      "\u001b[0;32m<ipython-input-21-e7a063583062>\u001b[0m in \u001b[0;36mmodelling_torch\u001b[0;34m(tr, target, te, sample_seed, init_num, last_num)\u001b[0m\n\u001b[1;32m     64\u001b[0m             \u001b[0msm_avg_loss\u001b[0m \u001b[0;34m=\u001b[0m \u001b[0;36m0.\u001b[0m\u001b[0;34m\u001b[0m\u001b[0;34m\u001b[0m\u001b[0m\n\u001b[1;32m     65\u001b[0m             \u001b[0;32mfor\u001b[0m \u001b[0mx_batch\u001b[0m\u001b[0;34m,\u001b[0m \u001b[0my_batch\u001b[0m \u001b[0;32min\u001b[0m \u001b[0mtqdm\u001b[0m\u001b[0;34m(\u001b[0m\u001b[0mtrain_loader\u001b[0m\u001b[0;34m,\u001b[0m \u001b[0mdisable\u001b[0m\u001b[0;34m=\u001b[0m\u001b[0;32mTrue\u001b[0m\u001b[0;34m)\u001b[0m\u001b[0;34m:\u001b[0m\u001b[0;34m\u001b[0m\u001b[0;34m\u001b[0m\u001b[0m\n\u001b[0;32m---> 66\u001b[0;31m                 \u001b[0mx_batch\u001b[0m \u001b[0;34m=\u001b[0m \u001b[0mx_batch\u001b[0m\u001b[0;34m.\u001b[0m\u001b[0mto\u001b[0m\u001b[0;34m(\u001b[0m\u001b[0mdevice\u001b[0m\u001b[0;34m)\u001b[0m\u001b[0;34m\u001b[0m\u001b[0;34m\u001b[0m\u001b[0m\n\u001b[0m\u001b[1;32m     67\u001b[0m                 \u001b[0my_batch\u001b[0m \u001b[0;34m=\u001b[0m \u001b[0my_batch\u001b[0m\u001b[0;34m.\u001b[0m\u001b[0mto\u001b[0m\u001b[0;34m(\u001b[0m\u001b[0mdevice\u001b[0m\u001b[0;34m)\u001b[0m\u001b[0;34m\u001b[0m\u001b[0;34m\u001b[0m\u001b[0m\n\u001b[1;32m     68\u001b[0m                 \u001b[0my_pred\u001b[0m \u001b[0;34m=\u001b[0m \u001b[0mclf\u001b[0m\u001b[0;34m(\u001b[0m\u001b[0mx_batch\u001b[0m\u001b[0;34m)\u001b[0m\u001b[0;34m\u001b[0m\u001b[0;34m\u001b[0m\u001b[0m\n",
      "\u001b[0;31mRuntimeError\u001b[0m: CUDA error: device-side assert triggered"
     ]
    }
   ],
   "source": [
    "seeds = [0,1,2,3,4]\n",
    "target_oof = np.zeros([len(fn_train), fn_mutliclass_targets.shape[1]])\n",
    "target_pred = np.zeros([len(fn_test), fn_mutliclass_targets.shape[1]])\n",
    "\n",
    "for seed_ in seeds:\n",
    "    best_oof, pytorch_pred = modelling_torch(fn_train, fn_mutliclass_targets, fn_test, seed_, fn_train.shape[1], class_num)\n",
    "    target_oof += best_oof / len(seeds)\n",
    "    target_pred += pytorch_pred / len(seeds)"
   ]
  },
  {
   "cell_type": "code",
   "execution_count": 23,
   "metadata": {
    "execution": {
     "iopub.execute_input": "2021-03-19T06:18:00.383604Z",
     "iopub.status.busy": "2021-03-19T06:18:00.382517Z",
     "iopub.status.idle": "2021-03-19T06:18:00.447367Z",
     "shell.execute_reply": "2021-03-19T06:18:00.446922Z"
    },
    "papermill": {
     "duration": 0.130829,
     "end_time": "2021-03-19T06:18:00.447468",
     "exception": false,
     "start_time": "2021-03-19T06:18:00.316639",
     "status": "completed"
    },
    "tags": []
   },
   "outputs": [],
   "source": [
    "target_oof = np.dot(target_oof, classid_target)\n",
    "target_pred = np.dot(target_pred, classid_target)"
   ]
  },
  {
   "cell_type": "code",
   "execution_count": 24,
   "metadata": {
    "execution": {
     "iopub.execute_input": "2021-03-19T06:18:00.566871Z",
     "iopub.status.busy": "2021-03-19T06:18:00.566032Z",
     "iopub.status.idle": "2021-03-19T06:18:06.888480Z",
     "shell.execute_reply": "2021-03-19T06:18:06.889116Z"
    },
    "papermill": {
     "duration": 6.387839,
     "end_time": "2021-03-19T06:18:06.889281",
     "exception": false,
     "start_time": "2021-03-19T06:18:00.501442",
     "status": "completed"
    },
    "tags": []
   },
   "outputs": [
    {
     "name": "stdout",
     "output_type": "stream",
     "text": [
      "OOF log loss:  0.017985666479144603\n"
     ]
    }
   ],
   "source": [
    "t = pd.read_csv(DATA_DIR + 'train_targets_scored.csv')\n",
    "train_checkscore = t.copy()\n",
    "train_checkscore.loc[train_checkscore.index.isin(cons_train_index),target_feats] = target_oof\n",
    "train_checkscore.loc[train_checkscore.index.isin(noncons_train_index),target_feats] = 0\n",
    "t.drop(\"sig_id\", axis=1, inplace=True)\n",
    "print('OOF log loss: ', log_loss(np.ravel(t), np.ravel(np.array(train_checkscore.iloc[:,1:]))))"
   ]
  },
  {
   "cell_type": "code",
   "execution_count": 25,
   "metadata": {
    "execution": {
     "iopub.execute_input": "2021-03-19T06:18:07.003473Z",
     "iopub.status.busy": "2021-03-19T06:18:07.002930Z",
     "iopub.status.idle": "2021-03-19T06:18:18.495031Z",
     "shell.execute_reply": "2021-03-19T06:18:18.494018Z"
    },
    "papermill": {
     "duration": 11.550485,
     "end_time": "2021-03-19T06:18:18.495158",
     "exception": false,
     "start_time": "2021-03-19T06:18:06.944673",
     "status": "completed"
    },
    "tags": []
   },
   "outputs": [],
   "source": [
    "train_checkscore.to_csv(\"mlp_oof.csv\", index=False)"
   ]
  },
  {
   "cell_type": "code",
   "execution_count": 26,
   "metadata": {
    "execution": {
     "iopub.execute_input": "2021-03-19T06:18:18.611631Z",
     "iopub.status.busy": "2021-03-19T06:18:18.610357Z",
     "iopub.status.idle": "2021-03-19T06:18:20.840534Z",
     "shell.execute_reply": "2021-03-19T06:18:20.840024Z"
    },
    "papermill": {
     "duration": 2.290622,
     "end_time": "2021-03-19T06:18:20.840648",
     "exception": false,
     "start_time": "2021-03-19T06:18:18.550026",
     "status": "completed"
    },
    "tags": []
   },
   "outputs": [],
   "source": [
    "sub.loc[cons_test_index,target_feats] = target_pred\n",
    "sub.loc[noncons_test_index,target_feats] = 0\n",
    "sub.to_csv('submission.csv', index=False)"
   ]
  },
  {
   "cell_type": "code",
   "execution_count": null,
   "metadata": {
    "papermill": {
     "duration": 0.053827,
     "end_time": "2021-03-19T06:18:20.949831",
     "exception": false,
     "start_time": "2021-03-19T06:18:20.896004",
     "status": "completed"
    },
    "tags": []
   },
   "outputs": [],
   "source": []
  }
 ],
 "metadata": {
  "kernelspec": {
   "display_name": "Python 3",
   "language": "python",
   "name": "python3"
  },
  "language_info": {
   "codemirror_mode": {
    "name": "ipython",
    "version": 3
   },
   "file_extension": ".py",
   "mimetype": "text/x-python",
   "name": "python",
   "nbconvert_exporter": "python",
   "pygments_lexer": "ipython3",
   "version": "3.7.6"
  },
  "papermill": {
   "duration": 223.841113,
   "end_time": "2021-03-19T06:18:22.121727",
   "environment_variables": {},
   "exception": null,
   "input_path": "__notebook__.ipynb",
   "output_path": "__notebook__.ipynb",
   "parameters": {},
   "start_time": "2021-03-19T06:14:38.280614",
   "version": "2.1.0"
  }
 },
 "nbformat": 4,
 "nbformat_minor": 4
}
