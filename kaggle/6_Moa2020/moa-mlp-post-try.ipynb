{
 "cells": [
  {
   "cell_type": "markdown",
   "metadata": {
    "papermill": {
     "duration": 0.015399,
     "end_time": "2021-03-23T12:02:35.057263",
     "exception": false,
     "start_time": "2021-03-23T12:02:35.041864",
     "status": "completed"
    },
    "tags": []
   },
   "source": [
    "**Late submission**\n",
    "- solve as a multiclass classification problem\n",
    "- weight decay to 1e-4"
   ]
  },
  {
   "cell_type": "code",
   "execution_count": 1,
   "metadata": {
    "_cell_guid": "b1076dfc-b9ad-4769-8c92-a6c4dae69d19",
    "_uuid": "8f2839f25d086af736a60e9eeb907d3b93b6e0e5",
    "execution": {
     "iopub.execute_input": "2021-03-23T12:02:35.093184Z",
     "iopub.status.busy": "2021-03-23T12:02:35.092656Z",
     "iopub.status.idle": "2021-03-23T12:02:42.305361Z",
     "shell.execute_reply": "2021-03-23T12:02:42.304821Z"
    },
    "papermill": {
     "duration": 7.233976,
     "end_time": "2021-03-23T12:02:42.305485",
     "exception": false,
     "start_time": "2021-03-23T12:02:35.071509",
     "status": "completed"
    },
    "tags": []
   },
   "outputs": [
    {
     "name": "stderr",
     "output_type": "stream",
     "text": [
      "/opt/conda/lib/python3.7/site-packages/ipykernel_launcher.py:12: TqdmDeprecationWarning: This function will be removed in tqdm==5.0.0\n",
      "Please use `tqdm.notebook.*` instead of `tqdm._tqdm_notebook.*`\n",
      "  if sys.path[0] == '':\n"
     ]
    }
   ],
   "source": [
    "import os\n",
    "import random\n",
    "import warnings\n",
    "import numpy as np\n",
    "import pandas as pd \n",
    "from sklearn import preprocessing\n",
    "from sklearn.metrics import log_loss\n",
    "from sklearn.decomposition import PCA\n",
    "from tqdm import tqdm_notebook as tqdm\n",
    "from sklearn.feature_selection import VarianceThreshold\n",
    "from sklearn.model_selection import StratifiedKFold, KFold\n",
    "from tqdm._tqdm_notebook import tqdm_notebook\n",
    "\n",
    "import time\n",
    "import torch\n",
    "import torch.nn as nn\n",
    "import torch.optim as optim\n",
    "import torch.nn.functional as F\n",
    "import tensorflow as tf\n",
    "\n",
    "warnings.filterwarnings('ignore')"
   ]
  },
  {
   "cell_type": "markdown",
   "metadata": {
    "papermill": {
     "duration": 0.01447,
     "end_time": "2021-03-23T12:02:42.335525",
     "exception": false,
     "start_time": "2021-03-23T12:02:42.321055",
     "status": "completed"
    },
    "tags": []
   },
   "source": [
    "# final engineering"
   ]
  },
  {
   "cell_type": "code",
   "execution_count": 2,
   "metadata": {
    "execution": {
     "iopub.execute_input": "2021-03-23T12:02:42.375539Z",
     "iopub.status.busy": "2021-03-23T12:02:42.374963Z",
     "iopub.status.idle": "2021-03-23T12:02:50.054440Z",
     "shell.execute_reply": "2021-03-23T12:02:50.053542Z"
    },
    "papermill": {
     "duration": 7.704505,
     "end_time": "2021-03-23T12:02:50.054550",
     "exception": false,
     "start_time": "2021-03-23T12:02:42.350045",
     "status": "completed"
    },
    "tags": []
   },
   "outputs": [],
   "source": [
    "DATA_DIR = '/kaggle/input/lish-moa/'\n",
    "train = pd.read_csv(DATA_DIR + 'train_features.csv')\n",
    "targets = pd.read_csv(DATA_DIR + 'train_targets_scored.csv')\n",
    "non_targets = pd.read_csv(DATA_DIR + 'train_targets_nonscored.csv')\n",
    "test = pd.read_csv(DATA_DIR + 'test_features.csv')\n",
    "sub = pd.read_csv(DATA_DIR + 'sample_submission.csv')\n",
    "drug = pd.read_csv(DATA_DIR + 'train_drug.csv')"
   ]
  },
  {
   "cell_type": "code",
   "execution_count": 3,
   "metadata": {
    "execution": {
     "iopub.execute_input": "2021-03-23T12:02:50.092337Z",
     "iopub.status.busy": "2021-03-23T12:02:50.090551Z",
     "iopub.status.idle": "2021-03-23T12:02:50.092918Z",
     "shell.execute_reply": "2021-03-23T12:02:50.093338Z"
    },
    "papermill": {
     "duration": 0.023475,
     "end_time": "2021-03-23T12:02:50.093451",
     "exception": false,
     "start_time": "2021-03-23T12:02:50.069976",
     "status": "completed"
    },
    "tags": []
   },
   "outputs": [],
   "source": [
    "target_feats = [ i for i in targets.columns if i != \"sig_id\"]\n",
    "g_feats = [i for i in train.columns if \"g-\" in i]\n",
    "c_feats = [i for i in train.columns if \"c-\" in i]"
   ]
  },
  {
   "cell_type": "code",
   "execution_count": 4,
   "metadata": {
    "execution": {
     "iopub.execute_input": "2021-03-23T12:02:50.131263Z",
     "iopub.status.busy": "2021-03-23T12:02:50.130599Z",
     "iopub.status.idle": "2021-03-23T12:02:50.224180Z",
     "shell.execute_reply": "2021-03-23T12:02:50.223684Z"
    },
    "papermill": {
     "duration": 0.116171,
     "end_time": "2021-03-23T12:02:50.224291",
     "exception": false,
     "start_time": "2021-03-23T12:02:50.108120",
     "status": "completed"
    },
    "tags": []
   },
   "outputs": [],
   "source": [
    "noncons_train_index = train[train.cp_type==\"ctl_vehicle\"].index\n",
    "cons_train_index = train[train.cp_type!=\"ctl_vehicle\"].index\n",
    "noncons_test_index = test[test.cp_type==\"ctl_vehicle\"].index\n",
    "cons_test_index = test[test.cp_type!=\"ctl_vehicle\"].index"
   ]
  },
  {
   "cell_type": "markdown",
   "metadata": {
    "papermill": {
     "duration": 0.014684,
     "end_time": "2021-03-23T12:02:50.254182",
     "exception": false,
     "start_time": "2021-03-23T12:02:50.239498",
     "status": "completed"
    },
    "tags": []
   },
   "source": [
    "# target group"
   ]
  },
  {
   "cell_type": "code",
   "execution_count": 5,
   "metadata": {
    "execution": {
     "iopub.execute_input": "2021-03-23T12:02:50.303421Z",
     "iopub.status.busy": "2021-03-23T12:02:50.302732Z",
     "iopub.status.idle": "2021-03-23T12:02:50.306180Z",
     "shell.execute_reply": "2021-03-23T12:02:50.305750Z"
    },
    "papermill": {
     "duration": 0.037086,
     "end_time": "2021-03-23T12:02:50.306272",
     "exception": false,
     "start_time": "2021-03-23T12:02:50.269186",
     "status": "completed"
    },
    "tags": []
   },
   "outputs": [],
   "source": [
    "y = targets.drop(\"sig_id\", axis=1)"
   ]
  },
  {
   "cell_type": "code",
   "execution_count": 6,
   "metadata": {
    "execution": {
     "iopub.execute_input": "2021-03-23T12:02:50.347313Z",
     "iopub.status.busy": "2021-03-23T12:02:50.346664Z",
     "iopub.status.idle": "2021-03-23T12:03:01.965457Z",
     "shell.execute_reply": "2021-03-23T12:03:01.966522Z"
    },
    "papermill": {
     "duration": 11.645062,
     "end_time": "2021-03-23T12:03:01.966699",
     "exception": false,
     "start_time": "2021-03-23T12:02:50.321637",
     "status": "completed"
    },
    "tags": []
   },
   "outputs": [
    {
     "data": {
      "text/plain": [
       "((23814, 328), (328, 206))"
      ]
     },
     "execution_count": 6,
     "metadata": {},
     "output_type": "execute_result"
    }
   ],
   "source": [
    "def make_string(row):\n",
    "    return str(row[1:].values).replace('[','').replace(']','').replace('\\n','').replace(' ','')\n",
    "\n",
    "targets[\"target_pair\"] = targets.apply(make_string, axis=1)\n",
    "targetpair_id = dict(enumerate(targets[\"target_pair\"].unique()))\n",
    "id_targetpair = {y:x for x,y in targetpair_id.items()}\n",
    "targets[\"target_pair_num\"] = targets[\"target_pair\"].map(id_targetpair)\n",
    "\n",
    "multiclass_targets = pd.get_dummies(targets[\"target_pair_num\"])\n",
    "\n",
    "for i in range(len(id_targetpair.keys())):\n",
    "    if i == 0:\n",
    "        classid_target = np.array(list((targetpair_id[i]))).reshape(1,-1)      \n",
    "    else:\n",
    "        classid_target = np.vstack([classid_target, np.array(list((targetpair_id[i]))).reshape(1,-1)])\n",
    "        \n",
    "classid_target = classid_target.astype(int)\n",
    "class_num = multiclass_targets.shape[1]\n",
    "        \n",
    "multiclass_targets.shape, classid_target.shape"
   ]
  },
  {
   "cell_type": "markdown",
   "metadata": {
    "papermill": {
     "duration": 0.025216,
     "end_time": "2021-03-23T12:03:02.018154",
     "exception": false,
     "start_time": "2021-03-23T12:03:01.992938",
     "status": "completed"
    },
    "tags": []
   },
   "source": [
    "# preprocess"
   ]
  },
  {
   "cell_type": "code",
   "execution_count": 7,
   "metadata": {
    "execution": {
     "iopub.execute_input": "2021-03-23T12:03:02.081603Z",
     "iopub.status.busy": "2021-03-23T12:03:02.080750Z",
     "iopub.status.idle": "2021-03-23T12:03:02.402859Z",
     "shell.execute_reply": "2021-03-23T12:03:02.402319Z"
    },
    "papermill": {
     "duration": 0.360186,
     "end_time": "2021-03-23T12:03:02.402959",
     "exception": false,
     "start_time": "2021-03-23T12:03:02.042773",
     "status": "completed"
    },
    "tags": []
   },
   "outputs": [],
   "source": [
    "train = train[train.index.isin(cons_train_index)].copy().reset_index(drop=True)\n",
    "test = test[test.index.isin(cons_test_index)].copy().reset_index(drop=True)\n",
    "targets = targets[targets.index.isin(cons_train_index)].copy().reset_index(drop=True)\n",
    "\n",
    "# no need to change to one-hot encoding form\n",
    "# https://discuss.pytorch.org/t/runtimeerror-multi-target-not-supported-newbie/10216\n",
    "multiclass_targets = targets[\"target_pair_num\"].copy().reset_index(drop=True)"
   ]
  },
  {
   "cell_type": "markdown",
   "metadata": {
    "papermill": {
     "duration": 0.020112,
     "end_time": "2021-03-23T12:03:02.443196",
     "exception": false,
     "start_time": "2021-03-23T12:03:02.423084",
     "status": "completed"
    },
    "tags": []
   },
   "source": [
    "# Feature engineering "
   ]
  },
  {
   "cell_type": "code",
   "execution_count": 8,
   "metadata": {
    "execution": {
     "iopub.execute_input": "2021-03-23T12:03:02.498453Z",
     "iopub.status.busy": "2021-03-23T12:03:02.497711Z",
     "iopub.status.idle": "2021-03-23T12:03:02.501007Z",
     "shell.execute_reply": "2021-03-23T12:03:02.501575Z"
    },
    "papermill": {
     "duration": 0.035613,
     "end_time": "2021-03-23T12:03:02.501728",
     "exception": false,
     "start_time": "2021-03-23T12:03:02.466115",
     "status": "completed"
    },
    "tags": []
   },
   "outputs": [],
   "source": [
    "#X = train.iloc[:,4:].copy().values\n",
    "#select = VarianceThreshold(threshold=0.9)\n",
    "#X_new = select.fit_transform(X)\n",
    "#drop_feats = list(np.array(train.iloc[:,4:].columns)[select.get_support()==False])\n",
    "#print(len(drop_feats))\n",
    "\n",
    "#train.drop(drop_feats, axis=1, inplace=True)\n",
    "#test.drop(drop_feats, axis=1, inplace=True)\n",
    "\n",
    "g_feats = [i for i in train.columns if \"g-\" in i]\n",
    "c_feats = [i for i in train.columns if \"c-\" in i]"
   ]
  },
  {
   "cell_type": "code",
   "execution_count": 9,
   "metadata": {
    "execution": {
     "iopub.execute_input": "2021-03-23T12:03:02.557019Z",
     "iopub.status.busy": "2021-03-23T12:03:02.556317Z",
     "iopub.status.idle": "2021-03-23T12:03:10.371868Z",
     "shell.execute_reply": "2021-03-23T12:03:10.371272Z"
    },
    "papermill": {
     "duration": 7.846755,
     "end_time": "2021-03-23T12:03:10.371969",
     "exception": false,
     "start_time": "2021-03-23T12:03:02.525214",
     "status": "completed"
    },
    "tags": []
   },
   "outputs": [],
   "source": [
    "# rank gauss\n",
    "for i in c_feats + g_feats:\n",
    "    ss = preprocessing.QuantileTransformer(n_quantiles=100, random_state=0, output_distribution=\"normal\")\n",
    "    ss.fit(train[i].values.reshape(-1,1))\n",
    "    train[i] = ss.transform(train[i].values.reshape(-1,1))\n",
    "    test[i] = ss.transform(test[i].values.reshape(-1,1))"
   ]
  },
  {
   "cell_type": "code",
   "execution_count": 10,
   "metadata": {
    "execution": {
     "iopub.execute_input": "2021-03-23T12:03:10.427037Z",
     "iopub.status.busy": "2021-03-23T12:03:10.425327Z",
     "iopub.status.idle": "2021-03-23T12:03:12.058005Z",
     "shell.execute_reply": "2021-03-23T12:03:12.057301Z"
    },
    "papermill": {
     "duration": 1.666137,
     "end_time": "2021-03-23T12:03:12.058114",
     "exception": false,
     "start_time": "2021-03-23T12:03:10.391977",
     "status": "completed"
    },
    "tags": []
   },
   "outputs": [],
   "source": [
    "c_num = 5\n",
    "pca_c_cols = [\"pca-c\"+str(i+1) for i in range(c_num)]\n",
    "pca = PCA(n_components=c_num,random_state=42)\n",
    "c_train = pca.fit_transform(train[c_feats])\n",
    "c_test = pca.transform(test[c_feats])\n",
    "c_train = pd.DataFrame(c_train, columns=pca_c_cols)\n",
    "c_test = pd.DataFrame(c_test, columns=pca_c_cols)\n",
    "\n",
    "g_num = 30\n",
    "pca_g_cols = [\"pca-g\"+str(i+1) for i in range(g_num)]\n",
    "pca = PCA(n_components=g_num, random_state=42)\n",
    "g_train = pca.fit_transform(train[g_feats])\n",
    "g_test = pca.transform(test[g_feats])\n",
    "g_train = pd.DataFrame(g_train, columns=pca_g_cols)\n",
    "g_test = pd.DataFrame(g_test, columns=pca_g_cols)\n",
    "\n",
    "train = pd.concat([train, c_train],axis=1)\n",
    "test = pd.concat([test, c_test],axis=1)\n",
    "train = pd.concat([train, g_train],axis=1)\n",
    "test = pd.concat([test, g_test],axis=1)"
   ]
  },
  {
   "cell_type": "code",
   "execution_count": 11,
   "metadata": {
    "execution": {
     "iopub.execute_input": "2021-03-23T12:03:12.099410Z",
     "iopub.status.busy": "2021-03-23T12:03:12.098353Z",
     "iopub.status.idle": "2021-03-23T12:03:14.119636Z",
     "shell.execute_reply": "2021-03-23T12:03:14.120067Z"
    },
    "papermill": {
     "duration": 2.045978,
     "end_time": "2021-03-23T12:03:14.120205",
     "exception": false,
     "start_time": "2021-03-23T12:03:12.074227",
     "status": "completed"
    },
    "tags": []
   },
   "outputs": [],
   "source": [
    "def fe(df):\n",
    "    tmp = df.copy()\n",
    "    tmp['g_kurt'] = tmp[g_feats].kurtosis(axis = 1)\n",
    "    tmp['g_skew'] = tmp[g_feats].skew(axis = 1)\n",
    "    tmp['c_kurt'] = tmp[c_feats].kurtosis(axis = 1)\n",
    "    tmp['c_skew'] = tmp[c_feats].skew(axis = 1)\n",
    "    tmp = pd.get_dummies(tmp, columns=['cp_time','cp_dose'])\n",
    "    tmp.drop([\"cp_type\", \"sig_id\"], axis=1, inplace=True)\n",
    "    return tmp\n",
    "\n",
    "train = fe(train)\n",
    "test = fe(test)"
   ]
  },
  {
   "cell_type": "code",
   "execution_count": 12,
   "metadata": {
    "execution": {
     "iopub.execute_input": "2021-03-23T12:03:14.159451Z",
     "iopub.status.busy": "2021-03-23T12:03:14.158306Z",
     "iopub.status.idle": "2021-03-23T12:03:14.313552Z",
     "shell.execute_reply": "2021-03-23T12:03:14.312896Z"
    },
    "papermill": {
     "duration": 0.176802,
     "end_time": "2021-03-23T12:03:14.313689",
     "exception": false,
     "start_time": "2021-03-23T12:03:14.136887",
     "status": "completed"
    },
    "tags": []
   },
   "outputs": [
    {
     "name": "stdout",
     "output_type": "stream",
     "text": [
      "(21948, 916) (3624, 916) (23814, 206) (21948,)\n"
     ]
    }
   ],
   "source": [
    "fn_train = train.copy().to_numpy()\n",
    "fn_test = test.copy().to_numpy()\n",
    "fn_targets = y.copy().to_numpy()\n",
    "fn_multiclass_targets = multiclass_targets.copy().to_numpy()\n",
    "print(fn_train.shape, fn_test.shape, fn_targets.shape, fn_multiclass_targets.shape)"
   ]
  },
  {
   "cell_type": "markdown",
   "metadata": {
    "papermill": {
     "duration": 0.016193,
     "end_time": "2021-03-23T12:03:14.347170",
     "exception": false,
     "start_time": "2021-03-23T12:03:14.330977",
     "status": "completed"
    },
    "tags": []
   },
   "source": [
    "# modelling"
   ]
  },
  {
   "cell_type": "code",
   "execution_count": 13,
   "metadata": {
    "execution": {
     "iopub.execute_input": "2021-03-23T12:03:14.741728Z",
     "iopub.status.busy": "2021-03-23T12:03:14.740974Z",
     "iopub.status.idle": "2021-03-23T12:03:14.745306Z",
     "shell.execute_reply": "2021-03-23T12:03:14.744457Z"
    },
    "papermill": {
     "duration": 0.381871,
     "end_time": "2021-03-23T12:03:14.745418",
     "exception": false,
     "start_time": "2021-03-23T12:03:14.363547",
     "status": "completed"
    },
    "tags": []
   },
   "outputs": [],
   "source": [
    "device = \"cuda\" if torch.cuda.is_available() else \"cpu\""
   ]
  },
  {
   "cell_type": "code",
   "execution_count": 14,
   "metadata": {
    "execution": {
     "iopub.execute_input": "2021-03-23T12:03:14.795789Z",
     "iopub.status.busy": "2021-03-23T12:03:14.795198Z",
     "iopub.status.idle": "2021-03-23T12:03:14.800335Z",
     "shell.execute_reply": "2021-03-23T12:03:14.799877Z"
    },
    "papermill": {
     "duration": 0.037945,
     "end_time": "2021-03-23T12:03:14.800428",
     "exception": false,
     "start_time": "2021-03-23T12:03:14.762483",
     "status": "completed"
    },
    "tags": []
   },
   "outputs": [
    {
     "name": "stdout",
     "output_type": "stream",
     "text": [
      "cuda\n"
     ]
    }
   ],
   "source": [
    "print(device)\n",
    "def seed_everything(seed=42): \n",
    "    random.seed(seed)\n",
    "    os.environ['PYTHONHASHSEED'] = str(seed)\n",
    "    tf.random.set_seed(seed)\n",
    "    np.random.seed(seed)\n",
    "    torch.manual_seed(seed)\n",
    "    torch.cuda.manual_seed(seed)\n",
    "    torch.backends.cudnn.deterministic = True\n",
    "\n",
    "class MoaModel(nn.Module):\n",
    "    def __init__(self, num_columns, last_num):\n",
    "        super(MoaModel, self).__init__()\n",
    "        self.batch_norm1 = nn.BatchNorm1d(num_columns)\n",
    "        self.dropout1 = nn.Dropout(0.2)\n",
    "        self.dense1 = nn.utils.weight_norm(nn.Linear(num_columns, 1024))\n",
    "        self.relu1 = nn.LeakyReLU()\n",
    "        \n",
    "        self.batch_norm2 = nn.BatchNorm1d(1024)\n",
    "        self.dropout2 = nn.Dropout(0.2)\n",
    "        self.dense2 = nn.utils.weight_norm(nn.Linear(1024, 1024))\n",
    "        self.relu2 = nn.LeakyReLU()\n",
    "        \n",
    "        self.batch_norm3 = nn.BatchNorm1d(1024)\n",
    "        self.dropout3 = nn.Dropout(0.2)\n",
    "        self.dense3 = nn.utils.weight_norm(nn.Linear(1024, 1024))\n",
    "        self.relu3 = nn.LeakyReLU()\n",
    "        \n",
    "        self.batch_norm4 = nn.BatchNorm1d(1024)\n",
    "        self.dropout4 = nn.Dropout(0.2)\n",
    "        self.dense4 = nn.utils.weight_norm(nn.Linear(1024, last_num))\n",
    "        \n",
    "    def forward(self, x):\n",
    "        x = self.batch_norm1(x)\n",
    "        x = self.dropout1(x)\n",
    "        x = self.relu1(self.dense1(x))\n",
    "        \n",
    "        x = self.batch_norm2(x)\n",
    "        x = self.dropout2(x)\n",
    "        x = self.relu2(self.dense2(x))\n",
    "        \n",
    "        x = self.batch_norm3(x)\n",
    "        x = self.dropout3(x)\n",
    "        x = self.relu3(self.dense3(x))\n",
    "        \n",
    "        x = self.batch_norm4(x)\n",
    "        x = self.dropout4(x)\n",
    "        x = self.dense4(x)\n",
    "        \n",
    "        return x"
   ]
  },
  {
   "cell_type": "markdown",
   "metadata": {
    "papermill": {
     "duration": 0.016693,
     "end_time": "2021-03-23T12:03:14.834409",
     "exception": false,
     "start_time": "2021-03-23T12:03:14.817716",
     "status": "completed"
    },
    "tags": []
   },
   "source": [
    "# modelling"
   ]
  },
  {
   "cell_type": "code",
   "execution_count": 15,
   "metadata": {
    "execution": {
     "iopub.execute_input": "2021-03-23T12:03:14.903313Z",
     "iopub.status.busy": "2021-03-23T12:03:14.901458Z",
     "iopub.status.idle": "2021-03-23T12:03:14.903897Z",
     "shell.execute_reply": "2021-03-23T12:03:14.904313Z"
    },
    "papermill": {
     "duration": 0.053346,
     "end_time": "2021-03-23T12:03:14.904434",
     "exception": false,
     "start_time": "2021-03-23T12:03:14.851088",
     "status": "completed"
    },
    "tags": []
   },
   "outputs": [],
   "source": [
    "batch_size = 128\n",
    "n_folds=7\n",
    "EARLY_STOPPING_STEPS = 10\n",
    "smoothing = 0.001\n",
    "p_min = smoothing\n",
    "p_max = 1 - smoothing\n",
    "train_epochs = 10\n",
    "\n",
    "def multi_log_loss(y_true, y_pred):\n",
    "    metrics = []\n",
    "    for i, target in enumerate(target_feats):\n",
    "        metrics.append(log_loss(y_true[:, i], y_pred[:, i].astype(float), labels=[0,1]))\n",
    "    return np.mean(metrics)\n",
    "    \n",
    "def modelling_torch(tr, target, te, sample_seed, init_num, last_num):\n",
    "    seed_everything(seed=sample_seed) \n",
    "    X_train = tr.copy()\n",
    "    y_train = target.copy()\n",
    "    X_test = te.copy()\n",
    "    test_len = X_test.shape[0]\n",
    "    \n",
    "    mskf=KFold(n_splits = n_folds, shuffle=True, random_state=224)\n",
    "\n",
    "    models = []\n",
    "    \n",
    "    X_test2 = torch.tensor(X_test, dtype=torch.float32)\n",
    "    test = torch.utils.data.TensorDataset(X_test2) \n",
    "    test_loader = torch.utils.data.DataLoader(test, batch_size=batch_size, shuffle=False)\n",
    "    \n",
    "    oof = np.zeros([len(X_train),last_num])\n",
    "    oof_targets = np.zeros([len(X_train),last_num])\n",
    "    pred_value = np.zeros([test_len, last_num])\n",
    "    for fold, (train_index, valid_index) in enumerate(mskf.split(X_train, y_train)):\n",
    "        print(\"Seed \"+str(sample_seed)+\"_Fold \"+str(fold+1))\n",
    "        X_train2 = torch.tensor(X_train[train_index,:], dtype=torch.float32)\n",
    "        y_train2 = torch.tensor(y_train[train_index], dtype=torch.long)\n",
    "\n",
    "        X_valid2 = torch.tensor(X_train[valid_index,:], dtype=torch.float32)\n",
    "        y_valid2 = torch.tensor(y_train[valid_index], dtype=torch.long)\n",
    "        \n",
    "        train = torch.utils.data.TensorDataset(X_train2, y_train2)\n",
    "        valid = torch.utils.data.TensorDataset(X_valid2, y_valid2)\n",
    "        \n",
    "        train_loader = torch.utils.data.DataLoader(train, batch_size=batch_size, shuffle=True) \n",
    "        valid_loader = torch.utils.data.DataLoader(valid, batch_size=batch_size, shuffle=False)\n",
    "            \n",
    "        clf = MoaModel(init_num, last_num)\n",
    "        loss_fn = nn.CrossEntropyLoss() \n",
    "\n",
    "        optimizer = optim.Adam(clf.parameters(), lr = 0.01, weight_decay=1e-4) \n",
    "        scheduler = optim.lr_scheduler.OneCycleLR(optimizer=optimizer, pct_start=0.1, div_factor=1e3, \n",
    "                                              max_lr=1e-2, epochs=train_epochs, steps_per_epoch=len(train_loader))\n",
    "        \n",
    "        clf.to(device)\n",
    "        \n",
    "        best_val_loss = np.inf\n",
    "        stop_counts = 0\n",
    "        for epoch in range(train_epochs):\n",
    "            start_time = time.time()\n",
    "            clf.train()\n",
    "            avg_loss = 0.\n",
    "            for x_batch, y_batch in tqdm(train_loader, disable=True):\n",
    "                x_batch = x_batch.to(device)\n",
    "                y_batch = y_batch.to(device)\n",
    "                y_pred = clf(x_batch)\n",
    "                loss = loss_fn(y_pred, y_batch)\n",
    "                optimizer.zero_grad()\n",
    "                loss.backward()\n",
    "                optimizer.step()\n",
    "                scheduler.step()\n",
    "                avg_loss += loss.item() / len(train_loader)  \n",
    "                \n",
    "            clf.eval()\n",
    "            avg_val_loss = 0.\n",
    "            for i, (x_batch, y_batch) in enumerate(valid_loader): \n",
    "                x_batch = x_batch.to(device)\n",
    "                y_batch = y_batch.to(device)\n",
    "                y_pred = clf(x_batch).detach()\n",
    "                avg_val_loss += loss_fn(y_pred, y_batch).item() / len(valid_loader)\n",
    "        \n",
    "            elapsed_time = time.time() - start_time \n",
    "                    \n",
    "            if avg_val_loss < best_val_loss:\n",
    "                best_val_loss = avg_val_loss\n",
    "                print('Epoch {}  loss={:.5f}  val_loss={:.5f}  time={:.2f}s'.format(\n",
    "                    epoch + 1, avg_loss, avg_val_loss, elapsed_time))\n",
    "                torch.save(clf.state_dict(), 'best-model-parameters.pt')\n",
    "                stop_counts = 0\n",
    "            else:\n",
    "                stop_counts += 1\n",
    "                \n",
    "            if stop_counts >= EARLY_STOPPING_STEPS:\n",
    "                break\n",
    "        \n",
    "        pred_model = MoaModel(init_num, last_num)\n",
    "        pred_model.load_state_dict(torch.load('best-model-parameters.pt'))         \n",
    "        pred_model.eval()\n",
    "        \n",
    "        # validation check ----------------\n",
    "        oof_epoch = np.zeros([X_valid2.size(0), last_num])\n",
    "        target_epoch = np.zeros([X_valid2.size(0), last_num])\n",
    "        for i, (x_batch, y_batch) in enumerate(valid_loader): \n",
    "            y_pred = pred_model(x_batch).detach()\n",
    "            oof_epoch[i * batch_size:(i+1) * batch_size,:] = F.softmax(y_pred.cpu()) \n",
    "        oof[valid_index,:] = oof_epoch\n",
    "        #-----------------------------------\n",
    "        \n",
    "        # test predcition --------------\n",
    "        test_preds = np.zeros([test_len, last_num])\n",
    "        for i, (x_batch,) in enumerate(test_loader): \n",
    "            y_pred = pred_model(x_batch).detach()\n",
    "            test_preds[i * batch_size:(i+1) * batch_size, :] = F.softmax(y_pred.cpu()) \n",
    "        pred_value += test_preds / n_folds\n",
    "        # ------------------------------\n",
    "    \n",
    "    return oof, pred_value"
   ]
  },
  {
   "cell_type": "code",
   "execution_count": 16,
   "metadata": {
    "execution": {
     "iopub.execute_input": "2021-03-23T12:03:14.945626Z",
     "iopub.status.busy": "2021-03-23T12:03:14.944829Z",
     "iopub.status.idle": "2021-03-23T12:09:25.878459Z",
     "shell.execute_reply": "2021-03-23T12:09:25.877419Z"
    },
    "papermill": {
     "duration": 370.957088,
     "end_time": "2021-03-23T12:09:25.878576",
     "exception": false,
     "start_time": "2021-03-23T12:03:14.921488",
     "status": "completed"
    },
    "tags": []
   },
   "outputs": [
    {
     "name": "stdout",
     "output_type": "stream",
     "text": [
      "Seed 0_Fold 1\n",
      "Epoch 1  loss=4.11184  val_loss=3.50367  time=1.45s\n",
      "Epoch 2  loss=3.21488  val_loss=3.13537  time=0.85s\n",
      "Epoch 3  loss=3.00753  val_loss=3.07503  time=0.85s\n",
      "Epoch 4  loss=2.88263  val_loss=3.02558  time=1.07s\n",
      "Epoch 5  loss=2.74176  val_loss=2.98681  time=0.85s\n",
      "Epoch 6  loss=2.58736  val_loss=2.97192  time=0.85s\n",
      "Seed 0_Fold 2\n",
      "Epoch 1  loss=4.10577  val_loss=3.32327  time=0.84s\n",
      "Epoch 2  loss=3.23055  val_loss=3.04205  time=0.85s\n",
      "Epoch 3  loss=3.02963  val_loss=2.97212  time=0.88s\n",
      "Epoch 4  loss=2.89467  val_loss=2.94892  time=0.93s\n",
      "Epoch 5  loss=2.76352  val_loss=2.89600  time=1.14s\n",
      "Epoch 6  loss=2.58950  val_loss=2.89222  time=0.86s\n",
      "Seed 0_Fold 3\n",
      "Epoch 1  loss=4.10015  val_loss=3.48084  time=0.85s\n",
      "Epoch 2  loss=3.20176  val_loss=3.19310  time=0.85s\n",
      "Epoch 3  loss=2.99593  val_loss=3.09786  time=0.85s\n",
      "Epoch 4  loss=2.86770  val_loss=3.04839  time=0.85s\n",
      "Epoch 5  loss=2.72271  val_loss=3.01454  time=1.14s\n",
      "Seed 0_Fold 4\n",
      "Epoch 1  loss=4.09882  val_loss=3.41810  time=0.86s\n",
      "Epoch 2  loss=3.18199  val_loss=3.22118  time=0.86s\n",
      "Epoch 3  loss=3.00521  val_loss=3.17430  time=0.86s\n",
      "Epoch 4  loss=2.86681  val_loss=3.12563  time=0.86s\n",
      "Epoch 5  loss=2.74298  val_loss=3.07755  time=0.88s\n",
      "Epoch 6  loss=2.58702  val_loss=3.05726  time=1.05s\n",
      "Seed 0_Fold 5\n",
      "Epoch 1  loss=4.08884  val_loss=3.32901  time=1.02s\n",
      "Epoch 2  loss=3.22946  val_loss=3.11986  time=0.86s\n",
      "Epoch 3  loss=3.03633  val_loss=3.04382  time=0.86s\n",
      "Epoch 4  loss=2.89443  val_loss=2.96430  time=0.87s\n",
      "Epoch 5  loss=2.75032  val_loss=2.92933  time=0.97s\n",
      "Epoch 7  loss=2.37284  val_loss=2.92867  time=1.29s\n",
      "Seed 0_Fold 6\n",
      "Epoch 1  loss=4.11061  val_loss=3.37944  time=0.86s\n",
      "Epoch 2  loss=3.23824  val_loss=3.13872  time=0.85s\n",
      "Epoch 3  loss=3.03262  val_loss=2.99940  time=0.86s\n",
      "Epoch 4  loss=2.89749  val_loss=2.99401  time=0.87s\n",
      "Epoch 5  loss=2.76701  val_loss=2.92971  time=0.86s\n",
      "Epoch 6  loss=2.60527  val_loss=2.90425  time=1.00s\n",
      "Epoch 7  loss=2.40657  val_loss=2.89450  time=0.91s\n",
      "Seed 0_Fold 7\n",
      "Epoch 1  loss=4.09389  val_loss=3.33422  time=0.85s\n",
      "Epoch 2  loss=3.20226  val_loss=3.08396  time=0.85s\n",
      "Epoch 3  loss=3.03009  val_loss=3.08188  time=0.86s\n",
      "Epoch 4  loss=2.89042  val_loss=2.97957  time=0.85s\n",
      "Epoch 5  loss=2.75786  val_loss=2.92778  time=0.88s\n",
      "Epoch 6  loss=2.59667  val_loss=2.92352  time=0.85s\n",
      "Epoch 7  loss=2.37582  val_loss=2.92059  time=1.07s\n",
      "Seed 1_Fold 1\n",
      "Epoch 1  loss=4.11219  val_loss=3.35726  time=0.85s\n",
      "Epoch 2  loss=3.21557  val_loss=3.15148  time=0.85s\n",
      "Epoch 3  loss=3.01146  val_loss=3.06718  time=0.86s\n",
      "Epoch 4  loss=2.88532  val_loss=3.01063  time=0.93s\n",
      "Epoch 5  loss=2.74566  val_loss=2.99280  time=0.93s\n",
      "Epoch 6  loss=2.59579  val_loss=2.96505  time=0.95s\n",
      "Seed 1_Fold 2\n",
      "Epoch 1  loss=4.09435  val_loss=3.36524  time=0.90s\n",
      "Epoch 2  loss=3.23534  val_loss=3.05274  time=0.87s\n",
      "Epoch 3  loss=3.01901  val_loss=2.95997  time=0.88s\n",
      "Epoch 4  loss=2.89614  val_loss=2.93495  time=0.85s\n",
      "Epoch 5  loss=2.75792  val_loss=2.87435  time=0.86s\n",
      "Seed 1_Fold 3\n",
      "Epoch 1  loss=4.12163  val_loss=3.46686  time=0.85s\n",
      "Epoch 2  loss=3.19451  val_loss=3.21115  time=0.85s\n",
      "Epoch 3  loss=3.01665  val_loss=3.09829  time=0.88s\n",
      "Epoch 4  loss=2.87655  val_loss=3.05899  time=0.85s\n",
      "Epoch 5  loss=2.74337  val_loss=3.02566  time=0.86s\n",
      "Epoch 6  loss=2.58441  val_loss=3.00773  time=0.85s\n",
      "Seed 1_Fold 4\n",
      "Epoch 1  loss=4.09288  val_loss=3.52767  time=0.86s\n",
      "Epoch 2  loss=3.20449  val_loss=3.23138  time=0.85s\n",
      "Epoch 3  loss=2.99694  val_loss=3.13547  time=0.87s\n",
      "Epoch 4  loss=2.85865  val_loss=3.12453  time=0.86s\n",
      "Epoch 5  loss=2.72741  val_loss=3.05846  time=0.87s\n",
      "Epoch 6  loss=2.57187  val_loss=3.03920  time=0.87s\n",
      "Seed 1_Fold 5\n",
      "Epoch 1  loss=4.12370  val_loss=3.37615  time=0.86s\n",
      "Epoch 2  loss=3.21757  val_loss=3.10762  time=0.86s\n",
      "Epoch 3  loss=3.02402  val_loss=3.00458  time=0.88s\n",
      "Epoch 4  loss=2.89240  val_loss=2.98442  time=0.85s\n",
      "Epoch 5  loss=2.75875  val_loss=2.93056  time=0.85s\n",
      "Epoch 6  loss=2.59470  val_loss=2.91808  time=0.85s\n",
      "Seed 1_Fold 6\n",
      "Epoch 1  loss=4.09703  val_loss=3.34633  time=0.86s\n",
      "Epoch 2  loss=3.20949  val_loss=3.08387  time=0.88s\n",
      "Epoch 3  loss=3.02506  val_loss=3.00909  time=0.86s\n",
      "Epoch 4  loss=2.88557  val_loss=2.95770  time=0.85s\n",
      "Epoch 5  loss=2.74455  val_loss=2.92187  time=0.86s\n",
      "Epoch 6  loss=2.59590  val_loss=2.90360  time=0.86s\n",
      "Epoch 7  loss=2.37368  val_loss=2.89176  time=0.86s\n",
      "Seed 1_Fold 7\n",
      "Epoch 1  loss=4.10964  val_loss=3.36252  time=0.86s\n",
      "Epoch 2  loss=3.23746  val_loss=3.11054  time=0.97s\n",
      "Epoch 3  loss=3.02321  val_loss=3.04364  time=0.92s\n",
      "Epoch 4  loss=2.89215  val_loss=2.97667  time=0.86s\n",
      "Epoch 5  loss=2.75817  val_loss=2.92624  time=0.86s\n",
      "Epoch 6  loss=2.60012  val_loss=2.90841  time=0.85s\n",
      "Epoch 7  loss=2.38172  val_loss=2.90552  time=0.87s\n",
      "Seed 2_Fold 1\n",
      "Epoch 1  loss=4.10460  val_loss=3.37695  time=0.86s\n",
      "Epoch 2  loss=3.21167  val_loss=3.14921  time=0.88s\n",
      "Epoch 3  loss=3.02186  val_loss=3.07338  time=0.85s\n",
      "Epoch 4  loss=2.88317  val_loss=3.02300  time=0.85s\n",
      "Epoch 5  loss=2.74822  val_loss=2.98119  time=0.85s\n",
      "Epoch 6  loss=2.59578  val_loss=2.94633  time=0.85s\n",
      "Seed 2_Fold 2\n",
      "Epoch 1  loss=4.11770  val_loss=3.40346  time=1.09s\n",
      "Epoch 2  loss=3.23909  val_loss=3.07353  time=0.88s\n",
      "Epoch 3  loss=3.03464  val_loss=2.97685  time=0.85s\n",
      "Epoch 4  loss=2.90869  val_loss=2.93543  time=0.85s\n",
      "Epoch 5  loss=2.75629  val_loss=2.89096  time=0.86s\n",
      "Epoch 6  loss=2.61411  val_loss=2.86361  time=0.85s\n",
      "Seed 2_Fold 3\n",
      "Epoch 1  loss=4.09856  val_loss=3.55061  time=0.86s\n",
      "Epoch 2  loss=3.20577  val_loss=3.18421  time=1.05s\n",
      "Epoch 3  loss=3.02042  val_loss=3.11868  time=0.85s\n",
      "Epoch 4  loss=2.86494  val_loss=3.08012  time=0.85s\n",
      "Epoch 5  loss=2.74934  val_loss=3.04136  time=0.86s\n",
      "Epoch 6  loss=2.58116  val_loss=3.01623  time=0.85s\n",
      "Seed 2_Fold 4\n",
      "Epoch 1  loss=4.10206  val_loss=3.48592  time=1.23s\n",
      "Epoch 2  loss=3.18894  val_loss=3.24341  time=1.25s\n",
      "Epoch 3  loss=3.00288  val_loss=3.16620  time=0.90s\n",
      "Epoch 4  loss=2.87928  val_loss=3.07036  time=0.86s\n",
      "Epoch 5  loss=2.72944  val_loss=3.06440  time=0.86s\n",
      "Epoch 6  loss=2.57599  val_loss=3.04149  time=0.85s\n",
      "Seed 2_Fold 5\n",
      "Epoch 1  loss=4.09360  val_loss=3.35735  time=0.87s\n",
      "Epoch 2  loss=3.22348  val_loss=3.12001  time=0.98s\n",
      "Epoch 3  loss=3.02536  val_loss=3.03295  time=1.02s\n",
      "Epoch 4  loss=2.88397  val_loss=2.98330  time=0.90s\n",
      "Epoch 5  loss=2.75712  val_loss=2.94822  time=0.90s\n",
      "Epoch 6  loss=2.58911  val_loss=2.90042  time=0.90s\n",
      "Seed 2_Fold 6\n",
      "Epoch 1  loss=4.13443  val_loss=3.35966  time=0.85s\n",
      "Epoch 2  loss=3.21168  val_loss=3.08216  time=0.85s\n",
      "Epoch 3  loss=3.02351  val_loss=3.00461  time=1.09s\n",
      "Epoch 4  loss=2.89470  val_loss=2.96147  time=0.86s\n",
      "Epoch 5  loss=2.74769  val_loss=2.90791  time=0.85s\n",
      "Seed 2_Fold 7\n",
      "Epoch 1  loss=4.11412  val_loss=3.31673  time=0.85s\n",
      "Epoch 2  loss=3.20661  val_loss=3.07935  time=0.90s\n",
      "Epoch 3  loss=3.02216  val_loss=3.00299  time=1.25s\n",
      "Epoch 4  loss=2.88873  val_loss=2.95615  time=1.11s\n",
      "Epoch 6  loss=2.59635  val_loss=2.90639  time=0.84s\n",
      "Seed 3_Fold 1\n",
      "Epoch 1  loss=4.09496  val_loss=3.41367  time=0.85s\n",
      "Epoch 2  loss=3.21589  val_loss=3.14408  time=0.85s\n",
      "Epoch 3  loss=3.01291  val_loss=3.08418  time=0.86s\n",
      "Epoch 4  loss=2.88474  val_loss=3.03468  time=1.01s\n",
      "Epoch 5  loss=2.73642  val_loss=2.97763  time=0.91s\n",
      "Epoch 6  loss=2.58193  val_loss=2.96372  time=0.86s\n",
      "Seed 3_Fold 2\n",
      "Epoch 1  loss=4.14018  val_loss=3.25800  time=0.85s\n",
      "Epoch 2  loss=3.21233  val_loss=3.04316  time=0.85s\n",
      "Epoch 3  loss=3.03054  val_loss=2.99548  time=0.85s\n",
      "Epoch 4  loss=2.88643  val_loss=2.92165  time=0.86s\n",
      "Epoch 5  loss=2.75306  val_loss=2.89750  time=1.02s\n",
      "Epoch 6  loss=2.59596  val_loss=2.85402  time=0.89s\n",
      "Seed 3_Fold 3\n",
      "Epoch 1  loss=4.10323  val_loss=3.45653  time=0.91s\n",
      "Epoch 2  loss=3.22130  val_loss=3.20995  time=0.85s\n",
      "Epoch 3  loss=3.01904  val_loss=3.13096  time=0.85s\n",
      "Epoch 4  loss=2.88547  val_loss=3.10146  time=1.00s\n",
      "Epoch 5  loss=2.74856  val_loss=3.04737  time=1.16s\n",
      "Epoch 6  loss=2.59756  val_loss=3.01861  time=1.13s\n",
      "Epoch 7  loss=2.38989  val_loss=3.01829  time=0.95s\n",
      "Seed 3_Fold 4\n",
      "Epoch 1  loss=4.07434  val_loss=3.43112  time=0.85s\n",
      "Epoch 2  loss=3.19951  val_loss=3.24050  time=0.85s\n",
      "Epoch 3  loss=3.00195  val_loss=3.16700  time=0.85s\n",
      "Epoch 4  loss=2.86669  val_loss=3.12989  time=0.85s\n",
      "Epoch 5  loss=2.74715  val_loss=3.09320  time=0.85s\n",
      "Epoch 6  loss=2.58521  val_loss=3.05735  time=1.08s\n",
      "Seed 3_Fold 5\n",
      "Epoch 1  loss=4.08284  val_loss=3.34719  time=0.85s\n",
      "Epoch 2  loss=3.23086  val_loss=3.13000  time=0.85s\n",
      "Epoch 3  loss=3.04067  val_loss=3.04261  time=0.85s\n",
      "Epoch 4  loss=2.89504  val_loss=2.95968  time=0.85s\n",
      "Epoch 5  loss=2.75924  val_loss=2.93327  time=0.85s\n",
      "Epoch 6  loss=2.58789  val_loss=2.90343  time=0.85s\n",
      "Seed 3_Fold 6\n",
      "Epoch 1  loss=4.07753  val_loss=3.33160  time=0.90s\n",
      "Epoch 2  loss=3.22329  val_loss=3.08048  time=0.87s\n",
      "Epoch 3  loss=3.01592  val_loss=2.99918  time=0.86s\n",
      "Epoch 4  loss=2.88659  val_loss=2.94384  time=0.86s\n",
      "Epoch 5  loss=2.75846  val_loss=2.90399  time=0.86s\n",
      "Epoch 6  loss=2.58952  val_loss=2.89280  time=1.26s\n",
      "Seed 3_Fold 7\n",
      "Epoch 1  loss=4.08168  val_loss=3.38640  time=1.00s\n",
      "Epoch 2  loss=3.22602  val_loss=3.08212  time=0.86s\n",
      "Epoch 3  loss=3.02002  val_loss=3.01788  time=0.86s\n",
      "Epoch 4  loss=2.88463  val_loss=2.96429  time=0.85s\n",
      "Epoch 5  loss=2.75024  val_loss=2.94987  time=0.86s\n",
      "Epoch 6  loss=2.58493  val_loss=2.94096  time=0.87s\n",
      "Seed 4_Fold 1\n",
      "Epoch 1  loss=4.13175  val_loss=3.40891  time=0.86s\n",
      "Epoch 2  loss=3.22261  val_loss=3.18078  time=0.86s\n",
      "Epoch 3  loss=3.01827  val_loss=3.07479  time=0.86s\n",
      "Epoch 4  loss=2.87755  val_loss=3.05370  time=0.86s\n",
      "Epoch 5  loss=2.75067  val_loss=2.99188  time=0.87s\n",
      "Epoch 7  loss=2.37243  val_loss=2.98101  time=0.85s\n",
      "Seed 4_Fold 2\n",
      "Epoch 1  loss=4.12757  val_loss=3.36855  time=0.90s\n",
      "Epoch 2  loss=3.21795  val_loss=3.06954  time=0.85s\n",
      "Epoch 3  loss=3.04074  val_loss=3.00035  time=0.86s\n",
      "Epoch 4  loss=2.90947  val_loss=2.92826  time=0.87s\n",
      "Epoch 5  loss=2.77745  val_loss=2.89676  time=0.88s\n",
      "Epoch 6  loss=2.62302  val_loss=2.87182  time=0.86s\n",
      "Seed 4_Fold 3\n",
      "Epoch 1  loss=4.08511  val_loss=3.45687  time=0.86s\n",
      "Epoch 2  loss=3.21106  val_loss=3.20175  time=0.86s\n",
      "Epoch 3  loss=3.01191  val_loss=3.11070  time=0.85s\n",
      "Epoch 4  loss=2.87947  val_loss=3.08192  time=0.91s\n",
      "Epoch 5  loss=2.75532  val_loss=3.02925  time=0.93s\n",
      "Epoch 6  loss=2.59216  val_loss=3.00294  time=0.87s\n",
      "Seed 4_Fold 4\n",
      "Epoch 1  loss=4.05845  val_loss=3.44947  time=0.86s\n",
      "Epoch 2  loss=3.20801  val_loss=3.23134  time=0.85s\n",
      "Epoch 3  loss=3.00461  val_loss=3.16517  time=0.85s\n",
      "Epoch 4  loss=2.86558  val_loss=3.14736  time=0.87s\n",
      "Epoch 5  loss=2.74305  val_loss=3.06138  time=0.86s\n",
      "Epoch 6  loss=2.57855  val_loss=3.03344  time=0.86s\n",
      "Seed 4_Fold 5\n",
      "Epoch 1  loss=4.07530  val_loss=3.35565  time=0.91s\n",
      "Epoch 2  loss=3.23474  val_loss=3.13304  time=0.86s\n",
      "Epoch 3  loss=3.03600  val_loss=3.02091  time=0.86s\n",
      "Epoch 4  loss=2.90978  val_loss=2.96788  time=0.88s\n",
      "Epoch 5  loss=2.77160  val_loss=2.91707  time=0.88s\n",
      "Epoch 6  loss=2.60293  val_loss=2.90228  time=0.88s\n",
      "Epoch 7  loss=2.39354  val_loss=2.90085  time=0.87s\n",
      "Seed 4_Fold 6\n",
      "Epoch 1  loss=4.11619  val_loss=3.32144  time=0.85s\n",
      "Epoch 2  loss=3.22113  val_loss=3.05966  time=0.85s\n",
      "Epoch 3  loss=3.04067  val_loss=3.01377  time=0.86s\n",
      "Epoch 4  loss=2.90301  val_loss=2.94666  time=0.88s\n",
      "Epoch 5  loss=2.77547  val_loss=2.92774  time=0.94s\n",
      "Epoch 6  loss=2.60019  val_loss=2.89581  time=0.88s\n",
      "Seed 4_Fold 7\n",
      "Epoch 1  loss=4.13638  val_loss=3.41137  time=0.94s\n",
      "Epoch 2  loss=3.22374  val_loss=3.09807  time=0.87s\n",
      "Epoch 3  loss=3.02895  val_loss=3.02605  time=0.87s\n",
      "Epoch 4  loss=2.89170  val_loss=3.02177  time=0.87s\n",
      "Epoch 5  loss=2.76123  val_loss=2.92220  time=0.88s\n"
     ]
    }
   ],
   "source": [
    "seeds = [0,1,2,3,4]\n",
    "target_oof = np.zeros([len(fn_train), class_num])\n",
    "target_pred = np.zeros([len(fn_test), class_num])\n",
    "\n",
    "for seed_ in seeds:\n",
    "    best_oof, pytorch_pred = modelling_torch(fn_train, fn_multiclass_targets, fn_test, seed_, fn_train.shape[1], class_num)\n",
    "    target_oof += best_oof / len(seeds)\n",
    "    target_pred += pytorch_pred / len(seeds)"
   ]
  },
  {
   "cell_type": "code",
   "execution_count": 17,
   "metadata": {
    "execution": {
     "iopub.execute_input": "2021-03-23T12:09:26.054925Z",
     "iopub.status.busy": "2021-03-23T12:09:26.054381Z",
     "iopub.status.idle": "2021-03-23T12:09:26.113785Z",
     "shell.execute_reply": "2021-03-23T12:09:26.113293Z"
    },
    "papermill": {
     "duration": 0.152046,
     "end_time": "2021-03-23T12:09:26.113897",
     "exception": false,
     "start_time": "2021-03-23T12:09:25.961851",
     "status": "completed"
    },
    "tags": []
   },
   "outputs": [],
   "source": [
    "target_oof = np.dot(target_oof, classid_target)\n",
    "target_pred = np.dot(target_pred, classid_target)"
   ]
  },
  {
   "cell_type": "code",
   "execution_count": 18,
   "metadata": {
    "execution": {
     "iopub.execute_input": "2021-03-23T12:09:26.296412Z",
     "iopub.status.busy": "2021-03-23T12:09:26.295590Z",
     "iopub.status.idle": "2021-03-23T12:09:32.604646Z",
     "shell.execute_reply": "2021-03-23T12:09:32.605573Z"
    },
    "papermill": {
     "duration": 6.407665,
     "end_time": "2021-03-23T12:09:32.605745",
     "exception": false,
     "start_time": "2021-03-23T12:09:26.198080",
     "status": "completed"
    },
    "tags": []
   },
   "outputs": [
    {
     "name": "stdout",
     "output_type": "stream",
     "text": [
      "OOF log loss:  0.014628509400835113\n"
     ]
    }
   ],
   "source": [
    "t = pd.read_csv(DATA_DIR + 'train_targets_scored.csv')\n",
    "train_checkscore = t.copy()\n",
    "train_checkscore.loc[train_checkscore.index.isin(cons_train_index),target_feats] = np.clip(target_oof, p_min, p_max)\n",
    "train_checkscore.loc[train_checkscore.index.isin(noncons_train_index),target_feats] = 0\n",
    "t.drop(\"sig_id\", axis=1, inplace=True)\n",
    "print('OOF log loss: ', log_loss(np.ravel(t), np.ravel(np.array(train_checkscore.iloc[:,1:]))))"
   ]
  },
  {
   "cell_type": "code",
   "execution_count": 19,
   "metadata": {
    "execution": {
     "iopub.execute_input": "2021-03-23T12:09:32.779850Z",
     "iopub.status.busy": "2021-03-23T12:09:32.779159Z",
     "iopub.status.idle": "2021-03-23T12:09:41.748084Z",
     "shell.execute_reply": "2021-03-23T12:09:41.746931Z"
    },
    "papermill": {
     "duration": 9.05665,
     "end_time": "2021-03-23T12:09:41.748196",
     "exception": false,
     "start_time": "2021-03-23T12:09:32.691546",
     "status": "completed"
    },
    "tags": []
   },
   "outputs": [],
   "source": [
    "train_checkscore.to_csv(\"mlp_oof.csv\", index=False)"
   ]
  },
  {
   "cell_type": "code",
   "execution_count": 20,
   "metadata": {
    "execution": {
     "iopub.execute_input": "2021-03-23T12:09:41.922593Z",
     "iopub.status.busy": "2021-03-23T12:09:41.921710Z",
     "iopub.status.idle": "2021-03-23T12:09:43.687261Z",
     "shell.execute_reply": "2021-03-23T12:09:43.686762Z"
    },
    "papermill": {
     "duration": 1.854799,
     "end_time": "2021-03-23T12:09:43.687416",
     "exception": false,
     "start_time": "2021-03-23T12:09:41.832617",
     "status": "completed"
    },
    "tags": []
   },
   "outputs": [],
   "source": [
    "sub.loc[cons_test_index,target_feats] = np.clip(target_pred, p_min, p_max)\n",
    "sub.loc[noncons_test_index,target_feats] = 0\n",
    "sub.to_csv('submission.csv', index=False)"
   ]
  },
  {
   "cell_type": "code",
   "execution_count": null,
   "metadata": {
    "papermill": {
     "duration": 0.083707,
     "end_time": "2021-03-23T12:09:43.855342",
     "exception": false,
     "start_time": "2021-03-23T12:09:43.771635",
     "status": "completed"
    },
    "tags": []
   },
   "outputs": [],
   "source": []
  }
 ],
 "metadata": {
  "kernelspec": {
   "display_name": "Python 3",
   "language": "python",
   "name": "python3"
  },
  "language_info": {
   "codemirror_mode": {
    "name": "ipython",
    "version": 3
   },
   "file_extension": ".py",
   "mimetype": "text/x-python",
   "name": "python",
   "nbconvert_exporter": "python",
   "pygments_lexer": "ipython3",
   "version": "3.7.6"
  },
  "papermill": {
   "duration": 433.536748,
   "end_time": "2021-03-23T12:09:44.448216",
   "environment_variables": {},
   "exception": null,
   "input_path": "__notebook__.ipynb",
   "output_path": "__notebook__.ipynb",
   "parameters": {},
   "start_time": "2021-03-23T12:02:30.911468",
   "version": "2.1.0"
  }
 },
 "nbformat": 4,
 "nbformat_minor": 4
}
