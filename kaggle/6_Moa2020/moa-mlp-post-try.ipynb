{
 "cells": [
  {
   "cell_type": "markdown",
   "metadata": {
    "papermill": {
     "duration": 0.015368,
     "end_time": "2021-03-25T03:47:43.352915",
     "exception": false,
     "start_time": "2021-03-25T03:47:43.337547",
     "status": "completed"
    },
    "tags": []
   },
   "source": [
    "**Late submission**\n",
    "- solve as a multiclass classification problem\n",
    "- cancel clipping"
   ]
  },
  {
   "cell_type": "code",
   "execution_count": 1,
   "metadata": {
    "_cell_guid": "b1076dfc-b9ad-4769-8c92-a6c4dae69d19",
    "_uuid": "8f2839f25d086af736a60e9eeb907d3b93b6e0e5",
    "execution": {
     "iopub.execute_input": "2021-03-25T03:47:43.389176Z",
     "iopub.status.busy": "2021-03-25T03:47:43.388446Z",
     "iopub.status.idle": "2021-03-25T03:47:50.857551Z",
     "shell.execute_reply": "2021-03-25T03:47:50.856408Z"
    },
    "papermill": {
     "duration": 7.490383,
     "end_time": "2021-03-25T03:47:50.857670",
     "exception": false,
     "start_time": "2021-03-25T03:47:43.367287",
     "status": "completed"
    },
    "tags": []
   },
   "outputs": [
    {
     "name": "stderr",
     "output_type": "stream",
     "text": [
      "/opt/conda/lib/python3.7/site-packages/ipykernel_launcher.py:12: TqdmDeprecationWarning: This function will be removed in tqdm==5.0.0\n",
      "Please use `tqdm.notebook.*` instead of `tqdm._tqdm_notebook.*`\n",
      "  if sys.path[0] == '':\n"
     ]
    }
   ],
   "source": [
    "import os\n",
    "import random\n",
    "import warnings\n",
    "import numpy as np\n",
    "import pandas as pd \n",
    "from sklearn import preprocessing\n",
    "from sklearn.metrics import log_loss\n",
    "from sklearn.decomposition import PCA\n",
    "from tqdm import tqdm_notebook as tqdm\n",
    "from sklearn.feature_selection import VarianceThreshold\n",
    "from sklearn.model_selection import StratifiedKFold, KFold\n",
    "from tqdm._tqdm_notebook import tqdm_notebook\n",
    "\n",
    "import time\n",
    "import torch\n",
    "import torch.nn as nn\n",
    "import torch.optim as optim\n",
    "import torch.nn.functional as F\n",
    "import tensorflow as tf\n",
    "\n",
    "warnings.filterwarnings('ignore')"
   ]
  },
  {
   "cell_type": "markdown",
   "metadata": {
    "papermill": {
     "duration": 0.015362,
     "end_time": "2021-03-25T03:47:50.889492",
     "exception": false,
     "start_time": "2021-03-25T03:47:50.874130",
     "status": "completed"
    },
    "tags": []
   },
   "source": [
    "# final engineering"
   ]
  },
  {
   "cell_type": "code",
   "execution_count": 2,
   "metadata": {
    "execution": {
     "iopub.execute_input": "2021-03-25T03:47:50.930519Z",
     "iopub.status.busy": "2021-03-25T03:47:50.929911Z",
     "iopub.status.idle": "2021-03-25T03:47:58.394838Z",
     "shell.execute_reply": "2021-03-25T03:47:58.393715Z"
    },
    "papermill": {
     "duration": 7.489742,
     "end_time": "2021-03-25T03:47:58.394948",
     "exception": false,
     "start_time": "2021-03-25T03:47:50.905206",
     "status": "completed"
    },
    "tags": []
   },
   "outputs": [],
   "source": [
    "DATA_DIR = '/kaggle/input/lish-moa/'\n",
    "train = pd.read_csv(DATA_DIR + 'train_features.csv')\n",
    "targets = pd.read_csv(DATA_DIR + 'train_targets_scored.csv')\n",
    "non_targets = pd.read_csv(DATA_DIR + 'train_targets_nonscored.csv')\n",
    "test = pd.read_csv(DATA_DIR + 'test_features.csv')\n",
    "sub = pd.read_csv(DATA_DIR + 'sample_submission.csv')\n",
    "drug = pd.read_csv(DATA_DIR + 'train_drug.csv')"
   ]
  },
  {
   "cell_type": "code",
   "execution_count": 3,
   "metadata": {
    "execution": {
     "iopub.execute_input": "2021-03-25T03:47:58.430768Z",
     "iopub.status.busy": "2021-03-25T03:47:58.430088Z",
     "iopub.status.idle": "2021-03-25T03:47:58.433153Z",
     "shell.execute_reply": "2021-03-25T03:47:58.433536Z"
    },
    "papermill": {
     "duration": 0.023437,
     "end_time": "2021-03-25T03:47:58.433650",
     "exception": false,
     "start_time": "2021-03-25T03:47:58.410213",
     "status": "completed"
    },
    "tags": []
   },
   "outputs": [],
   "source": [
    "target_feats = [ i for i in targets.columns if i != \"sig_id\"]\n",
    "g_feats = [i for i in train.columns if \"g-\" in i]\n",
    "c_feats = [i for i in train.columns if \"c-\" in i]"
   ]
  },
  {
   "cell_type": "code",
   "execution_count": 4,
   "metadata": {
    "execution": {
     "iopub.execute_input": "2021-03-25T03:47:58.472023Z",
     "iopub.status.busy": "2021-03-25T03:47:58.471228Z",
     "iopub.status.idle": "2021-03-25T03:47:58.565194Z",
     "shell.execute_reply": "2021-03-25T03:47:58.564689Z"
    },
    "papermill": {
     "duration": 0.11682,
     "end_time": "2021-03-25T03:47:58.565302",
     "exception": false,
     "start_time": "2021-03-25T03:47:58.448482",
     "status": "completed"
    },
    "tags": []
   },
   "outputs": [],
   "source": [
    "noncons_train_index = train[train.cp_type==\"ctl_vehicle\"].index\n",
    "cons_train_index = train[train.cp_type!=\"ctl_vehicle\"].index\n",
    "noncons_test_index = test[test.cp_type==\"ctl_vehicle\"].index\n",
    "cons_test_index = test[test.cp_type!=\"ctl_vehicle\"].index"
   ]
  },
  {
   "cell_type": "markdown",
   "metadata": {
    "papermill": {
     "duration": 0.014963,
     "end_time": "2021-03-25T03:47:58.595352",
     "exception": false,
     "start_time": "2021-03-25T03:47:58.580389",
     "status": "completed"
    },
    "tags": []
   },
   "source": [
    "# target group"
   ]
  },
  {
   "cell_type": "code",
   "execution_count": 5,
   "metadata": {
    "execution": {
     "iopub.execute_input": "2021-03-25T03:47:58.643016Z",
     "iopub.status.busy": "2021-03-25T03:47:58.642423Z",
     "iopub.status.idle": "2021-03-25T03:47:58.645715Z",
     "shell.execute_reply": "2021-03-25T03:47:58.645304Z"
    },
    "papermill": {
     "duration": 0.035525,
     "end_time": "2021-03-25T03:47:58.645803",
     "exception": false,
     "start_time": "2021-03-25T03:47:58.610278",
     "status": "completed"
    },
    "tags": []
   },
   "outputs": [],
   "source": [
    "y = targets.drop(\"sig_id\", axis=1)"
   ]
  },
  {
   "cell_type": "code",
   "execution_count": 6,
   "metadata": {
    "execution": {
     "iopub.execute_input": "2021-03-25T03:47:58.686296Z",
     "iopub.status.busy": "2021-03-25T03:47:58.685768Z",
     "iopub.status.idle": "2021-03-25T03:48:10.762494Z",
     "shell.execute_reply": "2021-03-25T03:48:10.763452Z"
    },
    "papermill": {
     "duration": 12.102988,
     "end_time": "2021-03-25T03:48:10.763621",
     "exception": false,
     "start_time": "2021-03-25T03:47:58.660633",
     "status": "completed"
    },
    "tags": []
   },
   "outputs": [
    {
     "data": {
      "text/plain": [
       "((23814, 328), (328, 206))"
      ]
     },
     "execution_count": 6,
     "metadata": {},
     "output_type": "execute_result"
    }
   ],
   "source": [
    "def make_string(row):\n",
    "    return str(row[1:].values).replace('[','').replace(']','').replace('\\n','').replace(' ','')\n",
    "\n",
    "targets[\"target_pair\"] = targets.apply(make_string, axis=1)\n",
    "targetpair_id = dict(enumerate(targets[\"target_pair\"].unique()))\n",
    "id_targetpair = {y:x for x,y in targetpair_id.items()}\n",
    "targets[\"target_pair_num\"] = targets[\"target_pair\"].map(id_targetpair)\n",
    "\n",
    "multiclass_targets = pd.get_dummies(targets[\"target_pair_num\"])\n",
    "\n",
    "for i in range(len(id_targetpair.keys())):\n",
    "    if i == 0:\n",
    "        classid_target = np.array(list((targetpair_id[i]))).reshape(1,-1)      \n",
    "    else:\n",
    "        classid_target = np.vstack([classid_target, np.array(list((targetpair_id[i]))).reshape(1,-1)])\n",
    "        \n",
    "classid_target = classid_target.astype(int)\n",
    "class_num = multiclass_targets.shape[1]\n",
    "        \n",
    "multiclass_targets.shape, classid_target.shape"
   ]
  },
  {
   "cell_type": "markdown",
   "metadata": {
    "papermill": {
     "duration": 0.023113,
     "end_time": "2021-03-25T03:48:10.810433",
     "exception": false,
     "start_time": "2021-03-25T03:48:10.787320",
     "status": "completed"
    },
    "tags": []
   },
   "source": [
    "# preprocess"
   ]
  },
  {
   "cell_type": "code",
   "execution_count": 7,
   "metadata": {
    "execution": {
     "iopub.execute_input": "2021-03-25T03:48:10.870724Z",
     "iopub.status.busy": "2021-03-25T03:48:10.869983Z",
     "iopub.status.idle": "2021-03-25T03:48:11.184798Z",
     "shell.execute_reply": "2021-03-25T03:48:11.183979Z"
    },
    "papermill": {
     "duration": 0.350794,
     "end_time": "2021-03-25T03:48:11.184914",
     "exception": false,
     "start_time": "2021-03-25T03:48:10.834120",
     "status": "completed"
    },
    "tags": []
   },
   "outputs": [],
   "source": [
    "train = train[train.index.isin(cons_train_index)].copy().reset_index(drop=True)\n",
    "test = test[test.index.isin(cons_test_index)].copy().reset_index(drop=True)\n",
    "targets = targets[targets.index.isin(cons_train_index)].copy().reset_index(drop=True)\n",
    "\n",
    "# no need to change to one-hot encoding form\n",
    "# https://discuss.pytorch.org/t/runtimeerror-multi-target-not-supported-newbie/10216\n",
    "multiclass_targets = targets[\"target_pair_num\"].copy().reset_index(drop=True)"
   ]
  },
  {
   "cell_type": "markdown",
   "metadata": {
    "papermill": {
     "duration": 0.015214,
     "end_time": "2021-03-25T03:48:11.215900",
     "exception": false,
     "start_time": "2021-03-25T03:48:11.200686",
     "status": "completed"
    },
    "tags": []
   },
   "source": [
    "# Feature engineering "
   ]
  },
  {
   "cell_type": "code",
   "execution_count": 8,
   "metadata": {
    "execution": {
     "iopub.execute_input": "2021-03-25T03:48:11.251807Z",
     "iopub.status.busy": "2021-03-25T03:48:11.251267Z",
     "iopub.status.idle": "2021-03-25T03:48:11.254859Z",
     "shell.execute_reply": "2021-03-25T03:48:11.255401Z"
    },
    "papermill": {
     "duration": 0.024194,
     "end_time": "2021-03-25T03:48:11.255548",
     "exception": false,
     "start_time": "2021-03-25T03:48:11.231354",
     "status": "completed"
    },
    "tags": []
   },
   "outputs": [],
   "source": [
    "#X = train.iloc[:,4:].copy().values\n",
    "#select = VarianceThreshold(threshold=0.9)\n",
    "#X_new = select.fit_transform(X)\n",
    "#drop_feats = list(np.array(train.iloc[:,4:].columns)[select.get_support()==False])\n",
    "#print(len(drop_feats))\n",
    "\n",
    "#train.drop(drop_feats, axis=1, inplace=True)\n",
    "#test.drop(drop_feats, axis=1, inplace=True)\n",
    "\n",
    "g_feats = [i for i in train.columns if \"g-\" in i]\n",
    "c_feats = [i for i in train.columns if \"c-\" in i]"
   ]
  },
  {
   "cell_type": "code",
   "execution_count": 9,
   "metadata": {
    "execution": {
     "iopub.execute_input": "2021-03-25T03:48:11.293100Z",
     "iopub.status.busy": "2021-03-25T03:48:11.292318Z",
     "iopub.status.idle": "2021-03-25T03:48:18.727597Z",
     "shell.execute_reply": "2021-03-25T03:48:18.727078Z"
    },
    "papermill": {
     "duration": 7.456778,
     "end_time": "2021-03-25T03:48:18.727708",
     "exception": false,
     "start_time": "2021-03-25T03:48:11.270930",
     "status": "completed"
    },
    "tags": []
   },
   "outputs": [],
   "source": [
    "# rank gauss\n",
    "for i in c_feats + g_feats:\n",
    "    ss = preprocessing.QuantileTransformer(n_quantiles=100, random_state=0, output_distribution=\"normal\")\n",
    "    ss.fit(train[i].values.reshape(-1,1))\n",
    "    train[i] = ss.transform(train[i].values.reshape(-1,1))\n",
    "    test[i] = ss.transform(test[i].values.reshape(-1,1))"
   ]
  },
  {
   "cell_type": "code",
   "execution_count": 10,
   "metadata": {
    "execution": {
     "iopub.execute_input": "2021-03-25T03:48:18.777419Z",
     "iopub.status.busy": "2021-03-25T03:48:18.775894Z",
     "iopub.status.idle": "2021-03-25T03:48:20.545684Z",
     "shell.execute_reply": "2021-03-25T03:48:20.545192Z"
    },
    "papermill": {
     "duration": 1.802105,
     "end_time": "2021-03-25T03:48:20.545791",
     "exception": false,
     "start_time": "2021-03-25T03:48:18.743686",
     "status": "completed"
    },
    "tags": []
   },
   "outputs": [],
   "source": [
    "c_num = 5\n",
    "pca_c_cols = [\"pca-c\"+str(i+1) for i in range(c_num)]\n",
    "pca = PCA(n_components=c_num,random_state=42)\n",
    "c_train = pca.fit_transform(train[c_feats])\n",
    "c_test = pca.transform(test[c_feats])\n",
    "c_train = pd.DataFrame(c_train, columns=pca_c_cols)\n",
    "c_test = pd.DataFrame(c_test, columns=pca_c_cols)\n",
    "\n",
    "g_num = 30\n",
    "pca_g_cols = [\"pca-g\"+str(i+1) for i in range(g_num)]\n",
    "pca = PCA(n_components=g_num, random_state=42)\n",
    "g_train = pca.fit_transform(train[g_feats])\n",
    "g_test = pca.transform(test[g_feats])\n",
    "g_train = pd.DataFrame(g_train, columns=pca_g_cols)\n",
    "g_test = pd.DataFrame(g_test, columns=pca_g_cols)\n",
    "\n",
    "train = pd.concat([train, c_train],axis=1)\n",
    "test = pd.concat([test, c_test],axis=1)\n",
    "train = pd.concat([train, g_train],axis=1)\n",
    "test = pd.concat([test, g_test],axis=1)"
   ]
  },
  {
   "cell_type": "code",
   "execution_count": 11,
   "metadata": {
    "execution": {
     "iopub.execute_input": "2021-03-25T03:48:20.586674Z",
     "iopub.status.busy": "2021-03-25T03:48:20.585540Z",
     "iopub.status.idle": "2021-03-25T03:48:22.648245Z",
     "shell.execute_reply": "2021-03-25T03:48:22.647082Z"
    },
    "papermill": {
     "duration": 2.086363,
     "end_time": "2021-03-25T03:48:22.648364",
     "exception": false,
     "start_time": "2021-03-25T03:48:20.562001",
     "status": "completed"
    },
    "tags": []
   },
   "outputs": [],
   "source": [
    "def fe(df):\n",
    "    tmp = df.copy()\n",
    "    tmp['g_kurt'] = tmp[g_feats].kurtosis(axis = 1)\n",
    "    tmp['g_skew'] = tmp[g_feats].skew(axis = 1)\n",
    "    tmp['c_kurt'] = tmp[c_feats].kurtosis(axis = 1)\n",
    "    tmp['c_skew'] = tmp[c_feats].skew(axis = 1)\n",
    "    tmp = pd.get_dummies(tmp, columns=['cp_time','cp_dose'])\n",
    "    tmp.drop([\"cp_type\", \"sig_id\"], axis=1, inplace=True)\n",
    "    return tmp\n",
    "\n",
    "train = fe(train)\n",
    "test = fe(test)"
   ]
  },
  {
   "cell_type": "code",
   "execution_count": 12,
   "metadata": {
    "execution": {
     "iopub.execute_input": "2021-03-25T03:48:22.687316Z",
     "iopub.status.busy": "2021-03-25T03:48:22.686094Z",
     "iopub.status.idle": "2021-03-25T03:48:22.839437Z",
     "shell.execute_reply": "2021-03-25T03:48:22.839840Z"
    },
    "papermill": {
     "duration": 0.175206,
     "end_time": "2021-03-25T03:48:22.839980",
     "exception": false,
     "start_time": "2021-03-25T03:48:22.664774",
     "status": "completed"
    },
    "tags": []
   },
   "outputs": [
    {
     "name": "stdout",
     "output_type": "stream",
     "text": [
      "(21948, 916) (3624, 916) (23814, 206) (21948,)\n"
     ]
    }
   ],
   "source": [
    "fn_train = train.copy().to_numpy()\n",
    "fn_test = test.copy().to_numpy()\n",
    "fn_targets = y.copy().to_numpy()\n",
    "fn_multiclass_targets = multiclass_targets.copy().to_numpy()\n",
    "print(fn_train.shape, fn_test.shape, fn_targets.shape, fn_multiclass_targets.shape)"
   ]
  },
  {
   "cell_type": "markdown",
   "metadata": {
    "papermill": {
     "duration": 0.016322,
     "end_time": "2021-03-25T03:48:22.872786",
     "exception": false,
     "start_time": "2021-03-25T03:48:22.856464",
     "status": "completed"
    },
    "tags": []
   },
   "source": [
    "# modelling"
   ]
  },
  {
   "cell_type": "code",
   "execution_count": 13,
   "metadata": {
    "execution": {
     "iopub.execute_input": "2021-03-25T03:48:23.287734Z",
     "iopub.status.busy": "2021-03-25T03:48:23.287090Z",
     "iopub.status.idle": "2021-03-25T03:48:23.291432Z",
     "shell.execute_reply": "2021-03-25T03:48:23.290930Z"
    },
    "papermill": {
     "duration": 0.40244,
     "end_time": "2021-03-25T03:48:23.291538",
     "exception": false,
     "start_time": "2021-03-25T03:48:22.889098",
     "status": "completed"
    },
    "tags": []
   },
   "outputs": [],
   "source": [
    "device = \"cuda\" if torch.cuda.is_available() else \"cpu\""
   ]
  },
  {
   "cell_type": "code",
   "execution_count": 14,
   "metadata": {
    "execution": {
     "iopub.execute_input": "2021-03-25T03:48:23.344519Z",
     "iopub.status.busy": "2021-03-25T03:48:23.342888Z",
     "iopub.status.idle": "2021-03-25T03:48:23.346684Z",
     "shell.execute_reply": "2021-03-25T03:48:23.346215Z"
    },
    "papermill": {
     "duration": 0.038175,
     "end_time": "2021-03-25T03:48:23.346774",
     "exception": false,
     "start_time": "2021-03-25T03:48:23.308599",
     "status": "completed"
    },
    "tags": []
   },
   "outputs": [
    {
     "name": "stdout",
     "output_type": "stream",
     "text": [
      "cuda\n"
     ]
    }
   ],
   "source": [
    "print(device)\n",
    "def seed_everything(seed=42): \n",
    "    random.seed(seed)\n",
    "    os.environ['PYTHONHASHSEED'] = str(seed)\n",
    "    tf.random.set_seed(seed)\n",
    "    np.random.seed(seed)\n",
    "    torch.manual_seed(seed)\n",
    "    torch.cuda.manual_seed(seed)\n",
    "    torch.backends.cudnn.deterministic = True\n",
    "\n",
    "class MoaModel(nn.Module):\n",
    "    def __init__(self, num_columns, last_num):\n",
    "        super(MoaModel, self).__init__()\n",
    "        self.batch_norm1 = nn.BatchNorm1d(num_columns)\n",
    "        self.dropout1 = nn.Dropout(0.2)\n",
    "        self.dense1 = nn.utils.weight_norm(nn.Linear(num_columns, 1024))\n",
    "        self.relu1 = nn.LeakyReLU()\n",
    "        \n",
    "        self.batch_norm2 = nn.BatchNorm1d(1024)\n",
    "        self.dropout2 = nn.Dropout(0.2)\n",
    "        self.dense2 = nn.utils.weight_norm(nn.Linear(1024, 1024))\n",
    "        self.relu2 = nn.LeakyReLU()\n",
    "        \n",
    "        self.batch_norm3 = nn.BatchNorm1d(1024)\n",
    "        self.dropout3 = nn.Dropout(0.2)\n",
    "        self.dense3 = nn.utils.weight_norm(nn.Linear(1024, 1024))\n",
    "        self.relu3 = nn.LeakyReLU()\n",
    "        \n",
    "        self.batch_norm4 = nn.BatchNorm1d(1024)\n",
    "        self.dropout4 = nn.Dropout(0.2)\n",
    "        self.dense4 = nn.utils.weight_norm(nn.Linear(1024, last_num))\n",
    "        \n",
    "    def forward(self, x):\n",
    "        x = self.batch_norm1(x)\n",
    "        x = self.dropout1(x)\n",
    "        x = self.relu1(self.dense1(x))\n",
    "        \n",
    "        x = self.batch_norm2(x)\n",
    "        x = self.dropout2(x)\n",
    "        x = self.relu2(self.dense2(x))\n",
    "        \n",
    "        x = self.batch_norm3(x)\n",
    "        x = self.dropout3(x)\n",
    "        x = self.relu3(self.dense3(x))\n",
    "        \n",
    "        x = self.batch_norm4(x)\n",
    "        x = self.dropout4(x)\n",
    "        x = self.dense4(x)\n",
    "        \n",
    "        return x"
   ]
  },
  {
   "cell_type": "markdown",
   "metadata": {
    "papermill": {
     "duration": 0.016794,
     "end_time": "2021-03-25T03:48:23.380534",
     "exception": false,
     "start_time": "2021-03-25T03:48:23.363740",
     "status": "completed"
    },
    "tags": []
   },
   "source": [
    "# modelling"
   ]
  },
  {
   "cell_type": "code",
   "execution_count": 15,
   "metadata": {
    "execution": {
     "iopub.execute_input": "2021-03-25T03:48:23.448533Z",
     "iopub.status.busy": "2021-03-25T03:48:23.432972Z",
     "iopub.status.idle": "2021-03-25T03:48:23.451161Z",
     "shell.execute_reply": "2021-03-25T03:48:23.450722Z"
    },
    "papermill": {
     "duration": 0.053723,
     "end_time": "2021-03-25T03:48:23.451265",
     "exception": false,
     "start_time": "2021-03-25T03:48:23.397542",
     "status": "completed"
    },
    "tags": []
   },
   "outputs": [],
   "source": [
    "batch_size = 128\n",
    "n_folds=7\n",
    "EARLY_STOPPING_STEPS = 10\n",
    "smoothing = 0.001\n",
    "p_min = smoothing\n",
    "p_max = 1 - smoothing\n",
    "train_epochs = 10\n",
    "\n",
    "def multi_log_loss(y_true, y_pred):\n",
    "    metrics = []\n",
    "    for i, target in enumerate(target_feats):\n",
    "        metrics.append(log_loss(y_true[:, i], y_pred[:, i].astype(float), labels=[0,1]))\n",
    "    return np.mean(metrics)\n",
    "    \n",
    "def modelling_torch(tr, target, te, sample_seed, init_num, last_num):\n",
    "    seed_everything(seed=sample_seed) \n",
    "    X_train = tr.copy()\n",
    "    y_train = target.copy()\n",
    "    X_test = te.copy()\n",
    "    test_len = X_test.shape[0]\n",
    "    \n",
    "    mskf=KFold(n_splits = n_folds, shuffle=True, random_state=224)\n",
    "\n",
    "    models = []\n",
    "    \n",
    "    X_test2 = torch.tensor(X_test, dtype=torch.float32)\n",
    "    test = torch.utils.data.TensorDataset(X_test2) \n",
    "    test_loader = torch.utils.data.DataLoader(test, batch_size=batch_size, shuffle=False)\n",
    "    \n",
    "    oof = np.zeros([len(X_train),last_num])\n",
    "    oof_targets = np.zeros([len(X_train),last_num])\n",
    "    pred_value = np.zeros([test_len, last_num])\n",
    "    for fold, (train_index, valid_index) in enumerate(mskf.split(X_train, y_train)):\n",
    "        print(\"Seed \"+str(sample_seed)+\"_Fold \"+str(fold+1))\n",
    "        X_train2 = torch.tensor(X_train[train_index,:], dtype=torch.float32)\n",
    "        y_train2 = torch.tensor(y_train[train_index], dtype=torch.long)\n",
    "\n",
    "        X_valid2 = torch.tensor(X_train[valid_index,:], dtype=torch.float32)\n",
    "        y_valid2 = torch.tensor(y_train[valid_index], dtype=torch.long)\n",
    "        \n",
    "        train = torch.utils.data.TensorDataset(X_train2, y_train2)\n",
    "        valid = torch.utils.data.TensorDataset(X_valid2, y_valid2)\n",
    "        \n",
    "        train_loader = torch.utils.data.DataLoader(train, batch_size=batch_size, shuffle=True) \n",
    "        valid_loader = torch.utils.data.DataLoader(valid, batch_size=batch_size, shuffle=False)\n",
    "            \n",
    "        clf = MoaModel(init_num, last_num)\n",
    "        loss_fn = nn.CrossEntropyLoss() \n",
    "\n",
    "        optimizer = optim.Adam(clf.parameters(), lr = 0.01, weight_decay=1e-4) \n",
    "        scheduler = optim.lr_scheduler.OneCycleLR(optimizer=optimizer, pct_start=0.1, div_factor=1e3, \n",
    "                                              max_lr=2e-2, epochs=train_epochs, steps_per_epoch=len(train_loader))\n",
    "        \n",
    "        clf.to(device)\n",
    "        \n",
    "        best_val_loss = np.inf\n",
    "        stop_counts = 0\n",
    "        for epoch in range(train_epochs):\n",
    "            start_time = time.time()\n",
    "            clf.train()\n",
    "            avg_loss = 0.\n",
    "            for x_batch, y_batch in tqdm(train_loader, disable=True):\n",
    "                x_batch = x_batch.to(device)\n",
    "                y_batch = y_batch.to(device)\n",
    "                y_pred = clf(x_batch)\n",
    "                loss = loss_fn(y_pred, y_batch)\n",
    "                optimizer.zero_grad()\n",
    "                loss.backward()\n",
    "                optimizer.step()\n",
    "                scheduler.step()\n",
    "                avg_loss += loss.item() / len(train_loader)  \n",
    "                \n",
    "            clf.eval()\n",
    "            avg_val_loss = 0.\n",
    "            for i, (x_batch, y_batch) in enumerate(valid_loader): \n",
    "                x_batch = x_batch.to(device)\n",
    "                y_batch = y_batch.to(device)\n",
    "                y_pred = clf(x_batch).detach()\n",
    "                avg_val_loss += loss_fn(y_pred, y_batch).item() / len(valid_loader)\n",
    "        \n",
    "            elapsed_time = time.time() - start_time \n",
    "                    \n",
    "            if avg_val_loss < best_val_loss:\n",
    "                best_val_loss = avg_val_loss\n",
    "                print('Epoch {}  loss={:.5f}  val_loss={:.5f}  time={:.2f}s'.format(\n",
    "                    epoch + 1, avg_loss, avg_val_loss, elapsed_time))\n",
    "                torch.save(clf.state_dict(), 'best-model-parameters.pt')\n",
    "                stop_counts = 0\n",
    "            else:\n",
    "                stop_counts += 1\n",
    "                \n",
    "            if stop_counts >= EARLY_STOPPING_STEPS:\n",
    "                break\n",
    "        \n",
    "        pred_model = MoaModel(init_num, last_num)\n",
    "        pred_model.load_state_dict(torch.load('best-model-parameters.pt'))         \n",
    "        pred_model.eval()\n",
    "        \n",
    "        # validation check ----------------\n",
    "        oof_epoch = np.zeros([X_valid2.size(0), last_num])\n",
    "        target_epoch = np.zeros([X_valid2.size(0), last_num])\n",
    "        for i, (x_batch, y_batch) in enumerate(valid_loader): \n",
    "            y_pred = pred_model(x_batch).detach()\n",
    "            oof_epoch[i * batch_size:(i+1) * batch_size,:] = F.softmax(y_pred.cpu()) \n",
    "        oof[valid_index,:] = oof_epoch\n",
    "        #-----------------------------------\n",
    "        \n",
    "        # test predcition --------------\n",
    "        test_preds = np.zeros([test_len, last_num])\n",
    "        for i, (x_batch,) in enumerate(test_loader): \n",
    "            y_pred = pred_model(x_batch).detach()\n",
    "            test_preds[i * batch_size:(i+1) * batch_size, :] = F.softmax(y_pred.cpu()) \n",
    "        pred_value += test_preds / n_folds\n",
    "        # ------------------------------\n",
    "    \n",
    "    return oof, pred_value"
   ]
  },
  {
   "cell_type": "code",
   "execution_count": 16,
   "metadata": {
    "execution": {
     "iopub.execute_input": "2021-03-25T03:48:23.493116Z",
     "iopub.status.busy": "2021-03-25T03:48:23.492306Z",
     "iopub.status.idle": "2021-03-25T03:54:46.179147Z",
     "shell.execute_reply": "2021-03-25T03:54:46.180287Z"
    },
    "papermill": {
     "duration": 382.71195,
     "end_time": "2021-03-25T03:54:46.180497",
     "exception": false,
     "start_time": "2021-03-25T03:48:23.468547",
     "status": "completed"
    },
    "tags": []
   },
   "outputs": [
    {
     "name": "stdout",
     "output_type": "stream",
     "text": [
      "Seed 0_Fold 1\n",
      "Epoch 1  loss=3.99779  val_loss=3.37821  time=1.51s\n",
      "Epoch 2  loss=3.23925  val_loss=3.18299  time=0.88s\n",
      "Epoch 3  loss=3.09263  val_loss=3.15089  time=1.11s\n",
      "Epoch 4  loss=3.01579  val_loss=3.09907  time=1.34s\n",
      "Epoch 5  loss=2.93044  val_loss=3.03488  time=0.94s\n",
      "Epoch 6  loss=2.83248  val_loss=2.99852  time=0.87s\n",
      "Epoch 7  loss=2.68113  val_loss=2.96203  time=0.90s\n",
      "Epoch 8  loss=2.47111  val_loss=2.93391  time=0.87s\n",
      "Seed 0_Fold 2\n",
      "Epoch 1  loss=4.00960  val_loss=3.27290  time=0.88s\n",
      "Epoch 2  loss=3.27322  val_loss=3.09742  time=0.89s\n",
      "Epoch 3  loss=3.11714  val_loss=3.05839  time=1.06s\n",
      "Epoch 4  loss=3.03994  val_loss=3.05111  time=0.87s\n",
      "Epoch 5  loss=2.95725  val_loss=2.94672  time=0.87s\n",
      "Epoch 6  loss=2.84898  val_loss=2.90656  time=0.88s\n",
      "Epoch 7  loss=2.70580  val_loss=2.87639  time=0.88s\n",
      "Epoch 8  loss=2.50744  val_loss=2.84223  time=0.87s\n",
      "Epoch 9  loss=2.24076  val_loss=2.83363  time=0.87s\n",
      "Seed 0_Fold 3\n",
      "Epoch 1  loss=4.00470  val_loss=3.44098  time=0.87s\n",
      "Epoch 2  loss=3.23508  val_loss=3.25006  time=0.88s\n",
      "Epoch 3  loss=3.08481  val_loss=3.17190  time=0.88s\n",
      "Epoch 4  loss=3.01367  val_loss=3.12262  time=1.17s\n",
      "Epoch 5  loss=2.92385  val_loss=3.03885  time=0.92s\n",
      "Epoch 6  loss=2.82482  val_loss=3.02498  time=0.92s\n",
      "Epoch 7  loss=2.67896  val_loss=2.98268  time=0.91s\n",
      "Epoch 8  loss=2.46088  val_loss=2.96011  time=0.93s\n",
      "Seed 0_Fold 4\n",
      "Epoch 1  loss=3.97132  val_loss=3.45324  time=0.89s\n",
      "Epoch 2  loss=3.21960  val_loss=3.24993  time=0.90s\n",
      "Epoch 3  loss=3.08532  val_loss=3.23463  time=0.97s\n",
      "Epoch 4  loss=2.99123  val_loss=3.19056  time=1.46s\n",
      "Epoch 5  loss=2.91130  val_loss=3.12163  time=0.96s\n",
      "Epoch 6  loss=2.81229  val_loss=3.07083  time=0.87s\n",
      "Epoch 7  loss=2.67015  val_loss=3.04516  time=0.87s\n",
      "Epoch 8  loss=2.46323  val_loss=3.00690  time=0.87s\n",
      "Seed 0_Fold 5\n",
      "Epoch 1  loss=3.99839  val_loss=3.34521  time=1.02s\n",
      "Epoch 2  loss=3.26083  val_loss=3.17331  time=0.87s\n",
      "Epoch 3  loss=3.12062  val_loss=3.12728  time=0.90s\n",
      "Epoch 4  loss=3.03685  val_loss=3.00166  time=1.13s\n",
      "Epoch 5  loss=2.93237  val_loss=2.98797  time=0.88s\n",
      "Epoch 6  loss=2.84404  val_loss=2.94520  time=0.88s\n",
      "Epoch 7  loss=2.70454  val_loss=2.90417  time=0.90s\n",
      "Epoch 8  loss=2.49206  val_loss=2.85889  time=0.89s\n",
      "Seed 0_Fold 6\n",
      "Epoch 1  loss=4.00537  val_loss=3.35393  time=0.89s\n",
      "Epoch 2  loss=3.26592  val_loss=3.15273  time=0.90s\n",
      "Epoch 3  loss=3.11393  val_loss=3.03866  time=0.88s\n",
      "Epoch 5  loss=2.93919  val_loss=2.96896  time=0.86s\n",
      "Epoch 6  loss=2.84033  val_loss=2.92637  time=0.87s\n",
      "Epoch 7  loss=2.70881  val_loss=2.88168  time=0.88s\n",
      "Epoch 8  loss=2.49892  val_loss=2.84623  time=0.88s\n",
      "Seed 0_Fold 7\n",
      "Epoch 1  loss=3.98632  val_loss=3.29155  time=0.88s\n",
      "Epoch 2  loss=3.24219  val_loss=3.12161  time=0.90s\n",
      "Epoch 3  loss=3.10801  val_loss=3.10719  time=0.90s\n",
      "Epoch 4  loss=3.02894  val_loss=3.03003  time=1.52s\n",
      "Epoch 5  loss=2.94534  val_loss=2.97506  time=0.95s\n",
      "Epoch 6  loss=2.83701  val_loss=2.92401  time=0.88s\n",
      "Epoch 7  loss=2.68325  val_loss=2.90387  time=0.88s\n",
      "Epoch 8  loss=2.48973  val_loss=2.89198  time=0.88s\n",
      "Seed 1_Fold 1\n",
      "Epoch 1  loss=4.00505  val_loss=3.37748  time=0.89s\n",
      "Epoch 2  loss=3.24548  val_loss=3.18361  time=0.88s\n",
      "Epoch 3  loss=3.09312  val_loss=3.13851  time=0.87s\n",
      "Epoch 4  loss=3.02160  val_loss=3.07480  time=0.87s\n",
      "Epoch 5  loss=2.92938  val_loss=3.03737  time=1.09s\n",
      "Epoch 6  loss=2.83344  val_loss=2.98745  time=0.89s\n",
      "Epoch 7  loss=2.69209  val_loss=2.92426  time=0.88s\n",
      "Seed 1_Fold 2\n",
      "Epoch 1  loss=3.99342  val_loss=3.32351  time=0.90s\n",
      "Epoch 2  loss=3.26284  val_loss=3.08929  time=0.87s\n",
      "Epoch 3  loss=3.10611  val_loss=3.00697  time=0.86s\n",
      "Epoch 4  loss=3.03128  val_loss=2.99787  time=0.87s\n",
      "Epoch 5  loss=2.94621  val_loss=2.92998  time=1.06s\n",
      "Epoch 6  loss=2.84661  val_loss=2.89017  time=0.88s\n",
      "Epoch 7  loss=2.70183  val_loss=2.84135  time=0.89s\n",
      "Epoch 8  loss=2.49639  val_loss=2.79996  time=0.88s\n",
      "Seed 1_Fold 3\n",
      "Epoch 1  loss=4.01801  val_loss=3.44501  time=0.89s\n",
      "Epoch 2  loss=3.22570  val_loss=3.25371  time=0.87s\n",
      "Epoch 3  loss=3.08981  val_loss=3.17581  time=0.88s\n",
      "Epoch 4  loss=3.01976  val_loss=3.12951  time=1.14s\n",
      "Epoch 5  loss=2.92256  val_loss=3.07594  time=1.36s\n",
      "Epoch 6  loss=2.82332  val_loss=3.04256  time=0.96s\n",
      "Epoch 7  loss=2.67800  val_loss=2.99563  time=0.92s\n",
      "Epoch 8  loss=2.46065  val_loss=2.98646  time=0.92s\n",
      "Seed 1_Fold 4\n",
      "Epoch 1  loss=3.99125  val_loss=3.42316  time=0.87s\n",
      "Epoch 2  loss=3.23153  val_loss=3.29032  time=0.91s\n",
      "Epoch 3  loss=3.09060  val_loss=3.21471  time=1.00s\n",
      "Epoch 5  loss=2.92529  val_loss=3.14805  time=1.09s\n",
      "Epoch 6  loss=2.82528  val_loss=3.06538  time=0.88s\n",
      "Epoch 7  loss=2.68930  val_loss=3.05564  time=0.92s\n",
      "Epoch 8  loss=2.49107  val_loss=3.00733  time=0.88s\n",
      "Seed 1_Fold 5\n",
      "Epoch 1  loss=4.01486  val_loss=3.37681  time=0.90s\n",
      "Epoch 2  loss=3.24515  val_loss=3.14459  time=0.88s\n",
      "Epoch 3  loss=3.11181  val_loss=3.04842  time=0.87s\n",
      "Epoch 4  loss=3.02563  val_loss=3.01862  time=0.87s\n",
      "Epoch 5  loss=2.93982  val_loss=2.97350  time=0.90s\n",
      "Epoch 6  loss=2.83773  val_loss=2.96343  time=1.02s\n",
      "Epoch 7  loss=2.69686  val_loss=2.91355  time=0.89s\n",
      "Epoch 8  loss=2.48251  val_loss=2.89354  time=0.87s\n",
      "Seed 1_Fold 6\n",
      "Epoch 1  loss=4.00902  val_loss=3.33030  time=0.89s\n",
      "Epoch 2  loss=3.25060  val_loss=3.11616  time=0.88s\n",
      "Epoch 3  loss=3.11185  val_loss=3.07224  time=0.88s\n",
      "Epoch 4  loss=3.02373  val_loss=2.99912  time=1.21s\n",
      "Epoch 5  loss=2.94472  val_loss=2.96683  time=0.90s\n",
      "Epoch 6  loss=2.83776  val_loss=2.91942  time=1.12s\n",
      "Epoch 7  loss=2.70589  val_loss=2.87342  time=0.89s\n",
      "Epoch 9  loss=2.23175  val_loss=2.86525  time=0.87s\n",
      "Seed 1_Fold 7\n",
      "Epoch 1  loss=4.00054  val_loss=3.38656  time=0.87s\n",
      "Epoch 2  loss=3.26607  val_loss=3.13240  time=0.87s\n",
      "Epoch 3  loss=3.10874  val_loss=3.09089  time=0.87s\n",
      "Epoch 4  loss=3.02613  val_loss=3.06162  time=0.87s\n",
      "Epoch 5  loss=2.94680  val_loss=2.97371  time=0.87s\n",
      "Epoch 6  loss=2.84032  val_loss=2.95551  time=0.95s\n",
      "Epoch 7  loss=2.69079  val_loss=2.91364  time=1.02s\n",
      "Epoch 8  loss=2.48602  val_loss=2.86911  time=0.88s\n",
      "Seed 2_Fold 1\n",
      "Epoch 1  loss=3.99572  val_loss=3.38067  time=0.90s\n",
      "Epoch 2  loss=3.23553  val_loss=3.18713  time=0.87s\n",
      "Epoch 3  loss=3.10077  val_loss=3.13624  time=0.88s\n",
      "Epoch 4  loss=3.02186  val_loss=3.09611  time=0.87s\n",
      "Epoch 5  loss=2.93528  val_loss=3.02827  time=0.87s\n",
      "Epoch 6  loss=2.84131  val_loss=2.98015  time=0.87s\n",
      "Epoch 7  loss=2.69345  val_loss=2.96846  time=1.16s\n",
      "Epoch 8  loss=2.49459  val_loss=2.92854  time=0.93s\n",
      "Seed 2_Fold 2\n",
      "Epoch 1  loss=4.00476  val_loss=3.32591  time=0.89s\n",
      "Epoch 2  loss=3.25654  val_loss=3.10981  time=0.90s\n",
      "Epoch 3  loss=3.11337  val_loss=3.04177  time=0.86s\n",
      "Epoch 4  loss=3.03755  val_loss=2.99161  time=1.18s\n",
      "Epoch 5  loss=2.93721  val_loss=2.94193  time=0.93s\n",
      "Epoch 6  loss=2.85018  val_loss=2.87752  time=1.11s\n",
      "Epoch 7  loss=2.70438  val_loss=2.84361  time=0.97s\n",
      "Epoch 8  loss=2.50728  val_loss=2.80790  time=0.87s\n",
      "Seed 2_Fold 3\n",
      "Epoch 1  loss=4.00225  val_loss=3.48052  time=0.87s\n",
      "Epoch 2  loss=3.23936  val_loss=3.22742  time=0.87s\n",
      "Epoch 3  loss=3.10727  val_loss=3.18668  time=0.87s\n",
      "Epoch 4  loss=3.00482  val_loss=3.13829  time=0.86s\n",
      "Epoch 5  loss=2.93006  val_loss=3.06375  time=0.86s\n",
      "Epoch 6  loss=2.82849  val_loss=3.06063  time=0.87s\n",
      "Epoch 7  loss=2.68701  val_loss=3.00401  time=1.10s\n",
      "Epoch 8  loss=2.48879  val_loss=2.99462  time=0.87s\n",
      "Seed 2_Fold 4\n",
      "Epoch 1  loss=4.01333  val_loss=3.49977  time=0.91s\n",
      "Epoch 2  loss=3.22703  val_loss=3.27118  time=0.87s\n",
      "Epoch 3  loss=3.08665  val_loss=3.21219  time=0.91s\n",
      "Epoch 4  loss=3.00396  val_loss=3.14937  time=0.91s\n",
      "Epoch 5  loss=2.91311  val_loss=3.12966  time=0.87s\n",
      "Epoch 6  loss=2.82409  val_loss=3.11177  time=0.87s\n",
      "Epoch 7  loss=2.68924  val_loss=3.03384  time=1.06s\n",
      "Epoch 8  loss=2.48363  val_loss=3.01785  time=0.88s\n",
      "Seed 2_Fold 5\n",
      "Epoch 1  loss=3.99931  val_loss=3.37025  time=0.88s\n",
      "Epoch 2  loss=3.24836  val_loss=3.17423  time=0.87s\n",
      "Epoch 3  loss=3.11007  val_loss=3.09932  time=1.00s\n",
      "Epoch 4  loss=3.01582  val_loss=3.03151  time=1.08s\n",
      "Epoch 5  loss=2.94277  val_loss=3.01810  time=0.87s\n",
      "Epoch 6  loss=2.83085  val_loss=2.94250  time=0.90s\n",
      "Epoch 7  loss=2.68727  val_loss=2.88745  time=1.12s\n",
      "Epoch 8  loss=2.47731  val_loss=2.87096  time=0.94s\n",
      "Seed 2_Fold 6\n",
      "Epoch 1  loss=4.03367  val_loss=3.30200  time=0.87s\n",
      "Epoch 2  loss=3.24487  val_loss=3.11119  time=0.88s\n",
      "Epoch 3  loss=3.09969  val_loss=3.06898  time=0.87s\n",
      "Epoch 4  loss=3.01922  val_loss=3.02133  time=0.89s\n",
      "Epoch 5  loss=2.92395  val_loss=2.94347  time=0.88s\n",
      "Epoch 6  loss=2.82459  val_loss=2.94329  time=0.88s\n",
      "Epoch 7  loss=2.67721  val_loss=2.88361  time=0.88s\n",
      "Epoch 8  loss=2.46120  val_loss=2.86947  time=1.09s\n",
      "Seed 2_Fold 7\n",
      "Epoch 1  loss=4.01732  val_loss=3.35156  time=0.92s\n",
      "Epoch 2  loss=3.23734  val_loss=3.09625  time=0.90s\n",
      "Epoch 3  loss=3.08547  val_loss=3.05332  time=0.88s\n",
      "Epoch 4  loss=3.01907  val_loss=3.02519  time=0.87s\n",
      "Epoch 5  loss=2.93198  val_loss=2.99655  time=0.87s\n",
      "Epoch 6  loss=2.83247  val_loss=2.92337  time=0.87s\n",
      "Epoch 7  loss=2.68325  val_loss=2.90707  time=0.88s\n",
      "Epoch 8  loss=2.47968  val_loss=2.90338  time=0.91s\n",
      "Epoch 9  loss=2.20236  val_loss=2.90317  time=1.05s\n",
      "Seed 3_Fold 1\n",
      "Epoch 1  loss=3.98171  val_loss=3.35571  time=0.91s\n",
      "Epoch 2  loss=3.23968  val_loss=3.17504  time=0.87s\n",
      "Epoch 3  loss=3.09393  val_loss=3.13023  time=1.17s\n",
      "Epoch 4  loss=3.00534  val_loss=3.09266  time=0.88s\n",
      "Epoch 5  loss=2.91563  val_loss=3.03193  time=0.98s\n",
      "Epoch 6  loss=2.82224  val_loss=2.98232  time=0.97s\n",
      "Epoch 7  loss=2.68045  val_loss=2.94533  time=0.98s\n",
      "Epoch 8  loss=2.44735  val_loss=2.93871  time=1.19s\n",
      "Seed 3_Fold 2\n",
      "Epoch 1  loss=4.03450  val_loss=3.28166  time=0.87s\n",
      "Epoch 2  loss=3.24373  val_loss=3.12676  time=0.87s\n",
      "Epoch 3  loss=3.12061  val_loss=3.04678  time=0.89s\n",
      "Epoch 4  loss=3.02433  val_loss=3.00918  time=0.89s\n",
      "Epoch 5  loss=2.94483  val_loss=2.94791  time=0.87s\n",
      "Epoch 6  loss=2.84702  val_loss=2.88891  time=0.87s\n",
      "Epoch 7  loss=2.69591  val_loss=2.86555  time=0.88s\n",
      "Epoch 8  loss=2.48734  val_loss=2.85604  time=0.90s\n",
      "Seed 3_Fold 3\n",
      "Epoch 1  loss=3.98515  val_loss=3.50821  time=0.91s\n",
      "Epoch 2  loss=3.24790  val_loss=3.22433  time=0.87s\n",
      "Epoch 3  loss=3.09695  val_loss=3.20178  time=0.86s\n",
      "Epoch 4  loss=3.02177  val_loss=3.14414  time=0.90s\n",
      "Epoch 5  loss=2.92391  val_loss=3.11212  time=0.96s\n",
      "Epoch 6  loss=2.83072  val_loss=3.04628  time=0.99s\n",
      "Epoch 7  loss=2.69312  val_loss=2.97813  time=0.97s\n",
      "Seed 3_Fold 4\n",
      "Epoch 1  loss=3.97057  val_loss=3.44372  time=0.87s\n",
      "Epoch 2  loss=3.22129  val_loss=3.30713  time=1.18s\n",
      "Epoch 3  loss=3.08565  val_loss=3.24864  time=0.89s\n",
      "Epoch 4  loss=2.99848  val_loss=3.17886  time=0.92s\n",
      "Epoch 5  loss=2.92531  val_loss=3.12763  time=0.86s\n",
      "Epoch 6  loss=2.82365  val_loss=3.08971  time=0.86s\n",
      "Epoch 7  loss=2.68390  val_loss=3.02735  time=0.88s\n",
      "Epoch 8  loss=2.46812  val_loss=3.01709  time=0.94s\n",
      "Seed 3_Fold 5\n",
      "Epoch 1  loss=3.97939  val_loss=3.37354  time=0.87s\n",
      "Epoch 2  loss=3.25106  val_loss=3.13580  time=0.87s\n",
      "Epoch 3  loss=3.11398  val_loss=3.09933  time=0.87s\n",
      "Epoch 4  loss=3.02721  val_loss=3.01589  time=0.87s\n",
      "Epoch 5  loss=2.94117  val_loss=2.98746  time=0.87s\n",
      "Epoch 6  loss=2.83097  val_loss=2.92874  time=0.87s\n",
      "Epoch 7  loss=2.69226  val_loss=2.89277  time=0.87s\n",
      "Epoch 8  loss=2.47700  val_loss=2.87195  time=0.89s\n",
      "Seed 3_Fold 6\n",
      "Epoch 1  loss=3.98149  val_loss=3.46209  time=0.91s\n",
      "Epoch 2  loss=3.26328  val_loss=3.14701  time=0.86s\n",
      "Epoch 3  loss=3.10719  val_loss=3.06485  time=0.87s\n",
      "Epoch 4  loss=3.02718  val_loss=3.02734  time=0.89s\n",
      "Epoch 5  loss=2.93862  val_loss=2.98239  time=0.87s\n",
      "Epoch 6  loss=2.84281  val_loss=2.92661  time=0.87s\n",
      "Epoch 7  loss=2.70121  val_loss=2.88703  time=0.88s\n",
      "Epoch 8  loss=2.50049  val_loss=2.87375  time=0.89s\n",
      "Epoch 9  loss=2.22356  val_loss=2.86935  time=0.87s\n",
      "Seed 3_Fold 7\n",
      "Epoch 1  loss=3.98255  val_loss=3.33184  time=1.26s\n",
      "Epoch 2  loss=3.26031  val_loss=3.15161  time=0.98s\n",
      "Epoch 3  loss=3.10860  val_loss=3.06607  time=0.89s\n",
      "Epoch 4  loss=3.02347  val_loss=3.01835  time=0.88s\n",
      "Epoch 5  loss=2.93906  val_loss=2.97025  time=0.88s\n",
      "Epoch 6  loss=2.82894  val_loss=2.95786  time=0.89s\n",
      "Epoch 7  loss=2.69540  val_loss=2.91983  time=0.89s\n",
      "Epoch 8  loss=2.47848  val_loss=2.90083  time=0.90s\n",
      "Seed 4_Fold 1\n",
      "Epoch 1  loss=4.01452  val_loss=3.33036  time=0.88s\n",
      "Epoch 2  loss=3.24405  val_loss=3.22551  time=0.88s\n",
      "Epoch 3  loss=3.09749  val_loss=3.13832  time=0.88s\n",
      "Epoch 4  loss=3.00666  val_loss=3.09457  time=0.87s\n",
      "Epoch 5  loss=2.93061  val_loss=3.06077  time=0.87s\n",
      "Epoch 6  loss=2.82183  val_loss=3.02525  time=0.90s\n",
      "Epoch 7  loss=2.66925  val_loss=2.95891  time=0.87s\n",
      "Seed 4_Fold 2\n",
      "Epoch 1  loss=4.01829  val_loss=3.32009  time=0.93s\n",
      "Epoch 2  loss=3.25341  val_loss=3.13209  time=0.88s\n",
      "Epoch 3  loss=3.11137  val_loss=3.05932  time=0.87s\n",
      "Epoch 4  loss=3.03419  val_loss=2.99687  time=0.88s\n",
      "Epoch 5  loss=2.95566  val_loss=2.95011  time=0.88s\n",
      "Epoch 6  loss=2.85575  val_loss=2.88616  time=0.88s\n",
      "Epoch 7  loss=2.72262  val_loss=2.87259  time=0.89s\n",
      "Epoch 8  loss=2.51230  val_loss=2.83386  time=0.88s\n",
      "Seed 4_Fold 3\n",
      "Epoch 1  loss=3.98836  val_loss=3.49273  time=1.19s\n",
      "Epoch 2  loss=3.22751  val_loss=3.24522  time=0.89s\n",
      "Epoch 3  loss=3.08836  val_loss=3.15782  time=0.88s\n",
      "Epoch 4  loss=2.99906  val_loss=3.14112  time=0.89s\n",
      "Epoch 5  loss=2.93091  val_loss=3.09008  time=0.88s\n",
      "Epoch 6  loss=2.82696  val_loss=3.02368  time=0.88s\n",
      "Epoch 7  loss=2.68612  val_loss=2.99327  time=0.88s\n",
      "Epoch 8  loss=2.48293  val_loss=2.98231  time=0.90s\n",
      "Seed 4_Fold 4\n",
      "Epoch 1  loss=3.95581  val_loss=3.61693  time=0.87s\n",
      "Epoch 2  loss=3.23100  val_loss=3.26723  time=0.88s\n",
      "Epoch 3  loss=3.08306  val_loss=3.23636  time=0.90s\n",
      "Epoch 4  loss=2.99655  val_loss=3.18165  time=0.88s\n",
      "Epoch 5  loss=2.91991  val_loss=3.11874  time=0.88s\n",
      "Epoch 6  loss=2.80711  val_loss=3.08500  time=0.88s\n",
      "Epoch 7  loss=2.67148  val_loss=3.03604  time=0.89s\n",
      "Epoch 8  loss=2.46145  val_loss=3.00968  time=0.88s\n",
      "Seed 4_Fold 5\n",
      "Epoch 1  loss=3.98386  val_loss=3.29638  time=0.94s\n",
      "Epoch 2  loss=3.24882  val_loss=3.13769  time=0.88s\n",
      "Epoch 3  loss=3.10512  val_loss=3.06534  time=0.88s\n",
      "Epoch 4  loss=3.03551  val_loss=3.02651  time=0.88s\n",
      "Epoch 5  loss=2.94335  val_loss=2.96763  time=0.87s\n",
      "Epoch 6  loss=2.84330  val_loss=2.92138  time=0.87s\n",
      "Epoch 7  loss=2.69534  val_loss=2.88782  time=0.97s\n",
      "Epoch 8  loss=2.50733  val_loss=2.86667  time=0.98s\n",
      "Epoch 9  loss=2.23230  val_loss=2.85200  time=0.92s\n",
      "Seed 4_Fold 6\n",
      "Epoch 1  loss=4.02052  val_loss=3.46405  time=1.20s\n",
      "Epoch 2  loss=3.25681  val_loss=3.12753  time=0.89s\n",
      "Epoch 3  loss=3.11821  val_loss=3.07344  time=0.87s\n",
      "Epoch 4  loss=3.03270  val_loss=3.01298  time=0.88s\n",
      "Epoch 5  loss=2.95170  val_loss=2.94848  time=0.88s\n",
      "Epoch 6  loss=2.83925  val_loss=2.90374  time=0.87s\n",
      "Epoch 7  loss=2.70466  val_loss=2.89182  time=0.87s\n",
      "Epoch 8  loss=2.48406  val_loss=2.85279  time=0.88s\n",
      "Seed 4_Fold 7\n",
      "Epoch 1  loss=4.00774  val_loss=3.37855  time=0.89s\n",
      "Epoch 2  loss=3.25300  val_loss=3.11883  time=0.87s\n",
      "Epoch 3  loss=3.10469  val_loss=3.07568  time=0.87s\n",
      "Epoch 4  loss=3.02062  val_loss=3.06743  time=0.88s\n",
      "Epoch 5  loss=2.94456  val_loss=2.95371  time=0.88s\n",
      "Epoch 6  loss=2.82777  val_loss=2.91955  time=0.88s\n",
      "Epoch 7  loss=2.69094  val_loss=2.90724  time=0.88s\n",
      "Epoch 8  loss=2.47704  val_loss=2.89605  time=0.88s\n"
     ]
    }
   ],
   "source": [
    "seeds = [0,1,2,3,4]\n",
    "target_oof = np.zeros([len(fn_train), class_num])\n",
    "target_pred = np.zeros([len(fn_test), class_num])\n",
    "\n",
    "for seed_ in seeds:\n",
    "    best_oof, pytorch_pred = modelling_torch(fn_train, fn_multiclass_targets, fn_test, seed_, fn_train.shape[1], class_num)\n",
    "    target_oof += best_oof / len(seeds)\n",
    "    target_pred += pytorch_pred / len(seeds)"
   ]
  },
  {
   "cell_type": "code",
   "execution_count": 17,
   "metadata": {
    "execution": {
     "iopub.execute_input": "2021-03-25T03:54:46.503619Z",
     "iopub.status.busy": "2021-03-25T03:54:46.503043Z",
     "iopub.status.idle": "2021-03-25T03:54:46.565442Z",
     "shell.execute_reply": "2021-03-25T03:54:46.564928Z"
    },
    "papermill": {
     "duration": 0.216528,
     "end_time": "2021-03-25T03:54:46.565540",
     "exception": false,
     "start_time": "2021-03-25T03:54:46.349012",
     "status": "completed"
    },
    "tags": []
   },
   "outputs": [],
   "source": [
    "target_oof = np.dot(target_oof, classid_target)\n",
    "target_pred = np.dot(target_pred, classid_target)"
   ]
  },
  {
   "cell_type": "code",
   "execution_count": 18,
   "metadata": {
    "execution": {
     "iopub.execute_input": "2021-03-25T03:54:46.783576Z",
     "iopub.status.busy": "2021-03-25T03:54:46.782724Z",
     "iopub.status.idle": "2021-03-25T03:54:52.872877Z",
     "shell.execute_reply": "2021-03-25T03:54:52.873637Z"
    },
    "papermill": {
     "duration": 6.20581,
     "end_time": "2021-03-25T03:54:52.873775",
     "exception": false,
     "start_time": "2021-03-25T03:54:46.667965",
     "status": "completed"
    },
    "tags": []
   },
   "outputs": [
    {
     "name": "stdout",
     "output_type": "stream",
     "text": [
      "OOF log loss:  0.014517328012861472\n"
     ]
    }
   ],
   "source": [
    "t = pd.read_csv(DATA_DIR + 'train_targets_scored.csv')\n",
    "train_checkscore = t.copy()\n",
    "train_checkscore.loc[cons_train_index,target_feats] = np.clip(target_oof, p_min, p_max)\n",
    "train_checkscore.loc[noncons_train_index,target_feats] = 0\n",
    "t.drop(\"sig_id\", axis=1, inplace=True)\n",
    "print('OOF log loss: ', log_loss(np.ravel(t), np.ravel(np.array(train_checkscore.iloc[:,1:]))))"
   ]
  },
  {
   "cell_type": "code",
   "execution_count": 19,
   "metadata": {
    "execution": {
     "iopub.execute_input": "2021-03-25T03:54:53.084171Z",
     "iopub.status.busy": "2021-03-25T03:54:53.083488Z",
     "iopub.status.idle": "2021-03-25T03:55:01.602161Z",
     "shell.execute_reply": "2021-03-25T03:55:01.601078Z"
    },
    "papermill": {
     "duration": 8.625835,
     "end_time": "2021-03-25T03:55:01.602287",
     "exception": false,
     "start_time": "2021-03-25T03:54:52.976452",
     "status": "completed"
    },
    "tags": []
   },
   "outputs": [],
   "source": [
    "train_checkscore.to_csv(\"mlp_oof.csv\", index=False)"
   ]
  },
  {
   "cell_type": "code",
   "execution_count": 20,
   "metadata": {
    "execution": {
     "iopub.execute_input": "2021-03-25T03:55:01.813024Z",
     "iopub.status.busy": "2021-03-25T03:55:01.811840Z",
     "iopub.status.idle": "2021-03-25T03:55:03.963627Z",
     "shell.execute_reply": "2021-03-25T03:55:03.963094Z"
    },
    "papermill": {
     "duration": 2.259476,
     "end_time": "2021-03-25T03:55:03.963729",
     "exception": false,
     "start_time": "2021-03-25T03:55:01.704253",
     "status": "completed"
    },
    "tags": []
   },
   "outputs": [],
   "source": [
    "sub.loc[cons_test_index,target_feats] = target_pred #np.clip(target_pred, p_min, p_max)\n",
    "sub.loc[noncons_test_index,target_feats] = 0\n",
    "sub.to_csv('submission.csv', index=False)"
   ]
  },
  {
   "cell_type": "code",
   "execution_count": null,
   "metadata": {
    "papermill": {
     "duration": 0.101473,
     "end_time": "2021-03-25T03:55:04.167705",
     "exception": false,
     "start_time": "2021-03-25T03:55:04.066232",
     "status": "completed"
    },
    "tags": []
   },
   "outputs": [],
   "source": []
  }
 ],
 "metadata": {
  "kernelspec": {
   "display_name": "Python 3",
   "language": "python",
   "name": "python3"
  },
  "language_info": {
   "codemirror_mode": {
    "name": "ipython",
    "version": 3
   },
   "file_extension": ".py",
   "mimetype": "text/x-python",
   "name": "python",
   "nbconvert_exporter": "python",
   "pygments_lexer": "ipython3",
   "version": "3.7.6"
  },
  "papermill": {
   "duration": 445.947757,
   "end_time": "2021-03-25T03:55:05.390761",
   "environment_variables": {},
   "exception": null,
   "input_path": "__notebook__.ipynb",
   "output_path": "__notebook__.ipynb",
   "parameters": {},
   "start_time": "2021-03-25T03:47:39.443004",
   "version": "2.1.0"
  }
 },
 "nbformat": 4,
 "nbformat_minor": 4
}
