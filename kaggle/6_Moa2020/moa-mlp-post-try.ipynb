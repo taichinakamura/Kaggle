{
 "cells": [
  {
   "cell_type": "markdown",
   "metadata": {
    "papermill": {
     "duration": 0.015346,
     "end_time": "2021-03-20T23:22:11.412609",
     "exception": false,
     "start_time": "2021-03-20T23:22:11.397263",
     "status": "completed"
    },
    "tags": []
   },
   "source": [
    "**Late submission**\n",
    "- solve as a multiclass classification problem\n",
    "- change model architecture"
   ]
  },
  {
   "cell_type": "code",
   "execution_count": 1,
   "metadata": {
    "_cell_guid": "b1076dfc-b9ad-4769-8c92-a6c4dae69d19",
    "_uuid": "8f2839f25d086af736a60e9eeb907d3b93b6e0e5",
    "execution": {
     "iopub.execute_input": "2021-03-20T23:22:11.448076Z",
     "iopub.status.busy": "2021-03-20T23:22:11.447462Z",
     "iopub.status.idle": "2021-03-20T23:22:17.779614Z",
     "shell.execute_reply": "2021-03-20T23:22:17.779052Z"
    },
    "papermill": {
     "duration": 6.352978,
     "end_time": "2021-03-20T23:22:17.779729",
     "exception": false,
     "start_time": "2021-03-20T23:22:11.426751",
     "status": "completed"
    },
    "tags": []
   },
   "outputs": [
    {
     "name": "stderr",
     "output_type": "stream",
     "text": [
      "/opt/conda/lib/python3.7/site-packages/ipykernel_launcher.py:12: TqdmDeprecationWarning: This function will be removed in tqdm==5.0.0\n",
      "Please use `tqdm.notebook.*` instead of `tqdm._tqdm_notebook.*`\n",
      "  if sys.path[0] == '':\n"
     ]
    }
   ],
   "source": [
    "import os\n",
    "import random\n",
    "import warnings\n",
    "import numpy as np\n",
    "import pandas as pd \n",
    "from sklearn import preprocessing\n",
    "from sklearn.metrics import log_loss\n",
    "from sklearn.decomposition import PCA\n",
    "from tqdm import tqdm_notebook as tqdm\n",
    "from sklearn.feature_selection import VarianceThreshold\n",
    "from sklearn.model_selection import StratifiedKFold, KFold\n",
    "from tqdm._tqdm_notebook import tqdm_notebook\n",
    "\n",
    "import time\n",
    "import torch\n",
    "import torch.nn as nn\n",
    "import torch.optim as optim\n",
    "import torch.nn.functional as F\n",
    "import tensorflow as tf\n",
    "\n",
    "warnings.filterwarnings('ignore')"
   ]
  },
  {
   "cell_type": "markdown",
   "metadata": {
    "papermill": {
     "duration": 0.014517,
     "end_time": "2021-03-20T23:22:17.809678",
     "exception": false,
     "start_time": "2021-03-20T23:22:17.795161",
     "status": "completed"
    },
    "tags": []
   },
   "source": [
    "# final engineering"
   ]
  },
  {
   "cell_type": "code",
   "execution_count": 2,
   "metadata": {
    "execution": {
     "iopub.execute_input": "2021-03-20T23:22:17.848093Z",
     "iopub.status.busy": "2021-03-20T23:22:17.847560Z",
     "iopub.status.idle": "2021-03-20T23:22:25.581766Z",
     "shell.execute_reply": "2021-03-20T23:22:25.580543Z"
    },
    "papermill": {
     "duration": 7.75778,
     "end_time": "2021-03-20T23:22:25.581897",
     "exception": false,
     "start_time": "2021-03-20T23:22:17.824117",
     "status": "completed"
    },
    "tags": []
   },
   "outputs": [],
   "source": [
    "DATA_DIR = '/kaggle/input/lish-moa/'\n",
    "train = pd.read_csv(DATA_DIR + 'train_features.csv')\n",
    "targets = pd.read_csv(DATA_DIR + 'train_targets_scored.csv')\n",
    "non_targets = pd.read_csv(DATA_DIR + 'train_targets_nonscored.csv')\n",
    "test = pd.read_csv(DATA_DIR + 'test_features.csv')\n",
    "sub = pd.read_csv(DATA_DIR + 'sample_submission.csv')\n",
    "drug = pd.read_csv(DATA_DIR + 'train_drug.csv')"
   ]
  },
  {
   "cell_type": "code",
   "execution_count": 3,
   "metadata": {
    "execution": {
     "iopub.execute_input": "2021-03-20T23:22:25.618309Z",
     "iopub.status.busy": "2021-03-20T23:22:25.616554Z",
     "iopub.status.idle": "2021-03-20T23:22:25.618972Z",
     "shell.execute_reply": "2021-03-20T23:22:25.619372Z"
    },
    "papermill": {
     "duration": 0.022634,
     "end_time": "2021-03-20T23:22:25.619489",
     "exception": false,
     "start_time": "2021-03-20T23:22:25.596855",
     "status": "completed"
    },
    "tags": []
   },
   "outputs": [],
   "source": [
    "target_feats = [ i for i in targets.columns if i != \"sig_id\"]\n",
    "g_feats = [i for i in train.columns if \"g-\" in i]\n",
    "c_feats = [i for i in train.columns if \"c-\" in i]"
   ]
  },
  {
   "cell_type": "code",
   "execution_count": 4,
   "metadata": {
    "execution": {
     "iopub.execute_input": "2021-03-20T23:22:25.655681Z",
     "iopub.status.busy": "2021-03-20T23:22:25.655069Z",
     "iopub.status.idle": "2021-03-20T23:22:25.749587Z",
     "shell.execute_reply": "2021-03-20T23:22:25.749087Z"
    },
    "papermill": {
     "duration": 0.115726,
     "end_time": "2021-03-20T23:22:25.749685",
     "exception": false,
     "start_time": "2021-03-20T23:22:25.633959",
     "status": "completed"
    },
    "tags": []
   },
   "outputs": [],
   "source": [
    "noncons_train_index = train[train.cp_type==\"ctl_vehicle\"].index\n",
    "cons_train_index = train[train.cp_type!=\"ctl_vehicle\"].index\n",
    "noncons_test_index = test[test.cp_type==\"ctl_vehicle\"].index\n",
    "cons_test_index = test[test.cp_type!=\"ctl_vehicle\"].index"
   ]
  },
  {
   "cell_type": "markdown",
   "metadata": {
    "papermill": {
     "duration": 0.015073,
     "end_time": "2021-03-20T23:22:25.779806",
     "exception": false,
     "start_time": "2021-03-20T23:22:25.764733",
     "status": "completed"
    },
    "tags": []
   },
   "source": [
    "# target group"
   ]
  },
  {
   "cell_type": "code",
   "execution_count": 5,
   "metadata": {
    "execution": {
     "iopub.execute_input": "2021-03-20T23:22:25.827100Z",
     "iopub.status.busy": "2021-03-20T23:22:25.826408Z",
     "iopub.status.idle": "2021-03-20T23:22:25.830057Z",
     "shell.execute_reply": "2021-03-20T23:22:25.829629Z"
    },
    "papermill": {
     "duration": 0.035591,
     "end_time": "2021-03-20T23:22:25.830141",
     "exception": false,
     "start_time": "2021-03-20T23:22:25.794550",
     "status": "completed"
    },
    "tags": []
   },
   "outputs": [],
   "source": [
    "y = targets.drop(\"sig_id\", axis=1)"
   ]
  },
  {
   "cell_type": "code",
   "execution_count": 6,
   "metadata": {
    "execution": {
     "iopub.execute_input": "2021-03-20T23:22:25.870301Z",
     "iopub.status.busy": "2021-03-20T23:22:25.869669Z",
     "iopub.status.idle": "2021-03-20T23:22:36.997176Z",
     "shell.execute_reply": "2021-03-20T23:22:36.996745Z"
    },
    "papermill": {
     "duration": 11.152229,
     "end_time": "2021-03-20T23:22:36.997278",
     "exception": false,
     "start_time": "2021-03-20T23:22:25.845049",
     "status": "completed"
    },
    "tags": []
   },
   "outputs": [
    {
     "data": {
      "text/plain": [
       "((23814, 328), (328, 206))"
      ]
     },
     "execution_count": 6,
     "metadata": {},
     "output_type": "execute_result"
    }
   ],
   "source": [
    "def make_string(row):\n",
    "    return str(row[1:].values).replace('[','').replace(']','').replace('\\n','').replace(' ','')\n",
    "\n",
    "targets[\"target_pair\"] = targets.apply(make_string, axis=1)\n",
    "targetpair_id = dict(enumerate(targets[\"target_pair\"].unique()))\n",
    "id_targetpair = {y:x for x,y in targetpair_id.items()}\n",
    "targets[\"target_pair_num\"] = targets[\"target_pair\"].map(id_targetpair)\n",
    "\n",
    "multiclass_targets = pd.get_dummies(targets[\"target_pair_num\"])\n",
    "\n",
    "for i in range(len(id_targetpair.keys())):\n",
    "    if i == 0:\n",
    "        classid_target = np.array(list((targetpair_id[i]))).reshape(1,-1)      \n",
    "    else:\n",
    "        classid_target = np.vstack([classid_target, np.array(list((targetpair_id[i]))).reshape(1,-1)])\n",
    "        \n",
    "classid_target = classid_target.astype(int)\n",
    "class_num = multiclass_targets.shape[1]\n",
    "        \n",
    "multiclass_targets.shape, classid_target.shape"
   ]
  },
  {
   "cell_type": "markdown",
   "metadata": {
    "papermill": {
     "duration": 0.015794,
     "end_time": "2021-03-20T23:22:37.028907",
     "exception": false,
     "start_time": "2021-03-20T23:22:37.013113",
     "status": "completed"
    },
    "tags": []
   },
   "source": [
    "# preprocess"
   ]
  },
  {
   "cell_type": "code",
   "execution_count": 7,
   "metadata": {
    "execution": {
     "iopub.execute_input": "2021-03-20T23:22:37.071708Z",
     "iopub.status.busy": "2021-03-20T23:22:37.070818Z",
     "iopub.status.idle": "2021-03-20T23:22:37.338868Z",
     "shell.execute_reply": "2021-03-20T23:22:37.338347Z"
    },
    "papermill": {
     "duration": 0.294631,
     "end_time": "2021-03-20T23:22:37.338969",
     "exception": false,
     "start_time": "2021-03-20T23:22:37.044338",
     "status": "completed"
    },
    "tags": []
   },
   "outputs": [],
   "source": [
    "train = train[train.index.isin(cons_train_index)].copy().reset_index(drop=True)\n",
    "test = test[test.index.isin(cons_test_index)].copy().reset_index(drop=True)\n",
    "targets = targets[targets.index.isin(cons_train_index)].copy().reset_index(drop=True)\n",
    "\n",
    "# no need to change to one-hot encoding form\n",
    "# https://discuss.pytorch.org/t/runtimeerror-multi-target-not-supported-newbie/10216\n",
    "multiclass_targets = targets[\"target_pair_num\"].copy().reset_index(drop=True)"
   ]
  },
  {
   "cell_type": "markdown",
   "metadata": {
    "papermill": {
     "duration": 0.015309,
     "end_time": "2021-03-20T23:22:37.370127",
     "exception": false,
     "start_time": "2021-03-20T23:22:37.354818",
     "status": "completed"
    },
    "tags": []
   },
   "source": [
    "# Feature engineering "
   ]
  },
  {
   "cell_type": "code",
   "execution_count": 8,
   "metadata": {
    "execution": {
     "iopub.execute_input": "2021-03-20T23:22:37.415647Z",
     "iopub.status.busy": "2021-03-20T23:22:37.414968Z",
     "iopub.status.idle": "2021-03-20T23:22:37.417950Z",
     "shell.execute_reply": "2021-03-20T23:22:37.417536Z"
    },
    "papermill": {
     "duration": 0.032525,
     "end_time": "2021-03-20T23:22:37.418034",
     "exception": false,
     "start_time": "2021-03-20T23:22:37.385509",
     "status": "completed"
    },
    "tags": []
   },
   "outputs": [],
   "source": [
    "#X = train.iloc[:,4:].copy().values\n",
    "#select = VarianceThreshold(threshold=0.9)\n",
    "#X_new = select.fit_transform(X)\n",
    "#drop_feats = list(np.array(train.iloc[:,4:].columns)[select.get_support()==False])\n",
    "#print(len(drop_feats))\n",
    "\n",
    "#train.drop(drop_feats, axis=1, inplace=True)\n",
    "#test.drop(drop_feats, axis=1, inplace=True)\n",
    "\n",
    "g_feats = [i for i in train.columns if \"g-\" in i]\n",
    "c_feats = [i for i in train.columns if \"c-\" in i]"
   ]
  },
  {
   "cell_type": "code",
   "execution_count": 9,
   "metadata": {
    "execution": {
     "iopub.execute_input": "2021-03-20T23:22:37.455907Z",
     "iopub.status.busy": "2021-03-20T23:22:37.455088Z",
     "iopub.status.idle": "2021-03-20T23:22:45.522706Z",
     "shell.execute_reply": "2021-03-20T23:22:45.523259Z"
    },
    "papermill": {
     "duration": 8.089893,
     "end_time": "2021-03-20T23:22:45.523397",
     "exception": false,
     "start_time": "2021-03-20T23:22:37.433504",
     "status": "completed"
    },
    "tags": []
   },
   "outputs": [],
   "source": [
    "# rank gauss\n",
    "for i in c_feats + g_feats:\n",
    "    ss = preprocessing.QuantileTransformer(n_quantiles=100, random_state=0, output_distribution=\"normal\")\n",
    "    ss.fit(pd.concat([train[i], test[i]]).values.reshape(-1,1))\n",
    "    train[i] = ss.transform(train[i].values.reshape(-1,1))\n",
    "    test[i] = ss.transform(test[i].values.reshape(-1,1))"
   ]
  },
  {
   "cell_type": "code",
   "execution_count": 10,
   "metadata": {
    "execution": {
     "iopub.execute_input": "2021-03-20T23:22:45.573116Z",
     "iopub.status.busy": "2021-03-20T23:22:45.571644Z",
     "iopub.status.idle": "2021-03-20T23:22:47.197295Z",
     "shell.execute_reply": "2021-03-20T23:22:47.197948Z"
    },
    "papermill": {
     "duration": 1.658667,
     "end_time": "2021-03-20T23:22:47.198098",
     "exception": false,
     "start_time": "2021-03-20T23:22:45.539431",
     "status": "completed"
    },
    "tags": []
   },
   "outputs": [],
   "source": [
    "c_num = 5\n",
    "pca_c_cols = [\"pca-c\"+str(i+1) for i in range(c_num)]\n",
    "pca = PCA(n_components=c_num,random_state=42)\n",
    "c_train = pca.fit_transform(train[c_feats])\n",
    "c_test = pca.transform(test[c_feats])\n",
    "c_train = pd.DataFrame(c_train, columns=pca_c_cols)\n",
    "c_test = pd.DataFrame(c_test, columns=pca_c_cols)\n",
    "\n",
    "g_num = 30\n",
    "pca_g_cols = [\"pca-g\"+str(i+1) for i in range(g_num)]\n",
    "pca = PCA(n_components=g_num, random_state=42)\n",
    "g_train = pca.fit_transform(train[g_feats])\n",
    "g_test = pca.transform(test[g_feats])\n",
    "g_train = pd.DataFrame(g_train, columns=pca_g_cols)\n",
    "g_test = pd.DataFrame(g_test, columns=pca_g_cols)\n",
    "\n",
    "train = pd.concat([train, c_train],axis=1)\n",
    "test = pd.concat([test, c_test],axis=1)\n",
    "train = pd.concat([train, g_train],axis=1)\n",
    "test = pd.concat([test, g_test],axis=1)"
   ]
  },
  {
   "cell_type": "code",
   "execution_count": 11,
   "metadata": {
    "execution": {
     "iopub.execute_input": "2021-03-20T23:22:47.238503Z",
     "iopub.status.busy": "2021-03-20T23:22:47.237366Z",
     "iopub.status.idle": "2021-03-20T23:22:49.041511Z",
     "shell.execute_reply": "2021-03-20T23:22:49.041010Z"
    },
    "papermill": {
     "duration": 1.827492,
     "end_time": "2021-03-20T23:22:49.041617",
     "exception": false,
     "start_time": "2021-03-20T23:22:47.214125",
     "status": "completed"
    },
    "tags": []
   },
   "outputs": [],
   "source": [
    "def fe(df):\n",
    "    tmp = df.copy()\n",
    "    tmp['g_kurt'] = tmp[g_feats].kurtosis(axis = 1)\n",
    "    tmp['g_skew'] = tmp[g_feats].skew(axis = 1)\n",
    "    tmp['c_kurt'] = tmp[c_feats].kurtosis(axis = 1)\n",
    "    tmp['c_skew'] = tmp[c_feats].skew(axis = 1)\n",
    "    tmp = pd.get_dummies(tmp, columns=['cp_time','cp_dose'])\n",
    "    tmp.drop([\"cp_type\", \"sig_id\"], axis=1, inplace=True)\n",
    "    return tmp\n",
    "\n",
    "train = fe(train)\n",
    "test = fe(test)"
   ]
  },
  {
   "cell_type": "code",
   "execution_count": 12,
   "metadata": {
    "execution": {
     "iopub.execute_input": "2021-03-20T23:22:49.080712Z",
     "iopub.status.busy": "2021-03-20T23:22:49.079588Z",
     "iopub.status.idle": "2021-03-20T23:22:49.233010Z",
     "shell.execute_reply": "2021-03-20T23:22:49.233628Z"
    },
    "papermill": {
     "duration": 0.175522,
     "end_time": "2021-03-20T23:22:49.233791",
     "exception": false,
     "start_time": "2021-03-20T23:22:49.058269",
     "status": "completed"
    },
    "tags": []
   },
   "outputs": [
    {
     "name": "stdout",
     "output_type": "stream",
     "text": [
      "(21948, 916) (3624, 916) (23814, 206) (21948,)\n"
     ]
    }
   ],
   "source": [
    "fn_train = train.copy().to_numpy()\n",
    "fn_test = test.copy().to_numpy()\n",
    "fn_targets = y.copy().to_numpy()\n",
    "fn_multiclass_targets = multiclass_targets.copy().to_numpy()\n",
    "print(fn_train.shape, fn_test.shape, fn_targets.shape, fn_multiclass_targets.shape)"
   ]
  },
  {
   "cell_type": "markdown",
   "metadata": {
    "papermill": {
     "duration": 0.016152,
     "end_time": "2021-03-20T23:22:49.267548",
     "exception": false,
     "start_time": "2021-03-20T23:22:49.251396",
     "status": "completed"
    },
    "tags": []
   },
   "source": [
    "# modelling"
   ]
  },
  {
   "cell_type": "code",
   "execution_count": 13,
   "metadata": {
    "execution": {
     "iopub.execute_input": "2021-03-20T23:22:49.641021Z",
     "iopub.status.busy": "2021-03-20T23:22:49.640255Z",
     "iopub.status.idle": "2021-03-20T23:22:49.644236Z",
     "shell.execute_reply": "2021-03-20T23:22:49.643254Z"
    },
    "papermill": {
     "duration": 0.360603,
     "end_time": "2021-03-20T23:22:49.644355",
     "exception": false,
     "start_time": "2021-03-20T23:22:49.283752",
     "status": "completed"
    },
    "tags": []
   },
   "outputs": [],
   "source": [
    "device = \"cuda\" if torch.cuda.is_available() else \"cpu\""
   ]
  },
  {
   "cell_type": "code",
   "execution_count": 14,
   "metadata": {
    "execution": {
     "iopub.execute_input": "2021-03-20T23:22:49.696092Z",
     "iopub.status.busy": "2021-03-20T23:22:49.694302Z",
     "iopub.status.idle": "2021-03-20T23:22:49.698294Z",
     "shell.execute_reply": "2021-03-20T23:22:49.697662Z"
    },
    "papermill": {
     "duration": 0.037291,
     "end_time": "2021-03-20T23:22:49.698411",
     "exception": false,
     "start_time": "2021-03-20T23:22:49.661120",
     "status": "completed"
    },
    "tags": []
   },
   "outputs": [
    {
     "name": "stdout",
     "output_type": "stream",
     "text": [
      "cuda\n"
     ]
    }
   ],
   "source": [
    "print(device)\n",
    "def seed_everything(seed=42): \n",
    "    random.seed(seed)\n",
    "    os.environ['PYTHONHASHSEED'] = str(seed)\n",
    "    tf.random.set_seed(seed)\n",
    "    np.random.seed(seed)\n",
    "    torch.manual_seed(seed)\n",
    "    torch.cuda.manual_seed(seed)\n",
    "    torch.backends.cudnn.deterministic = True\n",
    "\n",
    "class MoaModel(nn.Module):\n",
    "    def __init__(self, num_columns, last_num):\n",
    "        super(MoaModel, self).__init__()\n",
    "        self.batch_norm1 = nn.BatchNorm1d(num_columns)\n",
    "        self.dropout1 = nn.Dropout(0.2)\n",
    "        self.dense1 = nn.utils.weight_norm(nn.Linear(num_columns, 1024))\n",
    "        self.relu1 = nn.LeakyReLU()\n",
    "        \n",
    "        self.batch_norm2 = nn.BatchNorm1d(1024)\n",
    "        self.dropout2 = nn.Dropout(0.2)\n",
    "        self.dense2 = nn.utils.weight_norm(nn.Linear(1024, 1024))\n",
    "        self.relu2 = nn.LeakyReLU()\n",
    "        \n",
    "        self.batch_norm3 = nn.BatchNorm1d(1024)\n",
    "        self.dropout3 = nn.Dropout(0.2)\n",
    "        self.dense3 = nn.utils.weight_norm(nn.Linear(1024, 1024))\n",
    "        self.relu3 = nn.LeakyReLU()\n",
    "        \n",
    "        self.batch_norm4 = nn.BatchNorm1d(1024)\n",
    "        self.dropout4 = nn.Dropout(0.2)\n",
    "        self.dense4 = nn.utils.weight_norm(nn.Linear(1024, last_num))\n",
    "        \n",
    "    def forward(self, x):\n",
    "        x = self.batch_norm1(x)\n",
    "        x = self.dropout1(x)\n",
    "        x = self.relu1(self.dense1(x))\n",
    "        \n",
    "        x = self.batch_norm2(x)\n",
    "        x = self.dropout2(x)\n",
    "        x = self.relu2(self.dense2(x))\n",
    "        \n",
    "        x = self.batch_norm3(x)\n",
    "        x = self.dropout3(x)\n",
    "        x = self.relu3(self.dense3(x))\n",
    "        \n",
    "        x = self.batch_norm4(x)\n",
    "        x = self.dropout4(x)\n",
    "        x = self.dense4(x)\n",
    "        \n",
    "        return x"
   ]
  },
  {
   "cell_type": "markdown",
   "metadata": {
    "papermill": {
     "duration": 0.016518,
     "end_time": "2021-03-20T23:22:49.732828",
     "exception": false,
     "start_time": "2021-03-20T23:22:49.716310",
     "status": "completed"
    },
    "tags": []
   },
   "source": [
    "# modelling"
   ]
  },
  {
   "cell_type": "code",
   "execution_count": 15,
   "metadata": {
    "execution": {
     "iopub.execute_input": "2021-03-20T23:22:49.789759Z",
     "iopub.status.busy": "2021-03-20T23:22:49.774135Z",
     "iopub.status.idle": "2021-03-20T23:22:49.801982Z",
     "shell.execute_reply": "2021-03-20T23:22:49.801539Z"
    },
    "papermill": {
     "duration": 0.05229,
     "end_time": "2021-03-20T23:22:49.802065",
     "exception": false,
     "start_time": "2021-03-20T23:22:49.749775",
     "status": "completed"
    },
    "tags": []
   },
   "outputs": [],
   "source": [
    "batch_size = 128\n",
    "n_folds=7\n",
    "EARLY_STOPPING_STEPS = 10\n",
    "smoothing = 0.001\n",
    "p_min = smoothing\n",
    "p_max = 1 - smoothing\n",
    "train_epochs = 10\n",
    "\n",
    "def multi_log_loss(y_true, y_pred):\n",
    "    metrics = []\n",
    "    for i, target in enumerate(target_feats):\n",
    "        metrics.append(log_loss(y_true[:, i], y_pred[:, i].astype(float), labels=[0,1]))\n",
    "    return np.mean(metrics)\n",
    "    \n",
    "def modelling_torch(tr, target, te, sample_seed, init_num, last_num):\n",
    "    seed_everything(seed=sample_seed) \n",
    "    X_train = tr.copy()\n",
    "    y_train = target.copy()\n",
    "    X_test = te.copy()\n",
    "    test_len = X_test.shape[0]\n",
    "    \n",
    "    mskf=KFold(n_splits = n_folds, shuffle=True, random_state=224)\n",
    "\n",
    "    models = []\n",
    "    \n",
    "    X_test2 = torch.tensor(X_test, dtype=torch.float32)\n",
    "    test = torch.utils.data.TensorDataset(X_test2) \n",
    "    test_loader = torch.utils.data.DataLoader(test, batch_size=batch_size, shuffle=False)\n",
    "    \n",
    "    oof = np.zeros([len(X_train),last_num])\n",
    "    oof_targets = np.zeros([len(X_train),last_num])\n",
    "    pred_value = np.zeros([test_len, last_num])\n",
    "    for fold, (train_index, valid_index) in enumerate(mskf.split(X_train, y_train)):\n",
    "        print(\"Seed \"+str(sample_seed)+\"_Fold \"+str(fold+1))\n",
    "        X_train2 = torch.tensor(X_train[train_index,:], dtype=torch.float32)\n",
    "        y_train2 = torch.tensor(y_train[train_index], dtype=torch.long)\n",
    "\n",
    "        X_valid2 = torch.tensor(X_train[valid_index,:], dtype=torch.float32)\n",
    "        y_valid2 = torch.tensor(y_train[valid_index], dtype=torch.long)\n",
    "        \n",
    "        train = torch.utils.data.TensorDataset(X_train2, y_train2)\n",
    "        valid = torch.utils.data.TensorDataset(X_valid2, y_valid2)\n",
    "        \n",
    "        train_loader = torch.utils.data.DataLoader(train, batch_size=batch_size, shuffle=True) \n",
    "        valid_loader = torch.utils.data.DataLoader(valid, batch_size=batch_size, shuffle=False)\n",
    "            \n",
    "        clf = MoaModel(init_num, last_num)\n",
    "        loss_fn = nn.CrossEntropyLoss() \n",
    "\n",
    "        optimizer = optim.Adam(clf.parameters(), lr = 0.01, weight_decay=1e-5) \n",
    "        scheduler = optim.lr_scheduler.OneCycleLR(optimizer=optimizer, pct_start=0.1, div_factor=1e3, \n",
    "                                              max_lr=1e-2, epochs=train_epochs, steps_per_epoch=len(train_loader))\n",
    "        \n",
    "        clf.to(device)\n",
    "        \n",
    "        best_val_loss = np.inf\n",
    "        stop_counts = 0\n",
    "        for epoch in range(train_epochs):\n",
    "            start_time = time.time()\n",
    "            clf.train()\n",
    "            avg_loss = 0.\n",
    "            for x_batch, y_batch in tqdm(train_loader, disable=True):\n",
    "                x_batch = x_batch.to(device)\n",
    "                y_batch = y_batch.to(device)\n",
    "                y_pred = clf(x_batch)\n",
    "                loss = loss_fn(y_pred, y_batch)\n",
    "                optimizer.zero_grad()\n",
    "                loss.backward()\n",
    "                optimizer.step()\n",
    "                scheduler.step()\n",
    "                avg_loss += loss.item() / len(train_loader)  \n",
    "                \n",
    "            clf.eval()\n",
    "            avg_val_loss = 0.\n",
    "            for i, (x_batch, y_batch) in enumerate(valid_loader): \n",
    "                x_batch = x_batch.to(device)\n",
    "                y_batch = y_batch.to(device)\n",
    "                y_pred = clf(x_batch).detach()\n",
    "                avg_val_loss += loss_fn(y_pred, y_batch).item() / len(valid_loader)\n",
    "        \n",
    "            elapsed_time = time.time() - start_time \n",
    "                    \n",
    "            if avg_val_loss < best_val_loss:\n",
    "                best_val_loss = avg_val_loss\n",
    "                print('Epoch {}  loss={:.5f}  val_loss={:.5f}  time={:.2f}s'.format(\n",
    "                    epoch + 1, avg_loss, avg_val_loss, elapsed_time))\n",
    "                torch.save(clf.state_dict(), 'best-model-parameters.pt')\n",
    "                stop_counts = 0\n",
    "            else:\n",
    "                stop_counts += 1\n",
    "                \n",
    "            if stop_counts >= EARLY_STOPPING_STEPS:\n",
    "                break\n",
    "        \n",
    "        pred_model = MoaModel(init_num, last_num)\n",
    "        pred_model.load_state_dict(torch.load('best-model-parameters.pt'))         \n",
    "        pred_model.eval()\n",
    "        \n",
    "        # validation check ----------------\n",
    "        oof_epoch = np.zeros([X_valid2.size(0), last_num])\n",
    "        target_epoch = np.zeros([X_valid2.size(0), last_num])\n",
    "        for i, (x_batch, y_batch) in enumerate(valid_loader): \n",
    "            y_pred = pred_model(x_batch).detach()\n",
    "            oof_epoch[i * batch_size:(i+1) * batch_size,:] = F.softmax(y_pred.cpu()) \n",
    "        oof[valid_index,:] = oof_epoch\n",
    "        #-----------------------------------\n",
    "        \n",
    "        # test predcition --------------\n",
    "        test_preds = np.zeros([test_len, last_num])\n",
    "        for i, (x_batch,) in enumerate(test_loader): \n",
    "            y_pred = pred_model(x_batch).detach()\n",
    "            test_preds[i * batch_size:(i+1) * batch_size, :] = F.softmax(y_pred.cpu()) \n",
    "        pred_value += test_preds / n_folds\n",
    "        # ------------------------------\n",
    "    \n",
    "    return oof, pred_value"
   ]
  },
  {
   "cell_type": "code",
   "execution_count": 16,
   "metadata": {
    "execution": {
     "iopub.execute_input": "2021-03-20T23:22:49.842724Z",
     "iopub.status.busy": "2021-03-20T23:22:49.841966Z",
     "iopub.status.idle": "2021-03-20T23:28:59.064692Z",
     "shell.execute_reply": "2021-03-20T23:28:59.064163Z"
    },
    "papermill": {
     "duration": 369.245926,
     "end_time": "2021-03-20T23:28:59.064804",
     "exception": false,
     "start_time": "2021-03-20T23:22:49.818878",
     "status": "completed"
    },
    "tags": []
   },
   "outputs": [
    {
     "name": "stdout",
     "output_type": "stream",
     "text": [
      "Seed 0_Fold 1\n",
      "Epoch 1  loss=4.10626  val_loss=3.36533  time=1.48s\n",
      "Epoch 2  loss=3.19668  val_loss=3.13014  time=0.86s\n",
      "Epoch 3  loss=2.96203  val_loss=3.05159  time=0.85s\n",
      "Epoch 4  loss=2.79299  val_loss=3.01550  time=0.89s\n",
      "Epoch 5  loss=2.61901  val_loss=2.98359  time=0.94s\n",
      "Seed 0_Fold 2\n",
      "Epoch 1  loss=4.10748  val_loss=3.24588  time=0.89s\n",
      "Epoch 2  loss=3.21134  val_loss=3.02874  time=0.86s\n",
      "Epoch 3  loss=2.97499  val_loss=2.93558  time=0.86s\n",
      "Epoch 4  loss=2.80421  val_loss=2.90200  time=0.85s\n",
      "Epoch 5  loss=2.62002  val_loss=2.89970  time=0.86s\n",
      "Epoch 6  loss=2.38461  val_loss=2.87836  time=0.87s\n",
      "Seed 0_Fold 3\n",
      "Epoch 1  loss=4.10451  val_loss=3.40513  time=0.87s\n",
      "Epoch 2  loss=3.18089  val_loss=3.16686  time=0.87s\n",
      "Epoch 3  loss=2.94902  val_loss=3.10313  time=0.87s\n",
      "Epoch 4  loss=2.78278  val_loss=3.04417  time=0.87s\n",
      "Epoch 5  loss=2.59749  val_loss=3.02182  time=0.88s\n",
      "Seed 0_Fold 4\n",
      "Epoch 1  loss=4.09976  val_loss=3.40870  time=1.12s\n",
      "Epoch 2  loss=3.16035  val_loss=3.21685  time=0.86s\n",
      "Epoch 3  loss=2.96018  val_loss=3.15199  time=0.86s\n",
      "Epoch 4  loss=2.78706  val_loss=3.09965  time=0.86s\n",
      "Epoch 5  loss=2.61389  val_loss=3.07492  time=0.87s\n",
      "Seed 0_Fold 5\n",
      "Epoch 1  loss=4.10217  val_loss=3.27581  time=0.99s\n",
      "Epoch 2  loss=3.21775  val_loss=3.12968  time=0.86s\n",
      "Epoch 3  loss=2.99970  val_loss=3.00080  time=0.86s\n",
      "Epoch 4  loss=2.81864  val_loss=2.93417  time=0.86s\n",
      "Epoch 5  loss=2.63204  val_loss=2.91455  time=0.86s\n",
      "Seed 0_Fold 6\n",
      "Epoch 1  loss=4.12265  val_loss=3.25155  time=0.86s\n",
      "Epoch 2  loss=3.20806  val_loss=3.09531  time=0.86s\n",
      "Epoch 3  loss=2.98985  val_loss=2.98519  time=0.86s\n",
      "Epoch 4  loss=2.80945  val_loss=2.96282  time=0.86s\n",
      "Epoch 5  loss=2.63830  val_loss=2.92690  time=0.88s\n",
      "Seed 0_Fold 7\n",
      "Epoch 1  loss=4.09565  val_loss=3.26519  time=1.08s\n",
      "Epoch 2  loss=3.18337  val_loss=3.05454  time=1.25s\n",
      "Epoch 3  loss=2.97778  val_loss=3.03764  time=0.94s\n",
      "Epoch 4  loss=2.80354  val_loss=2.96126  time=0.87s\n",
      "Epoch 5  loss=2.61414  val_loss=2.94070  time=0.87s\n",
      "Seed 1_Fold 1\n",
      "Epoch 1  loss=4.11945  val_loss=3.29924  time=1.05s\n",
      "Epoch 2  loss=3.21392  val_loss=3.11835  time=0.87s\n",
      "Epoch 3  loss=2.97022  val_loss=3.05013  time=0.86s\n",
      "Epoch 4  loss=2.81734  val_loss=3.00566  time=0.86s\n",
      "Epoch 5  loss=2.62910  val_loss=2.98253  time=0.87s\n",
      "Seed 1_Fold 2\n",
      "Epoch 1  loss=4.09677  val_loss=3.24821  time=0.86s\n",
      "Epoch 2  loss=3.21762  val_loss=3.02931  time=1.08s\n",
      "Epoch 3  loss=2.97586  val_loss=2.94940  time=0.86s\n",
      "Epoch 4  loss=2.81411  val_loss=2.90589  time=0.88s\n",
      "Epoch 5  loss=2.63002  val_loss=2.86137  time=0.86s\n",
      "Seed 1_Fold 3\n",
      "Epoch 1  loss=4.12427  val_loss=3.37746  time=0.87s\n",
      "Epoch 2  loss=3.17148  val_loss=3.17627  time=0.86s\n",
      "Epoch 3  loss=2.95882  val_loss=3.08322  time=1.42s\n",
      "Epoch 4  loss=2.78365  val_loss=3.04036  time=0.90s\n",
      "Epoch 5  loss=2.59897  val_loss=3.04034  time=0.95s\n",
      "Seed 1_Fold 4\n",
      "Epoch 1  loss=4.09580  val_loss=3.39547  time=0.86s\n",
      "Epoch 2  loss=3.18733  val_loss=3.20928  time=0.87s\n",
      "Epoch 3  loss=2.95781  val_loss=3.13025  time=1.07s\n",
      "Epoch 4  loss=2.78123  val_loss=3.12248  time=0.87s\n",
      "Epoch 5  loss=2.61068  val_loss=3.06069  time=0.87s\n",
      "Seed 1_Fold 5\n",
      "Epoch 1  loss=4.12382  val_loss=3.30636  time=0.86s\n",
      "Epoch 2  loss=3.20418  val_loss=3.09137  time=0.86s\n",
      "Epoch 3  loss=2.98016  val_loss=2.99488  time=0.86s\n",
      "Epoch 4  loss=2.80627  val_loss=2.94195  time=1.10s\n",
      "Epoch 5  loss=2.62752  val_loss=2.91077  time=0.86s\n",
      "Seed 1_Fold 6\n",
      "Epoch 1  loss=4.09762  val_loss=3.25957  time=0.93s\n",
      "Epoch 2  loss=3.19052  val_loss=3.08530  time=0.88s\n",
      "Epoch 3  loss=2.98170  val_loss=2.99455  time=0.86s\n",
      "Epoch 4  loss=2.80373  val_loss=2.94023  time=0.86s\n",
      "Epoch 5  loss=2.61253  val_loss=2.92070  time=1.45s\n",
      "Seed 1_Fold 7\n",
      "Epoch 1  loss=4.11005  val_loss=3.31119  time=0.86s\n",
      "Epoch 2  loss=3.22243  val_loss=3.07585  time=0.86s\n",
      "Epoch 3  loss=2.97525  val_loss=2.99030  time=0.86s\n",
      "Epoch 4  loss=2.80368  val_loss=2.94796  time=0.85s\n",
      "Epoch 5  loss=2.62427  val_loss=2.92454  time=1.05s\n",
      "Seed 2_Fold 1\n",
      "Epoch 1  loss=4.10931  val_loss=3.34555  time=0.86s\n",
      "Epoch 2  loss=3.19147  val_loss=3.12788  time=0.86s\n",
      "Epoch 3  loss=2.97478  val_loss=3.06851  time=0.89s\n",
      "Epoch 4  loss=2.80250  val_loss=3.01423  time=0.85s\n",
      "Epoch 5  loss=2.62148  val_loss=2.98019  time=0.87s\n",
      "Epoch 6  loss=2.41207  val_loss=2.96930  time=1.07s\n",
      "Seed 2_Fold 2\n",
      "Epoch 1  loss=4.12306  val_loss=3.28951  time=0.85s\n",
      "Epoch 2  loss=3.22327  val_loss=3.06099  time=0.87s\n",
      "Epoch 3  loss=2.99803  val_loss=2.95374  time=0.91s\n",
      "Epoch 4  loss=2.83636  val_loss=2.90452  time=0.88s\n",
      "Epoch 5  loss=2.64960  val_loss=2.85858  time=0.87s\n",
      "Seed 2_Fold 3\n",
      "Epoch 1  loss=4.10755  val_loss=3.41432  time=0.86s\n",
      "Epoch 2  loss=3.18435  val_loss=3.17019  time=0.90s\n",
      "Epoch 3  loss=2.97202  val_loss=3.10880  time=0.91s\n",
      "Epoch 4  loss=2.78398  val_loss=3.07107  time=0.86s\n",
      "Epoch 5  loss=2.61442  val_loss=3.03347  time=0.86s\n",
      "Seed 2_Fold 4\n",
      "Epoch 1  loss=4.10303  val_loss=3.43861  time=0.86s\n",
      "Epoch 2  loss=3.16720  val_loss=3.20752  time=0.89s\n",
      "Epoch 3  loss=2.94915  val_loss=3.13210  time=0.85s\n",
      "Epoch 4  loss=2.78777  val_loss=3.06382  time=0.86s\n",
      "Seed 2_Fold 5\n",
      "Epoch 1  loss=4.10104  val_loss=3.28274  time=0.92s\n",
      "Epoch 2  loss=3.19841  val_loss=3.09219  time=0.92s\n",
      "Epoch 3  loss=2.97254  val_loss=3.00575  time=0.90s\n",
      "Epoch 4  loss=2.79286  val_loss=2.96526  time=0.86s\n",
      "Epoch 5  loss=2.60459  val_loss=2.94725  time=0.92s\n",
      "Seed 2_Fold 6\n",
      "Epoch 1  loss=4.13800  val_loss=3.24231  time=0.86s\n",
      "Epoch 2  loss=3.19414  val_loss=3.05479  time=0.86s\n",
      "Epoch 3  loss=2.97105  val_loss=2.99412  time=0.86s\n",
      "Epoch 4  loss=2.81494  val_loss=2.94651  time=0.87s\n",
      "Epoch 5  loss=2.63459  val_loss=2.90467  time=0.86s\n",
      "Seed 2_Fold 7\n",
      "Epoch 1  loss=4.11990  val_loss=3.27717  time=0.89s\n",
      "Epoch 2  loss=3.18786  val_loss=3.07466  time=0.86s\n",
      "Epoch 3  loss=2.97581  val_loss=3.00376  time=0.86s\n",
      "Epoch 4  loss=2.80608  val_loss=2.96942  time=0.87s\n",
      "Epoch 5  loss=2.62302  val_loss=2.94395  time=0.87s\n",
      "Seed 3_Fold 1\n",
      "Epoch 1  loss=4.09923  val_loss=3.34201  time=0.87s\n",
      "Epoch 2  loss=3.18648  val_loss=3.12566  time=0.86s\n",
      "Epoch 3  loss=2.97286  val_loss=3.04801  time=0.86s\n",
      "Epoch 4  loss=2.79875  val_loss=3.00629  time=0.88s\n",
      "Epoch 5  loss=2.60579  val_loss=3.00240  time=0.86s\n",
      "Epoch 6  loss=2.39340  val_loss=2.99101  time=0.88s\n",
      "Seed 3_Fold 2\n",
      "Epoch 1  loss=4.13394  val_loss=3.19867  time=0.86s\n",
      "Epoch 2  loss=3.18537  val_loss=3.03790  time=0.91s\n",
      "Epoch 3  loss=2.98195  val_loss=2.95195  time=0.87s\n",
      "Epoch 4  loss=2.80807  val_loss=2.89892  time=0.86s\n",
      "Epoch 5  loss=2.61211  val_loss=2.89131  time=0.96s\n",
      "Seed 3_Fold 3\n",
      "Epoch 1  loss=4.11079  val_loss=3.41229  time=0.90s\n",
      "Epoch 2  loss=3.20488  val_loss=3.18521  time=0.86s\n",
      "Epoch 3  loss=2.97268  val_loss=3.09629  time=0.87s\n",
      "Epoch 4  loss=2.80512  val_loss=3.06113  time=0.87s\n",
      "Epoch 5  loss=2.62860  val_loss=3.03593  time=0.86s\n",
      "Seed 3_Fold 4\n",
      "Epoch 1  loss=4.08335  val_loss=3.39738  time=1.05s\n",
      "Epoch 2  loss=3.17631  val_loss=3.23447  time=0.87s\n",
      "Epoch 3  loss=2.95709  val_loss=3.15127  time=0.88s\n",
      "Epoch 4  loss=2.77689  val_loss=3.10006  time=0.86s\n",
      "Epoch 5  loss=2.60217  val_loss=3.07288  time=0.86s\n",
      "Seed 3_Fold 5\n",
      "Epoch 1  loss=4.08086  val_loss=3.26623  time=1.06s\n",
      "Epoch 2  loss=3.21063  val_loss=3.13243  time=0.87s\n",
      "Epoch 3  loss=2.98878  val_loss=2.99279  time=0.88s\n",
      "Epoch 4  loss=2.80827  val_loss=2.93329  time=0.92s\n",
      "Epoch 5  loss=2.62078  val_loss=2.92266  time=0.88s\n",
      "Seed 3_Fold 6\n",
      "Epoch 1  loss=4.07623  val_loss=3.29869  time=0.91s\n",
      "Epoch 2  loss=3.21322  val_loss=3.05074  time=1.15s\n",
      "Epoch 3  loss=2.97182  val_loss=2.97968  time=0.92s\n",
      "Epoch 4  loss=2.80072  val_loss=2.94232  time=0.91s\n",
      "Epoch 5  loss=2.62671  val_loss=2.89930  time=0.92s\n",
      "Seed 3_Fold 7\n",
      "Epoch 1  loss=4.08802  val_loss=3.28815  time=1.03s\n",
      "Epoch 2  loss=3.21142  val_loss=3.08569  time=1.08s\n",
      "Epoch 3  loss=2.97149  val_loss=3.01039  time=0.87s\n",
      "Epoch 4  loss=2.80092  val_loss=2.95559  time=0.87s\n",
      "Epoch 5  loss=2.62920  val_loss=2.95504  time=0.86s\n",
      "Seed 4_Fold 1\n",
      "Epoch 1  loss=4.14019  val_loss=3.33914  time=0.90s\n",
      "Epoch 2  loss=3.20387  val_loss=3.16206  time=0.95s\n",
      "Epoch 3  loss=2.97650  val_loss=3.05349  time=0.97s\n",
      "Epoch 4  loss=2.79193  val_loss=3.01327  time=0.87s\n",
      "Epoch 5  loss=2.62133  val_loss=3.00843  time=0.93s\n",
      "Seed 4_Fold 2\n",
      "Epoch 1  loss=4.13205  val_loss=3.27930  time=0.90s\n",
      "Epoch 2  loss=3.19797  val_loss=3.05856  time=0.86s\n",
      "Epoch 3  loss=2.98957  val_loss=2.96275  time=1.07s\n",
      "Epoch 4  loss=2.82228  val_loss=2.91431  time=0.97s\n",
      "Epoch 5  loss=2.63096  val_loss=2.90417  time=0.88s\n",
      "Seed 4_Fold 3\n",
      "Epoch 1  loss=4.08985  val_loss=3.41170  time=0.86s\n",
      "Epoch 2  loss=3.18928  val_loss=3.16810  time=0.86s\n",
      "Epoch 3  loss=2.96250  val_loss=3.07921  time=0.87s\n",
      "Epoch 4  loss=2.79271  val_loss=3.07315  time=1.09s\n",
      "Epoch 5  loss=2.62591  val_loss=3.02496  time=0.86s\n",
      "Seed 4_Fold 4\n",
      "Epoch 1  loss=4.05986  val_loss=3.42981  time=1.14s\n",
      "Epoch 2  loss=3.18990  val_loss=3.22182  time=0.87s\n",
      "Epoch 3  loss=2.95558  val_loss=3.14487  time=0.87s\n",
      "Epoch 4  loss=2.78422  val_loss=3.12137  time=1.00s\n",
      "Epoch 5  loss=2.60805  val_loss=3.06478  time=0.93s\n",
      "Seed 4_Fold 5\n",
      "Epoch 1  loss=4.07305  val_loss=3.24388  time=0.90s\n",
      "Epoch 2  loss=3.21499  val_loss=3.13138  time=0.86s\n",
      "Epoch 3  loss=2.98576  val_loss=2.99909  time=0.87s\n",
      "Epoch 4  loss=2.83184  val_loss=2.95242  time=0.87s\n",
      "Epoch 5  loss=2.63548  val_loss=2.91114  time=1.09s\n",
      "Seed 4_Fold 6\n",
      "Epoch 1  loss=4.12834  val_loss=3.32513  time=0.86s\n",
      "Epoch 2  loss=3.20544  val_loss=3.05630  time=0.87s\n",
      "Epoch 3  loss=2.99145  val_loss=2.98121  time=0.86s\n",
      "Epoch 4  loss=2.81408  val_loss=2.95309  time=0.88s\n",
      "Epoch 5  loss=2.63864  val_loss=2.93010  time=0.87s\n",
      "Epoch 6  loss=2.40746  val_loss=2.89882  time=1.08s\n",
      "Seed 4_Fold 7\n",
      "Epoch 1  loss=4.14901  val_loss=3.32091  time=0.87s\n",
      "Epoch 2  loss=3.20646  val_loss=3.06344  time=1.12s\n",
      "Epoch 3  loss=2.98990  val_loss=3.01049  time=0.95s\n",
      "Epoch 4  loss=2.81341  val_loss=2.98636  time=0.87s\n",
      "Epoch 5  loss=2.63763  val_loss=2.91231  time=0.86s\n"
     ]
    }
   ],
   "source": [
    "seeds = [0,1,2,3,4]\n",
    "target_oof = np.zeros([len(fn_train), class_num])\n",
    "target_pred = np.zeros([len(fn_test), class_num])\n",
    "\n",
    "for seed_ in seeds:\n",
    "    best_oof, pytorch_pred = modelling_torch(fn_train, fn_multiclass_targets, fn_test, seed_, fn_train.shape[1], class_num)\n",
    "    target_oof += best_oof / len(seeds)\n",
    "    target_pred += pytorch_pred / len(seeds)"
   ]
  },
  {
   "cell_type": "code",
   "execution_count": 17,
   "metadata": {
    "execution": {
     "iopub.execute_input": "2021-03-20T23:28:59.217763Z",
     "iopub.status.busy": "2021-03-20T23:28:59.216943Z",
     "iopub.status.idle": "2021-03-20T23:28:59.287651Z",
     "shell.execute_reply": "2021-03-20T23:28:59.287186Z"
    },
    "papermill": {
     "duration": 0.147876,
     "end_time": "2021-03-20T23:28:59.287756",
     "exception": false,
     "start_time": "2021-03-20T23:28:59.139880",
     "status": "completed"
    },
    "tags": []
   },
   "outputs": [],
   "source": [
    "target_oof = np.dot(target_oof, classid_target)\n",
    "target_pred = np.dot(target_pred, classid_target)"
   ]
  },
  {
   "cell_type": "code",
   "execution_count": 18,
   "metadata": {
    "execution": {
     "iopub.execute_input": "2021-03-20T23:28:59.456238Z",
     "iopub.status.busy": "2021-03-20T23:28:59.455334Z",
     "iopub.status.idle": "2021-03-20T23:29:05.551944Z",
     "shell.execute_reply": "2021-03-20T23:29:05.551106Z"
    },
    "papermill": {
     "duration": 6.189287,
     "end_time": "2021-03-20T23:29:05.552126",
     "exception": false,
     "start_time": "2021-03-20T23:28:59.362839",
     "status": "completed"
    },
    "tags": []
   },
   "outputs": [
    {
     "name": "stdout",
     "output_type": "stream",
     "text": [
      "OOF log loss:  0.01468647512227995\n"
     ]
    }
   ],
   "source": [
    "t = pd.read_csv(DATA_DIR + 'train_targets_scored.csv')\n",
    "train_checkscore = t.copy()\n",
    "train_checkscore.loc[train_checkscore.index.isin(cons_train_index),target_feats] = np.clip(target_oof, p_min, p_max)\n",
    "train_checkscore.loc[train_checkscore.index.isin(noncons_train_index),target_feats] = 0\n",
    "t.drop(\"sig_id\", axis=1, inplace=True)\n",
    "print('OOF log loss: ', log_loss(np.ravel(t), np.ravel(np.array(train_checkscore.iloc[:,1:]))))"
   ]
  },
  {
   "cell_type": "code",
   "execution_count": 19,
   "metadata": {
    "execution": {
     "iopub.execute_input": "2021-03-20T23:29:05.768328Z",
     "iopub.status.busy": "2021-03-20T23:29:05.767472Z",
     "iopub.status.idle": "2021-03-20T23:29:13.555644Z",
     "shell.execute_reply": "2021-03-20T23:29:13.555139Z"
    },
    "papermill": {
     "duration": 7.879806,
     "end_time": "2021-03-20T23:29:13.555758",
     "exception": false,
     "start_time": "2021-03-20T23:29:05.675952",
     "status": "completed"
    },
    "tags": []
   },
   "outputs": [],
   "source": [
    "train_checkscore.to_csv(\"mlp_oof.csv\", index=False)"
   ]
  },
  {
   "cell_type": "code",
   "execution_count": 20,
   "metadata": {
    "execution": {
     "iopub.execute_input": "2021-03-20T23:29:13.712927Z",
     "iopub.status.busy": "2021-03-20T23:29:13.712105Z",
     "iopub.status.idle": "2021-03-20T23:29:15.393673Z",
     "shell.execute_reply": "2021-03-20T23:29:15.393159Z"
    },
    "papermill": {
     "duration": 1.761421,
     "end_time": "2021-03-20T23:29:15.393780",
     "exception": false,
     "start_time": "2021-03-20T23:29:13.632359",
     "status": "completed"
    },
    "tags": []
   },
   "outputs": [],
   "source": [
    "sub.loc[cons_test_index,target_feats] = np.clip(target_pred, p_min, p_max)\n",
    "sub.loc[noncons_test_index,target_feats] = 0\n",
    "sub.to_csv('submission.csv', index=False)"
   ]
  },
  {
   "cell_type": "code",
   "execution_count": null,
   "metadata": {
    "papermill": {
     "duration": 0.075381,
     "end_time": "2021-03-20T23:29:15.545074",
     "exception": false,
     "start_time": "2021-03-20T23:29:15.469693",
     "status": "completed"
    },
    "tags": []
   },
   "outputs": [],
   "source": []
  }
 ],
 "metadata": {
  "kernelspec": {
   "display_name": "Python 3",
   "language": "python",
   "name": "python3"
  },
  "language_info": {
   "codemirror_mode": {
    "name": "ipython",
    "version": 3
   },
   "file_extension": ".py",
   "mimetype": "text/x-python",
   "name": "python",
   "nbconvert_exporter": "python",
   "pygments_lexer": "ipython3",
   "version": "3.7.6"
  },
  "papermill": {
   "duration": 428.357987,
   "end_time": "2021-03-20T23:29:16.133540",
   "environment_variables": {},
   "exception": null,
   "input_path": "__notebook__.ipynb",
   "output_path": "__notebook__.ipynb",
   "parameters": {},
   "start_time": "2021-03-20T23:22:07.775553",
   "version": "2.1.0"
  }
 },
 "nbformat": 4,
 "nbformat_minor": 4
}
