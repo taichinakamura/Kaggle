{
 "cells": [
  {
   "cell_type": "markdown",
   "metadata": {
    "papermill": {
     "duration": 0.01884,
     "end_time": "2021-03-19T08:30:21.016908",
     "exception": false,
     "start_time": "2021-03-19T08:30:20.998068",
     "status": "completed"
    },
    "tags": []
   },
   "source": [
    "**Late submission**\n",
    "- solve as a multiclass classification problem\n",
    "- cancel label smoothing because it is for multilabel task\n",
    "- change learning shceduler parameter\n",
    "- add postprocess (clipping)"
   ]
  },
  {
   "cell_type": "code",
   "execution_count": 1,
   "metadata": {
    "_cell_guid": "b1076dfc-b9ad-4769-8c92-a6c4dae69d19",
    "_uuid": "8f2839f25d086af736a60e9eeb907d3b93b6e0e5",
    "execution": {
     "iopub.execute_input": "2021-03-19T08:30:21.062218Z",
     "iopub.status.busy": "2021-03-19T08:30:21.061610Z",
     "iopub.status.idle": "2021-03-19T08:30:30.834157Z",
     "shell.execute_reply": "2021-03-19T08:30:30.833028Z"
    },
    "papermill": {
     "duration": 9.799745,
     "end_time": "2021-03-19T08:30:30.834292",
     "exception": false,
     "start_time": "2021-03-19T08:30:21.034547",
     "status": "completed"
    },
    "tags": []
   },
   "outputs": [
    {
     "name": "stderr",
     "output_type": "stream",
     "text": [
      "/opt/conda/lib/python3.7/site-packages/ipykernel_launcher.py:21: TqdmDeprecationWarning: This function will be removed in tqdm==5.0.0\n",
      "Please use `tqdm.notebook.*` instead of `tqdm._tqdm_notebook.*`\n"
     ]
    }
   ],
   "source": [
    "import os\n",
    "import sys\n",
    "import random\n",
    "import warnings\n",
    "import numpy as np\n",
    "import pandas as pd \n",
    "from umap import UMAP\n",
    "import networkx as nx\n",
    "from sklearn import preprocessing\n",
    "from sklearn.metrics import log_loss,roc_auc_score\n",
    "from sklearn.decomposition import PCA\n",
    "from tqdm import tqdm_notebook as tqdm\n",
    "from sklearn.cluster import KMeans\n",
    "from sklearn.multioutput import MultiOutputClassifier\n",
    "from sklearn.feature_selection import VarianceThreshold\n",
    "from sklearn.compose import make_column_transformer,ColumnTransformer\n",
    "from sklearn.base import BaseEstimator,TransformerMixin\n",
    "from sklearn.pipeline import make_pipeline,make_union\n",
    "from sklearn.decomposition import TruncatedSVD\n",
    "from sklearn.model_selection import StratifiedKFold, KFold\n",
    "from tqdm._tqdm_notebook import tqdm_notebook\n",
    "\n",
    "sys.path.append('../input/multilabelstraifier/')\n",
    "from ml_stratifiers import MultilabelStratifiedKFold\n",
    "warnings.filterwarnings('ignore')\n",
    "\n",
    "import time\n",
    "import torch\n",
    "import torch.nn as nn\n",
    "import torch.optim as optim\n",
    "import torch.nn.functional as F\n",
    "import tensorflow as tf\n",
    "from torch.nn.modules.loss import _WeightedLoss\n",
    "from sklearn.utils import check_random_state"
   ]
  },
  {
   "cell_type": "markdown",
   "metadata": {
    "papermill": {
     "duration": 0.018817,
     "end_time": "2021-03-19T08:30:30.872562",
     "exception": false,
     "start_time": "2021-03-19T08:30:30.853745",
     "status": "completed"
    },
    "tags": []
   },
   "source": [
    "# final engineering"
   ]
  },
  {
   "cell_type": "code",
   "execution_count": 2,
   "metadata": {
    "execution": {
     "iopub.execute_input": "2021-03-19T08:30:30.917248Z",
     "iopub.status.busy": "2021-03-19T08:30:30.916722Z",
     "iopub.status.idle": "2021-03-19T08:30:39.246701Z",
     "shell.execute_reply": "2021-03-19T08:30:39.245618Z"
    },
    "papermill": {
     "duration": 8.35678,
     "end_time": "2021-03-19T08:30:39.246829",
     "exception": false,
     "start_time": "2021-03-19T08:30:30.890049",
     "status": "completed"
    },
    "tags": []
   },
   "outputs": [],
   "source": [
    "DATA_DIR = '/kaggle/input/lish-moa/'\n",
    "train = pd.read_csv(DATA_DIR + 'train_features.csv')\n",
    "targets = pd.read_csv(DATA_DIR + 'train_targets_scored.csv')\n",
    "non_targets = pd.read_csv(DATA_DIR + 'train_targets_nonscored.csv')\n",
    "test = pd.read_csv(DATA_DIR + 'test_features.csv')\n",
    "sub = pd.read_csv(DATA_DIR + 'sample_submission.csv')\n",
    "drug = pd.read_csv(DATA_DIR + 'train_drug.csv')"
   ]
  },
  {
   "cell_type": "code",
   "execution_count": 3,
   "metadata": {
    "execution": {
     "iopub.execute_input": "2021-03-19T08:30:39.289977Z",
     "iopub.status.busy": "2021-03-19T08:30:39.288202Z",
     "iopub.status.idle": "2021-03-19T08:30:39.290536Z",
     "shell.execute_reply": "2021-03-19T08:30:39.290976Z"
    },
    "papermill": {
     "duration": 0.026206,
     "end_time": "2021-03-19T08:30:39.291090",
     "exception": false,
     "start_time": "2021-03-19T08:30:39.264884",
     "status": "completed"
    },
    "tags": []
   },
   "outputs": [],
   "source": [
    "target_feats = [ i for i in targets.columns if i != \"sig_id\"]\n",
    "g_feats = [i for i in train.columns if \"g-\" in i]\n",
    "c_feats = [i for i in train.columns if \"c-\" in i]"
   ]
  },
  {
   "cell_type": "code",
   "execution_count": 4,
   "metadata": {
    "execution": {
     "iopub.execute_input": "2021-03-19T08:30:39.334918Z",
     "iopub.status.busy": "2021-03-19T08:30:39.334304Z",
     "iopub.status.idle": "2021-03-19T08:30:39.432709Z",
     "shell.execute_reply": "2021-03-19T08:30:39.432185Z"
    },
    "papermill": {
     "duration": 0.123952,
     "end_time": "2021-03-19T08:30:39.432828",
     "exception": false,
     "start_time": "2021-03-19T08:30:39.308876",
     "status": "completed"
    },
    "tags": []
   },
   "outputs": [],
   "source": [
    "noncons_train_index = train[train.cp_type==\"ctl_vehicle\"].index\n",
    "cons_train_index = train[train.cp_type!=\"ctl_vehicle\"].index\n",
    "noncons_test_index = test[test.cp_type==\"ctl_vehicle\"].index\n",
    "cons_test_index = test[test.cp_type!=\"ctl_vehicle\"].index"
   ]
  },
  {
   "cell_type": "markdown",
   "metadata": {
    "papermill": {
     "duration": 0.017937,
     "end_time": "2021-03-19T08:30:39.468985",
     "exception": false,
     "start_time": "2021-03-19T08:30:39.451048",
     "status": "completed"
    },
    "tags": []
   },
   "source": [
    "# target group"
   ]
  },
  {
   "cell_type": "code",
   "execution_count": 5,
   "metadata": {
    "execution": {
     "iopub.execute_input": "2021-03-19T08:30:39.525378Z",
     "iopub.status.busy": "2021-03-19T08:30:39.524123Z",
     "iopub.status.idle": "2021-03-19T08:30:39.527171Z",
     "shell.execute_reply": "2021-03-19T08:30:39.526755Z"
    },
    "papermill": {
     "duration": 0.040291,
     "end_time": "2021-03-19T08:30:39.527269",
     "exception": false,
     "start_time": "2021-03-19T08:30:39.486978",
     "status": "completed"
    },
    "tags": []
   },
   "outputs": [],
   "source": [
    "y = targets.drop(\"sig_id\", axis=1)"
   ]
  },
  {
   "cell_type": "code",
   "execution_count": 6,
   "metadata": {
    "execution": {
     "iopub.execute_input": "2021-03-19T08:30:39.574181Z",
     "iopub.status.busy": "2021-03-19T08:30:39.573596Z",
     "iopub.status.idle": "2021-03-19T08:30:50.822961Z",
     "shell.execute_reply": "2021-03-19T08:30:50.822182Z"
    },
    "papermill": {
     "duration": 11.277433,
     "end_time": "2021-03-19T08:30:50.823071",
     "exception": false,
     "start_time": "2021-03-19T08:30:39.545638",
     "status": "completed"
    },
    "tags": []
   },
   "outputs": [
    {
     "data": {
      "text/plain": [
       "((23814, 328), (328, 206))"
      ]
     },
     "execution_count": 6,
     "metadata": {},
     "output_type": "execute_result"
    }
   ],
   "source": [
    "def make_string(row):\n",
    "    return str(row[1:].values).replace('[','').replace(']','').replace('\\n','').replace(' ','')\n",
    "\n",
    "targets[\"target_pair\"] = targets.apply(make_string, axis=1)\n",
    "targetpair_id = dict(enumerate(targets[\"target_pair\"].unique()))\n",
    "id_targetpair = {y:x for x,y in targetpair_id.items()}\n",
    "targets[\"target_pair_num\"] = targets[\"target_pair\"].map(id_targetpair)\n",
    "\n",
    "multiclass_targets = pd.get_dummies(targets[\"target_pair_num\"])\n",
    "\n",
    "for i in range(len(id_targetpair.keys())):\n",
    "    if i == 0:\n",
    "        classid_target = np.array(list((targetpair_id[i]))).reshape(1,-1)      \n",
    "    else:\n",
    "        classid_target = np.vstack([classid_target, np.array(list((targetpair_id[i]))).reshape(1,-1)])\n",
    "        \n",
    "multiclass_targets.shape, classid_target.shape"
   ]
  },
  {
   "cell_type": "code",
   "execution_count": 7,
   "metadata": {
    "execution": {
     "iopub.execute_input": "2021-03-19T08:30:50.902455Z",
     "iopub.status.busy": "2021-03-19T08:30:50.901010Z",
     "iopub.status.idle": "2021-03-19T08:30:50.903462Z",
     "shell.execute_reply": "2021-03-19T08:30:50.903901Z"
    },
    "papermill": {
     "duration": 0.062317,
     "end_time": "2021-03-19T08:30:50.904020",
     "exception": false,
     "start_time": "2021-03-19T08:30:50.841703",
     "status": "completed"
    },
    "tags": []
   },
   "outputs": [],
   "source": [
    "classid_target = classid_target.astype(int)"
   ]
  },
  {
   "cell_type": "code",
   "execution_count": 8,
   "metadata": {
    "execution": {
     "iopub.execute_input": "2021-03-19T08:30:50.947085Z",
     "iopub.status.busy": "2021-03-19T08:30:50.945374Z",
     "iopub.status.idle": "2021-03-19T08:30:50.947731Z",
     "shell.execute_reply": "2021-03-19T08:30:50.948141Z"
    },
    "papermill": {
     "duration": 0.025561,
     "end_time": "2021-03-19T08:30:50.948249",
     "exception": false,
     "start_time": "2021-03-19T08:30:50.922688",
     "status": "completed"
    },
    "tags": []
   },
   "outputs": [],
   "source": [
    "class_num = multiclass_targets.shape[1]"
   ]
  },
  {
   "cell_type": "markdown",
   "metadata": {
    "papermill": {
     "duration": 0.018492,
     "end_time": "2021-03-19T08:30:50.985652",
     "exception": false,
     "start_time": "2021-03-19T08:30:50.967160",
     "status": "completed"
    },
    "tags": []
   },
   "source": [
    "# preprocess"
   ]
  },
  {
   "cell_type": "code",
   "execution_count": 9,
   "metadata": {
    "execution": {
     "iopub.execute_input": "2021-03-19T08:30:51.039223Z",
     "iopub.status.busy": "2021-03-19T08:30:51.035610Z",
     "iopub.status.idle": "2021-03-19T08:30:51.313127Z",
     "shell.execute_reply": "2021-03-19T08:30:51.312644Z"
    },
    "papermill": {
     "duration": 0.305687,
     "end_time": "2021-03-19T08:30:51.313236",
     "exception": false,
     "start_time": "2021-03-19T08:30:51.007549",
     "status": "completed"
    },
    "tags": []
   },
   "outputs": [],
   "source": [
    "train = train[train.index.isin(cons_train_index)].copy().reset_index(drop=True)\n",
    "test = test[test.index.isin(cons_test_index)].copy().reset_index(drop=True)\n",
    "targets = targets[targets.index.isin(cons_train_index)].copy().reset_index(drop=True)\n",
    "\n",
    "# no need to change to one-hot encoding form\n",
    "# https://discuss.pytorch.org/t/runtimeerror-multi-target-not-supported-newbie/10216\n",
    "multiclass_targets = targets[\"target_pair_num\"].copy().reset_index(drop=True)"
   ]
  },
  {
   "cell_type": "markdown",
   "metadata": {
    "papermill": {
     "duration": 0.018768,
     "end_time": "2021-03-19T08:30:51.351071",
     "exception": false,
     "start_time": "2021-03-19T08:30:51.332303",
     "status": "completed"
    },
    "tags": []
   },
   "source": [
    "# Feature engineering "
   ]
  },
  {
   "cell_type": "code",
   "execution_count": 10,
   "metadata": {
    "execution": {
     "iopub.execute_input": "2021-03-19T08:30:51.443227Z",
     "iopub.status.busy": "2021-03-19T08:30:51.441865Z",
     "iopub.status.idle": "2021-03-19T08:30:51.811622Z",
     "shell.execute_reply": "2021-03-19T08:30:51.812190Z"
    },
    "papermill": {
     "duration": 0.442428,
     "end_time": "2021-03-19T08:30:51.812361",
     "exception": false,
     "start_time": "2021-03-19T08:30:51.369933",
     "status": "completed"
    },
    "tags": []
   },
   "outputs": [
    {
     "name": "stdout",
     "output_type": "stream",
     "text": [
      "33\n"
     ]
    }
   ],
   "source": [
    "#importance = pd.read_csv('../input/moa-feat-importance-rapids/output_source.csv')\n",
    "#importance = importance.set_index(\"Feature\")\n",
    "\n",
    "#imp_scaled = importance.copy(deep=True)\n",
    "#for c in imp_scaled.columns:\n",
    "#    imp_scaled[c] = (1 - preprocessing.MinMaxScaler().fit_transform(imp_scaled[[c]])).round(14)\n",
    "\n",
    "#print(imp_scaled.min().min(), imp_scaled.max().max(), imp_scaled.std().mean())\n",
    "\n",
    "#imp_scaled[\"MeanImp\"] = imp_scaled[target_feats].mean(axis=1)\n",
    "#imp_scaled[\"MaxImp\"]  = imp_scaled[target_feats].max(axis=1)\n",
    "\n",
    "#thresh_mean, thresh_max = 0.3, 0.95\n",
    "#fs_both = imp_scaled.loc[(imp_scaled.MeanImp >= thresh_mean) & (imp_scaled.MaxImp >= thresh_max), Targets]\n",
    "#fs_any = list(imp_scaled.loc[(imp_scaled.MeanImp >= thresh_mean) | (imp_scaled.MaxImp >= thresh_max), target_feats].index)\n",
    "#print(len(fs_any))\n",
    "\n",
    "#least_contribution = list(imp_scaled.sort_values(\"MeanImp\", ascending=True).index)\n",
    "#least_contribution2 = list(imp_scaled.sort_values(\"MaxImp\", ascending=True).index)\n",
    "#drop_feats = [i for i in c_feats+g_feats if i not in fs_any]\n",
    "\n",
    "X = train.iloc[:,4:].copy().values\n",
    "select = VarianceThreshold(threshold=0.7)\n",
    "X_new = select.fit_transform(X)\n",
    "drop_feats = list(np.array(train.iloc[:,4:].columns)[select.get_support()==False])\n",
    "print(len(drop_feats))\n",
    "\n",
    "#drop_feats = least_contribution[:10]\n",
    "#drop_feats += least_contribution2[:10]\n",
    "\n",
    "train.drop(drop_feats, axis=1, inplace=True)\n",
    "test.drop(drop_feats, axis=1, inplace=True)\n",
    "\n",
    "g_feats = [i for i in train.columns if \"g-\" in i]\n",
    "c_feats = [i for i in train.columns if \"c-\" in i]"
   ]
  },
  {
   "cell_type": "code",
   "execution_count": 11,
   "metadata": {
    "execution": {
     "iopub.execute_input": "2021-03-19T08:30:51.859757Z",
     "iopub.status.busy": "2021-03-19T08:30:51.858943Z",
     "iopub.status.idle": "2021-03-19T08:30:59.884165Z",
     "shell.execute_reply": "2021-03-19T08:30:59.885491Z"
    },
    "papermill": {
     "duration": 8.053537,
     "end_time": "2021-03-19T08:30:59.885723",
     "exception": false,
     "start_time": "2021-03-19T08:30:51.832186",
     "status": "completed"
    },
    "tags": []
   },
   "outputs": [],
   "source": [
    "# rank gauss\n",
    "for i in c_feats + g_feats:\n",
    "    ss = preprocessing.QuantileTransformer(n_quantiles=100, random_state=0, output_distribution=\"normal\")\n",
    "    ss.fit(pd.concat([train[i], test[i]]).values.reshape(-1,1))\n",
    "    train[i] = ss.transform(train[i].values.reshape(-1,1))\n",
    "    test[i] = ss.transform(test[i].values.reshape(-1,1))"
   ]
  },
  {
   "cell_type": "code",
   "execution_count": 12,
   "metadata": {
    "execution": {
     "iopub.execute_input": "2021-03-19T08:30:59.947608Z",
     "iopub.status.busy": "2021-03-19T08:30:59.945267Z",
     "iopub.status.idle": "2021-03-19T08:30:59.948517Z",
     "shell.execute_reply": "2021-03-19T08:30:59.948955Z"
    },
    "papermill": {
     "duration": 0.028818,
     "end_time": "2021-03-19T08:30:59.949072",
     "exception": false,
     "start_time": "2021-03-19T08:30:59.920254",
     "status": "completed"
    },
    "tags": []
   },
   "outputs": [],
   "source": [
    "# # data augmentation by cutmix\n",
    "# random.seed(0)\n",
    "# np.random.seed(0)\n",
    "# def cutmix_for_tabular(x, y=None, alpha=1.0, p=1.0, random_state=None):\n",
    "#     x_ = x.copy()\n",
    "#     n, d = x.shape\n",
    "\n",
    "#     if n is not None and random.random() < p:\n",
    "#         random_state = check_random_state(random_state)\n",
    "#         l = random_state.beta(alpha, alpha)\n",
    "#         mask = random_state.choice([False, True], size=d, p=[l, 1.0 - l])\n",
    "#         mask = np.where(mask)[0]\n",
    "#         shuffle = random_state.choice(n, n, replace=False)\n",
    "#         x_[:,mask] = x_[np.ix_(shuffle,mask)]\n",
    "        \n",
    "#         if y is not None:\n",
    "#             y = l * y + (1.0 - l) * y[shuffle]\n",
    "        \n",
    "#     return x_, y\n",
    "\n",
    "# train_mod, y_mod = cutmix_for_tabular(train.values, y.values, alpha=1, p=1)\n",
    "\n",
    "# assert np.sum(y_mod != y.values).sum() != 0 \n",
    "# assert np.sum(train_mod != train.values).sum() != 0\n",
    "\n",
    "# train_mod = pd.DataFrame(train_mod, columns = train.columns)\n",
    "# train = pd.concat([train, train_mod], axis=0).reset_index(drop=True)\n",
    "\n",
    "# y_mod = pd.DataFrame(y_mod, columns = y.columns)\n",
    "# y = pd.concat([y, y_mod], axis=0).reset_index(drop=True)"
   ]
  },
  {
   "cell_type": "code",
   "execution_count": 13,
   "metadata": {
    "execution": {
     "iopub.execute_input": "2021-03-19T08:31:00.009865Z",
     "iopub.status.busy": "2021-03-19T08:31:00.006818Z",
     "iopub.status.idle": "2021-03-19T08:31:02.056150Z",
     "shell.execute_reply": "2021-03-19T08:31:02.055188Z"
    },
    "papermill": {
     "duration": 2.086579,
     "end_time": "2021-03-19T08:31:02.056263",
     "exception": false,
     "start_time": "2021-03-19T08:30:59.969684",
     "status": "completed"
    },
    "tags": []
   },
   "outputs": [],
   "source": [
    "c_num = 10\n",
    "pca_c_cols = [\"pca-c\"+str(i+1) for i in range(c_num)]\n",
    "pca = PCA(n_components=c_num,random_state=42)\n",
    "c_train = pca.fit_transform(train[c_feats])\n",
    "c_test = pca.transform(test[c_feats])\n",
    "c_train = pd.DataFrame(c_train, columns=pca_c_cols)\n",
    "c_test = pd.DataFrame(c_test, columns=pca_c_cols)\n",
    "\n",
    "g_num = 60\n",
    "pca_g_cols = [\"pca-g\"+str(i+1) for i in range(g_num)]\n",
    "pca = PCA(n_components=g_num, random_state=42)\n",
    "g_train = pca.fit_transform(train[g_feats])\n",
    "g_test = pca.transform(test[g_feats])\n",
    "g_train = pd.DataFrame(g_train, columns=pca_g_cols)\n",
    "g_test = pd.DataFrame(g_test, columns=pca_g_cols)\n",
    "\n",
    "train = pd.concat([train, c_train],axis=1)\n",
    "test = pd.concat([test, c_test],axis=1)\n",
    "train = pd.concat([train, g_train],axis=1)\n",
    "test = pd.concat([test, g_test],axis=1)"
   ]
  },
  {
   "cell_type": "code",
   "execution_count": 14,
   "metadata": {
    "execution": {
     "iopub.execute_input": "2021-03-19T08:31:02.105535Z",
     "iopub.status.busy": "2021-03-19T08:31:02.104466Z",
     "iopub.status.idle": "2021-03-19T08:31:04.060013Z",
     "shell.execute_reply": "2021-03-19T08:31:04.061160Z"
    },
    "papermill": {
     "duration": 1.984901,
     "end_time": "2021-03-19T08:31:04.061340",
     "exception": false,
     "start_time": "2021-03-19T08:31:02.076439",
     "status": "completed"
    },
    "tags": []
   },
   "outputs": [],
   "source": [
    "def fe(df):\n",
    "    tmp = df.copy()\n",
    "    tmp['g_kurt'] = tmp[g_feats].kurtosis(axis = 1)\n",
    "    tmp['g_skew'] = tmp[g_feats].skew(axis = 1)\n",
    "    tmp['c_kurt'] = tmp[c_feats].kurtosis(axis = 1)\n",
    "    tmp['c_skew'] = tmp[c_feats].skew(axis = 1)\n",
    "    tmp = pd.get_dummies(tmp, columns=['cp_time','cp_dose'])\n",
    "    tmp.drop([\"cp_type\", \"sig_id\"], axis=1, inplace=True)\n",
    "    return tmp\n",
    "\n",
    "train = fe(train)\n",
    "test = fe(test)"
   ]
  },
  {
   "cell_type": "code",
   "execution_count": 15,
   "metadata": {
    "execution": {
     "iopub.execute_input": "2021-03-19T08:31:04.143697Z",
     "iopub.status.busy": "2021-03-19T08:31:04.142832Z",
     "iopub.status.idle": "2021-03-19T08:31:04.302355Z",
     "shell.execute_reply": "2021-03-19T08:31:04.301432Z"
    },
    "papermill": {
     "duration": 0.20559,
     "end_time": "2021-03-19T08:31:04.302468",
     "exception": false,
     "start_time": "2021-03-19T08:31:04.096878",
     "status": "completed"
    },
    "tags": []
   },
   "outputs": [],
   "source": [
    "fn_train = train.copy().to_numpy()\n",
    "fn_test = test.copy().to_numpy()\n",
    "fn_targets = y.copy().to_numpy()"
   ]
  },
  {
   "cell_type": "code",
   "execution_count": 16,
   "metadata": {
    "execution": {
     "iopub.execute_input": "2021-03-19T08:31:04.349965Z",
     "iopub.status.busy": "2021-03-19T08:31:04.348813Z",
     "iopub.status.idle": "2021-03-19T08:31:04.351915Z",
     "shell.execute_reply": "2021-03-19T08:31:04.351409Z"
    },
    "papermill": {
     "duration": 0.028394,
     "end_time": "2021-03-19T08:31:04.352017",
     "exception": false,
     "start_time": "2021-03-19T08:31:04.323623",
     "status": "completed"
    },
    "tags": []
   },
   "outputs": [],
   "source": [
    "fn_multiclass_targets = multiclass_targets.copy().to_numpy()"
   ]
  },
  {
   "cell_type": "code",
   "execution_count": 17,
   "metadata": {
    "execution": {
     "iopub.execute_input": "2021-03-19T08:31:04.398937Z",
     "iopub.status.busy": "2021-03-19T08:31:04.398161Z",
     "iopub.status.idle": "2021-03-19T08:31:04.402931Z",
     "shell.execute_reply": "2021-03-19T08:31:04.402495Z"
    },
    "papermill": {
     "duration": 0.030316,
     "end_time": "2021-03-19T08:31:04.403025",
     "exception": false,
     "start_time": "2021-03-19T08:31:04.372709",
     "status": "completed"
    },
    "tags": []
   },
   "outputs": [
    {
     "name": "stdout",
     "output_type": "stream",
     "text": [
      "(21948, 918) (3624, 918) (23814, 206) (21948,)\n"
     ]
    }
   ],
   "source": [
    "print(fn_train.shape, fn_test.shape, fn_targets.shape, fn_multiclass_targets.shape)"
   ]
  },
  {
   "cell_type": "markdown",
   "metadata": {
    "papermill": {
     "duration": 0.022613,
     "end_time": "2021-03-19T08:31:04.447974",
     "exception": false,
     "start_time": "2021-03-19T08:31:04.425361",
     "status": "completed"
    },
    "tags": []
   },
   "source": [
    "# modelling"
   ]
  },
  {
   "cell_type": "code",
   "execution_count": 18,
   "metadata": {
    "execution": {
     "iopub.execute_input": "2021-03-19T08:31:04.849056Z",
     "iopub.status.busy": "2021-03-19T08:31:04.848254Z",
     "iopub.status.idle": "2021-03-19T08:31:04.852765Z",
     "shell.execute_reply": "2021-03-19T08:31:04.852202Z"
    },
    "papermill": {
     "duration": 0.383499,
     "end_time": "2021-03-19T08:31:04.852865",
     "exception": false,
     "start_time": "2021-03-19T08:31:04.469366",
     "status": "completed"
    },
    "tags": []
   },
   "outputs": [],
   "source": [
    "device = \"cuda\" if torch.cuda.is_available() else \"cpu\""
   ]
  },
  {
   "cell_type": "code",
   "execution_count": 19,
   "metadata": {
    "execution": {
     "iopub.execute_input": "2021-03-19T08:31:04.909440Z",
     "iopub.status.busy": "2021-03-19T08:31:04.908741Z",
     "iopub.status.idle": "2021-03-19T08:31:04.912407Z",
     "shell.execute_reply": "2021-03-19T08:31:04.911951Z"
    },
    "papermill": {
     "duration": 0.036708,
     "end_time": "2021-03-19T08:31:04.912496",
     "exception": false,
     "start_time": "2021-03-19T08:31:04.875788",
     "status": "completed"
    },
    "tags": []
   },
   "outputs": [],
   "source": [
    "class SmoothCrossEntropyLoss(_WeightedLoss):\n",
    "    def __init__(self, weight=None, reduction='mean', smoothing=0.0):\n",
    "        super().__init__(weight=weight, reduction=reduction)\n",
    "        self.smoothing = smoothing\n",
    "        self.weight = weight\n",
    "        self.reduction = reduction\n",
    "\n",
    "    @staticmethod\n",
    "    def _smooth(targets, n_classes, smoothing=0.0):\n",
    "        assert 0 <= smoothing <= 1\n",
    "        with torch.no_grad():\n",
    "            targets = targets * (1 - smoothing) + torch.ones_like(targets).to(device) * smoothing / n_classes\n",
    "        return targets\n",
    "\n",
    "    def forward(self, inputs, targets):\n",
    "        targets = SmoothCrossEntropyLoss()._smooth(targets, inputs.shape[1], self.smoothing)\n",
    "\n",
    "        if self.weight is not None:\n",
    "            inputs = inputs * self.weight.unsqueeze(0)\n",
    "\n",
    "        loss = F.binary_cross_entropy_with_logits(inputs, targets)\n",
    "\n",
    "        return loss"
   ]
  },
  {
   "cell_type": "code",
   "execution_count": 20,
   "metadata": {
    "execution": {
     "iopub.execute_input": "2021-03-19T08:31:04.977166Z",
     "iopub.status.busy": "2021-03-19T08:31:04.975114Z",
     "iopub.status.idle": "2021-03-19T08:31:04.979923Z",
     "shell.execute_reply": "2021-03-19T08:31:04.979231Z"
    },
    "papermill": {
     "duration": 0.04391,
     "end_time": "2021-03-19T08:31:04.980032",
     "exception": false,
     "start_time": "2021-03-19T08:31:04.936122",
     "status": "completed"
    },
    "tags": []
   },
   "outputs": [
    {
     "name": "stdout",
     "output_type": "stream",
     "text": [
      "cuda\n"
     ]
    }
   ],
   "source": [
    "print(device)\n",
    "def seed_everything(seed=42): \n",
    "    random.seed(seed)\n",
    "    os.environ['PYTHONHASHSEED'] = str(seed)\n",
    "    tf.random.set_seed(seed)\n",
    "    np.random.seed(seed)\n",
    "    torch.manual_seed(seed)\n",
    "    torch.cuda.manual_seed(seed)\n",
    "    torch.backends.cudnn.deterministic = True\n",
    "\n",
    "class MoaModel(nn.Module):\n",
    "    def __init__(self, num_columns, last_num):\n",
    "        super(MoaModel, self).__init__()\n",
    "        self.batch_norm1 = nn.BatchNorm1d(num_columns)\n",
    "        self.dropout1 = nn.Dropout(0.1)\n",
    "        self.dense1 = nn.utils.weight_norm(nn.Linear(num_columns, 1024))\n",
    "        self.relu1 = nn.LeakyReLU()\n",
    "        \n",
    "        self.batch_norm2 = nn.BatchNorm1d(1024)\n",
    "        self.dropout2 = nn.Dropout(0.1)\n",
    "        self.dense2 = nn.utils.weight_norm(nn.Linear(1024, 1024))\n",
    "        self.relu2 = nn.LeakyReLU()\n",
    "        \n",
    "        self.batch_norm3 = nn.BatchNorm1d(1024)\n",
    "        self.dropout3 = nn.Dropout(0.1)\n",
    "        self.dense3 = nn.utils.weight_norm(nn.Linear(1024, last_num))\n",
    "        \n",
    "    def forward(self, x):\n",
    "        x = self.batch_norm1(x)\n",
    "        x = self.dropout1(x)\n",
    "        x = self.relu1(self.dense1(x))\n",
    "        \n",
    "        x = self.batch_norm2(x)\n",
    "        x = self.dropout2(x)\n",
    "        x = self.relu2(self.dense2(x))\n",
    "        \n",
    "        x = self.batch_norm3(x)\n",
    "        x = self.dropout3(x)\n",
    "        x = self.dense3(x)\n",
    "        \n",
    "        return x"
   ]
  },
  {
   "cell_type": "markdown",
   "metadata": {
    "papermill": {
     "duration": 0.021538,
     "end_time": "2021-03-19T08:31:05.023529",
     "exception": false,
     "start_time": "2021-03-19T08:31:05.001991",
     "status": "completed"
    },
    "tags": []
   },
   "source": [
    "# modelling"
   ]
  },
  {
   "cell_type": "code",
   "execution_count": 21,
   "metadata": {
    "execution": {
     "iopub.execute_input": "2021-03-19T08:31:05.105613Z",
     "iopub.status.busy": "2021-03-19T08:31:05.103610Z",
     "iopub.status.idle": "2021-03-19T08:31:05.106328Z",
     "shell.execute_reply": "2021-03-19T08:31:05.106753Z"
    },
    "papermill": {
     "duration": 0.061051,
     "end_time": "2021-03-19T08:31:05.106870",
     "exception": false,
     "start_time": "2021-03-19T08:31:05.045819",
     "status": "completed"
    },
    "tags": []
   },
   "outputs": [],
   "source": [
    "batch_size = 128\n",
    "n_folds=7\n",
    "EARLY_STOPPING_STEPS = 10\n",
    "smoothing = 0.001\n",
    "p_min = smoothing\n",
    "p_max = 1 - smoothing\n",
    "train_epochs = 10\n",
    "\n",
    "def multi_log_loss(y_true, y_pred):\n",
    "    metrics = []\n",
    "    for i, target in enumerate(target_feats):\n",
    "        metrics.append(log_loss(y_true[:, i], y_pred[:, i].astype(float), labels=[0,1]))\n",
    "    return np.mean(metrics)\n",
    "    \n",
    "def modelling_torch(tr, target, te, sample_seed, init_num, last_num):\n",
    "    seed_everything(seed=sample_seed) \n",
    "    X_train = tr.copy()\n",
    "    y_train = target.copy()\n",
    "    X_test = te.copy()\n",
    "    test_len = X_test.shape[0]\n",
    "    \n",
    "    mskf=KFold(n_splits = n_folds, shuffle=True, random_state=224)\n",
    "    #metric = lambda inputs, targets : F.binary_cross_entropy((torch.clamp(torch.sigmoid(inputs), p_min, p_max)), targets)\n",
    "\n",
    "    models = []\n",
    "    \n",
    "    X_test2 = torch.tensor(X_test, dtype=torch.float32)\n",
    "    test = torch.utils.data.TensorDataset(X_test2) \n",
    "    test_loader = torch.utils.data.DataLoader(test, batch_size=batch_size, shuffle=False)\n",
    "    \n",
    "    oof = np.zeros([len(X_train),last_num])\n",
    "    oof_targets = np.zeros([len(X_train),last_num])\n",
    "    pred_value = np.zeros([test_len, last_num])\n",
    "    for fold, (train_index, valid_index) in enumerate(mskf.split(X_train, y_train)):\n",
    "        print(\"Seed \"+str(sample_seed)+\"_Fold \"+str(fold+1))\n",
    "        X_train2 = torch.tensor(X_train[train_index,:], dtype=torch.float32)\n",
    "        y_train2 = torch.tensor(y_train[train_index], dtype=torch.long)\n",
    "\n",
    "        X_valid2 = torch.tensor(X_train[valid_index,:], dtype=torch.float32)\n",
    "        y_valid2 = torch.tensor(y_train[valid_index], dtype=torch.long)\n",
    "        \n",
    "        train = torch.utils.data.TensorDataset(X_train2, y_train2)\n",
    "        valid = torch.utils.data.TensorDataset(X_valid2, y_valid2)\n",
    "        \n",
    "        train_loader = torch.utils.data.DataLoader(train, batch_size=batch_size, shuffle=True) \n",
    "        valid_loader = torch.utils.data.DataLoader(valid, batch_size=batch_size, shuffle=False)\n",
    "            \n",
    "        clf = MoaModel(init_num, last_num)\n",
    "        loss_fn = nn.CrossEntropyLoss() #SmoothCrossEntropyLoss(smoothing=smoothing)\n",
    "\n",
    "        optimizer = optim.Adam(clf.parameters(), lr = 0.01, weight_decay=1e-5) \n",
    "        scheduler = optim.lr_scheduler.OneCycleLR(optimizer=optimizer, pct_start=0.1, div_factor=1e3, \n",
    "                                              max_lr=1e-2, epochs=train_epochs, steps_per_epoch=len(train_loader))\n",
    "        \n",
    "        clf.to(device)\n",
    "        \n",
    "        best_val_loss = np.inf\n",
    "        stop_counts = 0\n",
    "        for epoch in range(train_epochs):\n",
    "            start_time = time.time()\n",
    "            clf.train()\n",
    "            avg_loss = 0.\n",
    "            #sm_avg_loss = 0.\n",
    "            for x_batch, y_batch in tqdm(train_loader, disable=True):\n",
    "                x_batch = x_batch.to(device)\n",
    "                y_batch = y_batch.to(device)\n",
    "                y_pred = clf(x_batch)\n",
    "                loss = loss_fn(y_pred, y_batch)\n",
    "                optimizer.zero_grad()\n",
    "                loss.backward()\n",
    "                optimizer.step()\n",
    "                scheduler.step()\n",
    "                avg_loss += loss.item() / len(train_loader)  \n",
    "                #sm_avg_loss += metric(y_pred, y_batch) / len(train_loader) \n",
    "                \n",
    "            clf.eval()\n",
    "            avg_val_loss = 0.\n",
    "            #sm_avg_val_loss = 0.\n",
    "            for i, (x_batch, y_batch) in enumerate(valid_loader): \n",
    "                x_batch = x_batch.to(device)\n",
    "                y_batch = y_batch.to(device)\n",
    "                y_pred = clf(x_batch).detach()\n",
    "                avg_val_loss += loss_fn(y_pred, y_batch).item() / len(valid_loader)\n",
    "                #sm_avg_val_loss += metric(y_pred, y_batch) / len(valid_loader)\n",
    "        \n",
    "            elapsed_time = time.time() - start_time \n",
    "                    \n",
    "            if avg_val_loss < best_val_loss:\n",
    "                best_val_loss = avg_val_loss\n",
    "                print('Epoch {}  loss={:.5f}  val_loss={:.5f}  time={:.2f}s'.format(\n",
    "                    epoch + 1, avg_loss, avg_val_loss, elapsed_time))\n",
    "                torch.save(clf.state_dict(), 'best-model-parameters.pt')\n",
    "                stop_counts = 0\n",
    "            else:\n",
    "                stop_counts += 1\n",
    "                \n",
    "            if stop_counts >= EARLY_STOPPING_STEPS:\n",
    "                break\n",
    "        \n",
    "        pred_model = MoaModel(init_num, last_num)\n",
    "        pred_model.load_state_dict(torch.load('best-model-parameters.pt'))         \n",
    "        pred_model.eval()\n",
    "        \n",
    "        # validation check ----------------\n",
    "        oof_epoch = np.zeros([X_valid2.size(0), last_num])\n",
    "        target_epoch = np.zeros([X_valid2.size(0), last_num])\n",
    "        for i, (x_batch, y_batch) in enumerate(valid_loader): \n",
    "            y_pred = pred_model(x_batch).detach()\n",
    "            oof_epoch[i * batch_size:(i+1) * batch_size,:] = F.softmax(y_pred.cpu()) #torch.clamp(torch.sigmoid(y_pred.cpu()), p_min, p_max)\n",
    "        oof[valid_index,:] = oof_epoch\n",
    "        #-----------------------------------\n",
    "        \n",
    "        # test predcition --------------\n",
    "        test_preds = np.zeros([test_len, last_num])\n",
    "        for i, (x_batch,) in enumerate(test_loader): \n",
    "            y_pred = pred_model(x_batch).detach()\n",
    "            test_preds[i * batch_size:(i+1) * batch_size, :] = F.softmax(y_pred.cpu()) #torch.clamp(torch.sigmoid(y_pred.cpu()), p_min, p_max)\n",
    "        pred_value += test_preds / n_folds\n",
    "        # ------------------------------\n",
    "    \n",
    "    return oof, pred_value"
   ]
  },
  {
   "cell_type": "code",
   "execution_count": 22,
   "metadata": {
    "execution": {
     "iopub.execute_input": "2021-03-19T08:31:05.159500Z",
     "iopub.status.busy": "2021-03-19T08:31:05.158792Z",
     "iopub.status.idle": "2021-03-19T08:36:23.012933Z",
     "shell.execute_reply": "2021-03-19T08:36:23.013658Z"
    },
    "papermill": {
     "duration": 317.884794,
     "end_time": "2021-03-19T08:36:23.013869",
     "exception": false,
     "start_time": "2021-03-19T08:31:05.129075",
     "status": "completed"
    },
    "tags": []
   },
   "outputs": [
    {
     "name": "stdout",
     "output_type": "stream",
     "text": [
      "Seed 0_Fold 1\n",
      "Epoch 1  loss=4.02374  val_loss=3.22342  time=1.38s\n",
      "Epoch 2  loss=3.02348  val_loss=3.06554  time=0.76s\n",
      "Epoch 3  loss=2.71118  val_loss=3.01691  time=0.76s\n",
      "Epoch 4  loss=2.39664  val_loss=3.01194  time=0.82s\n",
      "Seed 0_Fold 2\n",
      "Epoch 1  loss=4.03544  val_loss=3.16366  time=0.76s\n",
      "Epoch 2  loss=3.04173  val_loss=2.91803  time=0.98s\n",
      "Epoch 3  loss=2.70489  val_loss=2.89831  time=0.75s\n",
      "Seed 0_Fold 3\n",
      "Epoch 1  loss=4.00880  val_loss=3.32399  time=0.76s\n",
      "Epoch 2  loss=3.02552  val_loss=3.08844  time=0.76s\n",
      "Epoch 3  loss=2.70134  val_loss=3.05753  time=0.76s\n",
      "Seed 0_Fold 4\n",
      "Epoch 1  loss=3.99025  val_loss=3.31618  time=0.77s\n",
      "Epoch 2  loss=3.03162  val_loss=3.10843  time=0.76s\n",
      "Epoch 3  loss=2.68957  val_loss=3.08388  time=0.76s\n",
      "Seed 0_Fold 5\n",
      "Epoch 1  loss=3.99746  val_loss=3.22073  time=0.76s\n",
      "Epoch 2  loss=3.05963  val_loss=2.97591  time=0.76s\n",
      "Epoch 3  loss=2.72356  val_loss=2.96130  time=0.76s\n",
      "Seed 0_Fold 6\n",
      "Epoch 1  loss=4.01855  val_loss=3.18836  time=0.77s\n",
      "Epoch 2  loss=3.04384  val_loss=2.99424  time=0.77s\n",
      "Epoch 3  loss=2.70935  val_loss=2.94055  time=0.76s\n",
      "Seed 0_Fold 7\n",
      "Epoch 1  loss=3.99862  val_loss=3.19152  time=0.76s\n",
      "Epoch 2  loss=3.05442  val_loss=2.98733  time=0.98s\n",
      "Epoch 3  loss=2.70410  val_loss=2.92281  time=0.76s\n",
      "Seed 1_Fold 1\n",
      "Epoch 1  loss=3.98675  val_loss=3.24928  time=0.81s\n",
      "Epoch 2  loss=3.03772  val_loss=3.03364  time=0.77s\n",
      "Epoch 3  loss=2.71188  val_loss=2.97805  time=0.77s\n",
      "Seed 1_Fold 2\n",
      "Epoch 1  loss=4.01387  val_loss=3.13016  time=0.77s\n",
      "Epoch 2  loss=3.04305  val_loss=2.94162  time=0.76s\n",
      "Epoch 3  loss=2.71659  val_loss=2.91225  time=0.77s\n",
      "Seed 1_Fold 3\n",
      "Epoch 1  loss=4.01102  val_loss=3.27539  time=0.77s\n",
      "Epoch 2  loss=3.02833  val_loss=3.08915  time=0.76s\n",
      "Epoch 3  loss=2.69416  val_loss=3.08021  time=0.76s\n",
      "Seed 1_Fold 4\n",
      "Epoch 1  loss=3.99692  val_loss=3.36005  time=0.86s\n",
      "Epoch 2  loss=3.01489  val_loss=3.12647  time=0.79s\n",
      "Epoch 3  loss=2.70045  val_loss=3.07874  time=0.82s\n",
      "Seed 1_Fold 5\n",
      "Epoch 1  loss=4.01496  val_loss=3.21609  time=0.89s\n",
      "Epoch 2  loss=3.04556  val_loss=3.00641  time=0.76s\n",
      "Epoch 3  loss=2.71457  val_loss=2.92517  time=0.76s\n",
      "Seed 1_Fold 6\n",
      "Epoch 1  loss=3.98491  val_loss=3.17989  time=0.76s\n",
      "Epoch 2  loss=3.03982  val_loss=2.97640  time=0.77s\n",
      "Epoch 3  loss=2.73066  val_loss=2.93206  time=0.96s\n",
      "Epoch 4  loss=2.42865  val_loss=2.91104  time=0.76s\n",
      "Seed 1_Fold 7\n",
      "Epoch 1  loss=4.01588  val_loss=3.24953  time=0.76s\n",
      "Epoch 2  loss=3.04472  val_loss=2.96989  time=0.76s\n",
      "Epoch 3  loss=2.70728  val_loss=2.96761  time=0.75s\n",
      "Epoch 4  loss=2.39663  val_loss=2.96732  time=0.77s\n",
      "Seed 2_Fold 1\n",
      "Epoch 1  loss=4.00992  val_loss=3.26317  time=0.76s\n",
      "Epoch 2  loss=3.04398  val_loss=3.05093  time=0.76s\n",
      "Epoch 3  loss=2.72580  val_loss=3.00471  time=0.76s\n",
      "Epoch 4  loss=2.42015  val_loss=2.98086  time=0.76s\n",
      "Seed 2_Fold 2\n",
      "Epoch 1  loss=4.02134  val_loss=3.16412  time=0.76s\n",
      "Epoch 2  loss=3.04605  val_loss=2.92984  time=0.77s\n",
      "Epoch 3  loss=2.71511  val_loss=2.89287  time=0.76s\n",
      "Seed 2_Fold 3\n",
      "Epoch 1  loss=4.03434  val_loss=3.32453  time=0.76s\n",
      "Epoch 2  loss=3.03210  val_loss=3.11838  time=0.76s\n",
      "Epoch 3  loss=2.68843  val_loss=3.05816  time=0.76s\n",
      "Seed 2_Fold 4\n",
      "Epoch 1  loss=3.97117  val_loss=3.36274  time=0.79s\n",
      "Epoch 2  loss=3.04042  val_loss=3.13319  time=1.22s\n",
      "Epoch 3  loss=2.70568  val_loss=3.05622  time=1.04s\n",
      "Seed 2_Fold 5\n",
      "Epoch 1  loss=4.01774  val_loss=3.19385  time=0.79s\n",
      "Epoch 2  loss=3.03480  val_loss=2.98904  time=0.76s\n",
      "Epoch 3  loss=2.72650  val_loss=2.90836  time=0.77s\n",
      "Seed 2_Fold 6\n",
      "Epoch 1  loss=4.00219  val_loss=3.21794  time=0.93s\n",
      "Epoch 2  loss=3.02960  val_loss=2.97403  time=0.77s\n",
      "Epoch 3  loss=2.70919  val_loss=2.92102  time=0.76s\n",
      "Seed 2_Fold 7\n",
      "Epoch 1  loss=4.00282  val_loss=3.22008  time=0.76s\n",
      "Epoch 2  loss=3.03783  val_loss=2.97202  time=0.77s\n",
      "Epoch 3  loss=2.71996  val_loss=2.93142  time=0.75s\n",
      "Seed 3_Fold 1\n",
      "Epoch 1  loss=4.01744  val_loss=3.28508  time=0.76s\n",
      "Epoch 2  loss=3.03784  val_loss=3.08088  time=0.76s\n",
      "Epoch 3  loss=2.70776  val_loss=3.00119  time=0.77s\n",
      "Seed 3_Fold 2\n",
      "Epoch 1  loss=4.00933  val_loss=3.19062  time=1.04s\n",
      "Epoch 2  loss=3.05879  val_loss=2.95551  time=0.80s\n",
      "Epoch 3  loss=2.72173  val_loss=2.91112  time=0.79s\n",
      "Seed 3_Fold 3\n",
      "Epoch 1  loss=4.02546  val_loss=3.28266  time=0.76s\n",
      "Epoch 2  loss=3.02542  val_loss=3.10500  time=0.76s\n",
      "Epoch 3  loss=2.70425  val_loss=3.04514  time=0.76s\n",
      "Seed 3_Fold 4\n",
      "Epoch 1  loss=3.96257  val_loss=3.36356  time=0.78s\n",
      "Epoch 2  loss=3.01418  val_loss=3.13640  time=0.76s\n",
      "Epoch 3  loss=2.69504  val_loss=3.09529  time=1.01s\n",
      "Seed 3_Fold 5\n",
      "Epoch 1  loss=4.04575  val_loss=3.21041  time=0.78s\n",
      "Epoch 2  loss=3.04384  val_loss=2.98065  time=0.76s\n",
      "Epoch 3  loss=2.71694  val_loss=2.94071  time=0.79s\n",
      "Seed 3_Fold 6\n",
      "Epoch 1  loss=4.00781  val_loss=3.15956  time=0.81s\n",
      "Epoch 2  loss=3.05078  val_loss=2.97558  time=0.80s\n",
      "Epoch 3  loss=2.71276  val_loss=2.92318  time=0.77s\n",
      "Seed 3_Fold 7\n",
      "Epoch 1  loss=3.98167  val_loss=3.20488  time=0.94s\n",
      "Epoch 2  loss=3.05034  val_loss=2.95995  time=0.78s\n",
      "Epoch 3  loss=2.71361  val_loss=2.94163  time=0.78s\n",
      "Seed 4_Fold 1\n",
      "Epoch 1  loss=4.02272  val_loss=3.28294  time=0.77s\n",
      "Epoch 2  loss=3.04491  val_loss=3.03441  time=0.76s\n",
      "Epoch 3  loss=2.72520  val_loss=3.00905  time=0.96s\n",
      "Seed 4_Fold 2\n",
      "Epoch 1  loss=4.02243  val_loss=3.14021  time=0.76s\n",
      "Epoch 2  loss=3.04719  val_loss=2.97174  time=0.76s\n",
      "Epoch 3  loss=2.73324  val_loss=2.90719  time=0.76s\n",
      "Seed 4_Fold 3\n",
      "Epoch 1  loss=4.02389  val_loss=3.32324  time=0.79s\n",
      "Epoch 2  loss=3.03442  val_loss=3.07503  time=0.76s\n",
      "Epoch 3  loss=2.70117  val_loss=3.05539  time=0.76s\n",
      "Seed 4_Fold 4\n",
      "Epoch 1  loss=3.98235  val_loss=3.31583  time=0.76s\n",
      "Epoch 2  loss=3.02942  val_loss=3.12047  time=0.78s\n",
      "Epoch 3  loss=2.70496  val_loss=3.09500  time=0.79s\n",
      "Seed 4_Fold 5\n",
      "Epoch 1  loss=4.00342  val_loss=3.21924  time=0.76s\n",
      "Epoch 2  loss=3.02212  val_loss=3.02169  time=0.76s\n",
      "Epoch 3  loss=2.70986  val_loss=2.93403  time=0.76s\n",
      "Seed 4_Fold 6\n",
      "Epoch 1  loss=3.99514  val_loss=3.22424  time=0.76s\n",
      "Epoch 2  loss=3.04122  val_loss=3.04216  time=0.89s\n",
      "Epoch 3  loss=2.72599  val_loss=2.94997  time=0.84s\n",
      "Epoch 4  loss=2.41763  val_loss=2.94286  time=0.76s\n",
      "Seed 4_Fold 7\n",
      "Epoch 1  loss=3.99849  val_loss=3.21155  time=0.76s\n",
      "Epoch 2  loss=3.04661  val_loss=3.03639  time=0.76s\n",
      "Epoch 3  loss=2.73766  val_loss=2.97870  time=0.76s\n"
     ]
    }
   ],
   "source": [
    "seeds = [0,1,2,3,4]\n",
    "target_oof = np.zeros([len(fn_train), class_num])\n",
    "target_pred = np.zeros([len(fn_test), class_num])\n",
    "\n",
    "for seed_ in seeds:\n",
    "    best_oof, pytorch_pred = modelling_torch(fn_train, fn_multiclass_targets, fn_test, seed_, fn_train.shape[1], class_num)\n",
    "    target_oof += best_oof / len(seeds)\n",
    "    target_pred += pytorch_pred / len(seeds)"
   ]
  },
  {
   "cell_type": "code",
   "execution_count": 23,
   "metadata": {
    "execution": {
     "iopub.execute_input": "2021-03-19T08:36:23.236826Z",
     "iopub.status.busy": "2021-03-19T08:36:23.236114Z",
     "iopub.status.idle": "2021-03-19T08:36:23.332452Z",
     "shell.execute_reply": "2021-03-19T08:36:23.333203Z"
    },
    "papermill": {
     "duration": 0.204948,
     "end_time": "2021-03-19T08:36:23.333408",
     "exception": false,
     "start_time": "2021-03-19T08:36:23.128460",
     "status": "completed"
    },
    "tags": []
   },
   "outputs": [],
   "source": [
    "target_oof = np.dot(target_oof, classid_target)\n",
    "target_pred = np.dot(target_pred, classid_target)"
   ]
  },
  {
   "cell_type": "code",
   "execution_count": 24,
   "metadata": {
    "execution": {
     "iopub.execute_input": "2021-03-19T08:36:23.541897Z",
     "iopub.status.busy": "2021-03-19T08:36:23.540904Z",
     "iopub.status.idle": "2021-03-19T08:36:30.204401Z",
     "shell.execute_reply": "2021-03-19T08:36:30.204810Z"
    },
    "papermill": {
     "duration": 6.774059,
     "end_time": "2021-03-19T08:36:30.204942",
     "exception": false,
     "start_time": "2021-03-19T08:36:23.430883",
     "status": "completed"
    },
    "tags": []
   },
   "outputs": [
    {
     "name": "stdout",
     "output_type": "stream",
     "text": [
      "OOF log loss:  0.014650452347282938\n"
     ]
    }
   ],
   "source": [
    "t = pd.read_csv(DATA_DIR + 'train_targets_scored.csv')\n",
    "train_checkscore = t.copy()\n",
    "train_checkscore.loc[train_checkscore.index.isin(cons_train_index),target_feats] = np.clip(target_oof, p_min, p_max)\n",
    "train_checkscore.loc[train_checkscore.index.isin(noncons_train_index),target_feats] = 0\n",
    "t.drop(\"sig_id\", axis=1, inplace=True)\n",
    "print('OOF log loss: ', log_loss(np.ravel(t), np.ravel(np.array(train_checkscore.iloc[:,1:]))))"
   ]
  },
  {
   "cell_type": "code",
   "execution_count": 25,
   "metadata": {
    "execution": {
     "iopub.execute_input": "2021-03-19T08:36:30.332800Z",
     "iopub.status.busy": "2021-03-19T08:36:30.332205Z",
     "iopub.status.idle": "2021-03-19T08:36:38.567851Z",
     "shell.execute_reply": "2021-03-19T08:36:38.566724Z"
    },
    "papermill": {
     "duration": 8.301205,
     "end_time": "2021-03-19T08:36:38.567970",
     "exception": false,
     "start_time": "2021-03-19T08:36:30.266765",
     "status": "completed"
    },
    "tags": []
   },
   "outputs": [],
   "source": [
    "train_checkscore.to_csv(\"mlp_oof.csv\", index=False)"
   ]
  },
  {
   "cell_type": "code",
   "execution_count": 26,
   "metadata": {
    "execution": {
     "iopub.execute_input": "2021-03-19T08:36:38.696199Z",
     "iopub.status.busy": "2021-03-19T08:36:38.695356Z",
     "iopub.status.idle": "2021-03-19T08:36:40.681026Z",
     "shell.execute_reply": "2021-03-19T08:36:40.680004Z"
    },
    "papermill": {
     "duration": 2.051845,
     "end_time": "2021-03-19T08:36:40.681147",
     "exception": false,
     "start_time": "2021-03-19T08:36:38.629302",
     "status": "completed"
    },
    "tags": []
   },
   "outputs": [],
   "source": [
    "sub.loc[cons_test_index,target_feats] = np.clip(target_pred, p_min, p_max)\n",
    "sub.loc[noncons_test_index,target_feats] = 0\n",
    "sub.to_csv('submission.csv', index=False)"
   ]
  },
  {
   "cell_type": "code",
   "execution_count": null,
   "metadata": {
    "papermill": {
     "duration": 0.061208,
     "end_time": "2021-03-19T08:36:40.804305",
     "exception": false,
     "start_time": "2021-03-19T08:36:40.743097",
     "status": "completed"
    },
    "tags": []
   },
   "outputs": [],
   "source": []
  }
 ],
 "metadata": {
  "kernelspec": {
   "display_name": "Python 3",
   "language": "python",
   "name": "python3"
  },
  "language_info": {
   "codemirror_mode": {
    "name": "ipython",
    "version": 3
   },
   "file_extension": ".py",
   "mimetype": "text/x-python",
   "name": "python",
   "nbconvert_exporter": "python",
   "pygments_lexer": "ipython3",
   "version": "3.7.6"
  },
  "papermill": {
   "duration": 384.900752,
   "end_time": "2021-03-19T08:36:42.065783",
   "environment_variables": {},
   "exception": null,
   "input_path": "__notebook__.ipynb",
   "output_path": "__notebook__.ipynb",
   "parameters": {},
   "start_time": "2021-03-19T08:30:17.165031",
   "version": "2.1.0"
  }
 },
 "nbformat": 4,
 "nbformat_minor": 4
}
