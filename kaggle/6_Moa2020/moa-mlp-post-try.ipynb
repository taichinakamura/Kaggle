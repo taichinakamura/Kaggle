{
 "cells": [
  {
   "cell_type": "markdown",
   "metadata": {
    "papermill": {
     "duration": 0.019472,
     "end_time": "2021-01-13T08:35:05.388223",
     "exception": false,
     "start_time": "2021-01-13T08:35:05.368751",
     "status": "completed"
    },
    "tags": []
   },
   "source": [
    "**Late submission**\n",
    "- early stopping for each target"
   ]
  },
  {
   "cell_type": "code",
   "execution_count": 1,
   "metadata": {
    "_cell_guid": "b1076dfc-b9ad-4769-8c92-a6c4dae69d19",
    "_uuid": "8f2839f25d086af736a60e9eeb907d3b93b6e0e5",
    "execution": {
     "iopub.execute_input": "2021-01-13T08:35:05.434486Z",
     "iopub.status.busy": "2021-01-13T08:35:05.433726Z",
     "iopub.status.idle": "2021-01-13T08:35:16.286405Z",
     "shell.execute_reply": "2021-01-13T08:35:16.285417Z"
    },
    "papermill": {
     "duration": 10.880981,
     "end_time": "2021-01-13T08:35:16.286571",
     "exception": false,
     "start_time": "2021-01-13T08:35:05.405590",
     "status": "completed"
    },
    "tags": []
   },
   "outputs": [
    {
     "name": "stderr",
     "output_type": "stream",
     "text": [
      "/opt/conda/lib/python3.7/site-packages/ipykernel_launcher.py:21: TqdmDeprecationWarning: This function will be removed in tqdm==5.0.0\n",
      "Please use `tqdm.notebook.*` instead of `tqdm._tqdm_notebook.*`\n"
     ]
    }
   ],
   "source": [
    "import os\n",
    "import sys\n",
    "import random\n",
    "import warnings\n",
    "import numpy as np\n",
    "import pandas as pd \n",
    "from umap import UMAP\n",
    "import networkx as nx\n",
    "from sklearn import preprocessing\n",
    "from sklearn.metrics import log_loss,roc_auc_score\n",
    "from sklearn.decomposition import PCA\n",
    "from tqdm import tqdm_notebook as tqdm\n",
    "from sklearn.cluster import KMeans\n",
    "from sklearn.multioutput import MultiOutputClassifier\n",
    "from sklearn.feature_selection import VarianceThreshold\n",
    "from sklearn.compose import make_column_transformer,ColumnTransformer\n",
    "from sklearn.base import BaseEstimator,TransformerMixin\n",
    "from sklearn.pipeline import make_pipeline,make_union\n",
    "from sklearn.decomposition import TruncatedSVD\n",
    "from sklearn.model_selection import StratifiedKFold, KFold\n",
    "from tqdm._tqdm_notebook import tqdm_notebook\n",
    "\n",
    "sys.path.append('../input/multilabelstraifier/')\n",
    "from ml_stratifiers import MultilabelStratifiedKFold\n",
    "warnings.filterwarnings('ignore')\n",
    "\n",
    "import time\n",
    "import torch\n",
    "import torch.nn as nn\n",
    "import torch.optim as optim\n",
    "import torch.nn.functional as F\n",
    "import tensorflow as tf\n",
    "from torch.nn.modules.loss import _WeightedLoss"
   ]
  },
  {
   "cell_type": "markdown",
   "metadata": {
    "papermill": {
     "duration": 0.017974,
     "end_time": "2021-01-13T08:35:16.322721",
     "exception": false,
     "start_time": "2021-01-13T08:35:16.304747",
     "status": "completed"
    },
    "tags": []
   },
   "source": [
    "# final engineering"
   ]
  },
  {
   "cell_type": "code",
   "execution_count": 2,
   "metadata": {
    "execution": {
     "iopub.execute_input": "2021-01-13T08:35:16.369693Z",
     "iopub.status.busy": "2021-01-13T08:35:16.368983Z",
     "iopub.status.idle": "2021-01-13T08:35:24.773624Z",
     "shell.execute_reply": "2021-01-13T08:35:24.772480Z"
    },
    "papermill": {
     "duration": 8.432547,
     "end_time": "2021-01-13T08:35:24.773751",
     "exception": false,
     "start_time": "2021-01-13T08:35:16.341204",
     "status": "completed"
    },
    "tags": []
   },
   "outputs": [],
   "source": [
    "DATA_DIR = '/kaggle/input/lish-moa/'\n",
    "train = pd.read_csv(DATA_DIR + 'train_features.csv')\n",
    "targets = pd.read_csv(DATA_DIR + 'train_targets_scored.csv')\n",
    "non_targets = pd.read_csv(DATA_DIR + 'train_targets_nonscored.csv')\n",
    "test = pd.read_csv(DATA_DIR + 'test_features.csv')\n",
    "sub = pd.read_csv(DATA_DIR + 'sample_submission.csv')\n",
    "drug = pd.read_csv(DATA_DIR + 'train_drug.csv')"
   ]
  },
  {
   "cell_type": "code",
   "execution_count": 3,
   "metadata": {
    "execution": {
     "iopub.execute_input": "2021-01-13T08:35:24.817738Z",
     "iopub.status.busy": "2021-01-13T08:35:24.815895Z",
     "iopub.status.idle": "2021-01-13T08:35:24.818475Z",
     "shell.execute_reply": "2021-01-13T08:35:24.818969Z"
    },
    "papermill": {
     "duration": 0.027187,
     "end_time": "2021-01-13T08:35:24.819117",
     "exception": false,
     "start_time": "2021-01-13T08:35:24.791930",
     "status": "completed"
    },
    "tags": []
   },
   "outputs": [],
   "source": [
    "target_feats = [ i for i in targets.columns if i != \"sig_id\"]\n",
    "g_feats = [i for i in train.columns if \"g-\" in i]\n",
    "c_feats = [i for i in train.columns if \"c-\" in i]"
   ]
  },
  {
   "cell_type": "code",
   "execution_count": 4,
   "metadata": {
    "execution": {
     "iopub.execute_input": "2021-01-13T08:35:24.865272Z",
     "iopub.status.busy": "2021-01-13T08:35:24.864409Z",
     "iopub.status.idle": "2021-01-13T08:35:24.967103Z",
     "shell.execute_reply": "2021-01-13T08:35:24.966577Z"
    },
    "papermill": {
     "duration": 0.130039,
     "end_time": "2021-01-13T08:35:24.967226",
     "exception": false,
     "start_time": "2021-01-13T08:35:24.837187",
     "status": "completed"
    },
    "tags": []
   },
   "outputs": [],
   "source": [
    "noncons_train_index = train[train.cp_type==\"ctl_vehicle\"].index\n",
    "cons_train_index = train[train.cp_type!=\"ctl_vehicle\"].index\n",
    "noncons_test_index = test[test.cp_type==\"ctl_vehicle\"].index\n",
    "cons_test_index = test[test.cp_type!=\"ctl_vehicle\"].index"
   ]
  },
  {
   "cell_type": "markdown",
   "metadata": {
    "papermill": {
     "duration": 0.018705,
     "end_time": "2021-01-13T08:35:25.004375",
     "exception": false,
     "start_time": "2021-01-13T08:35:24.985670",
     "status": "completed"
    },
    "tags": []
   },
   "source": [
    "# target group"
   ]
  },
  {
   "cell_type": "code",
   "execution_count": 5,
   "metadata": {
    "execution": {
     "iopub.execute_input": "2021-01-13T08:35:25.064073Z",
     "iopub.status.busy": "2021-01-13T08:35:25.063060Z",
     "iopub.status.idle": "2021-01-13T08:35:25.066456Z",
     "shell.execute_reply": "2021-01-13T08:35:25.065940Z"
    },
    "papermill": {
     "duration": 0.043004,
     "end_time": "2021-01-13T08:35:25.066564",
     "exception": false,
     "start_time": "2021-01-13T08:35:25.023560",
     "status": "completed"
    },
    "tags": []
   },
   "outputs": [],
   "source": [
    "y = targets.drop(\"sig_id\", axis=1)"
   ]
  },
  {
   "cell_type": "markdown",
   "metadata": {
    "papermill": {
     "duration": 0.020042,
     "end_time": "2021-01-13T08:35:25.107751",
     "exception": false,
     "start_time": "2021-01-13T08:35:25.087709",
     "status": "completed"
    },
    "tags": []
   },
   "source": [
    "# preprocess"
   ]
  },
  {
   "cell_type": "code",
   "execution_count": 6,
   "metadata": {
    "execution": {
     "iopub.execute_input": "2021-01-13T08:35:25.164694Z",
     "iopub.status.busy": "2021-01-13T08:35:25.163479Z",
     "iopub.status.idle": "2021-01-13T08:35:25.429026Z",
     "shell.execute_reply": "2021-01-13T08:35:25.428435Z"
    },
    "papermill": {
     "duration": 0.301371,
     "end_time": "2021-01-13T08:35:25.429144",
     "exception": false,
     "start_time": "2021-01-13T08:35:25.127773",
     "status": "completed"
    },
    "tags": []
   },
   "outputs": [],
   "source": [
    "train = train[train.index.isin(cons_train_index)].copy().reset_index(drop=True)\n",
    "test = test[test.index.isin(cons_test_index)].copy().reset_index(drop=True)\n",
    "targets = targets[targets.index.isin(cons_train_index)].copy().reset_index(drop=True)"
   ]
  },
  {
   "cell_type": "markdown",
   "metadata": {
    "papermill": {
     "duration": 0.01906,
     "end_time": "2021-01-13T08:35:25.467702",
     "exception": false,
     "start_time": "2021-01-13T08:35:25.448642",
     "status": "completed"
    },
    "tags": []
   },
   "source": [
    "# Feature engineering "
   ]
  },
  {
   "cell_type": "code",
   "execution_count": 7,
   "metadata": {
    "execution": {
     "iopub.execute_input": "2021-01-13T08:35:25.566412Z",
     "iopub.status.busy": "2021-01-13T08:35:25.564973Z",
     "iopub.status.idle": "2021-01-13T08:35:25.941226Z",
     "shell.execute_reply": "2021-01-13T08:35:25.941972Z"
    },
    "papermill": {
     "duration": 0.453943,
     "end_time": "2021-01-13T08:35:25.942167",
     "exception": false,
     "start_time": "2021-01-13T08:35:25.488224",
     "status": "completed"
    },
    "tags": []
   },
   "outputs": [
    {
     "name": "stdout",
     "output_type": "stream",
     "text": [
      "33\n"
     ]
    }
   ],
   "source": [
    "#importance = pd.read_csv('../input/moa-feat-importance-rapids/output_source.csv')\n",
    "#importance = importance.set_index(\"Feature\")\n",
    "\n",
    "#imp_scaled = importance.copy(deep=True)\n",
    "#for c in imp_scaled.columns:\n",
    "#    imp_scaled[c] = (1 - preprocessing.MinMaxScaler().fit_transform(imp_scaled[[c]])).round(14)\n",
    "\n",
    "#print(imp_scaled.min().min(), imp_scaled.max().max(), imp_scaled.std().mean())\n",
    "\n",
    "#imp_scaled[\"MeanImp\"] = imp_scaled[target_feats].mean(axis=1)\n",
    "#imp_scaled[\"MaxImp\"]  = imp_scaled[target_feats].max(axis=1)\n",
    "\n",
    "#thresh_mean, thresh_max = 0.3, 0.95\n",
    "#fs_both = imp_scaled.loc[(imp_scaled.MeanImp >= thresh_mean) & (imp_scaled.MaxImp >= thresh_max), Targets]\n",
    "#fs_any = list(imp_scaled.loc[(imp_scaled.MeanImp >= thresh_mean) | (imp_scaled.MaxImp >= thresh_max), target_feats].index)\n",
    "#print(len(fs_any))\n",
    "\n",
    "#least_contribution = list(imp_scaled.sort_values(\"MeanImp\", ascending=True).index)\n",
    "#least_contribution2 = list(imp_scaled.sort_values(\"MaxImp\", ascending=True).index)\n",
    "#drop_feats = [i for i in c_feats+g_feats if i not in fs_any]\n",
    "\n",
    "X = train.iloc[:,4:].copy().values\n",
    "select = VarianceThreshold(threshold=0.7)\n",
    "X_new = select.fit_transform(X)\n",
    "drop_feats = list(np.array(train.iloc[:,4:].columns)[select.get_support()==False])\n",
    "print(len(drop_feats))\n",
    "\n",
    "#drop_feats = least_contribution[:10]\n",
    "#drop_feats += least_contribution2[:10]\n",
    "\n",
    "train.drop(drop_feats, axis=1, inplace=True)\n",
    "test.drop(drop_feats, axis=1, inplace=True)\n",
    "\n",
    "g_feats = [i for i in train.columns if \"g-\" in i]\n",
    "c_feats = [i for i in train.columns if \"c-\" in i]"
   ]
  },
  {
   "cell_type": "code",
   "execution_count": 8,
   "metadata": {
    "execution": {
     "iopub.execute_input": "2021-01-13T08:35:25.991379Z",
     "iopub.status.busy": "2021-01-13T08:35:25.990665Z",
     "iopub.status.idle": "2021-01-13T08:35:37.140716Z",
     "shell.execute_reply": "2021-01-13T08:35:37.139684Z"
    },
    "papermill": {
     "duration": 11.178908,
     "end_time": "2021-01-13T08:35:37.140853",
     "exception": false,
     "start_time": "2021-01-13T08:35:25.961945",
     "status": "completed"
    },
    "tags": []
   },
   "outputs": [],
   "source": [
    "# rank gauss\n",
    "for i in c_feats + g_feats:\n",
    "    ss = preprocessing.QuantileTransformer(n_quantiles=1000, random_state=0, output_distribution=\"normal\")\n",
    "    #    ss.fit(pd.concat([train[i], test[i]]).values.reshape(-1,1))\n",
    "    ss.fit(train[i].values.reshape(-1,1))\n",
    "    train[i] = ss.transform(train[i].values.reshape(-1,1))\n",
    "    test[i] = ss.transform(test[i].values.reshape(-1,1))"
   ]
  },
  {
   "cell_type": "code",
   "execution_count": 9,
   "metadata": {
    "execution": {
     "iopub.execute_input": "2021-01-13T08:35:37.203630Z",
     "iopub.status.busy": "2021-01-13T08:35:37.201803Z",
     "iopub.status.idle": "2021-01-13T08:35:39.611569Z",
     "shell.execute_reply": "2021-01-13T08:35:39.612708Z"
    },
    "papermill": {
     "duration": 2.450727,
     "end_time": "2021-01-13T08:35:39.612889",
     "exception": false,
     "start_time": "2021-01-13T08:35:37.162162",
     "status": "completed"
    },
    "tags": []
   },
   "outputs": [],
   "source": [
    "c_num = 10\n",
    "pca_c_cols = [\"pca-c\"+str(i+1) for i in range(c_num)]\n",
    "pca = PCA(n_components=c_num,random_state=42)\n",
    "c_train = pca.fit_transform(train[c_feats])\n",
    "c_test = pca.transform(test[c_feats])\n",
    "c_train = pd.DataFrame(c_train, columns=pca_c_cols)\n",
    "c_test = pd.DataFrame(c_test, columns=pca_c_cols)\n",
    "\n",
    "g_num = 60\n",
    "pca_g_cols = [\"pca-g\"+str(i+1) for i in range(g_num)]\n",
    "pca = PCA(n_components=g_num, random_state=42)\n",
    "g_train = pca.fit_transform(train[g_feats])\n",
    "g_test = pca.transform(test[g_feats])\n",
    "g_train = pd.DataFrame(g_train, columns=pca_g_cols)\n",
    "g_test = pd.DataFrame(g_test, columns=pca_g_cols)\n",
    "\n",
    "train = pd.concat([train, c_train],axis=1)\n",
    "test = pd.concat([test, c_test],axis=1)\n",
    "train = pd.concat([train, g_train],axis=1)\n",
    "test = pd.concat([test, g_test],axis=1)"
   ]
  },
  {
   "cell_type": "code",
   "execution_count": 10,
   "metadata": {
    "execution": {
     "iopub.execute_input": "2021-01-13T08:35:39.679989Z",
     "iopub.status.busy": "2021-01-13T08:35:39.679090Z",
     "iopub.status.idle": "2021-01-13T08:35:41.585145Z",
     "shell.execute_reply": "2021-01-13T08:35:41.586025Z"
    },
    "papermill": {
     "duration": 1.945358,
     "end_time": "2021-01-13T08:35:41.586190",
     "exception": false,
     "start_time": "2021-01-13T08:35:39.640832",
     "status": "completed"
    },
    "tags": []
   },
   "outputs": [
    {
     "name": "stdout",
     "output_type": "stream",
     "text": [
      "(21948, 918) (3624, 918)\n"
     ]
    }
   ],
   "source": [
    "def fe(df):\n",
    "    tmp = df.copy()\n",
    "    tmp['g_kurt'] = tmp[g_feats].kurtosis(axis = 1)\n",
    "    tmp['g_skew'] = tmp[g_feats].skew(axis = 1)\n",
    "    tmp['c_kurt'] = tmp[c_feats].kurtosis(axis = 1)\n",
    "    tmp['c_skew'] = tmp[c_feats].skew(axis = 1)\n",
    "    tmp = pd.get_dummies(tmp, columns=['cp_time','cp_dose'])\n",
    "    tmp.drop([\"cp_type\", \"sig_id\"], axis=1, inplace=True)\n",
    "    return tmp\n",
    "\n",
    "train = fe(train)\n",
    "test = fe(test)\n",
    "\n",
    "print(train.shape, test.shape)"
   ]
  },
  {
   "cell_type": "code",
   "execution_count": 11,
   "metadata": {
    "execution": {
     "iopub.execute_input": "2021-01-13T08:35:41.634121Z",
     "iopub.status.busy": "2021-01-13T08:35:41.632685Z",
     "iopub.status.idle": "2021-01-13T08:35:41.796620Z",
     "shell.execute_reply": "2021-01-13T08:35:41.796093Z"
    },
    "papermill": {
     "duration": 0.190259,
     "end_time": "2021-01-13T08:35:41.796737",
     "exception": false,
     "start_time": "2021-01-13T08:35:41.606478",
     "status": "completed"
    },
    "tags": []
   },
   "outputs": [],
   "source": [
    "fn_train = train.copy().to_numpy()\n",
    "fn_test = test.copy().to_numpy()\n",
    "fn_targets = targets.drop(\"sig_id\", axis=1).copy().to_numpy()"
   ]
  },
  {
   "cell_type": "markdown",
   "metadata": {
    "papermill": {
     "duration": 0.019866,
     "end_time": "2021-01-13T08:35:41.836564",
     "exception": false,
     "start_time": "2021-01-13T08:35:41.816698",
     "status": "completed"
    },
    "tags": []
   },
   "source": [
    "# modelling"
   ]
  },
  {
   "cell_type": "code",
   "execution_count": 12,
   "metadata": {
    "execution": {
     "iopub.execute_input": "2021-01-13T08:35:42.245697Z",
     "iopub.status.busy": "2021-01-13T08:35:42.244330Z",
     "iopub.status.idle": "2021-01-13T08:35:42.248665Z",
     "shell.execute_reply": "2021-01-13T08:35:42.249210Z"
    },
    "papermill": {
     "duration": 0.392126,
     "end_time": "2021-01-13T08:35:42.249374",
     "exception": false,
     "start_time": "2021-01-13T08:35:41.857248",
     "status": "completed"
    },
    "tags": []
   },
   "outputs": [],
   "source": [
    "device = \"cuda\" if torch.cuda.is_available() else \"cpu\""
   ]
  },
  {
   "cell_type": "code",
   "execution_count": 13,
   "metadata": {
    "execution": {
     "iopub.execute_input": "2021-01-13T08:35:42.303319Z",
     "iopub.status.busy": "2021-01-13T08:35:42.300391Z",
     "iopub.status.idle": "2021-01-13T08:35:42.307469Z",
     "shell.execute_reply": "2021-01-13T08:35:42.306535Z"
    },
    "papermill": {
     "duration": 0.035834,
     "end_time": "2021-01-13T08:35:42.307593",
     "exception": false,
     "start_time": "2021-01-13T08:35:42.271759",
     "status": "completed"
    },
    "tags": []
   },
   "outputs": [],
   "source": [
    "class SmoothCrossEntropyLoss(_WeightedLoss):\n",
    "    def __init__(self, weight=None, reduction='mean', smoothing=0.0):\n",
    "        super().__init__(weight=weight, reduction=reduction)\n",
    "        self.smoothing = smoothing\n",
    "        self.weight = weight\n",
    "        self.reduction = reduction\n",
    "\n",
    "    @staticmethod\n",
    "    def _smooth(targets, n_classes, smoothing=0.0):\n",
    "        assert 0 <= smoothing <= 1\n",
    "        with torch.no_grad():\n",
    "            targets = targets * (1 - smoothing) + torch.ones_like(targets).to(device) * smoothing / n_classes\n",
    "        return targets\n",
    "\n",
    "    def forward(self, inputs, targets):\n",
    "        targets = SmoothCrossEntropyLoss()._smooth(targets, inputs.shape[1], self.smoothing)\n",
    "\n",
    "        if self.weight is not None:\n",
    "            inputs = inputs * self.weight.unsqueeze(0)\n",
    "\n",
    "        loss = F.binary_cross_entropy_with_logits(inputs, targets)\n",
    "\n",
    "        return loss"
   ]
  },
  {
   "cell_type": "code",
   "execution_count": 14,
   "metadata": {
    "execution": {
     "iopub.execute_input": "2021-01-13T08:35:42.367440Z",
     "iopub.status.busy": "2021-01-13T08:35:42.365563Z",
     "iopub.status.idle": "2021-01-13T08:35:42.370246Z",
     "shell.execute_reply": "2021-01-13T08:35:42.369494Z"
    },
    "papermill": {
     "duration": 0.042218,
     "end_time": "2021-01-13T08:35:42.370363",
     "exception": false,
     "start_time": "2021-01-13T08:35:42.328145",
     "status": "completed"
    },
    "tags": []
   },
   "outputs": [
    {
     "name": "stdout",
     "output_type": "stream",
     "text": [
      "cuda\n"
     ]
    }
   ],
   "source": [
    "print(device)\n",
    "def seed_everything(seed=42): \n",
    "    random.seed(seed)\n",
    "    os.environ['PYTHONHASHSEED'] = str(seed)\n",
    "    tf.random.set_seed(seed)\n",
    "    np.random.seed(seed)\n",
    "    torch.manual_seed(seed)\n",
    "    torch.cuda.manual_seed(seed)\n",
    "    torch.backends.cudnn.deterministic = True\n",
    "\n",
    "class MoaModel(nn.Module):\n",
    "    def __init__(self, num_columns, last_num):\n",
    "        super(MoaModel, self).__init__()\n",
    "        self.batch_norm1 = nn.BatchNorm1d(num_columns)\n",
    "        self.dropout1 = nn.Dropout(0.1)\n",
    "        self.dense1 = nn.utils.weight_norm(nn.Linear(num_columns, 1024))\n",
    "        self.relu1 = nn.LeakyReLU()\n",
    "        \n",
    "        self.batch_norm2 = nn.BatchNorm1d(1024)\n",
    "        self.dropout2 = nn.Dropout(0.1)\n",
    "        self.dense2 = nn.utils.weight_norm(nn.Linear(1024, 1024))\n",
    "        self.relu2 = nn.LeakyReLU()\n",
    "        \n",
    "        self.batch_norm3 = nn.BatchNorm1d(1024)\n",
    "        self.dropout3 = nn.Dropout(0.1)\n",
    "        self.dense3 = nn.utils.weight_norm(nn.Linear(1024, last_num))\n",
    "    \n",
    "    def forward(self, x):\n",
    "        x = self.batch_norm1(x)\n",
    "        x = self.dropout1(x)\n",
    "        x = self.relu1(self.dense1(x))\n",
    "        \n",
    "        x = self.batch_norm2(x)\n",
    "        x = self.dropout2(x)\n",
    "        x = self.relu2(self.dense2(x))\n",
    "        \n",
    "        x = self.batch_norm3(x)\n",
    "        x = self.dropout3(x)\n",
    "        x = self.dense3(x)\n",
    "        \n",
    "        return x"
   ]
  },
  {
   "cell_type": "markdown",
   "metadata": {
    "papermill": {
     "duration": 0.0215,
     "end_time": "2021-01-13T08:35:42.413288",
     "exception": false,
     "start_time": "2021-01-13T08:35:42.391788",
     "status": "completed"
    },
    "tags": []
   },
   "source": [
    "# modelling"
   ]
  },
  {
   "cell_type": "code",
   "execution_count": 15,
   "metadata": {
    "execution": {
     "iopub.execute_input": "2021-01-13T08:35:42.504181Z",
     "iopub.status.busy": "2021-01-13T08:35:42.490720Z",
     "iopub.status.idle": "2021-01-13T08:35:42.507283Z",
     "shell.execute_reply": "2021-01-13T08:35:42.506338Z"
    },
    "papermill": {
     "duration": 0.073386,
     "end_time": "2021-01-13T08:35:42.507397",
     "exception": false,
     "start_time": "2021-01-13T08:35:42.434011",
     "status": "completed"
    },
    "tags": []
   },
   "outputs": [],
   "source": [
    "batch_size = 128\n",
    "n_folds=5\n",
    "EARLY_STOPPING_STEPS = 10\n",
    "smoothing = 0.001\n",
    "p_min = smoothing\n",
    "p_max = 1 - smoothing\n",
    "train_epochs = 20\n",
    "\n",
    "def mean_log_loss(y_true, y_pred):\n",
    "    metrics = []\n",
    "    for i, target in enumerate(target_feats):\n",
    "        metrics.append(log_loss(y_true[:, i], y_pred[:, i].astype(float), labels=[0,1]))\n",
    "    return np.mean(metrics)\n",
    "\n",
    "def calc_each_loss(y_true, y_pred):\n",
    "    ans = np.zeros(206)\n",
    "    for i, target in enumerate(target_feats):\n",
    "        ans[i] = log_loss(y_true[:, i], y_pred[:, i].astype(float), labels=[0,1])\n",
    "    return ans\n",
    "    \n",
    "def modelling_torch(tr, target, te, sample_seed, init_num, last_num):\n",
    "    seed_everything(seed=sample_seed) \n",
    "    X_train = tr.copy()\n",
    "    y_train = target.copy()\n",
    "    X_test = te.copy()\n",
    "    test_len = X_test.shape[0]\n",
    "    \n",
    "    mskf=MultilabelStratifiedKFold(n_splits = n_folds, shuffle=True, random_state=224)\n",
    "    metric = lambda inputs, targets : F.binary_cross_entropy((torch.clamp(torch.sigmoid(inputs), p_min, p_max)), targets)\n",
    "\n",
    "    models = []\n",
    "    \n",
    "    X_test2 = torch.tensor(X_test, dtype=torch.float32)\n",
    "    test = torch.utils.data.TensorDataset(X_test2) \n",
    "    test_loader = torch.utils.data.DataLoader(test, batch_size=batch_size, shuffle=False)\n",
    "    \n",
    "    best_oof = pd.DataFrame(np.zeros([len(X_train),y_train.shape[1]]))\n",
    "    pred_value = np.zeros([test_len, y_train.shape[1]])\n",
    "    scores = []\n",
    "\n",
    "    for fold, (train_index, valid_index) in enumerate(mskf.split(X_train, y_train)):\n",
    "        print(\"Fold \"+str(fold+1))\n",
    "        X_train2 = torch.tensor(X_train[train_index,:], dtype=torch.float32)\n",
    "        y_train2 = torch.tensor(y_train[train_index], dtype=torch.float32)\n",
    "\n",
    "        X_valid2 = torch.tensor(X_train[valid_index,:], dtype=torch.float32)\n",
    "        y_valid2 = torch.tensor(y_train[valid_index], dtype=torch.float32)\n",
    "        \n",
    "        train = torch.utils.data.TensorDataset(X_train2, y_train2)\n",
    "        valid = torch.utils.data.TensorDataset(X_valid2, y_valid2)\n",
    "        \n",
    "        train_loader = torch.utils.data.DataLoader(train, batch_size=batch_size, shuffle=True) \n",
    "        valid_loader = torch.utils.data.DataLoader(valid, batch_size=batch_size, shuffle=False)\n",
    "            \n",
    "        clf = MoaModel(init_num, last_num)\n",
    "        loss_fn = SmoothCrossEntropyLoss(smoothing=smoothing)\n",
    "\n",
    "        optimizer = optim.Adam(clf.parameters(), lr = 0.001, weight_decay=1e-5) \n",
    "        scheduler = optim.lr_scheduler.OneCycleLR(optimizer=optimizer, pct_start=0.1, div_factor=1e3, \n",
    "                                              max_lr=1e-2, epochs=train_epochs, steps_per_epoch=len(train_loader))\n",
    "        \n",
    "        clf.to(device)\n",
    "        \n",
    "        best_val_loss = np.inf\n",
    "        best_each_val_loss = np.array([np.inf for _ in range(206)])\n",
    "        test_preds = np.zeros([test_len, y_train.shape[1]])\n",
    "        \n",
    "        for epoch in range(train_epochs):\n",
    "            start_time = time.time()\n",
    "            clf.train()\n",
    "            avg_loss = 0.\n",
    "            sm_avg_loss = 0.\n",
    "            for x_batch, y_batch in tqdm(train_loader, disable=True):\n",
    "                x_batch = x_batch.to(device)\n",
    "                y_batch = y_batch.to(device)\n",
    "                y_pred = clf(x_batch) \n",
    "                loss = loss_fn(y_pred, y_batch)\n",
    "                optimizer.zero_grad()\n",
    "                loss.backward()\n",
    "                optimizer.step()\n",
    "                scheduler.step()\n",
    "                avg_loss += loss.item() / len(train_loader)  \n",
    "                sm_avg_loss += metric(y_pred, y_batch) / len(train_loader)\n",
    "                \n",
    "            clf.eval()\n",
    "            avg_val_loss = 0.\n",
    "            sm_avg_val_loss = 0.\n",
    "            oof_epoch = np.zeros([X_valid2.size(0), y_train.shape[1]])\n",
    "            target_epoch = np.zeros([X_valid2.size(0), y_train.shape[1]])\n",
    "            for i, (x_batch, y_batch) in enumerate(valid_loader): \n",
    "                x_batch = x_batch.to(device)\n",
    "                y_batch = y_batch.to(device)\n",
    "                y_pred = clf(x_batch).detach()\n",
    "                avg_val_loss += loss_fn(y_pred, y_batch).item() / len(valid_loader)\n",
    "                sm_avg_val_loss += metric(y_pred, y_batch) / len(valid_loader)\n",
    "                oof_epoch[i * batch_size:(i+1) * batch_size,:] = torch.clamp(torch.sigmoid(y_pred.cpu()), p_min, p_max)\n",
    "                target_epoch[i * batch_size:(i+1) * batch_size,:] = y_batch.cpu().numpy()\n",
    "            each_sm_avg_loss = calc_each_loss(target_epoch, oof_epoch)\n",
    "        \n",
    "            elapsed_time = time.time() - start_time \n",
    "                    \n",
    "            mask = best_each_val_loss > each_sm_avg_loss\n",
    "            best_each_val_loss[mask] = each_sm_avg_loss[mask]\n",
    "            best_oof.iloc[valid_index,mask] = oof_epoch[:, mask]\n",
    "            #if sm_avg_val_loss < best_val_loss:\n",
    "            if sum(mask) > 0:\n",
    "                best_val_loss = sm_avg_val_loss\n",
    "                print('Epoch {} imp_mask {} l={:.5f}  val_l={:.5f}  sm_l={:.5f}  sm_val_l={:.5f}  t={:.2f}s'.format(\n",
    "                    epoch + 1, sum(mask), avg_loss, avg_val_loss, sm_avg_loss, sm_avg_val_loss, elapsed_time))\n",
    "        \n",
    "            # test predcition --------------\n",
    "                for i, (x_batch,) in enumerate(test_loader): \n",
    "                    x_batch = x_batch.to(device)\n",
    "                    y_pred = clf(x_batch).detach()\n",
    "                    test_preds[i * batch_size:(i+1) * batch_size, mask] = torch.clamp(torch.sigmoid(y_pred.cpu()), p_min, p_max)[:,mask]\n",
    "        pred_value += test_preds / n_folds\n",
    "            # ------------------------------\n",
    "    \n",
    "    print(\"Seed {}\".format(seed_))\n",
    "    print(\"log loss: {}\".format(np.mean(best_each_val_loss)))\n",
    "    \n",
    "    return best_oof, pred_value"
   ]
  },
  {
   "cell_type": "code",
   "execution_count": 16,
   "metadata": {
    "execution": {
     "iopub.execute_input": "2021-01-13T08:35:42.563863Z",
     "iopub.status.busy": "2021-01-13T08:35:42.563067Z",
     "iopub.status.idle": "2021-01-13T08:38:02.221475Z",
     "shell.execute_reply": "2021-01-13T08:38:02.220964Z"
    },
    "papermill": {
     "duration": 139.68903,
     "end_time": "2021-01-13T08:38:02.221626",
     "exception": false,
     "start_time": "2021-01-13T08:35:42.532596",
     "status": "completed"
    },
    "tags": []
   },
   "outputs": [
    {
     "name": "stdout",
     "output_type": "stream",
     "text": [
      "Fold 1\n",
      "Epoch 1 imp_mask 206 l=0.42385  val_l=0.02236  sm_l=0.42380  sm_val_l=0.02236  t=2.02s\n",
      "Epoch 2 imp_mask 62 l=0.02038  val_l=0.02874  sm_l=0.02032  sm_val_l=0.02846  t=1.23s\n",
      "Epoch 3 imp_mask 197 l=0.01837  val_l=0.01784  sm_l=0.01837  sm_val_l=0.01796  t=1.47s\n",
      "Epoch 4 imp_mask 94 l=0.01760  val_l=0.01783  sm_l=0.01769  sm_val_l=0.01795  t=1.22s\n",
      "Epoch 5 imp_mask 106 l=0.01736  val_l=0.01746  sm_l=0.01747  sm_val_l=0.01758  t=1.22s\n",
      "Epoch 6 imp_mask 58 l=0.01723  val_l=0.01796  sm_l=0.01735  sm_val_l=0.01806  t=1.26s\n",
      "Epoch 7 imp_mask 56 l=0.01741  val_l=0.01740  sm_l=0.01752  sm_val_l=0.01751  t=1.17s\n",
      "Epoch 8 imp_mask 33 l=0.01727  val_l=0.01748  sm_l=0.01738  sm_val_l=0.01760  t=1.15s\n",
      "Epoch 9 imp_mask 22 l=0.01718  val_l=0.01739  sm_l=0.01730  sm_val_l=0.01751  t=1.17s\n",
      "Epoch 10 imp_mask 43 l=0.01712  val_l=0.01697  sm_l=0.01723  sm_val_l=0.01710  t=1.17s\n",
      "Epoch 11 imp_mask 43 l=0.01685  val_l=0.01702  sm_l=0.01698  sm_val_l=0.01714  t=1.31s\n",
      "Epoch 12 imp_mask 52 l=0.01669  val_l=0.01684  sm_l=0.01683  sm_val_l=0.01698  t=1.28s\n",
      "Epoch 13 imp_mask 44 l=0.01653  val_l=0.01675  sm_l=0.01667  sm_val_l=0.01689  t=1.22s\n",
      "Epoch 14 imp_mask 36 l=0.01623  val_l=0.01668  sm_l=0.01637  sm_val_l=0.01681  t=1.22s\n",
      "Epoch 15 imp_mask 73 l=0.01585  val_l=0.01631  sm_l=0.01602  sm_val_l=0.01646  t=1.20s\n",
      "Epoch 16 imp_mask 54 l=0.01548  val_l=0.01635  sm_l=0.01566  sm_val_l=0.01651  t=1.55s\n",
      "Epoch 17 imp_mask 77 l=0.01499  val_l=0.01610  sm_l=0.01519  sm_val_l=0.01627  t=1.21s\n",
      "Epoch 18 imp_mask 72 l=0.01443  val_l=0.01603  sm_l=0.01463  sm_val_l=0.01620  t=1.16s\n",
      "Epoch 19 imp_mask 61 l=0.01407  val_l=0.01596  sm_l=0.01428  sm_val_l=0.01614  t=1.18s\n",
      "Epoch 20 imp_mask 24 l=0.01381  val_l=0.01600  sm_l=0.01403  sm_val_l=0.01617  t=1.37s\n",
      "Fold 2\n",
      "Epoch 1 imp_mask 206 l=0.42599  val_l=0.02260  sm_l=0.42592  sm_val_l=0.02257  t=1.15s\n",
      "Epoch 2 imp_mask 165 l=0.02031  val_l=0.02015  sm_l=0.02024  sm_val_l=0.02017  t=1.15s\n",
      "Epoch 3 imp_mask 186 l=0.01808  val_l=0.01788  sm_l=0.01814  sm_val_l=0.01796  t=1.14s\n",
      "Epoch 4 imp_mask 132 l=0.01754  val_l=0.01778  sm_l=0.01764  sm_val_l=0.01789  t=1.14s\n",
      "Epoch 5 imp_mask 100 l=0.01731  val_l=0.01754  sm_l=0.01742  sm_val_l=0.01765  t=1.52s\n",
      "Epoch 6 imp_mask 70 l=0.01737  val_l=0.01753  sm_l=0.01748  sm_val_l=0.01764  t=1.17s\n",
      "Epoch 7 imp_mask 54 l=0.01731  val_l=0.01736  sm_l=0.01742  sm_val_l=0.01747  t=1.46s\n",
      "Epoch 8 imp_mask 35 l=0.01724  val_l=0.01760  sm_l=0.01735  sm_val_l=0.01770  t=1.54s\n",
      "Epoch 9 imp_mask 38 l=0.01719  val_l=0.01725  sm_l=0.01730  sm_val_l=0.01736  t=1.16s\n",
      "Epoch 10 imp_mask 50 l=0.01702  val_l=0.01702  sm_l=0.01714  sm_val_l=0.01714  t=1.24s\n",
      "Epoch 11 imp_mask 55 l=0.01685  val_l=0.01699  sm_l=0.01698  sm_val_l=0.01712  t=1.19s\n",
      "Epoch 12 imp_mask 50 l=0.01668  val_l=0.01680  sm_l=0.01682  sm_val_l=0.01695  t=1.13s\n",
      "Epoch 13 imp_mask 36 l=0.01647  val_l=0.01679  sm_l=0.01662  sm_val_l=0.01692  t=1.14s\n",
      "Epoch 14 imp_mask 60 l=0.01620  val_l=0.01650  sm_l=0.01635  sm_val_l=0.01665  t=1.14s\n",
      "Epoch 15 imp_mask 50 l=0.01578  val_l=0.01642  sm_l=0.01595  sm_val_l=0.01657  t=1.15s\n",
      "Epoch 16 imp_mask 65 l=0.01537  val_l=0.01613  sm_l=0.01556  sm_val_l=0.01629  t=1.38s\n",
      "Epoch 17 imp_mask 71 l=0.01485  val_l=0.01606  sm_l=0.01504  sm_val_l=0.01622  t=1.19s\n",
      "Epoch 18 imp_mask 47 l=0.01434  val_l=0.01597  sm_l=0.01455  sm_val_l=0.01614  t=1.15s\n",
      "Epoch 19 imp_mask 60 l=0.01394  val_l=0.01590  sm_l=0.01416  sm_val_l=0.01607  t=1.16s\n",
      "Epoch 20 imp_mask 30 l=0.01370  val_l=0.01590  sm_l=0.01392  sm_val_l=0.01607  t=1.49s\n",
      "Fold 3\n",
      "Epoch 1 imp_mask 206 l=0.42455  val_l=0.02250  sm_l=0.42450  sm_val_l=0.02248  t=1.19s\n",
      "Epoch 2 imp_mask 191 l=0.02017  val_l=0.01905  sm_l=0.02014  sm_val_l=0.01892  t=1.17s\n",
      "Epoch 3 imp_mask 145 l=0.01823  val_l=0.01758  sm_l=0.01828  sm_val_l=0.01766  t=1.17s\n",
      "Epoch 4 imp_mask 80 l=0.01751  val_l=0.01764  sm_l=0.01760  sm_val_l=0.01775  t=1.26s\n",
      "Epoch 5 imp_mask 107 l=0.01733  val_l=0.01747  sm_l=0.01744  sm_val_l=0.01761  t=1.34s\n",
      "Epoch 6 imp_mask 65 l=0.01730  val_l=0.01728  sm_l=0.01742  sm_val_l=0.01740  t=1.18s\n",
      "Epoch 7 imp_mask 51 l=0.01730  val_l=0.01712  sm_l=0.01741  sm_val_l=0.01721  t=1.15s\n",
      "Epoch 8 imp_mask 38 l=0.01731  val_l=0.01736  sm_l=0.01742  sm_val_l=0.01748  t=1.16s\n",
      "Epoch 9 imp_mask 34 l=0.01713  val_l=0.01729  sm_l=0.01724  sm_val_l=0.01740  t=1.16s\n",
      "Epoch 10 imp_mask 37 l=0.01701  val_l=0.01684  sm_l=0.01713  sm_val_l=0.01698  t=1.14s\n",
      "Epoch 11 imp_mask 27 l=0.01696  val_l=0.01700  sm_l=0.01708  sm_val_l=0.01713  t=1.15s\n",
      "Epoch 12 imp_mask 32 l=0.01671  val_l=0.01677  sm_l=0.01684  sm_val_l=0.01690  t=1.18s\n",
      "Epoch 13 imp_mask 58 l=0.01644  val_l=0.01650  sm_l=0.01659  sm_val_l=0.01664  t=1.35s\n",
      "Epoch 14 imp_mask 52 l=0.01618  val_l=0.01641  sm_l=0.01633  sm_val_l=0.01654  t=1.17s\n",
      "Epoch 15 imp_mask 49 l=0.01586  val_l=0.01635  sm_l=0.01602  sm_val_l=0.01650  t=1.15s\n",
      "Epoch 16 imp_mask 61 l=0.01539  val_l=0.01611  sm_l=0.01557  sm_val_l=0.01626  t=1.15s\n",
      "Epoch 17 imp_mask 61 l=0.01485  val_l=0.01593  sm_l=0.01505  sm_val_l=0.01610  t=1.17s\n",
      "Epoch 18 imp_mask 44 l=0.01439  val_l=0.01596  sm_l=0.01460  sm_val_l=0.01612  t=1.16s\n",
      "Epoch 19 imp_mask 60 l=0.01396  val_l=0.01582  sm_l=0.01418  sm_val_l=0.01598  t=1.16s\n",
      "Epoch 20 imp_mask 36 l=0.01371  val_l=0.01582  sm_l=0.01393  sm_val_l=0.01599  t=1.18s\n",
      "Fold 4\n",
      "Epoch 1 imp_mask 206 l=0.42522  val_l=0.02335  sm_l=0.42516  sm_val_l=0.02334  t=1.17s\n",
      "Epoch 2 imp_mask 188 l=0.02015  val_l=0.02136  sm_l=0.02012  sm_val_l=0.02033  t=1.44s\n",
      "Epoch 3 imp_mask 195 l=0.01821  val_l=0.01767  sm_l=0.01825  sm_val_l=0.01769  t=1.20s\n",
      "Epoch 4 imp_mask 84 l=0.01754  val_l=0.01840  sm_l=0.01764  sm_val_l=0.01845  t=1.17s\n",
      "Epoch 5 imp_mask 102 l=0.01740  val_l=0.01730  sm_l=0.01750  sm_val_l=0.01738  t=1.59s\n",
      "Epoch 6 imp_mask 54 l=0.01738  val_l=0.01769  sm_l=0.01748  sm_val_l=0.01780  t=1.17s\n",
      "Epoch 7 imp_mask 63 l=0.01734  val_l=0.01755  sm_l=0.01746  sm_val_l=0.01764  t=1.16s\n",
      "Epoch 8 imp_mask 46 l=0.01724  val_l=0.01752  sm_l=0.01736  sm_val_l=0.01762  t=1.15s\n",
      "Epoch 9 imp_mask 42 l=0.01722  val_l=0.01726  sm_l=0.01734  sm_val_l=0.01738  t=1.16s\n",
      "Epoch 10 imp_mask 38 l=0.01711  val_l=0.01741  sm_l=0.01723  sm_val_l=0.01752  t=1.39s\n",
      "Epoch 11 imp_mask 42 l=0.01695  val_l=0.01687  sm_l=0.01707  sm_val_l=0.01700  t=1.64s\n",
      "Epoch 12 imp_mask 49 l=0.01673  val_l=0.01701  sm_l=0.01687  sm_val_l=0.01711  t=1.21s\n",
      "Epoch 13 imp_mask 41 l=0.01653  val_l=0.01658  sm_l=0.01668  sm_val_l=0.01672  t=1.22s\n",
      "Epoch 14 imp_mask 51 l=0.01626  val_l=0.01651  sm_l=0.01642  sm_val_l=0.01664  t=1.34s\n",
      "Epoch 15 imp_mask 54 l=0.01596  val_l=0.01635  sm_l=0.01613  sm_val_l=0.01649  t=1.42s\n",
      "Epoch 16 imp_mask 71 l=0.01547  val_l=0.01609  sm_l=0.01565  sm_val_l=0.01625  t=1.24s\n",
      "Epoch 17 imp_mask 55 l=0.01502  val_l=0.01600  sm_l=0.01521  sm_val_l=0.01616  t=1.19s\n",
      "Epoch 18 imp_mask 74 l=0.01453  val_l=0.01587  sm_l=0.01474  sm_val_l=0.01604  t=1.41s\n",
      "Epoch 19 imp_mask 69 l=0.01407  val_l=0.01579  sm_l=0.01428  sm_val_l=0.01596  t=1.25s\n",
      "Epoch 20 imp_mask 29 l=0.01391  val_l=0.01584  sm_l=0.01412  sm_val_l=0.01601  t=1.17s\n",
      "Fold 5\n",
      "Epoch 1 imp_mask 206 l=0.42416  val_l=0.02305  sm_l=0.42411  sm_val_l=0.02303  t=1.16s\n",
      "Epoch 2 imp_mask 196 l=0.02013  val_l=0.01897  sm_l=0.02011  sm_val_l=0.01885  t=1.17s\n",
      "Epoch 3 imp_mask 173 l=0.01813  val_l=0.01760  sm_l=0.01816  sm_val_l=0.01764  t=1.15s\n",
      "Epoch 4 imp_mask 107 l=0.01744  val_l=0.01764  sm_l=0.01754  sm_val_l=0.01773  t=1.16s\n",
      "Epoch 5 imp_mask 86 l=0.01733  val_l=0.01777  sm_l=0.01745  sm_val_l=0.01789  t=1.14s\n",
      "Epoch 6 imp_mask 54 l=0.01736  val_l=0.01772  sm_l=0.01747  sm_val_l=0.01783  t=1.15s\n",
      "Epoch 7 imp_mask 73 l=0.01730  val_l=0.01748  sm_l=0.01742  sm_val_l=0.01759  t=1.38s\n",
      "Epoch 8 imp_mask 32 l=0.01715  val_l=0.01760  sm_l=0.01726  sm_val_l=0.01770  t=1.17s\n",
      "Epoch 9 imp_mask 36 l=0.01710  val_l=0.01733  sm_l=0.01722  sm_val_l=0.01742  t=1.49s\n",
      "Epoch 10 imp_mask 33 l=0.01697  val_l=0.01713  sm_l=0.01709  sm_val_l=0.01725  t=1.15s\n",
      "Epoch 11 imp_mask 38 l=0.01690  val_l=0.01701  sm_l=0.01703  sm_val_l=0.01713  t=1.15s\n",
      "Epoch 12 imp_mask 36 l=0.01676  val_l=0.01708  sm_l=0.01689  sm_val_l=0.01720  t=1.14s\n",
      "Epoch 13 imp_mask 53 l=0.01646  val_l=0.01668  sm_l=0.01661  sm_val_l=0.01682  t=1.15s\n",
      "Epoch 14 imp_mask 47 l=0.01620  val_l=0.01655  sm_l=0.01636  sm_val_l=0.01670  t=1.14s\n",
      "Epoch 15 imp_mask 64 l=0.01584  val_l=0.01636  sm_l=0.01601  sm_val_l=0.01650  t=1.41s\n",
      "Epoch 16 imp_mask 63 l=0.01541  val_l=0.01623  sm_l=0.01560  sm_val_l=0.01639  t=1.16s\n",
      "Epoch 17 imp_mask 67 l=0.01497  val_l=0.01610  sm_l=0.01517  sm_val_l=0.01625  t=1.16s\n",
      "Epoch 18 imp_mask 69 l=0.01446  val_l=0.01598  sm_l=0.01467  sm_val_l=0.01614  t=1.17s\n",
      "Epoch 19 imp_mask 61 l=0.01398  val_l=0.01594  sm_l=0.01419  sm_val_l=0.01610  t=1.15s\n",
      "Epoch 20 imp_mask 12 l=0.01375  val_l=0.01595  sm_l=0.01397  sm_val_l=0.01612  t=1.13s\n",
      "Seed 0\n",
      "log loss: 0.016004394856688628\n"
     ]
    },
    {
     "ename": "NameError",
     "evalue": "name 'target_oof' is not defined",
     "output_type": "error",
     "traceback": [
      "\u001b[0;31m---------------------------------------------------------------------------\u001b[0m",
      "\u001b[0;31mNameError\u001b[0m                                 Traceback (most recent call last)",
      "\u001b[0;32m<timed exec>\u001b[0m in \u001b[0;36m<module>\u001b[0;34m\u001b[0m\n",
      "\u001b[0;31mNameError\u001b[0m: name 'target_oof' is not defined"
     ]
    }
   ],
   "source": [
    "%%time\n",
    "seeds = [0,1,2,3,4]\n",
    "target_pred = np.zeros([len(fn_test),fn_targets.shape[1]])\n",
    "\n",
    "for seed_ in seeds:\n",
    "    oof, pytorch_pred = modelling_torch(fn_train, fn_targets, fn_test, seed_, fn_train.shape[1], fn_targets.shape[1])\n",
    "    oof = oof.to_numpy()\n",
    "    target_oof += oof / len(seeds)\n",
    "    target_pred += pytorch_pred / len(seeds)"
   ]
  },
  {
   "cell_type": "code",
   "execution_count": 17,
   "metadata": {
    "execution": {
     "iopub.execute_input": "2021-01-13T08:38:02.349096Z",
     "iopub.status.busy": "2021-01-13T08:38:02.348140Z",
     "iopub.status.idle": "2021-01-13T08:38:02.677081Z",
     "shell.execute_reply": "2021-01-13T08:38:02.676532Z"
    },
    "papermill": {
     "duration": 0.397114,
     "end_time": "2021-01-13T08:38:02.677200",
     "exception": false,
     "start_time": "2021-01-13T08:38:02.280086",
     "status": "completed"
    },
    "tags": []
   },
   "outputs": [
    {
     "ename": "NameError",
     "evalue": "name 'target_oof' is not defined",
     "output_type": "error",
     "traceback": [
      "\u001b[0;31m---------------------------------------------------------------------------\u001b[0m",
      "\u001b[0;31mNameError\u001b[0m                                 Traceback (most recent call last)",
      "\u001b[0;32m<ipython-input-17-0a6c3589736f>\u001b[0m in \u001b[0;36m<module>\u001b[0;34m\u001b[0m\n\u001b[1;32m      1\u001b[0m \u001b[0mt\u001b[0m \u001b[0;34m=\u001b[0m \u001b[0mpd\u001b[0m\u001b[0;34m.\u001b[0m\u001b[0mread_csv\u001b[0m\u001b[0;34m(\u001b[0m\u001b[0mDATA_DIR\u001b[0m \u001b[0;34m+\u001b[0m \u001b[0;34m'train_targets_scored.csv'\u001b[0m\u001b[0;34m)\u001b[0m\u001b[0;34m\u001b[0m\u001b[0;34m\u001b[0m\u001b[0m\n\u001b[1;32m      2\u001b[0m \u001b[0mtrain_checkscore\u001b[0m \u001b[0;34m=\u001b[0m \u001b[0mt\u001b[0m\u001b[0;34m.\u001b[0m\u001b[0mcopy\u001b[0m\u001b[0;34m(\u001b[0m\u001b[0;34m)\u001b[0m\u001b[0;34m\u001b[0m\u001b[0;34m\u001b[0m\u001b[0m\n\u001b[0;32m----> 3\u001b[0;31m \u001b[0mtrain_checkscore\u001b[0m\u001b[0;34m.\u001b[0m\u001b[0mloc\u001b[0m\u001b[0;34m[\u001b[0m\u001b[0mtrain_checkscore\u001b[0m\u001b[0;34m.\u001b[0m\u001b[0mindex\u001b[0m\u001b[0;34m.\u001b[0m\u001b[0misin\u001b[0m\u001b[0;34m(\u001b[0m\u001b[0mcons_train_index\u001b[0m\u001b[0;34m)\u001b[0m\u001b[0;34m,\u001b[0m\u001b[0mtarget_feats\u001b[0m\u001b[0;34m]\u001b[0m \u001b[0;34m=\u001b[0m \u001b[0mtarget_oof\u001b[0m\u001b[0;34m\u001b[0m\u001b[0;34m\u001b[0m\u001b[0m\n\u001b[0m\u001b[1;32m      4\u001b[0m \u001b[0mtrain_checkscore\u001b[0m\u001b[0;34m.\u001b[0m\u001b[0mloc\u001b[0m\u001b[0;34m[\u001b[0m\u001b[0mtrain_checkscore\u001b[0m\u001b[0;34m.\u001b[0m\u001b[0mindex\u001b[0m\u001b[0;34m.\u001b[0m\u001b[0misin\u001b[0m\u001b[0;34m(\u001b[0m\u001b[0mnoncons_train_index\u001b[0m\u001b[0;34m)\u001b[0m\u001b[0;34m,\u001b[0m\u001b[0mtarget_feats\u001b[0m\u001b[0;34m]\u001b[0m \u001b[0;34m=\u001b[0m \u001b[0;36m0\u001b[0m\u001b[0;34m\u001b[0m\u001b[0;34m\u001b[0m\u001b[0m\n\u001b[1;32m      5\u001b[0m \u001b[0mt\u001b[0m\u001b[0;34m.\u001b[0m\u001b[0mdrop\u001b[0m\u001b[0;34m(\u001b[0m\u001b[0;34m\"sig_id\"\u001b[0m\u001b[0;34m,\u001b[0m \u001b[0maxis\u001b[0m\u001b[0;34m=\u001b[0m\u001b[0;36m1\u001b[0m\u001b[0;34m,\u001b[0m \u001b[0minplace\u001b[0m\u001b[0;34m=\u001b[0m\u001b[0;32mTrue\u001b[0m\u001b[0;34m)\u001b[0m\u001b[0;34m\u001b[0m\u001b[0;34m\u001b[0m\u001b[0m\n",
      "\u001b[0;31mNameError\u001b[0m: name 'target_oof' is not defined"
     ]
    }
   ],
   "source": [
    "t = pd.read_csv(DATA_DIR + 'train_targets_scored.csv')\n",
    "train_checkscore = t.copy()\n",
    "train_checkscore.loc[train_checkscore.index.isin(cons_train_index),target_feats] = target_oof\n",
    "train_checkscore.loc[train_checkscore.index.isin(noncons_train_index),target_feats] = 0\n",
    "t.drop(\"sig_id\", axis=1, inplace=True)\n",
    "print('OOF log loss: ', log_loss(np.ravel(t), np.ravel(np.array(train_checkscore.iloc[:,1:]))))"
   ]
  },
  {
   "cell_type": "code",
   "execution_count": 18,
   "metadata": {
    "execution": {
     "iopub.execute_input": "2021-01-13T08:38:02.799402Z",
     "iopub.status.busy": "2021-01-13T08:38:02.798764Z",
     "iopub.status.idle": "2021-01-13T08:38:04.070990Z",
     "shell.execute_reply": "2021-01-13T08:38:04.070016Z"
    },
    "papermill": {
     "duration": 1.334549,
     "end_time": "2021-01-13T08:38:04.071123",
     "exception": false,
     "start_time": "2021-01-13T08:38:02.736574",
     "status": "completed"
    },
    "tags": []
   },
   "outputs": [],
   "source": [
    "train_checkscore.to_csv(\"mlp_oof.csv\", index=False)"
   ]
  },
  {
   "cell_type": "code",
   "execution_count": 19,
   "metadata": {
    "execution": {
     "iopub.execute_input": "2021-01-13T08:38:04.196287Z",
     "iopub.status.busy": "2021-01-13T08:38:04.195009Z",
     "iopub.status.idle": "2021-01-13T08:38:05.604357Z",
     "shell.execute_reply": "2021-01-13T08:38:05.603777Z"
    },
    "papermill": {
     "duration": 1.474469,
     "end_time": "2021-01-13T08:38:05.604495",
     "exception": false,
     "start_time": "2021-01-13T08:38:04.130026",
     "status": "completed"
    },
    "tags": []
   },
   "outputs": [],
   "source": [
    "sub.loc[cons_test_index,target_feats] = target_pred\n",
    "sub.loc[noncons_test_index,target_feats] = 0\n",
    "sub.to_csv('submission.csv', index=False)"
   ]
  },
  {
   "cell_type": "code",
   "execution_count": null,
   "metadata": {
    "papermill": {
     "duration": 0.061566,
     "end_time": "2021-01-13T08:38:05.725084",
     "exception": false,
     "start_time": "2021-01-13T08:38:05.663518",
     "status": "completed"
    },
    "tags": []
   },
   "outputs": [],
   "source": []
  }
 ],
 "metadata": {
  "kernelspec": {
   "display_name": "Python 3",
   "language": "python",
   "name": "python3"
  },
  "language_info": {
   "codemirror_mode": {
    "name": "ipython",
    "version": 3
   },
   "file_extension": ".py",
   "mimetype": "text/x-python",
   "name": "python",
   "nbconvert_exporter": "python",
   "pygments_lexer": "ipython3",
   "version": "3.7.6"
  },
  "papermill": {
   "duration": 185.900876,
   "end_time": "2021-01-13T08:38:06.987278",
   "environment_variables": {},
   "exception": null,
   "input_path": "__notebook__.ipynb",
   "output_path": "__notebook__.ipynb",
   "parameters": {},
   "start_time": "2021-01-13T08:35:01.086402",
   "version": "2.1.0"
  }
 },
 "nbformat": 4,
 "nbformat_minor": 4
}
