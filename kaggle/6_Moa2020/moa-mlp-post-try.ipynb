{
 "cells": [
  {
   "cell_type": "markdown",
   "metadata": {
    "papermill": {
     "duration": 0.023379,
     "end_time": "2021-03-19T05:33:12.953181",
     "exception": false,
     "start_time": "2021-03-19T05:33:12.929802",
     "status": "completed"
    },
    "tags": []
   },
   "source": [
    "**Late submission**\n",
    "- solve as a multiclass classification problem"
   ]
  },
  {
   "cell_type": "code",
   "execution_count": 1,
   "metadata": {
    "_cell_guid": "b1076dfc-b9ad-4769-8c92-a6c4dae69d19",
    "_uuid": "8f2839f25d086af736a60e9eeb907d3b93b6e0e5",
    "execution": {
     "iopub.execute_input": "2021-03-19T05:33:13.010268Z",
     "iopub.status.busy": "2021-03-19T05:33:13.009385Z",
     "iopub.status.idle": "2021-03-19T05:33:25.108317Z",
     "shell.execute_reply": "2021-03-19T05:33:25.107690Z"
    },
    "papermill": {
     "duration": 12.132854,
     "end_time": "2021-03-19T05:33:25.108445",
     "exception": false,
     "start_time": "2021-03-19T05:33:12.975591",
     "status": "completed"
    },
    "tags": []
   },
   "outputs": [
    {
     "name": "stderr",
     "output_type": "stream",
     "text": [
      "/opt/conda/lib/python3.7/site-packages/ipykernel_launcher.py:21: TqdmDeprecationWarning: This function will be removed in tqdm==5.0.0\n",
      "Please use `tqdm.notebook.*` instead of `tqdm._tqdm_notebook.*`\n"
     ]
    }
   ],
   "source": [
    "import os\n",
    "import sys\n",
    "import random\n",
    "import warnings\n",
    "import numpy as np\n",
    "import pandas as pd \n",
    "from umap import UMAP\n",
    "import networkx as nx\n",
    "from sklearn import preprocessing\n",
    "from sklearn.metrics import log_loss,roc_auc_score\n",
    "from sklearn.decomposition import PCA\n",
    "from tqdm import tqdm_notebook as tqdm\n",
    "from sklearn.cluster import KMeans\n",
    "from sklearn.multioutput import MultiOutputClassifier\n",
    "from sklearn.feature_selection import VarianceThreshold\n",
    "from sklearn.compose import make_column_transformer,ColumnTransformer\n",
    "from sklearn.base import BaseEstimator,TransformerMixin\n",
    "from sklearn.pipeline import make_pipeline,make_union\n",
    "from sklearn.decomposition import TruncatedSVD\n",
    "from sklearn.model_selection import StratifiedKFold, KFold\n",
    "from tqdm._tqdm_notebook import tqdm_notebook\n",
    "\n",
    "sys.path.append('../input/multilabelstraifier/')\n",
    "from ml_stratifiers import MultilabelStratifiedKFold\n",
    "warnings.filterwarnings('ignore')\n",
    "\n",
    "import time\n",
    "import torch\n",
    "import torch.nn as nn\n",
    "import torch.optim as optim\n",
    "import torch.nn.functional as F\n",
    "import tensorflow as tf\n",
    "from torch.nn.modules.loss import _WeightedLoss\n",
    "from sklearn.utils import check_random_state"
   ]
  },
  {
   "cell_type": "markdown",
   "metadata": {
    "papermill": {
     "duration": 0.024135,
     "end_time": "2021-03-19T05:33:25.156929",
     "exception": false,
     "start_time": "2021-03-19T05:33:25.132794",
     "status": "completed"
    },
    "tags": []
   },
   "source": [
    "# final engineering"
   ]
  },
  {
   "cell_type": "code",
   "execution_count": 2,
   "metadata": {
    "execution": {
     "iopub.execute_input": "2021-03-19T05:33:25.212733Z",
     "iopub.status.busy": "2021-03-19T05:33:25.212024Z",
     "iopub.status.idle": "2021-03-19T05:33:34.448733Z",
     "shell.execute_reply": "2021-03-19T05:33:34.447416Z"
    },
    "papermill": {
     "duration": 9.268531,
     "end_time": "2021-03-19T05:33:34.448859",
     "exception": false,
     "start_time": "2021-03-19T05:33:25.180328",
     "status": "completed"
    },
    "tags": []
   },
   "outputs": [],
   "source": [
    "DATA_DIR = '/kaggle/input/lish-moa/'\n",
    "train = pd.read_csv(DATA_DIR + 'train_features.csv')\n",
    "targets = pd.read_csv(DATA_DIR + 'train_targets_scored.csv')\n",
    "non_targets = pd.read_csv(DATA_DIR + 'train_targets_nonscored.csv')\n",
    "test = pd.read_csv(DATA_DIR + 'test_features.csv')\n",
    "sub = pd.read_csv(DATA_DIR + 'sample_submission.csv')\n",
    "drug = pd.read_csv(DATA_DIR + 'train_drug.csv')"
   ]
  },
  {
   "cell_type": "code",
   "execution_count": 3,
   "metadata": {
    "execution": {
     "iopub.execute_input": "2021-03-19T05:33:34.503222Z",
     "iopub.status.busy": "2021-03-19T05:33:34.500578Z",
     "iopub.status.idle": "2021-03-19T05:33:34.503994Z",
     "shell.execute_reply": "2021-03-19T05:33:34.504548Z"
    },
    "papermill": {
     "duration": 0.032858,
     "end_time": "2021-03-19T05:33:34.504676",
     "exception": false,
     "start_time": "2021-03-19T05:33:34.471818",
     "status": "completed"
    },
    "tags": []
   },
   "outputs": [],
   "source": [
    "target_feats = [ i for i in targets.columns if i != \"sig_id\"]\n",
    "g_feats = [i for i in train.columns if \"g-\" in i]\n",
    "c_feats = [i for i in train.columns if \"c-\" in i]"
   ]
  },
  {
   "cell_type": "code",
   "execution_count": 4,
   "metadata": {
    "execution": {
     "iopub.execute_input": "2021-03-19T05:33:34.558655Z",
     "iopub.status.busy": "2021-03-19T05:33:34.557672Z",
     "iopub.status.idle": "2021-03-19T05:33:34.672866Z",
     "shell.execute_reply": "2021-03-19T05:33:34.672234Z"
    },
    "papermill": {
     "duration": 0.146101,
     "end_time": "2021-03-19T05:33:34.672988",
     "exception": false,
     "start_time": "2021-03-19T05:33:34.526887",
     "status": "completed"
    },
    "tags": []
   },
   "outputs": [],
   "source": [
    "noncons_train_index = train[train.cp_type==\"ctl_vehicle\"].index\n",
    "cons_train_index = train[train.cp_type!=\"ctl_vehicle\"].index\n",
    "noncons_test_index = test[test.cp_type==\"ctl_vehicle\"].index\n",
    "cons_test_index = test[test.cp_type!=\"ctl_vehicle\"].index"
   ]
  },
  {
   "cell_type": "markdown",
   "metadata": {
    "papermill": {
     "duration": 0.023385,
     "end_time": "2021-03-19T05:33:34.719958",
     "exception": false,
     "start_time": "2021-03-19T05:33:34.696573",
     "status": "completed"
    },
    "tags": []
   },
   "source": [
    "# target group"
   ]
  },
  {
   "cell_type": "code",
   "execution_count": 5,
   "metadata": {
    "execution": {
     "iopub.execute_input": "2021-03-19T05:33:34.790869Z",
     "iopub.status.busy": "2021-03-19T05:33:34.789767Z",
     "iopub.status.idle": "2021-03-19T05:33:34.793507Z",
     "shell.execute_reply": "2021-03-19T05:33:34.792928Z"
    },
    "papermill": {
     "duration": 0.049514,
     "end_time": "2021-03-19T05:33:34.793632",
     "exception": false,
     "start_time": "2021-03-19T05:33:34.744118",
     "status": "completed"
    },
    "tags": []
   },
   "outputs": [],
   "source": [
    "y = targets.drop(\"sig_id\", axis=1)"
   ]
  },
  {
   "cell_type": "code",
   "execution_count": 6,
   "metadata": {
    "execution": {
     "iopub.execute_input": "2021-03-19T05:33:34.852345Z",
     "iopub.status.busy": "2021-03-19T05:33:34.851291Z",
     "iopub.status.idle": "2021-03-19T05:33:48.901582Z",
     "shell.execute_reply": "2021-03-19T05:33:48.900974Z"
    },
    "papermill": {
     "duration": 14.084926,
     "end_time": "2021-03-19T05:33:48.901719",
     "exception": false,
     "start_time": "2021-03-19T05:33:34.816793",
     "status": "completed"
    },
    "tags": []
   },
   "outputs": [
    {
     "data": {
      "text/plain": [
       "((23814, 328), (328, 206))"
      ]
     },
     "execution_count": 6,
     "metadata": {},
     "output_type": "execute_result"
    }
   ],
   "source": [
    "def make_string(row):\n",
    "    return str(row[1:].values).replace('[','').replace(']','').replace('\\n','').replace(' ','')\n",
    "\n",
    "targets[\"target_pair\"] = targets.apply(make_string, axis=1)\n",
    "targetpair_id = dict(enumerate(targets[\"target_pair\"].unique()))\n",
    "id_targetpair = {y:x for x,y in targetpair_id.items()}\n",
    "targets[\"target_pair_num\"] = targets[\"target_pair\"].map(id_targetpair)\n",
    "\n",
    "multiclass_targets = pd.get_dummies(targets[\"target_pair_num\"])\n",
    "\n",
    "for i in range(len(id_targetpair.keys())):\n",
    "    if i == 0:\n",
    "        classid_target = np.array(list((targetpair_id[i]))).reshape(1,-1)      \n",
    "    else:\n",
    "        classid_target = np.vstack([classid_target, np.array(list((targetpair_id[i]))).reshape(1,-1)])\n",
    "        \n",
    "multiclass_targets.shape, classid_target.shape"
   ]
  },
  {
   "cell_type": "code",
   "execution_count": 7,
   "metadata": {
    "execution": {
     "iopub.execute_input": "2021-03-19T05:33:48.999359Z",
     "iopub.status.busy": "2021-03-19T05:33:48.998236Z",
     "iopub.status.idle": "2021-03-19T05:33:49.002210Z",
     "shell.execute_reply": "2021-03-19T05:33:49.001647Z"
    },
    "papermill": {
     "duration": 0.076717,
     "end_time": "2021-03-19T05:33:49.002328",
     "exception": false,
     "start_time": "2021-03-19T05:33:48.925611",
     "status": "completed"
    },
    "tags": []
   },
   "outputs": [],
   "source": [
    "classid_target = classid_target.astype(int)"
   ]
  },
  {
   "cell_type": "code",
   "execution_count": 8,
   "metadata": {
    "execution": {
     "iopub.execute_input": "2021-03-19T05:33:49.054959Z",
     "iopub.status.busy": "2021-03-19T05:33:49.054030Z",
     "iopub.status.idle": "2021-03-19T05:33:49.057849Z",
     "shell.execute_reply": "2021-03-19T05:33:49.057271Z"
    },
    "papermill": {
     "duration": 0.031827,
     "end_time": "2021-03-19T05:33:49.057968",
     "exception": false,
     "start_time": "2021-03-19T05:33:49.026141",
     "status": "completed"
    },
    "tags": []
   },
   "outputs": [],
   "source": [
    "class_num = multiclass_targets.shape[1]"
   ]
  },
  {
   "cell_type": "markdown",
   "metadata": {
    "papermill": {
     "duration": 0.0234,
     "end_time": "2021-03-19T05:33:49.105000",
     "exception": false,
     "start_time": "2021-03-19T05:33:49.081600",
     "status": "completed"
    },
    "tags": []
   },
   "source": [
    "# preprocess"
   ]
  },
  {
   "cell_type": "code",
   "execution_count": 9,
   "metadata": {
    "execution": {
     "iopub.execute_input": "2021-03-19T05:33:49.167036Z",
     "iopub.status.busy": "2021-03-19T05:33:49.165877Z",
     "iopub.status.idle": "2021-03-19T05:33:49.504633Z",
     "shell.execute_reply": "2021-03-19T05:33:49.504041Z"
    },
    "papermill": {
     "duration": 0.376181,
     "end_time": "2021-03-19T05:33:49.504761",
     "exception": false,
     "start_time": "2021-03-19T05:33:49.128580",
     "status": "completed"
    },
    "tags": []
   },
   "outputs": [],
   "source": [
    "train = train[train.index.isin(cons_train_index)].copy().reset_index(drop=True)\n",
    "test = test[test.index.isin(cons_test_index)].copy().reset_index(drop=True)\n",
    "targets = targets[targets.index.isin(cons_train_index)].copy().reset_index(drop=True)\n",
    "multiclass_targets = multiclass_targets[multiclass_targets.index.isin(cons_train_index)].copy().reset_index(drop=True)"
   ]
  },
  {
   "cell_type": "markdown",
   "metadata": {
    "papermill": {
     "duration": 0.024728,
     "end_time": "2021-03-19T05:33:49.554819",
     "exception": false,
     "start_time": "2021-03-19T05:33:49.530091",
     "status": "completed"
    },
    "tags": []
   },
   "source": [
    "# Feature engineering "
   ]
  },
  {
   "cell_type": "code",
   "execution_count": 10,
   "metadata": {
    "execution": {
     "iopub.execute_input": "2021-03-19T05:33:49.672925Z",
     "iopub.status.busy": "2021-03-19T05:33:49.671223Z",
     "iopub.status.idle": "2021-03-19T05:33:50.105754Z",
     "shell.execute_reply": "2021-03-19T05:33:50.105166Z"
    },
    "papermill": {
     "duration": 0.526329,
     "end_time": "2021-03-19T05:33:50.105877",
     "exception": false,
     "start_time": "2021-03-19T05:33:49.579548",
     "status": "completed"
    },
    "tags": []
   },
   "outputs": [
    {
     "name": "stdout",
     "output_type": "stream",
     "text": [
      "33\n"
     ]
    }
   ],
   "source": [
    "#importance = pd.read_csv('../input/moa-feat-importance-rapids/output_source.csv')\n",
    "#importance = importance.set_index(\"Feature\")\n",
    "\n",
    "#imp_scaled = importance.copy(deep=True)\n",
    "#for c in imp_scaled.columns:\n",
    "#    imp_scaled[c] = (1 - preprocessing.MinMaxScaler().fit_transform(imp_scaled[[c]])).round(14)\n",
    "\n",
    "#print(imp_scaled.min().min(), imp_scaled.max().max(), imp_scaled.std().mean())\n",
    "\n",
    "#imp_scaled[\"MeanImp\"] = imp_scaled[target_feats].mean(axis=1)\n",
    "#imp_scaled[\"MaxImp\"]  = imp_scaled[target_feats].max(axis=1)\n",
    "\n",
    "#thresh_mean, thresh_max = 0.3, 0.95\n",
    "#fs_both = imp_scaled.loc[(imp_scaled.MeanImp >= thresh_mean) & (imp_scaled.MaxImp >= thresh_max), Targets]\n",
    "#fs_any = list(imp_scaled.loc[(imp_scaled.MeanImp >= thresh_mean) | (imp_scaled.MaxImp >= thresh_max), target_feats].index)\n",
    "#print(len(fs_any))\n",
    "\n",
    "#least_contribution = list(imp_scaled.sort_values(\"MeanImp\", ascending=True).index)\n",
    "#least_contribution2 = list(imp_scaled.sort_values(\"MaxImp\", ascending=True).index)\n",
    "#drop_feats = [i for i in c_feats+g_feats if i not in fs_any]\n",
    "\n",
    "X = train.iloc[:,4:].copy().values\n",
    "select = VarianceThreshold(threshold=0.7)\n",
    "X_new = select.fit_transform(X)\n",
    "drop_feats = list(np.array(train.iloc[:,4:].columns)[select.get_support()==False])\n",
    "print(len(drop_feats))\n",
    "\n",
    "#drop_feats = least_contribution[:10]\n",
    "#drop_feats += least_contribution2[:10]\n",
    "\n",
    "train.drop(drop_feats, axis=1, inplace=True)\n",
    "test.drop(drop_feats, axis=1, inplace=True)\n",
    "\n",
    "g_feats = [i for i in train.columns if \"g-\" in i]\n",
    "c_feats = [i for i in train.columns if \"c-\" in i]"
   ]
  },
  {
   "cell_type": "code",
   "execution_count": 11,
   "metadata": {
    "execution": {
     "iopub.execute_input": "2021-03-19T05:33:50.164982Z",
     "iopub.status.busy": "2021-03-19T05:33:50.163827Z",
     "iopub.status.idle": "2021-03-19T05:34:02.288706Z",
     "shell.execute_reply": "2021-03-19T05:34:02.289684Z"
    },
    "papermill": {
     "duration": 12.158923,
     "end_time": "2021-03-19T05:34:02.289896",
     "exception": false,
     "start_time": "2021-03-19T05:33:50.130973",
     "status": "completed"
    },
    "tags": []
   },
   "outputs": [],
   "source": [
    "# rank gauss\n",
    "for i in c_feats + g_feats:\n",
    "    ss = preprocessing.QuantileTransformer(n_quantiles=1000, random_state=0, output_distribution=\"normal\")\n",
    "    ss.fit(pd.concat([train[i], test[i]]).values.reshape(-1,1))\n",
    "    #ss.fit(train[i].values.reshape(-1,1))\n",
    "    train[i] = ss.transform(train[i].values.reshape(-1,1))\n",
    "    test[i] = ss.transform(test[i].values.reshape(-1,1))"
   ]
  },
  {
   "cell_type": "code",
   "execution_count": 12,
   "metadata": {
    "execution": {
     "iopub.execute_input": "2021-03-19T05:34:02.387672Z",
     "iopub.status.busy": "2021-03-19T05:34:02.384092Z",
     "iopub.status.idle": "2021-03-19T05:34:02.389671Z",
     "shell.execute_reply": "2021-03-19T05:34:02.388789Z"
    },
    "papermill": {
     "duration": 0.056701,
     "end_time": "2021-03-19T05:34:02.389825",
     "exception": false,
     "start_time": "2021-03-19T05:34:02.333124",
     "status": "completed"
    },
    "tags": []
   },
   "outputs": [],
   "source": [
    "# # data augmentation by cutmix\n",
    "# random.seed(0)\n",
    "# np.random.seed(0)\n",
    "# def cutmix_for_tabular(x, y=None, alpha=1.0, p=1.0, random_state=None):\n",
    "#     x_ = x.copy()\n",
    "#     n, d = x.shape\n",
    "\n",
    "#     if n is not None and random.random() < p:\n",
    "#         random_state = check_random_state(random_state)\n",
    "#         l = random_state.beta(alpha, alpha)\n",
    "#         mask = random_state.choice([False, True], size=d, p=[l, 1.0 - l])\n",
    "#         mask = np.where(mask)[0]\n",
    "#         shuffle = random_state.choice(n, n, replace=False)\n",
    "#         x_[:,mask] = x_[np.ix_(shuffle,mask)]\n",
    "        \n",
    "#         if y is not None:\n",
    "#             y = l * y + (1.0 - l) * y[shuffle]\n",
    "        \n",
    "#     return x_, y\n",
    "\n",
    "# train_mod, y_mod = cutmix_for_tabular(train.values, y.values, alpha=1, p=1)\n",
    "\n",
    "# assert np.sum(y_mod != y.values).sum() != 0 \n",
    "# assert np.sum(train_mod != train.values).sum() != 0\n",
    "\n",
    "# train_mod = pd.DataFrame(train_mod, columns = train.columns)\n",
    "# train = pd.concat([train, train_mod], axis=0).reset_index(drop=True)\n",
    "\n",
    "# y_mod = pd.DataFrame(y_mod, columns = y.columns)\n",
    "# y = pd.concat([y, y_mod], axis=0).reset_index(drop=True)"
   ]
  },
  {
   "cell_type": "code",
   "execution_count": 13,
   "metadata": {
    "execution": {
     "iopub.execute_input": "2021-03-19T05:34:02.494006Z",
     "iopub.status.busy": "2021-03-19T05:34:02.493021Z",
     "iopub.status.idle": "2021-03-19T05:34:05.429666Z",
     "shell.execute_reply": "2021-03-19T05:34:05.428492Z"
    },
    "papermill": {
     "duration": 2.995224,
     "end_time": "2021-03-19T05:34:05.429802",
     "exception": false,
     "start_time": "2021-03-19T05:34:02.434578",
     "status": "completed"
    },
    "tags": []
   },
   "outputs": [],
   "source": [
    "c_num = 10\n",
    "pca_c_cols = [\"pca-c\"+str(i+1) for i in range(c_num)]\n",
    "pca = PCA(n_components=c_num,random_state=42)\n",
    "c_train = pca.fit_transform(train[c_feats])\n",
    "c_test = pca.transform(test[c_feats])\n",
    "c_train = pd.DataFrame(c_train, columns=pca_c_cols)\n",
    "c_test = pd.DataFrame(c_test, columns=pca_c_cols)\n",
    "\n",
    "g_num = 60\n",
    "pca_g_cols = [\"pca-g\"+str(i+1) for i in range(g_num)]\n",
    "pca = PCA(n_components=g_num, random_state=42)\n",
    "g_train = pca.fit_transform(train[g_feats])\n",
    "g_test = pca.transform(test[g_feats])\n",
    "g_train = pd.DataFrame(g_train, columns=pca_g_cols)\n",
    "g_test = pd.DataFrame(g_test, columns=pca_g_cols)\n",
    "\n",
    "train = pd.concat([train, c_train],axis=1)\n",
    "test = pd.concat([test, c_test],axis=1)\n",
    "train = pd.concat([train, g_train],axis=1)\n",
    "test = pd.concat([test, g_test],axis=1)"
   ]
  },
  {
   "cell_type": "code",
   "execution_count": 14,
   "metadata": {
    "execution": {
     "iopub.execute_input": "2021-03-19T05:34:05.530127Z",
     "iopub.status.busy": "2021-03-19T05:34:05.528563Z",
     "iopub.status.idle": "2021-03-19T05:34:07.654375Z",
     "shell.execute_reply": "2021-03-19T05:34:07.653763Z"
    },
    "papermill": {
     "duration": 2.172647,
     "end_time": "2021-03-19T05:34:07.654546",
     "exception": false,
     "start_time": "2021-03-19T05:34:05.481899",
     "status": "completed"
    },
    "tags": []
   },
   "outputs": [],
   "source": [
    "def fe(df):\n",
    "    tmp = df.copy()\n",
    "    tmp['g_kurt'] = tmp[g_feats].kurtosis(axis = 1)\n",
    "    tmp['g_skew'] = tmp[g_feats].skew(axis = 1)\n",
    "    tmp['c_kurt'] = tmp[c_feats].kurtosis(axis = 1)\n",
    "    tmp['c_skew'] = tmp[c_feats].skew(axis = 1)\n",
    "    tmp = pd.get_dummies(tmp, columns=['cp_time','cp_dose'])\n",
    "    tmp.drop([\"cp_type\", \"sig_id\"], axis=1, inplace=True)\n",
    "    return tmp\n",
    "\n",
    "train = fe(train)\n",
    "test = fe(test)"
   ]
  },
  {
   "cell_type": "code",
   "execution_count": 15,
   "metadata": {
    "execution": {
     "iopub.execute_input": "2021-03-19T05:34:07.713282Z",
     "iopub.status.busy": "2021-03-19T05:34:07.711915Z",
     "iopub.status.idle": "2021-03-19T05:34:07.871953Z",
     "shell.execute_reply": "2021-03-19T05:34:07.871283Z"
    },
    "papermill": {
     "duration": 0.191681,
     "end_time": "2021-03-19T05:34:07.872086",
     "exception": false,
     "start_time": "2021-03-19T05:34:07.680405",
     "status": "completed"
    },
    "tags": []
   },
   "outputs": [],
   "source": [
    "fn_train = train.copy().to_numpy()\n",
    "fn_test = test.copy().to_numpy()\n",
    "fn_targets = y.copy().to_numpy()"
   ]
  },
  {
   "cell_type": "code",
   "execution_count": 16,
   "metadata": {
    "execution": {
     "iopub.execute_input": "2021-03-19T05:34:07.931982Z",
     "iopub.status.busy": "2021-03-19T05:34:07.930287Z",
     "iopub.status.idle": "2021-03-19T05:34:07.935310Z",
     "shell.execute_reply": "2021-03-19T05:34:07.934730Z"
    },
    "papermill": {
     "duration": 0.036909,
     "end_time": "2021-03-19T05:34:07.935431",
     "exception": false,
     "start_time": "2021-03-19T05:34:07.898522",
     "status": "completed"
    },
    "tags": []
   },
   "outputs": [],
   "source": [
    "fn_mutliclass_targets = multiclass_targets.copy().to_numpy()"
   ]
  },
  {
   "cell_type": "code",
   "execution_count": 17,
   "metadata": {
    "execution": {
     "iopub.execute_input": "2021-03-19T05:34:07.994824Z",
     "iopub.status.busy": "2021-03-19T05:34:07.993573Z",
     "iopub.status.idle": "2021-03-19T05:34:07.999638Z",
     "shell.execute_reply": "2021-03-19T05:34:08.000497Z"
    },
    "papermill": {
     "duration": 0.039028,
     "end_time": "2021-03-19T05:34:08.000704",
     "exception": false,
     "start_time": "2021-03-19T05:34:07.961676",
     "status": "completed"
    },
    "tags": []
   },
   "outputs": [
    {
     "name": "stdout",
     "output_type": "stream",
     "text": [
      "(21948, 918) (3624, 918) (23814, 206) (21948, 328)\n"
     ]
    }
   ],
   "source": [
    "print(fn_train.shape, fn_test.shape, fn_targets.shape, fn_mutliclass_targets.shape)"
   ]
  },
  {
   "cell_type": "markdown",
   "metadata": {
    "papermill": {
     "duration": 0.025325,
     "end_time": "2021-03-19T05:34:08.053323",
     "exception": false,
     "start_time": "2021-03-19T05:34:08.027998",
     "status": "completed"
    },
    "tags": []
   },
   "source": [
    "# modelling"
   ]
  },
  {
   "cell_type": "code",
   "execution_count": 18,
   "metadata": {
    "execution": {
     "iopub.execute_input": "2021-03-19T05:34:08.495069Z",
     "iopub.status.busy": "2021-03-19T05:34:08.493864Z",
     "iopub.status.idle": "2021-03-19T05:34:08.497627Z",
     "shell.execute_reply": "2021-03-19T05:34:08.496962Z"
    },
    "papermill": {
     "duration": 0.418577,
     "end_time": "2021-03-19T05:34:08.497749",
     "exception": false,
     "start_time": "2021-03-19T05:34:08.079172",
     "status": "completed"
    },
    "tags": []
   },
   "outputs": [],
   "source": [
    "device = \"cuda\" if torch.cuda.is_available() else \"cpu\""
   ]
  },
  {
   "cell_type": "code",
   "execution_count": 19,
   "metadata": {
    "execution": {
     "iopub.execute_input": "2021-03-19T05:34:08.562877Z",
     "iopub.status.busy": "2021-03-19T05:34:08.561923Z",
     "iopub.status.idle": "2021-03-19T05:34:08.565925Z",
     "shell.execute_reply": "2021-03-19T05:34:08.565215Z"
    },
    "papermill": {
     "duration": 0.04185,
     "end_time": "2021-03-19T05:34:08.566036",
     "exception": false,
     "start_time": "2021-03-19T05:34:08.524186",
     "status": "completed"
    },
    "tags": []
   },
   "outputs": [],
   "source": [
    "class SmoothCrossEntropyLoss(_WeightedLoss):\n",
    "    def __init__(self, weight=None, reduction='mean', smoothing=0.0):\n",
    "        super().__init__(weight=weight, reduction=reduction)\n",
    "        self.smoothing = smoothing\n",
    "        self.weight = weight\n",
    "        self.reduction = reduction\n",
    "\n",
    "    @staticmethod\n",
    "    def _smooth(targets, n_classes, smoothing=0.0):\n",
    "        assert 0 <= smoothing <= 1\n",
    "        with torch.no_grad():\n",
    "            targets = targets * (1 - smoothing) + torch.ones_like(targets).to(device) * smoothing / n_classes\n",
    "        return targets\n",
    "\n",
    "    def forward(self, inputs, targets):\n",
    "        targets = SmoothCrossEntropyLoss()._smooth(targets, inputs.shape[1], self.smoothing)\n",
    "\n",
    "        if self.weight is not None:\n",
    "            inputs = inputs * self.weight.unsqueeze(0)\n",
    "\n",
    "        loss = F.binary_cross_entropy_with_logits(inputs, targets)\n",
    "\n",
    "        return loss"
   ]
  },
  {
   "cell_type": "code",
   "execution_count": 20,
   "metadata": {
    "execution": {
     "iopub.execute_input": "2021-03-19T05:34:08.639369Z",
     "iopub.status.busy": "2021-03-19T05:34:08.638406Z",
     "iopub.status.idle": "2021-03-19T05:34:08.642550Z",
     "shell.execute_reply": "2021-03-19T05:34:08.643132Z"
    },
    "papermill": {
     "duration": 0.050372,
     "end_time": "2021-03-19T05:34:08.643282",
     "exception": false,
     "start_time": "2021-03-19T05:34:08.592910",
     "status": "completed"
    },
    "tags": []
   },
   "outputs": [
    {
     "name": "stdout",
     "output_type": "stream",
     "text": [
      "cuda\n"
     ]
    }
   ],
   "source": [
    "print(device)\n",
    "def seed_everything(seed=42): \n",
    "    random.seed(seed)\n",
    "    os.environ['PYTHONHASHSEED'] = str(seed)\n",
    "    tf.random.set_seed(seed)\n",
    "    np.random.seed(seed)\n",
    "    torch.manual_seed(seed)\n",
    "    torch.cuda.manual_seed(seed)\n",
    "    torch.backends.cudnn.deterministic = True\n",
    "\n",
    "class MoaModel(nn.Module):\n",
    "    def __init__(self, num_columns, last_num):\n",
    "        super(MoaModel, self).__init__()\n",
    "        self.batch_norm1 = nn.BatchNorm1d(num_columns)\n",
    "        self.dropout1 = nn.Dropout(0.1)\n",
    "        self.dense1 = nn.utils.weight_norm(nn.Linear(num_columns, 1024))\n",
    "        self.relu1 = nn.LeakyReLU()\n",
    "        \n",
    "        self.batch_norm2 = nn.BatchNorm1d(1024)\n",
    "        self.dropout2 = nn.Dropout(0.1)\n",
    "        self.dense2 = nn.utils.weight_norm(nn.Linear(1024, 1024))\n",
    "        self.relu2 = nn.LeakyReLU()\n",
    "        \n",
    "        self.batch_norm3 = nn.BatchNorm1d(1024)\n",
    "        self.dropout3 = nn.Dropout(0.1)\n",
    "        self.dense3 = nn.utils.weight_norm(nn.Linear(1024, last_num))\n",
    "        \n",
    "    def forward(self, x):\n",
    "        x = self.batch_norm1(x)\n",
    "        x = self.dropout1(x)\n",
    "        x = self.relu1(self.dense1(x))\n",
    "        \n",
    "        x = self.batch_norm2(x)\n",
    "        x = self.dropout2(x)\n",
    "        x = self.relu2(self.dense2(x))\n",
    "        \n",
    "        x = self.batch_norm3(x)\n",
    "        x = self.dropout3(x)\n",
    "        x = self.dense3(x)\n",
    "        \n",
    "        return x"
   ]
  },
  {
   "cell_type": "markdown",
   "metadata": {
    "papermill": {
     "duration": 0.028381,
     "end_time": "2021-03-19T05:34:08.699552",
     "exception": false,
     "start_time": "2021-03-19T05:34:08.671171",
     "status": "completed"
    },
    "tags": []
   },
   "source": [
    "# modelling"
   ]
  },
  {
   "cell_type": "code",
   "execution_count": 21,
   "metadata": {
    "execution": {
     "iopub.execute_input": "2021-03-19T05:34:08.779058Z",
     "iopub.status.busy": "2021-03-19T05:34:08.768698Z",
     "iopub.status.idle": "2021-03-19T05:34:08.804618Z",
     "shell.execute_reply": "2021-03-19T05:34:08.803689Z"
    },
    "papermill": {
     "duration": 0.077951,
     "end_time": "2021-03-19T05:34:08.804788",
     "exception": false,
     "start_time": "2021-03-19T05:34:08.726837",
     "status": "completed"
    },
    "tags": []
   },
   "outputs": [],
   "source": [
    "batch_size = 128\n",
    "n_folds=7\n",
    "EARLY_STOPPING_STEPS = 10\n",
    "smoothing = 0.001\n",
    "p_min = smoothing\n",
    "p_max = 1 - smoothing\n",
    "train_epochs = 20\n",
    "\n",
    "def mean_log_loss(y_true, y_pred):\n",
    "    metrics = []\n",
    "    for i, target in enumerate(target_feats):\n",
    "        metrics.append(log_loss(y_true[:, i], y_pred[:, i].astype(float), labels=[0,1]))\n",
    "    return np.mean(metrics)\n",
    "\n",
    "    \n",
    "def modelling_torch(tr, target, te, sample_seed, init_num, last_num):\n",
    "    seed_everything(seed=sample_seed) \n",
    "    X_train = tr.copy()\n",
    "    y_train = target.copy()\n",
    "    X_test = te.copy()\n",
    "    test_len = X_test.shape[0]\n",
    "    \n",
    "    mskf=MultilabelStratifiedKFold(n_splits = n_folds, shuffle=True, random_state=224)\n",
    "    metric = lambda inputs, targets : F.binary_cross_entropy((torch.clamp(torch.sigmoid(inputs), p_min, p_max)), targets)\n",
    "\n",
    "    models = []\n",
    "    \n",
    "    X_test2 = torch.tensor(X_test, dtype=torch.float32)\n",
    "    test = torch.utils.data.TensorDataset(X_test2) \n",
    "    test_loader = torch.utils.data.DataLoader(test, batch_size=batch_size, shuffle=False)\n",
    "    \n",
    "    oof = np.zeros([len(X_train),y_train.shape[1]])\n",
    "    oof_targets = np.zeros([len(X_train),y_train.shape[1]])\n",
    "    pred_value = np.zeros([test_len, y_train.shape[1]])\n",
    "    for fold, (train_index, valid_index) in enumerate(mskf.split(X_train, y_train)):\n",
    "        print(\"Fold \"+str(fold+1))\n",
    "        X_train2 = torch.tensor(X_train[train_index,:], dtype=torch.float32)\n",
    "        y_train2 = torch.tensor(y_train[train_index], dtype=torch.float32)\n",
    "\n",
    "        X_valid2 = torch.tensor(X_train[valid_index,:], dtype=torch.float32)\n",
    "        y_valid2 = torch.tensor(y_train[valid_index], dtype=torch.float32)\n",
    "        \n",
    "        train = torch.utils.data.TensorDataset(X_train2, y_train2)\n",
    "        valid = torch.utils.data.TensorDataset(X_valid2, y_valid2)\n",
    "        \n",
    "        train_loader = torch.utils.data.DataLoader(train, batch_size=batch_size, shuffle=True) \n",
    "        valid_loader = torch.utils.data.DataLoader(valid, batch_size=batch_size, shuffle=False)\n",
    "            \n",
    "        clf = MoaModel(init_num, last_num)\n",
    "        loss_fn = SmoothCrossEntropyLoss(smoothing=smoothing)\n",
    "\n",
    "        optimizer = optim.Adam(clf.parameters(), lr = 0.001, weight_decay=1e-5) \n",
    "        scheduler = optim.lr_scheduler.OneCycleLR(optimizer=optimizer, pct_start=0.1, div_factor=1e3, \n",
    "                                              max_lr=1e-2, epochs=train_epochs, steps_per_epoch=len(train_loader))\n",
    "        \n",
    "        clf.to(device)\n",
    "        \n",
    "        best_val_loss = np.inf\n",
    "        stop_counts = 0\n",
    "        for epoch in range(train_epochs):\n",
    "            start_time = time.time()\n",
    "            clf.train()\n",
    "            avg_loss = 0.\n",
    "            sm_avg_loss = 0.\n",
    "            for x_batch, y_batch in tqdm(train_loader, disable=True):\n",
    "                x_batch = x_batch.to(device)\n",
    "                y_batch = y_batch.to(device)\n",
    "                y_pred = clf(x_batch) \n",
    "                loss = loss_fn(y_pred, y_batch)\n",
    "                optimizer.zero_grad()\n",
    "                loss.backward()\n",
    "                optimizer.step()\n",
    "                scheduler.step()\n",
    "                avg_loss += loss.item() / len(train_loader)  \n",
    "                sm_avg_loss += metric(y_pred, y_batch) / len(train_loader) \n",
    "                \n",
    "            clf.eval()\n",
    "            avg_val_loss = 0.\n",
    "            sm_avg_val_loss = 0.\n",
    "            for i, (x_batch, y_batch) in enumerate(valid_loader): \n",
    "                x_batch = x_batch.to(device)\n",
    "                y_batch = y_batch.to(device)\n",
    "                y_pred = clf(x_batch).detach()\n",
    "                avg_val_loss += loss_fn(y_pred, y_batch).item() / len(valid_loader)\n",
    "                sm_avg_val_loss += metric(y_pred, y_batch) / len(valid_loader)\n",
    "        \n",
    "            elapsed_time = time.time() - start_time \n",
    "                    \n",
    "            if sm_avg_val_loss < best_val_loss:\n",
    "                best_val_loss = sm_avg_val_loss\n",
    "                print('Epoch {}  loss={:.5f}  val_loss={:.5f}  sm_loss={:.5f}  sm_val_loss={:.5f}  time={:.2f}s'.format(\n",
    "                    epoch + 1, avg_loss, avg_val_loss, sm_avg_loss, sm_avg_val_loss, elapsed_time))\n",
    "                torch.save(clf.state_dict(), 'best-model-parameters.pt')\n",
    "            else:\n",
    "                stop_counts += 1\n",
    "        \n",
    "        pred_model = MoaModel(init_num, last_num)\n",
    "        pred_model.load_state_dict(torch.load('best-model-parameters.pt'))         \n",
    "        pred_model.eval()\n",
    "        \n",
    "        # validation check ----------------\n",
    "        oof_epoch = np.zeros([X_valid2.size(0), y_train.shape[1]])\n",
    "        target_epoch = np.zeros([X_valid2.size(0), y_train.shape[1]])\n",
    "        for i, (x_batch, y_batch) in enumerate(valid_loader): \n",
    "            y_pred = pred_model(x_batch).detach()\n",
    "            oof_epoch[i * batch_size:(i+1) * batch_size,:] = torch.clamp(torch.sigmoid(y_pred.cpu()), p_min, p_max)\n",
    "            target_epoch[i * batch_size:(i+1) * batch_size,:] = y_batch.cpu().numpy()\n",
    "        oof[valid_index,:] = oof_epoch\n",
    "        oof_targets[valid_index,:] = target_epoch\n",
    "        #-----------------------------------\n",
    "        \n",
    "        # test predcition --------------\n",
    "        test_preds = np.zeros([test_len, y_train.shape[1]])\n",
    "        for i, (x_batch,) in enumerate(test_loader): \n",
    "            y_pred = pred_model(x_batch).detach()\n",
    "            test_preds[i * batch_size:(i+1) * batch_size, :] = torch.clamp(torch.sigmoid(y_pred.cpu()), p_min, p_max)\n",
    "        pred_value += test_preds / n_folds\n",
    "        # ------------------------------\n",
    "    \n",
    "    return oof, pred_value"
   ]
  },
  {
   "cell_type": "code",
   "execution_count": 22,
   "metadata": {
    "execution": {
     "iopub.execute_input": "2021-03-19T05:34:08.876091Z",
     "iopub.status.busy": "2021-03-19T05:34:08.875018Z",
     "iopub.status.idle": "2021-03-19T05:50:19.154536Z",
     "shell.execute_reply": "2021-03-19T05:50:19.153900Z"
    },
    "papermill": {
     "duration": 970.318843,
     "end_time": "2021-03-19T05:50:19.154669",
     "exception": false,
     "start_time": "2021-03-19T05:34:08.835826",
     "status": "completed"
    },
    "tags": []
   },
   "outputs": [
    {
     "name": "stdout",
     "output_type": "stream",
     "text": [
      "Fold 1\n",
      "Epoch 1  loss=0.41208  val_loss=0.01690  sm_loss=0.41207  sm_val_loss=0.01689  time=1.92s\n",
      "Epoch 2  loss=0.01447  val_loss=0.01331  sm_loss=0.01446  sm_val_loss=0.01337  time=1.18s\n",
      "Epoch 3  loss=0.01284  val_loss=0.01285  sm_loss=0.01298  sm_val_loss=0.01304  time=1.21s\n",
      "Epoch 4  loss=0.01255  val_loss=0.01271  sm_loss=0.01274  sm_val_loss=0.01294  time=1.49s\n",
      "Epoch 5  loss=0.01254  val_loss=0.01263  sm_loss=0.01274  sm_val_loss=0.01285  time=1.22s\n",
      "Epoch 6  loss=0.01256  val_loss=0.01259  sm_loss=0.01275  sm_val_loss=0.01278  time=1.32s\n",
      "Epoch 7  loss=0.01258  val_loss=0.01248  sm_loss=0.01277  sm_val_loss=0.01270  time=1.50s\n",
      "Epoch 9  loss=0.01259  val_loss=0.01247  sm_loss=0.01277  sm_val_loss=0.01265  time=1.17s\n",
      "Epoch 10  loss=0.01252  val_loss=0.01241  sm_loss=0.01271  sm_val_loss=0.01261  time=1.19s\n",
      "Epoch 12  loss=0.01236  val_loss=0.01235  sm_loss=0.01256  sm_val_loss=0.01257  time=1.44s\n",
      "Epoch 13  loss=0.01224  val_loss=0.01222  sm_loss=0.01245  sm_val_loss=0.01244  time=1.21s\n",
      "Epoch 14  loss=0.01212  val_loss=0.01212  sm_loss=0.01233  sm_val_loss=0.01234  time=1.19s\n",
      "Epoch 15  loss=0.01193  val_loss=0.01198  sm_loss=0.01215  sm_val_loss=0.01221  time=1.18s\n",
      "Epoch 16  loss=0.01175  val_loss=0.01182  sm_loss=0.01199  sm_val_loss=0.01206  time=1.21s\n",
      "Epoch 17  loss=0.01154  val_loss=0.01174  sm_loss=0.01178  sm_val_loss=0.01198  time=1.20s\n",
      "Epoch 18  loss=0.01130  val_loss=0.01161  sm_loss=0.01156  sm_val_loss=0.01186  time=1.19s\n",
      "Epoch 19  loss=0.01110  val_loss=0.01156  sm_loss=0.01136  sm_val_loss=0.01181  time=1.18s\n",
      "Fold 2\n",
      "Epoch 1  loss=0.41217  val_loss=0.01719  sm_loss=0.41216  sm_val_loss=0.01718  time=1.21s\n",
      "Epoch 2  loss=0.01444  val_loss=0.01387  sm_loss=0.01444  sm_val_loss=0.01390  time=1.21s\n",
      "Epoch 3  loss=0.01288  val_loss=0.01278  sm_loss=0.01301  sm_val_loss=0.01293  time=1.19s\n",
      "Epoch 4  loss=0.01255  val_loss=0.01255  sm_loss=0.01275  sm_val_loss=0.01278  time=1.19s\n",
      "Epoch 5  loss=0.01256  val_loss=0.01253  sm_loss=0.01276  sm_val_loss=0.01274  time=1.18s\n",
      "Epoch 9  loss=0.01257  val_loss=0.01242  sm_loss=0.01276  sm_val_loss=0.01264  time=1.59s\n",
      "Epoch 11  loss=0.01247  val_loss=0.01240  sm_loss=0.01266  sm_val_loss=0.01262  time=1.59s\n",
      "Epoch 12  loss=0.01238  val_loss=0.01226  sm_loss=0.01259  sm_val_loss=0.01246  time=1.26s\n",
      "Epoch 13  loss=0.01227  val_loss=0.01220  sm_loss=0.01248  sm_val_loss=0.01240  time=1.21s\n",
      "Epoch 14  loss=0.01211  val_loss=0.01201  sm_loss=0.01233  sm_val_loss=0.01224  time=1.21s\n",
      "Epoch 15  loss=0.01197  val_loss=0.01189  sm_loss=0.01219  sm_val_loss=0.01213  time=1.23s\n",
      "Epoch 16  loss=0.01179  val_loss=0.01183  sm_loss=0.01202  sm_val_loss=0.01206  time=1.18s\n",
      "Epoch 17  loss=0.01153  val_loss=0.01168  sm_loss=0.01177  sm_val_loss=0.01192  time=1.44s\n",
      "Epoch 18  loss=0.01131  val_loss=0.01160  sm_loss=0.01156  sm_val_loss=0.01185  time=1.19s\n",
      "Epoch 19  loss=0.01110  val_loss=0.01156  sm_loss=0.01137  sm_val_loss=0.01181  time=1.21s\n",
      "Epoch 20  loss=0.01099  val_loss=0.01154  sm_loss=0.01126  sm_val_loss=0.01179  time=1.20s\n",
      "Fold 3\n",
      "Epoch 1  loss=0.41411  val_loss=0.01691  sm_loss=0.41409  sm_val_loss=0.01690  time=1.15s\n",
      "Epoch 2  loss=0.01459  val_loss=0.01339  sm_loss=0.01457  sm_val_loss=0.01344  time=1.17s\n",
      "Epoch 3  loss=0.01286  val_loss=0.01269  sm_loss=0.01299  sm_val_loss=0.01288  time=1.16s\n",
      "Epoch 4  loss=0.01253  val_loss=0.01257  sm_loss=0.01273  sm_val_loss=0.01279  time=1.18s\n",
      "Epoch 5  loss=0.01253  val_loss=0.01254  sm_loss=0.01274  sm_val_loss=0.01276  time=1.53s\n",
      "Epoch 7  loss=0.01260  val_loss=0.01254  sm_loss=0.01279  sm_val_loss=0.01275  time=1.20s\n",
      "Epoch 9  loss=0.01258  val_loss=0.01247  sm_loss=0.01277  sm_val_loss=0.01267  time=1.20s\n",
      "Epoch 11  loss=0.01245  val_loss=0.01241  sm_loss=0.01264  sm_val_loss=0.01261  time=1.20s\n",
      "Epoch 12  loss=0.01239  val_loss=0.01229  sm_loss=0.01259  sm_val_loss=0.01249  time=1.20s\n",
      "Epoch 13  loss=0.01225  val_loss=0.01228  sm_loss=0.01245  sm_val_loss=0.01248  time=1.42s\n",
      "Epoch 14  loss=0.01213  val_loss=0.01213  sm_loss=0.01234  sm_val_loss=0.01235  time=1.30s\n",
      "Epoch 15  loss=0.01197  val_loss=0.01198  sm_loss=0.01219  sm_val_loss=0.01221  time=1.57s\n",
      "Epoch 16  loss=0.01177  val_loss=0.01186  sm_loss=0.01201  sm_val_loss=0.01209  time=1.26s\n",
      "Epoch 17  loss=0.01154  val_loss=0.01171  sm_loss=0.01179  sm_val_loss=0.01195  time=1.19s\n",
      "Epoch 18  loss=0.01131  val_loss=0.01162  sm_loss=0.01157  sm_val_loss=0.01186  time=1.23s\n",
      "Epoch 19  loss=0.01109  val_loss=0.01159  sm_loss=0.01136  sm_val_loss=0.01182  time=1.21s\n",
      "Epoch 20  loss=0.01096  val_loss=0.01157  sm_loss=0.01123  sm_val_loss=0.01181  time=1.22s\n",
      "Fold 4\n",
      "Epoch 1  loss=0.41301  val_loss=0.01670  sm_loss=0.41300  sm_val_loss=0.01669  time=1.51s\n",
      "Epoch 2  loss=0.01446  val_loss=0.01324  sm_loss=0.01446  sm_val_loss=0.01330  time=1.20s\n",
      "Epoch 3  loss=0.01288  val_loss=0.01251  sm_loss=0.01300  sm_val_loss=0.01270  time=1.19s\n",
      "Epoch 4  loss=0.01253  val_loss=0.01246  sm_loss=0.01273  sm_val_loss=0.01269  time=1.21s\n",
      "Epoch 11  loss=0.01243  val_loss=0.01235  sm_loss=0.01263  sm_val_loss=0.01256  time=1.18s\n",
      "Epoch 12  loss=0.01235  val_loss=0.01229  sm_loss=0.01255  sm_val_loss=0.01251  time=1.19s\n",
      "Epoch 13  loss=0.01224  val_loss=0.01219  sm_loss=0.01244  sm_val_loss=0.01239  time=1.19s\n",
      "Epoch 14  loss=0.01208  val_loss=0.01203  sm_loss=0.01229  sm_val_loss=0.01226  time=1.19s\n",
      "Epoch 15  loss=0.01193  val_loss=0.01195  sm_loss=0.01216  sm_val_loss=0.01219  time=1.19s\n",
      "Epoch 16  loss=0.01175  val_loss=0.01178  sm_loss=0.01199  sm_val_loss=0.01201  time=1.19s\n",
      "Epoch 17  loss=0.01153  val_loss=0.01167  sm_loss=0.01178  sm_val_loss=0.01192  time=1.20s\n",
      "Epoch 18  loss=0.01129  val_loss=0.01159  sm_loss=0.01155  sm_val_loss=0.01184  time=1.50s\n",
      "Epoch 19  loss=0.01108  val_loss=0.01154  sm_loss=0.01135  sm_val_loss=0.01180  time=1.48s\n",
      "Epoch 20  loss=0.01096  val_loss=0.01152  sm_loss=0.01124  sm_val_loss=0.01178  time=1.39s\n",
      "Fold 5\n",
      "Epoch 1  loss=0.41274  val_loss=0.01679  sm_loss=0.41273  sm_val_loss=0.01677  time=1.21s\n",
      "Epoch 2  loss=0.01449  val_loss=0.01410  sm_loss=0.01448  sm_val_loss=0.01408  time=1.20s\n",
      "Epoch 3  loss=0.01288  val_loss=0.01268  sm_loss=0.01302  sm_val_loss=0.01287  time=1.19s\n",
      "Epoch 4  loss=0.01250  val_loss=0.01245  sm_loss=0.01270  sm_val_loss=0.01266  time=1.26s\n",
      "Epoch 10  loss=0.01250  val_loss=0.01243  sm_loss=0.01269  sm_val_loss=0.01263  time=1.19s\n",
      "Epoch 11  loss=0.01243  val_loss=0.01238  sm_loss=0.01263  sm_val_loss=0.01259  time=1.18s\n",
      "Epoch 12  loss=0.01234  val_loss=0.01225  sm_loss=0.01255  sm_val_loss=0.01246  time=1.19s\n",
      "Epoch 13  loss=0.01222  val_loss=0.01224  sm_loss=0.01243  sm_val_loss=0.01245  time=1.20s\n",
      "Epoch 14  loss=0.01209  val_loss=0.01221  sm_loss=0.01231  sm_val_loss=0.01242  time=1.49s\n",
      "Epoch 15  loss=0.01194  val_loss=0.01204  sm_loss=0.01216  sm_val_loss=0.01228  time=1.20s\n",
      "Epoch 16  loss=0.01172  val_loss=0.01183  sm_loss=0.01195  sm_val_loss=0.01207  time=1.19s\n",
      "Epoch 17  loss=0.01150  val_loss=0.01172  sm_loss=0.01175  sm_val_loss=0.01198  time=1.19s\n",
      "Epoch 18  loss=0.01124  val_loss=0.01164  sm_loss=0.01150  sm_val_loss=0.01189  time=1.18s\n",
      "Epoch 19  loss=0.01101  val_loss=0.01160  sm_loss=0.01127  sm_val_loss=0.01185  time=1.19s\n",
      "Epoch 20  loss=0.01089  val_loss=0.01159  sm_loss=0.01117  sm_val_loss=0.01184  time=1.19s\n",
      "Fold 6\n",
      "Epoch 1  loss=0.41245  val_loss=0.01684  sm_loss=0.41243  sm_val_loss=0.01683  time=1.23s\n",
      "Epoch 3  loss=0.01289  val_loss=0.01292  sm_loss=0.01302  sm_val_loss=0.01301  time=1.48s\n",
      "Epoch 4  loss=0.01258  val_loss=0.01280  sm_loss=0.01276  sm_val_loss=0.01299  time=1.21s\n",
      "Epoch 5  loss=0.01249  val_loss=0.01260  sm_loss=0.01270  sm_val_loss=0.01283  time=1.22s\n",
      "Epoch 6  loss=0.01256  val_loss=0.01258  sm_loss=0.01275  sm_val_loss=0.01277  time=1.21s\n",
      "Epoch 8  loss=0.01256  val_loss=0.01258  sm_loss=0.01275  sm_val_loss=0.01277  time=1.21s\n",
      "Epoch 10  loss=0.01253  val_loss=0.01253  sm_loss=0.01271  sm_val_loss=0.01273  time=1.47s\n",
      "Epoch 11  loss=0.01243  val_loss=0.01236  sm_loss=0.01263  sm_val_loss=0.01257  time=1.20s\n",
      "Epoch 12  loss=0.01236  val_loss=0.01230  sm_loss=0.01256  sm_val_loss=0.01251  time=1.21s\n",
      "Epoch 14  loss=0.01212  val_loss=0.01221  sm_loss=0.01234  sm_val_loss=0.01242  time=1.17s\n",
      "Epoch 15  loss=0.01193  val_loss=0.01201  sm_loss=0.01216  sm_val_loss=0.01223  time=1.22s\n",
      "Epoch 16  loss=0.01175  val_loss=0.01186  sm_loss=0.01199  sm_val_loss=0.01210  time=1.19s\n",
      "Epoch 17  loss=0.01154  val_loss=0.01176  sm_loss=0.01178  sm_val_loss=0.01200  time=1.21s\n",
      "Epoch 18  loss=0.01129  val_loss=0.01163  sm_loss=0.01154  sm_val_loss=0.01188  time=1.20s\n",
      "Epoch 19  loss=0.01106  val_loss=0.01157  sm_loss=0.01133  sm_val_loss=0.01182  time=1.61s\n",
      "Epoch 20  loss=0.01093  val_loss=0.01156  sm_loss=0.01120  sm_val_loss=0.01181  time=1.28s\n",
      "Fold 7\n",
      "Epoch 1  loss=0.41269  val_loss=0.01682  sm_loss=0.41268  sm_val_loss=0.01680  time=1.28s\n",
      "Epoch 2  loss=0.01492  val_loss=0.01413  sm_loss=0.01489  sm_val_loss=0.01411  time=1.24s\n",
      "Epoch 3  loss=0.01319  val_loss=0.01285  sm_loss=0.01332  sm_val_loss=0.01304  time=1.21s\n",
      "Epoch 4  loss=0.01266  val_loss=0.01249  sm_loss=0.01286  sm_val_loss=0.01271  time=1.26s\n",
      "Epoch 6  loss=0.01254  val_loss=0.01246  sm_loss=0.01274  sm_val_loss=0.01267  time=1.85s\n",
      "Epoch 10  loss=0.01249  val_loss=0.01238  sm_loss=0.01268  sm_val_loss=0.01258  time=1.21s\n",
      "Epoch 12  loss=0.01236  val_loss=0.01232  sm_loss=0.01256  sm_val_loss=0.01254  time=1.21s\n",
      "Epoch 13  loss=0.01221  val_loss=0.01219  sm_loss=0.01242  sm_val_loss=0.01241  time=1.19s\n",
      "Epoch 14  loss=0.01212  val_loss=0.01210  sm_loss=0.01234  sm_val_loss=0.01232  time=1.28s\n",
      "Epoch 15  loss=0.01194  val_loss=0.01193  sm_loss=0.01217  sm_val_loss=0.01216  time=1.42s\n",
      "Epoch 16  loss=0.01173  val_loss=0.01181  sm_loss=0.01196  sm_val_loss=0.01203  time=1.24s\n",
      "Epoch 17  loss=0.01145  val_loss=0.01167  sm_loss=0.01169  sm_val_loss=0.01193  time=1.20s\n",
      "Epoch 18  loss=0.01121  val_loss=0.01159  sm_loss=0.01147  sm_val_loss=0.01184  time=1.21s\n",
      "Epoch 19  loss=0.01092  val_loss=0.01152  sm_loss=0.01119  sm_val_loss=0.01178  time=1.22s\n",
      "Epoch 20  loss=0.01077  val_loss=0.01150  sm_loss=0.01105  sm_val_loss=0.01176  time=1.19s\n",
      "Fold 1\n",
      "Epoch 1  loss=0.41340  val_loss=0.01672  sm_loss=0.41339  sm_val_loss=0.01671  time=1.20s\n",
      "Epoch 2  loss=0.01444  val_loss=0.01546  sm_loss=0.01444  sm_val_loss=0.01551  time=1.20s\n",
      "Epoch 3  loss=0.01288  val_loss=0.01297  sm_loss=0.01300  sm_val_loss=0.01308  time=1.22s\n",
      "Epoch 4  loss=0.01254  val_loss=0.01250  sm_loss=0.01273  sm_val_loss=0.01273  time=1.23s\n",
      "Epoch 8  loss=0.01259  val_loss=0.01251  sm_loss=0.01278  sm_val_loss=0.01271  time=1.94s\n",
      "Epoch 10  loss=0.01249  val_loss=0.01238  sm_loss=0.01268  sm_val_loss=0.01260  time=1.21s\n",
      "Epoch 12  loss=0.01236  val_loss=0.01237  sm_loss=0.01256  sm_val_loss=0.01259  time=1.20s\n",
      "Epoch 13  loss=0.01226  val_loss=0.01224  sm_loss=0.01246  sm_val_loss=0.01245  time=1.20s\n",
      "Epoch 14  loss=0.01209  val_loss=0.01206  sm_loss=0.01231  sm_val_loss=0.01228  time=1.20s\n",
      "Epoch 15  loss=0.01191  val_loss=0.01192  sm_loss=0.01214  sm_val_loss=0.01215  time=1.19s\n",
      "Epoch 16  loss=0.01172  val_loss=0.01181  sm_loss=0.01196  sm_val_loss=0.01205  time=1.48s\n",
      "Epoch 17  loss=0.01152  val_loss=0.01171  sm_loss=0.01177  sm_val_loss=0.01196  time=1.20s\n",
      "Epoch 18  loss=0.01125  val_loss=0.01161  sm_loss=0.01151  sm_val_loss=0.01187  time=1.21s\n",
      "Epoch 19  loss=0.01106  val_loss=0.01160  sm_loss=0.01133  sm_val_loss=0.01185  time=1.19s\n",
      "Epoch 20  loss=0.01094  val_loss=0.01158  sm_loss=0.01122  sm_val_loss=0.01183  time=1.20s\n",
      "Fold 2\n",
      "Epoch 1  loss=0.41183  val_loss=0.01676  sm_loss=0.41183  sm_val_loss=0.01675  time=1.18s\n",
      "Epoch 2  loss=0.01449  val_loss=0.01381  sm_loss=0.01449  sm_val_loss=0.01373  time=1.21s\n",
      "Epoch 3  loss=0.01292  val_loss=0.01264  sm_loss=0.01305  sm_val_loss=0.01281  time=1.23s\n",
      "Epoch 5  loss=0.01252  val_loss=0.01251  sm_loss=0.01273  sm_val_loss=0.01272  time=1.22s\n",
      "Epoch 10  loss=0.01250  val_loss=0.01250  sm_loss=0.01269  sm_val_loss=0.01270  time=1.21s\n",
      "Epoch 11  loss=0.01245  val_loss=0.01240  sm_loss=0.01265  sm_val_loss=0.01259  time=1.21s\n",
      "Epoch 12  loss=0.01234  val_loss=0.01239  sm_loss=0.01254  sm_val_loss=0.01259  time=1.47s\n",
      "Epoch 13  loss=0.01224  val_loss=0.01213  sm_loss=0.01245  sm_val_loss=0.01233  time=1.79s\n",
      "Epoch 14  loss=0.01211  val_loss=0.01202  sm_loss=0.01232  sm_val_loss=0.01224  time=1.28s\n",
      "Epoch 15  loss=0.01195  val_loss=0.01191  sm_loss=0.01217  sm_val_loss=0.01213  time=1.20s\n",
      "Epoch 16  loss=0.01175  val_loss=0.01183  sm_loss=0.01199  sm_val_loss=0.01208  time=1.21s\n",
      "Epoch 17  loss=0.01154  val_loss=0.01168  sm_loss=0.01178  sm_val_loss=0.01192  time=1.18s\n",
      "Epoch 18  loss=0.01128  val_loss=0.01160  sm_loss=0.01154  sm_val_loss=0.01185  time=1.20s\n",
      "Epoch 19  loss=0.01107  val_loss=0.01156  sm_loss=0.01134  sm_val_loss=0.01180  time=1.19s\n",
      "Epoch 20  loss=0.01094  val_loss=0.01154  sm_loss=0.01122  sm_val_loss=0.01179  time=1.20s\n",
      "Fold 3\n",
      "Epoch 1  loss=0.41306  val_loss=0.01683  sm_loss=0.41305  sm_val_loss=0.01680  time=1.21s\n",
      "Epoch 2  loss=0.01465  val_loss=0.01643  sm_loss=0.01463  sm_val_loss=0.01604  time=1.23s\n",
      "Epoch 3  loss=0.01310  val_loss=0.01284  sm_loss=0.01322  sm_val_loss=0.01297  time=1.21s\n",
      "Epoch 4  loss=0.01256  val_loss=0.01264  sm_loss=0.01276  sm_val_loss=0.01284  time=1.20s\n",
      "Epoch 6  loss=0.01254  val_loss=0.01258  sm_loss=0.01275  sm_val_loss=0.01278  time=1.20s\n",
      "Epoch 8  loss=0.01256  val_loss=0.01254  sm_loss=0.01274  sm_val_loss=0.01274  time=1.49s\n",
      "Epoch 9  loss=0.01254  val_loss=0.01254  sm_loss=0.01273  sm_val_loss=0.01273  time=1.23s\n",
      "Epoch 10  loss=0.01251  val_loss=0.01245  sm_loss=0.01270  sm_val_loss=0.01264  time=1.22s\n",
      "Epoch 11  loss=0.01243  val_loss=0.01233  sm_loss=0.01262  sm_val_loss=0.01254  time=1.20s\n",
      "Epoch 13  loss=0.01221  val_loss=0.01223  sm_loss=0.01242  sm_val_loss=0.01244  time=1.19s\n",
      "Epoch 14  loss=0.01213  val_loss=0.01212  sm_loss=0.01234  sm_val_loss=0.01234  time=1.21s\n",
      "Epoch 15  loss=0.01196  val_loss=0.01198  sm_loss=0.01218  sm_val_loss=0.01220  time=1.21s\n",
      "Epoch 16  loss=0.01177  val_loss=0.01183  sm_loss=0.01200  sm_val_loss=0.01206  time=1.43s\n",
      "Epoch 17  loss=0.01152  val_loss=0.01174  sm_loss=0.01177  sm_val_loss=0.01197  time=1.92s\n",
      "Epoch 18  loss=0.01126  val_loss=0.01164  sm_loss=0.01152  sm_val_loss=0.01187  time=1.40s\n",
      "Epoch 19  loss=0.01105  val_loss=0.01158  sm_loss=0.01132  sm_val_loss=0.01183  time=1.20s\n",
      "Epoch 20  loss=0.01092  val_loss=0.01158  sm_loss=0.01119  sm_val_loss=0.01183  time=1.20s\n",
      "Fold 4\n",
      "Epoch 1  loss=0.41269  val_loss=0.01681  sm_loss=0.41268  sm_val_loss=0.01681  time=1.23s\n",
      "Epoch 2  loss=0.01448  val_loss=0.01330  sm_loss=0.01448  sm_val_loss=0.01336  time=1.20s\n",
      "Epoch 3  loss=0.01289  val_loss=0.01250  sm_loss=0.01302  sm_val_loss=0.01268  time=1.20s\n",
      "Epoch 8  loss=0.01255  val_loss=0.01243  sm_loss=0.01274  sm_val_loss=0.01264  time=1.18s\n",
      "Epoch 10  loss=0.01251  val_loss=0.01231  sm_loss=0.01270  sm_val_loss=0.01251  time=1.24s\n",
      "Epoch 12  loss=0.01235  val_loss=0.01225  sm_loss=0.01256  sm_val_loss=0.01245  time=1.20s\n",
      "Epoch 14  loss=0.01213  val_loss=0.01207  sm_loss=0.01235  sm_val_loss=0.01230  time=1.18s\n",
      "Epoch 15  loss=0.01192  val_loss=0.01201  sm_loss=0.01215  sm_val_loss=0.01224  time=1.20s\n",
      "Epoch 16  loss=0.01174  val_loss=0.01181  sm_loss=0.01198  sm_val_loss=0.01204  time=1.21s\n",
      "Epoch 17  loss=0.01149  val_loss=0.01168  sm_loss=0.01174  sm_val_loss=0.01193  time=1.21s\n",
      "Epoch 18  loss=0.01123  val_loss=0.01157  sm_loss=0.01149  sm_val_loss=0.01182  time=1.22s\n",
      "Epoch 19  loss=0.01101  val_loss=0.01155  sm_loss=0.01128  sm_val_loss=0.01181  time=1.21s\n",
      "Epoch 20  loss=0.01086  val_loss=0.01155  sm_loss=0.01114  sm_val_loss=0.01180  time=1.46s\n",
      "Fold 5\n",
      "Epoch 1  loss=0.41358  val_loss=0.01678  sm_loss=0.41357  sm_val_loss=0.01676  time=1.27s\n",
      "Epoch 3  loss=0.01297  val_loss=0.01320  sm_loss=0.01308  sm_val_loss=0.01327  time=1.27s\n",
      "Epoch 4  loss=0.01254  val_loss=0.01261  sm_loss=0.01274  sm_val_loss=0.01283  time=1.25s\n",
      "Epoch 5  loss=0.01252  val_loss=0.01257  sm_loss=0.01272  sm_val_loss=0.01279  time=1.21s\n",
      "Epoch 6  loss=0.01256  val_loss=0.01258  sm_loss=0.01276  sm_val_loss=0.01277  time=1.21s\n",
      "Epoch 8  loss=0.01259  val_loss=0.01254  sm_loss=0.01278  sm_val_loss=0.01273  time=1.21s\n",
      "Epoch 10  loss=0.01251  val_loss=0.01251  sm_loss=0.01270  sm_val_loss=0.01271  time=1.18s\n",
      "Epoch 11  loss=0.01242  val_loss=0.01242  sm_loss=0.01262  sm_val_loss=0.01263  time=1.21s\n",
      "Epoch 12  loss=0.01234  val_loss=0.01229  sm_loss=0.01254  sm_val_loss=0.01250  time=1.23s\n",
      "Epoch 13  loss=0.01223  val_loss=0.01227  sm_loss=0.01244  sm_val_loss=0.01247  time=1.20s\n",
      "Epoch 14  loss=0.01212  val_loss=0.01209  sm_loss=0.01233  sm_val_loss=0.01230  time=1.19s\n",
      "Epoch 15  loss=0.01193  val_loss=0.01203  sm_loss=0.01215  sm_val_loss=0.01226  time=1.21s\n",
      "Epoch 16  loss=0.01170  val_loss=0.01187  sm_loss=0.01194  sm_val_loss=0.01210  time=1.21s\n",
      "Epoch 17  loss=0.01148  val_loss=0.01172  sm_loss=0.01173  sm_val_loss=0.01197  time=1.48s\n",
      "Epoch 18  loss=0.01122  val_loss=0.01165  sm_loss=0.01147  sm_val_loss=0.01190  time=1.20s\n",
      "Epoch 19  loss=0.01100  val_loss=0.01163  sm_loss=0.01127  sm_val_loss=0.01188  time=1.24s\n",
      "Epoch 20  loss=0.01085  val_loss=0.01162  sm_loss=0.01113  sm_val_loss=0.01187  time=1.18s\n",
      "Fold 6\n",
      "Epoch 1  loss=0.41301  val_loss=0.01653  sm_loss=0.41299  sm_val_loss=0.01653  time=1.21s\n",
      "Epoch 3  loss=0.01301  val_loss=0.01296  sm_loss=0.01313  sm_val_loss=0.01306  time=1.61s\n",
      "Epoch 4  loss=0.01255  val_loss=0.01264  sm_loss=0.01275  sm_val_loss=0.01285  time=1.32s\n",
      "Epoch 5  loss=0.01254  val_loss=0.01259  sm_loss=0.01275  sm_val_loss=0.01281  time=1.33s\n",
      "Epoch 6  loss=0.01256  val_loss=0.01260  sm_loss=0.01275  sm_val_loss=0.01280  time=1.20s\n",
      "Epoch 8  loss=0.01255  val_loss=0.01261  sm_loss=0.01273  sm_val_loss=0.01280  time=1.18s\n",
      "Epoch 10  loss=0.01249  val_loss=0.01247  sm_loss=0.01268  sm_val_loss=0.01266  time=1.20s\n",
      "Epoch 11  loss=0.01246  val_loss=0.01240  sm_loss=0.01266  sm_val_loss=0.01260  time=1.19s\n",
      "Epoch 12  loss=0.01237  val_loss=0.01227  sm_loss=0.01257  sm_val_loss=0.01248  time=1.21s\n",
      "Epoch 13  loss=0.01223  val_loss=0.01225  sm_loss=0.01244  sm_val_loss=0.01246  time=1.41s\n",
      "Epoch 14  loss=0.01210  val_loss=0.01211  sm_loss=0.01232  sm_val_loss=0.01231  time=1.28s\n",
      "Epoch 16  loss=0.01175  val_loss=0.01186  sm_loss=0.01198  sm_val_loss=0.01209  time=1.18s\n",
      "Epoch 17  loss=0.01151  val_loss=0.01174  sm_loss=0.01176  sm_val_loss=0.01198  time=1.19s\n",
      "Epoch 18  loss=0.01127  val_loss=0.01163  sm_loss=0.01153  sm_val_loss=0.01188  time=1.21s\n",
      "Epoch 19  loss=0.01109  val_loss=0.01159  sm_loss=0.01135  sm_val_loss=0.01183  time=1.21s\n",
      "Epoch 20  loss=0.01093  val_loss=0.01155  sm_loss=0.01121  sm_val_loss=0.01181  time=1.21s\n",
      "Fold 7\n",
      "Epoch 1  loss=0.41283  val_loss=0.01698  sm_loss=0.41282  sm_val_loss=0.01697  time=1.48s\n",
      "Epoch 2  loss=0.01453  val_loss=0.01370  sm_loss=0.01454  sm_val_loss=0.01369  time=1.19s\n",
      "Epoch 4  loss=0.01263  val_loss=0.01250  sm_loss=0.01281  sm_val_loss=0.01274  time=1.21s\n",
      "Epoch 8  loss=0.01254  val_loss=0.01248  sm_loss=0.01273  sm_val_loss=0.01271  time=1.31s\n",
      "Epoch 10  loss=0.01249  val_loss=0.01250  sm_loss=0.01269  sm_val_loss=0.01271  time=1.32s\n",
      "Epoch 11  loss=0.01243  val_loss=0.01239  sm_loss=0.01262  sm_val_loss=0.01261  time=1.21s\n",
      "Epoch 12  loss=0.01234  val_loss=0.01235  sm_loss=0.01254  sm_val_loss=0.01256  time=1.18s\n",
      "Epoch 13  loss=0.01223  val_loss=0.01221  sm_loss=0.01244  sm_val_loss=0.01242  time=1.21s\n",
      "Epoch 14  loss=0.01209  val_loss=0.01207  sm_loss=0.01231  sm_val_loss=0.01228  time=1.22s\n",
      "Epoch 15  loss=0.01195  val_loss=0.01196  sm_loss=0.01217  sm_val_loss=0.01219  time=1.20s\n",
      "Epoch 16  loss=0.01175  val_loss=0.01181  sm_loss=0.01198  sm_val_loss=0.01205  time=1.23s\n",
      "Epoch 17  loss=0.01152  val_loss=0.01172  sm_loss=0.01177  sm_val_loss=0.01196  time=1.20s\n",
      "Epoch 18  loss=0.01127  val_loss=0.01162  sm_loss=0.01153  sm_val_loss=0.01187  time=1.46s\n",
      "Epoch 19  loss=0.01103  val_loss=0.01156  sm_loss=0.01130  sm_val_loss=0.01182  time=1.19s\n",
      "Epoch 20  loss=0.01090  val_loss=0.01155  sm_loss=0.01118  sm_val_loss=0.01181  time=1.20s\n",
      "Fold 1\n",
      "Epoch 1  loss=0.41321  val_loss=0.01700  sm_loss=0.41320  sm_val_loss=0.01699  time=1.21s\n",
      "Epoch 2  loss=0.01456  val_loss=0.01440  sm_loss=0.01455  sm_val_loss=0.01441  time=1.20s\n",
      "Epoch 3  loss=0.01288  val_loss=0.01268  sm_loss=0.01301  sm_val_loss=0.01284  time=1.57s\n",
      "Epoch 4  loss=0.01256  val_loss=0.01254  sm_loss=0.01275  sm_val_loss=0.01273  time=1.29s\n",
      "Epoch 5  loss=0.01252  val_loss=0.01250  sm_loss=0.01272  sm_val_loss=0.01272  time=1.39s\n",
      "Epoch 9  loss=0.01257  val_loss=0.01246  sm_loss=0.01276  sm_val_loss=0.01266  time=1.18s\n",
      "Epoch 11  loss=0.01246  val_loss=0.01236  sm_loss=0.01266  sm_val_loss=0.01255  time=1.47s\n",
      "Epoch 12  loss=0.01235  val_loss=0.01225  sm_loss=0.01256  sm_val_loss=0.01246  time=1.21s\n",
      "Epoch 14  loss=0.01212  val_loss=0.01216  sm_loss=0.01233  sm_val_loss=0.01238  time=1.19s\n",
      "Epoch 15  loss=0.01196  val_loss=0.01195  sm_loss=0.01219  sm_val_loss=0.01217  time=1.22s\n",
      "Epoch 16  loss=0.01176  val_loss=0.01185  sm_loss=0.01199  sm_val_loss=0.01208  time=1.21s\n",
      "Epoch 17  loss=0.01156  val_loss=0.01171  sm_loss=0.01180  sm_val_loss=0.01195  time=1.20s\n",
      "Epoch 18  loss=0.01131  val_loss=0.01160  sm_loss=0.01157  sm_val_loss=0.01185  time=1.19s\n",
      "Epoch 19  loss=0.01110  val_loss=0.01157  sm_loss=0.01137  sm_val_loss=0.01182  time=1.34s\n",
      "Fold 2\n",
      "Epoch 1  loss=0.41253  val_loss=0.01666  sm_loss=0.41252  sm_val_loss=0.01665  time=1.16s\n",
      "Epoch 3  loss=0.01309  val_loss=0.01258  sm_loss=0.01321  sm_val_loss=0.01278  time=1.17s\n",
      "Epoch 7  loss=0.01259  val_loss=0.01255  sm_loss=0.01278  sm_val_loss=0.01275  time=1.40s\n",
      "Epoch 9  loss=0.01256  val_loss=0.01254  sm_loss=0.01275  sm_val_loss=0.01273  time=1.18s\n",
      "Epoch 11  loss=0.01243  val_loss=0.01238  sm_loss=0.01263  sm_val_loss=0.01259  time=1.17s\n",
      "Epoch 12  loss=0.01234  val_loss=0.01225  sm_loss=0.01254  sm_val_loss=0.01245  time=1.18s\n",
      "Epoch 13  loss=0.01227  val_loss=0.01217  sm_loss=0.01247  sm_val_loss=0.01237  time=1.57s\n",
      "Epoch 14  loss=0.01211  val_loss=0.01212  sm_loss=0.01233  sm_val_loss=0.01235  time=1.24s\n",
      "Epoch 15  loss=0.01196  val_loss=0.01192  sm_loss=0.01218  sm_val_loss=0.01215  time=1.20s\n",
      "Epoch 16  loss=0.01177  val_loss=0.01182  sm_loss=0.01200  sm_val_loss=0.01205  time=1.50s\n",
      "Epoch 17  loss=0.01150  val_loss=0.01166  sm_loss=0.01175  sm_val_loss=0.01191  time=1.19s\n",
      "Epoch 18  loss=0.01127  val_loss=0.01156  sm_loss=0.01153  sm_val_loss=0.01181  time=1.21s\n",
      "Epoch 19  loss=0.01104  val_loss=0.01149  sm_loss=0.01131  sm_val_loss=0.01175  time=1.22s\n",
      "Fold 3\n",
      "Epoch 1  loss=0.41340  val_loss=0.01652  sm_loss=0.41339  sm_val_loss=0.01651  time=1.19s\n",
      "Epoch 2  loss=0.01447  val_loss=0.01381  sm_loss=0.01447  sm_val_loss=0.01381  time=1.18s\n",
      "Epoch 3  loss=0.01289  val_loss=0.01289  sm_loss=0.01302  sm_val_loss=0.01305  time=1.26s\n",
      "Epoch 4  loss=0.01255  val_loss=0.01261  sm_loss=0.01275  sm_val_loss=0.01278  time=1.37s\n",
      "Epoch 5  loss=0.01252  val_loss=0.01250  sm_loss=0.01273  sm_val_loss=0.01272  time=1.19s\n",
      "Epoch 8  loss=0.01260  val_loss=0.01249  sm_loss=0.01279  sm_val_loss=0.01269  time=1.17s\n",
      "Epoch 10  loss=0.01249  val_loss=0.01247  sm_loss=0.01269  sm_val_loss=0.01268  time=1.20s\n",
      "Epoch 11  loss=0.01242  val_loss=0.01246  sm_loss=0.01262  sm_val_loss=0.01267  time=1.30s\n",
      "Epoch 12  loss=0.01237  val_loss=0.01232  sm_loss=0.01258  sm_val_loss=0.01251  time=1.47s\n",
      "Epoch 13  loss=0.01226  val_loss=0.01219  sm_loss=0.01247  sm_val_loss=0.01239  time=1.19s\n",
      "Epoch 14  loss=0.01211  val_loss=0.01210  sm_loss=0.01232  sm_val_loss=0.01233  time=1.20s\n",
      "Epoch 15  loss=0.01195  val_loss=0.01198  sm_loss=0.01218  sm_val_loss=0.01220  time=1.22s\n",
      "Epoch 16  loss=0.01175  val_loss=0.01183  sm_loss=0.01199  sm_val_loss=0.01205  time=1.20s\n",
      "Epoch 17  loss=0.01156  val_loss=0.01173  sm_loss=0.01180  sm_val_loss=0.01197  time=1.22s\n",
      "Epoch 18  loss=0.01131  val_loss=0.01161  sm_loss=0.01158  sm_val_loss=0.01185  time=1.69s\n",
      "Epoch 19  loss=0.01111  val_loss=0.01156  sm_loss=0.01138  sm_val_loss=0.01181  time=1.26s\n",
      "Fold 4\n",
      "Epoch 1  loss=0.41187  val_loss=0.01675  sm_loss=0.41186  sm_val_loss=0.01674  time=1.27s\n",
      "Epoch 2  loss=0.01450  val_loss=0.01417  sm_loss=0.01450  sm_val_loss=0.01415  time=1.27s\n",
      "Epoch 3  loss=0.01298  val_loss=0.01263  sm_loss=0.01310  sm_val_loss=0.01285  time=1.19s\n",
      "Epoch 4  loss=0.01255  val_loss=0.01259  sm_loss=0.01274  sm_val_loss=0.01278  time=1.20s\n",
      "Epoch 5  loss=0.01255  val_loss=0.01245  sm_loss=0.01275  sm_val_loss=0.01267  time=1.19s\n",
      "Epoch 7  loss=0.01257  val_loss=0.01241  sm_loss=0.01277  sm_val_loss=0.01263  time=1.22s\n",
      "Epoch 10  loss=0.01250  val_loss=0.01236  sm_loss=0.01270  sm_val_loss=0.01257  time=1.18s\n",
      "Epoch 11  loss=0.01246  val_loss=0.01226  sm_loss=0.01266  sm_val_loss=0.01248  time=1.18s\n",
      "Epoch 13  loss=0.01227  val_loss=0.01224  sm_loss=0.01248  sm_val_loss=0.01247  time=1.19s\n",
      "Epoch 14  loss=0.01212  val_loss=0.01193  sm_loss=0.01234  sm_val_loss=0.01216  time=1.28s\n",
      "Epoch 16  loss=0.01178  val_loss=0.01180  sm_loss=0.01202  sm_val_loss=0.01205  time=1.22s\n",
      "Epoch 17  loss=0.01151  val_loss=0.01168  sm_loss=0.01175  sm_val_loss=0.01192  time=1.49s\n",
      "Epoch 18  loss=0.01128  val_loss=0.01155  sm_loss=0.01154  sm_val_loss=0.01181  time=1.18s\n",
      "Epoch 19  loss=0.01103  val_loss=0.01154  sm_loss=0.01131  sm_val_loss=0.01179  time=1.18s\n",
      "Epoch 20  loss=0.01090  val_loss=0.01152  sm_loss=0.01118  sm_val_loss=0.01178  time=1.21s\n",
      "Fold 5\n",
      "Epoch 1  loss=0.41261  val_loss=0.01667  sm_loss=0.41260  sm_val_loss=0.01666  time=1.53s\n",
      "Epoch 2  loss=0.01446  val_loss=0.01407  sm_loss=0.01446  sm_val_loss=0.01403  time=1.34s\n",
      "Epoch 3  loss=0.01284  val_loss=0.01287  sm_loss=0.01297  sm_val_loss=0.01302  time=1.21s\n",
      "Epoch 4  loss=0.01255  val_loss=0.01256  sm_loss=0.01274  sm_val_loss=0.01276  time=1.46s\n",
      "Epoch 5  loss=0.01252  val_loss=0.01253  sm_loss=0.01273  sm_val_loss=0.01274  time=1.19s\n",
      "Epoch 6  loss=0.01254  val_loss=0.01253  sm_loss=0.01274  sm_val_loss=0.01272  time=1.20s\n",
      "Epoch 10  loss=0.01249  val_loss=0.01239  sm_loss=0.01268  sm_val_loss=0.01259  time=1.19s\n",
      "Epoch 12  loss=0.01232  val_loss=0.01231  sm_loss=0.01252  sm_val_loss=0.01252  time=1.19s\n",
      "Epoch 13  loss=0.01222  val_loss=0.01223  sm_loss=0.01243  sm_val_loss=0.01244  time=1.45s\n",
      "Epoch 14  loss=0.01206  val_loss=0.01210  sm_loss=0.01228  sm_val_loss=0.01230  time=1.20s\n",
      "Epoch 15  loss=0.01189  val_loss=0.01189  sm_loss=0.01212  sm_val_loss=0.01212  time=1.17s\n",
      "Epoch 16  loss=0.01168  val_loss=0.01183  sm_loss=0.01192  sm_val_loss=0.01208  time=1.20s\n",
      "Epoch 17  loss=0.01146  val_loss=0.01172  sm_loss=0.01171  sm_val_loss=0.01196  time=1.30s\n",
      "Epoch 18  loss=0.01122  val_loss=0.01162  sm_loss=0.01149  sm_val_loss=0.01188  time=1.17s\n",
      "Epoch 19  loss=0.01100  val_loss=0.01158  sm_loss=0.01127  sm_val_loss=0.01184  time=1.19s\n",
      "Epoch 20  loss=0.01088  val_loss=0.01157  sm_loss=0.01116  sm_val_loss=0.01182  time=1.18s\n",
      "Fold 6\n",
      "Epoch 1  loss=0.41461  val_loss=0.01662  sm_loss=0.41459  sm_val_loss=0.01661  time=1.29s\n",
      "Epoch 3  loss=0.01292  val_loss=0.01277  sm_loss=0.01305  sm_val_loss=0.01299  time=1.20s\n",
      "Epoch 4  loss=0.01256  val_loss=0.01256  sm_loss=0.01275  sm_val_loss=0.01277  time=1.21s\n",
      "Epoch 8  loss=0.01257  val_loss=0.01253  sm_loss=0.01277  sm_val_loss=0.01273  time=1.22s\n",
      "Epoch 9  loss=0.01255  val_loss=0.01253  sm_loss=0.01274  sm_val_loss=0.01273  time=1.49s\n",
      "Epoch 11  loss=0.01243  val_loss=0.01243  sm_loss=0.01262  sm_val_loss=0.01264  time=1.20s\n",
      "Epoch 13  loss=0.01225  val_loss=0.01220  sm_loss=0.01246  sm_val_loss=0.01241  time=1.21s\n",
      "Epoch 14  loss=0.01211  val_loss=0.01209  sm_loss=0.01232  sm_val_loss=0.01231  time=1.22s\n",
      "Epoch 15  loss=0.01193  val_loss=0.01197  sm_loss=0.01216  sm_val_loss=0.01219  time=1.19s\n",
      "Epoch 16  loss=0.01177  val_loss=0.01186  sm_loss=0.01200  sm_val_loss=0.01209  time=1.19s\n",
      "Epoch 17  loss=0.01153  val_loss=0.01170  sm_loss=0.01178  sm_val_loss=0.01194  time=1.27s\n",
      "Epoch 18  loss=0.01131  val_loss=0.01164  sm_loss=0.01157  sm_val_loss=0.01189  time=1.27s\n",
      "Epoch 19  loss=0.01111  val_loss=0.01160  sm_loss=0.01138  sm_val_loss=0.01184  time=1.21s\n",
      "Epoch 20  loss=0.01099  val_loss=0.01160  sm_loss=0.01127  sm_val_loss=0.01184  time=1.32s\n",
      "Fold 7\n",
      "Epoch 1  loss=0.41299  val_loss=0.01678  sm_loss=0.41298  sm_val_loss=0.01677  time=1.20s\n",
      "Epoch 2  loss=0.01449  val_loss=0.01440  sm_loss=0.01449  sm_val_loss=0.01405  time=1.18s\n",
      "Epoch 3  loss=0.01288  val_loss=0.01265  sm_loss=0.01300  sm_val_loss=0.01281  time=1.21s\n",
      "Epoch 4  loss=0.01253  val_loss=0.01259  sm_loss=0.01273  sm_val_loss=0.01279  time=1.21s\n",
      "Epoch 8  loss=0.01256  val_loss=0.01250  sm_loss=0.01274  sm_val_loss=0.01271  time=1.23s\n",
      "Epoch 9  loss=0.01253  val_loss=0.01244  sm_loss=0.01272  sm_val_loss=0.01263  time=1.21s\n",
      "Epoch 11  loss=0.01246  val_loss=0.01241  sm_loss=0.01266  sm_val_loss=0.01261  time=1.62s\n",
      "Epoch 12  loss=0.01233  val_loss=0.01226  sm_loss=0.01253  sm_val_loss=0.01247  time=1.19s\n",
      "Epoch 13  loss=0.01224  val_loss=0.01219  sm_loss=0.01245  sm_val_loss=0.01240  time=1.30s\n",
      "Epoch 14  loss=0.01212  val_loss=0.01213  sm_loss=0.01233  sm_val_loss=0.01235  time=1.39s\n",
      "Epoch 15  loss=0.01191  val_loss=0.01187  sm_loss=0.01214  sm_val_loss=0.01210  time=1.21s\n",
      "Epoch 16  loss=0.01174  val_loss=0.01182  sm_loss=0.01197  sm_val_loss=0.01205  time=1.19s\n",
      "Epoch 17  loss=0.01152  val_loss=0.01173  sm_loss=0.01177  sm_val_loss=0.01197  time=1.19s\n",
      "Epoch 18  loss=0.01126  val_loss=0.01158  sm_loss=0.01151  sm_val_loss=0.01184  time=1.19s\n",
      "Epoch 19  loss=0.01105  val_loss=0.01155  sm_loss=0.01132  sm_val_loss=0.01180  time=1.20s\n",
      "Epoch 20  loss=0.01090  val_loss=0.01154  sm_loss=0.01117  sm_val_loss=0.01180  time=1.17s\n",
      "Fold 1\n",
      "Epoch 1  loss=0.41303  val_loss=0.01703  sm_loss=0.41302  sm_val_loss=0.01703  time=1.31s\n",
      "Epoch 2  loss=0.01446  val_loss=0.01368  sm_loss=0.01447  sm_val_loss=0.01373  time=1.20s\n",
      "Epoch 3  loss=0.01290  val_loss=0.01277  sm_loss=0.01302  sm_val_loss=0.01296  time=1.18s\n",
      "Epoch 4  loss=0.01250  val_loss=0.01259  sm_loss=0.01270  sm_val_loss=0.01282  time=1.18s\n",
      "Epoch 5  loss=0.01255  val_loss=0.01260  sm_loss=0.01274  sm_val_loss=0.01280  time=1.17s\n",
      "Epoch 7  loss=0.01260  val_loss=0.01251  sm_loss=0.01279  sm_val_loss=0.01269  time=1.48s\n",
      "Epoch 10  loss=0.01250  val_loss=0.01246  sm_loss=0.01269  sm_val_loss=0.01266  time=1.20s\n",
      "Epoch 11  loss=0.01244  val_loss=0.01236  sm_loss=0.01264  sm_val_loss=0.01257  time=1.18s\n",
      "Epoch 12  loss=0.01238  val_loss=0.01225  sm_loss=0.01258  sm_val_loss=0.01246  time=1.20s\n",
      "Epoch 13  loss=0.01224  val_loss=0.01222  sm_loss=0.01244  sm_val_loss=0.01242  time=1.64s\n",
      "Epoch 14  loss=0.01210  val_loss=0.01210  sm_loss=0.01231  sm_val_loss=0.01233  time=1.19s\n",
      "Epoch 15  loss=0.01190  val_loss=0.01190  sm_loss=0.01213  sm_val_loss=0.01213  time=1.34s\n",
      "Epoch 16  loss=0.01173  val_loss=0.01183  sm_loss=0.01196  sm_val_loss=0.01207  time=1.32s\n",
      "Epoch 17  loss=0.01151  val_loss=0.01169  sm_loss=0.01176  sm_val_loss=0.01194  time=1.18s\n",
      "Epoch 18  loss=0.01128  val_loss=0.01160  sm_loss=0.01154  sm_val_loss=0.01185  time=1.20s\n",
      "Epoch 19  loss=0.01106  val_loss=0.01156  sm_loss=0.01133  sm_val_loss=0.01181  time=1.18s\n",
      "Epoch 20  loss=0.01093  val_loss=0.01154  sm_loss=0.01120  sm_val_loss=0.01179  time=1.20s\n",
      "Fold 2\n",
      "Epoch 1  loss=0.41420  val_loss=0.01666  sm_loss=0.41419  sm_val_loss=0.01666  time=1.21s\n",
      "Epoch 2  loss=0.01440  val_loss=0.01477  sm_loss=0.01440  sm_val_loss=0.01436  time=1.20s\n",
      "Epoch 3  loss=0.01312  val_loss=0.01273  sm_loss=0.01322  sm_val_loss=0.01291  time=1.49s\n",
      "Epoch 4  loss=0.01258  val_loss=0.01258  sm_loss=0.01278  sm_val_loss=0.01279  time=1.30s\n",
      "Epoch 5  loss=0.01249  val_loss=0.01253  sm_loss=0.01270  sm_val_loss=0.01276  time=1.17s\n",
      "Epoch 6  loss=0.01255  val_loss=0.01253  sm_loss=0.01275  sm_val_loss=0.01274  time=1.19s\n",
      "Epoch 9  loss=0.01255  val_loss=0.01244  sm_loss=0.01274  sm_val_loss=0.01265  time=1.20s\n",
      "Epoch 11  loss=0.01247  val_loss=0.01235  sm_loss=0.01266  sm_val_loss=0.01256  time=1.20s\n",
      "Epoch 12  loss=0.01232  val_loss=0.01226  sm_loss=0.01253  sm_val_loss=0.01246  time=1.51s\n",
      "Epoch 13  loss=0.01225  val_loss=0.01220  sm_loss=0.01246  sm_val_loss=0.01241  time=1.20s\n",
      "Epoch 14  loss=0.01210  val_loss=0.01203  sm_loss=0.01232  sm_val_loss=0.01225  time=1.19s\n",
      "Epoch 15  loss=0.01196  val_loss=0.01197  sm_loss=0.01219  sm_val_loss=0.01219  time=1.22s\n",
      "Epoch 16  loss=0.01179  val_loss=0.01178  sm_loss=0.01202  sm_val_loss=0.01202  time=1.19s\n",
      "Epoch 17  loss=0.01152  val_loss=0.01169  sm_loss=0.01177  sm_val_loss=0.01194  time=1.48s\n",
      "Epoch 18  loss=0.01128  val_loss=0.01158  sm_loss=0.01154  sm_val_loss=0.01182  time=1.40s\n",
      "Epoch 19  loss=0.01106  val_loss=0.01153  sm_loss=0.01133  sm_val_loss=0.01179  time=1.19s\n",
      "Epoch 20  loss=0.01092  val_loss=0.01153  sm_loss=0.01119  sm_val_loss=0.01178  time=1.45s\n",
      "Fold 3\n",
      "Epoch 1  loss=0.41274  val_loss=0.01719  sm_loss=0.41273  sm_val_loss=0.01717  time=1.20s\n",
      "Epoch 2  loss=0.01449  val_loss=0.01338  sm_loss=0.01448  sm_val_loss=0.01342  time=1.18s\n",
      "Epoch 3  loss=0.01292  val_loss=0.01273  sm_loss=0.01305  sm_val_loss=0.01291  time=1.19s\n",
      "Epoch 4  loss=0.01256  val_loss=0.01261  sm_loss=0.01275  sm_val_loss=0.01282  time=1.17s\n",
      "Epoch 6  loss=0.01256  val_loss=0.01250  sm_loss=0.01276  sm_val_loss=0.01271  time=1.19s\n",
      "Epoch 11  loss=0.01248  val_loss=0.01239  sm_loss=0.01267  sm_val_loss=0.01259  time=1.30s\n",
      "Epoch 12  loss=0.01239  val_loss=0.01238  sm_loss=0.01258  sm_val_loss=0.01258  time=1.20s\n",
      "Epoch 13  loss=0.01228  val_loss=0.01225  sm_loss=0.01249  sm_val_loss=0.01246  time=1.20s\n",
      "Epoch 14  loss=0.01214  val_loss=0.01213  sm_loss=0.01235  sm_val_loss=0.01234  time=1.20s\n",
      "Epoch 15  loss=0.01194  val_loss=0.01196  sm_loss=0.01216  sm_val_loss=0.01218  time=1.20s\n",
      "Epoch 16  loss=0.01177  val_loss=0.01186  sm_loss=0.01200  sm_val_loss=0.01210  time=1.46s\n",
      "Epoch 17  loss=0.01155  val_loss=0.01171  sm_loss=0.01180  sm_val_loss=0.01194  time=1.18s\n",
      "Epoch 18  loss=0.01132  val_loss=0.01162  sm_loss=0.01158  sm_val_loss=0.01186  time=1.19s\n",
      "Epoch 19  loss=0.01112  val_loss=0.01158  sm_loss=0.01139  sm_val_loss=0.01182  time=1.22s\n",
      "Epoch 20  loss=0.01099  val_loss=0.01157  sm_loss=0.01126  sm_val_loss=0.01181  time=1.18s\n",
      "Fold 4\n",
      "Epoch 1  loss=0.41317  val_loss=0.01681  sm_loss=0.41317  sm_val_loss=0.01680  time=1.61s\n",
      "Epoch 2  loss=0.01444  val_loss=0.01360  sm_loss=0.01445  sm_val_loss=0.01363  time=1.18s\n",
      "Epoch 3  loss=0.01339  val_loss=0.01260  sm_loss=0.01349  sm_val_loss=0.01284  time=1.21s\n",
      "Epoch 4  loss=0.01257  val_loss=0.01242  sm_loss=0.01278  sm_val_loss=0.01268  time=1.46s\n",
      "Epoch 6  loss=0.01257  val_loss=0.01245  sm_loss=0.01278  sm_val_loss=0.01268  time=1.20s\n",
      "Epoch 10  loss=0.01255  val_loss=0.01243  sm_loss=0.01274  sm_val_loss=0.01263  time=1.18s\n",
      "Epoch 11  loss=0.01247  val_loss=0.01234  sm_loss=0.01266  sm_val_loss=0.01255  time=1.33s\n",
      "Epoch 12  loss=0.01239  val_loss=0.01226  sm_loss=0.01259  sm_val_loss=0.01246  time=1.40s\n",
      "Epoch 13  loss=0.01227  val_loss=0.01208  sm_loss=0.01247  sm_val_loss=0.01230  time=1.26s\n",
      "Epoch 14  loss=0.01211  val_loss=0.01201  sm_loss=0.01232  sm_val_loss=0.01223  time=1.19s\n",
      "Epoch 15  loss=0.01199  val_loss=0.01195  sm_loss=0.01221  sm_val_loss=0.01220  time=1.21s\n",
      "Epoch 16  loss=0.01174  val_loss=0.01172  sm_loss=0.01197  sm_val_loss=0.01196  time=1.19s\n",
      "Epoch 17  loss=0.01152  val_loss=0.01168  sm_loss=0.01176  sm_val_loss=0.01193  time=1.18s\n",
      "Epoch 18  loss=0.01126  val_loss=0.01157  sm_loss=0.01151  sm_val_loss=0.01182  time=1.17s\n",
      "Epoch 19  loss=0.01101  val_loss=0.01152  sm_loss=0.01128  sm_val_loss=0.01178  time=1.20s\n",
      "Epoch 20  loss=0.01087  val_loss=0.01151  sm_loss=0.01114  sm_val_loss=0.01176  time=1.21s\n",
      "Fold 5\n",
      "Epoch 1  loss=0.41271  val_loss=0.01690  sm_loss=0.41271  sm_val_loss=0.01689  time=1.18s\n",
      "Epoch 2  loss=0.01447  val_loss=0.01358  sm_loss=0.01447  sm_val_loss=0.01359  time=1.37s\n",
      "Epoch 3  loss=0.01287  val_loss=0.01252  sm_loss=0.01300  sm_val_loss=0.01272  time=1.21s\n",
      "Epoch 9  loss=0.01253  val_loss=0.01245  sm_loss=0.01272  sm_val_loss=0.01266  time=1.29s\n",
      "Epoch 11  loss=0.01241  val_loss=0.01237  sm_loss=0.01261  sm_val_loss=0.01257  time=1.16s\n",
      "Epoch 12  loss=0.01233  val_loss=0.01233  sm_loss=0.01253  sm_val_loss=0.01254  time=1.17s\n",
      "Epoch 13  loss=0.01223  val_loss=0.01220  sm_loss=0.01243  sm_val_loss=0.01243  time=1.18s\n",
      "Epoch 14  loss=0.01211  val_loss=0.01212  sm_loss=0.01232  sm_val_loss=0.01235  time=1.35s\n",
      "Epoch 15  loss=0.01193  val_loss=0.01192  sm_loss=0.01215  sm_val_loss=0.01215  time=1.20s\n",
      "Epoch 16  loss=0.01173  val_loss=0.01185  sm_loss=0.01197  sm_val_loss=0.01208  time=1.18s\n",
      "Epoch 17  loss=0.01151  val_loss=0.01174  sm_loss=0.01176  sm_val_loss=0.01198  time=1.47s\n",
      "Epoch 18  loss=0.01126  val_loss=0.01165  sm_loss=0.01152  sm_val_loss=0.01190  time=1.18s\n",
      "Epoch 19  loss=0.01105  val_loss=0.01163  sm_loss=0.01132  sm_val_loss=0.01187  time=1.18s\n",
      "Epoch 20  loss=0.01092  val_loss=0.01161  sm_loss=0.01119  sm_val_loss=0.01186  time=1.18s\n",
      "Fold 6\n",
      "Epoch 1  loss=0.41408  val_loss=0.01657  sm_loss=0.41407  sm_val_loss=0.01656  time=1.19s\n",
      "Epoch 2  loss=0.01446  val_loss=0.01445  sm_loss=0.01445  sm_val_loss=0.01447  time=1.21s\n",
      "Epoch 3  loss=0.01289  val_loss=0.01262  sm_loss=0.01301  sm_val_loss=0.01280  time=1.18s\n",
      "Epoch 4  loss=0.01256  val_loss=0.01257  sm_loss=0.01275  sm_val_loss=0.01278  time=1.17s\n",
      "Epoch 8  loss=0.01256  val_loss=0.01255  sm_loss=0.01275  sm_val_loss=0.01276  time=1.19s\n",
      "Epoch 9  loss=0.01255  val_loss=0.01248  sm_loss=0.01275  sm_val_loss=0.01268  time=1.18s\n",
      "Epoch 11  loss=0.01244  val_loss=0.01240  sm_loss=0.01264  sm_val_loss=0.01260  time=1.38s\n",
      "Epoch 12  loss=0.01236  val_loss=0.01234  sm_loss=0.01256  sm_val_loss=0.01254  time=1.25s\n",
      "Epoch 13  loss=0.01226  val_loss=0.01229  sm_loss=0.01247  sm_val_loss=0.01250  time=1.50s\n",
      "Epoch 14  loss=0.01214  val_loss=0.01211  sm_loss=0.01236  sm_val_loss=0.01234  time=1.28s\n",
      "Epoch 15  loss=0.01195  val_loss=0.01200  sm_loss=0.01218  sm_val_loss=0.01222  time=1.17s\n",
      "Epoch 16  loss=0.01177  val_loss=0.01190  sm_loss=0.01200  sm_val_loss=0.01212  time=1.18s\n",
      "Epoch 17  loss=0.01153  val_loss=0.01175  sm_loss=0.01178  sm_val_loss=0.01198  time=1.33s\n",
      "Epoch 18  loss=0.01129  val_loss=0.01163  sm_loss=0.01155  sm_val_loss=0.01188  time=1.22s\n",
      "Epoch 19  loss=0.01109  val_loss=0.01160  sm_loss=0.01136  sm_val_loss=0.01184  time=1.20s\n",
      "Fold 7\n",
      "Epoch 1  loss=0.41205  val_loss=0.01671  sm_loss=0.41204  sm_val_loss=0.01670  time=1.44s\n",
      "Epoch 2  loss=0.01443  val_loss=0.01313  sm_loss=0.01441  sm_val_loss=0.01320  time=1.17s\n",
      "Epoch 3  loss=0.01290  val_loss=0.01262  sm_loss=0.01302  sm_val_loss=0.01277  time=1.17s\n",
      "Epoch 4  loss=0.01251  val_loss=0.01251  sm_loss=0.01270  sm_val_loss=0.01274  time=1.17s\n",
      "Epoch 10  loss=0.01250  val_loss=0.01245  sm_loss=0.01269  sm_val_loss=0.01266  time=1.43s\n",
      "Epoch 11  loss=0.01245  val_loss=0.01236  sm_loss=0.01264  sm_val_loss=0.01257  time=1.19s\n",
      "Epoch 12  loss=0.01237  val_loss=0.01233  sm_loss=0.01257  sm_val_loss=0.01255  time=1.20s\n",
      "Epoch 13  loss=0.01225  val_loss=0.01216  sm_loss=0.01245  sm_val_loss=0.01238  time=1.21s\n",
      "Epoch 15  loss=0.01193  val_loss=0.01200  sm_loss=0.01215  sm_val_loss=0.01223  time=1.22s\n",
      "Epoch 16  loss=0.01177  val_loss=0.01182  sm_loss=0.01201  sm_val_loss=0.01205  time=1.19s\n",
      "Epoch 17  loss=0.01156  val_loss=0.01173  sm_loss=0.01180  sm_val_loss=0.01197  time=1.20s\n",
      "Epoch 18  loss=0.01131  val_loss=0.01161  sm_loss=0.01157  sm_val_loss=0.01186  time=1.45s\n",
      "Epoch 19  loss=0.01111  val_loss=0.01156  sm_loss=0.01137  sm_val_loss=0.01181  time=1.23s\n",
      "Fold 1\n",
      "Epoch 1  loss=0.41236  val_loss=0.01696  sm_loss=0.41235  sm_val_loss=0.01695  time=1.19s\n",
      "Epoch 2  loss=0.01451  val_loss=0.01376  sm_loss=0.01450  sm_val_loss=0.01381  time=1.20s\n",
      "Epoch 3  loss=0.01284  val_loss=0.01310  sm_loss=0.01297  sm_val_loss=0.01320  time=1.50s\n",
      "Epoch 4  loss=0.01254  val_loss=0.01259  sm_loss=0.01273  sm_val_loss=0.01280  time=1.20s\n",
      "Epoch 6  loss=0.01259  val_loss=0.01256  sm_loss=0.01278  sm_val_loss=0.01277  time=1.19s\n",
      "Epoch 8  loss=0.01260  val_loss=0.01253  sm_loss=0.01279  sm_val_loss=0.01274  time=1.17s\n",
      "Epoch 9  loss=0.01257  val_loss=0.01247  sm_loss=0.01275  sm_val_loss=0.01268  time=1.18s\n",
      "Epoch 11  loss=0.01248  val_loss=0.01243  sm_loss=0.01267  sm_val_loss=0.01264  time=1.19s\n",
      "Epoch 12  loss=0.01238  val_loss=0.01235  sm_loss=0.01258  sm_val_loss=0.01256  time=1.56s\n",
      "Epoch 13  loss=0.01225  val_loss=0.01221  sm_loss=0.01246  sm_val_loss=0.01241  time=1.30s\n",
      "Epoch 14  loss=0.01212  val_loss=0.01213  sm_loss=0.01234  sm_val_loss=0.01235  time=1.26s\n",
      "Epoch 15  loss=0.01198  val_loss=0.01203  sm_loss=0.01220  sm_val_loss=0.01226  time=1.49s\n",
      "Epoch 16  loss=0.01176  val_loss=0.01182  sm_loss=0.01199  sm_val_loss=0.01207  time=1.34s\n",
      "Epoch 17  loss=0.01155  val_loss=0.01170  sm_loss=0.01180  sm_val_loss=0.01195  time=1.18s\n",
      "Epoch 18  loss=0.01131  val_loss=0.01162  sm_loss=0.01156  sm_val_loss=0.01187  time=1.17s\n",
      "Epoch 19  loss=0.01110  val_loss=0.01155  sm_loss=0.01137  sm_val_loss=0.01180  time=1.20s\n",
      "Fold 2\n",
      "Epoch 1  loss=0.41320  val_loss=0.01656  sm_loss=0.41318  sm_val_loss=0.01655  time=1.21s\n",
      "Epoch 2  loss=0.01449  val_loss=0.01381  sm_loss=0.01449  sm_val_loss=0.01380  time=1.19s\n",
      "Epoch 3  loss=0.01293  val_loss=0.01260  sm_loss=0.01306  sm_val_loss=0.01277  time=1.19s\n",
      "Epoch 6  loss=0.01256  val_loss=0.01255  sm_loss=0.01276  sm_val_loss=0.01275  time=1.20s\n",
      "Epoch 7  loss=0.01257  val_loss=0.01245  sm_loss=0.01277  sm_val_loss=0.01266  time=1.21s\n",
      "Epoch 11  loss=0.01245  val_loss=0.01236  sm_loss=0.01264  sm_val_loss=0.01257  time=1.18s\n",
      "Epoch 12  loss=0.01236  val_loss=0.01230  sm_loss=0.01256  sm_val_loss=0.01251  time=1.19s\n",
      "Epoch 13  loss=0.01224  val_loss=0.01219  sm_loss=0.01245  sm_val_loss=0.01240  time=1.21s\n",
      "Epoch 14  loss=0.01211  val_loss=0.01202  sm_loss=0.01232  sm_val_loss=0.01225  time=1.18s\n",
      "Epoch 15  loss=0.01196  val_loss=0.01190  sm_loss=0.01218  sm_val_loss=0.01212  time=1.19s\n",
      "Epoch 16  loss=0.01174  val_loss=0.01181  sm_loss=0.01198  sm_val_loss=0.01206  time=1.34s\n",
      "Epoch 17  loss=0.01152  val_loss=0.01165  sm_loss=0.01177  sm_val_loss=0.01190  time=1.31s\n",
      "Epoch 18  loss=0.01128  val_loss=0.01160  sm_loss=0.01154  sm_val_loss=0.01185  time=1.24s\n",
      "Epoch 19  loss=0.01108  val_loss=0.01155  sm_loss=0.01135  sm_val_loss=0.01181  time=1.57s\n",
      "Epoch 20  loss=0.01095  val_loss=0.01154  sm_loss=0.01123  sm_val_loss=0.01180  time=1.25s\n",
      "Fold 3\n",
      "Epoch 1  loss=0.41351  val_loss=0.01685  sm_loss=0.41350  sm_val_loss=0.01685  time=1.22s\n",
      "Epoch 2  loss=0.01446  val_loss=0.01366  sm_loss=0.01446  sm_val_loss=0.01368  time=1.37s\n",
      "Epoch 3  loss=0.01283  val_loss=0.01276  sm_loss=0.01296  sm_val_loss=0.01293  time=1.22s\n",
      "Epoch 4  loss=0.01254  val_loss=0.01255  sm_loss=0.01273  sm_val_loss=0.01276  time=1.40s\n",
      "Epoch 5  loss=0.01251  val_loss=0.01251  sm_loss=0.01271  sm_val_loss=0.01274  time=1.18s\n",
      "Epoch 10  loss=0.01250  val_loss=0.01245  sm_loss=0.01270  sm_val_loss=0.01266  time=1.20s\n",
      "Epoch 11  loss=0.01246  val_loss=0.01239  sm_loss=0.01265  sm_val_loss=0.01260  time=1.18s\n",
      "Epoch 12  loss=0.01237  val_loss=0.01228  sm_loss=0.01257  sm_val_loss=0.01249  time=1.35s\n",
      "Epoch 13  loss=0.01224  val_loss=0.01220  sm_loss=0.01245  sm_val_loss=0.01240  time=1.31s\n",
      "Epoch 14  loss=0.01208  val_loss=0.01207  sm_loss=0.01230  sm_val_loss=0.01230  time=1.18s\n",
      "Epoch 15  loss=0.01194  val_loss=0.01204  sm_loss=0.01217  sm_val_loss=0.01226  time=1.20s\n",
      "Epoch 16  loss=0.01176  val_loss=0.01188  sm_loss=0.01199  sm_val_loss=0.01211  time=1.19s\n",
      "Epoch 17  loss=0.01153  val_loss=0.01174  sm_loss=0.01177  sm_val_loss=0.01198  time=1.20s\n",
      "Epoch 18  loss=0.01130  val_loss=0.01163  sm_loss=0.01155  sm_val_loss=0.01187  time=1.20s\n",
      "Epoch 19  loss=0.01107  val_loss=0.01160  sm_loss=0.01134  sm_val_loss=0.01184  time=1.20s\n",
      "Epoch 20  loss=0.01095  val_loss=0.01158  sm_loss=0.01122  sm_val_loss=0.01183  time=1.21s\n",
      "Fold 4\n",
      "Epoch 1  loss=0.41352  val_loss=0.01683  sm_loss=0.41351  sm_val_loss=0.01682  time=1.19s\n",
      "Epoch 2  loss=0.01455  val_loss=0.01386  sm_loss=0.01453  sm_val_loss=0.01389  time=1.60s\n",
      "Epoch 3  loss=0.01294  val_loss=0.01271  sm_loss=0.01306  sm_val_loss=0.01285  time=1.21s\n",
      "Epoch 4  loss=0.01255  val_loss=0.01260  sm_loss=0.01275  sm_val_loss=0.01281  time=1.22s\n",
      "Epoch 5  loss=0.01255  val_loss=0.01253  sm_loss=0.01275  sm_val_loss=0.01276  time=1.40s\n",
      "Epoch 6  loss=0.01258  val_loss=0.01249  sm_loss=0.01278  sm_val_loss=0.01270  time=1.19s\n",
      "Epoch 8  loss=0.01257  val_loss=0.01246  sm_loss=0.01276  sm_val_loss=0.01267  time=1.48s\n",
      "Epoch 9  loss=0.01256  val_loss=0.01239  sm_loss=0.01275  sm_val_loss=0.01259  time=1.18s\n",
      "Epoch 10  loss=0.01250  val_loss=0.01237  sm_loss=0.01269  sm_val_loss=0.01258  time=1.21s\n",
      "Epoch 11  loss=0.01242  val_loss=0.01232  sm_loss=0.01262  sm_val_loss=0.01254  time=1.21s\n",
      "Epoch 12  loss=0.01234  val_loss=0.01230  sm_loss=0.01254  sm_val_loss=0.01252  time=1.20s\n",
      "Epoch 13  loss=0.01223  val_loss=0.01214  sm_loss=0.01244  sm_val_loss=0.01236  time=1.20s\n",
      "Epoch 14  loss=0.01209  val_loss=0.01198  sm_loss=0.01231  sm_val_loss=0.01220  time=1.20s\n",
      "Epoch 15  loss=0.01194  val_loss=0.01193  sm_loss=0.01217  sm_val_loss=0.01217  time=1.19s\n",
      "Epoch 16  loss=0.01174  val_loss=0.01175  sm_loss=0.01197  sm_val_loss=0.01198  time=1.19s\n",
      "Epoch 17  loss=0.01151  val_loss=0.01165  sm_loss=0.01176  sm_val_loss=0.01189  time=1.46s\n",
      "Epoch 18  loss=0.01125  val_loss=0.01152  sm_loss=0.01151  sm_val_loss=0.01178  time=1.19s\n",
      "Epoch 19  loss=0.01102  val_loss=0.01149  sm_loss=0.01129  sm_val_loss=0.01175  time=1.18s\n",
      "Fold 5\n",
      "Epoch 1  loss=0.41357  val_loss=0.01707  sm_loss=0.41355  sm_val_loss=0.01705  time=1.20s\n",
      "Epoch 2  loss=0.01457  val_loss=0.01369  sm_loss=0.01456  sm_val_loss=0.01368  time=1.19s\n",
      "Epoch 3  loss=0.01291  val_loss=0.01293  sm_loss=0.01303  sm_val_loss=0.01306  time=1.21s\n",
      "Epoch 4  loss=0.01258  val_loss=0.01258  sm_loss=0.01277  sm_val_loss=0.01280  time=1.21s\n",
      "Epoch 5  loss=0.01254  val_loss=0.01258  sm_loss=0.01274  sm_val_loss=0.01279  time=1.46s\n",
      "Epoch 6  loss=0.01254  val_loss=0.01255  sm_loss=0.01274  sm_val_loss=0.01276  time=1.45s\n",
      "Epoch 9  loss=0.01256  val_loss=0.01246  sm_loss=0.01275  sm_val_loss=0.01266  time=1.18s\n",
      "Epoch 11  loss=0.01244  val_loss=0.01242  sm_loss=0.01264  sm_val_loss=0.01261  time=1.18s\n",
      "Epoch 12  loss=0.01234  val_loss=0.01233  sm_loss=0.01253  sm_val_loss=0.01254  time=1.18s\n",
      "Epoch 13  loss=0.01229  val_loss=0.01225  sm_loss=0.01249  sm_val_loss=0.01247  time=1.44s\n",
      "Epoch 14  loss=0.01209  val_loss=0.01213  sm_loss=0.01231  sm_val_loss=0.01235  time=1.21s\n",
      "Epoch 15  loss=0.01193  val_loss=0.01196  sm_loss=0.01215  sm_val_loss=0.01220  time=1.20s\n",
      "Epoch 16  loss=0.01173  val_loss=0.01191  sm_loss=0.01197  sm_val_loss=0.01214  time=1.18s\n",
      "Epoch 17  loss=0.01152  val_loss=0.01173  sm_loss=0.01176  sm_val_loss=0.01198  time=1.20s\n",
      "Epoch 18  loss=0.01126  val_loss=0.01165  sm_loss=0.01152  sm_val_loss=0.01190  time=1.20s\n",
      "Epoch 19  loss=0.01103  val_loss=0.01160  sm_loss=0.01130  sm_val_loss=0.01185  time=1.21s\n",
      "Epoch 20  loss=0.01090  val_loss=0.01159  sm_loss=0.01118  sm_val_loss=0.01184  time=1.21s\n",
      "Fold 6\n",
      "Epoch 1  loss=0.41288  val_loss=0.01691  sm_loss=0.41287  sm_val_loss=0.01690  time=1.51s\n",
      "Epoch 2  loss=0.01446  val_loss=0.01376  sm_loss=0.01445  sm_val_loss=0.01381  time=1.21s\n",
      "Epoch 3  loss=0.01286  val_loss=0.01258  sm_loss=0.01299  sm_val_loss=0.01278  time=1.21s\n",
      "Epoch 8  loss=0.01255  val_loss=0.01250  sm_loss=0.01274  sm_val_loss=0.01271  time=1.20s\n",
      "Epoch 11  loss=0.01244  val_loss=0.01239  sm_loss=0.01264  sm_val_loss=0.01259  time=1.34s\n",
      "Epoch 12  loss=0.01235  val_loss=0.01225  sm_loss=0.01255  sm_val_loss=0.01247  time=1.19s\n",
      "Epoch 14  loss=0.01209  val_loss=0.01212  sm_loss=0.01230  sm_val_loss=0.01236  time=1.17s\n",
      "Epoch 15  loss=0.01197  val_loss=0.01197  sm_loss=0.01220  sm_val_loss=0.01220  time=1.18s\n",
      "Epoch 16  loss=0.01171  val_loss=0.01187  sm_loss=0.01195  sm_val_loss=0.01209  time=1.19s\n",
      "Epoch 17  loss=0.01151  val_loss=0.01174  sm_loss=0.01176  sm_val_loss=0.01198  time=1.19s\n",
      "Epoch 18  loss=0.01129  val_loss=0.01166  sm_loss=0.01155  sm_val_loss=0.01190  time=1.49s\n",
      "Epoch 19  loss=0.01105  val_loss=0.01159  sm_loss=0.01132  sm_val_loss=0.01184  time=1.20s\n",
      "Fold 7\n",
      "Epoch 1  loss=0.41360  val_loss=0.01661  sm_loss=0.41359  sm_val_loss=0.01660  time=1.21s\n",
      "Epoch 2  loss=0.01448  val_loss=0.01411  sm_loss=0.01448  sm_val_loss=0.01414  time=1.20s\n",
      "Epoch 3  loss=0.01291  val_loss=0.01253  sm_loss=0.01304  sm_val_loss=0.01274  time=1.21s\n",
      "Epoch 8  loss=0.01263  val_loss=0.01241  sm_loss=0.01281  sm_val_loss=0.01262  time=1.20s\n",
      "Epoch 11  loss=0.01249  val_loss=0.01222  sm_loss=0.01268  sm_val_loss=0.01244  time=1.24s\n",
      "Epoch 14  loss=0.01214  val_loss=0.01208  sm_loss=0.01235  sm_val_loss=0.01230  time=1.35s\n",
      "Epoch 15  loss=0.01193  val_loss=0.01197  sm_loss=0.01215  sm_val_loss=0.01218  time=1.84s\n",
      "Epoch 16  loss=0.01176  val_loss=0.01186  sm_loss=0.01199  sm_val_loss=0.01209  time=1.40s\n",
      "Epoch 17  loss=0.01155  val_loss=0.01171  sm_loss=0.01180  sm_val_loss=0.01196  time=1.18s\n",
      "Epoch 18  loss=0.01130  val_loss=0.01165  sm_loss=0.01156  sm_val_loss=0.01190  time=1.19s\n",
      "Epoch 19  loss=0.01111  val_loss=0.01160  sm_loss=0.01138  sm_val_loss=0.01185  time=1.19s\n",
      "Epoch 20  loss=0.01099  val_loss=0.01158  sm_loss=0.01126  sm_val_loss=0.01183  time=1.18s\n"
     ]
    }
   ],
   "source": [
    "seeds = [0,1,2,3,4]\n",
    "target_oof = np.zeros([len(fn_train), fn_mutliclass_targets.shape[1]])\n",
    "target_pred = np.zeros([len(fn_test), fn_mutliclass_targets.shape[1]])\n",
    "\n",
    "for seed_ in seeds:\n",
    "    best_oof, pytorch_pred = modelling_torch(fn_train, fn_mutliclass_targets, fn_test, seed_, fn_train.shape[1], class_num)\n",
    "    target_oof += best_oof / len(seeds)\n",
    "    target_pred += pytorch_pred / len(seeds)"
   ]
  },
  {
   "cell_type": "code",
   "execution_count": 23,
   "metadata": {
    "execution": {
     "iopub.execute_input": "2021-03-19T05:50:19.639385Z",
     "iopub.status.busy": "2021-03-19T05:50:19.638130Z",
     "iopub.status.idle": "2021-03-19T05:50:19.760065Z",
     "shell.execute_reply": "2021-03-19T05:50:19.759453Z"
    },
    "papermill": {
     "duration": 0.375394,
     "end_time": "2021-03-19T05:50:19.760189",
     "exception": false,
     "start_time": "2021-03-19T05:50:19.384795",
     "status": "completed"
    },
    "tags": []
   },
   "outputs": [],
   "source": [
    "target_oof = np.dot(target_oof, classid_target)\n",
    "target_pred = np.dot(target_pred, classid_target)"
   ]
  },
  {
   "cell_type": "code",
   "execution_count": 24,
   "metadata": {
    "execution": {
     "iopub.execute_input": "2021-03-19T05:50:20.228126Z",
     "iopub.status.busy": "2021-03-19T05:50:20.227072Z",
     "iopub.status.idle": "2021-03-19T05:50:26.981931Z",
     "shell.execute_reply": "2021-03-19T05:50:26.981324Z"
    },
    "papermill": {
     "duration": 6.990926,
     "end_time": "2021-03-19T05:50:26.982057",
     "exception": false,
     "start_time": "2021-03-19T05:50:19.991131",
     "status": "completed"
    },
    "tags": []
   },
   "outputs": [
    {
     "name": "stdout",
     "output_type": "stream",
     "text": [
      "OOF log loss:  0.015685062847529106\n"
     ]
    }
   ],
   "source": [
    "t = pd.read_csv(DATA_DIR + 'train_targets_scored.csv')\n",
    "train_checkscore = t.copy()\n",
    "train_checkscore.loc[train_checkscore.index.isin(cons_train_index),target_feats] = target_oof\n",
    "train_checkscore.loc[train_checkscore.index.isin(noncons_train_index),target_feats] = 0\n",
    "t.drop(\"sig_id\", axis=1, inplace=True)\n",
    "print('OOF log loss: ', log_loss(np.ravel(t), np.ravel(np.array(train_checkscore.iloc[:,1:]))))"
   ]
  },
  {
   "cell_type": "code",
   "execution_count": 25,
   "metadata": {
    "execution": {
     "iopub.execute_input": "2021-03-19T05:50:27.484271Z",
     "iopub.status.busy": "2021-03-19T05:50:27.483427Z",
     "iopub.status.idle": "2021-03-19T05:50:39.715189Z",
     "shell.execute_reply": "2021-03-19T05:50:39.714248Z"
    },
    "papermill": {
     "duration": 12.502582,
     "end_time": "2021-03-19T05:50:39.715316",
     "exception": false,
     "start_time": "2021-03-19T05:50:27.212734",
     "status": "completed"
    },
    "tags": []
   },
   "outputs": [],
   "source": [
    "train_checkscore.to_csv(\"mlp_oof.csv\", index=False)"
   ]
  },
  {
   "cell_type": "code",
   "execution_count": 26,
   "metadata": {
    "execution": {
     "iopub.execute_input": "2021-03-19T05:50:40.205487Z",
     "iopub.status.busy": "2021-03-19T05:50:40.202251Z",
     "iopub.status.idle": "2021-03-19T05:50:42.697331Z",
     "shell.execute_reply": "2021-03-19T05:50:42.696318Z"
    },
    "papermill": {
     "duration": 2.755187,
     "end_time": "2021-03-19T05:50:42.697794",
     "exception": false,
     "start_time": "2021-03-19T05:50:39.942607",
     "status": "completed"
    },
    "tags": []
   },
   "outputs": [],
   "source": [
    "sub.loc[cons_test_index,target_feats] = target_pred\n",
    "sub.loc[noncons_test_index,target_feats] = 0\n",
    "sub.to_csv('submission.csv', index=False)"
   ]
  },
  {
   "cell_type": "code",
   "execution_count": null,
   "metadata": {
    "papermill": {
     "duration": 0.426462,
     "end_time": "2021-03-19T05:50:43.660625",
     "exception": false,
     "start_time": "2021-03-19T05:50:43.234163",
     "status": "completed"
    },
    "tags": []
   },
   "outputs": [],
   "source": []
  }
 ],
 "metadata": {
  "kernelspec": {
   "display_name": "Python 3",
   "language": "python",
   "name": "python3"
  },
  "language_info": {
   "codemirror_mode": {
    "name": "ipython",
    "version": 3
   },
   "file_extension": ".py",
   "mimetype": "text/x-python",
   "name": "python",
   "nbconvert_exporter": "python",
   "pygments_lexer": "ipython3",
   "version": "3.7.6"
  },
  "papermill": {
   "duration": 1057.357616,
   "end_time": "2021-03-19T05:50:45.609368",
   "environment_variables": {},
   "exception": null,
   "input_path": "__notebook__.ipynb",
   "output_path": "__notebook__.ipynb",
   "parameters": {},
   "start_time": "2021-03-19T05:33:08.251752",
   "version": "2.1.0"
  }
 },
 "nbformat": 4,
 "nbformat_minor": 4
}
