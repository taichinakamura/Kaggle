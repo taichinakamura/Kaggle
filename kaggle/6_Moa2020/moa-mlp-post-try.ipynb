{
 "cells": [
  {
   "cell_type": "markdown",
   "metadata": {
    "papermill": {
     "duration": 0.015647,
     "end_time": "2021-03-25T01:33:09.237542",
     "exception": false,
     "start_time": "2021-03-25T01:33:09.221895",
     "status": "completed"
    },
    "tags": []
   },
   "source": [
    "**Late submission**\n",
    "- solve as a multiclass classification problem\n",
    "- change learning rate scheduler\n",
    "- got back to ver 15 and change dropout rate"
   ]
  },
  {
   "cell_type": "code",
   "execution_count": 1,
   "metadata": {
    "_cell_guid": "b1076dfc-b9ad-4769-8c92-a6c4dae69d19",
    "_uuid": "8f2839f25d086af736a60e9eeb907d3b93b6e0e5",
    "execution": {
     "iopub.execute_input": "2021-03-25T01:33:09.273583Z",
     "iopub.status.busy": "2021-03-25T01:33:09.273005Z",
     "iopub.status.idle": "2021-03-25T01:33:15.980769Z",
     "shell.execute_reply": "2021-03-25T01:33:15.981780Z"
    },
    "papermill": {
     "duration": 6.729974,
     "end_time": "2021-03-25T01:33:15.981964",
     "exception": false,
     "start_time": "2021-03-25T01:33:09.251990",
     "status": "completed"
    },
    "tags": []
   },
   "outputs": [
    {
     "name": "stderr",
     "output_type": "stream",
     "text": [
      "/opt/conda/lib/python3.7/site-packages/ipykernel_launcher.py:12: TqdmDeprecationWarning: This function will be removed in tqdm==5.0.0\n",
      "Please use `tqdm.notebook.*` instead of `tqdm._tqdm_notebook.*`\n",
      "  if sys.path[0] == '':\n"
     ]
    }
   ],
   "source": [
    "import os\n",
    "import random\n",
    "import warnings\n",
    "import numpy as np\n",
    "import pandas as pd \n",
    "from sklearn import preprocessing\n",
    "from sklearn.metrics import log_loss\n",
    "from sklearn.decomposition import PCA\n",
    "from tqdm import tqdm_notebook as tqdm\n",
    "from sklearn.feature_selection import VarianceThreshold\n",
    "from sklearn.model_selection import StratifiedKFold, KFold\n",
    "from tqdm._tqdm_notebook import tqdm_notebook\n",
    "\n",
    "import time\n",
    "import torch\n",
    "import torch.nn as nn\n",
    "import torch.optim as optim\n",
    "import torch.nn.functional as F\n",
    "import tensorflow as tf\n",
    "\n",
    "warnings.filterwarnings('ignore')"
   ]
  },
  {
   "cell_type": "markdown",
   "metadata": {
    "papermill": {
     "duration": 0.021448,
     "end_time": "2021-03-25T01:33:16.027912",
     "exception": false,
     "start_time": "2021-03-25T01:33:16.006464",
     "status": "completed"
    },
    "tags": []
   },
   "source": [
    "# final engineering"
   ]
  },
  {
   "cell_type": "code",
   "execution_count": 2,
   "metadata": {
    "execution": {
     "iopub.execute_input": "2021-03-25T01:33:16.083558Z",
     "iopub.status.busy": "2021-03-25T01:33:16.082843Z",
     "iopub.status.idle": "2021-03-25T01:33:23.494389Z",
     "shell.execute_reply": "2021-03-25T01:33:23.492853Z"
    },
    "papermill": {
     "duration": 7.444808,
     "end_time": "2021-03-25T01:33:23.494824",
     "exception": false,
     "start_time": "2021-03-25T01:33:16.050016",
     "status": "completed"
    },
    "tags": []
   },
   "outputs": [],
   "source": [
    "DATA_DIR = '/kaggle/input/lish-moa/'\n",
    "train = pd.read_csv(DATA_DIR + 'train_features.csv')\n",
    "targets = pd.read_csv(DATA_DIR + 'train_targets_scored.csv')\n",
    "non_targets = pd.read_csv(DATA_DIR + 'train_targets_nonscored.csv')\n",
    "test = pd.read_csv(DATA_DIR + 'test_features.csv')\n",
    "sub = pd.read_csv(DATA_DIR + 'sample_submission.csv')\n",
    "drug = pd.read_csv(DATA_DIR + 'train_drug.csv')"
   ]
  },
  {
   "cell_type": "code",
   "execution_count": 3,
   "metadata": {
    "execution": {
     "iopub.execute_input": "2021-03-25T01:33:23.555998Z",
     "iopub.status.busy": "2021-03-25T01:33:23.555488Z",
     "iopub.status.idle": "2021-03-25T01:33:23.563500Z",
     "shell.execute_reply": "2021-03-25T01:33:23.562834Z"
    },
    "papermill": {
     "duration": 0.040874,
     "end_time": "2021-03-25T01:33:23.563640",
     "exception": false,
     "start_time": "2021-03-25T01:33:23.522766",
     "status": "completed"
    },
    "tags": []
   },
   "outputs": [],
   "source": [
    "target_feats = [ i for i in targets.columns if i != \"sig_id\"]\n",
    "g_feats = [i for i in train.columns if \"g-\" in i]\n",
    "c_feats = [i for i in train.columns if \"c-\" in i]"
   ]
  },
  {
   "cell_type": "code",
   "execution_count": 4,
   "metadata": {
    "execution": {
     "iopub.execute_input": "2021-03-25T01:33:23.644275Z",
     "iopub.status.busy": "2021-03-25T01:33:23.643456Z",
     "iopub.status.idle": "2021-03-25T01:33:23.779543Z",
     "shell.execute_reply": "2021-03-25T01:33:23.778867Z"
    },
    "papermill": {
     "duration": 0.187886,
     "end_time": "2021-03-25T01:33:23.779703",
     "exception": false,
     "start_time": "2021-03-25T01:33:23.591817",
     "status": "completed"
    },
    "tags": []
   },
   "outputs": [],
   "source": [
    "noncons_train_index = train[train.cp_type==\"ctl_vehicle\"].index\n",
    "cons_train_index = train[train.cp_type!=\"ctl_vehicle\"].index\n",
    "noncons_test_index = test[test.cp_type==\"ctl_vehicle\"].index\n",
    "cons_test_index = test[test.cp_type!=\"ctl_vehicle\"].index"
   ]
  },
  {
   "cell_type": "markdown",
   "metadata": {
    "papermill": {
     "duration": 0.023389,
     "end_time": "2021-03-25T01:33:23.827627",
     "exception": false,
     "start_time": "2021-03-25T01:33:23.804238",
     "status": "completed"
    },
    "tags": []
   },
   "source": [
    "# target group"
   ]
  },
  {
   "cell_type": "code",
   "execution_count": 5,
   "metadata": {
    "execution": {
     "iopub.execute_input": "2021-03-25T01:33:23.902974Z",
     "iopub.status.busy": "2021-03-25T01:33:23.901484Z",
     "iopub.status.idle": "2021-03-25T01:33:23.903739Z",
     "shell.execute_reply": "2021-03-25T01:33:23.902224Z"
    },
    "papermill": {
     "duration": 0.05272,
     "end_time": "2021-03-25T01:33:23.903870",
     "exception": false,
     "start_time": "2021-03-25T01:33:23.851150",
     "status": "completed"
    },
    "tags": []
   },
   "outputs": [],
   "source": [
    "y = targets.drop(\"sig_id\", axis=1)"
   ]
  },
  {
   "cell_type": "code",
   "execution_count": 6,
   "metadata": {
    "execution": {
     "iopub.execute_input": "2021-03-25T01:33:23.963049Z",
     "iopub.status.busy": "2021-03-25T01:33:23.962234Z",
     "iopub.status.idle": "2021-03-25T01:33:35.446624Z",
     "shell.execute_reply": "2021-03-25T01:33:35.447154Z"
    },
    "papermill": {
     "duration": 11.520354,
     "end_time": "2021-03-25T01:33:35.447280",
     "exception": false,
     "start_time": "2021-03-25T01:33:23.926926",
     "status": "completed"
    },
    "tags": []
   },
   "outputs": [
    {
     "data": {
      "text/plain": [
       "((23814, 328), (328, 206))"
      ]
     },
     "execution_count": 6,
     "metadata": {},
     "output_type": "execute_result"
    }
   ],
   "source": [
    "def make_string(row):\n",
    "    return str(row[1:].values).replace('[','').replace(']','').replace('\\n','').replace(' ','')\n",
    "\n",
    "targets[\"target_pair\"] = targets.apply(make_string, axis=1)\n",
    "targetpair_id = dict(enumerate(targets[\"target_pair\"].unique()))\n",
    "id_targetpair = {y:x for x,y in targetpair_id.items()}\n",
    "targets[\"target_pair_num\"] = targets[\"target_pair\"].map(id_targetpair)\n",
    "\n",
    "multiclass_targets = pd.get_dummies(targets[\"target_pair_num\"])\n",
    "\n",
    "for i in range(len(id_targetpair.keys())):\n",
    "    if i == 0:\n",
    "        classid_target = np.array(list((targetpair_id[i]))).reshape(1,-1)      \n",
    "    else:\n",
    "        classid_target = np.vstack([classid_target, np.array(list((targetpair_id[i]))).reshape(1,-1)])\n",
    "        \n",
    "classid_target = classid_target.astype(int)\n",
    "class_num = multiclass_targets.shape[1]\n",
    "        \n",
    "multiclass_targets.shape, classid_target.shape"
   ]
  },
  {
   "cell_type": "markdown",
   "metadata": {
    "papermill": {
     "duration": 0.015216,
     "end_time": "2021-03-25T01:33:35.477922",
     "exception": false,
     "start_time": "2021-03-25T01:33:35.462706",
     "status": "completed"
    },
    "tags": []
   },
   "source": [
    "# preprocess"
   ]
  },
  {
   "cell_type": "code",
   "execution_count": 7,
   "metadata": {
    "execution": {
     "iopub.execute_input": "2021-03-25T01:33:35.522520Z",
     "iopub.status.busy": "2021-03-25T01:33:35.521525Z",
     "iopub.status.idle": "2021-03-25T01:33:35.788062Z",
     "shell.execute_reply": "2021-03-25T01:33:35.787593Z"
    },
    "papermill": {
     "duration": 0.294567,
     "end_time": "2021-03-25T01:33:35.788183",
     "exception": false,
     "start_time": "2021-03-25T01:33:35.493616",
     "status": "completed"
    },
    "tags": []
   },
   "outputs": [],
   "source": [
    "train = train[train.index.isin(cons_train_index)].copy().reset_index(drop=True)\n",
    "test = test[test.index.isin(cons_test_index)].copy().reset_index(drop=True)\n",
    "targets = targets[targets.index.isin(cons_train_index)].copy().reset_index(drop=True)\n",
    "\n",
    "# no need to change to one-hot encoding form\n",
    "# https://discuss.pytorch.org/t/runtimeerror-multi-target-not-supported-newbie/10216\n",
    "multiclass_targets = targets[\"target_pair_num\"].copy().reset_index(drop=True)"
   ]
  },
  {
   "cell_type": "markdown",
   "metadata": {
    "papermill": {
     "duration": 0.015184,
     "end_time": "2021-03-25T01:33:35.818949",
     "exception": false,
     "start_time": "2021-03-25T01:33:35.803765",
     "status": "completed"
    },
    "tags": []
   },
   "source": [
    "# Feature engineering "
   ]
  },
  {
   "cell_type": "code",
   "execution_count": 8,
   "metadata": {
    "execution": {
     "iopub.execute_input": "2021-03-25T01:33:35.855152Z",
     "iopub.status.busy": "2021-03-25T01:33:35.854605Z",
     "iopub.status.idle": "2021-03-25T01:33:35.858490Z",
     "shell.execute_reply": "2021-03-25T01:33:35.858054Z"
    },
    "papermill": {
     "duration": 0.024012,
     "end_time": "2021-03-25T01:33:35.858579",
     "exception": false,
     "start_time": "2021-03-25T01:33:35.834567",
     "status": "completed"
    },
    "tags": []
   },
   "outputs": [],
   "source": [
    "#X = train.iloc[:,4:].copy().values\n",
    "#select = VarianceThreshold(threshold=0.9)\n",
    "#X_new = select.fit_transform(X)\n",
    "#drop_feats = list(np.array(train.iloc[:,4:].columns)[select.get_support()==False])\n",
    "#print(len(drop_feats))\n",
    "\n",
    "#train.drop(drop_feats, axis=1, inplace=True)\n",
    "#test.drop(drop_feats, axis=1, inplace=True)\n",
    "\n",
    "g_feats = [i for i in train.columns if \"g-\" in i]\n",
    "c_feats = [i for i in train.columns if \"c-\" in i]"
   ]
  },
  {
   "cell_type": "code",
   "execution_count": 9,
   "metadata": {
    "execution": {
     "iopub.execute_input": "2021-03-25T01:33:35.896288Z",
     "iopub.status.busy": "2021-03-25T01:33:35.895529Z",
     "iopub.status.idle": "2021-03-25T01:33:43.998850Z",
     "shell.execute_reply": "2021-03-25T01:33:43.998134Z"
    },
    "papermill": {
     "duration": 8.125159,
     "end_time": "2021-03-25T01:33:43.998959",
     "exception": false,
     "start_time": "2021-03-25T01:33:35.873800",
     "status": "completed"
    },
    "tags": []
   },
   "outputs": [],
   "source": [
    "# rank gauss\n",
    "for i in c_feats + g_feats:\n",
    "    ss = preprocessing.QuantileTransformer(n_quantiles=100, random_state=0, output_distribution=\"normal\")\n",
    "    ss.fit(train[i].values.reshape(-1,1))\n",
    "    train[i] = ss.transform(train[i].values.reshape(-1,1))\n",
    "    test[i] = ss.transform(test[i].values.reshape(-1,1))"
   ]
  },
  {
   "cell_type": "code",
   "execution_count": 10,
   "metadata": {
    "execution": {
     "iopub.execute_input": "2021-03-25T01:33:44.049890Z",
     "iopub.status.busy": "2021-03-25T01:33:44.048471Z",
     "iopub.status.idle": "2021-03-25T01:33:45.753071Z",
     "shell.execute_reply": "2021-03-25T01:33:45.751916Z"
    },
    "papermill": {
     "duration": 1.737544,
     "end_time": "2021-03-25T01:33:45.753198",
     "exception": false,
     "start_time": "2021-03-25T01:33:44.015654",
     "status": "completed"
    },
    "tags": []
   },
   "outputs": [],
   "source": [
    "c_num = 5\n",
    "pca_c_cols = [\"pca-c\"+str(i+1) for i in range(c_num)]\n",
    "pca = PCA(n_components=c_num,random_state=42)\n",
    "c_train = pca.fit_transform(train[c_feats])\n",
    "c_test = pca.transform(test[c_feats])\n",
    "c_train = pd.DataFrame(c_train, columns=pca_c_cols)\n",
    "c_test = pd.DataFrame(c_test, columns=pca_c_cols)\n",
    "\n",
    "g_num = 30\n",
    "pca_g_cols = [\"pca-g\"+str(i+1) for i in range(g_num)]\n",
    "pca = PCA(n_components=g_num, random_state=42)\n",
    "g_train = pca.fit_transform(train[g_feats])\n",
    "g_test = pca.transform(test[g_feats])\n",
    "g_train = pd.DataFrame(g_train, columns=pca_g_cols)\n",
    "g_test = pd.DataFrame(g_test, columns=pca_g_cols)\n",
    "\n",
    "train = pd.concat([train, c_train],axis=1)\n",
    "test = pd.concat([test, c_test],axis=1)\n",
    "train = pd.concat([train, g_train],axis=1)\n",
    "test = pd.concat([test, g_test],axis=1)"
   ]
  },
  {
   "cell_type": "code",
   "execution_count": 11,
   "metadata": {
    "execution": {
     "iopub.execute_input": "2021-03-25T01:33:45.793819Z",
     "iopub.status.busy": "2021-03-25T01:33:45.792675Z",
     "iopub.status.idle": "2021-03-25T01:33:47.621519Z",
     "shell.execute_reply": "2021-03-25T01:33:47.620938Z"
    },
    "papermill": {
     "duration": 1.852309,
     "end_time": "2021-03-25T01:33:47.621640",
     "exception": false,
     "start_time": "2021-03-25T01:33:45.769331",
     "status": "completed"
    },
    "tags": []
   },
   "outputs": [],
   "source": [
    "def fe(df):\n",
    "    tmp = df.copy()\n",
    "    tmp['g_kurt'] = tmp[g_feats].kurtosis(axis = 1)\n",
    "    tmp['g_skew'] = tmp[g_feats].skew(axis = 1)\n",
    "    tmp['c_kurt'] = tmp[c_feats].kurtosis(axis = 1)\n",
    "    tmp['c_skew'] = tmp[c_feats].skew(axis = 1)\n",
    "    tmp = pd.get_dummies(tmp, columns=['cp_time','cp_dose'])\n",
    "    tmp.drop([\"cp_type\", \"sig_id\"], axis=1, inplace=True)\n",
    "    return tmp\n",
    "\n",
    "train = fe(train)\n",
    "test = fe(test)"
   ]
  },
  {
   "cell_type": "code",
   "execution_count": 12,
   "metadata": {
    "execution": {
     "iopub.execute_input": "2021-03-25T01:33:47.665477Z",
     "iopub.status.busy": "2021-03-25T01:33:47.664243Z",
     "iopub.status.idle": "2021-03-25T01:33:47.817144Z",
     "shell.execute_reply": "2021-03-25T01:33:47.817829Z"
    },
    "papermill": {
     "duration": 0.177576,
     "end_time": "2021-03-25T01:33:47.818034",
     "exception": false,
     "start_time": "2021-03-25T01:33:47.640458",
     "status": "completed"
    },
    "tags": []
   },
   "outputs": [
    {
     "name": "stdout",
     "output_type": "stream",
     "text": [
      "(21948, 916) (3624, 916) (23814, 206) (21948,)\n"
     ]
    }
   ],
   "source": [
    "fn_train = train.copy().to_numpy()\n",
    "fn_test = test.copy().to_numpy()\n",
    "fn_targets = y.copy().to_numpy()\n",
    "fn_multiclass_targets = multiclass_targets.copy().to_numpy()\n",
    "print(fn_train.shape, fn_test.shape, fn_targets.shape, fn_multiclass_targets.shape)"
   ]
  },
  {
   "cell_type": "markdown",
   "metadata": {
    "papermill": {
     "duration": 0.018249,
     "end_time": "2021-03-25T01:33:47.855421",
     "exception": false,
     "start_time": "2021-03-25T01:33:47.837172",
     "status": "completed"
    },
    "tags": []
   },
   "source": [
    "# modelling"
   ]
  },
  {
   "cell_type": "code",
   "execution_count": 13,
   "metadata": {
    "execution": {
     "iopub.execute_input": "2021-03-25T01:33:48.247910Z",
     "iopub.status.busy": "2021-03-25T01:33:48.247340Z",
     "iopub.status.idle": "2021-03-25T01:33:48.255928Z",
     "shell.execute_reply": "2021-03-25T01:33:48.253099Z"
    },
    "papermill": {
     "duration": 0.383908,
     "end_time": "2021-03-25T01:33:48.256092",
     "exception": false,
     "start_time": "2021-03-25T01:33:47.872184",
     "status": "completed"
    },
    "tags": []
   },
   "outputs": [],
   "source": [
    "device = \"cuda\" if torch.cuda.is_available() else \"cpu\""
   ]
  },
  {
   "cell_type": "code",
   "execution_count": 14,
   "metadata": {
    "execution": {
     "iopub.execute_input": "2021-03-25T01:33:48.337735Z",
     "iopub.status.busy": "2021-03-25T01:33:48.336762Z",
     "iopub.status.idle": "2021-03-25T01:33:48.364595Z",
     "shell.execute_reply": "2021-03-25T01:33:48.366247Z"
    },
    "papermill": {
     "duration": 0.070927,
     "end_time": "2021-03-25T01:33:48.366525",
     "exception": false,
     "start_time": "2021-03-25T01:33:48.295598",
     "status": "completed"
    },
    "tags": []
   },
   "outputs": [
    {
     "name": "stdout",
     "output_type": "stream",
     "text": [
      "cuda\n"
     ]
    }
   ],
   "source": [
    "print(device)\n",
    "def seed_everything(seed=42): \n",
    "    random.seed(seed)\n",
    "    os.environ['PYTHONHASHSEED'] = str(seed)\n",
    "    tf.random.set_seed(seed)\n",
    "    np.random.seed(seed)\n",
    "    torch.manual_seed(seed)\n",
    "    torch.cuda.manual_seed(seed)\n",
    "    torch.backends.cudnn.deterministic = True\n",
    "\n",
    "class MoaModel(nn.Module):\n",
    "    def __init__(self, num_columns, last_num):\n",
    "        super(MoaModel, self).__init__()\n",
    "        self.batch_norm1 = nn.BatchNorm1d(num_columns)\n",
    "        self.dropout1 = nn.Dropout(0.25)\n",
    "        self.dense1 = nn.utils.weight_norm(nn.Linear(num_columns, 1024))\n",
    "        self.relu1 = nn.LeakyReLU()\n",
    "        \n",
    "        self.batch_norm2 = nn.BatchNorm1d(1024)\n",
    "        self.dropout2 = nn.Dropout(0.25)\n",
    "        self.dense2 = nn.utils.weight_norm(nn.Linear(1024, 1024))\n",
    "        self.relu2 = nn.LeakyReLU()\n",
    "        \n",
    "        self.batch_norm3 = nn.BatchNorm1d(1024)\n",
    "        self.dropout3 = nn.Dropout(0.25)\n",
    "        self.dense3 = nn.utils.weight_norm(nn.Linear(1024, 1024))\n",
    "        self.relu3 = nn.LeakyReLU()\n",
    "        \n",
    "        self.batch_norm4 = nn.BatchNorm1d(1024)\n",
    "        self.dropout4 = nn.Dropout(0.25)\n",
    "        self.dense4 = nn.utils.weight_norm(nn.Linear(1024, last_num))\n",
    "        \n",
    "    def forward(self, x):\n",
    "        x = self.batch_norm1(x)\n",
    "        x = self.dropout1(x)\n",
    "        x = self.relu1(self.dense1(x))\n",
    "        \n",
    "        x = self.batch_norm2(x)\n",
    "        x = self.dropout2(x)\n",
    "        x = self.relu2(self.dense2(x))\n",
    "        \n",
    "        x = self.batch_norm3(x)\n",
    "        x = self.dropout3(x)\n",
    "        x = self.relu3(self.dense3(x))\n",
    "        \n",
    "        x = self.batch_norm4(x)\n",
    "        x = self.dropout4(x)\n",
    "        x = self.dense4(x)\n",
    "        \n",
    "        return x"
   ]
  },
  {
   "cell_type": "markdown",
   "metadata": {
    "papermill": {
     "duration": 0.02724,
     "end_time": "2021-03-25T01:33:48.427774",
     "exception": false,
     "start_time": "2021-03-25T01:33:48.400534",
     "status": "completed"
    },
    "tags": []
   },
   "source": [
    "# modelling"
   ]
  },
  {
   "cell_type": "code",
   "execution_count": 15,
   "metadata": {
    "execution": {
     "iopub.execute_input": "2021-03-25T01:33:48.494623Z",
     "iopub.status.busy": "2021-03-25T01:33:48.493743Z",
     "iopub.status.idle": "2021-03-25T01:33:48.548092Z",
     "shell.execute_reply": "2021-03-25T01:33:48.549250Z"
    },
    "papermill": {
     "duration": 0.094422,
     "end_time": "2021-03-25T01:33:48.549424",
     "exception": false,
     "start_time": "2021-03-25T01:33:48.455002",
     "status": "completed"
    },
    "tags": []
   },
   "outputs": [],
   "source": [
    "batch_size = 128\n",
    "n_folds=7\n",
    "EARLY_STOPPING_STEPS = 10\n",
    "smoothing = 0.001\n",
    "p_min = smoothing\n",
    "p_max = 1 - smoothing\n",
    "train_epochs = 10\n",
    "\n",
    "def multi_log_loss(y_true, y_pred):\n",
    "    metrics = []\n",
    "    for i, target in enumerate(target_feats):\n",
    "        metrics.append(log_loss(y_true[:, i], y_pred[:, i].astype(float), labels=[0,1]))\n",
    "    return np.mean(metrics)\n",
    "    \n",
    "def modelling_torch(tr, target, te, sample_seed, init_num, last_num):\n",
    "    seed_everything(seed=sample_seed) \n",
    "    X_train = tr.copy()\n",
    "    y_train = target.copy()\n",
    "    X_test = te.copy()\n",
    "    test_len = X_test.shape[0]\n",
    "    \n",
    "    mskf=KFold(n_splits = n_folds, shuffle=True, random_state=224)\n",
    "\n",
    "    models = []\n",
    "    \n",
    "    X_test2 = torch.tensor(X_test, dtype=torch.float32)\n",
    "    test = torch.utils.data.TensorDataset(X_test2) \n",
    "    test_loader = torch.utils.data.DataLoader(test, batch_size=batch_size, shuffle=False)\n",
    "    \n",
    "    oof = np.zeros([len(X_train),last_num])\n",
    "    oof_targets = np.zeros([len(X_train),last_num])\n",
    "    pred_value = np.zeros([test_len, last_num])\n",
    "    for fold, (train_index, valid_index) in enumerate(mskf.split(X_train, y_train)):\n",
    "        print(\"Seed \"+str(sample_seed)+\"_Fold \"+str(fold+1))\n",
    "        X_train2 = torch.tensor(X_train[train_index,:], dtype=torch.float32)\n",
    "        y_train2 = torch.tensor(y_train[train_index], dtype=torch.long)\n",
    "\n",
    "        X_valid2 = torch.tensor(X_train[valid_index,:], dtype=torch.float32)\n",
    "        y_valid2 = torch.tensor(y_train[valid_index], dtype=torch.long)\n",
    "        \n",
    "        train = torch.utils.data.TensorDataset(X_train2, y_train2)\n",
    "        valid = torch.utils.data.TensorDataset(X_valid2, y_valid2)\n",
    "        \n",
    "        train_loader = torch.utils.data.DataLoader(train, batch_size=batch_size, shuffle=True) \n",
    "        valid_loader = torch.utils.data.DataLoader(valid, batch_size=batch_size, shuffle=False)\n",
    "            \n",
    "        clf = MoaModel(init_num, last_num)\n",
    "        loss_fn = nn.CrossEntropyLoss() \n",
    "\n",
    "        optimizer = optim.Adam(clf.parameters(), lr = 0.01, weight_decay=1e-4) \n",
    "        scheduler = optim.lr_scheduler.OneCycleLR(optimizer=optimizer, pct_start=0.1, div_factor=1e3, \n",
    "                                              max_lr=2e-2, epochs=train_epochs, steps_per_epoch=len(train_loader))\n",
    "        \n",
    "        clf.to(device)\n",
    "        \n",
    "        best_val_loss = np.inf\n",
    "        stop_counts = 0\n",
    "        for epoch in range(train_epochs):\n",
    "            start_time = time.time()\n",
    "            clf.train()\n",
    "            avg_loss = 0.\n",
    "            for x_batch, y_batch in tqdm(train_loader, disable=True):\n",
    "                x_batch = x_batch.to(device)\n",
    "                y_batch = y_batch.to(device)\n",
    "                y_pred = clf(x_batch)\n",
    "                loss = loss_fn(y_pred, y_batch)\n",
    "                optimizer.zero_grad()\n",
    "                loss.backward()\n",
    "                optimizer.step()\n",
    "                scheduler.step()\n",
    "                avg_loss += loss.item() / len(train_loader)  \n",
    "                \n",
    "            clf.eval()\n",
    "            avg_val_loss = 0.\n",
    "            for i, (x_batch, y_batch) in enumerate(valid_loader): \n",
    "                x_batch = x_batch.to(device)\n",
    "                y_batch = y_batch.to(device)\n",
    "                y_pred = clf(x_batch).detach()\n",
    "                avg_val_loss += loss_fn(y_pred, y_batch).item() / len(valid_loader)\n",
    "        \n",
    "            elapsed_time = time.time() - start_time \n",
    "                    \n",
    "            if avg_val_loss < best_val_loss:\n",
    "                best_val_loss = avg_val_loss\n",
    "                print('Epoch {}  loss={:.5f}  val_loss={:.5f}  time={:.2f}s'.format(\n",
    "                    epoch + 1, avg_loss, avg_val_loss, elapsed_time))\n",
    "                torch.save(clf.state_dict(), 'best-model-parameters.pt')\n",
    "                stop_counts = 0\n",
    "            else:\n",
    "                stop_counts += 1\n",
    "                \n",
    "            if stop_counts >= EARLY_STOPPING_STEPS:\n",
    "                break\n",
    "        \n",
    "        pred_model = MoaModel(init_num, last_num)\n",
    "        pred_model.load_state_dict(torch.load('best-model-parameters.pt'))         \n",
    "        pred_model.eval()\n",
    "        \n",
    "        # validation check ----------------\n",
    "        oof_epoch = np.zeros([X_valid2.size(0), last_num])\n",
    "        target_epoch = np.zeros([X_valid2.size(0), last_num])\n",
    "        for i, (x_batch, y_batch) in enumerate(valid_loader): \n",
    "            y_pred = pred_model(x_batch).detach()\n",
    "            oof_epoch[i * batch_size:(i+1) * batch_size,:] = F.softmax(y_pred.cpu()) \n",
    "        oof[valid_index,:] = oof_epoch\n",
    "        #-----------------------------------\n",
    "        \n",
    "        # test predcition --------------\n",
    "        test_preds = np.zeros([test_len, last_num])\n",
    "        for i, (x_batch,) in enumerate(test_loader): \n",
    "            y_pred = pred_model(x_batch).detach()\n",
    "            test_preds[i * batch_size:(i+1) * batch_size, :] = F.softmax(y_pred.cpu()) \n",
    "        pred_value += test_preds / n_folds\n",
    "        # ------------------------------\n",
    "    \n",
    "    return oof, pred_value"
   ]
  },
  {
   "cell_type": "code",
   "execution_count": 16,
   "metadata": {
    "execution": {
     "iopub.execute_input": "2021-03-25T01:33:48.643204Z",
     "iopub.status.busy": "2021-03-25T01:33:48.642198Z",
     "iopub.status.idle": "2021-03-25T01:40:10.519608Z",
     "shell.execute_reply": "2021-03-25T01:40:10.518536Z"
    },
    "papermill": {
     "duration": 381.931132,
     "end_time": "2021-03-25T01:40:10.519737",
     "exception": false,
     "start_time": "2021-03-25T01:33:48.588605",
     "status": "completed"
    },
    "tags": []
   },
   "outputs": [
    {
     "name": "stdout",
     "output_type": "stream",
     "text": [
      "Seed 0_Fold 1\n",
      "Epoch 1  loss=4.03081  val_loss=3.40804  time=1.41s\n",
      "Epoch 2  loss=3.26284  val_loss=3.18877  time=0.86s\n",
      "Epoch 3  loss=3.12407  val_loss=3.15433  time=1.19s\n",
      "Epoch 4  loss=3.05069  val_loss=3.09873  time=0.89s\n",
      "Epoch 5  loss=2.97150  val_loss=3.03252  time=0.88s\n",
      "Epoch 6  loss=2.87469  val_loss=2.99220  time=1.11s\n",
      "Epoch 7  loss=2.75044  val_loss=2.93342  time=0.94s\n",
      "Epoch 8  loss=2.58409  val_loss=2.89563  time=0.91s\n",
      "Epoch 9  loss=2.36712  val_loss=2.89018  time=0.87s\n",
      "Seed 0_Fold 2\n",
      "Epoch 1  loss=4.02556  val_loss=3.33738  time=0.85s\n",
      "Epoch 2  loss=3.28989  val_loss=3.08835  time=0.86s\n",
      "Epoch 3  loss=3.13991  val_loss=3.07204  time=0.86s\n",
      "Epoch 4  loss=3.06654  val_loss=3.03797  time=0.86s\n",
      "Epoch 5  loss=2.99041  val_loss=2.95039  time=0.86s\n",
      "Epoch 6  loss=2.88888  val_loss=2.90445  time=1.05s\n",
      "Epoch 7  loss=2.75948  val_loss=2.86766  time=0.86s\n",
      "Epoch 8  loss=2.59444  val_loss=2.82078  time=0.87s\n",
      "Epoch 9  loss=2.37698  val_loss=2.81405  time=0.86s\n",
      "Seed 0_Fold 3\n",
      "Epoch 1  loss=4.03777  val_loss=3.43762  time=0.86s\n",
      "Epoch 2  loss=3.26197  val_loss=3.23893  time=0.88s\n",
      "Epoch 3  loss=3.11773  val_loss=3.18572  time=0.86s\n",
      "Epoch 4  loss=3.04985  val_loss=3.14630  time=0.86s\n",
      "Epoch 5  loss=2.96258  val_loss=3.06062  time=0.90s\n",
      "Epoch 6  loss=2.87337  val_loss=3.03316  time=0.88s\n",
      "Epoch 7  loss=2.74502  val_loss=2.98371  time=1.08s\n",
      "Epoch 8  loss=2.56309  val_loss=2.96133  time=0.87s\n",
      "Epoch 9  loss=2.34631  val_loss=2.95838  time=0.90s\n",
      "Seed 0_Fold 4\n",
      "Epoch 1  loss=4.00696  val_loss=3.47337  time=0.88s\n",
      "Epoch 2  loss=3.23833  val_loss=3.27409  time=0.87s\n",
      "Epoch 3  loss=3.11232  val_loss=3.23929  time=1.21s\n",
      "Epoch 4  loss=3.02821  val_loss=3.22198  time=0.87s\n",
      "Epoch 5  loss=2.95449  val_loss=3.11759  time=0.87s\n",
      "Epoch 6  loss=2.86639  val_loss=3.05958  time=0.86s\n",
      "Epoch 7  loss=2.74484  val_loss=3.03385  time=1.07s\n",
      "Epoch 8  loss=2.56340  val_loss=2.98148  time=0.88s\n",
      "Epoch 9  loss=2.35788  val_loss=2.96514  time=0.86s\n",
      "Epoch 10  loss=2.19287  val_loss=2.96297  time=0.88s\n",
      "Seed 0_Fold 5\n",
      "Epoch 1  loss=4.02573  val_loss=3.36831  time=1.01s\n",
      "Epoch 2  loss=3.27047  val_loss=3.17178  time=0.87s\n",
      "Epoch 3  loss=3.14089  val_loss=3.12338  time=0.87s\n",
      "Epoch 4  loss=3.05467  val_loss=3.03004  time=0.86s\n",
      "Epoch 5  loss=2.97081  val_loss=2.99025  time=0.86s\n",
      "Epoch 6  loss=2.88220  val_loss=2.95527  time=0.86s\n",
      "Epoch 7  loss=2.76271  val_loss=2.88091  time=1.10s\n",
      "Epoch 8  loss=2.58166  val_loss=2.84907  time=0.91s\n",
      "Seed 0_Fold 6\n",
      "Epoch 1  loss=4.02833  val_loss=3.40789  time=0.87s\n",
      "Epoch 2  loss=3.27522  val_loss=3.16122  time=0.86s\n",
      "Epoch 3  loss=3.14425  val_loss=3.06904  time=0.88s\n",
      "Epoch 4  loss=3.06483  val_loss=3.05037  time=0.86s\n",
      "Epoch 5  loss=2.98282  val_loss=2.98018  time=0.87s\n",
      "Epoch 6  loss=2.89992  val_loss=2.92983  time=0.91s\n",
      "Epoch 7  loss=2.78220  val_loss=2.89705  time=0.87s\n",
      "Epoch 8  loss=2.61110  val_loss=2.85409  time=1.05s\n",
      "Epoch 9  loss=2.39528  val_loss=2.85363  time=0.86s\n",
      "Epoch 10  loss=2.23100  val_loss=2.84926  time=0.86s\n",
      "Seed 0_Fold 7\n",
      "Epoch 1  loss=4.02219  val_loss=3.32719  time=0.90s\n",
      "Epoch 2  loss=3.26897  val_loss=3.13196  time=1.21s\n",
      "Epoch 3  loss=3.13796  val_loss=3.12080  time=0.87s\n",
      "Epoch 4  loss=3.05790  val_loss=3.05284  time=0.87s\n",
      "Epoch 5  loss=2.98290  val_loss=2.99477  time=0.88s\n",
      "Epoch 6  loss=2.88824  val_loss=2.94026  time=0.87s\n",
      "Epoch 7  loss=2.75742  val_loss=2.91762  time=0.86s\n",
      "Epoch 8  loss=2.59053  val_loss=2.86861  time=1.11s\n",
      "Epoch 9  loss=2.37861  val_loss=2.85427  time=0.87s\n",
      "Seed 1_Fold 1\n",
      "Epoch 1  loss=4.03674  val_loss=3.39140  time=0.86s\n",
      "Epoch 2  loss=3.27359  val_loss=3.21300  time=0.86s\n",
      "Epoch 3  loss=3.12995  val_loss=3.11713  time=0.87s\n",
      "Epoch 4  loss=3.04703  val_loss=3.08851  time=0.87s\n",
      "Epoch 5  loss=2.97155  val_loss=3.05768  time=0.86s\n",
      "Epoch 6  loss=2.88349  val_loss=2.99190  time=0.86s\n",
      "Epoch 7  loss=2.75217  val_loss=2.93003  time=0.86s\n",
      "Epoch 8  loss=2.58098  val_loss=2.91082  time=1.08s\n",
      "Seed 1_Fold 2\n",
      "Epoch 1  loss=4.03477  val_loss=3.30235  time=0.88s\n",
      "Epoch 2  loss=3.28517  val_loss=3.09412  time=0.85s\n",
      "Epoch 3  loss=3.13553  val_loss=3.03539  time=0.86s\n",
      "Epoch 4  loss=3.06527  val_loss=2.99970  time=0.87s\n",
      "Epoch 5  loss=2.98718  val_loss=2.92622  time=0.86s\n",
      "Epoch 6  loss=2.88709  val_loss=2.89699  time=0.86s\n",
      "Epoch 7  loss=2.77236  val_loss=2.84601  time=0.90s\n",
      "Epoch 8  loss=2.59566  val_loss=2.79886  time=0.93s\n",
      "Epoch 10  loss=2.21454  val_loss=2.79616  time=0.85s\n",
      "Seed 1_Fold 3\n",
      "Epoch 1  loss=4.04802  val_loss=3.44869  time=0.86s\n",
      "Epoch 2  loss=3.24327  val_loss=3.25288  time=1.00s\n",
      "Epoch 3  loss=3.10955  val_loss=3.16325  time=1.17s\n",
      "Epoch 4  loss=3.03941  val_loss=3.11251  time=0.86s\n",
      "Epoch 5  loss=2.94960  val_loss=3.06262  time=0.85s\n",
      "Epoch 6  loss=2.86037  val_loss=3.04869  time=0.85s\n",
      "Epoch 7  loss=2.72829  val_loss=2.97330  time=0.87s\n",
      "Epoch 8  loss=2.54066  val_loss=2.95860  time=0.99s\n",
      "Epoch 9  loss=2.32724  val_loss=2.94609  time=0.96s\n",
      "Epoch 10  loss=2.15747  val_loss=2.94532  time=0.86s\n",
      "Seed 1_Fold 4\n",
      "Epoch 1  loss=4.01643  val_loss=3.46915  time=0.88s\n",
      "Epoch 2  loss=3.25885  val_loss=3.28415  time=0.89s\n",
      "Epoch 3  loss=3.11692  val_loss=3.21133  time=0.88s\n",
      "Epoch 5  loss=2.95855  val_loss=3.13916  time=0.86s\n",
      "Epoch 6  loss=2.86764  val_loss=3.06317  time=0.86s\n",
      "Epoch 7  loss=2.75487  val_loss=3.01783  time=0.87s\n",
      "Epoch 8  loss=2.59466  val_loss=2.97453  time=0.88s\n",
      "Epoch 9  loss=2.37492  val_loss=2.96089  time=1.08s\n",
      "Seed 1_Fold 5\n",
      "Epoch 1  loss=4.03969  val_loss=3.37655  time=0.87s\n",
      "Epoch 2  loss=3.27052  val_loss=3.16393  time=0.86s\n",
      "Epoch 3  loss=3.14065  val_loss=3.06920  time=0.86s\n",
      "Epoch 4  loss=3.06352  val_loss=3.04634  time=0.85s\n",
      "Epoch 5  loss=2.98320  val_loss=2.97116  time=0.87s\n",
      "Epoch 6  loss=2.89180  val_loss=2.94975  time=0.86s\n",
      "Epoch 7  loss=2.76729  val_loss=2.89240  time=0.86s\n",
      "Epoch 8  loss=2.59692  val_loss=2.84585  time=0.91s\n",
      "Epoch 9  loss=2.38865  val_loss=2.82875  time=1.00s\n",
      "Epoch 10  loss=2.21826  val_loss=2.82507  time=0.92s\n",
      "Seed 1_Fold 6\n",
      "Epoch 1  loss=4.04256  val_loss=3.37017  time=0.89s\n",
      "Epoch 2  loss=3.26954  val_loss=3.12640  time=0.86s\n",
      "Epoch 3  loss=3.13771  val_loss=3.07141  time=0.94s\n",
      "Epoch 4  loss=3.05704  val_loss=3.00700  time=1.19s\n",
      "Epoch 5  loss=2.98520  val_loss=2.96341  time=0.87s\n",
      "Epoch 6  loss=2.88842  val_loss=2.91764  time=0.87s\n",
      "Epoch 7  loss=2.77456  val_loss=2.88273  time=0.86s\n",
      "Epoch 8  loss=2.59965  val_loss=2.85984  time=0.86s\n",
      "Epoch 9  loss=2.39277  val_loss=2.83295  time=1.06s\n",
      "Epoch 10  loss=2.23363  val_loss=2.83175  time=0.86s\n",
      "Seed 1_Fold 7\n",
      "Epoch 1  loss=4.04279  val_loss=3.33049  time=0.87s\n",
      "Epoch 2  loss=3.28063  val_loss=3.15189  time=0.86s\n",
      "Epoch 3  loss=3.13242  val_loss=3.10220  time=0.85s\n",
      "Epoch 4  loss=3.06246  val_loss=3.04064  time=0.86s\n",
      "Epoch 5  loss=2.97603  val_loss=2.96365  time=0.86s\n",
      "Epoch 6  loss=2.87872  val_loss=2.94462  time=0.87s\n",
      "Epoch 7  loss=2.75293  val_loss=2.91696  time=0.89s\n",
      "Epoch 8  loss=2.57596  val_loss=2.87192  time=0.90s\n",
      "Seed 2_Fold 1\n",
      "Epoch 1  loss=4.02479  val_loss=3.35559  time=0.86s\n",
      "Epoch 2  loss=3.26821  val_loss=3.19635  time=0.96s\n",
      "Epoch 3  loss=3.13563  val_loss=3.14767  time=0.89s\n",
      "Epoch 4  loss=3.05813  val_loss=3.10598  time=0.86s\n",
      "Epoch 5  loss=2.98335  val_loss=3.04418  time=0.87s\n",
      "Epoch 6  loss=2.89494  val_loss=2.97277  time=0.87s\n",
      "Epoch 7  loss=2.76735  val_loss=2.95187  time=0.87s\n",
      "Epoch 8  loss=2.59148  val_loss=2.91447  time=0.89s\n",
      "Epoch 9  loss=2.38335  val_loss=2.90412  time=0.88s\n",
      "Epoch 10  loss=2.22245  val_loss=2.89725  time=1.09s\n",
      "Seed 2_Fold 2\n",
      "Epoch 1  loss=4.03976  val_loss=3.35662  time=0.89s\n",
      "Epoch 2  loss=3.28105  val_loss=3.10133  time=0.92s\n",
      "Epoch 3  loss=3.13920  val_loss=3.05838  time=0.86s\n",
      "Epoch 4  loss=3.07535  val_loss=3.01076  time=1.18s\n",
      "Epoch 5  loss=2.98454  val_loss=2.96418  time=0.95s\n",
      "Epoch 6  loss=2.89763  val_loss=2.90332  time=0.92s\n",
      "Epoch 7  loss=2.77792  val_loss=2.84803  time=0.92s\n",
      "Epoch 8  loss=2.60517  val_loss=2.81727  time=0.92s\n",
      "Epoch 9  loss=2.38171  val_loss=2.80432  time=0.96s\n",
      "Epoch 10  loss=2.21459  val_loss=2.79771  time=1.08s\n",
      "Seed 2_Fold 3\n",
      "Epoch 1  loss=4.02726  val_loss=3.48694  time=0.93s\n",
      "Epoch 2  loss=3.25640  val_loss=3.23235  time=0.88s\n",
      "Epoch 3  loss=3.13346  val_loss=3.19152  time=0.86s\n",
      "Epoch 4  loss=3.04007  val_loss=3.16228  time=0.87s\n",
      "Epoch 5  loss=2.96263  val_loss=3.07989  time=0.91s\n",
      "Epoch 6  loss=2.87158  val_loss=3.04673  time=0.88s\n",
      "Epoch 7  loss=2.74370  val_loss=2.99988  time=0.87s\n",
      "Epoch 8  loss=2.57634  val_loss=2.97970  time=0.92s\n",
      "Epoch 9  loss=2.35952  val_loss=2.96380  time=0.87s\n",
      "Seed 2_Fold 4\n",
      "Epoch 1  loss=4.02850  val_loss=3.47120  time=0.89s\n",
      "Epoch 2  loss=3.25139  val_loss=3.27922  time=0.87s\n",
      "Epoch 3  loss=3.11147  val_loss=3.23375  time=0.86s\n",
      "Epoch 4  loss=3.04152  val_loss=3.15806  time=0.85s\n",
      "Epoch 5  loss=2.94902  val_loss=3.14674  time=0.86s\n",
      "Epoch 6  loss=2.87548  val_loss=3.09267  time=0.90s\n",
      "Epoch 7  loss=2.74993  val_loss=3.03813  time=0.88s\n",
      "Epoch 8  loss=2.58269  val_loss=2.99618  time=0.89s\n",
      "Epoch 9  loss=2.36014  val_loss=2.99331  time=0.89s\n",
      "Seed 2_Fold 5\n",
      "Epoch 1  loss=4.02608  val_loss=3.38710  time=0.89s\n",
      "Epoch 2  loss=3.27330  val_loss=3.16358  time=0.88s\n",
      "Epoch 3  loss=3.13986  val_loss=3.08583  time=0.87s\n",
      "Epoch 4  loss=3.05267  val_loss=3.04308  time=1.00s\n",
      "Epoch 5  loss=2.97959  val_loss=3.02718  time=1.07s\n",
      "Epoch 6  loss=2.88497  val_loss=2.92907  time=0.88s\n",
      "Epoch 7  loss=2.75481  val_loss=2.89085  time=0.89s\n",
      "Epoch 8  loss=2.57420  val_loss=2.86809  time=0.87s\n",
      "Epoch 9  loss=2.35454  val_loss=2.85302  time=0.87s\n",
      "Epoch 10  loss=2.18756  val_loss=2.84714  time=1.02s\n",
      "Seed 2_Fold 6\n",
      "Epoch 1  loss=4.05690  val_loss=3.26710  time=0.86s\n",
      "Epoch 2  loss=3.25915  val_loss=3.11946  time=0.86s\n",
      "Epoch 3  loss=3.12500  val_loss=3.07553  time=0.90s\n",
      "Epoch 4  loss=3.06010  val_loss=3.02589  time=0.85s\n",
      "Epoch 5  loss=2.96716  val_loss=2.95704  time=0.87s\n",
      "Epoch 6  loss=2.87626  val_loss=2.94982  time=0.86s\n",
      "Epoch 7  loss=2.75273  val_loss=2.89155  time=0.88s\n",
      "Epoch 8  loss=2.58420  val_loss=2.84393  time=0.86s\n",
      "Epoch 9  loss=2.37150  val_loss=2.83368  time=0.87s\n",
      "Seed 2_Fold 7\n",
      "Epoch 1  loss=4.03800  val_loss=3.34361  time=0.86s\n",
      "Epoch 2  loss=3.26304  val_loss=3.11458  time=0.86s\n",
      "Epoch 3  loss=3.12863  val_loss=3.07379  time=0.86s\n",
      "Epoch 4  loss=3.05273  val_loss=3.02302  time=0.86s\n",
      "Epoch 5  loss=2.96995  val_loss=3.01805  time=0.88s\n",
      "Epoch 6  loss=2.88030  val_loss=2.92775  time=0.86s\n",
      "Epoch 7  loss=2.75677  val_loss=2.90017  time=0.86s\n",
      "Epoch 8  loss=2.58605  val_loss=2.88076  time=0.88s\n",
      "Epoch 9  loss=2.36736  val_loss=2.85299  time=0.86s\n",
      "Seed 3_Fold 1\n",
      "Epoch 1  loss=4.01085  val_loss=3.40528  time=0.92s\n",
      "Epoch 2  loss=3.26210  val_loss=3.19144  time=0.93s\n",
      "Epoch 3  loss=3.12272  val_loss=3.13629  time=0.91s\n",
      "Epoch 4  loss=3.04018  val_loss=3.09118  time=0.93s\n",
      "Epoch 5  loss=2.95501  val_loss=3.03659  time=1.14s\n",
      "Epoch 6  loss=2.86982  val_loss=2.98669  time=0.95s\n",
      "Epoch 7  loss=2.75060  val_loss=2.95018  time=0.86s\n",
      "Epoch 8  loss=2.56180  val_loss=2.91292  time=0.86s\n",
      "Epoch 9  loss=2.34446  val_loss=2.90067  time=0.86s\n",
      "Seed 3_Fold 2\n",
      "Epoch 1  loss=4.05930  val_loss=3.28056  time=0.92s\n",
      "Epoch 2  loss=3.26660  val_loss=3.12512  time=0.85s\n",
      "Epoch 3  loss=3.15127  val_loss=3.05302  time=0.86s\n",
      "Epoch 4  loss=3.05656  val_loss=3.01011  time=0.86s\n",
      "Epoch 5  loss=2.98608  val_loss=2.95381  time=0.86s\n",
      "Epoch 6  loss=2.89454  val_loss=2.89370  time=0.87s\n",
      "Epoch 7  loss=2.76792  val_loss=2.85555  time=0.86s\n",
      "Epoch 8  loss=2.59255  val_loss=2.81983  time=0.86s\n",
      "Epoch 9  loss=2.37593  val_loss=2.79913  time=0.86s\n",
      "Epoch 10  loss=2.20462  val_loss=2.79836  time=0.86s\n",
      "Seed 3_Fold 3\n",
      "Epoch 1  loss=4.00867  val_loss=3.47713  time=0.91s\n",
      "Epoch 2  loss=3.26455  val_loss=3.23044  time=0.89s\n",
      "Epoch 3  loss=3.10836  val_loss=3.20686  time=0.86s\n",
      "Epoch 4  loss=3.04612  val_loss=3.14342  time=0.86s\n",
      "Epoch 5  loss=2.95518  val_loss=3.10349  time=0.85s\n",
      "Epoch 6  loss=2.87340  val_loss=3.05212  time=0.86s\n",
      "Epoch 7  loss=2.75559  val_loss=2.98910  time=0.87s\n",
      "Epoch 8  loss=2.58125  val_loss=2.95306  time=0.87s\n",
      "Seed 3_Fold 4\n",
      "Epoch 1  loss=3.99981  val_loss=3.41609  time=1.07s\n",
      "Epoch 2  loss=3.23832  val_loss=3.30338  time=0.87s\n",
      "Epoch 3  loss=3.10377  val_loss=3.25399  time=0.88s\n",
      "Epoch 4  loss=3.01685  val_loss=3.19921  time=0.86s\n",
      "Epoch 5  loss=2.94844  val_loss=3.13400  time=0.93s\n",
      "Epoch 6  loss=2.86129  val_loss=3.08123  time=1.21s\n",
      "Epoch 7  loss=2.72622  val_loss=3.02941  time=0.95s\n",
      "Epoch 8  loss=2.55782  val_loss=2.97989  time=0.86s\n",
      "Epoch 9  loss=2.34972  val_loss=2.97493  time=0.86s\n",
      "Seed 3_Fold 5\n",
      "Epoch 1  loss=4.01964  val_loss=3.39984  time=1.15s\n",
      "Epoch 2  loss=3.27790  val_loss=3.14425  time=0.87s\n",
      "Epoch 3  loss=3.14475  val_loss=3.11048  time=0.87s\n",
      "Epoch 4  loss=3.06186  val_loss=3.02023  time=0.88s\n",
      "Epoch 5  loss=2.97940  val_loss=3.00295  time=0.88s\n",
      "Epoch 6  loss=2.88415  val_loss=2.93708  time=0.87s\n",
      "Epoch 7  loss=2.76635  val_loss=2.89407  time=0.86s\n",
      "Epoch 8  loss=2.59319  val_loss=2.84441  time=0.88s\n",
      "Epoch 9  loss=2.36897  val_loss=2.84006  time=0.87s\n",
      "Seed 3_Fold 6\n",
      "Epoch 1  loss=4.02229  val_loss=3.43209  time=1.07s\n",
      "Epoch 2  loss=3.28026  val_loss=3.14996  time=0.87s\n",
      "Epoch 3  loss=3.13979  val_loss=3.07672  time=0.85s\n",
      "Epoch 4  loss=3.05863  val_loss=3.02794  time=0.86s\n",
      "Epoch 5  loss=2.98908  val_loss=2.97462  time=0.86s\n",
      "Epoch 6  loss=2.88591  val_loss=2.94091  time=0.86s\n",
      "Epoch 7  loss=2.77178  val_loss=2.88639  time=0.86s\n",
      "Epoch 8  loss=2.59344  val_loss=2.86298  time=0.88s\n",
      "Epoch 9  loss=2.37546  val_loss=2.84836  time=1.01s\n",
      "Seed 3_Fold 7\n",
      "Epoch 1  loss=4.01464  val_loss=3.33350  time=1.08s\n",
      "Epoch 2  loss=3.28056  val_loss=3.14389  time=0.88s\n",
      "Epoch 3  loss=3.13075  val_loss=3.08797  time=0.88s\n",
      "Epoch 4  loss=3.05499  val_loss=3.03122  time=0.87s\n",
      "Epoch 5  loss=2.98032  val_loss=3.00647  time=0.88s\n",
      "Epoch 6  loss=2.88550  val_loss=2.95327  time=1.01s\n",
      "Epoch 7  loss=2.76202  val_loss=2.92358  time=1.12s\n",
      "Epoch 8  loss=2.58190  val_loss=2.87077  time=0.90s\n",
      "Epoch 9  loss=2.35364  val_loss=2.86476  time=0.89s\n",
      "Epoch 10  loss=2.18096  val_loss=2.85970  time=0.96s\n",
      "Seed 4_Fold 1\n",
      "Epoch 1  loss=4.04696  val_loss=3.34162  time=1.09s\n",
      "Epoch 2  loss=3.26115  val_loss=3.20439  time=0.88s\n",
      "Epoch 3  loss=3.12662  val_loss=3.14537  time=0.85s\n",
      "Epoch 4  loss=3.03886  val_loss=3.10816  time=0.87s\n",
      "Epoch 5  loss=2.97094  val_loss=3.06378  time=0.87s\n",
      "Epoch 6  loss=2.87594  val_loss=3.02279  time=0.86s\n",
      "Epoch 7  loss=2.75091  val_loss=2.93729  time=0.86s\n",
      "Epoch 8  loss=2.57743  val_loss=2.92019  time=0.90s\n",
      "Epoch 9  loss=2.35868  val_loss=2.90265  time=0.86s\n",
      "Seed 4_Fold 2\n",
      "Epoch 1  loss=4.04432  val_loss=3.33404  time=0.98s\n",
      "Epoch 2  loss=3.26741  val_loss=3.12333  time=0.93s\n",
      "Epoch 3  loss=3.13896  val_loss=3.04829  time=0.85s\n",
      "Epoch 4  loss=3.06226  val_loss=2.99149  time=0.86s\n",
      "Epoch 5  loss=2.98814  val_loss=2.93780  time=0.86s\n",
      "Epoch 6  loss=2.90265  val_loss=2.87689  time=0.87s\n",
      "Epoch 7  loss=2.77785  val_loss=2.86459  time=0.87s\n",
      "Epoch 8  loss=2.60460  val_loss=2.81930  time=0.90s\n",
      "Epoch 9  loss=2.39441  val_loss=2.80430  time=0.86s\n",
      "Epoch 10  loss=2.23312  val_loss=2.80278  time=0.86s\n",
      "Seed 4_Fold 3\n",
      "Epoch 1  loss=4.01477  val_loss=3.46872  time=0.88s\n",
      "Epoch 2  loss=3.26172  val_loss=3.23164  time=1.08s\n",
      "Epoch 3  loss=3.11696  val_loss=3.16653  time=0.87s\n",
      "Epoch 4  loss=3.04626  val_loss=3.14277  time=0.87s\n",
      "Epoch 5  loss=2.96968  val_loss=3.08903  time=0.86s\n",
      "Epoch 6  loss=2.87019  val_loss=3.03160  time=0.88s\n",
      "Epoch 7  loss=2.75657  val_loss=3.00138  time=1.18s\n",
      "Epoch 8  loss=2.58905  val_loss=2.96067  time=1.03s\n",
      "Epoch 9  loss=2.37457  val_loss=2.95136  time=0.86s\n",
      "Seed 4_Fold 4\n",
      "Epoch 1  loss=3.98157  val_loss=3.67416  time=0.86s\n",
      "Epoch 2  loss=3.25712  val_loss=3.26262  time=1.08s\n",
      "Epoch 3  loss=3.10992  val_loss=3.24180  time=0.86s\n",
      "Epoch 4  loss=3.03260  val_loss=3.19495  time=0.85s\n",
      "Epoch 5  loss=2.96134  val_loss=3.10226  time=0.86s\n",
      "Epoch 6  loss=2.86143  val_loss=3.08410  time=0.88s\n",
      "Epoch 7  loss=2.74833  val_loss=3.02643  time=0.86s\n",
      "Epoch 8  loss=2.57393  val_loss=2.99445  time=0.88s\n",
      "Epoch 9  loss=2.35654  val_loss=2.98277  time=0.86s\n",
      "Epoch 10  loss=2.18926  val_loss=2.98085  time=0.86s\n",
      "Seed 4_Fold 5\n",
      "Epoch 1  loss=4.00288  val_loss=3.30228  time=0.87s\n",
      "Epoch 2  loss=3.27898  val_loss=3.16761  time=1.05s\n",
      "Epoch 3  loss=3.13913  val_loss=3.08349  time=0.90s\n",
      "Epoch 4  loss=3.07414  val_loss=3.04915  time=0.86s\n",
      "Epoch 5  loss=2.98691  val_loss=2.97543  time=0.87s\n",
      "Epoch 6  loss=2.89177  val_loss=2.94006  time=0.90s\n",
      "Epoch 7  loss=2.77400  val_loss=2.88282  time=0.87s\n",
      "Epoch 8  loss=2.60653  val_loss=2.84572  time=0.86s\n",
      "Epoch 9  loss=2.39974  val_loss=2.82323  time=0.89s\n",
      "Seed 4_Fold 6\n",
      "Epoch 1  loss=4.04656  val_loss=3.37557  time=0.88s\n",
      "Epoch 2  loss=3.27742  val_loss=3.13514  time=0.88s\n",
      "Epoch 3  loss=3.14794  val_loss=3.08542  time=1.09s\n",
      "Epoch 4  loss=3.05869  val_loss=3.02601  time=0.87s\n",
      "Epoch 5  loss=2.98843  val_loss=2.97022  time=0.89s\n",
      "Epoch 6  loss=2.88939  val_loss=2.91934  time=0.87s\n",
      "Epoch 7  loss=2.77697  val_loss=2.88874  time=0.94s\n",
      "Epoch 8  loss=2.59168  val_loss=2.83243  time=1.19s\n",
      "Epoch 9  loss=2.39781  val_loss=2.82129  time=0.92s\n",
      "Seed 4_Fold 7\n",
      "Epoch 1  loss=4.04187  val_loss=3.39626  time=0.86s\n",
      "Epoch 2  loss=3.27540  val_loss=3.14931  time=0.87s\n",
      "Epoch 3  loss=3.13538  val_loss=3.10520  time=1.08s\n",
      "Epoch 4  loss=3.05071  val_loss=3.08634  time=0.89s\n",
      "Epoch 5  loss=2.98174  val_loss=2.98020  time=0.86s\n",
      "Epoch 6  loss=2.87539  val_loss=2.95489  time=0.86s\n",
      "Epoch 7  loss=2.75046  val_loss=2.90104  time=0.87s\n",
      "Epoch 8  loss=2.58533  val_loss=2.85901  time=0.86s\n"
     ]
    }
   ],
   "source": [
    "seeds = [0,1,2,3,4]\n",
    "target_oof = np.zeros([len(fn_train), class_num])\n",
    "target_pred = np.zeros([len(fn_test), class_num])\n",
    "\n",
    "for seed_ in seeds:\n",
    "    best_oof, pytorch_pred = modelling_torch(fn_train, fn_multiclass_targets, fn_test, seed_, fn_train.shape[1], class_num)\n",
    "    target_oof += best_oof / len(seeds)\n",
    "    target_pred += pytorch_pred / len(seeds)"
   ]
  },
  {
   "cell_type": "code",
   "execution_count": 17,
   "metadata": {
    "execution": {
     "iopub.execute_input": "2021-03-25T01:40:10.759056Z",
     "iopub.status.busy": "2021-03-25T01:40:10.758235Z",
     "iopub.status.idle": "2021-03-25T01:40:10.832002Z",
     "shell.execute_reply": "2021-03-25T01:40:10.831522Z"
    },
    "papermill": {
     "duration": 0.198776,
     "end_time": "2021-03-25T01:40:10.832117",
     "exception": false,
     "start_time": "2021-03-25T01:40:10.633341",
     "status": "completed"
    },
    "tags": []
   },
   "outputs": [],
   "source": [
    "target_oof = np.dot(target_oof, classid_target)\n",
    "target_pred = np.dot(target_pred, classid_target)"
   ]
  },
  {
   "cell_type": "code",
   "execution_count": 18,
   "metadata": {
    "execution": {
     "iopub.execute_input": "2021-03-25T01:40:11.073633Z",
     "iopub.status.busy": "2021-03-25T01:40:11.072832Z",
     "iopub.status.idle": "2021-03-25T01:40:17.191078Z",
     "shell.execute_reply": "2021-03-25T01:40:17.189691Z"
    },
    "papermill": {
     "duration": 6.244337,
     "end_time": "2021-03-25T01:40:17.191237",
     "exception": false,
     "start_time": "2021-03-25T01:40:10.946900",
     "status": "completed"
    },
    "tags": []
   },
   "outputs": [
    {
     "name": "stdout",
     "output_type": "stream",
     "text": [
      "OOF log loss:  0.014472696476132706\n"
     ]
    }
   ],
   "source": [
    "t = pd.read_csv(DATA_DIR + 'train_targets_scored.csv')\n",
    "train_checkscore = t.copy()\n",
    "train_checkscore.loc[train_checkscore.index.isin(cons_train_index),target_feats] = np.clip(target_oof, p_min, p_max)\n",
    "train_checkscore.loc[train_checkscore.index.isin(noncons_train_index),target_feats] = 0\n",
    "t.drop(\"sig_id\", axis=1, inplace=True)\n",
    "print('OOF log loss: ', log_loss(np.ravel(t), np.ravel(np.array(train_checkscore.iloc[:,1:]))))"
   ]
  },
  {
   "cell_type": "code",
   "execution_count": 19,
   "metadata": {
    "execution": {
     "iopub.execute_input": "2021-03-25T01:40:17.422728Z",
     "iopub.status.busy": "2021-03-25T01:40:17.422173Z",
     "iopub.status.idle": "2021-03-25T01:40:25.379393Z",
     "shell.execute_reply": "2021-03-25T01:40:25.377785Z"
    },
    "papermill": {
     "duration": 8.074816,
     "end_time": "2021-03-25T01:40:25.379516",
     "exception": false,
     "start_time": "2021-03-25T01:40:17.304700",
     "status": "completed"
    },
    "tags": []
   },
   "outputs": [],
   "source": [
    "train_checkscore.to_csv(\"mlp_oof.csv\", index=False)"
   ]
  },
  {
   "cell_type": "code",
   "execution_count": 20,
   "metadata": {
    "execution": {
     "iopub.execute_input": "2021-03-25T01:40:25.614681Z",
     "iopub.status.busy": "2021-03-25T01:40:25.613830Z",
     "iopub.status.idle": "2021-03-25T01:40:27.333607Z",
     "shell.execute_reply": "2021-03-25T01:40:27.333059Z"
    },
    "papermill": {
     "duration": 1.839446,
     "end_time": "2021-03-25T01:40:27.333721",
     "exception": false,
     "start_time": "2021-03-25T01:40:25.494275",
     "status": "completed"
    },
    "tags": []
   },
   "outputs": [],
   "source": [
    "sub.loc[cons_test_index,target_feats] = np.clip(target_pred, p_min, p_max)\n",
    "sub.loc[noncons_test_index,target_feats] = 0\n",
    "sub.to_csv('submission.csv', index=False)"
   ]
  },
  {
   "cell_type": "code",
   "execution_count": null,
   "metadata": {
    "papermill": {
     "duration": 0.114004,
     "end_time": "2021-03-25T01:40:27.563503",
     "exception": false,
     "start_time": "2021-03-25T01:40:27.449499",
     "status": "completed"
    },
    "tags": []
   },
   "outputs": [],
   "source": []
  }
 ],
 "metadata": {
  "kernelspec": {
   "display_name": "Python 3",
   "language": "python",
   "name": "python3"
  },
  "language_info": {
   "codemirror_mode": {
    "name": "ipython",
    "version": 3
   },
   "file_extension": ".py",
   "mimetype": "text/x-python",
   "name": "python",
   "nbconvert_exporter": "python",
   "pygments_lexer": "ipython3",
   "version": "3.7.6"
  },
  "papermill": {
   "duration": 442.79325,
   "end_time": "2021-03-25T01:40:28.186048",
   "environment_variables": {},
   "exception": null,
   "input_path": "__notebook__.ipynb",
   "output_path": "__notebook__.ipynb",
   "parameters": {},
   "start_time": "2021-03-25T01:33:05.392798",
   "version": "2.1.0"
  }
 },
 "nbformat": 4,
 "nbformat_minor": 4
}
