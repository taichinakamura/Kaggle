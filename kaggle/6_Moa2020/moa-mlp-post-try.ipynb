{
 "cells": [
  {
   "cell_type": "markdown",
   "metadata": {
    "papermill": {
     "duration": 0.015627,
     "end_time": "2021-03-23T08:49:12.097006",
     "exception": false,
     "start_time": "2021-03-23T08:49:12.081379",
     "status": "completed"
    },
    "tags": []
   },
   "source": [
    "**Late submission**\n",
    "- solve as a multiclass classification problem\n",
    "- change model architecture\n",
    "- remove test when quantile transformer"
   ]
  },
  {
   "cell_type": "code",
   "execution_count": 1,
   "metadata": {
    "_cell_guid": "b1076dfc-b9ad-4769-8c92-a6c4dae69d19",
    "_uuid": "8f2839f25d086af736a60e9eeb907d3b93b6e0e5",
    "execution": {
     "iopub.execute_input": "2021-03-23T08:49:12.132322Z",
     "iopub.status.busy": "2021-03-23T08:49:12.131776Z",
     "iopub.status.idle": "2021-03-23T08:49:19.770238Z",
     "shell.execute_reply": "2021-03-23T08:49:19.768995Z"
    },
    "papermill": {
     "duration": 7.6592,
     "end_time": "2021-03-23T08:49:19.770369",
     "exception": false,
     "start_time": "2021-03-23T08:49:12.111169",
     "status": "completed"
    },
    "tags": []
   },
   "outputs": [
    {
     "name": "stderr",
     "output_type": "stream",
     "text": [
      "/opt/conda/lib/python3.7/site-packages/ipykernel_launcher.py:12: TqdmDeprecationWarning: This function will be removed in tqdm==5.0.0\n",
      "Please use `tqdm.notebook.*` instead of `tqdm._tqdm_notebook.*`\n",
      "  if sys.path[0] == '':\n"
     ]
    }
   ],
   "source": [
    "import os\n",
    "import random\n",
    "import warnings\n",
    "import numpy as np\n",
    "import pandas as pd \n",
    "from sklearn import preprocessing\n",
    "from sklearn.metrics import log_loss\n",
    "from sklearn.decomposition import PCA\n",
    "from tqdm import tqdm_notebook as tqdm\n",
    "from sklearn.feature_selection import VarianceThreshold\n",
    "from sklearn.model_selection import StratifiedKFold, KFold\n",
    "from tqdm._tqdm_notebook import tqdm_notebook\n",
    "\n",
    "import time\n",
    "import torch\n",
    "import torch.nn as nn\n",
    "import torch.optim as optim\n",
    "import torch.nn.functional as F\n",
    "import tensorflow as tf\n",
    "\n",
    "warnings.filterwarnings('ignore')"
   ]
  },
  {
   "cell_type": "markdown",
   "metadata": {
    "papermill": {
     "duration": 0.014662,
     "end_time": "2021-03-23T08:49:19.800503",
     "exception": false,
     "start_time": "2021-03-23T08:49:19.785841",
     "status": "completed"
    },
    "tags": []
   },
   "source": [
    "# final engineering"
   ]
  },
  {
   "cell_type": "code",
   "execution_count": 2,
   "metadata": {
    "execution": {
     "iopub.execute_input": "2021-03-23T08:49:19.840871Z",
     "iopub.status.busy": "2021-03-23T08:49:19.840314Z",
     "iopub.status.idle": "2021-03-23T08:49:27.242533Z",
     "shell.execute_reply": "2021-03-23T08:49:27.241445Z"
    },
    "papermill": {
     "duration": 7.427391,
     "end_time": "2021-03-23T08:49:27.242648",
     "exception": false,
     "start_time": "2021-03-23T08:49:19.815257",
     "status": "completed"
    },
    "tags": []
   },
   "outputs": [],
   "source": [
    "DATA_DIR = '/kaggle/input/lish-moa/'\n",
    "train = pd.read_csv(DATA_DIR + 'train_features.csv')\n",
    "targets = pd.read_csv(DATA_DIR + 'train_targets_scored.csv')\n",
    "non_targets = pd.read_csv(DATA_DIR + 'train_targets_nonscored.csv')\n",
    "test = pd.read_csv(DATA_DIR + 'test_features.csv')\n",
    "sub = pd.read_csv(DATA_DIR + 'sample_submission.csv')\n",
    "drug = pd.read_csv(DATA_DIR + 'train_drug.csv')"
   ]
  },
  {
   "cell_type": "code",
   "execution_count": 3,
   "metadata": {
    "execution": {
     "iopub.execute_input": "2021-03-23T08:49:27.282552Z",
     "iopub.status.busy": "2021-03-23T08:49:27.280549Z",
     "iopub.status.idle": "2021-03-23T08:49:27.283175Z",
     "shell.execute_reply": "2021-03-23T08:49:27.283615Z"
    },
    "papermill": {
     "duration": 0.024509,
     "end_time": "2021-03-23T08:49:27.283750",
     "exception": false,
     "start_time": "2021-03-23T08:49:27.259241",
     "status": "completed"
    },
    "tags": []
   },
   "outputs": [],
   "source": [
    "target_feats = [ i for i in targets.columns if i != \"sig_id\"]\n",
    "g_feats = [i for i in train.columns if \"g-\" in i]\n",
    "c_feats = [i for i in train.columns if \"c-\" in i]"
   ]
  },
  {
   "cell_type": "code",
   "execution_count": 4,
   "metadata": {
    "execution": {
     "iopub.execute_input": "2021-03-23T08:49:27.325666Z",
     "iopub.status.busy": "2021-03-23T08:49:27.324796Z",
     "iopub.status.idle": "2021-03-23T08:49:27.422311Z",
     "shell.execute_reply": "2021-03-23T08:49:27.421829Z"
    },
    "papermill": {
     "duration": 0.122245,
     "end_time": "2021-03-23T08:49:27.422422",
     "exception": false,
     "start_time": "2021-03-23T08:49:27.300177",
     "status": "completed"
    },
    "tags": []
   },
   "outputs": [],
   "source": [
    "noncons_train_index = train[train.cp_type==\"ctl_vehicle\"].index\n",
    "cons_train_index = train[train.cp_type!=\"ctl_vehicle\"].index\n",
    "noncons_test_index = test[test.cp_type==\"ctl_vehicle\"].index\n",
    "cons_test_index = test[test.cp_type!=\"ctl_vehicle\"].index"
   ]
  },
  {
   "cell_type": "markdown",
   "metadata": {
    "papermill": {
     "duration": 0.01497,
     "end_time": "2021-03-23T08:49:27.452891",
     "exception": false,
     "start_time": "2021-03-23T08:49:27.437921",
     "status": "completed"
    },
    "tags": []
   },
   "source": [
    "# target group"
   ]
  },
  {
   "cell_type": "code",
   "execution_count": 5,
   "metadata": {
    "execution": {
     "iopub.execute_input": "2021-03-23T08:49:27.505637Z",
     "iopub.status.busy": "2021-03-23T08:49:27.504872Z",
     "iopub.status.idle": "2021-03-23T08:49:27.508905Z",
     "shell.execute_reply": "2021-03-23T08:49:27.508417Z"
    },
    "papermill": {
     "duration": 0.039783,
     "end_time": "2021-03-23T08:49:27.509048",
     "exception": false,
     "start_time": "2021-03-23T08:49:27.469265",
     "status": "completed"
    },
    "tags": []
   },
   "outputs": [],
   "source": [
    "y = targets.drop(\"sig_id\", axis=1)"
   ]
  },
  {
   "cell_type": "code",
   "execution_count": 6,
   "metadata": {
    "execution": {
     "iopub.execute_input": "2021-03-23T08:49:27.552610Z",
     "iopub.status.busy": "2021-03-23T08:49:27.552030Z",
     "iopub.status.idle": "2021-03-23T08:49:39.989610Z",
     "shell.execute_reply": "2021-03-23T08:49:39.988807Z"
    },
    "papermill": {
     "duration": 12.464254,
     "end_time": "2021-03-23T08:49:39.989717",
     "exception": false,
     "start_time": "2021-03-23T08:49:27.525463",
     "status": "completed"
    },
    "tags": []
   },
   "outputs": [
    {
     "data": {
      "text/plain": [
       "((23814, 328), (328, 206))"
      ]
     },
     "execution_count": 6,
     "metadata": {},
     "output_type": "execute_result"
    }
   ],
   "source": [
    "def make_string(row):\n",
    "    return str(row[1:].values).replace('[','').replace(']','').replace('\\n','').replace(' ','')\n",
    "\n",
    "targets[\"target_pair\"] = targets.apply(make_string, axis=1)\n",
    "targetpair_id = dict(enumerate(targets[\"target_pair\"].unique()))\n",
    "id_targetpair = {y:x for x,y in targetpair_id.items()}\n",
    "targets[\"target_pair_num\"] = targets[\"target_pair\"].map(id_targetpair)\n",
    "\n",
    "multiclass_targets = pd.get_dummies(targets[\"target_pair_num\"])\n",
    "\n",
    "for i in range(len(id_targetpair.keys())):\n",
    "    if i == 0:\n",
    "        classid_target = np.array(list((targetpair_id[i]))).reshape(1,-1)      \n",
    "    else:\n",
    "        classid_target = np.vstack([classid_target, np.array(list((targetpair_id[i]))).reshape(1,-1)])\n",
    "        \n",
    "classid_target = classid_target.astype(int)\n",
    "class_num = multiclass_targets.shape[1]\n",
    "        \n",
    "multiclass_targets.shape, classid_target.shape"
   ]
  },
  {
   "cell_type": "markdown",
   "metadata": {
    "papermill": {
     "duration": 0.015355,
     "end_time": "2021-03-23T08:49:40.020974",
     "exception": false,
     "start_time": "2021-03-23T08:49:40.005619",
     "status": "completed"
    },
    "tags": []
   },
   "source": [
    "# preprocess"
   ]
  },
  {
   "cell_type": "code",
   "execution_count": 7,
   "metadata": {
    "execution": {
     "iopub.execute_input": "2021-03-23T08:49:40.064889Z",
     "iopub.status.busy": "2021-03-23T08:49:40.061249Z",
     "iopub.status.idle": "2021-03-23T08:49:40.329438Z",
     "shell.execute_reply": "2021-03-23T08:49:40.328934Z"
    },
    "papermill": {
     "duration": 0.293072,
     "end_time": "2021-03-23T08:49:40.329539",
     "exception": false,
     "start_time": "2021-03-23T08:49:40.036467",
     "status": "completed"
    },
    "tags": []
   },
   "outputs": [],
   "source": [
    "train = train[train.index.isin(cons_train_index)].copy().reset_index(drop=True)\n",
    "test = test[test.index.isin(cons_test_index)].copy().reset_index(drop=True)\n",
    "targets = targets[targets.index.isin(cons_train_index)].copy().reset_index(drop=True)\n",
    "\n",
    "# no need to change to one-hot encoding form\n",
    "# https://discuss.pytorch.org/t/runtimeerror-multi-target-not-supported-newbie/10216\n",
    "multiclass_targets = targets[\"target_pair_num\"].copy().reset_index(drop=True)"
   ]
  },
  {
   "cell_type": "markdown",
   "metadata": {
    "papermill": {
     "duration": 0.015982,
     "end_time": "2021-03-23T08:49:40.361918",
     "exception": false,
     "start_time": "2021-03-23T08:49:40.345936",
     "status": "completed"
    },
    "tags": []
   },
   "source": [
    "# Feature engineering "
   ]
  },
  {
   "cell_type": "code",
   "execution_count": 8,
   "metadata": {
    "execution": {
     "iopub.execute_input": "2021-03-23T08:49:40.398674Z",
     "iopub.status.busy": "2021-03-23T08:49:40.398141Z",
     "iopub.status.idle": "2021-03-23T08:49:40.401949Z",
     "shell.execute_reply": "2021-03-23T08:49:40.401468Z"
    },
    "papermill": {
     "duration": 0.024338,
     "end_time": "2021-03-23T08:49:40.402084",
     "exception": false,
     "start_time": "2021-03-23T08:49:40.377746",
     "status": "completed"
    },
    "tags": []
   },
   "outputs": [],
   "source": [
    "#X = train.iloc[:,4:].copy().values\n",
    "#select = VarianceThreshold(threshold=0.9)\n",
    "#X_new = select.fit_transform(X)\n",
    "#drop_feats = list(np.array(train.iloc[:,4:].columns)[select.get_support()==False])\n",
    "#print(len(drop_feats))\n",
    "\n",
    "#train.drop(drop_feats, axis=1, inplace=True)\n",
    "#test.drop(drop_feats, axis=1, inplace=True)\n",
    "\n",
    "g_feats = [i for i in train.columns if \"g-\" in i]\n",
    "c_feats = [i for i in train.columns if \"c-\" in i]"
   ]
  },
  {
   "cell_type": "code",
   "execution_count": 9,
   "metadata": {
    "execution": {
     "iopub.execute_input": "2021-03-23T08:49:40.440649Z",
     "iopub.status.busy": "2021-03-23T08:49:40.439812Z",
     "iopub.status.idle": "2021-03-23T08:49:48.345231Z",
     "shell.execute_reply": "2021-03-23T08:49:48.344635Z"
    },
    "papermill": {
     "duration": 7.927153,
     "end_time": "2021-03-23T08:49:48.345345",
     "exception": false,
     "start_time": "2021-03-23T08:49:40.418192",
     "status": "completed"
    },
    "tags": []
   },
   "outputs": [],
   "source": [
    "# rank gauss\n",
    "for i in c_feats + g_feats:\n",
    "    ss = preprocessing.QuantileTransformer(n_quantiles=100, random_state=0, output_distribution=\"normal\")\n",
    "    ss.fit(train[i].values.reshape(-1,1))\n",
    "    train[i] = ss.transform(train[i].values.reshape(-1,1))\n",
    "    test[i] = ss.transform(test[i].values.reshape(-1,1))"
   ]
  },
  {
   "cell_type": "code",
   "execution_count": 10,
   "metadata": {
    "execution": {
     "iopub.execute_input": "2021-03-23T08:49:48.397276Z",
     "iopub.status.busy": "2021-03-23T08:49:48.395625Z",
     "iopub.status.idle": "2021-03-23T08:49:50.290696Z",
     "shell.execute_reply": "2021-03-23T08:49:50.289889Z"
    },
    "papermill": {
     "duration": 1.928666,
     "end_time": "2021-03-23T08:49:50.290851",
     "exception": false,
     "start_time": "2021-03-23T08:49:48.362185",
     "status": "completed"
    },
    "tags": []
   },
   "outputs": [],
   "source": [
    "c_num = 5\n",
    "pca_c_cols = [\"pca-c\"+str(i+1) for i in range(c_num)]\n",
    "pca = PCA(n_components=c_num,random_state=42)\n",
    "c_train = pca.fit_transform(train[c_feats])\n",
    "c_test = pca.transform(test[c_feats])\n",
    "c_train = pd.DataFrame(c_train, columns=pca_c_cols)\n",
    "c_test = pd.DataFrame(c_test, columns=pca_c_cols)\n",
    "\n",
    "g_num = 30\n",
    "pca_g_cols = [\"pca-g\"+str(i+1) for i in range(g_num)]\n",
    "pca = PCA(n_components=g_num, random_state=42)\n",
    "g_train = pca.fit_transform(train[g_feats])\n",
    "g_test = pca.transform(test[g_feats])\n",
    "g_train = pd.DataFrame(g_train, columns=pca_g_cols)\n",
    "g_test = pd.DataFrame(g_test, columns=pca_g_cols)\n",
    "\n",
    "train = pd.concat([train, c_train],axis=1)\n",
    "test = pd.concat([test, c_test],axis=1)\n",
    "train = pd.concat([train, g_train],axis=1)\n",
    "test = pd.concat([test, g_test],axis=1)"
   ]
  },
  {
   "cell_type": "code",
   "execution_count": 11,
   "metadata": {
    "execution": {
     "iopub.execute_input": "2021-03-23T08:49:50.362780Z",
     "iopub.status.busy": "2021-03-23T08:49:50.361230Z",
     "iopub.status.idle": "2021-03-23T08:49:52.353779Z",
     "shell.execute_reply": "2021-03-23T08:49:52.353249Z"
    },
    "papermill": {
     "duration": 2.031108,
     "end_time": "2021-03-23T08:49:52.353897",
     "exception": false,
     "start_time": "2021-03-23T08:49:50.322789",
     "status": "completed"
    },
    "tags": []
   },
   "outputs": [],
   "source": [
    "def fe(df):\n",
    "    tmp = df.copy()\n",
    "    tmp['g_kurt'] = tmp[g_feats].kurtosis(axis = 1)\n",
    "    tmp['g_skew'] = tmp[g_feats].skew(axis = 1)\n",
    "    tmp['c_kurt'] = tmp[c_feats].kurtosis(axis = 1)\n",
    "    tmp['c_skew'] = tmp[c_feats].skew(axis = 1)\n",
    "    tmp = pd.get_dummies(tmp, columns=['cp_time','cp_dose'])\n",
    "    tmp.drop([\"cp_type\", \"sig_id\"], axis=1, inplace=True)\n",
    "    return tmp\n",
    "\n",
    "train = fe(train)\n",
    "test = fe(test)"
   ]
  },
  {
   "cell_type": "code",
   "execution_count": 12,
   "metadata": {
    "execution": {
     "iopub.execute_input": "2021-03-23T08:49:52.395280Z",
     "iopub.status.busy": "2021-03-23T08:49:52.394102Z",
     "iopub.status.idle": "2021-03-23T08:49:52.546932Z",
     "shell.execute_reply": "2021-03-23T08:49:52.547372Z"
    },
    "papermill": {
     "duration": 0.174708,
     "end_time": "2021-03-23T08:49:52.547496",
     "exception": false,
     "start_time": "2021-03-23T08:49:52.372788",
     "status": "completed"
    },
    "tags": []
   },
   "outputs": [
    {
     "name": "stdout",
     "output_type": "stream",
     "text": [
      "(21948, 916) (3624, 916) (23814, 206) (21948,)\n"
     ]
    }
   ],
   "source": [
    "fn_train = train.copy().to_numpy()\n",
    "fn_test = test.copy().to_numpy()\n",
    "fn_targets = y.copy().to_numpy()\n",
    "fn_multiclass_targets = multiclass_targets.copy().to_numpy()\n",
    "print(fn_train.shape, fn_test.shape, fn_targets.shape, fn_multiclass_targets.shape)"
   ]
  },
  {
   "cell_type": "markdown",
   "metadata": {
    "papermill": {
     "duration": 0.016911,
     "end_time": "2021-03-23T08:49:52.581444",
     "exception": false,
     "start_time": "2021-03-23T08:49:52.564533",
     "status": "completed"
    },
    "tags": []
   },
   "source": [
    "# modelling"
   ]
  },
  {
   "cell_type": "code",
   "execution_count": 13,
   "metadata": {
    "execution": {
     "iopub.execute_input": "2021-03-23T08:49:52.980770Z",
     "iopub.status.busy": "2021-03-23T08:49:52.979830Z",
     "iopub.status.idle": "2021-03-23T08:49:52.984244Z",
     "shell.execute_reply": "2021-03-23T08:49:52.983488Z"
    },
    "papermill": {
     "duration": 0.386174,
     "end_time": "2021-03-23T08:49:52.984376",
     "exception": false,
     "start_time": "2021-03-23T08:49:52.598202",
     "status": "completed"
    },
    "tags": []
   },
   "outputs": [],
   "source": [
    "device = \"cuda\" if torch.cuda.is_available() else \"cpu\""
   ]
  },
  {
   "cell_type": "code",
   "execution_count": 14,
   "metadata": {
    "execution": {
     "iopub.execute_input": "2021-03-23T08:49:53.034271Z",
     "iopub.status.busy": "2021-03-23T08:49:53.026155Z",
     "iopub.status.idle": "2021-03-23T08:49:53.039982Z",
     "shell.execute_reply": "2021-03-23T08:49:53.040870Z"
    },
    "papermill": {
     "duration": 0.039139,
     "end_time": "2021-03-23T08:49:53.041073",
     "exception": false,
     "start_time": "2021-03-23T08:49:53.001934",
     "status": "completed"
    },
    "tags": []
   },
   "outputs": [
    {
     "name": "stdout",
     "output_type": "stream",
     "text": [
      "cuda\n"
     ]
    }
   ],
   "source": [
    "print(device)\n",
    "def seed_everything(seed=42): \n",
    "    random.seed(seed)\n",
    "    os.environ['PYTHONHASHSEED'] = str(seed)\n",
    "    tf.random.set_seed(seed)\n",
    "    np.random.seed(seed)\n",
    "    torch.manual_seed(seed)\n",
    "    torch.cuda.manual_seed(seed)\n",
    "    torch.backends.cudnn.deterministic = True\n",
    "\n",
    "class MoaModel(nn.Module):\n",
    "    def __init__(self, num_columns, last_num):\n",
    "        super(MoaModel, self).__init__()\n",
    "        self.batch_norm1 = nn.BatchNorm1d(num_columns)\n",
    "        self.dropout1 = nn.Dropout(0.2)\n",
    "        self.dense1 = nn.utils.weight_norm(nn.Linear(num_columns, 1024))\n",
    "        self.relu1 = nn.LeakyReLU()\n",
    "        \n",
    "        self.batch_norm2 = nn.BatchNorm1d(1024)\n",
    "        self.dropout2 = nn.Dropout(0.2)\n",
    "        self.dense2 = nn.utils.weight_norm(nn.Linear(1024, 1024))\n",
    "        self.relu2 = nn.LeakyReLU()\n",
    "        \n",
    "        self.batch_norm3 = nn.BatchNorm1d(1024)\n",
    "        self.dropout3 = nn.Dropout(0.2)\n",
    "        self.dense3 = nn.utils.weight_norm(nn.Linear(1024, 1024))\n",
    "        self.relu3 = nn.LeakyReLU()\n",
    "        \n",
    "        self.batch_norm4 = nn.BatchNorm1d(1024)\n",
    "        self.dropout4 = nn.Dropout(0.2)\n",
    "        self.dense4 = nn.utils.weight_norm(nn.Linear(1024, last_num))\n",
    "        \n",
    "    def forward(self, x):\n",
    "        x = self.batch_norm1(x)\n",
    "        x = self.dropout1(x)\n",
    "        x = self.relu1(self.dense1(x))\n",
    "        \n",
    "        x = self.batch_norm2(x)\n",
    "        x = self.dropout2(x)\n",
    "        x = self.relu2(self.dense2(x))\n",
    "        \n",
    "        x = self.batch_norm3(x)\n",
    "        x = self.dropout3(x)\n",
    "        x = self.relu3(self.dense3(x))\n",
    "        \n",
    "        x = self.batch_norm4(x)\n",
    "        x = self.dropout4(x)\n",
    "        x = self.dense4(x)\n",
    "        \n",
    "        return x"
   ]
  },
  {
   "cell_type": "markdown",
   "metadata": {
    "papermill": {
     "duration": 0.017065,
     "end_time": "2021-03-23T08:49:53.076500",
     "exception": false,
     "start_time": "2021-03-23T08:49:53.059435",
     "status": "completed"
    },
    "tags": []
   },
   "source": [
    "# modelling"
   ]
  },
  {
   "cell_type": "code",
   "execution_count": 15,
   "metadata": {
    "execution": {
     "iopub.execute_input": "2021-03-23T08:49:53.115030Z",
     "iopub.status.busy": "2021-03-23T08:49:53.114092Z",
     "iopub.status.idle": "2021-03-23T08:49:53.148455Z",
     "shell.execute_reply": "2021-03-23T08:49:53.148877Z"
    },
    "papermill": {
     "duration": 0.055439,
     "end_time": "2021-03-23T08:49:53.149017",
     "exception": false,
     "start_time": "2021-03-23T08:49:53.093578",
     "status": "completed"
    },
    "tags": []
   },
   "outputs": [],
   "source": [
    "batch_size = 128\n",
    "n_folds=7\n",
    "EARLY_STOPPING_STEPS = 10\n",
    "smoothing = 0.001\n",
    "p_min = smoothing\n",
    "p_max = 1 - smoothing\n",
    "train_epochs = 10\n",
    "\n",
    "def multi_log_loss(y_true, y_pred):\n",
    "    metrics = []\n",
    "    for i, target in enumerate(target_feats):\n",
    "        metrics.append(log_loss(y_true[:, i], y_pred[:, i].astype(float), labels=[0,1]))\n",
    "    return np.mean(metrics)\n",
    "    \n",
    "def modelling_torch(tr, target, te, sample_seed, init_num, last_num):\n",
    "    seed_everything(seed=sample_seed) \n",
    "    X_train = tr.copy()\n",
    "    y_train = target.copy()\n",
    "    X_test = te.copy()\n",
    "    test_len = X_test.shape[0]\n",
    "    \n",
    "    mskf=KFold(n_splits = n_folds, shuffle=True, random_state=224)\n",
    "\n",
    "    models = []\n",
    "    \n",
    "    X_test2 = torch.tensor(X_test, dtype=torch.float32)\n",
    "    test = torch.utils.data.TensorDataset(X_test2) \n",
    "    test_loader = torch.utils.data.DataLoader(test, batch_size=batch_size, shuffle=False)\n",
    "    \n",
    "    oof = np.zeros([len(X_train),last_num])\n",
    "    oof_targets = np.zeros([len(X_train),last_num])\n",
    "    pred_value = np.zeros([test_len, last_num])\n",
    "    for fold, (train_index, valid_index) in enumerate(mskf.split(X_train, y_train)):\n",
    "        print(\"Seed \"+str(sample_seed)+\"_Fold \"+str(fold+1))\n",
    "        X_train2 = torch.tensor(X_train[train_index,:], dtype=torch.float32)\n",
    "        y_train2 = torch.tensor(y_train[train_index], dtype=torch.long)\n",
    "\n",
    "        X_valid2 = torch.tensor(X_train[valid_index,:], dtype=torch.float32)\n",
    "        y_valid2 = torch.tensor(y_train[valid_index], dtype=torch.long)\n",
    "        \n",
    "        train = torch.utils.data.TensorDataset(X_train2, y_train2)\n",
    "        valid = torch.utils.data.TensorDataset(X_valid2, y_valid2)\n",
    "        \n",
    "        train_loader = torch.utils.data.DataLoader(train, batch_size=batch_size, shuffle=True) \n",
    "        valid_loader = torch.utils.data.DataLoader(valid, batch_size=batch_size, shuffle=False)\n",
    "            \n",
    "        clf = MoaModel(init_num, last_num)\n",
    "        loss_fn = nn.CrossEntropyLoss() \n",
    "\n",
    "        optimizer = optim.Adam(clf.parameters(), lr = 0.01, weight_decay=1e-5) \n",
    "        scheduler = optim.lr_scheduler.OneCycleLR(optimizer=optimizer, pct_start=0.1, div_factor=1e3, \n",
    "                                              max_lr=1e-2, epochs=train_epochs, steps_per_epoch=len(train_loader))\n",
    "        \n",
    "        clf.to(device)\n",
    "        \n",
    "        best_val_loss = np.inf\n",
    "        stop_counts = 0\n",
    "        for epoch in range(train_epochs):\n",
    "            start_time = time.time()\n",
    "            clf.train()\n",
    "            avg_loss = 0.\n",
    "            for x_batch, y_batch in tqdm(train_loader, disable=True):\n",
    "                x_batch = x_batch.to(device)\n",
    "                y_batch = y_batch.to(device)\n",
    "                y_pred = clf(x_batch)\n",
    "                loss = loss_fn(y_pred, y_batch)\n",
    "                optimizer.zero_grad()\n",
    "                loss.backward()\n",
    "                optimizer.step()\n",
    "                scheduler.step()\n",
    "                avg_loss += loss.item() / len(train_loader)  \n",
    "                \n",
    "            clf.eval()\n",
    "            avg_val_loss = 0.\n",
    "            for i, (x_batch, y_batch) in enumerate(valid_loader): \n",
    "                x_batch = x_batch.to(device)\n",
    "                y_batch = y_batch.to(device)\n",
    "                y_pred = clf(x_batch).detach()\n",
    "                avg_val_loss += loss_fn(y_pred, y_batch).item() / len(valid_loader)\n",
    "        \n",
    "            elapsed_time = time.time() - start_time \n",
    "                    \n",
    "            if avg_val_loss < best_val_loss:\n",
    "                best_val_loss = avg_val_loss\n",
    "                print('Epoch {}  loss={:.5f}  val_loss={:.5f}  time={:.2f}s'.format(\n",
    "                    epoch + 1, avg_loss, avg_val_loss, elapsed_time))\n",
    "                torch.save(clf.state_dict(), 'best-model-parameters.pt')\n",
    "                stop_counts = 0\n",
    "            else:\n",
    "                stop_counts += 1\n",
    "                \n",
    "            if stop_counts >= EARLY_STOPPING_STEPS:\n",
    "                break\n",
    "        \n",
    "        pred_model = MoaModel(init_num, last_num)\n",
    "        pred_model.load_state_dict(torch.load('best-model-parameters.pt'))         \n",
    "        pred_model.eval()\n",
    "        \n",
    "        # validation check ----------------\n",
    "        oof_epoch = np.zeros([X_valid2.size(0), last_num])\n",
    "        target_epoch = np.zeros([X_valid2.size(0), last_num])\n",
    "        for i, (x_batch, y_batch) in enumerate(valid_loader): \n",
    "            y_pred = pred_model(x_batch).detach()\n",
    "            oof_epoch[i * batch_size:(i+1) * batch_size,:] = F.softmax(y_pred.cpu()) \n",
    "        oof[valid_index,:] = oof_epoch\n",
    "        #-----------------------------------\n",
    "        \n",
    "        # test predcition --------------\n",
    "        test_preds = np.zeros([test_len, last_num])\n",
    "        for i, (x_batch,) in enumerate(test_loader): \n",
    "            y_pred = pred_model(x_batch).detach()\n",
    "            test_preds[i * batch_size:(i+1) * batch_size, :] = F.softmax(y_pred.cpu()) \n",
    "        pred_value += test_preds / n_folds\n",
    "        # ------------------------------\n",
    "    \n",
    "    return oof, pred_value"
   ]
  },
  {
   "cell_type": "code",
   "execution_count": 16,
   "metadata": {
    "execution": {
     "iopub.execute_input": "2021-03-23T08:49:53.191154Z",
     "iopub.status.busy": "2021-03-23T08:49:53.190343Z",
     "iopub.status.idle": "2021-03-23T08:56:08.871937Z",
     "shell.execute_reply": "2021-03-23T08:56:08.871006Z"
    },
    "papermill": {
     "duration": 375.705765,
     "end_time": "2021-03-23T08:56:08.872066",
     "exception": false,
     "start_time": "2021-03-23T08:49:53.166301",
     "status": "completed"
    },
    "tags": []
   },
   "outputs": [
    {
     "name": "stdout",
     "output_type": "stream",
     "text": [
      "Seed 0_Fold 1\n",
      "Epoch 1  loss=4.11252  val_loss=3.40080  time=1.54s\n",
      "Epoch 2  loss=3.19872  val_loss=3.13856  time=1.11s\n",
      "Epoch 3  loss=2.96338  val_loss=3.05561  time=0.91s\n",
      "Epoch 4  loss=2.79912  val_loss=3.00623  time=0.89s\n",
      "Epoch 5  loss=2.60966  val_loss=2.97437  time=0.89s\n",
      "Seed 0_Fold 2\n",
      "Epoch 1  loss=4.11137  val_loss=3.25194  time=0.90s\n",
      "Epoch 2  loss=3.21944  val_loss=3.02913  time=1.11s\n",
      "Epoch 3  loss=2.98370  val_loss=2.94645  time=0.91s\n",
      "Epoch 4  loss=2.80468  val_loss=2.92800  time=0.92s\n",
      "Epoch 5  loss=2.61758  val_loss=2.89228  time=0.95s\n",
      "Seed 0_Fold 3\n",
      "Epoch 1  loss=4.10545  val_loss=3.39445  time=0.91s\n",
      "Epoch 2  loss=3.18846  val_loss=3.18219  time=1.07s\n",
      "Epoch 3  loss=2.95962  val_loss=3.10514  time=0.91s\n",
      "Epoch 4  loss=2.78367  val_loss=3.04829  time=0.89s\n",
      "Epoch 5  loss=2.60392  val_loss=3.03838  time=0.88s\n",
      "Seed 0_Fold 4\n",
      "Epoch 1  loss=4.09578  val_loss=3.41366  time=0.88s\n",
      "Epoch 2  loss=3.16301  val_loss=3.20390  time=0.88s\n",
      "Epoch 3  loss=2.94919  val_loss=3.16899  time=1.15s\n",
      "Epoch 4  loss=2.78261  val_loss=3.12282  time=0.89s\n",
      "Epoch 5  loss=2.60796  val_loss=3.07464  time=0.90s\n",
      "Seed 0_Fold 5\n",
      "Epoch 1  loss=4.09356  val_loss=3.26683  time=0.98s\n",
      "Epoch 2  loss=3.20636  val_loss=3.10331  time=0.97s\n",
      "Epoch 3  loss=2.98536  val_loss=3.00813  time=1.08s\n",
      "Epoch 4  loss=2.81442  val_loss=2.93217  time=0.92s\n",
      "Epoch 5  loss=2.62289  val_loss=2.90938  time=0.95s\n",
      "Seed 0_Fold 6\n",
      "Epoch 1  loss=4.11783  val_loss=3.24221  time=0.88s\n",
      "Epoch 2  loss=3.20932  val_loss=3.09215  time=0.86s\n",
      "Epoch 3  loss=2.98814  val_loss=2.96982  time=1.08s\n",
      "Epoch 4  loss=2.81956  val_loss=2.96067  time=0.85s\n",
      "Epoch 5  loss=2.63714  val_loss=2.92299  time=0.88s\n",
      "Epoch 6  loss=2.42721  val_loss=2.91878  time=0.85s\n",
      "Seed 0_Fold 7\n",
      "Epoch 1  loss=4.09747  val_loss=3.27363  time=0.91s\n",
      "Epoch 2  loss=3.17658  val_loss=3.05144  time=0.90s\n",
      "Epoch 3  loss=2.97746  val_loss=3.04678  time=1.00s\n",
      "Epoch 4  loss=2.80653  val_loss=2.95536  time=0.98s\n",
      "Epoch 5  loss=2.61851  val_loss=2.95027  time=0.92s\n",
      "Seed 1_Fold 1\n",
      "Epoch 1  loss=4.12157  val_loss=3.29067  time=0.87s\n",
      "Epoch 2  loss=3.18920  val_loss=3.11410  time=0.89s\n",
      "Epoch 3  loss=2.96660  val_loss=3.05372  time=0.96s\n",
      "Epoch 4  loss=2.80667  val_loss=3.00472  time=0.95s\n",
      "Epoch 5  loss=2.62051  val_loss=2.97834  time=0.90s\n",
      "Seed 1_Fold 2\n",
      "Epoch 1  loss=4.09812  val_loss=3.24600  time=0.87s\n",
      "Epoch 2  loss=3.22082  val_loss=3.02771  time=0.85s\n",
      "Epoch 3  loss=2.97468  val_loss=2.94389  time=0.86s\n",
      "Epoch 4  loss=2.81717  val_loss=2.91009  time=1.07s\n",
      "Epoch 5  loss=2.63603  val_loss=2.87252  time=0.86s\n",
      "Seed 1_Fold 3\n",
      "Epoch 1  loss=4.12013  val_loss=3.35735  time=0.87s\n",
      "Epoch 2  loss=3.17031  val_loss=3.16409  time=0.84s\n",
      "Epoch 3  loss=2.96809  val_loss=3.08658  time=0.85s\n",
      "Epoch 4  loss=2.79701  val_loss=3.04229  time=0.89s\n",
      "Epoch 5  loss=2.60035  val_loss=3.04165  time=1.13s\n",
      "Seed 1_Fold 4\n",
      "Epoch 1  loss=4.09331  val_loss=3.39576  time=0.85s\n",
      "Epoch 2  loss=3.18497  val_loss=3.21176  time=0.87s\n",
      "Epoch 3  loss=2.96425  val_loss=3.12651  time=0.89s\n",
      "Epoch 4  loss=2.78939  val_loss=3.11147  time=0.88s\n",
      "Epoch 5  loss=2.60209  val_loss=3.06904  time=1.08s\n",
      "Epoch 6  loss=2.37731  val_loss=3.06456  time=0.87s\n",
      "Seed 1_Fold 5\n",
      "Epoch 1  loss=4.12473  val_loss=3.30551  time=0.89s\n",
      "Epoch 2  loss=3.20344  val_loss=3.07160  time=0.86s\n",
      "Epoch 3  loss=2.98288  val_loss=2.98317  time=0.86s\n",
      "Epoch 4  loss=2.81115  val_loss=2.96463  time=0.85s\n",
      "Epoch 5  loss=2.62921  val_loss=2.91431  time=0.87s\n",
      "Seed 1_Fold 6\n",
      "Epoch 1  loss=4.10394  val_loss=3.25374  time=0.86s\n",
      "Epoch 2  loss=3.19500  val_loss=3.07626  time=0.87s\n",
      "Epoch 3  loss=2.96247  val_loss=2.97406  time=0.86s\n",
      "Epoch 4  loss=2.80754  val_loss=2.94658  time=0.85s\n",
      "Epoch 5  loss=2.62053  val_loss=2.91819  time=0.86s\n",
      "Epoch 6  loss=2.40431  val_loss=2.90336  time=0.86s\n",
      "Seed 1_Fold 7\n",
      "Epoch 1  loss=4.10584  val_loss=3.29947  time=0.85s\n",
      "Epoch 2  loss=3.22336  val_loss=3.09037  time=0.87s\n",
      "Epoch 3  loss=2.97852  val_loss=3.01794  time=0.85s\n",
      "Epoch 4  loss=2.80062  val_loss=2.94515  time=0.86s\n",
      "Epoch 5  loss=2.62202  val_loss=2.93048  time=0.87s\n",
      "Seed 2_Fold 1\n",
      "Epoch 1  loss=4.10889  val_loss=3.34982  time=0.88s\n",
      "Epoch 2  loss=3.19395  val_loss=3.13187  time=0.84s\n",
      "Epoch 3  loss=2.97673  val_loss=3.04514  time=0.86s\n",
      "Epoch 4  loss=2.80705  val_loss=3.00802  time=0.85s\n",
      "Epoch 5  loss=2.63140  val_loss=2.98778  time=0.86s\n",
      "Epoch 6  loss=2.40948  val_loss=2.97481  time=0.85s\n",
      "Seed 2_Fold 2\n",
      "Epoch 1  loss=4.12552  val_loss=3.28294  time=0.86s\n",
      "Epoch 2  loss=3.21501  val_loss=3.06118  time=0.87s\n",
      "Epoch 3  loss=2.97849  val_loss=2.94984  time=0.85s\n",
      "Epoch 4  loss=2.82105  val_loss=2.91441  time=0.88s\n",
      "Epoch 5  loss=2.62765  val_loss=2.87944  time=0.85s\n",
      "Seed 2_Fold 3\n",
      "Epoch 1  loss=4.10469  val_loss=3.40577  time=0.86s\n",
      "Epoch 2  loss=3.18084  val_loss=3.18828  time=0.88s\n",
      "Epoch 3  loss=2.97286  val_loss=3.11395  time=0.85s\n",
      "Epoch 4  loss=2.78628  val_loss=3.08831  time=0.85s\n",
      "Epoch 5  loss=2.62289  val_loss=3.03752  time=0.89s\n",
      "Seed 2_Fold 4\n",
      "Epoch 1  loss=4.10484  val_loss=3.43605  time=0.91s\n",
      "Epoch 2  loss=3.16832  val_loss=3.20670  time=0.87s\n",
      "Epoch 3  loss=2.95636  val_loss=3.12147  time=0.85s\n",
      "Epoch 4  loss=2.79406  val_loss=3.05493  time=0.86s\n",
      "Seed 2_Fold 5\n",
      "Epoch 1  loss=4.10715  val_loss=3.27647  time=0.85s\n",
      "Epoch 2  loss=3.19974  val_loss=3.09335  time=0.87s\n",
      "Epoch 3  loss=2.97267  val_loss=2.99282  time=0.86s\n",
      "Epoch 4  loss=2.79889  val_loss=2.93918  time=0.86s\n",
      "Seed 2_Fold 6\n",
      "Epoch 1  loss=4.13723  val_loss=3.24364  time=0.86s\n",
      "Epoch 2  loss=3.19004  val_loss=3.05622  time=0.85s\n",
      "Epoch 3  loss=2.96476  val_loss=2.98187  time=0.86s\n",
      "Epoch 4  loss=2.80445  val_loss=2.94625  time=0.86s\n",
      "Epoch 5  loss=2.61982  val_loss=2.89956  time=0.87s\n",
      "Seed 2_Fold 7\n",
      "Epoch 1  loss=4.11470  val_loss=3.29528  time=0.89s\n",
      "Epoch 2  loss=3.18448  val_loss=3.06977  time=0.86s\n",
      "Epoch 3  loss=2.97464  val_loss=2.98848  time=0.88s\n",
      "Epoch 4  loss=2.80929  val_loss=2.96577  time=0.85s\n",
      "Epoch 5  loss=2.62152  val_loss=2.95097  time=0.87s\n",
      "Seed 3_Fold 1\n",
      "Epoch 1  loss=4.10140  val_loss=3.32233  time=0.92s\n",
      "Epoch 2  loss=3.19934  val_loss=3.12522  time=0.86s\n",
      "Epoch 3  loss=2.96510  val_loss=3.04553  time=0.85s\n",
      "Epoch 4  loss=2.78904  val_loss=3.00584  time=0.87s\n",
      "Epoch 5  loss=2.60368  val_loss=2.99618  time=0.85s\n",
      "Seed 3_Fold 2\n",
      "Epoch 1  loss=4.14259  val_loss=3.20952  time=1.23s\n",
      "Epoch 2  loss=3.18923  val_loss=3.02924  time=0.91s\n",
      "Epoch 3  loss=2.98154  val_loss=2.96332  time=0.91s\n",
      "Epoch 4  loss=2.80234  val_loss=2.89983  time=0.93s\n",
      "Epoch 5  loss=2.60928  val_loss=2.88375  time=0.91s\n",
      "Seed 3_Fold 3\n",
      "Epoch 1  loss=4.10699  val_loss=3.41288  time=1.13s\n",
      "Epoch 2  loss=3.20972  val_loss=3.19339  time=0.87s\n",
      "Epoch 3  loss=2.96597  val_loss=3.11285  time=0.89s\n",
      "Epoch 4  loss=2.80524  val_loss=3.05942  time=0.86s\n",
      "Epoch 5  loss=2.61794  val_loss=3.02388  time=0.85s\n",
      "Seed 3_Fold 4\n",
      "Epoch 1  loss=4.07795  val_loss=3.39546  time=0.87s\n",
      "Epoch 2  loss=3.18243  val_loss=3.22238  time=1.07s\n",
      "Epoch 3  loss=2.94628  val_loss=3.13177  time=0.86s\n",
      "Epoch 4  loss=2.76841  val_loss=3.12345  time=0.86s\n",
      "Epoch 5  loss=2.61155  val_loss=3.07897  time=0.86s\n",
      "Seed 3_Fold 5\n",
      "Epoch 1  loss=4.08539  val_loss=3.25979  time=1.24s\n",
      "Epoch 2  loss=3.21037  val_loss=3.10944  time=1.08s\n",
      "Epoch 3  loss=2.98408  val_loss=3.01078  time=0.88s\n",
      "Epoch 4  loss=2.81085  val_loss=2.93074  time=0.88s\n",
      "Epoch 5  loss=2.62626  val_loss=2.91429  time=0.86s\n",
      "Epoch 6  loss=2.39110  val_loss=2.90473  time=0.87s\n",
      "Seed 3_Fold 6\n",
      "Epoch 1  loss=4.08525  val_loss=3.28580  time=0.91s\n",
      "Epoch 2  loss=3.21187  val_loss=3.05363  time=0.87s\n",
      "Epoch 3  loss=2.96803  val_loss=2.96433  time=1.08s\n",
      "Epoch 4  loss=2.80162  val_loss=2.93824  time=0.87s\n",
      "Epoch 5  loss=2.62507  val_loss=2.88343  time=0.87s\n",
      "Seed 3_Fold 7\n",
      "Epoch 1  loss=4.08798  val_loss=3.26890  time=1.00s\n",
      "Epoch 2  loss=3.21007  val_loss=3.07099  time=0.93s\n",
      "Epoch 3  loss=2.96952  val_loss=3.01529  time=1.13s\n",
      "Epoch 4  loss=2.79581  val_loss=2.93430  time=0.92s\n",
      "Seed 4_Fold 1\n",
      "Epoch 1  loss=4.13988  val_loss=3.34218  time=1.01s\n",
      "Epoch 2  loss=3.20390  val_loss=3.15070  time=1.07s\n",
      "Epoch 3  loss=2.97589  val_loss=3.06544  time=1.09s\n",
      "Epoch 4  loss=2.79634  val_loss=3.03434  time=0.87s\n",
      "Epoch 5  loss=2.62605  val_loss=2.99662  time=0.88s\n",
      "Seed 4_Fold 2\n",
      "Epoch 1  loss=4.13095  val_loss=3.25404  time=0.92s\n",
      "Epoch 2  loss=3.20530  val_loss=3.06052  time=0.87s\n",
      "Epoch 3  loss=2.99888  val_loss=2.96090  time=0.87s\n",
      "Epoch 4  loss=2.82120  val_loss=2.93298  time=1.09s\n",
      "Epoch 5  loss=2.64707  val_loss=2.87520  time=0.87s\n",
      "Seed 4_Fold 3\n",
      "Epoch 1  loss=4.08999  val_loss=3.39806  time=0.87s\n",
      "Epoch 2  loss=3.19631  val_loss=3.17056  time=0.86s\n",
      "Epoch 3  loss=2.96455  val_loss=3.07237  time=0.86s\n",
      "Epoch 5  loss=2.61759  val_loss=3.01835  time=0.98s\n",
      "Seed 4_Fold 4\n",
      "Epoch 1  loss=4.05950  val_loss=3.43202  time=0.88s\n",
      "Epoch 2  loss=3.18737  val_loss=3.21601  time=1.20s\n",
      "Epoch 3  loss=2.95367  val_loss=3.13477  time=0.87s\n",
      "Epoch 4  loss=2.77531  val_loss=3.10877  time=0.88s\n",
      "Epoch 5  loss=2.61166  val_loss=3.04822  time=1.07s\n",
      "Seed 4_Fold 5\n",
      "Epoch 1  loss=4.07725  val_loss=3.26246  time=0.91s\n",
      "Epoch 2  loss=3.20949  val_loss=3.12282  time=0.87s\n",
      "Epoch 3  loss=2.98239  val_loss=2.99619  time=0.86s\n",
      "Epoch 4  loss=2.82632  val_loss=2.94479  time=0.87s\n",
      "Epoch 5  loss=2.63597  val_loss=2.90769  time=0.97s\n",
      "Seed 4_Fold 6\n",
      "Epoch 1  loss=4.12877  val_loss=3.29657  time=0.86s\n",
      "Epoch 2  loss=3.19991  val_loss=3.05137  time=0.85s\n",
      "Epoch 3  loss=2.98377  val_loss=2.97837  time=0.86s\n",
      "Epoch 4  loss=2.80351  val_loss=2.94405  time=0.88s\n",
      "Epoch 5  loss=2.63017  val_loss=2.93550  time=0.89s\n",
      "Epoch 6  loss=2.41129  val_loss=2.91917  time=1.06s\n",
      "Seed 4_Fold 7\n",
      "Epoch 1  loss=4.14221  val_loss=3.30838  time=0.88s\n",
      "Epoch 2  loss=3.21452  val_loss=3.07784  time=0.88s\n",
      "Epoch 3  loss=2.98306  val_loss=2.99959  time=1.15s\n",
      "Epoch 4  loss=2.81208  val_loss=2.99881  time=0.97s\n",
      "Epoch 5  loss=2.63420  val_loss=2.91482  time=0.90s\n"
     ]
    }
   ],
   "source": [
    "seeds = [0,1,2,3,4]\n",
    "target_oof = np.zeros([len(fn_train), class_num])\n",
    "target_pred = np.zeros([len(fn_test), class_num])\n",
    "\n",
    "for seed_ in seeds:\n",
    "    best_oof, pytorch_pred = modelling_torch(fn_train, fn_multiclass_targets, fn_test, seed_, fn_train.shape[1], class_num)\n",
    "    target_oof += best_oof / len(seeds)\n",
    "    target_pred += pytorch_pred / len(seeds)"
   ]
  },
  {
   "cell_type": "code",
   "execution_count": 17,
   "metadata": {
    "execution": {
     "iopub.execute_input": "2021-03-23T08:56:09.035087Z",
     "iopub.status.busy": "2021-03-23T08:56:09.034538Z",
     "iopub.status.idle": "2021-03-23T08:56:09.108914Z",
     "shell.execute_reply": "2021-03-23T08:56:09.108435Z"
    },
    "papermill": {
     "duration": 0.16022,
     "end_time": "2021-03-23T08:56:09.109046",
     "exception": false,
     "start_time": "2021-03-23T08:56:08.948826",
     "status": "completed"
    },
    "tags": []
   },
   "outputs": [],
   "source": [
    "target_oof = np.dot(target_oof, classid_target)\n",
    "target_pred = np.dot(target_pred, classid_target)"
   ]
  },
  {
   "cell_type": "code",
   "execution_count": 18,
   "metadata": {
    "execution": {
     "iopub.execute_input": "2021-03-23T08:56:09.274275Z",
     "iopub.status.busy": "2021-03-23T08:56:09.273476Z",
     "iopub.status.idle": "2021-03-23T08:56:15.414612Z",
     "shell.execute_reply": "2021-03-23T08:56:15.415312Z"
    },
    "papermill": {
     "duration": 6.228958,
     "end_time": "2021-03-23T08:56:15.415438",
     "exception": false,
     "start_time": "2021-03-23T08:56:09.186480",
     "status": "completed"
    },
    "tags": []
   },
   "outputs": [
    {
     "name": "stdout",
     "output_type": "stream",
     "text": [
      "OOF log loss:  0.014677229670277694\n"
     ]
    }
   ],
   "source": [
    "t = pd.read_csv(DATA_DIR + 'train_targets_scored.csv')\n",
    "train_checkscore = t.copy()\n",
    "train_checkscore.loc[train_checkscore.index.isin(cons_train_index),target_feats] = np.clip(target_oof, p_min, p_max)\n",
    "train_checkscore.loc[train_checkscore.index.isin(noncons_train_index),target_feats] = 0\n",
    "t.drop(\"sig_id\", axis=1, inplace=True)\n",
    "print('OOF log loss: ', log_loss(np.ravel(t), np.ravel(np.array(train_checkscore.iloc[:,1:]))))"
   ]
  },
  {
   "cell_type": "code",
   "execution_count": 19,
   "metadata": {
    "execution": {
     "iopub.execute_input": "2021-03-23T08:56:15.575664Z",
     "iopub.status.busy": "2021-03-23T08:56:15.574511Z",
     "iopub.status.idle": "2021-03-23T08:56:24.337477Z",
     "shell.execute_reply": "2021-03-23T08:56:24.336330Z"
    },
    "papermill": {
     "duration": 8.845984,
     "end_time": "2021-03-23T08:56:24.337609",
     "exception": false,
     "start_time": "2021-03-23T08:56:15.491625",
     "status": "completed"
    },
    "tags": []
   },
   "outputs": [],
   "source": [
    "train_checkscore.to_csv(\"mlp_oof.csv\", index=False)"
   ]
  },
  {
   "cell_type": "code",
   "execution_count": 20,
   "metadata": {
    "execution": {
     "iopub.execute_input": "2021-03-23T08:56:24.523476Z",
     "iopub.status.busy": "2021-03-23T08:56:24.522514Z",
     "iopub.status.idle": "2021-03-23T08:56:26.717659Z",
     "shell.execute_reply": "2021-03-23T08:56:26.716804Z"
    },
    "papermill": {
     "duration": 2.29068,
     "end_time": "2021-03-23T08:56:26.717794",
     "exception": false,
     "start_time": "2021-03-23T08:56:24.427114",
     "status": "completed"
    },
    "tags": []
   },
   "outputs": [],
   "source": [
    "sub.loc[cons_test_index,target_feats] = np.clip(target_pred, p_min, p_max)\n",
    "sub.loc[noncons_test_index,target_feats] = 0\n",
    "sub.to_csv('submission.csv', index=False)"
   ]
  },
  {
   "cell_type": "code",
   "execution_count": null,
   "metadata": {
    "papermill": {
     "duration": 0.093235,
     "end_time": "2021-03-23T08:56:26.902628",
     "exception": false,
     "start_time": "2021-03-23T08:56:26.809393",
     "status": "completed"
    },
    "tags": []
   },
   "outputs": [],
   "source": []
  }
 ],
 "metadata": {
  "kernelspec": {
   "display_name": "Python 3",
   "language": "python",
   "name": "python3"
  },
  "language_info": {
   "codemirror_mode": {
    "name": "ipython",
    "version": 3
   },
   "file_extension": ".py",
   "mimetype": "text/x-python",
   "name": "python",
   "nbconvert_exporter": "python",
   "pygments_lexer": "ipython3",
   "version": "3.7.6"
  },
  "papermill": {
   "duration": 439.980685,
   "end_time": "2021-03-23T08:56:28.159268",
   "environment_variables": {},
   "exception": null,
   "input_path": "__notebook__.ipynb",
   "output_path": "__notebook__.ipynb",
   "parameters": {},
   "start_time": "2021-03-23T08:49:08.178583",
   "version": "2.1.0"
  }
 },
 "nbformat": 4,
 "nbformat_minor": 4
}
