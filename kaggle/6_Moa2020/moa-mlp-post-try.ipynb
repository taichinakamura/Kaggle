{
 "cells": [
  {
   "cell_type": "markdown",
   "metadata": {
    "papermill": {
     "duration": 0.01579,
     "end_time": "2021-03-24T11:18:11.999508",
     "exception": false,
     "start_time": "2021-03-24T11:18:11.983718",
     "status": "completed"
    },
    "tags": []
   },
   "source": [
    "**Late submission**\n",
    "- solve as a multiclass classification problem\n",
    "- change learning rate scheduler\n",
    "- change PCA size"
   ]
  },
  {
   "cell_type": "code",
   "execution_count": 1,
   "metadata": {
    "_cell_guid": "b1076dfc-b9ad-4769-8c92-a6c4dae69d19",
    "_uuid": "8f2839f25d086af736a60e9eeb907d3b93b6e0e5",
    "execution": {
     "iopub.execute_input": "2021-03-24T11:18:12.035109Z",
     "iopub.status.busy": "2021-03-24T11:18:12.034472Z",
     "iopub.status.idle": "2021-03-24T11:18:19.028188Z",
     "shell.execute_reply": "2021-03-24T11:18:19.027063Z"
    },
    "papermill": {
     "duration": 7.014414,
     "end_time": "2021-03-24T11:18:19.028318",
     "exception": false,
     "start_time": "2021-03-24T11:18:12.013904",
     "status": "completed"
    },
    "tags": []
   },
   "outputs": [
    {
     "name": "stderr",
     "output_type": "stream",
     "text": [
      "/opt/conda/lib/python3.7/site-packages/ipykernel_launcher.py:12: TqdmDeprecationWarning: This function will be removed in tqdm==5.0.0\n",
      "Please use `tqdm.notebook.*` instead of `tqdm._tqdm_notebook.*`\n",
      "  if sys.path[0] == '':\n"
     ]
    }
   ],
   "source": [
    "import os\n",
    "import random\n",
    "import warnings\n",
    "import numpy as np\n",
    "import pandas as pd \n",
    "from sklearn import preprocessing\n",
    "from sklearn.metrics import log_loss\n",
    "from sklearn.decomposition import PCA\n",
    "from tqdm import tqdm_notebook as tqdm\n",
    "from sklearn.feature_selection import VarianceThreshold\n",
    "from sklearn.model_selection import StratifiedKFold, KFold\n",
    "from tqdm._tqdm_notebook import tqdm_notebook\n",
    "\n",
    "import time\n",
    "import torch\n",
    "import torch.nn as nn\n",
    "import torch.optim as optim\n",
    "import torch.nn.functional as F\n",
    "import tensorflow as tf\n",
    "\n",
    "warnings.filterwarnings('ignore')"
   ]
  },
  {
   "cell_type": "markdown",
   "metadata": {
    "papermill": {
     "duration": 0.014288,
     "end_time": "2021-03-24T11:18:19.057769",
     "exception": false,
     "start_time": "2021-03-24T11:18:19.043481",
     "status": "completed"
    },
    "tags": []
   },
   "source": [
    "# final engineering"
   ]
  },
  {
   "cell_type": "code",
   "execution_count": 2,
   "metadata": {
    "execution": {
     "iopub.execute_input": "2021-03-24T11:18:19.096479Z",
     "iopub.status.busy": "2021-03-24T11:18:19.095925Z",
     "iopub.status.idle": "2021-03-24T11:18:25.920137Z",
     "shell.execute_reply": "2021-03-24T11:18:25.919069Z"
    },
    "papermill": {
     "duration": 6.848031,
     "end_time": "2021-03-24T11:18:25.920259",
     "exception": false,
     "start_time": "2021-03-24T11:18:19.072228",
     "status": "completed"
    },
    "tags": []
   },
   "outputs": [],
   "source": [
    "DATA_DIR = '/kaggle/input/lish-moa/'\n",
    "train = pd.read_csv(DATA_DIR + 'train_features.csv')\n",
    "targets = pd.read_csv(DATA_DIR + 'train_targets_scored.csv')\n",
    "non_targets = pd.read_csv(DATA_DIR + 'train_targets_nonscored.csv')\n",
    "test = pd.read_csv(DATA_DIR + 'test_features.csv')\n",
    "sub = pd.read_csv(DATA_DIR + 'sample_submission.csv')\n",
    "drug = pd.read_csv(DATA_DIR + 'train_drug.csv')"
   ]
  },
  {
   "cell_type": "code",
   "execution_count": 3,
   "metadata": {
    "execution": {
     "iopub.execute_input": "2021-03-24T11:18:25.958041Z",
     "iopub.status.busy": "2021-03-24T11:18:25.956135Z",
     "iopub.status.idle": "2021-03-24T11:18:25.958651Z",
     "shell.execute_reply": "2021-03-24T11:18:25.959077Z"
    },
    "papermill": {
     "duration": 0.023962,
     "end_time": "2021-03-24T11:18:25.959183",
     "exception": false,
     "start_time": "2021-03-24T11:18:25.935221",
     "status": "completed"
    },
    "tags": []
   },
   "outputs": [],
   "source": [
    "target_feats = [ i for i in targets.columns if i != \"sig_id\"]\n",
    "g_feats = [i for i in train.columns if \"g-\" in i]\n",
    "c_feats = [i for i in train.columns if \"c-\" in i]"
   ]
  },
  {
   "cell_type": "code",
   "execution_count": 4,
   "metadata": {
    "execution": {
     "iopub.execute_input": "2021-03-24T11:18:25.996005Z",
     "iopub.status.busy": "2021-03-24T11:18:25.995432Z",
     "iopub.status.idle": "2021-03-24T11:18:26.089941Z",
     "shell.execute_reply": "2021-03-24T11:18:26.089425Z"
    },
    "papermill": {
     "duration": 0.11621,
     "end_time": "2021-03-24T11:18:26.090046",
     "exception": false,
     "start_time": "2021-03-24T11:18:25.973836",
     "status": "completed"
    },
    "tags": []
   },
   "outputs": [],
   "source": [
    "noncons_train_index = train[train.cp_type==\"ctl_vehicle\"].index\n",
    "cons_train_index = train[train.cp_type!=\"ctl_vehicle\"].index\n",
    "noncons_test_index = test[test.cp_type==\"ctl_vehicle\"].index\n",
    "cons_test_index = test[test.cp_type!=\"ctl_vehicle\"].index"
   ]
  },
  {
   "cell_type": "markdown",
   "metadata": {
    "papermill": {
     "duration": 0.014816,
     "end_time": "2021-03-24T11:18:26.119986",
     "exception": false,
     "start_time": "2021-03-24T11:18:26.105170",
     "status": "completed"
    },
    "tags": []
   },
   "source": [
    "# target group"
   ]
  },
  {
   "cell_type": "code",
   "execution_count": 5,
   "metadata": {
    "execution": {
     "iopub.execute_input": "2021-03-24T11:18:26.165692Z",
     "iopub.status.busy": "2021-03-24T11:18:26.165128Z",
     "iopub.status.idle": "2021-03-24T11:18:26.168018Z",
     "shell.execute_reply": "2021-03-24T11:18:26.168403Z"
    },
    "papermill": {
     "duration": 0.033864,
     "end_time": "2021-03-24T11:18:26.168514",
     "exception": false,
     "start_time": "2021-03-24T11:18:26.134650",
     "status": "completed"
    },
    "tags": []
   },
   "outputs": [],
   "source": [
    "y = targets.drop(\"sig_id\", axis=1)"
   ]
  },
  {
   "cell_type": "code",
   "execution_count": 6,
   "metadata": {
    "execution": {
     "iopub.execute_input": "2021-03-24T11:18:26.208261Z",
     "iopub.status.busy": "2021-03-24T11:18:26.207525Z",
     "iopub.status.idle": "2021-03-24T11:18:37.464810Z",
     "shell.execute_reply": "2021-03-24T11:18:37.464332Z"
    },
    "papermill": {
     "duration": 11.281613,
     "end_time": "2021-03-24T11:18:37.464920",
     "exception": false,
     "start_time": "2021-03-24T11:18:26.183307",
     "status": "completed"
    },
    "tags": []
   },
   "outputs": [
    {
     "data": {
      "text/plain": [
       "((23814, 328), (328, 206))"
      ]
     },
     "execution_count": 6,
     "metadata": {},
     "output_type": "execute_result"
    }
   ],
   "source": [
    "def make_string(row):\n",
    "    return str(row[1:].values).replace('[','').replace(']','').replace('\\n','').replace(' ','')\n",
    "\n",
    "targets[\"target_pair\"] = targets.apply(make_string, axis=1)\n",
    "targetpair_id = dict(enumerate(targets[\"target_pair\"].unique()))\n",
    "id_targetpair = {y:x for x,y in targetpair_id.items()}\n",
    "targets[\"target_pair_num\"] = targets[\"target_pair\"].map(id_targetpair)\n",
    "\n",
    "multiclass_targets = pd.get_dummies(targets[\"target_pair_num\"])\n",
    "\n",
    "for i in range(len(id_targetpair.keys())):\n",
    "    if i == 0:\n",
    "        classid_target = np.array(list((targetpair_id[i]))).reshape(1,-1)      \n",
    "    else:\n",
    "        classid_target = np.vstack([classid_target, np.array(list((targetpair_id[i]))).reshape(1,-1)])\n",
    "        \n",
    "classid_target = classid_target.astype(int)\n",
    "class_num = multiclass_targets.shape[1]\n",
    "        \n",
    "multiclass_targets.shape, classid_target.shape"
   ]
  },
  {
   "cell_type": "markdown",
   "metadata": {
    "papermill": {
     "duration": 0.015286,
     "end_time": "2021-03-24T11:18:37.495710",
     "exception": false,
     "start_time": "2021-03-24T11:18:37.480424",
     "status": "completed"
    },
    "tags": []
   },
   "source": [
    "# preprocess"
   ]
  },
  {
   "cell_type": "code",
   "execution_count": 7,
   "metadata": {
    "execution": {
     "iopub.execute_input": "2021-03-24T11:18:37.534991Z",
     "iopub.status.busy": "2021-03-24T11:18:37.534225Z",
     "iopub.status.idle": "2021-03-24T11:18:37.805595Z",
     "shell.execute_reply": "2021-03-24T11:18:37.805128Z"
    },
    "papermill": {
     "duration": 0.294592,
     "end_time": "2021-03-24T11:18:37.805696",
     "exception": false,
     "start_time": "2021-03-24T11:18:37.511104",
     "status": "completed"
    },
    "tags": []
   },
   "outputs": [],
   "source": [
    "train = train[train.index.isin(cons_train_index)].copy().reset_index(drop=True)\n",
    "test = test[test.index.isin(cons_test_index)].copy().reset_index(drop=True)\n",
    "targets = targets[targets.index.isin(cons_train_index)].copy().reset_index(drop=True)\n",
    "\n",
    "# no need to change to one-hot encoding form\n",
    "# https://discuss.pytorch.org/t/runtimeerror-multi-target-not-supported-newbie/10216\n",
    "multiclass_targets = targets[\"target_pair_num\"].copy().reset_index(drop=True)"
   ]
  },
  {
   "cell_type": "markdown",
   "metadata": {
    "papermill": {
     "duration": 0.015214,
     "end_time": "2021-03-24T11:18:37.836561",
     "exception": false,
     "start_time": "2021-03-24T11:18:37.821347",
     "status": "completed"
    },
    "tags": []
   },
   "source": [
    "# Feature engineering "
   ]
  },
  {
   "cell_type": "code",
   "execution_count": 8,
   "metadata": {
    "execution": {
     "iopub.execute_input": "2021-03-24T11:18:37.872484Z",
     "iopub.status.busy": "2021-03-24T11:18:37.871767Z",
     "iopub.status.idle": "2021-03-24T11:18:37.874721Z",
     "shell.execute_reply": "2021-03-24T11:18:37.874282Z"
    },
    "papermill": {
     "duration": 0.022745,
     "end_time": "2021-03-24T11:18:37.874810",
     "exception": false,
     "start_time": "2021-03-24T11:18:37.852065",
     "status": "completed"
    },
    "tags": []
   },
   "outputs": [],
   "source": [
    "#X = train.iloc[:,4:].copy().values\n",
    "#select = VarianceThreshold(threshold=0.9)\n",
    "#X_new = select.fit_transform(X)\n",
    "#drop_feats = list(np.array(train.iloc[:,4:].columns)[select.get_support()==False])\n",
    "#print(len(drop_feats))\n",
    "\n",
    "#train.drop(drop_feats, axis=1, inplace=True)\n",
    "#test.drop(drop_feats, axis=1, inplace=True)\n",
    "\n",
    "g_feats = [i for i in train.columns if \"g-\" in i]\n",
    "c_feats = [i for i in train.columns if \"c-\" in i]"
   ]
  },
  {
   "cell_type": "code",
   "execution_count": 9,
   "metadata": {
    "execution": {
     "iopub.execute_input": "2021-03-24T11:18:37.912484Z",
     "iopub.status.busy": "2021-03-24T11:18:37.911537Z",
     "iopub.status.idle": "2021-03-24T11:18:45.711107Z",
     "shell.execute_reply": "2021-03-24T11:18:45.710054Z"
    },
    "papermill": {
     "duration": 7.820809,
     "end_time": "2021-03-24T11:18:45.711224",
     "exception": false,
     "start_time": "2021-03-24T11:18:37.890415",
     "status": "completed"
    },
    "tags": []
   },
   "outputs": [],
   "source": [
    "# rank gauss\n",
    "for i in c_feats + g_feats:\n",
    "    ss = preprocessing.QuantileTransformer(n_quantiles=100, random_state=0, output_distribution=\"normal\")\n",
    "    ss.fit(train[i].values.reshape(-1,1))\n",
    "    train[i] = ss.transform(train[i].values.reshape(-1,1))\n",
    "    test[i] = ss.transform(test[i].values.reshape(-1,1))"
   ]
  },
  {
   "cell_type": "code",
   "execution_count": 10,
   "metadata": {
    "execution": {
     "iopub.execute_input": "2021-03-24T11:18:45.760935Z",
     "iopub.status.busy": "2021-03-24T11:18:45.759353Z",
     "iopub.status.idle": "2021-03-24T11:18:47.440961Z",
     "shell.execute_reply": "2021-03-24T11:18:47.441566Z"
    },
    "papermill": {
     "duration": 1.714464,
     "end_time": "2021-03-24T11:18:47.441741",
     "exception": false,
     "start_time": "2021-03-24T11:18:45.727277",
     "status": "completed"
    },
    "tags": []
   },
   "outputs": [],
   "source": [
    "c_num = 8\n",
    "pca_c_cols = [\"pca-c\"+str(i+1) for i in range(c_num)]\n",
    "pca = PCA(n_components=c_num,random_state=42)\n",
    "c_train = pca.fit_transform(train[c_feats])\n",
    "c_test = pca.transform(test[c_feats])\n",
    "c_train = pd.DataFrame(c_train, columns=pca_c_cols)\n",
    "c_test = pd.DataFrame(c_test, columns=pca_c_cols)\n",
    "\n",
    "g_num = 32\n",
    "pca_g_cols = [\"pca-g\"+str(i+1) for i in range(g_num)]\n",
    "pca = PCA(n_components=g_num, random_state=42)\n",
    "g_train = pca.fit_transform(train[g_feats])\n",
    "g_test = pca.transform(test[g_feats])\n",
    "g_train = pd.DataFrame(g_train, columns=pca_g_cols)\n",
    "g_test = pd.DataFrame(g_test, columns=pca_g_cols)\n",
    "\n",
    "train = pd.concat([train, c_train],axis=1)\n",
    "test = pd.concat([test, c_test],axis=1)\n",
    "train = pd.concat([train, g_train],axis=1)\n",
    "test = pd.concat([test, g_test],axis=1)"
   ]
  },
  {
   "cell_type": "code",
   "execution_count": 11,
   "metadata": {
    "execution": {
     "iopub.execute_input": "2021-03-24T11:18:47.522500Z",
     "iopub.status.busy": "2021-03-24T11:18:47.521706Z",
     "iopub.status.idle": "2021-03-24T11:18:49.450081Z",
     "shell.execute_reply": "2021-03-24T11:18:49.449408Z"
    },
    "papermill": {
     "duration": 1.977149,
     "end_time": "2021-03-24T11:18:49.450180",
     "exception": false,
     "start_time": "2021-03-24T11:18:47.473031",
     "status": "completed"
    },
    "tags": []
   },
   "outputs": [],
   "source": [
    "def fe(df):\n",
    "    tmp = df.copy()\n",
    "    tmp['g_kurt'] = tmp[g_feats].kurtosis(axis = 1)\n",
    "    tmp['g_skew'] = tmp[g_feats].skew(axis = 1)\n",
    "    tmp['c_kurt'] = tmp[c_feats].kurtosis(axis = 1)\n",
    "    tmp['c_skew'] = tmp[c_feats].skew(axis = 1)\n",
    "    tmp = pd.get_dummies(tmp, columns=['cp_time','cp_dose'])\n",
    "    tmp.drop([\"cp_type\", \"sig_id\"], axis=1, inplace=True)\n",
    "    return tmp\n",
    "\n",
    "train = fe(train)\n",
    "test = fe(test)"
   ]
  },
  {
   "cell_type": "code",
   "execution_count": 12,
   "metadata": {
    "execution": {
     "iopub.execute_input": "2021-03-24T11:18:49.488593Z",
     "iopub.status.busy": "2021-03-24T11:18:49.487499Z",
     "iopub.status.idle": "2021-03-24T11:18:49.637319Z",
     "shell.execute_reply": "2021-03-24T11:18:49.637752Z"
    },
    "papermill": {
     "duration": 0.171362,
     "end_time": "2021-03-24T11:18:49.637873",
     "exception": false,
     "start_time": "2021-03-24T11:18:49.466511",
     "status": "completed"
    },
    "tags": []
   },
   "outputs": [
    {
     "name": "stdout",
     "output_type": "stream",
     "text": [
      "(21948, 921) (3624, 921) (23814, 206) (21948,)\n"
     ]
    }
   ],
   "source": [
    "fn_train = train.copy().to_numpy()\n",
    "fn_test = test.copy().to_numpy()\n",
    "fn_targets = y.copy().to_numpy()\n",
    "fn_multiclass_targets = multiclass_targets.copy().to_numpy()\n",
    "print(fn_train.shape, fn_test.shape, fn_targets.shape, fn_multiclass_targets.shape)"
   ]
  },
  {
   "cell_type": "markdown",
   "metadata": {
    "papermill": {
     "duration": 0.016162,
     "end_time": "2021-03-24T11:18:49.670381",
     "exception": false,
     "start_time": "2021-03-24T11:18:49.654219",
     "status": "completed"
    },
    "tags": []
   },
   "source": [
    "# modelling"
   ]
  },
  {
   "cell_type": "code",
   "execution_count": 13,
   "metadata": {
    "execution": {
     "iopub.execute_input": "2021-03-24T11:18:50.064212Z",
     "iopub.status.busy": "2021-03-24T11:18:50.061036Z",
     "iopub.status.idle": "2021-03-24T11:18:50.065157Z",
     "shell.execute_reply": "2021-03-24T11:18:50.065863Z"
    },
    "papermill": {
     "duration": 0.379459,
     "end_time": "2021-03-24T11:18:50.066071",
     "exception": false,
     "start_time": "2021-03-24T11:18:49.686612",
     "status": "completed"
    },
    "tags": []
   },
   "outputs": [],
   "source": [
    "device = \"cuda\" if torch.cuda.is_available() else \"cpu\""
   ]
  },
  {
   "cell_type": "code",
   "execution_count": 14,
   "metadata": {
    "execution": {
     "iopub.execute_input": "2021-03-24T11:18:50.138268Z",
     "iopub.status.busy": "2021-03-24T11:18:50.137436Z",
     "iopub.status.idle": "2021-03-24T11:18:50.157170Z",
     "shell.execute_reply": "2021-03-24T11:18:50.158307Z"
    },
    "papermill": {
     "duration": 0.057017,
     "end_time": "2021-03-24T11:18:50.158466",
     "exception": false,
     "start_time": "2021-03-24T11:18:50.101449",
     "status": "completed"
    },
    "tags": []
   },
   "outputs": [
    {
     "name": "stdout",
     "output_type": "stream",
     "text": [
      "cuda\n"
     ]
    }
   ],
   "source": [
    "print(device)\n",
    "def seed_everything(seed=42): \n",
    "    random.seed(seed)\n",
    "    os.environ['PYTHONHASHSEED'] = str(seed)\n",
    "    tf.random.set_seed(seed)\n",
    "    np.random.seed(seed)\n",
    "    torch.manual_seed(seed)\n",
    "    torch.cuda.manual_seed(seed)\n",
    "    torch.backends.cudnn.deterministic = True\n",
    "\n",
    "class MoaModel(nn.Module):\n",
    "    def __init__(self, num_columns, last_num):\n",
    "        super(MoaModel, self).__init__()\n",
    "        self.batch_norm1 = nn.BatchNorm1d(num_columns)\n",
    "        self.dropout1 = nn.Dropout(0.2)\n",
    "        self.dense1 = nn.utils.weight_norm(nn.Linear(num_columns, 1024))\n",
    "        self.relu1 = nn.LeakyReLU()\n",
    "        \n",
    "        self.batch_norm2 = nn.BatchNorm1d(1024)\n",
    "        self.dropout2 = nn.Dropout(0.2)\n",
    "        self.dense2 = nn.utils.weight_norm(nn.Linear(1024, 1024))\n",
    "        self.relu2 = nn.LeakyReLU()\n",
    "        \n",
    "        self.batch_norm3 = nn.BatchNorm1d(1024)\n",
    "        self.dropout3 = nn.Dropout(0.2)\n",
    "        self.dense3 = nn.utils.weight_norm(nn.Linear(1024, 1024))\n",
    "        self.relu3 = nn.LeakyReLU()\n",
    "        \n",
    "        self.batch_norm4 = nn.BatchNorm1d(1024)\n",
    "        self.dropout4 = nn.Dropout(0.2)\n",
    "        self.dense4 = nn.utils.weight_norm(nn.Linear(1024, last_num))\n",
    "        \n",
    "    def forward(self, x):\n",
    "        x = self.batch_norm1(x)\n",
    "        x = self.dropout1(x)\n",
    "        x = self.relu1(self.dense1(x))\n",
    "        \n",
    "        x = self.batch_norm2(x)\n",
    "        x = self.dropout2(x)\n",
    "        x = self.relu2(self.dense2(x))\n",
    "        \n",
    "        x = self.batch_norm3(x)\n",
    "        x = self.dropout3(x)\n",
    "        x = self.relu3(self.dense3(x))\n",
    "        \n",
    "        x = self.batch_norm4(x)\n",
    "        x = self.dropout4(x)\n",
    "        x = self.dense4(x)\n",
    "        \n",
    "        return x"
   ]
  },
  {
   "cell_type": "markdown",
   "metadata": {
    "papermill": {
     "duration": 0.031458,
     "end_time": "2021-03-24T11:18:50.223939",
     "exception": false,
     "start_time": "2021-03-24T11:18:50.192481",
     "status": "completed"
    },
    "tags": []
   },
   "source": [
    "# modelling"
   ]
  },
  {
   "cell_type": "code",
   "execution_count": 15,
   "metadata": {
    "execution": {
     "iopub.execute_input": "2021-03-24T11:18:50.296102Z",
     "iopub.status.busy": "2021-03-24T11:18:50.295221Z",
     "iopub.status.idle": "2021-03-24T11:18:50.340300Z",
     "shell.execute_reply": "2021-03-24T11:18:50.341386Z"
    },
    "papermill": {
     "duration": 0.086897,
     "end_time": "2021-03-24T11:18:50.341531",
     "exception": false,
     "start_time": "2021-03-24T11:18:50.254634",
     "status": "completed"
    },
    "tags": []
   },
   "outputs": [],
   "source": [
    "batch_size = 128\n",
    "n_folds=7\n",
    "EARLY_STOPPING_STEPS = 10\n",
    "smoothing = 0.001\n",
    "p_min = smoothing\n",
    "p_max = 1 - smoothing\n",
    "train_epochs = 10\n",
    "\n",
    "def multi_log_loss(y_true, y_pred):\n",
    "    metrics = []\n",
    "    for i, target in enumerate(target_feats):\n",
    "        metrics.append(log_loss(y_true[:, i], y_pred[:, i].astype(float), labels=[0,1]))\n",
    "    return np.mean(metrics)\n",
    "    \n",
    "def modelling_torch(tr, target, te, sample_seed, init_num, last_num):\n",
    "    seed_everything(seed=sample_seed) \n",
    "    X_train = tr.copy()\n",
    "    y_train = target.copy()\n",
    "    X_test = te.copy()\n",
    "    test_len = X_test.shape[0]\n",
    "    \n",
    "    mskf=KFold(n_splits = n_folds, shuffle=True, random_state=224)\n",
    "\n",
    "    models = []\n",
    "    \n",
    "    X_test2 = torch.tensor(X_test, dtype=torch.float32)\n",
    "    test = torch.utils.data.TensorDataset(X_test2) \n",
    "    test_loader = torch.utils.data.DataLoader(test, batch_size=batch_size, shuffle=False)\n",
    "    \n",
    "    oof = np.zeros([len(X_train),last_num])\n",
    "    oof_targets = np.zeros([len(X_train),last_num])\n",
    "    pred_value = np.zeros([test_len, last_num])\n",
    "    for fold, (train_index, valid_index) in enumerate(mskf.split(X_train, y_train)):\n",
    "        print(\"Seed \"+str(sample_seed)+\"_Fold \"+str(fold+1))\n",
    "        X_train2 = torch.tensor(X_train[train_index,:], dtype=torch.float32)\n",
    "        y_train2 = torch.tensor(y_train[train_index], dtype=torch.long)\n",
    "\n",
    "        X_valid2 = torch.tensor(X_train[valid_index,:], dtype=torch.float32)\n",
    "        y_valid2 = torch.tensor(y_train[valid_index], dtype=torch.long)\n",
    "        \n",
    "        train = torch.utils.data.TensorDataset(X_train2, y_train2)\n",
    "        valid = torch.utils.data.TensorDataset(X_valid2, y_valid2)\n",
    "        \n",
    "        train_loader = torch.utils.data.DataLoader(train, batch_size=batch_size, shuffle=True) \n",
    "        valid_loader = torch.utils.data.DataLoader(valid, batch_size=batch_size, shuffle=False)\n",
    "            \n",
    "        clf = MoaModel(init_num, last_num)\n",
    "        loss_fn = nn.CrossEntropyLoss() \n",
    "\n",
    "        optimizer = optim.Adam(clf.parameters(), lr = 0.01, weight_decay=1e-4) \n",
    "        scheduler = optim.lr_scheduler.OneCycleLR(optimizer=optimizer, pct_start=0.1, div_factor=1e3, \n",
    "                                              max_lr=2e-2, epochs=train_epochs, steps_per_epoch=len(train_loader))\n",
    "        \n",
    "        clf.to(device)\n",
    "        \n",
    "        best_val_loss = np.inf\n",
    "        stop_counts = 0\n",
    "        for epoch in range(train_epochs):\n",
    "            start_time = time.time()\n",
    "            clf.train()\n",
    "            avg_loss = 0.\n",
    "            for x_batch, y_batch in tqdm(train_loader, disable=True):\n",
    "                x_batch = x_batch.to(device)\n",
    "                y_batch = y_batch.to(device)\n",
    "                y_pred = clf(x_batch)\n",
    "                loss = loss_fn(y_pred, y_batch)\n",
    "                optimizer.zero_grad()\n",
    "                loss.backward()\n",
    "                optimizer.step()\n",
    "                scheduler.step()\n",
    "                avg_loss += loss.item() / len(train_loader)  \n",
    "                \n",
    "            clf.eval()\n",
    "            avg_val_loss = 0.\n",
    "            for i, (x_batch, y_batch) in enumerate(valid_loader): \n",
    "                x_batch = x_batch.to(device)\n",
    "                y_batch = y_batch.to(device)\n",
    "                y_pred = clf(x_batch).detach()\n",
    "                avg_val_loss += loss_fn(y_pred, y_batch).item() / len(valid_loader)\n",
    "        \n",
    "            elapsed_time = time.time() - start_time \n",
    "                    \n",
    "            if avg_val_loss < best_val_loss:\n",
    "                best_val_loss = avg_val_loss\n",
    "                print('Epoch {}  loss={:.5f}  val_loss={:.5f}  time={:.2f}s'.format(\n",
    "                    epoch + 1, avg_loss, avg_val_loss, elapsed_time))\n",
    "                torch.save(clf.state_dict(), 'best-model-parameters.pt')\n",
    "                stop_counts = 0\n",
    "            else:\n",
    "                stop_counts += 1\n",
    "                \n",
    "            if stop_counts >= EARLY_STOPPING_STEPS:\n",
    "                break\n",
    "        \n",
    "        pred_model = MoaModel(init_num, last_num)\n",
    "        pred_model.load_state_dict(torch.load('best-model-parameters.pt'))         \n",
    "        pred_model.eval()\n",
    "        \n",
    "        # validation check ----------------\n",
    "        oof_epoch = np.zeros([X_valid2.size(0), last_num])\n",
    "        target_epoch = np.zeros([X_valid2.size(0), last_num])\n",
    "        for i, (x_batch, y_batch) in enumerate(valid_loader): \n",
    "            y_pred = pred_model(x_batch).detach()\n",
    "            oof_epoch[i * batch_size:(i+1) * batch_size,:] = F.softmax(y_pred.cpu()) \n",
    "        oof[valid_index,:] = oof_epoch\n",
    "        #-----------------------------------\n",
    "        \n",
    "        # test predcition --------------\n",
    "        test_preds = np.zeros([test_len, last_num])\n",
    "        for i, (x_batch,) in enumerate(test_loader): \n",
    "            y_pred = pred_model(x_batch).detach()\n",
    "            test_preds[i * batch_size:(i+1) * batch_size, :] = F.softmax(y_pred.cpu()) \n",
    "        pred_value += test_preds / n_folds\n",
    "        # ------------------------------\n",
    "    \n",
    "    return oof, pred_value"
   ]
  },
  {
   "cell_type": "code",
   "execution_count": 16,
   "metadata": {
    "execution": {
     "iopub.execute_input": "2021-03-24T11:18:50.419344Z",
     "iopub.status.busy": "2021-03-24T11:18:50.418577Z",
     "iopub.status.idle": "2021-03-24T11:25:02.955942Z",
     "shell.execute_reply": "2021-03-24T11:25:02.954774Z"
    },
    "papermill": {
     "duration": 372.58467,
     "end_time": "2021-03-24T11:25:02.956075",
     "exception": false,
     "start_time": "2021-03-24T11:18:50.371405",
     "status": "completed"
    },
    "tags": []
   },
   "outputs": [
    {
     "name": "stdout",
     "output_type": "stream",
     "text": [
      "Seed 0_Fold 1\n",
      "Epoch 1  loss=4.01575  val_loss=3.34556  time=1.43s\n",
      "Epoch 2  loss=3.23968  val_loss=3.19645  time=0.84s\n",
      "Epoch 3  loss=3.09389  val_loss=3.13372  time=0.85s\n",
      "Epoch 4  loss=3.01580  val_loss=3.09864  time=0.85s\n",
      "Epoch 5  loss=2.93302  val_loss=3.02499  time=0.85s\n",
      "Epoch 6  loss=2.82352  val_loss=2.99378  time=0.97s\n",
      "Epoch 7  loss=2.68276  val_loss=2.96382  time=0.95s\n",
      "Epoch 8  loss=2.48420  val_loss=2.91642  time=0.89s\n",
      "Seed 0_Fold 2\n",
      "Epoch 1  loss=4.02648  val_loss=3.27061  time=0.84s\n",
      "Epoch 2  loss=3.25370  val_loss=3.09267  time=0.86s\n",
      "Epoch 3  loss=3.11123  val_loss=3.03394  time=0.84s\n",
      "Epoch 4  loss=3.03129  val_loss=3.00535  time=0.84s\n",
      "Epoch 5  loss=2.94985  val_loss=2.93242  time=0.84s\n",
      "Epoch 6  loss=2.84200  val_loss=2.90246  time=0.88s\n",
      "Epoch 7  loss=2.70030  val_loss=2.85700  time=1.06s\n",
      "Epoch 8  loss=2.48780  val_loss=2.83162  time=0.85s\n",
      "Epoch 9  loss=2.21096  val_loss=2.82899  time=0.91s\n",
      "Seed 0_Fold 3\n",
      "Epoch 1  loss=3.97721  val_loss=3.50129  time=0.85s\n",
      "Epoch 2  loss=3.23790  val_loss=3.22944  time=0.87s\n",
      "Epoch 3  loss=3.09034  val_loss=3.18456  time=0.87s\n",
      "Epoch 4  loss=3.00084  val_loss=3.12494  time=1.20s\n",
      "Epoch 5  loss=2.92082  val_loss=3.06029  time=0.86s\n",
      "Epoch 6  loss=2.81754  val_loss=3.03122  time=0.89s\n",
      "Epoch 7  loss=2.67779  val_loss=2.99666  time=0.88s\n",
      "Epoch 8  loss=2.47331  val_loss=2.98440  time=1.02s\n",
      "Seed 0_Fold 4\n",
      "Epoch 1  loss=3.97963  val_loss=3.53475  time=0.86s\n",
      "Epoch 2  loss=3.23716  val_loss=3.29655  time=0.84s\n",
      "Epoch 3  loss=3.09190  val_loss=3.21990  time=0.84s\n",
      "Epoch 4  loss=3.01895  val_loss=3.16369  time=0.85s\n",
      "Epoch 5  loss=2.92700  val_loss=3.12536  time=0.84s\n",
      "Epoch 6  loss=2.83067  val_loss=3.08859  time=0.87s\n",
      "Epoch 7  loss=2.67904  val_loss=3.06878  time=0.86s\n",
      "Epoch 8  loss=2.48760  val_loss=3.01565  time=0.96s\n",
      "Seed 0_Fold 5\n",
      "Epoch 1  loss=4.02902  val_loss=3.38582  time=0.98s\n",
      "Epoch 2  loss=3.25999  val_loss=3.16236  time=0.87s\n",
      "Epoch 3  loss=3.11843  val_loss=3.05237  time=0.87s\n",
      "Epoch 5  loss=2.94669  val_loss=2.96914  time=0.85s\n",
      "Epoch 6  loss=2.83709  val_loss=2.94563  time=0.85s\n",
      "Epoch 7  loss=2.69585  val_loss=2.89994  time=0.87s\n",
      "Epoch 8  loss=2.48375  val_loss=2.87968  time=0.87s\n",
      "Seed 0_Fold 6\n",
      "Epoch 1  loss=3.97474  val_loss=3.31482  time=0.89s\n",
      "Epoch 2  loss=3.25802  val_loss=3.11860  time=0.87s\n",
      "Epoch 3  loss=3.10698  val_loss=3.05600  time=0.89s\n",
      "Epoch 4  loss=3.02151  val_loss=3.03186  time=0.87s\n",
      "Epoch 5  loss=2.94828  val_loss=2.98298  time=1.17s\n",
      "Epoch 6  loss=2.83793  val_loss=2.93592  time=0.97s\n",
      "Epoch 7  loss=2.68008  val_loss=2.89398  time=0.90s\n",
      "Epoch 8  loss=2.48542  val_loss=2.84898  time=0.86s\n",
      "Seed 0_Fold 7\n",
      "Epoch 1  loss=3.99553  val_loss=3.36918  time=0.87s\n",
      "Epoch 2  loss=3.24715  val_loss=3.13841  time=0.86s\n",
      "Epoch 3  loss=3.10052  val_loss=3.07193  time=0.86s\n",
      "Epoch 4  loss=3.02114  val_loss=3.02364  time=0.85s\n",
      "Epoch 5  loss=2.93374  val_loss=2.98031  time=0.84s\n",
      "Epoch 6  loss=2.82292  val_loss=2.94327  time=0.84s\n",
      "Epoch 7  loss=2.68565  val_loss=2.89444  time=0.89s\n",
      "Seed 1_Fold 1\n",
      "Epoch 1  loss=4.00237  val_loss=3.31391  time=0.93s\n",
      "Epoch 2  loss=3.23474  val_loss=3.17219  time=0.90s\n",
      "Epoch 3  loss=3.10063  val_loss=3.12519  time=0.94s\n",
      "Epoch 4  loss=3.01445  val_loss=3.06917  time=0.90s\n",
      "Epoch 5  loss=2.92356  val_loss=3.02602  time=0.86s\n",
      "Epoch 6  loss=2.82911  val_loss=2.99032  time=0.88s\n",
      "Epoch 7  loss=2.67399  val_loss=2.97234  time=0.87s\n",
      "Epoch 8  loss=2.46787  val_loss=2.92687  time=0.85s\n",
      "Seed 1_Fold 2\n",
      "Epoch 1  loss=4.01797  val_loss=3.24259  time=0.85s\n",
      "Epoch 2  loss=3.25660  val_loss=3.09878  time=0.85s\n",
      "Epoch 3  loss=3.10982  val_loss=3.01245  time=0.87s\n",
      "Epoch 4  loss=3.03048  val_loss=2.98125  time=0.89s\n",
      "Epoch 5  loss=2.94984  val_loss=2.95900  time=1.08s\n",
      "Epoch 6  loss=2.84301  val_loss=2.89221  time=1.00s\n",
      "Epoch 7  loss=2.70617  val_loss=2.84876  time=0.86s\n",
      "Epoch 8  loss=2.49567  val_loss=2.81587  time=0.89s\n",
      "Seed 1_Fold 3\n",
      "Epoch 1  loss=3.99542  val_loss=3.36922  time=0.86s\n",
      "Epoch 2  loss=3.23762  val_loss=3.23635  time=0.87s\n",
      "Epoch 3  loss=3.08261  val_loss=3.16775  time=0.87s\n",
      "Epoch 4  loss=3.01501  val_loss=3.14444  time=0.84s\n",
      "Epoch 5  loss=2.92698  val_loss=3.09130  time=0.88s\n",
      "Epoch 6  loss=2.82142  val_loss=3.05139  time=0.89s\n",
      "Epoch 7  loss=2.68123  val_loss=2.99987  time=0.86s\n",
      "Epoch 8  loss=2.46818  val_loss=2.98028  time=0.88s\n",
      "Seed 1_Fold 4\n",
      "Epoch 1  loss=3.97929  val_loss=3.48557  time=0.98s\n",
      "Epoch 2  loss=3.22548  val_loss=3.26691  time=0.86s\n",
      "Epoch 3  loss=3.08973  val_loss=3.23242  time=0.86s\n",
      "Epoch 4  loss=3.00460  val_loss=3.17855  time=0.85s\n",
      "Epoch 5  loss=2.92238  val_loss=3.13450  time=0.84s\n",
      "Epoch 6  loss=2.82229  val_loss=3.08435  time=0.85s\n",
      "Epoch 7  loss=2.68290  val_loss=3.03888  time=0.87s\n",
      "Epoch 8  loss=2.48302  val_loss=3.00420  time=0.86s\n",
      "Seed 1_Fold 5\n",
      "Epoch 1  loss=3.99571  val_loss=3.35614  time=1.06s\n",
      "Epoch 2  loss=3.24873  val_loss=3.12557  time=0.88s\n",
      "Epoch 3  loss=3.10808  val_loss=3.12068  time=0.88s\n",
      "Epoch 4  loss=3.01907  val_loss=3.00396  time=0.89s\n",
      "Epoch 5  loss=2.93634  val_loss=2.95450  time=0.88s\n",
      "Epoch 6  loss=2.83007  val_loss=2.93138  time=1.20s\n",
      "Epoch 7  loss=2.67586  val_loss=2.88814  time=0.85s\n",
      "Epoch 8  loss=2.46775  val_loss=2.86265  time=0.89s\n",
      "Seed 1_Fold 6\n",
      "Epoch 1  loss=4.00448  val_loss=3.49643  time=0.88s\n",
      "Epoch 2  loss=3.25384  val_loss=3.13204  time=1.01s\n",
      "Epoch 3  loss=3.11284  val_loss=3.07371  time=0.86s\n",
      "Epoch 4  loss=3.02220  val_loss=3.00921  time=0.86s\n",
      "Epoch 5  loss=2.93495  val_loss=3.00111  time=0.88s\n",
      "Epoch 6  loss=2.83403  val_loss=2.94731  time=0.86s\n",
      "Epoch 7  loss=2.69536  val_loss=2.88585  time=0.84s\n",
      "Epoch 8  loss=2.47550  val_loss=2.84586  time=0.86s\n",
      "Seed 1_Fold 7\n",
      "Epoch 1  loss=3.98481  val_loss=3.28093  time=0.87s\n",
      "Epoch 2  loss=3.23573  val_loss=3.17697  time=0.92s\n",
      "Epoch 3  loss=3.11200  val_loss=3.08353  time=0.98s\n",
      "Epoch 4  loss=3.02294  val_loss=3.03706  time=0.85s\n",
      "Epoch 5  loss=2.94149  val_loss=2.96858  time=0.90s\n",
      "Epoch 6  loss=2.83715  val_loss=2.91160  time=0.84s\n",
      "Epoch 7  loss=2.69398  val_loss=2.88036  time=0.84s\n",
      "Epoch 8  loss=2.48894  val_loss=2.86886  time=0.88s\n",
      "Seed 2_Fold 1\n",
      "Epoch 1  loss=3.99015  val_loss=3.59119  time=0.87s\n",
      "Epoch 2  loss=3.23554  val_loss=3.19748  time=0.92s\n",
      "Epoch 3  loss=3.10261  val_loss=3.13006  time=1.08s\n",
      "Epoch 4  loss=3.01019  val_loss=3.09689  time=0.89s\n",
      "Epoch 5  loss=2.92698  val_loss=3.05966  time=0.86s\n",
      "Epoch 6  loss=2.82581  val_loss=2.99272  time=1.06s\n",
      "Epoch 7  loss=2.67925  val_loss=2.96075  time=0.97s\n",
      "Epoch 8  loss=2.47652  val_loss=2.91847  time=0.84s\n",
      "Seed 2_Fold 2\n",
      "Epoch 1  loss=4.02061  val_loss=3.27087  time=0.85s\n",
      "Epoch 2  loss=3.23963  val_loss=3.09657  time=0.85s\n",
      "Epoch 3  loss=3.11217  val_loss=3.00764  time=0.84s\n",
      "Epoch 4  loss=3.03287  val_loss=2.99568  time=1.09s\n",
      "Epoch 5  loss=2.94155  val_loss=2.93698  time=0.84s\n",
      "Epoch 6  loss=2.84003  val_loss=2.90541  time=0.87s\n",
      "Epoch 7  loss=2.69589  val_loss=2.85547  time=0.87s\n",
      "Epoch 8  loss=2.47866  val_loss=2.84455  time=0.89s\n",
      "Epoch 9  loss=2.20541  val_loss=2.83876  time=0.86s\n",
      "Seed 2_Fold 3\n",
      "Epoch 1  loss=3.97256  val_loss=3.41602  time=0.85s\n",
      "Epoch 2  loss=3.23315  val_loss=3.20168  time=0.89s\n",
      "Epoch 3  loss=3.08761  val_loss=3.19514  time=0.86s\n",
      "Epoch 4  loss=3.00318  val_loss=3.14247  time=1.05s\n",
      "Epoch 5  loss=2.91223  val_loss=3.08348  time=0.85s\n",
      "Epoch 6  loss=2.80995  val_loss=3.03018  time=0.89s\n",
      "Epoch 7  loss=2.67062  val_loss=2.97856  time=0.87s\n",
      "Seed 2_Fold 4\n",
      "Epoch 1  loss=4.02392  val_loss=3.59738  time=0.89s\n",
      "Epoch 2  loss=3.22111  val_loss=3.28633  time=0.85s\n",
      "Epoch 3  loss=3.08326  val_loss=3.21886  time=0.87s\n",
      "Epoch 4  loss=3.00835  val_loss=3.19489  time=0.87s\n",
      "Epoch 5  loss=2.91385  val_loss=3.14009  time=1.09s\n",
      "Epoch 6  loss=2.82265  val_loss=3.04874  time=1.08s\n",
      "Epoch 7  loss=2.67876  val_loss=3.02489  time=1.00s\n",
      "Epoch 8  loss=2.47199  val_loss=2.99771  time=0.84s\n",
      "Seed 2_Fold 5\n",
      "Epoch 1  loss=3.98734  val_loss=3.35542  time=0.86s\n",
      "Epoch 2  loss=3.25583  val_loss=3.13923  time=0.90s\n",
      "Epoch 3  loss=3.10316  val_loss=3.06027  time=0.89s\n",
      "Epoch 5  loss=2.94505  val_loss=2.97494  time=0.99s\n",
      "Epoch 6  loss=2.83679  val_loss=2.94708  time=0.92s\n",
      "Epoch 7  loss=2.69610  val_loss=2.88786  time=0.89s\n",
      "Epoch 8  loss=2.48541  val_loss=2.85769  time=0.85s\n",
      "Seed 2_Fold 6\n",
      "Epoch 1  loss=3.94231  val_loss=3.54252  time=0.85s\n",
      "Epoch 2  loss=3.25398  val_loss=3.15767  time=0.85s\n",
      "Epoch 3  loss=3.10768  val_loss=3.07333  time=0.86s\n",
      "Epoch 4  loss=3.03001  val_loss=3.02576  time=0.85s\n",
      "Epoch 5  loss=2.94740  val_loss=2.96268  time=0.86s\n",
      "Epoch 6  loss=2.83852  val_loss=2.93915  time=1.04s\n",
      "Epoch 7  loss=2.69834  val_loss=2.88959  time=0.88s\n",
      "Epoch 8  loss=2.48840  val_loss=2.85244  time=0.86s\n",
      "Seed 2_Fold 7\n",
      "Epoch 1  loss=3.98446  val_loss=3.33736  time=0.89s\n",
      "Epoch 2  loss=3.25676  val_loss=3.16937  time=0.85s\n",
      "Epoch 3  loss=3.10750  val_loss=3.06061  time=0.85s\n",
      "Epoch 4  loss=3.02840  val_loss=3.04209  time=0.85s\n",
      "Epoch 5  loss=2.94725  val_loss=2.96911  time=0.88s\n",
      "Epoch 6  loss=2.83920  val_loss=2.93714  time=0.86s\n",
      "Epoch 7  loss=2.70522  val_loss=2.91698  time=1.51s\n",
      "Epoch 8  loss=2.49979  val_loss=2.88234  time=0.93s\n",
      "Seed 3_Fold 1\n",
      "Epoch 1  loss=3.99557  val_loss=3.38740  time=0.88s\n",
      "Epoch 2  loss=3.23911  val_loss=3.17892  time=0.84s\n",
      "Epoch 4  loss=3.01981  val_loss=3.09040  time=0.86s\n",
      "Epoch 5  loss=2.93527  val_loss=3.00877  time=0.88s\n",
      "Epoch 7  loss=2.68868  val_loss=2.95439  time=1.12s\n",
      "Epoch 8  loss=2.48488  val_loss=2.92592  time=0.91s\n",
      "Seed 3_Fold 2\n",
      "Epoch 1  loss=4.02061  val_loss=3.29743  time=0.84s\n",
      "Epoch 2  loss=3.25560  val_loss=3.07242  time=0.87s\n",
      "Epoch 3  loss=3.11938  val_loss=3.04586  time=0.87s\n",
      "Epoch 4  loss=3.03152  val_loss=2.98965  time=0.85s\n",
      "Epoch 5  loss=2.94926  val_loss=2.93474  time=0.88s\n",
      "Epoch 6  loss=2.84779  val_loss=2.89283  time=0.85s\n",
      "Epoch 7  loss=2.71149  val_loss=2.85680  time=1.09s\n",
      "Epoch 8  loss=2.49213  val_loss=2.80971  time=0.88s\n",
      "Seed 3_Fold 3\n",
      "Epoch 1  loss=3.99827  val_loss=3.45390  time=0.89s\n",
      "Epoch 2  loss=3.23309  val_loss=3.23087  time=0.86s\n",
      "Epoch 3  loss=3.09005  val_loss=3.17212  time=0.85s\n",
      "Epoch 4  loss=3.00616  val_loss=3.11796  time=0.85s\n",
      "Epoch 5  loss=2.92962  val_loss=3.05164  time=0.89s\n",
      "Epoch 6  loss=2.82777  val_loss=3.04640  time=0.89s\n",
      "Epoch 7  loss=2.69120  val_loss=3.01549  time=1.01s\n",
      "Epoch 8  loss=2.48180  val_loss=2.98949  time=1.36s\n",
      "Seed 3_Fold 4\n",
      "Epoch 1  loss=3.99030  val_loss=3.49666  time=0.86s\n",
      "Epoch 2  loss=3.21409  val_loss=3.25318  time=0.87s\n",
      "Epoch 3  loss=3.08767  val_loss=3.21791  time=0.87s\n",
      "Epoch 4  loss=2.99960  val_loss=3.17035  time=0.83s\n",
      "Epoch 5  loss=2.89984  val_loss=3.14996  time=0.84s\n",
      "Epoch 6  loss=2.81862  val_loss=3.04255  time=0.85s\n",
      "Epoch 7  loss=2.67029  val_loss=3.02952  time=0.85s\n",
      "Epoch 8  loss=2.45311  val_loss=3.00495  time=1.08s\n",
      "Seed 3_Fold 5\n",
      "Epoch 1  loss=3.99202  val_loss=3.29369  time=0.86s\n",
      "Epoch 2  loss=3.24117  val_loss=3.11647  time=0.85s\n",
      "Epoch 3  loss=3.10282  val_loss=3.06832  time=0.89s\n",
      "Epoch 4  loss=3.02188  val_loss=3.01085  time=0.87s\n",
      "Epoch 5  loss=2.92651  val_loss=2.97980  time=0.86s\n",
      "Epoch 6  loss=2.83512  val_loss=2.93513  time=0.84s\n",
      "Epoch 7  loss=2.68239  val_loss=2.89167  time=0.85s\n",
      "Epoch 8  loss=2.46924  val_loss=2.88609  time=0.84s\n",
      "Seed 3_Fold 6\n",
      "Epoch 1  loss=3.97342  val_loss=3.34230  time=0.91s\n",
      "Epoch 2  loss=3.24257  val_loss=3.11192  time=0.84s\n",
      "Epoch 3  loss=3.10556  val_loss=3.05355  time=0.88s\n",
      "Epoch 4  loss=3.01256  val_loss=3.02507  time=0.84s\n",
      "Epoch 5  loss=2.93714  val_loss=2.95467  time=0.84s\n",
      "Epoch 6  loss=2.83262  val_loss=2.90278  time=0.87s\n",
      "Epoch 7  loss=2.69092  val_loss=2.86486  time=0.85s\n",
      "Epoch 8  loss=2.47636  val_loss=2.84002  time=1.24s\n",
      "Seed 3_Fold 7\n",
      "Epoch 1  loss=4.00395  val_loss=3.38608  time=1.01s\n",
      "Epoch 2  loss=3.24438  val_loss=3.12779  time=0.88s\n",
      "Epoch 3  loss=3.10005  val_loss=3.06326  time=0.87s\n",
      "Epoch 4  loss=3.01313  val_loss=3.03945  time=0.88s\n",
      "Epoch 5  loss=2.93892  val_loss=2.97737  time=0.87s\n",
      "Epoch 6  loss=2.82916  val_loss=2.93319  time=0.89s\n",
      "Epoch 7  loss=2.68292  val_loss=2.87894  time=0.87s\n",
      "Seed 4_Fold 1\n",
      "Epoch 1  loss=3.98184  val_loss=3.74484  time=0.87s\n",
      "Epoch 2  loss=3.24672  val_loss=3.19752  time=0.90s\n",
      "Epoch 3  loss=3.10377  val_loss=3.13174  time=0.85s\n",
      "Epoch 4  loss=3.01185  val_loss=3.07340  time=0.86s\n",
      "Epoch 5  loss=2.92827  val_loss=3.03308  time=0.85s\n",
      "Epoch 6  loss=2.83500  val_loss=2.99645  time=0.86s\n",
      "Epoch 7  loss=2.68576  val_loss=2.95347  time=0.86s\n",
      "Epoch 8  loss=2.48760  val_loss=2.91925  time=0.88s\n",
      "Seed 4_Fold 2\n",
      "Epoch 1  loss=4.02620  val_loss=3.38674  time=0.98s\n",
      "Epoch 2  loss=3.24853  val_loss=3.10093  time=0.91s\n",
      "Epoch 3  loss=3.11218  val_loss=3.02213  time=0.89s\n",
      "Epoch 4  loss=3.02635  val_loss=2.97194  time=0.92s\n",
      "Epoch 5  loss=2.94384  val_loss=2.92856  time=0.91s\n",
      "Epoch 6  loss=2.84526  val_loss=2.89213  time=0.89s\n",
      "Epoch 7  loss=2.70602  val_loss=2.85644  time=0.87s\n",
      "Epoch 8  loss=2.49893  val_loss=2.81523  time=1.25s\n",
      "Seed 4_Fold 3\n",
      "Epoch 1  loss=3.98081  val_loss=3.39603  time=0.86s\n",
      "Epoch 2  loss=3.23360  val_loss=3.23894  time=0.90s\n",
      "Epoch 3  loss=3.09695  val_loss=3.18905  time=0.86s\n",
      "Epoch 4  loss=3.00811  val_loss=3.11737  time=0.89s\n",
      "Epoch 5  loss=2.93111  val_loss=3.09107  time=0.88s\n",
      "Epoch 6  loss=2.82379  val_loss=3.03798  time=0.89s\n",
      "Epoch 7  loss=2.68819  val_loss=2.98144  time=0.85s\n",
      "Epoch 8  loss=2.48122  val_loss=2.96723  time=0.93s\n",
      "Seed 4_Fold 4\n",
      "Epoch 1  loss=3.95924  val_loss=3.47683  time=0.89s\n",
      "Epoch 2  loss=3.22788  val_loss=3.26929  time=0.87s\n",
      "Epoch 3  loss=3.08368  val_loss=3.23631  time=0.85s\n",
      "Epoch 4  loss=2.99528  val_loss=3.16630  time=0.86s\n",
      "Epoch 5  loss=2.91933  val_loss=3.11874  time=0.88s\n",
      "Epoch 6  loss=2.81695  val_loss=3.08963  time=0.85s\n",
      "Epoch 7  loss=2.67213  val_loss=3.03753  time=0.88s\n",
      "Epoch 8  loss=2.47788  val_loss=3.01659  time=0.89s\n",
      "Seed 4_Fold 5\n",
      "Epoch 1  loss=4.00400  val_loss=3.38078  time=0.93s\n",
      "Epoch 2  loss=3.25756  val_loss=3.14106  time=0.85s\n",
      "Epoch 3  loss=3.10985  val_loss=3.04899  time=0.85s\n",
      "Epoch 4  loss=3.02672  val_loss=3.04865  time=0.89s\n",
      "Epoch 5  loss=2.94125  val_loss=2.98437  time=0.85s\n",
      "Epoch 6  loss=2.83824  val_loss=2.95544  time=0.86s\n",
      "Epoch 7  loss=2.71180  val_loss=2.89641  time=0.89s\n",
      "Epoch 8  loss=2.50292  val_loss=2.86545  time=1.18s\n",
      "Seed 4_Fold 6\n",
      "Epoch 1  loss=4.00782  val_loss=3.33542  time=0.87s\n",
      "Epoch 2  loss=3.24452  val_loss=3.11549  time=0.86s\n",
      "Epoch 3  loss=3.11070  val_loss=3.02733  time=0.87s\n",
      "Epoch 5  loss=2.93310  val_loss=2.98256  time=0.84s\n",
      "Epoch 6  loss=2.82999  val_loss=2.93052  time=0.84s\n",
      "Epoch 7  loss=2.69210  val_loss=2.87392  time=0.88s\n",
      "Epoch 9  loss=2.19766  val_loss=2.87256  time=0.85s\n",
      "Seed 4_Fold 7\n",
      "Epoch 1  loss=4.03890  val_loss=3.30562  time=1.05s\n",
      "Epoch 2  loss=3.24081  val_loss=3.16125  time=0.90s\n",
      "Epoch 3  loss=3.11242  val_loss=3.07160  time=0.86s\n",
      "Epoch 4  loss=3.00895  val_loss=3.06648  time=0.85s\n",
      "Epoch 5  loss=2.93146  val_loss=2.98283  time=0.85s\n",
      "Epoch 6  loss=2.83374  val_loss=2.91467  time=0.86s\n",
      "Epoch 7  loss=2.68396  val_loss=2.91249  time=0.85s\n",
      "Epoch 8  loss=2.46540  val_loss=2.89611  time=0.85s\n"
     ]
    }
   ],
   "source": [
    "seeds = [0,1,2,3,4]\n",
    "target_oof = np.zeros([len(fn_train), class_num])\n",
    "target_pred = np.zeros([len(fn_test), class_num])\n",
    "\n",
    "for seed_ in seeds:\n",
    "    best_oof, pytorch_pred = modelling_torch(fn_train, fn_multiclass_targets, fn_test, seed_, fn_train.shape[1], class_num)\n",
    "    target_oof += best_oof / len(seeds)\n",
    "    target_pred += pytorch_pred / len(seeds)"
   ]
  },
  {
   "cell_type": "code",
   "execution_count": 17,
   "metadata": {
    "execution": {
     "iopub.execute_input": "2021-03-24T11:25:03.168040Z",
     "iopub.status.busy": "2021-03-24T11:25:03.167463Z",
     "iopub.status.idle": "2021-03-24T11:25:03.233718Z",
     "shell.execute_reply": "2021-03-24T11:25:03.233243Z"
    },
    "papermill": {
     "duration": 0.177943,
     "end_time": "2021-03-24T11:25:03.233813",
     "exception": false,
     "start_time": "2021-03-24T11:25:03.055870",
     "status": "completed"
    },
    "tags": []
   },
   "outputs": [],
   "source": [
    "target_oof = np.dot(target_oof, classid_target)\n",
    "target_pred = np.dot(target_pred, classid_target)"
   ]
  },
  {
   "cell_type": "code",
   "execution_count": 18,
   "metadata": {
    "execution": {
     "iopub.execute_input": "2021-03-24T11:25:03.446374Z",
     "iopub.status.busy": "2021-03-24T11:25:03.445591Z",
     "iopub.status.idle": "2021-03-24T11:25:09.401568Z",
     "shell.execute_reply": "2021-03-24T11:25:09.402205Z"
    },
    "papermill": {
     "duration": 6.068097,
     "end_time": "2021-03-24T11:25:09.402380",
     "exception": false,
     "start_time": "2021-03-24T11:25:03.334283",
     "status": "completed"
    },
    "tags": []
   },
   "outputs": [
    {
     "name": "stdout",
     "output_type": "stream",
     "text": [
      "OOF log loss:  0.01449598959310228\n"
     ]
    }
   ],
   "source": [
    "t = pd.read_csv(DATA_DIR + 'train_targets_scored.csv')\n",
    "train_checkscore = t.copy()\n",
    "train_checkscore.loc[train_checkscore.index.isin(cons_train_index),target_feats] = np.clip(target_oof, p_min, p_max)\n",
    "train_checkscore.loc[train_checkscore.index.isin(noncons_train_index),target_feats] = 0\n",
    "t.drop(\"sig_id\", axis=1, inplace=True)\n",
    "print('OOF log loss: ', log_loss(np.ravel(t), np.ravel(np.array(train_checkscore.iloc[:,1:]))))"
   ]
  },
  {
   "cell_type": "code",
   "execution_count": 19,
   "metadata": {
    "execution": {
     "iopub.execute_input": "2021-03-24T11:25:09.609010Z",
     "iopub.status.busy": "2021-03-24T11:25:09.608255Z",
     "iopub.status.idle": "2021-03-24T11:25:18.008166Z",
     "shell.execute_reply": "2021-03-24T11:25:18.007102Z"
    },
    "papermill": {
     "duration": 8.504663,
     "end_time": "2021-03-24T11:25:18.008287",
     "exception": false,
     "start_time": "2021-03-24T11:25:09.503624",
     "status": "completed"
    },
    "tags": []
   },
   "outputs": [],
   "source": [
    "train_checkscore.to_csv(\"mlp_oof.csv\", index=False)"
   ]
  },
  {
   "cell_type": "code",
   "execution_count": 20,
   "metadata": {
    "execution": {
     "iopub.execute_input": "2021-03-24T11:25:18.216184Z",
     "iopub.status.busy": "2021-03-24T11:25:18.215357Z",
     "iopub.status.idle": "2021-03-24T11:25:19.929186Z",
     "shell.execute_reply": "2021-03-24T11:25:19.928644Z"
    },
    "papermill": {
     "duration": 1.819835,
     "end_time": "2021-03-24T11:25:19.929293",
     "exception": false,
     "start_time": "2021-03-24T11:25:18.109458",
     "status": "completed"
    },
    "tags": []
   },
   "outputs": [],
   "source": [
    "sub.loc[cons_test_index,target_feats] = np.clip(target_pred, p_min, p_max)\n",
    "sub.loc[noncons_test_index,target_feats] = 0\n",
    "sub.to_csv('submission.csv', index=False)"
   ]
  },
  {
   "cell_type": "code",
   "execution_count": null,
   "metadata": {
    "papermill": {
     "duration": 0.100829,
     "end_time": "2021-03-24T11:25:20.131030",
     "exception": false,
     "start_time": "2021-03-24T11:25:20.030201",
     "status": "completed"
    },
    "tags": []
   },
   "outputs": [],
   "source": []
  }
 ],
 "metadata": {
  "kernelspec": {
   "display_name": "Python 3",
   "language": "python",
   "name": "python3"
  },
  "language_info": {
   "codemirror_mode": {
    "name": "ipython",
    "version": 3
   },
   "file_extension": ".py",
   "mimetype": "text/x-python",
   "name": "python",
   "nbconvert_exporter": "python",
   "pygments_lexer": "ipython3",
   "version": "3.7.6"
  },
  "papermill": {
   "duration": 432.530924,
   "end_time": "2021-03-24T11:25:20.739980",
   "environment_variables": {},
   "exception": null,
   "input_path": "__notebook__.ipynb",
   "output_path": "__notebook__.ipynb",
   "parameters": {},
   "start_time": "2021-03-24T11:18:08.209056",
   "version": "2.1.0"
  }
 },
 "nbformat": 4,
 "nbformat_minor": 4
}
