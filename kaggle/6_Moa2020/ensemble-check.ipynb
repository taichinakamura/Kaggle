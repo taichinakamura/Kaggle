{
 "cells": [
  {
   "cell_type": "code",
   "execution_count": 1,
   "metadata": {
    "_cell_guid": "b1076dfc-b9ad-4769-8c92-a6c4dae69d19",
    "_uuid": "8f2839f25d086af736a60e9eeb907d3b93b6e0e5",
    "execution": {
     "iopub.execute_input": "2020-11-06T23:24:36.913735Z",
     "iopub.status.busy": "2020-11-06T23:24:36.906489Z",
     "iopub.status.idle": "2020-11-06T23:24:37.932357Z",
     "shell.execute_reply": "2020-11-06T23:24:37.931619Z"
    },
    "papermill": {
     "duration": 1.035124,
     "end_time": "2020-11-06T23:24:37.932522",
     "exception": false,
     "start_time": "2020-11-06T23:24:36.897398",
     "status": "completed"
    },
    "tags": []
   },
   "outputs": [],
   "source": [
    "import pandas as pd\n",
    "DIR = \"../input/moa-ensemble-check/\"\n",
    "mlp = pd.read_csv(DIR+\"mlp1840.csv\")\n",
    "tab = pd.read_csv(DIR+\"sub_tab1859.csv\")\n",
    "xgb = pd.read_csv(DIR+\"xgb1951.csv\")"
   ]
  },
  {
   "cell_type": "code",
   "execution_count": 2,
   "metadata": {
    "_cell_guid": "79c7e3d0-c299-4dcb-8224-4455121ee9b0",
    "_uuid": "d629ff2d2480ee46fbb7e2d37f6b5fab8052498a",
    "execution": {
     "iopub.execute_input": "2020-11-06T23:24:37.955977Z",
     "iopub.status.busy": "2020-11-06T23:24:37.955174Z",
     "iopub.status.idle": "2020-11-06T23:24:38.527123Z",
     "shell.execute_reply": "2020-11-06T23:24:38.526359Z"
    },
    "papermill": {
     "duration": 0.5882,
     "end_time": "2020-11-06T23:24:38.527250",
     "exception": false,
     "start_time": "2020-11-06T23:24:37.939050",
     "status": "completed"
    },
    "tags": []
   },
   "outputs": [
    {
     "name": "stdout",
     "output_type": "stream",
     "text": [
      "0.9999999791302244 0.030860694801952644 0.6116583825780203 0.23744212858294525\n",
      "0.9985353880543508 0.3700866219600505 0.8051177238773994 0.11991313184938018\n",
      "0.9965936610503259 0.06435090171801035 0.5870370216863928 0.18436435223596784\n"
     ]
    }
   ],
   "source": [
    "print(mlp.corrwith(xgb).max(), mlp.corrwith(xgb).min(), mlp.corrwith(xgb).mean(), mlp.corrwith(xgb).std())\n",
    "print(mlp.corrwith(tab).max(), mlp.corrwith(tab).min(), mlp.corrwith(tab).mean(), mlp.corrwith(tab).std())\n",
    "print(xgb.corrwith(tab).max(), xgb.corrwith(tab).min(), xgb.corrwith(tab).mean(), xgb.corrwith(tab).std())"
   ]
  },
  {
   "cell_type": "code",
   "execution_count": null,
   "metadata": {
    "papermill": {
     "duration": 0.004746,
     "end_time": "2020-11-06T23:24:38.537362",
     "exception": false,
     "start_time": "2020-11-06T23:24:38.532616",
     "status": "completed"
    },
    "tags": []
   },
   "outputs": [],
   "source": []
  }
 ],
 "metadata": {
  "kernelspec": {
   "display_name": "Python 3",
   "language": "python",
   "name": "python3"
  },
  "language_info": {
   "codemirror_mode": {
    "name": "ipython",
    "version": 3
   },
   "file_extension": ".py",
   "mimetype": "text/x-python",
   "name": "python",
   "nbconvert_exporter": "python",
   "pygments_lexer": "ipython3",
   "version": "3.7.6"
  },
  "papermill": {
   "duration": 6.886099,
   "end_time": "2020-11-06T23:24:38.651322",
   "environment_variables": {},
   "exception": null,
   "input_path": "__notebook__.ipynb",
   "output_path": "__notebook__.ipynb",
   "parameters": {},
   "start_time": "2020-11-06T23:24:31.765223",
   "version": "2.1.0"
  }
 },
 "nbformat": 4,
 "nbformat_minor": 4
}
