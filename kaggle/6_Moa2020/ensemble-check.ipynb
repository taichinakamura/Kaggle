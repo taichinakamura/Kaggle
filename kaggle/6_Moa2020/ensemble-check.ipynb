{
 "cells": [
  {
   "cell_type": "code",
   "execution_count": 1,
   "metadata": {
    "_cell_guid": "b1076dfc-b9ad-4769-8c92-a6c4dae69d19",
    "_uuid": "8f2839f25d086af736a60e9eeb907d3b93b6e0e5",
    "execution": {
     "iopub.execute_input": "2020-11-10T00:06:31.639347Z",
     "iopub.status.busy": "2020-11-10T00:06:31.638558Z",
     "iopub.status.idle": "2020-11-10T00:06:43.679340Z",
     "shell.execute_reply": "2020-11-10T00:06:43.678626Z"
    },
    "papermill": {
     "duration": 12.070744,
     "end_time": "2020-11-10T00:06:43.679469",
     "exception": false,
     "start_time": "2020-11-10T00:06:31.608725",
     "status": "completed"
    },
    "tags": []
   },
   "outputs": [],
   "source": [
    "import sys\n",
    "sys.path.append('../input/multilabelstraifier/')\n",
    "from ml_stratifiers import MultilabelStratifiedKFold\n",
    "\n",
    "import pandas as pd\n",
    "import numpy as np\n",
    "from sklearn.metrics import log_loss\n",
    "import matplotlib.pyplot as plt\n",
    "from sklearn.metrics import log_loss\n",
    "DIR = \"../input/moa-ensemble-check/\"\n",
    "check_mlp = pd.read_csv(DIR+\"mlp_oof2.csv\")\n",
    "check_tabnet_val = pd.read_csv(DIR+\"tab_newval_oof.csv\").drop(\"sig_id\", axis=1)\n",
    "check_svm = pd.read_csv(DIR+\"svm_newval_oof.csv\")\n",
    "check_lstm = pd.read_csv(DIR+\"lstm_newval_oof.csv\").drop(\"sig_id\", axis=1)\n",
    "\n",
    "y = pd.read_csv('../input/lish-moa/train_targets_scored.csv')\n",
    "targets = pd.read_csv('../input/lish-moa/train_targets_scored.csv').drop(\"sig_id\", axis=1)\n",
    "train = pd.read_csv('../input/lish-moa/train_features.csv')\n",
    "drug = pd.read_csv('../input/lish-moa/train_drug.csv')\n",
    "\n",
    "#mlp = pd.read_csv(DIR+\"mlp1840.csv\")\n",
    "#check_tabnet = pd.read_csv(DIR+\"tab_oof2.csv\")\n",
    "#tab = pd.read_csv(DIR+\"sub_tab1859.csv\")\n",
    "#xgb = pd.read_csv(DIR+\"xgb1951.csv\")\n",
    "#check_xgb = pd.read_csv(DIR+\"xgb_oof.csv\")"
   ]
  },
  {
   "cell_type": "code",
   "execution_count": 2,
   "metadata": {
    "execution": {
     "iopub.execute_input": "2020-11-10T00:06:43.725640Z",
     "iopub.status.busy": "2020-11-10T00:06:43.724949Z",
     "iopub.status.idle": "2020-11-10T00:06:43.836367Z",
     "shell.execute_reply": "2020-11-10T00:06:43.835752Z"
    },
    "papermill": {
     "duration": 0.137141,
     "end_time": "2020-11-10T00:06:43.836497",
     "exception": false,
     "start_time": "2020-11-10T00:06:43.699356",
     "status": "completed"
    },
    "tags": []
   },
   "outputs": [],
   "source": [
    "cons_train_index = train[train.cp_type!=\"ctl_vehicle\"].index"
   ]
  },
  {
   "cell_type": "code",
   "execution_count": 3,
   "metadata": {
    "execution": {
     "iopub.execute_input": "2020-11-10T00:06:43.885402Z",
     "iopub.status.busy": "2020-11-10T00:06:43.884135Z",
     "iopub.status.idle": "2020-11-10T00:06:43.900443Z",
     "shell.execute_reply": "2020-11-10T00:06:43.899746Z"
    },
    "papermill": {
     "duration": 0.044876,
     "end_time": "2020-11-10T00:06:43.900560",
     "exception": false,
     "start_time": "2020-11-10T00:06:43.855684",
     "status": "completed"
    },
    "tags": []
   },
   "outputs": [],
   "source": [
    "y = y.loc[y.index.isin(cons_train_index),:]"
   ]
  },
  {
   "cell_type": "code",
   "execution_count": 4,
   "metadata": {
    "execution": {
     "iopub.execute_input": "2020-11-10T00:06:43.944543Z",
     "iopub.status.busy": "2020-11-10T00:06:43.943843Z",
     "iopub.status.idle": "2020-11-10T00:06:45.778290Z",
     "shell.execute_reply": "2020-11-10T00:06:45.778791Z"
    },
    "papermill": {
     "duration": 1.858997,
     "end_time": "2020-11-10T00:06:45.778936",
     "exception": false,
     "start_time": "2020-11-10T00:06:43.919939",
     "status": "completed"
    },
    "tags": []
   },
   "outputs": [
    {
     "data": {
      "text/html": [
       "<div>\n",
       "<style scoped>\n",
       "    .dataframe tbody tr th:only-of-type {\n",
       "        vertical-align: middle;\n",
       "    }\n",
       "\n",
       "    .dataframe tbody tr th {\n",
       "        vertical-align: top;\n",
       "    }\n",
       "\n",
       "    .dataframe thead th {\n",
       "        text-align: right;\n",
       "    }\n",
       "</style>\n",
       "<table border=\"1\" class=\"dataframe\">\n",
       "  <thead>\n",
       "    <tr style=\"text-align: right;\">\n",
       "      <th></th>\n",
       "      <th>5-alpha_reductase_inhibitor</th>\n",
       "      <th>11-beta-hsd1_inhibitor</th>\n",
       "      <th>acat_inhibitor</th>\n",
       "      <th>acetylcholine_receptor_agonist</th>\n",
       "      <th>acetylcholine_receptor_antagonist</th>\n",
       "      <th>acetylcholinesterase_inhibitor</th>\n",
       "      <th>adenosine_receptor_agonist</th>\n",
       "      <th>adenosine_receptor_antagonist</th>\n",
       "      <th>adenylyl_cyclase_activator</th>\n",
       "      <th>adrenergic_receptor_agonist</th>\n",
       "      <th>...</th>\n",
       "      <th>tropomyosin_receptor_kinase_inhibitor</th>\n",
       "      <th>trpv_agonist</th>\n",
       "      <th>trpv_antagonist</th>\n",
       "      <th>tubulin_inhibitor</th>\n",
       "      <th>tyrosine_kinase_inhibitor</th>\n",
       "      <th>ubiquitin_specific_protease_inhibitor</th>\n",
       "      <th>vegfr_inhibitor</th>\n",
       "      <th>vitamin_b</th>\n",
       "      <th>vitamin_d_receptor_agonist</th>\n",
       "      <th>wnt_inhibitor</th>\n",
       "    </tr>\n",
       "  </thead>\n",
       "  <tbody>\n",
       "    <tr>\n",
       "      <th>5-alpha_reductase_inhibitor</th>\n",
       "      <td>1.000000</td>\n",
       "      <td>0.000798</td>\n",
       "      <td>0.000921</td>\n",
       "      <td>0.002602</td>\n",
       "      <td>0.003283</td>\n",
       "      <td>0.001608</td>\n",
       "      <td>0.001383</td>\n",
       "      <td>0.001845</td>\n",
       "      <td>0.000651</td>\n",
       "      <td>0.003107</td>\n",
       "      <td>...</td>\n",
       "      <td>0.000460</td>\n",
       "      <td>0.000940</td>\n",
       "      <td>0.001303</td>\n",
       "      <td>0.003365</td>\n",
       "      <td>0.001608</td>\n",
       "      <td>0.000460</td>\n",
       "      <td>0.002460</td>\n",
       "      <td>0.000959</td>\n",
       "      <td>0.001175</td>\n",
       "      <td>0.001030</td>\n",
       "    </tr>\n",
       "    <tr>\n",
       "      <th>11-beta-hsd1_inhibitor</th>\n",
       "      <td>0.000798</td>\n",
       "      <td>1.000000</td>\n",
       "      <td>0.000948</td>\n",
       "      <td>0.002677</td>\n",
       "      <td>0.003378</td>\n",
       "      <td>0.164210</td>\n",
       "      <td>0.001423</td>\n",
       "      <td>0.001899</td>\n",
       "      <td>0.000670</td>\n",
       "      <td>0.003197</td>\n",
       "      <td>...</td>\n",
       "      <td>0.000474</td>\n",
       "      <td>0.000967</td>\n",
       "      <td>0.001341</td>\n",
       "      <td>0.003463</td>\n",
       "      <td>0.001655</td>\n",
       "      <td>0.000474</td>\n",
       "      <td>0.002531</td>\n",
       "      <td>0.000987</td>\n",
       "      <td>0.001209</td>\n",
       "      <td>0.001060</td>\n",
       "    </tr>\n",
       "    <tr>\n",
       "      <th>acat_inhibitor</th>\n",
       "      <td>0.000921</td>\n",
       "      <td>0.000948</td>\n",
       "      <td>1.000000</td>\n",
       "      <td>0.003092</td>\n",
       "      <td>0.003901</td>\n",
       "      <td>0.001911</td>\n",
       "      <td>0.001643</td>\n",
       "      <td>0.002193</td>\n",
       "      <td>0.000774</td>\n",
       "      <td>0.003692</td>\n",
       "      <td>...</td>\n",
       "      <td>0.000547</td>\n",
       "      <td>0.001117</td>\n",
       "      <td>0.001549</td>\n",
       "      <td>0.003999</td>\n",
       "      <td>0.001911</td>\n",
       "      <td>0.000547</td>\n",
       "      <td>0.002923</td>\n",
       "      <td>0.001139</td>\n",
       "      <td>0.001396</td>\n",
       "      <td>0.001224</td>\n",
       "    </tr>\n",
       "    <tr>\n",
       "      <th>acetylcholine_receptor_agonist</th>\n",
       "      <td>0.002602</td>\n",
       "      <td>0.002677</td>\n",
       "      <td>0.003092</td>\n",
       "      <td>1.000000</td>\n",
       "      <td>0.011019</td>\n",
       "      <td>0.005398</td>\n",
       "      <td>0.004641</td>\n",
       "      <td>0.006194</td>\n",
       "      <td>0.002186</td>\n",
       "      <td>0.010429</td>\n",
       "      <td>...</td>\n",
       "      <td>0.001545</td>\n",
       "      <td>0.003156</td>\n",
       "      <td>0.004375</td>\n",
       "      <td>0.011294</td>\n",
       "      <td>0.005398</td>\n",
       "      <td>0.001545</td>\n",
       "      <td>0.008256</td>\n",
       "      <td>0.003218</td>\n",
       "      <td>0.003943</td>\n",
       "      <td>0.003457</td>\n",
       "    </tr>\n",
       "    <tr>\n",
       "      <th>acetylcholine_receptor_antagonist</th>\n",
       "      <td>0.003283</td>\n",
       "      <td>0.003378</td>\n",
       "      <td>0.003901</td>\n",
       "      <td>0.011019</td>\n",
       "      <td>1.000000</td>\n",
       "      <td>0.006812</td>\n",
       "      <td>0.005856</td>\n",
       "      <td>0.007816</td>\n",
       "      <td>0.002758</td>\n",
       "      <td>0.013160</td>\n",
       "      <td>...</td>\n",
       "      <td>0.001950</td>\n",
       "      <td>0.003982</td>\n",
       "      <td>0.005521</td>\n",
       "      <td>0.014252</td>\n",
       "      <td>0.006812</td>\n",
       "      <td>0.001950</td>\n",
       "      <td>0.010418</td>\n",
       "      <td>0.004061</td>\n",
       "      <td>0.004975</td>\n",
       "      <td>0.004363</td>\n",
       "    </tr>\n",
       "    <tr>\n",
       "      <th>...</th>\n",
       "      <td>...</td>\n",
       "      <td>...</td>\n",
       "      <td>...</td>\n",
       "      <td>...</td>\n",
       "      <td>...</td>\n",
       "      <td>...</td>\n",
       "      <td>...</td>\n",
       "      <td>...</td>\n",
       "      <td>...</td>\n",
       "      <td>...</td>\n",
       "      <td>...</td>\n",
       "      <td>...</td>\n",
       "      <td>...</td>\n",
       "      <td>...</td>\n",
       "      <td>...</td>\n",
       "      <td>...</td>\n",
       "      <td>...</td>\n",
       "      <td>...</td>\n",
       "      <td>...</td>\n",
       "      <td>...</td>\n",
       "      <td>...</td>\n",
       "    </tr>\n",
       "    <tr>\n",
       "      <th>ubiquitin_specific_protease_inhibitor</th>\n",
       "      <td>0.000460</td>\n",
       "      <td>0.000474</td>\n",
       "      <td>0.000547</td>\n",
       "      <td>0.001545</td>\n",
       "      <td>0.001950</td>\n",
       "      <td>0.000955</td>\n",
       "      <td>0.000821</td>\n",
       "      <td>0.001096</td>\n",
       "      <td>0.000387</td>\n",
       "      <td>0.001845</td>\n",
       "      <td>...</td>\n",
       "      <td>0.000273</td>\n",
       "      <td>0.000558</td>\n",
       "      <td>0.000774</td>\n",
       "      <td>0.001999</td>\n",
       "      <td>0.000955</td>\n",
       "      <td>1.000000</td>\n",
       "      <td>0.001461</td>\n",
       "      <td>0.000569</td>\n",
       "      <td>0.000698</td>\n",
       "      <td>0.000612</td>\n",
       "    </tr>\n",
       "    <tr>\n",
       "      <th>vegfr_inhibitor</th>\n",
       "      <td>0.002460</td>\n",
       "      <td>0.002531</td>\n",
       "      <td>0.002923</td>\n",
       "      <td>0.008256</td>\n",
       "      <td>0.010418</td>\n",
       "      <td>0.005104</td>\n",
       "      <td>0.004388</td>\n",
       "      <td>0.005856</td>\n",
       "      <td>0.002066</td>\n",
       "      <td>0.009860</td>\n",
       "      <td>...</td>\n",
       "      <td>0.001461</td>\n",
       "      <td>0.002984</td>\n",
       "      <td>0.004136</td>\n",
       "      <td>0.010679</td>\n",
       "      <td>0.005104</td>\n",
       "      <td>0.001461</td>\n",
       "      <td>1.000000</td>\n",
       "      <td>0.003043</td>\n",
       "      <td>0.003728</td>\n",
       "      <td>0.003269</td>\n",
       "    </tr>\n",
       "    <tr>\n",
       "      <th>vitamin_b</th>\n",
       "      <td>0.000959</td>\n",
       "      <td>0.000987</td>\n",
       "      <td>0.001139</td>\n",
       "      <td>0.003218</td>\n",
       "      <td>0.004061</td>\n",
       "      <td>0.001989</td>\n",
       "      <td>0.001710</td>\n",
       "      <td>0.002283</td>\n",
       "      <td>0.000805</td>\n",
       "      <td>0.003843</td>\n",
       "      <td>...</td>\n",
       "      <td>0.000569</td>\n",
       "      <td>0.001163</td>\n",
       "      <td>0.001612</td>\n",
       "      <td>0.004162</td>\n",
       "      <td>0.001989</td>\n",
       "      <td>0.000569</td>\n",
       "      <td>0.003043</td>\n",
       "      <td>1.000000</td>\n",
       "      <td>0.001453</td>\n",
       "      <td>0.001274</td>\n",
       "    </tr>\n",
       "    <tr>\n",
       "      <th>vitamin_d_receptor_agonist</th>\n",
       "      <td>0.001175</td>\n",
       "      <td>0.001209</td>\n",
       "      <td>0.001396</td>\n",
       "      <td>0.003943</td>\n",
       "      <td>0.004975</td>\n",
       "      <td>0.002437</td>\n",
       "      <td>0.002095</td>\n",
       "      <td>0.002796</td>\n",
       "      <td>0.000987</td>\n",
       "      <td>0.004709</td>\n",
       "      <td>...</td>\n",
       "      <td>0.000698</td>\n",
       "      <td>0.001425</td>\n",
       "      <td>0.001975</td>\n",
       "      <td>0.005099</td>\n",
       "      <td>0.002437</td>\n",
       "      <td>0.000698</td>\n",
       "      <td>0.003728</td>\n",
       "      <td>0.001453</td>\n",
       "      <td>1.000000</td>\n",
       "      <td>0.001561</td>\n",
       "    </tr>\n",
       "    <tr>\n",
       "      <th>wnt_inhibitor</th>\n",
       "      <td>0.001030</td>\n",
       "      <td>0.001060</td>\n",
       "      <td>0.001224</td>\n",
       "      <td>0.003457</td>\n",
       "      <td>0.004363</td>\n",
       "      <td>0.002137</td>\n",
       "      <td>0.001837</td>\n",
       "      <td>0.002452</td>\n",
       "      <td>0.000865</td>\n",
       "      <td>0.004129</td>\n",
       "      <td>...</td>\n",
       "      <td>0.000612</td>\n",
       "      <td>0.001249</td>\n",
       "      <td>0.001732</td>\n",
       "      <td>0.004472</td>\n",
       "      <td>0.002137</td>\n",
       "      <td>0.000612</td>\n",
       "      <td>0.003269</td>\n",
       "      <td>0.001274</td>\n",
       "      <td>0.001561</td>\n",
       "      <td>1.000000</td>\n",
       "    </tr>\n",
       "  </tbody>\n",
       "</table>\n",
       "<p>206 rows × 206 columns</p>\n",
       "</div>"
      ],
      "text/plain": [
       "                                       5-alpha_reductase_inhibitor  \\\n",
       "5-alpha_reductase_inhibitor                               1.000000   \n",
       "11-beta-hsd1_inhibitor                                    0.000798   \n",
       "acat_inhibitor                                            0.000921   \n",
       "acetylcholine_receptor_agonist                            0.002602   \n",
       "acetylcholine_receptor_antagonist                         0.003283   \n",
       "...                                                            ...   \n",
       "ubiquitin_specific_protease_inhibitor                     0.000460   \n",
       "vegfr_inhibitor                                           0.002460   \n",
       "vitamin_b                                                 0.000959   \n",
       "vitamin_d_receptor_agonist                                0.001175   \n",
       "wnt_inhibitor                                             0.001030   \n",
       "\n",
       "                                       11-beta-hsd1_inhibitor  acat_inhibitor  \\\n",
       "5-alpha_reductase_inhibitor                          0.000798        0.000921   \n",
       "11-beta-hsd1_inhibitor                               1.000000        0.000948   \n",
       "acat_inhibitor                                       0.000948        1.000000   \n",
       "acetylcholine_receptor_agonist                       0.002677        0.003092   \n",
       "acetylcholine_receptor_antagonist                    0.003378        0.003901   \n",
       "...                                                       ...             ...   \n",
       "ubiquitin_specific_protease_inhibitor                0.000474        0.000547   \n",
       "vegfr_inhibitor                                      0.002531        0.002923   \n",
       "vitamin_b                                            0.000987        0.001139   \n",
       "vitamin_d_receptor_agonist                           0.001209        0.001396   \n",
       "wnt_inhibitor                                        0.001060        0.001224   \n",
       "\n",
       "                                       acetylcholine_receptor_agonist  \\\n",
       "5-alpha_reductase_inhibitor                                  0.002602   \n",
       "11-beta-hsd1_inhibitor                                       0.002677   \n",
       "acat_inhibitor                                               0.003092   \n",
       "acetylcholine_receptor_agonist                               1.000000   \n",
       "acetylcholine_receptor_antagonist                            0.011019   \n",
       "...                                                               ...   \n",
       "ubiquitin_specific_protease_inhibitor                        0.001545   \n",
       "vegfr_inhibitor                                              0.008256   \n",
       "vitamin_b                                                    0.003218   \n",
       "vitamin_d_receptor_agonist                                   0.003943   \n",
       "wnt_inhibitor                                                0.003457   \n",
       "\n",
       "                                       acetylcholine_receptor_antagonist  \\\n",
       "5-alpha_reductase_inhibitor                                     0.003283   \n",
       "11-beta-hsd1_inhibitor                                          0.003378   \n",
       "acat_inhibitor                                                  0.003901   \n",
       "acetylcholine_receptor_agonist                                  0.011019   \n",
       "acetylcholine_receptor_antagonist                               1.000000   \n",
       "...                                                                  ...   \n",
       "ubiquitin_specific_protease_inhibitor                           0.001950   \n",
       "vegfr_inhibitor                                                 0.010418   \n",
       "vitamin_b                                                       0.004061   \n",
       "vitamin_d_receptor_agonist                                      0.004975   \n",
       "wnt_inhibitor                                                   0.004363   \n",
       "\n",
       "                                       acetylcholinesterase_inhibitor  \\\n",
       "5-alpha_reductase_inhibitor                                  0.001608   \n",
       "11-beta-hsd1_inhibitor                                       0.164210   \n",
       "acat_inhibitor                                               0.001911   \n",
       "acetylcholine_receptor_agonist                               0.005398   \n",
       "acetylcholine_receptor_antagonist                            0.006812   \n",
       "...                                                               ...   \n",
       "ubiquitin_specific_protease_inhibitor                        0.000955   \n",
       "vegfr_inhibitor                                              0.005104   \n",
       "vitamin_b                                                    0.001989   \n",
       "vitamin_d_receptor_agonist                                   0.002437   \n",
       "wnt_inhibitor                                                0.002137   \n",
       "\n",
       "                                       adenosine_receptor_agonist  \\\n",
       "5-alpha_reductase_inhibitor                              0.001383   \n",
       "11-beta-hsd1_inhibitor                                   0.001423   \n",
       "acat_inhibitor                                           0.001643   \n",
       "acetylcholine_receptor_agonist                           0.004641   \n",
       "acetylcholine_receptor_antagonist                        0.005856   \n",
       "...                                                           ...   \n",
       "ubiquitin_specific_protease_inhibitor                    0.000821   \n",
       "vegfr_inhibitor                                          0.004388   \n",
       "vitamin_b                                                0.001710   \n",
       "vitamin_d_receptor_agonist                               0.002095   \n",
       "wnt_inhibitor                                            0.001837   \n",
       "\n",
       "                                       adenosine_receptor_antagonist  \\\n",
       "5-alpha_reductase_inhibitor                                 0.001845   \n",
       "11-beta-hsd1_inhibitor                                      0.001899   \n",
       "acat_inhibitor                                              0.002193   \n",
       "acetylcholine_receptor_agonist                              0.006194   \n",
       "acetylcholine_receptor_antagonist                           0.007816   \n",
       "...                                                              ...   \n",
       "ubiquitin_specific_protease_inhibitor                       0.001096   \n",
       "vegfr_inhibitor                                             0.005856   \n",
       "vitamin_b                                                   0.002283   \n",
       "vitamin_d_receptor_agonist                                  0.002796   \n",
       "wnt_inhibitor                                               0.002452   \n",
       "\n",
       "                                       adenylyl_cyclase_activator  \\\n",
       "5-alpha_reductase_inhibitor                              0.000651   \n",
       "11-beta-hsd1_inhibitor                                   0.000670   \n",
       "acat_inhibitor                                           0.000774   \n",
       "acetylcholine_receptor_agonist                           0.002186   \n",
       "acetylcholine_receptor_antagonist                        0.002758   \n",
       "...                                                           ...   \n",
       "ubiquitin_specific_protease_inhibitor                    0.000387   \n",
       "vegfr_inhibitor                                          0.002066   \n",
       "vitamin_b                                                0.000805   \n",
       "vitamin_d_receptor_agonist                               0.000987   \n",
       "wnt_inhibitor                                            0.000865   \n",
       "\n",
       "                                       adrenergic_receptor_agonist  ...  \\\n",
       "5-alpha_reductase_inhibitor                               0.003107  ...   \n",
       "11-beta-hsd1_inhibitor                                    0.003197  ...   \n",
       "acat_inhibitor                                            0.003692  ...   \n",
       "acetylcholine_receptor_agonist                            0.010429  ...   \n",
       "acetylcholine_receptor_antagonist                         0.013160  ...   \n",
       "...                                                            ...  ...   \n",
       "ubiquitin_specific_protease_inhibitor                     0.001845  ...   \n",
       "vegfr_inhibitor                                           0.009860  ...   \n",
       "vitamin_b                                                 0.003843  ...   \n",
       "vitamin_d_receptor_agonist                                0.004709  ...   \n",
       "wnt_inhibitor                                             0.004129  ...   \n",
       "\n",
       "                                       tropomyosin_receptor_kinase_inhibitor  \\\n",
       "5-alpha_reductase_inhibitor                                         0.000460   \n",
       "11-beta-hsd1_inhibitor                                              0.000474   \n",
       "acat_inhibitor                                                      0.000547   \n",
       "acetylcholine_receptor_agonist                                      0.001545   \n",
       "acetylcholine_receptor_antagonist                                   0.001950   \n",
       "...                                                                      ...   \n",
       "ubiquitin_specific_protease_inhibitor                               0.000273   \n",
       "vegfr_inhibitor                                                     0.001461   \n",
       "vitamin_b                                                           0.000569   \n",
       "vitamin_d_receptor_agonist                                          0.000698   \n",
       "wnt_inhibitor                                                       0.000612   \n",
       "\n",
       "                                       trpv_agonist  trpv_antagonist  \\\n",
       "5-alpha_reductase_inhibitor                0.000940         0.001303   \n",
       "11-beta-hsd1_inhibitor                     0.000967         0.001341   \n",
       "acat_inhibitor                             0.001117         0.001549   \n",
       "acetylcholine_receptor_agonist             0.003156         0.004375   \n",
       "acetylcholine_receptor_antagonist          0.003982         0.005521   \n",
       "...                                             ...              ...   \n",
       "ubiquitin_specific_protease_inhibitor      0.000558         0.000774   \n",
       "vegfr_inhibitor                            0.002984         0.004136   \n",
       "vitamin_b                                  0.001163         0.001612   \n",
       "vitamin_d_receptor_agonist                 0.001425         0.001975   \n",
       "wnt_inhibitor                              0.001249         0.001732   \n",
       "\n",
       "                                       tubulin_inhibitor  \\\n",
       "5-alpha_reductase_inhibitor                     0.003365   \n",
       "11-beta-hsd1_inhibitor                          0.003463   \n",
       "acat_inhibitor                                  0.003999   \n",
       "acetylcholine_receptor_agonist                  0.011294   \n",
       "acetylcholine_receptor_antagonist               0.014252   \n",
       "...                                                  ...   \n",
       "ubiquitin_specific_protease_inhibitor           0.001999   \n",
       "vegfr_inhibitor                                 0.010679   \n",
       "vitamin_b                                       0.004162   \n",
       "vitamin_d_receptor_agonist                      0.005099   \n",
       "wnt_inhibitor                                   0.004472   \n",
       "\n",
       "                                       tyrosine_kinase_inhibitor  \\\n",
       "5-alpha_reductase_inhibitor                             0.001608   \n",
       "11-beta-hsd1_inhibitor                                  0.001655   \n",
       "acat_inhibitor                                          0.001911   \n",
       "acetylcholine_receptor_agonist                          0.005398   \n",
       "acetylcholine_receptor_antagonist                       0.006812   \n",
       "...                                                          ...   \n",
       "ubiquitin_specific_protease_inhibitor                   0.000955   \n",
       "vegfr_inhibitor                                         0.005104   \n",
       "vitamin_b                                               0.001989   \n",
       "vitamin_d_receptor_agonist                              0.002437   \n",
       "wnt_inhibitor                                           0.002137   \n",
       "\n",
       "                                       ubiquitin_specific_protease_inhibitor  \\\n",
       "5-alpha_reductase_inhibitor                                         0.000460   \n",
       "11-beta-hsd1_inhibitor                                              0.000474   \n",
       "acat_inhibitor                                                      0.000547   \n",
       "acetylcholine_receptor_agonist                                      0.001545   \n",
       "acetylcholine_receptor_antagonist                                   0.001950   \n",
       "...                                                                      ...   \n",
       "ubiquitin_specific_protease_inhibitor                               1.000000   \n",
       "vegfr_inhibitor                                                     0.001461   \n",
       "vitamin_b                                                           0.000569   \n",
       "vitamin_d_receptor_agonist                                          0.000698   \n",
       "wnt_inhibitor                                                       0.000612   \n",
       "\n",
       "                                       vegfr_inhibitor  vitamin_b  \\\n",
       "5-alpha_reductase_inhibitor                   0.002460   0.000959   \n",
       "11-beta-hsd1_inhibitor                        0.002531   0.000987   \n",
       "acat_inhibitor                                0.002923   0.001139   \n",
       "acetylcholine_receptor_agonist                0.008256   0.003218   \n",
       "acetylcholine_receptor_antagonist             0.010418   0.004061   \n",
       "...                                                ...        ...   \n",
       "ubiquitin_specific_protease_inhibitor         0.001461   0.000569   \n",
       "vegfr_inhibitor                               1.000000   0.003043   \n",
       "vitamin_b                                     0.003043   1.000000   \n",
       "vitamin_d_receptor_agonist                    0.003728   0.001453   \n",
       "wnt_inhibitor                                 0.003269   0.001274   \n",
       "\n",
       "                                       vitamin_d_receptor_agonist  \\\n",
       "5-alpha_reductase_inhibitor                              0.001175   \n",
       "11-beta-hsd1_inhibitor                                   0.001209   \n",
       "acat_inhibitor                                           0.001396   \n",
       "acetylcholine_receptor_agonist                           0.003943   \n",
       "acetylcholine_receptor_antagonist                        0.004975   \n",
       "...                                                           ...   \n",
       "ubiquitin_specific_protease_inhibitor                    0.000698   \n",
       "vegfr_inhibitor                                          0.003728   \n",
       "vitamin_b                                                0.001453   \n",
       "vitamin_d_receptor_agonist                               1.000000   \n",
       "wnt_inhibitor                                            0.001561   \n",
       "\n",
       "                                       wnt_inhibitor  \n",
       "5-alpha_reductase_inhibitor                 0.001030  \n",
       "11-beta-hsd1_inhibitor                      0.001060  \n",
       "acat_inhibitor                              0.001224  \n",
       "acetylcholine_receptor_agonist              0.003457  \n",
       "acetylcholine_receptor_antagonist           0.004363  \n",
       "...                                              ...  \n",
       "ubiquitin_specific_protease_inhibitor       0.000612  \n",
       "vegfr_inhibitor                             0.003269  \n",
       "vitamin_b                                   0.001274  \n",
       "vitamin_d_receptor_agonist                  0.001561  \n",
       "wnt_inhibitor                               1.000000  \n",
       "\n",
       "[206 rows x 206 columns]"
      ]
     },
     "execution_count": 4,
     "metadata": {},
     "output_type": "execute_result"
    }
   ],
   "source": [
    "corr_df = y.corr().abs()\n",
    "corr_df"
   ]
  },
  {
   "cell_type": "code",
   "execution_count": 5,
   "metadata": {
    "execution": {
     "iopub.execute_input": "2020-11-10T00:06:45.827281Z",
     "iopub.status.busy": "2020-11-10T00:06:45.826561Z",
     "iopub.status.idle": "2020-11-10T00:06:46.150921Z",
     "shell.execute_reply": "2020-11-10T00:06:46.150250Z"
    },
    "papermill": {
     "duration": 0.35088,
     "end_time": "2020-11-10T00:06:46.151035",
     "exception": false,
     "start_time": "2020-11-10T00:06:45.800155",
     "status": "completed"
    },
    "tags": []
   },
   "outputs": [],
   "source": [
    "p_min = 0.001\n",
    "p_max = 1 - p_min\n",
    "\n",
    "check_svm2 = check_svm.copy()\n",
    "check_svm2.loc[cons_train_index,:]= np.clip(check_svm2.loc[cons_train_index,:], p_min, p_max)\n",
    "\n",
    "check_tabnet_val2 = check_tabnet_val.copy()\n",
    "check_tabnet_val2.loc[cons_train_index,:] = np.clip(check_tabnet_val.loc[cons_train_index,:], p_min, p_max)"
   ]
  },
  {
   "cell_type": "markdown",
   "metadata": {
    "papermill": {
     "duration": 0.020888,
     "end_time": "2020-11-10T00:06:46.193605",
     "exception": false,
     "start_time": "2020-11-10T00:06:46.172717",
     "status": "completed"
    },
    "tags": []
   },
   "source": [
    "# output correlation check"
   ]
  },
  {
   "cell_type": "code",
   "execution_count": 6,
   "metadata": {
    "_cell_guid": "79c7e3d0-c299-4dcb-8224-4455121ee9b0",
    "_uuid": "d629ff2d2480ee46fbb7e2d37f6b5fab8052498a",
    "execution": {
     "iopub.execute_input": "2020-11-10T00:06:46.239699Z",
     "iopub.status.busy": "2020-11-10T00:06:46.239028Z",
     "iopub.status.idle": "2020-11-10T00:06:46.241978Z",
     "shell.execute_reply": "2020-11-10T00:06:46.241346Z"
    },
    "papermill": {
     "duration": 0.027657,
     "end_time": "2020-11-10T00:06:46.242098",
     "exception": false,
     "start_time": "2020-11-10T00:06:46.214441",
     "status": "completed"
    },
    "tags": []
   },
   "outputs": [],
   "source": [
    "#print(mlp.corrwith(xgb).max(), mlp.corrwith(xgb).min(), mlp.corrwith(xgb).mean(), mlp.corrwith(xgb).std())\n",
    "#print(mlp.corrwith(tab).max(), mlp.corrwith(tab).min(), mlp.corrwith(tab).mean(), mlp.corrwith(tab).std()) \n",
    "#print(xgb.corrwith(tab).max(), xgb.corrwith(tab).min(), xgb.corrwith(tab).mean(), xgb.corrwith(tab).std())\n",
    "#print(mlp.corrwith(tl).max(), mlp.corrwith(tl).min(), mlp.corrwith(tl).mean(), mlp.corrwith(tl).std())\n",
    "#print(tl.corrwith(tab).max(), tl.corrwith(tab).min(), tl.corrwith(tab).mean(), tl.corrwith(tab).std()) \n",
    "#print(xgb.corrwith(tl).max(), xgb.corrwith(tl).min(), xgb.corrwith(tl).mean(), xgb.corrwith(tl).std())"
   ]
  },
  {
   "cell_type": "code",
   "execution_count": 7,
   "metadata": {
    "execution": {
     "iopub.execute_input": "2020-11-10T00:06:46.300318Z",
     "iopub.status.busy": "2020-11-10T00:06:46.292465Z",
     "iopub.status.idle": "2020-11-10T00:06:46.580972Z",
     "shell.execute_reply": "2020-11-10T00:06:46.580327Z"
    },
    "papermill": {
     "duration": 0.318016,
     "end_time": "2020-11-10T00:06:46.581085",
     "exception": false,
     "start_time": "2020-11-10T00:06:46.263069",
     "status": "completed"
    },
    "tags": []
   },
   "outputs": [
    {
     "ename": "NameError",
     "evalue": "name 'mlp' is not defined",
     "output_type": "error",
     "traceback": [
      "\u001b[0;31m---------------------------------------------------------------------------\u001b[0m",
      "\u001b[0;31mNameError\u001b[0m                                 Traceback (most recent call last)",
      "\u001b[0;32m<ipython-input-7-44eb51e5ab8a>\u001b[0m in \u001b[0;36m<module>\u001b[0;34m\u001b[0m\n\u001b[1;32m      1\u001b[0m \u001b[0mplt\u001b[0m\u001b[0;34m.\u001b[0m\u001b[0mfigure\u001b[0m\u001b[0;34m(\u001b[0m\u001b[0mfigsize\u001b[0m\u001b[0;34m=\u001b[0m\u001b[0;34m(\u001b[0m\u001b[0;36m15\u001b[0m\u001b[0;34m,\u001b[0m\u001b[0;36m30\u001b[0m\u001b[0;34m)\u001b[0m\u001b[0;34m)\u001b[0m\u001b[0;34m\u001b[0m\u001b[0;34m\u001b[0m\u001b[0m\n\u001b[1;32m      2\u001b[0m \u001b[0mplt\u001b[0m\u001b[0;34m.\u001b[0m\u001b[0msubplot\u001b[0m\u001b[0;34m(\u001b[0m\u001b[0;36m1\u001b[0m\u001b[0;34m,\u001b[0m\u001b[0;36m3\u001b[0m\u001b[0;34m,\u001b[0m\u001b[0;36m1\u001b[0m\u001b[0;34m)\u001b[0m\u001b[0;34m\u001b[0m\u001b[0;34m\u001b[0m\u001b[0m\n\u001b[0;32m----> 3\u001b[0;31m \u001b[0mmlp\u001b[0m\u001b[0;34m.\u001b[0m\u001b[0mcorrwith\u001b[0m\u001b[0;34m(\u001b[0m\u001b[0mxgb\u001b[0m\u001b[0;34m)\u001b[0m\u001b[0;34m.\u001b[0m\u001b[0mplot\u001b[0m\u001b[0;34m(\u001b[0m\u001b[0mkind\u001b[0m\u001b[0;34m=\u001b[0m\u001b[0;34m\"barh\"\u001b[0m\u001b[0;34m)\u001b[0m\u001b[0;34m\u001b[0m\u001b[0;34m\u001b[0m\u001b[0m\n\u001b[0m\u001b[1;32m      4\u001b[0m \u001b[0mplt\u001b[0m\u001b[0;34m.\u001b[0m\u001b[0msubplot\u001b[0m\u001b[0;34m(\u001b[0m\u001b[0;36m1\u001b[0m\u001b[0;34m,\u001b[0m\u001b[0;36m3\u001b[0m\u001b[0;34m,\u001b[0m\u001b[0;36m2\u001b[0m\u001b[0;34m)\u001b[0m\u001b[0;34m\u001b[0m\u001b[0;34m\u001b[0m\u001b[0m\n\u001b[1;32m      5\u001b[0m \u001b[0;31m#plt.axis('off')\u001b[0m\u001b[0;34m\u001b[0m\u001b[0;34m\u001b[0m\u001b[0;34m\u001b[0m\u001b[0m\n",
      "\u001b[0;31mNameError\u001b[0m: name 'mlp' is not defined"
     ]
    },
    {
     "data": {
      "image/png": "[encoded data removed]",
      "text/plain": [
       "<Figure size 1080x2160 with 1 Axes>"
      ]
     },
     "metadata": {
      "needs_background": "light"
     },
     "output_type": "display_data"
    }
   ],
   "source": [
    "plt.figure(figsize=(15,30))\n",
    "plt.subplot(1,3,1)\n",
    "mlp.corrwith(xgb).plot(kind=\"barh\")\n",
    "plt.subplot(1,3,2)\n",
    "#plt.axis('off')\n",
    "mlp.corrwith(tab).plot(kind=\"barh\",sharey=True)\n",
    "plt.subplot(1,3,3)\n",
    "#plt.axis('off')\n",
    "xgb.corrwith(tab).plot(kind=\"barh\",sharey=True)"
   ]
  },
  {
   "cell_type": "code",
   "execution_count": 8,
   "metadata": {
    "execution": {
     "iopub.execute_input": "2020-11-10T00:06:46.630933Z",
     "iopub.status.busy": "2020-11-10T00:06:46.630235Z",
     "iopub.status.idle": "2020-11-10T00:06:46.674567Z",
     "shell.execute_reply": "2020-11-10T00:06:46.674010Z"
    },
    "papermill": {
     "duration": 0.071249,
     "end_time": "2020-11-10T00:06:46.674682",
     "exception": false,
     "start_time": "2020-11-10T00:06:46.603433",
     "status": "completed"
    },
    "tags": []
   },
   "outputs": [
    {
     "data": {
      "text/html": [
       "<div>\n",
       "<style scoped>\n",
       "    .dataframe tbody tr th:only-of-type {\n",
       "        vertical-align: middle;\n",
       "    }\n",
       "\n",
       "    .dataframe tbody tr th {\n",
       "        vertical-align: top;\n",
       "    }\n",
       "\n",
       "    .dataframe thead th {\n",
       "        text-align: right;\n",
       "    }\n",
       "</style>\n",
       "<table border=\"1\" class=\"dataframe\">\n",
       "  <thead>\n",
       "    <tr style=\"text-align: right;\">\n",
       "      <th></th>\n",
       "      <th>0</th>\n",
       "      <th>1</th>\n",
       "      <th>2</th>\n",
       "      <th>3</th>\n",
       "      <th>4</th>\n",
       "      <th>5</th>\n",
       "      <th>6</th>\n",
       "      <th>7</th>\n",
       "      <th>8</th>\n",
       "      <th>9</th>\n",
       "      <th>...</th>\n",
       "      <th>196</th>\n",
       "      <th>197</th>\n",
       "      <th>198</th>\n",
       "      <th>199</th>\n",
       "      <th>200</th>\n",
       "      <th>201</th>\n",
       "      <th>202</th>\n",
       "      <th>203</th>\n",
       "      <th>204</th>\n",
       "      <th>205</th>\n",
       "    </tr>\n",
       "  </thead>\n",
       "  <tbody>\n",
       "    <tr>\n",
       "      <th>0</th>\n",
       "      <td>0.00100</td>\n",
       "      <td>0.001732</td>\n",
       "      <td>0.001283</td>\n",
       "      <td>0.013606</td>\n",
       "      <td>0.040014</td>\n",
       "      <td>0.005768</td>\n",
       "      <td>0.003474</td>\n",
       "      <td>0.002616</td>\n",
       "      <td>0.001000</td>\n",
       "      <td>0.010460</td>\n",
       "      <td>...</td>\n",
       "      <td>0.001</td>\n",
       "      <td>0.001000</td>\n",
       "      <td>0.002065</td>\n",
       "      <td>0.001571</td>\n",
       "      <td>0.001000</td>\n",
       "      <td>0.001000</td>\n",
       "      <td>0.001000</td>\n",
       "      <td>0.001223</td>\n",
       "      <td>0.001000</td>\n",
       "      <td>0.001000</td>\n",
       "    </tr>\n",
       "    <tr>\n",
       "      <th>1</th>\n",
       "      <td>0.00100</td>\n",
       "      <td>0.001000</td>\n",
       "      <td>0.001562</td>\n",
       "      <td>0.012176</td>\n",
       "      <td>0.010442</td>\n",
       "      <td>0.001700</td>\n",
       "      <td>0.002802</td>\n",
       "      <td>0.003355</td>\n",
       "      <td>0.001000</td>\n",
       "      <td>0.012524</td>\n",
       "      <td>...</td>\n",
       "      <td>0.001</td>\n",
       "      <td>0.001000</td>\n",
       "      <td>0.002306</td>\n",
       "      <td>0.001000</td>\n",
       "      <td>0.001000</td>\n",
       "      <td>0.001000</td>\n",
       "      <td>0.001156</td>\n",
       "      <td>0.001130</td>\n",
       "      <td>0.005260</td>\n",
       "      <td>0.001809</td>\n",
       "    </tr>\n",
       "    <tr>\n",
       "      <th>2</th>\n",
       "      <td>0.00100</td>\n",
       "      <td>0.001069</td>\n",
       "      <td>0.001250</td>\n",
       "      <td>0.003281</td>\n",
       "      <td>0.010883</td>\n",
       "      <td>0.001295</td>\n",
       "      <td>0.002225</td>\n",
       "      <td>0.007531</td>\n",
       "      <td>0.001414</td>\n",
       "      <td>0.014370</td>\n",
       "      <td>...</td>\n",
       "      <td>0.001</td>\n",
       "      <td>0.002657</td>\n",
       "      <td>0.001492</td>\n",
       "      <td>0.001000</td>\n",
       "      <td>0.005148</td>\n",
       "      <td>0.001046</td>\n",
       "      <td>0.008248</td>\n",
       "      <td>0.001935</td>\n",
       "      <td>0.001000</td>\n",
       "      <td>0.002663</td>\n",
       "    </tr>\n",
       "    <tr>\n",
       "      <th>3</th>\n",
       "      <td>0.00100</td>\n",
       "      <td>0.001000</td>\n",
       "      <td>0.001000</td>\n",
       "      <td>0.001000</td>\n",
       "      <td>0.007451</td>\n",
       "      <td>0.001252</td>\n",
       "      <td>0.001000</td>\n",
       "      <td>0.001000</td>\n",
       "      <td>0.001000</td>\n",
       "      <td>0.001000</td>\n",
       "      <td>...</td>\n",
       "      <td>0.001</td>\n",
       "      <td>0.014328</td>\n",
       "      <td>0.001000</td>\n",
       "      <td>0.485110</td>\n",
       "      <td>0.001000</td>\n",
       "      <td>0.001000</td>\n",
       "      <td>0.001000</td>\n",
       "      <td>0.001000</td>\n",
       "      <td>0.001000</td>\n",
       "      <td>0.001000</td>\n",
       "    </tr>\n",
       "    <tr>\n",
       "      <th>4</th>\n",
       "      <td>0.00100</td>\n",
       "      <td>0.001354</td>\n",
       "      <td>0.001524</td>\n",
       "      <td>0.005568</td>\n",
       "      <td>0.007144</td>\n",
       "      <td>0.002717</td>\n",
       "      <td>0.004062</td>\n",
       "      <td>0.002263</td>\n",
       "      <td>0.001000</td>\n",
       "      <td>0.015926</td>\n",
       "      <td>...</td>\n",
       "      <td>0.001</td>\n",
       "      <td>0.001580</td>\n",
       "      <td>0.004425</td>\n",
       "      <td>0.001000</td>\n",
       "      <td>0.001217</td>\n",
       "      <td>0.001000</td>\n",
       "      <td>0.001000</td>\n",
       "      <td>0.001468</td>\n",
       "      <td>0.001218</td>\n",
       "      <td>0.002529</td>\n",
       "    </tr>\n",
       "    <tr>\n",
       "      <th>...</th>\n",
       "      <td>...</td>\n",
       "      <td>...</td>\n",
       "      <td>...</td>\n",
       "      <td>...</td>\n",
       "      <td>...</td>\n",
       "      <td>...</td>\n",
       "      <td>...</td>\n",
       "      <td>...</td>\n",
       "      <td>...</td>\n",
       "      <td>...</td>\n",
       "      <td>...</td>\n",
       "      <td>...</td>\n",
       "      <td>...</td>\n",
       "      <td>...</td>\n",
       "      <td>...</td>\n",
       "      <td>...</td>\n",
       "      <td>...</td>\n",
       "      <td>...</td>\n",
       "      <td>...</td>\n",
       "      <td>...</td>\n",
       "      <td>...</td>\n",
       "    </tr>\n",
       "    <tr>\n",
       "      <th>23809</th>\n",
       "      <td>0.00203</td>\n",
       "      <td>0.001482</td>\n",
       "      <td>0.001596</td>\n",
       "      <td>0.004349</td>\n",
       "      <td>0.009858</td>\n",
       "      <td>0.001983</td>\n",
       "      <td>0.002405</td>\n",
       "      <td>0.001447</td>\n",
       "      <td>0.001000</td>\n",
       "      <td>0.007262</td>\n",
       "      <td>...</td>\n",
       "      <td>0.001</td>\n",
       "      <td>0.001000</td>\n",
       "      <td>0.002777</td>\n",
       "      <td>0.001000</td>\n",
       "      <td>0.001071</td>\n",
       "      <td>0.001429</td>\n",
       "      <td>0.001000</td>\n",
       "      <td>0.001484</td>\n",
       "      <td>0.001000</td>\n",
       "      <td>0.001687</td>\n",
       "    </tr>\n",
       "    <tr>\n",
       "      <th>23810</th>\n",
       "      <td>0.00100</td>\n",
       "      <td>0.001000</td>\n",
       "      <td>0.003796</td>\n",
       "      <td>0.004223</td>\n",
       "      <td>0.001720</td>\n",
       "      <td>0.001798</td>\n",
       "      <td>0.001000</td>\n",
       "      <td>0.005082</td>\n",
       "      <td>0.001000</td>\n",
       "      <td>0.001538</td>\n",
       "      <td>...</td>\n",
       "      <td>0.001</td>\n",
       "      <td>0.001000</td>\n",
       "      <td>0.002521</td>\n",
       "      <td>0.001000</td>\n",
       "      <td>0.009547</td>\n",
       "      <td>0.001000</td>\n",
       "      <td>0.038947</td>\n",
       "      <td>0.001000</td>\n",
       "      <td>0.030975</td>\n",
       "      <td>0.003454</td>\n",
       "    </tr>\n",
       "    <tr>\n",
       "      <th>23811</th>\n",
       "      <td>0.00000</td>\n",
       "      <td>0.000000</td>\n",
       "      <td>0.000000</td>\n",
       "      <td>0.000000</td>\n",
       "      <td>0.000000</td>\n",
       "      <td>0.000000</td>\n",
       "      <td>0.000000</td>\n",
       "      <td>0.000000</td>\n",
       "      <td>0.000000</td>\n",
       "      <td>0.000000</td>\n",
       "      <td>...</td>\n",
       "      <td>0.000</td>\n",
       "      <td>0.000000</td>\n",
       "      <td>0.000000</td>\n",
       "      <td>0.000000</td>\n",
       "      <td>0.000000</td>\n",
       "      <td>0.000000</td>\n",
       "      <td>0.000000</td>\n",
       "      <td>0.000000</td>\n",
       "      <td>0.000000</td>\n",
       "      <td>0.000000</td>\n",
       "    </tr>\n",
       "    <tr>\n",
       "      <th>23812</th>\n",
       "      <td>0.00100</td>\n",
       "      <td>0.001000</td>\n",
       "      <td>0.001000</td>\n",
       "      <td>0.001000</td>\n",
       "      <td>0.001000</td>\n",
       "      <td>0.001000</td>\n",
       "      <td>0.001000</td>\n",
       "      <td>0.001000</td>\n",
       "      <td>0.001000</td>\n",
       "      <td>0.001000</td>\n",
       "      <td>...</td>\n",
       "      <td>0.001</td>\n",
       "      <td>0.001000</td>\n",
       "      <td>0.001000</td>\n",
       "      <td>0.001000</td>\n",
       "      <td>0.002579</td>\n",
       "      <td>0.001000</td>\n",
       "      <td>0.002323</td>\n",
       "      <td>0.001000</td>\n",
       "      <td>0.001000</td>\n",
       "      <td>0.001000</td>\n",
       "    </tr>\n",
       "    <tr>\n",
       "      <th>23813</th>\n",
       "      <td>0.00100</td>\n",
       "      <td>0.003148</td>\n",
       "      <td>0.001978</td>\n",
       "      <td>0.013812</td>\n",
       "      <td>0.018501</td>\n",
       "      <td>0.008423</td>\n",
       "      <td>0.003769</td>\n",
       "      <td>0.001938</td>\n",
       "      <td>0.001000</td>\n",
       "      <td>0.008268</td>\n",
       "      <td>...</td>\n",
       "      <td>0.001</td>\n",
       "      <td>0.001887</td>\n",
       "      <td>0.004168</td>\n",
       "      <td>0.084325</td>\n",
       "      <td>0.001082</td>\n",
       "      <td>0.001104</td>\n",
       "      <td>0.001000</td>\n",
       "      <td>0.001115</td>\n",
       "      <td>0.001000</td>\n",
       "      <td>0.001000</td>\n",
       "    </tr>\n",
       "  </tbody>\n",
       "</table>\n",
       "<p>23814 rows × 206 columns</p>\n",
       "</div>"
      ],
      "text/plain": [
       "           0         1         2         3         4         5         6    \\\n",
       "0      0.00100  0.001732  0.001283  0.013606  0.040014  0.005768  0.003474   \n",
       "1      0.00100  0.001000  0.001562  0.012176  0.010442  0.001700  0.002802   \n",
       "2      0.00100  0.001069  0.001250  0.003281  0.010883  0.001295  0.002225   \n",
       "3      0.00100  0.001000  0.001000  0.001000  0.007451  0.001252  0.001000   \n",
       "4      0.00100  0.001354  0.001524  0.005568  0.007144  0.002717  0.004062   \n",
       "...        ...       ...       ...       ...       ...       ...       ...   \n",
       "23809  0.00203  0.001482  0.001596  0.004349  0.009858  0.001983  0.002405   \n",
       "23810  0.00100  0.001000  0.003796  0.004223  0.001720  0.001798  0.001000   \n",
       "23811  0.00000  0.000000  0.000000  0.000000  0.000000  0.000000  0.000000   \n",
       "23812  0.00100  0.001000  0.001000  0.001000  0.001000  0.001000  0.001000   \n",
       "23813  0.00100  0.003148  0.001978  0.013812  0.018501  0.008423  0.003769   \n",
       "\n",
       "            7         8         9    ...    196       197       198       199  \\\n",
       "0      0.002616  0.001000  0.010460  ...  0.001  0.001000  0.002065  0.001571   \n",
       "1      0.003355  0.001000  0.012524  ...  0.001  0.001000  0.002306  0.001000   \n",
       "2      0.007531  0.001414  0.014370  ...  0.001  0.002657  0.001492  0.001000   \n",
       "3      0.001000  0.001000  0.001000  ...  0.001  0.014328  0.001000  0.485110   \n",
       "4      0.002263  0.001000  0.015926  ...  0.001  0.001580  0.004425  0.001000   \n",
       "...         ...       ...       ...  ...    ...       ...       ...       ...   \n",
       "23809  0.001447  0.001000  0.007262  ...  0.001  0.001000  0.002777  0.001000   \n",
       "23810  0.005082  0.001000  0.001538  ...  0.001  0.001000  0.002521  0.001000   \n",
       "23811  0.000000  0.000000  0.000000  ...  0.000  0.000000  0.000000  0.000000   \n",
       "23812  0.001000  0.001000  0.001000  ...  0.001  0.001000  0.001000  0.001000   \n",
       "23813  0.001938  0.001000  0.008268  ...  0.001  0.001887  0.004168  0.084325   \n",
       "\n",
       "            200       201       202       203       204       205  \n",
       "0      0.001000  0.001000  0.001000  0.001223  0.001000  0.001000  \n",
       "1      0.001000  0.001000  0.001156  0.001130  0.005260  0.001809  \n",
       "2      0.005148  0.001046  0.008248  0.001935  0.001000  0.002663  \n",
       "3      0.001000  0.001000  0.001000  0.001000  0.001000  0.001000  \n",
       "4      0.001217  0.001000  0.001000  0.001468  0.001218  0.002529  \n",
       "...         ...       ...       ...       ...       ...       ...  \n",
       "23809  0.001071  0.001429  0.001000  0.001484  0.001000  0.001687  \n",
       "23810  0.009547  0.001000  0.038947  0.001000  0.030975  0.003454  \n",
       "23811  0.000000  0.000000  0.000000  0.000000  0.000000  0.000000  \n",
       "23812  0.002579  0.001000  0.002323  0.001000  0.001000  0.001000  \n",
       "23813  0.001082  0.001104  0.001000  0.001115  0.001000  0.001000  \n",
       "\n",
       "[23814 rows x 206 columns]"
      ]
     },
     "execution_count": 8,
     "metadata": {},
     "output_type": "execute_result"
    }
   ],
   "source": [
    "check_tabnet_val2 = pd.DataFrame(np.array(check_tabnet_val2))\n",
    "check_tabnet_val2"
   ]
  },
  {
   "cell_type": "code",
   "execution_count": 9,
   "metadata": {
    "execution": {
     "iopub.execute_input": "2020-11-10T00:06:46.733209Z",
     "iopub.status.busy": "2020-11-10T00:06:46.732497Z",
     "iopub.status.idle": "2020-11-10T00:06:47.835787Z",
     "shell.execute_reply": "2020-11-10T00:06:47.834871Z"
    },
    "papermill": {
     "duration": 1.138361,
     "end_time": "2020-11-10T00:06:47.835906",
     "exception": false,
     "start_time": "2020-11-10T00:06:46.697545",
     "status": "completed"
    },
    "tags": []
   },
   "outputs": [
    {
     "name": "stdout",
     "output_type": "stream",
     "text": [
      "0.9919723868923821 0.046988847768357364 0.5022524985291136 0.18286347299473651\n",
      "0.9972791142644268 0.024753907990063936 0.4837869535843897 0.22075097599019858\n",
      "0.9962401821655638 0.26600567549902615 0.6426870557444149 0.14856098359279166\n",
      "0.9903191277853431 0.0850975875051259 0.5027917011654656 0.1570402691207024\n",
      "nan nan nan nan\n"
     ]
    }
   ],
   "source": [
    "result = []\n",
    "for i in range(206):\n",
    "    result.append(np.corrcoef(check_mlp.iloc[:,i], check_tabnet_val.iloc[:,i])[0,1])\n",
    "print(np.max(result), np.min(result), np.mean(result), np.std(result))\n",
    "print(check_mlp.corrwith(check_svm).max(), check_mlp.corrwith(check_svm).min(), \n",
    "      check_mlp.corrwith(check_svm).mean(), check_mlp.corrwith(check_svm).std())\n",
    "result = []\n",
    "for i in range(206):\n",
    "    result.append(np.corrcoef(check_mlp.iloc[:,i], check_lstm.iloc[:,i])[0,1])\n",
    "print(np.max(result), np.min(result), np.mean(result), np.std(result))\n",
    "result = []\n",
    "for i in range(206):\n",
    "    result.append(np.corrcoef(check_tabnet_val.iloc[:,i], check_lstm.iloc[:,i])[0,1])\n",
    "print(np.max(result), np.min(result), np.mean(result), np.std(result))\n",
    "print(check_tabnet_val.corrwith(check_svm).max(), check_tabnet_val.corrwith(check_svm).min(), \n",
    "      check_tabnet_val.corrwith(check_svm).mean(), check_tabnet_val.corrwith(check_svm).std())"
   ]
  },
  {
   "cell_type": "markdown",
   "metadata": {
    "papermill": {
     "duration": 0.023431,
     "end_time": "2020-11-10T00:06:47.883081",
     "exception": false,
     "start_time": "2020-11-10T00:06:47.859650",
     "status": "completed"
    },
    "tags": []
   },
   "source": [
    "# ensemble ratio"
   ]
  },
  {
   "cell_type": "code",
   "execution_count": 10,
   "metadata": {
    "execution": {
     "iopub.execute_input": "2020-11-10T00:06:47.939437Z",
     "iopub.status.busy": "2020-11-10T00:06:47.938750Z",
     "iopub.status.idle": "2020-11-10T00:06:51.979594Z",
     "shell.execute_reply": "2020-11-10T00:06:51.980135Z"
    },
    "papermill": {
     "duration": 4.07247,
     "end_time": "2020-11-10T00:06:51.980319",
     "exception": false,
     "start_time": "2020-11-10T00:06:47.907849",
     "status": "completed"
    },
    "tags": []
   },
   "outputs": [
    {
     "name": "stdout",
     "output_type": "stream",
     "text": [
      "OOF log loss:  0.01567181329219744\n",
      "OOF log loss:  0.016317946358678424\n",
      "OOF log loss:  0.016348356242888194\n"
     ]
    }
   ],
   "source": [
    "print('OOF log loss: ', log_loss(np.ravel(targets), np.ravel(check_mlp)))\n",
    "print('OOF log loss: ', log_loss(np.ravel(targets), np.ravel(check_tabnet_val)))\n",
    "print('OOF log loss: ', log_loss(np.ravel(targets), np.ravel(check_tabnet_val2)))"
   ]
  },
  {
   "cell_type": "markdown",
   "metadata": {
    "papermill": {
     "duration": 0.024337,
     "end_time": "2020-11-10T00:06:52.029569",
     "exception": false,
     "start_time": "2020-11-10T00:06:52.005232",
     "status": "completed"
    },
    "tags": []
   },
   "source": [
    "# simple average"
   ]
  },
  {
   "cell_type": "code",
   "execution_count": 11,
   "metadata": {
    "execution": {
     "iopub.execute_input": "2020-11-10T00:06:52.084629Z",
     "iopub.status.busy": "2020-11-10T00:06:52.083896Z",
     "iopub.status.idle": "2020-11-10T00:06:53.454015Z",
     "shell.execute_reply": "2020-11-10T00:06:53.453450Z"
    },
    "papermill": {
     "duration": 1.399754,
     "end_time": "2020-11-10T00:06:53.454129",
     "exception": false,
     "start_time": "2020-11-10T00:06:52.054375",
     "status": "completed"
    },
    "tags": []
   },
   "outputs": [
    {
     "name": "stdout",
     "output_type": "stream",
     "text": [
      "OOF log loss:  0.01568264931607268\n"
     ]
    }
   ],
   "source": [
    "check = 0.5 * check_tabnet_val2.values + 0.5 * check_mlp\n",
    "print('OOF log loss: ', log_loss(np.ravel(targets), np.ravel(check)))"
   ]
  },
  {
   "cell_type": "code",
   "execution_count": 12,
   "metadata": {
    "execution": {
     "iopub.execute_input": "2020-11-10T00:06:53.512465Z",
     "iopub.status.busy": "2020-11-10T00:06:53.511054Z",
     "iopub.status.idle": "2020-11-10T00:06:54.900244Z",
     "shell.execute_reply": "2020-11-10T00:06:54.900822Z"
    },
    "papermill": {
     "duration": 1.421506,
     "end_time": "2020-11-10T00:06:54.901033",
     "exception": false,
     "start_time": "2020-11-10T00:06:53.479527",
     "status": "completed"
    },
    "tags": []
   },
   "outputs": [
    {
     "name": "stdout",
     "output_type": "stream",
     "text": [
      "OOF log loss:  0.01556003737535406\n"
     ]
    }
   ],
   "source": [
    "check = 0.3 * check_svm + 0.2 * check_tabnet_val2.values + 0.5 * check_mlp\n",
    "print('OOF log loss: ', log_loss(np.ravel(targets), np.ravel(check)))"
   ]
  },
  {
   "cell_type": "markdown",
   "metadata": {
    "papermill": {
     "duration": 0.02606,
     "end_time": "2020-11-10T00:06:54.952917",
     "exception": false,
     "start_time": "2020-11-10T00:06:54.926857",
     "status": "completed"
    },
    "tags": []
   },
   "source": [
    "# weight average"
   ]
  },
  {
   "cell_type": "code",
   "execution_count": 13,
   "metadata": {
    "execution": {
     "iopub.execute_input": "2020-11-10T00:06:55.010629Z",
     "iopub.status.busy": "2020-11-10T00:06:55.009697Z",
     "iopub.status.idle": "2020-11-10T00:06:56.368820Z",
     "shell.execute_reply": "2020-11-10T00:06:56.368142Z"
    },
    "papermill": {
     "duration": 1.390406,
     "end_time": "2020-11-10T00:06:56.368942",
     "exception": false,
     "start_time": "2020-11-10T00:06:54.978536",
     "status": "completed"
    },
    "tags": []
   },
   "outputs": [
    {
     "name": "stdout",
     "output_type": "stream",
     "text": [
      "OOF log loss:  0.015605002507425797\n"
     ]
    }
   ],
   "source": [
    "check = 0.2 * check_tabnet_val2.values + 0.8 * check_mlp\n",
    "print('OOF log loss: ', log_loss(np.ravel(targets), np.ravel(check)))"
   ]
  },
  {
   "cell_type": "code",
   "execution_count": 14,
   "metadata": {
    "execution": {
     "iopub.execute_input": "2020-11-10T00:06:56.427921Z",
     "iopub.status.busy": "2020-11-10T00:06:56.426523Z",
     "iopub.status.idle": "2020-11-10T00:06:57.820236Z",
     "shell.execute_reply": "2020-11-10T00:06:57.820704Z"
    },
    "papermill": {
     "duration": 1.425891,
     "end_time": "2020-11-10T00:06:57.820866",
     "exception": false,
     "start_time": "2020-11-10T00:06:56.394975",
     "status": "completed"
    },
    "tags": []
   },
   "outputs": [
    {
     "name": "stdout",
     "output_type": "stream",
     "text": [
      "OOF log loss:  0.015576608185505743\n"
     ]
    }
   ],
   "source": [
    "check = 0.1 * check_svm2.values + 0.2 * check_tabnet_val2.values + 0.7 * check_mlp\n",
    "print('OOF log loss: ', log_loss(np.ravel(targets), np.ravel(check)))"
   ]
  },
  {
   "cell_type": "code",
   "execution_count": 15,
   "metadata": {
    "execution": {
     "iopub.execute_input": "2020-11-10T00:06:57.887005Z",
     "iopub.status.busy": "2020-11-10T00:06:57.881791Z",
     "iopub.status.idle": "2020-11-10T00:06:58.223617Z",
     "shell.execute_reply": "2020-11-10T00:06:58.222969Z"
    },
    "papermill": {
     "duration": 0.376702,
     "end_time": "2020-11-10T00:06:58.223744",
     "exception": false,
     "start_time": "2020-11-10T00:06:57.847042",
     "status": "completed"
    },
    "tags": []
   },
   "outputs": [
    {
     "ename": "NameError",
     "evalue": "name 'check_tabnet' is not defined",
     "output_type": "error",
     "traceback": [
      "\u001b[0;31m---------------------------------------------------------------------------\u001b[0m",
      "\u001b[0;31mNameError\u001b[0m                                 Traceback (most recent call last)",
      "\u001b[0;32m<ipython-input-15-7ef8cbdc4880>\u001b[0m in \u001b[0;36m<module>\u001b[0;34m\u001b[0m\n\u001b[1;32m      7\u001b[0m \u001b[0;34m\u001b[0m\u001b[0m\n\u001b[1;32m      8\u001b[0m \u001b[0;31m# out of fold prediction\u001b[0m\u001b[0;34m\u001b[0m\u001b[0;34m\u001b[0m\u001b[0;34m\u001b[0m\u001b[0m\n\u001b[0;32m----> 9\u001b[0;31m \u001b[0mblend_train\u001b[0m\u001b[0;34m.\u001b[0m\u001b[0mappend\u001b[0m\u001b[0;34m(\u001b[0m\u001b[0mnp\u001b[0m\u001b[0;34m.\u001b[0m\u001b[0marray\u001b[0m\u001b[0;34m(\u001b[0m\u001b[0mcheck_tabnet\u001b[0m\u001b[0;34m)\u001b[0m\u001b[0;34m)\u001b[0m\u001b[0;34m\u001b[0m\u001b[0;34m\u001b[0m\u001b[0m\n\u001b[0m\u001b[1;32m     10\u001b[0m \u001b[0mblend_train\u001b[0m\u001b[0;34m.\u001b[0m\u001b[0mappend\u001b[0m\u001b[0;34m(\u001b[0m\u001b[0mnp\u001b[0m\u001b[0;34m.\u001b[0m\u001b[0marray\u001b[0m\u001b[0;34m(\u001b[0m\u001b[0mcheck_mlp\u001b[0m\u001b[0;34m)\u001b[0m\u001b[0;34m)\u001b[0m\u001b[0;34m\u001b[0m\u001b[0;34m\u001b[0m\u001b[0m\n\u001b[1;32m     11\u001b[0m \u001b[0mblend_train\u001b[0m \u001b[0;34m=\u001b[0m \u001b[0mnp\u001b[0m\u001b[0;34m.\u001b[0m\u001b[0marray\u001b[0m\u001b[0;34m(\u001b[0m\u001b[0mblend_train\u001b[0m\u001b[0;34m)\u001b[0m\u001b[0;34m\u001b[0m\u001b[0;34m\u001b[0m\u001b[0m\n",
      "\u001b[0;31mNameError\u001b[0m: name 'check_tabnet' is not defined"
     ]
    }
   ],
   "source": [
    "check_score = pd.read_csv('../input/lish-moa/train_targets_scored.csv').drop(\"sig_id\", axis=1)\n",
    "target_feats = [ i for i in check_score.columns if i != \"sig_id\"]\n",
    "from scipy.optimize import minimize, fsolve\n",
    "\n",
    "\n",
    "blend_train = []\n",
    "\n",
    "# out of fold prediction\n",
    "blend_train.append(np.array(check_tabnet))\n",
    "blend_train.append(np.array(check_mlp))\n",
    "blend_train = np.array(blend_train)\n",
    "check_xgb2 = np.array(check_xgb2)\n",
    "\n",
    "ratio = 0.01\n",
    "\n",
    "np.random.seed(224)\n",
    "total_scores = []\n",
    "for i in range(len(target_feats)):\n",
    "    def log_loss_func(weights):\n",
    "        final_prediction = ratio * check_xgb2[:,i]\n",
    "        for weight, prediction in zip(weights, blend_train):\n",
    "            final_prediction += weight * prediction[:,i]\n",
    "        return log_loss(np.ravel(targets.iloc[:,i]), np.ravel(final_prediction))\n",
    "    \n",
    "    best_score = np.inf\n",
    "    best_weights = [0] * len(blend_train)\n",
    "    for k in range(10):\n",
    "        starting_values = np.random.rand(len(blend_train))\n",
    "        starting_values /= sum(starting_values)\n",
    "        bounds = [(0, 1)] * len(blend_train)\n",
    "        cons = ({'type': 'eq', 'fun': lambda x:  1 - ratio - sum(x)}) \n",
    "            \n",
    "        res = minimize(log_loss_func,\n",
    "                   starting_values,\n",
    "                   method='SLSQP',\n",
    "                   bounds=bounds,\n",
    "                   constraints = cons) \n",
    "        \n",
    "        if best_score > res[\"fun\"]:\n",
    "            best_score = res[\"fun\"]\n",
    "            best_weights = res[\"x\"]\n",
    "        \n",
    "    valid_prediction = ratio * check_xgb2[:,i]\n",
    "    for weight, prediction in zip(best_weights, blend_train):\n",
    "        valid_prediction += weight * prediction[:,i]\n",
    "    print('Score: {}, Weights: {}'.format(round(res['fun'],8), res['x']))\n",
    "    total_scores.append(res['fun'])\n",
    "    check_score.loc[:,target_feats[i]] = valid_prediction\n",
    "    \n",
    "    #oof_test = svm_ratio * svm1_test[:,i]\n",
    "    #for weight, prediction in zip(best_weights, blend_test):\n",
    "    #    oof_test += weight * prediction[:,i]\n",
    "        \n",
    "\n",
    "print(\"final ensemble oof score:\", np.mean(total_scores))\n",
    "print('OOF log loss: ', log_loss(np.ravel(targets), np.ravel(check_score)))"
   ]
  },
  {
   "cell_type": "markdown",
   "metadata": {
    "papermill": {
     "duration": 0.026642,
     "end_time": "2020-11-10T00:06:58.277225",
     "exception": false,
     "start_time": "2020-11-10T00:06:58.250583",
     "status": "completed"
    },
    "tags": []
   },
   "source": [
    "# geometric average"
   ]
  },
  {
   "cell_type": "code",
   "execution_count": 16,
   "metadata": {
    "execution": {
     "iopub.execute_input": "2020-11-10T00:06:58.340189Z",
     "iopub.status.busy": "2020-11-10T00:06:58.339447Z",
     "iopub.status.idle": "2020-11-10T00:06:59.712146Z",
     "shell.execute_reply": "2020-11-10T00:06:59.711620Z"
    },
    "papermill": {
     "duration": 1.405708,
     "end_time": "2020-11-10T00:06:59.712282",
     "exception": false,
     "start_time": "2020-11-10T00:06:58.306574",
     "status": "completed"
    },
    "tags": []
   },
   "outputs": [
    {
     "name": "stdout",
     "output_type": "stream",
     "text": [
      "OOF log loss:  0.01573825399391786\n"
     ]
    }
   ],
   "source": [
    "check = np.sqrt(np.multiply(check_tabnet_val2.values, check_mlp))\n",
    "print('OOF log loss: ', log_loss(np.ravel(targets), np.ravel(check)))"
   ]
  },
  {
   "cell_type": "markdown",
   "metadata": {
    "papermill": {
     "duration": 0.031251,
     "end_time": "2020-11-10T00:06:59.772754",
     "exception": false,
     "start_time": "2020-11-10T00:06:59.741503",
     "status": "completed"
    },
    "tags": []
   },
   "source": [
    "# harmonic average"
   ]
  },
  {
   "cell_type": "code",
   "execution_count": 17,
   "metadata": {
    "execution": {
     "iopub.execute_input": "2020-11-10T00:06:59.834792Z",
     "iopub.status.busy": "2020-11-10T00:06:59.834090Z",
     "iopub.status.idle": "2020-11-10T00:07:01.333928Z",
     "shell.execute_reply": "2020-11-10T00:07:01.333303Z"
    },
    "papermill": {
     "duration": 1.533261,
     "end_time": "2020-11-10T00:07:01.334040",
     "exception": false,
     "start_time": "2020-11-10T00:06:59.800779",
     "status": "completed"
    },
    "tags": []
   },
   "outputs": [
    {
     "name": "stdout",
     "output_type": "stream",
     "text": [
      "OOF log loss:  0.01587226416288096\n"
     ]
    }
   ],
   "source": [
    "check_tmp = 1/((1 / check_mlp.loc[cons_train_index,:] + 1 / check_tabnet_val2.loc[cons_train_index,:].values)/2)\n",
    "check = check_mlp.copy()\n",
    "check.loc[cons_train_index,:] = check_tmp\n",
    "print('OOF log loss: ', log_loss(np.ravel(targets), np.ravel(check)))"
   ]
  },
  {
   "cell_type": "markdown",
   "metadata": {
    "papermill": {
     "duration": 0.027017,
     "end_time": "2020-11-10T00:07:01.388606",
     "exception": false,
     "start_time": "2020-11-10T00:07:01.361589",
     "status": "completed"
    },
    "tags": []
   },
   "source": [
    "# n multiply average"
   ]
  },
  {
   "cell_type": "code",
   "execution_count": 18,
   "metadata": {
    "execution": {
     "iopub.execute_input": "2020-11-10T00:07:01.449541Z",
     "iopub.status.busy": "2020-11-10T00:07:01.448824Z",
     "iopub.status.idle": "2020-11-10T00:07:03.370941Z",
     "shell.execute_reply": "2020-11-10T00:07:03.371614Z"
    },
    "papermill": {
     "duration": 1.955535,
     "end_time": "2020-11-10T00:07:03.371768",
     "exception": false,
     "start_time": "2020-11-10T00:07:01.416233",
     "status": "completed"
    },
    "tags": []
   },
   "outputs": [
    {
     "name": "stdout",
     "output_type": "stream",
     "text": [
      "OOF log loss:  0.015761550155079584\n"
     ]
    }
   ],
   "source": [
    "num = 4\n",
    "check = ((check_tabnet_val2.values ** num + check_mlp ** num)/2) ** (1/num)\n",
    "print('OOF log loss: ', log_loss(np.ravel(targets), np.ravel(check)))"
   ]
  },
  {
   "cell_type": "markdown",
   "metadata": {
    "papermill": {
     "duration": 0.028102,
     "end_time": "2020-11-10T00:07:03.428661",
     "exception": false,
     "start_time": "2020-11-10T00:07:03.400559",
     "status": "completed"
    },
    "tags": []
   },
   "source": [
    "# folds vs target"
   ]
  },
  {
   "cell_type": "code",
   "execution_count": 19,
   "metadata": {
    "execution": {
     "iopub.execute_input": "2020-11-10T00:07:03.494644Z",
     "iopub.status.busy": "2020-11-10T00:07:03.493614Z",
     "iopub.status.idle": "2020-11-10T00:07:03.502529Z",
     "shell.execute_reply": "2020-11-10T00:07:03.501946Z"
    },
    "papermill": {
     "duration": 0.045878,
     "end_time": "2020-11-10T00:07:03.502659",
     "exception": false,
     "start_time": "2020-11-10T00:07:03.456781",
     "status": "completed"
    },
    "tags": []
   },
   "outputs": [],
   "source": [
    "def make_folds(num_splits, seed, train_score, drug):\n",
    "    folds = []\n",
    "    \n",
    "    # LOAD FILES\n",
    "    targets = train_score.columns[1:]\n",
    "    train_score = train_score.merge(drug, on='sig_id', how='left') \n",
    "\n",
    "    # LOCATE DRUGS\n",
    "    vc = train_score.drug_id.value_counts()\n",
    "    vc1 = vc.loc[vc <= 19].index.sort_values()\n",
    "    vc2 = vc.loc[vc > 19].index.sort_values()\n",
    "\n",
    "    # STRATIFY DRUGS 18X OR LESS\n",
    "    dct1 = {}; dct2 = {}\n",
    "    skf = MultilabelStratifiedKFold(n_splits = num_splits, shuffle = True, random_state = seed) #MultilabelStratifiedKFold\n",
    "    tmp = train_score.groupby('drug_id')[targets].mean().loc[vc1]\n",
    "    for fold,(idxT,idxV) in enumerate(skf.split(tmp,tmp[targets])):\n",
    "        dd = {k:fold for k in tmp.index[idxV].values}\n",
    "        dct1.update(dd)\n",
    "        \n",
    "    # STRATIFY DRUGS MORE THAN 18X\n",
    "    skf = MultilabelStratifiedKFold(n_splits = num_splits, shuffle = True, random_state = seed)\n",
    "    tmp = train_score.loc[train_score.drug_id.isin(vc2)].reset_index(drop = True)\n",
    "    for fold,(idxT,idxV) in enumerate(skf.split(tmp,tmp[targets])):\n",
    "        dd = {k:fold for k in tmp.sig_id[idxV].values}\n",
    "        dct2.update(dd)\n",
    "\n",
    "    # ASSIGN FOLDS\n",
    "    train_score['fold'] = train_score.drug_id.map(dct1)\n",
    "    train_score.loc[train_score.fold.isna(),'fold'] =\\\n",
    "        train_score.loc[train_score.fold.isna(),'sig_id'].map(dct2)\n",
    "    train_score.fold = train_score.fold.astype('int8')\n",
    "    folds.append(train_score.fold.values)\n",
    "    \n",
    "    return np.array(folds)"
   ]
  },
  {
   "cell_type": "code",
   "execution_count": 20,
   "metadata": {
    "execution": {
     "iopub.execute_input": "2020-11-10T00:07:03.568158Z",
     "iopub.status.busy": "2020-11-10T00:07:03.567494Z",
     "iopub.status.idle": "2020-11-10T00:07:05.890779Z",
     "shell.execute_reply": "2020-11-10T00:07:05.890126Z"
    },
    "papermill": {
     "duration": 2.35981,
     "end_time": "2020-11-10T00:07:05.890893",
     "exception": false,
     "start_time": "2020-11-10T00:07:03.531083",
     "status": "completed"
    },
    "tags": []
   },
   "outputs": [],
   "source": [
    "target_feats = [i for i in targets.columns if i != \"sig_id\"]\n",
    "\n",
    "mlp_folds = make_folds(7, 34, y, drug)\n",
    "tab_folds = make_folds(5, 14, y, drug)\n",
    "\n",
    "check_dist = y.copy()\n",
    "check_dist[\"mlp_fold\"] = np.array(mlp_folds).reshape(-1,1)\n",
    "check_dist[\"tab_fold\"] = np.array(tab_folds).reshape(-1,1)\n",
    "\n",
    "mlp_unbalanced_feats = []\n",
    "tab_unbalanced_feats = []\n",
    "for i in target_feats:\n",
    "    if np.max(check_dist.loc[:,[i]+[\"mlp_fold\"]].groupby(\"mlp_fold\").sum()).values[0] == check_dist[i].sum() and check_dist[i].sum()>=5:\n",
    "        mlp_unbalanced_feats.append(i)\n",
    "    if np.max(check_dist.loc[:,[i]+[\"tab_fold\"]].groupby(\"tab_fold\").sum()).values[0] == check_dist[i].sum() and check_dist[i].sum()>=5:        \n",
    "        tab_unbalanced_feats.append(i)"
   ]
  },
  {
   "cell_type": "code",
   "execution_count": 21,
   "metadata": {
    "execution": {
     "iopub.execute_input": "2020-11-10T00:07:05.952829Z",
     "iopub.status.busy": "2020-11-10T00:07:05.952095Z",
     "iopub.status.idle": "2020-11-10T00:07:05.955969Z",
     "shell.execute_reply": "2020-11-10T00:07:05.955462Z"
    },
    "papermill": {
     "duration": 0.036808,
     "end_time": "2020-11-10T00:07:05.956086",
     "exception": false,
     "start_time": "2020-11-10T00:07:05.919278",
     "status": "completed"
    },
    "tags": []
   },
   "outputs": [
    {
     "data": {
      "text/plain": [
       "(17, 17)"
      ]
     },
     "execution_count": 21,
     "metadata": {},
     "output_type": "execute_result"
    }
   ],
   "source": [
    "len(mlp_unbalanced_feats), len(tab_unbalanced_feats)"
   ]
  },
  {
   "cell_type": "code",
   "execution_count": 22,
   "metadata": {
    "execution": {
     "iopub.execute_input": "2020-11-10T00:07:06.020009Z",
     "iopub.status.busy": "2020-11-10T00:07:06.019369Z",
     "iopub.status.idle": "2020-11-10T00:07:06.021975Z",
     "shell.execute_reply": "2020-11-10T00:07:06.022471Z"
    },
    "papermill": {
     "duration": 0.037485,
     "end_time": "2020-11-10T00:07:06.022611",
     "exception": false,
     "start_time": "2020-11-10T00:07:05.985126",
     "status": "completed"
    },
    "tags": []
   },
   "outputs": [
    {
     "name": "stdout",
     "output_type": "stream",
     "text": [
      "17\n"
     ]
    }
   ],
   "source": [
    "unbalanced_feats = set(mlp_unbalanced_feats) & set(tab_unbalanced_feats)\n",
    "unbalanced_feats = list(unbalanced_feats)\n",
    "print(len(unbalanced_feats))"
   ]
  },
  {
   "cell_type": "code",
   "execution_count": 23,
   "metadata": {
    "execution": {
     "iopub.execute_input": "2020-11-10T00:07:06.089410Z",
     "iopub.status.busy": "2020-11-10T00:07:06.088402Z",
     "iopub.status.idle": "2020-11-10T00:07:06.096046Z",
     "shell.execute_reply": "2020-11-10T00:07:06.095413Z"
    },
    "papermill": {
     "duration": 0.044062,
     "end_time": "2020-11-10T00:07:06.096158",
     "exception": false,
     "start_time": "2020-11-10T00:07:06.052096",
     "status": "completed"
    },
    "tags": []
   },
   "outputs": [
    {
     "data": {
      "text/plain": [
       "calcineurin_inhibitor                    6\n",
       "atm_kinase_inhibitor                     6\n",
       "antiarrhythmic                           6\n",
       "leukotriene_inhibitor                    6\n",
       "nicotinic_receptor_agonist               6\n",
       "tropomyosin_receptor_kinase_inhibitor    6\n",
       "autotaxin_inhibitor                      6\n",
       "diuretic                                 6\n",
       "steroid                                  6\n",
       "elastase_inhibitor                       6\n",
       "aldehyde_dehydrogenase_inhibitor         7\n",
       "coagulation_factor_inhibitor             6\n",
       "retinoid_receptor_antagonist             6\n",
       "protein_phosphatase_inhibitor            6\n",
       "laxative                                 6\n",
       "lxr_agonist                              6\n",
       "ubiquitin_specific_protease_inhibitor    6\n",
       "dtype: int64"
      ]
     },
     "execution_count": 23,
     "metadata": {},
     "output_type": "execute_result"
    }
   ],
   "source": [
    "y[unbalanced_feats].sum() #これだけの変数が1foldに偏っている。"
   ]
  },
  {
   "cell_type": "code",
   "execution_count": 24,
   "metadata": {
    "execution": {
     "iopub.execute_input": "2020-11-10T00:07:06.171927Z",
     "iopub.status.busy": "2020-11-10T00:07:06.171155Z",
     "iopub.status.idle": "2020-11-10T00:07:06.239813Z",
     "shell.execute_reply": "2020-11-10T00:07:06.239296Z"
    },
    "papermill": {
     "duration": 0.114482,
     "end_time": "2020-11-10T00:07:06.239926",
     "exception": false,
     "start_time": "2020-11-10T00:07:06.125444",
     "status": "completed"
    },
    "tags": []
   },
   "outputs": [
    {
     "name": "stdout",
     "output_type": "stream",
     "text": [
      "4c33b6fa1    6\n",
      "Name: drug_id, dtype: int64\n",
      "4c5736ff6    6\n",
      "Name: drug_id, dtype: int64\n",
      "a4797398a    6\n",
      "Name: drug_id, dtype: int64\n",
      "031afe482    6\n",
      "Name: drug_id, dtype: int64\n",
      "6a3bdd1f3    6\n",
      "Name: drug_id, dtype: int64\n",
      "827cc5d8d    6\n",
      "Name: drug_id, dtype: int64\n",
      "28fff865d    6\n",
      "Name: drug_id, dtype: int64\n",
      "84d4ecc6a    6\n",
      "Name: drug_id, dtype: int64\n",
      "83d61e159    6\n",
      "Name: drug_id, dtype: int64\n",
      "4412f3146    6\n",
      "Name: drug_id, dtype: int64\n",
      "5735a3e0f    7\n",
      "Name: drug_id, dtype: int64\n",
      "9a4100e20    6\n",
      "Name: drug_id, dtype: int64\n",
      "7614ec763    6\n",
      "Name: drug_id, dtype: int64\n",
      "7e6b66a8f    6\n",
      "Name: drug_id, dtype: int64\n",
      "fe17b8b65    6\n",
      "Name: drug_id, dtype: int64\n",
      "c5b47d91c    6\n",
      "Name: drug_id, dtype: int64\n",
      "2fe75eb73    6\n",
      "Name: drug_id, dtype: int64\n"
     ]
    }
   ],
   "source": [
    "check_dist = check_dist.merge(drug, on='sig_id', how='left') \n",
    "for i in unbalanced_feats:\n",
    "    print(check_dist[check_dist[i] ==1][\"drug_id\"].value_counts())"
   ]
  },
  {
   "cell_type": "code",
   "execution_count": 25,
   "metadata": {
    "execution": {
     "iopub.execute_input": "2020-11-10T00:07:06.307796Z",
     "iopub.status.busy": "2020-11-10T00:07:06.306755Z",
     "iopub.status.idle": "2020-11-10T00:07:06.314414Z",
     "shell.execute_reply": "2020-11-10T00:07:06.313774Z"
    },
    "papermill": {
     "duration": 0.04409,
     "end_time": "2020-11-10T00:07:06.314530",
     "exception": false,
     "start_time": "2020-11-10T00:07:06.270440",
     "status": "completed"
    },
    "tags": []
   },
   "outputs": [
    {
     "name": "stdout",
     "output_type": "stream",
     "text": [
      "calcineurin_inhibitor 0.0032824140001210746\n",
      "atm_kinase_inhibitor 0.003282414000121188\n",
      "antiarrhythmic 0.0032824140001209813\n",
      "leukotriene_inhibitor 0.003282414000121091\n",
      "nicotinic_receptor_agonist 0.0032824140001219797\n",
      "tropomyosin_receptor_kinase_inhibitor 0.0032824140001208725\n",
      "autotaxin_inhibitor 0.003282414000122102\n",
      "diuretic 0.0032824140001220894\n",
      "steroid 0.0032824140001213318\n",
      "elastase_inhibitor 0.003282414000121105\n",
      "aldehyde_dehydrogenase_inhibitor 0.5289331650205753\n",
      "coagulation_factor_inhibitor 0.0032824140001212424\n",
      "retinoid_receptor_antagonist 0.003282414000120655\n",
      "protein_phosphatase_inhibitor 0.0032824140001210854\n",
      "laxative 0.0032824140001217017\n",
      "lxr_agonist 0.00328241400012142\n",
      "ubiquitin_specific_protease_inhibitor 0.003282414000120977\n"
     ]
    }
   ],
   "source": [
    "for i in unbalanced_feats:\n",
    "    print(i, np.sort((corr_df[i]))[-2])"
   ]
  },
  {
   "cell_type": "code",
   "execution_count": 26,
   "metadata": {
    "execution": {
     "iopub.execute_input": "2020-11-10T00:07:06.384081Z",
     "iopub.status.busy": "2020-11-10T00:07:06.383418Z",
     "iopub.status.idle": "2020-11-10T00:07:06.451733Z",
     "shell.execute_reply": "2020-11-10T00:07:06.451109Z"
    },
    "papermill": {
     "duration": 0.105298,
     "end_time": "2020-11-10T00:07:06.451855",
     "exception": false,
     "start_time": "2020-11-10T00:07:06.346557",
     "status": "completed"
    },
    "tags": []
   },
   "outputs": [
    {
     "ename": "KeyError",
     "evalue": "'calcineurin_inhibitor'",
     "output_type": "error",
     "traceback": [
      "\u001b[0;31m---------------------------------------------------------------------------\u001b[0m",
      "\u001b[0;31mKeyError\u001b[0m                                  Traceback (most recent call last)",
      "\u001b[0;32m/opt/conda/lib/python3.7/site-packages/pandas/core/indexes/base.py\u001b[0m in \u001b[0;36mget_loc\u001b[0;34m(self, key, method, tolerance)\u001b[0m\n\u001b[1;32m   2894\u001b[0m             \u001b[0;32mtry\u001b[0m\u001b[0;34m:\u001b[0m\u001b[0;34m\u001b[0m\u001b[0;34m\u001b[0m\u001b[0m\n\u001b[0;32m-> 2895\u001b[0;31m                 \u001b[0;32mreturn\u001b[0m \u001b[0mself\u001b[0m\u001b[0;34m.\u001b[0m\u001b[0m_engine\u001b[0m\u001b[0;34m.\u001b[0m\u001b[0mget_loc\u001b[0m\u001b[0;34m(\u001b[0m\u001b[0mcasted_key\u001b[0m\u001b[0;34m)\u001b[0m\u001b[0;34m\u001b[0m\u001b[0;34m\u001b[0m\u001b[0m\n\u001b[0m\u001b[1;32m   2896\u001b[0m             \u001b[0;32mexcept\u001b[0m \u001b[0mKeyError\u001b[0m \u001b[0;32mas\u001b[0m \u001b[0merr\u001b[0m\u001b[0;34m:\u001b[0m\u001b[0;34m\u001b[0m\u001b[0;34m\u001b[0m\u001b[0m\n",
      "\u001b[0;32mpandas/_libs/index.pyx\u001b[0m in \u001b[0;36mpandas._libs.index.IndexEngine.get_loc\u001b[0;34m()\u001b[0m\n",
      "\u001b[0;32mpandas/_libs/index.pyx\u001b[0m in \u001b[0;36mpandas._libs.index.IndexEngine.get_loc\u001b[0;34m()\u001b[0m\n",
      "\u001b[0;32mpandas/_libs/hashtable_class_helper.pxi\u001b[0m in \u001b[0;36mpandas._libs.hashtable.PyObjectHashTable.get_item\u001b[0;34m()\u001b[0m\n",
      "\u001b[0;32mpandas/_libs/hashtable_class_helper.pxi\u001b[0m in \u001b[0;36mpandas._libs.hashtable.PyObjectHashTable.get_item\u001b[0;34m()\u001b[0m\n",
      "\u001b[0;31mKeyError\u001b[0m: 'calcineurin_inhibitor'",
      "\nThe above exception was the direct cause of the following exception:\n",
      "\u001b[0;31mKeyError\u001b[0m                                  Traceback (most recent call last)",
      "\u001b[0;32m<ipython-input-26-549c8f431cbb>\u001b[0m in \u001b[0;36m<module>\u001b[0;34m\u001b[0m\n\u001b[1;32m      1\u001b[0m \u001b[0mcheck_mlp_mod\u001b[0m \u001b[0;34m=\u001b[0m \u001b[0mcheck_mlp\u001b[0m\u001b[0;34m.\u001b[0m\u001b[0mcopy\u001b[0m\u001b[0;34m(\u001b[0m\u001b[0;34m)\u001b[0m\u001b[0;34m\u001b[0m\u001b[0;34m\u001b[0m\u001b[0m\n\u001b[1;32m      2\u001b[0m \u001b[0;32mfor\u001b[0m \u001b[0mi\u001b[0m \u001b[0;32min\u001b[0m \u001b[0munbalanced_feats\u001b[0m\u001b[0;34m:\u001b[0m\u001b[0;34m\u001b[0m\u001b[0;34m\u001b[0m\u001b[0m\n\u001b[0;32m----> 3\u001b[0;31m     \u001b[0mprint\u001b[0m\u001b[0;34m(\u001b[0m\u001b[0mi\u001b[0m\u001b[0;34m,\u001b[0m \u001b[0mcheck_mlp\u001b[0m\u001b[0;34m[\u001b[0m\u001b[0mi\u001b[0m\u001b[0;34m]\u001b[0m\u001b[0;34m.\u001b[0m\u001b[0mmax\u001b[0m\u001b[0;34m(\u001b[0m\u001b[0;34m)\u001b[0m\u001b[0;34m)\u001b[0m\u001b[0;34m\u001b[0m\u001b[0;34m\u001b[0m\u001b[0m\n\u001b[0m",
      "\u001b[0;32m/opt/conda/lib/python3.7/site-packages/pandas/core/frame.py\u001b[0m in \u001b[0;36m__getitem__\u001b[0;34m(self, key)\u001b[0m\n\u001b[1;32m   2900\u001b[0m             \u001b[0;32mif\u001b[0m \u001b[0mself\u001b[0m\u001b[0;34m.\u001b[0m\u001b[0mcolumns\u001b[0m\u001b[0;34m.\u001b[0m\u001b[0mnlevels\u001b[0m \u001b[0;34m>\u001b[0m \u001b[0;36m1\u001b[0m\u001b[0;34m:\u001b[0m\u001b[0;34m\u001b[0m\u001b[0;34m\u001b[0m\u001b[0m\n\u001b[1;32m   2901\u001b[0m                 \u001b[0;32mreturn\u001b[0m \u001b[0mself\u001b[0m\u001b[0;34m.\u001b[0m\u001b[0m_getitem_multilevel\u001b[0m\u001b[0;34m(\u001b[0m\u001b[0mkey\u001b[0m\u001b[0;34m)\u001b[0m\u001b[0;34m\u001b[0m\u001b[0;34m\u001b[0m\u001b[0m\n\u001b[0;32m-> 2902\u001b[0;31m             \u001b[0mindexer\u001b[0m \u001b[0;34m=\u001b[0m \u001b[0mself\u001b[0m\u001b[0;34m.\u001b[0m\u001b[0mcolumns\u001b[0m\u001b[0;34m.\u001b[0m\u001b[0mget_loc\u001b[0m\u001b[0;34m(\u001b[0m\u001b[0mkey\u001b[0m\u001b[0;34m)\u001b[0m\u001b[0;34m\u001b[0m\u001b[0;34m\u001b[0m\u001b[0m\n\u001b[0m\u001b[1;32m   2903\u001b[0m             \u001b[0;32mif\u001b[0m \u001b[0mis_integer\u001b[0m\u001b[0;34m(\u001b[0m\u001b[0mindexer\u001b[0m\u001b[0;34m)\u001b[0m\u001b[0;34m:\u001b[0m\u001b[0;34m\u001b[0m\u001b[0;34m\u001b[0m\u001b[0m\n\u001b[1;32m   2904\u001b[0m                 \u001b[0mindexer\u001b[0m \u001b[0;34m=\u001b[0m \u001b[0;34m[\u001b[0m\u001b[0mindexer\u001b[0m\u001b[0;34m]\u001b[0m\u001b[0;34m\u001b[0m\u001b[0;34m\u001b[0m\u001b[0m\n",
      "\u001b[0;32m/opt/conda/lib/python3.7/site-packages/pandas/core/indexes/base.py\u001b[0m in \u001b[0;36mget_loc\u001b[0;34m(self, key, method, tolerance)\u001b[0m\n\u001b[1;32m   2895\u001b[0m                 \u001b[0;32mreturn\u001b[0m \u001b[0mself\u001b[0m\u001b[0;34m.\u001b[0m\u001b[0m_engine\u001b[0m\u001b[0;34m.\u001b[0m\u001b[0mget_loc\u001b[0m\u001b[0;34m(\u001b[0m\u001b[0mcasted_key\u001b[0m\u001b[0;34m)\u001b[0m\u001b[0;34m\u001b[0m\u001b[0;34m\u001b[0m\u001b[0m\n\u001b[1;32m   2896\u001b[0m             \u001b[0;32mexcept\u001b[0m \u001b[0mKeyError\u001b[0m \u001b[0;32mas\u001b[0m \u001b[0merr\u001b[0m\u001b[0;34m:\u001b[0m\u001b[0;34m\u001b[0m\u001b[0;34m\u001b[0m\u001b[0m\n\u001b[0;32m-> 2897\u001b[0;31m                 \u001b[0;32mraise\u001b[0m \u001b[0mKeyError\u001b[0m\u001b[0;34m(\u001b[0m\u001b[0mkey\u001b[0m\u001b[0;34m)\u001b[0m \u001b[0;32mfrom\u001b[0m \u001b[0merr\u001b[0m\u001b[0;34m\u001b[0m\u001b[0;34m\u001b[0m\u001b[0m\n\u001b[0m\u001b[1;32m   2898\u001b[0m \u001b[0;34m\u001b[0m\u001b[0m\n\u001b[1;32m   2899\u001b[0m         \u001b[0;32mif\u001b[0m \u001b[0mtolerance\u001b[0m \u001b[0;32mis\u001b[0m \u001b[0;32mnot\u001b[0m \u001b[0;32mNone\u001b[0m\u001b[0;34m:\u001b[0m\u001b[0;34m\u001b[0m\u001b[0;34m\u001b[0m\u001b[0m\n",
      "\u001b[0;31mKeyError\u001b[0m: 'calcineurin_inhibitor'"
     ]
    }
   ],
   "source": [
    "check_mlp_mod = check_mlp.copy()\n",
    "for i in unbalanced_feats:\n",
    "    print(i, check_mlp[i].max())"
   ]
  },
  {
   "cell_type": "code",
   "execution_count": 27,
   "metadata": {
    "execution": {
     "iopub.execute_input": "2020-11-10T00:07:06.522152Z",
     "iopub.status.busy": "2020-11-10T00:07:06.521046Z",
     "iopub.status.idle": "2020-11-10T00:07:06.621331Z",
     "shell.execute_reply": "2020-11-10T00:07:06.620780Z"
    },
    "papermill": {
     "duration": 0.138028,
     "end_time": "2020-11-10T00:07:06.621457",
     "exception": false,
     "start_time": "2020-11-10T00:07:06.483429",
     "status": "completed"
    },
    "tags": []
   },
   "outputs": [
    {
     "name": "stdout",
     "output_type": "stream",
     "text": [
      "0.00304774833295979 aldehyde_dehydrogenase_inhibitor\n",
      "0.0026752891651685012 antiarrhythmic\n",
      "0.0027347305597657232 atm_kinase_inhibitor\n",
      "0.0026826978087902548 autotaxin_inhibitor\n",
      "0.0026670714137301023 calcineurin_inhibitor\n",
      "0.0026752730510147755 coagulation_factor_inhibitor\n",
      "0.002679615122249506 diuretic\n",
      "0.002687043432788702 elastase_inhibitor\n",
      "0.002670653710421615 laxative\n",
      "0.002670359781157954 leukotriene_inhibitor\n",
      "0.0027168156939604347 lxr_agonist\n",
      "0.0026695575997467587 nicotinic_receptor_agonist\n",
      "0.00271787353938845 protein_phosphatase_inhibitor\n",
      "0.002691691625318644 retinoid_receptor_antagonist\n",
      "0.0026705871988789865 steroid\n",
      "0.0026875874477136096 tropomyosin_receptor_kinase_inhibitor\n",
      "0.0026839362414972745 ubiquitin_specific_protease_inhibitor\n"
     ]
    }
   ],
   "source": [
    "# \n",
    "check_mlp.columns = target_feats\n",
    "for i in sorted(unbalanced_feats):\n",
    "    print(log_loss(targets[i], check_mlp[i]), i)\n",
    "    #print(log_loss(targets[i], check_tabnet_val2[i]), i)\n",
    "    #print(log_loss(targets[i], (check_mlp[i] + check_tabnet_val[i])/2), i)"
   ]
  },
  {
   "cell_type": "code",
   "execution_count": 28,
   "metadata": {
    "execution": {
     "iopub.execute_input": "2020-11-10T00:07:06.691727Z",
     "iopub.status.busy": "2020-11-10T00:07:06.690788Z",
     "iopub.status.idle": "2020-11-10T00:07:06.696721Z",
     "shell.execute_reply": "2020-11-10T00:07:06.696000Z"
    },
    "papermill": {
     "duration": 0.042569,
     "end_time": "2020-11-10T00:07:06.696853",
     "exception": false,
     "start_time": "2020-11-10T00:07:06.654284",
     "status": "completed"
    },
    "tags": []
   },
   "outputs": [
    {
     "data": {
      "text/plain": [
       "array([[1.        , 0.24097525],\n",
       "       [0.24097525, 1.        ]])"
      ]
     },
     "execution_count": 28,
     "metadata": {},
     "output_type": "execute_result"
    }
   ],
   "source": [
    "np.corrcoef(check_mlp[\"aldehyde_dehydrogenase_inhibitor\"], check_mlp[\"laxative\"])"
   ]
  },
  {
   "cell_type": "code",
   "execution_count": 29,
   "metadata": {
    "execution": {
     "iopub.execute_input": "2020-11-10T00:07:06.769105Z",
     "iopub.status.busy": "2020-11-10T00:07:06.768111Z",
     "iopub.status.idle": "2020-11-10T00:07:06.772971Z",
     "shell.execute_reply": "2020-11-10T00:07:06.772376Z"
    },
    "papermill": {
     "duration": 0.04361,
     "end_time": "2020-11-10T00:07:06.773078",
     "exception": false,
     "start_time": "2020-11-10T00:07:06.729468",
     "status": "completed"
    },
    "tags": []
   },
   "outputs": [
    {
     "data": {
      "text/plain": [
       "1.5533980582524273e-05"
      ]
     },
     "execution_count": 29,
     "metadata": {},
     "output_type": "execute_result"
    }
   ],
   "source": [
    "0.0002 * 16 / 206"
   ]
  },
  {
   "cell_type": "code",
   "execution_count": null,
   "metadata": {
    "papermill": {
     "duration": 0.032686,
     "end_time": "2020-11-10T00:07:06.838768",
     "exception": false,
     "start_time": "2020-11-10T00:07:06.806082",
     "status": "completed"
    },
    "tags": []
   },
   "outputs": [],
   "source": []
  }
 ],
 "metadata": {
  "kernelspec": {
   "display_name": "Python 3",
   "language": "python",
   "name": "python3"
  },
  "language_info": {
   "codemirror_mode": {
    "name": "ipython",
    "version": 3
   },
   "file_extension": ".py",
   "mimetype": "text/x-python",
   "name": "python",
   "nbconvert_exporter": "python",
   "pygments_lexer": "ipython3",
   "version": "3.7.6"
  },
  "papermill": {
   "duration": 40.367637,
   "end_time": "2020-11-10T00:07:06.980046",
   "environment_variables": {},
   "exception": null,
   "input_path": "__notebook__.ipynb",
   "output_path": "__notebook__.ipynb",
   "parameters": {},
   "start_time": "2020-11-10T00:06:26.612409",
   "version": "2.1.0"
  }
 },
 "nbformat": 4,
 "nbformat_minor": 4
}
