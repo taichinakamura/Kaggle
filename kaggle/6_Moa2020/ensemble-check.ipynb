{
 "cells": [
  {
   "cell_type": "code",
   "execution_count": 1,
   "metadata": {
    "_cell_guid": "b1076dfc-b9ad-4769-8c92-a6c4dae69d19",
    "_uuid": "8f2839f25d086af736a60e9eeb907d3b93b6e0e5",
    "execution": {
     "iopub.execute_input": "2020-11-09T05:22:54.116141Z",
     "iopub.status.busy": "2020-11-09T05:22:54.114246Z",
     "iopub.status.idle": "2020-11-09T05:23:08.276995Z",
     "shell.execute_reply": "2020-11-09T05:23:08.277736Z"
    },
    "papermill": {
     "duration": 14.223704,
     "end_time": "2020-11-09T05:23:08.277981",
     "exception": false,
     "start_time": "2020-11-09T05:22:54.054277",
     "status": "completed"
    },
    "tags": []
   },
   "outputs": [],
   "source": [
    "import sys\n",
    "sys.path.append('../input/multilabelstraifier/')\n",
    "from ml_stratifiers import MultilabelStratifiedKFold\n",
    "\n",
    "import pandas as pd\n",
    "import numpy as np\n",
    "import matplotlib.pyplot as plt\n",
    "from sklearn.metrics import log_loss\n",
    "DIR = \"../input/moa-ensemble-check/\"\n",
    "mlp = pd.read_csv(DIR+\"mlp1840.csv\")\n",
    "check_mlp = pd.read_csv(DIR+\"mlp_oof2.csv\")\n",
    "check_tabnet_val = pd.read_csv(DIR+\"tab_newval_oof.csv\").drop(\"sig_id\", axis=1)\n",
    "check_svm = pd.read_csv(DIR+\"svm_newval_oof.csv\")\n",
    "\n",
    "y = pd.read_csv('../input/lish-moa/train_targets_scored.csv')\n",
    "targets = pd.read_csv('../input/lish-moa/train_targets_scored.csv').drop(\"sig_id\", axis=1)\n",
    "train = pd.read_csv('../input/lish-moa/train_features.csv')\n",
    "drug = pd.read_csv('../input/lish-moa/train_drug.csv')\n",
    "\n",
    "#check_tabnet = pd.read_csv(DIR+\"tab_oof2.csv\")\n",
    "#tab = pd.read_csv(DIR+\"sub_tab1859.csv\")\n",
    "#xgb = pd.read_csv(DIR+\"xgb1951.csv\")\n",
    "#check_xgb = pd.read_csv(DIR+\"xgb_oof.csv\")"
   ]
  },
  {
   "cell_type": "code",
   "execution_count": 2,
   "metadata": {
    "execution": {
     "iopub.execute_input": "2020-11-09T05:23:08.343232Z",
     "iopub.status.busy": "2020-11-09T05:23:08.342429Z",
     "iopub.status.idle": "2020-11-09T05:23:08.346360Z",
     "shell.execute_reply": "2020-11-09T05:23:08.345566Z"
    },
    "papermill": {
     "duration": 0.037993,
     "end_time": "2020-11-09T05:23:08.346500",
     "exception": false,
     "start_time": "2020-11-09T05:23:08.308507",
     "status": "completed"
    },
    "tags": []
   },
   "outputs": [],
   "source": [
    "from sklearn.metrics import log_loss"
   ]
  },
  {
   "cell_type": "code",
   "execution_count": 3,
   "metadata": {
    "execution": {
     "iopub.execute_input": "2020-11-09T05:23:08.417819Z",
     "iopub.status.busy": "2020-11-09T05:23:08.417010Z",
     "iopub.status.idle": "2020-11-09T05:23:08.522629Z",
     "shell.execute_reply": "2020-11-09T05:23:08.521963Z"
    },
    "papermill": {
     "duration": 0.14484,
     "end_time": "2020-11-09T05:23:08.522788",
     "exception": false,
     "start_time": "2020-11-09T05:23:08.377948",
     "status": "completed"
    },
    "tags": []
   },
   "outputs": [],
   "source": [
    "cons_train_index = train[train.cp_type!=\"ctl_vehicle\"].index"
   ]
  },
  {
   "cell_type": "code",
   "execution_count": 4,
   "metadata": {
    "execution": {
     "iopub.execute_input": "2020-11-09T05:23:08.596094Z",
     "iopub.status.busy": "2020-11-09T05:23:08.591820Z",
     "iopub.status.idle": "2020-11-09T05:23:08.612809Z",
     "shell.execute_reply": "2020-11-09T05:23:08.611959Z"
    },
    "papermill": {
     "duration": 0.060901,
     "end_time": "2020-11-09T05:23:08.612946",
     "exception": false,
     "start_time": "2020-11-09T05:23:08.552045",
     "status": "completed"
    },
    "tags": []
   },
   "outputs": [],
   "source": [
    "y = y.loc[y.index.isin(cons_train_index),:]"
   ]
  },
  {
   "cell_type": "code",
   "execution_count": 5,
   "metadata": {
    "execution": {
     "iopub.execute_input": "2020-11-09T05:23:08.681547Z",
     "iopub.status.busy": "2020-11-09T05:23:08.680533Z",
     "iopub.status.idle": "2020-11-09T05:23:10.706121Z",
     "shell.execute_reply": "2020-11-09T05:23:10.706787Z"
    },
    "papermill": {
     "duration": 2.061351,
     "end_time": "2020-11-09T05:23:10.706948",
     "exception": false,
     "start_time": "2020-11-09T05:23:08.645597",
     "status": "completed"
    },
    "tags": []
   },
   "outputs": [
    {
     "data": {
      "text/html": [
       "<div>\n",
       "<style scoped>\n",
       "    .dataframe tbody tr th:only-of-type {\n",
       "        vertical-align: middle;\n",
       "    }\n",
       "\n",
       "    .dataframe tbody tr th {\n",
       "        vertical-align: top;\n",
       "    }\n",
       "\n",
       "    .dataframe thead th {\n",
       "        text-align: right;\n",
       "    }\n",
       "</style>\n",
       "<table border=\"1\" class=\"dataframe\">\n",
       "  <thead>\n",
       "    <tr style=\"text-align: right;\">\n",
       "      <th></th>\n",
       "      <th>5-alpha_reductase_inhibitor</th>\n",
       "      <th>11-beta-hsd1_inhibitor</th>\n",
       "      <th>acat_inhibitor</th>\n",
       "      <th>acetylcholine_receptor_agonist</th>\n",
       "      <th>acetylcholine_receptor_antagonist</th>\n",
       "      <th>acetylcholinesterase_inhibitor</th>\n",
       "      <th>adenosine_receptor_agonist</th>\n",
       "      <th>adenosine_receptor_antagonist</th>\n",
       "      <th>adenylyl_cyclase_activator</th>\n",
       "      <th>adrenergic_receptor_agonist</th>\n",
       "      <th>...</th>\n",
       "      <th>tropomyosin_receptor_kinase_inhibitor</th>\n",
       "      <th>trpv_agonist</th>\n",
       "      <th>trpv_antagonist</th>\n",
       "      <th>tubulin_inhibitor</th>\n",
       "      <th>tyrosine_kinase_inhibitor</th>\n",
       "      <th>ubiquitin_specific_protease_inhibitor</th>\n",
       "      <th>vegfr_inhibitor</th>\n",
       "      <th>vitamin_b</th>\n",
       "      <th>vitamin_d_receptor_agonist</th>\n",
       "      <th>wnt_inhibitor</th>\n",
       "    </tr>\n",
       "  </thead>\n",
       "  <tbody>\n",
       "    <tr>\n",
       "      <th>5-alpha_reductase_inhibitor</th>\n",
       "      <td>1.000000</td>\n",
       "      <td>0.000798</td>\n",
       "      <td>0.000921</td>\n",
       "      <td>0.002602</td>\n",
       "      <td>0.003283</td>\n",
       "      <td>0.001608</td>\n",
       "      <td>0.001383</td>\n",
       "      <td>0.001845</td>\n",
       "      <td>0.000651</td>\n",
       "      <td>0.003107</td>\n",
       "      <td>...</td>\n",
       "      <td>0.000460</td>\n",
       "      <td>0.000940</td>\n",
       "      <td>0.001303</td>\n",
       "      <td>0.003365</td>\n",
       "      <td>0.001608</td>\n",
       "      <td>0.000460</td>\n",
       "      <td>0.002460</td>\n",
       "      <td>0.000959</td>\n",
       "      <td>0.001175</td>\n",
       "      <td>0.001030</td>\n",
       "    </tr>\n",
       "    <tr>\n",
       "      <th>11-beta-hsd1_inhibitor</th>\n",
       "      <td>0.000798</td>\n",
       "      <td>1.000000</td>\n",
       "      <td>0.000948</td>\n",
       "      <td>0.002677</td>\n",
       "      <td>0.003378</td>\n",
       "      <td>0.164210</td>\n",
       "      <td>0.001423</td>\n",
       "      <td>0.001899</td>\n",
       "      <td>0.000670</td>\n",
       "      <td>0.003197</td>\n",
       "      <td>...</td>\n",
       "      <td>0.000474</td>\n",
       "      <td>0.000967</td>\n",
       "      <td>0.001341</td>\n",
       "      <td>0.003463</td>\n",
       "      <td>0.001655</td>\n",
       "      <td>0.000474</td>\n",
       "      <td>0.002531</td>\n",
       "      <td>0.000987</td>\n",
       "      <td>0.001209</td>\n",
       "      <td>0.001060</td>\n",
       "    </tr>\n",
       "    <tr>\n",
       "      <th>acat_inhibitor</th>\n",
       "      <td>0.000921</td>\n",
       "      <td>0.000948</td>\n",
       "      <td>1.000000</td>\n",
       "      <td>0.003092</td>\n",
       "      <td>0.003901</td>\n",
       "      <td>0.001911</td>\n",
       "      <td>0.001643</td>\n",
       "      <td>0.002193</td>\n",
       "      <td>0.000774</td>\n",
       "      <td>0.003692</td>\n",
       "      <td>...</td>\n",
       "      <td>0.000547</td>\n",
       "      <td>0.001117</td>\n",
       "      <td>0.001549</td>\n",
       "      <td>0.003999</td>\n",
       "      <td>0.001911</td>\n",
       "      <td>0.000547</td>\n",
       "      <td>0.002923</td>\n",
       "      <td>0.001139</td>\n",
       "      <td>0.001396</td>\n",
       "      <td>0.001224</td>\n",
       "    </tr>\n",
       "    <tr>\n",
       "      <th>acetylcholine_receptor_agonist</th>\n",
       "      <td>0.002602</td>\n",
       "      <td>0.002677</td>\n",
       "      <td>0.003092</td>\n",
       "      <td>1.000000</td>\n",
       "      <td>0.011019</td>\n",
       "      <td>0.005398</td>\n",
       "      <td>0.004641</td>\n",
       "      <td>0.006194</td>\n",
       "      <td>0.002186</td>\n",
       "      <td>0.010429</td>\n",
       "      <td>...</td>\n",
       "      <td>0.001545</td>\n",
       "      <td>0.003156</td>\n",
       "      <td>0.004375</td>\n",
       "      <td>0.011294</td>\n",
       "      <td>0.005398</td>\n",
       "      <td>0.001545</td>\n",
       "      <td>0.008256</td>\n",
       "      <td>0.003218</td>\n",
       "      <td>0.003943</td>\n",
       "      <td>0.003457</td>\n",
       "    </tr>\n",
       "    <tr>\n",
       "      <th>acetylcholine_receptor_antagonist</th>\n",
       "      <td>0.003283</td>\n",
       "      <td>0.003378</td>\n",
       "      <td>0.003901</td>\n",
       "      <td>0.011019</td>\n",
       "      <td>1.000000</td>\n",
       "      <td>0.006812</td>\n",
       "      <td>0.005856</td>\n",
       "      <td>0.007816</td>\n",
       "      <td>0.002758</td>\n",
       "      <td>0.013160</td>\n",
       "      <td>...</td>\n",
       "      <td>0.001950</td>\n",
       "      <td>0.003982</td>\n",
       "      <td>0.005521</td>\n",
       "      <td>0.014252</td>\n",
       "      <td>0.006812</td>\n",
       "      <td>0.001950</td>\n",
       "      <td>0.010418</td>\n",
       "      <td>0.004061</td>\n",
       "      <td>0.004975</td>\n",
       "      <td>0.004363</td>\n",
       "    </tr>\n",
       "    <tr>\n",
       "      <th>...</th>\n",
       "      <td>...</td>\n",
       "      <td>...</td>\n",
       "      <td>...</td>\n",
       "      <td>...</td>\n",
       "      <td>...</td>\n",
       "      <td>...</td>\n",
       "      <td>...</td>\n",
       "      <td>...</td>\n",
       "      <td>...</td>\n",
       "      <td>...</td>\n",
       "      <td>...</td>\n",
       "      <td>...</td>\n",
       "      <td>...</td>\n",
       "      <td>...</td>\n",
       "      <td>...</td>\n",
       "      <td>...</td>\n",
       "      <td>...</td>\n",
       "      <td>...</td>\n",
       "      <td>...</td>\n",
       "      <td>...</td>\n",
       "      <td>...</td>\n",
       "    </tr>\n",
       "    <tr>\n",
       "      <th>ubiquitin_specific_protease_inhibitor</th>\n",
       "      <td>0.000460</td>\n",
       "      <td>0.000474</td>\n",
       "      <td>0.000547</td>\n",
       "      <td>0.001545</td>\n",
       "      <td>0.001950</td>\n",
       "      <td>0.000955</td>\n",
       "      <td>0.000821</td>\n",
       "      <td>0.001096</td>\n",
       "      <td>0.000387</td>\n",
       "      <td>0.001845</td>\n",
       "      <td>...</td>\n",
       "      <td>0.000273</td>\n",
       "      <td>0.000558</td>\n",
       "      <td>0.000774</td>\n",
       "      <td>0.001999</td>\n",
       "      <td>0.000955</td>\n",
       "      <td>1.000000</td>\n",
       "      <td>0.001461</td>\n",
       "      <td>0.000569</td>\n",
       "      <td>0.000698</td>\n",
       "      <td>0.000612</td>\n",
       "    </tr>\n",
       "    <tr>\n",
       "      <th>vegfr_inhibitor</th>\n",
       "      <td>0.002460</td>\n",
       "      <td>0.002531</td>\n",
       "      <td>0.002923</td>\n",
       "      <td>0.008256</td>\n",
       "      <td>0.010418</td>\n",
       "      <td>0.005104</td>\n",
       "      <td>0.004388</td>\n",
       "      <td>0.005856</td>\n",
       "      <td>0.002066</td>\n",
       "      <td>0.009860</td>\n",
       "      <td>...</td>\n",
       "      <td>0.001461</td>\n",
       "      <td>0.002984</td>\n",
       "      <td>0.004136</td>\n",
       "      <td>0.010679</td>\n",
       "      <td>0.005104</td>\n",
       "      <td>0.001461</td>\n",
       "      <td>1.000000</td>\n",
       "      <td>0.003043</td>\n",
       "      <td>0.003728</td>\n",
       "      <td>0.003269</td>\n",
       "    </tr>\n",
       "    <tr>\n",
       "      <th>vitamin_b</th>\n",
       "      <td>0.000959</td>\n",
       "      <td>0.000987</td>\n",
       "      <td>0.001139</td>\n",
       "      <td>0.003218</td>\n",
       "      <td>0.004061</td>\n",
       "      <td>0.001989</td>\n",
       "      <td>0.001710</td>\n",
       "      <td>0.002283</td>\n",
       "      <td>0.000805</td>\n",
       "      <td>0.003843</td>\n",
       "      <td>...</td>\n",
       "      <td>0.000569</td>\n",
       "      <td>0.001163</td>\n",
       "      <td>0.001612</td>\n",
       "      <td>0.004162</td>\n",
       "      <td>0.001989</td>\n",
       "      <td>0.000569</td>\n",
       "      <td>0.003043</td>\n",
       "      <td>1.000000</td>\n",
       "      <td>0.001453</td>\n",
       "      <td>0.001274</td>\n",
       "    </tr>\n",
       "    <tr>\n",
       "      <th>vitamin_d_receptor_agonist</th>\n",
       "      <td>0.001175</td>\n",
       "      <td>0.001209</td>\n",
       "      <td>0.001396</td>\n",
       "      <td>0.003943</td>\n",
       "      <td>0.004975</td>\n",
       "      <td>0.002437</td>\n",
       "      <td>0.002095</td>\n",
       "      <td>0.002796</td>\n",
       "      <td>0.000987</td>\n",
       "      <td>0.004709</td>\n",
       "      <td>...</td>\n",
       "      <td>0.000698</td>\n",
       "      <td>0.001425</td>\n",
       "      <td>0.001975</td>\n",
       "      <td>0.005099</td>\n",
       "      <td>0.002437</td>\n",
       "      <td>0.000698</td>\n",
       "      <td>0.003728</td>\n",
       "      <td>0.001453</td>\n",
       "      <td>1.000000</td>\n",
       "      <td>0.001561</td>\n",
       "    </tr>\n",
       "    <tr>\n",
       "      <th>wnt_inhibitor</th>\n",
       "      <td>0.001030</td>\n",
       "      <td>0.001060</td>\n",
       "      <td>0.001224</td>\n",
       "      <td>0.003457</td>\n",
       "      <td>0.004363</td>\n",
       "      <td>0.002137</td>\n",
       "      <td>0.001837</td>\n",
       "      <td>0.002452</td>\n",
       "      <td>0.000865</td>\n",
       "      <td>0.004129</td>\n",
       "      <td>...</td>\n",
       "      <td>0.000612</td>\n",
       "      <td>0.001249</td>\n",
       "      <td>0.001732</td>\n",
       "      <td>0.004472</td>\n",
       "      <td>0.002137</td>\n",
       "      <td>0.000612</td>\n",
       "      <td>0.003269</td>\n",
       "      <td>0.001274</td>\n",
       "      <td>0.001561</td>\n",
       "      <td>1.000000</td>\n",
       "    </tr>\n",
       "  </tbody>\n",
       "</table>\n",
       "<p>206 rows × 206 columns</p>\n",
       "</div>"
      ],
      "text/plain": [
       "                                       5-alpha_reductase_inhibitor  \\\n",
       "5-alpha_reductase_inhibitor                               1.000000   \n",
       "11-beta-hsd1_inhibitor                                    0.000798   \n",
       "acat_inhibitor                                            0.000921   \n",
       "acetylcholine_receptor_agonist                            0.002602   \n",
       "acetylcholine_receptor_antagonist                         0.003283   \n",
       "...                                                            ...   \n",
       "ubiquitin_specific_protease_inhibitor                     0.000460   \n",
       "vegfr_inhibitor                                           0.002460   \n",
       "vitamin_b                                                 0.000959   \n",
       "vitamin_d_receptor_agonist                                0.001175   \n",
       "wnt_inhibitor                                             0.001030   \n",
       "\n",
       "                                       11-beta-hsd1_inhibitor  acat_inhibitor  \\\n",
       "5-alpha_reductase_inhibitor                          0.000798        0.000921   \n",
       "11-beta-hsd1_inhibitor                               1.000000        0.000948   \n",
       "acat_inhibitor                                       0.000948        1.000000   \n",
       "acetylcholine_receptor_agonist                       0.002677        0.003092   \n",
       "acetylcholine_receptor_antagonist                    0.003378        0.003901   \n",
       "...                                                       ...             ...   \n",
       "ubiquitin_specific_protease_inhibitor                0.000474        0.000547   \n",
       "vegfr_inhibitor                                      0.002531        0.002923   \n",
       "vitamin_b                                            0.000987        0.001139   \n",
       "vitamin_d_receptor_agonist                           0.001209        0.001396   \n",
       "wnt_inhibitor                                        0.001060        0.001224   \n",
       "\n",
       "                                       acetylcholine_receptor_agonist  \\\n",
       "5-alpha_reductase_inhibitor                                  0.002602   \n",
       "11-beta-hsd1_inhibitor                                       0.002677   \n",
       "acat_inhibitor                                               0.003092   \n",
       "acetylcholine_receptor_agonist                               1.000000   \n",
       "acetylcholine_receptor_antagonist                            0.011019   \n",
       "...                                                               ...   \n",
       "ubiquitin_specific_protease_inhibitor                        0.001545   \n",
       "vegfr_inhibitor                                              0.008256   \n",
       "vitamin_b                                                    0.003218   \n",
       "vitamin_d_receptor_agonist                                   0.003943   \n",
       "wnt_inhibitor                                                0.003457   \n",
       "\n",
       "                                       acetylcholine_receptor_antagonist  \\\n",
       "5-alpha_reductase_inhibitor                                     0.003283   \n",
       "11-beta-hsd1_inhibitor                                          0.003378   \n",
       "acat_inhibitor                                                  0.003901   \n",
       "acetylcholine_receptor_agonist                                  0.011019   \n",
       "acetylcholine_receptor_antagonist                               1.000000   \n",
       "...                                                                  ...   \n",
       "ubiquitin_specific_protease_inhibitor                           0.001950   \n",
       "vegfr_inhibitor                                                 0.010418   \n",
       "vitamin_b                                                       0.004061   \n",
       "vitamin_d_receptor_agonist                                      0.004975   \n",
       "wnt_inhibitor                                                   0.004363   \n",
       "\n",
       "                                       acetylcholinesterase_inhibitor  \\\n",
       "5-alpha_reductase_inhibitor                                  0.001608   \n",
       "11-beta-hsd1_inhibitor                                       0.164210   \n",
       "acat_inhibitor                                               0.001911   \n",
       "acetylcholine_receptor_agonist                               0.005398   \n",
       "acetylcholine_receptor_antagonist                            0.006812   \n",
       "...                                                               ...   \n",
       "ubiquitin_specific_protease_inhibitor                        0.000955   \n",
       "vegfr_inhibitor                                              0.005104   \n",
       "vitamin_b                                                    0.001989   \n",
       "vitamin_d_receptor_agonist                                   0.002437   \n",
       "wnt_inhibitor                                                0.002137   \n",
       "\n",
       "                                       adenosine_receptor_agonist  \\\n",
       "5-alpha_reductase_inhibitor                              0.001383   \n",
       "11-beta-hsd1_inhibitor                                   0.001423   \n",
       "acat_inhibitor                                           0.001643   \n",
       "acetylcholine_receptor_agonist                           0.004641   \n",
       "acetylcholine_receptor_antagonist                        0.005856   \n",
       "...                                                           ...   \n",
       "ubiquitin_specific_protease_inhibitor                    0.000821   \n",
       "vegfr_inhibitor                                          0.004388   \n",
       "vitamin_b                                                0.001710   \n",
       "vitamin_d_receptor_agonist                               0.002095   \n",
       "wnt_inhibitor                                            0.001837   \n",
       "\n",
       "                                       adenosine_receptor_antagonist  \\\n",
       "5-alpha_reductase_inhibitor                                 0.001845   \n",
       "11-beta-hsd1_inhibitor                                      0.001899   \n",
       "acat_inhibitor                                              0.002193   \n",
       "acetylcholine_receptor_agonist                              0.006194   \n",
       "acetylcholine_receptor_antagonist                           0.007816   \n",
       "...                                                              ...   \n",
       "ubiquitin_specific_protease_inhibitor                       0.001096   \n",
       "vegfr_inhibitor                                             0.005856   \n",
       "vitamin_b                                                   0.002283   \n",
       "vitamin_d_receptor_agonist                                  0.002796   \n",
       "wnt_inhibitor                                               0.002452   \n",
       "\n",
       "                                       adenylyl_cyclase_activator  \\\n",
       "5-alpha_reductase_inhibitor                              0.000651   \n",
       "11-beta-hsd1_inhibitor                                   0.000670   \n",
       "acat_inhibitor                                           0.000774   \n",
       "acetylcholine_receptor_agonist                           0.002186   \n",
       "acetylcholine_receptor_antagonist                        0.002758   \n",
       "...                                                           ...   \n",
       "ubiquitin_specific_protease_inhibitor                    0.000387   \n",
       "vegfr_inhibitor                                          0.002066   \n",
       "vitamin_b                                                0.000805   \n",
       "vitamin_d_receptor_agonist                               0.000987   \n",
       "wnt_inhibitor                                            0.000865   \n",
       "\n",
       "                                       adrenergic_receptor_agonist  ...  \\\n",
       "5-alpha_reductase_inhibitor                               0.003107  ...   \n",
       "11-beta-hsd1_inhibitor                                    0.003197  ...   \n",
       "acat_inhibitor                                            0.003692  ...   \n",
       "acetylcholine_receptor_agonist                            0.010429  ...   \n",
       "acetylcholine_receptor_antagonist                         0.013160  ...   \n",
       "...                                                            ...  ...   \n",
       "ubiquitin_specific_protease_inhibitor                     0.001845  ...   \n",
       "vegfr_inhibitor                                           0.009860  ...   \n",
       "vitamin_b                                                 0.003843  ...   \n",
       "vitamin_d_receptor_agonist                                0.004709  ...   \n",
       "wnt_inhibitor                                             0.004129  ...   \n",
       "\n",
       "                                       tropomyosin_receptor_kinase_inhibitor  \\\n",
       "5-alpha_reductase_inhibitor                                         0.000460   \n",
       "11-beta-hsd1_inhibitor                                              0.000474   \n",
       "acat_inhibitor                                                      0.000547   \n",
       "acetylcholine_receptor_agonist                                      0.001545   \n",
       "acetylcholine_receptor_antagonist                                   0.001950   \n",
       "...                                                                      ...   \n",
       "ubiquitin_specific_protease_inhibitor                               0.000273   \n",
       "vegfr_inhibitor                                                     0.001461   \n",
       "vitamin_b                                                           0.000569   \n",
       "vitamin_d_receptor_agonist                                          0.000698   \n",
       "wnt_inhibitor                                                       0.000612   \n",
       "\n",
       "                                       trpv_agonist  trpv_antagonist  \\\n",
       "5-alpha_reductase_inhibitor                0.000940         0.001303   \n",
       "11-beta-hsd1_inhibitor                     0.000967         0.001341   \n",
       "acat_inhibitor                             0.001117         0.001549   \n",
       "acetylcholine_receptor_agonist             0.003156         0.004375   \n",
       "acetylcholine_receptor_antagonist          0.003982         0.005521   \n",
       "...                                             ...              ...   \n",
       "ubiquitin_specific_protease_inhibitor      0.000558         0.000774   \n",
       "vegfr_inhibitor                            0.002984         0.004136   \n",
       "vitamin_b                                  0.001163         0.001612   \n",
       "vitamin_d_receptor_agonist                 0.001425         0.001975   \n",
       "wnt_inhibitor                              0.001249         0.001732   \n",
       "\n",
       "                                       tubulin_inhibitor  \\\n",
       "5-alpha_reductase_inhibitor                     0.003365   \n",
       "11-beta-hsd1_inhibitor                          0.003463   \n",
       "acat_inhibitor                                  0.003999   \n",
       "acetylcholine_receptor_agonist                  0.011294   \n",
       "acetylcholine_receptor_antagonist               0.014252   \n",
       "...                                                  ...   \n",
       "ubiquitin_specific_protease_inhibitor           0.001999   \n",
       "vegfr_inhibitor                                 0.010679   \n",
       "vitamin_b                                       0.004162   \n",
       "vitamin_d_receptor_agonist                      0.005099   \n",
       "wnt_inhibitor                                   0.004472   \n",
       "\n",
       "                                       tyrosine_kinase_inhibitor  \\\n",
       "5-alpha_reductase_inhibitor                             0.001608   \n",
       "11-beta-hsd1_inhibitor                                  0.001655   \n",
       "acat_inhibitor                                          0.001911   \n",
       "acetylcholine_receptor_agonist                          0.005398   \n",
       "acetylcholine_receptor_antagonist                       0.006812   \n",
       "...                                                          ...   \n",
       "ubiquitin_specific_protease_inhibitor                   0.000955   \n",
       "vegfr_inhibitor                                         0.005104   \n",
       "vitamin_b                                               0.001989   \n",
       "vitamin_d_receptor_agonist                              0.002437   \n",
       "wnt_inhibitor                                           0.002137   \n",
       "\n",
       "                                       ubiquitin_specific_protease_inhibitor  \\\n",
       "5-alpha_reductase_inhibitor                                         0.000460   \n",
       "11-beta-hsd1_inhibitor                                              0.000474   \n",
       "acat_inhibitor                                                      0.000547   \n",
       "acetylcholine_receptor_agonist                                      0.001545   \n",
       "acetylcholine_receptor_antagonist                                   0.001950   \n",
       "...                                                                      ...   \n",
       "ubiquitin_specific_protease_inhibitor                               1.000000   \n",
       "vegfr_inhibitor                                                     0.001461   \n",
       "vitamin_b                                                           0.000569   \n",
       "vitamin_d_receptor_agonist                                          0.000698   \n",
       "wnt_inhibitor                                                       0.000612   \n",
       "\n",
       "                                       vegfr_inhibitor  vitamin_b  \\\n",
       "5-alpha_reductase_inhibitor                   0.002460   0.000959   \n",
       "11-beta-hsd1_inhibitor                        0.002531   0.000987   \n",
       "acat_inhibitor                                0.002923   0.001139   \n",
       "acetylcholine_receptor_agonist                0.008256   0.003218   \n",
       "acetylcholine_receptor_antagonist             0.010418   0.004061   \n",
       "...                                                ...        ...   \n",
       "ubiquitin_specific_protease_inhibitor         0.001461   0.000569   \n",
       "vegfr_inhibitor                               1.000000   0.003043   \n",
       "vitamin_b                                     0.003043   1.000000   \n",
       "vitamin_d_receptor_agonist                    0.003728   0.001453   \n",
       "wnt_inhibitor                                 0.003269   0.001274   \n",
       "\n",
       "                                       vitamin_d_receptor_agonist  \\\n",
       "5-alpha_reductase_inhibitor                              0.001175   \n",
       "11-beta-hsd1_inhibitor                                   0.001209   \n",
       "acat_inhibitor                                           0.001396   \n",
       "acetylcholine_receptor_agonist                           0.003943   \n",
       "acetylcholine_receptor_antagonist                        0.004975   \n",
       "...                                                           ...   \n",
       "ubiquitin_specific_protease_inhibitor                    0.000698   \n",
       "vegfr_inhibitor                                          0.003728   \n",
       "vitamin_b                                                0.001453   \n",
       "vitamin_d_receptor_agonist                               1.000000   \n",
       "wnt_inhibitor                                            0.001561   \n",
       "\n",
       "                                       wnt_inhibitor  \n",
       "5-alpha_reductase_inhibitor                 0.001030  \n",
       "11-beta-hsd1_inhibitor                      0.001060  \n",
       "acat_inhibitor                              0.001224  \n",
       "acetylcholine_receptor_agonist              0.003457  \n",
       "acetylcholine_receptor_antagonist           0.004363  \n",
       "...                                              ...  \n",
       "ubiquitin_specific_protease_inhibitor       0.000612  \n",
       "vegfr_inhibitor                             0.003269  \n",
       "vitamin_b                                   0.001274  \n",
       "vitamin_d_receptor_agonist                  0.001561  \n",
       "wnt_inhibitor                               1.000000  \n",
       "\n",
       "[206 rows x 206 columns]"
      ]
     },
     "execution_count": 5,
     "metadata": {},
     "output_type": "execute_result"
    }
   ],
   "source": [
    "corr_df = y.corr().abs()\n",
    "corr_df"
   ]
  },
  {
   "cell_type": "code",
   "execution_count": 6,
   "metadata": {
    "execution": {
     "iopub.execute_input": "2020-11-09T05:23:10.779181Z",
     "iopub.status.busy": "2020-11-09T05:23:10.778291Z",
     "iopub.status.idle": "2020-11-09T05:23:10.856431Z",
     "shell.execute_reply": "2020-11-09T05:23:10.855592Z"
    },
    "papermill": {
     "duration": 0.118379,
     "end_time": "2020-11-09T05:23:10.856567",
     "exception": false,
     "start_time": "2020-11-09T05:23:10.738188",
     "status": "completed"
    },
    "tags": []
   },
   "outputs": [
    {
     "ename": "NameError",
     "evalue": "name 'check_tabnet' is not defined",
     "output_type": "error",
     "traceback": [
      "\u001b[0;31m---------------------------------------------------------------------------\u001b[0m",
      "\u001b[0;31mNameError\u001b[0m                                 Traceback (most recent call last)",
      "\u001b[0;32m<ipython-input-6-6b951195bf06>\u001b[0m in \u001b[0;36m<module>\u001b[0;34m\u001b[0m\n\u001b[1;32m      1\u001b[0m \u001b[0mp_min\u001b[0m \u001b[0;34m=\u001b[0m \u001b[0;36m0.001\u001b[0m\u001b[0;34m\u001b[0m\u001b[0;34m\u001b[0m\u001b[0m\n\u001b[1;32m      2\u001b[0m \u001b[0mp_max\u001b[0m \u001b[0;34m=\u001b[0m \u001b[0;36m1\u001b[0m \u001b[0;34m-\u001b[0m \u001b[0mp_min\u001b[0m\u001b[0;34m\u001b[0m\u001b[0;34m\u001b[0m\u001b[0m\n\u001b[0;32m----> 3\u001b[0;31m \u001b[0mcheck_tabnet2\u001b[0m \u001b[0;34m=\u001b[0m \u001b[0mcheck_tabnet\u001b[0m\u001b[0;34m.\u001b[0m\u001b[0mcopy\u001b[0m\u001b[0;34m(\u001b[0m\u001b[0;34m)\u001b[0m\u001b[0;34m\u001b[0m\u001b[0;34m\u001b[0m\u001b[0m\n\u001b[0m\u001b[1;32m      4\u001b[0m \u001b[0mcheck_tabnet2\u001b[0m\u001b[0;34m.\u001b[0m\u001b[0mloc\u001b[0m\u001b[0;34m[\u001b[0m\u001b[0mcons_train_index\u001b[0m\u001b[0;34m,\u001b[0m\u001b[0;34m:\u001b[0m\u001b[0;34m]\u001b[0m\u001b[0;34m=\u001b[0m \u001b[0mnp\u001b[0m\u001b[0;34m.\u001b[0m\u001b[0mclip\u001b[0m\u001b[0;34m(\u001b[0m\u001b[0mcheck_tabnet2\u001b[0m\u001b[0;34m.\u001b[0m\u001b[0mloc\u001b[0m\u001b[0;34m[\u001b[0m\u001b[0mcons_train_index\u001b[0m\u001b[0;34m,\u001b[0m\u001b[0;34m:\u001b[0m\u001b[0;34m]\u001b[0m\u001b[0;34m,\u001b[0m \u001b[0mp_min\u001b[0m\u001b[0;34m,\u001b[0m \u001b[0mp_max\u001b[0m\u001b[0;34m)\u001b[0m\u001b[0;34m\u001b[0m\u001b[0;34m\u001b[0m\u001b[0m\n\u001b[1;32m      5\u001b[0m \u001b[0;34m\u001b[0m\u001b[0m\n",
      "\u001b[0;31mNameError\u001b[0m: name 'check_tabnet' is not defined"
     ]
    }
   ],
   "source": [
    "p_min = 0.001\n",
    "p_max = 1 - p_min\n",
    "check_tabnet2 = check_tabnet.copy()\n",
    "check_tabnet2.loc[cons_train_index,:]= np.clip(check_tabnet2.loc[cons_train_index,:], p_min, p_max)\n",
    "\n",
    "check_svm2 = check_svm.copy()\n",
    "check_svm2.loc[cons_train_index,:]= np.clip(check_svm2.loc[cons_train_index,:], p_min, p_max)\n",
    "\n",
    "check_tabnet_val2 = check_tabnet_val.copy()\n",
    "check_tabnet_val2.loc[cons_train_index,:] = np.clip(check_tabnet_val.loc[cons_train_index,:], p_min, p_max)"
   ]
  },
  {
   "cell_type": "markdown",
   "metadata": {
    "papermill": {
     "duration": 0.035565,
     "end_time": "2020-11-09T05:23:10.929999",
     "exception": false,
     "start_time": "2020-11-09T05:23:10.894434",
     "status": "completed"
    },
    "tags": []
   },
   "source": [
    "# output correlation check"
   ]
  },
  {
   "cell_type": "code",
   "execution_count": 7,
   "metadata": {
    "_cell_guid": "79c7e3d0-c299-4dcb-8224-4455121ee9b0",
    "_uuid": "d629ff2d2480ee46fbb7e2d37f6b5fab8052498a",
    "execution": {
     "iopub.execute_input": "2020-11-09T05:23:11.019080Z",
     "iopub.status.busy": "2020-11-09T05:23:11.017942Z",
     "iopub.status.idle": "2020-11-09T05:23:11.025379Z",
     "shell.execute_reply": "2020-11-09T05:23:11.024531Z"
    },
    "papermill": {
     "duration": 0.063383,
     "end_time": "2020-11-09T05:23:11.025518",
     "exception": false,
     "start_time": "2020-11-09T05:23:10.962135",
     "status": "completed"
    },
    "tags": []
   },
   "outputs": [
    {
     "ename": "NameError",
     "evalue": "name 'xgb' is not defined",
     "output_type": "error",
     "traceback": [
      "\u001b[0;31m---------------------------------------------------------------------------\u001b[0m",
      "\u001b[0;31mNameError\u001b[0m                                 Traceback (most recent call last)",
      "\u001b[0;32m<ipython-input-7-583f1904acdf>\u001b[0m in \u001b[0;36m<module>\u001b[0;34m\u001b[0m\n\u001b[0;32m----> 1\u001b[0;31m \u001b[0mprint\u001b[0m\u001b[0;34m(\u001b[0m\u001b[0mmlp\u001b[0m\u001b[0;34m.\u001b[0m\u001b[0mcorrwith\u001b[0m\u001b[0;34m(\u001b[0m\u001b[0mxgb\u001b[0m\u001b[0;34m)\u001b[0m\u001b[0;34m.\u001b[0m\u001b[0mmax\u001b[0m\u001b[0;34m(\u001b[0m\u001b[0;34m)\u001b[0m\u001b[0;34m,\u001b[0m \u001b[0mmlp\u001b[0m\u001b[0;34m.\u001b[0m\u001b[0mcorrwith\u001b[0m\u001b[0;34m(\u001b[0m\u001b[0mxgb\u001b[0m\u001b[0;34m)\u001b[0m\u001b[0;34m.\u001b[0m\u001b[0mmin\u001b[0m\u001b[0;34m(\u001b[0m\u001b[0;34m)\u001b[0m\u001b[0;34m,\u001b[0m \u001b[0mmlp\u001b[0m\u001b[0;34m.\u001b[0m\u001b[0mcorrwith\u001b[0m\u001b[0;34m(\u001b[0m\u001b[0mxgb\u001b[0m\u001b[0;34m)\u001b[0m\u001b[0;34m.\u001b[0m\u001b[0mmean\u001b[0m\u001b[0;34m(\u001b[0m\u001b[0;34m)\u001b[0m\u001b[0;34m,\u001b[0m \u001b[0mmlp\u001b[0m\u001b[0;34m.\u001b[0m\u001b[0mcorrwith\u001b[0m\u001b[0;34m(\u001b[0m\u001b[0mxgb\u001b[0m\u001b[0;34m)\u001b[0m\u001b[0;34m.\u001b[0m\u001b[0mstd\u001b[0m\u001b[0;34m(\u001b[0m\u001b[0;34m)\u001b[0m\u001b[0;34m)\u001b[0m\u001b[0;34m\u001b[0m\u001b[0;34m\u001b[0m\u001b[0m\n\u001b[0m\u001b[1;32m      2\u001b[0m \u001b[0mprint\u001b[0m\u001b[0;34m(\u001b[0m\u001b[0mmlp\u001b[0m\u001b[0;34m.\u001b[0m\u001b[0mcorrwith\u001b[0m\u001b[0;34m(\u001b[0m\u001b[0mtab\u001b[0m\u001b[0;34m)\u001b[0m\u001b[0;34m.\u001b[0m\u001b[0mmax\u001b[0m\u001b[0;34m(\u001b[0m\u001b[0;34m)\u001b[0m\u001b[0;34m,\u001b[0m \u001b[0mmlp\u001b[0m\u001b[0;34m.\u001b[0m\u001b[0mcorrwith\u001b[0m\u001b[0;34m(\u001b[0m\u001b[0mtab\u001b[0m\u001b[0;34m)\u001b[0m\u001b[0;34m.\u001b[0m\u001b[0mmin\u001b[0m\u001b[0;34m(\u001b[0m\u001b[0;34m)\u001b[0m\u001b[0;34m,\u001b[0m \u001b[0mmlp\u001b[0m\u001b[0;34m.\u001b[0m\u001b[0mcorrwith\u001b[0m\u001b[0;34m(\u001b[0m\u001b[0mtab\u001b[0m\u001b[0;34m)\u001b[0m\u001b[0;34m.\u001b[0m\u001b[0mmean\u001b[0m\u001b[0;34m(\u001b[0m\u001b[0;34m)\u001b[0m\u001b[0;34m,\u001b[0m \u001b[0mmlp\u001b[0m\u001b[0;34m.\u001b[0m\u001b[0mcorrwith\u001b[0m\u001b[0;34m(\u001b[0m\u001b[0mtab\u001b[0m\u001b[0;34m)\u001b[0m\u001b[0;34m.\u001b[0m\u001b[0mstd\u001b[0m\u001b[0;34m(\u001b[0m\u001b[0;34m)\u001b[0m\u001b[0;34m)\u001b[0m\u001b[0;34m\u001b[0m\u001b[0;34m\u001b[0m\u001b[0m\n\u001b[1;32m      3\u001b[0m \u001b[0mprint\u001b[0m\u001b[0;34m(\u001b[0m\u001b[0mxgb\u001b[0m\u001b[0;34m.\u001b[0m\u001b[0mcorrwith\u001b[0m\u001b[0;34m(\u001b[0m\u001b[0mtab\u001b[0m\u001b[0;34m)\u001b[0m\u001b[0;34m.\u001b[0m\u001b[0mmax\u001b[0m\u001b[0;34m(\u001b[0m\u001b[0;34m)\u001b[0m\u001b[0;34m,\u001b[0m \u001b[0mxgb\u001b[0m\u001b[0;34m.\u001b[0m\u001b[0mcorrwith\u001b[0m\u001b[0;34m(\u001b[0m\u001b[0mtab\u001b[0m\u001b[0;34m)\u001b[0m\u001b[0;34m.\u001b[0m\u001b[0mmin\u001b[0m\u001b[0;34m(\u001b[0m\u001b[0;34m)\u001b[0m\u001b[0;34m,\u001b[0m \u001b[0mxgb\u001b[0m\u001b[0;34m.\u001b[0m\u001b[0mcorrwith\u001b[0m\u001b[0;34m(\u001b[0m\u001b[0mtab\u001b[0m\u001b[0;34m)\u001b[0m\u001b[0;34m.\u001b[0m\u001b[0mmean\u001b[0m\u001b[0;34m(\u001b[0m\u001b[0;34m)\u001b[0m\u001b[0;34m,\u001b[0m \u001b[0mxgb\u001b[0m\u001b[0;34m.\u001b[0m\u001b[0mcorrwith\u001b[0m\u001b[0;34m(\u001b[0m\u001b[0mtab\u001b[0m\u001b[0;34m)\u001b[0m\u001b[0;34m.\u001b[0m\u001b[0mstd\u001b[0m\u001b[0;34m(\u001b[0m\u001b[0;34m)\u001b[0m\u001b[0;34m)\u001b[0m\u001b[0;34m\u001b[0m\u001b[0;34m\u001b[0m\u001b[0m\n\u001b[1;32m      4\u001b[0m \u001b[0;31m#print(mlp.corrwith(tl).max(), mlp.corrwith(tl).min(), mlp.corrwith(tl).mean(), mlp.corrwith(tl).std())\u001b[0m\u001b[0;34m\u001b[0m\u001b[0;34m\u001b[0m\u001b[0;34m\u001b[0m\u001b[0m\n\u001b[1;32m      5\u001b[0m \u001b[0;31m#print(tl.corrwith(tab).max(), tl.corrwith(tab).min(), tl.corrwith(tab).mean(), tl.corrwith(tab).std())\u001b[0m\u001b[0;34m\u001b[0m\u001b[0;34m\u001b[0m\u001b[0;34m\u001b[0m\u001b[0m\n",
      "\u001b[0;31mNameError\u001b[0m: name 'xgb' is not defined"
     ]
    }
   ],
   "source": [
    "print(mlp.corrwith(xgb).max(), mlp.corrwith(xgb).min(), mlp.corrwith(xgb).mean(), mlp.corrwith(xgb).std())\n",
    "print(mlp.corrwith(tab).max(), mlp.corrwith(tab).min(), mlp.corrwith(tab).mean(), mlp.corrwith(tab).std()) \n",
    "print(xgb.corrwith(tab).max(), xgb.corrwith(tab).min(), xgb.corrwith(tab).mean(), xgb.corrwith(tab).std())\n",
    "#print(mlp.corrwith(tl).max(), mlp.corrwith(tl).min(), mlp.corrwith(tl).mean(), mlp.corrwith(tl).std())\n",
    "#print(tl.corrwith(tab).max(), tl.corrwith(tab).min(), tl.corrwith(tab).mean(), tl.corrwith(tab).std()) \n",
    "#print(xgb.corrwith(tl).max(), xgb.corrwith(tl).min(), xgb.corrwith(tl).mean(), xgb.corrwith(tl).std())"
   ]
  },
  {
   "cell_type": "code",
   "execution_count": 8,
   "metadata": {
    "execution": {
     "iopub.execute_input": "2020-11-09T05:23:11.100916Z",
     "iopub.status.busy": "2020-11-09T05:23:11.100014Z",
     "iopub.status.idle": "2020-11-09T05:23:11.367194Z",
     "shell.execute_reply": "2020-11-09T05:23:11.366363Z"
    },
    "papermill": {
     "duration": 0.308874,
     "end_time": "2020-11-09T05:23:11.367360",
     "exception": false,
     "start_time": "2020-11-09T05:23:11.058486",
     "status": "completed"
    },
    "tags": []
   },
   "outputs": [
    {
     "ename": "NameError",
     "evalue": "name 'xgb' is not defined",
     "output_type": "error",
     "traceback": [
      "\u001b[0;31m---------------------------------------------------------------------------\u001b[0m",
      "\u001b[0;31mNameError\u001b[0m                                 Traceback (most recent call last)",
      "\u001b[0;32m<ipython-input-8-44eb51e5ab8a>\u001b[0m in \u001b[0;36m<module>\u001b[0;34m\u001b[0m\n\u001b[1;32m      1\u001b[0m \u001b[0mplt\u001b[0m\u001b[0;34m.\u001b[0m\u001b[0mfigure\u001b[0m\u001b[0;34m(\u001b[0m\u001b[0mfigsize\u001b[0m\u001b[0;34m=\u001b[0m\u001b[0;34m(\u001b[0m\u001b[0;36m15\u001b[0m\u001b[0;34m,\u001b[0m\u001b[0;36m30\u001b[0m\u001b[0;34m)\u001b[0m\u001b[0;34m)\u001b[0m\u001b[0;34m\u001b[0m\u001b[0;34m\u001b[0m\u001b[0m\n\u001b[1;32m      2\u001b[0m \u001b[0mplt\u001b[0m\u001b[0;34m.\u001b[0m\u001b[0msubplot\u001b[0m\u001b[0;34m(\u001b[0m\u001b[0;36m1\u001b[0m\u001b[0;34m,\u001b[0m\u001b[0;36m3\u001b[0m\u001b[0;34m,\u001b[0m\u001b[0;36m1\u001b[0m\u001b[0;34m)\u001b[0m\u001b[0;34m\u001b[0m\u001b[0;34m\u001b[0m\u001b[0m\n\u001b[0;32m----> 3\u001b[0;31m \u001b[0mmlp\u001b[0m\u001b[0;34m.\u001b[0m\u001b[0mcorrwith\u001b[0m\u001b[0;34m(\u001b[0m\u001b[0mxgb\u001b[0m\u001b[0;34m)\u001b[0m\u001b[0;34m.\u001b[0m\u001b[0mplot\u001b[0m\u001b[0;34m(\u001b[0m\u001b[0mkind\u001b[0m\u001b[0;34m=\u001b[0m\u001b[0;34m\"barh\"\u001b[0m\u001b[0;34m)\u001b[0m\u001b[0;34m\u001b[0m\u001b[0;34m\u001b[0m\u001b[0m\n\u001b[0m\u001b[1;32m      4\u001b[0m \u001b[0mplt\u001b[0m\u001b[0;34m.\u001b[0m\u001b[0msubplot\u001b[0m\u001b[0;34m(\u001b[0m\u001b[0;36m1\u001b[0m\u001b[0;34m,\u001b[0m\u001b[0;36m3\u001b[0m\u001b[0;34m,\u001b[0m\u001b[0;36m2\u001b[0m\u001b[0;34m)\u001b[0m\u001b[0;34m\u001b[0m\u001b[0;34m\u001b[0m\u001b[0m\n\u001b[1;32m      5\u001b[0m \u001b[0;31m#plt.axis('off')\u001b[0m\u001b[0;34m\u001b[0m\u001b[0;34m\u001b[0m\u001b[0;34m\u001b[0m\u001b[0m\n",
      "\u001b[0;31mNameError\u001b[0m: name 'xgb' is not defined"
     ]
    },
    {
     "data": {
      "image/png": "[encoded data removed]",
      "text/plain": [
       "<Figure size 1080x2160 with 1 Axes>"
      ]
     },
     "metadata": {
      "needs_background": "light"
     },
     "output_type": "display_data"
    }
   ],
   "source": [
    "plt.figure(figsize=(15,30))\n",
    "plt.subplot(1,3,1)\n",
    "mlp.corrwith(xgb).plot(kind=\"barh\")\n",
    "plt.subplot(1,3,2)\n",
    "#plt.axis('off')\n",
    "mlp.corrwith(tab).plot(kind=\"barh\",sharey=True)\n",
    "plt.subplot(1,3,3)\n",
    "#plt.axis('off')\n",
    "xgb.corrwith(tab).plot(kind=\"barh\",sharey=True)"
   ]
  },
  {
   "cell_type": "code",
   "execution_count": 9,
   "metadata": {
    "execution": {
     "iopub.execute_input": "2020-11-09T05:23:11.456766Z",
     "iopub.status.busy": "2020-11-09T05:23:11.454851Z",
     "iopub.status.idle": "2020-11-09T05:23:11.461447Z",
     "shell.execute_reply": "2020-11-09T05:23:11.462133Z"
    },
    "papermill": {
     "duration": 0.059125,
     "end_time": "2020-11-09T05:23:11.462322",
     "exception": false,
     "start_time": "2020-11-09T05:23:11.403197",
     "status": "completed"
    },
    "tags": []
   },
   "outputs": [
    {
     "ename": "NameError",
     "evalue": "name 'check_tabnet_val2' is not defined",
     "output_type": "error",
     "traceback": [
      "\u001b[0;31m---------------------------------------------------------------------------\u001b[0m",
      "\u001b[0;31mNameError\u001b[0m                                 Traceback (most recent call last)",
      "\u001b[0;32m<ipython-input-9-4654cd759521>\u001b[0m in \u001b[0;36m<module>\u001b[0;34m\u001b[0m\n\u001b[0;32m----> 1\u001b[0;31m \u001b[0mcheck_tabnet_val2\u001b[0m \u001b[0;34m=\u001b[0m \u001b[0mpd\u001b[0m\u001b[0;34m.\u001b[0m\u001b[0mDataFrame\u001b[0m\u001b[0;34m(\u001b[0m\u001b[0mnp\u001b[0m\u001b[0;34m.\u001b[0m\u001b[0marray\u001b[0m\u001b[0;34m(\u001b[0m\u001b[0mcheck_tabnet_val2\u001b[0m\u001b[0;34m)\u001b[0m\u001b[0;34m)\u001b[0m\u001b[0;34m\u001b[0m\u001b[0;34m\u001b[0m\u001b[0m\n\u001b[0m\u001b[1;32m      2\u001b[0m \u001b[0mcheck_tabnet_val2\u001b[0m\u001b[0;34m\u001b[0m\u001b[0;34m\u001b[0m\u001b[0m\n",
      "\u001b[0;31mNameError\u001b[0m: name 'check_tabnet_val2' is not defined"
     ]
    }
   ],
   "source": [
    "check_tabnet_val2 = pd.DataFrame(np.array(check_tabnet_val2))\n",
    "check_tabnet_val2"
   ]
  },
  {
   "cell_type": "code",
   "execution_count": 10,
   "metadata": {
    "execution": {
     "iopub.execute_input": "2020-11-09T05:23:11.551072Z",
     "iopub.status.busy": "2020-11-09T05:23:11.539117Z",
     "iopub.status.idle": "2020-11-09T05:23:11.569197Z",
     "shell.execute_reply": "2020-11-09T05:23:11.568405Z"
    },
    "papermill": {
     "duration": 0.072912,
     "end_time": "2020-11-09T05:23:11.569360",
     "exception": false,
     "start_time": "2020-11-09T05:23:11.496448",
     "status": "completed"
    },
    "tags": []
   },
   "outputs": [
    {
     "ename": "NameError",
     "evalue": "name 'check_tabnet' is not defined",
     "output_type": "error",
     "traceback": [
      "\u001b[0;31m---------------------------------------------------------------------------\u001b[0m",
      "\u001b[0;31mNameError\u001b[0m                                 Traceback (most recent call last)",
      "\u001b[0;32m<ipython-input-10-158c9b62c3da>\u001b[0m in \u001b[0;36m<module>\u001b[0;34m\u001b[0m\n\u001b[0;32m----> 1\u001b[0;31m print(check_mlp.corrwith(check_tabnet).max(), check_mlp.corrwith(check_tabnet).min(), \n\u001b[0m\u001b[1;32m      2\u001b[0m       check_mlp.corrwith(check_tabnet).mean(), check_mlp.corrwith(check_tabnet).std())\n\u001b[1;32m      3\u001b[0m print(check_mlp.corrwith(check_tabnet2).max(), check_mlp.corrwith(check_tabnet2).min(), \n\u001b[1;32m      4\u001b[0m       check_mlp.corrwith(check_tabnet2).mean(), check_mlp.corrwith(check_tabnet2).std())\n\u001b[1;32m      5\u001b[0m \u001b[0mresult\u001b[0m \u001b[0;34m=\u001b[0m \u001b[0;34m[\u001b[0m\u001b[0;34m]\u001b[0m\u001b[0;34m\u001b[0m\u001b[0;34m\u001b[0m\u001b[0m\n",
      "\u001b[0;31mNameError\u001b[0m: name 'check_tabnet' is not defined"
     ]
    }
   ],
   "source": [
    "print(check_mlp.corrwith(check_tabnet).max(), check_mlp.corrwith(check_tabnet).min(), \n",
    "      check_mlp.corrwith(check_tabnet).mean(), check_mlp.corrwith(check_tabnet).std())\n",
    "print(check_mlp.corrwith(check_tabnet2).max(), check_mlp.corrwith(check_tabnet2).min(), \n",
    "      check_mlp.corrwith(check_tabnet2).mean(), check_mlp.corrwith(check_tabnet2).std())\n",
    "result = []\n",
    "for i in range(206):\n",
    "    result.append(np.corrcoef(check_mlp.iloc[:,i], check_tabnet_val2.iloc[:,i])[0,1])\n",
    "print(np.max(result), np.min(result), np.mean(result), np.std(result))\n",
    "print(check_mlp.corrwith(check_svm).max(), check_mlp.corrwith(check_svm).min(), \n",
    "      check_mlp.corrwith(check_svm).mean(), check_mlp.corrwith(check_svm).std())\n",
    "print(check_mlp.corrwith(check_svm2).max(), check_mlp.corrwith(check_svm2).min(), \n",
    "      check_mlp.corrwith(check_svm2).mean(), check_mlp.corrwith(check_svm2).std())\n",
    "print(check_tabnet2.corrwith(check_svm2).max(), check_tabnet2.corrwith(check_svm2).min(), \n",
    "      check_tabnet2.corrwith(check_svm2).mean(), check_tabnet2.corrwith(check_svm2).std())\n",
    "\n",
    "print(\"previous version\")\n",
    "print(mlp.corrwith(tab).max(), mlp.corrwith(tab).min(), mlp.corrwith(tab).mean(), mlp.corrwith(tab).std()) \n",
    "print(xgb.corrwith(tab).max(), xgb.corrwith(tab).min(), xgb.corrwith(tab).mean(), xgb.corrwith(tab).std())"
   ]
  },
  {
   "cell_type": "markdown",
   "metadata": {
    "papermill": {
     "duration": 0.035764,
     "end_time": "2020-11-09T05:23:11.639893",
     "exception": false,
     "start_time": "2020-11-09T05:23:11.604129",
     "status": "completed"
    },
    "tags": []
   },
   "source": [
    "# ensemble ratio"
   ]
  },
  {
   "cell_type": "code",
   "execution_count": 11,
   "metadata": {
    "execution": {
     "iopub.execute_input": "2020-11-09T05:23:11.725804Z",
     "iopub.status.busy": "2020-11-09T05:23:11.725014Z",
     "iopub.status.idle": "2020-11-09T05:23:14.708436Z",
     "shell.execute_reply": "2020-11-09T05:23:14.707632Z"
    },
    "papermill": {
     "duration": 3.029375,
     "end_time": "2020-11-09T05:23:14.708567",
     "exception": false,
     "start_time": "2020-11-09T05:23:11.679192",
     "status": "completed"
    },
    "tags": []
   },
   "outputs": [
    {
     "name": "stdout",
     "output_type": "stream",
     "text": [
      "OOF log loss:  0.01567181329219744\n",
      "OOF log loss:  0.016317946358678424\n"
     ]
    },
    {
     "ename": "NameError",
     "evalue": "name 'check_tabnet_val2' is not defined",
     "output_type": "error",
     "traceback": [
      "\u001b[0;31m---------------------------------------------------------------------------\u001b[0m",
      "\u001b[0;31mNameError\u001b[0m                                 Traceback (most recent call last)",
      "\u001b[0;32m<ipython-input-11-66a3229a69b2>\u001b[0m in \u001b[0;36m<module>\u001b[0;34m\u001b[0m\n\u001b[1;32m      1\u001b[0m \u001b[0mprint\u001b[0m\u001b[0;34m(\u001b[0m\u001b[0;34m'OOF log loss: '\u001b[0m\u001b[0;34m,\u001b[0m \u001b[0mlog_loss\u001b[0m\u001b[0;34m(\u001b[0m\u001b[0mnp\u001b[0m\u001b[0;34m.\u001b[0m\u001b[0mravel\u001b[0m\u001b[0;34m(\u001b[0m\u001b[0mtargets\u001b[0m\u001b[0;34m)\u001b[0m\u001b[0;34m,\u001b[0m \u001b[0mnp\u001b[0m\u001b[0;34m.\u001b[0m\u001b[0mravel\u001b[0m\u001b[0;34m(\u001b[0m\u001b[0mcheck_mlp\u001b[0m\u001b[0;34m)\u001b[0m\u001b[0;34m)\u001b[0m\u001b[0;34m)\u001b[0m\u001b[0;34m\u001b[0m\u001b[0;34m\u001b[0m\u001b[0m\n\u001b[1;32m      2\u001b[0m \u001b[0mprint\u001b[0m\u001b[0;34m(\u001b[0m\u001b[0;34m'OOF log loss: '\u001b[0m\u001b[0;34m,\u001b[0m \u001b[0mlog_loss\u001b[0m\u001b[0;34m(\u001b[0m\u001b[0mnp\u001b[0m\u001b[0;34m.\u001b[0m\u001b[0mravel\u001b[0m\u001b[0;34m(\u001b[0m\u001b[0mtargets\u001b[0m\u001b[0;34m)\u001b[0m\u001b[0;34m,\u001b[0m \u001b[0mnp\u001b[0m\u001b[0;34m.\u001b[0m\u001b[0mravel\u001b[0m\u001b[0;34m(\u001b[0m\u001b[0mcheck_tabnet_val\u001b[0m\u001b[0;34m)\u001b[0m\u001b[0;34m)\u001b[0m\u001b[0;34m)\u001b[0m\u001b[0;34m\u001b[0m\u001b[0;34m\u001b[0m\u001b[0m\n\u001b[0;32m----> 3\u001b[0;31m \u001b[0mprint\u001b[0m\u001b[0;34m(\u001b[0m\u001b[0;34m'OOF log loss: '\u001b[0m\u001b[0;34m,\u001b[0m \u001b[0mlog_loss\u001b[0m\u001b[0;34m(\u001b[0m\u001b[0mnp\u001b[0m\u001b[0;34m.\u001b[0m\u001b[0mravel\u001b[0m\u001b[0;34m(\u001b[0m\u001b[0mtargets\u001b[0m\u001b[0;34m)\u001b[0m\u001b[0;34m,\u001b[0m \u001b[0mnp\u001b[0m\u001b[0;34m.\u001b[0m\u001b[0mravel\u001b[0m\u001b[0;34m(\u001b[0m\u001b[0mcheck_tabnet_val2\u001b[0m\u001b[0;34m)\u001b[0m\u001b[0;34m)\u001b[0m\u001b[0;34m)\u001b[0m\u001b[0;34m\u001b[0m\u001b[0;34m\u001b[0m\u001b[0m\n\u001b[0m",
      "\u001b[0;31mNameError\u001b[0m: name 'check_tabnet_val2' is not defined"
     ]
    }
   ],
   "source": [
    "print('OOF log loss: ', log_loss(np.ravel(targets), np.ravel(check_mlp)))\n",
    "print('OOF log loss: ', log_loss(np.ravel(targets), np.ravel(check_tabnet_val)))\n",
    "print('OOF log loss: ', log_loss(np.ravel(targets), np.ravel(check_tabnet_val2)))"
   ]
  },
  {
   "cell_type": "markdown",
   "metadata": {
    "papermill": {
     "duration": 0.036142,
     "end_time": "2020-11-09T05:23:14.781726",
     "exception": false,
     "start_time": "2020-11-09T05:23:14.745584",
     "status": "completed"
    },
    "tags": []
   },
   "source": [
    "# simple average"
   ]
  },
  {
   "cell_type": "code",
   "execution_count": 12,
   "metadata": {
    "execution": {
     "iopub.execute_input": "2020-11-09T05:23:14.873104Z",
     "iopub.status.busy": "2020-11-09T05:23:14.872039Z",
     "iopub.status.idle": "2020-11-09T05:23:14.877460Z",
     "shell.execute_reply": "2020-11-09T05:23:14.876716Z"
    },
    "papermill": {
     "duration": 0.058985,
     "end_time": "2020-11-09T05:23:14.877590",
     "exception": false,
     "start_time": "2020-11-09T05:23:14.818605",
     "status": "completed"
    },
    "tags": []
   },
   "outputs": [
    {
     "ename": "NameError",
     "evalue": "name 'check_tabnet_val2' is not defined",
     "output_type": "error",
     "traceback": [
      "\u001b[0;31m---------------------------------------------------------------------------\u001b[0m",
      "\u001b[0;31mNameError\u001b[0m                                 Traceback (most recent call last)",
      "\u001b[0;32m<ipython-input-12-8b78aa976e9a>\u001b[0m in \u001b[0;36m<module>\u001b[0;34m\u001b[0m\n\u001b[0;32m----> 1\u001b[0;31m \u001b[0mcheck\u001b[0m \u001b[0;34m=\u001b[0m \u001b[0;36m0.5\u001b[0m \u001b[0;34m*\u001b[0m \u001b[0mcheck_tabnet_val2\u001b[0m\u001b[0;34m.\u001b[0m\u001b[0mvalues\u001b[0m \u001b[0;34m+\u001b[0m \u001b[0;36m0.5\u001b[0m \u001b[0;34m*\u001b[0m \u001b[0mcheck_mlp\u001b[0m\u001b[0;34m\u001b[0m\u001b[0;34m\u001b[0m\u001b[0m\n\u001b[0m\u001b[1;32m      2\u001b[0m \u001b[0mprint\u001b[0m\u001b[0;34m(\u001b[0m\u001b[0;34m'OOF log loss: '\u001b[0m\u001b[0;34m,\u001b[0m \u001b[0mlog_loss\u001b[0m\u001b[0;34m(\u001b[0m\u001b[0mnp\u001b[0m\u001b[0;34m.\u001b[0m\u001b[0mravel\u001b[0m\u001b[0;34m(\u001b[0m\u001b[0mtargets\u001b[0m\u001b[0;34m)\u001b[0m\u001b[0;34m,\u001b[0m \u001b[0mnp\u001b[0m\u001b[0;34m.\u001b[0m\u001b[0mravel\u001b[0m\u001b[0;34m(\u001b[0m\u001b[0mcheck\u001b[0m\u001b[0;34m)\u001b[0m\u001b[0;34m)\u001b[0m\u001b[0;34m)\u001b[0m\u001b[0;34m\u001b[0m\u001b[0;34m\u001b[0m\u001b[0m\n",
      "\u001b[0;31mNameError\u001b[0m: name 'check_tabnet_val2' is not defined"
     ]
    }
   ],
   "source": [
    "check = 0.5 * check_tabnet_val2.values + 0.5 * check_mlp\n",
    "print('OOF log loss: ', log_loss(np.ravel(targets), np.ravel(check)))"
   ]
  },
  {
   "cell_type": "code",
   "execution_count": 13,
   "metadata": {
    "execution": {
     "iopub.execute_input": "2020-11-09T05:23:14.959852Z",
     "iopub.status.busy": "2020-11-09T05:23:14.959034Z",
     "iopub.status.idle": "2020-11-09T05:23:15.005645Z",
     "shell.execute_reply": "2020-11-09T05:23:15.006247Z"
    },
    "papermill": {
     "duration": 0.091004,
     "end_time": "2020-11-09T05:23:15.006448",
     "exception": false,
     "start_time": "2020-11-09T05:23:14.915444",
     "status": "completed"
    },
    "tags": []
   },
   "outputs": [
    {
     "ename": "NameError",
     "evalue": "name 'check_tabnet_val2' is not defined",
     "output_type": "error",
     "traceback": [
      "\u001b[0;31m---------------------------------------------------------------------------\u001b[0m",
      "\u001b[0;31mNameError\u001b[0m                                 Traceback (most recent call last)",
      "\u001b[0;32m<ipython-input-13-c95d4e8a77f4>\u001b[0m in \u001b[0;36m<module>\u001b[0;34m\u001b[0m\n\u001b[0;32m----> 1\u001b[0;31m \u001b[0mcheck\u001b[0m \u001b[0;34m=\u001b[0m \u001b[0;36m0.3\u001b[0m \u001b[0;34m*\u001b[0m \u001b[0mcheck_svm\u001b[0m \u001b[0;34m+\u001b[0m \u001b[0;36m0.2\u001b[0m \u001b[0;34m*\u001b[0m \u001b[0mcheck_tabnet_val2\u001b[0m\u001b[0;34m.\u001b[0m\u001b[0mvalues\u001b[0m \u001b[0;34m+\u001b[0m \u001b[0;36m0.5\u001b[0m \u001b[0;34m*\u001b[0m \u001b[0mcheck_mlp\u001b[0m\u001b[0;34m\u001b[0m\u001b[0;34m\u001b[0m\u001b[0m\n\u001b[0m\u001b[1;32m      2\u001b[0m \u001b[0mprint\u001b[0m\u001b[0;34m(\u001b[0m\u001b[0;34m'OOF log loss: '\u001b[0m\u001b[0;34m,\u001b[0m \u001b[0mlog_loss\u001b[0m\u001b[0;34m(\u001b[0m\u001b[0mnp\u001b[0m\u001b[0;34m.\u001b[0m\u001b[0mravel\u001b[0m\u001b[0;34m(\u001b[0m\u001b[0mtargets\u001b[0m\u001b[0;34m)\u001b[0m\u001b[0;34m,\u001b[0m \u001b[0mnp\u001b[0m\u001b[0;34m.\u001b[0m\u001b[0mravel\u001b[0m\u001b[0;34m(\u001b[0m\u001b[0mcheck\u001b[0m\u001b[0;34m)\u001b[0m\u001b[0;34m)\u001b[0m\u001b[0;34m)\u001b[0m\u001b[0;34m\u001b[0m\u001b[0;34m\u001b[0m\u001b[0m\n",
      "\u001b[0;31mNameError\u001b[0m: name 'check_tabnet_val2' is not defined"
     ]
    }
   ],
   "source": [
    "check = 0.3 * check_svm + 0.2 * check_tabnet_val2.values + 0.5 * check_mlp\n",
    "print('OOF log loss: ', log_loss(np.ravel(targets), np.ravel(check)))"
   ]
  },
  {
   "cell_type": "markdown",
   "metadata": {
    "papermill": {
     "duration": 0.0396,
     "end_time": "2020-11-09T05:23:15.086077",
     "exception": false,
     "start_time": "2020-11-09T05:23:15.046477",
     "status": "completed"
    },
    "tags": []
   },
   "source": [
    "# weight average"
   ]
  },
  {
   "cell_type": "code",
   "execution_count": 14,
   "metadata": {
    "execution": {
     "iopub.execute_input": "2020-11-09T05:23:15.183242Z",
     "iopub.status.busy": "2020-11-09T05:23:15.181863Z",
     "iopub.status.idle": "2020-11-09T05:23:15.188602Z",
     "shell.execute_reply": "2020-11-09T05:23:15.187887Z"
    },
    "papermill": {
     "duration": 0.063704,
     "end_time": "2020-11-09T05:23:15.188737",
     "exception": false,
     "start_time": "2020-11-09T05:23:15.125033",
     "status": "completed"
    },
    "tags": []
   },
   "outputs": [
    {
     "ename": "NameError",
     "evalue": "name 'check_tabnet_val2' is not defined",
     "output_type": "error",
     "traceback": [
      "\u001b[0;31m---------------------------------------------------------------------------\u001b[0m",
      "\u001b[0;31mNameError\u001b[0m                                 Traceback (most recent call last)",
      "\u001b[0;32m<ipython-input-14-6e7f86098fa9>\u001b[0m in \u001b[0;36m<module>\u001b[0;34m\u001b[0m\n\u001b[0;32m----> 1\u001b[0;31m \u001b[0mcheck\u001b[0m \u001b[0;34m=\u001b[0m \u001b[0;36m0.2\u001b[0m \u001b[0;34m*\u001b[0m \u001b[0mcheck_tabnet_val2\u001b[0m\u001b[0;34m.\u001b[0m\u001b[0mvalues\u001b[0m \u001b[0;34m+\u001b[0m \u001b[0;36m0.8\u001b[0m \u001b[0;34m*\u001b[0m \u001b[0mcheck_mlp\u001b[0m\u001b[0;34m\u001b[0m\u001b[0;34m\u001b[0m\u001b[0m\n\u001b[0m\u001b[1;32m      2\u001b[0m \u001b[0mprint\u001b[0m\u001b[0;34m(\u001b[0m\u001b[0;34m'OOF log loss: '\u001b[0m\u001b[0;34m,\u001b[0m \u001b[0mlog_loss\u001b[0m\u001b[0;34m(\u001b[0m\u001b[0mnp\u001b[0m\u001b[0;34m.\u001b[0m\u001b[0mravel\u001b[0m\u001b[0;34m(\u001b[0m\u001b[0mtargets\u001b[0m\u001b[0;34m)\u001b[0m\u001b[0;34m,\u001b[0m \u001b[0mnp\u001b[0m\u001b[0;34m.\u001b[0m\u001b[0mravel\u001b[0m\u001b[0;34m(\u001b[0m\u001b[0mcheck\u001b[0m\u001b[0;34m)\u001b[0m\u001b[0;34m)\u001b[0m\u001b[0;34m)\u001b[0m\u001b[0;34m\u001b[0m\u001b[0;34m\u001b[0m\u001b[0m\n",
      "\u001b[0;31mNameError\u001b[0m: name 'check_tabnet_val2' is not defined"
     ]
    }
   ],
   "source": [
    "check = 0.2 * check_tabnet_val2.values + 0.8 * check_mlp\n",
    "print('OOF log loss: ', log_loss(np.ravel(targets), np.ravel(check)))"
   ]
  },
  {
   "cell_type": "code",
   "execution_count": 15,
   "metadata": {
    "execution": {
     "iopub.execute_input": "2020-11-09T05:23:15.285871Z",
     "iopub.status.busy": "2020-11-09T05:23:15.279385Z",
     "iopub.status.idle": "2020-11-09T05:23:15.290825Z",
     "shell.execute_reply": "2020-11-09T05:23:15.291504Z"
    },
    "papermill": {
     "duration": 0.06384,
     "end_time": "2020-11-09T05:23:15.291673",
     "exception": false,
     "start_time": "2020-11-09T05:23:15.227833",
     "status": "completed"
    },
    "tags": []
   },
   "outputs": [
    {
     "ename": "NameError",
     "evalue": "name 'check_svm2' is not defined",
     "output_type": "error",
     "traceback": [
      "\u001b[0;31m---------------------------------------------------------------------------\u001b[0m",
      "\u001b[0;31mNameError\u001b[0m                                 Traceback (most recent call last)",
      "\u001b[0;32m<ipython-input-15-304367caccf6>\u001b[0m in \u001b[0;36m<module>\u001b[0;34m\u001b[0m\n\u001b[0;32m----> 1\u001b[0;31m \u001b[0mcheck\u001b[0m \u001b[0;34m=\u001b[0m \u001b[0;36m0.1\u001b[0m \u001b[0;34m*\u001b[0m \u001b[0mcheck_svm2\u001b[0m\u001b[0;34m.\u001b[0m\u001b[0mvalues\u001b[0m \u001b[0;34m+\u001b[0m \u001b[0;36m0.2\u001b[0m \u001b[0;34m*\u001b[0m \u001b[0mcheck_tabnet_val2\u001b[0m\u001b[0;34m.\u001b[0m\u001b[0mvalues\u001b[0m \u001b[0;34m+\u001b[0m \u001b[0;36m0.7\u001b[0m \u001b[0;34m*\u001b[0m \u001b[0mcheck_mlp\u001b[0m\u001b[0;34m\u001b[0m\u001b[0;34m\u001b[0m\u001b[0m\n\u001b[0m\u001b[1;32m      2\u001b[0m \u001b[0mprint\u001b[0m\u001b[0;34m(\u001b[0m\u001b[0;34m'OOF log loss: '\u001b[0m\u001b[0;34m,\u001b[0m \u001b[0mlog_loss\u001b[0m\u001b[0;34m(\u001b[0m\u001b[0mnp\u001b[0m\u001b[0;34m.\u001b[0m\u001b[0mravel\u001b[0m\u001b[0;34m(\u001b[0m\u001b[0mtargets\u001b[0m\u001b[0;34m)\u001b[0m\u001b[0;34m,\u001b[0m \u001b[0mnp\u001b[0m\u001b[0;34m.\u001b[0m\u001b[0mravel\u001b[0m\u001b[0;34m(\u001b[0m\u001b[0mcheck\u001b[0m\u001b[0;34m)\u001b[0m\u001b[0;34m)\u001b[0m\u001b[0;34m)\u001b[0m\u001b[0;34m\u001b[0m\u001b[0;34m\u001b[0m\u001b[0m\n",
      "\u001b[0;31mNameError\u001b[0m: name 'check_svm2' is not defined"
     ]
    }
   ],
   "source": [
    "check = 0.1 * check_svm2.values + 0.2 * check_tabnet_val2.values + 0.7 * check_mlp\n",
    "print('OOF log loss: ', log_loss(np.ravel(targets), np.ravel(check)))"
   ]
  },
  {
   "cell_type": "code",
   "execution_count": 16,
   "metadata": {
    "execution": {
     "iopub.execute_input": "2020-11-09T05:23:15.399838Z",
     "iopub.status.busy": "2020-11-09T05:23:15.390330Z",
     "iopub.status.idle": "2020-11-09T05:23:15.791482Z",
     "shell.execute_reply": "2020-11-09T05:23:15.790719Z"
    },
    "papermill": {
     "duration": 0.458628,
     "end_time": "2020-11-09T05:23:15.791625",
     "exception": false,
     "start_time": "2020-11-09T05:23:15.332997",
     "status": "completed"
    },
    "tags": []
   },
   "outputs": [
    {
     "ename": "NameError",
     "evalue": "name 'check_tabnet' is not defined",
     "output_type": "error",
     "traceback": [
      "\u001b[0;31m---------------------------------------------------------------------------\u001b[0m",
      "\u001b[0;31mNameError\u001b[0m                                 Traceback (most recent call last)",
      "\u001b[0;32m<ipython-input-16-7ef8cbdc4880>\u001b[0m in \u001b[0;36m<module>\u001b[0;34m\u001b[0m\n\u001b[1;32m      7\u001b[0m \u001b[0;34m\u001b[0m\u001b[0m\n\u001b[1;32m      8\u001b[0m \u001b[0;31m# out of fold prediction\u001b[0m\u001b[0;34m\u001b[0m\u001b[0;34m\u001b[0m\u001b[0;34m\u001b[0m\u001b[0m\n\u001b[0;32m----> 9\u001b[0;31m \u001b[0mblend_train\u001b[0m\u001b[0;34m.\u001b[0m\u001b[0mappend\u001b[0m\u001b[0;34m(\u001b[0m\u001b[0mnp\u001b[0m\u001b[0;34m.\u001b[0m\u001b[0marray\u001b[0m\u001b[0;34m(\u001b[0m\u001b[0mcheck_tabnet\u001b[0m\u001b[0;34m)\u001b[0m\u001b[0;34m)\u001b[0m\u001b[0;34m\u001b[0m\u001b[0;34m\u001b[0m\u001b[0m\n\u001b[0m\u001b[1;32m     10\u001b[0m \u001b[0mblend_train\u001b[0m\u001b[0;34m.\u001b[0m\u001b[0mappend\u001b[0m\u001b[0;34m(\u001b[0m\u001b[0mnp\u001b[0m\u001b[0;34m.\u001b[0m\u001b[0marray\u001b[0m\u001b[0;34m(\u001b[0m\u001b[0mcheck_mlp\u001b[0m\u001b[0;34m)\u001b[0m\u001b[0;34m)\u001b[0m\u001b[0;34m\u001b[0m\u001b[0;34m\u001b[0m\u001b[0m\n\u001b[1;32m     11\u001b[0m \u001b[0mblend_train\u001b[0m \u001b[0;34m=\u001b[0m \u001b[0mnp\u001b[0m\u001b[0;34m.\u001b[0m\u001b[0marray\u001b[0m\u001b[0;34m(\u001b[0m\u001b[0mblend_train\u001b[0m\u001b[0;34m)\u001b[0m\u001b[0;34m\u001b[0m\u001b[0;34m\u001b[0m\u001b[0m\n",
      "\u001b[0;31mNameError\u001b[0m: name 'check_tabnet' is not defined"
     ]
    }
   ],
   "source": [
    "check_score = pd.read_csv('../input/lish-moa/train_targets_scored.csv').drop(\"sig_id\", axis=1)\n",
    "target_feats = [ i for i in check_score.columns if i != \"sig_id\"]\n",
    "from scipy.optimize import minimize, fsolve\n",
    "\n",
    "\n",
    "blend_train = []\n",
    "\n",
    "# out of fold prediction\n",
    "blend_train.append(np.array(check_tabnet))\n",
    "blend_train.append(np.array(check_mlp))\n",
    "blend_train = np.array(blend_train)\n",
    "check_xgb2 = np.array(check_xgb2)\n",
    "\n",
    "ratio = 0.01\n",
    "\n",
    "np.random.seed(224)\n",
    "total_scores = []\n",
    "for i in range(len(target_feats)):\n",
    "    def log_loss_func(weights):\n",
    "        final_prediction = ratio * check_xgb2[:,i]\n",
    "        for weight, prediction in zip(weights, blend_train):\n",
    "            final_prediction += weight * prediction[:,i]\n",
    "        return log_loss(np.ravel(targets.iloc[:,i]), np.ravel(final_prediction))\n",
    "    \n",
    "    best_score = np.inf\n",
    "    best_weights = [0] * len(blend_train)\n",
    "    for k in range(10):\n",
    "        starting_values = np.random.rand(len(blend_train))\n",
    "        starting_values /= sum(starting_values)\n",
    "        bounds = [(0, 1)] * len(blend_train)\n",
    "        cons = ({'type': 'eq', 'fun': lambda x:  1 - ratio - sum(x)}) \n",
    "            \n",
    "        res = minimize(log_loss_func,\n",
    "                   starting_values,\n",
    "                   method='SLSQP',\n",
    "                   bounds=bounds,\n",
    "                   constraints = cons) \n",
    "        \n",
    "        if best_score > res[\"fun\"]:\n",
    "            best_score = res[\"fun\"]\n",
    "            best_weights = res[\"x\"]\n",
    "        \n",
    "    valid_prediction = ratio * check_xgb2[:,i]\n",
    "    for weight, prediction in zip(best_weights, blend_train):\n",
    "        valid_prediction += weight * prediction[:,i]\n",
    "    print('Score: {}, Weights: {}'.format(round(res['fun'],8), res['x']))\n",
    "    total_scores.append(res['fun'])\n",
    "    check_score.loc[:,target_feats[i]] = valid_prediction\n",
    "    \n",
    "    #oof_test = svm_ratio * svm1_test[:,i]\n",
    "    #for weight, prediction in zip(best_weights, blend_test):\n",
    "    #    oof_test += weight * prediction[:,i]\n",
    "        \n",
    "\n",
    "print(\"final ensemble oof score:\", np.mean(total_scores))\n",
    "print('OOF log loss: ', log_loss(np.ravel(targets), np.ravel(check_score)))"
   ]
  },
  {
   "cell_type": "markdown",
   "metadata": {
    "papermill": {
     "duration": 0.042249,
     "end_time": "2020-11-09T05:23:15.873865",
     "exception": false,
     "start_time": "2020-11-09T05:23:15.831616",
     "status": "completed"
    },
    "tags": []
   },
   "source": [
    "# geometric average"
   ]
  },
  {
   "cell_type": "code",
   "execution_count": 17,
   "metadata": {
    "execution": {
     "iopub.execute_input": "2020-11-09T05:23:15.971054Z",
     "iopub.status.busy": "2020-11-09T05:23:15.970194Z",
     "iopub.status.idle": "2020-11-09T05:23:15.975607Z",
     "shell.execute_reply": "2020-11-09T05:23:15.976952Z"
    },
    "papermill": {
     "duration": 0.06339,
     "end_time": "2020-11-09T05:23:15.977429",
     "exception": false,
     "start_time": "2020-11-09T05:23:15.914039",
     "status": "completed"
    },
    "tags": []
   },
   "outputs": [
    {
     "ename": "NameError",
     "evalue": "name 'check_tabnet_val2' is not defined",
     "output_type": "error",
     "traceback": [
      "\u001b[0;31m---------------------------------------------------------------------------\u001b[0m",
      "\u001b[0;31mNameError\u001b[0m                                 Traceback (most recent call last)",
      "\u001b[0;32m<ipython-input-17-29cb8f6876c8>\u001b[0m in \u001b[0;36m<module>\u001b[0;34m\u001b[0m\n\u001b[0;32m----> 1\u001b[0;31m \u001b[0mcheck\u001b[0m \u001b[0;34m=\u001b[0m \u001b[0mnp\u001b[0m\u001b[0;34m.\u001b[0m\u001b[0msqrt\u001b[0m\u001b[0;34m(\u001b[0m\u001b[0mnp\u001b[0m\u001b[0;34m.\u001b[0m\u001b[0mmultiply\u001b[0m\u001b[0;34m(\u001b[0m\u001b[0mcheck_tabnet_val2\u001b[0m\u001b[0;34m.\u001b[0m\u001b[0mvalues\u001b[0m\u001b[0;34m,\u001b[0m \u001b[0mcheck_mlp\u001b[0m\u001b[0;34m)\u001b[0m\u001b[0;34m)\u001b[0m\u001b[0;34m\u001b[0m\u001b[0;34m\u001b[0m\u001b[0m\n\u001b[0m\u001b[1;32m      2\u001b[0m \u001b[0mprint\u001b[0m\u001b[0;34m(\u001b[0m\u001b[0;34m'OOF log loss: '\u001b[0m\u001b[0;34m,\u001b[0m \u001b[0mlog_loss\u001b[0m\u001b[0;34m(\u001b[0m\u001b[0mnp\u001b[0m\u001b[0;34m.\u001b[0m\u001b[0mravel\u001b[0m\u001b[0;34m(\u001b[0m\u001b[0mtargets\u001b[0m\u001b[0;34m)\u001b[0m\u001b[0;34m,\u001b[0m \u001b[0mnp\u001b[0m\u001b[0;34m.\u001b[0m\u001b[0mravel\u001b[0m\u001b[0;34m(\u001b[0m\u001b[0mcheck\u001b[0m\u001b[0;34m)\u001b[0m\u001b[0;34m)\u001b[0m\u001b[0;34m)\u001b[0m\u001b[0;34m\u001b[0m\u001b[0;34m\u001b[0m\u001b[0m\n",
      "\u001b[0;31mNameError\u001b[0m: name 'check_tabnet_val2' is not defined"
     ]
    }
   ],
   "source": [
    "check = np.sqrt(np.multiply(check_tabnet_val2.values, check_mlp))\n",
    "print('OOF log loss: ', log_loss(np.ravel(targets), np.ravel(check)))"
   ]
  },
  {
   "cell_type": "markdown",
   "metadata": {
    "papermill": {
     "duration": 0.049135,
     "end_time": "2020-11-09T05:23:16.078872",
     "exception": false,
     "start_time": "2020-11-09T05:23:16.029737",
     "status": "completed"
    },
    "tags": []
   },
   "source": [
    "# harmonic average"
   ]
  },
  {
   "cell_type": "code",
   "execution_count": 18,
   "metadata": {
    "execution": {
     "iopub.execute_input": "2020-11-09T05:23:16.178371Z",
     "iopub.status.busy": "2020-11-09T05:23:16.177568Z",
     "iopub.status.idle": "2020-11-09T05:23:16.222865Z",
     "shell.execute_reply": "2020-11-09T05:23:16.222003Z"
    },
    "papermill": {
     "duration": 0.095108,
     "end_time": "2020-11-09T05:23:16.222999",
     "exception": false,
     "start_time": "2020-11-09T05:23:16.127891",
     "status": "completed"
    },
    "tags": []
   },
   "outputs": [
    {
     "ename": "NameError",
     "evalue": "name 'check_tabnet_val2' is not defined",
     "output_type": "error",
     "traceback": [
      "\u001b[0;31m---------------------------------------------------------------------------\u001b[0m",
      "\u001b[0;31mNameError\u001b[0m                                 Traceback (most recent call last)",
      "\u001b[0;32m<ipython-input-18-a5cc6a6f9cdd>\u001b[0m in \u001b[0;36m<module>\u001b[0;34m\u001b[0m\n\u001b[0;32m----> 1\u001b[0;31m \u001b[0mcheck_tmp\u001b[0m \u001b[0;34m=\u001b[0m \u001b[0;36m1\u001b[0m\u001b[0;34m/\u001b[0m\u001b[0;34m(\u001b[0m\u001b[0;34m(\u001b[0m\u001b[0;36m1\u001b[0m \u001b[0;34m/\u001b[0m \u001b[0mcheck_mlp\u001b[0m\u001b[0;34m.\u001b[0m\u001b[0mloc\u001b[0m\u001b[0;34m[\u001b[0m\u001b[0mcons_train_index\u001b[0m\u001b[0;34m,\u001b[0m\u001b[0;34m:\u001b[0m\u001b[0;34m]\u001b[0m \u001b[0;34m+\u001b[0m \u001b[0;36m1\u001b[0m \u001b[0;34m/\u001b[0m \u001b[0mcheck_tabnet_val2\u001b[0m\u001b[0;34m.\u001b[0m\u001b[0mloc\u001b[0m\u001b[0;34m[\u001b[0m\u001b[0mcons_train_index\u001b[0m\u001b[0;34m,\u001b[0m\u001b[0;34m:\u001b[0m\u001b[0;34m]\u001b[0m\u001b[0;34m.\u001b[0m\u001b[0mvalues\u001b[0m\u001b[0;34m)\u001b[0m\u001b[0;34m/\u001b[0m\u001b[0;36m2\u001b[0m\u001b[0;34m)\u001b[0m\u001b[0;34m\u001b[0m\u001b[0;34m\u001b[0m\u001b[0m\n\u001b[0m\u001b[1;32m      2\u001b[0m \u001b[0mcheck\u001b[0m \u001b[0;34m=\u001b[0m \u001b[0mcheck_mlp\u001b[0m\u001b[0;34m.\u001b[0m\u001b[0mcopy\u001b[0m\u001b[0;34m(\u001b[0m\u001b[0;34m)\u001b[0m\u001b[0;34m\u001b[0m\u001b[0;34m\u001b[0m\u001b[0m\n\u001b[1;32m      3\u001b[0m \u001b[0mcheck\u001b[0m\u001b[0;34m.\u001b[0m\u001b[0mloc\u001b[0m\u001b[0;34m[\u001b[0m\u001b[0mcons_train_index\u001b[0m\u001b[0;34m,\u001b[0m\u001b[0;34m:\u001b[0m\u001b[0;34m]\u001b[0m \u001b[0;34m=\u001b[0m \u001b[0mcheck_tmp\u001b[0m\u001b[0;34m\u001b[0m\u001b[0;34m\u001b[0m\u001b[0m\n\u001b[1;32m      4\u001b[0m \u001b[0mprint\u001b[0m\u001b[0;34m(\u001b[0m\u001b[0;34m'OOF log loss: '\u001b[0m\u001b[0;34m,\u001b[0m \u001b[0mlog_loss\u001b[0m\u001b[0;34m(\u001b[0m\u001b[0mnp\u001b[0m\u001b[0;34m.\u001b[0m\u001b[0mravel\u001b[0m\u001b[0;34m(\u001b[0m\u001b[0mtargets\u001b[0m\u001b[0;34m)\u001b[0m\u001b[0;34m,\u001b[0m \u001b[0mnp\u001b[0m\u001b[0;34m.\u001b[0m\u001b[0mravel\u001b[0m\u001b[0;34m(\u001b[0m\u001b[0mcheck\u001b[0m\u001b[0;34m)\u001b[0m\u001b[0;34m)\u001b[0m\u001b[0;34m)\u001b[0m\u001b[0;34m\u001b[0m\u001b[0;34m\u001b[0m\u001b[0m\n",
      "\u001b[0;31mNameError\u001b[0m: name 'check_tabnet_val2' is not defined"
     ]
    }
   ],
   "source": [
    "check_tmp = 1/((1 / check_mlp.loc[cons_train_index,:] + 1 / check_tabnet_val2.loc[cons_train_index,:].values)/2)\n",
    "check = check_mlp.copy()\n",
    "check.loc[cons_train_index,:] = check_tmp\n",
    "print('OOF log loss: ', log_loss(np.ravel(targets), np.ravel(check)))"
   ]
  },
  {
   "cell_type": "markdown",
   "metadata": {
    "papermill": {
     "duration": 0.04193,
     "end_time": "2020-11-09T05:23:16.307460",
     "exception": false,
     "start_time": "2020-11-09T05:23:16.265530",
     "status": "completed"
    },
    "tags": []
   },
   "source": [
    "# n multiply average"
   ]
  },
  {
   "cell_type": "code",
   "execution_count": 19,
   "metadata": {
    "execution": {
     "iopub.execute_input": "2020-11-09T05:23:16.417661Z",
     "iopub.status.busy": "2020-11-09T05:23:16.416596Z",
     "iopub.status.idle": "2020-11-09T05:23:16.422704Z",
     "shell.execute_reply": "2020-11-09T05:23:16.421767Z"
    },
    "papermill": {
     "duration": 0.067502,
     "end_time": "2020-11-09T05:23:16.422863",
     "exception": false,
     "start_time": "2020-11-09T05:23:16.355361",
     "status": "completed"
    },
    "tags": []
   },
   "outputs": [
    {
     "ename": "NameError",
     "evalue": "name 'check_tabnet_val2' is not defined",
     "output_type": "error",
     "traceback": [
      "\u001b[0;31m---------------------------------------------------------------------------\u001b[0m",
      "\u001b[0;31mNameError\u001b[0m                                 Traceback (most recent call last)",
      "\u001b[0;32m<ipython-input-19-1e530d9867f1>\u001b[0m in \u001b[0;36m<module>\u001b[0;34m\u001b[0m\n\u001b[1;32m      1\u001b[0m \u001b[0mnum\u001b[0m \u001b[0;34m=\u001b[0m \u001b[0;36m4\u001b[0m\u001b[0;34m\u001b[0m\u001b[0;34m\u001b[0m\u001b[0m\n\u001b[0;32m----> 2\u001b[0;31m \u001b[0mcheck\u001b[0m \u001b[0;34m=\u001b[0m \u001b[0;34m(\u001b[0m\u001b[0;34m(\u001b[0m\u001b[0mcheck_tabnet_val2\u001b[0m\u001b[0;34m.\u001b[0m\u001b[0mvalues\u001b[0m \u001b[0;34m**\u001b[0m \u001b[0mnum\u001b[0m \u001b[0;34m+\u001b[0m \u001b[0mcheck_mlp\u001b[0m \u001b[0;34m**\u001b[0m \u001b[0mnum\u001b[0m\u001b[0;34m)\u001b[0m\u001b[0;34m/\u001b[0m\u001b[0;36m2\u001b[0m\u001b[0;34m)\u001b[0m \u001b[0;34m**\u001b[0m \u001b[0;34m(\u001b[0m\u001b[0;36m1\u001b[0m\u001b[0;34m/\u001b[0m\u001b[0mnum\u001b[0m\u001b[0;34m)\u001b[0m\u001b[0;34m\u001b[0m\u001b[0;34m\u001b[0m\u001b[0m\n\u001b[0m\u001b[1;32m      3\u001b[0m \u001b[0mprint\u001b[0m\u001b[0;34m(\u001b[0m\u001b[0;34m'OOF log loss: '\u001b[0m\u001b[0;34m,\u001b[0m \u001b[0mlog_loss\u001b[0m\u001b[0;34m(\u001b[0m\u001b[0mnp\u001b[0m\u001b[0;34m.\u001b[0m\u001b[0mravel\u001b[0m\u001b[0;34m(\u001b[0m\u001b[0mtargets\u001b[0m\u001b[0;34m)\u001b[0m\u001b[0;34m,\u001b[0m \u001b[0mnp\u001b[0m\u001b[0;34m.\u001b[0m\u001b[0mravel\u001b[0m\u001b[0;34m(\u001b[0m\u001b[0mcheck\u001b[0m\u001b[0;34m)\u001b[0m\u001b[0;34m)\u001b[0m\u001b[0;34m)\u001b[0m\u001b[0;34m\u001b[0m\u001b[0;34m\u001b[0m\u001b[0m\n",
      "\u001b[0;31mNameError\u001b[0m: name 'check_tabnet_val2' is not defined"
     ]
    }
   ],
   "source": [
    "num = 4\n",
    "check = ((check_tabnet_val2.values ** num + check_mlp ** num)/2) ** (1/num)\n",
    "print('OOF log loss: ', log_loss(np.ravel(targets), np.ravel(check)))"
   ]
  },
  {
   "cell_type": "markdown",
   "metadata": {
    "papermill": {
     "duration": 0.044484,
     "end_time": "2020-11-09T05:23:16.512231",
     "exception": false,
     "start_time": "2020-11-09T05:23:16.467747",
     "status": "completed"
    },
    "tags": []
   },
   "source": [
    "# folds vs target"
   ]
  },
  {
   "cell_type": "code",
   "execution_count": 20,
   "metadata": {
    "execution": {
     "iopub.execute_input": "2020-11-09T05:23:16.617542Z",
     "iopub.status.busy": "2020-11-09T05:23:16.616710Z",
     "iopub.status.idle": "2020-11-09T05:23:16.626382Z",
     "shell.execute_reply": "2020-11-09T05:23:16.625656Z"
    },
    "papermill": {
     "duration": 0.069048,
     "end_time": "2020-11-09T05:23:16.626511",
     "exception": false,
     "start_time": "2020-11-09T05:23:16.557463",
     "status": "completed"
    },
    "tags": []
   },
   "outputs": [],
   "source": [
    "def make_folds(num_splits, seed, train_score, drug):\n",
    "    folds = []\n",
    "    \n",
    "    # LOAD FILES\n",
    "    targets = train_score.columns[1:]\n",
    "    train_score = train_score.merge(drug, on='sig_id', how='left') \n",
    "\n",
    "    # LOCATE DRUGS\n",
    "    vc = train_score.drug_id.value_counts()\n",
    "    vc1 = vc.loc[vc <= 19].index.sort_values()\n",
    "    vc2 = vc.loc[vc > 19].index.sort_values()\n",
    "\n",
    "    # STRATIFY DRUGS 18X OR LESS\n",
    "    dct1 = {}; dct2 = {}\n",
    "    skf = MultilabelStratifiedKFold(n_splits = num_splits, shuffle = True, random_state = seed) #MultilabelStratifiedKFold\n",
    "    tmp = train_score.groupby('drug_id')[targets].mean().loc[vc1]\n",
    "    for fold,(idxT,idxV) in enumerate(skf.split(tmp,tmp[targets])):\n",
    "        dd = {k:fold for k in tmp.index[idxV].values}\n",
    "        dct1.update(dd)\n",
    "        \n",
    "    # STRATIFY DRUGS MORE THAN 18X\n",
    "    skf = MultilabelStratifiedKFold(n_splits = num_splits, shuffle = True, random_state = seed)\n",
    "    tmp = train_score.loc[train_score.drug_id.isin(vc2)].reset_index(drop = True)\n",
    "    for fold,(idxT,idxV) in enumerate(skf.split(tmp,tmp[targets])):\n",
    "        dd = {k:fold for k in tmp.sig_id[idxV].values}\n",
    "        dct2.update(dd)\n",
    "\n",
    "    # ASSIGN FOLDS\n",
    "    train_score['fold'] = train_score.drug_id.map(dct1)\n",
    "    train_score.loc[train_score.fold.isna(),'fold'] =\\\n",
    "        train_score.loc[train_score.fold.isna(),'sig_id'].map(dct2)\n",
    "    train_score.fold = train_score.fold.astype('int8')\n",
    "    folds.append(train_score.fold.values)\n",
    "    \n",
    "    return np.array(folds)"
   ]
  },
  {
   "cell_type": "code",
   "execution_count": 21,
   "metadata": {
    "execution": {
     "iopub.execute_input": "2020-11-09T05:23:16.750977Z",
     "iopub.status.busy": "2020-11-09T05:23:16.742751Z",
     "iopub.status.idle": "2020-11-09T05:23:19.772158Z",
     "shell.execute_reply": "2020-11-09T05:23:19.771325Z"
    },
    "papermill": {
     "duration": 3.100121,
     "end_time": "2020-11-09T05:23:19.772314",
     "exception": false,
     "start_time": "2020-11-09T05:23:16.672193",
     "status": "completed"
    },
    "tags": []
   },
   "outputs": [],
   "source": [
    "target_feats = [i for i in targets.columns if i != \"sig_id\"]\n",
    "\n",
    "mlp_folds = make_folds(7, 34, y, drug)\n",
    "tab_folds = make_folds(5, 14, y, drug)\n",
    "\n",
    "check_dist = y.copy()\n",
    "check_dist[\"mlp_fold\"] = np.array(mlp_folds).reshape(-1,1)\n",
    "check_dist[\"tab_fold\"] = np.array(tab_folds).reshape(-1,1)\n",
    "\n",
    "mlp_unbalanced_feats = []\n",
    "tab_unbalanced_feats = []\n",
    "for i in target_feats:\n",
    "    if np.max(check_dist.loc[:,[i]+[\"mlp_fold\"]].groupby(\"mlp_fold\").sum()).values[0] == check_dist[i].sum() and check_dist[i].sum()>=5:\n",
    "        mlp_unbalanced_feats.append(i)\n",
    "    if np.max(check_dist.loc[:,[i]+[\"tab_fold\"]].groupby(\"tab_fold\").sum()).values[0] == check_dist[i].sum() and check_dist[i].sum()>=5:        \n",
    "        tab_unbalanced_feats.append(i)"
   ]
  },
  {
   "cell_type": "code",
   "execution_count": 22,
   "metadata": {
    "execution": {
     "iopub.execute_input": "2020-11-09T05:23:19.872076Z",
     "iopub.status.busy": "2020-11-09T05:23:19.870839Z",
     "iopub.status.idle": "2020-11-09T05:23:19.874979Z",
     "shell.execute_reply": "2020-11-09T05:23:19.875770Z"
    },
    "papermill": {
     "duration": 0.055254,
     "end_time": "2020-11-09T05:23:19.875933",
     "exception": false,
     "start_time": "2020-11-09T05:23:19.820679",
     "status": "completed"
    },
    "tags": []
   },
   "outputs": [
    {
     "data": {
      "text/plain": [
       "(17, 17)"
      ]
     },
     "execution_count": 22,
     "metadata": {},
     "output_type": "execute_result"
    }
   ],
   "source": [
    "len(mlp_unbalanced_feats), len(tab_unbalanced_feats)"
   ]
  },
  {
   "cell_type": "code",
   "execution_count": 23,
   "metadata": {
    "execution": {
     "iopub.execute_input": "2020-11-09T05:23:19.973723Z",
     "iopub.status.busy": "2020-11-09T05:23:19.972755Z",
     "iopub.status.idle": "2020-11-09T05:23:19.976426Z",
     "shell.execute_reply": "2020-11-09T05:23:19.976947Z"
    },
    "papermill": {
     "duration": 0.056021,
     "end_time": "2020-11-09T05:23:19.977112",
     "exception": false,
     "start_time": "2020-11-09T05:23:19.921091",
     "status": "completed"
    },
    "tags": []
   },
   "outputs": [
    {
     "name": "stdout",
     "output_type": "stream",
     "text": [
      "17\n"
     ]
    }
   ],
   "source": [
    "unbalanced_feats = set(mlp_unbalanced_feats) & set(tab_unbalanced_feats)\n",
    "unbalanced_feats = list(unbalanced_feats)\n",
    "print(len(unbalanced_feats))"
   ]
  },
  {
   "cell_type": "code",
   "execution_count": 24,
   "metadata": {
    "execution": {
     "iopub.execute_input": "2020-11-09T05:23:20.078523Z",
     "iopub.status.busy": "2020-11-09T05:23:20.077657Z",
     "iopub.status.idle": "2020-11-09T05:23:20.085557Z",
     "shell.execute_reply": "2020-11-09T05:23:20.084767Z"
    },
    "papermill": {
     "duration": 0.060213,
     "end_time": "2020-11-09T05:23:20.085681",
     "exception": false,
     "start_time": "2020-11-09T05:23:20.025468",
     "status": "completed"
    },
    "tags": []
   },
   "outputs": [
    {
     "data": {
      "text/plain": [
       "autotaxin_inhibitor                      6\n",
       "retinoid_receptor_antagonist             6\n",
       "calcineurin_inhibitor                    6\n",
       "protein_phosphatase_inhibitor            6\n",
       "atm_kinase_inhibitor                     6\n",
       "ubiquitin_specific_protease_inhibitor    6\n",
       "elastase_inhibitor                       6\n",
       "antiarrhythmic                           6\n",
       "leukotriene_inhibitor                    6\n",
       "coagulation_factor_inhibitor             6\n",
       "tropomyosin_receptor_kinase_inhibitor    6\n",
       "aldehyde_dehydrogenase_inhibitor         7\n",
       "lxr_agonist                              6\n",
       "nicotinic_receptor_agonist               6\n",
       "diuretic                                 6\n",
       "steroid                                  6\n",
       "laxative                                 6\n",
       "dtype: int64"
      ]
     },
     "execution_count": 24,
     "metadata": {},
     "output_type": "execute_result"
    }
   ],
   "source": [
    "y[unbalanced_feats].sum() #これだけの変数が1foldに偏っている。"
   ]
  },
  {
   "cell_type": "code",
   "execution_count": 25,
   "metadata": {
    "execution": {
     "iopub.execute_input": "2020-11-09T05:23:20.189004Z",
     "iopub.status.busy": "2020-11-09T05:23:20.187937Z",
     "iopub.status.idle": "2020-11-09T05:23:20.268238Z",
     "shell.execute_reply": "2020-11-09T05:23:20.267622Z"
    },
    "papermill": {
     "duration": 0.138858,
     "end_time": "2020-11-09T05:23:20.268396",
     "exception": false,
     "start_time": "2020-11-09T05:23:20.129538",
     "status": "completed"
    },
    "tags": []
   },
   "outputs": [
    {
     "name": "stdout",
     "output_type": "stream",
     "text": [
      "28fff865d    6\n",
      "Name: drug_id, dtype: int64\n",
      "7614ec763    6\n",
      "Name: drug_id, dtype: int64\n",
      "4c33b6fa1    6\n",
      "Name: drug_id, dtype: int64\n",
      "7e6b66a8f    6\n",
      "Name: drug_id, dtype: int64\n",
      "4c5736ff6    6\n",
      "Name: drug_id, dtype: int64\n",
      "2fe75eb73    6\n",
      "Name: drug_id, dtype: int64\n",
      "4412f3146    6\n",
      "Name: drug_id, dtype: int64\n",
      "a4797398a    6\n",
      "Name: drug_id, dtype: int64\n",
      "031afe482    6\n",
      "Name: drug_id, dtype: int64\n",
      "9a4100e20    6\n",
      "Name: drug_id, dtype: int64\n",
      "827cc5d8d    6\n",
      "Name: drug_id, dtype: int64\n",
      "5735a3e0f    7\n",
      "Name: drug_id, dtype: int64\n",
      "c5b47d91c    6\n",
      "Name: drug_id, dtype: int64\n",
      "6a3bdd1f3    6\n",
      "Name: drug_id, dtype: int64\n",
      "84d4ecc6a    6\n",
      "Name: drug_id, dtype: int64\n",
      "83d61e159    6\n",
      "Name: drug_id, dtype: int64\n",
      "fe17b8b65    6\n",
      "Name: drug_id, dtype: int64\n"
     ]
    }
   ],
   "source": [
    "check_dist = check_dist.merge(drug, on='sig_id', how='left') \n",
    "for i in unbalanced_feats:\n",
    "    print(check_dist[check_dist[i] ==1][\"drug_id\"].value_counts())"
   ]
  },
  {
   "cell_type": "code",
   "execution_count": 26,
   "metadata": {
    "execution": {
     "iopub.execute_input": "2020-11-09T05:23:20.366528Z",
     "iopub.status.busy": "2020-11-09T05:23:20.365397Z",
     "iopub.status.idle": "2020-11-09T05:23:20.380375Z",
     "shell.execute_reply": "2020-11-09T05:23:20.379723Z"
    },
    "papermill": {
     "duration": 0.067345,
     "end_time": "2020-11-09T05:23:20.380522",
     "exception": false,
     "start_time": "2020-11-09T05:23:20.313177",
     "status": "completed"
    },
    "tags": []
   },
   "outputs": [
    {
     "name": "stdout",
     "output_type": "stream",
     "text": [
      "autotaxin_inhibitor 0.003282414000122102\n",
      "retinoid_receptor_antagonist 0.003282414000120655\n",
      "calcineurin_inhibitor 0.0032824140001210746\n",
      "protein_phosphatase_inhibitor 0.0032824140001210854\n",
      "atm_kinase_inhibitor 0.003282414000121188\n",
      "ubiquitin_specific_protease_inhibitor 0.003282414000120977\n",
      "elastase_inhibitor 0.003282414000121105\n",
      "antiarrhythmic 0.0032824140001209813\n",
      "leukotriene_inhibitor 0.003282414000121091\n",
      "coagulation_factor_inhibitor 0.0032824140001212424\n",
      "tropomyosin_receptor_kinase_inhibitor 0.0032824140001208725\n",
      "aldehyde_dehydrogenase_inhibitor 0.5289331650205753\n",
      "lxr_agonist 0.00328241400012142\n",
      "nicotinic_receptor_agonist 0.0032824140001219797\n",
      "diuretic 0.0032824140001220894\n",
      "steroid 0.0032824140001213318\n",
      "laxative 0.0032824140001217017\n"
     ]
    }
   ],
   "source": [
    "for i in unbalanced_feats:\n",
    "    print(i, np.sort((corr_df[i]))[-2])"
   ]
  },
  {
   "cell_type": "code",
   "execution_count": 27,
   "metadata": {
    "execution": {
     "iopub.execute_input": "2020-11-09T05:23:20.479578Z",
     "iopub.status.busy": "2020-11-09T05:23:20.478765Z",
     "iopub.status.idle": "2020-11-09T05:23:20.565400Z",
     "shell.execute_reply": "2020-11-09T05:23:20.564345Z"
    },
    "papermill": {
     "duration": 0.13687,
     "end_time": "2020-11-09T05:23:20.565554",
     "exception": false,
     "start_time": "2020-11-09T05:23:20.428684",
     "status": "completed"
    },
    "tags": []
   },
   "outputs": [
    {
     "ename": "KeyError",
     "evalue": "'autotaxin_inhibitor'",
     "output_type": "error",
     "traceback": [
      "\u001b[0;31m---------------------------------------------------------------------------\u001b[0m",
      "\u001b[0;31mKeyError\u001b[0m                                  Traceback (most recent call last)",
      "\u001b[0;32m/opt/conda/lib/python3.7/site-packages/pandas/core/indexes/base.py\u001b[0m in \u001b[0;36mget_loc\u001b[0;34m(self, key, method, tolerance)\u001b[0m\n\u001b[1;32m   2894\u001b[0m             \u001b[0;32mtry\u001b[0m\u001b[0;34m:\u001b[0m\u001b[0;34m\u001b[0m\u001b[0;34m\u001b[0m\u001b[0m\n\u001b[0;32m-> 2895\u001b[0;31m                 \u001b[0;32mreturn\u001b[0m \u001b[0mself\u001b[0m\u001b[0;34m.\u001b[0m\u001b[0m_engine\u001b[0m\u001b[0;34m.\u001b[0m\u001b[0mget_loc\u001b[0m\u001b[0;34m(\u001b[0m\u001b[0mcasted_key\u001b[0m\u001b[0;34m)\u001b[0m\u001b[0;34m\u001b[0m\u001b[0;34m\u001b[0m\u001b[0m\n\u001b[0m\u001b[1;32m   2896\u001b[0m             \u001b[0;32mexcept\u001b[0m \u001b[0mKeyError\u001b[0m \u001b[0;32mas\u001b[0m \u001b[0merr\u001b[0m\u001b[0;34m:\u001b[0m\u001b[0;34m\u001b[0m\u001b[0;34m\u001b[0m\u001b[0m\n",
      "\u001b[0;32mpandas/_libs/index.pyx\u001b[0m in \u001b[0;36mpandas._libs.index.IndexEngine.get_loc\u001b[0;34m()\u001b[0m\n",
      "\u001b[0;32mpandas/_libs/index.pyx\u001b[0m in \u001b[0;36mpandas._libs.index.IndexEngine.get_loc\u001b[0;34m()\u001b[0m\n",
      "\u001b[0;32mpandas/_libs/hashtable_class_helper.pxi\u001b[0m in \u001b[0;36mpandas._libs.hashtable.PyObjectHashTable.get_item\u001b[0;34m()\u001b[0m\n",
      "\u001b[0;32mpandas/_libs/hashtable_class_helper.pxi\u001b[0m in \u001b[0;36mpandas._libs.hashtable.PyObjectHashTable.get_item\u001b[0;34m()\u001b[0m\n",
      "\u001b[0;31mKeyError\u001b[0m: 'autotaxin_inhibitor'",
      "\nThe above exception was the direct cause of the following exception:\n",
      "\u001b[0;31mKeyError\u001b[0m                                  Traceback (most recent call last)",
      "\u001b[0;32m<ipython-input-27-549c8f431cbb>\u001b[0m in \u001b[0;36m<module>\u001b[0;34m\u001b[0m\n\u001b[1;32m      1\u001b[0m \u001b[0mcheck_mlp_mod\u001b[0m \u001b[0;34m=\u001b[0m \u001b[0mcheck_mlp\u001b[0m\u001b[0;34m.\u001b[0m\u001b[0mcopy\u001b[0m\u001b[0;34m(\u001b[0m\u001b[0;34m)\u001b[0m\u001b[0;34m\u001b[0m\u001b[0;34m\u001b[0m\u001b[0m\n\u001b[1;32m      2\u001b[0m \u001b[0;32mfor\u001b[0m \u001b[0mi\u001b[0m \u001b[0;32min\u001b[0m \u001b[0munbalanced_feats\u001b[0m\u001b[0;34m:\u001b[0m\u001b[0;34m\u001b[0m\u001b[0;34m\u001b[0m\u001b[0m\n\u001b[0;32m----> 3\u001b[0;31m     \u001b[0mprint\u001b[0m\u001b[0;34m(\u001b[0m\u001b[0mi\u001b[0m\u001b[0;34m,\u001b[0m \u001b[0mcheck_mlp\u001b[0m\u001b[0;34m[\u001b[0m\u001b[0mi\u001b[0m\u001b[0;34m]\u001b[0m\u001b[0;34m.\u001b[0m\u001b[0mmax\u001b[0m\u001b[0;34m(\u001b[0m\u001b[0;34m)\u001b[0m\u001b[0;34m)\u001b[0m\u001b[0;34m\u001b[0m\u001b[0;34m\u001b[0m\u001b[0m\n\u001b[0m",
      "\u001b[0;32m/opt/conda/lib/python3.7/site-packages/pandas/core/frame.py\u001b[0m in \u001b[0;36m__getitem__\u001b[0;34m(self, key)\u001b[0m\n\u001b[1;32m   2900\u001b[0m             \u001b[0;32mif\u001b[0m \u001b[0mself\u001b[0m\u001b[0;34m.\u001b[0m\u001b[0mcolumns\u001b[0m\u001b[0;34m.\u001b[0m\u001b[0mnlevels\u001b[0m \u001b[0;34m>\u001b[0m \u001b[0;36m1\u001b[0m\u001b[0;34m:\u001b[0m\u001b[0;34m\u001b[0m\u001b[0;34m\u001b[0m\u001b[0m\n\u001b[1;32m   2901\u001b[0m                 \u001b[0;32mreturn\u001b[0m \u001b[0mself\u001b[0m\u001b[0;34m.\u001b[0m\u001b[0m_getitem_multilevel\u001b[0m\u001b[0;34m(\u001b[0m\u001b[0mkey\u001b[0m\u001b[0;34m)\u001b[0m\u001b[0;34m\u001b[0m\u001b[0;34m\u001b[0m\u001b[0m\n\u001b[0;32m-> 2902\u001b[0;31m             \u001b[0mindexer\u001b[0m \u001b[0;34m=\u001b[0m \u001b[0mself\u001b[0m\u001b[0;34m.\u001b[0m\u001b[0mcolumns\u001b[0m\u001b[0;34m.\u001b[0m\u001b[0mget_loc\u001b[0m\u001b[0;34m(\u001b[0m\u001b[0mkey\u001b[0m\u001b[0;34m)\u001b[0m\u001b[0;34m\u001b[0m\u001b[0;34m\u001b[0m\u001b[0m\n\u001b[0m\u001b[1;32m   2903\u001b[0m             \u001b[0;32mif\u001b[0m \u001b[0mis_integer\u001b[0m\u001b[0;34m(\u001b[0m\u001b[0mindexer\u001b[0m\u001b[0;34m)\u001b[0m\u001b[0;34m:\u001b[0m\u001b[0;34m\u001b[0m\u001b[0;34m\u001b[0m\u001b[0m\n\u001b[1;32m   2904\u001b[0m                 \u001b[0mindexer\u001b[0m \u001b[0;34m=\u001b[0m \u001b[0;34m[\u001b[0m\u001b[0mindexer\u001b[0m\u001b[0;34m]\u001b[0m\u001b[0;34m\u001b[0m\u001b[0;34m\u001b[0m\u001b[0m\n",
      "\u001b[0;32m/opt/conda/lib/python3.7/site-packages/pandas/core/indexes/base.py\u001b[0m in \u001b[0;36mget_loc\u001b[0;34m(self, key, method, tolerance)\u001b[0m\n\u001b[1;32m   2895\u001b[0m                 \u001b[0;32mreturn\u001b[0m \u001b[0mself\u001b[0m\u001b[0;34m.\u001b[0m\u001b[0m_engine\u001b[0m\u001b[0;34m.\u001b[0m\u001b[0mget_loc\u001b[0m\u001b[0;34m(\u001b[0m\u001b[0mcasted_key\u001b[0m\u001b[0;34m)\u001b[0m\u001b[0;34m\u001b[0m\u001b[0;34m\u001b[0m\u001b[0m\n\u001b[1;32m   2896\u001b[0m             \u001b[0;32mexcept\u001b[0m \u001b[0mKeyError\u001b[0m \u001b[0;32mas\u001b[0m \u001b[0merr\u001b[0m\u001b[0;34m:\u001b[0m\u001b[0;34m\u001b[0m\u001b[0;34m\u001b[0m\u001b[0m\n\u001b[0;32m-> 2897\u001b[0;31m                 \u001b[0;32mraise\u001b[0m \u001b[0mKeyError\u001b[0m\u001b[0;34m(\u001b[0m\u001b[0mkey\u001b[0m\u001b[0;34m)\u001b[0m \u001b[0;32mfrom\u001b[0m \u001b[0merr\u001b[0m\u001b[0;34m\u001b[0m\u001b[0;34m\u001b[0m\u001b[0m\n\u001b[0m\u001b[1;32m   2898\u001b[0m \u001b[0;34m\u001b[0m\u001b[0m\n\u001b[1;32m   2899\u001b[0m         \u001b[0;32mif\u001b[0m \u001b[0mtolerance\u001b[0m \u001b[0;32mis\u001b[0m \u001b[0;32mnot\u001b[0m \u001b[0;32mNone\u001b[0m\u001b[0;34m:\u001b[0m\u001b[0;34m\u001b[0m\u001b[0;34m\u001b[0m\u001b[0m\n",
      "\u001b[0;31mKeyError\u001b[0m: 'autotaxin_inhibitor'"
     ]
    }
   ],
   "source": [
    "check_mlp_mod = check_mlp.copy()\n",
    "for i in unbalanced_feats:\n",
    "    print(i, check_mlp[i].max())"
   ]
  },
  {
   "cell_type": "code",
   "execution_count": 28,
   "metadata": {
    "execution": {
     "iopub.execute_input": "2020-11-09T05:23:20.668931Z",
     "iopub.status.busy": "2020-11-09T05:23:20.667778Z",
     "iopub.status.idle": "2020-11-09T05:23:20.780575Z",
     "shell.execute_reply": "2020-11-09T05:23:20.779724Z"
    },
    "papermill": {
     "duration": 0.168903,
     "end_time": "2020-11-09T05:23:20.780715",
     "exception": false,
     "start_time": "2020-11-09T05:23:20.611812",
     "status": "completed"
    },
    "tags": []
   },
   "outputs": [
    {
     "name": "stdout",
     "output_type": "stream",
     "text": [
      "0.00304774833295979 aldehyde_dehydrogenase_inhibitor\n",
      "0.0026752891651685012 antiarrhythmic\n",
      "0.0027347305597657232 atm_kinase_inhibitor\n",
      "0.0026826978087902548 autotaxin_inhibitor\n",
      "0.0026670714137301023 calcineurin_inhibitor\n",
      "0.0026752730510147755 coagulation_factor_inhibitor\n",
      "0.002679615122249506 diuretic\n",
      "0.002687043432788702 elastase_inhibitor\n",
      "0.002670653710421615 laxative\n",
      "0.002670359781157954 leukotriene_inhibitor\n",
      "0.0027168156939604347 lxr_agonist\n",
      "0.0026695575997467587 nicotinic_receptor_agonist\n",
      "0.00271787353938845 protein_phosphatase_inhibitor\n",
      "0.002691691625318644 retinoid_receptor_antagonist\n",
      "0.0026705871988789865 steroid\n",
      "0.0026875874477136096 tropomyosin_receptor_kinase_inhibitor\n",
      "0.0026839362414972745 ubiquitin_specific_protease_inhibitor\n"
     ]
    }
   ],
   "source": [
    "# \n",
    "check_mlp.columns = target_feats\n",
    "for i in sorted(unbalanced_feats):\n",
    "    print(log_loss(targets[i], check_mlp[i]), i)\n",
    "    #print(log_loss(targets[i], check_tabnet_val2[i]), i)\n",
    "    #print(log_loss(targets[i], (check_mlp[i] + check_tabnet_val[i])/2), i)"
   ]
  },
  {
   "cell_type": "code",
   "execution_count": 29,
   "metadata": {
    "execution": {
     "iopub.execute_input": "2020-11-09T05:23:20.886571Z",
     "iopub.status.busy": "2020-11-09T05:23:20.885508Z",
     "iopub.status.idle": "2020-11-09T05:23:20.900342Z",
     "shell.execute_reply": "2020-11-09T05:23:20.898791Z"
    },
    "papermill": {
     "duration": 0.069816,
     "end_time": "2020-11-09T05:23:20.900543",
     "exception": false,
     "start_time": "2020-11-09T05:23:20.830727",
     "status": "completed"
    },
    "tags": []
   },
   "outputs": [
    {
     "data": {
      "text/plain": [
       "array([[1.        , 0.24097525],\n",
       "       [0.24097525, 1.        ]])"
      ]
     },
     "execution_count": 29,
     "metadata": {},
     "output_type": "execute_result"
    }
   ],
   "source": [
    "np.corrcoef(check_mlp[\"aldehyde_dehydrogenase_inhibitor\"], check_mlp[\"laxative\"])"
   ]
  },
  {
   "cell_type": "code",
   "execution_count": 30,
   "metadata": {
    "execution": {
     "iopub.execute_input": "2020-11-09T05:23:21.014156Z",
     "iopub.status.busy": "2020-11-09T05:23:21.012986Z",
     "iopub.status.idle": "2020-11-09T05:23:21.018786Z",
     "shell.execute_reply": "2020-11-09T05:23:21.018035Z"
    },
    "papermill": {
     "duration": 0.067285,
     "end_time": "2020-11-09T05:23:21.019054",
     "exception": false,
     "start_time": "2020-11-09T05:23:20.951769",
     "status": "completed"
    },
    "tags": []
   },
   "outputs": [
    {
     "data": {
      "text/plain": [
       "1.5533980582524273e-05"
      ]
     },
     "execution_count": 30,
     "metadata": {},
     "output_type": "execute_result"
    }
   ],
   "source": [
    "0.0002 * 16 / 206"
   ]
  },
  {
   "cell_type": "code",
   "execution_count": null,
   "metadata": {
    "papermill": {
     "duration": 0.051518,
     "end_time": "2020-11-09T05:23:21.123239",
     "exception": false,
     "start_time": "2020-11-09T05:23:21.071721",
     "status": "completed"
    },
    "tags": []
   },
   "outputs": [],
   "source": []
  }
 ],
 "metadata": {
  "kernelspec": {
   "display_name": "Python 3",
   "language": "python",
   "name": "python3"
  },
  "language_info": {
   "codemirror_mode": {
    "name": "ipython",
    "version": 3
   },
   "file_extension": ".py",
   "mimetype": "text/x-python",
   "name": "python",
   "nbconvert_exporter": "python",
   "pygments_lexer": "ipython3",
   "version": "3.7.6"
  },
  "papermill": {
   "duration": 34.436864,
   "end_time": "2020-11-09T05:23:21.280390",
   "environment_variables": {},
   "exception": null,
   "input_path": "__notebook__.ipynb",
   "output_path": "__notebook__.ipynb",
   "parameters": {},
   "start_time": "2020-11-09T05:22:46.843526",
   "version": "2.1.0"
  }
 },
 "nbformat": 4,
 "nbformat_minor": 4
}
