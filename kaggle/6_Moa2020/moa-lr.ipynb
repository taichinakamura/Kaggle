{
 "cells": [
  {
   "cell_type": "markdown",
   "metadata": {
    "papermill": {
     "duration": 0.011057,
     "end_time": "2020-10-11T02:02:22.959810",
     "exception": false,
     "start_time": "2020-10-11T02:02:22.948753",
     "status": "completed"
    },
    "tags": []
   },
   "source": [
    "- 1st linear model\n",
    "- turn off internet"
   ]
  },
  {
   "cell_type": "code",
   "execution_count": 1,
   "metadata": {
    "_cell_guid": "b1076dfc-b9ad-4769-8c92-a6c4dae69d19",
    "_uuid": "8f2839f25d086af736a60e9eeb907d3b93b6e0e5",
    "execution": {
     "iopub.execute_input": "2020-10-11T02:02:22.989744Z",
     "iopub.status.busy": "2020-10-11T02:02:22.989070Z",
     "iopub.status.idle": "2020-10-11T02:02:32.156016Z",
     "shell.execute_reply": "2020-10-11T02:02:32.155308Z"
    },
    "papermill": {
     "duration": 9.186346,
     "end_time": "2020-10-11T02:02:32.156148",
     "exception": false,
     "start_time": "2020-10-11T02:02:22.969802",
     "status": "completed"
    },
    "tags": []
   },
   "outputs": [],
   "source": [
    "import os\n",
    "import sys\n",
    "import warnings\n",
    "import numpy as np\n",
    "import pandas as pd \n",
    "import matplotlib.pyplot as plt\n",
    "from xgboost import XGBClassifier\n",
    "from sklearn import preprocessing\n",
    "from sklearn.decomposition import PCA\n",
    "from sklearn.pipeline import Pipeline\n",
    "from tqdm import tqdm_notebook as tqdm\n",
    "from category_encoders import CountEncoder\n",
    "from sklearn.multioutput import MultiOutputClassifier\n",
    "from sklearn.metrics import log_loss, mean_squared_error\n",
    "from sklearn.model_selection import KFold, StratifiedKFold\n",
    "sys.path.append('../input/multilabelstraifier/')\n",
    "from ml_stratifiers import MultilabelStratifiedKFold\n",
    "warnings.filterwarnings('ignore')\n",
    "\n",
    "import time\n",
    "import torch\n",
    "import random\n",
    "import torch.nn as nn\n",
    "import torch.optim as optim\n",
    "import torch.nn.functional as F\n",
    "import tensorflow as tf\n",
    "\n",
    "from sklearn.kernel_approximation import Nystroem\n",
    "from sklearn.isotonic import IsotonicRegression\n",
    "from sklearn.linear_model import LogisticRegression\n",
    "from sklearn.kernel_ridge import KernelRidge"
   ]
  },
  {
   "cell_type": "markdown",
   "metadata": {
    "papermill": {
     "duration": 0.009812,
     "end_time": "2020-10-11T02:02:32.176387",
     "exception": false,
     "start_time": "2020-10-11T02:02:32.166575",
     "status": "completed"
    },
    "tags": []
   },
   "source": [
    "# preprocess and feature engineering"
   ]
  },
  {
   "cell_type": "code",
   "execution_count": 2,
   "metadata": {
    "_cell_guid": "79c7e3d0-c299-4dcb-8224-4455121ee9b0",
    "_uuid": "d629ff2d2480ee46fbb7e2d37f6b5fab8052498a",
    "execution": {
     "iopub.execute_input": "2020-10-11T02:02:32.210739Z",
     "iopub.status.busy": "2020-10-11T02:02:32.209934Z",
     "iopub.status.idle": "2020-10-11T02:02:36.638835Z",
     "shell.execute_reply": "2020-10-11T02:02:36.637998Z"
    },
    "papermill": {
     "duration": 4.450734,
     "end_time": "2020-10-11T02:02:36.638963",
     "exception": false,
     "start_time": "2020-10-11T02:02:32.188229",
     "status": "completed"
    },
    "tags": []
   },
   "outputs": [],
   "source": [
    "DATA_DIR = '/kaggle/input/lish-moa/'\n",
    "train = pd.read_csv(DATA_DIR + 'train_features.csv')\n",
    "targets = pd.read_csv(DATA_DIR + 'train_targets_scored.csv')\n",
    "#non_targets = pd.read_csv(DATA_DIR + 'train_targets_nonscored.csv')\n",
    "test = pd.read_csv(DATA_DIR + 'test_features.csv')"
   ]
  },
  {
   "cell_type": "code",
   "execution_count": 3,
   "metadata": {
    "execution": {
     "iopub.execute_input": "2020-10-11T02:02:36.666228Z",
     "iopub.status.busy": "2020-10-11T02:02:36.665353Z",
     "iopub.status.idle": "2020-10-11T02:02:36.668012Z",
     "shell.execute_reply": "2020-10-11T02:02:36.667507Z"
    },
    "papermill": {
     "duration": 0.018824,
     "end_time": "2020-10-11T02:02:36.668136",
     "exception": false,
     "start_time": "2020-10-11T02:02:36.649312",
     "status": "completed"
    },
    "tags": []
   },
   "outputs": [],
   "source": [
    "target_feats = [ i for i in targets.columns if i != \"sig_id\"]\n",
    "g_feats = [i for i in train.columns if \"g-\" in i]\n",
    "c_feats = [i for i in train.columns if \"c-\" in i]"
   ]
  },
  {
   "cell_type": "code",
   "execution_count": 4,
   "metadata": {
    "execution": {
     "iopub.execute_input": "2020-10-11T02:02:36.719015Z",
     "iopub.status.busy": "2020-10-11T02:02:36.702068Z",
     "iopub.status.idle": "2020-10-11T02:02:36.845183Z",
     "shell.execute_reply": "2020-10-11T02:02:36.844418Z"
    },
    "papermill": {
     "duration": 0.166864,
     "end_time": "2020-10-11T02:02:36.845340",
     "exception": false,
     "start_time": "2020-10-11T02:02:36.678476",
     "status": "completed"
    },
    "tags": []
   },
   "outputs": [],
   "source": [
    "noncons_train_index = train[train.cp_type==\"ctl_vehicle\"].index\n",
    "cons_train_index = train[train.cp_type!=\"ctl_vehicle\"].index\n",
    "noncons_test_index = test[test.cp_type==\"ctl_vehicle\"].index\n",
    "cons_test_index = test[test.cp_type!=\"ctl_vehicle\"].index"
   ]
  },
  {
   "cell_type": "code",
   "execution_count": 5,
   "metadata": {
    "execution": {
     "iopub.execute_input": "2020-10-11T02:02:36.882357Z",
     "iopub.status.busy": "2020-10-11T02:02:36.881565Z",
     "iopub.status.idle": "2020-10-11T02:02:36.901636Z",
     "shell.execute_reply": "2020-10-11T02:02:36.901127Z"
    },
    "papermill": {
     "duration": 0.040561,
     "end_time": "2020-10-11T02:02:36.901784",
     "exception": false,
     "start_time": "2020-10-11T02:02:36.861223",
     "status": "completed"
    },
    "tags": []
   },
   "outputs": [],
   "source": [
    "test = test[test.index.isin(cons_test_index)].reset_index(drop=True)"
   ]
  },
  {
   "cell_type": "code",
   "execution_count": 6,
   "metadata": {
    "execution": {
     "iopub.execute_input": "2020-10-11T02:02:36.933744Z",
     "iopub.status.busy": "2020-10-11T02:02:36.931429Z",
     "iopub.status.idle": "2020-10-11T02:02:36.949027Z",
     "shell.execute_reply": "2020-10-11T02:02:36.948386Z"
    },
    "papermill": {
     "duration": 0.036821,
     "end_time": "2020-10-11T02:02:36.949161",
     "exception": false,
     "start_time": "2020-10-11T02:02:36.912340",
     "status": "completed"
    },
    "tags": []
   },
   "outputs": [],
   "source": [
    "categoricals = [\"cp_dose\"]\n",
    "\n",
    "def encoding(tr, te):\n",
    "    for f in categoricals:\n",
    "        lbl = preprocessing.LabelEncoder()\n",
    "        lbl.fit(list(tr[f]))\n",
    "        tr[f] = lbl.transform(list(tr[f]))\n",
    "        te[f] = lbl.transform(list(te[f])) \n",
    "        \n",
    "    return tr, te\n",
    "\n",
    "train, test = encoding(train, test)"
   ]
  },
  {
   "cell_type": "code",
   "execution_count": 7,
   "metadata": {
    "execution": {
     "iopub.execute_input": "2020-10-11T02:02:36.977436Z",
     "iopub.status.busy": "2020-10-11T02:02:36.976649Z",
     "iopub.status.idle": "2020-10-11T02:02:37.161191Z",
     "shell.execute_reply": "2020-10-11T02:02:37.160638Z"
    },
    "papermill": {
     "duration": 0.201368,
     "end_time": "2020-10-11T02:02:37.161324",
     "exception": false,
     "start_time": "2020-10-11T02:02:36.959956",
     "status": "completed"
    },
    "tags": []
   },
   "outputs": [
    {
     "name": "stdout",
     "output_type": "stream",
     "text": [
      "(23814, 874) (3624, 874)\n"
     ]
    }
   ],
   "source": [
    "def fe(df, remove_features):\n",
    "    tmp = df.copy()\n",
    "    tmp.drop(remove_features, axis=1, inplace=True)\n",
    "    return tmp\n",
    "\n",
    "remove_features = [\"cp_type\" , \"sig_id\"]\n",
    "        \n",
    "train = fe(train, remove_features)\n",
    "test = fe(test, remove_features)\n",
    "    \n",
    "print(train.shape, test.shape)"
   ]
  },
  {
   "cell_type": "code",
   "execution_count": 8,
   "metadata": {
    "execution": {
     "iopub.execute_input": "2020-10-11T02:02:37.192918Z",
     "iopub.status.busy": "2020-10-11T02:02:37.191351Z",
     "iopub.status.idle": "2020-10-11T02:02:38.087471Z",
     "shell.execute_reply": "2020-10-11T02:02:38.088048Z"
    },
    "papermill": {
     "duration": 0.91523,
     "end_time": "2020-10-11T02:02:38.088204",
     "exception": false,
     "start_time": "2020-10-11T02:02:37.172974",
     "status": "completed"
    },
    "tags": []
   },
   "outputs": [],
   "source": [
    "fn_train = train.copy() \n",
    "fn_test = test.copy() \n",
    "fn_targets = targets.drop(\"sig_id\", axis=1).copy()\n",
    "\n",
    "fn_train = fn_train[fn_train.index.isin(cons_train_index)].copy().reset_index(drop=True).to_numpy()\n",
    "fn_targets = fn_targets[fn_targets.index.isin(cons_train_index)].copy().reset_index(drop=True).to_numpy()\n",
    "\n",
    "ss = preprocessing.StandardScaler()\n",
    "fn_train= ss.fit_transform(fn_train)\n",
    "fn_test = ss.transform(fn_test)"
   ]
  },
  {
   "cell_type": "markdown",
   "metadata": {
    "papermill": {
     "duration": 0.010875,
     "end_time": "2020-10-11T02:02:38.110397",
     "exception": false,
     "start_time": "2020-10-11T02:02:38.099522",
     "status": "completed"
    },
    "tags": []
   },
   "source": [
    "# modelling"
   ]
  },
  {
   "cell_type": "code",
   "execution_count": 9,
   "metadata": {
    "execution": {
     "iopub.execute_input": "2020-10-11T02:02:38.144634Z",
     "iopub.status.busy": "2020-10-11T02:02:38.143937Z",
     "iopub.status.idle": "2020-10-11T02:02:38.147635Z",
     "shell.execute_reply": "2020-10-11T02:02:38.147080Z"
    },
    "papermill": {
     "duration": 0.026236,
     "end_time": "2020-10-11T02:02:38.147772",
     "exception": false,
     "start_time": "2020-10-11T02:02:38.121536",
     "status": "completed"
    },
    "tags": []
   },
   "outputs": [],
   "source": [
    "N_SPLITS = 5\n",
    "\n",
    "def log_loss_metric(y_true, y_pred):\n",
    "    y_pred_clip = np.clip(y_pred, 1e-15, 1 - 1e-15)\n",
    "    loss = - np.mean(np.mean(y_true * np.log(y_pred_clip) + (1 - y_true) * np.log(1 - y_pred_clip), axis = 1))\n",
    "    return loss\n",
    "\n",
    "def modelling_lr(tr, ta, te):    \n",
    "    oof = np.zeros([len(tr),ta.shape[1]])\n",
    "    pred_value = np.zeros([te.shape[0], ta.shape[1]])\n",
    "    \n",
    "    mskf_lr = MultilabelStratifiedKFold(n_splits = N_SPLITS, random_state = 0, shuffle = True)\n",
    "    \n",
    "    for n, (train_index, val_index) in enumerate(mskf_lr.split(tr, ta)):\n",
    "        x_tr, x_val = tr[train_index], tr[val_index]\n",
    "        y_tr, y_val = ta[train_index], ta[val_index]\n",
    "        \n",
    "        model = KernelRidge(alpha = 80, kernel = 'rbf')\n",
    "        model.fit(x_tr, y_tr)\n",
    "\n",
    "        fold_pred = model.predict(x_val)\n",
    "        pred_value += model.predict(te) / N_SPLITS\n",
    "        oof[val_index,:] = fold_pred\n",
    "        fold_score = log_loss_metric(y_val, fold_pred)\n",
    "        print('KRR: Fold {} Score {}:'.format(n+1, fold_score))\n",
    "    return oof, pred_value"
   ]
  },
  {
   "cell_type": "code",
   "execution_count": 10,
   "metadata": {
    "execution": {
     "iopub.execute_input": "2020-10-11T02:02:38.176356Z",
     "iopub.status.busy": "2020-10-11T02:02:38.175613Z",
     "iopub.status.idle": "2020-10-11T02:06:56.445838Z",
     "shell.execute_reply": "2020-10-11T02:06:56.446466Z"
    },
    "papermill": {
     "duration": 258.287568,
     "end_time": "2020-10-11T02:06:56.446628",
     "exception": false,
     "start_time": "2020-10-11T02:02:38.159060",
     "status": "completed"
    },
    "tags": []
   },
   "outputs": [
    {
     "name": "stdout",
     "output_type": "stream",
     "text": [
      "KRR: Fold 1 Score 0.020053231410728768:\n",
      "KRR: Fold 2 Score 0.020395236493920593:\n",
      "KRR: Fold 3 Score 0.02040202134683225:\n",
      "KRR: Fold 4 Score 0.020202331062327317:\n",
      "KRR: Fold 5 Score 0.02046674791227364:\n"
     ]
    }
   ],
   "source": [
    "lr0_oof = np.zeros([len(fn_train), fn_targets.shape[1]])\n",
    "lr0_test = np.zeros([len(fn_test), fn_targets.shape[1]])\n",
    "lr0_oof, lr0_test = modelling_lr(fn_train, fn_targets, fn_test)"
   ]
  },
  {
   "cell_type": "code",
   "execution_count": 11,
   "metadata": {
    "execution": {
     "iopub.execute_input": "2020-10-11T02:06:56.486150Z",
     "iopub.status.busy": "2020-10-11T02:06:56.485474Z",
     "iopub.status.idle": "2020-10-11T02:07:56.532455Z",
     "shell.execute_reply": "2020-10-11T02:07:56.533148Z"
    },
    "papermill": {
     "duration": 60.073926,
     "end_time": "2020-10-11T02:07:56.533324",
     "exception": false,
     "start_time": "2020-10-11T02:06:56.459398",
     "status": "completed"
    },
    "tags": []
   },
   "outputs": [
    {
     "data": {
      "application/vnd.jupyter.widget-view+json": {
       "model_id": "c2824fc9c62a4dddbe9024654ca17836",
       "version_major": 2,
       "version_minor": 0
      },
      "text/plain": [
       "HBox(children=(FloatProgress(value=0.0, max=206.0), HTML(value='')))"
      ]
     },
     "metadata": {},
     "output_type": "display_data"
    },
    {
     "name": "stdout",
     "output_type": "stream",
     "text": [
      "\n"
     ]
    }
   ],
   "source": [
    "lr1_test = pd.read_csv('../input/lish-moa/sample_submission.csv')\n",
    "lr1_test.loc[:, target_feats] = 0\n",
    "lr1_oof = np.zeros([fn_targets.shape[0],fn_targets.shape[1]]) \n",
    "\n",
    "for ind in tqdm(range(len(target_feats))):\n",
    "\n",
    "    ind_target_sum = targets.drop(\"sig_id\", axis=1).copy().values[:, ind].sum()\n",
    "\n",
    "    if ind_target_sum >= N_SPLITS:\n",
    "\n",
    "        skf = StratifiedKFold(n_splits = N_SPLITS, random_state = 0, shuffle = True)\n",
    "        for n, (train_index, val_index) in enumerate(skf.split(lr0_oof, fn_targets[:,ind])):\n",
    "            x_tr, x_val = lr0_oof[train_index, ind].reshape(-1, 1), lr0_oof[val_index, ind].reshape(-1, 1)\n",
    "            y_tr, y_val = fn_targets[train_index,ind], fn_targets[val_index,ind]\n",
    "            model = LogisticRegression(penalty = 'none', max_iter = 1000)\n",
    "            model.fit(x_tr, y_tr)\n",
    "            \n",
    "            lr1_test.loc[cons_test_index, target_feats[ind]] += model.predict_proba(lr0_test[:, ind].reshape(-1, 1))[:, 1] / N_SPLITS\n",
    "            lr1_oof[val_index, ind] += model.predict_proba(x_val)[:, 1]"
   ]
  },
  {
   "cell_type": "code",
   "execution_count": 12,
   "metadata": {
    "execution": {
     "iopub.execute_input": "2020-10-11T02:07:56.569069Z",
     "iopub.status.busy": "2020-10-11T02:07:56.568307Z",
     "iopub.status.idle": "2020-10-11T02:08:01.997171Z",
     "shell.execute_reply": "2020-10-11T02:08:01.996392Z"
    },
    "papermill": {
     "duration": 5.44954,
     "end_time": "2020-10-11T02:08:01.997315",
     "exception": false,
     "start_time": "2020-10-11T02:07:56.547775",
     "status": "completed"
    },
    "tags": []
   },
   "outputs": [
    {
     "name": "stdout",
     "output_type": "stream",
     "text": [
      "OOF log loss:  0.01635319513482686\n"
     ]
    }
   ],
   "source": [
    "check_lr1 = targets.copy()\n",
    "check_lr1.loc[cons_train_index,target_feats] = lr1_oof\n",
    "check_lr1.loc[noncons_train_index,target_feats] = 0\n",
    "print('OOF log loss: ', log_loss(np.ravel(targets.iloc[:,1:]), np.ravel(np.array(check_lr1.iloc[:,1:]))))"
   ]
  },
  {
   "cell_type": "markdown",
   "metadata": {
    "papermill": {
     "duration": 0.014362,
     "end_time": "2020-10-11T02:08:02.026662",
     "exception": false,
     "start_time": "2020-10-11T02:08:02.012300",
     "status": "completed"
    },
    "tags": []
   },
   "source": [
    "# submission"
   ]
  },
  {
   "cell_type": "code",
   "execution_count": 13,
   "metadata": {
    "execution": {
     "iopub.execute_input": "2020-10-11T02:08:02.064662Z",
     "iopub.status.busy": "2020-10-11T02:08:02.063711Z",
     "iopub.status.idle": "2020-10-11T02:08:04.073285Z",
     "shell.execute_reply": "2020-10-11T02:08:04.072570Z"
    },
    "papermill": {
     "duration": 2.032246,
     "end_time": "2020-10-11T02:08:04.073406",
     "exception": false,
     "start_time": "2020-10-11T02:08:02.041160",
     "status": "completed"
    },
    "tags": []
   },
   "outputs": [],
   "source": [
    "sub_lr = pd.read_csv(DATA_DIR + 'sample_submission.csv')\n",
    "sub_lr.loc[cons_test_index,target_feats] = lr1_test\n",
    "sub_lr.loc[noncons_test_index,target_feats] = 0\n",
    "sub_lr.to_csv('submission.csv', index=False)"
   ]
  },
  {
   "cell_type": "code",
   "execution_count": null,
   "metadata": {
    "papermill": {
     "duration": 0.013805,
     "end_time": "2020-10-11T02:08:04.101567",
     "exception": false,
     "start_time": "2020-10-11T02:08:04.087762",
     "status": "completed"
    },
    "tags": []
   },
   "outputs": [],
   "source": []
  }
 ],
 "metadata": {
  "kernelspec": {
   "display_name": "Python 3",
   "language": "python",
   "name": "python3"
  },
  "language_info": {
   "codemirror_mode": {
    "name": "ipython",
    "version": 3
   },
   "file_extension": ".py",
   "mimetype": "text/x-python",
   "name": "python",
   "nbconvert_exporter": "python",
   "pygments_lexer": "ipython3",
   "version": "3.7.6"
  },
  "papermill": {
   "duration": 346.056982,
   "end_time": "2020-10-11T02:08:04.225214",
   "environment_variables": {},
   "exception": null,
   "input_path": "__notebook__.ipynb",
   "output_path": "__notebook__.ipynb",
   "parameters": {},
   "start_time": "2020-10-11T02:02:18.168232",
   "version": "2.1.0"
  },
  "widgets": {
   "application/vnd.jupyter.widget-state+json": {
    "state": {
     "09c45eb66c7c4a08bd1d846f903a75c4": {
      "model_module": "@jupyter-widgets/controls",
      "model_module_version": "1.5.0",
      "model_name": "ProgressStyleModel",
      "state": {
       "_model_module": "@jupyter-widgets/controls",
       "_model_module_version": "1.5.0",
       "_model_name": "ProgressStyleModel",
       "_view_count": null,
       "_view_module": "@jupyter-widgets/base",
       "_view_module_version": "1.2.0",
       "_view_name": "StyleView",
       "bar_color": null,
       "description_width": "initial"
      }
     },
     "160c50b171b44ec6b76adfe25c83fea1": {
      "model_module": "@jupyter-widgets/base",
      "model_module_version": "1.2.0",
      "model_name": "LayoutModel",
      "state": {
       "_model_module": "@jupyter-widgets/base",
       "_model_module_version": "1.2.0",
       "_model_name": "LayoutModel",
       "_view_count": null,
       "_view_module": "@jupyter-widgets/base",
       "_view_module_version": "1.2.0",
       "_view_name": "LayoutView",
       "align_content": null,
       "align_items": null,
       "align_self": null,
       "border": null,
       "bottom": null,
       "display": null,
       "flex": null,
       "flex_flow": null,
       "grid_area": null,
       "grid_auto_columns": null,
       "grid_auto_flow": null,
       "grid_auto_rows": null,
       "grid_column": null,
       "grid_gap": null,
       "grid_row": null,
       "grid_template_areas": null,
       "grid_template_columns": null,
       "grid_template_rows": null,
       "height": null,
       "justify_content": null,
       "justify_items": null,
       "left": null,
       "margin": null,
       "max_height": null,
       "max_width": null,
       "min_height": null,
       "min_width": null,
       "object_fit": null,
       "object_position": null,
       "order": null,
       "overflow": null,
       "overflow_x": null,
       "overflow_y": null,
       "padding": null,
       "right": null,
       "top": null,
       "visibility": null,
       "width": null
      }
     },
     "176d0e226e93425ba0332705495d2aa9": {
      "model_module": "@jupyter-widgets/base",
      "model_module_version": "1.2.0",
      "model_name": "LayoutModel",
      "state": {
       "_model_module": "@jupyter-widgets/base",
       "_model_module_version": "1.2.0",
       "_model_name": "LayoutModel",
       "_view_count": null,
       "_view_module": "@jupyter-widgets/base",
       "_view_module_version": "1.2.0",
       "_view_name": "LayoutView",
       "align_content": null,
       "align_items": null,
       "align_self": null,
       "border": null,
       "bottom": null,
       "display": null,
       "flex": null,
       "flex_flow": null,
       "grid_area": null,
       "grid_auto_columns": null,
       "grid_auto_flow": null,
       "grid_auto_rows": null,
       "grid_column": null,
       "grid_gap": null,
       "grid_row": null,
       "grid_template_areas": null,
       "grid_template_columns": null,
       "grid_template_rows": null,
       "height": null,
       "justify_content": null,
       "justify_items": null,
       "left": null,
       "margin": null,
       "max_height": null,
       "max_width": null,
       "min_height": null,
       "min_width": null,
       "object_fit": null,
       "object_position": null,
       "order": null,
       "overflow": null,
       "overflow_x": null,
       "overflow_y": null,
       "padding": null,
       "right": null,
       "top": null,
       "visibility": null,
       "width": null
      }
     },
     "701a03d3d5c34fd78fc002b0fa817441": {
      "model_module": "@jupyter-widgets/controls",
      "model_module_version": "1.5.0",
      "model_name": "HTMLModel",
      "state": {
       "_dom_classes": [],
       "_model_module": "@jupyter-widgets/controls",
       "_model_module_version": "1.5.0",
       "_model_name": "HTMLModel",
       "_view_count": null,
       "_view_module": "@jupyter-widgets/controls",
       "_view_module_version": "1.5.0",
       "_view_name": "HTMLView",
       "description": "",
       "description_tooltip": null,
       "layout": "IPY_MODEL_9ab3d08ae1b8462691a89af13530bc17",
       "placeholder": "​",
       "style": "IPY_MODEL_dd876420d7cb4798a37d82e96ca91ad5",
       "value": " 206/206 [01:05&lt;00:00,  3.12it/s]"
      }
     },
     "8810bd9a0107409e8d214cb0678330f5": {
      "model_module": "@jupyter-widgets/controls",
      "model_module_version": "1.5.0",
      "model_name": "FloatProgressModel",
      "state": {
       "_dom_classes": [],
       "_model_module": "@jupyter-widgets/controls",
       "_model_module_version": "1.5.0",
       "_model_name": "FloatProgressModel",
       "_view_count": null,
       "_view_module": "@jupyter-widgets/controls",
       "_view_module_version": "1.5.0",
       "_view_name": "ProgressView",
       "bar_style": "success",
       "description": "100%",
       "description_tooltip": null,
       "layout": "IPY_MODEL_176d0e226e93425ba0332705495d2aa9",
       "max": 206.0,
       "min": 0.0,
       "orientation": "horizontal",
       "style": "IPY_MODEL_09c45eb66c7c4a08bd1d846f903a75c4",
       "value": 206.0
      }
     },
     "9ab3d08ae1b8462691a89af13530bc17": {
      "model_module": "@jupyter-widgets/base",
      "model_module_version": "1.2.0",
      "model_name": "LayoutModel",
      "state": {
       "_model_module": "@jupyter-widgets/base",
       "_model_module_version": "1.2.0",
       "_model_name": "LayoutModel",
       "_view_count": null,
       "_view_module": "@jupyter-widgets/base",
       "_view_module_version": "1.2.0",
       "_view_name": "LayoutView",
       "align_content": null,
       "align_items": null,
       "align_self": null,
       "border": null,
       "bottom": null,
       "display": null,
       "flex": null,
       "flex_flow": null,
       "grid_area": null,
       "grid_auto_columns": null,
       "grid_auto_flow": null,
       "grid_auto_rows": null,
       "grid_column": null,
       "grid_gap": null,
       "grid_row": null,
       "grid_template_areas": null,
       "grid_template_columns": null,
       "grid_template_rows": null,
       "height": null,
       "justify_content": null,
       "justify_items": null,
       "left": null,
       "margin": null,
       "max_height": null,
       "max_width": null,
       "min_height": null,
       "min_width": null,
       "object_fit": null,
       "object_position": null,
       "order": null,
       "overflow": null,
       "overflow_x": null,
       "overflow_y": null,
       "padding": null,
       "right": null,
       "top": null,
       "visibility": null,
       "width": null
      }
     },
     "c2824fc9c62a4dddbe9024654ca17836": {
      "model_module": "@jupyter-widgets/controls",
      "model_module_version": "1.5.0",
      "model_name": "HBoxModel",
      "state": {
       "_dom_classes": [],
       "_model_module": "@jupyter-widgets/controls",
       "_model_module_version": "1.5.0",
       "_model_name": "HBoxModel",
       "_view_count": null,
       "_view_module": "@jupyter-widgets/controls",
       "_view_module_version": "1.5.0",
       "_view_name": "HBoxView",
       "box_style": "",
       "children": [
        "IPY_MODEL_8810bd9a0107409e8d214cb0678330f5",
        "IPY_MODEL_701a03d3d5c34fd78fc002b0fa817441"
       ],
       "layout": "IPY_MODEL_160c50b171b44ec6b76adfe25c83fea1"
      }
     },
     "dd876420d7cb4798a37d82e96ca91ad5": {
      "model_module": "@jupyter-widgets/controls",
      "model_module_version": "1.5.0",
      "model_name": "DescriptionStyleModel",
      "state": {
       "_model_module": "@jupyter-widgets/controls",
       "_model_module_version": "1.5.0",
       "_model_name": "DescriptionStyleModel",
       "_view_count": null,
       "_view_module": "@jupyter-widgets/base",
       "_view_module_version": "1.2.0",
       "_view_name": "StyleView",
       "description_width": ""
      }
     }
    },
    "version_major": 2,
    "version_minor": 0
   }
  }
 },
 "nbformat": 4,
 "nbformat_minor": 4
}
