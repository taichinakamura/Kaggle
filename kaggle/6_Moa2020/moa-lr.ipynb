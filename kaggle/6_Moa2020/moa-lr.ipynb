{
 "cells": [
  {
   "cell_type": "markdown",
   "metadata": {
    "papermill": {
     "duration": 0.009199,
     "end_time": "2020-10-11T03:10:51.157162",
     "exception": false,
     "start_time": "2020-10-11T03:10:51.147963",
     "status": "completed"
    },
    "tags": []
   },
   "source": [
    "- 1st linear model\n",
    "- turn off internet"
   ]
  },
  {
   "cell_type": "code",
   "execution_count": 1,
   "metadata": {
    "_cell_guid": "b1076dfc-b9ad-4769-8c92-a6c4dae69d19",
    "_uuid": "8f2839f25d086af736a60e9eeb907d3b93b6e0e5",
    "execution": {
     "iopub.execute_input": "2020-10-11T03:10:51.187686Z",
     "iopub.status.busy": "2020-10-11T03:10:51.186993Z",
     "iopub.status.idle": "2020-10-11T03:11:00.050792Z",
     "shell.execute_reply": "2020-10-11T03:11:00.050357Z"
    },
    "papermill": {
     "duration": 8.883496,
     "end_time": "2020-10-11T03:11:00.050883",
     "exception": false,
     "start_time": "2020-10-11T03:10:51.167387",
     "status": "completed"
    },
    "tags": []
   },
   "outputs": [],
   "source": [
    "import os\n",
    "import sys\n",
    "import warnings\n",
    "import numpy as np\n",
    "import pandas as pd \n",
    "import matplotlib.pyplot as plt\n",
    "from xgboost import XGBClassifier\n",
    "from sklearn import preprocessing\n",
    "from sklearn.decomposition import PCA\n",
    "from sklearn.pipeline import Pipeline\n",
    "from tqdm import tqdm_notebook as tqdm\n",
    "from category_encoders import CountEncoder\n",
    "from sklearn.multioutput import MultiOutputClassifier\n",
    "from sklearn.metrics import log_loss, mean_squared_error\n",
    "from sklearn.model_selection import KFold, StratifiedKFold\n",
    "sys.path.append('../input/multilabelstraifier/')\n",
    "from ml_stratifiers import MultilabelStratifiedKFold\n",
    "warnings.filterwarnings('ignore')\n",
    "\n",
    "import time\n",
    "import torch\n",
    "import random\n",
    "import torch.nn as nn\n",
    "import torch.optim as optim\n",
    "import torch.nn.functional as F\n",
    "import tensorflow as tf\n",
    "\n",
    "from sklearn.kernel_approximation import Nystroem\n",
    "from sklearn.isotonic import IsotonicRegression\n",
    "from sklearn.linear_model import LogisticRegression\n",
    "from sklearn.kernel_ridge import KernelRidge"
   ]
  },
  {
   "cell_type": "markdown",
   "metadata": {
    "papermill": {
     "duration": 0.008113,
     "end_time": "2020-10-11T03:11:00.067828",
     "exception": false,
     "start_time": "2020-10-11T03:11:00.059715",
     "status": "completed"
    },
    "tags": []
   },
   "source": [
    "# preprocess and feature engineering"
   ]
  },
  {
   "cell_type": "code",
   "execution_count": 2,
   "metadata": {
    "_cell_guid": "79c7e3d0-c299-4dcb-8224-4455121ee9b0",
    "_uuid": "d629ff2d2480ee46fbb7e2d37f6b5fab8052498a",
    "execution": {
     "iopub.execute_input": "2020-10-11T03:11:00.100135Z",
     "iopub.status.busy": "2020-10-11T03:11:00.099369Z",
     "iopub.status.idle": "2020-10-11T03:11:03.009537Z",
     "shell.execute_reply": "2020-10-11T03:11:03.009032Z"
    },
    "papermill": {
     "duration": 2.932291,
     "end_time": "2020-10-11T03:11:03.009620",
     "exception": false,
     "start_time": "2020-10-11T03:11:00.077329",
     "status": "completed"
    },
    "tags": []
   },
   "outputs": [],
   "source": [
    "DATA_DIR = '/kaggle/input/lish-moa/'\n",
    "train = pd.read_csv(DATA_DIR + 'train_features.csv')\n",
    "targets = pd.read_csv(DATA_DIR + 'train_targets_scored.csv')\n",
    "#non_targets = pd.read_csv(DATA_DIR + 'train_targets_nonscored.csv')\n",
    "test = pd.read_csv(DATA_DIR + 'test_features.csv')"
   ]
  },
  {
   "cell_type": "code",
   "execution_count": 3,
   "metadata": {
    "execution": {
     "iopub.execute_input": "2020-10-11T03:11:03.031919Z",
     "iopub.status.busy": "2020-10-11T03:11:03.031491Z",
     "iopub.status.idle": "2020-10-11T03:11:03.033497Z",
     "shell.execute_reply": "2020-10-11T03:11:03.033842Z"
    },
    "papermill": {
     "duration": 0.015095,
     "end_time": "2020-10-11T03:11:03.033930",
     "exception": false,
     "start_time": "2020-10-11T03:11:03.018835",
     "status": "completed"
    },
    "tags": []
   },
   "outputs": [],
   "source": [
    "target_feats = [ i for i in targets.columns if i != \"sig_id\"]\n",
    "g_feats = [i for i in train.columns if \"g-\" in i]\n",
    "c_feats = [i for i in train.columns if \"c-\" in i]"
   ]
  },
  {
   "cell_type": "code",
   "execution_count": 4,
   "metadata": {
    "execution": {
     "iopub.execute_input": "2020-10-11T03:11:03.061353Z",
     "iopub.status.busy": "2020-10-11T03:11:03.060904Z",
     "iopub.status.idle": "2020-10-11T03:11:03.148910Z",
     "shell.execute_reply": "2020-10-11T03:11:03.148407Z"
    },
    "papermill": {
     "duration": 0.106594,
     "end_time": "2020-10-11T03:11:03.148998",
     "exception": false,
     "start_time": "2020-10-11T03:11:03.042404",
     "status": "completed"
    },
    "tags": []
   },
   "outputs": [],
   "source": [
    "noncons_train_index = train[train.cp_type==\"ctl_vehicle\"].index\n",
    "cons_train_index = train[train.cp_type!=\"ctl_vehicle\"].index\n",
    "noncons_test_index = test[test.cp_type==\"ctl_vehicle\"].index\n",
    "cons_test_index = test[test.cp_type!=\"ctl_vehicle\"].index"
   ]
  },
  {
   "cell_type": "code",
   "execution_count": 5,
   "metadata": {
    "execution": {
     "iopub.execute_input": "2020-10-11T03:11:03.171070Z",
     "iopub.status.busy": "2020-10-11T03:11:03.170635Z",
     "iopub.status.idle": "2020-10-11T03:11:03.184633Z",
     "shell.execute_reply": "2020-10-11T03:11:03.184255Z"
    },
    "papermill": {
     "duration": 0.026845,
     "end_time": "2020-10-11T03:11:03.184707",
     "exception": false,
     "start_time": "2020-10-11T03:11:03.157862",
     "status": "completed"
    },
    "tags": []
   },
   "outputs": [],
   "source": [
    "test = test[test.index.isin(cons_test_index)].reset_index(drop=True)"
   ]
  },
  {
   "cell_type": "code",
   "execution_count": 6,
   "metadata": {
    "execution": {
     "iopub.execute_input": "2020-10-11T03:11:03.210313Z",
     "iopub.status.busy": "2020-10-11T03:11:03.209698Z",
     "iopub.status.idle": "2020-10-11T03:11:03.221254Z",
     "shell.execute_reply": "2020-10-11T03:11:03.220893Z"
    },
    "papermill": {
     "duration": 0.02796,
     "end_time": "2020-10-11T03:11:03.221332",
     "exception": false,
     "start_time": "2020-10-11T03:11:03.193372",
     "status": "completed"
    },
    "tags": []
   },
   "outputs": [],
   "source": [
    "categoricals = [\"cp_dose\"]\n",
    "\n",
    "def encoding(tr, te):\n",
    "    for f in categoricals:\n",
    "        lbl = preprocessing.LabelEncoder()\n",
    "        lbl.fit(list(tr[f]))\n",
    "        tr[f] = lbl.transform(list(tr[f]))\n",
    "        te[f] = lbl.transform(list(te[f])) \n",
    "        \n",
    "    return tr, te\n",
    "\n",
    "train, test = encoding(train, test)"
   ]
  },
  {
   "cell_type": "code",
   "execution_count": 7,
   "metadata": {
    "execution": {
     "iopub.execute_input": "2020-10-11T03:11:03.244596Z",
     "iopub.status.busy": "2020-10-11T03:11:03.244064Z",
     "iopub.status.idle": "2020-10-11T03:11:03.344276Z",
     "shell.execute_reply": "2020-10-11T03:11:03.344682Z"
    },
    "papermill": {
     "duration": 0.114555,
     "end_time": "2020-10-11T03:11:03.344797",
     "exception": false,
     "start_time": "2020-10-11T03:11:03.230242",
     "status": "completed"
    },
    "tags": []
   },
   "outputs": [
    {
     "name": "stdout",
     "output_type": "stream",
     "text": [
      "(23814, 874) (3624, 874)\n"
     ]
    }
   ],
   "source": [
    "def fe(df, remove_features):\n",
    "    tmp = df.copy()\n",
    "    tmp.drop(remove_features, axis=1, inplace=True)\n",
    "    return tmp\n",
    "\n",
    "remove_features = [\"cp_type\" , \"sig_id\"]\n",
    "        \n",
    "train = fe(train, remove_features)\n",
    "test = fe(test, remove_features)\n",
    "    \n",
    "print(train.shape, test.shape)"
   ]
  },
  {
   "cell_type": "code",
   "execution_count": 8,
   "metadata": {
    "execution": {
     "iopub.execute_input": "2020-10-11T03:11:03.372004Z",
     "iopub.status.busy": "2020-10-11T03:11:03.371535Z",
     "iopub.status.idle": "2020-10-11T03:11:03.832923Z",
     "shell.execute_reply": "2020-10-11T03:11:03.832412Z"
    },
    "papermill": {
     "duration": 0.478496,
     "end_time": "2020-10-11T03:11:03.833007",
     "exception": false,
     "start_time": "2020-10-11T03:11:03.354511",
     "status": "completed"
    },
    "tags": []
   },
   "outputs": [],
   "source": [
    "fn_train = train.copy() \n",
    "fn_test = test.copy() \n",
    "fn_targets = targets.drop(\"sig_id\", axis=1).copy()\n",
    "\n",
    "fn_train = fn_train[fn_train.index.isin(cons_train_index)].copy().reset_index(drop=True).to_numpy()\n",
    "fn_targets = fn_targets[fn_targets.index.isin(cons_train_index)].copy().reset_index(drop=True).to_numpy()\n",
    "\n",
    "ss = preprocessing.StandardScaler()\n",
    "fn_train= ss.fit_transform(fn_train)\n",
    "fn_test = ss.transform(fn_test)"
   ]
  },
  {
   "cell_type": "markdown",
   "metadata": {
    "papermill": {
     "duration": 0.008898,
     "end_time": "2020-10-11T03:11:03.851471",
     "exception": false,
     "start_time": "2020-10-11T03:11:03.842573",
     "status": "completed"
    },
    "tags": []
   },
   "source": [
    "# modelling"
   ]
  },
  {
   "cell_type": "code",
   "execution_count": 9,
   "metadata": {
    "execution": {
     "iopub.execute_input": "2020-10-11T03:11:03.878301Z",
     "iopub.status.busy": "2020-10-11T03:11:03.877676Z",
     "iopub.status.idle": "2020-10-11T03:11:03.882195Z",
     "shell.execute_reply": "2020-10-11T03:11:03.881693Z"
    },
    "papermill": {
     "duration": 0.021812,
     "end_time": "2020-10-11T03:11:03.882300",
     "exception": false,
     "start_time": "2020-10-11T03:11:03.860488",
     "status": "completed"
    },
    "tags": []
   },
   "outputs": [],
   "source": [
    "N_SPLITS = 5\n",
    "\n",
    "def log_loss_metric(y_true, y_pred):\n",
    "    y_pred_clip = np.clip(y_pred, 1e-15, 1 - 1e-15)\n",
    "    loss = - np.mean(np.mean(y_true * np.log(y_pred_clip) + (1 - y_true) * np.log(1 - y_pred_clip), axis = 1))\n",
    "    return loss\n",
    "\n",
    "def modelling_lr(tr, ta, te):    \n",
    "    oof = np.zeros([len(tr),ta.shape[1]])\n",
    "    pred_value = np.zeros([te.shape[0], ta.shape[1]])\n",
    "    \n",
    "    mskf_lr = MultilabelStratifiedKFold(n_splits = N_SPLITS, random_state = 0, shuffle = True)\n",
    "    \n",
    "    for n, (train_index, val_index) in enumerate(mskf_lr.split(tr, ta)):\n",
    "        x_tr, x_val = tr[train_index], tr[val_index]\n",
    "        y_tr, y_val = ta[train_index], ta[val_index]\n",
    "        \n",
    "        model = KernelRidge(alpha = 80, kernel = 'rbf')\n",
    "        model.fit(x_tr, y_tr)\n",
    "\n",
    "        fold_pred = model.predict(x_val)\n",
    "        pred_value += model.predict(te) / N_SPLITS\n",
    "        oof[val_index,:] = fold_pred\n",
    "        fold_score = log_loss_metric(y_val, fold_pred)\n",
    "        print('KRR: Fold {} Score {}:'.format(n+1, fold_score))\n",
    "    return oof, pred_value"
   ]
  },
  {
   "cell_type": "code",
   "execution_count": 10,
   "metadata": {
    "execution": {
     "iopub.execute_input": "2020-10-11T03:11:03.916314Z",
     "iopub.status.busy": "2020-10-11T03:11:03.915745Z",
     "iopub.status.idle": "2020-10-11T03:16:53.711704Z",
     "shell.execute_reply": "2020-10-11T03:16:53.712135Z"
    },
    "papermill": {
     "duration": 349.81536,
     "end_time": "2020-10-11T03:16:53.712248",
     "exception": false,
     "start_time": "2020-10-11T03:11:03.896888",
     "status": "completed"
    },
    "tags": []
   },
   "outputs": [
    {
     "name": "stdout",
     "output_type": "stream",
     "text": [
      "KRR: Fold 1 Score 0.020053231410728768:\n",
      "KRR: Fold 2 Score 0.020395236493920596:\n",
      "KRR: Fold 3 Score 0.02040202134683225:\n",
      "KRR: Fold 4 Score 0.020202331062327314:\n",
      "KRR: Fold 5 Score 0.02046674791227364:\n"
     ]
    }
   ],
   "source": [
    "lr0_oof = np.zeros([len(fn_train), fn_targets.shape[1]])\n",
    "lr0_test = np.zeros([len(fn_test), fn_targets.shape[1]])\n",
    "lr0_oof, lr0_test = modelling_lr(fn_train, fn_targets, fn_test)"
   ]
  },
  {
   "cell_type": "code",
   "execution_count": 11,
   "metadata": {
    "execution": {
     "iopub.execute_input": "2020-10-11T03:16:53.745484Z",
     "iopub.status.busy": "2020-10-11T03:16:53.744239Z",
     "iopub.status.idle": "2020-10-11T03:17:41.486907Z",
     "shell.execute_reply": "2020-10-11T03:17:41.487344Z"
    },
    "papermill": {
     "duration": 47.763347,
     "end_time": "2020-10-11T03:17:41.487498",
     "exception": false,
     "start_time": "2020-10-11T03:16:53.724151",
     "status": "completed"
    },
    "tags": []
   },
   "outputs": [
    {
     "data": {
      "application/vnd.jupyter.widget-view+json": {
       "model_id": "f582e99f1e7e4848a7a32611c66dfce8",
       "version_major": 2,
       "version_minor": 0
      },
      "text/plain": [
       "HBox(children=(FloatProgress(value=0.0, max=206.0), HTML(value='')))"
      ]
     },
     "metadata": {},
     "output_type": "display_data"
    },
    {
     "name": "stdout",
     "output_type": "stream",
     "text": [
      "\n"
     ]
    }
   ],
   "source": [
    "lr1_test = np.zeros([len(fn_test),fn_targets.shape[1]])\n",
    "lr1_oof = np.zeros([fn_targets.shape[0],fn_targets.shape[1]]) \n",
    "\n",
    "for ind in tqdm(range(len(target_feats))):\n",
    "\n",
    "    ind_target_sum = targets.drop(\"sig_id\", axis=1).copy().values[:, ind].sum()\n",
    "\n",
    "    if ind_target_sum >= N_SPLITS:\n",
    "\n",
    "        skf = StratifiedKFold(n_splits = N_SPLITS, random_state = 0, shuffle = True)\n",
    "        for n, (train_index, val_index) in enumerate(skf.split(lr0_oof, fn_targets[:,ind])):\n",
    "            x_tr, x_val = lr0_oof[train_index, ind].reshape(-1, 1), lr0_oof[val_index, ind].reshape(-1, 1)\n",
    "            y_tr, y_val = fn_targets[train_index,ind], fn_targets[val_index,ind]\n",
    "            model = LogisticRegression(penalty = 'none', max_iter = 1000)\n",
    "            model.fit(x_tr, y_tr)\n",
    "            \n",
    "            lr1_test[:,ind] += model.predict_proba(lr0_test[:, ind].reshape(-1, 1))[:, 1] / N_SPLITS\n",
    "            lr1_oof[val_index, ind] += model.predict_proba(x_val)[:, 1]"
   ]
  },
  {
   "cell_type": "code",
   "execution_count": 12,
   "metadata": {
    "execution": {
     "iopub.execute_input": "2020-10-11T03:17:41.526321Z",
     "iopub.status.busy": "2020-10-11T03:17:41.525545Z",
     "iopub.status.idle": "2020-10-11T03:17:42.439077Z",
     "shell.execute_reply": "2020-10-11T03:17:42.438491Z"
    },
    "papermill": {
     "duration": 0.935441,
     "end_time": "2020-10-11T03:17:42.439182",
     "exception": false,
     "start_time": "2020-10-11T03:17:41.503741",
     "status": "completed"
    },
    "tags": []
   },
   "outputs": [
    {
     "name": "stdout",
     "output_type": "stream",
     "text": [
      "OOF log loss:  0.016353195134826855\n"
     ]
    }
   ],
   "source": [
    "check_lr1 = np.zeros([targets.shape[0], targets.shape[1]-1])\n",
    "check_lr1[cons_train_index,:] = lr1_oof\n",
    "print('OOF log loss: ', log_loss(np.ravel(targets.iloc[:,1:]), np.ravel(check_lr1)))"
   ]
  },
  {
   "cell_type": "markdown",
   "metadata": {
    "papermill": {
     "duration": 0.017028,
     "end_time": "2020-10-11T03:17:42.473760",
     "exception": false,
     "start_time": "2020-10-11T03:17:42.456732",
     "status": "completed"
    },
    "tags": []
   },
   "source": [
    "# submission"
   ]
  },
  {
   "cell_type": "code",
   "execution_count": 13,
   "metadata": {
    "execution": {
     "iopub.execute_input": "2020-10-11T03:17:42.517369Z",
     "iopub.status.busy": "2020-10-11T03:17:42.516703Z",
     "iopub.status.idle": "2020-10-11T03:17:44.302898Z",
     "shell.execute_reply": "2020-10-11T03:17:44.302465Z"
    },
    "papermill": {
     "duration": 1.811269,
     "end_time": "2020-10-11T03:17:44.302987",
     "exception": false,
     "start_time": "2020-10-11T03:17:42.491718",
     "status": "completed"
    },
    "tags": []
   },
   "outputs": [],
   "source": [
    "sub_lr = pd.read_csv(DATA_DIR + 'sample_submission.csv')\n",
    "sub_lr.loc[cons_test_index,target_feats] = lr1_test\n",
    "sub_lr.loc[noncons_test_index,target_feats] = 0\n",
    "sub_lr.to_csv('submission.csv', index=False)"
   ]
  },
  {
   "cell_type": "code",
   "execution_count": null,
   "metadata": {
    "papermill": {
     "duration": 0.012141,
     "end_time": "2020-10-11T03:17:44.327759",
     "exception": false,
     "start_time": "2020-10-11T03:17:44.315618",
     "status": "completed"
    },
    "tags": []
   },
   "outputs": [],
   "source": []
  }
 ],
 "metadata": {
  "kernelspec": {
   "display_name": "Python 3",
   "language": "python",
   "name": "python3"
  },
  "language_info": {
   "codemirror_mode": {
    "name": "ipython",
    "version": 3
   },
   "file_extension": ".py",
   "mimetype": "text/x-python",
   "name": "python",
   "nbconvert_exporter": "python",
   "pygments_lexer": "ipython3",
   "version": "3.7.6"
  },
  "papermill": {
   "duration": 417.289862,
   "end_time": "2020-10-11T03:17:44.446650",
   "environment_variables": {},
   "exception": null,
   "input_path": "__notebook__.ipynb",
   "output_path": "__notebook__.ipynb",
   "parameters": {},
   "start_time": "2020-10-11T03:10:47.156788",
   "version": "2.1.0"
  },
  "widgets": {
   "application/vnd.jupyter.widget-state+json": {
    "state": {
     "62df0c5a11d44cac9fcd6d6ccb8c17be": {
      "model_module": "@jupyter-widgets/controls",
      "model_module_version": "1.5.0",
      "model_name": "HTMLModel",
      "state": {
       "_dom_classes": [],
       "_model_module": "@jupyter-widgets/controls",
       "_model_module_version": "1.5.0",
       "_model_name": "HTMLModel",
       "_view_count": null,
       "_view_module": "@jupyter-widgets/controls",
       "_view_module_version": "1.5.0",
       "_view_name": "HTMLView",
       "description": "",
       "description_tooltip": null,
       "layout": "IPY_MODEL_684f9a72d82940c7aa8062ade96a5333",
       "placeholder": "​",
       "style": "IPY_MODEL_95a026a82dad4a628cbcc0311ffc5434",
       "value": " 206/206 [00:47&lt;00:00,  4.32it/s]"
      }
     },
     "684f9a72d82940c7aa8062ade96a5333": {
      "model_module": "@jupyter-widgets/base",
      "model_module_version": "1.2.0",
      "model_name": "LayoutModel",
      "state": {
       "_model_module": "@jupyter-widgets/base",
       "_model_module_version": "1.2.0",
       "_model_name": "LayoutModel",
       "_view_count": null,
       "_view_module": "@jupyter-widgets/base",
       "_view_module_version": "1.2.0",
       "_view_name": "LayoutView",
       "align_content": null,
       "align_items": null,
       "align_self": null,
       "border": null,
       "bottom": null,
       "display": null,
       "flex": null,
       "flex_flow": null,
       "grid_area": null,
       "grid_auto_columns": null,
       "grid_auto_flow": null,
       "grid_auto_rows": null,
       "grid_column": null,
       "grid_gap": null,
       "grid_row": null,
       "grid_template_areas": null,
       "grid_template_columns": null,
       "grid_template_rows": null,
       "height": null,
       "justify_content": null,
       "justify_items": null,
       "left": null,
       "margin": null,
       "max_height": null,
       "max_width": null,
       "min_height": null,
       "min_width": null,
       "object_fit": null,
       "object_position": null,
       "order": null,
       "overflow": null,
       "overflow_x": null,
       "overflow_y": null,
       "padding": null,
       "right": null,
       "top": null,
       "visibility": null,
       "width": null
      }
     },
     "95a026a82dad4a628cbcc0311ffc5434": {
      "model_module": "@jupyter-widgets/controls",
      "model_module_version": "1.5.0",
      "model_name": "DescriptionStyleModel",
      "state": {
       "_model_module": "@jupyter-widgets/controls",
       "_model_module_version": "1.5.0",
       "_model_name": "DescriptionStyleModel",
       "_view_count": null,
       "_view_module": "@jupyter-widgets/base",
       "_view_module_version": "1.2.0",
       "_view_name": "StyleView",
       "description_width": ""
      }
     },
     "9da0eda14c944953997ff4a45246ec0d": {
      "model_module": "@jupyter-widgets/controls",
      "model_module_version": "1.5.0",
      "model_name": "FloatProgressModel",
      "state": {
       "_dom_classes": [],
       "_model_module": "@jupyter-widgets/controls",
       "_model_module_version": "1.5.0",
       "_model_name": "FloatProgressModel",
       "_view_count": null,
       "_view_module": "@jupyter-widgets/controls",
       "_view_module_version": "1.5.0",
       "_view_name": "ProgressView",
       "bar_style": "success",
       "description": "100%",
       "description_tooltip": null,
       "layout": "IPY_MODEL_bbc6b162994e4506878fa17dbc449029",
       "max": 206.0,
       "min": 0.0,
       "orientation": "horizontal",
       "style": "IPY_MODEL_c358d518481f4defa50b6b2b061a0f49",
       "value": 206.0
      }
     },
     "bbc6b162994e4506878fa17dbc449029": {
      "model_module": "@jupyter-widgets/base",
      "model_module_version": "1.2.0",
      "model_name": "LayoutModel",
      "state": {
       "_model_module": "@jupyter-widgets/base",
       "_model_module_version": "1.2.0",
       "_model_name": "LayoutModel",
       "_view_count": null,
       "_view_module": "@jupyter-widgets/base",
       "_view_module_version": "1.2.0",
       "_view_name": "LayoutView",
       "align_content": null,
       "align_items": null,
       "align_self": null,
       "border": null,
       "bottom": null,
       "display": null,
       "flex": null,
       "flex_flow": null,
       "grid_area": null,
       "grid_auto_columns": null,
       "grid_auto_flow": null,
       "grid_auto_rows": null,
       "grid_column": null,
       "grid_gap": null,
       "grid_row": null,
       "grid_template_areas": null,
       "grid_template_columns": null,
       "grid_template_rows": null,
       "height": null,
       "justify_content": null,
       "justify_items": null,
       "left": null,
       "margin": null,
       "max_height": null,
       "max_width": null,
       "min_height": null,
       "min_width": null,
       "object_fit": null,
       "object_position": null,
       "order": null,
       "overflow": null,
       "overflow_x": null,
       "overflow_y": null,
       "padding": null,
       "right": null,
       "top": null,
       "visibility": null,
       "width": null
      }
     },
     "c358d518481f4defa50b6b2b061a0f49": {
      "model_module": "@jupyter-widgets/controls",
      "model_module_version": "1.5.0",
      "model_name": "ProgressStyleModel",
      "state": {
       "_model_module": "@jupyter-widgets/controls",
       "_model_module_version": "1.5.0",
       "_model_name": "ProgressStyleModel",
       "_view_count": null,
       "_view_module": "@jupyter-widgets/base",
       "_view_module_version": "1.2.0",
       "_view_name": "StyleView",
       "bar_color": null,
       "description_width": "initial"
      }
     },
     "db695855a45947199af805d115a6d566": {
      "model_module": "@jupyter-widgets/base",
      "model_module_version": "1.2.0",
      "model_name": "LayoutModel",
      "state": {
       "_model_module": "@jupyter-widgets/base",
       "_model_module_version": "1.2.0",
       "_model_name": "LayoutModel",
       "_view_count": null,
       "_view_module": "@jupyter-widgets/base",
       "_view_module_version": "1.2.0",
       "_view_name": "LayoutView",
       "align_content": null,
       "align_items": null,
       "align_self": null,
       "border": null,
       "bottom": null,
       "display": null,
       "flex": null,
       "flex_flow": null,
       "grid_area": null,
       "grid_auto_columns": null,
       "grid_auto_flow": null,
       "grid_auto_rows": null,
       "grid_column": null,
       "grid_gap": null,
       "grid_row": null,
       "grid_template_areas": null,
       "grid_template_columns": null,
       "grid_template_rows": null,
       "height": null,
       "justify_content": null,
       "justify_items": null,
       "left": null,
       "margin": null,
       "max_height": null,
       "max_width": null,
       "min_height": null,
       "min_width": null,
       "object_fit": null,
       "object_position": null,
       "order": null,
       "overflow": null,
       "overflow_x": null,
       "overflow_y": null,
       "padding": null,
       "right": null,
       "top": null,
       "visibility": null,
       "width": null
      }
     },
     "f582e99f1e7e4848a7a32611c66dfce8": {
      "model_module": "@jupyter-widgets/controls",
      "model_module_version": "1.5.0",
      "model_name": "HBoxModel",
      "state": {
       "_dom_classes": [],
       "_model_module": "@jupyter-widgets/controls",
       "_model_module_version": "1.5.0",
       "_model_name": "HBoxModel",
       "_view_count": null,
       "_view_module": "@jupyter-widgets/controls",
       "_view_module_version": "1.5.0",
       "_view_name": "HBoxView",
       "box_style": "",
       "children": [
        "IPY_MODEL_9da0eda14c944953997ff4a45246ec0d",
        "IPY_MODEL_62df0c5a11d44cac9fcd6d6ccb8c17be"
       ],
       "layout": "IPY_MODEL_db695855a45947199af805d115a6d566"
      }
     }
    },
    "version_major": 2,
    "version_minor": 0
   }
  }
 },
 "nbformat": 4,
 "nbformat_minor": 4
}
