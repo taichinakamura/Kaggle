{
 "cells": [
  {
   "cell_type": "markdown",
   "metadata": {
    "papermill": {
     "duration": 0.026773,
     "end_time": "2020-10-12T13:39:56.948186",
     "exception": false,
     "start_time": "2020-10-12T13:39:56.921413",
     "status": "completed"
    },
    "tags": []
   },
   "source": [
    "- add keras\n",
    "- add new feature engineering\n",
    "- try robustscaler in pytoch as well as keras\n",
    "- modify mistake"
   ]
  },
  {
   "cell_type": "code",
   "execution_count": 1,
   "metadata": {
    "execution": {
     "iopub.execute_input": "2020-10-12T13:39:57.017636Z",
     "iopub.status.busy": "2020-10-12T13:39:57.016798Z",
     "iopub.status.idle": "2020-10-12T13:41:07.842266Z",
     "shell.execute_reply": "2020-10-12T13:41:07.841610Z"
    },
    "papermill": {
     "duration": 70.86648,
     "end_time": "2020-10-12T13:41:07.842424",
     "exception": false,
     "start_time": "2020-10-12T13:39:56.975944",
     "status": "completed"
    },
    "tags": []
   },
   "outputs": [],
   "source": [
    "import sys\n",
    "!cp ../input/rapids/rapids.0.15.0 /opt/conda/envs/rapids.tar.gz\n",
    "!cd /opt/conda/envs/ && tar -xzvf rapids.tar.gz > /dev/null\n",
    "sys.path = [\"/opt/conda/envs/rapids/lib/python3.7/site-packages\"] + sys.path\n",
    "sys.path = [\"/opt/conda/envs/rapids/lib/python3.7\"] + sys.path\n",
    "sys.path = [\"/opt/conda/envs/rapids/lib\"] + sys.path\n",
    "!cp /opt/conda/envs/rapids/lib/libxgboost.so /opt/conda/lib/"
   ]
  },
  {
   "cell_type": "code",
   "execution_count": 2,
   "metadata": {
    "_cell_guid": "b1076dfc-b9ad-4769-8c92-a6c4dae69d19",
    "_uuid": "8f2839f25d086af736a60e9eeb907d3b93b6e0e5",
    "execution": {
     "iopub.execute_input": "2020-10-12T13:41:39.753721Z",
     "iopub.status.busy": "2020-10-12T13:41:39.752742Z",
     "iopub.status.idle": "2020-10-12T13:41:49.616783Z",
     "shell.execute_reply": "2020-10-12T13:41:49.615687Z"
    },
    "papermill": {
     "duration": 9.915193,
     "end_time": "2020-10-12T13:41:49.616902",
     "exception": false,
     "start_time": "2020-10-12T13:41:39.701709",
     "status": "completed"
    },
    "tags": []
   },
   "outputs": [],
   "source": [
    "import os\n",
    "import warnings\n",
    "import numpy as np\n",
    "import pandas as pd \n",
    "import matplotlib.pyplot as plt\n",
    "from xgboost import XGBClassifier\n",
    "from sklearn import preprocessing\n",
    "from sklearn.metrics import log_loss\n",
    "from sklearn.decomposition import PCA\n",
    "from sklearn.pipeline import Pipeline\n",
    "from tqdm import tqdm_notebook as tqdm\n",
    "from category_encoders import CountEncoder\n",
    "from sklearn.multioutput import MultiOutputClassifier\n",
    "from sklearn.model_selection import KFold, StratifiedKFold\n",
    "sys.path.append('../input/multilabelstraifier/')\n",
    "from ml_stratifiers import MultilabelStratifiedKFold\n",
    "warnings.filterwarnings('ignore')\n",
    "\n",
    "import time\n",
    "import torch\n",
    "import random\n",
    "import torch.nn as nn\n",
    "import torch.optim as optim\n",
    "import torch.nn.functional as F\n",
    "import tensorflow as tf\n",
    "\n",
    "from sklearn.kernel_approximation import Nystroem\n",
    "from sklearn.isotonic import IsotonicRegression\n",
    "from sklearn.linear_model import LogisticRegression\n",
    "from sklearn.kernel_ridge import KernelRidge\n",
    "from cuml.svm import SVC, SVR\n",
    "\n",
    "from tensorflow.keras import layers,regularizers,Sequential,backend,callbacks,optimizers,metrics,losses"
   ]
  },
  {
   "cell_type": "markdown",
   "metadata": {
    "papermill": {
     "duration": 0.025035,
     "end_time": "2020-10-12T13:41:49.665932",
     "exception": false,
     "start_time": "2020-10-12T13:41:49.640897",
     "status": "completed"
    },
    "tags": []
   },
   "source": [
    "# Preprocess & Feature engineering"
   ]
  },
  {
   "cell_type": "code",
   "execution_count": 3,
   "metadata": {
    "_cell_guid": "79c7e3d0-c299-4dcb-8224-4455121ee9b0",
    "_uuid": "d629ff2d2480ee46fbb7e2d37f6b5fab8052498a",
    "execution": {
     "iopub.execute_input": "2020-10-12T13:41:49.728637Z",
     "iopub.status.busy": "2020-10-12T13:41:49.727624Z",
     "iopub.status.idle": "2020-10-12T13:41:55.150460Z",
     "shell.execute_reply": "2020-10-12T13:41:55.149271Z"
    },
    "papermill": {
     "duration": 5.460667,
     "end_time": "2020-10-12T13:41:55.150584",
     "exception": false,
     "start_time": "2020-10-12T13:41:49.689917",
     "status": "completed"
    },
    "tags": []
   },
   "outputs": [],
   "source": [
    "DATA_DIR = '/kaggle/input/lish-moa/'\n",
    "train = pd.read_csv(DATA_DIR + 'train_features.csv')\n",
    "targets = pd.read_csv(DATA_DIR + 'train_targets_scored.csv')\n",
    "test = pd.read_csv(DATA_DIR + 'test_features.csv')\n",
    "#non_targets = pd.read_csv(DATA_DIR + 'train_targets_nonscored.csv')"
   ]
  },
  {
   "cell_type": "code",
   "execution_count": 4,
   "metadata": {
    "execution": {
     "iopub.execute_input": "2020-10-12T13:41:55.205182Z",
     "iopub.status.busy": "2020-10-12T13:41:55.204447Z",
     "iopub.status.idle": "2020-10-12T13:41:55.207993Z",
     "shell.execute_reply": "2020-10-12T13:41:55.207487Z"
    },
    "papermill": {
     "duration": 0.033963,
     "end_time": "2020-10-12T13:41:55.208096",
     "exception": false,
     "start_time": "2020-10-12T13:41:55.174133",
     "status": "completed"
    },
    "tags": []
   },
   "outputs": [],
   "source": [
    "target_feats = [ i for i in targets.columns if i != \"sig_id\"]\n",
    "g_feats = [i for i in train.columns if \"g-\" in i]\n",
    "c_feats = [i for i in train.columns if \"c-\" in i]"
   ]
  },
  {
   "cell_type": "code",
   "execution_count": 5,
   "metadata": {
    "execution": {
     "iopub.execute_input": "2020-10-12T13:41:55.274392Z",
     "iopub.status.busy": "2020-10-12T13:41:55.272725Z",
     "iopub.status.idle": "2020-10-12T13:41:55.435522Z",
     "shell.execute_reply": "2020-10-12T13:41:55.434856Z"
    },
    "papermill": {
     "duration": 0.202937,
     "end_time": "2020-10-12T13:41:55.435645",
     "exception": false,
     "start_time": "2020-10-12T13:41:55.232708",
     "status": "completed"
    },
    "tags": []
   },
   "outputs": [],
   "source": [
    "noncons_train_index = train[train.cp_type==\"ctl_vehicle\"].index\n",
    "cons_train_index = train[train.cp_type!=\"ctl_vehicle\"].index\n",
    "noncons_test_index = test[test.cp_type==\"ctl_vehicle\"].index\n",
    "cons_test_index = test[test.cp_type!=\"ctl_vehicle\"].index\n",
    "\n",
    "test = test[test.index.isin(cons_test_index)].reset_index(drop=True)"
   ]
  },
  {
   "cell_type": "code",
   "execution_count": 6,
   "metadata": {
    "execution": {
     "iopub.execute_input": "2020-10-12T13:41:55.498562Z",
     "iopub.status.busy": "2020-10-12T13:41:55.496709Z",
     "iopub.status.idle": "2020-10-12T13:41:55.516232Z",
     "shell.execute_reply": "2020-10-12T13:41:55.515747Z"
    },
    "papermill": {
     "duration": 0.056001,
     "end_time": "2020-10-12T13:41:55.516335",
     "exception": false,
     "start_time": "2020-10-12T13:41:55.460334",
     "status": "completed"
    },
    "tags": []
   },
   "outputs": [],
   "source": [
    "categoricals = [\"cp_dose\"]\n",
    "\n",
    "def encoding(tr, te):\n",
    "    for f in categoricals:\n",
    "        lbl = preprocessing.LabelEncoder()\n",
    "        lbl.fit(list(tr[f]))\n",
    "        tr[f] = lbl.transform(list(tr[f]))\n",
    "        te[f] = lbl.transform(list(te[f])) \n",
    "        \n",
    "    return tr, te\n",
    "\n",
    "train, test = encoding(train, test)"
   ]
  },
  {
   "cell_type": "code",
   "execution_count": 7,
   "metadata": {
    "execution": {
     "iopub.execute_input": "2020-10-12T13:41:55.583398Z",
     "iopub.status.busy": "2020-10-12T13:41:55.582126Z",
     "iopub.status.idle": "2020-10-12T13:42:01.342850Z",
     "shell.execute_reply": "2020-10-12T13:42:01.341904Z"
    },
    "papermill": {
     "duration": 5.801845,
     "end_time": "2020-10-12T13:42:01.342985",
     "exception": false,
     "start_time": "2020-10-12T13:41:55.541140",
     "status": "completed"
    },
    "tags": []
   },
   "outputs": [
    {
     "name": "stdout",
     "output_type": "stream",
     "text": [
      "(23814, 874) (3624, 874)\n",
      "(23814, 889) (3624, 889)\n"
     ]
    }
   ],
   "source": [
    "def fe_new(df, remove_features):\n",
    "    tmp = df.copy()\n",
    "    df['g_sum'] = df[g_feats].sum(axis = 1)\n",
    "    df['g_mean'] = df[g_feats].mean(axis = 1)\n",
    "    df['g_std'] = df[g_feats].std(axis = 1)\n",
    "    df['g_kurt'] = df[g_feats].kurtosis(axis = 1)\n",
    "    df['g_skew'] = df[g_feats].skew(axis = 1)\n",
    "    df['c_sum'] = df[c_feats].sum(axis = 1)\n",
    "    df['c_mean'] = df[c_feats].mean(axis = 1)\n",
    "    df['c_std'] = df[c_feats].std(axis = 1)\n",
    "    df['c_kurt'] = df[c_feats].kurtosis(axis = 1)\n",
    "    df['c_skew'] = df[c_feats].skew(axis = 1)\n",
    "    df['gc_sum'] = df[c_feats + g_feats].sum(axis = 1)\n",
    "    df['gc_mean'] = df[c_feats + g_feats].mean(axis = 1)\n",
    "    df['gc_std'] = df[c_feats + g_feats].std(axis = 1)\n",
    "    df['gc_kurt'] = df[c_feats + g_feats].kurtosis(axis = 1)\n",
    "    df['gc_skew'] = df[c_feats + g_feats].skew(axis = 1)\n",
    "    tmp.drop(remove_features, axis=1, inplace=True)\n",
    "    return tmp\n",
    "\n",
    "def fe_simple(df, remove_features):\n",
    "    tmp = df.copy()\n",
    "    tmp.drop(remove_features, axis=1, inplace=True)\n",
    "    return tmp\n",
    "\n",
    "remove_features = [\"cp_type\" , \"sig_id\"]\n",
    "        \n",
    "train_pl = fe_new(train, remove_features)\n",
    "test_pl = fe_new(test, remove_features)\n",
    "\n",
    "train = fe_simple(train, remove_features)\n",
    "test = fe_simple(test, remove_features)\n",
    "    \n",
    "print(train_pl.shape, test_pl.shape)\n",
    "print(train.shape, test.shape)"
   ]
  },
  {
   "cell_type": "markdown",
   "metadata": {
    "papermill": {
     "duration": 0.024199,
     "end_time": "2020-10-12T13:42:01.392007",
     "exception": false,
     "start_time": "2020-10-12T13:42:01.367808",
     "status": "completed"
    },
    "tags": []
   },
   "source": [
    "# data preparation"
   ]
  },
  {
   "cell_type": "code",
   "execution_count": 8,
   "metadata": {
    "execution": {
     "iopub.execute_input": "2020-10-12T13:42:01.470101Z",
     "iopub.status.busy": "2020-10-12T13:42:01.468499Z",
     "iopub.status.idle": "2020-10-12T13:42:02.976331Z",
     "shell.execute_reply": "2020-10-12T13:42:02.976825Z"
    },
    "papermill": {
     "duration": 1.560891,
     "end_time": "2020-10-12T13:42:02.976963",
     "exception": false,
     "start_time": "2020-10-12T13:42:01.416072",
     "status": "completed"
    },
    "tags": []
   },
   "outputs": [
    {
     "ename": "AttributeError",
     "evalue": "'numpy.ndarray' object has no attribute 'index'",
     "output_type": "error",
     "traceback": [
      "\u001b[0;31m---------------------------------------------------------------------------\u001b[0m",
      "\u001b[0;31mAttributeError\u001b[0m                            Traceback (most recent call last)",
      "\u001b[0;32m<ipython-input-8-cd5a6da8315a>\u001b[0m in \u001b[0;36m<module>\u001b[0;34m\u001b[0m\n\u001b[1;32m     22\u001b[0m \u001b[0mpy_test\u001b[0m \u001b[0;34m=\u001b[0m \u001b[0mtest_pl\u001b[0m\u001b[0;34m.\u001b[0m\u001b[0mcopy\u001b[0m\u001b[0;34m(\u001b[0m\u001b[0;34m)\u001b[0m\u001b[0;34m.\u001b[0m\u001b[0mto_numpy\u001b[0m\u001b[0;34m(\u001b[0m\u001b[0;34m)\u001b[0m\u001b[0;34m\u001b[0m\u001b[0;34m\u001b[0m\u001b[0m\n\u001b[1;32m     23\u001b[0m \u001b[0;34m\u001b[0m\u001b[0m\n\u001b[0;32m---> 24\u001b[0;31m \u001b[0mpy_train\u001b[0m \u001b[0;34m=\u001b[0m \u001b[0mpy_train\u001b[0m\u001b[0;34m[\u001b[0m\u001b[0mpy_train\u001b[0m\u001b[0;34m.\u001b[0m\u001b[0mindex\u001b[0m\u001b[0;34m.\u001b[0m\u001b[0misin\u001b[0m\u001b[0;34m(\u001b[0m\u001b[0mcons_train_index\u001b[0m\u001b[0;34m)\u001b[0m\u001b[0;34m]\u001b[0m\u001b[0;34m.\u001b[0m\u001b[0mcopy\u001b[0m\u001b[0;34m(\u001b[0m\u001b[0;34m)\u001b[0m\u001b[0;34m.\u001b[0m\u001b[0mreset_index\u001b[0m\u001b[0;34m(\u001b[0m\u001b[0mdrop\u001b[0m\u001b[0;34m=\u001b[0m\u001b[0;32mTrue\u001b[0m\u001b[0;34m)\u001b[0m\u001b[0;34m.\u001b[0m\u001b[0mto_numpy\u001b[0m\u001b[0;34m(\u001b[0m\u001b[0;34m)\u001b[0m\u001b[0;34m\u001b[0m\u001b[0;34m\u001b[0m\u001b[0m\n\u001b[0m\u001b[1;32m     25\u001b[0m \u001b[0;34m\u001b[0m\u001b[0m\n\u001b[1;32m     26\u001b[0m \u001b[0mss\u001b[0m \u001b[0;34m=\u001b[0m \u001b[0mpreprocessing\u001b[0m\u001b[0;34m.\u001b[0m\u001b[0mRobustScaler\u001b[0m\u001b[0;34m(\u001b[0m\u001b[0;34m)\u001b[0m\u001b[0;34m\u001b[0m\u001b[0;34m\u001b[0m\u001b[0m\n",
      "\u001b[0;31mAttributeError\u001b[0m: 'numpy.ndarray' object has no attribute 'index'"
     ]
    }
   ],
   "source": [
    "# common ------------------\n",
    "fn_targets = targets.drop(\"sig_id\", axis=1).copy()\n",
    "fn_targets = fn_targets[fn_targets.index.isin(cons_train_index)].copy().reset_index(drop=True).to_numpy()\n",
    "\n",
    "# xgb --------------------------\n",
    "X = train_pl.copy()\n",
    "y = targets.drop(\"sig_id\", axis=1).copy()\n",
    "X_test = test_pl.copy()\n",
    "\n",
    "# logistic regression and svm-----------------------\n",
    "fn_train = train.copy() \n",
    "fn_test = test.copy() \n",
    "\n",
    "fn_train = fn_train[fn_train.index.isin(cons_train_index)].copy().reset_index(drop=True).to_numpy()\n",
    "\n",
    "ss = preprocessing.StandardScaler()\n",
    "fn_train= ss.fit_transform(fn_train)\n",
    "fn_test = ss.transform(fn_test)\n",
    "\n",
    "# pytorch ----------------------------------\n",
    "py_train = train_pl.copy().to_numpy()\n",
    "py_test = test_pl.copy().to_numpy()\n",
    "\n",
    "py_train = py_train[py_train.index.isin(cons_train_index)].copy().reset_index(drop=True).to_numpy()\n",
    "\n",
    "ss = preprocessing.RobustScaler()\n",
    "py_train= ss.fit_transform(py_train)\n",
    "py_test = ss.transform(py_test)\n",
    "\n",
    "# keras ----------------------------------\n",
    "kr_train = train_pl.copy().to_numpy()\n",
    "kr_test = test_pl.copy().to_numpy()\n",
    "\n",
    "kr_train = kr_train[kr_train.index.isin(cons_train_index)].copy().reset_index(drop=True).to_numpy()\n",
    "\n",
    "ss = preprocessing.RobustScaler()\n",
    "kr_train= ss.fit_transform(kr_train)\n",
    "kr_test = ss.transform(kr_test)"
   ]
  },
  {
   "cell_type": "markdown",
   "metadata": {
    "papermill": {
     "duration": 0.025033,
     "end_time": "2020-10-12T13:42:03.027223",
     "exception": false,
     "start_time": "2020-10-12T13:42:03.002190",
     "status": "completed"
    },
    "tags": []
   },
   "source": [
    "# 1st XGB"
   ]
  },
  {
   "cell_type": "code",
   "execution_count": 9,
   "metadata": {
    "execution": {
     "iopub.execute_input": "2020-10-12T13:42:03.086867Z",
     "iopub.status.busy": "2020-10-12T13:42:03.086045Z",
     "iopub.status.idle": "2020-10-12T13:42:03.119865Z",
     "shell.execute_reply": "2020-10-12T13:42:03.120872Z"
    },
    "papermill": {
     "duration": 0.068258,
     "end_time": "2020-10-12T13:42:03.121001",
     "exception": false,
     "start_time": "2020-10-12T13:42:03.052743",
     "status": "completed"
    },
    "tags": []
   },
   "outputs": [
    {
     "data": {
      "text/plain": [
       "Pipeline(steps=[('classify',\n",
       "                 MultiOutputClassifier(estimator=XGBClassifier(base_score=None,\n",
       "                                                               booster=None,\n",
       "                                                               colsample_bylevel=None,\n",
       "                                                               colsample_bynode=None,\n",
       "                                                               colsample_bytree=None,\n",
       "                                                               gamma=3.6975,\n",
       "                                                               gpu_id=None,\n",
       "                                                               importance_type='gain',\n",
       "                                                               interaction_constraints=None,\n",
       "                                                               learning_rate=0.0803,\n",
       "                                                               max_delta_step=2.0706,\n",
       "                                                               max_depth=10,\n",
       "                                                               min_child_weight=31.58,\n",
       "                                                               missing=nan,\n",
       "                                                               monotone_constraints=None,\n",
       "                                                               n_estimators=166,\n",
       "                                                               n_jobs=None,\n",
       "                                                               num_parallel_tree=None,\n",
       "                                                               random_state=None,\n",
       "                                                               reg_alpha=None,\n",
       "                                                               reg_lambda=None,\n",
       "                                                               scale_pos_weight=None,\n",
       "                                                               subsample=None,\n",
       "                                                               tree_method='gpu_hist',\n",
       "                                                               validate_parameters=None,\n",
       "                                                               verbosity=None)))])"
      ]
     },
     "execution_count": 9,
     "metadata": {},
     "output_type": "execute_result"
    }
   ],
   "source": [
    "classifier = MultiOutputClassifier(XGBClassifier(tree_method='gpu_hist'))\n",
    "\n",
    "clf = Pipeline([('classify', classifier)\n",
    "               ])\n",
    "\n",
    "params = {'classify__estimator__gamma': 3.6975,\n",
    "          'classify__estimator__learning_rate': 0.0803,\n",
    "          'classify__estimator__max_delta_step': 2.0706,\n",
    "          'classify__estimator__max_depth': 10,\n",
    "          'classify__estimator__min_child_weight': 31.5800,\n",
    "          'classify__estimator__n_estimators': 166,\n",
    "         }\n",
    "\n",
    "clf.set_params(**params)"
   ]
  },
  {
   "cell_type": "code",
   "execution_count": 10,
   "metadata": {
    "execution": {
     "iopub.execute_input": "2020-10-12T13:42:03.191035Z",
     "iopub.status.busy": "2020-10-12T13:42:03.189114Z",
     "iopub.status.idle": "2020-10-12T13:42:03.191781Z",
     "shell.execute_reply": "2020-10-12T13:42:03.192303Z"
    },
    "papermill": {
     "duration": 0.045091,
     "end_time": "2020-10-12T13:42:03.192444",
     "exception": false,
     "start_time": "2020-10-12T13:42:03.147353",
     "status": "completed"
    },
    "tags": []
   },
   "outputs": [],
   "source": [
    "def modelling_xgb(X, y, X_test, seed):\n",
    "    NFOLDS=5\n",
    "    oof_preds = np.zeros(y.shape)\n",
    "    test_preds = np.zeros((X_test.shape[0], y.shape[1]))\n",
    "    oof_losses = []\n",
    "    mskf = MultilabelStratifiedKFold(n_splits=NFOLDS, random_state=seed, shuffle=True)\n",
    "    for fn, (trn_idx, val_idx) in enumerate(mskf.split(X, y)):\n",
    "        print('Starting fold: ', fn)\n",
    "        X_train, X_val = X.iloc[trn_idx,:], X.iloc[val_idx,:].to_numpy()\n",
    "        y_train, y_val = y.iloc[trn_idx], y.iloc[val_idx].to_numpy()\n",
    "    \n",
    "        X_train = X_train[X_train.index.isin(cons_train_index)].to_numpy()\n",
    "        y_train = y_train[y_train.index.isin(cons_train_index)].to_numpy()\n",
    "    \n",
    "        clf.fit(X_train, y_train)\n",
    "        val_preds = clf.predict_proba(X_val) # list of preds per class\n",
    "        val_preds = np.array(val_preds)[:,:,1].T # take the positive class\n",
    "        oof_preds[val_idx] = val_preds\n",
    "    \n",
    "        loss = log_loss(np.ravel(y_val), np.ravel(val_preds))\n",
    "        print(loss)\n",
    "        oof_losses.append(loss)\n",
    "        preds = clf.predict_proba(X_test)\n",
    "        preds = np.array(preds)[:,:,1].T # take the positive class\n",
    "        test_preds += preds / NFOLDS\n",
    "    \n",
    "    print(oof_losses)\n",
    "    print('Mean OOF loss across folds', np.mean(oof_losses))\n",
    "    print('STD OOF loss across folds', np.std(oof_losses))\n",
    "    return oof_preds, test_preds"
   ]
  },
  {
   "cell_type": "code",
   "execution_count": 11,
   "metadata": {
    "execution": {
     "iopub.execute_input": "2020-10-12T13:42:03.251901Z",
     "iopub.status.busy": "2020-10-12T13:42:03.250918Z",
     "iopub.status.idle": "2020-10-12T14:05:35.590390Z",
     "shell.execute_reply": "2020-10-12T14:05:35.589413Z"
    },
    "papermill": {
     "duration": 1412.372834,
     "end_time": "2020-10-12T14:05:35.590508",
     "exception": false,
     "start_time": "2020-10-12T13:42:03.217674",
     "status": "completed"
    },
    "tags": []
   },
   "outputs": [
    {
     "name": "stdout",
     "output_type": "stream",
     "text": [
      "Starting fold:  0\n",
      "0.01675038026010765\n",
      "Starting fold:  1\n",
      "0.016904338301183066\n",
      "Starting fold:  2\n",
      "0.01676135300270081\n",
      "Starting fold:  3\n",
      "0.01649236894978572\n",
      "Starting fold:  4\n",
      "0.016690108255823656\n",
      "[0.01675038026010765, 0.016904338301183066, 0.01676135300270081, 0.01649236894978572, 0.016690108255823656]\n",
      "Mean OOF loss across folds 0.016719709753920182\n",
      "STD OOF loss across folds 0.00013365824366440456\n"
     ]
    }
   ],
   "source": [
    "seeds = [42]#,43,44]\n",
    "xgb1_oof = np.zeros(y.shape)\n",
    "xgb1_test = np.zeros((test.shape[0], y.shape[1]))\n",
    "for seed_ in seeds:\n",
    "    ind_preds, ind_test_preds = modelling_xgb(X, y, X_test, seed_)\n",
    "    xgb1_oof += ind_preds / len(seeds)\n",
    "    xgb1_test += ind_test_preds / len(seeds)"
   ]
  },
  {
   "cell_type": "code",
   "execution_count": 12,
   "metadata": {
    "execution": {
     "iopub.execute_input": "2020-10-12T14:05:35.655776Z",
     "iopub.status.busy": "2020-10-12T14:05:35.654322Z",
     "iopub.status.idle": "2020-10-12T14:05:36.827745Z",
     "shell.execute_reply": "2020-10-12T14:05:36.828252Z"
    },
    "papermill": {
     "duration": 1.208832,
     "end_time": "2020-10-12T14:05:36.828388",
     "exception": false,
     "start_time": "2020-10-12T14:05:35.619556",
     "status": "completed"
    },
    "tags": []
   },
   "outputs": [
    {
     "name": "stdout",
     "output_type": "stream",
     "text": [
      "OOF log loss:  0.016452048150285285\n"
     ]
    }
   ],
   "source": [
    "check_xgb1 = np.zeros([targets.shape[0], targets.shape[1]-1])\n",
    "check_xgb1[:,:] = xgb1_oof\n",
    "check_xgb1[noncons_train_index,:] = 0\n",
    "print('OOF log loss: ', log_loss(np.ravel(y), np.ravel(check_xgb1)))"
   ]
  },
  {
   "cell_type": "code",
   "execution_count": 13,
   "metadata": {
    "execution": {
     "iopub.execute_input": "2020-10-12T14:05:36.893454Z",
     "iopub.status.busy": "2020-10-12T14:05:36.891668Z",
     "iopub.status.idle": "2020-10-12T14:05:36.894099Z",
     "shell.execute_reply": "2020-10-12T14:05:36.894595Z"
    },
    "papermill": {
     "duration": 0.036779,
     "end_time": "2020-10-12T14:05:36.894717",
     "exception": false,
     "start_time": "2020-10-12T14:05:36.857938",
     "status": "completed"
    },
    "tags": []
   },
   "outputs": [],
   "source": [
    "del X_test\n",
    "del X"
   ]
  },
  {
   "cell_type": "markdown",
   "metadata": {
    "papermill": {
     "duration": 0.029169,
     "end_time": "2020-10-12T14:05:36.952965",
     "exception": false,
     "start_time": "2020-10-12T14:05:36.923796",
     "status": "completed"
    },
    "tags": []
   },
   "source": [
    "# 1st keras"
   ]
  },
  {
   "cell_type": "code",
   "execution_count": 14,
   "metadata": {
    "execution": {
     "iopub.execute_input": "2020-10-12T14:05:37.034915Z",
     "iopub.status.busy": "2020-10-12T14:05:37.019111Z",
     "iopub.status.idle": "2020-10-12T14:05:37.075439Z",
     "shell.execute_reply": "2020-10-12T14:05:37.074916Z"
    },
    "papermill": {
     "duration": 0.093275,
     "end_time": "2020-10-12T14:05:37.075535",
     "exception": false,
     "start_time": "2020-10-12T14:05:36.982260",
     "status": "completed"
    },
    "tags": []
   },
   "outputs": [
    {
     "ename": "NameError",
     "evalue": "name 'kr_train' is not defined",
     "output_type": "error",
     "traceback": [
      "\u001b[0;31m---------------------------------------------------------------------------\u001b[0m",
      "\u001b[0;31mNameError\u001b[0m                                 Traceback (most recent call last)",
      "\u001b[0;32m<ipython-input-14-bf270c7f47f2>\u001b[0m in \u001b[0;36m<module>\u001b[0;34m\u001b[0m\n\u001b[1;32m     77\u001b[0m \u001b[0mseeds\u001b[0m \u001b[0;34m=\u001b[0m \u001b[0;34m[\u001b[0m\u001b[0;36m0\u001b[0m\u001b[0;34m,\u001b[0m\u001b[0;36m1\u001b[0m\u001b[0;34m,\u001b[0m\u001b[0;36m2\u001b[0m\u001b[0;34m]\u001b[0m\u001b[0;34m\u001b[0m\u001b[0;34m\u001b[0m\u001b[0m\n\u001b[1;32m     78\u001b[0m \u001b[0;34m\u001b[0m\u001b[0m\n\u001b[0;32m---> 79\u001b[0;31m \u001b[0mkeras1_oof\u001b[0m \u001b[0;34m=\u001b[0m \u001b[0mnp\u001b[0m\u001b[0;34m.\u001b[0m\u001b[0mzeros\u001b[0m\u001b[0;34m(\u001b[0m\u001b[0;34m[\u001b[0m\u001b[0mlen\u001b[0m\u001b[0;34m(\u001b[0m\u001b[0mkr_train\u001b[0m\u001b[0;34m)\u001b[0m\u001b[0;34m,\u001b[0m\u001b[0mfn_targets\u001b[0m\u001b[0;34m.\u001b[0m\u001b[0mshape\u001b[0m\u001b[0;34m[\u001b[0m\u001b[0;36m1\u001b[0m\u001b[0;34m]\u001b[0m\u001b[0;34m]\u001b[0m\u001b[0;34m)\u001b[0m\u001b[0;34m\u001b[0m\u001b[0;34m\u001b[0m\u001b[0m\n\u001b[0m\u001b[1;32m     80\u001b[0m \u001b[0mkeras1_test\u001b[0m \u001b[0;34m=\u001b[0m \u001b[0mnp\u001b[0m\u001b[0;34m.\u001b[0m\u001b[0mzeros\u001b[0m\u001b[0;34m(\u001b[0m\u001b[0;34m[\u001b[0m\u001b[0mlen\u001b[0m\u001b[0;34m(\u001b[0m\u001b[0mkr_test\u001b[0m\u001b[0;34m)\u001b[0m\u001b[0;34m,\u001b[0m\u001b[0mfn_targets\u001b[0m\u001b[0;34m.\u001b[0m\u001b[0mshape\u001b[0m\u001b[0;34m[\u001b[0m\u001b[0;36m1\u001b[0m\u001b[0;34m]\u001b[0m\u001b[0;34m]\u001b[0m\u001b[0;34m)\u001b[0m\u001b[0;34m\u001b[0m\u001b[0;34m\u001b[0m\u001b[0m\n\u001b[1;32m     81\u001b[0m \u001b[0;34m\u001b[0m\u001b[0m\n",
      "\u001b[0;31mNameError\u001b[0m: name 'kr_train' is not defined"
     ]
    }
   ],
   "source": [
    "p_min = 0.001\n",
    "p_max = 0.999\n",
    "\n",
    "n_folds = 5\n",
    "\n",
    "def mean_log_loss(y_true, y_pred):\n",
    "    metrics = []\n",
    "    for i, target in enumerate(target_feats):\n",
    "        metrics.append(log_loss(y_true[:, i], y_pred[:, i].astype(float), labels=[0,1]))\n",
    "    return np.mean(metrics)\n",
    "\n",
    "# Evaluation Metric with clipping and no label smoothing\n",
    "def logloss(y_true, y_pred):\n",
    "    y_pred = tf.clip_by_value(y_pred,p_min,p_max)\n",
    "    return -backend.mean(y_true*backend.log(y_pred) + (1-y_true)*backend.log(1-y_pred))\n",
    "\n",
    "def seed_keras_everything(seed=1234): \n",
    "    random.seed(seed)\n",
    "    os.environ['PYTHONHASHSEED'] = str(seed)\n",
    "    tf.random.set_seed(seed)\n",
    "    np.random.seed(seed)\n",
    "    \n",
    "def create_model(shape):\n",
    "    inp = tf.keras.layers.Input(shape = (shape))\n",
    "    x = tf.keras.layers.BatchNormalization()(inp)\n",
    "    x = tf.keras.layers.Dropout(0.2)(x)\n",
    "    x = tfa.layers.WeightNormalization(tf.keras.layers.Dense(2048, activation = 'relu'))(x)\n",
    "    x = tf.keras.layers.BatchNormalization()(x)\n",
    "    x = tf.keras.layers.Dropout(0.6)(x)\n",
    "    x = tfa.layers.WeightNormalization(tf.keras.layers.Dense(1048, activation = 'relu'))(x)\n",
    "    x = tf.keras.layers.BatchNormalization()(x)\n",
    "    x = tf.keras.layers.Dropout(0.6)(x)\n",
    "    out = tfa.layers.WeightNormalization(tf.keras.layers.Dense(206, activation = 'sigmoid'))(x)\n",
    "    model = tf.keras.models.Model(inputs = inp, outputs = out)\n",
    "    return model\n",
    "\n",
    "def modelling_keras(X_train, y_train, X_test, input_features, output_features, sample_seed):\n",
    "    seed_keras_everything(seed=sample_seed) \n",
    "    oof = np.zeros([len(X_train),y_train.shape[1]])\n",
    "    pred_value = np.zeros([X_test.shape[0], y_train.shape[1]])\n",
    "    \n",
    "    scores = []\n",
    "    mskf=MultilabelStratifiedKFold(n_splits = n_folds, shuffle=True, random_state=2)\n",
    "    for i , (train_index, val_index) in enumerate(mskf.split(X_train, y_train)):   \n",
    "        print(\"Fold \"+str(i+1))\n",
    "        X_train2 = X_train[train_index,:]\n",
    "        y_train2 = y_train[train_index,:]\n",
    "    \n",
    "        X_test2 = X_train[val_index,:]\n",
    "        y_test2 = y_train[val_index,:] \n",
    "        \n",
    "        model = create_model(input_features)\n",
    "        model.compile(optimizer=tf.keras.optimizers.Adam(learning_rate=0.001), \n",
    "                      loss=losses.BinaryCrossentropy(label_smoothing=0.001), metrics=logloss)\n",
    "        reduce_lr = tf.keras.callbacks.ReduceLROnPlateau(monitor='val_logloss', factor=0.1, patience=3, mode='min', min_lr=1E-5)\n",
    "        save_best = tf.keras.callbacks.ModelCheckpoint('./nn_model.h5', save_best_only=True, monitor=\"val_logloss\", verbose=1)\n",
    "        \n",
    "        model.fit(X_train2, y_train2, validation_data=(X_test2, y_test2),batch_size=128, \n",
    "                epochs=40,callbacks=[reduce_lr, save_best]) \n",
    "\n",
    "        model.load_weights('./nn_model.h5')\n",
    "        valid = np.array(model.predict(X_test2))\n",
    "        oof[val_index,:] = valid\n",
    "        pred_value += model.predict(X_test)/ n_folds\n",
    "        print(\"Fold {} log loss: {}\".format(i+1, mean_log_loss(y_train[val_index,:], valid)))\n",
    "        scores.append(mean_log_loss(y_train[val_index,:], valid))\n",
    "        \n",
    "    print(\"Seed {}\".format(seed_))\n",
    "    for i, ele in enumerate(scores):\n",
    "        print(\"Fold {} log loss: {}\".format(i+1, scores[i]))\n",
    "    print(\"Std of log loss: {}\".format(np.std(scores)))\n",
    "        \n",
    "    print(\"Total log loss: {}\".format(mean_log_loss(y_train, oof)))\n",
    "\n",
    "    return oof, pred_value\n",
    "\n",
    "seeds = [0,1,2]\n",
    "\n",
    "keras1_oof = np.zeros([len(kr_train),fn_targets.shape[1]])\n",
    "keras1_test = np.zeros([len(kr_test),fn_targets.shape[1]])\n",
    "\n",
    "for seed_ in seeds:\n",
    "    oof, keras_pred = modelling_keras(kr_train, fn_targets, kr_test, kr_train.shape[1], fn_targets.shape[1], seed_)\n",
    "    keras1_oof += oof / len(seeds)\n",
    "    keras1_test += keras_pred / len(seeds)\n",
    "print(\"Total log loss in targets: {}\".format(mean_log_loss(fn_targets, keras1_oof)))"
   ]
  },
  {
   "cell_type": "code",
   "execution_count": 15,
   "metadata": {
    "execution": {
     "iopub.execute_input": "2020-10-12T14:05:37.159292Z",
     "iopub.status.busy": "2020-10-12T14:05:37.158680Z",
     "iopub.status.idle": "2020-10-12T14:05:37.164135Z",
     "shell.execute_reply": "2020-10-12T14:05:37.163664Z"
    },
    "papermill": {
     "duration": 0.058306,
     "end_time": "2020-10-12T14:05:37.164247",
     "exception": false,
     "start_time": "2020-10-12T14:05:37.105941",
     "status": "completed"
    },
    "tags": []
   },
   "outputs": [
    {
     "ename": "NameError",
     "evalue": "name 'keras1_oof' is not defined",
     "output_type": "error",
     "traceback": [
      "\u001b[0;31m---------------------------------------------------------------------------\u001b[0m",
      "\u001b[0;31mNameError\u001b[0m                                 Traceback (most recent call last)",
      "\u001b[0;32m<ipython-input-15-1dd3742235fd>\u001b[0m in \u001b[0;36m<module>\u001b[0;34m\u001b[0m\n\u001b[1;32m      1\u001b[0m \u001b[0mcheck_keras1\u001b[0m \u001b[0;34m=\u001b[0m \u001b[0mnp\u001b[0m\u001b[0;34m.\u001b[0m\u001b[0mzeros\u001b[0m\u001b[0;34m(\u001b[0m\u001b[0;34m[\u001b[0m\u001b[0mtargets\u001b[0m\u001b[0;34m.\u001b[0m\u001b[0mshape\u001b[0m\u001b[0;34m[\u001b[0m\u001b[0;36m0\u001b[0m\u001b[0;34m]\u001b[0m\u001b[0;34m,\u001b[0m \u001b[0mtargets\u001b[0m\u001b[0;34m.\u001b[0m\u001b[0mshape\u001b[0m\u001b[0;34m[\u001b[0m\u001b[0;36m1\u001b[0m\u001b[0;34m]\u001b[0m\u001b[0;34m-\u001b[0m\u001b[0;36m1\u001b[0m\u001b[0;34m]\u001b[0m\u001b[0;34m)\u001b[0m\u001b[0;34m\u001b[0m\u001b[0;34m\u001b[0m\u001b[0m\n\u001b[0;32m----> 2\u001b[0;31m \u001b[0mcheck_keras1\u001b[0m\u001b[0;34m[\u001b[0m\u001b[0mcons_train_index\u001b[0m\u001b[0;34m,\u001b[0m\u001b[0;34m:\u001b[0m\u001b[0;34m]\u001b[0m \u001b[0;34m=\u001b[0m \u001b[0mnp\u001b[0m\u001b[0;34m.\u001b[0m\u001b[0mclip\u001b[0m\u001b[0;34m(\u001b[0m\u001b[0mkeras1_oof\u001b[0m\u001b[0;34m,\u001b[0m \u001b[0mp_min\u001b[0m\u001b[0;34m,\u001b[0m \u001b[0mp_max\u001b[0m\u001b[0;34m)\u001b[0m\u001b[0;34m\u001b[0m\u001b[0;34m\u001b[0m\u001b[0m\n\u001b[0m\u001b[1;32m      3\u001b[0m \u001b[0mprint\u001b[0m\u001b[0;34m(\u001b[0m\u001b[0;34m'OOF log loss: '\u001b[0m\u001b[0;34m,\u001b[0m \u001b[0mlog_loss\u001b[0m\u001b[0;34m(\u001b[0m\u001b[0mnp\u001b[0m\u001b[0;34m.\u001b[0m\u001b[0mravel\u001b[0m\u001b[0;34m(\u001b[0m\u001b[0my\u001b[0m\u001b[0;34m)\u001b[0m\u001b[0;34m,\u001b[0m \u001b[0mnp\u001b[0m\u001b[0;34m.\u001b[0m\u001b[0mravel\u001b[0m\u001b[0;34m(\u001b[0m\u001b[0mcheck_keras1\u001b[0m\u001b[0;34m)\u001b[0m\u001b[0;34m)\u001b[0m\u001b[0;34m)\u001b[0m\u001b[0;34m\u001b[0m\u001b[0;34m\u001b[0m\u001b[0m\n",
      "\u001b[0;31mNameError\u001b[0m: name 'keras1_oof' is not defined"
     ]
    }
   ],
   "source": [
    "check_keras1 = np.zeros([targets.shape[0], targets.shape[1]-1])\n",
    "check_keras1[cons_train_index,:] = np.clip(keras1_oof, p_min, p_max)\n",
    "print('OOF log loss: ', log_loss(np.ravel(y), np.ravel(check_keras1)))"
   ]
  },
  {
   "cell_type": "markdown",
   "metadata": {
    "papermill": {
     "duration": 0.030171,
     "end_time": "2020-10-12T14:05:37.224954",
     "exception": false,
     "start_time": "2020-10-12T14:05:37.194783",
     "status": "completed"
    },
    "tags": []
   },
   "source": [
    "# 1st NN "
   ]
  },
  {
   "cell_type": "code",
   "execution_count": 16,
   "metadata": {
    "execution": {
     "iopub.execute_input": "2020-10-12T14:05:37.314647Z",
     "iopub.status.busy": "2020-10-12T14:05:37.293839Z",
     "iopub.status.idle": "2020-10-12T14:05:37.339131Z",
     "shell.execute_reply": "2020-10-12T14:05:37.339623Z"
    },
    "papermill": {
     "duration": 0.084285,
     "end_time": "2020-10-12T14:05:37.339742",
     "exception": false,
     "start_time": "2020-10-12T14:05:37.255457",
     "status": "completed"
    },
    "tags": []
   },
   "outputs": [
    {
     "name": "stdout",
     "output_type": "stream",
     "text": [
      "cuda\n"
     ]
    }
   ],
   "source": [
    "device = \"cuda\" if torch.cuda.is_available() else \"cpu\"\n",
    "print(device)\n",
    "batch_size = 128\n",
    "train_epochs = 40\n",
    "n_folds=5\n",
    "\n",
    "def seed_everything(seed=1234): \n",
    "    random.seed(seed)\n",
    "    os.environ['PYTHONHASHSEED'] = str(seed)\n",
    "    tf.random.set_seed(seed)\n",
    "    np.random.seed(seed)\n",
    "    torch.manual_seed(seed)\n",
    "    torch.cuda.manual_seed(seed)\n",
    "    torch.backends.cudnn.deterministic = True\n",
    "    \n",
    "class MoaModel(nn.Module):\n",
    "    def __init__(self, num_columns, last_columns_num):\n",
    "        super(MoaModel, self).__init__()\n",
    "        self.batch_norm1 = nn.BatchNorm1d(num_columns)\n",
    "        self.dropout1 = nn.Dropout(0.2)\n",
    "        self.dense1 = nn.utils.weight_norm(nn.Linear(num_columns, 2048))\n",
    "        \n",
    "        self.batch_norm2 = nn.BatchNorm1d(2048)\n",
    "        self.dropout2 = nn.Dropout(0.6)\n",
    "        self.dense2 = nn.utils.weight_norm(nn.Linear(2048, 1048))\n",
    "        \n",
    "        self.batch_norm3 = nn.BatchNorm1d(1048)\n",
    "        self.dropout3 = nn.Dropout(0.6)\n",
    "        self.dense3 = nn.utils.weight_norm(nn.Linear(1048, last_columns_num))\n",
    "        \n",
    "    def forward(self, x):\n",
    "        x = self.batch_norm1(x)\n",
    "        x = self.dropout1(x)\n",
    "        x = F.relu(self.dense1(x))\n",
    "        \n",
    "        x = self.batch_norm2(x)\n",
    "        x = self.dropout2(x)\n",
    "        x = F.relu(self.dense2(x))\n",
    "        \n",
    "        x = self.batch_norm3(x)\n",
    "        x = self.dropout3(x)\n",
    "        x = self.dense3(x)\n",
    "        \n",
    "        return x\n",
    "    \n",
    "def modelling_torch(tr, target, te, sample_seed, init_num, last_num, layer):\n",
    "    seed_everything(seed=sample_seed) \n",
    "    X_train = tr.copy()\n",
    "    y_train = target.copy()\n",
    "    X_test = te.copy()\n",
    "    test_len = X_test.shape[0]\n",
    "\n",
    "    mskf=MultilabelStratifiedKFold(n_splits = n_folds, shuffle=True, random_state=2)\n",
    "    models = []\n",
    "    \n",
    "    X_test = torch.tensor(X_test, dtype=torch.float32)\n",
    "    X_test = torch.utils.data.TensorDataset(X_test) \n",
    "    test_loader = torch.utils.data.DataLoader(X_test, batch_size=batch_size, shuffle=False)\n",
    "    \n",
    "    oof = np.zeros([len(X_train),y_train.shape[1]])\n",
    "    oof_targets = np.zeros([len(X_train),y_train.shape[1]])\n",
    "    pred_value = np.zeros([test_len, y_train.shape[1]])\n",
    "    scores = []\n",
    "    for fold, (train_index, valid_index) in enumerate(mskf.split(X_train, y_train)):\n",
    "        print(\"Fold \"+str(fold+1))\n",
    "        X_train2 = torch.tensor(X_train[train_index,:], dtype=torch.float32)\n",
    "        y_train2 = torch.tensor(y_train[train_index], dtype=torch.float32)\n",
    "\n",
    "        X_valid2 = torch.tensor(X_train[valid_index,:], dtype=torch.float32)\n",
    "        y_valid2 = torch.tensor(y_train[valid_index], dtype=torch.float32)\n",
    "            \n",
    "        clf = MoaModel(init_num, last_num)\n",
    "        loss_fn = torch.nn.BCEWithLogitsLoss() \n",
    "        optimizer = optim.Adam(clf.parameters(), lr = 0.001, weight_decay=1e-5) \n",
    "        scheduler = optim.lr_scheduler.ReduceLROnPlateau(optimizer, mode='min', factor=0.1, patience=3, eps=1e-4, verbose=True)\n",
    "        \n",
    "        train = torch.utils.data.TensorDataset(X_train2, y_train2)\n",
    "        valid = torch.utils.data.TensorDataset(X_valid2, y_valid2)\n",
    "        \n",
    "        clf.to(device)\n",
    "        \n",
    "        train_loader = torch.utils.data.DataLoader(train, batch_size=batch_size, shuffle=True) \n",
    "        valid_loader = torch.utils.data.DataLoader(valid, batch_size=batch_size, shuffle=False)\n",
    "        \n",
    "        best_val_loss = np.inf\n",
    "        for epoch in range(train_epochs):\n",
    "            start_time = time.time()\n",
    "            clf.train()\n",
    "            avg_loss = 0.\n",
    "            for x_batch, y_batch in tqdm(train_loader, disable=True):\n",
    "                x_batch = x_batch.to(device)\n",
    "                y_batch = y_batch.to(device)\n",
    "                y_pred = clf(x_batch) \n",
    "                loss = loss_fn(y_pred, y_batch)\n",
    "                optimizer.zero_grad()\n",
    "                loss.backward()\n",
    "                optimizer.step()\n",
    "                avg_loss += loss.item() / len(train_loader) \n",
    "    \n",
    "            clf.eval()\n",
    "            avg_val_loss = 0.\n",
    "            for i, (x_batch, y_batch) in enumerate(valid_loader): \n",
    "                x_batch = x_batch.to(device)\n",
    "                y_batch = y_batch.to(device)\n",
    "                y_pred = clf(x_batch).detach()\n",
    "                avg_val_loss += loss_fn(y_pred, y_batch).item() / len(valid_loader)\n",
    "        \n",
    "            elapsed_time = time.time() - start_time \n",
    "            scheduler.step(avg_val_loss)\n",
    "\n",
    "            if avg_val_loss < best_val_loss:\n",
    "                best_val_loss = avg_val_loss\n",
    "                #print('Best model: Epoch {} \\t loss={:.6f} \\t val_loss={:.6f} \\t time={:.2f}s'.format(\n",
    "                #    epoch + 1, avg_loss, avg_val_loss, elapsed_time))\n",
    "                torch.save(clf.state_dict(), 'best-model-parameters.pt')\n",
    "         \n",
    "        pred_model = MoaModel(init_num, last_num)\n",
    "        pred_model.load_state_dict(torch.load('best-model-parameters.pt'))\n",
    "        pred_model.eval()\n",
    "        \n",
    "        # validation check ----------------\n",
    "        oof_epoch = np.zeros([X_valid2.size(0), y_train.shape[1]])\n",
    "        target_epoch = np.zeros([X_valid2.size(0), y_train.shape[1]])\n",
    "        for i, (x_batch, y_batch) in enumerate(valid_loader): \n",
    "                y_pred = pred_model(x_batch).sigmoid().detach()\n",
    "                oof_epoch[i * batch_size:(i+1) * batch_size,:] = y_pred.cpu().numpy()\n",
    "                target_epoch[i * batch_size:(i+1) * batch_size,:] = y_batch.cpu().numpy()\n",
    "        print(\"Fold {} log loss: {}\".format(fold+1, mean_log_loss(target_epoch, oof_epoch)))\n",
    "        scores.append(mean_log_loss(target_epoch, oof_epoch))\n",
    "        oof[valid_index,:] = oof_epoch\n",
    "        oof_targets[valid_index,:] = target_epoch\n",
    "        #-----------------------------------\n",
    "        \n",
    "        # test predcition --------------\n",
    "        test_preds = np.zeros([test_len, y_train.shape[1]])\n",
    "        for i, (x_batch,) in enumerate(test_loader): \n",
    "            y_pred = pred_model(x_batch).sigmoid().detach()\n",
    "            test_preds[i * batch_size:(i+1) * batch_size, :] = y_pred.cpu().numpy()\n",
    "        pred_value += test_preds / n_folds\n",
    "        # ------------------------------\n",
    "        \n",
    "    print(\"Seed {}\".format(seed_))\n",
    "    for i, ele in enumerate(scores):\n",
    "        print(\"Fold {} log loss: {}\".format(i+1, scores[i]))\n",
    "    print(\"Std of log loss: {}\".format(np.std(scores)))\n",
    "    print(\"Total log loss: {}\".format(mean_log_loss(oof_targets, oof)))\n",
    "    \n",
    "    return oof, oof_targets, pred_value"
   ]
  },
  {
   "cell_type": "code",
   "execution_count": 17,
   "metadata": {
    "execution": {
     "iopub.execute_input": "2020-10-12T14:05:37.408997Z",
     "iopub.status.busy": "2020-10-12T14:05:37.408386Z",
     "iopub.status.idle": "2020-10-12T14:05:37.611720Z",
     "shell.execute_reply": "2020-10-12T14:05:37.612375Z"
    },
    "papermill": {
     "duration": 0.242104,
     "end_time": "2020-10-12T14:05:37.612569",
     "exception": false,
     "start_time": "2020-10-12T14:05:37.370465",
     "status": "completed"
    },
    "tags": []
   },
   "outputs": [
    {
     "ename": "ValueError",
     "evalue": "Found input variables with inconsistent numbers of samples: [23814, 21948]",
     "output_type": "error",
     "traceback": [
      "\u001b[0;31m---------------------------------------------------------------------------\u001b[0m",
      "\u001b[0;31mValueError\u001b[0m                                Traceback (most recent call last)",
      "\u001b[0;32m<ipython-input-17-bb0363920e1e>\u001b[0m in \u001b[0;36m<module>\u001b[0;34m\u001b[0m\n\u001b[1;32m      4\u001b[0m \u001b[0;34m\u001b[0m\u001b[0m\n\u001b[1;32m      5\u001b[0m \u001b[0;32mfor\u001b[0m \u001b[0mseed_\u001b[0m \u001b[0;32min\u001b[0m \u001b[0mseeds\u001b[0m\u001b[0;34m:\u001b[0m\u001b[0;34m\u001b[0m\u001b[0;34m\u001b[0m\u001b[0m\n\u001b[0;32m----> 6\u001b[0;31m     \u001b[0moof\u001b[0m\u001b[0;34m,\u001b[0m \u001b[0moof_targets\u001b[0m\u001b[0;34m,\u001b[0m \u001b[0mpytorch_pred\u001b[0m \u001b[0;34m=\u001b[0m \u001b[0mmodelling_torch\u001b[0m\u001b[0;34m(\u001b[0m\u001b[0mpy_train\u001b[0m\u001b[0;34m,\u001b[0m \u001b[0mfn_targets\u001b[0m\u001b[0;34m,\u001b[0m \u001b[0mpy_test\u001b[0m\u001b[0;34m,\u001b[0m \u001b[0mseed_\u001b[0m\u001b[0;34m,\u001b[0m \u001b[0mpy_train\u001b[0m\u001b[0;34m.\u001b[0m\u001b[0mshape\u001b[0m\u001b[0;34m[\u001b[0m\u001b[0;36m1\u001b[0m\u001b[0;34m]\u001b[0m\u001b[0;34m,\u001b[0m \u001b[0mfn_targets\u001b[0m\u001b[0;34m.\u001b[0m\u001b[0mshape\u001b[0m\u001b[0;34m[\u001b[0m\u001b[0;36m1\u001b[0m\u001b[0;34m]\u001b[0m\u001b[0;34m,\u001b[0m\u001b[0;36m1\u001b[0m\u001b[0;34m)\u001b[0m\u001b[0;34m\u001b[0m\u001b[0;34m\u001b[0m\u001b[0m\n\u001b[0m\u001b[1;32m      7\u001b[0m     \u001b[0mpytorch1_oof\u001b[0m \u001b[0;34m+=\u001b[0m \u001b[0moof\u001b[0m \u001b[0;34m/\u001b[0m \u001b[0mlen\u001b[0m\u001b[0;34m(\u001b[0m\u001b[0mseeds\u001b[0m\u001b[0;34m)\u001b[0m\u001b[0;34m\u001b[0m\u001b[0;34m\u001b[0m\u001b[0m\n\u001b[1;32m      8\u001b[0m     \u001b[0mpytorch1_test\u001b[0m \u001b[0;34m+=\u001b[0m \u001b[0mpytorch_pred\u001b[0m \u001b[0;34m/\u001b[0m \u001b[0mlen\u001b[0m\u001b[0;34m(\u001b[0m\u001b[0mseeds\u001b[0m\u001b[0;34m)\u001b[0m\u001b[0;34m\u001b[0m\u001b[0;34m\u001b[0m\u001b[0m\n",
      "\u001b[0;32m<ipython-input-16-fdcf6df49f85>\u001b[0m in \u001b[0;36mmodelling_torch\u001b[0;34m(tr, target, te, sample_seed, init_num, last_num, layer)\u001b[0m\n\u001b[1;32m     62\u001b[0m     \u001b[0mpred_value\u001b[0m \u001b[0;34m=\u001b[0m \u001b[0mnp\u001b[0m\u001b[0;34m.\u001b[0m\u001b[0mzeros\u001b[0m\u001b[0;34m(\u001b[0m\u001b[0;34m[\u001b[0m\u001b[0mtest_len\u001b[0m\u001b[0;34m,\u001b[0m \u001b[0my_train\u001b[0m\u001b[0;34m.\u001b[0m\u001b[0mshape\u001b[0m\u001b[0;34m[\u001b[0m\u001b[0;36m1\u001b[0m\u001b[0;34m]\u001b[0m\u001b[0;34m]\u001b[0m\u001b[0;34m)\u001b[0m\u001b[0;34m\u001b[0m\u001b[0;34m\u001b[0m\u001b[0m\n\u001b[1;32m     63\u001b[0m     \u001b[0mscores\u001b[0m \u001b[0;34m=\u001b[0m \u001b[0;34m[\u001b[0m\u001b[0;34m]\u001b[0m\u001b[0;34m\u001b[0m\u001b[0;34m\u001b[0m\u001b[0m\n\u001b[0;32m---> 64\u001b[0;31m     \u001b[0;32mfor\u001b[0m \u001b[0mfold\u001b[0m\u001b[0;34m,\u001b[0m \u001b[0;34m(\u001b[0m\u001b[0mtrain_index\u001b[0m\u001b[0;34m,\u001b[0m \u001b[0mvalid_index\u001b[0m\u001b[0;34m)\u001b[0m \u001b[0;32min\u001b[0m \u001b[0menumerate\u001b[0m\u001b[0;34m(\u001b[0m\u001b[0mmskf\u001b[0m\u001b[0;34m.\u001b[0m\u001b[0msplit\u001b[0m\u001b[0;34m(\u001b[0m\u001b[0mX_train\u001b[0m\u001b[0;34m,\u001b[0m \u001b[0my_train\u001b[0m\u001b[0;34m)\u001b[0m\u001b[0;34m)\u001b[0m\u001b[0;34m:\u001b[0m\u001b[0;34m\u001b[0m\u001b[0;34m\u001b[0m\u001b[0m\n\u001b[0m\u001b[1;32m     65\u001b[0m         \u001b[0mprint\u001b[0m\u001b[0;34m(\u001b[0m\u001b[0;34m\"Fold \"\u001b[0m\u001b[0;34m+\u001b[0m\u001b[0mstr\u001b[0m\u001b[0;34m(\u001b[0m\u001b[0mfold\u001b[0m\u001b[0;34m+\u001b[0m\u001b[0;36m1\u001b[0m\u001b[0;34m)\u001b[0m\u001b[0;34m)\u001b[0m\u001b[0;34m\u001b[0m\u001b[0;34m\u001b[0m\u001b[0m\n\u001b[1;32m     66\u001b[0m         \u001b[0mX_train2\u001b[0m \u001b[0;34m=\u001b[0m \u001b[0mtorch\u001b[0m\u001b[0;34m.\u001b[0m\u001b[0mtensor\u001b[0m\u001b[0;34m(\u001b[0m\u001b[0mX_train\u001b[0m\u001b[0;34m[\u001b[0m\u001b[0mtrain_index\u001b[0m\u001b[0;34m,\u001b[0m\u001b[0;34m:\u001b[0m\u001b[0;34m]\u001b[0m\u001b[0;34m,\u001b[0m \u001b[0mdtype\u001b[0m\u001b[0;34m=\u001b[0m\u001b[0mtorch\u001b[0m\u001b[0;34m.\u001b[0m\u001b[0mfloat32\u001b[0m\u001b[0;34m)\u001b[0m\u001b[0;34m\u001b[0m\u001b[0;34m\u001b[0m\u001b[0m\n",
      "\u001b[0;32m/opt/conda/envs/rapids/lib/python3.7/site-packages/sklearn/model_selection/_split.py\u001b[0m in \u001b[0;36msplit\u001b[0;34m(self, X, y, groups)\u001b[0m\n\u001b[1;32m    326\u001b[0m             \u001b[0mThe\u001b[0m \u001b[0mtesting\u001b[0m \u001b[0mset\u001b[0m \u001b[0mindices\u001b[0m \u001b[0;32mfor\u001b[0m \u001b[0mthat\u001b[0m \u001b[0msplit\u001b[0m\u001b[0;34m.\u001b[0m\u001b[0;34m\u001b[0m\u001b[0;34m\u001b[0m\u001b[0m\n\u001b[1;32m    327\u001b[0m         \"\"\"\n\u001b[0;32m--> 328\u001b[0;31m         \u001b[0mX\u001b[0m\u001b[0;34m,\u001b[0m \u001b[0my\u001b[0m\u001b[0;34m,\u001b[0m \u001b[0mgroups\u001b[0m \u001b[0;34m=\u001b[0m \u001b[0mindexable\u001b[0m\u001b[0;34m(\u001b[0m\u001b[0mX\u001b[0m\u001b[0;34m,\u001b[0m \u001b[0my\u001b[0m\u001b[0;34m,\u001b[0m \u001b[0mgroups\u001b[0m\u001b[0;34m)\u001b[0m\u001b[0;34m\u001b[0m\u001b[0;34m\u001b[0m\u001b[0m\n\u001b[0m\u001b[1;32m    329\u001b[0m         \u001b[0mn_samples\u001b[0m \u001b[0;34m=\u001b[0m \u001b[0m_num_samples\u001b[0m\u001b[0;34m(\u001b[0m\u001b[0mX\u001b[0m\u001b[0;34m)\u001b[0m\u001b[0;34m\u001b[0m\u001b[0;34m\u001b[0m\u001b[0m\n\u001b[1;32m    330\u001b[0m         \u001b[0;32mif\u001b[0m \u001b[0mself\u001b[0m\u001b[0;34m.\u001b[0m\u001b[0mn_splits\u001b[0m \u001b[0;34m>\u001b[0m \u001b[0mn_samples\u001b[0m\u001b[0;34m:\u001b[0m\u001b[0;34m\u001b[0m\u001b[0;34m\u001b[0m\u001b[0m\n",
      "\u001b[0;32m/opt/conda/envs/rapids/lib/python3.7/site-packages/sklearn/utils/validation.py\u001b[0m in \u001b[0;36mindexable\u001b[0;34m(*iterables)\u001b[0m\n\u001b[1;32m    290\u001b[0m     \"\"\"\n\u001b[1;32m    291\u001b[0m     \u001b[0mresult\u001b[0m \u001b[0;34m=\u001b[0m \u001b[0;34m[\u001b[0m\u001b[0m_make_indexable\u001b[0m\u001b[0;34m(\u001b[0m\u001b[0mX\u001b[0m\u001b[0;34m)\u001b[0m \u001b[0;32mfor\u001b[0m \u001b[0mX\u001b[0m \u001b[0;32min\u001b[0m \u001b[0miterables\u001b[0m\u001b[0;34m]\u001b[0m\u001b[0;34m\u001b[0m\u001b[0;34m\u001b[0m\u001b[0m\n\u001b[0;32m--> 292\u001b[0;31m     \u001b[0mcheck_consistent_length\u001b[0m\u001b[0;34m(\u001b[0m\u001b[0;34m*\u001b[0m\u001b[0mresult\u001b[0m\u001b[0;34m)\u001b[0m\u001b[0;34m\u001b[0m\u001b[0;34m\u001b[0m\u001b[0m\n\u001b[0m\u001b[1;32m    293\u001b[0m     \u001b[0;32mreturn\u001b[0m \u001b[0mresult\u001b[0m\u001b[0;34m\u001b[0m\u001b[0;34m\u001b[0m\u001b[0m\n\u001b[1;32m    294\u001b[0m \u001b[0;34m\u001b[0m\u001b[0m\n",
      "\u001b[0;32m/opt/conda/envs/rapids/lib/python3.7/site-packages/sklearn/utils/validation.py\u001b[0m in \u001b[0;36mcheck_consistent_length\u001b[0;34m(*arrays)\u001b[0m\n\u001b[1;32m    254\u001b[0m     \u001b[0;32mif\u001b[0m \u001b[0mlen\u001b[0m\u001b[0;34m(\u001b[0m\u001b[0muniques\u001b[0m\u001b[0;34m)\u001b[0m \u001b[0;34m>\u001b[0m \u001b[0;36m1\u001b[0m\u001b[0;34m:\u001b[0m\u001b[0;34m\u001b[0m\u001b[0;34m\u001b[0m\u001b[0m\n\u001b[1;32m    255\u001b[0m         raise ValueError(\"Found input variables with inconsistent numbers of\"\n\u001b[0;32m--> 256\u001b[0;31m                          \" samples: %r\" % [int(l) for l in lengths])\n\u001b[0m\u001b[1;32m    257\u001b[0m \u001b[0;34m\u001b[0m\u001b[0m\n\u001b[1;32m    258\u001b[0m \u001b[0;34m\u001b[0m\u001b[0m\n",
      "\u001b[0;31mValueError\u001b[0m: Found input variables with inconsistent numbers of samples: [23814, 21948]"
     ]
    }
   ],
   "source": [
    "seeds = [0,1,2,3,4]\n",
    "pytorch1_oof = np.zeros([len(py_train),fn_targets.shape[1]])\n",
    "pytorch1_test = np.zeros([len(py_test),fn_targets.shape[1]])\n",
    "\n",
    "for seed_ in seeds:\n",
    "    oof, oof_targets, pytorch_pred = modelling_torch(py_train, fn_targets, py_test, seed_, py_train.shape[1], fn_targets.shape[1],1)\n",
    "    pytorch1_oof += oof / len(seeds)\n",
    "    pytorch1_test += pytorch_pred / len(seeds)"
   ]
  },
  {
   "cell_type": "code",
   "execution_count": 18,
   "metadata": {
    "execution": {
     "iopub.execute_input": "2020-10-12T14:05:37.698059Z",
     "iopub.status.busy": "2020-10-12T14:05:37.693936Z",
     "iopub.status.idle": "2020-10-12T14:05:37.702045Z",
     "shell.execute_reply": "2020-10-12T14:05:37.701556Z"
    },
    "papermill": {
     "duration": 0.0578,
     "end_time": "2020-10-12T14:05:37.702143",
     "exception": false,
     "start_time": "2020-10-12T14:05:37.644343",
     "status": "completed"
    },
    "tags": []
   },
   "outputs": [
    {
     "ename": "ValueError",
     "evalue": "shape mismatch: value array of shape (23814,206) could not be broadcast to indexing result of shape (21948,206)",
     "output_type": "error",
     "traceback": [
      "\u001b[0;31m---------------------------------------------------------------------------\u001b[0m",
      "\u001b[0;31mValueError\u001b[0m                                Traceback (most recent call last)",
      "\u001b[0;32m<ipython-input-18-0beaed80f0e4>\u001b[0m in \u001b[0;36m<module>\u001b[0;34m\u001b[0m\n\u001b[1;32m      1\u001b[0m \u001b[0mcheck_pytorch1\u001b[0m \u001b[0;34m=\u001b[0m \u001b[0mnp\u001b[0m\u001b[0;34m.\u001b[0m\u001b[0mzeros\u001b[0m\u001b[0;34m(\u001b[0m\u001b[0;34m[\u001b[0m\u001b[0mtargets\u001b[0m\u001b[0;34m.\u001b[0m\u001b[0mshape\u001b[0m\u001b[0;34m[\u001b[0m\u001b[0;36m0\u001b[0m\u001b[0;34m]\u001b[0m\u001b[0;34m,\u001b[0m \u001b[0mtargets\u001b[0m\u001b[0;34m.\u001b[0m\u001b[0mshape\u001b[0m\u001b[0;34m[\u001b[0m\u001b[0;36m1\u001b[0m\u001b[0;34m]\u001b[0m\u001b[0;34m-\u001b[0m\u001b[0;36m1\u001b[0m\u001b[0;34m]\u001b[0m\u001b[0;34m)\u001b[0m\u001b[0;34m\u001b[0m\u001b[0;34m\u001b[0m\u001b[0m\n\u001b[0;32m----> 2\u001b[0;31m \u001b[0mcheck_pytorch1\u001b[0m\u001b[0;34m[\u001b[0m\u001b[0mcons_train_index\u001b[0m\u001b[0;34m,\u001b[0m\u001b[0;34m:\u001b[0m\u001b[0;34m]\u001b[0m \u001b[0;34m=\u001b[0m \u001b[0mpytorch1_oof\u001b[0m\u001b[0;34m\u001b[0m\u001b[0;34m\u001b[0m\u001b[0m\n\u001b[0m\u001b[1;32m      3\u001b[0m \u001b[0mprint\u001b[0m\u001b[0;34m(\u001b[0m\u001b[0;34m'OOF log loss: '\u001b[0m\u001b[0;34m,\u001b[0m \u001b[0mlog_loss\u001b[0m\u001b[0;34m(\u001b[0m\u001b[0mnp\u001b[0m\u001b[0;34m.\u001b[0m\u001b[0mravel\u001b[0m\u001b[0;34m(\u001b[0m\u001b[0my\u001b[0m\u001b[0;34m)\u001b[0m\u001b[0;34m,\u001b[0m \u001b[0mnp\u001b[0m\u001b[0;34m.\u001b[0m\u001b[0mravel\u001b[0m\u001b[0;34m(\u001b[0m\u001b[0mcheck_pytorch1\u001b[0m\u001b[0;34m)\u001b[0m\u001b[0;34m)\u001b[0m\u001b[0;34m)\u001b[0m\u001b[0;34m\u001b[0m\u001b[0;34m\u001b[0m\u001b[0m\n",
      "\u001b[0;31mValueError\u001b[0m: shape mismatch: value array of shape (23814,206) could not be broadcast to indexing result of shape (21948,206)"
     ]
    }
   ],
   "source": [
    "check_pytorch1 = np.zeros([targets.shape[0], targets.shape[1]-1])\n",
    "check_pytorch1[cons_train_index,:] = pytorch1_oof\n",
    "print('OOF log loss: ', log_loss(np.ravel(y), np.ravel(check_pytorch1)))"
   ]
  },
  {
   "cell_type": "markdown",
   "metadata": {
    "papermill": {
     "duration": 0.032452,
     "end_time": "2020-10-12T14:05:37.766866",
     "exception": false,
     "start_time": "2020-10-12T14:05:37.734414",
     "status": "completed"
    },
    "tags": []
   },
   "source": [
    "# 1st Logistic Regression"
   ]
  },
  {
   "cell_type": "code",
   "execution_count": 19,
   "metadata": {
    "execution": {
     "iopub.execute_input": "2020-10-12T14:05:37.843654Z",
     "iopub.status.busy": "2020-10-12T14:05:37.842880Z",
     "iopub.status.idle": "2020-10-12T14:05:37.845908Z",
     "shell.execute_reply": "2020-10-12T14:05:37.845380Z"
    },
    "papermill": {
     "duration": 0.047256,
     "end_time": "2020-10-12T14:05:37.846009",
     "exception": false,
     "start_time": "2020-10-12T14:05:37.798753",
     "status": "completed"
    },
    "tags": []
   },
   "outputs": [],
   "source": [
    "N_SPLITS = 5\n",
    "\n",
    "def log_loss_metric(y_true, y_pred):\n",
    "    y_pred_clip = np.clip(y_pred, 1e-15, 1 - 1e-15)\n",
    "    loss = - np.mean(np.mean(y_true * np.log(y_pred_clip) + (1 - y_true) * np.log(1 - y_pred_clip), axis = 1))\n",
    "    return loss\n",
    "\n",
    "def modelling_lr(tr, ta, te):    \n",
    "    oof = np.zeros([len(tr),ta.shape[1]])\n",
    "    pred_value = np.zeros([te.shape[0], ta.shape[1]])\n",
    "    \n",
    "    mskf_lr = MultilabelStratifiedKFold(n_splits = N_SPLITS, random_state = 0, shuffle = True)\n",
    "    \n",
    "    for n, (train_index, val_index) in enumerate(mskf_lr.split(tr, ta)):\n",
    "        x_tr, x_val = tr[train_index], tr[val_index]\n",
    "        y_tr, y_val = ta[train_index], ta[val_index]\n",
    "        \n",
    "        model = KernelRidge(alpha = 80, kernel = 'rbf')\n",
    "        model.fit(x_tr, y_tr)\n",
    "\n",
    "        fold_pred = model.predict(x_val)\n",
    "        pred_value += model.predict(te) / N_SPLITS\n",
    "        oof[val_index,:] = fold_pred\n",
    "        fold_score = log_loss_metric(y_val, fold_pred)\n",
    "        print('KRR: Fold {} Score {}:'.format(n+1, fold_score))\n",
    "    return oof, pred_value"
   ]
  },
  {
   "cell_type": "code",
   "execution_count": 20,
   "metadata": {
    "execution": {
     "iopub.execute_input": "2020-10-12T14:05:37.916851Z",
     "iopub.status.busy": "2020-10-12T14:05:37.915928Z",
     "iopub.status.idle": "2020-10-12T14:10:28.236652Z",
     "shell.execute_reply": "2020-10-12T14:10:28.237233Z"
    },
    "papermill": {
     "duration": 290.359059,
     "end_time": "2020-10-12T14:10:28.237406",
     "exception": false,
     "start_time": "2020-10-12T14:05:37.878347",
     "status": "completed"
    },
    "tags": []
   },
   "outputs": [
    {
     "name": "stdout",
     "output_type": "stream",
     "text": [
      "KRR: Fold 1 Score 0.020001548285504416:\n",
      "KRR: Fold 2 Score 0.020269803842034702:\n",
      "KRR: Fold 3 Score 0.020402396968903704:\n",
      "KRR: Fold 4 Score 0.020234775551888323:\n",
      "KRR: Fold 5 Score 0.020396816529786012:\n"
     ]
    }
   ],
   "source": [
    "lr0_oof = np.zeros([len(fn_train), fn_targets.shape[1]])\n",
    "lr0_test = np.zeros([len(fn_test), fn_targets.shape[1]])\n",
    "lr0_oof, lr0_test = modelling_lr(fn_train, fn_targets, fn_test)"
   ]
  },
  {
   "cell_type": "code",
   "execution_count": 21,
   "metadata": {
    "execution": {
     "iopub.execute_input": "2020-10-12T14:10:28.319786Z",
     "iopub.status.busy": "2020-10-12T14:10:28.318221Z",
     "iopub.status.idle": "2020-10-12T14:11:34.626530Z",
     "shell.execute_reply": "2020-10-12T14:11:34.623123Z"
    },
    "papermill": {
     "duration": 66.355178,
     "end_time": "2020-10-12T14:11:34.626664",
     "exception": false,
     "start_time": "2020-10-12T14:10:28.271486",
     "status": "completed"
    },
    "tags": []
   },
   "outputs": [
    {
     "data": {
      "application/vnd.jupyter.widget-view+json": {
       "model_id": "bc85c42491d04bd5870d4cb0b77a73e2",
       "version_major": 2,
       "version_minor": 0
      },
      "text/plain": [
       "HBox(children=(FloatProgress(value=0.0, max=206.0), HTML(value='')))"
      ]
     },
     "metadata": {},
     "output_type": "display_data"
    },
    {
     "name": "stdout",
     "output_type": "stream",
     "text": [
      "\n"
     ]
    }
   ],
   "source": [
    "lr1_test = np.zeros([len(fn_test),fn_targets.shape[1]])\n",
    "lr1_oof = np.zeros([fn_targets.shape[0],fn_targets.shape[1]]) \n",
    "\n",
    "for ind in tqdm(range(len(target_feats))):\n",
    "\n",
    "    ind_target_sum = targets.drop(\"sig_id\", axis=1).copy().values[:, ind].sum()\n",
    "\n",
    "    if ind_target_sum >= N_SPLITS:\n",
    "\n",
    "        skf = StratifiedKFold(n_splits = N_SPLITS, random_state = 0, shuffle = True)\n",
    "        for n, (train_index, val_index) in enumerate(skf.split(lr0_oof, fn_targets[:,ind])):\n",
    "            x_tr, x_val = lr0_oof[train_index, ind].reshape(-1, 1), lr0_oof[val_index, ind].reshape(-1, 1)\n",
    "            y_tr, y_val = fn_targets[train_index,ind], fn_targets[val_index,ind]\n",
    "            model = LogisticRegression(penalty = 'none', max_iter = 1000)\n",
    "            model.fit(x_tr, y_tr)\n",
    "            \n",
    "            lr1_test[:,ind] += model.predict_proba(lr0_test[:, ind].reshape(-1, 1))[:, 1] / N_SPLITS\n",
    "            lr1_oof[val_index, ind] += model.predict_proba(x_val)[:, 1]"
   ]
  },
  {
   "cell_type": "code",
   "execution_count": 22,
   "metadata": {
    "execution": {
     "iopub.execute_input": "2020-10-12T14:11:34.706592Z",
     "iopub.status.busy": "2020-10-12T14:11:34.705278Z",
     "iopub.status.idle": "2020-10-12T14:11:35.903165Z",
     "shell.execute_reply": "2020-10-12T14:11:35.903814Z"
    },
    "papermill": {
     "duration": 1.239466,
     "end_time": "2020-10-12T14:11:35.904011",
     "exception": false,
     "start_time": "2020-10-12T14:11:34.664545",
     "status": "completed"
    },
    "tags": []
   },
   "outputs": [
    {
     "name": "stdout",
     "output_type": "stream",
     "text": [
      "OOF log loss:  0.0162575002525642\n"
     ]
    }
   ],
   "source": [
    "check_lr1 = np.zeros([targets.shape[0], targets.shape[1]-1])\n",
    "check_lr1[cons_train_index,:] = lr1_oof\n",
    "print('OOF log loss: ', log_loss(np.ravel(targets.iloc[:,1:]), np.ravel(check_lr1)))"
   ]
  },
  {
   "cell_type": "markdown",
   "metadata": {
    "papermill": {
     "duration": 0.053781,
     "end_time": "2020-10-12T14:11:36.012428",
     "exception": false,
     "start_time": "2020-10-12T14:11:35.958647",
     "status": "completed"
    },
    "tags": []
   },
   "source": [
    "# 1st SVM"
   ]
  },
  {
   "cell_type": "code",
   "execution_count": 23,
   "metadata": {
    "execution": {
     "iopub.execute_input": "2020-10-12T14:11:36.127150Z",
     "iopub.status.busy": "2020-10-12T14:11:36.126334Z",
     "iopub.status.idle": "2020-10-12T14:36:01.775649Z",
     "shell.execute_reply": "2020-10-12T14:36:01.776237Z"
    },
    "papermill": {
     "duration": 1465.712742,
     "end_time": "2020-10-12T14:36:01.776403",
     "exception": false,
     "start_time": "2020-10-12T14:11:36.063661",
     "status": "completed"
    },
    "tags": []
   },
   "outputs": [
    {
     "data": {
      "application/vnd.jupyter.widget-view+json": {
       "model_id": "66e191246afe41f6980a09c6d22c4d71",
       "version_major": 2,
       "version_minor": 0
      },
      "text/plain": [
       "HBox(children=(FloatProgress(value=0.0, max=206.0), HTML(value='')))"
      ]
     },
     "metadata": {},
     "output_type": "display_data"
    },
    {
     "name": "stdout",
     "output_type": "stream",
     "text": [
      "SVM Target ind 0 score 0.0267522871657328:\n",
      "SVM Target ind 1 score 0.028325951116658196:\n",
      "SVM Target ind 2 score 0.0377679348222106:\n",
      "SVM Target ind 3 score 0.298996150675827:\n",
      "SVM Target ind 4 score 0.47367284922854636:\n",
      "SVM Target ind 5 score 0.11487746841755518:\n",
      "SVM Target ind 6 score 0.0849778533499726:\n",
      "SVM Target ind 7 score 0.15107173928883938:\n",
      "SVM Target ind 8 score 0.0188839674111058:\n",
      "SVM Target ind 9 score 0.4190386854702042:\n",
      "SVM Target ind 10 score 0.566519022333145:\n",
      "SVM Target ind 11 score 0.07884564789068857:\n",
      "SVM Target ind 12 score 0.0110156476564788:\n",
      "SVM Target ind 13 score 0.06609388593886781:\n",
      "SVM Target ind 14 score 0.0188839674111058:\n",
      "SVM Target ind 15 score 0.018883967411105797:\n",
      "SVM Target ind 16 score 0.0755358696444202:\n",
      "SVM Target ind 17 score 0.14005609163236157:\n",
      "SVM Target ind 18 score 0.125893116074033:\n",
      "SVM Target ind 19 score 0.0566519022333154:\n",
      "SVM Target ind 20 score 0.058225566184240796:\n",
      "SVM Target ind 21 score 0.1148774684175552:\n",
      "SVM Target ind 22 score 0.009441983705553398:\n",
      "SVM Target ind 23 score 0.06766754988979319:\n",
      "SVM Target ind 24 score 0.0188839674111058:\n",
      "SVM Target ind 25 score 0.020457631362031197:\n",
      "SVM Target ind 26 score 0.018883967411105797:\n",
      "SVM Target ind 27 score 0.028325951116658196:\n",
      "SVM Target ind 28 score 0.1148774684175552:\n",
      "SVM Target ind 29 score 0.0566519022333154:\n",
      "SVM Target ind 30 score 0.036194270871285204:\n",
      "SVM Target ind 31 score 0.07568243634027254:\n",
      "SVM Target ind 32 score 0.0739622056934948:\n",
      "SVM Target ind 33 score 0.009441983705553401:\n",
      "SVM Target ind 34 score 0.0015736639509263987:\n",
      "SVM Target ind 35 score 0.015993219863985032:\n",
      "SVM Target ind 36 score 0.15121386776199644:\n",
      "SVM Target ind 37 score 0.02710822486531367:\n",
      "SVM Target ind 38 score 0.10435967220838512:\n",
      "SVM Target ind 39 score 0.0094419837055534:\n",
      "SVM Target ind 40 score 0.094419837055525:\n",
      "SVM Target ind 41 score 0.125905244047191:\n",
      "SVM Target ind 42 score 0.056651902233315385:\n",
      "SVM Target ind 43 score 0.3021434785776778:\n",
      "SVM Target ind 44 score 0.1400560916323616:\n",
      "SVM Target ind 45 score 0.180971354356422:\n",
      "SVM Target ind 46 score 0.0110156476564788:\n",
      "SVM Target ind 47 score 0.0474540950630196:\n",
      "SVM Target ind 48 score 0.05979923013516619:\n",
      "SVM Target ind 49 score 0.1054354847120028:\n",
      "SVM Target ind 50 score 0.037767934822210594:\n",
      "SVM Target ind 51 score 0.07882983357116007:\n",
      "SVM Target ind 52 score 0.04563625457683759:\n",
      "SVM Target ind 53 score 0.0094419837055534:\n",
      "SVM Target ind 54 score 0.4421995702100385:\n",
      "SVM Target ind 55 score 0.0660938859388678:\n",
      "SVM Target ind 56 score 0.086551517300898:\n",
      "SVM Target ind 57 score 0.0566519022333154:\n",
      "SVM Target ind 58 score 0.0566519022333154:\n",
      "SVM Target ind 59 score 0.028325951116658196:\n",
      "SVM Target ind 60 score 0.018883967411105793:\n",
      "SVM Target ind 61 score 0.16051372299439182:\n",
      "SVM Target ind 62 score 0.028325951116658196:\n",
      "SVM Target ind 63 score 0.17937274408979412:\n",
      "SVM Target ind 64 score 0.0849778533499726:\n",
      "SVM Target ind 65 score 0.033374800798416836:\n",
      "SVM Target ind 66 score 0.06609388593886781:\n",
      "SVM Target ind 67 score 0.0755358696444202:\n",
      "SVM Target ind 68 score 0.0849778533499726:\n",
      "SVM Target ind 69 score 0.0094419837055534:\n",
      "SVM Target ind 70 score 0.0566519022333154:\n",
      "SVM Target ind 71 score 0.6845491493252295:\n",
      "SVM Target ind 72 score 0.16366105089624258:\n",
      "SVM Target ind 73 score 0.047722273959948554:\n",
      "SVM Target ind 74 score 0.039341598773136:\n",
      "SVM Target ind 75 score 0.0094419837055534:\n",
      "SVM Target ind 76 score 0.07553586964442019:\n",
      "SVM Target ind 77 score 0.608854105076524:\n",
      "SVM Target ind 78 score 0.19041626537613768:\n",
      "SVM Target ind 79 score 0.6642507398015101:\n",
      "SVM Target ind 80 score 0.16367739383443444:\n",
      "SVM Target ind 81 score 0.009441983705553398:\n",
      "SVM Target ind 82 score 0.0015736639509263994:\n",
      "SVM Target ind 83 score 0.24863890424621418:\n",
      "SVM Target ind 84 score 0.0755358696444202:\n",
      "SVM Target ind 85 score 0.0566519022333154:\n",
      "SVM Target ind 86 score 0.022597362044292937:\n",
      "SVM Target ind 87 score 0.039341598773136:\n",
      "SVM Target ind 88 score 0.07586216816589877:\n",
      "SVM Target ind 89 score 0.23119252215914612:\n",
      "SVM Target ind 90 score 0.02535572064202351:\n",
      "SVM Target ind 91 score 0.028325951116658196:\n",
      "SVM Target ind 92 score 0.036194270871285204:\n",
      "SVM Target ind 93 score 0.1668083787980934:\n",
      "SVM Target ind 94 score 0.259654551902692:\n",
      "SVM Target ind 95 score 0.07345725964846396:\n",
      "SVM Target ind 96 score 0.08779927748334625:\n",
      "SVM Target ind 97 score 0.020457631362031197:\n",
      "SVM Target ind 98 score 0.11645113236848059:\n",
      "SVM Target ind 99 score 0.5775346699896229:\n",
      "SVM Target ind 100 score 0.028325951116658202:\n",
      "SVM Target ind 101 score 0.06704450053332425:\n",
      "SVM Target ind 102 score 0.1133038044666298:\n",
      "SVM Target ind 103 score 0.1016538872113715:\n",
      "SVM Target ind 104 score 0.0928461731045996:\n",
      "SVM Target ind 105 score 0.3792530121730223:\n",
      "SVM Target ind 106 score 0.03188203798368351:\n",
      "SVM Target ind 107 score 0.04597941524101137:\n",
      "SVM Target ind 108 score 0.1133038044666298:\n",
      "SVM Target ind 109 score 0.13194819074825348:\n",
      "SVM Target ind 110 score 0.05228547716082371:\n",
      "SVM Target ind 111 score 0.058225566184240796:\n",
      "SVM Target ind 112 score 0.03998831151298743:\n",
      "SVM Target ind 113 score 0.04878358247868839:\n",
      "SVM Target ind 114 score 0.1148774684175552:\n",
      "SVM Target ind 115 score 0.047209918527762997:\n",
      "SVM Target ind 116 score 0.08025686149719641:\n",
      "SVM Target ind 117 score 0.06609388593886781:\n",
      "SVM Target ind 118 score 0.11763499522175024:\n",
      "SVM Target ind 119 score 0.20890426635338874:\n",
      "SVM Target ind 120 score 0.009441983705553398:\n",
      "SVM Target ind 121 score 0.009441983705553398:\n",
      "SVM Target ind 122 score 0.09756716495737582:\n",
      "SVM Target ind 123 score 0.018883967411105797:\n",
      "SVM Target ind 124 score 0.09599350100645039:\n",
      "SVM Target ind 125 score 0.0094419837055534:\n",
      "SVM Target ind 126 score 0.04124233489267967:\n",
      "SVM Target ind 127 score 0.06109598692719285:\n",
      "SVM Target ind 128 score 0.11645113236848059:\n",
      "SVM Target ind 129 score 0.039341598773136:\n",
      "SVM Target ind 130 score 0.018883967411105797:\n",
      "SVM Target ind 131 score 0.13376143582866:\n",
      "SVM Target ind 132 score 0.028325951116658196:\n",
      "SVM Target ind 133 score 0.1509537291645996:\n",
      "SVM Target ind 134 score 0.0755358696444202:\n",
      "SVM Target ind 135 score 0.058225566184240796:\n",
      "SVM Target ind 136 score 0.2958793535482601:\n",
      "SVM Target ind 137 score 0.009441983705553398:\n",
      "SVM Target ind 138 score 0.040915262724061395:\n",
      "SVM Target ind 139 score 0.018883967411105797:\n",
      "SVM Target ind 140 score 0.040915262724061395:\n",
      "SVM Target ind 141 score 0.0110156476564788:\n",
      "SVM Target ind 142 score 0.028325951116658196:\n",
      "SVM Target ind 143 score 0.09599350100645039:\n",
      "SVM Target ind 144 score 0.1510717392888394:\n",
      "SVM Target ind 145 score 0.058225566184240796:\n",
      "SVM Target ind 146 score 0.08314188838971566:\n",
      "SVM Target ind 147 score 0.0377679348222106:\n",
      "SVM Target ind 148 score 0.09599350100645039:\n",
      "SVM Target ind 149 score 0.2392553153997626:\n",
      "SVM Target ind 150 score 0.028325951116658196:\n",
      "SVM Target ind 151 score 0.4140729141217977:\n",
      "SVM Target ind 152 score 0.039341598773136:\n",
      "SVM Target ind 153 score 0.19704085801789847:\n",
      "SVM Target ind 154 score 0.0487835824786884:\n",
      "SVM Target ind 155 score 0.086551517300898:\n",
      "SVM Target ind 156 score 0.1542190671906902:\n",
      "SVM Target ind 157 score 0.16767738709415378:\n",
      "SVM Target ind 158 score 0.047209918527763:\n",
      "SVM Target ind 159 score 0.18726601016012356:\n",
      "SVM Target ind 160 score 0.028325951116658196:\n",
      "SVM Target ind 161 score 0.056651902233315406:\n",
      "SVM Target ind 162 score 0.13218777187773462:\n",
      "SVM Target ind 163 score 0.10182098196733629:\n",
      "SVM Target ind 164 score 0.0755358696444202:\n",
      "SVM Target ind 165 score 0.009441983705553398:\n",
      "SVM Target ind 166 score 0.16208738694531719:\n",
      "SVM Target ind 167 score 0.029899615067583596:\n",
      "SVM Target ind 168 score 0.08812518125182339:\n",
      "SVM Target ind 169 score 0.07371097781548867:\n",
      "SVM Target ind 170 score 0.018883967411105797:\n",
      "SVM Target ind 171 score 0.09225429722502314:\n",
      "SVM Target ind 172 score 0.009441983705553398:\n",
      "SVM Target ind 173 score 0.05208400435168687:\n",
      "SVM Target ind 174 score 0.05822573779842911:\n",
      "SVM Target ind 175 score 0.039341598773136:\n",
      "SVM Target ind 176 score 0.3713846924183954:\n",
      "SVM Target ind 177 score 0.6357660796214983:\n",
      "SVM Target ind 178 score 0.06924121384071859:\n",
      "SVM Target ind 179 score 0.0566519022333154:\n",
      "SVM Target ind 180 score 0.0566519022333154:\n",
      "SVM Target ind 181 score 0.039341598773136:\n",
      "SVM Target ind 182 score 0.4201682748970828:\n",
      "SVM Target ind 183 score 0.039341598773136:\n",
      "SVM Target ind 184 score 0.10728826843348976:\n",
      "SVM Target ind 185 score 0.0094419837055534:\n",
      "SVM Target ind 186 score 0.0298996150675836:\n",
      "SVM Target ind 187 score 0.094419837055525:\n",
      "SVM Target ind 188 score 0.032175550847900546:\n",
      "SVM Target ind 189 score 0.029899615067583596:\n",
      "SVM Target ind 190 score 0.05822556618424079:\n",
      "SVM Target ind 191 score 0.047209918527763:\n",
      "SVM Target ind 192 score 0.011015647656478798:\n",
      "SVM Target ind 193 score 0.0566519022333154:\n",
      "SVM Target ind 194 score 0.14934320153201794:\n",
      "SVM Target ind 195 score 0.028325951116658196:\n",
      "SVM Target ind 196 score 0.009441983705553398:\n",
      "SVM Target ind 197 score 0.039341598773136:\n",
      "SVM Target ind 198 score 0.0755358696444202:\n",
      "SVM Target ind 199 score 0.13946676833758986:\n",
      "SVM Target ind 200 score 0.1148774684175552:\n",
      "SVM Target ind 201 score 0.0094419837055534:\n",
      "SVM Target ind 202 score 0.22396545700745205:\n",
      "SVM Target ind 203 score 0.040915262724061395:\n",
      "SVM Target ind 204 score 0.040206413188430205:\n",
      "SVM Target ind 205 score 0.047209918527763:\n",
      "\n"
     ]
    }
   ],
   "source": [
    "N_STARTS = 3\n",
    "N_SPLITS = 5\n",
    "\n",
    "svm0_oof = np.zeros([len(fn_train), fn_targets.shape[1]])\n",
    "svm0_test = np.zeros([len(fn_test), fn_targets.shape[1]])\n",
    "\n",
    "for ind in tqdm(range(len(target_feats))):\n",
    "\n",
    "    ind_target_sum = targets.drop(\"sig_id\", axis=1).copy().values[:, ind].sum()\n",
    "\n",
    "    if ind_target_sum >= N_SPLITS:\n",
    "\n",
    "        for seed in range(N_STARTS):\n",
    "\n",
    "            skf = StratifiedKFold(n_splits = N_SPLITS, random_state = seed, shuffle = True)\n",
    "\n",
    "            for n, (train_index, val_index) in enumerate(skf.split(fn_train, fn_targets[:,ind])):\n",
    "                \n",
    "                x_tr, x_val = fn_train[train_index], fn_train[val_index]\n",
    "                y_tr, y_val = fn_targets[train_index,ind], fn_targets[val_index,ind]\n",
    "\n",
    "                model = SVC(C = 40, cache_size = 2000)\n",
    "                model.fit(x_tr, y_tr)\n",
    "                svm0_test[:, ind] += model.decision_function(fn_test) / (N_SPLITS * N_STARTS)\n",
    "                svm0_oof[val_index, ind] += model.decision_function(x_val) / N_STARTS\n",
    "\n",
    "    score = log_loss(fn_targets[:, ind], svm0_oof[:, ind])\n",
    "    print('SVM Target ind {} score {}:'.format(ind,score))"
   ]
  },
  {
   "cell_type": "code",
   "execution_count": 24,
   "metadata": {
    "execution": {
     "iopub.execute_input": "2020-10-12T14:36:02.027888Z",
     "iopub.status.busy": "2020-10-12T14:36:02.026745Z",
     "iopub.status.idle": "2020-10-12T14:38:31.155118Z",
     "shell.execute_reply": "2020-10-12T14:38:31.154344Z"
    },
    "papermill": {
     "duration": 149.261146,
     "end_time": "2020-10-12T14:38:31.155290",
     "exception": false,
     "start_time": "2020-10-12T14:36:01.894144",
     "status": "completed"
    },
    "tags": []
   },
   "outputs": [
    {
     "data": {
      "application/vnd.jupyter.widget-view+json": {
       "model_id": "c79551b8f51a4cbe987a60d1fb9c3a44",
       "version_major": 2,
       "version_minor": 0
      },
      "text/plain": [
       "HBox(children=(FloatProgress(value=0.0, max=206.0), HTML(value='')))"
      ]
     },
     "metadata": {},
     "output_type": "display_data"
    },
    {
     "name": "stdout",
     "output_type": "stream",
     "text": [
      "SVM Target ind 0 score 0.0267522871657328:\n",
      "SVM Target ind 1 score 0.028325951116658196:\n",
      "SVM Target ind 2 score 0.0377679348222106:\n",
      "SVM Target ind 3 score 0.298996150675827:\n",
      "SVM Target ind 4 score 0.47367284922854636:\n",
      "SVM Target ind 5 score 0.11487746841755518:\n",
      "SVM Target ind 6 score 0.0849778533499726:\n",
      "SVM Target ind 7 score 0.15107173928883938:\n",
      "SVM Target ind 8 score 0.0188839674111058:\n",
      "SVM Target ind 9 score 0.4190386854702042:\n",
      "SVM Target ind 10 score 0.566519022333145:\n",
      "SVM Target ind 11 score 0.07884564789068857:\n",
      "SVM Target ind 12 score 0.0110156476564788:\n",
      "SVM Target ind 13 score 0.06609388593886781:\n",
      "SVM Target ind 14 score 0.0188839674111058:\n",
      "SVM Target ind 15 score 0.018883967411105797:\n",
      "SVM Target ind 16 score 0.0755358696444202:\n",
      "SVM Target ind 17 score 0.14005609163236157:\n",
      "SVM Target ind 18 score 0.125893116074033:\n",
      "SVM Target ind 19 score 0.0566519022333154:\n",
      "SVM Target ind 20 score 0.058225566184240796:\n",
      "SVM Target ind 21 score 0.1148774684175552:\n",
      "SVM Target ind 22 score 0.009441983705553398:\n",
      "SVM Target ind 23 score 0.06766754988979319:\n",
      "SVM Target ind 24 score 0.0188839674111058:\n",
      "SVM Target ind 25 score 0.020457631362031197:\n",
      "SVM Target ind 26 score 0.018883967411105797:\n",
      "SVM Target ind 27 score 0.028325951116658196:\n",
      "SVM Target ind 28 score 0.1148774684175552:\n",
      "SVM Target ind 29 score 0.0566519022333154:\n",
      "SVM Target ind 30 score 0.036194270871285204:\n",
      "SVM Target ind 31 score 0.07568243634027254:\n",
      "SVM Target ind 32 score 0.0739622056934948:\n",
      "SVM Target ind 33 score 0.009441983705553401:\n",
      "SVM Target ind 34 score 0.0015736639509263987:\n",
      "SVM Target ind 35 score 0.015993219863985032:\n",
      "SVM Target ind 36 score 0.15121386776199644:\n",
      "SVM Target ind 37 score 0.02710822486531367:\n",
      "SVM Target ind 38 score 0.10435967220838512:\n",
      "SVM Target ind 39 score 0.0094419837055534:\n",
      "SVM Target ind 40 score 0.094419837055525:\n",
      "SVM Target ind 41 score 0.125905244047191:\n",
      "SVM Target ind 42 score 0.056651902233315385:\n",
      "SVM Target ind 43 score 0.3021434785776778:\n",
      "SVM Target ind 44 score 0.1400560916323616:\n",
      "SVM Target ind 45 score 0.180971354356422:\n",
      "SVM Target ind 46 score 0.0110156476564788:\n",
      "SVM Target ind 47 score 0.0474540950630196:\n",
      "SVM Target ind 48 score 0.05979923013516619:\n",
      "SVM Target ind 49 score 0.1054354847120028:\n",
      "SVM Target ind 50 score 0.037767934822210594:\n",
      "SVM Target ind 51 score 0.07882983357116007:\n",
      "SVM Target ind 52 score 0.04563625457683759:\n",
      "SVM Target ind 53 score 0.0094419837055534:\n",
      "SVM Target ind 54 score 0.4421995702100385:\n",
      "SVM Target ind 55 score 0.0660938859388678:\n",
      "SVM Target ind 56 score 0.086551517300898:\n",
      "SVM Target ind 57 score 0.0566519022333154:\n",
      "SVM Target ind 58 score 0.0566519022333154:\n",
      "SVM Target ind 59 score 0.028325951116658196:\n",
      "SVM Target ind 60 score 0.018883967411105793:\n",
      "SVM Target ind 61 score 0.16051372299439182:\n",
      "SVM Target ind 62 score 0.028325951116658196:\n",
      "SVM Target ind 63 score 0.17937274408979412:\n",
      "SVM Target ind 64 score 0.0849778533499726:\n",
      "SVM Target ind 65 score 0.033374800798416836:\n",
      "SVM Target ind 66 score 0.06609388593886781:\n",
      "SVM Target ind 67 score 0.0755358696444202:\n",
      "SVM Target ind 68 score 0.0849778533499726:\n",
      "SVM Target ind 69 score 0.0094419837055534:\n",
      "SVM Target ind 70 score 0.0566519022333154:\n",
      "SVM Target ind 71 score 0.6845491493252295:\n",
      "SVM Target ind 72 score 0.16366105089624258:\n",
      "SVM Target ind 73 score 0.047722273959948554:\n",
      "SVM Target ind 74 score 0.039341598773136:\n",
      "SVM Target ind 75 score 0.0094419837055534:\n",
      "SVM Target ind 76 score 0.07553586964442019:\n",
      "SVM Target ind 77 score 0.608854105076524:\n",
      "SVM Target ind 78 score 0.19041626537613768:\n",
      "SVM Target ind 79 score 0.6642507398015101:\n",
      "SVM Target ind 80 score 0.16367739383443444:\n",
      "SVM Target ind 81 score 0.009441983705553398:\n",
      "SVM Target ind 82 score 0.0015736639509263994:\n",
      "SVM Target ind 83 score 0.24863890424621418:\n",
      "SVM Target ind 84 score 0.0755358696444202:\n",
      "SVM Target ind 85 score 0.0566519022333154:\n",
      "SVM Target ind 86 score 0.022597362044292937:\n",
      "SVM Target ind 87 score 0.039341598773136:\n",
      "SVM Target ind 88 score 0.07586216816589877:\n",
      "SVM Target ind 89 score 0.23119252215914612:\n",
      "SVM Target ind 90 score 0.02535572064202351:\n",
      "SVM Target ind 91 score 0.028325951116658196:\n",
      "SVM Target ind 92 score 0.036194270871285204:\n",
      "SVM Target ind 93 score 0.1668083787980934:\n",
      "SVM Target ind 94 score 0.259654551902692:\n",
      "SVM Target ind 95 score 0.07345725964846396:\n",
      "SVM Target ind 96 score 0.08779927748334625:\n",
      "SVM Target ind 97 score 0.020457631362031197:\n",
      "SVM Target ind 98 score 0.11645113236848059:\n",
      "SVM Target ind 99 score 0.5775346699896229:\n",
      "SVM Target ind 100 score 0.028325951116658202:\n",
      "SVM Target ind 101 score 0.06704450053332425:\n",
      "SVM Target ind 102 score 0.1133038044666298:\n",
      "SVM Target ind 103 score 0.1016538872113715:\n",
      "SVM Target ind 104 score 0.0928461731045996:\n",
      "SVM Target ind 105 score 0.3792530121730223:\n",
      "SVM Target ind 106 score 0.03188203798368351:\n",
      "SVM Target ind 107 score 0.04597941524101137:\n",
      "SVM Target ind 108 score 0.1133038044666298:\n",
      "SVM Target ind 109 score 0.13194819074825348:\n",
      "SVM Target ind 110 score 0.05228547716082371:\n",
      "SVM Target ind 111 score 0.058225566184240796:\n",
      "SVM Target ind 112 score 0.03998831151298743:\n",
      "SVM Target ind 113 score 0.04878358247868839:\n",
      "SVM Target ind 114 score 0.1148774684175552:\n",
      "SVM Target ind 115 score 0.047209918527762997:\n",
      "SVM Target ind 116 score 0.08025686149719641:\n",
      "SVM Target ind 117 score 0.06609388593886781:\n",
      "SVM Target ind 118 score 0.11763499522175024:\n",
      "SVM Target ind 119 score 0.20890426635338874:\n",
      "SVM Target ind 120 score 0.009441983705553398:\n",
      "SVM Target ind 121 score 0.009441983705553398:\n",
      "SVM Target ind 122 score 0.09756716495737582:\n",
      "SVM Target ind 123 score 0.018883967411105797:\n",
      "SVM Target ind 124 score 0.09599350100645039:\n",
      "SVM Target ind 125 score 0.0094419837055534:\n",
      "SVM Target ind 126 score 0.04124233489267967:\n",
      "SVM Target ind 127 score 0.06109598692719285:\n",
      "SVM Target ind 128 score 0.11645113236848059:\n",
      "SVM Target ind 129 score 0.039341598773136:\n",
      "SVM Target ind 130 score 0.018883967411105797:\n",
      "SVM Target ind 131 score 0.13376143582866:\n",
      "SVM Target ind 132 score 0.028325951116658196:\n",
      "SVM Target ind 133 score 0.1509537291645996:\n",
      "SVM Target ind 134 score 0.0755358696444202:\n",
      "SVM Target ind 135 score 0.058225566184240796:\n",
      "SVM Target ind 136 score 0.2958793535482601:\n",
      "SVM Target ind 137 score 0.009441983705553398:\n",
      "SVM Target ind 138 score 0.040915262724061395:\n",
      "SVM Target ind 139 score 0.018883967411105797:\n",
      "SVM Target ind 140 score 0.040915262724061395:\n",
      "SVM Target ind 141 score 0.0110156476564788:\n",
      "SVM Target ind 142 score 0.028325951116658196:\n",
      "SVM Target ind 143 score 0.09599350100645039:\n",
      "SVM Target ind 144 score 0.1510717392888394:\n",
      "SVM Target ind 145 score 0.058225566184240796:\n",
      "SVM Target ind 146 score 0.08314188838971566:\n",
      "SVM Target ind 147 score 0.0377679348222106:\n",
      "SVM Target ind 148 score 0.09599350100645039:\n",
      "SVM Target ind 149 score 0.2392553153997626:\n",
      "SVM Target ind 150 score 0.028325951116658196:\n",
      "SVM Target ind 151 score 0.4140729141217977:\n",
      "SVM Target ind 152 score 0.039341598773136:\n",
      "SVM Target ind 153 score 0.19704085801789847:\n",
      "SVM Target ind 154 score 0.0487835824786884:\n",
      "SVM Target ind 155 score 0.086551517300898:\n",
      "SVM Target ind 156 score 0.1542190671906902:\n",
      "SVM Target ind 157 score 0.16767738709415378:\n",
      "SVM Target ind 158 score 0.047209918527763:\n",
      "SVM Target ind 159 score 0.18726601016012356:\n",
      "SVM Target ind 160 score 0.028325951116658196:\n",
      "SVM Target ind 161 score 0.056651902233315406:\n",
      "SVM Target ind 162 score 0.13218777187773462:\n",
      "SVM Target ind 163 score 0.10182098196733629:\n",
      "SVM Target ind 164 score 0.0755358696444202:\n",
      "SVM Target ind 165 score 0.009441983705553398:\n",
      "SVM Target ind 166 score 0.16208738694531719:\n",
      "SVM Target ind 167 score 0.029899615067583596:\n",
      "SVM Target ind 168 score 0.08812518125182339:\n",
      "SVM Target ind 169 score 0.07371097781548867:\n",
      "SVM Target ind 170 score 0.018883967411105797:\n",
      "SVM Target ind 171 score 0.09225429722502314:\n",
      "SVM Target ind 172 score 0.009441983705553398:\n",
      "SVM Target ind 173 score 0.05208400435168687:\n",
      "SVM Target ind 174 score 0.05822573779842911:\n",
      "SVM Target ind 175 score 0.039341598773136:\n",
      "SVM Target ind 176 score 0.3713846924183954:\n",
      "SVM Target ind 177 score 0.6357660796214983:\n",
      "SVM Target ind 178 score 0.06924121384071859:\n",
      "SVM Target ind 179 score 0.0566519022333154:\n",
      "SVM Target ind 180 score 0.0566519022333154:\n",
      "SVM Target ind 181 score 0.039341598773136:\n",
      "SVM Target ind 182 score 0.4201682748970828:\n",
      "SVM Target ind 183 score 0.039341598773136:\n",
      "SVM Target ind 184 score 0.10728826843348976:\n",
      "SVM Target ind 185 score 0.0094419837055534:\n",
      "SVM Target ind 186 score 0.0298996150675836:\n",
      "SVM Target ind 187 score 0.094419837055525:\n",
      "SVM Target ind 188 score 0.032175550847900546:\n",
      "SVM Target ind 189 score 0.029899615067583596:\n",
      "SVM Target ind 190 score 0.05822556618424079:\n",
      "SVM Target ind 191 score 0.047209918527763:\n",
      "SVM Target ind 192 score 0.011015647656478798:\n",
      "SVM Target ind 193 score 0.0566519022333154:\n",
      "SVM Target ind 194 score 0.14934320153201794:\n",
      "SVM Target ind 195 score 0.028325951116658196:\n",
      "SVM Target ind 196 score 0.009441983705553398:\n",
      "SVM Target ind 197 score 0.039341598773136:\n",
      "SVM Target ind 198 score 0.0755358696444202:\n",
      "SVM Target ind 199 score 0.13946676833758986:\n",
      "SVM Target ind 200 score 0.1148774684175552:\n",
      "SVM Target ind 201 score 0.0094419837055534:\n",
      "SVM Target ind 202 score 0.22396545700745205:\n",
      "SVM Target ind 203 score 0.040915262724061395:\n",
      "SVM Target ind 204 score 0.040206413188430205:\n",
      "SVM Target ind 205 score 0.047209918527763:\n",
      "\n"
     ]
    }
   ],
   "source": [
    "N_STARTS = 3\n",
    "N_SPLITS = 5\n",
    "\n",
    "svm1_test = np.zeros([len(fn_test),fn_targets.shape[1]])\n",
    "svm1_oof = np.zeros([fn_targets.shape[0],fn_targets.shape[1]]) \n",
    "\n",
    "for ind in tqdm(range(len(target_feats))):\n",
    "\n",
    "    ind_target_sum = targets.drop(\"sig_id\", axis=1).copy().values[:, ind].sum()\n",
    "\n",
    "    if ind_target_sum >= N_SPLITS:\n",
    "        for seed in range(N_STARTS):\n",
    "            skf = StratifiedKFold(n_splits = N_SPLITS, random_state = seed, shuffle = True)\n",
    "\n",
    "            for n, (train_index, val_index) in enumerate(skf.split(svm0_oof, fn_targets[:,ind])):\n",
    "\n",
    "                x_tr, x_val = svm0_oof[train_index, ind].reshape(-1, 1), svm0_oof[val_index, ind].reshape(-1, 1)\n",
    "                y_tr, y_val = fn_targets[train_index,ind], fn_targets[val_index,ind]\n",
    "\n",
    "                model = LogisticRegression(C = 35, max_iter = 1000)\n",
    "                model.fit(x_tr, y_tr)\n",
    "                svm1_test[:, ind] += model.predict_proba(svm0_test[:, ind].reshape(-1, 1))[:, 1] / (N_SPLITS * N_STARTS)\n",
    "                svm1_oof[val_index, ind] += model.predict_proba(x_val)[:, 1] / N_STARTS\n",
    "\n",
    "    score = log_loss(fn_targets[:, ind], svm0_oof[:, ind])\n",
    "    print('SVM Target ind {} score {}:'.format(ind,score))"
   ]
  },
  {
   "cell_type": "code",
   "execution_count": 25,
   "metadata": {
    "execution": {
     "iopub.execute_input": "2020-10-12T14:38:31.535007Z",
     "iopub.status.busy": "2020-10-12T14:38:31.533932Z",
     "iopub.status.idle": "2020-10-12T14:38:32.836732Z",
     "shell.execute_reply": "2020-10-12T14:38:32.836049Z"
    },
    "papermill": {
     "duration": 1.494528,
     "end_time": "2020-10-12T14:38:32.836886",
     "exception": false,
     "start_time": "2020-10-12T14:38:31.342358",
     "status": "completed"
    },
    "tags": []
   },
   "outputs": [
    {
     "name": "stdout",
     "output_type": "stream",
     "text": [
      "OOF log loss:  0.015284695656872392\n"
     ]
    }
   ],
   "source": [
    "check_svm1 = np.zeros([targets.shape[0], targets.shape[1]-1])\n",
    "check_svm1[cons_train_index,:] = svm1_oof\n",
    "print('OOF log loss: ', log_loss(np.ravel(y), np.ravel(check_svm1)))"
   ]
  },
  {
   "cell_type": "markdown",
   "metadata": {
    "papermill": {
     "duration": 0.196328,
     "end_time": "2020-10-12T14:38:33.291728",
     "exception": false,
     "start_time": "2020-10-12T14:38:33.095400",
     "status": "completed"
    },
    "tags": []
   },
   "source": [
    "# submission"
   ]
  },
  {
   "cell_type": "code",
   "execution_count": 26,
   "metadata": {
    "execution": {
     "iopub.execute_input": "2020-10-12T14:38:33.659614Z",
     "iopub.status.busy": "2020-10-12T14:38:33.658224Z",
     "iopub.status.idle": "2020-10-12T14:38:34.920329Z",
     "shell.execute_reply": "2020-10-12T14:38:34.919403Z"
    },
    "papermill": {
     "duration": 1.443675,
     "end_time": "2020-10-12T14:38:34.920447",
     "exception": false,
     "start_time": "2020-10-12T14:38:33.476772",
     "status": "completed"
    },
    "tags": []
   },
   "outputs": [
    {
     "name": "stdout",
     "output_type": "stream",
     "text": [
      "OOF log loss:  0.017665994590730306\n"
     ]
    }
   ],
   "source": [
    "check = 0.05 * check_svm1 + 0.05 * check_lr1 + 0.2 * check_xgb1 + 0.2 * check_pytorch1 + 0.5 * check_keras1\n",
    "print('OOF log loss: ', log_loss(np.ravel(y), np.ravel(check)))"
   ]
  },
  {
   "cell_type": "code",
   "execution_count": 27,
   "metadata": {
    "execution": {
     "iopub.execute_input": "2020-10-12T14:38:35.294897Z",
     "iopub.status.busy": "2020-10-12T14:38:35.293543Z",
     "iopub.status.idle": "2020-10-12T14:38:37.574397Z",
     "shell.execute_reply": "2020-10-12T14:38:37.573539Z"
    },
    "papermill": {
     "duration": 2.47607,
     "end_time": "2020-10-12T14:38:37.574513",
     "exception": false,
     "start_time": "2020-10-12T14:38:35.098443",
     "status": "completed"
    },
    "tags": []
   },
   "outputs": [
    {
     "ename": "NameError",
     "evalue": "name 'keras1_test' is not defined",
     "output_type": "error",
     "traceback": [
      "\u001b[0;31m---------------------------------------------------------------------------\u001b[0m",
      "\u001b[0;31mNameError\u001b[0m                                 Traceback (most recent call last)",
      "\u001b[0;32m<ipython-input-27-5761a92df317>\u001b[0m in \u001b[0;36m<module>\u001b[0;34m\u001b[0m\n\u001b[1;32m     15\u001b[0m \u001b[0msub_svm\u001b[0m\u001b[0;34m.\u001b[0m\u001b[0mloc\u001b[0m\u001b[0;34m[\u001b[0m\u001b[0mcons_test_index\u001b[0m\u001b[0;34m,\u001b[0m\u001b[0mtarget_feats\u001b[0m\u001b[0;34m]\u001b[0m \u001b[0;34m=\u001b[0m \u001b[0msvm1_test\u001b[0m\u001b[0;34m\u001b[0m\u001b[0;34m\u001b[0m\u001b[0m\n\u001b[1;32m     16\u001b[0m \u001b[0msub_svm\u001b[0m\u001b[0;34m.\u001b[0m\u001b[0mloc\u001b[0m\u001b[0;34m[\u001b[0m\u001b[0mnoncons_test_index\u001b[0m\u001b[0;34m,\u001b[0m\u001b[0mtarget_feats\u001b[0m\u001b[0;34m]\u001b[0m \u001b[0;34m=\u001b[0m \u001b[0;36m0\u001b[0m\u001b[0;34m\u001b[0m\u001b[0;34m\u001b[0m\u001b[0m\n\u001b[0;32m---> 17\u001b[0;31m \u001b[0msub_keras\u001b[0m\u001b[0;34m.\u001b[0m\u001b[0mloc\u001b[0m\u001b[0;34m[\u001b[0m\u001b[0mcons_test_index\u001b[0m\u001b[0;34m,\u001b[0m\u001b[0mtarget_feats\u001b[0m\u001b[0;34m]\u001b[0m \u001b[0;34m=\u001b[0m \u001b[0mnp\u001b[0m\u001b[0;34m.\u001b[0m\u001b[0mclip\u001b[0m\u001b[0;34m(\u001b[0m\u001b[0mkeras1_test\u001b[0m\u001b[0;34m,\u001b[0m\u001b[0mp_min\u001b[0m\u001b[0;34m,\u001b[0m\u001b[0mp_max\u001b[0m\u001b[0;34m)\u001b[0m\u001b[0;34m\u001b[0m\u001b[0;34m\u001b[0m\u001b[0m\n\u001b[0m\u001b[1;32m     18\u001b[0m \u001b[0msub_keras\u001b[0m\u001b[0;34m.\u001b[0m\u001b[0mloc\u001b[0m\u001b[0;34m[\u001b[0m\u001b[0mnoncons_test_index\u001b[0m\u001b[0;34m,\u001b[0m\u001b[0mtarget_feats\u001b[0m\u001b[0;34m]\u001b[0m \u001b[0;34m=\u001b[0m \u001b[0;36m0\u001b[0m\u001b[0;34m\u001b[0m\u001b[0;34m\u001b[0m\u001b[0m\n\u001b[1;32m     19\u001b[0m \u001b[0;34m\u001b[0m\u001b[0m\n",
      "\u001b[0;31mNameError\u001b[0m: name 'keras1_test' is not defined"
     ]
    }
   ],
   "source": [
    "sub_torch = pd.read_csv(DATA_DIR + 'sample_submission.csv')\n",
    "sub_xgb = pd.read_csv(DATA_DIR + 'sample_submission.csv')\n",
    "sub_lr = pd.read_csv(DATA_DIR + 'sample_submission.csv')\n",
    "sub_svm = pd.read_csv(DATA_DIR + 'sample_submission.csv')\n",
    "sub_keras = pd.read_csv(DATA_DIR + 'sample_submission.csv')\n",
    "\n",
    "sub = pd.read_csv(DATA_DIR + 'sample_submission.csv')\n",
    "\n",
    "sub_torch.loc[cons_test_index,target_feats] = pytorch1_test\n",
    "sub_torch.loc[noncons_test_index,target_feats] = 0\n",
    "sub_xgb.loc[cons_test_index,target_feats] = xgb1_test\n",
    "sub_xgb.loc[noncons_test_index,target_feats] = 0\n",
    "sub_lr.loc[cons_test_index,target_feats] = lr1_test\n",
    "sub_lr.loc[noncons_test_index,target_feats] = 0\n",
    "sub_svm.loc[cons_test_index,target_feats] = svm1_test\n",
    "sub_svm.loc[noncons_test_index,target_feats] = 0\n",
    "sub_keras.loc[cons_test_index,target_feats] = np.clip(keras1_test,p_min,p_max)\n",
    "sub_keras.loc[noncons_test_index,target_feats] = 0\n",
    "\n",
    "sub[target_feats] = 0.05 * sub_svm.iloc[:,1:] + 0.05 * sub_lr.iloc[:,1:] + 0.2 * sub_xgb.iloc[:,1:] + 0.2 * sub_torch.iloc[:,1:] + 0.5 * sub_keras.iloc[:,1:]\n",
    "sub.to_csv('submission.csv', index=False)"
   ]
  },
  {
   "cell_type": "code",
   "execution_count": null,
   "metadata": {
    "papermill": {
     "duration": 0.178123,
     "end_time": "2020-10-12T14:38:37.930639",
     "exception": false,
     "start_time": "2020-10-12T14:38:37.752516",
     "status": "completed"
    },
    "tags": []
   },
   "outputs": [],
   "source": []
  }
 ],
 "metadata": {
  "kernelspec": {
   "display_name": "Python 3",
   "language": "python",
   "name": "python3"
  },
  "language_info": {
   "codemirror_mode": {
    "name": "ipython",
    "version": 3
   },
   "file_extension": ".py",
   "mimetype": "text/x-python",
   "name": "python",
   "nbconvert_exporter": "python",
   "pygments_lexer": "ipython3",
   "version": "3.7.6"
  },
  "papermill": {
   "duration": 3525.945382,
   "end_time": "2020-10-12T14:38:38.727228",
   "environment_variables": {},
   "exception": null,
   "input_path": "__notebook__.ipynb",
   "output_path": "__notebook__.ipynb",
   "parameters": {},
   "start_time": "2020-10-12T13:39:52.781846",
   "version": "2.1.0"
  },
  "widgets": {
   "application/vnd.jupyter.widget-state+json": {
    "state": {
     "01a78938a9144aa4b2ca42d700884394": {
      "model_module": "@jupyter-widgets/controls",
      "model_module_version": "1.5.0",
      "model_name": "HTMLModel",
      "state": {
       "_dom_classes": [],
       "_model_module": "@jupyter-widgets/controls",
       "_model_module_version": "1.5.0",
       "_model_name": "HTMLModel",
       "_view_count": null,
       "_view_module": "@jupyter-widgets/controls",
       "_view_module_version": "1.5.0",
       "_view_name": "HTMLView",
       "description": "",
       "description_tooltip": null,
       "layout": "IPY_MODEL_259a1f65322c46fc8d5863ccc568c042",
       "placeholder": "​",
       "style": "IPY_MODEL_5a75a1caee92408ca64754405bffefc0",
       "value": " 206/206 [24:28&lt;00:00,  7.13s/it]"
      }
     },
     "05cd01b80f3144318d20939284d86655": {
      "model_module": "@jupyter-widgets/base",
      "model_module_version": "1.2.0",
      "model_name": "LayoutModel",
      "state": {
       "_model_module": "@jupyter-widgets/base",
       "_model_module_version": "1.2.0",
       "_model_name": "LayoutModel",
       "_view_count": null,
       "_view_module": "@jupyter-widgets/base",
       "_view_module_version": "1.2.0",
       "_view_name": "LayoutView",
       "align_content": null,
       "align_items": null,
       "align_self": null,
       "border": null,
       "bottom": null,
       "display": null,
       "flex": null,
       "flex_flow": null,
       "grid_area": null,
       "grid_auto_columns": null,
       "grid_auto_flow": null,
       "grid_auto_rows": null,
       "grid_column": null,
       "grid_gap": null,
       "grid_row": null,
       "grid_template_areas": null,
       "grid_template_columns": null,
       "grid_template_rows": null,
       "height": null,
       "justify_content": null,
       "justify_items": null,
       "left": null,
       "margin": null,
       "max_height": null,
       "max_width": null,
       "min_height": null,
       "min_width": null,
       "object_fit": null,
       "object_position": null,
       "order": null,
       "overflow": null,
       "overflow_x": null,
       "overflow_y": null,
       "padding": null,
       "right": null,
       "top": null,
       "visibility": null,
       "width": null
      }
     },
     "0eb14760b90548889f92d79dc9b1379c": {
      "model_module": "@jupyter-widgets/base",
      "model_module_version": "1.2.0",
      "model_name": "LayoutModel",
      "state": {
       "_model_module": "@jupyter-widgets/base",
       "_model_module_version": "1.2.0",
       "_model_name": "LayoutModel",
       "_view_count": null,
       "_view_module": "@jupyter-widgets/base",
       "_view_module_version": "1.2.0",
       "_view_name": "LayoutView",
       "align_content": null,
       "align_items": null,
       "align_self": null,
       "border": null,
       "bottom": null,
       "display": null,
       "flex": null,
       "flex_flow": null,
       "grid_area": null,
       "grid_auto_columns": null,
       "grid_auto_flow": null,
       "grid_auto_rows": null,
       "grid_column": null,
       "grid_gap": null,
       "grid_row": null,
       "grid_template_areas": null,
       "grid_template_columns": null,
       "grid_template_rows": null,
       "height": null,
       "justify_content": null,
       "justify_items": null,
       "left": null,
       "margin": null,
       "max_height": null,
       "max_width": null,
       "min_height": null,
       "min_width": null,
       "object_fit": null,
       "object_position": null,
       "order": null,
       "overflow": null,
       "overflow_x": null,
       "overflow_y": null,
       "padding": null,
       "right": null,
       "top": null,
       "visibility": null,
       "width": null
      }
     },
     "259a1f65322c46fc8d5863ccc568c042": {
      "model_module": "@jupyter-widgets/base",
      "model_module_version": "1.2.0",
      "model_name": "LayoutModel",
      "state": {
       "_model_module": "@jupyter-widgets/base",
       "_model_module_version": "1.2.0",
       "_model_name": "LayoutModel",
       "_view_count": null,
       "_view_module": "@jupyter-widgets/base",
       "_view_module_version": "1.2.0",
       "_view_name": "LayoutView",
       "align_content": null,
       "align_items": null,
       "align_self": null,
       "border": null,
       "bottom": null,
       "display": null,
       "flex": null,
       "flex_flow": null,
       "grid_area": null,
       "grid_auto_columns": null,
       "grid_auto_flow": null,
       "grid_auto_rows": null,
       "grid_column": null,
       "grid_gap": null,
       "grid_row": null,
       "grid_template_areas": null,
       "grid_template_columns": null,
       "grid_template_rows": null,
       "height": null,
       "justify_content": null,
       "justify_items": null,
       "left": null,
       "margin": null,
       "max_height": null,
       "max_width": null,
       "min_height": null,
       "min_width": null,
       "object_fit": null,
       "object_position": null,
       "order": null,
       "overflow": null,
       "overflow_x": null,
       "overflow_y": null,
       "padding": null,
       "right": null,
       "top": null,
       "visibility": null,
       "width": null
      }
     },
     "2d6c8efb37644304b0da2987cc40985b": {
      "model_module": "@jupyter-widgets/controls",
      "model_module_version": "1.5.0",
      "model_name": "HTMLModel",
      "state": {
       "_dom_classes": [],
       "_model_module": "@jupyter-widgets/controls",
       "_model_module_version": "1.5.0",
       "_model_name": "HTMLModel",
       "_view_count": null,
       "_view_module": "@jupyter-widgets/controls",
       "_view_module_version": "1.5.0",
       "_view_name": "HTMLView",
       "description": "",
       "description_tooltip": null,
       "layout": "IPY_MODEL_3ef553a904b04a3c9c9bbe036dc85a2c",
       "placeholder": "​",
       "style": "IPY_MODEL_89c809e10634497d8450e102e104d1a6",
       "value": " 206/206 [02:29&lt;00:00,  1.38it/s]"
      }
     },
     "32dde0b147fe4393a0cfbd3ace4327ea": {
      "model_module": "@jupyter-widgets/controls",
      "model_module_version": "1.5.0",
      "model_name": "FloatProgressModel",
      "state": {
       "_dom_classes": [],
       "_model_module": "@jupyter-widgets/controls",
       "_model_module_version": "1.5.0",
       "_model_name": "FloatProgressModel",
       "_view_count": null,
       "_view_module": "@jupyter-widgets/controls",
       "_view_module_version": "1.5.0",
       "_view_name": "ProgressView",
       "bar_style": "success",
       "description": "100%",
       "description_tooltip": null,
       "layout": "IPY_MODEL_aa032a32b1a744559610441f1613eb86",
       "max": 206.0,
       "min": 0.0,
       "orientation": "horizontal",
       "style": "IPY_MODEL_9ba066a37ccf4178bf1cc86cd0708a7a",
       "value": 206.0
      }
     },
     "36bc6304ebec42a3be40ad38014f2a58": {
      "model_module": "@jupyter-widgets/controls",
      "model_module_version": "1.5.0",
      "model_name": "ProgressStyleModel",
      "state": {
       "_model_module": "@jupyter-widgets/controls",
       "_model_module_version": "1.5.0",
       "_model_name": "ProgressStyleModel",
       "_view_count": null,
       "_view_module": "@jupyter-widgets/base",
       "_view_module_version": "1.2.0",
       "_view_name": "StyleView",
       "bar_color": null,
       "description_width": "initial"
      }
     },
     "3d4e44058d4d441da06dc30a7f9ac2ad": {
      "model_module": "@jupyter-widgets/controls",
      "model_module_version": "1.5.0",
      "model_name": "ProgressStyleModel",
      "state": {
       "_model_module": "@jupyter-widgets/controls",
       "_model_module_version": "1.5.0",
       "_model_name": "ProgressStyleModel",
       "_view_count": null,
       "_view_module": "@jupyter-widgets/base",
       "_view_module_version": "1.2.0",
       "_view_name": "StyleView",
       "bar_color": null,
       "description_width": "initial"
      }
     },
     "3ef553a904b04a3c9c9bbe036dc85a2c": {
      "model_module": "@jupyter-widgets/base",
      "model_module_version": "1.2.0",
      "model_name": "LayoutModel",
      "state": {
       "_model_module": "@jupyter-widgets/base",
       "_model_module_version": "1.2.0",
       "_model_name": "LayoutModel",
       "_view_count": null,
       "_view_module": "@jupyter-widgets/base",
       "_view_module_version": "1.2.0",
       "_view_name": "LayoutView",
       "align_content": null,
       "align_items": null,
       "align_self": null,
       "border": null,
       "bottom": null,
       "display": null,
       "flex": null,
       "flex_flow": null,
       "grid_area": null,
       "grid_auto_columns": null,
       "grid_auto_flow": null,
       "grid_auto_rows": null,
       "grid_column": null,
       "grid_gap": null,
       "grid_row": null,
       "grid_template_areas": null,
       "grid_template_columns": null,
       "grid_template_rows": null,
       "height": null,
       "justify_content": null,
       "justify_items": null,
       "left": null,
       "margin": null,
       "max_height": null,
       "max_width": null,
       "min_height": null,
       "min_width": null,
       "object_fit": null,
       "object_position": null,
       "order": null,
       "overflow": null,
       "overflow_x": null,
       "overflow_y": null,
       "padding": null,
       "right": null,
       "top": null,
       "visibility": null,
       "width": null
      }
     },
     "415ec3a88e0c4b5489b9885a069f9d10": {
      "model_module": "@jupyter-widgets/controls",
      "model_module_version": "1.5.0",
      "model_name": "FloatProgressModel",
      "state": {
       "_dom_classes": [],
       "_model_module": "@jupyter-widgets/controls",
       "_model_module_version": "1.5.0",
       "_model_name": "FloatProgressModel",
       "_view_count": null,
       "_view_module": "@jupyter-widgets/controls",
       "_view_module_version": "1.5.0",
       "_view_name": "ProgressView",
       "bar_style": "success",
       "description": "100%",
       "description_tooltip": null,
       "layout": "IPY_MODEL_a4c50e791e514c949bac6553d4ca4170",
       "max": 206.0,
       "min": 0.0,
       "orientation": "horizontal",
       "style": "IPY_MODEL_36bc6304ebec42a3be40ad38014f2a58",
       "value": 206.0
      }
     },
     "5151347441bd43c4bd1cd7b8373caf8b": {
      "model_module": "@jupyter-widgets/base",
      "model_module_version": "1.2.0",
      "model_name": "LayoutModel",
      "state": {
       "_model_module": "@jupyter-widgets/base",
       "_model_module_version": "1.2.0",
       "_model_name": "LayoutModel",
       "_view_count": null,
       "_view_module": "@jupyter-widgets/base",
       "_view_module_version": "1.2.0",
       "_view_name": "LayoutView",
       "align_content": null,
       "align_items": null,
       "align_self": null,
       "border": null,
       "bottom": null,
       "display": null,
       "flex": null,
       "flex_flow": null,
       "grid_area": null,
       "grid_auto_columns": null,
       "grid_auto_flow": null,
       "grid_auto_rows": null,
       "grid_column": null,
       "grid_gap": null,
       "grid_row": null,
       "grid_template_areas": null,
       "grid_template_columns": null,
       "grid_template_rows": null,
       "height": null,
       "justify_content": null,
       "justify_items": null,
       "left": null,
       "margin": null,
       "max_height": null,
       "max_width": null,
       "min_height": null,
       "min_width": null,
       "object_fit": null,
       "object_position": null,
       "order": null,
       "overflow": null,
       "overflow_x": null,
       "overflow_y": null,
       "padding": null,
       "right": null,
       "top": null,
       "visibility": null,
       "width": null
      }
     },
     "5a75a1caee92408ca64754405bffefc0": {
      "model_module": "@jupyter-widgets/controls",
      "model_module_version": "1.5.0",
      "model_name": "DescriptionStyleModel",
      "state": {
       "_model_module": "@jupyter-widgets/controls",
       "_model_module_version": "1.5.0",
       "_model_name": "DescriptionStyleModel",
       "_view_count": null,
       "_view_module": "@jupyter-widgets/base",
       "_view_module_version": "1.2.0",
       "_view_name": "StyleView",
       "description_width": ""
      }
     },
     "66e191246afe41f6980a09c6d22c4d71": {
      "model_module": "@jupyter-widgets/controls",
      "model_module_version": "1.5.0",
      "model_name": "HBoxModel",
      "state": {
       "_dom_classes": [],
       "_model_module": "@jupyter-widgets/controls",
       "_model_module_version": "1.5.0",
       "_model_name": "HBoxModel",
       "_view_count": null,
       "_view_module": "@jupyter-widgets/controls",
       "_view_module_version": "1.5.0",
       "_view_name": "HBoxView",
       "box_style": "",
       "children": [
        "IPY_MODEL_415ec3a88e0c4b5489b9885a069f9d10",
        "IPY_MODEL_01a78938a9144aa4b2ca42d700884394"
       ],
       "layout": "IPY_MODEL_e3cda60f9fc84e418b815b2bc448818c"
      }
     },
     "6e6a80455808485a80ca229a92f0a0a1": {
      "model_module": "@jupyter-widgets/base",
      "model_module_version": "1.2.0",
      "model_name": "LayoutModel",
      "state": {
       "_model_module": "@jupyter-widgets/base",
       "_model_module_version": "1.2.0",
       "_model_name": "LayoutModel",
       "_view_count": null,
       "_view_module": "@jupyter-widgets/base",
       "_view_module_version": "1.2.0",
       "_view_name": "LayoutView",
       "align_content": null,
       "align_items": null,
       "align_self": null,
       "border": null,
       "bottom": null,
       "display": null,
       "flex": null,
       "flex_flow": null,
       "grid_area": null,
       "grid_auto_columns": null,
       "grid_auto_flow": null,
       "grid_auto_rows": null,
       "grid_column": null,
       "grid_gap": null,
       "grid_row": null,
       "grid_template_areas": null,
       "grid_template_columns": null,
       "grid_template_rows": null,
       "height": null,
       "justify_content": null,
       "justify_items": null,
       "left": null,
       "margin": null,
       "max_height": null,
       "max_width": null,
       "min_height": null,
       "min_width": null,
       "object_fit": null,
       "object_position": null,
       "order": null,
       "overflow": null,
       "overflow_x": null,
       "overflow_y": null,
       "padding": null,
       "right": null,
       "top": null,
       "visibility": null,
       "width": null
      }
     },
     "89c809e10634497d8450e102e104d1a6": {
      "model_module": "@jupyter-widgets/controls",
      "model_module_version": "1.5.0",
      "model_name": "DescriptionStyleModel",
      "state": {
       "_model_module": "@jupyter-widgets/controls",
       "_model_module_version": "1.5.0",
       "_model_name": "DescriptionStyleModel",
       "_view_count": null,
       "_view_module": "@jupyter-widgets/base",
       "_view_module_version": "1.2.0",
       "_view_name": "StyleView",
       "description_width": ""
      }
     },
     "9ba066a37ccf4178bf1cc86cd0708a7a": {
      "model_module": "@jupyter-widgets/controls",
      "model_module_version": "1.5.0",
      "model_name": "ProgressStyleModel",
      "state": {
       "_model_module": "@jupyter-widgets/controls",
       "_model_module_version": "1.5.0",
       "_model_name": "ProgressStyleModel",
       "_view_count": null,
       "_view_module": "@jupyter-widgets/base",
       "_view_module_version": "1.2.0",
       "_view_name": "StyleView",
       "bar_color": null,
       "description_width": "initial"
      }
     },
     "a4c50e791e514c949bac6553d4ca4170": {
      "model_module": "@jupyter-widgets/base",
      "model_module_version": "1.2.0",
      "model_name": "LayoutModel",
      "state": {
       "_model_module": "@jupyter-widgets/base",
       "_model_module_version": "1.2.0",
       "_model_name": "LayoutModel",
       "_view_count": null,
       "_view_module": "@jupyter-widgets/base",
       "_view_module_version": "1.2.0",
       "_view_name": "LayoutView",
       "align_content": null,
       "align_items": null,
       "align_self": null,
       "border": null,
       "bottom": null,
       "display": null,
       "flex": null,
       "flex_flow": null,
       "grid_area": null,
       "grid_auto_columns": null,
       "grid_auto_flow": null,
       "grid_auto_rows": null,
       "grid_column": null,
       "grid_gap": null,
       "grid_row": null,
       "grid_template_areas": null,
       "grid_template_columns": null,
       "grid_template_rows": null,
       "height": null,
       "justify_content": null,
       "justify_items": null,
       "left": null,
       "margin": null,
       "max_height": null,
       "max_width": null,
       "min_height": null,
       "min_width": null,
       "object_fit": null,
       "object_position": null,
       "order": null,
       "overflow": null,
       "overflow_x": null,
       "overflow_y": null,
       "padding": null,
       "right": null,
       "top": null,
       "visibility": null,
       "width": null
      }
     },
     "aa032a32b1a744559610441f1613eb86": {
      "model_module": "@jupyter-widgets/base",
      "model_module_version": "1.2.0",
      "model_name": "LayoutModel",
      "state": {
       "_model_module": "@jupyter-widgets/base",
       "_model_module_version": "1.2.0",
       "_model_name": "LayoutModel",
       "_view_count": null,
       "_view_module": "@jupyter-widgets/base",
       "_view_module_version": "1.2.0",
       "_view_name": "LayoutView",
       "align_content": null,
       "align_items": null,
       "align_self": null,
       "border": null,
       "bottom": null,
       "display": null,
       "flex": null,
       "flex_flow": null,
       "grid_area": null,
       "grid_auto_columns": null,
       "grid_auto_flow": null,
       "grid_auto_rows": null,
       "grid_column": null,
       "grid_gap": null,
       "grid_row": null,
       "grid_template_areas": null,
       "grid_template_columns": null,
       "grid_template_rows": null,
       "height": null,
       "justify_content": null,
       "justify_items": null,
       "left": null,
       "margin": null,
       "max_height": null,
       "max_width": null,
       "min_height": null,
       "min_width": null,
       "object_fit": null,
       "object_position": null,
       "order": null,
       "overflow": null,
       "overflow_x": null,
       "overflow_y": null,
       "padding": null,
       "right": null,
       "top": null,
       "visibility": null,
       "width": null
      }
     },
     "b937896a29ff46aa9c143dd34128123f": {
      "model_module": "@jupyter-widgets/controls",
      "model_module_version": "1.5.0",
      "model_name": "FloatProgressModel",
      "state": {
       "_dom_classes": [],
       "_model_module": "@jupyter-widgets/controls",
       "_model_module_version": "1.5.0",
       "_model_name": "FloatProgressModel",
       "_view_count": null,
       "_view_module": "@jupyter-widgets/controls",
       "_view_module_version": "1.5.0",
       "_view_name": "ProgressView",
       "bar_style": "success",
       "description": "100%",
       "description_tooltip": null,
       "layout": "IPY_MODEL_5151347441bd43c4bd1cd7b8373caf8b",
       "max": 206.0,
       "min": 0.0,
       "orientation": "horizontal",
       "style": "IPY_MODEL_3d4e44058d4d441da06dc30a7f9ac2ad",
       "value": 206.0
      }
     },
     "bc85c42491d04bd5870d4cb0b77a73e2": {
      "model_module": "@jupyter-widgets/controls",
      "model_module_version": "1.5.0",
      "model_name": "HBoxModel",
      "state": {
       "_dom_classes": [],
       "_model_module": "@jupyter-widgets/controls",
       "_model_module_version": "1.5.0",
       "_model_name": "HBoxModel",
       "_view_count": null,
       "_view_module": "@jupyter-widgets/controls",
       "_view_module_version": "1.5.0",
       "_view_name": "HBoxView",
       "box_style": "",
       "children": [
        "IPY_MODEL_b937896a29ff46aa9c143dd34128123f",
        "IPY_MODEL_e353c6d5a018448087126b6ed12c1623"
       ],
       "layout": "IPY_MODEL_0eb14760b90548889f92d79dc9b1379c"
      }
     },
     "c79551b8f51a4cbe987a60d1fb9c3a44": {
      "model_module": "@jupyter-widgets/controls",
      "model_module_version": "1.5.0",
      "model_name": "HBoxModel",
      "state": {
       "_dom_classes": [],
       "_model_module": "@jupyter-widgets/controls",
       "_model_module_version": "1.5.0",
       "_model_name": "HBoxModel",
       "_view_count": null,
       "_view_module": "@jupyter-widgets/controls",
       "_view_module_version": "1.5.0",
       "_view_name": "HBoxView",
       "box_style": "",
       "children": [
        "IPY_MODEL_32dde0b147fe4393a0cfbd3ace4327ea",
        "IPY_MODEL_2d6c8efb37644304b0da2987cc40985b"
       ],
       "layout": "IPY_MODEL_05cd01b80f3144318d20939284d86655"
      }
     },
     "e353c6d5a018448087126b6ed12c1623": {
      "model_module": "@jupyter-widgets/controls",
      "model_module_version": "1.5.0",
      "model_name": "HTMLModel",
      "state": {
       "_dom_classes": [],
       "_model_module": "@jupyter-widgets/controls",
       "_model_module_version": "1.5.0",
       "_model_name": "HTMLModel",
       "_view_count": null,
       "_view_module": "@jupyter-widgets/controls",
       "_view_module_version": "1.5.0",
       "_view_name": "HTMLView",
       "description": "",
       "description_tooltip": null,
       "layout": "IPY_MODEL_6e6a80455808485a80ca229a92f0a0a1",
       "placeholder": "​",
       "style": "IPY_MODEL_f9e910900dc7459484c2986926152286",
       "value": " 206/206 [01:06&lt;00:00,  3.11it/s]"
      }
     },
     "e3cda60f9fc84e418b815b2bc448818c": {
      "model_module": "@jupyter-widgets/base",
      "model_module_version": "1.2.0",
      "model_name": "LayoutModel",
      "state": {
       "_model_module": "@jupyter-widgets/base",
       "_model_module_version": "1.2.0",
       "_model_name": "LayoutModel",
       "_view_count": null,
       "_view_module": "@jupyter-widgets/base",
       "_view_module_version": "1.2.0",
       "_view_name": "LayoutView",
       "align_content": null,
       "align_items": null,
       "align_self": null,
       "border": null,
       "bottom": null,
       "display": null,
       "flex": null,
       "flex_flow": null,
       "grid_area": null,
       "grid_auto_columns": null,
       "grid_auto_flow": null,
       "grid_auto_rows": null,
       "grid_column": null,
       "grid_gap": null,
       "grid_row": null,
       "grid_template_areas": null,
       "grid_template_columns": null,
       "grid_template_rows": null,
       "height": null,
       "justify_content": null,
       "justify_items": null,
       "left": null,
       "margin": null,
       "max_height": null,
       "max_width": null,
       "min_height": null,
       "min_width": null,
       "object_fit": null,
       "object_position": null,
       "order": null,
       "overflow": null,
       "overflow_x": null,
       "overflow_y": null,
       "padding": null,
       "right": null,
       "top": null,
       "visibility": null,
       "width": null
      }
     },
     "f9e910900dc7459484c2986926152286": {
      "model_module": "@jupyter-widgets/controls",
      "model_module_version": "1.5.0",
      "model_name": "DescriptionStyleModel",
      "state": {
       "_model_module": "@jupyter-widgets/controls",
       "_model_module_version": "1.5.0",
       "_model_name": "DescriptionStyleModel",
       "_view_count": null,
       "_view_module": "@jupyter-widgets/base",
       "_view_module_version": "1.2.0",
       "_view_name": "StyleView",
       "description_width": ""
      }
     }
    },
    "version_major": 2,
    "version_minor": 0
   }
  }
 },
 "nbformat": 4,
 "nbformat_minor": 4
}
