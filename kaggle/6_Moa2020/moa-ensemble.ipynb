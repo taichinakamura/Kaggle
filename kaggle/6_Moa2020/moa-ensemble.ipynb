{
 "cells": [
  {
   "cell_type": "markdown",
   "metadata": {
    "papermill": {
     "duration": 0.026118,
     "end_time": "2020-10-25T06:47:54.736151",
     "exception": false,
     "start_time": "2020-10-25T06:47:54.710033",
     "status": "completed"
    },
    "tags": []
   },
   "source": [
    "- change to reakyrelu in mlp\n",
    "- increase ensemble to 3 in tabnet and change fe pattern\n",
    "- decrease ensemble to 2 in svm to reduce time"
   ]
  },
  {
   "cell_type": "code",
   "execution_count": 1,
   "metadata": {
    "execution": {
     "iopub.execute_input": "2020-10-25T06:47:54.795381Z",
     "iopub.status.busy": "2020-10-25T06:47:54.794615Z",
     "iopub.status.idle": "2020-10-25T06:48:04.403022Z",
     "shell.execute_reply": "2020-10-25T06:48:04.401931Z"
    },
    "papermill": {
     "duration": 9.640191,
     "end_time": "2020-10-25T06:48:04.403167",
     "exception": false,
     "start_time": "2020-10-25T06:47:54.762976",
     "status": "completed"
    },
    "tags": []
   },
   "outputs": [
    {
     "name": "stdout",
     "output_type": "stream",
     "text": [
      "Looking in links: /kaggle/input/pytorchtabnet/pytorch_tabnet-2.0.0-py3-none-any.whl\r\n",
      "Processing /kaggle/input/pytorchtabnet/pytorch_tabnet-2.0.0-py3-none-any.whl\r\n",
      "Requirement already satisfied: torch<2.0,>=1.2 in /opt/conda/lib/python3.7/site-packages (from pytorch-tabnet) (1.6.0)\r\n",
      "Requirement already satisfied: scipy>1.4 in /opt/conda/lib/python3.7/site-packages (from pytorch-tabnet) (1.4.1)\r\n",
      "Requirement already satisfied: numpy<2.0,>=1.17 in /opt/conda/lib/python3.7/site-packages (from pytorch-tabnet) (1.18.5)\r\n",
      "Requirement already satisfied: scikit_learn>0.21 in /opt/conda/lib/python3.7/site-packages (from pytorch-tabnet) (0.23.2)\r\n",
      "Requirement already satisfied: tqdm<5.0,>=4.36 in /opt/conda/lib/python3.7/site-packages (from pytorch-tabnet) (4.45.0)\r\n",
      "Requirement already satisfied: future in /opt/conda/lib/python3.7/site-packages (from torch<2.0,>=1.2->pytorch-tabnet) (0.18.2)\r\n",
      "Requirement already satisfied: threadpoolctl>=2.0.0 in /opt/conda/lib/python3.7/site-packages (from scikit_learn>0.21->pytorch-tabnet) (2.1.0)\r\n",
      "Requirement already satisfied: joblib>=0.11 in /opt/conda/lib/python3.7/site-packages (from scikit_learn>0.21->pytorch-tabnet) (0.14.1)\r\n",
      "Installing collected packages: pytorch-tabnet\r\n",
      "Successfully installed pytorch-tabnet-2.0.0\r\n"
     ]
    }
   ],
   "source": [
    "!pip install --no-index --find-links /kaggle/input/pytorchtabnet/pytorch_tabnet-2.0.0-py3-none-any.whl pytorch-tabnet"
   ]
  },
  {
   "cell_type": "code",
   "execution_count": 2,
   "metadata": {
    "execution": {
     "iopub.execute_input": "2020-10-25T06:48:04.480473Z",
     "iopub.status.busy": "2020-10-25T06:48:04.476713Z",
     "iopub.status.idle": "2020-10-25T06:49:24.987465Z",
     "shell.execute_reply": "2020-10-25T06:49:24.986809Z"
    },
    "papermill": {
     "duration": 80.555136,
     "end_time": "2020-10-25T06:49:24.987599",
     "exception": false,
     "start_time": "2020-10-25T06:48:04.432463",
     "status": "completed"
    },
    "tags": []
   },
   "outputs": [],
   "source": [
    "import sys\n",
    "!cp ../input/rapids/rapids.0.15.0 /opt/conda/envs/rapids.tar.gz\n",
    "!cd /opt/conda/envs/ && tar -xzvf rapids.tar.gz > /dev/null\n",
    "sys.path = [\"/opt/conda/envs/rapids/lib/python3.7/site-packages\"] + sys.path\n",
    "sys.path = [\"/opt/conda/envs/rapids/lib/python3.7\"] + sys.path\n",
    "sys.path = [\"/opt/conda/envs/rapids/lib\"] + sys.path\n",
    "!cp /opt/conda/envs/rapids/lib/libxgboost.so /opt/conda/lib/"
   ]
  },
  {
   "cell_type": "code",
   "execution_count": 3,
   "metadata": {
    "_cell_guid": "b1076dfc-b9ad-4769-8c92-a6c4dae69d19",
    "_uuid": "8f2839f25d086af736a60e9eeb907d3b93b6e0e5",
    "execution": {
     "iopub.execute_input": "2020-10-25T06:49:46.094656Z",
     "iopub.status.busy": "2020-10-25T06:49:46.090208Z",
     "iopub.status.idle": "2020-10-25T06:50:01.155759Z",
     "shell.execute_reply": "2020-10-25T06:50:01.156793Z"
    },
    "papermill": {
     "duration": 15.130109,
     "end_time": "2020-10-25T06:50:01.157023",
     "exception": false,
     "start_time": "2020-10-25T06:49:46.026914",
     "status": "completed"
    },
    "tags": []
   },
   "outputs": [],
   "source": [
    "import os\n",
    "import warnings\n",
    "import numpy as np\n",
    "import pandas as pd \n",
    "import matplotlib.pyplot as plt\n",
    "from xgboost import XGBClassifier\n",
    "from sklearn import preprocessing\n",
    "from sklearn.metrics import log_loss\n",
    "from sklearn.decomposition import PCA\n",
    "from sklearn.pipeline import Pipeline\n",
    "from tqdm import tqdm_notebook as tqdm\n",
    "from category_encoders import CountEncoder\n",
    "from sklearn.feature_selection import VarianceThreshold\n",
    "from sklearn.multioutput import MultiOutputClassifier\n",
    "from sklearn.model_selection import KFold, StratifiedKFold\n",
    "sys.path.append('../input/multilabelstraifier/')\n",
    "from ml_stratifiers import MultilabelStratifiedKFold\n",
    "warnings.filterwarnings('ignore')\n",
    "\n",
    "import time\n",
    "import torch\n",
    "import random\n",
    "import torch.nn as nn\n",
    "import torch.optim as optim\n",
    "import torch.nn.functional as F\n",
    "import tensorflow as tf\n",
    "from torch.nn.modules.loss import _WeightedLoss\n",
    "\n",
    "from sklearn.kernel_approximation import Nystroem\n",
    "from sklearn.isotonic import IsotonicRegression\n",
    "from sklearn.linear_model import LogisticRegression\n",
    "from sklearn.kernel_ridge import KernelRidge\n",
    "from cuml.svm import SVC, SVR\n",
    "\n",
    "from tensorflow.keras import layers,regularizers,Sequential,backend,callbacks,optimizers,metrics,losses\n",
    "import tensorflow_addons as tfa\n",
    "from keras import backend as K\n",
    "\n",
    "from pytorch_tabnet.metrics import Metric\n",
    "from pytorch_tabnet.tab_model import TabNetRegressor"
   ]
  },
  {
   "cell_type": "markdown",
   "metadata": {
    "papermill": {
     "duration": 0.028278,
     "end_time": "2020-10-25T06:50:01.217417",
     "exception": false,
     "start_time": "2020-10-25T06:50:01.189139",
     "status": "completed"
    },
    "tags": []
   },
   "source": [
    "# Preprocess"
   ]
  },
  {
   "cell_type": "code",
   "execution_count": 4,
   "metadata": {
    "_cell_guid": "79c7e3d0-c299-4dcb-8224-4455121ee9b0",
    "_uuid": "d629ff2d2480ee46fbb7e2d37f6b5fab8052498a",
    "execution": {
     "iopub.execute_input": "2020-10-25T06:50:01.288071Z",
     "iopub.status.busy": "2020-10-25T06:50:01.287055Z",
     "iopub.status.idle": "2020-10-25T06:50:07.109338Z",
     "shell.execute_reply": "2020-10-25T06:50:07.108609Z"
    },
    "papermill": {
     "duration": 5.864414,
     "end_time": "2020-10-25T06:50:07.109490",
     "exception": false,
     "start_time": "2020-10-25T06:50:01.245076",
     "status": "completed"
    },
    "tags": []
   },
   "outputs": [],
   "source": [
    "DATA_DIR = '/kaggle/input/lish-moa/'\n",
    "train = pd.read_csv(DATA_DIR + 'train_features.csv')\n",
    "targets = pd.read_csv(DATA_DIR + 'train_targets_scored.csv')\n",
    "test = pd.read_csv(DATA_DIR + 'test_features.csv')\n",
    "#non_targets = pd.read_csv(DATA_DIR + 'train_targets_nonscored.csv')"
   ]
  },
  {
   "cell_type": "code",
   "execution_count": 5,
   "metadata": {
    "execution": {
     "iopub.execute_input": "2020-10-25T06:50:07.172530Z",
     "iopub.status.busy": "2020-10-25T06:50:07.171787Z",
     "iopub.status.idle": "2020-10-25T06:50:07.176278Z",
     "shell.execute_reply": "2020-10-25T06:50:07.175760Z"
    },
    "papermill": {
     "duration": 0.037181,
     "end_time": "2020-10-25T06:50:07.176392",
     "exception": false,
     "start_time": "2020-10-25T06:50:07.139211",
     "status": "completed"
    },
    "tags": []
   },
   "outputs": [],
   "source": [
    "#non_target_feats = [i for i in non_targets.columns if i != \"sig_id\"]\n",
    "#nontarget_dists = pd.DataFrame(np.sum(non_targets[non_target_feats])).reset_index(drop=False)\n",
    "#nontarget_dists.columns = [\"target\", \"number\"]\n",
    "#nontarget_dists = nontarget_dists.sort_values(\"number\", ascending=False).reset_index(drop=True)\n",
    "#drop_list1 = list(nontarget_dists[nontarget_dists.number==0][\"target\"].values)\n",
    "#non_targets.drop(drop_list1, axis=1, inplace=True)\n",
    "#print(\"shape after 1st drop:\", non_targets.shape)"
   ]
  },
  {
   "cell_type": "code",
   "execution_count": 6,
   "metadata": {
    "execution": {
     "iopub.execute_input": "2020-10-25T06:50:07.240919Z",
     "iopub.status.busy": "2020-10-25T06:50:07.240109Z",
     "iopub.status.idle": "2020-10-25T06:50:07.244348Z",
     "shell.execute_reply": "2020-10-25T06:50:07.243743Z"
    },
    "papermill": {
     "duration": 0.03919,
     "end_time": "2020-10-25T06:50:07.244464",
     "exception": false,
     "start_time": "2020-10-25T06:50:07.205274",
     "status": "completed"
    },
    "tags": []
   },
   "outputs": [],
   "source": [
    "target_feats = [ i for i in targets.columns if i != \"sig_id\"]\n",
    "g_feats = [i for i in train.columns if \"g-\" in i]\n",
    "c_feats = [i for i in train.columns if \"c-\" in i]\n",
    "#non_target_feats = [i for i in non_targets.columns if i != \"sig_id\"]"
   ]
  },
  {
   "cell_type": "code",
   "execution_count": 7,
   "metadata": {
    "execution": {
     "iopub.execute_input": "2020-10-25T06:50:07.340595Z",
     "iopub.status.busy": "2020-10-25T06:50:07.317994Z",
     "iopub.status.idle": "2020-10-25T06:50:07.911579Z",
     "shell.execute_reply": "2020-10-25T06:50:07.915343Z"
    },
    "papermill": {
     "duration": 0.643696,
     "end_time": "2020-10-25T06:50:07.915543",
     "exception": false,
     "start_time": "2020-10-25T06:50:07.271847",
     "status": "completed"
    },
    "tags": []
   },
   "outputs": [],
   "source": [
    "noncons_train_index = train[train.cp_type==\"ctl_vehicle\"].index\n",
    "cons_train_index = train[train.cp_type!=\"ctl_vehicle\"].index\n",
    "noncons_test_index = test[test.cp_type==\"ctl_vehicle\"].index\n",
    "cons_test_index = test[test.cp_type!=\"ctl_vehicle\"].index\n",
    "\n",
    "test = test[test.index.isin(cons_test_index)].reset_index(drop=True)\n",
    "train = train[train.index.isin(cons_train_index)].reset_index(drop=True)\n",
    "fn_targets = targets.drop(\"sig_id\", axis=1).copy()\n",
    "fn_targets = fn_targets[fn_targets.index.isin(cons_train_index)].copy().reset_index(drop=True).to_numpy()\n",
    "#fn_non_targets = non_targets.drop(\"sig_id\", axis=1).copy()\n",
    "#fn_non_targets = fn_non_targets[fn_non_targets.index.isin(cons_train_index)].copy().reset_index(drop=True).to_numpy()\n",
    "y = targets.drop(\"sig_id\", axis=1).copy()\n",
    "#non_y = non_targets.drop(\"sig_id\", axis=1).copy()"
   ]
  },
  {
   "cell_type": "markdown",
   "metadata": {
    "papermill": {
     "duration": 0.038124,
     "end_time": "2020-10-25T06:50:07.994099",
     "exception": false,
     "start_time": "2020-10-25T06:50:07.955975",
     "status": "completed"
    },
    "tags": []
   },
   "source": [
    "# Feature engineering"
   ]
  },
  {
   "cell_type": "code",
   "execution_count": 8,
   "metadata": {
    "execution": {
     "iopub.execute_input": "2020-10-25T06:50:08.087912Z",
     "iopub.status.busy": "2020-10-25T06:50:08.086881Z",
     "iopub.status.idle": "2020-10-25T06:50:08.166681Z",
     "shell.execute_reply": "2020-10-25T06:50:08.167507Z"
    },
    "papermill": {
     "duration": 0.132171,
     "end_time": "2020-10-25T06:50:08.167678",
     "exception": false,
     "start_time": "2020-10-25T06:50:08.035507",
     "status": "completed"
    },
    "tags": []
   },
   "outputs": [],
   "source": [
    "def fe_new(df, remove_features):\n",
    "    tmp = df.copy()\n",
    "    tmp['g_sum'] = tmp[g_feats].sum(axis = 1)\n",
    "    tmp['g_mean'] = tmp[g_feats].mean(axis = 1)\n",
    "    tmp['g_std'] = tmp[g_feats].std(axis = 1)\n",
    "    tmp['g_kurt'] = tmp[g_feats].kurtosis(axis = 1)\n",
    "    tmp['g_skew'] = tmp[g_feats].skew(axis = 1)\n",
    "    tmp['c_sum'] = tmp[c_feats].sum(axis = 1)\n",
    "    tmp['c_mean'] = tmp[c_feats].mean(axis = 1)\n",
    "    tmp['c_std'] = tmp[c_feats].std(axis = 1)\n",
    "    tmp['c_kurt'] = tmp[c_feats].kurtosis(axis = 1)\n",
    "    tmp['c_skew'] = tmp[c_feats].skew(axis = 1)\n",
    "    tmp['gc_sum'] = tmp[c_feats + g_feats].sum(axis = 1)\n",
    "    tmp['gc_mean'] = tmp[c_feats + g_feats].mean(axis = 1)\n",
    "    tmp['gc_std'] = tmp[c_feats + g_feats].std(axis = 1)\n",
    "    tmp['gc_kurt'] = tmp[c_feats + g_feats].kurtosis(axis = 1)\n",
    "    tmp['gc_skew'] = tmp[c_feats + g_feats].skew(axis = 1)\n",
    "    tmp.loc[:, 'cp_dose'] = tmp.loc[:, 'cp_dose'].map({'D1': 0, 'D2': 1})\n",
    "    tmp.drop(remove_features, axis=1, inplace=True)\n",
    "    return tmp\n",
    "\n",
    "def fe_simple(df, remove_features):\n",
    "    tmp = df.copy()\n",
    "    tmp.drop(remove_features, axis=1, inplace=True)\n",
    "    tmp.loc[:, 'cp_dose'] = tmp.loc[:, 'cp_dose'].map({'D1': 0, 'D2': 1})\n",
    "    return tmp\n",
    "\n",
    "\n",
    "def fe_mlp(df_train, df_test):\n",
    "    tmp_train = df_train.copy()\n",
    "    tmp_test = df_test.copy()\n",
    "    X = tmp_train.iloc[:,4:].copy().values\n",
    "    select = VarianceThreshold(threshold=0.7)\n",
    "    X_new = select.fit_transform(X)\n",
    "    drop_feats = list(np.array(tmp_train.iloc[:,4:].columns)[select.get_support()==False])\n",
    "    print(len(drop_feats))\n",
    "    \n",
    "    tmp_train.drop(drop_feats, axis=1, inplace=True)\n",
    "    tmp_test.drop(drop_feats, axis=1, inplace=True)\n",
    "\n",
    "    modg_feats = [i for i in tmp_train.columns if \"g-\" in i]\n",
    "    modc_feats = [i for i in tmp_train.columns if \"c-\" in i]\n",
    "    \n",
    "    for i in modc_feats + modg_feats:\n",
    "        ss = preprocessing.QuantileTransformer(n_quantiles=1000, random_state=0, output_distribution=\"normal\")\n",
    "        ss.fit(tmp_train[i].values.reshape(-1,1))\n",
    "        tmp_train[i] = ss.transform(tmp_train[i].values.reshape(-1,1))\n",
    "        tmp_test[i] = ss.transform(tmp_test[i].values.reshape(-1,1))\n",
    "    \n",
    "    c_num = 10\n",
    "    pca_c_cols = [\"pca-c\"+str(i+1) for i in range(c_num)]\n",
    "    pca = PCA(n_components=c_num,random_state=42)\n",
    "    c_train = pca.fit_transform(tmp_train[modc_feats])\n",
    "    c_test = pca.transform(tmp_test[modc_feats])\n",
    "    c_train = pd.DataFrame(c_train, columns=pca_c_cols)\n",
    "    c_test = pd.DataFrame(c_test, columns=pca_c_cols)\n",
    "\n",
    "    g_num = 60\n",
    "    pca_g_cols = [\"pca-g\"+str(i+1) for i in range(g_num)]\n",
    "    pca = PCA(n_components=g_num, random_state=42)\n",
    "    g_train = pca.fit_transform(tmp_train[modg_feats])\n",
    "    g_test = pca.transform(tmp_test[modg_feats])\n",
    "    g_train = pd.DataFrame(g_train, columns=pca_g_cols)\n",
    "    g_test = pd.DataFrame(g_test, columns=pca_g_cols)\n",
    "\n",
    "    tmp_train = pd.concat([tmp_train, c_train],axis=1)\n",
    "    tmp_test = pd.concat([tmp_test, c_test],axis=1)\n",
    "    tmp_train = pd.concat([tmp_train, g_train],axis=1)\n",
    "    tmp_test = pd.concat([tmp_test, g_test],axis=1)\n",
    "    \n",
    "    return tmp_train, tmp_test\n",
    "\n",
    "def fe_mlp2(df):\n",
    "    tmp = df.copy()\n",
    "    modg_feats = [i for i in tmp.columns if \"g-\" in i]\n",
    "    modc_feats = [i for i in tmp.columns if \"c-\" in i]\n",
    "    tmp['g_sum'] = tmp[modg_feats].sum(axis = 1)\n",
    "    tmp['g_mean'] = tmp[modg_feats].mean(axis = 1)\n",
    "    tmp['g_std'] = tmp[modg_feats].std(axis = 1)\n",
    "    tmp['g_kurt'] = tmp[modg_feats].kurtosis(axis = 1)\n",
    "    tmp['g_skew'] = tmp[modg_feats].skew(axis = 1)\n",
    "    tmp['c_sum'] = tmp[modc_feats].sum(axis = 1)\n",
    "    tmp['c_mean'] = tmp[modc_feats].mean(axis = 1)\n",
    "    tmp['c_std'] = tmp[modc_feats].std(axis = 1)\n",
    "    tmp['c_kurt'] = tmp[modc_feats].kurtosis(axis = 1)\n",
    "    tmp['c_skew'] = tmp[modc_feats].skew(axis = 1)\n",
    "    tmp['gc_sum'] = tmp[modc_feats + modg_feats].sum(axis = 1)\n",
    "    tmp['gc_mean'] = tmp[modc_feats + modg_feats].mean(axis = 1)\n",
    "    tmp['gc_std'] = tmp[modc_feats + modg_feats].std(axis = 1)\n",
    "    tmp['gc_kurt'] = tmp[modc_feats + modg_feats].kurtosis(axis = 1)\n",
    "    tmp['gc_skew'] = tmp[modc_feats + modg_feats].skew(axis = 1)\n",
    "    tmp = pd.get_dummies(tmp, columns=['cp_time','cp_dose'])\n",
    "    tmp.drop([\"cp_type\", \"sig_id\"], axis=1, inplace=True) \n",
    "    return tmp\n",
    "\n",
    "def fe_tabnet(df_train, df_test):\n",
    "    tmp_train = df_train.copy()\n",
    "    tmp_test = df_test.copy()\n",
    "    X = tmp_train.iloc[:,4:].copy().values\n",
    "    select = VarianceThreshold(threshold=0.7)\n",
    "    X_new = select.fit_transform(X)\n",
    "    drop_feats = list(np.array(tmp_train.iloc[:,4:].columns)[select.get_support()==False])\n",
    "    \n",
    "    tmp_train.drop(drop_feats, axis=1, inplace=True)\n",
    "    tmp_test.drop(drop_feats, axis=1, inplace=True)\n",
    "\n",
    "    modg_feats = [i for i in tmp_train.columns if \"g-\" in i]\n",
    "    modc_feats = [i for i in tmp_train.columns if \"c-\" in i]\n",
    "    \n",
    "    for i in modc_feats + modg_feats:\n",
    "        ss = preprocessing.QuantileTransformer(n_quantiles=1000, random_state=0, output_distribution=\"normal\")\n",
    "        ss.fit(tmp_train[i].values.reshape(-1,1))\n",
    "        tmp_train[i] = ss.transform(tmp_train[i].values.reshape(-1,1))\n",
    "        tmp_test[i] = ss.transform(tmp_test[i].values.reshape(-1,1))\n",
    "        \n",
    "    tmp_train = pd.get_dummies(tmp_train, columns=['cp_time','cp_dose'])\n",
    "    tmp_train.drop([\"cp_type\", \"sig_id\"], axis=1, inplace=True)\n",
    "    tmp_test = pd.get_dummies(tmp_test, columns=['cp_time','cp_dose'])\n",
    "    tmp_test.drop([\"cp_type\", \"sig_id\"], axis=1, inplace=True)\n",
    "    return tmp_train, tmp_test\n",
    "\n",
    "remove_features = [\"cp_type\" , \"sig_id\"]"
   ]
  },
  {
   "cell_type": "code",
   "execution_count": 9,
   "metadata": {
    "execution": {
     "iopub.execute_input": "2020-10-25T06:50:08.253153Z",
     "iopub.status.busy": "2020-10-25T06:50:08.252219Z",
     "iopub.status.idle": "2020-10-25T06:50:26.740469Z",
     "shell.execute_reply": "2020-10-25T06:50:26.739809Z"
    },
    "papermill": {
     "duration": 18.532656,
     "end_time": "2020-10-25T06:50:26.740599",
     "exception": false,
     "start_time": "2020-10-25T06:50:08.207943",
     "status": "completed"
    },
    "tags": []
   },
   "outputs": [
    {
     "ename": "AttributeError",
     "evalue": "'numpy.ndarray' object has no attribute 'to_numpy'",
     "output_type": "error",
     "traceback": [
      "\u001b[0;31m---------------------------------------------------------------------------\u001b[0m",
      "\u001b[0;31mAttributeError\u001b[0m                            Traceback (most recent call last)",
      "\u001b[0;32m<ipython-input-9-38aeafc9dfe3>\u001b[0m in \u001b[0;36m<module>\u001b[0;34m\u001b[0m\n\u001b[1;32m     15\u001b[0m \u001b[0;34m\u001b[0m\u001b[0m\n\u001b[1;32m     16\u001b[0m \u001b[0mpy_train\u001b[0m \u001b[0;34m=\u001b[0m \u001b[0mpy_train\u001b[0m\u001b[0;34m.\u001b[0m\u001b[0mto_numpy\u001b[0m\u001b[0;34m(\u001b[0m\u001b[0;34m)\u001b[0m\u001b[0;34m\u001b[0m\u001b[0;34m\u001b[0m\u001b[0m\n\u001b[0;32m---> 17\u001b[0;31m \u001b[0mpy_test\u001b[0m \u001b[0;34m=\u001b[0m \u001b[0mpy_train\u001b[0m\u001b[0;34m.\u001b[0m\u001b[0mto_numpy\u001b[0m\u001b[0;34m(\u001b[0m\u001b[0;34m)\u001b[0m\u001b[0;34m\u001b[0m\u001b[0;34m\u001b[0m\u001b[0m\n\u001b[0m\u001b[1;32m     18\u001b[0m \u001b[0;34m\u001b[0m\u001b[0m\n\u001b[1;32m     19\u001b[0m \u001b[0;31m# pytorch mlp -----------------------------------\u001b[0m\u001b[0;34m\u001b[0m\u001b[0;34m\u001b[0m\u001b[0;34m\u001b[0m\u001b[0m\n",
      "\u001b[0;31mAttributeError\u001b[0m: 'numpy.ndarray' object has no attribute 'to_numpy'"
     ]
    }
   ],
   "source": [
    "# xgb --------------------------\n",
    "X = fe_new(train, remove_features)\n",
    "X_test = fe_new(test, remove_features)\n",
    "\n",
    "# svm-----------------------\n",
    "fn_train = fe_simple(train, remove_features)\n",
    "fn_test = fe_simple(test, remove_features)\n",
    "\n",
    "ss = preprocessing.StandardScaler()\n",
    "fn_train= ss.fit_transform(fn_train)\n",
    "fn_test = ss.transform(fn_test)\n",
    "\n",
    "# pytorch tabnet ----------------------------------\n",
    "py_train, py_test = fe_tabnet(train, test)\n",
    "\n",
    "py_train = py_train.to_numpy()\n",
    "py_test = py_train.to_numpy()\n",
    "\n",
    "# pytorch mlp -----------------------------------\n",
    "mlp_train, mlp_test = fe_mlp(train, test)\n",
    "mlp_train = fe_mlp2(mlp_train).to_numpy()\n",
    "mlp_test = fe_mlp2(mlp_test).to_numpy()\n",
    "\n",
    "print(X.shape, X_test.shape)\n",
    "print(fn_train.shape, fn_test.shape)\n",
    "print(mlp_train.shape, mlp_test.shape)"
   ]
  },
  {
   "cell_type": "markdown",
   "metadata": {
    "papermill": {
     "duration": 0.028442,
     "end_time": "2020-10-25T06:50:26.798587",
     "exception": false,
     "start_time": "2020-10-25T06:50:26.770145",
     "status": "completed"
    },
    "tags": []
   },
   "source": [
    "# 1st XGB"
   ]
  },
  {
   "cell_type": "code",
   "execution_count": 10,
   "metadata": {
    "execution": {
     "iopub.execute_input": "2020-10-25T06:50:26.867574Z",
     "iopub.status.busy": "2020-10-25T06:50:26.866682Z",
     "iopub.status.idle": "2020-10-25T06:50:26.898839Z",
     "shell.execute_reply": "2020-10-25T06:50:26.899326Z"
    },
    "papermill": {
     "duration": 0.071649,
     "end_time": "2020-10-25T06:50:26.899444",
     "exception": false,
     "start_time": "2020-10-25T06:50:26.827795",
     "status": "completed"
    },
    "tags": []
   },
   "outputs": [
    {
     "data": {
      "text/plain": [
       "Pipeline(steps=[('classify',\n",
       "                 MultiOutputClassifier(estimator=XGBClassifier(base_score=None,\n",
       "                                                               booster=None,\n",
       "                                                               colsample_bylevel=None,\n",
       "                                                               colsample_bynode=None,\n",
       "                                                               colsample_bytree=None,\n",
       "                                                               gamma=3.6975,\n",
       "                                                               gpu_id=None,\n",
       "                                                               importance_type='gain',\n",
       "                                                               interaction_constraints=None,\n",
       "                                                               learning_rate=0.0803,\n",
       "                                                               max_delta_step=2.0706,\n",
       "                                                               max_depth=10,\n",
       "                                                               min_child_weight=31.58,\n",
       "                                                               missing=nan,\n",
       "                                                               monotone_constraints=None,\n",
       "                                                               n_estimators=166,\n",
       "                                                               n_jobs=None,\n",
       "                                                               num_parallel_tree=None,\n",
       "                                                               random_state=None,\n",
       "                                                               reg_alpha=None,\n",
       "                                                               reg_lambda=None,\n",
       "                                                               scale_pos_weight=None,\n",
       "                                                               subsample=None,\n",
       "                                                               tree_method='gpu_hist',\n",
       "                                                               validate_parameters=None,\n",
       "                                                               verbosity=None)))])"
      ]
     },
     "execution_count": 10,
     "metadata": {},
     "output_type": "execute_result"
    }
   ],
   "source": [
    "np.random.seed(42)\n",
    "NFOLDS=5\n",
    "\n",
    "classifier = MultiOutputClassifier(XGBClassifier(tree_method='gpu_hist'))\n",
    "\n",
    "clf = Pipeline([('classify', classifier)\n",
    "               ])\n",
    "\n",
    "params = {'classify__estimator__gamma': 3.6975,\n",
    "          'classify__estimator__learning_rate': 0.0803,\n",
    "          'classify__estimator__max_delta_step': 2.0706,\n",
    "          'classify__estimator__max_depth': 10,\n",
    "          'classify__estimator__min_child_weight': 31.5800,\n",
    "          'classify__estimator__n_estimators': 166,\n",
    "         }\n",
    "\n",
    "clf.set_params(**params)"
   ]
  },
  {
   "cell_type": "code",
   "execution_count": 11,
   "metadata": {
    "execution": {
     "iopub.execute_input": "2020-10-25T06:50:26.970605Z",
     "iopub.status.busy": "2020-10-25T06:50:26.969447Z",
     "iopub.status.idle": "2020-10-25T06:50:26.973057Z",
     "shell.execute_reply": "2020-10-25T06:50:26.973574Z"
    },
    "papermill": {
     "duration": 0.046073,
     "end_time": "2020-10-25T06:50:26.973695",
     "exception": false,
     "start_time": "2020-10-25T06:50:26.927622",
     "status": "completed"
    },
    "tags": []
   },
   "outputs": [],
   "source": [
    "def modelling_xgb(X, y, X_test, seed):\n",
    "    oof_preds = np.zeros(y.shape)\n",
    "    test_preds = np.zeros((X_test.shape[0], y.shape[1]))\n",
    "    oof_losses = []\n",
    "    mskf = MultilabelStratifiedKFold(n_splits=NFOLDS, random_state=seed, shuffle=True)\n",
    "    for fn, (trn_idx, val_idx) in enumerate(mskf.split(X, y)):\n",
    "        print('Starting fold: ', fn)\n",
    "        X_train, X_val = X.iloc[trn_idx,:].to_numpy(), X.iloc[val_idx,:].to_numpy()\n",
    "        y_train, y_val = y[trn_idx], y[val_idx]\n",
    "    \n",
    "        clf.fit(X_train, y_train)\n",
    "        val_preds = clf.predict_proba(X_val) # list of preds per class\n",
    "        val_preds = np.array(val_preds)[:,:,1].T # take the positive class\n",
    "        oof_preds[val_idx] = val_preds\n",
    "    \n",
    "        loss = log_loss(np.ravel(y_val), np.ravel(val_preds))\n",
    "        print(loss)\n",
    "        oof_losses.append(loss)\n",
    "        preds = clf.predict_proba(X_test)\n",
    "        preds = np.array(preds)[:,:,1].T # take the positive class\n",
    "        test_preds += preds / NFOLDS\n",
    "    \n",
    "    print(oof_losses)\n",
    "    print('Mean OOF loss across folds', np.mean(oof_losses))\n",
    "    print('STD OOF loss across folds', np.std(oof_losses))\n",
    "    return oof_preds, test_preds"
   ]
  },
  {
   "cell_type": "code",
   "execution_count": 12,
   "metadata": {
    "execution": {
     "iopub.execute_input": "2020-10-25T06:50:27.039059Z",
     "iopub.status.busy": "2020-10-25T06:50:27.037904Z",
     "iopub.status.idle": "2020-10-25T07:14:42.641660Z",
     "shell.execute_reply": "2020-10-25T07:14:42.640636Z"
    },
    "papermill": {
     "duration": 1455.638845,
     "end_time": "2020-10-25T07:14:42.641782",
     "exception": false,
     "start_time": "2020-10-25T06:50:27.002937",
     "status": "completed"
    },
    "tags": []
   },
   "outputs": [
    {
     "name": "stdout",
     "output_type": "stream",
     "text": [
      "Starting fold:  0\n",
      "0.017890018527333493\n",
      "Starting fold:  1\n",
      "0.017878259676696682\n",
      "Starting fold:  2\n",
      "0.017561236619825567\n",
      "Starting fold:  3\n",
      "0.017891451323207592\n",
      "Starting fold:  4\n",
      "0.017919797908421412\n",
      "[0.017890018527333493, 0.017878259676696682, 0.017561236619825567, 0.017891451323207592, 0.017919797908421412]\n",
      "Mean OOF loss across folds 0.017828152811096946\n",
      "STD OOF loss across folds 0.00013415501741458868\n"
     ]
    }
   ],
   "source": [
    "seeds = [42]\n",
    "xgb1_oof = np.zeros(fn_targets.shape)\n",
    "xgb1_test = np.zeros((test.shape[0], fn_targets.shape[1]))\n",
    "for seed_ in seeds:\n",
    "    ind_preds, ind_test_preds = modelling_xgb(X, fn_targets, X_test, seed_)\n",
    "    xgb1_oof += ind_preds / len(seeds)\n",
    "    xgb1_test += ind_test_preds / len(seeds)\n",
    "    \n",
    "#xgb1_non_oof = np.zeros(fn_non_targets.shape)\n",
    "#xgb1_nont_test = np.zeros([test.shape[0],fn_non_targets.shape[1]])\n",
    "\n",
    "#for seed_ in seeds:\n",
    "#    ind_preds, ind_test_preds = modelling_xgb(X, fn_non_targets, X_test, seed_)\n",
    "#    xgb1_non_oof += ind_preds / len(seeds)\n",
    "#    xgb1_non_test += ind_test_preds / len(seeds)"
   ]
  },
  {
   "cell_type": "code",
   "execution_count": 13,
   "metadata": {
    "execution": {
     "iopub.execute_input": "2020-10-25T07:14:42.713061Z",
     "iopub.status.busy": "2020-10-25T07:14:42.711621Z",
     "iopub.status.idle": "2020-10-25T07:14:43.887563Z",
     "shell.execute_reply": "2020-10-25T07:14:43.888069Z"
    },
    "papermill": {
     "duration": 1.214008,
     "end_time": "2020-10-25T07:14:43.888203",
     "exception": false,
     "start_time": "2020-10-25T07:14:42.674195",
     "status": "completed"
    },
    "tags": []
   },
   "outputs": [
    {
     "name": "stdout",
     "output_type": "stream",
     "text": [
      "OOF log loss:  0.016431194422447486\n"
     ]
    }
   ],
   "source": [
    "check_xgb1 = np.zeros([targets.shape[0], targets.shape[1]-1])\n",
    "check_xgb1[cons_train_index,:] =  xgb1_oof\n",
    "print('OOF log loss: ', log_loss(np.ravel(y), np.ravel(check_xgb1)))\n",
    "\n",
    "#check_non_xgb1 = np.zeros([non_targets.shape[0], non_targets.shape[1]-1])\n",
    "#check_non_xgb1[cons_train_index,:] = xgb1_non_oof\n",
    "#print('OOF log loss: ', log_loss(np.ravel(non_y), np.ravel(check_non_xgb1)))"
   ]
  },
  {
   "cell_type": "code",
   "execution_count": 14,
   "metadata": {
    "execution": {
     "iopub.execute_input": "2020-10-25T07:14:43.958294Z",
     "iopub.status.busy": "2020-10-25T07:14:43.957408Z",
     "iopub.status.idle": "2020-10-25T07:14:43.960215Z",
     "shell.execute_reply": "2020-10-25T07:14:43.959717Z"
    },
    "papermill": {
     "duration": 0.039875,
     "end_time": "2020-10-25T07:14:43.960340",
     "exception": false,
     "start_time": "2020-10-25T07:14:43.920465",
     "status": "completed"
    },
    "tags": []
   },
   "outputs": [],
   "source": [
    "del X_test\n",
    "del X"
   ]
  },
  {
   "cell_type": "markdown",
   "metadata": {
    "papermill": {
     "duration": 0.03217,
     "end_time": "2020-10-25T07:14:44.024497",
     "exception": false,
     "start_time": "2020-10-25T07:14:43.992327",
     "status": "completed"
    },
    "tags": []
   },
   "source": [
    "# 1st pytorch"
   ]
  },
  {
   "cell_type": "code",
   "execution_count": 15,
   "metadata": {
    "execution": {
     "iopub.execute_input": "2020-10-25T07:14:44.101030Z",
     "iopub.status.busy": "2020-10-25T07:14:44.100349Z",
     "iopub.status.idle": "2020-10-25T07:14:44.104527Z",
     "shell.execute_reply": "2020-10-25T07:14:44.103922Z"
    },
    "papermill": {
     "duration": 0.048323,
     "end_time": "2020-10-25T07:14:44.104643",
     "exception": false,
     "start_time": "2020-10-25T07:14:44.056320",
     "status": "completed"
    },
    "tags": []
   },
   "outputs": [],
   "source": [
    "class SmoothCrossEntropyLoss(_WeightedLoss):\n",
    "    def __init__(self, weight=None, reduction='mean', smoothing=0.0):\n",
    "        super().__init__(weight=weight, reduction=reduction)\n",
    "        self.smoothing = smoothing\n",
    "        self.weight = weight\n",
    "        self.reduction = reduction\n",
    "\n",
    "    @staticmethod\n",
    "    def _smooth(targets, n_classes, smoothing=0.0):\n",
    "        assert 0 <= smoothing <= 1\n",
    "        with torch.no_grad():\n",
    "#             targets = targets * (1.0 - smoothing) + 0.5 * smoothing\n",
    "            targets = targets * (1 - smoothing) + torch.ones_like(targets).to(device) * smoothing / n_classes\n",
    "        return targets\n",
    "\n",
    "    def forward(self, inputs, targets):\n",
    "        targets = SmoothCrossEntropyLoss()._smooth(targets, inputs.shape[1], self.smoothing)\n",
    "\n",
    "        if self.weight is not None:\n",
    "            inputs = inputs * self.weight.unsqueeze(0)\n",
    "\n",
    "        loss = F.binary_cross_entropy_with_logits(inputs, targets)\n",
    "\n",
    "        return loss"
   ]
  },
  {
   "cell_type": "code",
   "execution_count": 16,
   "metadata": {
    "execution": {
     "iopub.execute_input": "2020-10-25T07:14:44.210684Z",
     "iopub.status.busy": "2020-10-25T07:14:44.198782Z",
     "iopub.status.idle": "2020-10-25T07:14:44.237208Z",
     "shell.execute_reply": "2020-10-25T07:14:44.237730Z"
    },
    "papermill": {
     "duration": 0.101207,
     "end_time": "2020-10-25T07:14:44.237847",
     "exception": false,
     "start_time": "2020-10-25T07:14:44.136640",
     "status": "completed"
    },
    "tags": []
   },
   "outputs": [
    {
     "name": "stdout",
     "output_type": "stream",
     "text": [
      "cuda\n"
     ]
    }
   ],
   "source": [
    "device = \"cuda\" if torch.cuda.is_available() else \"cpu\"\n",
    "print(device)\n",
    "batch_size = 128\n",
    "n_folds=7\n",
    "EARLY_STOPPING_STEPS = 10\n",
    "train_epochs = 20\n",
    "smoothing = 0.001\n",
    "p_min = smoothing\n",
    "p_max = 1 - smoothing\n",
    "\n",
    "def mean_log_loss(y_true, y_pred):\n",
    "    metrics = []\n",
    "    for i, target in enumerate(target_feats):\n",
    "        metrics.append(log_loss(y_true[:, i], y_pred[:, i].astype(float), labels=[0,1]))\n",
    "    return np.mean(metrics)\n",
    "\n",
    "def seed_everything(seed=1234): \n",
    "    random.seed(seed)\n",
    "    os.environ['PYTHONHASHSEED'] = str(seed)\n",
    "    tf.random.set_seed(seed)\n",
    "    np.random.seed(seed)\n",
    "    torch.manual_seed(seed)\n",
    "    torch.cuda.manual_seed(seed)\n",
    "    torch.backends.cudnn.deterministic = True\n",
    "    \n",
    "class MoaModel(nn.Module):\n",
    "    def __init__(self, num_columns, last_num):\n",
    "        super(MoaModel, self).__init__()\n",
    "        self.batch_norm1 = nn.BatchNorm1d(num_columns)\n",
    "        self.dropout1 = nn.Dropout(0.1)\n",
    "        self.dense1 = nn.utils.weight_norm(nn.Linear(num_columns, 1024))\n",
    "        self.relu1 = nn.LeakyReLU()\n",
    "        \n",
    "        self.batch_norm2 = nn.BatchNorm1d(1024)\n",
    "        self.dropout2 = nn.Dropout(0.1)\n",
    "        self.dense2 = nn.utils.weight_norm(nn.Linear(1024, 1024))\n",
    "        self.relu2 = nn.LeakyReLU()\n",
    "        \n",
    "        self.batch_norm3 = nn.BatchNorm1d(1024)\n",
    "        self.dropout3 = nn.Dropout(0.1)\n",
    "        self.dense3 = nn.utils.weight_norm(nn.Linear(1024, last_num))\n",
    "        \n",
    "    def forward(self, x):\n",
    "        x = self.batch_norm1(x)\n",
    "        x = self.dropout1(x)\n",
    "        x = self.relu1(self.dense1(x))\n",
    "        \n",
    "        x = self.batch_norm2(x)\n",
    "        x = self.dropout2(x)\n",
    "        x = self.relu2(self.dense2(x))\n",
    "        \n",
    "        x = self.batch_norm3(x)\n",
    "        x = self.dropout3(x)\n",
    "        x = self.dense3(x)\n",
    "        \n",
    "        return x\n",
    "    \n",
    "def modelling_torch(tr, target, te, sample_seed, last_num):\n",
    "    seed_everything(seed=sample_seed) \n",
    "    X_train = tr.copy()\n",
    "    y_train = target.copy()\n",
    "    X_test = te.copy()\n",
    "    test_len = X_test.shape[0]\n",
    "    \n",
    "    mskf=MultilabelStratifiedKFold(n_splits = n_folds, shuffle=True, random_state=224)\n",
    "    metric = lambda inputs, targets : F.binary_cross_entropy((torch.clamp(torch.sigmoid(inputs), p_min, p_max)), targets)\n",
    "\n",
    "    models = []\n",
    "    \n",
    "    X_test2 = torch.tensor(X_test, dtype=torch.float32)\n",
    "    test = torch.utils.data.TensorDataset(X_test2) \n",
    "    test_loader = torch.utils.data.DataLoader(test, batch_size=batch_size, shuffle=False)\n",
    "    \n",
    "    oof = np.zeros([len(X_train),y_train.shape[1]])\n",
    "    oof_targets = np.zeros([len(X_train),y_train.shape[1]])\n",
    "    pred_value = np.zeros([test_len, y_train.shape[1]])\n",
    "    scores = []\n",
    "    for fold, (train_index, valid_index) in enumerate(mskf.split(X_train, y_train)):\n",
    "        print(\"Fold \"+str(fold+1))\n",
    "        X_train2 = torch.tensor(X_train[train_index,:], dtype=torch.float32)\n",
    "        X_valid2 = torch.tensor(X_train[valid_index,:], dtype=torch.float32)\n",
    "\n",
    "        y_train2 = torch.tensor(y_train[train_index], dtype=torch.float32)\n",
    "        y_valid2 = torch.tensor(y_train[valid_index], dtype=torch.float32)\n",
    "        \n",
    "        train = torch.utils.data.TensorDataset(X_train2, y_train2)\n",
    "        valid = torch.utils.data.TensorDataset(X_valid2, y_valid2)\n",
    "        \n",
    "        train_loader = torch.utils.data.DataLoader(train, batch_size=batch_size, shuffle=True) \n",
    "        valid_loader = torch.utils.data.DataLoader(valid, batch_size=batch_size, shuffle=False)\n",
    "            \n",
    "        clf = MoaModel(mlp_train.shape[1], last_num)\n",
    "        loss_fn = SmoothCrossEntropyLoss(smoothing=smoothing)\n",
    "        \n",
    "        optimizer = optim.Adam(clf.parameters(), lr = 0.001, weight_decay=1e-5) \n",
    "        #scheduler = optim.lr_scheduler.ReduceLROnPlateau(optimizer, mode='min', factor=0.1, patience=3, eps=1e-4, verbose=True)\n",
    "        scheduler = optim.lr_scheduler.OneCycleLR(optimizer=optimizer, pct_start=0.1, div_factor=1e3, \n",
    "                                              max_lr=1e-2, epochs=train_epochs, steps_per_epoch=len(train_loader))\n",
    "        \n",
    "        clf.to(device)\n",
    "        \n",
    "        best_val_loss = np.inf\n",
    "        stop_counts = 0\n",
    "        \n",
    "        for epoch in range(train_epochs):\n",
    "            start_time = time.time()\n",
    "            clf.train()\n",
    "            avg_loss = 0.\n",
    "            sm_avg_loss = 0.\n",
    "            for x_batch, y_batch in tqdm(train_loader, disable=True):\n",
    "                x_batch = x_batch.to(device)\n",
    "                y_batch = y_batch.to(device)\n",
    "                y_pred = clf(x_batch) \n",
    "                loss = loss_fn(y_pred, y_batch)\n",
    "                optimizer.zero_grad()\n",
    "                loss.backward()\n",
    "                optimizer.step()\n",
    "                scheduler.step()\n",
    "                avg_loss += loss.item() / len(train_loader)  \n",
    "                sm_avg_loss += metric(y_pred, y_batch) / len(train_loader) \n",
    "                \n",
    "            clf.eval()\n",
    "            avg_val_loss = 0.\n",
    "            sm_avg_val_loss = 0.\n",
    "            \n",
    "            for i, (x_batch, y_batch) in enumerate(valid_loader): \n",
    "                x_batch = x_batch.to(device)\n",
    "                y_batch = y_batch.to(device)\n",
    "                y_pred = clf(x_batch).detach()\n",
    "                avg_val_loss += loss_fn(y_pred, y_batch).item() / len(valid_loader)\n",
    "                sm_avg_val_loss += metric(y_pred, y_batch) / len(valid_loader)\n",
    "        \n",
    "            elapsed_time = time.time() - start_time \n",
    "            #scheduler.step() #avg_val_loss # maybe mistake\n",
    "                    \n",
    "            if sm_avg_val_loss < best_val_loss:\n",
    "                best_val_loss = sm_avg_val_loss\n",
    "                print('Best: Epoch {}  loss={:.5f}  val_loss={:.5f}  sm_loss={:.5f}  sm_val_loss={:.5f}  time={:.2f}s'.format(\n",
    "                    epoch + 1, avg_loss, avg_val_loss, sm_avg_loss, sm_avg_val_loss, elapsed_time))\n",
    "                torch.save(clf.state_dict(), 'best-model-parameters.pt')\n",
    "            else:\n",
    "                stop_counts += 1\n",
    "                \n",
    "            #if stop_counts >= EARLY_STOPPING_STEPS: \n",
    "            #    break\n",
    "        pred_model = MoaModel(mlp_train.shape[1], last_num)\n",
    "        pred_model.load_state_dict(torch.load('best-model-parameters.pt'))         \n",
    "        pred_model.eval()\n",
    "        \n",
    "        # validation check ----------------\n",
    "        oof_epoch = np.zeros([X_valid2.size(0), y_train.shape[1]])\n",
    "        target_epoch = np.zeros([X_valid2.size(0), y_train.shape[1]])\n",
    "        for i, (x_batch, y_batch) in enumerate(valid_loader): \n",
    "                y_pred = pred_model(x_batch).detach()\n",
    "                oof_epoch[i * batch_size:(i+1) * batch_size,:] = torch.clamp(torch.sigmoid(y_pred.cpu()), p_min, p_max)\n",
    "                target_epoch[i * batch_size:(i+1) * batch_size,:] = y_batch.cpu().numpy()\n",
    "        print(\"Fold {} log loss: {}\".format(fold+1, mean_log_loss(target_epoch, oof_epoch)))\n",
    "        scores.append(mean_log_loss(target_epoch, oof_epoch))\n",
    "        oof[valid_index,:] = oof_epoch\n",
    "        oof_targets[valid_index,:] = target_epoch\n",
    "        #-----------------------------------\n",
    "        \n",
    "        # test predcition --------------\n",
    "        test_preds = np.zeros([test_len, y_train.shape[1]])\n",
    "        for i, (x_batch,) in enumerate(test_loader): \n",
    "            y_pred = pred_model(x_batch).detach()\n",
    "            test_preds[i * batch_size:(i+1) * batch_size, :] = torch.clamp(torch.sigmoid(y_pred.cpu()), p_min, p_max)\n",
    "        pred_value += test_preds / n_folds\n",
    "        # ------------------------------\n",
    "        \n",
    "    print(\"Seed {}\".format(seed_))\n",
    "    for i, ele in enumerate(scores):\n",
    "        print(\"Fold {} log loss: {}\".format(i+1, scores[i]))\n",
    "    print(\"Std of log loss: {}\".format(np.std(scores)))\n",
    "    print(\"Total log loss: {}\".format(mean_log_loss(oof_targets, oof)))\n",
    "    \n",
    "    return oof, oof_targets, pred_value"
   ]
  },
  {
   "cell_type": "code",
   "execution_count": 17,
   "metadata": {
    "execution": {
     "iopub.execute_input": "2020-10-25T07:14:44.321863Z",
     "iopub.status.busy": "2020-10-25T07:14:44.321002Z",
     "iopub.status.idle": "2020-10-25T07:14:44.338706Z",
     "shell.execute_reply": "2020-10-25T07:14:44.338217Z"
    },
    "papermill": {
     "duration": 0.068098,
     "end_time": "2020-10-25T07:14:44.338802",
     "exception": false,
     "start_time": "2020-10-25T07:14:44.270704",
     "status": "completed"
    },
    "tags": []
   },
   "outputs": [
    {
     "ename": "NameError",
     "evalue": "name 'mlp_train' is not defined",
     "output_type": "error",
     "traceback": [
      "\u001b[0;31m---------------------------------------------------------------------------\u001b[0m",
      "\u001b[0;31mNameError\u001b[0m                                 Traceback (most recent call last)",
      "\u001b[0;32m<ipython-input-17-3d23c794f40f>\u001b[0m in \u001b[0;36m<module>\u001b[0;34m\u001b[0m\n\u001b[1;32m      1\u001b[0m \u001b[0mseeds\u001b[0m \u001b[0;34m=\u001b[0m \u001b[0;34m[\u001b[0m\u001b[0;36m0\u001b[0m\u001b[0;34m,\u001b[0m\u001b[0;36m1\u001b[0m\u001b[0;34m,\u001b[0m\u001b[0;36m2\u001b[0m\u001b[0;34m,\u001b[0m\u001b[0;36m3\u001b[0m\u001b[0;34m,\u001b[0m\u001b[0;36m4\u001b[0m\u001b[0;34m,\u001b[0m\u001b[0;36m5\u001b[0m\u001b[0;34m,\u001b[0m\u001b[0;36m6\u001b[0m\u001b[0;34m]\u001b[0m\u001b[0;34m\u001b[0m\u001b[0;34m\u001b[0m\u001b[0m\n\u001b[0;32m----> 2\u001b[0;31m \u001b[0mpytorch1_oof\u001b[0m \u001b[0;34m=\u001b[0m \u001b[0mnp\u001b[0m\u001b[0;34m.\u001b[0m\u001b[0mzeros\u001b[0m\u001b[0;34m(\u001b[0m\u001b[0;34m[\u001b[0m\u001b[0mlen\u001b[0m\u001b[0;34m(\u001b[0m\u001b[0mmlp_train\u001b[0m\u001b[0;34m)\u001b[0m\u001b[0;34m,\u001b[0m\u001b[0mfn_targets\u001b[0m\u001b[0;34m.\u001b[0m\u001b[0mshape\u001b[0m\u001b[0;34m[\u001b[0m\u001b[0;36m1\u001b[0m\u001b[0;34m]\u001b[0m\u001b[0;34m]\u001b[0m\u001b[0;34m)\u001b[0m\u001b[0;34m\u001b[0m\u001b[0;34m\u001b[0m\u001b[0m\n\u001b[0m\u001b[1;32m      3\u001b[0m \u001b[0mpytorch1_test\u001b[0m \u001b[0;34m=\u001b[0m \u001b[0mnp\u001b[0m\u001b[0;34m.\u001b[0m\u001b[0mzeros\u001b[0m\u001b[0;34m(\u001b[0m\u001b[0;34m[\u001b[0m\u001b[0mlen\u001b[0m\u001b[0;34m(\u001b[0m\u001b[0mmlp_test\u001b[0m\u001b[0;34m)\u001b[0m\u001b[0;34m,\u001b[0m\u001b[0mfn_targets\u001b[0m\u001b[0;34m.\u001b[0m\u001b[0mshape\u001b[0m\u001b[0;34m[\u001b[0m\u001b[0;36m1\u001b[0m\u001b[0;34m]\u001b[0m\u001b[0;34m]\u001b[0m\u001b[0;34m)\u001b[0m\u001b[0;34m\u001b[0m\u001b[0;34m\u001b[0m\u001b[0m\n\u001b[1;32m      4\u001b[0m \u001b[0;34m\u001b[0m\u001b[0m\n\u001b[1;32m      5\u001b[0m \u001b[0;32mfor\u001b[0m \u001b[0mseed_\u001b[0m \u001b[0;32min\u001b[0m \u001b[0mseeds\u001b[0m\u001b[0;34m:\u001b[0m\u001b[0;34m\u001b[0m\u001b[0;34m\u001b[0m\u001b[0m\n",
      "\u001b[0;31mNameError\u001b[0m: name 'mlp_train' is not defined"
     ]
    }
   ],
   "source": [
    "seeds = [0,1,2,3,4,5,6]\n",
    "pytorch1_oof = np.zeros([len(mlp_train),fn_targets.shape[1]])\n",
    "pytorch1_test = np.zeros([len(mlp_test),fn_targets.shape[1]])\n",
    "\n",
    "for seed_ in seeds:\n",
    "    oof, oof_targets, pytorch_pred = modelling_torch(mlp_train, fn_targets, mlp_test, seed_, fn_targets.shape[1])\n",
    "    pytorch1_oof += oof / len(seeds)\n",
    "    pytorch1_test += pytorch_pred / len(seeds)\n",
    "\n",
    "#pytorch1_non_oof = np.zeros([len(py_train),fn_non_targets.shape[1]])\n",
    "#pytorch1_nont_test = np.zeros([len(py_test),fn_non_targets.shape[1]])\n",
    "\n",
    "#for seed_ in seeds:\n",
    "#    oof, oof_targets, pytorch_pred = modelling_torch(py_train, fn_non_targets, py_test, seed_, py_train.shape[1], fn_non_targets.shape[1],1)\n",
    "#    pytorch1_non_oof += oof / len(seeds)\n",
    "#    pytorch1_non_test += pytorch_pred / len(seeds)"
   ]
  },
  {
   "cell_type": "code",
   "execution_count": 18,
   "metadata": {
    "execution": {
     "iopub.execute_input": "2020-10-25T07:14:44.428501Z",
     "iopub.status.busy": "2020-10-25T07:14:44.423182Z",
     "iopub.status.idle": "2020-10-25T07:14:44.432165Z",
     "shell.execute_reply": "2020-10-25T07:14:44.432813Z"
    },
    "papermill": {
     "duration": 0.060977,
     "end_time": "2020-10-25T07:14:44.432932",
     "exception": false,
     "start_time": "2020-10-25T07:14:44.371955",
     "status": "completed"
    },
    "tags": []
   },
   "outputs": [
    {
     "ename": "NameError",
     "evalue": "name 'pytorch1_oof' is not defined",
     "output_type": "error",
     "traceback": [
      "\u001b[0;31m---------------------------------------------------------------------------\u001b[0m",
      "\u001b[0;31mNameError\u001b[0m                                 Traceback (most recent call last)",
      "\u001b[0;32m<ipython-input-18-fbdf673159b9>\u001b[0m in \u001b[0;36m<module>\u001b[0;34m\u001b[0m\n\u001b[1;32m      1\u001b[0m \u001b[0mcheck_pytorch1\u001b[0m \u001b[0;34m=\u001b[0m \u001b[0mnp\u001b[0m\u001b[0;34m.\u001b[0m\u001b[0mzeros\u001b[0m\u001b[0;34m(\u001b[0m\u001b[0;34m[\u001b[0m\u001b[0mtargets\u001b[0m\u001b[0;34m.\u001b[0m\u001b[0mshape\u001b[0m\u001b[0;34m[\u001b[0m\u001b[0;36m0\u001b[0m\u001b[0;34m]\u001b[0m\u001b[0;34m,\u001b[0m \u001b[0mtargets\u001b[0m\u001b[0;34m.\u001b[0m\u001b[0mshape\u001b[0m\u001b[0;34m[\u001b[0m\u001b[0;36m1\u001b[0m\u001b[0;34m]\u001b[0m\u001b[0;34m-\u001b[0m\u001b[0;36m1\u001b[0m\u001b[0;34m]\u001b[0m\u001b[0;34m)\u001b[0m\u001b[0;34m\u001b[0m\u001b[0;34m\u001b[0m\u001b[0m\n\u001b[0;32m----> 2\u001b[0;31m \u001b[0mcheck_pytorch1\u001b[0m\u001b[0;34m[\u001b[0m\u001b[0mcons_train_index\u001b[0m\u001b[0;34m,\u001b[0m\u001b[0;34m:\u001b[0m\u001b[0;34m]\u001b[0m \u001b[0;34m=\u001b[0m \u001b[0mpytorch1_oof\u001b[0m\u001b[0;34m\u001b[0m\u001b[0;34m\u001b[0m\u001b[0m\n\u001b[0m\u001b[1;32m      3\u001b[0m \u001b[0mprint\u001b[0m\u001b[0;34m(\u001b[0m\u001b[0;34m'OOF log loss: '\u001b[0m\u001b[0;34m,\u001b[0m \u001b[0mlog_loss\u001b[0m\u001b[0;34m(\u001b[0m\u001b[0mnp\u001b[0m\u001b[0;34m.\u001b[0m\u001b[0mravel\u001b[0m\u001b[0;34m(\u001b[0m\u001b[0my\u001b[0m\u001b[0;34m)\u001b[0m\u001b[0;34m,\u001b[0m \u001b[0mnp\u001b[0m\u001b[0;34m.\u001b[0m\u001b[0mravel\u001b[0m\u001b[0;34m(\u001b[0m\u001b[0mcheck_pytorch1\u001b[0m\u001b[0;34m)\u001b[0m\u001b[0;34m)\u001b[0m\u001b[0;34m)\u001b[0m\u001b[0;34m\u001b[0m\u001b[0;34m\u001b[0m\u001b[0m\n\u001b[1;32m      4\u001b[0m \u001b[0;34m\u001b[0m\u001b[0m\n\u001b[1;32m      5\u001b[0m \u001b[0;31m#check_non_pytorch1 = np.zeros([non_targets.shape[0], non_targets.shape[1]-1])\u001b[0m\u001b[0;34m\u001b[0m\u001b[0;34m\u001b[0m\u001b[0;34m\u001b[0m\u001b[0m\n",
      "\u001b[0;31mNameError\u001b[0m: name 'pytorch1_oof' is not defined"
     ]
    }
   ],
   "source": [
    "check_pytorch1 = np.zeros([targets.shape[0], targets.shape[1]-1])\n",
    "check_pytorch1[cons_train_index,:] = pytorch1_oof\n",
    "print('OOF log loss: ', log_loss(np.ravel(y), np.ravel(check_pytorch1)))\n",
    "\n",
    "#check_non_pytorch1 = np.zeros([non_targets.shape[0], non_targets.shape[1]-1])\n",
    "#check_non_pytorch1[cons_train_index,:] = pytorch1_non_oof\n",
    "#print('OOF log loss: ', log_loss(np.ravel(non_y), np.ravel(check_non_pytorch1)))"
   ]
  },
  {
   "cell_type": "markdown",
   "metadata": {
    "papermill": {
     "duration": 0.034003,
     "end_time": "2020-10-25T07:14:44.500728",
     "exception": false,
     "start_time": "2020-10-25T07:14:44.466725",
     "status": "completed"
    },
    "tags": []
   },
   "source": [
    "# 1st tabnet"
   ]
  },
  {
   "cell_type": "code",
   "execution_count": 19,
   "metadata": {
    "execution": {
     "iopub.execute_input": "2020-10-25T07:14:44.578854Z",
     "iopub.status.busy": "2020-10-25T07:14:44.578029Z",
     "iopub.status.idle": "2020-10-25T07:14:44.580755Z",
     "shell.execute_reply": "2020-10-25T07:14:44.580239Z"
    },
    "papermill": {
     "duration": 0.044302,
     "end_time": "2020-10-25T07:14:44.580845",
     "exception": false,
     "start_time": "2020-10-25T07:14:44.536543",
     "status": "completed"
    },
    "tags": []
   },
   "outputs": [],
   "source": [
    "class LogitsLogLoss(Metric):\n",
    "    def __init__(self):\n",
    "        self._name = \"logits_ll\"\n",
    "        self._maximize = False\n",
    "\n",
    "    def __call__(self, y_true, y_pred):\n",
    "        \"\"\"\n",
    "        Compute LogLoss of predictions.\n",
    "\n",
    "        Parameters\n",
    "        ----------\n",
    "        y_true: np.ndarray\n",
    "            Target matrix or vector\n",
    "        y_score: np.ndarray\n",
    "            Score matrix or vector\n",
    "\n",
    "        Returns\n",
    "        -------\n",
    "            float\n",
    "            LogLoss of predictions vs targets.\n",
    "        \"\"\"\n",
    "        logits = 1 / (1 + np.exp(-y_pred))\n",
    "        aux = (1-y_true)*np.log(1-logits+1e-15) + y_true*np.log(logits+1e-15)\n",
    "        return np.mean(-aux)"
   ]
  },
  {
   "cell_type": "code",
   "execution_count": 20,
   "metadata": {
    "execution": {
     "iopub.execute_input": "2020-10-25T07:14:44.669859Z",
     "iopub.status.busy": "2020-10-25T07:14:44.662310Z",
     "iopub.status.idle": "2020-10-25T07:14:44.672603Z",
     "shell.execute_reply": "2020-10-25T07:14:44.672120Z"
    },
    "papermill": {
     "duration": 0.057806,
     "end_time": "2020-10-25T07:14:44.672699",
     "exception": false,
     "start_time": "2020-10-25T07:14:44.614893",
     "status": "completed"
    },
    "tags": []
   },
   "outputs": [],
   "source": [
    "MAX_EPOCH=200\n",
    "\n",
    "def seed_tabnet_everything(seed_value):\n",
    "    random.seed(seed_value)\n",
    "    np.random.seed(seed_value)\n",
    "    torch.manual_seed(seed_value)\n",
    "    os.environ['PYTHONHASHSEED'] = str(seed_value)\n",
    "    \n",
    "    if torch.cuda.is_available(): \n",
    "        torch.cuda.manual_seed(seed_value)\n",
    "        torch.cuda.manual_seed_all(seed_value)\n",
    "        torch.backends.cudnn.deterministic = True\n",
    "        torch.backends.cudnn.benchmark = False\n",
    "        \n",
    "def modelling_tabnet(tr, target, te, sample_seed):\n",
    "    seed_tabnet_everything(sample_seed) \n",
    "    tabnet_params = dict(n_d=12, n_a=12, n_steps=1, gamma=1.3, seed = sample_seed,\n",
    "                     lambda_sparse=0, optimizer_fn=torch.optim.Adam,\n",
    "                     optimizer_params=dict(lr=2e-2, weight_decay=1e-5),\n",
    "                     mask_type='entmax',\n",
    "                     scheduler_params=dict(mode=\"min\",\n",
    "                                           patience=5,\n",
    "                                           min_lr=1e-5,\n",
    "                                           factor=0.9,),\n",
    "                     scheduler_fn=torch.optim.lr_scheduler.ReduceLROnPlateau,\n",
    "                     verbose=10,\n",
    "                     )\n",
    "    test_cv_preds = []\n",
    "    \n",
    "    NB_SPLITS = 5\n",
    "    mskf = MultilabelStratifiedKFold(n_splits=NB_SPLITS, random_state=0, shuffle=True)\n",
    "    oof_preds = np.zeros([len(tr),target.shape[1]])\n",
    "    scores = []\n",
    "    for fold_nb, (train_idx, val_idx) in enumerate(mskf.split(train, target)):\n",
    "        print(\"FOLDS : \", fold_nb+1)\n",
    "\n",
    "        ## model\n",
    "        X_train, y_train = tr[train_idx, :], target[train_idx, :]\n",
    "        X_val, y_val = tr[val_idx, :], target[val_idx, :]\n",
    "        model = TabNetRegressor(**tabnet_params)\n",
    "        \n",
    "        model.fit(X_train=X_train,\n",
    "              y_train=y_train,\n",
    "              eval_set=[(X_val, y_val)],\n",
    "              eval_name = [\"val\"],\n",
    "              eval_metric = [\"logits_ll\"],\n",
    "              max_epochs=MAX_EPOCH,\n",
    "              patience=20, batch_size=1024, virtual_batch_size=128,\n",
    "              num_workers=1, drop_last=False,\n",
    "              # use binary cross entropy as this is not a regression problem\n",
    "              loss_fn=torch.nn.functional.binary_cross_entropy_with_logits)\n",
    "        \n",
    "        preds_val = model.predict(X_val)\n",
    "        preds =  1 / (1 + np.exp(-preds_val))\n",
    "        score = np.min(model.history[\"val_logits_ll\"])\n",
    "        oof_preds[val_idx,:] = preds\n",
    "        scores.append(score)\n",
    "        \n",
    "        # preds on test\n",
    "        preds_test = model.predict(te)\n",
    "        test_cv_preds.append(1 / (1 + np.exp(-preds_test)))\n",
    "\n",
    "    test_preds_all = np.stack(test_cv_preds)\n",
    "    return oof_preds, test_preds_all"
   ]
  },
  {
   "cell_type": "code",
   "execution_count": 21,
   "metadata": {
    "execution": {
     "iopub.execute_input": "2020-10-25T07:14:44.748476Z",
     "iopub.status.busy": "2020-10-25T07:14:44.747795Z",
     "iopub.status.idle": "2020-10-25T07:17:20.099845Z",
     "shell.execute_reply": "2020-10-25T07:17:20.100704Z"
    },
    "papermill": {
     "duration": 155.394054,
     "end_time": "2020-10-25T07:17:20.100856",
     "exception": false,
     "start_time": "2020-10-25T07:14:44.706802",
     "status": "completed"
    },
    "tags": []
   },
   "outputs": [
    {
     "name": "stdout",
     "output_type": "stream",
     "text": [
      "FOLDS :  1\n",
      "Device used : cuda\n",
      "epoch 0  | loss: 0.57637 | val_logits_ll: 0.31744 |  0:00:01s\n",
      "epoch 10 | loss: 0.02037 | val_logits_ll: 0.02035 |  0:00:14s\n",
      "epoch 20 | loss: 0.01849 | val_logits_ll: 0.01867 |  0:00:27s\n",
      "epoch 30 | loss: 0.01769 | val_logits_ll: 0.018   |  0:00:41s\n",
      "epoch 40 | loss: 0.01719 | val_logits_ll: 0.01763 |  0:00:55s\n",
      "epoch 50 | loss: 0.01679 | val_logits_ll: 0.01768 |  0:01:08s\n",
      "epoch 60 | loss: 0.01652 | val_logits_ll: 0.01709 |  0:01:22s\n",
      "epoch 70 | loss: 0.01625 | val_logits_ll: 0.01709 |  0:01:35s\n",
      "epoch 80 | loss: 0.01624 | val_logits_ll: 0.01703 |  0:01:49s\n",
      "epoch 90 | loss: 0.01597 | val_logits_ll: 0.017   |  0:02:02s\n",
      "epoch 100| loss: 0.01586 | val_logits_ll: 0.01685 |  0:02:15s\n",
      "\n",
      "Early stopping occured at epoch 108 with best_epoch = 88 and best_val_logits_ll = 0.01679\n",
      "Best weights from best epoch are automatically used!\n"
     ]
    },
    {
     "ename": "KeyError",
     "evalue": "0",
     "output_type": "error",
     "traceback": [
      "\u001b[0;31m---------------------------------------------------------------------------\u001b[0m",
      "\u001b[0;31mKeyError\u001b[0m                                  Traceback (most recent call last)",
      "\u001b[0;32m/opt/conda/lib/python3.7/site-packages/pandas/core/indexes/base.py\u001b[0m in \u001b[0;36mget_loc\u001b[0;34m(self, key, method, tolerance)\u001b[0m\n\u001b[1;32m   2894\u001b[0m             \u001b[0;32mtry\u001b[0m\u001b[0;34m:\u001b[0m\u001b[0;34m\u001b[0m\u001b[0;34m\u001b[0m\u001b[0m\n\u001b[0;32m-> 2895\u001b[0;31m                 \u001b[0;32mreturn\u001b[0m \u001b[0mself\u001b[0m\u001b[0;34m.\u001b[0m\u001b[0m_engine\u001b[0m\u001b[0;34m.\u001b[0m\u001b[0mget_loc\u001b[0m\u001b[0;34m(\u001b[0m\u001b[0mcasted_key\u001b[0m\u001b[0;34m)\u001b[0m\u001b[0;34m\u001b[0m\u001b[0;34m\u001b[0m\u001b[0m\n\u001b[0m\u001b[1;32m   2896\u001b[0m             \u001b[0;32mexcept\u001b[0m \u001b[0mKeyError\u001b[0m \u001b[0;32mas\u001b[0m \u001b[0merr\u001b[0m\u001b[0;34m:\u001b[0m\u001b[0;34m\u001b[0m\u001b[0;34m\u001b[0m\u001b[0m\n",
      "\u001b[0;32mpandas/_libs/index.pyx\u001b[0m in \u001b[0;36mpandas._libs.index.IndexEngine.get_loc\u001b[0;34m()\u001b[0m\n",
      "\u001b[0;32mpandas/_libs/index.pyx\u001b[0m in \u001b[0;36mpandas._libs.index.IndexEngine.get_loc\u001b[0;34m()\u001b[0m\n",
      "\u001b[0;32mpandas/_libs/hashtable_class_helper.pxi\u001b[0m in \u001b[0;36mpandas._libs.hashtable.PyObjectHashTable.get_item\u001b[0;34m()\u001b[0m\n",
      "\u001b[0;32mpandas/_libs/hashtable_class_helper.pxi\u001b[0m in \u001b[0;36mpandas._libs.hashtable.PyObjectHashTable.get_item\u001b[0;34m()\u001b[0m\n",
      "\u001b[0;31mKeyError\u001b[0m: 0",
      "\nThe above exception was the direct cause of the following exception:\n",
      "\u001b[0;31mKeyError\u001b[0m                                  Traceback (most recent call last)",
      "\u001b[0;32m<ipython-input-21-a2941505c3aa>\u001b[0m in \u001b[0;36m<module>\u001b[0;34m\u001b[0m\n\u001b[1;32m      4\u001b[0m \u001b[0mseeds\u001b[0m \u001b[0;34m=\u001b[0m \u001b[0;34m[\u001b[0m\u001b[0;36m0\u001b[0m\u001b[0;34m,\u001b[0m\u001b[0;36m1\u001b[0m\u001b[0;34m,\u001b[0m\u001b[0;36m2\u001b[0m\u001b[0;34m]\u001b[0m\u001b[0;34m\u001b[0m\u001b[0;34m\u001b[0m\u001b[0m\n\u001b[1;32m      5\u001b[0m \u001b[0;32mfor\u001b[0m \u001b[0mseed_\u001b[0m \u001b[0;32min\u001b[0m \u001b[0mseeds\u001b[0m\u001b[0;34m:\u001b[0m\u001b[0;34m\u001b[0m\u001b[0;34m\u001b[0m\u001b[0m\n\u001b[0;32m----> 6\u001b[0;31m     \u001b[0moof_preds\u001b[0m\u001b[0;34m,\u001b[0m \u001b[0mtest_preds_all\u001b[0m \u001b[0;34m=\u001b[0m \u001b[0mmodelling_tabnet\u001b[0m\u001b[0;34m(\u001b[0m\u001b[0mpy_train\u001b[0m\u001b[0;34m,\u001b[0m \u001b[0mfn_targets\u001b[0m\u001b[0;34m,\u001b[0m \u001b[0mpy_test\u001b[0m\u001b[0;34m,\u001b[0m \u001b[0mseed_\u001b[0m\u001b[0;34m)\u001b[0m\u001b[0;34m\u001b[0m\u001b[0;34m\u001b[0m\u001b[0m\n\u001b[0m\u001b[1;32m      7\u001b[0m     \u001b[0mtabnet1_oof\u001b[0m \u001b[0;34m+=\u001b[0m \u001b[0moof_preds\u001b[0m \u001b[0;34m/\u001b[0m \u001b[0mlen\u001b[0m\u001b[0;34m(\u001b[0m\u001b[0mseeds\u001b[0m\u001b[0;34m)\u001b[0m\u001b[0;34m\u001b[0m\u001b[0;34m\u001b[0m\u001b[0m\n\u001b[1;32m      8\u001b[0m     \u001b[0mtabnet1_test\u001b[0m \u001b[0;34m+=\u001b[0m \u001b[0mtest_preds_all\u001b[0m\u001b[0;34m.\u001b[0m\u001b[0mmean\u001b[0m\u001b[0;34m(\u001b[0m\u001b[0maxis\u001b[0m\u001b[0;34m=\u001b[0m\u001b[0;36m0\u001b[0m\u001b[0;34m)\u001b[0m \u001b[0;34m/\u001b[0m \u001b[0mlen\u001b[0m\u001b[0;34m(\u001b[0m\u001b[0mseeds\u001b[0m\u001b[0;34m)\u001b[0m\u001b[0;34m\u001b[0m\u001b[0;34m\u001b[0m\u001b[0m\n",
      "\u001b[0;32m<ipython-input-20-8c6c81c36ab3>\u001b[0m in \u001b[0;36mmodelling_tabnet\u001b[0;34m(tr, target, te, sample_seed)\u001b[0m\n\u001b[1;32m     58\u001b[0m \u001b[0;34m\u001b[0m\u001b[0m\n\u001b[1;32m     59\u001b[0m         \u001b[0;31m# preds on test\u001b[0m\u001b[0;34m\u001b[0m\u001b[0;34m\u001b[0m\u001b[0;34m\u001b[0m\u001b[0m\n\u001b[0;32m---> 60\u001b[0;31m         \u001b[0mpreds_test\u001b[0m \u001b[0;34m=\u001b[0m \u001b[0mmodel\u001b[0m\u001b[0;34m.\u001b[0m\u001b[0mpredict\u001b[0m\u001b[0;34m(\u001b[0m\u001b[0mte\u001b[0m\u001b[0;34m)\u001b[0m\u001b[0;34m\u001b[0m\u001b[0;34m\u001b[0m\u001b[0m\n\u001b[0m\u001b[1;32m     61\u001b[0m         \u001b[0mtest_cv_preds\u001b[0m\u001b[0;34m.\u001b[0m\u001b[0mappend\u001b[0m\u001b[0;34m(\u001b[0m\u001b[0;36m1\u001b[0m \u001b[0;34m/\u001b[0m \u001b[0;34m(\u001b[0m\u001b[0;36m1\u001b[0m \u001b[0;34m+\u001b[0m \u001b[0mnp\u001b[0m\u001b[0;34m.\u001b[0m\u001b[0mexp\u001b[0m\u001b[0;34m(\u001b[0m\u001b[0;34m-\u001b[0m\u001b[0mpreds_test\u001b[0m\u001b[0;34m)\u001b[0m\u001b[0;34m)\u001b[0m\u001b[0;34m)\u001b[0m\u001b[0;34m\u001b[0m\u001b[0;34m\u001b[0m\u001b[0m\n\u001b[1;32m     62\u001b[0m \u001b[0;34m\u001b[0m\u001b[0m\n",
      "\u001b[0;32m/opt/conda/lib/python3.7/site-packages/pytorch_tabnet/abstract_model.py\u001b[0m in \u001b[0;36mpredict\u001b[0;34m(self, X)\u001b[0m\n\u001b[1;32m    212\u001b[0m \u001b[0;34m\u001b[0m\u001b[0m\n\u001b[1;32m    213\u001b[0m         \u001b[0mresults\u001b[0m \u001b[0;34m=\u001b[0m \u001b[0;34m[\u001b[0m\u001b[0;34m]\u001b[0m\u001b[0;34m\u001b[0m\u001b[0;34m\u001b[0m\u001b[0m\n\u001b[0;32m--> 214\u001b[0;31m         \u001b[0;32mfor\u001b[0m \u001b[0mbatch_nb\u001b[0m\u001b[0;34m,\u001b[0m \u001b[0mdata\u001b[0m \u001b[0;32min\u001b[0m \u001b[0menumerate\u001b[0m\u001b[0;34m(\u001b[0m\u001b[0mdataloader\u001b[0m\u001b[0;34m)\u001b[0m\u001b[0;34m:\u001b[0m\u001b[0;34m\u001b[0m\u001b[0;34m\u001b[0m\u001b[0m\n\u001b[0m\u001b[1;32m    215\u001b[0m             \u001b[0mdata\u001b[0m \u001b[0;34m=\u001b[0m \u001b[0mdata\u001b[0m\u001b[0;34m.\u001b[0m\u001b[0mto\u001b[0m\u001b[0;34m(\u001b[0m\u001b[0mself\u001b[0m\u001b[0;34m.\u001b[0m\u001b[0mdevice\u001b[0m\u001b[0;34m)\u001b[0m\u001b[0;34m.\u001b[0m\u001b[0mfloat\u001b[0m\u001b[0;34m(\u001b[0m\u001b[0;34m)\u001b[0m\u001b[0;34m\u001b[0m\u001b[0;34m\u001b[0m\u001b[0m\n\u001b[1;32m    216\u001b[0m             \u001b[0moutput\u001b[0m\u001b[0;34m,\u001b[0m \u001b[0mM_loss\u001b[0m \u001b[0;34m=\u001b[0m \u001b[0mself\u001b[0m\u001b[0;34m.\u001b[0m\u001b[0mnetwork\u001b[0m\u001b[0;34m(\u001b[0m\u001b[0mdata\u001b[0m\u001b[0;34m)\u001b[0m\u001b[0;34m\u001b[0m\u001b[0;34m\u001b[0m\u001b[0m\n",
      "\u001b[0;32m/opt/conda/lib/python3.7/site-packages/torch/utils/data/dataloader.py\u001b[0m in \u001b[0;36m__next__\u001b[0;34m(self)\u001b[0m\n\u001b[1;32m    361\u001b[0m \u001b[0;34m\u001b[0m\u001b[0m\n\u001b[1;32m    362\u001b[0m     \u001b[0;32mdef\u001b[0m \u001b[0m__next__\u001b[0m\u001b[0;34m(\u001b[0m\u001b[0mself\u001b[0m\u001b[0;34m)\u001b[0m\u001b[0;34m:\u001b[0m\u001b[0;34m\u001b[0m\u001b[0;34m\u001b[0m\u001b[0m\n\u001b[0;32m--> 363\u001b[0;31m         \u001b[0mdata\u001b[0m \u001b[0;34m=\u001b[0m \u001b[0mself\u001b[0m\u001b[0;34m.\u001b[0m\u001b[0m_next_data\u001b[0m\u001b[0;34m(\u001b[0m\u001b[0;34m)\u001b[0m\u001b[0;34m\u001b[0m\u001b[0;34m\u001b[0m\u001b[0m\n\u001b[0m\u001b[1;32m    364\u001b[0m         \u001b[0mself\u001b[0m\u001b[0;34m.\u001b[0m\u001b[0m_num_yielded\u001b[0m \u001b[0;34m+=\u001b[0m \u001b[0;36m1\u001b[0m\u001b[0;34m\u001b[0m\u001b[0;34m\u001b[0m\u001b[0m\n\u001b[1;32m    365\u001b[0m         \u001b[0;32mif\u001b[0m \u001b[0mself\u001b[0m\u001b[0;34m.\u001b[0m\u001b[0m_dataset_kind\u001b[0m \u001b[0;34m==\u001b[0m \u001b[0m_DatasetKind\u001b[0m\u001b[0;34m.\u001b[0m\u001b[0mIterable\u001b[0m \u001b[0;32mand\u001b[0m\u001b[0;31m \u001b[0m\u001b[0;31m\\\u001b[0m\u001b[0;34m\u001b[0m\u001b[0;34m\u001b[0m\u001b[0m\n",
      "\u001b[0;32m/opt/conda/lib/python3.7/site-packages/torch/utils/data/dataloader.py\u001b[0m in \u001b[0;36m_next_data\u001b[0;34m(self)\u001b[0m\n\u001b[1;32m    401\u001b[0m     \u001b[0;32mdef\u001b[0m \u001b[0m_next_data\u001b[0m\u001b[0;34m(\u001b[0m\u001b[0mself\u001b[0m\u001b[0;34m)\u001b[0m\u001b[0;34m:\u001b[0m\u001b[0;34m\u001b[0m\u001b[0;34m\u001b[0m\u001b[0m\n\u001b[1;32m    402\u001b[0m         \u001b[0mindex\u001b[0m \u001b[0;34m=\u001b[0m \u001b[0mself\u001b[0m\u001b[0;34m.\u001b[0m\u001b[0m_next_index\u001b[0m\u001b[0;34m(\u001b[0m\u001b[0;34m)\u001b[0m  \u001b[0;31m# may raise StopIteration\u001b[0m\u001b[0;34m\u001b[0m\u001b[0;34m\u001b[0m\u001b[0m\n\u001b[0;32m--> 403\u001b[0;31m         \u001b[0mdata\u001b[0m \u001b[0;34m=\u001b[0m \u001b[0mself\u001b[0m\u001b[0;34m.\u001b[0m\u001b[0m_dataset_fetcher\u001b[0m\u001b[0;34m.\u001b[0m\u001b[0mfetch\u001b[0m\u001b[0;34m(\u001b[0m\u001b[0mindex\u001b[0m\u001b[0;34m)\u001b[0m  \u001b[0;31m# may raise StopIteration\u001b[0m\u001b[0;34m\u001b[0m\u001b[0;34m\u001b[0m\u001b[0m\n\u001b[0m\u001b[1;32m    404\u001b[0m         \u001b[0;32mif\u001b[0m \u001b[0mself\u001b[0m\u001b[0;34m.\u001b[0m\u001b[0m_pin_memory\u001b[0m\u001b[0;34m:\u001b[0m\u001b[0;34m\u001b[0m\u001b[0;34m\u001b[0m\u001b[0m\n\u001b[1;32m    405\u001b[0m             \u001b[0mdata\u001b[0m \u001b[0;34m=\u001b[0m \u001b[0m_utils\u001b[0m\u001b[0;34m.\u001b[0m\u001b[0mpin_memory\u001b[0m\u001b[0;34m.\u001b[0m\u001b[0mpin_memory\u001b[0m\u001b[0;34m(\u001b[0m\u001b[0mdata\u001b[0m\u001b[0;34m)\u001b[0m\u001b[0;34m\u001b[0m\u001b[0;34m\u001b[0m\u001b[0m\n",
      "\u001b[0;32m/opt/conda/lib/python3.7/site-packages/torch/utils/data/_utils/fetch.py\u001b[0m in \u001b[0;36mfetch\u001b[0;34m(self, possibly_batched_index)\u001b[0m\n\u001b[1;32m     42\u001b[0m     \u001b[0;32mdef\u001b[0m \u001b[0mfetch\u001b[0m\u001b[0;34m(\u001b[0m\u001b[0mself\u001b[0m\u001b[0;34m,\u001b[0m \u001b[0mpossibly_batched_index\u001b[0m\u001b[0;34m)\u001b[0m\u001b[0;34m:\u001b[0m\u001b[0;34m\u001b[0m\u001b[0;34m\u001b[0m\u001b[0m\n\u001b[1;32m     43\u001b[0m         \u001b[0;32mif\u001b[0m \u001b[0mself\u001b[0m\u001b[0;34m.\u001b[0m\u001b[0mauto_collation\u001b[0m\u001b[0;34m:\u001b[0m\u001b[0;34m\u001b[0m\u001b[0;34m\u001b[0m\u001b[0m\n\u001b[0;32m---> 44\u001b[0;31m             \u001b[0mdata\u001b[0m \u001b[0;34m=\u001b[0m \u001b[0;34m[\u001b[0m\u001b[0mself\u001b[0m\u001b[0;34m.\u001b[0m\u001b[0mdataset\u001b[0m\u001b[0;34m[\u001b[0m\u001b[0midx\u001b[0m\u001b[0;34m]\u001b[0m \u001b[0;32mfor\u001b[0m \u001b[0midx\u001b[0m \u001b[0;32min\u001b[0m \u001b[0mpossibly_batched_index\u001b[0m\u001b[0;34m]\u001b[0m\u001b[0;34m\u001b[0m\u001b[0;34m\u001b[0m\u001b[0m\n\u001b[0m\u001b[1;32m     45\u001b[0m         \u001b[0;32melse\u001b[0m\u001b[0;34m:\u001b[0m\u001b[0;34m\u001b[0m\u001b[0;34m\u001b[0m\u001b[0m\n\u001b[1;32m     46\u001b[0m             \u001b[0mdata\u001b[0m \u001b[0;34m=\u001b[0m \u001b[0mself\u001b[0m\u001b[0;34m.\u001b[0m\u001b[0mdataset\u001b[0m\u001b[0;34m[\u001b[0m\u001b[0mpossibly_batched_index\u001b[0m\u001b[0;34m]\u001b[0m\u001b[0;34m\u001b[0m\u001b[0;34m\u001b[0m\u001b[0m\n",
      "\u001b[0;32m/opt/conda/lib/python3.7/site-packages/torch/utils/data/_utils/fetch.py\u001b[0m in \u001b[0;36m<listcomp>\u001b[0;34m(.0)\u001b[0m\n\u001b[1;32m     42\u001b[0m     \u001b[0;32mdef\u001b[0m \u001b[0mfetch\u001b[0m\u001b[0;34m(\u001b[0m\u001b[0mself\u001b[0m\u001b[0;34m,\u001b[0m \u001b[0mpossibly_batched_index\u001b[0m\u001b[0;34m)\u001b[0m\u001b[0;34m:\u001b[0m\u001b[0;34m\u001b[0m\u001b[0;34m\u001b[0m\u001b[0m\n\u001b[1;32m     43\u001b[0m         \u001b[0;32mif\u001b[0m \u001b[0mself\u001b[0m\u001b[0;34m.\u001b[0m\u001b[0mauto_collation\u001b[0m\u001b[0;34m:\u001b[0m\u001b[0;34m\u001b[0m\u001b[0;34m\u001b[0m\u001b[0m\n\u001b[0;32m---> 44\u001b[0;31m             \u001b[0mdata\u001b[0m \u001b[0;34m=\u001b[0m \u001b[0;34m[\u001b[0m\u001b[0mself\u001b[0m\u001b[0;34m.\u001b[0m\u001b[0mdataset\u001b[0m\u001b[0;34m[\u001b[0m\u001b[0midx\u001b[0m\u001b[0;34m]\u001b[0m \u001b[0;32mfor\u001b[0m \u001b[0midx\u001b[0m \u001b[0;32min\u001b[0m \u001b[0mpossibly_batched_index\u001b[0m\u001b[0;34m]\u001b[0m\u001b[0;34m\u001b[0m\u001b[0;34m\u001b[0m\u001b[0m\n\u001b[0m\u001b[1;32m     45\u001b[0m         \u001b[0;32melse\u001b[0m\u001b[0;34m:\u001b[0m\u001b[0;34m\u001b[0m\u001b[0;34m\u001b[0m\u001b[0m\n\u001b[1;32m     46\u001b[0m             \u001b[0mdata\u001b[0m \u001b[0;34m=\u001b[0m \u001b[0mself\u001b[0m\u001b[0;34m.\u001b[0m\u001b[0mdataset\u001b[0m\u001b[0;34m[\u001b[0m\u001b[0mpossibly_batched_index\u001b[0m\u001b[0;34m]\u001b[0m\u001b[0;34m\u001b[0m\u001b[0;34m\u001b[0m\u001b[0m\n",
      "\u001b[0;32m/opt/conda/lib/python3.7/site-packages/pytorch_tabnet/utils.py\u001b[0m in \u001b[0;36m__getitem__\u001b[0;34m(self, index)\u001b[0m\n\u001b[1;32m     47\u001b[0m \u001b[0;34m\u001b[0m\u001b[0m\n\u001b[1;32m     48\u001b[0m     \u001b[0;32mdef\u001b[0m \u001b[0m__getitem__\u001b[0m\u001b[0;34m(\u001b[0m\u001b[0mself\u001b[0m\u001b[0;34m,\u001b[0m \u001b[0mindex\u001b[0m\u001b[0;34m)\u001b[0m\u001b[0;34m:\u001b[0m\u001b[0;34m\u001b[0m\u001b[0;34m\u001b[0m\u001b[0m\n\u001b[0;32m---> 49\u001b[0;31m         \u001b[0mx\u001b[0m \u001b[0;34m=\u001b[0m \u001b[0mself\u001b[0m\u001b[0;34m.\u001b[0m\u001b[0mx\u001b[0m\u001b[0;34m[\u001b[0m\u001b[0mindex\u001b[0m\u001b[0;34m]\u001b[0m\u001b[0;34m\u001b[0m\u001b[0;34m\u001b[0m\u001b[0m\n\u001b[0m\u001b[1;32m     50\u001b[0m         \u001b[0;32mreturn\u001b[0m \u001b[0mx\u001b[0m\u001b[0;34m\u001b[0m\u001b[0;34m\u001b[0m\u001b[0m\n\u001b[1;32m     51\u001b[0m \u001b[0;34m\u001b[0m\u001b[0m\n",
      "\u001b[0;32m/opt/conda/lib/python3.7/site-packages/pandas/core/frame.py\u001b[0m in \u001b[0;36m__getitem__\u001b[0;34m(self, key)\u001b[0m\n\u001b[1;32m   2900\u001b[0m             \u001b[0;32mif\u001b[0m \u001b[0mself\u001b[0m\u001b[0;34m.\u001b[0m\u001b[0mcolumns\u001b[0m\u001b[0;34m.\u001b[0m\u001b[0mnlevels\u001b[0m \u001b[0;34m>\u001b[0m \u001b[0;36m1\u001b[0m\u001b[0;34m:\u001b[0m\u001b[0;34m\u001b[0m\u001b[0;34m\u001b[0m\u001b[0m\n\u001b[1;32m   2901\u001b[0m                 \u001b[0;32mreturn\u001b[0m \u001b[0mself\u001b[0m\u001b[0;34m.\u001b[0m\u001b[0m_getitem_multilevel\u001b[0m\u001b[0;34m(\u001b[0m\u001b[0mkey\u001b[0m\u001b[0;34m)\u001b[0m\u001b[0;34m\u001b[0m\u001b[0;34m\u001b[0m\u001b[0m\n\u001b[0;32m-> 2902\u001b[0;31m             \u001b[0mindexer\u001b[0m \u001b[0;34m=\u001b[0m \u001b[0mself\u001b[0m\u001b[0;34m.\u001b[0m\u001b[0mcolumns\u001b[0m\u001b[0;34m.\u001b[0m\u001b[0mget_loc\u001b[0m\u001b[0;34m(\u001b[0m\u001b[0mkey\u001b[0m\u001b[0;34m)\u001b[0m\u001b[0;34m\u001b[0m\u001b[0;34m\u001b[0m\u001b[0m\n\u001b[0m\u001b[1;32m   2903\u001b[0m             \u001b[0;32mif\u001b[0m \u001b[0mis_integer\u001b[0m\u001b[0;34m(\u001b[0m\u001b[0mindexer\u001b[0m\u001b[0;34m)\u001b[0m\u001b[0;34m:\u001b[0m\u001b[0;34m\u001b[0m\u001b[0;34m\u001b[0m\u001b[0m\n\u001b[1;32m   2904\u001b[0m                 \u001b[0mindexer\u001b[0m \u001b[0;34m=\u001b[0m \u001b[0;34m[\u001b[0m\u001b[0mindexer\u001b[0m\u001b[0;34m]\u001b[0m\u001b[0;34m\u001b[0m\u001b[0;34m\u001b[0m\u001b[0m\n",
      "\u001b[0;32m/opt/conda/lib/python3.7/site-packages/pandas/core/indexes/base.py\u001b[0m in \u001b[0;36mget_loc\u001b[0;34m(self, key, method, tolerance)\u001b[0m\n\u001b[1;32m   2895\u001b[0m                 \u001b[0;32mreturn\u001b[0m \u001b[0mself\u001b[0m\u001b[0;34m.\u001b[0m\u001b[0m_engine\u001b[0m\u001b[0;34m.\u001b[0m\u001b[0mget_loc\u001b[0m\u001b[0;34m(\u001b[0m\u001b[0mcasted_key\u001b[0m\u001b[0;34m)\u001b[0m\u001b[0;34m\u001b[0m\u001b[0;34m\u001b[0m\u001b[0m\n\u001b[1;32m   2896\u001b[0m             \u001b[0;32mexcept\u001b[0m \u001b[0mKeyError\u001b[0m \u001b[0;32mas\u001b[0m \u001b[0merr\u001b[0m\u001b[0;34m:\u001b[0m\u001b[0;34m\u001b[0m\u001b[0;34m\u001b[0m\u001b[0m\n\u001b[0;32m-> 2897\u001b[0;31m                 \u001b[0;32mraise\u001b[0m \u001b[0mKeyError\u001b[0m\u001b[0;34m(\u001b[0m\u001b[0mkey\u001b[0m\u001b[0;34m)\u001b[0m \u001b[0;32mfrom\u001b[0m \u001b[0merr\u001b[0m\u001b[0;34m\u001b[0m\u001b[0;34m\u001b[0m\u001b[0m\n\u001b[0m\u001b[1;32m   2898\u001b[0m \u001b[0;34m\u001b[0m\u001b[0m\n\u001b[1;32m   2899\u001b[0m         \u001b[0;32mif\u001b[0m \u001b[0mtolerance\u001b[0m \u001b[0;32mis\u001b[0m \u001b[0;32mnot\u001b[0m \u001b[0;32mNone\u001b[0m\u001b[0;34m:\u001b[0m\u001b[0;34m\u001b[0m\u001b[0;34m\u001b[0m\u001b[0m\n",
      "\u001b[0;31mKeyError\u001b[0m: 0"
     ]
    }
   ],
   "source": [
    "tabnet1_oof = np.zeros([len(py_train),fn_targets.shape[1]])\n",
    "tabnet1_test = np.zeros([len(py_test),fn_targets.shape[1]])\n",
    "\n",
    "seeds = [0,1,2]\n",
    "for seed_ in seeds:\n",
    "    oof_preds, test_preds_all = modelling_tabnet(py_train, fn_targets, py_test, seed_)\n",
    "    tabnet1_oof += oof_preds / len(seeds)\n",
    "    tabnet1_test += test_preds_all.mean(axis=0) / len(seeds)\n",
    "    \n",
    "#tabnet1_non_oof = np.zeros([len(py_train),fn_non_targets.shape[1]])\n",
    "#tabnet1_nont_test = np.zeros([len(py_test),fn_non_targets.shape[1]])\n",
    "\n",
    "#for seed_ in seeds:\n",
    "#    oof_preds, test_preds_all = modelling_tabnet(py_train, fn_non_targets, py_test, seed_)\n",
    "#    tabnet1_non_oof += oof_preds / len(seeds)\n",
    "#    tabnet1_non_test += test_preds_all.mean(axis=0) / len(seeds)"
   ]
  },
  {
   "cell_type": "code",
   "execution_count": 22,
   "metadata": {
    "execution": {
     "iopub.execute_input": "2020-10-25T07:17:20.200073Z",
     "iopub.status.busy": "2020-10-25T07:17:20.199153Z",
     "iopub.status.idle": "2020-10-25T07:17:21.730796Z",
     "shell.execute_reply": "2020-10-25T07:17:21.730247Z"
    },
    "papermill": {
     "duration": 1.587216,
     "end_time": "2020-10-25T07:17:21.730914",
     "exception": false,
     "start_time": "2020-10-25T07:17:20.143698",
     "status": "completed"
    },
    "tags": []
   },
   "outputs": [
    {
     "name": "stdout",
     "output_type": "stream",
     "text": [
      "OOF log loss:  0.11859124020134244\n"
     ]
    }
   ],
   "source": [
    "check_tabnet1 = np.zeros([targets.shape[0], targets.shape[1]-1])\n",
    "check_tabnet1[cons_train_index,:] = tabnet1_oof\n",
    "print('OOF log loss: ', log_loss(np.ravel(y), np.ravel(check_tabnet1)))\n",
    "\n",
    "#check_non_tabnet1 = np.zeros([non_targets.shape[0], non_targets.shape[1]-1])\n",
    "#check_non_tabnet1[cons_train_index,:] = tabnet1_non_oof\n",
    "#print('OOF log loss: ', log_loss(np.ravel(non_y), np.ravel(check_non_tabnet1)))"
   ]
  },
  {
   "cell_type": "markdown",
   "metadata": {
    "papermill": {
     "duration": 0.039752,
     "end_time": "2020-10-25T07:17:21.810708",
     "exception": false,
     "start_time": "2020-10-25T07:17:21.770956",
     "status": "completed"
    },
    "tags": []
   },
   "source": [
    "# 1st SVM"
   ]
  },
  {
   "cell_type": "code",
   "execution_count": 23,
   "metadata": {
    "execution": {
     "iopub.execute_input": "2020-10-25T07:17:21.912752Z",
     "iopub.status.busy": "2020-10-25T07:17:21.911983Z",
     "iopub.status.idle": "2020-10-25T07:17:21.915550Z",
     "shell.execute_reply": "2020-10-25T07:17:21.915991Z"
    },
    "papermill": {
     "duration": 0.065021,
     "end_time": "2020-10-25T07:17:21.916113",
     "exception": false,
     "start_time": "2020-10-25T07:17:21.851092",
     "status": "completed"
    },
    "tags": []
   },
   "outputs": [],
   "source": [
    "N_STARTS = 2\n",
    "N_SPLITS = 5\n",
    "\n",
    "def modelling_svm(tr, ta, te):\n",
    "    svm0_oof = np.zeros([len(tr), ta.shape[1]])\n",
    "    svm0_test = np.zeros([len(te), ta.shape[1]])\n",
    "\n",
    "    svm1_test = np.zeros([len(te),ta.shape[1]])\n",
    "    svm1_oof = np.zeros([ta.shape[0],ta.shape[1]]) \n",
    "\n",
    "    for ind in tqdm(range(ta.shape[1])):\n",
    "        ind_target_sum = ta[:, ind].sum()\n",
    "        if ind_target_sum >= N_SPLITS:\n",
    "            for seed in range(N_STARTS):\n",
    "                skf = StratifiedKFold(n_splits = N_SPLITS, random_state = seed, shuffle = True)\n",
    "\n",
    "                for n, (train_index, val_index) in enumerate(skf.split(tr, ta[:,ind])):\n",
    "                \n",
    "                    x_tr, x_val = tr[train_index], tr[val_index]\n",
    "                    y_tr, y_val = ta[train_index,ind], ta[val_index,ind]\n",
    "\n",
    "                    model = SVC(C = 40, cache_size = 2000)\n",
    "                    model.fit(x_tr, y_tr)\n",
    "                    svm0_test[:, ind] += model.decision_function(te) / (N_SPLITS * N_STARTS)\n",
    "                    svm0_oof[val_index, ind] += model.decision_function(x_val) / N_STARTS\n",
    "\n",
    "            for seed in range(N_STARTS):\n",
    "                skf = StratifiedKFold(n_splits = N_SPLITS, random_state = seed, shuffle = True)\n",
    "\n",
    "                for n, (train_index, val_index) in enumerate(skf.split(svm0_oof, ta[:,ind])):\n",
    "\n",
    "                    x_tr, x_val = svm0_oof[train_index, ind].reshape(-1, 1), svm0_oof[val_index, ind].reshape(-1, 1)\n",
    "                    y_tr, y_val = ta[train_index,ind], ta[val_index,ind]\n",
    "\n",
    "                    model = LogisticRegression(C = 35, max_iter = 1000)\n",
    "                    model.fit(x_tr, y_tr)\n",
    "                    svm1_test[:, ind] += model.predict_proba(svm0_test[:, ind].reshape(-1, 1))[:, 1] / (N_SPLITS * N_STARTS)\n",
    "                    svm1_oof[val_index, ind] += model.predict_proba(x_val)[:, 1] / N_STARTS\n",
    "\n",
    "        score1 = log_loss(ta[:, ind], svm0_oof[:, ind])\n",
    "        score2 = log_loss(ta[:, ind], svm1_oof[:, ind])\n",
    "        print('SVM Target ind {} score {}: {}'.format(ind, score1, score2))\n",
    "\n",
    "    return svm1_test, svm1_oof"
   ]
  },
  {
   "cell_type": "code",
   "execution_count": 24,
   "metadata": {
    "execution": {
     "iopub.execute_input": "2020-10-25T07:17:22.001837Z",
     "iopub.status.busy": "2020-10-25T07:17:22.000522Z",
     "iopub.status.idle": "2020-10-25T07:34:45.543028Z",
     "shell.execute_reply": "2020-10-25T07:34:45.540005Z"
    },
    "papermill": {
     "duration": 1043.587245,
     "end_time": "2020-10-25T07:34:45.543201",
     "exception": false,
     "start_time": "2020-10-25T07:17:21.955956",
     "status": "completed"
    },
    "tags": []
   },
   "outputs": [
    {
     "data": {
      "application/vnd.jupyter.widget-view+json": {
       "model_id": "1a313a8210ce4612beed3518dcd46466",
       "version_major": 2,
       "version_minor": 0
      },
      "text/plain": [
       "HBox(children=(FloatProgress(value=0.0, max=206.0), HTML(value='')))"
      ]
     },
     "metadata": {},
     "output_type": "display_data"
    },
    {
     "name": "stdout",
     "output_type": "stream",
     "text": [
      "SVM Target ind 0 score 0.0267522871657328: 0.005181874735612381\n",
      "SVM Target ind 1 score 0.028325951116658196: 0.006586966815299651\n",
      "SVM Target ind 2 score 0.0377679348222106: 0.008580329711901442\n",
      "SVM Target ind 3 score 0.298996150675827: 0.04903072262435783\n",
      "SVM Target ind 4 score 0.47367284922854636: 0.07158953461709613\n",
      "SVM Target ind 5 score 0.11487746841755518: 0.02231289494950456\n",
      "SVM Target ind 6 score 0.0849778533499726: 0.01717121600821699\n",
      "SVM Target ind 7 score 0.15107173928883938: 0.027630238226935493\n",
      "SVM Target ind 8 score 0.0188839674111058: 0.0009539206647488683\n",
      "SVM Target ind 9 score 0.4176133641787846: 0.06045434081374238\n",
      "SVM Target ind 10 score 0.566519022333145: 0.0829732299871368\n",
      "SVM Target ind 11 score 0.07887971089976696: 0.011526115161893308\n",
      "SVM Target ind 12 score 0.0110156476564788: 0.0005316688305327448\n",
      "SVM Target ind 13 score 0.06609388593886781: 0.009941056931147121\n",
      "SVM Target ind 14 score 0.0188839674111058: 0.004697025087522609\n",
      "SVM Target ind 15 score 0.018883967411105797: 0.004667834681082648\n",
      "SVM Target ind 16 score 0.0755358696444202: 0.015612383307909932\n",
      "SVM Target ind 17 score 0.14005609163236157: 0.026200268250643356\n",
      "SVM Target ind 18 score 0.125893116074033: 0.024078015194507866\n",
      "SVM Target ind 19 score 0.0566519022333154: 0.012209019781281224\n",
      "SVM Target ind 20 score 0.058225566184240796: 0.012024633824209091\n",
      "SVM Target ind 21 score 0.1148774684175552: 0.020860147931232594\n",
      "SVM Target ind 22 score 0.009441983705553398: 0.002447469963890252\n",
      "SVM Target ind 23 score 0.06766754988979319: 0.013332394470582747\n",
      "SVM Target ind 24 score 0.0188839674111058: 0.004567555036119017\n",
      "SVM Target ind 25 score 0.020457631362031197: 0.004503353433002115\n",
      "SVM Target ind 26 score 0.018883967411105797: 0.004624139673079192\n",
      "SVM Target ind 27 score 0.028325951116658196: 0.0066243239408234995\n",
      "SVM Target ind 28 score 0.1148774684175552: 0.021704322128381633\n",
      "SVM Target ind 29 score 0.0566519022333154: 0.011971629222017322\n",
      "SVM Target ind 30 score 0.036194270871285204: 0.008062371713479677\n",
      "SVM Target ind 31 score 0.0771095335953456: 0.015539610992826651\n",
      "SVM Target ind 32 score 0.0739622056934948: 0.015248259054413413\n",
      "SVM Target ind 33 score 0.009441983705553401: 0.00139301505211886\n",
      "SVM Target ind 34 score 0.0015736639509263987: 0.0015736639509263987\n",
      "SVM Target ind 35 score 0.017424345007867048: 0.0007302969310516513\n",
      "SVM Target ind 36 score 0.1526547457441769: 0.0244588222225699\n",
      "SVM Target ind 37 score 0.027034264755360127: 0.002654419894505829\n",
      "SVM Target ind 38 score 0.10458569067431764: 0.010871836434706501\n",
      "SVM Target ind 39 score 0.0094419837055534: 0.0023912562146357645\n",
      "SVM Target ind 40 score 0.094419837055525: 0.018859620985490728\n",
      "SVM Target ind 41 score 0.12591455413906028: 0.02249613686534826\n",
      "SVM Target ind 42 score 0.056651902233315385: 0.011784184401813324\n",
      "SVM Target ind 43 score 0.3021434785776778: 0.0497108438187227\n",
      "SVM Target ind 44 score 0.1400560916323616: 0.02561419704430546\n",
      "SVM Target ind 45 score 0.180971354356422: 0.030460607495836286\n",
      "SVM Target ind 46 score 0.0110156476564788: 0.0014615030269558864\n",
      "SVM Target ind 47 score 0.04738170275293462: 0.006553436965908273\n",
      "SVM Target ind 48 score 0.05979923013516619: 0.009529355826913378\n",
      "SVM Target ind 49 score 0.1054354847120028: 0.02000638793397432\n",
      "SVM Target ind 50 score 0.037767934822210594: 0.008550666433185493\n",
      "SVM Target ind 51 score 0.08172084444189436: 0.013034997919343948\n",
      "SVM Target ind 52 score 0.04563625457683759: 0.007626617430109516\n",
      "SVM Target ind 53 score 0.0094419837055534: 0.00243413092913951\n",
      "SVM Target ind 54 score 0.4421995702100385: 0.06792781978047564\n",
      "SVM Target ind 55 score 0.0660938859388678: 0.013614881140957609\n",
      "SVM Target ind 56 score 0.086551517300898: 0.01651526068392782\n",
      "SVM Target ind 57 score 0.0566519022333154: 0.01213712616721176\n",
      "SVM Target ind 58 score 0.0566519022333154: 0.011335444662379141\n",
      "SVM Target ind 59 score 0.028325951116658196: 0.006651231699782459\n",
      "SVM Target ind 60 score 0.018883967411105793: 0.004648524102524709\n",
      "SVM Target ind 61 score 0.16051372299439182: 0.02960240561439818\n",
      "SVM Target ind 62 score 0.028325951116658196: 0.006473274725498903\n",
      "SVM Target ind 63 score 0.18057786390694225: 0.019761881050419625\n",
      "SVM Target ind 64 score 0.0849778533499726: 0.017009379535656524\n",
      "SVM Target ind 65 score 0.03339432001066636: 0.0019093182823785074\n",
      "SVM Target ind 66 score 0.06609388593886781: 0.013408796696857524\n",
      "SVM Target ind 67 score 0.0755358696444202: 0.0150888849004766\n",
      "SVM Target ind 68 score 0.0849778533499726: 0.016925665587815008\n",
      "SVM Target ind 69 score 0.0094419837055534: 0.0025586647858982427\n",
      "SVM Target ind 70 score 0.0566519022333154: 0.010074563819364253\n",
      "SVM Target ind 71 score 0.6845543070756144: 0.09282335288212218\n",
      "SVM Target ind 72 score 0.16366105089624258: 0.029947677565916164\n",
      "SVM Target ind 73 score 0.049285469131057906: 0.009181336792782638\n",
      "SVM Target ind 74 score 0.039341598773136: 0.008454875878786095\n",
      "SVM Target ind 75 score 0.0094419837055534: 0.0025302112311348566\n",
      "SVM Target ind 76 score 0.07553586964442019: 0.014818178595640046\n",
      "SVM Target ind 77 score 0.6104474269529333: 0.08467396998033747\n",
      "SVM Target ind 78 score 0.19041333806197436: 0.03374847621724496\n",
      "SVM Target ind 79 score 0.6628246356250926: 0.09090624095343657\n",
      "SVM Target ind 80 score 0.15935324530405812: 0.018749776460743925\n",
      "SVM Target ind 81 score 0.009441983705553398: 0.0025230278184656145\n",
      "SVM Target ind 82 score 0.0015736639509263994: 0.0015736639509263994\n",
      "SVM Target ind 83 score 0.24863890424621418: 0.041410013298798204\n",
      "SVM Target ind 84 score 0.0755358696444202: 0.014823162625372371\n",
      "SVM Target ind 85 score 0.0566519022333154: 0.011602838449441476\n",
      "SVM Target ind 86 score 0.02394321567557269: 0.0021814674225785384\n",
      "SVM Target ind 87 score 0.039341598773136: 0.00833119600971652\n",
      "SVM Target ind 88 score 0.07717371738900272: 0.011422101075132482\n",
      "SVM Target ind 89 score 0.2440281690304621: 0.026417615239910954\n",
      "SVM Target ind 90 score 0.025386640462915985: 0.00148999486199571\n",
      "SVM Target ind 91 score 0.028325951116658196: 0.006571726717308828\n",
      "SVM Target ind 92 score 0.036194270871285204: 0.007734441800570285\n",
      "SVM Target ind 93 score 0.1668083787980934: 0.029903633792367375\n",
      "SVM Target ind 94 score 0.259654551902692: 0.04386454187659003\n",
      "SVM Target ind 95 score 0.07486886492093268: 0.010396638047384756\n",
      "SVM Target ind 96 score 0.08945907959495888: 0.01567203984961539\n",
      "SVM Target ind 97 score 0.020457631362031197: 0.004491240650865099\n",
      "SVM Target ind 98 score 0.11645113236848059: 0.02244623240686289\n",
      "SVM Target ind 99 score 0.5775346699896229: 0.08422070077773301\n",
      "SVM Target ind 100 score 0.028325951116658202: 0.006597911536510642\n",
      "SVM Target ind 101 score 0.06700290602283455: 0.01099466536445724\n",
      "SVM Target ind 102 score 0.1133038044666298: 0.02159833934378305\n",
      "SVM Target ind 103 score 0.1031588791020195: 0.01220902084671414\n",
      "SVM Target ind 104 score 0.0928461731045996: 0.018602725012462795\n",
      "SVM Target ind 105 score 0.3792530121730223: 0.05997013631467518\n",
      "SVM Target ind 106 score 0.031938129662361536: 0.0034204536065220955\n",
      "SVM Target ind 107 score 0.04738762257174172: 0.0074878450113418\n",
      "SVM Target ind 108 score 0.1133038044666298: 0.02092625355988744\n",
      "SVM Target ind 109 score 0.13780099887095004: 0.013183218097334293\n",
      "SVM Target ind 110 score 0.05233440393214402: 0.0076583950735797865\n",
      "SVM Target ind 111 score 0.058225566184240796: 0.008802409293543196\n",
      "SVM Target ind 112 score 0.041293409751087674: 0.006904286192074179\n",
      "SVM Target ind 113 score 0.04878358247868839: 0.010578957846165825\n",
      "SVM Target ind 114 score 0.1148774684175552: 0.020418079890506584\n",
      "SVM Target ind 115 score 0.047209918527762997: 0.010293829609183727\n",
      "SVM Target ind 116 score 0.08025686149719641: 0.013567777602296884\n",
      "SVM Target ind 117 score 0.06609388593886781: 0.013642745700010474\n",
      "SVM Target ind 118 score 0.11621584200975843: 0.011634488119104624\n",
      "SVM Target ind 119 score 0.2205679839485926: 0.02287314369132209\n",
      "SVM Target ind 120 score 0.009441983705553398: 0.002569379017322844\n",
      "SVM Target ind 121 score 0.009441983705553398: 0.002448293139371501\n",
      "SVM Target ind 122 score 0.09756716495737582: 0.019174197724885066\n",
      "SVM Target ind 123 score 0.018883967411105797: 0.004690691626156888\n",
      "SVM Target ind 124 score 0.09599350100645039: 0.018791027951618907\n",
      "SVM Target ind 125 score 0.0094419837055534: 0.0017386098383375495\n",
      "SVM Target ind 126 score 0.04129580062859043: 0.0028464055393297625\n",
      "SVM Target ind 127 score 0.06104207524482246: 0.009569697543481392\n",
      "SVM Target ind 128 score 0.11645113236848059: 0.02236745885233649\n",
      "SVM Target ind 129 score 0.039341598773136: 0.008317971320194071\n",
      "SVM Target ind 130 score 0.018883967411105797: 0.0046730481377413495\n",
      "SVM Target ind 131 score 0.13376143582866: 0.025266700005345387\n",
      "SVM Target ind 132 score 0.028325951116658196: 0.005015804221459985\n",
      "SVM Target ind 133 score 0.150828923762596: 0.016482767737731652\n",
      "SVM Target ind 134 score 0.0755358696444202: 0.015421212988001826\n",
      "SVM Target ind 135 score 0.058225566184240796: 0.011940502059110816\n",
      "SVM Target ind 136 score 0.30404392537617364: 0.04046567752494324\n",
      "SVM Target ind 137 score 0.009441983705553398: 0.0024963823769854018\n",
      "SVM Target ind 138 score 0.040915262724061395: 0.009008177573416513\n",
      "SVM Target ind 139 score 0.018883967411105797: 0.004396662032132258\n",
      "SVM Target ind 140 score 0.040915262724061395: 0.009003331774220618\n",
      "SVM Target ind 141 score 0.0110156476564788: 0.002761578546626077\n",
      "SVM Target ind 142 score 0.028325951116658196: 0.004868046709150019\n",
      "SVM Target ind 143 score 0.09599350100645039: 0.018624931540741473\n",
      "SVM Target ind 144 score 0.1510717392888394: 0.027727248937045413\n",
      "SVM Target ind 145 score 0.058225566184240796: 0.012356010854300287\n",
      "SVM Target ind 146 score 0.08597331418194036: 0.010348716985892664\n",
      "SVM Target ind 147 score 0.0377679348222106: 0.008399572679409703\n",
      "SVM Target ind 148 score 0.09599350100645039: 0.015553253397912161\n",
      "SVM Target ind 149 score 0.24458434953193647: 0.024484842000440987\n",
      "SVM Target ind 150 score 0.028325951116658196: 0.006341975343530609\n",
      "SVM Target ind 151 score 0.41545096908893003: 0.06170268287139714\n",
      "SVM Target ind 152 score 0.039341598773136: 0.008740435513542375\n",
      "SVM Target ind 153 score 0.20008232723688196: 0.02624082062400571\n",
      "SVM Target ind 154 score 0.0487835824786884: 0.009611243992346714\n",
      "SVM Target ind 155 score 0.086551517300898: 0.017341670532188082\n",
      "SVM Target ind 156 score 0.1542190671906902: 0.028396060747228977\n",
      "SVM Target ind 157 score 0.16762676649019118: 0.025891138319750335\n",
      "SVM Target ind 158 score 0.047209918527763: 0.009982910515339458\n",
      "SVM Target ind 159 score 0.18726601016012356: 0.02963924750054483\n",
      "SVM Target ind 160 score 0.028325951116658196: 0.004525950997498502\n",
      "SVM Target ind 161 score 0.056651902233315406: 0.01196452562962322\n",
      "SVM Target ind 162 score 0.13218777187773462: 0.024709526293928034\n",
      "SVM Target ind 163 score 0.10272628887203478: 0.006397486280181792\n",
      "SVM Target ind 164 score 0.0755358696444202: 0.015453263074444357\n",
      "SVM Target ind 165 score 0.009441983705553398: 0.002316787178465369\n",
      "SVM Target ind 166 score 0.16208738694531719: 0.026815465790500002\n",
      "SVM Target ind 167 score 0.029899615067583596: 0.006983285648868537\n",
      "SVM Target ind 168 score 0.08812518125182339: 0.0174497868836858\n",
      "SVM Target ind 169 score 0.0750541601112333: 0.007306664165458957\n",
      "SVM Target ind 170 score 0.018883967411105797: 0.004591209878958158\n",
      "SVM Target ind 171 score 0.09206255517002167: 0.008560085425952072\n",
      "SVM Target ind 172 score 0.009441983705553398: 0.00229380385058541\n",
      "SVM Target ind 173 score 0.05207568692919318: 0.007581652580272508\n",
      "SVM Target ind 174 score 0.05822556618424081: 0.010591646839371662\n",
      "SVM Target ind 175 score 0.039341598773136: 0.008407521719830896\n",
      "SVM Target ind 176 score 0.3713846924183954: 0.05869353355991164\n",
      "SVM Target ind 177 score 0.6357729380816768: 0.08876338082353794\n",
      "SVM Target ind 178 score 0.06924121384071859: 0.01395169691003948\n",
      "SVM Target ind 179 score 0.0566519022333154: 0.011858163949533485\n",
      "SVM Target ind 180 score 0.0566519022333154: 0.011781791150816612\n",
      "SVM Target ind 181 score 0.039341598773136: 0.008774913297789556\n",
      "SVM Target ind 182 score 0.4201682748970828: 0.06549985027135109\n",
      "SVM Target ind 183 score 0.039341598773136: 0.008661594648918098\n",
      "SVM Target ind 184 score 0.10873753408944913: 0.016235736331797018\n",
      "SVM Target ind 185 score 0.0094419837055534: 0.0024417160409916728\n",
      "SVM Target ind 186 score 0.0298996150675836: 0.004891887756809189\n",
      "SVM Target ind 187 score 0.094419837055525: 0.017842704410117177\n",
      "SVM Target ind 188 score 0.03220362073152462: 0.003216688676088966\n",
      "SVM Target ind 189 score 0.029899615067583596: 0.006817768235294765\n",
      "SVM Target ind 190 score 0.05822556618424079: 0.01157341247140895\n",
      "SVM Target ind 191 score 0.047209918527763: 0.010315016211120995\n",
      "SVM Target ind 192 score 0.011015647656478798: 0.002920922868879542\n",
      "SVM Target ind 193 score 0.0566519022333154: 0.011797631868501477\n",
      "SVM Target ind 194 score 0.1491051922056759: 0.015408834470689699\n",
      "SVM Target ind 195 score 0.028325951116658196: 0.006424652751088419\n",
      "SVM Target ind 196 score 0.009441983705553398: 0.0023398108445589825\n",
      "SVM Target ind 197 score 0.03789377186617544: 0.0060180239429570214\n",
      "SVM Target ind 198 score 0.0755358696444202: 0.015280463713714916\n",
      "SVM Target ind 199 score 0.13955668391214687: 0.021570692107632537\n",
      "SVM Target ind 200 score 0.1148774684175552: 0.021310068335331046\n",
      "SVM Target ind 201 score 0.0094419837055534: 0.002417279837781587\n",
      "SVM Target ind 202 score 0.23155014487559075: 0.028493950000451615\n",
      "SVM Target ind 203 score 0.040915262724061395: 0.00897721517683113\n",
      "SVM Target ind 204 score 0.038759198471222125: 0.003565238553024213\n",
      "SVM Target ind 205 score 0.047209918527763: 0.01016092123397497\n",
      "\n"
     ]
    }
   ],
   "source": [
    "svm1_test, svm1_oof = modelling_svm(fn_train, fn_targets, fn_test)"
   ]
  },
  {
   "cell_type": "code",
   "execution_count": 25,
   "metadata": {
    "execution": {
     "iopub.execute_input": "2020-10-25T07:34:45.772412Z",
     "iopub.status.busy": "2020-10-25T07:34:45.770768Z",
     "iopub.status.idle": "2020-10-25T07:34:46.957813Z",
     "shell.execute_reply": "2020-10-25T07:34:46.958319Z"
    },
    "papermill": {
     "duration": 1.305064,
     "end_time": "2020-10-25T07:34:46.958460",
     "exception": false,
     "start_time": "2020-10-25T07:34:45.653396",
     "status": "completed"
    },
    "tags": []
   },
   "outputs": [
    {
     "name": "stdout",
     "output_type": "stream",
     "text": [
      "OOF log loss:  0.015324340046389752\n"
     ]
    }
   ],
   "source": [
    "check_svm1 = np.zeros([targets.shape[0], targets.shape[1]-1])\n",
    "check_svm1[cons_train_index,:] = svm1_oof\n",
    "print('OOF log loss: ', log_loss(np.ravel(y), np.ravel(check_svm1)))\n",
    "\n",
    "#check_non_svm1 = np.zeros([non_targets.shape[0], non_targets.shape[1]-1])\n",
    "#check_non_svm1[cons_train_index,:] = svm1_non_oof\n",
    "#print('OOF log loss: ', log_loss(np.ravel(non_y), np.ravel(check_non_svm1)))"
   ]
  },
  {
   "cell_type": "markdown",
   "metadata": {
    "papermill": {
     "duration": 0.11127,
     "end_time": "2020-10-25T07:34:47.180368",
     "exception": false,
     "start_time": "2020-10-25T07:34:47.069098",
     "status": "completed"
    },
    "tags": []
   },
   "source": [
    "# submission"
   ]
  },
  {
   "cell_type": "code",
   "execution_count": 26,
   "metadata": {
    "execution": {
     "iopub.execute_input": "2020-10-25T07:34:47.439825Z",
     "iopub.status.busy": "2020-10-25T07:34:47.438501Z",
     "iopub.status.idle": "2020-10-25T07:34:48.707339Z",
     "shell.execute_reply": "2020-10-25T07:34:48.706380Z"
    },
    "papermill": {
     "duration": 1.393661,
     "end_time": "2020-10-25T07:34:48.707456",
     "exception": false,
     "start_time": "2020-10-25T07:34:47.313795",
     "status": "completed"
    },
    "tags": []
   },
   "outputs": [
    {
     "name": "stdout",
     "output_type": "stream",
     "text": [
      "OOF log loss:  0.018573783700147117\n"
     ]
    }
   ],
   "source": [
    "check = 0.1 * check_svm1 + 0.1 * check_xgb1 + 0.2 * check_tabnet1 + 0.6 * check_pytorch1\n",
    "print('OOF log loss: ', log_loss(np.ravel(y), np.ravel(check)))\n",
    "\n",
    "#non_check = 0.1 * check_non_svm1 + 0.1 * check_non_xgb1 + 0.2 * check_non_tabnet1 + 0.6 * check_non_pytorch1\n",
    "#print('OOF log loss: ', log_loss(np.ravel(y), np.ravel(non_check)))"
   ]
  },
  {
   "cell_type": "code",
   "execution_count": 27,
   "metadata": {
    "execution": {
     "iopub.execute_input": "2020-10-25T07:34:48.979314Z",
     "iopub.status.busy": "2020-10-25T07:34:48.978295Z",
     "iopub.status.idle": "2020-10-25T07:34:49.115652Z",
     "shell.execute_reply": "2020-10-25T07:34:49.114745Z"
    },
    "papermill": {
     "duration": 0.297487,
     "end_time": "2020-10-25T07:34:49.115772",
     "exception": false,
     "start_time": "2020-10-25T07:34:48.818285",
     "status": "completed"
    },
    "tags": []
   },
   "outputs": [
    {
     "ename": "NameError",
     "evalue": "name 'pytorch1_test' is not defined",
     "output_type": "error",
     "traceback": [
      "\u001b[0;31m---------------------------------------------------------------------------\u001b[0m",
      "\u001b[0;31mNameError\u001b[0m                                 Traceback (most recent call last)",
      "\u001b[0;32m<ipython-input-27-56304b6da966>\u001b[0m in \u001b[0;36m<module>\u001b[0;34m\u001b[0m\n\u001b[1;32m      1\u001b[0m \u001b[0msub\u001b[0m \u001b[0;34m=\u001b[0m \u001b[0mpd\u001b[0m\u001b[0;34m.\u001b[0m\u001b[0mread_csv\u001b[0m\u001b[0;34m(\u001b[0m\u001b[0mDATA_DIR\u001b[0m \u001b[0;34m+\u001b[0m \u001b[0;34m'sample_submission.csv'\u001b[0m\u001b[0;34m)\u001b[0m\u001b[0;34m\u001b[0m\u001b[0;34m\u001b[0m\u001b[0m\n\u001b[1;32m      2\u001b[0m \u001b[0;34m\u001b[0m\u001b[0m\n\u001b[0;32m----> 3\u001b[0;31m \u001b[0msub\u001b[0m\u001b[0;34m.\u001b[0m\u001b[0mloc\u001b[0m\u001b[0;34m[\u001b[0m\u001b[0mcons_test_index\u001b[0m\u001b[0;34m,\u001b[0m\u001b[0mtarget_feats\u001b[0m\u001b[0;34m]\u001b[0m \u001b[0;34m=\u001b[0m  \u001b[0;36m0.1\u001b[0m \u001b[0;34m*\u001b[0m \u001b[0msvm1_test\u001b[0m \u001b[0;34m+\u001b[0m \u001b[0;36m0.1\u001b[0m \u001b[0;34m*\u001b[0m \u001b[0mxgb1_test\u001b[0m \u001b[0;34m+\u001b[0m \u001b[0;36m0.2\u001b[0m \u001b[0;34m*\u001b[0m \u001b[0mtabnet1_test\u001b[0m \u001b[0;34m+\u001b[0m \u001b[0;36m0.6\u001b[0m \u001b[0;34m*\u001b[0m \u001b[0mpytorch1_test\u001b[0m\u001b[0;34m\u001b[0m\u001b[0;34m\u001b[0m\u001b[0m\n\u001b[0m\u001b[1;32m      4\u001b[0m \u001b[0msub\u001b[0m\u001b[0;34m.\u001b[0m\u001b[0mloc\u001b[0m\u001b[0;34m[\u001b[0m\u001b[0mnoncons_test_index\u001b[0m\u001b[0;34m,\u001b[0m\u001b[0mtarget_feats\u001b[0m\u001b[0;34m]\u001b[0m \u001b[0;34m=\u001b[0m \u001b[0;36m0\u001b[0m\u001b[0;34m\u001b[0m\u001b[0;34m\u001b[0m\u001b[0m\n\u001b[1;32m      5\u001b[0m \u001b[0msub\u001b[0m\u001b[0;34m.\u001b[0m\u001b[0mto_csv\u001b[0m\u001b[0;34m(\u001b[0m\u001b[0;34m'submission.csv'\u001b[0m\u001b[0;34m,\u001b[0m \u001b[0mindex\u001b[0m\u001b[0;34m=\u001b[0m\u001b[0;32mFalse\u001b[0m\u001b[0;34m)\u001b[0m\u001b[0;34m\u001b[0m\u001b[0;34m\u001b[0m\u001b[0m\n",
      "\u001b[0;31mNameError\u001b[0m: name 'pytorch1_test' is not defined"
     ]
    }
   ],
   "source": [
    "sub = pd.read_csv(DATA_DIR + 'sample_submission.csv')\n",
    "\n",
    "sub.loc[cons_test_index,target_feats] =  0.1 * svm1_test + 0.1 * xgb1_test + 0.2 * tabnet1_test + 0.6 * pytorch1_test\n",
    "sub.loc[noncons_test_index,target_feats] = 0\n",
    "sub.to_csv('submission.csv', index=False)"
   ]
  },
  {
   "cell_type": "code",
   "execution_count": null,
   "metadata": {
    "papermill": {
     "duration": 0.114554,
     "end_time": "2020-10-25T07:34:49.342028",
     "exception": false,
     "start_time": "2020-10-25T07:34:49.227474",
     "status": "completed"
    },
    "tags": []
   },
   "outputs": [],
   "source": []
  }
 ],
 "metadata": {
  "kernelspec": {
   "display_name": "Python 3",
   "language": "python",
   "name": "python3"
  },
  "language_info": {
   "codemirror_mode": {
    "name": "ipython",
    "version": 3
   },
   "file_extension": ".py",
   "mimetype": "text/x-python",
   "name": "python",
   "nbconvert_exporter": "python",
   "pygments_lexer": "ipython3",
   "version": "3.7.6"
  },
  "papermill": {
   "duration": 2819.570086,
   "end_time": "2020-10-25T07:34:50.191897",
   "environment_variables": {},
   "exception": null,
   "input_path": "__notebook__.ipynb",
   "output_path": "__notebook__.ipynb",
   "parameters": {},
   "start_time": "2020-10-25T06:47:50.621811",
   "version": "2.1.0"
  },
  "widgets": {
   "application/vnd.jupyter.widget-state+json": {
    "state": {
     "1a313a8210ce4612beed3518dcd46466": {
      "model_module": "@jupyter-widgets/controls",
      "model_module_version": "1.5.0",
      "model_name": "HBoxModel",
      "state": {
       "_dom_classes": [],
       "_model_module": "@jupyter-widgets/controls",
       "_model_module_version": "1.5.0",
       "_model_name": "HBoxModel",
       "_view_count": null,
       "_view_module": "@jupyter-widgets/controls",
       "_view_module_version": "1.5.0",
       "_view_name": "HBoxView",
       "box_style": "",
       "children": [
        "IPY_MODEL_21a928956e4947cfaf1d4a77542124c6",
        "IPY_MODEL_2130d10be6334c62b5d4a34f3ce214b8"
       ],
       "layout": "IPY_MODEL_7930ae25ef5348819e18a0ee19528e3a"
      }
     },
     "2130d10be6334c62b5d4a34f3ce214b8": {
      "model_module": "@jupyter-widgets/controls",
      "model_module_version": "1.5.0",
      "model_name": "HTMLModel",
      "state": {
       "_dom_classes": [],
       "_model_module": "@jupyter-widgets/controls",
       "_model_module_version": "1.5.0",
       "_model_name": "HTMLModel",
       "_view_count": null,
       "_view_module": "@jupyter-widgets/controls",
       "_view_module_version": "1.5.0",
       "_view_name": "HTMLView",
       "description": "",
       "description_tooltip": null,
       "layout": "IPY_MODEL_8a3a89a32c0147cfa043501bb0734384",
       "placeholder": "​",
       "style": "IPY_MODEL_369cca00b0404b479df9b6db939d645d",
       "value": " 206/206 [17:23&lt;00:00,  5.07s/it]"
      }
     },
     "21a928956e4947cfaf1d4a77542124c6": {
      "model_module": "@jupyter-widgets/controls",
      "model_module_version": "1.5.0",
      "model_name": "FloatProgressModel",
      "state": {
       "_dom_classes": [],
       "_model_module": "@jupyter-widgets/controls",
       "_model_module_version": "1.5.0",
       "_model_name": "FloatProgressModel",
       "_view_count": null,
       "_view_module": "@jupyter-widgets/controls",
       "_view_module_version": "1.5.0",
       "_view_name": "ProgressView",
       "bar_style": "success",
       "description": "100%",
       "description_tooltip": null,
       "layout": "IPY_MODEL_dce062bbbd21499e9a67210af77b59a8",
       "max": 206.0,
       "min": 0.0,
       "orientation": "horizontal",
       "style": "IPY_MODEL_e82f9e85a6764b2eae780b79e6bd7529",
       "value": 206.0
      }
     },
     "369cca00b0404b479df9b6db939d645d": {
      "model_module": "@jupyter-widgets/controls",
      "model_module_version": "1.5.0",
      "model_name": "DescriptionStyleModel",
      "state": {
       "_model_module": "@jupyter-widgets/controls",
       "_model_module_version": "1.5.0",
       "_model_name": "DescriptionStyleModel",
       "_view_count": null,
       "_view_module": "@jupyter-widgets/base",
       "_view_module_version": "1.2.0",
       "_view_name": "StyleView",
       "description_width": ""
      }
     },
     "7930ae25ef5348819e18a0ee19528e3a": {
      "model_module": "@jupyter-widgets/base",
      "model_module_version": "1.2.0",
      "model_name": "LayoutModel",
      "state": {
       "_model_module": "@jupyter-widgets/base",
       "_model_module_version": "1.2.0",
       "_model_name": "LayoutModel",
       "_view_count": null,
       "_view_module": "@jupyter-widgets/base",
       "_view_module_version": "1.2.0",
       "_view_name": "LayoutView",
       "align_content": null,
       "align_items": null,
       "align_self": null,
       "border": null,
       "bottom": null,
       "display": null,
       "flex": null,
       "flex_flow": null,
       "grid_area": null,
       "grid_auto_columns": null,
       "grid_auto_flow": null,
       "grid_auto_rows": null,
       "grid_column": null,
       "grid_gap": null,
       "grid_row": null,
       "grid_template_areas": null,
       "grid_template_columns": null,
       "grid_template_rows": null,
       "height": null,
       "justify_content": null,
       "justify_items": null,
       "left": null,
       "margin": null,
       "max_height": null,
       "max_width": null,
       "min_height": null,
       "min_width": null,
       "object_fit": null,
       "object_position": null,
       "order": null,
       "overflow": null,
       "overflow_x": null,
       "overflow_y": null,
       "padding": null,
       "right": null,
       "top": null,
       "visibility": null,
       "width": null
      }
     },
     "8a3a89a32c0147cfa043501bb0734384": {
      "model_module": "@jupyter-widgets/base",
      "model_module_version": "1.2.0",
      "model_name": "LayoutModel",
      "state": {
       "_model_module": "@jupyter-widgets/base",
       "_model_module_version": "1.2.0",
       "_model_name": "LayoutModel",
       "_view_count": null,
       "_view_module": "@jupyter-widgets/base",
       "_view_module_version": "1.2.0",
       "_view_name": "LayoutView",
       "align_content": null,
       "align_items": null,
       "align_self": null,
       "border": null,
       "bottom": null,
       "display": null,
       "flex": null,
       "flex_flow": null,
       "grid_area": null,
       "grid_auto_columns": null,
       "grid_auto_flow": null,
       "grid_auto_rows": null,
       "grid_column": null,
       "grid_gap": null,
       "grid_row": null,
       "grid_template_areas": null,
       "grid_template_columns": null,
       "grid_template_rows": null,
       "height": null,
       "justify_content": null,
       "justify_items": null,
       "left": null,
       "margin": null,
       "max_height": null,
       "max_width": null,
       "min_height": null,
       "min_width": null,
       "object_fit": null,
       "object_position": null,
       "order": null,
       "overflow": null,
       "overflow_x": null,
       "overflow_y": null,
       "padding": null,
       "right": null,
       "top": null,
       "visibility": null,
       "width": null
      }
     },
     "dce062bbbd21499e9a67210af77b59a8": {
      "model_module": "@jupyter-widgets/base",
      "model_module_version": "1.2.0",
      "model_name": "LayoutModel",
      "state": {
       "_model_module": "@jupyter-widgets/base",
       "_model_module_version": "1.2.0",
       "_model_name": "LayoutModel",
       "_view_count": null,
       "_view_module": "@jupyter-widgets/base",
       "_view_module_version": "1.2.0",
       "_view_name": "LayoutView",
       "align_content": null,
       "align_items": null,
       "align_self": null,
       "border": null,
       "bottom": null,
       "display": null,
       "flex": null,
       "flex_flow": null,
       "grid_area": null,
       "grid_auto_columns": null,
       "grid_auto_flow": null,
       "grid_auto_rows": null,
       "grid_column": null,
       "grid_gap": null,
       "grid_row": null,
       "grid_template_areas": null,
       "grid_template_columns": null,
       "grid_template_rows": null,
       "height": null,
       "justify_content": null,
       "justify_items": null,
       "left": null,
       "margin": null,
       "max_height": null,
       "max_width": null,
       "min_height": null,
       "min_width": null,
       "object_fit": null,
       "object_position": null,
       "order": null,
       "overflow": null,
       "overflow_x": null,
       "overflow_y": null,
       "padding": null,
       "right": null,
       "top": null,
       "visibility": null,
       "width": null
      }
     },
     "e82f9e85a6764b2eae780b79e6bd7529": {
      "model_module": "@jupyter-widgets/controls",
      "model_module_version": "1.5.0",
      "model_name": "ProgressStyleModel",
      "state": {
       "_model_module": "@jupyter-widgets/controls",
       "_model_module_version": "1.5.0",
       "_model_name": "ProgressStyleModel",
       "_view_count": null,
       "_view_module": "@jupyter-widgets/base",
       "_view_module_version": "1.2.0",
       "_view_name": "StyleView",
       "bar_color": null,
       "description_width": "initial"
      }
     }
    },
    "version_major": 2,
    "version_minor": 0
   }
  }
 },
 "nbformat": 4,
 "nbformat_minor": 4
}
