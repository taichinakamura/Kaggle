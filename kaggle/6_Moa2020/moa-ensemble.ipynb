{
 "cells": [
  {
   "cell_type": "markdown",
   "metadata": {
    "papermill": {
     "duration": 0.018908,
     "end_time": "2020-10-13T23:33:35.472587",
     "exception": false,
     "start_time": "2020-10-13T23:33:35.453679",
     "status": "completed"
    },
    "tags": []
   },
   "source": [
    "- cancel lr and keras"
   ]
  },
  {
   "cell_type": "code",
   "execution_count": 1,
   "metadata": {
    "execution": {
     "iopub.execute_input": "2020-10-13T23:33:35.522287Z",
     "iopub.status.busy": "2020-10-13T23:33:35.521453Z",
     "iopub.status.idle": "2020-10-13T23:34:50.716075Z",
     "shell.execute_reply": "2020-10-13T23:34:50.715106Z"
    },
    "papermill": {
     "duration": 75.226037,
     "end_time": "2020-10-13T23:34:50.716218",
     "exception": false,
     "start_time": "2020-10-13T23:33:35.490181",
     "status": "completed"
    },
    "tags": []
   },
   "outputs": [],
   "source": [
    "import sys\n",
    "!cp ../input/rapids/rapids.0.15.0 /opt/conda/envs/rapids.tar.gz\n",
    "!cd /opt/conda/envs/ && tar -xzvf rapids.tar.gz > /dev/null\n",
    "sys.path = [\"/opt/conda/envs/rapids/lib/python3.7/site-packages\"] + sys.path\n",
    "sys.path = [\"/opt/conda/envs/rapids/lib/python3.7\"] + sys.path\n",
    "sys.path = [\"/opt/conda/envs/rapids/lib\"] + sys.path\n",
    "!cp /opt/conda/envs/rapids/lib/libxgboost.so /opt/conda/lib/"
   ]
  },
  {
   "cell_type": "code",
   "execution_count": 2,
   "metadata": {
    "_cell_guid": "b1076dfc-b9ad-4769-8c92-a6c4dae69d19",
    "_uuid": "8f2839f25d086af736a60e9eeb907d3b93b6e0e5",
    "execution": {
     "iopub.execute_input": "2020-10-13T23:34:51.395961Z",
     "iopub.status.busy": "2020-10-13T23:34:51.394938Z",
     "iopub.status.idle": "2020-10-13T23:35:27.439978Z",
     "shell.execute_reply": "2020-10-13T23:35:27.439284Z"
    },
    "papermill": {
     "duration": 36.115886,
     "end_time": "2020-10-13T23:35:27.440123",
     "exception": false,
     "start_time": "2020-10-13T23:34:51.324237",
     "status": "completed"
    },
    "tags": []
   },
   "outputs": [],
   "source": [
    "import os\n",
    "import warnings\n",
    "import numpy as np\n",
    "import pandas as pd \n",
    "import matplotlib.pyplot as plt\n",
    "from xgboost import XGBClassifier\n",
    "from sklearn import preprocessing\n",
    "from sklearn.metrics import log_loss\n",
    "from sklearn.decomposition import PCA\n",
    "from sklearn.pipeline import Pipeline\n",
    "from tqdm import tqdm_notebook as tqdm\n",
    "from category_encoders import CountEncoder\n",
    "from sklearn.multioutput import MultiOutputClassifier\n",
    "from sklearn.model_selection import KFold, StratifiedKFold\n",
    "sys.path.append('../input/multilabelstraifier/')\n",
    "from ml_stratifiers import MultilabelStratifiedKFold\n",
    "warnings.filterwarnings('ignore')\n",
    "\n",
    "import time\n",
    "import torch\n",
    "import random\n",
    "import torch.nn as nn\n",
    "import torch.optim as optim\n",
    "import torch.nn.functional as F\n",
    "import tensorflow as tf\n",
    "\n",
    "from sklearn.kernel_approximation import Nystroem\n",
    "from sklearn.isotonic import IsotonicRegression\n",
    "from sklearn.linear_model import LogisticRegression\n",
    "from sklearn.kernel_ridge import KernelRidge\n",
    "from cuml.svm import SVC, SVR\n",
    "\n",
    "from tensorflow.keras import layers,regularizers,Sequential,backend,callbacks,optimizers,metrics,losses\n",
    "import tensorflow_addons as tfa\n",
    "from keras import backend as K"
   ]
  },
  {
   "cell_type": "markdown",
   "metadata": {
    "papermill": {
     "duration": 0.017325,
     "end_time": "2020-10-13T23:35:27.476215",
     "exception": false,
     "start_time": "2020-10-13T23:35:27.458890",
     "status": "completed"
    },
    "tags": []
   },
   "source": [
    "# Preprocess & Feature engineering"
   ]
  },
  {
   "cell_type": "code",
   "execution_count": 3,
   "metadata": {
    "_cell_guid": "79c7e3d0-c299-4dcb-8224-4455121ee9b0",
    "_uuid": "d629ff2d2480ee46fbb7e2d37f6b5fab8052498a",
    "execution": {
     "iopub.execute_input": "2020-10-13T23:35:27.526230Z",
     "iopub.status.busy": "2020-10-13T23:35:27.525093Z",
     "iopub.status.idle": "2020-10-13T23:35:33.019905Z",
     "shell.execute_reply": "2020-10-13T23:35:33.018772Z"
    },
    "papermill": {
     "duration": 5.526534,
     "end_time": "2020-10-13T23:35:33.020063",
     "exception": false,
     "start_time": "2020-10-13T23:35:27.493529",
     "status": "completed"
    },
    "tags": []
   },
   "outputs": [],
   "source": [
    "DATA_DIR = '/kaggle/input/lish-moa/'\n",
    "train = pd.read_csv(DATA_DIR + 'train_features.csv')\n",
    "targets = pd.read_csv(DATA_DIR + 'train_targets_scored.csv')\n",
    "test = pd.read_csv(DATA_DIR + 'test_features.csv')\n",
    "#non_targets = pd.read_csv(DATA_DIR + 'train_targets_nonscored.csv')"
   ]
  },
  {
   "cell_type": "code",
   "execution_count": 4,
   "metadata": {
    "execution": {
     "iopub.execute_input": "2020-10-13T23:35:33.063715Z",
     "iopub.status.busy": "2020-10-13T23:35:33.061829Z",
     "iopub.status.idle": "2020-10-13T23:35:33.064484Z",
     "shell.execute_reply": "2020-10-13T23:35:33.065018Z"
    },
    "papermill": {
     "duration": 0.027218,
     "end_time": "2020-10-13T23:35:33.065188",
     "exception": false,
     "start_time": "2020-10-13T23:35:33.037970",
     "status": "completed"
    },
    "tags": []
   },
   "outputs": [],
   "source": [
    "target_feats = [ i for i in targets.columns if i != \"sig_id\"]\n",
    "g_feats = [i for i in train.columns if \"g-\" in i]\n",
    "c_feats = [i for i in train.columns if \"c-\" in i]"
   ]
  },
  {
   "cell_type": "code",
   "execution_count": 5,
   "metadata": {
    "execution": {
     "iopub.execute_input": "2020-10-13T23:35:33.119057Z",
     "iopub.status.busy": "2020-10-13T23:35:33.118474Z",
     "iopub.status.idle": "2020-10-13T23:35:33.598893Z",
     "shell.execute_reply": "2020-10-13T23:35:33.597808Z"
    },
    "papermill": {
     "duration": 0.51613,
     "end_time": "2020-10-13T23:35:33.599006",
     "exception": false,
     "start_time": "2020-10-13T23:35:33.082876",
     "status": "completed"
    },
    "tags": []
   },
   "outputs": [],
   "source": [
    "noncons_train_index = train[train.cp_type==\"ctl_vehicle\"].index\n",
    "cons_train_index = train[train.cp_type!=\"ctl_vehicle\"].index\n",
    "noncons_test_index = test[test.cp_type==\"ctl_vehicle\"].index\n",
    "cons_test_index = test[test.cp_type!=\"ctl_vehicle\"].index\n",
    "\n",
    "test = test[test.index.isin(cons_test_index)].reset_index(drop=True)\n",
    "train = train[train.index.isin(cons_train_index)].reset_index(drop=True)\n",
    "fn_targets = targets.drop(\"sig_id\", axis=1).copy()\n",
    "fn_targets = fn_targets[fn_targets.index.isin(cons_train_index)].copy().reset_index(drop=True).to_numpy()\n",
    "y = targets.drop(\"sig_id\", axis=1).copy()"
   ]
  },
  {
   "cell_type": "code",
   "execution_count": 6,
   "metadata": {
    "execution": {
     "iopub.execute_input": "2020-10-13T23:35:33.653597Z",
     "iopub.status.busy": "2020-10-13T23:35:33.647886Z",
     "iopub.status.idle": "2020-10-13T23:35:39.204402Z",
     "shell.execute_reply": "2020-10-13T23:35:39.204886Z"
    },
    "papermill": {
     "duration": 5.587833,
     "end_time": "2020-10-13T23:35:39.205013",
     "exception": false,
     "start_time": "2020-10-13T23:35:33.617180",
     "status": "completed"
    },
    "tags": []
   },
   "outputs": [
    {
     "name": "stdout",
     "output_type": "stream",
     "text": [
      "(21948, 889) (3624, 889)\n",
      "(21948, 874) (3624, 874)\n"
     ]
    }
   ],
   "source": [
    "def fe_new(df, remove_features):\n",
    "    tmp = df.copy()\n",
    "    tmp['g_sum'] = tmp[g_feats].sum(axis = 1)\n",
    "    tmp['g_mean'] = tmp[g_feats].mean(axis = 1)\n",
    "    tmp['g_std'] = tmp[g_feats].std(axis = 1)\n",
    "    tmp['g_kurt'] = tmp[g_feats].kurtosis(axis = 1)\n",
    "    tmp['g_skew'] = tmp[g_feats].skew(axis = 1)\n",
    "    tmp['c_sum'] = tmp[c_feats].sum(axis = 1)\n",
    "    tmp['c_mean'] = tmp[c_feats].mean(axis = 1)\n",
    "    tmp['c_std'] = tmp[c_feats].std(axis = 1)\n",
    "    tmp['c_kurt'] = tmp[c_feats].kurtosis(axis = 1)\n",
    "    tmp['c_skew'] = tmp[c_feats].skew(axis = 1)\n",
    "    tmp['gc_sum'] = tmp[c_feats + g_feats].sum(axis = 1)\n",
    "    tmp['gc_mean'] = tmp[c_feats + g_feats].mean(axis = 1)\n",
    "    tmp['gc_std'] = tmp[c_feats + g_feats].std(axis = 1)\n",
    "    tmp['gc_kurt'] = tmp[c_feats + g_feats].kurtosis(axis = 1)\n",
    "    tmp['gc_skew'] = tmp[c_feats + g_feats].skew(axis = 1)\n",
    "    tmp.loc[:, 'cp_dose'] = tmp.loc[:, 'cp_dose'].map({'D1': 0, 'D2': 1})\n",
    "    tmp.drop(remove_features, axis=1, inplace=True)\n",
    "    return tmp\n",
    "\n",
    "def fe_simple(df, remove_features):\n",
    "    tmp = df.copy()\n",
    "    tmp.drop(remove_features, axis=1, inplace=True)\n",
    "    tmp.loc[:, 'cp_dose'] = tmp.loc[:, 'cp_dose'].map({'D1': 0, 'D2': 1})\n",
    "    return tmp\n",
    "\n",
    "remove_features = [\"cp_type\" , \"sig_id\"]\n",
    "        \n",
    "train_pl = fe_new(train, remove_features)\n",
    "test_pl = fe_new(test, remove_features)\n",
    "\n",
    "train = fe_simple(train, remove_features)\n",
    "test = fe_simple(test, remove_features)\n",
    "    \n",
    "print(train_pl.shape, test_pl.shape)\n",
    "print(train.shape, test.shape)"
   ]
  },
  {
   "cell_type": "markdown",
   "metadata": {
    "papermill": {
     "duration": 0.018469,
     "end_time": "2020-10-13T23:35:39.242442",
     "exception": false,
     "start_time": "2020-10-13T23:35:39.223973",
     "status": "completed"
    },
    "tags": []
   },
   "source": [
    "# data preparation"
   ]
  },
  {
   "cell_type": "code",
   "execution_count": 7,
   "metadata": {
    "execution": {
     "iopub.execute_input": "2020-10-13T23:35:39.289341Z",
     "iopub.status.busy": "2020-10-13T23:35:39.288223Z",
     "iopub.status.idle": "2020-10-13T23:35:41.421004Z",
     "shell.execute_reply": "2020-10-13T23:35:41.419654Z"
    },
    "papermill": {
     "duration": 2.157882,
     "end_time": "2020-10-13T23:35:41.421145",
     "exception": false,
     "start_time": "2020-10-13T23:35:39.263263",
     "status": "completed"
    },
    "tags": []
   },
   "outputs": [],
   "source": [
    "# xgb --------------------------\n",
    "X = train_pl.copy()\n",
    "X_test = test_pl.copy()\n",
    "\n",
    "# logistic regression and svm-----------------------\n",
    "fn_train = train.copy() \n",
    "fn_test = test.copy() \n",
    "\n",
    "ss = preprocessing.StandardScaler()\n",
    "fn_train= ss.fit_transform(fn_train)\n",
    "fn_test = ss.transform(fn_test)\n",
    "\n",
    "# pytorch ----------------------------------\n",
    "py_train = train.copy()\n",
    "py_test = test.copy()\n",
    "\n",
    "ss = preprocessing.RobustScaler()\n",
    "py_train= ss.fit_transform(py_train)\n",
    "py_test = ss.transform(py_test)"
   ]
  },
  {
   "cell_type": "markdown",
   "metadata": {
    "papermill": {
     "duration": 0.018292,
     "end_time": "2020-10-13T23:35:41.458381",
     "exception": false,
     "start_time": "2020-10-13T23:35:41.440089",
     "status": "completed"
    },
    "tags": []
   },
   "source": [
    "# 1st XGB"
   ]
  },
  {
   "cell_type": "code",
   "execution_count": 8,
   "metadata": {
    "execution": {
     "iopub.execute_input": "2020-10-13T23:35:41.517761Z",
     "iopub.status.busy": "2020-10-13T23:35:41.507465Z",
     "iopub.status.idle": "2020-10-13T23:35:41.538184Z",
     "shell.execute_reply": "2020-10-13T23:35:41.538656Z"
    },
    "papermill": {
     "duration": 0.060709,
     "end_time": "2020-10-13T23:35:41.538767",
     "exception": false,
     "start_time": "2020-10-13T23:35:41.478058",
     "status": "completed"
    },
    "tags": []
   },
   "outputs": [
    {
     "data": {
      "text/plain": [
       "Pipeline(steps=[('classify',\n",
       "                 MultiOutputClassifier(estimator=XGBClassifier(base_score=None,\n",
       "                                                               booster=None,\n",
       "                                                               colsample_bylevel=None,\n",
       "                                                               colsample_bynode=None,\n",
       "                                                               colsample_bytree=None,\n",
       "                                                               gamma=3.6975,\n",
       "                                                               gpu_id=None,\n",
       "                                                               importance_type='gain',\n",
       "                                                               interaction_constraints=None,\n",
       "                                                               learning_rate=0.0803,\n",
       "                                                               max_delta_step=2.0706,\n",
       "                                                               max_depth=10,\n",
       "                                                               min_child_weight=31.58,\n",
       "                                                               missing=nan,\n",
       "                                                               monotone_constraints=None,\n",
       "                                                               n_estimators=166,\n",
       "                                                               n_jobs=None,\n",
       "                                                               num_parallel_tree=None,\n",
       "                                                               random_state=None,\n",
       "                                                               reg_alpha=None,\n",
       "                                                               reg_lambda=None,\n",
       "                                                               scale_pos_weight=None,\n",
       "                                                               subsample=None,\n",
       "                                                               tree_method='gpu_hist',\n",
       "                                                               validate_parameters=None,\n",
       "                                                               verbosity=None)))])"
      ]
     },
     "execution_count": 8,
     "metadata": {},
     "output_type": "execute_result"
    }
   ],
   "source": [
    "np.random.seed(42)\n",
    "NFOLDS=5\n",
    "\n",
    "classifier = MultiOutputClassifier(XGBClassifier(tree_method='gpu_hist'))\n",
    "\n",
    "clf = Pipeline([('classify', classifier)\n",
    "               ])\n",
    "\n",
    "params = {'classify__estimator__gamma': 3.6975,\n",
    "          'classify__estimator__learning_rate': 0.0803,\n",
    "          'classify__estimator__max_delta_step': 2.0706,\n",
    "          'classify__estimator__max_depth': 10,\n",
    "          'classify__estimator__min_child_weight': 31.5800,\n",
    "          'classify__estimator__n_estimators': 166,\n",
    "         }\n",
    "\n",
    "clf.set_params(**params)"
   ]
  },
  {
   "cell_type": "code",
   "execution_count": 9,
   "metadata": {
    "execution": {
     "iopub.execute_input": "2020-10-13T23:35:41.591597Z",
     "iopub.status.busy": "2020-10-13T23:35:41.590399Z",
     "iopub.status.idle": "2020-10-13T23:35:41.593444Z",
     "shell.execute_reply": "2020-10-13T23:35:41.592961Z"
    },
    "papermill": {
     "duration": 0.035649,
     "end_time": "2020-10-13T23:35:41.593538",
     "exception": false,
     "start_time": "2020-10-13T23:35:41.557889",
     "status": "completed"
    },
    "tags": []
   },
   "outputs": [],
   "source": [
    "def modelling_xgb(X, y, X_test, seed):\n",
    "    oof_preds = np.zeros(y.shape)\n",
    "    test_preds = np.zeros((X_test.shape[0], y.shape[1]))\n",
    "    oof_losses = []\n",
    "    mskf = MultilabelStratifiedKFold(n_splits=NFOLDS, random_state=seed, shuffle=True)\n",
    "    for fn, (trn_idx, val_idx) in enumerate(mskf.split(X, y)):\n",
    "        print('Starting fold: ', fn)\n",
    "        X_train, X_val = X.iloc[trn_idx,:].to_numpy(), X.iloc[val_idx,:].to_numpy()\n",
    "        y_train, y_val = y[trn_idx], y[val_idx]\n",
    "    \n",
    "        clf.fit(X_train, y_train)\n",
    "        val_preds = clf.predict_proba(X_val) # list of preds per class\n",
    "        val_preds = np.array(val_preds)[:,:,1].T # take the positive class\n",
    "        oof_preds[val_idx] = val_preds\n",
    "    \n",
    "        loss = log_loss(np.ravel(y_val), np.ravel(val_preds))\n",
    "        print(loss)\n",
    "        oof_losses.append(loss)\n",
    "        preds = clf.predict_proba(X_test)\n",
    "        preds = np.array(preds)[:,:,1].T # take the positive class\n",
    "        test_preds += preds / NFOLDS\n",
    "    \n",
    "    print(oof_losses)\n",
    "    print('Mean OOF loss across folds', np.mean(oof_losses))\n",
    "    print('STD OOF loss across folds', np.std(oof_losses))\n",
    "    return oof_preds, test_preds"
   ]
  },
  {
   "cell_type": "code",
   "execution_count": 10,
   "metadata": {
    "execution": {
     "iopub.execute_input": "2020-10-13T23:35:41.638975Z",
     "iopub.status.busy": "2020-10-13T23:35:41.637934Z",
     "iopub.status.idle": "2020-10-14T00:01:34.962853Z",
     "shell.execute_reply": "2020-10-14T00:01:34.963696Z"
    },
    "papermill": {
     "duration": 1553.351111,
     "end_time": "2020-10-14T00:01:34.963910",
     "exception": false,
     "start_time": "2020-10-13T23:35:41.612799",
     "status": "completed"
    },
    "tags": []
   },
   "outputs": [
    {
     "name": "stdout",
     "output_type": "stream",
     "text": [
      "Starting fold:  0\n",
      "0.017890018527333493\n",
      "Starting fold:  1\n",
      "0.017878259676696682\n",
      "Starting fold:  2\n",
      "0.017561236619825567\n",
      "Starting fold:  3\n",
      "0.017891451323207592\n",
      "Starting fold:  4\n",
      "0.017919797908421412\n",
      "[0.017890018527333493, 0.017878259676696682, 0.017561236619825567, 0.017891451323207592, 0.017919797908421412]\n",
      "Mean OOF loss across folds 0.017828152811096946\n",
      "STD OOF loss across folds 0.00013415501741458868\n"
     ]
    }
   ],
   "source": [
    "seeds = [42]\n",
    "xgb1_oof = np.zeros(fn_targets.shape)\n",
    "xgb1_test = np.zeros((test.shape[0], fn_targets.shape[1]))\n",
    "for seed_ in seeds:\n",
    "    ind_preds, ind_test_preds = modelling_xgb(X, fn_targets, X_test, seed_)\n",
    "    xgb1_oof += ind_preds / len(seeds)\n",
    "    xgb1_test += ind_test_preds / len(seeds)"
   ]
  },
  {
   "cell_type": "code",
   "execution_count": 11,
   "metadata": {
    "execution": {
     "iopub.execute_input": "2020-10-14T00:01:35.031363Z",
     "iopub.status.busy": "2020-10-14T00:01:35.029510Z",
     "iopub.status.idle": "2020-10-14T00:01:36.422561Z",
     "shell.execute_reply": "2020-10-14T00:01:36.421925Z"
    },
    "papermill": {
     "duration": 1.429786,
     "end_time": "2020-10-14T00:01:36.422681",
     "exception": false,
     "start_time": "2020-10-14T00:01:34.992895",
     "status": "completed"
    },
    "tags": []
   },
   "outputs": [
    {
     "name": "stdout",
     "output_type": "stream",
     "text": [
      "OOF log loss:  0.016431194422447486\n"
     ]
    }
   ],
   "source": [
    "check_xgb1 = np.zeros([targets.shape[0], targets.shape[1]-1])\n",
    "check_xgb1[cons_train_index,:] =  xgb1_oof\n",
    "print('OOF log loss: ', log_loss(np.ravel(y), np.ravel(check_xgb1)))"
   ]
  },
  {
   "cell_type": "code",
   "execution_count": 12,
   "metadata": {
    "execution": {
     "iopub.execute_input": "2020-10-14T00:01:36.487088Z",
     "iopub.status.busy": "2020-10-14T00:01:36.485853Z",
     "iopub.status.idle": "2020-10-14T00:01:36.488081Z",
     "shell.execute_reply": "2020-10-14T00:01:36.488641Z"
    },
    "papermill": {
     "duration": 0.037419,
     "end_time": "2020-10-14T00:01:36.488787",
     "exception": false,
     "start_time": "2020-10-14T00:01:36.451368",
     "status": "completed"
    },
    "tags": []
   },
   "outputs": [],
   "source": [
    "del X_test\n",
    "del X"
   ]
  },
  {
   "cell_type": "markdown",
   "metadata": {
    "papermill": {
     "duration": 0.029702,
     "end_time": "2020-10-14T00:01:36.551177",
     "exception": false,
     "start_time": "2020-10-14T00:01:36.521475",
     "status": "completed"
    },
    "tags": []
   },
   "source": [
    "# 1st pytorch"
   ]
  },
  {
   "cell_type": "code",
   "execution_count": 13,
   "metadata": {
    "execution": {
     "iopub.execute_input": "2020-10-14T00:01:36.613928Z",
     "iopub.status.busy": "2020-10-14T00:01:36.612744Z",
     "iopub.status.idle": "2020-10-14T00:01:36.677547Z",
     "shell.execute_reply": "2020-10-14T00:01:36.678163Z"
    },
    "papermill": {
     "duration": 0.098047,
     "end_time": "2020-10-14T00:01:36.678322",
     "exception": false,
     "start_time": "2020-10-14T00:01:36.580275",
     "status": "completed"
    },
    "tags": []
   },
   "outputs": [
    {
     "name": "stdout",
     "output_type": "stream",
     "text": [
      "cuda\n"
     ]
    }
   ],
   "source": [
    "device = \"cuda\" if torch.cuda.is_available() else \"cpu\"\n",
    "print(device)\n",
    "batch_size = 128\n",
    "train_epochs = 40\n",
    "n_folds=5\n",
    "\n",
    "def seed_everything(seed=1234): \n",
    "    random.seed(seed)\n",
    "    os.environ['PYTHONHASHSEED'] = str(seed)\n",
    "    tf.random.set_seed(seed)\n",
    "    np.random.seed(seed)\n",
    "    torch.manual_seed(seed)\n",
    "    torch.cuda.manual_seed(seed)\n",
    "    torch.backends.cudnn.deterministic = True\n",
    "    \n",
    "class MoaModel(nn.Module):\n",
    "    def __init__(self, num_columns, last_columns_num):\n",
    "        super(MoaModel, self).__init__()\n",
    "        self.batch_norm1 = nn.BatchNorm1d(num_columns)\n",
    "        self.dropout1 = nn.Dropout(0.2)\n",
    "        self.dense1 = nn.utils.weight_norm(nn.Linear(num_columns, 2048))\n",
    "        \n",
    "        self.batch_norm2 = nn.BatchNorm1d(2048)\n",
    "        self.dropout2 = nn.Dropout(0.6)\n",
    "        self.dense2 = nn.utils.weight_norm(nn.Linear(2048, 1048))\n",
    "        \n",
    "        self.batch_norm3 = nn.BatchNorm1d(1048)\n",
    "        self.dropout3 = nn.Dropout(0.6)\n",
    "        self.dense3 = nn.utils.weight_norm(nn.Linear(1048, last_columns_num))\n",
    "        \n",
    "    def forward(self, x):\n",
    "        x = self.batch_norm1(x)\n",
    "        x = self.dropout1(x)\n",
    "        x = F.relu(self.dense1(x))\n",
    "        \n",
    "        x = self.batch_norm2(x)\n",
    "        x = self.dropout2(x)\n",
    "        x = F.relu(self.dense2(x))\n",
    "        \n",
    "        x = self.batch_norm3(x)\n",
    "        x = self.dropout3(x)\n",
    "        x = self.dense3(x)\n",
    "        \n",
    "        return x\n",
    "    \n",
    "def modelling_torch(tr, target, te, sample_seed, init_num, last_num, layer):\n",
    "    seed_everything(seed=sample_seed) \n",
    "    X_train = tr.copy()\n",
    "    y_train = target.copy()\n",
    "    X_test = te.copy()\n",
    "    test_len = X_test.shape[0]\n",
    "\n",
    "    mskf=MultilabelStratifiedKFold(n_splits = n_folds, shuffle=True, random_state=2)\n",
    "    models = []\n",
    "    \n",
    "    X_test = torch.tensor(X_test, dtype=torch.float32)\n",
    "    X_test = torch.utils.data.TensorDataset(X_test) \n",
    "    test_loader = torch.utils.data.DataLoader(X_test, batch_size=batch_size, shuffle=False)\n",
    "    \n",
    "    oof = np.zeros([len(X_train),y_train.shape[1]])\n",
    "    oof_targets = np.zeros([len(X_train),y_train.shape[1]])\n",
    "    pred_value = np.zeros([test_len, y_train.shape[1]])\n",
    "    scores = []\n",
    "    for fold, (train_index, valid_index) in enumerate(mskf.split(X_train, y_train)):\n",
    "        print(\"Fold \"+str(fold+1))\n",
    "        X_train2 = torch.tensor(X_train[train_index,:], dtype=torch.float32)\n",
    "        y_train2 = torch.tensor(y_train[train_index], dtype=torch.float32)\n",
    "\n",
    "        X_valid2 = torch.tensor(X_train[valid_index,:], dtype=torch.float32)\n",
    "        y_valid2 = torch.tensor(y_train[valid_index], dtype=torch.float32)\n",
    "            \n",
    "        clf = MoaModel(init_num, last_num)\n",
    "        loss_fn = torch.nn.BCEWithLogitsLoss() \n",
    "        optimizer = optim.Adam(clf.parameters(), lr = 0.001, weight_decay=1e-5) \n",
    "        scheduler = optim.lr_scheduler.ReduceLROnPlateau(optimizer, mode='min', factor=0.1, patience=3, eps=1e-4, verbose=True)\n",
    "        \n",
    "        train = torch.utils.data.TensorDataset(X_train2, y_train2)\n",
    "        valid = torch.utils.data.TensorDataset(X_valid2, y_valid2)\n",
    "        \n",
    "        clf.to(device)\n",
    "        \n",
    "        train_loader = torch.utils.data.DataLoader(train, batch_size=batch_size, shuffle=True) \n",
    "        valid_loader = torch.utils.data.DataLoader(valid, batch_size=batch_size, shuffle=False)\n",
    "        \n",
    "        best_val_loss = np.inf\n",
    "        for epoch in range(train_epochs):\n",
    "            start_time = time.time()\n",
    "            clf.train()\n",
    "            avg_loss = 0.\n",
    "            for x_batch, y_batch in tqdm(train_loader, disable=True):\n",
    "                x_batch = x_batch.to(device)\n",
    "                y_batch = y_batch.to(device)\n",
    "                y_pred = clf(x_batch) \n",
    "                loss = loss_fn(y_pred, y_batch)\n",
    "                optimizer.zero_grad()\n",
    "                loss.backward()\n",
    "                optimizer.step()\n",
    "                avg_loss += loss.item() / len(train_loader) \n",
    "    \n",
    "            clf.eval()\n",
    "            avg_val_loss = 0.\n",
    "            for i, (x_batch, y_batch) in enumerate(valid_loader): \n",
    "                x_batch = x_batch.to(device)\n",
    "                y_batch = y_batch.to(device)\n",
    "                y_pred = clf(x_batch).detach()\n",
    "                avg_val_loss += loss_fn(y_pred, y_batch).item() / len(valid_loader)\n",
    "        \n",
    "            elapsed_time = time.time() - start_time \n",
    "            scheduler.step(avg_val_loss)\n",
    "\n",
    "            if avg_val_loss < best_val_loss:\n",
    "                best_val_loss = avg_val_loss\n",
    "                print('Best model: Epoch {} \\t loss={:.6f} \\t val_loss={:.6f} \\t time={:.2f}s'.format(\n",
    "                    epoch + 1, avg_loss, avg_val_loss, elapsed_time))\n",
    "                torch.save(clf.state_dict(), 'best-model-parameters.pt')\n",
    "         \n",
    "        pred_model = MoaModel(init_num, last_num)\n",
    "        pred_model.load_state_dict(torch.load('best-model-parameters.pt'))\n",
    "        pred_model.eval()\n",
    "        \n",
    "        # validation check ----------------\n",
    "        oof_epoch = np.zeros([X_valid2.size(0), y_train.shape[1]])\n",
    "        target_epoch = np.zeros([X_valid2.size(0), y_train.shape[1]])\n",
    "        for i, (x_batch, y_batch) in enumerate(valid_loader): \n",
    "                y_pred = pred_model(x_batch).sigmoid().detach()\n",
    "                oof_epoch[i * batch_size:(i+1) * batch_size,:] = y_pred.cpu().numpy()\n",
    "                target_epoch[i * batch_size:(i+1) * batch_size,:] = y_batch.cpu().numpy()\n",
    "        print(\"Fold {} log loss: {}\".format(fold+1, mean_log_loss(target_epoch, oof_epoch)))\n",
    "        scores.append(mean_log_loss(target_epoch, oof_epoch))\n",
    "        oof[valid_index,:] = oof_epoch\n",
    "        oof_targets[valid_index,:] = target_epoch\n",
    "        #-----------------------------------\n",
    "        \n",
    "        # test predcition --------------\n",
    "        test_preds = np.zeros([test_len, y_train.shape[1]])\n",
    "        for i, (x_batch,) in enumerate(test_loader): \n",
    "            y_pred = pred_model(x_batch).sigmoid().detach()\n",
    "            test_preds[i * batch_size:(i+1) * batch_size, :] = y_pred.cpu().numpy()\n",
    "        pred_value += test_preds / n_folds\n",
    "        # ------------------------------\n",
    "        \n",
    "    print(\"Seed {}\".format(seed_))\n",
    "    for i, ele in enumerate(scores):\n",
    "        print(\"Fold {} log loss: {}\".format(i+1, scores[i]))\n",
    "    print(\"Std of log loss: {}\".format(np.std(scores)))\n",
    "    print(\"Total log loss: {}\".format(mean_log_loss(oof_targets, oof)))\n",
    "    \n",
    "    return oof, oof_targets, pred_value"
   ]
  },
  {
   "cell_type": "code",
   "execution_count": 14,
   "metadata": {
    "execution": {
     "iopub.execute_input": "2020-10-14T00:01:36.746755Z",
     "iopub.status.busy": "2020-10-14T00:01:36.745852Z",
     "iopub.status.idle": "2020-10-14T00:02:21.567479Z",
     "shell.execute_reply": "2020-10-14T00:02:21.566832Z"
    },
    "papermill": {
     "duration": 44.859623,
     "end_time": "2020-10-14T00:02:21.567600",
     "exception": false,
     "start_time": "2020-10-14T00:01:36.707977",
     "status": "completed"
    },
    "tags": []
   },
   "outputs": [
    {
     "name": "stdout",
     "output_type": "stream",
     "text": [
      "Fold 1\n",
      "Best model: Epoch 1 \t loss=0.413603 \t val_loss=0.078834 \t time=1.53s\n",
      "Best model: Epoch 2 \t loss=0.050227 \t val_loss=0.028559 \t time=0.88s\n",
      "Best model: Epoch 3 \t loss=0.027391 \t val_loss=0.024384 \t time=0.89s\n",
      "Best model: Epoch 4 \t loss=0.023389 \t val_loss=0.021819 \t time=1.18s\n",
      "Best model: Epoch 5 \t loss=0.021638 \t val_loss=0.019830 \t time=0.89s\n",
      "Best model: Epoch 6 \t loss=0.020547 \t val_loss=0.019478 \t time=0.88s\n",
      "Best model: Epoch 7 \t loss=0.019945 \t val_loss=0.019452 \t time=0.94s\n",
      "Best model: Epoch 8 \t loss=0.019363 \t val_loss=0.018561 \t time=0.88s\n",
      "Best model: Epoch 9 \t loss=0.019013 \t val_loss=0.018222 \t time=0.89s\n",
      "Best model: Epoch 10 \t loss=0.019142 \t val_loss=0.018069 \t time=0.89s\n",
      "Best model: Epoch 11 \t loss=0.018262 \t val_loss=0.017786 \t time=0.91s\n",
      "Best model: Epoch 12 \t loss=0.018067 \t val_loss=0.017680 \t time=0.91s\n",
      "Best model: Epoch 13 \t loss=0.017696 \t val_loss=0.017531 \t time=0.88s\n",
      "Best model: Epoch 14 \t loss=0.017550 \t val_loss=0.017182 \t time=0.89s\n",
      "Best model: Epoch 15 \t loss=0.017269 \t val_loss=0.017096 \t time=1.16s\n",
      "Best model: Epoch 16 \t loss=0.017075 \t val_loss=0.016962 \t time=0.90s\n",
      "Best model: Epoch 17 \t loss=0.016744 \t val_loss=0.016883 \t time=1.43s\n",
      "Best model: Epoch 18 \t loss=0.016519 \t val_loss=0.016823 \t time=0.88s\n",
      "Best model: Epoch 19 \t loss=0.016458 \t val_loss=0.016662 \t time=0.92s\n",
      "Best model: Epoch 21 \t loss=0.016173 \t val_loss=0.016641 \t time=0.89s\n",
      "Best model: Epoch 22 \t loss=0.016075 \t val_loss=0.016506 \t time=0.92s\n",
      "Best model: Epoch 23 \t loss=0.015931 \t val_loss=0.016491 \t time=0.93s\n",
      "Best model: Epoch 24 \t loss=0.015831 \t val_loss=0.016475 \t time=0.96s\n",
      "Best model: Epoch 25 \t loss=0.015673 \t val_loss=0.016438 \t time=0.95s\n",
      "Best model: Epoch 26 \t loss=0.015593 \t val_loss=0.016396 \t time=1.03s\n",
      "Best model: Epoch 27 \t loss=0.015468 \t val_loss=0.016377 \t time=1.60s\n",
      "Best model: Epoch 28 \t loss=0.015426 \t val_loss=0.016304 \t time=0.96s\n",
      "Epoch    32: reducing learning rate of group 0 to 1.0000e-04.\n",
      "Best model: Epoch 33 \t loss=0.014513 \t val_loss=0.016130 \t time=0.91s\n",
      "Best model: Epoch 34 \t loss=0.014232 \t val_loss=0.016104 \t time=0.90s\n",
      "Best model: Epoch 35 \t loss=0.014042 \t val_loss=0.016072 \t time=0.85s\n",
      "Best model: Epoch 36 \t loss=0.013969 \t val_loss=0.016046 \t time=1.00s\n",
      "Best model: Epoch 38 \t loss=0.013598 \t val_loss=0.016014 \t time=0.95s\n",
      "Best model: Epoch 40 \t loss=0.013397 \t val_loss=0.016012 \t time=0.95s\n"
     ]
    },
    {
     "ename": "NameError",
     "evalue": "name 'mean_log_loss' is not defined",
     "output_type": "error",
     "traceback": [
      "\u001b[0;31m---------------------------------------------------------------------------\u001b[0m",
      "\u001b[0;31mNameError\u001b[0m                                 Traceback (most recent call last)",
      "\u001b[0;32m<ipython-input-14-85b66d9c4b52>\u001b[0m in \u001b[0;36m<module>\u001b[0;34m\u001b[0m\n\u001b[1;32m      4\u001b[0m \u001b[0;34m\u001b[0m\u001b[0m\n\u001b[1;32m      5\u001b[0m \u001b[0;32mfor\u001b[0m \u001b[0mseed_\u001b[0m \u001b[0;32min\u001b[0m \u001b[0mseeds\u001b[0m\u001b[0;34m:\u001b[0m\u001b[0;34m\u001b[0m\u001b[0;34m\u001b[0m\u001b[0m\n\u001b[0;32m----> 6\u001b[0;31m     \u001b[0moof\u001b[0m\u001b[0;34m,\u001b[0m \u001b[0moof_targets\u001b[0m\u001b[0;34m,\u001b[0m \u001b[0mpytorch_pred\u001b[0m \u001b[0;34m=\u001b[0m \u001b[0mmodelling_torch\u001b[0m\u001b[0;34m(\u001b[0m\u001b[0mpy_train\u001b[0m\u001b[0;34m,\u001b[0m \u001b[0mfn_targets\u001b[0m\u001b[0;34m,\u001b[0m \u001b[0mpy_test\u001b[0m\u001b[0;34m,\u001b[0m \u001b[0mseed_\u001b[0m\u001b[0;34m,\u001b[0m \u001b[0mpy_train\u001b[0m\u001b[0;34m.\u001b[0m\u001b[0mshape\u001b[0m\u001b[0;34m[\u001b[0m\u001b[0;36m1\u001b[0m\u001b[0;34m]\u001b[0m\u001b[0;34m,\u001b[0m \u001b[0mfn_targets\u001b[0m\u001b[0;34m.\u001b[0m\u001b[0mshape\u001b[0m\u001b[0;34m[\u001b[0m\u001b[0;36m1\u001b[0m\u001b[0;34m]\u001b[0m\u001b[0;34m,\u001b[0m\u001b[0;36m1\u001b[0m\u001b[0;34m)\u001b[0m\u001b[0;34m\u001b[0m\u001b[0;34m\u001b[0m\u001b[0m\n\u001b[0m\u001b[1;32m      7\u001b[0m     \u001b[0mpytorch1_oof\u001b[0m \u001b[0;34m+=\u001b[0m \u001b[0moof\u001b[0m \u001b[0;34m/\u001b[0m \u001b[0mlen\u001b[0m\u001b[0;34m(\u001b[0m\u001b[0mseeds\u001b[0m\u001b[0;34m)\u001b[0m\u001b[0;34m\u001b[0m\u001b[0;34m\u001b[0m\u001b[0m\n\u001b[1;32m      8\u001b[0m     \u001b[0mpytorch1_test\u001b[0m \u001b[0;34m+=\u001b[0m \u001b[0mpytorch_pred\u001b[0m \u001b[0;34m/\u001b[0m \u001b[0mlen\u001b[0m\u001b[0;34m(\u001b[0m\u001b[0mseeds\u001b[0m\u001b[0;34m)\u001b[0m\u001b[0;34m\u001b[0m\u001b[0;34m\u001b[0m\u001b[0m\n",
      "\u001b[0;32m<ipython-input-13-01a68b06ecba>\u001b[0m in \u001b[0;36mmodelling_torch\u001b[0;34m(tr, target, te, sample_seed, init_num, last_num, layer)\u001b[0m\n\u001b[1;32m    126\u001b[0m                 \u001b[0moof_epoch\u001b[0m\u001b[0;34m[\u001b[0m\u001b[0mi\u001b[0m \u001b[0;34m*\u001b[0m \u001b[0mbatch_size\u001b[0m\u001b[0;34m:\u001b[0m\u001b[0;34m(\u001b[0m\u001b[0mi\u001b[0m\u001b[0;34m+\u001b[0m\u001b[0;36m1\u001b[0m\u001b[0;34m)\u001b[0m \u001b[0;34m*\u001b[0m \u001b[0mbatch_size\u001b[0m\u001b[0;34m,\u001b[0m\u001b[0;34m:\u001b[0m\u001b[0;34m]\u001b[0m \u001b[0;34m=\u001b[0m \u001b[0my_pred\u001b[0m\u001b[0;34m.\u001b[0m\u001b[0mcpu\u001b[0m\u001b[0;34m(\u001b[0m\u001b[0;34m)\u001b[0m\u001b[0;34m.\u001b[0m\u001b[0mnumpy\u001b[0m\u001b[0;34m(\u001b[0m\u001b[0;34m)\u001b[0m\u001b[0;34m\u001b[0m\u001b[0;34m\u001b[0m\u001b[0m\n\u001b[1;32m    127\u001b[0m                 \u001b[0mtarget_epoch\u001b[0m\u001b[0;34m[\u001b[0m\u001b[0mi\u001b[0m \u001b[0;34m*\u001b[0m \u001b[0mbatch_size\u001b[0m\u001b[0;34m:\u001b[0m\u001b[0;34m(\u001b[0m\u001b[0mi\u001b[0m\u001b[0;34m+\u001b[0m\u001b[0;36m1\u001b[0m\u001b[0;34m)\u001b[0m \u001b[0;34m*\u001b[0m \u001b[0mbatch_size\u001b[0m\u001b[0;34m,\u001b[0m\u001b[0;34m:\u001b[0m\u001b[0;34m]\u001b[0m \u001b[0;34m=\u001b[0m \u001b[0my_batch\u001b[0m\u001b[0;34m.\u001b[0m\u001b[0mcpu\u001b[0m\u001b[0;34m(\u001b[0m\u001b[0;34m)\u001b[0m\u001b[0;34m.\u001b[0m\u001b[0mnumpy\u001b[0m\u001b[0;34m(\u001b[0m\u001b[0;34m)\u001b[0m\u001b[0;34m\u001b[0m\u001b[0;34m\u001b[0m\u001b[0m\n\u001b[0;32m--> 128\u001b[0;31m         \u001b[0mprint\u001b[0m\u001b[0;34m(\u001b[0m\u001b[0;34m\"Fold {} log loss: {}\"\u001b[0m\u001b[0;34m.\u001b[0m\u001b[0mformat\u001b[0m\u001b[0;34m(\u001b[0m\u001b[0mfold\u001b[0m\u001b[0;34m+\u001b[0m\u001b[0;36m1\u001b[0m\u001b[0;34m,\u001b[0m \u001b[0mmean_log_loss\u001b[0m\u001b[0;34m(\u001b[0m\u001b[0mtarget_epoch\u001b[0m\u001b[0;34m,\u001b[0m \u001b[0moof_epoch\u001b[0m\u001b[0;34m)\u001b[0m\u001b[0;34m)\u001b[0m\u001b[0;34m)\u001b[0m\u001b[0;34m\u001b[0m\u001b[0;34m\u001b[0m\u001b[0m\n\u001b[0m\u001b[1;32m    129\u001b[0m         \u001b[0mscores\u001b[0m\u001b[0;34m.\u001b[0m\u001b[0mappend\u001b[0m\u001b[0;34m(\u001b[0m\u001b[0mmean_log_loss\u001b[0m\u001b[0;34m(\u001b[0m\u001b[0mtarget_epoch\u001b[0m\u001b[0;34m,\u001b[0m \u001b[0moof_epoch\u001b[0m\u001b[0;34m)\u001b[0m\u001b[0;34m)\u001b[0m\u001b[0;34m\u001b[0m\u001b[0;34m\u001b[0m\u001b[0m\n\u001b[1;32m    130\u001b[0m         \u001b[0moof\u001b[0m\u001b[0;34m[\u001b[0m\u001b[0mvalid_index\u001b[0m\u001b[0;34m,\u001b[0m\u001b[0;34m:\u001b[0m\u001b[0;34m]\u001b[0m \u001b[0;34m=\u001b[0m \u001b[0moof_epoch\u001b[0m\u001b[0;34m\u001b[0m\u001b[0;34m\u001b[0m\u001b[0m\n",
      "\u001b[0;31mNameError\u001b[0m: name 'mean_log_loss' is not defined"
     ]
    }
   ],
   "source": [
    "seeds = [10,40]\n",
    "pytorch1_oof = np.zeros([len(py_train),fn_targets.shape[1]])\n",
    "pytorch1_test = np.zeros([len(py_test),fn_targets.shape[1]])\n",
    "\n",
    "for seed_ in seeds:\n",
    "    oof, oof_targets, pytorch_pred = modelling_torch(py_train, fn_targets, py_test, seed_, py_train.shape[1], fn_targets.shape[1],1)\n",
    "    pytorch1_oof += oof / len(seeds)\n",
    "    pytorch1_test += pytorch_pred / len(seeds)"
   ]
  },
  {
   "cell_type": "code",
   "execution_count": 15,
   "metadata": {
    "execution": {
     "iopub.execute_input": "2020-10-14T00:02:21.664473Z",
     "iopub.status.busy": "2020-10-14T00:02:21.663390Z",
     "iopub.status.idle": "2020-10-14T00:02:23.434768Z",
     "shell.execute_reply": "2020-10-14T00:02:23.434126Z"
    },
    "papermill": {
     "duration": 1.818659,
     "end_time": "2020-10-14T00:02:23.434892",
     "exception": false,
     "start_time": "2020-10-14T00:02:21.616233",
     "status": "completed"
    },
    "tags": []
   },
   "outputs": [
    {
     "name": "stdout",
     "output_type": "stream",
     "text": [
      "OOF log loss:  0.11859124020134244\n"
     ]
    }
   ],
   "source": [
    "check_pytorch1 = np.zeros([targets.shape[0], targets.shape[1]-1])\n",
    "check_pytorch1[cons_train_index,:] = pytorch1_oof\n",
    "print('OOF log loss: ', log_loss(np.ravel(y), np.ravel(check_pytorch1)))"
   ]
  },
  {
   "cell_type": "markdown",
   "metadata": {
    "papermill": {
     "duration": 0.044524,
     "end_time": "2020-10-14T00:02:23.523532",
     "exception": false,
     "start_time": "2020-10-14T00:02:23.479008",
     "status": "completed"
    },
    "tags": []
   },
   "source": [
    "# 1st SVM"
   ]
  },
  {
   "cell_type": "code",
   "execution_count": 16,
   "metadata": {
    "execution": {
     "iopub.execute_input": "2020-10-14T00:02:23.632377Z",
     "iopub.status.busy": "2020-10-14T00:02:23.630579Z",
     "iopub.status.idle": "2020-10-14T00:27:45.496695Z",
     "shell.execute_reply": "2020-10-14T00:27:45.496077Z"
    },
    "papermill": {
     "duration": 1521.928859,
     "end_time": "2020-10-14T00:27:45.496831",
     "exception": false,
     "start_time": "2020-10-14T00:02:23.567972",
     "status": "completed"
    },
    "tags": []
   },
   "outputs": [
    {
     "data": {
      "application/vnd.jupyter.widget-view+json": {
       "model_id": "81f7b19ae4f7437f867dba5278d679bb",
       "version_major": 2,
       "version_minor": 0
      },
      "text/plain": [
       "HBox(children=(FloatProgress(value=0.0, max=206.0), HTML(value='')))"
      ]
     },
     "metadata": {},
     "output_type": "display_data"
    },
    {
     "name": "stdout",
     "output_type": "stream",
     "text": [
      "SVM Target ind 0 score 0.0267522871657328:\n",
      "SVM Target ind 1 score 0.028325951116658196:\n",
      "SVM Target ind 2 score 0.0377679348222106:\n",
      "SVM Target ind 3 score 0.298996150675827:\n",
      "SVM Target ind 4 score 0.47367284922854636:\n",
      "SVM Target ind 5 score 0.11487746841755518:\n",
      "SVM Target ind 6 score 0.0849778533499726:\n",
      "SVM Target ind 7 score 0.15107173928883938:\n",
      "SVM Target ind 8 score 0.0188839674111058:\n",
      "SVM Target ind 9 score 0.41774788362703535:\n",
      "SVM Target ind 10 score 0.566519022333145:\n",
      "SVM Target ind 11 score 0.07872803928766862:\n",
      "SVM Target ind 12 score 0.0110156476564788:\n",
      "SVM Target ind 13 score 0.06609388593886781:\n",
      "SVM Target ind 14 score 0.0188839674111058:\n",
      "SVM Target ind 15 score 0.018883967411105797:\n",
      "SVM Target ind 16 score 0.0755358696444202:\n",
      "SVM Target ind 17 score 0.14005609163236157:\n",
      "SVM Target ind 18 score 0.125893116074033:\n",
      "SVM Target ind 19 score 0.0566519022333154:\n",
      "SVM Target ind 20 score 0.058225566184240796:\n",
      "SVM Target ind 21 score 0.1148774684175552:\n",
      "SVM Target ind 22 score 0.009441983705553398:\n",
      "SVM Target ind 23 score 0.06766754988979319:\n",
      "SVM Target ind 24 score 0.0188839674111058:\n",
      "SVM Target ind 25 score 0.020457631362031197:\n",
      "SVM Target ind 26 score 0.018883967411105797:\n",
      "SVM Target ind 27 score 0.028325951116658196:\n",
      "SVM Target ind 28 score 0.1148774684175552:\n",
      "SVM Target ind 29 score 0.0566519022333154:\n",
      "SVM Target ind 30 score 0.036194270871285204:\n",
      "SVM Target ind 31 score 0.0771095335953456:\n",
      "SVM Target ind 32 score 0.0739622056934948:\n",
      "SVM Target ind 33 score 0.009441983705553401:\n",
      "SVM Target ind 34 score 0.0015736639509263987:\n",
      "SVM Target ind 35 score 0.015995075305086637:\n",
      "SVM Target ind 36 score 0.15124648042858196:\n",
      "SVM Target ind 37 score 0.027124797939191:\n",
      "SVM Target ind 38 score 0.1044778435377165:\n",
      "SVM Target ind 39 score 0.0094419837055534:\n",
      "SVM Target ind 40 score 0.094419837055525:\n",
      "SVM Target ind 41 score 0.12590554647677943:\n",
      "SVM Target ind 42 score 0.056651902233315385:\n",
      "SVM Target ind 43 score 0.3021434785776778:\n",
      "SVM Target ind 44 score 0.1400560916323616:\n",
      "SVM Target ind 45 score 0.180971354356422:\n",
      "SVM Target ind 46 score 0.0110156476564788:\n",
      "SVM Target ind 47 score 0.047423884432121616:\n",
      "SVM Target ind 48 score 0.05979923013516619:\n",
      "SVM Target ind 49 score 0.1054354847120028:\n",
      "SVM Target ind 50 score 0.037767934822210594:\n",
      "SVM Target ind 51 score 0.07890719076961206:\n",
      "SVM Target ind 52 score 0.04563625457683759:\n",
      "SVM Target ind 53 score 0.0094419837055534:\n",
      "SVM Target ind 54 score 0.4421995702100385:\n",
      "SVM Target ind 55 score 0.0660938859388678:\n",
      "SVM Target ind 56 score 0.086551517300898:\n",
      "SVM Target ind 57 score 0.0566519022333154:\n",
      "SVM Target ind 58 score 0.0566519022333154:\n",
      "SVM Target ind 59 score 0.028325951116658196:\n",
      "SVM Target ind 60 score 0.018883967411105793:\n",
      "SVM Target ind 61 score 0.16051372299439182:\n",
      "SVM Target ind 62 score 0.028325951116658196:\n",
      "SVM Target ind 63 score 0.1793920120975412:\n",
      "SVM Target ind 64 score 0.0849778533499726:\n",
      "SVM Target ind 65 score 0.03338897509357419:\n",
      "SVM Target ind 66 score 0.06609388593886781:\n",
      "SVM Target ind 67 score 0.0755358696444202:\n",
      "SVM Target ind 68 score 0.0849778533499726:\n",
      "SVM Target ind 69 score 0.0094419837055534:\n",
      "SVM Target ind 70 score 0.0566519022333154:\n",
      "SVM Target ind 71 score 0.684548680257873:\n",
      "SVM Target ind 72 score 0.16366105089624258:\n",
      "SVM Target ind 73 score 0.04774183629825685:\n",
      "SVM Target ind 74 score 0.039341598773136:\n",
      "SVM Target ind 75 score 0.0094419837055534:\n",
      "SVM Target ind 76 score 0.07553586964442019:\n",
      "SVM Target ind 77 score 0.6088592730169317:\n",
      "SVM Target ind 78 score 0.19041333806197436:\n",
      "SVM Target ind 79 score 0.6642648874720656:\n",
      "SVM Target ind 80 score 0.16225055894789492:\n",
      "SVM Target ind 81 score 0.009441983705553398:\n",
      "SVM Target ind 82 score 0.0015736639509263994:\n",
      "SVM Target ind 83 score 0.24863890424621418:\n",
      "SVM Target ind 84 score 0.0755358696444202:\n",
      "SVM Target ind 85 score 0.0566519022333154:\n",
      "SVM Target ind 86 score 0.022584783288437618:\n",
      "SVM Target ind 87 score 0.039341598773136:\n",
      "SVM Target ind 88 score 0.07721290404483384:\n",
      "SVM Target ind 89 score 0.242375772561839:\n",
      "SVM Target ind 90 score 0.02535790750240864:\n",
      "SVM Target ind 91 score 0.028325951116658196:\n",
      "SVM Target ind 92 score 0.036194270871285204:\n",
      "SVM Target ind 93 score 0.1668083787980934:\n",
      "SVM Target ind 94 score 0.259654551902692:\n",
      "SVM Target ind 95 score 0.07344128945531933:\n",
      "SVM Target ind 96 score 0.08764997356425683:\n",
      "SVM Target ind 97 score 0.020457631362031197:\n",
      "SVM Target ind 98 score 0.11645113236848059:\n",
      "SVM Target ind 99 score 0.5775346699896229:\n",
      "SVM Target ind 100 score 0.028325951116658202:\n",
      "SVM Target ind 101 score 0.06571739794288631:\n",
      "SVM Target ind 102 score 0.1133038044666298:\n",
      "SVM Target ind 103 score 0.10311027686494656:\n",
      "SVM Target ind 104 score 0.0928461731045996:\n",
      "SVM Target ind 105 score 0.3792530121730223:\n",
      "SVM Target ind 106 score 0.0318727335426549:\n",
      "SVM Target ind 107 score 0.045971158228606486:\n",
      "SVM Target ind 108 score 0.1133038044666298:\n",
      "SVM Target ind 109 score 0.14201088202136827:\n",
      "SVM Target ind 110 score 0.05370601981780244:\n",
      "SVM Target ind 111 score 0.058225566184240796:\n",
      "SVM Target ind 112 score 0.039916546630116394:\n",
      "SVM Target ind 113 score 0.04878358247868839:\n",
      "SVM Target ind 114 score 0.1148774684175552:\n",
      "SVM Target ind 115 score 0.047209918527762997:\n",
      "SVM Target ind 116 score 0.08025686149719641:\n",
      "SVM Target ind 117 score 0.06609388593886781:\n",
      "SVM Target ind 118 score 0.11637851892742375:\n",
      "SVM Target ind 119 score 0.21787635797653412:\n",
      "SVM Target ind 120 score 0.009441983705553398:\n",
      "SVM Target ind 121 score 0.009441983705553398:\n",
      "SVM Target ind 122 score 0.09756716495737582:\n",
      "SVM Target ind 123 score 0.018883967411105797:\n",
      "SVM Target ind 124 score 0.09599350100645039:\n",
      "SVM Target ind 125 score 0.0094419837055534:\n",
      "SVM Target ind 126 score 0.04131009905515071:\n",
      "SVM Target ind 127 score 0.06110886724006275:\n",
      "SVM Target ind 128 score 0.11645113236848059:\n",
      "SVM Target ind 129 score 0.039341598773136:\n",
      "SVM Target ind 130 score 0.018883967411105797:\n",
      "SVM Target ind 131 score 0.13376143582866:\n",
      "SVM Target ind 132 score 0.028325951116658196:\n",
      "SVM Target ind 133 score 0.1522731777831692:\n",
      "SVM Target ind 134 score 0.0755358696444202:\n",
      "SVM Target ind 135 score 0.058225566184240796:\n",
      "SVM Target ind 136 score 0.30223037603120917:\n",
      "SVM Target ind 137 score 0.009441983705553398:\n",
      "SVM Target ind 138 score 0.040915262724061395:\n",
      "SVM Target ind 139 score 0.018883967411105797:\n",
      "SVM Target ind 140 score 0.040915262724061395:\n",
      "SVM Target ind 141 score 0.0110156476564788:\n",
      "SVM Target ind 142 score 0.028325951116658196:\n",
      "SVM Target ind 143 score 0.09599350100645039:\n",
      "SVM Target ind 144 score 0.1510717392888394:\n",
      "SVM Target ind 145 score 0.058225566184240796:\n",
      "SVM Target ind 146 score 0.08454839599216883:\n",
      "SVM Target ind 147 score 0.0377679348222106:\n",
      "SVM Target ind 148 score 0.09599350100645039:\n",
      "SVM Target ind 149 score 0.24742502258266805:\n",
      "SVM Target ind 150 score 0.028325951116658196:\n",
      "SVM Target ind 151 score 0.4140538306189051:\n",
      "SVM Target ind 152 score 0.039341598773136:\n",
      "SVM Target ind 153 score 0.19716547993231362:\n",
      "SVM Target ind 154 score 0.0487835824786884:\n",
      "SVM Target ind 155 score 0.086551517300898:\n",
      "SVM Target ind 156 score 0.1542190671906902:\n",
      "SVM Target ind 157 score 0.16768898436559215:\n",
      "SVM Target ind 158 score 0.047209918527763:\n",
      "SVM Target ind 159 score 0.18726601016012356:\n",
      "SVM Target ind 160 score 0.028325951116658196:\n",
      "SVM Target ind 161 score 0.056651902233315406:\n",
      "SVM Target ind 162 score 0.13218777187773462:\n",
      "SVM Target ind 163 score 0.10778050385643265:\n",
      "SVM Target ind 164 score 0.0755358696444202:\n",
      "SVM Target ind 165 score 0.009441983705553398:\n",
      "SVM Target ind 166 score 0.16208738694531719:\n",
      "SVM Target ind 167 score 0.029899615067583596:\n",
      "SVM Target ind 168 score 0.08812518125182339:\n",
      "SVM Target ind 169 score 0.07518409849826634:\n",
      "SVM Target ind 170 score 0.018883967411105797:\n",
      "SVM Target ind 171 score 0.09358236502516057:\n",
      "SVM Target ind 172 score 0.009441983705553398:\n",
      "SVM Target ind 173 score 0.052083647737664183:\n",
      "SVM Target ind 174 score 0.05822556618424081:\n",
      "SVM Target ind 175 score 0.039341598773136:\n",
      "SVM Target ind 176 score 0.3713846924183954:\n",
      "SVM Target ind 177 score 0.6357643130338573:\n",
      "SVM Target ind 178 score 0.06924121384071859:\n",
      "SVM Target ind 179 score 0.0566519022333154:\n",
      "SVM Target ind 180 score 0.0566519022333154:\n",
      "SVM Target ind 181 score 0.039341598773136:\n",
      "SVM Target ind 182 score 0.4201682748970828:\n",
      "SVM Target ind 183 score 0.039341598773136:\n",
      "SVM Target ind 184 score 0.10727714714417527:\n",
      "SVM Target ind 185 score 0.0094419837055534:\n",
      "SVM Target ind 186 score 0.0298996150675836:\n",
      "SVM Target ind 187 score 0.094419837055525:\n",
      "SVM Target ind 188 score 0.032345693082092376:\n",
      "SVM Target ind 189 score 0.029899615067583596:\n",
      "SVM Target ind 190 score 0.05822556618424079:\n",
      "SVM Target ind 191 score 0.047209918527763:\n",
      "SVM Target ind 192 score 0.011015647656478798:\n",
      "SVM Target ind 193 score 0.0566519022333154:\n",
      "SVM Target ind 194 score 0.1519872334051322:\n",
      "SVM Target ind 195 score 0.028325951116658196:\n",
      "SVM Target ind 196 score 0.009441983705553398:\n",
      "SVM Target ind 197 score 0.039341598773136:\n",
      "SVM Target ind 198 score 0.0755358696444202:\n",
      "SVM Target ind 199 score 0.13812470816611183:\n",
      "SVM Target ind 200 score 0.1148774684175552:\n",
      "SVM Target ind 201 score 0.0094419837055534:\n",
      "SVM Target ind 202 score 0.2317331252523695:\n",
      "SVM Target ind 203 score 0.040915262724061395:\n",
      "SVM Target ind 204 score 0.04019826154166387:\n",
      "SVM Target ind 205 score 0.047209918527763:\n",
      "\n"
     ]
    }
   ],
   "source": [
    "N_STARTS = 3\n",
    "N_SPLITS = 5\n",
    "\n",
    "svm0_oof = np.zeros([len(fn_train), fn_targets.shape[1]])\n",
    "svm0_test = np.zeros([len(fn_test), fn_targets.shape[1]])\n",
    "\n",
    "for ind in tqdm(range(len(target_feats))):\n",
    "\n",
    "    ind_target_sum = targets.drop(\"sig_id\", axis=1).copy().values[:, ind].sum()\n",
    "\n",
    "    if ind_target_sum >= N_SPLITS:\n",
    "\n",
    "        for seed in range(N_STARTS):\n",
    "\n",
    "            skf = StratifiedKFold(n_splits = N_SPLITS, random_state = seed, shuffle = True)\n",
    "\n",
    "            for n, (train_index, val_index) in enumerate(skf.split(fn_train, fn_targets[:,ind])):\n",
    "                \n",
    "                x_tr, x_val = fn_train[train_index], fn_train[val_index]\n",
    "                y_tr, y_val = fn_targets[train_index,ind], fn_targets[val_index,ind]\n",
    "\n",
    "                model = SVC(C = 40, cache_size = 2000)\n",
    "                model.fit(x_tr, y_tr)\n",
    "                svm0_test[:, ind] += model.decision_function(fn_test) / (N_SPLITS * N_STARTS)\n",
    "                svm0_oof[val_index, ind] += model.decision_function(x_val) / N_STARTS\n",
    "\n",
    "    score = log_loss(fn_targets[:, ind], svm0_oof[:, ind])\n",
    "    print('SVM Target ind {} score {}:'.format(ind,score))"
   ]
  },
  {
   "cell_type": "code",
   "execution_count": 17,
   "metadata": {
    "execution": {
     "iopub.execute_input": "2020-10-14T00:27:45.765189Z",
     "iopub.status.busy": "2020-10-14T00:27:45.763346Z",
     "iopub.status.idle": "2020-10-14T00:29:59.327854Z",
     "shell.execute_reply": "2020-10-14T00:29:59.323936Z"
    },
    "papermill": {
     "duration": 133.705721,
     "end_time": "2020-10-14T00:29:59.328029",
     "exception": false,
     "start_time": "2020-10-14T00:27:45.622308",
     "status": "completed"
    },
    "tags": []
   },
   "outputs": [
    {
     "data": {
      "application/vnd.jupyter.widget-view+json": {
       "model_id": "9ccc16972d12453f9a85e52348d2423e",
       "version_major": 2,
       "version_minor": 0
      },
      "text/plain": [
       "HBox(children=(FloatProgress(value=0.0, max=206.0), HTML(value='')))"
      ]
     },
     "metadata": {},
     "output_type": "display_data"
    },
    {
     "name": "stdout",
     "output_type": "stream",
     "text": [
      "SVM Target ind 0 score 0.0267522871657328:\n",
      "SVM Target ind 1 score 0.028325951116658196:\n",
      "SVM Target ind 2 score 0.0377679348222106:\n",
      "SVM Target ind 3 score 0.298996150675827:\n",
      "SVM Target ind 4 score 0.47367284922854636:\n",
      "SVM Target ind 5 score 0.11487746841755518:\n",
      "SVM Target ind 6 score 0.0849778533499726:\n",
      "SVM Target ind 7 score 0.15107173928883938:\n",
      "SVM Target ind 8 score 0.0188839674111058:\n",
      "SVM Target ind 9 score 0.41774788362703535:\n",
      "SVM Target ind 10 score 0.566519022333145:\n",
      "SVM Target ind 11 score 0.07872803928766862:\n",
      "SVM Target ind 12 score 0.0110156476564788:\n",
      "SVM Target ind 13 score 0.06609388593886781:\n",
      "SVM Target ind 14 score 0.0188839674111058:\n",
      "SVM Target ind 15 score 0.018883967411105797:\n",
      "SVM Target ind 16 score 0.0755358696444202:\n",
      "SVM Target ind 17 score 0.14005609163236157:\n",
      "SVM Target ind 18 score 0.125893116074033:\n",
      "SVM Target ind 19 score 0.0566519022333154:\n",
      "SVM Target ind 20 score 0.058225566184240796:\n",
      "SVM Target ind 21 score 0.1148774684175552:\n",
      "SVM Target ind 22 score 0.009441983705553398:\n",
      "SVM Target ind 23 score 0.06766754988979319:\n",
      "SVM Target ind 24 score 0.0188839674111058:\n",
      "SVM Target ind 25 score 0.020457631362031197:\n",
      "SVM Target ind 26 score 0.018883967411105797:\n",
      "SVM Target ind 27 score 0.028325951116658196:\n",
      "SVM Target ind 28 score 0.1148774684175552:\n",
      "SVM Target ind 29 score 0.0566519022333154:\n",
      "SVM Target ind 30 score 0.036194270871285204:\n",
      "SVM Target ind 31 score 0.0771095335953456:\n",
      "SVM Target ind 32 score 0.0739622056934948:\n",
      "SVM Target ind 33 score 0.009441983705553401:\n",
      "SVM Target ind 34 score 0.0015736639509263987:\n",
      "SVM Target ind 35 score 0.015995075305086637:\n",
      "SVM Target ind 36 score 0.15124648042858196:\n",
      "SVM Target ind 37 score 0.027124797939191:\n",
      "SVM Target ind 38 score 0.1044778435377165:\n",
      "SVM Target ind 39 score 0.0094419837055534:\n",
      "SVM Target ind 40 score 0.094419837055525:\n",
      "SVM Target ind 41 score 0.12590554647677943:\n",
      "SVM Target ind 42 score 0.056651902233315385:\n",
      "SVM Target ind 43 score 0.3021434785776778:\n",
      "SVM Target ind 44 score 0.1400560916323616:\n",
      "SVM Target ind 45 score 0.180971354356422:\n",
      "SVM Target ind 46 score 0.0110156476564788:\n",
      "SVM Target ind 47 score 0.047423884432121616:\n",
      "SVM Target ind 48 score 0.05979923013516619:\n",
      "SVM Target ind 49 score 0.1054354847120028:\n",
      "SVM Target ind 50 score 0.037767934822210594:\n",
      "SVM Target ind 51 score 0.07890719076961206:\n",
      "SVM Target ind 52 score 0.04563625457683759:\n",
      "SVM Target ind 53 score 0.0094419837055534:\n",
      "SVM Target ind 54 score 0.4421995702100385:\n",
      "SVM Target ind 55 score 0.0660938859388678:\n",
      "SVM Target ind 56 score 0.086551517300898:\n",
      "SVM Target ind 57 score 0.0566519022333154:\n",
      "SVM Target ind 58 score 0.0566519022333154:\n",
      "SVM Target ind 59 score 0.028325951116658196:\n",
      "SVM Target ind 60 score 0.018883967411105793:\n",
      "SVM Target ind 61 score 0.16051372299439182:\n",
      "SVM Target ind 62 score 0.028325951116658196:\n",
      "SVM Target ind 63 score 0.1793920120975412:\n",
      "SVM Target ind 64 score 0.0849778533499726:\n",
      "SVM Target ind 65 score 0.03338897509357419:\n",
      "SVM Target ind 66 score 0.06609388593886781:\n",
      "SVM Target ind 67 score 0.0755358696444202:\n",
      "SVM Target ind 68 score 0.0849778533499726:\n",
      "SVM Target ind 69 score 0.0094419837055534:\n",
      "SVM Target ind 70 score 0.0566519022333154:\n",
      "SVM Target ind 71 score 0.684548680257873:\n",
      "SVM Target ind 72 score 0.16366105089624258:\n",
      "SVM Target ind 73 score 0.04774183629825685:\n",
      "SVM Target ind 74 score 0.039341598773136:\n",
      "SVM Target ind 75 score 0.0094419837055534:\n",
      "SVM Target ind 76 score 0.07553586964442019:\n",
      "SVM Target ind 77 score 0.6088592730169317:\n",
      "SVM Target ind 78 score 0.19041333806197436:\n",
      "SVM Target ind 79 score 0.6642648874720656:\n",
      "SVM Target ind 80 score 0.16225055894789492:\n",
      "SVM Target ind 81 score 0.009441983705553398:\n",
      "SVM Target ind 82 score 0.0015736639509263994:\n",
      "SVM Target ind 83 score 0.24863890424621418:\n",
      "SVM Target ind 84 score 0.0755358696444202:\n",
      "SVM Target ind 85 score 0.0566519022333154:\n",
      "SVM Target ind 86 score 0.022584783288437618:\n",
      "SVM Target ind 87 score 0.039341598773136:\n",
      "SVM Target ind 88 score 0.07721290404483384:\n",
      "SVM Target ind 89 score 0.242375772561839:\n",
      "SVM Target ind 90 score 0.02535790750240864:\n",
      "SVM Target ind 91 score 0.028325951116658196:\n",
      "SVM Target ind 92 score 0.036194270871285204:\n",
      "SVM Target ind 93 score 0.1668083787980934:\n",
      "SVM Target ind 94 score 0.259654551902692:\n",
      "SVM Target ind 95 score 0.07344128945531933:\n",
      "SVM Target ind 96 score 0.08764997356425683:\n",
      "SVM Target ind 97 score 0.020457631362031197:\n",
      "SVM Target ind 98 score 0.11645113236848059:\n",
      "SVM Target ind 99 score 0.5775346699896229:\n",
      "SVM Target ind 100 score 0.028325951116658202:\n",
      "SVM Target ind 101 score 0.06571739794288631:\n",
      "SVM Target ind 102 score 0.1133038044666298:\n",
      "SVM Target ind 103 score 0.10311027686494656:\n",
      "SVM Target ind 104 score 0.0928461731045996:\n",
      "SVM Target ind 105 score 0.3792530121730223:\n",
      "SVM Target ind 106 score 0.0318727335426549:\n",
      "SVM Target ind 107 score 0.045971158228606486:\n",
      "SVM Target ind 108 score 0.1133038044666298:\n",
      "SVM Target ind 109 score 0.14201088202136827:\n",
      "SVM Target ind 110 score 0.05370601981780244:\n",
      "SVM Target ind 111 score 0.058225566184240796:\n",
      "SVM Target ind 112 score 0.039916546630116394:\n",
      "SVM Target ind 113 score 0.04878358247868839:\n",
      "SVM Target ind 114 score 0.1148774684175552:\n",
      "SVM Target ind 115 score 0.047209918527762997:\n",
      "SVM Target ind 116 score 0.08025686149719641:\n",
      "SVM Target ind 117 score 0.06609388593886781:\n",
      "SVM Target ind 118 score 0.11637851892742375:\n",
      "SVM Target ind 119 score 0.21787635797653412:\n",
      "SVM Target ind 120 score 0.009441983705553398:\n",
      "SVM Target ind 121 score 0.009441983705553398:\n",
      "SVM Target ind 122 score 0.09756716495737582:\n",
      "SVM Target ind 123 score 0.018883967411105797:\n",
      "SVM Target ind 124 score 0.09599350100645039:\n",
      "SVM Target ind 125 score 0.0094419837055534:\n",
      "SVM Target ind 126 score 0.04131009905515071:\n",
      "SVM Target ind 127 score 0.06110886724006275:\n",
      "SVM Target ind 128 score 0.11645113236848059:\n",
      "SVM Target ind 129 score 0.039341598773136:\n",
      "SVM Target ind 130 score 0.018883967411105797:\n",
      "SVM Target ind 131 score 0.13376143582866:\n",
      "SVM Target ind 132 score 0.028325951116658196:\n",
      "SVM Target ind 133 score 0.1522731777831692:\n",
      "SVM Target ind 134 score 0.0755358696444202:\n",
      "SVM Target ind 135 score 0.058225566184240796:\n",
      "SVM Target ind 136 score 0.30223037603120917:\n",
      "SVM Target ind 137 score 0.009441983705553398:\n",
      "SVM Target ind 138 score 0.040915262724061395:\n",
      "SVM Target ind 139 score 0.018883967411105797:\n",
      "SVM Target ind 140 score 0.040915262724061395:\n",
      "SVM Target ind 141 score 0.0110156476564788:\n",
      "SVM Target ind 142 score 0.028325951116658196:\n",
      "SVM Target ind 143 score 0.09599350100645039:\n",
      "SVM Target ind 144 score 0.1510717392888394:\n",
      "SVM Target ind 145 score 0.058225566184240796:\n",
      "SVM Target ind 146 score 0.08454839599216883:\n",
      "SVM Target ind 147 score 0.0377679348222106:\n",
      "SVM Target ind 148 score 0.09599350100645039:\n",
      "SVM Target ind 149 score 0.24742502258266805:\n",
      "SVM Target ind 150 score 0.028325951116658196:\n",
      "SVM Target ind 151 score 0.4140538306189051:\n",
      "SVM Target ind 152 score 0.039341598773136:\n",
      "SVM Target ind 153 score 0.19716547993231362:\n",
      "SVM Target ind 154 score 0.0487835824786884:\n",
      "SVM Target ind 155 score 0.086551517300898:\n",
      "SVM Target ind 156 score 0.1542190671906902:\n",
      "SVM Target ind 157 score 0.16768898436559215:\n",
      "SVM Target ind 158 score 0.047209918527763:\n",
      "SVM Target ind 159 score 0.18726601016012356:\n",
      "SVM Target ind 160 score 0.028325951116658196:\n",
      "SVM Target ind 161 score 0.056651902233315406:\n",
      "SVM Target ind 162 score 0.13218777187773462:\n",
      "SVM Target ind 163 score 0.10778050385643265:\n",
      "SVM Target ind 164 score 0.0755358696444202:\n",
      "SVM Target ind 165 score 0.009441983705553398:\n",
      "SVM Target ind 166 score 0.16208738694531719:\n",
      "SVM Target ind 167 score 0.029899615067583596:\n",
      "SVM Target ind 168 score 0.08812518125182339:\n",
      "SVM Target ind 169 score 0.07518409849826634:\n",
      "SVM Target ind 170 score 0.018883967411105797:\n",
      "SVM Target ind 171 score 0.09358236502516057:\n",
      "SVM Target ind 172 score 0.009441983705553398:\n",
      "SVM Target ind 173 score 0.052083647737664183:\n",
      "SVM Target ind 174 score 0.05822556618424081:\n",
      "SVM Target ind 175 score 0.039341598773136:\n",
      "SVM Target ind 176 score 0.3713846924183954:\n",
      "SVM Target ind 177 score 0.6357643130338573:\n",
      "SVM Target ind 178 score 0.06924121384071859:\n",
      "SVM Target ind 179 score 0.0566519022333154:\n",
      "SVM Target ind 180 score 0.0566519022333154:\n",
      "SVM Target ind 181 score 0.039341598773136:\n",
      "SVM Target ind 182 score 0.4201682748970828:\n",
      "SVM Target ind 183 score 0.039341598773136:\n",
      "SVM Target ind 184 score 0.10727714714417527:\n",
      "SVM Target ind 185 score 0.0094419837055534:\n",
      "SVM Target ind 186 score 0.0298996150675836:\n",
      "SVM Target ind 187 score 0.094419837055525:\n",
      "SVM Target ind 188 score 0.032345693082092376:\n",
      "SVM Target ind 189 score 0.029899615067583596:\n",
      "SVM Target ind 190 score 0.05822556618424079:\n",
      "SVM Target ind 191 score 0.047209918527763:\n",
      "SVM Target ind 192 score 0.011015647656478798:\n",
      "SVM Target ind 193 score 0.0566519022333154:\n",
      "SVM Target ind 194 score 0.1519872334051322:\n",
      "SVM Target ind 195 score 0.028325951116658196:\n",
      "SVM Target ind 196 score 0.009441983705553398:\n",
      "SVM Target ind 197 score 0.039341598773136:\n",
      "SVM Target ind 198 score 0.0755358696444202:\n",
      "SVM Target ind 199 score 0.13812470816611183:\n",
      "SVM Target ind 200 score 0.1148774684175552:\n",
      "SVM Target ind 201 score 0.0094419837055534:\n",
      "SVM Target ind 202 score 0.2317331252523695:\n",
      "SVM Target ind 203 score 0.040915262724061395:\n",
      "SVM Target ind 204 score 0.04019826154166387:\n",
      "SVM Target ind 205 score 0.047209918527763:\n",
      "\n"
     ]
    }
   ],
   "source": [
    "N_STARTS = 3\n",
    "N_SPLITS = 5\n",
    "\n",
    "svm1_test = np.zeros([len(fn_test),fn_targets.shape[1]])\n",
    "svm1_oof = np.zeros([fn_targets.shape[0],fn_targets.shape[1]]) \n",
    "\n",
    "for ind in tqdm(range(len(target_feats))):\n",
    "\n",
    "    ind_target_sum = targets.drop(\"sig_id\", axis=1).copy().values[:, ind].sum()\n",
    "\n",
    "    if ind_target_sum >= N_SPLITS:\n",
    "        for seed in range(N_STARTS):\n",
    "            skf = StratifiedKFold(n_splits = N_SPLITS, random_state = seed, shuffle = True)\n",
    "\n",
    "            for n, (train_index, val_index) in enumerate(skf.split(svm0_oof, fn_targets[:,ind])):\n",
    "\n",
    "                x_tr, x_val = svm0_oof[train_index, ind].reshape(-1, 1), svm0_oof[val_index, ind].reshape(-1, 1)\n",
    "                y_tr, y_val = fn_targets[train_index,ind], fn_targets[val_index,ind]\n",
    "\n",
    "                model = LogisticRegression(C = 35, max_iter = 1000)\n",
    "                model.fit(x_tr, y_tr)\n",
    "                svm1_test[:, ind] += model.predict_proba(svm0_test[:, ind].reshape(-1, 1))[:, 1] / (N_SPLITS * N_STARTS)\n",
    "                svm1_oof[val_index, ind] += model.predict_proba(x_val)[:, 1] / N_STARTS\n",
    "\n",
    "    score = log_loss(fn_targets[:, ind], svm0_oof[:, ind])\n",
    "    print('SVM Target ind {} score {}:'.format(ind,score))"
   ]
  },
  {
   "cell_type": "code",
   "execution_count": 18,
   "metadata": {
    "execution": {
     "iopub.execute_input": "2020-10-14T00:29:59.782726Z",
     "iopub.status.busy": "2020-10-14T00:29:59.781499Z",
     "iopub.status.idle": "2020-10-14T00:30:01.381084Z",
     "shell.execute_reply": "2020-10-14T00:30:01.382386Z"
    },
    "papermill": {
     "duration": 1.822467,
     "end_time": "2020-10-14T00:30:01.382618",
     "exception": false,
     "start_time": "2020-10-14T00:29:59.560151",
     "status": "completed"
    },
    "tags": []
   },
   "outputs": [
    {
     "name": "stdout",
     "output_type": "stream",
     "text": [
      "OOF log loss:  0.015288382527672173\n"
     ]
    }
   ],
   "source": [
    "check_svm1 = np.zeros([targets.shape[0], targets.shape[1]-1])\n",
    "check_svm1[cons_train_index,:] = svm1_oof\n",
    "print('OOF log loss: ', log_loss(np.ravel(y), np.ravel(check_svm1)))"
   ]
  },
  {
   "cell_type": "markdown",
   "metadata": {
    "papermill": {
     "duration": 0.205148,
     "end_time": "2020-10-14T00:30:01.831938",
     "exception": false,
     "start_time": "2020-10-14T00:30:01.626790",
     "status": "completed"
    },
    "tags": []
   },
   "source": [
    "# submission"
   ]
  },
  {
   "cell_type": "code",
   "execution_count": 19,
   "metadata": {
    "execution": {
     "iopub.execute_input": "2020-10-14T00:30:02.302408Z",
     "iopub.status.busy": "2020-10-14T00:30:02.300944Z",
     "iopub.status.idle": "2020-10-14T00:30:03.868444Z",
     "shell.execute_reply": "2020-10-14T00:30:03.867784Z"
    },
    "papermill": {
     "duration": 1.806744,
     "end_time": "2020-10-14T00:30:03.868592",
     "exception": false,
     "start_time": "2020-10-14T00:30:02.061848",
     "status": "completed"
    },
    "tags": []
   },
   "outputs": [
    {
     "name": "stdout",
     "output_type": "stream",
     "text": [
      "OOF log loss:  0.016737487183111528\n"
     ]
    }
   ],
   "source": [
    "check = 0.2 * check_svm1 + 0.2 * check_xgb1 + 0.6 * check_pytorch1\n",
    "print('OOF log loss: ', log_loss(np.ravel(y), np.ravel(check)))"
   ]
  },
  {
   "cell_type": "code",
   "execution_count": 20,
   "metadata": {
    "execution": {
     "iopub.execute_input": "2020-10-14T00:30:04.334828Z",
     "iopub.status.busy": "2020-10-14T00:30:04.333689Z",
     "iopub.status.idle": "2020-10-14T00:30:07.429860Z",
     "shell.execute_reply": "2020-10-14T00:30:07.429061Z"
    },
    "papermill": {
     "duration": 3.353228,
     "end_time": "2020-10-14T00:30:07.430086",
     "exception": false,
     "start_time": "2020-10-14T00:30:04.076858",
     "status": "completed"
    },
    "tags": []
   },
   "outputs": [],
   "source": [
    "sub = pd.read_csv(DATA_DIR + 'sample_submission.csv')\n",
    "\n",
    "sub.loc[cons_test_index,target_feats] =  0.2 * svm1_test + 0.2 * xgb1_test + 0.6 * pytorch1_test \n",
    "sub.loc[noncons_test_index,target_feats] = 0\n",
    "sub.to_csv('submission.csv', index=False)"
   ]
  },
  {
   "cell_type": "code",
   "execution_count": null,
   "metadata": {
    "papermill": {
     "duration": 0.297736,
     "end_time": "2020-10-14T00:30:08.041667",
     "exception": false,
     "start_time": "2020-10-14T00:30:07.743931",
     "status": "completed"
    },
    "tags": []
   },
   "outputs": [],
   "source": []
  }
 ],
 "metadata": {
  "kernelspec": {
   "display_name": "Python 3",
   "language": "python",
   "name": "python3"
  },
  "language_info": {
   "codemirror_mode": {
    "name": "ipython",
    "version": 3
   },
   "file_extension": ".py",
   "mimetype": "text/x-python",
   "name": "python",
   "nbconvert_exporter": "python",
   "pygments_lexer": "ipython3",
   "version": "3.7.6"
  },
  "papermill": {
   "duration": 3398.229071,
   "end_time": "2020-10-14T00:30:09.421303",
   "environment_variables": {},
   "exception": null,
   "input_path": "__notebook__.ipynb",
   "output_path": "__notebook__.ipynb",
   "parameters": {},
   "start_time": "2020-10-13T23:33:31.192232",
   "version": "2.1.0"
  },
  "widgets": {
   "application/vnd.jupyter.widget-state+json": {
    "state": {
     "08bed73085844e1dbfce711c48b1bbc3": {
      "model_module": "@jupyter-widgets/base",
      "model_module_version": "1.2.0",
      "model_name": "LayoutModel",
      "state": {
       "_model_module": "@jupyter-widgets/base",
       "_model_module_version": "1.2.0",
       "_model_name": "LayoutModel",
       "_view_count": null,
       "_view_module": "@jupyter-widgets/base",
       "_view_module_version": "1.2.0",
       "_view_name": "LayoutView",
       "align_content": null,
       "align_items": null,
       "align_self": null,
       "border": null,
       "bottom": null,
       "display": null,
       "flex": null,
       "flex_flow": null,
       "grid_area": null,
       "grid_auto_columns": null,
       "grid_auto_flow": null,
       "grid_auto_rows": null,
       "grid_column": null,
       "grid_gap": null,
       "grid_row": null,
       "grid_template_areas": null,
       "grid_template_columns": null,
       "grid_template_rows": null,
       "height": null,
       "justify_content": null,
       "justify_items": null,
       "left": null,
       "margin": null,
       "max_height": null,
       "max_width": null,
       "min_height": null,
       "min_width": null,
       "object_fit": null,
       "object_position": null,
       "order": null,
       "overflow": null,
       "overflow_x": null,
       "overflow_y": null,
       "padding": null,
       "right": null,
       "top": null,
       "visibility": null,
       "width": null
      }
     },
     "16a9ddeac0eb4ae5a3c9a46f9e200fe2": {
      "model_module": "@jupyter-widgets/base",
      "model_module_version": "1.2.0",
      "model_name": "LayoutModel",
      "state": {
       "_model_module": "@jupyter-widgets/base",
       "_model_module_version": "1.2.0",
       "_model_name": "LayoutModel",
       "_view_count": null,
       "_view_module": "@jupyter-widgets/base",
       "_view_module_version": "1.2.0",
       "_view_name": "LayoutView",
       "align_content": null,
       "align_items": null,
       "align_self": null,
       "border": null,
       "bottom": null,
       "display": null,
       "flex": null,
       "flex_flow": null,
       "grid_area": null,
       "grid_auto_columns": null,
       "grid_auto_flow": null,
       "grid_auto_rows": null,
       "grid_column": null,
       "grid_gap": null,
       "grid_row": null,
       "grid_template_areas": null,
       "grid_template_columns": null,
       "grid_template_rows": null,
       "height": null,
       "justify_content": null,
       "justify_items": null,
       "left": null,
       "margin": null,
       "max_height": null,
       "max_width": null,
       "min_height": null,
       "min_width": null,
       "object_fit": null,
       "object_position": null,
       "order": null,
       "overflow": null,
       "overflow_x": null,
       "overflow_y": null,
       "padding": null,
       "right": null,
       "top": null,
       "visibility": null,
       "width": null
      }
     },
     "27a1917b2b6d4e7e85a1ebb88df0b2d5": {
      "model_module": "@jupyter-widgets/base",
      "model_module_version": "1.2.0",
      "model_name": "LayoutModel",
      "state": {
       "_model_module": "@jupyter-widgets/base",
       "_model_module_version": "1.2.0",
       "_model_name": "LayoutModel",
       "_view_count": null,
       "_view_module": "@jupyter-widgets/base",
       "_view_module_version": "1.2.0",
       "_view_name": "LayoutView",
       "align_content": null,
       "align_items": null,
       "align_self": null,
       "border": null,
       "bottom": null,
       "display": null,
       "flex": null,
       "flex_flow": null,
       "grid_area": null,
       "grid_auto_columns": null,
       "grid_auto_flow": null,
       "grid_auto_rows": null,
       "grid_column": null,
       "grid_gap": null,
       "grid_row": null,
       "grid_template_areas": null,
       "grid_template_columns": null,
       "grid_template_rows": null,
       "height": null,
       "justify_content": null,
       "justify_items": null,
       "left": null,
       "margin": null,
       "max_height": null,
       "max_width": null,
       "min_height": null,
       "min_width": null,
       "object_fit": null,
       "object_position": null,
       "order": null,
       "overflow": null,
       "overflow_x": null,
       "overflow_y": null,
       "padding": null,
       "right": null,
       "top": null,
       "visibility": null,
       "width": null
      }
     },
     "2bdca16c02b943fbbf17906c8106f244": {
      "model_module": "@jupyter-widgets/controls",
      "model_module_version": "1.5.0",
      "model_name": "DescriptionStyleModel",
      "state": {
       "_model_module": "@jupyter-widgets/controls",
       "_model_module_version": "1.5.0",
       "_model_name": "DescriptionStyleModel",
       "_view_count": null,
       "_view_module": "@jupyter-widgets/base",
       "_view_module_version": "1.2.0",
       "_view_name": "StyleView",
       "description_width": ""
      }
     },
     "2c7b5b00be8e4c32b927967360308bf5": {
      "model_module": "@jupyter-widgets/controls",
      "model_module_version": "1.5.0",
      "model_name": "HTMLModel",
      "state": {
       "_dom_classes": [],
       "_model_module": "@jupyter-widgets/controls",
       "_model_module_version": "1.5.0",
       "_model_name": "HTMLModel",
       "_view_count": null,
       "_view_module": "@jupyter-widgets/controls",
       "_view_module_version": "1.5.0",
       "_view_name": "HTMLView",
       "description": "",
       "description_tooltip": null,
       "layout": "IPY_MODEL_16a9ddeac0eb4ae5a3c9a46f9e200fe2",
       "placeholder": "​",
       "style": "IPY_MODEL_2bdca16c02b943fbbf17906c8106f244",
       "value": " 206/206 [02:13&lt;00:00,  1.54it/s]"
      }
     },
     "67e85b489b5343e6bceee484c8ce33f8": {
      "model_module": "@jupyter-widgets/base",
      "model_module_version": "1.2.0",
      "model_name": "LayoutModel",
      "state": {
       "_model_module": "@jupyter-widgets/base",
       "_model_module_version": "1.2.0",
       "_model_name": "LayoutModel",
       "_view_count": null,
       "_view_module": "@jupyter-widgets/base",
       "_view_module_version": "1.2.0",
       "_view_name": "LayoutView",
       "align_content": null,
       "align_items": null,
       "align_self": null,
       "border": null,
       "bottom": null,
       "display": null,
       "flex": null,
       "flex_flow": null,
       "grid_area": null,
       "grid_auto_columns": null,
       "grid_auto_flow": null,
       "grid_auto_rows": null,
       "grid_column": null,
       "grid_gap": null,
       "grid_row": null,
       "grid_template_areas": null,
       "grid_template_columns": null,
       "grid_template_rows": null,
       "height": null,
       "justify_content": null,
       "justify_items": null,
       "left": null,
       "margin": null,
       "max_height": null,
       "max_width": null,
       "min_height": null,
       "min_width": null,
       "object_fit": null,
       "object_position": null,
       "order": null,
       "overflow": null,
       "overflow_x": null,
       "overflow_y": null,
       "padding": null,
       "right": null,
       "top": null,
       "visibility": null,
       "width": null
      }
     },
     "6db5f58edcb246f28bde87d586e83e45": {
      "model_module": "@jupyter-widgets/controls",
      "model_module_version": "1.5.0",
      "model_name": "ProgressStyleModel",
      "state": {
       "_model_module": "@jupyter-widgets/controls",
       "_model_module_version": "1.5.0",
       "_model_name": "ProgressStyleModel",
       "_view_count": null,
       "_view_module": "@jupyter-widgets/base",
       "_view_module_version": "1.2.0",
       "_view_name": "StyleView",
       "bar_color": null,
       "description_width": "initial"
      }
     },
     "7501318f3acb473ea78bb38bde9fcd09": {
      "model_module": "@jupyter-widgets/base",
      "model_module_version": "1.2.0",
      "model_name": "LayoutModel",
      "state": {
       "_model_module": "@jupyter-widgets/base",
       "_model_module_version": "1.2.0",
       "_model_name": "LayoutModel",
       "_view_count": null,
       "_view_module": "@jupyter-widgets/base",
       "_view_module_version": "1.2.0",
       "_view_name": "LayoutView",
       "align_content": null,
       "align_items": null,
       "align_self": null,
       "border": null,
       "bottom": null,
       "display": null,
       "flex": null,
       "flex_flow": null,
       "grid_area": null,
       "grid_auto_columns": null,
       "grid_auto_flow": null,
       "grid_auto_rows": null,
       "grid_column": null,
       "grid_gap": null,
       "grid_row": null,
       "grid_template_areas": null,
       "grid_template_columns": null,
       "grid_template_rows": null,
       "height": null,
       "justify_content": null,
       "justify_items": null,
       "left": null,
       "margin": null,
       "max_height": null,
       "max_width": null,
       "min_height": null,
       "min_width": null,
       "object_fit": null,
       "object_position": null,
       "order": null,
       "overflow": null,
       "overflow_x": null,
       "overflow_y": null,
       "padding": null,
       "right": null,
       "top": null,
       "visibility": null,
       "width": null
      }
     },
     "814da6d56f474fe3832e68d5356fa491": {
      "model_module": "@jupyter-widgets/controls",
      "model_module_version": "1.5.0",
      "model_name": "FloatProgressModel",
      "state": {
       "_dom_classes": [],
       "_model_module": "@jupyter-widgets/controls",
       "_model_module_version": "1.5.0",
       "_model_name": "FloatProgressModel",
       "_view_count": null,
       "_view_module": "@jupyter-widgets/controls",
       "_view_module_version": "1.5.0",
       "_view_name": "ProgressView",
       "bar_style": "success",
       "description": "100%",
       "description_tooltip": null,
       "layout": "IPY_MODEL_08bed73085844e1dbfce711c48b1bbc3",
       "max": 206.0,
       "min": 0.0,
       "orientation": "horizontal",
       "style": "IPY_MODEL_6db5f58edcb246f28bde87d586e83e45",
       "value": 206.0
      }
     },
     "81f7b19ae4f7437f867dba5278d679bb": {
      "model_module": "@jupyter-widgets/controls",
      "model_module_version": "1.5.0",
      "model_name": "HBoxModel",
      "state": {
       "_dom_classes": [],
       "_model_module": "@jupyter-widgets/controls",
       "_model_module_version": "1.5.0",
       "_model_name": "HBoxModel",
       "_view_count": null,
       "_view_module": "@jupyter-widgets/controls",
       "_view_module_version": "1.5.0",
       "_view_name": "HBoxView",
       "box_style": "",
       "children": [
        "IPY_MODEL_b1b67a38b748490f8063b3e8cfc52d21",
        "IPY_MODEL_d353ff45ed904100b844088e65950708"
       ],
       "layout": "IPY_MODEL_7501318f3acb473ea78bb38bde9fcd09"
      }
     },
     "9ccc16972d12453f9a85e52348d2423e": {
      "model_module": "@jupyter-widgets/controls",
      "model_module_version": "1.5.0",
      "model_name": "HBoxModel",
      "state": {
       "_dom_classes": [],
       "_model_module": "@jupyter-widgets/controls",
       "_model_module_version": "1.5.0",
       "_model_name": "HBoxModel",
       "_view_count": null,
       "_view_module": "@jupyter-widgets/controls",
       "_view_module_version": "1.5.0",
       "_view_name": "HBoxView",
       "box_style": "",
       "children": [
        "IPY_MODEL_814da6d56f474fe3832e68d5356fa491",
        "IPY_MODEL_2c7b5b00be8e4c32b927967360308bf5"
       ],
       "layout": "IPY_MODEL_b79576cb2c604655b6f5418758c9b5e5"
      }
     },
     "b1b67a38b748490f8063b3e8cfc52d21": {
      "model_module": "@jupyter-widgets/controls",
      "model_module_version": "1.5.0",
      "model_name": "FloatProgressModel",
      "state": {
       "_dom_classes": [],
       "_model_module": "@jupyter-widgets/controls",
       "_model_module_version": "1.5.0",
       "_model_name": "FloatProgressModel",
       "_view_count": null,
       "_view_module": "@jupyter-widgets/controls",
       "_view_module_version": "1.5.0",
       "_view_name": "ProgressView",
       "bar_style": "success",
       "description": "100%",
       "description_tooltip": null,
       "layout": "IPY_MODEL_67e85b489b5343e6bceee484c8ce33f8",
       "max": 206.0,
       "min": 0.0,
       "orientation": "horizontal",
       "style": "IPY_MODEL_d2ec96c9f1774ec09de3df6e162b2bde",
       "value": 206.0
      }
     },
     "b79576cb2c604655b6f5418758c9b5e5": {
      "model_module": "@jupyter-widgets/base",
      "model_module_version": "1.2.0",
      "model_name": "LayoutModel",
      "state": {
       "_model_module": "@jupyter-widgets/base",
       "_model_module_version": "1.2.0",
       "_model_name": "LayoutModel",
       "_view_count": null,
       "_view_module": "@jupyter-widgets/base",
       "_view_module_version": "1.2.0",
       "_view_name": "LayoutView",
       "align_content": null,
       "align_items": null,
       "align_self": null,
       "border": null,
       "bottom": null,
       "display": null,
       "flex": null,
       "flex_flow": null,
       "grid_area": null,
       "grid_auto_columns": null,
       "grid_auto_flow": null,
       "grid_auto_rows": null,
       "grid_column": null,
       "grid_gap": null,
       "grid_row": null,
       "grid_template_areas": null,
       "grid_template_columns": null,
       "grid_template_rows": null,
       "height": null,
       "justify_content": null,
       "justify_items": null,
       "left": null,
       "margin": null,
       "max_height": null,
       "max_width": null,
       "min_height": null,
       "min_width": null,
       "object_fit": null,
       "object_position": null,
       "order": null,
       "overflow": null,
       "overflow_x": null,
       "overflow_y": null,
       "padding": null,
       "right": null,
       "top": null,
       "visibility": null,
       "width": null
      }
     },
     "d1df5ca43f764ee899bed2db30e60f63": {
      "model_module": "@jupyter-widgets/controls",
      "model_module_version": "1.5.0",
      "model_name": "DescriptionStyleModel",
      "state": {
       "_model_module": "@jupyter-widgets/controls",
       "_model_module_version": "1.5.0",
       "_model_name": "DescriptionStyleModel",
       "_view_count": null,
       "_view_module": "@jupyter-widgets/base",
       "_view_module_version": "1.2.0",
       "_view_name": "StyleView",
       "description_width": ""
      }
     },
     "d2ec96c9f1774ec09de3df6e162b2bde": {
      "model_module": "@jupyter-widgets/controls",
      "model_module_version": "1.5.0",
      "model_name": "ProgressStyleModel",
      "state": {
       "_model_module": "@jupyter-widgets/controls",
       "_model_module_version": "1.5.0",
       "_model_name": "ProgressStyleModel",
       "_view_count": null,
       "_view_module": "@jupyter-widgets/base",
       "_view_module_version": "1.2.0",
       "_view_name": "StyleView",
       "bar_color": null,
       "description_width": "initial"
      }
     },
     "d353ff45ed904100b844088e65950708": {
      "model_module": "@jupyter-widgets/controls",
      "model_module_version": "1.5.0",
      "model_name": "HTMLModel",
      "state": {
       "_dom_classes": [],
       "_model_module": "@jupyter-widgets/controls",
       "_model_module_version": "1.5.0",
       "_model_name": "HTMLModel",
       "_view_count": null,
       "_view_module": "@jupyter-widgets/controls",
       "_view_module_version": "1.5.0",
       "_view_name": "HTMLView",
       "description": "",
       "description_tooltip": null,
       "layout": "IPY_MODEL_27a1917b2b6d4e7e85a1ebb88df0b2d5",
       "placeholder": "​",
       "style": "IPY_MODEL_d1df5ca43f764ee899bed2db30e60f63",
       "value": " 206/206 [25:26&lt;00:00,  7.41s/it]"
      }
     }
    },
    "version_major": 2,
    "version_minor": 0
   }
  }
 },
 "nbformat": 4,
 "nbformat_minor": 4
}
