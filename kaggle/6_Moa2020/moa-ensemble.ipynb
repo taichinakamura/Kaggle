{
 "cells": [
  {
   "cell_type": "markdown",
   "metadata": {
    "papermill": {
     "duration": 0.025617,
     "end_time": "2020-11-09T06:03:27.089665",
     "exception": false,
     "start_time": "2020-11-09T06:03:27.064048",
     "status": "completed"
    },
    "tags": []
   },
   "source": [
    "- incorporate drug_id validation in pytorch mlp (mlp version 37)\n",
    "- go back to version 36 for ensembling svm and tabnet\n",
    "- consider mlp and lgb, lgb for unbalanced targets *\n",
    "- import clip"
   ]
  },
  {
   "cell_type": "code",
   "execution_count": 1,
   "metadata": {
    "execution": {
     "iopub.execute_input": "2020-11-09T06:03:27.146496Z",
     "iopub.status.busy": "2020-11-09T06:03:27.145773Z",
     "iopub.status.idle": "2020-11-09T06:03:35.993399Z",
     "shell.execute_reply": "2020-11-09T06:03:35.992450Z"
    },
    "papermill": {
     "duration": 8.879105,
     "end_time": "2020-11-09T06:03:35.993519",
     "exception": false,
     "start_time": "2020-11-09T06:03:27.114414",
     "status": "completed"
    },
    "tags": []
   },
   "outputs": [
    {
     "name": "stdout",
     "output_type": "stream",
     "text": [
      "Looking in links: /kaggle/input/pytorchtabnet/pytorch_tabnet-2.0.0-py3-none-any.whl\r\n",
      "Processing /kaggle/input/pytorchtabnet/pytorch_tabnet-2.0.0-py3-none-any.whl\r\n",
      "Requirement already satisfied: scipy>1.4 in /opt/conda/lib/python3.7/site-packages (from pytorch-tabnet) (1.4.1)\r\n",
      "Requirement already satisfied: numpy<2.0,>=1.17 in /opt/conda/lib/python3.7/site-packages (from pytorch-tabnet) (1.18.5)\r\n",
      "Requirement already satisfied: scikit_learn>0.21 in /opt/conda/lib/python3.7/site-packages (from pytorch-tabnet) (0.23.2)\r\n",
      "Requirement already satisfied: torch<2.0,>=1.2 in /opt/conda/lib/python3.7/site-packages (from pytorch-tabnet) (1.6.0)\r\n",
      "Requirement already satisfied: tqdm<5.0,>=4.36 in /opt/conda/lib/python3.7/site-packages (from pytorch-tabnet) (4.45.0)\r\n",
      "Requirement already satisfied: joblib>=0.11 in /opt/conda/lib/python3.7/site-packages (from scikit_learn>0.21->pytorch-tabnet) (0.14.1)\r\n",
      "Requirement already satisfied: threadpoolctl>=2.0.0 in /opt/conda/lib/python3.7/site-packages (from scikit_learn>0.21->pytorch-tabnet) (2.1.0)\r\n",
      "Requirement already satisfied: future in /opt/conda/lib/python3.7/site-packages (from torch<2.0,>=1.2->pytorch-tabnet) (0.18.2)\r\n",
      "Installing collected packages: pytorch-tabnet\r\n",
      "Successfully installed pytorch-tabnet-2.0.0\r\n"
     ]
    }
   ],
   "source": [
    "!pip install --no-index --find-links /kaggle/input/pytorchtabnet/pytorch_tabnet-2.0.0-py3-none-any.whl pytorch-tabnet"
   ]
  },
  {
   "cell_type": "code",
   "execution_count": 2,
   "metadata": {
    "execution": {
     "iopub.execute_input": "2020-11-09T06:03:36.065378Z",
     "iopub.status.busy": "2020-11-09T06:03:36.061858Z",
     "iopub.status.idle": "2020-11-09T06:04:56.887830Z",
     "shell.execute_reply": "2020-11-09T06:04:56.887135Z"
    },
    "papermill": {
     "duration": 80.867225,
     "end_time": "2020-11-09T06:04:56.887960",
     "exception": false,
     "start_time": "2020-11-09T06:03:36.020735",
     "status": "completed"
    },
    "tags": []
   },
   "outputs": [],
   "source": [
    "import sys\n",
    "!cp ../input/rapids/rapids.0.15.0 /opt/conda/envs/rapids.tar.gz\n",
    "!cd /opt/conda/envs/ && tar -xzvf rapids.tar.gz > /dev/null\n",
    "sys.path = [\"/opt/conda/envs/rapids/lib/python3.7/site-packages\"] + sys.path\n",
    "sys.path = [\"/opt/conda/envs/rapids/lib/python3.7\"] + sys.path\n",
    "sys.path = [\"/opt/conda/envs/rapids/lib\"] + sys.path\n",
    "!cp /opt/conda/envs/rapids/lib/libxgboost.so /opt/conda/lib/"
   ]
  },
  {
   "cell_type": "code",
   "execution_count": 3,
   "metadata": {
    "_cell_guid": "b1076dfc-b9ad-4769-8c92-a6c4dae69d19",
    "_uuid": "8f2839f25d086af736a60e9eeb907d3b93b6e0e5",
    "execution": {
     "iopub.execute_input": "2020-11-09T06:05:20.884541Z",
     "iopub.status.busy": "2020-11-09T06:05:20.883553Z",
     "iopub.status.idle": "2020-11-09T06:05:32.301014Z",
     "shell.execute_reply": "2020-11-09T06:05:32.299687Z"
    },
    "papermill": {
     "duration": 11.542465,
     "end_time": "2020-11-09T06:05:32.301146",
     "exception": false,
     "start_time": "2020-11-09T06:05:20.758681",
     "status": "completed"
    },
    "tags": []
   },
   "outputs": [],
   "source": [
    "import sys\n",
    "import os\n",
    "import pickle\n",
    "import warnings\n",
    "import numpy as np\n",
    "import pandas as pd \n",
    "from sklearn import preprocessing\n",
    "from sklearn.metrics import log_loss, roc_auc_score\n",
    "from sklearn.decomposition import PCA\n",
    "from sklearn.pipeline import Pipeline\n",
    "from tqdm import tqdm_notebook as tqdm\n",
    "from category_encoders import CountEncoder\n",
    "from xgboost import XGBClassifier\n",
    "import lightgbm as lgb\n",
    "from sklearn.feature_selection import VarianceThreshold\n",
    "from sklearn.multioutput import MultiOutputClassifier\n",
    "from sklearn.model_selection import KFold, StratifiedKFold\n",
    "sys.path.append('../input/multilabelstraifier/')\n",
    "from ml_stratifiers import MultilabelStratifiedKFold\n",
    "warnings.filterwarnings('ignore')\n",
    "from scipy.optimize import minimize, fsolve\n",
    "\n",
    "import time\n",
    "import torch\n",
    "import random\n",
    "import torch.nn as nn\n",
    "import torch.optim as optim\n",
    "import torch.nn.functional as F\n",
    "import tensorflow as tf\n",
    "from torch.nn.modules.loss import _WeightedLoss\n",
    "\n",
    "from pytorch_tabnet.metrics import Metric\n",
    "from pytorch_tabnet.tab_model import TabNetRegressor\n",
    "\n",
    "from sklearn.linear_model import LogisticRegression\n",
    "from cuml.svm import SVC, SVR"
   ]
  },
  {
   "cell_type": "markdown",
   "metadata": {
    "papermill": {
     "duration": 0.026921,
     "end_time": "2020-11-09T06:05:32.355736",
     "exception": false,
     "start_time": "2020-11-09T06:05:32.328815",
     "status": "completed"
    },
    "tags": []
   },
   "source": [
    "# Preprocess"
   ]
  },
  {
   "cell_type": "code",
   "execution_count": 4,
   "metadata": {
    "_cell_guid": "79c7e3d0-c299-4dcb-8224-4455121ee9b0",
    "_uuid": "d629ff2d2480ee46fbb7e2d37f6b5fab8052498a",
    "execution": {
     "iopub.execute_input": "2020-11-09T06:05:32.425186Z",
     "iopub.status.busy": "2020-11-09T06:05:32.424214Z",
     "iopub.status.idle": "2020-11-09T06:05:37.944559Z",
     "shell.execute_reply": "2020-11-09T06:05:37.943474Z"
    },
    "papermill": {
     "duration": 5.562446,
     "end_time": "2020-11-09T06:05:37.944687",
     "exception": false,
     "start_time": "2020-11-09T06:05:32.382241",
     "status": "completed"
    },
    "tags": []
   },
   "outputs": [],
   "source": [
    "DATA_DIR = '/kaggle/input/lish-moa/'\n",
    "train = pd.read_csv(DATA_DIR + 'train_features.csv')\n",
    "targets = pd.read_csv(DATA_DIR + 'train_targets_scored.csv')\n",
    "test = pd.read_csv(DATA_DIR + 'test_features.csv')\n",
    "drug = pd.read_csv(DATA_DIR + 'train_drug.csv')"
   ]
  },
  {
   "cell_type": "code",
   "execution_count": 5,
   "metadata": {
    "execution": {
     "iopub.execute_input": "2020-11-09T06:05:38.007730Z",
     "iopub.status.busy": "2020-11-09T06:05:38.007025Z",
     "iopub.status.idle": "2020-11-09T06:05:38.010939Z",
     "shell.execute_reply": "2020-11-09T06:05:38.010354Z"
    },
    "papermill": {
     "duration": 0.037825,
     "end_time": "2020-11-09T06:05:38.011083",
     "exception": false,
     "start_time": "2020-11-09T06:05:37.973258",
     "status": "completed"
    },
    "tags": []
   },
   "outputs": [],
   "source": [
    "target_feats = [ i for i in targets.columns if i != \"sig_id\"]\n",
    "g_feats = [i for i in train.columns if \"g-\" in i]\n",
    "c_feats = [i for i in train.columns if \"c-\" in i]"
   ]
  },
  {
   "cell_type": "code",
   "execution_count": 6,
   "metadata": {
    "execution": {
     "iopub.execute_input": "2020-11-09T06:05:38.085211Z",
     "iopub.status.busy": "2020-11-09T06:05:38.079236Z",
     "iopub.status.idle": "2020-11-09T06:05:38.555308Z",
     "shell.execute_reply": "2020-11-09T06:05:38.554692Z"
    },
    "papermill": {
     "duration": 0.517003,
     "end_time": "2020-11-09T06:05:38.555453",
     "exception": false,
     "start_time": "2020-11-09T06:05:38.038450",
     "status": "completed"
    },
    "tags": []
   },
   "outputs": [],
   "source": [
    "cons_train_index = train[train.cp_type!=\"ctl_vehicle\"].index\n",
    "noncons_test_index = test[test.cp_type==\"ctl_vehicle\"].index\n",
    "cons_test_index = test[test.cp_type!=\"ctl_vehicle\"].index\n",
    "\n",
    "test = test[test.index.isin(cons_test_index)].reset_index(drop=True)\n",
    "train = train[train.index.isin(cons_train_index)].reset_index(drop=True)\n",
    "y = targets.drop(\"sig_id\", axis=1).copy()\n",
    "targets = targets[targets.index.isin(cons_train_index)].reset_index(drop=True)\n",
    "fn_targets = targets.copy().drop(\"sig_id\", axis=1).to_numpy()"
   ]
  },
  {
   "cell_type": "code",
   "execution_count": 7,
   "metadata": {
    "execution": {
     "iopub.execute_input": "2020-11-09T06:05:38.630897Z",
     "iopub.status.busy": "2020-11-09T06:05:38.628915Z",
     "iopub.status.idle": "2020-11-09T06:05:38.631742Z",
     "shell.execute_reply": "2020-11-09T06:05:38.632305Z"
    },
    "papermill": {
     "duration": 0.048705,
     "end_time": "2020-11-09T06:05:38.632423",
     "exception": false,
     "start_time": "2020-11-09T06:05:38.583718",
     "status": "completed"
    },
    "tags": []
   },
   "outputs": [],
   "source": [
    "NB_SPLITS = 7\n",
    "seed = 34\n",
    "\n",
    "def make_fold(NB_SPLITS, seed):   \n",
    "    folds = []\n",
    "    # LOAD FILES\n",
    "    train_score = targets.merge(drug, on='sig_id', how='left') \n",
    "\n",
    "    # LOCATE DRUGS\n",
    "    vc = train_score.drug_id.value_counts()\n",
    "    vc1 = vc.loc[vc <= 19].index.sort_values()\n",
    "    vc2 = vc.loc[vc > 19].index.sort_values()\n",
    "    \n",
    "    # STRATIFY DRUGS 18X OR LESS\n",
    "    dct1 = {}; dct2 = {}\n",
    "    skf = MultilabelStratifiedKFold(n_splits = NB_SPLITS, shuffle = True, random_state = seed)\n",
    "    tmp = train_score.groupby('drug_id')[target_feats].mean().loc[vc1]\n",
    "    for fold,(idxT,idxV) in enumerate(skf.split(tmp,tmp[target_feats])):\n",
    "        dd = {k:fold for k in tmp.index[idxV].values}\n",
    "        dct1.update(dd)\n",
    "\n",
    "    # STRATIFY DRUGS MORE THAN 18X\n",
    "    skf = MultilabelStratifiedKFold(n_splits = NB_SPLITS, shuffle = True, random_state = seed)\n",
    "    tmp = train_score.loc[train_score.drug_id.isin(vc2)].reset_index(drop = True)\n",
    "    for fold,(idxT,idxV) in enumerate(skf.split(tmp,tmp[target_feats])):\n",
    "        dd = {k:fold for k in tmp.sig_id[idxV].values}\n",
    "        dct2.update(dd)\n",
    "\n",
    "    # ASSIGN FOLDS\n",
    "    train_score['fold'] = train_score.drug_id.map(dct1)\n",
    "    train_score.loc[train_score.fold.isna(),'fold'] = train_score.loc[train_score.fold.isna(),'sig_id'].map(dct2)\n",
    "    train_score.fold = train_score.fold.astype('int8')\n",
    "    folds.append(train_score.fold.values)\n",
    "    \n",
    "    return np.array(folds).reshape(-1,1)"
   ]
  },
  {
   "cell_type": "code",
   "execution_count": 8,
   "metadata": {
    "execution": {
     "iopub.execute_input": "2020-11-09T06:05:38.701764Z",
     "iopub.status.busy": "2020-11-09T06:05:38.693727Z",
     "iopub.status.idle": "2020-11-09T06:05:39.210785Z",
     "shell.execute_reply": "2020-11-09T06:05:39.209546Z"
    },
    "papermill": {
     "duration": 0.55071,
     "end_time": "2020-11-09T06:05:39.210914",
     "exception": false,
     "start_time": "2020-11-09T06:05:38.660204",
     "status": "completed"
    },
    "tags": []
   },
   "outputs": [],
   "source": [
    "mlp_fold = make_fold(7,34)"
   ]
  },
  {
   "cell_type": "code",
   "execution_count": 9,
   "metadata": {
    "execution": {
     "iopub.execute_input": "2020-11-09T06:05:39.276388Z",
     "iopub.status.busy": "2020-11-09T06:05:39.275181Z",
     "iopub.status.idle": "2020-11-09T06:05:40.074404Z",
     "shell.execute_reply": "2020-11-09T06:05:40.073827Z"
    },
    "papermill": {
     "duration": 0.834979,
     "end_time": "2020-11-09T06:05:40.074514",
     "exception": false,
     "start_time": "2020-11-09T06:05:39.239535",
     "status": "completed"
    },
    "tags": []
   },
   "outputs": [],
   "source": [
    "check_dist = targets.copy()\n",
    "check_dist[\"mlp_fold\"] = np.array(mlp_fold).reshape(-1,1)\n",
    "\n",
    "unbalanced_feats = []\n",
    "for i in target_feats:\n",
    "    if np.max(check_dist.loc[:,[i]+[\"mlp_fold\"]].groupby(\"mlp_fold\").sum()).values[0] == check_dist[i].sum() and check_dist[i].sum()>=5:\n",
    "        unbalanced_feats.append(i)"
   ]
  },
  {
   "cell_type": "markdown",
   "metadata": {
    "papermill": {
     "duration": 0.030444,
     "end_time": "2020-11-09T06:05:40.137748",
     "exception": false,
     "start_time": "2020-11-09T06:05:40.107304",
     "status": "completed"
    },
    "tags": []
   },
   "source": [
    "# Feature engineering"
   ]
  },
  {
   "cell_type": "code",
   "execution_count": 10,
   "metadata": {
    "execution": {
     "iopub.execute_input": "2020-11-09T06:05:40.223666Z",
     "iopub.status.busy": "2020-11-09T06:05:40.202830Z",
     "iopub.status.idle": "2020-11-09T06:05:40.241814Z",
     "shell.execute_reply": "2020-11-09T06:05:40.241285Z"
    },
    "papermill": {
     "duration": 0.075858,
     "end_time": "2020-11-09T06:05:40.241917",
     "exception": false,
     "start_time": "2020-11-09T06:05:40.166059",
     "status": "completed"
    },
    "tags": []
   },
   "outputs": [],
   "source": [
    "def fe_simple(df, remove_features):\n",
    "    tmp = df.copy()\n",
    "    tmp.loc[:, 'cp_dose'] = tmp.loc[:, 'cp_dose'].map({'D1': 0, 'D2': 1})\n",
    "    tmp.drop(remove_features, axis=1, inplace=True)\n",
    "    return tmp\n",
    "\n",
    "def fe_simple2(df):\n",
    "    tmp = df.copy()\n",
    "    tmp = pd.get_dummies(tmp, columns=['cp_time','cp_dose'])\n",
    "    tmp.drop([\"cp_type\", \"sig_id\"], axis=1, inplace=True) \n",
    "    return tmp\n",
    "\n",
    "def fe_mlp(df_train, df_test):\n",
    "    tmp_train = df_train.copy()\n",
    "    tmp_test = df_test.copy()\n",
    "    X = tmp_train.iloc[:,4:].copy().values\n",
    "    select = VarianceThreshold(threshold=0.7)\n",
    "    X_new = select.fit_transform(X)\n",
    "    drop_feats = list(np.array(tmp_train.iloc[:,4:].columns)[select.get_support()==False])\n",
    "    \n",
    "    tmp_train.drop(drop_feats, axis=1, inplace=True)\n",
    "    tmp_test.drop(drop_feats, axis=1, inplace=True)\n",
    "\n",
    "    modg_feats = [i for i in tmp_train.columns if \"g-\" in i]\n",
    "    modc_feats = [i for i in tmp_train.columns if \"c-\" in i]\n",
    "    \n",
    "    for i in modc_feats + modg_feats:\n",
    "        ss = preprocessing.QuantileTransformer(n_quantiles=1000, random_state=0, output_distribution=\"normal\")\n",
    "        ss.fit(tmp_train[i].values.reshape(-1,1))\n",
    "        tmp_train[i] = ss.transform(tmp_train[i].values.reshape(-1,1))\n",
    "        tmp_test[i] = ss.transform(tmp_test[i].values.reshape(-1,1))\n",
    "    \n",
    "    c_num = 10\n",
    "    pca_c_cols = [\"pca-c\"+str(i+1) for i in range(c_num)]\n",
    "    pca = PCA(n_components=c_num,random_state=42)\n",
    "    c_train = pca.fit_transform(tmp_train[modc_feats])\n",
    "    c_test = pca.transform(tmp_test[modc_feats])\n",
    "    c_train = pd.DataFrame(c_train, columns=pca_c_cols)\n",
    "    c_test = pd.DataFrame(c_test, columns=pca_c_cols)\n",
    "\n",
    "    g_num = 60\n",
    "    pca_g_cols = [\"pca-g\"+str(i+1) for i in range(g_num)]\n",
    "    pca = PCA(n_components=g_num, random_state=42)\n",
    "    g_train = pca.fit_transform(tmp_train[modg_feats])\n",
    "    g_test = pca.transform(tmp_test[modg_feats])\n",
    "    g_train = pd.DataFrame(g_train, columns=pca_g_cols)\n",
    "    g_test = pd.DataFrame(g_test, columns=pca_g_cols)\n",
    "\n",
    "    tmp_train = pd.concat([tmp_train, c_train],axis=1)\n",
    "    tmp_test = pd.concat([tmp_test, c_test],axis=1)\n",
    "    tmp_train = pd.concat([tmp_train, g_train],axis=1)\n",
    "    tmp_test = pd.concat([tmp_test, g_test],axis=1)\n",
    "    \n",
    "    return tmp_train, tmp_test\n",
    "\n",
    "def fe_stats(df):\n",
    "    tmp = df.copy()\n",
    "    modg_feats = [i for i in tmp.columns if \"g-\" in i]\n",
    "    modc_feats = [i for i in tmp.columns if \"c-\" in i]\n",
    "    tmp['g_kurt'] = tmp[modg_feats].kurtosis(axis = 1)\n",
    "    tmp['g_skew'] = tmp[modg_feats].skew(axis = 1)\n",
    "    tmp['c_kurt'] = tmp[modc_feats].kurtosis(axis = 1)\n",
    "    tmp['c_skew'] = tmp[modc_feats].skew(axis = 1)\n",
    "    return tmp\n",
    "\n",
    "def fe_dt(df_train, df_test):\n",
    "    tmp_train = df_train.copy()\n",
    "    tmp_test = df_test.copy()    \n",
    "    X = tmp_train[c_feats+g_feats].copy().values\n",
    "    select = VarianceThreshold(threshold=0.8)\n",
    "    X_new = select.fit_transform(X)\n",
    "    drop_feats = list(np.array(tmp_train[c_feats+g_feats].columns)[select.get_support()==False])\n",
    "\n",
    "    tmp_train.drop(drop_feats, axis=1, inplace=True)\n",
    "    tmp_test.drop(drop_feats, axis=1, inplace=True)\n",
    "\n",
    "    modg_feats = [i for i in tmp_train.columns if \"g-\" in i]\n",
    "    modc_feats = [i for i in tmp_train.columns if \"c-\" in i]\n",
    "    \n",
    "    \n",
    "    c_num = 10\n",
    "    pca_c_cols = [\"pca-c\"+str(i+1) for i in range(c_num)]\n",
    "    pca = PCA(n_components=c_num,random_state=42)\n",
    "    c_train = pca.fit_transform(tmp_train[modc_feats])\n",
    "    c_test = pca.transform(tmp_test[modc_feats])\n",
    "    c_train = pd.DataFrame(c_train, columns=pca_c_cols)\n",
    "    c_test = pd.DataFrame(c_test, columns=pca_c_cols)\n",
    "\n",
    "    g_num = 80\n",
    "    pca_g_cols = [\"pca-g\"+str(i+1) for i in range(g_num)]\n",
    "    pca = PCA(n_components=g_num, random_state=42)\n",
    "    g_train = pca.fit_transform(tmp_train[modg_feats])\n",
    "    g_test = pca.transform(tmp_test[modg_feats])\n",
    "    g_train = pd.DataFrame(g_train, columns=pca_g_cols)\n",
    "    g_test = pd.DataFrame(g_test, columns=pca_g_cols)\n",
    "\n",
    "    tmp_train = pd.concat([tmp_train, c_train],axis=1)\n",
    "    tmp_test = pd.concat([tmp_test, c_test],axis=1)\n",
    "    tmp_train = pd.concat([tmp_train, g_train],axis=1)\n",
    "    tmp_test = pd.concat([tmp_test, g_test],axis=1)\n",
    "    return tmp_train, tmp_test\n",
    "\n",
    "remove_features = [\"cp_type\" , \"sig_id\"]"
   ]
  },
  {
   "cell_type": "code",
   "execution_count": 11,
   "metadata": {
    "execution": {
     "iopub.execute_input": "2020-11-09T06:05:40.307848Z",
     "iopub.status.busy": "2020-11-09T06:05:40.306658Z",
     "iopub.status.idle": "2020-11-09T06:06:01.625638Z",
     "shell.execute_reply": "2020-11-09T06:06:01.626429Z"
    },
    "papermill": {
     "duration": 21.35594,
     "end_time": "2020-11-09T06:06:01.626628",
     "exception": false,
     "start_time": "2020-11-09T06:05:40.270688",
     "status": "completed"
    },
    "tags": []
   },
   "outputs": [
    {
     "name": "stdout",
     "output_type": "stream",
     "text": [
      "(21948, 919) (3624, 918)\n"
     ]
    }
   ],
   "source": [
    "fn_train = fe_simple(train, remove_features)\n",
    "fn_test = fe_simple(test, remove_features)\n",
    "\n",
    "# pytorch mlp -----------------------------------\n",
    "mlp_train, mlp_test = fe_mlp(train, test)\n",
    "mlp_train = fe_stats(mlp_train)\n",
    "mlp_test = fe_stats(mlp_test)\n",
    "mlp_train = fe_simple2(mlp_train)\n",
    "mlp_test = fe_simple2(mlp_test)\n",
    "mlp_train[\"fold\"] = mlp_fold\n",
    "mlp_train = mlp_train.to_numpy()\n",
    "mlp_test = mlp_test.to_numpy()\n",
    "\n",
    "# pytorch tabnet ----------------------------------\n",
    "#tab_train = fn_train.copy()\n",
    "#tab_test = fn_test.copy()\n",
    "\n",
    "#ss = preprocessing.RobustScaler()\n",
    "#tab_train= ss.fit_transform(tab_train)\n",
    "#tab_test = ss.transform(tab_test)\n",
    "\n",
    "# lgb ------------------------------\n",
    "lgb_train, lgb_test = fe_dt(fn_train, fn_test)\n",
    "lgb_train = fe_stats(lgb_train)\n",
    "lgb_test = fe_stats(lgb_test)\n",
    "\n",
    "# svm-----------------------\n",
    "#ss = preprocessing.StandardScaler()\n",
    "#fn_train= ss.fit_transform(fn_train)\n",
    "#fn_test = ss.transform(fn_test)\n",
    "\n",
    "print(mlp_train.shape, mlp_test.shape)\n",
    "#print(tab_train.shape, tab_test.shape)\n",
    "#print(fn_train.shape, fn_test.shape)"
   ]
  },
  {
   "cell_type": "markdown",
   "metadata": {
    "papermill": {
     "duration": 0.028474,
     "end_time": "2020-11-09T06:06:01.688412",
     "exception": false,
     "start_time": "2020-11-09T06:06:01.659938",
     "status": "completed"
    },
    "tags": []
   },
   "source": [
    "# 1st mlp"
   ]
  },
  {
   "cell_type": "code",
   "execution_count": 12,
   "metadata": {
    "execution": {
     "iopub.execute_input": "2020-11-09T06:06:01.756107Z",
     "iopub.status.busy": "2020-11-09T06:06:01.752845Z",
     "iopub.status.idle": "2020-11-09T06:06:01.758844Z",
     "shell.execute_reply": "2020-11-09T06:06:01.758371Z"
    },
    "papermill": {
     "duration": 0.042252,
     "end_time": "2020-11-09T06:06:01.758939",
     "exception": false,
     "start_time": "2020-11-09T06:06:01.716687",
     "status": "completed"
    },
    "tags": []
   },
   "outputs": [],
   "source": [
    "class SmoothCrossEntropyLoss(_WeightedLoss):\n",
    "    def __init__(self, weight=None, reduction='mean', smoothing=0.0):\n",
    "        super().__init__(weight=weight, reduction=reduction)\n",
    "        self.smoothing = smoothing\n",
    "        self.weight = weight\n",
    "        self.reduction = reduction\n",
    "\n",
    "    @staticmethod\n",
    "    def _smooth(targets, n_classes, smoothing=0.0):\n",
    "        assert 0 <= smoothing <= 1\n",
    "        with torch.no_grad():\n",
    "            targets = targets * (1 - smoothing) + torch.ones_like(targets).to(device) * smoothing / n_classes\n",
    "        return targets\n",
    "\n",
    "    def forward(self, inputs, targets):\n",
    "        targets = SmoothCrossEntropyLoss()._smooth(targets, inputs.shape[1], self.smoothing)\n",
    "\n",
    "        if self.weight is not None:\n",
    "            inputs = inputs * self.weight.unsqueeze(0)\n",
    "\n",
    "        loss = F.binary_cross_entropy_with_logits(inputs, targets)\n",
    "\n",
    "        return loss"
   ]
  },
  {
   "cell_type": "code",
   "execution_count": 13,
   "metadata": {
    "execution": {
     "iopub.execute_input": "2020-11-09T06:06:01.834906Z",
     "iopub.status.busy": "2020-11-09T06:06:01.824433Z",
     "iopub.status.idle": "2020-11-09T06:06:01.882773Z",
     "shell.execute_reply": "2020-11-09T06:06:01.883326Z"
    },
    "papermill": {
     "duration": 0.095694,
     "end_time": "2020-11-09T06:06:01.883458",
     "exception": false,
     "start_time": "2020-11-09T06:06:01.787764",
     "status": "completed"
    },
    "tags": []
   },
   "outputs": [],
   "source": [
    "device = \"cuda\" if torch.cuda.is_available() else \"cpu\"\n",
    "batch_size = 128\n",
    "n_folds=7\n",
    "train_epochs = 20\n",
    "smoothing = 0.001\n",
    "p_min = smoothing\n",
    "p_max = 1 - smoothing\n",
    "\n",
    "def mean_log_loss(y_true, y_pred):\n",
    "    metrics = []\n",
    "    for i, target in enumerate(target_feats):\n",
    "        metrics.append(log_loss(y_true[:, i], y_pred[:, i].astype(float), labels=[0,1]))\n",
    "    return np.mean(metrics)\n",
    "\n",
    "def seed_everything(seed=1234): \n",
    "    random.seed(seed)\n",
    "    os.environ['PYTHONHASHSEED'] = str(seed)\n",
    "    tf.random.set_seed(seed)\n",
    "    np.random.seed(seed)\n",
    "    torch.manual_seed(seed)\n",
    "    torch.cuda.manual_seed(seed)\n",
    "    torch.backends.cudnn.deterministic = True\n",
    "    \n",
    "class MoaModel(nn.Module):\n",
    "    def __init__(self, num_columns, last_num):\n",
    "        super(MoaModel, self).__init__()\n",
    "        self.batch_norm1 = nn.BatchNorm1d(num_columns)\n",
    "        self.dropout1 = nn.Dropout(0.1)\n",
    "        self.dense1 = nn.utils.weight_norm(nn.Linear(num_columns, 1024))\n",
    "        self.relu1 = nn.LeakyReLU()\n",
    "        \n",
    "        self.batch_norm2 = nn.BatchNorm1d(1024)\n",
    "        self.dropout2 = nn.Dropout(0.1)\n",
    "        self.dense2 = nn.utils.weight_norm(nn.Linear(1024, 1024))\n",
    "        self.relu2 = nn.LeakyReLU()\n",
    "        \n",
    "        self.batch_norm3 = nn.BatchNorm1d(1024)\n",
    "        self.dropout3 = nn.Dropout(0.1)\n",
    "        self.dense3 = nn.utils.weight_norm(nn.Linear(1024, last_num))\n",
    "        \n",
    "    def forward(self, x):\n",
    "        x = self.batch_norm1(x)\n",
    "        x = self.dropout1(x)\n",
    "        x = self.relu1(self.dense1(x))\n",
    "        \n",
    "        x = self.batch_norm2(x)\n",
    "        x = self.dropout2(x)\n",
    "        x = self.relu2(self.dense2(x))\n",
    "        \n",
    "        x = self.batch_norm3(x)\n",
    "        x = self.dropout3(x)\n",
    "        x = self.dense3(x)\n",
    "        \n",
    "        return x\n",
    "    \n",
    "def modelling_torch(tr, target, te, sample_seed, init_num, last_num):\n",
    "    seed_everything(seed=sample_seed) \n",
    "    X_train = tr.copy()\n",
    "    y_train = target.copy()\n",
    "    X_test = te.copy()\n",
    "    test_len = X_test.shape[0]\n",
    "    \n",
    "    mskf=MultilabelStratifiedKFold(n_splits = n_folds, shuffle=True, random_state=224)\n",
    "    metric = lambda inputs, targets : F.binary_cross_entropy((torch.clamp(torch.sigmoid(inputs), p_min, p_max)), targets)\n",
    "\n",
    "    models = []\n",
    "    \n",
    "    X_test2 = torch.tensor(X_test, dtype=torch.float32)\n",
    "    test = torch.utils.data.TensorDataset(X_test2) \n",
    "    test_loader = torch.utils.data.DataLoader(test, batch_size=batch_size, shuffle=False)\n",
    "    \n",
    "    oof = np.zeros([len(X_train),y_train.shape[1]])\n",
    "    oof_targets = np.zeros([len(X_train),y_train.shape[1]])\n",
    "    pred_value = np.zeros([test_len, y_train.shape[1]])\n",
    "    \n",
    "    scores = []\n",
    "    for fold in range(n_folds):\n",
    "        valid_index = X_train[:,-1] == fold\n",
    "        train_index = X_train[:,-1] != fold\n",
    "        print(\"Fold \"+str(fold+1))\n",
    "        X_train2 = torch.tensor(X_train[train_index,:], dtype=torch.float32)\n",
    "        X_valid2 = torch.tensor(X_train[valid_index,:], dtype=torch.float32)\n",
    "        X_train2 = X_train2[:,:-1]\n",
    "        X_valid2 = X_valid2[:,:-1]\n",
    "        \n",
    "        y_train2 = torch.tensor(y_train[train_index], dtype=torch.float32)\n",
    "        y_valid2 = torch.tensor(y_train[valid_index], dtype=torch.float32)\n",
    "        \n",
    "        train = torch.utils.data.TensorDataset(X_train2, y_train2)\n",
    "        valid = torch.utils.data.TensorDataset(X_valid2, y_valid2)\n",
    "        \n",
    "        train_loader = torch.utils.data.DataLoader(train, batch_size=batch_size, shuffle=True) \n",
    "        valid_loader = torch.utils.data.DataLoader(valid, batch_size=batch_size, shuffle=False)\n",
    "            \n",
    "        clf = MoaModel(init_num, last_num)\n",
    "        loss_fn = SmoothCrossEntropyLoss(smoothing=smoothing)\n",
    "\n",
    "        optimizer = optim.Adam(clf.parameters(), lr = 0.001, weight_decay=1e-5) \n",
    "        scheduler = optim.lr_scheduler.OneCycleLR(optimizer=optimizer, pct_start=0.1, div_factor=1e3, \n",
    "                                              max_lr=1e-2, epochs=train_epochs, steps_per_epoch=len(train_loader))\n",
    "        \n",
    "        clf.to(device)\n",
    "        \n",
    "        best_val_loss = np.inf\n",
    "        stop_counts = 0\n",
    "        for epoch in range(train_epochs):\n",
    "            start_time = time.time()\n",
    "            clf.train()\n",
    "            avg_loss = 0.\n",
    "            sm_avg_loss = 0.\n",
    "            \n",
    "            for x_batch, y_batch in tqdm(train_loader, disable=True):\n",
    "                x_batch = x_batch.to(device)\n",
    "                y_batch = y_batch.to(device)\n",
    "                y_pred = clf(x_batch) \n",
    "                loss = loss_fn(y_pred, y_batch)\n",
    "                optimizer.zero_grad()\n",
    "                loss.backward()\n",
    "                optimizer.step()\n",
    "                scheduler.step()\n",
    "                avg_loss += loss.item() / len(train_loader)  \n",
    "                sm_avg_loss += metric(y_pred, y_batch) / len(train_loader) \n",
    "                \n",
    "            clf.eval()\n",
    "            avg_val_loss = 0.\n",
    "            sm_avg_val_loss = 0.\n",
    "            for i, (x_batch, y_batch) in enumerate(valid_loader): \n",
    "                x_batch = x_batch.to(device)\n",
    "                y_batch = y_batch.to(device)\n",
    "                y_pred = clf(x_batch).detach()\n",
    "                avg_val_loss += loss_fn(y_pred, y_batch).item() / len(valid_loader)\n",
    "                sm_avg_val_loss += metric(y_pred, y_batch) / len(valid_loader)\n",
    "\n",
    "            elapsed_time = time.time() - start_time \n",
    "            #scheduler.step() #avg_val_loss # maybe mistake\n",
    "                    \n",
    "            if sm_avg_val_loss < best_val_loss:\n",
    "                best_val_loss = sm_avg_val_loss\n",
    "                print('Best: Epoch {} \\t loss={:.5f} \\t val_loss={:.5f} \\t sm_loss={:.5f} \\t sm_val_loss={:.5f} \\t time={:.2f}s'.format(\n",
    "                    epoch + 1, avg_loss, avg_val_loss, sm_avg_loss, sm_avg_val_loss, elapsed_time))\n",
    "                torch.save(clf.state_dict(), 'best-model-parameters.pt')\n",
    "            else:\n",
    "                stop_counts += 1\n",
    "        \n",
    "        pred_model = MoaModel(init_num, last_num)\n",
    "        pred_model.load_state_dict(torch.load('best-model-parameters.pt'))         \n",
    "        pred_model.eval()\n",
    "        \n",
    "        # validation check ----------------\n",
    "        oof_epoch = np.zeros([X_valid2.size(0), y_train.shape[1]])\n",
    "        target_epoch = np.zeros([X_valid2.size(0), y_train.shape[1]])\n",
    "        for i, (x_batch, y_batch) in enumerate(valid_loader): \n",
    "                y_pred = pred_model(x_batch).detach()\n",
    "                oof_epoch[i * batch_size:(i+1) * batch_size,:] = torch.clamp(torch.sigmoid(y_pred.cpu()), p_min, p_max)\n",
    "                target_epoch[i * batch_size:(i+1) * batch_size,:] = y_batch.cpu().numpy()\n",
    "        print(\"Fold {} log loss: {}\".format(fold+1, mean_log_loss(target_epoch, oof_epoch)))\n",
    "        scores.append(mean_log_loss(target_epoch, oof_epoch))\n",
    "        oof[valid_index,:] = oof_epoch\n",
    "        oof_targets[valid_index,:] = target_epoch\n",
    "        #-----------------------------------\n",
    "        \n",
    "        # test predcition --------------\n",
    "        test_preds = np.zeros([test_len, y_train.shape[1]])\n",
    "        for i, (x_batch,) in enumerate(test_loader): \n",
    "            y_pred = pred_model(x_batch).detach()\n",
    "            test_preds[i * batch_size:(i+1) * batch_size, :] = torch.clamp(torch.sigmoid(y_pred.cpu()), p_min, p_max)\n",
    "        pred_value += test_preds / n_folds\n",
    "        # ------------------------------\n",
    "        \n",
    "    print(\"Seed {}\".format(seed_))\n",
    "    for i, ele in enumerate(scores):\n",
    "        print(\"Fold {} log loss: {}\".format(i+1, scores[i]))\n",
    "    print(\"Std of log loss: {}\".format(np.std(scores)))\n",
    "    print(\"Total log loss: {}\".format(mean_log_loss(oof_targets, oof)))\n",
    "    \n",
    "    return oof, pred_value"
   ]
  },
  {
   "cell_type": "code",
   "execution_count": 14,
   "metadata": {
    "execution": {
     "iopub.execute_input": "2020-11-09T06:06:01.948324Z",
     "iopub.status.busy": "2020-11-09T06:06:01.947605Z",
     "iopub.status.idle": "2020-11-09T06:18:18.087356Z",
     "shell.execute_reply": "2020-11-09T06:18:18.085800Z"
    },
    "papermill": {
     "duration": 736.175615,
     "end_time": "2020-11-09T06:18:18.087494",
     "exception": false,
     "start_time": "2020-11-09T06:06:01.911879",
     "status": "completed"
    },
    "tags": []
   },
   "outputs": [
    {
     "name": "stdout",
     "output_type": "stream",
     "text": [
      "Fold 1\n",
      "Best: Epoch 1 \t loss=0.41376 \t val_loss=0.02255 \t sm_loss=0.41373 \t sm_val_loss=0.02252 \t time=1.19s\n",
      "Best: Epoch 2 \t loss=0.02017 \t val_loss=0.01888 \t sm_loss=0.02011 \t sm_val_loss=0.01882 \t time=0.87s\n",
      "Best: Epoch 3 \t loss=0.01819 \t val_loss=0.01834 \t sm_loss=0.01820 \t sm_val_loss=0.01839 \t time=0.89s\n",
      "Best: Epoch 4 \t loss=0.01749 \t val_loss=0.01800 \t sm_loss=0.01757 \t sm_val_loss=0.01803 \t time=0.88s\n",
      "Best: Epoch 5 \t loss=0.01735 \t val_loss=0.01791 \t sm_loss=0.01746 \t sm_val_loss=0.01790 \t time=0.89s\n",
      "Best: Epoch 9 \t loss=0.01720 \t val_loss=0.01767 \t sm_loss=0.01733 \t sm_val_loss=0.01772 \t time=0.88s\n",
      "Best: Epoch 11 \t loss=0.01691 \t val_loss=0.01770 \t sm_loss=0.01704 \t sm_val_loss=0.01771 \t time=0.91s\n",
      "Best: Epoch 12 \t loss=0.01667 \t val_loss=0.01755 \t sm_loss=0.01682 \t sm_val_loss=0.01760 \t time=0.90s\n",
      "Best: Epoch 13 \t loss=0.01645 \t val_loss=0.01740 \t sm_loss=0.01661 \t sm_val_loss=0.01742 \t time=0.90s\n",
      "Best: Epoch 14 \t loss=0.01620 \t val_loss=0.01738 \t sm_loss=0.01637 \t sm_val_loss=0.01738 \t time=0.91s\n",
      "Best: Epoch 15 \t loss=0.01578 \t val_loss=0.01718 \t sm_loss=0.01595 \t sm_val_loss=0.01719 \t time=0.87s\n",
      "Best: Epoch 16 \t loss=0.01535 \t val_loss=0.01719 \t sm_loss=0.01554 \t sm_val_loss=0.01718 \t time=0.91s\n",
      "Best: Epoch 17 \t loss=0.01489 \t val_loss=0.01704 \t sm_loss=0.01509 \t sm_val_loss=0.01706 \t time=0.88s\n",
      "Best: Epoch 18 \t loss=0.01439 \t val_loss=0.01701 \t sm_loss=0.01461 \t sm_val_loss=0.01702 \t time=0.88s\n",
      "Best: Epoch 19 \t loss=0.01398 \t val_loss=0.01701 \t sm_loss=0.01420 \t sm_val_loss=0.01701 \t time=0.89s\n",
      "Fold 1 log loss: 0.017113289632990872\n",
      "Fold 2\n",
      "Best: Epoch 1 \t loss=0.41428 \t val_loss=0.02199 \t sm_loss=0.41425 \t sm_val_loss=0.02198 \t time=0.93s\n",
      "Best: Epoch 2 \t loss=0.02018 \t val_loss=0.01862 \t sm_loss=0.02013 \t sm_val_loss=0.01863 \t time=0.89s\n",
      "Best: Epoch 3 \t loss=0.01814 \t val_loss=0.01765 \t sm_loss=0.01818 \t sm_val_loss=0.01770 \t time=0.88s\n",
      "Best: Epoch 4 \t loss=0.01745 \t val_loss=0.01764 \t sm_loss=0.01755 \t sm_val_loss=0.01760 \t time=0.89s\n",
      "Best: Epoch 5 \t loss=0.01735 \t val_loss=0.01729 \t sm_loss=0.01747 \t sm_val_loss=0.01729 \t time=0.92s\n",
      "Best: Epoch 11 \t loss=0.01686 \t val_loss=0.01716 \t sm_loss=0.01700 \t sm_val_loss=0.01719 \t time=0.91s\n",
      "Best: Epoch 12 \t loss=0.01666 \t val_loss=0.01711 \t sm_loss=0.01681 \t sm_val_loss=0.01715 \t time=0.90s\n",
      "Best: Epoch 13 \t loss=0.01640 \t val_loss=0.01695 \t sm_loss=0.01656 \t sm_val_loss=0.01699 \t time=0.88s\n",
      "Best: Epoch 16 \t loss=0.01541 \t val_loss=0.01692 \t sm_loss=0.01561 \t sm_val_loss=0.01695 \t time=0.95s\n",
      "Best: Epoch 17 \t loss=0.01489 \t val_loss=0.01692 \t sm_loss=0.01510 \t sm_val_loss=0.01694 \t time=1.06s\n",
      "Fold 2 log loss: 0.017049994689241232\n",
      "Fold 3\n",
      "Best: Epoch 1 \t loss=0.41404 \t val_loss=0.02257 \t sm_loss=0.41396 \t sm_val_loss=0.02254 \t time=0.97s\n",
      "Best: Epoch 2 \t loss=0.02000 \t val_loss=0.02003 \t sm_loss=0.01997 \t sm_val_loss=0.01999 \t time=0.98s\n",
      "Best: Epoch 3 \t loss=0.01792 \t val_loss=0.01832 \t sm_loss=0.01798 \t sm_val_loss=0.01836 \t time=0.94s\n",
      "Best: Epoch 8 \t loss=0.01710 \t val_loss=0.01811 \t sm_loss=0.01722 \t sm_val_loss=0.01811 \t time=0.90s\n",
      "Best: Epoch 11 \t loss=0.01679 \t val_loss=0.01789 \t sm_loss=0.01693 \t sm_val_loss=0.01787 \t time=1.19s\n",
      "Best: Epoch 13 \t loss=0.01638 \t val_loss=0.01769 \t sm_loss=0.01654 \t sm_val_loss=0.01771 \t time=0.87s\n",
      "Best: Epoch 14 \t loss=0.01608 \t val_loss=0.01764 \t sm_loss=0.01625 \t sm_val_loss=0.01767 \t time=0.92s\n",
      "Best: Epoch 15 \t loss=0.01572 \t val_loss=0.01762 \t sm_loss=0.01590 \t sm_val_loss=0.01764 \t time=0.89s\n",
      "Best: Epoch 16 \t loss=0.01530 \t val_loss=0.01763 \t sm_loss=0.01549 \t sm_val_loss=0.01761 \t time=0.89s\n",
      "Best: Epoch 17 \t loss=0.01482 \t val_loss=0.01761 \t sm_loss=0.01503 \t sm_val_loss=0.01761 \t time=1.06s\n",
      "Best: Epoch 18 \t loss=0.01433 \t val_loss=0.01756 \t sm_loss=0.01455 \t sm_val_loss=0.01755 \t time=0.89s\n",
      "Fold 3 log loss: 0.01750418235532065\n",
      "Fold 4\n",
      "Best: Epoch 1 \t loss=0.41387 \t val_loss=0.02273 \t sm_loss=0.41382 \t sm_val_loss=0.02269 \t time=0.90s\n",
      "Best: Epoch 3 \t loss=0.01804 \t val_loss=0.01868 \t sm_loss=0.01811 \t sm_val_loss=0.01870 \t time=0.88s\n",
      "Best: Epoch 4 \t loss=0.01738 \t val_loss=0.01849 \t sm_loss=0.01750 \t sm_val_loss=0.01847 \t time=0.89s\n",
      "Best: Epoch 6 \t loss=0.01723 \t val_loss=0.01841 \t sm_loss=0.01736 \t sm_val_loss=0.01842 \t time=0.89s\n",
      "Best: Epoch 7 \t loss=0.01720 \t val_loss=0.01841 \t sm_loss=0.01733 \t sm_val_loss=0.01839 \t time=0.89s\n",
      "Best: Epoch 9 \t loss=0.01707 \t val_loss=0.01820 \t sm_loss=0.01721 \t sm_val_loss=0.01819 \t time=0.90s\n",
      "Best: Epoch 11 \t loss=0.01685 \t val_loss=0.01792 \t sm_loss=0.01700 \t sm_val_loss=0.01791 \t time=0.90s\n",
      "Best: Epoch 13 \t loss=0.01640 \t val_loss=0.01783 \t sm_loss=0.01656 \t sm_val_loss=0.01783 \t time=0.88s\n",
      "Best: Epoch 15 \t loss=0.01566 \t val_loss=0.01780 \t sm_loss=0.01584 \t sm_val_loss=0.01781 \t time=0.88s\n",
      "Best: Epoch 16 \t loss=0.01529 \t val_loss=0.01778 \t sm_loss=0.01549 \t sm_val_loss=0.01777 \t time=0.88s\n",
      "Best: Epoch 17 \t loss=0.01479 \t val_loss=0.01773 \t sm_loss=0.01501 \t sm_val_loss=0.01772 \t time=0.87s\n",
      "Best: Epoch 20 \t loss=0.01367 \t val_loss=0.01772 \t sm_loss=0.01390 \t sm_val_loss=0.01771 \t time=0.87s\n",
      "Fold 4 log loss: 0.017804519168280273\n",
      "Fold 5\n",
      "Best: Epoch 1 \t loss=0.41444 \t val_loss=0.02263 \t sm_loss=0.41439 \t sm_val_loss=0.02262 \t time=1.27s\n",
      "Best: Epoch 2 \t loss=0.02010 \t val_loss=0.01931 \t sm_loss=0.02005 \t sm_val_loss=0.01929 \t time=1.03s\n",
      "Best: Epoch 3 \t loss=0.01836 \t val_loss=0.01844 \t sm_loss=0.01836 \t sm_val_loss=0.01845 \t time=0.91s\n",
      "Best: Epoch 5 \t loss=0.01737 \t val_loss=0.01801 \t sm_loss=0.01750 \t sm_val_loss=0.01802 \t time=0.90s\n",
      "Best: Epoch 6 \t loss=0.01727 \t val_loss=0.01796 \t sm_loss=0.01740 \t sm_val_loss=0.01796 \t time=0.89s\n",
      "Best: Epoch 9 \t loss=0.01713 \t val_loss=0.01779 \t sm_loss=0.01726 \t sm_val_loss=0.01781 \t time=0.87s\n",
      "Best: Epoch 11 \t loss=0.01688 \t val_loss=0.01773 \t sm_loss=0.01702 \t sm_val_loss=0.01773 \t time=0.86s\n",
      "Best: Epoch 12 \t loss=0.01660 \t val_loss=0.01750 \t sm_loss=0.01675 \t sm_val_loss=0.01750 \t time=0.89s\n",
      "Best: Epoch 13 \t loss=0.01637 \t val_loss=0.01728 \t sm_loss=0.01653 \t sm_val_loss=0.01730 \t time=1.60s\n",
      "Best: Epoch 14 \t loss=0.01609 \t val_loss=0.01724 \t sm_loss=0.01626 \t sm_val_loss=0.01724 \t time=0.99s\n",
      "Best: Epoch 16 \t loss=0.01532 \t val_loss=0.01704 \t sm_loss=0.01551 \t sm_val_loss=0.01705 \t time=0.95s\n",
      "Best: Epoch 18 \t loss=0.01431 \t val_loss=0.01698 \t sm_loss=0.01453 \t sm_val_loss=0.01698 \t time=1.00s\n",
      "Fold 5 log loss: 0.017231030051370815\n",
      "Fold 6\n",
      "Best: Epoch 1 \t loss=0.41385 \t val_loss=0.02254 \t sm_loss=0.41378 \t sm_val_loss=0.02252 \t time=0.89s\n",
      "Best: Epoch 2 \t loss=0.02009 \t val_loss=0.02210 \t sm_loss=0.02004 \t sm_val_loss=0.02127 \t time=0.95s\n",
      "Best: Epoch 3 \t loss=0.01817 \t val_loss=0.01851 \t sm_loss=0.01820 \t sm_val_loss=0.01851 \t time=1.11s\n",
      "Best: Epoch 4 \t loss=0.01764 \t val_loss=0.01824 \t sm_loss=0.01774 \t sm_val_loss=0.01832 \t time=0.89s\n",
      "Best: Epoch 8 \t loss=0.01725 \t val_loss=0.01786 \t sm_loss=0.01737 \t sm_val_loss=0.01795 \t time=0.90s\n",
      "Best: Epoch 10 \t loss=0.01708 \t val_loss=0.01773 \t sm_loss=0.01719 \t sm_val_loss=0.01780 \t time=0.89s\n",
      "Best: Epoch 11 \t loss=0.01691 \t val_loss=0.01772 \t sm_loss=0.01704 \t sm_val_loss=0.01779 \t time=0.88s\n",
      "Best: Epoch 12 \t loss=0.01674 \t val_loss=0.01751 \t sm_loss=0.01688 \t sm_val_loss=0.01761 \t time=1.21s\n",
      "Best: Epoch 14 \t loss=0.01629 \t val_loss=0.01746 \t sm_loss=0.01644 \t sm_val_loss=0.01752 \t time=1.11s\n",
      "Best: Epoch 15 \t loss=0.01586 \t val_loss=0.01728 \t sm_loss=0.01602 \t sm_val_loss=0.01736 \t time=0.91s\n",
      "Best: Epoch 16 \t loss=0.01546 \t val_loss=0.01723 \t sm_loss=0.01564 \t sm_val_loss=0.01732 \t time=0.88s\n",
      "Best: Epoch 17 \t loss=0.01504 \t val_loss=0.01722 \t sm_loss=0.01523 \t sm_val_loss=0.01731 \t time=0.89s\n",
      "Best: Epoch 18 \t loss=0.01450 \t val_loss=0.01722 \t sm_loss=0.01471 \t sm_val_loss=0.01730 \t time=0.94s\n",
      "Fold 6 log loss: 0.01733028201988104\n",
      "Fold 7\n",
      "Best: Epoch 1 \t loss=0.41437 \t val_loss=0.02302 \t sm_loss=0.41431 \t sm_val_loss=0.02301 \t time=0.94s\n",
      "Best: Epoch 2 \t loss=0.02020 \t val_loss=0.01936 \t sm_loss=0.02014 \t sm_val_loss=0.01929 \t time=0.91s\n",
      "Best: Epoch 3 \t loss=0.01803 \t val_loss=0.01887 \t sm_loss=0.01808 \t sm_val_loss=0.01890 \t time=0.92s\n",
      "Best: Epoch 4 \t loss=0.01745 \t val_loss=0.01796 \t sm_loss=0.01754 \t sm_val_loss=0.01802 \t time=1.12s\n",
      "Best: Epoch 5 \t loss=0.01729 \t val_loss=0.01780 \t sm_loss=0.01740 \t sm_val_loss=0.01785 \t time=0.95s\n",
      "Best: Epoch 10 \t loss=0.01701 \t val_loss=0.01775 \t sm_loss=0.01714 \t sm_val_loss=0.01781 \t time=0.88s\n",
      "Best: Epoch 11 \t loss=0.01680 \t val_loss=0.01755 \t sm_loss=0.01694 \t sm_val_loss=0.01761 \t time=0.88s\n",
      "Best: Epoch 12 \t loss=0.01666 \t val_loss=0.01734 \t sm_loss=0.01681 \t sm_val_loss=0.01743 \t time=0.91s\n",
      "Best: Epoch 14 \t loss=0.01618 \t val_loss=0.01720 \t sm_loss=0.01634 \t sm_val_loss=0.01725 \t time=0.89s\n",
      "Best: Epoch 16 \t loss=0.01529 \t val_loss=0.01709 \t sm_loss=0.01548 \t sm_val_loss=0.01714 \t time=1.14s\n",
      "Best: Epoch 17 \t loss=0.01484 \t val_loss=0.01705 \t sm_loss=0.01505 \t sm_val_loss=0.01710 \t time=0.91s\n",
      "Best: Epoch 18 \t loss=0.01431 \t val_loss=0.01696 \t sm_loss=0.01453 \t sm_val_loss=0.01702 \t time=0.90s\n",
      "Best: Epoch 19 \t loss=0.01386 \t val_loss=0.01695 \t sm_loss=0.01409 \t sm_val_loss=0.01700 \t time=0.90s\n",
      "Fold 7 log loss: 0.017022507464739062\n",
      "Seed 0\n",
      "Fold 1 log loss: 0.017113289632990872\n",
      "Fold 2 log loss: 0.017049994689241232\n",
      "Fold 3 log loss: 0.01750418235532065\n",
      "Fold 4 log loss: 0.017804519168280273\n",
      "Fold 5 log loss: 0.017231030051370815\n",
      "Fold 6 log loss: 0.01733028201988104\n",
      "Fold 7 log loss: 0.017022507464739062\n",
      "Std of log loss: 0.00026076546116121505\n",
      "Total log loss: 0.01729337550164496\n",
      "Fold 1\n",
      "Best: Epoch 1 \t loss=0.41504 \t val_loss=0.02308 \t sm_loss=0.41500 \t sm_val_loss=0.02304 \t time=0.94s\n",
      "Best: Epoch 2 \t loss=0.02017 \t val_loss=0.01958 \t sm_loss=0.02012 \t sm_val_loss=0.01953 \t time=0.88s\n",
      "Best: Epoch 4 \t loss=0.01741 \t val_loss=0.01799 \t sm_loss=0.01752 \t sm_val_loss=0.01799 \t time=1.07s\n",
      "Best: Epoch 7 \t loss=0.01729 \t val_loss=0.01794 \t sm_loss=0.01740 \t sm_val_loss=0.01795 \t time=0.89s\n",
      "Best: Epoch 8 \t loss=0.01718 \t val_loss=0.01772 \t sm_loss=0.01730 \t sm_val_loss=0.01775 \t time=0.88s\n",
      "Best: Epoch 10 \t loss=0.01703 \t val_loss=0.01756 \t sm_loss=0.01715 \t sm_val_loss=0.01756 \t time=0.97s\n",
      "Best: Epoch 13 \t loss=0.01649 \t val_loss=0.01736 \t sm_loss=0.01664 \t sm_val_loss=0.01737 \t time=0.88s\n",
      "Best: Epoch 14 \t loss=0.01618 \t val_loss=0.01735 \t sm_loss=0.01634 \t sm_val_loss=0.01737 \t time=0.93s\n",
      "Best: Epoch 15 \t loss=0.01588 \t val_loss=0.01719 \t sm_loss=0.01605 \t sm_val_loss=0.01718 \t time=0.92s\n",
      "Best: Epoch 16 \t loss=0.01544 \t val_loss=0.01705 \t sm_loss=0.01563 \t sm_val_loss=0.01706 \t time=1.20s\n",
      "Best: Epoch 18 \t loss=0.01455 \t val_loss=0.01693 \t sm_loss=0.01476 \t sm_val_loss=0.01695 \t time=0.91s\n",
      "Fold 1 log loss: 0.01705126170858484\n",
      "Fold 2\n",
      "Best: Epoch 1 \t loss=0.41372 \t val_loss=0.02157 \t sm_loss=0.41367 \t sm_val_loss=0.02156 \t time=0.88s\n",
      "Best: Epoch 2 \t loss=0.02023 \t val_loss=0.01814 \t sm_loss=0.02019 \t sm_val_loss=0.01815 \t time=0.88s\n",
      "Best: Epoch 3 \t loss=0.01802 \t val_loss=0.01796 \t sm_loss=0.01806 \t sm_val_loss=0.01796 \t time=0.88s\n",
      "Best: Epoch 4 \t loss=0.01744 \t val_loss=0.01763 \t sm_loss=0.01755 \t sm_val_loss=0.01762 \t time=0.89s\n",
      "Best: Epoch 5 \t loss=0.01731 \t val_loss=0.01741 \t sm_loss=0.01743 \t sm_val_loss=0.01742 \t time=0.98s\n",
      "Best: Epoch 9 \t loss=0.01714 \t val_loss=0.01733 \t sm_loss=0.01727 \t sm_val_loss=0.01735 \t time=0.89s\n",
      "Best: Epoch 10 \t loss=0.01698 \t val_loss=0.01729 \t sm_loss=0.01712 \t sm_val_loss=0.01731 \t time=0.88s\n",
      "Best: Epoch 11 \t loss=0.01689 \t val_loss=0.01727 \t sm_loss=0.01703 \t sm_val_loss=0.01730 \t time=0.92s\n",
      "Best: Epoch 12 \t loss=0.01671 \t val_loss=0.01707 \t sm_loss=0.01685 \t sm_val_loss=0.01711 \t time=1.18s\n",
      "Best: Epoch 14 \t loss=0.01617 \t val_loss=0.01705 \t sm_loss=0.01634 \t sm_val_loss=0.01709 \t time=0.89s\n",
      "Best: Epoch 15 \t loss=0.01582 \t val_loss=0.01685 \t sm_loss=0.01600 \t sm_val_loss=0.01688 \t time=0.88s\n",
      "Fold 2 log loss: 0.017004102171724527\n",
      "Fold 3\n",
      "Best: Epoch 1 \t loss=0.41474 \t val_loss=0.02394 \t sm_loss=0.41469 \t sm_val_loss=0.02392 \t time=0.92s\n",
      "Best: Epoch 2 \t loss=0.02007 \t val_loss=0.01890 \t sm_loss=0.01999 \t sm_val_loss=0.01895 \t time=0.92s\n",
      "Best: Epoch 3 \t loss=0.01795 \t val_loss=0.01836 \t sm_loss=0.01799 \t sm_val_loss=0.01839 \t time=0.93s\n",
      "Best: Epoch 7 \t loss=0.01709 \t val_loss=0.01813 \t sm_loss=0.01723 \t sm_val_loss=0.01812 \t time=1.11s\n",
      "Best: Epoch 8 \t loss=0.01707 \t val_loss=0.01817 \t sm_loss=0.01721 \t sm_val_loss=0.01811 \t time=0.91s\n",
      "Best: Epoch 11 \t loss=0.01670 \t val_loss=0.01790 \t sm_loss=0.01685 \t sm_val_loss=0.01790 \t time=0.89s\n",
      "Best: Epoch 12 \t loss=0.01657 \t val_loss=0.01786 \t sm_loss=0.01672 \t sm_val_loss=0.01786 \t time=0.91s\n",
      "Best: Epoch 13 \t loss=0.01633 \t val_loss=0.01775 \t sm_loss=0.01648 \t sm_val_loss=0.01777 \t time=0.91s\n",
      "Best: Epoch 14 \t loss=0.01601 \t val_loss=0.01772 \t sm_loss=0.01617 \t sm_val_loss=0.01775 \t time=0.89s\n",
      "Best: Epoch 16 \t loss=0.01522 \t val_loss=0.01763 \t sm_loss=0.01542 \t sm_val_loss=0.01763 \t time=0.88s\n",
      "Best: Epoch 17 \t loss=0.01471 \t val_loss=0.01760 \t sm_loss=0.01492 \t sm_val_loss=0.01762 \t time=0.90s\n",
      "Best: Epoch 18 \t loss=0.01418 \t val_loss=0.01751 \t sm_loss=0.01440 \t sm_val_loss=0.01751 \t time=0.90s\n",
      "Fold 3 log loss: 0.017463404467133407\n",
      "Fold 4\n",
      "Best: Epoch 1 \t loss=0.41378 \t val_loss=0.02243 \t sm_loss=0.41369 \t sm_val_loss=0.02242 \t time=0.91s\n",
      "Best: Epoch 2 \t loss=0.01997 \t val_loss=0.02015 \t sm_loss=0.01994 \t sm_val_loss=0.01993 \t time=1.23s\n",
      "Best: Epoch 3 \t loss=0.01786 \t val_loss=0.01940 \t sm_loss=0.01794 \t sm_val_loss=0.01919 \t time=0.98s\n",
      "Best: Epoch 4 \t loss=0.01747 \t val_loss=0.01847 \t sm_loss=0.01757 \t sm_val_loss=0.01841 \t time=0.91s\n",
      "Best: Epoch 6 \t loss=0.01715 \t val_loss=0.01819 \t sm_loss=0.01728 \t sm_val_loss=0.01817 \t time=1.03s\n",
      "Best: Epoch 8 \t loss=0.01710 \t val_loss=0.01817 \t sm_loss=0.01722 \t sm_val_loss=0.01816 \t time=1.10s\n",
      "Best: Epoch 10 \t loss=0.01688 \t val_loss=0.01808 \t sm_loss=0.01702 \t sm_val_loss=0.01807 \t time=1.00s\n",
      "Best: Epoch 11 \t loss=0.01673 \t val_loss=0.01795 \t sm_loss=0.01687 \t sm_val_loss=0.01795 \t time=1.04s\n",
      "Best: Epoch 12 \t loss=0.01651 \t val_loss=0.01778 \t sm_loss=0.01667 \t sm_val_loss=0.01776 \t time=1.16s\n",
      "Best: Epoch 16 \t loss=0.01522 \t val_loss=0.01768 \t sm_loss=0.01541 \t sm_val_loss=0.01768 \t time=0.92s\n",
      "Best: Epoch 17 \t loss=0.01474 \t val_loss=0.01767 \t sm_loss=0.01495 \t sm_val_loss=0.01766 \t time=0.93s\n",
      "Fold 4 log loss: 0.017758500304861553\n",
      "Fold 5\n",
      "Best: Epoch 1 \t loss=0.41486 \t val_loss=0.02257 \t sm_loss=0.41481 \t sm_val_loss=0.02251 \t time=0.91s\n",
      "Best: Epoch 2 \t loss=0.02013 \t val_loss=0.02069 \t sm_loss=0.02007 \t sm_val_loss=0.02068 \t time=0.89s\n",
      "Best: Epoch 3 \t loss=0.01814 \t val_loss=0.01867 \t sm_loss=0.01818 \t sm_val_loss=0.01871 \t time=0.88s\n",
      "Best: Epoch 4 \t loss=0.01744 \t val_loss=0.01832 \t sm_loss=0.01756 \t sm_val_loss=0.01829 \t time=0.91s\n",
      "Best: Epoch 5 \t loss=0.01724 \t val_loss=0.01808 \t sm_loss=0.01737 \t sm_val_loss=0.01806 \t time=0.89s\n",
      "Best: Epoch 8 \t loss=0.01720 \t val_loss=0.01790 \t sm_loss=0.01733 \t sm_val_loss=0.01792 \t time=0.91s\n",
      "Best: Epoch 9 \t loss=0.01711 \t val_loss=0.01773 \t sm_loss=0.01724 \t sm_val_loss=0.01771 \t time=1.18s\n",
      "Best: Epoch 10 \t loss=0.01701 \t val_loss=0.01763 \t sm_loss=0.01715 \t sm_val_loss=0.01765 \t time=0.92s\n",
      "Best: Epoch 11 \t loss=0.01681 \t val_loss=0.01760 \t sm_loss=0.01695 \t sm_val_loss=0.01761 \t time=0.90s\n",
      "Best: Epoch 12 \t loss=0.01672 \t val_loss=0.01754 \t sm_loss=0.01686 \t sm_val_loss=0.01754 \t time=0.98s\n",
      "Best: Epoch 13 \t loss=0.01638 \t val_loss=0.01743 \t sm_loss=0.01653 \t sm_val_loss=0.01742 \t time=1.11s\n",
      "Best: Epoch 14 \t loss=0.01617 \t val_loss=0.01720 \t sm_loss=0.01634 \t sm_val_loss=0.01721 \t time=0.91s\n",
      "Best: Epoch 16 \t loss=0.01539 \t val_loss=0.01714 \t sm_loss=0.01558 \t sm_val_loss=0.01717 \t time=0.88s\n",
      "Best: Epoch 17 \t loss=0.01490 \t val_loss=0.01703 \t sm_loss=0.01511 \t sm_val_loss=0.01705 \t time=0.88s\n",
      "Best: Epoch 18 \t loss=0.01442 \t val_loss=0.01697 \t sm_loss=0.01463 \t sm_val_loss=0.01698 \t time=0.88s\n",
      "Best: Epoch 19 \t loss=0.01406 \t val_loss=0.01697 \t sm_loss=0.01428 \t sm_val_loss=0.01697 \t time=0.90s\n",
      "Fold 5 log loss: 0.017212529109482812\n",
      "Fold 6\n",
      "Best: Epoch 1 \t loss=0.41462 \t val_loss=0.02295 \t sm_loss=0.41456 \t sm_val_loss=0.02293 \t time=0.89s\n",
      "Best: Epoch 2 \t loss=0.02001 \t val_loss=0.02236 \t sm_loss=0.01995 \t sm_val_loss=0.02237 \t time=0.91s\n",
      "Best: Epoch 3 \t loss=0.01811 \t val_loss=0.01801 \t sm_loss=0.01812 \t sm_val_loss=0.01808 \t time=0.89s\n",
      "Best: Epoch 8 \t loss=0.01733 \t val_loss=0.01791 \t sm_loss=0.01745 \t sm_val_loss=0.01799 \t time=0.90s\n",
      "Best: Epoch 9 \t loss=0.01722 \t val_loss=0.01779 \t sm_loss=0.01733 \t sm_val_loss=0.01786 \t time=0.91s\n",
      "Best: Epoch 11 \t loss=0.01684 \t val_loss=0.01760 \t sm_loss=0.01696 \t sm_val_loss=0.01770 \t time=0.90s\n",
      "Best: Epoch 13 \t loss=0.01648 \t val_loss=0.01752 \t sm_loss=0.01663 \t sm_val_loss=0.01760 \t time=0.88s\n",
      "Best: Epoch 14 \t loss=0.01612 \t val_loss=0.01748 \t sm_loss=0.01629 \t sm_val_loss=0.01755 \t time=0.89s\n",
      "Best: Epoch 15 \t loss=0.01580 \t val_loss=0.01738 \t sm_loss=0.01597 \t sm_val_loss=0.01746 \t time=0.92s\n",
      "Best: Epoch 16 \t loss=0.01536 \t val_loss=0.01738 \t sm_loss=0.01555 \t sm_val_loss=0.01746 \t time=0.90s\n",
      "Best: Epoch 17 \t loss=0.01488 \t val_loss=0.01729 \t sm_loss=0.01508 \t sm_val_loss=0.01736 \t time=0.89s\n",
      "Fold 6 log loss: 0.017391987919513786\n",
      "Fold 7\n",
      "Best: Epoch 1 \t loss=0.41481 \t val_loss=0.02261 \t sm_loss=0.41477 \t sm_val_loss=0.02260 \t time=0.98s\n",
      "Best: Epoch 2 \t loss=0.02005 \t val_loss=0.01879 \t sm_loss=0.01999 \t sm_val_loss=0.01884 \t time=0.89s\n",
      "Best: Epoch 3 \t loss=0.01817 \t val_loss=0.01785 \t sm_loss=0.01818 \t sm_val_loss=0.01792 \t time=1.38s\n",
      "Best: Epoch 8 \t loss=0.01721 \t val_loss=0.01774 \t sm_loss=0.01733 \t sm_val_loss=0.01778 \t time=0.92s\n",
      "Best: Epoch 9 \t loss=0.01708 \t val_loss=0.01765 \t sm_loss=0.01720 \t sm_val_loss=0.01770 \t time=0.92s\n",
      "Best: Epoch 11 \t loss=0.01689 \t val_loss=0.01752 \t sm_loss=0.01702 \t sm_val_loss=0.01757 \t time=1.02s\n",
      "Best: Epoch 12 \t loss=0.01668 \t val_loss=0.01736 \t sm_loss=0.01682 \t sm_val_loss=0.01743 \t time=1.02s\n",
      "Best: Epoch 13 \t loss=0.01645 \t val_loss=0.01719 \t sm_loss=0.01660 \t sm_val_loss=0.01727 \t time=0.89s\n",
      "Best: Epoch 15 \t loss=0.01576 \t val_loss=0.01720 \t sm_loss=0.01594 \t sm_val_loss=0.01726 \t time=0.89s\n",
      "Best: Epoch 16 \t loss=0.01536 \t val_loss=0.01704 \t sm_loss=0.01555 \t sm_val_loss=0.01712 \t time=0.88s\n",
      "Best: Epoch 17 \t loss=0.01484 \t val_loss=0.01698 \t sm_loss=0.01504 \t sm_val_loss=0.01706 \t time=0.88s\n",
      "Best: Epoch 19 \t loss=0.01390 \t val_loss=0.01695 \t sm_loss=0.01412 \t sm_val_loss=0.01702 \t time=0.89s\n",
      "Fold 7 log loss: 0.017041612463113538\n",
      "Seed 1\n",
      "Fold 1 log loss: 0.01705126170858484\n",
      "Fold 2 log loss: 0.017004102171724527\n",
      "Fold 3 log loss: 0.017463404467133407\n",
      "Fold 4 log loss: 0.017758500304861553\n",
      "Fold 5 log loss: 0.017212529109482812\n",
      "Fold 6 log loss: 0.017391987919513786\n",
      "Fold 7 log loss: 0.017041612463113538\n",
      "Std of log loss: 0.0002576740481782135\n",
      "Total log loss: 0.01727447273181132\n",
      "Fold 1\n",
      "Best: Epoch 1 \t loss=0.41434 \t val_loss=0.02256 \t sm_loss=0.41429 \t sm_val_loss=0.02252 \t time=0.88s\n",
      "Best: Epoch 2 \t loss=0.02010 \t val_loss=0.01879 \t sm_loss=0.02005 \t sm_val_loss=0.01877 \t time=0.88s\n",
      "Best: Epoch 3 \t loss=0.01801 \t val_loss=0.01835 \t sm_loss=0.01804 \t sm_val_loss=0.01841 \t time=0.89s\n",
      "Best: Epoch 4 \t loss=0.01742 \t val_loss=0.01783 \t sm_loss=0.01752 \t sm_val_loss=0.01781 \t time=0.89s\n",
      "Best: Epoch 11 \t loss=0.01688 \t val_loss=0.01754 \t sm_loss=0.01702 \t sm_val_loss=0.01759 \t time=0.92s\n",
      "Best: Epoch 13 \t loss=0.01647 \t val_loss=0.01746 \t sm_loss=0.01662 \t sm_val_loss=0.01750 \t time=1.10s\n",
      "Best: Epoch 14 \t loss=0.01615 \t val_loss=0.01727 \t sm_loss=0.01632 \t sm_val_loss=0.01730 \t time=0.96s\n",
      "Best: Epoch 15 \t loss=0.01579 \t val_loss=0.01717 \t sm_loss=0.01597 \t sm_val_loss=0.01718 \t time=0.92s\n",
      "Best: Epoch 17 \t loss=0.01489 \t val_loss=0.01702 \t sm_loss=0.01510 \t sm_val_loss=0.01705 \t time=0.96s\n",
      "Best: Epoch 19 \t loss=0.01396 \t val_loss=0.01699 \t sm_loss=0.01419 \t sm_val_loss=0.01701 \t time=0.88s\n",
      "Fold 1 log loss: 0.01711217684578401\n",
      "Fold 2\n",
      "Best: Epoch 1 \t loss=0.41383 \t val_loss=0.02216 \t sm_loss=0.41378 \t sm_val_loss=0.02214 \t time=1.08s\n",
      "Best: Epoch 2 \t loss=0.01997 \t val_loss=0.01820 \t sm_loss=0.01994 \t sm_val_loss=0.01826 \t time=0.92s\n",
      "Best: Epoch 3 \t loss=0.01850 \t val_loss=0.01788 \t sm_loss=0.01845 \t sm_val_loss=0.01792 \t time=0.90s\n",
      "Best: Epoch 4 \t loss=0.01751 \t val_loss=0.01759 \t sm_loss=0.01761 \t sm_val_loss=0.01765 \t time=0.91s\n",
      "Best: Epoch 5 \t loss=0.01739 \t val_loss=0.01759 \t sm_loss=0.01752 \t sm_val_loss=0.01763 \t time=0.88s\n",
      "Best: Epoch 7 \t loss=0.01734 \t val_loss=0.01753 \t sm_loss=0.01747 \t sm_val_loss=0.01754 \t time=0.89s\n",
      "Best: Epoch 9 \t loss=0.01717 \t val_loss=0.01730 \t sm_loss=0.01729 \t sm_val_loss=0.01734 \t time=0.88s\n",
      "Best: Epoch 14 \t loss=0.01621 \t val_loss=0.01714 \t sm_loss=0.01637 \t sm_val_loss=0.01713 \t time=0.90s\n",
      "Best: Epoch 15 \t loss=0.01581 \t val_loss=0.01705 \t sm_loss=0.01599 \t sm_val_loss=0.01708 \t time=0.88s\n",
      "Best: Epoch 18 \t loss=0.01443 \t val_loss=0.01700 \t sm_loss=0.01465 \t sm_val_loss=0.01702 \t time=0.90s\n",
      "Fold 2 log loss: 0.017121918826191393\n",
      "Fold 3\n",
      "Best: Epoch 1 \t loss=0.41482 \t val_loss=0.02237 \t sm_loss=0.41476 \t sm_val_loss=0.02236 \t time=1.31s\n",
      "Best: Epoch 2 \t loss=0.02021 \t val_loss=0.01868 \t sm_loss=0.02016 \t sm_val_loss=0.01874 \t time=1.04s\n",
      "Best: Epoch 3 \t loss=0.01792 \t val_loss=0.01832 \t sm_loss=0.01797 \t sm_val_loss=0.01837 \t time=1.25s\n",
      "Best: Epoch 5 \t loss=0.01728 \t val_loss=0.01825 \t sm_loss=0.01741 \t sm_val_loss=0.01824 \t time=0.95s\n",
      "Best: Epoch 9 \t loss=0.01703 \t val_loss=0.01794 \t sm_loss=0.01716 \t sm_val_loss=0.01796 \t time=0.95s\n",
      "Best: Epoch 11 \t loss=0.01685 \t val_loss=0.01792 \t sm_loss=0.01699 \t sm_val_loss=0.01793 \t time=0.88s\n",
      "Best: Epoch 13 \t loss=0.01633 \t val_loss=0.01766 \t sm_loss=0.01648 \t sm_val_loss=0.01768 \t time=0.92s\n",
      "Best: Epoch 14 \t loss=0.01602 \t val_loss=0.01765 \t sm_loss=0.01619 \t sm_val_loss=0.01767 \t time=1.09s\n",
      "Best: Epoch 16 \t loss=0.01520 \t val_loss=0.01752 \t sm_loss=0.01540 \t sm_val_loss=0.01752 \t time=0.88s\n",
      "Best: Epoch 19 \t loss=0.01374 \t val_loss=0.01752 \t sm_loss=0.01397 \t sm_val_loss=0.01751 \t time=0.87s\n",
      "Best: Epoch 20 \t loss=0.01348 \t val_loss=0.01752 \t sm_loss=0.01371 \t sm_val_loss=0.01751 \t time=0.89s\n",
      "Fold 3 log loss: 0.017468441953835206\n",
      "Fold 4\n",
      "Best: Epoch 1 \t loss=0.41324 \t val_loss=0.02301 \t sm_loss=0.41317 \t sm_val_loss=0.02301 \t time=0.89s\n",
      "Best: Epoch 2 \t loss=0.01993 \t val_loss=0.02082 \t sm_loss=0.01992 \t sm_val_loss=0.02063 \t time=0.88s\n",
      "Best: Epoch 3 \t loss=0.01789 \t val_loss=0.01923 \t sm_loss=0.01797 \t sm_val_loss=0.01873 \t time=0.88s\n",
      "Best: Epoch 5 \t loss=0.01724 \t val_loss=0.01841 \t sm_loss=0.01737 \t sm_val_loss=0.01840 \t time=1.00s\n",
      "Best: Epoch 7 \t loss=0.01720 \t val_loss=0.01828 \t sm_loss=0.01733 \t sm_val_loss=0.01824 \t time=0.89s\n",
      "Best: Epoch 8 \t loss=0.01710 \t val_loss=0.01822 \t sm_loss=0.01724 \t sm_val_loss=0.01820 \t time=0.89s\n",
      "Best: Epoch 11 \t loss=0.01671 \t val_loss=0.01797 \t sm_loss=0.01685 \t sm_val_loss=0.01797 \t time=0.88s\n",
      "Best: Epoch 12 \t loss=0.01656 \t val_loss=0.01791 \t sm_loss=0.01672 \t sm_val_loss=0.01791 \t time=0.96s\n",
      "Best: Epoch 13 \t loss=0.01634 \t val_loss=0.01782 \t sm_loss=0.01650 \t sm_val_loss=0.01779 \t time=0.90s\n",
      "Best: Epoch 15 \t loss=0.01560 \t val_loss=0.01763 \t sm_loss=0.01578 \t sm_val_loss=0.01764 \t time=0.90s\n",
      "Best: Epoch 19 \t loss=0.01381 \t val_loss=0.01761 \t sm_loss=0.01404 \t sm_val_loss=0.01760 \t time=0.88s\n",
      "Fold 4 log loss: 0.017700802099298828\n",
      "Fold 5\n",
      "Best: Epoch 1 \t loss=0.41407 \t val_loss=0.02254 \t sm_loss=0.41402 \t sm_val_loss=0.02252 \t time=0.88s\n",
      "Best: Epoch 2 \t loss=0.02030 \t val_loss=0.01917 \t sm_loss=0.02020 \t sm_val_loss=0.01919 \t time=0.91s\n",
      "Best: Epoch 3 \t loss=0.01804 \t val_loss=0.01810 \t sm_loss=0.01811 \t sm_val_loss=0.01811 \t time=0.89s\n",
      "Best: Epoch 4 \t loss=0.01742 \t val_loss=0.01797 \t sm_loss=0.01752 \t sm_val_loss=0.01797 \t time=0.90s\n",
      "Best: Epoch 5 \t loss=0.01725 \t val_loss=0.01783 \t sm_loss=0.01738 \t sm_val_loss=0.01784 \t time=0.92s\n",
      "Best: Epoch 7 \t loss=0.01721 \t val_loss=0.01776 \t sm_loss=0.01734 \t sm_val_loss=0.01776 \t time=0.90s\n",
      "Best: Epoch 10 \t loss=0.01694 \t val_loss=0.01768 \t sm_loss=0.01707 \t sm_val_loss=0.01764 \t time=0.90s\n",
      "Best: Epoch 11 \t loss=0.01681 \t val_loss=0.01762 \t sm_loss=0.01695 \t sm_val_loss=0.01762 \t time=0.90s\n",
      "Best: Epoch 12 \t loss=0.01664 \t val_loss=0.01730 \t sm_loss=0.01679 \t sm_val_loss=0.01733 \t time=1.06s\n",
      "Best: Epoch 14 \t loss=0.01613 \t val_loss=0.01728 \t sm_loss=0.01630 \t sm_val_loss=0.01730 \t time=0.87s\n",
      "Best: Epoch 16 \t loss=0.01534 \t val_loss=0.01721 \t sm_loss=0.01554 \t sm_val_loss=0.01719 \t time=0.88s\n",
      "Best: Epoch 17 \t loss=0.01487 \t val_loss=0.01707 \t sm_loss=0.01508 \t sm_val_loss=0.01707 \t time=0.89s\n",
      "Best: Epoch 18 \t loss=0.01439 \t val_loss=0.01697 \t sm_loss=0.01461 \t sm_val_loss=0.01697 \t time=1.06s\n",
      "Fold 5 log loss: 0.01721973917108187\n",
      "Fold 6\n",
      "Best: Epoch 1 \t loss=0.41414 \t val_loss=0.02279 \t sm_loss=0.41407 \t sm_val_loss=0.02278 \t time=0.94s\n",
      "Best: Epoch 2 \t loss=0.02001 \t val_loss=0.02059 \t sm_loss=0.01998 \t sm_val_loss=0.02061 \t time=0.93s\n",
      "Best: Epoch 3 \t loss=0.01808 \t val_loss=0.01843 \t sm_loss=0.01814 \t sm_val_loss=0.01849 \t time=0.91s\n",
      "Best: Epoch 4 \t loss=0.01760 \t val_loss=0.01817 \t sm_loss=0.01770 \t sm_val_loss=0.01824 \t time=1.13s\n",
      "Best: Epoch 6 \t loss=0.01744 \t val_loss=0.01805 \t sm_loss=0.01755 \t sm_val_loss=0.01813 \t time=0.89s\n",
      "Best: Epoch 7 \t loss=0.01730 \t val_loss=0.01795 \t sm_loss=0.01742 \t sm_val_loss=0.01802 \t time=0.89s\n",
      "Best: Epoch 8 \t loss=0.01732 \t val_loss=0.01790 \t sm_loss=0.01743 \t sm_val_loss=0.01797 \t time=1.16s\n",
      "Best: Epoch 10 \t loss=0.01703 \t val_loss=0.01781 \t sm_loss=0.01715 \t sm_val_loss=0.01786 \t time=0.88s\n",
      "Best: Epoch 11 \t loss=0.01692 \t val_loss=0.01758 \t sm_loss=0.01705 \t sm_val_loss=0.01764 \t time=0.88s\n",
      "Best: Epoch 12 \t loss=0.01671 \t val_loss=0.01749 \t sm_loss=0.01685 \t sm_val_loss=0.01759 \t time=0.87s\n",
      "Best: Epoch 14 \t loss=0.01622 \t val_loss=0.01752 \t sm_loss=0.01638 \t sm_val_loss=0.01758 \t time=0.88s\n",
      "Best: Epoch 15 \t loss=0.01578 \t val_loss=0.01723 \t sm_loss=0.01595 \t sm_val_loss=0.01731 \t time=0.90s\n",
      "Best: Epoch 18 \t loss=0.01445 \t val_loss=0.01717 \t sm_loss=0.01465 \t sm_val_loss=0.01726 \t time=0.89s\n",
      "Fold 6 log loss: 0.017309055830451555\n",
      "Fold 7\n",
      "Best: Epoch 1 \t loss=0.41375 \t val_loss=0.02254 \t sm_loss=0.41371 \t sm_val_loss=0.02253 \t time=0.88s\n",
      "Best: Epoch 3 \t loss=0.01815 \t val_loss=0.01783 \t sm_loss=0.01819 \t sm_val_loss=0.01791 \t time=0.88s\n",
      "Best: Epoch 7 \t loss=0.01728 \t val_loss=0.01784 \t sm_loss=0.01740 \t sm_val_loss=0.01789 \t time=0.87s\n",
      "Best: Epoch 9 \t loss=0.01711 \t val_loss=0.01781 \t sm_loss=0.01724 \t sm_val_loss=0.01787 \t time=1.00s\n",
      "Best: Epoch 10 \t loss=0.01700 \t val_loss=0.01764 \t sm_loss=0.01713 \t sm_val_loss=0.01770 \t time=0.93s\n",
      "Best: Epoch 11 \t loss=0.01683 \t val_loss=0.01748 \t sm_loss=0.01697 \t sm_val_loss=0.01756 \t time=0.87s\n",
      "Best: Epoch 12 \t loss=0.01663 \t val_loss=0.01734 \t sm_loss=0.01677 \t sm_val_loss=0.01741 \t time=0.93s\n",
      "Best: Epoch 14 \t loss=0.01615 \t val_loss=0.01731 \t sm_loss=0.01631 \t sm_val_loss=0.01739 \t time=0.90s\n",
      "Best: Epoch 15 \t loss=0.01574 \t val_loss=0.01706 \t sm_loss=0.01592 \t sm_val_loss=0.01713 \t time=0.90s\n",
      "Best: Epoch 16 \t loss=0.01533 \t val_loss=0.01702 \t sm_loss=0.01552 \t sm_val_loss=0.01708 \t time=0.94s\n",
      "Best: Epoch 17 \t loss=0.01484 \t val_loss=0.01702 \t sm_loss=0.01505 \t sm_val_loss=0.01707 \t time=1.19s\n",
      "Best: Epoch 18 \t loss=0.01433 \t val_loss=0.01696 \t sm_loss=0.01455 \t sm_val_loss=0.01701 \t time=0.94s\n",
      "Best: Epoch 19 \t loss=0.01391 \t val_loss=0.01695 \t sm_loss=0.01413 \t sm_val_loss=0.01700 \t time=0.90s\n",
      "Fold 7 log loss: 0.01701579424366475\n",
      "Seed 2\n",
      "Fold 1 log loss: 0.01711217684578401\n",
      "Fold 2 log loss: 0.017121918826191393\n",
      "Fold 3 log loss: 0.017468441953835206\n",
      "Fold 4 log loss: 0.017700802099298828\n",
      "Fold 5 log loss: 0.01721973917108187\n",
      "Fold 6 log loss: 0.017309055830451555\n",
      "Fold 7 log loss: 0.01701579424366475\n",
      "Std of log loss: 0.00022038878637838544\n",
      "Total log loss: 0.017277915685424167\n",
      "Fold 1\n",
      "Best: Epoch 1 \t loss=0.41484 \t val_loss=0.02271 \t sm_loss=0.41478 \t sm_val_loss=0.02268 \t time=0.88s\n",
      "Best: Epoch 3 \t loss=0.01815 \t val_loss=0.01793 \t sm_loss=0.01816 \t sm_val_loss=0.01796 \t time=0.89s\n",
      "Best: Epoch 7 \t loss=0.01725 \t val_loss=0.01780 \t sm_loss=0.01738 \t sm_val_loss=0.01783 \t time=0.87s\n",
      "Best: Epoch 10 \t loss=0.01699 \t val_loss=0.01770 \t sm_loss=0.01712 \t sm_val_loss=0.01773 \t time=1.10s\n",
      "Best: Epoch 12 \t loss=0.01673 \t val_loss=0.01748 \t sm_loss=0.01687 \t sm_val_loss=0.01751 \t time=0.86s\n",
      "Best: Epoch 14 \t loss=0.01614 \t val_loss=0.01728 \t sm_loss=0.01631 \t sm_val_loss=0.01728 \t time=0.89s\n",
      "Best: Epoch 15 \t loss=0.01576 \t val_loss=0.01712 \t sm_loss=0.01594 \t sm_val_loss=0.01713 \t time=0.90s\n",
      "Best: Epoch 18 \t loss=0.01442 \t val_loss=0.01713 \t sm_loss=0.01463 \t sm_val_loss=0.01713 \t time=1.29s\n",
      "Best: Epoch 19 \t loss=0.01400 \t val_loss=0.01709 \t sm_loss=0.01422 \t sm_val_loss=0.01708 \t time=1.11s\n",
      "Best: Epoch 20 \t loss=0.01377 \t val_loss=0.01708 \t sm_loss=0.01399 \t sm_val_loss=0.01708 \t time=0.90s\n",
      "Fold 1 log loss: 0.01717298648313837\n",
      "Fold 2\n",
      "Best: Epoch 1 \t loss=0.41495 \t val_loss=0.02254 \t sm_loss=0.41488 \t sm_val_loss=0.02254 \t time=0.98s\n",
      "Best: Epoch 2 \t loss=0.02010 \t val_loss=0.01823 \t sm_loss=0.02005 \t sm_val_loss=0.01828 \t time=0.98s\n",
      "Best: Epoch 3 \t loss=0.01802 \t val_loss=0.01767 \t sm_loss=0.01806 \t sm_val_loss=0.01767 \t time=0.96s\n",
      "Best: Epoch 5 \t loss=0.01726 \t val_loss=0.01756 \t sm_loss=0.01739 \t sm_val_loss=0.01754 \t time=1.21s\n",
      "Best: Epoch 8 \t loss=0.01725 \t val_loss=0.01744 \t sm_loss=0.01738 \t sm_val_loss=0.01750 \t time=0.89s\n",
      "Best: Epoch 10 \t loss=0.01713 \t val_loss=0.01739 \t sm_loss=0.01726 \t sm_val_loss=0.01742 \t time=1.08s\n",
      "Best: Epoch 11 \t loss=0.01693 \t val_loss=0.01732 \t sm_loss=0.01706 \t sm_val_loss=0.01736 \t time=0.92s\n",
      "Best: Epoch 12 \t loss=0.01671 \t val_loss=0.01729 \t sm_loss=0.01686 \t sm_val_loss=0.01732 \t time=0.90s\n",
      "Best: Epoch 13 \t loss=0.01651 \t val_loss=0.01704 \t sm_loss=0.01666 \t sm_val_loss=0.01706 \t time=0.89s\n",
      "Best: Epoch 14 \t loss=0.01616 \t val_loss=0.01690 \t sm_loss=0.01632 \t sm_val_loss=0.01693 \t time=0.90s\n",
      "Best: Epoch 15 \t loss=0.01579 \t val_loss=0.01685 \t sm_loss=0.01597 \t sm_val_loss=0.01691 \t time=0.88s\n",
      "Fold 2 log loss: 0.017040519526601745\n",
      "Fold 3\n",
      "Best: Epoch 1 \t loss=0.41371 \t val_loss=0.02243 \t sm_loss=0.41366 \t sm_val_loss=0.02241 \t time=1.10s\n",
      "Best: Epoch 2 \t loss=0.02010 \t val_loss=0.02038 \t sm_loss=0.02006 \t sm_val_loss=0.02018 \t time=0.91s\n",
      "Best: Epoch 3 \t loss=0.01820 \t val_loss=0.01824 \t sm_loss=0.01821 \t sm_val_loss=0.01830 \t time=0.93s\n",
      "Best: Epoch 4 \t loss=0.01733 \t val_loss=0.01821 \t sm_loss=0.01745 \t sm_val_loss=0.01821 \t time=0.93s\n",
      "Best: Epoch 7 \t loss=0.01712 \t val_loss=0.01818 \t sm_loss=0.01725 \t sm_val_loss=0.01814 \t time=0.88s\n",
      "Best: Epoch 10 \t loss=0.01700 \t val_loss=0.01810 \t sm_loss=0.01713 \t sm_val_loss=0.01807 \t time=0.86s\n",
      "Best: Epoch 11 \t loss=0.01680 \t val_loss=0.01807 \t sm_loss=0.01694 \t sm_val_loss=0.01806 \t time=0.97s\n",
      "Best: Epoch 12 \t loss=0.01657 \t val_loss=0.01790 \t sm_loss=0.01672 \t sm_val_loss=0.01788 \t time=1.00s\n",
      "Best: Epoch 14 \t loss=0.01610 \t val_loss=0.01764 \t sm_loss=0.01626 \t sm_val_loss=0.01764 \t time=0.88s\n",
      "Best: Epoch 16 \t loss=0.01536 \t val_loss=0.01747 \t sm_loss=0.01555 \t sm_val_loss=0.01747 \t time=0.89s\n",
      "Fold 3 log loss: 0.01743191730516925\n",
      "Fold 4\n",
      "Best: Epoch 1 \t loss=0.41365 \t val_loss=0.02274 \t sm_loss=0.41361 \t sm_val_loss=0.02270 \t time=0.89s\n",
      "Best: Epoch 2 \t loss=0.01983 \t val_loss=0.02004 \t sm_loss=0.01982 \t sm_val_loss=0.01973 \t time=0.90s\n",
      "Best: Epoch 3 \t loss=0.01789 \t val_loss=0.01976 \t sm_loss=0.01795 \t sm_val_loss=0.01963 \t time=1.07s\n",
      "Best: Epoch 4 \t loss=0.01735 \t val_loss=0.01877 \t sm_loss=0.01746 \t sm_val_loss=0.01869 \t time=0.89s\n",
      "Best: Epoch 6 \t loss=0.01717 \t val_loss=0.01825 \t sm_loss=0.01730 \t sm_val_loss=0.01824 \t time=0.88s\n",
      "Best: Epoch 10 \t loss=0.01688 \t val_loss=0.01811 \t sm_loss=0.01702 \t sm_val_loss=0.01807 \t time=0.87s\n",
      "Best: Epoch 12 \t loss=0.01653 \t val_loss=0.01802 \t sm_loss=0.01668 \t sm_val_loss=0.01802 \t time=0.89s\n",
      "Best: Epoch 14 \t loss=0.01597 \t val_loss=0.01793 \t sm_loss=0.01615 \t sm_val_loss=0.01793 \t time=0.95s\n",
      "Best: Epoch 15 \t loss=0.01567 \t val_loss=0.01776 \t sm_loss=0.01585 \t sm_val_loss=0.01777 \t time=1.02s\n",
      "Best: Epoch 17 \t loss=0.01476 \t val_loss=0.01777 \t sm_loss=0.01497 \t sm_val_loss=0.01775 \t time=0.90s\n",
      "Best: Epoch 18 \t loss=0.01422 \t val_loss=0.01773 \t sm_loss=0.01445 \t sm_val_loss=0.01771 \t time=0.89s\n",
      "Fold 4 log loss: 0.017804498035552643\n",
      "Fold 5\n",
      "Best: Epoch 1 \t loss=0.41518 \t val_loss=0.02250 \t sm_loss=0.41514 \t sm_val_loss=0.02250 \t time=0.95s\n",
      "Best: Epoch 2 \t loss=0.02013 \t val_loss=0.01990 \t sm_loss=0.02008 \t sm_val_loss=0.01969 \t time=0.88s\n",
      "Best: Epoch 3 \t loss=0.01795 \t val_loss=0.01827 \t sm_loss=0.01800 \t sm_val_loss=0.01827 \t time=0.91s\n",
      "Best: Epoch 4 \t loss=0.01737 \t val_loss=0.01819 \t sm_loss=0.01749 \t sm_val_loss=0.01819 \t time=0.95s\n",
      "Best: Epoch 6 \t loss=0.01726 \t val_loss=0.01813 \t sm_loss=0.01739 \t sm_val_loss=0.01808 \t time=0.89s\n",
      "Best: Epoch 7 \t loss=0.01724 \t val_loss=0.01792 \t sm_loss=0.01736 \t sm_val_loss=0.01789 \t time=0.90s\n",
      "Best: Epoch 8 \t loss=0.01716 \t val_loss=0.01771 \t sm_loss=0.01729 \t sm_val_loss=0.01770 \t time=1.22s\n",
      "Best: Epoch 10 \t loss=0.01690 \t val_loss=0.01745 \t sm_loss=0.01703 \t sm_val_loss=0.01747 \t time=0.86s\n",
      "Best: Epoch 12 \t loss=0.01661 \t val_loss=0.01742 \t sm_loss=0.01676 \t sm_val_loss=0.01744 \t time=0.87s\n",
      "Best: Epoch 13 \t loss=0.01634 \t val_loss=0.01729 \t sm_loss=0.01650 \t sm_val_loss=0.01731 \t time=0.88s\n",
      "Best: Epoch 15 \t loss=0.01568 \t val_loss=0.01723 \t sm_loss=0.01586 \t sm_val_loss=0.01722 \t time=1.11s\n",
      "Best: Epoch 16 \t loss=0.01528 \t val_loss=0.01715 \t sm_loss=0.01548 \t sm_val_loss=0.01716 \t time=0.93s\n",
      "Best: Epoch 17 \t loss=0.01479 \t val_loss=0.01704 \t sm_loss=0.01500 \t sm_val_loss=0.01704 \t time=0.91s\n",
      "Best: Epoch 19 \t loss=0.01387 \t val_loss=0.01700 \t sm_loss=0.01410 \t sm_val_loss=0.01699 \t time=0.94s\n",
      "Fold 5 log loss: 0.017188675022130492\n",
      "Fold 6\n",
      "Best: Epoch 1 \t loss=0.41172 \t val_loss=0.02253 \t sm_loss=0.41163 \t sm_val_loss=0.02251 \t time=0.91s\n",
      "Best: Epoch 3 \t loss=0.01903 \t val_loss=0.01847 \t sm_loss=0.01893 \t sm_val_loss=0.01855 \t time=0.88s\n",
      "Best: Epoch 4 \t loss=0.01766 \t val_loss=0.01810 \t sm_loss=0.01777 \t sm_val_loss=0.01818 \t time=0.90s\n",
      "Best: Epoch 6 \t loss=0.01739 \t val_loss=0.01808 \t sm_loss=0.01751 \t sm_val_loss=0.01816 \t time=0.91s\n",
      "Best: Epoch 7 \t loss=0.01740 \t val_loss=0.01797 \t sm_loss=0.01751 \t sm_val_loss=0.01805 \t time=0.89s\n",
      "Best: Epoch 9 \t loss=0.01717 \t val_loss=0.01782 \t sm_loss=0.01729 \t sm_val_loss=0.01790 \t time=0.90s\n",
      "Best: Epoch 11 \t loss=0.01697 \t val_loss=0.01776 \t sm_loss=0.01710 \t sm_val_loss=0.01783 \t time=0.87s\n",
      "Best: Epoch 12 \t loss=0.01679 \t val_loss=0.01758 \t sm_loss=0.01693 \t sm_val_loss=0.01765 \t time=0.96s\n",
      "Best: Epoch 14 \t loss=0.01632 \t val_loss=0.01748 \t sm_loss=0.01647 \t sm_val_loss=0.01757 \t time=0.87s\n",
      "Best: Epoch 15 \t loss=0.01582 \t val_loss=0.01744 \t sm_loss=0.01599 \t sm_val_loss=0.01752 \t time=0.88s\n",
      "Best: Epoch 16 \t loss=0.01550 \t val_loss=0.01738 \t sm_loss=0.01569 \t sm_val_loss=0.01746 \t time=0.89s\n",
      "Best: Epoch 17 \t loss=0.01500 \t val_loss=0.01725 \t sm_loss=0.01520 \t sm_val_loss=0.01733 \t time=1.11s\n",
      "Best: Epoch 19 \t loss=0.01410 \t val_loss=0.01725 \t sm_loss=0.01431 \t sm_val_loss=0.01733 \t time=0.88s\n",
      "Fold 6 log loss: 0.0173701950715657\n",
      "Fold 7\n",
      "Best: Epoch 1 \t loss=0.41617 \t val_loss=0.02282 \t sm_loss=0.41611 \t sm_val_loss=0.02274 \t time=0.86s\n",
      "Best: Epoch 3 \t loss=0.01836 \t val_loss=0.01819 \t sm_loss=0.01834 \t sm_val_loss=0.01824 \t time=0.88s\n",
      "Best: Epoch 5 \t loss=0.01731 \t val_loss=0.01805 \t sm_loss=0.01742 \t sm_val_loss=0.01812 \t time=0.87s\n",
      "Best: Epoch 6 \t loss=0.01726 \t val_loss=0.01796 \t sm_loss=0.01739 \t sm_val_loss=0.01802 \t time=0.88s\n",
      "Best: Epoch 7 \t loss=0.01726 \t val_loss=0.01762 \t sm_loss=0.01739 \t sm_val_loss=0.01767 \t time=1.09s\n",
      "Best: Epoch 11 \t loss=0.01689 \t val_loss=0.01756 \t sm_loss=0.01703 \t sm_val_loss=0.01762 \t time=0.87s\n",
      "Best: Epoch 12 \t loss=0.01666 \t val_loss=0.01743 \t sm_loss=0.01680 \t sm_val_loss=0.01750 \t time=0.88s\n",
      "Best: Epoch 13 \t loss=0.01652 \t val_loss=0.01726 \t sm_loss=0.01666 \t sm_val_loss=0.01734 \t time=0.89s\n",
      "Best: Epoch 14 \t loss=0.01617 \t val_loss=0.01706 \t sm_loss=0.01633 \t sm_val_loss=0.01714 \t time=1.27s\n",
      "Best: Epoch 16 \t loss=0.01540 \t val_loss=0.01695 \t sm_loss=0.01558 \t sm_val_loss=0.01701 \t time=0.87s\n",
      "Best: Epoch 19 \t loss=0.01399 \t val_loss=0.01688 \t sm_loss=0.01421 \t sm_val_loss=0.01695 \t time=1.20s\n",
      "Fold 7 log loss: 0.01697732237428382\n",
      "Seed 3\n",
      "Fold 1 log loss: 0.01717298648313837\n",
      "Fold 2 log loss: 0.017040519526601745\n",
      "Fold 3 log loss: 0.01743191730516925\n",
      "Fold 4 log loss: 0.017804498035552643\n",
      "Fold 5 log loss: 0.017188675022130492\n",
      "Fold 6 log loss: 0.0173701950715657\n",
      "Fold 7 log loss: 0.01697732237428382\n",
      "Std of log loss: 0.0002604862419393355\n",
      "Total log loss: 0.017283274632953167\n",
      "Fold 1\n",
      "Best: Epoch 1 \t loss=0.41448 \t val_loss=0.02249 \t sm_loss=0.41442 \t sm_val_loss=0.02246 \t time=0.87s\n",
      "Best: Epoch 2 \t loss=0.01995 \t val_loss=0.01883 \t sm_loss=0.01992 \t sm_val_loss=0.01884 \t time=0.90s\n",
      "Best: Epoch 3 \t loss=0.01809 \t val_loss=0.01814 \t sm_loss=0.01811 \t sm_val_loss=0.01812 \t time=0.89s\n",
      "Best: Epoch 5 \t loss=0.01731 \t val_loss=0.01808 \t sm_loss=0.01743 \t sm_val_loss=0.01809 \t time=0.90s\n",
      "Best: Epoch 7 \t loss=0.01723 \t val_loss=0.01776 \t sm_loss=0.01736 \t sm_val_loss=0.01777 \t time=1.11s\n",
      "Best: Epoch 10 \t loss=0.01699 \t val_loss=0.01771 \t sm_loss=0.01713 \t sm_val_loss=0.01775 \t time=0.86s\n",
      "Best: Epoch 12 \t loss=0.01660 \t val_loss=0.01750 \t sm_loss=0.01675 \t sm_val_loss=0.01752 \t time=0.86s\n",
      "Best: Epoch 13 \t loss=0.01645 \t val_loss=0.01743 \t sm_loss=0.01660 \t sm_val_loss=0.01743 \t time=0.88s\n",
      "Best: Epoch 14 \t loss=0.01617 \t val_loss=0.01733 \t sm_loss=0.01633 \t sm_val_loss=0.01735 \t time=0.87s\n",
      "Best: Epoch 15 \t loss=0.01581 \t val_loss=0.01716 \t sm_loss=0.01599 \t sm_val_loss=0.01717 \t time=0.87s\n",
      "Best: Epoch 17 \t loss=0.01488 \t val_loss=0.01707 \t sm_loss=0.01509 \t sm_val_loss=0.01709 \t time=0.87s\n",
      "Best: Epoch 18 \t loss=0.01442 \t val_loss=0.01707 \t sm_loss=0.01464 \t sm_val_loss=0.01708 \t time=0.88s\n",
      "Fold 1 log loss: 0.017178599907108048\n",
      "Fold 2\n",
      "Best: Epoch 1 \t loss=0.41293 \t val_loss=0.02188 \t sm_loss=0.41289 \t sm_val_loss=0.02188 \t time=0.88s\n",
      "Best: Epoch 2 \t loss=0.02015 \t val_loss=0.01917 \t sm_loss=0.02011 \t sm_val_loss=0.01917 \t time=0.89s\n",
      "Best: Epoch 3 \t loss=0.01884 \t val_loss=0.01769 \t sm_loss=0.01879 \t sm_val_loss=0.01775 \t time=0.88s\n",
      "Best: Epoch 4 \t loss=0.01769 \t val_loss=0.01749 \t sm_loss=0.01780 \t sm_val_loss=0.01749 \t time=0.87s\n",
      "Best: Epoch 6 \t loss=0.01732 \t val_loss=0.01732 \t sm_loss=0.01745 \t sm_val_loss=0.01734 \t time=0.87s\n",
      "Best: Epoch 7 \t loss=0.01730 \t val_loss=0.01726 \t sm_loss=0.01743 \t sm_val_loss=0.01727 \t time=0.91s\n",
      "Best: Epoch 12 \t loss=0.01669 \t val_loss=0.01723 \t sm_loss=0.01684 \t sm_val_loss=0.01723 \t time=0.87s\n",
      "Best: Epoch 13 \t loss=0.01650 \t val_loss=0.01703 \t sm_loss=0.01664 \t sm_val_loss=0.01706 \t time=0.98s\n",
      "Best: Epoch 20 \t loss=0.01368 \t val_loss=0.01697 \t sm_loss=0.01391 \t sm_val_loss=0.01698 \t time=0.90s\n",
      "Fold 2 log loss: 0.017105581566924162\n",
      "Fold 3\n",
      "Best: Epoch 1 \t loss=0.41534 \t val_loss=0.02300 \t sm_loss=0.41527 \t sm_val_loss=0.02298 \t time=0.89s\n",
      "Best: Epoch 2 \t loss=0.02001 \t val_loss=0.01902 \t sm_loss=0.01998 \t sm_val_loss=0.01906 \t time=0.91s\n",
      "Best: Epoch 3 \t loss=0.01806 \t val_loss=0.01810 \t sm_loss=0.01811 \t sm_val_loss=0.01815 \t time=0.89s\n",
      "Best: Epoch 4 \t loss=0.01733 \t val_loss=0.01814 \t sm_loss=0.01745 \t sm_val_loss=0.01814 \t time=0.92s\n",
      "Best: Epoch 5 \t loss=0.01726 \t val_loss=0.01806 \t sm_loss=0.01739 \t sm_val_loss=0.01806 \t time=0.90s\n",
      "Best: Epoch 9 \t loss=0.01707 \t val_loss=0.01798 \t sm_loss=0.01720 \t sm_val_loss=0.01801 \t time=0.89s\n",
      "Best: Epoch 12 \t loss=0.01658 \t val_loss=0.01796 \t sm_loss=0.01673 \t sm_val_loss=0.01798 \t time=1.12s\n",
      "Best: Epoch 13 \t loss=0.01637 \t val_loss=0.01783 \t sm_loss=0.01653 \t sm_val_loss=0.01781 \t time=0.93s\n",
      "Best: Epoch 14 \t loss=0.01602 \t val_loss=0.01768 \t sm_loss=0.01619 \t sm_val_loss=0.01768 \t time=0.90s\n",
      "Best: Epoch 16 \t loss=0.01524 \t val_loss=0.01765 \t sm_loss=0.01543 \t sm_val_loss=0.01765 \t time=0.95s\n",
      "Best: Epoch 18 \t loss=0.01420 \t val_loss=0.01757 \t sm_loss=0.01441 \t sm_val_loss=0.01754 \t time=0.92s\n",
      "Best: Epoch 19 \t loss=0.01379 \t val_loss=0.01756 \t sm_loss=0.01402 \t sm_val_loss=0.01754 \t time=0.91s\n",
      "Fold 3 log loss: 0.01749427825215393\n",
      "Fold 4\n",
      "Best: Epoch 1 \t loss=0.41369 \t val_loss=0.02315 \t sm_loss=0.41364 \t sm_val_loss=0.02310 \t time=1.00s\n",
      "Best: Epoch 2 \t loss=0.01986 \t val_loss=0.02082 \t sm_loss=0.01985 \t sm_val_loss=0.02006 \t time=1.00s\n",
      "Best: Epoch 3 \t loss=0.01797 \t val_loss=0.01876 \t sm_loss=0.01803 \t sm_val_loss=0.01861 \t time=0.93s\n",
      "Best: Epoch 4 \t loss=0.01730 \t val_loss=0.01860 \t sm_loss=0.01743 \t sm_val_loss=0.01846 \t time=0.89s\n",
      "Best: Epoch 5 \t loss=0.01725 \t val_loss=0.01838 \t sm_loss=0.01738 \t sm_val_loss=0.01838 \t time=0.91s\n",
      "Best: Epoch 6 \t loss=0.01719 \t val_loss=0.01838 \t sm_loss=0.01732 \t sm_val_loss=0.01832 \t time=0.92s\n",
      "Best: Epoch 7 \t loss=0.01711 \t val_loss=0.01807 \t sm_loss=0.01724 \t sm_val_loss=0.01804 \t time=0.90s\n",
      "Best: Epoch 10 \t loss=0.01687 \t val_loss=0.01805 \t sm_loss=0.01700 \t sm_val_loss=0.01803 \t time=0.88s\n",
      "Best: Epoch 11 \t loss=0.01671 \t val_loss=0.01797 \t sm_loss=0.01685 \t sm_val_loss=0.01797 \t time=0.99s\n",
      "Best: Epoch 14 \t loss=0.01596 \t val_loss=0.01794 \t sm_loss=0.01613 \t sm_val_loss=0.01796 \t time=0.87s\n",
      "Best: Epoch 15 \t loss=0.01562 \t val_loss=0.01769 \t sm_loss=0.01581 \t sm_val_loss=0.01770 \t time=0.88s\n",
      "Fold 4 log loss: 0.017796781393628846\n",
      "Fold 5\n",
      "Best: Epoch 1 \t loss=0.41545 \t val_loss=0.02219 \t sm_loss=0.41540 \t sm_val_loss=0.02219 \t time=0.88s\n",
      "Best: Epoch 2 \t loss=0.02005 \t val_loss=0.01940 \t sm_loss=0.01999 \t sm_val_loss=0.01943 \t time=1.09s\n",
      "Best: Epoch 4 \t loss=0.01747 \t val_loss=0.01790 \t sm_loss=0.01756 \t sm_val_loss=0.01793 \t time=0.87s\n",
      "Best: Epoch 6 \t loss=0.01731 \t val_loss=0.01790 \t sm_loss=0.01744 \t sm_val_loss=0.01789 \t time=0.91s\n",
      "Best: Epoch 8 \t loss=0.01723 \t val_loss=0.01779 \t sm_loss=0.01736 \t sm_val_loss=0.01778 \t time=0.88s\n",
      "Best: Epoch 11 \t loss=0.01685 \t val_loss=0.01761 \t sm_loss=0.01699 \t sm_val_loss=0.01761 \t time=0.88s\n",
      "Best: Epoch 12 \t loss=0.01667 \t val_loss=0.01737 \t sm_loss=0.01681 \t sm_val_loss=0.01736 \t time=0.88s\n",
      "Best: Epoch 13 \t loss=0.01646 \t val_loss=0.01737 \t sm_loss=0.01662 \t sm_val_loss=0.01736 \t time=0.97s\n",
      "Best: Epoch 14 \t loss=0.01611 \t val_loss=0.01739 \t sm_loss=0.01628 \t sm_val_loss=0.01735 \t time=1.12s\n",
      "Best: Epoch 15 \t loss=0.01578 \t val_loss=0.01720 \t sm_loss=0.01597 \t sm_val_loss=0.01721 \t time=0.89s\n",
      "Best: Epoch 16 \t loss=0.01539 \t val_loss=0.01714 \t sm_loss=0.01558 \t sm_val_loss=0.01712 \t time=0.89s\n",
      "Best: Epoch 17 \t loss=0.01489 \t val_loss=0.01702 \t sm_loss=0.01510 \t sm_val_loss=0.01701 \t time=0.88s\n",
      "Best: Epoch 18 \t loss=0.01437 \t val_loss=0.01701 \t sm_loss=0.01459 \t sm_val_loss=0.01700 \t time=0.89s\n",
      "Fold 5 log loss: 0.017204310320810514\n",
      "Fold 6\n",
      "Best: Epoch 1 \t loss=0.41407 \t val_loss=0.02242 \t sm_loss=0.41400 \t sm_val_loss=0.02240 \t time=0.90s\n",
      "Best: Epoch 2 \t loss=0.02023 \t val_loss=0.02051 \t sm_loss=0.02014 \t sm_val_loss=0.02051 \t time=0.88s\n",
      "Best: Epoch 3 \t loss=0.01825 \t val_loss=0.02074 \t sm_loss=0.01824 \t sm_val_loss=0.02011 \t time=1.25s\n",
      "Best: Epoch 4 \t loss=0.01762 \t val_loss=0.01812 \t sm_loss=0.01772 \t sm_val_loss=0.01819 \t time=1.12s\n",
      "Best: Epoch 7 \t loss=0.01726 \t val_loss=0.01807 \t sm_loss=0.01738 \t sm_val_loss=0.01813 \t time=0.89s\n",
      "Best: Epoch 8 \t loss=0.01730 \t val_loss=0.01792 \t sm_loss=0.01742 \t sm_val_loss=0.01797 \t time=0.88s\n",
      "Best: Epoch 9 \t loss=0.01713 \t val_loss=0.01789 \t sm_loss=0.01725 \t sm_val_loss=0.01794 \t time=1.19s\n",
      "Best: Epoch 10 \t loss=0.01703 \t val_loss=0.01767 \t sm_loss=0.01716 \t sm_val_loss=0.01774 \t time=1.05s\n",
      "Best: Epoch 11 \t loss=0.01693 \t val_loss=0.01753 \t sm_loss=0.01706 \t sm_val_loss=0.01762 \t time=0.90s\n",
      "Best: Epoch 13 \t loss=0.01646 \t val_loss=0.01751 \t sm_loss=0.01661 \t sm_val_loss=0.01761 \t time=0.98s\n",
      "Best: Epoch 14 \t loss=0.01620 \t val_loss=0.01748 \t sm_loss=0.01636 \t sm_val_loss=0.01756 \t time=0.97s\n",
      "Best: Epoch 15 \t loss=0.01582 \t val_loss=0.01736 \t sm_loss=0.01599 \t sm_val_loss=0.01745 \t time=1.12s\n",
      "Best: Epoch 16 \t loss=0.01544 \t val_loss=0.01726 \t sm_loss=0.01562 \t sm_val_loss=0.01735 \t time=0.97s\n",
      "Best: Epoch 19 \t loss=0.01418 \t val_loss=0.01722 \t sm_loss=0.01439 \t sm_val_loss=0.01731 \t time=0.94s\n",
      "Fold 6 log loss: 0.017340261576253676\n",
      "Fold 7\n",
      "Best: Epoch 1 \t loss=0.41390 \t val_loss=0.02308 \t sm_loss=0.41386 \t sm_val_loss=0.02307 \t time=1.02s\n",
      "Best: Epoch 2 \t loss=0.02015 \t val_loss=0.01889 \t sm_loss=0.02009 \t sm_val_loss=0.01886 \t time=0.89s\n",
      "Best: Epoch 3 \t loss=0.01814 \t val_loss=0.01891 \t sm_loss=0.01816 \t sm_val_loss=0.01876 \t time=0.89s\n",
      "Best: Epoch 5 \t loss=0.01735 \t val_loss=0.01782 \t sm_loss=0.01747 \t sm_val_loss=0.01784 \t time=0.97s\n",
      "Best: Epoch 9 \t loss=0.01718 \t val_loss=0.01774 \t sm_loss=0.01730 \t sm_val_loss=0.01780 \t time=0.91s\n",
      "Best: Epoch 10 \t loss=0.01707 \t val_loss=0.01764 \t sm_loss=0.01720 \t sm_val_loss=0.01771 \t time=0.91s\n",
      "Best: Epoch 11 \t loss=0.01688 \t val_loss=0.01754 \t sm_loss=0.01701 \t sm_val_loss=0.01760 \t time=0.88s\n",
      "Best: Epoch 12 \t loss=0.01664 \t val_loss=0.01749 \t sm_loss=0.01678 \t sm_val_loss=0.01754 \t time=0.88s\n",
      "Best: Epoch 13 \t loss=0.01651 \t val_loss=0.01746 \t sm_loss=0.01666 \t sm_val_loss=0.01752 \t time=0.89s\n",
      "Best: Epoch 14 \t loss=0.01616 \t val_loss=0.01735 \t sm_loss=0.01633 \t sm_val_loss=0.01742 \t time=1.21s\n",
      "Best: Epoch 15 \t loss=0.01583 \t val_loss=0.01706 \t sm_loss=0.01601 \t sm_val_loss=0.01714 \t time=1.10s\n",
      "Best: Epoch 16 \t loss=0.01538 \t val_loss=0.01706 \t sm_loss=0.01557 \t sm_val_loss=0.01714 \t time=0.93s\n",
      "Best: Epoch 17 \t loss=0.01492 \t val_loss=0.01694 \t sm_loss=0.01512 \t sm_val_loss=0.01701 \t time=0.88s\n",
      "Best: Epoch 18 \t loss=0.01440 \t val_loss=0.01690 \t sm_loss=0.01462 \t sm_val_loss=0.01697 \t time=0.88s\n",
      "Best: Epoch 19 \t loss=0.01405 \t val_loss=0.01687 \t sm_loss=0.01427 \t sm_val_loss=0.01695 \t time=0.90s\n",
      "Fold 7 log loss: 0.016973093764633303\n",
      "Seed 4\n",
      "Fold 1 log loss: 0.017178599907108048\n",
      "Fold 2 log loss: 0.017105581566924162\n",
      "Fold 3 log loss: 0.01749427825215393\n",
      "Fold 4 log loss: 0.017796781393628846\n",
      "Fold 5 log loss: 0.017204310320810514\n",
      "Fold 6 log loss: 0.017340261576253676\n",
      "Fold 7 log loss: 0.016973093764633303\n",
      "Std of log loss: 0.00025486980156787296\n",
      "Total log loss: 0.01729849942740955\n"
     ]
    }
   ],
   "source": [
    "seeds = [0,1,2,3,4]\n",
    "mlp1_oof = np.zeros([len(mlp_train),fn_targets.shape[1]])\n",
    "mlp1_test = np.zeros([len(mlp_test),fn_targets.shape[1]])\n",
    "\n",
    "for seed_ in seeds:\n",
    "    oof, pytorch_pred = modelling_torch(mlp_train, fn_targets, mlp_test, seed_, mlp_train.shape[1]-1, fn_targets.shape[1])\n",
    "    mlp1_oof += oof / len(seeds)\n",
    "    mlp1_test += pytorch_pred / len(seeds)"
   ]
  },
  {
   "cell_type": "code",
   "execution_count": 15,
   "metadata": {
    "execution": {
     "iopub.execute_input": "2020-11-09T06:18:18.484271Z",
     "iopub.status.busy": "2020-11-09T06:18:18.481943Z",
     "iopub.status.idle": "2020-11-09T06:18:19.692267Z",
     "shell.execute_reply": "2020-11-09T06:18:19.691744Z"
    },
    "papermill": {
     "duration": 1.409574,
     "end_time": "2020-11-09T06:18:19.692382",
     "exception": false,
     "start_time": "2020-11-09T06:18:18.282808",
     "status": "completed"
    },
    "tags": []
   },
   "outputs": [
    {
     "name": "stdout",
     "output_type": "stream",
     "text": [
      "OOF log loss:  0.01571810721478206\n"
     ]
    }
   ],
   "source": [
    "check_mlp = np.zeros([y.shape[0], y.shape[1]])\n",
    "check_mlp[cons_train_index,:] = mlp1_oof\n",
    "print('OOF log loss: ', log_loss(np.ravel(y), np.ravel(check_mlp)))"
   ]
  },
  {
   "cell_type": "code",
   "execution_count": 16,
   "metadata": {
    "execution": {
     "iopub.execute_input": "2020-11-09T06:18:20.100166Z",
     "iopub.status.busy": "2020-11-09T06:18:20.099294Z",
     "iopub.status.idle": "2020-11-09T06:18:21.301225Z",
     "shell.execute_reply": "2020-11-09T06:18:21.301927Z"
    },
    "papermill": {
     "duration": 1.407364,
     "end_time": "2020-11-09T06:18:21.302155",
     "exception": false,
     "start_time": "2020-11-09T06:18:19.894791",
     "status": "completed"
    },
    "tags": []
   },
   "outputs": [
    {
     "name": "stdout",
     "output_type": "stream",
     "text": [
      "Overall AUC : 0.6741695449519476\n"
     ]
    }
   ],
   "source": [
    "aucs = []\n",
    "for task_id in range(y.shape[1]):\n",
    "    aucs.append(roc_auc_score(y_true=y.iloc[:, task_id].values,\n",
    "                              y_score=check_mlp[:, task_id]))\n",
    "print(f\"Overall AUC : {np.mean(aucs)}\")"
   ]
  },
  {
   "cell_type": "markdown",
   "metadata": {
    "papermill": {
     "duration": 0.196092,
     "end_time": "2020-11-09T06:18:21.694593",
     "exception": false,
     "start_time": "2020-11-09T06:18:21.498501",
     "status": "completed"
    },
    "tags": []
   },
   "source": [
    "# 1st tabnet"
   ]
  },
  {
   "cell_type": "code",
   "execution_count": 17,
   "metadata": {
    "execution": {
     "iopub.execute_input": "2020-11-09T06:18:22.279839Z",
     "iopub.status.busy": "2020-11-09T06:18:22.278961Z",
     "iopub.status.idle": "2020-11-09T06:18:22.282043Z",
     "shell.execute_reply": "2020-11-09T06:18:22.283391Z"
    },
    "papermill": {
     "duration": 0.292058,
     "end_time": "2020-11-09T06:18:22.283544",
     "exception": false,
     "start_time": "2020-11-09T06:18:21.991486",
     "status": "completed"
    },
    "tags": []
   },
   "outputs": [],
   "source": [
    "class LogitsLogLoss(Metric):\n",
    "    def __init__(self):\n",
    "        self._name = \"logits_ll\"\n",
    "        self._maximize = False\n",
    "\n",
    "    def __call__(self, y_true, y_pred):\n",
    "        logits = 1 / (1 + np.exp(-y_pred))\n",
    "        \n",
    "        aux = (1-y_true)*np.log(1-logits+1e-15) + y_true*np.log(logits+1e-15)\n",
    "        return np.mean(-aux)"
   ]
  },
  {
   "cell_type": "code",
   "execution_count": 18,
   "metadata": {
    "execution": {
     "iopub.execute_input": "2020-11-09T06:18:22.729156Z",
     "iopub.status.busy": "2020-11-09T06:18:22.728265Z",
     "iopub.status.idle": "2020-11-09T06:18:22.731008Z",
     "shell.execute_reply": "2020-11-09T06:18:22.731460Z"
    },
    "papermill": {
     "duration": 0.229444,
     "end_time": "2020-11-09T06:18:22.731591",
     "exception": false,
     "start_time": "2020-11-09T06:18:22.502147",
     "status": "completed"
    },
    "tags": []
   },
   "outputs": [],
   "source": [
    "MAX_EPOCH=200\n",
    "\n",
    "def seed_tabnet_everything(seed_value):\n",
    "    random.seed(seed_value)\n",
    "    np.random.seed(seed_value)\n",
    "    torch.manual_seed(seed_value)\n",
    "    os.environ['PYTHONHASHSEED'] = str(seed_value)\n",
    "    \n",
    "    if torch.cuda.is_available(): \n",
    "        torch.cuda.manual_seed(seed_value)\n",
    "        torch.cuda.manual_seed_all(seed_value)\n",
    "        torch.backends.cudnn.deterministic = True\n",
    "        torch.backends.cudnn.benchmark = False\n",
    "        \n",
    "def modelling_tabnet(tr, target, te, sample_seed):\n",
    "    seed_tabnet_everything(sample_seed) \n",
    "    tabnet_params = dict(n_d=12, n_a=12, n_steps=1, gamma=1.3, seed = sample_seed,\n",
    "                     lambda_sparse=0, optimizer_fn=torch.optim.Adam,\n",
    "                     optimizer_params=dict(lr=2e-2, weight_decay=1e-5),\n",
    "                     mask_type='entmax',\n",
    "                     scheduler_params=dict(mode=\"min\",\n",
    "                                           patience=5,\n",
    "                                           min_lr=1e-5,\n",
    "                                           factor=0.9,),\n",
    "                     scheduler_fn=torch.optim.lr_scheduler.ReduceLROnPlateau,\n",
    "                     verbose=10,\n",
    "                     )\n",
    "    test_cv_preds = []\n",
    "    \n",
    "    NB_SPLITS = 5\n",
    "    mskf = MultilabelStratifiedKFold(n_splits=NB_SPLITS, random_state=0, shuffle=True)\n",
    "    oof_preds = np.zeros([len(tr),target.shape[1]])\n",
    "    for fold_nb, (train_idx, val_idx) in enumerate(mskf.split(train, target)):\n",
    "        print(\"FOLDS : \", fold_nb+1)\n",
    "\n",
    "        ## model\n",
    "        X_train, y_train = tr[train_idx, :], target[train_idx, :]\n",
    "        X_val, y_val = tr[val_idx, :], target[val_idx, :]\n",
    "        model = TabNetRegressor(**tabnet_params)\n",
    "        \n",
    "        model.fit(X_train=X_train,\n",
    "              y_train=y_train,\n",
    "              eval_set=[(X_val, y_val)],\n",
    "              eval_name = [\"val\"],\n",
    "              eval_metric = [\"logits_ll\"],\n",
    "              max_epochs=MAX_EPOCH,\n",
    "              patience=20, batch_size=1024, virtual_batch_size=128,\n",
    "              num_workers=1, drop_last=False,\n",
    "              # use binary cross entropy as this is not a regression problem\n",
    "              loss_fn=torch.nn.functional.binary_cross_entropy_with_logits)\n",
    "        \n",
    "        preds_val = model.predict(X_val)\n",
    "        preds =  1 / (1 + np.exp(-preds_val))\n",
    "        oof_preds[val_idx,:] = preds\n",
    "        \n",
    "        # preds on test\n",
    "        preds_test = model.predict(te)\n",
    "        test_cv_preds.append(1 / (1 + np.exp(-preds_test)))\n",
    "\n",
    "    test_preds_all = np.stack(test_cv_preds)\n",
    "    return oof_preds, test_preds_all"
   ]
  },
  {
   "cell_type": "code",
   "execution_count": 19,
   "metadata": {
    "execution": {
     "iopub.execute_input": "2020-11-09T06:18:23.129870Z",
     "iopub.status.busy": "2020-11-09T06:18:23.128875Z",
     "iopub.status.idle": "2020-11-09T06:18:23.132527Z",
     "shell.execute_reply": "2020-11-09T06:18:23.131937Z"
    },
    "papermill": {
     "duration": 0.205725,
     "end_time": "2020-11-09T06:18:23.132629",
     "exception": false,
     "start_time": "2020-11-09T06:18:22.926904",
     "status": "completed"
    },
    "tags": []
   },
   "outputs": [],
   "source": [
    "#tabnet1_oof = np.zeros([len(tab_train),fn_targets.shape[1]])\n",
    "#tabnet1_test = np.zeros([len(tab_test),fn_targets.shape[1]])\n",
    "#seeds = [0]\n",
    "#for seed_ in seeds:\n",
    "#    oof_preds, test_preds_all = modelling_tabnet(tab_train, fn_targets, tab_test, seed_)\n",
    "#    tabnet1_oof += oof_preds / len(seeds)\n",
    "#    tabnet1_test += test_preds_all.mean(axis=0) / len(seeds)"
   ]
  },
  {
   "cell_type": "code",
   "execution_count": 20,
   "metadata": {
    "execution": {
     "iopub.execute_input": "2020-11-09T06:18:23.533557Z",
     "iopub.status.busy": "2020-11-09T06:18:23.532647Z",
     "iopub.status.idle": "2020-11-09T06:18:23.535736Z",
     "shell.execute_reply": "2020-11-09T06:18:23.535236Z"
    },
    "papermill": {
     "duration": 0.205689,
     "end_time": "2020-11-09T06:18:23.535847",
     "exception": false,
     "start_time": "2020-11-09T06:18:23.330158",
     "status": "completed"
    },
    "tags": []
   },
   "outputs": [],
   "source": [
    "#check_tabnet = np.zeros([y.shape[0], y.shape[1]])\n",
    "#check_tabnet[cons_train_index,:] = tabnet1_oof\n",
    "#print('OOF log loss: ', log_loss(np.ravel(y), np.ravel(check_tabnet)))"
   ]
  },
  {
   "cell_type": "markdown",
   "metadata": {
    "papermill": {
     "duration": 0.194314,
     "end_time": "2020-11-09T06:18:23.963001",
     "exception": false,
     "start_time": "2020-11-09T06:18:23.768687",
     "status": "completed"
    },
    "tags": []
   },
   "source": [
    "# 1st svm"
   ]
  },
  {
   "cell_type": "code",
   "execution_count": 21,
   "metadata": {
    "execution": {
     "iopub.execute_input": "2020-11-09T06:18:24.357620Z",
     "iopub.status.busy": "2020-11-09T06:18:24.356740Z",
     "iopub.status.idle": "2020-11-09T06:18:24.359897Z",
     "shell.execute_reply": "2020-11-09T06:18:24.359423Z"
    },
    "papermill": {
     "duration": 0.201465,
     "end_time": "2020-11-09T06:18:24.360031",
     "exception": false,
     "start_time": "2020-11-09T06:18:24.158566",
     "status": "completed"
    },
    "tags": []
   },
   "outputs": [],
   "source": [
    "#N_STARTS = 1\n",
    "#N_SPLITS = 5\n",
    "\n",
    "#svm0_oof = np.zeros([len(fn_train), fn_targets.shape[1]])\n",
    "#svm0_test = np.zeros([len(fn_test), fn_targets.shape[1]])\n",
    "\n",
    "#svm1_test = np.zeros([len(fn_test),fn_targets.shape[1]])\n",
    "#svm1_oof = np.zeros([fn_targets.shape[0],fn_targets.shape[1]]) \n",
    "\n",
    "#for ind in tqdm(range(fn_targets.shape[1])):\n",
    "#    ind_target_sum = fn_targets[:, ind].sum()\n",
    "#    if ind_target_sum >= N_SPLITS:\n",
    "#        for seed in range(N_STARTS):\n",
    "#            skf = StratifiedKFold(n_splits = N_SPLITS, random_state = seed, shuffle = True)\n",
    "\n",
    "#            for n, (train_index, val_index) in enumerate(skf.split(fn_train, fn_targets[:,ind])):\n",
    "                \n",
    "#                x_tr, x_val = fn_train[train_index], fn_train[val_index]\n",
    "#                y_tr, y_val = fn_targets[train_index,ind], fn_targets[val_index,ind]\n",
    "\n",
    "#                model = SVC(C = 40, cache_size = 2000)\n",
    "#                model.fit(x_tr, y_tr)\n",
    "#                svm0_test[:, ind] += model.decision_function(fn_test) / (N_SPLITS * N_STARTS)\n",
    "#                svm0_oof[val_index, ind] += model.decision_function(x_val) / N_STARTS\n",
    "\n",
    "#        for seed in range(N_STARTS):\n",
    "#            skf = StratifiedKFold(n_splits = N_SPLITS, random_state = seed, shuffle = True)\n",
    "            \n",
    "#            for n, (train_index, val_index) in enumerate(skf.split(svm0_oof, fn_targets[:,ind])):\n",
    "\n",
    "#                x_tr, x_val = svm0_oof[train_index, ind].reshape(-1, 1), svm0_oof[val_index, ind].reshape(-1, 1)\n",
    "#                y_tr, y_val = fn_targets[train_index,ind], fn_targets[val_index,ind]\n",
    "\n",
    "#                model = LogisticRegression(C = 35, max_iter = 1000)\n",
    "#                model.fit(x_tr, y_tr)\n",
    "#                svm1_test[:, ind] += model.predict_proba(svm0_test[:, ind].reshape(-1, 1))[:, 1] / (N_SPLITS * N_STARTS)\n",
    "#                svm1_oof[val_index, ind] += model.predict_proba(x_val)[:, 1] / N_STARTS"
   ]
  },
  {
   "cell_type": "code",
   "execution_count": 22,
   "metadata": {
    "execution": {
     "iopub.execute_input": "2020-11-09T06:18:24.756412Z",
     "iopub.status.busy": "2020-11-09T06:18:24.755560Z",
     "iopub.status.idle": "2020-11-09T06:18:24.758534Z",
     "shell.execute_reply": "2020-11-09T06:18:24.757969Z"
    },
    "papermill": {
     "duration": 0.201866,
     "end_time": "2020-11-09T06:18:24.758631",
     "exception": false,
     "start_time": "2020-11-09T06:18:24.556765",
     "status": "completed"
    },
    "tags": []
   },
   "outputs": [],
   "source": [
    "#check_svm = np.zeros([y.shape[0], y.shape[1]])\n",
    "#check_svm[cons_train_index,:] = svm1_oof\n",
    "#print('OOF log loss: ', log_loss(np.ravel(y), np.ravel(check_svm)))"
   ]
  },
  {
   "cell_type": "markdown",
   "metadata": {
    "papermill": {
     "duration": 0.198432,
     "end_time": "2020-11-09T06:18:25.151812",
     "exception": false,
     "start_time": "2020-11-09T06:18:24.953380",
     "status": "completed"
    },
    "tags": []
   },
   "source": [
    "# lgb"
   ]
  },
  {
   "cell_type": "code",
   "execution_count": 23,
   "metadata": {
    "execution": {
     "iopub.execute_input": "2020-11-09T06:18:25.560114Z",
     "iopub.status.busy": "2020-11-09T06:18:25.559282Z",
     "iopub.status.idle": "2020-11-09T06:18:25.562686Z",
     "shell.execute_reply": "2020-11-09T06:18:25.562222Z"
    },
    "papermill": {
     "duration": 0.216487,
     "end_time": "2020-11-09T06:18:25.562784",
     "exception": false,
     "start_time": "2020-11-09T06:18:25.346297",
     "status": "completed"
    },
    "tags": []
   },
   "outputs": [],
   "source": [
    "def modelling_lgb(new_train, target_train, new_test, target, seed):\n",
    "    \n",
    "    X_train = new_train.copy()\n",
    "    y_train = target_train[target].copy()\n",
    "    X_test = new_test.copy()\n",
    "    \n",
    "\n",
    "    params = {'objective': 'binary', 'boosting_type': 'gbdt', 'tree_learner': 'serial', 'learning_rate': 0.08, \n",
    "               \"num_leaves\": 10, 'random_seed':seed, 'max_depth': 5,  'subsample': 0.72, 'subsample_freq': 3,\n",
    "    'feature_fraction': 0.4, 'lambda_l1': 1, 'lambda_l2': 1,} \n",
    "        \n",
    "    n_folds=6\n",
    "    skf=StratifiedKFold(n_splits = n_folds, shuffle=True, random_state=0)\n",
    "    \n",
    "    pred_value = np.zeros(X_test.shape[0])\n",
    "    valid = np.zeros([X_train.shape[0]])\n",
    "    for i , (train_index, test_index) in enumerate(skf.split(X_train, y_train)):\n",
    "        X_train2 = X_train.iloc[train_index,:]\n",
    "        y_train2 = y_train.iloc[train_index]\n",
    "\n",
    "        X_valid2 = X_train.iloc[test_index,:]\n",
    "        y_valid2 = y_train.iloc[test_index]\n",
    "        \n",
    "        lgb_train = lgb.Dataset(X_train2, y_train2)\n",
    "        lgb_eval = lgb.Dataset(X_valid2, y_valid2, reference=lgb_train)\n",
    "        \n",
    "        clf = lgb.train(params, lgb_train,valid_sets=[lgb_train, lgb_eval], \n",
    "               num_boost_round=10000,early_stopping_rounds=40,verbose_eval = 0) \n",
    "\n",
    "        valid_predict = clf.predict(X_valid2, num_iteration = clf.best_iteration)\n",
    "        valid[test_index] = np.clip(valid_predict, p_min, p_max)\n",
    "        pred_value += np.clip(clf.predict(X_test, num_iteration = clf.best_iteration),p_min, p_max) / n_folds\n",
    "            \n",
    "    score = log_loss(y_train, valid)\n",
    "            \n",
    "    return valid, pred_value, score"
   ]
  },
  {
   "cell_type": "markdown",
   "metadata": {
    "papermill": {
     "duration": 0.195426,
     "end_time": "2020-11-09T06:18:25.956155",
     "exception": false,
     "start_time": "2020-11-09T06:18:25.760729",
     "status": "completed"
    },
    "tags": []
   },
   "source": [
    "# submission"
   ]
  },
  {
   "cell_type": "code",
   "execution_count": 24,
   "metadata": {
    "execution": {
     "iopub.execute_input": "2020-11-09T06:18:26.357393Z",
     "iopub.status.busy": "2020-11-09T06:18:26.356578Z",
     "iopub.status.idle": "2020-11-09T06:18:26.469391Z",
     "shell.execute_reply": "2020-11-09T06:18:26.467760Z"
    },
    "papermill": {
     "duration": 0.317055,
     "end_time": "2020-11-09T06:18:26.469510",
     "exception": false,
     "start_time": "2020-11-09T06:18:26.152455",
     "status": "completed"
    },
    "tags": []
   },
   "outputs": [],
   "source": [
    "sub = pd.read_csv(DATA_DIR + 'sample_submission.csv')"
   ]
  },
  {
   "cell_type": "code",
   "execution_count": 25,
   "metadata": {
    "execution": {
     "iopub.execute_input": "2020-11-09T06:18:26.867352Z",
     "iopub.status.busy": "2020-11-09T06:18:26.865512Z",
     "iopub.status.idle": "2020-11-09T06:18:26.868102Z",
     "shell.execute_reply": "2020-11-09T06:18:26.868617Z"
    },
    "papermill": {
     "duration": 0.20235,
     "end_time": "2020-11-09T06:18:26.868750",
     "exception": false,
     "start_time": "2020-11-09T06:18:26.666400",
     "status": "completed"
    },
    "tags": []
   },
   "outputs": [],
   "source": [
    "#pd.DataFrame(check_svm).to_csv(\"svm_oof.csv\", index=False)\n",
    "#pd.DataFrame(check_tabnet).to_csv(\"tab_oof.csv\", index=False)\n",
    "#pd.DataFrame(check_mlp).to_csv(\"mlp_oof.csv\", index=False)"
   ]
  },
  {
   "cell_type": "code",
   "execution_count": 26,
   "metadata": {
    "execution": {
     "iopub.execute_input": "2020-11-09T06:18:27.267111Z",
     "iopub.status.busy": "2020-11-09T06:18:27.266240Z",
     "iopub.status.idle": "2020-11-09T06:18:28.442529Z",
     "shell.execute_reply": "2020-11-09T06:18:28.442964Z"
    },
    "papermill": {
     "duration": 1.377896,
     "end_time": "2020-11-09T06:18:28.443136",
     "exception": false,
     "start_time": "2020-11-09T06:18:27.065240",
     "status": "completed"
    },
    "tags": []
   },
   "outputs": [
    {
     "name": "stdout",
     "output_type": "stream",
     "text": [
      "OOF log loss:  0.01571810721478206\n"
     ]
    }
   ],
   "source": [
    "check = check_mlp #0.1 * check_svm + 0.2 * check_tabnet + 0.7 *\n",
    "print('OOF log loss: ', log_loss(np.ravel(y), np.ravel(check)))"
   ]
  },
  {
   "cell_type": "code",
   "execution_count": 27,
   "metadata": {
    "execution": {
     "iopub.execute_input": "2020-11-09T06:18:28.861237Z",
     "iopub.status.busy": "2020-11-09T06:18:28.859956Z",
     "iopub.status.idle": "2020-11-09T06:18:29.299071Z",
     "shell.execute_reply": "2020-11-09T06:18:29.298413Z"
    },
    "papermill": {
     "duration": 0.657374,
     "end_time": "2020-11-09T06:18:29.299184",
     "exception": false,
     "start_time": "2020-11-09T06:18:28.641810",
     "status": "completed"
    },
    "tags": []
   },
   "outputs": [],
   "source": [
    "sub.loc[cons_test_index,target_feats] = mlp1_test #0.1 * svm1_test + 0.2 * tabnet1_test + 0.7 *\n",
    "sub.loc[noncons_test_index,target_feats] = 0"
   ]
  },
  {
   "cell_type": "code",
   "execution_count": 28,
   "metadata": {
    "execution": {
     "iopub.execute_input": "2020-11-09T06:18:29.701310Z",
     "iopub.status.busy": "2020-11-09T06:18:29.699781Z",
     "iopub.status.idle": "2020-11-09T06:18:29.702124Z",
     "shell.execute_reply": "2020-11-09T06:18:29.702685Z"
    },
    "papermill": {
     "duration": 0.206275,
     "end_time": "2020-11-09T06:18:29.702812",
     "exception": false,
     "start_time": "2020-11-09T06:18:29.496537",
     "status": "completed"
    },
    "tags": []
   },
   "outputs": [],
   "source": [
    "check = pd.DataFrame(check, columns=target_feats)"
   ]
  },
  {
   "cell_type": "code",
   "execution_count": 29,
   "metadata": {
    "execution": {
     "iopub.execute_input": "2020-11-09T06:18:30.106179Z",
     "iopub.status.busy": "2020-11-09T06:18:30.104598Z",
     "iopub.status.idle": "2020-11-09T06:43:28.073434Z",
     "shell.execute_reply": "2020-11-09T06:43:28.073958Z"
    },
    "papermill": {
     "duration": 1498.174928,
     "end_time": "2020-11-09T06:43:28.074137",
     "exception": false,
     "start_time": "2020-11-09T06:18:29.899209",
     "status": "completed"
    },
    "tags": []
   },
   "outputs": [
    {
     "name": "stdout",
     "output_type": "stream",
     "text": [
      "antiarrhythmic\n",
      "oof log_loss= 0.0028886235644880053, all log_loss= 0.0026622789112868313\n",
      "atm_kinase_inhibitor\n",
      "oof log_loss= 0.0028886235644880044, all log_loss= 0.0026622789112868313\n",
      "autotaxin_inhibitor\n",
      "oof log_loss= 0.0028886235644880053, all log_loss= 0.0026622789112868313\n",
      "calcineurin_inhibitor\n",
      "oof log_loss= 0.002888623564488005, all log_loss= 0.0026622789112868313\n",
      "coagulation_factor_inhibitor\n",
      "oof log_loss= 0.0028886235644880053, all log_loss= 0.0026622789112868313\n",
      "diuretic\n",
      "oof log_loss= 0.002888623564488005, all log_loss= 0.0026622789112868313\n",
      "elastase_inhibitor\n",
      "oof log_loss= 0.0028886235644880053, all log_loss= 0.0026622789112868313\n",
      "laxative\n",
      "oof log_loss= 0.0028886235644880053, all log_loss= 0.0026622789112868313\n",
      "leukotriene_inhibitor\n",
      "oof log_loss= 0.0028886235644880053, all log_loss= 0.002662278911286831\n",
      "lxr_agonist\n",
      "oof log_loss= 0.0028886235644880053, all log_loss= 0.0026622789112868313\n",
      "nicotinic_receptor_agonist\n",
      "oof log_loss= 0.0028886235644880053, all log_loss= 0.0026622789112868313\n",
      "protein_phosphatase_inhibitor\n",
      "oof log_loss= 0.0028886235644880053, all log_loss= 0.0026622789112868313\n",
      "retinoid_receptor_antagonist\n",
      "oof log_loss= 0.0028886235644880053, all log_loss= 0.0026622789112868313\n",
      "steroid\n",
      "oof log_loss= 0.0028886235644880053, all log_loss= 0.0026622789112868313\n",
      "tropomyosin_receptor_kinase_inhibitor\n",
      "oof log_loss= 0.0028886235644880053, all log_loss= 0.0026622789112868313\n",
      "ubiquitin_specific_protease_inhibitor\n",
      "oof log_loss= 0.0028886235644880053, all log_loss= 0.0026622789112868313\n"
     ]
    }
   ],
   "source": [
    "train_checkscore = y.copy()\n",
    "for i in unbalanced_feats[1:]:\n",
    "    print(i)\n",
    "    valid1, pred_value1, score = modelling_lgb(lgb_train, targets, lgb_test, i, 0)\n",
    "    valid2, pred_value2, score = modelling_lgb(lgb_train, targets, lgb_test, i, 1)\n",
    "    train_checkscore.loc[cons_train_index, i] = (valid1 + valid2) / 2\n",
    "    check.loc[cons_train_index, i] = (valid1 + valid2) / 2\n",
    "    print(\"oof log_loss= {}, all log_loss= {}\".format(score, log_loss(y[i], train_checkscore[i])))\n",
    "    sub.loc[cons_test_index,i] = (pred_value1 + pred_value2) / 2"
   ]
  },
  {
   "cell_type": "code",
   "execution_count": 30,
   "metadata": {
    "execution": {
     "iopub.execute_input": "2020-11-09T06:43:28.496180Z",
     "iopub.status.busy": "2020-11-09T06:43:28.495173Z",
     "iopub.status.idle": "2020-11-09T06:43:29.890324Z",
     "shell.execute_reply": "2020-11-09T06:43:29.890946Z"
    },
    "papermill": {
     "duration": 1.608674,
     "end_time": "2020-11-09T06:43:29.891138",
     "exception": false,
     "start_time": "2020-11-09T06:43:28.282464",
     "status": "completed"
    },
    "tags": []
   },
   "outputs": [
    {
     "name": "stdout",
     "output_type": "stream",
     "text": [
      "OOF log loss:  0.01571597218429891\n"
     ]
    }
   ],
   "source": [
    "print('OOF log loss: ', log_loss(np.ravel(y), np.ravel(np.array(check))))"
   ]
  },
  {
   "cell_type": "code",
   "execution_count": 31,
   "metadata": {
    "execution": {
     "iopub.execute_input": "2020-11-09T06:43:30.308901Z",
     "iopub.status.busy": "2020-11-09T06:43:30.308316Z",
     "iopub.status.idle": "2020-11-09T06:43:32.233871Z",
     "shell.execute_reply": "2020-11-09T06:43:32.232731Z"
    },
    "papermill": {
     "duration": 2.137063,
     "end_time": "2020-11-09T06:43:32.234020",
     "exception": false,
     "start_time": "2020-11-09T06:43:30.096957",
     "status": "completed"
    },
    "tags": []
   },
   "outputs": [],
   "source": [
    "sub.to_csv('submission.csv', index=False)"
   ]
  }
 ],
 "metadata": {
  "kernelspec": {
   "display_name": "Python 3",
   "language": "python",
   "name": "python3"
  },
  "language_info": {
   "codemirror_mode": {
    "name": "ipython",
    "version": 3
   },
   "file_extension": ".py",
   "mimetype": "text/x-python",
   "name": "python",
   "nbconvert_exporter": "python",
   "pygments_lexer": "ipython3",
   "version": "3.7.6"
  },
  "papermill": {
   "duration": 2410.882714,
   "end_time": "2020-11-09T06:43:33.636034",
   "environment_variables": {},
   "exception": null,
   "input_path": "__notebook__.ipynb",
   "output_path": "__notebook__.ipynb",
   "parameters": {},
   "start_time": "2020-11-09T06:03:22.753320",
   "version": "2.1.0"
  }
 },
 "nbformat": 4,
 "nbformat_minor": 4
}
