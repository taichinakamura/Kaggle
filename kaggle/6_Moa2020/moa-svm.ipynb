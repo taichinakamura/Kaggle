{
 "cells": [
  {
   "cell_type": "markdown",
   "metadata": {
    "papermill": {
     "duration": 0.016454,
     "end_time": "2020-11-08T14:20:51.580756",
     "exception": false,
     "start_time": "2020-11-08T14:20:51.564302",
     "status": "completed"
    },
    "tags": []
   },
   "source": [
    "- incorporate validation method\n",
    "- vaildation seed change\n",
    "- modify mistake"
   ]
  },
  {
   "cell_type": "code",
   "execution_count": 1,
   "metadata": {
    "_cell_guid": "b1076dfc-b9ad-4769-8c92-a6c4dae69d19",
    "_uuid": "8f2839f25d086af736a60e9eeb907d3b93b6e0e5",
    "execution": {
     "iopub.execute_input": "2020-11-08T14:20:51.624338Z",
     "iopub.status.busy": "2020-11-08T14:20:51.623502Z",
     "iopub.status.idle": "2020-11-08T14:22:10.882446Z",
     "shell.execute_reply": "2020-11-08T14:22:10.881644Z"
    },
    "papermill": {
     "duration": 79.288229,
     "end_time": "2020-11-08T14:22:10.882586",
     "exception": false,
     "start_time": "2020-11-08T14:20:51.594357",
     "status": "completed"
    },
    "tags": []
   },
   "outputs": [],
   "source": [
    "import sys\n",
    "!cp ../input/rapids/rapids.0.15.0 /opt/conda/envs/rapids.tar.gz\n",
    "!cd /opt/conda/envs/ && tar -xzvf rapids.tar.gz > /dev/null\n",
    "sys.path = [\"/opt/conda/envs/rapids/lib/python3.7/site-packages\"] + sys.path\n",
    "sys.path = [\"/opt/conda/envs/rapids/lib/python3.7\"] + sys.path\n",
    "sys.path = [\"/opt/conda/envs/rapids/lib\"] + sys.path\n",
    "!cp /opt/conda/envs/rapids/lib/libxgboost.so /opt/conda/lib/"
   ]
  },
  {
   "cell_type": "code",
   "execution_count": 2,
   "metadata": {
    "_cell_guid": "79c7e3d0-c299-4dcb-8224-4455121ee9b0",
    "_uuid": "d629ff2d2480ee46fbb7e2d37f6b5fab8052498a",
    "execution": {
     "iopub.execute_input": "2020-11-08T14:22:29.898128Z",
     "iopub.status.busy": "2020-11-08T14:22:29.893165Z",
     "iopub.status.idle": "2020-11-08T14:22:32.611270Z",
     "shell.execute_reply": "2020-11-08T14:22:32.610068Z"
    },
    "papermill": {
     "duration": 2.753719,
     "end_time": "2020-11-08T14:22:32.611404",
     "exception": false,
     "start_time": "2020-11-08T14:22:29.857685",
     "status": "completed"
    },
    "tags": []
   },
   "outputs": [],
   "source": [
    "import os\n",
    "import warnings\n",
    "import numpy as np\n",
    "import pandas as pd \n",
    "import matplotlib.pyplot as plt\n",
    "from sklearn import preprocessing\n",
    "from sklearn.metrics import log_loss\n",
    "from sklearn.decomposition import PCA\n",
    "from sklearn.pipeline import Pipeline\n",
    "from tqdm import tqdm_notebook as tqdm\n",
    "from category_encoders import CountEncoder\n",
    "from sklearn.multioutput import MultiOutputClassifier\n",
    "from sklearn.model_selection import KFold, StratifiedKFold\n",
    "sys.path.append('../input/multilabelstraifier/')\n",
    "from ml_stratifiers import MultilabelStratifiedKFold\n",
    "warnings.filterwarnings('ignore')\n",
    "\n",
    "from sklearn.kernel_approximation import Nystroem\n",
    "from sklearn.isotonic import IsotonicRegression\n",
    "from sklearn.linear_model import LogisticRegression\n",
    "from sklearn.kernel_ridge import KernelRidge\n",
    "from cuml.svm import SVC, SVR"
   ]
  },
  {
   "cell_type": "markdown",
   "metadata": {
    "papermill": {
     "duration": 0.015946,
     "end_time": "2020-11-08T14:22:32.645080",
     "exception": false,
     "start_time": "2020-11-08T14:22:32.629134",
     "status": "completed"
    },
    "tags": []
   },
   "source": [
    "# preprocess"
   ]
  },
  {
   "cell_type": "code",
   "execution_count": 3,
   "metadata": {
    "execution": {
     "iopub.execute_input": "2020-11-08T14:22:32.688497Z",
     "iopub.status.busy": "2020-11-08T14:22:32.687441Z",
     "iopub.status.idle": "2020-11-08T14:22:39.591128Z",
     "shell.execute_reply": "2020-11-08T14:22:39.589914Z"
    },
    "papermill": {
     "duration": 6.92967,
     "end_time": "2020-11-08T14:22:39.591251",
     "exception": false,
     "start_time": "2020-11-08T14:22:32.661581",
     "status": "completed"
    },
    "tags": []
   },
   "outputs": [],
   "source": [
    "DATA_DIR = '/kaggle/input/lish-moa/'\n",
    "train = pd.read_csv(DATA_DIR + 'train_features.csv')\n",
    "targets = pd.read_csv(DATA_DIR + 'train_targets_scored.csv')\n",
    "test = pd.read_csv(DATA_DIR + 'test_features.csv')\n",
    "drug = pd.read_csv(DATA_DIR + 'train_drug.csv')"
   ]
  },
  {
   "cell_type": "code",
   "execution_count": 4,
   "metadata": {
    "execution": {
     "iopub.execute_input": "2020-11-08T14:22:39.628121Z",
     "iopub.status.busy": "2020-11-08T14:22:39.626192Z",
     "iopub.status.idle": "2020-11-08T14:22:39.628781Z",
     "shell.execute_reply": "2020-11-08T14:22:39.629253Z"
    },
    "papermill": {
     "duration": 0.023662,
     "end_time": "2020-11-08T14:22:39.629364",
     "exception": false,
     "start_time": "2020-11-08T14:22:39.605702",
     "status": "completed"
    },
    "tags": []
   },
   "outputs": [],
   "source": [
    "target_feats = [ i for i in targets.columns if i != \"sig_id\"]\n",
    "g_feats = [i for i in train.columns if \"g-\" in i]\n",
    "c_feats = [i for i in train.columns if \"c-\" in i]"
   ]
  },
  {
   "cell_type": "code",
   "execution_count": 5,
   "metadata": {
    "execution": {
     "iopub.execute_input": "2020-11-08T14:22:39.678104Z",
     "iopub.status.busy": "2020-11-08T14:22:39.677407Z",
     "iopub.status.idle": "2020-11-08T14:22:40.155345Z",
     "shell.execute_reply": "2020-11-08T14:22:40.155961Z"
    },
    "papermill": {
     "duration": 0.512386,
     "end_time": "2020-11-08T14:22:40.156122",
     "exception": false,
     "start_time": "2020-11-08T14:22:39.643736",
     "status": "completed"
    },
    "tags": []
   },
   "outputs": [],
   "source": [
    "noncons_train_index = train[train.cp_type==\"ctl_vehicle\"].index\n",
    "cons_train_index = train[train.cp_type!=\"ctl_vehicle\"].index\n",
    "noncons_test_index = test[test.cp_type==\"ctl_vehicle\"].index\n",
    "cons_test_index = test[test.cp_type!=\"ctl_vehicle\"].index\n",
    "\n",
    "y = targets.drop(\"sig_id\", axis=1).copy()\n",
    "test = test[test.index.isin(cons_test_index)].reset_index(drop=True)\n",
    "train = train[train.index.isin(cons_train_index)].reset_index(drop=True)\n",
    "targets = targets[targets.index.isin(cons_train_index)].reset_index(drop=True)\n",
    "fn_targets = targets.drop(\"sig_id\", axis=1).copy().to_numpy()"
   ]
  },
  {
   "cell_type": "code",
   "execution_count": 6,
   "metadata": {
    "execution": {
     "iopub.execute_input": "2020-11-08T14:22:40.211451Z",
     "iopub.status.busy": "2020-11-08T14:22:40.202337Z",
     "iopub.status.idle": "2020-11-08T14:22:40.730156Z",
     "shell.execute_reply": "2020-11-08T14:22:40.729170Z"
    },
    "papermill": {
     "duration": 0.558736,
     "end_time": "2020-11-08T14:22:40.730266",
     "exception": false,
     "start_time": "2020-11-08T14:22:40.171530",
     "status": "completed"
    },
    "tags": []
   },
   "outputs": [
    {
     "data": {
      "text/plain": [
       "array([[3, 0, 2, ..., 4, 1, 0]], dtype=int8)"
      ]
     },
     "execution_count": 6,
     "metadata": {},
     "output_type": "execute_result"
    }
   ],
   "source": [
    "# https://www.kaggle.com/c/lish-moa/discussion/195195\n",
    "N_SPLITS = 5\n",
    "seed = 14\n",
    "\n",
    "folds = []\n",
    "    \n",
    "# LOAD FILES\n",
    "train_score = targets.merge(drug, on='sig_id', how='left') \n",
    "\n",
    "# LOCATE DRUGS\n",
    "vc = train_score.drug_id.value_counts()\n",
    "vc1 = vc.loc[vc <= 18].index.sort_values()\n",
    "vc2 = vc.loc[vc > 18].index.sort_values()\n",
    "    \n",
    "# STRATIFY DRUGS 18X OR LESS\n",
    "dct1 = {}; dct2 = {}\n",
    "skf = MultilabelStratifiedKFold(n_splits = N_SPLITS, shuffle = True, random_state = seed)\n",
    "tmp = train_score.groupby('drug_id')[target_feats].mean().loc[vc1]\n",
    "for fold,(idxT,idxV) in enumerate(skf.split(tmp,tmp[target_feats])):\n",
    "    dd = {k:fold for k in tmp.index[idxV].values}\n",
    "    dct1.update(dd)\n",
    "\n",
    "# STRATIFY DRUGS MORE THAN 18X\n",
    "skf = MultilabelStratifiedKFold(n_splits = N_SPLITS, shuffle = True, random_state = seed)\n",
    "tmp = train_score.loc[train_score.drug_id.isin(vc2)].reset_index(drop = True)\n",
    "for fold,(idxT,idxV) in enumerate(skf.split(tmp,tmp[target_feats])):\n",
    "    dd = {k:fold for k in tmp.sig_id[idxV].values}\n",
    "    dct2.update(dd)\n",
    "    \n",
    "# ASSIGN FOLDS\n",
    "train_score['fold'] = train_score.drug_id.map(dct1)\n",
    "train_score.loc[train_score.fold.isna(),'fold'] = train_score.loc[train_score.fold.isna(),'sig_id'].map(dct2)\n",
    "train_score.fold = train_score.fold.astype('int8')\n",
    "folds.append(train_score.fold.values)\n",
    "    \n",
    "np.array(folds)"
   ]
  },
  {
   "cell_type": "code",
   "execution_count": 7,
   "metadata": {
    "execution": {
     "iopub.execute_input": "2020-11-08T14:22:40.770237Z",
     "iopub.status.busy": "2020-11-08T14:22:40.768907Z",
     "iopub.status.idle": "2020-11-08T14:22:41.633261Z",
     "shell.execute_reply": "2020-11-08T14:22:41.632267Z"
    },
    "papermill": {
     "duration": 0.887539,
     "end_time": "2020-11-08T14:22:41.633401",
     "exception": false,
     "start_time": "2020-11-08T14:22:40.745862",
     "status": "completed"
    },
    "tags": []
   },
   "outputs": [],
   "source": [
    "target_feats = [i for i in targets.columns if i != \"sig_id\"]\n",
    "\n",
    "check_dist = targets.copy()\n",
    "check_dist[\"fold\"] = np.array(folds).reshape(-1,1)\n",
    "\n",
    "noncons_feats = []\n",
    "for ind, i in enumerate(target_feats):\n",
    "    if np.max(check_dist.loc[:,[i]+[\"fold\"]].groupby(\"fold\").sum()).values[0] == check_dist[i].sum() and check_dist[i].sum()>=5:\n",
    "        noncons_feats.append(ind)"
   ]
  },
  {
   "cell_type": "markdown",
   "metadata": {
    "papermill": {
     "duration": 0.022982,
     "end_time": "2020-11-08T14:22:41.685342",
     "exception": false,
     "start_time": "2020-11-08T14:22:41.662360",
     "status": "completed"
    },
    "tags": []
   },
   "source": [
    "# Feature engineering"
   ]
  },
  {
   "cell_type": "code",
   "execution_count": 8,
   "metadata": {
    "execution": {
     "iopub.execute_input": "2020-11-08T14:22:41.732508Z",
     "iopub.status.busy": "2020-11-08T14:22:41.731678Z",
     "iopub.status.idle": "2020-11-08T14:22:42.822653Z",
     "shell.execute_reply": "2020-11-08T14:22:42.821635Z"
    },
    "papermill": {
     "duration": 1.117859,
     "end_time": "2020-11-08T14:22:42.822781",
     "exception": false,
     "start_time": "2020-11-08T14:22:41.704922",
     "status": "completed"
    },
    "tags": []
   },
   "outputs": [],
   "source": [
    "for i in c_feats + g_feats:\n",
    "    ss = preprocessing.StandardScaler()\n",
    "    ss.fit(train[i].values.reshape(-1,1))\n",
    "    train[i] = ss.transform(train[i].values.reshape(-1,1))\n",
    "    test[i] = ss.transform(test[i].values.reshape(-1,1))"
   ]
  },
  {
   "cell_type": "code",
   "execution_count": 9,
   "metadata": {
    "execution": {
     "iopub.execute_input": "2020-11-08T14:22:42.870194Z",
     "iopub.status.busy": "2020-11-08T14:22:42.868764Z",
     "iopub.status.idle": "2020-11-08T14:22:43.047218Z",
     "shell.execute_reply": "2020-11-08T14:22:43.047885Z"
    },
    "papermill": {
     "duration": 0.207292,
     "end_time": "2020-11-08T14:22:43.048047",
     "exception": false,
     "start_time": "2020-11-08T14:22:42.840755",
     "status": "completed"
    },
    "tags": []
   },
   "outputs": [
    {
     "name": "stdout",
     "output_type": "stream",
     "text": [
      "(21948, 875) (3624, 874)\n"
     ]
    }
   ],
   "source": [
    "def fe_simple(df, remove_features):\n",
    "    tmp = df.copy()\n",
    "    tmp.drop(remove_features, axis=1, inplace=True)\n",
    "    tmp.loc[:, 'cp_dose'] = tmp.loc[:, 'cp_dose'].map({'D1': 0, 'D2': 1})\n",
    "    return tmp\n",
    "\n",
    "remove_features = [\"cp_type\" , \"sig_id\"]\n",
    "train_fn = fe_simple(train, remove_features)\n",
    "test_fn = fe_simple(test, remove_features)\n",
    "train_fn[\"fold\"] = np.array(folds).reshape(-1,1)\n",
    "\n",
    "print(train_fn.shape, test_fn.shape)"
   ]
  },
  {
   "cell_type": "code",
   "execution_count": 10,
   "metadata": {
    "execution": {
     "iopub.execute_input": "2020-11-08T14:22:43.094592Z",
     "iopub.status.busy": "2020-11-08T14:22:43.093237Z",
     "iopub.status.idle": "2020-11-08T14:22:43.314817Z",
     "shell.execute_reply": "2020-11-08T14:22:43.314187Z"
    },
    "papermill": {
     "duration": 0.249625,
     "end_time": "2020-11-08T14:22:43.314951",
     "exception": false,
     "start_time": "2020-11-08T14:22:43.065326",
     "status": "completed"
    },
    "tags": []
   },
   "outputs": [],
   "source": [
    "fn_train = train_fn.copy().to_numpy()\n",
    "fn_test = test_fn.copy().to_numpy()"
   ]
  },
  {
   "cell_type": "markdown",
   "metadata": {
    "papermill": {
     "duration": 0.016143,
     "end_time": "2020-11-08T14:22:43.347689",
     "exception": false,
     "start_time": "2020-11-08T14:22:43.331546",
     "status": "completed"
    },
    "tags": []
   },
   "source": [
    "# modelling"
   ]
  },
  {
   "cell_type": "code",
   "execution_count": 11,
   "metadata": {
    "execution": {
     "iopub.execute_input": "2020-11-08T14:22:43.405872Z",
     "iopub.status.busy": "2020-11-08T14:22:43.389170Z",
     "iopub.status.idle": "2020-11-08T14:22:43.408795Z",
     "shell.execute_reply": "2020-11-08T14:22:43.408262Z"
    },
    "papermill": {
     "duration": 0.044418,
     "end_time": "2020-11-08T14:22:43.408925",
     "exception": false,
     "start_time": "2020-11-08T14:22:43.364507",
     "status": "completed"
    },
    "tags": []
   },
   "outputs": [],
   "source": [
    "N_STARTS = 1\n",
    "\n",
    "def modelling_svm(tr, ta, te):\n",
    "    svm0_oof = np.zeros([len(tr), ta.shape[1]])\n",
    "    svm0_test = np.zeros([len(te), ta.shape[1]])\n",
    "\n",
    "    svm1_test = np.zeros([len(te),ta.shape[1]])\n",
    "    svm1_oof = np.zeros([ta.shape[0],ta.shape[1]]) \n",
    "\n",
    "    for ind in tqdm(range(ta.shape[1])):\n",
    "        ind_target_sum = ta[:, ind].sum()\n",
    "        if ind_target_sum >= N_SPLITS and ind not in noncons_feats:\n",
    "            for seed in range(N_STARTS):\n",
    "                for n in range(N_SPLITS):\n",
    "                    val_index = tr[:,-1] == n\n",
    "                    train_index = tr[:,-1] != n\n",
    "                    x_tr, x_val = tr[train_index], tr[val_index]\n",
    "                    y_tr, y_val = ta[train_index,ind], ta[val_index,ind]\n",
    "                    x_tr = np.delete(x_tr, -1, 1)\n",
    "                    x_val = np.delete(x_val, -1, 1)\n",
    "                    model = SVC(C = 40, cache_size = 2000)\n",
    "                    model.fit(x_tr, y_tr)\n",
    "                    svm0_test[:, ind] += model.decision_function(te) / (N_SPLITS * N_STARTS)\n",
    "                    svm0_oof[val_index, ind] += model.decision_function(x_val) / N_STARTS\n",
    "                    \n",
    "            for seed in range(N_STARTS):\n",
    "                for n in range(N_SPLITS):\n",
    "                    val_index = tr[:,-1] == n\n",
    "                    train_index = tr[:,-1] != n\n",
    "                    x_tr, x_val = svm0_oof[train_index, ind].reshape(-1, 1), svm0_oof[val_index, ind].reshape(-1, 1)\n",
    "                    y_tr, y_val = ta[train_index,ind], ta[val_index,ind]\n",
    "\n",
    "                    model = LogisticRegression(C = 35, max_iter = 1000)\n",
    "                    model.fit(x_tr, y_tr)\n",
    "                    svm1_test[:, ind] += model.predict_proba(svm0_test[:, ind].reshape(-1, 1))[:, 1] / (N_SPLITS * N_STARTS)\n",
    "                    svm1_oof[val_index, ind] += model.predict_proba(x_val)[:, 1] / N_STARTS\n",
    "\n",
    "        score1 = log_loss(ta[:, ind], svm0_oof[:, ind])\n",
    "        score2 = log_loss(ta[:, ind], svm1_oof[:, ind])\n",
    "        print('SVM Target ind {} score {}: {}'.format(ind, score1, score2))\n",
    "\n",
    "    return svm1_test, svm1_oof"
   ]
  },
  {
   "cell_type": "code",
   "execution_count": 12,
   "metadata": {
    "execution": {
     "iopub.execute_input": "2020-11-08T14:22:43.448304Z",
     "iopub.status.busy": "2020-11-08T14:22:43.447399Z",
     "iopub.status.idle": "2020-11-08T14:32:26.235849Z",
     "shell.execute_reply": "2020-11-08T14:32:26.231845Z"
    },
    "papermill": {
     "duration": 582.810191,
     "end_time": "2020-11-08T14:32:26.235985",
     "exception": false,
     "start_time": "2020-11-08T14:22:43.425794",
     "status": "completed"
    },
    "tags": []
   },
   "outputs": [
    {
     "data": {
      "application/vnd.jupyter.widget-view+json": {
       "model_id": "bb984d6da4ac45969691a256d39b5b63",
       "version_major": 2,
       "version_minor": 0
      },
      "text/plain": [
       "HBox(children=(FloatProgress(value=0.0, max=206.0), HTML(value='')))"
      ]
     },
     "metadata": {},
     "output_type": "display_data"
    },
    {
     "name": "stdout",
     "output_type": "stream",
     "text": [
      "SVM Target ind 0 score 0.0267522871657328: 0.004784850191536545\n",
      "SVM Target ind 1 score 0.028325951116658196: 0.006774866422310902\n",
      "SVM Target ind 2 score 0.0377679348222106: 0.008627308176932658\n",
      "SVM Target ind 3 score 0.2990400893375156: 0.048465174073207294\n",
      "SVM Target ind 4 score 0.4736841911390064: 0.0714749840350949\n",
      "SVM Target ind 5 score 0.11487887210902842: 0.02234108130431479\n",
      "SVM Target ind 6 score 0.0849778533499726: 0.017247776995837138\n",
      "SVM Target ind 7 score 0.15112004990447125: 0.027869454031235186\n",
      "SVM Target ind 8 score 0.018893542751029866: 0.004323261031128093\n",
      "SVM Target ind 9 score 0.41344595459963224: 0.06089158561279115\n",
      "SVM Target ind 10 score 0.56654328048957: 0.08236960589630517\n",
      "SVM Target ind 11 score 0.0798682983062561: 0.017925761428782112\n",
      "SVM Target ind 12 score 0.0110156476564788: 0.0110156476564788\n",
      "SVM Target ind 13 score 0.06609921068559742: 0.013795053767412382\n",
      "SVM Target ind 14 score 0.0188839674111058: 0.004892597137094785\n",
      "SVM Target ind 15 score 0.018883967411105797: 0.004835156285033516\n",
      "SVM Target ind 16 score 0.0755358696444202: 0.015587799308502698\n",
      "SVM Target ind 17 score 0.1400908350448513: 0.026150280179223818\n",
      "SVM Target ind 18 score 0.12590234910733725: 0.024068739525039178\n",
      "SVM Target ind 19 score 0.0566519022333154: 0.012213972276027099\n",
      "SVM Target ind 20 score 0.058225566184240796: 0.012357919805493155\n",
      "SVM Target ind 21 score 0.11488520635595142: 0.02143860837510905\n",
      "SVM Target ind 22 score 0.009441983705553398: 0.009441983705553398\n",
      "SVM Target ind 23 score 0.06766754988979319: 0.014247399209957995\n",
      "SVM Target ind 24 score 0.0188839674111058: 0.004783695795402156\n",
      "SVM Target ind 25 score 0.020457631362031197: 0.004785656630123138\n",
      "SVM Target ind 26 score 0.018883967411105797: 0.004896025901158445\n",
      "SVM Target ind 27 score 0.028325951116658196: 0.006751566563403927\n",
      "SVM Target ind 28 score 0.11488846517690807: 0.021893591071393253\n",
      "SVM Target ind 29 score 0.0566519022333154: 0.012088131755410918\n",
      "SVM Target ind 30 score 0.036194270871285204: 0.008490354295286778\n",
      "SVM Target ind 31 score 0.07711026736335799: 0.01612940684784331\n",
      "SVM Target ind 32 score 0.0739622056934948: 0.015229018091166857\n",
      "SVM Target ind 33 score 0.009441983705553401: 0.009441983705553401\n",
      "SVM Target ind 34 score 0.0015736639509263987: 0.0015736639509263987\n",
      "SVM Target ind 35 score 0.018883967411105797: 0.002307833587442653\n",
      "SVM Target ind 36 score 0.1282544619855233: 0.026119096245893078\n",
      "SVM Target ind 37 score 0.029899615067583596: 0.006392144739904245\n",
      "SVM Target ind 38 score 0.11240815940375623: 0.015621524955840866\n",
      "SVM Target ind 39 score 0.0094419837055534: 0.0094419837055534\n",
      "SVM Target ind 40 score 0.09445467086782021: 0.018817890062522807\n",
      "SVM Target ind 41 score 0.125893116074033: 0.023012306852732287\n",
      "SVM Target ind 42 score 0.056651902233315385: 0.011817474349145887\n",
      "SVM Target ind 43 score 0.3022120100256833: 0.049596236673795334\n",
      "SVM Target ind 44 score 0.14006545574412532: 0.0255260648315444\n",
      "SVM Target ind 45 score 0.18099085369923565: 0.030999162949212903\n",
      "SVM Target ind 46 score 0.0110156476564788: 0.002741312305730903\n",
      "SVM Target ind 47 score 0.04732586708582954: 0.01014728375197252\n",
      "SVM Target ind 48 score 0.05986589675526575: 0.012783686475252468\n",
      "SVM Target ind 49 score 0.10543762068574986: 0.020376310790830195\n",
      "SVM Target ind 50 score 0.037767934822210594: 0.008622651073027154\n",
      "SVM Target ind 51 score 0.09682856854863295: 0.017318646284522038\n",
      "SVM Target ind 52 score 0.04563625457683759: 0.00974591458531165\n",
      "SVM Target ind 53 score 0.0094419837055534: 0.0094419837055534\n",
      "SVM Target ind 54 score 0.44085580082309245: 0.06815571855611227\n",
      "SVM Target ind 55 score 0.0660938859388678: 0.013797029747028315\n",
      "SVM Target ind 56 score 0.0865552665570951: 0.01730623024550856\n",
      "SVM Target ind 57 score 0.0566519022333154: 0.012201201162898695\n",
      "SVM Target ind 58 score 0.05666598526555803: 0.012149111031904457\n",
      "SVM Target ind 59 score 0.028325951116658196: 0.006904702894735647\n",
      "SVM Target ind 60 score 0.018883967411105793: 0.0047936442608031045\n",
      "SVM Target ind 61 score 0.16054542735880362: 0.02976873035310511\n",
      "SVM Target ind 62 score 0.028325951116658196: 0.0066599833575724165\n",
      "SVM Target ind 63 score 0.1585187836768037: 0.025905438606210814\n",
      "SVM Target ind 64 score 0.0849778533499726: 0.017210505304643325\n",
      "SVM Target ind 65 score 0.028694466557675942: 0.004391653123321485\n",
      "SVM Target ind 66 score 0.06609388593886781: 0.01379682767965392\n",
      "SVM Target ind 67 score 0.07553597024293712: 0.015595517213991219\n",
      "SVM Target ind 68 score 0.08500165584772851: 0.016903182662979865\n",
      "SVM Target ind 69 score 0.0094419837055534: 0.0094419837055534\n",
      "SVM Target ind 70 score 0.0566570833504608: 0.010624727550952713\n",
      "SVM Target ind 71 score 0.6833668800624708: 0.0938967883222846\n",
      "SVM Target ind 72 score 0.16378005995173403: 0.030118651176103486\n",
      "SVM Target ind 73 score 0.0443009388353814: 0.009424612238471207\n",
      "SVM Target ind 74 score 0.039341598773136: 0.008752865662343397\n",
      "SVM Target ind 75 score 0.0094419837055534: 0.0094419837055534\n",
      "SVM Target ind 76 score 0.07555436749235234: 0.015485965906250091\n",
      "SVM Target ind 77 score 0.6277458454376127: 0.08967647084056946\n",
      "SVM Target ind 78 score 0.1904655115896273: 0.034129394665850396\n",
      "SVM Target ind 79 score 0.6600117653845009: 0.09197759013752553\n",
      "SVM Target ind 80 score 0.14821114888315223: 0.022272598997375603\n",
      "SVM Target ind 81 score 0.009441983705553398: 0.009441983705553398\n",
      "SVM Target ind 82 score 0.0015736639509263994: 0.0015736639509263994\n",
      "SVM Target ind 83 score 0.2502743734139645: 0.041810873857903524\n",
      "SVM Target ind 84 score 0.07556269144612608: 0.015653860908770172\n",
      "SVM Target ind 85 score 0.056655639709875416: 0.011569141783217692\n",
      "SVM Target ind 86 score 0.02700717657098205: 0.005525445721295585\n",
      "SVM Target ind 87 score 0.039341598773136: 0.00874338976638311\n",
      "SVM Target ind 88 score 0.07869264353516923: 0.014818935685755166\n",
      "SVM Target ind 89 score 0.22783446550274605: 0.03586525460460501\n",
      "SVM Target ind 90 score 0.026809819770925024: 0.0036288959850406797\n",
      "SVM Target ind 91 score 0.028325951116658196: 0.006811148160403961\n",
      "SVM Target ind 92 score 0.036194270871285204: 0.008083808076586554\n",
      "SVM Target ind 93 score 0.16686597958681298: 0.030767845263440886\n",
      "SVM Target ind 94 score 0.25974923208923323: 0.043949363697813416\n",
      "SVM Target ind 95 score 0.07457555813098798: 0.01257885529712625\n",
      "SVM Target ind 96 score 0.10757497343920447: 0.017720412401164447\n",
      "SVM Target ind 97 score 0.020457631362031197: 0.005255411114453551\n",
      "SVM Target ind 98 score 0.11645113236848059: 0.022443642920158307\n",
      "SVM Target ind 99 score 0.5775537796620761: 0.08458044972519066\n",
      "SVM Target ind 100 score 0.028325951116658202: 0.006715664959665498\n",
      "SVM Target ind 101 score 0.0710721850918279: 0.013628067628692371\n",
      "SVM Target ind 102 score 0.11330786612893315: 0.022061802047655864\n",
      "SVM Target ind 103 score 0.07250692057275243: 0.014230915109658642\n",
      "SVM Target ind 104 score 0.09285854427413166: 0.018616679287398855\n",
      "SVM Target ind 105 score 0.379316385211639: 0.05964063949930649\n",
      "SVM Target ind 106 score 0.0303170484390234: 0.005442185762016526\n",
      "SVM Target ind 107 score 0.048916926537667424: 0.008911577990923044\n",
      "SVM Target ind 108 score 0.1133038044666298: 0.020755779030677636\n",
      "SVM Target ind 109 score 0.12568133627914604: 0.014202171125598212\n",
      "SVM Target ind 110 score 0.03982313948966171: 0.008430200432381194\n",
      "SVM Target ind 111 score 0.058225566184240796: 0.012402540855412663\n",
      "SVM Target ind 112 score 0.047211889719317744: 0.014650202631413483\n",
      "SVM Target ind 113 score 0.04878358247868839: 0.010713261532659562\n",
      "SVM Target ind 114 score 0.11494832861598143: 0.02237087932483072\n",
      "SVM Target ind 115 score 0.047209918527762997: 0.010410624737574163\n",
      "SVM Target ind 116 score 0.08027363634208502: 0.016414015962317643\n",
      "SVM Target ind 117 score 0.06609388593886781: 0.013973958829746008\n",
      "SVM Target ind 118 score 0.11774419999029317: 0.017665547702470367\n",
      "SVM Target ind 119 score 0.1855936613611408: 0.027762386080707333\n",
      "SVM Target ind 120 score 0.009441983705553398: 0.009441983705553398\n",
      "SVM Target ind 121 score 0.009441983705553398: 0.009441983705553398\n",
      "SVM Target ind 122 score 0.09758493047506973: 0.019847826156535638\n",
      "SVM Target ind 123 score 0.018883967411105797: 0.004908424983499086\n",
      "SVM Target ind 124 score 0.09601869497076036: 0.019218446973982884\n",
      "SVM Target ind 125 score 0.0094419837055534: 0.0094419837055534\n",
      "SVM Target ind 126 score 0.0426187553723337: 0.007591847144773028\n",
      "SVM Target ind 127 score 0.056586587739835645: 0.012338845839727126\n",
      "SVM Target ind 128 score 0.11648693781315748: 0.022826790604417335\n",
      "SVM Target ind 129 score 0.039341598773136: 0.009013288180729549\n",
      "SVM Target ind 130 score 0.018883967411105797: 0.0048914878420829614\n",
      "SVM Target ind 131 score 0.1337669179753072: 0.02505505237940757\n",
      "SVM Target ind 132 score 0.028326016744471237: 0.005508759833065843\n",
      "SVM Target ind 133 score 0.12928244913379378: 0.019465959565934398\n",
      "SVM Target ind 134 score 0.0755358696444202: 0.015506690306734369\n",
      "SVM Target ind 135 score 0.058225566184240796: 0.012313400960969719\n",
      "SVM Target ind 136 score 0.19201014067853325: 0.040258163746087115\n",
      "SVM Target ind 137 score 0.009441983705553398: 0.009441983705553398\n",
      "SVM Target ind 138 score 0.040915262724061395: 0.009097632305785917\n",
      "SVM Target ind 139 score 0.018883967411105797: 0.005922031689506854\n",
      "SVM Target ind 140 score 0.040915262724061395: 0.009173889195919814\n",
      "SVM Target ind 141 score 0.0110156476564788: 0.0033625654440208874\n",
      "SVM Target ind 142 score 0.028325951116658196: 0.006709115672343852\n",
      "SVM Target ind 143 score 0.09601078480100858: 0.01903777611485382\n",
      "SVM Target ind 144 score 0.15111045327160508: 0.028285477986389262\n",
      "SVM Target ind 145 score 0.058225566184240796: 0.01259808327433351\n",
      "SVM Target ind 146 score 0.07990296470371805: 0.014052065006427436\n",
      "SVM Target ind 147 score 0.0377679348222106: 0.008771506009821283\n",
      "SVM Target ind 148 score 0.09599856728521936: 0.017858750510435863\n",
      "SVM Target ind 149 score 0.22372677706745947: 0.03200700485998146\n",
      "SVM Target ind 150 score 0.028325951116658196: 0.006760622520206639\n",
      "SVM Target ind 151 score 0.4124784930903293: 0.062389840293028895\n",
      "SVM Target ind 152 score 0.039341598773136: 0.008868466991404726\n",
      "SVM Target ind 153 score 0.17726573474061577: 0.030988739354098183\n",
      "SVM Target ind 154 score 0.0487835824786884: 0.010619697947665638\n",
      "SVM Target ind 155 score 0.08655363875755558: 0.017236858153325745\n",
      "SVM Target ind 156 score 0.1542538246779372: 0.028478778744021317\n",
      "SVM Target ind 157 score 0.15432942973101585: 0.02923733247832389\n",
      "SVM Target ind 158 score 0.047209918527763: 0.010374018449200183\n",
      "SVM Target ind 159 score 0.183012506590381: 0.03151716615237855\n",
      "SVM Target ind 160 score 0.028325951116658196: 0.005954406193388067\n",
      "SVM Target ind 161 score 0.05666095208914982: 0.012137648022543877\n",
      "SVM Target ind 162 score 0.13219873504645102: 0.02490693086597262\n",
      "SVM Target ind 163 score 0.00789253899566171: 0.001540666877440628\n",
      "SVM Target ind 164 score 0.0755358696444202: 0.015756072779094372\n",
      "SVM Target ind 165 score 0.009441983705553398: 0.009441983705553398\n",
      "SVM Target ind 166 score 0.16061257853340374: 0.03005099469890005\n",
      "SVM Target ind 167 score 0.029899615067583596: 0.007164354870068275\n",
      "SVM Target ind 168 score 0.08813083198469741: 0.01770198265408454\n",
      "SVM Target ind 169 score 0.05678180548757512: 0.010194181477779687\n",
      "SVM Target ind 170 score 0.018883967411105797: 0.00494667517903638\n",
      "SVM Target ind 171 score 0.08773219336211974: 0.013086524370498958\n",
      "SVM Target ind 172 score 0.009441983705553398: 0.009441983705553398\n",
      "SVM Target ind 173 score 0.05358882414443198: 0.010167276383058567\n",
      "SVM Target ind 174 score 0.06182594737231777: 0.012731803854511694\n",
      "SVM Target ind 175 score 0.039341598773136: 0.009541704521508283\n",
      "SVM Target ind 176 score 0.3713976465699843: 0.05922896176310895\n",
      "SVM Target ind 177 score 0.6359031589888573: 0.08866209864765995\n",
      "SVM Target ind 178 score 0.06924283440976149: 0.014516795215822872\n",
      "SVM Target ind 179 score 0.0566519022333154: 0.012100799103241548\n",
      "SVM Target ind 180 score 0.056656162227740905: 0.011772149176803375\n",
      "SVM Target ind 181 score 0.039341598773136: 0.008966593182375937\n",
      "SVM Target ind 182 score 0.4201890975801146: 0.06548597022029204\n",
      "SVM Target ind 183 score 0.039341598773136: 0.008907987205529393\n",
      "SVM Target ind 184 score 0.1072827471602183: 0.02085856939628939\n",
      "SVM Target ind 185 score 0.0094419837055534: 0.0094419837055534\n",
      "SVM Target ind 186 score 0.02990469566713721: 0.007200972955664605\n",
      "SVM Target ind 187 score 0.09442406272640162: 0.0185277704175252\n",
      "SVM Target ind 188 score 0.030733111679932826: 0.004675502112715296\n",
      "SVM Target ind 189 score 0.029899615067583596: 0.007127656169825188\n",
      "SVM Target ind 190 score 0.05822556618424079: 0.012360700484602801\n",
      "SVM Target ind 191 score 0.047209918527763: 0.010360559335639534\n",
      "SVM Target ind 192 score 0.011015647656478798: 0.0032821922062021072\n",
      "SVM Target ind 193 score 0.0566519022333154: 0.012077600954568253\n",
      "SVM Target ind 194 score 0.11451201111034869: 0.017192457003591777\n",
      "SVM Target ind 195 score 0.028325951116658196: 0.006555786791951242\n",
      "SVM Target ind 196 score 0.009441983705553398: 0.009441983705553398\n",
      "SVM Target ind 197 score 0.039341598773136: 0.008830332519096267\n",
      "SVM Target ind 198 score 0.0755358696444202: 0.015432051577833223\n",
      "SVM Target ind 199 score 0.14627485627545886: 0.024238927512633124\n",
      "SVM Target ind 200 score 0.1148774684175552: 0.022857161859757943\n",
      "SVM Target ind 201 score 0.0094419837055534: 0.0094419837055534\n",
      "SVM Target ind 202 score 0.22728693157977609: 0.036080108312351686\n",
      "SVM Target ind 203 score 0.040915262724061395: 0.009391346946225947\n",
      "SVM Target ind 204 score 0.03993369732235728: 0.0051987337815214444\n",
      "SVM Target ind 205 score 0.047209918527763: 0.010335420888525456\n",
      "\n"
     ]
    }
   ],
   "source": [
    "svm1_test, svm1_oof = modelling_svm(fn_train, fn_targets, fn_test)"
   ]
  },
  {
   "cell_type": "code",
   "execution_count": 13,
   "metadata": {
    "execution": {
     "iopub.execute_input": "2020-11-08T14:32:26.409958Z",
     "iopub.status.busy": "2020-11-08T14:32:26.409299Z",
     "iopub.status.idle": "2020-11-08T14:32:27.669525Z",
     "shell.execute_reply": "2020-11-08T14:32:27.670086Z"
    },
    "papermill": {
     "duration": 1.349848,
     "end_time": "2020-11-08T14:32:27.670230",
     "exception": false,
     "start_time": "2020-11-08T14:32:26.320382",
     "status": "completed"
    },
    "tags": []
   },
   "outputs": [
    {
     "name": "stdout",
     "output_type": "stream",
     "text": [
      "OOF log loss:  0.016892971920218523\n"
     ]
    }
   ],
   "source": [
    "check_svm1 = np.zeros([y.shape[0], y.shape[1]])\n",
    "check_svm1[cons_train_index,:] = svm1_oof\n",
    "print('OOF log loss: ', log_loss(np.ravel(y), np.ravel(check_svm1)))"
   ]
  },
  {
   "cell_type": "code",
   "execution_count": 14,
   "metadata": {
    "execution": {
     "iopub.execute_input": "2020-11-08T14:32:27.855110Z",
     "iopub.status.busy": "2020-11-08T14:32:27.854447Z",
     "iopub.status.idle": "2020-11-08T14:32:39.605079Z",
     "shell.execute_reply": "2020-11-08T14:32:39.604474Z"
    },
    "papermill": {
     "duration": 11.845818,
     "end_time": "2020-11-08T14:32:39.605205",
     "exception": false,
     "start_time": "2020-11-08T14:32:27.759387",
     "status": "completed"
    },
    "tags": []
   },
   "outputs": [],
   "source": [
    "pd.DataFrame(check_svm1).to_csv(\"svm_newval_oof.csv\", index=False)"
   ]
  },
  {
   "cell_type": "markdown",
   "metadata": {
    "papermill": {
     "duration": 0.090609,
     "end_time": "2020-11-08T14:32:39.780402",
     "exception": false,
     "start_time": "2020-11-08T14:32:39.689793",
     "status": "completed"
    },
    "tags": []
   },
   "source": [
    "# submission"
   ]
  },
  {
   "cell_type": "code",
   "execution_count": 15,
   "metadata": {
    "execution": {
     "iopub.execute_input": "2020-11-08T14:32:39.961061Z",
     "iopub.status.busy": "2020-11-08T14:32:39.959540Z",
     "iopub.status.idle": "2020-11-08T14:32:42.638240Z",
     "shell.execute_reply": "2020-11-08T14:32:42.637254Z"
    },
    "papermill": {
     "duration": 2.770002,
     "end_time": "2020-11-08T14:32:42.638366",
     "exception": false,
     "start_time": "2020-11-08T14:32:39.868364",
     "status": "completed"
    },
    "tags": []
   },
   "outputs": [],
   "source": [
    "sub = pd.read_csv(DATA_DIR + 'sample_submission.csv')\n",
    "\n",
    "sub.loc[cons_test_index,target_feats] =  svm1_test \n",
    "sub.loc[noncons_test_index,target_feats] = 0\n",
    "sub.to_csv('submission.csv', index=False)"
   ]
  },
  {
   "cell_type": "code",
   "execution_count": null,
   "metadata": {
    "papermill": {
     "duration": 0.092551,
     "end_time": "2020-11-08T14:32:42.815370",
     "exception": false,
     "start_time": "2020-11-08T14:32:42.722819",
     "status": "completed"
    },
    "tags": []
   },
   "outputs": [],
   "source": []
  }
 ],
 "metadata": {
  "kernelspec": {
   "display_name": "Python 3",
   "language": "python",
   "name": "python3"
  },
  "language_info": {
   "codemirror_mode": {
    "name": "ipython",
    "version": 3
   },
   "file_extension": ".py",
   "mimetype": "text/x-python",
   "name": "python",
   "nbconvert_exporter": "python",
   "pygments_lexer": "ipython3",
   "version": "3.7.6"
  },
  "papermill": {
   "duration": 716.068254,
   "end_time": "2020-11-08T14:32:43.412520",
   "environment_variables": {},
   "exception": null,
   "input_path": "__notebook__.ipynb",
   "output_path": "__notebook__.ipynb",
   "parameters": {},
   "start_time": "2020-11-08T14:20:47.344266",
   "version": "2.1.0"
  },
  "widgets": {
   "application/vnd.jupyter.widget-state+json": {
    "state": {
     "4522a41abbef4f75aef63eab6d34f53f": {
      "model_module": "@jupyter-widgets/controls",
      "model_module_version": "1.5.0",
      "model_name": "HTMLModel",
      "state": {
       "_dom_classes": [],
       "_model_module": "@jupyter-widgets/controls",
       "_model_module_version": "1.5.0",
       "_model_name": "HTMLModel",
       "_view_count": null,
       "_view_module": "@jupyter-widgets/controls",
       "_view_module_version": "1.5.0",
       "_view_name": "HTMLView",
       "description": "",
       "description_tooltip": null,
       "layout": "IPY_MODEL_728b122e9c124a2eb93d1fd3bd9b1790",
       "placeholder": "​",
       "style": "IPY_MODEL_89c0dee216024ff8a888616f0fc12c2b",
       "value": " 206/206 [09:42&lt;00:00,  2.83s/it]"
      }
     },
     "728b122e9c124a2eb93d1fd3bd9b1790": {
      "model_module": "@jupyter-widgets/base",
      "model_module_version": "1.2.0",
      "model_name": "LayoutModel",
      "state": {
       "_model_module": "@jupyter-widgets/base",
       "_model_module_version": "1.2.0",
       "_model_name": "LayoutModel",
       "_view_count": null,
       "_view_module": "@jupyter-widgets/base",
       "_view_module_version": "1.2.0",
       "_view_name": "LayoutView",
       "align_content": null,
       "align_items": null,
       "align_self": null,
       "border": null,
       "bottom": null,
       "display": null,
       "flex": null,
       "flex_flow": null,
       "grid_area": null,
       "grid_auto_columns": null,
       "grid_auto_flow": null,
       "grid_auto_rows": null,
       "grid_column": null,
       "grid_gap": null,
       "grid_row": null,
       "grid_template_areas": null,
       "grid_template_columns": null,
       "grid_template_rows": null,
       "height": null,
       "justify_content": null,
       "justify_items": null,
       "left": null,
       "margin": null,
       "max_height": null,
       "max_width": null,
       "min_height": null,
       "min_width": null,
       "object_fit": null,
       "object_position": null,
       "order": null,
       "overflow": null,
       "overflow_x": null,
       "overflow_y": null,
       "padding": null,
       "right": null,
       "top": null,
       "visibility": null,
       "width": null
      }
     },
     "7a2ba79005d9468592a76d636b7ba154": {
      "model_module": "@jupyter-widgets/controls",
      "model_module_version": "1.5.0",
      "model_name": "ProgressStyleModel",
      "state": {
       "_model_module": "@jupyter-widgets/controls",
       "_model_module_version": "1.5.0",
       "_model_name": "ProgressStyleModel",
       "_view_count": null,
       "_view_module": "@jupyter-widgets/base",
       "_view_module_version": "1.2.0",
       "_view_name": "StyleView",
       "bar_color": null,
       "description_width": "initial"
      }
     },
     "89c0dee216024ff8a888616f0fc12c2b": {
      "model_module": "@jupyter-widgets/controls",
      "model_module_version": "1.5.0",
      "model_name": "DescriptionStyleModel",
      "state": {
       "_model_module": "@jupyter-widgets/controls",
       "_model_module_version": "1.5.0",
       "_model_name": "DescriptionStyleModel",
       "_view_count": null,
       "_view_module": "@jupyter-widgets/base",
       "_view_module_version": "1.2.0",
       "_view_name": "StyleView",
       "description_width": ""
      }
     },
     "96e8d8cec3dc4e2395667e97d389a351": {
      "model_module": "@jupyter-widgets/base",
      "model_module_version": "1.2.0",
      "model_name": "LayoutModel",
      "state": {
       "_model_module": "@jupyter-widgets/base",
       "_model_module_version": "1.2.0",
       "_model_name": "LayoutModel",
       "_view_count": null,
       "_view_module": "@jupyter-widgets/base",
       "_view_module_version": "1.2.0",
       "_view_name": "LayoutView",
       "align_content": null,
       "align_items": null,
       "align_self": null,
       "border": null,
       "bottom": null,
       "display": null,
       "flex": null,
       "flex_flow": null,
       "grid_area": null,
       "grid_auto_columns": null,
       "grid_auto_flow": null,
       "grid_auto_rows": null,
       "grid_column": null,
       "grid_gap": null,
       "grid_row": null,
       "grid_template_areas": null,
       "grid_template_columns": null,
       "grid_template_rows": null,
       "height": null,
       "justify_content": null,
       "justify_items": null,
       "left": null,
       "margin": null,
       "max_height": null,
       "max_width": null,
       "min_height": null,
       "min_width": null,
       "object_fit": null,
       "object_position": null,
       "order": null,
       "overflow": null,
       "overflow_x": null,
       "overflow_y": null,
       "padding": null,
       "right": null,
       "top": null,
       "visibility": null,
       "width": null
      }
     },
     "bb984d6da4ac45969691a256d39b5b63": {
      "model_module": "@jupyter-widgets/controls",
      "model_module_version": "1.5.0",
      "model_name": "HBoxModel",
      "state": {
       "_dom_classes": [],
       "_model_module": "@jupyter-widgets/controls",
       "_model_module_version": "1.5.0",
       "_model_name": "HBoxModel",
       "_view_count": null,
       "_view_module": "@jupyter-widgets/controls",
       "_view_module_version": "1.5.0",
       "_view_name": "HBoxView",
       "box_style": "",
       "children": [
        "IPY_MODEL_e1803503d04a4fe7bbb217cc7b2cf0a0",
        "IPY_MODEL_4522a41abbef4f75aef63eab6d34f53f"
       ],
       "layout": "IPY_MODEL_ec0c8e6baf6642be9ebd33b040a1e1c5"
      }
     },
     "e1803503d04a4fe7bbb217cc7b2cf0a0": {
      "model_module": "@jupyter-widgets/controls",
      "model_module_version": "1.5.0",
      "model_name": "FloatProgressModel",
      "state": {
       "_dom_classes": [],
       "_model_module": "@jupyter-widgets/controls",
       "_model_module_version": "1.5.0",
       "_model_name": "FloatProgressModel",
       "_view_count": null,
       "_view_module": "@jupyter-widgets/controls",
       "_view_module_version": "1.5.0",
       "_view_name": "ProgressView",
       "bar_style": "success",
       "description": "100%",
       "description_tooltip": null,
       "layout": "IPY_MODEL_96e8d8cec3dc4e2395667e97d389a351",
       "max": 206.0,
       "min": 0.0,
       "orientation": "horizontal",
       "style": "IPY_MODEL_7a2ba79005d9468592a76d636b7ba154",
       "value": 206.0
      }
     },
     "ec0c8e6baf6642be9ebd33b040a1e1c5": {
      "model_module": "@jupyter-widgets/base",
      "model_module_version": "1.2.0",
      "model_name": "LayoutModel",
      "state": {
       "_model_module": "@jupyter-widgets/base",
       "_model_module_version": "1.2.0",
       "_model_name": "LayoutModel",
       "_view_count": null,
       "_view_module": "@jupyter-widgets/base",
       "_view_module_version": "1.2.0",
       "_view_name": "LayoutView",
       "align_content": null,
       "align_items": null,
       "align_self": null,
       "border": null,
       "bottom": null,
       "display": null,
       "flex": null,
       "flex_flow": null,
       "grid_area": null,
       "grid_auto_columns": null,
       "grid_auto_flow": null,
       "grid_auto_rows": null,
       "grid_column": null,
       "grid_gap": null,
       "grid_row": null,
       "grid_template_areas": null,
       "grid_template_columns": null,
       "grid_template_rows": null,
       "height": null,
       "justify_content": null,
       "justify_items": null,
       "left": null,
       "margin": null,
       "max_height": null,
       "max_width": null,
       "min_height": null,
       "min_width": null,
       "object_fit": null,
       "object_position": null,
       "order": null,
       "overflow": null,
       "overflow_x": null,
       "overflow_y": null,
       "padding": null,
       "right": null,
       "top": null,
       "visibility": null,
       "width": null
      }
     }
    },
    "version_major": 2,
    "version_minor": 0
   }
  }
 },
 "nbformat": 4,
 "nbformat_minor": 4
}
