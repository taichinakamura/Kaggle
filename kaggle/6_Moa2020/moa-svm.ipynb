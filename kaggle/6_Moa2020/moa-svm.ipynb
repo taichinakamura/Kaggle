{
 "cells": [
  {
   "cell_type": "markdown",
   "metadata": {
    "papermill": {
     "duration": 0.015163,
     "end_time": "2020-11-06T11:10:13.907178",
     "exception": false,
     "start_time": "2020-11-06T11:10:13.892015",
     "status": "completed"
    },
    "tags": []
   },
   "source": [
    "- incorporate validation method"
   ]
  },
  {
   "cell_type": "code",
   "execution_count": 1,
   "metadata": {
    "_cell_guid": "b1076dfc-b9ad-4769-8c92-a6c4dae69d19",
    "_uuid": "8f2839f25d086af736a60e9eeb907d3b93b6e0e5",
    "execution": {
     "iopub.execute_input": "2020-11-06T11:10:13.948930Z",
     "iopub.status.busy": "2020-11-06T11:10:13.940057Z",
     "iopub.status.idle": "2020-11-06T11:11:35.509817Z",
     "shell.execute_reply": "2020-11-06T11:11:35.509082Z"
    },
    "papermill": {
     "duration": 81.590181,
     "end_time": "2020-11-06T11:11:35.509960",
     "exception": false,
     "start_time": "2020-11-06T11:10:13.919779",
     "status": "completed"
    },
    "tags": []
   },
   "outputs": [],
   "source": [
    "import sys\n",
    "!cp ../input/rapids/rapids.0.15.0 /opt/conda/envs/rapids.tar.gz\n",
    "!cd /opt/conda/envs/ && tar -xzvf rapids.tar.gz > /dev/null\n",
    "sys.path = [\"/opt/conda/envs/rapids/lib/python3.7/site-packages\"] + sys.path\n",
    "sys.path = [\"/opt/conda/envs/rapids/lib/python3.7\"] + sys.path\n",
    "sys.path = [\"/opt/conda/envs/rapids/lib\"] + sys.path\n",
    "!cp /opt/conda/envs/rapids/lib/libxgboost.so /opt/conda/lib/"
   ]
  },
  {
   "cell_type": "code",
   "execution_count": 2,
   "metadata": {
    "_cell_guid": "79c7e3d0-c299-4dcb-8224-4455121ee9b0",
    "_uuid": "d629ff2d2480ee46fbb7e2d37f6b5fab8052498a",
    "execution": {
     "iopub.execute_input": "2020-11-06T11:12:03.715239Z",
     "iopub.status.busy": "2020-11-06T11:12:03.714273Z",
     "iopub.status.idle": "2020-11-06T11:12:06.280310Z",
     "shell.execute_reply": "2020-11-06T11:12:06.276546Z"
    },
    "papermill": {
     "duration": 2.646898,
     "end_time": "2020-11-06T11:12:06.280456",
     "exception": false,
     "start_time": "2020-11-06T11:12:03.633558",
     "status": "completed"
    },
    "tags": []
   },
   "outputs": [],
   "source": [
    "import os\n",
    "import warnings\n",
    "import numpy as np\n",
    "import pandas as pd \n",
    "import matplotlib.pyplot as plt\n",
    "from sklearn import preprocessing\n",
    "from sklearn.metrics import log_loss\n",
    "from sklearn.decomposition import PCA\n",
    "from sklearn.pipeline import Pipeline\n",
    "from tqdm import tqdm_notebook as tqdm\n",
    "from category_encoders import CountEncoder\n",
    "from sklearn.multioutput import MultiOutputClassifier\n",
    "from sklearn.model_selection import KFold, StratifiedKFold\n",
    "sys.path.append('../input/multilabelstraifier/')\n",
    "from ml_stratifiers import MultilabelStratifiedKFold\n",
    "warnings.filterwarnings('ignore')\n",
    "\n",
    "from sklearn.kernel_approximation import Nystroem\n",
    "from sklearn.isotonic import IsotonicRegression\n",
    "from sklearn.linear_model import LogisticRegression\n",
    "from sklearn.kernel_ridge import KernelRidge\n",
    "from cuml.svm import SVC, SVR"
   ]
  },
  {
   "cell_type": "markdown",
   "metadata": {
    "papermill": {
     "duration": 0.013836,
     "end_time": "2020-11-06T11:12:06.309575",
     "exception": false,
     "start_time": "2020-11-06T11:12:06.295739",
     "status": "completed"
    },
    "tags": []
   },
   "source": [
    "# preprocess"
   ]
  },
  {
   "cell_type": "code",
   "execution_count": 3,
   "metadata": {
    "execution": {
     "iopub.execute_input": "2020-11-06T11:12:06.346016Z",
     "iopub.status.busy": "2020-11-06T11:12:06.344973Z",
     "iopub.status.idle": "2020-11-06T11:12:13.580532Z",
     "shell.execute_reply": "2020-11-06T11:12:13.579218Z"
    },
    "papermill": {
     "duration": 7.257073,
     "end_time": "2020-11-06T11:12:13.580658",
     "exception": false,
     "start_time": "2020-11-06T11:12:06.323585",
     "status": "completed"
    },
    "tags": []
   },
   "outputs": [],
   "source": [
    "DATA_DIR = '/kaggle/input/lish-moa/'\n",
    "train = pd.read_csv(DATA_DIR + 'train_features.csv')\n",
    "targets = pd.read_csv(DATA_DIR + 'train_targets_scored.csv')\n",
    "test = pd.read_csv(DATA_DIR + 'test_features.csv')\n",
    "drug = pd.read_csv(DATA_DIR + 'train_drug.csv')"
   ]
  },
  {
   "cell_type": "code",
   "execution_count": 4,
   "metadata": {
    "execution": {
     "iopub.execute_input": "2020-11-06T11:12:13.614034Z",
     "iopub.status.busy": "2020-11-06T11:12:13.613194Z",
     "iopub.status.idle": "2020-11-06T11:12:13.617227Z",
     "shell.execute_reply": "2020-11-06T11:12:13.616737Z"
    },
    "papermill": {
     "duration": 0.023208,
     "end_time": "2020-11-06T11:12:13.617325",
     "exception": false,
     "start_time": "2020-11-06T11:12:13.594117",
     "status": "completed"
    },
    "tags": []
   },
   "outputs": [],
   "source": [
    "target_feats = [ i for i in targets.columns if i != \"sig_id\"]\n",
    "g_feats = [i for i in train.columns if \"g-\" in i]\n",
    "c_feats = [i for i in train.columns if \"c-\" in i]"
   ]
  },
  {
   "cell_type": "code",
   "execution_count": 5,
   "metadata": {
    "execution": {
     "iopub.execute_input": "2020-11-06T11:12:13.665631Z",
     "iopub.status.busy": "2020-11-06T11:12:13.659927Z",
     "iopub.status.idle": "2020-11-06T11:12:14.074303Z",
     "shell.execute_reply": "2020-11-06T11:12:14.073696Z"
    },
    "papermill": {
     "duration": 0.443765,
     "end_time": "2020-11-06T11:12:14.074431",
     "exception": false,
     "start_time": "2020-11-06T11:12:13.630666",
     "status": "completed"
    },
    "tags": []
   },
   "outputs": [],
   "source": [
    "noncons_train_index = train[train.cp_type==\"ctl_vehicle\"].index\n",
    "cons_train_index = train[train.cp_type!=\"ctl_vehicle\"].index\n",
    "noncons_test_index = test[test.cp_type==\"ctl_vehicle\"].index\n",
    "cons_test_index = test[test.cp_type!=\"ctl_vehicle\"].index\n",
    "\n",
    "test = test[test.index.isin(cons_test_index)].reset_index(drop=True)\n",
    "train = train[train.index.isin(cons_train_index)].reset_index(drop=True)\n",
    "targets = targets[targets.index.isin(cons_train_index)].reset_index(drop=True)\n",
    "fn_targets = targets.drop(\"sig_id\", axis=1).copy().to_numpy()\n",
    "y = targets.drop(\"sig_id\", axis=1).copy()"
   ]
  },
  {
   "cell_type": "code",
   "execution_count": 6,
   "metadata": {
    "execution": {
     "iopub.execute_input": "2020-11-06T11:12:14.116588Z",
     "iopub.status.busy": "2020-11-06T11:12:14.111362Z",
     "iopub.status.idle": "2020-11-06T11:12:14.663347Z",
     "shell.execute_reply": "2020-11-06T11:12:14.662605Z"
    },
    "papermill": {
     "duration": 0.574547,
     "end_time": "2020-11-06T11:12:14.663496",
     "exception": false,
     "start_time": "2020-11-06T11:12:14.088949",
     "status": "completed"
    },
    "tags": []
   },
   "outputs": [
    {
     "data": {
      "text/plain": [
       "array([[1, 1, 4, ..., 1, 0, 1]], dtype=int8)"
      ]
     },
     "execution_count": 6,
     "metadata": {},
     "output_type": "execute_result"
    }
   ],
   "source": [
    "# https://www.kaggle.com/c/lish-moa/discussion/195195\n",
    "N_SPLITS = 5\n",
    "seed = 34\n",
    "\n",
    "folds = []\n",
    "    \n",
    "# LOAD FILES\n",
    "train_score = targets.merge(drug, on='sig_id', how='left') \n",
    "\n",
    "# LOCATE DRUGS\n",
    "vc = train_score.drug_id.value_counts()\n",
    "vc1 = vc.loc[vc <= 18].index.sort_values()\n",
    "vc2 = vc.loc[vc > 18].index.sort_values()\n",
    "    \n",
    "# STRATIFY DRUGS 18X OR LESS\n",
    "dct1 = {}; dct2 = {}\n",
    "skf = MultilabelStratifiedKFold(n_splits = N_SPLITS, shuffle = True, random_state = seed)\n",
    "tmp = train_score.groupby('drug_id')[target_feats].mean().loc[vc1]\n",
    "for fold,(idxT,idxV) in enumerate(skf.split(tmp,tmp[target_feats])):\n",
    "    dd = {k:fold for k in tmp.index[idxV].values}\n",
    "    dct1.update(dd)\n",
    "\n",
    "# STRATIFY DRUGS MORE THAN 18X\n",
    "skf = MultilabelStratifiedKFold(n_splits = N_SPLITS, shuffle = True, random_state = seed)\n",
    "tmp = train_score.loc[train_score.drug_id.isin(vc2)].reset_index(drop = True)\n",
    "for fold,(idxT,idxV) in enumerate(skf.split(tmp,tmp[target_feats])):\n",
    "    dd = {k:fold for k in tmp.sig_id[idxV].values}\n",
    "    dct2.update(dd)\n",
    "    \n",
    "# ASSIGN FOLDS\n",
    "train_score['fold'] = train_score.drug_id.map(dct1)\n",
    "train_score.loc[train_score.fold.isna(),'fold'] = train_score.loc[train_score.fold.isna(),'sig_id'].map(dct2)\n",
    "train_score.fold = train_score.fold.astype('int8')\n",
    "folds.append(train_score.fold.values)\n",
    "    \n",
    "np.array(folds)"
   ]
  },
  {
   "cell_type": "markdown",
   "metadata": {
    "papermill": {
     "duration": 0.014982,
     "end_time": "2020-11-06T11:12:14.692592",
     "exception": false,
     "start_time": "2020-11-06T11:12:14.677610",
     "status": "completed"
    },
    "tags": []
   },
   "source": [
    "# Feature engineering"
   ]
  },
  {
   "cell_type": "code",
   "execution_count": 7,
   "metadata": {
    "execution": {
     "iopub.execute_input": "2020-11-06T11:12:14.729174Z",
     "iopub.status.busy": "2020-11-06T11:12:14.728005Z",
     "iopub.status.idle": "2020-11-06T11:12:15.716047Z",
     "shell.execute_reply": "2020-11-06T11:12:15.716643Z"
    },
    "papermill": {
     "duration": 1.009711,
     "end_time": "2020-11-06T11:12:15.716812",
     "exception": false,
     "start_time": "2020-11-06T11:12:14.707101",
     "status": "completed"
    },
    "tags": []
   },
   "outputs": [],
   "source": [
    "for i in c_feats + g_feats:\n",
    "    ss = preprocessing.StandardScaler()\n",
    "    ss.fit(train[i].values.reshape(-1,1))\n",
    "    train[i] = ss.transform(train[i].values.reshape(-1,1))\n",
    "    test[i] = ss.transform(test[i].values.reshape(-1,1))"
   ]
  },
  {
   "cell_type": "code",
   "execution_count": 8,
   "metadata": {
    "execution": {
     "iopub.execute_input": "2020-11-06T11:12:15.756779Z",
     "iopub.status.busy": "2020-11-06T11:12:15.755381Z",
     "iopub.status.idle": "2020-11-06T11:12:15.918714Z",
     "shell.execute_reply": "2020-11-06T11:12:15.919363Z"
    },
    "papermill": {
     "duration": 0.188053,
     "end_time": "2020-11-06T11:12:15.919579",
     "exception": false,
     "start_time": "2020-11-06T11:12:15.731526",
     "status": "completed"
    },
    "tags": []
   },
   "outputs": [
    {
     "name": "stdout",
     "output_type": "stream",
     "text": [
      "(21948, 875) (3624, 874)\n"
     ]
    }
   ],
   "source": [
    "def fe_simple(df, remove_features):\n",
    "    tmp = df.copy()\n",
    "    tmp.drop(remove_features, axis=1, inplace=True)\n",
    "    tmp.loc[:, 'cp_dose'] = tmp.loc[:, 'cp_dose'].map({'D1': 0, 'D2': 1})\n",
    "    return tmp\n",
    "\n",
    "remove_features = [\"cp_type\" , \"sig_id\"]\n",
    "train_fn = fe_simple(train, remove_features)\n",
    "test_fn = fe_simple(test, remove_features)\n",
    "train_fn[\"fold\"] = np.array(folds).reshape(-1,1)\n",
    "\n",
    "print(train_fn.shape, test_fn.shape)"
   ]
  },
  {
   "cell_type": "code",
   "execution_count": 9,
   "metadata": {
    "execution": {
     "iopub.execute_input": "2020-11-06T11:12:15.955304Z",
     "iopub.status.busy": "2020-11-06T11:12:15.953997Z",
     "iopub.status.idle": "2020-11-06T11:12:16.178828Z",
     "shell.execute_reply": "2020-11-06T11:12:16.178169Z"
    },
    "papermill": {
     "duration": 0.244246,
     "end_time": "2020-11-06T11:12:16.178963",
     "exception": false,
     "start_time": "2020-11-06T11:12:15.934717",
     "status": "completed"
    },
    "tags": []
   },
   "outputs": [],
   "source": [
    "fn_train = train_fn.copy().to_numpy()\n",
    "fn_test = test_fn.copy().to_numpy()"
   ]
  },
  {
   "cell_type": "markdown",
   "metadata": {
    "papermill": {
     "duration": 0.014631,
     "end_time": "2020-11-06T11:12:16.209237",
     "exception": false,
     "start_time": "2020-11-06T11:12:16.194606",
     "status": "completed"
    },
    "tags": []
   },
   "source": [
    "# modelling"
   ]
  },
  {
   "cell_type": "code",
   "execution_count": 10,
   "metadata": {
    "execution": {
     "iopub.execute_input": "2020-11-06T11:12:16.263114Z",
     "iopub.status.busy": "2020-11-06T11:12:16.252809Z",
     "iopub.status.idle": "2020-11-06T11:12:16.267414Z",
     "shell.execute_reply": "2020-11-06T11:12:16.268017Z"
    },
    "papermill": {
     "duration": 0.044045,
     "end_time": "2020-11-06T11:12:16.268174",
     "exception": false,
     "start_time": "2020-11-06T11:12:16.224129",
     "status": "completed"
    },
    "tags": []
   },
   "outputs": [],
   "source": [
    "N_STARTS = 1\n",
    "\n",
    "def modelling_svm(tr, ta, te):\n",
    "    svm0_oof = np.zeros([len(tr), ta.shape[1]])\n",
    "    svm0_test = np.zeros([len(te), ta.shape[1]])\n",
    "\n",
    "    svm1_test = np.zeros([len(te),ta.shape[1]])\n",
    "    svm1_oof = np.zeros([ta.shape[0],ta.shape[1]]) \n",
    "\n",
    "    for ind in tqdm(range(ta.shape[1])):\n",
    "        ind_target_sum = ta[:, ind].sum()\n",
    "        if ind_target_sum >= N_SPLITS:\n",
    "            for seed in range(N_STARTS):\n",
    "                for n in range(N_SPLITS):\n",
    "                    val_index = tr[:,-1] == n\n",
    "                    train_index = tr[:,-1] != n\n",
    "                    x_tr, x_val = tr[train_index], tr[val_index]\n",
    "                    y_tr, y_val = ta[train_index,ind], ta[val_index,ind]\n",
    "                    x_tr = np.delete(x_tr, -1, 1)\n",
    "                    x_val = np.delete(x_val, -1, 1)\n",
    "                    model = SVC(C = 40, cache_size = 2000)\n",
    "                    model.fit(x_tr, y_tr)\n",
    "                    svm0_test[:, ind] += model.decision_function(te) / (N_SPLITS * N_STARTS)\n",
    "                    svm0_oof[val_index, ind] += model.decision_function(x_val) / N_STARTS\n",
    "                    \n",
    "            for seed in range(N_STARTS):\n",
    "                for n in range(N_SPLITS):\n",
    "                    val_index = tr[:,-1] == n\n",
    "                    train_index = tr[:,-1] != n\n",
    "                    x_tr, x_val = svm0_oof[train_index, ind].reshape(-1, 1), svm0_oof[val_index, ind].reshape(-1, 1)\n",
    "                    y_tr, y_val = ta[train_index,ind], ta[val_index,ind]\n",
    "\n",
    "                    model = LogisticRegression(C = 35, max_iter = 1000)\n",
    "                    model.fit(x_tr, y_tr)\n",
    "                    svm1_test[:, ind] += model.predict_proba(svm0_test[:, ind].reshape(-1, 1))[:, 1] / (N_SPLITS * N_STARTS)\n",
    "                    svm1_oof[val_index, ind] += model.predict_proba(x_val)[:, 1] / N_STARTS\n",
    "\n",
    "        score1 = log_loss(ta[:, ind], svm0_oof[:, ind])\n",
    "        score2 = log_loss(ta[:, ind], svm1_oof[:, ind])\n",
    "        print('SVM Target ind {} score {}: {}'.format(ind, score1, score2))\n",
    "\n",
    "    return svm1_test, svm1_oof"
   ]
  },
  {
   "cell_type": "code",
   "execution_count": 11,
   "metadata": {
    "execution": {
     "iopub.execute_input": "2020-11-06T11:12:16.306725Z",
     "iopub.status.busy": "2020-11-06T11:12:16.305864Z",
     "iopub.status.idle": "2020-11-06T11:13:10.191592Z",
     "shell.execute_reply": "2020-11-06T11:13:10.190951Z"
    },
    "papermill": {
     "duration": 53.907147,
     "end_time": "2020-11-06T11:13:10.191733",
     "exception": false,
     "start_time": "2020-11-06T11:12:16.284586",
     "status": "completed"
    },
    "tags": []
   },
   "outputs": [
    {
     "data": {
      "application/vnd.jupyter.widget-view+json": {
       "model_id": "83d5f002ec02411d9d1942f02d1173f3",
       "version_major": 2,
       "version_minor": 0
      },
      "text/plain": [
       "HBox(children=(FloatProgress(value=0.0, max=206.0), HTML(value='')))"
      ]
     },
     "metadata": {},
     "output_type": "display_data"
    },
    {
     "name": "stdout",
     "output_type": "stream",
     "text": [
      "SVM Target ind 0 score 0.0267522871657328: 0.004743647562673678\n",
      "SVM Target ind 1 score 0.028325951116658196: 0.006774335586245682\n",
      "SVM Target ind 2 score 0.0377679348222106: 0.008631807249958105\n",
      "SVM Target ind 3 score 0.2990824020150525: 0.049010819801783526\n",
      "SVM Target ind 4 score 0.4736795111378154: 0.07145334988722146\n",
      "SVM Target ind 5 score 0.11487829264805978: 0.02235007404877279\n",
      "SVM Target ind 6 score 0.08498090986327342: 0.0172405251690922\n",
      "SVM Target ind 7 score 0.15109277046175193: 0.02791993784308129\n",
      "SVM Target ind 8 score 0.018894670386136802: 0.004206256770236577\n",
      "SVM Target ind 9 score 0.4179283738202106: 0.06164773392913534\n",
      "SVM Target ind 10 score 0.5665615646808058: 0.08267443288447668\n",
      "SVM Target ind 11 score 0.08605773811471114: 0.017576320635726304\n",
      "\n"
     ]
    },
    {
     "ename": "RuntimeError",
     "evalue": "Exception occured! file=/opt/conda/envs/rapids/conda-bld/libcuml_1598469299551/work/cpp/src/svm/svc_impl.cuh line=66: Only binary classification is implemented at the moment\nObtained 64 stack frames\n#0 in /opt/conda/envs/rapids/lib/python3.7/site-packages/cuml/common/../../../../libcuml++.so(_ZN8MLCommon9Exception16collectCallStackEv+0x3e) [0x7f3285ab166e]\n#1 in /opt/conda/envs/rapids/lib/python3.7/site-packages/cuml/common/../../../../libcuml++.so(_ZN8MLCommon9ExceptionC2ERKNSt7__cxx1112basic_stringIcSt11char_traitsIcESaIcEEE+0x71) [0x7f3285ab21e1]\n#2 in /opt/conda/envs/rapids/lib/python3.7/site-packages/cuml/common/../../../../libcuml++.so(_ZN2ML3SVM6svcFitIdEEvRKNS_10cumlHandleEPT_iiS6_RKNS0_12svmParameterERN8MLCommon6Matrix12KernelParamsERNS0_8svmModelIS5_EEPKS5_+0x1628) [0x7f3285dd6718]\n#3 in /opt/conda/envs/rapids/lib/python3.7/site-packages/cuml/svm/svc.cpython-37m-x86_64-linux-gnu.so(+0x24994) [0x7f32c6627994]\n#4 in /opt/conda/envs/rapids/lib/python3.7/site-packages/cuml/svm/svc.cpython-37m-x86_64-linux-gnu.so(+0x28c49) [0x7f32c662bc49]\n#5 in /opt/conda/bin/python(PyObject_Call+0x6e) [0x55e72110875e]\n#6 in /opt/conda/bin/python(_PyEval_EvalFrameDefault+0x1f6a) [0x55e7211afd6a]\n#7 in /opt/conda/bin/python(_PyEval_EvalCodeWithName+0x5da) [0x55e7210f6bda]\n#8 in /opt/conda/bin/python(_PyFunction_FastCallKeywords+0x387) [0x55e7211459e7]\n#9 in /opt/conda/bin/python(_PyEval_EvalFrameDefault+0x4cb9) [0x55e7211b2ab9]\n#10 in /opt/conda/bin/python(_PyFunction_FastCallKeywords+0xfb) [0x55e72114575b]\n#11 in /opt/conda/bin/python(_PyEval_EvalFrameDefault+0x416) [0x55e7211ae216]\n#12 in /opt/conda/bin/python(_PyEval_EvalCodeWithName+0x2f9) [0x55e7210f68f9]\n#13 in /opt/conda/bin/python(PyEval_EvalCodeEx+0x44) [0x55e7210f7824]\n#14 in /opt/conda/bin/python(PyEval_EvalCode+0x1c) [0x55e7210f784c]\n#15 in /opt/conda/bin/python(+0x1dcafd) [0x55e7211bdafd]\n#16 in /opt/conda/bin/python(_PyMethodDef_RawFastCallKeywords+0xe9) [0x55e721146069]\n#17 in /opt/conda/bin/python(_PyCFunction_FastCallKeywords+0x21) [0x55e721146301]\n#18 in /opt/conda/bin/python(_PyEval_EvalFrameDefault+0x4904) [0x55e7211b2704]\n#19 in /opt/conda/bin/python(_PyGen_Send+0x2a2) [0x55e72114e212]\n#20 in /opt/conda/bin/python(_PyEval_EvalFrameDefault+0x1add) [0x55e7211af8dd]\n#21 in /opt/conda/bin/python(_PyGen_Send+0x2a2) [0x55e72114e212]\n#22 in /opt/conda/bin/python(_PyEval_EvalFrameDefault+0x1add) [0x55e7211af8dd]\n#23 in /opt/conda/bin/python(_PyGen_Send+0x2a2) [0x55e72114e212]\n#24 in /opt/conda/bin/python(_PyMethodDef_RawFastCallKeywords+0x8d) [0x55e72114600d]\n#25 in /opt/conda/bin/python(_PyMethodDescr_FastCallKeywords+0x4f) [0x55e72114d04f]\n#26 in /opt/conda/bin/python(_PyEval_EvalFrameDefault+0x4e0d) [0x55e7211b2c0d]\n#27 in /opt/conda/bin/python(_PyFunction_FastCallKeywords+0xfb) [0x55e72114575b]\n#28 in /opt/conda/bin/python(_PyEval_EvalFrameDefault+0x416) [0x55e7211ae216]\n#29 in /opt/conda/bin/python(_PyFunction_FastCallKeywords+0xfb) [0x55e72114575b]\n#30 in /opt/conda/bin/python(_PyEval_EvalFrameDefault+0x6a0) [0x55e7211ae4a0]\n#31 in /opt/conda/bin/python(_PyEval_EvalCodeWithName+0x2f9) [0x55e7210f68f9]\n#32 in /opt/conda/bin/python(_PyFunction_FastCallDict+0x400) [0x55e7210f7c60]\n#33 in /opt/conda/bin/python(_PyObject_Call_Prepend+0x63) [0x55e721115e03]\n#34 in /opt/conda/bin/python(PyObject_Call+0x6e) [0x55e72110875e]\n#35 in /opt/conda/bin/python(_PyEval_EvalFrameDefault+0x1f6a) [0x55e7211afd6a]\n#36 in /opt/conda/bin/python(_PyEval_EvalCodeWithName+0x5da) [0x55e7210f6bda]\n#37 in /opt/conda/bin/python(_PyFunction_FastCallKeywords+0x387) [0x55e7211459e7]\n#38 in /opt/conda/bin/python(_PyEval_EvalFrameDefault+0x14e7) [0x55e7211af2e7]\n#39 in /opt/conda/bin/python(+0x16ccd9) [0x55e72114dcd9]\n#40 in /opt/conda/bin/python(_PyMethodDef_RawFastCallKeywords+0xe9) [0x55e721146069]\n#41 in /opt/conda/bin/python(_PyCFunction_FastCallKeywords+0x21) [0x55e721146301]\n#42 in /opt/conda/bin/python(_PyEval_EvalFrameDefault+0x4904) [0x55e7211b2704]\n#43 in /opt/conda/bin/python(_PyEval_EvalCodeWithName+0xab8) [0x55e7210f70b8]\n#44 in /opt/conda/bin/python(_PyFunction_FastCallKeywords+0x387) [0x55e7211459e7]\n#45 in /opt/conda/bin/python(_PyEval_EvalFrameDefault+0x6a0) [0x55e7211ae4a0]\n#46 in /opt/conda/bin/python(+0x16ccd9) [0x55e72114dcd9]\n#47 in /opt/conda/bin/python(_PyMethodDef_RawFastCallKeywords+0xe9) [0x55e721146069]\n#48 in /opt/conda/bin/python(_PyCFunction_FastCallKeywords+0x21) [0x55e721146301]\n#49 in /opt/conda/bin/python(_PyEval_EvalFrameDefault+0x4904) [0x55e7211b2704]\n#50 in /opt/conda/bin/python(_PyEval_EvalCodeWithName+0xab8) [0x55e7210f70b8]\n#51 in /opt/conda/bin/python(_PyFunction_FastCallKeywords+0x387) [0x55e7211459e7]\n#52 in /opt/conda/bin/python(_PyEval_EvalFrameDefault+0x416) [0x55e7211ae216]\n#53 in /opt/conda/bin/python(+0x16ccd9) [0x55e72114dcd9]\n#54 in /opt/conda/bin/python(_PyMethodDef_RawFastCallKeywords+0xe9) [0x55e721146069]\n#55 in /opt/conda/bin/python(_PyCFunction_FastCallKeywords+0x21) [0x55e721146301]\n#56 in /opt/conda/bin/python(_PyEval_EvalFrameDefault+0x4904) [0x55e7211b2704]\n#57 in /opt/conda/bin/python(_PyEval_EvalCodeWithName+0xab8) [0x55e7210f70b8]\n#58 in /opt/conda/bin/python(_PyFunction_FastCallDict+0x1d5) [0x55e7210f7a35]\n#59 in /opt/conda/bin/python(_PyObject_Call_Prepend+0x63) [0x55e721115e03]\n#60 in /opt/conda/bin/python(PyObject_Call+0x6e) [0x55e72110875e]\n#61 in /opt/conda/bin/python(_PyEval_EvalFrameDefault+0x1f6a) [0x55e7211afd6a]\n#62 in /opt/conda/bin/python(_PyGen_Send+0x14c) [0x55e72114e0bc]\n#63 in /opt/conda/bin/python(_PyMethodDef_RawFastCallKeywords+0x8d) [0x55e72114600d]\n",
     "output_type": "error",
     "traceback": [
      "\u001b[0;31m---------------------------------------------------------------------------\u001b[0m",
      "\u001b[0;31mRuntimeError\u001b[0m                              Traceback (most recent call last)",
      "\u001b[0;32m<ipython-input-11-365222044faf>\u001b[0m in \u001b[0;36m<module>\u001b[0;34m\u001b[0m\n\u001b[0;32m----> 1\u001b[0;31m \u001b[0msvm1_test\u001b[0m\u001b[0;34m,\u001b[0m \u001b[0msvm1_oof\u001b[0m \u001b[0;34m=\u001b[0m \u001b[0mmodelling_svm\u001b[0m\u001b[0;34m(\u001b[0m\u001b[0mfn_train\u001b[0m\u001b[0;34m,\u001b[0m \u001b[0mfn_targets\u001b[0m\u001b[0;34m,\u001b[0m \u001b[0mfn_test\u001b[0m\u001b[0;34m)\u001b[0m\u001b[0;34m\u001b[0m\u001b[0;34m\u001b[0m\u001b[0m\n\u001b[0m",
      "\u001b[0;32m<ipython-input-10-17965341ebf8>\u001b[0m in \u001b[0;36mmodelling_svm\u001b[0;34m(tr, ta, te)\u001b[0m\n\u001b[1;32m     20\u001b[0m                     \u001b[0mx_val\u001b[0m \u001b[0;34m=\u001b[0m \u001b[0mnp\u001b[0m\u001b[0;34m.\u001b[0m\u001b[0mdelete\u001b[0m\u001b[0;34m(\u001b[0m\u001b[0mx_val\u001b[0m\u001b[0;34m,\u001b[0m \u001b[0;34m-\u001b[0m\u001b[0;36m1\u001b[0m\u001b[0;34m,\u001b[0m \u001b[0;36m1\u001b[0m\u001b[0;34m)\u001b[0m\u001b[0;34m\u001b[0m\u001b[0;34m\u001b[0m\u001b[0m\n\u001b[1;32m     21\u001b[0m                     \u001b[0mmodel\u001b[0m \u001b[0;34m=\u001b[0m \u001b[0mSVC\u001b[0m\u001b[0;34m(\u001b[0m\u001b[0mC\u001b[0m \u001b[0;34m=\u001b[0m \u001b[0;36m40\u001b[0m\u001b[0;34m,\u001b[0m \u001b[0mcache_size\u001b[0m \u001b[0;34m=\u001b[0m \u001b[0;36m2000\u001b[0m\u001b[0;34m)\u001b[0m\u001b[0;34m\u001b[0m\u001b[0;34m\u001b[0m\u001b[0m\n\u001b[0;32m---> 22\u001b[0;31m                     \u001b[0mmodel\u001b[0m\u001b[0;34m.\u001b[0m\u001b[0mfit\u001b[0m\u001b[0;34m(\u001b[0m\u001b[0mx_tr\u001b[0m\u001b[0;34m,\u001b[0m \u001b[0my_tr\u001b[0m\u001b[0;34m)\u001b[0m\u001b[0;34m\u001b[0m\u001b[0;34m\u001b[0m\u001b[0m\n\u001b[0m\u001b[1;32m     23\u001b[0m                     \u001b[0msvm0_test\u001b[0m\u001b[0;34m[\u001b[0m\u001b[0;34m:\u001b[0m\u001b[0;34m,\u001b[0m \u001b[0mind\u001b[0m\u001b[0;34m]\u001b[0m \u001b[0;34m+=\u001b[0m \u001b[0mmodel\u001b[0m\u001b[0;34m.\u001b[0m\u001b[0mdecision_function\u001b[0m\u001b[0;34m(\u001b[0m\u001b[0mte\u001b[0m\u001b[0;34m)\u001b[0m \u001b[0;34m/\u001b[0m \u001b[0;34m(\u001b[0m\u001b[0mN_SPLITS\u001b[0m \u001b[0;34m*\u001b[0m \u001b[0mN_STARTS\u001b[0m\u001b[0;34m)\u001b[0m\u001b[0;34m\u001b[0m\u001b[0;34m\u001b[0m\u001b[0m\n\u001b[1;32m     24\u001b[0m                     \u001b[0msvm0_oof\u001b[0m\u001b[0;34m[\u001b[0m\u001b[0mval_index\u001b[0m\u001b[0;34m,\u001b[0m \u001b[0mind\u001b[0m\u001b[0;34m]\u001b[0m \u001b[0;34m+=\u001b[0m \u001b[0mmodel\u001b[0m\u001b[0;34m.\u001b[0m\u001b[0mdecision_function\u001b[0m\u001b[0;34m(\u001b[0m\u001b[0mx_val\u001b[0m\u001b[0;34m)\u001b[0m \u001b[0;34m/\u001b[0m \u001b[0mN_STARTS\u001b[0m\u001b[0;34m\u001b[0m\u001b[0;34m\u001b[0m\u001b[0m\n",
      "\u001b[0;32m/opt/conda/envs/rapids/lib/python3.7/site-packages/cuml/common/memory_utils.py\u001b[0m in \u001b[0;36mcupy_rmm_wrapper\u001b[0;34m(*args, **kwargs)\u001b[0m\n\u001b[1;32m     54\u001b[0m     \u001b[0;32mdef\u001b[0m \u001b[0mcupy_rmm_wrapper\u001b[0m\u001b[0;34m(\u001b[0m\u001b[0;34m*\u001b[0m\u001b[0margs\u001b[0m\u001b[0;34m,\u001b[0m \u001b[0;34m**\u001b[0m\u001b[0mkwargs\u001b[0m\u001b[0;34m)\u001b[0m\u001b[0;34m:\u001b[0m\u001b[0;34m\u001b[0m\u001b[0;34m\u001b[0m\u001b[0m\n\u001b[1;32m     55\u001b[0m         \u001b[0;32mwith\u001b[0m \u001b[0mcupy_using_allocator\u001b[0m\u001b[0;34m(\u001b[0m\u001b[0mrmm\u001b[0m\u001b[0;34m.\u001b[0m\u001b[0mrmm_cupy_allocator\u001b[0m\u001b[0;34m)\u001b[0m\u001b[0;34m:\u001b[0m\u001b[0;34m\u001b[0m\u001b[0;34m\u001b[0m\u001b[0m\n\u001b[0;32m---> 56\u001b[0;31m             \u001b[0;32mreturn\u001b[0m \u001b[0mfunc\u001b[0m\u001b[0;34m(\u001b[0m\u001b[0;34m*\u001b[0m\u001b[0margs\u001b[0m\u001b[0;34m,\u001b[0m \u001b[0;34m**\u001b[0m\u001b[0mkwargs\u001b[0m\u001b[0;34m)\u001b[0m\u001b[0;34m\u001b[0m\u001b[0;34m\u001b[0m\u001b[0m\n\u001b[0m\u001b[1;32m     57\u001b[0m \u001b[0;34m\u001b[0m\u001b[0m\n\u001b[1;32m     58\u001b[0m     \u001b[0;32mreturn\u001b[0m \u001b[0mcupy_rmm_wrapper\u001b[0m\u001b[0;34m\u001b[0m\u001b[0;34m\u001b[0m\u001b[0m\n",
      "\u001b[0;32mcuml/svm/svc.pyx\u001b[0m in \u001b[0;36mcuml.svm.svc.SVC.fit\u001b[0;34m()\u001b[0m\n",
      "\u001b[0;31mRuntimeError\u001b[0m: Exception occured! file=/opt/conda/envs/rapids/conda-bld/libcuml_1598469299551/work/cpp/src/svm/svc_impl.cuh line=66: Only binary classification is implemented at the moment\nObtained 64 stack frames\n#0 in /opt/conda/envs/rapids/lib/python3.7/site-packages/cuml/common/../../../../libcuml++.so(_ZN8MLCommon9Exception16collectCallStackEv+0x3e) [0x7f3285ab166e]\n#1 in /opt/conda/envs/rapids/lib/python3.7/site-packages/cuml/common/../../../../libcuml++.so(_ZN8MLCommon9ExceptionC2ERKNSt7__cxx1112basic_stringIcSt11char_traitsIcESaIcEEE+0x71) [0x7f3285ab21e1]\n#2 in /opt/conda/envs/rapids/lib/python3.7/site-packages/cuml/common/../../../../libcuml++.so(_ZN2ML3SVM6svcFitIdEEvRKNS_10cumlHandleEPT_iiS6_RKNS0_12svmParameterERN8MLCommon6Matrix12KernelParamsERNS0_8svmModelIS5_EEPKS5_+0x1628) [0x7f3285dd6718]\n#3 in /opt/conda/envs/rapids/lib/python3.7/site-packages/cuml/svm/svc.cpython-37m-x86_64-linux-gnu.so(+0x24994) [0x7f32c6627994]\n#4 in /opt/conda/envs/rapids/lib/python3.7/site-packages/cuml/svm/svc.cpython-37m-x86_64-linux-gnu.so(+0x28c49) [0x7f32c662bc49]\n#5 in /opt/conda/bin/python(PyObject_Call+0x6e) [0x55e72110875e]\n#6 in /opt/conda/bin/python(_PyEval_EvalFrameDefault+0x1f6a) [0x55e7211afd6a]\n#7 in /opt/conda/bin/python(_PyEval_EvalCodeWithName+0x5da) [0x55e7210f6bda]\n#8 in /opt/conda/bin/python(_PyFunction_FastCallKeywords+0x387) [0x55e7211459e7]\n#9 in /opt/conda/bin/python(_PyEval_EvalFrameDefault+0x4cb9) [0x55e7211b2ab9]\n#10 in /opt/conda/bin/python(_PyFunction_FastCallKeywords+0xfb) [0x55e72114575b]\n#11 in /opt/conda/bin/python(_PyEval_EvalFrameDefault+0x416) [0x55e7211ae216]\n#12 in /opt/conda/bin/python(_PyEval_EvalCodeWithName+0x2f9) [0x55e7210f68f9]\n#13 in /opt/conda/bin/python(PyEval_EvalCodeEx+0x44) [0x55e7210f7824]\n#14 in /opt/conda/bin/python(PyEval_EvalCode+0x1c) [0x55e7210f784c]\n#15 in /opt/conda/bin/python(+0x1dcafd) [0x55e7211bdafd]\n#16 in /opt/conda/bin/python(_PyMethodDef_RawFastCallKeywords+0xe9) [0x55e721146069]\n#17 in /opt/conda/bin/python(_PyCFunction_FastCallKeywords+0x21) [0x55e721146301]\n#18 in /opt/conda/bin/python(_PyEval_EvalFrameDefault+0x4904) [0x55e7211b2704]\n#19 in /opt/conda/bin/python(_PyGen_Send+0x2a2) [0x55e72114e212]\n#20 in /opt/conda/bin/python(_PyEval_EvalFrameDefault+0x1add) [0x55e7211af8dd]\n#21 in /opt/conda/bin/python(_PyGen_Send+0x2a2) [0x55e72114e212]\n#22 in /opt/conda/bin/python(_PyEval_EvalFrameDefault+0x1add) [0x55e7211af8dd]\n#23 in /opt/conda/bin/python(_PyGen_Send+0x2a2) [0x55e72114e212]\n#24 in /opt/conda/bin/python(_PyMethodDef_RawFastCallKeywords+0x8d) [0x55e72114600d]\n#25 in /opt/conda/bin/python(_PyMethodDescr_FastCallKeywords+0x4f) [0x55e72114d04f]\n#26 in /opt/conda/bin/python(_PyEval_EvalFrameDefault+0x4e0d) [0x55e7211b2c0d]\n#27 in /opt/conda/bin/python(_PyFunction_FastCallKeywords+0xfb) [0x55e72114575b]\n#28 in /opt/conda/bin/python(_PyEval_EvalFrameDefault+0x416) [0x55e7211ae216]\n#29 in /opt/conda/bin/python(_PyFunction_FastCallKeywords+0xfb) [0x55e72114575b]\n#30 in /opt/conda/bin/python(_PyEval_EvalFrameDefault+0x6a0) [0x55e7211ae4a0]\n#31 in /opt/conda/bin/python(_PyEval_EvalCodeWithName+0x2f9) [0x55e7210f68f9]\n#32 in /opt/conda/bin/python(_PyFunction_FastCallDict+0x400) [0x55e7210f7c60]\n#33 in /opt/conda/bin/python(_PyObject_Call_Prepend+0x63) [0x55e721115e03]\n#34 in /opt/conda/bin/python(PyObject_Call+0x6e) [0x55e72110875e]\n#35 in /opt/conda/bin/python(_PyEval_EvalFrameDefault+0x1f6a) [0x55e7211afd6a]\n#36 in /opt/conda/bin/python(_PyEval_EvalCodeWithName+0x5da) [0x55e7210f6bda]\n#37 in /opt/conda/bin/python(_PyFunction_FastCallKeywords+0x387) [0x55e7211459e7]\n#38 in /opt/conda/bin/python(_PyEval_EvalFrameDefault+0x14e7) [0x55e7211af2e7]\n#39 in /opt/conda/bin/python(+0x16ccd9) [0x55e72114dcd9]\n#40 in /opt/conda/bin/python(_PyMethodDef_RawFastCallKeywords+0xe9) [0x55e721146069]\n#41 in /opt/conda/bin/python(_PyCFunction_FastCallKeywords+0x21) [0x55e721146301]\n#42 in /opt/conda/bin/python(_PyEval_EvalFrameDefault+0x4904) [0x55e7211b2704]\n#43 in /opt/conda/bin/python(_PyEval_EvalCodeWithName+0xab8) [0x55e7210f70b8]\n#44 in /opt/conda/bin/python(_PyFunction_FastCallKeywords+0x387) [0x55e7211459e7]\n#45 in /opt/conda/bin/python(_PyEval_EvalFrameDefault+0x6a0) [0x55e7211ae4a0]\n#46 in /opt/conda/bin/python(+0x16ccd9) [0x55e72114dcd9]\n#47 in /opt/conda/bin/python(_PyMethodDef_RawFastCallKeywords+0xe9) [0x55e721146069]\n#48 in /opt/conda/bin/python(_PyCFunction_FastCallKeywords+0x21) [0x55e721146301]\n#49 in /opt/conda/bin/python(_PyEval_EvalFrameDefault+0x4904) [0x55e7211b2704]\n#50 in /opt/conda/bin/python(_PyEval_EvalCodeWithName+0xab8) [0x55e7210f70b8]\n#51 in /opt/conda/bin/python(_PyFunction_FastCallKeywords+0x387) [0x55e7211459e7]\n#52 in /opt/conda/bin/python(_PyEval_EvalFrameDefault+0x416) [0x55e7211ae216]\n#53 in /opt/conda/bin/python(+0x16ccd9) [0x55e72114dcd9]\n#54 in /opt/conda/bin/python(_PyMethodDef_RawFastCallKeywords+0xe9) [0x55e721146069]\n#55 in /opt/conda/bin/python(_PyCFunction_FastCallKeywords+0x21) [0x55e721146301]\n#56 in /opt/conda/bin/python(_PyEval_EvalFrameDefault+0x4904) [0x55e7211b2704]\n#57 in /opt/conda/bin/python(_PyEval_EvalCodeWithName+0xab8) [0x55e7210f70b8]\n#58 in /opt/conda/bin/python(_PyFunction_FastCallDict+0x1d5) [0x55e7210f7a35]\n#59 in /opt/conda/bin/python(_PyObject_Call_Prepend+0x63) [0x55e721115e03]\n#60 in /opt/conda/bin/python(PyObject_Call+0x6e) [0x55e72110875e]\n#61 in /opt/conda/bin/python(_PyEval_EvalFrameDefault+0x1f6a) [0x55e7211afd6a]\n#62 in /opt/conda/bin/python(_PyGen_Send+0x14c) [0x55e72114e0bc]\n#63 in /opt/conda/bin/python(_PyMethodDef_RawFastCallKeywords+0x8d) [0x55e72114600d]\n"
     ]
    }
   ],
   "source": [
    "svm1_test, svm1_oof = modelling_svm(fn_train, fn_targets, fn_test)"
   ]
  },
  {
   "cell_type": "code",
   "execution_count": 12,
   "metadata": {
    "execution": {
     "iopub.execute_input": "2020-11-06T11:13:10.253969Z",
     "iopub.status.busy": "2020-11-06T11:13:10.252472Z",
     "iopub.status.idle": "2020-11-06T11:13:10.256857Z",
     "shell.execute_reply": "2020-11-06T11:13:10.257527Z"
    },
    "papermill": {
     "duration": 0.043792,
     "end_time": "2020-11-06T11:13:10.257659",
     "exception": false,
     "start_time": "2020-11-06T11:13:10.213867",
     "status": "completed"
    },
    "tags": []
   },
   "outputs": [
    {
     "ename": "NameError",
     "evalue": "name 'svm1_oof' is not defined",
     "output_type": "error",
     "traceback": [
      "\u001b[0;31m---------------------------------------------------------------------------\u001b[0m",
      "\u001b[0;31mNameError\u001b[0m                                 Traceback (most recent call last)",
      "\u001b[0;32m<ipython-input-12-e7df6912930d>\u001b[0m in \u001b[0;36m<module>\u001b[0;34m\u001b[0m\n\u001b[1;32m      1\u001b[0m \u001b[0mcheck_svm1\u001b[0m \u001b[0;34m=\u001b[0m \u001b[0mnp\u001b[0m\u001b[0;34m.\u001b[0m\u001b[0mzeros\u001b[0m\u001b[0;34m(\u001b[0m\u001b[0;34m[\u001b[0m\u001b[0mtargets\u001b[0m\u001b[0;34m.\u001b[0m\u001b[0mshape\u001b[0m\u001b[0;34m[\u001b[0m\u001b[0;36m0\u001b[0m\u001b[0;34m]\u001b[0m\u001b[0;34m,\u001b[0m \u001b[0mtargets\u001b[0m\u001b[0;34m.\u001b[0m\u001b[0mshape\u001b[0m\u001b[0;34m[\u001b[0m\u001b[0;36m1\u001b[0m\u001b[0;34m]\u001b[0m\u001b[0;34m-\u001b[0m\u001b[0;36m1\u001b[0m\u001b[0;34m]\u001b[0m\u001b[0;34m)\u001b[0m\u001b[0;34m\u001b[0m\u001b[0;34m\u001b[0m\u001b[0m\n\u001b[0;32m----> 2\u001b[0;31m \u001b[0mcheck_svm1\u001b[0m\u001b[0;34m[\u001b[0m\u001b[0mcons_train_index\u001b[0m\u001b[0;34m,\u001b[0m\u001b[0;34m:\u001b[0m\u001b[0;34m]\u001b[0m \u001b[0;34m=\u001b[0m \u001b[0msvm1_oof\u001b[0m\u001b[0;34m\u001b[0m\u001b[0;34m\u001b[0m\u001b[0m\n\u001b[0m\u001b[1;32m      3\u001b[0m \u001b[0mprint\u001b[0m\u001b[0;34m(\u001b[0m\u001b[0;34m'OOF log loss: '\u001b[0m\u001b[0;34m,\u001b[0m \u001b[0mlog_loss\u001b[0m\u001b[0;34m(\u001b[0m\u001b[0mnp\u001b[0m\u001b[0;34m.\u001b[0m\u001b[0mravel\u001b[0m\u001b[0;34m(\u001b[0m\u001b[0my\u001b[0m\u001b[0;34m)\u001b[0m\u001b[0;34m,\u001b[0m \u001b[0mnp\u001b[0m\u001b[0;34m.\u001b[0m\u001b[0mravel\u001b[0m\u001b[0;34m(\u001b[0m\u001b[0mcheck_svm1\u001b[0m\u001b[0;34m)\u001b[0m\u001b[0;34m)\u001b[0m\u001b[0;34m)\u001b[0m\u001b[0;34m\u001b[0m\u001b[0;34m\u001b[0m\u001b[0m\n",
      "\u001b[0;31mNameError\u001b[0m: name 'svm1_oof' is not defined"
     ]
    }
   ],
   "source": [
    "check_svm1 = np.zeros([targets.shape[0], targets.shape[1]-1])\n",
    "check_svm1[cons_train_index,:] = svm1_oof\n",
    "print('OOF log loss: ', log_loss(np.ravel(y), np.ravel(check_svm1)))"
   ]
  },
  {
   "cell_type": "markdown",
   "metadata": {
    "papermill": {
     "duration": 0.022298,
     "end_time": "2020-11-06T11:13:10.301978",
     "exception": false,
     "start_time": "2020-11-06T11:13:10.279680",
     "status": "completed"
    },
    "tags": []
   },
   "source": [
    "# submission"
   ]
  },
  {
   "cell_type": "code",
   "execution_count": 13,
   "metadata": {
    "execution": {
     "iopub.execute_input": "2020-11-06T11:13:10.354435Z",
     "iopub.status.busy": "2020-11-06T11:13:10.353036Z",
     "iopub.status.idle": "2020-11-06T11:13:10.490855Z",
     "shell.execute_reply": "2020-11-06T11:13:10.490294Z"
    },
    "papermill": {
     "duration": 0.165947,
     "end_time": "2020-11-06T11:13:10.490976",
     "exception": false,
     "start_time": "2020-11-06T11:13:10.325029",
     "status": "completed"
    },
    "tags": []
   },
   "outputs": [
    {
     "ename": "NameError",
     "evalue": "name 'svm1_test' is not defined",
     "output_type": "error",
     "traceback": [
      "\u001b[0;31m---------------------------------------------------------------------------\u001b[0m",
      "\u001b[0;31mNameError\u001b[0m                                 Traceback (most recent call last)",
      "\u001b[0;32m<ipython-input-13-70f5627b29e2>\u001b[0m in \u001b[0;36m<module>\u001b[0;34m\u001b[0m\n\u001b[1;32m      1\u001b[0m \u001b[0msub\u001b[0m \u001b[0;34m=\u001b[0m \u001b[0mpd\u001b[0m\u001b[0;34m.\u001b[0m\u001b[0mread_csv\u001b[0m\u001b[0;34m(\u001b[0m\u001b[0mDATA_DIR\u001b[0m \u001b[0;34m+\u001b[0m \u001b[0;34m'sample_submission.csv'\u001b[0m\u001b[0;34m)\u001b[0m\u001b[0;34m\u001b[0m\u001b[0;34m\u001b[0m\u001b[0m\n\u001b[1;32m      2\u001b[0m \u001b[0;34m\u001b[0m\u001b[0m\n\u001b[0;32m----> 3\u001b[0;31m \u001b[0msub\u001b[0m\u001b[0;34m.\u001b[0m\u001b[0mloc\u001b[0m\u001b[0;34m[\u001b[0m\u001b[0mcons_test_index\u001b[0m\u001b[0;34m,\u001b[0m\u001b[0mtarget_feats\u001b[0m\u001b[0;34m]\u001b[0m \u001b[0;34m=\u001b[0m  \u001b[0msvm1_test\u001b[0m\u001b[0;34m\u001b[0m\u001b[0;34m\u001b[0m\u001b[0m\n\u001b[0m\u001b[1;32m      4\u001b[0m \u001b[0msub\u001b[0m\u001b[0;34m.\u001b[0m\u001b[0mloc\u001b[0m\u001b[0;34m[\u001b[0m\u001b[0mnoncons_test_index\u001b[0m\u001b[0;34m,\u001b[0m\u001b[0mtarget_feats\u001b[0m\u001b[0;34m]\u001b[0m \u001b[0;34m=\u001b[0m \u001b[0;36m0\u001b[0m\u001b[0;34m\u001b[0m\u001b[0;34m\u001b[0m\u001b[0m\n\u001b[1;32m      5\u001b[0m \u001b[0msub\u001b[0m\u001b[0;34m.\u001b[0m\u001b[0mto_csv\u001b[0m\u001b[0;34m(\u001b[0m\u001b[0;34m'submission.csv'\u001b[0m\u001b[0;34m,\u001b[0m \u001b[0mindex\u001b[0m\u001b[0;34m=\u001b[0m\u001b[0;32mFalse\u001b[0m\u001b[0;34m)\u001b[0m\u001b[0;34m\u001b[0m\u001b[0;34m\u001b[0m\u001b[0m\n",
      "\u001b[0;31mNameError\u001b[0m: name 'svm1_test' is not defined"
     ]
    }
   ],
   "source": [
    "sub = pd.read_csv(DATA_DIR + 'sample_submission.csv')\n",
    "\n",
    "sub.loc[cons_test_index,target_feats] =  svm1_test \n",
    "sub.loc[noncons_test_index,target_feats] = 0\n",
    "sub.to_csv('submission.csv', index=False)"
   ]
  }
 ],
 "metadata": {
  "kernelspec": {
   "display_name": "Python 3",
   "language": "python",
   "name": "python3"
  },
  "language_info": {
   "codemirror_mode": {
    "name": "ipython",
    "version": 3
   },
   "file_extension": ".py",
   "mimetype": "text/x-python",
   "name": "python",
   "nbconvert_exporter": "python",
   "pygments_lexer": "ipython3",
   "version": "3.7.6"
  },
  "papermill": {
   "duration": 181.491026,
   "end_time": "2020-11-06T11:13:11.022445",
   "environment_variables": {},
   "exception": null,
   "input_path": "__notebook__.ipynb",
   "output_path": "__notebook__.ipynb",
   "parameters": {},
   "start_time": "2020-11-06T11:10:09.531419",
   "version": "2.1.0"
  },
  "widgets": {
   "application/vnd.jupyter.widget-state+json": {
    "state": {
     "0bf632c5f49b4ee28bcee61473b036ab": {
      "model_module": "@jupyter-widgets/controls",
      "model_module_version": "1.5.0",
      "model_name": "FloatProgressModel",
      "state": {
       "_dom_classes": [],
       "_model_module": "@jupyter-widgets/controls",
       "_model_module_version": "1.5.0",
       "_model_name": "FloatProgressModel",
       "_view_count": null,
       "_view_module": "@jupyter-widgets/controls",
       "_view_module_version": "1.5.0",
       "_view_name": "ProgressView",
       "bar_style": "danger",
       "description": "  6%",
       "description_tooltip": null,
       "layout": "IPY_MODEL_bf5832b6d2984a50b2987b2da6887c48",
       "max": 206.0,
       "min": 0.0,
       "orientation": "horizontal",
       "style": "IPY_MODEL_55aaec61eb914acbb61a373800038ee5",
       "value": 12.0
      }
     },
     "1f1a4f1a1378438ab8fec5c1af3d0a5e": {
      "model_module": "@jupyter-widgets/controls",
      "model_module_version": "1.5.0",
      "model_name": "HTMLModel",
      "state": {
       "_dom_classes": [],
       "_model_module": "@jupyter-widgets/controls",
       "_model_module_version": "1.5.0",
       "_model_name": "HTMLModel",
       "_view_count": null,
       "_view_module": "@jupyter-widgets/controls",
       "_view_module_version": "1.5.0",
       "_view_name": "HTMLView",
       "description": "",
       "description_tooltip": null,
       "layout": "IPY_MODEL_e94cd62de8594749bd735e0372a52664",
       "placeholder": "​",
       "style": "IPY_MODEL_fe2d961d4f2b491ab7028af0ead7fe76",
       "value": " 12/206 [00:53&lt;14:27,  4.47s/it]"
      }
     },
     "55aaec61eb914acbb61a373800038ee5": {
      "model_module": "@jupyter-widgets/controls",
      "model_module_version": "1.5.0",
      "model_name": "ProgressStyleModel",
      "state": {
       "_model_module": "@jupyter-widgets/controls",
       "_model_module_version": "1.5.0",
       "_model_name": "ProgressStyleModel",
       "_view_count": null,
       "_view_module": "@jupyter-widgets/base",
       "_view_module_version": "1.2.0",
       "_view_name": "StyleView",
       "bar_color": null,
       "description_width": "initial"
      }
     },
     "7ca216f08cff40f082e1fa0de7f9273f": {
      "model_module": "@jupyter-widgets/base",
      "model_module_version": "1.2.0",
      "model_name": "LayoutModel",
      "state": {
       "_model_module": "@jupyter-widgets/base",
       "_model_module_version": "1.2.0",
       "_model_name": "LayoutModel",
       "_view_count": null,
       "_view_module": "@jupyter-widgets/base",
       "_view_module_version": "1.2.0",
       "_view_name": "LayoutView",
       "align_content": null,
       "align_items": null,
       "align_self": null,
       "border": null,
       "bottom": null,
       "display": null,
       "flex": null,
       "flex_flow": null,
       "grid_area": null,
       "grid_auto_columns": null,
       "grid_auto_flow": null,
       "grid_auto_rows": null,
       "grid_column": null,
       "grid_gap": null,
       "grid_row": null,
       "grid_template_areas": null,
       "grid_template_columns": null,
       "grid_template_rows": null,
       "height": null,
       "justify_content": null,
       "justify_items": null,
       "left": null,
       "margin": null,
       "max_height": null,
       "max_width": null,
       "min_height": null,
       "min_width": null,
       "object_fit": null,
       "object_position": null,
       "order": null,
       "overflow": null,
       "overflow_x": null,
       "overflow_y": null,
       "padding": null,
       "right": null,
       "top": null,
       "visibility": null,
       "width": null
      }
     },
     "83d5f002ec02411d9d1942f02d1173f3": {
      "model_module": "@jupyter-widgets/controls",
      "model_module_version": "1.5.0",
      "model_name": "HBoxModel",
      "state": {
       "_dom_classes": [],
       "_model_module": "@jupyter-widgets/controls",
       "_model_module_version": "1.5.0",
       "_model_name": "HBoxModel",
       "_view_count": null,
       "_view_module": "@jupyter-widgets/controls",
       "_view_module_version": "1.5.0",
       "_view_name": "HBoxView",
       "box_style": "",
       "children": [
        "IPY_MODEL_0bf632c5f49b4ee28bcee61473b036ab",
        "IPY_MODEL_1f1a4f1a1378438ab8fec5c1af3d0a5e"
       ],
       "layout": "IPY_MODEL_7ca216f08cff40f082e1fa0de7f9273f"
      }
     },
     "bf5832b6d2984a50b2987b2da6887c48": {
      "model_module": "@jupyter-widgets/base",
      "model_module_version": "1.2.0",
      "model_name": "LayoutModel",
      "state": {
       "_model_module": "@jupyter-widgets/base",
       "_model_module_version": "1.2.0",
       "_model_name": "LayoutModel",
       "_view_count": null,
       "_view_module": "@jupyter-widgets/base",
       "_view_module_version": "1.2.0",
       "_view_name": "LayoutView",
       "align_content": null,
       "align_items": null,
       "align_self": null,
       "border": null,
       "bottom": null,
       "display": null,
       "flex": null,
       "flex_flow": null,
       "grid_area": null,
       "grid_auto_columns": null,
       "grid_auto_flow": null,
       "grid_auto_rows": null,
       "grid_column": null,
       "grid_gap": null,
       "grid_row": null,
       "grid_template_areas": null,
       "grid_template_columns": null,
       "grid_template_rows": null,
       "height": null,
       "justify_content": null,
       "justify_items": null,
       "left": null,
       "margin": null,
       "max_height": null,
       "max_width": null,
       "min_height": null,
       "min_width": null,
       "object_fit": null,
       "object_position": null,
       "order": null,
       "overflow": null,
       "overflow_x": null,
       "overflow_y": null,
       "padding": null,
       "right": null,
       "top": null,
       "visibility": null,
       "width": null
      }
     },
     "e94cd62de8594749bd735e0372a52664": {
      "model_module": "@jupyter-widgets/base",
      "model_module_version": "1.2.0",
      "model_name": "LayoutModel",
      "state": {
       "_model_module": "@jupyter-widgets/base",
       "_model_module_version": "1.2.0",
       "_model_name": "LayoutModel",
       "_view_count": null,
       "_view_module": "@jupyter-widgets/base",
       "_view_module_version": "1.2.0",
       "_view_name": "LayoutView",
       "align_content": null,
       "align_items": null,
       "align_self": null,
       "border": null,
       "bottom": null,
       "display": null,
       "flex": null,
       "flex_flow": null,
       "grid_area": null,
       "grid_auto_columns": null,
       "grid_auto_flow": null,
       "grid_auto_rows": null,
       "grid_column": null,
       "grid_gap": null,
       "grid_row": null,
       "grid_template_areas": null,
       "grid_template_columns": null,
       "grid_template_rows": null,
       "height": null,
       "justify_content": null,
       "justify_items": null,
       "left": null,
       "margin": null,
       "max_height": null,
       "max_width": null,
       "min_height": null,
       "min_width": null,
       "object_fit": null,
       "object_position": null,
       "order": null,
       "overflow": null,
       "overflow_x": null,
       "overflow_y": null,
       "padding": null,
       "right": null,
       "top": null,
       "visibility": null,
       "width": null
      }
     },
     "fe2d961d4f2b491ab7028af0ead7fe76": {
      "model_module": "@jupyter-widgets/controls",
      "model_module_version": "1.5.0",
      "model_name": "DescriptionStyleModel",
      "state": {
       "_model_module": "@jupyter-widgets/controls",
       "_model_module_version": "1.5.0",
       "_model_name": "DescriptionStyleModel",
       "_view_count": null,
       "_view_module": "@jupyter-widgets/base",
       "_view_module_version": "1.2.0",
       "_view_name": "StyleView",
       "description_width": ""
      }
     }
    },
    "version_major": 2,
    "version_minor": 0
   }
  }
 },
 "nbformat": 4,
 "nbformat_minor": 4
}
