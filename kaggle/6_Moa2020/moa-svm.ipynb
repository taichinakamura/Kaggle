{
 "cells": [
  {
   "cell_type": "markdown",
   "metadata": {
    "papermill": {
     "duration": 0.012297,
     "end_time": "2020-10-24T02:30:11.309040",
     "exception": false,
     "start_time": "2020-10-24T02:30:11.296743",
     "status": "completed"
    },
    "tags": []
   },
   "source": [
    "- 1st svm to check execution time"
   ]
  },
  {
   "cell_type": "code",
   "execution_count": 1,
   "metadata": {
    "_cell_guid": "b1076dfc-b9ad-4769-8c92-a6c4dae69d19",
    "_uuid": "8f2839f25d086af736a60e9eeb907d3b93b6e0e5",
    "execution": {
     "iopub.execute_input": "2020-10-24T02:30:11.345851Z",
     "iopub.status.busy": "2020-10-24T02:30:11.345101Z",
     "iopub.status.idle": "2020-10-24T02:31:27.373540Z",
     "shell.execute_reply": "2020-10-24T02:31:27.374103Z"
    },
    "papermill": {
     "duration": 76.054116,
     "end_time": "2020-10-24T02:31:27.374297",
     "exception": false,
     "start_time": "2020-10-24T02:30:11.320181",
     "status": "completed"
    },
    "tags": []
   },
   "outputs": [],
   "source": [
    "import sys\n",
    "!cp ../input/rapids/rapids.0.15.0 /opt/conda/envs/rapids.tar.gz\n",
    "!cd /opt/conda/envs/ && tar -xzvf rapids.tar.gz > /dev/null\n",
    "sys.path = [\"/opt/conda/envs/rapids/lib/python3.7/site-packages\"] + sys.path\n",
    "sys.path = [\"/opt/conda/envs/rapids/lib/python3.7\"] + sys.path\n",
    "sys.path = [\"/opt/conda/envs/rapids/lib\"] + sys.path\n",
    "!cp /opt/conda/envs/rapids/lib/libxgboost.so /opt/conda/lib/"
   ]
  },
  {
   "cell_type": "code",
   "execution_count": 2,
   "metadata": {
    "_cell_guid": "79c7e3d0-c299-4dcb-8224-4455121ee9b0",
    "_uuid": "d629ff2d2480ee46fbb7e2d37f6b5fab8052498a",
    "execution": {
     "iopub.execute_input": "2020-10-24T02:31:33.394353Z",
     "iopub.status.busy": "2020-10-24T02:31:33.389616Z",
     "iopub.status.idle": "2020-10-24T02:31:36.924062Z",
     "shell.execute_reply": "2020-10-24T02:31:36.924805Z"
    },
    "papermill": {
     "duration": 3.61818,
     "end_time": "2020-10-24T02:31:36.925006",
     "exception": false,
     "start_time": "2020-10-24T02:31:33.306826",
     "status": "completed"
    },
    "tags": []
   },
   "outputs": [],
   "source": [
    "import os\n",
    "import warnings\n",
    "import numpy as np\n",
    "import pandas as pd \n",
    "import matplotlib.pyplot as plt\n",
    "from sklearn import preprocessing\n",
    "from sklearn.metrics import log_loss\n",
    "from sklearn.decomposition import PCA\n",
    "from sklearn.pipeline import Pipeline\n",
    "from tqdm import tqdm_notebook as tqdm\n",
    "from category_encoders import CountEncoder\n",
    "from sklearn.multioutput import MultiOutputClassifier\n",
    "from sklearn.model_selection import KFold, StratifiedKFold\n",
    "sys.path.append('../input/multilabelstraifier/')\n",
    "from ml_stratifiers import MultilabelStratifiedKFold\n",
    "warnings.filterwarnings('ignore')\n",
    "\n",
    "from sklearn.kernel_approximation import Nystroem\n",
    "from sklearn.isotonic import IsotonicRegression\n",
    "from sklearn.linear_model import LogisticRegression\n",
    "from sklearn.kernel_ridge import KernelRidge\n",
    "from cuml.svm import SVC, SVR"
   ]
  },
  {
   "cell_type": "markdown",
   "metadata": {
    "papermill": {
     "duration": 0.017289,
     "end_time": "2020-10-24T02:31:36.960921",
     "exception": false,
     "start_time": "2020-10-24T02:31:36.943632",
     "status": "completed"
    },
    "tags": []
   },
   "source": [
    "# preprocess"
   ]
  },
  {
   "cell_type": "code",
   "execution_count": 3,
   "metadata": {
    "execution": {
     "iopub.execute_input": "2020-10-24T02:31:37.004256Z",
     "iopub.status.busy": "2020-10-24T02:31:37.003353Z",
     "iopub.status.idle": "2020-10-24T02:31:42.965741Z",
     "shell.execute_reply": "2020-10-24T02:31:42.964633Z"
    },
    "papermill": {
     "duration": 5.987704,
     "end_time": "2020-10-24T02:31:42.965890",
     "exception": false,
     "start_time": "2020-10-24T02:31:36.978186",
     "status": "completed"
    },
    "tags": []
   },
   "outputs": [],
   "source": [
    "DATA_DIR = '/kaggle/input/lish-moa/'\n",
    "train = pd.read_csv(DATA_DIR + 'train_features.csv')\n",
    "targets = pd.read_csv(DATA_DIR + 'train_targets_scored.csv')\n",
    "test = pd.read_csv(DATA_DIR + 'test_features.csv')\n",
    "#non_targets = pd.read_csv(DATA_DIR + 'train_targets_nonscored.csv')"
   ]
  },
  {
   "cell_type": "code",
   "execution_count": 4,
   "metadata": {
    "execution": {
     "iopub.execute_input": "2020-10-24T02:31:42.995827Z",
     "iopub.status.busy": "2020-10-24T02:31:42.994593Z",
     "iopub.status.idle": "2020-10-24T02:31:42.996894Z",
     "shell.execute_reply": "2020-10-24T02:31:42.996393Z"
    },
    "papermill": {
     "duration": 0.019164,
     "end_time": "2020-10-24T02:31:42.997021",
     "exception": false,
     "start_time": "2020-10-24T02:31:42.977857",
     "status": "completed"
    },
    "tags": []
   },
   "outputs": [],
   "source": [
    "#non_target_feats = [i for i in non_targets.columns if i != \"sig_id\"]\n",
    "#nontarget_dists = pd.DataFrame(np.sum(non_targets[non_target_feats])).reset_index(drop=False)\n",
    "#nontarget_dists.columns = [\"target\", \"number\"]\n",
    "#nontarget_dists = nontarget_dists.sort_values(\"number\", ascending=False).reset_index(drop=True)\n",
    "#drop_list1 = list(nontarget_dists[nontarget_dists.number==0][\"target\"].values)\n",
    "#non_targets.drop(drop_list1, axis=1, inplace=True)\n",
    "#print(\"shape after 1st drop:\", non_targets.shape)"
   ]
  },
  {
   "cell_type": "code",
   "execution_count": 5,
   "metadata": {
    "execution": {
     "iopub.execute_input": "2020-10-24T02:31:43.025660Z",
     "iopub.status.busy": "2020-10-24T02:31:43.024915Z",
     "iopub.status.idle": "2020-10-24T02:31:43.028679Z",
     "shell.execute_reply": "2020-10-24T02:31:43.028191Z"
    },
    "papermill": {
     "duration": 0.02046,
     "end_time": "2020-10-24T02:31:43.028779",
     "exception": false,
     "start_time": "2020-10-24T02:31:43.008319",
     "status": "completed"
    },
    "tags": []
   },
   "outputs": [],
   "source": [
    "target_feats = [ i for i in targets.columns if i != \"sig_id\"]\n",
    "g_feats = [i for i in train.columns if \"g-\" in i]\n",
    "c_feats = [i for i in train.columns if \"c-\" in i]\n",
    "#non_target_feats = [i for i in non_targets.columns if i != \"sig_id\"]"
   ]
  },
  {
   "cell_type": "code",
   "execution_count": 6,
   "metadata": {
    "execution": {
     "iopub.execute_input": "2020-10-24T02:31:43.071352Z",
     "iopub.status.busy": "2020-10-24T02:31:43.066782Z",
     "iopub.status.idle": "2020-10-24T02:31:43.627303Z",
     "shell.execute_reply": "2020-10-24T02:31:43.623279Z"
    },
    "papermill": {
     "duration": 0.58709,
     "end_time": "2020-10-24T02:31:43.627492",
     "exception": false,
     "start_time": "2020-10-24T02:31:43.040402",
     "status": "completed"
    },
    "tags": []
   },
   "outputs": [],
   "source": [
    "noncons_train_index = train[train.cp_type==\"ctl_vehicle\"].index\n",
    "cons_train_index = train[train.cp_type!=\"ctl_vehicle\"].index\n",
    "noncons_test_index = test[test.cp_type==\"ctl_vehicle\"].index\n",
    "cons_test_index = test[test.cp_type!=\"ctl_vehicle\"].index\n",
    "\n",
    "test = test[test.index.isin(cons_test_index)].reset_index(drop=True)\n",
    "train = train[train.index.isin(cons_train_index)].reset_index(drop=True)\n",
    "fn_targets = targets.drop(\"sig_id\", axis=1).copy()\n",
    "fn_targets = fn_targets[fn_targets.index.isin(cons_train_index)].copy().reset_index(drop=True).to_numpy()\n",
    "#fn_non_targets = non_targets.drop(\"sig_id\", axis=1).copy()\n",
    "#fn_non_targets = fn_non_targets[fn_non_targets.index.isin(cons_train_index)].copy().reset_index(drop=True).to_numpy()\n",
    "y = targets.drop(\"sig_id\", axis=1).copy()\n",
    "#non_y = non_targets.drop(\"sig_id\", axis=1).copy()"
   ]
  },
  {
   "cell_type": "markdown",
   "metadata": {
    "papermill": {
     "duration": 0.019007,
     "end_time": "2020-10-24T02:31:43.668057",
     "exception": false,
     "start_time": "2020-10-24T02:31:43.649050",
     "status": "completed"
    },
    "tags": []
   },
   "source": [
    "# Feature engineering"
   ]
  },
  {
   "cell_type": "code",
   "execution_count": 7,
   "metadata": {
    "execution": {
     "iopub.execute_input": "2020-10-24T02:31:43.730642Z",
     "iopub.status.busy": "2020-10-24T02:31:43.729354Z",
     "iopub.status.idle": "2020-10-24T02:31:43.943422Z",
     "shell.execute_reply": "2020-10-24T02:31:43.944111Z"
    },
    "papermill": {
     "duration": 0.252876,
     "end_time": "2020-10-24T02:31:43.944333",
     "exception": false,
     "start_time": "2020-10-24T02:31:43.691457",
     "status": "completed"
    },
    "tags": []
   },
   "outputs": [
    {
     "name": "stdout",
     "output_type": "stream",
     "text": [
      "(21948, 874) (3624, 874)\n"
     ]
    }
   ],
   "source": [
    "def fe_simple(df, remove_features):\n",
    "    tmp = df.copy()\n",
    "    tmp.drop(remove_features, axis=1, inplace=True)\n",
    "    tmp.loc[:, 'cp_dose'] = tmp.loc[:, 'cp_dose'].map({'D1': 0, 'D2': 1})\n",
    "    return tmp\n",
    "\n",
    "remove_features = [\"cp_type\" , \"sig_id\"]\n",
    "train_fn = fe_simple(train, remove_features)\n",
    "test_fn = fe_simple(test, remove_features)\n",
    "\n",
    "print(train_fn.shape, test_fn.shape)"
   ]
  },
  {
   "cell_type": "code",
   "execution_count": 8,
   "metadata": {
    "execution": {
     "iopub.execute_input": "2020-10-24T02:31:43.989273Z",
     "iopub.status.busy": "2020-10-24T02:31:43.988120Z",
     "iopub.status.idle": "2020-10-24T02:31:45.014351Z",
     "shell.execute_reply": "2020-10-24T02:31:45.012851Z"
    },
    "papermill": {
     "duration": 1.051627,
     "end_time": "2020-10-24T02:31:45.014486",
     "exception": false,
     "start_time": "2020-10-24T02:31:43.962859",
     "status": "completed"
    },
    "tags": []
   },
   "outputs": [],
   "source": [
    "fn_train = train_fn.copy() \n",
    "fn_test = test_fn.copy() \n",
    "\n",
    "ss = preprocessing.StandardScaler()\n",
    "fn_train= ss.fit_transform(fn_train)\n",
    "fn_test = ss.transform(fn_test)"
   ]
  },
  {
   "cell_type": "markdown",
   "metadata": {
    "papermill": {
     "duration": 0.012506,
     "end_time": "2020-10-24T02:31:45.040377",
     "exception": false,
     "start_time": "2020-10-24T02:31:45.027871",
     "status": "completed"
    },
    "tags": []
   },
   "source": [
    "# modelling"
   ]
  },
  {
   "cell_type": "code",
   "execution_count": 9,
   "metadata": {
    "execution": {
     "iopub.execute_input": "2020-10-24T02:31:45.091213Z",
     "iopub.status.busy": "2020-10-24T02:31:45.089187Z",
     "iopub.status.idle": "2020-10-24T02:31:45.092015Z",
     "shell.execute_reply": "2020-10-24T02:31:45.092594Z"
    },
    "papermill": {
     "duration": 0.039714,
     "end_time": "2020-10-24T02:31:45.092740",
     "exception": false,
     "start_time": "2020-10-24T02:31:45.053026",
     "status": "completed"
    },
    "tags": []
   },
   "outputs": [],
   "source": [
    "N_STARTS = 3\n",
    "N_SPLITS = 5\n",
    "\n",
    "def modelling_svm(tr, ta, te):\n",
    "    svm0_oof = np.zeros([len(tr), ta.shape[1]])\n",
    "    svm0_test = np.zeros([len(te), ta.shape[1]])\n",
    "\n",
    "    svm1_test = np.zeros([len(te),ta.shape[1]])\n",
    "    svm1_oof = np.zeros([ta.shape[0],ta.shape[1]]) \n",
    "\n",
    "    for ind in tqdm(range(ta.shape[1])):\n",
    "        ind_target_sum = ta[:, ind].sum()\n",
    "        if ind_target_sum >= N_SPLITS:\n",
    "            for seed in range(N_STARTS):\n",
    "                skf = StratifiedKFold(n_splits = N_SPLITS, random_state = seed, shuffle = True)\n",
    "\n",
    "                for n, (train_index, val_index) in enumerate(skf.split(tr, ta[:,ind])):\n",
    "                \n",
    "                    x_tr, x_val = tr[train_index], tr[val_index]\n",
    "                    y_tr, y_val = ta[train_index,ind], ta[val_index,ind]\n",
    "\n",
    "                    model = SVC(C = 40, cache_size = 2000)\n",
    "                    model.fit(x_tr, y_tr)\n",
    "                    svm0_test[:, ind] += model.decision_function(te) / (N_SPLITS * N_STARTS)\n",
    "                    svm0_oof[val_index, ind] += model.decision_function(x_val) / N_STARTS\n",
    "                    \n",
    "            for seed in range(N_STARTS):\n",
    "                skf = StratifiedKFold(n_splits = N_SPLITS, random_state = seed, shuffle = True)\n",
    "\n",
    "                for n, (train_index, val_index) in enumerate(skf.split(svm0_oof, ta[:,ind])):\n",
    "\n",
    "                    x_tr, x_val = svm0_oof[train_index, ind].reshape(-1, 1), svm0_oof[val_index, ind].reshape(-1, 1)\n",
    "                    y_tr, y_val = ta[train_index,ind], ta[val_index,ind]\n",
    "\n",
    "                    model = LogisticRegression(C = 35, max_iter = 1000)\n",
    "                    model.fit(x_tr, y_tr)\n",
    "                    svm1_test[:, ind] += model.predict_proba(svm0_test[:, ind].reshape(-1, 1))[:, 1] / (N_SPLITS * N_STARTS)\n",
    "                    svm1_oof[val_index, ind] += model.predict_proba(x_val)[:, 1] / N_STARTS\n",
    "\n",
    "        score1 = log_loss(ta[:, ind], svm0_oof[:, ind])\n",
    "        score2 = log_loss(ta[:, ind], svm1_oof[:, ind])\n",
    "        print('SVM Target ind {} score {}: {}'.format(ind, score1, score2))\n",
    "\n",
    "    return svm1_test, svm1_oof"
   ]
  },
  {
   "cell_type": "code",
   "execution_count": 10,
   "metadata": {
    "execution": {
     "iopub.execute_input": "2020-10-24T02:31:45.124787Z",
     "iopub.status.busy": "2020-10-24T02:31:45.123880Z",
     "iopub.status.idle": "2020-10-24T02:57:53.921818Z",
     "shell.execute_reply": "2020-10-24T02:57:53.921167Z"
    },
    "papermill": {
     "duration": 1568.815776,
     "end_time": "2020-10-24T02:57:53.921939",
     "exception": false,
     "start_time": "2020-10-24T02:31:45.106163",
     "status": "completed"
    },
    "tags": []
   },
   "outputs": [
    {
     "data": {
      "application/vnd.jupyter.widget-view+json": {
       "model_id": "3327a8ecd91a4f0daeffce300a596d3e",
       "version_major": 2,
       "version_minor": 0
      },
      "text/plain": [
       "HBox(children=(FloatProgress(value=0.0, max=206.0), HTML(value='')))"
      ]
     },
     "metadata": {},
     "output_type": "display_data"
    },
    {
     "name": "stdout",
     "output_type": "stream",
     "text": [
      "SVM Target ind 0 score 0.0267522871657328: 0.005032248542484615\n",
      "SVM Target ind 1 score 0.028325951116658196: 0.006581885570450463\n",
      "SVM Target ind 2 score 0.0377679348222106: 0.008589467902867885\n",
      "SVM Target ind 3 score 0.298996150675827: 0.048917698593537305\n",
      "SVM Target ind 4 score 0.47367284922854636: 0.07159748761855246\n",
      "SVM Target ind 5 score 0.11487746841755518: 0.022312085726263448\n",
      "SVM Target ind 6 score 0.0849778533499726: 0.017221156219957106\n",
      "SVM Target ind 7 score 0.15107173928883938: 0.02758612434078699\n",
      "SVM Target ind 8 score 0.0188839674111058: 0.0009619483301645337\n",
      "SVM Target ind 9 score 0.41774788362703535: 0.06028960923052172\n",
      "SVM Target ind 10 score 0.566519022333145: 0.08282931815972802\n",
      "SVM Target ind 11 score 0.07872803928766862: 0.011506857753246792\n",
      "SVM Target ind 12 score 0.0110156476564788: 0.000490875148437014\n",
      "SVM Target ind 13 score 0.06609388593886781: 0.009981667824920612\n",
      "SVM Target ind 14 score 0.0188839674111058: 0.004699142468417396\n",
      "SVM Target ind 15 score 0.018883967411105797: 0.004674425444446278\n",
      "SVM Target ind 16 score 0.0755358696444202: 0.015615579609225912\n",
      "SVM Target ind 17 score 0.14005609163236157: 0.026147501738646363\n",
      "SVM Target ind 18 score 0.125893116074033: 0.02404629710213503\n",
      "SVM Target ind 19 score 0.0566519022333154: 0.012195342456710891\n",
      "SVM Target ind 20 score 0.058225566184240796: 0.012019091352114711\n",
      "SVM Target ind 21 score 0.1148774684175552: 0.020903364801234597\n",
      "SVM Target ind 22 score 0.009441983705553398: 0.0024419776308479023\n",
      "SVM Target ind 23 score 0.06766754988979319: 0.01320500033623995\n",
      "SVM Target ind 24 score 0.0188839674111058: 0.004585986200036054\n",
      "SVM Target ind 25 score 0.020457631362031197: 0.004433289697256056\n",
      "SVM Target ind 26 score 0.018883967411105797: 0.0046001922511085406\n",
      "SVM Target ind 27 score 0.028325951116658196: 0.006625343171766487\n",
      "SVM Target ind 28 score 0.1148774684175552: 0.021764107074097382\n",
      "SVM Target ind 29 score 0.0566519022333154: 0.011973120364939645\n",
      "SVM Target ind 30 score 0.036194270871285204: 0.008048438496984176\n",
      "SVM Target ind 31 score 0.0771095335953456: 0.015497558472976443\n",
      "SVM Target ind 32 score 0.0739622056934948: 0.015164935049190415\n",
      "SVM Target ind 33 score 0.009441983705553401: 0.0013947446764442293\n",
      "SVM Target ind 34 score 0.0015736639509263987: 0.0015736639509263987\n",
      "SVM Target ind 35 score 0.015995075305086637: 0.0006548843597252811\n",
      "SVM Target ind 36 score 0.15124648042858196: 0.024454467544880294\n",
      "SVM Target ind 37 score 0.027124797939191: 0.002651583688691158\n",
      "SVM Target ind 38 score 0.1044778435377165: 0.010598289578083302\n",
      "SVM Target ind 39 score 0.0094419837055534: 0.002404267065332897\n",
      "SVM Target ind 40 score 0.094419837055525: 0.018898992866726968\n",
      "SVM Target ind 41 score 0.12590554647677943: 0.02246885318672369\n",
      "SVM Target ind 42 score 0.056651902233315385: 0.011858051492814723\n",
      "SVM Target ind 43 score 0.3021434785776778: 0.04967143809672099\n",
      "SVM Target ind 44 score 0.1400560916323616: 0.02565211223588774\n",
      "SVM Target ind 45 score 0.180971354356422: 0.030376420558693808\n",
      "SVM Target ind 46 score 0.0110156476564788: 0.0014766196383471087\n",
      "SVM Target ind 47 score 0.047423884432121616: 0.006626913312156032\n",
      "SVM Target ind 48 score 0.05979923013516619: 0.009292308008009358\n",
      "SVM Target ind 49 score 0.1054354847120028: 0.01995866330784542\n",
      "SVM Target ind 50 score 0.037767934822210594: 0.008550073591497122\n",
      "SVM Target ind 51 score 0.07890719076961206: 0.013001808334203523\n",
      "SVM Target ind 52 score 0.04563625457683759: 0.0076508426675952704\n",
      "SVM Target ind 53 score 0.0094419837055534: 0.002405244091546194\n",
      "SVM Target ind 54 score 0.4421995702100385: 0.06786121469344343\n",
      "SVM Target ind 55 score 0.0660938859388678: 0.013674783701815746\n",
      "SVM Target ind 56 score 0.086551517300898: 0.016435447058514838\n",
      "SVM Target ind 57 score 0.0566519022333154: 0.012111744123010354\n",
      "SVM Target ind 58 score 0.0566519022333154: 0.011280017198111909\n",
      "SVM Target ind 59 score 0.028325951116658196: 0.006650137062642459\n",
      "SVM Target ind 60 score 0.018883967411105793: 0.004635164275196487\n",
      "SVM Target ind 61 score 0.16051372299439182: 0.02960429603994153\n",
      "SVM Target ind 62 score 0.028325951116658196: 0.0063993335346846465\n",
      "SVM Target ind 63 score 0.1793920120975412: 0.01959421231726727\n",
      "SVM Target ind 64 score 0.0849778533499726: 0.016990606588251328\n",
      "SVM Target ind 65 score 0.03338897509357419: 0.0018505633072781265\n",
      "SVM Target ind 66 score 0.06609388593886781: 0.013419148089178615\n",
      "SVM Target ind 67 score 0.0755358696444202: 0.015122922228929681\n",
      "SVM Target ind 68 score 0.0849778533499726: 0.016873198480273285\n",
      "SVM Target ind 69 score 0.0094419837055534: 0.0025641679885230755\n",
      "SVM Target ind 70 score 0.0566519022333154: 0.009805445997155326\n",
      "SVM Target ind 71 score 0.684548680257873: 0.09252967257489264\n",
      "SVM Target ind 72 score 0.16366105089624258: 0.029922164101976505\n",
      "SVM Target ind 73 score 0.04774183629825685: 0.00918083273457466\n",
      "SVM Target ind 74 score 0.039341598773136: 0.00837574323374731\n",
      "SVM Target ind 75 score 0.0094419837055534: 0.002534624139917946\n",
      "SVM Target ind 76 score 0.07553586964442019: 0.014785091370601685\n",
      "SVM Target ind 77 score 0.6088592730169317: 0.0844474105830744\n",
      "SVM Target ind 78 score 0.19041333806197436: 0.03365663919293061\n",
      "SVM Target ind 79 score 0.6642648874720656: 0.09077981724512815\n",
      "SVM Target ind 80 score 0.16225055894789492: 0.018588475144872683\n",
      "SVM Target ind 81 score 0.009441983705553398: 0.002549731306975002\n",
      "SVM Target ind 82 score 0.0015736639509263994: 0.0015736639509263994\n",
      "SVM Target ind 83 score 0.24863890424621418: 0.041371221804476326\n",
      "SVM Target ind 84 score 0.0755358696444202: 0.0148577993366889\n",
      "SVM Target ind 85 score 0.0566519022333154: 0.011474428105278234\n",
      "SVM Target ind 86 score 0.022584783288437618: 0.002131777703314769\n",
      "SVM Target ind 87 score 0.039341598773136: 0.008284182916666986\n",
      "SVM Target ind 88 score 0.07721290404483384: 0.011153685564310708\n",
      "SVM Target ind 89 score 0.242375772561839: 0.02573020901290662\n",
      "SVM Target ind 90 score 0.02535790750240864: 0.0015550999805405451\n",
      "SVM Target ind 91 score 0.028325951116658196: 0.00661248943572875\n",
      "SVM Target ind 92 score 0.036194270871285204: 0.0077189940766993915\n",
      "SVM Target ind 93 score 0.1668083787980934: 0.029943401289756942\n",
      "SVM Target ind 94 score 0.259654551902692: 0.043784065288250414\n",
      "SVM Target ind 95 score 0.07344128945531933: 0.010418096913455454\n",
      "SVM Target ind 96 score 0.08764997356425683: 0.01535620146467896\n",
      "SVM Target ind 97 score 0.020457631362031197: 0.004574775801284901\n",
      "SVM Target ind 98 score 0.11645113236848059: 0.022400812662582124\n",
      "SVM Target ind 99 score 0.5775346699896229: 0.08427698503469137\n",
      "SVM Target ind 100 score 0.028325951116658202: 0.006632366844288075\n",
      "SVM Target ind 101 score 0.06571739794288631: 0.010944239794476888\n",
      "SVM Target ind 102 score 0.1133038044666298: 0.02151296838748321\n",
      "SVM Target ind 103 score 0.10311027686494656: 0.012210358941115884\n",
      "SVM Target ind 104 score 0.0928461731045996: 0.01860411306742343\n",
      "SVM Target ind 105 score 0.3792530121730223: 0.059876343888349025\n",
      "SVM Target ind 106 score 0.0318727335426549: 0.0032562734259710987\n",
      "SVM Target ind 107 score 0.045971158228606486: 0.007321282997005851\n",
      "SVM Target ind 108 score 0.1133038044666298: 0.0208886044262838\n",
      "SVM Target ind 109 score 0.14201088202136827: 0.013180161508923887\n",
      "SVM Target ind 110 score 0.05370601981780244: 0.007613163401870469\n",
      "SVM Target ind 111 score 0.058225566184240796: 0.008770655854440501\n",
      "SVM Target ind 112 score 0.039916546630116394: 0.006866735239234143\n",
      "SVM Target ind 113 score 0.04878358247868839: 0.010564168599238592\n",
      "SVM Target ind 114 score 0.1148774684175552: 0.020534297182277828\n",
      "SVM Target ind 115 score 0.047209918527762997: 0.010310478441751718\n",
      "SVM Target ind 116 score 0.08025686149719641: 0.013538132101479198\n",
      "SVM Target ind 117 score 0.06609388593886781: 0.01370756422138866\n",
      "SVM Target ind 118 score 0.11637851892742375: 0.01144083111887249\n",
      "SVM Target ind 119 score 0.21787635797653412: 0.02228442735499182\n",
      "SVM Target ind 120 score 0.009441983705553398: 0.002568784888547099\n",
      "SVM Target ind 121 score 0.009441983705553398: 0.0024417525435613983\n",
      "SVM Target ind 122 score 0.09756716495737582: 0.01920089787179507\n",
      "SVM Target ind 123 score 0.018883967411105797: 0.004684058039655449\n",
      "SVM Target ind 124 score 0.09599350100645039: 0.018808797461571207\n",
      "SVM Target ind 125 score 0.0094419837055534: 0.0017290865861969522\n",
      "SVM Target ind 126 score 0.04131009905515071: 0.0026475301488802375\n",
      "SVM Target ind 127 score 0.06110886724006275: 0.009412289527744793\n",
      "SVM Target ind 128 score 0.11645113236848059: 0.02241553765791505\n",
      "SVM Target ind 129 score 0.039341598773136: 0.008314322570966075\n",
      "SVM Target ind 130 score 0.018883967411105797: 0.004690574578291294\n",
      "SVM Target ind 131 score 0.13376143582866: 0.025240785586810446\n",
      "SVM Target ind 132 score 0.028325951116658196: 0.005029698859292081\n",
      "SVM Target ind 133 score 0.1522731777831692: 0.016553516950067043\n",
      "SVM Target ind 134 score 0.0755358696444202: 0.015405931969486713\n",
      "SVM Target ind 135 score 0.058225566184240796: 0.011896727813601422\n",
      "SVM Target ind 136 score 0.30223037603120917: 0.04019965389421683\n",
      "SVM Target ind 137 score 0.009441983705553398: 0.0025009895987225996\n",
      "SVM Target ind 138 score 0.040915262724061395: 0.009043868591774614\n",
      "SVM Target ind 139 score 0.018883967411105797: 0.004396309481749387\n",
      "SVM Target ind 140 score 0.040915262724061395: 0.009041635885612628\n",
      "SVM Target ind 141 score 0.0110156476564788: 0.002773744774231749\n",
      "SVM Target ind 142 score 0.028325951116658196: 0.004832169371990861\n",
      "SVM Target ind 143 score 0.09599350100645039: 0.01861626520700598\n",
      "SVM Target ind 144 score 0.1510717392888394: 0.02775009537934871\n",
      "SVM Target ind 145 score 0.058225566184240796: 0.012352931440728578\n",
      "SVM Target ind 146 score 0.08454839599216883: 0.010427862014460625\n",
      "SVM Target ind 147 score 0.0377679348222106: 0.008372031386390474\n",
      "SVM Target ind 148 score 0.09599350100645039: 0.01537610875138628\n",
      "SVM Target ind 149 score 0.24742502258266805: 0.024409386962498808\n",
      "SVM Target ind 150 score 0.028325951116658196: 0.006335910650136495\n",
      "SVM Target ind 151 score 0.4140538306189051: 0.061745311032641366\n",
      "SVM Target ind 152 score 0.039341598773136: 0.008724006928687925\n",
      "SVM Target ind 153 score 0.19716547993231362: 0.02612464014096393\n",
      "SVM Target ind 154 score 0.0487835824786884: 0.009413115953920704\n",
      "SVM Target ind 155 score 0.086551517300898: 0.01728183359188227\n",
      "SVM Target ind 156 score 0.1542190671906902: 0.028254698323257093\n",
      "SVM Target ind 157 score 0.16768898436559215: 0.025842972335842495\n",
      "SVM Target ind 158 score 0.047209918527763: 0.009992121567655304\n",
      "SVM Target ind 159 score 0.18726601016012356: 0.029788228491531094\n",
      "SVM Target ind 160 score 0.028325951116658196: 0.004434626951455901\n",
      "SVM Target ind 161 score 0.056651902233315406: 0.0120091969718531\n",
      "SVM Target ind 162 score 0.13218777187773462: 0.024788825383626617\n",
      "SVM Target ind 163 score 0.10778050385643265: 0.006300697900378999\n",
      "SVM Target ind 164 score 0.0755358696444202: 0.015461109011241545\n",
      "SVM Target ind 165 score 0.009441983705553398: 0.0023591209346890307\n",
      "SVM Target ind 166 score 0.16208738694531719: 0.026678345805044044\n",
      "SVM Target ind 167 score 0.029899615067583596: 0.006959251554320655\n",
      "SVM Target ind 168 score 0.08812518125182339: 0.017424891635608446\n",
      "SVM Target ind 169 score 0.07518409849826634: 0.007199359752304941\n",
      "SVM Target ind 170 score 0.018883967411105797: 0.004619468335053484\n",
      "SVM Target ind 171 score 0.09358236502516057: 0.008733589079641562\n",
      "SVM Target ind 172 score 0.009441983705553398: 0.0022824028256353194\n",
      "SVM Target ind 173 score 0.052083647737664183: 0.0076047006581602085\n",
      "SVM Target ind 174 score 0.05822556618424081: 0.01045371824944675\n",
      "SVM Target ind 175 score 0.039341598773136: 0.008436758754595278\n",
      "SVM Target ind 176 score 0.3713846924183954: 0.05874028542234532\n",
      "SVM Target ind 177 score 0.6357643130338573: 0.08850795725282061\n",
      "SVM Target ind 178 score 0.06924121384071859: 0.014009097855766733\n",
      "SVM Target ind 179 score 0.0566519022333154: 0.01184922752726092\n",
      "SVM Target ind 180 score 0.0566519022333154: 0.01172300238766882\n",
      "SVM Target ind 181 score 0.039341598773136: 0.00877505094713923\n",
      "SVM Target ind 182 score 0.4201682748970828: 0.06543824829260936\n",
      "SVM Target ind 183 score 0.039341598773136: 0.008711882936881257\n",
      "SVM Target ind 184 score 0.10727714714417527: 0.01608841316295934\n",
      "SVM Target ind 185 score 0.0094419837055534: 0.002453069938759347\n",
      "SVM Target ind 186 score 0.0298996150675836: 0.004879134677347683\n",
      "SVM Target ind 187 score 0.094419837055525: 0.017829386594976238\n",
      "SVM Target ind 188 score 0.032345693082092376: 0.0030762220794404243\n",
      "SVM Target ind 189 score 0.029899615067583596: 0.0068041897838825955\n",
      "SVM Target ind 190 score 0.05822556618424079: 0.011474319803384784\n",
      "SVM Target ind 191 score 0.047209918527763: 0.010318818528295725\n",
      "SVM Target ind 192 score 0.011015647656478798: 0.0029211339836812578\n",
      "SVM Target ind 193 score 0.0566519022333154: 0.01177211960347533\n",
      "SVM Target ind 194 score 0.1519872334051322: 0.0153945537365398\n",
      "SVM Target ind 195 score 0.028325951116658196: 0.0064175249478269384\n",
      "SVM Target ind 196 score 0.009441983705553398: 0.0022822491501150346\n",
      "SVM Target ind 197 score 0.039341598773136: 0.0061633771592565405\n",
      "SVM Target ind 198 score 0.0755358696444202: 0.015325600170716039\n",
      "SVM Target ind 199 score 0.13812470816611183: 0.021569303006167502\n",
      "SVM Target ind 200 score 0.1148774684175552: 0.02113225595157734\n",
      "SVM Target ind 201 score 0.0094419837055534: 0.0024340619667383642\n",
      "SVM Target ind 202 score 0.2317331252523695: 0.028397374929364724\n",
      "SVM Target ind 203 score 0.040915262724061395: 0.008907789935172317\n",
      "SVM Target ind 204 score 0.04019826154166387: 0.003571403993569069\n",
      "SVM Target ind 205 score 0.047209918527763: 0.010160313524365206\n",
      "\n"
     ]
    }
   ],
   "source": [
    "svm1_test, svm1_oof = modelling_svm(fn_train, fn_targets, fn_test)"
   ]
  },
  {
   "cell_type": "code",
   "execution_count": 11,
   "metadata": {
    "execution": {
     "iopub.execute_input": "2020-10-24T02:57:54.091037Z",
     "iopub.status.busy": "2020-10-24T02:57:54.090096Z",
     "iopub.status.idle": "2020-10-24T02:57:55.411468Z",
     "shell.execute_reply": "2020-10-24T02:57:55.412185Z"
    },
    "papermill": {
     "duration": 1.409069,
     "end_time": "2020-10-24T02:57:55.412369",
     "exception": false,
     "start_time": "2020-10-24T02:57:54.003300",
     "status": "completed"
    },
    "tags": []
   },
   "outputs": [
    {
     "name": "stdout",
     "output_type": "stream",
     "text": [
      "OOF log loss:  0.015288382527672173\n"
     ]
    }
   ],
   "source": [
    "check_svm1 = np.zeros([targets.shape[0], targets.shape[1]-1])\n",
    "check_svm1[cons_train_index,:] = svm1_oof\n",
    "print('OOF log loss: ', log_loss(np.ravel(y), np.ravel(check_svm1)))\n",
    "\n",
    "#check_non_svm1 = np.zeros([non_targets.shape[0], non_targets.shape[1]-1])\n",
    "#check_non_svm1[cons_train_index,:] = svm1_non_oof\n",
    "#print('OOF log loss: ', log_loss(np.ravel(non_y), np.ravel(check_non_svm1)))"
   ]
  },
  {
   "cell_type": "markdown",
   "metadata": {
    "papermill": {
     "duration": 0.119015,
     "end_time": "2020-10-24T02:57:55.657484",
     "exception": false,
     "start_time": "2020-10-24T02:57:55.538469",
     "status": "completed"
    },
    "tags": []
   },
   "source": [
    "# submission"
   ]
  },
  {
   "cell_type": "code",
   "execution_count": 12,
   "metadata": {
    "execution": {
     "iopub.execute_input": "2020-10-24T02:57:55.901140Z",
     "iopub.status.busy": "2020-10-24T02:57:55.900268Z",
     "iopub.status.idle": "2020-10-24T02:57:58.786800Z",
     "shell.execute_reply": "2020-10-24T02:57:58.785737Z"
    },
    "papermill": {
     "duration": 3.012718,
     "end_time": "2020-10-24T02:57:58.786923",
     "exception": false,
     "start_time": "2020-10-24T02:57:55.774205",
     "status": "completed"
    },
    "tags": []
   },
   "outputs": [],
   "source": [
    "sub = pd.read_csv(DATA_DIR + 'sample_submission.csv')\n",
    "\n",
    "sub.loc[cons_test_index,target_feats] =  svm1_test \n",
    "sub.loc[noncons_test_index,target_feats] = 0\n",
    "sub.to_csv('submission.csv', index=False)"
   ]
  }
 ],
 "metadata": {
  "kernelspec": {
   "display_name": "Python 3",
   "language": "python",
   "name": "python3"
  },
  "language_info": {
   "codemirror_mode": {
    "name": "ipython",
    "version": 3
   },
   "file_extension": ".py",
   "mimetype": "text/x-python",
   "name": "python",
   "nbconvert_exporter": "python",
   "pygments_lexer": "ipython3",
   "version": "3.7.6"
  },
  "papermill": {
   "duration": 1672.407781,
   "end_time": "2020-10-24T02:57:59.378406",
   "environment_variables": {},
   "exception": null,
   "input_path": "__notebook__.ipynb",
   "output_path": "__notebook__.ipynb",
   "parameters": {},
   "start_time": "2020-10-24T02:30:06.970625",
   "version": "2.1.0"
  },
  "widgets": {
   "application/vnd.jupyter.widget-state+json": {
    "state": {
     "0e29451bd74f437d8f8d4e53d124bdd4": {
      "model_module": "@jupyter-widgets/base",
      "model_module_version": "1.2.0",
      "model_name": "LayoutModel",
      "state": {
       "_model_module": "@jupyter-widgets/base",
       "_model_module_version": "1.2.0",
       "_model_name": "LayoutModel",
       "_view_count": null,
       "_view_module": "@jupyter-widgets/base",
       "_view_module_version": "1.2.0",
       "_view_name": "LayoutView",
       "align_content": null,
       "align_items": null,
       "align_self": null,
       "border": null,
       "bottom": null,
       "display": null,
       "flex": null,
       "flex_flow": null,
       "grid_area": null,
       "grid_auto_columns": null,
       "grid_auto_flow": null,
       "grid_auto_rows": null,
       "grid_column": null,
       "grid_gap": null,
       "grid_row": null,
       "grid_template_areas": null,
       "grid_template_columns": null,
       "grid_template_rows": null,
       "height": null,
       "justify_content": null,
       "justify_items": null,
       "left": null,
       "margin": null,
       "max_height": null,
       "max_width": null,
       "min_height": null,
       "min_width": null,
       "object_fit": null,
       "object_position": null,
       "order": null,
       "overflow": null,
       "overflow_x": null,
       "overflow_y": null,
       "padding": null,
       "right": null,
       "top": null,
       "visibility": null,
       "width": null
      }
     },
     "3327a8ecd91a4f0daeffce300a596d3e": {
      "model_module": "@jupyter-widgets/controls",
      "model_module_version": "1.5.0",
      "model_name": "HBoxModel",
      "state": {
       "_dom_classes": [],
       "_model_module": "@jupyter-widgets/controls",
       "_model_module_version": "1.5.0",
       "_model_name": "HBoxModel",
       "_view_count": null,
       "_view_module": "@jupyter-widgets/controls",
       "_view_module_version": "1.5.0",
       "_view_name": "HBoxView",
       "box_style": "",
       "children": [
        "IPY_MODEL_c5ab54a595214a879a5b07daba8454fa",
        "IPY_MODEL_a69694e0d9154ebe9162aa4dd1aa89ae"
       ],
       "layout": "IPY_MODEL_0e29451bd74f437d8f8d4e53d124bdd4"
      }
     },
     "507e073c9f5a4d9cb78962751ed1d1db": {
      "model_module": "@jupyter-widgets/base",
      "model_module_version": "1.2.0",
      "model_name": "LayoutModel",
      "state": {
       "_model_module": "@jupyter-widgets/base",
       "_model_module_version": "1.2.0",
       "_model_name": "LayoutModel",
       "_view_count": null,
       "_view_module": "@jupyter-widgets/base",
       "_view_module_version": "1.2.0",
       "_view_name": "LayoutView",
       "align_content": null,
       "align_items": null,
       "align_self": null,
       "border": null,
       "bottom": null,
       "display": null,
       "flex": null,
       "flex_flow": null,
       "grid_area": null,
       "grid_auto_columns": null,
       "grid_auto_flow": null,
       "grid_auto_rows": null,
       "grid_column": null,
       "grid_gap": null,
       "grid_row": null,
       "grid_template_areas": null,
       "grid_template_columns": null,
       "grid_template_rows": null,
       "height": null,
       "justify_content": null,
       "justify_items": null,
       "left": null,
       "margin": null,
       "max_height": null,
       "max_width": null,
       "min_height": null,
       "min_width": null,
       "object_fit": null,
       "object_position": null,
       "order": null,
       "overflow": null,
       "overflow_x": null,
       "overflow_y": null,
       "padding": null,
       "right": null,
       "top": null,
       "visibility": null,
       "width": null
      }
     },
     "637980a34d7445ee8e9c37bee8ecbd3c": {
      "model_module": "@jupyter-widgets/controls",
      "model_module_version": "1.5.0",
      "model_name": "DescriptionStyleModel",
      "state": {
       "_model_module": "@jupyter-widgets/controls",
       "_model_module_version": "1.5.0",
       "_model_name": "DescriptionStyleModel",
       "_view_count": null,
       "_view_module": "@jupyter-widgets/base",
       "_view_module_version": "1.2.0",
       "_view_name": "StyleView",
       "description_width": ""
      }
     },
     "9f3ffaecc5de451bb974e4e5354d47b6": {
      "model_module": "@jupyter-widgets/base",
      "model_module_version": "1.2.0",
      "model_name": "LayoutModel",
      "state": {
       "_model_module": "@jupyter-widgets/base",
       "_model_module_version": "1.2.0",
       "_model_name": "LayoutModel",
       "_view_count": null,
       "_view_module": "@jupyter-widgets/base",
       "_view_module_version": "1.2.0",
       "_view_name": "LayoutView",
       "align_content": null,
       "align_items": null,
       "align_self": null,
       "border": null,
       "bottom": null,
       "display": null,
       "flex": null,
       "flex_flow": null,
       "grid_area": null,
       "grid_auto_columns": null,
       "grid_auto_flow": null,
       "grid_auto_rows": null,
       "grid_column": null,
       "grid_gap": null,
       "grid_row": null,
       "grid_template_areas": null,
       "grid_template_columns": null,
       "grid_template_rows": null,
       "height": null,
       "justify_content": null,
       "justify_items": null,
       "left": null,
       "margin": null,
       "max_height": null,
       "max_width": null,
       "min_height": null,
       "min_width": null,
       "object_fit": null,
       "object_position": null,
       "order": null,
       "overflow": null,
       "overflow_x": null,
       "overflow_y": null,
       "padding": null,
       "right": null,
       "top": null,
       "visibility": null,
       "width": null
      }
     },
     "a69694e0d9154ebe9162aa4dd1aa89ae": {
      "model_module": "@jupyter-widgets/controls",
      "model_module_version": "1.5.0",
      "model_name": "HTMLModel",
      "state": {
       "_dom_classes": [],
       "_model_module": "@jupyter-widgets/controls",
       "_model_module_version": "1.5.0",
       "_model_name": "HTMLModel",
       "_view_count": null,
       "_view_module": "@jupyter-widgets/controls",
       "_view_module_version": "1.5.0",
       "_view_name": "HTMLView",
       "description": "",
       "description_tooltip": null,
       "layout": "IPY_MODEL_507e073c9f5a4d9cb78962751ed1d1db",
       "placeholder": "​",
       "style": "IPY_MODEL_637980a34d7445ee8e9c37bee8ecbd3c",
       "value": " 206/206 [26:08&lt;00:00,  7.62s/it]"
      }
     },
     "a9ee2291efe74ea0a91e98ba062ebf32": {
      "model_module": "@jupyter-widgets/controls",
      "model_module_version": "1.5.0",
      "model_name": "ProgressStyleModel",
      "state": {
       "_model_module": "@jupyter-widgets/controls",
       "_model_module_version": "1.5.0",
       "_model_name": "ProgressStyleModel",
       "_view_count": null,
       "_view_module": "@jupyter-widgets/base",
       "_view_module_version": "1.2.0",
       "_view_name": "StyleView",
       "bar_color": null,
       "description_width": "initial"
      }
     },
     "c5ab54a595214a879a5b07daba8454fa": {
      "model_module": "@jupyter-widgets/controls",
      "model_module_version": "1.5.0",
      "model_name": "FloatProgressModel",
      "state": {
       "_dom_classes": [],
       "_model_module": "@jupyter-widgets/controls",
       "_model_module_version": "1.5.0",
       "_model_name": "FloatProgressModel",
       "_view_count": null,
       "_view_module": "@jupyter-widgets/controls",
       "_view_module_version": "1.5.0",
       "_view_name": "ProgressView",
       "bar_style": "success",
       "description": "100%",
       "description_tooltip": null,
       "layout": "IPY_MODEL_9f3ffaecc5de451bb974e4e5354d47b6",
       "max": 206.0,
       "min": 0.0,
       "orientation": "horizontal",
       "style": "IPY_MODEL_a9ee2291efe74ea0a91e98ba062ebf32",
       "value": 206.0
      }
     }
    },
    "version_major": 2,
    "version_minor": 0
   }
  }
 },
 "nbformat": 4,
 "nbformat_minor": 4
}
