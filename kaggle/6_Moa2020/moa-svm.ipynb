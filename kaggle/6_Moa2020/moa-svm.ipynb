{
 "cells": [
  {
   "cell_type": "markdown",
   "metadata": {
    "papermill": {
     "duration": 0.014977,
     "end_time": "2020-11-06T11:17:50.803293",
     "exception": false,
     "start_time": "2020-11-06T11:17:50.788316",
     "status": "completed"
    },
    "tags": []
   },
   "source": [
    "- incorporate validation method\n",
    "- vaildation seed change"
   ]
  },
  {
   "cell_type": "code",
   "execution_count": 1,
   "metadata": {
    "_cell_guid": "b1076dfc-b9ad-4769-8c92-a6c4dae69d19",
    "_uuid": "8f2839f25d086af736a60e9eeb907d3b93b6e0e5",
    "execution": {
     "iopub.execute_input": "2020-11-06T11:17:50.844565Z",
     "iopub.status.busy": "2020-11-06T11:17:50.843642Z",
     "iopub.status.idle": "2020-11-06T11:19:10.485473Z",
     "shell.execute_reply": "2020-11-06T11:19:10.484814Z"
    },
    "papermill": {
     "duration": 79.669911,
     "end_time": "2020-11-06T11:19:10.485602",
     "exception": false,
     "start_time": "2020-11-06T11:17:50.815691",
     "status": "completed"
    },
    "tags": []
   },
   "outputs": [],
   "source": [
    "import sys\n",
    "!cp ../input/rapids/rapids.0.15.0 /opt/conda/envs/rapids.tar.gz\n",
    "!cd /opt/conda/envs/ && tar -xzvf rapids.tar.gz > /dev/null\n",
    "sys.path = [\"/opt/conda/envs/rapids/lib/python3.7/site-packages\"] + sys.path\n",
    "sys.path = [\"/opt/conda/envs/rapids/lib/python3.7\"] + sys.path\n",
    "sys.path = [\"/opt/conda/envs/rapids/lib\"] + sys.path\n",
    "!cp /opt/conda/envs/rapids/lib/libxgboost.so /opt/conda/lib/"
   ]
  },
  {
   "cell_type": "code",
   "execution_count": 2,
   "metadata": {
    "_cell_guid": "79c7e3d0-c299-4dcb-8224-4455121ee9b0",
    "_uuid": "d629ff2d2480ee46fbb7e2d37f6b5fab8052498a",
    "execution": {
     "iopub.execute_input": "2020-11-06T11:19:42.301658Z",
     "iopub.status.busy": "2020-11-06T11:19:42.300649Z",
     "iopub.status.idle": "2020-11-06T11:19:45.414039Z",
     "shell.execute_reply": "2020-11-06T11:19:45.413058Z"
    },
    "papermill": {
     "duration": 3.15079,
     "end_time": "2020-11-06T11:19:45.414199",
     "exception": false,
     "start_time": "2020-11-06T11:19:42.263409",
     "status": "completed"
    },
    "tags": []
   },
   "outputs": [],
   "source": [
    "import os\n",
    "import warnings\n",
    "import numpy as np\n",
    "import pandas as pd \n",
    "import matplotlib.pyplot as plt\n",
    "from sklearn import preprocessing\n",
    "from sklearn.metrics import log_loss\n",
    "from sklearn.decomposition import PCA\n",
    "from sklearn.pipeline import Pipeline\n",
    "from tqdm import tqdm_notebook as tqdm\n",
    "from category_encoders import CountEncoder\n",
    "from sklearn.multioutput import MultiOutputClassifier\n",
    "from sklearn.model_selection import KFold, StratifiedKFold\n",
    "sys.path.append('../input/multilabelstraifier/')\n",
    "from ml_stratifiers import MultilabelStratifiedKFold\n",
    "warnings.filterwarnings('ignore')\n",
    "\n",
    "from sklearn.kernel_approximation import Nystroem\n",
    "from sklearn.isotonic import IsotonicRegression\n",
    "from sklearn.linear_model import LogisticRegression\n",
    "from sklearn.kernel_ridge import KernelRidge\n",
    "from cuml.svm import SVC, SVR"
   ]
  },
  {
   "cell_type": "markdown",
   "metadata": {
    "papermill": {
     "duration": 0.014408,
     "end_time": "2020-11-06T11:19:45.443211",
     "exception": false,
     "start_time": "2020-11-06T11:19:45.428803",
     "status": "completed"
    },
    "tags": []
   },
   "source": [
    "# preprocess"
   ]
  },
  {
   "cell_type": "code",
   "execution_count": 3,
   "metadata": {
    "execution": {
     "iopub.execute_input": "2020-11-06T11:19:45.482398Z",
     "iopub.status.busy": "2020-11-06T11:19:45.481444Z",
     "iopub.status.idle": "2020-11-06T11:19:51.303037Z",
     "shell.execute_reply": "2020-11-06T11:19:51.301580Z"
    },
    "papermill": {
     "duration": 5.846153,
     "end_time": "2020-11-06T11:19:51.303198",
     "exception": false,
     "start_time": "2020-11-06T11:19:45.457045",
     "status": "completed"
    },
    "tags": []
   },
   "outputs": [],
   "source": [
    "DATA_DIR = '/kaggle/input/lish-moa/'\n",
    "train = pd.read_csv(DATA_DIR + 'train_features.csv')\n",
    "targets = pd.read_csv(DATA_DIR + 'train_targets_scored.csv')\n",
    "test = pd.read_csv(DATA_DIR + 'test_features.csv')\n",
    "drug = pd.read_csv(DATA_DIR + 'train_drug.csv')"
   ]
  },
  {
   "cell_type": "code",
   "execution_count": 4,
   "metadata": {
    "execution": {
     "iopub.execute_input": "2020-11-06T11:19:51.336832Z",
     "iopub.status.busy": "2020-11-06T11:19:51.334802Z",
     "iopub.status.idle": "2020-11-06T11:19:51.337623Z",
     "shell.execute_reply": "2020-11-06T11:19:51.338177Z"
    },
    "papermill": {
     "duration": 0.022132,
     "end_time": "2020-11-06T11:19:51.338301",
     "exception": false,
     "start_time": "2020-11-06T11:19:51.316169",
     "status": "completed"
    },
    "tags": []
   },
   "outputs": [],
   "source": [
    "target_feats = [ i for i in targets.columns if i != \"sig_id\"]\n",
    "g_feats = [i for i in train.columns if \"g-\" in i]\n",
    "c_feats = [i for i in train.columns if \"c-\" in i]"
   ]
  },
  {
   "cell_type": "code",
   "execution_count": 5,
   "metadata": {
    "execution": {
     "iopub.execute_input": "2020-11-06T11:19:51.382607Z",
     "iopub.status.busy": "2020-11-06T11:19:51.381746Z",
     "iopub.status.idle": "2020-11-06T11:19:51.884116Z",
     "shell.execute_reply": "2020-11-06T11:19:51.882620Z"
    },
    "papermill": {
     "duration": 0.533167,
     "end_time": "2020-11-06T11:19:51.884252",
     "exception": false,
     "start_time": "2020-11-06T11:19:51.351085",
     "status": "completed"
    },
    "tags": []
   },
   "outputs": [],
   "source": [
    "noncons_train_index = train[train.cp_type==\"ctl_vehicle\"].index\n",
    "cons_train_index = train[train.cp_type!=\"ctl_vehicle\"].index\n",
    "noncons_test_index = test[test.cp_type==\"ctl_vehicle\"].index\n",
    "cons_test_index = test[test.cp_type!=\"ctl_vehicle\"].index\n",
    "\n",
    "test = test[test.index.isin(cons_test_index)].reset_index(drop=True)\n",
    "train = train[train.index.isin(cons_train_index)].reset_index(drop=True)\n",
    "targets = targets[targets.index.isin(cons_train_index)].reset_index(drop=True)\n",
    "fn_targets = targets.drop(\"sig_id\", axis=1).copy().to_numpy()\n",
    "y = targets.drop(\"sig_id\", axis=1).copy()"
   ]
  },
  {
   "cell_type": "code",
   "execution_count": 6,
   "metadata": {
    "execution": {
     "iopub.execute_input": "2020-11-06T11:19:51.942686Z",
     "iopub.status.busy": "2020-11-06T11:19:51.927765Z",
     "iopub.status.idle": "2020-11-06T11:19:52.128063Z",
     "shell.execute_reply": "2020-11-06T11:19:52.127422Z"
    },
    "papermill": {
     "duration": 0.2302,
     "end_time": "2020-11-06T11:19:52.128215",
     "exception": false,
     "start_time": "2020-11-06T11:19:51.898015",
     "status": "completed"
    },
    "tags": []
   },
   "outputs": [
    {
     "data": {
      "text/plain": [
       "array([[2, 3, 1, ..., 1, 2, 4]], dtype=int8)"
      ]
     },
     "execution_count": 6,
     "metadata": {},
     "output_type": "execute_result"
    }
   ],
   "source": [
    "# https://www.kaggle.com/c/lish-moa/discussion/195195\n",
    "N_SPLITS = 5\n",
    "seed = 14\n",
    "\n",
    "folds = []\n",
    "    \n",
    "# LOAD FILES\n",
    "train_score = targets.merge(drug, on='sig_id', how='left') \n",
    "\n",
    "# LOCATE DRUGS\n",
    "vc = train_score.drug_id.value_counts()\n",
    "vc1 = vc.loc[vc <= 18].index.sort_values()\n",
    "vc2 = vc.loc[vc > 18].index.sort_values()\n",
    "    \n",
    "# STRATIFY DRUGS 18X OR LESS\n",
    "dct1 = {}; dct2 = {}\n",
    "skf = KFold(n_splits = N_SPLITS, shuffle = True, random_state = seed)\n",
    "tmp = train_score.groupby('drug_id')[target_feats].mean().loc[vc1]\n",
    "for fold,(idxT,idxV) in enumerate(skf.split(tmp,tmp[target_feats])):\n",
    "    dd = {k:fold for k in tmp.index[idxV].values}\n",
    "    dct1.update(dd)\n",
    "\n",
    "# STRATIFY DRUGS MORE THAN 18X\n",
    "skf = KFold(n_splits = N_SPLITS, shuffle = True, random_state = seed)\n",
    "tmp = train_score.loc[train_score.drug_id.isin(vc2)].reset_index(drop = True)\n",
    "for fold,(idxT,idxV) in enumerate(skf.split(tmp,tmp[target_feats])):\n",
    "    dd = {k:fold for k in tmp.sig_id[idxV].values}\n",
    "    dct2.update(dd)\n",
    "    \n",
    "# ASSIGN FOLDS\n",
    "train_score['fold'] = train_score.drug_id.map(dct1)\n",
    "train_score.loc[train_score.fold.isna(),'fold'] = train_score.loc[train_score.fold.isna(),'sig_id'].map(dct2)\n",
    "train_score.fold = train_score.fold.astype('int8')\n",
    "folds.append(train_score.fold.values)\n",
    "    \n",
    "np.array(folds)"
   ]
  },
  {
   "cell_type": "markdown",
   "metadata": {
    "papermill": {
     "duration": 0.013258,
     "end_time": "2020-11-06T11:19:52.155349",
     "exception": false,
     "start_time": "2020-11-06T11:19:52.142091",
     "status": "completed"
    },
    "tags": []
   },
   "source": [
    "# Feature engineering"
   ]
  },
  {
   "cell_type": "code",
   "execution_count": 7,
   "metadata": {
    "execution": {
     "iopub.execute_input": "2020-11-06T11:19:52.190269Z",
     "iopub.status.busy": "2020-11-06T11:19:52.189189Z",
     "iopub.status.idle": "2020-11-06T11:19:53.148749Z",
     "shell.execute_reply": "2020-11-06T11:19:53.148208Z"
    },
    "papermill": {
     "duration": 0.980054,
     "end_time": "2020-11-06T11:19:53.148856",
     "exception": false,
     "start_time": "2020-11-06T11:19:52.168802",
     "status": "completed"
    },
    "tags": []
   },
   "outputs": [],
   "source": [
    "for i in c_feats + g_feats:\n",
    "    ss = preprocessing.StandardScaler()\n",
    "    ss.fit(train[i].values.reshape(-1,1))\n",
    "    train[i] = ss.transform(train[i].values.reshape(-1,1))\n",
    "    test[i] = ss.transform(test[i].values.reshape(-1,1))"
   ]
  },
  {
   "cell_type": "code",
   "execution_count": 8,
   "metadata": {
    "execution": {
     "iopub.execute_input": "2020-11-06T11:19:53.186713Z",
     "iopub.status.busy": "2020-11-06T11:19:53.185481Z",
     "iopub.status.idle": "2020-11-06T11:19:53.359667Z",
     "shell.execute_reply": "2020-11-06T11:19:53.360210Z"
    },
    "papermill": {
     "duration": 0.197475,
     "end_time": "2020-11-06T11:19:53.360370",
     "exception": false,
     "start_time": "2020-11-06T11:19:53.162895",
     "status": "completed"
    },
    "tags": []
   },
   "outputs": [
    {
     "name": "stdout",
     "output_type": "stream",
     "text": [
      "(21948, 875) (3624, 874)\n"
     ]
    }
   ],
   "source": [
    "def fe_simple(df, remove_features):\n",
    "    tmp = df.copy()\n",
    "    tmp.drop(remove_features, axis=1, inplace=True)\n",
    "    tmp.loc[:, 'cp_dose'] = tmp.loc[:, 'cp_dose'].map({'D1': 0, 'D2': 1})\n",
    "    return tmp\n",
    "\n",
    "remove_features = [\"cp_type\" , \"sig_id\"]\n",
    "train_fn = fe_simple(train, remove_features)\n",
    "test_fn = fe_simple(test, remove_features)\n",
    "train_fn[\"fold\"] = np.array(folds).reshape(-1,1)\n",
    "\n",
    "print(train_fn.shape, test_fn.shape)"
   ]
  },
  {
   "cell_type": "code",
   "execution_count": 9,
   "metadata": {
    "execution": {
     "iopub.execute_input": "2020-11-06T11:19:53.395997Z",
     "iopub.status.busy": "2020-11-06T11:19:53.394625Z",
     "iopub.status.idle": "2020-11-06T11:19:53.663998Z",
     "shell.execute_reply": "2020-11-06T11:19:53.663347Z"
    },
    "papermill": {
     "duration": 0.28929,
     "end_time": "2020-11-06T11:19:53.664185",
     "exception": false,
     "start_time": "2020-11-06T11:19:53.374895",
     "status": "completed"
    },
    "tags": []
   },
   "outputs": [],
   "source": [
    "fn_train = train_fn.copy().to_numpy()\n",
    "fn_test = test_fn.copy().to_numpy()"
   ]
  },
  {
   "cell_type": "markdown",
   "metadata": {
    "papermill": {
     "duration": 0.015057,
     "end_time": "2020-11-06T11:19:53.694878",
     "exception": false,
     "start_time": "2020-11-06T11:19:53.679821",
     "status": "completed"
    },
    "tags": []
   },
   "source": [
    "# modelling"
   ]
  },
  {
   "cell_type": "code",
   "execution_count": 10,
   "metadata": {
    "execution": {
     "iopub.execute_input": "2020-11-06T11:19:53.752175Z",
     "iopub.status.busy": "2020-11-06T11:19:53.750521Z",
     "iopub.status.idle": "2020-11-06T11:19:53.753625Z",
     "shell.execute_reply": "2020-11-06T11:19:53.754215Z"
    },
    "papermill": {
     "duration": 0.044584,
     "end_time": "2020-11-06T11:19:53.754357",
     "exception": false,
     "start_time": "2020-11-06T11:19:53.709773",
     "status": "completed"
    },
    "tags": []
   },
   "outputs": [],
   "source": [
    "N_STARTS = 1\n",
    "\n",
    "def modelling_svm(tr, ta, te):\n",
    "    svm0_oof = np.zeros([len(tr), ta.shape[1]])\n",
    "    svm0_test = np.zeros([len(te), ta.shape[1]])\n",
    "\n",
    "    svm1_test = np.zeros([len(te),ta.shape[1]])\n",
    "    svm1_oof = np.zeros([ta.shape[0],ta.shape[1]]) \n",
    "\n",
    "    for ind in tqdm(range(ta.shape[1])):\n",
    "        ind_target_sum = ta[:, ind].sum()\n",
    "        if ind_target_sum >= N_SPLITS:\n",
    "            for seed in range(N_STARTS):\n",
    "                for n in range(N_SPLITS):\n",
    "                    val_index = tr[:,-1] == n\n",
    "                    train_index = tr[:,-1] != n\n",
    "                    x_tr, x_val = tr[train_index], tr[val_index]\n",
    "                    y_tr, y_val = ta[train_index,ind], ta[val_index,ind]\n",
    "                    x_tr = np.delete(x_tr, -1, 1)\n",
    "                    x_val = np.delete(x_val, -1, 1)\n",
    "                    model = SVC(C = 40, cache_size = 2000)\n",
    "                    model.fit(x_tr, y_tr)\n",
    "                    svm0_test[:, ind] += model.decision_function(te) / (N_SPLITS * N_STARTS)\n",
    "                    svm0_oof[val_index, ind] += model.decision_function(x_val) / N_STARTS\n",
    "                    \n",
    "            for seed in range(N_STARTS):\n",
    "                for n in range(N_SPLITS):\n",
    "                    val_index = tr[:,-1] == n\n",
    "                    train_index = tr[:,-1] != n\n",
    "                    x_tr, x_val = svm0_oof[train_index, ind].reshape(-1, 1), svm0_oof[val_index, ind].reshape(-1, 1)\n",
    "                    y_tr, y_val = ta[train_index,ind], ta[val_index,ind]\n",
    "\n",
    "                    model = LogisticRegression(C = 35, max_iter = 1000)\n",
    "                    model.fit(x_tr, y_tr)\n",
    "                    svm1_test[:, ind] += model.predict_proba(svm0_test[:, ind].reshape(-1, 1))[:, 1] / (N_SPLITS * N_STARTS)\n",
    "                    svm1_oof[val_index, ind] += model.predict_proba(x_val)[:, 1] / N_STARTS\n",
    "\n",
    "        score1 = log_loss(ta[:, ind], svm0_oof[:, ind])\n",
    "        score2 = log_loss(ta[:, ind], svm1_oof[:, ind])\n",
    "        print('SVM Target ind {} score {}: {}'.format(ind, score1, score2))\n",
    "\n",
    "    return svm1_test, svm1_oof"
   ]
  },
  {
   "cell_type": "code",
   "execution_count": 11,
   "metadata": {
    "execution": {
     "iopub.execute_input": "2020-11-06T11:19:53.789802Z",
     "iopub.status.busy": "2020-11-06T11:19:53.789003Z",
     "iopub.status.idle": "2020-11-06T11:20:50.437252Z",
     "shell.execute_reply": "2020-11-06T11:20:50.436697Z"
    },
    "papermill": {
     "duration": 56.668127,
     "end_time": "2020-11-06T11:20:50.437374",
     "exception": false,
     "start_time": "2020-11-06T11:19:53.769247",
     "status": "completed"
    },
    "tags": []
   },
   "outputs": [
    {
     "data": {
      "application/vnd.jupyter.widget-view+json": {
       "model_id": "19cc8d402f6e4fc0af3fd9d77ed2b762",
       "version_major": 2,
       "version_minor": 0
      },
      "text/plain": [
       "HBox(children=(FloatProgress(value=0.0, max=206.0), HTML(value='')))"
      ]
     },
     "metadata": {},
     "output_type": "display_data"
    },
    {
     "name": "stdout",
     "output_type": "stream",
     "text": [
      "SVM Target ind 0 score 0.0267522871657328: 0.00550209276304411\n",
      "SVM Target ind 1 score 0.028325951116658196: 0.007144124390524162\n",
      "SVM Target ind 2 score 0.0377679348222106: 0.008848997109128507\n",
      "SVM Target ind 3 score 0.2990577363390083: 0.04960756282839346\n",
      "SVM Target ind 4 score 0.4736808913084225: 0.07195835780582674\n",
      "SVM Target ind 5 score 0.11487746841755518: 0.022492586148210068\n",
      "SVM Target ind 6 score 0.08498485171062671: 0.017518572690699712\n",
      "SVM Target ind 7 score 0.15108107602317727: 0.028045748601216763\n",
      "SVM Target ind 8 score 0.018893936516960013: 0.004634067353495084\n",
      "SVM Target ind 9 score 0.40890521936462043: 0.061481743476242405\n",
      "SVM Target ind 10 score 0.5665420808315081: 0.08250895436270779\n",
      "SVM Target ind 11 score 0.08284578918580845: 0.017052170133009994\n",
      "\n"
     ]
    },
    {
     "ename": "RuntimeError",
     "evalue": "Exception occured! file=/opt/conda/envs/rapids/conda-bld/libcuml_1598469299551/work/cpp/src/svm/svc_impl.cuh line=66: Only binary classification is implemented at the moment\nObtained 64 stack frames\n#0 in /opt/conda/envs/rapids/lib/python3.7/site-packages/cuml/common/../../../../libcuml++.so(_ZN8MLCommon9Exception16collectCallStackEv+0x3e) [0x7fa38dab166e]\n#1 in /opt/conda/envs/rapids/lib/python3.7/site-packages/cuml/common/../../../../libcuml++.so(_ZN8MLCommon9ExceptionC2ERKNSt7__cxx1112basic_stringIcSt11char_traitsIcESaIcEEE+0x71) [0x7fa38dab21e1]\n#2 in /opt/conda/envs/rapids/lib/python3.7/site-packages/cuml/common/../../../../libcuml++.so(_ZN2ML3SVM6svcFitIdEEvRKNS_10cumlHandleEPT_iiS6_RKNS0_12svmParameterERN8MLCommon6Matrix12KernelParamsERNS0_8svmModelIS5_EEPKS5_+0x1628) [0x7fa38ddd6718]\n#3 in /opt/conda/envs/rapids/lib/python3.7/site-packages/cuml/svm/svc.cpython-37m-x86_64-linux-gnu.so(+0x24994) [0x7fa36a3ea994]\n#4 in /opt/conda/envs/rapids/lib/python3.7/site-packages/cuml/svm/svc.cpython-37m-x86_64-linux-gnu.so(+0x28c49) [0x7fa36a3eec49]\n#5 in /opt/conda/bin/python(PyObject_Call+0x6e) [0x55ab061c175e]\n#6 in /opt/conda/bin/python(_PyEval_EvalFrameDefault+0x1f6a) [0x55ab06268d6a]\n#7 in /opt/conda/bin/python(_PyEval_EvalCodeWithName+0x5da) [0x55ab061afbda]\n#8 in /opt/conda/bin/python(_PyFunction_FastCallKeywords+0x387) [0x55ab061fe9e7]\n#9 in /opt/conda/bin/python(_PyEval_EvalFrameDefault+0x4cb9) [0x55ab0626bab9]\n#10 in /opt/conda/bin/python(_PyFunction_FastCallKeywords+0xfb) [0x55ab061fe75b]\n#11 in /opt/conda/bin/python(_PyEval_EvalFrameDefault+0x416) [0x55ab06267216]\n#12 in /opt/conda/bin/python(_PyEval_EvalCodeWithName+0x2f9) [0x55ab061af8f9]\n#13 in /opt/conda/bin/python(PyEval_EvalCodeEx+0x44) [0x55ab061b0824]\n#14 in /opt/conda/bin/python(PyEval_EvalCode+0x1c) [0x55ab061b084c]\n#15 in /opt/conda/bin/python(+0x1dcafd) [0x55ab06276afd]\n#16 in /opt/conda/bin/python(_PyMethodDef_RawFastCallKeywords+0xe9) [0x55ab061ff069]\n#17 in /opt/conda/bin/python(_PyCFunction_FastCallKeywords+0x21) [0x55ab061ff301]\n#18 in /opt/conda/bin/python(_PyEval_EvalFrameDefault+0x4904) [0x55ab0626b704]\n#19 in /opt/conda/bin/python(_PyGen_Send+0x2a2) [0x55ab06207212]\n#20 in /opt/conda/bin/python(_PyEval_EvalFrameDefault+0x1add) [0x55ab062688dd]\n#21 in /opt/conda/bin/python(_PyGen_Send+0x2a2) [0x55ab06207212]\n#22 in /opt/conda/bin/python(_PyEval_EvalFrameDefault+0x1add) [0x55ab062688dd]\n#23 in /opt/conda/bin/python(_PyGen_Send+0x2a2) [0x55ab06207212]\n#24 in /opt/conda/bin/python(_PyMethodDef_RawFastCallKeywords+0x8d) [0x55ab061ff00d]\n#25 in /opt/conda/bin/python(_PyMethodDescr_FastCallKeywords+0x4f) [0x55ab0620604f]\n#26 in /opt/conda/bin/python(_PyEval_EvalFrameDefault+0x4e0d) [0x55ab0626bc0d]\n#27 in /opt/conda/bin/python(_PyFunction_FastCallKeywords+0xfb) [0x55ab061fe75b]\n#28 in /opt/conda/bin/python(_PyEval_EvalFrameDefault+0x416) [0x55ab06267216]\n#29 in /opt/conda/bin/python(_PyFunction_FastCallKeywords+0xfb) [0x55ab061fe75b]\n#30 in /opt/conda/bin/python(_PyEval_EvalFrameDefault+0x6a0) [0x55ab062674a0]\n#31 in /opt/conda/bin/python(_PyEval_EvalCodeWithName+0x2f9) [0x55ab061af8f9]\n#32 in /opt/conda/bin/python(_PyFunction_FastCallDict+0x400) [0x55ab061b0c60]\n#33 in /opt/conda/bin/python(_PyObject_Call_Prepend+0x63) [0x55ab061cee03]\n#34 in /opt/conda/bin/python(PyObject_Call+0x6e) [0x55ab061c175e]\n#35 in /opt/conda/bin/python(_PyEval_EvalFrameDefault+0x1f6a) [0x55ab06268d6a]\n#36 in /opt/conda/bin/python(_PyEval_EvalCodeWithName+0x5da) [0x55ab061afbda]\n#37 in /opt/conda/bin/python(_PyFunction_FastCallKeywords+0x387) [0x55ab061fe9e7]\n#38 in /opt/conda/bin/python(_PyEval_EvalFrameDefault+0x14e7) [0x55ab062682e7]\n#39 in /opt/conda/bin/python(+0x16ccd9) [0x55ab06206cd9]\n#40 in /opt/conda/bin/python(_PyMethodDef_RawFastCallKeywords+0xe9) [0x55ab061ff069]\n#41 in /opt/conda/bin/python(_PyCFunction_FastCallKeywords+0x21) [0x55ab061ff301]\n#42 in /opt/conda/bin/python(_PyEval_EvalFrameDefault+0x4904) [0x55ab0626b704]\n#43 in /opt/conda/bin/python(_PyEval_EvalCodeWithName+0xab8) [0x55ab061b00b8]\n#44 in /opt/conda/bin/python(_PyFunction_FastCallKeywords+0x387) [0x55ab061fe9e7]\n#45 in /opt/conda/bin/python(_PyEval_EvalFrameDefault+0x6a0) [0x55ab062674a0]\n#46 in /opt/conda/bin/python(+0x16ccd9) [0x55ab06206cd9]\n#47 in /opt/conda/bin/python(_PyMethodDef_RawFastCallKeywords+0xe9) [0x55ab061ff069]\n#48 in /opt/conda/bin/python(_PyCFunction_FastCallKeywords+0x21) [0x55ab061ff301]\n#49 in /opt/conda/bin/python(_PyEval_EvalFrameDefault+0x4904) [0x55ab0626b704]\n#50 in /opt/conda/bin/python(_PyEval_EvalCodeWithName+0xab8) [0x55ab061b00b8]\n#51 in /opt/conda/bin/python(_PyFunction_FastCallKeywords+0x387) [0x55ab061fe9e7]\n#52 in /opt/conda/bin/python(_PyEval_EvalFrameDefault+0x416) [0x55ab06267216]\n#53 in /opt/conda/bin/python(+0x16ccd9) [0x55ab06206cd9]\n#54 in /opt/conda/bin/python(_PyMethodDef_RawFastCallKeywords+0xe9) [0x55ab061ff069]\n#55 in /opt/conda/bin/python(_PyCFunction_FastCallKeywords+0x21) [0x55ab061ff301]\n#56 in /opt/conda/bin/python(_PyEval_EvalFrameDefault+0x4904) [0x55ab0626b704]\n#57 in /opt/conda/bin/python(_PyEval_EvalCodeWithName+0xab8) [0x55ab061b00b8]\n#58 in /opt/conda/bin/python(_PyFunction_FastCallDict+0x1d5) [0x55ab061b0a35]\n#59 in /opt/conda/bin/python(_PyObject_Call_Prepend+0x63) [0x55ab061cee03]\n#60 in /opt/conda/bin/python(PyObject_Call+0x6e) [0x55ab061c175e]\n#61 in /opt/conda/bin/python(_PyEval_EvalFrameDefault+0x1f6a) [0x55ab06268d6a]\n#62 in /opt/conda/bin/python(_PyGen_Send+0x14c) [0x55ab062070bc]\n#63 in /opt/conda/bin/python(_PyMethodDef_RawFastCallKeywords+0x8d) [0x55ab061ff00d]\n",
     "output_type": "error",
     "traceback": [
      "\u001b[0;31m---------------------------------------------------------------------------\u001b[0m",
      "\u001b[0;31mRuntimeError\u001b[0m                              Traceback (most recent call last)",
      "\u001b[0;32m<ipython-input-11-365222044faf>\u001b[0m in \u001b[0;36m<module>\u001b[0;34m\u001b[0m\n\u001b[0;32m----> 1\u001b[0;31m \u001b[0msvm1_test\u001b[0m\u001b[0;34m,\u001b[0m \u001b[0msvm1_oof\u001b[0m \u001b[0;34m=\u001b[0m \u001b[0mmodelling_svm\u001b[0m\u001b[0;34m(\u001b[0m\u001b[0mfn_train\u001b[0m\u001b[0;34m,\u001b[0m \u001b[0mfn_targets\u001b[0m\u001b[0;34m,\u001b[0m \u001b[0mfn_test\u001b[0m\u001b[0;34m)\u001b[0m\u001b[0;34m\u001b[0m\u001b[0;34m\u001b[0m\u001b[0m\n\u001b[0m",
      "\u001b[0;32m<ipython-input-10-17965341ebf8>\u001b[0m in \u001b[0;36mmodelling_svm\u001b[0;34m(tr, ta, te)\u001b[0m\n\u001b[1;32m     20\u001b[0m                     \u001b[0mx_val\u001b[0m \u001b[0;34m=\u001b[0m \u001b[0mnp\u001b[0m\u001b[0;34m.\u001b[0m\u001b[0mdelete\u001b[0m\u001b[0;34m(\u001b[0m\u001b[0mx_val\u001b[0m\u001b[0;34m,\u001b[0m \u001b[0;34m-\u001b[0m\u001b[0;36m1\u001b[0m\u001b[0;34m,\u001b[0m \u001b[0;36m1\u001b[0m\u001b[0;34m)\u001b[0m\u001b[0;34m\u001b[0m\u001b[0;34m\u001b[0m\u001b[0m\n\u001b[1;32m     21\u001b[0m                     \u001b[0mmodel\u001b[0m \u001b[0;34m=\u001b[0m \u001b[0mSVC\u001b[0m\u001b[0;34m(\u001b[0m\u001b[0mC\u001b[0m \u001b[0;34m=\u001b[0m \u001b[0;36m40\u001b[0m\u001b[0;34m,\u001b[0m \u001b[0mcache_size\u001b[0m \u001b[0;34m=\u001b[0m \u001b[0;36m2000\u001b[0m\u001b[0;34m)\u001b[0m\u001b[0;34m\u001b[0m\u001b[0;34m\u001b[0m\u001b[0m\n\u001b[0;32m---> 22\u001b[0;31m                     \u001b[0mmodel\u001b[0m\u001b[0;34m.\u001b[0m\u001b[0mfit\u001b[0m\u001b[0;34m(\u001b[0m\u001b[0mx_tr\u001b[0m\u001b[0;34m,\u001b[0m \u001b[0my_tr\u001b[0m\u001b[0;34m)\u001b[0m\u001b[0;34m\u001b[0m\u001b[0;34m\u001b[0m\u001b[0m\n\u001b[0m\u001b[1;32m     23\u001b[0m                     \u001b[0msvm0_test\u001b[0m\u001b[0;34m[\u001b[0m\u001b[0;34m:\u001b[0m\u001b[0;34m,\u001b[0m \u001b[0mind\u001b[0m\u001b[0;34m]\u001b[0m \u001b[0;34m+=\u001b[0m \u001b[0mmodel\u001b[0m\u001b[0;34m.\u001b[0m\u001b[0mdecision_function\u001b[0m\u001b[0;34m(\u001b[0m\u001b[0mte\u001b[0m\u001b[0;34m)\u001b[0m \u001b[0;34m/\u001b[0m \u001b[0;34m(\u001b[0m\u001b[0mN_SPLITS\u001b[0m \u001b[0;34m*\u001b[0m \u001b[0mN_STARTS\u001b[0m\u001b[0;34m)\u001b[0m\u001b[0;34m\u001b[0m\u001b[0;34m\u001b[0m\u001b[0m\n\u001b[1;32m     24\u001b[0m                     \u001b[0msvm0_oof\u001b[0m\u001b[0;34m[\u001b[0m\u001b[0mval_index\u001b[0m\u001b[0;34m,\u001b[0m \u001b[0mind\u001b[0m\u001b[0;34m]\u001b[0m \u001b[0;34m+=\u001b[0m \u001b[0mmodel\u001b[0m\u001b[0;34m.\u001b[0m\u001b[0mdecision_function\u001b[0m\u001b[0;34m(\u001b[0m\u001b[0mx_val\u001b[0m\u001b[0;34m)\u001b[0m \u001b[0;34m/\u001b[0m \u001b[0mN_STARTS\u001b[0m\u001b[0;34m\u001b[0m\u001b[0;34m\u001b[0m\u001b[0m\n",
      "\u001b[0;32m/opt/conda/envs/rapids/lib/python3.7/site-packages/cuml/common/memory_utils.py\u001b[0m in \u001b[0;36mcupy_rmm_wrapper\u001b[0;34m(*args, **kwargs)\u001b[0m\n\u001b[1;32m     54\u001b[0m     \u001b[0;32mdef\u001b[0m \u001b[0mcupy_rmm_wrapper\u001b[0m\u001b[0;34m(\u001b[0m\u001b[0;34m*\u001b[0m\u001b[0margs\u001b[0m\u001b[0;34m,\u001b[0m \u001b[0;34m**\u001b[0m\u001b[0mkwargs\u001b[0m\u001b[0;34m)\u001b[0m\u001b[0;34m:\u001b[0m\u001b[0;34m\u001b[0m\u001b[0;34m\u001b[0m\u001b[0m\n\u001b[1;32m     55\u001b[0m         \u001b[0;32mwith\u001b[0m \u001b[0mcupy_using_allocator\u001b[0m\u001b[0;34m(\u001b[0m\u001b[0mrmm\u001b[0m\u001b[0;34m.\u001b[0m\u001b[0mrmm_cupy_allocator\u001b[0m\u001b[0;34m)\u001b[0m\u001b[0;34m:\u001b[0m\u001b[0;34m\u001b[0m\u001b[0;34m\u001b[0m\u001b[0m\n\u001b[0;32m---> 56\u001b[0;31m             \u001b[0;32mreturn\u001b[0m \u001b[0mfunc\u001b[0m\u001b[0;34m(\u001b[0m\u001b[0;34m*\u001b[0m\u001b[0margs\u001b[0m\u001b[0;34m,\u001b[0m \u001b[0;34m**\u001b[0m\u001b[0mkwargs\u001b[0m\u001b[0;34m)\u001b[0m\u001b[0;34m\u001b[0m\u001b[0;34m\u001b[0m\u001b[0m\n\u001b[0m\u001b[1;32m     57\u001b[0m \u001b[0;34m\u001b[0m\u001b[0m\n\u001b[1;32m     58\u001b[0m     \u001b[0;32mreturn\u001b[0m \u001b[0mcupy_rmm_wrapper\u001b[0m\u001b[0;34m\u001b[0m\u001b[0;34m\u001b[0m\u001b[0m\n",
      "\u001b[0;32mcuml/svm/svc.pyx\u001b[0m in \u001b[0;36mcuml.svm.svc.SVC.fit\u001b[0;34m()\u001b[0m\n",
      "\u001b[0;31mRuntimeError\u001b[0m: Exception occured! file=/opt/conda/envs/rapids/conda-bld/libcuml_1598469299551/work/cpp/src/svm/svc_impl.cuh line=66: Only binary classification is implemented at the moment\nObtained 64 stack frames\n#0 in /opt/conda/envs/rapids/lib/python3.7/site-packages/cuml/common/../../../../libcuml++.so(_ZN8MLCommon9Exception16collectCallStackEv+0x3e) [0x7fa38dab166e]\n#1 in /opt/conda/envs/rapids/lib/python3.7/site-packages/cuml/common/../../../../libcuml++.so(_ZN8MLCommon9ExceptionC2ERKNSt7__cxx1112basic_stringIcSt11char_traitsIcESaIcEEE+0x71) [0x7fa38dab21e1]\n#2 in /opt/conda/envs/rapids/lib/python3.7/site-packages/cuml/common/../../../../libcuml++.so(_ZN2ML3SVM6svcFitIdEEvRKNS_10cumlHandleEPT_iiS6_RKNS0_12svmParameterERN8MLCommon6Matrix12KernelParamsERNS0_8svmModelIS5_EEPKS5_+0x1628) [0x7fa38ddd6718]\n#3 in /opt/conda/envs/rapids/lib/python3.7/site-packages/cuml/svm/svc.cpython-37m-x86_64-linux-gnu.so(+0x24994) [0x7fa36a3ea994]\n#4 in /opt/conda/envs/rapids/lib/python3.7/site-packages/cuml/svm/svc.cpython-37m-x86_64-linux-gnu.so(+0x28c49) [0x7fa36a3eec49]\n#5 in /opt/conda/bin/python(PyObject_Call+0x6e) [0x55ab061c175e]\n#6 in /opt/conda/bin/python(_PyEval_EvalFrameDefault+0x1f6a) [0x55ab06268d6a]\n#7 in /opt/conda/bin/python(_PyEval_EvalCodeWithName+0x5da) [0x55ab061afbda]\n#8 in /opt/conda/bin/python(_PyFunction_FastCallKeywords+0x387) [0x55ab061fe9e7]\n#9 in /opt/conda/bin/python(_PyEval_EvalFrameDefault+0x4cb9) [0x55ab0626bab9]\n#10 in /opt/conda/bin/python(_PyFunction_FastCallKeywords+0xfb) [0x55ab061fe75b]\n#11 in /opt/conda/bin/python(_PyEval_EvalFrameDefault+0x416) [0x55ab06267216]\n#12 in /opt/conda/bin/python(_PyEval_EvalCodeWithName+0x2f9) [0x55ab061af8f9]\n#13 in /opt/conda/bin/python(PyEval_EvalCodeEx+0x44) [0x55ab061b0824]\n#14 in /opt/conda/bin/python(PyEval_EvalCode+0x1c) [0x55ab061b084c]\n#15 in /opt/conda/bin/python(+0x1dcafd) [0x55ab06276afd]\n#16 in /opt/conda/bin/python(_PyMethodDef_RawFastCallKeywords+0xe9) [0x55ab061ff069]\n#17 in /opt/conda/bin/python(_PyCFunction_FastCallKeywords+0x21) [0x55ab061ff301]\n#18 in /opt/conda/bin/python(_PyEval_EvalFrameDefault+0x4904) [0x55ab0626b704]\n#19 in /opt/conda/bin/python(_PyGen_Send+0x2a2) [0x55ab06207212]\n#20 in /opt/conda/bin/python(_PyEval_EvalFrameDefault+0x1add) [0x55ab062688dd]\n#21 in /opt/conda/bin/python(_PyGen_Send+0x2a2) [0x55ab06207212]\n#22 in /opt/conda/bin/python(_PyEval_EvalFrameDefault+0x1add) [0x55ab062688dd]\n#23 in /opt/conda/bin/python(_PyGen_Send+0x2a2) [0x55ab06207212]\n#24 in /opt/conda/bin/python(_PyMethodDef_RawFastCallKeywords+0x8d) [0x55ab061ff00d]\n#25 in /opt/conda/bin/python(_PyMethodDescr_FastCallKeywords+0x4f) [0x55ab0620604f]\n#26 in /opt/conda/bin/python(_PyEval_EvalFrameDefault+0x4e0d) [0x55ab0626bc0d]\n#27 in /opt/conda/bin/python(_PyFunction_FastCallKeywords+0xfb) [0x55ab061fe75b]\n#28 in /opt/conda/bin/python(_PyEval_EvalFrameDefault+0x416) [0x55ab06267216]\n#29 in /opt/conda/bin/python(_PyFunction_FastCallKeywords+0xfb) [0x55ab061fe75b]\n#30 in /opt/conda/bin/python(_PyEval_EvalFrameDefault+0x6a0) [0x55ab062674a0]\n#31 in /opt/conda/bin/python(_PyEval_EvalCodeWithName+0x2f9) [0x55ab061af8f9]\n#32 in /opt/conda/bin/python(_PyFunction_FastCallDict+0x400) [0x55ab061b0c60]\n#33 in /opt/conda/bin/python(_PyObject_Call_Prepend+0x63) [0x55ab061cee03]\n#34 in /opt/conda/bin/python(PyObject_Call+0x6e) [0x55ab061c175e]\n#35 in /opt/conda/bin/python(_PyEval_EvalFrameDefault+0x1f6a) [0x55ab06268d6a]\n#36 in /opt/conda/bin/python(_PyEval_EvalCodeWithName+0x5da) [0x55ab061afbda]\n#37 in /opt/conda/bin/python(_PyFunction_FastCallKeywords+0x387) [0x55ab061fe9e7]\n#38 in /opt/conda/bin/python(_PyEval_EvalFrameDefault+0x14e7) [0x55ab062682e7]\n#39 in /opt/conda/bin/python(+0x16ccd9) [0x55ab06206cd9]\n#40 in /opt/conda/bin/python(_PyMethodDef_RawFastCallKeywords+0xe9) [0x55ab061ff069]\n#41 in /opt/conda/bin/python(_PyCFunction_FastCallKeywords+0x21) [0x55ab061ff301]\n#42 in /opt/conda/bin/python(_PyEval_EvalFrameDefault+0x4904) [0x55ab0626b704]\n#43 in /opt/conda/bin/python(_PyEval_EvalCodeWithName+0xab8) [0x55ab061b00b8]\n#44 in /opt/conda/bin/python(_PyFunction_FastCallKeywords+0x387) [0x55ab061fe9e7]\n#45 in /opt/conda/bin/python(_PyEval_EvalFrameDefault+0x6a0) [0x55ab062674a0]\n#46 in /opt/conda/bin/python(+0x16ccd9) [0x55ab06206cd9]\n#47 in /opt/conda/bin/python(_PyMethodDef_RawFastCallKeywords+0xe9) [0x55ab061ff069]\n#48 in /opt/conda/bin/python(_PyCFunction_FastCallKeywords+0x21) [0x55ab061ff301]\n#49 in /opt/conda/bin/python(_PyEval_EvalFrameDefault+0x4904) [0x55ab0626b704]\n#50 in /opt/conda/bin/python(_PyEval_EvalCodeWithName+0xab8) [0x55ab061b00b8]\n#51 in /opt/conda/bin/python(_PyFunction_FastCallKeywords+0x387) [0x55ab061fe9e7]\n#52 in /opt/conda/bin/python(_PyEval_EvalFrameDefault+0x416) [0x55ab06267216]\n#53 in /opt/conda/bin/python(+0x16ccd9) [0x55ab06206cd9]\n#54 in /opt/conda/bin/python(_PyMethodDef_RawFastCallKeywords+0xe9) [0x55ab061ff069]\n#55 in /opt/conda/bin/python(_PyCFunction_FastCallKeywords+0x21) [0x55ab061ff301]\n#56 in /opt/conda/bin/python(_PyEval_EvalFrameDefault+0x4904) [0x55ab0626b704]\n#57 in /opt/conda/bin/python(_PyEval_EvalCodeWithName+0xab8) [0x55ab061b00b8]\n#58 in /opt/conda/bin/python(_PyFunction_FastCallDict+0x1d5) [0x55ab061b0a35]\n#59 in /opt/conda/bin/python(_PyObject_Call_Prepend+0x63) [0x55ab061cee03]\n#60 in /opt/conda/bin/python(PyObject_Call+0x6e) [0x55ab061c175e]\n#61 in /opt/conda/bin/python(_PyEval_EvalFrameDefault+0x1f6a) [0x55ab06268d6a]\n#62 in /opt/conda/bin/python(_PyGen_Send+0x14c) [0x55ab062070bc]\n#63 in /opt/conda/bin/python(_PyMethodDef_RawFastCallKeywords+0x8d) [0x55ab061ff00d]\n"
     ]
    }
   ],
   "source": [
    "svm1_test, svm1_oof = modelling_svm(fn_train, fn_targets, fn_test)"
   ]
  },
  {
   "cell_type": "code",
   "execution_count": 12,
   "metadata": {
    "execution": {
     "iopub.execute_input": "2020-11-06T11:20:50.486512Z",
     "iopub.status.busy": "2020-11-06T11:20:50.484842Z",
     "iopub.status.idle": "2020-11-06T11:20:50.506855Z",
     "shell.execute_reply": "2020-11-06T11:20:50.506187Z"
    },
    "papermill": {
     "duration": 0.049105,
     "end_time": "2020-11-06T11:20:50.506988",
     "exception": false,
     "start_time": "2020-11-06T11:20:50.457883",
     "status": "completed"
    },
    "tags": []
   },
   "outputs": [
    {
     "ename": "NameError",
     "evalue": "name 'svm1_oof' is not defined",
     "output_type": "error",
     "traceback": [
      "\u001b[0;31m---------------------------------------------------------------------------\u001b[0m",
      "\u001b[0;31mNameError\u001b[0m                                 Traceback (most recent call last)",
      "\u001b[0;32m<ipython-input-12-e7df6912930d>\u001b[0m in \u001b[0;36m<module>\u001b[0;34m\u001b[0m\n\u001b[1;32m      1\u001b[0m \u001b[0mcheck_svm1\u001b[0m \u001b[0;34m=\u001b[0m \u001b[0mnp\u001b[0m\u001b[0;34m.\u001b[0m\u001b[0mzeros\u001b[0m\u001b[0;34m(\u001b[0m\u001b[0;34m[\u001b[0m\u001b[0mtargets\u001b[0m\u001b[0;34m.\u001b[0m\u001b[0mshape\u001b[0m\u001b[0;34m[\u001b[0m\u001b[0;36m0\u001b[0m\u001b[0;34m]\u001b[0m\u001b[0;34m,\u001b[0m \u001b[0mtargets\u001b[0m\u001b[0;34m.\u001b[0m\u001b[0mshape\u001b[0m\u001b[0;34m[\u001b[0m\u001b[0;36m1\u001b[0m\u001b[0;34m]\u001b[0m\u001b[0;34m-\u001b[0m\u001b[0;36m1\u001b[0m\u001b[0;34m]\u001b[0m\u001b[0;34m)\u001b[0m\u001b[0;34m\u001b[0m\u001b[0;34m\u001b[0m\u001b[0m\n\u001b[0;32m----> 2\u001b[0;31m \u001b[0mcheck_svm1\u001b[0m\u001b[0;34m[\u001b[0m\u001b[0mcons_train_index\u001b[0m\u001b[0;34m,\u001b[0m\u001b[0;34m:\u001b[0m\u001b[0;34m]\u001b[0m \u001b[0;34m=\u001b[0m \u001b[0msvm1_oof\u001b[0m\u001b[0;34m\u001b[0m\u001b[0;34m\u001b[0m\u001b[0m\n\u001b[0m\u001b[1;32m      3\u001b[0m \u001b[0mprint\u001b[0m\u001b[0;34m(\u001b[0m\u001b[0;34m'OOF log loss: '\u001b[0m\u001b[0;34m,\u001b[0m \u001b[0mlog_loss\u001b[0m\u001b[0;34m(\u001b[0m\u001b[0mnp\u001b[0m\u001b[0;34m.\u001b[0m\u001b[0mravel\u001b[0m\u001b[0;34m(\u001b[0m\u001b[0my\u001b[0m\u001b[0;34m)\u001b[0m\u001b[0;34m,\u001b[0m \u001b[0mnp\u001b[0m\u001b[0;34m.\u001b[0m\u001b[0mravel\u001b[0m\u001b[0;34m(\u001b[0m\u001b[0mcheck_svm1\u001b[0m\u001b[0;34m)\u001b[0m\u001b[0;34m)\u001b[0m\u001b[0;34m)\u001b[0m\u001b[0;34m\u001b[0m\u001b[0;34m\u001b[0m\u001b[0m\n",
      "\u001b[0;31mNameError\u001b[0m: name 'svm1_oof' is not defined"
     ]
    }
   ],
   "source": [
    "check_svm1 = np.zeros([targets.shape[0], targets.shape[1]-1])\n",
    "check_svm1[cons_train_index,:] = svm1_oof\n",
    "print('OOF log loss: ', log_loss(np.ravel(y), np.ravel(check_svm1)))"
   ]
  },
  {
   "cell_type": "markdown",
   "metadata": {
    "papermill": {
     "duration": 0.02106,
     "end_time": "2020-11-06T11:20:50.550077",
     "exception": false,
     "start_time": "2020-11-06T11:20:50.529017",
     "status": "completed"
    },
    "tags": []
   },
   "source": [
    "# submission"
   ]
  },
  {
   "cell_type": "code",
   "execution_count": 13,
   "metadata": {
    "execution": {
     "iopub.execute_input": "2020-11-06T11:20:50.599656Z",
     "iopub.status.busy": "2020-11-06T11:20:50.598412Z",
     "iopub.status.idle": "2020-11-06T11:20:50.730830Z",
     "shell.execute_reply": "2020-11-06T11:20:50.730306Z"
    },
    "papermill": {
     "duration": 0.159718,
     "end_time": "2020-11-06T11:20:50.730939",
     "exception": false,
     "start_time": "2020-11-06T11:20:50.571221",
     "status": "completed"
    },
    "tags": []
   },
   "outputs": [
    {
     "ename": "NameError",
     "evalue": "name 'svm1_test' is not defined",
     "output_type": "error",
     "traceback": [
      "\u001b[0;31m---------------------------------------------------------------------------\u001b[0m",
      "\u001b[0;31mNameError\u001b[0m                                 Traceback (most recent call last)",
      "\u001b[0;32m<ipython-input-13-70f5627b29e2>\u001b[0m in \u001b[0;36m<module>\u001b[0;34m\u001b[0m\n\u001b[1;32m      1\u001b[0m \u001b[0msub\u001b[0m \u001b[0;34m=\u001b[0m \u001b[0mpd\u001b[0m\u001b[0;34m.\u001b[0m\u001b[0mread_csv\u001b[0m\u001b[0;34m(\u001b[0m\u001b[0mDATA_DIR\u001b[0m \u001b[0;34m+\u001b[0m \u001b[0;34m'sample_submission.csv'\u001b[0m\u001b[0;34m)\u001b[0m\u001b[0;34m\u001b[0m\u001b[0;34m\u001b[0m\u001b[0m\n\u001b[1;32m      2\u001b[0m \u001b[0;34m\u001b[0m\u001b[0m\n\u001b[0;32m----> 3\u001b[0;31m \u001b[0msub\u001b[0m\u001b[0;34m.\u001b[0m\u001b[0mloc\u001b[0m\u001b[0;34m[\u001b[0m\u001b[0mcons_test_index\u001b[0m\u001b[0;34m,\u001b[0m\u001b[0mtarget_feats\u001b[0m\u001b[0;34m]\u001b[0m \u001b[0;34m=\u001b[0m  \u001b[0msvm1_test\u001b[0m\u001b[0;34m\u001b[0m\u001b[0;34m\u001b[0m\u001b[0m\n\u001b[0m\u001b[1;32m      4\u001b[0m \u001b[0msub\u001b[0m\u001b[0;34m.\u001b[0m\u001b[0mloc\u001b[0m\u001b[0;34m[\u001b[0m\u001b[0mnoncons_test_index\u001b[0m\u001b[0;34m,\u001b[0m\u001b[0mtarget_feats\u001b[0m\u001b[0;34m]\u001b[0m \u001b[0;34m=\u001b[0m \u001b[0;36m0\u001b[0m\u001b[0;34m\u001b[0m\u001b[0;34m\u001b[0m\u001b[0m\n\u001b[1;32m      5\u001b[0m \u001b[0msub\u001b[0m\u001b[0;34m.\u001b[0m\u001b[0mto_csv\u001b[0m\u001b[0;34m(\u001b[0m\u001b[0;34m'submission.csv'\u001b[0m\u001b[0;34m,\u001b[0m \u001b[0mindex\u001b[0m\u001b[0;34m=\u001b[0m\u001b[0;32mFalse\u001b[0m\u001b[0;34m)\u001b[0m\u001b[0;34m\u001b[0m\u001b[0;34m\u001b[0m\u001b[0m\n",
      "\u001b[0;31mNameError\u001b[0m: name 'svm1_test' is not defined"
     ]
    }
   ],
   "source": [
    "sub = pd.read_csv(DATA_DIR + 'sample_submission.csv')\n",
    "\n",
    "sub.loc[cons_test_index,target_feats] =  svm1_test \n",
    "sub.loc[noncons_test_index,target_feats] = 0\n",
    "sub.to_csv('submission.csv', index=False)"
   ]
  }
 ],
 "metadata": {
  "kernelspec": {
   "display_name": "Python 3",
   "language": "python",
   "name": "python3"
  },
  "language_info": {
   "codemirror_mode": {
    "name": "ipython",
    "version": 3
   },
   "file_extension": ".py",
   "mimetype": "text/x-python",
   "name": "python",
   "nbconvert_exporter": "python",
   "pygments_lexer": "ipython3",
   "version": "3.7.6"
  },
  "papermill": {
   "duration": 186.006815,
   "end_time": "2020-11-06T11:20:51.866662",
   "environment_variables": {},
   "exception": null,
   "input_path": "__notebook__.ipynb",
   "output_path": "__notebook__.ipynb",
   "parameters": {},
   "start_time": "2020-11-06T11:17:45.859847",
   "version": "2.1.0"
  },
  "widgets": {
   "application/vnd.jupyter.widget-state+json": {
    "state": {
     "125720d1bc7d4490a459e552ee095596": {
      "model_module": "@jupyter-widgets/base",
      "model_module_version": "1.2.0",
      "model_name": "LayoutModel",
      "state": {
       "_model_module": "@jupyter-widgets/base",
       "_model_module_version": "1.2.0",
       "_model_name": "LayoutModel",
       "_view_count": null,
       "_view_module": "@jupyter-widgets/base",
       "_view_module_version": "1.2.0",
       "_view_name": "LayoutView",
       "align_content": null,
       "align_items": null,
       "align_self": null,
       "border": null,
       "bottom": null,
       "display": null,
       "flex": null,
       "flex_flow": null,
       "grid_area": null,
       "grid_auto_columns": null,
       "grid_auto_flow": null,
       "grid_auto_rows": null,
       "grid_column": null,
       "grid_gap": null,
       "grid_row": null,
       "grid_template_areas": null,
       "grid_template_columns": null,
       "grid_template_rows": null,
       "height": null,
       "justify_content": null,
       "justify_items": null,
       "left": null,
       "margin": null,
       "max_height": null,
       "max_width": null,
       "min_height": null,
       "min_width": null,
       "object_fit": null,
       "object_position": null,
       "order": null,
       "overflow": null,
       "overflow_x": null,
       "overflow_y": null,
       "padding": null,
       "right": null,
       "top": null,
       "visibility": null,
       "width": null
      }
     },
     "19cc8d402f6e4fc0af3fd9d77ed2b762": {
      "model_module": "@jupyter-widgets/controls",
      "model_module_version": "1.5.0",
      "model_name": "HBoxModel",
      "state": {
       "_dom_classes": [],
       "_model_module": "@jupyter-widgets/controls",
       "_model_module_version": "1.5.0",
       "_model_name": "HBoxModel",
       "_view_count": null,
       "_view_module": "@jupyter-widgets/controls",
       "_view_module_version": "1.5.0",
       "_view_name": "HBoxView",
       "box_style": "",
       "children": [
        "IPY_MODEL_766fa2f283574f2097b6f15934ead570",
        "IPY_MODEL_a79d41cddccf4096a4cdd8a72dacbb32"
       ],
       "layout": "IPY_MODEL_a2359dc4367647ebbf8b498960f39bdf"
      }
     },
     "5183bd9e36f94b239d74d64fadb21581": {
      "model_module": "@jupyter-widgets/controls",
      "model_module_version": "1.5.0",
      "model_name": "ProgressStyleModel",
      "state": {
       "_model_module": "@jupyter-widgets/controls",
       "_model_module_version": "1.5.0",
       "_model_name": "ProgressStyleModel",
       "_view_count": null,
       "_view_module": "@jupyter-widgets/base",
       "_view_module_version": "1.2.0",
       "_view_name": "StyleView",
       "bar_color": null,
       "description_width": "initial"
      }
     },
     "766fa2f283574f2097b6f15934ead570": {
      "model_module": "@jupyter-widgets/controls",
      "model_module_version": "1.5.0",
      "model_name": "FloatProgressModel",
      "state": {
       "_dom_classes": [],
       "_model_module": "@jupyter-widgets/controls",
       "_model_module_version": "1.5.0",
       "_model_name": "FloatProgressModel",
       "_view_count": null,
       "_view_module": "@jupyter-widgets/controls",
       "_view_module_version": "1.5.0",
       "_view_name": "ProgressView",
       "bar_style": "danger",
       "description": "  6%",
       "description_tooltip": null,
       "layout": "IPY_MODEL_125720d1bc7d4490a459e552ee095596",
       "max": 206.0,
       "min": 0.0,
       "orientation": "horizontal",
       "style": "IPY_MODEL_5183bd9e36f94b239d74d64fadb21581",
       "value": 12.0
      }
     },
     "98dfbdefe9c34a52a569b61c30b5da4a": {
      "model_module": "@jupyter-widgets/base",
      "model_module_version": "1.2.0",
      "model_name": "LayoutModel",
      "state": {
       "_model_module": "@jupyter-widgets/base",
       "_model_module_version": "1.2.0",
       "_model_name": "LayoutModel",
       "_view_count": null,
       "_view_module": "@jupyter-widgets/base",
       "_view_module_version": "1.2.0",
       "_view_name": "LayoutView",
       "align_content": null,
       "align_items": null,
       "align_self": null,
       "border": null,
       "bottom": null,
       "display": null,
       "flex": null,
       "flex_flow": null,
       "grid_area": null,
       "grid_auto_columns": null,
       "grid_auto_flow": null,
       "grid_auto_rows": null,
       "grid_column": null,
       "grid_gap": null,
       "grid_row": null,
       "grid_template_areas": null,
       "grid_template_columns": null,
       "grid_template_rows": null,
       "height": null,
       "justify_content": null,
       "justify_items": null,
       "left": null,
       "margin": null,
       "max_height": null,
       "max_width": null,
       "min_height": null,
       "min_width": null,
       "object_fit": null,
       "object_position": null,
       "order": null,
       "overflow": null,
       "overflow_x": null,
       "overflow_y": null,
       "padding": null,
       "right": null,
       "top": null,
       "visibility": null,
       "width": null
      }
     },
     "a2359dc4367647ebbf8b498960f39bdf": {
      "model_module": "@jupyter-widgets/base",
      "model_module_version": "1.2.0",
      "model_name": "LayoutModel",
      "state": {
       "_model_module": "@jupyter-widgets/base",
       "_model_module_version": "1.2.0",
       "_model_name": "LayoutModel",
       "_view_count": null,
       "_view_module": "@jupyter-widgets/base",
       "_view_module_version": "1.2.0",
       "_view_name": "LayoutView",
       "align_content": null,
       "align_items": null,
       "align_self": null,
       "border": null,
       "bottom": null,
       "display": null,
       "flex": null,
       "flex_flow": null,
       "grid_area": null,
       "grid_auto_columns": null,
       "grid_auto_flow": null,
       "grid_auto_rows": null,
       "grid_column": null,
       "grid_gap": null,
       "grid_row": null,
       "grid_template_areas": null,
       "grid_template_columns": null,
       "grid_template_rows": null,
       "height": null,
       "justify_content": null,
       "justify_items": null,
       "left": null,
       "margin": null,
       "max_height": null,
       "max_width": null,
       "min_height": null,
       "min_width": null,
       "object_fit": null,
       "object_position": null,
       "order": null,
       "overflow": null,
       "overflow_x": null,
       "overflow_y": null,
       "padding": null,
       "right": null,
       "top": null,
       "visibility": null,
       "width": null
      }
     },
     "a79d41cddccf4096a4cdd8a72dacbb32": {
      "model_module": "@jupyter-widgets/controls",
      "model_module_version": "1.5.0",
      "model_name": "HTMLModel",
      "state": {
       "_dom_classes": [],
       "_model_module": "@jupyter-widgets/controls",
       "_model_module_version": "1.5.0",
       "_model_name": "HTMLModel",
       "_view_count": null,
       "_view_module": "@jupyter-widgets/controls",
       "_view_module_version": "1.5.0",
       "_view_name": "HTMLView",
       "description": "",
       "description_tooltip": null,
       "layout": "IPY_MODEL_98dfbdefe9c34a52a569b61c30b5da4a",
       "placeholder": "​",
       "style": "IPY_MODEL_c490dc8c0f224fd4a93182ed003b5a25",
       "value": " 12/206 [00:56&lt;15:12,  4.70s/it]"
      }
     },
     "c490dc8c0f224fd4a93182ed003b5a25": {
      "model_module": "@jupyter-widgets/controls",
      "model_module_version": "1.5.0",
      "model_name": "DescriptionStyleModel",
      "state": {
       "_model_module": "@jupyter-widgets/controls",
       "_model_module_version": "1.5.0",
       "_model_name": "DescriptionStyleModel",
       "_view_count": null,
       "_view_module": "@jupyter-widgets/base",
       "_view_module_version": "1.2.0",
       "_view_name": "StyleView",
       "description_width": ""
      }
     }
    },
    "version_major": 2,
    "version_minor": 0
   }
  }
 },
 "nbformat": 4,
 "nbformat_minor": 4
}
