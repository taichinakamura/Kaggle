{
 "cells": [
  {
   "cell_type": "markdown",
   "metadata": {
    "papermill": {
     "duration": 0.018214,
     "end_time": "2020-11-05T04:26:29.455785",
     "exception": false,
     "start_time": "2020-11-05T04:26:29.437571",
     "status": "completed"
    },
    "tags": []
   },
   "source": [
    "- cancel clipping\n",
    "- change fold method by drug\n",
    "- fold 7, 4 ensemble"
   ]
  },
  {
   "cell_type": "code",
   "execution_count": 1,
   "metadata": {
    "execution": {
     "iopub.execute_input": "2020-11-05T04:26:29.498490Z",
     "iopub.status.busy": "2020-11-05T04:26:29.497556Z",
     "iopub.status.idle": "2020-11-05T04:26:38.054839Z",
     "shell.execute_reply": "2020-11-05T04:26:38.055403Z"
    },
    "papermill": {
     "duration": 8.58221,
     "end_time": "2020-11-05T04:26:38.055580",
     "exception": false,
     "start_time": "2020-11-05T04:26:29.473370",
     "status": "completed"
    },
    "tags": []
   },
   "outputs": [
    {
     "name": "stdout",
     "output_type": "stream",
     "text": [
      "Looking in links: /kaggle/input/pytorchtabnet/pytorch_tabnet-2.0.0-py3-none-any.whl\r\n",
      "Processing /kaggle/input/pytorchtabnet/pytorch_tabnet-2.0.0-py3-none-any.whl\r\n",
      "Requirement already satisfied: scipy>1.4 in /opt/conda/lib/python3.7/site-packages (from pytorch-tabnet) (1.4.1)\r\n",
      "Requirement already satisfied: torch<2.0,>=1.2 in /opt/conda/lib/python3.7/site-packages (from pytorch-tabnet) (1.6.0)\r\n",
      "Requirement already satisfied: scikit_learn>0.21 in /opt/conda/lib/python3.7/site-packages (from pytorch-tabnet) (0.23.2)\r\n",
      "Requirement already satisfied: tqdm<5.0,>=4.36 in /opt/conda/lib/python3.7/site-packages (from pytorch-tabnet) (4.45.0)\r\n",
      "Requirement already satisfied: numpy<2.0,>=1.17 in /opt/conda/lib/python3.7/site-packages (from pytorch-tabnet) (1.18.5)\r\n",
      "Requirement already satisfied: future in /opt/conda/lib/python3.7/site-packages (from torch<2.0,>=1.2->pytorch-tabnet) (0.18.2)\r\n",
      "Requirement already satisfied: joblib>=0.11 in /opt/conda/lib/python3.7/site-packages (from scikit_learn>0.21->pytorch-tabnet) (0.14.1)\r\n",
      "Requirement already satisfied: threadpoolctl>=2.0.0 in /opt/conda/lib/python3.7/site-packages (from scikit_learn>0.21->pytorch-tabnet) (2.1.0)\r\n",
      "Installing collected packages: pytorch-tabnet\r\n",
      "Successfully installed pytorch-tabnet-2.0.0\r\n"
     ]
    }
   ],
   "source": [
    "!pip install --no-index --find-links /kaggle/input/pytorchtabnet/pytorch_tabnet-2.0.0-py3-none-any.whl pytorch-tabnet"
   ]
  },
  {
   "cell_type": "code",
   "execution_count": 2,
   "metadata": {
    "_cell_guid": "b1076dfc-b9ad-4769-8c92-a6c4dae69d19",
    "_uuid": "8f2839f25d086af736a60e9eeb907d3b93b6e0e5",
    "execution": {
     "iopub.execute_input": "2020-11-05T04:26:38.106033Z",
     "iopub.status.busy": "2020-11-05T04:26:38.103919Z",
     "iopub.status.idle": "2020-11-05T04:26:47.200215Z",
     "shell.execute_reply": "2020-11-05T04:26:47.199057Z"
    },
    "papermill": {
     "duration": 9.123528,
     "end_time": "2020-11-05T04:26:47.200391",
     "exception": false,
     "start_time": "2020-11-05T04:26:38.076863",
     "status": "completed"
    },
    "tags": []
   },
   "outputs": [],
   "source": [
    "import os\n",
    "import sys\n",
    "import random\n",
    "import warnings\n",
    "import numpy as np\n",
    "import pandas as pd \n",
    "from umap import UMAP\n",
    "from sklearn import preprocessing\n",
    "from sklearn.metrics import log_loss,roc_auc_score\n",
    "from sklearn.decomposition import PCA\n",
    "from tqdm import tqdm_notebook as tqdm\n",
    "from sklearn.cluster import KMeans\n",
    "from sklearn.multioutput import MultiOutputClassifier\n",
    "from sklearn.feature_selection import VarianceThreshold\n",
    "from torch.nn.modules.loss import _WeightedLoss\n",
    "\n",
    "from pytorch_tabnet.metrics import Metric\n",
    "from pytorch_tabnet.tab_model import TabNetRegressor\n",
    "\n",
    "sys.path.append('../input/multilabelstraifier/')\n",
    "from ml_stratifiers import MultilabelStratifiedKFold\n",
    "warnings.filterwarnings('ignore')\n",
    "\n",
    "import time\n",
    "import torch\n",
    "import torch.nn as nn\n",
    "import torch.optim as optim\n",
    "import torch.nn.functional as F\n",
    "import tensorflow as tf"
   ]
  },
  {
   "cell_type": "code",
   "execution_count": 3,
   "metadata": {
    "execution": {
     "iopub.execute_input": "2020-11-05T04:26:47.246690Z",
     "iopub.status.busy": "2020-11-05T04:26:47.245944Z",
     "iopub.status.idle": "2020-11-05T04:26:54.334188Z",
     "shell.execute_reply": "2020-11-05T04:26:54.333272Z"
    },
    "papermill": {
     "duration": 7.114724,
     "end_time": "2020-11-05T04:26:54.334349",
     "exception": false,
     "start_time": "2020-11-05T04:26:47.219625",
     "status": "completed"
    },
    "tags": []
   },
   "outputs": [],
   "source": [
    "DATA_DIR = '/kaggle/input/lish-moa/'\n",
    "train = pd.read_csv(DATA_DIR + 'train_features.csv')\n",
    "targets = pd.read_csv(DATA_DIR + 'train_targets_scored.csv')\n",
    "non_targets = pd.read_csv(DATA_DIR + 'train_targets_nonscored.csv')\n",
    "test = pd.read_csv(DATA_DIR + 'test_features.csv')\n",
    "sub = pd.read_csv(DATA_DIR + 'sample_submission.csv')\n",
    "drug = pd.read_csv(DATA_DIR + 'train_drug.csv')"
   ]
  },
  {
   "cell_type": "code",
   "execution_count": 4,
   "metadata": {
    "execution": {
     "iopub.execute_input": "2020-11-05T04:26:54.383984Z",
     "iopub.status.busy": "2020-11-05T04:26:54.383213Z",
     "iopub.status.idle": "2020-11-05T04:26:54.478683Z",
     "shell.execute_reply": "2020-11-05T04:26:54.479152Z"
    },
    "papermill": {
     "duration": 0.125406,
     "end_time": "2020-11-05T04:26:54.479315",
     "exception": false,
     "start_time": "2020-11-05T04:26:54.353909",
     "status": "completed"
    },
    "tags": []
   },
   "outputs": [],
   "source": [
    "target_feats = [ i for i in targets.columns if i != \"sig_id\"]\n",
    "g_feats = [i for i in train.columns if \"g-\" in i]\n",
    "c_feats = [i for i in train.columns if \"c-\" in i]\n",
    "\n",
    "noncons_train_index = train[train.cp_type==\"ctl_vehicle\"].index\n",
    "cons_train_index = train[~train.index.isin(noncons_train_index)].index\n",
    "noncons_test_index = test[test.cp_type==\"ctl_vehicle\"].index\n",
    "cons_test_index = test[test.cp_type!=\"ctl_vehicle\"].index"
   ]
  },
  {
   "cell_type": "markdown",
   "metadata": {
    "papermill": {
     "duration": 0.020862,
     "end_time": "2020-11-05T04:26:54.521273",
     "exception": false,
     "start_time": "2020-11-05T04:26:54.500411",
     "status": "completed"
    },
    "tags": []
   },
   "source": [
    "# preprocess"
   ]
  },
  {
   "cell_type": "code",
   "execution_count": 5,
   "metadata": {
    "execution": {
     "iopub.execute_input": "2020-11-05T04:26:54.574275Z",
     "iopub.status.busy": "2020-11-05T04:26:54.573105Z",
     "iopub.status.idle": "2020-11-05T04:26:54.809502Z",
     "shell.execute_reply": "2020-11-05T04:26:54.808865Z"
    },
    "papermill": {
     "duration": 0.268764,
     "end_time": "2020-11-05T04:26:54.809614",
     "exception": false,
     "start_time": "2020-11-05T04:26:54.540850",
     "status": "completed"
    },
    "tags": []
   },
   "outputs": [],
   "source": [
    "train = train[train.index.isin(cons_train_index)].copy().reset_index(drop=True)\n",
    "targets = targets[targets.index.isin(cons_train_index)].copy().reset_index(drop=True)\n",
    "drug = drug[drug.index.isin(cons_train_index)].copy().reset_index(drop=True)"
   ]
  },
  {
   "cell_type": "code",
   "execution_count": 6,
   "metadata": {
    "execution": {
     "iopub.execute_input": "2020-11-05T04:26:54.879691Z",
     "iopub.status.busy": "2020-11-05T04:26:54.874194Z",
     "iopub.status.idle": "2020-11-05T04:26:55.436568Z",
     "shell.execute_reply": "2020-11-05T04:26:55.437021Z"
    },
    "papermill": {
     "duration": 0.607497,
     "end_time": "2020-11-05T04:26:55.437161",
     "exception": false,
     "start_time": "2020-11-05T04:26:54.829664",
     "status": "completed"
    },
    "tags": []
   },
   "outputs": [
    {
     "data": {
      "text/plain": [
       "array([[1, 2, 6, ..., 3, 4, 0]], dtype=int8)"
      ]
     },
     "execution_count": 6,
     "metadata": {},
     "output_type": "execute_result"
    }
   ],
   "source": [
    "# https://www.kaggle.com/c/lish-moa/discussion/195195\n",
    "NB_SPLITS = 7\n",
    "seed = 34\n",
    "\n",
    "folds = []\n",
    "    \n",
    "# LOAD FILES\n",
    "train_score = targets.merge(drug, on='sig_id', how='left') \n",
    "\n",
    "# LOCATE DRUGS\n",
    "vc = train_score.drug_id.value_counts()\n",
    "vc1 = vc.loc[vc <= 18].index.sort_values()\n",
    "vc2 = vc.loc[vc > 18].index.sort_values()\n",
    "    \n",
    "# STRATIFY DRUGS 18X OR LESS\n",
    "dct1 = {}; dct2 = {}\n",
    "skf = MultilabelStratifiedKFold(n_splits = NB_SPLITS, shuffle = True, random_state = seed)\n",
    "tmp = train_score.groupby('drug_id')[target_feats].mean().loc[vc1]\n",
    "for fold,(idxT,idxV) in enumerate(skf.split(tmp,tmp[target_feats])):\n",
    "    dd = {k:fold for k in tmp.index[idxV].values}\n",
    "    dct1.update(dd)\n",
    "\n",
    "# STRATIFY DRUGS MORE THAN 18X\n",
    "skf = MultilabelStratifiedKFold(n_splits = NB_SPLITS, shuffle = True, random_state = seed)\n",
    "tmp = train_score.loc[train_score.drug_id.isin(vc2)].reset_index(drop = True)\n",
    "for fold,(idxT,idxV) in enumerate(skf.split(tmp,tmp[target_feats])):\n",
    "    dd = {k:fold for k in tmp.sig_id[idxV].values}\n",
    "    dct2.update(dd)\n",
    "\n",
    "# ASSIGN FOLDS\n",
    "train_score['fold'] = train_score.drug_id.map(dct1)\n",
    "train_score.loc[train_score.fold.isna(),'fold'] = train_score.loc[train_score.fold.isna(),'sig_id'].map(dct2)\n",
    "train_score.fold = train_score.fold.astype('int8')\n",
    "folds.append(train_score.fold.values)\n",
    "    \n",
    "np.array(folds)"
   ]
  },
  {
   "cell_type": "markdown",
   "metadata": {
    "papermill": {
     "duration": 0.021196,
     "end_time": "2020-11-05T04:26:55.481209",
     "exception": false,
     "start_time": "2020-11-05T04:26:55.460013",
     "status": "completed"
    },
    "tags": []
   },
   "source": [
    "# feature engineering"
   ]
  },
  {
   "cell_type": "code",
   "execution_count": 7,
   "metadata": {
    "execution": {
     "iopub.execute_input": "2020-11-05T04:26:55.532633Z",
     "iopub.status.busy": "2020-11-05T04:26:55.530759Z",
     "iopub.status.idle": "2020-11-05T04:26:55.533338Z",
     "shell.execute_reply": "2020-11-05T04:26:55.533820Z"
    },
    "papermill": {
     "duration": 0.029942,
     "end_time": "2020-11-05T04:26:55.533943",
     "exception": false,
     "start_time": "2020-11-05T04:26:55.504001",
     "status": "completed"
    },
    "tags": []
   },
   "outputs": [],
   "source": [
    "#X = train[g_feats+c_feats].copy().values\n",
    "#select = VarianceThreshold(threshold=0.7)\n",
    "#X_new = select.fit_transform(X)\n",
    "#drop_feats = list(np.array(train[g_feats+c_feats].columns)[select.get_support()==False])\n",
    "#len(drop_feats)\n",
    "\n",
    "#train.drop(drop_feats, axis=1, inplace=True)\n",
    "#test.drop(drop_feats, axis=1, inplace=True)\n",
    "\n",
    "#g_feats = [i for i in train.columns if \"g-\" in i]\n",
    "#c_feats = [i for i in train.columns if \"c-\" in i]"
   ]
  },
  {
   "cell_type": "code",
   "execution_count": 8,
   "metadata": {
    "execution": {
     "iopub.execute_input": "2020-11-05T04:26:55.584175Z",
     "iopub.status.busy": "2020-11-05T04:26:55.583303Z",
     "iopub.status.idle": "2020-11-05T04:27:04.391769Z",
     "shell.execute_reply": "2020-11-05T04:27:04.390632Z"
    },
    "papermill": {
     "duration": 8.836753,
     "end_time": "2020-11-05T04:27:04.391904",
     "exception": false,
     "start_time": "2020-11-05T04:26:55.555151",
     "status": "completed"
    },
    "tags": []
   },
   "outputs": [],
   "source": [
    "for i in c_feats + g_feats:\n",
    "    ss = preprocessing.QuantileTransformer(n_quantiles=100, random_state=0, output_distribution=\"normal\")\n",
    "    ss.fit(train[i].values.reshape(-1,1))\n",
    "    train[i] = ss.transform(train[i].values.reshape(-1,1))\n",
    "    test[i] = ss.transform(test[i].values.reshape(-1,1))"
   ]
  },
  {
   "cell_type": "code",
   "execution_count": 9,
   "metadata": {
    "execution": {
     "iopub.execute_input": "2020-11-05T04:27:04.454834Z",
     "iopub.status.busy": "2020-11-05T04:27:04.452977Z",
     "iopub.status.idle": "2020-11-05T04:27:05.901066Z",
     "shell.execute_reply": "2020-11-05T04:27:05.900504Z"
    },
    "papermill": {
     "duration": 1.488594,
     "end_time": "2020-11-05T04:27:05.901174",
     "exception": false,
     "start_time": "2020-11-05T04:27:04.412580",
     "status": "completed"
    },
    "tags": []
   },
   "outputs": [],
   "source": [
    "c_num = 1\n",
    "pca_c_cols = [\"pca-c\"+str(i+1) for i in range(c_num)]\n",
    "pca = PCA(n_components=c_num,random_state=42)\n",
    "c_train = pca.fit_transform(train[c_feats])\n",
    "c_test = pca.transform(test[c_feats])\n",
    "c_train = pd.DataFrame(c_train, columns=pca_c_cols)\n",
    "c_test = pd.DataFrame(c_test, columns=pca_c_cols)\n",
    "\n",
    "g_num = 10\n",
    "pca_g_cols = [\"pca-g\"+str(i+1) for i in range(g_num)]\n",
    "pca = PCA(n_components=g_num, random_state=42)\n",
    "g_train = pca.fit_transform(train[g_feats])\n",
    "g_test = pca.transform(test[g_feats])\n",
    "g_train = pd.DataFrame(g_train, columns=pca_g_cols)\n",
    "g_test = pd.DataFrame(g_test, columns=pca_g_cols)\n",
    "\n",
    "train = pd.concat([train, c_train],axis=1)\n",
    "test = pd.concat([test, c_test],axis=1)\n",
    "train = pd.concat([train, g_train],axis=1)\n",
    "test = pd.concat([test, g_test],axis=1)"
   ]
  },
  {
   "cell_type": "code",
   "execution_count": 10,
   "metadata": {
    "execution": {
     "iopub.execute_input": "2020-11-05T04:27:05.947433Z",
     "iopub.status.busy": "2020-11-05T04:27:05.946591Z",
     "iopub.status.idle": "2020-11-05T04:27:05.948932Z",
     "shell.execute_reply": "2020-11-05T04:27:05.949427Z"
    },
    "papermill": {
     "duration": 0.027187,
     "end_time": "2020-11-05T04:27:05.949548",
     "exception": false,
     "start_time": "2020-11-05T04:27:05.922361",
     "status": "completed"
    },
    "tags": []
   },
   "outputs": [],
   "source": [
    "#uc_num = 1\n",
    "#um = UMAP(n_neighbors=30, n_components=uc_num, random_state=42)\n",
    "#um_c_cols = [\"um-c\"+str(i+1) for i in range(uc_num)]#\n",
    "#uc_train = um.fit_transform(train[c_feats])\n",
    "#uc_test = um.transform(test[c_feats])\n",
    "#uc_train = pd.DataFrame(uc_train, columns=um_c_cols)\n",
    "#uc_test = pd.DataFrame(uc_test, columns=um_c_cols)\n",
    "\n",
    "#ug_num = 10\n",
    "#um = UMAP(n_neighbors=30, n_components=ug_num, random_state=42)\n",
    "#um_g_cols = [\"um-g\"+str(i+1) for i in range(ug_num)]\n",
    "#ug_train = um.fit_transform(train[g_feats])\n",
    "#ug_test = um.transform(test[g_feats])\n",
    "#ug_train = pd.DataFrame(ug_train, columns=um_g_cols)\n",
    "#ug_test = pd.DataFrame(ug_test, columns=um_g_cols)\n",
    "\n",
    "#train = pd.concat([train, uc_train],axis=1)\n",
    "#test = pd.concat([test, uc_test],axis=1)\n",
    "#train = pd.concat([train, ug_train],axis=1)\n",
    "#test = pd.concat([test, ug_test],axis=1)"
   ]
  },
  {
   "cell_type": "code",
   "execution_count": 11,
   "metadata": {
    "execution": {
     "iopub.execute_input": "2020-11-05T04:27:05.996569Z",
     "iopub.status.busy": "2020-11-05T04:27:05.995717Z",
     "iopub.status.idle": "2020-11-05T04:27:05.998214Z",
     "shell.execute_reply": "2020-11-05T04:27:05.998724Z"
    },
    "papermill": {
     "duration": 0.028469,
     "end_time": "2020-11-05T04:27:05.998843",
     "exception": false,
     "start_time": "2020-11-05T04:27:05.970374",
     "status": "completed"
    },
    "tags": []
   },
   "outputs": [],
   "source": [
    "#n_clusters_g = 15\n",
    "#n_clusters_c = 5\n",
    "#def create_cluster(train, test, kind, n_clusters):\n",
    "#    if kind == \"g\":\n",
    "#        train_ = train[pca_g_cols].copy()\n",
    "#        test_ = test[pca_g_cols].copy()\n",
    "#    else:\n",
    "#        train_ = train[pca_c_cols].copy()\n",
    "#        test_ = test[pca_c_cols].copy()    \n",
    "#    kmeans = KMeans(n_clusters = n_clusters, random_state = 0).fit(train_)\n",
    "#    train[f'clusters_{kind}'] = kmeans.labels_\n",
    "#    test[f'clusters_{kind}'] = kmeans.predict(test_)\n",
    "#    train = pd.get_dummies(train, columns = [f'clusters_{kind}'])\n",
    "#    test = pd.get_dummies(test, columns = [f'clusters_{kind}'])\n",
    "#    return train, test\n",
    "    \n",
    "#train, test = create_cluster(train, test, kind = 'g', n_clusters = n_clusters_g)\n",
    "#train, test = create_cluster(train, test, kind = 'c', n_clusters = n_clusters_c)"
   ]
  },
  {
   "cell_type": "code",
   "execution_count": 12,
   "metadata": {
    "execution": {
     "iopub.execute_input": "2020-11-05T04:27:06.048538Z",
     "iopub.status.busy": "2020-11-05T04:27:06.047270Z",
     "iopub.status.idle": "2020-11-05T04:27:06.300767Z",
     "shell.execute_reply": "2020-11-05T04:27:06.301442Z"
    },
    "papermill": {
     "duration": 0.281975,
     "end_time": "2020-11-05T04:27:06.301579",
     "exception": false,
     "start_time": "2020-11-05T04:27:06.019604",
     "status": "completed"
    },
    "tags": []
   },
   "outputs": [
    {
     "name": "stdout",
     "output_type": "stream",
     "text": [
      "(21948, 885) (3982, 885)\n"
     ]
    }
   ],
   "source": [
    "def fe(df):\n",
    "    tmp = df.copy()\n",
    "    tmp.loc[:, 'cp_dose'] = tmp.loc[:, 'cp_dose'].map({'D1': 0, 'D2': 1})      \n",
    "    tmp.drop([\"sig_id\", \"cp_type\"], axis=1, inplace=True)\n",
    "    return tmp\n",
    "\n",
    "train = fe(train)\n",
    "test = fe(test)\n",
    "\n",
    "print(train.shape, test.shape)"
   ]
  },
  {
   "cell_type": "code",
   "execution_count": 13,
   "metadata": {
    "execution": {
     "iopub.execute_input": "2020-11-05T04:27:06.350199Z",
     "iopub.status.busy": "2020-11-05T04:27:06.349422Z",
     "iopub.status.idle": "2020-11-05T04:27:06.352426Z",
     "shell.execute_reply": "2020-11-05T04:27:06.351933Z"
    },
    "papermill": {
     "duration": 0.029698,
     "end_time": "2020-11-05T04:27:06.352531",
     "exception": false,
     "start_time": "2020-11-05T04:27:06.322833",
     "status": "completed"
    },
    "tags": []
   },
   "outputs": [],
   "source": [
    "train[\"fold\"] = np.array(folds).reshape(-1,1)"
   ]
  },
  {
   "cell_type": "code",
   "execution_count": 14,
   "metadata": {
    "execution": {
     "iopub.execute_input": "2020-11-05T04:27:06.413334Z",
     "iopub.status.busy": "2020-11-05T04:27:06.412323Z",
     "iopub.status.idle": "2020-11-05T04:27:06.428636Z",
     "shell.execute_reply": "2020-11-05T04:27:06.427935Z"
    },
    "papermill": {
     "duration": 0.055047,
     "end_time": "2020-11-05T04:27:06.428749",
     "exception": false,
     "start_time": "2020-11-05T04:27:06.373702",
     "status": "completed"
    },
    "tags": []
   },
   "outputs": [
    {
     "data": {
      "text/html": [
       "<div>\n",
       "<style scoped>\n",
       "    .dataframe tbody tr th:only-of-type {\n",
       "        vertical-align: middle;\n",
       "    }\n",
       "\n",
       "    .dataframe tbody tr th {\n",
       "        vertical-align: top;\n",
       "    }\n",
       "\n",
       "    .dataframe thead th {\n",
       "        text-align: right;\n",
       "    }\n",
       "</style>\n",
       "<table border=\"1\" class=\"dataframe\">\n",
       "  <thead>\n",
       "    <tr style=\"text-align: right;\">\n",
       "      <th></th>\n",
       "      <th>cp_time</th>\n",
       "      <th>cp_dose</th>\n",
       "      <th>g-0</th>\n",
       "      <th>g-1</th>\n",
       "      <th>g-2</th>\n",
       "      <th>g-3</th>\n",
       "      <th>g-4</th>\n",
       "      <th>g-5</th>\n",
       "      <th>g-6</th>\n",
       "      <th>g-7</th>\n",
       "      <th>...</th>\n",
       "      <th>pca-g2</th>\n",
       "      <th>pca-g3</th>\n",
       "      <th>pca-g4</th>\n",
       "      <th>pca-g5</th>\n",
       "      <th>pca-g6</th>\n",
       "      <th>pca-g7</th>\n",
       "      <th>pca-g8</th>\n",
       "      <th>pca-g9</th>\n",
       "      <th>pca-g10</th>\n",
       "      <th>fold</th>\n",
       "    </tr>\n",
       "  </thead>\n",
       "  <tbody>\n",
       "    <tr>\n",
       "      <th>0</th>\n",
       "      <td>24</td>\n",
       "      <td>0</td>\n",
       "      <td>1.111801</td>\n",
       "      <td>0.903367</td>\n",
       "      <td>-0.433829</td>\n",
       "      <td>-0.971728</td>\n",
       "      <td>-0.286559</td>\n",
       "      <td>-1.011388</td>\n",
       "      <td>-1.357431</td>\n",
       "      <td>-0.041716</td>\n",
       "      <td>...</td>\n",
       "      <td>-6.565323</td>\n",
       "      <td>7.922011</td>\n",
       "      <td>-7.719018</td>\n",
       "      <td>4.405187</td>\n",
       "      <td>1.806038</td>\n",
       "      <td>3.393864</td>\n",
       "      <td>1.992503</td>\n",
       "      <td>2.330853</td>\n",
       "      <td>0.229401</td>\n",
       "      <td>1</td>\n",
       "    </tr>\n",
       "    <tr>\n",
       "      <th>1</th>\n",
       "      <td>72</td>\n",
       "      <td>0</td>\n",
       "      <td>0.105667</td>\n",
       "      <td>0.672509</td>\n",
       "      <td>0.257486</td>\n",
       "      <td>0.086759</td>\n",
       "      <td>1.199685</td>\n",
       "      <td>0.691813</td>\n",
       "      <td>0.353695</td>\n",
       "      <td>0.558374</td>\n",
       "      <td>...</td>\n",
       "      <td>-0.264433</td>\n",
       "      <td>-12.554034</td>\n",
       "      <td>4.953071</td>\n",
       "      <td>0.799825</td>\n",
       "      <td>-0.025325</td>\n",
       "      <td>1.039128</td>\n",
       "      <td>-0.897690</td>\n",
       "      <td>3.815383</td>\n",
       "      <td>3.735017</td>\n",
       "      <td>2</td>\n",
       "    </tr>\n",
       "    <tr>\n",
       "      <th>2</th>\n",
       "      <td>48</td>\n",
       "      <td>0</td>\n",
       "      <td>0.767036</td>\n",
       "      <td>0.942499</td>\n",
       "      <td>1.408911</td>\n",
       "      <td>-0.126492</td>\n",
       "      <td>-0.028694</td>\n",
       "      <td>1.490985</td>\n",
       "      <td>0.272541</td>\n",
       "      <td>0.359490</td>\n",
       "      <td>...</td>\n",
       "      <td>8.687788</td>\n",
       "      <td>-2.526892</td>\n",
       "      <td>0.283035</td>\n",
       "      <td>0.538570</td>\n",
       "      <td>2.956883</td>\n",
       "      <td>-2.141152</td>\n",
       "      <td>3.346174</td>\n",
       "      <td>-1.128757</td>\n",
       "      <td>-4.715069</td>\n",
       "      <td>6</td>\n",
       "    </tr>\n",
       "    <tr>\n",
       "      <th>3</th>\n",
       "      <td>48</td>\n",
       "      <td>0</td>\n",
       "      <td>-0.755626</td>\n",
       "      <td>-0.297077</td>\n",
       "      <td>-0.455058</td>\n",
       "      <td>0.765972</td>\n",
       "      <td>2.343522</td>\n",
       "      <td>-0.852713</td>\n",
       "      <td>-2.316440</td>\n",
       "      <td>0.301512</td>\n",
       "      <td>...</td>\n",
       "      <td>10.066734</td>\n",
       "      <td>-0.212951</td>\n",
       "      <td>-5.016873</td>\n",
       "      <td>-7.041268</td>\n",
       "      <td>-3.342125</td>\n",
       "      <td>-3.466734</td>\n",
       "      <td>6.218932</td>\n",
       "      <td>-4.034827</td>\n",
       "      <td>0.560658</td>\n",
       "      <td>0</td>\n",
       "    </tr>\n",
       "    <tr>\n",
       "      <th>4</th>\n",
       "      <td>72</td>\n",
       "      <td>1</td>\n",
       "      <td>-0.468806</td>\n",
       "      <td>-0.504196</td>\n",
       "      <td>0.956769</td>\n",
       "      <td>0.975864</td>\n",
       "      <td>1.447729</td>\n",
       "      <td>-0.863807</td>\n",
       "      <td>-0.346926</td>\n",
       "      <td>-0.227072</td>\n",
       "      <td>...</td>\n",
       "      <td>6.061535</td>\n",
       "      <td>-8.831261</td>\n",
       "      <td>-4.482883</td>\n",
       "      <td>-7.548974</td>\n",
       "      <td>-8.808425</td>\n",
       "      <td>-2.480037</td>\n",
       "      <td>-4.121178</td>\n",
       "      <td>-1.091505</td>\n",
       "      <td>-1.924720</td>\n",
       "      <td>2</td>\n",
       "    </tr>\n",
       "  </tbody>\n",
       "</table>\n",
       "<p>5 rows × 886 columns</p>\n",
       "</div>"
      ],
      "text/plain": [
       "   cp_time  cp_dose       g-0       g-1       g-2       g-3       g-4  \\\n",
       "0       24        0  1.111801  0.903367 -0.433829 -0.971728 -0.286559   \n",
       "1       72        0  0.105667  0.672509  0.257486  0.086759  1.199685   \n",
       "2       48        0  0.767036  0.942499  1.408911 -0.126492 -0.028694   \n",
       "3       48        0 -0.755626 -0.297077 -0.455058  0.765972  2.343522   \n",
       "4       72        1 -0.468806 -0.504196  0.956769  0.975864  1.447729   \n",
       "\n",
       "        g-5       g-6       g-7  ...     pca-g2     pca-g3    pca-g4  \\\n",
       "0 -1.011388 -1.357431 -0.041716  ...  -6.565323   7.922011 -7.719018   \n",
       "1  0.691813  0.353695  0.558374  ...  -0.264433 -12.554034  4.953071   \n",
       "2  1.490985  0.272541  0.359490  ...   8.687788  -2.526892  0.283035   \n",
       "3 -0.852713 -2.316440  0.301512  ...  10.066734  -0.212951 -5.016873   \n",
       "4 -0.863807 -0.346926 -0.227072  ...   6.061535  -8.831261 -4.482883   \n",
       "\n",
       "     pca-g5    pca-g6    pca-g7    pca-g8    pca-g9   pca-g10  fold  \n",
       "0  4.405187  1.806038  3.393864  1.992503  2.330853  0.229401     1  \n",
       "1  0.799825 -0.025325  1.039128 -0.897690  3.815383  3.735017     2  \n",
       "2  0.538570  2.956883 -2.141152  3.346174 -1.128757 -4.715069     6  \n",
       "3 -7.041268 -3.342125 -3.466734  6.218932 -4.034827  0.560658     0  \n",
       "4 -7.548974 -8.808425 -2.480037 -4.121178 -1.091505 -1.924720     2  \n",
       "\n",
       "[5 rows x 886 columns]"
      ]
     },
     "execution_count": 14,
     "metadata": {},
     "output_type": "execute_result"
    }
   ],
   "source": [
    "train.head()"
   ]
  },
  {
   "cell_type": "code",
   "execution_count": 15,
   "metadata": {
    "execution": {
     "iopub.execute_input": "2020-11-05T04:27:06.485036Z",
     "iopub.status.busy": "2020-11-05T04:27:06.483461Z",
     "iopub.status.idle": "2020-11-05T04:27:06.649665Z",
     "shell.execute_reply": "2020-11-05T04:27:06.649093Z"
    },
    "papermill": {
     "duration": 0.196447,
     "end_time": "2020-11-05T04:27:06.649786",
     "exception": false,
     "start_time": "2020-11-05T04:27:06.453339",
     "status": "completed"
    },
    "tags": []
   },
   "outputs": [],
   "source": [
    "fn_train = train.copy().to_numpy()\n",
    "fn_test = test.copy().to_numpy()\n",
    "    \n",
    "fn_targets = targets.drop(\"sig_id\", axis=1).copy().to_numpy()"
   ]
  },
  {
   "cell_type": "code",
   "execution_count": 16,
   "metadata": {
    "execution": {
     "iopub.execute_input": "2020-11-05T04:27:06.700839Z",
     "iopub.status.busy": "2020-11-05T04:27:06.700066Z",
     "iopub.status.idle": "2020-11-05T04:27:06.703805Z",
     "shell.execute_reply": "2020-11-05T04:27:06.703336Z"
    },
    "papermill": {
     "duration": 0.03136,
     "end_time": "2020-11-05T04:27:06.703902",
     "exception": false,
     "start_time": "2020-11-05T04:27:06.672542",
     "status": "completed"
    },
    "tags": []
   },
   "outputs": [
    {
     "data": {
      "text/plain": [
       "((21948, 886), (3982, 885), (21948, 206))"
      ]
     },
     "execution_count": 16,
     "metadata": {},
     "output_type": "execute_result"
    }
   ],
   "source": [
    "fn_train.shape, fn_test.shape, fn_targets.shape"
   ]
  },
  {
   "cell_type": "markdown",
   "metadata": {
    "papermill": {
     "duration": 0.023656,
     "end_time": "2020-11-05T04:27:06.751563",
     "exception": false,
     "start_time": "2020-11-05T04:27:06.727907",
     "status": "completed"
    },
    "tags": []
   },
   "source": [
    "# modelling"
   ]
  },
  {
   "cell_type": "code",
   "execution_count": 17,
   "metadata": {
    "execution": {
     "iopub.execute_input": "2020-11-05T04:27:06.807439Z",
     "iopub.status.busy": "2020-11-05T04:27:06.806569Z",
     "iopub.status.idle": "2020-11-05T04:27:06.809615Z",
     "shell.execute_reply": "2020-11-05T04:27:06.809079Z"
    },
    "papermill": {
     "duration": 0.034757,
     "end_time": "2020-11-05T04:27:06.809715",
     "exception": false,
     "start_time": "2020-11-05T04:27:06.774958",
     "status": "completed"
    },
    "tags": []
   },
   "outputs": [],
   "source": [
    "class LogitsLogLoss(Metric):\n",
    "    def __init__(self):\n",
    "        self._name = \"logits_ll\"\n",
    "        self._maximize = False\n",
    "\n",
    "    def __call__(self, y_true, y_pred):\n",
    "\n",
    "        logits = 1 / (1 + np.exp(-y_pred))\n",
    "        \n",
    "        aux = (1-y_true)*np.log(1-logits+1e-15) + y_true*np.log(logits+1e-15)\n",
    "        return np.mean(-aux)"
   ]
  },
  {
   "cell_type": "code",
   "execution_count": 18,
   "metadata": {
    "execution": {
     "iopub.execute_input": "2020-11-05T04:27:06.880917Z",
     "iopub.status.busy": "2020-11-05T04:27:06.870124Z",
     "iopub.status.idle": "2020-11-05T04:53:47.750780Z",
     "shell.execute_reply": "2020-11-05T04:53:47.750224Z"
    },
    "papermill": {
     "duration": 1600.917282,
     "end_time": "2020-11-05T04:53:47.750897",
     "exception": false,
     "start_time": "2020-11-05T04:27:06.833615",
     "status": "completed"
    },
    "tags": []
   },
   "outputs": [
    {
     "name": "stdout",
     "output_type": "stream",
     "text": [
      "FOLDS :  1\n",
      "Device used : cuda\n",
      "epoch 0  | loss: 0.23139 | val_logits_ll: 0.02571 |  0:00:01s\n",
      "epoch 10 | loss: 0.01776 | val_logits_ll: 0.01865 |  0:00:12s\n",
      "epoch 20 | loss: 0.0168  | val_logits_ll: 0.01793 |  0:00:22s\n",
      "epoch 30 | loss: 0.01621 | val_logits_ll: 0.01752 |  0:00:33s\n",
      "epoch 40 | loss: 0.01592 | val_logits_ll: 0.01767 |  0:00:45s\n",
      "epoch 50 | loss: 0.01553 | val_logits_ll: 0.01749 |  0:00:55s\n",
      "epoch 60 | loss: 0.01533 | val_logits_ll: 0.01788 |  0:01:05s\n",
      "\n",
      "Early stopping occured at epoch 63 with best_epoch = 43 and best_val_logits_ll = 0.01748\n",
      "Best weights from best epoch are automatically used!\n",
      "FOLDS :  2\n",
      "Device used : cuda\n",
      "epoch 0  | loss: 0.22977 | val_logits_ll: 0.02659 |  0:00:01s\n",
      "epoch 10 | loss: 0.0177  | val_logits_ll: 0.02063 |  0:00:11s\n",
      "epoch 20 | loss: 0.01683 | val_logits_ll: 0.01799 |  0:00:21s\n",
      "epoch 30 | loss: 0.01645 | val_logits_ll: 0.01737 |  0:00:33s\n",
      "epoch 40 | loss: 0.01618 | val_logits_ll: 0.01743 |  0:00:44s\n",
      "epoch 50 | loss: 0.01612 | val_logits_ll: 0.01734 |  0:00:54s\n",
      "epoch 60 | loss: 0.01577 | val_logits_ll: 0.01752 |  0:01:04s\n",
      "\n",
      "Early stopping occured at epoch 66 with best_epoch = 46 and best_val_logits_ll = 0.01717\n",
      "Best weights from best epoch are automatically used!\n",
      "FOLDS :  3\n",
      "Device used : cuda\n",
      "epoch 0  | loss: 0.23285 | val_logits_ll: 0.02839 |  0:00:01s\n",
      "epoch 10 | loss: 0.01753 | val_logits_ll: 0.01942 |  0:00:11s\n",
      "epoch 20 | loss: 0.01661 | val_logits_ll: 0.01839 |  0:00:22s\n",
      "epoch 30 | loss: 0.0164  | val_logits_ll: 0.01892 |  0:00:33s\n",
      "epoch 40 | loss: 0.01607 | val_logits_ll: 0.01837 |  0:00:44s\n",
      "epoch 50 | loss: 0.01564 | val_logits_ll: 0.01812 |  0:00:54s\n",
      "epoch 60 | loss: 0.01522 | val_logits_ll: 0.01827 |  0:01:05s\n",
      "\n",
      "Early stopping occured at epoch 67 with best_epoch = 47 and best_val_logits_ll = 0.01801\n",
      "Best weights from best epoch are automatically used!\n",
      "FOLDS :  4\n",
      "Device used : cuda\n",
      "epoch 0  | loss: 0.23139 | val_logits_ll: 0.02739 |  0:00:01s\n",
      "epoch 10 | loss: 0.01786 | val_logits_ll: 0.01862 |  0:00:13s\n",
      "epoch 20 | loss: 0.01685 | val_logits_ll: 0.01917 |  0:00:24s\n",
      "epoch 30 | loss: 0.01627 | val_logits_ll: 0.01788 |  0:00:34s\n",
      "epoch 40 | loss: 0.01596 | val_logits_ll: 0.01798 |  0:00:44s\n",
      "epoch 50 | loss: 0.01555 | val_logits_ll: 0.01791 |  0:00:55s\n",
      "\n",
      "Early stopping occured at epoch 56 with best_epoch = 36 and best_val_logits_ll = 0.01758\n",
      "Best weights from best epoch are automatically used!\n",
      "FOLDS :  5\n",
      "Device used : cuda\n",
      "epoch 0  | loss: 0.23152 | val_logits_ll: 0.02566 |  0:00:01s\n",
      "epoch 10 | loss: 0.01785 | val_logits_ll: 0.01821 |  0:00:11s\n",
      "epoch 20 | loss: 0.01676 | val_logits_ll: 0.01748 |  0:00:22s\n",
      "epoch 30 | loss: 0.0166  | val_logits_ll: 0.01732 |  0:00:33s\n",
      "epoch 40 | loss: 0.01609 | val_logits_ll: 0.01735 |  0:00:43s\n",
      "epoch 50 | loss: 0.0157  | val_logits_ll: 0.01743 |  0:00:54s\n",
      "epoch 60 | loss: 0.01545 | val_logits_ll: 0.01784 |  0:01:05s\n",
      "epoch 70 | loss: 0.01507 | val_logits_ll: 0.01883 |  0:01:17s\n",
      "\n",
      "Early stopping occured at epoch 75 with best_epoch = 55 and best_val_logits_ll = 0.01718\n",
      "Best weights from best epoch are automatically used!\n",
      "FOLDS :  6\n",
      "Device used : cuda\n",
      "epoch 0  | loss: 0.2312  | val_logits_ll: 0.02866 |  0:00:01s\n",
      "epoch 10 | loss: 0.01781 | val_logits_ll: 0.02016 |  0:00:11s\n",
      "epoch 20 | loss: 0.01679 | val_logits_ll: 0.01912 |  0:00:22s\n",
      "epoch 30 | loss: 0.01642 | val_logits_ll: 0.01889 |  0:00:33s\n",
      "epoch 40 | loss: 0.01596 | val_logits_ll: 0.01852 |  0:00:45s\n",
      "epoch 50 | loss: 0.0158  | val_logits_ll: 0.01884 |  0:00:55s\n",
      "epoch 60 | loss: 0.01567 | val_logits_ll: 0.0186  |  0:01:06s\n",
      "\n",
      "Early stopping occured at epoch 68 with best_epoch = 48 and best_val_logits_ll = 0.01843\n",
      "Best weights from best epoch are automatically used!\n",
      "FOLDS :  7\n",
      "Device used : cuda\n",
      "epoch 0  | loss: 0.2317  | val_logits_ll: 0.02697 |  0:00:00s\n",
      "epoch 10 | loss: 0.01766 | val_logits_ll: 0.01824 |  0:00:11s\n",
      "epoch 20 | loss: 0.01662 | val_logits_ll: 0.01806 |  0:00:23s\n",
      "epoch 30 | loss: 0.01611 | val_logits_ll: 0.01769 |  0:00:34s\n",
      "epoch 40 | loss: 0.01572 | val_logits_ll: 0.01769 |  0:00:44s\n",
      "epoch 50 | loss: 0.01574 | val_logits_ll: 0.01809 |  0:00:55s\n",
      "epoch 60 | loss: 0.01523 | val_logits_ll: 0.0178  |  0:01:06s\n",
      "\n",
      "Early stopping occured at epoch 64 with best_epoch = 44 and best_val_logits_ll = 0.01741\n",
      "Best weights from best epoch are automatically used!\n",
      "OOF log loss: 0.017608267668723872\n",
      "Overall AUC : 0.6319587601975014\n",
      "FOLDS :  1\n",
      "Device used : cuda\n",
      "epoch 0  | loss: 0.22454 | val_logits_ll: 0.02534 |  0:00:01s\n",
      "epoch 10 | loss: 0.01769 | val_logits_ll: 0.01831 |  0:00:13s\n",
      "epoch 20 | loss: 0.01682 | val_logits_ll: 0.01792 |  0:00:24s\n",
      "epoch 30 | loss: 0.01631 | val_logits_ll: 0.01755 |  0:00:34s\n",
      "epoch 40 | loss: 0.01607 | val_logits_ll: 0.01773 |  0:00:45s\n",
      "epoch 50 | loss: 0.01595 | val_logits_ll: 0.01768 |  0:00:55s\n",
      "epoch 60 | loss: 0.01539 | val_logits_ll: 0.01767 |  0:01:06s\n",
      "epoch 70 | loss: 0.01517 | val_logits_ll: 0.01789 |  0:01:17s\n",
      "\n",
      "Early stopping occured at epoch 79 with best_epoch = 59 and best_val_logits_ll = 0.01745\n",
      "Best weights from best epoch are automatically used!\n",
      "FOLDS :  2\n",
      "Device used : cuda\n",
      "epoch 0  | loss: 0.22527 | val_logits_ll: 0.02572 |  0:00:01s\n",
      "epoch 10 | loss: 0.01786 | val_logits_ll: 0.01806 |  0:00:11s\n",
      "epoch 20 | loss: 0.01685 | val_logits_ll: 0.01779 |  0:00:22s\n",
      "epoch 30 | loss: 0.01637 | val_logits_ll: 0.01768 |  0:00:32s\n",
      "epoch 40 | loss: 0.0159  | val_logits_ll: 0.01754 |  0:00:44s\n",
      "\n",
      "Early stopping occured at epoch 44 with best_epoch = 24 and best_val_logits_ll = 0.01738\n",
      "Best weights from best epoch are automatically used!\n",
      "FOLDS :  3\n",
      "Device used : cuda\n",
      "epoch 0  | loss: 0.22828 | val_logits_ll: 0.02751 |  0:00:01s\n",
      "epoch 10 | loss: 0.01765 | val_logits_ll: 0.01893 |  0:00:11s\n",
      "epoch 20 | loss: 0.01676 | val_logits_ll: 0.01861 |  0:00:22s\n",
      "epoch 30 | loss: 0.01627 | val_logits_ll: 0.01843 |  0:00:32s\n",
      "epoch 40 | loss: 0.01612 | val_logits_ll: 0.01803 |  0:00:43s\n",
      "epoch 50 | loss: 0.01604 | val_logits_ll: 0.01823 |  0:00:54s\n",
      "epoch 60 | loss: 0.01563 | val_logits_ll: 0.0185  |  0:01:05s\n",
      "\n",
      "Early stopping occured at epoch 60 with best_epoch = 40 and best_val_logits_ll = 0.01803\n",
      "Best weights from best epoch are automatically used!\n",
      "FOLDS :  4\n",
      "Device used : cuda\n",
      "epoch 0  | loss: 0.22698 | val_logits_ll: 0.02589 |  0:00:01s\n",
      "epoch 10 | loss: 0.01787 | val_logits_ll: 0.01846 |  0:00:11s\n",
      "epoch 20 | loss: 0.0168  | val_logits_ll: 0.01776 |  0:00:22s\n",
      "epoch 30 | loss: 0.01626 | val_logits_ll: 0.01777 |  0:00:32s\n",
      "epoch 40 | loss: 0.01594 | val_logits_ll: 0.01779 |  0:00:44s\n",
      "epoch 50 | loss: 0.01564 | val_logits_ll: 0.0177  |  0:00:55s\n",
      "epoch 60 | loss: 0.01526 | val_logits_ll: 0.01793 |  0:01:06s\n",
      "\n",
      "Early stopping occured at epoch 61 with best_epoch = 41 and best_val_logits_ll = 0.01746\n",
      "Best weights from best epoch are automatically used!\n",
      "FOLDS :  5\n",
      "Device used : cuda\n",
      "epoch 0  | loss: 0.22538 | val_logits_ll: 0.02561 |  0:00:01s\n",
      "epoch 10 | loss: 0.01768 | val_logits_ll: 0.0193  |  0:00:11s\n",
      "epoch 20 | loss: 0.01664 | val_logits_ll: 0.01749 |  0:00:22s\n",
      "epoch 30 | loss: 0.01604 | val_logits_ll: 0.01728 |  0:00:33s\n",
      "epoch 40 | loss: 0.01583 | val_logits_ll: 0.0174  |  0:00:44s\n",
      "epoch 50 | loss: 0.01549 | val_logits_ll: 0.01743 |  0:00:55s\n",
      "epoch 60 | loss: 0.01517 | val_logits_ll: 0.01766 |  0:01:06s\n",
      "\n",
      "Early stopping occured at epoch 68 with best_epoch = 48 and best_val_logits_ll = 0.01718\n",
      "Best weights from best epoch are automatically used!\n",
      "FOLDS :  6\n",
      "Device used : cuda\n",
      "epoch 0  | loss: 0.22553 | val_logits_ll: 0.02698 |  0:00:01s\n",
      "epoch 10 | loss: 0.01754 | val_logits_ll: 0.01972 |  0:00:11s\n",
      "epoch 20 | loss: 0.0167  | val_logits_ll: 0.01924 |  0:00:23s\n",
      "epoch 30 | loss: 0.0161  | val_logits_ll: 0.01847 |  0:00:34s\n",
      "epoch 40 | loss: 0.01569 | val_logits_ll: 0.01858 |  0:00:45s\n",
      "epoch 50 | loss: 0.01515 | val_logits_ll: 0.01856 |  0:00:56s\n",
      "\n",
      "Early stopping occured at epoch 50 with best_epoch = 30 and best_val_logits_ll = 0.01847\n",
      "Best weights from best epoch are automatically used!\n",
      "FOLDS :  7\n",
      "Device used : cuda\n",
      "epoch 0  | loss: 0.22506 | val_logits_ll: 0.026   |  0:00:01s\n",
      "epoch 10 | loss: 0.01788 | val_logits_ll: 0.02023 |  0:00:11s\n",
      "epoch 20 | loss: 0.01707 | val_logits_ll: 0.01784 |  0:00:24s\n",
      "epoch 30 | loss: 0.0165  | val_logits_ll: 0.01774 |  0:00:34s\n",
      "epoch 40 | loss: 0.01625 | val_logits_ll: 0.01748 |  0:00:45s\n",
      "epoch 50 | loss: 0.01604 | val_logits_ll: 0.01746 |  0:00:56s\n",
      "epoch 60 | loss: 0.01584 | val_logits_ll: 0.0174  |  0:01:07s\n",
      "\n",
      "Early stopping occured at epoch 69 with best_epoch = 49 and best_val_logits_ll = 0.01731\n",
      "Best weights from best epoch are automatically used!\n",
      "OOF log loss: 0.017613168734986993\n",
      "Overall AUC : 0.6328902581773947\n",
      "FOLDS :  1\n",
      "Device used : cuda\n",
      "epoch 0  | loss: 0.24945 | val_logits_ll: 0.02691 |  0:00:01s\n",
      "epoch 10 | loss: 0.0178  | val_logits_ll: 0.01863 |  0:00:12s\n",
      "epoch 20 | loss: 0.01692 | val_logits_ll: 0.01831 |  0:00:23s\n",
      "epoch 30 | loss: 0.0162  | val_logits_ll: 0.01772 |  0:00:34s\n",
      "epoch 40 | loss: 0.01595 | val_logits_ll: 0.0179  |  0:00:44s\n",
      "epoch 50 | loss: 0.01576 | val_logits_ll: 0.01763 |  0:00:55s\n",
      "\n",
      "Early stopping occured at epoch 58 with best_epoch = 38 and best_val_logits_ll = 0.0175\n",
      "Best weights from best epoch are automatically used!\n",
      "FOLDS :  2\n",
      "Device used : cuda\n",
      "epoch 0  | loss: 0.2523  | val_logits_ll: 0.02693 |  0:00:01s\n",
      "epoch 10 | loss: 0.01792 | val_logits_ll: 0.01898 |  0:00:12s\n",
      "epoch 20 | loss: 0.01663 | val_logits_ll: 0.0177  |  0:00:22s\n",
      "epoch 30 | loss: 0.01626 | val_logits_ll: 0.01754 |  0:00:33s\n",
      "epoch 40 | loss: 0.016   | val_logits_ll: 0.01744 |  0:00:44s\n",
      "epoch 50 | loss: 0.01568 | val_logits_ll: 0.01788 |  0:00:56s\n",
      "epoch 60 | loss: 0.01541 | val_logits_ll: 0.0174  |  0:01:07s\n",
      "epoch 70 | loss: 0.0153  | val_logits_ll: 0.01754 |  0:01:18s\n",
      "epoch 80 | loss: 0.01486 | val_logits_ll: 0.01812 |  0:01:28s\n",
      "\n",
      "Early stopping occured at epoch 86 with best_epoch = 66 and best_val_logits_ll = 0.01722\n",
      "Best weights from best epoch are automatically used!\n",
      "FOLDS :  3\n",
      "Device used : cuda\n",
      "epoch 0  | loss: 0.24815 | val_logits_ll: 0.02719 |  0:00:01s\n",
      "epoch 10 | loss: 0.01783 | val_logits_ll: 0.01944 |  0:00:11s\n",
      "epoch 20 | loss: 0.01671 | val_logits_ll: 0.01852 |  0:00:23s\n",
      "epoch 30 | loss: 0.01635 | val_logits_ll: 0.01847 |  0:00:34s\n",
      "epoch 40 | loss: 0.01583 | val_logits_ll: 0.01834 |  0:00:44s\n",
      "epoch 50 | loss: 0.01565 | val_logits_ll: 0.01824 |  0:00:55s\n",
      "epoch 60 | loss: 0.01541 | val_logits_ll: 0.0182  |  0:01:06s\n",
      "epoch 70 | loss: 0.01497 | val_logits_ll: 0.01835 |  0:01:17s\n",
      "epoch 80 | loss: 0.01464 | val_logits_ll: 0.01824 |  0:01:29s\n",
      "\n",
      "Early stopping occured at epoch 81 with best_epoch = 61 and best_val_logits_ll = 0.01793\n",
      "Best weights from best epoch are automatically used!\n",
      "FOLDS :  4\n",
      "Device used : cuda\n",
      "epoch 0  | loss: 0.24998 | val_logits_ll: 0.02671 |  0:00:01s\n",
      "epoch 10 | loss: 0.01777 | val_logits_ll: 0.01792 |  0:00:11s\n",
      "epoch 20 | loss: 0.01692 | val_logits_ll: 0.01836 |  0:00:22s\n",
      "epoch 30 | loss: 0.01636 | val_logits_ll: 0.01847 |  0:00:33s\n",
      "epoch 40 | loss: 0.01623 | val_logits_ll: 0.01779 |  0:00:44s\n",
      "epoch 50 | loss: 0.01584 | val_logits_ll: 0.01755 |  0:00:56s\n",
      "epoch 60 | loss: 0.01578 | val_logits_ll: 0.01764 |  0:01:07s\n",
      "epoch 70 | loss: 0.01538 | val_logits_ll: 0.01786 |  0:01:17s\n",
      "\n",
      "Early stopping occured at epoch 75 with best_epoch = 55 and best_val_logits_ll = 0.01753\n",
      "Best weights from best epoch are automatically used!\n",
      "FOLDS :  5\n",
      "Device used : cuda\n",
      "epoch 0  | loss: 0.24813 | val_logits_ll: 0.02582 |  0:00:01s\n",
      "epoch 10 | loss: 0.01778 | val_logits_ll: 0.01818 |  0:00:12s\n",
      "epoch 20 | loss: 0.01673 | val_logits_ll: 0.01752 |  0:00:23s\n",
      "epoch 30 | loss: 0.01631 | val_logits_ll: 0.01727 |  0:00:34s\n",
      "epoch 40 | loss: 0.01601 | val_logits_ll: 0.01743 |  0:00:46s\n",
      "epoch 50 | loss: 0.01568 | val_logits_ll: 0.0176  |  0:00:56s\n",
      "epoch 60 | loss: 0.01539 | val_logits_ll: 0.01755 |  0:01:07s\n",
      "\n",
      "Early stopping occured at epoch 63 with best_epoch = 43 and best_val_logits_ll = 0.01725\n",
      "Best weights from best epoch are automatically used!\n",
      "FOLDS :  6\n",
      "Device used : cuda\n",
      "epoch 0  | loss: 0.24832 | val_logits_ll: 0.02862 |  0:00:01s\n",
      "epoch 10 | loss: 0.01765 | val_logits_ll: 0.01943 |  0:00:13s\n",
      "epoch 20 | loss: 0.01673 | val_logits_ll: 0.01909 |  0:00:24s\n",
      "epoch 30 | loss: 0.01623 | val_logits_ll: 0.01881 |  0:00:34s\n",
      "epoch 40 | loss: 0.01608 | val_logits_ll: 0.01855 |  0:00:45s\n",
      "epoch 50 | loss: 0.01577 | val_logits_ll: 0.01866 |  0:00:56s\n",
      "epoch 60 | loss: 0.01552 | val_logits_ll: 0.01886 |  0:01:07s\n",
      "epoch 70 | loss: 0.01538 | val_logits_ll: 0.01845 |  0:01:19s\n",
      "epoch 80 | loss: 0.01508 | val_logits_ll: 0.01869 |  0:01:30s\n",
      "\n",
      "Early stopping occured at epoch 82 with best_epoch = 62 and best_val_logits_ll = 0.01844\n",
      "Best weights from best epoch are automatically used!\n",
      "FOLDS :  7\n",
      "Device used : cuda\n",
      "epoch 0  | loss: 0.24953 | val_logits_ll: 0.02632 |  0:00:01s\n",
      "epoch 10 | loss: 0.01759 | val_logits_ll: 0.0179  |  0:00:11s\n",
      "epoch 20 | loss: 0.01676 | val_logits_ll: 0.01756 |  0:00:22s\n",
      "epoch 30 | loss: 0.01632 | val_logits_ll: 0.01763 |  0:00:33s\n",
      "epoch 40 | loss: 0.01599 | val_logits_ll: 0.01746 |  0:00:45s\n",
      "epoch 50 | loss: 0.01588 | val_logits_ll: 0.01777 |  0:00:55s\n",
      "epoch 60 | loss: 0.01566 | val_logits_ll: 0.01776 |  0:01:06s\n",
      "epoch 70 | loss: 0.01561 | val_logits_ll: 0.01764 |  0:01:17s\n",
      "\n",
      "Early stopping occured at epoch 79 with best_epoch = 59 and best_val_logits_ll = 0.01731\n",
      "Best weights from best epoch are automatically used!\n",
      "OOF log loss: 0.017595173049172973\n",
      "Overall AUC : 0.6368568086140759\n"
     ]
    }
   ],
   "source": [
    "MAX_EPOCH=200\n",
    "device = \"cuda\" if torch.cuda.is_available() else \"cpu\"\n",
    "\n",
    "def seed_everything(seed_value):\n",
    "    random.seed(seed_value)\n",
    "    np.random.seed(seed_value)\n",
    "    torch.manual_seed(seed_value)\n",
    "    os.environ['PYTHONHASHSEED'] = str(seed_value)\n",
    "    \n",
    "    if torch.cuda.is_available(): \n",
    "        torch.cuda.manual_seed(seed_value)\n",
    "        torch.cuda.manual_seed_all(seed_value)\n",
    "        torch.backends.cudnn.deterministic = True\n",
    "        torch.backends.cudnn.benchmark = False\n",
    "\n",
    "def modelling_tabnet(tr, target, te, sample_seed):\n",
    "    seed_everything(sample_seed) \n",
    "    tabnet_params = dict(n_d=24, n_a=24, n_steps=1, gamma=1.5, seed = sample_seed,\n",
    "                     lambda_sparse=0, n_independent=1, n_shared=1, \n",
    "                     optimizer_fn=torch.optim.Adam,\n",
    "                     optimizer_params=dict(lr=2e-2, weight_decay=1e-5),\n",
    "                     mask_type='entmax',\n",
    "                     scheduler_params=dict(mode=\"min\",\n",
    "                                           patience=5,\n",
    "                                           min_lr=1e-5,\n",
    "                                           factor=0.9,),\n",
    "                     scheduler_fn=torch.optim.lr_scheduler.ReduceLROnPlateau,\n",
    "                     verbose=10,\n",
    "                     )\n",
    "    test_cv_preds = []\n",
    "\n",
    "    oof_preds = np.zeros([len(tr),target.shape[1]])\n",
    "    scores = []\n",
    "    for fold_nb in range(NB_SPLITS):\n",
    "        print(\"FOLDS : \", fold_nb+1)\n",
    "        \n",
    "        ## model\n",
    "        val_idx = tr[:,-1] == fold_nb\n",
    "        train_idx = tr[:,-1] != fold_nb\n",
    "        X_train, y_train = tr[train_idx, :], target[train_idx, :]\n",
    "        X_val, y_val = tr[val_idx, :], target[val_idx, :]\n",
    "        X_train = np.delete(X_train, -1, 1)\n",
    "        X_val = np.delete(X_val, -1, 1)\n",
    "        model = TabNetRegressor(**tabnet_params)\n",
    "    \n",
    "        model.fit(X_train=X_train,\n",
    "              y_train=y_train,\n",
    "              eval_set=[(X_val, y_val)],\n",
    "              eval_name = [\"val\"],\n",
    "              eval_metric = [\"logits_ll\"],\n",
    "              max_epochs=MAX_EPOCH,\n",
    "              patience=20, batch_size=512, virtual_batch_size=128,\n",
    "              num_workers=1, drop_last=False,\n",
    "              # use binary cross entropy as this is not a regression problem\n",
    "              loss_fn=torch.nn.functional.binary_cross_entropy_with_logits) \n",
    "    \n",
    "        preds_val = model.predict(X_val)\n",
    "        # Apply sigmoid to the predictions\n",
    "        preds =  1 / (1 + np.exp(-preds_val))\n",
    "        score = np.min(model.history[\"val_logits_ll\"])\n",
    "        oof_preds[val_idx,:] = preds\n",
    "        scores.append(score)\n",
    "\n",
    "        # preds on test\n",
    "        preds_test = model.predict(te)\n",
    "        test_cv_preds.append(1 / (1 + np.exp(-preds_test)))\n",
    "        \n",
    "    test_preds_all = np.stack(test_cv_preds)\n",
    "    print(\"OOF log loss:\", log_loss(np.ravel(target), np.ravel(np.array(oof_preds))))\n",
    "    aucs = []\n",
    "    for task_id in range(206):\n",
    "        aucs.append(roc_auc_score(y_true=target[:, task_id],y_score=oof_preds[:, task_id]))\n",
    "    print(f\"Overall AUC : {np.mean(aucs)}\")\n",
    "    return oof_preds, test_preds_all\n",
    "\n",
    "target_oof = np.zeros([len(fn_train),fn_targets.shape[1]])\n",
    "target_pred = np.zeros([len(fn_test),fn_targets.shape[1]])\n",
    "\n",
    "seeds = [0,100,2]\n",
    "for seed_ in seeds:\n",
    "    oof_preds, test_preds_all = modelling_tabnet(fn_train, fn_targets, fn_test, seed_)\n",
    "    target_oof += oof_preds / len(seeds)\n",
    "    target_pred += test_preds_all.mean(axis=0) / len(seeds)"
   ]
  },
  {
   "cell_type": "code",
   "execution_count": 19,
   "metadata": {
    "execution": {
     "iopub.execute_input": "2020-11-05T04:53:47.946688Z",
     "iopub.status.busy": "2020-11-05T04:53:47.945366Z",
     "iopub.status.idle": "2020-11-05T04:53:49.513134Z",
     "shell.execute_reply": "2020-11-05T04:53:49.513666Z"
    },
    "papermill": {
     "duration": 1.670107,
     "end_time": "2020-11-05T04:53:49.513814",
     "exception": false,
     "start_time": "2020-11-05T04:53:47.843707",
     "status": "completed"
    },
    "tags": []
   },
   "outputs": [
    {
     "name": "stdout",
     "output_type": "stream",
     "text": [
      "Overall AUC : 0.6371336104738133\n"
     ]
    }
   ],
   "source": [
    "aucs = []\n",
    "for task_id in range(targets.shape[1]-1):\n",
    "    aucs.append(roc_auc_score(y_true=targets.iloc[:, task_id+1].values,\n",
    "                              y_score=target_oof[:, task_id]))\n",
    "print(f\"Overall AUC : {np.mean(aucs)}\")"
   ]
  },
  {
   "cell_type": "code",
   "execution_count": 20,
   "metadata": {
    "execution": {
     "iopub.execute_input": "2020-11-05T04:53:49.719165Z",
     "iopub.status.busy": "2020-11-05T04:53:49.718315Z",
     "iopub.status.idle": "2020-11-05T04:53:57.608234Z",
     "shell.execute_reply": "2020-11-05T04:53:57.607428Z"
    },
    "papermill": {
     "duration": 7.999911,
     "end_time": "2020-11-05T04:53:57.608363",
     "exception": false,
     "start_time": "2020-11-05T04:53:49.608452",
     "status": "completed"
    },
    "tags": []
   },
   "outputs": [
    {
     "name": "stdout",
     "output_type": "stream",
     "text": [
      "OOF log loss:  0.015741443045418142\n",
      "OOF log loss:  0.01590001247802439\n"
     ]
    }
   ],
   "source": [
    "p_min = 0.001\n",
    "p_max = 1 - p_min\n",
    "\n",
    "t = pd.read_csv(DATA_DIR + 'train_targets_scored.csv')\n",
    "train_checkscore = t.copy()\n",
    "train_checkscore.loc[train_checkscore.index.isin(cons_train_index),target_feats] = target_oof\n",
    "train_checkscore.loc[train_checkscore.index.isin(noncons_train_index),target_feats] = 0\n",
    "\n",
    "t.drop(\"sig_id\", axis=1, inplace=True)\n",
    "print('OOF log loss: ', log_loss(np.ravel(t), np.ravel(np.array(train_checkscore.iloc[:,1:]))))\n",
    "print('OOF log loss: ', log_loss(np.ravel(t), np.ravel(np.clip(np.array(train_checkscore.iloc[:,1:]),p_min, p_max))))"
   ]
  },
  {
   "cell_type": "code",
   "execution_count": 21,
   "metadata": {
    "execution": {
     "iopub.execute_input": "2020-11-05T04:53:57.813711Z",
     "iopub.status.busy": "2020-11-05T04:53:57.812774Z",
     "iopub.status.idle": "2020-11-05T04:54:00.747558Z",
     "shell.execute_reply": "2020-11-05T04:54:00.746647Z"
    },
    "papermill": {
     "duration": 3.042793,
     "end_time": "2020-11-05T04:54:00.747683",
     "exception": false,
     "start_time": "2020-11-05T04:53:57.704890",
     "status": "completed"
    },
    "tags": []
   },
   "outputs": [],
   "source": [
    "sub[target_feats] = target_pred\n",
    "sub.loc[noncons_test_index,target_feats] = 0\n",
    "sub.to_csv('submission.csv', index=False)"
   ]
  },
  {
   "cell_type": "code",
   "execution_count": null,
   "metadata": {
    "papermill": {
     "duration": 0.099328,
     "end_time": "2020-11-05T04:54:00.942911",
     "exception": false,
     "start_time": "2020-11-05T04:54:00.843583",
     "status": "completed"
    },
    "tags": []
   },
   "outputs": [],
   "source": []
  }
 ],
 "metadata": {
  "kernelspec": {
   "display_name": "Python 3",
   "language": "python",
   "name": "python3"
  },
  "language_info": {
   "codemirror_mode": {
    "name": "ipython",
    "version": 3
   },
   "file_extension": ".py",
   "mimetype": "text/x-python",
   "name": "python",
   "nbconvert_exporter": "python",
   "pygments_lexer": "ipython3",
   "version": "3.7.6"
  },
  "papermill": {
   "duration": 1655.95384,
   "end_time": "2020-11-05T04:54:01.550150",
   "environment_variables": {},
   "exception": null,
   "input_path": "__notebook__.ipynb",
   "output_path": "__notebook__.ipynb",
   "parameters": {},
   "start_time": "2020-11-05T04:26:25.596310",
   "version": "2.1.0"
  }
 },
 "nbformat": 4,
 "nbformat_minor": 4
}
