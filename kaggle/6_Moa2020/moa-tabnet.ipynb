{
 "cells": [
  {
   "cell_type": "markdown",
   "metadata": {
    "papermill": {
     "duration": 0.013086,
     "end_time": "2020-10-29T10:34:47.659142",
     "exception": false,
     "start_time": "2020-10-29T10:34:47.646056",
     "status": "completed"
    },
    "tags": []
   },
   "source": [
    "- consider ctl group\n",
    "- change fe method in categorical vars"
   ]
  },
  {
   "cell_type": "code",
   "execution_count": 1,
   "metadata": {
    "execution": {
     "iopub.execute_input": "2020-10-29T10:34:47.688902Z",
     "iopub.status.busy": "2020-10-29T10:34:47.688238Z",
     "iopub.status.idle": "2020-10-29T10:34:55.402306Z",
     "shell.execute_reply": "2020-10-29T10:34:55.401615Z"
    },
    "papermill": {
     "duration": 7.73142,
     "end_time": "2020-10-29T10:34:55.402457",
     "exception": false,
     "start_time": "2020-10-29T10:34:47.671037",
     "status": "completed"
    },
    "tags": []
   },
   "outputs": [
    {
     "name": "stdout",
     "output_type": "stream",
     "text": [
      "Looking in links: /kaggle/input/pytorchtabnet/pytorch_tabnet-2.0.0-py3-none-any.whl\r\n",
      "Processing /kaggle/input/pytorchtabnet/pytorch_tabnet-2.0.0-py3-none-any.whl\r\n",
      "Requirement already satisfied: tqdm<5.0,>=4.36 in /opt/conda/lib/python3.7/site-packages (from pytorch-tabnet) (4.45.0)\r\n",
      "Requirement already satisfied: scipy>1.4 in /opt/conda/lib/python3.7/site-packages (from pytorch-tabnet) (1.4.1)\r\n",
      "Requirement already satisfied: numpy<2.0,>=1.17 in /opt/conda/lib/python3.7/site-packages (from pytorch-tabnet) (1.18.5)\r\n",
      "Requirement already satisfied: scikit_learn>0.21 in /opt/conda/lib/python3.7/site-packages (from pytorch-tabnet) (0.23.2)\r\n",
      "Requirement already satisfied: torch<2.0,>=1.2 in /opt/conda/lib/python3.7/site-packages (from pytorch-tabnet) (1.6.0)\r\n",
      "Requirement already satisfied: threadpoolctl>=2.0.0 in /opt/conda/lib/python3.7/site-packages (from scikit_learn>0.21->pytorch-tabnet) (2.1.0)\r\n",
      "Requirement already satisfied: joblib>=0.11 in /opt/conda/lib/python3.7/site-packages (from scikit_learn>0.21->pytorch-tabnet) (0.14.1)\r\n",
      "Requirement already satisfied: future in /opt/conda/lib/python3.7/site-packages (from torch<2.0,>=1.2->pytorch-tabnet) (0.18.2)\r\n",
      "Installing collected packages: pytorch-tabnet\r\n",
      "Successfully installed pytorch-tabnet-2.0.0\r\n"
     ]
    }
   ],
   "source": [
    "!pip install --no-index --find-links /kaggle/input/pytorchtabnet/pytorch_tabnet-2.0.0-py3-none-any.whl pytorch-tabnet"
   ]
  },
  {
   "cell_type": "code",
   "execution_count": 2,
   "metadata": {
    "_cell_guid": "b1076dfc-b9ad-4769-8c92-a6c4dae69d19",
    "_uuid": "8f2839f25d086af736a60e9eeb907d3b93b6e0e5",
    "execution": {
     "iopub.execute_input": "2020-10-29T10:34:55.441842Z",
     "iopub.status.busy": "2020-10-29T10:34:55.441172Z",
     "iopub.status.idle": "2020-10-29T10:35:03.018699Z",
     "shell.execute_reply": "2020-10-29T10:35:03.017990Z"
    },
    "papermill": {
     "duration": 7.601582,
     "end_time": "2020-10-29T10:35:03.018817",
     "exception": false,
     "start_time": "2020-10-29T10:34:55.417235",
     "status": "completed"
    },
    "tags": []
   },
   "outputs": [],
   "source": [
    "import os\n",
    "import sys\n",
    "import random\n",
    "import warnings\n",
    "import numpy as np\n",
    "import pandas as pd \n",
    "from sklearn import preprocessing\n",
    "from sklearn.metrics import log_loss,roc_auc_score\n",
    "from sklearn.decomposition import PCA\n",
    "from tqdm import tqdm_notebook as tqdm\n",
    "from sklearn.cluster import KMeans\n",
    "from sklearn.multioutput import MultiOutputClassifier\n",
    "from sklearn.feature_selection import VarianceThreshold\n",
    "\n",
    "from pytorch_tabnet.metrics import Metric\n",
    "from pytorch_tabnet.tab_model import TabNetRegressor\n",
    "\n",
    "sys.path.append('../input/multilabelstraifier/')\n",
    "from ml_stratifiers import MultilabelStratifiedKFold\n",
    "warnings.filterwarnings('ignore')\n",
    "\n",
    "import time\n",
    "import torch\n",
    "import torch.nn as nn\n",
    "import torch.optim as optim\n",
    "import torch.nn.functional as F\n",
    "import tensorflow as tf"
   ]
  },
  {
   "cell_type": "code",
   "execution_count": 3,
   "metadata": {
    "execution": {
     "iopub.execute_input": "2020-10-29T10:35:03.055828Z",
     "iopub.status.busy": "2020-10-29T10:35:03.054937Z",
     "iopub.status.idle": "2020-10-29T10:35:08.491429Z",
     "shell.execute_reply": "2020-10-29T10:35:08.490730Z"
    },
    "papermill": {
     "duration": 5.458702,
     "end_time": "2020-10-29T10:35:08.491549",
     "exception": false,
     "start_time": "2020-10-29T10:35:03.032847",
     "status": "completed"
    },
    "tags": []
   },
   "outputs": [],
   "source": [
    "DATA_DIR = '/kaggle/input/lish-moa/'\n",
    "train = pd.read_csv(DATA_DIR + 'train_features.csv')\n",
    "targets = pd.read_csv(DATA_DIR + 'train_targets_scored.csv')\n",
    "non_targets = pd.read_csv(DATA_DIR + 'train_targets_nonscored.csv')\n",
    "test = pd.read_csv(DATA_DIR + 'test_features.csv')\n",
    "sub = pd.read_csv(DATA_DIR + 'sample_submission.csv')"
   ]
  },
  {
   "cell_type": "code",
   "execution_count": 4,
   "metadata": {
    "execution": {
     "iopub.execute_input": "2020-10-29T10:35:08.530656Z",
     "iopub.status.busy": "2020-10-29T10:35:08.529921Z",
     "iopub.status.idle": "2020-10-29T10:35:08.658923Z",
     "shell.execute_reply": "2020-10-29T10:35:08.658239Z"
    },
    "papermill": {
     "duration": 0.153488,
     "end_time": "2020-10-29T10:35:08.659038",
     "exception": false,
     "start_time": "2020-10-29T10:35:08.505550",
     "status": "completed"
    },
    "tags": []
   },
   "outputs": [],
   "source": [
    "target_feats = [ i for i in targets.columns if i != \"sig_id\"]\n",
    "g_feats = [i for i in train.columns if \"g-\" in i]\n",
    "c_feats = [i for i in train.columns if \"c-\" in i]\n",
    "\n",
    "noncons_train_index = train[train.cp_type==\"ctl_vehicle\"].index\n",
    "cons_train_index = train[~train.index.isin(noncons_train_index)].index\n",
    "noncons_test_index = test[test.cp_type==\"ctl_vehicle\"].index\n",
    "cons_test_index = test[test.cp_type!=\"ctl_vehicle\"].index"
   ]
  },
  {
   "cell_type": "markdown",
   "metadata": {
    "papermill": {
     "duration": 0.013708,
     "end_time": "2020-10-29T10:35:08.686959",
     "exception": false,
     "start_time": "2020-10-29T10:35:08.673251",
     "status": "completed"
    },
    "tags": []
   },
   "source": [
    "# preprocess"
   ]
  },
  {
   "cell_type": "code",
   "execution_count": 5,
   "metadata": {
    "execution": {
     "iopub.execute_input": "2020-10-29T10:35:08.719317Z",
     "iopub.status.busy": "2020-10-29T10:35:08.718706Z",
     "iopub.status.idle": "2020-10-29T10:35:08.721749Z",
     "shell.execute_reply": "2020-10-29T10:35:08.721123Z"
    },
    "papermill": {
     "duration": 0.020904,
     "end_time": "2020-10-29T10:35:08.721856",
     "exception": false,
     "start_time": "2020-10-29T10:35:08.700952",
     "status": "completed"
    },
    "tags": []
   },
   "outputs": [],
   "source": [
    "#train = train[train.index.isin(cons_train_index)].copy().reset_index(drop=True)\n",
    "#targets = targets[targets.index.isin(cons_train_index)].copy().reset_index(drop=True)"
   ]
  },
  {
   "cell_type": "markdown",
   "metadata": {
    "papermill": {
     "duration": 0.013845,
     "end_time": "2020-10-29T10:35:08.749852",
     "exception": false,
     "start_time": "2020-10-29T10:35:08.736007",
     "status": "completed"
    },
    "tags": []
   },
   "source": [
    "# feature engineering"
   ]
  },
  {
   "cell_type": "code",
   "execution_count": 6,
   "metadata": {
    "execution": {
     "iopub.execute_input": "2020-10-29T10:35:08.839069Z",
     "iopub.status.busy": "2020-10-29T10:35:08.838419Z",
     "iopub.status.idle": "2020-10-29T10:35:09.285608Z",
     "shell.execute_reply": "2020-10-29T10:35:09.285046Z"
    },
    "papermill": {
     "duration": 0.52181,
     "end_time": "2020-10-29T10:35:09.285725",
     "exception": false,
     "start_time": "2020-10-29T10:35:08.763915",
     "status": "completed"
    },
    "tags": []
   },
   "outputs": [
    {
     "data": {
      "text/plain": [
       "65"
      ]
     },
     "execution_count": 6,
     "metadata": {},
     "output_type": "execute_result"
    }
   ],
   "source": [
    "X = train.iloc[:,4:].copy().values\n",
    "select = VarianceThreshold(threshold=0.8)\n",
    "X_new = select.fit_transform(X)\n",
    "drop_feats = list(np.array(train.iloc[:,4:].columns)[select.get_support()==False])\n",
    "len(drop_feats)"
   ]
  },
  {
   "cell_type": "code",
   "execution_count": 7,
   "metadata": {
    "execution": {
     "iopub.execute_input": "2020-10-29T10:35:09.320589Z",
     "iopub.status.busy": "2020-10-29T10:35:09.319750Z",
     "iopub.status.idle": "2020-10-29T10:35:09.322740Z",
     "shell.execute_reply": "2020-10-29T10:35:09.322126Z"
    },
    "papermill": {
     "duration": 0.021942,
     "end_time": "2020-10-29T10:35:09.322848",
     "exception": false,
     "start_time": "2020-10-29T10:35:09.300906",
     "status": "completed"
    },
    "tags": []
   },
   "outputs": [],
   "source": [
    "#train.drop(drop_feats, axis=1, inplace=True)\n",
    "#test.drop(drop_feats, axis=1, inplace=True)\n",
    "#g_feats = [i for i in train.columns if \"g-\" in i]\n",
    "#c_feats = [i for i in train.columns if \"c-\" in i]"
   ]
  },
  {
   "cell_type": "code",
   "execution_count": 8,
   "metadata": {
    "execution": {
     "iopub.execute_input": "2020-10-29T10:35:09.357409Z",
     "iopub.status.busy": "2020-10-29T10:35:09.356705Z",
     "iopub.status.idle": "2020-10-29T10:35:09.361298Z",
     "shell.execute_reply": "2020-10-29T10:35:09.360823Z"
    },
    "papermill": {
     "duration": 0.023579,
     "end_time": "2020-10-29T10:35:09.361431",
     "exception": false,
     "start_time": "2020-10-29T10:35:09.337852",
     "status": "completed"
    },
    "tags": []
   },
   "outputs": [],
   "source": [
    "#n_clusters_g = 15\n",
    "#n_clusters_c = 5\n",
    "#def create_cluster(train, test, kind, n_clusters):\n",
    "#    if kind == \"g\":\n",
    "#        train_ = train[g_feats].copy()\n",
    "#        test_ = test[g_feats].copy()\n",
    "#    else:\n",
    "#        train_ = train[c_feats].copy()\n",
    "#        test_ = test[c_feats].copy()    \n",
    "#    kmeans = KMeans(n_clusters = n_clusters, random_state = 0).fit(train_)\n",
    "#    train[f'clusters_{kind}'] = kmeans.labels_\n",
    "#    test[f'clusters_{kind}'] = kmeans.predict(test_)\n",
    "#    train = pd.get_dummies(train, columns = [f'clusters_{kind}'])\n",
    "#    test = pd.get_dummies(test, columns = [f'clusters_{kind}'])\n",
    "#    return train, test\n",
    "    \n",
    "#train, test = create_cluster(train, test, kind = 'g', n_clusters = n_clusters_g)\n",
    "#train, test = create_cluster(train, test, kind = 'c', n_clusters = n_clusters_c)"
   ]
  },
  {
   "cell_type": "code",
   "execution_count": 9,
   "metadata": {
    "execution": {
     "iopub.execute_input": "2020-10-29T10:35:09.396157Z",
     "iopub.status.busy": "2020-10-29T10:35:09.395219Z",
     "iopub.status.idle": "2020-10-29T10:35:09.398196Z",
     "shell.execute_reply": "2020-10-29T10:35:09.397596Z"
    },
    "papermill": {
     "duration": 0.022001,
     "end_time": "2020-10-29T10:35:09.398304",
     "exception": false,
     "start_time": "2020-10-29T10:35:09.376303",
     "status": "completed"
    },
    "tags": []
   },
   "outputs": [],
   "source": [
    "#num = 10\n",
    "#pca_c_cols = [\"pca-c\"+str(i+1) for i in range(num)]\n",
    "#pca = PCA(n_components=num,random_state=42)\n",
    "#c_train = pca.fit_transform(train[c_feats])\n",
    "#c_test = pca.transform(test[c_feats])\n",
    "#c_train = pd.DataFrame(c_train, columns=pca_c_cols)\n",
    "#c_test = pd.DataFrame(c_test, columns=pca_c_cols)\n",
    "\n",
    "#num = 60\n",
    "#pca_g_cols = [\"pca-g\"+str(i+1) for i in range(num)]\n",
    "#pca = PCA(n_components=num, random_state=42)\n",
    "#g_train = pca.fit_transform(train[g_feats])\n",
    "#g_test = pca.transform(test[g_feats])\n",
    "#g_train = pd.DataFrame(g_train, columns=pca_g_cols)\n",
    "#g_test = pd.DataFrame(g_test, columns=pca_g_cols)\n",
    "\n",
    "#train = pd.concat([train, c_train],axis=1)\n",
    "#test = pd.concat([test, c_test],axis=1)\n",
    "#train = pd.concat([train, g_train],axis=1)\n",
    "#test = pd.concat([test, g_test],axis=1)"
   ]
  },
  {
   "cell_type": "code",
   "execution_count": 10,
   "metadata": {
    "execution": {
     "iopub.execute_input": "2020-10-29T10:35:09.434844Z",
     "iopub.status.busy": "2020-10-29T10:35:09.434174Z",
     "iopub.status.idle": "2020-10-29T10:35:09.796409Z",
     "shell.execute_reply": "2020-10-29T10:35:09.797187Z"
    },
    "papermill": {
     "duration": 0.3841,
     "end_time": "2020-10-29T10:35:09.797415",
     "exception": false,
     "start_time": "2020-10-29T10:35:09.413315",
     "status": "completed"
    },
    "tags": []
   },
   "outputs": [
    {
     "name": "stdout",
     "output_type": "stream",
     "text": [
      "(23814, 879) (3982, 879)\n"
     ]
    }
   ],
   "source": [
    "def fe(df):\n",
    "    tmp = df.copy()\n",
    "    tmp = pd.get_dummies(tmp, columns=['cp_time', 'cp_dose', 'cp_type'])\n",
    "    #tmp.loc[:, 'cp_dose'] = tmp.loc[:, 'cp_dose'].map({'D1': 0, 'D2': 1})        \n",
    "    tmp.drop([\"sig_id\"], axis=1, inplace=True)\n",
    "    return tmp\n",
    "\n",
    "train = fe(train)\n",
    "test = fe(test)\n",
    "\n",
    "print(train.shape, test.shape)"
   ]
  },
  {
   "cell_type": "code",
   "execution_count": 11,
   "metadata": {
    "execution": {
     "iopub.execute_input": "2020-10-29T10:35:09.837941Z",
     "iopub.status.busy": "2020-10-29T10:35:09.837173Z",
     "iopub.status.idle": "2020-10-29T10:35:11.596809Z",
     "shell.execute_reply": "2020-10-29T10:35:11.597304Z"
    },
    "papermill": {
     "duration": 1.783469,
     "end_time": "2020-10-29T10:35:11.597482",
     "exception": false,
     "start_time": "2020-10-29T10:35:09.814013",
     "status": "completed"
    },
    "tags": []
   },
   "outputs": [],
   "source": [
    "fn_train = train.copy()\n",
    "fn_test = test.copy()\n",
    "\n",
    "for i in g_feats + c_feats:\n",
    "    ss = preprocessing.RobustScaler()\n",
    "    ss.fit(fn_train[i].values.reshape(-1,1))\n",
    "    fn_train[i] = ss.transform(fn_train[i].values.reshape(-1,1))\n",
    "    fn_test[i] = ss.transform(fn_test[i].values.reshape(-1,1))\n",
    "    \n",
    "fn_train = fn_train.to_numpy()\n",
    "fn_test = fn_test.to_numpy()\n",
    "\n",
    "fn_targets = targets.drop(\"sig_id\", axis=1).copy().to_numpy()"
   ]
  },
  {
   "cell_type": "code",
   "execution_count": 12,
   "metadata": {
    "execution": {
     "iopub.execute_input": "2020-10-29T10:35:11.634879Z",
     "iopub.status.busy": "2020-10-29T10:35:11.633722Z",
     "iopub.status.idle": "2020-10-29T10:35:11.637741Z",
     "shell.execute_reply": "2020-10-29T10:35:11.637099Z"
    },
    "papermill": {
     "duration": 0.024751,
     "end_time": "2020-10-29T10:35:11.637853",
     "exception": false,
     "start_time": "2020-10-29T10:35:11.613102",
     "status": "completed"
    },
    "tags": []
   },
   "outputs": [
    {
     "data": {
      "text/plain": [
       "((23814, 879), (3982, 879), (23814, 206))"
      ]
     },
     "execution_count": 12,
     "metadata": {},
     "output_type": "execute_result"
    }
   ],
   "source": [
    "fn_train.shape, fn_test.shape, fn_targets.shape"
   ]
  },
  {
   "cell_type": "markdown",
   "metadata": {
    "papermill": {
     "duration": 0.016,
     "end_time": "2020-10-29T10:35:11.670146",
     "exception": false,
     "start_time": "2020-10-29T10:35:11.654146",
     "status": "completed"
    },
    "tags": []
   },
   "source": [
    "# modelling"
   ]
  },
  {
   "cell_type": "code",
   "execution_count": 13,
   "metadata": {
    "execution": {
     "iopub.execute_input": "2020-10-29T10:35:11.710729Z",
     "iopub.status.busy": "2020-10-29T10:35:11.710007Z",
     "iopub.status.idle": "2020-10-29T10:35:11.713328Z",
     "shell.execute_reply": "2020-10-29T10:35:11.712850Z"
    },
    "papermill": {
     "duration": 0.027112,
     "end_time": "2020-10-29T10:35:11.713474",
     "exception": false,
     "start_time": "2020-10-29T10:35:11.686362",
     "status": "completed"
    },
    "tags": []
   },
   "outputs": [],
   "source": [
    "class LogitsLogLoss(Metric):\n",
    "    def __init__(self):\n",
    "        self._name = \"logits_ll\"\n",
    "        self._maximize = False\n",
    "\n",
    "    def __call__(self, y_true, y_pred):\n",
    "        \"\"\"\n",
    "        Compute LogLoss of predictions.\n",
    "\n",
    "        Parameters\n",
    "        ----------\n",
    "        y_true: np.ndarray\n",
    "            Target matrix or vector\n",
    "        y_score: np.ndarray\n",
    "            Score matrix or vector\n",
    "\n",
    "        Returns\n",
    "        -------\n",
    "            float\n",
    "            LogLoss of predictions vs targets.\n",
    "        \"\"\"\n",
    "        logits = 1 / (1 + np.exp(-y_pred))\n",
    "        \n",
    "        #smoothing = 0.001\n",
    "        #n_classes = 206\n",
    "        #y_true = y_true * (1 - smoothing) + np.ones_like(y_true) * smoothing / n_classes\n",
    "        \n",
    "        aux = (1-y_true)*np.log(1-logits+1e-15) + y_true*np.log(logits+1e-15)\n",
    "        return np.mean(-aux)"
   ]
  },
  {
   "cell_type": "code",
   "execution_count": 14,
   "metadata": {
    "execution": {
     "iopub.execute_input": "2020-10-29T10:35:11.767590Z",
     "iopub.status.busy": "2020-10-29T10:35:11.766837Z",
     "iopub.status.idle": "2020-10-29T13:01:49.082983Z",
     "shell.execute_reply": "2020-10-29T13:01:49.082342Z"
    },
    "papermill": {
     "duration": 8797.352974,
     "end_time": "2020-10-29T13:01:49.083130",
     "exception": false,
     "start_time": "2020-10-29T10:35:11.730156",
     "status": "completed"
    },
    "tags": []
   },
   "outputs": [
    {
     "name": "stdout",
     "output_type": "stream",
     "text": [
      "FOLDS :  1\n",
      "Device used : cpu\n",
      "epoch 0  | loss: 0.50465 | val_logits_ll: 0.21348 |  0:00:05s\n",
      "epoch 10 | loss: 0.01919 | val_logits_ll: 0.01922 |  0:00:56s\n",
      "epoch 20 | loss: 0.01695 | val_logits_ll: 0.01727 |  0:01:46s\n",
      "epoch 30 | loss: 0.01615 | val_logits_ll: 0.01657 |  0:02:37s\n",
      "epoch 40 | loss: 0.0156  | val_logits_ll: 0.0162  |  0:03:28s\n",
      "epoch 50 | loss: 0.01526 | val_logits_ll: 0.01637 |  0:04:20s\n",
      "epoch 60 | loss: 0.01508 | val_logits_ll: 0.01641 |  0:05:11s\n",
      "epoch 70 | loss: 0.01465 | val_logits_ll: 0.01601 |  0:06:02s\n",
      "epoch 80 | loss: 0.01449 | val_logits_ll: 0.01617 |  0:06:54s\n",
      "epoch 90 | loss: 0.01428 | val_logits_ll: 0.01583 |  0:07:49s\n",
      "epoch 100| loss: 0.01397 | val_logits_ll: 0.01599 |  0:08:51s\n",
      "\n",
      "Early stopping occured at epoch 102 with best_epoch = 82 and best_val_logits_ll = 0.01574\n",
      "Best weights from best epoch are automatically used!\n",
      "FOLDS :  2\n",
      "Device used : cpu\n",
      "epoch 0  | loss: 0.51319 | val_logits_ll: 0.23419 |  0:00:05s\n",
      "epoch 10 | loss: 0.01916 | val_logits_ll: 0.01897 |  0:00:56s\n",
      "epoch 20 | loss: 0.01699 | val_logits_ll: 0.01727 |  0:01:47s\n",
      "epoch 30 | loss: 0.01605 | val_logits_ll: 0.01668 |  0:02:38s\n",
      "epoch 40 | loss: 0.01544 | val_logits_ll: 0.01636 |  0:03:30s\n",
      "epoch 50 | loss: 0.01519 | val_logits_ll: 0.0162  |  0:04:22s\n",
      "epoch 60 | loss: 0.01486 | val_logits_ll: 0.01598 |  0:05:15s\n",
      "epoch 70 | loss: 0.01477 | val_logits_ll: 0.01596 |  0:06:08s\n",
      "epoch 80 | loss: 0.01453 | val_logits_ll: 0.01589 |  0:07:00s\n",
      "epoch 90 | loss: 0.01433 | val_logits_ll: 0.01586 |  0:07:55s\n",
      "epoch 100| loss: 0.01419 | val_logits_ll: 0.01599 |  0:08:56s\n",
      "epoch 110| loss: 0.01402 | val_logits_ll: 0.01581 |  0:09:57s\n",
      "\n",
      "Early stopping occured at epoch 116 with best_epoch = 96 and best_val_logits_ll = 0.01566\n",
      "Best weights from best epoch are automatically used!\n",
      "FOLDS :  3\n",
      "Device used : cpu\n",
      "epoch 0  | loss: 0.51362 | val_logits_ll: 0.21795 |  0:00:05s\n",
      "epoch 10 | loss: 0.01943 | val_logits_ll: 0.01927 |  0:00:56s\n",
      "epoch 20 | loss: 0.01795 | val_logits_ll: 0.01797 |  0:01:47s\n",
      "epoch 30 | loss: 0.01649 | val_logits_ll: 0.01694 |  0:02:38s\n",
      "epoch 40 | loss: 0.01582 | val_logits_ll: 0.0164  |  0:03:29s\n",
      "epoch 50 | loss: 0.0154  | val_logits_ll: 0.01613 |  0:04:20s\n",
      "epoch 60 | loss: 0.01515 | val_logits_ll: 0.01589 |  0:05:12s\n",
      "epoch 70 | loss: 0.01505 | val_logits_ll: 0.01609 |  0:06:04s\n",
      "epoch 80 | loss: 0.01482 | val_logits_ll: 0.01596 |  0:06:56s\n",
      "epoch 90 | loss: 0.0145  | val_logits_ll: 0.01586 |  0:07:50s\n",
      "\n",
      "Early stopping occured at epoch 94 with best_epoch = 74 and best_val_logits_ll = 0.01575\n",
      "Best weights from best epoch are automatically used!\n",
      "FOLDS :  4\n",
      "Device used : cpu\n",
      "epoch 0  | loss: 0.50984 | val_logits_ll: 0.2207  |  0:00:05s\n",
      "epoch 10 | loss: 0.01927 | val_logits_ll: 0.01918 |  0:01:00s\n",
      "epoch 20 | loss: 0.01739 | val_logits_ll: 0.01819 |  0:01:50s\n",
      "epoch 30 | loss: 0.01632 | val_logits_ll: 0.01777 |  0:02:41s\n",
      "epoch 40 | loss: 0.0157  | val_logits_ll: 0.01641 |  0:03:32s\n",
      "epoch 50 | loss: 0.01533 | val_logits_ll: 0.01612 |  0:04:24s\n",
      "epoch 60 | loss: 0.01509 | val_logits_ll: 0.01592 |  0:05:16s\n",
      "epoch 70 | loss: 0.01473 | val_logits_ll: 0.01596 |  0:06:08s\n",
      "epoch 80 | loss: 0.01447 | val_logits_ll: 0.01576 |  0:06:59s\n",
      "epoch 90 | loss: 0.01442 | val_logits_ll: 0.01578 |  0:07:52s\n",
      "epoch 100| loss: 0.0142  | val_logits_ll: 0.01581 |  0:08:47s\n",
      "epoch 110| loss: 0.01383 | val_logits_ll: 0.01596 |  0:09:44s\n",
      "\n",
      "Early stopping occured at epoch 114 with best_epoch = 94 and best_val_logits_ll = 0.01561\n",
      "Best weights from best epoch are automatically used!\n",
      "FOLDS :  5\n",
      "Device used : cpu\n",
      "epoch 0  | loss: 0.51404 | val_logits_ll: 0.25239 |  0:00:07s\n",
      "epoch 10 | loss: 0.01917 | val_logits_ll: 0.01925 |  0:00:59s\n",
      "epoch 20 | loss: 0.01789 | val_logits_ll: 0.01798 |  0:01:49s\n",
      "epoch 30 | loss: 0.01621 | val_logits_ll: 0.01841 |  0:02:40s\n",
      "epoch 40 | loss: 0.01567 | val_logits_ll: 0.01676 |  0:03:30s\n",
      "epoch 50 | loss: 0.01522 | val_logits_ll: 0.01614 |  0:04:22s\n",
      "epoch 60 | loss: 0.01498 | val_logits_ll: 0.01778 |  0:05:14s\n",
      "epoch 70 | loss: 0.01476 | val_logits_ll: 0.01638 |  0:06:05s\n",
      "epoch 80 | loss: 0.01448 | val_logits_ll: 0.01606 |  0:06:56s\n",
      "epoch 90 | loss: 0.01412 | val_logits_ll: 0.01599 |  0:07:50s\n",
      "epoch 100| loss: 0.01383 | val_logits_ll: 0.01618 |  0:08:46s\n",
      "\n",
      "Early stopping occured at epoch 107 with best_epoch = 87 and best_val_logits_ll = 0.01583\n",
      "Best weights from best epoch are automatically used!\n",
      "FOLDS :  1\n",
      "Device used : cpu\n",
      "epoch 0  | loss: 0.52621 | val_logits_ll: 0.25528 |  0:00:05s\n",
      "epoch 10 | loss: 0.01907 | val_logits_ll: 0.01908 |  0:00:59s\n",
      "epoch 20 | loss: 0.01727 | val_logits_ll: 0.01748 |  0:01:50s\n",
      "epoch 30 | loss: 0.01639 | val_logits_ll: 0.01699 |  0:02:41s\n",
      "epoch 40 | loss: 0.0157  | val_logits_ll: 0.01669 |  0:03:32s\n",
      "epoch 50 | loss: 0.0154  | val_logits_ll: 0.01643 |  0:04:23s\n",
      "epoch 60 | loss: 0.01499 | val_logits_ll: 0.01629 |  0:05:15s\n",
      "epoch 70 | loss: 0.01477 | val_logits_ll: 0.01629 |  0:06:06s\n",
      "epoch 80 | loss: 0.01454 | val_logits_ll: 0.01634 |  0:06:58s\n",
      "epoch 90 | loss: 0.01428 | val_logits_ll: 0.01609 |  0:07:51s\n",
      "\n",
      "Early stopping occured at epoch 98 with best_epoch = 78 and best_val_logits_ll = 0.01605\n",
      "Best weights from best epoch are automatically used!\n",
      "FOLDS :  2\n",
      "Device used : cpu\n",
      "epoch 0  | loss: 0.52017 | val_logits_ll: 0.24723 |  0:00:05s\n",
      "epoch 10 | loss: 0.01904 | val_logits_ll: 0.01889 |  0:00:55s\n",
      "epoch 20 | loss: 0.01726 | val_logits_ll: 0.01745 |  0:01:46s\n",
      "epoch 30 | loss: 0.01639 | val_logits_ll: 0.01681 |  0:02:40s\n",
      "epoch 40 | loss: 0.01573 | val_logits_ll: 0.01622 |  0:03:31s\n",
      "epoch 50 | loss: 0.01535 | val_logits_ll: 0.01615 |  0:04:24s\n",
      "epoch 60 | loss: 0.01503 | val_logits_ll: 0.01602 |  0:05:16s\n",
      "epoch 70 | loss: 0.01488 | val_logits_ll: 0.01593 |  0:06:07s\n",
      "epoch 80 | loss: 0.01479 | val_logits_ll: 0.01596 |  0:06:59s\n",
      "epoch 90 | loss: 0.01451 | val_logits_ll: 0.01598 |  0:07:53s\n",
      "epoch 100| loss: 0.01426 | val_logits_ll: 0.01592 |  0:08:50s\n",
      "\n",
      "Early stopping occured at epoch 105 with best_epoch = 85 and best_val_logits_ll = 0.01581\n",
      "Best weights from best epoch are automatically used!\n",
      "FOLDS :  3\n",
      "Device used : cpu\n",
      "epoch 0  | loss: 0.5275  | val_logits_ll: 0.24563 |  0:00:05s\n",
      "epoch 10 | loss: 0.01906 | val_logits_ll: 0.01896 |  0:00:56s\n",
      "epoch 20 | loss: 0.01728 | val_logits_ll: 0.01874 |  0:01:46s\n",
      "epoch 30 | loss: 0.01617 | val_logits_ll: 0.01672 |  0:02:37s\n",
      "epoch 40 | loss: 0.01561 | val_logits_ll: 0.0162  |  0:03:33s\n",
      "epoch 50 | loss: 0.01528 | val_logits_ll: 0.01601 |  0:04:25s\n",
      "epoch 60 | loss: 0.01523 | val_logits_ll: 0.016   |  0:05:17s\n",
      "epoch 70 | loss: 0.01475 | val_logits_ll: 0.01587 |  0:06:08s\n",
      "epoch 80 | loss: 0.01454 | val_logits_ll: 0.01597 |  0:07:01s\n",
      "epoch 90 | loss: 0.01434 | val_logits_ll: 0.01581 |  0:07:55s\n",
      "epoch 100| loss: 0.01416 | val_logits_ll: 0.0159  |  0:08:53s\n",
      "\n",
      "Early stopping occured at epoch 105 with best_epoch = 85 and best_val_logits_ll = 0.01568\n",
      "Best weights from best epoch are automatically used!\n",
      "FOLDS :  4\n",
      "Device used : cpu\n",
      "epoch 0  | loss: 0.52472 | val_logits_ll: 0.25843 |  0:00:05s\n",
      "epoch 10 | loss: 0.01927 | val_logits_ll: 0.01911 |  0:00:55s\n",
      "epoch 20 | loss: 0.01721 | val_logits_ll: 0.01739 |  0:01:46s\n",
      "epoch 30 | loss: 0.01622 | val_logits_ll: 0.01872 |  0:02:36s\n",
      "epoch 40 | loss: 0.01576 | val_logits_ll: 0.01658 |  0:03:27s\n",
      "epoch 50 | loss: 0.01537 | val_logits_ll: 0.01612 |  0:04:23s\n",
      "epoch 60 | loss: 0.01517 | val_logits_ll: 0.01608 |  0:05:15s\n",
      "epoch 70 | loss: 0.01498 | val_logits_ll: 0.01594 |  0:06:06s\n",
      "epoch 80 | loss: 0.01477 | val_logits_ll: 0.01583 |  0:06:58s\n",
      "epoch 90 | loss: 0.01467 | val_logits_ll: 0.01615 |  0:07:50s\n",
      "epoch 100| loss: 0.01467 | val_logits_ll: 0.01563 |  0:08:45s\n",
      "epoch 110| loss: 0.01437 | val_logits_ll: 0.01576 |  0:09:42s\n",
      "epoch 120| loss: 0.01405 | val_logits_ll: 0.01569 |  0:10:41s\n",
      "epoch 130| loss: 0.01389 | val_logits_ll: 0.01578 |  0:11:41s\n",
      "\n",
      "Early stopping occured at epoch 139 with best_epoch = 119 and best_val_logits_ll = 0.01562\n",
      "Best weights from best epoch are automatically used!\n",
      "FOLDS :  5\n",
      "Device used : cpu\n",
      "epoch 0  | loss: 0.52723 | val_logits_ll: 0.25772 |  0:00:05s\n",
      "epoch 10 | loss: 0.01926 | val_logits_ll: 0.01919 |  0:00:55s\n",
      "epoch 20 | loss: 0.01758 | val_logits_ll: 0.01779 |  0:01:49s\n",
      "epoch 30 | loss: 0.01649 | val_logits_ll: 0.01686 |  0:02:40s\n",
      "epoch 40 | loss: 0.01584 | val_logits_ll: 0.01662 |  0:03:31s\n",
      "epoch 50 | loss: 0.01551 | val_logits_ll: 0.01645 |  0:04:22s\n",
      "epoch 60 | loss: 0.0153  | val_logits_ll: 0.01618 |  0:05:13s\n",
      "epoch 70 | loss: 0.01476 | val_logits_ll: 0.01609 |  0:06:04s\n",
      "epoch 80 | loss: 0.01456 | val_logits_ll: 0.01636 |  0:06:55s\n",
      "epoch 90 | loss: 0.01432 | val_logits_ll: 0.01583 |  0:07:48s\n",
      "epoch 100| loss: 0.0141  | val_logits_ll: 0.01597 |  0:08:43s\n",
      "epoch 110| loss: 0.01368 | val_logits_ll: 0.0162  |  0:09:40s\n",
      "\n",
      "Early stopping occured at epoch 110 with best_epoch = 90 and best_val_logits_ll = 0.01583\n",
      "Best weights from best epoch are automatically used!\n",
      "FOLDS :  1\n",
      "Device used : cpu\n",
      "epoch 0  | loss: 0.51138 | val_logits_ll: 0.22371 |  0:00:05s\n",
      "epoch 10 | loss: 0.01894 | val_logits_ll: 0.01894 |  0:00:56s\n",
      "epoch 20 | loss: 0.01739 | val_logits_ll: 0.01754 |  0:01:50s\n",
      "epoch 30 | loss: 0.01635 | val_logits_ll: 0.01681 |  0:02:42s\n",
      "epoch 40 | loss: 0.01566 | val_logits_ll: 0.01842 |  0:03:33s\n",
      "epoch 50 | loss: 0.01539 | val_logits_ll: 0.01615 |  0:04:24s\n",
      "epoch 60 | loss: 0.01522 | val_logits_ll: 0.01629 |  0:05:16s\n",
      "epoch 70 | loss: 0.0148  | val_logits_ll: 0.01598 |  0:06:07s\n",
      "epoch 80 | loss: 0.01449 | val_logits_ll: 0.01587 |  0:06:59s\n",
      "epoch 90 | loss: 0.01432 | val_logits_ll: 0.01592 |  0:07:51s\n",
      "epoch 100| loss: 0.01392 | val_logits_ll: 0.01614 |  0:08:44s\n",
      "\n",
      "Early stopping occured at epoch 100 with best_epoch = 80 and best_val_logits_ll = 0.01587\n",
      "Best weights from best epoch are automatically used!\n",
      "FOLDS :  2\n",
      "Device used : cpu\n",
      "epoch 0  | loss: 0.52734 | val_logits_ll: 0.22222 |  0:00:05s\n",
      "epoch 10 | loss: 0.01909 | val_logits_ll: 0.01902 |  0:00:56s\n",
      "epoch 20 | loss: 0.01716 | val_logits_ll: 0.01741 |  0:01:47s\n",
      "epoch 30 | loss: 0.01607 | val_logits_ll: 0.01656 |  0:02:37s\n",
      "epoch 40 | loss: 0.01555 | val_logits_ll: 0.01623 |  0:03:33s\n",
      "epoch 50 | loss: 0.01518 | val_logits_ll: 0.01606 |  0:04:24s\n",
      "epoch 60 | loss: 0.01486 | val_logits_ll: 0.01621 |  0:05:17s\n",
      "epoch 70 | loss: 0.01473 | val_logits_ll: 0.0161  |  0:06:09s\n",
      "epoch 80 | loss: 0.01444 | val_logits_ll: 0.01602 |  0:07:00s\n",
      "epoch 90 | loss: 0.01424 | val_logits_ll: 0.0159  |  0:07:53s\n",
      "epoch 100| loss: 0.01405 | val_logits_ll: 0.01593 |  0:08:48s\n",
      "epoch 110| loss: 0.0137  | val_logits_ll: 0.01595 |  0:09:45s\n",
      "\n",
      "Early stopping occured at epoch 111 with best_epoch = 91 and best_val_logits_ll = 0.01581\n",
      "Best weights from best epoch are automatically used!\n",
      "FOLDS :  3\n",
      "Device used : cpu\n",
      "epoch 0  | loss: 0.52298 | val_logits_ll: 0.22745 |  0:00:05s\n",
      "epoch 10 | loss: 0.01925 | val_logits_ll: 0.0193  |  0:00:55s\n",
      "epoch 20 | loss: 0.01773 | val_logits_ll: 0.01762 |  0:01:46s\n",
      "epoch 30 | loss: 0.01651 | val_logits_ll: 0.01691 |  0:02:36s\n",
      "epoch 40 | loss: 0.01595 | val_logits_ll: 0.01644 |  0:03:30s\n",
      "epoch 50 | loss: 0.01546 | val_logits_ll: 0.01615 |  0:04:22s\n",
      "epoch 60 | loss: 0.01519 | val_logits_ll: 0.01654 |  0:05:14s\n",
      "epoch 70 | loss: 0.01491 | val_logits_ll: 0.0163  |  0:06:06s\n",
      "epoch 80 | loss: 0.01442 | val_logits_ll: 0.01611 |  0:06:57s\n",
      "epoch 90 | loss: 0.01439 | val_logits_ll: 0.01597 |  0:07:50s\n",
      "epoch 100| loss: 0.0139  | val_logits_ll: 0.01628 |  0:08:44s\n",
      "\n",
      "Early stopping occured at epoch 104 with best_epoch = 84 and best_val_logits_ll = 0.0159\n",
      "Best weights from best epoch are automatically used!\n",
      "FOLDS :  4\n",
      "Device used : cpu\n",
      "epoch 0  | loss: 0.51669 | val_logits_ll: 0.24429 |  0:00:04s\n",
      "epoch 10 | loss: 0.01884 | val_logits_ll: 0.01871 |  0:00:56s\n",
      "epoch 20 | loss: 0.01692 | val_logits_ll: 0.01718 |  0:01:46s\n",
      "epoch 30 | loss: 0.01623 | val_logits_ll: 0.01669 |  0:02:37s\n",
      "epoch 40 | loss: 0.01583 | val_logits_ll: 0.01629 |  0:03:27s\n",
      "epoch 50 | loss: 0.01548 | val_logits_ll: 0.01625 |  0:04:23s\n",
      "epoch 60 | loss: 0.01526 | val_logits_ll: 0.01618 |  0:05:15s\n",
      "epoch 70 | loss: 0.01498 | val_logits_ll: 0.01584 |  0:06:06s\n",
      "epoch 80 | loss: 0.0148  | val_logits_ll: 0.01578 |  0:06:57s\n",
      "epoch 90 | loss: 0.01471 | val_logits_ll: 0.01583 |  0:07:51s\n",
      "epoch 100| loss: 0.01453 | val_logits_ll: 0.0157  |  0:08:46s\n",
      "epoch 110| loss: 0.01429 | val_logits_ll: 0.0156  |  0:09:43s\n",
      "epoch 120| loss: 0.01404 | val_logits_ll: 0.01565 |  0:10:43s\n",
      "\n",
      "Early stopping occured at epoch 126 with best_epoch = 106 and best_val_logits_ll = 0.01545\n",
      "Best weights from best epoch are automatically used!\n",
      "FOLDS :  5\n",
      "Device used : cpu\n",
      "epoch 0  | loss: 0.52746 | val_logits_ll: 0.23364 |  0:00:05s\n",
      "epoch 10 | loss: 0.01939 | val_logits_ll: 0.01938 |  0:00:56s\n",
      "epoch 20 | loss: 0.01721 | val_logits_ll: 0.01737 |  0:01:47s\n",
      "epoch 30 | loss: 0.01603 | val_logits_ll: 0.01828 |  0:02:38s\n",
      "epoch 40 | loss: 0.01569 | val_logits_ll: 0.01643 |  0:03:34s\n",
      "epoch 50 | loss: 0.01544 | val_logits_ll: 0.01607 |  0:04:26s\n",
      "epoch 60 | loss: 0.01516 | val_logits_ll: 0.01592 |  0:05:18s\n",
      "epoch 70 | loss: 0.01487 | val_logits_ll: 0.01588 |  0:06:09s\n",
      "epoch 80 | loss: 0.01465 | val_logits_ll: 0.01597 |  0:07:01s\n",
      "epoch 90 | loss: 0.01469 | val_logits_ll: 0.0158  |  0:07:54s\n",
      "epoch 100| loss: 0.0142  | val_logits_ll: 0.01608 |  0:08:50s\n",
      "\n",
      "Early stopping occured at epoch 107 with best_epoch = 87 and best_val_logits_ll = 0.01574\n",
      "Best weights from best epoch are automatically used!\n"
     ]
    }
   ],
   "source": [
    "MAX_EPOCH=200\n",
    "\n",
    "smoothing = 0.001\n",
    "p_min = smoothing\n",
    "p_max = 1 - smoothing\n",
    "\n",
    "def seed_everything(seed_value):\n",
    "    random.seed(seed_value)\n",
    "    np.random.seed(seed_value)\n",
    "    torch.manual_seed(seed_value)\n",
    "    os.environ['PYTHONHASHSEED'] = str(seed_value)\n",
    "    \n",
    "    if torch.cuda.is_available(): \n",
    "        torch.cuda.manual_seed(seed_value)\n",
    "        torch.cuda.manual_seed_all(seed_value)\n",
    "        torch.backends.cudnn.deterministic = True\n",
    "        torch.backends.cudnn.benchmark = False\n",
    "\n",
    "def modelling_tabnet(tr, target, te, sample_seed):\n",
    "    seed_everything(sample_seed) \n",
    "    tabnet_params = dict(n_d=12, n_a=12, n_steps=1, gamma=1.3, seed = sample_seed,\n",
    "                     lambda_sparse=0, optimizer_fn=torch.optim.Adam,\n",
    "                     optimizer_params=dict(lr=2e-2, weight_decay=1e-5),\n",
    "                     mask_type='entmax',\n",
    "                     scheduler_params=dict(mode=\"min\",\n",
    "                                           patience=5,\n",
    "                                           min_lr=1e-5,\n",
    "                                           factor=0.9,),\n",
    "                     scheduler_fn=torch.optim.lr_scheduler.ReduceLROnPlateau,\n",
    "                     verbose=10,\n",
    "                     )\n",
    "    test_cv_preds = []\n",
    "\n",
    "    NB_SPLITS = 5\n",
    "    mskf = MultilabelStratifiedKFold(n_splits=NB_SPLITS, random_state=0, shuffle=True)\n",
    "    oof_preds = np.zeros([len(tr),target.shape[1]])\n",
    "    scores = []\n",
    "    for fold_nb, (train_idx, val_idx) in enumerate(mskf.split(train, target)):\n",
    "        print(\"FOLDS : \", fold_nb+1)\n",
    "\n",
    "        ## model\n",
    "        X_train, y_train = tr[train_idx, :], target[train_idx, :]\n",
    "        X_val, y_val = tr[val_idx, :], target[val_idx, :]\n",
    "        model = TabNetRegressor(**tabnet_params)\n",
    "    \n",
    "        model.fit(X_train=X_train,\n",
    "              y_train=y_train,\n",
    "              eval_set=[(X_val, y_val)],\n",
    "              eval_name = [\"val\"],\n",
    "              eval_metric = [\"logits_ll\"],\n",
    "              max_epochs=MAX_EPOCH,\n",
    "              patience=20, batch_size=1024, virtual_batch_size=128,\n",
    "              num_workers=1, drop_last=False,\n",
    "              # use binary cross entropy as this is not a regression problem\n",
    "              loss_fn=torch.nn.functional.binary_cross_entropy_with_logits)\n",
    "    \n",
    "        preds_val = model.predict(X_val)\n",
    "        # Apply sigmoid to the predictions\n",
    "        preds =  1 / (1 + np.exp(-preds_val))\n",
    "        score = np.min(model.history[\"val_logits_ll\"])\n",
    "        oof_preds[val_idx,:] = preds\n",
    "        #oof_preds[val_idx,:] = np.clip(preds, p_min, p_max)\n",
    "        scores.append(score)\n",
    "\n",
    "        # preds on test\n",
    "        preds_test = model.predict(te)\n",
    "        test_cv_preds.append(1 / (1 + np.exp(-preds_test)))\n",
    "        #test_cv_preds.append(np.clip(1 / (1 + np.exp(-preds_test))), p_min, p_max)\n",
    "        \n",
    "    test_preds_all = np.stack(test_cv_preds)\n",
    "    return oof_preds, test_preds_all\n",
    "\n",
    "target_oof = np.zeros([len(fn_train),fn_targets.shape[1]])\n",
    "target_pred = np.zeros([len(fn_test),fn_targets.shape[1]])\n",
    "\n",
    "seeds = [0,1,2]\n",
    "for seed_ in seeds:\n",
    "    oof_preds, test_preds_all = modelling_tabnet(fn_train, fn_targets, fn_test, seed_)\n",
    "    target_oof += oof_preds / len(seeds)\n",
    "    target_pred += test_preds_all.mean(axis=0) / len(seeds)"
   ]
  },
  {
   "cell_type": "code",
   "execution_count": 15,
   "metadata": {
    "execution": {
     "iopub.execute_input": "2020-10-29T13:01:49.239673Z",
     "iopub.status.busy": "2020-10-29T13:01:49.238994Z",
     "iopub.status.idle": "2020-10-29T13:01:50.807608Z",
     "shell.execute_reply": "2020-10-29T13:01:50.806834Z"
    },
    "papermill": {
     "duration": 1.652508,
     "end_time": "2020-10-29T13:01:50.807777",
     "exception": false,
     "start_time": "2020-10-29T13:01:49.155269",
     "status": "completed"
    },
    "tags": []
   },
   "outputs": [
    {
     "name": "stdout",
     "output_type": "stream",
     "text": [
      "Overall AUC : 0.7672932089264412\n"
     ]
    }
   ],
   "source": [
    "aucs = []\n",
    "for task_id in range(targets.shape[1]-1):\n",
    "    aucs.append(roc_auc_score(y_true=targets.iloc[:, task_id+1].values,\n",
    "                              y_score=target_oof[:, task_id]))\n",
    "print(f\"Overall AUC : {np.mean(aucs)}\")"
   ]
  },
  {
   "cell_type": "code",
   "execution_count": 16,
   "metadata": {
    "execution": {
     "iopub.execute_input": "2020-10-29T13:01:50.966478Z",
     "iopub.status.busy": "2020-10-29T13:01:50.965480Z",
     "iopub.status.idle": "2020-10-29T13:01:56.330987Z",
     "shell.execute_reply": "2020-10-29T13:01:56.331871Z"
    },
    "papermill": {
     "duration": 5.450294,
     "end_time": "2020-10-29T13:01:56.332093",
     "exception": false,
     "start_time": "2020-10-29T13:01:50.881799",
     "status": "completed"
    },
    "tags": []
   },
   "outputs": [
    {
     "name": "stdout",
     "output_type": "stream",
     "text": [
      "OOF log loss:  0.015246439936217665\n"
     ]
    }
   ],
   "source": [
    "t = pd.read_csv(DATA_DIR + 'train_targets_scored.csv')\n",
    "train_checkscore = t.copy()\n",
    "train_checkscore[target_feats] = target_oof\n",
    "train_checkscore.loc[train_checkscore.index.isin(noncons_train_index),target_feats] = 0\n",
    "\n",
    "t.drop(\"sig_id\", axis=1, inplace=True)\n",
    "print('OOF log loss: ', log_loss(np.ravel(t), np.ravel(np.array(train_checkscore.iloc[:,1:]))))"
   ]
  },
  {
   "cell_type": "code",
   "execution_count": 17,
   "metadata": {
    "execution": {
     "iopub.execute_input": "2020-10-29T13:01:56.501076Z",
     "iopub.status.busy": "2020-10-29T13:01:56.500361Z",
     "iopub.status.idle": "2020-10-29T13:01:58.548667Z",
     "shell.execute_reply": "2020-10-29T13:01:58.549136Z"
    },
    "papermill": {
     "duration": 2.134454,
     "end_time": "2020-10-29T13:01:58.549289",
     "exception": false,
     "start_time": "2020-10-29T13:01:56.414835",
     "status": "completed"
    },
    "tags": []
   },
   "outputs": [],
   "source": [
    "sub[target_feats] = target_pred\n",
    "sub.loc[noncons_test_index,target_feats] = 0\n",
    "sub.to_csv('submission.csv', index=False)"
   ]
  },
  {
   "cell_type": "code",
   "execution_count": null,
   "metadata": {
    "papermill": {
     "duration": 0.0716,
     "end_time": "2020-10-29T13:01:58.692619",
     "exception": false,
     "start_time": "2020-10-29T13:01:58.621019",
     "status": "completed"
    },
    "tags": []
   },
   "outputs": [],
   "source": []
  }
 ],
 "metadata": {
  "kernelspec": {
   "display_name": "Python 3",
   "language": "python",
   "name": "python3"
  },
  "language_info": {
   "codemirror_mode": {
    "name": "ipython",
    "version": 3
   },
   "file_extension": ".py",
   "mimetype": "text/x-python",
   "name": "python",
   "nbconvert_exporter": "python",
   "pygments_lexer": "ipython3",
   "version": "3.7.6"
  },
  "papermill": {
   "duration": 8835.436129,
   "end_time": "2020-10-29T13:01:58.872793",
   "environment_variables": {},
   "exception": null,
   "input_path": "__notebook__.ipynb",
   "output_path": "__notebook__.ipynb",
   "parameters": {},
   "start_time": "2020-10-29T10:34:43.436664",
   "version": "2.1.0"
  }
 },
 "nbformat": 4,
 "nbformat_minor": 4
}
