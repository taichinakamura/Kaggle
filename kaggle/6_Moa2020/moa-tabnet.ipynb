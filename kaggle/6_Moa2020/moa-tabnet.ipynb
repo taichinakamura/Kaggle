{
 "cells": [
  {
   "cell_type": "markdown",
   "metadata": {
    "papermill": {
     "duration": 0.016573,
     "end_time": "2020-10-25T03:25:26.768894",
     "exception": false,
     "start_time": "2020-10-25T03:25:26.752321",
     "status": "completed"
    },
    "tags": []
   },
   "source": [
    "- credit: https://www.kaggle.com/optimo/tabnetregressor-2-0-train-infer/data\n",
    "- https://github.com/dreamquark-ai/tabnet\n",
    "- drop some features\n",
    "- try rank gauss\n",
    "- keep 3 ensemble"
   ]
  },
  {
   "cell_type": "code",
   "execution_count": 1,
   "metadata": {
    "execution": {
     "iopub.execute_input": "2020-10-25T03:25:26.807901Z",
     "iopub.status.busy": "2020-10-25T03:25:26.806991Z",
     "iopub.status.idle": "2020-10-25T03:25:36.262951Z",
     "shell.execute_reply": "2020-10-25T03:25:36.262216Z"
    },
    "papermill": {
     "duration": 9.47826,
     "end_time": "2020-10-25T03:25:36.263085",
     "exception": false,
     "start_time": "2020-10-25T03:25:26.784825",
     "status": "completed"
    },
    "tags": []
   },
   "outputs": [
    {
     "name": "stdout",
     "output_type": "stream",
     "text": [
      "Looking in links: /kaggle/input/pytorchtabnet/pytorch_tabnet-2.0.0-py3-none-any.whl\r\n",
      "Processing /kaggle/input/pytorchtabnet/pytorch_tabnet-2.0.0-py3-none-any.whl\r\n",
      "Requirement already satisfied: scikit_learn>0.21 in /opt/conda/lib/python3.7/site-packages (from pytorch-tabnet) (0.23.2)\r\n",
      "Requirement already satisfied: torch<2.0,>=1.2 in /opt/conda/lib/python3.7/site-packages (from pytorch-tabnet) (1.6.0)\r\n",
      "Requirement already satisfied: numpy<2.0,>=1.17 in /opt/conda/lib/python3.7/site-packages (from pytorch-tabnet) (1.18.5)\r\n",
      "Requirement already satisfied: scipy>1.4 in /opt/conda/lib/python3.7/site-packages (from pytorch-tabnet) (1.4.1)\r\n",
      "Requirement already satisfied: tqdm<5.0,>=4.36 in /opt/conda/lib/python3.7/site-packages (from pytorch-tabnet) (4.45.0)\r\n",
      "Requirement already satisfied: joblib>=0.11 in /opt/conda/lib/python3.7/site-packages (from scikit_learn>0.21->pytorch-tabnet) (0.14.1)\r\n",
      "Requirement already satisfied: threadpoolctl>=2.0.0 in /opt/conda/lib/python3.7/site-packages (from scikit_learn>0.21->pytorch-tabnet) (2.1.0)\r\n",
      "Requirement already satisfied: future in /opt/conda/lib/python3.7/site-packages (from torch<2.0,>=1.2->pytorch-tabnet) (0.18.2)\r\n",
      "Installing collected packages: pytorch-tabnet\r\n",
      "Successfully installed pytorch-tabnet-2.0.0\r\n"
     ]
    }
   ],
   "source": [
    "!pip install --no-index --find-links /kaggle/input/pytorchtabnet/pytorch_tabnet-2.0.0-py3-none-any.whl pytorch-tabnet"
   ]
  },
  {
   "cell_type": "code",
   "execution_count": 2,
   "metadata": {
    "_cell_guid": "b1076dfc-b9ad-4769-8c92-a6c4dae69d19",
    "_uuid": "8f2839f25d086af736a60e9eeb907d3b93b6e0e5",
    "execution": {
     "iopub.execute_input": "2020-10-25T03:25:36.314659Z",
     "iopub.status.busy": "2020-10-25T03:25:36.313750Z",
     "iopub.status.idle": "2020-10-25T03:25:44.285664Z",
     "shell.execute_reply": "2020-10-25T03:25:44.284347Z"
    },
    "papermill": {
     "duration": 8.002112,
     "end_time": "2020-10-25T03:25:44.285800",
     "exception": false,
     "start_time": "2020-10-25T03:25:36.283688",
     "status": "completed"
    },
    "tags": []
   },
   "outputs": [],
   "source": [
    "import os\n",
    "import sys\n",
    "import random\n",
    "import warnings\n",
    "import numpy as np\n",
    "import pandas as pd \n",
    "from sklearn import preprocessing\n",
    "from sklearn.metrics import log_loss,roc_auc_score\n",
    "from sklearn.decomposition import PCA\n",
    "from tqdm import tqdm_notebook as tqdm\n",
    "from sklearn.cluster import KMeans\n",
    "from sklearn.multioutput import MultiOutputClassifier\n",
    "from sklearn.feature_selection import VarianceThreshold\n",
    "\n",
    "from pytorch_tabnet.metrics import Metric\n",
    "from pytorch_tabnet.tab_model import TabNetRegressor\n",
    "\n",
    "sys.path.append('../input/multilabelstraifier/')\n",
    "from ml_stratifiers import MultilabelStratifiedKFold\n",
    "warnings.filterwarnings('ignore')\n",
    "\n",
    "import time\n",
    "import torch\n",
    "import torch.nn as nn\n",
    "import torch.optim as optim\n",
    "import torch.nn.functional as F\n",
    "import tensorflow as tf"
   ]
  },
  {
   "cell_type": "code",
   "execution_count": 3,
   "metadata": {
    "execution": {
     "iopub.execute_input": "2020-10-25T03:25:44.343256Z",
     "iopub.status.busy": "2020-10-25T03:25:44.339795Z",
     "iopub.status.idle": "2020-10-25T03:25:51.093841Z",
     "shell.execute_reply": "2020-10-25T03:25:51.092205Z"
    },
    "papermill": {
     "duration": 6.782848,
     "end_time": "2020-10-25T03:25:51.093979",
     "exception": false,
     "start_time": "2020-10-25T03:25:44.311131",
     "status": "completed"
    },
    "tags": []
   },
   "outputs": [],
   "source": [
    "DATA_DIR = '/kaggle/input/lish-moa/'\n",
    "train = pd.read_csv(DATA_DIR + 'train_features.csv')\n",
    "targets = pd.read_csv(DATA_DIR + 'train_targets_scored.csv')\n",
    "non_targets = pd.read_csv(DATA_DIR + 'train_targets_nonscored.csv')\n",
    "test = pd.read_csv(DATA_DIR + 'test_features.csv')\n",
    "sub = pd.read_csv(DATA_DIR + 'sample_submission.csv')"
   ]
  },
  {
   "cell_type": "code",
   "execution_count": 4,
   "metadata": {
    "execution": {
     "iopub.execute_input": "2020-10-25T03:25:51.144230Z",
     "iopub.status.busy": "2020-10-25T03:25:51.141352Z",
     "iopub.status.idle": "2020-10-25T03:25:51.246087Z",
     "shell.execute_reply": "2020-10-25T03:25:51.245475Z"
    },
    "papermill": {
     "duration": 0.133112,
     "end_time": "2020-10-25T03:25:51.246216",
     "exception": false,
     "start_time": "2020-10-25T03:25:51.113104",
     "status": "completed"
    },
    "tags": []
   },
   "outputs": [],
   "source": [
    "target_feats = [ i for i in targets.columns if i != \"sig_id\"]\n",
    "g_feats = [i for i in train.columns if \"g-\" in i]\n",
    "c_feats = [i for i in train.columns if \"c-\" in i]\n",
    "\n",
    "noncons_train_index = train[train.cp_type==\"ctl_vehicle\"].index\n",
    "cons_train_index = train[~train.index.isin(noncons_train_index)].index\n",
    "noncons_test_index = test[test.cp_type==\"ctl_vehicle\"].index\n",
    "cons_test_index = test[test.cp_type!=\"ctl_vehicle\"].index"
   ]
  },
  {
   "cell_type": "markdown",
   "metadata": {
    "papermill": {
     "duration": 0.017719,
     "end_time": "2020-10-25T03:25:51.283555",
     "exception": false,
     "start_time": "2020-10-25T03:25:51.265836",
     "status": "completed"
    },
    "tags": []
   },
   "source": [
    "# preprocess"
   ]
  },
  {
   "cell_type": "code",
   "execution_count": 5,
   "metadata": {
    "execution": {
     "iopub.execute_input": "2020-10-25T03:25:51.339586Z",
     "iopub.status.busy": "2020-10-25T03:25:51.338223Z",
     "iopub.status.idle": "2020-10-25T03:25:51.737072Z",
     "shell.execute_reply": "2020-10-25T03:25:51.736357Z"
    },
    "papermill": {
     "duration": 0.435216,
     "end_time": "2020-10-25T03:25:51.737206",
     "exception": false,
     "start_time": "2020-10-25T03:25:51.301990",
     "status": "completed"
    },
    "tags": []
   },
   "outputs": [
    {
     "name": "stdout",
     "output_type": "stream",
     "text": [
      "first drop 71\n",
      "shape after 1st drop: (21948, 332)\n",
      "331\n"
     ]
    }
   ],
   "source": [
    "train = train[train.index.isin(cons_train_index)].copy().reset_index(drop=True)\n",
    "targets = targets[targets.index.isin(cons_train_index)].copy().reset_index(drop=True)\n",
    "non_targets = non_targets[non_targets.index.isin(cons_train_index)].copy().reset_index(drop=True)\n",
    "\n",
    "non_target_feats = [i for i in non_targets.columns if i != \"sig_id\"]\n",
    "nontarget_dists = pd.DataFrame(np.sum(non_targets[non_target_feats])).reset_index(drop=False)\n",
    "nontarget_dists.columns = [\"target\", \"number\"]\n",
    "nontarget_dists = nontarget_dists.sort_values(\"number\", ascending=False).reset_index(drop=True)\n",
    "drop_list1 = list(nontarget_dists[nontarget_dists.number==0][\"target\"].values)\n",
    "print(\"first drop\", len(drop_list1))\n",
    "non_targets.drop(drop_list1, axis=1, inplace=True)\n",
    "print(\"shape after 1st drop:\", non_targets.shape)\n",
    "non_target_feats = [i for i in non_targets.columns if i != \"sig_id\"]\n",
    "print(len(non_target_feats))"
   ]
  },
  {
   "cell_type": "markdown",
   "metadata": {
    "papermill": {
     "duration": 0.018762,
     "end_time": "2020-10-25T03:25:51.775341",
     "exception": false,
     "start_time": "2020-10-25T03:25:51.756579",
     "status": "completed"
    },
    "tags": []
   },
   "source": [
    "# feature engineering"
   ]
  },
  {
   "cell_type": "code",
   "execution_count": 6,
   "metadata": {
    "execution": {
     "iopub.execute_input": "2020-10-25T03:25:51.834041Z",
     "iopub.status.busy": "2020-10-25T03:25:51.832862Z",
     "iopub.status.idle": "2020-10-25T03:25:52.227617Z",
     "shell.execute_reply": "2020-10-25T03:25:52.228440Z"
    },
    "papermill": {
     "duration": 0.434035,
     "end_time": "2020-10-25T03:25:52.228609",
     "exception": false,
     "start_time": "2020-10-25T03:25:51.794574",
     "status": "completed"
    },
    "tags": []
   },
   "outputs": [
    {
     "data": {
      "text/plain": [
       "33"
      ]
     },
     "execution_count": 6,
     "metadata": {},
     "output_type": "execute_result"
    }
   ],
   "source": [
    "X = train.iloc[:,4:].copy().values\n",
    "select = VarianceThreshold(threshold=0.7)\n",
    "X_new = select.fit_transform(X)\n",
    "drop_feats = list(np.array(train.iloc[:,4:].columns)[select.get_support()==False])\n",
    "len(drop_feats)"
   ]
  },
  {
   "cell_type": "code",
   "execution_count": 7,
   "metadata": {
    "execution": {
     "iopub.execute_input": "2020-10-25T03:25:52.340020Z",
     "iopub.status.busy": "2020-10-25T03:25:52.337792Z",
     "iopub.status.idle": "2020-10-25T03:25:52.340825Z",
     "shell.execute_reply": "2020-10-25T03:25:52.341295Z"
    },
    "papermill": {
     "duration": 0.090946,
     "end_time": "2020-10-25T03:25:52.341451",
     "exception": false,
     "start_time": "2020-10-25T03:25:52.250505",
     "status": "completed"
    },
    "tags": []
   },
   "outputs": [],
   "source": [
    "train.drop(drop_feats, axis=1, inplace=True)\n",
    "test.drop(drop_feats, axis=1, inplace=True)\n",
    "\n",
    "g_feats = [i for i in train.columns if \"g-\" in i]\n",
    "c_feats = [i for i in train.columns if \"c-\" in i]"
   ]
  },
  {
   "cell_type": "code",
   "execution_count": 8,
   "metadata": {
    "execution": {
     "iopub.execute_input": "2020-10-25T03:25:52.393480Z",
     "iopub.status.busy": "2020-10-25T03:25:52.392372Z",
     "iopub.status.idle": "2020-10-25T03:26:03.372581Z",
     "shell.execute_reply": "2020-10-25T03:26:03.371965Z"
    },
    "papermill": {
     "duration": 11.010554,
     "end_time": "2020-10-25T03:26:03.372708",
     "exception": false,
     "start_time": "2020-10-25T03:25:52.362154",
     "status": "completed"
    },
    "tags": []
   },
   "outputs": [],
   "source": [
    "# rank gauss\n",
    "for i in c_feats + g_feats:\n",
    "    ss = preprocessing.QuantileTransformer(n_quantiles=1000, random_state=0, output_distribution=\"normal\") #確かに正規分布っぽくなっている。\n",
    "    ss.fit(train[i].values.reshape(-1,1))\n",
    "    train[i] = ss.transform(train[i].values.reshape(-1,1))\n",
    "    test[i] = ss.transform(test[i].values.reshape(-1,1))"
   ]
  },
  {
   "cell_type": "code",
   "execution_count": 9,
   "metadata": {
    "execution": {
     "iopub.execute_input": "2020-10-25T03:26:03.419536Z",
     "iopub.status.busy": "2020-10-25T03:26:03.418522Z",
     "iopub.status.idle": "2020-10-25T03:26:03.421548Z",
     "shell.execute_reply": "2020-10-25T03:26:03.421059Z"
    },
    "papermill": {
     "duration": 0.027442,
     "end_time": "2020-10-25T03:26:03.421648",
     "exception": false,
     "start_time": "2020-10-25T03:26:03.394206",
     "status": "completed"
    },
    "tags": []
   },
   "outputs": [],
   "source": [
    "#n_clusters_g = 15\n",
    "#n_clusters_c = 5\n",
    "#def create_cluster(train, test, kind, n_clusters):\n",
    "#    if kind == \"g\":\n",
    "#        train_ = train[g_feats].copy()\n",
    "#        test_ = test[g_feats].copy()\n",
    "#    else:\n",
    "#        train_ = train[c_feats].copy()\n",
    "#        test_ = test[c_feats].copy()    \n",
    "#    kmeans = KMeans(n_clusters = n_clusters, random_state = 0).fit(train_)\n",
    "#    train[f'clusters_{kind}'] = kmeans.labels_\n",
    "#    test[f'clusters_{kind}'] = kmeans.predict(test_)\n",
    "#    train = pd.get_dummies(train, columns = [f'clusters_{kind}'])\n",
    "#    test = pd.get_dummies(test, columns = [f'clusters_{kind}'])\n",
    "#    return train, test\n",
    "    \n",
    "#train, test = create_cluster(train, test, kind = 'g', n_clusters = n_clusters_g)\n",
    "#train, test = create_cluster(train, test, kind = 'c', n_clusters = n_clusters_c)"
   ]
  },
  {
   "cell_type": "code",
   "execution_count": 10,
   "metadata": {
    "execution": {
     "iopub.execute_input": "2020-10-25T03:26:03.466393Z",
     "iopub.status.busy": "2020-10-25T03:26:03.465409Z",
     "iopub.status.idle": "2020-10-25T03:26:03.468704Z",
     "shell.execute_reply": "2020-10-25T03:26:03.468166Z"
    },
    "papermill": {
     "duration": 0.027945,
     "end_time": "2020-10-25T03:26:03.468829",
     "exception": false,
     "start_time": "2020-10-25T03:26:03.440884",
     "status": "completed"
    },
    "tags": []
   },
   "outputs": [],
   "source": [
    "#num = 10\n",
    "#pca_c_cols = [\"pca-c\"+str(i+1) for i in range(num)]\n",
    "#pca = PCA(n_components=num,random_state=42)\n",
    "#c_train = pca.fit_transform(train[c_feats])\n",
    "#c_test = pca.transform(test[c_feats])\n",
    "#c_train = pd.DataFrame(c_train, columns=pca_c_cols)\n",
    "#c_test = pd.DataFrame(c_test, columns=pca_c_cols)\n",
    "\n",
    "#num = 60\n",
    "#pca_g_cols = [\"pca-g\"+str(i+1) for i in range(num)]\n",
    "#pca = PCA(n_components=num, random_state=42)\n",
    "#g_train = pca.fit_transform(train[g_feats])\n",
    "#g_test = pca.transform(test[g_feats])\n",
    "#g_train = pd.DataFrame(g_train, columns=pca_g_cols)\n",
    "#g_test = pd.DataFrame(g_test, columns=pca_g_cols)\n",
    "\n",
    "#train = pd.concat([train, c_train],axis=1)\n",
    "#test = pd.concat([test, c_test],axis=1)\n",
    "#train = pd.concat([train, g_train],axis=1)\n",
    "#test = pd.concat([test, g_test],axis=1)"
   ]
  },
  {
   "cell_type": "code",
   "execution_count": 11,
   "metadata": {
    "execution": {
     "iopub.execute_input": "2020-10-25T03:26:03.520640Z",
     "iopub.status.busy": "2020-10-25T03:26:03.519180Z",
     "iopub.status.idle": "2020-10-25T03:26:03.772934Z",
     "shell.execute_reply": "2020-10-25T03:26:03.773675Z"
    },
    "papermill": {
     "duration": 0.284107,
     "end_time": "2020-10-25T03:26:03.773859",
     "exception": false,
     "start_time": "2020-10-25T03:26:03.489752",
     "status": "completed"
    },
    "tags": []
   },
   "outputs": [
    {
     "name": "stdout",
     "output_type": "stream",
     "text": [
      "(21948, 844) (3982, 844)\n"
     ]
    }
   ],
   "source": [
    "def fe(df):\n",
    "    tmp = df.copy()\n",
    "    #tmp['g_sum'] = tmp[g_feats].sum(axis = 1)\n",
    "    #tmp['g_mean'] = tmp[g_feats].mean(axis = 1)\n",
    "    #tmp['g_std'] = tmp[g_feats].std(axis = 1)\n",
    "    #tmp['g_kurt'] = tmp[g_feats].kurtosis(axis = 1)\n",
    "    #tmp['g_skew'] = tmp[g_feats].skew(axis = 1)\n",
    "    #tmp['c_sum'] = tmp[c_feats].sum(axis = 1)\n",
    "    #tmp['c_mean'] = tmp[c_feats].mean(axis = 1)\n",
    "    #tmp['c_std'] = tmp[c_feats].std(axis = 1)\n",
    "    #tmp['c_kurt'] = tmp[c_feats].kurtosis(axis = 1)\n",
    "    #tmp['c_skew'] = tmp[c_feats].skew(axis = 1)\n",
    "    #tmp['gc_sum'] = tmp[c_feats + g_feats].sum(axis = 1)\n",
    "    #tmp['gc_mean'] = tmp[c_feats + g_feats].mean(axis = 1)\n",
    "    #tmp['gc_std'] = tmp[c_feats + g_feats].std(axis = 1)\n",
    "    #tmp['gc_kurt'] = tmp[c_feats + g_feats].kurtosis(axis = 1)\n",
    "    #tmp['gc_skew'] = tmp[c_feats + g_feats].skew(axis = 1)\n",
    "    tmp = pd.get_dummies(tmp, columns=['cp_time','cp_dose'])\n",
    "    #tmp.loc[:, 'cp_dose'] = tmp.loc[:, 'cp_dose'].map({'D1': 0, 'D2': 1})        \n",
    "    tmp.drop([\"cp_type\", \"sig_id\"], axis=1, inplace=True)\n",
    "    return tmp\n",
    "\n",
    "train = fe(train)\n",
    "test = fe(test)\n",
    "\n",
    "print(train.shape, test.shape)"
   ]
  },
  {
   "cell_type": "code",
   "execution_count": 12,
   "metadata": {
    "execution": {
     "iopub.execute_input": "2020-10-25T03:26:03.834695Z",
     "iopub.status.busy": "2020-10-25T03:26:03.833687Z",
     "iopub.status.idle": "2020-10-25T03:26:04.068140Z",
     "shell.execute_reply": "2020-10-25T03:26:04.069026Z"
    },
    "papermill": {
     "duration": 0.274148,
     "end_time": "2020-10-25T03:26:04.069263",
     "exception": false,
     "start_time": "2020-10-25T03:26:03.795115",
     "status": "completed"
    },
    "tags": []
   },
   "outputs": [],
   "source": [
    "fn_train = train.copy().to_numpy()\n",
    "fn_test = test.copy().to_numpy()\n",
    "\n",
    "#ss = preprocessing.RobustScaler()\n",
    "#fn_train= ss.fit_transform(fn_train)\n",
    "#fn_test = ss.transform(fn_test)\n",
    "\n",
    "fn_non_targets = non_targets.drop(\"sig_id\", axis=1).copy().to_numpy()\n",
    "fn_targets = targets.drop(\"sig_id\", axis=1).copy().to_numpy()"
   ]
  },
  {
   "cell_type": "code",
   "execution_count": 13,
   "metadata": {
    "execution": {
     "iopub.execute_input": "2020-10-25T03:26:04.171682Z",
     "iopub.status.busy": "2020-10-25T03:26:04.170256Z",
     "iopub.status.idle": "2020-10-25T03:26:04.175560Z",
     "shell.execute_reply": "2020-10-25T03:26:04.172729Z"
    },
    "papermill": {
     "duration": 0.065008,
     "end_time": "2020-10-25T03:26:04.175710",
     "exception": false,
     "start_time": "2020-10-25T03:26:04.110702",
     "status": "completed"
    },
    "tags": []
   },
   "outputs": [
    {
     "data": {
      "text/plain": [
       "((21948, 844), (3982, 844), (21948, 206), (21948, 331))"
      ]
     },
     "execution_count": 13,
     "metadata": {},
     "output_type": "execute_result"
    }
   ],
   "source": [
    "fn_train.shape, fn_test.shape, fn_targets.shape, fn_non_targets.shape"
   ]
  },
  {
   "cell_type": "markdown",
   "metadata": {
    "papermill": {
     "duration": 0.035271,
     "end_time": "2020-10-25T03:26:04.245612",
     "exception": false,
     "start_time": "2020-10-25T03:26:04.210341",
     "status": "completed"
    },
    "tags": []
   },
   "source": [
    "# modelling"
   ]
  },
  {
   "cell_type": "code",
   "execution_count": 14,
   "metadata": {
    "execution": {
     "iopub.execute_input": "2020-10-25T03:26:04.328029Z",
     "iopub.status.busy": "2020-10-25T03:26:04.326941Z",
     "iopub.status.idle": "2020-10-25T03:26:04.333201Z",
     "shell.execute_reply": "2020-10-25T03:26:04.334547Z"
    },
    "papermill": {
     "duration": 0.053429,
     "end_time": "2020-10-25T03:26:04.334719",
     "exception": false,
     "start_time": "2020-10-25T03:26:04.281290",
     "status": "completed"
    },
    "tags": []
   },
   "outputs": [],
   "source": [
    "class LogitsLogLoss(Metric):\n",
    "    def __init__(self):\n",
    "        self._name = \"logits_ll\"\n",
    "        self._maximize = False\n",
    "\n",
    "    def __call__(self, y_true, y_pred):\n",
    "        \"\"\"\n",
    "        Compute LogLoss of predictions.\n",
    "\n",
    "        Parameters\n",
    "        ----------\n",
    "        y_true: np.ndarray\n",
    "            Target matrix or vector\n",
    "        y_score: np.ndarray\n",
    "            Score matrix or vector\n",
    "\n",
    "        Returns\n",
    "        -------\n",
    "            float\n",
    "            LogLoss of predictions vs targets.\n",
    "        \"\"\"\n",
    "        logits = 1 / (1 + np.exp(-y_pred))\n",
    "        \n",
    "        #smoothing = 0.001\n",
    "        #n_classes = 206\n",
    "        #y_true = y_true * (1 - smoothing) + np.ones_like(y_true) * smoothing / n_classes\n",
    "        \n",
    "        aux = (1-y_true)*np.log(1-logits+1e-15) + y_true*np.log(logits+1e-15)\n",
    "        return np.mean(-aux)"
   ]
  },
  {
   "cell_type": "code",
   "execution_count": 15,
   "metadata": {
    "execution": {
     "iopub.execute_input": "2020-10-25T03:26:04.409834Z",
     "iopub.status.busy": "2020-10-25T03:26:04.408939Z",
     "iopub.status.idle": "2020-10-25T03:57:09.352044Z",
     "shell.execute_reply": "2020-10-25T03:57:09.351405Z"
    },
    "papermill": {
     "duration": 1864.985329,
     "end_time": "2020-10-25T03:57:09.352203",
     "exception": false,
     "start_time": "2020-10-25T03:26:04.366874",
     "status": "completed"
    },
    "tags": []
   },
   "outputs": [
    {
     "name": "stdout",
     "output_type": "stream",
     "text": [
      "FOLDS :  1\n",
      "Device used : cuda\n",
      "epoch 0  | loss: 0.57637 | val_logits_ll: 0.31744 |  0:00:01s\n",
      "epoch 10 | loss: 0.02037 | val_logits_ll: 0.02035 |  0:00:12s\n",
      "epoch 20 | loss: 0.01849 | val_logits_ll: 0.01867 |  0:00:24s\n",
      "epoch 30 | loss: 0.01769 | val_logits_ll: 0.018   |  0:00:35s\n",
      "epoch 40 | loss: 0.01719 | val_logits_ll: 0.01763 |  0:00:45s\n",
      "epoch 50 | loss: 0.01679 | val_logits_ll: 0.01768 |  0:00:55s\n",
      "epoch 60 | loss: 0.01652 | val_logits_ll: 0.01709 |  0:01:07s\n",
      "epoch 70 | loss: 0.01625 | val_logits_ll: 0.01709 |  0:01:19s\n",
      "epoch 80 | loss: 0.01624 | val_logits_ll: 0.01703 |  0:01:29s\n",
      "epoch 90 | loss: 0.01597 | val_logits_ll: 0.017   |  0:01:40s\n",
      "epoch 100| loss: 0.01586 | val_logits_ll: 0.01685 |  0:01:51s\n",
      "\n",
      "Early stopping occured at epoch 108 with best_epoch = 88 and best_val_logits_ll = 0.01679\n",
      "Best weights from best epoch are automatically used!\n",
      "FOLDS :  2\n",
      "Device used : cuda\n",
      "epoch 0  | loss: 0.57523 | val_logits_ll: 0.32694 |  0:00:01s\n",
      "epoch 10 | loss: 0.02061 | val_logits_ll: 0.02059 |  0:00:12s\n",
      "epoch 20 | loss: 0.01838 | val_logits_ll: 0.01878 |  0:00:23s\n",
      "epoch 30 | loss: 0.01759 | val_logits_ll: 0.01816 |  0:00:34s\n",
      "epoch 40 | loss: 0.01718 | val_logits_ll: 0.01781 |  0:00:45s\n",
      "epoch 50 | loss: 0.01709 | val_logits_ll: 0.01756 |  0:00:55s\n",
      "epoch 60 | loss: 0.01654 | val_logits_ll: 0.01784 |  0:01:06s\n",
      "epoch 70 | loss: 0.01645 | val_logits_ll: 0.01738 |  0:01:18s\n",
      "epoch 80 | loss: 0.01618 | val_logits_ll: 0.0172  |  0:01:29s\n",
      "epoch 90 | loss: 0.01595 | val_logits_ll: 0.01725 |  0:01:39s\n",
      "epoch 100| loss: 0.01576 | val_logits_ll: 0.01723 |  0:01:50s\n",
      "epoch 110| loss: 0.01554 | val_logits_ll: 0.01726 |  0:02:01s\n",
      "\n",
      "Early stopping occured at epoch 118 with best_epoch = 98 and best_val_logits_ll = 0.01711\n",
      "Best weights from best epoch are automatically used!\n",
      "FOLDS :  3\n",
      "Device used : cuda\n",
      "epoch 0  | loss: 0.57602 | val_logits_ll: 0.3335  |  0:00:01s\n",
      "epoch 10 | loss: 0.02008 | val_logits_ll: 0.02014 |  0:00:12s\n",
      "epoch 20 | loss: 0.01806 | val_logits_ll: 0.01988 |  0:00:23s\n",
      "epoch 30 | loss: 0.01741 | val_logits_ll: 0.01812 |  0:00:34s\n",
      "epoch 40 | loss: 0.01688 | val_logits_ll: 0.01777 |  0:00:45s\n",
      "epoch 50 | loss: 0.01672 | val_logits_ll: 0.01752 |  0:00:55s\n",
      "epoch 60 | loss: 0.01641 | val_logits_ll: 0.01736 |  0:01:07s\n",
      "epoch 70 | loss: 0.01622 | val_logits_ll: 0.01734 |  0:01:18s\n",
      "epoch 80 | loss: 0.01615 | val_logits_ll: 0.01722 |  0:01:29s\n",
      "epoch 90 | loss: 0.01594 | val_logits_ll: 0.01732 |  0:01:40s\n",
      "epoch 100| loss: 0.01559 | val_logits_ll: 0.01721 |  0:01:50s\n",
      "epoch 110| loss: 0.01527 | val_logits_ll: 0.01732 |  0:02:01s\n",
      "\n",
      "Early stopping occured at epoch 113 with best_epoch = 93 and best_val_logits_ll = 0.01712\n",
      "Best weights from best epoch are automatically used!\n",
      "FOLDS :  4\n",
      "Device used : cuda\n",
      "epoch 0  | loss: 0.57365 | val_logits_ll: 0.32422 |  0:00:01s\n",
      "epoch 10 | loss: 0.02063 | val_logits_ll: 0.02056 |  0:00:12s\n",
      "epoch 20 | loss: 0.01834 | val_logits_ll: 0.01862 |  0:00:22s\n",
      "epoch 30 | loss: 0.01745 | val_logits_ll: 0.0182  |  0:00:33s\n",
      "epoch 40 | loss: 0.01697 | val_logits_ll: 0.01752 |  0:00:44s\n",
      "epoch 50 | loss: 0.01664 | val_logits_ll: 0.01764 |  0:00:55s\n",
      "epoch 60 | loss: 0.01623 | val_logits_ll: 0.01728 |  0:01:06s\n",
      "epoch 70 | loss: 0.01593 | val_logits_ll: 0.01729 |  0:01:17s\n",
      "epoch 80 | loss: 0.01583 | val_logits_ll: 0.01714 |  0:01:27s\n",
      "epoch 90 | loss: 0.01536 | val_logits_ll: 0.01703 |  0:01:38s\n",
      "\n",
      "Early stopping occured at epoch 95 with best_epoch = 75 and best_val_logits_ll = 0.01691\n",
      "Best weights from best epoch are automatically used!\n",
      "FOLDS :  5\n",
      "Device used : cuda\n",
      "epoch 0  | loss: 0.57161 | val_logits_ll: 0.31137 |  0:00:01s\n",
      "epoch 10 | loss: 0.02029 | val_logits_ll: 0.0203  |  0:00:12s\n",
      "epoch 20 | loss: 0.01811 | val_logits_ll: 0.01858 |  0:00:23s\n",
      "epoch 30 | loss: 0.01747 | val_logits_ll: 0.01798 |  0:00:34s\n",
      "epoch 40 | loss: 0.01708 | val_logits_ll: 0.01777 |  0:00:45s\n",
      "epoch 50 | loss: 0.01675 | val_logits_ll: 0.01753 |  0:00:55s\n",
      "epoch 60 | loss: 0.01677 | val_logits_ll: 0.01738 |  0:01:07s\n",
      "epoch 70 | loss: 0.01649 | val_logits_ll: 0.01746 |  0:01:18s\n",
      "epoch 80 | loss: 0.01606 | val_logits_ll: 0.01732 |  0:01:29s\n",
      "epoch 90 | loss: 0.01596 | val_logits_ll: 0.01701 |  0:01:40s\n",
      "epoch 100| loss: 0.01576 | val_logits_ll: 0.01701 |  0:01:51s\n",
      "epoch 110| loss: 0.01545 | val_logits_ll: 0.01745 |  0:02:01s\n",
      "\n",
      "Early stopping occured at epoch 116 with best_epoch = 96 and best_val_logits_ll = 0.01698\n",
      "Best weights from best epoch are automatically used!\n",
      "FOLDS :  1\n",
      "Device used : cuda\n",
      "epoch 0  | loss: 0.56541 | val_logits_ll: 0.29348 |  0:00:01s\n",
      "epoch 10 | loss: 0.02066 | val_logits_ll: 0.02054 |  0:00:11s\n",
      "epoch 20 | loss: 0.0187  | val_logits_ll: 0.01889 |  0:00:22s\n",
      "epoch 30 | loss: 0.01768 | val_logits_ll: 0.01806 |  0:00:33s\n",
      "epoch 40 | loss: 0.01715 | val_logits_ll: 0.01741 |  0:00:44s\n",
      "epoch 50 | loss: 0.01663 | val_logits_ll: 0.01743 |  0:00:55s\n",
      "epoch 60 | loss: 0.01642 | val_logits_ll: 0.01712 |  0:01:06s\n",
      "epoch 70 | loss: 0.01642 | val_logits_ll: 0.0171  |  0:01:17s\n",
      "epoch 80 | loss: 0.01611 | val_logits_ll: 0.01697 |  0:01:28s\n",
      "epoch 90 | loss: 0.01586 | val_logits_ll: 0.01689 |  0:01:39s\n",
      "epoch 100| loss: 0.01553 | val_logits_ll: 0.01692 |  0:01:49s\n",
      "\n",
      "Early stopping occured at epoch 105 with best_epoch = 85 and best_val_logits_ll = 0.01683\n",
      "Best weights from best epoch are automatically used!\n",
      "FOLDS :  2\n",
      "Device used : cuda\n",
      "epoch 0  | loss: 0.56586 | val_logits_ll: 0.29368 |  0:00:01s\n",
      "epoch 10 | loss: 0.02053 | val_logits_ll: 0.0214  |  0:00:12s\n",
      "epoch 20 | loss: 0.01889 | val_logits_ll: 0.01932 |  0:00:23s\n",
      "epoch 30 | loss: 0.01766 | val_logits_ll: 0.01842 |  0:00:33s\n",
      "epoch 40 | loss: 0.0172  | val_logits_ll: 0.01921 |  0:00:44s\n",
      "epoch 50 | loss: 0.01683 | val_logits_ll: 0.0175  |  0:00:55s\n",
      "epoch 60 | loss: 0.01647 | val_logits_ll: 0.01727 |  0:01:07s\n",
      "epoch 70 | loss: 0.01644 | val_logits_ll: 0.0176  |  0:01:18s\n",
      "epoch 80 | loss: 0.01617 | val_logits_ll: 0.01727 |  0:01:28s\n",
      "epoch 90 | loss: 0.01588 | val_logits_ll: 0.01702 |  0:01:39s\n",
      "epoch 100| loss: 0.01574 | val_logits_ll: 0.01734 |  0:01:50s\n",
      "epoch 110| loss: 0.01541 | val_logits_ll: 0.01716 |  0:02:02s\n",
      "epoch 120| loss: 0.01527 | val_logits_ll: 0.01727 |  0:02:13s\n",
      "\n",
      "Early stopping occured at epoch 127 with best_epoch = 107 and best_val_logits_ll = 0.01697\n",
      "Best weights from best epoch are automatically used!\n",
      "FOLDS :  3\n",
      "Device used : cuda\n",
      "epoch 0  | loss: 0.56451 | val_logits_ll: 0.29594 |  0:00:01s\n",
      "epoch 10 | loss: 0.02038 | val_logits_ll: 0.02048 |  0:00:11s\n",
      "epoch 20 | loss: 0.01876 | val_logits_ll: 0.02153 |  0:00:22s\n",
      "epoch 30 | loss: 0.01754 | val_logits_ll: 0.01817 |  0:00:33s\n",
      "epoch 40 | loss: 0.01687 | val_logits_ll: 0.01775 |  0:00:45s\n",
      "epoch 50 | loss: 0.01657 | val_logits_ll: 0.01748 |  0:00:56s\n",
      "epoch 60 | loss: 0.01632 | val_logits_ll: 0.01739 |  0:01:07s\n",
      "epoch 70 | loss: 0.01588 | val_logits_ll: 0.01731 |  0:01:17s\n",
      "epoch 80 | loss: 0.01565 | val_logits_ll: 0.01712 |  0:01:28s\n",
      "\n",
      "Early stopping occured at epoch 89 with best_epoch = 69 and best_val_logits_ll = 0.01707\n",
      "Best weights from best epoch are automatically used!\n",
      "FOLDS :  4\n",
      "Device used : cuda\n",
      "epoch 0  | loss: 0.56149 | val_logits_ll: 0.31384 |  0:00:01s\n",
      "epoch 10 | loss: 0.02061 | val_logits_ll: 0.02043 |  0:00:11s\n",
      "epoch 20 | loss: 0.01872 | val_logits_ll: 0.01909 |  0:00:22s\n",
      "epoch 30 | loss: 0.01764 | val_logits_ll: 0.01799 |  0:00:33s\n",
      "epoch 40 | loss: 0.01705 | val_logits_ll: 0.01758 |  0:00:44s\n",
      "epoch 50 | loss: 0.01672 | val_logits_ll: 0.01734 |  0:00:55s\n",
      "epoch 60 | loss: 0.0165  | val_logits_ll: 0.01714 |  0:01:06s\n",
      "epoch 70 | loss: 0.01632 | val_logits_ll: 0.01701 |  0:01:17s\n",
      "epoch 80 | loss: 0.0162  | val_logits_ll: 0.01695 |  0:01:28s\n",
      "epoch 90 | loss: 0.01597 | val_logits_ll: 0.01677 |  0:01:39s\n",
      "epoch 100| loss: 0.01575 | val_logits_ll: 0.01705 |  0:01:49s\n",
      "epoch 110| loss: 0.01552 | val_logits_ll: 0.01729 |  0:02:01s\n",
      "\n",
      "Early stopping occured at epoch 110 with best_epoch = 90 and best_val_logits_ll = 0.01677\n",
      "Best weights from best epoch are automatically used!\n",
      "FOLDS :  5\n",
      "Device used : cuda\n",
      "epoch 0  | loss: 0.55945 | val_logits_ll: 0.30375 |  0:00:01s\n",
      "epoch 10 | loss: 0.02063 | val_logits_ll: 0.02056 |  0:00:11s\n",
      "epoch 20 | loss: 0.01897 | val_logits_ll: 0.0193  |  0:00:22s\n",
      "epoch 30 | loss: 0.01785 | val_logits_ll: 0.01815 |  0:00:33s\n",
      "epoch 40 | loss: 0.01734 | val_logits_ll: 0.01765 |  0:00:44s\n",
      "epoch 50 | loss: 0.01681 | val_logits_ll: 0.01774 |  0:00:56s\n",
      "epoch 60 | loss: 0.01628 | val_logits_ll: 0.01747 |  0:01:07s\n",
      "epoch 70 | loss: 0.0163  | val_logits_ll: 0.01727 |  0:01:17s\n",
      "epoch 80 | loss: 0.01601 | val_logits_ll: 0.0171  |  0:01:28s\n",
      "epoch 90 | loss: 0.01587 | val_logits_ll: 0.01757 |  0:01:39s\n",
      "epoch 100| loss: 0.01586 | val_logits_ll: 0.01701 |  0:01:49s\n",
      "epoch 110| loss: 0.01537 | val_logits_ll: 0.01706 |  0:02:02s\n",
      "\n",
      "Early stopping occured at epoch 113 with best_epoch = 93 and best_val_logits_ll = 0.01689\n",
      "Best weights from best epoch are automatically used!\n",
      "FOLDS :  1\n",
      "Device used : cuda\n",
      "epoch 0  | loss: 0.5569  | val_logits_ll: 0.2777  |  0:00:01s\n",
      "epoch 10 | loss: 0.02028 | val_logits_ll: 0.0202  |  0:00:11s\n",
      "epoch 20 | loss: 0.01855 | val_logits_ll: 0.01917 |  0:00:22s\n",
      "epoch 30 | loss: 0.01755 | val_logits_ll: 0.01856 |  0:00:33s\n",
      "epoch 40 | loss: 0.01698 | val_logits_ll: 0.01909 |  0:00:44s\n",
      "epoch 50 | loss: 0.01688 | val_logits_ll: 0.01735 |  0:00:55s\n",
      "epoch 60 | loss: 0.01645 | val_logits_ll: 0.0174  |  0:01:06s\n",
      "epoch 70 | loss: 0.01616 | val_logits_ll: 0.01704 |  0:01:17s\n",
      "epoch 80 | loss: 0.01591 | val_logits_ll: 0.01695 |  0:01:28s\n",
      "epoch 90 | loss: 0.01589 | val_logits_ll: 0.01681 |  0:01:38s\n",
      "epoch 100| loss: 0.01561 | val_logits_ll: 0.01688 |  0:01:50s\n",
      "epoch 110| loss: 0.01535 | val_logits_ll: 0.01696 |  0:02:01s\n",
      "epoch 120| loss: 0.01529 | val_logits_ll: 0.01722 |  0:02:11s\n",
      "\n",
      "Early stopping occured at epoch 123 with best_epoch = 103 and best_val_logits_ll = 0.01673\n",
      "Best weights from best epoch are automatically used!\n",
      "FOLDS :  2\n",
      "Device used : cuda\n",
      "epoch 0  | loss: 0.56279 | val_logits_ll: 0.28443 |  0:00:00s\n",
      "epoch 10 | loss: 0.02054 | val_logits_ll: 0.02047 |  0:00:11s\n",
      "epoch 20 | loss: 0.01852 | val_logits_ll: 0.01886 |  0:00:22s\n",
      "epoch 30 | loss: 0.01757 | val_logits_ll: 0.01807 |  0:00:33s\n",
      "epoch 40 | loss: 0.01693 | val_logits_ll: 0.01789 |  0:00:44s\n",
      "epoch 50 | loss: 0.01673 | val_logits_ll: 0.01757 |  0:00:56s\n",
      "epoch 60 | loss: 0.01647 | val_logits_ll: 0.01737 |  0:01:06s\n",
      "epoch 70 | loss: 0.01618 | val_logits_ll: 0.0174  |  0:01:17s\n",
      "epoch 80 | loss: 0.01621 | val_logits_ll: 0.01722 |  0:01:28s\n",
      "epoch 90 | loss: 0.01594 | val_logits_ll: 0.01721 |  0:01:39s\n",
      "epoch 100| loss: 0.01556 | val_logits_ll: 0.01724 |  0:01:50s\n",
      "epoch 110| loss: 0.01556 | val_logits_ll: 0.01713 |  0:02:01s\n",
      "\n",
      "Early stopping occured at epoch 119 with best_epoch = 99 and best_val_logits_ll = 0.017\n",
      "Best weights from best epoch are automatically used!\n",
      "FOLDS :  3\n",
      "Device used : cuda\n",
      "epoch 0  | loss: 0.56414 | val_logits_ll: 0.2816  |  0:00:01s\n",
      "epoch 10 | loss: 0.02086 | val_logits_ll: 0.02107 |  0:00:12s\n",
      "epoch 20 | loss: 0.01838 | val_logits_ll: 0.01902 |  0:00:24s\n",
      "epoch 30 | loss: 0.01726 | val_logits_ll: 0.01776 |  0:00:35s\n",
      "epoch 40 | loss: 0.01719 | val_logits_ll: 0.01822 |  0:00:46s\n",
      "epoch 50 | loss: 0.01651 | val_logits_ll: 0.0175  |  0:00:56s\n",
      "epoch 60 | loss: 0.01637 | val_logits_ll: 0.01727 |  0:01:07s\n",
      "epoch 70 | loss: 0.01602 | val_logits_ll: 0.01729 |  0:01:19s\n",
      "epoch 80 | loss: 0.01582 | val_logits_ll: 0.01729 |  0:01:30s\n",
      "epoch 90 | loss: 0.01566 | val_logits_ll: 0.01733 |  0:01:41s\n",
      "epoch 100| loss: 0.01542 | val_logits_ll: 0.01734 |  0:01:52s\n",
      "\n",
      "Early stopping occured at epoch 103 with best_epoch = 83 and best_val_logits_ll = 0.01703\n",
      "Best weights from best epoch are automatically used!\n",
      "FOLDS :  4\n",
      "Device used : cuda\n",
      "epoch 0  | loss: 0.55723 | val_logits_ll: 0.29375 |  0:00:01s\n",
      "epoch 10 | loss: 0.02055 | val_logits_ll: 0.02051 |  0:00:11s\n",
      "epoch 20 | loss: 0.01847 | val_logits_ll: 0.01871 |  0:00:23s\n",
      "epoch 30 | loss: 0.0175  | val_logits_ll: 0.01919 |  0:00:34s\n",
      "epoch 40 | loss: 0.01739 | val_logits_ll: 0.01764 |  0:00:44s\n",
      "epoch 50 | loss: 0.01688 | val_logits_ll: 0.01717 |  0:00:56s\n",
      "epoch 60 | loss: 0.01655 | val_logits_ll: 0.01715 |  0:01:06s\n",
      "epoch 70 | loss: 0.01637 | val_logits_ll: 0.01703 |  0:01:17s\n",
      "epoch 80 | loss: 0.0162  | val_logits_ll: 0.01744 |  0:01:29s\n",
      "epoch 90 | loss: 0.01582 | val_logits_ll: 0.01711 |  0:01:40s\n",
      "epoch 100| loss: 0.01542 | val_logits_ll: 0.01701 |  0:01:50s\n",
      "epoch 110| loss: 0.01525 | val_logits_ll: 0.01725 |  0:02:02s\n",
      "\n",
      "Early stopping occured at epoch 111 with best_epoch = 91 and best_val_logits_ll = 0.01689\n",
      "Best weights from best epoch are automatically used!\n",
      "FOLDS :  5\n",
      "Device used : cuda\n",
      "epoch 0  | loss: 0.56355 | val_logits_ll: 0.28814 |  0:00:01s\n",
      "epoch 10 | loss: 0.02054 | val_logits_ll: 0.0205  |  0:00:11s\n",
      "epoch 20 | loss: 0.01846 | val_logits_ll: 0.01859 |  0:00:23s\n",
      "epoch 30 | loss: 0.01765 | val_logits_ll: 0.01895 |  0:00:34s\n",
      "epoch 40 | loss: 0.01707 | val_logits_ll: 0.01813 |  0:00:45s\n",
      "epoch 50 | loss: 0.01648 | val_logits_ll: 0.01736 |  0:00:55s\n",
      "epoch 60 | loss: 0.01623 | val_logits_ll: 0.01742 |  0:01:06s\n",
      "epoch 70 | loss: 0.01593 | val_logits_ll: 0.01718 |  0:01:18s\n",
      "epoch 80 | loss: 0.01585 | val_logits_ll: 0.01725 |  0:01:29s\n",
      "epoch 90 | loss: 0.01553 | val_logits_ll: 0.01711 |  0:01:40s\n",
      "epoch 100| loss: 0.01539 | val_logits_ll: 0.01714 |  0:01:50s\n",
      "\n",
      "Early stopping occured at epoch 108 with best_epoch = 88 and best_val_logits_ll = 0.01708\n",
      "Best weights from best epoch are automatically used!\n"
     ]
    }
   ],
   "source": [
    "MAX_EPOCH=200\n",
    "\n",
    "smoothing = 0.001\n",
    "p_min = smoothing\n",
    "p_max = 1 - smoothing\n",
    "\n",
    "def seed_everything(seed_value):\n",
    "    random.seed(seed_value)\n",
    "    np.random.seed(seed_value)\n",
    "    torch.manual_seed(seed_value)\n",
    "    os.environ['PYTHONHASHSEED'] = str(seed_value)\n",
    "    \n",
    "    if torch.cuda.is_available(): \n",
    "        torch.cuda.manual_seed(seed_value)\n",
    "        torch.cuda.manual_seed_all(seed_value)\n",
    "        torch.backends.cudnn.deterministic = True\n",
    "        torch.backends.cudnn.benchmark = False\n",
    "\n",
    "def modelling_tabnet(tr, target, te, sample_seed):\n",
    "    seed_everything(sample_seed) \n",
    "    tabnet_params = dict(n_d=12, n_a=12, n_steps=1, gamma=1.3, seed = sample_seed,\n",
    "                     lambda_sparse=0, optimizer_fn=torch.optim.Adam,\n",
    "                     optimizer_params=dict(lr=2e-2, weight_decay=1e-5),\n",
    "                     mask_type='entmax',\n",
    "                     scheduler_params=dict(mode=\"min\",\n",
    "                                           patience=5,\n",
    "                                           min_lr=1e-5,\n",
    "                                           factor=0.9,),\n",
    "                     scheduler_fn=torch.optim.lr_scheduler.ReduceLROnPlateau,\n",
    "                     verbose=10,\n",
    "                     )\n",
    "    test_cv_preds = []\n",
    "\n",
    "    NB_SPLITS = 5\n",
    "    mskf = MultilabelStratifiedKFold(n_splits=NB_SPLITS, random_state=0, shuffle=True)\n",
    "    oof_preds = np.zeros([len(tr),target.shape[1]])\n",
    "    scores = []\n",
    "    for fold_nb, (train_idx, val_idx) in enumerate(mskf.split(train, target)):\n",
    "        print(\"FOLDS : \", fold_nb+1)\n",
    "\n",
    "        ## model\n",
    "        X_train, y_train = tr[train_idx, :], target[train_idx, :]\n",
    "        X_val, y_val = tr[val_idx, :], target[val_idx, :]\n",
    "        model = TabNetRegressor(**tabnet_params)\n",
    "    \n",
    "        model.fit(X_train=X_train,\n",
    "              y_train=y_train,\n",
    "              eval_set=[(X_val, y_val)],\n",
    "              eval_name = [\"val\"],\n",
    "              eval_metric = [\"logits_ll\"],\n",
    "              max_epochs=MAX_EPOCH,\n",
    "              patience=20, batch_size=1024, virtual_batch_size=128,\n",
    "              num_workers=1, drop_last=False,\n",
    "              # use binary cross entropy as this is not a regression problem\n",
    "              loss_fn=torch.nn.functional.binary_cross_entropy_with_logits)\n",
    "    \n",
    "        preds_val = model.predict(X_val)\n",
    "        # Apply sigmoid to the predictions\n",
    "        preds =  1 / (1 + np.exp(-preds_val))\n",
    "        score = np.min(model.history[\"val_logits_ll\"])\n",
    "        oof_preds[val_idx,:] = preds\n",
    "        #oof_preds[val_idx,:] = np.clip(preds, p_min, p_max)\n",
    "        scores.append(score)\n",
    "\n",
    "        # preds on test\n",
    "        preds_test = model.predict(te)\n",
    "        test_cv_preds.append(1 / (1 + np.exp(-preds_test)))\n",
    "        #test_cv_preds.append(np.clip(1 / (1 + np.exp(-preds_test))), p_min, p_max)\n",
    "\n",
    "    test_preds_all = np.stack(test_cv_preds)\n",
    "    return oof_preds, test_preds_all\n",
    "\n",
    "target_oof = np.zeros([len(fn_train),fn_targets.shape[1]])\n",
    "target_pred = np.zeros([len(fn_test),fn_targets.shape[1]])\n",
    "\n",
    "seeds = [0,1,2]\n",
    "for seed_ in seeds:\n",
    "    oof_preds, test_preds_all = modelling_tabnet(fn_train, fn_targets, fn_test, seed_)\n",
    "    target_oof += oof_preds / len(seeds)\n",
    "    target_pred += test_preds_all.mean(axis=0) / len(seeds)"
   ]
  },
  {
   "cell_type": "code",
   "execution_count": 16,
   "metadata": {
    "execution": {
     "iopub.execute_input": "2020-10-25T03:57:09.553618Z",
     "iopub.status.busy": "2020-10-25T03:57:09.552685Z",
     "iopub.status.idle": "2020-10-25T03:57:16.541932Z",
     "shell.execute_reply": "2020-10-25T03:57:16.542483Z"
    },
    "papermill": {
     "duration": 7.095588,
     "end_time": "2020-10-25T03:57:16.542653",
     "exception": false,
     "start_time": "2020-10-25T03:57:09.447065",
     "status": "completed"
    },
    "tags": []
   },
   "outputs": [
    {
     "name": "stdout",
     "output_type": "stream",
     "text": [
      "OOF log loss:  0.015191721336768762\n"
     ]
    }
   ],
   "source": [
    "t = pd.read_csv(DATA_DIR + 'train_targets_scored.csv')\n",
    "train_checkscore = t.copy()\n",
    "train_checkscore.loc[train_checkscore.index.isin(cons_train_index),target_feats] = target_oof\n",
    "train_checkscore.loc[train_checkscore.index.isin(noncons_train_index),target_feats] = 0\n",
    "\n",
    "t.drop(\"sig_id\", axis=1, inplace=True)\n",
    "print('OOF log loss: ', log_loss(np.ravel(t), np.ravel(np.array(train_checkscore.iloc[:,1:]))))"
   ]
  },
  {
   "cell_type": "code",
   "execution_count": 17,
   "metadata": {
    "execution": {
     "iopub.execute_input": "2020-10-25T03:57:16.740865Z",
     "iopub.status.busy": "2020-10-25T03:57:16.739915Z",
     "iopub.status.idle": "2020-10-25T03:57:19.286864Z",
     "shell.execute_reply": "2020-10-25T03:57:19.285568Z"
    },
    "papermill": {
     "duration": 2.65047,
     "end_time": "2020-10-25T03:57:19.287015",
     "exception": false,
     "start_time": "2020-10-25T03:57:16.636545",
     "status": "completed"
    },
    "tags": []
   },
   "outputs": [],
   "source": [
    "sub[target_feats] = target_pred\n",
    "sub.loc[noncons_test_index,target_feats] = 0\n",
    "sub.to_csv('submission.csv', index=False)"
   ]
  },
  {
   "cell_type": "code",
   "execution_count": null,
   "metadata": {
    "papermill": {
     "duration": 0.101614,
     "end_time": "2020-10-25T03:57:19.491339",
     "exception": false,
     "start_time": "2020-10-25T03:57:19.389725",
     "status": "completed"
    },
    "tags": []
   },
   "outputs": [],
   "source": []
  }
 ],
 "metadata": {
  "kernelspec": {
   "display_name": "Python 3",
   "language": "python",
   "name": "python3"
  },
  "language_info": {
   "codemirror_mode": {
    "name": "ipython",
    "version": 3
   },
   "file_extension": ".py",
   "mimetype": "text/x-python",
   "name": "python",
   "nbconvert_exporter": "python",
   "pygments_lexer": "ipython3",
   "version": "3.7.6"
  },
  "papermill": {
   "duration": 1918.703447,
   "end_time": "2020-10-25T03:57:21.029868",
   "environment_variables": {},
   "exception": null,
   "input_path": "__notebook__.ipynb",
   "output_path": "__notebook__.ipynb",
   "parameters": {},
   "start_time": "2020-10-25T03:25:22.326421",
   "version": "2.1.0"
  }
 },
 "nbformat": 4,
 "nbformat_minor": 4
}
