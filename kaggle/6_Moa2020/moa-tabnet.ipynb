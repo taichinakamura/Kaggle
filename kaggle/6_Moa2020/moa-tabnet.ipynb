{
 "cells": [
  {
   "cell_type": "markdown",
   "metadata": {
    "papermill": {
     "duration": 0.017493,
     "end_time": "2020-11-04T10:30:53.601564",
     "exception": false,
     "start_time": "2020-11-04T10:30:53.584071",
     "status": "completed"
    },
    "tags": []
   },
   "source": [
    "- change seed in tabnet model to (0,100,2)\n",
    "- import clipping\n",
    "- change fold method by drug"
   ]
  },
  {
   "cell_type": "code",
   "execution_count": 1,
   "metadata": {
    "execution": {
     "iopub.execute_input": "2020-11-04T10:30:53.641971Z",
     "iopub.status.busy": "2020-11-04T10:30:53.641185Z",
     "iopub.status.idle": "2020-11-04T10:31:02.275228Z",
     "shell.execute_reply": "2020-11-04T10:31:02.273430Z"
    },
    "papermill": {
     "duration": 8.656474,
     "end_time": "2020-11-04T10:31:02.275387",
     "exception": false,
     "start_time": "2020-11-04T10:30:53.618913",
     "status": "completed"
    },
    "tags": []
   },
   "outputs": [
    {
     "name": "stdout",
     "output_type": "stream",
     "text": [
      "Looking in links: /kaggle/input/pytorchtabnet/pytorch_tabnet-2.0.0-py3-none-any.whl\r\n",
      "Processing /kaggle/input/pytorchtabnet/pytorch_tabnet-2.0.0-py3-none-any.whl\r\n",
      "Requirement already satisfied: tqdm<5.0,>=4.36 in /opt/conda/lib/python3.7/site-packages (from pytorch-tabnet) (4.45.0)\r\n",
      "Requirement already satisfied: scikit_learn>0.21 in /opt/conda/lib/python3.7/site-packages (from pytorch-tabnet) (0.23.2)\r\n",
      "Requirement already satisfied: numpy<2.0,>=1.17 in /opt/conda/lib/python3.7/site-packages (from pytorch-tabnet) (1.18.5)\r\n",
      "Requirement already satisfied: scipy>1.4 in /opt/conda/lib/python3.7/site-packages (from pytorch-tabnet) (1.4.1)\r\n",
      "Requirement already satisfied: torch<2.0,>=1.2 in /opt/conda/lib/python3.7/site-packages (from pytorch-tabnet) (1.6.0)\r\n",
      "Requirement already satisfied: threadpoolctl>=2.0.0 in /opt/conda/lib/python3.7/site-packages (from scikit_learn>0.21->pytorch-tabnet) (2.1.0)\r\n",
      "Requirement already satisfied: joblib>=0.11 in /opt/conda/lib/python3.7/site-packages (from scikit_learn>0.21->pytorch-tabnet) (0.14.1)\r\n",
      "Requirement already satisfied: future in /opt/conda/lib/python3.7/site-packages (from torch<2.0,>=1.2->pytorch-tabnet) (0.18.2)\r\n",
      "Installing collected packages: pytorch-tabnet\r\n",
      "Successfully installed pytorch-tabnet-2.0.0\r\n"
     ]
    }
   ],
   "source": [
    "!pip install --no-index --find-links /kaggle/input/pytorchtabnet/pytorch_tabnet-2.0.0-py3-none-any.whl pytorch-tabnet"
   ]
  },
  {
   "cell_type": "code",
   "execution_count": 2,
   "metadata": {
    "_cell_guid": "b1076dfc-b9ad-4769-8c92-a6c4dae69d19",
    "_uuid": "8f2839f25d086af736a60e9eeb907d3b93b6e0e5",
    "execution": {
     "iopub.execute_input": "2020-11-04T10:31:02.348181Z",
     "iopub.status.busy": "2020-11-04T10:31:02.347318Z",
     "iopub.status.idle": "2020-11-04T10:31:11.457038Z",
     "shell.execute_reply": "2020-11-04T10:31:11.456115Z"
    },
    "papermill": {
     "duration": 9.149908,
     "end_time": "2020-11-04T10:31:11.457160",
     "exception": false,
     "start_time": "2020-11-04T10:31:02.307252",
     "status": "completed"
    },
    "tags": []
   },
   "outputs": [],
   "source": [
    "import os\n",
    "import sys\n",
    "import random\n",
    "import warnings\n",
    "import numpy as np\n",
    "import pandas as pd \n",
    "from umap import UMAP\n",
    "from sklearn import preprocessing\n",
    "from sklearn.metrics import log_loss,roc_auc_score\n",
    "from sklearn.decomposition import PCA\n",
    "from tqdm import tqdm_notebook as tqdm\n",
    "from sklearn.cluster import KMeans\n",
    "from sklearn.multioutput import MultiOutputClassifier\n",
    "from sklearn.feature_selection import VarianceThreshold\n",
    "from torch.nn.modules.loss import _WeightedLoss\n",
    "\n",
    "from pytorch_tabnet.metrics import Metric\n",
    "from pytorch_tabnet.tab_model import TabNetRegressor\n",
    "\n",
    "sys.path.append('../input/multilabelstraifier/')\n",
    "from ml_stratifiers import MultilabelStratifiedKFold\n",
    "warnings.filterwarnings('ignore')\n",
    "\n",
    "import time\n",
    "import torch\n",
    "import torch.nn as nn\n",
    "import torch.optim as optim\n",
    "import torch.nn.functional as F\n",
    "import tensorflow as tf"
   ]
  },
  {
   "cell_type": "code",
   "execution_count": 3,
   "metadata": {
    "execution": {
     "iopub.execute_input": "2020-11-04T10:31:11.507820Z",
     "iopub.status.busy": "2020-11-04T10:31:11.506913Z",
     "iopub.status.idle": "2020-11-04T10:31:17.716066Z",
     "shell.execute_reply": "2020-11-04T10:31:17.714550Z"
    },
    "papermill": {
     "duration": 6.239513,
     "end_time": "2020-11-04T10:31:17.716191",
     "exception": false,
     "start_time": "2020-11-04T10:31:11.476678",
     "status": "completed"
    },
    "tags": []
   },
   "outputs": [],
   "source": [
    "DATA_DIR = '/kaggle/input/lish-moa/'\n",
    "train = pd.read_csv(DATA_DIR + 'train_features.csv')\n",
    "targets = pd.read_csv(DATA_DIR + 'train_targets_scored.csv')\n",
    "non_targets = pd.read_csv(DATA_DIR + 'train_targets_nonscored.csv')\n",
    "test = pd.read_csv(DATA_DIR + 'test_features.csv')\n",
    "sub = pd.read_csv(DATA_DIR + 'sample_submission.csv')\n",
    "drug = pd.read_csv(DATA_DIR + 'train_drug.csv')"
   ]
  },
  {
   "cell_type": "code",
   "execution_count": 4,
   "metadata": {
    "execution": {
     "iopub.execute_input": "2020-11-04T10:31:17.773545Z",
     "iopub.status.busy": "2020-11-04T10:31:17.772713Z",
     "iopub.status.idle": "2020-11-04T10:31:17.865613Z",
     "shell.execute_reply": "2020-11-04T10:31:17.864471Z"
    },
    "papermill": {
     "duration": 0.130229,
     "end_time": "2020-11-04T10:31:17.865786",
     "exception": false,
     "start_time": "2020-11-04T10:31:17.735557",
     "status": "completed"
    },
    "tags": []
   },
   "outputs": [],
   "source": [
    "target_feats = [ i for i in targets.columns if i != \"sig_id\"]\n",
    "g_feats = [i for i in train.columns if \"g-\" in i]\n",
    "c_feats = [i for i in train.columns if \"c-\" in i]\n",
    "\n",
    "noncons_train_index = train[train.cp_type==\"ctl_vehicle\"].index\n",
    "cons_train_index = train[~train.index.isin(noncons_train_index)].index\n",
    "noncons_test_index = test[test.cp_type==\"ctl_vehicle\"].index\n",
    "cons_test_index = test[test.cp_type!=\"ctl_vehicle\"].index"
   ]
  },
  {
   "cell_type": "markdown",
   "metadata": {
    "papermill": {
     "duration": 0.018843,
     "end_time": "2020-11-04T10:31:17.903957",
     "exception": false,
     "start_time": "2020-11-04T10:31:17.885114",
     "status": "completed"
    },
    "tags": []
   },
   "source": [
    "# preprocess"
   ]
  },
  {
   "cell_type": "code",
   "execution_count": 5,
   "metadata": {
    "execution": {
     "iopub.execute_input": "2020-11-04T10:31:17.955896Z",
     "iopub.status.busy": "2020-11-04T10:31:17.954820Z",
     "iopub.status.idle": "2020-11-04T10:31:18.188943Z",
     "shell.execute_reply": "2020-11-04T10:31:18.188356Z"
    },
    "papermill": {
     "duration": 0.266021,
     "end_time": "2020-11-04T10:31:18.189053",
     "exception": false,
     "start_time": "2020-11-04T10:31:17.923032",
     "status": "completed"
    },
    "tags": []
   },
   "outputs": [],
   "source": [
    "train = train[train.index.isin(cons_train_index)].copy().reset_index(drop=True)\n",
    "targets = targets[targets.index.isin(cons_train_index)].copy().reset_index(drop=True)\n",
    "drug = drug[drug.index.isin(cons_train_index)].copy().reset_index(drop=True)"
   ]
  },
  {
   "cell_type": "code",
   "execution_count": 6,
   "metadata": {
    "execution": {
     "iopub.execute_input": "2020-11-04T10:31:18.259896Z",
     "iopub.status.busy": "2020-11-04T10:31:18.254621Z",
     "iopub.status.idle": "2020-11-04T10:31:18.733590Z",
     "shell.execute_reply": "2020-11-04T10:31:18.733100Z"
    },
    "papermill": {
     "duration": 0.523948,
     "end_time": "2020-11-04T10:31:18.733713",
     "exception": false,
     "start_time": "2020-11-04T10:31:18.209765",
     "status": "completed"
    },
    "tags": []
   },
   "outputs": [
    {
     "data": {
      "text/plain": [
       "array([[1, 1, 4, ..., 1, 0, 1]], dtype=int8)"
      ]
     },
     "execution_count": 6,
     "metadata": {},
     "output_type": "execute_result"
    }
   ],
   "source": [
    "# https://www.kaggle.com/c/lish-moa/discussion/195195\n",
    "NB_SPLITS = 5\n",
    "seed = 34\n",
    "\n",
    "folds = []\n",
    "    \n",
    "# LOAD FILES\n",
    "train_score = targets.merge(drug, on='sig_id', how='left') \n",
    "\n",
    "# LOCATE DRUGS\n",
    "vc = train_score.drug_id.value_counts()\n",
    "vc1 = vc.loc[vc <= 18].index.sort_values()\n",
    "vc2 = vc.loc[vc > 18].index.sort_values()\n",
    "    \n",
    "# STRATIFY DRUGS 18X OR LESS\n",
    "dct1 = {}; dct2 = {}\n",
    "skf = MultilabelStratifiedKFold(n_splits = NB_SPLITS, shuffle = True, random_state = seed)\n",
    "tmp = train_score.groupby('drug_id')[target_feats].mean().loc[vc1]\n",
    "for fold,(idxT,idxV) in enumerate(skf.split(tmp,tmp[target_feats])):\n",
    "    dd = {k:fold for k in tmp.index[idxV].values}\n",
    "    dct1.update(dd)\n",
    "\n",
    "# STRATIFY DRUGS MORE THAN 18X\n",
    "skf = MultilabelStratifiedKFold(n_splits = NB_SPLITS, shuffle = True, random_state = seed)\n",
    "tmp = train_score.loc[train_score.drug_id.isin(vc2)].reset_index(drop = True)\n",
    "for fold,(idxT,idxV) in enumerate(skf.split(tmp,tmp[target_feats])):\n",
    "    dd = {k:fold for k in tmp.sig_id[idxV].values}\n",
    "    dct2.update(dd)\n",
    "\n",
    "# ASSIGN FOLDS\n",
    "train_score['fold'] = train_score.drug_id.map(dct1)\n",
    "train_score.loc[train_score.fold.isna(),'fold'] = train_score.loc[train_score.fold.isna(),'sig_id'].map(dct2)\n",
    "train_score.fold = train_score.fold.astype('int8')\n",
    "folds.append(train_score.fold.values)\n",
    "    \n",
    "np.array(folds)"
   ]
  },
  {
   "cell_type": "markdown",
   "metadata": {
    "papermill": {
     "duration": 0.021341,
     "end_time": "2020-11-04T10:31:18.775641",
     "exception": false,
     "start_time": "2020-11-04T10:31:18.754300",
     "status": "completed"
    },
    "tags": []
   },
   "source": [
    "# feature engineering"
   ]
  },
  {
   "cell_type": "code",
   "execution_count": 7,
   "metadata": {
    "execution": {
     "iopub.execute_input": "2020-11-04T10:31:18.819153Z",
     "iopub.status.busy": "2020-11-04T10:31:18.818460Z",
     "iopub.status.idle": "2020-11-04T10:31:18.822026Z",
     "shell.execute_reply": "2020-11-04T10:31:18.822602Z"
    },
    "papermill": {
     "duration": 0.027603,
     "end_time": "2020-11-04T10:31:18.822751",
     "exception": false,
     "start_time": "2020-11-04T10:31:18.795148",
     "status": "completed"
    },
    "tags": []
   },
   "outputs": [],
   "source": [
    "#X = train[g_feats+c_feats].copy().values\n",
    "#select = VarianceThreshold(threshold=0.7)\n",
    "#X_new = select.fit_transform(X)\n",
    "#drop_feats = list(np.array(train[g_feats+c_feats].columns)[select.get_support()==False])\n",
    "#len(drop_feats)\n",
    "\n",
    "#train.drop(drop_feats, axis=1, inplace=True)\n",
    "#test.drop(drop_feats, axis=1, inplace=True)\n",
    "\n",
    "#g_feats = [i for i in train.columns if \"g-\" in i]\n",
    "#c_feats = [i for i in train.columns if \"c-\" in i]"
   ]
  },
  {
   "cell_type": "code",
   "execution_count": 8,
   "metadata": {
    "execution": {
     "iopub.execute_input": "2020-11-04T10:31:18.870981Z",
     "iopub.status.busy": "2020-11-04T10:31:18.870156Z",
     "iopub.status.idle": "2020-11-04T10:31:27.040052Z",
     "shell.execute_reply": "2020-11-04T10:31:27.039447Z"
    },
    "papermill": {
     "duration": 8.197481,
     "end_time": "2020-11-04T10:31:27.040165",
     "exception": false,
     "start_time": "2020-11-04T10:31:18.842684",
     "status": "completed"
    },
    "tags": []
   },
   "outputs": [],
   "source": [
    "for i in c_feats + g_feats:\n",
    "    ss = preprocessing.QuantileTransformer(n_quantiles=100, random_state=0, output_distribution=\"normal\")\n",
    "    ss.fit(train[i].values.reshape(-1,1))\n",
    "    train[i] = ss.transform(train[i].values.reshape(-1,1))\n",
    "    test[i] = ss.transform(test[i].values.reshape(-1,1))"
   ]
  },
  {
   "cell_type": "code",
   "execution_count": 9,
   "metadata": {
    "execution": {
     "iopub.execute_input": "2020-11-04T10:31:27.100416Z",
     "iopub.status.busy": "2020-11-04T10:31:27.098846Z",
     "iopub.status.idle": "2020-11-04T10:31:28.553299Z",
     "shell.execute_reply": "2020-11-04T10:31:28.552736Z"
    },
    "papermill": {
     "duration": 1.492956,
     "end_time": "2020-11-04T10:31:28.553408",
     "exception": false,
     "start_time": "2020-11-04T10:31:27.060452",
     "status": "completed"
    },
    "tags": []
   },
   "outputs": [],
   "source": [
    "c_num = 1\n",
    "pca_c_cols = [\"pca-c\"+str(i+1) for i in range(c_num)]\n",
    "pca = PCA(n_components=c_num,random_state=42)\n",
    "c_train = pca.fit_transform(train[c_feats])\n",
    "c_test = pca.transform(test[c_feats])\n",
    "c_train = pd.DataFrame(c_train, columns=pca_c_cols)\n",
    "c_test = pd.DataFrame(c_test, columns=pca_c_cols)\n",
    "\n",
    "g_num = 10\n",
    "pca_g_cols = [\"pca-g\"+str(i+1) for i in range(g_num)]\n",
    "pca = PCA(n_components=g_num, random_state=42)\n",
    "g_train = pca.fit_transform(train[g_feats])\n",
    "g_test = pca.transform(test[g_feats])\n",
    "g_train = pd.DataFrame(g_train, columns=pca_g_cols)\n",
    "g_test = pd.DataFrame(g_test, columns=pca_g_cols)\n",
    "\n",
    "train = pd.concat([train, c_train],axis=1)\n",
    "test = pd.concat([test, c_test],axis=1)\n",
    "train = pd.concat([train, g_train],axis=1)\n",
    "test = pd.concat([test, g_test],axis=1)"
   ]
  },
  {
   "cell_type": "code",
   "execution_count": 10,
   "metadata": {
    "execution": {
     "iopub.execute_input": "2020-11-04T10:31:28.598385Z",
     "iopub.status.busy": "2020-11-04T10:31:28.597763Z",
     "iopub.status.idle": "2020-11-04T10:31:28.601841Z",
     "shell.execute_reply": "2020-11-04T10:31:28.601287Z"
    },
    "papermill": {
     "duration": 0.028374,
     "end_time": "2020-11-04T10:31:28.601984",
     "exception": false,
     "start_time": "2020-11-04T10:31:28.573610",
     "status": "completed"
    },
    "tags": []
   },
   "outputs": [],
   "source": [
    "#uc_num = 1\n",
    "#um = UMAP(n_neighbors=30, n_components=uc_num, random_state=42)\n",
    "#um_c_cols = [\"um-c\"+str(i+1) for i in range(uc_num)]#\n",
    "#uc_train = um.fit_transform(train[c_feats])\n",
    "#uc_test = um.transform(test[c_feats])\n",
    "#uc_train = pd.DataFrame(uc_train, columns=um_c_cols)\n",
    "#uc_test = pd.DataFrame(uc_test, columns=um_c_cols)\n",
    "\n",
    "#ug_num = 10\n",
    "#um = UMAP(n_neighbors=30, n_components=ug_num, random_state=42)\n",
    "#um_g_cols = [\"um-g\"+str(i+1) for i in range(ug_num)]\n",
    "#ug_train = um.fit_transform(train[g_feats])\n",
    "#ug_test = um.transform(test[g_feats])\n",
    "#ug_train = pd.DataFrame(ug_train, columns=um_g_cols)\n",
    "#ug_test = pd.DataFrame(ug_test, columns=um_g_cols)\n",
    "\n",
    "#train = pd.concat([train, uc_train],axis=1)\n",
    "#test = pd.concat([test, uc_test],axis=1)\n",
    "#train = pd.concat([train, ug_train],axis=1)\n",
    "#test = pd.concat([test, ug_test],axis=1)"
   ]
  },
  {
   "cell_type": "code",
   "execution_count": 11,
   "metadata": {
    "execution": {
     "iopub.execute_input": "2020-11-04T10:31:28.646392Z",
     "iopub.status.busy": "2020-11-04T10:31:28.645776Z",
     "iopub.status.idle": "2020-11-04T10:31:28.650046Z",
     "shell.execute_reply": "2020-11-04T10:31:28.649526Z"
    },
    "papermill": {
     "duration": 0.027984,
     "end_time": "2020-11-04T10:31:28.650140",
     "exception": false,
     "start_time": "2020-11-04T10:31:28.622156",
     "status": "completed"
    },
    "tags": []
   },
   "outputs": [],
   "source": [
    "#n_clusters_g = 15\n",
    "#n_clusters_c = 5\n",
    "#def create_cluster(train, test, kind, n_clusters):\n",
    "#    if kind == \"g\":\n",
    "#        train_ = train[pca_g_cols].copy()\n",
    "#        test_ = test[pca_g_cols].copy()\n",
    "#    else:\n",
    "#        train_ = train[pca_c_cols].copy()\n",
    "#        test_ = test[pca_c_cols].copy()    \n",
    "#    kmeans = KMeans(n_clusters = n_clusters, random_state = 0).fit(train_)\n",
    "#    train[f'clusters_{kind}'] = kmeans.labels_\n",
    "#    test[f'clusters_{kind}'] = kmeans.predict(test_)\n",
    "#    train = pd.get_dummies(train, columns = [f'clusters_{kind}'])\n",
    "#    test = pd.get_dummies(test, columns = [f'clusters_{kind}'])\n",
    "#    return train, test\n",
    "    \n",
    "#train, test = create_cluster(train, test, kind = 'g', n_clusters = n_clusters_g)\n",
    "#train, test = create_cluster(train, test, kind = 'c', n_clusters = n_clusters_c)"
   ]
  },
  {
   "cell_type": "code",
   "execution_count": 12,
   "metadata": {
    "execution": {
     "iopub.execute_input": "2020-11-04T10:31:28.699321Z",
     "iopub.status.busy": "2020-11-04T10:31:28.698118Z",
     "iopub.status.idle": "2020-11-04T10:31:28.953387Z",
     "shell.execute_reply": "2020-11-04T10:31:28.952853Z"
    },
    "papermill": {
     "duration": 0.283107,
     "end_time": "2020-11-04T10:31:28.953502",
     "exception": false,
     "start_time": "2020-11-04T10:31:28.670395",
     "status": "completed"
    },
    "tags": []
   },
   "outputs": [
    {
     "name": "stdout",
     "output_type": "stream",
     "text": [
      "(21948, 885) (3982, 885)\n"
     ]
    }
   ],
   "source": [
    "def fe(df):\n",
    "    tmp = df.copy()\n",
    "    tmp.loc[:, 'cp_dose'] = tmp.loc[:, 'cp_dose'].map({'D1': 0, 'D2': 1})      \n",
    "    tmp.drop([\"sig_id\", \"cp_type\"], axis=1, inplace=True)\n",
    "    return tmp\n",
    "\n",
    "train = fe(train)\n",
    "test = fe(test)\n",
    "\n",
    "print(train.shape, test.shape)"
   ]
  },
  {
   "cell_type": "code",
   "execution_count": 13,
   "metadata": {
    "execution": {
     "iopub.execute_input": "2020-11-04T10:31:29.002520Z",
     "iopub.status.busy": "2020-11-04T10:31:29.000672Z",
     "iopub.status.idle": "2020-11-04T10:31:29.003238Z",
     "shell.execute_reply": "2020-11-04T10:31:29.003720Z"
    },
    "papermill": {
     "duration": 0.02936,
     "end_time": "2020-11-04T10:31:29.003838",
     "exception": false,
     "start_time": "2020-11-04T10:31:28.974478",
     "status": "completed"
    },
    "tags": []
   },
   "outputs": [],
   "source": [
    "train[\"fold\"] = np.array(folds).reshape(-1,1)"
   ]
  },
  {
   "cell_type": "code",
   "execution_count": 14,
   "metadata": {
    "execution": {
     "iopub.execute_input": "2020-11-04T10:31:29.062832Z",
     "iopub.status.busy": "2020-11-04T10:31:29.051380Z",
     "iopub.status.idle": "2020-11-04T10:31:29.077903Z",
     "shell.execute_reply": "2020-11-04T10:31:29.078372Z"
    },
    "papermill": {
     "duration": 0.053785,
     "end_time": "2020-11-04T10:31:29.078506",
     "exception": false,
     "start_time": "2020-11-04T10:31:29.024721",
     "status": "completed"
    },
    "tags": []
   },
   "outputs": [
    {
     "data": {
      "text/html": [
       "<div>\n",
       "<style scoped>\n",
       "    .dataframe tbody tr th:only-of-type {\n",
       "        vertical-align: middle;\n",
       "    }\n",
       "\n",
       "    .dataframe tbody tr th {\n",
       "        vertical-align: top;\n",
       "    }\n",
       "\n",
       "    .dataframe thead th {\n",
       "        text-align: right;\n",
       "    }\n",
       "</style>\n",
       "<table border=\"1\" class=\"dataframe\">\n",
       "  <thead>\n",
       "    <tr style=\"text-align: right;\">\n",
       "      <th></th>\n",
       "      <th>cp_time</th>\n",
       "      <th>cp_dose</th>\n",
       "      <th>g-0</th>\n",
       "      <th>g-1</th>\n",
       "      <th>g-2</th>\n",
       "      <th>g-3</th>\n",
       "      <th>g-4</th>\n",
       "      <th>g-5</th>\n",
       "      <th>g-6</th>\n",
       "      <th>g-7</th>\n",
       "      <th>...</th>\n",
       "      <th>pca-g2</th>\n",
       "      <th>pca-g3</th>\n",
       "      <th>pca-g4</th>\n",
       "      <th>pca-g5</th>\n",
       "      <th>pca-g6</th>\n",
       "      <th>pca-g7</th>\n",
       "      <th>pca-g8</th>\n",
       "      <th>pca-g9</th>\n",
       "      <th>pca-g10</th>\n",
       "      <th>fold</th>\n",
       "    </tr>\n",
       "  </thead>\n",
       "  <tbody>\n",
       "    <tr>\n",
       "      <th>0</th>\n",
       "      <td>24</td>\n",
       "      <td>0</td>\n",
       "      <td>1.111801</td>\n",
       "      <td>0.903367</td>\n",
       "      <td>-0.433829</td>\n",
       "      <td>-0.971728</td>\n",
       "      <td>-0.286559</td>\n",
       "      <td>-1.011388</td>\n",
       "      <td>-1.357431</td>\n",
       "      <td>-0.041716</td>\n",
       "      <td>...</td>\n",
       "      <td>-6.565323</td>\n",
       "      <td>7.922011</td>\n",
       "      <td>-7.719018</td>\n",
       "      <td>4.405187</td>\n",
       "      <td>1.806038</td>\n",
       "      <td>3.393864</td>\n",
       "      <td>1.992503</td>\n",
       "      <td>2.330853</td>\n",
       "      <td>0.229401</td>\n",
       "      <td>1</td>\n",
       "    </tr>\n",
       "    <tr>\n",
       "      <th>1</th>\n",
       "      <td>72</td>\n",
       "      <td>0</td>\n",
       "      <td>0.105667</td>\n",
       "      <td>0.672509</td>\n",
       "      <td>0.257486</td>\n",
       "      <td>0.086759</td>\n",
       "      <td>1.199685</td>\n",
       "      <td>0.691813</td>\n",
       "      <td>0.353695</td>\n",
       "      <td>0.558374</td>\n",
       "      <td>...</td>\n",
       "      <td>-0.264433</td>\n",
       "      <td>-12.554034</td>\n",
       "      <td>4.953071</td>\n",
       "      <td>0.799825</td>\n",
       "      <td>-0.025325</td>\n",
       "      <td>1.039128</td>\n",
       "      <td>-0.897690</td>\n",
       "      <td>3.815383</td>\n",
       "      <td>3.735017</td>\n",
       "      <td>1</td>\n",
       "    </tr>\n",
       "    <tr>\n",
       "      <th>2</th>\n",
       "      <td>48</td>\n",
       "      <td>0</td>\n",
       "      <td>0.767036</td>\n",
       "      <td>0.942499</td>\n",
       "      <td>1.408911</td>\n",
       "      <td>-0.126492</td>\n",
       "      <td>-0.028694</td>\n",
       "      <td>1.490985</td>\n",
       "      <td>0.272541</td>\n",
       "      <td>0.359490</td>\n",
       "      <td>...</td>\n",
       "      <td>8.687788</td>\n",
       "      <td>-2.526892</td>\n",
       "      <td>0.283035</td>\n",
       "      <td>0.538570</td>\n",
       "      <td>2.956883</td>\n",
       "      <td>-2.141152</td>\n",
       "      <td>3.346174</td>\n",
       "      <td>-1.128757</td>\n",
       "      <td>-4.715069</td>\n",
       "      <td>4</td>\n",
       "    </tr>\n",
       "    <tr>\n",
       "      <th>3</th>\n",
       "      <td>48</td>\n",
       "      <td>0</td>\n",
       "      <td>-0.755626</td>\n",
       "      <td>-0.297077</td>\n",
       "      <td>-0.455058</td>\n",
       "      <td>0.765972</td>\n",
       "      <td>2.343522</td>\n",
       "      <td>-0.852713</td>\n",
       "      <td>-2.316440</td>\n",
       "      <td>0.301512</td>\n",
       "      <td>...</td>\n",
       "      <td>10.066734</td>\n",
       "      <td>-0.212951</td>\n",
       "      <td>-5.016873</td>\n",
       "      <td>-7.041268</td>\n",
       "      <td>-3.342125</td>\n",
       "      <td>-3.466734</td>\n",
       "      <td>6.218932</td>\n",
       "      <td>-4.034827</td>\n",
       "      <td>0.560658</td>\n",
       "      <td>2</td>\n",
       "    </tr>\n",
       "    <tr>\n",
       "      <th>4</th>\n",
       "      <td>72</td>\n",
       "      <td>1</td>\n",
       "      <td>-0.468806</td>\n",
       "      <td>-0.504196</td>\n",
       "      <td>0.956769</td>\n",
       "      <td>0.975864</td>\n",
       "      <td>1.447729</td>\n",
       "      <td>-0.863807</td>\n",
       "      <td>-0.346926</td>\n",
       "      <td>-0.227072</td>\n",
       "      <td>...</td>\n",
       "      <td>6.061535</td>\n",
       "      <td>-8.831261</td>\n",
       "      <td>-4.482883</td>\n",
       "      <td>-7.548974</td>\n",
       "      <td>-8.808425</td>\n",
       "      <td>-2.480037</td>\n",
       "      <td>-4.121178</td>\n",
       "      <td>-1.091505</td>\n",
       "      <td>-1.924720</td>\n",
       "      <td>1</td>\n",
       "    </tr>\n",
       "  </tbody>\n",
       "</table>\n",
       "<p>5 rows × 886 columns</p>\n",
       "</div>"
      ],
      "text/plain": [
       "   cp_time  cp_dose       g-0       g-1       g-2       g-3       g-4  \\\n",
       "0       24        0  1.111801  0.903367 -0.433829 -0.971728 -0.286559   \n",
       "1       72        0  0.105667  0.672509  0.257486  0.086759  1.199685   \n",
       "2       48        0  0.767036  0.942499  1.408911 -0.126492 -0.028694   \n",
       "3       48        0 -0.755626 -0.297077 -0.455058  0.765972  2.343522   \n",
       "4       72        1 -0.468806 -0.504196  0.956769  0.975864  1.447729   \n",
       "\n",
       "        g-5       g-6       g-7  ...     pca-g2     pca-g3    pca-g4  \\\n",
       "0 -1.011388 -1.357431 -0.041716  ...  -6.565323   7.922011 -7.719018   \n",
       "1  0.691813  0.353695  0.558374  ...  -0.264433 -12.554034  4.953071   \n",
       "2  1.490985  0.272541  0.359490  ...   8.687788  -2.526892  0.283035   \n",
       "3 -0.852713 -2.316440  0.301512  ...  10.066734  -0.212951 -5.016873   \n",
       "4 -0.863807 -0.346926 -0.227072  ...   6.061535  -8.831261 -4.482883   \n",
       "\n",
       "     pca-g5    pca-g6    pca-g7    pca-g8    pca-g9   pca-g10  fold  \n",
       "0  4.405187  1.806038  3.393864  1.992503  2.330853  0.229401     1  \n",
       "1  0.799825 -0.025325  1.039128 -0.897690  3.815383  3.735017     1  \n",
       "2  0.538570  2.956883 -2.141152  3.346174 -1.128757 -4.715069     4  \n",
       "3 -7.041268 -3.342125 -3.466734  6.218932 -4.034827  0.560658     2  \n",
       "4 -7.548974 -8.808425 -2.480037 -4.121178 -1.091505 -1.924720     1  \n",
       "\n",
       "[5 rows x 886 columns]"
      ]
     },
     "execution_count": 14,
     "metadata": {},
     "output_type": "execute_result"
    }
   ],
   "source": [
    "train.head()"
   ]
  },
  {
   "cell_type": "code",
   "execution_count": 15,
   "metadata": {
    "execution": {
     "iopub.execute_input": "2020-11-04T10:31:29.129714Z",
     "iopub.status.busy": "2020-11-04T10:31:29.128378Z",
     "iopub.status.idle": "2020-11-04T10:31:29.288051Z",
     "shell.execute_reply": "2020-11-04T10:31:29.287495Z"
    },
    "papermill": {
     "duration": 0.187158,
     "end_time": "2020-11-04T10:31:29.288171",
     "exception": false,
     "start_time": "2020-11-04T10:31:29.101013",
     "status": "completed"
    },
    "tags": []
   },
   "outputs": [],
   "source": [
    "fn_train = train.copy().to_numpy()\n",
    "fn_test = test.copy().to_numpy()\n",
    "    \n",
    "fn_targets = targets.drop(\"sig_id\", axis=1).copy().to_numpy()"
   ]
  },
  {
   "cell_type": "code",
   "execution_count": 16,
   "metadata": {
    "execution": {
     "iopub.execute_input": "2020-11-04T10:31:29.338141Z",
     "iopub.status.busy": "2020-11-04T10:31:29.337347Z",
     "iopub.status.idle": "2020-11-04T10:31:29.340527Z",
     "shell.execute_reply": "2020-11-04T10:31:29.341024Z"
    },
    "papermill": {
     "duration": 0.030748,
     "end_time": "2020-11-04T10:31:29.341143",
     "exception": false,
     "start_time": "2020-11-04T10:31:29.310395",
     "status": "completed"
    },
    "tags": []
   },
   "outputs": [
    {
     "data": {
      "text/plain": [
       "((21948, 886), (3982, 885), (21948, 206))"
      ]
     },
     "execution_count": 16,
     "metadata": {},
     "output_type": "execute_result"
    }
   ],
   "source": [
    "fn_train.shape, fn_test.shape, fn_targets.shape"
   ]
  },
  {
   "cell_type": "markdown",
   "metadata": {
    "papermill": {
     "duration": 0.022072,
     "end_time": "2020-11-04T10:31:29.385632",
     "exception": false,
     "start_time": "2020-11-04T10:31:29.363560",
     "status": "completed"
    },
    "tags": []
   },
   "source": [
    "# modelling"
   ]
  },
  {
   "cell_type": "code",
   "execution_count": 17,
   "metadata": {
    "execution": {
     "iopub.execute_input": "2020-11-04T10:31:29.439821Z",
     "iopub.status.busy": "2020-11-04T10:31:29.439061Z",
     "iopub.status.idle": "2020-11-04T10:31:29.442128Z",
     "shell.execute_reply": "2020-11-04T10:31:29.441600Z"
    },
    "papermill": {
     "duration": 0.031858,
     "end_time": "2020-11-04T10:31:29.442230",
     "exception": false,
     "start_time": "2020-11-04T10:31:29.410372",
     "status": "completed"
    },
    "tags": []
   },
   "outputs": [],
   "source": [
    "class LogitsLogLoss(Metric):\n",
    "    def __init__(self):\n",
    "        self._name = \"logits_ll\"\n",
    "        self._maximize = False\n",
    "\n",
    "    def __call__(self, y_true, y_pred):\n",
    "\n",
    "        logits = 1 / (1 + np.exp(-y_pred))\n",
    "        \n",
    "        aux = (1-y_true)*np.log(1-logits+1e-15) + y_true*np.log(logits+1e-15)\n",
    "        return np.mean(-aux)"
   ]
  },
  {
   "cell_type": "code",
   "execution_count": 18,
   "metadata": {
    "execution": {
     "iopub.execute_input": "2020-11-04T10:31:29.856878Z",
     "iopub.status.busy": "2020-11-04T10:31:29.500171Z",
     "iopub.status.idle": "2020-11-04T10:48:10.804925Z",
     "shell.execute_reply": "2020-11-04T10:48:10.805413Z"
    },
    "papermill": {
     "duration": 1001.340996,
     "end_time": "2020-11-04T10:48:10.805590",
     "exception": false,
     "start_time": "2020-11-04T10:31:29.464594",
     "status": "completed"
    },
    "tags": []
   },
   "outputs": [
    {
     "name": "stdout",
     "output_type": "stream",
     "text": [
      "FOLDS :  1\n",
      "Device used : cuda\n",
      "epoch 0  | loss: 0.24707 | val_logits_ll: 0.02817 |  0:00:01s\n",
      "epoch 10 | loss: 0.01782 | val_logits_ll: 0.0185  |  0:00:11s\n",
      "epoch 20 | loss: 0.01678 | val_logits_ll: 0.01834 |  0:00:22s\n",
      "epoch 30 | loss: 0.01631 | val_logits_ll: 0.01789 |  0:00:31s\n",
      "epoch 40 | loss: 0.01601 | val_logits_ll: 0.01806 |  0:00:41s\n",
      "epoch 50 | loss: 0.01571 | val_logits_ll: 0.01794 |  0:00:51s\n",
      "\n",
      "Early stopping occured at epoch 51 with best_epoch = 31 and best_val_logits_ll = 0.01773\n",
      "Best weights from best epoch are automatically used!\n",
      "FOLDS :  2\n",
      "Device used : cuda\n",
      "epoch 0  | loss: 0.24626 | val_logits_ll: 0.02772 |  0:00:00s\n",
      "epoch 10 | loss: 0.01784 | val_logits_ll: 0.02047 |  0:00:10s\n",
      "epoch 20 | loss: 0.01665 | val_logits_ll: 0.01832 |  0:00:20s\n",
      "epoch 30 | loss: 0.01613 | val_logits_ll: 0.01841 |  0:00:30s\n",
      "epoch 40 | loss: 0.0158  | val_logits_ll: 0.01812 |  0:00:40s\n",
      "epoch 50 | loss: 0.01551 | val_logits_ll: 0.01816 |  0:00:50s\n",
      "\n",
      "Early stopping occured at epoch 53 with best_epoch = 33 and best_val_logits_ll = 0.01805\n",
      "Best weights from best epoch are automatically used!\n",
      "FOLDS :  3\n",
      "Device used : cuda\n",
      "epoch 0  | loss: 0.24851 | val_logits_ll: 0.02715 |  0:00:00s\n",
      "epoch 10 | loss: 0.01807 | val_logits_ll: 0.01887 |  0:00:10s\n",
      "epoch 20 | loss: 0.01687 | val_logits_ll: 0.01772 |  0:00:20s\n",
      "epoch 30 | loss: 0.01641 | val_logits_ll: 0.01813 |  0:00:31s\n",
      "epoch 40 | loss: 0.01636 | val_logits_ll: 0.01755 |  0:00:41s\n",
      "epoch 50 | loss: 0.01581 | val_logits_ll: 0.01739 |  0:00:50s\n",
      "epoch 60 | loss: 0.01564 | val_logits_ll: 0.01749 |  0:01:01s\n",
      "\n",
      "Early stopping occured at epoch 62 with best_epoch = 42 and best_val_logits_ll = 0.01723\n",
      "Best weights from best epoch are automatically used!\n",
      "FOLDS :  4\n",
      "Device used : cuda\n",
      "epoch 0  | loss: 0.24631 | val_logits_ll: 0.02689 |  0:00:00s\n",
      "epoch 10 | loss: 0.01765 | val_logits_ll: 0.01929 |  0:00:10s\n",
      "epoch 20 | loss: 0.01662 | val_logits_ll: 0.01801 |  0:00:21s\n",
      "epoch 30 | loss: 0.01632 | val_logits_ll: 0.01771 |  0:00:31s\n",
      "epoch 40 | loss: 0.01605 | val_logits_ll: 0.01782 |  0:00:41s\n",
      "epoch 50 | loss: 0.01573 | val_logits_ll: 0.01784 |  0:00:52s\n",
      "epoch 60 | loss: 0.01562 | val_logits_ll: 0.01795 |  0:01:02s\n",
      "\n",
      "Early stopping occured at epoch 62 with best_epoch = 42 and best_val_logits_ll = 0.01767\n",
      "Best weights from best epoch are automatically used!\n",
      "FOLDS :  5\n",
      "Device used : cuda\n",
      "epoch 0  | loss: 0.24546 | val_logits_ll: 0.02691 |  0:00:00s\n",
      "epoch 10 | loss: 0.01775 | val_logits_ll: 0.01843 |  0:00:10s\n",
      "epoch 20 | loss: 0.01679 | val_logits_ll: 0.0182  |  0:00:21s\n",
      "epoch 30 | loss: 0.01631 | val_logits_ll: 0.01973 |  0:00:32s\n",
      "epoch 40 | loss: 0.01609 | val_logits_ll: 0.01808 |  0:00:42s\n",
      "epoch 50 | loss: 0.01596 | val_logits_ll: 0.01911 |  0:00:51s\n",
      "epoch 60 | loss: 0.01569 | val_logits_ll: 0.01783 |  0:01:02s\n",
      "epoch 70 | loss: 0.01548 | val_logits_ll: 0.01768 |  0:01:11s\n",
      "epoch 80 | loss: 0.01522 | val_logits_ll: 0.01788 |  0:01:22s\n",
      "epoch 90 | loss: 0.01505 | val_logits_ll: 0.01811 |  0:01:33s\n",
      "\n",
      "Early stopping occured at epoch 92 with best_epoch = 72 and best_val_logits_ll = 0.01755\n",
      "Best weights from best epoch are automatically used!\n",
      "OOF log loss: 0.01764888649939463\n",
      "Overall AUC : 0.6399037542742041\n",
      "FOLDS :  1\n",
      "Device used : cuda\n",
      "epoch 0  | loss: 0.23794 | val_logits_ll: 0.02794 |  0:00:00s\n",
      "epoch 10 | loss: 0.01789 | val_logits_ll: 0.01859 |  0:00:10s\n",
      "epoch 20 | loss: 0.01661 | val_logits_ll: 0.01968 |  0:00:20s\n",
      "epoch 30 | loss: 0.01616 | val_logits_ll: 0.01785 |  0:00:31s\n",
      "epoch 40 | loss: 0.01577 | val_logits_ll: 0.01791 |  0:00:41s\n",
      "epoch 50 | loss: 0.01559 | val_logits_ll: 0.01798 |  0:00:52s\n",
      "epoch 60 | loss: 0.01514 | val_logits_ll: 0.01808 |  0:01:02s\n",
      "\n",
      "Early stopping occured at epoch 64 with best_epoch = 44 and best_val_logits_ll = 0.01775\n",
      "Best weights from best epoch are automatically used!\n",
      "FOLDS :  2\n",
      "Device used : cuda\n",
      "epoch 0  | loss: 0.23764 | val_logits_ll: 0.02642 |  0:00:01s\n",
      "epoch 10 | loss: 0.0174  | val_logits_ll: 0.0192  |  0:00:10s\n",
      "epoch 20 | loss: 0.01657 | val_logits_ll: 0.01865 |  0:00:20s\n",
      "epoch 30 | loss: 0.01598 | val_logits_ll: 0.01838 |  0:00:31s\n",
      "epoch 40 | loss: 0.01607 | val_logits_ll: 0.01838 |  0:00:41s\n",
      "epoch 50 | loss: 0.01552 | val_logits_ll: 0.01826 |  0:00:51s\n",
      "epoch 60 | loss: 0.01519 | val_logits_ll: 0.01844 |  0:01:02s\n",
      "epoch 70 | loss: 0.01474 | val_logits_ll: 0.01841 |  0:01:11s\n",
      "\n",
      "Early stopping occured at epoch 74 with best_epoch = 54 and best_val_logits_ll = 0.01806\n",
      "Best weights from best epoch are automatically used!\n",
      "FOLDS :  3\n",
      "Device used : cuda\n",
      "epoch 0  | loss: 0.23981 | val_logits_ll: 0.0266  |  0:00:00s\n",
      "epoch 10 | loss: 0.01824 | val_logits_ll: 0.01841 |  0:00:11s\n",
      "epoch 20 | loss: 0.0169  | val_logits_ll: 0.01744 |  0:00:22s\n",
      "epoch 30 | loss: 0.01648 | val_logits_ll: 0.01747 |  0:00:32s\n",
      "epoch 40 | loss: 0.01585 | val_logits_ll: 0.01736 |  0:00:42s\n",
      "epoch 50 | loss: 0.01567 | val_logits_ll: 0.0174  |  0:00:52s\n",
      "epoch 60 | loss: 0.01535 | val_logits_ll: 0.01747 |  0:01:02s\n",
      "\n",
      "Early stopping occured at epoch 62 with best_epoch = 42 and best_val_logits_ll = 0.01717\n",
      "Best weights from best epoch are automatically used!\n",
      "FOLDS :  4\n",
      "Device used : cuda\n",
      "epoch 0  | loss: 0.24068 | val_logits_ll: 0.02629 |  0:00:01s\n",
      "epoch 10 | loss: 0.01782 | val_logits_ll: 0.02065 |  0:00:11s\n",
      "epoch 20 | loss: 0.01648 | val_logits_ll: 0.0179  |  0:00:22s\n",
      "epoch 30 | loss: 0.01604 | val_logits_ll: 0.01833 |  0:00:32s\n",
      "epoch 40 | loss: 0.01573 | val_logits_ll: 0.01784 |  0:00:42s\n",
      "epoch 50 | loss: 0.01545 | val_logits_ll: 0.018   |  0:00:52s\n",
      "\n",
      "Early stopping occured at epoch 53 with best_epoch = 33 and best_val_logits_ll = 0.01763\n",
      "Best weights from best epoch are automatically used!\n",
      "FOLDS :  5\n",
      "Device used : cuda\n",
      "epoch 0  | loss: 0.24112 | val_logits_ll: 0.02672 |  0:00:01s\n",
      "epoch 10 | loss: 0.01773 | val_logits_ll: 0.01849 |  0:00:11s\n",
      "epoch 20 | loss: 0.01663 | val_logits_ll: 0.01929 |  0:00:21s\n",
      "epoch 30 | loss: 0.01624 | val_logits_ll: 0.01821 |  0:00:32s\n",
      "epoch 40 | loss: 0.01615 | val_logits_ll: 0.01812 |  0:00:42s\n",
      "epoch 50 | loss: 0.01581 | val_logits_ll: 0.01777 |  0:00:52s\n",
      "epoch 60 | loss: 0.01575 | val_logits_ll: 0.01782 |  0:01:02s\n",
      "epoch 70 | loss: 0.01533 | val_logits_ll: 0.01783 |  0:01:13s\n",
      "\n",
      "Early stopping occured at epoch 76 with best_epoch = 56 and best_val_logits_ll = 0.01759\n",
      "Best weights from best epoch are automatically used!\n",
      "OOF log loss: 0.017640039453982775\n",
      "Overall AUC : 0.6389869385042123\n",
      "FOLDS :  1\n",
      "Device used : cuda\n",
      "epoch 0  | loss: 0.26353 | val_logits_ll: 0.0283  |  0:00:00s\n",
      "epoch 10 | loss: 0.01784 | val_logits_ll: 0.01859 |  0:00:11s\n",
      "epoch 20 | loss: 0.01669 | val_logits_ll: 0.01803 |  0:00:21s\n",
      "epoch 30 | loss: 0.01625 | val_logits_ll: 0.01785 |  0:00:31s\n",
      "epoch 40 | loss: 0.01589 | val_logits_ll: 0.01798 |  0:00:42s\n",
      "epoch 50 | loss: 0.01573 | val_logits_ll: 0.01786 |  0:00:53s\n",
      "\n",
      "Early stopping occured at epoch 53 with best_epoch = 33 and best_val_logits_ll = 0.01772\n",
      "Best weights from best epoch are automatically used!\n",
      "FOLDS :  2\n",
      "Device used : cuda\n",
      "epoch 0  | loss: 0.26632 | val_logits_ll: 0.02918 |  0:00:00s\n",
      "epoch 10 | loss: 0.01758 | val_logits_ll: 0.01908 |  0:00:10s\n",
      "epoch 20 | loss: 0.01672 | val_logits_ll: 0.01861 |  0:00:21s\n",
      "epoch 30 | loss: 0.01621 | val_logits_ll: 0.01842 |  0:00:31s\n",
      "epoch 40 | loss: 0.01588 | val_logits_ll: 0.01856 |  0:00:41s\n",
      "\n",
      "Early stopping occured at epoch 49 with best_epoch = 29 and best_val_logits_ll = 0.01825\n",
      "Best weights from best epoch are automatically used!\n",
      "FOLDS :  3\n",
      "Device used : cuda\n",
      "epoch 0  | loss: 0.26226 | val_logits_ll: 0.02889 |  0:00:01s\n",
      "epoch 10 | loss: 0.0181  | val_logits_ll: 0.01809 |  0:00:11s\n",
      "epoch 20 | loss: 0.01715 | val_logits_ll: 0.01855 |  0:00:21s\n",
      "epoch 30 | loss: 0.01672 | val_logits_ll: 0.0179  |  0:00:31s\n",
      "epoch 40 | loss: 0.01633 | val_logits_ll: 0.01741 |  0:00:41s\n",
      "epoch 50 | loss: 0.01581 | val_logits_ll: 0.01735 |  0:00:51s\n",
      "epoch 60 | loss: 0.01557 | val_logits_ll: 0.01756 |  0:01:03s\n",
      "epoch 70 | loss: 0.01529 | val_logits_ll: 0.01746 |  0:01:13s\n",
      "\n",
      "Early stopping occured at epoch 77 with best_epoch = 57 and best_val_logits_ll = 0.01733\n",
      "Best weights from best epoch are automatically used!\n",
      "FOLDS :  4\n",
      "Device used : cuda\n",
      "epoch 0  | loss: 0.26701 | val_logits_ll: 0.02779 |  0:00:00s\n",
      "epoch 10 | loss: 0.01787 | val_logits_ll: 0.0188  |  0:00:10s\n",
      "epoch 20 | loss: 0.01666 | val_logits_ll: 0.01854 |  0:00:21s\n",
      "epoch 30 | loss: 0.01621 | val_logits_ll: 0.01969 |  0:00:31s\n",
      "epoch 40 | loss: 0.01583 | val_logits_ll: 0.01792 |  0:00:42s\n",
      "epoch 50 | loss: 0.01528 | val_logits_ll: 0.01793 |  0:00:52s\n",
      "\n",
      "Early stopping occured at epoch 55 with best_epoch = 35 and best_val_logits_ll = 0.01769\n",
      "Best weights from best epoch are automatically used!\n",
      "FOLDS :  5\n",
      "Device used : cuda\n",
      "epoch 0  | loss: 0.26245 | val_logits_ll: 0.02755 |  0:00:00s\n",
      "epoch 10 | loss: 0.01792 | val_logits_ll: 0.01961 |  0:00:10s\n",
      "epoch 20 | loss: 0.01689 | val_logits_ll: 0.01842 |  0:00:20s\n",
      "epoch 30 | loss: 0.01637 | val_logits_ll: 0.01811 |  0:00:31s\n",
      "epoch 40 | loss: 0.0163  | val_logits_ll: 0.01776 |  0:00:41s\n",
      "epoch 50 | loss: 0.01577 | val_logits_ll: 0.01788 |  0:00:52s\n",
      "\n",
      "Early stopping occured at epoch 55 with best_epoch = 35 and best_val_logits_ll = 0.01767\n",
      "Best weights from best epoch are automatically used!\n",
      "OOF log loss: 0.017731196560717616\n",
      "Overall AUC : 0.6362310141351367\n"
     ]
    }
   ],
   "source": [
    "MAX_EPOCH=200\n",
    "device = \"cuda\" if torch.cuda.is_available() else \"cpu\"\n",
    "\n",
    "def seed_everything(seed_value):\n",
    "    random.seed(seed_value)\n",
    "    np.random.seed(seed_value)\n",
    "    torch.manual_seed(seed_value)\n",
    "    os.environ['PYTHONHASHSEED'] = str(seed_value)\n",
    "    \n",
    "    if torch.cuda.is_available(): \n",
    "        torch.cuda.manual_seed(seed_value)\n",
    "        torch.cuda.manual_seed_all(seed_value)\n",
    "        torch.backends.cudnn.deterministic = True\n",
    "        torch.backends.cudnn.benchmark = False\n",
    "\n",
    "def modelling_tabnet(tr, target, te, sample_seed):\n",
    "    seed_everything(sample_seed) \n",
    "    tabnet_params = dict(n_d=24, n_a=24, n_steps=1, gamma=1.5, seed = sample_seed,\n",
    "                     lambda_sparse=0, n_independent=1, n_shared=1, \n",
    "                     optimizer_fn=torch.optim.Adam,\n",
    "                     optimizer_params=dict(lr=2e-2, weight_decay=1e-5),\n",
    "                     mask_type='entmax',\n",
    "                     scheduler_params=dict(mode=\"min\",\n",
    "                                           patience=5,\n",
    "                                           min_lr=1e-5,\n",
    "                                           factor=0.9,),\n",
    "                     scheduler_fn=torch.optim.lr_scheduler.ReduceLROnPlateau,\n",
    "                     verbose=10,\n",
    "                     )\n",
    "    test_cv_preds = []\n",
    "\n",
    "    oof_preds = np.zeros([len(tr),target.shape[1]])\n",
    "    scores = []\n",
    "    for fold_nb in range(NB_SPLITS):\n",
    "        print(\"FOLDS : \", fold_nb+1)\n",
    "        \n",
    "        ## model\n",
    "        val_idx = tr[:,-1] == fold_nb\n",
    "        train_idx = tr[:,-1] != fold_nb\n",
    "        X_train, y_train = tr[train_idx, :], target[train_idx, :]\n",
    "        X_val, y_val = tr[val_idx, :], target[val_idx, :]\n",
    "        X_train = np.delete(X_train, -1, 1)\n",
    "        X_val = np.delete(X_val, -1, 1)\n",
    "        model = TabNetRegressor(**tabnet_params)\n",
    "    \n",
    "        model.fit(X_train=X_train,\n",
    "              y_train=y_train,\n",
    "              eval_set=[(X_val, y_val)],\n",
    "              eval_name = [\"val\"],\n",
    "              eval_metric = [\"logits_ll\"],\n",
    "              max_epochs=MAX_EPOCH,\n",
    "              patience=20, batch_size=512, virtual_batch_size=128,\n",
    "              num_workers=1, drop_last=False,\n",
    "              # use binary cross entropy as this is not a regression problem\n",
    "              loss_fn=torch.nn.functional.binary_cross_entropy_with_logits) \n",
    "    \n",
    "        preds_val = model.predict(X_val)\n",
    "        # Apply sigmoid to the predictions\n",
    "        preds =  1 / (1 + np.exp(-preds_val))\n",
    "        score = np.min(model.history[\"val_logits_ll\"])\n",
    "        oof_preds[val_idx,:] = preds\n",
    "        scores.append(score)\n",
    "\n",
    "        # preds on test\n",
    "        preds_test = model.predict(te)\n",
    "        test_cv_preds.append(1 / (1 + np.exp(-preds_test)))\n",
    "        \n",
    "    test_preds_all = np.stack(test_cv_preds)\n",
    "    print(\"OOF log loss:\", log_loss(np.ravel(target), np.ravel(np.array(oof_preds))))\n",
    "    aucs = []\n",
    "    for task_id in range(206):\n",
    "        aucs.append(roc_auc_score(y_true=target[:, task_id],y_score=oof_preds[:, task_id]))\n",
    "    print(f\"Overall AUC : {np.mean(aucs)}\")\n",
    "    return oof_preds, test_preds_all\n",
    "\n",
    "target_oof = np.zeros([len(fn_train),fn_targets.shape[1]])\n",
    "target_pred = np.zeros([len(fn_test),fn_targets.shape[1]])\n",
    "\n",
    "seeds = [0,100,2]\n",
    "for seed_ in seeds:\n",
    "    oof_preds, test_preds_all = modelling_tabnet(fn_train, fn_targets, fn_test, seed_)\n",
    "    target_oof += oof_preds / len(seeds)\n",
    "    target_pred += test_preds_all.mean(axis=0) / len(seeds)"
   ]
  },
  {
   "cell_type": "code",
   "execution_count": 19,
   "metadata": {
    "execution": {
     "iopub.execute_input": "2020-11-04T10:48:10.966307Z",
     "iopub.status.busy": "2020-11-04T10:48:10.965402Z",
     "iopub.status.idle": "2020-11-04T10:48:12.180696Z",
     "shell.execute_reply": "2020-11-04T10:48:12.180145Z"
    },
    "papermill": {
     "duration": 1.296345,
     "end_time": "2020-11-04T10:48:12.180802",
     "exception": false,
     "start_time": "2020-11-04T10:48:10.884457",
     "status": "completed"
    },
    "tags": []
   },
   "outputs": [
    {
     "name": "stdout",
     "output_type": "stream",
     "text": [
      "Overall AUC : 0.642272231181542\n"
     ]
    }
   ],
   "source": [
    "aucs = []\n",
    "for task_id in range(targets.shape[1]-1):\n",
    "    aucs.append(roc_auc_score(y_true=targets.iloc[:, task_id+1].values,\n",
    "                              y_score=target_oof[:, task_id]))\n",
    "print(f\"Overall AUC : {np.mean(aucs)}\")"
   ]
  },
  {
   "cell_type": "code",
   "execution_count": 20,
   "metadata": {
    "execution": {
     "iopub.execute_input": "2020-11-04T10:48:12.330293Z",
     "iopub.status.busy": "2020-11-04T10:48:12.329478Z",
     "iopub.status.idle": "2020-11-04T10:48:19.497495Z",
     "shell.execute_reply": "2020-11-04T10:48:19.496530Z"
    },
    "papermill": {
     "duration": 7.247231,
     "end_time": "2020-11-04T10:48:19.497607",
     "exception": false,
     "start_time": "2020-11-04T10:48:12.250376",
     "status": "completed"
    },
    "tags": []
   },
   "outputs": [
    {
     "name": "stdout",
     "output_type": "stream",
     "text": [
      "OOF log loss:  0.015811014334121604\n",
      "OOF log loss:  0.01596503046058912\n"
     ]
    }
   ],
   "source": [
    "p_min = 0.001\n",
    "p_max = 1 - p_min\n",
    "\n",
    "t = pd.read_csv(DATA_DIR + 'train_targets_scored.csv')\n",
    "train_checkscore = t.copy()\n",
    "train_checkscore.loc[train_checkscore.index.isin(cons_train_index),target_feats] = target_oof\n",
    "train_checkscore.loc[train_checkscore.index.isin(noncons_train_index),target_feats] = 0\n",
    "\n",
    "t.drop(\"sig_id\", axis=1, inplace=True)\n",
    "print('OOF log loss: ', log_loss(np.ravel(t), np.ravel(np.array(train_checkscore.iloc[:,1:]))))\n",
    "print('OOF log loss: ', log_loss(np.ravel(t), np.ravel(np.clip(np.array(train_checkscore.iloc[:,1:]),p_min, p_max))))"
   ]
  },
  {
   "cell_type": "code",
   "execution_count": 21,
   "metadata": {
    "execution": {
     "iopub.execute_input": "2020-11-04T10:48:19.642492Z",
     "iopub.status.busy": "2020-11-04T10:48:19.641633Z",
     "iopub.status.idle": "2020-11-04T10:48:21.704855Z",
     "shell.execute_reply": "2020-11-04T10:48:21.703421Z"
    },
    "papermill": {
     "duration": 2.137583,
     "end_time": "2020-11-04T10:48:21.704980",
     "exception": false,
     "start_time": "2020-11-04T10:48:19.567397",
     "status": "completed"
    },
    "tags": []
   },
   "outputs": [],
   "source": [
    "sub[target_feats] = np.clip(target_pred, p_min, p_max)\n",
    "sub.loc[noncons_test_index,target_feats] = 0\n",
    "sub.to_csv('submission.csv', index=False)"
   ]
  },
  {
   "cell_type": "code",
   "execution_count": null,
   "metadata": {
    "papermill": {
     "duration": 0.06969,
     "end_time": "2020-11-04T10:48:21.845442",
     "exception": false,
     "start_time": "2020-11-04T10:48:21.775752",
     "status": "completed"
    },
    "tags": []
   },
   "outputs": [],
   "source": []
  }
 ],
 "metadata": {
  "kernelspec": {
   "display_name": "Python 3",
   "language": "python",
   "name": "python3"
  },
  "language_info": {
   "codemirror_mode": {
    "name": "ipython",
    "version": 3
   },
   "file_extension": ".py",
   "mimetype": "text/x-python",
   "name": "python",
   "nbconvert_exporter": "python",
   "pygments_lexer": "ipython3",
   "version": "3.7.6"
  },
  "papermill": {
   "duration": 1052.977944,
   "end_time": "2020-11-04T10:48:22.433977",
   "environment_variables": {},
   "exception": null,
   "input_path": "__notebook__.ipynb",
   "output_path": "__notebook__.ipynb",
   "parameters": {},
   "start_time": "2020-11-04T10:30:49.456033",
   "version": "2.1.0"
  }
 },
 "nbformat": 4,
 "nbformat_minor": 4
}
