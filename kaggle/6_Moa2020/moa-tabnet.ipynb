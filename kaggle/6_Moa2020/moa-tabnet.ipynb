{
 "cells": [
  {
   "cell_type": "markdown",
   "metadata": {
    "papermill": {
     "duration": 0.015308,
     "end_time": "2020-10-27T02:43:47.633825",
     "exception": false,
     "start_time": "2020-10-27T02:43:47.618517",
     "status": "completed"
    },
    "tags": []
   },
   "source": [
    "- drop more features\n",
    "- go back to robust scaler\n",
    "- reduce ensemble to 2\n",
    "- try 7 folds"
   ]
  },
  {
   "cell_type": "code",
   "execution_count": 1,
   "metadata": {
    "execution": {
     "iopub.execute_input": "2020-10-27T02:43:47.669452Z",
     "iopub.status.busy": "2020-10-27T02:43:47.668564Z",
     "iopub.status.idle": "2020-10-27T02:43:56.802851Z",
     "shell.execute_reply": "2020-10-27T02:43:56.802212Z"
    },
    "papermill": {
     "duration": 9.154714,
     "end_time": "2020-10-27T02:43:56.802977",
     "exception": false,
     "start_time": "2020-10-27T02:43:47.648263",
     "status": "completed"
    },
    "tags": []
   },
   "outputs": [
    {
     "name": "stdout",
     "output_type": "stream",
     "text": [
      "Looking in links: /kaggle/input/pytorchtabnet/pytorch_tabnet-2.0.0-py3-none-any.whl\r\n",
      "Processing /kaggle/input/pytorchtabnet/pytorch_tabnet-2.0.0-py3-none-any.whl\r\n",
      "Requirement already satisfied: scikit_learn>0.21 in /opt/conda/lib/python3.7/site-packages (from pytorch-tabnet) (0.23.2)\r\n",
      "Requirement already satisfied: numpy<2.0,>=1.17 in /opt/conda/lib/python3.7/site-packages (from pytorch-tabnet) (1.18.5)\r\n",
      "Requirement already satisfied: scipy>1.4 in /opt/conda/lib/python3.7/site-packages (from pytorch-tabnet) (1.4.1)\r\n",
      "Requirement already satisfied: torch<2.0,>=1.2 in /opt/conda/lib/python3.7/site-packages (from pytorch-tabnet) (1.6.0)\r\n",
      "Requirement already satisfied: tqdm<5.0,>=4.36 in /opt/conda/lib/python3.7/site-packages (from pytorch-tabnet) (4.45.0)\r\n",
      "Requirement already satisfied: threadpoolctl>=2.0.0 in /opt/conda/lib/python3.7/site-packages (from scikit_learn>0.21->pytorch-tabnet) (2.1.0)\r\n",
      "Requirement already satisfied: joblib>=0.11 in /opt/conda/lib/python3.7/site-packages (from scikit_learn>0.21->pytorch-tabnet) (0.14.1)\r\n",
      "Requirement already satisfied: future in /opt/conda/lib/python3.7/site-packages (from torch<2.0,>=1.2->pytorch-tabnet) (0.18.2)\r\n",
      "Installing collected packages: pytorch-tabnet\r\n",
      "Successfully installed pytorch-tabnet-2.0.0\r\n"
     ]
    }
   ],
   "source": [
    "!pip install --no-index --find-links /kaggle/input/pytorchtabnet/pytorch_tabnet-2.0.0-py3-none-any.whl pytorch-tabnet"
   ]
  },
  {
   "cell_type": "code",
   "execution_count": 2,
   "metadata": {
    "_cell_guid": "b1076dfc-b9ad-4769-8c92-a6c4dae69d19",
    "_uuid": "8f2839f25d086af736a60e9eeb907d3b93b6e0e5",
    "execution": {
     "iopub.execute_input": "2020-10-27T02:43:56.850959Z",
     "iopub.status.busy": "2020-10-27T02:43:56.849980Z",
     "iopub.status.idle": "2020-10-27T02:44:04.465902Z",
     "shell.execute_reply": "2020-10-27T02:44:04.465288Z"
    },
    "papermill": {
     "duration": 7.644716,
     "end_time": "2020-10-27T02:44:04.466029",
     "exception": false,
     "start_time": "2020-10-27T02:43:56.821313",
     "status": "completed"
    },
    "tags": []
   },
   "outputs": [],
   "source": [
    "import os\n",
    "import sys\n",
    "import random\n",
    "import warnings\n",
    "import numpy as np\n",
    "import pandas as pd \n",
    "from sklearn import preprocessing\n",
    "from sklearn.metrics import log_loss,roc_auc_score\n",
    "from sklearn.decomposition import PCA\n",
    "from tqdm import tqdm_notebook as tqdm\n",
    "from sklearn.cluster import KMeans\n",
    "from sklearn.multioutput import MultiOutputClassifier\n",
    "from sklearn.feature_selection import VarianceThreshold\n",
    "\n",
    "from pytorch_tabnet.metrics import Metric\n",
    "from pytorch_tabnet.tab_model import TabNetRegressor\n",
    "\n",
    "sys.path.append('../input/multilabelstraifier/')\n",
    "from ml_stratifiers import MultilabelStratifiedKFold\n",
    "warnings.filterwarnings('ignore')\n",
    "\n",
    "import time\n",
    "import torch\n",
    "import torch.nn as nn\n",
    "import torch.optim as optim\n",
    "import torch.nn.functional as F\n",
    "import tensorflow as tf"
   ]
  },
  {
   "cell_type": "code",
   "execution_count": 3,
   "metadata": {
    "execution": {
     "iopub.execute_input": "2020-10-27T02:44:04.509218Z",
     "iopub.status.busy": "2020-10-27T02:44:04.508567Z",
     "iopub.status.idle": "2020-10-27T02:44:12.310714Z",
     "shell.execute_reply": "2020-10-27T02:44:12.309477Z"
    },
    "papermill": {
     "duration": 7.827059,
     "end_time": "2020-10-27T02:44:12.310845",
     "exception": false,
     "start_time": "2020-10-27T02:44:04.483786",
     "status": "completed"
    },
    "tags": []
   },
   "outputs": [],
   "source": [
    "DATA_DIR = '/kaggle/input/lish-moa/'\n",
    "train = pd.read_csv(DATA_DIR + 'train_features.csv')\n",
    "targets = pd.read_csv(DATA_DIR + 'train_targets_scored.csv')\n",
    "non_targets = pd.read_csv(DATA_DIR + 'train_targets_nonscored.csv')\n",
    "test = pd.read_csv(DATA_DIR + 'test_features.csv')\n",
    "sub = pd.read_csv(DATA_DIR + 'sample_submission.csv')"
   ]
  },
  {
   "cell_type": "code",
   "execution_count": 4,
   "metadata": {
    "execution": {
     "iopub.execute_input": "2020-10-27T02:44:12.374951Z",
     "iopub.status.busy": "2020-10-27T02:44:12.373878Z",
     "iopub.status.idle": "2020-10-27T02:44:12.496947Z",
     "shell.execute_reply": "2020-10-27T02:44:12.498305Z"
    },
    "papermill": {
     "duration": 0.170096,
     "end_time": "2020-10-27T02:44:12.498539",
     "exception": false,
     "start_time": "2020-10-27T02:44:12.328443",
     "status": "completed"
    },
    "tags": []
   },
   "outputs": [],
   "source": [
    "target_feats = [ i for i in targets.columns if i != \"sig_id\"]\n",
    "g_feats = [i for i in train.columns if \"g-\" in i]\n",
    "c_feats = [i for i in train.columns if \"c-\" in i]\n",
    "\n",
    "noncons_train_index = train[train.cp_type==\"ctl_vehicle\"].index\n",
    "cons_train_index = train[~train.index.isin(noncons_train_index)].index\n",
    "noncons_test_index = test[test.cp_type==\"ctl_vehicle\"].index\n",
    "cons_test_index = test[test.cp_type!=\"ctl_vehicle\"].index"
   ]
  },
  {
   "cell_type": "markdown",
   "metadata": {
    "papermill": {
     "duration": 0.023319,
     "end_time": "2020-10-27T02:44:12.545479",
     "exception": false,
     "start_time": "2020-10-27T02:44:12.522160",
     "status": "completed"
    },
    "tags": []
   },
   "source": [
    "# preprocess"
   ]
  },
  {
   "cell_type": "code",
   "execution_count": 5,
   "metadata": {
    "execution": {
     "iopub.execute_input": "2020-10-27T02:44:12.595902Z",
     "iopub.status.busy": "2020-10-27T02:44:12.594843Z",
     "iopub.status.idle": "2020-10-27T02:44:12.823020Z",
     "shell.execute_reply": "2020-10-27T02:44:12.822451Z"
    },
    "papermill": {
     "duration": 0.259307,
     "end_time": "2020-10-27T02:44:12.823138",
     "exception": false,
     "start_time": "2020-10-27T02:44:12.563831",
     "status": "completed"
    },
    "tags": []
   },
   "outputs": [],
   "source": [
    "train = train[train.index.isin(cons_train_index)].copy().reset_index(drop=True)\n",
    "targets = targets[targets.index.isin(cons_train_index)].copy().reset_index(drop=True)"
   ]
  },
  {
   "cell_type": "markdown",
   "metadata": {
    "papermill": {
     "duration": 0.01778,
     "end_time": "2020-10-27T02:44:12.858990",
     "exception": false,
     "start_time": "2020-10-27T02:44:12.841210",
     "status": "completed"
    },
    "tags": []
   },
   "source": [
    "# feature engineering"
   ]
  },
  {
   "cell_type": "code",
   "execution_count": 6,
   "metadata": {
    "execution": {
     "iopub.execute_input": "2020-10-27T02:44:12.949540Z",
     "iopub.status.busy": "2020-10-27T02:44:12.948014Z",
     "iopub.status.idle": "2020-10-27T02:44:13.279684Z",
     "shell.execute_reply": "2020-10-27T02:44:13.280276Z"
    },
    "papermill": {
     "duration": 0.403219,
     "end_time": "2020-10-27T02:44:13.280429",
     "exception": false,
     "start_time": "2020-10-27T02:44:12.877210",
     "status": "completed"
    },
    "tags": []
   },
   "outputs": [
    {
     "data": {
      "text/plain": [
       "65"
      ]
     },
     "execution_count": 6,
     "metadata": {},
     "output_type": "execute_result"
    }
   ],
   "source": [
    "X = train.iloc[:,4:].copy().values\n",
    "select = VarianceThreshold(threshold=0.8)\n",
    "X_new = select.fit_transform(X)\n",
    "drop_feats = list(np.array(train.iloc[:,4:].columns)[select.get_support()==False])\n",
    "len(drop_feats)"
   ]
  },
  {
   "cell_type": "code",
   "execution_count": 7,
   "metadata": {
    "execution": {
     "iopub.execute_input": "2020-10-27T02:44:13.374834Z",
     "iopub.status.busy": "2020-10-27T02:44:13.365303Z",
     "iopub.status.idle": "2020-10-27T02:44:13.377872Z",
     "shell.execute_reply": "2020-10-27T02:44:13.377326Z"
    },
    "papermill": {
     "duration": 0.079065,
     "end_time": "2020-10-27T02:44:13.377988",
     "exception": false,
     "start_time": "2020-10-27T02:44:13.298923",
     "status": "completed"
    },
    "tags": []
   },
   "outputs": [],
   "source": [
    "train.drop(drop_feats, axis=1, inplace=True)\n",
    "test.drop(drop_feats, axis=1, inplace=True)"
   ]
  },
  {
   "cell_type": "code",
   "execution_count": 8,
   "metadata": {
    "execution": {
     "iopub.execute_input": "2020-10-27T02:44:13.419102Z",
     "iopub.status.busy": "2020-10-27T02:44:13.418463Z",
     "iopub.status.idle": "2020-10-27T02:44:13.422336Z",
     "shell.execute_reply": "2020-10-27T02:44:13.423188Z"
    },
    "papermill": {
     "duration": 0.026765,
     "end_time": "2020-10-27T02:44:13.423322",
     "exception": false,
     "start_time": "2020-10-27T02:44:13.396557",
     "status": "completed"
    },
    "tags": []
   },
   "outputs": [],
   "source": [
    "#n_clusters_g = 15\n",
    "#n_clusters_c = 5\n",
    "#def create_cluster(train, test, kind, n_clusters):\n",
    "#    if kind == \"g\":\n",
    "#        train_ = train[g_feats].copy()\n",
    "#        test_ = test[g_feats].copy()\n",
    "#    else:\n",
    "#        train_ = train[c_feats].copy()\n",
    "#        test_ = test[c_feats].copy()    \n",
    "#    kmeans = KMeans(n_clusters = n_clusters, random_state = 0).fit(train_)\n",
    "#    train[f'clusters_{kind}'] = kmeans.labels_\n",
    "#    test[f'clusters_{kind}'] = kmeans.predict(test_)\n",
    "#    train = pd.get_dummies(train, columns = [f'clusters_{kind}'])\n",
    "#    test = pd.get_dummies(test, columns = [f'clusters_{kind}'])\n",
    "#    return train, test\n",
    "    \n",
    "#train, test = create_cluster(train, test, kind = 'g', n_clusters = n_clusters_g)\n",
    "#train, test = create_cluster(train, test, kind = 'c', n_clusters = n_clusters_c)"
   ]
  },
  {
   "cell_type": "code",
   "execution_count": 9,
   "metadata": {
    "execution": {
     "iopub.execute_input": "2020-10-27T02:44:13.466240Z",
     "iopub.status.busy": "2020-10-27T02:44:13.465578Z",
     "iopub.status.idle": "2020-10-27T02:44:13.469855Z",
     "shell.execute_reply": "2020-10-27T02:44:13.469173Z"
    },
    "papermill": {
     "duration": 0.027906,
     "end_time": "2020-10-27T02:44:13.469998",
     "exception": false,
     "start_time": "2020-10-27T02:44:13.442092",
     "status": "completed"
    },
    "tags": []
   },
   "outputs": [],
   "source": [
    "#num = 10\n",
    "#pca_c_cols = [\"pca-c\"+str(i+1) for i in range(num)]\n",
    "#pca = PCA(n_components=num,random_state=42)\n",
    "#c_train = pca.fit_transform(train[c_feats])\n",
    "#c_test = pca.transform(test[c_feats])\n",
    "#c_train = pd.DataFrame(c_train, columns=pca_c_cols)\n",
    "#c_test = pd.DataFrame(c_test, columns=pca_c_cols)\n",
    "\n",
    "#num = 60\n",
    "#pca_g_cols = [\"pca-g\"+str(i+1) for i in range(num)]\n",
    "#pca = PCA(n_components=num, random_state=42)\n",
    "#g_train = pca.fit_transform(train[g_feats])\n",
    "#g_test = pca.transform(test[g_feats])\n",
    "#g_train = pd.DataFrame(g_train, columns=pca_g_cols)\n",
    "#g_test = pd.DataFrame(g_test, columns=pca_g_cols)\n",
    "\n",
    "#train = pd.concat([train, c_train],axis=1)\n",
    "#test = pd.concat([test, c_test],axis=1)\n",
    "#train = pd.concat([train, g_train],axis=1)\n",
    "#test = pd.concat([test, g_test],axis=1)"
   ]
  },
  {
   "cell_type": "code",
   "execution_count": 10,
   "metadata": {
    "execution": {
     "iopub.execute_input": "2020-10-27T02:44:13.517010Z",
     "iopub.status.busy": "2020-10-27T02:44:13.515698Z",
     "iopub.status.idle": "2020-10-27T02:44:13.643361Z",
     "shell.execute_reply": "2020-10-27T02:44:13.643959Z"
    },
    "papermill": {
     "duration": 0.154949,
     "end_time": "2020-10-27T02:44:13.644119",
     "exception": false,
     "start_time": "2020-10-27T02:44:13.489170",
     "status": "completed"
    },
    "tags": []
   },
   "outputs": [
    {
     "name": "stdout",
     "output_type": "stream",
     "text": [
      "(21948, 809) (3982, 809)\n"
     ]
    }
   ],
   "source": [
    "def fe(df):\n",
    "    tmp = df.copy()\n",
    "    tmp.loc[:, 'cp_dose'] = tmp.loc[:, 'cp_dose'].map({'D1': 0, 'D2': 1})        \n",
    "    tmp.drop([\"cp_type\", \"sig_id\"], axis=1, inplace=True)\n",
    "    return tmp\n",
    "\n",
    "train = fe(train)\n",
    "test = fe(test)\n",
    "\n",
    "print(train.shape, test.shape)"
   ]
  },
  {
   "cell_type": "code",
   "execution_count": 11,
   "metadata": {
    "execution": {
     "iopub.execute_input": "2020-10-27T02:44:13.692298Z",
     "iopub.status.busy": "2020-10-27T02:44:13.690949Z",
     "iopub.status.idle": "2020-10-27T02:44:14.824927Z",
     "shell.execute_reply": "2020-10-27T02:44:14.823657Z"
    },
    "papermill": {
     "duration": 1.160748,
     "end_time": "2020-10-27T02:44:14.825063",
     "exception": false,
     "start_time": "2020-10-27T02:44:13.664315",
     "status": "completed"
    },
    "tags": []
   },
   "outputs": [],
   "source": [
    "fn_train = train.copy().to_numpy()\n",
    "fn_test = test.copy().to_numpy()\n",
    "\n",
    "ss = preprocessing.RobustScaler()\n",
    "fn_train= ss.fit_transform(fn_train)\n",
    "fn_test = ss.transform(fn_test)\n",
    "\n",
    "fn_targets = targets.drop(\"sig_id\", axis=1).copy().to_numpy()"
   ]
  },
  {
   "cell_type": "code",
   "execution_count": 12,
   "metadata": {
    "execution": {
     "iopub.execute_input": "2020-10-27T02:44:14.872790Z",
     "iopub.status.busy": "2020-10-27T02:44:14.871709Z",
     "iopub.status.idle": "2020-10-27T02:44:14.875534Z",
     "shell.execute_reply": "2020-10-27T02:44:14.876064Z"
    },
    "papermill": {
     "duration": 0.030246,
     "end_time": "2020-10-27T02:44:14.876183",
     "exception": false,
     "start_time": "2020-10-27T02:44:14.845937",
     "status": "completed"
    },
    "tags": []
   },
   "outputs": [
    {
     "data": {
      "text/plain": [
       "((21948, 809), (3982, 809), (21948, 206))"
      ]
     },
     "execution_count": 12,
     "metadata": {},
     "output_type": "execute_result"
    }
   ],
   "source": [
    "fn_train.shape, fn_test.shape, fn_targets.shape"
   ]
  },
  {
   "cell_type": "markdown",
   "metadata": {
    "papermill": {
     "duration": 0.019755,
     "end_time": "2020-10-27T02:44:14.915330",
     "exception": false,
     "start_time": "2020-10-27T02:44:14.895575",
     "status": "completed"
    },
    "tags": []
   },
   "source": [
    "# modelling"
   ]
  },
  {
   "cell_type": "code",
   "execution_count": 13,
   "metadata": {
    "execution": {
     "iopub.execute_input": "2020-10-27T02:44:14.966171Z",
     "iopub.status.busy": "2020-10-27T02:44:14.964259Z",
     "iopub.status.idle": "2020-10-27T02:44:14.966922Z",
     "shell.execute_reply": "2020-10-27T02:44:14.967437Z"
    },
    "papermill": {
     "duration": 0.031607,
     "end_time": "2020-10-27T02:44:14.967550",
     "exception": false,
     "start_time": "2020-10-27T02:44:14.935943",
     "status": "completed"
    },
    "tags": []
   },
   "outputs": [],
   "source": [
    "class LogitsLogLoss(Metric):\n",
    "    def __init__(self):\n",
    "        self._name = \"logits_ll\"\n",
    "        self._maximize = False\n",
    "\n",
    "    def __call__(self, y_true, y_pred):\n",
    "        \"\"\"\n",
    "        Compute LogLoss of predictions.\n",
    "\n",
    "        Parameters\n",
    "        ----------\n",
    "        y_true: np.ndarray\n",
    "            Target matrix or vector\n",
    "        y_score: np.ndarray\n",
    "            Score matrix or vector\n",
    "\n",
    "        Returns\n",
    "        -------\n",
    "            float\n",
    "            LogLoss of predictions vs targets.\n",
    "        \"\"\"\n",
    "        logits = 1 / (1 + np.exp(-y_pred))\n",
    "        \n",
    "        #smoothing = 0.001\n",
    "        #n_classes = 206\n",
    "        #y_true = y_true * (1 - smoothing) + np.ones_like(y_true) * smoothing / n_classes\n",
    "        \n",
    "        aux = (1-y_true)*np.log(1-logits+1e-15) + y_true*np.log(logits+1e-15)\n",
    "        return np.mean(-aux)"
   ]
  },
  {
   "cell_type": "code",
   "execution_count": 14,
   "metadata": {
    "execution": {
     "iopub.execute_input": "2020-10-27T02:44:15.034015Z",
     "iopub.status.busy": "2020-10-27T02:44:15.025057Z",
     "iopub.status.idle": "2020-10-27T03:12:41.001721Z",
     "shell.execute_reply": "2020-10-27T03:12:41.002955Z"
    },
    "papermill": {
     "duration": 1706.016107,
     "end_time": "2020-10-27T03:12:41.003166",
     "exception": false,
     "start_time": "2020-10-27T02:44:14.987059",
     "status": "completed"
    },
    "tags": []
   },
   "outputs": [
    {
     "name": "stdout",
     "output_type": "stream",
     "text": [
      "FOLDS :  1\n",
      "Device used : cuda\n",
      "epoch 0  | loss: 0.53119 | val_logits_ll: 0.25372 |  0:00:01s\n",
      "epoch 10 | loss: 0.02038 | val_logits_ll: 0.02025 |  0:00:12s\n",
      "epoch 20 | loss: 0.01854 | val_logits_ll: 0.01854 |  0:00:22s\n",
      "epoch 30 | loss: 0.01749 | val_logits_ll: 0.01781 |  0:00:32s\n",
      "epoch 40 | loss: 0.01702 | val_logits_ll: 0.0175  |  0:00:43s\n",
      "epoch 50 | loss: 0.01658 | val_logits_ll: 0.01723 |  0:00:53s\n",
      "epoch 60 | loss: 0.01632 | val_logits_ll: 0.01854 |  0:01:03s\n",
      "epoch 70 | loss: 0.01612 | val_logits_ll: 0.01791 |  0:01:14s\n",
      "epoch 80 | loss: 0.0158  | val_logits_ll: 0.01712 |  0:01:24s\n",
      "epoch 90 | loss: 0.01563 | val_logits_ll: 0.01703 |  0:01:34s\n",
      "epoch 100| loss: 0.01534 | val_logits_ll: 0.01721 |  0:01:44s\n",
      "epoch 110| loss: 0.01534 | val_logits_ll: 0.01699 |  0:01:55s\n",
      "epoch 120| loss: 0.01497 | val_logits_ll: 0.01716 |  0:02:05s\n",
      "\n",
      "Early stopping occured at epoch 125 with best_epoch = 105 and best_val_logits_ll = 0.01679\n",
      "Best weights from best epoch are automatically used!\n",
      "FOLDS :  2\n",
      "Device used : cuda\n",
      "epoch 0  | loss: 0.53665 | val_logits_ll: 0.24769 |  0:00:00s\n",
      "epoch 10 | loss: 0.02046 | val_logits_ll: 0.02032 |  0:00:11s\n",
      "epoch 20 | loss: 0.01833 | val_logits_ll: 0.01978 |  0:00:21s\n",
      "epoch 30 | loss: 0.01747 | val_logits_ll: 0.01805 |  0:00:31s\n",
      "epoch 40 | loss: 0.01696 | val_logits_ll: 0.01809 |  0:00:42s\n",
      "epoch 50 | loss: 0.01672 | val_logits_ll: 0.0174  |  0:00:52s\n",
      "epoch 60 | loss: 0.01649 | val_logits_ll: 0.01703 |  0:01:02s\n",
      "epoch 70 | loss: 0.0164  | val_logits_ll: 0.01697 |  0:01:12s\n",
      "epoch 80 | loss: 0.01613 | val_logits_ll: 0.01691 |  0:01:22s\n",
      "epoch 90 | loss: 0.01608 | val_logits_ll: 0.01684 |  0:01:33s\n",
      "epoch 100| loss: 0.01601 | val_logits_ll: 0.01698 |  0:01:43s\n",
      "epoch 110| loss: 0.01567 | val_logits_ll: 0.01764 |  0:01:53s\n",
      "epoch 120| loss: 0.01567 | val_logits_ll: 0.01696 |  0:02:03s\n",
      "epoch 130| loss: 0.01555 | val_logits_ll: 0.01704 |  0:02:13s\n",
      "epoch 140| loss: 0.01528 | val_logits_ll: 0.01688 |  0:02:24s\n",
      "epoch 150| loss: 0.01505 | val_logits_ll: 0.01686 |  0:02:35s\n",
      "\n",
      "Early stopping occured at epoch 157 with best_epoch = 137 and best_val_logits_ll = 0.01664\n",
      "Best weights from best epoch are automatically used!\n",
      "FOLDS :  3\n",
      "Device used : cuda\n",
      "epoch 0  | loss: 0.53456 | val_logits_ll: 0.26607 |  0:00:00s\n",
      "epoch 10 | loss: 0.02038 | val_logits_ll: 0.02036 |  0:00:11s\n",
      "epoch 20 | loss: 0.01834 | val_logits_ll: 0.0186  |  0:00:21s\n",
      "epoch 30 | loss: 0.01726 | val_logits_ll: 0.0178  |  0:00:31s\n",
      "epoch 40 | loss: 0.01674 | val_logits_ll: 0.01767 |  0:00:41s\n",
      "epoch 50 | loss: 0.01636 | val_logits_ll: 0.01788 |  0:00:53s\n",
      "epoch 60 | loss: 0.01627 | val_logits_ll: 0.01726 |  0:01:04s\n",
      "epoch 70 | loss: 0.0161  | val_logits_ll: 0.01711 |  0:01:14s\n",
      "epoch 80 | loss: 0.016   | val_logits_ll: 0.01721 |  0:01:24s\n",
      "epoch 90 | loss: 0.01564 | val_logits_ll: 0.01707 |  0:01:34s\n",
      "epoch 100| loss: 0.01554 | val_logits_ll: 0.01697 |  0:01:44s\n",
      "epoch 110| loss: 0.01531 | val_logits_ll: 0.01724 |  0:01:55s\n",
      "epoch 120| loss: 0.01506 | val_logits_ll: 0.01717 |  0:02:05s\n",
      "\n",
      "Early stopping occured at epoch 120 with best_epoch = 100 and best_val_logits_ll = 0.01697\n",
      "Best weights from best epoch are automatically used!\n",
      "FOLDS :  4\n",
      "Device used : cuda\n",
      "epoch 0  | loss: 0.53513 | val_logits_ll: 0.24412 |  0:00:01s\n",
      "epoch 10 | loss: 0.0203  | val_logits_ll: 0.02007 |  0:00:10s\n",
      "epoch 20 | loss: 0.01843 | val_logits_ll: 0.01836 |  0:00:21s\n",
      "epoch 30 | loss: 0.0176  | val_logits_ll: 0.01826 |  0:00:31s\n",
      "epoch 40 | loss: 0.01708 | val_logits_ll: 0.0176  |  0:00:41s\n",
      "epoch 50 | loss: 0.01672 | val_logits_ll: 0.0172  |  0:00:52s\n",
      "epoch 60 | loss: 0.0164  | val_logits_ll: 0.01708 |  0:01:02s\n",
      "epoch 70 | loss: 0.01608 | val_logits_ll: 0.01715 |  0:01:12s\n",
      "epoch 80 | loss: 0.01607 | val_logits_ll: 0.01701 |  0:01:23s\n",
      "epoch 90 | loss: 0.01564 | val_logits_ll: 0.0169  |  0:01:32s\n",
      "epoch 100| loss: 0.01541 | val_logits_ll: 0.01689 |  0:01:44s\n",
      "epoch 110| loss: 0.01522 | val_logits_ll: 0.01709 |  0:01:54s\n",
      "\n",
      "Early stopping occured at epoch 112 with best_epoch = 92 and best_val_logits_ll = 0.01681\n",
      "Best weights from best epoch are automatically used!\n",
      "FOLDS :  5\n",
      "Device used : cuda\n",
      "epoch 0  | loss: 0.53266 | val_logits_ll: 0.24044 |  0:00:00s\n",
      "epoch 10 | loss: 0.0205  | val_logits_ll: 0.02051 |  0:00:11s\n",
      "epoch 20 | loss: 0.01869 | val_logits_ll: 0.01903 |  0:00:21s\n",
      "epoch 30 | loss: 0.01759 | val_logits_ll: 0.02029 |  0:00:31s\n",
      "epoch 40 | loss: 0.01693 | val_logits_ll: 0.01774 |  0:00:42s\n",
      "epoch 50 | loss: 0.01651 | val_logits_ll: 0.01765 |  0:00:52s\n",
      "epoch 60 | loss: 0.01614 | val_logits_ll: 0.01737 |  0:01:03s\n",
      "epoch 70 | loss: 0.01597 | val_logits_ll: 0.01741 |  0:01:12s\n",
      "epoch 80 | loss: 0.01577 | val_logits_ll: 0.01729 |  0:01:23s\n",
      "epoch 90 | loss: 0.01545 | val_logits_ll: 0.01723 |  0:01:33s\n",
      "epoch 100| loss: 0.01528 | val_logits_ll: 0.01749 |  0:01:44s\n",
      "\n",
      "Early stopping occured at epoch 102 with best_epoch = 82 and best_val_logits_ll = 0.01705\n",
      "Best weights from best epoch are automatically used!\n",
      "FOLDS :  6\n",
      "Device used : cuda\n",
      "epoch 0  | loss: 0.53081 | val_logits_ll: 0.23331 |  0:00:00s\n",
      "epoch 10 | loss: 0.02038 | val_logits_ll: 0.02013 |  0:00:11s\n",
      "epoch 20 | loss: 0.01854 | val_logits_ll: 0.01848 |  0:00:21s\n",
      "epoch 30 | loss: 0.01744 | val_logits_ll: 0.01802 |  0:00:31s\n",
      "epoch 40 | loss: 0.01685 | val_logits_ll: 0.01752 |  0:00:41s\n",
      "epoch 50 | loss: 0.01656 | val_logits_ll: 0.01734 |  0:00:51s\n",
      "epoch 60 | loss: 0.01621 | val_logits_ll: 0.01721 |  0:01:02s\n",
      "epoch 70 | loss: 0.01604 | val_logits_ll: 0.01734 |  0:01:12s\n",
      "epoch 80 | loss: 0.01577 | val_logits_ll: 0.01703 |  0:01:21s\n",
      "epoch 90 | loss: 0.01546 | val_logits_ll: 0.01742 |  0:01:32s\n",
      "\n",
      "Early stopping occured at epoch 99 with best_epoch = 79 and best_val_logits_ll = 0.01681\n",
      "Best weights from best epoch are automatically used!\n",
      "FOLDS :  7\n",
      "Device used : cuda\n",
      "epoch 0  | loss: 0.5369  | val_logits_ll: 0.25139 |  0:00:00s\n",
      "epoch 10 | loss: 0.02026 | val_logits_ll: 0.02013 |  0:00:11s\n",
      "epoch 20 | loss: 0.0185  | val_logits_ll: 0.01944 |  0:00:22s\n",
      "epoch 30 | loss: 0.01756 | val_logits_ll: 0.01813 |  0:00:32s\n",
      "epoch 40 | loss: 0.01698 | val_logits_ll: 0.01768 |  0:00:42s\n",
      "epoch 50 | loss: 0.01675 | val_logits_ll: 0.01785 |  0:00:53s\n",
      "epoch 60 | loss: 0.01641 | val_logits_ll: 0.01724 |  0:01:02s\n",
      "epoch 70 | loss: 0.01626 | val_logits_ll: 0.01732 |  0:01:13s\n",
      "epoch 80 | loss: 0.01598 | val_logits_ll: 0.01722 |  0:01:24s\n",
      "epoch 90 | loss: 0.01576 | val_logits_ll: 0.01731 |  0:01:34s\n",
      "epoch 100| loss: 0.01554 | val_logits_ll: 0.01714 |  0:01:44s\n",
      "\n",
      "Early stopping occured at epoch 107 with best_epoch = 87 and best_val_logits_ll = 0.01696\n",
      "Best weights from best epoch are automatically used!\n",
      "FOLDS :  1\n",
      "Device used : cuda\n",
      "epoch 0  | loss: 0.54777 | val_logits_ll: 0.24827 |  0:00:01s\n",
      "epoch 10 | loss: 0.02049 | val_logits_ll: 0.02032 |  0:00:11s\n",
      "epoch 20 | loss: 0.01892 | val_logits_ll: 0.01909 |  0:00:22s\n",
      "epoch 30 | loss: 0.01766 | val_logits_ll: 0.01807 |  0:00:32s\n",
      "epoch 40 | loss: 0.01704 | val_logits_ll: 0.01978 |  0:00:43s\n",
      "epoch 50 | loss: 0.01658 | val_logits_ll: 0.0174  |  0:00:52s\n",
      "epoch 60 | loss: 0.01611 | val_logits_ll: 0.0176  |  0:01:02s\n",
      "epoch 70 | loss: 0.01584 | val_logits_ll: 0.01739 |  0:01:12s\n",
      "epoch 80 | loss: 0.01567 | val_logits_ll: 0.01748 |  0:01:23s\n",
      "epoch 90 | loss: 0.01545 | val_logits_ll: 0.01727 |  0:01:33s\n",
      "epoch 100| loss: 0.01527 | val_logits_ll: 0.01709 |  0:01:44s\n",
      "epoch 110| loss: 0.01492 | val_logits_ll: 0.01729 |  0:01:54s\n",
      "\n",
      "Early stopping occured at epoch 112 with best_epoch = 92 and best_val_logits_ll = 0.01702\n",
      "Best weights from best epoch are automatically used!\n",
      "FOLDS :  2\n",
      "Device used : cuda\n",
      "epoch 0  | loss: 0.54856 | val_logits_ll: 0.26833 |  0:00:01s\n",
      "epoch 10 | loss: 0.02093 | val_logits_ll: 0.02087 |  0:00:10s\n",
      "epoch 20 | loss: 0.01907 | val_logits_ll: 0.01916 |  0:00:22s\n",
      "epoch 30 | loss: 0.01783 | val_logits_ll: 0.01826 |  0:00:32s\n",
      "epoch 40 | loss: 0.01697 | val_logits_ll: 0.0177  |  0:00:43s\n",
      "epoch 50 | loss: 0.01664 | val_logits_ll: 0.0173  |  0:00:53s\n",
      "epoch 60 | loss: 0.0163  | val_logits_ll: 0.01721 |  0:01:03s\n",
      "epoch 70 | loss: 0.01609 | val_logits_ll: 0.01711 |  0:01:13s\n",
      "epoch 80 | loss: 0.01588 | val_logits_ll: 0.01707 |  0:01:25s\n",
      "epoch 90 | loss: 0.01577 | val_logits_ll: 0.0168  |  0:01:35s\n",
      "epoch 100| loss: 0.01546 | val_logits_ll: 0.01692 |  0:01:45s\n",
      "epoch 110| loss: 0.01535 | val_logits_ll: 0.0168  |  0:01:55s\n",
      "epoch 120| loss: 0.01507 | val_logits_ll: 0.01707 |  0:02:05s\n",
      "\n",
      "Early stopping occured at epoch 123 with best_epoch = 103 and best_val_logits_ll = 0.01675\n",
      "Best weights from best epoch are automatically used!\n",
      "FOLDS :  3\n",
      "Device used : cuda\n",
      "epoch 0  | loss: 0.5454  | val_logits_ll: 0.27533 |  0:00:00s\n",
      "epoch 10 | loss: 0.02058 | val_logits_ll: 0.02068 |  0:00:11s\n",
      "epoch 20 | loss: 0.01839 | val_logits_ll: 0.01872 |  0:00:22s\n",
      "epoch 30 | loss: 0.01728 | val_logits_ll: 0.01788 |  0:00:32s\n",
      "epoch 40 | loss: 0.01688 | val_logits_ll: 0.01759 |  0:00:42s\n",
      "epoch 50 | loss: 0.01651 | val_logits_ll: 0.01852 |  0:00:53s\n",
      "epoch 60 | loss: 0.01633 | val_logits_ll: 0.01723 |  0:01:03s\n",
      "epoch 70 | loss: 0.01593 | val_logits_ll: 0.01708 |  0:01:13s\n",
      "epoch 80 | loss: 0.01595 | val_logits_ll: 0.01724 |  0:01:24s\n",
      "epoch 90 | loss: 0.01559 | val_logits_ll: 0.0171  |  0:01:34s\n",
      "epoch 100| loss: 0.01573 | val_logits_ll: 0.01726 |  0:01:44s\n",
      "epoch 110| loss: 0.01529 | val_logits_ll: 0.0172  |  0:01:54s\n",
      "\n",
      "Early stopping occured at epoch 113 with best_epoch = 93 and best_val_logits_ll = 0.01694\n",
      "Best weights from best epoch are automatically used!\n",
      "FOLDS :  4\n",
      "Device used : cuda\n",
      "epoch 0  | loss: 0.54671 | val_logits_ll: 0.28591 |  0:00:00s\n",
      "epoch 10 | loss: 0.02048 | val_logits_ll: 0.02026 |  0:00:11s\n",
      "epoch 20 | loss: 0.01842 | val_logits_ll: 0.01829 |  0:00:22s\n",
      "epoch 30 | loss: 0.01744 | val_logits_ll: 0.01977 |  0:00:32s\n",
      "epoch 40 | loss: 0.01686 | val_logits_ll: 0.01745 |  0:00:42s\n",
      "epoch 50 | loss: 0.01649 | val_logits_ll: 0.01738 |  0:00:52s\n",
      "epoch 60 | loss: 0.01628 | val_logits_ll: 0.01701 |  0:01:02s\n",
      "epoch 70 | loss: 0.01605 | val_logits_ll: 0.01706 |  0:01:13s\n",
      "epoch 80 | loss: 0.01595 | val_logits_ll: 0.01685 |  0:01:24s\n",
      "epoch 90 | loss: 0.01591 | val_logits_ll: 0.01681 |  0:01:34s\n",
      "epoch 100| loss: 0.01558 | val_logits_ll: 0.01679 |  0:01:44s\n",
      "epoch 110| loss: 0.01554 | val_logits_ll: 0.01676 |  0:01:54s\n",
      "epoch 120| loss: 0.01538 | val_logits_ll: 0.017   |  0:02:04s\n",
      "epoch 130| loss: 0.01509 | val_logits_ll: 0.01696 |  0:02:15s\n",
      "\n",
      "Early stopping occured at epoch 133 with best_epoch = 113 and best_val_logits_ll = 0.01667\n",
      "Best weights from best epoch are automatically used!\n",
      "FOLDS :  5\n",
      "Device used : cuda\n",
      "epoch 0  | loss: 0.54383 | val_logits_ll: 0.25127 |  0:00:00s\n",
      "epoch 10 | loss: 0.0204  | val_logits_ll: 0.02068 |  0:00:11s\n",
      "epoch 20 | loss: 0.01861 | val_logits_ll: 0.02099 |  0:00:21s\n",
      "epoch 30 | loss: 0.01751 | val_logits_ll: 0.02014 |  0:00:31s\n",
      "epoch 40 | loss: 0.01686 | val_logits_ll: 0.01799 |  0:00:41s\n",
      "epoch 50 | loss: 0.01647 | val_logits_ll: 0.01744 |  0:00:51s\n",
      "epoch 60 | loss: 0.0161  | val_logits_ll: 0.01727 |  0:01:02s\n",
      "epoch 70 | loss: 0.01599 | val_logits_ll: 0.01738 |  0:01:12s\n",
      "epoch 80 | loss: 0.01557 | val_logits_ll: 0.01779 |  0:01:22s\n",
      "epoch 90 | loss: 0.01534 | val_logits_ll: 0.01731 |  0:01:32s\n",
      "epoch 100| loss: 0.01532 | val_logits_ll: 0.01752 |  0:01:42s\n",
      "\n",
      "Early stopping occured at epoch 105 with best_epoch = 85 and best_val_logits_ll = 0.01704\n",
      "Best weights from best epoch are automatically used!\n",
      "FOLDS :  6\n",
      "Device used : cuda\n",
      "epoch 0  | loss: 0.55958 | val_logits_ll: 0.28964 |  0:00:01s\n",
      "epoch 10 | loss: 0.02077 | val_logits_ll: 0.02068 |  0:00:13s\n",
      "epoch 20 | loss: 0.01886 | val_logits_ll: 0.01954 |  0:00:23s\n",
      "epoch 30 | loss: 0.01742 | val_logits_ll: 0.018   |  0:00:33s\n",
      "epoch 40 | loss: 0.01686 | val_logits_ll: 0.01753 |  0:00:43s\n",
      "epoch 50 | loss: 0.01644 | val_logits_ll: 0.01722 |  0:00:53s\n",
      "epoch 60 | loss: 0.01599 | val_logits_ll: 0.01711 |  0:01:03s\n",
      "epoch 70 | loss: 0.01599 | val_logits_ll: 0.01701 |  0:01:14s\n",
      "epoch 80 | loss: 0.01575 | val_logits_ll: 0.01697 |  0:01:24s\n",
      "epoch 90 | loss: 0.01547 | val_logits_ll: 0.01715 |  0:01:34s\n",
      "\n",
      "Early stopping occured at epoch 99 with best_epoch = 79 and best_val_logits_ll = 0.01691\n",
      "Best weights from best epoch are automatically used!\n",
      "FOLDS :  7\n",
      "Device used : cuda\n",
      "epoch 0  | loss: 0.5508  | val_logits_ll: 0.24567 |  0:00:00s\n",
      "epoch 10 | loss: 0.02083 | val_logits_ll: 0.0208  |  0:00:11s\n",
      "epoch 20 | loss: 0.01833 | val_logits_ll: 0.01856 |  0:00:22s\n",
      "epoch 30 | loss: 0.01735 | val_logits_ll: 0.01776 |  0:00:32s\n",
      "epoch 40 | loss: 0.01699 | val_logits_ll: 0.01762 |  0:00:43s\n",
      "epoch 50 | loss: 0.01655 | val_logits_ll: 0.01913 |  0:00:53s\n",
      "epoch 60 | loss: 0.01633 | val_logits_ll: 0.01718 |  0:01:03s\n",
      "epoch 70 | loss: 0.01615 | val_logits_ll: 0.01719 |  0:01:13s\n",
      "epoch 80 | loss: 0.01586 | val_logits_ll: 0.01716 |  0:01:24s\n",
      "epoch 90 | loss: 0.01584 | val_logits_ll: 0.01711 |  0:01:34s\n",
      "epoch 100| loss: 0.01545 | val_logits_ll: 0.01723 |  0:01:45s\n",
      "\n",
      "Early stopping occured at epoch 108 with best_epoch = 88 and best_val_logits_ll = 0.01692\n",
      "Best weights from best epoch are automatically used!\n"
     ]
    }
   ],
   "source": [
    "MAX_EPOCH=200\n",
    "\n",
    "smoothing = 0.001\n",
    "p_min = smoothing\n",
    "p_max = 1 - smoothing\n",
    "\n",
    "def seed_everything(seed_value):\n",
    "    random.seed(seed_value)\n",
    "    np.random.seed(seed_value)\n",
    "    torch.manual_seed(seed_value)\n",
    "    os.environ['PYTHONHASHSEED'] = str(seed_value)\n",
    "    \n",
    "    if torch.cuda.is_available(): \n",
    "        torch.cuda.manual_seed(seed_value)\n",
    "        torch.cuda.manual_seed_all(seed_value)\n",
    "        torch.backends.cudnn.deterministic = True\n",
    "        torch.backends.cudnn.benchmark = False\n",
    "\n",
    "def modelling_tabnet(tr, target, te, sample_seed):\n",
    "    seed_everything(sample_seed) \n",
    "    tabnet_params = dict(n_d=12, n_a=12, n_steps=1, gamma=1.3, seed = sample_seed,\n",
    "                     lambda_sparse=0, optimizer_fn=torch.optim.Adam,\n",
    "                     optimizer_params=dict(lr=2e-2, weight_decay=1e-5),\n",
    "                     mask_type='entmax',\n",
    "                     scheduler_params=dict(mode=\"min\",\n",
    "                                           patience=5,\n",
    "                                           min_lr=1e-5,\n",
    "                                           factor=0.9,),\n",
    "                     scheduler_fn=torch.optim.lr_scheduler.ReduceLROnPlateau,\n",
    "                     verbose=10,\n",
    "                     )\n",
    "    test_cv_preds = []\n",
    "\n",
    "    NB_SPLITS = 7\n",
    "    mskf = MultilabelStratifiedKFold(n_splits=NB_SPLITS, random_state=0, shuffle=True)\n",
    "    oof_preds = np.zeros([len(tr),target.shape[1]])\n",
    "    scores = []\n",
    "    for fold_nb, (train_idx, val_idx) in enumerate(mskf.split(train, target)):\n",
    "        print(\"FOLDS : \", fold_nb+1)\n",
    "\n",
    "        ## model\n",
    "        X_train, y_train = tr[train_idx, :], target[train_idx, :]\n",
    "        X_val, y_val = tr[val_idx, :], target[val_idx, :]\n",
    "        model = TabNetRegressor(**tabnet_params)\n",
    "    \n",
    "        model.fit(X_train=X_train,\n",
    "              y_train=y_train,\n",
    "              eval_set=[(X_val, y_val)],\n",
    "              eval_name = [\"val\"],\n",
    "              eval_metric = [\"logits_ll\"],\n",
    "              max_epochs=MAX_EPOCH,\n",
    "              patience=20, batch_size=1024, virtual_batch_size=128,\n",
    "              num_workers=1, drop_last=False,\n",
    "              # use binary cross entropy as this is not a regression problem\n",
    "              loss_fn=torch.nn.functional.binary_cross_entropy_with_logits)\n",
    "    \n",
    "        preds_val = model.predict(X_val)\n",
    "        # Apply sigmoid to the predictions\n",
    "        preds =  1 / (1 + np.exp(-preds_val))\n",
    "        score = np.min(model.history[\"val_logits_ll\"])\n",
    "        oof_preds[val_idx,:] = preds\n",
    "        #oof_preds[val_idx,:] = np.clip(preds, p_min, p_max)\n",
    "        scores.append(score)\n",
    "\n",
    "        # preds on test\n",
    "        preds_test = model.predict(te)\n",
    "        test_cv_preds.append(1 / (1 + np.exp(-preds_test)))\n",
    "        #test_cv_preds.append(np.clip(1 / (1 + np.exp(-preds_test))), p_min, p_max)\n",
    "        \n",
    "    test_preds_all = np.stack(test_cv_preds)\n",
    "    return oof_preds, test_preds_all\n",
    "\n",
    "target_oof = np.zeros([len(fn_train),fn_targets.shape[1]])\n",
    "target_pred = np.zeros([len(fn_test),fn_targets.shape[1]])\n",
    "\n",
    "seeds = [0,1]\n",
    "for seed_ in seeds:\n",
    "    oof_preds, test_preds_all = modelling_tabnet(fn_train, fn_targets, fn_test, seed_)\n",
    "    target_oof += oof_preds / len(seeds)\n",
    "    target_pred += test_preds_all.mean(axis=0) / len(seeds)"
   ]
  },
  {
   "cell_type": "code",
   "execution_count": 15,
   "metadata": {
    "execution": {
     "iopub.execute_input": "2020-10-27T03:12:41.284170Z",
     "iopub.status.busy": "2020-10-27T03:12:41.283281Z",
     "iopub.status.idle": "2020-10-27T03:12:47.575806Z",
     "shell.execute_reply": "2020-10-27T03:12:47.576272Z"
    },
    "papermill": {
     "duration": 6.438918,
     "end_time": "2020-10-27T03:12:47.576451",
     "exception": false,
     "start_time": "2020-10-27T03:12:41.137533",
     "status": "completed"
    },
    "tags": []
   },
   "outputs": [
    {
     "name": "stdout",
     "output_type": "stream",
     "text": [
      "OOF log loss:  0.01523505307047307\n"
     ]
    }
   ],
   "source": [
    "t = pd.read_csv(DATA_DIR + 'train_targets_scored.csv')\n",
    "train_checkscore = t.copy()\n",
    "train_checkscore.loc[train_checkscore.index.isin(cons_train_index),target_feats] = target_oof\n",
    "train_checkscore.loc[train_checkscore.index.isin(noncons_train_index),target_feats] = 0\n",
    "\n",
    "t.drop(\"sig_id\", axis=1, inplace=True)\n",
    "print('OOF log loss: ', log_loss(np.ravel(t), np.ravel(np.array(train_checkscore.iloc[:,1:]))))"
   ]
  },
  {
   "cell_type": "code",
   "execution_count": 16,
   "metadata": {
    "execution": {
     "iopub.execute_input": "2020-10-27T03:12:47.768630Z",
     "iopub.status.busy": "2020-10-27T03:12:47.767643Z",
     "iopub.status.idle": "2020-10-27T03:12:50.300277Z",
     "shell.execute_reply": "2020-10-27T03:12:50.299187Z"
    },
    "papermill": {
     "duration": 2.629552,
     "end_time": "2020-10-27T03:12:50.300459",
     "exception": false,
     "start_time": "2020-10-27T03:12:47.670907",
     "status": "completed"
    },
    "tags": []
   },
   "outputs": [],
   "source": [
    "sub[target_feats] = target_pred\n",
    "sub.loc[noncons_test_index,target_feats] = 0\n",
    "sub.to_csv('submission.csv', index=False)"
   ]
  },
  {
   "cell_type": "code",
   "execution_count": null,
   "metadata": {
    "papermill": {
     "duration": 0.091579,
     "end_time": "2020-10-27T03:12:50.484084",
     "exception": false,
     "start_time": "2020-10-27T03:12:50.392505",
     "status": "completed"
    },
    "tags": []
   },
   "outputs": [],
   "source": []
  }
 ],
 "metadata": {
  "kernelspec": {
   "display_name": "Python 3",
   "language": "python",
   "name": "python3"
  },
  "language_info": {
   "codemirror_mode": {
    "name": "ipython",
    "version": 3
   },
   "file_extension": ".py",
   "mimetype": "text/x-python",
   "name": "python",
   "nbconvert_exporter": "python",
   "pygments_lexer": "ipython3",
   "version": "3.7.6"
  },
  "papermill": {
   "duration": 1748.608569,
   "end_time": "2020-10-27T03:12:52.074542",
   "environment_variables": {},
   "exception": null,
   "input_path": "__notebook__.ipynb",
   "output_path": "__notebook__.ipynb",
   "parameters": {},
   "start_time": "2020-10-27T02:43:43.465973",
   "version": "2.1.0"
  }
 },
 "nbformat": 4,
 "nbformat_minor": 4
}
