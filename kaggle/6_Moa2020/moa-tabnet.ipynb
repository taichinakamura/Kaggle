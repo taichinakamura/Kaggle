{
 "cells": [
  {
   "cell_type": "markdown",
   "metadata": {
    "papermill": {
     "duration": 0.019347,
     "end_time": "2020-10-31T14:52:00.017843",
     "exception": false,
     "start_time": "2020-10-31T14:51:59.998496",
     "status": "completed"
    },
    "tags": []
   },
   "source": [
    "- rank gauss + small number of pca + categorical encoding\n",
    "-"
   ]
  },
  {
   "cell_type": "code",
   "execution_count": 1,
   "metadata": {
    "execution": {
     "iopub.execute_input": "2020-10-31T14:52:00.062108Z",
     "iopub.status.busy": "2020-10-31T14:52:00.061340Z",
     "iopub.status.idle": "2020-10-31T14:52:10.406539Z",
     "shell.execute_reply": "2020-10-31T14:52:10.405730Z"
    },
    "papermill": {
     "duration": 10.371129,
     "end_time": "2020-10-31T14:52:10.406700",
     "exception": false,
     "start_time": "2020-10-31T14:52:00.035571",
     "status": "completed"
    },
    "tags": []
   },
   "outputs": [
    {
     "name": "stdout",
     "output_type": "stream",
     "text": [
      "Looking in links: /kaggle/input/pytorchtabnet/pytorch_tabnet-2.0.0-py3-none-any.whl\r\n",
      "Processing /kaggle/input/pytorchtabnet/pytorch_tabnet-2.0.0-py3-none-any.whl\r\n",
      "Requirement already satisfied: scikit_learn>0.21 in /opt/conda/lib/python3.7/site-packages (from pytorch-tabnet) (0.23.2)\r\n",
      "Requirement already satisfied: scipy>1.4 in /opt/conda/lib/python3.7/site-packages (from pytorch-tabnet) (1.4.1)\r\n",
      "Requirement already satisfied: torch<2.0,>=1.2 in /opt/conda/lib/python3.7/site-packages (from pytorch-tabnet) (1.6.0)\r\n",
      "Requirement already satisfied: numpy<2.0,>=1.17 in /opt/conda/lib/python3.7/site-packages (from pytorch-tabnet) (1.18.5)\r\n",
      "Requirement already satisfied: tqdm<5.0,>=4.36 in /opt/conda/lib/python3.7/site-packages (from pytorch-tabnet) (4.45.0)\r\n",
      "Requirement already satisfied: threadpoolctl>=2.0.0 in /opt/conda/lib/python3.7/site-packages (from scikit_learn>0.21->pytorch-tabnet) (2.1.0)\r\n",
      "Requirement already satisfied: joblib>=0.11 in /opt/conda/lib/python3.7/site-packages (from scikit_learn>0.21->pytorch-tabnet) (0.14.1)\r\n",
      "Requirement already satisfied: future in /opt/conda/lib/python3.7/site-packages (from torch<2.0,>=1.2->pytorch-tabnet) (0.18.2)\r\n",
      "Installing collected packages: pytorch-tabnet\r\n",
      "Successfully installed pytorch-tabnet-2.0.0\r\n"
     ]
    }
   ],
   "source": [
    "!pip install --no-index --find-links /kaggle/input/pytorchtabnet/pytorch_tabnet-2.0.0-py3-none-any.whl pytorch-tabnet"
   ]
  },
  {
   "cell_type": "code",
   "execution_count": 2,
   "metadata": {
    "_cell_guid": "b1076dfc-b9ad-4769-8c92-a6c4dae69d19",
    "_uuid": "8f2839f25d086af736a60e9eeb907d3b93b6e0e5",
    "execution": {
     "iopub.execute_input": "2020-10-31T14:52:10.465637Z",
     "iopub.status.busy": "2020-10-31T14:52:10.464433Z",
     "iopub.status.idle": "2020-10-31T14:52:20.758515Z",
     "shell.execute_reply": "2020-10-31T14:52:20.757848Z"
    },
    "papermill": {
     "duration": 10.330505,
     "end_time": "2020-10-31T14:52:20.758661",
     "exception": false,
     "start_time": "2020-10-31T14:52:10.428156",
     "status": "completed"
    },
    "tags": []
   },
   "outputs": [],
   "source": [
    "import os\n",
    "import sys\n",
    "import random\n",
    "import warnings\n",
    "import numpy as np\n",
    "import pandas as pd \n",
    "from sklearn import preprocessing\n",
    "from sklearn.metrics import log_loss,roc_auc_score\n",
    "from sklearn.decomposition import PCA\n",
    "from tqdm import tqdm_notebook as tqdm\n",
    "from sklearn.cluster import KMeans\n",
    "from sklearn.multioutput import MultiOutputClassifier\n",
    "from sklearn.feature_selection import VarianceThreshold\n",
    "\n",
    "from pytorch_tabnet.metrics import Metric\n",
    "from pytorch_tabnet.tab_model import TabNetRegressor\n",
    "\n",
    "sys.path.append('../input/multilabelstraifier/')\n",
    "from ml_stratifiers import MultilabelStratifiedKFold\n",
    "warnings.filterwarnings('ignore')\n",
    "\n",
    "import time\n",
    "import torch\n",
    "import torch.nn as nn\n",
    "import torch.optim as optim\n",
    "import torch.nn.functional as F\n",
    "import tensorflow as tf"
   ]
  },
  {
   "cell_type": "code",
   "execution_count": 3,
   "metadata": {
    "execution": {
     "iopub.execute_input": "2020-10-31T14:52:20.810237Z",
     "iopub.status.busy": "2020-10-31T14:52:20.809325Z",
     "iopub.status.idle": "2020-10-31T14:52:28.128857Z",
     "shell.execute_reply": "2020-10-31T14:52:28.128134Z"
    },
    "papermill": {
     "duration": 7.349137,
     "end_time": "2020-10-31T14:52:28.128997",
     "exception": false,
     "start_time": "2020-10-31T14:52:20.779860",
     "status": "completed"
    },
    "tags": []
   },
   "outputs": [],
   "source": [
    "DATA_DIR = '/kaggle/input/lish-moa/'\n",
    "train = pd.read_csv(DATA_DIR + 'train_features.csv')\n",
    "targets = pd.read_csv(DATA_DIR + 'train_targets_scored.csv')\n",
    "non_targets = pd.read_csv(DATA_DIR + 'train_targets_nonscored.csv')\n",
    "test = pd.read_csv(DATA_DIR + 'test_features.csv')\n",
    "sub = pd.read_csv(DATA_DIR + 'sample_submission.csv')"
   ]
  },
  {
   "cell_type": "code",
   "execution_count": 4,
   "metadata": {
    "execution": {
     "iopub.execute_input": "2020-10-31T14:52:28.185743Z",
     "iopub.status.busy": "2020-10-31T14:52:28.184608Z",
     "iopub.status.idle": "2020-10-31T14:52:28.326806Z",
     "shell.execute_reply": "2020-10-31T14:52:28.326144Z"
    },
    "papermill": {
     "duration": 0.176836,
     "end_time": "2020-10-31T14:52:28.326949",
     "exception": false,
     "start_time": "2020-10-31T14:52:28.150113",
     "status": "completed"
    },
    "tags": []
   },
   "outputs": [],
   "source": [
    "target_feats = [ i for i in targets.columns if i != \"sig_id\"]\n",
    "g_feats = [i for i in train.columns if \"g-\" in i]\n",
    "c_feats = [i for i in train.columns if \"c-\" in i]\n",
    "\n",
    "noncons_train_index = train[train.cp_type==\"ctl_vehicle\"].index\n",
    "cons_train_index = train[~train.index.isin(noncons_train_index)].index\n",
    "noncons_test_index = test[test.cp_type==\"ctl_vehicle\"].index\n",
    "cons_test_index = test[test.cp_type!=\"ctl_vehicle\"].index"
   ]
  },
  {
   "cell_type": "markdown",
   "metadata": {
    "papermill": {
     "duration": 0.02069,
     "end_time": "2020-10-31T14:52:28.368904",
     "exception": false,
     "start_time": "2020-10-31T14:52:28.348214",
     "status": "completed"
    },
    "tags": []
   },
   "source": [
    "# preprocess"
   ]
  },
  {
   "cell_type": "code",
   "execution_count": 5,
   "metadata": {
    "execution": {
     "iopub.execute_input": "2020-10-31T14:52:28.427367Z",
     "iopub.status.busy": "2020-10-31T14:52:28.422607Z",
     "iopub.status.idle": "2020-10-31T14:52:28.698686Z",
     "shell.execute_reply": "2020-10-31T14:52:28.697895Z"
    },
    "papermill": {
     "duration": 0.307996,
     "end_time": "2020-10-31T14:52:28.698814",
     "exception": false,
     "start_time": "2020-10-31T14:52:28.390818",
     "status": "completed"
    },
    "tags": []
   },
   "outputs": [],
   "source": [
    "train = train[train.index.isin(cons_train_index)].copy().reset_index(drop=True)\n",
    "targets = targets[targets.index.isin(cons_train_index)].copy().reset_index(drop=True)"
   ]
  },
  {
   "cell_type": "markdown",
   "metadata": {
    "papermill": {
     "duration": 0.021814,
     "end_time": "2020-10-31T14:52:28.742169",
     "exception": false,
     "start_time": "2020-10-31T14:52:28.720355",
     "status": "completed"
    },
    "tags": []
   },
   "source": [
    "# feature engineering"
   ]
  },
  {
   "cell_type": "code",
   "execution_count": 6,
   "metadata": {
    "execution": {
     "iopub.execute_input": "2020-10-31T14:52:28.795740Z",
     "iopub.status.busy": "2020-10-31T14:52:28.794805Z",
     "iopub.status.idle": "2020-10-31T14:52:39.191823Z",
     "shell.execute_reply": "2020-10-31T14:52:39.191175Z"
    },
    "papermill": {
     "duration": 10.428191,
     "end_time": "2020-10-31T14:52:39.191961",
     "exception": false,
     "start_time": "2020-10-31T14:52:28.763770",
     "status": "completed"
    },
    "tags": []
   },
   "outputs": [],
   "source": [
    "for i in c_feats + g_feats:\n",
    "    ss = preprocessing.QuantileTransformer(n_quantiles=100, random_state=0, output_distribution=\"normal\")\n",
    "    ss.fit(train[i].values.reshape(-1,1))\n",
    "    train[i] = ss.transform(train[i].values.reshape(-1,1))\n",
    "    test[i] = ss.transform(test[i].values.reshape(-1,1))\n",
    "\n",
    "#for i in g_feats + c_feats:\n",
    "#    ss = preprocessing.RobustScaler()\n",
    "#    ss.fit(train[i].values.reshape(-1,1))\n",
    "#    train[i] = ss.transform(train[i].values.reshape(-1,1))\n",
    "#    test[i] = ss.transform(test[i].values.reshape(-1,1))"
   ]
  },
  {
   "cell_type": "code",
   "execution_count": 7,
   "metadata": {
    "execution": {
     "iopub.execute_input": "2020-10-31T14:52:39.257707Z",
     "iopub.status.busy": "2020-10-31T14:52:39.256876Z",
     "iopub.status.idle": "2020-10-31T14:52:40.380652Z",
     "shell.execute_reply": "2020-10-31T14:52:40.379816Z"
    },
    "papermill": {
     "duration": 1.167142,
     "end_time": "2020-10-31T14:52:40.380785",
     "exception": false,
     "start_time": "2020-10-31T14:52:39.213643",
     "status": "completed"
    },
    "tags": []
   },
   "outputs": [],
   "source": [
    "c_num = 1\n",
    "pca_c_cols = [\"pca-c\"+str(i+1) for i in range(c_num)]\n",
    "pca = PCA(n_components=c_num,random_state=42)\n",
    "c_train = pca.fit_transform(train[c_feats])\n",
    "c_test = pca.transform(test[c_feats])\n",
    "c_train = pd.DataFrame(c_train, columns=pca_c_cols)\n",
    "c_test = pd.DataFrame(c_test, columns=pca_c_cols)\n",
    "\n",
    "g_num = 10\n",
    "pca_g_cols = [\"pca-g\"+str(i+1) for i in range(g_num)]\n",
    "pca = PCA(n_components=g_num, random_state=42)\n",
    "g_train = pca.fit_transform(train[g_feats])\n",
    "g_test = pca.transform(test[g_feats])\n",
    "g_train = pd.DataFrame(g_train, columns=pca_g_cols)\n",
    "g_test = pd.DataFrame(g_test, columns=pca_g_cols)\n",
    "\n",
    "train = pd.concat([train, c_train],axis=1)\n",
    "test = pd.concat([test, c_test],axis=1)\n",
    "train = pd.concat([train, g_train],axis=1)\n",
    "test = pd.concat([test, g_test],axis=1)"
   ]
  },
  {
   "cell_type": "code",
   "execution_count": 8,
   "metadata": {
    "execution": {
     "iopub.execute_input": "2020-10-31T14:52:40.437276Z",
     "iopub.status.busy": "2020-10-31T14:52:40.436181Z",
     "iopub.status.idle": "2020-10-31T14:52:40.439664Z",
     "shell.execute_reply": "2020-10-31T14:52:40.439047Z"
    },
    "papermill": {
     "duration": 0.036734,
     "end_time": "2020-10-31T14:52:40.439801",
     "exception": false,
     "start_time": "2020-10-31T14:52:40.403067",
     "status": "completed"
    },
    "tags": []
   },
   "outputs": [],
   "source": [
    "n_clusters_g = 15\n",
    "n_clusters_c = 5\n",
    "def create_cluster(train, test, kind, n_clusters):\n",
    "    if kind == \"g\":\n",
    "        train_ = train[pca_g_cols].copy()\n",
    "        test_ = test[pca_g_cols].copy()\n",
    "    else:\n",
    "        train_ = train[pca_c_cols].copy()\n",
    "        test_ = test[pca_c_cols].copy()    \n",
    "    kmeans = KMeans(n_clusters = n_clusters, random_state = 0).fit(train_)\n",
    "    train[f'clusters_{kind}'] = kmeans.labels_\n",
    "    test[f'clusters_{kind}'] = kmeans.predict(test_)\n",
    "    train = pd.get_dummies(train, columns = [f'clusters_{kind}'])\n",
    "    test = pd.get_dummies(test, columns = [f'clusters_{kind}'])\n",
    "    return train, test\n",
    "    \n",
    "#train, test = create_cluster(train, test, kind = 'g', n_clusters = n_clusters_g)\n",
    "#train, test = create_cluster(train, test, kind = 'c', n_clusters = n_clusters_c)"
   ]
  },
  {
   "cell_type": "code",
   "execution_count": 9,
   "metadata": {
    "execution": {
     "iopub.execute_input": "2020-10-31T14:52:40.493878Z",
     "iopub.status.busy": "2020-10-31T14:52:40.493056Z",
     "iopub.status.idle": "2020-10-31T14:52:40.777658Z",
     "shell.execute_reply": "2020-10-31T14:52:40.776992Z"
    },
    "papermill": {
     "duration": 0.315721,
     "end_time": "2020-10-31T14:52:40.777786",
     "exception": false,
     "start_time": "2020-10-31T14:52:40.462065",
     "status": "completed"
    },
    "tags": []
   },
   "outputs": [
    {
     "name": "stdout",
     "output_type": "stream",
     "text": [
      "(21948, 885) (3982, 885)\n"
     ]
    }
   ],
   "source": [
    "def fe(df):\n",
    "    tmp = df.copy()\n",
    "    #tmp['g_sum'] = tmp[pca_g_cols].sum(axis = 1)\n",
    "    #tmp['g_mean'] = tmp[pca_g_cols].mean(axis = 1)\n",
    "    #tmp['g_std'] = tmp[pca_g_cols].std(axis = 1)\n",
    "    #tmp['g_kurt'] = tmp[pca_g_cols].kurtosis(axis = 1)\n",
    "    #tmp['g_skew'] = tmp[pca_g_cols].skew(axis = 1)\n",
    "    #tmp['c_sum'] = tmp[pca_c_cols].sum(axis = 1)\n",
    "    #tmp['c_mean'] = tmp[pca_c_cols].mean(axis = 1)\n",
    "    #tmp['c_std'] = tmp[pca_c_cols].std(axis = 1)\n",
    "    #tmp['c_kurt'] = tmp[pca_c_cols].kurtosis(axis = 1)\n",
    "    #tmp['c_skew'] = tmp[pca_c_cols].skew(axis = 1)\n",
    "    #tmp['gc_sum'] = tmp[pca_c_cols + pca_g_cols].sum(axis = 1)\n",
    "    #tmp['gc_mean'] = tmp[pca_c_cols + pca_g_cols].mean(axis = 1)\n",
    "    #tmp['gc_std'] = tmp[pca_c_cols + pca_g_cols].std(axis = 1)\n",
    "    #tmp['gc_kurt'] = tmp[pca_c_cols + pca_g_cols].kurtosis(axis = 1)\n",
    "    #tmp['gc_skew'] = tmp[pca_c_cols + pca_g_cols].skew(axis = 1)\n",
    "    #tmp[\"g_c_diff\"] = tmp[\"g_sum\"] - tmp[\"c_sum\"]\n",
    "    tmp.loc[:, 'cp_dose'] = tmp.loc[:, 'cp_dose'].map({'D1': 0, 'D2': 1})      \n",
    "    tmp.drop([\"sig_id\", \"cp_type\"], axis=1, inplace=True)\n",
    "    return tmp\n",
    "\n",
    "train = fe(train)\n",
    "test = fe(test)\n",
    "\n",
    "print(train.shape, test.shape)"
   ]
  },
  {
   "cell_type": "code",
   "execution_count": 10,
   "metadata": {
    "execution": {
     "iopub.execute_input": "2020-10-31T14:52:40.827884Z",
     "iopub.status.busy": "2020-10-31T14:52:40.826953Z",
     "iopub.status.idle": "2020-10-31T14:52:40.829873Z",
     "shell.execute_reply": "2020-10-31T14:52:40.830452Z"
    },
    "papermill": {
     "duration": 0.030482,
     "end_time": "2020-10-31T14:52:40.830631",
     "exception": false,
     "start_time": "2020-10-31T14:52:40.800149",
     "status": "completed"
    },
    "tags": []
   },
   "outputs": [],
   "source": [
    "#X = train[g_feats+c_feats].copy().values\n",
    "#select = VarianceThreshold(threshold=1.5)\n",
    "#X_new = select.fit_transform(X)\n",
    "#remain_feats = list(np.array(train[g_feats+c_feats].columns)[select.get_support()==False])\n",
    "#drop_feats = [i for i in c_feats + g_feats if i not in remain_feats]\n",
    "#len(drop_feats)\n",
    "\n",
    "#train.drop(drop_feats, axis=1, inplace=True)\n",
    "#test.drop(drop_feats, axis=1, inplace=True)"
   ]
  },
  {
   "cell_type": "code",
   "execution_count": 11,
   "metadata": {
    "execution": {
     "iopub.execute_input": "2020-10-31T14:52:40.892473Z",
     "iopub.status.busy": "2020-10-31T14:52:40.883713Z",
     "iopub.status.idle": "2020-10-31T14:52:40.917065Z",
     "shell.execute_reply": "2020-10-31T14:52:40.916434Z"
    },
    "papermill": {
     "duration": 0.063958,
     "end_time": "2020-10-31T14:52:40.917191",
     "exception": false,
     "start_time": "2020-10-31T14:52:40.853233",
     "status": "completed"
    },
    "tags": []
   },
   "outputs": [
    {
     "data": {
      "text/html": [
       "<div>\n",
       "<style scoped>\n",
       "    .dataframe tbody tr th:only-of-type {\n",
       "        vertical-align: middle;\n",
       "    }\n",
       "\n",
       "    .dataframe tbody tr th {\n",
       "        vertical-align: top;\n",
       "    }\n",
       "\n",
       "    .dataframe thead th {\n",
       "        text-align: right;\n",
       "    }\n",
       "</style>\n",
       "<table border=\"1\" class=\"dataframe\">\n",
       "  <thead>\n",
       "    <tr style=\"text-align: right;\">\n",
       "      <th></th>\n",
       "      <th>cp_time</th>\n",
       "      <th>cp_dose</th>\n",
       "      <th>g-0</th>\n",
       "      <th>g-1</th>\n",
       "      <th>g-2</th>\n",
       "      <th>g-3</th>\n",
       "      <th>g-4</th>\n",
       "      <th>g-5</th>\n",
       "      <th>g-6</th>\n",
       "      <th>g-7</th>\n",
       "      <th>...</th>\n",
       "      <th>pca-g1</th>\n",
       "      <th>pca-g2</th>\n",
       "      <th>pca-g3</th>\n",
       "      <th>pca-g4</th>\n",
       "      <th>pca-g5</th>\n",
       "      <th>pca-g6</th>\n",
       "      <th>pca-g7</th>\n",
       "      <th>pca-g8</th>\n",
       "      <th>pca-g9</th>\n",
       "      <th>pca-g10</th>\n",
       "    </tr>\n",
       "  </thead>\n",
       "  <tbody>\n",
       "    <tr>\n",
       "      <th>0</th>\n",
       "      <td>24</td>\n",
       "      <td>0</td>\n",
       "      <td>1.111801</td>\n",
       "      <td>0.903367</td>\n",
       "      <td>-0.433829</td>\n",
       "      <td>-0.971728</td>\n",
       "      <td>-0.286559</td>\n",
       "      <td>-1.011388</td>\n",
       "      <td>-1.357431</td>\n",
       "      <td>-0.041716</td>\n",
       "      <td>...</td>\n",
       "      <td>-5.947541</td>\n",
       "      <td>-6.565323</td>\n",
       "      <td>7.922011</td>\n",
       "      <td>-7.719018</td>\n",
       "      <td>4.405187</td>\n",
       "      <td>1.806038</td>\n",
       "      <td>3.393864</td>\n",
       "      <td>1.992503</td>\n",
       "      <td>2.330853</td>\n",
       "      <td>0.229401</td>\n",
       "    </tr>\n",
       "    <tr>\n",
       "      <th>1</th>\n",
       "      <td>72</td>\n",
       "      <td>0</td>\n",
       "      <td>0.105667</td>\n",
       "      <td>0.672509</td>\n",
       "      <td>0.257486</td>\n",
       "      <td>0.086759</td>\n",
       "      <td>1.199685</td>\n",
       "      <td>0.691813</td>\n",
       "      <td>0.353695</td>\n",
       "      <td>0.558374</td>\n",
       "      <td>...</td>\n",
       "      <td>-5.162087</td>\n",
       "      <td>-0.264433</td>\n",
       "      <td>-12.554034</td>\n",
       "      <td>4.953071</td>\n",
       "      <td>0.799825</td>\n",
       "      <td>-0.025325</td>\n",
       "      <td>1.039128</td>\n",
       "      <td>-0.897690</td>\n",
       "      <td>3.815383</td>\n",
       "      <td>3.735017</td>\n",
       "    </tr>\n",
       "    <tr>\n",
       "      <th>2</th>\n",
       "      <td>48</td>\n",
       "      <td>0</td>\n",
       "      <td>0.767036</td>\n",
       "      <td>0.942499</td>\n",
       "      <td>1.408911</td>\n",
       "      <td>-0.126492</td>\n",
       "      <td>-0.028694</td>\n",
       "      <td>1.490985</td>\n",
       "      <td>0.272541</td>\n",
       "      <td>0.359490</td>\n",
       "      <td>...</td>\n",
       "      <td>0.677536</td>\n",
       "      <td>8.687788</td>\n",
       "      <td>-2.526892</td>\n",
       "      <td>0.283035</td>\n",
       "      <td>0.538570</td>\n",
       "      <td>2.956883</td>\n",
       "      <td>-2.141152</td>\n",
       "      <td>3.346174</td>\n",
       "      <td>-1.128757</td>\n",
       "      <td>-4.715069</td>\n",
       "    </tr>\n",
       "    <tr>\n",
       "      <th>3</th>\n",
       "      <td>48</td>\n",
       "      <td>0</td>\n",
       "      <td>-0.755626</td>\n",
       "      <td>-0.297077</td>\n",
       "      <td>-0.455058</td>\n",
       "      <td>0.765972</td>\n",
       "      <td>2.343522</td>\n",
       "      <td>-0.852713</td>\n",
       "      <td>-2.316440</td>\n",
       "      <td>0.301512</td>\n",
       "      <td>...</td>\n",
       "      <td>10.869688</td>\n",
       "      <td>10.066734</td>\n",
       "      <td>-0.212951</td>\n",
       "      <td>-5.016873</td>\n",
       "      <td>-7.041268</td>\n",
       "      <td>-3.342125</td>\n",
       "      <td>-3.466734</td>\n",
       "      <td>6.218932</td>\n",
       "      <td>-4.034827</td>\n",
       "      <td>0.560658</td>\n",
       "    </tr>\n",
       "    <tr>\n",
       "      <th>4</th>\n",
       "      <td>72</td>\n",
       "      <td>1</td>\n",
       "      <td>-0.468806</td>\n",
       "      <td>-0.504196</td>\n",
       "      <td>0.956769</td>\n",
       "      <td>0.975864</td>\n",
       "      <td>1.447729</td>\n",
       "      <td>-0.863807</td>\n",
       "      <td>-0.346926</td>\n",
       "      <td>-0.227072</td>\n",
       "      <td>...</td>\n",
       "      <td>-6.933980</td>\n",
       "      <td>6.061535</td>\n",
       "      <td>-8.831261</td>\n",
       "      <td>-4.482883</td>\n",
       "      <td>-7.548974</td>\n",
       "      <td>-8.808425</td>\n",
       "      <td>-2.480037</td>\n",
       "      <td>-4.121178</td>\n",
       "      <td>-1.091505</td>\n",
       "      <td>-1.924720</td>\n",
       "    </tr>\n",
       "  </tbody>\n",
       "</table>\n",
       "<p>5 rows × 885 columns</p>\n",
       "</div>"
      ],
      "text/plain": [
       "   cp_time  cp_dose       g-0       g-1       g-2       g-3       g-4  \\\n",
       "0       24        0  1.111801  0.903367 -0.433829 -0.971728 -0.286559   \n",
       "1       72        0  0.105667  0.672509  0.257486  0.086759  1.199685   \n",
       "2       48        0  0.767036  0.942499  1.408911 -0.126492 -0.028694   \n",
       "3       48        0 -0.755626 -0.297077 -0.455058  0.765972  2.343522   \n",
       "4       72        1 -0.468806 -0.504196  0.956769  0.975864  1.447729   \n",
       "\n",
       "        g-5       g-6       g-7  ...     pca-g1     pca-g2     pca-g3  \\\n",
       "0 -1.011388 -1.357431 -0.041716  ...  -5.947541  -6.565323   7.922011   \n",
       "1  0.691813  0.353695  0.558374  ...  -5.162087  -0.264433 -12.554034   \n",
       "2  1.490985  0.272541  0.359490  ...   0.677536   8.687788  -2.526892   \n",
       "3 -0.852713 -2.316440  0.301512  ...  10.869688  10.066734  -0.212951   \n",
       "4 -0.863807 -0.346926 -0.227072  ...  -6.933980   6.061535  -8.831261   \n",
       "\n",
       "     pca-g4    pca-g5    pca-g6    pca-g7    pca-g8    pca-g9   pca-g10  \n",
       "0 -7.719018  4.405187  1.806038  3.393864  1.992503  2.330853  0.229401  \n",
       "1  4.953071  0.799825 -0.025325  1.039128 -0.897690  3.815383  3.735017  \n",
       "2  0.283035  0.538570  2.956883 -2.141152  3.346174 -1.128757 -4.715069  \n",
       "3 -5.016873 -7.041268 -3.342125 -3.466734  6.218932 -4.034827  0.560658  \n",
       "4 -4.482883 -7.548974 -8.808425 -2.480037 -4.121178 -1.091505 -1.924720  \n",
       "\n",
       "[5 rows x 885 columns]"
      ]
     },
     "execution_count": 11,
     "metadata": {},
     "output_type": "execute_result"
    }
   ],
   "source": [
    "train.head()"
   ]
  },
  {
   "cell_type": "code",
   "execution_count": 12,
   "metadata": {
    "execution": {
     "iopub.execute_input": "2020-10-31T14:52:40.971797Z",
     "iopub.status.busy": "2020-10-31T14:52:40.970961Z",
     "iopub.status.idle": "2020-10-31T14:52:41.139504Z",
     "shell.execute_reply": "2020-10-31T14:52:41.138862Z"
    },
    "papermill": {
     "duration": 0.198264,
     "end_time": "2020-10-31T14:52:41.139664",
     "exception": false,
     "start_time": "2020-10-31T14:52:40.941400",
     "status": "completed"
    },
    "tags": []
   },
   "outputs": [],
   "source": [
    "fn_train = train.copy().to_numpy()\n",
    "fn_test = test.copy().to_numpy()\n",
    "    \n",
    "fn_targets = targets.drop(\"sig_id\", axis=1).copy().to_numpy()"
   ]
  },
  {
   "cell_type": "code",
   "execution_count": 13,
   "metadata": {
    "execution": {
     "iopub.execute_input": "2020-10-31T14:52:41.193971Z",
     "iopub.status.busy": "2020-10-31T14:52:41.192935Z",
     "iopub.status.idle": "2020-10-31T14:52:41.197437Z",
     "shell.execute_reply": "2020-10-31T14:52:41.198005Z"
    },
    "papermill": {
     "duration": 0.034633,
     "end_time": "2020-10-31T14:52:41.198175",
     "exception": false,
     "start_time": "2020-10-31T14:52:41.163542",
     "status": "completed"
    },
    "tags": []
   },
   "outputs": [
    {
     "data": {
      "text/plain": [
       "((21948, 885), (3982, 885), (21948, 206))"
      ]
     },
     "execution_count": 13,
     "metadata": {},
     "output_type": "execute_result"
    }
   ],
   "source": [
    "fn_train.shape, fn_test.shape, fn_targets.shape"
   ]
  },
  {
   "cell_type": "markdown",
   "metadata": {
    "papermill": {
     "duration": 0.023993,
     "end_time": "2020-10-31T14:52:41.246544",
     "exception": false,
     "start_time": "2020-10-31T14:52:41.222551",
     "status": "completed"
    },
    "tags": []
   },
   "source": [
    "# modelling"
   ]
  },
  {
   "cell_type": "code",
   "execution_count": 14,
   "metadata": {
    "execution": {
     "iopub.execute_input": "2020-10-31T14:52:41.304860Z",
     "iopub.status.busy": "2020-10-31T14:52:41.304013Z",
     "iopub.status.idle": "2020-10-31T14:52:41.307485Z",
     "shell.execute_reply": "2020-10-31T14:52:41.308100Z"
    },
    "papermill": {
     "duration": 0.037427,
     "end_time": "2020-10-31T14:52:41.308309",
     "exception": false,
     "start_time": "2020-10-31T14:52:41.270882",
     "status": "completed"
    },
    "tags": []
   },
   "outputs": [],
   "source": [
    "class LogitsLogLoss(Metric):\n",
    "    def __init__(self):\n",
    "        self._name = \"logits_ll\"\n",
    "        self._maximize = False\n",
    "\n",
    "    def __call__(self, y_true, y_pred):\n",
    "\n",
    "        logits = 1 / (1 + np.exp(-y_pred))\n",
    "        \n",
    "        #smoothing = 0.00001\n",
    "        #n_classes = 206\n",
    "        #y_true = y_true * (1 - smoothing) + np.ones_like(y_true) * smoothing / n_classes\n",
    "        \n",
    "        aux = (1-y_true)*np.log(1-logits+1e-15) + y_true*np.log(logits+1e-15)\n",
    "        return np.mean(-aux)"
   ]
  },
  {
   "cell_type": "code",
   "execution_count": 15,
   "metadata": {
    "execution": {
     "iopub.execute_input": "2020-10-31T14:52:41.392343Z",
     "iopub.status.busy": "2020-10-31T14:52:41.382388Z",
     "iopub.status.idle": "2020-10-31T15:33:32.470033Z",
     "shell.execute_reply": "2020-10-31T15:33:32.470665Z"
    },
    "papermill": {
     "duration": 2451.137951,
     "end_time": "2020-10-31T15:33:32.470836",
     "exception": false,
     "start_time": "2020-10-31T14:52:41.332885",
     "status": "completed"
    },
    "tags": []
   },
   "outputs": [
    {
     "name": "stdout",
     "output_type": "stream",
     "text": [
      "FOLDS :  1\n",
      "Device used : cpu\n",
      "epoch 0  | loss: 0.46915 | val_logits_ll: 0.13263 |  0:00:06s\n",
      "epoch 10 | loss: 0.01973 | val_logits_ll: 0.01971 |  0:01:03s\n",
      "epoch 20 | loss: 0.01769 | val_logits_ll: 0.01956 |  0:01:59s\n",
      "epoch 30 | loss: 0.01698 | val_logits_ll: 0.0179  |  0:02:55s\n",
      "epoch 40 | loss: 0.01649 | val_logits_ll: 0.01735 |  0:03:49s\n",
      "epoch 50 | loss: 0.01615 | val_logits_ll: 0.01699 |  0:04:44s\n",
      "epoch 60 | loss: 0.01579 | val_logits_ll: 0.01711 |  0:05:40s\n",
      "epoch 70 | loss: 0.01567 | val_logits_ll: 0.0171  |  0:06:35s\n",
      "epoch 80 | loss: 0.01519 | val_logits_ll: 0.0169  |  0:07:30s\n",
      "\n",
      "Early stopping occured at epoch 87 with best_epoch = 67 and best_val_logits_ll = 0.01676\n",
      "Best weights from best epoch are automatically used!\n",
      "FOLDS :  2\n",
      "Device used : cpu\n",
      "epoch 0  | loss: 0.46823 | val_logits_ll: 0.12349 |  0:00:05s\n",
      "epoch 10 | loss: 0.01942 | val_logits_ll: 0.01941 |  0:00:59s\n",
      "epoch 20 | loss: 0.01742 | val_logits_ll: 0.01867 |  0:01:53s\n",
      "epoch 30 | loss: 0.01665 | val_logits_ll: 0.02021 |  0:02:47s\n",
      "epoch 40 | loss: 0.01629 | val_logits_ll: 0.01765 |  0:03:41s\n",
      "epoch 50 | loss: 0.01596 | val_logits_ll: 0.01935 |  0:04:36s\n",
      "epoch 60 | loss: 0.01573 | val_logits_ll: 0.01748 |  0:05:31s\n",
      "epoch 70 | loss: 0.01546 | val_logits_ll: 0.01715 |  0:06:25s\n",
      "\n",
      "Early stopping occured at epoch 76 with best_epoch = 56 and best_val_logits_ll = 0.01693\n",
      "Best weights from best epoch are automatically used!\n",
      "FOLDS :  3\n",
      "Device used : cpu\n",
      "epoch 0  | loss: 0.46901 | val_logits_ll: 0.14421 |  0:00:05s\n",
      "epoch 10 | loss: 0.01948 | val_logits_ll: 0.02014 |  0:01:00s\n",
      "epoch 20 | loss: 0.01758 | val_logits_ll: 0.01888 |  0:01:55s\n",
      "epoch 30 | loss: 0.01657 | val_logits_ll: 0.0176  |  0:02:49s\n",
      "epoch 40 | loss: 0.01625 | val_logits_ll: 0.01752 |  0:03:44s\n",
      "epoch 50 | loss: 0.01597 | val_logits_ll: 0.01765 |  0:04:39s\n",
      "epoch 60 | loss: 0.01561 | val_logits_ll: 0.01725 |  0:05:35s\n",
      "epoch 70 | loss: 0.01543 | val_logits_ll: 0.01707 |  0:06:31s\n",
      "epoch 80 | loss: 0.01505 | val_logits_ll: 0.01693 |  0:07:26s\n",
      "epoch 90 | loss: 0.01466 | val_logits_ll: 0.0174  |  0:08:23s\n",
      "epoch 100| loss: 0.01402 | val_logits_ll: 0.0174  |  0:09:23s\n",
      "\n",
      "Early stopping occured at epoch 100 with best_epoch = 80 and best_val_logits_ll = 0.01693\n",
      "Best weights from best epoch are automatically used!\n",
      "FOLDS :  4\n",
      "Device used : cpu\n",
      "epoch 0  | loss: 0.46652 | val_logits_ll: 0.13318 |  0:00:05s\n",
      "epoch 10 | loss: 0.01953 | val_logits_ll: 0.01961 |  0:01:00s\n",
      "epoch 20 | loss: 0.01755 | val_logits_ll: 0.02037 |  0:01:54s\n",
      "epoch 30 | loss: 0.01692 | val_logits_ll: 0.01788 |  0:02:49s\n",
      "epoch 40 | loss: 0.01691 | val_logits_ll: 0.01742 |  0:03:43s\n",
      "epoch 50 | loss: 0.01623 | val_logits_ll: 0.01693 |  0:04:38s\n",
      "epoch 60 | loss: 0.01591 | val_logits_ll: 0.01692 |  0:05:34s\n",
      "epoch 70 | loss: 0.01529 | val_logits_ll: 0.01725 |  0:06:29s\n",
      "epoch 80 | loss: 0.01516 | val_logits_ll: 0.01692 |  0:07:23s\n",
      "epoch 90 | loss: 0.01487 | val_logits_ll: 0.01692 |  0:08:21s\n",
      "\n",
      "Early stopping occured at epoch 93 with best_epoch = 73 and best_val_logits_ll = 0.01683\n",
      "Best weights from best epoch are automatically used!\n",
      "FOLDS :  5\n",
      "Device used : cpu\n",
      "epoch 0  | loss: 0.46575 | val_logits_ll: 0.11752 |  0:00:05s\n",
      "epoch 10 | loss: 0.01989 | val_logits_ll: 0.02041 |  0:00:59s\n",
      "epoch 20 | loss: 0.01769 | val_logits_ll: 0.01844 |  0:01:53s\n",
      "epoch 30 | loss: 0.01699 | val_logits_ll: 0.01793 |  0:02:48s\n",
      "epoch 40 | loss: 0.01656 | val_logits_ll: 0.01752 |  0:03:42s\n",
      "epoch 50 | loss: 0.01623 | val_logits_ll: 0.01711 |  0:04:37s\n",
      "epoch 60 | loss: 0.01569 | val_logits_ll: 0.01701 |  0:05:33s\n",
      "epoch 70 | loss: 0.01556 | val_logits_ll: 0.0175  |  0:06:28s\n",
      "\n",
      "Early stopping occured at epoch 79 with best_epoch = 59 and best_val_logits_ll = 0.01681\n",
      "Best weights from best epoch are automatically used!\n",
      "OOF log loss: 0.01685408058720906\n",
      "Overall AUC : 0.7413651007323592\n"
     ]
    }
   ],
   "source": [
    "MAX_EPOCH=200\n",
    "\n",
    "smoothing = 0.001\n",
    "p_min = smoothing\n",
    "p_max = 1 - smoothing\n",
    "\n",
    "def seed_everything(seed_value):\n",
    "    random.seed(seed_value)\n",
    "    np.random.seed(seed_value)\n",
    "    torch.manual_seed(seed_value)\n",
    "    os.environ['PYTHONHASHSEED'] = str(seed_value)\n",
    "    \n",
    "    if torch.cuda.is_available(): \n",
    "        torch.cuda.manual_seed(seed_value)\n",
    "        torch.cuda.manual_seed_all(seed_value)\n",
    "        torch.backends.cudnn.deterministic = True\n",
    "        torch.backends.cudnn.benchmark = False\n",
    "\n",
    "def modelling_tabnet(tr, target, te, sample_seed):\n",
    "    seed_everything(sample_seed) \n",
    "    tabnet_params = dict(n_d=24, n_a=24, n_steps=1, gamma=1.5, seed = sample_seed,\n",
    "                     lambda_sparse=0, \n",
    "                     optimizer_fn=torch.optim.Adam,\n",
    "                     optimizer_params=dict(lr=2e-2, weight_decay=1e-5),\n",
    "                     mask_type='entmax',\n",
    "                     scheduler_params=dict(mode=\"min\",\n",
    "                                           patience=5,\n",
    "                                           min_lr=1e-5,\n",
    "                                           factor=0.9,),\n",
    "                     scheduler_fn=torch.optim.lr_scheduler.ReduceLROnPlateau,\n",
    "                     verbose=10,\n",
    "                     )\n",
    "    test_cv_preds = []\n",
    "\n",
    "    NB_SPLITS = 5\n",
    "    mskf = MultilabelStratifiedKFold(n_splits=NB_SPLITS, random_state=0, shuffle=True)\n",
    "    oof_preds = np.zeros([len(tr),target.shape[1]])\n",
    "    scores = []\n",
    "    for fold_nb, (train_idx, val_idx) in enumerate(mskf.split(train, target)):\n",
    "        print(\"FOLDS : \", fold_nb+1)\n",
    "\n",
    "        ## model\n",
    "        X_train, y_train = tr[train_idx, :], target[train_idx, :]\n",
    "        X_val, y_val = tr[val_idx, :], target[val_idx, :]\n",
    "        model = TabNetRegressor(**tabnet_params)\n",
    "    \n",
    "        model.fit(X_train=X_train,\n",
    "              y_train=y_train,\n",
    "              eval_set=[(X_val, y_val)],\n",
    "              eval_name = [\"val\"],\n",
    "              eval_metric = [\"logits_ll\"],\n",
    "              max_epochs=MAX_EPOCH,\n",
    "              patience=20, batch_size=1024, virtual_batch_size=128,\n",
    "              num_workers=1, drop_last=False,\n",
    "              # use binary cross entropy as this is not a regression problem\n",
    "              loss_fn=torch.nn.functional.binary_cross_entropy_with_logits)\n",
    "    \n",
    "        preds_val = model.predict(X_val)\n",
    "        # Apply sigmoid to the predictions\n",
    "        preds =  1 / (1 + np.exp(-preds_val))\n",
    "        score = np.min(model.history[\"val_logits_ll\"])\n",
    "        oof_preds[val_idx,:] = preds\n",
    "        #oof_preds[val_idx,:] = np.clip(preds, p_min, p_max)\n",
    "        scores.append(score)\n",
    "\n",
    "        # preds on test\n",
    "        preds_test = model.predict(te)\n",
    "        test_cv_preds.append(1 / (1 + np.exp(-preds_test)))\n",
    "        #test_cv_preds.append(np.clip(1 / (1 + np.exp(-preds_test)), p_min, p_max))\n",
    "        \n",
    "    test_preds_all = np.stack(test_cv_preds)\n",
    "    print(\"OOF log loss:\", log_loss(np.ravel(target), np.ravel(np.array(oof_preds))))\n",
    "    aucs = []\n",
    "    for task_id in range(206):\n",
    "        aucs.append(roc_auc_score(y_true=target[:, task_id],y_score=oof_preds[:, task_id]))\n",
    "    print(f\"Overall AUC : {np.mean(aucs)}\")\n",
    "    return oof_preds, test_preds_all\n",
    "\n",
    "target_oof = np.zeros([len(fn_train),fn_targets.shape[1]])\n",
    "target_pred = np.zeros([len(fn_test),fn_targets.shape[1]])\n",
    "\n",
    "seeds = [0]\n",
    "for seed_ in seeds:\n",
    "    oof_preds, test_preds_all = modelling_tabnet(fn_train, fn_targets, fn_test, seed_)\n",
    "    target_oof += oof_preds / len(seeds)\n",
    "    target_pred += test_preds_all.mean(axis=0) / len(seeds)"
   ]
  },
  {
   "cell_type": "code",
   "execution_count": 16,
   "metadata": {
    "execution": {
     "iopub.execute_input": "2020-10-31T15:33:32.573354Z",
     "iopub.status.busy": "2020-10-31T15:33:32.572609Z",
     "iopub.status.idle": "2020-10-31T15:33:34.174737Z",
     "shell.execute_reply": "2020-10-31T15:33:34.173972Z"
    },
    "papermill": {
     "duration": 1.657112,
     "end_time": "2020-10-31T15:33:34.174874",
     "exception": false,
     "start_time": "2020-10-31T15:33:32.517762",
     "status": "completed"
    },
    "tags": []
   },
   "outputs": [
    {
     "name": "stdout",
     "output_type": "stream",
     "text": [
      "Overall AUC : 0.7413651007323592\n"
     ]
    }
   ],
   "source": [
    "aucs = []\n",
    "for task_id in range(targets.shape[1]-1):\n",
    "    aucs.append(roc_auc_score(y_true=targets.iloc[:, task_id+1].values,\n",
    "                              y_score=target_oof[:, task_id]))\n",
    "print(f\"Overall AUC : {np.mean(aucs)}\")"
   ]
  },
  {
   "cell_type": "code",
   "execution_count": 17,
   "metadata": {
    "execution": {
     "iopub.execute_input": "2020-10-31T15:33:34.288308Z",
     "iopub.status.busy": "2020-10-31T15:33:34.287473Z",
     "iopub.status.idle": "2020-10-31T15:33:43.420327Z",
     "shell.execute_reply": "2020-10-31T15:33:43.421053Z"
    },
    "papermill": {
     "duration": 9.196338,
     "end_time": "2020-10-31T15:33:43.421246",
     "exception": false,
     "start_time": "2020-10-31T15:33:34.224908",
     "status": "completed"
    },
    "tags": []
   },
   "outputs": [
    {
     "name": "stdout",
     "output_type": "stream",
     "text": [
      "OOF log loss:  0.015533440863696416\n"
     ]
    }
   ],
   "source": [
    "t = pd.read_csv(DATA_DIR + 'train_targets_scored.csv')\n",
    "train_checkscore = t.copy()\n",
    "train_checkscore.loc[train_checkscore.index.isin(cons_train_index),target_feats] = target_oof\n",
    "train_checkscore.loc[train_checkscore.index.isin(noncons_train_index),target_feats] = 0\n",
    "\n",
    "t.drop(\"sig_id\", axis=1, inplace=True)\n",
    "print('OOF log loss: ', log_loss(np.ravel(t), np.ravel(np.array(train_checkscore.iloc[:,1:]))))"
   ]
  },
  {
   "cell_type": "code",
   "execution_count": 18,
   "metadata": {
    "execution": {
     "iopub.execute_input": "2020-10-31T15:33:43.526535Z",
     "iopub.status.busy": "2020-10-31T15:33:43.525779Z",
     "iopub.status.idle": "2020-10-31T15:33:46.345271Z",
     "shell.execute_reply": "2020-10-31T15:33:46.344603Z"
    },
    "papermill": {
     "duration": 2.875516,
     "end_time": "2020-10-31T15:33:46.345402",
     "exception": false,
     "start_time": "2020-10-31T15:33:43.469886",
     "status": "completed"
    },
    "tags": []
   },
   "outputs": [],
   "source": [
    "sub[target_feats] = target_pred\n",
    "sub.loc[noncons_test_index,target_feats] = 0\n",
    "sub.to_csv('submission.csv', index=False)"
   ]
  },
  {
   "cell_type": "code",
   "execution_count": null,
   "metadata": {
    "papermill": {
     "duration": 0.047908,
     "end_time": "2020-10-31T15:33:46.441942",
     "exception": false,
     "start_time": "2020-10-31T15:33:46.394034",
     "status": "completed"
    },
    "tags": []
   },
   "outputs": [],
   "source": []
  }
 ],
 "metadata": {
  "kernelspec": {
   "display_name": "Python 3",
   "language": "python",
   "name": "python3"
  },
  "language_info": {
   "codemirror_mode": {
    "name": "ipython",
    "version": 3
   },
   "file_extension": ".py",
   "mimetype": "text/x-python",
   "name": "python",
   "nbconvert_exporter": "python",
   "pygments_lexer": "ipython3",
   "version": "3.7.6"
  },
  "papermill": {
   "duration": 2512.955177,
   "end_time": "2020-10-31T15:33:47.557139",
   "environment_variables": {},
   "exception": null,
   "input_path": "__notebook__.ipynb",
   "output_path": "__notebook__.ipynb",
   "parameters": {},
   "start_time": "2020-10-31T14:51:54.601962",
   "version": "2.1.0"
  }
 },
 "nbformat": 4,
 "nbformat_minor": 4
}
