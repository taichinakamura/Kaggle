{
 "cells": [
  {
   "cell_type": "markdown",
   "metadata": {
    "papermill": {
     "duration": 0.019112,
     "end_time": "2020-11-04T04:18:14.252428",
     "exception": false,
     "start_time": "2020-11-04T04:18:14.233316",
     "status": "completed"
    },
    "tags": []
   },
   "source": [
    "- change seed in tabnet model to (0,100,2)\n",
    "- import clipping"
   ]
  },
  {
   "cell_type": "code",
   "execution_count": 1,
   "metadata": {
    "execution": {
     "iopub.execute_input": "2020-11-04T04:18:14.296131Z",
     "iopub.status.busy": "2020-11-04T04:18:14.295192Z",
     "iopub.status.idle": "2020-11-04T04:18:24.207461Z",
     "shell.execute_reply": "2020-11-04T04:18:24.208510Z"
    },
    "papermill": {
     "duration": 9.938128,
     "end_time": "2020-11-04T04:18:24.208780",
     "exception": false,
     "start_time": "2020-11-04T04:18:14.270652",
     "status": "completed"
    },
    "tags": []
   },
   "outputs": [
    {
     "name": "stdout",
     "output_type": "stream",
     "text": [
      "Looking in links: /kaggle/input/pytorchtabnet/pytorch_tabnet-2.0.0-py3-none-any.whl\r\n",
      "Processing /kaggle/input/pytorchtabnet/pytorch_tabnet-2.0.0-py3-none-any.whl\r\n",
      "Requirement already satisfied: tqdm<5.0,>=4.36 in /opt/conda/lib/python3.7/site-packages (from pytorch-tabnet) (4.45.0)\r\n",
      "Requirement already satisfied: numpy<2.0,>=1.17 in /opt/conda/lib/python3.7/site-packages (from pytorch-tabnet) (1.18.5)\r\n",
      "Requirement already satisfied: scikit_learn>0.21 in /opt/conda/lib/python3.7/site-packages (from pytorch-tabnet) (0.23.2)\r\n",
      "Requirement already satisfied: scipy>1.4 in /opt/conda/lib/python3.7/site-packages (from pytorch-tabnet) (1.4.1)\r\n",
      "Requirement already satisfied: torch<2.0,>=1.2 in /opt/conda/lib/python3.7/site-packages (from pytorch-tabnet) (1.6.0)\r\n",
      "Requirement already satisfied: joblib>=0.11 in /opt/conda/lib/python3.7/site-packages (from scikit_learn>0.21->pytorch-tabnet) (0.14.1)\r\n",
      "Requirement already satisfied: threadpoolctl>=2.0.0 in /opt/conda/lib/python3.7/site-packages (from scikit_learn>0.21->pytorch-tabnet) (2.1.0)\r\n",
      "Requirement already satisfied: future in /opt/conda/lib/python3.7/site-packages (from torch<2.0,>=1.2->pytorch-tabnet) (0.18.2)\r\n",
      "Installing collected packages: pytorch-tabnet\r\n",
      "Successfully installed pytorch-tabnet-2.0.0\r\n"
     ]
    }
   ],
   "source": [
    "!pip install --no-index --find-links /kaggle/input/pytorchtabnet/pytorch_tabnet-2.0.0-py3-none-any.whl pytorch-tabnet"
   ]
  },
  {
   "cell_type": "code",
   "execution_count": 2,
   "metadata": {
    "_cell_guid": "b1076dfc-b9ad-4769-8c92-a6c4dae69d19",
    "_uuid": "8f2839f25d086af736a60e9eeb907d3b93b6e0e5",
    "execution": {
     "iopub.execute_input": "2020-11-04T04:18:24.366051Z",
     "iopub.status.busy": "2020-11-04T04:18:24.365022Z",
     "iopub.status.idle": "2020-11-04T04:18:35.973917Z",
     "shell.execute_reply": "2020-11-04T04:18:35.972693Z"
    },
    "papermill": {
     "duration": 11.67184,
     "end_time": "2020-11-04T04:18:35.974052",
     "exception": false,
     "start_time": "2020-11-04T04:18:24.302212",
     "status": "completed"
    },
    "tags": []
   },
   "outputs": [],
   "source": [
    "import os\n",
    "import sys\n",
    "import random\n",
    "import warnings\n",
    "import numpy as np\n",
    "import pandas as pd \n",
    "from umap import UMAP\n",
    "from sklearn import preprocessing\n",
    "from sklearn.metrics import log_loss,roc_auc_score\n",
    "from sklearn.decomposition import PCA\n",
    "from tqdm import tqdm_notebook as tqdm\n",
    "from sklearn.cluster import KMeans\n",
    "from sklearn.multioutput import MultiOutputClassifier\n",
    "from sklearn.feature_selection import VarianceThreshold\n",
    "from torch.nn.modules.loss import _WeightedLoss\n",
    "\n",
    "from pytorch_tabnet.metrics import Metric\n",
    "from pytorch_tabnet.tab_model import TabNetRegressor\n",
    "\n",
    "sys.path.append('../input/multilabelstraifier/')\n",
    "from ml_stratifiers import MultilabelStratifiedKFold\n",
    "warnings.filterwarnings('ignore')\n",
    "\n",
    "import time\n",
    "import torch\n",
    "import torch.nn as nn\n",
    "import torch.optim as optim\n",
    "import torch.nn.functional as F\n",
    "import tensorflow as tf"
   ]
  },
  {
   "cell_type": "code",
   "execution_count": 3,
   "metadata": {
    "execution": {
     "iopub.execute_input": "2020-11-04T04:18:36.025817Z",
     "iopub.status.busy": "2020-11-04T04:18:36.024753Z",
     "iopub.status.idle": "2020-11-04T04:18:44.060675Z",
     "shell.execute_reply": "2020-11-04T04:18:44.060054Z"
    },
    "papermill": {
     "duration": 8.065845,
     "end_time": "2020-11-04T04:18:44.060810",
     "exception": false,
     "start_time": "2020-11-04T04:18:35.994965",
     "status": "completed"
    },
    "tags": []
   },
   "outputs": [],
   "source": [
    "DATA_DIR = '/kaggle/input/lish-moa/'\n",
    "train = pd.read_csv(DATA_DIR + 'train_features.csv')\n",
    "targets = pd.read_csv(DATA_DIR + 'train_targets_scored.csv')\n",
    "non_targets = pd.read_csv(DATA_DIR + 'train_targets_nonscored.csv')\n",
    "test = pd.read_csv(DATA_DIR + 'test_features.csv')\n",
    "sub = pd.read_csv(DATA_DIR + 'sample_submission.csv')"
   ]
  },
  {
   "cell_type": "code",
   "execution_count": 4,
   "metadata": {
    "execution": {
     "iopub.execute_input": "2020-11-04T04:18:44.116511Z",
     "iopub.status.busy": "2020-11-04T04:18:44.115615Z",
     "iopub.status.idle": "2020-11-04T04:18:44.215227Z",
     "shell.execute_reply": "2020-11-04T04:18:44.215777Z"
    },
    "papermill": {
     "duration": 0.133661,
     "end_time": "2020-11-04T04:18:44.215959",
     "exception": false,
     "start_time": "2020-11-04T04:18:44.082298",
     "status": "completed"
    },
    "tags": []
   },
   "outputs": [],
   "source": [
    "target_feats = [ i for i in targets.columns if i != \"sig_id\"]\n",
    "g_feats = [i for i in train.columns if \"g-\" in i]\n",
    "c_feats = [i for i in train.columns if \"c-\" in i]\n",
    "\n",
    "noncons_train_index = train[train.cp_type==\"ctl_vehicle\"].index\n",
    "cons_train_index = train[~train.index.isin(noncons_train_index)].index\n",
    "noncons_test_index = test[test.cp_type==\"ctl_vehicle\"].index\n",
    "cons_test_index = test[test.cp_type!=\"ctl_vehicle\"].index"
   ]
  },
  {
   "cell_type": "markdown",
   "metadata": {
    "papermill": {
     "duration": 0.020775,
     "end_time": "2020-11-04T04:18:44.258403",
     "exception": false,
     "start_time": "2020-11-04T04:18:44.237628",
     "status": "completed"
    },
    "tags": []
   },
   "source": [
    "# preprocess"
   ]
  },
  {
   "cell_type": "code",
   "execution_count": 5,
   "metadata": {
    "execution": {
     "iopub.execute_input": "2020-11-04T04:18:44.315761Z",
     "iopub.status.busy": "2020-11-04T04:18:44.314604Z",
     "iopub.status.idle": "2020-11-04T04:18:44.544308Z",
     "shell.execute_reply": "2020-11-04T04:18:44.543479Z"
    },
    "papermill": {
     "duration": 0.265011,
     "end_time": "2020-11-04T04:18:44.544452",
     "exception": false,
     "start_time": "2020-11-04T04:18:44.279441",
     "status": "completed"
    },
    "tags": []
   },
   "outputs": [],
   "source": [
    "train = train[train.index.isin(cons_train_index)].copy().reset_index(drop=True)\n",
    "targets = targets[targets.index.isin(cons_train_index)].copy().reset_index(drop=True)"
   ]
  },
  {
   "cell_type": "code",
   "execution_count": 6,
   "metadata": {
    "execution": {
     "iopub.execute_input": "2020-11-04T04:18:44.592374Z",
     "iopub.status.busy": "2020-11-04T04:18:44.591510Z",
     "iopub.status.idle": "2020-11-04T04:18:44.596142Z",
     "shell.execute_reply": "2020-11-04T04:18:44.595542Z"
    },
    "papermill": {
     "duration": 0.030372,
     "end_time": "2020-11-04T04:18:44.596257",
     "exception": false,
     "start_time": "2020-11-04T04:18:44.565885",
     "status": "completed"
    },
    "tags": []
   },
   "outputs": [],
   "source": [
    "#X = train[g_feats+c_feats].copy().values\n",
    "#select = VarianceThreshold(threshold=0.7)\n",
    "#X_new = select.fit_transform(X)\n",
    "#drop_feats = list(np.array(train[g_feats+c_feats].columns)[select.get_support()==False])\n",
    "#len(drop_feats)\n",
    "\n",
    "#train.drop(drop_feats, axis=1, inplace=True)\n",
    "#test.drop(drop_feats, axis=1, inplace=True)\n",
    "\n",
    "#g_feats = [i for i in train.columns if \"g-\" in i]\n",
    "#c_feats = [i for i in train.columns if \"c-\" in i]"
   ]
  },
  {
   "cell_type": "markdown",
   "metadata": {
    "papermill": {
     "duration": 0.020905,
     "end_time": "2020-11-04T04:18:44.639660",
     "exception": false,
     "start_time": "2020-11-04T04:18:44.618755",
     "status": "completed"
    },
    "tags": []
   },
   "source": [
    "# feature engineering"
   ]
  },
  {
   "cell_type": "code",
   "execution_count": 7,
   "metadata": {
    "execution": {
     "iopub.execute_input": "2020-11-04T04:18:44.692565Z",
     "iopub.status.busy": "2020-11-04T04:18:44.691628Z",
     "iopub.status.idle": "2020-11-04T04:18:54.679379Z",
     "shell.execute_reply": "2020-11-04T04:18:54.678680Z"
    },
    "papermill": {
     "duration": 10.018553,
     "end_time": "2020-11-04T04:18:54.679519",
     "exception": false,
     "start_time": "2020-11-04T04:18:44.660966",
     "status": "completed"
    },
    "tags": []
   },
   "outputs": [],
   "source": [
    "for i in c_feats + g_feats:\n",
    "    ss = preprocessing.QuantileTransformer(n_quantiles=100, random_state=0, output_distribution=\"normal\")\n",
    "    ss.fit(train[i].values.reshape(-1,1))\n",
    "    train[i] = ss.transform(train[i].values.reshape(-1,1))\n",
    "    test[i] = ss.transform(test[i].values.reshape(-1,1))"
   ]
  },
  {
   "cell_type": "code",
   "execution_count": 8,
   "metadata": {
    "execution": {
     "iopub.execute_input": "2020-11-04T04:18:54.747049Z",
     "iopub.status.busy": "2020-11-04T04:18:54.733486Z",
     "iopub.status.idle": "2020-11-04T04:18:56.282336Z",
     "shell.execute_reply": "2020-11-04T04:18:56.281670Z"
    },
    "papermill": {
     "duration": 1.578789,
     "end_time": "2020-11-04T04:18:56.282460",
     "exception": false,
     "start_time": "2020-11-04T04:18:54.703671",
     "status": "completed"
    },
    "tags": []
   },
   "outputs": [],
   "source": [
    "c_num = 1\n",
    "pca_c_cols = [\"pca-c\"+str(i+1) for i in range(c_num)]\n",
    "pca = PCA(n_components=c_num,random_state=42)\n",
    "c_train = pca.fit_transform(train[c_feats])\n",
    "c_test = pca.transform(test[c_feats])\n",
    "c_train = pd.DataFrame(c_train, columns=pca_c_cols)\n",
    "c_test = pd.DataFrame(c_test, columns=pca_c_cols)\n",
    "\n",
    "g_num = 10\n",
    "pca_g_cols = [\"pca-g\"+str(i+1) for i in range(g_num)]\n",
    "pca = PCA(n_components=g_num, random_state=42)\n",
    "g_train = pca.fit_transform(train[g_feats])\n",
    "g_test = pca.transform(test[g_feats])\n",
    "g_train = pd.DataFrame(g_train, columns=pca_g_cols)\n",
    "g_test = pd.DataFrame(g_test, columns=pca_g_cols)\n",
    "\n",
    "train = pd.concat([train, c_train],axis=1)\n",
    "test = pd.concat([test, c_test],axis=1)\n",
    "train = pd.concat([train, g_train],axis=1)\n",
    "test = pd.concat([test, g_test],axis=1)"
   ]
  },
  {
   "cell_type": "code",
   "execution_count": 9,
   "metadata": {
    "execution": {
     "iopub.execute_input": "2020-11-04T04:18:56.336989Z",
     "iopub.status.busy": "2020-11-04T04:18:56.334578Z",
     "iopub.status.idle": "2020-11-04T04:18:56.341299Z",
     "shell.execute_reply": "2020-11-04T04:18:56.342821Z"
    },
    "papermill": {
     "duration": 0.038726,
     "end_time": "2020-11-04T04:18:56.343052",
     "exception": false,
     "start_time": "2020-11-04T04:18:56.304326",
     "status": "completed"
    },
    "tags": []
   },
   "outputs": [],
   "source": [
    "#uc_num = 1\n",
    "#um = UMAP(n_neighbors=30, n_components=uc_num, random_state=42)\n",
    "#um_c_cols = [\"um-c\"+str(i+1) for i in range(uc_num)]#\n",
    "#uc_train = um.fit_transform(train[c_feats])\n",
    "#uc_test = um.transform(test[c_feats])\n",
    "#uc_train = pd.DataFrame(uc_train, columns=um_c_cols)\n",
    "#uc_test = pd.DataFrame(uc_test, columns=um_c_cols)\n",
    "\n",
    "#ug_num = 10\n",
    "#um = UMAP(n_neighbors=30, n_components=ug_num, random_state=42)\n",
    "#um_g_cols = [\"um-g\"+str(i+1) for i in range(ug_num)]\n",
    "#ug_train = um.fit_transform(train[g_feats])\n",
    "#ug_test = um.transform(test[g_feats])\n",
    "#ug_train = pd.DataFrame(ug_train, columns=um_g_cols)\n",
    "#ug_test = pd.DataFrame(ug_test, columns=um_g_cols)\n",
    "\n",
    "#train = pd.concat([train, uc_train],axis=1)\n",
    "#test = pd.concat([test, uc_test],axis=1)\n",
    "#train = pd.concat([train, ug_train],axis=1)\n",
    "#test = pd.concat([test, ug_test],axis=1)"
   ]
  },
  {
   "cell_type": "code",
   "execution_count": 10,
   "metadata": {
    "execution": {
     "iopub.execute_input": "2020-11-04T04:18:56.395264Z",
     "iopub.status.busy": "2020-11-04T04:18:56.394250Z",
     "iopub.status.idle": "2020-11-04T04:18:56.397503Z",
     "shell.execute_reply": "2020-11-04T04:18:56.396810Z"
    },
    "papermill": {
     "duration": 0.029889,
     "end_time": "2020-11-04T04:18:56.397616",
     "exception": false,
     "start_time": "2020-11-04T04:18:56.367727",
     "status": "completed"
    },
    "tags": []
   },
   "outputs": [],
   "source": [
    "#n_clusters_g = 15\n",
    "#n_clusters_c = 5\n",
    "#def create_cluster(train, test, kind, n_clusters):\n",
    "#    if kind == \"g\":\n",
    "#        train_ = train[pca_g_cols].copy()\n",
    "#        test_ = test[pca_g_cols].copy()\n",
    "#    else:\n",
    "#        train_ = train[pca_c_cols].copy()\n",
    "#        test_ = test[pca_c_cols].copy()    \n",
    "#    kmeans = KMeans(n_clusters = n_clusters, random_state = 0).fit(train_)\n",
    "#    train[f'clusters_{kind}'] = kmeans.labels_\n",
    "#    test[f'clusters_{kind}'] = kmeans.predict(test_)\n",
    "#    train = pd.get_dummies(train, columns = [f'clusters_{kind}'])\n",
    "#    test = pd.get_dummies(test, columns = [f'clusters_{kind}'])\n",
    "#    return train, test\n",
    "    \n",
    "#train, test = create_cluster(train, test, kind = 'g', n_clusters = n_clusters_g)\n",
    "#train, test = create_cluster(train, test, kind = 'c', n_clusters = n_clusters_c)"
   ]
  },
  {
   "cell_type": "code",
   "execution_count": 11,
   "metadata": {
    "execution": {
     "iopub.execute_input": "2020-11-04T04:18:56.453692Z",
     "iopub.status.busy": "2020-11-04T04:18:56.452294Z",
     "iopub.status.idle": "2020-11-04T04:18:56.708619Z",
     "shell.execute_reply": "2020-11-04T04:18:56.709211Z"
    },
    "papermill": {
     "duration": 0.288366,
     "end_time": "2020-11-04T04:18:56.709364",
     "exception": false,
     "start_time": "2020-11-04T04:18:56.420998",
     "status": "completed"
    },
    "tags": []
   },
   "outputs": [
    {
     "name": "stdout",
     "output_type": "stream",
     "text": [
      "(21948, 885) (3982, 885)\n"
     ]
    }
   ],
   "source": [
    "def fe(df):\n",
    "    tmp = df.copy()\n",
    "    tmp.loc[:, 'cp_dose'] = tmp.loc[:, 'cp_dose'].map({'D1': 0, 'D2': 1})      \n",
    "    tmp.drop([\"sig_id\", \"cp_type\"], axis=1, inplace=True)\n",
    "    return tmp\n",
    "\n",
    "train = fe(train)\n",
    "test = fe(test)\n",
    "\n",
    "print(train.shape, test.shape)"
   ]
  },
  {
   "cell_type": "code",
   "execution_count": 12,
   "metadata": {
    "execution": {
     "iopub.execute_input": "2020-11-04T04:18:56.776558Z",
     "iopub.status.busy": "2020-11-04T04:18:56.775477Z",
     "iopub.status.idle": "2020-11-04T04:18:56.795397Z",
     "shell.execute_reply": "2020-11-04T04:18:56.795989Z"
    },
    "papermill": {
     "duration": 0.063959,
     "end_time": "2020-11-04T04:18:56.796151",
     "exception": false,
     "start_time": "2020-11-04T04:18:56.732192",
     "status": "completed"
    },
    "tags": []
   },
   "outputs": [
    {
     "data": {
      "text/html": [
       "<div>\n",
       "<style scoped>\n",
       "    .dataframe tbody tr th:only-of-type {\n",
       "        vertical-align: middle;\n",
       "    }\n",
       "\n",
       "    .dataframe tbody tr th {\n",
       "        vertical-align: top;\n",
       "    }\n",
       "\n",
       "    .dataframe thead th {\n",
       "        text-align: right;\n",
       "    }\n",
       "</style>\n",
       "<table border=\"1\" class=\"dataframe\">\n",
       "  <thead>\n",
       "    <tr style=\"text-align: right;\">\n",
       "      <th></th>\n",
       "      <th>cp_time</th>\n",
       "      <th>cp_dose</th>\n",
       "      <th>g-0</th>\n",
       "      <th>g-1</th>\n",
       "      <th>g-2</th>\n",
       "      <th>g-3</th>\n",
       "      <th>g-4</th>\n",
       "      <th>g-5</th>\n",
       "      <th>g-6</th>\n",
       "      <th>g-7</th>\n",
       "      <th>...</th>\n",
       "      <th>pca-g1</th>\n",
       "      <th>pca-g2</th>\n",
       "      <th>pca-g3</th>\n",
       "      <th>pca-g4</th>\n",
       "      <th>pca-g5</th>\n",
       "      <th>pca-g6</th>\n",
       "      <th>pca-g7</th>\n",
       "      <th>pca-g8</th>\n",
       "      <th>pca-g9</th>\n",
       "      <th>pca-g10</th>\n",
       "    </tr>\n",
       "  </thead>\n",
       "  <tbody>\n",
       "    <tr>\n",
       "      <th>0</th>\n",
       "      <td>24</td>\n",
       "      <td>0</td>\n",
       "      <td>1.111801</td>\n",
       "      <td>0.903367</td>\n",
       "      <td>-0.433829</td>\n",
       "      <td>-0.971728</td>\n",
       "      <td>-0.286559</td>\n",
       "      <td>-1.011388</td>\n",
       "      <td>-1.357431</td>\n",
       "      <td>-0.041716</td>\n",
       "      <td>...</td>\n",
       "      <td>-5.947541</td>\n",
       "      <td>-6.565323</td>\n",
       "      <td>7.922011</td>\n",
       "      <td>-7.719018</td>\n",
       "      <td>4.405187</td>\n",
       "      <td>1.806038</td>\n",
       "      <td>3.393864</td>\n",
       "      <td>1.992503</td>\n",
       "      <td>2.330853</td>\n",
       "      <td>0.229401</td>\n",
       "    </tr>\n",
       "    <tr>\n",
       "      <th>1</th>\n",
       "      <td>72</td>\n",
       "      <td>0</td>\n",
       "      <td>0.105667</td>\n",
       "      <td>0.672509</td>\n",
       "      <td>0.257486</td>\n",
       "      <td>0.086759</td>\n",
       "      <td>1.199685</td>\n",
       "      <td>0.691813</td>\n",
       "      <td>0.353695</td>\n",
       "      <td>0.558374</td>\n",
       "      <td>...</td>\n",
       "      <td>-5.162087</td>\n",
       "      <td>-0.264433</td>\n",
       "      <td>-12.554034</td>\n",
       "      <td>4.953071</td>\n",
       "      <td>0.799825</td>\n",
       "      <td>-0.025325</td>\n",
       "      <td>1.039128</td>\n",
       "      <td>-0.897690</td>\n",
       "      <td>3.815383</td>\n",
       "      <td>3.735017</td>\n",
       "    </tr>\n",
       "    <tr>\n",
       "      <th>2</th>\n",
       "      <td>48</td>\n",
       "      <td>0</td>\n",
       "      <td>0.767036</td>\n",
       "      <td>0.942499</td>\n",
       "      <td>1.408911</td>\n",
       "      <td>-0.126492</td>\n",
       "      <td>-0.028694</td>\n",
       "      <td>1.490985</td>\n",
       "      <td>0.272541</td>\n",
       "      <td>0.359490</td>\n",
       "      <td>...</td>\n",
       "      <td>0.677536</td>\n",
       "      <td>8.687788</td>\n",
       "      <td>-2.526892</td>\n",
       "      <td>0.283035</td>\n",
       "      <td>0.538570</td>\n",
       "      <td>2.956883</td>\n",
       "      <td>-2.141152</td>\n",
       "      <td>3.346174</td>\n",
       "      <td>-1.128757</td>\n",
       "      <td>-4.715069</td>\n",
       "    </tr>\n",
       "    <tr>\n",
       "      <th>3</th>\n",
       "      <td>48</td>\n",
       "      <td>0</td>\n",
       "      <td>-0.755626</td>\n",
       "      <td>-0.297077</td>\n",
       "      <td>-0.455058</td>\n",
       "      <td>0.765972</td>\n",
       "      <td>2.343522</td>\n",
       "      <td>-0.852713</td>\n",
       "      <td>-2.316440</td>\n",
       "      <td>0.301512</td>\n",
       "      <td>...</td>\n",
       "      <td>10.869688</td>\n",
       "      <td>10.066734</td>\n",
       "      <td>-0.212951</td>\n",
       "      <td>-5.016873</td>\n",
       "      <td>-7.041268</td>\n",
       "      <td>-3.342125</td>\n",
       "      <td>-3.466734</td>\n",
       "      <td>6.218932</td>\n",
       "      <td>-4.034827</td>\n",
       "      <td>0.560658</td>\n",
       "    </tr>\n",
       "    <tr>\n",
       "      <th>4</th>\n",
       "      <td>72</td>\n",
       "      <td>1</td>\n",
       "      <td>-0.468806</td>\n",
       "      <td>-0.504196</td>\n",
       "      <td>0.956769</td>\n",
       "      <td>0.975864</td>\n",
       "      <td>1.447729</td>\n",
       "      <td>-0.863807</td>\n",
       "      <td>-0.346926</td>\n",
       "      <td>-0.227072</td>\n",
       "      <td>...</td>\n",
       "      <td>-6.933980</td>\n",
       "      <td>6.061535</td>\n",
       "      <td>-8.831261</td>\n",
       "      <td>-4.482883</td>\n",
       "      <td>-7.548974</td>\n",
       "      <td>-8.808425</td>\n",
       "      <td>-2.480037</td>\n",
       "      <td>-4.121178</td>\n",
       "      <td>-1.091505</td>\n",
       "      <td>-1.924720</td>\n",
       "    </tr>\n",
       "  </tbody>\n",
       "</table>\n",
       "<p>5 rows × 885 columns</p>\n",
       "</div>"
      ],
      "text/plain": [
       "   cp_time  cp_dose       g-0       g-1       g-2       g-3       g-4  \\\n",
       "0       24        0  1.111801  0.903367 -0.433829 -0.971728 -0.286559   \n",
       "1       72        0  0.105667  0.672509  0.257486  0.086759  1.199685   \n",
       "2       48        0  0.767036  0.942499  1.408911 -0.126492 -0.028694   \n",
       "3       48        0 -0.755626 -0.297077 -0.455058  0.765972  2.343522   \n",
       "4       72        1 -0.468806 -0.504196  0.956769  0.975864  1.447729   \n",
       "\n",
       "        g-5       g-6       g-7  ...     pca-g1     pca-g2     pca-g3  \\\n",
       "0 -1.011388 -1.357431 -0.041716  ...  -5.947541  -6.565323   7.922011   \n",
       "1  0.691813  0.353695  0.558374  ...  -5.162087  -0.264433 -12.554034   \n",
       "2  1.490985  0.272541  0.359490  ...   0.677536   8.687788  -2.526892   \n",
       "3 -0.852713 -2.316440  0.301512  ...  10.869688  10.066734  -0.212951   \n",
       "4 -0.863807 -0.346926 -0.227072  ...  -6.933980   6.061535  -8.831261   \n",
       "\n",
       "     pca-g4    pca-g5    pca-g6    pca-g7    pca-g8    pca-g9   pca-g10  \n",
       "0 -7.719018  4.405187  1.806038  3.393864  1.992503  2.330853  0.229401  \n",
       "1  4.953071  0.799825 -0.025325  1.039128 -0.897690  3.815383  3.735017  \n",
       "2  0.283035  0.538570  2.956883 -2.141152  3.346174 -1.128757 -4.715069  \n",
       "3 -5.016873 -7.041268 -3.342125 -3.466734  6.218932 -4.034827  0.560658  \n",
       "4 -4.482883 -7.548974 -8.808425 -2.480037 -4.121178 -1.091505 -1.924720  \n",
       "\n",
       "[5 rows x 885 columns]"
      ]
     },
     "execution_count": 12,
     "metadata": {},
     "output_type": "execute_result"
    }
   ],
   "source": [
    "train.head()"
   ]
  },
  {
   "cell_type": "code",
   "execution_count": 13,
   "metadata": {
    "execution": {
     "iopub.execute_input": "2020-11-04T04:18:56.851064Z",
     "iopub.status.busy": "2020-11-04T04:18:56.849701Z",
     "iopub.status.idle": "2020-11-04T04:18:57.014254Z",
     "shell.execute_reply": "2020-11-04T04:18:57.013617Z"
    },
    "papermill": {
     "duration": 0.194214,
     "end_time": "2020-11-04T04:18:57.014383",
     "exception": false,
     "start_time": "2020-11-04T04:18:56.820169",
     "status": "completed"
    },
    "tags": []
   },
   "outputs": [],
   "source": [
    "fn_train = train.copy().to_numpy()\n",
    "fn_test = test.copy().to_numpy()\n",
    "    \n",
    "fn_targets = targets.drop(\"sig_id\", axis=1).copy().to_numpy()"
   ]
  },
  {
   "cell_type": "code",
   "execution_count": 14,
   "metadata": {
    "execution": {
     "iopub.execute_input": "2020-11-04T04:18:57.069070Z",
     "iopub.status.busy": "2020-11-04T04:18:57.068109Z",
     "iopub.status.idle": "2020-11-04T04:18:57.072518Z",
     "shell.execute_reply": "2020-11-04T04:18:57.071817Z"
    },
    "papermill": {
     "duration": 0.034107,
     "end_time": "2020-11-04T04:18:57.072629",
     "exception": false,
     "start_time": "2020-11-04T04:18:57.038522",
     "status": "completed"
    },
    "tags": []
   },
   "outputs": [
    {
     "data": {
      "text/plain": [
       "((21948, 885), (3982, 885), (21948, 206))"
      ]
     },
     "execution_count": 14,
     "metadata": {},
     "output_type": "execute_result"
    }
   ],
   "source": [
    "fn_train.shape, fn_test.shape, fn_targets.shape"
   ]
  },
  {
   "cell_type": "markdown",
   "metadata": {
    "papermill": {
     "duration": 0.023896,
     "end_time": "2020-11-04T04:18:57.120950",
     "exception": false,
     "start_time": "2020-11-04T04:18:57.097054",
     "status": "completed"
    },
    "tags": []
   },
   "source": [
    "# modelling"
   ]
  },
  {
   "cell_type": "code",
   "execution_count": 15,
   "metadata": {
    "execution": {
     "iopub.execute_input": "2020-11-04T04:18:57.178813Z",
     "iopub.status.busy": "2020-11-04T04:18:57.177727Z",
     "iopub.status.idle": "2020-11-04T04:18:57.180395Z",
     "shell.execute_reply": "2020-11-04T04:18:57.180941Z"
    },
    "papermill": {
     "duration": 0.035928,
     "end_time": "2020-11-04T04:18:57.181084",
     "exception": false,
     "start_time": "2020-11-04T04:18:57.145156",
     "status": "completed"
    },
    "tags": []
   },
   "outputs": [],
   "source": [
    "class LogitsLogLoss(Metric):\n",
    "    def __init__(self):\n",
    "        self._name = \"logits_ll\"\n",
    "        self._maximize = False\n",
    "\n",
    "    def __call__(self, y_true, y_pred):\n",
    "\n",
    "        logits = 1 / (1 + np.exp(-y_pred))\n",
    "        \n",
    "        aux = (1-y_true)*np.log(1-logits+1e-15) + y_true*np.log(logits+1e-15)\n",
    "        return np.mean(-aux)"
   ]
  },
  {
   "cell_type": "code",
   "execution_count": 16,
   "metadata": {
    "execution": {
     "iopub.execute_input": "2020-11-04T04:18:57.249649Z",
     "iopub.status.busy": "2020-11-04T04:18:57.239333Z",
     "iopub.status.idle": "2020-11-04T04:48:11.248519Z",
     "shell.execute_reply": "2020-11-04T04:48:11.247403Z"
    },
    "papermill": {
     "duration": 1754.043231,
     "end_time": "2020-11-04T04:48:11.248781",
     "exception": false,
     "start_time": "2020-11-04T04:18:57.205550",
     "status": "completed"
    },
    "tags": []
   },
   "outputs": [
    {
     "name": "stdout",
     "output_type": "stream",
     "text": [
      "FOLDS :  1\n",
      "Device used : cuda\n",
      "epoch 0  | loss: 0.24635 | val_logits_ll: 0.02777 |  0:00:02s\n",
      "epoch 10 | loss: 0.01777 | val_logits_ll: 0.02051 |  0:00:13s\n",
      "epoch 20 | loss: 0.01691 | val_logits_ll: 0.0174  |  0:00:26s\n",
      "epoch 30 | loss: 0.01644 | val_logits_ll: 0.01686 |  0:00:37s\n",
      "epoch 40 | loss: 0.01612 | val_logits_ll: 0.01661 |  0:00:48s\n",
      "epoch 50 | loss: 0.016   | val_logits_ll: 0.01694 |  0:00:59s\n",
      "epoch 60 | loss: 0.01583 | val_logits_ll: 0.0166  |  0:01:11s\n",
      "epoch 70 | loss: 0.01544 | val_logits_ll: 0.01661 |  0:01:22s\n",
      "epoch 80 | loss: 0.01532 | val_logits_ll: 0.01684 |  0:01:34s\n",
      "epoch 90 | loss: 0.01494 | val_logits_ll: 0.01654 |  0:01:46s\n",
      "\n",
      "Early stopping occured at epoch 97 with best_epoch = 77 and best_val_logits_ll = 0.01651\n",
      "Best weights from best epoch are automatically used!\n",
      "FOLDS :  2\n",
      "Device used : cuda\n",
      "epoch 0  | loss: 0.24705 | val_logits_ll: 0.02829 |  0:00:01s\n",
      "epoch 10 | loss: 0.01776 | val_logits_ll: 0.01893 |  0:00:12s\n",
      "epoch 20 | loss: 0.01677 | val_logits_ll: 0.01766 |  0:00:24s\n",
      "epoch 30 | loss: 0.01642 | val_logits_ll: 0.01728 |  0:00:36s\n",
      "epoch 40 | loss: 0.01629 | val_logits_ll: 0.0172  |  0:00:47s\n",
      "epoch 50 | loss: 0.01611 | val_logits_ll: 0.01701 |  0:00:58s\n",
      "epoch 60 | loss: 0.01594 | val_logits_ll: 0.01703 |  0:01:09s\n",
      "epoch 70 | loss: 0.01596 | val_logits_ll: 0.01715 |  0:01:20s\n",
      "epoch 80 | loss: 0.0157  | val_logits_ll: 0.01681 |  0:01:33s\n",
      "epoch 90 | loss: 0.01548 | val_logits_ll: 0.01693 |  0:01:44s\n",
      "epoch 100| loss: 0.01533 | val_logits_ll: 0.01686 |  0:01:56s\n",
      "epoch 110| loss: 0.01507 | val_logits_ll: 0.01696 |  0:02:07s\n",
      "\n",
      "Early stopping occured at epoch 118 with best_epoch = 98 and best_val_logits_ll = 0.01675\n",
      "Best weights from best epoch are automatically used!\n",
      "FOLDS :  3\n",
      "Device used : cuda\n",
      "epoch 0  | loss: 0.24592 | val_logits_ll: 0.02667 |  0:00:01s\n",
      "epoch 10 | loss: 0.01793 | val_logits_ll: 0.01893 |  0:00:14s\n",
      "epoch 20 | loss: 0.01703 | val_logits_ll: 0.01751 |  0:00:25s\n",
      "epoch 30 | loss: 0.01644 | val_logits_ll: 0.01786 |  0:00:36s\n",
      "epoch 40 | loss: 0.01615 | val_logits_ll: 0.01703 |  0:00:47s\n",
      "epoch 50 | loss: 0.01605 | val_logits_ll: 0.01735 |  0:00:58s\n",
      "epoch 60 | loss: 0.0158  | val_logits_ll: 0.01701 |  0:01:10s\n",
      "epoch 70 | loss: 0.01549 | val_logits_ll: 0.01707 |  0:01:23s\n",
      "epoch 80 | loss: 0.0153  | val_logits_ll: 0.01795 |  0:01:34s\n",
      "epoch 90 | loss: 0.015   | val_logits_ll: 0.01706 |  0:01:46s\n",
      "\n",
      "Early stopping occured at epoch 91 with best_epoch = 71 and best_val_logits_ll = 0.01683\n",
      "Best weights from best epoch are automatically used!\n",
      "FOLDS :  4\n",
      "Device used : cuda\n",
      "epoch 0  | loss: 0.2493  | val_logits_ll: 0.02773 |  0:00:01s\n",
      "epoch 10 | loss: 0.01782 | val_logits_ll: 0.01852 |  0:00:12s\n",
      "epoch 20 | loss: 0.01682 | val_logits_ll: 0.01733 |  0:00:25s\n",
      "epoch 30 | loss: 0.01652 | val_logits_ll: 0.01739 |  0:00:37s\n",
      "epoch 40 | loss: 0.01603 | val_logits_ll: 0.01693 |  0:00:48s\n",
      "epoch 50 | loss: 0.01602 | val_logits_ll: 0.01688 |  0:01:00s\n",
      "epoch 60 | loss: 0.0158  | val_logits_ll: 0.01666 |  0:01:12s\n",
      "epoch 70 | loss: 0.01615 | val_logits_ll: 0.01674 |  0:01:24s\n",
      "epoch 80 | loss: 0.01536 | val_logits_ll: 0.01699 |  0:01:37s\n",
      "epoch 90 | loss: 0.01501 | val_logits_ll: 0.01682 |  0:01:48s\n",
      "epoch 100| loss: 0.01468 | val_logits_ll: 0.01685 |  0:01:59s\n",
      "\n",
      "Early stopping occured at epoch 105 with best_epoch = 85 and best_val_logits_ll = 0.01663\n",
      "Best weights from best epoch are automatically used!\n",
      "FOLDS :  5\n",
      "Device used : cuda\n",
      "epoch 0  | loss: 0.2435  | val_logits_ll: 0.02713 |  0:00:01s\n",
      "epoch 10 | loss: 0.01773 | val_logits_ll: 0.01873 |  0:00:13s\n",
      "epoch 20 | loss: 0.01686 | val_logits_ll: 0.01742 |  0:00:26s\n",
      "epoch 30 | loss: 0.01662 | val_logits_ll: 0.0171  |  0:00:38s\n",
      "epoch 40 | loss: 0.01629 | val_logits_ll: 0.01712 |  0:00:49s\n",
      "epoch 50 | loss: 0.01613 | val_logits_ll: 0.01703 |  0:01:00s\n",
      "epoch 60 | loss: 0.01614 | val_logits_ll: 0.01698 |  0:01:13s\n",
      "epoch 70 | loss: 0.01585 | val_logits_ll: 0.01703 |  0:01:25s\n",
      "epoch 80 | loss: 0.01563 | val_logits_ll: 0.01686 |  0:01:36s\n",
      "epoch 90 | loss: 0.01519 | val_logits_ll: 0.01684 |  0:01:48s\n",
      "epoch 100| loss: 0.01484 | val_logits_ll: 0.01674 |  0:02:00s\n",
      "\n",
      "Early stopping occured at epoch 101 with best_epoch = 81 and best_val_logits_ll = 0.0167\n",
      "Best weights from best epoch are automatically used!\n",
      "OOF log loss: 0.016685531401710547\n",
      "Overall AUC : 0.7531437475767528\n",
      "FOLDS :  1\n",
      "Device used : cuda\n",
      "epoch 0  | loss: 0.24128 | val_logits_ll: 0.02708 |  0:00:01s\n",
      "epoch 10 | loss: 0.01801 | val_logits_ll: 0.01814 |  0:00:14s\n",
      "epoch 20 | loss: 0.01693 | val_logits_ll: 0.01752 |  0:00:25s\n",
      "epoch 30 | loss: 0.01641 | val_logits_ll: 0.01728 |  0:00:37s\n",
      "epoch 40 | loss: 0.01601 | val_logits_ll: 0.01762 |  0:00:48s\n",
      "epoch 50 | loss: 0.01569 | val_logits_ll: 0.01683 |  0:01:00s\n",
      "epoch 60 | loss: 0.01577 | val_logits_ll: 0.017   |  0:01:13s\n",
      "epoch 70 | loss: 0.01539 | val_logits_ll: 0.01678 |  0:01:25s\n",
      "epoch 80 | loss: 0.01504 | val_logits_ll: 0.01754 |  0:01:36s\n",
      "\n",
      "Early stopping occured at epoch 85 with best_epoch = 65 and best_val_logits_ll = 0.01658\n",
      "Best weights from best epoch are automatically used!\n",
      "FOLDS :  2\n",
      "Device used : cuda\n",
      "epoch 0  | loss: 0.24051 | val_logits_ll: 0.02623 |  0:00:01s\n",
      "epoch 10 | loss: 0.01773 | val_logits_ll: 0.01824 |  0:00:12s\n",
      "epoch 20 | loss: 0.01664 | val_logits_ll: 0.01744 |  0:00:25s\n",
      "epoch 30 | loss: 0.01642 | val_logits_ll: 0.01738 |  0:00:38s\n",
      "epoch 40 | loss: 0.0162  | val_logits_ll: 0.01707 |  0:00:49s\n",
      "epoch 50 | loss: 0.01599 | val_logits_ll: 0.01691 |  0:01:00s\n",
      "epoch 60 | loss: 0.01579 | val_logits_ll: 0.017   |  0:01:12s\n",
      "epoch 70 | loss: 0.01561 | val_logits_ll: 0.01701 |  0:01:25s\n",
      "epoch 80 | loss: 0.01531 | val_logits_ll: 0.01702 |  0:01:37s\n",
      "\n",
      "Early stopping occured at epoch 84 with best_epoch = 64 and best_val_logits_ll = 0.01681\n",
      "Best weights from best epoch are automatically used!\n",
      "FOLDS :  3\n",
      "Device used : cuda\n",
      "epoch 0  | loss: 0.23875 | val_logits_ll: 0.02668 |  0:00:01s\n",
      "epoch 10 | loss: 0.01801 | val_logits_ll: 0.0194  |  0:00:12s\n",
      "epoch 20 | loss: 0.01676 | val_logits_ll: 0.01752 |  0:00:24s\n",
      "epoch 30 | loss: 0.01645 | val_logits_ll: 0.01788 |  0:00:35s\n",
      "epoch 40 | loss: 0.01621 | val_logits_ll: 0.01749 |  0:00:48s\n",
      "epoch 50 | loss: 0.01606 | val_logits_ll: 0.01692 |  0:01:00s\n",
      "epoch 60 | loss: 0.01588 | val_logits_ll: 0.0171  |  0:01:11s\n",
      "epoch 70 | loss: 0.01575 | val_logits_ll: 0.01695 |  0:01:23s\n",
      "epoch 80 | loss: 0.01544 | val_logits_ll: 0.01694 |  0:01:35s\n",
      "epoch 90 | loss: 0.01532 | val_logits_ll: 0.01686 |  0:01:48s\n",
      "epoch 100| loss: 0.01488 | val_logits_ll: 0.01701 |  0:02:00s\n",
      "epoch 110| loss: 0.01458 | val_logits_ll: 0.01691 |  0:02:12s\n",
      "epoch 120| loss: 0.01417 | val_logits_ll: 0.01716 |  0:02:23s\n",
      "\n",
      "Early stopping occured at epoch 123 with best_epoch = 103 and best_val_logits_ll = 0.01667\n",
      "Best weights from best epoch are automatically used!\n",
      "FOLDS :  4\n",
      "Device used : cuda\n",
      "epoch 0  | loss: 0.24009 | val_logits_ll: 0.02596 |  0:00:01s\n",
      "epoch 10 | loss: 0.01791 | val_logits_ll: 0.01865 |  0:00:14s\n",
      "epoch 20 | loss: 0.01675 | val_logits_ll: 0.0174  |  0:00:26s\n",
      "epoch 30 | loss: 0.01625 | val_logits_ll: 0.01712 |  0:00:37s\n",
      "epoch 40 | loss: 0.01604 | val_logits_ll: 0.01766 |  0:00:49s\n",
      "epoch 50 | loss: 0.01578 | val_logits_ll: 0.0169  |  0:01:01s\n",
      "epoch 60 | loss: 0.01582 | val_logits_ll: 0.01697 |  0:01:14s\n",
      "epoch 70 | loss: 0.01546 | val_logits_ll: 0.01692 |  0:01:26s\n",
      "\n",
      "Early stopping occured at epoch 74 with best_epoch = 54 and best_val_logits_ll = 0.01649\n",
      "Best weights from best epoch are automatically used!\n",
      "FOLDS :  5\n",
      "Device used : cuda\n",
      "epoch 0  | loss: 0.24033 | val_logits_ll: 0.02651 |  0:00:01s\n",
      "epoch 10 | loss: 0.01781 | val_logits_ll: 0.01841 |  0:00:13s\n",
      "epoch 20 | loss: 0.0169  | val_logits_ll: 0.01739 |  0:00:24s\n",
      "epoch 30 | loss: 0.01636 | val_logits_ll: 0.01718 |  0:00:36s\n",
      "epoch 40 | loss: 0.01588 | val_logits_ll: 0.01684 |  0:00:49s\n",
      "epoch 50 | loss: 0.01587 | val_logits_ll: 0.01704 |  0:01:00s\n",
      "epoch 60 | loss: 0.01557 | val_logits_ll: 0.01763 |  0:01:12s\n",
      "epoch 70 | loss: 0.01522 | val_logits_ll: 0.01688 |  0:01:24s\n",
      "\n",
      "Early stopping occured at epoch 76 with best_epoch = 56 and best_val_logits_ll = 0.01674\n",
      "Best weights from best epoch are automatically used!\n",
      "OOF log loss: 0.0166585418371477\n",
      "Overall AUC : 0.7554529854780966\n",
      "FOLDS :  1\n",
      "Device used : cuda\n",
      "epoch 0  | loss: 0.26358 | val_logits_ll: 0.02807 |  0:00:01s\n",
      "epoch 10 | loss: 0.01779 | val_logits_ll: 0.01825 |  0:00:14s\n",
      "epoch 20 | loss: 0.01699 | val_logits_ll: 0.0174  |  0:00:25s\n",
      "epoch 30 | loss: 0.01655 | val_logits_ll: 0.01707 |  0:00:36s\n",
      "epoch 40 | loss: 0.0163  | val_logits_ll: 0.01682 |  0:00:48s\n",
      "epoch 50 | loss: 0.01603 | val_logits_ll: 0.01681 |  0:01:00s\n",
      "epoch 60 | loss: 0.0158  | val_logits_ll: 0.01661 |  0:01:12s\n",
      "epoch 70 | loss: 0.01566 | val_logits_ll: 0.01691 |  0:01:24s\n",
      "epoch 80 | loss: 0.01541 | val_logits_ll: 0.01658 |  0:01:35s\n",
      "epoch 90 | loss: 0.0151  | val_logits_ll: 0.01678 |  0:01:47s\n",
      "epoch 100| loss: 0.01483 | val_logits_ll: 0.01698 |  0:01:59s\n",
      "\n",
      "Early stopping occured at epoch 100 with best_epoch = 80 and best_val_logits_ll = 0.01658\n",
      "Best weights from best epoch are automatically used!\n",
      "FOLDS :  2\n",
      "Device used : cuda\n",
      "epoch 0  | loss: 0.2667  | val_logits_ll: 0.02888 |  0:00:01s\n",
      "epoch 10 | loss: 0.01782 | val_logits_ll: 0.0187  |  0:00:13s\n",
      "epoch 20 | loss: 0.0167  | val_logits_ll: 0.01771 |  0:00:26s\n",
      "epoch 30 | loss: 0.01619 | val_logits_ll: 0.0172  |  0:00:37s\n",
      "epoch 40 | loss: 0.01609 | val_logits_ll: 0.01722 |  0:00:48s\n",
      "epoch 50 | loss: 0.01591 | val_logits_ll: 0.01686 |  0:01:01s\n",
      "epoch 60 | loss: 0.01571 | val_logits_ll: 0.01758 |  0:01:13s\n",
      "epoch 70 | loss: 0.01532 | val_logits_ll: 0.01704 |  0:01:25s\n",
      "\n",
      "Early stopping occured at epoch 70 with best_epoch = 50 and best_val_logits_ll = 0.01686\n",
      "Best weights from best epoch are automatically used!\n",
      "FOLDS :  3\n",
      "Device used : cuda\n",
      "epoch 0  | loss: 0.26403 | val_logits_ll: 0.02808 |  0:00:01s\n",
      "epoch 10 | loss: 0.01806 | val_logits_ll: 0.01846 |  0:00:13s\n",
      "epoch 20 | loss: 0.01697 | val_logits_ll: 0.01765 |  0:00:24s\n",
      "epoch 30 | loss: 0.01659 | val_logits_ll: 0.01744 |  0:00:38s\n",
      "epoch 40 | loss: 0.01619 | val_logits_ll: 0.01706 |  0:00:49s\n",
      "epoch 50 | loss: 0.01624 | val_logits_ll: 0.01697 |  0:01:01s\n",
      "epoch 60 | loss: 0.01608 | val_logits_ll: 0.01724 |  0:01:13s\n",
      "epoch 70 | loss: 0.01583 | val_logits_ll: 0.01702 |  0:01:24s\n",
      "epoch 80 | loss: 0.01554 | val_logits_ll: 0.01696 |  0:01:36s\n",
      "epoch 90 | loss: 0.01513 | val_logits_ll: 0.01682 |  0:01:49s\n",
      "\n",
      "Early stopping occured at epoch 91 with best_epoch = 71 and best_val_logits_ll = 0.01672\n",
      "Best weights from best epoch are automatically used!\n",
      "FOLDS :  4\n",
      "Device used : cuda\n",
      "epoch 0  | loss: 0.26388 | val_logits_ll: 0.02816 |  0:00:01s\n",
      "epoch 10 | loss: 0.01833 | val_logits_ll: 0.0185  |  0:00:12s\n",
      "epoch 20 | loss: 0.01695 | val_logits_ll: 0.01824 |  0:00:25s\n",
      "epoch 30 | loss: 0.01664 | val_logits_ll: 0.01726 |  0:00:36s\n",
      "epoch 40 | loss: 0.01638 | val_logits_ll: 0.0169  |  0:00:49s\n",
      "epoch 50 | loss: 0.01603 | val_logits_ll: 0.01676 |  0:01:01s\n",
      "epoch 60 | loss: 0.01589 | val_logits_ll: 0.0169  |  0:01:13s\n",
      "epoch 70 | loss: 0.01603 | val_logits_ll: 0.0172  |  0:01:25s\n",
      "epoch 80 | loss: 0.0156  | val_logits_ll: 0.0166  |  0:01:37s\n",
      "epoch 90 | loss: 0.01546 | val_logits_ll: 0.01676 |  0:01:49s\n",
      "epoch 100| loss: 0.01511 | val_logits_ll: 0.0167  |  0:02:02s\n",
      "epoch 110| loss: 0.01472 | val_logits_ll: 0.01671 |  0:02:13s\n",
      "epoch 120| loss: 0.01435 | val_logits_ll: 0.01666 |  0:02:25s\n",
      "\n",
      "Early stopping occured at epoch 121 with best_epoch = 101 and best_val_logits_ll = 0.0165\n",
      "Best weights from best epoch are automatically used!\n",
      "FOLDS :  5\n",
      "Device used : cuda\n",
      "epoch 0  | loss: 0.26529 | val_logits_ll: 0.02762 |  0:00:01s\n",
      "epoch 10 | loss: 0.01788 | val_logits_ll: 0.01812 |  0:00:13s\n",
      "epoch 20 | loss: 0.01674 | val_logits_ll: 0.02081 |  0:00:26s\n",
      "epoch 30 | loss: 0.01641 | val_logits_ll: 0.01706 |  0:00:38s\n",
      "epoch 40 | loss: 0.01614 | val_logits_ll: 0.01705 |  0:00:49s\n",
      "epoch 50 | loss: 0.0159  | val_logits_ll: 0.01697 |  0:01:01s\n",
      "epoch 60 | loss: 0.01562 | val_logits_ll: 0.0169  |  0:01:13s\n",
      "epoch 70 | loss: 0.01544 | val_logits_ll: 0.01703 |  0:01:25s\n",
      "epoch 80 | loss: 0.01524 | val_logits_ll: 0.01676 |  0:01:37s\n",
      "epoch 90 | loss: 0.01477 | val_logits_ll: 0.01684 |  0:01:49s\n",
      "\n",
      "Early stopping occured at epoch 95 with best_epoch = 75 and best_val_logits_ll = 0.0167\n",
      "Best weights from best epoch are automatically used!\n",
      "OOF log loss: 0.016671716948884766\n",
      "Overall AUC : 0.7526166244272903\n"
     ]
    }
   ],
   "source": [
    "MAX_EPOCH=200\n",
    "device = \"cuda\" if torch.cuda.is_available() else \"cpu\"\n",
    "\n",
    "def seed_everything(seed_value):\n",
    "    random.seed(seed_value)\n",
    "    np.random.seed(seed_value)\n",
    "    torch.manual_seed(seed_value)\n",
    "    os.environ['PYTHONHASHSEED'] = str(seed_value)\n",
    "    \n",
    "    if torch.cuda.is_available(): \n",
    "        torch.cuda.manual_seed(seed_value)\n",
    "        torch.cuda.manual_seed_all(seed_value)\n",
    "        torch.backends.cudnn.deterministic = True\n",
    "        torch.backends.cudnn.benchmark = False\n",
    "\n",
    "def modelling_tabnet(tr, target, te, sample_seed):\n",
    "    seed_everything(sample_seed) \n",
    "    tabnet_params = dict(n_d=24, n_a=24, n_steps=1, gamma=1.5, seed = sample_seed,\n",
    "                     lambda_sparse=0, n_independent=1, n_shared=1, \n",
    "                     optimizer_fn=torch.optim.Adam,\n",
    "                     optimizer_params=dict(lr=2e-2, weight_decay=1e-5),\n",
    "                     mask_type='entmax',\n",
    "                     scheduler_params=dict(mode=\"min\",\n",
    "                                           patience=5,\n",
    "                                           min_lr=1e-5,\n",
    "                                           factor=0.9,),\n",
    "                     scheduler_fn=torch.optim.lr_scheduler.ReduceLROnPlateau,\n",
    "                     verbose=10,\n",
    "                     )\n",
    "    test_cv_preds = []\n",
    "\n",
    "    NB_SPLITS = 5\n",
    "    mskf = MultilabelStratifiedKFold(n_splits=NB_SPLITS, random_state=0, shuffle=True)\n",
    "    oof_preds = np.zeros([len(tr),target.shape[1]])\n",
    "    scores = []\n",
    "    for fold_nb, (train_idx, val_idx) in enumerate(mskf.split(train, target)):\n",
    "        print(\"FOLDS : \", fold_nb+1)\n",
    "\n",
    "        ## model\n",
    "        X_train, y_train = tr[train_idx, :], target[train_idx, :]\n",
    "        X_val, y_val = tr[val_idx, :], target[val_idx, :]\n",
    "        model = TabNetRegressor(**tabnet_params)\n",
    "    \n",
    "        model.fit(X_train=X_train,\n",
    "              y_train=y_train,\n",
    "              eval_set=[(X_val, y_val)],\n",
    "              eval_name = [\"val\"],\n",
    "              eval_metric = [\"logits_ll\"],\n",
    "              max_epochs=MAX_EPOCH,\n",
    "              patience=20, batch_size=512, virtual_batch_size=128,\n",
    "              num_workers=1, drop_last=False,\n",
    "              # use binary cross entropy as this is not a regression problem\n",
    "              loss_fn=torch.nn.functional.binary_cross_entropy_with_logits) \n",
    "    \n",
    "        preds_val = model.predict(X_val)\n",
    "        # Apply sigmoid to the predictions\n",
    "        preds =  1 / (1 + np.exp(-preds_val))\n",
    "        score = np.min(model.history[\"val_logits_ll\"])\n",
    "        oof_preds[val_idx,:] = preds\n",
    "        scores.append(score)\n",
    "\n",
    "        # preds on test\n",
    "        preds_test = model.predict(te)\n",
    "        test_cv_preds.append(1 / (1 + np.exp(-preds_test)))\n",
    "        \n",
    "    test_preds_all = np.stack(test_cv_preds)\n",
    "    print(\"OOF log loss:\", log_loss(np.ravel(target), np.ravel(np.array(oof_preds))))\n",
    "    aucs = []\n",
    "    for task_id in range(206):\n",
    "        aucs.append(roc_auc_score(y_true=target[:, task_id],y_score=oof_preds[:, task_id]))\n",
    "    print(f\"Overall AUC : {np.mean(aucs)}\")\n",
    "    return oof_preds, test_preds_all\n",
    "\n",
    "target_oof = np.zeros([len(fn_train),fn_targets.shape[1]])\n",
    "target_pred = np.zeros([len(fn_test),fn_targets.shape[1]])\n",
    "\n",
    "seeds = [0,100,2]\n",
    "for seed_ in seeds:\n",
    "    oof_preds, test_preds_all = modelling_tabnet(fn_train, fn_targets, fn_test, seed_)\n",
    "    target_oof += oof_preds / len(seeds)\n",
    "    target_pred += test_preds_all.mean(axis=0) / len(seeds)"
   ]
  },
  {
   "cell_type": "code",
   "execution_count": 17,
   "metadata": {
    "execution": {
     "iopub.execute_input": "2020-11-04T04:48:11.464918Z",
     "iopub.status.busy": "2020-11-04T04:48:11.463849Z",
     "iopub.status.idle": "2020-11-04T04:48:12.874023Z",
     "shell.execute_reply": "2020-11-04T04:48:12.873041Z"
    },
    "papermill": {
     "duration": 1.520103,
     "end_time": "2020-11-04T04:48:12.874152",
     "exception": false,
     "start_time": "2020-11-04T04:48:11.354049",
     "status": "completed"
    },
    "tags": []
   },
   "outputs": [
    {
     "name": "stdout",
     "output_type": "stream",
     "text": [
      "Overall AUC : 0.777312424402112\n"
     ]
    }
   ],
   "source": [
    "aucs = []\n",
    "for task_id in range(targets.shape[1]-1):\n",
    "    aucs.append(roc_auc_score(y_true=targets.iloc[:, task_id+1].values,\n",
    "                              y_score=target_oof[:, task_id]))\n",
    "print(f\"Overall AUC : {np.mean(aucs)}\")"
   ]
  },
  {
   "cell_type": "code",
   "execution_count": 18,
   "metadata": {
    "execution": {
     "iopub.execute_input": "2020-11-04T04:48:13.086878Z",
     "iopub.status.busy": "2020-11-04T04:48:13.085866Z",
     "iopub.status.idle": "2020-11-04T04:48:21.623858Z",
     "shell.execute_reply": "2020-11-04T04:48:21.624915Z"
    },
    "papermill": {
     "duration": 8.652001,
     "end_time": "2020-11-04T04:48:21.625283",
     "exception": false,
     "start_time": "2020-11-04T04:48:12.973282",
     "status": "completed"
    },
    "tags": []
   },
   "outputs": [
    {
     "name": "stdout",
     "output_type": "stream",
     "text": [
      "OOF log loss:  0.01488423472199443\n",
      "OOF log loss:  0.015138063540444575\n"
     ]
    }
   ],
   "source": [
    "p_min = 0.001\n",
    "p_max = 1 - p_min\n",
    "\n",
    "t = pd.read_csv(DATA_DIR + 'train_targets_scored.csv')\n",
    "train_checkscore = t.copy()\n",
    "train_checkscore.loc[train_checkscore.index.isin(cons_train_index),target_feats] = target_oof\n",
    "train_checkscore.loc[train_checkscore.index.isin(noncons_train_index),target_feats] = 0\n",
    "\n",
    "t.drop(\"sig_id\", axis=1, inplace=True)\n",
    "print('OOF log loss: ', log_loss(np.ravel(t), np.ravel(np.array(train_checkscore.iloc[:,1:]))))\n",
    "print('OOF log loss: ', log_loss(np.ravel(t), np.ravel(np.clip(np.array(train_checkscore.iloc[:,1:]),p_min, p_max))))"
   ]
  },
  {
   "cell_type": "code",
   "execution_count": 19,
   "metadata": {
    "execution": {
     "iopub.execute_input": "2020-11-04T04:48:21.942563Z",
     "iopub.status.busy": "2020-11-04T04:48:21.937426Z",
     "iopub.status.idle": "2020-11-04T04:48:24.581494Z",
     "shell.execute_reply": "2020-11-04T04:48:24.582568Z"
    },
    "papermill": {
     "duration": 2.80378,
     "end_time": "2020-11-04T04:48:24.582854",
     "exception": false,
     "start_time": "2020-11-04T04:48:21.779074",
     "status": "completed"
    },
    "tags": []
   },
   "outputs": [],
   "source": [
    "sub[target_feats] = np.clip(target_pred, p_min, p_max)\n",
    "sub.loc[noncons_test_index,target_feats] = 0\n",
    "sub.to_csv('submission.csv', index=False)"
   ]
  },
  {
   "cell_type": "code",
   "execution_count": null,
   "metadata": {
    "papermill": {
     "duration": 0.278948,
     "end_time": "2020-11-04T04:48:25.102077",
     "exception": false,
     "start_time": "2020-11-04T04:48:24.823129",
     "status": "completed"
    },
    "tags": []
   },
   "outputs": [],
   "source": []
  }
 ],
 "metadata": {
  "kernelspec": {
   "display_name": "Python 3",
   "language": "python",
   "name": "python3"
  },
  "language_info": {
   "codemirror_mode": {
    "name": "ipython",
    "version": 3
   },
   "file_extension": ".py",
   "mimetype": "text/x-python",
   "name": "python",
   "nbconvert_exporter": "python",
   "pygments_lexer": "ipython3",
   "version": "3.7.6"
  },
  "papermill": {
   "duration": 1816.910641,
   "end_time": "2020-11-04T04:48:26.443595",
   "environment_variables": {},
   "exception": null,
   "input_path": "__notebook__.ipynb",
   "output_path": "__notebook__.ipynb",
   "parameters": {},
   "start_time": "2020-11-04T04:18:09.532954",
   "version": "2.1.0"
  }
 },
 "nbformat": 4,
 "nbformat_minor": 4
}
