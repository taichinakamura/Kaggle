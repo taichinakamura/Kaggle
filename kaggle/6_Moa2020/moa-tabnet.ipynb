{
 "cells": [
  {
   "cell_type": "markdown",
   "metadata": {
    "papermill": {
     "duration": 0.019956,
     "end_time": "2020-11-02T01:48:21.995416",
     "exception": false,
     "start_time": "2020-11-02T01:48:21.975460",
     "status": "completed"
    },
    "tags": []
   },
   "source": [
    "- add umap features **\n",
    "- 3 ensemble (5 folds)\n",
    "- change params (momentum)"
   ]
  },
  {
   "cell_type": "code",
   "execution_count": 1,
   "metadata": {
    "execution": {
     "iopub.execute_input": "2020-11-02T01:48:22.040335Z",
     "iopub.status.busy": "2020-11-02T01:48:22.039428Z",
     "iopub.status.idle": "2020-11-02T01:48:32.145334Z",
     "shell.execute_reply": "2020-11-02T01:48:32.144641Z"
    },
    "papermill": {
     "duration": 10.130956,
     "end_time": "2020-11-02T01:48:32.145485",
     "exception": false,
     "start_time": "2020-11-02T01:48:22.014529",
     "status": "completed"
    },
    "tags": []
   },
   "outputs": [
    {
     "name": "stdout",
     "output_type": "stream",
     "text": [
      "Looking in links: /kaggle/input/pytorchtabnet/pytorch_tabnet-2.0.0-py3-none-any.whl\r\n",
      "Processing /kaggle/input/pytorchtabnet/pytorch_tabnet-2.0.0-py3-none-any.whl\r\n",
      "Requirement already satisfied: tqdm<5.0,>=4.36 in /opt/conda/lib/python3.7/site-packages (from pytorch-tabnet) (4.45.0)\r\n",
      "Requirement already satisfied: torch<2.0,>=1.2 in /opt/conda/lib/python3.7/site-packages (from pytorch-tabnet) (1.6.0)\r\n",
      "Requirement already satisfied: scikit_learn>0.21 in /opt/conda/lib/python3.7/site-packages (from pytorch-tabnet) (0.23.2)\r\n",
      "Requirement already satisfied: numpy<2.0,>=1.17 in /opt/conda/lib/python3.7/site-packages (from pytorch-tabnet) (1.18.5)\r\n",
      "Requirement already satisfied: scipy>1.4 in /opt/conda/lib/python3.7/site-packages (from pytorch-tabnet) (1.4.1)\r\n",
      "Requirement already satisfied: future in /opt/conda/lib/python3.7/site-packages (from torch<2.0,>=1.2->pytorch-tabnet) (0.18.2)\r\n",
      "Requirement already satisfied: joblib>=0.11 in /opt/conda/lib/python3.7/site-packages (from scikit_learn>0.21->pytorch-tabnet) (0.14.1)\r\n",
      "Requirement already satisfied: threadpoolctl>=2.0.0 in /opt/conda/lib/python3.7/site-packages (from scikit_learn>0.21->pytorch-tabnet) (2.1.0)\r\n",
      "Installing collected packages: pytorch-tabnet\r\n",
      "Successfully installed pytorch-tabnet-2.0.0\r\n"
     ]
    }
   ],
   "source": [
    "!pip install --no-index --find-links /kaggle/input/pytorchtabnet/pytorch_tabnet-2.0.0-py3-none-any.whl pytorch-tabnet"
   ]
  },
  {
   "cell_type": "code",
   "execution_count": 2,
   "metadata": {
    "_cell_guid": "b1076dfc-b9ad-4769-8c92-a6c4dae69d19",
    "_uuid": "8f2839f25d086af736a60e9eeb907d3b93b6e0e5",
    "execution": {
     "iopub.execute_input": "2020-11-02T01:48:32.213265Z",
     "iopub.status.busy": "2020-11-02T01:48:32.212263Z",
     "iopub.status.idle": "2020-11-02T01:48:43.641248Z",
     "shell.execute_reply": "2020-11-02T01:48:43.642390Z"
    },
    "papermill": {
     "duration": 11.463252,
     "end_time": "2020-11-02T01:48:43.642660",
     "exception": false,
     "start_time": "2020-11-02T01:48:32.179408",
     "status": "completed"
    },
    "tags": []
   },
   "outputs": [],
   "source": [
    "import os\n",
    "import sys\n",
    "import random\n",
    "import warnings\n",
    "import numpy as np\n",
    "import pandas as pd \n",
    "from umap import UMAP\n",
    "from sklearn import preprocessing\n",
    "from sklearn.metrics import log_loss,roc_auc_score\n",
    "from sklearn.decomposition import PCA\n",
    "from tqdm import tqdm_notebook as tqdm\n",
    "from sklearn.cluster import KMeans\n",
    "from sklearn.multioutput import MultiOutputClassifier\n",
    "from sklearn.feature_selection import VarianceThreshold\n",
    "\n",
    "from pytorch_tabnet.metrics import Metric\n",
    "from pytorch_tabnet.tab_model import TabNetRegressor\n",
    "\n",
    "sys.path.append('../input/multilabelstraifier/')\n",
    "from ml_stratifiers import MultilabelStratifiedKFold\n",
    "warnings.filterwarnings('ignore')\n",
    "\n",
    "import time\n",
    "import torch\n",
    "import torch.nn as nn\n",
    "import torch.optim as optim\n",
    "import torch.nn.functional as F\n",
    "import tensorflow as tf"
   ]
  },
  {
   "cell_type": "code",
   "execution_count": 3,
   "metadata": {
    "execution": {
     "iopub.execute_input": "2020-11-02T01:48:43.711558Z",
     "iopub.status.busy": "2020-11-02T01:48:43.710529Z",
     "iopub.status.idle": "2020-11-02T01:48:51.593415Z",
     "shell.execute_reply": "2020-11-02T01:48:51.592462Z"
    },
    "papermill": {
     "duration": 7.912145,
     "end_time": "2020-11-02T01:48:51.593544",
     "exception": false,
     "start_time": "2020-11-02T01:48:43.681399",
     "status": "completed"
    },
    "tags": []
   },
   "outputs": [],
   "source": [
    "DATA_DIR = '/kaggle/input/lish-moa/'\n",
    "train = pd.read_csv(DATA_DIR + 'train_features.csv')\n",
    "targets = pd.read_csv(DATA_DIR + 'train_targets_scored.csv')\n",
    "non_targets = pd.read_csv(DATA_DIR + 'train_targets_nonscored.csv')\n",
    "test = pd.read_csv(DATA_DIR + 'test_features.csv')\n",
    "sub = pd.read_csv(DATA_DIR + 'sample_submission.csv')"
   ]
  },
  {
   "cell_type": "code",
   "execution_count": 4,
   "metadata": {
    "execution": {
     "iopub.execute_input": "2020-11-02T01:48:51.652078Z",
     "iopub.status.busy": "2020-11-02T01:48:51.650576Z",
     "iopub.status.idle": "2020-11-02T01:48:51.749451Z",
     "shell.execute_reply": "2020-11-02T01:48:51.748851Z"
    },
    "papermill": {
     "duration": 0.13354,
     "end_time": "2020-11-02T01:48:51.749578",
     "exception": false,
     "start_time": "2020-11-02T01:48:51.616038",
     "status": "completed"
    },
    "tags": []
   },
   "outputs": [],
   "source": [
    "target_feats = [ i for i in targets.columns if i != \"sig_id\"]\n",
    "g_feats = [i for i in train.columns if \"g-\" in i]\n",
    "c_feats = [i for i in train.columns if \"c-\" in i]\n",
    "\n",
    "noncons_train_index = train[train.cp_type==\"ctl_vehicle\"].index\n",
    "cons_train_index = train[~train.index.isin(noncons_train_index)].index\n",
    "noncons_test_index = test[test.cp_type==\"ctl_vehicle\"].index\n",
    "cons_test_index = test[test.cp_type!=\"ctl_vehicle\"].index"
   ]
  },
  {
   "cell_type": "markdown",
   "metadata": {
    "papermill": {
     "duration": 0.021356,
     "end_time": "2020-11-02T01:48:51.792780",
     "exception": false,
     "start_time": "2020-11-02T01:48:51.771424",
     "status": "completed"
    },
    "tags": []
   },
   "source": [
    "# preprocess"
   ]
  },
  {
   "cell_type": "code",
   "execution_count": 5,
   "metadata": {
    "execution": {
     "iopub.execute_input": "2020-11-02T01:48:51.850755Z",
     "iopub.status.busy": "2020-11-02T01:48:51.849601Z",
     "iopub.status.idle": "2020-11-02T01:48:52.079671Z",
     "shell.execute_reply": "2020-11-02T01:48:52.079042Z"
    },
    "papermill": {
     "duration": 0.264936,
     "end_time": "2020-11-02T01:48:52.079813",
     "exception": false,
     "start_time": "2020-11-02T01:48:51.814877",
     "status": "completed"
    },
    "tags": []
   },
   "outputs": [],
   "source": [
    "train = train[train.index.isin(cons_train_index)].copy().reset_index(drop=True)\n",
    "targets = targets[targets.index.isin(cons_train_index)].copy().reset_index(drop=True)"
   ]
  },
  {
   "cell_type": "code",
   "execution_count": 6,
   "metadata": {
    "execution": {
     "iopub.execute_input": "2020-11-02T01:48:52.129301Z",
     "iopub.status.busy": "2020-11-02T01:48:52.128538Z",
     "iopub.status.idle": "2020-11-02T01:48:52.133290Z",
     "shell.execute_reply": "2020-11-02T01:48:52.132555Z"
    },
    "papermill": {
     "duration": 0.030655,
     "end_time": "2020-11-02T01:48:52.133409",
     "exception": false,
     "start_time": "2020-11-02T01:48:52.102754",
     "status": "completed"
    },
    "tags": []
   },
   "outputs": [],
   "source": [
    "#X = train[g_feats+c_feats].copy().values\n",
    "#select = VarianceThreshold(threshold=0.4)\n",
    "#X_new = select.fit_transform(X)\n",
    "#drop_feats = list(np.array(train[g_feats+c_feats].columns)[select.get_support()==False])\n",
    "#len(drop_feats)"
   ]
  },
  {
   "cell_type": "markdown",
   "metadata": {
    "papermill": {
     "duration": 0.021887,
     "end_time": "2020-11-02T01:48:52.177386",
     "exception": false,
     "start_time": "2020-11-02T01:48:52.155499",
     "status": "completed"
    },
    "tags": []
   },
   "source": [
    "# feature engineering"
   ]
  },
  {
   "cell_type": "code",
   "execution_count": 7,
   "metadata": {
    "execution": {
     "iopub.execute_input": "2020-11-02T01:48:52.230975Z",
     "iopub.status.busy": "2020-11-02T01:48:52.230214Z",
     "iopub.status.idle": "2020-11-02T01:49:02.276749Z",
     "shell.execute_reply": "2020-11-02T01:49:02.277403Z"
    },
    "papermill": {
     "duration": 10.077993,
     "end_time": "2020-11-02T01:49:02.277581",
     "exception": false,
     "start_time": "2020-11-02T01:48:52.199588",
     "status": "completed"
    },
    "tags": []
   },
   "outputs": [],
   "source": [
    "for i in c_feats + g_feats:\n",
    "    ss = preprocessing.QuantileTransformer(n_quantiles=100, random_state=0, output_distribution=\"normal\")\n",
    "    ss.fit(train[i].values.reshape(-1,1))\n",
    "    train[i] = ss.transform(train[i].values.reshape(-1,1))\n",
    "    test[i] = ss.transform(test[i].values.reshape(-1,1))"
   ]
  },
  {
   "cell_type": "code",
   "execution_count": 8,
   "metadata": {
    "execution": {
     "iopub.execute_input": "2020-11-02T01:49:02.345920Z",
     "iopub.status.busy": "2020-11-02T01:49:02.344059Z",
     "iopub.status.idle": "2020-11-02T01:49:03.891181Z",
     "shell.execute_reply": "2020-11-02T01:49:03.890501Z"
    },
    "papermill": {
     "duration": 1.591115,
     "end_time": "2020-11-02T01:49:03.891310",
     "exception": false,
     "start_time": "2020-11-02T01:49:02.300195",
     "status": "completed"
    },
    "tags": []
   },
   "outputs": [],
   "source": [
    "c_num = 1\n",
    "pca_c_cols = [\"pca-c\"+str(i+1) for i in range(c_num)]\n",
    "pca = PCA(n_components=c_num,random_state=42)\n",
    "c_train = pca.fit_transform(train[c_feats])\n",
    "c_test = pca.transform(test[c_feats])\n",
    "c_train = pd.DataFrame(c_train, columns=pca_c_cols)\n",
    "c_test = pd.DataFrame(c_test, columns=pca_c_cols)\n",
    "\n",
    "g_num = 10\n",
    "pca_g_cols = [\"pca-g\"+str(i+1) for i in range(g_num)]\n",
    "pca = PCA(n_components=g_num, random_state=42)\n",
    "g_train = pca.fit_transform(train[g_feats])\n",
    "g_test = pca.transform(test[g_feats])\n",
    "g_train = pd.DataFrame(g_train, columns=pca_g_cols)\n",
    "g_test = pd.DataFrame(g_test, columns=pca_g_cols)\n",
    "\n",
    "train = pd.concat([train, c_train],axis=1)\n",
    "test = pd.concat([test, c_test],axis=1)\n",
    "train = pd.concat([train, g_train],axis=1)\n",
    "test = pd.concat([test, g_test],axis=1)"
   ]
  },
  {
   "cell_type": "code",
   "execution_count": 9,
   "metadata": {
    "execution": {
     "iopub.execute_input": "2020-11-02T01:49:03.949865Z",
     "iopub.status.busy": "2020-11-02T01:49:03.948563Z",
     "iopub.status.idle": "2020-11-02T01:52:40.044446Z",
     "shell.execute_reply": "2020-11-02T01:52:40.043293Z"
    },
    "papermill": {
     "duration": 216.131328,
     "end_time": "2020-11-02T01:52:40.044669",
     "exception": false,
     "start_time": "2020-11-02T01:49:03.913341",
     "status": "completed"
    },
    "tags": []
   },
   "outputs": [],
   "source": [
    "uc_num = 1\n",
    "um = UMAP(n_neighbors=30, n_components=uc_num, random_state=42)\n",
    "um_c_cols = [\"um-c\"+str(i+1) for i in range(uc_num)]\n",
    "uc_train = um.fit_transform(train[c_feats])\n",
    "uc_test = um.transform(test[c_feats])\n",
    "uc_train = pd.DataFrame(uc_train, columns=um_c_cols)\n",
    "uc_test = pd.DataFrame(uc_test, columns=um_c_cols)\n",
    "\n",
    "ug_num = 10\n",
    "um = UMAP(n_neighbors=30, n_components=ug_num, random_state=42)\n",
    "um_g_cols = [\"um-g\"+str(i+1) for i in range(ug_num)]\n",
    "ug_train = um.fit_transform(train[g_feats])\n",
    "ug_test = um.transform(test[g_feats])\n",
    "ug_train = pd.DataFrame(ug_train, columns=um_g_cols)\n",
    "ug_test = pd.DataFrame(ug_test, columns=um_g_cols)\n",
    "\n",
    "train = pd.concat([train, uc_train],axis=1)\n",
    "test = pd.concat([test, uc_test],axis=1)\n",
    "train = pd.concat([train, ug_train],axis=1)\n",
    "test = pd.concat([test, ug_test],axis=1)"
   ]
  },
  {
   "cell_type": "code",
   "execution_count": 10,
   "metadata": {
    "execution": {
     "iopub.execute_input": "2020-11-02T01:52:40.097485Z",
     "iopub.status.busy": "2020-11-02T01:52:40.096391Z",
     "iopub.status.idle": "2020-11-02T01:52:40.100565Z",
     "shell.execute_reply": "2020-11-02T01:52:40.101198Z"
    },
    "papermill": {
     "duration": 0.032457,
     "end_time": "2020-11-02T01:52:40.101355",
     "exception": false,
     "start_time": "2020-11-02T01:52:40.068898",
     "status": "completed"
    },
    "tags": []
   },
   "outputs": [],
   "source": [
    "#n_clusters_g = 15\n",
    "#n_clusters_c = 5\n",
    "#def create_cluster(train, test, kind, n_clusters):\n",
    "#    if kind == \"g\":\n",
    "#        train_ = train[pca_g_cols].copy()\n",
    "#        test_ = test[pca_g_cols].copy()\n",
    "#    else:\n",
    "#        train_ = train[pca_c_cols].copy()\n",
    "#        test_ = test[pca_c_cols].copy()    \n",
    "#    kmeans = KMeans(n_clusters = n_clusters, random_state = 0).fit(train_)\n",
    "#    train[f'clusters_{kind}'] = kmeans.labels_\n",
    "#    test[f'clusters_{kind}'] = kmeans.predict(test_)\n",
    "#    train = pd.get_dummies(train, columns = [f'clusters_{kind}'])\n",
    "#    test = pd.get_dummies(test, columns = [f'clusters_{kind}'])\n",
    "#    return train, test\n",
    "    \n",
    "#train, test = create_cluster(train, test, kind = 'g', n_clusters = n_clusters_g)\n",
    "#train, test = create_cluster(train, test, kind = 'c', n_clusters = n_clusters_c)"
   ]
  },
  {
   "cell_type": "code",
   "execution_count": 11,
   "metadata": {
    "execution": {
     "iopub.execute_input": "2020-11-02T01:52:40.158065Z",
     "iopub.status.busy": "2020-11-02T01:52:40.156407Z",
     "iopub.status.idle": "2020-11-02T01:52:40.297999Z",
     "shell.execute_reply": "2020-11-02T01:52:40.297321Z"
    },
    "papermill": {
     "duration": 0.173753,
     "end_time": "2020-11-02T01:52:40.298131",
     "exception": false,
     "start_time": "2020-11-02T01:52:40.124378",
     "status": "completed"
    },
    "tags": []
   },
   "outputs": [
    {
     "name": "stdout",
     "output_type": "stream",
     "text": [
      "(21948, 896) (3982, 896)\n"
     ]
    }
   ],
   "source": [
    "def fe(df):\n",
    "    tmp = df.copy()\n",
    "    #tmp['g_sum'] = tmp[g_feats].sum(axis = 1)\n",
    "    #tmp['g_mean'] = tmp[g_feats].mean(axis = 1)\n",
    "    #tmp['g_std'] = tmp[g_feats].std(axis = 1)\n",
    "    #tmp['g_kurt'] = tmp[g_feats].kurtosis(axis = 1)\n",
    "    #tmp['g_skew'] = tmp[g_feats].skew(axis = 1)\n",
    "    #tmp['c_sum'] = tmp[c_feats].sum(axis = 1)\n",
    "    #tmp['c_mean'] = tmp[c_feats].mean(axis = 1)\n",
    "    #tmp['c_std'] = tmp[c_feats].std(axis = 1)\n",
    "    #tmp['c_kurt'] = tmp[c_feats].kurtosis(axis = 1)\n",
    "    #tmp['c_skew'] = tmp[c_feats].skew(axis = 1)\n",
    "    #tmp['gc_sum'] = tmp[c_feats + g_feats].sum(axis = 1)\n",
    "    #tmp['gc_mean'] = tmp[c_feats + g_feats].mean(axis = 1)\n",
    "    #tmp['gc_std'] = tmp[c_feats + g_feats].std(axis = 1)\n",
    "    #tmp['gc_kurt'] = tmp[c_feats + g_feats].kurtosis(axis = 1)\n",
    "    #tmp['gc_skew'] = tmp[c_feats + g_feats].skew(axis = 1)\n",
    "    #tmp[\"g_c_diff\"] = tmp[\"g_sum\"] - tmp[\"c_sum\"]\n",
    "    tmp.loc[:, 'cp_dose'] = tmp.loc[:, 'cp_dose'].map({'D1': 0, 'D2': 1})      \n",
    "    tmp.drop([\"sig_id\", \"cp_type\"], axis=1, inplace=True)\n",
    "    return tmp\n",
    "\n",
    "train = fe(train)\n",
    "test = fe(test)\n",
    "\n",
    "print(train.shape, test.shape)"
   ]
  },
  {
   "cell_type": "code",
   "execution_count": 12,
   "metadata": {
    "execution": {
     "iopub.execute_input": "2020-11-02T01:52:40.351491Z",
     "iopub.status.busy": "2020-11-02T01:52:40.349317Z",
     "iopub.status.idle": "2020-11-02T01:52:40.352422Z",
     "shell.execute_reply": "2020-11-02T01:52:40.353001Z"
    },
    "papermill": {
     "duration": 0.031377,
     "end_time": "2020-11-02T01:52:40.353132",
     "exception": false,
     "start_time": "2020-11-02T01:52:40.321755",
     "status": "completed"
    },
    "tags": []
   },
   "outputs": [],
   "source": [
    "#train.drop(drop_feats, axis=1, inplace=True)\n",
    "#test.drop(drop_feats, axis=1, inplace=True)"
   ]
  },
  {
   "cell_type": "code",
   "execution_count": 13,
   "metadata": {
    "execution": {
     "iopub.execute_input": "2020-11-02T01:52:40.422993Z",
     "iopub.status.busy": "2020-11-02T01:52:40.421816Z",
     "iopub.status.idle": "2020-11-02T01:52:40.442374Z",
     "shell.execute_reply": "2020-11-02T01:52:40.443015Z"
    },
    "papermill": {
     "duration": 0.06611,
     "end_time": "2020-11-02T01:52:40.443173",
     "exception": false,
     "start_time": "2020-11-02T01:52:40.377063",
     "status": "completed"
    },
    "tags": []
   },
   "outputs": [
    {
     "data": {
      "text/html": [
       "<div>\n",
       "<style scoped>\n",
       "    .dataframe tbody tr th:only-of-type {\n",
       "        vertical-align: middle;\n",
       "    }\n",
       "\n",
       "    .dataframe tbody tr th {\n",
       "        vertical-align: top;\n",
       "    }\n",
       "\n",
       "    .dataframe thead th {\n",
       "        text-align: right;\n",
       "    }\n",
       "</style>\n",
       "<table border=\"1\" class=\"dataframe\">\n",
       "  <thead>\n",
       "    <tr style=\"text-align: right;\">\n",
       "      <th></th>\n",
       "      <th>cp_time</th>\n",
       "      <th>cp_dose</th>\n",
       "      <th>g-0</th>\n",
       "      <th>g-1</th>\n",
       "      <th>g-2</th>\n",
       "      <th>g-3</th>\n",
       "      <th>g-4</th>\n",
       "      <th>g-5</th>\n",
       "      <th>g-6</th>\n",
       "      <th>g-7</th>\n",
       "      <th>...</th>\n",
       "      <th>um-g1</th>\n",
       "      <th>um-g2</th>\n",
       "      <th>um-g3</th>\n",
       "      <th>um-g4</th>\n",
       "      <th>um-g5</th>\n",
       "      <th>um-g6</th>\n",
       "      <th>um-g7</th>\n",
       "      <th>um-g8</th>\n",
       "      <th>um-g9</th>\n",
       "      <th>um-g10</th>\n",
       "    </tr>\n",
       "  </thead>\n",
       "  <tbody>\n",
       "    <tr>\n",
       "      <th>0</th>\n",
       "      <td>24</td>\n",
       "      <td>0</td>\n",
       "      <td>1.111801</td>\n",
       "      <td>0.903367</td>\n",
       "      <td>-0.433829</td>\n",
       "      <td>-0.971728</td>\n",
       "      <td>-0.286559</td>\n",
       "      <td>-1.011388</td>\n",
       "      <td>-1.357431</td>\n",
       "      <td>-0.041716</td>\n",
       "      <td>...</td>\n",
       "      <td>0.889615</td>\n",
       "      <td>1.461260</td>\n",
       "      <td>9.432432</td>\n",
       "      <td>5.493209</td>\n",
       "      <td>8.951550</td>\n",
       "      <td>-0.854605</td>\n",
       "      <td>9.944616</td>\n",
       "      <td>-0.028288</td>\n",
       "      <td>5.590945</td>\n",
       "      <td>-0.488484</td>\n",
       "    </tr>\n",
       "    <tr>\n",
       "      <th>1</th>\n",
       "      <td>72</td>\n",
       "      <td>0</td>\n",
       "      <td>0.105667</td>\n",
       "      <td>0.672509</td>\n",
       "      <td>0.257486</td>\n",
       "      <td>0.086759</td>\n",
       "      <td>1.199685</td>\n",
       "      <td>0.691813</td>\n",
       "      <td>0.353695</td>\n",
       "      <td>0.558374</td>\n",
       "      <td>...</td>\n",
       "      <td>1.124779</td>\n",
       "      <td>2.489649</td>\n",
       "      <td>9.759426</td>\n",
       "      <td>5.647223</td>\n",
       "      <td>9.838367</td>\n",
       "      <td>0.831224</td>\n",
       "      <td>8.591188</td>\n",
       "      <td>1.179337</td>\n",
       "      <td>5.231938</td>\n",
       "      <td>-0.486060</td>\n",
       "    </tr>\n",
       "    <tr>\n",
       "      <th>2</th>\n",
       "      <td>48</td>\n",
       "      <td>0</td>\n",
       "      <td>0.767036</td>\n",
       "      <td>0.942499</td>\n",
       "      <td>1.408911</td>\n",
       "      <td>-0.126492</td>\n",
       "      <td>-0.028694</td>\n",
       "      <td>1.490985</td>\n",
       "      <td>0.272541</td>\n",
       "      <td>0.359490</td>\n",
       "      <td>...</td>\n",
       "      <td>2.509898</td>\n",
       "      <td>1.760835</td>\n",
       "      <td>10.155374</td>\n",
       "      <td>4.504743</td>\n",
       "      <td>8.086551</td>\n",
       "      <td>-0.042348</td>\n",
       "      <td>7.571811</td>\n",
       "      <td>1.003149</td>\n",
       "      <td>5.557558</td>\n",
       "      <td>0.070003</td>\n",
       "    </tr>\n",
       "    <tr>\n",
       "      <th>3</th>\n",
       "      <td>48</td>\n",
       "      <td>0</td>\n",
       "      <td>-0.755626</td>\n",
       "      <td>-0.297077</td>\n",
       "      <td>-0.455058</td>\n",
       "      <td>0.765972</td>\n",
       "      <td>2.343522</td>\n",
       "      <td>-0.852713</td>\n",
       "      <td>-2.316440</td>\n",
       "      <td>0.301512</td>\n",
       "      <td>...</td>\n",
       "      <td>3.685860</td>\n",
       "      <td>1.621680</td>\n",
       "      <td>9.671547</td>\n",
       "      <td>7.625240</td>\n",
       "      <td>8.735300</td>\n",
       "      <td>0.747822</td>\n",
       "      <td>9.019852</td>\n",
       "      <td>0.336911</td>\n",
       "      <td>4.433204</td>\n",
       "      <td>1.609635</td>\n",
       "    </tr>\n",
       "    <tr>\n",
       "      <th>4</th>\n",
       "      <td>72</td>\n",
       "      <td>1</td>\n",
       "      <td>-0.468806</td>\n",
       "      <td>-0.504196</td>\n",
       "      <td>0.956769</td>\n",
       "      <td>0.975864</td>\n",
       "      <td>1.447729</td>\n",
       "      <td>-0.863807</td>\n",
       "      <td>-0.346926</td>\n",
       "      <td>-0.227072</td>\n",
       "      <td>...</td>\n",
       "      <td>1.506485</td>\n",
       "      <td>2.646500</td>\n",
       "      <td>9.428581</td>\n",
       "      <td>4.995689</td>\n",
       "      <td>9.087056</td>\n",
       "      <td>-0.205562</td>\n",
       "      <td>8.078624</td>\n",
       "      <td>0.751063</td>\n",
       "      <td>6.604461</td>\n",
       "      <td>-1.283124</td>\n",
       "    </tr>\n",
       "  </tbody>\n",
       "</table>\n",
       "<p>5 rows × 896 columns</p>\n",
       "</div>"
      ],
      "text/plain": [
       "   cp_time  cp_dose       g-0       g-1       g-2       g-3       g-4  \\\n",
       "0       24        0  1.111801  0.903367 -0.433829 -0.971728 -0.286559   \n",
       "1       72        0  0.105667  0.672509  0.257486  0.086759  1.199685   \n",
       "2       48        0  0.767036  0.942499  1.408911 -0.126492 -0.028694   \n",
       "3       48        0 -0.755626 -0.297077 -0.455058  0.765972  2.343522   \n",
       "4       72        1 -0.468806 -0.504196  0.956769  0.975864  1.447729   \n",
       "\n",
       "        g-5       g-6       g-7  ...     um-g1     um-g2      um-g3     um-g4  \\\n",
       "0 -1.011388 -1.357431 -0.041716  ...  0.889615  1.461260   9.432432  5.493209   \n",
       "1  0.691813  0.353695  0.558374  ...  1.124779  2.489649   9.759426  5.647223   \n",
       "2  1.490985  0.272541  0.359490  ...  2.509898  1.760835  10.155374  4.504743   \n",
       "3 -0.852713 -2.316440  0.301512  ...  3.685860  1.621680   9.671547  7.625240   \n",
       "4 -0.863807 -0.346926 -0.227072  ...  1.506485  2.646500   9.428581  4.995689   \n",
       "\n",
       "      um-g5     um-g6     um-g7     um-g8     um-g9    um-g10  \n",
       "0  8.951550 -0.854605  9.944616 -0.028288  5.590945 -0.488484  \n",
       "1  9.838367  0.831224  8.591188  1.179337  5.231938 -0.486060  \n",
       "2  8.086551 -0.042348  7.571811  1.003149  5.557558  0.070003  \n",
       "3  8.735300  0.747822  9.019852  0.336911  4.433204  1.609635  \n",
       "4  9.087056 -0.205562  8.078624  0.751063  6.604461 -1.283124  \n",
       "\n",
       "[5 rows x 896 columns]"
      ]
     },
     "execution_count": 13,
     "metadata": {},
     "output_type": "execute_result"
    }
   ],
   "source": [
    "train.head()"
   ]
  },
  {
   "cell_type": "code",
   "execution_count": 14,
   "metadata": {
    "execution": {
     "iopub.execute_input": "2020-11-02T01:52:40.501816Z",
     "iopub.status.busy": "2020-11-02T01:52:40.500502Z",
     "iopub.status.idle": "2020-11-02T01:52:40.663684Z",
     "shell.execute_reply": "2020-11-02T01:52:40.663085Z"
    },
    "papermill": {
     "duration": 0.193021,
     "end_time": "2020-11-02T01:52:40.663839",
     "exception": false,
     "start_time": "2020-11-02T01:52:40.470818",
     "status": "completed"
    },
    "tags": []
   },
   "outputs": [],
   "source": [
    "fn_train = train.copy().to_numpy()\n",
    "fn_test = test.copy().to_numpy()\n",
    "    \n",
    "fn_targets = targets.drop(\"sig_id\", axis=1).copy().to_numpy()"
   ]
  },
  {
   "cell_type": "code",
   "execution_count": 15,
   "metadata": {
    "execution": {
     "iopub.execute_input": "2020-11-02T01:52:40.719780Z",
     "iopub.status.busy": "2020-11-02T01:52:40.719002Z",
     "iopub.status.idle": "2020-11-02T01:52:40.724973Z",
     "shell.execute_reply": "2020-11-02T01:52:40.724425Z"
    },
    "papermill": {
     "duration": 0.03611,
     "end_time": "2020-11-02T01:52:40.725075",
     "exception": false,
     "start_time": "2020-11-02T01:52:40.688965",
     "status": "completed"
    },
    "tags": []
   },
   "outputs": [
    {
     "data": {
      "text/plain": [
       "((21948, 896), (3982, 896), (21948, 206))"
      ]
     },
     "execution_count": 15,
     "metadata": {},
     "output_type": "execute_result"
    }
   ],
   "source": [
    "fn_train.shape, fn_test.shape, fn_targets.shape"
   ]
  },
  {
   "cell_type": "markdown",
   "metadata": {
    "papermill": {
     "duration": 0.025136,
     "end_time": "2020-11-02T01:52:40.775364",
     "exception": false,
     "start_time": "2020-11-02T01:52:40.750228",
     "status": "completed"
    },
    "tags": []
   },
   "source": [
    "# modelling"
   ]
  },
  {
   "cell_type": "code",
   "execution_count": 16,
   "metadata": {
    "execution": {
     "iopub.execute_input": "2020-11-02T01:52:40.833992Z",
     "iopub.status.busy": "2020-11-02T01:52:40.833191Z",
     "iopub.status.idle": "2020-11-02T01:52:40.837475Z",
     "shell.execute_reply": "2020-11-02T01:52:40.836928Z"
    },
    "papermill": {
     "duration": 0.037654,
     "end_time": "2020-11-02T01:52:40.837578",
     "exception": false,
     "start_time": "2020-11-02T01:52:40.799924",
     "status": "completed"
    },
    "tags": []
   },
   "outputs": [],
   "source": [
    "class LogitsLogLoss(Metric):\n",
    "    def __init__(self):\n",
    "        self._name = \"logits_ll\"\n",
    "        self._maximize = False\n",
    "\n",
    "    def __call__(self, y_true, y_pred):\n",
    "\n",
    "        logits = 1 / (1 + np.exp(-y_pred))\n",
    "        \n",
    "        #smoothing = 0.00001\n",
    "        #n_classes = 206\n",
    "        #y_true = y_true * (1 - smoothing) + np.ones_like(y_true) * smoothing / n_classes\n",
    "        \n",
    "        aux = (1-y_true)*np.log(1-logits+1e-15) + y_true*np.log(logits+1e-15)\n",
    "        return np.mean(-aux)"
   ]
  },
  {
   "cell_type": "code",
   "execution_count": 17,
   "metadata": {
    "execution": {
     "iopub.execute_input": "2020-11-02T01:52:40.907297Z",
     "iopub.status.busy": "2020-11-02T01:52:40.902115Z",
     "iopub.status.idle": "2020-11-02T02:15:10.017912Z",
     "shell.execute_reply": "2020-11-02T02:15:10.018678Z"
    },
    "papermill": {
     "duration": 1349.15592,
     "end_time": "2020-11-02T02:15:10.018871",
     "exception": false,
     "start_time": "2020-11-02T01:52:40.862951",
     "status": "completed"
    },
    "tags": []
   },
   "outputs": [
    {
     "name": "stdout",
     "output_type": "stream",
     "text": [
      "FOLDS :  1\n",
      "Device used : cuda\n",
      "epoch 0  | loss: 0.43739 | val_logits_ll: 0.21297 |  0:00:02s\n",
      "epoch 10 | loss: 0.01919 | val_logits_ll: 0.01948 |  0:00:13s\n",
      "epoch 20 | loss: 0.01714 | val_logits_ll: 0.01864 |  0:00:23s\n",
      "epoch 30 | loss: 0.01637 | val_logits_ll: 0.01774 |  0:00:34s\n",
      "epoch 40 | loss: 0.0159  | val_logits_ll: 0.01721 |  0:00:45s\n",
      "epoch 50 | loss: 0.01548 | val_logits_ll: 0.0169  |  0:00:56s\n",
      "epoch 60 | loss: 0.01506 | val_logits_ll: 0.01679 |  0:01:06s\n",
      "epoch 70 | loss: 0.01479 | val_logits_ll: 0.01732 |  0:01:16s\n",
      "\n",
      "Early stopping occured at epoch 79 with best_epoch = 59 and best_val_logits_ll = 0.01674\n",
      "Best weights from best epoch are automatically used!\n",
      "FOLDS :  2\n",
      "Device used : cuda\n",
      "epoch 0  | loss: 0.4352  | val_logits_ll: 0.21086 |  0:00:01s\n",
      "epoch 10 | loss: 0.01955 | val_logits_ll: 0.01972 |  0:00:11s\n",
      "epoch 20 | loss: 0.0176  | val_logits_ll: 0.01844 |  0:00:22s\n",
      "epoch 30 | loss: 0.01663 | val_logits_ll: 0.01784 |  0:00:33s\n",
      "epoch 40 | loss: 0.01637 | val_logits_ll: 0.018   |  0:00:43s\n",
      "epoch 50 | loss: 0.01582 | val_logits_ll: 0.0173  |  0:00:53s\n",
      "epoch 60 | loss: 0.01537 | val_logits_ll: 0.01728 |  0:01:03s\n",
      "epoch 70 | loss: 0.01503 | val_logits_ll: 0.0181  |  0:01:14s\n",
      "\n",
      "Early stopping occured at epoch 76 with best_epoch = 56 and best_val_logits_ll = 0.01711\n",
      "Best weights from best epoch are automatically used!\n",
      "FOLDS :  3\n",
      "Device used : cuda\n",
      "epoch 0  | loss: 0.43818 | val_logits_ll: 0.20585 |  0:00:00s\n",
      "epoch 10 | loss: 0.01928 | val_logits_ll: 0.01985 |  0:00:11s\n",
      "epoch 20 | loss: 0.01715 | val_logits_ll: 0.01995 |  0:00:21s\n",
      "epoch 30 | loss: 0.01618 | val_logits_ll: 0.01791 |  0:00:31s\n",
      "epoch 40 | loss: 0.01574 | val_logits_ll: 0.01791 |  0:00:42s\n",
      "epoch 50 | loss: 0.01513 | val_logits_ll: 0.01714 |  0:00:53s\n",
      "epoch 60 | loss: 0.01488 | val_logits_ll: 0.01735 |  0:01:04s\n",
      "\n",
      "Early stopping occured at epoch 69 with best_epoch = 49 and best_val_logits_ll = 0.01697\n",
      "Best weights from best epoch are automatically used!\n",
      "FOLDS :  4\n",
      "Device used : cuda\n",
      "epoch 0  | loss: 0.43803 | val_logits_ll: 0.2083  |  0:00:00s\n",
      "epoch 10 | loss: 0.01935 | val_logits_ll: 0.02073 |  0:00:11s\n",
      "epoch 20 | loss: 0.01723 | val_logits_ll: 0.01794 |  0:00:21s\n",
      "epoch 30 | loss: 0.01659 | val_logits_ll: 0.0175  |  0:00:31s\n",
      "epoch 40 | loss: 0.01615 | val_logits_ll: 0.01806 |  0:00:43s\n",
      "epoch 50 | loss: 0.01582 | val_logits_ll: 0.01692 |  0:00:53s\n",
      "epoch 60 | loss: 0.01559 | val_logits_ll: 0.01697 |  0:01:04s\n",
      "epoch 70 | loss: 0.01529 | val_logits_ll: 0.01696 |  0:01:13s\n",
      "epoch 80 | loss: 0.01507 | val_logits_ll: 0.01695 |  0:01:24s\n",
      "epoch 90 | loss: 0.01458 | val_logits_ll: 0.017   |  0:01:34s\n",
      "epoch 100| loss: 0.01412 | val_logits_ll: 0.01745 |  0:01:46s\n",
      "\n",
      "Early stopping occured at epoch 105 with best_epoch = 85 and best_val_logits_ll = 0.01673\n",
      "Best weights from best epoch are automatically used!\n",
      "FOLDS :  5\n",
      "Device used : cuda\n",
      "epoch 0  | loss: 0.43785 | val_logits_ll: 0.2127  |  0:00:00s\n",
      "epoch 10 | loss: 0.0193  | val_logits_ll: 0.02006 |  0:00:11s\n",
      "epoch 20 | loss: 0.0174  | val_logits_ll: 0.01904 |  0:00:21s\n",
      "epoch 30 | loss: 0.01677 | val_logits_ll: 0.01749 |  0:00:31s\n",
      "epoch 40 | loss: 0.01587 | val_logits_ll: 0.01771 |  0:00:42s\n",
      "epoch 50 | loss: 0.01577 | val_logits_ll: 0.01702 |  0:00:54s\n",
      "epoch 60 | loss: 0.01518 | val_logits_ll: 0.01721 |  0:01:04s\n",
      "epoch 70 | loss: 0.01476 | val_logits_ll: 0.01757 |  0:01:14s\n",
      "epoch 80 | loss: 0.01411 | val_logits_ll: 0.0175  |  0:01:24s\n",
      "\n",
      "Early stopping occured at epoch 81 with best_epoch = 61 and best_val_logits_ll = 0.01697\n",
      "Best weights from best epoch are automatically used!\n",
      "OOF log loss: 0.016903780552608456\n",
      "Overall AUC : 0.747176495888462\n",
      "FOLDS :  1\n",
      "Device used : cuda\n",
      "epoch 0  | loss: 0.43658 | val_logits_ll: 0.19264 |  0:00:00s\n",
      "epoch 10 | loss: 0.01897 | val_logits_ll: 0.02002 |  0:00:10s\n",
      "epoch 20 | loss: 0.01709 | val_logits_ll: 0.01785 |  0:00:22s\n",
      "epoch 30 | loss: 0.01631 | val_logits_ll: 0.01809 |  0:00:32s\n",
      "epoch 40 | loss: 0.01605 | val_logits_ll: 0.01714 |  0:00:42s\n",
      "epoch 50 | loss: 0.01543 | val_logits_ll: 0.01674 |  0:00:52s\n",
      "epoch 60 | loss: 0.01492 | val_logits_ll: 0.01681 |  0:01:03s\n",
      "epoch 70 | loss: 0.01464 | val_logits_ll: 0.01715 |  0:01:13s\n",
      "\n",
      "Early stopping occured at epoch 70 with best_epoch = 50 and best_val_logits_ll = 0.01674\n",
      "Best weights from best epoch are automatically used!\n",
      "FOLDS :  2\n",
      "Device used : cuda\n",
      "epoch 0  | loss: 0.43323 | val_logits_ll: 0.1914  |  0:00:01s\n",
      "epoch 10 | loss: 0.01869 | val_logits_ll: 0.01934 |  0:00:12s\n",
      "epoch 20 | loss: 0.01727 | val_logits_ll: 0.01858 |  0:00:22s\n",
      "epoch 30 | loss: 0.01659 | val_logits_ll: 0.01778 |  0:00:32s\n",
      "epoch 40 | loss: 0.01588 | val_logits_ll: 0.01739 |  0:00:42s\n",
      "epoch 50 | loss: 0.01556 | val_logits_ll: 0.01721 |  0:00:53s\n",
      "epoch 60 | loss: 0.01486 | val_logits_ll: 0.01745 |  0:01:04s\n",
      "\n",
      "Early stopping occured at epoch 65 with best_epoch = 45 and best_val_logits_ll = 0.01713\n",
      "Best weights from best epoch are automatically used!\n",
      "FOLDS :  3\n",
      "Device used : cuda\n",
      "epoch 0  | loss: 0.43741 | val_logits_ll: 0.20377 |  0:00:01s\n",
      "epoch 10 | loss: 0.01896 | val_logits_ll: 0.01928 |  0:00:11s\n",
      "epoch 20 | loss: 0.01715 | val_logits_ll: 0.0179  |  0:00:21s\n",
      "epoch 30 | loss: 0.01638 | val_logits_ll: 0.01776 |  0:00:31s\n",
      "epoch 40 | loss: 0.01596 | val_logits_ll: 0.01713 |  0:00:42s\n",
      "epoch 50 | loss: 0.01548 | val_logits_ll: 0.01716 |  0:00:52s\n",
      "epoch 60 | loss: 0.01518 | val_logits_ll: 0.01715 |  0:01:03s\n",
      "epoch 70 | loss: 0.01479 | val_logits_ll: 0.01699 |  0:01:13s\n",
      "epoch 80 | loss: 0.01461 | val_logits_ll: 0.01914 |  0:01:23s\n",
      "\n",
      "Early stopping occured at epoch 84 with best_epoch = 64 and best_val_logits_ll = 0.01691\n",
      "Best weights from best epoch are automatically used!\n",
      "FOLDS :  4\n",
      "Device used : cuda\n",
      "epoch 0  | loss: 0.43892 | val_logits_ll: 0.19606 |  0:00:01s\n",
      "epoch 10 | loss: 0.01911 | val_logits_ll: 0.01936 |  0:00:10s\n",
      "epoch 20 | loss: 0.01716 | val_logits_ll: 0.01867 |  0:00:22s\n",
      "epoch 30 | loss: 0.01682 | val_logits_ll: 0.02012 |  0:00:32s\n",
      "epoch 40 | loss: 0.01602 | val_logits_ll: 0.0171  |  0:00:42s\n",
      "epoch 50 | loss: 0.01552 | val_logits_ll: 0.01783 |  0:00:53s\n",
      "epoch 60 | loss: 0.01512 | val_logits_ll: 0.01729 |  0:01:03s\n",
      "epoch 70 | loss: 0.01457 | val_logits_ll: 0.01721 |  0:01:13s\n",
      "\n",
      "Early stopping occured at epoch 76 with best_epoch = 56 and best_val_logits_ll = 0.01682\n",
      "Best weights from best epoch are automatically used!\n",
      "FOLDS :  5\n",
      "Device used : cuda\n",
      "epoch 0  | loss: 0.43781 | val_logits_ll: 0.174   |  0:00:01s\n",
      "epoch 10 | loss: 0.01878 | val_logits_ll: 0.01914 |  0:00:11s\n",
      "epoch 20 | loss: 0.01704 | val_logits_ll: 0.01797 |  0:00:21s\n",
      "epoch 30 | loss: 0.01641 | val_logits_ll: 0.01869 |  0:00:31s\n",
      "epoch 40 | loss: 0.01579 | val_logits_ll: 0.01778 |  0:00:41s\n",
      "epoch 50 | loss: 0.01556 | val_logits_ll: 0.01703 |  0:00:51s\n",
      "epoch 60 | loss: 0.01536 | val_logits_ll: 0.01693 |  0:01:03s\n",
      "epoch 70 | loss: 0.01508 | val_logits_ll: 0.01684 |  0:01:13s\n",
      "epoch 80 | loss: 0.01476 | val_logits_ll: 0.01682 |  0:01:23s\n",
      "epoch 90 | loss: 0.01432 | val_logits_ll: 0.01721 |  0:01:33s\n",
      "epoch 100| loss: 0.014   | val_logits_ll: 0.01706 |  0:01:44s\n",
      "\n",
      "Early stopping occured at epoch 100 with best_epoch = 80 and best_val_logits_ll = 0.01682\n",
      "Best weights from best epoch are automatically used!\n",
      "OOF log loss: 0.016885186530582647\n",
      "Overall AUC : 0.7478859441690139\n",
      "FOLDS :  1\n",
      "Device used : cuda\n",
      "epoch 0  | loss: 0.45714 | val_logits_ll: 0.21607 |  0:00:00s\n",
      "epoch 10 | loss: 0.01881 | val_logits_ll: 0.01946 |  0:00:12s\n",
      "epoch 20 | loss: 0.01726 | val_logits_ll: 0.01785 |  0:00:23s\n",
      "epoch 30 | loss: 0.01639 | val_logits_ll: 0.01832 |  0:00:33s\n",
      "epoch 40 | loss: 0.01614 | val_logits_ll: 0.01729 |  0:00:43s\n",
      "epoch 50 | loss: 0.01572 | val_logits_ll: 0.01735 |  0:00:54s\n",
      "epoch 60 | loss: 0.01509 | val_logits_ll: 0.01722 |  0:01:04s\n",
      "epoch 70 | loss: 0.0146  | val_logits_ll: 0.01712 |  0:01:15s\n",
      "\n",
      "Early stopping occured at epoch 77 with best_epoch = 57 and best_val_logits_ll = 0.01673\n",
      "Best weights from best epoch are automatically used!\n",
      "FOLDS :  2\n",
      "Device used : cuda\n",
      "epoch 0  | loss: 0.45709 | val_logits_ll: 0.22133 |  0:00:00s\n",
      "epoch 10 | loss: 0.01912 | val_logits_ll: 0.01964 |  0:00:10s\n",
      "epoch 20 | loss: 0.01726 | val_logits_ll: 0.01886 |  0:00:20s\n",
      "epoch 30 | loss: 0.01643 | val_logits_ll: 0.01833 |  0:00:30s\n",
      "epoch 40 | loss: 0.01593 | val_logits_ll: 0.01731 |  0:00:42s\n",
      "epoch 50 | loss: 0.01539 | val_logits_ll: 0.01716 |  0:00:52s\n",
      "epoch 60 | loss: 0.01539 | val_logits_ll: 0.01696 |  0:01:03s\n",
      "epoch 70 | loss: 0.01529 | val_logits_ll: 0.01749 |  0:01:13s\n",
      "epoch 80 | loss: 0.01472 | val_logits_ll: 0.01695 |  0:01:23s\n",
      "epoch 90 | loss: 0.01457 | val_logits_ll: 0.01735 |  0:01:33s\n",
      "epoch 100| loss: 0.01395 | val_logits_ll: 0.01754 |  0:01:45s\n",
      "\n",
      "Early stopping occured at epoch 100 with best_epoch = 80 and best_val_logits_ll = 0.01695\n",
      "Best weights from best epoch are automatically used!\n",
      "FOLDS :  3\n",
      "Device used : cuda\n",
      "epoch 0  | loss: 0.45519 | val_logits_ll: 0.22185 |  0:00:01s\n",
      "epoch 10 | loss: 0.01934 | val_logits_ll: 0.01991 |  0:00:11s\n",
      "epoch 20 | loss: 0.01701 | val_logits_ll: 0.01825 |  0:00:21s\n",
      "epoch 30 | loss: 0.01621 | val_logits_ll: 0.01827 |  0:00:31s\n",
      "epoch 40 | loss: 0.01583 | val_logits_ll: 0.01763 |  0:00:42s\n",
      "epoch 50 | loss: 0.01528 | val_logits_ll: 0.01704 |  0:00:52s\n",
      "epoch 60 | loss: 0.01473 | val_logits_ll: 0.01709 |  0:01:03s\n",
      "epoch 70 | loss: 0.01432 | val_logits_ll: 0.02364 |  0:01:13s\n",
      "\n",
      "Early stopping occured at epoch 72 with best_epoch = 52 and best_val_logits_ll = 0.017\n",
      "Best weights from best epoch are automatically used!\n",
      "FOLDS :  4\n",
      "Device used : cuda\n",
      "epoch 0  | loss: 0.45708 | val_logits_ll: 0.2154  |  0:00:00s\n",
      "epoch 10 | loss: 0.01903 | val_logits_ll: 0.01931 |  0:00:11s\n",
      "epoch 20 | loss: 0.01735 | val_logits_ll: 0.01817 |  0:00:21s\n",
      "epoch 30 | loss: 0.01658 | val_logits_ll: 0.0176  |  0:00:32s\n",
      "epoch 40 | loss: 0.01624 | val_logits_ll: 0.0171  |  0:00:42s\n",
      "epoch 50 | loss: 0.01575 | val_logits_ll: 0.01698 |  0:00:53s\n",
      "epoch 60 | loss: 0.01512 | val_logits_ll: 0.01686 |  0:01:03s\n",
      "epoch 70 | loss: 0.01471 | val_logits_ll: 0.01728 |  0:01:14s\n",
      "epoch 80 | loss: 0.01432 | val_logits_ll: 0.01728 |  0:01:25s\n",
      "epoch 90 | loss: 0.01397 | val_logits_ll: 0.01785 |  0:01:34s\n",
      "\n",
      "Early stopping occured at epoch 97 with best_epoch = 77 and best_val_logits_ll = 0.01681\n",
      "Best weights from best epoch are automatically used!\n",
      "FOLDS :  5\n",
      "Device used : cuda\n",
      "epoch 0  | loss: 0.45691 | val_logits_ll: 0.19219 |  0:00:01s\n",
      "epoch 10 | loss: 0.01883 | val_logits_ll: 0.01939 |  0:00:12s\n",
      "epoch 20 | loss: 0.01704 | val_logits_ll: 0.01793 |  0:00:22s\n",
      "epoch 30 | loss: 0.0164  | val_logits_ll: 0.01738 |  0:00:32s\n",
      "epoch 40 | loss: 0.016   | val_logits_ll: 0.0172  |  0:00:42s\n",
      "epoch 50 | loss: 0.01564 | val_logits_ll: 0.01716 |  0:00:53s\n",
      "epoch 60 | loss: 0.01515 | val_logits_ll: 0.0169  |  0:01:03s\n",
      "epoch 70 | loss: 0.01482 | val_logits_ll: 0.01697 |  0:01:14s\n",
      "epoch 80 | loss: 0.01412 | val_logits_ll: 0.01721 |  0:01:24s\n",
      "\n",
      "Early stopping occured at epoch 87 with best_epoch = 67 and best_val_logits_ll = 0.01683\n",
      "Best weights from best epoch are automatically used!\n",
      "OOF log loss: 0.016863581293212603\n",
      "Overall AUC : 0.7449094691379796\n"
     ]
    }
   ],
   "source": [
    "MAX_EPOCH=200\n",
    "\n",
    "smoothing = 0.001\n",
    "p_min = smoothing\n",
    "p_max = 1 - smoothing\n",
    "\n",
    "def seed_everything(seed_value):\n",
    "    random.seed(seed_value)\n",
    "    np.random.seed(seed_value)\n",
    "    torch.manual_seed(seed_value)\n",
    "    os.environ['PYTHONHASHSEED'] = str(seed_value)\n",
    "    \n",
    "    if torch.cuda.is_available(): \n",
    "        torch.cuda.manual_seed(seed_value)\n",
    "        torch.cuda.manual_seed_all(seed_value)\n",
    "        torch.backends.cudnn.deterministic = True\n",
    "        torch.backends.cudnn.benchmark = False\n",
    "\n",
    "def modelling_tabnet(tr, target, te, sample_seed):\n",
    "    seed_everything(sample_seed) \n",
    "    tabnet_params = dict(n_d=24, n_a=24, n_steps=1, gamma=1.5, seed = sample_seed,\n",
    "                     lambda_sparse=0, n_independent=1, n_shared=1, momentum=0.01,\n",
    "                     optimizer_fn=torch.optim.Adam,\n",
    "                     optimizer_params=dict(lr=2e-2, weight_decay=1e-5),\n",
    "                     mask_type='entmax',\n",
    "                     scheduler_params=dict(mode=\"min\",\n",
    "                                           patience=5,\n",
    "                                           min_lr=1e-5,\n",
    "                                           factor=0.9,),\n",
    "                     scheduler_fn=torch.optim.lr_scheduler.ReduceLROnPlateau,\n",
    "                     verbose=10,\n",
    "                     )\n",
    "    test_cv_preds = []\n",
    "\n",
    "    NB_SPLITS = 5\n",
    "    mskf = MultilabelStratifiedKFold(n_splits=NB_SPLITS, random_state=0, shuffle=True)\n",
    "    oof_preds = np.zeros([len(tr),target.shape[1]])\n",
    "    scores = []\n",
    "    for fold_nb, (train_idx, val_idx) in enumerate(mskf.split(train, target)):\n",
    "        print(\"FOLDS : \", fold_nb+1)\n",
    "\n",
    "        ## model\n",
    "        X_train, y_train = tr[train_idx, :], target[train_idx, :]\n",
    "        X_val, y_val = tr[val_idx, :], target[val_idx, :]\n",
    "        model = TabNetRegressor(**tabnet_params)\n",
    "    \n",
    "        model.fit(X_train=X_train,\n",
    "              y_train=y_train,\n",
    "              eval_set=[(X_val, y_val)],\n",
    "              eval_name = [\"val\"],\n",
    "              eval_metric = [\"logits_ll\"],\n",
    "              max_epochs=MAX_EPOCH,\n",
    "              patience=20, batch_size=1024, virtual_batch_size=128,\n",
    "              num_workers=1, drop_last=False,\n",
    "              # use binary cross entropy as this is not a regression problem\n",
    "              loss_fn=torch.nn.functional.binary_cross_entropy_with_logits)\n",
    "    \n",
    "        preds_val = model.predict(X_val)\n",
    "        # Apply sigmoid to the predictions\n",
    "        preds =  1 / (1 + np.exp(-preds_val))\n",
    "        score = np.min(model.history[\"val_logits_ll\"])\n",
    "        oof_preds[val_idx,:] = preds\n",
    "        #oof_preds[val_idx,:] = np.clip(preds, p_min, p_max)\n",
    "        scores.append(score)\n",
    "\n",
    "        # preds on test\n",
    "        preds_test = model.predict(te)\n",
    "        test_cv_preds.append(1 / (1 + np.exp(-preds_test)))\n",
    "        #test_cv_preds.append(np.clip(1 / (1 + np.exp(-preds_test)), p_min, p_max))\n",
    "        \n",
    "    test_preds_all = np.stack(test_cv_preds)\n",
    "    print(\"OOF log loss:\", log_loss(np.ravel(target), np.ravel(np.array(oof_preds))))\n",
    "    aucs = []\n",
    "    for task_id in range(206):\n",
    "        aucs.append(roc_auc_score(y_true=target[:, task_id],y_score=oof_preds[:, task_id]))\n",
    "    print(f\"Overall AUC : {np.mean(aucs)}\")\n",
    "    return oof_preds, test_preds_all\n",
    "\n",
    "target_oof = np.zeros([len(fn_train),fn_targets.shape[1]])\n",
    "target_pred = np.zeros([len(fn_test),fn_targets.shape[1]])\n",
    "\n",
    "seeds = [0,1,2]\n",
    "for seed_ in seeds:\n",
    "    oof_preds, test_preds_all = modelling_tabnet(fn_train, fn_targets, fn_test, seed_)\n",
    "    target_oof += oof_preds / len(seeds)\n",
    "    target_pred += test_preds_all.mean(axis=0) / len(seeds)"
   ]
  },
  {
   "cell_type": "code",
   "execution_count": 18,
   "metadata": {
    "execution": {
     "iopub.execute_input": "2020-11-02T02:15:10.206851Z",
     "iopub.status.busy": "2020-11-02T02:15:10.205831Z",
     "iopub.status.idle": "2020-11-02T02:15:11.863089Z",
     "shell.execute_reply": "2020-11-02T02:15:11.864084Z"
    },
    "papermill": {
     "duration": 1.755521,
     "end_time": "2020-11-02T02:15:11.864312",
     "exception": false,
     "start_time": "2020-11-02T02:15:10.108791",
     "status": "completed"
    },
    "tags": []
   },
   "outputs": [
    {
     "name": "stdout",
     "output_type": "stream",
     "text": [
      "Overall AUC : 0.7738867819451235\n"
     ]
    }
   ],
   "source": [
    "aucs = []\n",
    "for task_id in range(targets.shape[1]-1):\n",
    "    aucs.append(roc_auc_score(y_true=targets.iloc[:, task_id+1].values,\n",
    "                              y_score=target_oof[:, task_id]))\n",
    "print(f\"Overall AUC : {np.mean(aucs)}\")"
   ]
  },
  {
   "cell_type": "code",
   "execution_count": 19,
   "metadata": {
    "execution": {
     "iopub.execute_input": "2020-11-02T02:15:12.061894Z",
     "iopub.status.busy": "2020-11-02T02:15:12.060824Z",
     "iopub.status.idle": "2020-11-02T02:15:18.521140Z",
     "shell.execute_reply": "2020-11-02T02:15:18.521706Z"
    },
    "papermill": {
     "duration": 6.563423,
     "end_time": "2020-11-02T02:15:18.521863",
     "exception": false,
     "start_time": "2020-11-02T02:15:11.958440",
     "status": "completed"
    },
    "tags": []
   },
   "outputs": [
    {
     "name": "stdout",
     "output_type": "stream",
     "text": [
      "OOF log loss:  0.014994183943948393\n"
     ]
    }
   ],
   "source": [
    "t = pd.read_csv(DATA_DIR + 'train_targets_scored.csv')\n",
    "train_checkscore = t.copy()\n",
    "train_checkscore.loc[train_checkscore.index.isin(cons_train_index),target_feats] = target_oof\n",
    "train_checkscore.loc[train_checkscore.index.isin(noncons_train_index),target_feats] = 0\n",
    "\n",
    "t.drop(\"sig_id\", axis=1, inplace=True)\n",
    "print('OOF log loss: ', log_loss(np.ravel(t), np.ravel(np.array(train_checkscore.iloc[:,1:]))))"
   ]
  },
  {
   "cell_type": "code",
   "execution_count": 20,
   "metadata": {
    "execution": {
     "iopub.execute_input": "2020-11-02T02:15:18.709329Z",
     "iopub.status.busy": "2020-11-02T02:15:18.708336Z",
     "iopub.status.idle": "2020-11-02T02:15:21.693829Z",
     "shell.execute_reply": "2020-11-02T02:15:21.692846Z"
    },
    "papermill": {
     "duration": 3.082813,
     "end_time": "2020-11-02T02:15:21.694028",
     "exception": false,
     "start_time": "2020-11-02T02:15:18.611215",
     "status": "completed"
    },
    "tags": []
   },
   "outputs": [],
   "source": [
    "sub[target_feats] = target_pred\n",
    "sub.loc[noncons_test_index,target_feats] = 0\n",
    "sub.to_csv('submission.csv', index=False)"
   ]
  },
  {
   "cell_type": "code",
   "execution_count": null,
   "metadata": {
    "papermill": {
     "duration": 0.126267,
     "end_time": "2020-11-02T02:15:21.970652",
     "exception": false,
     "start_time": "2020-11-02T02:15:21.844385",
     "status": "completed"
    },
    "tags": []
   },
   "outputs": [],
   "source": []
  }
 ],
 "metadata": {
  "kernelspec": {
   "display_name": "Python 3",
   "language": "python",
   "name": "python3"
  },
  "language_info": {
   "codemirror_mode": {
    "name": "ipython",
    "version": 3
   },
   "file_extension": ".py",
   "mimetype": "text/x-python",
   "name": "python",
   "nbconvert_exporter": "python",
   "pygments_lexer": "ipython3",
   "version": "3.7.6"
  },
  "papermill": {
   "duration": 1625.991576,
   "end_time": "2020-11-02T02:15:23.254325",
   "environment_variables": {},
   "exception": null,
   "input_path": "__notebook__.ipynb",
   "output_path": "__notebook__.ipynb",
   "parameters": {},
   "start_time": "2020-11-02T01:48:17.262749",
   "version": "2.1.0"
  }
 },
 "nbformat": 4,
 "nbformat_minor": 4
}
