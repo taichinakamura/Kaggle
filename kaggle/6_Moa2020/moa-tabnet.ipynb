{
 "cells": [
  {
   "cell_type": "markdown",
   "metadata": {
    "papermill": {
     "duration": 0.01788,
     "end_time": "2020-11-02T00:09:55.792618",
     "exception": false,
     "start_time": "2020-11-02T00:09:55.774738",
     "status": "completed"
    },
    "tags": []
   },
   "source": [
    "- rank gauss + small number of pca + categorical encoding\n",
    "- c1, g10\n",
    "- 3 ensemble (5 folds)\n",
    "- change params (momentum) **"
   ]
  },
  {
   "cell_type": "code",
   "execution_count": 1,
   "metadata": {
    "execution": {
     "iopub.execute_input": "2020-11-02T00:09:55.833346Z",
     "iopub.status.busy": "2020-11-02T00:09:55.832450Z",
     "iopub.status.idle": "2020-11-02T00:10:05.074823Z",
     "shell.execute_reply": "2020-11-02T00:10:05.073061Z"
    },
    "papermill": {
     "duration": 9.265399,
     "end_time": "2020-11-02T00:10:05.074960",
     "exception": false,
     "start_time": "2020-11-02T00:09:55.809561",
     "status": "completed"
    },
    "tags": []
   },
   "outputs": [
    {
     "name": "stdout",
     "output_type": "stream",
     "text": [
      "Looking in links: /kaggle/input/pytorchtabnet/pytorch_tabnet-2.0.0-py3-none-any.whl\r\n",
      "Processing /kaggle/input/pytorchtabnet/pytorch_tabnet-2.0.0-py3-none-any.whl\r\n",
      "Requirement already satisfied: torch<2.0,>=1.2 in /opt/conda/lib/python3.7/site-packages (from pytorch-tabnet) (1.6.0)\r\n",
      "Requirement already satisfied: scikit_learn>0.21 in /opt/conda/lib/python3.7/site-packages (from pytorch-tabnet) (0.23.2)\r\n",
      "Requirement already satisfied: numpy<2.0,>=1.17 in /opt/conda/lib/python3.7/site-packages (from pytorch-tabnet) (1.18.5)\r\n",
      "Requirement already satisfied: tqdm<5.0,>=4.36 in /opt/conda/lib/python3.7/site-packages (from pytorch-tabnet) (4.45.0)\r\n",
      "Requirement already satisfied: scipy>1.4 in /opt/conda/lib/python3.7/site-packages (from pytorch-tabnet) (1.4.1)\r\n",
      "Requirement already satisfied: future in /opt/conda/lib/python3.7/site-packages (from torch<2.0,>=1.2->pytorch-tabnet) (0.18.2)\r\n",
      "Requirement already satisfied: threadpoolctl>=2.0.0 in /opt/conda/lib/python3.7/site-packages (from scikit_learn>0.21->pytorch-tabnet) (2.1.0)\r\n",
      "Requirement already satisfied: joblib>=0.11 in /opt/conda/lib/python3.7/site-packages (from scikit_learn>0.21->pytorch-tabnet) (0.14.1)\r\n",
      "Installing collected packages: pytorch-tabnet\r\n",
      "Successfully installed pytorch-tabnet-2.0.0\r\n"
     ]
    }
   ],
   "source": [
    "!pip install --no-index --find-links /kaggle/input/pytorchtabnet/pytorch_tabnet-2.0.0-py3-none-any.whl pytorch-tabnet"
   ]
  },
  {
   "cell_type": "code",
   "execution_count": 2,
   "metadata": {
    "_cell_guid": "b1076dfc-b9ad-4769-8c92-a6c4dae69d19",
    "_uuid": "8f2839f25d086af736a60e9eeb907d3b93b6e0e5",
    "execution": {
     "iopub.execute_input": "2020-11-02T00:10:05.129970Z",
     "iopub.status.busy": "2020-11-02T00:10:05.128996Z",
     "iopub.status.idle": "2020-11-02T00:10:12.516904Z",
     "shell.execute_reply": "2020-11-02T00:10:12.517618Z"
    },
    "papermill": {
     "duration": 7.419963,
     "end_time": "2020-11-02T00:10:12.517835",
     "exception": false,
     "start_time": "2020-11-02T00:10:05.097872",
     "status": "completed"
    },
    "tags": []
   },
   "outputs": [],
   "source": [
    "import os\n",
    "import sys\n",
    "import random\n",
    "import warnings\n",
    "import numpy as np\n",
    "import pandas as pd \n",
    "from sklearn import preprocessing\n",
    "from sklearn.metrics import log_loss,roc_auc_score\n",
    "from sklearn.decomposition import PCA\n",
    "from tqdm import tqdm_notebook as tqdm\n",
    "from sklearn.cluster import KMeans\n",
    "from sklearn.multioutput import MultiOutputClassifier\n",
    "from sklearn.feature_selection import VarianceThreshold\n",
    "\n",
    "from pytorch_tabnet.metrics import Metric\n",
    "from pytorch_tabnet.tab_model import TabNetRegressor\n",
    "\n",
    "sys.path.append('../input/multilabelstraifier/')\n",
    "from ml_stratifiers import MultilabelStratifiedKFold\n",
    "warnings.filterwarnings('ignore')\n",
    "\n",
    "import time\n",
    "import torch\n",
    "import torch.nn as nn\n",
    "import torch.optim as optim\n",
    "import torch.nn.functional as F\n",
    "import tensorflow as tf"
   ]
  },
  {
   "cell_type": "code",
   "execution_count": 3,
   "metadata": {
    "execution": {
     "iopub.execute_input": "2020-11-02T00:10:12.581242Z",
     "iopub.status.busy": "2020-11-02T00:10:12.580358Z",
     "iopub.status.idle": "2020-11-02T00:10:19.485190Z",
     "shell.execute_reply": "2020-11-02T00:10:19.483913Z"
    },
    "papermill": {
     "duration": 6.940815,
     "end_time": "2020-11-02T00:10:19.485319",
     "exception": false,
     "start_time": "2020-11-02T00:10:12.544504",
     "status": "completed"
    },
    "tags": []
   },
   "outputs": [],
   "source": [
    "DATA_DIR = '/kaggle/input/lish-moa/'\n",
    "train = pd.read_csv(DATA_DIR + 'train_features.csv')\n",
    "targets = pd.read_csv(DATA_DIR + 'train_targets_scored.csv')\n",
    "non_targets = pd.read_csv(DATA_DIR + 'train_targets_nonscored.csv')\n",
    "test = pd.read_csv(DATA_DIR + 'test_features.csv')\n",
    "sub = pd.read_csv(DATA_DIR + 'sample_submission.csv')"
   ]
  },
  {
   "cell_type": "code",
   "execution_count": 4,
   "metadata": {
    "execution": {
     "iopub.execute_input": "2020-11-02T00:10:19.537874Z",
     "iopub.status.busy": "2020-11-02T00:10:19.536894Z",
     "iopub.status.idle": "2020-11-02T00:10:19.634478Z",
     "shell.execute_reply": "2020-11-02T00:10:19.633888Z"
    },
    "papermill": {
     "duration": 0.12934,
     "end_time": "2020-11-02T00:10:19.634607",
     "exception": false,
     "start_time": "2020-11-02T00:10:19.505267",
     "status": "completed"
    },
    "tags": []
   },
   "outputs": [],
   "source": [
    "target_feats = [ i for i in targets.columns if i != \"sig_id\"]\n",
    "g_feats = [i for i in train.columns if \"g-\" in i]\n",
    "c_feats = [i for i in train.columns if \"c-\" in i]\n",
    "\n",
    "noncons_train_index = train[train.cp_type==\"ctl_vehicle\"].index\n",
    "cons_train_index = train[~train.index.isin(noncons_train_index)].index\n",
    "noncons_test_index = test[test.cp_type==\"ctl_vehicle\"].index\n",
    "cons_test_index = test[test.cp_type!=\"ctl_vehicle\"].index"
   ]
  },
  {
   "cell_type": "markdown",
   "metadata": {
    "papermill": {
     "duration": 0.019308,
     "end_time": "2020-11-02T00:10:19.673835",
     "exception": false,
     "start_time": "2020-11-02T00:10:19.654527",
     "status": "completed"
    },
    "tags": []
   },
   "source": [
    "# preprocess"
   ]
  },
  {
   "cell_type": "code",
   "execution_count": 5,
   "metadata": {
    "execution": {
     "iopub.execute_input": "2020-11-02T00:10:19.728433Z",
     "iopub.status.busy": "2020-11-02T00:10:19.727284Z",
     "iopub.status.idle": "2020-11-02T00:10:19.955028Z",
     "shell.execute_reply": "2020-11-02T00:10:19.954463Z"
    },
    "papermill": {
     "duration": 0.261511,
     "end_time": "2020-11-02T00:10:19.955155",
     "exception": false,
     "start_time": "2020-11-02T00:10:19.693644",
     "status": "completed"
    },
    "tags": []
   },
   "outputs": [],
   "source": [
    "train = train[train.index.isin(cons_train_index)].copy().reset_index(drop=True)\n",
    "targets = targets[targets.index.isin(cons_train_index)].copy().reset_index(drop=True)"
   ]
  },
  {
   "cell_type": "markdown",
   "metadata": {
    "papermill": {
     "duration": 0.02057,
     "end_time": "2020-11-02T00:10:19.996806",
     "exception": false,
     "start_time": "2020-11-02T00:10:19.976236",
     "status": "completed"
    },
    "tags": []
   },
   "source": [
    "# feature engineering"
   ]
  },
  {
   "cell_type": "code",
   "execution_count": 6,
   "metadata": {
    "execution": {
     "iopub.execute_input": "2020-11-02T00:10:20.046652Z",
     "iopub.status.busy": "2020-11-02T00:10:20.045885Z",
     "iopub.status.idle": "2020-11-02T00:10:29.745672Z",
     "shell.execute_reply": "2020-11-02T00:10:29.744481Z"
    },
    "papermill": {
     "duration": 9.728328,
     "end_time": "2020-11-02T00:10:29.745802",
     "exception": false,
     "start_time": "2020-11-02T00:10:20.017474",
     "status": "completed"
    },
    "tags": []
   },
   "outputs": [],
   "source": [
    "for i in c_feats + g_feats:\n",
    "    ss = preprocessing.QuantileTransformer(n_quantiles=100, random_state=0, output_distribution=\"normal\")\n",
    "    ss.fit(train[i].values.reshape(-1,1))\n",
    "    train[i] = ss.transform(train[i].values.reshape(-1,1))\n",
    "    test[i] = ss.transform(test[i].values.reshape(-1,1))"
   ]
  },
  {
   "cell_type": "code",
   "execution_count": 7,
   "metadata": {
    "execution": {
     "iopub.execute_input": "2020-11-02T00:10:29.811939Z",
     "iopub.status.busy": "2020-11-02T00:10:29.809915Z",
     "iopub.status.idle": "2020-11-02T00:10:31.302180Z",
     "shell.execute_reply": "2020-11-02T00:10:31.301560Z"
    },
    "papermill": {
     "duration": 1.535515,
     "end_time": "2020-11-02T00:10:31.302307",
     "exception": false,
     "start_time": "2020-11-02T00:10:29.766792",
     "status": "completed"
    },
    "tags": []
   },
   "outputs": [],
   "source": [
    "c_num = 1\n",
    "pca_c_cols = [\"pca-c\"+str(i+1) for i in range(c_num)]\n",
    "pca = PCA(n_components=c_num,random_state=42)\n",
    "c_train = pca.fit_transform(train[c_feats])\n",
    "c_test = pca.transform(test[c_feats])\n",
    "c_train = pd.DataFrame(c_train, columns=pca_c_cols)\n",
    "c_test = pd.DataFrame(c_test, columns=pca_c_cols)\n",
    "\n",
    "g_num = 10\n",
    "pca_g_cols = [\"pca-g\"+str(i+1) for i in range(g_num)]\n",
    "pca = PCA(n_components=g_num, random_state=42)\n",
    "g_train = pca.fit_transform(train[g_feats])\n",
    "g_test = pca.transform(test[g_feats])\n",
    "g_train = pd.DataFrame(g_train, columns=pca_g_cols)\n",
    "g_test = pd.DataFrame(g_test, columns=pca_g_cols)\n",
    "\n",
    "train = pd.concat([train, c_train],axis=1)\n",
    "test = pd.concat([test, c_test],axis=1)\n",
    "train = pd.concat([train, g_train],axis=1)\n",
    "test = pd.concat([test, g_test],axis=1)"
   ]
  },
  {
   "cell_type": "code",
   "execution_count": 8,
   "metadata": {
    "execution": {
     "iopub.execute_input": "2020-11-02T00:10:31.348994Z",
     "iopub.status.busy": "2020-11-02T00:10:31.348072Z",
     "iopub.status.idle": "2020-11-02T00:10:31.351413Z",
     "shell.execute_reply": "2020-11-02T00:10:31.350717Z"
    },
    "papermill": {
     "duration": 0.028332,
     "end_time": "2020-11-02T00:10:31.351535",
     "exception": false,
     "start_time": "2020-11-02T00:10:31.323203",
     "status": "completed"
    },
    "tags": []
   },
   "outputs": [],
   "source": [
    "#n_clusters_g = 15\n",
    "#n_clusters_c = 5\n",
    "#def create_cluster(train, test, kind, n_clusters):\n",
    "#    if kind == \"g\":\n",
    "#        train_ = train[pca_g_cols].copy()\n",
    "#        test_ = test[pca_g_cols].copy()\n",
    "#    else:\n",
    "#        train_ = train[pca_c_cols].copy()\n",
    "#        test_ = test[pca_c_cols].copy()    \n",
    "#    kmeans = KMeans(n_clusters = n_clusters, random_state = 0).fit(train_)\n",
    "#    train[f'clusters_{kind}'] = kmeans.labels_\n",
    "#    test[f'clusters_{kind}'] = kmeans.predict(test_)\n",
    "#    train = pd.get_dummies(train, columns = [f'clusters_{kind}'])\n",
    "#    test = pd.get_dummies(test, columns = [f'clusters_{kind}'])\n",
    "#    return train, test\n",
    "    \n",
    "#train, test = create_cluster(train, test, kind = 'g', n_clusters = n_clusters_g)\n",
    "#train, test = create_cluster(train, test, kind = 'c', n_clusters = n_clusters_c)"
   ]
  },
  {
   "cell_type": "code",
   "execution_count": 9,
   "metadata": {
    "execution": {
     "iopub.execute_input": "2020-11-02T00:10:31.402359Z",
     "iopub.status.busy": "2020-11-02T00:10:31.401113Z",
     "iopub.status.idle": "2020-11-02T00:10:31.665407Z",
     "shell.execute_reply": "2020-11-02T00:10:31.665985Z"
    },
    "papermill": {
     "duration": 0.294211,
     "end_time": "2020-11-02T00:10:31.666148",
     "exception": false,
     "start_time": "2020-11-02T00:10:31.371937",
     "status": "completed"
    },
    "tags": []
   },
   "outputs": [
    {
     "name": "stdout",
     "output_type": "stream",
     "text": [
      "(21948, 885) (3982, 885)\n"
     ]
    }
   ],
   "source": [
    "def fe(df):\n",
    "    tmp = df.copy()\n",
    "    #tmp['g_sum'] = tmp[g_feats].sum(axis = 1)\n",
    "    #tmp['g_mean'] = tmp[g_feats].mean(axis = 1)\n",
    "    #tmp['g_std'] = tmp[g_feats].std(axis = 1)\n",
    "    #tmp['g_kurt'] = tmp[g_feats].kurtosis(axis = 1)\n",
    "    #tmp['g_skew'] = tmp[g_feats].skew(axis = 1)\n",
    "    #tmp['c_sum'] = tmp[c_feats].sum(axis = 1)\n",
    "    #tmp['c_mean'] = tmp[c_feats].mean(axis = 1)\n",
    "    #tmp['c_std'] = tmp[c_feats].std(axis = 1)\n",
    "    #tmp['c_kurt'] = tmp[c_feats].kurtosis(axis = 1)\n",
    "    #tmp['c_skew'] = tmp[c_feats].skew(axis = 1)\n",
    "    #tmp['gc_sum'] = tmp[c_feats + g_feats].sum(axis = 1)\n",
    "    #tmp['gc_mean'] = tmp[c_feats + g_feats].mean(axis = 1)\n",
    "    #tmp['gc_std'] = tmp[c_feats + g_feats].std(axis = 1)\n",
    "    #tmp['gc_kurt'] = tmp[c_feats + g_feats].kurtosis(axis = 1)\n",
    "    #tmp['gc_skew'] = tmp[c_feats + g_feats].skew(axis = 1)\n",
    "    #tmp[\"g_c_diff\"] = tmp[\"g_sum\"] - tmp[\"c_sum\"]\n",
    "    tmp.loc[:, 'cp_dose'] = tmp.loc[:, 'cp_dose'].map({'D1': 0, 'D2': 1})      \n",
    "    tmp.drop([\"sig_id\", \"cp_type\"], axis=1, inplace=True)\n",
    "    return tmp\n",
    "\n",
    "train = fe(train)\n",
    "test = fe(test)\n",
    "\n",
    "print(train.shape, test.shape)"
   ]
  },
  {
   "cell_type": "code",
   "execution_count": 10,
   "metadata": {
    "execution": {
     "iopub.execute_input": "2020-11-02T00:10:31.712513Z",
     "iopub.status.busy": "2020-11-02T00:10:31.711554Z",
     "iopub.status.idle": "2020-11-02T00:10:31.716467Z",
     "shell.execute_reply": "2020-11-02T00:10:31.715957Z"
    },
    "papermill": {
     "duration": 0.028056,
     "end_time": "2020-11-02T00:10:31.716606",
     "exception": false,
     "start_time": "2020-11-02T00:10:31.688550",
     "status": "completed"
    },
    "tags": []
   },
   "outputs": [],
   "source": [
    "#X = train[g_feats+c_feats].copy().values\n",
    "#select = VarianceThreshold(threshold=1.5)\n",
    "#X_new = select.fit_transform(X)\n",
    "#remain_feats = list(np.array(train[g_feats+c_feats].columns)[select.get_support()==False])\n",
    "#drop_feats = [i for i in c_feats + g_feats if i not in remain_feats]\n",
    "#len(drop_feats)\n",
    "\n",
    "#train.drop(drop_feats, axis=1, inplace=True)\n",
    "#test.drop(drop_feats, axis=1, inplace=True)"
   ]
  },
  {
   "cell_type": "code",
   "execution_count": 11,
   "metadata": {
    "execution": {
     "iopub.execute_input": "2020-11-02T00:10:31.767042Z",
     "iopub.status.busy": "2020-11-02T00:10:31.765918Z",
     "iopub.status.idle": "2020-11-02T00:10:31.796106Z",
     "shell.execute_reply": "2020-11-02T00:10:31.796737Z"
    },
    "papermill": {
     "duration": 0.058829,
     "end_time": "2020-11-02T00:10:31.796878",
     "exception": false,
     "start_time": "2020-11-02T00:10:31.738049",
     "status": "completed"
    },
    "tags": []
   },
   "outputs": [
    {
     "data": {
      "text/html": [
       "<div>\n",
       "<style scoped>\n",
       "    .dataframe tbody tr th:only-of-type {\n",
       "        vertical-align: middle;\n",
       "    }\n",
       "\n",
       "    .dataframe tbody tr th {\n",
       "        vertical-align: top;\n",
       "    }\n",
       "\n",
       "    .dataframe thead th {\n",
       "        text-align: right;\n",
       "    }\n",
       "</style>\n",
       "<table border=\"1\" class=\"dataframe\">\n",
       "  <thead>\n",
       "    <tr style=\"text-align: right;\">\n",
       "      <th></th>\n",
       "      <th>cp_time</th>\n",
       "      <th>cp_dose</th>\n",
       "      <th>g-0</th>\n",
       "      <th>g-1</th>\n",
       "      <th>g-2</th>\n",
       "      <th>g-3</th>\n",
       "      <th>g-4</th>\n",
       "      <th>g-5</th>\n",
       "      <th>g-6</th>\n",
       "      <th>g-7</th>\n",
       "      <th>...</th>\n",
       "      <th>pca-g1</th>\n",
       "      <th>pca-g2</th>\n",
       "      <th>pca-g3</th>\n",
       "      <th>pca-g4</th>\n",
       "      <th>pca-g5</th>\n",
       "      <th>pca-g6</th>\n",
       "      <th>pca-g7</th>\n",
       "      <th>pca-g8</th>\n",
       "      <th>pca-g9</th>\n",
       "      <th>pca-g10</th>\n",
       "    </tr>\n",
       "  </thead>\n",
       "  <tbody>\n",
       "    <tr>\n",
       "      <th>0</th>\n",
       "      <td>24</td>\n",
       "      <td>0</td>\n",
       "      <td>1.111801</td>\n",
       "      <td>0.903367</td>\n",
       "      <td>-0.433829</td>\n",
       "      <td>-0.971728</td>\n",
       "      <td>-0.286559</td>\n",
       "      <td>-1.011388</td>\n",
       "      <td>-1.357431</td>\n",
       "      <td>-0.041716</td>\n",
       "      <td>...</td>\n",
       "      <td>-5.947541</td>\n",
       "      <td>-6.565323</td>\n",
       "      <td>7.922011</td>\n",
       "      <td>-7.719018</td>\n",
       "      <td>4.405187</td>\n",
       "      <td>1.806038</td>\n",
       "      <td>3.393864</td>\n",
       "      <td>1.992503</td>\n",
       "      <td>2.330853</td>\n",
       "      <td>0.229401</td>\n",
       "    </tr>\n",
       "    <tr>\n",
       "      <th>1</th>\n",
       "      <td>72</td>\n",
       "      <td>0</td>\n",
       "      <td>0.105667</td>\n",
       "      <td>0.672509</td>\n",
       "      <td>0.257486</td>\n",
       "      <td>0.086759</td>\n",
       "      <td>1.199685</td>\n",
       "      <td>0.691813</td>\n",
       "      <td>0.353695</td>\n",
       "      <td>0.558374</td>\n",
       "      <td>...</td>\n",
       "      <td>-5.162087</td>\n",
       "      <td>-0.264433</td>\n",
       "      <td>-12.554034</td>\n",
       "      <td>4.953071</td>\n",
       "      <td>0.799825</td>\n",
       "      <td>-0.025325</td>\n",
       "      <td>1.039128</td>\n",
       "      <td>-0.897690</td>\n",
       "      <td>3.815383</td>\n",
       "      <td>3.735017</td>\n",
       "    </tr>\n",
       "    <tr>\n",
       "      <th>2</th>\n",
       "      <td>48</td>\n",
       "      <td>0</td>\n",
       "      <td>0.767036</td>\n",
       "      <td>0.942499</td>\n",
       "      <td>1.408911</td>\n",
       "      <td>-0.126492</td>\n",
       "      <td>-0.028694</td>\n",
       "      <td>1.490985</td>\n",
       "      <td>0.272541</td>\n",
       "      <td>0.359490</td>\n",
       "      <td>...</td>\n",
       "      <td>0.677536</td>\n",
       "      <td>8.687788</td>\n",
       "      <td>-2.526892</td>\n",
       "      <td>0.283035</td>\n",
       "      <td>0.538570</td>\n",
       "      <td>2.956883</td>\n",
       "      <td>-2.141152</td>\n",
       "      <td>3.346174</td>\n",
       "      <td>-1.128757</td>\n",
       "      <td>-4.715069</td>\n",
       "    </tr>\n",
       "    <tr>\n",
       "      <th>3</th>\n",
       "      <td>48</td>\n",
       "      <td>0</td>\n",
       "      <td>-0.755626</td>\n",
       "      <td>-0.297077</td>\n",
       "      <td>-0.455058</td>\n",
       "      <td>0.765972</td>\n",
       "      <td>2.343522</td>\n",
       "      <td>-0.852713</td>\n",
       "      <td>-2.316440</td>\n",
       "      <td>0.301512</td>\n",
       "      <td>...</td>\n",
       "      <td>10.869688</td>\n",
       "      <td>10.066734</td>\n",
       "      <td>-0.212951</td>\n",
       "      <td>-5.016873</td>\n",
       "      <td>-7.041268</td>\n",
       "      <td>-3.342125</td>\n",
       "      <td>-3.466734</td>\n",
       "      <td>6.218932</td>\n",
       "      <td>-4.034827</td>\n",
       "      <td>0.560658</td>\n",
       "    </tr>\n",
       "    <tr>\n",
       "      <th>4</th>\n",
       "      <td>72</td>\n",
       "      <td>1</td>\n",
       "      <td>-0.468806</td>\n",
       "      <td>-0.504196</td>\n",
       "      <td>0.956769</td>\n",
       "      <td>0.975864</td>\n",
       "      <td>1.447729</td>\n",
       "      <td>-0.863807</td>\n",
       "      <td>-0.346926</td>\n",
       "      <td>-0.227072</td>\n",
       "      <td>...</td>\n",
       "      <td>-6.933980</td>\n",
       "      <td>6.061535</td>\n",
       "      <td>-8.831261</td>\n",
       "      <td>-4.482883</td>\n",
       "      <td>-7.548974</td>\n",
       "      <td>-8.808425</td>\n",
       "      <td>-2.480037</td>\n",
       "      <td>-4.121178</td>\n",
       "      <td>-1.091505</td>\n",
       "      <td>-1.924720</td>\n",
       "    </tr>\n",
       "  </tbody>\n",
       "</table>\n",
       "<p>5 rows × 885 columns</p>\n",
       "</div>"
      ],
      "text/plain": [
       "   cp_time  cp_dose       g-0       g-1       g-2       g-3       g-4  \\\n",
       "0       24        0  1.111801  0.903367 -0.433829 -0.971728 -0.286559   \n",
       "1       72        0  0.105667  0.672509  0.257486  0.086759  1.199685   \n",
       "2       48        0  0.767036  0.942499  1.408911 -0.126492 -0.028694   \n",
       "3       48        0 -0.755626 -0.297077 -0.455058  0.765972  2.343522   \n",
       "4       72        1 -0.468806 -0.504196  0.956769  0.975864  1.447729   \n",
       "\n",
       "        g-5       g-6       g-7  ...     pca-g1     pca-g2     pca-g3  \\\n",
       "0 -1.011388 -1.357431 -0.041716  ...  -5.947541  -6.565323   7.922011   \n",
       "1  0.691813  0.353695  0.558374  ...  -5.162087  -0.264433 -12.554034   \n",
       "2  1.490985  0.272541  0.359490  ...   0.677536   8.687788  -2.526892   \n",
       "3 -0.852713 -2.316440  0.301512  ...  10.869688  10.066734  -0.212951   \n",
       "4 -0.863807 -0.346926 -0.227072  ...  -6.933980   6.061535  -8.831261   \n",
       "\n",
       "     pca-g4    pca-g5    pca-g6    pca-g7    pca-g8    pca-g9   pca-g10  \n",
       "0 -7.719018  4.405187  1.806038  3.393864  1.992503  2.330853  0.229401  \n",
       "1  4.953071  0.799825 -0.025325  1.039128 -0.897690  3.815383  3.735017  \n",
       "2  0.283035  0.538570  2.956883 -2.141152  3.346174 -1.128757 -4.715069  \n",
       "3 -5.016873 -7.041268 -3.342125 -3.466734  6.218932 -4.034827  0.560658  \n",
       "4 -4.482883 -7.548974 -8.808425 -2.480037 -4.121178 -1.091505 -1.924720  \n",
       "\n",
       "[5 rows x 885 columns]"
      ]
     },
     "execution_count": 11,
     "metadata": {},
     "output_type": "execute_result"
    }
   ],
   "source": [
    "train.head()"
   ]
  },
  {
   "cell_type": "code",
   "execution_count": 12,
   "metadata": {
    "execution": {
     "iopub.execute_input": "2020-11-02T00:10:31.854507Z",
     "iopub.status.busy": "2020-11-02T00:10:31.853136Z",
     "iopub.status.idle": "2020-11-02T00:10:32.021760Z",
     "shell.execute_reply": "2020-11-02T00:10:32.021072Z"
    },
    "papermill": {
     "duration": 0.199549,
     "end_time": "2020-11-02T00:10:32.021904",
     "exception": false,
     "start_time": "2020-11-02T00:10:31.822355",
     "status": "completed"
    },
    "tags": []
   },
   "outputs": [],
   "source": [
    "fn_train = train.copy().to_numpy()\n",
    "fn_test = test.copy().to_numpy()\n",
    "    \n",
    "fn_targets = targets.drop(\"sig_id\", axis=1).copy().to_numpy()"
   ]
  },
  {
   "cell_type": "code",
   "execution_count": 13,
   "metadata": {
    "execution": {
     "iopub.execute_input": "2020-11-02T00:10:32.080234Z",
     "iopub.status.busy": "2020-11-02T00:10:32.079168Z",
     "iopub.status.idle": "2020-11-02T00:10:32.083086Z",
     "shell.execute_reply": "2020-11-02T00:10:32.083656Z"
    },
    "papermill": {
     "duration": 0.035363,
     "end_time": "2020-11-02T00:10:32.083821",
     "exception": false,
     "start_time": "2020-11-02T00:10:32.048458",
     "status": "completed"
    },
    "tags": []
   },
   "outputs": [
    {
     "data": {
      "text/plain": [
       "((21948, 885), (3982, 885), (21948, 206))"
      ]
     },
     "execution_count": 13,
     "metadata": {},
     "output_type": "execute_result"
    }
   ],
   "source": [
    "fn_train.shape, fn_test.shape, fn_targets.shape"
   ]
  },
  {
   "cell_type": "markdown",
   "metadata": {
    "papermill": {
     "duration": 0.0222,
     "end_time": "2020-11-02T00:10:32.128539",
     "exception": false,
     "start_time": "2020-11-02T00:10:32.106339",
     "status": "completed"
    },
    "tags": []
   },
   "source": [
    "# modelling"
   ]
  },
  {
   "cell_type": "code",
   "execution_count": 14,
   "metadata": {
    "execution": {
     "iopub.execute_input": "2020-11-02T00:10:32.181834Z",
     "iopub.status.busy": "2020-11-02T00:10:32.180915Z",
     "iopub.status.idle": "2020-11-02T00:10:32.183533Z",
     "shell.execute_reply": "2020-11-02T00:10:32.184027Z"
    },
    "papermill": {
     "duration": 0.033142,
     "end_time": "2020-11-02T00:10:32.184142",
     "exception": false,
     "start_time": "2020-11-02T00:10:32.151000",
     "status": "completed"
    },
    "tags": []
   },
   "outputs": [],
   "source": [
    "class LogitsLogLoss(Metric):\n",
    "    def __init__(self):\n",
    "        self._name = \"logits_ll\"\n",
    "        self._maximize = False\n",
    "\n",
    "    def __call__(self, y_true, y_pred):\n",
    "\n",
    "        logits = 1 / (1 + np.exp(-y_pred))\n",
    "        \n",
    "        #smoothing = 0.00001\n",
    "        #n_classes = 206\n",
    "        #y_true = y_true * (1 - smoothing) + np.ones_like(y_true) * smoothing / n_classes\n",
    "        \n",
    "        aux = (1-y_true)*np.log(1-logits+1e-15) + y_true*np.log(logits+1e-15)\n",
    "        return np.mean(-aux)"
   ]
  },
  {
   "cell_type": "code",
   "execution_count": 15,
   "metadata": {
    "execution": {
     "iopub.execute_input": "2020-11-02T00:10:32.263512Z",
     "iopub.status.busy": "2020-11-02T00:10:32.254648Z",
     "iopub.status.idle": "2020-11-02T00:30:16.588581Z",
     "shell.execute_reply": "2020-11-02T00:30:16.587769Z"
    },
    "papermill": {
     "duration": 1184.380984,
     "end_time": "2020-11-02T00:30:16.588707",
     "exception": false,
     "start_time": "2020-11-02T00:10:32.207723",
     "status": "completed"
    },
    "tags": []
   },
   "outputs": [
    {
     "name": "stdout",
     "output_type": "stream",
     "text": [
      "FOLDS :  1\n",
      "Device used : cuda\n",
      "epoch 0  | loss: 0.4388  | val_logits_ll: 0.20648 |  0:00:02s\n",
      "epoch 10 | loss: 0.01926 | val_logits_ll: 0.01961 |  0:00:11s\n",
      "epoch 20 | loss: 0.01741 | val_logits_ll: 0.01951 |  0:00:20s\n",
      "epoch 30 | loss: 0.01671 | val_logits_ll: 0.0175  |  0:00:29s\n",
      "epoch 40 | loss: 0.01646 | val_logits_ll: 0.01734 |  0:00:39s\n",
      "epoch 50 | loss: 0.0159  | val_logits_ll: 0.01776 |  0:00:48s\n",
      "epoch 60 | loss: 0.01571 | val_logits_ll: 0.01695 |  0:00:57s\n",
      "epoch 70 | loss: 0.01559 | val_logits_ll: 0.01682 |  0:01:07s\n",
      "epoch 80 | loss: 0.01505 | val_logits_ll: 0.01688 |  0:01:16s\n",
      "\n",
      "Early stopping occured at epoch 89 with best_epoch = 69 and best_val_logits_ll = 0.01671\n",
      "Best weights from best epoch are automatically used!\n",
      "FOLDS :  2\n",
      "Device used : cuda\n",
      "epoch 0  | loss: 0.44418 | val_logits_ll: 0.22605 |  0:00:00s\n",
      "epoch 10 | loss: 0.01906 | val_logits_ll: 0.02057 |  0:00:09s\n",
      "epoch 20 | loss: 0.01709 | val_logits_ll: 0.01973 |  0:00:19s\n",
      "epoch 30 | loss: 0.0164  | val_logits_ll: 0.0197  |  0:00:28s\n",
      "epoch 40 | loss: 0.01579 | val_logits_ll: 0.01777 |  0:00:39s\n",
      "epoch 50 | loss: 0.01526 | val_logits_ll: 0.01734 |  0:00:48s\n",
      "epoch 60 | loss: 0.01482 | val_logits_ll: 0.01743 |  0:00:57s\n",
      "\n",
      "Early stopping occured at epoch 65 with best_epoch = 45 and best_val_logits_ll = 0.01709\n",
      "Best weights from best epoch are automatically used!\n",
      "FOLDS :  3\n",
      "Device used : cuda\n",
      "epoch 0  | loss: 0.44406 | val_logits_ll: 0.18735 |  0:00:00s\n",
      "epoch 10 | loss: 0.01894 | val_logits_ll: 0.01953 |  0:00:10s\n",
      "epoch 20 | loss: 0.01722 | val_logits_ll: 0.01813 |  0:00:19s\n",
      "epoch 30 | loss: 0.0165  | val_logits_ll: 0.01925 |  0:00:29s\n",
      "epoch 40 | loss: 0.01616 | val_logits_ll: 0.01725 |  0:00:38s\n",
      "epoch 50 | loss: 0.01551 | val_logits_ll: 0.01739 |  0:00:47s\n",
      "epoch 60 | loss: 0.01498 | val_logits_ll: 0.01706 |  0:00:57s\n",
      "epoch 70 | loss: 0.01449 | val_logits_ll: 0.01744 |  0:01:06s\n",
      "\n",
      "Early stopping occured at epoch 73 with best_epoch = 53 and best_val_logits_ll = 0.01703\n",
      "Best weights from best epoch are automatically used!\n",
      "FOLDS :  4\n",
      "Device used : cuda\n",
      "epoch 0  | loss: 0.43682 | val_logits_ll: 0.19717 |  0:00:00s\n",
      "epoch 10 | loss: 0.0191  | val_logits_ll: 0.01934 |  0:00:10s\n",
      "epoch 20 | loss: 0.01713 | val_logits_ll: 0.01913 |  0:00:20s\n",
      "epoch 30 | loss: 0.01649 | val_logits_ll: 0.01722 |  0:00:30s\n",
      "epoch 40 | loss: 0.01584 | val_logits_ll: 0.01777 |  0:00:39s\n",
      "epoch 50 | loss: 0.01554 | val_logits_ll: 0.01701 |  0:00:49s\n",
      "epoch 60 | loss: 0.01533 | val_logits_ll: 0.01695 |  0:00:58s\n",
      "epoch 70 | loss: 0.01534 | val_logits_ll: 0.01674 |  0:01:07s\n",
      "epoch 80 | loss: 0.01463 | val_logits_ll: 0.01728 |  0:01:17s\n",
      "epoch 90 | loss: 0.01424 | val_logits_ll: 0.01735 |  0:01:27s\n",
      "\n",
      "Early stopping occured at epoch 99 with best_epoch = 79 and best_val_logits_ll = 0.01674\n",
      "Best weights from best epoch are automatically used!\n",
      "FOLDS :  5\n",
      "Device used : cuda\n",
      "epoch 0  | loss: 0.43901 | val_logits_ll: 0.21672 |  0:00:00s\n",
      "epoch 10 | loss: 0.0189  | val_logits_ll: 0.01942 |  0:00:10s\n",
      "epoch 20 | loss: 0.01708 | val_logits_ll: 0.01847 |  0:00:19s\n",
      "epoch 30 | loss: 0.01653 | val_logits_ll: 0.01948 |  0:00:28s\n",
      "epoch 40 | loss: 0.01583 | val_logits_ll: 0.01751 |  0:00:38s\n",
      "epoch 50 | loss: 0.01564 | val_logits_ll: 0.01764 |  0:00:48s\n",
      "epoch 60 | loss: 0.01532 | val_logits_ll: 0.01703 |  0:00:57s\n",
      "epoch 70 | loss: 0.01511 | val_logits_ll: 0.01706 |  0:01:07s\n",
      "\n",
      "Early stopping occured at epoch 72 with best_epoch = 52 and best_val_logits_ll = 0.01695\n",
      "Best weights from best epoch are automatically used!\n",
      "OOF log loss: 0.01690292209245438\n",
      "Overall AUC : 0.7473158429151783\n",
      "FOLDS :  1\n",
      "Device used : cuda\n",
      "epoch 0  | loss: 0.44344 | val_logits_ll: 0.2047  |  0:00:00s\n",
      "epoch 10 | loss: 0.01925 | val_logits_ll: 0.01942 |  0:00:10s\n",
      "epoch 20 | loss: 0.01733 | val_logits_ll: 0.01822 |  0:00:19s\n",
      "epoch 30 | loss: 0.01657 | val_logits_ll: 0.01791 |  0:00:29s\n",
      "epoch 40 | loss: 0.01601 | val_logits_ll: 0.01733 |  0:00:39s\n",
      "epoch 50 | loss: 0.01578 | val_logits_ll: 0.01712 |  0:00:49s\n",
      "epoch 60 | loss: 0.01524 | val_logits_ll: 0.01697 |  0:00:58s\n",
      "epoch 70 | loss: 0.0149  | val_logits_ll: 0.01724 |  0:01:07s\n",
      "epoch 80 | loss: 0.01435 | val_logits_ll: 0.01732 |  0:01:17s\n",
      "\n",
      "Early stopping occured at epoch 87 with best_epoch = 67 and best_val_logits_ll = 0.01685\n",
      "Best weights from best epoch are automatically used!\n",
      "FOLDS :  2\n",
      "Device used : cuda\n",
      "epoch 0  | loss: 0.44169 | val_logits_ll: 0.20588 |  0:00:00s\n",
      "epoch 10 | loss: 0.01892 | val_logits_ll: 0.02011 |  0:00:10s\n",
      "epoch 20 | loss: 0.0172  | val_logits_ll: 0.01817 |  0:00:20s\n",
      "epoch 30 | loss: 0.01637 | val_logits_ll: 0.01739 |  0:00:30s\n",
      "epoch 40 | loss: 0.0158  | val_logits_ll: 0.01789 |  0:00:39s\n",
      "epoch 50 | loss: 0.01532 | val_logits_ll: 0.01768 |  0:00:49s\n",
      "epoch 60 | loss: 0.01483 | val_logits_ll: 0.01709 |  0:00:59s\n",
      "epoch 70 | loss: 0.015   | val_logits_ll: 0.01719 |  0:01:09s\n",
      "\n",
      "Early stopping occured at epoch 72 with best_epoch = 52 and best_val_logits_ll = 0.01704\n",
      "Best weights from best epoch are automatically used!\n",
      "FOLDS :  3\n",
      "Device used : cuda\n",
      "epoch 0  | loss: 0.44322 | val_logits_ll: 0.19279 |  0:00:00s\n",
      "epoch 10 | loss: 0.01921 | val_logits_ll: 0.01957 |  0:00:10s\n",
      "epoch 20 | loss: 0.01713 | val_logits_ll: 0.0184  |  0:00:20s\n",
      "epoch 30 | loss: 0.0163  | val_logits_ll: 0.01858 |  0:00:29s\n",
      "epoch 40 | loss: 0.01576 | val_logits_ll: 0.01998 |  0:00:38s\n",
      "epoch 50 | loss: 0.01558 | val_logits_ll: 0.01713 |  0:00:49s\n",
      "epoch 60 | loss: 0.01535 | val_logits_ll: 0.01728 |  0:00:59s\n",
      "epoch 70 | loss: 0.01465 | val_logits_ll: 0.01745 |  0:01:08s\n",
      "\n",
      "Early stopping occured at epoch 76 with best_epoch = 56 and best_val_logits_ll = 0.01708\n",
      "Best weights from best epoch are automatically used!\n",
      "FOLDS :  4\n",
      "Device used : cuda\n",
      "epoch 0  | loss: 0.44208 | val_logits_ll: 0.21096 |  0:00:00s\n",
      "epoch 10 | loss: 0.0192  | val_logits_ll: 0.01942 |  0:00:10s\n",
      "epoch 20 | loss: 0.01746 | val_logits_ll: 0.01779 |  0:00:20s\n",
      "epoch 30 | loss: 0.01667 | val_logits_ll: 0.01743 |  0:00:29s\n",
      "epoch 40 | loss: 0.01619 | val_logits_ll: 0.01726 |  0:00:40s\n",
      "epoch 50 | loss: 0.01579 | val_logits_ll: 0.01739 |  0:00:49s\n",
      "epoch 60 | loss: 0.01559 | val_logits_ll: 0.01689 |  0:00:59s\n",
      "epoch 70 | loss: 0.0151  | val_logits_ll: 0.01689 |  0:01:08s\n",
      "\n",
      "Early stopping occured at epoch 78 with best_epoch = 58 and best_val_logits_ll = 0.01674\n",
      "Best weights from best epoch are automatically used!\n",
      "FOLDS :  5\n",
      "Device used : cuda\n",
      "epoch 0  | loss: 0.4367  | val_logits_ll: 0.2041  |  0:00:00s\n",
      "epoch 10 | loss: 0.01912 | val_logits_ll: 0.0199  |  0:00:10s\n",
      "epoch 20 | loss: 0.01723 | val_logits_ll: 0.0182  |  0:00:20s\n",
      "epoch 30 | loss: 0.01657 | val_logits_ll: 0.01754 |  0:00:30s\n",
      "epoch 40 | loss: 0.01612 | val_logits_ll: 0.01739 |  0:00:39s\n",
      "epoch 50 | loss: 0.01566 | val_logits_ll: 0.01721 |  0:00:49s\n",
      "epoch 60 | loss: 0.01522 | val_logits_ll: 0.01729 |  0:00:58s\n",
      "epoch 70 | loss: 0.01476 | val_logits_ll: 0.01721 |  0:01:08s\n",
      "\n",
      "Early stopping occured at epoch 78 with best_epoch = 58 and best_val_logits_ll = 0.01699\n",
      "Best weights from best epoch are automatically used!\n",
      "OOF log loss: 0.016939903551029555\n",
      "Overall AUC : 0.7464751565949403\n",
      "FOLDS :  1\n",
      "Device used : cuda\n",
      "epoch 0  | loss: 0.47021 | val_logits_ll: 0.2409  |  0:00:00s\n",
      "epoch 10 | loss: 0.01918 | val_logits_ll: 0.01937 |  0:00:11s\n",
      "epoch 20 | loss: 0.01739 | val_logits_ll: 0.01827 |  0:00:20s\n",
      "epoch 30 | loss: 0.01679 | val_logits_ll: 0.01744 |  0:00:29s\n",
      "epoch 40 | loss: 0.01605 | val_logits_ll: 0.01839 |  0:00:39s\n",
      "epoch 50 | loss: 0.01584 | val_logits_ll: 0.01688 |  0:00:48s\n",
      "epoch 60 | loss: 0.01522 | val_logits_ll: 0.01675 |  0:00:59s\n",
      "epoch 70 | loss: 0.01516 | val_logits_ll: 0.01679 |  0:01:08s\n",
      "epoch 80 | loss: 0.0149  | val_logits_ll: 0.01703 |  0:01:18s\n",
      "\n",
      "Early stopping occured at epoch 83 with best_epoch = 63 and best_val_logits_ll = 0.01672\n",
      "Best weights from best epoch are automatically used!\n",
      "FOLDS :  2\n",
      "Device used : cuda\n",
      "epoch 0  | loss: 0.4721  | val_logits_ll: 0.25084 |  0:00:00s\n",
      "epoch 10 | loss: 0.01907 | val_logits_ll: 0.01956 |  0:00:10s\n",
      "epoch 20 | loss: 0.01727 | val_logits_ll: 0.02084 |  0:00:19s\n",
      "epoch 30 | loss: 0.01654 | val_logits_ll: 0.01913 |  0:00:28s\n",
      "epoch 40 | loss: 0.01596 | val_logits_ll: 0.01764 |  0:00:39s\n",
      "epoch 50 | loss: 0.0154  | val_logits_ll: 0.01757 |  0:00:49s\n",
      "epoch 60 | loss: 0.01507 | val_logits_ll: 0.01721 |  0:00:58s\n",
      "epoch 70 | loss: 0.01473 | val_logits_ll: 0.01721 |  0:01:08s\n",
      "epoch 80 | loss: 0.01434 | val_logits_ll: 0.0178  |  0:01:17s\n",
      "\n",
      "Early stopping occured at epoch 83 with best_epoch = 63 and best_val_logits_ll = 0.01713\n",
      "Best weights from best epoch are automatically used!\n",
      "FOLDS :  3\n",
      "Device used : cuda\n",
      "epoch 0  | loss: 0.47379 | val_logits_ll: 0.22631 |  0:00:00s\n",
      "epoch 10 | loss: 0.01927 | val_logits_ll: 0.01949 |  0:00:10s\n",
      "epoch 20 | loss: 0.0175  | val_logits_ll: 0.01852 |  0:00:21s\n",
      "epoch 30 | loss: 0.01656 | val_logits_ll: 0.0183  |  0:00:31s\n",
      "epoch 40 | loss: 0.01592 | val_logits_ll: 0.01788 |  0:00:40s\n",
      "epoch 50 | loss: 0.01569 | val_logits_ll: 0.01756 |  0:00:50s\n",
      "epoch 60 | loss: 0.0151  | val_logits_ll: 0.01718 |  0:00:59s\n",
      "epoch 70 | loss: 0.01461 | val_logits_ll: 0.01761 |  0:01:09s\n",
      "\n",
      "Early stopping occured at epoch 72 with best_epoch = 52 and best_val_logits_ll = 0.01703\n",
      "Best weights from best epoch are automatically used!\n",
      "FOLDS :  4\n",
      "Device used : cuda\n",
      "epoch 0  | loss: 0.47449 | val_logits_ll: 0.23082 |  0:00:01s\n",
      "epoch 10 | loss: 0.01983 | val_logits_ll: 0.01999 |  0:00:11s\n",
      "epoch 20 | loss: 0.01734 | val_logits_ll: 0.01821 |  0:00:20s\n",
      "epoch 30 | loss: 0.01665 | val_logits_ll: 0.01763 |  0:00:29s\n",
      "epoch 40 | loss: 0.01607 | val_logits_ll: 0.01738 |  0:00:39s\n",
      "epoch 50 | loss: 0.01552 | val_logits_ll: 0.01761 |  0:00:48s\n",
      "epoch 60 | loss: 0.01504 | val_logits_ll: 0.01747 |  0:00:58s\n",
      "epoch 70 | loss: 0.01462 | val_logits_ll: 0.01728 |  0:01:08s\n",
      "epoch 80 | loss: 0.01391 | val_logits_ll: 0.01752 |  0:01:18s\n",
      "\n",
      "Early stopping occured at epoch 81 with best_epoch = 61 and best_val_logits_ll = 0.01692\n",
      "Best weights from best epoch are automatically used!\n",
      "FOLDS :  5\n",
      "Device used : cuda\n",
      "epoch 0  | loss: 0.47568 | val_logits_ll: 0.22949 |  0:00:00s\n",
      "epoch 10 | loss: 0.01929 | val_logits_ll: 0.01994 |  0:00:10s\n",
      "epoch 20 | loss: 0.01718 | val_logits_ll: 0.01794 |  0:00:19s\n",
      "epoch 30 | loss: 0.01636 | val_logits_ll: 0.01747 |  0:00:29s\n",
      "epoch 40 | loss: 0.01591 | val_logits_ll: 0.01768 |  0:00:39s\n",
      "epoch 50 | loss: 0.01576 | val_logits_ll: 0.01707 |  0:00:49s\n",
      "epoch 60 | loss: 0.01544 | val_logits_ll: 0.01727 |  0:00:58s\n",
      "epoch 70 | loss: 0.01495 | val_logits_ll: 0.01707 |  0:01:08s\n",
      "\n",
      "Early stopping occured at epoch 75 with best_epoch = 55 and best_val_logits_ll = 0.01695\n",
      "Best weights from best epoch are automatically used!\n",
      "OOF log loss: 0.0169493200408102\n",
      "Overall AUC : 0.7419903395518102\n"
     ]
    }
   ],
   "source": [
    "MAX_EPOCH=200\n",
    "\n",
    "smoothing = 0.001\n",
    "p_min = smoothing\n",
    "p_max = 1 - smoothing\n",
    "\n",
    "def seed_everything(seed_value):\n",
    "    random.seed(seed_value)\n",
    "    np.random.seed(seed_value)\n",
    "    torch.manual_seed(seed_value)\n",
    "    os.environ['PYTHONHASHSEED'] = str(seed_value)\n",
    "    \n",
    "    if torch.cuda.is_available(): \n",
    "        torch.cuda.manual_seed(seed_value)\n",
    "        torch.cuda.manual_seed_all(seed_value)\n",
    "        torch.backends.cudnn.deterministic = True\n",
    "        torch.backends.cudnn.benchmark = False\n",
    "\n",
    "def modelling_tabnet(tr, target, te, sample_seed):\n",
    "    seed_everything(sample_seed) \n",
    "    tabnet_params = dict(n_d=24, n_a=24, n_steps=1, gamma=1.5, seed = sample_seed,\n",
    "                     lambda_sparse=0, n_independent=1, n_shared=1, momentum=0.01,\n",
    "                     optimizer_fn=torch.optim.Adam,\n",
    "                     optimizer_params=dict(lr=2e-2, weight_decay=1e-5),\n",
    "                     mask_type='entmax',\n",
    "                     scheduler_params=dict(mode=\"min\",\n",
    "                                           patience=5,\n",
    "                                           min_lr=1e-5,\n",
    "                                           factor=0.9,),\n",
    "                     scheduler_fn=torch.optim.lr_scheduler.ReduceLROnPlateau,\n",
    "                     verbose=10,\n",
    "                     )\n",
    "    test_cv_preds = []\n",
    "\n",
    "    NB_SPLITS = 5\n",
    "    mskf = MultilabelStratifiedKFold(n_splits=NB_SPLITS, random_state=0, shuffle=True)\n",
    "    oof_preds = np.zeros([len(tr),target.shape[1]])\n",
    "    scores = []\n",
    "    for fold_nb, (train_idx, val_idx) in enumerate(mskf.split(train, target)):\n",
    "        print(\"FOLDS : \", fold_nb+1)\n",
    "\n",
    "        ## model\n",
    "        X_train, y_train = tr[train_idx, :], target[train_idx, :]\n",
    "        X_val, y_val = tr[val_idx, :], target[val_idx, :]\n",
    "        model = TabNetRegressor(**tabnet_params)\n",
    "    \n",
    "        model.fit(X_train=X_train,\n",
    "              y_train=y_train,\n",
    "              eval_set=[(X_val, y_val)],\n",
    "              eval_name = [\"val\"],\n",
    "              eval_metric = [\"logits_ll\"],\n",
    "              max_epochs=MAX_EPOCH,\n",
    "              patience=20, batch_size=1024, virtual_batch_size=128,\n",
    "              num_workers=1, drop_last=False,\n",
    "              # use binary cross entropy as this is not a regression problem\n",
    "              loss_fn=torch.nn.functional.binary_cross_entropy_with_logits)\n",
    "    \n",
    "        preds_val = model.predict(X_val)\n",
    "        # Apply sigmoid to the predictions\n",
    "        preds =  1 / (1 + np.exp(-preds_val))\n",
    "        score = np.min(model.history[\"val_logits_ll\"])\n",
    "        oof_preds[val_idx,:] = preds\n",
    "        #oof_preds[val_idx,:] = np.clip(preds, p_min, p_max)\n",
    "        scores.append(score)\n",
    "\n",
    "        # preds on test\n",
    "        preds_test = model.predict(te)\n",
    "        test_cv_preds.append(1 / (1 + np.exp(-preds_test)))\n",
    "        #test_cv_preds.append(np.clip(1 / (1 + np.exp(-preds_test)), p_min, p_max))\n",
    "        \n",
    "    test_preds_all = np.stack(test_cv_preds)\n",
    "    print(\"OOF log loss:\", log_loss(np.ravel(target), np.ravel(np.array(oof_preds))))\n",
    "    aucs = []\n",
    "    for task_id in range(206):\n",
    "        aucs.append(roc_auc_score(y_true=target[:, task_id],y_score=oof_preds[:, task_id]))\n",
    "    print(f\"Overall AUC : {np.mean(aucs)}\")\n",
    "    return oof_preds, test_preds_all\n",
    "\n",
    "target_oof = np.zeros([len(fn_train),fn_targets.shape[1]])\n",
    "target_pred = np.zeros([len(fn_test),fn_targets.shape[1]])\n",
    "\n",
    "seeds = [0,1,2]\n",
    "for seed_ in seeds:\n",
    "    oof_preds, test_preds_all = modelling_tabnet(fn_train, fn_targets, fn_test, seed_)\n",
    "    target_oof += oof_preds / len(seeds)\n",
    "    target_pred += test_preds_all.mean(axis=0) / len(seeds)"
   ]
  },
  {
   "cell_type": "code",
   "execution_count": 16,
   "metadata": {
    "execution": {
     "iopub.execute_input": "2020-11-02T00:30:16.767897Z",
     "iopub.status.busy": "2020-11-02T00:30:16.766732Z",
     "iopub.status.idle": "2020-11-02T00:30:18.133296Z",
     "shell.execute_reply": "2020-11-02T00:30:18.132710Z"
    },
    "papermill": {
     "duration": 1.4601,
     "end_time": "2020-11-02T00:30:18.133451",
     "exception": false,
     "start_time": "2020-11-02T00:30:16.673351",
     "status": "completed"
    },
    "tags": []
   },
   "outputs": [
    {
     "name": "stdout",
     "output_type": "stream",
     "text": [
      "Overall AUC : 0.7749839429605919\n"
     ]
    }
   ],
   "source": [
    "aucs = []\n",
    "for task_id in range(targets.shape[1]-1):\n",
    "    aucs.append(roc_auc_score(y_true=targets.iloc[:, task_id+1].values,\n",
    "                              y_score=target_oof[:, task_id]))\n",
    "print(f\"Overall AUC : {np.mean(aucs)}\")"
   ]
  },
  {
   "cell_type": "code",
   "execution_count": 17,
   "metadata": {
    "execution": {
     "iopub.execute_input": "2020-11-02T00:30:18.318786Z",
     "iopub.status.busy": "2020-11-02T00:30:18.317852Z",
     "iopub.status.idle": "2020-11-02T00:30:25.071868Z",
     "shell.execute_reply": "2020-11-02T00:30:25.072441Z"
    },
    "papermill": {
     "duration": 6.852553,
     "end_time": "2020-11-02T00:30:25.072607",
     "exception": false,
     "start_time": "2020-11-02T00:30:18.220054",
     "status": "completed"
    },
    "tags": []
   },
   "outputs": [
    {
     "name": "stdout",
     "output_type": "stream",
     "text": [
      "OOF log loss:  0.015061434787588797\n"
     ]
    }
   ],
   "source": [
    "t = pd.read_csv(DATA_DIR + 'train_targets_scored.csv')\n",
    "train_checkscore = t.copy()\n",
    "train_checkscore.loc[train_checkscore.index.isin(cons_train_index),target_feats] = target_oof\n",
    "train_checkscore.loc[train_checkscore.index.isin(noncons_train_index),target_feats] = 0\n",
    "\n",
    "t.drop(\"sig_id\", axis=1, inplace=True)\n",
    "print('OOF log loss: ', log_loss(np.ravel(t), np.ravel(np.array(train_checkscore.iloc[:,1:]))))"
   ]
  },
  {
   "cell_type": "code",
   "execution_count": 18,
   "metadata": {
    "execution": {
     "iopub.execute_input": "2020-11-02T00:30:25.258632Z",
     "iopub.status.busy": "2020-11-02T00:30:25.257628Z",
     "iopub.status.idle": "2020-11-02T00:30:27.889257Z",
     "shell.execute_reply": "2020-11-02T00:30:27.888025Z"
    },
    "papermill": {
     "duration": 2.727559,
     "end_time": "2020-11-02T00:30:27.889438",
     "exception": false,
     "start_time": "2020-11-02T00:30:25.161879",
     "status": "completed"
    },
    "tags": []
   },
   "outputs": [],
   "source": [
    "sub[target_feats] = target_pred\n",
    "sub.loc[noncons_test_index,target_feats] = 0\n",
    "sub.to_csv('submission.csv', index=False)"
   ]
  },
  {
   "cell_type": "code",
   "execution_count": null,
   "metadata": {
    "papermill": {
     "duration": 0.095179,
     "end_time": "2020-11-02T00:30:28.071360",
     "exception": false,
     "start_time": "2020-11-02T00:30:27.976181",
     "status": "completed"
    },
    "tags": []
   },
   "outputs": [],
   "source": []
  }
 ],
 "metadata": {
  "kernelspec": {
   "display_name": "Python 3",
   "language": "python",
   "name": "python3"
  },
  "language_info": {
   "codemirror_mode": {
    "name": "ipython",
    "version": 3
   },
   "file_extension": ".py",
   "mimetype": "text/x-python",
   "name": "python",
   "nbconvert_exporter": "python",
   "pygments_lexer": "ipython3",
   "version": "3.7.6"
  },
  "papermill": {
   "duration": 1237.304589,
   "end_time": "2020-11-02T00:30:28.768326",
   "environment_variables": {},
   "exception": null,
   "input_path": "__notebook__.ipynb",
   "output_path": "__notebook__.ipynb",
   "parameters": {},
   "start_time": "2020-11-02T00:09:51.463737",
   "version": "2.1.0"
  }
 },
 "nbformat": 4,
 "nbformat_minor": 4
}
