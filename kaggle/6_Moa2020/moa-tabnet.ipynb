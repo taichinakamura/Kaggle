{
 "cells": [
  {
   "cell_type": "markdown",
   "metadata": {
    "papermill": {
     "duration": 0.018055,
     "end_time": "2020-11-24T08:23:03.772856",
     "exception": false,
     "start_time": "2020-11-24T08:23:03.754801",
     "status": "completed"
    },
    "tags": []
   },
   "source": [
    "- modify tabnet from version 83 ensemble model (just remove robust scaler)"
   ]
  },
  {
   "cell_type": "code",
   "execution_count": 1,
   "metadata": {
    "execution": {
     "iopub.execute_input": "2020-11-24T08:23:03.813488Z",
     "iopub.status.busy": "2020-11-24T08:23:03.812635Z",
     "iopub.status.idle": "2020-11-24T08:23:12.048632Z",
     "shell.execute_reply": "2020-11-24T08:23:12.047595Z"
    },
    "papermill": {
     "duration": 8.258593,
     "end_time": "2020-11-24T08:23:12.048767",
     "exception": false,
     "start_time": "2020-11-24T08:23:03.790174",
     "status": "completed"
    },
    "tags": []
   },
   "outputs": [
    {
     "name": "stdout",
     "output_type": "stream",
     "text": [
      "Looking in links: /kaggle/input/pytorchtabnet/pytorch_tabnet-2.0.0-py3-none-any.whl\r\n",
      "Processing /kaggle/input/pytorchtabnet/pytorch_tabnet-2.0.0-py3-none-any.whl\r\n",
      "Requirement already satisfied: torch<2.0,>=1.2 in /opt/conda/lib/python3.7/site-packages (from pytorch-tabnet) (1.6.0)\r\n",
      "Requirement already satisfied: numpy<2.0,>=1.17 in /opt/conda/lib/python3.7/site-packages (from pytorch-tabnet) (1.18.5)\r\n",
      "Requirement already satisfied: tqdm<5.0,>=4.36 in /opt/conda/lib/python3.7/site-packages (from pytorch-tabnet) (4.45.0)\r\n",
      "Requirement already satisfied: scipy>1.4 in /opt/conda/lib/python3.7/site-packages (from pytorch-tabnet) (1.4.1)\r\n",
      "Requirement already satisfied: scikit_learn>0.21 in /opt/conda/lib/python3.7/site-packages (from pytorch-tabnet) (0.23.2)\r\n",
      "Requirement already satisfied: future in /opt/conda/lib/python3.7/site-packages (from torch<2.0,>=1.2->pytorch-tabnet) (0.18.2)\r\n",
      "Requirement already satisfied: threadpoolctl>=2.0.0 in /opt/conda/lib/python3.7/site-packages (from scikit_learn>0.21->pytorch-tabnet) (2.1.0)\r\n",
      "Requirement already satisfied: joblib>=0.11 in /opt/conda/lib/python3.7/site-packages (from scikit_learn>0.21->pytorch-tabnet) (0.14.1)\r\n",
      "Installing collected packages: pytorch-tabnet\r\n",
      "Successfully installed pytorch-tabnet-2.0.0\r\n"
     ]
    }
   ],
   "source": [
    "!pip install --no-index --find-links /kaggle/input/pytorchtabnet/pytorch_tabnet-2.0.0-py3-none-any.whl pytorch-tabnet"
   ]
  },
  {
   "cell_type": "code",
   "execution_count": 2,
   "metadata": {
    "_cell_guid": "b1076dfc-b9ad-4769-8c92-a6c4dae69d19",
    "_uuid": "8f2839f25d086af736a60e9eeb907d3b93b6e0e5",
    "execution": {
     "iopub.execute_input": "2020-11-24T08:23:12.100803Z",
     "iopub.status.busy": "2020-11-24T08:23:12.098235Z",
     "iopub.status.idle": "2020-11-24T08:23:20.819589Z",
     "shell.execute_reply": "2020-11-24T08:23:20.818469Z"
    },
    "papermill": {
     "duration": 8.749686,
     "end_time": "2020-11-24T08:23:20.819715",
     "exception": false,
     "start_time": "2020-11-24T08:23:12.070029",
     "status": "completed"
    },
    "tags": []
   },
   "outputs": [],
   "source": [
    "import os\n",
    "import sys\n",
    "import random\n",
    "import warnings\n",
    "import numpy as np\n",
    "import pandas as pd \n",
    "from umap import UMAP\n",
    "from sklearn import preprocessing\n",
    "from sklearn.metrics import log_loss,roc_auc_score\n",
    "from sklearn.decomposition import PCA\n",
    "from tqdm import tqdm_notebook as tqdm\n",
    "from sklearn.cluster import KMeans\n",
    "from sklearn.multioutput import MultiOutputClassifier\n",
    "from sklearn.feature_selection import VarianceThreshold\n",
    "from torch.nn.modules.loss import _WeightedLoss\n",
    "\n",
    "from pytorch_tabnet.metrics import Metric\n",
    "from pytorch_tabnet.tab_model import TabNetRegressor\n",
    "\n",
    "sys.path.append('../input/multilabelstraifier/')\n",
    "from ml_stratifiers import MultilabelStratifiedKFold\n",
    "warnings.filterwarnings('ignore')\n",
    "\n",
    "import time\n",
    "import torch\n",
    "import torch.nn as nn\n",
    "import torch.optim as optim\n",
    "import torch.nn.functional as F\n",
    "import tensorflow as tf"
   ]
  },
  {
   "cell_type": "code",
   "execution_count": 3,
   "metadata": {
    "execution": {
     "iopub.execute_input": "2020-11-24T08:23:20.865253Z",
     "iopub.status.busy": "2020-11-24T08:23:20.864321Z",
     "iopub.status.idle": "2020-11-24T08:23:27.329040Z",
     "shell.execute_reply": "2020-11-24T08:23:27.327517Z"
    },
    "papermill": {
     "duration": 6.490214,
     "end_time": "2020-11-24T08:23:27.329160",
     "exception": false,
     "start_time": "2020-11-24T08:23:20.838946",
     "status": "completed"
    },
    "tags": []
   },
   "outputs": [],
   "source": [
    "DATA_DIR = '/kaggle/input/lish-moa/'\n",
    "train = pd.read_csv(DATA_DIR + 'train_features.csv')\n",
    "targets = pd.read_csv(DATA_DIR + 'train_targets_scored.csv')\n",
    "non_targets = pd.read_csv(DATA_DIR + 'train_targets_nonscored.csv')\n",
    "test = pd.read_csv(DATA_DIR + 'test_features.csv')\n",
    "sub = pd.read_csv(DATA_DIR + 'sample_submission.csv')\n",
    "drug = pd.read_csv(DATA_DIR + 'train_drug.csv')"
   ]
  },
  {
   "cell_type": "code",
   "execution_count": 4,
   "metadata": {
    "execution": {
     "iopub.execute_input": "2020-11-24T08:23:27.373611Z",
     "iopub.status.busy": "2020-11-24T08:23:27.371737Z",
     "iopub.status.idle": "2020-11-24T08:23:27.374314Z",
     "shell.execute_reply": "2020-11-24T08:23:27.374778Z"
    },
    "papermill": {
     "duration": 0.026007,
     "end_time": "2020-11-24T08:23:27.374910",
     "exception": false,
     "start_time": "2020-11-24T08:23:27.348903",
     "status": "completed"
    },
    "tags": []
   },
   "outputs": [],
   "source": [
    "#train.at[train['cp_type'].str.contains('ctl_vehicle'),train.filter(regex='-.*').columns] = 0.0\n",
    "#test.at[test['cp_type'].str.contains('ctl_vehicle'),test.filter(regex='-.*').columns] = 0.0"
   ]
  },
  {
   "cell_type": "code",
   "execution_count": 5,
   "metadata": {
    "execution": {
     "iopub.execute_input": "2020-11-24T08:23:27.424555Z",
     "iopub.status.busy": "2020-11-24T08:23:27.423809Z",
     "iopub.status.idle": "2020-11-24T08:23:27.516568Z",
     "shell.execute_reply": "2020-11-24T08:23:27.516039Z"
    },
    "papermill": {
     "duration": 0.12255,
     "end_time": "2020-11-24T08:23:27.516684",
     "exception": false,
     "start_time": "2020-11-24T08:23:27.394134",
     "status": "completed"
    },
    "tags": []
   },
   "outputs": [],
   "source": [
    "target_feats = [ i for i in targets.columns if i != \"sig_id\"]\n",
    "g_feats = [i for i in train.columns if \"g-\" in i]\n",
    "c_feats = [i for i in train.columns if \"c-\" in i]\n",
    "\n",
    "noncons_train_index = train[train.cp_type==\"ctl_vehicle\"].index\n",
    "cons_train_index = train[~train.index.isin(noncons_train_index)].index\n",
    "noncons_test_index = test[test.cp_type==\"ctl_vehicle\"].index\n",
    "cons_test_index = test[test.cp_type!=\"ctl_vehicle\"].index"
   ]
  },
  {
   "cell_type": "markdown",
   "metadata": {
    "papermill": {
     "duration": 0.019212,
     "end_time": "2020-11-24T08:23:27.555622",
     "exception": false,
     "start_time": "2020-11-24T08:23:27.536410",
     "status": "completed"
    },
    "tags": []
   },
   "source": [
    "# preprocess"
   ]
  },
  {
   "cell_type": "code",
   "execution_count": 6,
   "metadata": {
    "execution": {
     "iopub.execute_input": "2020-11-24T08:23:27.607392Z",
     "iopub.status.busy": "2020-11-24T08:23:27.606431Z",
     "iopub.status.idle": "2020-11-24T08:23:27.824125Z",
     "shell.execute_reply": "2020-11-24T08:23:27.823536Z"
    },
    "papermill": {
     "duration": 0.249292,
     "end_time": "2020-11-24T08:23:27.824243",
     "exception": false,
     "start_time": "2020-11-24T08:23:27.574951",
     "status": "completed"
    },
    "tags": []
   },
   "outputs": [],
   "source": [
    "train = train[train.index.isin(cons_train_index)].copy().reset_index(drop=True)\n",
    "targets = targets[targets.index.isin(cons_train_index)].copy().reset_index(drop=True)"
   ]
  },
  {
   "cell_type": "code",
   "execution_count": 7,
   "metadata": {
    "execution": {
     "iopub.execute_input": "2020-11-24T08:23:27.887060Z",
     "iopub.status.busy": "2020-11-24T08:23:27.879904Z",
     "iopub.status.idle": "2020-11-24T08:23:28.536551Z",
     "shell.execute_reply": "2020-11-24T08:23:28.537162Z"
    },
    "papermill": {
     "duration": 0.693203,
     "end_time": "2020-11-24T08:23:28.537340",
     "exception": false,
     "start_time": "2020-11-24T08:23:27.844137",
     "status": "completed"
    },
    "tags": []
   },
   "outputs": [
    {
     "data": {
      "text/plain": [
       "array([[4, 4, 1, ..., 0, 1, 4]], dtype=int8)"
      ]
     },
     "execution_count": 7,
     "metadata": {},
     "output_type": "execute_result"
    }
   ],
   "source": [
    "# https://www.kaggle.com/c/lish-moa/discussion/195195\n",
    "NB_SPLITS = 5\n",
    "seed = 14\n",
    "\n",
    "folds = []\n",
    "    \n",
    "# LOAD FILES\n",
    "train_score = targets.merge(drug, on='sig_id', how='left') \n",
    "\n",
    "# LOCATE DRUGS\n",
    "vc = train_score.drug_id.value_counts()\n",
    "vc1 = vc.loc[vc <= 19].index.sort_values()\n",
    "vc2 = vc.loc[vc > 19].index.sort_values()\n",
    "    \n",
    "# STRATIFY DRUGS 18X OR LESS\n",
    "dct1 = {}; dct2 = {}\n",
    "skf = MultilabelStratifiedKFold(n_splits = NB_SPLITS, shuffle = True, random_state = seed)\n",
    "tmp = train_score.groupby('drug_id')[target_feats].mean().loc[vc1]\n",
    "for fold,(idxT,idxV) in enumerate(skf.split(tmp,tmp[target_feats])):\n",
    "    dd = {k:fold for k in tmp.index[idxV].values}\n",
    "    dct1.update(dd)\n",
    "\n",
    "# STRATIFY DRUGS MORE THAN 18X\n",
    "skf = MultilabelStratifiedKFold(n_splits = NB_SPLITS, shuffle = True, random_state = seed)\n",
    "tmp = train_score.loc[train_score.drug_id.isin(vc2)].reset_index(drop = True)\n",
    "for fold,(idxT,idxV) in enumerate(skf.split(tmp,tmp[target_feats])):\n",
    "    dd = {k:fold for k in tmp.sig_id[idxV].values}\n",
    "    dct2.update(dd)\n",
    "\n",
    "# ASSIGN FOLDS\n",
    "train_score['fold'] = train_score.drug_id.map(dct1)\n",
    "train_score.loc[train_score.fold.isna(),'fold'] = train_score.loc[train_score.fold.isna(),'sig_id'].map(dct2)\n",
    "train_score.fold = train_score.fold.astype('int8')\n",
    "folds.append(train_score.fold.values)\n",
    "    \n",
    "np.array(folds)"
   ]
  },
  {
   "cell_type": "markdown",
   "metadata": {
    "papermill": {
     "duration": 0.032574,
     "end_time": "2020-11-24T08:23:28.600783",
     "exception": false,
     "start_time": "2020-11-24T08:23:28.568209",
     "status": "completed"
    },
    "tags": []
   },
   "source": [
    "# feature engineering"
   ]
  },
  {
   "cell_type": "code",
   "execution_count": 8,
   "metadata": {
    "execution": {
     "iopub.execute_input": "2020-11-24T08:23:28.697437Z",
     "iopub.status.busy": "2020-11-24T08:23:28.696397Z",
     "iopub.status.idle": "2020-11-24T08:23:28.699182Z",
     "shell.execute_reply": "2020-11-24T08:23:28.698338Z"
    },
    "papermill": {
     "duration": 0.066284,
     "end_time": "2020-11-24T08:23:28.699316",
     "exception": false,
     "start_time": "2020-11-24T08:23:28.633032",
     "status": "completed"
    },
    "tags": []
   },
   "outputs": [],
   "source": [
    "#X = train[g_feats+c_feats].copy().values\n",
    "#select = VarianceThreshold(threshold=0.7)\n",
    "#X_new = select.fit_transform(X)\n",
    "#drop_feats = list(np.array(train[g_feats+c_feats].columns)[select.get_support()==False])\n",
    "#len(drop_feats)\n",
    "\n",
    "#train.drop(drop_feats, axis=1, inplace=True)\n",
    "#test.drop(drop_feats, axis=1, inplace=True)\n",
    "\n",
    "#g_feats = [i for i in train.columns if \"g-\" in i]\n",
    "#c_feats = [i for i in train.columns if \"c-\" in i]"
   ]
  },
  {
   "cell_type": "code",
   "execution_count": 9,
   "metadata": {
    "execution": {
     "iopub.execute_input": "2020-11-24T08:23:28.779055Z",
     "iopub.status.busy": "2020-11-24T08:23:28.778051Z",
     "iopub.status.idle": "2020-11-24T08:23:28.780726Z",
     "shell.execute_reply": "2020-11-24T08:23:28.779895Z"
    },
    "papermill": {
     "duration": 0.038547,
     "end_time": "2020-11-24T08:23:28.780876",
     "exception": false,
     "start_time": "2020-11-24T08:23:28.742329",
     "status": "completed"
    },
    "tags": []
   },
   "outputs": [],
   "source": [
    "#for i in c_feats + g_feats:\n",
    "    #ss = preprocessing.QuantileTransformer(n_quantiles=100, random_state=0, output_distribution=\"normal\")\n",
    "#    ss = preprocessing.RobustScaler()\n",
    "#    ss.fit(train[i].values.reshape(-1,1))\n",
    "#    train[i] = ss.transform(train[i].values.reshape(-1,1))\n",
    "#    test[i] = ss.transform(test[i].values.reshape(-1,1))"
   ]
  },
  {
   "cell_type": "code",
   "execution_count": 10,
   "metadata": {
    "execution": {
     "iopub.execute_input": "2020-11-24T08:23:28.852644Z",
     "iopub.status.busy": "2020-11-24T08:23:28.851604Z",
     "iopub.status.idle": "2020-11-24T08:23:28.854327Z",
     "shell.execute_reply": "2020-11-24T08:23:28.853560Z"
    },
    "papermill": {
     "duration": 0.041905,
     "end_time": "2020-11-24T08:23:28.854464",
     "exception": false,
     "start_time": "2020-11-24T08:23:28.812559",
     "status": "completed"
    },
    "tags": []
   },
   "outputs": [],
   "source": [
    "#c_num = 1\n",
    "#pca_c_cols = [\"pca-c\"+str(i+1) for i in range(c_num)]\n",
    "#pca = PCA(n_components=c_num,random_state=42)\n",
    "#c_train = pca.fit_transform(train[c_feats])\n",
    "#c_test = pca.transform(test[c_feats])\n",
    "#c_train = pd.DataFrame(c_train, columns=pca_c_cols)\n",
    "#c_test = pd.DataFrame(c_test, columns=pca_c_cols)\n",
    "\n",
    "#g_num = 10\n",
    "#pca_g_cols = [\"pca-g\"+str(i+1) for i in range(g_num)]\n",
    "#pca = PCA(n_components=g_num, random_state=42)\n",
    "#g_train = pca.fit_transform(train[g_feats])\n",
    "#g_test = pca.transform(test[g_feats])\n",
    "#g_train = pd.DataFrame(g_train, columns=pca_g_cols)\n",
    "#g_test = pd.DataFrame(g_test, columns=pca_g_cols)\n",
    "\n",
    "#train = pd.concat([train, c_train],axis=1)\n",
    "#test = pd.concat([test, c_test],axis=1)\n",
    "#train = pd.concat([train, g_train],axis=1)\n",
    "#test = pd.concat([test, g_test],axis=1)"
   ]
  },
  {
   "cell_type": "code",
   "execution_count": 11,
   "metadata": {
    "execution": {
     "iopub.execute_input": "2020-11-24T08:23:28.926473Z",
     "iopub.status.busy": "2020-11-24T08:23:28.925478Z",
     "iopub.status.idle": "2020-11-24T08:23:28.928255Z",
     "shell.execute_reply": "2020-11-24T08:23:28.927356Z"
    },
    "papermill": {
     "duration": 0.041602,
     "end_time": "2020-11-24T08:23:28.928391",
     "exception": false,
     "start_time": "2020-11-24T08:23:28.886789",
     "status": "completed"
    },
    "tags": []
   },
   "outputs": [],
   "source": [
    "#uc_num = 1\n",
    "#um = UMAP(n_neighbors=30, n_components=uc_num, random_state=42)\n",
    "#um_c_cols = [\"um-c\"+str(i+1) for i in range(uc_num)]#\n",
    "#uc_train = um.fit_transform(train[c_feats])\n",
    "#uc_test = um.transform(test[c_feats])\n",
    "#uc_train = pd.DataFrame(uc_train, columns=um_c_cols)\n",
    "#uc_test = pd.DataFrame(uc_test, columns=um_c_cols)\n",
    "\n",
    "#ug_num = 10\n",
    "#um = UMAP(n_neighbors=30, n_components=ug_num, random_state=42)\n",
    "#um_g_cols = [\"um-g\"+str(i+1) for i in range(ug_num)]\n",
    "#ug_train = um.fit_transform(train[g_feats])\n",
    "#ug_test = um.transform(test[g_feats])\n",
    "#ug_train = pd.DataFrame(ug_train, columns=um_g_cols)\n",
    "#ug_test = pd.DataFrame(ug_test, columns=um_g_cols)\n",
    "\n",
    "#train = pd.concat([train, uc_train],axis=1)\n",
    "#test = pd.concat([test, uc_test],axis=1)\n",
    "#train = pd.concat([train, ug_train],axis=1)\n",
    "#test = pd.concat([test, ug_test],axis=1)"
   ]
  },
  {
   "cell_type": "code",
   "execution_count": 12,
   "metadata": {
    "execution": {
     "iopub.execute_input": "2020-11-24T08:23:28.997910Z",
     "iopub.status.busy": "2020-11-24T08:23:28.996829Z",
     "iopub.status.idle": "2020-11-24T08:23:28.999647Z",
     "shell.execute_reply": "2020-11-24T08:23:28.998730Z"
    },
    "papermill": {
     "duration": 0.041141,
     "end_time": "2020-11-24T08:23:28.999782",
     "exception": false,
     "start_time": "2020-11-24T08:23:28.958641",
     "status": "completed"
    },
    "tags": []
   },
   "outputs": [],
   "source": [
    "#n_clusters_g = 15\n",
    "#n_clusters_c = 5\n",
    "#def create_cluster(train, test, kind, n_clusters):\n",
    "#    if kind == \"g\":\n",
    "#        train_ = train[pca_g_cols].copy()\n",
    "#        test_ = test[pca_g_cols].copy()\n",
    "#    else:\n",
    "#        train_ = train[pca_c_cols].copy()\n",
    "#        test_ = test[pca_c_cols].copy()    \n",
    "#    kmeans = KMeans(n_clusters = n_clusters, random_state = 0).fit(train_)\n",
    "#    train[f'clusters_{kind}'] = kmeans.labels_\n",
    "#    test[f'clusters_{kind}'] = kmeans.predict(test_)\n",
    "#    train = pd.get_dummies(train, columns = [f'clusters_{kind}'])\n",
    "#    test = pd.get_dummies(test, columns = [f'clusters_{kind}'])\n",
    "#    return train, test\n",
    "    \n",
    "#train, test = create_cluster(train, test, kind = 'g', n_clusters = n_clusters_g)\n",
    "#train, test = create_cluster(train, test, kind = 'c', n_clusters = n_clusters_c)"
   ]
  },
  {
   "cell_type": "code",
   "execution_count": 13,
   "metadata": {
    "execution": {
     "iopub.execute_input": "2020-11-24T08:23:29.050254Z",
     "iopub.status.busy": "2020-11-24T08:23:29.049063Z",
     "iopub.status.idle": "2020-11-24T08:23:29.182717Z",
     "shell.execute_reply": "2020-11-24T08:23:29.183224Z"
    },
    "papermill": {
     "duration": 0.161814,
     "end_time": "2020-11-24T08:23:29.183363",
     "exception": false,
     "start_time": "2020-11-24T08:23:29.021549",
     "status": "completed"
    },
    "tags": []
   },
   "outputs": [
    {
     "name": "stdout",
     "output_type": "stream",
     "text": [
      "(21948, 874) (3982, 874)\n"
     ]
    }
   ],
   "source": [
    "def fe(df):\n",
    "    tmp = df.copy()\n",
    "    tmp.loc[:, 'cp_dose'] = tmp.loc[:, 'cp_dose'].map({'D1': 0, 'D2': 1})      \n",
    "    tmp.drop([\"sig_id\", \"cp_type\"], axis=1, inplace=True)\n",
    "    return tmp\n",
    "\n",
    "train = fe(train)\n",
    "test = fe(test)\n",
    "\n",
    "print(train.shape, test.shape)"
   ]
  },
  {
   "cell_type": "code",
   "execution_count": 14,
   "metadata": {
    "execution": {
     "iopub.execute_input": "2020-11-24T08:23:29.255663Z",
     "iopub.status.busy": "2020-11-24T08:23:29.253825Z",
     "iopub.status.idle": "2020-11-24T08:23:29.256332Z",
     "shell.execute_reply": "2020-11-24T08:23:29.256783Z"
    },
    "papermill": {
     "duration": 0.035249,
     "end_time": "2020-11-24T08:23:29.256916",
     "exception": false,
     "start_time": "2020-11-24T08:23:29.221667",
     "status": "completed"
    },
    "tags": []
   },
   "outputs": [],
   "source": [
    "#train[\"fold\"] = np.array(folds).reshape(-1,1)"
   ]
  },
  {
   "cell_type": "code",
   "execution_count": 15,
   "metadata": {
    "execution": {
     "iopub.execute_input": "2020-11-24T08:23:29.306399Z",
     "iopub.status.busy": "2020-11-24T08:23:29.305321Z",
     "iopub.status.idle": "2020-11-24T08:23:29.462570Z",
     "shell.execute_reply": "2020-11-24T08:23:29.462033Z"
    },
    "papermill": {
     "duration": 0.183736,
     "end_time": "2020-11-24T08:23:29.462673",
     "exception": false,
     "start_time": "2020-11-24T08:23:29.278937",
     "status": "completed"
    },
    "tags": []
   },
   "outputs": [],
   "source": [
    "fn_train = train.copy().to_numpy()\n",
    "fn_test = test.copy().to_numpy()\n",
    "    \n",
    "fn_targets = targets.drop(\"sig_id\", axis=1).copy().to_numpy()"
   ]
  },
  {
   "cell_type": "code",
   "execution_count": 16,
   "metadata": {
    "execution": {
     "iopub.execute_input": "2020-11-24T08:23:29.510820Z",
     "iopub.status.busy": "2020-11-24T08:23:29.510216Z",
     "iopub.status.idle": "2020-11-24T08:23:29.515766Z",
     "shell.execute_reply": "2020-11-24T08:23:29.515288Z"
    },
    "papermill": {
     "duration": 0.031258,
     "end_time": "2020-11-24T08:23:29.515867",
     "exception": false,
     "start_time": "2020-11-24T08:23:29.484609",
     "status": "completed"
    },
    "tags": []
   },
   "outputs": [
    {
     "data": {
      "text/plain": [
       "((21948, 874), (3982, 874), (21948, 206))"
      ]
     },
     "execution_count": 16,
     "metadata": {},
     "output_type": "execute_result"
    }
   ],
   "source": [
    "fn_train.shape, fn_test.shape, fn_targets.shape"
   ]
  },
  {
   "cell_type": "markdown",
   "metadata": {
    "papermill": {
     "duration": 0.027047,
     "end_time": "2020-11-24T08:23:29.565272",
     "exception": false,
     "start_time": "2020-11-24T08:23:29.538225",
     "status": "completed"
    },
    "tags": []
   },
   "source": [
    "# modelling"
   ]
  },
  {
   "cell_type": "code",
   "execution_count": 17,
   "metadata": {
    "execution": {
     "iopub.execute_input": "2020-11-24T08:23:29.620640Z",
     "iopub.status.busy": "2020-11-24T08:23:29.619971Z",
     "iopub.status.idle": "2020-11-24T08:23:29.622989Z",
     "shell.execute_reply": "2020-11-24T08:23:29.623423Z"
    },
    "papermill": {
     "duration": 0.032272,
     "end_time": "2020-11-24T08:23:29.623539",
     "exception": false,
     "start_time": "2020-11-24T08:23:29.591267",
     "status": "completed"
    },
    "tags": []
   },
   "outputs": [],
   "source": [
    "class LogitsLogLoss(Metric):\n",
    "    def __init__(self):\n",
    "        self._name = \"logits_ll\"\n",
    "        self._maximize = False\n",
    "\n",
    "    def __call__(self, y_true, y_pred):\n",
    "\n",
    "        logits = 1 / (1 + np.exp(-y_pred))\n",
    "        \n",
    "        aux = (1-y_true)*np.log(1-logits+1e-15) + y_true*np.log(logits+1e-15)\n",
    "        return np.mean(-aux)"
   ]
  },
  {
   "cell_type": "code",
   "execution_count": 18,
   "metadata": {
    "execution": {
     "iopub.execute_input": "2020-11-24T08:23:30.059335Z",
     "iopub.status.busy": "2020-11-24T08:23:29.676402Z",
     "iopub.status.idle": "2020-11-24T08:42:53.422455Z",
     "shell.execute_reply": "2020-11-24T08:42:53.422981Z"
    },
    "papermill": {
     "duration": 1163.776744,
     "end_time": "2020-11-24T08:42:53.423140",
     "exception": false,
     "start_time": "2020-11-24T08:23:29.646396",
     "status": "completed"
    },
    "tags": []
   },
   "outputs": [
    {
     "name": "stdout",
     "output_type": "stream",
     "text": [
      "FOLDS :  1\n",
      "Device used : cuda\n",
      "epoch 0  | loss: 0.56891 | val_logits_ll: 0.30189 |  0:00:01s\n",
      "epoch 10 | loss: 0.02044 | val_logits_ll: 0.02035 |  0:00:10s\n",
      "epoch 20 | loss: 0.01882 | val_logits_ll: 0.01888 |  0:00:19s\n",
      "epoch 30 | loss: 0.01766 | val_logits_ll: 0.0192  |  0:00:29s\n",
      "epoch 40 | loss: 0.01701 | val_logits_ll: 0.01758 |  0:00:38s\n",
      "epoch 50 | loss: 0.01697 | val_logits_ll: 0.01728 |  0:00:47s\n",
      "epoch 60 | loss: 0.01655 | val_logits_ll: 0.01714 |  0:00:57s\n",
      "epoch 70 | loss: 0.01654 | val_logits_ll: 0.01709 |  0:01:07s\n",
      "epoch 80 | loss: 0.01625 | val_logits_ll: 0.01701 |  0:01:16s\n",
      "epoch 90 | loss: 0.01592 | val_logits_ll: 0.01686 |  0:01:25s\n",
      "epoch 100| loss: 0.0161  | val_logits_ll: 0.01735 |  0:01:35s\n",
      "epoch 110| loss: 0.01536 | val_logits_ll: 0.01688 |  0:01:43s\n",
      "epoch 120| loss: 0.01541 | val_logits_ll: 0.01687 |  0:01:53s\n",
      "\n",
      "Early stopping occured at epoch 122 with best_epoch = 102 and best_val_logits_ll = 0.01667\n",
      "Best weights from best epoch are automatically used!\n",
      "FOLDS :  2\n",
      "Device used : cuda\n",
      "epoch 0  | loss: 0.56914 | val_logits_ll: 0.32347 |  0:00:01s\n",
      "epoch 10 | loss: 0.02085 | val_logits_ll: 0.02057 |  0:00:11s\n",
      "epoch 20 | loss: 0.01943 | val_logits_ll: 0.01945 |  0:00:20s\n",
      "epoch 30 | loss: 0.01786 | val_logits_ll: 0.01815 |  0:00:29s\n",
      "epoch 40 | loss: 0.01733 | val_logits_ll: 0.01913 |  0:00:38s\n",
      "epoch 50 | loss: 0.01678 | val_logits_ll: 0.01751 |  0:00:47s\n",
      "epoch 60 | loss: 0.0167  | val_logits_ll: 0.01762 |  0:00:57s\n",
      "epoch 70 | loss: 0.01644 | val_logits_ll: 0.01735 |  0:01:07s\n",
      "epoch 80 | loss: 0.01615 | val_logits_ll: 0.01719 |  0:01:16s\n",
      "epoch 90 | loss: 0.01584 | val_logits_ll: 0.01762 |  0:01:25s\n",
      "epoch 100| loss: 0.01594 | val_logits_ll: 0.01706 |  0:01:34s\n",
      "epoch 110| loss: 0.01545 | val_logits_ll: 0.01714 |  0:01:44s\n",
      "\n",
      "Early stopping occured at epoch 111 with best_epoch = 91 and best_val_logits_ll = 0.01704\n",
      "Best weights from best epoch are automatically used!\n",
      "FOLDS :  3\n",
      "Device used : cuda\n",
      "epoch 0  | loss: 0.5673  | val_logits_ll: 0.29073 |  0:00:00s\n",
      "epoch 10 | loss: 0.0204  | val_logits_ll: 0.0204  |  0:00:10s\n",
      "epoch 20 | loss: 0.01831 | val_logits_ll: 0.01873 |  0:00:20s\n",
      "epoch 30 | loss: 0.01736 | val_logits_ll: 0.01801 |  0:00:29s\n",
      "epoch 40 | loss: 0.01715 | val_logits_ll: 0.01907 |  0:00:39s\n",
      "epoch 50 | loss: 0.0167  | val_logits_ll: 0.01832 |  0:00:48s\n",
      "epoch 60 | loss: 0.01643 | val_logits_ll: 0.01734 |  0:00:57s\n",
      "epoch 70 | loss: 0.01625 | val_logits_ll: 0.01734 |  0:01:06s\n",
      "epoch 80 | loss: 0.01603 | val_logits_ll: 0.01715 |  0:01:16s\n",
      "epoch 90 | loss: 0.0157  | val_logits_ll: 0.01722 |  0:01:26s\n",
      "epoch 100| loss: 0.01578 | val_logits_ll: 0.01757 |  0:01:35s\n",
      "\n",
      "Early stopping occured at epoch 108 with best_epoch = 88 and best_val_logits_ll = 0.01703\n",
      "Best weights from best epoch are automatically used!\n",
      "FOLDS :  4\n",
      "Device used : cuda\n",
      "epoch 0  | loss: 0.56456 | val_logits_ll: 0.30226 |  0:00:00s\n",
      "epoch 10 | loss: 0.02072 | val_logits_ll: 0.02074 |  0:00:10s\n",
      "epoch 20 | loss: 0.01893 | val_logits_ll: 0.01919 |  0:00:18s\n",
      "epoch 30 | loss: 0.01801 | val_logits_ll: 0.01869 |  0:00:29s\n",
      "epoch 40 | loss: 0.01766 | val_logits_ll: 0.01799 |  0:00:39s\n",
      "epoch 50 | loss: 0.01705 | val_logits_ll: 0.01746 |  0:00:48s\n",
      "epoch 60 | loss: 0.0167  | val_logits_ll: 0.01755 |  0:00:57s\n",
      "epoch 70 | loss: 0.01647 | val_logits_ll: 0.01858 |  0:01:06s\n",
      "epoch 80 | loss: 0.01614 | val_logits_ll: 0.01728 |  0:01:15s\n",
      "epoch 90 | loss: 0.01591 | val_logits_ll: 0.01714 |  0:01:25s\n",
      "epoch 100| loss: 0.01579 | val_logits_ll: 0.01702 |  0:01:35s\n",
      "epoch 110| loss: 0.01564 | val_logits_ll: 0.01691 |  0:01:44s\n",
      "epoch 120| loss: 0.01536 | val_logits_ll: 0.01716 |  0:01:53s\n",
      "\n",
      "Early stopping occured at epoch 126 with best_epoch = 106 and best_val_logits_ll = 0.0168\n",
      "Best weights from best epoch are automatically used!\n",
      "FOLDS :  5\n",
      "Device used : cuda\n",
      "epoch 0  | loss: 0.56675 | val_logits_ll: 0.30196 |  0:00:00s\n",
      "epoch 10 | loss: 0.0206  | val_logits_ll: 0.02051 |  0:00:10s\n",
      "epoch 20 | loss: 0.01879 | val_logits_ll: 0.01882 |  0:00:19s\n",
      "epoch 30 | loss: 0.01746 | val_logits_ll: 0.02011 |  0:00:29s\n",
      "epoch 40 | loss: 0.01699 | val_logits_ll: 0.01777 |  0:00:39s\n",
      "epoch 50 | loss: 0.01671 | val_logits_ll: 0.01746 |  0:00:48s\n",
      "epoch 60 | loss: 0.01645 | val_logits_ll: 0.0175  |  0:00:57s\n",
      "epoch 70 | loss: 0.01625 | val_logits_ll: 0.01719 |  0:01:06s\n",
      "epoch 80 | loss: 0.01601 | val_logits_ll: 0.01713 |  0:01:15s\n",
      "epoch 90 | loss: 0.01615 | val_logits_ll: 0.01719 |  0:01:25s\n",
      "epoch 100| loss: 0.01577 | val_logits_ll: 0.01695 |  0:01:34s\n",
      "epoch 110| loss: 0.0155  | val_logits_ll: 0.01739 |  0:01:44s\n",
      "epoch 120| loss: 0.01571 | val_logits_ll: 0.01925 |  0:01:53s\n",
      "epoch 130| loss: 0.01517 | val_logits_ll: 0.01731 |  0:02:03s\n",
      "epoch 140| loss: 0.01494 | val_logits_ll: 0.01711 |  0:02:12s\n",
      "\n",
      "Early stopping occured at epoch 143 with best_epoch = 123 and best_val_logits_ll = 0.01688\n",
      "Best weights from best epoch are automatically used!\n",
      "OOF log loss: 0.016882936841183502\n",
      "Overall AUC : 0.7321069332104396\n",
      "FOLDS :  1\n",
      "Device used : cuda\n",
      "epoch 0  | loss: 0.52327 | val_logits_ll: 0.24142 |  0:00:00s\n",
      "epoch 10 | loss: 0.02082 | val_logits_ll: 0.02061 |  0:00:11s\n",
      "epoch 20 | loss: 0.01942 | val_logits_ll: 0.01924 |  0:00:20s\n",
      "epoch 30 | loss: 0.01789 | val_logits_ll: 0.01801 |  0:00:29s\n",
      "epoch 40 | loss: 0.01726 | val_logits_ll: 0.02025 |  0:00:39s\n",
      "epoch 50 | loss: 0.01681 | val_logits_ll: 0.01739 |  0:00:48s\n",
      "epoch 60 | loss: 0.01648 | val_logits_ll: 0.01728 |  0:00:56s\n",
      "epoch 70 | loss: 0.0164  | val_logits_ll: 0.01716 |  0:01:06s\n",
      "epoch 80 | loss: 0.01609 | val_logits_ll: 0.01714 |  0:01:16s\n",
      "epoch 90 | loss: 0.01602 | val_logits_ll: 0.01728 |  0:01:25s\n",
      "epoch 100| loss: 0.01572 | val_logits_ll: 0.01733 |  0:01:35s\n",
      "epoch 110| loss: 0.01546 | val_logits_ll: 0.01687 |  0:01:44s\n",
      "epoch 120| loss: 0.01553 | val_logits_ll: 0.01697 |  0:01:53s\n",
      "\n",
      "Early stopping occured at epoch 121 with best_epoch = 101 and best_val_logits_ll = 0.01684\n",
      "Best weights from best epoch are automatically used!\n",
      "FOLDS :  2\n",
      "Device used : cuda\n",
      "epoch 0  | loss: 0.52561 | val_logits_ll: 0.28843 |  0:00:00s\n",
      "epoch 10 | loss: 0.02097 | val_logits_ll: 0.02124 |  0:00:11s\n",
      "epoch 20 | loss: 0.01938 | val_logits_ll: 0.01941 |  0:00:20s\n",
      "epoch 30 | loss: 0.01827 | val_logits_ll: 0.01868 |  0:00:29s\n",
      "epoch 40 | loss: 0.01749 | val_logits_ll: 0.01815 |  0:00:38s\n",
      "epoch 50 | loss: 0.01696 | val_logits_ll: 0.01782 |  0:00:48s\n",
      "epoch 60 | loss: 0.01667 | val_logits_ll: 0.01767 |  0:00:57s\n",
      "epoch 70 | loss: 0.01615 | val_logits_ll: 0.01899 |  0:01:06s\n",
      "epoch 80 | loss: 0.01606 | val_logits_ll: 0.01725 |  0:01:16s\n",
      "epoch 90 | loss: 0.01573 | val_logits_ll: 0.01723 |  0:01:26s\n",
      "epoch 100| loss: 0.01588 | val_logits_ll: 0.01714 |  0:01:34s\n",
      "epoch 110| loss: 0.01586 | val_logits_ll: 0.01725 |  0:01:44s\n",
      "\n",
      "Early stopping occured at epoch 116 with best_epoch = 96 and best_val_logits_ll = 0.017\n",
      "Best weights from best epoch are automatically used!\n",
      "FOLDS :  3\n",
      "Device used : cuda\n",
      "epoch 0  | loss: 0.5273  | val_logits_ll: 0.25489 |  0:00:00s\n",
      "epoch 10 | loss: 0.02069 | val_logits_ll: 0.021   |  0:00:10s\n",
      "epoch 20 | loss: 0.01905 | val_logits_ll: 0.02127 |  0:00:20s\n",
      "epoch 30 | loss: 0.01787 | val_logits_ll: 0.02127 |  0:00:30s\n",
      "epoch 40 | loss: 0.01742 | val_logits_ll: 0.0179  |  0:00:39s\n",
      "epoch 50 | loss: 0.01682 | val_logits_ll: 0.01768 |  0:00:48s\n",
      "epoch 60 | loss: 0.01641 | val_logits_ll: 0.01736 |  0:00:57s\n",
      "epoch 70 | loss: 0.0165  | val_logits_ll: 0.01759 |  0:01:06s\n",
      "epoch 80 | loss: 0.01593 | val_logits_ll: 0.0171  |  0:01:16s\n",
      "epoch 90 | loss: 0.01556 | val_logits_ll: 0.0177  |  0:01:26s\n",
      "epoch 100| loss: 0.01564 | val_logits_ll: 0.01706 |  0:01:35s\n",
      "epoch 110| loss: 0.01528 | val_logits_ll: 0.01722 |  0:01:44s\n",
      "\n",
      "Early stopping occured at epoch 116 with best_epoch = 96 and best_val_logits_ll = 0.01698\n",
      "Best weights from best epoch are automatically used!\n",
      "FOLDS :  4\n",
      "Device used : cuda\n",
      "epoch 0  | loss: 0.52521 | val_logits_ll: 0.23456 |  0:00:00s\n",
      "epoch 10 | loss: 0.02064 | val_logits_ll: 0.02251 |  0:00:10s\n",
      "epoch 20 | loss: 0.01896 | val_logits_ll: 0.01919 |  0:00:19s\n",
      "epoch 30 | loss: 0.01774 | val_logits_ll: 0.01948 |  0:00:29s\n",
      "epoch 40 | loss: 0.01735 | val_logits_ll: 0.01791 |  0:00:38s\n",
      "epoch 50 | loss: 0.01711 | val_logits_ll: 0.01738 |  0:00:48s\n",
      "epoch 60 | loss: 0.01666 | val_logits_ll: 0.01736 |  0:00:57s\n",
      "epoch 70 | loss: 0.01649 | val_logits_ll: 0.01716 |  0:01:06s\n",
      "epoch 80 | loss: 0.01619 | val_logits_ll: 0.01729 |  0:01:15s\n",
      "epoch 90 | loss: 0.01601 | val_logits_ll: 0.01738 |  0:01:24s\n",
      "epoch 100| loss: 0.01599 | val_logits_ll: 0.01707 |  0:01:34s\n",
      "epoch 110| loss: 0.01588 | val_logits_ll: 0.01695 |  0:01:43s\n",
      "epoch 120| loss: 0.01542 | val_logits_ll: 0.01699 |  0:01:53s\n",
      "\n",
      "Early stopping occured at epoch 121 with best_epoch = 101 and best_val_logits_ll = 0.01686\n",
      "Best weights from best epoch are automatically used!\n",
      "FOLDS :  5\n",
      "Device used : cuda\n",
      "epoch 0  | loss: 0.52763 | val_logits_ll: 0.22348 |  0:00:01s\n",
      "epoch 10 | loss: 0.02077 | val_logits_ll: 0.02064 |  0:00:10s\n",
      "epoch 20 | loss: 0.0189  | val_logits_ll: 0.01893 |  0:00:19s\n",
      "epoch 30 | loss: 0.01773 | val_logits_ll: 0.01802 |  0:00:28s\n",
      "epoch 40 | loss: 0.01725 | val_logits_ll: 0.01784 |  0:00:38s\n",
      "epoch 50 | loss: 0.01684 | val_logits_ll: 0.01797 |  0:00:48s\n",
      "epoch 60 | loss: 0.01666 | val_logits_ll: 0.01772 |  0:00:57s\n",
      "epoch 70 | loss: 0.01626 | val_logits_ll: 0.01727 |  0:01:06s\n",
      "epoch 80 | loss: 0.01597 | val_logits_ll: 0.01712 |  0:01:15s\n",
      "epoch 90 | loss: 0.01585 | val_logits_ll: 0.01743 |  0:01:24s\n",
      "epoch 100| loss: 0.01571 | val_logits_ll: 0.01705 |  0:01:34s\n",
      "epoch 110| loss: 0.01565 | val_logits_ll: 0.01737 |  0:01:44s\n",
      "epoch 120| loss: 0.01492 | val_logits_ll: 0.01758 |  0:01:53s\n",
      "\n",
      "Early stopping occured at epoch 120 with best_epoch = 100 and best_val_logits_ll = 0.01705\n",
      "Best weights from best epoch are automatically used!\n",
      "OOF log loss: 0.016947192875187776\n",
      "Overall AUC : 0.730861217086172\n"
     ]
    }
   ],
   "source": [
    "MAX_EPOCH=200\n",
    "device = \"cuda\" if torch.cuda.is_available() else \"cpu\"\n",
    "\n",
    "def seed_everything(seed_value):\n",
    "    random.seed(seed_value)\n",
    "    np.random.seed(seed_value)\n",
    "    torch.manual_seed(seed_value)\n",
    "    os.environ['PYTHONHASHSEED'] = str(seed_value)\n",
    "    \n",
    "    if torch.cuda.is_available(): \n",
    "        torch.cuda.manual_seed(seed_value)\n",
    "        torch.cuda.manual_seed_all(seed_value)\n",
    "        torch.backends.cudnn.deterministic = True\n",
    "        torch.backends.cudnn.benchmark = False\n",
    "\n",
    "def modelling_tabnet(tr, target, te, sample_seed):\n",
    "    seed_everything(sample_seed) \n",
    "    tabnet_params = dict(n_d=12, n_a=12, n_steps=1, gamma=1.3, seed = sample_seed,\n",
    "                     lambda_sparse=0, optimizer_fn=torch.optim.Adam,\n",
    "                     optimizer_params=dict(lr=2e-2, weight_decay=1e-5),\n",
    "                     mask_type='entmax',\n",
    "                     scheduler_params=dict(mode=\"min\",\n",
    "                                           patience=5,\n",
    "                                           min_lr=1e-5,\n",
    "                                           factor=0.9,),\n",
    "                     scheduler_fn=torch.optim.lr_scheduler.ReduceLROnPlateau,\n",
    "                     verbose=10,\n",
    "                     )\n",
    "    test_cv_preds = []\n",
    "\n",
    "    oof_preds = np.zeros([len(tr),target.shape[1]])\n",
    "    scores = []\n",
    "    NB_SPLITS = 5\n",
    "    mskf = MultilabelStratifiedKFold(n_splits=NB_SPLITS, random_state=0, shuffle=True)\n",
    "    for fold_nb, (train_idx, val_idx) in enumerate(mskf.split(train, target)):\n",
    "        print(\"FOLDS : \", fold_nb+1)\n",
    "\n",
    "        ## model\n",
    "        X_train, y_train = tr[train_idx, :], target[train_idx, :]\n",
    "        X_val, y_val = tr[val_idx, :], target[val_idx, :]\n",
    "        model = TabNetRegressor(**tabnet_params)\n",
    "    \n",
    "        model.fit(X_train=X_train,\n",
    "              y_train=y_train,\n",
    "              eval_set=[(X_val, y_val)],\n",
    "              eval_name = [\"val\"],\n",
    "              eval_metric = [\"logits_ll\"],\n",
    "              max_epochs=MAX_EPOCH,\n",
    "              patience=20, batch_size=1024, virtual_batch_size=128,\n",
    "              num_workers=1, drop_last=False,\n",
    "              # use binary cross entropy as this is not a regression problem\n",
    "              loss_fn=torch.nn.functional.binary_cross_entropy_with_logits)\n",
    "    \n",
    "        preds_val = model.predict(X_val)\n",
    "        # Apply sigmoid to the predictions\n",
    "        preds =  1 / (1 + np.exp(-preds_val))\n",
    "        score = np.min(model.history[\"val_logits_ll\"])\n",
    "        oof_preds[val_idx,:] = preds\n",
    "        scores.append(score)\n",
    "\n",
    "        # preds on test\n",
    "        preds_test = model.predict(te)\n",
    "        test_cv_preds.append(1 / (1 + np.exp(-preds_test)))\n",
    "        \n",
    "    test_preds_all = np.stack(test_cv_preds)\n",
    "    print(\"OOF log loss:\", log_loss(np.ravel(target), np.ravel(np.array(oof_preds))))\n",
    "    aucs = []\n",
    "    for task_id in range(206):\n",
    "        aucs.append(roc_auc_score(y_true=target[:, task_id],y_score=oof_preds[:, task_id]))\n",
    "    print(f\"Overall AUC : {np.mean(aucs)}\")\n",
    "    return oof_preds, test_preds_all\n",
    "\n",
    "target_oof = np.zeros([len(fn_train),fn_targets.shape[1]])\n",
    "target_pred = np.zeros([len(fn_test),fn_targets.shape[1]])\n",
    "\n",
    "seeds = [0,1]\n",
    "for seed_ in seeds:\n",
    "    oof_preds, test_preds_all = modelling_tabnet(fn_train, fn_targets, fn_test, seed_)\n",
    "    target_oof += oof_preds / len(seeds)\n",
    "    target_pred += test_preds_all.mean(axis=0) / len(seeds)"
   ]
  },
  {
   "cell_type": "code",
   "execution_count": 19,
   "metadata": {
    "execution": {
     "iopub.execute_input": "2020-11-24T08:42:53.577705Z",
     "iopub.status.busy": "2020-11-24T08:42:53.576835Z",
     "iopub.status.idle": "2020-11-24T08:42:54.813650Z",
     "shell.execute_reply": "2020-11-24T08:42:54.812409Z"
    },
    "papermill": {
     "duration": 1.317967,
     "end_time": "2020-11-24T08:42:54.813779",
     "exception": false,
     "start_time": "2020-11-24T08:42:53.495812",
     "status": "completed"
    },
    "tags": []
   },
   "outputs": [
    {
     "name": "stdout",
     "output_type": "stream",
     "text": [
      "Overall AUC : 0.7461771542652138\n"
     ]
    }
   ],
   "source": [
    "aucs = []\n",
    "for task_id in range(targets.shape[1]-1):\n",
    "    aucs.append(roc_auc_score(y_true=targets.iloc[:, task_id+1].values,\n",
    "                              y_score=target_oof[:, task_id]))\n",
    "print(f\"Overall AUC : {np.mean(aucs)}\")"
   ]
  },
  {
   "cell_type": "code",
   "execution_count": 20,
   "metadata": {
    "execution": {
     "iopub.execute_input": "2020-11-24T08:42:54.970654Z",
     "iopub.status.busy": "2020-11-24T08:42:54.969716Z",
     "iopub.status.idle": "2020-11-24T08:43:02.362558Z",
     "shell.execute_reply": "2020-11-24T08:43:02.362035Z"
    },
    "papermill": {
     "duration": 7.47627,
     "end_time": "2020-11-24T08:43:02.362683",
     "exception": false,
     "start_time": "2020-11-24T08:42:54.886413",
     "status": "completed"
    },
    "tags": []
   },
   "outputs": [
    {
     "name": "stdout",
     "output_type": "stream",
     "text": [
      "OOF log loss:  0.015306827882797481\n",
      "OOF log loss:  0.015530614580653329\n"
     ]
    }
   ],
   "source": [
    "p_min = 0.001\n",
    "p_max = 1 - p_min\n",
    "\n",
    "t = pd.read_csv(DATA_DIR + 'train_targets_scored.csv')\n",
    "train_checkscore = t.copy()\n",
    "train_checkscore.loc[train_checkscore.index.isin(cons_train_index),target_feats] = target_oof\n",
    "train_checkscore.loc[train_checkscore.index.isin(noncons_train_index),target_feats] = 0\n",
    "\n",
    "t.drop(\"sig_id\", axis=1, inplace=True)\n",
    "print('OOF log loss: ', log_loss(np.ravel(t), np.ravel(np.array(train_checkscore.iloc[:,1:]))))\n",
    "print('OOF log loss: ', log_loss(np.ravel(t), np.ravel(np.clip(np.array(train_checkscore.iloc[:,1:]),p_min, p_max))))"
   ]
  },
  {
   "cell_type": "code",
   "execution_count": 21,
   "metadata": {
    "execution": {
     "iopub.execute_input": "2020-11-24T08:43:02.513517Z",
     "iopub.status.busy": "2020-11-24T08:43:02.512629Z",
     "iopub.status.idle": "2020-11-24T08:43:13.814984Z",
     "shell.execute_reply": "2020-11-24T08:43:13.805841Z"
    },
    "papermill": {
     "duration": 11.379333,
     "end_time": "2020-11-24T08:43:13.815147",
     "exception": false,
     "start_time": "2020-11-24T08:43:02.435814",
     "status": "completed"
    },
    "tags": []
   },
   "outputs": [],
   "source": [
    "train_checkscore.to_csv(\"tab_newval_oof.csv\", index=False)"
   ]
  },
  {
   "cell_type": "code",
   "execution_count": 22,
   "metadata": {
    "execution": {
     "iopub.execute_input": "2020-11-24T08:43:13.969238Z",
     "iopub.status.busy": "2020-11-24T08:43:13.968401Z",
     "iopub.status.idle": "2020-11-24T08:43:16.108369Z",
     "shell.execute_reply": "2020-11-24T08:43:16.107396Z"
    },
    "papermill": {
     "duration": 2.219315,
     "end_time": "2020-11-24T08:43:16.108565",
     "exception": false,
     "start_time": "2020-11-24T08:43:13.889250",
     "status": "completed"
    },
    "tags": []
   },
   "outputs": [],
   "source": [
    "sub[target_feats] = target_pred\n",
    "sub.loc[noncons_test_index,target_feats] = 0\n",
    "sub.to_csv('submission.csv', index=False)"
   ]
  },
  {
   "cell_type": "code",
   "execution_count": null,
   "metadata": {
    "papermill": {
     "duration": 0.074817,
     "end_time": "2020-11-24T08:43:16.257210",
     "exception": false,
     "start_time": "2020-11-24T08:43:16.182393",
     "status": "completed"
    },
    "tags": []
   },
   "outputs": [],
   "source": []
  }
 ],
 "metadata": {
  "kernelspec": {
   "display_name": "Python 3",
   "language": "python",
   "name": "python3"
  },
  "language_info": {
   "codemirror_mode": {
    "name": "ipython",
    "version": 3
   },
   "file_extension": ".py",
   "mimetype": "text/x-python",
   "name": "python",
   "nbconvert_exporter": "python",
   "pygments_lexer": "ipython3",
   "version": "3.7.6"
  },
  "papermill": {
   "duration": 1216.911007,
   "end_time": "2020-11-24T08:43:16.838476",
   "environment_variables": {},
   "exception": null,
   "input_path": "__notebook__.ipynb",
   "output_path": "__notebook__.ipynb",
   "parameters": {},
   "start_time": "2020-11-24T08:22:59.927469",
   "version": "2.1.0"
  }
 },
 "nbformat": 4,
 "nbformat_minor": 4
}
