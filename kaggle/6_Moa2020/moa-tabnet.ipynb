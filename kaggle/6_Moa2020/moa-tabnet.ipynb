{
 "cells": [
  {
   "cell_type": "markdown",
   "metadata": {
    "papermill": {
     "duration": 0.012856,
     "end_time": "2020-10-17T06:24:08.420284",
     "exception": false,
     "start_time": "2020-10-17T06:24:08.407428",
     "status": "completed"
    },
    "tags": []
   },
   "source": [
    "- credit: https://www.kaggle.com/optimo/tabnetregressor-2-0-train-infer/data\n",
    "- https://github.com/dreamquark-ai/tabnet"
   ]
  },
  {
   "cell_type": "code",
   "execution_count": 1,
   "metadata": {
    "execution": {
     "iopub.execute_input": "2020-10-17T06:24:08.451206Z",
     "iopub.status.busy": "2020-10-17T06:24:08.450375Z",
     "iopub.status.idle": "2020-10-17T06:24:17.649495Z",
     "shell.execute_reply": "2020-10-17T06:24:17.648515Z"
    },
    "papermill": {
     "duration": 9.21748,
     "end_time": "2020-10-17T06:24:17.649656",
     "exception": false,
     "start_time": "2020-10-17T06:24:08.432176",
     "status": "completed"
    },
    "tags": []
   },
   "outputs": [
    {
     "name": "stdout",
     "output_type": "stream",
     "text": [
      "Looking in links: /kaggle/input/pytorchtabnet/pytorch_tabnet-2.0.0-py3-none-any.whl\r\n",
      "Processing /kaggle/input/pytorchtabnet/pytorch_tabnet-2.0.0-py3-none-any.whl\r\n",
      "Requirement already satisfied: numpy<2.0,>=1.17 in /opt/conda/lib/python3.7/site-packages (from pytorch-tabnet) (1.18.5)\r\n",
      "Requirement already satisfied: torch<2.0,>=1.2 in /opt/conda/lib/python3.7/site-packages (from pytorch-tabnet) (1.6.0)\r\n",
      "Requirement already satisfied: tqdm<5.0,>=4.36 in /opt/conda/lib/python3.7/site-packages (from pytorch-tabnet) (4.45.0)\r\n",
      "Requirement already satisfied: scipy>1.4 in /opt/conda/lib/python3.7/site-packages (from pytorch-tabnet) (1.4.1)\r\n",
      "Requirement already satisfied: scikit_learn>0.21 in /opt/conda/lib/python3.7/site-packages (from pytorch-tabnet) (0.23.2)\r\n",
      "Requirement already satisfied: future in /opt/conda/lib/python3.7/site-packages (from torch<2.0,>=1.2->pytorch-tabnet) (0.18.2)\r\n",
      "Requirement already satisfied: threadpoolctl>=2.0.0 in /opt/conda/lib/python3.7/site-packages (from scikit_learn>0.21->pytorch-tabnet) (2.1.0)\r\n",
      "Requirement already satisfied: joblib>=0.11 in /opt/conda/lib/python3.7/site-packages (from scikit_learn>0.21->pytorch-tabnet) (0.14.1)\r\n",
      "Installing collected packages: pytorch-tabnet\r\n",
      "Successfully installed pytorch-tabnet-2.0.0\r\n"
     ]
    }
   ],
   "source": [
    "!pip install --no-index --find-links /kaggle/input/pytorchtabnet/pytorch_tabnet-2.0.0-py3-none-any.whl pytorch-tabnet"
   ]
  },
  {
   "cell_type": "code",
   "execution_count": 2,
   "metadata": {
    "_cell_guid": "b1076dfc-b9ad-4769-8c92-a6c4dae69d19",
    "_uuid": "8f2839f25d086af736a60e9eeb907d3b93b6e0e5",
    "execution": {
     "iopub.execute_input": "2020-10-17T06:24:17.687760Z",
     "iopub.status.busy": "2020-10-17T06:24:17.686933Z",
     "iopub.status.idle": "2020-10-17T06:24:25.074815Z",
     "shell.execute_reply": "2020-10-17T06:24:25.073601Z"
    },
    "papermill": {
     "duration": 7.41101,
     "end_time": "2020-10-17T06:24:25.074993",
     "exception": false,
     "start_time": "2020-10-17T06:24:17.663983",
     "status": "completed"
    },
    "tags": []
   },
   "outputs": [],
   "source": [
    "import os\n",
    "import sys\n",
    "import random\n",
    "import warnings\n",
    "import numpy as np\n",
    "import pandas as pd \n",
    "from sklearn import preprocessing\n",
    "from sklearn.metrics import log_loss,roc_auc_score\n",
    "from sklearn.decomposition import PCA\n",
    "from tqdm import tqdm_notebook as tqdm\n",
    "from sklearn.multioutput import MultiOutputClassifier\n",
    "from sklearn.feature_selection import VarianceThreshold\n",
    "\n",
    "from pytorch_tabnet.metrics import Metric\n",
    "from pytorch_tabnet.tab_model import TabNetRegressor\n",
    "\n",
    "sys.path.append('../input/multilabelstraifier/')\n",
    "from ml_stratifiers import MultilabelStratifiedKFold\n",
    "warnings.filterwarnings('ignore')\n",
    "\n",
    "import time\n",
    "import torch\n",
    "import torch.nn as nn\n",
    "import torch.optim as optim\n",
    "import torch.nn.functional as F\n",
    "import tensorflow as tf"
   ]
  },
  {
   "cell_type": "code",
   "execution_count": 3,
   "metadata": {
    "execution": {
     "iopub.execute_input": "2020-10-17T06:24:25.112753Z",
     "iopub.status.busy": "2020-10-17T06:24:25.111970Z",
     "iopub.status.idle": "2020-10-17T06:24:31.405694Z",
     "shell.execute_reply": "2020-10-17T06:24:31.404487Z"
    },
    "papermill": {
     "duration": 6.315373,
     "end_time": "2020-10-17T06:24:31.405833",
     "exception": false,
     "start_time": "2020-10-17T06:24:25.090460",
     "status": "completed"
    },
    "tags": []
   },
   "outputs": [],
   "source": [
    "DATA_DIR = '/kaggle/input/lish-moa/'\n",
    "train = pd.read_csv(DATA_DIR + 'train_features.csv')\n",
    "targets = pd.read_csv(DATA_DIR + 'train_targets_scored.csv')\n",
    "non_targets = pd.read_csv(DATA_DIR + 'train_targets_nonscored.csv')\n",
    "test = pd.read_csv(DATA_DIR + 'test_features.csv')\n",
    "sub = pd.read_csv(DATA_DIR + 'sample_submission.csv')"
   ]
  },
  {
   "cell_type": "code",
   "execution_count": 4,
   "metadata": {
    "execution": {
     "iopub.execute_input": "2020-10-17T06:24:31.446498Z",
     "iopub.status.busy": "2020-10-17T06:24:31.445582Z",
     "iopub.status.idle": "2020-10-17T06:24:31.537490Z",
     "shell.execute_reply": "2020-10-17T06:24:31.536925Z"
    },
    "papermill": {
     "duration": 0.117273,
     "end_time": "2020-10-17T06:24:31.537604",
     "exception": false,
     "start_time": "2020-10-17T06:24:31.420331",
     "status": "completed"
    },
    "tags": []
   },
   "outputs": [],
   "source": [
    "target_feats = [ i for i in targets.columns if i != \"sig_id\"]\n",
    "g_feats = [i for i in train.columns if \"g-\" in i]\n",
    "c_feats = [i for i in train.columns if \"c-\" in i]\n",
    "\n",
    "noncons_train_index = train[train.cp_type==\"ctl_vehicle\"].index\n",
    "cons_train_index = train[~train.index.isin(noncons_train_index)].index\n",
    "noncons_test_index = test[test.cp_type==\"ctl_vehicle\"].index\n",
    "cons_test_index = test[test.cp_type!=\"ctl_vehicle\"].index"
   ]
  },
  {
   "cell_type": "markdown",
   "metadata": {
    "papermill": {
     "duration": 0.013964,
     "end_time": "2020-10-17T06:24:31.565799",
     "exception": false,
     "start_time": "2020-10-17T06:24:31.551835",
     "status": "completed"
    },
    "tags": []
   },
   "source": [
    "# preprocess"
   ]
  },
  {
   "cell_type": "code",
   "execution_count": 5,
   "metadata": {
    "execution": {
     "iopub.execute_input": "2020-10-17T06:24:31.612089Z",
     "iopub.status.busy": "2020-10-17T06:24:31.608020Z",
     "iopub.status.idle": "2020-10-17T06:24:31.994302Z",
     "shell.execute_reply": "2020-10-17T06:24:31.995298Z"
    },
    "papermill": {
     "duration": 0.41571,
     "end_time": "2020-10-17T06:24:31.995480",
     "exception": false,
     "start_time": "2020-10-17T06:24:31.579770",
     "status": "completed"
    },
    "tags": []
   },
   "outputs": [
    {
     "name": "stdout",
     "output_type": "stream",
     "text": [
      "first drop 71\n",
      "shape after 1st drop: (21948, 332)\n",
      "331\n"
     ]
    }
   ],
   "source": [
    "train = train[train.index.isin(cons_train_index)].copy().reset_index(drop=True)\n",
    "targets = targets[targets.index.isin(cons_train_index)].copy().reset_index(drop=True)\n",
    "non_targets = non_targets[non_targets.index.isin(cons_train_index)].copy().reset_index(drop=True)\n",
    "\n",
    "non_target_feats = [i for i in non_targets.columns if i != \"sig_id\"]\n",
    "nontarget_dists = pd.DataFrame(np.sum(non_targets[non_target_feats])).reset_index(drop=False)\n",
    "nontarget_dists.columns = [\"target\", \"number\"]\n",
    "nontarget_dists = nontarget_dists.sort_values(\"number\", ascending=False).reset_index(drop=True)\n",
    "drop_list1 = list(nontarget_dists[nontarget_dists.number==0][\"target\"].values)\n",
    "print(\"first drop\", len(drop_list1))\n",
    "non_targets.drop(drop_list1, axis=1, inplace=True)\n",
    "print(\"shape after 1st drop:\", non_targets.shape)\n",
    "non_target_feats = [i for i in non_targets.columns if i != \"sig_id\"]\n",
    "print(len(non_target_feats))"
   ]
  },
  {
   "cell_type": "markdown",
   "metadata": {
    "papermill": {
     "duration": 0.014754,
     "end_time": "2020-10-17T06:24:32.025466",
     "exception": false,
     "start_time": "2020-10-17T06:24:32.010712",
     "status": "completed"
    },
    "tags": []
   },
   "source": [
    "# feature engineering"
   ]
  },
  {
   "cell_type": "code",
   "execution_count": 6,
   "metadata": {
    "execution": {
     "iopub.execute_input": "2020-10-17T06:24:32.077265Z",
     "iopub.status.busy": "2020-10-17T06:24:32.075984Z",
     "iopub.status.idle": "2020-10-17T06:24:33.610007Z",
     "shell.execute_reply": "2020-10-17T06:24:33.608865Z"
    },
    "papermill": {
     "duration": 1.569528,
     "end_time": "2020-10-17T06:24:33.610130",
     "exception": false,
     "start_time": "2020-10-17T06:24:32.040602",
     "status": "completed"
    },
    "tags": []
   },
   "outputs": [],
   "source": [
    "num = 10\n",
    "pca_c_cols = [\"pca-c\"+str(i+1) for i in range(num)]\n",
    "pca = PCA(n_components=num,random_state=42)\n",
    "c_train = pca.fit_transform(train[c_feats])\n",
    "c_test = pca.transform(test[c_feats])\n",
    "c_train = pd.DataFrame(c_train, columns=pca_c_cols)\n",
    "c_test = pd.DataFrame(c_test, columns=pca_c_cols)\n",
    "\n",
    "num = 30\n",
    "pca_g_cols = [\"pca-g\"+str(i+1) for i in range(num)]\n",
    "pca = PCA(n_components=num, random_state=42)\n",
    "g_train = pca.fit_transform(train[g_feats])\n",
    "g_test = pca.transform(test[g_feats])\n",
    "g_train = pd.DataFrame(g_train, columns=pca_g_cols)\n",
    "g_test = pd.DataFrame(g_test, columns=pca_g_cols)\n",
    "\n",
    "#train = pd.concat([train, c_train],axis=1)\n",
    "#test = pd.concat([test, c_test],axis=1)\n",
    "#train = pd.concat([train, g_train],axis=1)\n",
    "#test = pd.concat([test, g_test],axis=1)"
   ]
  },
  {
   "cell_type": "code",
   "execution_count": 7,
   "metadata": {
    "execution": {
     "iopub.execute_input": "2020-10-17T06:24:33.648415Z",
     "iopub.status.busy": "2020-10-17T06:24:33.647188Z",
     "iopub.status.idle": "2020-10-17T06:24:33.783241Z",
     "shell.execute_reply": "2020-10-17T06:24:33.783949Z"
    },
    "papermill": {
     "duration": 0.159245,
     "end_time": "2020-10-17T06:24:33.784139",
     "exception": false,
     "start_time": "2020-10-17T06:24:33.624894",
     "status": "completed"
    },
    "tags": []
   },
   "outputs": [
    {
     "name": "stdout",
     "output_type": "stream",
     "text": [
      "(21948, 874) (3982, 874)\n"
     ]
    }
   ],
   "source": [
    "def fe(df):\n",
    "    tmp = df.copy()\n",
    "    #tmp.loc[:, 'cp_type'] = tmp.loc[:, 'cp_type'].map({'trt_cp': 0, 'ctl_vehicle': 1})\n",
    "    tmp.loc[:, 'cp_dose'] = tmp.loc[:, 'cp_dose'].map({'D1': 0, 'D2': 1})        \n",
    "    tmp.drop([\"cp_type\", \"sig_id\"], axis=1, inplace=True)\n",
    "    return tmp\n",
    "\n",
    "train = fe(train)\n",
    "test = fe(test)\n",
    "\n",
    "print(train.shape, test.shape)"
   ]
  },
  {
   "cell_type": "code",
   "execution_count": 8,
   "metadata": {
    "execution": {
     "iopub.execute_input": "2020-10-17T06:24:33.823625Z",
     "iopub.status.busy": "2020-10-17T06:24:33.822488Z",
     "iopub.status.idle": "2020-10-17T06:24:35.316326Z",
     "shell.execute_reply": "2020-10-17T06:24:35.317194Z"
    },
    "papermill": {
     "duration": 1.516816,
     "end_time": "2020-10-17T06:24:35.317431",
     "exception": false,
     "start_time": "2020-10-17T06:24:33.800615",
     "status": "completed"
    },
    "tags": []
   },
   "outputs": [],
   "source": [
    "fn_train = train.copy().to_numpy()\n",
    "fn_test = test.copy().to_numpy()\n",
    "\n",
    "ss = preprocessing.RobustScaler()\n",
    "fn_train= ss.fit_transform(fn_train)\n",
    "fn_test = ss.transform(fn_test)\n",
    "\n",
    "fn_non_targets = non_targets.drop(\"sig_id\", axis=1).copy().to_numpy()\n",
    "fn_targets = targets.drop(\"sig_id\", axis=1).copy().to_numpy()"
   ]
  },
  {
   "cell_type": "markdown",
   "metadata": {
    "papermill": {
     "duration": 0.021726,
     "end_time": "2020-10-17T06:24:35.364595",
     "exception": false,
     "start_time": "2020-10-17T06:24:35.342869",
     "status": "completed"
    },
    "tags": []
   },
   "source": [
    "# modelling"
   ]
  },
  {
   "cell_type": "code",
   "execution_count": 9,
   "metadata": {
    "execution": {
     "iopub.execute_input": "2020-10-17T06:24:35.420347Z",
     "iopub.status.busy": "2020-10-17T06:24:35.419424Z",
     "iopub.status.idle": "2020-10-17T06:24:35.423672Z",
     "shell.execute_reply": "2020-10-17T06:24:35.424763Z"
    },
    "papermill": {
     "duration": 0.038684,
     "end_time": "2020-10-17T06:24:35.425322",
     "exception": false,
     "start_time": "2020-10-17T06:24:35.386638",
     "status": "completed"
    },
    "tags": []
   },
   "outputs": [],
   "source": [
    "class LogitsLogLoss(Metric):\n",
    "    def __init__(self):\n",
    "        self._name = \"logits_ll\"\n",
    "        self._maximize = False\n",
    "\n",
    "    def __call__(self, y_true, y_pred):\n",
    "        \"\"\"\n",
    "        Compute LogLoss of predictions.\n",
    "\n",
    "        Parameters\n",
    "        ----------\n",
    "        y_true: np.ndarray\n",
    "            Target matrix or vector\n",
    "        y_score: np.ndarray\n",
    "            Score matrix or vector\n",
    "\n",
    "        Returns\n",
    "        -------\n",
    "            float\n",
    "            LogLoss of predictions vs targets.\n",
    "        \"\"\"\n",
    "        logits = 1 / (1 + np.exp(-y_pred))\n",
    "        aux = (1-y_true)*np.log(1-logits+1e-15) + y_true*np.log(logits+1e-15)\n",
    "        return np.mean(-aux)"
   ]
  },
  {
   "cell_type": "code",
   "execution_count": 10,
   "metadata": {
    "execution": {
     "iopub.execute_input": "2020-10-17T06:24:35.513143Z",
     "iopub.status.busy": "2020-10-17T06:24:35.512163Z",
     "iopub.status.idle": "2020-10-17T06:44:51.169293Z",
     "shell.execute_reply": "2020-10-17T06:44:51.168689Z"
    },
    "papermill": {
     "duration": 1215.721287,
     "end_time": "2020-10-17T06:44:51.169427",
     "exception": false,
     "start_time": "2020-10-17T06:24:35.448140",
     "status": "completed"
    },
    "tags": []
   },
   "outputs": [
    {
     "name": "stdout",
     "output_type": "stream",
     "text": [
      "FOLDS :  1\n",
      "Device used : cuda\n",
      "epoch 0  | loss: 0.56805 | val_logits_ll: 0.30547 |  0:00:01s\n",
      "epoch 10 | loss: 0.02066 | val_logits_ll: 0.02053 |  0:00:11s\n",
      "epoch 20 | loss: 0.01902 | val_logits_ll: 0.01885 |  0:00:21s\n",
      "epoch 30 | loss: 0.01782 | val_logits_ll: 0.01842 |  0:00:31s\n",
      "epoch 40 | loss: 0.01723 | val_logits_ll: 0.01774 |  0:00:42s\n",
      "epoch 50 | loss: 0.01699 | val_logits_ll: 0.01863 |  0:00:51s\n",
      "epoch 60 | loss: 0.01669 | val_logits_ll: 0.01722 |  0:01:01s\n",
      "epoch 70 | loss: 0.0167  | val_logits_ll: 0.0171  |  0:01:11s\n",
      "epoch 80 | loss: 0.01643 | val_logits_ll: 0.01703 |  0:01:21s\n",
      "epoch 90 | loss: 0.01611 | val_logits_ll: 0.01693 |  0:01:30s\n",
      "epoch 100| loss: 0.01599 | val_logits_ll: 0.01745 |  0:01:41s\n",
      "\n",
      "Early stopping occured at epoch 104 with best_epoch = 84 and best_val_logits_ll = 0.01675\n",
      "Best weights from best epoch are automatically used!\n",
      "FOLDS :  2\n",
      "Device used : cuda\n",
      "epoch 0  | loss: 0.56657 | val_logits_ll: 0.30328 |  0:00:00s\n",
      "epoch 10 | loss: 0.02066 | val_logits_ll: 0.02041 |  0:00:10s\n",
      "epoch 20 | loss: 0.01867 | val_logits_ll: 0.0188  |  0:00:20s\n",
      "epoch 30 | loss: 0.01749 | val_logits_ll: 0.01904 |  0:00:30s\n",
      "epoch 40 | loss: 0.017   | val_logits_ll: 0.01937 |  0:00:40s\n",
      "epoch 50 | loss: 0.01662 | val_logits_ll: 0.01784 |  0:00:50s\n",
      "epoch 60 | loss: 0.01631 | val_logits_ll: 0.01738 |  0:01:00s\n",
      "epoch 70 | loss: 0.01606 | val_logits_ll: 0.01742 |  0:01:10s\n",
      "epoch 80 | loss: 0.0158  | val_logits_ll: 0.01729 |  0:01:19s\n",
      "epoch 90 | loss: 0.01559 | val_logits_ll: 0.01755 |  0:01:30s\n",
      "\n",
      "Early stopping occured at epoch 94 with best_epoch = 74 and best_val_logits_ll = 0.01715\n",
      "Best weights from best epoch are automatically used!\n",
      "FOLDS :  3\n",
      "Device used : cuda\n",
      "epoch 0  | loss: 0.56895 | val_logits_ll: 0.29383 |  0:00:00s\n",
      "epoch 10 | loss: 0.02061 | val_logits_ll: 0.02049 |  0:00:10s\n",
      "epoch 20 | loss: 0.01867 | val_logits_ll: 0.01884 |  0:00:21s\n",
      "epoch 30 | loss: 0.01788 | val_logits_ll: 0.01938 |  0:00:31s\n",
      "epoch 40 | loss: 0.01737 | val_logits_ll: 0.01834 |  0:00:40s\n",
      "epoch 50 | loss: 0.01688 | val_logits_ll: 0.01768 |  0:00:50s\n",
      "epoch 60 | loss: 0.01663 | val_logits_ll: 0.01734 |  0:01:01s\n",
      "epoch 70 | loss: 0.01632 | val_logits_ll: 0.01753 |  0:01:10s\n",
      "epoch 80 | loss: 0.01608 | val_logits_ll: 0.01765 |  0:01:21s\n",
      "epoch 90 | loss: 0.01596 | val_logits_ll: 0.01717 |  0:01:31s\n",
      "epoch 100| loss: 0.01578 | val_logits_ll: 0.01717 |  0:01:41s\n",
      "epoch 110| loss: 0.01548 | val_logits_ll: 0.01752 |  0:01:50s\n",
      "epoch 120| loss: 0.0153  | val_logits_ll: 0.01721 |  0:02:00s\n",
      "\n",
      "Early stopping occured at epoch 122 with best_epoch = 102 and best_val_logits_ll = 0.01708\n",
      "Best weights from best epoch are automatically used!\n",
      "FOLDS :  4\n",
      "Device used : cuda\n",
      "epoch 0  | loss: 0.56326 | val_logits_ll: 0.30779 |  0:00:00s\n",
      "epoch 10 | loss: 0.02077 | val_logits_ll: 0.02068 |  0:00:11s\n",
      "epoch 20 | loss: 0.01976 | val_logits_ll: 0.02129 |  0:00:21s\n",
      "epoch 30 | loss: 0.01805 | val_logits_ll: 0.01843 |  0:00:31s\n",
      "epoch 40 | loss: 0.01747 | val_logits_ll: 0.01914 |  0:00:41s\n",
      "epoch 50 | loss: 0.01699 | val_logits_ll: 0.01756 |  0:00:50s\n",
      "epoch 60 | loss: 0.01654 | val_logits_ll: 0.01726 |  0:01:01s\n",
      "epoch 70 | loss: 0.01631 | val_logits_ll: 0.01722 |  0:01:11s\n",
      "epoch 80 | loss: 0.01591 | val_logits_ll: 0.01715 |  0:01:22s\n",
      "epoch 90 | loss: 0.01603 | val_logits_ll: 0.01704 |  0:01:32s\n",
      "epoch 100| loss: 0.01577 | val_logits_ll: 0.01713 |  0:01:42s\n",
      "epoch 110| loss: 0.01563 | val_logits_ll: 0.01701 |  0:01:52s\n",
      "epoch 120| loss: 0.01537 | val_logits_ll: 0.01705 |  0:02:03s\n",
      "\n",
      "Early stopping occured at epoch 125 with best_epoch = 105 and best_val_logits_ll = 0.01688\n",
      "Best weights from best epoch are automatically used!\n",
      "FOLDS :  5\n",
      "Device used : cuda\n",
      "epoch 0  | loss: 0.56189 | val_logits_ll: 0.28975 |  0:00:01s\n",
      "epoch 10 | loss: 0.02054 | val_logits_ll: 0.02081 |  0:00:11s\n",
      "epoch 20 | loss: 0.01905 | val_logits_ll: 0.01913 |  0:00:21s\n",
      "epoch 30 | loss: 0.01762 | val_logits_ll: 0.01857 |  0:00:31s\n",
      "epoch 40 | loss: 0.01701 | val_logits_ll: 0.01784 |  0:00:41s\n",
      "epoch 50 | loss: 0.01699 | val_logits_ll: 0.01773 |  0:00:51s\n",
      "epoch 60 | loss: 0.01657 | val_logits_ll: 0.01721 |  0:01:02s\n",
      "epoch 70 | loss: 0.01625 | val_logits_ll: 0.01729 |  0:01:12s\n",
      "epoch 80 | loss: 0.01593 | val_logits_ll: 0.01703 |  0:01:21s\n",
      "epoch 90 | loss: 0.01571 | val_logits_ll: 0.01721 |  0:01:32s\n",
      "epoch 100| loss: 0.01557 | val_logits_ll: 0.01708 |  0:01:42s\n",
      "epoch 110| loss: 0.01529 | val_logits_ll: 0.01707 |  0:01:52s\n",
      "\n",
      "Early stopping occured at epoch 118 with best_epoch = 98 and best_val_logits_ll = 0.01687\n",
      "Best weights from best epoch are automatically used!\n",
      "FOLDS :  1\n",
      "Device used : cuda\n",
      "epoch 0  | loss: 0.52289 | val_logits_ll: 0.23849 |  0:00:00s\n",
      "epoch 10 | loss: 0.02073 | val_logits_ll: 0.02061 |  0:00:10s\n",
      "epoch 20 | loss: 0.01939 | val_logits_ll: 0.01925 |  0:00:20s\n",
      "epoch 30 | loss: 0.01785 | val_logits_ll: 0.01818 |  0:00:30s\n",
      "epoch 40 | loss: 0.01726 | val_logits_ll: 0.01789 |  0:00:40s\n",
      "epoch 50 | loss: 0.01705 | val_logits_ll: 0.01764 |  0:00:49s\n",
      "epoch 60 | loss: 0.01672 | val_logits_ll: 0.0175  |  0:01:01s\n",
      "epoch 70 | loss: 0.01653 | val_logits_ll: 0.01733 |  0:01:10s\n",
      "epoch 80 | loss: 0.01632 | val_logits_ll: 0.01724 |  0:01:20s\n",
      "epoch 90 | loss: 0.01614 | val_logits_ll: 0.01725 |  0:01:30s\n",
      "epoch 100| loss: 0.01588 | val_logits_ll: 0.01706 |  0:01:40s\n",
      "epoch 110| loss: 0.01555 | val_logits_ll: 0.01718 |  0:01:49s\n",
      "epoch 120| loss: 0.01531 | val_logits_ll: 0.0176  |  0:02:00s\n",
      "epoch 130| loss: 0.01533 | val_logits_ll: 0.01713 |  0:02:10s\n",
      "\n",
      "Early stopping occured at epoch 138 with best_epoch = 118 and best_val_logits_ll = 0.01687\n",
      "Best weights from best epoch are automatically used!\n",
      "FOLDS :  2\n",
      "Device used : cuda\n",
      "epoch 0  | loss: 0.5229  | val_logits_ll: 0.27514 |  0:00:00s\n",
      "epoch 10 | loss: 0.02097 | val_logits_ll: 0.02081 |  0:00:10s\n",
      "epoch 20 | loss: 0.019   | val_logits_ll: 0.01919 |  0:00:20s\n",
      "epoch 30 | loss: 0.01772 | val_logits_ll: 0.01825 |  0:00:29s\n",
      "epoch 40 | loss: 0.01713 | val_logits_ll: 0.01945 |  0:00:40s\n",
      "epoch 50 | loss: 0.01679 | val_logits_ll: 0.01774 |  0:00:50s\n",
      "epoch 60 | loss: 0.01654 | val_logits_ll: 0.01737 |  0:01:00s\n",
      "epoch 70 | loss: 0.01625 | val_logits_ll: 0.01729 |  0:01:09s\n",
      "epoch 80 | loss: 0.01592 | val_logits_ll: 0.01743 |  0:01:19s\n",
      "epoch 90 | loss: 0.0156  | val_logits_ll: 0.01744 |  0:01:29s\n",
      "epoch 100| loss: 0.01577 | val_logits_ll: 0.01742 |  0:01:40s\n",
      "epoch 110| loss: 0.01544 | val_logits_ll: 0.01716 |  0:01:50s\n",
      "\n",
      "Early stopping occured at epoch 116 with best_epoch = 96 and best_val_logits_ll = 0.01707\n",
      "Best weights from best epoch are automatically used!\n",
      "FOLDS :  3\n",
      "Device used : cuda\n",
      "epoch 0  | loss: 0.52711 | val_logits_ll: 0.24486 |  0:00:00s\n",
      "epoch 10 | loss: 0.02102 | val_logits_ll: 0.02098 |  0:00:10s\n",
      "epoch 20 | loss: 0.01939 | val_logits_ll: 0.01982 |  0:00:20s\n",
      "epoch 30 | loss: 0.01826 | val_logits_ll: 0.01886 |  0:00:31s\n",
      "epoch 40 | loss: 0.01732 | val_logits_ll: 0.01927 |  0:00:42s\n",
      "epoch 50 | loss: 0.01668 | val_logits_ll: 0.01857 |  0:00:53s\n",
      "epoch 60 | loss: 0.01631 | val_logits_ll: 0.01774 |  0:01:04s\n",
      "epoch 70 | loss: 0.01621 | val_logits_ll: 0.01733 |  0:01:14s\n",
      "epoch 80 | loss: 0.01584 | val_logits_ll: 0.01716 |  0:01:24s\n",
      "epoch 90 | loss: 0.01559 | val_logits_ll: 0.01726 |  0:01:35s\n",
      "epoch 100| loss: 0.01526 | val_logits_ll: 0.01714 |  0:01:46s\n",
      "epoch 110| loss: 0.01501 | val_logits_ll: 0.01741 |  0:01:57s\n",
      "\n",
      "Early stopping occured at epoch 111 with best_epoch = 91 and best_val_logits_ll = 0.01708\n",
      "Best weights from best epoch are automatically used!\n",
      "FOLDS :  4\n",
      "Device used : cuda\n",
      "epoch 0  | loss: 0.52426 | val_logits_ll: 0.24755 |  0:00:00s\n",
      "epoch 10 | loss: 0.0207  | val_logits_ll: 0.02274 |  0:00:11s\n",
      "epoch 20 | loss: 0.01917 | val_logits_ll: 0.0192  |  0:00:22s\n",
      "epoch 30 | loss: 0.01796 | val_logits_ll: 0.01816 |  0:00:32s\n",
      "epoch 40 | loss: 0.01715 | val_logits_ll: 0.01777 |  0:00:43s\n",
      "epoch 50 | loss: 0.01664 | val_logits_ll: 0.01925 |  0:00:53s\n",
      "epoch 60 | loss: 0.01647 | val_logits_ll: 0.01749 |  0:01:03s\n",
      "epoch 70 | loss: 0.01624 | val_logits_ll: 0.0172  |  0:01:13s\n",
      "epoch 80 | loss: 0.01589 | val_logits_ll: 0.01719 |  0:01:23s\n",
      "epoch 90 | loss: 0.01576 | val_logits_ll: 0.01722 |  0:01:33s\n",
      "epoch 100| loss: 0.01579 | val_logits_ll: 0.01707 |  0:01:44s\n",
      "epoch 110| loss: 0.01549 | val_logits_ll: 0.01701 |  0:01:55s\n",
      "epoch 120| loss: 0.015   | val_logits_ll: 0.01707 |  0:02:04s\n",
      "epoch 130| loss: 0.01489 | val_logits_ll: 0.01712 |  0:02:14s\n",
      "\n",
      "Early stopping occured at epoch 139 with best_epoch = 119 and best_val_logits_ll = 0.0169\n",
      "Best weights from best epoch are automatically used!\n",
      "FOLDS :  5\n",
      "Device used : cuda\n",
      "epoch 0  | loss: 0.52766 | val_logits_ll: 0.21611 |  0:00:00s\n",
      "epoch 10 | loss: 0.0207  | val_logits_ll: 0.0206  |  0:00:10s\n",
      "epoch 20 | loss: 0.01905 | val_logits_ll: 0.01908 |  0:00:21s\n",
      "epoch 30 | loss: 0.01771 | val_logits_ll: 0.01814 |  0:00:32s\n",
      "epoch 40 | loss: 0.01721 | val_logits_ll: 0.01794 |  0:00:42s\n",
      "epoch 50 | loss: 0.01662 | val_logits_ll: 0.01877 |  0:00:51s\n",
      "epoch 60 | loss: 0.01631 | val_logits_ll: 0.01729 |  0:01:02s\n",
      "epoch 70 | loss: 0.01608 | val_logits_ll: 0.01723 |  0:01:12s\n",
      "epoch 80 | loss: 0.01597 | val_logits_ll: 0.01711 |  0:01:23s\n",
      "epoch 90 | loss: 0.0159  | val_logits_ll: 0.01717 |  0:01:34s\n",
      "epoch 100| loss: 0.01545 | val_logits_ll: 0.01713 |  0:01:44s\n",
      "\n",
      "Early stopping occured at epoch 103 with best_epoch = 83 and best_val_logits_ll = 0.01703\n",
      "Best weights from best epoch are automatically used!\n"
     ]
    }
   ],
   "source": [
    "MAX_EPOCH=200\n",
    "\n",
    "def seed_everything(seed_value):\n",
    "    random.seed(seed_value)\n",
    "    np.random.seed(seed_value)\n",
    "    torch.manual_seed(seed_value)\n",
    "    os.environ['PYTHONHASHSEED'] = str(seed_value)\n",
    "    \n",
    "    if torch.cuda.is_available(): \n",
    "        torch.cuda.manual_seed(seed_value)\n",
    "        torch.cuda.manual_seed_all(seed_value)\n",
    "        torch.backends.cudnn.deterministic = True\n",
    "        torch.backends.cudnn.benchmark = False\n",
    "\n",
    "def modelling_tabnet(tr, target, te, sample_seed):\n",
    "    seed_everything(sample_seed) \n",
    "    tabnet_params = dict(n_d=12, n_a=12, n_steps=1, gamma=1.3, seed = sample_seed,\n",
    "                     lambda_sparse=0, optimizer_fn=torch.optim.Adam,\n",
    "                     optimizer_params=dict(lr=2e-2, weight_decay=1e-5),\n",
    "                     mask_type='entmax',\n",
    "                     scheduler_params=dict(mode=\"min\",\n",
    "                                           patience=5,\n",
    "                                           min_lr=1e-5,\n",
    "                                           factor=0.9,),\n",
    "                     scheduler_fn=torch.optim.lr_scheduler.ReduceLROnPlateau,\n",
    "                     verbose=10,\n",
    "                     )\n",
    "    test_cv_preds = []\n",
    "\n",
    "    NB_SPLITS = 5\n",
    "    mskf = MultilabelStratifiedKFold(n_splits=NB_SPLITS, random_state=0, shuffle=True)\n",
    "    oof_preds = np.zeros([len(tr),target.shape[1]])\n",
    "    scores = []\n",
    "    for fold_nb, (train_idx, val_idx) in enumerate(mskf.split(train, target)):\n",
    "        print(\"FOLDS : \", fold_nb+1)\n",
    "\n",
    "        ## model\n",
    "        X_train, y_train = tr[train_idx, :], target[train_idx, :]\n",
    "        X_val, y_val = tr[val_idx, :], target[val_idx, :]\n",
    "        model = TabNetRegressor(**tabnet_params)\n",
    "    \n",
    "        model.fit(X_train=X_train,\n",
    "              y_train=y_train,\n",
    "              eval_set=[(X_val, y_val)],\n",
    "              eval_name = [\"val\"],\n",
    "              eval_metric = [\"logits_ll\"],\n",
    "              max_epochs=MAX_EPOCH,\n",
    "              patience=20, batch_size=1024, virtual_batch_size=128,\n",
    "              num_workers=1, drop_last=False,\n",
    "              # use binary cross entropy as this is not a regression problem\n",
    "              loss_fn=torch.nn.functional.binary_cross_entropy_with_logits)\n",
    "    \n",
    "        preds_val = model.predict(X_val)\n",
    "        # Apply sigmoid to the predictions\n",
    "        preds =  1 / (1 + np.exp(-preds_val))\n",
    "        score = np.min(model.history[\"val_logits_ll\"])\n",
    "    #     name = cfg.save_name + f\"_fold{fold_nb}\"\n",
    "    #     model.save_model(name)\n",
    "        oof_preds[val_idx,:] = preds\n",
    "        scores.append(score)\n",
    "\n",
    "        # preds on test\n",
    "        preds_test = model.predict(te)\n",
    "        test_cv_preds.append(1 / (1 + np.exp(-preds_test)))\n",
    "\n",
    "    test_preds_all = np.stack(test_cv_preds)\n",
    "    return oof_preds, test_preds_all\n",
    "\n",
    "target_oof = np.zeros([len(fn_train),fn_targets.shape[1]])\n",
    "target_pred = np.zeros([len(fn_test),fn_targets.shape[1]])\n",
    "\n",
    "seeds = [0,1]\n",
    "for seed_ in seeds:\n",
    "    oof_preds, test_preds_all = modelling_tabnet(fn_train, fn_targets, fn_test, seed_)\n",
    "    target_oof += oof_preds / len(seeds)\n",
    "    target_pred += test_preds_all.mean(axis=0) / len(seeds)"
   ]
  },
  {
   "cell_type": "code",
   "execution_count": 11,
   "metadata": {
    "execution": {
     "iopub.execute_input": "2020-10-17T06:44:51.321036Z",
     "iopub.status.busy": "2020-10-17T06:44:51.320055Z",
     "iopub.status.idle": "2020-10-17T06:44:57.576841Z",
     "shell.execute_reply": "2020-10-17T06:44:57.575715Z"
    },
    "papermill": {
     "duration": 6.340818,
     "end_time": "2020-10-17T06:44:57.577005",
     "exception": false,
     "start_time": "2020-10-17T06:44:51.236187",
     "status": "completed"
    },
    "tags": []
   },
   "outputs": [
    {
     "name": "stdout",
     "output_type": "stream",
     "text": [
      "OOF log loss:  0.015328942805464933\n"
     ]
    }
   ],
   "source": [
    "t = pd.read_csv(DATA_DIR + 'train_targets_scored.csv')\n",
    "train_checkscore = t.copy()\n",
    "train_checkscore.loc[train_checkscore.index.isin(cons_train_index),target_feats] = target_oof\n",
    "train_checkscore.loc[train_checkscore.index.isin(noncons_train_index),target_feats] = 0\n",
    "\n",
    "t.drop(\"sig_id\", axis=1, inplace=True)\n",
    "print('OOF log loss: ', log_loss(np.ravel(t), np.ravel(np.array(train_checkscore.iloc[:,1:]))))"
   ]
  },
  {
   "cell_type": "code",
   "execution_count": 12,
   "metadata": {
    "execution": {
     "iopub.execute_input": "2020-10-17T06:44:57.715789Z",
     "iopub.status.busy": "2020-10-17T06:44:57.714968Z",
     "iopub.status.idle": "2020-10-17T06:45:00.147337Z",
     "shell.execute_reply": "2020-10-17T06:45:00.146244Z"
    },
    "papermill": {
     "duration": 2.504546,
     "end_time": "2020-10-17T06:45:00.147459",
     "exception": false,
     "start_time": "2020-10-17T06:44:57.642913",
     "status": "completed"
    },
    "tags": []
   },
   "outputs": [],
   "source": [
    "sub[target_feats] = target_pred\n",
    "sub.loc[noncons_test_index,target_feats] = 0\n",
    "sub.to_csv('submission.csv', index=False)"
   ]
  },
  {
   "cell_type": "code",
   "execution_count": null,
   "metadata": {
    "papermill": {
     "duration": 0.068631,
     "end_time": "2020-10-17T06:45:00.282923",
     "exception": false,
     "start_time": "2020-10-17T06:45:00.214292",
     "status": "completed"
    },
    "tags": []
   },
   "outputs": [],
   "source": []
  }
 ],
 "metadata": {
  "kernelspec": {
   "display_name": "Python 3",
   "language": "python",
   "name": "python3"
  },
  "language_info": {
   "codemirror_mode": {
    "name": "ipython",
    "version": 3
   },
   "file_extension": ".py",
   "mimetype": "text/x-python",
   "name": "python",
   "nbconvert_exporter": "python",
   "pygments_lexer": "ipython3",
   "version": "3.7.6"
  },
  "papermill": {
   "duration": 1256.997138,
   "end_time": "2020-10-17T06:45:00.959021",
   "environment_variables": {},
   "exception": null,
   "input_path": "__notebook__.ipynb",
   "output_path": "__notebook__.ipynb",
   "parameters": {},
   "start_time": "2020-10-17T06:24:03.961883",
   "version": "2.1.0"
  }
 },
 "nbformat": 4,
 "nbformat_minor": 4
}
