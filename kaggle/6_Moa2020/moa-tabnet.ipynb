{
 "cells": [
  {
   "cell_type": "markdown",
   "metadata": {
    "papermill": {
     "duration": 0.019887,
     "end_time": "2020-11-06T09:20:37.025121",
     "exception": false,
     "start_time": "2020-11-06T09:20:37.005234",
     "status": "completed"
    },
    "tags": []
   },
   "source": [
    "- cancel clipping\n",
    "- change fold method by drug\n",
    "- fold 5, 3 ensemble * \n",
    "- try robust scaler and no fe to make diversity * "
   ]
  },
  {
   "cell_type": "code",
   "execution_count": 1,
   "metadata": {
    "execution": {
     "iopub.execute_input": "2020-11-06T09:20:37.069689Z",
     "iopub.status.busy": "2020-11-06T09:20:37.068812Z",
     "iopub.status.idle": "2020-11-06T09:20:46.653376Z",
     "shell.execute_reply": "2020-11-06T09:20:46.652752Z"
    },
    "papermill": {
     "duration": 9.609468,
     "end_time": "2020-11-06T09:20:46.653551",
     "exception": false,
     "start_time": "2020-11-06T09:20:37.044083",
     "status": "completed"
    },
    "tags": []
   },
   "outputs": [
    {
     "name": "stdout",
     "output_type": "stream",
     "text": [
      "Looking in links: /kaggle/input/pytorchtabnet/pytorch_tabnet-2.0.0-py3-none-any.whl\r\n",
      "Processing /kaggle/input/pytorchtabnet/pytorch_tabnet-2.0.0-py3-none-any.whl\r\n",
      "Requirement already satisfied: tqdm<5.0,>=4.36 in /opt/conda/lib/python3.7/site-packages (from pytorch-tabnet) (4.45.0)\r\n",
      "Requirement already satisfied: numpy<2.0,>=1.17 in /opt/conda/lib/python3.7/site-packages (from pytorch-tabnet) (1.18.5)\r\n",
      "Requirement already satisfied: scikit_learn>0.21 in /opt/conda/lib/python3.7/site-packages (from pytorch-tabnet) (0.23.2)\r\n",
      "Requirement already satisfied: scipy>1.4 in /opt/conda/lib/python3.7/site-packages (from pytorch-tabnet) (1.4.1)\r\n",
      "Requirement already satisfied: torch<2.0,>=1.2 in /opt/conda/lib/python3.7/site-packages (from pytorch-tabnet) (1.6.0)\r\n",
      "Requirement already satisfied: threadpoolctl>=2.0.0 in /opt/conda/lib/python3.7/site-packages (from scikit_learn>0.21->pytorch-tabnet) (2.1.0)\r\n",
      "Requirement already satisfied: joblib>=0.11 in /opt/conda/lib/python3.7/site-packages (from scikit_learn>0.21->pytorch-tabnet) (0.14.1)\r\n",
      "Requirement already satisfied: future in /opt/conda/lib/python3.7/site-packages (from torch<2.0,>=1.2->pytorch-tabnet) (0.18.2)\r\n",
      "Installing collected packages: pytorch-tabnet\r\n",
      "Successfully installed pytorch-tabnet-2.0.0\r\n"
     ]
    }
   ],
   "source": [
    "!pip install --no-index --find-links /kaggle/input/pytorchtabnet/pytorch_tabnet-2.0.0-py3-none-any.whl pytorch-tabnet"
   ]
  },
  {
   "cell_type": "code",
   "execution_count": 2,
   "metadata": {
    "_cell_guid": "b1076dfc-b9ad-4769-8c92-a6c4dae69d19",
    "_uuid": "8f2839f25d086af736a60e9eeb907d3b93b6e0e5",
    "execution": {
     "iopub.execute_input": "2020-11-06T09:20:46.708935Z",
     "iopub.status.busy": "2020-11-06T09:20:46.708053Z",
     "iopub.status.idle": "2020-11-06T09:20:56.590163Z",
     "shell.execute_reply": "2020-11-06T09:20:56.588928Z"
    },
    "papermill": {
     "duration": 9.913301,
     "end_time": "2020-11-06T09:20:56.590286",
     "exception": false,
     "start_time": "2020-11-06T09:20:46.676985",
     "status": "completed"
    },
    "tags": []
   },
   "outputs": [],
   "source": [
    "import os\n",
    "import sys\n",
    "import random\n",
    "import warnings\n",
    "import numpy as np\n",
    "import pandas as pd \n",
    "from umap import UMAP\n",
    "from sklearn import preprocessing\n",
    "from sklearn.metrics import log_loss,roc_auc_score\n",
    "from sklearn.decomposition import PCA\n",
    "from tqdm import tqdm_notebook as tqdm\n",
    "from sklearn.cluster import KMeans\n",
    "from sklearn.multioutput import MultiOutputClassifier\n",
    "from sklearn.feature_selection import VarianceThreshold\n",
    "from torch.nn.modules.loss import _WeightedLoss\n",
    "\n",
    "from pytorch_tabnet.metrics import Metric\n",
    "from pytorch_tabnet.tab_model import TabNetRegressor\n",
    "\n",
    "sys.path.append('../input/multilabelstraifier/')\n",
    "from ml_stratifiers import MultilabelStratifiedKFold\n",
    "warnings.filterwarnings('ignore')\n",
    "\n",
    "import time\n",
    "import torch\n",
    "import torch.nn as nn\n",
    "import torch.optim as optim\n",
    "import torch.nn.functional as F\n",
    "import tensorflow as tf"
   ]
  },
  {
   "cell_type": "code",
   "execution_count": 3,
   "metadata": {
    "execution": {
     "iopub.execute_input": "2020-11-06T09:20:56.641427Z",
     "iopub.status.busy": "2020-11-06T09:20:56.640659Z",
     "iopub.status.idle": "2020-11-06T09:21:03.922812Z",
     "shell.execute_reply": "2020-11-06T09:21:03.921522Z"
    },
    "papermill": {
     "duration": 7.311391,
     "end_time": "2020-11-06T09:21:03.922972",
     "exception": false,
     "start_time": "2020-11-06T09:20:56.611581",
     "status": "completed"
    },
    "tags": []
   },
   "outputs": [],
   "source": [
    "DATA_DIR = '/kaggle/input/lish-moa/'\n",
    "train = pd.read_csv(DATA_DIR + 'train_features.csv')\n",
    "targets = pd.read_csv(DATA_DIR + 'train_targets_scored.csv')\n",
    "non_targets = pd.read_csv(DATA_DIR + 'train_targets_nonscored.csv')\n",
    "test = pd.read_csv(DATA_DIR + 'test_features.csv')\n",
    "sub = pd.read_csv(DATA_DIR + 'sample_submission.csv')\n",
    "drug = pd.read_csv(DATA_DIR + 'train_drug.csv')"
   ]
  },
  {
   "cell_type": "code",
   "execution_count": 4,
   "metadata": {
    "execution": {
     "iopub.execute_input": "2020-11-06T09:21:03.979096Z",
     "iopub.status.busy": "2020-11-06T09:21:03.978054Z",
     "iopub.status.idle": "2020-11-06T09:21:04.076642Z",
     "shell.execute_reply": "2020-11-06T09:21:04.076006Z"
    },
    "papermill": {
     "duration": 0.131508,
     "end_time": "2020-11-06T09:21:04.076776",
     "exception": false,
     "start_time": "2020-11-06T09:21:03.945268",
     "status": "completed"
    },
    "tags": []
   },
   "outputs": [],
   "source": [
    "target_feats = [ i for i in targets.columns if i != \"sig_id\"]\n",
    "g_feats = [i for i in train.columns if \"g-\" in i]\n",
    "c_feats = [i for i in train.columns if \"c-\" in i]\n",
    "\n",
    "noncons_train_index = train[train.cp_type==\"ctl_vehicle\"].index\n",
    "cons_train_index = train[~train.index.isin(noncons_train_index)].index\n",
    "noncons_test_index = test[test.cp_type==\"ctl_vehicle\"].index\n",
    "cons_test_index = test[test.cp_type!=\"ctl_vehicle\"].index"
   ]
  },
  {
   "cell_type": "markdown",
   "metadata": {
    "papermill": {
     "duration": 0.020917,
     "end_time": "2020-11-06T09:21:04.119163",
     "exception": false,
     "start_time": "2020-11-06T09:21:04.098246",
     "status": "completed"
    },
    "tags": []
   },
   "source": [
    "# preprocess"
   ]
  },
  {
   "cell_type": "code",
   "execution_count": 5,
   "metadata": {
    "execution": {
     "iopub.execute_input": "2020-11-06T09:21:04.176035Z",
     "iopub.status.busy": "2020-11-06T09:21:04.174861Z",
     "iopub.status.idle": "2020-11-06T09:21:04.407252Z",
     "shell.execute_reply": "2020-11-06T09:21:04.406646Z"
    },
    "papermill": {
     "duration": 0.26694,
     "end_time": "2020-11-06T09:21:04.407403",
     "exception": false,
     "start_time": "2020-11-06T09:21:04.140463",
     "status": "completed"
    },
    "tags": []
   },
   "outputs": [],
   "source": [
    "train = train[train.index.isin(cons_train_index)].copy().reset_index(drop=True)\n",
    "targets = targets[targets.index.isin(cons_train_index)].copy().reset_index(drop=True)"
   ]
  },
  {
   "cell_type": "code",
   "execution_count": 6,
   "metadata": {
    "execution": {
     "iopub.execute_input": "2020-11-06T09:21:04.481653Z",
     "iopub.status.busy": "2020-11-06T09:21:04.467346Z",
     "iopub.status.idle": "2020-11-06T09:21:05.003686Z",
     "shell.execute_reply": "2020-11-06T09:21:05.003079Z"
    },
    "papermill": {
     "duration": 0.574909,
     "end_time": "2020-11-06T09:21:05.003825",
     "exception": false,
     "start_time": "2020-11-06T09:21:04.428916",
     "status": "completed"
    },
    "tags": []
   },
   "outputs": [
    {
     "data": {
      "text/plain": [
       "array([[3, 0, 2, ..., 4, 1, 0]], dtype=int8)"
      ]
     },
     "execution_count": 6,
     "metadata": {},
     "output_type": "execute_result"
    }
   ],
   "source": [
    "# https://www.kaggle.com/c/lish-moa/discussion/195195\n",
    "NB_SPLITS = 5\n",
    "seed = 14\n",
    "\n",
    "folds = []\n",
    "    \n",
    "# LOAD FILES\n",
    "train_score = targets.merge(drug, on='sig_id', how='left') \n",
    "\n",
    "# LOCATE DRUGS\n",
    "vc = train_score.drug_id.value_counts()\n",
    "vc1 = vc.loc[vc <= 18].index.sort_values()\n",
    "vc2 = vc.loc[vc > 18].index.sort_values()\n",
    "    \n",
    "# STRATIFY DRUGS 18X OR LESS\n",
    "dct1 = {}; dct2 = {}\n",
    "skf = MultilabelStratifiedKFold(n_splits = NB_SPLITS, shuffle = True, random_state = seed)\n",
    "tmp = train_score.groupby('drug_id')[target_feats].mean().loc[vc1]\n",
    "for fold,(idxT,idxV) in enumerate(skf.split(tmp,tmp[target_feats])):\n",
    "    dd = {k:fold for k in tmp.index[idxV].values}\n",
    "    dct1.update(dd)\n",
    "\n",
    "# STRATIFY DRUGS MORE THAN 18X\n",
    "skf = MultilabelStratifiedKFold(n_splits = NB_SPLITS, shuffle = True, random_state = seed)\n",
    "tmp = train_score.loc[train_score.drug_id.isin(vc2)].reset_index(drop = True)\n",
    "for fold,(idxT,idxV) in enumerate(skf.split(tmp,tmp[target_feats])):\n",
    "    dd = {k:fold for k in tmp.sig_id[idxV].values}\n",
    "    dct2.update(dd)\n",
    "\n",
    "# ASSIGN FOLDS\n",
    "train_score['fold'] = train_score.drug_id.map(dct1)\n",
    "train_score.loc[train_score.fold.isna(),'fold'] = train_score.loc[train_score.fold.isna(),'sig_id'].map(dct2)\n",
    "train_score.fold = train_score.fold.astype('int8')\n",
    "folds.append(train_score.fold.values)\n",
    "    \n",
    "np.array(folds)"
   ]
  },
  {
   "cell_type": "markdown",
   "metadata": {
    "papermill": {
     "duration": 0.022085,
     "end_time": "2020-11-06T09:21:05.048701",
     "exception": false,
     "start_time": "2020-11-06T09:21:05.026616",
     "status": "completed"
    },
    "tags": []
   },
   "source": [
    "# feature engineering"
   ]
  },
  {
   "cell_type": "code",
   "execution_count": 7,
   "metadata": {
    "execution": {
     "iopub.execute_input": "2020-11-06T09:21:05.097251Z",
     "iopub.status.busy": "2020-11-06T09:21:05.096554Z",
     "iopub.status.idle": "2020-11-06T09:21:05.100597Z",
     "shell.execute_reply": "2020-11-06T09:21:05.101247Z"
    },
    "papermill": {
     "duration": 0.030866,
     "end_time": "2020-11-06T09:21:05.101373",
     "exception": false,
     "start_time": "2020-11-06T09:21:05.070507",
     "status": "completed"
    },
    "tags": []
   },
   "outputs": [],
   "source": [
    "#X = train[g_feats+c_feats].copy().values\n",
    "#select = VarianceThreshold(threshold=0.7)\n",
    "#X_new = select.fit_transform(X)\n",
    "#drop_feats = list(np.array(train[g_feats+c_feats].columns)[select.get_support()==False])\n",
    "#len(drop_feats)\n",
    "\n",
    "#train.drop(drop_feats, axis=1, inplace=True)\n",
    "#test.drop(drop_feats, axis=1, inplace=True)\n",
    "\n",
    "#g_feats = [i for i in train.columns if \"g-\" in i]\n",
    "#c_feats = [i for i in train.columns if \"c-\" in i]"
   ]
  },
  {
   "cell_type": "code",
   "execution_count": 8,
   "metadata": {
    "execution": {
     "iopub.execute_input": "2020-11-06T09:21:05.153209Z",
     "iopub.status.busy": "2020-11-06T09:21:05.152225Z",
     "iopub.status.idle": "2020-11-06T09:21:07.332871Z",
     "shell.execute_reply": "2020-11-06T09:21:07.332131Z"
    },
    "papermill": {
     "duration": 2.209367,
     "end_time": "2020-11-06T09:21:07.333002",
     "exception": false,
     "start_time": "2020-11-06T09:21:05.123635",
     "status": "completed"
    },
    "tags": []
   },
   "outputs": [],
   "source": [
    "for i in c_feats + g_feats:\n",
    "    #ss = preprocessing.QuantileTransformer(n_quantiles=100, random_state=0, output_distribution=\"normal\")\n",
    "    ss = preprocessing.RobustScaler()\n",
    "    ss.fit(train[i].values.reshape(-1,1))\n",
    "    train[i] = ss.transform(train[i].values.reshape(-1,1))\n",
    "    test[i] = ss.transform(test[i].values.reshape(-1,1))"
   ]
  },
  {
   "cell_type": "code",
   "execution_count": 9,
   "metadata": {
    "execution": {
     "iopub.execute_input": "2020-11-06T09:21:07.386672Z",
     "iopub.status.busy": "2020-11-06T09:21:07.384689Z",
     "iopub.status.idle": "2020-11-06T09:21:07.387340Z",
     "shell.execute_reply": "2020-11-06T09:21:07.387856Z"
    },
    "papermill": {
     "duration": 0.030218,
     "end_time": "2020-11-06T09:21:07.387989",
     "exception": false,
     "start_time": "2020-11-06T09:21:07.357771",
     "status": "completed"
    },
    "tags": []
   },
   "outputs": [],
   "source": [
    "#c_num = 1\n",
    "#pca_c_cols = [\"pca-c\"+str(i+1) for i in range(c_num)]\n",
    "#pca = PCA(n_components=c_num,random_state=42)\n",
    "#c_train = pca.fit_transform(train[c_feats])\n",
    "#c_test = pca.transform(test[c_feats])\n",
    "#c_train = pd.DataFrame(c_train, columns=pca_c_cols)\n",
    "#c_test = pd.DataFrame(c_test, columns=pca_c_cols)\n",
    "\n",
    "#g_num = 10\n",
    "#pca_g_cols = [\"pca-g\"+str(i+1) for i in range(g_num)]\n",
    "#pca = PCA(n_components=g_num, random_state=42)\n",
    "#g_train = pca.fit_transform(train[g_feats])\n",
    "#g_test = pca.transform(test[g_feats])\n",
    "#g_train = pd.DataFrame(g_train, columns=pca_g_cols)\n",
    "#g_test = pd.DataFrame(g_test, columns=pca_g_cols)\n",
    "\n",
    "#train = pd.concat([train, c_train],axis=1)\n",
    "#test = pd.concat([test, c_test],axis=1)\n",
    "#train = pd.concat([train, g_train],axis=1)\n",
    "#test = pd.concat([test, g_test],axis=1)"
   ]
  },
  {
   "cell_type": "code",
   "execution_count": 10,
   "metadata": {
    "execution": {
     "iopub.execute_input": "2020-11-06T09:21:07.456138Z",
     "iopub.status.busy": "2020-11-06T09:21:07.454109Z",
     "iopub.status.idle": "2020-11-06T09:21:07.456883Z",
     "shell.execute_reply": "2020-11-06T09:21:07.457446Z"
    },
    "papermill": {
     "duration": 0.035824,
     "end_time": "2020-11-06T09:21:07.457579",
     "exception": false,
     "start_time": "2020-11-06T09:21:07.421755",
     "status": "completed"
    },
    "tags": []
   },
   "outputs": [],
   "source": [
    "#uc_num = 1\n",
    "#um = UMAP(n_neighbors=30, n_components=uc_num, random_state=42)\n",
    "#um_c_cols = [\"um-c\"+str(i+1) for i in range(uc_num)]#\n",
    "#uc_train = um.fit_transform(train[c_feats])\n",
    "#uc_test = um.transform(test[c_feats])\n",
    "#uc_train = pd.DataFrame(uc_train, columns=um_c_cols)\n",
    "#uc_test = pd.DataFrame(uc_test, columns=um_c_cols)\n",
    "\n",
    "#ug_num = 10\n",
    "#um = UMAP(n_neighbors=30, n_components=ug_num, random_state=42)\n",
    "#um_g_cols = [\"um-g\"+str(i+1) for i in range(ug_num)]\n",
    "#ug_train = um.fit_transform(train[g_feats])\n",
    "#ug_test = um.transform(test[g_feats])\n",
    "#ug_train = pd.DataFrame(ug_train, columns=um_g_cols)\n",
    "#ug_test = pd.DataFrame(ug_test, columns=um_g_cols)\n",
    "\n",
    "#train = pd.concat([train, uc_train],axis=1)\n",
    "#test = pd.concat([test, uc_test],axis=1)\n",
    "#train = pd.concat([train, ug_train],axis=1)\n",
    "#test = pd.concat([test, ug_test],axis=1)"
   ]
  },
  {
   "cell_type": "code",
   "execution_count": 11,
   "metadata": {
    "execution": {
     "iopub.execute_input": "2020-11-06T09:21:07.506099Z",
     "iopub.status.busy": "2020-11-06T09:21:07.505477Z",
     "iopub.status.idle": "2020-11-06T09:21:07.510056Z",
     "shell.execute_reply": "2020-11-06T09:21:07.509557Z"
    },
    "papermill": {
     "duration": 0.031014,
     "end_time": "2020-11-06T09:21:07.510154",
     "exception": false,
     "start_time": "2020-11-06T09:21:07.479140",
     "status": "completed"
    },
    "tags": []
   },
   "outputs": [],
   "source": [
    "#n_clusters_g = 15\n",
    "#n_clusters_c = 5\n",
    "#def create_cluster(train, test, kind, n_clusters):\n",
    "#    if kind == \"g\":\n",
    "#        train_ = train[pca_g_cols].copy()\n",
    "#        test_ = test[pca_g_cols].copy()\n",
    "#    else:\n",
    "#        train_ = train[pca_c_cols].copy()\n",
    "#        test_ = test[pca_c_cols].copy()    \n",
    "#    kmeans = KMeans(n_clusters = n_clusters, random_state = 0).fit(train_)\n",
    "#    train[f'clusters_{kind}'] = kmeans.labels_\n",
    "#    test[f'clusters_{kind}'] = kmeans.predict(test_)\n",
    "#    train = pd.get_dummies(train, columns = [f'clusters_{kind}'])\n",
    "#    test = pd.get_dummies(test, columns = [f'clusters_{kind}'])\n",
    "#    return train, test\n",
    "    \n",
    "#train, test = create_cluster(train, test, kind = 'g', n_clusters = n_clusters_g)\n",
    "#train, test = create_cluster(train, test, kind = 'c', n_clusters = n_clusters_c)"
   ]
  },
  {
   "cell_type": "code",
   "execution_count": 12,
   "metadata": {
    "execution": {
     "iopub.execute_input": "2020-11-06T09:21:07.566312Z",
     "iopub.status.busy": "2020-11-06T09:21:07.564902Z",
     "iopub.status.idle": "2020-11-06T09:21:07.707616Z",
     "shell.execute_reply": "2020-11-06T09:21:07.708195Z"
    },
    "papermill": {
     "duration": 0.17531,
     "end_time": "2020-11-06T09:21:07.708338",
     "exception": false,
     "start_time": "2020-11-06T09:21:07.533028",
     "status": "completed"
    },
    "tags": []
   },
   "outputs": [
    {
     "name": "stdout",
     "output_type": "stream",
     "text": [
      "(21948, 874) (3982, 874)\n"
     ]
    }
   ],
   "source": [
    "def fe(df):\n",
    "    tmp = df.copy()\n",
    "    tmp.loc[:, 'cp_dose'] = tmp.loc[:, 'cp_dose'].map({'D1': 0, 'D2': 1})      \n",
    "    tmp.drop([\"sig_id\", \"cp_type\"], axis=1, inplace=True)\n",
    "    return tmp\n",
    "\n",
    "train = fe(train)\n",
    "test = fe(test)\n",
    "\n",
    "print(train.shape, test.shape)"
   ]
  },
  {
   "cell_type": "code",
   "execution_count": 13,
   "metadata": {
    "execution": {
     "iopub.execute_input": "2020-11-06T09:21:07.761819Z",
     "iopub.status.busy": "2020-11-06T09:21:07.761007Z",
     "iopub.status.idle": "2020-11-06T09:21:07.765321Z",
     "shell.execute_reply": "2020-11-06T09:21:07.764805Z"
    },
    "papermill": {
     "duration": 0.033014,
     "end_time": "2020-11-06T09:21:07.765436",
     "exception": false,
     "start_time": "2020-11-06T09:21:07.732422",
     "status": "completed"
    },
    "tags": []
   },
   "outputs": [],
   "source": [
    "train[\"fold\"] = np.array(folds).reshape(-1,1)"
   ]
  },
  {
   "cell_type": "code",
   "execution_count": 14,
   "metadata": {
    "execution": {
     "iopub.execute_input": "2020-11-06T09:21:07.827988Z",
     "iopub.status.busy": "2020-11-06T09:21:07.825141Z",
     "iopub.status.idle": "2020-11-06T09:21:07.847792Z",
     "shell.execute_reply": "2020-11-06T09:21:07.848407Z"
    },
    "papermill": {
     "duration": 0.059693,
     "end_time": "2020-11-06T09:21:07.848543",
     "exception": false,
     "start_time": "2020-11-06T09:21:07.788850",
     "status": "completed"
    },
    "tags": []
   },
   "outputs": [
    {
     "data": {
      "text/html": [
       "<div>\n",
       "<style scoped>\n",
       "    .dataframe tbody tr th:only-of-type {\n",
       "        vertical-align: middle;\n",
       "    }\n",
       "\n",
       "    .dataframe tbody tr th {\n",
       "        vertical-align: top;\n",
       "    }\n",
       "\n",
       "    .dataframe thead th {\n",
       "        text-align: right;\n",
       "    }\n",
       "</style>\n",
       "<table border=\"1\" class=\"dataframe\">\n",
       "  <thead>\n",
       "    <tr style=\"text-align: right;\">\n",
       "      <th></th>\n",
       "      <th>cp_time</th>\n",
       "      <th>cp_dose</th>\n",
       "      <th>g-0</th>\n",
       "      <th>g-1</th>\n",
       "      <th>g-2</th>\n",
       "      <th>g-3</th>\n",
       "      <th>g-4</th>\n",
       "      <th>g-5</th>\n",
       "      <th>g-6</th>\n",
       "      <th>g-7</th>\n",
       "      <th>...</th>\n",
       "      <th>c-91</th>\n",
       "      <th>c-92</th>\n",
       "      <th>c-93</th>\n",
       "      <th>c-94</th>\n",
       "      <th>c-95</th>\n",
       "      <th>c-96</th>\n",
       "      <th>c-97</th>\n",
       "      <th>c-98</th>\n",
       "      <th>c-99</th>\n",
       "      <th>fold</th>\n",
       "    </tr>\n",
       "  </thead>\n",
       "  <tbody>\n",
       "    <tr>\n",
       "      <th>0</th>\n",
       "      <td>24</td>\n",
       "      <td>0</td>\n",
       "      <td>1.067498</td>\n",
       "      <td>0.626591</td>\n",
       "      <td>-0.305871</td>\n",
       "      <td>-0.703420</td>\n",
       "      <td>-0.200105</td>\n",
       "      <td>-0.893890</td>\n",
       "      <td>-0.997240</td>\n",
       "      <td>-0.028838</td>\n",
       "      <td>...</td>\n",
       "      <td>0.259782</td>\n",
       "      <td>0.786022</td>\n",
       "      <td>0.582103</td>\n",
       "      <td>-0.152742</td>\n",
       "      <td>0.672523</td>\n",
       "      <td>-0.365780</td>\n",
       "      <td>0.237157</td>\n",
       "      <td>0.369360</td>\n",
       "      <td>0.464200</td>\n",
       "      <td>3</td>\n",
       "    </tr>\n",
       "    <tr>\n",
       "      <th>1</th>\n",
       "      <td>72</td>\n",
       "      <td>0</td>\n",
       "      <td>0.074685</td>\n",
       "      <td>0.468898</td>\n",
       "      <td>0.189353</td>\n",
       "      <td>0.064173</td>\n",
       "      <td>1.139891</td>\n",
       "      <td>0.484376</td>\n",
       "      <td>0.263335</td>\n",
       "      <td>0.378195</td>\n",
       "      <td>...</td>\n",
       "      <td>0.736827</td>\n",
       "      <td>0.465329</td>\n",
       "      <td>0.067820</td>\n",
       "      <td>0.316175</td>\n",
       "      <td>0.508505</td>\n",
       "      <td>0.166026</td>\n",
       "      <td>0.148826</td>\n",
       "      <td>0.580106</td>\n",
       "      <td>0.783253</td>\n",
       "      <td>0</td>\n",
       "    </tr>\n",
       "    <tr>\n",
       "      <th>2</th>\n",
       "      <td>48</td>\n",
       "      <td>0</td>\n",
       "      <td>0.631251</td>\n",
       "      <td>0.651991</td>\n",
       "      <td>1.325472</td>\n",
       "      <td>-0.089977</td>\n",
       "      <td>-0.021093</td>\n",
       "      <td>1.130300</td>\n",
       "      <td>0.200512</td>\n",
       "      <td>0.244242</td>\n",
       "      <td>...</td>\n",
       "      <td>-0.594550</td>\n",
       "      <td>0.598158</td>\n",
       "      <td>0.067140</td>\n",
       "      <td>-1.243704</td>\n",
       "      <td>-0.277322</td>\n",
       "      <td>-0.601193</td>\n",
       "      <td>-0.188368</td>\n",
       "      <td>-1.286326</td>\n",
       "      <td>0.739315</td>\n",
       "      <td>2</td>\n",
       "    </tr>\n",
       "    <tr>\n",
       "      <th>3</th>\n",
       "      <td>48</td>\n",
       "      <td>0</td>\n",
       "      <td>-0.516460</td>\n",
       "      <td>-0.227279</td>\n",
       "      <td>-0.321896</td>\n",
       "      <td>0.591977</td>\n",
       "      <td>4.500373</td>\n",
       "      <td>-0.711794</td>\n",
       "      <td>-1.937578</td>\n",
       "      <td>0.204287</td>\n",
       "      <td>...</td>\n",
       "      <td>-0.608403</td>\n",
       "      <td>-5.343712</td>\n",
       "      <td>-1.293432</td>\n",
       "      <td>-0.799923</td>\n",
       "      <td>-1.222106</td>\n",
       "      <td>-1.547583</td>\n",
       "      <td>-0.837280</td>\n",
       "      <td>-0.341489</td>\n",
       "      <td>-0.767076</td>\n",
       "      <td>0</td>\n",
       "    </tr>\n",
       "    <tr>\n",
       "      <th>4</th>\n",
       "      <td>72</td>\n",
       "      <td>1</td>\n",
       "      <td>-0.327084</td>\n",
       "      <td>-0.387935</td>\n",
       "      <td>0.796750</td>\n",
       "      <td>0.775762</td>\n",
       "      <td>1.580520</td>\n",
       "      <td>-0.725192</td>\n",
       "      <td>-0.252597</td>\n",
       "      <td>-0.157838</td>\n",
       "      <td>...</td>\n",
       "      <td>0.015825</td>\n",
       "      <td>0.652146</td>\n",
       "      <td>1.084143</td>\n",
       "      <td>0.563298</td>\n",
       "      <td>-0.263403</td>\n",
       "      <td>0.124665</td>\n",
       "      <td>0.310537</td>\n",
       "      <td>-0.333156</td>\n",
       "      <td>0.758688</td>\n",
       "      <td>3</td>\n",
       "    </tr>\n",
       "  </tbody>\n",
       "</table>\n",
       "<p>5 rows × 875 columns</p>\n",
       "</div>"
      ],
      "text/plain": [
       "   cp_time  cp_dose       g-0       g-1       g-2       g-3       g-4  \\\n",
       "0       24        0  1.067498  0.626591 -0.305871 -0.703420 -0.200105   \n",
       "1       72        0  0.074685  0.468898  0.189353  0.064173  1.139891   \n",
       "2       48        0  0.631251  0.651991  1.325472 -0.089977 -0.021093   \n",
       "3       48        0 -0.516460 -0.227279 -0.321896  0.591977  4.500373   \n",
       "4       72        1 -0.327084 -0.387935  0.796750  0.775762  1.580520   \n",
       "\n",
       "        g-5       g-6       g-7  ...      c-91      c-92      c-93      c-94  \\\n",
       "0 -0.893890 -0.997240 -0.028838  ...  0.259782  0.786022  0.582103 -0.152742   \n",
       "1  0.484376  0.263335  0.378195  ...  0.736827  0.465329  0.067820  0.316175   \n",
       "2  1.130300  0.200512  0.244242  ... -0.594550  0.598158  0.067140 -1.243704   \n",
       "3 -0.711794 -1.937578  0.204287  ... -0.608403 -5.343712 -1.293432 -0.799923   \n",
       "4 -0.725192 -0.252597 -0.157838  ...  0.015825  0.652146  1.084143  0.563298   \n",
       "\n",
       "       c-95      c-96      c-97      c-98      c-99  fold  \n",
       "0  0.672523 -0.365780  0.237157  0.369360  0.464200     3  \n",
       "1  0.508505  0.166026  0.148826  0.580106  0.783253     0  \n",
       "2 -0.277322 -0.601193 -0.188368 -1.286326  0.739315     2  \n",
       "3 -1.222106 -1.547583 -0.837280 -0.341489 -0.767076     0  \n",
       "4 -0.263403  0.124665  0.310537 -0.333156  0.758688     3  \n",
       "\n",
       "[5 rows x 875 columns]"
      ]
     },
     "execution_count": 14,
     "metadata": {},
     "output_type": "execute_result"
    }
   ],
   "source": [
    "train.head()"
   ]
  },
  {
   "cell_type": "code",
   "execution_count": 15,
   "metadata": {
    "execution": {
     "iopub.execute_input": "2020-11-06T09:21:07.908885Z",
     "iopub.status.busy": "2020-11-06T09:21:07.907533Z",
     "iopub.status.idle": "2020-11-06T09:21:08.075208Z",
     "shell.execute_reply": "2020-11-06T09:21:08.074591Z"
    },
    "papermill": {
     "duration": 0.19992,
     "end_time": "2020-11-06T09:21:08.075334",
     "exception": false,
     "start_time": "2020-11-06T09:21:07.875414",
     "status": "completed"
    },
    "tags": []
   },
   "outputs": [],
   "source": [
    "fn_train = train.copy().to_numpy()\n",
    "fn_test = test.copy().to_numpy()\n",
    "    \n",
    "fn_targets = targets.drop(\"sig_id\", axis=1).copy().to_numpy()"
   ]
  },
  {
   "cell_type": "code",
   "execution_count": 16,
   "metadata": {
    "execution": {
     "iopub.execute_input": "2020-11-06T09:21:08.129510Z",
     "iopub.status.busy": "2020-11-06T09:21:08.128825Z",
     "iopub.status.idle": "2020-11-06T09:21:08.135303Z",
     "shell.execute_reply": "2020-11-06T09:21:08.134764Z"
    },
    "papermill": {
     "duration": 0.035289,
     "end_time": "2020-11-06T09:21:08.135423",
     "exception": false,
     "start_time": "2020-11-06T09:21:08.100134",
     "status": "completed"
    },
    "tags": []
   },
   "outputs": [
    {
     "data": {
      "text/plain": [
       "((21948, 875), (3982, 874), (21948, 206))"
      ]
     },
     "execution_count": 16,
     "metadata": {},
     "output_type": "execute_result"
    }
   ],
   "source": [
    "fn_train.shape, fn_test.shape, fn_targets.shape"
   ]
  },
  {
   "cell_type": "markdown",
   "metadata": {
    "papermill": {
     "duration": 0.025553,
     "end_time": "2020-11-06T09:21:08.185641",
     "exception": false,
     "start_time": "2020-11-06T09:21:08.160088",
     "status": "completed"
    },
    "tags": []
   },
   "source": [
    "# modelling"
   ]
  },
  {
   "cell_type": "code",
   "execution_count": 17,
   "metadata": {
    "execution": {
     "iopub.execute_input": "2020-11-06T09:21:08.249043Z",
     "iopub.status.busy": "2020-11-06T09:21:08.246999Z",
     "iopub.status.idle": "2020-11-06T09:21:08.249939Z",
     "shell.execute_reply": "2020-11-06T09:21:08.250500Z"
    },
    "papermill": {
     "duration": 0.038264,
     "end_time": "2020-11-06T09:21:08.250641",
     "exception": false,
     "start_time": "2020-11-06T09:21:08.212377",
     "status": "completed"
    },
    "tags": []
   },
   "outputs": [],
   "source": [
    "class LogitsLogLoss(Metric):\n",
    "    def __init__(self):\n",
    "        self._name = \"logits_ll\"\n",
    "        self._maximize = False\n",
    "\n",
    "    def __call__(self, y_true, y_pred):\n",
    "\n",
    "        logits = 1 / (1 + np.exp(-y_pred))\n",
    "        \n",
    "        aux = (1-y_true)*np.log(1-logits+1e-15) + y_true*np.log(logits+1e-15)\n",
    "        return np.mean(-aux)"
   ]
  },
  {
   "cell_type": "code",
   "execution_count": 18,
   "metadata": {
    "execution": {
     "iopub.execute_input": "2020-11-06T09:21:08.326983Z",
     "iopub.status.busy": "2020-11-06T09:21:08.316677Z",
     "iopub.status.idle": "2020-11-06T09:39:42.394220Z",
     "shell.execute_reply": "2020-11-06T09:39:42.394751Z"
    },
    "papermill": {
     "duration": 1114.117988,
     "end_time": "2020-11-06T09:39:42.394908",
     "exception": false,
     "start_time": "2020-11-06T09:21:08.276920",
     "status": "completed"
    },
    "tags": []
   },
   "outputs": [
    {
     "name": "stdout",
     "output_type": "stream",
     "text": [
      "FOLDS :  1\n",
      "Device used : cuda\n",
      "epoch 0  | loss: 0.25196 | val_logits_ll: 0.02888 |  0:00:01s\n",
      "epoch 10 | loss: 0.01778 | val_logits_ll: 0.01846 |  0:00:11s\n",
      "epoch 20 | loss: 0.01668 | val_logits_ll: 0.01868 |  0:00:22s\n",
      "epoch 30 | loss: 0.01609 | val_logits_ll: 0.01892 |  0:00:33s\n",
      "epoch 40 | loss: 0.01579 | val_logits_ll: 0.01806 |  0:00:44s\n",
      "\n",
      "Early stopping occured at epoch 41 with best_epoch = 21 and best_val_logits_ll = 0.0179\n",
      "Best weights from best epoch are automatically used!\n",
      "FOLDS :  2\n",
      "Device used : cuda\n",
      "epoch 0  | loss: 0.25514 | val_logits_ll: 0.02916 |  0:00:01s\n",
      "epoch 10 | loss: 0.01839 | val_logits_ll: 0.01873 |  0:00:11s\n",
      "epoch 20 | loss: 0.01696 | val_logits_ll: 0.0206  |  0:00:21s\n",
      "epoch 30 | loss: 0.01628 | val_logits_ll: 0.01884 |  0:00:31s\n",
      "epoch 40 | loss: 0.01607 | val_logits_ll: 0.01893 |  0:00:41s\n",
      "epoch 50 | loss: 0.01582 | val_logits_ll: 0.01794 |  0:00:53s\n",
      "\n",
      "Early stopping occured at epoch 58 with best_epoch = 38 and best_val_logits_ll = 0.01769\n",
      "Best weights from best epoch are automatically used!\n",
      "FOLDS :  3\n",
      "Device used : cuda\n",
      "epoch 0  | loss: 0.25645 | val_logits_ll: 0.02781 |  0:00:00s\n",
      "epoch 10 | loss: 0.01798 | val_logits_ll: 0.01919 |  0:00:11s\n",
      "epoch 20 | loss: 0.01692 | val_logits_ll: 0.01905 |  0:00:21s\n",
      "epoch 30 | loss: 0.01636 | val_logits_ll: 0.01885 |  0:00:32s\n",
      "epoch 40 | loss: 0.01607 | val_logits_ll: 0.0182  |  0:00:42s\n",
      "epoch 50 | loss: 0.01574 | val_logits_ll: 0.01819 |  0:00:53s\n",
      "epoch 60 | loss: 0.01535 | val_logits_ll: 0.01822 |  0:01:03s\n",
      "\n",
      "Early stopping occured at epoch 64 with best_epoch = 44 and best_val_logits_ll = 0.01806\n",
      "Best weights from best epoch are automatically used!\n",
      "FOLDS :  4\n",
      "Device used : cuda\n",
      "epoch 0  | loss: 0.25485 | val_logits_ll: 0.0276  |  0:00:01s\n",
      "epoch 10 | loss: 0.01804 | val_logits_ll: 0.01837 |  0:00:11s\n",
      "epoch 20 | loss: 0.01699 | val_logits_ll: 0.01779 |  0:00:21s\n",
      "epoch 30 | loss: 0.01639 | val_logits_ll: 0.0175  |  0:00:31s\n",
      "epoch 40 | loss: 0.01628 | val_logits_ll: 0.01747 |  0:00:42s\n",
      "epoch 50 | loss: 0.01598 | val_logits_ll: 0.01751 |  0:00:53s\n",
      "epoch 60 | loss: 0.01572 | val_logits_ll: 0.01716 |  0:01:03s\n",
      "epoch 70 | loss: 0.01551 | val_logits_ll: 0.01737 |  0:01:13s\n",
      "\n",
      "Early stopping occured at epoch 73 with best_epoch = 53 and best_val_logits_ll = 0.01715\n",
      "Best weights from best epoch are automatically used!\n",
      "FOLDS :  5\n",
      "Device used : cuda\n",
      "epoch 0  | loss: 0.24841 | val_logits_ll: 0.02795 |  0:00:01s\n",
      "epoch 10 | loss: 0.01846 | val_logits_ll: 0.01948 |  0:00:11s\n",
      "epoch 20 | loss: 0.01687 | val_logits_ll: 0.01835 |  0:00:21s\n",
      "epoch 30 | loss: 0.01651 | val_logits_ll: 0.019   |  0:00:32s\n",
      "epoch 40 | loss: 0.01607 | val_logits_ll: 0.0197  |  0:00:43s\n",
      "epoch 50 | loss: 0.01584 | val_logits_ll: 0.01806 |  0:00:52s\n",
      "epoch 60 | loss: 0.01546 | val_logits_ll: 0.01813 |  0:01:02s\n",
      "\n",
      "Early stopping occured at epoch 67 with best_epoch = 47 and best_val_logits_ll = 0.01783\n",
      "Best weights from best epoch are automatically used!\n",
      "OOF log loss: 0.017727684324527624\n",
      "Overall AUC : 0.6320932235327739\n",
      "FOLDS :  1\n",
      "Device used : cuda\n",
      "epoch 0  | loss: 0.25964 | val_logits_ll: 0.02833 |  0:00:01s\n",
      "epoch 10 | loss: 0.01831 | val_logits_ll: 0.01919 |  0:00:11s\n",
      "epoch 20 | loss: 0.01692 | val_logits_ll: 0.01833 |  0:00:22s\n",
      "epoch 30 | loss: 0.01629 | val_logits_ll: 0.01793 |  0:00:32s\n",
      "epoch 40 | loss: 0.0159  | val_logits_ll: 0.018   |  0:00:43s\n",
      "epoch 50 | loss: 0.01571 | val_logits_ll: 0.01788 |  0:00:53s\n",
      "epoch 60 | loss: 0.01566 | val_logits_ll: 0.018   |  0:01:03s\n",
      "\n",
      "Early stopping occured at epoch 62 with best_epoch = 42 and best_val_logits_ll = 0.01786\n",
      "Best weights from best epoch are automatically used!\n",
      "FOLDS :  2\n",
      "Device used : cuda\n",
      "epoch 0  | loss: 0.26097 | val_logits_ll: 0.02768 |  0:00:00s\n",
      "epoch 10 | loss: 0.01843 | val_logits_ll: 0.01911 |  0:00:12s\n",
      "epoch 20 | loss: 0.01673 | val_logits_ll: 0.01954 |  0:00:22s\n",
      "epoch 30 | loss: 0.01621 | val_logits_ll: 0.01786 |  0:00:32s\n",
      "epoch 40 | loss: 0.0161  | val_logits_ll: 0.0181  |  0:00:42s\n",
      "epoch 50 | loss: 0.01578 | val_logits_ll: 0.01766 |  0:00:52s\n",
      "epoch 60 | loss: 0.01581 | val_logits_ll: 0.0179  |  0:01:02s\n",
      "epoch 70 | loss: 0.01547 | val_logits_ll: 0.01798 |  0:01:13s\n",
      "epoch 80 | loss: 0.01518 | val_logits_ll: 0.01784 |  0:01:23s\n",
      "\n",
      "Early stopping occured at epoch 85 with best_epoch = 65 and best_val_logits_ll = 0.01762\n",
      "Best weights from best epoch are automatically used!\n",
      "FOLDS :  3\n",
      "Device used : cuda\n",
      "epoch 0  | loss: 0.26144 | val_logits_ll: 0.02853 |  0:00:01s\n",
      "epoch 10 | loss: 0.01793 | val_logits_ll: 0.02026 |  0:00:11s\n",
      "epoch 20 | loss: 0.01662 | val_logits_ll: 0.01982 |  0:00:21s\n",
      "epoch 30 | loss: 0.01604 | val_logits_ll: 0.01854 |  0:00:30s\n",
      "epoch 40 | loss: 0.01578 | val_logits_ll: 0.01837 |  0:00:42s\n",
      "epoch 50 | loss: 0.01558 | val_logits_ll: 0.01828 |  0:00:52s\n",
      "epoch 60 | loss: 0.01517 | val_logits_ll: 0.01821 |  0:01:02s\n",
      "epoch 70 | loss: 0.01489 | val_logits_ll: 0.01865 |  0:01:11s\n",
      "\n",
      "Early stopping occured at epoch 73 with best_epoch = 53 and best_val_logits_ll = 0.01808\n",
      "Best weights from best epoch are automatically used!\n",
      "FOLDS :  4\n",
      "Device used : cuda\n",
      "epoch 0  | loss: 0.25891 | val_logits_ll: 0.02779 |  0:00:00s\n",
      "epoch 10 | loss: 0.01836 | val_logits_ll: 0.0184  |  0:00:10s\n",
      "epoch 20 | loss: 0.0171  | val_logits_ll: 0.01919 |  0:00:21s\n",
      "epoch 30 | loss: 0.0165  | val_logits_ll: 0.01746 |  0:00:32s\n",
      "epoch 40 | loss: 0.01612 | val_logits_ll: 0.01749 |  0:00:41s\n",
      "epoch 50 | loss: 0.01581 | val_logits_ll: 0.01741 |  0:00:51s\n",
      "epoch 60 | loss: 0.01554 | val_logits_ll: 0.01743 |  0:01:01s\n",
      "epoch 70 | loss: 0.01549 | val_logits_ll: 0.01731 |  0:01:12s\n",
      "epoch 80 | loss: 0.0151  | val_logits_ll: 0.01779 |  0:01:23s\n",
      "\n",
      "Early stopping occured at epoch 84 with best_epoch = 64 and best_val_logits_ll = 0.0172\n",
      "Best weights from best epoch are automatically used!\n",
      "FOLDS :  5\n",
      "Device used : cuda\n",
      "epoch 0  | loss: 0.26354 | val_logits_ll: 0.02795 |  0:00:00s\n",
      "epoch 10 | loss: 0.01825 | val_logits_ll: 0.01887 |  0:00:11s\n",
      "epoch 20 | loss: 0.01689 | val_logits_ll: 0.01864 |  0:00:21s\n",
      "epoch 30 | loss: 0.01616 | val_logits_ll: 0.01814 |  0:00:31s\n",
      "epoch 40 | loss: 0.01582 | val_logits_ll: 0.01858 |  0:00:41s\n",
      "epoch 50 | loss: 0.01553 | val_logits_ll: 0.01794 |  0:00:51s\n",
      "epoch 60 | loss: 0.01518 | val_logits_ll: 0.01823 |  0:01:01s\n",
      "\n",
      "Early stopping occured at epoch 62 with best_epoch = 42 and best_val_logits_ll = 0.01774\n",
      "Best weights from best epoch are automatically used!\n",
      "OOF log loss: 0.01770076066863579\n",
      "Overall AUC : 0.6382796769552083\n",
      "FOLDS :  1\n",
      "Device used : cuda\n",
      "epoch 0  | loss: 0.26969 | val_logits_ll: 0.02843 |  0:00:01s\n",
      "epoch 10 | loss: 0.01791 | val_logits_ll: 0.01893 |  0:00:11s\n",
      "epoch 20 | loss: 0.01673 | val_logits_ll: 0.01925 |  0:00:20s\n",
      "epoch 30 | loss: 0.01632 | val_logits_ll: 0.0181  |  0:00:30s\n",
      "epoch 40 | loss: 0.01588 | val_logits_ll: 0.01845 |  0:00:41s\n",
      "epoch 50 | loss: 0.01552 | val_logits_ll: 0.01791 |  0:00:52s\n",
      "\n",
      "Early stopping occured at epoch 56 with best_epoch = 36 and best_val_logits_ll = 0.01785\n",
      "Best weights from best epoch are automatically used!\n",
      "FOLDS :  2\n",
      "Device used : cuda\n",
      "epoch 0  | loss: 0.26511 | val_logits_ll: 0.0298  |  0:00:00s\n",
      "epoch 10 | loss: 0.01856 | val_logits_ll: 0.02076 |  0:00:10s\n",
      "epoch 20 | loss: 0.0167  | val_logits_ll: 0.01876 |  0:00:20s\n",
      "epoch 30 | loss: 0.01626 | val_logits_ll: 0.01969 |  0:00:30s\n",
      "epoch 40 | loss: 0.01576 | val_logits_ll: 0.01774 |  0:00:40s\n",
      "epoch 50 | loss: 0.01562 | val_logits_ll: 0.01796 |  0:00:51s\n",
      "epoch 60 | loss: 0.01509 | val_logits_ll: 0.01801 |  0:01:01s\n",
      "\n",
      "Early stopping occured at epoch 60 with best_epoch = 40 and best_val_logits_ll = 0.01774\n",
      "Best weights from best epoch are automatically used!\n",
      "FOLDS :  3\n",
      "Device used : cuda\n",
      "epoch 0  | loss: 0.26906 | val_logits_ll: 0.02883 |  0:00:01s\n",
      "epoch 10 | loss: 0.01809 | val_logits_ll: 0.0189  |  0:00:10s\n",
      "epoch 20 | loss: 0.01697 | val_logits_ll: 0.02103 |  0:00:20s\n",
      "epoch 30 | loss: 0.01633 | val_logits_ll: 0.01842 |  0:00:30s\n",
      "epoch 40 | loss: 0.01592 | val_logits_ll: 0.01843 |  0:00:39s\n",
      "epoch 50 | loss: 0.01557 | val_logits_ll: 0.01793 |  0:00:51s\n",
      "epoch 60 | loss: 0.01556 | val_logits_ll: 0.01821 |  0:01:00s\n",
      "epoch 70 | loss: 0.01522 | val_logits_ll: 0.01815 |  0:01:10s\n",
      "epoch 80 | loss: 0.01498 | val_logits_ll: 0.01818 |  0:01:19s\n",
      "\n",
      "Early stopping occured at epoch 88 with best_epoch = 68 and best_val_logits_ll = 0.01788\n",
      "Best weights from best epoch are automatically used!\n",
      "FOLDS :  4\n",
      "Device used : cuda\n",
      "epoch 0  | loss: 0.26813 | val_logits_ll: 0.02894 |  0:00:01s\n",
      "epoch 10 | loss: 0.01841 | val_logits_ll: 0.01843 |  0:00:10s\n",
      "epoch 20 | loss: 0.01717 | val_logits_ll: 0.01776 |  0:00:21s\n",
      "epoch 30 | loss: 0.01666 | val_logits_ll: 0.0173  |  0:00:31s\n",
      "epoch 40 | loss: 0.01623 | val_logits_ll: 0.01842 |  0:00:41s\n",
      "epoch 50 | loss: 0.01599 | val_logits_ll: 0.01727 |  0:00:50s\n",
      "epoch 60 | loss: 0.01578 | val_logits_ll: 0.01752 |  0:01:01s\n",
      "epoch 70 | loss: 0.01551 | val_logits_ll: 0.01748 |  0:01:10s\n",
      "epoch 80 | loss: 0.01518 | val_logits_ll: 0.01743 |  0:01:21s\n",
      "\n",
      "Early stopping occured at epoch 84 with best_epoch = 64 and best_val_logits_ll = 0.01725\n",
      "Best weights from best epoch are automatically used!\n",
      "FOLDS :  5\n",
      "Device used : cuda\n",
      "epoch 0  | loss: 0.26982 | val_logits_ll: 0.02851 |  0:00:01s\n",
      "epoch 10 | loss: 0.01813 | val_logits_ll: 0.01973 |  0:00:11s\n",
      "epoch 20 | loss: 0.01684 | val_logits_ll: 0.01812 |  0:00:21s\n",
      "epoch 30 | loss: 0.01614 | val_logits_ll: 0.01874 |  0:00:31s\n",
      "epoch 40 | loss: 0.01569 | val_logits_ll: 0.01832 |  0:00:41s\n",
      "epoch 50 | loss: 0.01577 | val_logits_ll: 0.01805 |  0:00:52s\n",
      "epoch 60 | loss: 0.01547 | val_logits_ll: 0.01884 |  0:01:02s\n",
      "epoch 70 | loss: 0.01517 | val_logits_ll: 0.01795 |  0:01:12s\n",
      "epoch 80 | loss: 0.015   | val_logits_ll: 0.01813 |  0:01:22s\n",
      "\n",
      "Early stopping occured at epoch 89 with best_epoch = 69 and best_val_logits_ll = 0.01785\n",
      "Best weights from best epoch are automatically used!\n",
      "OOF log loss: 0.017713006160473742\n",
      "Overall AUC : 0.6386942847212891\n"
     ]
    }
   ],
   "source": [
    "MAX_EPOCH=200\n",
    "device = \"cuda\" if torch.cuda.is_available() else \"cpu\"\n",
    "\n",
    "def seed_everything(seed_value):\n",
    "    random.seed(seed_value)\n",
    "    np.random.seed(seed_value)\n",
    "    torch.manual_seed(seed_value)\n",
    "    os.environ['PYTHONHASHSEED'] = str(seed_value)\n",
    "    \n",
    "    if torch.cuda.is_available(): \n",
    "        torch.cuda.manual_seed(seed_value)\n",
    "        torch.cuda.manual_seed_all(seed_value)\n",
    "        torch.backends.cudnn.deterministic = True\n",
    "        torch.backends.cudnn.benchmark = False\n",
    "\n",
    "def modelling_tabnet(tr, target, te, sample_seed):\n",
    "    seed_everything(sample_seed) \n",
    "    tabnet_params = dict(n_d=24, n_a=24, n_steps=1, gamma=1.5, seed = sample_seed,\n",
    "                     lambda_sparse=0, n_independent=1, n_shared=1, \n",
    "                     optimizer_fn=torch.optim.Adam,\n",
    "                     optimizer_params=dict(lr=2e-2, weight_decay=1e-5),\n",
    "                     mask_type='entmax',\n",
    "                     scheduler_params=dict(mode=\"min\",\n",
    "                                           patience=5,\n",
    "                                           min_lr=1e-5,\n",
    "                                           factor=0.9,),\n",
    "                     scheduler_fn=torch.optim.lr_scheduler.ReduceLROnPlateau,\n",
    "                     verbose=10,\n",
    "                     )\n",
    "    test_cv_preds = []\n",
    "\n",
    "    oof_preds = np.zeros([len(tr),target.shape[1]])\n",
    "    scores = []\n",
    "    for fold_nb in range(NB_SPLITS):\n",
    "        print(\"FOLDS : \", fold_nb+1)\n",
    "        \n",
    "        ## model\n",
    "        val_idx = tr[:,-1] == fold_nb\n",
    "        train_idx = tr[:,-1] != fold_nb\n",
    "        X_train, y_train = tr[train_idx, :], target[train_idx, :]\n",
    "        X_val, y_val = tr[val_idx, :], target[val_idx, :]\n",
    "        X_train = np.delete(X_train, -1, 1)\n",
    "        X_val = np.delete(X_val, -1, 1)\n",
    "        model = TabNetRegressor(**tabnet_params)\n",
    "    \n",
    "        model.fit(X_train=X_train,\n",
    "              y_train=y_train,\n",
    "              eval_set=[(X_val, y_val)],\n",
    "              eval_name = [\"val\"],\n",
    "              eval_metric = [\"logits_ll\"],\n",
    "              max_epochs=MAX_EPOCH,\n",
    "              patience=20, batch_size=512, virtual_batch_size=128,\n",
    "              num_workers=1, drop_last=False,\n",
    "              # use binary cross entropy as this is not a regression problem\n",
    "              loss_fn=torch.nn.functional.binary_cross_entropy_with_logits) \n",
    "    \n",
    "        preds_val = model.predict(X_val)\n",
    "        # Apply sigmoid to the predictions\n",
    "        preds =  1 / (1 + np.exp(-preds_val))\n",
    "        score = np.min(model.history[\"val_logits_ll\"])\n",
    "        oof_preds[val_idx,:] = preds\n",
    "        scores.append(score)\n",
    "\n",
    "        # preds on test\n",
    "        preds_test = model.predict(te)\n",
    "        test_cv_preds.append(1 / (1 + np.exp(-preds_test)))\n",
    "        \n",
    "    test_preds_all = np.stack(test_cv_preds)\n",
    "    print(\"OOF log loss:\", log_loss(np.ravel(target), np.ravel(np.array(oof_preds))))\n",
    "    aucs = []\n",
    "    for task_id in range(206):\n",
    "        aucs.append(roc_auc_score(y_true=target[:, task_id],y_score=oof_preds[:, task_id]))\n",
    "    print(f\"Overall AUC : {np.mean(aucs)}\")\n",
    "    return oof_preds, test_preds_all\n",
    "\n",
    "target_oof = np.zeros([len(fn_train),fn_targets.shape[1]])\n",
    "target_pred = np.zeros([len(fn_test),fn_targets.shape[1]])\n",
    "\n",
    "seeds = [0,1,2]\n",
    "for seed_ in seeds:\n",
    "    oof_preds, test_preds_all = modelling_tabnet(fn_train, fn_targets, fn_test, seed_)\n",
    "    target_oof += oof_preds / len(seeds)\n",
    "    target_pred += test_preds_all.mean(axis=0) / len(seeds)"
   ]
  },
  {
   "cell_type": "code",
   "execution_count": 19,
   "metadata": {
    "execution": {
     "iopub.execute_input": "2020-11-06T09:39:42.553493Z",
     "iopub.status.busy": "2020-11-06T09:39:42.552507Z",
     "iopub.status.idle": "2020-11-06T09:39:43.831523Z",
     "shell.execute_reply": "2020-11-06T09:39:43.830624Z"
    },
    "papermill": {
     "duration": 1.361799,
     "end_time": "2020-11-06T09:39:43.831636",
     "exception": false,
     "start_time": "2020-11-06T09:39:42.469837",
     "status": "completed"
    },
    "tags": []
   },
   "outputs": [
    {
     "name": "stdout",
     "output_type": "stream",
     "text": [
      "Overall AUC : 0.6390426898071366\n"
     ]
    }
   ],
   "source": [
    "aucs = []\n",
    "for task_id in range(targets.shape[1]-1):\n",
    "    aucs.append(roc_auc_score(y_true=targets.iloc[:, task_id+1].values,\n",
    "                              y_score=target_oof[:, task_id]))\n",
    "print(f\"Overall AUC : {np.mean(aucs)}\")"
   ]
  },
  {
   "cell_type": "code",
   "execution_count": 20,
   "metadata": {
    "execution": {
     "iopub.execute_input": "2020-11-06T09:39:44.001273Z",
     "iopub.status.busy": "2020-11-06T09:39:44.000421Z",
     "iopub.status.idle": "2020-11-06T09:39:51.604525Z",
     "shell.execute_reply": "2020-11-06T09:39:51.603993Z"
    },
    "papermill": {
     "duration": 7.697144,
     "end_time": "2020-11-06T09:39:51.604642",
     "exception": false,
     "start_time": "2020-11-06T09:39:43.907498",
     "status": "completed"
    },
    "tags": []
   },
   "outputs": [
    {
     "name": "stdout",
     "output_type": "stream",
     "text": [
      "OOF log loss:  0.015857856295506397\n",
      "OOF log loss:  0.015861933515551034\n"
     ]
    }
   ],
   "source": [
    "p_min = 0.00005\n",
    "p_max = 1 - p_min\n",
    "\n",
    "t = pd.read_csv(DATA_DIR + 'train_targets_scored.csv')\n",
    "train_checkscore = t.copy()\n",
    "train_checkscore.loc[train_checkscore.index.isin(cons_train_index),target_feats] = target_oof\n",
    "train_checkscore.loc[train_checkscore.index.isin(noncons_train_index),target_feats] = 0\n",
    "\n",
    "t.drop(\"sig_id\", axis=1, inplace=True)\n",
    "print('OOF log loss: ', log_loss(np.ravel(t), np.ravel(np.array(train_checkscore.iloc[:,1:]))))\n",
    "print('OOF log loss: ', log_loss(np.ravel(t), np.ravel(np.clip(np.array(train_checkscore.iloc[:,1:]),p_min, p_max))))"
   ]
  },
  {
   "cell_type": "code",
   "execution_count": 21,
   "metadata": {
    "execution": {
     "iopub.execute_input": "2020-11-06T09:39:51.766876Z",
     "iopub.status.busy": "2020-11-06T09:39:51.765962Z",
     "iopub.status.idle": "2020-11-06T09:39:55.212289Z",
     "shell.execute_reply": "2020-11-06T09:39:55.211106Z"
    },
    "papermill": {
     "duration": 3.529658,
     "end_time": "2020-11-06T09:39:55.212447",
     "exception": false,
     "start_time": "2020-11-06T09:39:51.682789",
     "status": "completed"
    },
    "tags": []
   },
   "outputs": [],
   "source": [
    "sub[target_feats] = target_pred\n",
    "sub.loc[noncons_test_index,target_feats] = 0\n",
    "sub.to_csv('submission.csv', index=False)"
   ]
  },
  {
   "cell_type": "code",
   "execution_count": null,
   "metadata": {
    "papermill": {
     "duration": 0.08262,
     "end_time": "2020-11-06T09:39:55.371407",
     "exception": false,
     "start_time": "2020-11-06T09:39:55.288787",
     "status": "completed"
    },
    "tags": []
   },
   "outputs": [],
   "source": []
  }
 ],
 "metadata": {
  "kernelspec": {
   "display_name": "Python 3",
   "language": "python",
   "name": "python3"
  },
  "language_info": {
   "codemirror_mode": {
    "name": "ipython",
    "version": 3
   },
   "file_extension": ".py",
   "mimetype": "text/x-python",
   "name": "python",
   "nbconvert_exporter": "python",
   "pygments_lexer": "ipython3",
   "version": "3.7.6"
  },
  "papermill": {
   "duration": 1163.175298,
   "end_time": "2020-11-06T09:39:55.956921",
   "environment_variables": {},
   "exception": null,
   "input_path": "__notebook__.ipynb",
   "output_path": "__notebook__.ipynb",
   "parameters": {},
   "start_time": "2020-11-06T09:20:32.781623",
   "version": "2.1.0"
  }
 },
 "nbformat": 4,
 "nbformat_minor": 4
}
