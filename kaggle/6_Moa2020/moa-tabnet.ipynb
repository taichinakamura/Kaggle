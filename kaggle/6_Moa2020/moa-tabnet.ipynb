{
 "cells": [
  {
   "cell_type": "markdown",
   "metadata": {
    "papermill": {
     "duration": 0.016994,
     "end_time": "2020-11-02T02:54:39.708444",
     "exception": false,
     "start_time": "2020-11-02T02:54:39.691450",
     "status": "completed"
    },
    "tags": []
   },
   "source": [
    "- cancel umap features **\n",
    "- 5 ensemble (5 folds) **\n",
    "- cancel momentum"
   ]
  },
  {
   "cell_type": "code",
   "execution_count": 1,
   "metadata": {
    "execution": {
     "iopub.execute_input": "2020-11-02T02:54:39.746365Z",
     "iopub.status.busy": "2020-11-02T02:54:39.745520Z",
     "iopub.status.idle": "2020-11-02T02:54:48.976486Z",
     "shell.execute_reply": "2020-11-02T02:54:48.975071Z"
    },
    "papermill": {
     "duration": 9.25223,
     "end_time": "2020-11-02T02:54:48.976608",
     "exception": false,
     "start_time": "2020-11-02T02:54:39.724378",
     "status": "completed"
    },
    "tags": []
   },
   "outputs": [
    {
     "name": "stdout",
     "output_type": "stream",
     "text": [
      "Looking in links: /kaggle/input/pytorchtabnet/pytorch_tabnet-2.0.0-py3-none-any.whl\r\n",
      "Processing /kaggle/input/pytorchtabnet/pytorch_tabnet-2.0.0-py3-none-any.whl\r\n",
      "Requirement already satisfied: numpy<2.0,>=1.17 in /opt/conda/lib/python3.7/site-packages (from pytorch-tabnet) (1.18.5)\r\n",
      "Requirement already satisfied: scikit_learn>0.21 in /opt/conda/lib/python3.7/site-packages (from pytorch-tabnet) (0.23.2)\r\n",
      "Requirement already satisfied: tqdm<5.0,>=4.36 in /opt/conda/lib/python3.7/site-packages (from pytorch-tabnet) (4.45.0)\r\n",
      "Requirement already satisfied: scipy>1.4 in /opt/conda/lib/python3.7/site-packages (from pytorch-tabnet) (1.4.1)\r\n",
      "Requirement already satisfied: torch<2.0,>=1.2 in /opt/conda/lib/python3.7/site-packages (from pytorch-tabnet) (1.6.0)\r\n",
      "Requirement already satisfied: threadpoolctl>=2.0.0 in /opt/conda/lib/python3.7/site-packages (from scikit_learn>0.21->pytorch-tabnet) (2.1.0)\r\n",
      "Requirement already satisfied: joblib>=0.11 in /opt/conda/lib/python3.7/site-packages (from scikit_learn>0.21->pytorch-tabnet) (0.14.1)\r\n",
      "Requirement already satisfied: future in /opt/conda/lib/python3.7/site-packages (from torch<2.0,>=1.2->pytorch-tabnet) (0.18.2)\r\n",
      "Installing collected packages: pytorch-tabnet\r\n",
      "Successfully installed pytorch-tabnet-2.0.0\r\n"
     ]
    }
   ],
   "source": [
    "!pip install --no-index --find-links /kaggle/input/pytorchtabnet/pytorch_tabnet-2.0.0-py3-none-any.whl pytorch-tabnet"
   ]
  },
  {
   "cell_type": "code",
   "execution_count": 2,
   "metadata": {
    "_cell_guid": "b1076dfc-b9ad-4769-8c92-a6c4dae69d19",
    "_uuid": "8f2839f25d086af736a60e9eeb907d3b93b6e0e5",
    "execution": {
     "iopub.execute_input": "2020-11-02T02:54:49.026088Z",
     "iopub.status.busy": "2020-11-02T02:54:49.025254Z",
     "iopub.status.idle": "2020-11-02T02:54:58.170876Z",
     "shell.execute_reply": "2020-11-02T02:54:58.169766Z"
    },
    "papermill": {
     "duration": 9.173553,
     "end_time": "2020-11-02T02:54:58.171008",
     "exception": false,
     "start_time": "2020-11-02T02:54:48.997455",
     "status": "completed"
    },
    "tags": []
   },
   "outputs": [],
   "source": [
    "import os\n",
    "import sys\n",
    "import random\n",
    "import warnings\n",
    "import numpy as np\n",
    "import pandas as pd \n",
    "from umap import UMAP\n",
    "from sklearn import preprocessing\n",
    "from sklearn.metrics import log_loss,roc_auc_score\n",
    "from sklearn.decomposition import PCA\n",
    "from tqdm import tqdm_notebook as tqdm\n",
    "from sklearn.cluster import KMeans\n",
    "from sklearn.multioutput import MultiOutputClassifier\n",
    "from sklearn.feature_selection import VarianceThreshold\n",
    "\n",
    "from pytorch_tabnet.metrics import Metric\n",
    "from pytorch_tabnet.tab_model import TabNetRegressor\n",
    "\n",
    "sys.path.append('../input/multilabelstraifier/')\n",
    "from ml_stratifiers import MultilabelStratifiedKFold\n",
    "warnings.filterwarnings('ignore')\n",
    "\n",
    "import time\n",
    "import torch\n",
    "import torch.nn as nn\n",
    "import torch.optim as optim\n",
    "import torch.nn.functional as F\n",
    "import tensorflow as tf"
   ]
  },
  {
   "cell_type": "code",
   "execution_count": 3,
   "metadata": {
    "execution": {
     "iopub.execute_input": "2020-11-02T02:54:58.216443Z",
     "iopub.status.busy": "2020-11-02T02:54:58.215457Z",
     "iopub.status.idle": "2020-11-02T02:55:04.357030Z",
     "shell.execute_reply": "2020-11-02T02:55:04.356381Z"
    },
    "papermill": {
     "duration": 6.167263,
     "end_time": "2020-11-02T02:55:04.357170",
     "exception": false,
     "start_time": "2020-11-02T02:54:58.189907",
     "status": "completed"
    },
    "tags": []
   },
   "outputs": [],
   "source": [
    "DATA_DIR = '/kaggle/input/lish-moa/'\n",
    "train = pd.read_csv(DATA_DIR + 'train_features.csv')\n",
    "targets = pd.read_csv(DATA_DIR + 'train_targets_scored.csv')\n",
    "non_targets = pd.read_csv(DATA_DIR + 'train_targets_nonscored.csv')\n",
    "test = pd.read_csv(DATA_DIR + 'test_features.csv')\n",
    "sub = pd.read_csv(DATA_DIR + 'sample_submission.csv')"
   ]
  },
  {
   "cell_type": "code",
   "execution_count": 4,
   "metadata": {
    "execution": {
     "iopub.execute_input": "2020-11-02T02:55:04.408556Z",
     "iopub.status.busy": "2020-11-02T02:55:04.407877Z",
     "iopub.status.idle": "2020-11-02T02:55:04.500403Z",
     "shell.execute_reply": "2020-11-02T02:55:04.499827Z"
    },
    "papermill": {
     "duration": 0.123889,
     "end_time": "2020-11-02T02:55:04.500508",
     "exception": false,
     "start_time": "2020-11-02T02:55:04.376619",
     "status": "completed"
    },
    "tags": []
   },
   "outputs": [],
   "source": [
    "target_feats = [ i for i in targets.columns if i != \"sig_id\"]\n",
    "g_feats = [i for i in train.columns if \"g-\" in i]\n",
    "c_feats = [i for i in train.columns if \"c-\" in i]\n",
    "\n",
    "noncons_train_index = train[train.cp_type==\"ctl_vehicle\"].index\n",
    "cons_train_index = train[~train.index.isin(noncons_train_index)].index\n",
    "noncons_test_index = test[test.cp_type==\"ctl_vehicle\"].index\n",
    "cons_test_index = test[test.cp_type!=\"ctl_vehicle\"].index"
   ]
  },
  {
   "cell_type": "markdown",
   "metadata": {
    "papermill": {
     "duration": 0.01866,
     "end_time": "2020-11-02T02:55:04.538473",
     "exception": false,
     "start_time": "2020-11-02T02:55:04.519813",
     "status": "completed"
    },
    "tags": []
   },
   "source": [
    "# preprocess"
   ]
  },
  {
   "cell_type": "code",
   "execution_count": 5,
   "metadata": {
    "execution": {
     "iopub.execute_input": "2020-11-02T02:55:04.590187Z",
     "iopub.status.busy": "2020-11-02T02:55:04.589177Z",
     "iopub.status.idle": "2020-11-02T02:55:04.822523Z",
     "shell.execute_reply": "2020-11-02T02:55:04.822008Z"
    },
    "papermill": {
     "duration": 0.265269,
     "end_time": "2020-11-02T02:55:04.822646",
     "exception": false,
     "start_time": "2020-11-02T02:55:04.557377",
     "status": "completed"
    },
    "tags": []
   },
   "outputs": [],
   "source": [
    "train = train[train.index.isin(cons_train_index)].copy().reset_index(drop=True)\n",
    "targets = targets[targets.index.isin(cons_train_index)].copy().reset_index(drop=True)"
   ]
  },
  {
   "cell_type": "code",
   "execution_count": 6,
   "metadata": {
    "execution": {
     "iopub.execute_input": "2020-11-02T02:55:04.864831Z",
     "iopub.status.busy": "2020-11-02T02:55:04.864196Z",
     "iopub.status.idle": "2020-11-02T02:55:04.868287Z",
     "shell.execute_reply": "2020-11-02T02:55:04.867658Z"
    },
    "papermill": {
     "duration": 0.026475,
     "end_time": "2020-11-02T02:55:04.868394",
     "exception": false,
     "start_time": "2020-11-02T02:55:04.841919",
     "status": "completed"
    },
    "tags": []
   },
   "outputs": [],
   "source": [
    "#X = train[g_feats+c_feats].copy().values\n",
    "#select = VarianceThreshold(threshold=0.4)\n",
    "#X_new = select.fit_transform(X)\n",
    "#drop_feats = list(np.array(train[g_feats+c_feats].columns)[select.get_support()==False])\n",
    "#len(drop_feats)"
   ]
  },
  {
   "cell_type": "markdown",
   "metadata": {
    "papermill": {
     "duration": 0.019144,
     "end_time": "2020-11-02T02:55:04.906675",
     "exception": false,
     "start_time": "2020-11-02T02:55:04.887531",
     "status": "completed"
    },
    "tags": []
   },
   "source": [
    "# feature engineering"
   ]
  },
  {
   "cell_type": "code",
   "execution_count": 7,
   "metadata": {
    "execution": {
     "iopub.execute_input": "2020-11-02T02:55:04.954039Z",
     "iopub.status.busy": "2020-11-02T02:55:04.953151Z",
     "iopub.status.idle": "2020-11-02T02:55:14.381800Z",
     "shell.execute_reply": "2020-11-02T02:55:14.380656Z"
    },
    "papermill": {
     "duration": 9.45613,
     "end_time": "2020-11-02T02:55:14.381982",
     "exception": false,
     "start_time": "2020-11-02T02:55:04.925852",
     "status": "completed"
    },
    "tags": []
   },
   "outputs": [],
   "source": [
    "for i in c_feats + g_feats:\n",
    "    ss = preprocessing.QuantileTransformer(n_quantiles=100, random_state=0, output_distribution=\"normal\")\n",
    "    ss.fit(train[i].values.reshape(-1,1))\n",
    "    train[i] = ss.transform(train[i].values.reshape(-1,1))\n",
    "    test[i] = ss.transform(test[i].values.reshape(-1,1))"
   ]
  },
  {
   "cell_type": "code",
   "execution_count": 8,
   "metadata": {
    "execution": {
     "iopub.execute_input": "2020-11-02T02:55:14.447927Z",
     "iopub.status.busy": "2020-11-02T02:55:14.446714Z",
     "iopub.status.idle": "2020-11-02T02:55:15.841755Z",
     "shell.execute_reply": "2020-11-02T02:55:15.841187Z"
    },
    "papermill": {
     "duration": 1.438372,
     "end_time": "2020-11-02T02:55:15.841864",
     "exception": false,
     "start_time": "2020-11-02T02:55:14.403492",
     "status": "completed"
    },
    "tags": []
   },
   "outputs": [],
   "source": [
    "c_num = 1\n",
    "pca_c_cols = [\"pca-c\"+str(i+1) for i in range(c_num)]\n",
    "pca = PCA(n_components=c_num,random_state=42)\n",
    "c_train = pca.fit_transform(train[c_feats])\n",
    "c_test = pca.transform(test[c_feats])\n",
    "c_train = pd.DataFrame(c_train, columns=pca_c_cols)\n",
    "c_test = pd.DataFrame(c_test, columns=pca_c_cols)\n",
    "\n",
    "g_num = 10\n",
    "pca_g_cols = [\"pca-g\"+str(i+1) for i in range(g_num)]\n",
    "pca = PCA(n_components=g_num, random_state=42)\n",
    "g_train = pca.fit_transform(train[g_feats])\n",
    "g_test = pca.transform(test[g_feats])\n",
    "g_train = pd.DataFrame(g_train, columns=pca_g_cols)\n",
    "g_test = pd.DataFrame(g_test, columns=pca_g_cols)\n",
    "\n",
    "train = pd.concat([train, c_train],axis=1)\n",
    "test = pd.concat([test, c_test],axis=1)\n",
    "train = pd.concat([train, g_train],axis=1)\n",
    "test = pd.concat([test, g_test],axis=1)"
   ]
  },
  {
   "cell_type": "code",
   "execution_count": 9,
   "metadata": {
    "execution": {
     "iopub.execute_input": "2020-11-02T02:55:15.884916Z",
     "iopub.status.busy": "2020-11-02T02:55:15.884294Z",
     "iopub.status.idle": "2020-11-02T02:55:15.888671Z",
     "shell.execute_reply": "2020-11-02T02:55:15.888176Z"
    },
    "papermill": {
     "duration": 0.027299,
     "end_time": "2020-11-02T02:55:15.888778",
     "exception": false,
     "start_time": "2020-11-02T02:55:15.861479",
     "status": "completed"
    },
    "tags": []
   },
   "outputs": [],
   "source": [
    "#uc_num = 1\n",
    "#um = UMAP(n_neighbors=30, n_components=uc_num, random_state=42)\n",
    "#um_c_cols = [\"um-c\"+str(i+1) for i in range(uc_num)]\n",
    "#uc_train = um.fit_transform(train[c_feats])\n",
    "#uc_test = um.transform(test[c_feats])\n",
    "#uc_train = pd.DataFrame(uc_train, columns=um_c_cols)\n",
    "#uc_test = pd.DataFrame(uc_test, columns=um_c_cols)\n",
    "\n",
    "#ug_num = 10\n",
    "#um = UMAP(n_neighbors=30, n_components=ug_num, random_state=42)\n",
    "#um_g_cols = [\"um-g\"+str(i+1) for i in range(ug_num)]\n",
    "#ug_train = um.fit_transform(train[g_feats])\n",
    "#ug_test = um.transform(test[g_feats])\n",
    "#ug_train = pd.DataFrame(ug_train, columns=um_g_cols)\n",
    "#ug_test = pd.DataFrame(ug_test, columns=um_g_cols)\n",
    "\n",
    "#train = pd.concat([train, uc_train],axis=1)\n",
    "#test = pd.concat([test, uc_test],axis=1)\n",
    "#train = pd.concat([train, ug_train],axis=1)\n",
    "#test = pd.concat([test, ug_test],axis=1)"
   ]
  },
  {
   "cell_type": "code",
   "execution_count": 10,
   "metadata": {
    "execution": {
     "iopub.execute_input": "2020-11-02T02:55:15.933129Z",
     "iopub.status.busy": "2020-11-02T02:55:15.931457Z",
     "iopub.status.idle": "2020-11-02T02:55:15.933916Z",
     "shell.execute_reply": "2020-11-02T02:55:15.934394Z"
    },
    "papermill": {
     "duration": 0.026163,
     "end_time": "2020-11-02T02:55:15.934501",
     "exception": false,
     "start_time": "2020-11-02T02:55:15.908338",
     "status": "completed"
    },
    "tags": []
   },
   "outputs": [],
   "source": [
    "#n_clusters_g = 15\n",
    "#n_clusters_c = 5\n",
    "#def create_cluster(train, test, kind, n_clusters):\n",
    "#    if kind == \"g\":\n",
    "#        train_ = train[pca_g_cols].copy()\n",
    "#        test_ = test[pca_g_cols].copy()\n",
    "#    else:\n",
    "#        train_ = train[pca_c_cols].copy()\n",
    "#        test_ = test[pca_c_cols].copy()    \n",
    "#    kmeans = KMeans(n_clusters = n_clusters, random_state = 0).fit(train_)\n",
    "#    train[f'clusters_{kind}'] = kmeans.labels_\n",
    "#    test[f'clusters_{kind}'] = kmeans.predict(test_)\n",
    "#    train = pd.get_dummies(train, columns = [f'clusters_{kind}'])\n",
    "#    test = pd.get_dummies(test, columns = [f'clusters_{kind}'])\n",
    "#    return train, test\n",
    "    \n",
    "#train, test = create_cluster(train, test, kind = 'g', n_clusters = n_clusters_g)\n",
    "#train, test = create_cluster(train, test, kind = 'c', n_clusters = n_clusters_c)"
   ]
  },
  {
   "cell_type": "code",
   "execution_count": 11,
   "metadata": {
    "execution": {
     "iopub.execute_input": "2020-11-02T02:55:15.986002Z",
     "iopub.status.busy": "2020-11-02T02:55:15.984685Z",
     "iopub.status.idle": "2020-11-02T02:55:16.238211Z",
     "shell.execute_reply": "2020-11-02T02:55:16.238821Z"
    },
    "papermill": {
     "duration": 0.285069,
     "end_time": "2020-11-02T02:55:16.239014",
     "exception": false,
     "start_time": "2020-11-02T02:55:15.953945",
     "status": "completed"
    },
    "tags": []
   },
   "outputs": [
    {
     "name": "stdout",
     "output_type": "stream",
     "text": [
      "(21948, 885) (3982, 885)\n"
     ]
    }
   ],
   "source": [
    "def fe(df):\n",
    "    tmp = df.copy()\n",
    "    #tmp['g_sum'] = tmp[g_feats].sum(axis = 1)\n",
    "    #tmp['g_mean'] = tmp[g_feats].mean(axis = 1)\n",
    "    #tmp['g_std'] = tmp[g_feats].std(axis = 1)\n",
    "    #tmp['g_kurt'] = tmp[g_feats].kurtosis(axis = 1)\n",
    "    #tmp['g_skew'] = tmp[g_feats].skew(axis = 1)\n",
    "    #tmp['c_sum'] = tmp[c_feats].sum(axis = 1)\n",
    "    #tmp['c_mean'] = tmp[c_feats].mean(axis = 1)\n",
    "    #tmp['c_std'] = tmp[c_feats].std(axis = 1)\n",
    "    #tmp['c_kurt'] = tmp[c_feats].kurtosis(axis = 1)\n",
    "    #tmp['c_skew'] = tmp[c_feats].skew(axis = 1)\n",
    "    #tmp['gc_sum'] = tmp[c_feats + g_feats].sum(axis = 1)\n",
    "    #tmp['gc_mean'] = tmp[c_feats + g_feats].mean(axis = 1)\n",
    "    #tmp['gc_std'] = tmp[c_feats + g_feats].std(axis = 1)\n",
    "    #tmp['gc_kurt'] = tmp[c_feats + g_feats].kurtosis(axis = 1)\n",
    "    #tmp['gc_skew'] = tmp[c_feats + g_feats].skew(axis = 1)\n",
    "    #tmp[\"g_c_diff\"] = tmp[\"g_sum\"] - tmp[\"c_sum\"]\n",
    "    tmp.loc[:, 'cp_dose'] = tmp.loc[:, 'cp_dose'].map({'D1': 0, 'D2': 1})      \n",
    "    tmp.drop([\"sig_id\", \"cp_type\"], axis=1, inplace=True)\n",
    "    return tmp\n",
    "\n",
    "train = fe(train)\n",
    "test = fe(test)\n",
    "\n",
    "print(train.shape, test.shape)"
   ]
  },
  {
   "cell_type": "code",
   "execution_count": 12,
   "metadata": {
    "execution": {
     "iopub.execute_input": "2020-11-02T02:55:16.283429Z",
     "iopub.status.busy": "2020-11-02T02:55:16.282681Z",
     "iopub.status.idle": "2020-11-02T02:55:16.285853Z",
     "shell.execute_reply": "2020-11-02T02:55:16.285362Z"
    },
    "papermill": {
     "duration": 0.026667,
     "end_time": "2020-11-02T02:55:16.285953",
     "exception": false,
     "start_time": "2020-11-02T02:55:16.259286",
     "status": "completed"
    },
    "tags": []
   },
   "outputs": [],
   "source": [
    "#train.drop(drop_feats, axis=1, inplace=True)\n",
    "#test.drop(drop_feats, axis=1, inplace=True)"
   ]
  },
  {
   "cell_type": "code",
   "execution_count": 13,
   "metadata": {
    "execution": {
     "iopub.execute_input": "2020-11-02T02:55:16.329306Z",
     "iopub.status.busy": "2020-11-02T02:55:16.328458Z",
     "iopub.status.idle": "2020-11-02T02:55:16.357186Z",
     "shell.execute_reply": "2020-11-02T02:55:16.357770Z"
    },
    "papermill": {
     "duration": 0.051587,
     "end_time": "2020-11-02T02:55:16.357880",
     "exception": false,
     "start_time": "2020-11-02T02:55:16.306293",
     "status": "completed"
    },
    "tags": []
   },
   "outputs": [
    {
     "data": {
      "text/html": [
       "<div>\n",
       "<style scoped>\n",
       "    .dataframe tbody tr th:only-of-type {\n",
       "        vertical-align: middle;\n",
       "    }\n",
       "\n",
       "    .dataframe tbody tr th {\n",
       "        vertical-align: top;\n",
       "    }\n",
       "\n",
       "    .dataframe thead th {\n",
       "        text-align: right;\n",
       "    }\n",
       "</style>\n",
       "<table border=\"1\" class=\"dataframe\">\n",
       "  <thead>\n",
       "    <tr style=\"text-align: right;\">\n",
       "      <th></th>\n",
       "      <th>cp_time</th>\n",
       "      <th>cp_dose</th>\n",
       "      <th>g-0</th>\n",
       "      <th>g-1</th>\n",
       "      <th>g-2</th>\n",
       "      <th>g-3</th>\n",
       "      <th>g-4</th>\n",
       "      <th>g-5</th>\n",
       "      <th>g-6</th>\n",
       "      <th>g-7</th>\n",
       "      <th>...</th>\n",
       "      <th>pca-g1</th>\n",
       "      <th>pca-g2</th>\n",
       "      <th>pca-g3</th>\n",
       "      <th>pca-g4</th>\n",
       "      <th>pca-g5</th>\n",
       "      <th>pca-g6</th>\n",
       "      <th>pca-g7</th>\n",
       "      <th>pca-g8</th>\n",
       "      <th>pca-g9</th>\n",
       "      <th>pca-g10</th>\n",
       "    </tr>\n",
       "  </thead>\n",
       "  <tbody>\n",
       "    <tr>\n",
       "      <th>0</th>\n",
       "      <td>24</td>\n",
       "      <td>0</td>\n",
       "      <td>1.111801</td>\n",
       "      <td>0.903367</td>\n",
       "      <td>-0.433829</td>\n",
       "      <td>-0.971728</td>\n",
       "      <td>-0.286559</td>\n",
       "      <td>-1.011388</td>\n",
       "      <td>-1.357431</td>\n",
       "      <td>-0.041716</td>\n",
       "      <td>...</td>\n",
       "      <td>-5.947541</td>\n",
       "      <td>-6.565323</td>\n",
       "      <td>7.922011</td>\n",
       "      <td>-7.719018</td>\n",
       "      <td>4.405187</td>\n",
       "      <td>1.806038</td>\n",
       "      <td>3.393864</td>\n",
       "      <td>1.992503</td>\n",
       "      <td>2.330853</td>\n",
       "      <td>0.229401</td>\n",
       "    </tr>\n",
       "    <tr>\n",
       "      <th>1</th>\n",
       "      <td>72</td>\n",
       "      <td>0</td>\n",
       "      <td>0.105667</td>\n",
       "      <td>0.672509</td>\n",
       "      <td>0.257486</td>\n",
       "      <td>0.086759</td>\n",
       "      <td>1.199685</td>\n",
       "      <td>0.691813</td>\n",
       "      <td>0.353695</td>\n",
       "      <td>0.558374</td>\n",
       "      <td>...</td>\n",
       "      <td>-5.162087</td>\n",
       "      <td>-0.264433</td>\n",
       "      <td>-12.554034</td>\n",
       "      <td>4.953071</td>\n",
       "      <td>0.799825</td>\n",
       "      <td>-0.025325</td>\n",
       "      <td>1.039128</td>\n",
       "      <td>-0.897690</td>\n",
       "      <td>3.815383</td>\n",
       "      <td>3.735017</td>\n",
       "    </tr>\n",
       "    <tr>\n",
       "      <th>2</th>\n",
       "      <td>48</td>\n",
       "      <td>0</td>\n",
       "      <td>0.767036</td>\n",
       "      <td>0.942499</td>\n",
       "      <td>1.408911</td>\n",
       "      <td>-0.126492</td>\n",
       "      <td>-0.028694</td>\n",
       "      <td>1.490985</td>\n",
       "      <td>0.272541</td>\n",
       "      <td>0.359490</td>\n",
       "      <td>...</td>\n",
       "      <td>0.677536</td>\n",
       "      <td>8.687788</td>\n",
       "      <td>-2.526892</td>\n",
       "      <td>0.283035</td>\n",
       "      <td>0.538570</td>\n",
       "      <td>2.956883</td>\n",
       "      <td>-2.141152</td>\n",
       "      <td>3.346174</td>\n",
       "      <td>-1.128757</td>\n",
       "      <td>-4.715069</td>\n",
       "    </tr>\n",
       "    <tr>\n",
       "      <th>3</th>\n",
       "      <td>48</td>\n",
       "      <td>0</td>\n",
       "      <td>-0.755626</td>\n",
       "      <td>-0.297077</td>\n",
       "      <td>-0.455058</td>\n",
       "      <td>0.765972</td>\n",
       "      <td>2.343522</td>\n",
       "      <td>-0.852713</td>\n",
       "      <td>-2.316440</td>\n",
       "      <td>0.301512</td>\n",
       "      <td>...</td>\n",
       "      <td>10.869688</td>\n",
       "      <td>10.066734</td>\n",
       "      <td>-0.212951</td>\n",
       "      <td>-5.016873</td>\n",
       "      <td>-7.041268</td>\n",
       "      <td>-3.342125</td>\n",
       "      <td>-3.466734</td>\n",
       "      <td>6.218932</td>\n",
       "      <td>-4.034827</td>\n",
       "      <td>0.560658</td>\n",
       "    </tr>\n",
       "    <tr>\n",
       "      <th>4</th>\n",
       "      <td>72</td>\n",
       "      <td>1</td>\n",
       "      <td>-0.468806</td>\n",
       "      <td>-0.504196</td>\n",
       "      <td>0.956769</td>\n",
       "      <td>0.975864</td>\n",
       "      <td>1.447729</td>\n",
       "      <td>-0.863807</td>\n",
       "      <td>-0.346926</td>\n",
       "      <td>-0.227072</td>\n",
       "      <td>...</td>\n",
       "      <td>-6.933980</td>\n",
       "      <td>6.061535</td>\n",
       "      <td>-8.831261</td>\n",
       "      <td>-4.482883</td>\n",
       "      <td>-7.548974</td>\n",
       "      <td>-8.808425</td>\n",
       "      <td>-2.480037</td>\n",
       "      <td>-4.121178</td>\n",
       "      <td>-1.091505</td>\n",
       "      <td>-1.924720</td>\n",
       "    </tr>\n",
       "  </tbody>\n",
       "</table>\n",
       "<p>5 rows × 885 columns</p>\n",
       "</div>"
      ],
      "text/plain": [
       "   cp_time  cp_dose       g-0       g-1       g-2       g-3       g-4  \\\n",
       "0       24        0  1.111801  0.903367 -0.433829 -0.971728 -0.286559   \n",
       "1       72        0  0.105667  0.672509  0.257486  0.086759  1.199685   \n",
       "2       48        0  0.767036  0.942499  1.408911 -0.126492 -0.028694   \n",
       "3       48        0 -0.755626 -0.297077 -0.455058  0.765972  2.343522   \n",
       "4       72        1 -0.468806 -0.504196  0.956769  0.975864  1.447729   \n",
       "\n",
       "        g-5       g-6       g-7  ...     pca-g1     pca-g2     pca-g3  \\\n",
       "0 -1.011388 -1.357431 -0.041716  ...  -5.947541  -6.565323   7.922011   \n",
       "1  0.691813  0.353695  0.558374  ...  -5.162087  -0.264433 -12.554034   \n",
       "2  1.490985  0.272541  0.359490  ...   0.677536   8.687788  -2.526892   \n",
       "3 -0.852713 -2.316440  0.301512  ...  10.869688  10.066734  -0.212951   \n",
       "4 -0.863807 -0.346926 -0.227072  ...  -6.933980   6.061535  -8.831261   \n",
       "\n",
       "     pca-g4    pca-g5    pca-g6    pca-g7    pca-g8    pca-g9   pca-g10  \n",
       "0 -7.719018  4.405187  1.806038  3.393864  1.992503  2.330853  0.229401  \n",
       "1  4.953071  0.799825 -0.025325  1.039128 -0.897690  3.815383  3.735017  \n",
       "2  0.283035  0.538570  2.956883 -2.141152  3.346174 -1.128757 -4.715069  \n",
       "3 -5.016873 -7.041268 -3.342125 -3.466734  6.218932 -4.034827  0.560658  \n",
       "4 -4.482883 -7.548974 -8.808425 -2.480037 -4.121178 -1.091505 -1.924720  \n",
       "\n",
       "[5 rows x 885 columns]"
      ]
     },
     "execution_count": 13,
     "metadata": {},
     "output_type": "execute_result"
    }
   ],
   "source": [
    "train.head()"
   ]
  },
  {
   "cell_type": "code",
   "execution_count": 14,
   "metadata": {
    "execution": {
     "iopub.execute_input": "2020-11-02T02:55:16.405675Z",
     "iopub.status.busy": "2020-11-02T02:55:16.404835Z",
     "iopub.status.idle": "2020-11-02T02:55:16.571249Z",
     "shell.execute_reply": "2020-11-02T02:55:16.570673Z"
    },
    "papermill": {
     "duration": 0.191961,
     "end_time": "2020-11-02T02:55:16.571370",
     "exception": false,
     "start_time": "2020-11-02T02:55:16.379409",
     "status": "completed"
    },
    "tags": []
   },
   "outputs": [],
   "source": [
    "fn_train = train.copy().to_numpy()\n",
    "fn_test = test.copy().to_numpy()\n",
    "    \n",
    "fn_targets = targets.drop(\"sig_id\", axis=1).copy().to_numpy()"
   ]
  },
  {
   "cell_type": "code",
   "execution_count": 15,
   "metadata": {
    "execution": {
     "iopub.execute_input": "2020-11-02T02:55:16.623781Z",
     "iopub.status.busy": "2020-11-02T02:55:16.622906Z",
     "iopub.status.idle": "2020-11-02T02:55:16.626447Z",
     "shell.execute_reply": "2020-11-02T02:55:16.627014Z"
    },
    "papermill": {
     "duration": 0.032182,
     "end_time": "2020-11-02T02:55:16.627131",
     "exception": false,
     "start_time": "2020-11-02T02:55:16.594949",
     "status": "completed"
    },
    "tags": []
   },
   "outputs": [
    {
     "data": {
      "text/plain": [
       "((21948, 885), (3982, 885), (21948, 206))"
      ]
     },
     "execution_count": 15,
     "metadata": {},
     "output_type": "execute_result"
    }
   ],
   "source": [
    "fn_train.shape, fn_test.shape, fn_targets.shape"
   ]
  },
  {
   "cell_type": "markdown",
   "metadata": {
    "papermill": {
     "duration": 0.021721,
     "end_time": "2020-11-02T02:55:16.670793",
     "exception": false,
     "start_time": "2020-11-02T02:55:16.649072",
     "status": "completed"
    },
    "tags": []
   },
   "source": [
    "# modelling"
   ]
  },
  {
   "cell_type": "code",
   "execution_count": 16,
   "metadata": {
    "execution": {
     "iopub.execute_input": "2020-11-02T02:55:16.721383Z",
     "iopub.status.busy": "2020-11-02T02:55:16.720583Z",
     "iopub.status.idle": "2020-11-02T02:55:16.723552Z",
     "shell.execute_reply": "2020-11-02T02:55:16.723056Z"
    },
    "papermill": {
     "duration": 0.031038,
     "end_time": "2020-11-02T02:55:16.723639",
     "exception": false,
     "start_time": "2020-11-02T02:55:16.692601",
     "status": "completed"
    },
    "tags": []
   },
   "outputs": [],
   "source": [
    "class LogitsLogLoss(Metric):\n",
    "    def __init__(self):\n",
    "        self._name = \"logits_ll\"\n",
    "        self._maximize = False\n",
    "\n",
    "    def __call__(self, y_true, y_pred):\n",
    "\n",
    "        logits = 1 / (1 + np.exp(-y_pred))\n",
    "        \n",
    "        #smoothing = 0.00001\n",
    "        #n_classes = 206\n",
    "        #y_true = y_true * (1 - smoothing) + np.ones_like(y_true) * smoothing / n_classes\n",
    "        \n",
    "        aux = (1-y_true)*np.log(1-logits+1e-15) + y_true*np.log(logits+1e-15)\n",
    "        return np.mean(-aux)"
   ]
  },
  {
   "cell_type": "code",
   "execution_count": 17,
   "metadata": {
    "execution": {
     "iopub.execute_input": "2020-11-02T02:55:16.778555Z",
     "iopub.status.busy": "2020-11-02T02:55:16.777687Z",
     "iopub.status.idle": "2020-11-02T03:23:59.437354Z",
     "shell.execute_reply": "2020-11-02T03:23:59.436672Z"
    },
    "papermill": {
     "duration": 1722.692254,
     "end_time": "2020-11-02T03:23:59.437514",
     "exception": false,
     "start_time": "2020-11-02T02:55:16.745260",
     "status": "completed"
    },
    "tags": []
   },
   "outputs": [
    {
     "name": "stdout",
     "output_type": "stream",
     "text": [
      "FOLDS :  1\n",
      "Device used : cuda\n",
      "epoch 0  | loss: 0.4388  | val_logits_ll: 0.15052 |  0:00:01s\n",
      "epoch 10 | loss: 0.01926 | val_logits_ll: 0.01938 |  0:00:09s\n",
      "epoch 20 | loss: 0.01741 | val_logits_ll: 0.01861 |  0:00:19s\n",
      "epoch 30 | loss: 0.01671 | val_logits_ll: 0.01751 |  0:00:27s\n",
      "epoch 40 | loss: 0.01646 | val_logits_ll: 0.01724 |  0:00:35s\n",
      "epoch 50 | loss: 0.01589 | val_logits_ll: 0.01728 |  0:00:44s\n",
      "epoch 60 | loss: 0.01548 | val_logits_ll: 0.01681 |  0:00:52s\n",
      "epoch 70 | loss: 0.01513 | val_logits_ll: 0.01676 |  0:01:01s\n",
      "\n",
      "Early stopping occured at epoch 79 with best_epoch = 59 and best_val_logits_ll = 0.01676\n",
      "Best weights from best epoch are automatically used!\n",
      "FOLDS :  2\n",
      "Device used : cuda\n",
      "epoch 0  | loss: 0.44418 | val_logits_ll: 0.16504 |  0:00:00s\n",
      "epoch 10 | loss: 0.01906 | val_logits_ll: 0.01926 |  0:00:09s\n",
      "epoch 20 | loss: 0.01709 | val_logits_ll: 0.02044 |  0:00:18s\n",
      "epoch 30 | loss: 0.0164  | val_logits_ll: 0.01993 |  0:00:27s\n",
      "epoch 40 | loss: 0.01579 | val_logits_ll: 0.01746 |  0:00:35s\n",
      "epoch 50 | loss: 0.01526 | val_logits_ll: 0.01733 |  0:00:44s\n",
      "epoch 60 | loss: 0.01482 | val_logits_ll: 0.01743 |  0:00:52s\n",
      "\n",
      "Early stopping occured at epoch 65 with best_epoch = 45 and best_val_logits_ll = 0.01703\n",
      "Best weights from best epoch are automatically used!\n",
      "FOLDS :  3\n",
      "Device used : cuda\n",
      "epoch 0  | loss: 0.44406 | val_logits_ll: 0.14174 |  0:00:00s\n",
      "epoch 10 | loss: 0.01894 | val_logits_ll: 0.01922 |  0:00:09s\n",
      "epoch 20 | loss: 0.01722 | val_logits_ll: 0.01796 |  0:00:18s\n",
      "epoch 30 | loss: 0.0165  | val_logits_ll: 0.01779 |  0:00:27s\n",
      "epoch 40 | loss: 0.01616 | val_logits_ll: 0.01719 |  0:00:36s\n",
      "epoch 50 | loss: 0.01541 | val_logits_ll: 0.01729 |  0:00:44s\n",
      "epoch 60 | loss: 0.01491 | val_logits_ll: 0.0172  |  0:00:52s\n",
      "\n",
      "Early stopping occured at epoch 63 with best_epoch = 43 and best_val_logits_ll = 0.0171\n",
      "Best weights from best epoch are automatically used!\n",
      "FOLDS :  4\n",
      "Device used : cuda\n",
      "epoch 0  | loss: 0.43682 | val_logits_ll: 0.1486  |  0:00:00s\n",
      "epoch 10 | loss: 0.0191  | val_logits_ll: 0.01917 |  0:00:09s\n",
      "epoch 20 | loss: 0.01713 | val_logits_ll: 0.01787 |  0:00:18s\n",
      "epoch 30 | loss: 0.01649 | val_logits_ll: 0.01717 |  0:00:27s\n",
      "epoch 40 | loss: 0.01598 | val_logits_ll: 0.01763 |  0:00:36s\n",
      "epoch 50 | loss: 0.01582 | val_logits_ll: 0.01689 |  0:00:45s\n",
      "epoch 60 | loss: 0.01537 | val_logits_ll: 0.01693 |  0:00:53s\n",
      "epoch 70 | loss: 0.01564 | val_logits_ll: 0.01731 |  0:01:02s\n",
      "epoch 80 | loss: 0.01494 | val_logits_ll: 0.01908 |  0:01:11s\n",
      "epoch 90 | loss: 0.01458 | val_logits_ll: 0.01691 |  0:01:20s\n",
      "\n",
      "Early stopping occured at epoch 99 with best_epoch = 79 and best_val_logits_ll = 0.01663\n",
      "Best weights from best epoch are automatically used!\n",
      "FOLDS :  5\n",
      "Device used : cuda\n",
      "epoch 0  | loss: 0.43901 | val_logits_ll: 0.1596  |  0:00:00s\n",
      "epoch 10 | loss: 0.0189  | val_logits_ll: 0.01916 |  0:00:09s\n",
      "epoch 20 | loss: 0.01708 | val_logits_ll: 0.01848 |  0:00:18s\n",
      "epoch 30 | loss: 0.01653 | val_logits_ll: 0.01943 |  0:00:26s\n",
      "epoch 40 | loss: 0.01583 | val_logits_ll: 0.01746 |  0:00:35s\n",
      "epoch 50 | loss: 0.01552 | val_logits_ll: 0.01722 |  0:00:44s\n",
      "epoch 60 | loss: 0.01544 | val_logits_ll: 0.01718 |  0:00:53s\n",
      "epoch 70 | loss: 0.0149  | val_logits_ll: 0.01719 |  0:01:01s\n",
      "\n",
      "Early stopping occured at epoch 76 with best_epoch = 56 and best_val_logits_ll = 0.01694\n",
      "Best weights from best epoch are automatically used!\n",
      "OOF log loss: 0.01689155228376453\n",
      "Overall AUC : 0.7452451296934566\n",
      "FOLDS :  1\n",
      "Device used : cuda\n",
      "epoch 0  | loss: 0.44344 | val_logits_ll: 0.15177 |  0:00:01s\n",
      "epoch 10 | loss: 0.01925 | val_logits_ll: 0.0193  |  0:00:09s\n",
      "epoch 20 | loss: 0.01733 | val_logits_ll: 0.01829 |  0:00:18s\n",
      "epoch 30 | loss: 0.01662 | val_logits_ll: 0.01747 |  0:00:26s\n",
      "epoch 40 | loss: 0.01602 | val_logits_ll: 0.01708 |  0:00:35s\n",
      "epoch 50 | loss: 0.01554 | val_logits_ll: 0.01734 |  0:00:44s\n",
      "epoch 60 | loss: 0.01514 | val_logits_ll: 0.01696 |  0:00:52s\n",
      "epoch 70 | loss: 0.01444 | val_logits_ll: 0.01747 |  0:01:01s\n",
      "\n",
      "Early stopping occured at epoch 74 with best_epoch = 54 and best_val_logits_ll = 0.01689\n",
      "Best weights from best epoch are automatically used!\n",
      "FOLDS :  2\n",
      "Device used : cuda\n",
      "epoch 0  | loss: 0.44169 | val_logits_ll: 0.14659 |  0:00:00s\n",
      "epoch 10 | loss: 0.01892 | val_logits_ll: 0.01953 |  0:00:09s\n",
      "epoch 20 | loss: 0.0172  | val_logits_ll: 0.01833 |  0:00:18s\n",
      "epoch 30 | loss: 0.01637 | val_logits_ll: 0.01736 |  0:00:27s\n",
      "epoch 40 | loss: 0.0158  | val_logits_ll: 0.0178  |  0:00:36s\n",
      "epoch 50 | loss: 0.0152  | val_logits_ll: 0.01722 |  0:00:44s\n",
      "epoch 60 | loss: 0.015   | val_logits_ll: 0.01706 |  0:00:53s\n",
      "epoch 70 | loss: 0.01468 | val_logits_ll: 0.01722 |  0:01:01s\n",
      "\n",
      "Early stopping occured at epoch 72 with best_epoch = 52 and best_val_logits_ll = 0.01692\n",
      "Best weights from best epoch are automatically used!\n",
      "FOLDS :  3\n",
      "Device used : cuda\n",
      "epoch 0  | loss: 0.44322 | val_logits_ll: 0.14496 |  0:00:00s\n",
      "epoch 10 | loss: 0.01921 | val_logits_ll: 0.0203  |  0:00:09s\n",
      "epoch 20 | loss: 0.01713 | val_logits_ll: 0.0184  |  0:00:18s\n",
      "epoch 30 | loss: 0.0163  | val_logits_ll: 0.01782 |  0:00:26s\n",
      "epoch 40 | loss: 0.01576 | val_logits_ll: 0.01808 |  0:00:35s\n",
      "epoch 50 | loss: 0.01539 | val_logits_ll: 0.01712 |  0:00:44s\n",
      "epoch 60 | loss: 0.01494 | val_logits_ll: 0.01742 |  0:00:52s\n",
      "\n",
      "Early stopping occured at epoch 64 with best_epoch = 44 and best_val_logits_ll = 0.01701\n",
      "Best weights from best epoch are automatically used!\n",
      "FOLDS :  4\n",
      "Device used : cuda\n",
      "epoch 0  | loss: 0.44208 | val_logits_ll: 0.14815 |  0:00:00s\n",
      "epoch 10 | loss: 0.0192  | val_logits_ll: 0.01927 |  0:00:09s\n",
      "epoch 20 | loss: 0.01746 | val_logits_ll: 0.01772 |  0:00:17s\n",
      "epoch 30 | loss: 0.01656 | val_logits_ll: 0.01727 |  0:00:26s\n",
      "epoch 40 | loss: 0.016   | val_logits_ll: 0.0171  |  0:00:35s\n",
      "epoch 50 | loss: 0.01574 | val_logits_ll: 0.0173  |  0:00:43s\n",
      "epoch 60 | loss: 0.01536 | val_logits_ll: 0.01714 |  0:00:52s\n",
      "epoch 70 | loss: 0.01477 | val_logits_ll: 0.01733 |  0:01:00s\n",
      "\n",
      "Early stopping occured at epoch 75 with best_epoch = 55 and best_val_logits_ll = 0.01687\n",
      "Best weights from best epoch are automatically used!\n",
      "FOLDS :  5\n",
      "Device used : cuda\n",
      "epoch 0  | loss: 0.4367  | val_logits_ll: 0.13967 |  0:00:00s\n",
      "epoch 10 | loss: 0.01912 | val_logits_ll: 0.01928 |  0:00:09s\n",
      "epoch 20 | loss: 0.01723 | val_logits_ll: 0.01788 |  0:00:17s\n",
      "epoch 30 | loss: 0.01667 | val_logits_ll: 0.01746 |  0:00:27s\n",
      "epoch 40 | loss: 0.01617 | val_logits_ll: 0.01713 |  0:00:35s\n",
      "epoch 50 | loss: 0.01588 | val_logits_ll: 0.01761 |  0:00:43s\n",
      "epoch 60 | loss: 0.01577 | val_logits_ll: 0.01687 |  0:00:52s\n",
      "epoch 70 | loss: 0.01537 | val_logits_ll: 0.01767 |  0:01:00s\n",
      "epoch 80 | loss: 0.0153  | val_logits_ll: 0.01689 |  0:01:08s\n",
      "epoch 90 | loss: 0.01459 | val_logits_ll: 0.01682 |  0:01:16s\n",
      "\n",
      "Early stopping occured at epoch 95 with best_epoch = 75 and best_val_logits_ll = 0.01671\n",
      "Best weights from best epoch are automatically used!\n",
      "OOF log loss: 0.01687899908220368\n",
      "Overall AUC : 0.7449691778776594\n",
      "FOLDS :  1\n",
      "Device used : cuda\n",
      "epoch 0  | loss: 0.47021 | val_logits_ll: 0.18315 |  0:00:00s\n",
      "epoch 10 | loss: 0.01918 | val_logits_ll: 0.01924 |  0:00:09s\n",
      "epoch 20 | loss: 0.01739 | val_logits_ll: 0.01801 |  0:00:17s\n",
      "epoch 30 | loss: 0.01679 | val_logits_ll: 0.01736 |  0:00:26s\n",
      "epoch 40 | loss: 0.01605 | val_logits_ll: 0.0183  |  0:00:34s\n",
      "epoch 50 | loss: 0.01581 | val_logits_ll: 0.01695 |  0:00:43s\n",
      "epoch 60 | loss: 0.01551 | val_logits_ll: 0.01689 |  0:00:51s\n",
      "epoch 70 | loss: 0.01525 | val_logits_ll: 0.01702 |  0:01:01s\n",
      "epoch 80 | loss: 0.01493 | val_logits_ll: 0.01711 |  0:01:10s\n",
      "\n",
      "Early stopping occured at epoch 83 with best_epoch = 63 and best_val_logits_ll = 0.01662\n",
      "Best weights from best epoch are automatically used!\n",
      "FOLDS :  2\n",
      "Device used : cuda\n",
      "epoch 0  | loss: 0.4721  | val_logits_ll: 0.18773 |  0:00:00s\n",
      "epoch 10 | loss: 0.01907 | val_logits_ll: 0.01938 |  0:00:09s\n",
      "epoch 20 | loss: 0.01727 | val_logits_ll: 0.02044 |  0:00:18s\n",
      "epoch 30 | loss: 0.01654 | val_logits_ll: 0.01827 |  0:00:26s\n",
      "epoch 40 | loss: 0.01596 | val_logits_ll: 0.01776 |  0:00:35s\n",
      "epoch 50 | loss: 0.0154  | val_logits_ll: 0.0174  |  0:00:45s\n",
      "epoch 60 | loss: 0.01491 | val_logits_ll: 0.01727 |  0:00:54s\n",
      "epoch 70 | loss: 0.01436 | val_logits_ll: 0.0174  |  0:01:02s\n",
      "\n",
      "Early stopping occured at epoch 74 with best_epoch = 54 and best_val_logits_ll = 0.01719\n",
      "Best weights from best epoch are automatically used!\n",
      "FOLDS :  3\n",
      "Device used : cuda\n",
      "epoch 0  | loss: 0.47379 | val_logits_ll: 0.17655 |  0:00:00s\n",
      "epoch 10 | loss: 0.01927 | val_logits_ll: 0.01939 |  0:00:09s\n",
      "epoch 20 | loss: 0.0175  | val_logits_ll: 0.0195  |  0:00:18s\n",
      "epoch 30 | loss: 0.01668 | val_logits_ll: 0.01868 |  0:00:26s\n",
      "epoch 40 | loss: 0.01599 | val_logits_ll: 0.01737 |  0:00:35s\n",
      "epoch 50 | loss: 0.01562 | val_logits_ll: 0.0171  |  0:00:44s\n",
      "epoch 60 | loss: 0.01517 | val_logits_ll: 0.0174  |  0:00:53s\n",
      "epoch 70 | loss: 0.01452 | val_logits_ll: 0.01723 |  0:01:02s\n",
      "\n",
      "Early stopping occured at epoch 78 with best_epoch = 58 and best_val_logits_ll = 0.01706\n",
      "Best weights from best epoch are automatically used!\n",
      "FOLDS :  4\n",
      "Device used : cuda\n",
      "epoch 0  | loss: 0.47449 | val_logits_ll: 0.18264 |  0:00:00s\n",
      "epoch 10 | loss: 0.01983 | val_logits_ll: 0.01979 |  0:00:09s\n",
      "epoch 20 | loss: 0.01734 | val_logits_ll: 0.01802 |  0:00:18s\n",
      "epoch 30 | loss: 0.01665 | val_logits_ll: 0.01753 |  0:00:27s\n",
      "epoch 40 | loss: 0.01607 | val_logits_ll: 0.01733 |  0:00:36s\n",
      "epoch 50 | loss: 0.01552 | val_logits_ll: 0.01764 |  0:00:45s\n",
      "epoch 60 | loss: 0.01504 | val_logits_ll: 0.01746 |  0:00:54s\n",
      "epoch 70 | loss: 0.01462 | val_logits_ll: 0.01726 |  0:01:02s\n",
      "epoch 80 | loss: 0.01391 | val_logits_ll: 0.01753 |  0:01:11s\n",
      "\n",
      "Early stopping occured at epoch 81 with best_epoch = 61 and best_val_logits_ll = 0.0169\n",
      "Best weights from best epoch are automatically used!\n",
      "FOLDS :  5\n",
      "Device used : cuda\n",
      "epoch 0  | loss: 0.47568 | val_logits_ll: 0.1844  |  0:00:00s\n",
      "epoch 10 | loss: 0.01929 | val_logits_ll: 0.01974 |  0:00:10s\n",
      "epoch 20 | loss: 0.01718 | val_logits_ll: 0.01788 |  0:00:19s\n",
      "epoch 30 | loss: 0.01636 | val_logits_ll: 0.01744 |  0:00:28s\n",
      "epoch 40 | loss: 0.01591 | val_logits_ll: 0.01741 |  0:00:36s\n",
      "epoch 50 | loss: 0.01576 | val_logits_ll: 0.01704 |  0:00:45s\n",
      "epoch 60 | loss: 0.01544 | val_logits_ll: 0.01728 |  0:00:53s\n",
      "epoch 70 | loss: 0.01495 | val_logits_ll: 0.0171  |  0:01:02s\n",
      "\n",
      "Early stopping occured at epoch 75 with best_epoch = 55 and best_val_logits_ll = 0.01695\n",
      "Best weights from best epoch are automatically used!\n",
      "OOF log loss: 0.0169437476086586\n",
      "Overall AUC : 0.743700749730341\n",
      "FOLDS :  1\n",
      "Device used : cuda\n",
      "epoch 0  | loss: 0.41479 | val_logits_ll: 0.12869 |  0:00:01s\n",
      "epoch 10 | loss: 0.01886 | val_logits_ll: 0.01937 |  0:00:09s\n",
      "epoch 20 | loss: 0.017   | val_logits_ll: 0.01787 |  0:00:18s\n",
      "epoch 30 | loss: 0.01641 | val_logits_ll: 0.01725 |  0:00:27s\n",
      "epoch 40 | loss: 0.01596 | val_logits_ll: 0.01701 |  0:00:36s\n",
      "epoch 50 | loss: 0.01576 | val_logits_ll: 0.01701 |  0:00:45s\n",
      "epoch 60 | loss: 0.01525 | val_logits_ll: 0.01694 |  0:00:53s\n",
      "epoch 70 | loss: 0.01498 | val_logits_ll: 0.01685 |  0:01:03s\n",
      "\n",
      "Early stopping occured at epoch 78 with best_epoch = 58 and best_val_logits_ll = 0.01668\n",
      "Best weights from best epoch are automatically used!\n",
      "FOLDS :  2\n",
      "Device used : cuda\n",
      "epoch 0  | loss: 0.41618 | val_logits_ll: 0.12792 |  0:00:00s\n",
      "epoch 10 | loss: 0.01912 | val_logits_ll: 0.0194  |  0:00:09s\n",
      "epoch 20 | loss: 0.01736 | val_logits_ll: 0.01811 |  0:00:18s\n",
      "epoch 30 | loss: 0.01652 | val_logits_ll: 0.01836 |  0:00:26s\n",
      "epoch 40 | loss: 0.01627 | val_logits_ll: 0.01765 |  0:00:35s\n",
      "epoch 50 | loss: 0.01562 | val_logits_ll: 0.01719 |  0:00:44s\n",
      "epoch 60 | loss: 0.0152  | val_logits_ll: 0.01719 |  0:00:54s\n",
      "\n",
      "Early stopping occured at epoch 69 with best_epoch = 49 and best_val_logits_ll = 0.01703\n",
      "Best weights from best epoch are automatically used!\n",
      "FOLDS :  3\n",
      "Device used : cuda\n",
      "epoch 0  | loss: 0.41159 | val_logits_ll: 0.13028 |  0:00:00s\n",
      "epoch 10 | loss: 0.01901 | val_logits_ll: 0.01927 |  0:00:09s\n",
      "epoch 20 | loss: 0.01737 | val_logits_ll: 0.01818 |  0:00:18s\n",
      "epoch 30 | loss: 0.01655 | val_logits_ll: 0.01751 |  0:00:27s\n",
      "epoch 40 | loss: 0.01624 | val_logits_ll: 0.01761 |  0:00:36s\n",
      "epoch 50 | loss: 0.01556 | val_logits_ll: 0.01909 |  0:00:45s\n",
      "epoch 60 | loss: 0.01512 | val_logits_ll: 0.01722 |  0:00:54s\n",
      "\n",
      "Early stopping occured at epoch 64 with best_epoch = 44 and best_val_logits_ll = 0.01715\n",
      "Best weights from best epoch are automatically used!\n",
      "FOLDS :  4\n",
      "Device used : cuda\n",
      "epoch 0  | loss: 0.41167 | val_logits_ll: 0.12723 |  0:00:00s\n",
      "epoch 10 | loss: 0.01916 | val_logits_ll: 0.01923 |  0:00:10s\n",
      "epoch 20 | loss: 0.01719 | val_logits_ll: 0.01779 |  0:00:19s\n",
      "epoch 30 | loss: 0.01684 | val_logits_ll: 0.01777 |  0:00:27s\n",
      "epoch 40 | loss: 0.01626 | val_logits_ll: 0.01711 |  0:00:36s\n",
      "epoch 50 | loss: 0.01588 | val_logits_ll: 0.01724 |  0:00:46s\n",
      "epoch 60 | loss: 0.01544 | val_logits_ll: 0.01676 |  0:00:55s\n",
      "epoch 70 | loss: 0.01526 | val_logits_ll: 0.01704 |  0:01:04s\n",
      "epoch 80 | loss: 0.01477 | val_logits_ll: 0.01712 |  0:01:13s\n",
      "\n",
      "Early stopping occured at epoch 83 with best_epoch = 63 and best_val_logits_ll = 0.01674\n",
      "Best weights from best epoch are automatically used!\n",
      "FOLDS :  5\n",
      "Device used : cuda\n",
      "epoch 0  | loss: 0.41387 | val_logits_ll: 0.13048 |  0:00:00s\n",
      "epoch 10 | loss: 0.01953 | val_logits_ll: 0.01961 |  0:00:09s\n",
      "epoch 20 | loss: 0.01737 | val_logits_ll: 0.01836 |  0:00:18s\n",
      "epoch 30 | loss: 0.01638 | val_logits_ll: 0.01748 |  0:00:27s\n",
      "epoch 40 | loss: 0.01612 | val_logits_ll: 0.01776 |  0:00:36s\n",
      "epoch 50 | loss: 0.01568 | val_logits_ll: 0.01714 |  0:00:45s\n",
      "epoch 60 | loss: 0.01511 | val_logits_ll: 0.01721 |  0:00:54s\n",
      "\n",
      "Early stopping occured at epoch 62 with best_epoch = 42 and best_val_logits_ll = 0.01693\n",
      "Best weights from best epoch are automatically used!\n",
      "OOF log loss: 0.01690659035499737\n",
      "Overall AUC : 0.7395636955438584\n",
      "FOLDS :  1\n",
      "Device used : cuda\n",
      "epoch 0  | loss: 0.45754 | val_logits_ll: 0.16673 |  0:00:00s\n",
      "epoch 10 | loss: 0.01948 | val_logits_ll: 0.01959 |  0:00:09s\n",
      "epoch 20 | loss: 0.01736 | val_logits_ll: 0.01806 |  0:00:17s\n",
      "epoch 30 | loss: 0.01656 | val_logits_ll: 0.01851 |  0:00:27s\n",
      "epoch 40 | loss: 0.01591 | val_logits_ll: 0.01736 |  0:00:37s\n",
      "epoch 50 | loss: 0.01585 | val_logits_ll: 0.01729 |  0:00:45s\n",
      "epoch 60 | loss: 0.01549 | val_logits_ll: 0.01701 |  0:00:54s\n",
      "epoch 70 | loss: 0.01509 | val_logits_ll: 0.01715 |  0:01:03s\n",
      "epoch 80 | loss: 0.01452 | val_logits_ll: 0.01694 |  0:01:12s\n",
      "\n",
      "Early stopping occured at epoch 87 with best_epoch = 67 and best_val_logits_ll = 0.0168\n",
      "Best weights from best epoch are automatically used!\n",
      "FOLDS :  2\n",
      "Device used : cuda\n",
      "epoch 0  | loss: 0.4607  | val_logits_ll: 0.16014 |  0:00:00s\n",
      "epoch 10 | loss: 0.01944 | val_logits_ll: 0.01959 |  0:00:10s\n",
      "epoch 20 | loss: 0.01737 | val_logits_ll: 0.01833 |  0:00:20s\n",
      "epoch 30 | loss: 0.0164  | val_logits_ll: 0.02044 |  0:00:29s\n",
      "epoch 40 | loss: 0.01596 | val_logits_ll: 0.01749 |  0:00:37s\n",
      "epoch 50 | loss: 0.01566 | val_logits_ll: 0.01708 |  0:00:46s\n",
      "epoch 60 | loss: 0.01496 | val_logits_ll: 0.01728 |  0:00:55s\n",
      "\n",
      "Early stopping occured at epoch 65 with best_epoch = 45 and best_val_logits_ll = 0.01701\n",
      "Best weights from best epoch are automatically used!\n",
      "FOLDS :  3\n",
      "Device used : cuda\n",
      "epoch 0  | loss: 0.45897 | val_logits_ll: 0.16908 |  0:00:00s\n",
      "epoch 10 | loss: 0.01912 | val_logits_ll: 0.01953 |  0:00:10s\n",
      "epoch 20 | loss: 0.01709 | val_logits_ll: 0.0183  |  0:00:19s\n",
      "epoch 30 | loss: 0.01616 | val_logits_ll: 0.01739 |  0:00:28s\n",
      "epoch 40 | loss: 0.01592 | val_logits_ll: 0.01726 |  0:00:37s\n",
      "epoch 50 | loss: 0.01544 | val_logits_ll: 0.01768 |  0:00:46s\n",
      "epoch 60 | loss: 0.01528 | val_logits_ll: 0.01713 |  0:00:54s\n",
      "epoch 70 | loss: 0.01473 | val_logits_ll: 0.01741 |  0:01:04s\n",
      "epoch 80 | loss: 0.01438 | val_logits_ll: 0.01706 |  0:01:13s\n",
      "\n",
      "Early stopping occured at epoch 81 with best_epoch = 61 and best_val_logits_ll = 0.0169\n",
      "Best weights from best epoch are automatically used!\n",
      "FOLDS :  4\n",
      "Device used : cuda\n",
      "epoch 0  | loss: 0.45412 | val_logits_ll: 0.15537 |  0:00:00s\n",
      "epoch 10 | loss: 0.01962 | val_logits_ll: 0.01965 |  0:00:09s\n",
      "epoch 20 | loss: 0.01726 | val_logits_ll: 0.01814 |  0:00:18s\n",
      "epoch 30 | loss: 0.01619 | val_logits_ll: 0.01807 |  0:00:27s\n",
      "epoch 40 | loss: 0.01596 | val_logits_ll: 0.01731 |  0:00:36s\n",
      "epoch 50 | loss: 0.01536 | val_logits_ll: 0.01702 |  0:00:44s\n",
      "epoch 60 | loss: 0.0149  | val_logits_ll: 0.01717 |  0:00:54s\n",
      "epoch 70 | loss: 0.01421 | val_logits_ll: 0.01728 |  0:01:03s\n",
      "\n",
      "Early stopping occured at epoch 70 with best_epoch = 50 and best_val_logits_ll = 0.01702\n",
      "Best weights from best epoch are automatically used!\n",
      "FOLDS :  5\n",
      "Device used : cuda\n",
      "epoch 0  | loss: 0.45846 | val_logits_ll: 0.16316 |  0:00:00s\n",
      "epoch 10 | loss: 0.01955 | val_logits_ll: 0.01989 |  0:00:09s\n",
      "epoch 20 | loss: 0.01725 | val_logits_ll: 0.01816 |  0:00:19s\n",
      "epoch 30 | loss: 0.01648 | val_logits_ll: 0.0179  |  0:00:27s\n",
      "epoch 40 | loss: 0.01558 | val_logits_ll: 0.0172  |  0:00:36s\n",
      "epoch 50 | loss: 0.01513 | val_logits_ll: 0.01712 |  0:00:45s\n",
      "epoch 60 | loss: 0.01451 | val_logits_ll: 0.01725 |  0:00:55s\n",
      "\n",
      "Early stopping occured at epoch 65 with best_epoch = 45 and best_val_logits_ll = 0.01704\n",
      "Best weights from best epoch are automatically used!\n",
      "OOF log loss: 0.01695400363675676\n",
      "Overall AUC : 0.7410319875537937\n"
     ]
    }
   ],
   "source": [
    "MAX_EPOCH=200\n",
    "\n",
    "smoothing = 0.001\n",
    "p_min = smoothing\n",
    "p_max = 1 - smoothing\n",
    "\n",
    "def seed_everything(seed_value):\n",
    "    random.seed(seed_value)\n",
    "    np.random.seed(seed_value)\n",
    "    torch.manual_seed(seed_value)\n",
    "    os.environ['PYTHONHASHSEED'] = str(seed_value)\n",
    "    \n",
    "    if torch.cuda.is_available(): \n",
    "        torch.cuda.manual_seed(seed_value)\n",
    "        torch.cuda.manual_seed_all(seed_value)\n",
    "        torch.backends.cudnn.deterministic = True\n",
    "        torch.backends.cudnn.benchmark = False\n",
    "\n",
    "def modelling_tabnet(tr, target, te, sample_seed):\n",
    "    seed_everything(sample_seed) \n",
    "    tabnet_params = dict(n_d=24, n_a=24, n_steps=1, gamma=1.5, seed = sample_seed,\n",
    "                     lambda_sparse=0, n_independent=1, n_shared=1, \n",
    "                     optimizer_fn=torch.optim.Adam,\n",
    "                     optimizer_params=dict(lr=2e-2, weight_decay=1e-5),\n",
    "                     mask_type='entmax',\n",
    "                     scheduler_params=dict(mode=\"min\",\n",
    "                                           patience=5,\n",
    "                                           min_lr=1e-5,\n",
    "                                           factor=0.9,),\n",
    "                     scheduler_fn=torch.optim.lr_scheduler.ReduceLROnPlateau,\n",
    "                     verbose=10,\n",
    "                     )\n",
    "    test_cv_preds = []\n",
    "\n",
    "    NB_SPLITS = 5\n",
    "    mskf = MultilabelStratifiedKFold(n_splits=NB_SPLITS, random_state=0, shuffle=True)\n",
    "    oof_preds = np.zeros([len(tr),target.shape[1]])\n",
    "    scores = []\n",
    "    for fold_nb, (train_idx, val_idx) in enumerate(mskf.split(train, target)):\n",
    "        print(\"FOLDS : \", fold_nb+1)\n",
    "\n",
    "        ## model\n",
    "        X_train, y_train = tr[train_idx, :], target[train_idx, :]\n",
    "        X_val, y_val = tr[val_idx, :], target[val_idx, :]\n",
    "        model = TabNetRegressor(**tabnet_params)\n",
    "    \n",
    "        model.fit(X_train=X_train,\n",
    "              y_train=y_train,\n",
    "              eval_set=[(X_val, y_val)],\n",
    "              eval_name = [\"val\"],\n",
    "              eval_metric = [\"logits_ll\"],\n",
    "              max_epochs=MAX_EPOCH,\n",
    "              patience=20, batch_size=1024, virtual_batch_size=128,\n",
    "              num_workers=1, drop_last=False,\n",
    "              # use binary cross entropy as this is not a regression problem\n",
    "              loss_fn=torch.nn.functional.binary_cross_entropy_with_logits)\n",
    "    \n",
    "        preds_val = model.predict(X_val)\n",
    "        # Apply sigmoid to the predictions\n",
    "        preds =  1 / (1 + np.exp(-preds_val))\n",
    "        score = np.min(model.history[\"val_logits_ll\"])\n",
    "        oof_preds[val_idx,:] = preds\n",
    "        #oof_preds[val_idx,:] = np.clip(preds, p_min, p_max)\n",
    "        scores.append(score)\n",
    "\n",
    "        # preds on test\n",
    "        preds_test = model.predict(te)\n",
    "        test_cv_preds.append(1 / (1 + np.exp(-preds_test)))\n",
    "        #test_cv_preds.append(np.clip(1 / (1 + np.exp(-preds_test)), p_min, p_max))\n",
    "        \n",
    "    test_preds_all = np.stack(test_cv_preds)\n",
    "    print(\"OOF log loss:\", log_loss(np.ravel(target), np.ravel(np.array(oof_preds))))\n",
    "    aucs = []\n",
    "    for task_id in range(206):\n",
    "        aucs.append(roc_auc_score(y_true=target[:, task_id],y_score=oof_preds[:, task_id]))\n",
    "    print(f\"Overall AUC : {np.mean(aucs)}\")\n",
    "    return oof_preds, test_preds_all\n",
    "\n",
    "target_oof = np.zeros([len(fn_train),fn_targets.shape[1]])\n",
    "target_pred = np.zeros([len(fn_test),fn_targets.shape[1]])\n",
    "\n",
    "seeds = [0,1,2,3,4]\n",
    "for seed_ in seeds:\n",
    "    oof_preds, test_preds_all = modelling_tabnet(fn_train, fn_targets, fn_test, seed_)\n",
    "    target_oof += oof_preds / len(seeds)\n",
    "    target_pred += test_preds_all.mean(axis=0) / len(seeds)"
   ]
  },
  {
   "cell_type": "code",
   "execution_count": 18,
   "metadata": {
    "execution": {
     "iopub.execute_input": "2020-11-02T03:23:59.677775Z",
     "iopub.status.busy": "2020-11-02T03:23:59.676832Z",
     "iopub.status.idle": "2020-11-02T03:24:00.923259Z",
     "shell.execute_reply": "2020-11-02T03:24:00.923926Z"
    },
    "papermill": {
     "duration": 1.371648,
     "end_time": "2020-11-02T03:24:00.924110",
     "exception": false,
     "start_time": "2020-11-02T03:23:59.552462",
     "status": "completed"
    },
    "tags": []
   },
   "outputs": [
    {
     "name": "stdout",
     "output_type": "stream",
     "text": [
      "Overall AUC : 0.7788180462379739\n"
     ]
    }
   ],
   "source": [
    "aucs = []\n",
    "for task_id in range(targets.shape[1]-1):\n",
    "    aucs.append(roc_auc_score(y_true=targets.iloc[:, task_id+1].values,\n",
    "                              y_score=target_oof[:, task_id]))\n",
    "print(f\"Overall AUC : {np.mean(aucs)}\")"
   ]
  },
  {
   "cell_type": "code",
   "execution_count": 19,
   "metadata": {
    "execution": {
     "iopub.execute_input": "2020-11-02T03:24:01.167793Z",
     "iopub.status.busy": "2020-11-02T03:24:01.166889Z",
     "iopub.status.idle": "2020-11-02T03:24:07.310651Z",
     "shell.execute_reply": "2020-11-02T03:24:07.309966Z"
    },
    "papermill": {
     "duration": 6.272137,
     "end_time": "2020-11-02T03:24:07.310809",
     "exception": false,
     "start_time": "2020-11-02T03:24:01.038672",
     "status": "completed"
    },
    "tags": []
   },
   "outputs": [
    {
     "name": "stdout",
     "output_type": "stream",
     "text": [
      "OOF log loss:  0.014947202730287188\n"
     ]
    }
   ],
   "source": [
    "t = pd.read_csv(DATA_DIR + 'train_targets_scored.csv')\n",
    "train_checkscore = t.copy()\n",
    "train_checkscore.loc[train_checkscore.index.isin(cons_train_index),target_feats] = target_oof\n",
    "train_checkscore.loc[train_checkscore.index.isin(noncons_train_index),target_feats] = 0\n",
    "\n",
    "t.drop(\"sig_id\", axis=1, inplace=True)\n",
    "print('OOF log loss: ', log_loss(np.ravel(t), np.ravel(np.array(train_checkscore.iloc[:,1:]))))"
   ]
  },
  {
   "cell_type": "code",
   "execution_count": 20,
   "metadata": {
    "execution": {
     "iopub.execute_input": "2020-11-02T03:24:07.551028Z",
     "iopub.status.busy": "2020-11-02T03:24:07.550116Z",
     "iopub.status.idle": "2020-11-02T03:24:10.014570Z",
     "shell.execute_reply": "2020-11-02T03:24:10.013917Z"
    },
    "papermill": {
     "duration": 2.587186,
     "end_time": "2020-11-02T03:24:10.014701",
     "exception": false,
     "start_time": "2020-11-02T03:24:07.427515",
     "status": "completed"
    },
    "tags": []
   },
   "outputs": [],
   "source": [
    "sub[target_feats] = target_pred\n",
    "sub.loc[noncons_test_index,target_feats] = 0\n",
    "sub.to_csv('submission.csv', index=False)"
   ]
  },
  {
   "cell_type": "code",
   "execution_count": null,
   "metadata": {
    "papermill": {
     "duration": 0.118284,
     "end_time": "2020-11-02T03:24:10.254442",
     "exception": false,
     "start_time": "2020-11-02T03:24:10.136158",
     "status": "completed"
    },
    "tags": []
   },
   "outputs": [],
   "source": []
  }
 ],
 "metadata": {
  "kernelspec": {
   "display_name": "Python 3",
   "language": "python",
   "name": "python3"
  },
  "language_info": {
   "codemirror_mode": {
    "name": "ipython",
    "version": 3
   },
   "file_extension": ".py",
   "mimetype": "text/x-python",
   "name": "python",
   "nbconvert_exporter": "python",
   "pygments_lexer": "ipython3",
   "version": "3.7.6"
  },
  "papermill": {
   "duration": 1775.392888,
   "end_time": "2020-11-02T03:24:10.985047",
   "environment_variables": {},
   "exception": null,
   "input_path": "__notebook__.ipynb",
   "output_path": "__notebook__.ipynb",
   "parameters": {},
   "start_time": "2020-11-02T02:54:35.592159",
   "version": "2.1.0"
  }
 },
 "nbformat": 4,
 "nbformat_minor": 4
}
