{
 "cells": [
  {
   "cell_type": "markdown",
   "metadata": {
    "papermill": {
     "duration": 0.013957,
     "end_time": "2020-10-18T03:55:27.080708",
     "exception": false,
     "start_time": "2020-10-18T03:55:27.066751",
     "status": "completed"
    },
    "tags": []
   },
   "source": [
    "- credit: https://www.kaggle.com/optimo/tabnetregressor-2-0-train-infer/data\n",
    "- https://github.com/dreamquark-ai/tabnet\n",
    "- cancel robust scaler\n",
    "- add one model to ensemble"
   ]
  },
  {
   "cell_type": "code",
   "execution_count": 1,
   "metadata": {
    "execution": {
     "iopub.execute_input": "2020-10-18T03:55:27.112019Z",
     "iopub.status.busy": "2020-10-18T03:55:27.111176Z",
     "iopub.status.idle": "2020-10-18T03:55:35.966010Z",
     "shell.execute_reply": "2020-10-18T03:55:35.964919Z"
    },
    "papermill": {
     "duration": 8.872524,
     "end_time": "2020-10-18T03:55:35.966141",
     "exception": false,
     "start_time": "2020-10-18T03:55:27.093617",
     "status": "completed"
    },
    "tags": []
   },
   "outputs": [
    {
     "name": "stdout",
     "output_type": "stream",
     "text": [
      "Looking in links: /kaggle/input/pytorchtabnet/pytorch_tabnet-2.0.0-py3-none-any.whl\r\n",
      "Processing /kaggle/input/pytorchtabnet/pytorch_tabnet-2.0.0-py3-none-any.whl\r\n",
      "Requirement already satisfied: tqdm<5.0,>=4.36 in /opt/conda/lib/python3.7/site-packages (from pytorch-tabnet) (4.45.0)\r\n",
      "Requirement already satisfied: numpy<2.0,>=1.17 in /opt/conda/lib/python3.7/site-packages (from pytorch-tabnet) (1.18.5)\r\n",
      "Requirement already satisfied: torch<2.0,>=1.2 in /opt/conda/lib/python3.7/site-packages (from pytorch-tabnet) (1.6.0)\r\n",
      "Requirement already satisfied: scikit_learn>0.21 in /opt/conda/lib/python3.7/site-packages (from pytorch-tabnet) (0.23.2)\r\n",
      "Requirement already satisfied: scipy>1.4 in /opt/conda/lib/python3.7/site-packages (from pytorch-tabnet) (1.4.1)\r\n",
      "Requirement already satisfied: future in /opt/conda/lib/python3.7/site-packages (from torch<2.0,>=1.2->pytorch-tabnet) (0.18.2)\r\n",
      "Requirement already satisfied: threadpoolctl>=2.0.0 in /opt/conda/lib/python3.7/site-packages (from scikit_learn>0.21->pytorch-tabnet) (2.1.0)\r\n",
      "Requirement already satisfied: joblib>=0.11 in /opt/conda/lib/python3.7/site-packages (from scikit_learn>0.21->pytorch-tabnet) (0.14.1)\r\n",
      "Installing collected packages: pytorch-tabnet\r\n",
      "Successfully installed pytorch-tabnet-2.0.0\r\n"
     ]
    }
   ],
   "source": [
    "!pip install --no-index --find-links /kaggle/input/pytorchtabnet/pytorch_tabnet-2.0.0-py3-none-any.whl pytorch-tabnet"
   ]
  },
  {
   "cell_type": "code",
   "execution_count": 2,
   "metadata": {
    "_cell_guid": "b1076dfc-b9ad-4769-8c92-a6c4dae69d19",
    "_uuid": "8f2839f25d086af736a60e9eeb907d3b93b6e0e5",
    "execution": {
     "iopub.execute_input": "2020-10-18T03:55:36.008186Z",
     "iopub.status.busy": "2020-10-18T03:55:36.007293Z",
     "iopub.status.idle": "2020-10-18T03:55:43.270636Z",
     "shell.execute_reply": "2020-10-18T03:55:43.270016Z"
    },
    "papermill": {
     "duration": 7.288497,
     "end_time": "2020-10-18T03:55:43.270776",
     "exception": false,
     "start_time": "2020-10-18T03:55:35.982279",
     "status": "completed"
    },
    "tags": []
   },
   "outputs": [],
   "source": [
    "import os\n",
    "import sys\n",
    "import random\n",
    "import warnings\n",
    "import numpy as np\n",
    "import pandas as pd \n",
    "from sklearn import preprocessing\n",
    "from sklearn.metrics import log_loss,roc_auc_score\n",
    "from sklearn.decomposition import PCA\n",
    "from tqdm import tqdm_notebook as tqdm\n",
    "from sklearn.cluster import KMeans\n",
    "from sklearn.multioutput import MultiOutputClassifier\n",
    "from sklearn.feature_selection import VarianceThreshold\n",
    "\n",
    "from pytorch_tabnet.metrics import Metric\n",
    "from pytorch_tabnet.tab_model import TabNetRegressor\n",
    "\n",
    "sys.path.append('../input/multilabelstraifier/')\n",
    "from ml_stratifiers import MultilabelStratifiedKFold\n",
    "warnings.filterwarnings('ignore')\n",
    "\n",
    "import time\n",
    "import torch\n",
    "import torch.nn as nn\n",
    "import torch.optim as optim\n",
    "import torch.nn.functional as F\n",
    "import tensorflow as tf"
   ]
  },
  {
   "cell_type": "code",
   "execution_count": 3,
   "metadata": {
    "execution": {
     "iopub.execute_input": "2020-10-18T03:55:43.308830Z",
     "iopub.status.busy": "2020-10-18T03:55:43.308191Z",
     "iopub.status.idle": "2020-10-18T03:55:50.710618Z",
     "shell.execute_reply": "2020-10-18T03:55:50.709904Z"
    },
    "papermill": {
     "duration": 7.424179,
     "end_time": "2020-10-18T03:55:50.710756",
     "exception": false,
     "start_time": "2020-10-18T03:55:43.286577",
     "status": "completed"
    },
    "tags": []
   },
   "outputs": [],
   "source": [
    "DATA_DIR = '/kaggle/input/lish-moa/'\n",
    "train = pd.read_csv(DATA_DIR + 'train_features.csv')\n",
    "targets = pd.read_csv(DATA_DIR + 'train_targets_scored.csv')\n",
    "non_targets = pd.read_csv(DATA_DIR + 'train_targets_nonscored.csv')\n",
    "test = pd.read_csv(DATA_DIR + 'test_features.csv')\n",
    "sub = pd.read_csv(DATA_DIR + 'sample_submission.csv')"
   ]
  },
  {
   "cell_type": "code",
   "execution_count": 4,
   "metadata": {
    "execution": {
     "iopub.execute_input": "2020-10-18T03:55:50.758069Z",
     "iopub.status.busy": "2020-10-18T03:55:50.757246Z",
     "iopub.status.idle": "2020-10-18T03:55:50.851035Z",
     "shell.execute_reply": "2020-10-18T03:55:50.850429Z"
    },
    "papermill": {
     "duration": 0.123198,
     "end_time": "2020-10-18T03:55:50.851145",
     "exception": false,
     "start_time": "2020-10-18T03:55:50.727947",
     "status": "completed"
    },
    "tags": []
   },
   "outputs": [],
   "source": [
    "target_feats = [ i for i in targets.columns if i != \"sig_id\"]\n",
    "g_feats = [i for i in train.columns if \"g-\" in i]\n",
    "c_feats = [i for i in train.columns if \"c-\" in i]\n",
    "\n",
    "noncons_train_index = train[train.cp_type==\"ctl_vehicle\"].index\n",
    "cons_train_index = train[~train.index.isin(noncons_train_index)].index\n",
    "noncons_test_index = test[test.cp_type==\"ctl_vehicle\"].index\n",
    "cons_test_index = test[test.cp_type!=\"ctl_vehicle\"].index"
   ]
  },
  {
   "cell_type": "markdown",
   "metadata": {
    "papermill": {
     "duration": 0.016176,
     "end_time": "2020-10-18T03:55:50.888305",
     "exception": false,
     "start_time": "2020-10-18T03:55:50.872129",
     "status": "completed"
    },
    "tags": []
   },
   "source": [
    "# preprocess"
   ]
  },
  {
   "cell_type": "code",
   "execution_count": 5,
   "metadata": {
    "execution": {
     "iopub.execute_input": "2020-10-18T03:55:50.938098Z",
     "iopub.status.busy": "2020-10-18T03:55:50.937045Z",
     "iopub.status.idle": "2020-10-18T03:55:51.330887Z",
     "shell.execute_reply": "2020-10-18T03:55:51.330047Z"
    },
    "papermill": {
     "duration": 0.427352,
     "end_time": "2020-10-18T03:55:51.331005",
     "exception": false,
     "start_time": "2020-10-18T03:55:50.903653",
     "status": "completed"
    },
    "tags": []
   },
   "outputs": [
    {
     "name": "stdout",
     "output_type": "stream",
     "text": [
      "first drop 71\n",
      "shape after 1st drop: (21948, 332)\n",
      "331\n"
     ]
    }
   ],
   "source": [
    "train = train[train.index.isin(cons_train_index)].copy().reset_index(drop=True)\n",
    "targets = targets[targets.index.isin(cons_train_index)].copy().reset_index(drop=True)\n",
    "non_targets = non_targets[non_targets.index.isin(cons_train_index)].copy().reset_index(drop=True)\n",
    "\n",
    "non_target_feats = [i for i in non_targets.columns if i != \"sig_id\"]\n",
    "nontarget_dists = pd.DataFrame(np.sum(non_targets[non_target_feats])).reset_index(drop=False)\n",
    "nontarget_dists.columns = [\"target\", \"number\"]\n",
    "nontarget_dists = nontarget_dists.sort_values(\"number\", ascending=False).reset_index(drop=True)\n",
    "drop_list1 = list(nontarget_dists[nontarget_dists.number==0][\"target\"].values)\n",
    "print(\"first drop\", len(drop_list1))\n",
    "non_targets.drop(drop_list1, axis=1, inplace=True)\n",
    "print(\"shape after 1st drop:\", non_targets.shape)\n",
    "non_target_feats = [i for i in non_targets.columns if i != \"sig_id\"]\n",
    "print(len(non_target_feats))"
   ]
  },
  {
   "cell_type": "markdown",
   "metadata": {
    "papermill": {
     "duration": 0.015631,
     "end_time": "2020-10-18T03:55:51.362522",
     "exception": false,
     "start_time": "2020-10-18T03:55:51.346891",
     "status": "completed"
    },
    "tags": []
   },
   "source": [
    "# feature engineering"
   ]
  },
  {
   "cell_type": "code",
   "execution_count": 6,
   "metadata": {
    "execution": {
     "iopub.execute_input": "2020-10-18T03:55:51.406439Z",
     "iopub.status.busy": "2020-10-18T03:55:51.404416Z",
     "iopub.status.idle": "2020-10-18T03:55:51.407294Z",
     "shell.execute_reply": "2020-10-18T03:55:51.407843Z"
    },
    "papermill": {
     "duration": 0.029622,
     "end_time": "2020-10-18T03:55:51.407965",
     "exception": false,
     "start_time": "2020-10-18T03:55:51.378343",
     "status": "completed"
    },
    "tags": []
   },
   "outputs": [],
   "source": [
    "n_clusters_g = 15\n",
    "n_clusters_c = 5\n",
    "def create_cluster(train, test, kind, n_clusters):\n",
    "    if kind == \"g\":\n",
    "        train_ = train[g_feats].copy()\n",
    "        test_ = test[g_feats].copy()\n",
    "    else:\n",
    "        train_ = train[c_feats].copy()\n",
    "        test_ = test[c_feats].copy()    \n",
    "    kmeans = KMeans(n_clusters = n_clusters, random_state = 0).fit(train_)\n",
    "    train[f'clusters_{kind}'] = kmeans.labels_\n",
    "    test[f'clusters_{kind}'] = kmeans.predict(test_)\n",
    "    train = pd.get_dummies(train, columns = [f'clusters_{kind}'])\n",
    "    test = pd.get_dummies(test, columns = [f'clusters_{kind}'])\n",
    "    return train, test\n",
    "    \n",
    "#train, test = create_cluster(train, test, kind = 'g', n_clusters = n_clusters_g)\n",
    "#train, test = create_cluster(train, test, kind = 'c', n_clusters = n_clusters_c)"
   ]
  },
  {
   "cell_type": "code",
   "execution_count": 7,
   "metadata": {
    "execution": {
     "iopub.execute_input": "2020-10-18T03:55:51.443372Z",
     "iopub.status.busy": "2020-10-18T03:55:51.442494Z",
     "iopub.status.idle": "2020-10-18T03:55:51.446263Z",
     "shell.execute_reply": "2020-10-18T03:55:51.446938Z"
    },
    "papermill": {
     "duration": 0.023165,
     "end_time": "2020-10-18T03:55:51.447085",
     "exception": false,
     "start_time": "2020-10-18T03:55:51.423920",
     "status": "completed"
    },
    "tags": []
   },
   "outputs": [],
   "source": [
    "#num = 10\n",
    "#pca_c_cols = [\"pca-c\"+str(i+1) for i in range(num)]\n",
    "#pca = PCA(n_components=num,random_state=42)\n",
    "#c_train = pca.fit_transform(train[c_feats])\n",
    "#c_test = pca.transform(test[c_feats])\n",
    "#c_train = pd.DataFrame(c_train, columns=pca_c_cols)\n",
    "#c_test = pd.DataFrame(c_test, columns=pca_c_cols)\n",
    "\n",
    "#num = 30\n",
    "#pca_g_cols = [\"pca-g\"+str(i+1) for i in range(num)]\n",
    "#pca = PCA(n_components=num, random_state=42)\n",
    "#g_train = pca.fit_transform(train[g_feats])\n",
    "#g_test = pca.transform(test[g_feats])\n",
    "#g_train = pd.DataFrame(g_train, columns=pca_g_cols)\n",
    "#g_test = pd.DataFrame(g_test, columns=pca_g_cols)\n",
    "\n",
    "#train = pd.concat([train, c_train],axis=1)\n",
    "#test = pd.concat([test, c_test],axis=1)\n",
    "#train = pd.concat([train, g_train],axis=1)\n",
    "#test = pd.concat([test, g_test],axis=1)"
   ]
  },
  {
   "cell_type": "code",
   "execution_count": 8,
   "metadata": {
    "execution": {
     "iopub.execute_input": "2020-10-18T03:55:51.485487Z",
     "iopub.status.busy": "2020-10-18T03:55:51.484225Z",
     "iopub.status.idle": "2020-10-18T03:55:51.623655Z",
     "shell.execute_reply": "2020-10-18T03:55:51.622914Z"
    },
    "papermill": {
     "duration": 0.161757,
     "end_time": "2020-10-18T03:55:51.623803",
     "exception": false,
     "start_time": "2020-10-18T03:55:51.462046",
     "status": "completed"
    },
    "tags": []
   },
   "outputs": [
    {
     "name": "stdout",
     "output_type": "stream",
     "text": [
      "(21948, 874) (3982, 874)\n"
     ]
    }
   ],
   "source": [
    "def fe(df):\n",
    "    tmp = df.copy()\n",
    "    tmp.loc[:, 'cp_dose'] = tmp.loc[:, 'cp_dose'].map({'D1': 0, 'D2': 1})        \n",
    "    tmp.drop([\"cp_type\", \"sig_id\"], axis=1, inplace=True)\n",
    "    return tmp\n",
    "\n",
    "train = fe(train)\n",
    "test = fe(test)\n",
    "\n",
    "print(train.shape, test.shape)"
   ]
  },
  {
   "cell_type": "code",
   "execution_count": 9,
   "metadata": {
    "execution": {
     "iopub.execute_input": "2020-10-18T03:55:51.664309Z",
     "iopub.status.busy": "2020-10-18T03:55:51.663124Z",
     "iopub.status.idle": "2020-10-18T03:55:51.864114Z",
     "shell.execute_reply": "2020-10-18T03:55:51.863498Z"
    },
    "papermill": {
     "duration": 0.223459,
     "end_time": "2020-10-18T03:55:51.864235",
     "exception": false,
     "start_time": "2020-10-18T03:55:51.640776",
     "status": "completed"
    },
    "tags": []
   },
   "outputs": [],
   "source": [
    "fn_train = train.copy().to_numpy()\n",
    "fn_test = test.copy().to_numpy()\n",
    "\n",
    "#ss = preprocessing.RobustScaler()\n",
    "#fn_train= ss.fit_transform(fn_train)\n",
    "#fn_test = ss.transform(fn_test)\n",
    "\n",
    "fn_non_targets = non_targets.drop(\"sig_id\", axis=1).copy().to_numpy()\n",
    "fn_targets = targets.drop(\"sig_id\", axis=1).copy().to_numpy()"
   ]
  },
  {
   "cell_type": "markdown",
   "metadata": {
    "papermill": {
     "duration": 0.016413,
     "end_time": "2020-10-18T03:55:51.897686",
     "exception": false,
     "start_time": "2020-10-18T03:55:51.881273",
     "status": "completed"
    },
    "tags": []
   },
   "source": [
    "# modelling"
   ]
  },
  {
   "cell_type": "code",
   "execution_count": 10,
   "metadata": {
    "execution": {
     "iopub.execute_input": "2020-10-18T03:55:51.941611Z",
     "iopub.status.busy": "2020-10-18T03:55:51.939628Z",
     "iopub.status.idle": "2020-10-18T03:55:51.942341Z",
     "shell.execute_reply": "2020-10-18T03:55:51.942857Z"
    },
    "papermill": {
     "duration": 0.027219,
     "end_time": "2020-10-18T03:55:51.942974",
     "exception": false,
     "start_time": "2020-10-18T03:55:51.915755",
     "status": "completed"
    },
    "tags": []
   },
   "outputs": [],
   "source": [
    "class LogitsLogLoss(Metric):\n",
    "    def __init__(self):\n",
    "        self._name = \"logits_ll\"\n",
    "        self._maximize = False\n",
    "\n",
    "    def __call__(self, y_true, y_pred):\n",
    "        \"\"\"\n",
    "        Compute LogLoss of predictions.\n",
    "\n",
    "        Parameters\n",
    "        ----------\n",
    "        y_true: np.ndarray\n",
    "            Target matrix or vector\n",
    "        y_score: np.ndarray\n",
    "            Score matrix or vector\n",
    "\n",
    "        Returns\n",
    "        -------\n",
    "            float\n",
    "            LogLoss of predictions vs targets.\n",
    "        \"\"\"\n",
    "        logits = 1 / (1 + np.exp(-y_pred))\n",
    "        aux = (1-y_true)*np.log(1-logits+1e-15) + y_true*np.log(logits+1e-15)\n",
    "        return np.mean(-aux)"
   ]
  },
  {
   "cell_type": "code",
   "execution_count": 11,
   "metadata": {
    "execution": {
     "iopub.execute_input": "2020-10-18T03:55:52.000896Z",
     "iopub.status.busy": "2020-10-18T03:55:51.988467Z",
     "iopub.status.idle": "2020-10-18T04:28:55.605181Z",
     "shell.execute_reply": "2020-10-18T04:28:55.606029Z"
    },
    "papermill": {
     "duration": 1983.646939,
     "end_time": "2020-10-18T04:28:55.606283",
     "exception": false,
     "start_time": "2020-10-18T03:55:51.959344",
     "status": "completed"
    },
    "tags": []
   },
   "outputs": [
    {
     "name": "stdout",
     "output_type": "stream",
     "text": [
      "FOLDS :  1\n",
      "Device used : cuda\n",
      "epoch 0  | loss: 0.56891 | val_logits_ll: 0.30189 |  0:00:01s\n",
      "epoch 10 | loss: 0.02044 | val_logits_ll: 0.02035 |  0:00:11s\n",
      "epoch 20 | loss: 0.01882 | val_logits_ll: 0.01888 |  0:00:21s\n",
      "epoch 30 | loss: 0.01766 | val_logits_ll: 0.0192  |  0:00:31s\n",
      "epoch 40 | loss: 0.01701 | val_logits_ll: 0.01758 |  0:00:40s\n",
      "epoch 50 | loss: 0.01697 | val_logits_ll: 0.01728 |  0:00:52s\n",
      "epoch 60 | loss: 0.01655 | val_logits_ll: 0.01714 |  0:01:02s\n",
      "epoch 70 | loss: 0.01654 | val_logits_ll: 0.01709 |  0:01:11s\n",
      "epoch 80 | loss: 0.01625 | val_logits_ll: 0.01701 |  0:01:22s\n",
      "epoch 90 | loss: 0.01592 | val_logits_ll: 0.01686 |  0:01:32s\n",
      "epoch 100| loss: 0.0161  | val_logits_ll: 0.01735 |  0:01:42s\n",
      "epoch 110| loss: 0.01536 | val_logits_ll: 0.01688 |  0:01:53s\n",
      "epoch 120| loss: 0.01541 | val_logits_ll: 0.01687 |  0:02:03s\n",
      "\n",
      "Early stopping occured at epoch 122 with best_epoch = 102 and best_val_logits_ll = 0.01667\n",
      "Best weights from best epoch are automatically used!\n",
      "FOLDS :  2\n",
      "Device used : cuda\n",
      "epoch 0  | loss: 0.56914 | val_logits_ll: 0.32347 |  0:00:01s\n",
      "epoch 10 | loss: 0.02085 | val_logits_ll: 0.02057 |  0:00:10s\n",
      "epoch 20 | loss: 0.01943 | val_logits_ll: 0.01945 |  0:00:21s\n",
      "epoch 30 | loss: 0.01786 | val_logits_ll: 0.01815 |  0:00:31s\n",
      "epoch 40 | loss: 0.01733 | val_logits_ll: 0.01913 |  0:00:42s\n",
      "epoch 50 | loss: 0.01678 | val_logits_ll: 0.01751 |  0:00:53s\n",
      "epoch 60 | loss: 0.0167  | val_logits_ll: 0.01762 |  0:01:03s\n",
      "epoch 70 | loss: 0.01644 | val_logits_ll: 0.01735 |  0:01:13s\n",
      "epoch 80 | loss: 0.01615 | val_logits_ll: 0.01719 |  0:01:23s\n",
      "epoch 90 | loss: 0.01584 | val_logits_ll: 0.01762 |  0:01:33s\n",
      "epoch 100| loss: 0.01594 | val_logits_ll: 0.01706 |  0:01:44s\n",
      "epoch 110| loss: 0.01545 | val_logits_ll: 0.01714 |  0:01:55s\n",
      "\n",
      "Early stopping occured at epoch 111 with best_epoch = 91 and best_val_logits_ll = 0.01704\n",
      "Best weights from best epoch are automatically used!\n",
      "FOLDS :  3\n",
      "Device used : cuda\n",
      "epoch 0  | loss: 0.5673  | val_logits_ll: 0.29073 |  0:00:00s\n",
      "epoch 10 | loss: 0.0204  | val_logits_ll: 0.0204  |  0:00:11s\n",
      "epoch 20 | loss: 0.01831 | val_logits_ll: 0.01873 |  0:00:21s\n",
      "epoch 30 | loss: 0.01736 | val_logits_ll: 0.01801 |  0:00:32s\n",
      "epoch 40 | loss: 0.01715 | val_logits_ll: 0.01907 |  0:00:42s\n",
      "epoch 50 | loss: 0.0167  | val_logits_ll: 0.01832 |  0:00:53s\n",
      "epoch 60 | loss: 0.01643 | val_logits_ll: 0.01734 |  0:01:04s\n",
      "epoch 70 | loss: 0.01625 | val_logits_ll: 0.01734 |  0:01:14s\n",
      "epoch 80 | loss: 0.01603 | val_logits_ll: 0.01715 |  0:01:24s\n",
      "epoch 90 | loss: 0.0157  | val_logits_ll: 0.01722 |  0:01:35s\n",
      "epoch 100| loss: 0.01578 | val_logits_ll: 0.01757 |  0:01:46s\n",
      "\n",
      "Early stopping occured at epoch 108 with best_epoch = 88 and best_val_logits_ll = 0.01703\n",
      "Best weights from best epoch are automatically used!\n",
      "FOLDS :  4\n",
      "Device used : cuda\n",
      "epoch 0  | loss: 0.56456 | val_logits_ll: 0.30226 |  0:00:00s\n",
      "epoch 10 | loss: 0.02072 | val_logits_ll: 0.02074 |  0:00:11s\n",
      "epoch 20 | loss: 0.01893 | val_logits_ll: 0.01919 |  0:00:22s\n",
      "epoch 30 | loss: 0.01801 | val_logits_ll: 0.01869 |  0:00:32s\n",
      "epoch 40 | loss: 0.01766 | val_logits_ll: 0.01799 |  0:00:42s\n",
      "epoch 50 | loss: 0.01705 | val_logits_ll: 0.01746 |  0:00:54s\n",
      "epoch 60 | loss: 0.0167  | val_logits_ll: 0.01755 |  0:01:04s\n",
      "epoch 70 | loss: 0.01647 | val_logits_ll: 0.01858 |  0:01:14s\n",
      "epoch 80 | loss: 0.01614 | val_logits_ll: 0.01728 |  0:01:25s\n",
      "epoch 90 | loss: 0.01591 | val_logits_ll: 0.01714 |  0:01:35s\n",
      "epoch 100| loss: 0.01579 | val_logits_ll: 0.01702 |  0:01:46s\n",
      "epoch 110| loss: 0.01564 | val_logits_ll: 0.01691 |  0:01:57s\n",
      "epoch 120| loss: 0.01536 | val_logits_ll: 0.01716 |  0:02:07s\n",
      "\n",
      "Early stopping occured at epoch 126 with best_epoch = 106 and best_val_logits_ll = 0.0168\n",
      "Best weights from best epoch are automatically used!\n",
      "FOLDS :  5\n",
      "Device used : cuda\n",
      "epoch 0  | loss: 0.56675 | val_logits_ll: 0.30196 |  0:00:00s\n",
      "epoch 10 | loss: 0.0206  | val_logits_ll: 0.02051 |  0:00:11s\n",
      "epoch 20 | loss: 0.01879 | val_logits_ll: 0.01882 |  0:00:21s\n",
      "epoch 30 | loss: 0.01746 | val_logits_ll: 0.02011 |  0:00:32s\n",
      "epoch 40 | loss: 0.01699 | val_logits_ll: 0.01777 |  0:00:43s\n",
      "epoch 50 | loss: 0.01671 | val_logits_ll: 0.01746 |  0:00:53s\n",
      "epoch 60 | loss: 0.01645 | val_logits_ll: 0.0175  |  0:01:03s\n",
      "epoch 70 | loss: 0.01625 | val_logits_ll: 0.01719 |  0:01:14s\n",
      "epoch 80 | loss: 0.01601 | val_logits_ll: 0.01713 |  0:01:24s\n",
      "epoch 90 | loss: 0.01615 | val_logits_ll: 0.01719 |  0:01:35s\n",
      "epoch 100| loss: 0.01577 | val_logits_ll: 0.01695 |  0:01:46s\n",
      "epoch 110| loss: 0.0155  | val_logits_ll: 0.01739 |  0:01:56s\n",
      "epoch 120| loss: 0.01571 | val_logits_ll: 0.01925 |  0:02:06s\n",
      "epoch 130| loss: 0.01517 | val_logits_ll: 0.01731 |  0:02:17s\n",
      "epoch 140| loss: 0.01494 | val_logits_ll: 0.01711 |  0:02:28s\n",
      "\n",
      "Early stopping occured at epoch 143 with best_epoch = 123 and best_val_logits_ll = 0.01688\n",
      "Best weights from best epoch are automatically used!\n",
      "FOLDS :  1\n",
      "Device used : cuda\n",
      "epoch 0  | loss: 0.52327 | val_logits_ll: 0.24142 |  0:00:01s\n",
      "epoch 10 | loss: 0.02082 | val_logits_ll: 0.02061 |  0:00:11s\n",
      "epoch 20 | loss: 0.01942 | val_logits_ll: 0.01924 |  0:00:22s\n",
      "epoch 30 | loss: 0.01789 | val_logits_ll: 0.01801 |  0:00:32s\n",
      "epoch 40 | loss: 0.01726 | val_logits_ll: 0.02025 |  0:00:42s\n",
      "epoch 50 | loss: 0.01681 | val_logits_ll: 0.01739 |  0:00:53s\n",
      "epoch 60 | loss: 0.01648 | val_logits_ll: 0.01728 |  0:01:04s\n",
      "epoch 70 | loss: 0.0164  | val_logits_ll: 0.01716 |  0:01:14s\n",
      "epoch 80 | loss: 0.01609 | val_logits_ll: 0.01714 |  0:01:25s\n",
      "epoch 90 | loss: 0.01602 | val_logits_ll: 0.01728 |  0:01:35s\n",
      "epoch 100| loss: 0.01572 | val_logits_ll: 0.01733 |  0:01:45s\n",
      "epoch 110| loss: 0.01546 | val_logits_ll: 0.01687 |  0:01:56s\n",
      "epoch 120| loss: 0.01553 | val_logits_ll: 0.01697 |  0:02:07s\n",
      "\n",
      "Early stopping occured at epoch 121 with best_epoch = 101 and best_val_logits_ll = 0.01684\n",
      "Best weights from best epoch are automatically used!\n",
      "FOLDS :  2\n",
      "Device used : cuda\n",
      "epoch 0  | loss: 0.52561 | val_logits_ll: 0.28843 |  0:00:00s\n",
      "epoch 10 | loss: 0.02097 | val_logits_ll: 0.02124 |  0:00:11s\n",
      "epoch 20 | loss: 0.01938 | val_logits_ll: 0.01941 |  0:00:22s\n",
      "epoch 30 | loss: 0.01827 | val_logits_ll: 0.01868 |  0:00:32s\n",
      "epoch 40 | loss: 0.01749 | val_logits_ll: 0.01815 |  0:00:42s\n",
      "epoch 50 | loss: 0.01696 | val_logits_ll: 0.01782 |  0:00:54s\n",
      "epoch 60 | loss: 0.01667 | val_logits_ll: 0.01767 |  0:01:04s\n",
      "epoch 70 | loss: 0.01615 | val_logits_ll: 0.01899 |  0:01:14s\n",
      "epoch 80 | loss: 0.01606 | val_logits_ll: 0.01725 |  0:01:24s\n",
      "epoch 90 | loss: 0.01573 | val_logits_ll: 0.01723 |  0:01:35s\n",
      "epoch 100| loss: 0.01588 | val_logits_ll: 0.01714 |  0:01:46s\n",
      "epoch 110| loss: 0.01586 | val_logits_ll: 0.01725 |  0:01:57s\n",
      "\n",
      "Early stopping occured at epoch 116 with best_epoch = 96 and best_val_logits_ll = 0.017\n",
      "Best weights from best epoch are automatically used!\n",
      "FOLDS :  3\n",
      "Device used : cuda\n",
      "epoch 0  | loss: 0.5273  | val_logits_ll: 0.25489 |  0:00:00s\n",
      "epoch 10 | loss: 0.02069 | val_logits_ll: 0.021   |  0:00:11s\n",
      "epoch 20 | loss: 0.01905 | val_logits_ll: 0.02127 |  0:00:21s\n",
      "epoch 30 | loss: 0.01787 | val_logits_ll: 0.02127 |  0:00:32s\n",
      "epoch 40 | loss: 0.01742 | val_logits_ll: 0.0179  |  0:00:43s\n",
      "epoch 50 | loss: 0.01682 | val_logits_ll: 0.01768 |  0:00:54s\n",
      "epoch 60 | loss: 0.01641 | val_logits_ll: 0.01736 |  0:01:04s\n",
      "epoch 70 | loss: 0.0165  | val_logits_ll: 0.01759 |  0:01:15s\n",
      "epoch 80 | loss: 0.01593 | val_logits_ll: 0.0171  |  0:01:25s\n",
      "epoch 90 | loss: 0.01556 | val_logits_ll: 0.0177  |  0:01:36s\n",
      "epoch 100| loss: 0.01564 | val_logits_ll: 0.01706 |  0:01:47s\n",
      "epoch 110| loss: 0.01528 | val_logits_ll: 0.01722 |  0:01:57s\n",
      "\n",
      "Early stopping occured at epoch 116 with best_epoch = 96 and best_val_logits_ll = 0.01698\n",
      "Best weights from best epoch are automatically used!\n",
      "FOLDS :  4\n",
      "Device used : cuda\n",
      "epoch 0  | loss: 0.52521 | val_logits_ll: 0.23456 |  0:00:01s\n",
      "epoch 10 | loss: 0.02064 | val_logits_ll: 0.02251 |  0:00:11s\n",
      "epoch 20 | loss: 0.01896 | val_logits_ll: 0.01919 |  0:00:21s\n",
      "epoch 30 | loss: 0.01774 | val_logits_ll: 0.01948 |  0:00:32s\n",
      "epoch 40 | loss: 0.01735 | val_logits_ll: 0.01791 |  0:00:44s\n",
      "epoch 50 | loss: 0.01711 | val_logits_ll: 0.01738 |  0:00:54s\n",
      "epoch 60 | loss: 0.01666 | val_logits_ll: 0.01736 |  0:01:04s\n",
      "epoch 70 | loss: 0.01649 | val_logits_ll: 0.01716 |  0:01:15s\n",
      "epoch 80 | loss: 0.01619 | val_logits_ll: 0.01729 |  0:01:25s\n",
      "epoch 90 | loss: 0.01601 | val_logits_ll: 0.01738 |  0:01:36s\n",
      "epoch 100| loss: 0.01599 | val_logits_ll: 0.01707 |  0:01:47s\n",
      "epoch 110| loss: 0.01588 | val_logits_ll: 0.01695 |  0:01:57s\n",
      "epoch 120| loss: 0.01542 | val_logits_ll: 0.01699 |  0:02:08s\n",
      "\n",
      "Early stopping occured at epoch 121 with best_epoch = 101 and best_val_logits_ll = 0.01686\n",
      "Best weights from best epoch are automatically used!\n",
      "FOLDS :  5\n",
      "Device used : cuda\n",
      "epoch 0  | loss: 0.52763 | val_logits_ll: 0.22348 |  0:00:00s\n",
      "epoch 10 | loss: 0.02077 | val_logits_ll: 0.02064 |  0:00:11s\n",
      "epoch 20 | loss: 0.0189  | val_logits_ll: 0.01893 |  0:00:22s\n",
      "epoch 30 | loss: 0.01773 | val_logits_ll: 0.01802 |  0:00:33s\n",
      "epoch 40 | loss: 0.01725 | val_logits_ll: 0.01784 |  0:00:44s\n",
      "epoch 50 | loss: 0.01684 | val_logits_ll: 0.01797 |  0:00:55s\n",
      "epoch 60 | loss: 0.01666 | val_logits_ll: 0.01772 |  0:01:05s\n",
      "epoch 70 | loss: 0.01626 | val_logits_ll: 0.01727 |  0:01:16s\n",
      "epoch 80 | loss: 0.01597 | val_logits_ll: 0.01712 |  0:01:27s\n",
      "epoch 90 | loss: 0.01585 | val_logits_ll: 0.01743 |  0:01:38s\n",
      "epoch 100| loss: 0.01571 | val_logits_ll: 0.01705 |  0:01:48s\n",
      "epoch 110| loss: 0.01565 | val_logits_ll: 0.01737 |  0:01:59s\n",
      "epoch 120| loss: 0.01492 | val_logits_ll: 0.01758 |  0:02:09s\n",
      "\n",
      "Early stopping occured at epoch 120 with best_epoch = 100 and best_val_logits_ll = 0.01705\n",
      "Best weights from best epoch are automatically used!\n",
      "FOLDS :  1\n",
      "Device used : cuda\n",
      "epoch 0  | loss: 0.60814 | val_logits_ll: 0.40831 |  0:00:00s\n",
      "epoch 10 | loss: 0.02062 | val_logits_ll: 0.02054 |  0:00:12s\n",
      "epoch 20 | loss: 0.01919 | val_logits_ll: 0.01916 |  0:00:23s\n",
      "epoch 30 | loss: 0.0177  | val_logits_ll: 0.02046 |  0:00:33s\n",
      "epoch 40 | loss: 0.01722 | val_logits_ll: 0.01859 |  0:00:44s\n",
      "epoch 50 | loss: 0.01691 | val_logits_ll: 0.01757 |  0:00:55s\n",
      "epoch 60 | loss: 0.01654 | val_logits_ll: 0.01748 |  0:01:05s\n",
      "epoch 70 | loss: 0.0163  | val_logits_ll: 0.01728 |  0:01:17s\n",
      "epoch 80 | loss: 0.01608 | val_logits_ll: 0.01709 |  0:01:28s\n",
      "epoch 90 | loss: 0.01595 | val_logits_ll: 0.01702 |  0:01:38s\n",
      "epoch 100| loss: 0.01567 | val_logits_ll: 0.01687 |  0:01:49s\n",
      "epoch 110| loss: 0.01541 | val_logits_ll: 0.01699 |  0:02:00s\n",
      "\n",
      "Early stopping occured at epoch 111 with best_epoch = 91 and best_val_logits_ll = 0.0168\n",
      "Best weights from best epoch are automatically used!\n",
      "FOLDS :  2\n",
      "Device used : cuda\n",
      "epoch 0  | loss: 0.61385 | val_logits_ll: 0.41929 |  0:00:01s\n",
      "epoch 10 | loss: 0.02101 | val_logits_ll: 0.02092 |  0:00:12s\n",
      "epoch 20 | loss: 0.01978 | val_logits_ll: 0.01967 |  0:00:24s\n",
      "epoch 30 | loss: 0.01794 | val_logits_ll: 0.01848 |  0:00:34s\n",
      "epoch 40 | loss: 0.01738 | val_logits_ll: 0.01974 |  0:00:45s\n",
      "epoch 50 | loss: 0.01685 | val_logits_ll: 0.01986 |  0:00:56s\n",
      "epoch 60 | loss: 0.01649 | val_logits_ll: 0.01755 |  0:01:06s\n",
      "epoch 70 | loss: 0.01668 | val_logits_ll: 0.01788 |  0:01:17s\n",
      "epoch 80 | loss: 0.01627 | val_logits_ll: 0.01763 |  0:01:28s\n",
      "epoch 90 | loss: 0.01625 | val_logits_ll: 0.01724 |  0:01:39s\n",
      "epoch 100| loss: 0.01588 | val_logits_ll: 0.01755 |  0:01:50s\n",
      "epoch 110| loss: 0.0156  | val_logits_ll: 0.01715 |  0:02:01s\n",
      "epoch 120| loss: 0.01567 | val_logits_ll: 0.01738 |  0:02:12s\n",
      "epoch 130| loss: 0.01519 | val_logits_ll: 0.01737 |  0:02:23s\n",
      "\n",
      "Early stopping occured at epoch 132 with best_epoch = 112 and best_val_logits_ll = 0.01712\n",
      "Best weights from best epoch are automatically used!\n",
      "FOLDS :  3\n",
      "Device used : cuda\n",
      "epoch 0  | loss: 0.61235 | val_logits_ll: 0.42659 |  0:00:01s\n",
      "epoch 10 | loss: 0.02087 | val_logits_ll: 0.02088 |  0:00:11s\n",
      "epoch 20 | loss: 0.01962 | val_logits_ll: 0.01992 |  0:00:22s\n",
      "epoch 30 | loss: 0.01796 | val_logits_ll: 0.01831 |  0:00:33s\n",
      "epoch 40 | loss: 0.01728 | val_logits_ll: 0.01778 |  0:00:44s\n",
      "epoch 50 | loss: 0.01695 | val_logits_ll: 0.0207  |  0:00:55s\n",
      "epoch 60 | loss: 0.01652 | val_logits_ll: 0.02002 |  0:01:06s\n",
      "epoch 70 | loss: 0.01636 | val_logits_ll: 0.01736 |  0:01:16s\n",
      "epoch 80 | loss: 0.01608 | val_logits_ll: 0.01739 |  0:01:26s\n",
      "epoch 90 | loss: 0.01594 | val_logits_ll: 0.01719 |  0:01:37s\n",
      "epoch 100| loss: 0.01576 | val_logits_ll: 0.01742 |  0:01:49s\n",
      "epoch 110| loss: 0.0155  | val_logits_ll: 0.01742 |  0:02:00s\n",
      "\n",
      "Early stopping occured at epoch 117 with best_epoch = 97 and best_val_logits_ll = 0.01712\n",
      "Best weights from best epoch are automatically used!\n",
      "FOLDS :  4\n",
      "Device used : cuda\n",
      "epoch 0  | loss: 0.60421 | val_logits_ll: 0.37043 |  0:00:01s\n",
      "epoch 10 | loss: 0.02072 | val_logits_ll: 0.02061 |  0:00:11s\n",
      "epoch 20 | loss: 0.019   | val_logits_ll: 0.01919 |  0:00:22s\n",
      "epoch 30 | loss: 0.01791 | val_logits_ll: 0.01903 |  0:00:32s\n",
      "epoch 40 | loss: 0.01745 | val_logits_ll: 0.01788 |  0:00:45s\n",
      "epoch 50 | loss: 0.01715 | val_logits_ll: 0.02011 |  0:00:55s\n",
      "epoch 60 | loss: 0.01668 | val_logits_ll: 0.01749 |  0:01:06s\n",
      "epoch 70 | loss: 0.01652 | val_logits_ll: 0.01719 |  0:01:17s\n",
      "epoch 80 | loss: 0.01619 | val_logits_ll: 0.01772 |  0:01:27s\n",
      "epoch 90 | loss: 0.01604 | val_logits_ll: 0.01712 |  0:01:38s\n",
      "epoch 100| loss: 0.01584 | val_logits_ll: 0.01711 |  0:01:49s\n",
      "epoch 110| loss: 0.01592 | val_logits_ll: 0.01715 |  0:01:59s\n",
      "epoch 120| loss: 0.01568 | val_logits_ll: 0.01706 |  0:02:10s\n",
      "\n",
      "Early stopping occured at epoch 124 with best_epoch = 104 and best_val_logits_ll = 0.01689\n",
      "Best weights from best epoch are automatically used!\n",
      "FOLDS :  5\n",
      "Device used : cuda\n",
      "epoch 0  | loss: 0.61433 | val_logits_ll: 0.41573 |  0:00:00s\n",
      "epoch 10 | loss: 0.02065 | val_logits_ll: 0.02053 |  0:00:11s\n",
      "epoch 20 | loss: 0.01904 | val_logits_ll: 0.01922 |  0:00:22s\n",
      "epoch 30 | loss: 0.0177  | val_logits_ll: 0.01824 |  0:00:33s\n",
      "epoch 40 | loss: 0.017   | val_logits_ll: 0.01842 |  0:00:43s\n",
      "epoch 50 | loss: 0.01672 | val_logits_ll: 0.01755 |  0:00:54s\n",
      "epoch 60 | loss: 0.01643 | val_logits_ll: 0.01758 |  0:01:04s\n",
      "epoch 70 | loss: 0.01612 | val_logits_ll: 0.01865 |  0:01:15s\n",
      "epoch 80 | loss: 0.01595 | val_logits_ll: 0.01729 |  0:01:26s\n",
      "epoch 90 | loss: 0.01583 | val_logits_ll: 0.0172  |  0:01:37s\n",
      "epoch 100| loss: 0.01574 | val_logits_ll: 0.01705 |  0:01:47s\n",
      "epoch 110| loss: 0.01554 | val_logits_ll: 0.01699 |  0:01:57s\n",
      "epoch 120| loss: 0.01536 | val_logits_ll: 0.01692 |  0:02:07s\n",
      "epoch 130| loss: 0.01569 | val_logits_ll: 0.01728 |  0:02:19s\n",
      "epoch 140| loss: 0.01515 | val_logits_ll: 0.0172  |  0:02:29s\n",
      "\n",
      "Early stopping occured at epoch 140 with best_epoch = 120 and best_val_logits_ll = 0.01692\n",
      "Best weights from best epoch are automatically used!\n"
     ]
    }
   ],
   "source": [
    "MAX_EPOCH=200\n",
    "\n",
    "def seed_everything(seed_value):\n",
    "    random.seed(seed_value)\n",
    "    np.random.seed(seed_value)\n",
    "    torch.manual_seed(seed_value)\n",
    "    os.environ['PYTHONHASHSEED'] = str(seed_value)\n",
    "    \n",
    "    if torch.cuda.is_available(): \n",
    "        torch.cuda.manual_seed(seed_value)\n",
    "        torch.cuda.manual_seed_all(seed_value)\n",
    "        torch.backends.cudnn.deterministic = True\n",
    "        torch.backends.cudnn.benchmark = False\n",
    "\n",
    "def modelling_tabnet(tr, target, te, sample_seed):\n",
    "    seed_everything(sample_seed) \n",
    "    tabnet_params = dict(n_d=12, n_a=12, n_steps=1, gamma=1.3, seed = sample_seed,\n",
    "                     lambda_sparse=0, optimizer_fn=torch.optim.Adam,\n",
    "                     optimizer_params=dict(lr=2e-2, weight_decay=1e-5),\n",
    "                     mask_type='entmax',\n",
    "                     scheduler_params=dict(mode=\"min\",\n",
    "                                           patience=5,\n",
    "                                           min_lr=1e-5,\n",
    "                                           factor=0.9,),\n",
    "                     scheduler_fn=torch.optim.lr_scheduler.ReduceLROnPlateau,\n",
    "                     verbose=10,\n",
    "                     )\n",
    "    test_cv_preds = []\n",
    "\n",
    "    NB_SPLITS = 5\n",
    "    mskf = MultilabelStratifiedKFold(n_splits=NB_SPLITS, random_state=0, shuffle=True)\n",
    "    oof_preds = np.zeros([len(tr),target.shape[1]])\n",
    "    scores = []\n",
    "    for fold_nb, (train_idx, val_idx) in enumerate(mskf.split(train, target)):\n",
    "        print(\"FOLDS : \", fold_nb+1)\n",
    "\n",
    "        ## model\n",
    "        X_train, y_train = tr[train_idx, :], target[train_idx, :]\n",
    "        X_val, y_val = tr[val_idx, :], target[val_idx, :]\n",
    "        model = TabNetRegressor(**tabnet_params)\n",
    "    \n",
    "        model.fit(X_train=X_train,\n",
    "              y_train=y_train,\n",
    "              eval_set=[(X_val, y_val)],\n",
    "              eval_name = [\"val\"],\n",
    "              eval_metric = [\"logits_ll\"],\n",
    "              max_epochs=MAX_EPOCH,\n",
    "              patience=20, batch_size=1024, virtual_batch_size=128,\n",
    "              num_workers=1, drop_last=False,\n",
    "              # use binary cross entropy as this is not a regression problem\n",
    "              loss_fn=torch.nn.functional.binary_cross_entropy_with_logits)\n",
    "    \n",
    "        preds_val = model.predict(X_val)\n",
    "        # Apply sigmoid to the predictions\n",
    "        preds =  1 / (1 + np.exp(-preds_val))\n",
    "        score = np.min(model.history[\"val_logits_ll\"])\n",
    "    #     name = cfg.save_name + f\"_fold{fold_nb}\"\n",
    "    #     model.save_model(name)\n",
    "        oof_preds[val_idx,:] = preds\n",
    "        scores.append(score)\n",
    "\n",
    "        # preds on test\n",
    "        preds_test = model.predict(te)\n",
    "        test_cv_preds.append(1 / (1 + np.exp(-preds_test)))\n",
    "\n",
    "    test_preds_all = np.stack(test_cv_preds)\n",
    "    return oof_preds, test_preds_all\n",
    "\n",
    "target_oof = np.zeros([len(fn_train),fn_targets.shape[1]])\n",
    "target_pred = np.zeros([len(fn_test),fn_targets.shape[1]])\n",
    "\n",
    "seeds = [0,1,2]\n",
    "for seed_ in seeds:\n",
    "    oof_preds, test_preds_all = modelling_tabnet(fn_train, fn_targets, fn_test, seed_)\n",
    "    target_oof += oof_preds / len(seeds)\n",
    "    target_pred += test_preds_all.mean(axis=0) / len(seeds)"
   ]
  },
  {
   "cell_type": "code",
   "execution_count": 12,
   "metadata": {
    "execution": {
     "iopub.execute_input": "2020-10-18T04:28:55.892543Z",
     "iopub.status.busy": "2020-10-18T04:28:55.891574Z",
     "iopub.status.idle": "2020-10-18T04:29:02.220329Z",
     "shell.execute_reply": "2020-10-18T04:29:02.221008Z"
    },
    "papermill": {
     "duration": 6.457496,
     "end_time": "2020-10-18T04:29:02.221218",
     "exception": false,
     "start_time": "2020-10-18T04:28:55.763722",
     "status": "completed"
    },
    "tags": []
   },
   "outputs": [
    {
     "name": "stdout",
     "output_type": "stream",
     "text": [
      "OOF log loss:  0.01521113536300223\n"
     ]
    }
   ],
   "source": [
    "t = pd.read_csv(DATA_DIR + 'train_targets_scored.csv')\n",
    "train_checkscore = t.copy()\n",
    "train_checkscore.loc[train_checkscore.index.isin(cons_train_index),target_feats] = target_oof\n",
    "train_checkscore.loc[train_checkscore.index.isin(noncons_train_index),target_feats] = 0\n",
    "\n",
    "t.drop(\"sig_id\", axis=1, inplace=True)\n",
    "print('OOF log loss: ', log_loss(np.ravel(t), np.ravel(np.array(train_checkscore.iloc[:,1:]))))"
   ]
  },
  {
   "cell_type": "code",
   "execution_count": 13,
   "metadata": {
    "execution": {
     "iopub.execute_input": "2020-10-18T04:29:02.435823Z",
     "iopub.status.busy": "2020-10-18T04:29:02.434747Z",
     "iopub.status.idle": "2020-10-18T04:29:05.109851Z",
     "shell.execute_reply": "2020-10-18T04:29:05.109181Z"
    },
    "papermill": {
     "duration": 2.786165,
     "end_time": "2020-10-18T04:29:05.109988",
     "exception": false,
     "start_time": "2020-10-18T04:29:02.323823",
     "status": "completed"
    },
    "tags": []
   },
   "outputs": [],
   "source": [
    "sub[target_feats] = target_pred\n",
    "sub.loc[noncons_test_index,target_feats] = 0\n",
    "sub.to_csv('submission.csv', index=False)"
   ]
  },
  {
   "cell_type": "code",
   "execution_count": null,
   "metadata": {
    "papermill": {
     "duration": 0.102906,
     "end_time": "2020-10-18T04:29:05.314693",
     "exception": false,
     "start_time": "2020-10-18T04:29:05.211787",
     "status": "completed"
    },
    "tags": []
   },
   "outputs": [],
   "source": []
  }
 ],
 "metadata": {
  "kernelspec": {
   "display_name": "Python 3",
   "language": "python",
   "name": "python3"
  },
  "language_info": {
   "codemirror_mode": {
    "name": "ipython",
    "version": 3
   },
   "file_extension": ".py",
   "mimetype": "text/x-python",
   "name": "python",
   "nbconvert_exporter": "python",
   "pygments_lexer": "ipython3",
   "version": "3.7.6"
  },
  "papermill": {
   "duration": 2023.716642,
   "end_time": "2020-10-18T04:29:06.689879",
   "environment_variables": {},
   "exception": null,
   "input_path": "__notebook__.ipynb",
   "output_path": "__notebook__.ipynb",
   "parameters": {},
   "start_time": "2020-10-18T03:55:22.973237",
   "version": "2.1.0"
  }
 },
 "nbformat": 4,
 "nbformat_minor": 4
}
