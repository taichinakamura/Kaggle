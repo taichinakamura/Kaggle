{
 "cells": [
  {
   "cell_type": "markdown",
   "metadata": {
    "papermill": {
     "duration": 0.013782,
     "end_time": "2020-10-17T04:45:15.911374",
     "exception": false,
     "start_time": "2020-10-17T04:45:15.897592",
     "status": "completed"
    },
    "tags": []
   },
   "source": [
    "- credit: https://www.kaggle.com/optimo/tabnetregressor-2-0-train-infer/data\n",
    "- https://github.com/dreamquark-ai/tabnet"
   ]
  },
  {
   "cell_type": "code",
   "execution_count": 1,
   "metadata": {
    "execution": {
     "iopub.execute_input": "2020-10-17T04:45:15.943312Z",
     "iopub.status.busy": "2020-10-17T04:45:15.942432Z",
     "iopub.status.idle": "2020-10-17T04:45:24.986965Z",
     "shell.execute_reply": "2020-10-17T04:45:24.986242Z"
    },
    "papermill": {
     "duration": 9.062651,
     "end_time": "2020-10-17T04:45:24.987114",
     "exception": false,
     "start_time": "2020-10-17T04:45:15.924463",
     "status": "completed"
    },
    "tags": []
   },
   "outputs": [
    {
     "name": "stdout",
     "output_type": "stream",
     "text": [
      "Looking in links: /kaggle/input/pytorchtabnet/pytorch_tabnet-2.0.0-py3-none-any.whl\r\n",
      "Processing /kaggle/input/pytorchtabnet/pytorch_tabnet-2.0.0-py3-none-any.whl\r\n",
      "Requirement already satisfied: numpy<2.0,>=1.17 in /opt/conda/lib/python3.7/site-packages (from pytorch-tabnet) (1.18.5)\r\n",
      "Requirement already satisfied: scikit_learn>0.21 in /opt/conda/lib/python3.7/site-packages (from pytorch-tabnet) (0.23.2)\r\n",
      "Requirement already satisfied: scipy>1.4 in /opt/conda/lib/python3.7/site-packages (from pytorch-tabnet) (1.4.1)\r\n",
      "Requirement already satisfied: tqdm<5.0,>=4.36 in /opt/conda/lib/python3.7/site-packages (from pytorch-tabnet) (4.45.0)\r\n",
      "Requirement already satisfied: torch<2.0,>=1.2 in /opt/conda/lib/python3.7/site-packages (from pytorch-tabnet) (1.6.0)\r\n",
      "Requirement already satisfied: threadpoolctl>=2.0.0 in /opt/conda/lib/python3.7/site-packages (from scikit_learn>0.21->pytorch-tabnet) (2.1.0)\r\n",
      "Requirement already satisfied: joblib>=0.11 in /opt/conda/lib/python3.7/site-packages (from scikit_learn>0.21->pytorch-tabnet) (0.14.1)\r\n",
      "Requirement already satisfied: future in /opt/conda/lib/python3.7/site-packages (from torch<2.0,>=1.2->pytorch-tabnet) (0.18.2)\r\n",
      "Installing collected packages: pytorch-tabnet\r\n",
      "Successfully installed pytorch-tabnet-2.0.0\r\n"
     ]
    }
   ],
   "source": [
    "!pip install --no-index --find-links /kaggle/input/pytorchtabnet/pytorch_tabnet-2.0.0-py3-none-any.whl pytorch-tabnet"
   ]
  },
  {
   "cell_type": "code",
   "execution_count": 2,
   "metadata": {
    "_cell_guid": "b1076dfc-b9ad-4769-8c92-a6c4dae69d19",
    "_uuid": "8f2839f25d086af736a60e9eeb907d3b93b6e0e5",
    "execution": {
     "iopub.execute_input": "2020-10-17T04:45:25.030911Z",
     "iopub.status.busy": "2020-10-17T04:45:25.029463Z",
     "iopub.status.idle": "2020-10-17T04:45:32.136721Z",
     "shell.execute_reply": "2020-10-17T04:45:32.137970Z"
    },
    "papermill": {
     "duration": 7.134688,
     "end_time": "2020-10-17T04:45:32.138163",
     "exception": false,
     "start_time": "2020-10-17T04:45:25.003475",
     "status": "completed"
    },
    "tags": []
   },
   "outputs": [],
   "source": [
    "import os\n",
    "import sys\n",
    "import random\n",
    "import warnings\n",
    "import numpy as np\n",
    "import pandas as pd \n",
    "from sklearn import preprocessing\n",
    "from sklearn.metrics import log_loss,roc_auc_score\n",
    "from sklearn.decomposition import PCA\n",
    "from tqdm import tqdm_notebook as tqdm\n",
    "from sklearn.multioutput import MultiOutputClassifier\n",
    "from sklearn.feature_selection import VarianceThreshold\n",
    "\n",
    "from pytorch_tabnet.metrics import Metric\n",
    "from pytorch_tabnet.tab_model import TabNetRegressor\n",
    "\n",
    "sys.path.append('../input/multilabelstraifier/')\n",
    "from ml_stratifiers import MultilabelStratifiedKFold\n",
    "warnings.filterwarnings('ignore')\n",
    "\n",
    "import time\n",
    "import torch\n",
    "import torch.nn as nn\n",
    "import torch.optim as optim\n",
    "import torch.nn.functional as F\n",
    "import tensorflow as tf"
   ]
  },
  {
   "cell_type": "code",
   "execution_count": 3,
   "metadata": {
    "execution": {
     "iopub.execute_input": "2020-10-17T04:45:32.320204Z",
     "iopub.status.busy": "2020-10-17T04:45:32.317250Z",
     "iopub.status.idle": "2020-10-17T04:45:38.764189Z",
     "shell.execute_reply": "2020-10-17T04:45:38.763002Z"
    },
    "papermill": {
     "duration": 6.603707,
     "end_time": "2020-10-17T04:45:38.764327",
     "exception": false,
     "start_time": "2020-10-17T04:45:32.160620",
     "status": "completed"
    },
    "tags": []
   },
   "outputs": [],
   "source": [
    "DATA_DIR = '/kaggle/input/lish-moa/'\n",
    "train = pd.read_csv(DATA_DIR + 'train_features.csv')\n",
    "targets = pd.read_csv(DATA_DIR + 'train_targets_scored.csv')\n",
    "non_targets = pd.read_csv(DATA_DIR + 'train_targets_nonscored.csv')\n",
    "test = pd.read_csv(DATA_DIR + 'test_features.csv')\n",
    "sub = pd.read_csv(DATA_DIR + 'sample_submission.csv')"
   ]
  },
  {
   "cell_type": "code",
   "execution_count": 4,
   "metadata": {
    "execution": {
     "iopub.execute_input": "2020-10-17T04:45:38.808296Z",
     "iopub.status.busy": "2020-10-17T04:45:38.807350Z",
     "iopub.status.idle": "2020-10-17T04:45:38.904130Z",
     "shell.execute_reply": "2020-10-17T04:45:38.903447Z"
    },
    "papermill": {
     "duration": 0.12399,
     "end_time": "2020-10-17T04:45:38.904269",
     "exception": false,
     "start_time": "2020-10-17T04:45:38.780279",
     "status": "completed"
    },
    "tags": []
   },
   "outputs": [],
   "source": [
    "target_feats = [ i for i in targets.columns if i != \"sig_id\"]\n",
    "g_feats = [i for i in train.columns if \"g-\" in i]\n",
    "c_feats = [i for i in train.columns if \"c-\" in i]\n",
    "\n",
    "noncons_train_index = train[train.cp_type==\"ctl_vehicle\"].index\n",
    "cons_train_index = train[~train.index.isin(noncons_train_index)].index\n",
    "noncons_test_index = test[test.cp_type==\"ctl_vehicle\"].index\n",
    "cons_test_index = test[test.cp_type!=\"ctl_vehicle\"].index"
   ]
  },
  {
   "cell_type": "markdown",
   "metadata": {
    "papermill": {
     "duration": 0.015033,
     "end_time": "2020-10-17T04:45:38.935155",
     "exception": false,
     "start_time": "2020-10-17T04:45:38.920122",
     "status": "completed"
    },
    "tags": []
   },
   "source": [
    "# preprocess"
   ]
  },
  {
   "cell_type": "code",
   "execution_count": 5,
   "metadata": {
    "execution": {
     "iopub.execute_input": "2020-10-17T04:45:38.986137Z",
     "iopub.status.busy": "2020-10-17T04:45:38.985037Z",
     "iopub.status.idle": "2020-10-17T04:45:39.379897Z",
     "shell.execute_reply": "2020-10-17T04:45:39.379316Z"
    },
    "papermill": {
     "duration": 0.429534,
     "end_time": "2020-10-17T04:45:39.380013",
     "exception": false,
     "start_time": "2020-10-17T04:45:38.950479",
     "status": "completed"
    },
    "tags": []
   },
   "outputs": [
    {
     "name": "stdout",
     "output_type": "stream",
     "text": [
      "first drop 71\n",
      "shape after 1st drop: (21948, 332)\n",
      "331\n"
     ]
    }
   ],
   "source": [
    "train = train[train.index.isin(cons_train_index)].copy().reset_index(drop=True)\n",
    "targets = targets[targets.index.isin(cons_train_index)].copy().reset_index(drop=True)\n",
    "non_targets = non_targets[non_targets.index.isin(cons_train_index)].copy().reset_index(drop=True)\n",
    "\n",
    "non_target_feats = [i for i in non_targets.columns if i != \"sig_id\"]\n",
    "nontarget_dists = pd.DataFrame(np.sum(non_targets[non_target_feats])).reset_index(drop=False)\n",
    "nontarget_dists.columns = [\"target\", \"number\"]\n",
    "nontarget_dists = nontarget_dists.sort_values(\"number\", ascending=False).reset_index(drop=True)\n",
    "drop_list1 = list(nontarget_dists[nontarget_dists.number==0][\"target\"].values)\n",
    "print(\"first drop\", len(drop_list1))\n",
    "non_targets.drop(drop_list1, axis=1, inplace=True)\n",
    "print(\"shape after 1st drop:\", non_targets.shape)\n",
    "non_target_feats = [i for i in non_targets.columns if i != \"sig_id\"]\n",
    "print(len(non_target_feats))"
   ]
  },
  {
   "cell_type": "markdown",
   "metadata": {
    "papermill": {
     "duration": 0.016238,
     "end_time": "2020-10-17T04:45:39.412172",
     "exception": false,
     "start_time": "2020-10-17T04:45:39.395934",
     "status": "completed"
    },
    "tags": []
   },
   "source": [
    "# feature engineering"
   ]
  },
  {
   "cell_type": "code",
   "execution_count": 6,
   "metadata": {
    "execution": {
     "iopub.execute_input": "2020-10-17T04:45:39.464779Z",
     "iopub.status.busy": "2020-10-17T04:45:39.463666Z",
     "iopub.status.idle": "2020-10-17T04:45:41.233401Z",
     "shell.execute_reply": "2020-10-17T04:45:41.232663Z"
    },
    "papermill": {
     "duration": 1.804857,
     "end_time": "2020-10-17T04:45:41.233519",
     "exception": false,
     "start_time": "2020-10-17T04:45:39.428662",
     "status": "completed"
    },
    "tags": []
   },
   "outputs": [],
   "source": [
    "num = 10\n",
    "pca_c_cols = [\"pca-c\"+str(i+1) for i in range(num)]\n",
    "pca = PCA(n_components=num,random_state=42)\n",
    "c_train = pca.fit_transform(train[c_feats])\n",
    "c_test = pca.transform(test[c_feats])\n",
    "c_train = pd.DataFrame(c_train, columns=pca_c_cols)\n",
    "c_test = pd.DataFrame(c_test, columns=pca_c_cols)\n",
    "\n",
    "num = 30\n",
    "pca_g_cols = [\"pca-g\"+str(i+1) for i in range(num)]\n",
    "pca = PCA(n_components=num, random_state=42)\n",
    "g_train = pca.fit_transform(train[g_feats])\n",
    "g_test = pca.transform(test[g_feats])\n",
    "g_train = pd.DataFrame(g_train, columns=pca_g_cols)\n",
    "g_test = pd.DataFrame(g_test, columns=pca_g_cols)\n",
    "\n",
    "train = pd.concat([train, c_train],axis=1)\n",
    "test = pd.concat([test, c_test],axis=1)\n",
    "train = pd.concat([train, g_train],axis=1)\n",
    "test = pd.concat([test, g_test],axis=1)"
   ]
  },
  {
   "cell_type": "code",
   "execution_count": 7,
   "metadata": {
    "execution": {
     "iopub.execute_input": "2020-10-17T04:45:41.275736Z",
     "iopub.status.busy": "2020-10-17T04:45:41.274462Z",
     "iopub.status.idle": "2020-10-17T04:45:41.534775Z",
     "shell.execute_reply": "2020-10-17T04:45:41.534173Z"
    },
    "papermill": {
     "duration": 0.284413,
     "end_time": "2020-10-17T04:45:41.534896",
     "exception": false,
     "start_time": "2020-10-17T04:45:41.250483",
     "status": "completed"
    },
    "tags": []
   },
   "outputs": [
    {
     "name": "stdout",
     "output_type": "stream",
     "text": [
      "(21948, 914) (3982, 914)\n"
     ]
    }
   ],
   "source": [
    "def fe(df):\n",
    "    tmp = df.copy()\n",
    "    #tmp.loc[:, 'cp_type'] = tmp.loc[:, 'cp_type'].map({'trt_cp': 0, 'ctl_vehicle': 1})\n",
    "    tmp.loc[:, 'cp_dose'] = tmp.loc[:, 'cp_dose'].map({'D1': 0, 'D2': 1})        \n",
    "    tmp.drop([\"cp_type\", \"sig_id\"], axis=1, inplace=True)\n",
    "    return tmp\n",
    "\n",
    "train = fe(train)\n",
    "test = fe(test)\n",
    "\n",
    "print(train.shape, test.shape)"
   ]
  },
  {
   "cell_type": "code",
   "execution_count": 8,
   "metadata": {
    "execution": {
     "iopub.execute_input": "2020-10-17T04:45:41.575852Z",
     "iopub.status.busy": "2020-10-17T04:45:41.574545Z",
     "iopub.status.idle": "2020-10-17T04:45:41.777057Z",
     "shell.execute_reply": "2020-10-17T04:45:41.776496Z"
    },
    "papermill": {
     "duration": 0.226081,
     "end_time": "2020-10-17T04:45:41.777186",
     "exception": false,
     "start_time": "2020-10-17T04:45:41.551105",
     "status": "completed"
    },
    "tags": []
   },
   "outputs": [],
   "source": [
    "fn_train = train.copy().to_numpy()\n",
    "fn_test = test.copy().to_numpy()\n",
    "\n",
    "#ss = preprocessing.RobustScaler()\n",
    "#fn_train= ss.fit_transform(fn_train)\n",
    "#fn_test = ss.transform(fn_test)\n",
    "\n",
    "fn_non_targets = non_targets.drop(\"sig_id\", axis=1).copy().to_numpy()\n",
    "fn_targets = targets.drop(\"sig_id\", axis=1).copy().to_numpy()"
   ]
  },
  {
   "cell_type": "markdown",
   "metadata": {
    "papermill": {
     "duration": 0.017008,
     "end_time": "2020-10-17T04:45:41.811432",
     "exception": false,
     "start_time": "2020-10-17T04:45:41.794424",
     "status": "completed"
    },
    "tags": []
   },
   "source": [
    "# modelling"
   ]
  },
  {
   "cell_type": "code",
   "execution_count": 9,
   "metadata": {
    "execution": {
     "iopub.execute_input": "2020-10-17T04:45:41.855094Z",
     "iopub.status.busy": "2020-10-17T04:45:41.853210Z",
     "iopub.status.idle": "2020-10-17T04:45:41.855830Z",
     "shell.execute_reply": "2020-10-17T04:45:41.856326Z"
    },
    "papermill": {
     "duration": 0.028048,
     "end_time": "2020-10-17T04:45:41.856442",
     "exception": false,
     "start_time": "2020-10-17T04:45:41.828394",
     "status": "completed"
    },
    "tags": []
   },
   "outputs": [],
   "source": [
    "class LogitsLogLoss(Metric):\n",
    "    def __init__(self):\n",
    "        self._name = \"logits_ll\"\n",
    "        self._maximize = False\n",
    "\n",
    "    def __call__(self, y_true, y_pred):\n",
    "        \"\"\"\n",
    "        Compute LogLoss of predictions.\n",
    "\n",
    "        Parameters\n",
    "        ----------\n",
    "        y_true: np.ndarray\n",
    "            Target matrix or vector\n",
    "        y_score: np.ndarray\n",
    "            Score matrix or vector\n",
    "\n",
    "        Returns\n",
    "        -------\n",
    "            float\n",
    "            LogLoss of predictions vs targets.\n",
    "        \"\"\"\n",
    "        logits = 1 / (1 + np.exp(-y_pred))\n",
    "        aux = (1-y_true)*np.log(1-logits+1e-15) + y_true*np.log(logits+1e-15)\n",
    "        return np.mean(-aux)"
   ]
  },
  {
   "cell_type": "code",
   "execution_count": 10,
   "metadata": {
    "execution": {
     "iopub.execute_input": "2020-10-17T04:45:41.899962Z",
     "iopub.status.busy": "2020-10-17T04:45:41.898062Z",
     "iopub.status.idle": "2020-10-17T04:45:41.900740Z",
     "shell.execute_reply": "2020-10-17T04:45:41.901287Z"
    },
    "papermill": {
     "duration": 0.028025,
     "end_time": "2020-10-17T04:45:41.901408",
     "exception": false,
     "start_time": "2020-10-17T04:45:41.873383",
     "status": "completed"
    },
    "tags": []
   },
   "outputs": [],
   "source": [
    "MAX_EPOCH=200\n",
    "tabnet_params = dict(n_d=24, n_a=24, n_steps=1, gamma=1.3,\n",
    "                     lambda_sparse=0, optimizer_fn=torch.optim.Adam,\n",
    "                     optimizer_params=dict(lr=2e-2, weight_decay=1e-5),\n",
    "                     mask_type='entmax',\n",
    "                     scheduler_params=dict(mode=\"min\",\n",
    "                                           patience=5,\n",
    "                                           min_lr=1e-5,\n",
    "                                           factor=0.9,),\n",
    "                     scheduler_fn=torch.optim.lr_scheduler.ReduceLROnPlateau,\n",
    "                     verbose=10,\n",
    "                     )"
   ]
  },
  {
   "cell_type": "code",
   "execution_count": 11,
   "metadata": {
    "execution": {
     "iopub.execute_input": "2020-10-17T04:45:41.958839Z",
     "iopub.status.busy": "2020-10-17T04:45:41.948911Z",
     "iopub.status.idle": "2020-10-17T05:02:48.064595Z",
     "shell.execute_reply": "2020-10-17T05:02:48.063623Z"
    },
    "papermill": {
     "duration": 1026.145792,
     "end_time": "2020-10-17T05:02:48.064750",
     "exception": false,
     "start_time": "2020-10-17T04:45:41.918958",
     "status": "completed"
    },
    "tags": []
   },
   "outputs": [
    {
     "name": "stdout",
     "output_type": "stream",
     "text": [
      "FOLDS :  1\n",
      "Device used : cuda\n",
      "epoch 0  | loss: 0.45089 | val_logits_ll: 0.11951 |  0:00:01s\n",
      "epoch 10 | loss: 0.02018 | val_logits_ll: 0.02053 |  0:00:12s\n",
      "epoch 20 | loss: 0.01796 | val_logits_ll: 0.01954 |  0:00:23s\n",
      "epoch 30 | loss: 0.01706 | val_logits_ll: 0.01925 |  0:00:34s\n",
      "epoch 40 | loss: 0.01649 | val_logits_ll: 0.01728 |  0:00:44s\n",
      "epoch 50 | loss: 0.0161  | val_logits_ll: 0.01717 |  0:00:55s\n",
      "epoch 60 | loss: 0.01608 | val_logits_ll: 0.01704 |  0:01:05s\n",
      "epoch 70 | loss: 0.01571 | val_logits_ll: 0.01687 |  0:01:16s\n",
      "epoch 80 | loss: 0.01539 | val_logits_ll: 0.01701 |  0:01:27s\n",
      "epoch 90 | loss: 0.01537 | val_logits_ll: 0.01668 |  0:01:38s\n",
      "\n",
      "Early stopping occured at epoch 99 with best_epoch = 79 and best_val_logits_ll = 0.01663\n",
      "Best weights from best epoch are automatically used!\n",
      "FOLDS :  2\n",
      "Device used : cuda\n",
      "epoch 0  | loss: 0.44891 | val_logits_ll: 0.11147 |  0:00:00s\n",
      "epoch 10 | loss: 0.01971 | val_logits_ll: 0.01965 |  0:00:11s\n",
      "epoch 20 | loss: 0.01777 | val_logits_ll: 0.01834 |  0:00:21s\n",
      "epoch 30 | loss: 0.01677 | val_logits_ll: 0.01807 |  0:00:32s\n",
      "epoch 40 | loss: 0.01635 | val_logits_ll: 0.01864 |  0:00:43s\n",
      "epoch 50 | loss: 0.01591 | val_logits_ll: 0.01713 |  0:00:53s\n",
      "epoch 60 | loss: 0.01554 | val_logits_ll: 0.01817 |  0:01:04s\n",
      "epoch 70 | loss: 0.01513 | val_logits_ll: 0.01714 |  0:01:14s\n",
      "epoch 80 | loss: 0.01497 | val_logits_ll: 0.0175  |  0:01:24s\n",
      "epoch 90 | loss: 0.01428 | val_logits_ll: 0.01748 |  0:01:36s\n",
      "\n",
      "Early stopping occured at epoch 92 with best_epoch = 72 and best_val_logits_ll = 0.01707\n",
      "Best weights from best epoch are automatically used!\n",
      "FOLDS :  3\n",
      "Device used : cuda\n",
      "epoch 0  | loss: 0.45153 | val_logits_ll: 0.10163 |  0:00:00s\n",
      "epoch 10 | loss: 0.01979 | val_logits_ll: 0.01982 |  0:00:11s\n",
      "epoch 20 | loss: 0.01776 | val_logits_ll: 0.01848 |  0:00:21s\n",
      "epoch 30 | loss: 0.01693 | val_logits_ll: 0.01925 |  0:00:32s\n",
      "epoch 40 | loss: 0.01648 | val_logits_ll: 0.02119 |  0:00:42s\n",
      "epoch 50 | loss: 0.01628 | val_logits_ll: 0.01762 |  0:00:53s\n",
      "epoch 60 | loss: 0.01612 | val_logits_ll: 0.01765 |  0:01:05s\n",
      "epoch 70 | loss: 0.01581 | val_logits_ll: 0.01694 |  0:01:15s\n",
      "epoch 80 | loss: 0.01575 | val_logits_ll: 0.0173  |  0:01:25s\n",
      "epoch 90 | loss: 0.01533 | val_logits_ll: 0.01756 |  0:01:36s\n",
      "epoch 100| loss: 0.01493 | val_logits_ll: 0.01703 |  0:01:46s\n",
      "\n",
      "Early stopping occured at epoch 106 with best_epoch = 86 and best_val_logits_ll = 0.01687\n",
      "Best weights from best epoch are automatically used!\n",
      "FOLDS :  4\n",
      "Device used : cuda\n",
      "epoch 0  | loss: 0.45141 | val_logits_ll: 0.09959 |  0:00:01s\n",
      "epoch 10 | loss: 0.01996 | val_logits_ll: 0.0198  |  0:00:11s\n",
      "epoch 20 | loss: 0.01786 | val_logits_ll: 0.01794 |  0:00:21s\n",
      "epoch 30 | loss: 0.01713 | val_logits_ll: 0.01778 |  0:00:31s\n",
      "epoch 40 | loss: 0.01665 | val_logits_ll: 0.01723 |  0:00:42s\n",
      "epoch 50 | loss: 0.01617 | val_logits_ll: 0.01931 |  0:00:52s\n",
      "epoch 60 | loss: 0.01596 | val_logits_ll: 0.01693 |  0:01:03s\n",
      "epoch 70 | loss: 0.01576 | val_logits_ll: 0.01697 |  0:01:14s\n",
      "epoch 80 | loss: 0.01548 | val_logits_ll: 0.01694 |  0:01:24s\n",
      "\n",
      "Early stopping occured at epoch 83 with best_epoch = 63 and best_val_logits_ll = 0.01681\n",
      "Best weights from best epoch are automatically used!\n",
      "FOLDS :  5\n",
      "Device used : cuda\n",
      "epoch 0  | loss: 0.44936 | val_logits_ll: 0.11566 |  0:00:01s\n",
      "epoch 10 | loss: 0.02012 | val_logits_ll: 0.02012 |  0:00:11s\n",
      "epoch 20 | loss: 0.01838 | val_logits_ll: 0.01862 |  0:00:21s\n",
      "epoch 30 | loss: 0.01734 | val_logits_ll: 0.0191  |  0:00:33s\n",
      "epoch 40 | loss: 0.01679 | val_logits_ll: 0.01768 |  0:00:43s\n",
      "epoch 50 | loss: 0.01639 | val_logits_ll: 0.01735 |  0:00:53s\n",
      "epoch 60 | loss: 0.01646 | val_logits_ll: 0.01712 |  0:01:03s\n",
      "epoch 70 | loss: 0.01575 | val_logits_ll: 0.01722 |  0:01:13s\n",
      "epoch 80 | loss: 0.01546 | val_logits_ll: 0.01736 |  0:01:24s\n",
      "epoch 90 | loss: 0.01503 | val_logits_ll: 0.01691 |  0:01:35s\n",
      "\n",
      "Early stopping occured at epoch 94 with best_epoch = 74 and best_val_logits_ll = 0.01689\n",
      "Best weights from best epoch are automatically used!\n",
      "FOLDS :  1\n",
      "Device used : cuda\n",
      "epoch 0  | loss: 0.45089 | val_logits_ll: 0.11951 |  0:00:00s\n",
      "epoch 10 | loss: 0.02018 | val_logits_ll: 0.02053 |  0:00:11s\n",
      "epoch 20 | loss: 0.01796 | val_logits_ll: 0.01954 |  0:00:21s\n",
      "epoch 30 | loss: 0.01706 | val_logits_ll: 0.01925 |  0:00:31s\n",
      "epoch 40 | loss: 0.01649 | val_logits_ll: 0.01728 |  0:00:41s\n",
      "epoch 50 | loss: 0.0161  | val_logits_ll: 0.01717 |  0:00:53s\n",
      "epoch 60 | loss: 0.01608 | val_logits_ll: 0.01704 |  0:01:03s\n",
      "epoch 70 | loss: 0.01571 | val_logits_ll: 0.01687 |  0:01:13s\n",
      "epoch 80 | loss: 0.01539 | val_logits_ll: 0.01701 |  0:01:24s\n",
      "epoch 90 | loss: 0.01537 | val_logits_ll: 0.01668 |  0:01:33s\n",
      "\n",
      "Early stopping occured at epoch 99 with best_epoch = 79 and best_val_logits_ll = 0.01663\n",
      "Best weights from best epoch are automatically used!\n",
      "FOLDS :  2\n",
      "Device used : cuda\n",
      "epoch 0  | loss: 0.44891 | val_logits_ll: 0.11147 |  0:00:01s\n",
      "epoch 10 | loss: 0.01971 | val_logits_ll: 0.01965 |  0:00:12s\n",
      "epoch 20 | loss: 0.01777 | val_logits_ll: 0.01834 |  0:00:21s\n",
      "epoch 30 | loss: 0.01677 | val_logits_ll: 0.01807 |  0:00:31s\n",
      "epoch 40 | loss: 0.01635 | val_logits_ll: 0.01864 |  0:00:42s\n",
      "epoch 50 | loss: 0.01591 | val_logits_ll: 0.01713 |  0:00:52s\n",
      "epoch 60 | loss: 0.01554 | val_logits_ll: 0.01817 |  0:01:03s\n",
      "epoch 70 | loss: 0.01513 | val_logits_ll: 0.01714 |  0:01:14s\n",
      "epoch 80 | loss: 0.01497 | val_logits_ll: 0.0175  |  0:01:24s\n",
      "epoch 90 | loss: 0.01428 | val_logits_ll: 0.01748 |  0:01:34s\n",
      "\n",
      "Early stopping occured at epoch 92 with best_epoch = 72 and best_val_logits_ll = 0.01707\n",
      "Best weights from best epoch are automatically used!\n",
      "FOLDS :  3\n",
      "Device used : cuda\n",
      "epoch 0  | loss: 0.45153 | val_logits_ll: 0.10163 |  0:00:01s\n",
      "epoch 10 | loss: 0.01979 | val_logits_ll: 0.01982 |  0:00:11s\n",
      "epoch 20 | loss: 0.01776 | val_logits_ll: 0.01848 |  0:00:21s\n",
      "epoch 30 | loss: 0.01693 | val_logits_ll: 0.01925 |  0:00:33s\n",
      "epoch 40 | loss: 0.01648 | val_logits_ll: 0.02119 |  0:00:43s\n",
      "epoch 50 | loss: 0.01628 | val_logits_ll: 0.01762 |  0:00:53s\n",
      "epoch 60 | loss: 0.01612 | val_logits_ll: 0.01765 |  0:01:03s\n",
      "epoch 70 | loss: 0.01581 | val_logits_ll: 0.01694 |  0:01:13s\n",
      "epoch 80 | loss: 0.01575 | val_logits_ll: 0.0173  |  0:01:24s\n",
      "epoch 90 | loss: 0.01533 | val_logits_ll: 0.01756 |  0:01:35s\n",
      "epoch 100| loss: 0.01493 | val_logits_ll: 0.01703 |  0:01:46s\n",
      "\n",
      "Early stopping occured at epoch 106 with best_epoch = 86 and best_val_logits_ll = 0.01687\n",
      "Best weights from best epoch are automatically used!\n",
      "FOLDS :  4\n",
      "Device used : cuda\n",
      "epoch 0  | loss: 0.45141 | val_logits_ll: 0.09959 |  0:00:00s\n",
      "epoch 10 | loss: 0.01996 | val_logits_ll: 0.0198  |  0:00:11s\n",
      "epoch 20 | loss: 0.01786 | val_logits_ll: 0.01794 |  0:00:21s\n",
      "epoch 30 | loss: 0.01713 | val_logits_ll: 0.01778 |  0:00:31s\n",
      "epoch 40 | loss: 0.01665 | val_logits_ll: 0.01723 |  0:00:42s\n",
      "epoch 50 | loss: 0.01617 | val_logits_ll: 0.01931 |  0:00:53s\n",
      "epoch 60 | loss: 0.01596 | val_logits_ll: 0.01693 |  0:01:03s\n",
      "epoch 70 | loss: 0.01576 | val_logits_ll: 0.01697 |  0:01:13s\n",
      "epoch 80 | loss: 0.01548 | val_logits_ll: 0.01694 |  0:01:23s\n",
      "\n",
      "Early stopping occured at epoch 83 with best_epoch = 63 and best_val_logits_ll = 0.01681\n",
      "Best weights from best epoch are automatically used!\n",
      "FOLDS :  5\n",
      "Device used : cuda\n",
      "epoch 0  | loss: 0.44936 | val_logits_ll: 0.11566 |  0:00:01s\n",
      "epoch 10 | loss: 0.02012 | val_logits_ll: 0.02012 |  0:00:11s\n",
      "epoch 20 | loss: 0.01838 | val_logits_ll: 0.01862 |  0:00:21s\n",
      "epoch 30 | loss: 0.01734 | val_logits_ll: 0.0191  |  0:00:32s\n",
      "epoch 40 | loss: 0.01679 | val_logits_ll: 0.01768 |  0:00:42s\n",
      "epoch 50 | loss: 0.01639 | val_logits_ll: 0.01735 |  0:00:52s\n",
      "epoch 60 | loss: 0.01646 | val_logits_ll: 0.01712 |  0:01:03s\n",
      "epoch 70 | loss: 0.01575 | val_logits_ll: 0.01722 |  0:01:14s\n",
      "epoch 80 | loss: 0.01546 | val_logits_ll: 0.01736 |  0:01:24s\n",
      "epoch 90 | loss: 0.01503 | val_logits_ll: 0.01691 |  0:01:35s\n",
      "\n",
      "Early stopping occured at epoch 94 with best_epoch = 74 and best_val_logits_ll = 0.01689\n",
      "Best weights from best epoch are automatically used!\n"
     ]
    }
   ],
   "source": [
    "def seed_everything(seed_value):\n",
    "    random.seed(seed_value)\n",
    "    np.random.seed(seed_value)\n",
    "    torch.manual_seed(seed_value)\n",
    "    os.environ['PYTHONHASHSEED'] = str(seed_value)\n",
    "    \n",
    "    if torch.cuda.is_available(): \n",
    "        torch.cuda.manual_seed(seed_value)\n",
    "        torch.cuda.manual_seed_all(seed_value)\n",
    "        torch.backends.cudnn.deterministic = True\n",
    "        torch.backends.cudnn.benchmark = False\n",
    "\n",
    "def modelling_tabnet(tr, target, te, sample_seed):\n",
    "    seed_everything(sample_seed) \n",
    "    test_cv_preds = []\n",
    "\n",
    "    NB_SPLITS = 5\n",
    "    mskf = MultilabelStratifiedKFold(n_splits=NB_SPLITS, random_state=0, shuffle=True)\n",
    "    oof_preds = np.zeros([len(tr),target.shape[1]])\n",
    "    scores = []\n",
    "    for fold_nb, (train_idx, val_idx) in enumerate(mskf.split(train, target)):\n",
    "        print(\"FOLDS : \", fold_nb+1)\n",
    "\n",
    "        ## model\n",
    "        X_train, y_train = tr[train_idx, :], target[train_idx, :]\n",
    "        X_val, y_val = tr[val_idx, :], target[val_idx, :]\n",
    "        model = TabNetRegressor(**tabnet_params)\n",
    "    \n",
    "        model.fit(X_train=X_train,\n",
    "              y_train=y_train,\n",
    "              eval_set=[(X_val, y_val)],\n",
    "              eval_name = [\"val\"],\n",
    "              eval_metric = [\"logits_ll\"],\n",
    "              max_epochs=MAX_EPOCH,\n",
    "              patience=20, batch_size=1024, virtual_batch_size=128,\n",
    "              num_workers=1, drop_last=False,\n",
    "              # use binary cross entropy as this is not a regression problem\n",
    "              loss_fn=torch.nn.functional.binary_cross_entropy_with_logits)\n",
    "    \n",
    "        preds_val = model.predict(X_val)\n",
    "        # Apply sigmoid to the predictions\n",
    "        preds =  1 / (1 + np.exp(-preds_val))\n",
    "        score = np.min(model.history[\"val_logits_ll\"])\n",
    "    #     name = cfg.save_name + f\"_fold{fold_nb}\"\n",
    "    #     model.save_model(name)\n",
    "        oof_preds[val_idx,:] = preds\n",
    "        scores.append(score)\n",
    "\n",
    "        # preds on test\n",
    "        preds_test = model.predict(te)\n",
    "        test_cv_preds.append(1 / (1 + np.exp(-preds_test)))\n",
    "\n",
    "    test_preds_all = np.stack(test_cv_preds)\n",
    "    return oof_preds, test_preds_all\n",
    "\n",
    "target_oof = np.zeros([len(fn_train),fn_targets.shape[1]])\n",
    "target_pred = np.zeros([len(fn_test),fn_targets.shape[1]])\n",
    "\n",
    "seeds = [0,1]\n",
    "for seed_ in seeds:\n",
    "    oof_preds, test_preds_all = modelling_tabnet(fn_train, fn_targets, fn_test, seed_)\n",
    "    target_oof += oof_preds / len(seeds)\n",
    "    target_pred += test_preds_all.mean(axis=0) / len(seeds)"
   ]
  },
  {
   "cell_type": "code",
   "execution_count": 12,
   "metadata": {
    "execution": {
     "iopub.execute_input": "2020-10-17T05:02:48.216483Z",
     "iopub.status.busy": "2020-10-17T05:02:48.215537Z",
     "iopub.status.idle": "2020-10-17T05:02:54.303477Z",
     "shell.execute_reply": "2020-10-17T05:02:54.304203Z"
    },
    "papermill": {
     "duration": 6.174274,
     "end_time": "2020-10-17T05:02:54.304363",
     "exception": false,
     "start_time": "2020-10-17T05:02:48.130089",
     "status": "completed"
    },
    "tags": []
   },
   "outputs": [
    {
     "name": "stdout",
     "output_type": "stream",
     "text": [
      "OOF log loss:  0.015531262034623673\n"
     ]
    }
   ],
   "source": [
    "t = pd.read_csv(DATA_DIR + 'train_targets_scored.csv')\n",
    "train_checkscore = t.copy()\n",
    "train_checkscore.loc[train_checkscore.index.isin(cons_train_index),target_feats] = target_oof\n",
    "train_checkscore.loc[train_checkscore.index.isin(noncons_train_index),target_feats] = 0\n",
    "\n",
    "t.drop(\"sig_id\", axis=1, inplace=True)\n",
    "print('OOF log loss: ', log_loss(np.ravel(t), np.ravel(np.array(train_checkscore.iloc[:,1:]))))"
   ]
  },
  {
   "cell_type": "code",
   "execution_count": 13,
   "metadata": {
    "execution": {
     "iopub.execute_input": "2020-10-17T05:02:54.431712Z",
     "iopub.status.busy": "2020-10-17T05:02:54.430883Z",
     "iopub.status.idle": "2020-10-17T05:02:57.147814Z",
     "shell.execute_reply": "2020-10-17T05:02:57.146606Z"
    },
    "papermill": {
     "duration": 2.783805,
     "end_time": "2020-10-17T05:02:57.147978",
     "exception": false,
     "start_time": "2020-10-17T05:02:54.364173",
     "status": "completed"
    },
    "tags": []
   },
   "outputs": [],
   "source": [
    "sub[target_feats] = target_pred\n",
    "sub.loc[noncons_test_index,target_feats] = 0\n",
    "sub.to_csv('submission.csv', index=False)"
   ]
  },
  {
   "cell_type": "code",
   "execution_count": null,
   "metadata": {
    "papermill": {
     "duration": 0.064687,
     "end_time": "2020-10-17T05:02:57.275060",
     "exception": false,
     "start_time": "2020-10-17T05:02:57.210373",
     "status": "completed"
    },
    "tags": []
   },
   "outputs": [],
   "source": []
  }
 ],
 "metadata": {
  "kernelspec": {
   "display_name": "Python 3",
   "language": "python",
   "name": "python3"
  },
  "language_info": {
   "codemirror_mode": {
    "name": "ipython",
    "version": 3
   },
   "file_extension": ".py",
   "mimetype": "text/x-python",
   "name": "python",
   "nbconvert_exporter": "python",
   "pygments_lexer": "ipython3",
   "version": "3.7.6"
  },
  "papermill": {
   "duration": 1067.266315,
   "end_time": "2020-10-17T05:02:58.747976",
   "environment_variables": {},
   "exception": null,
   "input_path": "__notebook__.ipynb",
   "output_path": "__notebook__.ipynb",
   "parameters": {},
   "start_time": "2020-10-17T04:45:11.481661",
   "version": "2.1.0"
  }
 },
 "nbformat": 4,
 "nbformat_minor": 4
}
