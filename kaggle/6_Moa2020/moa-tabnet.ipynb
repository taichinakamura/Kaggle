{
 "cells": [
  {
   "cell_type": "markdown",
   "metadata": {
    "papermill": {
     "duration": 0.019638,
     "end_time": "2020-10-29T13:23:36.142096",
     "exception": false,
     "start_time": "2020-10-29T13:23:36.122458",
     "status": "completed"
    },
    "tags": []
   },
   "source": [
    "- consider ctl group\n",
    "- change fe method in categorical vars\n",
    "- remove some features\n",
    "- try label smoothing"
   ]
  },
  {
   "cell_type": "code",
   "execution_count": 1,
   "metadata": {
    "execution": {
     "iopub.execute_input": "2020-10-29T13:23:36.187965Z",
     "iopub.status.busy": "2020-10-29T13:23:36.187125Z",
     "iopub.status.idle": "2020-10-29T13:23:45.432301Z",
     "shell.execute_reply": "2020-10-29T13:23:45.431525Z"
    },
    "papermill": {
     "duration": 9.268964,
     "end_time": "2020-10-29T13:23:45.432456",
     "exception": false,
     "start_time": "2020-10-29T13:23:36.163492",
     "status": "completed"
    },
    "tags": []
   },
   "outputs": [
    {
     "name": "stdout",
     "output_type": "stream",
     "text": [
      "Looking in links: /kaggle/input/pytorchtabnet/pytorch_tabnet-2.0.0-py3-none-any.whl\r\n",
      "Processing /kaggle/input/pytorchtabnet/pytorch_tabnet-2.0.0-py3-none-any.whl\r\n",
      "Requirement already satisfied: tqdm<5.0,>=4.36 in /opt/conda/lib/python3.7/site-packages (from pytorch-tabnet) (4.45.0)\r\n",
      "Requirement already satisfied: numpy<2.0,>=1.17 in /opt/conda/lib/python3.7/site-packages (from pytorch-tabnet) (1.18.5)\r\n",
      "Requirement already satisfied: torch<2.0,>=1.2 in /opt/conda/lib/python3.7/site-packages (from pytorch-tabnet) (1.6.0)\r\n",
      "Requirement already satisfied: scikit_learn>0.21 in /opt/conda/lib/python3.7/site-packages (from pytorch-tabnet) (0.23.2)\r\n",
      "Requirement already satisfied: scipy>1.4 in /opt/conda/lib/python3.7/site-packages (from pytorch-tabnet) (1.4.1)\r\n",
      "Requirement already satisfied: future in /opt/conda/lib/python3.7/site-packages (from torch<2.0,>=1.2->pytorch-tabnet) (0.18.2)\r\n",
      "Requirement already satisfied: joblib>=0.11 in /opt/conda/lib/python3.7/site-packages (from scikit_learn>0.21->pytorch-tabnet) (0.14.1)\r\n",
      "Requirement already satisfied: threadpoolctl>=2.0.0 in /opt/conda/lib/python3.7/site-packages (from scikit_learn>0.21->pytorch-tabnet) (2.1.0)\r\n",
      "Installing collected packages: pytorch-tabnet\r\n",
      "Successfully installed pytorch-tabnet-2.0.0\r\n"
     ]
    }
   ],
   "source": [
    "!pip install --no-index --find-links /kaggle/input/pytorchtabnet/pytorch_tabnet-2.0.0-py3-none-any.whl pytorch-tabnet"
   ]
  },
  {
   "cell_type": "code",
   "execution_count": 2,
   "metadata": {
    "_cell_guid": "b1076dfc-b9ad-4769-8c92-a6c4dae69d19",
    "_uuid": "8f2839f25d086af736a60e9eeb907d3b93b6e0e5",
    "execution": {
     "iopub.execute_input": "2020-10-29T13:23:45.485963Z",
     "iopub.status.busy": "2020-10-29T13:23:45.485199Z",
     "iopub.status.idle": "2020-10-29T13:23:53.033937Z",
     "shell.execute_reply": "2020-10-29T13:23:53.033113Z"
    },
    "papermill": {
     "duration": 7.580849,
     "end_time": "2020-10-29T13:23:53.034075",
     "exception": false,
     "start_time": "2020-10-29T13:23:45.453226",
     "status": "completed"
    },
    "tags": []
   },
   "outputs": [],
   "source": [
    "import os\n",
    "import sys\n",
    "import random\n",
    "import warnings\n",
    "import numpy as np\n",
    "import pandas as pd \n",
    "from sklearn import preprocessing\n",
    "from sklearn.metrics import log_loss,roc_auc_score\n",
    "from sklearn.decomposition import PCA\n",
    "from tqdm import tqdm_notebook as tqdm\n",
    "from sklearn.cluster import KMeans\n",
    "from sklearn.multioutput import MultiOutputClassifier\n",
    "from sklearn.feature_selection import VarianceThreshold\n",
    "\n",
    "from pytorch_tabnet.metrics import Metric\n",
    "from pytorch_tabnet.tab_model import TabNetRegressor\n",
    "\n",
    "sys.path.append('../input/multilabelstraifier/')\n",
    "from ml_stratifiers import MultilabelStratifiedKFold\n",
    "warnings.filterwarnings('ignore')\n",
    "\n",
    "import time\n",
    "import torch\n",
    "import torch.nn as nn\n",
    "import torch.optim as optim\n",
    "import torch.nn.functional as F\n",
    "import tensorflow as tf"
   ]
  },
  {
   "cell_type": "code",
   "execution_count": 3,
   "metadata": {
    "execution": {
     "iopub.execute_input": "2020-10-29T13:23:53.084775Z",
     "iopub.status.busy": "2020-10-29T13:23:53.083965Z",
     "iopub.status.idle": "2020-10-29T13:24:00.252860Z",
     "shell.execute_reply": "2020-10-29T13:24:00.252194Z"
    },
    "papermill": {
     "duration": 7.198534,
     "end_time": "2020-10-29T13:24:00.252995",
     "exception": false,
     "start_time": "2020-10-29T13:23:53.054461",
     "status": "completed"
    },
    "tags": []
   },
   "outputs": [],
   "source": [
    "DATA_DIR = '/kaggle/input/lish-moa/'\n",
    "train = pd.read_csv(DATA_DIR + 'train_features.csv')\n",
    "targets = pd.read_csv(DATA_DIR + 'train_targets_scored.csv')\n",
    "non_targets = pd.read_csv(DATA_DIR + 'train_targets_nonscored.csv')\n",
    "test = pd.read_csv(DATA_DIR + 'test_features.csv')\n",
    "sub = pd.read_csv(DATA_DIR + 'sample_submission.csv')"
   ]
  },
  {
   "cell_type": "code",
   "execution_count": 4,
   "metadata": {
    "execution": {
     "iopub.execute_input": "2020-10-29T13:24:00.307721Z",
     "iopub.status.busy": "2020-10-29T13:24:00.306936Z",
     "iopub.status.idle": "2020-10-29T13:24:00.436882Z",
     "shell.execute_reply": "2020-10-29T13:24:00.437659Z"
    },
    "papermill": {
     "duration": 0.164231,
     "end_time": "2020-10-29T13:24:00.437826",
     "exception": false,
     "start_time": "2020-10-29T13:24:00.273595",
     "status": "completed"
    },
    "tags": []
   },
   "outputs": [],
   "source": [
    "target_feats = [ i for i in targets.columns if i != \"sig_id\"]\n",
    "g_feats = [i for i in train.columns if \"g-\" in i]\n",
    "c_feats = [i for i in train.columns if \"c-\" in i]\n",
    "\n",
    "noncons_train_index = train[train.cp_type==\"ctl_vehicle\"].index\n",
    "cons_train_index = train[~train.index.isin(noncons_train_index)].index\n",
    "noncons_test_index = test[test.cp_type==\"ctl_vehicle\"].index\n",
    "cons_test_index = test[test.cp_type!=\"ctl_vehicle\"].index"
   ]
  },
  {
   "cell_type": "markdown",
   "metadata": {
    "papermill": {
     "duration": 0.020083,
     "end_time": "2020-10-29T13:24:00.478383",
     "exception": false,
     "start_time": "2020-10-29T13:24:00.458300",
     "status": "completed"
    },
    "tags": []
   },
   "source": [
    "# preprocess"
   ]
  },
  {
   "cell_type": "code",
   "execution_count": 5,
   "metadata": {
    "execution": {
     "iopub.execute_input": "2020-10-29T13:24:00.523447Z",
     "iopub.status.busy": "2020-10-29T13:24:00.522719Z",
     "iopub.status.idle": "2020-10-29T13:24:00.526139Z",
     "shell.execute_reply": "2020-10-29T13:24:00.525514Z"
    },
    "papermill": {
     "duration": 0.02764,
     "end_time": "2020-10-29T13:24:00.526262",
     "exception": false,
     "start_time": "2020-10-29T13:24:00.498622",
     "status": "completed"
    },
    "tags": []
   },
   "outputs": [],
   "source": [
    "#train = train[train.index.isin(cons_train_index)].copy().reset_index(drop=True)\n",
    "#targets = targets[targets.index.isin(cons_train_index)].copy().reset_index(drop=True)"
   ]
  },
  {
   "cell_type": "markdown",
   "metadata": {
    "papermill": {
     "duration": 0.020344,
     "end_time": "2020-10-29T13:24:00.567128",
     "exception": false,
     "start_time": "2020-10-29T13:24:00.546784",
     "status": "completed"
    },
    "tags": []
   },
   "source": [
    "# feature engineering"
   ]
  },
  {
   "cell_type": "code",
   "execution_count": 6,
   "metadata": {
    "execution": {
     "iopub.execute_input": "2020-10-29T13:24:00.669825Z",
     "iopub.status.busy": "2020-10-29T13:24:00.668620Z",
     "iopub.status.idle": "2020-10-29T13:24:01.111715Z",
     "shell.execute_reply": "2020-10-29T13:24:01.110895Z"
    },
    "papermill": {
     "duration": 0.524369,
     "end_time": "2020-10-29T13:24:01.111846",
     "exception": false,
     "start_time": "2020-10-29T13:24:00.587477",
     "status": "completed"
    },
    "tags": []
   },
   "outputs": [
    {
     "data": {
      "text/plain": [
       "11"
      ]
     },
     "execution_count": 6,
     "metadata": {},
     "output_type": "execute_result"
    }
   ],
   "source": [
    "X = train.iloc[:,4:].copy().values\n",
    "select = VarianceThreshold(threshold=0.5)\n",
    "X_new = select.fit_transform(X)\n",
    "drop_feats = list(np.array(train.iloc[:,4:].columns)[select.get_support()==False])\n",
    "len(drop_feats)"
   ]
  },
  {
   "cell_type": "code",
   "execution_count": 7,
   "metadata": {
    "execution": {
     "iopub.execute_input": "2020-10-29T13:24:01.215683Z",
     "iopub.status.busy": "2020-10-29T13:24:01.213874Z",
     "iopub.status.idle": "2020-10-29T13:24:01.227462Z",
     "shell.execute_reply": "2020-10-29T13:24:01.226643Z"
    },
    "papermill": {
     "duration": 0.094744,
     "end_time": "2020-10-29T13:24:01.227592",
     "exception": false,
     "start_time": "2020-10-29T13:24:01.132848",
     "status": "completed"
    },
    "tags": []
   },
   "outputs": [],
   "source": [
    "train.drop(drop_feats, axis=1, inplace=True)\n",
    "test.drop(drop_feats, axis=1, inplace=True)\n",
    "g_feats = [i for i in train.columns if \"g-\" in i]\n",
    "c_feats = [i for i in train.columns if \"c-\" in i]"
   ]
  },
  {
   "cell_type": "code",
   "execution_count": 8,
   "metadata": {
    "execution": {
     "iopub.execute_input": "2020-10-29T13:24:01.275689Z",
     "iopub.status.busy": "2020-10-29T13:24:01.274918Z",
     "iopub.status.idle": "2020-10-29T13:24:01.278187Z",
     "shell.execute_reply": "2020-10-29T13:24:01.277490Z"
    },
    "papermill": {
     "duration": 0.02936,
     "end_time": "2020-10-29T13:24:01.278338",
     "exception": false,
     "start_time": "2020-10-29T13:24:01.248978",
     "status": "completed"
    },
    "tags": []
   },
   "outputs": [],
   "source": [
    "#n_clusters_g = 15\n",
    "#n_clusters_c = 5\n",
    "#def create_cluster(train, test, kind, n_clusters):\n",
    "#    if kind == \"g\":\n",
    "#        train_ = train[g_feats].copy()\n",
    "#        test_ = test[g_feats].copy()\n",
    "#    else:\n",
    "#        train_ = train[c_feats].copy()\n",
    "#        test_ = test[c_feats].copy()    \n",
    "#    kmeans = KMeans(n_clusters = n_clusters, random_state = 0).fit(train_)\n",
    "#    train[f'clusters_{kind}'] = kmeans.labels_\n",
    "#    test[f'clusters_{kind}'] = kmeans.predict(test_)\n",
    "#    train = pd.get_dummies(train, columns = [f'clusters_{kind}'])\n",
    "#    test = pd.get_dummies(test, columns = [f'clusters_{kind}'])\n",
    "#    return train, test\n",
    "    \n",
    "#train, test = create_cluster(train, test, kind = 'g', n_clusters = n_clusters_g)\n",
    "#train, test = create_cluster(train, test, kind = 'c', n_clusters = n_clusters_c)"
   ]
  },
  {
   "cell_type": "code",
   "execution_count": 9,
   "metadata": {
    "execution": {
     "iopub.execute_input": "2020-10-29T13:24:01.326648Z",
     "iopub.status.busy": "2020-10-29T13:24:01.325647Z",
     "iopub.status.idle": "2020-10-29T13:24:01.329271Z",
     "shell.execute_reply": "2020-10-29T13:24:01.328559Z"
    },
    "papermill": {
     "duration": 0.029602,
     "end_time": "2020-10-29T13:24:01.329421",
     "exception": false,
     "start_time": "2020-10-29T13:24:01.299819",
     "status": "completed"
    },
    "tags": []
   },
   "outputs": [],
   "source": [
    "#num = 10\n",
    "#pca_c_cols = [\"pca-c\"+str(i+1) for i in range(num)]\n",
    "#pca = PCA(n_components=num,random_state=42)\n",
    "#c_train = pca.fit_transform(train[c_feats])\n",
    "#c_test = pca.transform(test[c_feats])\n",
    "#c_train = pd.DataFrame(c_train, columns=pca_c_cols)\n",
    "#c_test = pd.DataFrame(c_test, columns=pca_c_cols)\n",
    "\n",
    "#num = 60\n",
    "#pca_g_cols = [\"pca-g\"+str(i+1) for i in range(num)]\n",
    "#pca = PCA(n_components=num, random_state=42)\n",
    "#g_train = pca.fit_transform(train[g_feats])\n",
    "#g_test = pca.transform(test[g_feats])\n",
    "#g_train = pd.DataFrame(g_train, columns=pca_g_cols)\n",
    "#g_test = pd.DataFrame(g_test, columns=pca_g_cols)\n",
    "\n",
    "#train = pd.concat([train, c_train],axis=1)\n",
    "#test = pd.concat([test, c_test],axis=1)\n",
    "#train = pd.concat([train, g_train],axis=1)\n",
    "#test = pd.concat([test, g_test],axis=1)"
   ]
  },
  {
   "cell_type": "code",
   "execution_count": 10,
   "metadata": {
    "execution": {
     "iopub.execute_input": "2020-10-29T13:24:01.382168Z",
     "iopub.status.busy": "2020-10-29T13:24:01.381426Z",
     "iopub.status.idle": "2020-10-29T13:24:01.730865Z",
     "shell.execute_reply": "2020-10-29T13:24:01.731621Z"
    },
    "papermill": {
     "duration": 0.380178,
     "end_time": "2020-10-29T13:24:01.731779",
     "exception": false,
     "start_time": "2020-10-29T13:24:01.351601",
     "status": "completed"
    },
    "tags": []
   },
   "outputs": [
    {
     "name": "stdout",
     "output_type": "stream",
     "text": [
      "(23814, 868) (3982, 868)\n"
     ]
    }
   ],
   "source": [
    "def fe(df):\n",
    "    tmp = df.copy()\n",
    "    tmp = pd.get_dummies(tmp, columns=['cp_time', 'cp_dose', 'cp_type'])\n",
    "    #tmp.loc[:, 'cp_dose'] = tmp.loc[:, 'cp_dose'].map({'D1': 0, 'D2': 1})        \n",
    "    tmp.drop([\"sig_id\"], axis=1, inplace=True)\n",
    "    return tmp\n",
    "\n",
    "train = fe(train)\n",
    "test = fe(test)\n",
    "\n",
    "print(train.shape, test.shape)"
   ]
  },
  {
   "cell_type": "code",
   "execution_count": 11,
   "metadata": {
    "execution": {
     "iopub.execute_input": "2020-10-29T13:24:01.787611Z",
     "iopub.status.busy": "2020-10-29T13:24:01.786090Z",
     "iopub.status.idle": "2020-10-29T13:24:03.693887Z",
     "shell.execute_reply": "2020-10-29T13:24:03.693255Z"
    },
    "papermill": {
     "duration": 1.940077,
     "end_time": "2020-10-29T13:24:03.694026",
     "exception": false,
     "start_time": "2020-10-29T13:24:01.753949",
     "status": "completed"
    },
    "tags": []
   },
   "outputs": [],
   "source": [
    "fn_train = train.copy()\n",
    "fn_test = test.copy()\n",
    "\n",
    "for i in g_feats + c_feats:\n",
    "    ss = preprocessing.RobustScaler()\n",
    "    ss.fit(fn_train[i].values.reshape(-1,1))\n",
    "    fn_train[i] = ss.transform(fn_train[i].values.reshape(-1,1))\n",
    "    fn_test[i] = ss.transform(fn_test[i].values.reshape(-1,1))\n",
    "    \n",
    "fn_train = fn_train.to_numpy()\n",
    "fn_test = fn_test.to_numpy()\n",
    "\n",
    "fn_targets = targets.drop(\"sig_id\", axis=1).copy().to_numpy()"
   ]
  },
  {
   "cell_type": "code",
   "execution_count": 12,
   "metadata": {
    "execution": {
     "iopub.execute_input": "2020-10-29T13:24:03.745374Z",
     "iopub.status.busy": "2020-10-29T13:24:03.744490Z",
     "iopub.status.idle": "2020-10-29T13:24:03.748451Z",
     "shell.execute_reply": "2020-10-29T13:24:03.748981Z"
    },
    "papermill": {
     "duration": 0.032511,
     "end_time": "2020-10-29T13:24:03.749133",
     "exception": false,
     "start_time": "2020-10-29T13:24:03.716622",
     "status": "completed"
    },
    "tags": []
   },
   "outputs": [
    {
     "data": {
      "text/plain": [
       "((23814, 868), (3982, 868), (23814, 206))"
      ]
     },
     "execution_count": 12,
     "metadata": {},
     "output_type": "execute_result"
    }
   ],
   "source": [
    "fn_train.shape, fn_test.shape, fn_targets.shape"
   ]
  },
  {
   "cell_type": "markdown",
   "metadata": {
    "papermill": {
     "duration": 0.022598,
     "end_time": "2020-10-29T13:24:03.794524",
     "exception": false,
     "start_time": "2020-10-29T13:24:03.771926",
     "status": "completed"
    },
    "tags": []
   },
   "source": [
    "# modelling"
   ]
  },
  {
   "cell_type": "code",
   "execution_count": 13,
   "metadata": {
    "execution": {
     "iopub.execute_input": "2020-10-29T13:24:03.851915Z",
     "iopub.status.busy": "2020-10-29T13:24:03.850833Z",
     "iopub.status.idle": "2020-10-29T13:24:03.854172Z",
     "shell.execute_reply": "2020-10-29T13:24:03.853528Z"
    },
    "papermill": {
     "duration": 0.036689,
     "end_time": "2020-10-29T13:24:03.854291",
     "exception": false,
     "start_time": "2020-10-29T13:24:03.817602",
     "status": "completed"
    },
    "tags": []
   },
   "outputs": [],
   "source": [
    "class LogitsLogLoss(Metric):\n",
    "    def __init__(self):\n",
    "        self._name = \"logits_ll\"\n",
    "        self._maximize = False\n",
    "\n",
    "    def __call__(self, y_true, y_pred):\n",
    "        \"\"\"\n",
    "        Compute LogLoss of predictions.\n",
    "\n",
    "        Parameters\n",
    "        ----------\n",
    "        y_true: np.ndarray\n",
    "            Target matrix or vector\n",
    "        y_score: np.ndarray\n",
    "            Score matrix or vector\n",
    "\n",
    "        Returns\n",
    "        -------\n",
    "            float\n",
    "            LogLoss of predictions vs targets.\n",
    "        \"\"\"\n",
    "        logits = 1 / (1 + np.exp(-y_pred))\n",
    "        \n",
    "        smoothing = 0.001\n",
    "        n_classes = 206\n",
    "        y_true = y_true * (1 - smoothing) + np.ones_like(y_true) * smoothing / n_classes\n",
    "        \n",
    "        aux = (1-y_true)*np.log(1-logits+1e-15) + y_true*np.log(logits+1e-15)\n",
    "        return np.mean(-aux)"
   ]
  },
  {
   "cell_type": "code",
   "execution_count": 14,
   "metadata": {
    "execution": {
     "iopub.execute_input": "2020-10-29T13:24:03.930983Z",
     "iopub.status.busy": "2020-10-29T13:24:03.930185Z",
     "iopub.status.idle": "2020-10-29T15:54:26.961599Z",
     "shell.execute_reply": "2020-10-29T15:54:26.960848Z"
    },
    "papermill": {
     "duration": 9023.084201,
     "end_time": "2020-10-29T15:54:26.961749",
     "exception": false,
     "start_time": "2020-10-29T13:24:03.877548",
     "status": "completed"
    },
    "tags": []
   },
   "outputs": [
    {
     "name": "stdout",
     "output_type": "stream",
     "text": [
      "FOLDS :  1\n",
      "Device used : cpu\n",
      "epoch 0  | loss: 0.55155 | val_logits_ll: 0.27997 |  0:00:05s\n",
      "epoch 10 | loss: 0.01919 | val_logits_ll: 0.0193  |  0:00:58s\n",
      "epoch 20 | loss: 0.01781 | val_logits_ll: 0.01787 |  0:01:52s\n",
      "epoch 30 | loss: 0.01635 | val_logits_ll: 0.0168  |  0:02:45s\n",
      "epoch 40 | loss: 0.01556 | val_logits_ll: 0.01654 |  0:03:38s\n",
      "epoch 50 | loss: 0.01534 | val_logits_ll: 0.0164  |  0:04:32s\n",
      "epoch 60 | loss: 0.015   | val_logits_ll: 0.01607 |  0:05:31s\n",
      "epoch 70 | loss: 0.01507 | val_logits_ll: 0.01627 |  0:06:26s\n",
      "epoch 80 | loss: 0.01488 | val_logits_ll: 0.01737 |  0:07:21s\n",
      "epoch 90 | loss: 0.01472 | val_logits_ll: 0.01598 |  0:08:19s\n",
      "epoch 100| loss: 0.01451 | val_logits_ll: 0.0159  |  0:09:21s\n",
      "epoch 110| loss: 0.01436 | val_logits_ll: 0.01599 |  0:10:25s\n",
      "epoch 120| loss: 0.01406 | val_logits_ll: 0.01587 |  0:11:32s\n",
      "\n",
      "Early stopping occured at epoch 124 with best_epoch = 104 and best_val_logits_ll = 0.01582\n",
      "Best weights from best epoch are automatically used!\n",
      "FOLDS :  2\n",
      "Device used : cpu\n",
      "epoch 0  | loss: 0.55894 | val_logits_ll: 0.30156 |  0:00:05s\n",
      "epoch 10 | loss: 0.0192  | val_logits_ll: 0.0191  |  0:00:59s\n",
      "epoch 20 | loss: 0.01747 | val_logits_ll: 0.01783 |  0:01:53s\n",
      "epoch 30 | loss: 0.01603 | val_logits_ll: 0.01656 |  0:02:47s\n",
      "epoch 40 | loss: 0.01543 | val_logits_ll: 0.01643 |  0:03:45s\n",
      "epoch 50 | loss: 0.01519 | val_logits_ll: 0.01603 |  0:04:40s\n",
      "epoch 60 | loss: 0.01475 | val_logits_ll: 0.01603 |  0:05:38s\n",
      "epoch 70 | loss: 0.01454 | val_logits_ll: 0.01593 |  0:06:33s\n",
      "epoch 80 | loss: 0.01439 | val_logits_ll: 0.01584 |  0:07:28s\n",
      "epoch 90 | loss: 0.01395 | val_logits_ll: 0.01592 |  0:08:25s\n",
      "epoch 100| loss: 0.01384 | val_logits_ll: 0.01601 |  0:09:26s\n",
      "\n",
      "Early stopping occured at epoch 102 with best_epoch = 82 and best_val_logits_ll = 0.01578\n",
      "Best weights from best epoch are automatically used!\n",
      "FOLDS :  3\n",
      "Device used : cpu\n",
      "epoch 0  | loss: 0.55344 | val_logits_ll: 0.29952 |  0:00:05s\n",
      "epoch 10 | loss: 0.01897 | val_logits_ll: 0.01888 |  0:01:00s\n",
      "epoch 20 | loss: 0.01684 | val_logits_ll: 0.01699 |  0:01:54s\n",
      "epoch 30 | loss: 0.01605 | val_logits_ll: 0.01727 |  0:02:48s\n",
      "epoch 40 | loss: 0.01556 | val_logits_ll: 0.01643 |  0:03:44s\n",
      "epoch 50 | loss: 0.01522 | val_logits_ll: 0.01597 |  0:04:42s\n",
      "epoch 60 | loss: 0.01509 | val_logits_ll: 0.0158  |  0:05:37s\n",
      "epoch 70 | loss: 0.01472 | val_logits_ll: 0.01596 |  0:06:31s\n",
      "epoch 80 | loss: 0.01467 | val_logits_ll: 0.0158  |  0:07:25s\n",
      "epoch 90 | loss: 0.01431 | val_logits_ll: 0.01571 |  0:08:22s\n",
      "epoch 100| loss: 0.01441 | val_logits_ll: 0.01587 |  0:09:24s\n",
      "epoch 110| loss: 0.01401 | val_logits_ll: 0.01591 |  0:10:28s\n",
      "\n",
      "Early stopping occured at epoch 115 with best_epoch = 95 and best_val_logits_ll = 0.01562\n",
      "Best weights from best epoch are automatically used!\n",
      "FOLDS :  4\n",
      "Device used : cpu\n",
      "epoch 0  | loss: 0.55992 | val_logits_ll: 0.29315 |  0:00:05s\n",
      "epoch 10 | loss: 0.01931 | val_logits_ll: 0.01924 |  0:00:59s\n",
      "epoch 20 | loss: 0.01803 | val_logits_ll: 0.01842 |  0:01:53s\n",
      "epoch 30 | loss: 0.01623 | val_logits_ll: 0.01666 |  0:02:48s\n",
      "epoch 40 | loss: 0.01569 | val_logits_ll: 0.01645 |  0:03:47s\n",
      "epoch 50 | loss: 0.01545 | val_logits_ll: 0.01786 |  0:04:42s\n",
      "epoch 60 | loss: 0.01521 | val_logits_ll: 0.01605 |  0:05:37s\n",
      "epoch 70 | loss: 0.01495 | val_logits_ll: 0.0159  |  0:06:32s\n",
      "epoch 80 | loss: 0.01461 | val_logits_ll: 0.01581 |  0:07:26s\n",
      "epoch 90 | loss: 0.01447 | val_logits_ll: 0.01574 |  0:08:22s\n",
      "epoch 100| loss: 0.01424 | val_logits_ll: 0.01588 |  0:09:19s\n",
      "epoch 110| loss: 0.01387 | val_logits_ll: 0.01623 |  0:10:17s\n",
      "\n",
      "Early stopping occured at epoch 117 with best_epoch = 97 and best_val_logits_ll = 0.01574\n",
      "Best weights from best epoch are automatically used!\n",
      "FOLDS :  5\n",
      "Device used : cpu\n",
      "epoch 0  | loss: 0.55815 | val_logits_ll: 0.27975 |  0:00:05s\n",
      "epoch 10 | loss: 0.01914 | val_logits_ll: 0.01919 |  0:00:59s\n",
      "epoch 20 | loss: 0.0174  | val_logits_ll: 0.01933 |  0:01:52s\n",
      "epoch 30 | loss: 0.01614 | val_logits_ll: 0.01658 |  0:02:50s\n",
      "epoch 40 | loss: 0.01559 | val_logits_ll: 0.01922 |  0:03:44s\n",
      "epoch 50 | loss: 0.01514 | val_logits_ll: 0.01626 |  0:04:39s\n",
      "epoch 60 | loss: 0.01489 | val_logits_ll: 0.01614 |  0:05:34s\n",
      "epoch 70 | loss: 0.01471 | val_logits_ll: 0.01592 |  0:06:27s\n",
      "epoch 80 | loss: 0.01449 | val_logits_ll: 0.01588 |  0:07:21s\n",
      "epoch 90 | loss: 0.014   | val_logits_ll: 0.01617 |  0:08:18s\n",
      "\n",
      "Early stopping occured at epoch 94 with best_epoch = 74 and best_val_logits_ll = 0.01587\n",
      "Best weights from best epoch are automatically used!\n",
      "FOLDS :  1\n",
      "Device used : cpu\n",
      "epoch 0  | loss: 0.51498 | val_logits_ll: 0.22572 |  0:00:05s\n",
      "epoch 10 | loss: 0.01935 | val_logits_ll: 0.01935 |  0:00:58s\n",
      "epoch 20 | loss: 0.0172  | val_logits_ll: 0.01742 |  0:01:52s\n",
      "epoch 30 | loss: 0.0162  | val_logits_ll: 0.01671 |  0:02:44s\n",
      "epoch 40 | loss: 0.01567 | val_logits_ll: 0.01666 |  0:03:43s\n",
      "epoch 50 | loss: 0.01515 | val_logits_ll: 0.01623 |  0:04:37s\n",
      "epoch 60 | loss: 0.01487 | val_logits_ll: 0.01609 |  0:05:31s\n",
      "epoch 70 | loss: 0.01478 | val_logits_ll: 0.01595 |  0:06:25s\n",
      "epoch 80 | loss: 0.01438 | val_logits_ll: 0.01592 |  0:07:20s\n",
      "epoch 90 | loss: 0.01436 | val_logits_ll: 0.01619 |  0:08:16s\n",
      "epoch 100| loss: 0.0139  | val_logits_ll: 0.01604 |  0:09:13s\n",
      "\n",
      "Early stopping occured at epoch 106 with best_epoch = 86 and best_val_logits_ll = 0.01588\n",
      "Best weights from best epoch are automatically used!\n",
      "FOLDS :  2\n",
      "Device used : cpu\n",
      "epoch 0  | loss: 0.51913 | val_logits_ll: 0.22504 |  0:00:05s\n",
      "epoch 10 | loss: 0.01931 | val_logits_ll: 0.01922 |  0:00:59s\n",
      "epoch 20 | loss: 0.01716 | val_logits_ll: 0.01748 |  0:01:53s\n",
      "epoch 30 | loss: 0.01623 | val_logits_ll: 0.0168  |  0:02:46s\n",
      "epoch 40 | loss: 0.01553 | val_logits_ll: 0.01641 |  0:03:43s\n",
      "epoch 50 | loss: 0.01518 | val_logits_ll: 0.01777 |  0:04:41s\n",
      "epoch 60 | loss: 0.01499 | val_logits_ll: 0.01601 |  0:05:36s\n",
      "epoch 70 | loss: 0.01465 | val_logits_ll: 0.01587 |  0:06:31s\n",
      "epoch 80 | loss: 0.0146  | val_logits_ll: 0.01629 |  0:07:26s\n",
      "epoch 90 | loss: 0.01422 | val_logits_ll: 0.01637 |  0:08:23s\n",
      "\n",
      "Early stopping occured at epoch 95 with best_epoch = 75 and best_val_logits_ll = 0.01582\n",
      "Best weights from best epoch are automatically used!\n",
      "FOLDS :  3\n",
      "Device used : cpu\n",
      "epoch 0  | loss: 0.51701 | val_logits_ll: 0.22159 |  0:00:05s\n",
      "epoch 10 | loss: 0.01942 | val_logits_ll: 0.01931 |  0:00:59s\n",
      "epoch 20 | loss: 0.01745 | val_logits_ll: 0.01741 |  0:01:52s\n",
      "epoch 30 | loss: 0.01603 | val_logits_ll: 0.0165  |  0:02:45s\n",
      "epoch 40 | loss: 0.01548 | val_logits_ll: 0.0163  |  0:03:38s\n",
      "epoch 50 | loss: 0.01512 | val_logits_ll: 0.01601 |  0:04:33s\n",
      "epoch 60 | loss: 0.01506 | val_logits_ll: 0.01688 |  0:05:34s\n",
      "epoch 70 | loss: 0.01467 | val_logits_ll: 0.016   |  0:06:28s\n",
      "epoch 80 | loss: 0.0145  | val_logits_ll: 0.01584 |  0:07:22s\n",
      "epoch 90 | loss: 0.01423 | val_logits_ll: 0.01589 |  0:08:20s\n",
      "epoch 100| loss: 0.01403 | val_logits_ll: 0.01593 |  0:09:22s\n",
      "\n",
      "Early stopping occured at epoch 108 with best_epoch = 88 and best_val_logits_ll = 0.0157\n",
      "Best weights from best epoch are automatically used!\n",
      "FOLDS :  4\n",
      "Device used : cpu\n",
      "epoch 0  | loss: 0.52089 | val_logits_ll: 0.22799 |  0:00:05s\n",
      "epoch 10 | loss: 0.01899 | val_logits_ll: 0.0192  |  0:00:58s\n",
      "epoch 20 | loss: 0.01708 | val_logits_ll: 0.01721 |  0:01:51s\n",
      "epoch 30 | loss: 0.01621 | val_logits_ll: 0.01685 |  0:02:45s\n",
      "epoch 40 | loss: 0.01556 | val_logits_ll: 0.0165  |  0:03:39s\n",
      "epoch 50 | loss: 0.01528 | val_logits_ll: 0.01604 |  0:04:33s\n",
      "epoch 60 | loss: 0.01498 | val_logits_ll: 0.01586 |  0:05:33s\n",
      "epoch 70 | loss: 0.01482 | val_logits_ll: 0.01589 |  0:06:27s\n",
      "epoch 80 | loss: 0.01462 | val_logits_ll: 0.01605 |  0:07:21s\n",
      "epoch 90 | loss: 0.01424 | val_logits_ll: 0.01588 |  0:08:17s\n",
      "epoch 100| loss: 0.01427 | val_logits_ll: 0.01584 |  0:09:18s\n",
      "epoch 110| loss: 0.01406 | val_logits_ll: 0.01606 |  0:10:22s\n",
      "\n",
      "Early stopping occured at epoch 114 with best_epoch = 94 and best_val_logits_ll = 0.01572\n",
      "Best weights from best epoch are automatically used!\n",
      "FOLDS :  5\n",
      "Device used : cpu\n",
      "epoch 0  | loss: 0.52335 | val_logits_ll: 0.2197  |  0:00:05s\n",
      "epoch 10 | loss: 0.01905 | val_logits_ll: 0.01917 |  0:00:58s\n",
      "epoch 20 | loss: 0.01759 | val_logits_ll: 0.0177  |  0:01:52s\n",
      "epoch 30 | loss: 0.01655 | val_logits_ll: 0.01701 |  0:02:44s\n",
      "epoch 40 | loss: 0.01577 | val_logits_ll: 0.01643 |  0:03:38s\n",
      "epoch 50 | loss: 0.01552 | val_logits_ll: 0.01678 |  0:04:37s\n",
      "epoch 60 | loss: 0.01516 | val_logits_ll: 0.01599 |  0:05:31s\n",
      "epoch 70 | loss: 0.01488 | val_logits_ll: 0.0159  |  0:06:25s\n",
      "epoch 80 | loss: 0.01461 | val_logits_ll: 0.01577 |  0:07:19s\n",
      "epoch 90 | loss: 0.01451 | val_logits_ll: 0.01609 |  0:08:14s\n",
      "\n",
      "Early stopping occured at epoch 98 with best_epoch = 78 and best_val_logits_ll = 0.01568\n",
      "Best weights from best epoch are automatically used!\n",
      "FOLDS :  1\n",
      "Device used : cpu\n",
      "epoch 0  | loss: 0.55133 | val_logits_ll: 0.29385 |  0:00:05s\n",
      "epoch 10 | loss: 0.0193  | val_logits_ll: 0.01929 |  0:00:59s\n",
      "epoch 20 | loss: 0.01755 | val_logits_ll: 0.01769 |  0:01:52s\n",
      "epoch 30 | loss: 0.01648 | val_logits_ll: 0.01696 |  0:02:45s\n",
      "epoch 40 | loss: 0.01581 | val_logits_ll: 0.01658 |  0:03:38s\n",
      "epoch 50 | loss: 0.01529 | val_logits_ll: 0.01626 |  0:04:33s\n",
      "epoch 60 | loss: 0.01505 | val_logits_ll: 0.0161  |  0:05:34s\n",
      "epoch 70 | loss: 0.01475 | val_logits_ll: 0.01586 |  0:06:28s\n",
      "epoch 80 | loss: 0.01455 | val_logits_ll: 0.01592 |  0:07:23s\n",
      "epoch 90 | loss: 0.01425 | val_logits_ll: 0.01635 |  0:08:22s\n",
      "epoch 100| loss: 0.0146  | val_logits_ll: 0.01597 |  0:09:26s\n",
      "epoch 110| loss: 0.01388 | val_logits_ll: 0.016   |  0:10:31s\n",
      "epoch 120| loss: 0.01362 | val_logits_ll: 0.01611 |  0:11:38s\n",
      "\n",
      "Early stopping occured at epoch 122 with best_epoch = 102 and best_val_logits_ll = 0.01572\n",
      "Best weights from best epoch are automatically used!\n",
      "FOLDS :  2\n",
      "Device used : cpu\n",
      "epoch 0  | loss: 0.54996 | val_logits_ll: 0.24855 |  0:00:05s\n",
      "epoch 10 | loss: 0.01903 | val_logits_ll: 0.01898 |  0:00:59s\n",
      "epoch 20 | loss: 0.01766 | val_logits_ll: 0.01785 |  0:01:53s\n",
      "epoch 30 | loss: 0.01645 | val_logits_ll: 0.01694 |  0:02:48s\n",
      "epoch 40 | loss: 0.01567 | val_logits_ll: 0.01999 |  0:03:47s\n",
      "epoch 50 | loss: 0.01524 | val_logits_ll: 0.01613 |  0:04:43s\n",
      "epoch 60 | loss: 0.0151  | val_logits_ll: 0.0159  |  0:05:39s\n",
      "epoch 70 | loss: 0.01487 | val_logits_ll: 0.01613 |  0:06:34s\n",
      "epoch 80 | loss: 0.01455 | val_logits_ll: 0.01585 |  0:07:29s\n",
      "epoch 90 | loss: 0.01448 | val_logits_ll: 0.01583 |  0:08:26s\n",
      "epoch 100| loss: 0.0142  | val_logits_ll: 0.01602 |  0:09:29s\n",
      "epoch 110| loss: 0.01386 | val_logits_ll: 0.01587 |  0:10:34s\n",
      "\n",
      "Early stopping occured at epoch 115 with best_epoch = 95 and best_val_logits_ll = 0.01561\n",
      "Best weights from best epoch are automatically used!\n",
      "FOLDS :  3\n",
      "Device used : cpu\n",
      "epoch 0  | loss: 0.55507 | val_logits_ll: 0.28578 |  0:00:05s\n",
      "epoch 10 | loss: 0.01944 | val_logits_ll: 0.01934 |  0:00:58s\n",
      "epoch 20 | loss: 0.01742 | val_logits_ll: 0.01743 |  0:01:52s\n",
      "epoch 30 | loss: 0.01612 | val_logits_ll: 0.01663 |  0:02:49s\n",
      "epoch 40 | loss: 0.01551 | val_logits_ll: 0.01617 |  0:03:43s\n",
      "epoch 50 | loss: 0.01508 | val_logits_ll: 0.01649 |  0:04:38s\n",
      "epoch 60 | loss: 0.01484 | val_logits_ll: 0.01599 |  0:05:31s\n",
      "epoch 70 | loss: 0.01457 | val_logits_ll: 0.0159  |  0:06:25s\n",
      "epoch 80 | loss: 0.01449 | val_logits_ll: 0.01624 |  0:07:20s\n",
      "epoch 90 | loss: 0.01412 | val_logits_ll: 0.01585 |  0:08:16s\n",
      "\n",
      "Early stopping occured at epoch 94 with best_epoch = 74 and best_val_logits_ll = 0.01579\n",
      "Best weights from best epoch are automatically used!\n",
      "FOLDS :  4\n",
      "Device used : cpu\n",
      "epoch 0  | loss: 0.54469 | val_logits_ll: 0.23882 |  0:00:05s\n",
      "epoch 10 | loss: 0.01949 | val_logits_ll: 0.01942 |  0:00:58s\n",
      "epoch 20 | loss: 0.01762 | val_logits_ll: 0.01784 |  0:01:52s\n",
      "epoch 30 | loss: 0.01622 | val_logits_ll: 0.01663 |  0:02:44s\n",
      "epoch 40 | loss: 0.01575 | val_logits_ll: 0.01629 |  0:03:37s\n",
      "epoch 50 | loss: 0.01535 | val_logits_ll: 0.01599 |  0:04:35s\n",
      "epoch 60 | loss: 0.01505 | val_logits_ll: 0.01601 |  0:05:30s\n",
      "epoch 70 | loss: 0.01494 | val_logits_ll: 0.01581 |  0:06:24s\n",
      "epoch 80 | loss: 0.01478 | val_logits_ll: 0.01568 |  0:07:18s\n",
      "epoch 90 | loss: 0.01457 | val_logits_ll: 0.01579 |  0:08:16s\n",
      "epoch 100| loss: 0.01435 | val_logits_ll: 0.01574 |  0:09:17s\n",
      "\n",
      "Early stopping occured at epoch 101 with best_epoch = 81 and best_val_logits_ll = 0.01568\n",
      "Best weights from best epoch are automatically used!\n",
      "FOLDS :  5\n",
      "Device used : cpu\n",
      "epoch 0  | loss: 0.54598 | val_logits_ll: 0.25781 |  0:00:05s\n",
      "epoch 10 | loss: 0.01916 | val_logits_ll: 0.01925 |  0:00:58s\n",
      "epoch 20 | loss: 0.01777 | val_logits_ll: 0.01795 |  0:01:51s\n",
      "epoch 30 | loss: 0.01643 | val_logits_ll: 0.01698 |  0:02:44s\n",
      "epoch 40 | loss: 0.01576 | val_logits_ll: 0.01633 |  0:03:38s\n",
      "epoch 50 | loss: 0.01544 | val_logits_ll: 0.0162  |  0:04:32s\n",
      "epoch 60 | loss: 0.01499 | val_logits_ll: 0.01598 |  0:05:31s\n",
      "epoch 70 | loss: 0.01479 | val_logits_ll: 0.01659 |  0:06:26s\n",
      "\n",
      "Early stopping occured at epoch 78 with best_epoch = 58 and best_val_logits_ll = 0.01591\n",
      "Best weights from best epoch are automatically used!\n"
     ]
    }
   ],
   "source": [
    "MAX_EPOCH=200\n",
    "\n",
    "smoothing = 0.001\n",
    "p_min = smoothing\n",
    "p_max = 1 - smoothing\n",
    "\n",
    "def seed_everything(seed_value):\n",
    "    random.seed(seed_value)\n",
    "    np.random.seed(seed_value)\n",
    "    torch.manual_seed(seed_value)\n",
    "    os.environ['PYTHONHASHSEED'] = str(seed_value)\n",
    "    \n",
    "    if torch.cuda.is_available(): \n",
    "        torch.cuda.manual_seed(seed_value)\n",
    "        torch.cuda.manual_seed_all(seed_value)\n",
    "        torch.backends.cudnn.deterministic = True\n",
    "        torch.backends.cudnn.benchmark = False\n",
    "\n",
    "def modelling_tabnet(tr, target, te, sample_seed):\n",
    "    seed_everything(sample_seed) \n",
    "    tabnet_params = dict(n_d=12, n_a=12, n_steps=1, gamma=1.3, seed = sample_seed,\n",
    "                     lambda_sparse=0, optimizer_fn=torch.optim.Adam,\n",
    "                     optimizer_params=dict(lr=2e-2, weight_decay=1e-5),\n",
    "                     mask_type='entmax',\n",
    "                     scheduler_params=dict(mode=\"min\",\n",
    "                                           patience=5,\n",
    "                                           min_lr=1e-5,\n",
    "                                           factor=0.9,),\n",
    "                     scheduler_fn=torch.optim.lr_scheduler.ReduceLROnPlateau,\n",
    "                     verbose=10,\n",
    "                     )\n",
    "    test_cv_preds = []\n",
    "\n",
    "    NB_SPLITS = 5\n",
    "    mskf = MultilabelStratifiedKFold(n_splits=NB_SPLITS, random_state=0, shuffle=True)\n",
    "    oof_preds = np.zeros([len(tr),target.shape[1]])\n",
    "    scores = []\n",
    "    for fold_nb, (train_idx, val_idx) in enumerate(mskf.split(train, target)):\n",
    "        print(\"FOLDS : \", fold_nb+1)\n",
    "\n",
    "        ## model\n",
    "        X_train, y_train = tr[train_idx, :], target[train_idx, :]\n",
    "        X_val, y_val = tr[val_idx, :], target[val_idx, :]\n",
    "        model = TabNetRegressor(**tabnet_params)\n",
    "    \n",
    "        model.fit(X_train=X_train,\n",
    "              y_train=y_train,\n",
    "              eval_set=[(X_val, y_val)],\n",
    "              eval_name = [\"val\"],\n",
    "              eval_metric = [\"logits_ll\"],\n",
    "              max_epochs=MAX_EPOCH,\n",
    "              patience=20, batch_size=1024, virtual_batch_size=128,\n",
    "              num_workers=1, drop_last=False,\n",
    "              # use binary cross entropy as this is not a regression problem\n",
    "              loss_fn=torch.nn.functional.binary_cross_entropy_with_logits)\n",
    "    \n",
    "        preds_val = model.predict(X_val)\n",
    "        # Apply sigmoid to the predictions\n",
    "        preds =  1 / (1 + np.exp(-preds_val))\n",
    "        score = np.min(model.history[\"val_logits_ll\"])\n",
    "        #oof_preds[val_idx,:] = preds\n",
    "        oof_preds[val_idx,:] = np.clip(preds, p_min, p_max)\n",
    "        scores.append(score)\n",
    "\n",
    "        # preds on test\n",
    "        preds_test = model.predict(te)\n",
    "        #test_cv_preds.append(1 / (1 + np.exp(-preds_test)))\n",
    "        test_cv_preds.append(np.clip(1 / (1 + np.exp(-preds_test)), p_min, p_max))\n",
    "        \n",
    "    test_preds_all = np.stack(test_cv_preds)\n",
    "    return oof_preds, test_preds_all\n",
    "\n",
    "target_oof = np.zeros([len(fn_train),fn_targets.shape[1]])\n",
    "target_pred = np.zeros([len(fn_test),fn_targets.shape[1]])\n",
    "\n",
    "seeds = [0,1,2]\n",
    "for seed_ in seeds:\n",
    "    oof_preds, test_preds_all = modelling_tabnet(fn_train, fn_targets, fn_test, seed_)\n",
    "    target_oof += oof_preds / len(seeds)\n",
    "    target_pred += test_preds_all.mean(axis=0) / len(seeds)"
   ]
  },
  {
   "cell_type": "code",
   "execution_count": 15,
   "metadata": {
    "execution": {
     "iopub.execute_input": "2020-10-29T15:54:27.178044Z",
     "iopub.status.busy": "2020-10-29T15:54:27.174541Z",
     "iopub.status.idle": "2020-10-29T15:54:28.667022Z",
     "shell.execute_reply": "2020-10-29T15:54:28.666228Z"
    },
    "papermill": {
     "duration": 1.603773,
     "end_time": "2020-10-29T15:54:28.667153",
     "exception": false,
     "start_time": "2020-10-29T15:54:27.063380",
     "status": "completed"
    },
    "tags": []
   },
   "outputs": [
    {
     "name": "stdout",
     "output_type": "stream",
     "text": [
      "Overall AUC : 0.7536395827180223\n"
     ]
    }
   ],
   "source": [
    "aucs = []\n",
    "for task_id in range(targets.shape[1]-1):\n",
    "    aucs.append(roc_auc_score(y_true=targets.iloc[:, task_id+1].values,\n",
    "                              y_score=target_oof[:, task_id]))\n",
    "print(f\"Overall AUC : {np.mean(aucs)}\")"
   ]
  },
  {
   "cell_type": "code",
   "execution_count": 16,
   "metadata": {
    "execution": {
     "iopub.execute_input": "2020-10-29T15:54:28.883224Z",
     "iopub.status.busy": "2020-10-29T15:54:28.882445Z",
     "iopub.status.idle": "2020-10-29T15:54:34.651403Z",
     "shell.execute_reply": "2020-10-29T15:54:34.650112Z"
    },
    "papermill": {
     "duration": 5.882498,
     "end_time": "2020-10-29T15:54:34.651586",
     "exception": false,
     "start_time": "2020-10-29T15:54:28.769088",
     "status": "completed"
    },
    "tags": []
   },
   "outputs": [
    {
     "name": "stdout",
     "output_type": "stream",
     "text": [
      "OOF log loss:  0.01540612648624008\n"
     ]
    }
   ],
   "source": [
    "t = pd.read_csv(DATA_DIR + 'train_targets_scored.csv')\n",
    "train_checkscore = t.copy()\n",
    "train_checkscore[target_feats] = target_oof\n",
    "train_checkscore.loc[train_checkscore.index.isin(noncons_train_index),target_feats] = 0\n",
    "\n",
    "t.drop(\"sig_id\", axis=1, inplace=True)\n",
    "print('OOF log loss: ', log_loss(np.ravel(t), np.ravel(np.array(train_checkscore.iloc[:,1:]))))"
   ]
  },
  {
   "cell_type": "code",
   "execution_count": 17,
   "metadata": {
    "execution": {
     "iopub.execute_input": "2020-10-29T15:54:34.906115Z",
     "iopub.status.busy": "2020-10-29T15:54:34.905037Z",
     "iopub.status.idle": "2020-10-29T15:54:37.770226Z",
     "shell.execute_reply": "2020-10-29T15:54:37.769489Z"
    },
    "papermill": {
     "duration": 2.992605,
     "end_time": "2020-10-29T15:54:37.770392",
     "exception": false,
     "start_time": "2020-10-29T15:54:34.777787",
     "status": "completed"
    },
    "tags": []
   },
   "outputs": [],
   "source": [
    "sub[target_feats] = target_pred\n",
    "sub.loc[noncons_test_index,target_feats] = 0\n",
    "sub.to_csv('submission.csv', index=False)"
   ]
  },
  {
   "cell_type": "code",
   "execution_count": null,
   "metadata": {
    "papermill": {
     "duration": 0.102271,
     "end_time": "2020-10-29T15:54:37.977908",
     "exception": false,
     "start_time": "2020-10-29T15:54:37.875637",
     "status": "completed"
    },
    "tags": []
   },
   "outputs": [],
   "source": []
  }
 ],
 "metadata": {
  "kernelspec": {
   "display_name": "Python 3",
   "language": "python",
   "name": "python3"
  },
  "language_info": {
   "codemirror_mode": {
    "name": "ipython",
    "version": 3
   },
   "file_extension": ".py",
   "mimetype": "text/x-python",
   "name": "python",
   "nbconvert_exporter": "python",
   "pygments_lexer": "ipython3",
   "version": "3.7.6"
  },
  "papermill": {
   "duration": 9066.708153,
   "end_time": "2020-10-29T15:54:38.188577",
   "environment_variables": {},
   "exception": null,
   "input_path": "__notebook__.ipynb",
   "output_path": "__notebook__.ipynb",
   "parameters": {},
   "start_time": "2020-10-29T13:23:31.480424",
   "version": "2.1.0"
  }
 },
 "nbformat": 4,
 "nbformat_minor": 4
}
