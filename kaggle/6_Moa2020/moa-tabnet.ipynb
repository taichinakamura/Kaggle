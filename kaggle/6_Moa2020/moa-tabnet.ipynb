{
 "cells": [
  {
   "cell_type": "markdown",
   "metadata": {
    "papermill": {
     "duration": 0.014759,
     "end_time": "2020-10-27T02:13:18.741707",
     "exception": false,
     "start_time": "2020-10-27T02:13:18.726948",
     "status": "completed"
    },
    "tags": []
   },
   "source": [
    "- drop some features\n",
    "- go back to robust scaler\n",
    "- reduce ensemble to 2\n",
    "- try 7 folds"
   ]
  },
  {
   "cell_type": "code",
   "execution_count": 1,
   "metadata": {
    "execution": {
     "iopub.execute_input": "2020-10-27T02:13:18.776630Z",
     "iopub.status.busy": "2020-10-27T02:13:18.775747Z",
     "iopub.status.idle": "2020-10-27T02:13:27.750084Z",
     "shell.execute_reply": "2020-10-27T02:13:27.749303Z"
    },
    "papermill": {
     "duration": 8.994659,
     "end_time": "2020-10-27T02:13:27.750216",
     "exception": false,
     "start_time": "2020-10-27T02:13:18.755557",
     "status": "completed"
    },
    "tags": []
   },
   "outputs": [
    {
     "name": "stdout",
     "output_type": "stream",
     "text": [
      "Looking in links: /kaggle/input/pytorchtabnet/pytorch_tabnet-2.0.0-py3-none-any.whl\r\n",
      "Processing /kaggle/input/pytorchtabnet/pytorch_tabnet-2.0.0-py3-none-any.whl\r\n",
      "Requirement already satisfied: numpy<2.0,>=1.17 in /opt/conda/lib/python3.7/site-packages (from pytorch-tabnet) (1.18.5)\r\n",
      "Requirement already satisfied: scikit_learn>0.21 in /opt/conda/lib/python3.7/site-packages (from pytorch-tabnet) (0.23.2)\r\n",
      "Requirement already satisfied: tqdm<5.0,>=4.36 in /opt/conda/lib/python3.7/site-packages (from pytorch-tabnet) (4.45.0)\r\n",
      "Requirement already satisfied: torch<2.0,>=1.2 in /opt/conda/lib/python3.7/site-packages (from pytorch-tabnet) (1.6.0)\r\n",
      "Requirement already satisfied: scipy>1.4 in /opt/conda/lib/python3.7/site-packages (from pytorch-tabnet) (1.4.1)\r\n",
      "Requirement already satisfied: threadpoolctl>=2.0.0 in /opt/conda/lib/python3.7/site-packages (from scikit_learn>0.21->pytorch-tabnet) (2.1.0)\r\n",
      "Requirement already satisfied: joblib>=0.11 in /opt/conda/lib/python3.7/site-packages (from scikit_learn>0.21->pytorch-tabnet) (0.14.1)\r\n",
      "Requirement already satisfied: future in /opt/conda/lib/python3.7/site-packages (from torch<2.0,>=1.2->pytorch-tabnet) (0.18.2)\r\n",
      "Installing collected packages: pytorch-tabnet\r\n",
      "Successfully installed pytorch-tabnet-2.0.0\r\n"
     ]
    }
   ],
   "source": [
    "!pip install --no-index --find-links /kaggle/input/pytorchtabnet/pytorch_tabnet-2.0.0-py3-none-any.whl pytorch-tabnet"
   ]
  },
  {
   "cell_type": "code",
   "execution_count": 2,
   "metadata": {
    "_cell_guid": "b1076dfc-b9ad-4769-8c92-a6c4dae69d19",
    "_uuid": "8f2839f25d086af736a60e9eeb907d3b93b6e0e5",
    "execution": {
     "iopub.execute_input": "2020-10-27T02:13:27.802738Z",
     "iopub.status.busy": "2020-10-27T02:13:27.801406Z",
     "iopub.status.idle": "2020-10-27T02:13:35.664295Z",
     "shell.execute_reply": "2020-10-27T02:13:35.664813Z"
    },
    "papermill": {
     "duration": 7.896108,
     "end_time": "2020-10-27T02:13:35.664969",
     "exception": false,
     "start_time": "2020-10-27T02:13:27.768861",
     "status": "completed"
    },
    "tags": []
   },
   "outputs": [],
   "source": [
    "import os\n",
    "import sys\n",
    "import random\n",
    "import warnings\n",
    "import numpy as np\n",
    "import pandas as pd \n",
    "from sklearn import preprocessing\n",
    "from sklearn.metrics import log_loss,roc_auc_score\n",
    "from sklearn.decomposition import PCA\n",
    "from tqdm import tqdm_notebook as tqdm\n",
    "from sklearn.cluster import KMeans\n",
    "from sklearn.multioutput import MultiOutputClassifier\n",
    "from sklearn.feature_selection import VarianceThreshold\n",
    "\n",
    "from pytorch_tabnet.metrics import Metric\n",
    "from pytorch_tabnet.tab_model import TabNetRegressor\n",
    "\n",
    "sys.path.append('../input/multilabelstraifier/')\n",
    "from ml_stratifiers import MultilabelStratifiedKFold\n",
    "warnings.filterwarnings('ignore')\n",
    "\n",
    "import time\n",
    "import torch\n",
    "import torch.nn as nn\n",
    "import torch.optim as optim\n",
    "import torch.nn.functional as F\n",
    "import tensorflow as tf"
   ]
  },
  {
   "cell_type": "code",
   "execution_count": 3,
   "metadata": {
    "execution": {
     "iopub.execute_input": "2020-10-27T02:13:35.737062Z",
     "iopub.status.busy": "2020-10-27T02:13:35.736047Z",
     "iopub.status.idle": "2020-10-27T02:13:42.169275Z",
     "shell.execute_reply": "2020-10-27T02:13:42.168172Z"
    },
    "papermill": {
     "duration": 6.471992,
     "end_time": "2020-10-27T02:13:42.169397",
     "exception": false,
     "start_time": "2020-10-27T02:13:35.697405",
     "status": "completed"
    },
    "tags": []
   },
   "outputs": [],
   "source": [
    "DATA_DIR = '/kaggle/input/lish-moa/'\n",
    "train = pd.read_csv(DATA_DIR + 'train_features.csv')\n",
    "targets = pd.read_csv(DATA_DIR + 'train_targets_scored.csv')\n",
    "non_targets = pd.read_csv(DATA_DIR + 'train_targets_nonscored.csv')\n",
    "test = pd.read_csv(DATA_DIR + 'test_features.csv')\n",
    "sub = pd.read_csv(DATA_DIR + 'sample_submission.csv')"
   ]
  },
  {
   "cell_type": "code",
   "execution_count": 4,
   "metadata": {
    "execution": {
     "iopub.execute_input": "2020-10-27T02:13:42.215536Z",
     "iopub.status.busy": "2020-10-27T02:13:42.214635Z",
     "iopub.status.idle": "2020-10-27T02:13:42.309515Z",
     "shell.execute_reply": "2020-10-27T02:13:42.308884Z"
    },
    "papermill": {
     "duration": 0.122997,
     "end_time": "2020-10-27T02:13:42.309632",
     "exception": false,
     "start_time": "2020-10-27T02:13:42.186635",
     "status": "completed"
    },
    "tags": []
   },
   "outputs": [],
   "source": [
    "target_feats = [ i for i in targets.columns if i != \"sig_id\"]\n",
    "g_feats = [i for i in train.columns if \"g-\" in i]\n",
    "c_feats = [i for i in train.columns if \"c-\" in i]\n",
    "\n",
    "noncons_train_index = train[train.cp_type==\"ctl_vehicle\"].index\n",
    "cons_train_index = train[~train.index.isin(noncons_train_index)].index\n",
    "noncons_test_index = test[test.cp_type==\"ctl_vehicle\"].index\n",
    "cons_test_index = test[test.cp_type!=\"ctl_vehicle\"].index"
   ]
  },
  {
   "cell_type": "markdown",
   "metadata": {
    "papermill": {
     "duration": 0.016428,
     "end_time": "2020-10-27T02:13:42.343436",
     "exception": false,
     "start_time": "2020-10-27T02:13:42.327008",
     "status": "completed"
    },
    "tags": []
   },
   "source": [
    "# preprocess"
   ]
  },
  {
   "cell_type": "code",
   "execution_count": 5,
   "metadata": {
    "execution": {
     "iopub.execute_input": "2020-10-27T02:13:42.390907Z",
     "iopub.status.busy": "2020-10-27T02:13:42.389824Z",
     "iopub.status.idle": "2020-10-27T02:13:42.612459Z",
     "shell.execute_reply": "2020-10-27T02:13:42.611875Z"
    },
    "papermill": {
     "duration": 0.251514,
     "end_time": "2020-10-27T02:13:42.612588",
     "exception": false,
     "start_time": "2020-10-27T02:13:42.361074",
     "status": "completed"
    },
    "tags": []
   },
   "outputs": [],
   "source": [
    "train = train[train.index.isin(cons_train_index)].copy().reset_index(drop=True)\n",
    "targets = targets[targets.index.isin(cons_train_index)].copy().reset_index(drop=True)"
   ]
  },
  {
   "cell_type": "markdown",
   "metadata": {
    "papermill": {
     "duration": 0.016961,
     "end_time": "2020-10-27T02:13:42.646962",
     "exception": false,
     "start_time": "2020-10-27T02:13:42.630001",
     "status": "completed"
    },
    "tags": []
   },
   "source": [
    "# feature engineering"
   ]
  },
  {
   "cell_type": "code",
   "execution_count": 6,
   "metadata": {
    "execution": {
     "iopub.execute_input": "2020-10-27T02:13:42.737553Z",
     "iopub.status.busy": "2020-10-27T02:13:42.736040Z",
     "iopub.status.idle": "2020-10-27T02:13:43.071007Z",
     "shell.execute_reply": "2020-10-27T02:13:43.070046Z"
    },
    "papermill": {
     "duration": 0.406991,
     "end_time": "2020-10-27T02:13:43.071122",
     "exception": false,
     "start_time": "2020-10-27T02:13:42.664131",
     "status": "completed"
    },
    "tags": []
   },
   "outputs": [
    {
     "data": {
      "text/plain": [
       "33"
      ]
     },
     "execution_count": 6,
     "metadata": {},
     "output_type": "execute_result"
    }
   ],
   "source": [
    "X = train.iloc[:,4:].copy().values\n",
    "select = VarianceThreshold(threshold=0.7)\n",
    "X_new = select.fit_transform(X)\n",
    "drop_feats = list(np.array(train.iloc[:,4:].columns)[select.get_support()==False])\n",
    "len(drop_feats)"
   ]
  },
  {
   "cell_type": "code",
   "execution_count": 7,
   "metadata": {
    "execution": {
     "iopub.execute_input": "2020-10-27T02:13:43.175265Z",
     "iopub.status.busy": "2020-10-27T02:13:43.173247Z",
     "iopub.status.idle": "2020-10-27T02:13:43.176042Z",
     "shell.execute_reply": "2020-10-27T02:13:43.176526Z"
    },
    "papermill": {
     "duration": 0.086022,
     "end_time": "2020-10-27T02:13:43.176666",
     "exception": false,
     "start_time": "2020-10-27T02:13:43.090644",
     "status": "completed"
    },
    "tags": []
   },
   "outputs": [],
   "source": [
    "train.drop(drop_feats, axis=1, inplace=True)\n",
    "test.drop(drop_feats, axis=1, inplace=True)"
   ]
  },
  {
   "cell_type": "code",
   "execution_count": 8,
   "metadata": {
    "execution": {
     "iopub.execute_input": "2020-10-27T02:13:43.220050Z",
     "iopub.status.busy": "2020-10-27T02:13:43.218029Z",
     "iopub.status.idle": "2020-10-27T02:13:43.220832Z",
     "shell.execute_reply": "2020-10-27T02:13:43.221374Z"
    },
    "papermill": {
     "duration": 0.026629,
     "end_time": "2020-10-27T02:13:43.221525",
     "exception": false,
     "start_time": "2020-10-27T02:13:43.194896",
     "status": "completed"
    },
    "tags": []
   },
   "outputs": [],
   "source": [
    "#n_clusters_g = 15\n",
    "#n_clusters_c = 5\n",
    "#def create_cluster(train, test, kind, n_clusters):\n",
    "#    if kind == \"g\":\n",
    "#        train_ = train[g_feats].copy()\n",
    "#        test_ = test[g_feats].copy()\n",
    "#    else:\n",
    "#        train_ = train[c_feats].copy()\n",
    "#        test_ = test[c_feats].copy()    \n",
    "#    kmeans = KMeans(n_clusters = n_clusters, random_state = 0).fit(train_)\n",
    "#    train[f'clusters_{kind}'] = kmeans.labels_\n",
    "#    test[f'clusters_{kind}'] = kmeans.predict(test_)\n",
    "#    train = pd.get_dummies(train, columns = [f'clusters_{kind}'])\n",
    "#    test = pd.get_dummies(test, columns = [f'clusters_{kind}'])\n",
    "#    return train, test\n",
    "    \n",
    "#train, test = create_cluster(train, test, kind = 'g', n_clusters = n_clusters_g)\n",
    "#train, test = create_cluster(train, test, kind = 'c', n_clusters = n_clusters_c)"
   ]
  },
  {
   "cell_type": "code",
   "execution_count": 9,
   "metadata": {
    "execution": {
     "iopub.execute_input": "2020-10-27T02:13:43.264074Z",
     "iopub.status.busy": "2020-10-27T02:13:43.262256Z",
     "iopub.status.idle": "2020-10-27T02:13:43.264795Z",
     "shell.execute_reply": "2020-10-27T02:13:43.265256Z"
    },
    "papermill": {
     "duration": 0.025947,
     "end_time": "2020-10-27T02:13:43.265378",
     "exception": false,
     "start_time": "2020-10-27T02:13:43.239431",
     "status": "completed"
    },
    "tags": []
   },
   "outputs": [],
   "source": [
    "#num = 10\n",
    "#pca_c_cols = [\"pca-c\"+str(i+1) for i in range(num)]\n",
    "#pca = PCA(n_components=num,random_state=42)\n",
    "#c_train = pca.fit_transform(train[c_feats])\n",
    "#c_test = pca.transform(test[c_feats])\n",
    "#c_train = pd.DataFrame(c_train, columns=pca_c_cols)\n",
    "#c_test = pd.DataFrame(c_test, columns=pca_c_cols)\n",
    "\n",
    "#num = 60\n",
    "#pca_g_cols = [\"pca-g\"+str(i+1) for i in range(num)]\n",
    "#pca = PCA(n_components=num, random_state=42)\n",
    "#g_train = pca.fit_transform(train[g_feats])\n",
    "#g_test = pca.transform(test[g_feats])\n",
    "#g_train = pd.DataFrame(g_train, columns=pca_g_cols)\n",
    "#g_test = pd.DataFrame(g_test, columns=pca_g_cols)\n",
    "\n",
    "#train = pd.concat([train, c_train],axis=1)\n",
    "#test = pd.concat([test, c_test],axis=1)\n",
    "#train = pd.concat([train, g_train],axis=1)\n",
    "#test = pd.concat([test, g_test],axis=1)"
   ]
  },
  {
   "cell_type": "code",
   "execution_count": 10,
   "metadata": {
    "execution": {
     "iopub.execute_input": "2020-10-27T02:13:43.313670Z",
     "iopub.status.busy": "2020-10-27T02:13:43.312195Z",
     "iopub.status.idle": "2020-10-27T02:13:43.447286Z",
     "shell.execute_reply": "2020-10-27T02:13:43.447906Z"
    },
    "papermill": {
     "duration": 0.164547,
     "end_time": "2020-10-27T02:13:43.448052",
     "exception": false,
     "start_time": "2020-10-27T02:13:43.283505",
     "status": "completed"
    },
    "tags": []
   },
   "outputs": [
    {
     "name": "stdout",
     "output_type": "stream",
     "text": [
      "(21948, 841) (3982, 841)\n"
     ]
    }
   ],
   "source": [
    "def fe(df):\n",
    "    tmp = df.copy()\n",
    "    tmp.loc[:, 'cp_dose'] = tmp.loc[:, 'cp_dose'].map({'D1': 0, 'D2': 1})        \n",
    "    tmp.drop([\"cp_type\", \"sig_id\"], axis=1, inplace=True)\n",
    "    return tmp\n",
    "\n",
    "train = fe(train)\n",
    "test = fe(test)\n",
    "\n",
    "print(train.shape, test.shape)"
   ]
  },
  {
   "cell_type": "code",
   "execution_count": 11,
   "metadata": {
    "execution": {
     "iopub.execute_input": "2020-10-27T02:13:43.497085Z",
     "iopub.status.busy": "2020-10-27T02:13:43.495856Z",
     "iopub.status.idle": "2020-10-27T02:13:44.561508Z",
     "shell.execute_reply": "2020-10-27T02:13:44.560102Z"
    },
    "papermill": {
     "duration": 1.093195,
     "end_time": "2020-10-27T02:13:44.561626",
     "exception": false,
     "start_time": "2020-10-27T02:13:43.468431",
     "status": "completed"
    },
    "tags": []
   },
   "outputs": [],
   "source": [
    "fn_train = train.copy().to_numpy()\n",
    "fn_test = test.copy().to_numpy()\n",
    "\n",
    "ss = preprocessing.RobustScaler()\n",
    "fn_train= ss.fit_transform(fn_train)\n",
    "fn_test = ss.transform(fn_test)\n",
    "\n",
    "fn_targets = targets.drop(\"sig_id\", axis=1).copy().to_numpy()"
   ]
  },
  {
   "cell_type": "code",
   "execution_count": 12,
   "metadata": {
    "execution": {
     "iopub.execute_input": "2020-10-27T02:13:44.605479Z",
     "iopub.status.busy": "2020-10-27T02:13:44.604714Z",
     "iopub.status.idle": "2020-10-27T02:13:44.608289Z",
     "shell.execute_reply": "2020-10-27T02:13:44.608783Z"
    },
    "papermill": {
     "duration": 0.02862,
     "end_time": "2020-10-27T02:13:44.608905",
     "exception": false,
     "start_time": "2020-10-27T02:13:44.580285",
     "status": "completed"
    },
    "tags": []
   },
   "outputs": [
    {
     "data": {
      "text/plain": [
       "((21948, 841), (3982, 841), (21948, 206))"
      ]
     },
     "execution_count": 12,
     "metadata": {},
     "output_type": "execute_result"
    }
   ],
   "source": [
    "fn_train.shape, fn_test.shape, fn_targets.shape"
   ]
  },
  {
   "cell_type": "markdown",
   "metadata": {
    "papermill": {
     "duration": 0.018651,
     "end_time": "2020-10-27T02:13:44.646076",
     "exception": false,
     "start_time": "2020-10-27T02:13:44.627425",
     "status": "completed"
    },
    "tags": []
   },
   "source": [
    "# modelling"
   ]
  },
  {
   "cell_type": "code",
   "execution_count": 13,
   "metadata": {
    "execution": {
     "iopub.execute_input": "2020-10-27T02:13:44.692724Z",
     "iopub.status.busy": "2020-10-27T02:13:44.692028Z",
     "iopub.status.idle": "2020-10-27T02:13:44.696469Z",
     "shell.execute_reply": "2020-10-27T02:13:44.695992Z"
    },
    "papermill": {
     "duration": 0.031687,
     "end_time": "2020-10-27T02:13:44.696588",
     "exception": false,
     "start_time": "2020-10-27T02:13:44.664901",
     "status": "completed"
    },
    "tags": []
   },
   "outputs": [],
   "source": [
    "class LogitsLogLoss(Metric):\n",
    "    def __init__(self):\n",
    "        self._name = \"logits_ll\"\n",
    "        self._maximize = False\n",
    "\n",
    "    def __call__(self, y_true, y_pred):\n",
    "        \"\"\"\n",
    "        Compute LogLoss of predictions.\n",
    "\n",
    "        Parameters\n",
    "        ----------\n",
    "        y_true: np.ndarray\n",
    "            Target matrix or vector\n",
    "        y_score: np.ndarray\n",
    "            Score matrix or vector\n",
    "\n",
    "        Returns\n",
    "        -------\n",
    "            float\n",
    "            LogLoss of predictions vs targets.\n",
    "        \"\"\"\n",
    "        logits = 1 / (1 + np.exp(-y_pred))\n",
    "        \n",
    "        #smoothing = 0.001\n",
    "        #n_classes = 206\n",
    "        #y_true = y_true * (1 - smoothing) + np.ones_like(y_true) * smoothing / n_classes\n",
    "        \n",
    "        aux = (1-y_true)*np.log(1-logits+1e-15) + y_true*np.log(logits+1e-15)\n",
    "        return np.mean(-aux)"
   ]
  },
  {
   "cell_type": "code",
   "execution_count": 14,
   "metadata": {
    "execution": {
     "iopub.execute_input": "2020-10-27T02:13:44.763026Z",
     "iopub.status.busy": "2020-10-27T02:13:44.762290Z",
     "iopub.status.idle": "2020-10-27T02:40:53.398909Z",
     "shell.execute_reply": "2020-10-27T02:40:53.398313Z"
    },
    "papermill": {
     "duration": 1628.682934,
     "end_time": "2020-10-27T02:40:53.399040",
     "exception": false,
     "start_time": "2020-10-27T02:13:44.716106",
     "status": "completed"
    },
    "tags": []
   },
   "outputs": [
    {
     "name": "stdout",
     "output_type": "stream",
     "text": [
      "FOLDS :  1\n",
      "Device used : cuda\n",
      "epoch 0  | loss: 0.54559 | val_logits_ll: 0.26427 |  0:00:01s\n",
      "epoch 10 | loss: 0.02042 | val_logits_ll: 0.02036 |  0:00:11s\n",
      "epoch 20 | loss: 0.01864 | val_logits_ll: 0.01898 |  0:00:22s\n",
      "epoch 30 | loss: 0.01746 | val_logits_ll: 0.01772 |  0:00:32s\n",
      "epoch 40 | loss: 0.01685 | val_logits_ll: 0.01756 |  0:00:42s\n",
      "epoch 50 | loss: 0.01653 | val_logits_ll: 0.01751 |  0:00:52s\n",
      "epoch 60 | loss: 0.01618 | val_logits_ll: 0.01717 |  0:01:02s\n",
      "epoch 70 | loss: 0.01579 | val_logits_ll: 0.01703 |  0:01:12s\n",
      "epoch 80 | loss: 0.01544 | val_logits_ll: 0.01708 |  0:01:23s\n",
      "epoch 90 | loss: 0.01575 | val_logits_ll: 0.01774 |  0:01:33s\n",
      "epoch 100| loss: 0.0152  | val_logits_ll: 0.01706 |  0:01:42s\n",
      "\n",
      "Early stopping occured at epoch 105 with best_epoch = 85 and best_val_logits_ll = 0.01683\n",
      "Best weights from best epoch are automatically used!\n",
      "FOLDS :  2\n",
      "Device used : cuda\n",
      "epoch 0  | loss: 0.55165 | val_logits_ll: 0.26264 |  0:00:00s\n",
      "epoch 10 | loss: 0.02071 | val_logits_ll: 0.02065 |  0:00:11s\n",
      "epoch 20 | loss: 0.01896 | val_logits_ll: 0.0194  |  0:00:21s\n",
      "epoch 30 | loss: 0.01763 | val_logits_ll: 0.01831 |  0:00:31s\n",
      "epoch 40 | loss: 0.01701 | val_logits_ll: 0.0175  |  0:00:42s\n",
      "epoch 50 | loss: 0.01658 | val_logits_ll: 0.01734 |  0:00:52s\n",
      "epoch 60 | loss: 0.01647 | val_logits_ll: 0.01733 |  0:01:02s\n",
      "epoch 70 | loss: 0.01612 | val_logits_ll: 0.01702 |  0:01:11s\n",
      "epoch 80 | loss: 0.01581 | val_logits_ll: 0.01687 |  0:01:21s\n",
      "epoch 90 | loss: 0.01554 | val_logits_ll: 0.01699 |  0:01:32s\n",
      "epoch 100| loss: 0.01545 | val_logits_ll: 0.01663 |  0:01:42s\n",
      "epoch 110| loss: 0.0152  | val_logits_ll: 0.01675 |  0:01:52s\n",
      "epoch 120| loss: 0.01506 | val_logits_ll: 0.01717 |  0:02:02s\n",
      "\n",
      "Early stopping occured at epoch 120 with best_epoch = 100 and best_val_logits_ll = 0.01663\n",
      "Best weights from best epoch are automatically used!\n",
      "FOLDS :  3\n",
      "Device used : cuda\n",
      "epoch 0  | loss: 0.54962 | val_logits_ll: 0.27664 |  0:00:00s\n",
      "epoch 10 | loss: 0.02031 | val_logits_ll: 0.02027 |  0:00:10s\n",
      "epoch 20 | loss: 0.01846 | val_logits_ll: 0.01854 |  0:00:21s\n",
      "epoch 30 | loss: 0.01739 | val_logits_ll: 0.01797 |  0:00:31s\n",
      "epoch 40 | loss: 0.01682 | val_logits_ll: 0.01819 |  0:00:41s\n",
      "epoch 50 | loss: 0.01652 | val_logits_ll: 0.01759 |  0:00:52s\n",
      "epoch 60 | loss: 0.01625 | val_logits_ll: 0.01722 |  0:01:02s\n",
      "epoch 70 | loss: 0.01603 | val_logits_ll: 0.01709 |  0:01:11s\n",
      "epoch 80 | loss: 0.01573 | val_logits_ll: 0.01723 |  0:01:21s\n",
      "epoch 90 | loss: 0.01547 | val_logits_ll: 0.01741 |  0:01:32s\n",
      "epoch 100| loss: 0.01537 | val_logits_ll: 0.01713 |  0:01:42s\n",
      "epoch 110| loss: 0.01507 | val_logits_ll: 0.01724 |  0:01:52s\n",
      "\n",
      "Early stopping occured at epoch 113 with best_epoch = 93 and best_val_logits_ll = 0.01696\n",
      "Best weights from best epoch are automatically used!\n",
      "FOLDS :  4\n",
      "Device used : cuda\n",
      "epoch 0  | loss: 0.54403 | val_logits_ll: 0.25169 |  0:00:00s\n",
      "epoch 10 | loss: 0.02052 | val_logits_ll: 0.02036 |  0:00:10s\n",
      "epoch 20 | loss: 0.01884 | val_logits_ll: 0.01882 |  0:00:20s\n",
      "epoch 30 | loss: 0.01759 | val_logits_ll: 0.01833 |  0:00:31s\n",
      "epoch 40 | loss: 0.01693 | val_logits_ll: 0.01747 |  0:00:42s\n",
      "epoch 50 | loss: 0.01649 | val_logits_ll: 0.01722 |  0:00:52s\n",
      "epoch 60 | loss: 0.01623 | val_logits_ll: 0.01726 |  0:01:01s\n",
      "epoch 70 | loss: 0.01595 | val_logits_ll: 0.0171  |  0:01:11s\n",
      "epoch 80 | loss: 0.01596 | val_logits_ll: 0.01708 |  0:01:21s\n",
      "epoch 90 | loss: 0.01564 | val_logits_ll: 0.0175  |  0:01:32s\n",
      "epoch 100| loss: 0.01554 | val_logits_ll: 0.017   |  0:01:43s\n",
      "epoch 110| loss: 0.01548 | val_logits_ll: 0.01696 |  0:01:53s\n",
      "\n",
      "Early stopping occured at epoch 118 with best_epoch = 98 and best_val_logits_ll = 0.0168\n",
      "Best weights from best epoch are automatically used!\n",
      "FOLDS :  5\n",
      "Device used : cuda\n",
      "epoch 0  | loss: 0.54671 | val_logits_ll: 0.23567 |  0:00:00s\n",
      "epoch 10 | loss: 0.02049 | val_logits_ll: 0.02067 |  0:00:11s\n",
      "epoch 20 | loss: 0.01898 | val_logits_ll: 0.0193  |  0:00:21s\n",
      "epoch 30 | loss: 0.0176  | val_logits_ll: 0.01839 |  0:00:32s\n",
      "epoch 40 | loss: 0.01699 | val_logits_ll: 0.01813 |  0:00:42s\n",
      "epoch 50 | loss: 0.01653 | val_logits_ll: 0.01978 |  0:00:52s\n",
      "epoch 60 | loss: 0.0162  | val_logits_ll: 0.01787 |  0:01:02s\n",
      "epoch 70 | loss: 0.01598 | val_logits_ll: 0.01729 |  0:01:11s\n",
      "epoch 80 | loss: 0.01561 | val_logits_ll: 0.01732 |  0:01:21s\n",
      "epoch 90 | loss: 0.01557 | val_logits_ll: 0.01723 |  0:01:32s\n",
      "epoch 100| loss: 0.01533 | val_logits_ll: 0.01736 |  0:01:42s\n",
      "\n",
      "Early stopping occured at epoch 104 with best_epoch = 84 and best_val_logits_ll = 0.0171\n",
      "Best weights from best epoch are automatically used!\n",
      "FOLDS :  6\n",
      "Device used : cuda\n",
      "epoch 0  | loss: 0.54462 | val_logits_ll: 0.25316 |  0:00:01s\n",
      "epoch 10 | loss: 0.02067 | val_logits_ll: 0.02046 |  0:00:11s\n",
      "epoch 20 | loss: 0.0186  | val_logits_ll: 0.0187  |  0:00:21s\n",
      "epoch 30 | loss: 0.01767 | val_logits_ll: 0.01811 |  0:00:30s\n",
      "epoch 40 | loss: 0.01713 | val_logits_ll: 0.01773 |  0:00:41s\n",
      "epoch 50 | loss: 0.01668 | val_logits_ll: 0.01928 |  0:00:52s\n",
      "epoch 60 | loss: 0.01648 | val_logits_ll: 0.01726 |  0:01:01s\n",
      "epoch 70 | loss: 0.01616 | val_logits_ll: 0.01715 |  0:01:12s\n",
      "epoch 80 | loss: 0.01591 | val_logits_ll: 0.01723 |  0:01:21s\n",
      "epoch 90 | loss: 0.01578 | val_logits_ll: 0.01713 |  0:01:31s\n",
      "epoch 100| loss: 0.01545 | val_logits_ll: 0.01756 |  0:01:43s\n",
      "epoch 110| loss: 0.01516 | val_logits_ll: 0.01743 |  0:01:53s\n",
      "epoch 120| loss: 0.01497 | val_logits_ll: 0.01732 |  0:02:03s\n",
      "epoch 130| loss: 0.01471 | val_logits_ll: 0.01727 |  0:02:13s\n",
      "\n",
      "Early stopping occured at epoch 133 with best_epoch = 113 and best_val_logits_ll = 0.01686\n",
      "Best weights from best epoch are automatically used!\n",
      "FOLDS :  7\n",
      "Device used : cuda\n",
      "epoch 0  | loss: 0.54689 | val_logits_ll: 0.26357 |  0:00:00s\n",
      "epoch 10 | loss: 0.02057 | val_logits_ll: 0.02036 |  0:00:10s\n",
      "epoch 20 | loss: 0.01836 | val_logits_ll: 0.01847 |  0:00:21s\n",
      "epoch 30 | loss: 0.01749 | val_logits_ll: 0.01792 |  0:00:32s\n",
      "epoch 40 | loss: 0.01691 | val_logits_ll: 0.01751 |  0:00:42s\n",
      "epoch 50 | loss: 0.01655 | val_logits_ll: 0.01965 |  0:00:52s\n",
      "epoch 60 | loss: 0.01625 | val_logits_ll: 0.01711 |  0:01:03s\n",
      "epoch 70 | loss: 0.0161  | val_logits_ll: 0.01736 |  0:01:13s\n",
      "epoch 80 | loss: 0.0157  | val_logits_ll: 0.0172  |  0:01:23s\n",
      "epoch 90 | loss: 0.01539 | val_logits_ll: 0.01722 |  0:01:34s\n",
      "\n",
      "Early stopping occured at epoch 94 with best_epoch = 74 and best_val_logits_ll = 0.01704\n",
      "Best weights from best epoch are automatically used!\n",
      "FOLDS :  1\n",
      "Device used : cuda\n",
      "epoch 0  | loss: 0.53792 | val_logits_ll: 0.1962  |  0:00:00s\n",
      "epoch 10 | loss: 0.0205  | val_logits_ll: 0.02043 |  0:00:10s\n",
      "epoch 20 | loss: 0.01873 | val_logits_ll: 0.01878 |  0:00:20s\n",
      "epoch 30 | loss: 0.01759 | val_logits_ll: 0.01766 |  0:00:30s\n",
      "epoch 40 | loss: 0.01692 | val_logits_ll: 0.01745 |  0:00:41s\n",
      "epoch 50 | loss: 0.01673 | val_logits_ll: 0.01722 |  0:00:51s\n",
      "epoch 60 | loss: 0.0163  | val_logits_ll: 0.0172  |  0:01:02s\n",
      "epoch 70 | loss: 0.01602 | val_logits_ll: 0.0168  |  0:01:11s\n",
      "epoch 80 | loss: 0.01584 | val_logits_ll: 0.01722 |  0:01:22s\n",
      "epoch 90 | loss: 0.01542 | val_logits_ll: 0.01714 |  0:01:32s\n",
      "epoch 100| loss: 0.01525 | val_logits_ll: 0.01705 |  0:01:44s\n",
      "\n",
      "Early stopping occured at epoch 109 with best_epoch = 89 and best_val_logits_ll = 0.01679\n",
      "Best weights from best epoch are automatically used!\n",
      "FOLDS :  2\n",
      "Device used : cuda\n",
      "epoch 0  | loss: 0.54763 | val_logits_ll: 0.23044 |  0:00:00s\n",
      "epoch 10 | loss: 0.02049 | val_logits_ll: 0.02043 |  0:00:11s\n",
      "epoch 20 | loss: 0.01864 | val_logits_ll: 0.01929 |  0:00:21s\n",
      "epoch 30 | loss: 0.01782 | val_logits_ll: 0.01942 |  0:00:31s\n",
      "epoch 40 | loss: 0.0171  | val_logits_ll: 0.01771 |  0:00:41s\n",
      "epoch 50 | loss: 0.01693 | val_logits_ll: 0.01744 |  0:00:53s\n",
      "epoch 60 | loss: 0.01647 | val_logits_ll: 0.01763 |  0:01:03s\n",
      "epoch 70 | loss: 0.01641 | val_logits_ll: 0.01733 |  0:01:13s\n",
      "epoch 80 | loss: 0.01621 | val_logits_ll: 0.01692 |  0:01:23s\n",
      "epoch 90 | loss: 0.01599 | val_logits_ll: 0.01709 |  0:01:33s\n",
      "epoch 100| loss: 0.01591 | val_logits_ll: 0.01697 |  0:01:43s\n",
      "epoch 110| loss: 0.0156  | val_logits_ll: 0.01686 |  0:01:55s\n",
      "epoch 120| loss: 0.01544 | val_logits_ll: 0.01687 |  0:02:05s\n",
      "epoch 130| loss: 0.01524 | val_logits_ll: 0.01714 |  0:02:15s\n",
      "epoch 140| loss: 0.01506 | val_logits_ll: 0.01705 |  0:02:25s\n",
      "epoch 150| loss: 0.01478 | val_logits_ll: 0.01717 |  0:02:35s\n",
      "\n",
      "Early stopping occured at epoch 154 with best_epoch = 134 and best_val_logits_ll = 0.01675\n",
      "Best weights from best epoch are automatically used!\n",
      "FOLDS :  3\n",
      "Device used : cuda\n",
      "epoch 0  | loss: 0.52732 | val_logits_ll: 0.20283 |  0:00:00s\n",
      "epoch 10 | loss: 0.02045 | val_logits_ll: 0.02042 |  0:00:12s\n",
      "epoch 20 | loss: 0.01867 | val_logits_ll: 0.01882 |  0:00:22s\n",
      "epoch 30 | loss: 0.01743 | val_logits_ll: 0.01805 |  0:00:32s\n",
      "epoch 40 | loss: 0.01691 | val_logits_ll: 0.01768 |  0:00:42s\n",
      "epoch 50 | loss: 0.01667 | val_logits_ll: 0.01808 |  0:00:52s\n",
      "epoch 60 | loss: 0.01626 | val_logits_ll: 0.0175  |  0:01:02s\n",
      "epoch 70 | loss: 0.01585 | val_logits_ll: 0.01719 |  0:01:14s\n",
      "\n",
      "Early stopping occured at epoch 76 with best_epoch = 56 and best_val_logits_ll = 0.01717\n",
      "Best weights from best epoch are automatically used!\n",
      "FOLDS :  4\n",
      "Device used : cuda\n",
      "epoch 0  | loss: 0.54034 | val_logits_ll: 0.22968 |  0:00:01s\n",
      "epoch 10 | loss: 0.02046 | val_logits_ll: 0.02029 |  0:00:11s\n",
      "epoch 20 | loss: 0.01868 | val_logits_ll: 0.01883 |  0:00:21s\n",
      "epoch 30 | loss: 0.01761 | val_logits_ll: 0.01797 |  0:00:31s\n",
      "epoch 40 | loss: 0.01693 | val_logits_ll: 0.01738 |  0:00:42s\n",
      "epoch 50 | loss: 0.01637 | val_logits_ll: 0.01722 |  0:00:53s\n",
      "epoch 60 | loss: 0.01618 | val_logits_ll: 0.01721 |  0:01:03s\n",
      "epoch 70 | loss: 0.01577 | val_logits_ll: 0.01706 |  0:01:13s\n",
      "epoch 80 | loss: 0.01559 | val_logits_ll: 0.01716 |  0:01:23s\n",
      "epoch 90 | loss: 0.01528 | val_logits_ll: 0.01713 |  0:01:32s\n",
      "\n",
      "Early stopping occured at epoch 97 with best_epoch = 77 and best_val_logits_ll = 0.01705\n",
      "Best weights from best epoch are automatically used!\n",
      "FOLDS :  5\n",
      "Device used : cuda\n",
      "epoch 0  | loss: 0.53524 | val_logits_ll: 0.19864 |  0:00:01s\n",
      "epoch 10 | loss: 0.02035 | val_logits_ll: 0.02053 |  0:00:11s\n",
      "epoch 20 | loss: 0.01853 | val_logits_ll: 0.01946 |  0:00:21s\n",
      "epoch 30 | loss: 0.01749 | val_logits_ll: 0.01834 |  0:00:32s\n",
      "epoch 40 | loss: 0.01691 | val_logits_ll: 0.01769 |  0:00:42s\n",
      "epoch 50 | loss: 0.01662 | val_logits_ll: 0.01767 |  0:00:51s\n",
      "epoch 60 | loss: 0.01629 | val_logits_ll: 0.01779 |  0:01:02s\n",
      "epoch 70 | loss: 0.01622 | val_logits_ll: 0.01762 |  0:01:13s\n",
      "epoch 80 | loss: 0.01591 | val_logits_ll: 0.01746 |  0:01:23s\n",
      "epoch 90 | loss: 0.01588 | val_logits_ll: 0.01743 |  0:01:34s\n",
      "epoch 100| loss: 0.01572 | val_logits_ll: 0.01715 |  0:01:44s\n",
      "epoch 110| loss: 0.01542 | val_logits_ll: 0.01716 |  0:01:53s\n",
      "\n",
      "Early stopping occured at epoch 114 with best_epoch = 94 and best_val_logits_ll = 0.01703\n",
      "Best weights from best epoch are automatically used!\n",
      "FOLDS :  6\n",
      "Device used : cuda\n",
      "epoch 0  | loss: 0.54614 | val_logits_ll: 0.22529 |  0:00:01s\n",
      "epoch 10 | loss: 0.02048 | val_logits_ll: 0.02027 |  0:00:12s\n",
      "epoch 20 | loss: 0.01864 | val_logits_ll: 0.01881 |  0:00:22s\n",
      "epoch 30 | loss: 0.01758 | val_logits_ll: 0.01823 |  0:00:32s\n",
      "epoch 40 | loss: 0.01693 | val_logits_ll: 0.01871 |  0:00:42s\n",
      "epoch 50 | loss: 0.01645 | val_logits_ll: 0.01737 |  0:00:53s\n",
      "epoch 60 | loss: 0.01618 | val_logits_ll: 0.01777 |  0:01:03s\n",
      "epoch 70 | loss: 0.01589 | val_logits_ll: 0.01736 |  0:01:14s\n",
      "epoch 80 | loss: 0.01572 | val_logits_ll: 0.01718 |  0:01:24s\n",
      "epoch 90 | loss: 0.01533 | val_logits_ll: 0.01709 |  0:01:34s\n",
      "\n",
      "Early stopping occured at epoch 94 with best_epoch = 74 and best_val_logits_ll = 0.01696\n",
      "Best weights from best epoch are automatically used!\n",
      "FOLDS :  7\n",
      "Device used : cuda\n",
      "epoch 0  | loss: 0.53256 | val_logits_ll: 0.22046 |  0:00:00s\n",
      "epoch 10 | loss: 0.02059 | val_logits_ll: 0.02045 |  0:00:11s\n",
      "epoch 20 | loss: 0.01877 | val_logits_ll: 0.02126 |  0:00:21s\n",
      "epoch 30 | loss: 0.01779 | val_logits_ll: 0.01846 |  0:00:32s\n",
      "epoch 40 | loss: 0.01714 | val_logits_ll: 0.01765 |  0:00:43s\n",
      "epoch 50 | loss: 0.01669 | val_logits_ll: 0.01738 |  0:00:53s\n",
      "epoch 60 | loss: 0.01642 | val_logits_ll: 0.0171  |  0:01:02s\n",
      "epoch 70 | loss: 0.01625 | val_logits_ll: 0.01708 |  0:01:13s\n",
      "epoch 80 | loss: 0.01585 | val_logits_ll: 0.01707 |  0:01:23s\n",
      "epoch 90 | loss: 0.01571 | val_logits_ll: 0.01724 |  0:01:34s\n",
      "epoch 100| loss: 0.01546 | val_logits_ll: 0.01769 |  0:01:44s\n",
      "epoch 110| loss: 0.01525 | val_logits_ll: 0.01697 |  0:01:54s\n",
      "epoch 120| loss: 0.01519 | val_logits_ll: 0.01703 |  0:02:04s\n",
      "\n",
      "Early stopping occured at epoch 122 with best_epoch = 102 and best_val_logits_ll = 0.01688\n",
      "Best weights from best epoch are automatically used!\n"
     ]
    }
   ],
   "source": [
    "MAX_EPOCH=200\n",
    "\n",
    "smoothing = 0.001\n",
    "p_min = smoothing\n",
    "p_max = 1 - smoothing\n",
    "\n",
    "def seed_everything(seed_value):\n",
    "    random.seed(seed_value)\n",
    "    np.random.seed(seed_value)\n",
    "    torch.manual_seed(seed_value)\n",
    "    os.environ['PYTHONHASHSEED'] = str(seed_value)\n",
    "    \n",
    "    if torch.cuda.is_available(): \n",
    "        torch.cuda.manual_seed(seed_value)\n",
    "        torch.cuda.manual_seed_all(seed_value)\n",
    "        torch.backends.cudnn.deterministic = True\n",
    "        torch.backends.cudnn.benchmark = False\n",
    "\n",
    "def modelling_tabnet(tr, target, te, sample_seed):\n",
    "    seed_everything(sample_seed) \n",
    "    tabnet_params = dict(n_d=12, n_a=12, n_steps=1, gamma=1.3, seed = sample_seed,\n",
    "                     lambda_sparse=0, optimizer_fn=torch.optim.Adam,\n",
    "                     optimizer_params=dict(lr=2e-2, weight_decay=1e-5),\n",
    "                     mask_type='entmax',\n",
    "                     scheduler_params=dict(mode=\"min\",\n",
    "                                           patience=5,\n",
    "                                           min_lr=1e-5,\n",
    "                                           factor=0.9,),\n",
    "                     scheduler_fn=torch.optim.lr_scheduler.ReduceLROnPlateau,\n",
    "                     verbose=10,\n",
    "                     )\n",
    "    test_cv_preds = []\n",
    "\n",
    "    NB_SPLITS = 7\n",
    "    mskf = MultilabelStratifiedKFold(n_splits=NB_SPLITS, random_state=0, shuffle=True)\n",
    "    oof_preds = np.zeros([len(tr),target.shape[1]])\n",
    "    scores = []\n",
    "    for fold_nb, (train_idx, val_idx) in enumerate(mskf.split(train, target)):\n",
    "        print(\"FOLDS : \", fold_nb+1)\n",
    "\n",
    "        ## model\n",
    "        X_train, y_train = tr[train_idx, :], target[train_idx, :]\n",
    "        X_val, y_val = tr[val_idx, :], target[val_idx, :]\n",
    "        model = TabNetRegressor(**tabnet_params)\n",
    "    \n",
    "        model.fit(X_train=X_train,\n",
    "              y_train=y_train,\n",
    "              eval_set=[(X_val, y_val)],\n",
    "              eval_name = [\"val\"],\n",
    "              eval_metric = [\"logits_ll\"],\n",
    "              max_epochs=MAX_EPOCH,\n",
    "              patience=20, batch_size=1024, virtual_batch_size=128,\n",
    "              num_workers=1, drop_last=False,\n",
    "              # use binary cross entropy as this is not a regression problem\n",
    "              loss_fn=torch.nn.functional.binary_cross_entropy_with_logits)\n",
    "    \n",
    "        preds_val = model.predict(X_val)\n",
    "        # Apply sigmoid to the predictions\n",
    "        preds =  1 / (1 + np.exp(-preds_val))\n",
    "        score = np.min(model.history[\"val_logits_ll\"])\n",
    "        oof_preds[val_idx,:] = preds\n",
    "        #oof_preds[val_idx,:] = np.clip(preds, p_min, p_max)\n",
    "        scores.append(score)\n",
    "\n",
    "        # preds on test\n",
    "        preds_test = model.predict(te)\n",
    "        test_cv_preds.append(1 / (1 + np.exp(-preds_test)))\n",
    "        #test_cv_preds.append(np.clip(1 / (1 + np.exp(-preds_test))), p_min, p_max)\n",
    "        \n",
    "    test_preds_all = np.stack(test_cv_preds)\n",
    "    return oof_preds, test_preds_all\n",
    "\n",
    "target_oof = np.zeros([len(fn_train),fn_targets.shape[1]])\n",
    "target_pred = np.zeros([len(fn_test),fn_targets.shape[1]])\n",
    "\n",
    "seeds = [0,1]\n",
    "for seed_ in seeds:\n",
    "    oof_preds, test_preds_all = modelling_tabnet(fn_train, fn_targets, fn_test, seed_)\n",
    "    target_oof += oof_preds / len(seeds)\n",
    "    target_pred += test_preds_all.mean(axis=0) / len(seeds)"
   ]
  },
  {
   "cell_type": "code",
   "execution_count": 15,
   "metadata": {
    "execution": {
     "iopub.execute_input": "2020-10-27T02:40:53.677641Z",
     "iopub.status.busy": "2020-10-27T02:40:53.676583Z",
     "iopub.status.idle": "2020-10-27T02:40:59.980846Z",
     "shell.execute_reply": "2020-10-27T02:40:59.981581Z"
    },
    "papermill": {
     "duration": 6.470143,
     "end_time": "2020-10-27T02:40:59.981780",
     "exception": false,
     "start_time": "2020-10-27T02:40:53.511637",
     "status": "completed"
    },
    "tags": []
   },
   "outputs": [
    {
     "name": "stdout",
     "output_type": "stream",
     "text": [
      "OOF log loss:  0.015271600236777674\n"
     ]
    }
   ],
   "source": [
    "t = pd.read_csv(DATA_DIR + 'train_targets_scored.csv')\n",
    "train_checkscore = t.copy()\n",
    "train_checkscore.loc[train_checkscore.index.isin(cons_train_index),target_feats] = target_oof\n",
    "train_checkscore.loc[train_checkscore.index.isin(noncons_train_index),target_feats] = 0\n",
    "\n",
    "t.drop(\"sig_id\", axis=1, inplace=True)\n",
    "print('OOF log loss: ', log_loss(np.ravel(t), np.ravel(np.array(train_checkscore.iloc[:,1:]))))"
   ]
  },
  {
   "cell_type": "code",
   "execution_count": 16,
   "metadata": {
    "execution": {
     "iopub.execute_input": "2020-10-27T02:41:00.166115Z",
     "iopub.status.busy": "2020-10-27T02:41:00.165180Z",
     "iopub.status.idle": "2020-10-27T02:41:02.958918Z",
     "shell.execute_reply": "2020-10-27T02:41:02.956821Z"
    },
    "papermill": {
     "duration": 2.886062,
     "end_time": "2020-10-27T02:41:02.959059",
     "exception": false,
     "start_time": "2020-10-27T02:41:00.072997",
     "status": "completed"
    },
    "tags": []
   },
   "outputs": [],
   "source": [
    "sub[target_feats] = target_pred\n",
    "sub.loc[noncons_test_index,target_feats] = 0\n",
    "sub.to_csv('submission.csv', index=False)"
   ]
  },
  {
   "cell_type": "code",
   "execution_count": null,
   "metadata": {
    "papermill": {
     "duration": 0.08963,
     "end_time": "2020-10-27T02:41:03.145547",
     "exception": false,
     "start_time": "2020-10-27T02:41:03.055917",
     "status": "completed"
    },
    "tags": []
   },
   "outputs": [],
   "source": []
  }
 ],
 "metadata": {
  "kernelspec": {
   "display_name": "Python 3",
   "language": "python",
   "name": "python3"
  },
  "language_info": {
   "codemirror_mode": {
    "name": "ipython",
    "version": 3
   },
   "file_extension": ".py",
   "mimetype": "text/x-python",
   "name": "python",
   "nbconvert_exporter": "python",
   "pygments_lexer": "ipython3",
   "version": "3.7.6"
  },
  "papermill": {
   "duration": 1669.098312,
   "end_time": "2020-10-27T02:41:03.848758",
   "environment_variables": {},
   "exception": null,
   "input_path": "__notebook__.ipynb",
   "output_path": "__notebook__.ipynb",
   "parameters": {},
   "start_time": "2020-10-27T02:13:14.750446",
   "version": "2.1.0"
  }
 },
 "nbformat": 4,
 "nbformat_minor": 4
}
