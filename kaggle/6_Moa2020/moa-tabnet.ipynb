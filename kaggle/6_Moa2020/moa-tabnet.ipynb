{
 "cells": [
  {
   "cell_type": "markdown",
   "metadata": {
    "papermill": {
     "duration": 0.016031,
     "end_time": "2020-10-26T12:17:16.753559",
     "exception": false,
     "start_time": "2020-10-26T12:17:16.737528",
     "status": "completed"
    },
    "tags": []
   },
   "source": [
    "- drop some features\n",
    "- go back to robust scaler\n",
    "- keep 3 ensemble"
   ]
  },
  {
   "cell_type": "code",
   "execution_count": 1,
   "metadata": {
    "execution": {
     "iopub.execute_input": "2020-10-26T12:17:16.788848Z",
     "iopub.status.busy": "2020-10-26T12:17:16.788042Z",
     "iopub.status.idle": "2020-10-26T12:17:26.674463Z",
     "shell.execute_reply": "2020-10-26T12:17:26.673523Z"
    },
    "papermill": {
     "duration": 9.906519,
     "end_time": "2020-10-26T12:17:26.674598",
     "exception": false,
     "start_time": "2020-10-26T12:17:16.768079",
     "status": "completed"
    },
    "tags": []
   },
   "outputs": [
    {
     "name": "stdout",
     "output_type": "stream",
     "text": [
      "Looking in links: /kaggle/input/pytorchtabnet/pytorch_tabnet-2.0.0-py3-none-any.whl\r\n",
      "Processing /kaggle/input/pytorchtabnet/pytorch_tabnet-2.0.0-py3-none-any.whl\r\n",
      "Requirement already satisfied: scikit_learn>0.21 in /opt/conda/lib/python3.7/site-packages (from pytorch-tabnet) (0.23.2)\r\n",
      "Requirement already satisfied: scipy>1.4 in /opt/conda/lib/python3.7/site-packages (from pytorch-tabnet) (1.4.1)\r\n",
      "Requirement already satisfied: tqdm<5.0,>=4.36 in /opt/conda/lib/python3.7/site-packages (from pytorch-tabnet) (4.45.0)\r\n",
      "Requirement already satisfied: torch<2.0,>=1.2 in /opt/conda/lib/python3.7/site-packages (from pytorch-tabnet) (1.6.0)\r\n",
      "Requirement already satisfied: numpy<2.0,>=1.17 in /opt/conda/lib/python3.7/site-packages (from pytorch-tabnet) (1.18.5)\r\n",
      "Requirement already satisfied: threadpoolctl>=2.0.0 in /opt/conda/lib/python3.7/site-packages (from scikit_learn>0.21->pytorch-tabnet) (2.1.0)\r\n",
      "Requirement already satisfied: joblib>=0.11 in /opt/conda/lib/python3.7/site-packages (from scikit_learn>0.21->pytorch-tabnet) (0.14.1)\r\n",
      "Requirement already satisfied: future in /opt/conda/lib/python3.7/site-packages (from torch<2.0,>=1.2->pytorch-tabnet) (0.18.2)\r\n",
      "Installing collected packages: pytorch-tabnet\r\n",
      "Successfully installed pytorch-tabnet-2.0.0\r\n"
     ]
    }
   ],
   "source": [
    "!pip install --no-index --find-links /kaggle/input/pytorchtabnet/pytorch_tabnet-2.0.0-py3-none-any.whl pytorch-tabnet"
   ]
  },
  {
   "cell_type": "code",
   "execution_count": 2,
   "metadata": {
    "_cell_guid": "b1076dfc-b9ad-4769-8c92-a6c4dae69d19",
    "_uuid": "8f2839f25d086af736a60e9eeb907d3b93b6e0e5",
    "execution": {
     "iopub.execute_input": "2020-10-26T12:17:26.723566Z",
     "iopub.status.busy": "2020-10-26T12:17:26.720882Z",
     "iopub.status.idle": "2020-10-26T12:17:35.627316Z",
     "shell.execute_reply": "2020-10-26T12:17:35.626251Z"
    },
    "papermill": {
     "duration": 8.934874,
     "end_time": "2020-10-26T12:17:35.627465",
     "exception": false,
     "start_time": "2020-10-26T12:17:26.692591",
     "status": "completed"
    },
    "tags": []
   },
   "outputs": [],
   "source": [
    "import os\n",
    "import sys\n",
    "import random\n",
    "import warnings\n",
    "import numpy as np\n",
    "import pandas as pd \n",
    "from sklearn import preprocessing\n",
    "from sklearn.metrics import log_loss,roc_auc_score\n",
    "from sklearn.decomposition import PCA\n",
    "from tqdm import tqdm_notebook as tqdm\n",
    "from sklearn.cluster import KMeans\n",
    "from sklearn.multioutput import MultiOutputClassifier\n",
    "from sklearn.feature_selection import VarianceThreshold\n",
    "\n",
    "from pytorch_tabnet.metrics import Metric\n",
    "from pytorch_tabnet.tab_model import TabNetRegressor\n",
    "\n",
    "sys.path.append('../input/multilabelstraifier/')\n",
    "from ml_stratifiers import MultilabelStratifiedKFold\n",
    "warnings.filterwarnings('ignore')\n",
    "\n",
    "import time\n",
    "import torch\n",
    "import torch.nn as nn\n",
    "import torch.optim as optim\n",
    "import torch.nn.functional as F\n",
    "import tensorflow as tf"
   ]
  },
  {
   "cell_type": "code",
   "execution_count": 3,
   "metadata": {
    "execution": {
     "iopub.execute_input": "2020-10-26T12:17:35.672617Z",
     "iopub.status.busy": "2020-10-26T12:17:35.671862Z",
     "iopub.status.idle": "2020-10-26T12:17:51.818269Z",
     "shell.execute_reply": "2020-10-26T12:17:51.817187Z"
    },
    "papermill": {
     "duration": 16.172705,
     "end_time": "2020-10-26T12:17:51.818401",
     "exception": false,
     "start_time": "2020-10-26T12:17:35.645696",
     "status": "completed"
    },
    "tags": []
   },
   "outputs": [],
   "source": [
    "DATA_DIR = '/kaggle/input/lish-moa/'\n",
    "train = pd.read_csv(DATA_DIR + 'train_features.csv')\n",
    "targets = pd.read_csv(DATA_DIR + 'train_targets_scored.csv')\n",
    "non_targets = pd.read_csv(DATA_DIR + 'train_targets_nonscored.csv')\n",
    "test = pd.read_csv(DATA_DIR + 'test_features.csv')\n",
    "sub = pd.read_csv(DATA_DIR + 'sample_submission.csv')"
   ]
  },
  {
   "cell_type": "code",
   "execution_count": 4,
   "metadata": {
    "execution": {
     "iopub.execute_input": "2020-10-26T12:17:51.864156Z",
     "iopub.status.busy": "2020-10-26T12:17:51.863404Z",
     "iopub.status.idle": "2020-10-26T12:17:51.960899Z",
     "shell.execute_reply": "2020-10-26T12:17:51.960339Z"
    },
    "papermill": {
     "duration": 0.126218,
     "end_time": "2020-10-26T12:17:51.961025",
     "exception": false,
     "start_time": "2020-10-26T12:17:51.834807",
     "status": "completed"
    },
    "tags": []
   },
   "outputs": [],
   "source": [
    "target_feats = [ i for i in targets.columns if i != \"sig_id\"]\n",
    "g_feats = [i for i in train.columns if \"g-\" in i]\n",
    "c_feats = [i for i in train.columns if \"c-\" in i]\n",
    "\n",
    "noncons_train_index = train[train.cp_type==\"ctl_vehicle\"].index\n",
    "cons_train_index = train[~train.index.isin(noncons_train_index)].index\n",
    "noncons_test_index = test[test.cp_type==\"ctl_vehicle\"].index\n",
    "cons_test_index = test[test.cp_type!=\"ctl_vehicle\"].index"
   ]
  },
  {
   "cell_type": "markdown",
   "metadata": {
    "papermill": {
     "duration": 0.016334,
     "end_time": "2020-10-26T12:17:51.993906",
     "exception": false,
     "start_time": "2020-10-26T12:17:51.977572",
     "status": "completed"
    },
    "tags": []
   },
   "source": [
    "# preprocess"
   ]
  },
  {
   "cell_type": "code",
   "execution_count": 5,
   "metadata": {
    "execution": {
     "iopub.execute_input": "2020-10-26T12:17:52.039626Z",
     "iopub.status.busy": "2020-10-26T12:17:52.038659Z",
     "iopub.status.idle": "2020-10-26T12:17:52.264162Z",
     "shell.execute_reply": "2020-10-26T12:17:52.263466Z"
    },
    "papermill": {
     "duration": 0.254069,
     "end_time": "2020-10-26T12:17:52.264311",
     "exception": false,
     "start_time": "2020-10-26T12:17:52.010242",
     "status": "completed"
    },
    "tags": []
   },
   "outputs": [],
   "source": [
    "train = train[train.index.isin(cons_train_index)].copy().reset_index(drop=True)\n",
    "targets = targets[targets.index.isin(cons_train_index)].copy().reset_index(drop=True)"
   ]
  },
  {
   "cell_type": "markdown",
   "metadata": {
    "papermill": {
     "duration": 0.016596,
     "end_time": "2020-10-26T12:17:52.298046",
     "exception": false,
     "start_time": "2020-10-26T12:17:52.281450",
     "status": "completed"
    },
    "tags": []
   },
   "source": [
    "# feature engineering"
   ]
  },
  {
   "cell_type": "code",
   "execution_count": 6,
   "metadata": {
    "execution": {
     "iopub.execute_input": "2020-10-26T12:17:52.385824Z",
     "iopub.status.busy": "2020-10-26T12:17:52.384333Z",
     "iopub.status.idle": "2020-10-26T12:17:52.717525Z",
     "shell.execute_reply": "2020-10-26T12:17:52.716843Z"
    },
    "papermill": {
     "duration": 0.40343,
     "end_time": "2020-10-26T12:17:52.717648",
     "exception": false,
     "start_time": "2020-10-26T12:17:52.314218",
     "status": "completed"
    },
    "tags": []
   },
   "outputs": [
    {
     "data": {
      "text/plain": [
       "33"
      ]
     },
     "execution_count": 6,
     "metadata": {},
     "output_type": "execute_result"
    }
   ],
   "source": [
    "X = train.iloc[:,4:].copy().values\n",
    "select = VarianceThreshold(threshold=0.7)\n",
    "X_new = select.fit_transform(X)\n",
    "drop_feats = list(np.array(train.iloc[:,4:].columns)[select.get_support()==False])\n",
    "len(drop_feats)"
   ]
  },
  {
   "cell_type": "code",
   "execution_count": 7,
   "metadata": {
    "execution": {
     "iopub.execute_input": "2020-10-26T12:17:52.810251Z",
     "iopub.status.busy": "2020-10-26T12:17:52.800747Z",
     "iopub.status.idle": "2020-10-26T12:17:52.813024Z",
     "shell.execute_reply": "2020-10-26T12:17:52.812468Z"
    },
    "papermill": {
     "duration": 0.078798,
     "end_time": "2020-10-26T12:17:52.813141",
     "exception": false,
     "start_time": "2020-10-26T12:17:52.734343",
     "status": "completed"
    },
    "tags": []
   },
   "outputs": [],
   "source": [
    "train.drop(drop_feats, axis=1, inplace=True)\n",
    "test.drop(drop_feats, axis=1, inplace=True)"
   ]
  },
  {
   "cell_type": "code",
   "execution_count": 8,
   "metadata": {
    "execution": {
     "iopub.execute_input": "2020-10-26T12:17:52.852428Z",
     "iopub.status.busy": "2020-10-26T12:17:52.851755Z",
     "iopub.status.idle": "2020-10-26T12:17:52.856015Z",
     "shell.execute_reply": "2020-10-26T12:17:52.855433Z"
    },
    "papermill": {
     "duration": 0.025364,
     "end_time": "2020-10-26T12:17:52.856113",
     "exception": false,
     "start_time": "2020-10-26T12:17:52.830749",
     "status": "completed"
    },
    "tags": []
   },
   "outputs": [],
   "source": [
    "#n_clusters_g = 15\n",
    "#n_clusters_c = 5\n",
    "#def create_cluster(train, test, kind, n_clusters):\n",
    "#    if kind == \"g\":\n",
    "#        train_ = train[g_feats].copy()\n",
    "#        test_ = test[g_feats].copy()\n",
    "#    else:\n",
    "#        train_ = train[c_feats].copy()\n",
    "#        test_ = test[c_feats].copy()    \n",
    "#    kmeans = KMeans(n_clusters = n_clusters, random_state = 0).fit(train_)\n",
    "#    train[f'clusters_{kind}'] = kmeans.labels_\n",
    "#    test[f'clusters_{kind}'] = kmeans.predict(test_)\n",
    "#    train = pd.get_dummies(train, columns = [f'clusters_{kind}'])\n",
    "#    test = pd.get_dummies(test, columns = [f'clusters_{kind}'])\n",
    "#    return train, test\n",
    "    \n",
    "#train, test = create_cluster(train, test, kind = 'g', n_clusters = n_clusters_g)\n",
    "#train, test = create_cluster(train, test, kind = 'c', n_clusters = n_clusters_c)"
   ]
  },
  {
   "cell_type": "code",
   "execution_count": 9,
   "metadata": {
    "execution": {
     "iopub.execute_input": "2020-10-26T12:17:52.896843Z",
     "iopub.status.busy": "2020-10-26T12:17:52.895073Z",
     "iopub.status.idle": "2020-10-26T12:17:52.897488Z",
     "shell.execute_reply": "2020-10-26T12:17:52.897999Z"
    },
    "papermill": {
     "duration": 0.024748,
     "end_time": "2020-10-26T12:17:52.898109",
     "exception": false,
     "start_time": "2020-10-26T12:17:52.873361",
     "status": "completed"
    },
    "tags": []
   },
   "outputs": [],
   "source": [
    "#num = 10\n",
    "#pca_c_cols = [\"pca-c\"+str(i+1) for i in range(num)]\n",
    "#pca = PCA(n_components=num,random_state=42)\n",
    "#c_train = pca.fit_transform(train[c_feats])\n",
    "#c_test = pca.transform(test[c_feats])\n",
    "#c_train = pd.DataFrame(c_train, columns=pca_c_cols)\n",
    "#c_test = pd.DataFrame(c_test, columns=pca_c_cols)\n",
    "\n",
    "#num = 60\n",
    "#pca_g_cols = [\"pca-g\"+str(i+1) for i in range(num)]\n",
    "#pca = PCA(n_components=num, random_state=42)\n",
    "#g_train = pca.fit_transform(train[g_feats])\n",
    "#g_test = pca.transform(test[g_feats])\n",
    "#g_train = pd.DataFrame(g_train, columns=pca_g_cols)\n",
    "#g_test = pd.DataFrame(g_test, columns=pca_g_cols)\n",
    "\n",
    "#train = pd.concat([train, c_train],axis=1)\n",
    "#test = pd.concat([test, c_test],axis=1)\n",
    "#train = pd.concat([train, g_train],axis=1)\n",
    "#test = pd.concat([test, g_test],axis=1)"
   ]
  },
  {
   "cell_type": "code",
   "execution_count": 10,
   "metadata": {
    "execution": {
     "iopub.execute_input": "2020-10-26T12:17:52.941552Z",
     "iopub.status.busy": "2020-10-26T12:17:52.940267Z",
     "iopub.status.idle": "2020-10-26T12:17:53.075554Z",
     "shell.execute_reply": "2020-10-26T12:17:53.076314Z"
    },
    "papermill": {
     "duration": 0.161208,
     "end_time": "2020-10-26T12:17:53.076499",
     "exception": false,
     "start_time": "2020-10-26T12:17:52.915291",
     "status": "completed"
    },
    "tags": []
   },
   "outputs": [
    {
     "name": "stdout",
     "output_type": "stream",
     "text": [
      "(21948, 841) (3982, 841)\n"
     ]
    }
   ],
   "source": [
    "def fe(df):\n",
    "    tmp = df.copy()\n",
    "    tmp.loc[:, 'cp_dose'] = tmp.loc[:, 'cp_dose'].map({'D1': 0, 'D2': 1})        \n",
    "    tmp.drop([\"cp_type\", \"sig_id\"], axis=1, inplace=True)\n",
    "    return tmp\n",
    "\n",
    "train = fe(train)\n",
    "test = fe(test)\n",
    "\n",
    "print(train.shape, test.shape)"
   ]
  },
  {
   "cell_type": "code",
   "execution_count": 11,
   "metadata": {
    "execution": {
     "iopub.execute_input": "2020-10-26T12:17:53.121458Z",
     "iopub.status.busy": "2020-10-26T12:17:53.120125Z",
     "iopub.status.idle": "2020-10-26T12:17:54.479131Z",
     "shell.execute_reply": "2020-10-26T12:17:54.479719Z"
    },
    "papermill": {
     "duration": 1.384785,
     "end_time": "2020-10-26T12:17:54.479888",
     "exception": false,
     "start_time": "2020-10-26T12:17:53.095103",
     "status": "completed"
    },
    "tags": []
   },
   "outputs": [],
   "source": [
    "fn_train = train.copy().to_numpy()\n",
    "fn_test = test.copy().to_numpy()\n",
    "\n",
    "ss = preprocessing.RobustScaler()\n",
    "fn_train= ss.fit_transform(fn_train)\n",
    "fn_test = ss.transform(fn_test)\n",
    "\n",
    "fn_targets = targets.drop(\"sig_id\", axis=1).copy().to_numpy()"
   ]
  },
  {
   "cell_type": "code",
   "execution_count": 12,
   "metadata": {
    "execution": {
     "iopub.execute_input": "2020-10-26T12:17:54.546409Z",
     "iopub.status.busy": "2020-10-26T12:17:54.545467Z",
     "iopub.status.idle": "2020-10-26T12:17:54.996374Z",
     "shell.execute_reply": "2020-10-26T12:17:54.995362Z"
    },
    "papermill": {
     "duration": 0.493604,
     "end_time": "2020-10-26T12:17:54.996492",
     "exception": false,
     "start_time": "2020-10-26T12:17:54.502888",
     "status": "completed"
    },
    "tags": []
   },
   "outputs": [
    {
     "ename": "NameError",
     "evalue": "name 'fn_non_targets' is not defined",
     "output_type": "error",
     "traceback": [
      "\u001b[0;31m---------------------------------------------------------------------------\u001b[0m",
      "\u001b[0;31mNameError\u001b[0m                                 Traceback (most recent call last)",
      "\u001b[0;32m<ipython-input-12-6e4d63ece2d1>\u001b[0m in \u001b[0;36m<module>\u001b[0;34m\u001b[0m\n\u001b[0;32m----> 1\u001b[0;31m \u001b[0mfn_train\u001b[0m\u001b[0;34m.\u001b[0m\u001b[0mshape\u001b[0m\u001b[0;34m,\u001b[0m \u001b[0mfn_test\u001b[0m\u001b[0;34m.\u001b[0m\u001b[0mshape\u001b[0m\u001b[0;34m,\u001b[0m \u001b[0mfn_targets\u001b[0m\u001b[0;34m.\u001b[0m\u001b[0mshape\u001b[0m\u001b[0;34m,\u001b[0m \u001b[0mfn_non_targets\u001b[0m\u001b[0;34m.\u001b[0m\u001b[0mshape\u001b[0m\u001b[0;34m\u001b[0m\u001b[0;34m\u001b[0m\u001b[0m\n\u001b[0m",
      "\u001b[0;31mNameError\u001b[0m: name 'fn_non_targets' is not defined"
     ]
    }
   ],
   "source": [
    "fn_train.shape, fn_test.shape, fn_targets.shape, fn_non_targets.shape"
   ]
  },
  {
   "cell_type": "markdown",
   "metadata": {
    "papermill": {
     "duration": 0.018923,
     "end_time": "2020-10-26T12:17:55.035413",
     "exception": false,
     "start_time": "2020-10-26T12:17:55.016490",
     "status": "completed"
    },
    "tags": []
   },
   "source": [
    "# modelling"
   ]
  },
  {
   "cell_type": "code",
   "execution_count": 13,
   "metadata": {
    "execution": {
     "iopub.execute_input": "2020-10-26T12:17:55.082218Z",
     "iopub.status.busy": "2020-10-26T12:17:55.080418Z",
     "iopub.status.idle": "2020-10-26T12:17:55.082989Z",
     "shell.execute_reply": "2020-10-26T12:17:55.083474Z"
    },
    "papermill": {
     "duration": 0.029655,
     "end_time": "2020-10-26T12:17:55.083589",
     "exception": false,
     "start_time": "2020-10-26T12:17:55.053934",
     "status": "completed"
    },
    "tags": []
   },
   "outputs": [],
   "source": [
    "class LogitsLogLoss(Metric):\n",
    "    def __init__(self):\n",
    "        self._name = \"logits_ll\"\n",
    "        self._maximize = False\n",
    "\n",
    "    def __call__(self, y_true, y_pred):\n",
    "        \"\"\"\n",
    "        Compute LogLoss of predictions.\n",
    "\n",
    "        Parameters\n",
    "        ----------\n",
    "        y_true: np.ndarray\n",
    "            Target matrix or vector\n",
    "        y_score: np.ndarray\n",
    "            Score matrix or vector\n",
    "\n",
    "        Returns\n",
    "        -------\n",
    "            float\n",
    "            LogLoss of predictions vs targets.\n",
    "        \"\"\"\n",
    "        logits = 1 / (1 + np.exp(-y_pred))\n",
    "        \n",
    "        #smoothing = 0.001\n",
    "        #n_classes = 206\n",
    "        #y_true = y_true * (1 - smoothing) + np.ones_like(y_true) * smoothing / n_classes\n",
    "        \n",
    "        aux = (1-y_true)*np.log(1-logits+1e-15) + y_true*np.log(logits+1e-15)\n",
    "        return np.mean(-aux)"
   ]
  },
  {
   "cell_type": "code",
   "execution_count": 14,
   "metadata": {
    "execution": {
     "iopub.execute_input": "2020-10-26T12:17:55.147352Z",
     "iopub.status.busy": "2020-10-26T12:17:55.133820Z",
     "iopub.status.idle": "2020-10-26T12:49:54.359851Z",
     "shell.execute_reply": "2020-10-26T12:49:54.359241Z"
    },
    "papermill": {
     "duration": 1919.258089,
     "end_time": "2020-10-26T12:49:54.360002",
     "exception": false,
     "start_time": "2020-10-26T12:17:55.101913",
     "status": "completed"
    },
    "tags": []
   },
   "outputs": [
    {
     "name": "stdout",
     "output_type": "stream",
     "text": [
      "FOLDS :  1\n",
      "Device used : cuda\n",
      "epoch 0  | loss: 0.57216 | val_logits_ll: 0.3141  |  0:00:02s\n",
      "epoch 10 | loss: 0.02077 | val_logits_ll: 0.02065 |  0:00:11s\n",
      "epoch 20 | loss: 0.01907 | val_logits_ll: 0.01906 |  0:00:22s\n",
      "epoch 30 | loss: 0.01758 | val_logits_ll: 0.01815 |  0:00:33s\n",
      "epoch 40 | loss: 0.01699 | val_logits_ll: 0.01749 |  0:00:43s\n",
      "epoch 50 | loss: 0.01663 | val_logits_ll: 0.02037 |  0:00:53s\n",
      "epoch 60 | loss: 0.0163  | val_logits_ll: 0.0173  |  0:01:03s\n",
      "epoch 70 | loss: 0.01623 | val_logits_ll: 0.01701 |  0:01:13s\n",
      "epoch 80 | loss: 0.01588 | val_logits_ll: 0.01703 |  0:01:23s\n",
      "epoch 90 | loss: 0.0157  | val_logits_ll: 0.01696 |  0:01:34s\n",
      "epoch 100| loss: 0.01545 | val_logits_ll: 0.01763 |  0:01:44s\n",
      "\n",
      "Early stopping occured at epoch 104 with best_epoch = 84 and best_val_logits_ll = 0.01689\n",
      "Best weights from best epoch are automatically used!\n",
      "FOLDS :  2\n",
      "Device used : cuda\n",
      "epoch 0  | loss: 0.56393 | val_logits_ll: 0.28258 |  0:00:00s\n",
      "epoch 10 | loss: 0.02086 | val_logits_ll: 0.0206  |  0:00:10s\n",
      "epoch 20 | loss: 0.01901 | val_logits_ll: 0.02061 |  0:00:21s\n",
      "epoch 30 | loss: 0.01772 | val_logits_ll: 0.02037 |  0:00:31s\n",
      "epoch 40 | loss: 0.01719 | val_logits_ll: 0.01813 |  0:00:42s\n",
      "epoch 50 | loss: 0.01676 | val_logits_ll: 0.01771 |  0:00:52s\n",
      "epoch 60 | loss: 0.01638 | val_logits_ll: 0.01737 |  0:01:02s\n",
      "epoch 70 | loss: 0.01624 | val_logits_ll: 0.01772 |  0:01:12s\n",
      "epoch 80 | loss: 0.01604 | val_logits_ll: 0.01756 |  0:01:22s\n",
      "epoch 90 | loss: 0.01585 | val_logits_ll: 0.01713 |  0:01:33s\n",
      "epoch 100| loss: 0.01556 | val_logits_ll: 0.01711 |  0:01:43s\n",
      "epoch 110| loss: 0.01528 | val_logits_ll: 0.01719 |  0:01:53s\n",
      "epoch 120| loss: 0.01508 | val_logits_ll: 0.01728 |  0:02:03s\n",
      "\n",
      "Early stopping occured at epoch 121 with best_epoch = 101 and best_val_logits_ll = 0.01695\n",
      "Best weights from best epoch are automatically used!\n",
      "FOLDS :  3\n",
      "Device used : cuda\n",
      "epoch 0  | loss: 0.56308 | val_logits_ll: 0.30239 |  0:00:00s\n",
      "epoch 10 | loss: 0.02067 | val_logits_ll: 0.02071 |  0:00:10s\n",
      "epoch 20 | loss: 0.01896 | val_logits_ll: 0.01938 |  0:00:20s\n",
      "epoch 30 | loss: 0.01775 | val_logits_ll: 0.0182  |  0:00:31s\n",
      "epoch 40 | loss: 0.01725 | val_logits_ll: 0.01811 |  0:00:42s\n",
      "epoch 50 | loss: 0.01677 | val_logits_ll: 0.01812 |  0:00:51s\n",
      "epoch 60 | loss: 0.01669 | val_logits_ll: 0.01832 |  0:01:01s\n",
      "epoch 70 | loss: 0.01637 | val_logits_ll: 0.01744 |  0:01:11s\n",
      "epoch 80 | loss: 0.01612 | val_logits_ll: 0.01731 |  0:01:21s\n",
      "epoch 90 | loss: 0.016   | val_logits_ll: 0.01722 |  0:01:33s\n",
      "epoch 100| loss: 0.01582 | val_logits_ll: 0.0171  |  0:01:43s\n",
      "\n",
      "Early stopping occured at epoch 107 with best_epoch = 87 and best_val_logits_ll = 0.01709\n",
      "Best weights from best epoch are automatically used!\n",
      "FOLDS :  4\n",
      "Device used : cuda\n",
      "epoch 0  | loss: 0.57059 | val_logits_ll: 0.29394 |  0:00:00s\n",
      "epoch 10 | loss: 0.02046 | val_logits_ll: 0.02043 |  0:00:11s\n",
      "epoch 20 | loss: 0.01901 | val_logits_ll: 0.01938 |  0:00:21s\n",
      "epoch 30 | loss: 0.01792 | val_logits_ll: 0.01827 |  0:00:31s\n",
      "epoch 40 | loss: 0.01715 | val_logits_ll: 0.01761 |  0:00:42s\n",
      "epoch 50 | loss: 0.01693 | val_logits_ll: 0.0175  |  0:00:53s\n",
      "epoch 60 | loss: 0.01662 | val_logits_ll: 0.01735 |  0:01:03s\n",
      "epoch 70 | loss: 0.01631 | val_logits_ll: 0.01724 |  0:01:13s\n",
      "epoch 80 | loss: 0.0162  | val_logits_ll: 0.01719 |  0:01:23s\n",
      "epoch 90 | loss: 0.016   | val_logits_ll: 0.01705 |  0:01:33s\n",
      "epoch 100| loss: 0.01596 | val_logits_ll: 0.01685 |  0:01:44s\n",
      "epoch 110| loss: 0.01603 | val_logits_ll: 0.0172  |  0:01:54s\n",
      "\n",
      "Early stopping occured at epoch 116 with best_epoch = 96 and best_val_logits_ll = 0.0168\n",
      "Best weights from best epoch are automatically used!\n",
      "FOLDS :  5\n",
      "Device used : cuda\n",
      "epoch 0  | loss: 0.5654  | val_logits_ll: 0.30652 |  0:00:00s\n",
      "epoch 10 | loss: 0.02072 | val_logits_ll: 0.02068 |  0:00:11s\n",
      "epoch 20 | loss: 0.01918 | val_logits_ll: 0.01936 |  0:00:21s\n",
      "epoch 30 | loss: 0.01752 | val_logits_ll: 0.01795 |  0:00:31s\n",
      "epoch 40 | loss: 0.0169  | val_logits_ll: 0.01753 |  0:00:42s\n",
      "epoch 50 | loss: 0.01669 | val_logits_ll: 0.01735 |  0:00:53s\n",
      "epoch 60 | loss: 0.01652 | val_logits_ll: 0.01711 |  0:01:03s\n",
      "epoch 70 | loss: 0.01613 | val_logits_ll: 0.01807 |  0:01:13s\n",
      "epoch 80 | loss: 0.01621 | val_logits_ll: 0.0173  |  0:01:23s\n",
      "epoch 90 | loss: 0.01597 | val_logits_ll: 0.01719 |  0:01:34s\n",
      "epoch 100| loss: 0.01636 | val_logits_ll: 0.01712 |  0:01:45s\n",
      "epoch 110| loss: 0.01585 | val_logits_ll: 0.01699 |  0:01:56s\n",
      "\n",
      "Early stopping occured at epoch 117 with best_epoch = 97 and best_val_logits_ll = 0.01697\n",
      "Best weights from best epoch are automatically used!\n",
      "FOLDS :  1\n",
      "Device used : cuda\n",
      "epoch 0  | loss: 0.5602  | val_logits_ll: 0.23529 |  0:00:01s\n",
      "epoch 10 | loss: 0.02073 | val_logits_ll: 0.02056 |  0:00:10s\n",
      "epoch 20 | loss: 0.01912 | val_logits_ll: 0.01962 |  0:00:20s\n",
      "epoch 30 | loss: 0.01811 | val_logits_ll: 0.01836 |  0:00:31s\n",
      "epoch 40 | loss: 0.0173  | val_logits_ll: 0.01802 |  0:00:41s\n",
      "epoch 50 | loss: 0.01736 | val_logits_ll: 0.0178  |  0:00:51s\n",
      "epoch 60 | loss: 0.01667 | val_logits_ll: 0.01731 |  0:01:01s\n",
      "epoch 70 | loss: 0.01657 | val_logits_ll: 0.01709 |  0:01:11s\n",
      "epoch 80 | loss: 0.01629 | val_logits_ll: 0.01705 |  0:01:21s\n",
      "epoch 90 | loss: 0.0161  | val_logits_ll: 0.01694 |  0:01:32s\n",
      "epoch 100| loss: 0.016   | val_logits_ll: 0.01704 |  0:01:42s\n",
      "epoch 110| loss: 0.01545 | val_logits_ll: 0.0192  |  0:01:52s\n",
      "epoch 120| loss: 0.01565 | val_logits_ll: 0.01719 |  0:02:01s\n",
      "epoch 130| loss: 0.01526 | val_logits_ll: 0.01686 |  0:02:11s\n",
      "epoch 140| loss: 0.01507 | val_logits_ll: 0.01696 |  0:02:21s\n",
      "\n",
      "Early stopping occured at epoch 141 with best_epoch = 121 and best_val_logits_ll = 0.01677\n",
      "Best weights from best epoch are automatically used!\n",
      "FOLDS :  2\n",
      "Device used : cuda\n",
      "epoch 0  | loss: 0.54823 | val_logits_ll: 0.21933 |  0:00:01s\n",
      "epoch 10 | loss: 0.02059 | val_logits_ll: 0.02054 |  0:00:12s\n",
      "epoch 20 | loss: 0.01924 | val_logits_ll: 0.01949 |  0:00:23s\n",
      "epoch 30 | loss: 0.01812 | val_logits_ll: 0.02034 |  0:00:33s\n",
      "epoch 40 | loss: 0.01737 | val_logits_ll: 0.01852 |  0:00:43s\n",
      "epoch 50 | loss: 0.01706 | val_logits_ll: 0.0177  |  0:00:54s\n",
      "epoch 60 | loss: 0.0166  | val_logits_ll: 0.01723 |  0:01:05s\n",
      "epoch 70 | loss: 0.01635 | val_logits_ll: 0.01735 |  0:01:16s\n",
      "epoch 80 | loss: 0.01631 | val_logits_ll: 0.01725 |  0:01:26s\n",
      "epoch 90 | loss: 0.0159  | val_logits_ll: 0.01722 |  0:01:37s\n",
      "epoch 100| loss: 0.01546 | val_logits_ll: 0.01725 |  0:01:47s\n",
      "\n",
      "Early stopping occured at epoch 104 with best_epoch = 84 and best_val_logits_ll = 0.01707\n",
      "Best weights from best epoch are automatically used!\n",
      "FOLDS :  3\n",
      "Device used : cuda\n",
      "epoch 0  | loss: 0.56915 | val_logits_ll: 0.25101 |  0:00:01s\n",
      "epoch 10 | loss: 0.02048 | val_logits_ll: 0.02058 |  0:00:11s\n",
      "epoch 20 | loss: 0.0191  | val_logits_ll: 0.01951 |  0:00:22s\n",
      "epoch 30 | loss: 0.01821 | val_logits_ll: 0.0188  |  0:00:32s\n",
      "epoch 40 | loss: 0.01736 | val_logits_ll: 0.01807 |  0:00:42s\n",
      "epoch 50 | loss: 0.01703 | val_logits_ll: 0.01766 |  0:00:51s\n",
      "epoch 60 | loss: 0.01672 | val_logits_ll: 0.01754 |  0:01:01s\n",
      "epoch 70 | loss: 0.01622 | val_logits_ll: 0.01737 |  0:01:12s\n",
      "epoch 80 | loss: 0.01618 | val_logits_ll: 0.01748 |  0:01:23s\n",
      "epoch 90 | loss: 0.0159  | val_logits_ll: 0.01718 |  0:01:32s\n",
      "epoch 100| loss: 0.01596 | val_logits_ll: 0.01845 |  0:01:43s\n",
      "epoch 110| loss: 0.01549 | val_logits_ll: 0.01721 |  0:01:52s\n",
      "epoch 120| loss: 0.01552 | val_logits_ll: 0.01722 |  0:02:02s\n",
      "\n",
      "Early stopping occured at epoch 128 with best_epoch = 108 and best_val_logits_ll = 0.01695\n",
      "Best weights from best epoch are automatically used!\n",
      "FOLDS :  4\n",
      "Device used : cuda\n",
      "epoch 0  | loss: 0.55948 | val_logits_ll: 0.25799 |  0:00:01s\n",
      "epoch 10 | loss: 0.02084 | val_logits_ll: 0.02068 |  0:00:12s\n",
      "epoch 20 | loss: 0.01865 | val_logits_ll: 0.02057 |  0:00:21s\n",
      "epoch 30 | loss: 0.01752 | val_logits_ll: 0.01798 |  0:00:31s\n",
      "epoch 40 | loss: 0.017   | val_logits_ll: 0.01757 |  0:00:41s\n",
      "epoch 50 | loss: 0.01667 | val_logits_ll: 0.01781 |  0:00:50s\n",
      "epoch 60 | loss: 0.01641 | val_logits_ll: 0.01734 |  0:01:00s\n",
      "epoch 70 | loss: 0.01634 | val_logits_ll: 0.01821 |  0:01:11s\n",
      "epoch 80 | loss: 0.01614 | val_logits_ll: 0.01728 |  0:01:21s\n",
      "epoch 90 | loss: 0.01587 | val_logits_ll: 0.0172  |  0:01:31s\n",
      "epoch 100| loss: 0.01568 | val_logits_ll: 0.01697 |  0:01:42s\n",
      "epoch 110| loss: 0.01583 | val_logits_ll: 0.01697 |  0:01:52s\n",
      "epoch 120| loss: 0.01532 | val_logits_ll: 0.0168  |  0:02:02s\n",
      "epoch 130| loss: 0.01515 | val_logits_ll: 0.01707 |  0:02:13s\n",
      "epoch 140| loss: 0.01483 | val_logits_ll: 0.01711 |  0:02:23s\n",
      "\n",
      "Early stopping occured at epoch 140 with best_epoch = 120 and best_val_logits_ll = 0.0168\n",
      "Best weights from best epoch are automatically used!\n",
      "FOLDS :  5\n",
      "Device used : cuda\n",
      "epoch 0  | loss: 0.56036 | val_logits_ll: 0.25283 |  0:00:00s\n",
      "epoch 10 | loss: 0.02067 | val_logits_ll: 0.02047 |  0:00:10s\n",
      "epoch 20 | loss: 0.01886 | val_logits_ll: 0.01901 |  0:00:20s\n",
      "epoch 30 | loss: 0.01796 | val_logits_ll: 0.01912 |  0:00:30s\n",
      "epoch 40 | loss: 0.01725 | val_logits_ll: 0.01794 |  0:00:41s\n",
      "epoch 50 | loss: 0.01689 | val_logits_ll: 0.01826 |  0:00:51s\n",
      "epoch 60 | loss: 0.01661 | val_logits_ll: 0.01727 |  0:01:02s\n",
      "epoch 70 | loss: 0.01661 | val_logits_ll: 0.0175  |  0:01:11s\n",
      "epoch 80 | loss: 0.01643 | val_logits_ll: 0.01759 |  0:01:21s\n",
      "epoch 90 | loss: 0.01596 | val_logits_ll: 0.01705 |  0:01:31s\n",
      "epoch 100| loss: 0.01563 | val_logits_ll: 0.01726 |  0:01:43s\n",
      "epoch 110| loss: 0.01572 | val_logits_ll: 0.01699 |  0:01:53s\n",
      "epoch 120| loss: 0.01516 | val_logits_ll: 0.0172  |  0:02:03s\n",
      "epoch 130| loss: 0.015   | val_logits_ll: 0.01733 |  0:02:13s\n",
      "\n",
      "Early stopping occured at epoch 130 with best_epoch = 110 and best_val_logits_ll = 0.01699\n",
      "Best weights from best epoch are automatically used!\n",
      "FOLDS :  1\n",
      "Device used : cuda\n",
      "epoch 0  | loss: 0.57053 | val_logits_ll: 0.29512 |  0:00:00s\n",
      "epoch 10 | loss: 0.02063 | val_logits_ll: 0.02051 |  0:00:11s\n",
      "epoch 20 | loss: 0.01902 | val_logits_ll: 0.01902 |  0:00:22s\n",
      "epoch 30 | loss: 0.01785 | val_logits_ll: 0.02031 |  0:00:33s\n",
      "epoch 40 | loss: 0.01737 | val_logits_ll: 0.0181  |  0:00:43s\n",
      "epoch 50 | loss: 0.01684 | val_logits_ll: 0.01867 |  0:00:53s\n",
      "epoch 60 | loss: 0.01675 | val_logits_ll: 0.01735 |  0:01:04s\n",
      "epoch 70 | loss: 0.01649 | val_logits_ll: 0.01728 |  0:01:14s\n",
      "epoch 80 | loss: 0.01661 | val_logits_ll: 0.01708 |  0:01:25s\n",
      "epoch 90 | loss: 0.01648 | val_logits_ll: 0.01712 |  0:01:35s\n",
      "epoch 100| loss: 0.0161  | val_logits_ll: 0.01701 |  0:01:45s\n",
      "epoch 110| loss: 0.01631 | val_logits_ll: 0.01705 |  0:01:56s\n",
      "epoch 120| loss: 0.01573 | val_logits_ll: 0.01684 |  0:02:06s\n",
      "epoch 130| loss: 0.01557 | val_logits_ll: 0.01686 |  0:02:16s\n",
      "\n",
      "Early stopping occured at epoch 137 with best_epoch = 117 and best_val_logits_ll = 0.01676\n",
      "Best weights from best epoch are automatically used!\n",
      "FOLDS :  2\n",
      "Device used : cuda\n",
      "epoch 0  | loss: 0.57618 | val_logits_ll: 0.2996  |  0:00:01s\n",
      "epoch 10 | loss: 0.02079 | val_logits_ll: 0.02069 |  0:00:11s\n",
      "epoch 20 | loss: 0.0191  | val_logits_ll: 0.01915 |  0:00:21s\n",
      "epoch 30 | loss: 0.01796 | val_logits_ll: 0.01848 |  0:00:31s\n",
      "epoch 40 | loss: 0.01726 | val_logits_ll: 0.01867 |  0:00:42s\n",
      "epoch 50 | loss: 0.01685 | val_logits_ll: 0.01785 |  0:00:51s\n",
      "epoch 60 | loss: 0.01658 | val_logits_ll: 0.01763 |  0:01:03s\n",
      "epoch 70 | loss: 0.01624 | val_logits_ll: 0.01838 |  0:01:13s\n",
      "epoch 80 | loss: 0.01667 | val_logits_ll: 0.01754 |  0:01:23s\n",
      "epoch 90 | loss: 0.01599 | val_logits_ll: 0.01724 |  0:01:33s\n",
      "epoch 100| loss: 0.01556 | val_logits_ll: 0.01719 |  0:01:44s\n",
      "epoch 110| loss: 0.0154  | val_logits_ll: 0.01726 |  0:01:54s\n",
      "\n",
      "Early stopping occured at epoch 119 with best_epoch = 99 and best_val_logits_ll = 0.01703\n",
      "Best weights from best epoch are automatically used!\n",
      "FOLDS :  3\n",
      "Device used : cuda\n",
      "epoch 0  | loss: 0.56934 | val_logits_ll: 0.31784 |  0:00:00s\n",
      "epoch 10 | loss: 0.02092 | val_logits_ll: 0.02101 |  0:00:11s\n",
      "epoch 20 | loss: 0.01916 | val_logits_ll: 0.02015 |  0:00:21s\n",
      "epoch 30 | loss: 0.01787 | val_logits_ll: 0.0184  |  0:00:31s\n",
      "epoch 40 | loss: 0.01708 | val_logits_ll: 0.01777 |  0:00:42s\n",
      "epoch 50 | loss: 0.01695 | val_logits_ll: 0.01775 |  0:00:52s\n",
      "epoch 60 | loss: 0.01686 | val_logits_ll: 0.01751 |  0:01:03s\n",
      "epoch 70 | loss: 0.01629 | val_logits_ll: 0.01738 |  0:01:13s\n",
      "epoch 80 | loss: 0.01598 | val_logits_ll: 0.01716 |  0:01:23s\n",
      "epoch 90 | loss: 0.01577 | val_logits_ll: 0.01724 |  0:01:33s\n",
      "epoch 100| loss: 0.01571 | val_logits_ll: 0.01732 |  0:01:44s\n",
      "epoch 110| loss: 0.01535 | val_logits_ll: 0.01801 |  0:01:55s\n",
      "\n",
      "Early stopping occured at epoch 111 with best_epoch = 91 and best_val_logits_ll = 0.01706\n",
      "Best weights from best epoch are automatically used!\n",
      "FOLDS :  4\n",
      "Device used : cuda\n",
      "epoch 0  | loss: 0.56709 | val_logits_ll: 0.29166 |  0:00:01s\n",
      "epoch 10 | loss: 0.02078 | val_logits_ll: 0.02072 |  0:00:11s\n",
      "epoch 20 | loss: 0.01923 | val_logits_ll: 0.01974 |  0:00:21s\n",
      "epoch 30 | loss: 0.01788 | val_logits_ll: 0.0211  |  0:00:31s\n",
      "epoch 40 | loss: 0.01723 | val_logits_ll: 0.01797 |  0:00:41s\n",
      "epoch 50 | loss: 0.01677 | val_logits_ll: 0.01733 |  0:00:53s\n",
      "epoch 60 | loss: 0.0165  | val_logits_ll: 0.01723 |  0:01:03s\n",
      "epoch 70 | loss: 0.01614 | val_logits_ll: 0.01705 |  0:01:13s\n",
      "epoch 80 | loss: 0.01582 | val_logits_ll: 0.01694 |  0:01:23s\n",
      "epoch 90 | loss: 0.01557 | val_logits_ll: 0.01714 |  0:01:33s\n",
      "\n",
      "Early stopping occured at epoch 98 with best_epoch = 78 and best_val_logits_ll = 0.01693\n",
      "Best weights from best epoch are automatically used!\n",
      "FOLDS :  5\n",
      "Device used : cuda\n",
      "epoch 0  | loss: 0.57245 | val_logits_ll: 0.30195 |  0:00:01s\n",
      "epoch 10 | loss: 0.02056 | val_logits_ll: 0.02036 |  0:00:11s\n",
      "epoch 20 | loss: 0.0186  | val_logits_ll: 0.01888 |  0:00:22s\n",
      "epoch 30 | loss: 0.01777 | val_logits_ll: 0.01808 |  0:00:32s\n",
      "epoch 40 | loss: 0.01732 | val_logits_ll: 0.01894 |  0:00:43s\n",
      "epoch 50 | loss: 0.01705 | val_logits_ll: 0.01755 |  0:00:53s\n",
      "epoch 60 | loss: 0.01666 | val_logits_ll: 0.01769 |  0:01:03s\n",
      "epoch 70 | loss: 0.01687 | val_logits_ll: 0.01739 |  0:01:15s\n",
      "epoch 80 | loss: 0.0164  | val_logits_ll: 0.01729 |  0:01:25s\n",
      "epoch 90 | loss: 0.01612 | val_logits_ll: 0.01721 |  0:01:35s\n",
      "epoch 100| loss: 0.01587 | val_logits_ll: 0.01725 |  0:01:45s\n",
      "epoch 110| loss: 0.01559 | val_logits_ll: 0.01715 |  0:01:55s\n",
      "epoch 120| loss: 0.01536 | val_logits_ll: 0.01718 |  0:02:05s\n",
      "epoch 130| loss: 0.01511 | val_logits_ll: 0.01709 |  0:02:16s\n",
      "epoch 140| loss: 0.01513 | val_logits_ll: 0.01741 |  0:02:27s\n",
      "\n",
      "Early stopping occured at epoch 148 with best_epoch = 128 and best_val_logits_ll = 0.01704\n",
      "Best weights from best epoch are automatically used!\n"
     ]
    }
   ],
   "source": [
    "MAX_EPOCH=200\n",
    "\n",
    "smoothing = 0.001\n",
    "p_min = smoothing\n",
    "p_max = 1 - smoothing\n",
    "\n",
    "def seed_everything(seed_value):\n",
    "    random.seed(seed_value)\n",
    "    np.random.seed(seed_value)\n",
    "    torch.manual_seed(seed_value)\n",
    "    os.environ['PYTHONHASHSEED'] = str(seed_value)\n",
    "    \n",
    "    if torch.cuda.is_available(): \n",
    "        torch.cuda.manual_seed(seed_value)\n",
    "        torch.cuda.manual_seed_all(seed_value)\n",
    "        torch.backends.cudnn.deterministic = True\n",
    "        torch.backends.cudnn.benchmark = False\n",
    "\n",
    "def modelling_tabnet(tr, target, te, sample_seed):\n",
    "    seed_everything(sample_seed) \n",
    "    tabnet_params = dict(n_d=12, n_a=12, n_steps=1, gamma=1.3, seed = sample_seed,\n",
    "                     lambda_sparse=0, optimizer_fn=torch.optim.Adam,\n",
    "                     optimizer_params=dict(lr=2e-2, weight_decay=1e-5),\n",
    "                     mask_type='entmax',\n",
    "                     scheduler_params=dict(mode=\"min\",\n",
    "                                           patience=5,\n",
    "                                           min_lr=1e-5,\n",
    "                                           factor=0.9,),\n",
    "                     scheduler_fn=torch.optim.lr_scheduler.ReduceLROnPlateau,\n",
    "                     verbose=10,\n",
    "                     )\n",
    "    test_cv_preds = []\n",
    "\n",
    "    NB_SPLITS = 5\n",
    "    mskf = MultilabelStratifiedKFold(n_splits=NB_SPLITS, random_state=0, shuffle=True)\n",
    "    oof_preds = np.zeros([len(tr),target.shape[1]])\n",
    "    scores = []\n",
    "    for fold_nb, (train_idx, val_idx) in enumerate(mskf.split(train, target)):\n",
    "        print(\"FOLDS : \", fold_nb+1)\n",
    "\n",
    "        ## model\n",
    "        X_train, y_train = tr[train_idx, :], target[train_idx, :]\n",
    "        X_val, y_val = tr[val_idx, :], target[val_idx, :]\n",
    "        model = TabNetRegressor(**tabnet_params)\n",
    "    \n",
    "        model.fit(X_train=X_train,\n",
    "              y_train=y_train,\n",
    "              eval_set=[(X_val, y_val)],\n",
    "              eval_name = [\"val\"],\n",
    "              eval_metric = [\"logits_ll\"],\n",
    "              max_epochs=MAX_EPOCH,\n",
    "              patience=20, batch_size=1024, virtual_batch_size=128,\n",
    "              num_workers=1, drop_last=False,\n",
    "              # use binary cross entropy as this is not a regression problem\n",
    "              loss_fn=torch.nn.functional.binary_cross_entropy_with_logits)\n",
    "    \n",
    "        preds_val = model.predict(X_val)\n",
    "        # Apply sigmoid to the predictions\n",
    "        preds =  1 / (1 + np.exp(-preds_val))\n",
    "        score = np.min(model.history[\"val_logits_ll\"])\n",
    "        oof_preds[val_idx,:] = preds\n",
    "        #oof_preds[val_idx,:] = np.clip(preds, p_min, p_max)\n",
    "        scores.append(score)\n",
    "\n",
    "        # preds on test\n",
    "        preds_test = model.predict(te)\n",
    "        test_cv_preds.append(1 / (1 + np.exp(-preds_test)))\n",
    "        #test_cv_preds.append(np.clip(1 / (1 + np.exp(-preds_test))), p_min, p_max)\n",
    "\n",
    "    test_preds_all = np.stack(test_cv_preds)\n",
    "    return oof_preds, test_preds_all\n",
    "\n",
    "target_oof = np.zeros([len(fn_train),fn_targets.shape[1]])\n",
    "target_pred = np.zeros([len(fn_test),fn_targets.shape[1]])\n",
    "\n",
    "seeds = [0,1,2]\n",
    "for seed_ in seeds:\n",
    "    oof_preds, test_preds_all = modelling_tabnet(fn_train, fn_targets, fn_test, seed_)\n",
    "    target_oof += oof_preds / len(seeds)\n",
    "    target_pred += test_preds_all.mean(axis=0) / len(seeds)"
   ]
  },
  {
   "cell_type": "code",
   "execution_count": 15,
   "metadata": {
    "execution": {
     "iopub.execute_input": "2020-10-26T12:49:54.572577Z",
     "iopub.status.busy": "2020-10-26T12:49:54.571570Z",
     "iopub.status.idle": "2020-10-26T12:50:00.900883Z",
     "shell.execute_reply": "2020-10-26T12:50:00.901472Z"
    },
    "papermill": {
     "duration": 6.440338,
     "end_time": "2020-10-26T12:50:00.901622",
     "exception": false,
     "start_time": "2020-10-26T12:49:54.461284",
     "status": "completed"
    },
    "tags": []
   },
   "outputs": [
    {
     "name": "stdout",
     "output_type": "stream",
     "text": [
      "OOF log loss:  0.015206826543588205\n"
     ]
    }
   ],
   "source": [
    "t = pd.read_csv(DATA_DIR + 'train_targets_scored.csv')\n",
    "train_checkscore = t.copy()\n",
    "train_checkscore.loc[train_checkscore.index.isin(cons_train_index),target_feats] = target_oof\n",
    "train_checkscore.loc[train_checkscore.index.isin(noncons_train_index),target_feats] = 0\n",
    "\n",
    "t.drop(\"sig_id\", axis=1, inplace=True)\n",
    "print('OOF log loss: ', log_loss(np.ravel(t), np.ravel(np.array(train_checkscore.iloc[:,1:]))))"
   ]
  },
  {
   "cell_type": "code",
   "execution_count": 16,
   "metadata": {
    "execution": {
     "iopub.execute_input": "2020-10-26T12:50:01.103472Z",
     "iopub.status.busy": "2020-10-26T12:50:01.102470Z",
     "iopub.status.idle": "2020-10-26T12:50:03.683290Z",
     "shell.execute_reply": "2020-10-26T12:50:03.682106Z"
    },
    "papermill": {
     "duration": 2.685902,
     "end_time": "2020-10-26T12:50:03.683412",
     "exception": false,
     "start_time": "2020-10-26T12:50:00.997510",
     "status": "completed"
    },
    "tags": []
   },
   "outputs": [],
   "source": [
    "sub[target_feats] = target_pred\n",
    "sub.loc[noncons_test_index,target_feats] = 0\n",
    "sub.to_csv('submission.csv', index=False)"
   ]
  },
  {
   "cell_type": "code",
   "execution_count": null,
   "metadata": {
    "papermill": {
     "duration": 0.099047,
     "end_time": "2020-10-26T12:50:03.882225",
     "exception": false,
     "start_time": "2020-10-26T12:50:03.783178",
     "status": "completed"
    },
    "tags": []
   },
   "outputs": [],
   "source": []
  }
 ],
 "metadata": {
  "kernelspec": {
   "display_name": "Python 3",
   "language": "python",
   "name": "python3"
  },
  "language_info": {
   "codemirror_mode": {
    "name": "ipython",
    "version": 3
   },
   "file_extension": ".py",
   "mimetype": "text/x-python",
   "name": "python",
   "nbconvert_exporter": "python",
   "pygments_lexer": "ipython3",
   "version": "3.7.6"
  },
  "papermill": {
   "duration": 1972.77822,
   "end_time": "2020-10-26T12:50:05.229929",
   "environment_variables": {},
   "exception": null,
   "input_path": "__notebook__.ipynb",
   "output_path": "__notebook__.ipynb",
   "parameters": {},
   "start_time": "2020-10-26T12:17:12.451709",
   "version": "2.1.0"
  }
 },
 "nbformat": 4,
 "nbformat_minor": 4
}
