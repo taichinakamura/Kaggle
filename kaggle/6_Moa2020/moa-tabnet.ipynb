{
 "cells": [
  {
   "cell_type": "markdown",
   "metadata": {
    "papermill": {
     "duration": 0.018054,
     "end_time": "2020-11-03T01:30:51.210289",
     "exception": false,
     "start_time": "2020-11-03T01:30:51.192235",
     "status": "completed"
    },
    "tags": []
   },
   "source": [
    "- try and correct label smoothing (0.00005)\n",
    "- add umap\n",
    "- 3 ensemble (5 folds) "
   ]
  },
  {
   "cell_type": "code",
   "execution_count": 1,
   "metadata": {
    "execution": {
     "iopub.execute_input": "2020-11-03T01:30:51.251002Z",
     "iopub.status.busy": "2020-11-03T01:30:51.250094Z",
     "iopub.status.idle": "2020-11-03T01:31:01.161344Z",
     "shell.execute_reply": "2020-11-03T01:31:01.160341Z"
    },
    "papermill": {
     "duration": 9.934044,
     "end_time": "2020-11-03T01:31:01.161518",
     "exception": false,
     "start_time": "2020-11-03T01:30:51.227474",
     "status": "completed"
    },
    "tags": []
   },
   "outputs": [
    {
     "name": "stdout",
     "output_type": "stream",
     "text": [
      "Looking in links: /kaggle/input/pytorchtabnet/pytorch_tabnet-2.0.0-py3-none-any.whl\r\n",
      "Processing /kaggle/input/pytorchtabnet/pytorch_tabnet-2.0.0-py3-none-any.whl\r\n",
      "Requirement already satisfied: tqdm<5.0,>=4.36 in /opt/conda/lib/python3.7/site-packages (from pytorch-tabnet) (4.45.0)\r\n",
      "Requirement already satisfied: torch<2.0,>=1.2 in /opt/conda/lib/python3.7/site-packages (from pytorch-tabnet) (1.6.0)\r\n",
      "Requirement already satisfied: scikit_learn>0.21 in /opt/conda/lib/python3.7/site-packages (from pytorch-tabnet) (0.23.2)\r\n",
      "Requirement already satisfied: numpy<2.0,>=1.17 in /opt/conda/lib/python3.7/site-packages (from pytorch-tabnet) (1.18.5)\r\n",
      "Requirement already satisfied: scipy>1.4 in /opt/conda/lib/python3.7/site-packages (from pytorch-tabnet) (1.4.1)\r\n",
      "Requirement already satisfied: future in /opt/conda/lib/python3.7/site-packages (from torch<2.0,>=1.2->pytorch-tabnet) (0.18.2)\r\n",
      "Requirement already satisfied: joblib>=0.11 in /opt/conda/lib/python3.7/site-packages (from scikit_learn>0.21->pytorch-tabnet) (0.14.1)\r\n",
      "Requirement already satisfied: threadpoolctl>=2.0.0 in /opt/conda/lib/python3.7/site-packages (from scikit_learn>0.21->pytorch-tabnet) (2.1.0)\r\n",
      "Installing collected packages: pytorch-tabnet\r\n",
      "Successfully installed pytorch-tabnet-2.0.0\r\n"
     ]
    }
   ],
   "source": [
    "!pip install --no-index --find-links /kaggle/input/pytorchtabnet/pytorch_tabnet-2.0.0-py3-none-any.whl pytorch-tabnet"
   ]
  },
  {
   "cell_type": "code",
   "execution_count": 2,
   "metadata": {
    "_cell_guid": "b1076dfc-b9ad-4769-8c92-a6c4dae69d19",
    "_uuid": "8f2839f25d086af736a60e9eeb907d3b93b6e0e5",
    "execution": {
     "iopub.execute_input": "2020-11-03T01:31:01.217666Z",
     "iopub.status.busy": "2020-11-03T01:31:01.216357Z",
     "iopub.status.idle": "2020-11-03T01:31:12.313910Z",
     "shell.execute_reply": "2020-11-03T01:31:12.314501Z"
    },
    "papermill": {
     "duration": 11.128923,
     "end_time": "2020-11-03T01:31:12.314696",
     "exception": false,
     "start_time": "2020-11-03T01:31:01.185773",
     "status": "completed"
    },
    "tags": []
   },
   "outputs": [],
   "source": [
    "import os\n",
    "import sys\n",
    "import random\n",
    "import warnings\n",
    "import numpy as np\n",
    "import pandas as pd \n",
    "from umap import UMAP\n",
    "from sklearn import preprocessing\n",
    "from sklearn.metrics import log_loss,roc_auc_score\n",
    "from sklearn.decomposition import PCA\n",
    "from tqdm import tqdm_notebook as tqdm\n",
    "from sklearn.cluster import KMeans\n",
    "from sklearn.multioutput import MultiOutputClassifier\n",
    "from sklearn.feature_selection import VarianceThreshold\n",
    "from torch.nn.modules.loss import _WeightedLoss\n",
    "\n",
    "from pytorch_tabnet.metrics import Metric\n",
    "from pytorch_tabnet.tab_model import TabNetRegressor\n",
    "\n",
    "sys.path.append('../input/multilabelstraifier/')\n",
    "from ml_stratifiers import MultilabelStratifiedKFold\n",
    "warnings.filterwarnings('ignore')\n",
    "\n",
    "import time\n",
    "import torch\n",
    "import torch.nn as nn\n",
    "import torch.optim as optim\n",
    "import torch.nn.functional as F\n",
    "import tensorflow as tf"
   ]
  },
  {
   "cell_type": "code",
   "execution_count": 3,
   "metadata": {
    "execution": {
     "iopub.execute_input": "2020-11-03T01:31:12.369542Z",
     "iopub.status.busy": "2020-11-03T01:31:12.368785Z",
     "iopub.status.idle": "2020-11-03T01:31:19.456644Z",
     "shell.execute_reply": "2020-11-03T01:31:19.457640Z"
    },
    "papermill": {
     "duration": 7.118766,
     "end_time": "2020-11-03T01:31:19.457797",
     "exception": false,
     "start_time": "2020-11-03T01:31:12.339031",
     "status": "completed"
    },
    "tags": []
   },
   "outputs": [],
   "source": [
    "DATA_DIR = '/kaggle/input/lish-moa/'\n",
    "train = pd.read_csv(DATA_DIR + 'train_features.csv')\n",
    "targets = pd.read_csv(DATA_DIR + 'train_targets_scored.csv')\n",
    "non_targets = pd.read_csv(DATA_DIR + 'train_targets_nonscored.csv')\n",
    "test = pd.read_csv(DATA_DIR + 'test_features.csv')\n",
    "sub = pd.read_csv(DATA_DIR + 'sample_submission.csv')"
   ]
  },
  {
   "cell_type": "code",
   "execution_count": 4,
   "metadata": {
    "execution": {
     "iopub.execute_input": "2020-11-03T01:31:19.513730Z",
     "iopub.status.busy": "2020-11-03T01:31:19.513067Z",
     "iopub.status.idle": "2020-11-03T01:31:19.610782Z",
     "shell.execute_reply": "2020-11-03T01:31:19.610142Z"
    },
    "papermill": {
     "duration": 0.1325,
     "end_time": "2020-11-03T01:31:19.610918",
     "exception": false,
     "start_time": "2020-11-03T01:31:19.478418",
     "status": "completed"
    },
    "tags": []
   },
   "outputs": [],
   "source": [
    "target_feats = [ i for i in targets.columns if i != \"sig_id\"]\n",
    "g_feats = [i for i in train.columns if \"g-\" in i]\n",
    "c_feats = [i for i in train.columns if \"c-\" in i]\n",
    "\n",
    "noncons_train_index = train[train.cp_type==\"ctl_vehicle\"].index\n",
    "cons_train_index = train[~train.index.isin(noncons_train_index)].index\n",
    "noncons_test_index = test[test.cp_type==\"ctl_vehicle\"].index\n",
    "cons_test_index = test[test.cp_type!=\"ctl_vehicle\"].index"
   ]
  },
  {
   "cell_type": "markdown",
   "metadata": {
    "papermill": {
     "duration": 0.019773,
     "end_time": "2020-11-03T01:31:19.651175",
     "exception": false,
     "start_time": "2020-11-03T01:31:19.631402",
     "status": "completed"
    },
    "tags": []
   },
   "source": [
    "# preprocess"
   ]
  },
  {
   "cell_type": "code",
   "execution_count": 5,
   "metadata": {
    "execution": {
     "iopub.execute_input": "2020-11-03T01:31:19.704982Z",
     "iopub.status.busy": "2020-11-03T01:31:19.703968Z",
     "iopub.status.idle": "2020-11-03T01:31:19.932614Z",
     "shell.execute_reply": "2020-11-03T01:31:19.932077Z"
    },
    "papermill": {
     "duration": 0.261633,
     "end_time": "2020-11-03T01:31:19.932730",
     "exception": false,
     "start_time": "2020-11-03T01:31:19.671097",
     "status": "completed"
    },
    "tags": []
   },
   "outputs": [],
   "source": [
    "train = train[train.index.isin(cons_train_index)].copy().reset_index(drop=True)\n",
    "targets = targets[targets.index.isin(cons_train_index)].copy().reset_index(drop=True)"
   ]
  },
  {
   "cell_type": "code",
   "execution_count": 6,
   "metadata": {
    "execution": {
     "iopub.execute_input": "2020-11-03T01:31:19.981674Z",
     "iopub.status.busy": "2020-11-03T01:31:19.979767Z",
     "iopub.status.idle": "2020-11-03T01:31:19.982380Z",
     "shell.execute_reply": "2020-11-03T01:31:19.982854Z"
    },
    "papermill": {
     "duration": 0.028623,
     "end_time": "2020-11-03T01:31:19.982967",
     "exception": false,
     "start_time": "2020-11-03T01:31:19.954344",
     "status": "completed"
    },
    "tags": []
   },
   "outputs": [],
   "source": [
    "#X = train[g_feats+c_feats].copy().values\n",
    "#select = VarianceThreshold(threshold=0.4)\n",
    "#X_new = select.fit_transform(X)\n",
    "#drop_feats = list(np.array(train[g_feats+c_feats].columns)[select.get_support()==False])\n",
    "#len(drop_feats)"
   ]
  },
  {
   "cell_type": "markdown",
   "metadata": {
    "papermill": {
     "duration": 0.019807,
     "end_time": "2020-11-03T01:31:20.024689",
     "exception": false,
     "start_time": "2020-11-03T01:31:20.004882",
     "status": "completed"
    },
    "tags": []
   },
   "source": [
    "# feature engineering"
   ]
  },
  {
   "cell_type": "code",
   "execution_count": 7,
   "metadata": {
    "execution": {
     "iopub.execute_input": "2020-11-03T01:31:20.074401Z",
     "iopub.status.busy": "2020-11-03T01:31:20.073502Z",
     "iopub.status.idle": "2020-11-03T01:31:29.293896Z",
     "shell.execute_reply": "2020-11-03T01:31:29.293174Z"
    },
    "papermill": {
     "duration": 9.248297,
     "end_time": "2020-11-03T01:31:29.294036",
     "exception": false,
     "start_time": "2020-11-03T01:31:20.045739",
     "status": "completed"
    },
    "tags": []
   },
   "outputs": [],
   "source": [
    "for i in c_feats + g_feats:\n",
    "    ss = preprocessing.QuantileTransformer(n_quantiles=100, random_state=0, output_distribution=\"normal\")\n",
    "    ss.fit(train[i].values.reshape(-1,1))\n",
    "    train[i] = ss.transform(train[i].values.reshape(-1,1))\n",
    "    test[i] = ss.transform(test[i].values.reshape(-1,1))"
   ]
  },
  {
   "cell_type": "code",
   "execution_count": 8,
   "metadata": {
    "execution": {
     "iopub.execute_input": "2020-11-03T01:31:29.360851Z",
     "iopub.status.busy": "2020-11-03T01:31:29.358939Z",
     "iopub.status.idle": "2020-11-03T01:31:31.096294Z",
     "shell.execute_reply": "2020-11-03T01:31:31.095188Z"
    },
    "papermill": {
     "duration": 1.778179,
     "end_time": "2020-11-03T01:31:31.096414",
     "exception": false,
     "start_time": "2020-11-03T01:31:29.318235",
     "status": "completed"
    },
    "tags": []
   },
   "outputs": [],
   "source": [
    "c_num = 1\n",
    "pca_c_cols = [\"pca-c\"+str(i+1) for i in range(c_num)]\n",
    "pca = PCA(n_components=c_num,random_state=42)\n",
    "c_train = pca.fit_transform(train[c_feats])\n",
    "c_test = pca.transform(test[c_feats])\n",
    "c_train = pd.DataFrame(c_train, columns=pca_c_cols)\n",
    "c_test = pd.DataFrame(c_test, columns=pca_c_cols)\n",
    "\n",
    "g_num = 10\n",
    "pca_g_cols = [\"pca-g\"+str(i+1) for i in range(g_num)]\n",
    "pca = PCA(n_components=g_num, random_state=42)\n",
    "g_train = pca.fit_transform(train[g_feats])\n",
    "g_test = pca.transform(test[g_feats])\n",
    "g_train = pd.DataFrame(g_train, columns=pca_g_cols)\n",
    "g_test = pd.DataFrame(g_test, columns=pca_g_cols)\n",
    "\n",
    "train = pd.concat([train, c_train],axis=1)\n",
    "test = pd.concat([test, c_test],axis=1)\n",
    "train = pd.concat([train, g_train],axis=1)\n",
    "test = pd.concat([test, g_test],axis=1)"
   ]
  },
  {
   "cell_type": "code",
   "execution_count": 9,
   "metadata": {
    "execution": {
     "iopub.execute_input": "2020-11-03T01:31:31.153831Z",
     "iopub.status.busy": "2020-11-03T01:31:31.147304Z",
     "iopub.status.idle": "2020-11-03T01:34:49.495736Z",
     "shell.execute_reply": "2020-11-03T01:34:49.496221Z"
    },
    "papermill": {
     "duration": 198.378476,
     "end_time": "2020-11-03T01:34:49.496397",
     "exception": false,
     "start_time": "2020-11-03T01:31:31.117921",
     "status": "completed"
    },
    "tags": []
   },
   "outputs": [],
   "source": [
    "uc_num = 1\n",
    "um = UMAP(n_neighbors=30, n_components=uc_num, random_state=42)\n",
    "um_c_cols = [\"um-c\"+str(i+1) for i in range(uc_num)]\n",
    "uc_train = um.fit_transform(train[c_feats])\n",
    "uc_test = um.transform(test[c_feats])\n",
    "uc_train = pd.DataFrame(uc_train, columns=um_c_cols)\n",
    "uc_test = pd.DataFrame(uc_test, columns=um_c_cols)\n",
    "\n",
    "ug_num = 10\n",
    "um = UMAP(n_neighbors=30, n_components=ug_num, random_state=42)\n",
    "um_g_cols = [\"um-g\"+str(i+1) for i in range(ug_num)]\n",
    "ug_train = um.fit_transform(train[g_feats])\n",
    "ug_test = um.transform(test[g_feats])\n",
    "ug_train = pd.DataFrame(ug_train, columns=um_g_cols)\n",
    "ug_test = pd.DataFrame(ug_test, columns=um_g_cols)\n",
    "\n",
    "train = pd.concat([train, uc_train],axis=1)\n",
    "test = pd.concat([test, uc_test],axis=1)\n",
    "train = pd.concat([train, ug_train],axis=1)\n",
    "test = pd.concat([test, ug_test],axis=1)"
   ]
  },
  {
   "cell_type": "code",
   "execution_count": 10,
   "metadata": {
    "execution": {
     "iopub.execute_input": "2020-11-03T01:34:49.545947Z",
     "iopub.status.busy": "2020-11-03T01:34:49.545166Z",
     "iopub.status.idle": "2020-11-03T01:34:49.549150Z",
     "shell.execute_reply": "2020-11-03T01:34:49.549681Z"
    },
    "papermill": {
     "duration": 0.030109,
     "end_time": "2020-11-03T01:34:49.549818",
     "exception": false,
     "start_time": "2020-11-03T01:34:49.519709",
     "status": "completed"
    },
    "tags": []
   },
   "outputs": [],
   "source": [
    "#n_clusters_g = 15\n",
    "#n_clusters_c = 5\n",
    "#def create_cluster(train, test, kind, n_clusters):\n",
    "#    if kind == \"g\":\n",
    "#        train_ = train[pca_g_cols].copy()\n",
    "#        test_ = test[pca_g_cols].copy()\n",
    "#    else:\n",
    "#        train_ = train[pca_c_cols].copy()\n",
    "#        test_ = test[pca_c_cols].copy()    \n",
    "#    kmeans = KMeans(n_clusters = n_clusters, random_state = 0).fit(train_)\n",
    "#    train[f'clusters_{kind}'] = kmeans.labels_\n",
    "#    test[f'clusters_{kind}'] = kmeans.predict(test_)\n",
    "#    train = pd.get_dummies(train, columns = [f'clusters_{kind}'])\n",
    "#    test = pd.get_dummies(test, columns = [f'clusters_{kind}'])\n",
    "#    return train, test\n",
    "    \n",
    "#train, test = create_cluster(train, test, kind = 'g', n_clusters = n_clusters_g)\n",
    "#train, test = create_cluster(train, test, kind = 'c', n_clusters = n_clusters_c)"
   ]
  },
  {
   "cell_type": "code",
   "execution_count": 11,
   "metadata": {
    "execution": {
     "iopub.execute_input": "2020-11-03T01:34:49.602485Z",
     "iopub.status.busy": "2020-11-03T01:34:49.601411Z",
     "iopub.status.idle": "2020-11-03T01:34:49.748684Z",
     "shell.execute_reply": "2020-11-03T01:34:49.747765Z"
    },
    "papermill": {
     "duration": 0.177437,
     "end_time": "2020-11-03T01:34:49.748871",
     "exception": false,
     "start_time": "2020-11-03T01:34:49.571434",
     "status": "completed"
    },
    "tags": []
   },
   "outputs": [
    {
     "name": "stdout",
     "output_type": "stream",
     "text": [
      "(21948, 896) (3982, 896)\n"
     ]
    }
   ],
   "source": [
    "def fe(df):\n",
    "    tmp = df.copy()\n",
    "    tmp.loc[:, 'cp_dose'] = tmp.loc[:, 'cp_dose'].map({'D1': 0, 'D2': 1})      \n",
    "    tmp.drop([\"sig_id\", \"cp_type\"], axis=1, inplace=True)\n",
    "    return tmp\n",
    "\n",
    "train = fe(train)\n",
    "test = fe(test)\n",
    "\n",
    "print(train.shape, test.shape)"
   ]
  },
  {
   "cell_type": "code",
   "execution_count": 12,
   "metadata": {
    "execution": {
     "iopub.execute_input": "2020-11-03T01:34:49.801563Z",
     "iopub.status.busy": "2020-11-03T01:34:49.799522Z",
     "iopub.status.idle": "2020-11-03T01:34:49.802438Z",
     "shell.execute_reply": "2020-11-03T01:34:49.803005Z"
    },
    "papermill": {
     "duration": 0.030828,
     "end_time": "2020-11-03T01:34:49.803128",
     "exception": false,
     "start_time": "2020-11-03T01:34:49.772300",
     "status": "completed"
    },
    "tags": []
   },
   "outputs": [],
   "source": [
    "#train.drop(drop_feats, axis=1, inplace=True)\n",
    "#test.drop(drop_feats, axis=1, inplace=True)"
   ]
  },
  {
   "cell_type": "code",
   "execution_count": 13,
   "metadata": {
    "execution": {
     "iopub.execute_input": "2020-11-03T01:34:49.869326Z",
     "iopub.status.busy": "2020-11-03T01:34:49.868489Z",
     "iopub.status.idle": "2020-11-03T01:34:49.886618Z",
     "shell.execute_reply": "2020-11-03T01:34:49.887155Z"
    },
    "papermill": {
     "duration": 0.062333,
     "end_time": "2020-11-03T01:34:49.887342",
     "exception": false,
     "start_time": "2020-11-03T01:34:49.825009",
     "status": "completed"
    },
    "tags": []
   },
   "outputs": [
    {
     "data": {
      "text/html": [
       "<div>\n",
       "<style scoped>\n",
       "    .dataframe tbody tr th:only-of-type {\n",
       "        vertical-align: middle;\n",
       "    }\n",
       "\n",
       "    .dataframe tbody tr th {\n",
       "        vertical-align: top;\n",
       "    }\n",
       "\n",
       "    .dataframe thead th {\n",
       "        text-align: right;\n",
       "    }\n",
       "</style>\n",
       "<table border=\"1\" class=\"dataframe\">\n",
       "  <thead>\n",
       "    <tr style=\"text-align: right;\">\n",
       "      <th></th>\n",
       "      <th>cp_time</th>\n",
       "      <th>cp_dose</th>\n",
       "      <th>g-0</th>\n",
       "      <th>g-1</th>\n",
       "      <th>g-2</th>\n",
       "      <th>g-3</th>\n",
       "      <th>g-4</th>\n",
       "      <th>g-5</th>\n",
       "      <th>g-6</th>\n",
       "      <th>g-7</th>\n",
       "      <th>...</th>\n",
       "      <th>um-g1</th>\n",
       "      <th>um-g2</th>\n",
       "      <th>um-g3</th>\n",
       "      <th>um-g4</th>\n",
       "      <th>um-g5</th>\n",
       "      <th>um-g6</th>\n",
       "      <th>um-g7</th>\n",
       "      <th>um-g8</th>\n",
       "      <th>um-g9</th>\n",
       "      <th>um-g10</th>\n",
       "    </tr>\n",
       "  </thead>\n",
       "  <tbody>\n",
       "    <tr>\n",
       "      <th>0</th>\n",
       "      <td>24</td>\n",
       "      <td>0</td>\n",
       "      <td>1.111801</td>\n",
       "      <td>0.903367</td>\n",
       "      <td>-0.433829</td>\n",
       "      <td>-0.971728</td>\n",
       "      <td>-0.286559</td>\n",
       "      <td>-1.011388</td>\n",
       "      <td>-1.357431</td>\n",
       "      <td>-0.041716</td>\n",
       "      <td>...</td>\n",
       "      <td>0.889615</td>\n",
       "      <td>1.461260</td>\n",
       "      <td>9.432432</td>\n",
       "      <td>5.493209</td>\n",
       "      <td>8.951550</td>\n",
       "      <td>-0.854605</td>\n",
       "      <td>9.944616</td>\n",
       "      <td>-0.028288</td>\n",
       "      <td>5.590945</td>\n",
       "      <td>-0.488484</td>\n",
       "    </tr>\n",
       "    <tr>\n",
       "      <th>1</th>\n",
       "      <td>72</td>\n",
       "      <td>0</td>\n",
       "      <td>0.105667</td>\n",
       "      <td>0.672509</td>\n",
       "      <td>0.257486</td>\n",
       "      <td>0.086759</td>\n",
       "      <td>1.199685</td>\n",
       "      <td>0.691813</td>\n",
       "      <td>0.353695</td>\n",
       "      <td>0.558374</td>\n",
       "      <td>...</td>\n",
       "      <td>1.124779</td>\n",
       "      <td>2.489649</td>\n",
       "      <td>9.759426</td>\n",
       "      <td>5.647223</td>\n",
       "      <td>9.838367</td>\n",
       "      <td>0.831224</td>\n",
       "      <td>8.591188</td>\n",
       "      <td>1.179337</td>\n",
       "      <td>5.231938</td>\n",
       "      <td>-0.486060</td>\n",
       "    </tr>\n",
       "    <tr>\n",
       "      <th>2</th>\n",
       "      <td>48</td>\n",
       "      <td>0</td>\n",
       "      <td>0.767036</td>\n",
       "      <td>0.942499</td>\n",
       "      <td>1.408911</td>\n",
       "      <td>-0.126492</td>\n",
       "      <td>-0.028694</td>\n",
       "      <td>1.490985</td>\n",
       "      <td>0.272541</td>\n",
       "      <td>0.359490</td>\n",
       "      <td>...</td>\n",
       "      <td>2.509898</td>\n",
       "      <td>1.760835</td>\n",
       "      <td>10.155374</td>\n",
       "      <td>4.504743</td>\n",
       "      <td>8.086551</td>\n",
       "      <td>-0.042348</td>\n",
       "      <td>7.571811</td>\n",
       "      <td>1.003149</td>\n",
       "      <td>5.557558</td>\n",
       "      <td>0.070003</td>\n",
       "    </tr>\n",
       "    <tr>\n",
       "      <th>3</th>\n",
       "      <td>48</td>\n",
       "      <td>0</td>\n",
       "      <td>-0.755626</td>\n",
       "      <td>-0.297077</td>\n",
       "      <td>-0.455058</td>\n",
       "      <td>0.765972</td>\n",
       "      <td>2.343522</td>\n",
       "      <td>-0.852713</td>\n",
       "      <td>-2.316440</td>\n",
       "      <td>0.301512</td>\n",
       "      <td>...</td>\n",
       "      <td>3.685860</td>\n",
       "      <td>1.621680</td>\n",
       "      <td>9.671547</td>\n",
       "      <td>7.625240</td>\n",
       "      <td>8.735300</td>\n",
       "      <td>0.747822</td>\n",
       "      <td>9.019852</td>\n",
       "      <td>0.336911</td>\n",
       "      <td>4.433204</td>\n",
       "      <td>1.609635</td>\n",
       "    </tr>\n",
       "    <tr>\n",
       "      <th>4</th>\n",
       "      <td>72</td>\n",
       "      <td>1</td>\n",
       "      <td>-0.468806</td>\n",
       "      <td>-0.504196</td>\n",
       "      <td>0.956769</td>\n",
       "      <td>0.975864</td>\n",
       "      <td>1.447729</td>\n",
       "      <td>-0.863807</td>\n",
       "      <td>-0.346926</td>\n",
       "      <td>-0.227072</td>\n",
       "      <td>...</td>\n",
       "      <td>1.506485</td>\n",
       "      <td>2.646500</td>\n",
       "      <td>9.428581</td>\n",
       "      <td>4.995689</td>\n",
       "      <td>9.087056</td>\n",
       "      <td>-0.205562</td>\n",
       "      <td>8.078624</td>\n",
       "      <td>0.751063</td>\n",
       "      <td>6.604461</td>\n",
       "      <td>-1.283124</td>\n",
       "    </tr>\n",
       "  </tbody>\n",
       "</table>\n",
       "<p>5 rows × 896 columns</p>\n",
       "</div>"
      ],
      "text/plain": [
       "   cp_time  cp_dose       g-0       g-1       g-2       g-3       g-4  \\\n",
       "0       24        0  1.111801  0.903367 -0.433829 -0.971728 -0.286559   \n",
       "1       72        0  0.105667  0.672509  0.257486  0.086759  1.199685   \n",
       "2       48        0  0.767036  0.942499  1.408911 -0.126492 -0.028694   \n",
       "3       48        0 -0.755626 -0.297077 -0.455058  0.765972  2.343522   \n",
       "4       72        1 -0.468806 -0.504196  0.956769  0.975864  1.447729   \n",
       "\n",
       "        g-5       g-6       g-7  ...     um-g1     um-g2      um-g3     um-g4  \\\n",
       "0 -1.011388 -1.357431 -0.041716  ...  0.889615  1.461260   9.432432  5.493209   \n",
       "1  0.691813  0.353695  0.558374  ...  1.124779  2.489649   9.759426  5.647223   \n",
       "2  1.490985  0.272541  0.359490  ...  2.509898  1.760835  10.155374  4.504743   \n",
       "3 -0.852713 -2.316440  0.301512  ...  3.685860  1.621680   9.671547  7.625240   \n",
       "4 -0.863807 -0.346926 -0.227072  ...  1.506485  2.646500   9.428581  4.995689   \n",
       "\n",
       "      um-g5     um-g6     um-g7     um-g8     um-g9    um-g10  \n",
       "0  8.951550 -0.854605  9.944616 -0.028288  5.590945 -0.488484  \n",
       "1  9.838367  0.831224  8.591188  1.179337  5.231938 -0.486060  \n",
       "2  8.086551 -0.042348  7.571811  1.003149  5.557558  0.070003  \n",
       "3  8.735300  0.747822  9.019852  0.336911  4.433204  1.609635  \n",
       "4  9.087056 -0.205562  8.078624  0.751063  6.604461 -1.283124  \n",
       "\n",
       "[5 rows x 896 columns]"
      ]
     },
     "execution_count": 13,
     "metadata": {},
     "output_type": "execute_result"
    }
   ],
   "source": [
    "train.head()"
   ]
  },
  {
   "cell_type": "code",
   "execution_count": 14,
   "metadata": {
    "execution": {
     "iopub.execute_input": "2020-11-03T01:34:49.946293Z",
     "iopub.status.busy": "2020-11-03T01:34:49.945154Z",
     "iopub.status.idle": "2020-11-03T01:34:50.109627Z",
     "shell.execute_reply": "2020-11-03T01:34:50.109039Z"
    },
    "papermill": {
     "duration": 0.196011,
     "end_time": "2020-11-03T01:34:50.109749",
     "exception": false,
     "start_time": "2020-11-03T01:34:49.913738",
     "status": "completed"
    },
    "tags": []
   },
   "outputs": [],
   "source": [
    "fn_train = train.copy().to_numpy()\n",
    "fn_test = test.copy().to_numpy()\n",
    "    \n",
    "fn_targets = targets.drop(\"sig_id\", axis=1).copy().to_numpy()"
   ]
  },
  {
   "cell_type": "code",
   "execution_count": 15,
   "metadata": {
    "execution": {
     "iopub.execute_input": "2020-11-03T01:34:50.161637Z",
     "iopub.status.busy": "2020-11-03T01:34:50.160875Z",
     "iopub.status.idle": "2020-11-03T01:34:50.166489Z",
     "shell.execute_reply": "2020-11-03T01:34:50.165944Z"
    },
    "papermill": {
     "duration": 0.034084,
     "end_time": "2020-11-03T01:34:50.166596",
     "exception": false,
     "start_time": "2020-11-03T01:34:50.132512",
     "status": "completed"
    },
    "tags": []
   },
   "outputs": [
    {
     "data": {
      "text/plain": [
       "((21948, 896), (3982, 896), (21948, 206))"
      ]
     },
     "execution_count": 15,
     "metadata": {},
     "output_type": "execute_result"
    }
   ],
   "source": [
    "fn_train.shape, fn_test.shape, fn_targets.shape"
   ]
  },
  {
   "cell_type": "markdown",
   "metadata": {
    "papermill": {
     "duration": 0.022848,
     "end_time": "2020-11-03T01:34:50.212433",
     "exception": false,
     "start_time": "2020-11-03T01:34:50.189585",
     "status": "completed"
    },
    "tags": []
   },
   "source": [
    "# modelling"
   ]
  },
  {
   "cell_type": "code",
   "execution_count": 16,
   "metadata": {
    "execution": {
     "iopub.execute_input": "2020-11-03T01:34:50.270169Z",
     "iopub.status.busy": "2020-11-03T01:34:50.269493Z",
     "iopub.status.idle": "2020-11-03T01:34:50.272602Z",
     "shell.execute_reply": "2020-11-03T01:34:50.273034Z"
    },
    "papermill": {
     "duration": 0.036555,
     "end_time": "2020-11-03T01:34:50.273147",
     "exception": false,
     "start_time": "2020-11-03T01:34:50.236592",
     "status": "completed"
    },
    "tags": []
   },
   "outputs": [],
   "source": [
    "class SmoothCrossEntropyLoss(_WeightedLoss):\n",
    "    def __init__(self, weight=None, reduction='mean', smoothing=0.0):\n",
    "        super().__init__(weight=weight, reduction=reduction)\n",
    "        self.smoothing = smoothing\n",
    "        self.weight = weight\n",
    "        self.reduction = reduction\n",
    "\n",
    "    @staticmethod\n",
    "    def _smooth(targets, n_classes, smoothing=0.0):\n",
    "        assert 0 <= smoothing <= 1\n",
    "        with torch.no_grad():\n",
    "            targets = targets * (1 - smoothing) + torch.ones_like(targets).to(device) * smoothing / n_classes\n",
    "        return targets\n",
    "\n",
    "    def forward(self, inputs, targets):\n",
    "        targets = SmoothCrossEntropyLoss()._smooth(targets, inputs.shape[1], self.smoothing)\n",
    "\n",
    "        if self.weight is not None:\n",
    "            inputs = inputs * self.weight.unsqueeze(0)\n",
    "\n",
    "        loss = F.binary_cross_entropy_with_logits(inputs, targets)\n",
    "\n",
    "        return loss"
   ]
  },
  {
   "cell_type": "code",
   "execution_count": 17,
   "metadata": {
    "execution": {
     "iopub.execute_input": "2020-11-03T01:34:50.336789Z",
     "iopub.status.busy": "2020-11-03T01:34:50.334976Z",
     "iopub.status.idle": "2020-11-03T01:34:50.347573Z",
     "shell.execute_reply": "2020-11-03T01:34:50.348759Z"
    },
    "papermill": {
     "duration": 0.053091,
     "end_time": "2020-11-03T01:34:50.348917",
     "exception": false,
     "start_time": "2020-11-03T01:34:50.295826",
     "status": "completed"
    },
    "tags": []
   },
   "outputs": [],
   "source": [
    "smoothing = 0.00005\n",
    "p_min = smoothing\n",
    "p_max = 1 - smoothing\n",
    "\n",
    "class LogitsLogLoss(Metric):\n",
    "    def __init__(self):\n",
    "        self._name = \"logits_ll\"\n",
    "        self._maximize = False\n",
    "\n",
    "    def __call__(self, y_true, y_pred):\n",
    "\n",
    "        logits = 1 / (1 + np.exp(-y_pred))\n",
    "        logits = np.clip(logits, p_min, p_max)\n",
    "        \n",
    "        aux = (1-y_true)*np.log(1-logits+1e-15) + y_true*np.log(logits+1e-15)\n",
    "        return np.mean(-aux)"
   ]
  },
  {
   "cell_type": "code",
   "execution_count": 18,
   "metadata": {
    "execution": {
     "iopub.execute_input": "2020-11-03T01:34:50.798620Z",
     "iopub.status.busy": "2020-11-03T01:34:50.421551Z",
     "iopub.status.idle": "2020-11-03T01:54:51.497375Z",
     "shell.execute_reply": "2020-11-03T01:54:51.497999Z"
    },
    "papermill": {
     "duration": 1201.117945,
     "end_time": "2020-11-03T01:54:51.498146",
     "exception": false,
     "start_time": "2020-11-03T01:34:50.380201",
     "status": "completed"
    },
    "tags": []
   },
   "outputs": [
    {
     "name": "stdout",
     "output_type": "stream",
     "text": [
      "FOLDS :  1\n",
      "Device used : cuda\n",
      "epoch 0  | loss: 0.43658 | val_logits_ll: 0.14626 |  0:00:02s\n",
      "epoch 10 | loss: 0.0192  | val_logits_ll: 0.01956 |  0:00:12s\n",
      "epoch 20 | loss: 0.01717 | val_logits_ll: 0.01786 |  0:00:22s\n",
      "epoch 30 | loss: 0.01643 | val_logits_ll: 0.01811 |  0:00:32s\n",
      "epoch 40 | loss: 0.01585 | val_logits_ll: 0.01777 |  0:00:41s\n",
      "epoch 50 | loss: 0.01579 | val_logits_ll: 0.01752 |  0:00:52s\n",
      "epoch 60 | loss: 0.01517 | val_logits_ll: 0.01714 |  0:01:02s\n",
      "epoch 70 | loss: 0.01503 | val_logits_ll: 0.01691 |  0:01:12s\n",
      "epoch 80 | loss: 0.0147  | val_logits_ll: 0.01686 |  0:01:22s\n",
      "\n",
      "Early stopping occured at epoch 87 with best_epoch = 67 and best_val_logits_ll = 0.01679\n",
      "Best weights from best epoch are automatically used!\n",
      "FOLDS :  2\n",
      "Device used : cuda\n",
      "epoch 0  | loss: 0.43536 | val_logits_ll: 0.15543 |  0:00:00s\n",
      "epoch 10 | loss: 0.01948 | val_logits_ll: 0.01954 |  0:00:10s\n",
      "epoch 20 | loss: 0.01738 | val_logits_ll: 0.01824 |  0:00:21s\n",
      "epoch 30 | loss: 0.0168  | val_logits_ll: 0.0177  |  0:00:31s\n",
      "epoch 40 | loss: 0.01635 | val_logits_ll: 0.01741 |  0:00:41s\n",
      "epoch 50 | loss: 0.01575 | val_logits_ll: 0.0172  |  0:00:50s\n",
      "epoch 60 | loss: 0.01515 | val_logits_ll: 0.01716 |  0:01:00s\n",
      "epoch 70 | loss: 0.01491 | val_logits_ll: 0.01734 |  0:01:09s\n",
      "\n",
      "Early stopping occured at epoch 73 with best_epoch = 53 and best_val_logits_ll = 0.0171\n",
      "Best weights from best epoch are automatically used!\n",
      "FOLDS :  3\n",
      "Device used : cuda\n",
      "epoch 0  | loss: 0.43799 | val_logits_ll: 0.15455 |  0:00:01s\n",
      "epoch 10 | loss: 0.01918 | val_logits_ll: 0.01955 |  0:00:11s\n",
      "epoch 20 | loss: 0.01695 | val_logits_ll: 0.01792 |  0:00:21s\n",
      "epoch 30 | loss: 0.01646 | val_logits_ll: 0.01734 |  0:00:31s\n",
      "epoch 40 | loss: 0.01605 | val_logits_ll: 0.01722 |  0:00:41s\n",
      "epoch 50 | loss: 0.01541 | val_logits_ll: 0.01704 |  0:00:51s\n",
      "epoch 60 | loss: 0.01518 | val_logits_ll: 0.01711 |  0:01:02s\n",
      "epoch 70 | loss: 0.01498 | val_logits_ll: 0.01702 |  0:01:12s\n",
      "epoch 80 | loss: 0.01492 | val_logits_ll: 0.01765 |  0:01:22s\n",
      "\n",
      "Early stopping occured at epoch 88 with best_epoch = 68 and best_val_logits_ll = 0.01695\n",
      "Best weights from best epoch are automatically used!\n",
      "FOLDS :  4\n",
      "Device used : cuda\n",
      "epoch 0  | loss: 0.43796 | val_logits_ll: 0.15194 |  0:00:00s\n",
      "epoch 10 | loss: 0.01937 | val_logits_ll: 0.01973 |  0:00:10s\n",
      "epoch 20 | loss: 0.01727 | val_logits_ll: 0.018   |  0:00:20s\n",
      "epoch 30 | loss: 0.0166  | val_logits_ll: 0.01732 |  0:00:31s\n",
      "epoch 40 | loss: 0.01612 | val_logits_ll: 0.01702 |  0:00:41s\n",
      "epoch 50 | loss: 0.01539 | val_logits_ll: 0.01701 |  0:00:51s\n",
      "epoch 60 | loss: 0.01479 | val_logits_ll: 0.01723 |  0:01:01s\n",
      "epoch 70 | loss: 0.01433 | val_logits_ll: 0.01715 |  0:01:11s\n",
      "\n",
      "Early stopping occured at epoch 71 with best_epoch = 51 and best_val_logits_ll = 0.01696\n",
      "Best weights from best epoch are automatically used!\n",
      "FOLDS :  5\n",
      "Device used : cuda\n",
      "epoch 0  | loss: 0.43786 | val_logits_ll: 0.15086 |  0:00:00s\n",
      "epoch 10 | loss: 0.01901 | val_logits_ll: 0.01902 |  0:00:10s\n",
      "epoch 20 | loss: 0.01731 | val_logits_ll: 0.01956 |  0:00:22s\n",
      "epoch 30 | loss: 0.01679 | val_logits_ll: 0.01768 |  0:00:31s\n",
      "epoch 40 | loss: 0.01618 | val_logits_ll: 0.01708 |  0:00:41s\n",
      "epoch 50 | loss: 0.01586 | val_logits_ll: 0.01701 |  0:00:51s\n",
      "epoch 60 | loss: 0.01527 | val_logits_ll: 0.01706 |  0:01:01s\n",
      "epoch 70 | loss: 0.01464 | val_logits_ll: 0.01722 |  0:01:10s\n",
      "\n",
      "Early stopping occured at epoch 73 with best_epoch = 53 and best_val_logits_ll = 0.01699\n",
      "Best weights from best epoch are automatically used!\n",
      "OOF log loss: 0.016958041964633165\n",
      "Overall AUC : 0.744621606895784\n",
      "FOLDS :  1\n",
      "Device used : cuda\n",
      "epoch 0  | loss: 0.43638 | val_logits_ll: 0.14163 |  0:00:00s\n",
      "epoch 10 | loss: 0.01876 | val_logits_ll: 0.01915 |  0:00:11s\n",
      "epoch 20 | loss: 0.01704 | val_logits_ll: 0.01759 |  0:00:20s\n",
      "epoch 30 | loss: 0.0164  | val_logits_ll: 0.01929 |  0:00:30s\n",
      "epoch 40 | loss: 0.01612 | val_logits_ll: 0.01709 |  0:00:40s\n",
      "epoch 50 | loss: 0.01581 | val_logits_ll: 0.01693 |  0:00:50s\n",
      "epoch 60 | loss: 0.01551 | val_logits_ll: 0.01671 |  0:01:00s\n",
      "epoch 70 | loss: 0.01547 | val_logits_ll: 0.01698 |  0:01:10s\n",
      "epoch 80 | loss: 0.01534 | val_logits_ll: 0.01675 |  0:01:20s\n",
      "epoch 90 | loss: 0.01452 | val_logits_ll: 0.01674 |  0:01:29s\n",
      "epoch 100| loss: 0.01449 | val_logits_ll: 0.01693 |  0:01:39s\n",
      "\n",
      "Early stopping occured at epoch 109 with best_epoch = 89 and best_val_logits_ll = 0.01663\n",
      "Best weights from best epoch are automatically used!\n",
      "FOLDS :  2\n",
      "Device used : cuda\n",
      "epoch 0  | loss: 0.43307 | val_logits_ll: 0.13672 |  0:00:00s\n",
      "epoch 10 | loss: 0.01873 | val_logits_ll: 0.01916 |  0:00:11s\n",
      "epoch 20 | loss: 0.01712 | val_logits_ll: 0.01822 |  0:00:21s\n",
      "epoch 30 | loss: 0.01642 | val_logits_ll: 0.0177  |  0:00:31s\n",
      "epoch 40 | loss: 0.01592 | val_logits_ll: 0.01724 |  0:00:40s\n",
      "epoch 50 | loss: 0.016   | val_logits_ll: 0.01705 |  0:00:50s\n",
      "epoch 60 | loss: 0.01524 | val_logits_ll: 0.01706 |  0:01:00s\n",
      "epoch 70 | loss: 0.01495 | val_logits_ll: 0.01719 |  0:01:11s\n",
      "\n",
      "Early stopping occured at epoch 72 with best_epoch = 52 and best_val_logits_ll = 0.01695\n",
      "Best weights from best epoch are automatically used!\n",
      "FOLDS :  3\n",
      "Device used : cuda\n",
      "epoch 0  | loss: 0.43733 | val_logits_ll: 0.14228 |  0:00:00s\n",
      "epoch 10 | loss: 0.0188  | val_logits_ll: 0.01904 |  0:00:10s\n",
      "epoch 20 | loss: 0.01696 | val_logits_ll: 0.01959 |  0:00:20s\n",
      "epoch 30 | loss: 0.01645 | val_logits_ll: 0.01892 |  0:00:30s\n",
      "epoch 40 | loss: 0.01589 | val_logits_ll: 0.0173  |  0:00:39s\n",
      "epoch 50 | loss: 0.01562 | val_logits_ll: 0.01712 |  0:00:50s\n",
      "epoch 60 | loss: 0.0154  | val_logits_ll: 0.01711 |  0:01:00s\n",
      "epoch 70 | loss: 0.0152  | val_logits_ll: 0.01697 |  0:01:10s\n",
      "epoch 80 | loss: 0.01491 | val_logits_ll: 0.01725 |  0:01:19s\n",
      "\n",
      "Early stopping occured at epoch 84 with best_epoch = 64 and best_val_logits_ll = 0.0169\n",
      "Best weights from best epoch are automatically used!\n",
      "FOLDS :  4\n",
      "Device used : cuda\n",
      "epoch 0  | loss: 0.43918 | val_logits_ll: 0.14363 |  0:00:01s\n",
      "epoch 10 | loss: 0.01911 | val_logits_ll: 0.0193  |  0:00:10s\n",
      "epoch 20 | loss: 0.01713 | val_logits_ll: 0.01894 |  0:00:19s\n",
      "epoch 30 | loss: 0.01659 | val_logits_ll: 0.01732 |  0:00:30s\n",
      "epoch 40 | loss: 0.01591 | val_logits_ll: 0.01704 |  0:00:40s\n",
      "epoch 50 | loss: 0.01562 | val_logits_ll: 0.01695 |  0:00:50s\n",
      "epoch 60 | loss: 0.01517 | val_logits_ll: 0.01705 |  0:00:59s\n",
      "epoch 70 | loss: 0.01492 | val_logits_ll: 0.01693 |  0:01:09s\n",
      "\n",
      "Early stopping occured at epoch 78 with best_epoch = 58 and best_val_logits_ll = 0.01686\n",
      "Best weights from best epoch are automatically used!\n",
      "FOLDS :  5\n",
      "Device used : cuda\n",
      "epoch 0  | loss: 0.43735 | val_logits_ll: 0.13137 |  0:00:00s\n",
      "epoch 10 | loss: 0.0189  | val_logits_ll: 0.01891 |  0:00:10s\n",
      "epoch 20 | loss: 0.01716 | val_logits_ll: 0.01784 |  0:00:21s\n",
      "epoch 30 | loss: 0.01635 | val_logits_ll: 0.01741 |  0:00:30s\n",
      "epoch 40 | loss: 0.01582 | val_logits_ll: 0.01702 |  0:00:40s\n",
      "epoch 50 | loss: 0.01584 | val_logits_ll: 0.01732 |  0:00:49s\n",
      "epoch 60 | loss: 0.01521 | val_logits_ll: 0.01697 |  0:00:59s\n",
      "epoch 70 | loss: 0.01505 | val_logits_ll: 0.01695 |  0:01:10s\n",
      "\n",
      "Early stopping occured at epoch 79 with best_epoch = 59 and best_val_logits_ll = 0.01689\n",
      "Best weights from best epoch are automatically used!\n",
      "OOF log loss: 0.01684674317703055\n",
      "Overall AUC : 0.7445045921953523\n",
      "FOLDS :  1\n",
      "Device used : cuda\n",
      "epoch 0  | loss: 0.45749 | val_logits_ll: 0.16416 |  0:00:00s\n",
      "epoch 10 | loss: 0.01894 | val_logits_ll: 0.01917 |  0:00:10s\n",
      "epoch 20 | loss: 0.01724 | val_logits_ll: 0.01776 |  0:00:19s\n",
      "epoch 30 | loss: 0.01642 | val_logits_ll: 0.01745 |  0:00:29s\n",
      "epoch 40 | loss: 0.01617 | val_logits_ll: 0.01703 |  0:00:39s\n",
      "epoch 50 | loss: 0.01562 | val_logits_ll: 0.01708 |  0:00:50s\n",
      "epoch 60 | loss: 0.01503 | val_logits_ll: 0.01696 |  0:01:00s\n",
      "\n",
      "Early stopping occured at epoch 64 with best_epoch = 44 and best_val_logits_ll = 0.01691\n",
      "Best weights from best epoch are automatically used!\n",
      "FOLDS :  2\n",
      "Device used : cuda\n",
      "epoch 0  | loss: 0.45719 | val_logits_ll: 0.16441 |  0:00:01s\n",
      "epoch 10 | loss: 0.01905 | val_logits_ll: 0.02051 |  0:00:10s\n",
      "epoch 20 | loss: 0.01711 | val_logits_ll: 0.01804 |  0:00:20s\n",
      "epoch 30 | loss: 0.0161  | val_logits_ll: 0.0175  |  0:00:30s\n",
      "epoch 40 | loss: 0.01584 | val_logits_ll: 0.01729 |  0:00:40s\n",
      "epoch 50 | loss: 0.01518 | val_logits_ll: 0.01718 |  0:00:50s\n",
      "epoch 60 | loss: 0.01498 | val_logits_ll: 0.01724 |  0:01:00s\n",
      "\n",
      "Early stopping occured at epoch 62 with best_epoch = 42 and best_val_logits_ll = 0.01708\n",
      "Best weights from best epoch are automatically used!\n",
      "FOLDS :  3\n",
      "Device used : cuda\n",
      "epoch 0  | loss: 0.45445 | val_logits_ll: 0.15185 |  0:00:01s\n",
      "epoch 10 | loss: 0.01939 | val_logits_ll: 0.01965 |  0:00:11s\n",
      "epoch 20 | loss: 0.01722 | val_logits_ll: 0.01859 |  0:00:20s\n",
      "epoch 30 | loss: 0.01635 | val_logits_ll: 0.01805 |  0:00:30s\n",
      "epoch 40 | loss: 0.01585 | val_logits_ll: 0.01715 |  0:00:41s\n",
      "epoch 50 | loss: 0.01569 | val_logits_ll: 0.01713 |  0:00:50s\n",
      "epoch 60 | loss: 0.01539 | val_logits_ll: 0.01706 |  0:01:00s\n",
      "epoch 70 | loss: 0.01494 | val_logits_ll: 0.01818 |  0:01:10s\n",
      "\n",
      "Early stopping occured at epoch 74 with best_epoch = 54 and best_val_logits_ll = 0.01702\n",
      "Best weights from best epoch are automatically used!\n",
      "FOLDS :  4\n",
      "Device used : cuda\n",
      "epoch 0  | loss: 0.45729 | val_logits_ll: 0.15816 |  0:00:00s\n",
      "epoch 10 | loss: 0.01914 | val_logits_ll: 0.02086 |  0:00:10s\n",
      "epoch 20 | loss: 0.01707 | val_logits_ll: 0.01805 |  0:00:20s\n",
      "epoch 30 | loss: 0.01636 | val_logits_ll: 0.01751 |  0:00:31s\n",
      "epoch 40 | loss: 0.01613 | val_logits_ll: 0.01725 |  0:00:40s\n",
      "epoch 50 | loss: 0.01576 | val_logits_ll: 0.0171  |  0:00:49s\n",
      "epoch 60 | loss: 0.01506 | val_logits_ll: 0.01691 |  0:00:59s\n",
      "\n",
      "Early stopping occured at epoch 66 with best_epoch = 46 and best_val_logits_ll = 0.0169\n",
      "Best weights from best epoch are automatically used!\n",
      "FOLDS :  5\n",
      "Device used : cuda\n",
      "epoch 0  | loss: 0.45687 | val_logits_ll: 0.14502 |  0:00:00s\n",
      "epoch 10 | loss: 0.01886 | val_logits_ll: 0.01914 |  0:00:10s\n",
      "epoch 20 | loss: 0.01712 | val_logits_ll: 0.01781 |  0:00:20s\n",
      "epoch 30 | loss: 0.0163  | val_logits_ll: 0.01859 |  0:00:30s\n",
      "epoch 40 | loss: 0.01598 | val_logits_ll: 0.01745 |  0:00:39s\n",
      "epoch 50 | loss: 0.01573 | val_logits_ll: 0.01755 |  0:00:49s\n",
      "epoch 60 | loss: 0.01543 | val_logits_ll: 0.01706 |  0:00:59s\n",
      "epoch 70 | loss: 0.01531 | val_logits_ll: 0.01702 |  0:01:08s\n",
      "\n",
      "Early stopping occured at epoch 77 with best_epoch = 57 and best_val_logits_ll = 0.01687\n",
      "Best weights from best epoch are automatically used!\n",
      "OOF log loss: 0.016958403054743113\n",
      "Overall AUC : 0.7335060491607444\n"
     ]
    }
   ],
   "source": [
    "MAX_EPOCH=200\n",
    "device = \"cuda\" if torch.cuda.is_available() else \"cpu\"\n",
    "\n",
    "def seed_everything(seed_value):\n",
    "    random.seed(seed_value)\n",
    "    np.random.seed(seed_value)\n",
    "    torch.manual_seed(seed_value)\n",
    "    os.environ['PYTHONHASHSEED'] = str(seed_value)\n",
    "    \n",
    "    if torch.cuda.is_available(): \n",
    "        torch.cuda.manual_seed(seed_value)\n",
    "        torch.cuda.manual_seed_all(seed_value)\n",
    "        torch.backends.cudnn.deterministic = True\n",
    "        torch.backends.cudnn.benchmark = False\n",
    "\n",
    "def modelling_tabnet(tr, target, te, sample_seed):\n",
    "    seed_everything(sample_seed) \n",
    "    tabnet_params = dict(n_d=24, n_a=24, n_steps=1, gamma=1.5, seed = sample_seed,\n",
    "                     lambda_sparse=0, n_independent=1, n_shared=1, \n",
    "                     optimizer_fn=torch.optim.Adam,\n",
    "                     optimizer_params=dict(lr=2e-2, weight_decay=1e-5),\n",
    "                     mask_type='entmax',\n",
    "                     scheduler_params=dict(mode=\"min\",\n",
    "                                           patience=5,\n",
    "                                           min_lr=1e-5,\n",
    "                                           factor=0.9,),\n",
    "                     scheduler_fn=torch.optim.lr_scheduler.ReduceLROnPlateau,\n",
    "                     verbose=10,\n",
    "                     )\n",
    "    test_cv_preds = []\n",
    "\n",
    "    NB_SPLITS = 5\n",
    "    mskf = MultilabelStratifiedKFold(n_splits=NB_SPLITS, random_state=0, shuffle=True)\n",
    "    oof_preds = np.zeros([len(tr),target.shape[1]])\n",
    "    scores = []\n",
    "    for fold_nb, (train_idx, val_idx) in enumerate(mskf.split(train, target)):\n",
    "        print(\"FOLDS : \", fold_nb+1)\n",
    "\n",
    "        ## model\n",
    "        X_train, y_train = tr[train_idx, :], target[train_idx, :]\n",
    "        X_val, y_val = tr[val_idx, :], target[val_idx, :]\n",
    "        model = TabNetRegressor(**tabnet_params)\n",
    "    \n",
    "        model.fit(X_train=X_train,\n",
    "              y_train=y_train,\n",
    "              eval_set=[(X_val, y_val)],\n",
    "              eval_name = [\"val\"],\n",
    "              eval_metric = [\"logits_ll\"],\n",
    "              max_epochs=MAX_EPOCH,\n",
    "              patience=20, batch_size=1024, virtual_batch_size=128,\n",
    "              num_workers=1, drop_last=False,\n",
    "              # use binary cross entropy as this is not a regression problem\n",
    "              loss_fn=SmoothCrossEntropyLoss(smoothing=smoothing)) #torch.nn.functional.binary_cross_entropy_with_logits)\n",
    "    \n",
    "        preds_val = model.predict(X_val)\n",
    "        # Apply sigmoid to the predictions\n",
    "        preds =  1 / (1 + np.exp(-preds_val))\n",
    "        score = np.min(model.history[\"val_logits_ll\"])\n",
    "        #oof_preds[val_idx,:] = preds\n",
    "        oof_preds[val_idx,:] = np.clip(preds, p_min, p_max)\n",
    "        scores.append(score)\n",
    "\n",
    "        # preds on test\n",
    "        preds_test = model.predict(te)\n",
    "        #test_cv_preds.append(1 / (1 + np.exp(-preds_test)))\n",
    "        test_cv_preds.append(np.clip(1 / (1 + np.exp(-preds_test)), p_min, p_max))\n",
    "        \n",
    "    test_preds_all = np.stack(test_cv_preds)\n",
    "    print(\"OOF log loss:\", log_loss(np.ravel(target), np.ravel(np.array(oof_preds))))\n",
    "    aucs = []\n",
    "    for task_id in range(206):\n",
    "        aucs.append(roc_auc_score(y_true=target[:, task_id],y_score=oof_preds[:, task_id]))\n",
    "    print(f\"Overall AUC : {np.mean(aucs)}\")\n",
    "    return oof_preds, test_preds_all\n",
    "\n",
    "target_oof = np.zeros([len(fn_train),fn_targets.shape[1]])\n",
    "target_pred = np.zeros([len(fn_test),fn_targets.shape[1]])\n",
    "\n",
    "seeds = [0,1,2]\n",
    "for seed_ in seeds:\n",
    "    oof_preds, test_preds_all = modelling_tabnet(fn_train, fn_targets, fn_test, seed_)\n",
    "    target_oof += oof_preds / len(seeds)\n",
    "    target_pred += test_preds_all.mean(axis=0) / len(seeds)"
   ]
  },
  {
   "cell_type": "code",
   "execution_count": 19,
   "metadata": {
    "execution": {
     "iopub.execute_input": "2020-11-03T01:54:51.669793Z",
     "iopub.status.busy": "2020-11-03T01:54:51.668858Z",
     "iopub.status.idle": "2020-11-03T01:54:53.026190Z",
     "shell.execute_reply": "2020-11-03T01:54:53.026767Z"
    },
    "papermill": {
     "duration": 1.447665,
     "end_time": "2020-11-03T01:54:53.026926",
     "exception": false,
     "start_time": "2020-11-03T01:54:51.579261",
     "status": "completed"
    },
    "tags": []
   },
   "outputs": [
    {
     "name": "stdout",
     "output_type": "stream",
     "text": [
      "Overall AUC : 0.7667315284522015\n"
     ]
    }
   ],
   "source": [
    "aucs = []\n",
    "for task_id in range(targets.shape[1]-1):\n",
    "    aucs.append(roc_auc_score(y_true=targets.iloc[:, task_id+1].values,\n",
    "                              y_score=target_oof[:, task_id]))\n",
    "print(f\"Overall AUC : {np.mean(aucs)}\")"
   ]
  },
  {
   "cell_type": "code",
   "execution_count": 20,
   "metadata": {
    "execution": {
     "iopub.execute_input": "2020-11-03T01:54:53.211661Z",
     "iopub.status.busy": "2020-11-03T01:54:53.210725Z",
     "iopub.status.idle": "2020-11-03T01:54:59.997297Z",
     "shell.execute_reply": "2020-11-03T01:54:59.997847Z"
    },
    "papermill": {
     "duration": 6.883794,
     "end_time": "2020-11-03T01:54:59.998047",
     "exception": false,
     "start_time": "2020-11-03T01:54:53.114253",
     "status": "completed"
    },
    "tags": []
   },
   "outputs": [
    {
     "name": "stdout",
     "output_type": "stream",
     "text": [
      "OOF log loss:  0.015056983495328212\n"
     ]
    }
   ],
   "source": [
    "t = pd.read_csv(DATA_DIR + 'train_targets_scored.csv')\n",
    "train_checkscore = t.copy()\n",
    "train_checkscore.loc[train_checkscore.index.isin(cons_train_index),target_feats] = target_oof\n",
    "train_checkscore.loc[train_checkscore.index.isin(noncons_train_index),target_feats] = 0\n",
    "\n",
    "t.drop(\"sig_id\", axis=1, inplace=True)\n",
    "print('OOF log loss: ', log_loss(np.ravel(t), np.ravel(np.array(train_checkscore.iloc[:,1:]))))"
   ]
  },
  {
   "cell_type": "code",
   "execution_count": 21,
   "metadata": {
    "execution": {
     "iopub.execute_input": "2020-11-03T01:55:00.183559Z",
     "iopub.status.busy": "2020-11-03T01:55:00.182582Z",
     "iopub.status.idle": "2020-11-03T01:55:02.955804Z",
     "shell.execute_reply": "2020-11-03T01:55:02.955154Z"
    },
    "papermill": {
     "duration": 2.871214,
     "end_time": "2020-11-03T01:55:02.955940",
     "exception": false,
     "start_time": "2020-11-03T01:55:00.084726",
     "status": "completed"
    },
    "tags": []
   },
   "outputs": [],
   "source": [
    "sub[target_feats] = target_pred\n",
    "sub.loc[noncons_test_index,target_feats] = 0\n",
    "sub.to_csv('submission.csv', index=False)"
   ]
  },
  {
   "cell_type": "code",
   "execution_count": null,
   "metadata": {
    "papermill": {
     "duration": 0.084036,
     "end_time": "2020-11-03T01:55:03.125409",
     "exception": false,
     "start_time": "2020-11-03T01:55:03.041373",
     "status": "completed"
    },
    "tags": []
   },
   "outputs": [],
   "source": []
  }
 ],
 "metadata": {
  "kernelspec": {
   "display_name": "Python 3",
   "language": "python",
   "name": "python3"
  },
  "language_info": {
   "codemirror_mode": {
    "name": "ipython",
    "version": 3
   },
   "file_extension": ".py",
   "mimetype": "text/x-python",
   "name": "python",
   "nbconvert_exporter": "python",
   "pygments_lexer": "ipython3",
   "version": "3.7.6"
  },
  "papermill": {
   "duration": 1457.92421,
   "end_time": "2020-11-03T01:55:04.447576",
   "environment_variables": {},
   "exception": null,
   "input_path": "__notebook__.ipynb",
   "output_path": "__notebook__.ipynb",
   "parameters": {},
   "start_time": "2020-11-03T01:30:46.523366",
   "version": "2.1.0"
  }
 },
 "nbformat": 4,
 "nbformat_minor": 4
}
