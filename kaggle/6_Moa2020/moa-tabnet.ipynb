{
 "cells": [
  {
   "cell_type": "markdown",
   "metadata": {
    "papermill": {
     "duration": 0.018888,
     "end_time": "2020-10-29T07:52:22.447281",
     "exception": false,
     "start_time": "2020-10-29T07:52:22.428393",
     "status": "completed"
    },
    "tags": []
   },
   "source": [
    "- consider ctl group"
   ]
  },
  {
   "cell_type": "code",
   "execution_count": 1,
   "metadata": {
    "execution": {
     "iopub.execute_input": "2020-10-29T07:52:22.499174Z",
     "iopub.status.busy": "2020-10-29T07:52:22.494254Z",
     "iopub.status.idle": "2020-10-29T07:52:32.802114Z",
     "shell.execute_reply": "2020-10-29T07:52:32.801271Z"
    },
    "papermill": {
     "duration": 10.335876,
     "end_time": "2020-10-29T07:52:32.802260",
     "exception": false,
     "start_time": "2020-10-29T07:52:22.466384",
     "status": "completed"
    },
    "tags": []
   },
   "outputs": [
    {
     "name": "stdout",
     "output_type": "stream",
     "text": [
      "Looking in links: /kaggle/input/pytorchtabnet/pytorch_tabnet-2.0.0-py3-none-any.whl\r\n",
      "Processing /kaggle/input/pytorchtabnet/pytorch_tabnet-2.0.0-py3-none-any.whl\r\n",
      "Requirement already satisfied: tqdm<5.0,>=4.36 in /opt/conda/lib/python3.7/site-packages (from pytorch-tabnet) (4.45.0)\r\n",
      "Requirement already satisfied: torch<2.0,>=1.2 in /opt/conda/lib/python3.7/site-packages (from pytorch-tabnet) (1.6.0)\r\n",
      "Requirement already satisfied: scipy>1.4 in /opt/conda/lib/python3.7/site-packages (from pytorch-tabnet) (1.4.1)\r\n",
      "Requirement already satisfied: scikit_learn>0.21 in /opt/conda/lib/python3.7/site-packages (from pytorch-tabnet) (0.23.2)\r\n",
      "Requirement already satisfied: numpy<2.0,>=1.17 in /opt/conda/lib/python3.7/site-packages (from pytorch-tabnet) (1.18.5)\r\n",
      "Requirement already satisfied: future in /opt/conda/lib/python3.7/site-packages (from torch<2.0,>=1.2->pytorch-tabnet) (0.18.2)\r\n",
      "Requirement already satisfied: threadpoolctl>=2.0.0 in /opt/conda/lib/python3.7/site-packages (from scikit_learn>0.21->pytorch-tabnet) (2.1.0)\r\n",
      "Requirement already satisfied: joblib>=0.11 in /opt/conda/lib/python3.7/site-packages (from scikit_learn>0.21->pytorch-tabnet) (0.14.1)\r\n",
      "Installing collected packages: pytorch-tabnet\r\n",
      "Successfully installed pytorch-tabnet-2.0.0\r\n"
     ]
    }
   ],
   "source": [
    "!pip install --no-index --find-links /kaggle/input/pytorchtabnet/pytorch_tabnet-2.0.0-py3-none-any.whl pytorch-tabnet"
   ]
  },
  {
   "cell_type": "code",
   "execution_count": 2,
   "metadata": {
    "_cell_guid": "b1076dfc-b9ad-4769-8c92-a6c4dae69d19",
    "_uuid": "8f2839f25d086af736a60e9eeb907d3b93b6e0e5",
    "execution": {
     "iopub.execute_input": "2020-10-29T07:52:32.857344Z",
     "iopub.status.busy": "2020-10-29T07:52:32.856494Z",
     "iopub.status.idle": "2020-10-29T07:52:42.474062Z",
     "shell.execute_reply": "2020-10-29T07:52:42.474853Z"
    },
    "papermill": {
     "duration": 9.65205,
     "end_time": "2020-10-29T07:52:42.475043",
     "exception": false,
     "start_time": "2020-10-29T07:52:32.822993",
     "status": "completed"
    },
    "tags": []
   },
   "outputs": [],
   "source": [
    "import os\n",
    "import sys\n",
    "import random\n",
    "import warnings\n",
    "import numpy as np\n",
    "import pandas as pd \n",
    "from sklearn import preprocessing\n",
    "from sklearn.metrics import log_loss,roc_auc_score\n",
    "from sklearn.decomposition import PCA\n",
    "from tqdm import tqdm_notebook as tqdm\n",
    "from sklearn.cluster import KMeans\n",
    "from sklearn.multioutput import MultiOutputClassifier\n",
    "from sklearn.feature_selection import VarianceThreshold\n",
    "\n",
    "from pytorch_tabnet.metrics import Metric\n",
    "from pytorch_tabnet.tab_model import TabNetRegressor\n",
    "\n",
    "sys.path.append('../input/multilabelstraifier/')\n",
    "from ml_stratifiers import MultilabelStratifiedKFold\n",
    "warnings.filterwarnings('ignore')\n",
    "\n",
    "import time\n",
    "import torch\n",
    "import torch.nn as nn\n",
    "import torch.optim as optim\n",
    "import torch.nn.functional as F\n",
    "import tensorflow as tf"
   ]
  },
  {
   "cell_type": "code",
   "execution_count": 3,
   "metadata": {
    "execution": {
     "iopub.execute_input": "2020-10-29T07:52:42.529363Z",
     "iopub.status.busy": "2020-10-29T07:52:42.528016Z",
     "iopub.status.idle": "2020-10-29T07:52:50.054638Z",
     "shell.execute_reply": "2020-10-29T07:52:50.053807Z"
    },
    "papermill": {
     "duration": 7.55796,
     "end_time": "2020-10-29T07:52:50.054767",
     "exception": false,
     "start_time": "2020-10-29T07:52:42.496807",
     "status": "completed"
    },
    "tags": []
   },
   "outputs": [],
   "source": [
    "DATA_DIR = '/kaggle/input/lish-moa/'\n",
    "train = pd.read_csv(DATA_DIR + 'train_features.csv')\n",
    "targets = pd.read_csv(DATA_DIR + 'train_targets_scored.csv')\n",
    "non_targets = pd.read_csv(DATA_DIR + 'train_targets_nonscored.csv')\n",
    "test = pd.read_csv(DATA_DIR + 'test_features.csv')\n",
    "sub = pd.read_csv(DATA_DIR + 'sample_submission.csv')"
   ]
  },
  {
   "cell_type": "code",
   "execution_count": 4,
   "metadata": {
    "execution": {
     "iopub.execute_input": "2020-10-29T07:52:50.111500Z",
     "iopub.status.busy": "2020-10-29T07:52:50.110376Z",
     "iopub.status.idle": "2020-10-29T07:52:50.255689Z",
     "shell.execute_reply": "2020-10-29T07:52:50.256444Z"
    },
    "papermill": {
     "duration": 0.181799,
     "end_time": "2020-10-29T07:52:50.256674",
     "exception": false,
     "start_time": "2020-10-29T07:52:50.074875",
     "status": "completed"
    },
    "tags": []
   },
   "outputs": [],
   "source": [
    "target_feats = [ i for i in targets.columns if i != \"sig_id\"]\n",
    "g_feats = [i for i in train.columns if \"g-\" in i]\n",
    "c_feats = [i for i in train.columns if \"c-\" in i]\n",
    "\n",
    "noncons_train_index = train[train.cp_type==\"ctl_vehicle\"].index\n",
    "cons_train_index = train[~train.index.isin(noncons_train_index)].index\n",
    "noncons_test_index = test[test.cp_type==\"ctl_vehicle\"].index\n",
    "cons_test_index = test[test.cp_type!=\"ctl_vehicle\"].index"
   ]
  },
  {
   "cell_type": "markdown",
   "metadata": {
    "papermill": {
     "duration": 0.020468,
     "end_time": "2020-10-29T07:52:50.298675",
     "exception": false,
     "start_time": "2020-10-29T07:52:50.278207",
     "status": "completed"
    },
    "tags": []
   },
   "source": [
    "# preprocess"
   ]
  },
  {
   "cell_type": "code",
   "execution_count": 5,
   "metadata": {
    "execution": {
     "iopub.execute_input": "2020-10-29T07:52:50.345268Z",
     "iopub.status.busy": "2020-10-29T07:52:50.344157Z",
     "iopub.status.idle": "2020-10-29T07:52:50.347616Z",
     "shell.execute_reply": "2020-10-29T07:52:50.346984Z"
    },
    "papermill": {
     "duration": 0.02844,
     "end_time": "2020-10-29T07:52:50.347748",
     "exception": false,
     "start_time": "2020-10-29T07:52:50.319308",
     "status": "completed"
    },
    "tags": []
   },
   "outputs": [],
   "source": [
    "#train = train[train.index.isin(cons_train_index)].copy().reset_index(drop=True)\n",
    "#targets = targets[targets.index.isin(cons_train_index)].copy().reset_index(drop=True)"
   ]
  },
  {
   "cell_type": "markdown",
   "metadata": {
    "papermill": {
     "duration": 0.019901,
     "end_time": "2020-10-29T07:52:50.388540",
     "exception": false,
     "start_time": "2020-10-29T07:52:50.368639",
     "status": "completed"
    },
    "tags": []
   },
   "source": [
    "# feature engineering"
   ]
  },
  {
   "cell_type": "code",
   "execution_count": 6,
   "metadata": {
    "execution": {
     "iopub.execute_input": "2020-10-29T07:52:50.496973Z",
     "iopub.status.busy": "2020-10-29T07:52:50.496125Z",
     "iopub.status.idle": "2020-10-29T07:52:50.981974Z",
     "shell.execute_reply": "2020-10-29T07:52:50.981109Z"
    },
    "papermill": {
     "duration": 0.573224,
     "end_time": "2020-10-29T07:52:50.982116",
     "exception": false,
     "start_time": "2020-10-29T07:52:50.408892",
     "status": "completed"
    },
    "tags": []
   },
   "outputs": [
    {
     "data": {
      "text/plain": [
       "65"
      ]
     },
     "execution_count": 6,
     "metadata": {},
     "output_type": "execute_result"
    }
   ],
   "source": [
    "X = train.iloc[:,4:].copy().values\n",
    "select = VarianceThreshold(threshold=0.8)\n",
    "X_new = select.fit_transform(X)\n",
    "drop_feats = list(np.array(train.iloc[:,4:].columns)[select.get_support()==False])\n",
    "len(drop_feats)"
   ]
  },
  {
   "cell_type": "code",
   "execution_count": 7,
   "metadata": {
    "execution": {
     "iopub.execute_input": "2020-10-29T07:52:51.030365Z",
     "iopub.status.busy": "2020-10-29T07:52:51.029246Z",
     "iopub.status.idle": "2020-10-29T07:52:51.032700Z",
     "shell.execute_reply": "2020-10-29T07:52:51.032087Z"
    },
    "papermill": {
     "duration": 0.02891,
     "end_time": "2020-10-29T07:52:51.032829",
     "exception": false,
     "start_time": "2020-10-29T07:52:51.003919",
     "status": "completed"
    },
    "tags": []
   },
   "outputs": [],
   "source": [
    "#train.drop(drop_feats, axis=1, inplace=True)\n",
    "#test.drop(drop_feats, axis=1, inplace=True)"
   ]
  },
  {
   "cell_type": "code",
   "execution_count": 8,
   "metadata": {
    "execution": {
     "iopub.execute_input": "2020-10-29T07:52:51.082314Z",
     "iopub.status.busy": "2020-10-29T07:52:51.081156Z",
     "iopub.status.idle": "2020-10-29T07:52:51.084985Z",
     "shell.execute_reply": "2020-10-29T07:52:51.084178Z"
    },
    "papermill": {
     "duration": 0.030737,
     "end_time": "2020-10-29T07:52:51.085127",
     "exception": false,
     "start_time": "2020-10-29T07:52:51.054390",
     "status": "completed"
    },
    "tags": []
   },
   "outputs": [],
   "source": [
    "#n_clusters_g = 15\n",
    "#n_clusters_c = 5\n",
    "#def create_cluster(train, test, kind, n_clusters):\n",
    "#    if kind == \"g\":\n",
    "#        train_ = train[g_feats].copy()\n",
    "#        test_ = test[g_feats].copy()\n",
    "#    else:\n",
    "#        train_ = train[c_feats].copy()\n",
    "#        test_ = test[c_feats].copy()    \n",
    "#    kmeans = KMeans(n_clusters = n_clusters, random_state = 0).fit(train_)\n",
    "#    train[f'clusters_{kind}'] = kmeans.labels_\n",
    "#    test[f'clusters_{kind}'] = kmeans.predict(test_)\n",
    "#    train = pd.get_dummies(train, columns = [f'clusters_{kind}'])\n",
    "#    test = pd.get_dummies(test, columns = [f'clusters_{kind}'])\n",
    "#    return train, test\n",
    "    \n",
    "#train, test = create_cluster(train, test, kind = 'g', n_clusters = n_clusters_g)\n",
    "#train, test = create_cluster(train, test, kind = 'c', n_clusters = n_clusters_c)"
   ]
  },
  {
   "cell_type": "code",
   "execution_count": 9,
   "metadata": {
    "execution": {
     "iopub.execute_input": "2020-10-29T07:52:51.134327Z",
     "iopub.status.busy": "2020-10-29T07:52:51.133180Z",
     "iopub.status.idle": "2020-10-29T07:52:51.136924Z",
     "shell.execute_reply": "2020-10-29T07:52:51.136204Z"
    },
    "papermill": {
     "duration": 0.030665,
     "end_time": "2020-10-29T07:52:51.137047",
     "exception": false,
     "start_time": "2020-10-29T07:52:51.106382",
     "status": "completed"
    },
    "tags": []
   },
   "outputs": [],
   "source": [
    "#num = 10\n",
    "#pca_c_cols = [\"pca-c\"+str(i+1) for i in range(num)]\n",
    "#pca = PCA(n_components=num,random_state=42)\n",
    "#c_train = pca.fit_transform(train[c_feats])\n",
    "#c_test = pca.transform(test[c_feats])\n",
    "#c_train = pd.DataFrame(c_train, columns=pca_c_cols)\n",
    "#c_test = pd.DataFrame(c_test, columns=pca_c_cols)\n",
    "\n",
    "#num = 60\n",
    "#pca_g_cols = [\"pca-g\"+str(i+1) for i in range(num)]\n",
    "#pca = PCA(n_components=num, random_state=42)\n",
    "#g_train = pca.fit_transform(train[g_feats])\n",
    "#g_test = pca.transform(test[g_feats])\n",
    "#g_train = pd.DataFrame(g_train, columns=pca_g_cols)\n",
    "#g_test = pd.DataFrame(g_test, columns=pca_g_cols)\n",
    "\n",
    "#train = pd.concat([train, c_train],axis=1)\n",
    "#test = pd.concat([test, c_test],axis=1)\n",
    "#train = pd.concat([train, g_train],axis=1)\n",
    "#test = pd.concat([test, g_test],axis=1)"
   ]
  },
  {
   "cell_type": "code",
   "execution_count": 10,
   "metadata": {
    "execution": {
     "iopub.execute_input": "2020-10-29T07:52:51.191961Z",
     "iopub.status.busy": "2020-10-29T07:52:51.190556Z",
     "iopub.status.idle": "2020-10-29T07:52:51.392499Z",
     "shell.execute_reply": "2020-10-29T07:52:51.391828Z"
    },
    "papermill": {
     "duration": 0.233456,
     "end_time": "2020-10-29T07:52:51.392631",
     "exception": false,
     "start_time": "2020-10-29T07:52:51.159175",
     "status": "completed"
    },
    "tags": []
   },
   "outputs": [
    {
     "name": "stdout",
     "output_type": "stream",
     "text": [
      "(23814, 874) (3982, 874)\n"
     ]
    }
   ],
   "source": [
    "def fe(df):\n",
    "    tmp = df.copy()\n",
    "    tmp.loc[:, 'cp_dose'] = tmp.loc[:, 'cp_dose'].map({'D1': 0, 'D2': 1})        \n",
    "    tmp.drop([\"cp_type\", \"sig_id\"], axis=1, inplace=True)\n",
    "    return tmp\n",
    "\n",
    "train = fe(train)\n",
    "test = fe(test)\n",
    "\n",
    "print(train.shape, test.shape)"
   ]
  },
  {
   "cell_type": "code",
   "execution_count": 11,
   "metadata": {
    "execution": {
     "iopub.execute_input": "2020-10-29T07:52:51.446880Z",
     "iopub.status.busy": "2020-10-29T07:52:51.446006Z",
     "iopub.status.idle": "2020-10-29T07:52:52.787133Z",
     "shell.execute_reply": "2020-10-29T07:52:52.786414Z"
    },
    "papermill": {
     "duration": 1.371376,
     "end_time": "2020-10-29T07:52:52.787297",
     "exception": false,
     "start_time": "2020-10-29T07:52:51.415921",
     "status": "completed"
    },
    "tags": []
   },
   "outputs": [],
   "source": [
    "fn_train = train.copy().to_numpy()\n",
    "fn_test = test.copy().to_numpy()\n",
    "\n",
    "ss = preprocessing.RobustScaler()\n",
    "fn_train= ss.fit_transform(fn_train)\n",
    "fn_test = ss.transform(fn_test)\n",
    "\n",
    "fn_targets = targets.drop(\"sig_id\", axis=1).copy().to_numpy()"
   ]
  },
  {
   "cell_type": "code",
   "execution_count": 12,
   "metadata": {
    "execution": {
     "iopub.execute_input": "2020-10-29T07:52:52.839548Z",
     "iopub.status.busy": "2020-10-29T07:52:52.838418Z",
     "iopub.status.idle": "2020-10-29T07:52:52.843828Z",
     "shell.execute_reply": "2020-10-29T07:52:52.843046Z"
    },
    "papermill": {
     "duration": 0.033666,
     "end_time": "2020-10-29T07:52:52.843960",
     "exception": false,
     "start_time": "2020-10-29T07:52:52.810294",
     "status": "completed"
    },
    "tags": []
   },
   "outputs": [
    {
     "data": {
      "text/plain": [
       "((23814, 874), (3982, 874), (23814, 206))"
      ]
     },
     "execution_count": 12,
     "metadata": {},
     "output_type": "execute_result"
    }
   ],
   "source": [
    "fn_train.shape, fn_test.shape, fn_targets.shape"
   ]
  },
  {
   "cell_type": "markdown",
   "metadata": {
    "papermill": {
     "duration": 0.022894,
     "end_time": "2020-10-29T07:52:52.890579",
     "exception": false,
     "start_time": "2020-10-29T07:52:52.867685",
     "status": "completed"
    },
    "tags": []
   },
   "source": [
    "# modelling"
   ]
  },
  {
   "cell_type": "code",
   "execution_count": 13,
   "metadata": {
    "execution": {
     "iopub.execute_input": "2020-10-29T07:52:52.949173Z",
     "iopub.status.busy": "2020-10-29T07:52:52.947797Z",
     "iopub.status.idle": "2020-10-29T07:52:52.953308Z",
     "shell.execute_reply": "2020-10-29T07:52:52.952447Z"
    },
    "papermill": {
     "duration": 0.038942,
     "end_time": "2020-10-29T07:52:52.953441",
     "exception": false,
     "start_time": "2020-10-29T07:52:52.914499",
     "status": "completed"
    },
    "tags": []
   },
   "outputs": [],
   "source": [
    "class LogitsLogLoss(Metric):\n",
    "    def __init__(self):\n",
    "        self._name = \"logits_ll\"\n",
    "        self._maximize = False\n",
    "\n",
    "    def __call__(self, y_true, y_pred):\n",
    "        \"\"\"\n",
    "        Compute LogLoss of predictions.\n",
    "\n",
    "        Parameters\n",
    "        ----------\n",
    "        y_true: np.ndarray\n",
    "            Target matrix or vector\n",
    "        y_score: np.ndarray\n",
    "            Score matrix or vector\n",
    "\n",
    "        Returns\n",
    "        -------\n",
    "            float\n",
    "            LogLoss of predictions vs targets.\n",
    "        \"\"\"\n",
    "        logits = 1 / (1 + np.exp(-y_pred))\n",
    "        \n",
    "        #smoothing = 0.001\n",
    "        #n_classes = 206\n",
    "        #y_true = y_true * (1 - smoothing) + np.ones_like(y_true) * smoothing / n_classes\n",
    "        \n",
    "        aux = (1-y_true)*np.log(1-logits+1e-15) + y_true*np.log(logits+1e-15)\n",
    "        return np.mean(-aux)"
   ]
  },
  {
   "cell_type": "code",
   "execution_count": 14,
   "metadata": {
    "execution": {
     "iopub.execute_input": "2020-10-29T07:52:53.035309Z",
     "iopub.status.busy": "2020-10-29T07:52:53.017793Z",
     "iopub.status.idle": "2020-10-29T10:29:59.210188Z",
     "shell.execute_reply": "2020-10-29T10:29:59.211023Z"
    },
    "papermill": {
     "duration": 9426.233279,
     "end_time": "2020-10-29T10:29:59.211438",
     "exception": false,
     "start_time": "2020-10-29T07:52:52.978159",
     "status": "completed"
    },
    "tags": []
   },
   "outputs": [
    {
     "name": "stdout",
     "output_type": "stream",
     "text": [
      "FOLDS :  1\n",
      "Device used : cpu\n",
      "epoch 0  | loss: 0.54186 | val_logits_ll: 0.25846 |  0:00:06s\n",
      "epoch 10 | loss: 0.01891 | val_logits_ll: 0.01892 |  0:01:03s\n",
      "epoch 20 | loss: 0.01716 | val_logits_ll: 0.01735 |  0:01:59s\n",
      "epoch 30 | loss: 0.01631 | val_logits_ll: 0.01672 |  0:02:54s\n",
      "epoch 40 | loss: 0.01576 | val_logits_ll: 0.01644 |  0:03:51s\n",
      "epoch 50 | loss: 0.01551 | val_logits_ll: 0.01624 |  0:04:49s\n",
      "epoch 60 | loss: 0.01507 | val_logits_ll: 0.01699 |  0:05:47s\n",
      "epoch 70 | loss: 0.01485 | val_logits_ll: 0.01616 |  0:06:49s\n",
      "epoch 80 | loss: 0.0146  | val_logits_ll: 0.01614 |  0:07:49s\n",
      "epoch 90 | loss: 0.01417 | val_logits_ll: 0.01612 |  0:08:51s\n",
      "epoch 100| loss: 0.01406 | val_logits_ll: 0.01624 |  0:10:01s\n",
      "\n",
      "Early stopping occured at epoch 102 with best_epoch = 82 and best_val_logits_ll = 0.01591\n",
      "Best weights from best epoch are automatically used!\n",
      "FOLDS :  2\n",
      "Device used : cpu\n",
      "epoch 0  | loss: 0.54908 | val_logits_ll: 0.25957 |  0:00:05s\n",
      "epoch 10 | loss: 0.01927 | val_logits_ll: 0.01916 |  0:01:04s\n",
      "epoch 20 | loss: 0.01772 | val_logits_ll: 0.01788 |  0:02:01s\n",
      "epoch 30 | loss: 0.01642 | val_logits_ll: 0.01688 |  0:02:56s\n",
      "epoch 40 | loss: 0.01579 | val_logits_ll: 0.0167  |  0:03:52s\n",
      "epoch 50 | loss: 0.01557 | val_logits_ll: 0.01633 |  0:04:49s\n",
      "epoch 60 | loss: 0.01526 | val_logits_ll: 0.01618 |  0:05:46s\n",
      "epoch 70 | loss: 0.01499 | val_logits_ll: 0.0163  |  0:06:47s\n",
      "epoch 80 | loss: 0.01467 | val_logits_ll: 0.01596 |  0:07:45s\n",
      "epoch 90 | loss: 0.01446 | val_logits_ll: 0.01604 |  0:08:46s\n",
      "epoch 100| loss: 0.01433 | val_logits_ll: 0.01618 |  0:09:51s\n",
      "epoch 110| loss: 0.01393 | val_logits_ll: 0.01612 |  0:10:58s\n",
      "\n",
      "Early stopping occured at epoch 115 with best_epoch = 95 and best_val_logits_ll = 0.01591\n",
      "Best weights from best epoch are automatically used!\n",
      "FOLDS :  3\n",
      "Device used : cpu\n",
      "epoch 0  | loss: 0.54692 | val_logits_ll: 0.27176 |  0:00:05s\n",
      "epoch 10 | loss: 0.01943 | val_logits_ll: 0.01928 |  0:01:02s\n",
      "epoch 20 | loss: 0.01788 | val_logits_ll: 0.01793 |  0:01:59s\n",
      "epoch 30 | loss: 0.01631 | val_logits_ll: 0.01673 |  0:02:56s\n",
      "epoch 40 | loss: 0.01584 | val_logits_ll: 0.01719 |  0:03:53s\n",
      "epoch 50 | loss: 0.01556 | val_logits_ll: 0.01633 |  0:04:51s\n",
      "epoch 60 | loss: 0.01536 | val_logits_ll: 0.0164  |  0:05:55s\n",
      "epoch 70 | loss: 0.01501 | val_logits_ll: 0.01592 |  0:06:52s\n",
      "epoch 80 | loss: 0.01485 | val_logits_ll: 0.01635 |  0:07:50s\n",
      "epoch 90 | loss: 0.01443 | val_logits_ll: 0.01594 |  0:08:49s\n",
      "\n",
      "Early stopping occured at epoch 96 with best_epoch = 76 and best_val_logits_ll = 0.01577\n",
      "Best weights from best epoch are automatically used!\n",
      "FOLDS :  4\n",
      "Device used : cpu\n",
      "epoch 0  | loss: 0.53666 | val_logits_ll: 0.24208 |  0:00:05s\n",
      "epoch 10 | loss: 0.0192  | val_logits_ll: 0.01917 |  0:01:05s\n",
      "epoch 20 | loss: 0.01776 | val_logits_ll: 0.01774 |  0:02:04s\n",
      "epoch 30 | loss: 0.01634 | val_logits_ll: 0.01715 |  0:03:02s\n",
      "epoch 40 | loss: 0.01592 | val_logits_ll: 0.01651 |  0:03:59s\n",
      "epoch 50 | loss: 0.01561 | val_logits_ll: 0.01636 |  0:04:57s\n",
      "epoch 60 | loss: 0.01539 | val_logits_ll: 0.017   |  0:06:05s\n",
      "epoch 70 | loss: 0.01512 | val_logits_ll: 0.01624 |  0:07:03s\n",
      "epoch 80 | loss: 0.01497 | val_logits_ll: 0.01598 |  0:08:01s\n",
      "epoch 90 | loss: 0.01479 | val_logits_ll: 0.01581 |  0:09:02s\n",
      "epoch 100| loss: 0.01447 | val_logits_ll: 0.01594 |  0:10:05s\n",
      "epoch 110| loss: 0.0144  | val_logits_ll: 0.01592 |  0:11:13s\n",
      "\n",
      "Early stopping occured at epoch 118 with best_epoch = 98 and best_val_logits_ll = 0.01579\n",
      "Best weights from best epoch are automatically used!\n",
      "FOLDS :  5\n",
      "Device used : cpu\n",
      "epoch 0  | loss: 0.53694 | val_logits_ll: 0.27351 |  0:00:05s\n",
      "epoch 10 | loss: 0.01923 | val_logits_ll: 0.01928 |  0:01:02s\n",
      "epoch 20 | loss: 0.01732 | val_logits_ll: 0.01761 |  0:02:00s\n",
      "epoch 30 | loss: 0.01633 | val_logits_ll: 0.01688 |  0:02:57s\n",
      "epoch 40 | loss: 0.01574 | val_logits_ll: 0.01647 |  0:04:00s\n",
      "epoch 50 | loss: 0.01548 | val_logits_ll: 0.01634 |  0:04:58s\n",
      "epoch 60 | loss: 0.01509 | val_logits_ll: 0.01665 |  0:05:57s\n",
      "epoch 70 | loss: 0.01492 | val_logits_ll: 0.01599 |  0:06:55s\n",
      "epoch 80 | loss: 0.01467 | val_logits_ll: 0.01605 |  0:07:53s\n",
      "epoch 90 | loss: 0.0147  | val_logits_ll: 0.01627 |  0:08:53s\n",
      "\n",
      "Early stopping occured at epoch 98 with best_epoch = 78 and best_val_logits_ll = 0.01592\n",
      "Best weights from best epoch are automatically used!\n",
      "FOLDS :  1\n",
      "Device used : cpu\n",
      "epoch 0  | loss: 0.51493 | val_logits_ll: 0.19541 |  0:00:05s\n",
      "epoch 10 | loss: 0.0194  | val_logits_ll: 0.01942 |  0:01:02s\n",
      "epoch 20 | loss: 0.01789 | val_logits_ll: 0.018   |  0:01:59s\n",
      "epoch 30 | loss: 0.0166  | val_logits_ll: 0.01714 |  0:02:56s\n",
      "epoch 40 | loss: 0.01583 | val_logits_ll: 0.01659 |  0:03:52s\n",
      "epoch 50 | loss: 0.0153  | val_logits_ll: 0.01624 |  0:04:55s\n",
      "epoch 60 | loss: 0.01491 | val_logits_ll: 0.01769 |  0:05:52s\n",
      "epoch 70 | loss: 0.01469 | val_logits_ll: 0.01629 |  0:06:49s\n",
      "epoch 80 | loss: 0.01441 | val_logits_ll: 0.01616 |  0:07:45s\n",
      "\n",
      "Early stopping occured at epoch 85 with best_epoch = 65 and best_val_logits_ll = 0.01604\n",
      "Best weights from best epoch are automatically used!\n",
      "FOLDS :  2\n",
      "Device used : cpu\n",
      "epoch 0  | loss: 0.51144 | val_logits_ll: 0.2105  |  0:00:05s\n",
      "epoch 10 | loss: 0.01937 | val_logits_ll: 0.02045 |  0:01:02s\n",
      "epoch 20 | loss: 0.01762 | val_logits_ll: 0.01772 |  0:02:00s\n",
      "epoch 30 | loss: 0.01634 | val_logits_ll: 0.01674 |  0:02:56s\n",
      "epoch 40 | loss: 0.01583 | val_logits_ll: 0.01639 |  0:03:53s\n",
      "epoch 50 | loss: 0.01543 | val_logits_ll: 0.01631 |  0:04:50s\n",
      "epoch 60 | loss: 0.01515 | val_logits_ll: 0.01617 |  0:05:48s\n",
      "epoch 70 | loss: 0.0149  | val_logits_ll: 0.01606 |  0:06:50s\n",
      "epoch 80 | loss: 0.01463 | val_logits_ll: 0.01602 |  0:07:48s\n",
      "epoch 90 | loss: 0.01435 | val_logits_ll: 0.01615 |  0:08:48s\n",
      "\n",
      "Early stopping occured at epoch 96 with best_epoch = 76 and best_val_logits_ll = 0.0159\n",
      "Best weights from best epoch are automatically used!\n",
      "FOLDS :  3\n",
      "Device used : cpu\n",
      "epoch 0  | loss: 0.50591 | val_logits_ll: 0.21804 |  0:00:05s\n",
      "epoch 10 | loss: 0.01941 | val_logits_ll: 0.01922 |  0:01:02s\n",
      "epoch 20 | loss: 0.01786 | val_logits_ll: 0.01792 |  0:01:59s\n",
      "epoch 30 | loss: 0.01637 | val_logits_ll: 0.01683 |  0:02:56s\n",
      "epoch 40 | loss: 0.0158  | val_logits_ll: 0.01639 |  0:03:53s\n",
      "epoch 50 | loss: 0.01536 | val_logits_ll: 0.01611 |  0:04:50s\n",
      "epoch 60 | loss: 0.01506 | val_logits_ll: 0.01627 |  0:05:48s\n",
      "epoch 70 | loss: 0.0148  | val_logits_ll: 0.01599 |  0:06:45s\n",
      "epoch 80 | loss: 0.01468 | val_logits_ll: 0.01629 |  0:07:48s\n",
      "epoch 90 | loss: 0.01431 | val_logits_ll: 0.01595 |  0:08:47s\n",
      "\n",
      "Early stopping occured at epoch 95 with best_epoch = 75 and best_val_logits_ll = 0.01583\n",
      "Best weights from best epoch are automatically used!\n",
      "FOLDS :  4\n",
      "Device used : cpu\n",
      "epoch 0  | loss: 0.51396 | val_logits_ll: 0.20255 |  0:00:05s\n",
      "epoch 10 | loss: 0.01937 | val_logits_ll: 0.01918 |  0:01:02s\n",
      "epoch 20 | loss: 0.01756 | val_logits_ll: 0.01771 |  0:01:58s\n",
      "epoch 30 | loss: 0.01662 | val_logits_ll: 0.01682 |  0:02:55s\n",
      "epoch 40 | loss: 0.01604 | val_logits_ll: 0.01642 |  0:03:52s\n",
      "epoch 50 | loss: 0.01559 | val_logits_ll: 0.01642 |  0:04:50s\n",
      "epoch 60 | loss: 0.01535 | val_logits_ll: 0.01611 |  0:05:48s\n",
      "epoch 70 | loss: 0.01506 | val_logits_ll: 0.01637 |  0:06:45s\n",
      "epoch 80 | loss: 0.01486 | val_logits_ll: 0.01614 |  0:07:48s\n",
      "epoch 90 | loss: 0.01455 | val_logits_ll: 0.01595 |  0:08:49s\n",
      "epoch 100| loss: 0.01446 | val_logits_ll: 0.01614 |  0:09:48s\n",
      "epoch 110| loss: 0.01408 | val_logits_ll: 0.01607 |  0:10:48s\n",
      "epoch 120| loss: 0.01382 | val_logits_ll: 0.01621 |  0:11:51s\n",
      "\n",
      "Early stopping occured at epoch 121 with best_epoch = 101 and best_val_logits_ll = 0.01582\n",
      "Best weights from best epoch are automatically used!\n",
      "FOLDS :  5\n",
      "Device used : cpu\n",
      "epoch 0  | loss: 0.5039  | val_logits_ll: 0.20378 |  0:00:05s\n",
      "epoch 10 | loss: 0.0195  | val_logits_ll: 0.0196  |  0:01:02s\n",
      "epoch 20 | loss: 0.01787 | val_logits_ll: 0.01795 |  0:01:59s\n",
      "epoch 30 | loss: 0.01651 | val_logits_ll: 0.01835 |  0:02:55s\n",
      "epoch 40 | loss: 0.01581 | val_logits_ll: 0.0177  |  0:03:51s\n",
      "epoch 50 | loss: 0.01535 | val_logits_ll: 0.01634 |  0:04:48s\n",
      "epoch 60 | loss: 0.01508 | val_logits_ll: 0.01608 |  0:05:45s\n",
      "epoch 70 | loss: 0.0148  | val_logits_ll: 0.01595 |  0:06:50s\n",
      "epoch 80 | loss: 0.01452 | val_logits_ll: 0.01594 |  0:07:47s\n",
      "epoch 90 | loss: 0.0144  | val_logits_ll: 0.01619 |  0:08:45s\n",
      "epoch 100| loss: 0.01389 | val_logits_ll: 0.01602 |  0:09:45s\n",
      "\n",
      "Early stopping occured at epoch 100 with best_epoch = 80 and best_val_logits_ll = 0.01594\n",
      "Best weights from best epoch are automatically used!\n",
      "FOLDS :  1\n",
      "Device used : cpu\n",
      "epoch 0  | loss: 0.58917 | val_logits_ll: 0.35076 |  0:00:05s\n",
      "epoch 10 | loss: 0.01915 | val_logits_ll: 0.01915 |  0:01:02s\n",
      "epoch 20 | loss: 0.01755 | val_logits_ll: 0.01781 |  0:01:58s\n",
      "epoch 30 | loss: 0.01647 | val_logits_ll: 0.01703 |  0:02:56s\n",
      "epoch 40 | loss: 0.01609 | val_logits_ll: 0.0167  |  0:03:52s\n",
      "epoch 50 | loss: 0.01572 | val_logits_ll: 0.02015 |  0:04:50s\n",
      "epoch 60 | loss: 0.01545 | val_logits_ll: 0.01724 |  0:05:48s\n",
      "epoch 70 | loss: 0.01516 | val_logits_ll: 0.01634 |  0:06:49s\n",
      "epoch 80 | loss: 0.01496 | val_logits_ll: 0.01634 |  0:07:47s\n",
      "epoch 90 | loss: 0.01478 | val_logits_ll: 0.01607 |  0:08:47s\n",
      "epoch 100| loss: 0.01446 | val_logits_ll: 0.01593 |  0:09:49s\n",
      "epoch 110| loss: 0.01429 | val_logits_ll: 0.01605 |  0:10:54s\n",
      "epoch 120| loss: 0.01398 | val_logits_ll: 0.01618 |  0:12:01s\n",
      "\n",
      "Early stopping occured at epoch 120 with best_epoch = 100 and best_val_logits_ll = 0.01593\n",
      "Best weights from best epoch are automatically used!\n",
      "FOLDS :  2\n",
      "Device used : cpu\n",
      "epoch 0  | loss: 0.58952 | val_logits_ll: 0.34935 |  0:00:05s\n",
      "epoch 10 | loss: 0.01925 | val_logits_ll: 0.01922 |  0:01:04s\n",
      "epoch 20 | loss: 0.01751 | val_logits_ll: 0.01767 |  0:02:02s\n",
      "epoch 30 | loss: 0.01656 | val_logits_ll: 0.01849 |  0:02:59s\n",
      "epoch 40 | loss: 0.01591 | val_logits_ll: 0.01658 |  0:03:55s\n",
      "epoch 50 | loss: 0.0155  | val_logits_ll: 0.01637 |  0:04:57s\n",
      "epoch 60 | loss: 0.01531 | val_logits_ll: 0.017   |  0:05:55s\n",
      "epoch 70 | loss: 0.0151  | val_logits_ll: 0.01654 |  0:06:52s\n",
      "epoch 80 | loss: 0.01477 | val_logits_ll: 0.016   |  0:07:49s\n",
      "epoch 90 | loss: 0.01476 | val_logits_ll: 0.01595 |  0:08:48s\n",
      "epoch 100| loss: 0.01446 | val_logits_ll: 0.01593 |  0:09:49s\n",
      "epoch 110| loss: 0.01421 | val_logits_ll: 0.01604 |  0:10:53s\n",
      "epoch 120| loss: 0.01414 | val_logits_ll: 0.01605 |  0:11:59s\n",
      "epoch 130| loss: 0.01374 | val_logits_ll: 0.01619 |  0:13:07s\n",
      "\n",
      "Early stopping occured at epoch 134 with best_epoch = 114 and best_val_logits_ll = 0.01582\n",
      "Best weights from best epoch are automatically used!\n",
      "FOLDS :  3\n",
      "Device used : cpu\n",
      "epoch 0  | loss: 0.59042 | val_logits_ll: 0.35073 |  0:00:05s\n",
      "epoch 10 | loss: 0.01955 | val_logits_ll: 0.01952 |  0:01:06s\n",
      "epoch 20 | loss: 0.01812 | val_logits_ll: 0.01804 |  0:02:03s\n",
      "epoch 30 | loss: 0.01679 | val_logits_ll: 0.01708 |  0:03:01s\n",
      "epoch 40 | loss: 0.01599 | val_logits_ll: 0.01662 |  0:03:57s\n",
      "epoch 50 | loss: 0.01546 | val_logits_ll: 0.01644 |  0:04:55s\n",
      "epoch 60 | loss: 0.01496 | val_logits_ll: 0.01619 |  0:05:53s\n",
      "epoch 70 | loss: 0.01475 | val_logits_ll: 0.01614 |  0:06:50s\n",
      "epoch 80 | loss: 0.01437 | val_logits_ll: 0.01626 |  0:07:48s\n",
      "epoch 90 | loss: 0.01415 | val_logits_ll: 0.01623 |  0:08:48s\n",
      "\n",
      "Early stopping occured at epoch 93 with best_epoch = 73 and best_val_logits_ll = 0.01589\n",
      "Best weights from best epoch are automatically used!\n",
      "FOLDS :  4\n",
      "Device used : cpu\n",
      "epoch 0  | loss: 0.59129 | val_logits_ll: 0.37716 |  0:00:05s\n",
      "epoch 10 | loss: 0.01938 | val_logits_ll: 0.01928 |  0:01:02s\n",
      "epoch 20 | loss: 0.01765 | val_logits_ll: 0.01785 |  0:02:04s\n",
      "epoch 30 | loss: 0.01642 | val_logits_ll: 0.01691 |  0:03:01s\n",
      "epoch 40 | loss: 0.01584 | val_logits_ll: 0.01904 |  0:03:59s\n",
      "epoch 50 | loss: 0.01545 | val_logits_ll: 0.01667 |  0:04:57s\n",
      "epoch 60 | loss: 0.01516 | val_logits_ll: 0.01618 |  0:05:56s\n",
      "epoch 70 | loss: 0.01482 | val_logits_ll: 0.01605 |  0:06:54s\n",
      "epoch 80 | loss: 0.0147  | val_logits_ll: 0.01625 |  0:07:52s\n",
      "epoch 90 | loss: 0.01441 | val_logits_ll: 0.01616 |  0:08:57s\n",
      "\n",
      "Early stopping occured at epoch 98 with best_epoch = 78 and best_val_logits_ll = 0.01599\n",
      "Best weights from best epoch are automatically used!\n",
      "FOLDS :  5\n",
      "Device used : cpu\n",
      "epoch 0  | loss: 0.59063 | val_logits_ll: 0.36554 |  0:00:05s\n",
      "epoch 10 | loss: 0.01933 | val_logits_ll: 0.01933 |  0:01:03s\n",
      "epoch 20 | loss: 0.01743 | val_logits_ll: 0.0176  |  0:02:01s\n",
      "epoch 30 | loss: 0.01641 | val_logits_ll: 0.01676 |  0:03:05s\n",
      "epoch 40 | loss: 0.01576 | val_logits_ll: 0.022   |  0:04:03s\n",
      "epoch 50 | loss: 0.01535 | val_logits_ll: 0.01945 |  0:05:02s\n",
      "epoch 60 | loss: 0.01509 | val_logits_ll: 0.01621 |  0:06:01s\n",
      "epoch 70 | loss: 0.01479 | val_logits_ll: 0.01632 |  0:06:59s\n",
      "epoch 80 | loss: 0.01456 | val_logits_ll: 0.01637 |  0:07:57s\n",
      "epoch 90 | loss: 0.01436 | val_logits_ll: 0.0161  |  0:08:58s\n",
      "\n",
      "Early stopping occured at epoch 97 with best_epoch = 77 and best_val_logits_ll = 0.01598\n",
      "Best weights from best epoch are automatically used!\n"
     ]
    }
   ],
   "source": [
    "MAX_EPOCH=200\n",
    "\n",
    "smoothing = 0.001\n",
    "p_min = smoothing\n",
    "p_max = 1 - smoothing\n",
    "\n",
    "def seed_everything(seed_value):\n",
    "    random.seed(seed_value)\n",
    "    np.random.seed(seed_value)\n",
    "    torch.manual_seed(seed_value)\n",
    "    os.environ['PYTHONHASHSEED'] = str(seed_value)\n",
    "    \n",
    "    if torch.cuda.is_available(): \n",
    "        torch.cuda.manual_seed(seed_value)\n",
    "        torch.cuda.manual_seed_all(seed_value)\n",
    "        torch.backends.cudnn.deterministic = True\n",
    "        torch.backends.cudnn.benchmark = False\n",
    "\n",
    "def modelling_tabnet(tr, target, te, sample_seed):\n",
    "    seed_everything(sample_seed) \n",
    "    tabnet_params = dict(n_d=12, n_a=12, n_steps=1, gamma=1.3, seed = sample_seed,\n",
    "                     lambda_sparse=0, optimizer_fn=torch.optim.Adam,\n",
    "                     optimizer_params=dict(lr=2e-2, weight_decay=1e-5),\n",
    "                     mask_type='entmax',\n",
    "                     scheduler_params=dict(mode=\"min\",\n",
    "                                           patience=5,\n",
    "                                           min_lr=1e-5,\n",
    "                                           factor=0.9,),\n",
    "                     scheduler_fn=torch.optim.lr_scheduler.ReduceLROnPlateau,\n",
    "                     verbose=10,\n",
    "                     )\n",
    "    test_cv_preds = []\n",
    "\n",
    "    NB_SPLITS = 5\n",
    "    mskf = MultilabelStratifiedKFold(n_splits=NB_SPLITS, random_state=0, shuffle=True)\n",
    "    oof_preds = np.zeros([len(tr),target.shape[1]])\n",
    "    scores = []\n",
    "    for fold_nb, (train_idx, val_idx) in enumerate(mskf.split(train, target)):\n",
    "        print(\"FOLDS : \", fold_nb+1)\n",
    "\n",
    "        ## model\n",
    "        X_train, y_train = tr[train_idx, :], target[train_idx, :]\n",
    "        X_val, y_val = tr[val_idx, :], target[val_idx, :]\n",
    "        model = TabNetRegressor(**tabnet_params)\n",
    "    \n",
    "        model.fit(X_train=X_train,\n",
    "              y_train=y_train,\n",
    "              eval_set=[(X_val, y_val)],\n",
    "              eval_name = [\"val\"],\n",
    "              eval_metric = [\"logits_ll\"],\n",
    "              max_epochs=MAX_EPOCH,\n",
    "              patience=20, batch_size=1024, virtual_batch_size=128,\n",
    "              num_workers=1, drop_last=False,\n",
    "              # use binary cross entropy as this is not a regression problem\n",
    "              loss_fn=torch.nn.functional.binary_cross_entropy_with_logits)\n",
    "    \n",
    "        preds_val = model.predict(X_val)\n",
    "        # Apply sigmoid to the predictions\n",
    "        preds =  1 / (1 + np.exp(-preds_val))\n",
    "        score = np.min(model.history[\"val_logits_ll\"])\n",
    "        oof_preds[val_idx,:] = preds\n",
    "        #oof_preds[val_idx,:] = np.clip(preds, p_min, p_max)\n",
    "        scores.append(score)\n",
    "\n",
    "        # preds on test\n",
    "        preds_test = model.predict(te)\n",
    "        test_cv_preds.append(1 / (1 + np.exp(-preds_test)))\n",
    "        #test_cv_preds.append(np.clip(1 / (1 + np.exp(-preds_test))), p_min, p_max)\n",
    "        \n",
    "    test_preds_all = np.stack(test_cv_preds)\n",
    "    return oof_preds, test_preds_all\n",
    "\n",
    "target_oof = np.zeros([len(fn_train),fn_targets.shape[1]])\n",
    "target_pred = np.zeros([len(fn_test),fn_targets.shape[1]])\n",
    "\n",
    "seeds = [0,1,2]\n",
    "for seed_ in seeds:\n",
    "    oof_preds, test_preds_all = modelling_tabnet(fn_train, fn_targets, fn_test, seed_)\n",
    "    target_oof += oof_preds / len(seeds)\n",
    "    target_pred += test_preds_all.mean(axis=0) / len(seeds)"
   ]
  },
  {
   "cell_type": "code",
   "execution_count": 15,
   "metadata": {
    "execution": {
     "iopub.execute_input": "2020-10-29T10:29:59.461571Z",
     "iopub.status.busy": "2020-10-29T10:29:59.460568Z",
     "iopub.status.idle": "2020-10-29T10:30:01.422627Z",
     "shell.execute_reply": "2020-10-29T10:30:01.421752Z"
    },
    "papermill": {
     "duration": 2.089452,
     "end_time": "2020-10-29T10:30:01.422770",
     "exception": false,
     "start_time": "2020-10-29T10:29:59.333318",
     "status": "completed"
    },
    "tags": []
   },
   "outputs": [
    {
     "name": "stdout",
     "output_type": "stream",
     "text": [
      "Overall AUC : 0.7552323942952778\n"
     ]
    }
   ],
   "source": [
    "aucs = []\n",
    "for task_id in range(targets.shape[1]-1):\n",
    "    aucs.append(roc_auc_score(y_true=targets.iloc[:, task_id+1].values,\n",
    "                              y_score=target_oof[:, task_id]))\n",
    "print(f\"Overall AUC : {np.mean(aucs)}\")"
   ]
  },
  {
   "cell_type": "code",
   "execution_count": 16,
   "metadata": {
    "execution": {
     "iopub.execute_input": "2020-10-29T10:30:01.651617Z",
     "iopub.status.busy": "2020-10-29T10:30:01.650497Z",
     "iopub.status.idle": "2020-10-29T10:30:08.784049Z",
     "shell.execute_reply": "2020-10-29T10:30:08.784769Z"
    },
    "papermill": {
     "duration": 7.254239,
     "end_time": "2020-10-29T10:30:08.784932",
     "exception": false,
     "start_time": "2020-10-29T10:30:01.530693",
     "status": "completed"
    },
    "tags": []
   },
   "outputs": [
    {
     "name": "stdout",
     "output_type": "stream",
     "text": [
      "OOF log loss:  0.015274679996430693\n"
     ]
    }
   ],
   "source": [
    "t = pd.read_csv(DATA_DIR + 'train_targets_scored.csv')\n",
    "train_checkscore = t.copy()\n",
    "train_checkscore[target_feats] = target_oof\n",
    "train_checkscore.loc[train_checkscore.index.isin(noncons_train_index),target_feats] = 0\n",
    "\n",
    "t.drop(\"sig_id\", axis=1, inplace=True)\n",
    "print('OOF log loss: ', log_loss(np.ravel(t), np.ravel(np.array(train_checkscore.iloc[:,1:]))))"
   ]
  },
  {
   "cell_type": "code",
   "execution_count": 17,
   "metadata": {
    "execution": {
     "iopub.execute_input": "2020-10-29T10:30:09.002013Z",
     "iopub.status.busy": "2020-10-29T10:30:09.001117Z",
     "iopub.status.idle": "2020-10-29T10:30:11.968666Z",
     "shell.execute_reply": "2020-10-29T10:30:11.967989Z"
    },
    "papermill": {
     "duration": 3.078115,
     "end_time": "2020-10-29T10:30:11.968814",
     "exception": false,
     "start_time": "2020-10-29T10:30:08.890699",
     "status": "completed"
    },
    "tags": []
   },
   "outputs": [],
   "source": [
    "sub[target_feats] = target_pred\n",
    "sub.loc[noncons_test_index,target_feats] = 0\n",
    "sub.to_csv('submission.csv', index=False)"
   ]
  },
  {
   "cell_type": "code",
   "execution_count": null,
   "metadata": {
    "papermill": {
     "duration": 0.108012,
     "end_time": "2020-10-29T10:30:12.182980",
     "exception": false,
     "start_time": "2020-10-29T10:30:12.074968",
     "status": "completed"
    },
    "tags": []
   },
   "outputs": [],
   "source": []
  }
 ],
 "metadata": {
  "kernelspec": {
   "display_name": "Python 3",
   "language": "python",
   "name": "python3"
  },
  "language_info": {
   "codemirror_mode": {
    "name": "ipython",
    "version": 3
   },
   "file_extension": ".py",
   "mimetype": "text/x-python",
   "name": "python",
   "nbconvert_exporter": "python",
   "pygments_lexer": "ipython3",
   "version": "3.7.6"
  },
  "papermill": {
   "duration": 9475.274518,
   "end_time": "2020-10-29T10:30:12.399380",
   "environment_variables": {},
   "exception": null,
   "input_path": "__notebook__.ipynb",
   "output_path": "__notebook__.ipynb",
   "parameters": {},
   "start_time": "2020-10-29T07:52:17.124862",
   "version": "2.1.0"
  }
 },
 "nbformat": 4,
 "nbformat_minor": 4
}
