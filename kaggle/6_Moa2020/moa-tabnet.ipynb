{
 "cells": [
  {
   "cell_type": "markdown",
   "metadata": {
    "papermill": {
     "duration": 0.020068,
     "end_time": "2020-11-02T06:25:35.642154",
     "exception": false,
     "start_time": "2020-11-02T06:25:35.622086",
     "status": "completed"
    },
    "tags": []
   },
   "source": [
    "- try and correct label smoothing * (0.0001)\n",
    "- 3 ensemble (5 folds) "
   ]
  },
  {
   "cell_type": "code",
   "execution_count": 1,
   "metadata": {
    "execution": {
     "iopub.execute_input": "2020-11-02T06:25:35.685372Z",
     "iopub.status.busy": "2020-11-02T06:25:35.684532Z",
     "iopub.status.idle": "2020-11-02T06:25:44.866284Z",
     "shell.execute_reply": "2020-11-02T06:25:44.865649Z"
    },
    "papermill": {
     "duration": 9.205876,
     "end_time": "2020-11-02T06:25:44.866398",
     "exception": false,
     "start_time": "2020-11-02T06:25:35.660522",
     "status": "completed"
    },
    "tags": []
   },
   "outputs": [
    {
     "name": "stdout",
     "output_type": "stream",
     "text": [
      "Looking in links: /kaggle/input/pytorchtabnet/pytorch_tabnet-2.0.0-py3-none-any.whl\r\n",
      "Processing /kaggle/input/pytorchtabnet/pytorch_tabnet-2.0.0-py3-none-any.whl\r\n",
      "Requirement already satisfied: scikit_learn>0.21 in /opt/conda/lib/python3.7/site-packages (from pytorch-tabnet) (0.23.2)\r\n",
      "Requirement already satisfied: tqdm<5.0,>=4.36 in /opt/conda/lib/python3.7/site-packages (from pytorch-tabnet) (4.45.0)\r\n",
      "Requirement already satisfied: scipy>1.4 in /opt/conda/lib/python3.7/site-packages (from pytorch-tabnet) (1.4.1)\r\n",
      "Requirement already satisfied: torch<2.0,>=1.2 in /opt/conda/lib/python3.7/site-packages (from pytorch-tabnet) (1.6.0)\r\n",
      "Requirement already satisfied: numpy<2.0,>=1.17 in /opt/conda/lib/python3.7/site-packages (from pytorch-tabnet) (1.18.5)\r\n",
      "Requirement already satisfied: joblib>=0.11 in /opt/conda/lib/python3.7/site-packages (from scikit_learn>0.21->pytorch-tabnet) (0.14.1)\r\n",
      "Requirement already satisfied: threadpoolctl>=2.0.0 in /opt/conda/lib/python3.7/site-packages (from scikit_learn>0.21->pytorch-tabnet) (2.1.0)\r\n",
      "Requirement already satisfied: future in /opt/conda/lib/python3.7/site-packages (from torch<2.0,>=1.2->pytorch-tabnet) (0.18.2)\r\n",
      "Installing collected packages: pytorch-tabnet\r\n",
      "Successfully installed pytorch-tabnet-2.0.0\r\n"
     ]
    }
   ],
   "source": [
    "!pip install --no-index --find-links /kaggle/input/pytorchtabnet/pytorch_tabnet-2.0.0-py3-none-any.whl pytorch-tabnet"
   ]
  },
  {
   "cell_type": "code",
   "execution_count": 2,
   "metadata": {
    "_cell_guid": "b1076dfc-b9ad-4769-8c92-a6c4dae69d19",
    "_uuid": "8f2839f25d086af736a60e9eeb907d3b93b6e0e5",
    "execution": {
     "iopub.execute_input": "2020-11-02T06:25:44.923700Z",
     "iopub.status.busy": "2020-11-02T06:25:44.920748Z",
     "iopub.status.idle": "2020-11-02T06:25:56.456328Z",
     "shell.execute_reply": "2020-11-02T06:25:56.454989Z"
    },
    "papermill": {
     "duration": 11.566885,
     "end_time": "2020-11-02T06:25:56.456462",
     "exception": false,
     "start_time": "2020-11-02T06:25:44.889577",
     "status": "completed"
    },
    "tags": []
   },
   "outputs": [],
   "source": [
    "import os\n",
    "import sys\n",
    "import random\n",
    "import warnings\n",
    "import numpy as np\n",
    "import pandas as pd \n",
    "from umap import UMAP\n",
    "from sklearn import preprocessing\n",
    "from sklearn.metrics import log_loss,roc_auc_score\n",
    "from sklearn.decomposition import PCA\n",
    "from tqdm import tqdm_notebook as tqdm\n",
    "from sklearn.cluster import KMeans\n",
    "from sklearn.multioutput import MultiOutputClassifier\n",
    "from sklearn.feature_selection import VarianceThreshold\n",
    "from torch.nn.modules.loss import _WeightedLoss\n",
    "\n",
    "from pytorch_tabnet.metrics import Metric\n",
    "from pytorch_tabnet.tab_model import TabNetRegressor\n",
    "\n",
    "sys.path.append('../input/multilabelstraifier/')\n",
    "from ml_stratifiers import MultilabelStratifiedKFold\n",
    "warnings.filterwarnings('ignore')\n",
    "\n",
    "import time\n",
    "import torch\n",
    "import torch.nn as nn\n",
    "import torch.optim as optim\n",
    "import torch.nn.functional as F\n",
    "import tensorflow as tf"
   ]
  },
  {
   "cell_type": "code",
   "execution_count": 3,
   "metadata": {
    "execution": {
     "iopub.execute_input": "2020-11-02T06:25:56.510981Z",
     "iopub.status.busy": "2020-11-02T06:25:56.510014Z",
     "iopub.status.idle": "2020-11-02T06:26:04.373652Z",
     "shell.execute_reply": "2020-11-02T06:26:04.372646Z"
    },
    "papermill": {
     "duration": 7.894868,
     "end_time": "2020-11-02T06:26:04.373808",
     "exception": false,
     "start_time": "2020-11-02T06:25:56.478940",
     "status": "completed"
    },
    "tags": []
   },
   "outputs": [],
   "source": [
    "DATA_DIR = '/kaggle/input/lish-moa/'\n",
    "train = pd.read_csv(DATA_DIR + 'train_features.csv')\n",
    "targets = pd.read_csv(DATA_DIR + 'train_targets_scored.csv')\n",
    "non_targets = pd.read_csv(DATA_DIR + 'train_targets_nonscored.csv')\n",
    "test = pd.read_csv(DATA_DIR + 'test_features.csv')\n",
    "sub = pd.read_csv(DATA_DIR + 'sample_submission.csv')"
   ]
  },
  {
   "cell_type": "code",
   "execution_count": 4,
   "metadata": {
    "execution": {
     "iopub.execute_input": "2020-11-02T06:26:04.429066Z",
     "iopub.status.busy": "2020-11-02T06:26:04.428153Z",
     "iopub.status.idle": "2020-11-02T06:26:04.525359Z",
     "shell.execute_reply": "2020-11-02T06:26:04.524840Z"
    },
    "papermill": {
     "duration": 0.13008,
     "end_time": "2020-11-02T06:26:04.525475",
     "exception": false,
     "start_time": "2020-11-02T06:26:04.395395",
     "status": "completed"
    },
    "tags": []
   },
   "outputs": [],
   "source": [
    "target_feats = [ i for i in targets.columns if i != \"sig_id\"]\n",
    "g_feats = [i for i in train.columns if \"g-\" in i]\n",
    "c_feats = [i for i in train.columns if \"c-\" in i]\n",
    "\n",
    "noncons_train_index = train[train.cp_type==\"ctl_vehicle\"].index\n",
    "cons_train_index = train[~train.index.isin(noncons_train_index)].index\n",
    "noncons_test_index = test[test.cp_type==\"ctl_vehicle\"].index\n",
    "cons_test_index = test[test.cp_type!=\"ctl_vehicle\"].index"
   ]
  },
  {
   "cell_type": "markdown",
   "metadata": {
    "papermill": {
     "duration": 0.021894,
     "end_time": "2020-11-02T06:26:04.569464",
     "exception": false,
     "start_time": "2020-11-02T06:26:04.547570",
     "status": "completed"
    },
    "tags": []
   },
   "source": [
    "# preprocess"
   ]
  },
  {
   "cell_type": "code",
   "execution_count": 5,
   "metadata": {
    "execution": {
     "iopub.execute_input": "2020-11-02T06:26:04.628187Z",
     "iopub.status.busy": "2020-11-02T06:26:04.627069Z",
     "iopub.status.idle": "2020-11-02T06:26:04.856152Z",
     "shell.execute_reply": "2020-11-02T06:26:04.855570Z"
    },
    "papermill": {
     "duration": 0.264568,
     "end_time": "2020-11-02T06:26:04.856269",
     "exception": false,
     "start_time": "2020-11-02T06:26:04.591701",
     "status": "completed"
    },
    "tags": []
   },
   "outputs": [],
   "source": [
    "train = train[train.index.isin(cons_train_index)].copy().reset_index(drop=True)\n",
    "targets = targets[targets.index.isin(cons_train_index)].copy().reset_index(drop=True)"
   ]
  },
  {
   "cell_type": "code",
   "execution_count": 6,
   "metadata": {
    "execution": {
     "iopub.execute_input": "2020-11-02T06:26:04.904649Z",
     "iopub.status.busy": "2020-11-02T06:26:04.902561Z",
     "iopub.status.idle": "2020-11-02T06:26:04.905332Z",
     "shell.execute_reply": "2020-11-02T06:26:04.905830Z"
    },
    "papermill": {
     "duration": 0.028244,
     "end_time": "2020-11-02T06:26:04.905946",
     "exception": false,
     "start_time": "2020-11-02T06:26:04.877702",
     "status": "completed"
    },
    "tags": []
   },
   "outputs": [],
   "source": [
    "#X = train[g_feats+c_feats].copy().values\n",
    "#select = VarianceThreshold(threshold=0.4)\n",
    "#X_new = select.fit_transform(X)\n",
    "#drop_feats = list(np.array(train[g_feats+c_feats].columns)[select.get_support()==False])\n",
    "#len(drop_feats)"
   ]
  },
  {
   "cell_type": "markdown",
   "metadata": {
    "papermill": {
     "duration": 0.021132,
     "end_time": "2020-11-02T06:26:04.948164",
     "exception": false,
     "start_time": "2020-11-02T06:26:04.927032",
     "status": "completed"
    },
    "tags": []
   },
   "source": [
    "# feature engineering"
   ]
  },
  {
   "cell_type": "code",
   "execution_count": 7,
   "metadata": {
    "execution": {
     "iopub.execute_input": "2020-11-02T06:26:05.000257Z",
     "iopub.status.busy": "2020-11-02T06:26:04.999286Z",
     "iopub.status.idle": "2020-11-02T06:26:14.487468Z",
     "shell.execute_reply": "2020-11-02T06:26:14.486959Z"
    },
    "papermill": {
     "duration": 9.517886,
     "end_time": "2020-11-02T06:26:14.487580",
     "exception": false,
     "start_time": "2020-11-02T06:26:04.969694",
     "status": "completed"
    },
    "tags": []
   },
   "outputs": [],
   "source": [
    "for i in c_feats + g_feats:\n",
    "    ss = preprocessing.QuantileTransformer(n_quantiles=100, random_state=0, output_distribution=\"normal\")\n",
    "    ss.fit(train[i].values.reshape(-1,1))\n",
    "    train[i] = ss.transform(train[i].values.reshape(-1,1))\n",
    "    test[i] = ss.transform(test[i].values.reshape(-1,1))"
   ]
  },
  {
   "cell_type": "code",
   "execution_count": 8,
   "metadata": {
    "execution": {
     "iopub.execute_input": "2020-11-02T06:26:14.553720Z",
     "iopub.status.busy": "2020-11-02T06:26:14.552148Z",
     "iopub.status.idle": "2020-11-02T06:26:16.044963Z",
     "shell.execute_reply": "2020-11-02T06:26:16.045486Z"
    },
    "papermill": {
     "duration": 1.535928,
     "end_time": "2020-11-02T06:26:16.045690",
     "exception": false,
     "start_time": "2020-11-02T06:26:14.509762",
     "status": "completed"
    },
    "tags": []
   },
   "outputs": [],
   "source": [
    "c_num = 1\n",
    "pca_c_cols = [\"pca-c\"+str(i+1) for i in range(c_num)]\n",
    "pca = PCA(n_components=c_num,random_state=42)\n",
    "c_train = pca.fit_transform(train[c_feats])\n",
    "c_test = pca.transform(test[c_feats])\n",
    "c_train = pd.DataFrame(c_train, columns=pca_c_cols)\n",
    "c_test = pd.DataFrame(c_test, columns=pca_c_cols)\n",
    "\n",
    "g_num = 10\n",
    "pca_g_cols = [\"pca-g\"+str(i+1) for i in range(g_num)]\n",
    "pca = PCA(n_components=g_num, random_state=42)\n",
    "g_train = pca.fit_transform(train[g_feats])\n",
    "g_test = pca.transform(test[g_feats])\n",
    "g_train = pd.DataFrame(g_train, columns=pca_g_cols)\n",
    "g_test = pd.DataFrame(g_test, columns=pca_g_cols)\n",
    "\n",
    "train = pd.concat([train, c_train],axis=1)\n",
    "test = pd.concat([test, c_test],axis=1)\n",
    "train = pd.concat([train, g_train],axis=1)\n",
    "test = pd.concat([test, g_test],axis=1)"
   ]
  },
  {
   "cell_type": "code",
   "execution_count": 9,
   "metadata": {
    "execution": {
     "iopub.execute_input": "2020-11-02T06:26:16.095357Z",
     "iopub.status.busy": "2020-11-02T06:26:16.094585Z",
     "iopub.status.idle": "2020-11-02T06:26:16.099493Z",
     "shell.execute_reply": "2020-11-02T06:26:16.098890Z"
    },
    "papermill": {
     "duration": 0.031634,
     "end_time": "2020-11-02T06:26:16.099602",
     "exception": false,
     "start_time": "2020-11-02T06:26:16.067968",
     "status": "completed"
    },
    "tags": []
   },
   "outputs": [],
   "source": [
    "#uc_num = 1\n",
    "#um = UMAP(n_neighbors=30, n_components=uc_num, random_state=42)\n",
    "#um_c_cols = [\"um-c\"+str(i+1) for i in range(uc_num)]\n",
    "#uc_train = um.fit_transform(train[c_feats])\n",
    "#uc_test = um.transform(test[c_feats])\n",
    "#uc_train = pd.DataFrame(uc_train, columns=um_c_cols)\n",
    "#uc_test = pd.DataFrame(uc_test, columns=um_c_cols)\n",
    "\n",
    "#ug_num = 10\n",
    "#um = UMAP(n_neighbors=30, n_components=ug_num, random_state=42)\n",
    "#um_g_cols = [\"um-g\"+str(i+1) for i in range(ug_num)]\n",
    "#ug_train = um.fit_transform(train[g_feats])\n",
    "#ug_test = um.transform(test[g_feats])\n",
    "#ug_train = pd.DataFrame(ug_train, columns=um_g_cols)\n",
    "#ug_test = pd.DataFrame(ug_test, columns=um_g_cols)\n",
    "\n",
    "#train = pd.concat([train, uc_train],axis=1)\n",
    "#test = pd.concat([test, uc_test],axis=1)\n",
    "#train = pd.concat([train, ug_train],axis=1)\n",
    "#test = pd.concat([test, ug_test],axis=1)"
   ]
  },
  {
   "cell_type": "code",
   "execution_count": 10,
   "metadata": {
    "execution": {
     "iopub.execute_input": "2020-11-02T06:26:16.150137Z",
     "iopub.status.busy": "2020-11-02T06:26:16.149077Z",
     "iopub.status.idle": "2020-11-02T06:26:16.153161Z",
     "shell.execute_reply": "2020-11-02T06:26:16.152121Z"
    },
    "papermill": {
     "duration": 0.031225,
     "end_time": "2020-11-02T06:26:16.153283",
     "exception": false,
     "start_time": "2020-11-02T06:26:16.122058",
     "status": "completed"
    },
    "tags": []
   },
   "outputs": [],
   "source": [
    "#n_clusters_g = 15\n",
    "#n_clusters_c = 5\n",
    "#def create_cluster(train, test, kind, n_clusters):\n",
    "#    if kind == \"g\":\n",
    "#        train_ = train[pca_g_cols].copy()\n",
    "#        test_ = test[pca_g_cols].copy()\n",
    "#    else:\n",
    "#        train_ = train[pca_c_cols].copy()\n",
    "#        test_ = test[pca_c_cols].copy()    \n",
    "#    kmeans = KMeans(n_clusters = n_clusters, random_state = 0).fit(train_)\n",
    "#    train[f'clusters_{kind}'] = kmeans.labels_\n",
    "#    test[f'clusters_{kind}'] = kmeans.predict(test_)\n",
    "#    train = pd.get_dummies(train, columns = [f'clusters_{kind}'])\n",
    "#    test = pd.get_dummies(test, columns = [f'clusters_{kind}'])\n",
    "#    return train, test\n",
    "    \n",
    "#train, test = create_cluster(train, test, kind = 'g', n_clusters = n_clusters_g)\n",
    "#train, test = create_cluster(train, test, kind = 'c', n_clusters = n_clusters_c)"
   ]
  },
  {
   "cell_type": "code",
   "execution_count": 11,
   "metadata": {
    "execution": {
     "iopub.execute_input": "2020-11-02T06:26:16.207777Z",
     "iopub.status.busy": "2020-11-02T06:26:16.206359Z",
     "iopub.status.idle": "2020-11-02T06:26:16.467151Z",
     "shell.execute_reply": "2020-11-02T06:26:16.467794Z"
    },
    "papermill": {
     "duration": 0.292742,
     "end_time": "2020-11-02T06:26:16.467950",
     "exception": false,
     "start_time": "2020-11-02T06:26:16.175208",
     "status": "completed"
    },
    "tags": []
   },
   "outputs": [
    {
     "name": "stdout",
     "output_type": "stream",
     "text": [
      "(21948, 885) (3982, 885)\n"
     ]
    }
   ],
   "source": [
    "def fe(df):\n",
    "    tmp = df.copy()\n",
    "    #tmp['g_sum'] = tmp[g_feats].sum(axis = 1)\n",
    "    #tmp['g_mean'] = tmp[g_feats].mean(axis = 1)\n",
    "    #tmp['g_std'] = tmp[g_feats].std(axis = 1)\n",
    "    #tmp['g_kurt'] = tmp[g_feats].kurtosis(axis = 1)\n",
    "    #tmp['g_skew'] = tmp[g_feats].skew(axis = 1)\n",
    "    #tmp['c_sum'] = tmp[c_feats].sum(axis = 1)\n",
    "    #tmp['c_mean'] = tmp[c_feats].mean(axis = 1)\n",
    "    #tmp['c_std'] = tmp[c_feats].std(axis = 1)\n",
    "    #tmp['c_kurt'] = tmp[c_feats].kurtosis(axis = 1)\n",
    "    #tmp['c_skew'] = tmp[c_feats].skew(axis = 1)\n",
    "    #tmp['gc_sum'] = tmp[c_feats + g_feats].sum(axis = 1)\n",
    "    #tmp['gc_mean'] = tmp[c_feats + g_feats].mean(axis = 1)\n",
    "    #tmp['gc_std'] = tmp[c_feats + g_feats].std(axis = 1)\n",
    "    #tmp['gc_kurt'] = tmp[c_feats + g_feats].kurtosis(axis = 1)\n",
    "    #tmp['gc_skew'] = tmp[c_feats + g_feats].skew(axis = 1)\n",
    "    #tmp[\"g_c_diff\"] = tmp[\"g_sum\"] - tmp[\"c_sum\"]\n",
    "    tmp.loc[:, 'cp_dose'] = tmp.loc[:, 'cp_dose'].map({'D1': 0, 'D2': 1})      \n",
    "    tmp.drop([\"sig_id\", \"cp_type\"], axis=1, inplace=True)\n",
    "    return tmp\n",
    "\n",
    "train = fe(train)\n",
    "test = fe(test)\n",
    "\n",
    "print(train.shape, test.shape)"
   ]
  },
  {
   "cell_type": "code",
   "execution_count": 12,
   "metadata": {
    "execution": {
     "iopub.execute_input": "2020-11-02T06:26:16.518601Z",
     "iopub.status.busy": "2020-11-02T06:26:16.517843Z",
     "iopub.status.idle": "2020-11-02T06:26:16.521024Z",
     "shell.execute_reply": "2020-11-02T06:26:16.520507Z"
    },
    "papermill": {
     "duration": 0.030032,
     "end_time": "2020-11-02T06:26:16.521127",
     "exception": false,
     "start_time": "2020-11-02T06:26:16.491095",
     "status": "completed"
    },
    "tags": []
   },
   "outputs": [],
   "source": [
    "#train.drop(drop_feats, axis=1, inplace=True)\n",
    "#test.drop(drop_feats, axis=1, inplace=True)"
   ]
  },
  {
   "cell_type": "code",
   "execution_count": 13,
   "metadata": {
    "execution": {
     "iopub.execute_input": "2020-11-02T06:26:16.574233Z",
     "iopub.status.busy": "2020-11-02T06:26:16.573238Z",
     "iopub.status.idle": "2020-11-02T06:26:16.603314Z",
     "shell.execute_reply": "2020-11-02T06:26:16.603921Z"
    },
    "papermill": {
     "duration": 0.060329,
     "end_time": "2020-11-02T06:26:16.604056",
     "exception": false,
     "start_time": "2020-11-02T06:26:16.543727",
     "status": "completed"
    },
    "tags": []
   },
   "outputs": [
    {
     "data": {
      "text/html": [
       "<div>\n",
       "<style scoped>\n",
       "    .dataframe tbody tr th:only-of-type {\n",
       "        vertical-align: middle;\n",
       "    }\n",
       "\n",
       "    .dataframe tbody tr th {\n",
       "        vertical-align: top;\n",
       "    }\n",
       "\n",
       "    .dataframe thead th {\n",
       "        text-align: right;\n",
       "    }\n",
       "</style>\n",
       "<table border=\"1\" class=\"dataframe\">\n",
       "  <thead>\n",
       "    <tr style=\"text-align: right;\">\n",
       "      <th></th>\n",
       "      <th>cp_time</th>\n",
       "      <th>cp_dose</th>\n",
       "      <th>g-0</th>\n",
       "      <th>g-1</th>\n",
       "      <th>g-2</th>\n",
       "      <th>g-3</th>\n",
       "      <th>g-4</th>\n",
       "      <th>g-5</th>\n",
       "      <th>g-6</th>\n",
       "      <th>g-7</th>\n",
       "      <th>...</th>\n",
       "      <th>pca-g1</th>\n",
       "      <th>pca-g2</th>\n",
       "      <th>pca-g3</th>\n",
       "      <th>pca-g4</th>\n",
       "      <th>pca-g5</th>\n",
       "      <th>pca-g6</th>\n",
       "      <th>pca-g7</th>\n",
       "      <th>pca-g8</th>\n",
       "      <th>pca-g9</th>\n",
       "      <th>pca-g10</th>\n",
       "    </tr>\n",
       "  </thead>\n",
       "  <tbody>\n",
       "    <tr>\n",
       "      <th>0</th>\n",
       "      <td>24</td>\n",
       "      <td>0</td>\n",
       "      <td>1.111801</td>\n",
       "      <td>0.903367</td>\n",
       "      <td>-0.433829</td>\n",
       "      <td>-0.971728</td>\n",
       "      <td>-0.286559</td>\n",
       "      <td>-1.011388</td>\n",
       "      <td>-1.357431</td>\n",
       "      <td>-0.041716</td>\n",
       "      <td>...</td>\n",
       "      <td>-5.947541</td>\n",
       "      <td>-6.565323</td>\n",
       "      <td>7.922011</td>\n",
       "      <td>-7.719018</td>\n",
       "      <td>4.405187</td>\n",
       "      <td>1.806038</td>\n",
       "      <td>3.393864</td>\n",
       "      <td>1.992503</td>\n",
       "      <td>2.330853</td>\n",
       "      <td>0.229401</td>\n",
       "    </tr>\n",
       "    <tr>\n",
       "      <th>1</th>\n",
       "      <td>72</td>\n",
       "      <td>0</td>\n",
       "      <td>0.105667</td>\n",
       "      <td>0.672509</td>\n",
       "      <td>0.257486</td>\n",
       "      <td>0.086759</td>\n",
       "      <td>1.199685</td>\n",
       "      <td>0.691813</td>\n",
       "      <td>0.353695</td>\n",
       "      <td>0.558374</td>\n",
       "      <td>...</td>\n",
       "      <td>-5.162087</td>\n",
       "      <td>-0.264433</td>\n",
       "      <td>-12.554034</td>\n",
       "      <td>4.953071</td>\n",
       "      <td>0.799825</td>\n",
       "      <td>-0.025325</td>\n",
       "      <td>1.039128</td>\n",
       "      <td>-0.897690</td>\n",
       "      <td>3.815383</td>\n",
       "      <td>3.735017</td>\n",
       "    </tr>\n",
       "    <tr>\n",
       "      <th>2</th>\n",
       "      <td>48</td>\n",
       "      <td>0</td>\n",
       "      <td>0.767036</td>\n",
       "      <td>0.942499</td>\n",
       "      <td>1.408911</td>\n",
       "      <td>-0.126492</td>\n",
       "      <td>-0.028694</td>\n",
       "      <td>1.490985</td>\n",
       "      <td>0.272541</td>\n",
       "      <td>0.359490</td>\n",
       "      <td>...</td>\n",
       "      <td>0.677536</td>\n",
       "      <td>8.687788</td>\n",
       "      <td>-2.526892</td>\n",
       "      <td>0.283035</td>\n",
       "      <td>0.538570</td>\n",
       "      <td>2.956883</td>\n",
       "      <td>-2.141152</td>\n",
       "      <td>3.346174</td>\n",
       "      <td>-1.128757</td>\n",
       "      <td>-4.715069</td>\n",
       "    </tr>\n",
       "    <tr>\n",
       "      <th>3</th>\n",
       "      <td>48</td>\n",
       "      <td>0</td>\n",
       "      <td>-0.755626</td>\n",
       "      <td>-0.297077</td>\n",
       "      <td>-0.455058</td>\n",
       "      <td>0.765972</td>\n",
       "      <td>2.343522</td>\n",
       "      <td>-0.852713</td>\n",
       "      <td>-2.316440</td>\n",
       "      <td>0.301512</td>\n",
       "      <td>...</td>\n",
       "      <td>10.869688</td>\n",
       "      <td>10.066734</td>\n",
       "      <td>-0.212951</td>\n",
       "      <td>-5.016873</td>\n",
       "      <td>-7.041268</td>\n",
       "      <td>-3.342125</td>\n",
       "      <td>-3.466734</td>\n",
       "      <td>6.218932</td>\n",
       "      <td>-4.034827</td>\n",
       "      <td>0.560658</td>\n",
       "    </tr>\n",
       "    <tr>\n",
       "      <th>4</th>\n",
       "      <td>72</td>\n",
       "      <td>1</td>\n",
       "      <td>-0.468806</td>\n",
       "      <td>-0.504196</td>\n",
       "      <td>0.956769</td>\n",
       "      <td>0.975864</td>\n",
       "      <td>1.447729</td>\n",
       "      <td>-0.863807</td>\n",
       "      <td>-0.346926</td>\n",
       "      <td>-0.227072</td>\n",
       "      <td>...</td>\n",
       "      <td>-6.933980</td>\n",
       "      <td>6.061535</td>\n",
       "      <td>-8.831261</td>\n",
       "      <td>-4.482883</td>\n",
       "      <td>-7.548974</td>\n",
       "      <td>-8.808425</td>\n",
       "      <td>-2.480037</td>\n",
       "      <td>-4.121178</td>\n",
       "      <td>-1.091505</td>\n",
       "      <td>-1.924720</td>\n",
       "    </tr>\n",
       "  </tbody>\n",
       "</table>\n",
       "<p>5 rows × 885 columns</p>\n",
       "</div>"
      ],
      "text/plain": [
       "   cp_time  cp_dose       g-0       g-1       g-2       g-3       g-4  \\\n",
       "0       24        0  1.111801  0.903367 -0.433829 -0.971728 -0.286559   \n",
       "1       72        0  0.105667  0.672509  0.257486  0.086759  1.199685   \n",
       "2       48        0  0.767036  0.942499  1.408911 -0.126492 -0.028694   \n",
       "3       48        0 -0.755626 -0.297077 -0.455058  0.765972  2.343522   \n",
       "4       72        1 -0.468806 -0.504196  0.956769  0.975864  1.447729   \n",
       "\n",
       "        g-5       g-6       g-7  ...     pca-g1     pca-g2     pca-g3  \\\n",
       "0 -1.011388 -1.357431 -0.041716  ...  -5.947541  -6.565323   7.922011   \n",
       "1  0.691813  0.353695  0.558374  ...  -5.162087  -0.264433 -12.554034   \n",
       "2  1.490985  0.272541  0.359490  ...   0.677536   8.687788  -2.526892   \n",
       "3 -0.852713 -2.316440  0.301512  ...  10.869688  10.066734  -0.212951   \n",
       "4 -0.863807 -0.346926 -0.227072  ...  -6.933980   6.061535  -8.831261   \n",
       "\n",
       "     pca-g4    pca-g5    pca-g6    pca-g7    pca-g8    pca-g9   pca-g10  \n",
       "0 -7.719018  4.405187  1.806038  3.393864  1.992503  2.330853  0.229401  \n",
       "1  4.953071  0.799825 -0.025325  1.039128 -0.897690  3.815383  3.735017  \n",
       "2  0.283035  0.538570  2.956883 -2.141152  3.346174 -1.128757 -4.715069  \n",
       "3 -5.016873 -7.041268 -3.342125 -3.466734  6.218932 -4.034827  0.560658  \n",
       "4 -4.482883 -7.548974 -8.808425 -2.480037 -4.121178 -1.091505 -1.924720  \n",
       "\n",
       "[5 rows x 885 columns]"
      ]
     },
     "execution_count": 13,
     "metadata": {},
     "output_type": "execute_result"
    }
   ],
   "source": [
    "train.head()"
   ]
  },
  {
   "cell_type": "code",
   "execution_count": 14,
   "metadata": {
    "execution": {
     "iopub.execute_input": "2020-11-02T06:26:16.660156Z",
     "iopub.status.busy": "2020-11-02T06:26:16.658905Z",
     "iopub.status.idle": "2020-11-02T06:26:16.821231Z",
     "shell.execute_reply": "2020-11-02T06:26:16.820566Z"
    },
    "papermill": {
     "duration": 0.191213,
     "end_time": "2020-11-02T06:26:16.821360",
     "exception": false,
     "start_time": "2020-11-02T06:26:16.630147",
     "status": "completed"
    },
    "tags": []
   },
   "outputs": [],
   "source": [
    "fn_train = train.copy().to_numpy()\n",
    "fn_test = test.copy().to_numpy()\n",
    "    \n",
    "fn_targets = targets.drop(\"sig_id\", axis=1).copy().to_numpy()"
   ]
  },
  {
   "cell_type": "code",
   "execution_count": 15,
   "metadata": {
    "execution": {
     "iopub.execute_input": "2020-11-02T06:26:16.877371Z",
     "iopub.status.busy": "2020-11-02T06:26:16.876404Z",
     "iopub.status.idle": "2020-11-02T06:26:16.880688Z",
     "shell.execute_reply": "2020-11-02T06:26:16.880131Z"
    },
    "papermill": {
     "duration": 0.034448,
     "end_time": "2020-11-02T06:26:16.880790",
     "exception": false,
     "start_time": "2020-11-02T06:26:16.846342",
     "status": "completed"
    },
    "tags": []
   },
   "outputs": [
    {
     "data": {
      "text/plain": [
       "((21948, 885), (3982, 885), (21948, 206))"
      ]
     },
     "execution_count": 15,
     "metadata": {},
     "output_type": "execute_result"
    }
   ],
   "source": [
    "fn_train.shape, fn_test.shape, fn_targets.shape"
   ]
  },
  {
   "cell_type": "markdown",
   "metadata": {
    "papermill": {
     "duration": 0.025379,
     "end_time": "2020-11-02T06:26:16.931110",
     "exception": false,
     "start_time": "2020-11-02T06:26:16.905731",
     "status": "completed"
    },
    "tags": []
   },
   "source": [
    "# modelling"
   ]
  },
  {
   "cell_type": "code",
   "execution_count": 16,
   "metadata": {
    "execution": {
     "iopub.execute_input": "2020-11-02T06:26:16.994003Z",
     "iopub.status.busy": "2020-11-02T06:26:16.993026Z",
     "iopub.status.idle": "2020-11-02T06:26:16.995982Z",
     "shell.execute_reply": "2020-11-02T06:26:16.995451Z"
    },
    "papermill": {
     "duration": 0.039227,
     "end_time": "2020-11-02T06:26:16.996084",
     "exception": false,
     "start_time": "2020-11-02T06:26:16.956857",
     "status": "completed"
    },
    "tags": []
   },
   "outputs": [],
   "source": [
    "class SmoothCrossEntropyLoss(_WeightedLoss):\n",
    "    def __init__(self, weight=None, reduction='mean', smoothing=0.0):\n",
    "        super().__init__(weight=weight, reduction=reduction)\n",
    "        self.smoothing = smoothing\n",
    "        self.weight = weight\n",
    "        self.reduction = reduction\n",
    "\n",
    "    @staticmethod\n",
    "    def _smooth(targets, n_classes, smoothing=0.0):\n",
    "        assert 0 <= smoothing <= 1\n",
    "        with torch.no_grad():\n",
    "            targets = targets * (1 - smoothing) + torch.ones_like(targets).to(device) * smoothing / n_classes\n",
    "        return targets\n",
    "\n",
    "    def forward(self, inputs, targets):\n",
    "        targets = SmoothCrossEntropyLoss()._smooth(targets, inputs.shape[1], self.smoothing)\n",
    "\n",
    "        if self.weight is not None:\n",
    "            inputs = inputs * self.weight.unsqueeze(0)\n",
    "\n",
    "        loss = F.binary_cross_entropy_with_logits(inputs, targets)\n",
    "\n",
    "        return loss"
   ]
  },
  {
   "cell_type": "code",
   "execution_count": 17,
   "metadata": {
    "execution": {
     "iopub.execute_input": "2020-11-02T06:26:17.056130Z",
     "iopub.status.busy": "2020-11-02T06:26:17.055275Z",
     "iopub.status.idle": "2020-11-02T06:26:17.059028Z",
     "shell.execute_reply": "2020-11-02T06:26:17.059490Z"
    },
    "papermill": {
     "duration": 0.038462,
     "end_time": "2020-11-02T06:26:17.059629",
     "exception": false,
     "start_time": "2020-11-02T06:26:17.021167",
     "status": "completed"
    },
    "tags": []
   },
   "outputs": [],
   "source": [
    "smoothing = 0.0001\n",
    "p_min = smoothing\n",
    "p_max = 1 - smoothing\n",
    "\n",
    "class LogitsLogLoss(Metric):\n",
    "    def __init__(self):\n",
    "        self._name = \"logits_ll\"\n",
    "        self._maximize = False\n",
    "\n",
    "    def __call__(self, y_true, y_pred):\n",
    "\n",
    "        logits = 1 / (1 + np.exp(-y_pred))\n",
    "        logits = np.clip(logits, p_min, p_max)\n",
    "        \n",
    "        aux = (1-y_true)*np.log(1-logits+1e-15) + y_true*np.log(logits+1e-15)\n",
    "        return np.mean(-aux)"
   ]
  },
  {
   "cell_type": "code",
   "execution_count": 18,
   "metadata": {
    "execution": {
     "iopub.execute_input": "2020-11-02T06:26:17.509777Z",
     "iopub.status.busy": "2020-11-02T06:26:17.130320Z",
     "iopub.status.idle": "2020-11-02T06:45:26.244156Z",
     "shell.execute_reply": "2020-11-02T06:45:26.244734Z"
    },
    "papermill": {
     "duration": 1149.160466,
     "end_time": "2020-11-02T06:45:26.244925",
     "exception": false,
     "start_time": "2020-11-02T06:26:17.084459",
     "status": "completed"
    },
    "tags": []
   },
   "outputs": [
    {
     "name": "stdout",
     "output_type": "stream",
     "text": [
      "FOLDS :  1\n",
      "Device used : cuda\n",
      "epoch 0  | loss: 0.43857 | val_logits_ll: 0.14736 |  0:00:01s\n",
      "epoch 10 | loss: 0.01898 | val_logits_ll: 0.01905 |  0:00:11s\n",
      "epoch 20 | loss: 0.01738 | val_logits_ll: 0.01789 |  0:00:20s\n",
      "epoch 30 | loss: 0.01662 | val_logits_ll: 0.01827 |  0:00:30s\n",
      "epoch 40 | loss: 0.01625 | val_logits_ll: 0.01723 |  0:00:39s\n",
      "epoch 50 | loss: 0.01564 | val_logits_ll: 0.01806 |  0:00:49s\n",
      "epoch 60 | loss: 0.01539 | val_logits_ll: 0.01674 |  0:00:58s\n",
      "epoch 70 | loss: 0.01508 | val_logits_ll: 0.01694 |  0:01:07s\n",
      "epoch 80 | loss: 0.01453 | val_logits_ll: 0.01703 |  0:01:16s\n",
      "\n",
      "Early stopping occured at epoch 80 with best_epoch = 60 and best_val_logits_ll = 0.01674\n",
      "Best weights from best epoch are automatically used!\n",
      "FOLDS :  2\n",
      "Device used : cuda\n",
      "epoch 0  | loss: 0.44368 | val_logits_ll: 0.16521 |  0:00:00s\n",
      "epoch 10 | loss: 0.01893 | val_logits_ll: 0.01906 |  0:00:10s\n",
      "epoch 20 | loss: 0.01717 | val_logits_ll: 0.01808 |  0:00:20s\n",
      "epoch 30 | loss: 0.01651 | val_logits_ll: 0.01754 |  0:00:28s\n",
      "epoch 40 | loss: 0.01612 | val_logits_ll: 0.0176  |  0:00:38s\n",
      "epoch 50 | loss: 0.01572 | val_logits_ll: 0.01731 |  0:00:47s\n",
      "epoch 60 | loss: 0.01542 | val_logits_ll: 0.01715 |  0:00:56s\n",
      "epoch 70 | loss: 0.0149  | val_logits_ll: 0.01722 |  0:01:06s\n",
      "epoch 80 | loss: 0.01449 | val_logits_ll: 0.0172  |  0:01:16s\n",
      "\n",
      "Early stopping occured at epoch 85 with best_epoch = 65 and best_val_logits_ll = 0.017\n",
      "Best weights from best epoch are automatically used!\n",
      "FOLDS :  3\n",
      "Device used : cuda\n",
      "epoch 0  | loss: 0.44393 | val_logits_ll: 0.1401  |  0:00:00s\n",
      "epoch 10 | loss: 0.01899 | val_logits_ll: 0.01971 |  0:00:10s\n",
      "epoch 20 | loss: 0.01724 | val_logits_ll: 0.01797 |  0:00:19s\n",
      "epoch 30 | loss: 0.01654 | val_logits_ll: 0.01771 |  0:00:28s\n",
      "epoch 40 | loss: 0.01583 | val_logits_ll: 0.01707 |  0:00:37s\n",
      "epoch 50 | loss: 0.01538 | val_logits_ll: 0.01697 |  0:00:47s\n",
      "epoch 60 | loss: 0.01506 | val_logits_ll: 0.01713 |  0:00:57s\n",
      "epoch 70 | loss: 0.01449 | val_logits_ll: 0.01714 |  0:01:06s\n",
      "\n",
      "Early stopping occured at epoch 70 with best_epoch = 50 and best_val_logits_ll = 0.01697\n",
      "Best weights from best epoch are automatically used!\n",
      "FOLDS :  4\n",
      "Device used : cuda\n",
      "epoch 0  | loss: 0.43711 | val_logits_ll: 0.15069 |  0:00:00s\n",
      "epoch 10 | loss: 0.01887 | val_logits_ll: 0.01889 |  0:00:10s\n",
      "epoch 20 | loss: 0.01713 | val_logits_ll: 0.01962 |  0:00:19s\n",
      "epoch 30 | loss: 0.01642 | val_logits_ll: 0.01716 |  0:00:28s\n",
      "epoch 40 | loss: 0.01593 | val_logits_ll: 0.01719 |  0:00:38s\n",
      "epoch 50 | loss: 0.01528 | val_logits_ll: 0.0168  |  0:00:48s\n",
      "epoch 60 | loss: 0.01491 | val_logits_ll: 0.01707 |  0:00:58s\n",
      "epoch 70 | loss: 0.0148  | val_logits_ll: 0.01707 |  0:01:07s\n",
      "epoch 80 | loss: 0.014   | val_logits_ll: 0.01732 |  0:01:16s\n",
      "\n",
      "Early stopping occured at epoch 81 with best_epoch = 61 and best_val_logits_ll = 0.01669\n",
      "Best weights from best epoch are automatically used!\n",
      "FOLDS :  5\n",
      "Device used : cuda\n",
      "epoch 0  | loss: 0.43931 | val_logits_ll: 0.15963 |  0:00:00s\n",
      "epoch 10 | loss: 0.01887 | val_logits_ll: 0.02055 |  0:00:09s\n",
      "epoch 20 | loss: 0.01709 | val_logits_ll: 0.01825 |  0:00:19s\n",
      "epoch 30 | loss: 0.0163  | val_logits_ll: 0.01754 |  0:00:29s\n",
      "epoch 40 | loss: 0.01586 | val_logits_ll: 0.01723 |  0:00:38s\n",
      "epoch 50 | loss: 0.01536 | val_logits_ll: 0.0172  |  0:00:47s\n",
      "epoch 60 | loss: 0.01514 | val_logits_ll: 0.01701 |  0:00:55s\n",
      "epoch 70 | loss: 0.01497 | val_logits_ll: 0.01693 |  0:01:05s\n",
      "\n",
      "Early stopping occured at epoch 79 with best_epoch = 59 and best_val_logits_ll = 0.01687\n",
      "Best weights from best epoch are automatically used!\n",
      "OOF log loss: 0.016853697084460263\n",
      "Overall AUC : 0.7532780904093375\n",
      "FOLDS :  1\n",
      "Device used : cuda\n",
      "epoch 0  | loss: 0.44347 | val_logits_ll: 0.15405 |  0:00:00s\n",
      "epoch 10 | loss: 0.0193  | val_logits_ll: 0.01965 |  0:00:10s\n",
      "epoch 20 | loss: 0.01738 | val_logits_ll: 0.01825 |  0:00:19s\n",
      "epoch 30 | loss: 0.01656 | val_logits_ll: 0.0173  |  0:00:28s\n",
      "epoch 40 | loss: 0.01613 | val_logits_ll: 0.01705 |  0:00:37s\n",
      "epoch 50 | loss: 0.01574 | val_logits_ll: 0.01688 |  0:00:46s\n",
      "epoch 60 | loss: 0.01534 | val_logits_ll: 0.01688 |  0:00:55s\n",
      "\n",
      "Early stopping occured at epoch 69 with best_epoch = 49 and best_val_logits_ll = 0.01677\n",
      "Best weights from best epoch are automatically used!\n",
      "FOLDS :  2\n",
      "Device used : cuda\n",
      "epoch 0  | loss: 0.44162 | val_logits_ll: 0.14776 |  0:00:00s\n",
      "epoch 10 | loss: 0.01924 | val_logits_ll: 0.01939 |  0:00:10s\n",
      "epoch 20 | loss: 0.01743 | val_logits_ll: 0.0201  |  0:00:19s\n",
      "epoch 30 | loss: 0.01653 | val_logits_ll: 0.01753 |  0:00:27s\n",
      "epoch 40 | loss: 0.016   | val_logits_ll: 0.01742 |  0:00:36s\n",
      "epoch 50 | loss: 0.0154  | val_logits_ll: 0.01757 |  0:00:46s\n",
      "epoch 60 | loss: 0.01498 | val_logits_ll: 0.01717 |  0:00:55s\n",
      "epoch 70 | loss: 0.01461 | val_logits_ll: 0.01748 |  0:01:05s\n",
      "epoch 80 | loss: 0.01373 | val_logits_ll: 0.01793 |  0:01:14s\n",
      "\n",
      "Early stopping occured at epoch 80 with best_epoch = 60 and best_val_logits_ll = 0.01717\n",
      "Best weights from best epoch are automatically used!\n",
      "FOLDS :  3\n",
      "Device used : cuda\n",
      "epoch 0  | loss: 0.44334 | val_logits_ll: 0.14327 |  0:00:01s\n",
      "epoch 10 | loss: 0.01935 | val_logits_ll: 0.01949 |  0:00:09s\n",
      "epoch 20 | loss: 0.01709 | val_logits_ll: 0.01829 |  0:00:18s\n",
      "epoch 30 | loss: 0.01646 | val_logits_ll: 0.0176  |  0:00:27s\n",
      "epoch 40 | loss: 0.01591 | val_logits_ll: 0.01718 |  0:00:36s\n",
      "epoch 50 | loss: 0.01534 | val_logits_ll: 0.01718 |  0:00:46s\n",
      "epoch 60 | loss: 0.01519 | val_logits_ll: 0.01718 |  0:00:55s\n",
      "\n",
      "Early stopping occured at epoch 68 with best_epoch = 48 and best_val_logits_ll = 0.01702\n",
      "Best weights from best epoch are automatically used!\n",
      "FOLDS :  4\n",
      "Device used : cuda\n",
      "epoch 0  | loss: 0.4418  | val_logits_ll: 0.14328 |  0:00:00s\n",
      "epoch 10 | loss: 0.01936 | val_logits_ll: 0.01964 |  0:00:09s\n",
      "epoch 20 | loss: 0.01722 | val_logits_ll: 0.02057 |  0:00:18s\n",
      "epoch 30 | loss: 0.01642 | val_logits_ll: 0.01747 |  0:00:27s\n",
      "epoch 40 | loss: 0.01607 | val_logits_ll: 0.01707 |  0:00:37s\n",
      "epoch 50 | loss: 0.01578 | val_logits_ll: 0.0171  |  0:00:46s\n",
      "epoch 60 | loss: 0.01569 | val_logits_ll: 0.01702 |  0:00:55s\n",
      "epoch 70 | loss: 0.01543 | val_logits_ll: 0.01708 |  0:01:04s\n",
      "epoch 80 | loss: 0.01492 | val_logits_ll: 0.017   |  0:01:13s\n",
      "epoch 90 | loss: 0.01496 | val_logits_ll: 0.01711 |  0:01:21s\n",
      "\n",
      "Early stopping occured at epoch 98 with best_epoch = 78 and best_val_logits_ll = 0.01678\n",
      "Best weights from best epoch are automatically used!\n",
      "FOLDS :  5\n",
      "Device used : cuda\n",
      "epoch 0  | loss: 0.43626 | val_logits_ll: 0.13851 |  0:00:00s\n",
      "epoch 10 | loss: 0.01921 | val_logits_ll: 0.01934 |  0:00:11s\n",
      "epoch 20 | loss: 0.0174  | val_logits_ll: 0.01938 |  0:00:19s\n",
      "epoch 30 | loss: 0.01674 | val_logits_ll: 0.0175  |  0:00:28s\n",
      "epoch 40 | loss: 0.01628 | val_logits_ll: 0.01717 |  0:00:37s\n",
      "epoch 50 | loss: 0.016   | val_logits_ll: 0.01953 |  0:00:46s\n",
      "epoch 60 | loss: 0.01551 | val_logits_ll: 0.01704 |  0:00:54s\n",
      "epoch 70 | loss: 0.01519 | val_logits_ll: 0.01702 |  0:01:02s\n",
      "epoch 80 | loss: 0.01533 | val_logits_ll: 0.01696 |  0:01:13s\n",
      "epoch 90 | loss: 0.01443 | val_logits_ll: 0.01699 |  0:01:21s\n",
      "\n",
      "Early stopping occured at epoch 95 with best_epoch = 75 and best_val_logits_ll = 0.01681\n",
      "Best weights from best epoch are automatically used!\n",
      "OOF log loss: 0.01691199475962136\n",
      "Overall AUC : 0.7461446023242759\n",
      "FOLDS :  1\n",
      "Device used : cuda\n",
      "epoch 0  | loss: 0.47025 | val_logits_ll: 0.1818  |  0:00:00s\n",
      "epoch 10 | loss: 0.019   | val_logits_ll: 0.01941 |  0:00:09s\n",
      "epoch 20 | loss: 0.01711 | val_logits_ll: 0.0177  |  0:00:18s\n",
      "epoch 30 | loss: 0.01658 | val_logits_ll: 0.01724 |  0:00:27s\n",
      "epoch 40 | loss: 0.01615 | val_logits_ll: 0.01706 |  0:00:36s\n",
      "epoch 50 | loss: 0.01571 | val_logits_ll: 0.01713 |  0:00:45s\n",
      "epoch 60 | loss: 0.01532 | val_logits_ll: 0.01671 |  0:00:54s\n",
      "epoch 70 | loss: 0.01508 | val_logits_ll: 0.01728 |  0:01:02s\n",
      "epoch 80 | loss: 0.01456 | val_logits_ll: 0.01695 |  0:01:11s\n",
      "\n",
      "Early stopping occured at epoch 80 with best_epoch = 60 and best_val_logits_ll = 0.01671\n",
      "Best weights from best epoch are automatically used!\n",
      "FOLDS :  2\n",
      "Device used : cuda\n",
      "epoch 0  | loss: 0.47166 | val_logits_ll: 0.18109 |  0:00:00s\n",
      "epoch 10 | loss: 0.01956 | val_logits_ll: 0.01961 |  0:00:10s\n",
      "epoch 20 | loss: 0.01722 | val_logits_ll: 0.02037 |  0:00:18s\n",
      "epoch 30 | loss: 0.01671 | val_logits_ll: 0.01814 |  0:00:28s\n",
      "epoch 40 | loss: 0.01617 | val_logits_ll: 0.01754 |  0:00:37s\n",
      "epoch 50 | loss: 0.01591 | val_logits_ll: 0.01726 |  0:00:45s\n",
      "epoch 60 | loss: 0.01537 | val_logits_ll: 0.0171  |  0:00:54s\n",
      "epoch 70 | loss: 0.01492 | val_logits_ll: 0.01706 |  0:01:03s\n",
      "epoch 80 | loss: 0.0144  | val_logits_ll: 0.01744 |  0:01:12s\n",
      "epoch 90 | loss: 0.01396 | val_logits_ll: 0.01726 |  0:01:21s\n",
      "\n",
      "Early stopping occured at epoch 90 with best_epoch = 70 and best_val_logits_ll = 0.01706\n",
      "Best weights from best epoch are automatically used!\n",
      "FOLDS :  3\n",
      "Device used : cuda\n",
      "epoch 0  | loss: 0.47342 | val_logits_ll: 0.1785  |  0:00:00s\n",
      "epoch 10 | loss: 0.0193  | val_logits_ll: 0.01956 |  0:00:10s\n",
      "epoch 20 | loss: 0.01714 | val_logits_ll: 0.0184  |  0:00:19s\n",
      "epoch 30 | loss: 0.01672 | val_logits_ll: 0.01818 |  0:00:28s\n",
      "epoch 40 | loss: 0.01597 | val_logits_ll: 0.01754 |  0:00:36s\n",
      "epoch 50 | loss: 0.01539 | val_logits_ll: 0.01718 |  0:00:45s\n",
      "epoch 60 | loss: 0.01505 | val_logits_ll: 0.01727 |  0:00:54s\n",
      "epoch 70 | loss: 0.01445 | val_logits_ll: 0.01797 |  0:01:04s\n",
      "\n",
      "Early stopping occured at epoch 78 with best_epoch = 58 and best_val_logits_ll = 0.01702\n",
      "Best weights from best epoch are automatically used!\n",
      "FOLDS :  4\n",
      "Device used : cuda\n",
      "epoch 0  | loss: 0.47436 | val_logits_ll: 0.18484 |  0:00:00s\n",
      "epoch 10 | loss: 0.01961 | val_logits_ll: 0.02028 |  0:00:09s\n",
      "epoch 20 | loss: 0.01738 | val_logits_ll: 0.0179  |  0:00:18s\n",
      "epoch 30 | loss: 0.01666 | val_logits_ll: 0.0176  |  0:00:27s\n",
      "epoch 40 | loss: 0.01619 | val_logits_ll: 0.01711 |  0:00:36s\n",
      "epoch 50 | loss: 0.01564 | val_logits_ll: 0.01702 |  0:00:45s\n",
      "epoch 60 | loss: 0.01509 | val_logits_ll: 0.0171  |  0:00:54s\n",
      "epoch 70 | loss: 0.01471 | val_logits_ll: 0.01718 |  0:01:03s\n",
      "\n",
      "Early stopping occured at epoch 77 with best_epoch = 57 and best_val_logits_ll = 0.01694\n",
      "Best weights from best epoch are automatically used!\n",
      "FOLDS :  5\n",
      "Device used : cuda\n",
      "epoch 0  | loss: 0.47585 | val_logits_ll: 0.18202 |  0:00:01s\n",
      "epoch 10 | loss: 0.01931 | val_logits_ll: 0.01953 |  0:00:09s\n",
      "epoch 20 | loss: 0.01711 | val_logits_ll: 0.0187  |  0:00:18s\n",
      "epoch 30 | loss: 0.01627 | val_logits_ll: 0.01738 |  0:00:27s\n",
      "epoch 40 | loss: 0.01566 | val_logits_ll: 0.0174  |  0:00:36s\n",
      "epoch 50 | loss: 0.01512 | val_logits_ll: 0.017   |  0:00:45s\n",
      "epoch 60 | loss: 0.01466 | val_logits_ll: 0.0177  |  0:00:54s\n",
      "epoch 70 | loss: 0.01431 | val_logits_ll: 0.01719 |  0:01:02s\n",
      "\n",
      "Early stopping occured at epoch 78 with best_epoch = 58 and best_val_logits_ll = 0.01697\n",
      "Best weights from best epoch are automatically used!\n",
      "OOF log loss: 0.016942530007540455\n",
      "Overall AUC : 0.7417909596047759\n"
     ]
    }
   ],
   "source": [
    "MAX_EPOCH=200\n",
    "device = \"cuda\" if torch.cuda.is_available() else \"cpu\"\n",
    "\n",
    "def seed_everything(seed_value):\n",
    "    random.seed(seed_value)\n",
    "    np.random.seed(seed_value)\n",
    "    torch.manual_seed(seed_value)\n",
    "    os.environ['PYTHONHASHSEED'] = str(seed_value)\n",
    "    \n",
    "    if torch.cuda.is_available(): \n",
    "        torch.cuda.manual_seed(seed_value)\n",
    "        torch.cuda.manual_seed_all(seed_value)\n",
    "        torch.backends.cudnn.deterministic = True\n",
    "        torch.backends.cudnn.benchmark = False\n",
    "\n",
    "def modelling_tabnet(tr, target, te, sample_seed):\n",
    "    seed_everything(sample_seed) \n",
    "    tabnet_params = dict(n_d=24, n_a=24, n_steps=1, gamma=1.5, seed = sample_seed,\n",
    "                     lambda_sparse=0, n_independent=1, n_shared=1, \n",
    "                     optimizer_fn=torch.optim.Adam,\n",
    "                     optimizer_params=dict(lr=2e-2, weight_decay=1e-5),\n",
    "                     mask_type='entmax',\n",
    "                     scheduler_params=dict(mode=\"min\",\n",
    "                                           patience=5,\n",
    "                                           min_lr=1e-5,\n",
    "                                           factor=0.9,),\n",
    "                     scheduler_fn=torch.optim.lr_scheduler.ReduceLROnPlateau,\n",
    "                     verbose=10,\n",
    "                     )\n",
    "    test_cv_preds = []\n",
    "\n",
    "    NB_SPLITS = 5\n",
    "    mskf = MultilabelStratifiedKFold(n_splits=NB_SPLITS, random_state=0, shuffle=True)\n",
    "    oof_preds = np.zeros([len(tr),target.shape[1]])\n",
    "    scores = []\n",
    "    for fold_nb, (train_idx, val_idx) in enumerate(mskf.split(train, target)):\n",
    "        print(\"FOLDS : \", fold_nb+1)\n",
    "\n",
    "        ## model\n",
    "        X_train, y_train = tr[train_idx, :], target[train_idx, :]\n",
    "        X_val, y_val = tr[val_idx, :], target[val_idx, :]\n",
    "        model = TabNetRegressor(**tabnet_params)\n",
    "    \n",
    "        model.fit(X_train=X_train,\n",
    "              y_train=y_train,\n",
    "              eval_set=[(X_val, y_val)],\n",
    "              eval_name = [\"val\"],\n",
    "              eval_metric = [\"logits_ll\"],\n",
    "              max_epochs=MAX_EPOCH,\n",
    "              patience=20, batch_size=1024, virtual_batch_size=128,\n",
    "              num_workers=1, drop_last=False,\n",
    "              # use binary cross entropy as this is not a regression problem\n",
    "              loss_fn=SmoothCrossEntropyLoss(smoothing=smoothing)) #torch.nn.functional.binary_cross_entropy_with_logits)\n",
    "    \n",
    "        preds_val = model.predict(X_val)\n",
    "        # Apply sigmoid to the predictions\n",
    "        preds =  1 / (1 + np.exp(-preds_val))\n",
    "        score = np.min(model.history[\"val_logits_ll\"])\n",
    "        #oof_preds[val_idx,:] = preds\n",
    "        oof_preds[val_idx,:] = np.clip(preds, p_min, p_max)\n",
    "        scores.append(score)\n",
    "\n",
    "        # preds on test\n",
    "        preds_test = model.predict(te)\n",
    "        #test_cv_preds.append(1 / (1 + np.exp(-preds_test)))\n",
    "        test_cv_preds.append(np.clip(1 / (1 + np.exp(-preds_test)), p_min, p_max))\n",
    "        \n",
    "    test_preds_all = np.stack(test_cv_preds)\n",
    "    print(\"OOF log loss:\", log_loss(np.ravel(target), np.ravel(np.array(oof_preds))))\n",
    "    aucs = []\n",
    "    for task_id in range(206):\n",
    "        aucs.append(roc_auc_score(y_true=target[:, task_id],y_score=oof_preds[:, task_id]))\n",
    "    print(f\"Overall AUC : {np.mean(aucs)}\")\n",
    "    return oof_preds, test_preds_all\n",
    "\n",
    "target_oof = np.zeros([len(fn_train),fn_targets.shape[1]])\n",
    "target_pred = np.zeros([len(fn_test),fn_targets.shape[1]])\n",
    "\n",
    "seeds = [0,1,2]\n",
    "for seed_ in seeds:\n",
    "    oof_preds, test_preds_all = modelling_tabnet(fn_train, fn_targets, fn_test, seed_)\n",
    "    target_oof += oof_preds / len(seeds)\n",
    "    target_pred += test_preds_all.mean(axis=0) / len(seeds)"
   ]
  },
  {
   "cell_type": "code",
   "execution_count": 19,
   "metadata": {
    "execution": {
     "iopub.execute_input": "2020-11-02T06:45:26.411304Z",
     "iopub.status.busy": "2020-11-02T06:45:26.410409Z",
     "iopub.status.idle": "2020-11-02T06:45:27.776818Z",
     "shell.execute_reply": "2020-11-02T06:45:27.776076Z"
    },
    "papermill": {
     "duration": 1.453456,
     "end_time": "2020-11-02T06:45:27.776972",
     "exception": false,
     "start_time": "2020-11-02T06:45:26.323516",
     "status": "completed"
    },
    "tags": []
   },
   "outputs": [
    {
     "name": "stdout",
     "output_type": "stream",
     "text": [
      "Overall AUC : 0.7724947419376188\n"
     ]
    }
   ],
   "source": [
    "aucs = []\n",
    "for task_id in range(targets.shape[1]-1):\n",
    "    aucs.append(roc_auc_score(y_true=targets.iloc[:, task_id+1].values,\n",
    "                              y_score=target_oof[:, task_id]))\n",
    "print(f\"Overall AUC : {np.mean(aucs)}\")"
   ]
  },
  {
   "cell_type": "code",
   "execution_count": 20,
   "metadata": {
    "execution": {
     "iopub.execute_input": "2020-11-02T06:45:28.038543Z",
     "iopub.status.busy": "2020-11-02T06:45:28.037591Z",
     "iopub.status.idle": "2020-11-02T06:45:33.896887Z",
     "shell.execute_reply": "2020-11-02T06:45:33.897637Z"
    },
    "papermill": {
     "duration": 5.989108,
     "end_time": "2020-11-02T06:45:33.897814",
     "exception": false,
     "start_time": "2020-11-02T06:45:27.908706",
     "status": "completed"
    },
    "tags": []
   },
   "outputs": [
    {
     "name": "stdout",
     "output_type": "stream",
     "text": [
      "OOF log loss:  0.015029746697579215\n"
     ]
    }
   ],
   "source": [
    "t = pd.read_csv(DATA_DIR + 'train_targets_scored.csv')\n",
    "train_checkscore = t.copy()\n",
    "train_checkscore.loc[train_checkscore.index.isin(cons_train_index),target_feats] = target_oof\n",
    "train_checkscore.loc[train_checkscore.index.isin(noncons_train_index),target_feats] = 0\n",
    "\n",
    "t.drop(\"sig_id\", axis=1, inplace=True)\n",
    "print('OOF log loss: ', log_loss(np.ravel(t), np.ravel(np.array(train_checkscore.iloc[:,1:]))))"
   ]
  },
  {
   "cell_type": "code",
   "execution_count": 21,
   "metadata": {
    "execution": {
     "iopub.execute_input": "2020-11-02T06:45:34.065067Z",
     "iopub.status.busy": "2020-11-02T06:45:34.064144Z",
     "iopub.status.idle": "2020-11-02T06:45:36.515018Z",
     "shell.execute_reply": "2020-11-02T06:45:36.513348Z"
    },
    "papermill": {
     "duration": 2.53767,
     "end_time": "2020-11-02T06:45:36.515141",
     "exception": false,
     "start_time": "2020-11-02T06:45:33.977471",
     "status": "completed"
    },
    "tags": []
   },
   "outputs": [],
   "source": [
    "sub[target_feats] = target_pred\n",
    "sub.loc[noncons_test_index,target_feats] = 0\n",
    "sub.to_csv('submission.csv', index=False)"
   ]
  },
  {
   "cell_type": "code",
   "execution_count": null,
   "metadata": {
    "papermill": {
     "duration": 0.07817,
     "end_time": "2020-11-02T06:45:36.671183",
     "exception": false,
     "start_time": "2020-11-02T06:45:36.593013",
     "status": "completed"
    },
    "tags": []
   },
   "outputs": [],
   "source": []
  }
 ],
 "metadata": {
  "kernelspec": {
   "display_name": "Python 3",
   "language": "python",
   "name": "python3"
  },
  "language_info": {
   "codemirror_mode": {
    "name": "ipython",
    "version": 3
   },
   "file_extension": ".py",
   "mimetype": "text/x-python",
   "name": "python",
   "nbconvert_exporter": "python",
   "pygments_lexer": "ipython3",
   "version": "3.7.6"
  },
  "papermill": {
   "duration": 1206.246291,
   "end_time": "2020-11-02T06:45:37.359714",
   "environment_variables": {},
   "exception": null,
   "input_path": "__notebook__.ipynb",
   "output_path": "__notebook__.ipynb",
   "parameters": {},
   "start_time": "2020-11-02T06:25:31.113423",
   "version": "2.1.0"
  }
 },
 "nbformat": 4,
 "nbformat_minor": 4
}
