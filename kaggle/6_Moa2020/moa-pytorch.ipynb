{
 "cells": [
  {
   "cell_type": "markdown",
   "metadata": {
    "papermill": {
     "duration": 0.018859,
     "end_time": "2020-11-09T10:02:26.526661",
     "exception": false,
     "start_time": "2020-11-09T10:02:26.507802",
     "status": "completed"
    },
    "tags": []
   },
   "source": [
    "- c: 5, g: 30"
   ]
  },
  {
   "cell_type": "code",
   "execution_count": 1,
   "metadata": {
    "_cell_guid": "b1076dfc-b9ad-4769-8c92-a6c4dae69d19",
    "_uuid": "8f2839f25d086af736a60e9eeb907d3b93b6e0e5",
    "execution": {
     "iopub.execute_input": "2020-11-09T10:02:26.572493Z",
     "iopub.status.busy": "2020-11-09T10:02:26.571646Z",
     "iopub.status.idle": "2020-11-09T10:02:35.918746Z",
     "shell.execute_reply": "2020-11-09T10:02:35.917589Z"
    },
    "papermill": {
     "duration": 9.374102,
     "end_time": "2020-11-09T10:02:35.918873",
     "exception": false,
     "start_time": "2020-11-09T10:02:26.544771",
     "status": "completed"
    },
    "tags": []
   },
   "outputs": [],
   "source": [
    "import os\n",
    "import sys\n",
    "import random\n",
    "import warnings\n",
    "import numpy as np\n",
    "import pandas as pd \n",
    "from umap import UMAP\n",
    "from scipy import stats\n",
    "from sklearn import preprocessing\n",
    "from sklearn.metrics import log_loss,roc_auc_score\n",
    "from sklearn.decomposition import PCA\n",
    "from tqdm import tqdm_notebook as tqdm\n",
    "from sklearn.cluster import KMeans\n",
    "from sklearn.multioutput import MultiOutputClassifier\n",
    "from sklearn.feature_selection import VarianceThreshold\n",
    "\n",
    "sys.path.append('../input/multilabelstraifier/')\n",
    "from ml_stratifiers import MultilabelStratifiedKFold\n",
    "warnings.filterwarnings('ignore')\n",
    "\n",
    "import time\n",
    "import torch\n",
    "import torch.nn as nn\n",
    "import torch.optim as optim\n",
    "import torch.nn.functional as F\n",
    "import tensorflow as tf\n",
    "from torch.nn.modules.loss import _WeightedLoss"
   ]
  },
  {
   "cell_type": "code",
   "execution_count": 2,
   "metadata": {
    "execution": {
     "iopub.execute_input": "2020-11-09T10:02:35.971483Z",
     "iopub.status.busy": "2020-11-09T10:02:35.970344Z",
     "iopub.status.idle": "2020-11-09T10:02:42.518733Z",
     "shell.execute_reply": "2020-11-09T10:02:42.519509Z"
    },
    "papermill": {
     "duration": 6.582654,
     "end_time": "2020-11-09T10:02:42.519726",
     "exception": false,
     "start_time": "2020-11-09T10:02:35.937072",
     "status": "completed"
    },
    "tags": []
   },
   "outputs": [],
   "source": [
    "DATA_DIR = '/kaggle/input/lish-moa/'\n",
    "train = pd.read_csv(DATA_DIR + 'train_features.csv')\n",
    "targets = pd.read_csv(DATA_DIR + 'train_targets_scored.csv')\n",
    "non_targets = pd.read_csv(DATA_DIR + 'train_targets_nonscored.csv')\n",
    "test = pd.read_csv(DATA_DIR + 'test_features.csv')\n",
    "sub = pd.read_csv(DATA_DIR + 'sample_submission.csv')\n",
    "drug = pd.read_csv(DATA_DIR + 'train_drug.csv')"
   ]
  },
  {
   "cell_type": "code",
   "execution_count": 3,
   "metadata": {
    "execution": {
     "iopub.execute_input": "2020-11-09T10:02:42.580055Z",
     "iopub.status.busy": "2020-11-09T10:02:42.579225Z",
     "iopub.status.idle": "2020-11-09T10:02:42.583503Z",
     "shell.execute_reply": "2020-11-09T10:02:42.584101Z"
    },
    "papermill": {
     "duration": 0.039064,
     "end_time": "2020-11-09T10:02:42.584269",
     "exception": false,
     "start_time": "2020-11-09T10:02:42.545205",
     "status": "completed"
    },
    "tags": []
   },
   "outputs": [],
   "source": [
    "target_feats = [ i for i in targets.columns if i != \"sig_id\"]\n",
    "g_feats = [i for i in train.columns if \"g-\" in i]\n",
    "c_feats = [i for i in train.columns if \"c-\" in i]"
   ]
  },
  {
   "cell_type": "code",
   "execution_count": 4,
   "metadata": {
    "execution": {
     "iopub.execute_input": "2020-11-09T10:02:42.632478Z",
     "iopub.status.busy": "2020-11-09T10:02:42.631617Z",
     "iopub.status.idle": "2020-11-09T10:02:42.729744Z",
     "shell.execute_reply": "2020-11-09T10:02:42.729194Z"
    },
    "papermill": {
     "duration": 0.124139,
     "end_time": "2020-11-09T10:02:42.729864",
     "exception": false,
     "start_time": "2020-11-09T10:02:42.605725",
     "status": "completed"
    },
    "tags": []
   },
   "outputs": [],
   "source": [
    "noncons_train_index = train[train.cp_type==\"ctl_vehicle\"].index\n",
    "cons_train_index = train[train.cp_type!=\"ctl_vehicle\"].index\n",
    "noncons_test_index = test[test.cp_type==\"ctl_vehicle\"].index\n",
    "cons_test_index = test[test.cp_type!=\"ctl_vehicle\"].index"
   ]
  },
  {
   "cell_type": "markdown",
   "metadata": {
    "papermill": {
     "duration": 0.017679,
     "end_time": "2020-11-09T10:02:42.765595",
     "exception": false,
     "start_time": "2020-11-09T10:02:42.747916",
     "status": "completed"
    },
    "tags": []
   },
   "source": [
    "# preprocess"
   ]
  },
  {
   "cell_type": "code",
   "execution_count": 5,
   "metadata": {
    "execution": {
     "iopub.execute_input": "2020-11-09T10:02:42.816772Z",
     "iopub.status.busy": "2020-11-09T10:02:42.815902Z",
     "iopub.status.idle": "2020-11-09T10:02:43.218969Z",
     "shell.execute_reply": "2020-11-09T10:02:43.217946Z"
    },
    "papermill": {
     "duration": 0.435697,
     "end_time": "2020-11-09T10:02:43.219151",
     "exception": false,
     "start_time": "2020-11-09T10:02:42.783454",
     "status": "completed"
    },
    "tags": []
   },
   "outputs": [],
   "source": [
    "train = train[train.index.isin(cons_train_index)].copy().reset_index(drop=True)\n",
    "test = test[test.index.isin(cons_test_index)].copy().reset_index(drop=True)\n",
    "targets = targets[targets.index.isin(cons_train_index)].copy().reset_index(drop=True)\n",
    "non_targets = non_targets[non_targets.index.isin(cons_train_index)].copy().reset_index(drop=True)"
   ]
  },
  {
   "cell_type": "code",
   "execution_count": 6,
   "metadata": {
    "execution": {
     "iopub.execute_input": "2020-11-09T10:02:43.301760Z",
     "iopub.status.busy": "2020-11-09T10:02:43.300848Z",
     "iopub.status.idle": "2020-11-09T10:02:44.068275Z",
     "shell.execute_reply": "2020-11-09T10:02:44.069293Z"
    },
    "papermill": {
     "duration": 0.809522,
     "end_time": "2020-11-09T10:02:44.069472",
     "exception": false,
     "start_time": "2020-11-09T10:02:43.259950",
     "status": "completed"
    },
    "tags": []
   },
   "outputs": [
    {
     "data": {
      "text/plain": [
       "array([[1, 4, 5, ..., 4, 4, 5]], dtype=int8)"
      ]
     },
     "execution_count": 6,
     "metadata": {},
     "output_type": "execute_result"
    }
   ],
   "source": [
    "# https://www.kaggle.com/c/lish-moa/discussion/195195\n",
    "NB_SPLITS = 7\n",
    "seed = 34\n",
    "\n",
    "folds = []\n",
    "    \n",
    "# LOAD FILES\n",
    "train_score = targets.merge(drug, on='sig_id', how='left') \n",
    "\n",
    "# LOCATE DRUGS\n",
    "vc = train_score.drug_id.value_counts()\n",
    "vc1 = vc.loc[vc <= 19].index.sort_values()\n",
    "vc2 = vc.loc[vc > 19].index.sort_values()\n",
    "    \n",
    "# STRATIFY DRUGS 18X OR LESS\n",
    "dct1 = {}; dct2 = {}\n",
    "skf = MultilabelStratifiedKFold(n_splits = NB_SPLITS, shuffle = True, random_state = seed)\n",
    "tmp = train_score.groupby('drug_id')[target_feats].mean().loc[vc1]\n",
    "for fold,(idxT,idxV) in enumerate(skf.split(tmp,tmp[target_feats])):\n",
    "    dd = {k:fold for k in tmp.index[idxV].values}\n",
    "    dct1.update(dd)\n",
    "\n",
    "# STRATIFY DRUGS MORE THAN 18X\n",
    "skf = MultilabelStratifiedKFold(n_splits = NB_SPLITS, shuffle = True, random_state = seed)\n",
    "tmp = train_score.loc[train_score.drug_id.isin(vc2)].reset_index(drop = True)\n",
    "for fold,(idxT,idxV) in enumerate(skf.split(tmp,tmp[target_feats])):\n",
    "    dd = {k:fold for k in tmp.sig_id[idxV].values}\n",
    "    dct2.update(dd)\n",
    "\n",
    "# ASSIGN FOLDS\n",
    "train_score['fold'] = train_score.drug_id.map(dct1)\n",
    "train_score.loc[train_score.fold.isna(),'fold'] = train_score.loc[train_score.fold.isna(),'sig_id'].map(dct2)\n",
    "train_score.fold = train_score.fold.astype('int8')\n",
    "folds.append(train_score.fold.values)\n",
    "    \n",
    "np.array(folds)"
   ]
  },
  {
   "cell_type": "markdown",
   "metadata": {
    "papermill": {
     "duration": 0.024431,
     "end_time": "2020-11-09T10:02:44.120042",
     "exception": false,
     "start_time": "2020-11-09T10:02:44.095611",
     "status": "completed"
    },
    "tags": []
   },
   "source": [
    "# Feature engineering "
   ]
  },
  {
   "cell_type": "code",
   "execution_count": 7,
   "metadata": {
    "execution": {
     "iopub.execute_input": "2020-11-09T10:02:44.184280Z",
     "iopub.status.busy": "2020-11-09T10:02:44.183501Z",
     "iopub.status.idle": "2020-11-09T10:02:44.598377Z",
     "shell.execute_reply": "2020-11-09T10:02:44.599286Z"
    },
    "papermill": {
     "duration": 0.454651,
     "end_time": "2020-11-09T10:02:44.599437",
     "exception": false,
     "start_time": "2020-11-09T10:02:44.144786",
     "status": "completed"
    },
    "tags": []
   },
   "outputs": [
    {
     "name": "stdout",
     "output_type": "stream",
     "text": [
      "33\n"
     ]
    }
   ],
   "source": [
    "X = train.iloc[:,4:].copy().values\n",
    "select = VarianceThreshold(threshold=0.7)\n",
    "X_new = select.fit_transform(X)\n",
    "drop_feats = list(np.array(train.iloc[:,4:].columns)[select.get_support()==False])\n",
    "print(len(drop_feats))"
   ]
  },
  {
   "cell_type": "code",
   "execution_count": 8,
   "metadata": {
    "execution": {
     "iopub.execute_input": "2020-11-09T10:02:44.694927Z",
     "iopub.status.busy": "2020-11-09T10:02:44.691661Z",
     "iopub.status.idle": "2020-11-09T10:02:44.704235Z",
     "shell.execute_reply": "2020-11-09T10:02:44.703683Z"
    },
    "papermill": {
     "duration": 0.083565,
     "end_time": "2020-11-09T10:02:44.704347",
     "exception": false,
     "start_time": "2020-11-09T10:02:44.620782",
     "status": "completed"
    },
    "tags": []
   },
   "outputs": [],
   "source": [
    "train.drop(drop_feats, axis=1, inplace=True)\n",
    "test.drop(drop_feats, axis=1, inplace=True)\n",
    "\n",
    "g_feats = [i for i in train.columns if \"g-\" in i]\n",
    "c_feats = [i for i in train.columns if \"c-\" in i]"
   ]
  },
  {
   "cell_type": "code",
   "execution_count": 9,
   "metadata": {
    "execution": {
     "iopub.execute_input": "2020-11-09T10:02:44.752187Z",
     "iopub.status.busy": "2020-11-09T10:02:44.751539Z",
     "iopub.status.idle": "2020-11-09T10:02:54.812368Z",
     "shell.execute_reply": "2020-11-09T10:02:54.811725Z"
    },
    "papermill": {
     "duration": 10.088726,
     "end_time": "2020-11-09T10:02:54.812489",
     "exception": false,
     "start_time": "2020-11-09T10:02:44.723763",
     "status": "completed"
    },
    "tags": []
   },
   "outputs": [],
   "source": [
    "# rank gauss\n",
    "for i in c_feats + g_feats:\n",
    "    ss = preprocessing.QuantileTransformer(n_quantiles=1000, random_state=0, output_distribution=\"normal\")\n",
    "    ss.fit(train[i].values.reshape(-1,1))\n",
    "    train[i] = ss.transform(train[i].values.reshape(-1,1))\n",
    "    test[i] = ss.transform(test[i].values.reshape(-1,1))"
   ]
  },
  {
   "cell_type": "code",
   "execution_count": 10,
   "metadata": {
    "execution": {
     "iopub.execute_input": "2020-11-09T10:02:54.872651Z",
     "iopub.status.busy": "2020-11-09T10:02:54.871471Z",
     "iopub.status.idle": "2020-11-09T10:02:56.564492Z",
     "shell.execute_reply": "2020-11-09T10:02:56.563359Z"
    },
    "papermill": {
     "duration": 1.732426,
     "end_time": "2020-11-09T10:02:56.564619",
     "exception": false,
     "start_time": "2020-11-09T10:02:54.832193",
     "status": "completed"
    },
    "tags": []
   },
   "outputs": [],
   "source": [
    "c_num = 5\n",
    "pca_c_cols = [\"pca-c\"+str(i+1) for i in range(c_num)]\n",
    "pca = PCA(n_components=c_num,random_state=42)\n",
    "c_train = pca.fit_transform(train[c_feats])\n",
    "c_test = pca.transform(test[c_feats])\n",
    "c_train = pd.DataFrame(c_train, columns=pca_c_cols)\n",
    "c_test = pd.DataFrame(c_test, columns=pca_c_cols)\n",
    "\n",
    "g_num = 30\n",
    "pca_g_cols = [\"pca-g\"+str(i+1) for i in range(g_num)]\n",
    "pca = PCA(n_components=g_num, random_state=42)\n",
    "g_train = pca.fit_transform(train[g_feats])\n",
    "g_test = pca.transform(test[g_feats])\n",
    "g_train = pd.DataFrame(g_train, columns=pca_g_cols)\n",
    "g_test = pd.DataFrame(g_test, columns=pca_g_cols)\n",
    "\n",
    "train = pd.concat([train, c_train],axis=1)\n",
    "test = pd.concat([test, c_test],axis=1)\n",
    "train = pd.concat([train, g_train],axis=1)\n",
    "test = pd.concat([test, g_test],axis=1)"
   ]
  },
  {
   "cell_type": "code",
   "execution_count": 11,
   "metadata": {
    "execution": {
     "iopub.execute_input": "2020-11-09T10:02:56.610728Z",
     "iopub.status.busy": "2020-11-09T10:02:56.608968Z",
     "iopub.status.idle": "2020-11-09T10:02:56.611417Z",
     "shell.execute_reply": "2020-11-09T10:02:56.611927Z"
    },
    "papermill": {
     "duration": 0.027457,
     "end_time": "2020-11-09T10:02:56.612075",
     "exception": false,
     "start_time": "2020-11-09T10:02:56.584618",
     "status": "completed"
    },
    "tags": []
   },
   "outputs": [],
   "source": [
    "#uc_num = 1\n",
    "#um = UMAP(n_neighbors=20, n_components=uc_num, random_state=42)\n",
    "#um_c_cols = [\"um-c\"+str(i+1) for i in range(uc_num)]\n",
    "#uc_train = um.fit_transform(train[c_feats])\n",
    "#uc_test = um.transform(test[c_feats])\n",
    "#uc_train = pd.DataFrame(uc_train, columns=um_c_cols)\n",
    "#uc_test = pd.DataFrame(uc_test, columns=um_c_cols)\n",
    "\n",
    "#ug_num = 5\n",
    "#um = UMAP(n_neighbors=20, n_components=ug_num, random_state=42)\n",
    "#um_g_cols = [\"um-g\"+str(i+1) for i in range(ug_num)]\n",
    "#ug_train = um.fit_transform(train[g_feats])\n",
    "#ug_test = um.transform(test[g_feats])\n",
    "#ug_train = pd.DataFrame(ug_train, columns=um_g_cols)\n",
    "#ug_test = pd.DataFrame(ug_test, columns=um_g_cols)\n",
    "\n",
    "#train = pd.concat([train, uc_train],axis=1)\n",
    "#test = pd.concat([test, uc_test],axis=1)\n",
    "#train = pd.concat([train, ug_train],axis=1)\n",
    "#test = pd.concat([test, ug_test],axis=1)"
   ]
  },
  {
   "cell_type": "code",
   "execution_count": 12,
   "metadata": {
    "execution": {
     "iopub.execute_input": "2020-11-09T10:02:56.662210Z",
     "iopub.status.busy": "2020-11-09T10:02:56.660911Z",
     "iopub.status.idle": "2020-11-09T10:02:58.465843Z",
     "shell.execute_reply": "2020-11-09T10:02:58.466310Z"
    },
    "papermill": {
     "duration": 1.834728,
     "end_time": "2020-11-09T10:02:58.466457",
     "exception": false,
     "start_time": "2020-11-09T10:02:56.631729",
     "status": "completed"
    },
    "tags": []
   },
   "outputs": [
    {
     "name": "stdout",
     "output_type": "stream",
     "text": [
      "(21948, 883) (3624, 883)\n"
     ]
    }
   ],
   "source": [
    "def fe(df):\n",
    "    tmp = df.copy()\n",
    "    tmp['g_kurt'] = tmp[g_feats].kurtosis(axis = 1)\n",
    "    tmp['g_skew'] = tmp[g_feats].skew(axis = 1)\n",
    "    tmp['c_kurt'] = tmp[c_feats].kurtosis(axis = 1)\n",
    "    tmp['c_skew'] = tmp[c_feats].skew(axis = 1)\n",
    "    tmp = pd.get_dummies(tmp, columns=['cp_time','cp_dose'])\n",
    "    tmp.drop([\"cp_type\", \"sig_id\"], axis=1, inplace=True) \n",
    "    return tmp\n",
    "\n",
    "train = fe(train)\n",
    "test = fe(test)\n",
    "\n",
    "print(train.shape, test.shape)"
   ]
  },
  {
   "cell_type": "code",
   "execution_count": 13,
   "metadata": {
    "execution": {
     "iopub.execute_input": "2020-11-09T10:02:58.515307Z",
     "iopub.status.busy": "2020-11-09T10:02:58.513506Z",
     "iopub.status.idle": "2020-11-09T10:02:58.515948Z",
     "shell.execute_reply": "2020-11-09T10:02:58.516427Z"
    },
    "papermill": {
     "duration": 0.029335,
     "end_time": "2020-11-09T10:02:58.516549",
     "exception": false,
     "start_time": "2020-11-09T10:02:58.487214",
     "status": "completed"
    },
    "tags": []
   },
   "outputs": [],
   "source": [
    "train[\"fold\"] = np.array(folds).reshape(-1,1)"
   ]
  },
  {
   "cell_type": "code",
   "execution_count": 14,
   "metadata": {
    "execution": {
     "iopub.execute_input": "2020-11-09T10:02:58.563866Z",
     "iopub.status.busy": "2020-11-09T10:02:58.562606Z",
     "iopub.status.idle": "2020-11-09T10:02:58.716321Z",
     "shell.execute_reply": "2020-11-09T10:02:58.716799Z"
    },
    "papermill": {
     "duration": 0.180048,
     "end_time": "2020-11-09T10:02:58.716978",
     "exception": false,
     "start_time": "2020-11-09T10:02:58.536930",
     "status": "completed"
    },
    "tags": []
   },
   "outputs": [],
   "source": [
    "fn_train = train.copy().to_numpy()\n",
    "fn_test = test.copy().to_numpy()\n",
    "\n",
    "fn_targets = targets.drop(\"sig_id\", axis=1).copy().to_numpy()"
   ]
  },
  {
   "cell_type": "markdown",
   "metadata": {
    "papermill": {
     "duration": 0.023165,
     "end_time": "2020-11-09T10:02:58.762450",
     "exception": false,
     "start_time": "2020-11-09T10:02:58.739285",
     "status": "completed"
    },
    "tags": []
   },
   "source": [
    "# modelling"
   ]
  },
  {
   "cell_type": "code",
   "execution_count": 15,
   "metadata": {
    "execution": {
     "iopub.execute_input": "2020-11-09T10:02:59.246404Z",
     "iopub.status.busy": "2020-11-09T10:02:59.245562Z",
     "iopub.status.idle": "2020-11-09T10:02:59.249067Z",
     "shell.execute_reply": "2020-11-09T10:02:59.248439Z"
    },
    "papermill": {
     "duration": 0.463759,
     "end_time": "2020-11-09T10:02:59.249176",
     "exception": false,
     "start_time": "2020-11-09T10:02:58.785417",
     "status": "completed"
    },
    "tags": []
   },
   "outputs": [],
   "source": [
    "device = \"cuda\" if torch.cuda.is_available() else \"cpu\""
   ]
  },
  {
   "cell_type": "code",
   "execution_count": 16,
   "metadata": {
    "execution": {
     "iopub.execute_input": "2020-11-09T10:02:59.302204Z",
     "iopub.status.busy": "2020-11-09T10:02:59.301462Z",
     "iopub.status.idle": "2020-11-09T10:02:59.304864Z",
     "shell.execute_reply": "2020-11-09T10:02:59.304400Z"
    },
    "papermill": {
     "duration": 0.034816,
     "end_time": "2020-11-09T10:02:59.304964",
     "exception": false,
     "start_time": "2020-11-09T10:02:59.270148",
     "status": "completed"
    },
    "tags": []
   },
   "outputs": [],
   "source": [
    "class SmoothCrossEntropyLoss(_WeightedLoss):\n",
    "    def __init__(self, weight=None, reduction='mean', smoothing=0.0):\n",
    "        super().__init__(weight=weight, reduction=reduction)\n",
    "        self.smoothing = smoothing\n",
    "        self.weight = weight\n",
    "        self.reduction = reduction\n",
    "\n",
    "    @staticmethod\n",
    "    def _smooth(targets, n_classes, smoothing=0.0):\n",
    "        assert 0 <= smoothing <= 1\n",
    "        with torch.no_grad():\n",
    "            targets = targets * (1 - smoothing) + torch.ones_like(targets).to(device) * smoothing / n_classes\n",
    "        return targets\n",
    "\n",
    "    def forward(self, inputs, targets):\n",
    "        targets = SmoothCrossEntropyLoss()._smooth(targets, inputs.shape[1], self.smoothing)\n",
    "\n",
    "        if self.weight is not None:\n",
    "            inputs = inputs * self.weight.unsqueeze(0)\n",
    "\n",
    "        loss = F.binary_cross_entropy_with_logits(inputs, targets)\n",
    "\n",
    "        return loss"
   ]
  },
  {
   "cell_type": "code",
   "execution_count": 17,
   "metadata": {
    "execution": {
     "iopub.execute_input": "2020-11-09T10:02:59.365877Z",
     "iopub.status.busy": "2020-11-09T10:02:59.363836Z",
     "iopub.status.idle": "2020-11-09T10:02:59.368388Z",
     "shell.execute_reply": "2020-11-09T10:02:59.367700Z"
    },
    "papermill": {
     "duration": 0.042237,
     "end_time": "2020-11-09T10:02:59.368500",
     "exception": false,
     "start_time": "2020-11-09T10:02:59.326263",
     "status": "completed"
    },
    "tags": []
   },
   "outputs": [
    {
     "name": "stdout",
     "output_type": "stream",
     "text": [
      "cuda\n"
     ]
    }
   ],
   "source": [
    "print(device)\n",
    "def seed_everything(seed=42): \n",
    "    random.seed(seed)\n",
    "    os.environ['PYTHONHASHSEED'] = str(seed)\n",
    "    tf.random.set_seed(seed)\n",
    "    np.random.seed(seed)\n",
    "    torch.manual_seed(seed)\n",
    "    torch.cuda.manual_seed(seed)\n",
    "    torch.backends.cudnn.deterministic = True\n",
    "\n",
    "class MoaModel(nn.Module):\n",
    "    def __init__(self, num_columns, last_num):\n",
    "        super(MoaModel, self).__init__()\n",
    "        self.batch_norm1 = nn.BatchNorm1d(num_columns)\n",
    "        self.dropout1 = nn.Dropout(0.1)\n",
    "        self.dense1 = nn.utils.weight_norm(nn.Linear(num_columns, 1024))\n",
    "        self.relu1 = nn.LeakyReLU()\n",
    "        \n",
    "        self.batch_norm2 = nn.BatchNorm1d(1024)\n",
    "        self.dropout2 = nn.Dropout(0.1)\n",
    "        self.dense2 = nn.utils.weight_norm(nn.Linear(1024, 1024))\n",
    "        self.relu2 = nn.LeakyReLU()\n",
    "        \n",
    "        self.batch_norm3 = nn.BatchNorm1d(1024)\n",
    "        self.dropout3 = nn.Dropout(0.1)\n",
    "        self.dense3 = nn.utils.weight_norm(nn.Linear(1024, last_num))\n",
    "    \n",
    "    def forward(self, x):\n",
    "        x = self.batch_norm1(x)\n",
    "        x = self.dropout1(x)\n",
    "        x = self.relu1(self.dense1(x))\n",
    "        \n",
    "        x = self.batch_norm2(x)\n",
    "        x = self.dropout2(x)\n",
    "        x = self.relu2(self.dense2(x))\n",
    "        \n",
    "        x = self.batch_norm3(x)\n",
    "        x = self.dropout3(x)\n",
    "        x = self.dense3(x)\n",
    "        \n",
    "        return x"
   ]
  },
  {
   "cell_type": "markdown",
   "metadata": {
    "papermill": {
     "duration": 0.021205,
     "end_time": "2020-11-09T10:02:59.418097",
     "exception": false,
     "start_time": "2020-11-09T10:02:59.396892",
     "status": "completed"
    },
    "tags": []
   },
   "source": [
    "# modelling"
   ]
  },
  {
   "cell_type": "code",
   "execution_count": 18,
   "metadata": {
    "execution": {
     "iopub.execute_input": "2020-11-09T10:02:59.475466Z",
     "iopub.status.busy": "2020-11-09T10:02:59.470304Z",
     "iopub.status.idle": "2020-11-09T10:02:59.515047Z",
     "shell.execute_reply": "2020-11-09T10:02:59.514510Z"
    },
    "papermill": {
     "duration": 0.075628,
     "end_time": "2020-11-09T10:02:59.515163",
     "exception": false,
     "start_time": "2020-11-09T10:02:59.439535",
     "status": "completed"
    },
    "tags": []
   },
   "outputs": [],
   "source": [
    "batch_size = 128\n",
    "n_folds=7\n",
    "EARLY_STOPPING_STEPS = 10\n",
    "smoothing = 0.001\n",
    "p_min = smoothing\n",
    "p_max = 1 - smoothing\n",
    "\n",
    "def mean_log_loss(y_true, y_pred):\n",
    "    metrics = []\n",
    "    for i, target in enumerate(target_feats):\n",
    "        metrics.append(log_loss(y_true[:, i], y_pred[:, i].astype(float), labels=[0,1]))\n",
    "    return np.mean(metrics)\n",
    "\n",
    "def modelling_torch(tr, target, te, sample_seed, init_num, last_num, train_epochs):\n",
    "    seed_everything(seed=sample_seed) \n",
    "    X_train = tr.copy()\n",
    "    y_train = target.copy()\n",
    "    X_test = te.copy()\n",
    "    test_len = X_test.shape[0]\n",
    "    \n",
    "    mskf=MultilabelStratifiedKFold(n_splits = n_folds, shuffle=True, random_state=224)\n",
    "    metric = lambda inputs, targets : F.binary_cross_entropy((torch.clamp(torch.sigmoid(inputs), p_min, p_max)), targets)\n",
    "\n",
    "    models = []\n",
    "    \n",
    "    X_test2 = torch.tensor(X_test, dtype=torch.float32)\n",
    "    test = torch.utils.data.TensorDataset(X_test2) \n",
    "    test_loader = torch.utils.data.DataLoader(test, batch_size=batch_size, shuffle=False)\n",
    "    \n",
    "    oof = np.zeros([len(X_train),y_train.shape[1]])\n",
    "    oof_targets = np.zeros([len(X_train),y_train.shape[1]])\n",
    "    pred_value = np.zeros([test_len, y_train.shape[1]])\n",
    "    scores = []\n",
    "    for fold in range(n_folds):\n",
    "        valid_index = X_train[:,-1] == fold\n",
    "        train_index = X_train[:,-1] != fold\n",
    "        print(\"Fold \"+str(fold+1))\n",
    "        X_train2 = torch.tensor(X_train[train_index,:], dtype=torch.float32)\n",
    "        X_valid2 = torch.tensor(X_train[valid_index,:], dtype=torch.float32)\n",
    "        X_train2 = X_train2[:,:-1]\n",
    "        X_valid2 = X_valid2[:,:-1]\n",
    "        \n",
    "        y_train2 = torch.tensor(y_train[train_index], dtype=torch.float32)\n",
    "        y_valid2 = torch.tensor(y_train[valid_index], dtype=torch.float32)\n",
    "        \n",
    "        train = torch.utils.data.TensorDataset(X_train2, y_train2)\n",
    "        valid = torch.utils.data.TensorDataset(X_valid2, y_valid2)\n",
    "        \n",
    "        train_loader = torch.utils.data.DataLoader(train, batch_size=batch_size, shuffle=True) \n",
    "        valid_loader = torch.utils.data.DataLoader(valid, batch_size=batch_size, shuffle=False)\n",
    "            \n",
    "        clf = MoaModel(init_num, last_num)\n",
    "        loss_fn = SmoothCrossEntropyLoss(smoothing=smoothing)\n",
    "\n",
    "        optimizer = optim.Adam(clf.parameters(), lr = 0.001, weight_decay=1e-5) \n",
    "        scheduler = optim.lr_scheduler.OneCycleLR(optimizer=optimizer, pct_start=0.1, div_factor=1e3, \n",
    "                                              max_lr=1e-2, epochs=train_epochs, steps_per_epoch=len(train_loader))\n",
    "        \n",
    "        clf.to(device)\n",
    "        \n",
    "        best_val_loss = np.inf\n",
    "        stop_counts = 0\n",
    "        for epoch in range(train_epochs):\n",
    "            start_time = time.time()\n",
    "            clf.train()\n",
    "            avg_loss = 0.\n",
    "            sm_avg_loss = 0.\n",
    "            for x_batch, y_batch in tqdm(train_loader, disable=True):\n",
    "                x_batch = x_batch.to(device)\n",
    "                y_batch = y_batch.to(device)\n",
    "                y_pred = clf(x_batch) \n",
    "                loss = loss_fn(y_pred, y_batch)\n",
    "                optimizer.zero_grad()\n",
    "                loss.backward()\n",
    "                optimizer.step()\n",
    "                scheduler.step()\n",
    "                avg_loss += loss.item() / len(train_loader)  \n",
    "                sm_avg_loss += metric(y_pred, y_batch) / len(train_loader) \n",
    "                \n",
    "            clf.eval()\n",
    "            avg_val_loss = 0.\n",
    "            sm_avg_val_loss = 0.\n",
    "            for i, (x_batch, y_batch) in enumerate(valid_loader): \n",
    "                x_batch = x_batch.to(device)\n",
    "                y_batch = y_batch.to(device)\n",
    "                y_pred = clf(x_batch).detach()\n",
    "                avg_val_loss += loss_fn(y_pred, y_batch).item() / len(valid_loader)\n",
    "                sm_avg_val_loss += metric(y_pred, y_batch) / len(valid_loader)\n",
    "        \n",
    "            elapsed_time = time.time() - start_time \n",
    "            #scheduler.step() #avg_val_loss # maybe mistake\n",
    "                    \n",
    "            if sm_avg_val_loss < best_val_loss:\n",
    "                best_val_loss = sm_avg_val_loss\n",
    "                print('Epoch {}   loss={:.5f}   val_loss={:.5f}   sm_loss={:.5f}   sm_val_loss={:.5f}   time={:.2f}s'.format(\n",
    "                    epoch + 1, avg_loss, avg_val_loss, sm_avg_loss, sm_avg_val_loss, elapsed_time))\n",
    "                torch.save(clf.state_dict(), 'best-model-parameters.pt')\n",
    "            else:\n",
    "                stop_counts += 1\n",
    "        \n",
    "        pred_model = MoaModel(init_num, last_num)\n",
    "        pred_model.load_state_dict(torch.load('best-model-parameters.pt'))         \n",
    "        pred_model.eval()\n",
    "        \n",
    "        # validation check ----------------\n",
    "        oof_epoch = np.zeros([X_valid2.size(0), y_train.shape[1]])\n",
    "        target_epoch = np.zeros([X_valid2.size(0), y_train.shape[1]])\n",
    "        for i, (x_batch, y_batch) in enumerate(valid_loader): \n",
    "                y_pred = pred_model(x_batch).detach()\n",
    "                oof_epoch[i * batch_size:(i+1) * batch_size,:] = torch.clamp(torch.sigmoid(y_pred.cpu()), p_min, p_max)\n",
    "                target_epoch[i * batch_size:(i+1) * batch_size,:] = y_batch.cpu().numpy()\n",
    "        print(\"Fold {} log loss: {}\".format(fold+1, mean_log_loss(target_epoch, oof_epoch)))\n",
    "        scores.append(mean_log_loss(target_epoch, oof_epoch))\n",
    "        oof[valid_index,:] = oof_epoch\n",
    "        oof_targets[valid_index,:] = target_epoch\n",
    "        #-----------------------------------\n",
    "        \n",
    "        # test predcition --------------\n",
    "        test_preds = np.zeros([test_len, y_train.shape[1]])\n",
    "        for i, (x_batch,) in enumerate(test_loader): \n",
    "            y_pred = pred_model(x_batch).detach()\n",
    "            test_preds[i * batch_size:(i+1) * batch_size, :] = torch.clamp(torch.sigmoid(y_pred.cpu()), p_min, p_max)\n",
    "        pred_value += test_preds / n_folds\n",
    "        # ------------------------------\n",
    "        \n",
    "    print(\"Seed {}\".format(seed_))\n",
    "    for i, ele in enumerate(scores):\n",
    "        print(\"Fold {} log loss: {}\".format(i+1, scores[i]))\n",
    "    print(\"Std of log loss: {}\".format(np.std(scores)))\n",
    "    print(\"Total log loss: {}\".format(mean_log_loss(oof_targets, oof)))\n",
    "    \n",
    "    return oof, oof_targets, pred_value"
   ]
  },
  {
   "cell_type": "code",
   "execution_count": 19,
   "metadata": {
    "execution": {
     "iopub.execute_input": "2020-11-09T10:02:59.576463Z",
     "iopub.status.busy": "2020-11-09T10:02:59.575774Z",
     "iopub.status.idle": "2020-11-09T10:14:51.750195Z",
     "shell.execute_reply": "2020-11-09T10:14:51.750778Z"
    },
    "papermill": {
     "duration": 712.207993,
     "end_time": "2020-11-09T10:14:51.750934",
     "exception": false,
     "start_time": "2020-11-09T10:02:59.542941",
     "status": "completed"
    },
    "tags": []
   },
   "outputs": [
    {
     "name": "stdout",
     "output_type": "stream",
     "text": [
      "Fold 1\n",
      "Epoch 1   loss=0.41421   val_loss=0.02292   sm_loss=0.41416   sm_val_loss=0.02289   time=1.62s\n",
      "Epoch 2   loss=0.02010   val_loss=0.01904   sm_loss=0.02007   sm_val_loss=0.01902   time=0.83s\n",
      "Epoch 3   loss=0.01820   val_loss=0.01855   sm_loss=0.01823   sm_val_loss=0.01859   time=0.84s\n",
      "Epoch 4   loss=0.01746   val_loss=0.01809   sm_loss=0.01758   sm_val_loss=0.01807   time=0.84s\n",
      "Epoch 5   loss=0.01736   val_loss=0.01788   sm_loss=0.01748   sm_val_loss=0.01788   time=0.85s\n",
      "Epoch 7   loss=0.01730   val_loss=0.01782   sm_loss=0.01742   sm_val_loss=0.01783   time=0.83s\n",
      "Epoch 11   loss=0.01693   val_loss=0.01754   sm_loss=0.01706   sm_val_loss=0.01757   time=0.84s\n",
      "Epoch 12   loss=0.01678   val_loss=0.01746   sm_loss=0.01692   sm_val_loss=0.01749   time=0.98s\n",
      "Epoch 13   loss=0.01650   val_loss=0.01743   sm_loss=0.01665   sm_val_loss=0.01745   time=0.91s\n",
      "Epoch 14   loss=0.01620   val_loss=0.01730   sm_loss=0.01636   sm_val_loss=0.01733   time=0.87s\n",
      "Epoch 16   loss=0.01550   val_loss=0.01708   sm_loss=0.01568   sm_val_loss=0.01706   time=0.83s\n",
      "Epoch 17   loss=0.01505   val_loss=0.01702   sm_loss=0.01525   sm_val_loss=0.01702   time=0.88s\n",
      "Fold 1 log loss: 0.017127221284623687\n",
      "Fold 2\n",
      "Epoch 1   loss=0.41386   val_loss=0.02216   sm_loss=0.41382   sm_val_loss=0.02216   time=0.88s\n",
      "Epoch 3   loss=0.01833   val_loss=0.01779   sm_loss=0.01836   sm_val_loss=0.01786   time=1.05s\n",
      "Epoch 4   loss=0.01779   val_loss=0.01787   sm_loss=0.01788   sm_val_loss=0.01783   time=0.87s\n",
      "Epoch 5   loss=0.01745   val_loss=0.01752   sm_loss=0.01757   sm_val_loss=0.01753   time=0.88s\n",
      "Epoch 7   loss=0.01728   val_loss=0.01737   sm_loss=0.01741   sm_val_loss=0.01741   time=0.87s\n",
      "Epoch 11   loss=0.01699   val_loss=0.01723   sm_loss=0.01713   sm_val_loss=0.01726   time=0.92s\n",
      "Epoch 12   loss=0.01674   val_loss=0.01709   sm_loss=0.01688   sm_val_loss=0.01713   time=0.89s\n",
      "Epoch 14   loss=0.01625   val_loss=0.01701   sm_loss=0.01641   sm_val_loss=0.01704   time=1.21s\n",
      "Epoch 15   loss=0.01581   val_loss=0.01689   sm_loss=0.01599   sm_val_loss=0.01693   time=1.13s\n",
      "Fold 2 log loss: 0.01705514957083214\n",
      "Fold 3\n",
      "Epoch 1   loss=0.41441   val_loss=0.02328   sm_loss=0.41434   sm_val_loss=0.02327   time=0.87s\n",
      "Epoch 2   loss=0.02011   val_loss=0.01967   sm_loss=0.02004   sm_val_loss=0.01966   time=0.92s\n",
      "Epoch 3   loss=0.01783   val_loss=0.01857   sm_loss=0.01790   sm_val_loss=0.01858   time=0.84s\n",
      "Epoch 5   loss=0.01730   val_loss=0.01806   sm_loss=0.01742   sm_val_loss=0.01808   time=1.10s\n",
      "Epoch 10   loss=0.01697   val_loss=0.01808   sm_loss=0.01710   sm_val_loss=0.01808   time=0.86s\n",
      "Epoch 12   loss=0.01668   val_loss=0.01797   sm_loss=0.01682   sm_val_loss=0.01799   time=1.13s\n",
      "Epoch 13   loss=0.01636   val_loss=0.01797   sm_loss=0.01651   sm_val_loss=0.01795   time=0.95s\n",
      "Epoch 14   loss=0.01611   val_loss=0.01784   sm_loss=0.01628   sm_val_loss=0.01783   time=0.86s\n",
      "Epoch 15   loss=0.01576   val_loss=0.01771   sm_loss=0.01594   sm_val_loss=0.01769   time=0.85s\n",
      "Epoch 16   loss=0.01527   val_loss=0.01756   sm_loss=0.01546   sm_val_loss=0.01756   time=0.86s\n",
      "Epoch 18   loss=0.01437   val_loss=0.01751   sm_loss=0.01459   sm_val_loss=0.01748   time=0.85s\n",
      "Fold 3 log loss: 0.017431594485562613\n",
      "Fold 4\n",
      "Epoch 1   loss=0.41315   val_loss=0.02317   sm_loss=0.41309   sm_val_loss=0.02315   time=0.87s\n",
      "Epoch 2   loss=0.01996   val_loss=0.02258   sm_loss=0.01993   sm_val_loss=0.02247   time=0.88s\n",
      "Epoch 3   loss=0.01803   val_loss=0.02007   sm_loss=0.01807   sm_val_loss=0.01999   time=0.86s\n",
      "Epoch 4   loss=0.01744   val_loss=0.01849   sm_loss=0.01755   sm_val_loss=0.01843   time=0.87s\n",
      "Epoch 6   loss=0.01722   val_loss=0.01833   sm_loss=0.01735   sm_val_loss=0.01829   time=0.85s\n",
      "Epoch 9   loss=0.01711   val_loss=0.01822   sm_loss=0.01723   sm_val_loss=0.01823   time=0.86s\n",
      "Epoch 10   loss=0.01698   val_loss=0.01815   sm_loss=0.01712   sm_val_loss=0.01813   time=0.84s\n",
      "Epoch 11   loss=0.01681   val_loss=0.01805   sm_loss=0.01695   sm_val_loss=0.01803   time=0.85s\n",
      "Epoch 14   loss=0.01607   val_loss=0.01786   sm_loss=0.01623   sm_val_loss=0.01783   time=0.83s\n",
      "Epoch 15   loss=0.01575   val_loss=0.01768   sm_loss=0.01593   sm_val_loss=0.01768   time=0.86s\n",
      "Epoch 17   loss=0.01483   val_loss=0.01768   sm_loss=0.01504   sm_val_loss=0.01768   time=0.86s\n",
      "Epoch 18   loss=0.01436   val_loss=0.01769   sm_loss=0.01458   sm_val_loss=0.01768   time=0.88s\n",
      "Epoch 19   loss=0.01401   val_loss=0.01770   sm_loss=0.01424   sm_val_loss=0.01768   time=0.94s\n",
      "Fold 4 log loss: 0.01777103594169573\n",
      "Fold 5\n",
      "Epoch 1   loss=0.41424   val_loss=0.02222   sm_loss=0.41419   sm_val_loss=0.02221   time=0.87s\n",
      "Epoch 3   loss=0.01822   val_loss=0.01820   sm_loss=0.01820   sm_val_loss=0.01822   time=0.84s\n",
      "Epoch 4   loss=0.01748   val_loss=0.01806   sm_loss=0.01759   sm_val_loss=0.01806   time=1.04s\n",
      "Epoch 5   loss=0.01731   val_loss=0.01778   sm_loss=0.01743   sm_val_loss=0.01781   time=1.00s\n",
      "Epoch 8   loss=0.01726   val_loss=0.01773   sm_loss=0.01738   sm_val_loss=0.01776   time=0.85s\n",
      "Epoch 11   loss=0.01689   val_loss=0.01759   sm_loss=0.01702   sm_val_loss=0.01759   time=0.85s\n",
      "Epoch 12   loss=0.01674   val_loss=0.01733   sm_loss=0.01689   sm_val_loss=0.01737   time=0.87s\n",
      "Epoch 13   loss=0.01650   val_loss=0.01731   sm_loss=0.01665   sm_val_loss=0.01735   time=0.84s\n",
      "Epoch 15   loss=0.01587   val_loss=0.01720   sm_loss=0.01605   sm_val_loss=0.01723   time=1.30s\n",
      "Epoch 16   loss=0.01541   val_loss=0.01717   sm_loss=0.01560   sm_val_loss=0.01719   time=0.85s\n",
      "Epoch 17   loss=0.01487   val_loss=0.01711   sm_loss=0.01507   sm_val_loss=0.01712   time=0.86s\n",
      "Epoch 18   loss=0.01443   val_loss=0.01708   sm_loss=0.01464   sm_val_loss=0.01708   time=1.10s\n",
      "Epoch 19   loss=0.01404   val_loss=0.01698   sm_loss=0.01427   sm_val_loss=0.01699   time=0.86s\n",
      "Fold 5 log loss: 0.01725272703756053\n",
      "Fold 6\n",
      "Epoch 1   loss=0.41417   val_loss=0.02288   sm_loss=0.41410   sm_val_loss=0.02287   time=0.99s\n",
      "Epoch 3   loss=0.02491   val_loss=0.01950   sm_loss=0.02449   sm_val_loss=0.01953   time=0.84s\n",
      "Epoch 4   loss=0.01891   val_loss=0.01887   sm_loss=0.01899   sm_val_loss=0.01892   time=0.85s\n",
      "Epoch 5   loss=0.01814   val_loss=0.01847   sm_loss=0.01825   sm_val_loss=0.01854   time=0.87s\n",
      "Epoch 6   loss=0.01787   val_loss=0.01843   sm_loss=0.01797   sm_val_loss=0.01850   time=0.87s\n",
      "Epoch 7   loss=0.01756   val_loss=0.01819   sm_loss=0.01768   sm_val_loss=0.01825   time=0.85s\n",
      "Epoch 8   loss=0.01737   val_loss=0.01800   sm_loss=0.01749   sm_val_loss=0.01811   time=0.87s\n",
      "Epoch 9   loss=0.01716   val_loss=0.01802   sm_loss=0.01729   sm_val_loss=0.01809   time=0.85s\n",
      "Epoch 10   loss=0.01707   val_loss=0.01779   sm_loss=0.01720   sm_val_loss=0.01787   time=0.86s\n",
      "Epoch 12   loss=0.01669   val_loss=0.01758   sm_loss=0.01683   sm_val_loss=0.01768   time=1.07s\n",
      "Epoch 14   loss=0.01610   val_loss=0.01744   sm_loss=0.01626   sm_val_loss=0.01753   time=0.84s\n",
      "Epoch 16   loss=0.01533   val_loss=0.01732   sm_loss=0.01552   sm_val_loss=0.01741   time=0.85s\n",
      "Epoch 17   loss=0.01472   val_loss=0.01726   sm_loss=0.01491   sm_val_loss=0.01735   time=1.13s\n",
      "Fold 6 log loss: 0.017384927755384822\n",
      "Fold 7\n",
      "Epoch 1   loss=0.41347   val_loss=0.02290   sm_loss=0.41343   sm_val_loss=0.02289   time=0.88s\n",
      "Epoch 2   loss=0.01997   val_loss=0.01904   sm_loss=0.01995   sm_val_loss=0.01905   time=1.11s\n",
      "Epoch 3   loss=0.01801   val_loss=0.01787   sm_loss=0.01805   sm_val_loss=0.01794   time=0.87s\n",
      "Epoch 4   loss=0.01742   val_loss=0.01779   sm_loss=0.01752   sm_val_loss=0.01785   time=0.87s\n",
      "Epoch 9   loss=0.01713   val_loss=0.01772   sm_loss=0.01725   sm_val_loss=0.01780   time=0.85s\n",
      "Epoch 10   loss=0.01704   val_loss=0.01760   sm_loss=0.01717   sm_val_loss=0.01764   time=0.85s\n",
      "Epoch 11   loss=0.01687   val_loss=0.01749   sm_loss=0.01700   sm_val_loss=0.01756   time=0.86s\n",
      "Epoch 13   loss=0.01645   val_loss=0.01722   sm_loss=0.01660   sm_val_loss=0.01729   time=0.85s\n",
      "Epoch 14   loss=0.01613   val_loss=0.01710   sm_loss=0.01629   sm_val_loss=0.01717   time=1.00s\n",
      "Epoch 15   loss=0.01576   val_loss=0.01712   sm_loss=0.01594   sm_val_loss=0.01714   time=1.02s\n",
      "Epoch 16   loss=0.01532   val_loss=0.01698   sm_loss=0.01551   sm_val_loss=0.01703   time=0.93s\n",
      "Epoch 17   loss=0.01481   val_loss=0.01687   sm_loss=0.01501   sm_val_loss=0.01694   time=0.94s\n",
      "Fold 7 log loss: 0.01696673304388398\n",
      "Seed 0\n",
      "Fold 1 log loss: 0.017127221284623687\n",
      "Fold 2 log loss: 0.01705514957083214\n",
      "Fold 3 log loss: 0.017431594485562613\n",
      "Fold 4 log loss: 0.01777103594169573\n",
      "Fold 5 log loss: 0.01725272703756053\n",
      "Fold 6 log loss: 0.017384927755384822\n",
      "Fold 7 log loss: 0.01696673304388398\n",
      "Std of log loss: 0.000252915197804225\n",
      "Total log loss: 0.017283959265016007\n",
      "Fold 1\n",
      "Epoch 1   loss=0.41450   val_loss=0.02264   sm_loss=0.41445   sm_val_loss=0.02262   time=0.87s\n",
      "Epoch 2   loss=0.02010   val_loss=0.01912   sm_loss=0.02007   sm_val_loss=0.01910   time=0.85s\n",
      "Epoch 3   loss=0.01797   val_loss=0.01783   sm_loss=0.01801   sm_val_loss=0.01785   time=1.04s\n",
      "Epoch 8   loss=0.01724   val_loss=0.01784   sm_loss=0.01736   sm_val_loss=0.01782   time=0.94s\n",
      "Epoch 11   loss=0.01693   val_loss=0.01755   sm_loss=0.01706   sm_val_loss=0.01757   time=0.85s\n",
      "Epoch 13   loss=0.01647   val_loss=0.01739   sm_loss=0.01662   sm_val_loss=0.01741   time=1.01s\n",
      "Epoch 15   loss=0.01581   val_loss=0.01722   sm_loss=0.01598   sm_val_loss=0.01721   time=1.00s\n",
      "Epoch 16   loss=0.01538   val_loss=0.01718   sm_loss=0.01557   sm_val_loss=0.01719   time=0.99s\n",
      "Epoch 17   loss=0.01492   val_loss=0.01712   sm_loss=0.01513   sm_val_loss=0.01713   time=0.85s\n",
      "Epoch 18   loss=0.01441   val_loss=0.01713   sm_loss=0.01462   sm_val_loss=0.01712   time=0.89s\n",
      "Epoch 19   loss=0.01401   val_loss=0.01707   sm_loss=0.01423   sm_val_loss=0.01707   time=1.14s\n",
      "Fold 1 log loss: 0.017172710120072092\n",
      "Fold 2\n",
      "Epoch 1   loss=0.41208   val_loss=0.02190   sm_loss=0.41204   sm_val_loss=0.02190   time=0.89s\n",
      "Epoch 2   loss=0.02028   val_loss=0.01832   sm_loss=0.02022   sm_val_loss=0.01836   time=0.93s\n",
      "Epoch 3   loss=0.01805   val_loss=0.01754   sm_loss=0.01810   sm_val_loss=0.01759   time=0.88s\n",
      "Epoch 6   loss=0.01730   val_loss=0.01746   sm_loss=0.01743   sm_val_loss=0.01748   time=0.84s\n",
      "Epoch 7   loss=0.01733   val_loss=0.01741   sm_loss=0.01746   sm_val_loss=0.01743   time=0.84s\n",
      "Epoch 8   loss=0.01734   val_loss=0.01741   sm_loss=0.01746   sm_val_loss=0.01743   time=0.85s\n",
      "Epoch 11   loss=0.01692   val_loss=0.01714   sm_loss=0.01705   sm_val_loss=0.01717   time=0.84s\n",
      "Epoch 13   loss=0.01646   val_loss=0.01711   sm_loss=0.01662   sm_val_loss=0.01715   time=0.85s\n",
      "Epoch 15   loss=0.01583   val_loss=0.01706   sm_loss=0.01601   sm_val_loss=0.01709   time=0.87s\n",
      "Epoch 17   loss=0.01492   val_loss=0.01686   sm_loss=0.01512   sm_val_loss=0.01689   time=1.12s\n",
      "Fold 2 log loss: 0.01703025804632677\n",
      "Fold 3\n",
      "Epoch 1   loss=0.41440   val_loss=0.02267   sm_loss=0.41434   sm_val_loss=0.02264   time=0.88s\n",
      "Epoch 2   loss=0.01993   val_loss=0.01899   sm_loss=0.01992   sm_val_loss=0.01903   time=0.85s\n",
      "Epoch 3   loss=0.01796   val_loss=0.01827   sm_loss=0.01801   sm_val_loss=0.01831   time=0.85s\n",
      "Epoch 4   loss=0.01739   val_loss=0.01825   sm_loss=0.01750   sm_val_loss=0.01825   time=0.84s\n",
      "Epoch 5   loss=0.01728   val_loss=0.01818   sm_loss=0.01740   sm_val_loss=0.01820   time=0.87s\n",
      "Epoch 7   loss=0.01726   val_loss=0.01816   sm_loss=0.01737   sm_val_loss=0.01818   time=1.00s\n",
      "Epoch 9   loss=0.01712   val_loss=0.01817   sm_loss=0.01725   sm_val_loss=0.01818   time=0.86s\n",
      "Epoch 10   loss=0.01701   val_loss=0.01807   sm_loss=0.01713   sm_val_loss=0.01807   time=0.84s\n",
      "Epoch 11   loss=0.01685   val_loss=0.01806   sm_loss=0.01699   sm_val_loss=0.01806   time=0.84s\n",
      "Epoch 12   loss=0.01668   val_loss=0.01793   sm_loss=0.01682   sm_val_loss=0.01795   time=0.86s\n",
      "Epoch 13   loss=0.01639   val_loss=0.01770   sm_loss=0.01654   sm_val_loss=0.01768   time=0.84s\n",
      "Epoch 16   loss=0.01534   val_loss=0.01756   sm_loss=0.01553   sm_val_loss=0.01755   time=0.87s\n",
      "Epoch 17   loss=0.01479   val_loss=0.01753   sm_loss=0.01500   sm_val_loss=0.01752   time=0.86s\n",
      "Fold 3 log loss: 0.017477491694003453\n",
      "Fold 4\n",
      "Epoch 1   loss=0.41299   val_loss=0.02297   sm_loss=0.41293   sm_val_loss=0.02296   time=0.86s\n",
      "Epoch 2   loss=0.01992   val_loss=0.02268   sm_loss=0.01991   sm_val_loss=0.02184   time=0.85s\n",
      "Epoch 3   loss=0.01796   val_loss=0.01870   sm_loss=0.01804   sm_val_loss=0.01851   time=0.85s\n",
      "Epoch 4   loss=0.01735   val_loss=0.01835   sm_loss=0.01747   sm_val_loss=0.01828   time=0.85s\n",
      "Epoch 10   loss=0.01696   val_loss=0.01824   sm_loss=0.01710   sm_val_loss=0.01826   time=0.97s\n",
      "Epoch 11   loss=0.01681   val_loss=0.01812   sm_loss=0.01695   sm_val_loss=0.01812   time=1.00s\n",
      "Epoch 12   loss=0.01664   val_loss=0.01808   sm_loss=0.01679   sm_val_loss=0.01804   time=1.26s\n",
      "Epoch 13   loss=0.01639   val_loss=0.01798   sm_loss=0.01654   sm_val_loss=0.01797   time=0.93s\n",
      "Epoch 14   loss=0.01604   val_loss=0.01780   sm_loss=0.01620   sm_val_loss=0.01780   time=1.29s\n",
      "Epoch 15   loss=0.01567   val_loss=0.01768   sm_loss=0.01585   sm_val_loss=0.01770   time=0.86s\n",
      "Fold 4 log loss: 0.017798146915941147\n",
      "Fold 5\n",
      "Epoch 1   loss=0.41340   val_loss=0.02303   sm_loss=0.41333   sm_val_loss=0.02301   time=1.01s\n",
      "Epoch 2   loss=0.02016   val_loss=0.02263   sm_loss=0.02012   sm_val_loss=0.02229   time=0.91s\n",
      "Epoch 3   loss=0.01828   val_loss=0.01844   sm_loss=0.01826   sm_val_loss=0.01844   time=0.86s\n",
      "Epoch 4   loss=0.01760   val_loss=0.01803   sm_loss=0.01771   sm_val_loss=0.01806   time=0.85s\n",
      "Epoch 9   loss=0.01712   val_loss=0.01754   sm_loss=0.01725   sm_val_loss=0.01754   time=0.84s\n",
      "Epoch 12   loss=0.01666   val_loss=0.01731   sm_loss=0.01681   sm_val_loss=0.01736   time=1.10s\n",
      "Epoch 13   loss=0.01644   val_loss=0.01726   sm_loss=0.01660   sm_val_loss=0.01726   time=0.89s\n",
      "Epoch 15   loss=0.01580   val_loss=0.01717   sm_loss=0.01598   sm_val_loss=0.01715   time=0.88s\n",
      "Epoch 16   loss=0.01542   val_loss=0.01709   sm_loss=0.01561   sm_val_loss=0.01711   time=0.91s\n",
      "Epoch 17   loss=0.01486   val_loss=0.01709   sm_loss=0.01507   sm_val_loss=0.01708   time=0.85s\n",
      "Epoch 18   loss=0.01440   val_loss=0.01708   sm_loss=0.01462   sm_val_loss=0.01708   time=0.84s\n",
      "Epoch 19   loss=0.01397   val_loss=0.01707   sm_loss=0.01420   sm_val_loss=0.01707   time=0.85s\n",
      "Epoch 20   loss=0.01378   val_loss=0.01702   sm_loss=0.01400   sm_val_loss=0.01702   time=0.86s\n",
      "Fold 5 log loss: 0.017286900655516482\n",
      "Fold 6\n",
      "Epoch 1   loss=0.41267   val_loss=0.02349   sm_loss=0.41260   sm_val_loss=0.02347   time=0.86s\n",
      "Epoch 2   loss=0.02012   val_loss=0.01945   sm_loss=0.02009   sm_val_loss=0.01927   time=1.24s\n",
      "Epoch 3   loss=0.01820   val_loss=0.01862   sm_loss=0.01822   sm_val_loss=0.01869   time=1.30s\n",
      "Epoch 4   loss=0.01745   val_loss=0.01822   sm_loss=0.01756   sm_val_loss=0.01825   time=0.84s\n",
      "Epoch 5   loss=0.01738   val_loss=0.01805   sm_loss=0.01749   sm_val_loss=0.01814   time=0.88s\n",
      "Epoch 6   loss=0.01740   val_loss=0.01804   sm_loss=0.01752   sm_val_loss=0.01812   time=0.86s\n",
      "Epoch 10   loss=0.01713   val_loss=0.01786   sm_loss=0.01725   sm_val_loss=0.01793   time=0.85s\n",
      "Epoch 11   loss=0.01698   val_loss=0.01778   sm_loss=0.01711   sm_val_loss=0.01786   time=0.86s\n",
      "Epoch 12   loss=0.01678   val_loss=0.01768   sm_loss=0.01691   sm_val_loss=0.01776   time=0.88s\n",
      "Epoch 13   loss=0.01652   val_loss=0.01749   sm_loss=0.01666   sm_val_loss=0.01757   time=0.88s\n",
      "Epoch 14   loss=0.01623   val_loss=0.01745   sm_loss=0.01639   sm_val_loss=0.01752   time=1.12s\n",
      "Epoch 15   loss=0.01585   val_loss=0.01733   sm_loss=0.01602   sm_val_loss=0.01742   time=0.86s\n",
      "Epoch 16   loss=0.01542   val_loss=0.01724   sm_loss=0.01561   sm_val_loss=0.01733   time=0.88s\n",
      "Epoch 19   loss=0.01414   val_loss=0.01723   sm_loss=0.01436   sm_val_loss=0.01732   time=0.87s\n",
      "Epoch 20   loss=0.01396   val_loss=0.01721   sm_loss=0.01418   sm_val_loss=0.01731   time=0.85s\n",
      "Fold 6 log loss: 0.0173443085434632\n",
      "Fold 7\n",
      "Epoch 1   loss=0.41331   val_loss=0.02286   sm_loss=0.41326   sm_val_loss=0.02281   time=0.86s\n",
      "Epoch 2   loss=0.02014   val_loss=0.01861   sm_loss=0.02008   sm_val_loss=0.01863   time=0.85s\n",
      "Epoch 3   loss=0.01817   val_loss=0.01812   sm_loss=0.01821   sm_val_loss=0.01817   time=0.86s\n",
      "Epoch 4   loss=0.01743   val_loss=0.01784   sm_loss=0.01754   sm_val_loss=0.01790   time=0.97s\n",
      "Epoch 7   loss=0.01724   val_loss=0.01779   sm_loss=0.01736   sm_val_loss=0.01784   time=0.84s\n",
      "Epoch 9   loss=0.01721   val_loss=0.01777   sm_loss=0.01733   sm_val_loss=0.01783   time=0.85s\n",
      "Epoch 10   loss=0.01705   val_loss=0.01745   sm_loss=0.01717   sm_val_loss=0.01751   time=0.85s\n",
      "Epoch 13   loss=0.01640   val_loss=0.01715   sm_loss=0.01655   sm_val_loss=0.01723   time=0.83s\n",
      "Epoch 15   loss=0.01585   val_loss=0.01703   sm_loss=0.01603   sm_val_loss=0.01710   time=0.88s\n",
      "Epoch 17   loss=0.01483   val_loss=0.01686   sm_loss=0.01503   sm_val_loss=0.01695   time=1.62s\n",
      "Epoch 18   loss=0.01438   val_loss=0.01687   sm_loss=0.01459   sm_val_loss=0.01695   time=0.89s\n",
      "Epoch 19   loss=0.01394   val_loss=0.01683   sm_loss=0.01416   sm_val_loss=0.01691   time=0.85s\n",
      "Fold 7 log loss: 0.01693443950575734\n",
      "Seed 1\n",
      "Fold 1 log loss: 0.017172710120072092\n",
      "Fold 2 log loss: 0.01703025804632677\n",
      "Fold 3 log loss: 0.017477491694003453\n",
      "Fold 4 log loss: 0.017798146915941147\n",
      "Fold 5 log loss: 0.017286900655516482\n",
      "Fold 6 log loss: 0.0173443085434632\n",
      "Fold 7 log loss: 0.01693443950575734\n",
      "Std of log loss: 0.0002683128450093255\n",
      "Total log loss: 0.017291975887027744\n",
      "Fold 1\n",
      "Epoch 1   loss=0.41582   val_loss=0.02262   sm_loss=0.41576   sm_val_loss=0.02259   time=0.85s\n",
      "Epoch 3   loss=0.01825   val_loss=0.01814   sm_loss=0.01825   sm_val_loss=0.01819   time=0.87s\n",
      "Epoch 4   loss=0.01750   val_loss=0.01795   sm_loss=0.01760   sm_val_loss=0.01795   time=0.89s\n",
      "Epoch 5   loss=0.01742   val_loss=0.01790   sm_loss=0.01753   sm_val_loss=0.01794   time=1.12s\n",
      "Epoch 6   loss=0.01736   val_loss=0.01792   sm_loss=0.01749   sm_val_loss=0.01793   time=0.86s\n",
      "Epoch 8   loss=0.01726   val_loss=0.01790   sm_loss=0.01738   sm_val_loss=0.01791   time=0.86s\n",
      "Epoch 9   loss=0.01716   val_loss=0.01767   sm_loss=0.01729   sm_val_loss=0.01768   time=0.87s\n",
      "Epoch 12   loss=0.01673   val_loss=0.01752   sm_loss=0.01687   sm_val_loss=0.01753   time=0.84s\n",
      "Epoch 14   loss=0.01627   val_loss=0.01746   sm_loss=0.01643   sm_val_loss=0.01748   time=0.85s\n",
      "Epoch 15   loss=0.01592   val_loss=0.01729   sm_loss=0.01610   sm_val_loss=0.01731   time=0.86s\n",
      "Epoch 16   loss=0.01551   val_loss=0.01715   sm_loss=0.01570   sm_val_loss=0.01715   time=0.85s\n",
      "Epoch 18   loss=0.01459   val_loss=0.01706   sm_loss=0.01481   sm_val_loss=0.01707   time=0.86s\n",
      "Fold 1 log loss: 0.017160982189975048\n",
      "Fold 2\n",
      "Epoch 1   loss=0.41358   val_loss=0.02236   sm_loss=0.41354   sm_val_loss=0.02235   time=0.87s\n",
      "Epoch 2   loss=0.02012   val_loss=0.01855   sm_loss=0.02010   sm_val_loss=0.01856   time=0.85s\n",
      "Epoch 3   loss=0.01869   val_loss=0.01773   sm_loss=0.01866   sm_val_loss=0.01771   time=0.85s\n",
      "Epoch 5   loss=0.01733   val_loss=0.01751   sm_loss=0.01746   sm_val_loss=0.01754   time=0.84s\n",
      "Epoch 6   loss=0.01734   val_loss=0.01753   sm_loss=0.01746   sm_val_loss=0.01753   time=1.03s\n",
      "Epoch 7   loss=0.01734   val_loss=0.01733   sm_loss=0.01747   sm_val_loss=0.01736   time=1.22s\n",
      "Epoch 9   loss=0.01721   val_loss=0.01730   sm_loss=0.01734   sm_val_loss=0.01733   time=0.89s\n",
      "Epoch 12   loss=0.01671   val_loss=0.01729   sm_loss=0.01686   sm_val_loss=0.01732   time=0.90s\n",
      "Epoch 13   loss=0.01645   val_loss=0.01726   sm_loss=0.01661   sm_val_loss=0.01726   time=0.89s\n",
      "Epoch 14   loss=0.01619   val_loss=0.01709   sm_loss=0.01636   sm_val_loss=0.01714   time=0.88s\n",
      "Epoch 15   loss=0.01583   val_loss=0.01692   sm_loss=0.01601   sm_val_loss=0.01698   time=0.85s\n",
      "Epoch 17   loss=0.01492   val_loss=0.01690   sm_loss=0.01513   sm_val_loss=0.01694   time=0.84s\n",
      "Epoch 20   loss=0.01372   val_loss=0.01686   sm_loss=0.01395   sm_val_loss=0.01689   time=0.90s\n",
      "Fold 2 log loss: 0.017040017760731375\n",
      "Fold 3\n",
      "Epoch 1   loss=0.41419   val_loss=0.02311   sm_loss=0.41415   sm_val_loss=0.02310   time=0.84s\n",
      "Epoch 2   loss=0.02012   val_loss=0.01927   sm_loss=0.02004   sm_val_loss=0.01928   time=0.85s\n",
      "Epoch 3   loss=0.01810   val_loss=0.01832   sm_loss=0.01814   sm_val_loss=0.01837   time=0.85s\n",
      "Epoch 4   loss=0.01734   val_loss=0.01820   sm_loss=0.01745   sm_val_loss=0.01825   time=0.86s\n",
      "Epoch 5   loss=0.01733   val_loss=0.01822   sm_loss=0.01745   sm_val_loss=0.01822   time=0.86s\n",
      "Epoch 6   loss=0.01725   val_loss=0.01810   sm_loss=0.01738   sm_val_loss=0.01811   time=0.86s\n",
      "Epoch 10   loss=0.01702   val_loss=0.01812   sm_loss=0.01714   sm_val_loss=0.01809   time=1.12s\n",
      "Epoch 11   loss=0.01688   val_loss=0.01795   sm_loss=0.01701   sm_val_loss=0.01797   time=0.87s\n",
      "Epoch 13   loss=0.01643   val_loss=0.01782   sm_loss=0.01658   sm_val_loss=0.01782   time=0.99s\n",
      "Epoch 14   loss=0.01609   val_loss=0.01773   sm_loss=0.01626   sm_val_loss=0.01773   time=0.88s\n",
      "Epoch 15   loss=0.01580   val_loss=0.01752   sm_loss=0.01598   sm_val_loss=0.01755   time=1.02s\n",
      "Epoch 17   loss=0.01490   val_loss=0.01754   sm_loss=0.01510   sm_val_loss=0.01753   time=0.90s\n",
      "Epoch 18   loss=0.01439   val_loss=0.01752   sm_loss=0.01460   sm_val_loss=0.01751   time=1.11s\n",
      "Epoch 19   loss=0.01398   val_loss=0.01751   sm_loss=0.01420   sm_val_loss=0.01749   time=0.98s\n",
      "Fold 3 log loss: 0.017450577844184117\n",
      "Fold 4\n",
      "Epoch 1   loss=0.41233   val_loss=0.02261   sm_loss=0.41226   sm_val_loss=0.02260   time=0.86s\n",
      "Epoch 2   loss=0.02005   val_loss=0.02036   sm_loss=0.02004   sm_val_loss=0.01995   time=0.86s\n",
      "Epoch 3   loss=0.01798   val_loss=0.01970   sm_loss=0.01806   sm_val_loss=0.01927   time=0.90s\n",
      "Epoch 4   loss=0.01741   val_loss=0.01848   sm_loss=0.01753   sm_val_loss=0.01837   time=0.86s\n",
      "Epoch 7   loss=0.01725   val_loss=0.01830   sm_loss=0.01738   sm_val_loss=0.01828   time=0.85s\n",
      "Epoch 8   loss=0.01714   val_loss=0.01828   sm_loss=0.01727   sm_val_loss=0.01823   time=0.85s\n",
      "Epoch 10   loss=0.01704   val_loss=0.01807   sm_loss=0.01717   sm_val_loss=0.01805   time=0.84s\n",
      "Epoch 13   loss=0.01633   val_loss=0.01792   sm_loss=0.01648   sm_val_loss=0.01790   time=0.85s\n",
      "Epoch 14   loss=0.01614   val_loss=0.01780   sm_loss=0.01630   sm_val_loss=0.01778   time=0.86s\n",
      "Epoch 16   loss=0.01530   val_loss=0.01780   sm_loss=0.01550   sm_val_loss=0.01775   time=0.84s\n",
      "Epoch 19   loss=0.01393   val_loss=0.01774   sm_loss=0.01415   sm_val_loss=0.01773   time=0.85s\n",
      "Fold 4 log loss: 0.017821771901516754\n",
      "Fold 5\n",
      "Epoch 1   loss=0.41441   val_loss=0.02236   sm_loss=0.41436   sm_val_loss=0.02235   time=0.85s\n",
      "Epoch 2   loss=0.02004   val_loss=0.01895   sm_loss=0.02000   sm_val_loss=0.01898   time=1.09s\n",
      "Epoch 3   loss=0.01815   val_loss=0.01819   sm_loss=0.01818   sm_val_loss=0.01822   time=0.85s\n",
      "Epoch 4   loss=0.01793   val_loss=0.01814   sm_loss=0.01801   sm_val_loss=0.01813   time=0.89s\n",
      "Epoch 6   loss=0.01738   val_loss=0.01776   sm_loss=0.01751   sm_val_loss=0.01779   time=0.86s\n",
      "Epoch 9   loss=0.01715   val_loss=0.01767   sm_loss=0.01728   sm_val_loss=0.01771   time=1.03s\n",
      "Epoch 12   loss=0.01663   val_loss=0.01756   sm_loss=0.01678   sm_val_loss=0.01756   time=0.87s\n",
      "Epoch 13   loss=0.01646   val_loss=0.01744   sm_loss=0.01662   sm_val_loss=0.01745   time=0.90s\n",
      "Epoch 14   loss=0.01611   val_loss=0.01741   sm_loss=0.01628   sm_val_loss=0.01742   time=1.05s\n",
      "Epoch 15   loss=0.01585   val_loss=0.01727   sm_loss=0.01603   sm_val_loss=0.01727   time=0.87s\n",
      "Epoch 16   loss=0.01541   val_loss=0.01704   sm_loss=0.01561   sm_val_loss=0.01705   time=0.88s\n",
      "Epoch 18   loss=0.01443   val_loss=0.01694   sm_loss=0.01465   sm_val_loss=0.01692   time=0.86s\n",
      "Fold 5 log loss: 0.017205455221404337\n",
      "Fold 6\n",
      "Epoch 1   loss=0.41421   val_loss=0.02237   sm_loss=0.41412   sm_val_loss=0.02236   time=0.85s\n",
      "Epoch 2   loss=0.02016   val_loss=0.02284   sm_loss=0.02010   sm_val_loss=0.02140   time=0.85s\n",
      "Epoch 3   loss=0.01819   val_loss=0.01957   sm_loss=0.01821   sm_val_loss=0.01962   time=0.85s\n",
      "Epoch 4   loss=0.01753   val_loss=0.01818   sm_loss=0.01764   sm_val_loss=0.01826   time=1.03s\n",
      "Epoch 6   loss=0.01744   val_loss=0.01794   sm_loss=0.01755   sm_val_loss=0.01800   time=0.85s\n",
      "Epoch 8   loss=0.01730   val_loss=0.01783   sm_loss=0.01742   sm_val_loss=0.01789   time=0.86s\n",
      "Epoch 11   loss=0.01700   val_loss=0.01777   sm_loss=0.01712   sm_val_loss=0.01783   time=0.86s\n",
      "Epoch 12   loss=0.01674   val_loss=0.01756   sm_loss=0.01687   sm_val_loss=0.01764   time=0.84s\n",
      "Epoch 13   loss=0.01649   val_loss=0.01741   sm_loss=0.01664   sm_val_loss=0.01748   time=1.23s\n",
      "Epoch 15   loss=0.01596   val_loss=0.01739   sm_loss=0.01613   sm_val_loss=0.01746   time=0.87s\n",
      "Epoch 16   loss=0.01557   val_loss=0.01732   sm_loss=0.01574   sm_val_loss=0.01740   time=0.88s\n",
      "Epoch 17   loss=0.01504   val_loss=0.01732   sm_loss=0.01523   sm_val_loss=0.01740   time=1.62s\n",
      "Epoch 18   loss=0.01466   val_loss=0.01721   sm_loss=0.01486   sm_val_loss=0.01729   time=0.85s\n",
      "Fold 6 log loss: 0.017324250060667134\n",
      "Fold 7\n",
      "Epoch 1   loss=0.41438   val_loss=0.02254   sm_loss=0.41433   sm_val_loss=0.02254   time=0.96s\n",
      "Epoch 2   loss=0.02013   val_loss=0.01939   sm_loss=0.02007   sm_val_loss=0.01927   time=0.86s\n",
      "Epoch 3   loss=0.01794   val_loss=0.01819   sm_loss=0.01800   sm_val_loss=0.01824   time=0.90s\n",
      "Epoch 4   loss=0.01744   val_loss=0.01778   sm_loss=0.01756   sm_val_loss=0.01781   time=0.88s\n",
      "Epoch 7   loss=0.01731   val_loss=0.01768   sm_loss=0.01743   sm_val_loss=0.01776   time=0.86s\n",
      "Epoch 8   loss=0.01726   val_loss=0.01765   sm_loss=0.01738   sm_val_loss=0.01770   time=0.85s\n",
      "Epoch 10   loss=0.01712   val_loss=0.01752   sm_loss=0.01724   sm_val_loss=0.01756   time=0.86s\n",
      "Epoch 11   loss=0.01692   val_loss=0.01750   sm_loss=0.01705   sm_val_loss=0.01755   time=0.86s\n",
      "Epoch 12   loss=0.01668   val_loss=0.01736   sm_loss=0.01681   sm_val_loss=0.01742   time=0.84s\n",
      "Epoch 14   loss=0.01624   val_loss=0.01709   sm_loss=0.01641   sm_val_loss=0.01715   time=0.87s\n",
      "Epoch 15   loss=0.01584   val_loss=0.01705   sm_loss=0.01602   sm_val_loss=0.01713   time=0.85s\n",
      "Epoch 16   loss=0.01540   val_loss=0.01706   sm_loss=0.01559   sm_val_loss=0.01713   time=0.85s\n",
      "Epoch 17   loss=0.01495   val_loss=0.01704   sm_loss=0.01516   sm_val_loss=0.01711   time=0.86s\n",
      "Epoch 18   loss=0.01452   val_loss=0.01695   sm_loss=0.01473   sm_val_loss=0.01702   time=1.07s\n",
      "Epoch 19   loss=0.01412   val_loss=0.01692   sm_loss=0.01433   sm_val_loss=0.01699   time=0.86s\n",
      "Epoch 20   loss=0.01389   val_loss=0.01691   sm_loss=0.01411   sm_val_loss=0.01698   time=0.85s\n",
      "Fold 7 log loss: 0.017012213393662753\n",
      "Seed 2\n",
      "Fold 1 log loss: 0.017160982189975048\n",
      "Fold 2 log loss: 0.017040017760731375\n",
      "Fold 3 log loss: 0.017450577844184117\n",
      "Fold 4 log loss: 0.017821771901516754\n",
      "Fold 5 log loss: 0.017205455221404337\n",
      "Fold 6 log loss: 0.017324250060667134\n",
      "Fold 7 log loss: 0.017012213393662753\n",
      "Std of log loss: 0.00025998862515307444\n",
      "Total log loss: 0.01728750473291259\n",
      "Fold 1\n",
      "Epoch 1   loss=0.41530   val_loss=0.02236   sm_loss=0.41522   sm_val_loss=0.02233   time=0.84s\n",
      "Epoch 2   loss=0.02008   val_loss=0.01949   sm_loss=0.02002   sm_val_loss=0.01946   time=0.84s\n",
      "Epoch 3   loss=0.01793   val_loss=0.01784   sm_loss=0.01797   sm_val_loss=0.01785   time=0.86s\n",
      "Epoch 5   loss=0.01720   val_loss=0.01782   sm_loss=0.01733   sm_val_loss=0.01781   time=0.86s\n",
      "Epoch 8   loss=0.01721   val_loss=0.01777   sm_loss=0.01734   sm_val_loss=0.01778   time=0.87s\n",
      "Epoch 11   loss=0.01687   val_loss=0.01763   sm_loss=0.01701   sm_val_loss=0.01767   time=0.87s\n",
      "Epoch 12   loss=0.01677   val_loss=0.01730   sm_loss=0.01691   sm_val_loss=0.01733   time=0.86s\n",
      "Epoch 15   loss=0.01584   val_loss=0.01716   sm_loss=0.01601   sm_val_loss=0.01718   time=0.87s\n",
      "Epoch 16   loss=0.01544   val_loss=0.01711   sm_loss=0.01562   sm_val_loss=0.01712   time=0.85s\n",
      "Epoch 18   loss=0.01446   val_loss=0.01699   sm_loss=0.01468   sm_val_loss=0.01700   time=0.85s\n",
      "Fold 1 log loss: 0.017092805907547262\n",
      "Fold 2\n",
      "Epoch 1   loss=0.41282   val_loss=0.02176   sm_loss=0.41277   sm_val_loss=0.02175   time=0.88s\n",
      "Epoch 2   loss=0.02068   val_loss=0.02040   sm_loss=0.02059   sm_val_loss=0.02037   time=0.86s\n",
      "Epoch 3   loss=0.01849   val_loss=0.01785   sm_loss=0.01851   sm_val_loss=0.01786   time=0.86s\n",
      "Epoch 4   loss=0.01755   val_loss=0.01748   sm_loss=0.01767   sm_val_loss=0.01750   time=0.86s\n",
      "Epoch 11   loss=0.01699   val_loss=0.01728   sm_loss=0.01712   sm_val_loss=0.01732   time=1.11s\n",
      "Epoch 12   loss=0.01685   val_loss=0.01729   sm_loss=0.01700   sm_val_loss=0.01728   time=0.98s\n",
      "Epoch 13   loss=0.01654   val_loss=0.01722   sm_loss=0.01670   sm_val_loss=0.01724   time=0.86s\n",
      "Epoch 14   loss=0.01624   val_loss=0.01705   sm_loss=0.01641   sm_val_loss=0.01708   time=0.89s\n",
      "Epoch 15   loss=0.01590   val_loss=0.01701   sm_loss=0.01608   sm_val_loss=0.01702   time=0.86s\n",
      "Epoch 18   loss=0.01445   val_loss=0.01690   sm_loss=0.01467   sm_val_loss=0.01691   time=0.88s\n",
      "Epoch 19   loss=0.01402   val_loss=0.01688   sm_loss=0.01425   sm_val_loss=0.01688   time=0.93s\n",
      "Fold 2 log loss: 0.01698894658302587\n",
      "Fold 3\n",
      "Epoch 1   loss=0.41465   val_loss=0.02272   sm_loss=0.41458   sm_val_loss=0.02271   time=0.97s\n",
      "Epoch 3   loss=0.01818   val_loss=0.01837   sm_loss=0.01819   sm_val_loss=0.01841   time=1.03s\n",
      "Epoch 4   loss=0.01743   val_loss=0.01829   sm_loss=0.01754   sm_val_loss=0.01834   time=1.14s\n",
      "Epoch 8   loss=0.01717   val_loss=0.01798   sm_loss=0.01730   sm_val_loss=0.01797   time=0.84s\n",
      "Epoch 12   loss=0.01663   val_loss=0.01771   sm_loss=0.01677   sm_val_loss=0.01772   time=0.86s\n",
      "Epoch 14   loss=0.01613   val_loss=0.01767   sm_loss=0.01629   sm_val_loss=0.01766   time=0.85s\n",
      "Epoch 16   loss=0.01533   val_loss=0.01755   sm_loss=0.01552   sm_val_loss=0.01754   time=0.85s\n",
      "Epoch 17   loss=0.01481   val_loss=0.01754   sm_loss=0.01502   sm_val_loss=0.01753   time=0.87s\n",
      "Epoch 18   loss=0.01434   val_loss=0.01746   sm_loss=0.01456   sm_val_loss=0.01746   time=0.86s\n",
      "Epoch 19   loss=0.01394   val_loss=0.01745   sm_loss=0.01416   sm_val_loss=0.01744   time=0.86s\n",
      "Fold 3 log loss: 0.017394486786942165\n",
      "Fold 4\n",
      "Epoch 1   loss=0.41473   val_loss=0.02277   sm_loss=0.41469   sm_val_loss=0.02274   time=0.86s\n",
      "Epoch 2   loss=0.01995   val_loss=0.01984   sm_loss=0.01993   sm_val_loss=0.01977   time=1.10s\n",
      "Epoch 3   loss=0.01820   val_loss=0.01865   sm_loss=0.01826   sm_val_loss=0.01853   time=0.89s\n",
      "Epoch 4   loss=0.01734   val_loss=0.01855   sm_loss=0.01747   sm_val_loss=0.01845   time=0.86s\n",
      "Epoch 5   loss=0.01724   val_loss=0.01848   sm_loss=0.01738   sm_val_loss=0.01839   time=0.86s\n",
      "Epoch 6   loss=0.01723   val_loss=0.01829   sm_loss=0.01736   sm_val_loss=0.01828   time=0.88s\n",
      "Epoch 8   loss=0.01716   val_loss=0.01827   sm_loss=0.01729   sm_val_loss=0.01825   time=0.87s\n",
      "Epoch 9   loss=0.01704   val_loss=0.01824   sm_loss=0.01718   sm_val_loss=0.01822   time=0.93s\n",
      "Epoch 10   loss=0.01697   val_loss=0.01823   sm_loss=0.01710   sm_val_loss=0.01821   time=0.85s\n",
      "Epoch 12   loss=0.01663   val_loss=0.01795   sm_loss=0.01678   sm_val_loss=0.01797   time=0.84s\n",
      "Epoch 14   loss=0.01604   val_loss=0.01786   sm_loss=0.01621   sm_val_loss=0.01784   time=1.14s\n",
      "Epoch 15   loss=0.01572   val_loss=0.01767   sm_loss=0.01590   sm_val_loss=0.01767   time=0.88s\n",
      "Fold 4 log loss: 0.01776287747948783\n",
      "Fold 5\n",
      "Epoch 1   loss=0.41348   val_loss=0.02260   sm_loss=0.41343   sm_val_loss=0.02260   time=0.85s\n",
      "Epoch 2   loss=0.02026   val_loss=0.01911   sm_loss=0.02021   sm_val_loss=0.01913   time=0.85s\n",
      "Epoch 3   loss=0.01806   val_loss=0.01816   sm_loss=0.01810   sm_val_loss=0.01818   time=0.87s\n",
      "Epoch 4   loss=0.01779   val_loss=0.01804   sm_loss=0.01787   sm_val_loss=0.01804   time=1.07s\n",
      "Epoch 7   loss=0.01732   val_loss=0.01770   sm_loss=0.01745   sm_val_loss=0.01771   time=0.86s\n",
      "Epoch 12   loss=0.01664   val_loss=0.01741   sm_loss=0.01679   sm_val_loss=0.01737   time=0.95s\n",
      "Epoch 15   loss=0.01583   val_loss=0.01722   sm_loss=0.01601   sm_val_loss=0.01723   time=0.84s\n",
      "Epoch 16   loss=0.01534   val_loss=0.01700   sm_loss=0.01553   sm_val_loss=0.01700   time=1.30s\n",
      "Epoch 18   loss=0.01439   val_loss=0.01700   sm_loss=0.01461   sm_val_loss=0.01699   time=0.88s\n",
      "Epoch 19   loss=0.01397   val_loss=0.01698   sm_loss=0.01420   sm_val_loss=0.01697   time=0.86s\n",
      "Epoch 20   loss=0.01378   val_loss=0.01694   sm_loss=0.01401   sm_val_loss=0.01694   time=0.96s\n",
      "Fold 5 log loss: 0.01718661359787841\n",
      "Fold 6\n",
      "Epoch 1   loss=0.41405   val_loss=0.02248   sm_loss=0.41398   sm_val_loss=0.02245   time=0.86s\n",
      "Epoch 2   loss=0.02019   val_loss=0.02304   sm_loss=0.02011   sm_val_loss=0.02107   time=0.89s\n",
      "Epoch 3   loss=0.01827   val_loss=0.01920   sm_loss=0.01830   sm_val_loss=0.01916   time=0.86s\n",
      "Epoch 4   loss=0.01754   val_loss=0.01860   sm_loss=0.01764   sm_val_loss=0.01865   time=0.86s\n",
      "Epoch 5   loss=0.01738   val_loss=0.01805   sm_loss=0.01749   sm_val_loss=0.01812   time=0.89s\n",
      "Epoch 6   loss=0.01739   val_loss=0.01797   sm_loss=0.01751   sm_val_loss=0.01807   time=1.18s\n",
      "Epoch 9   loss=0.01737   val_loss=0.01794   sm_loss=0.01748   sm_val_loss=0.01801   time=0.87s\n",
      "Epoch 10   loss=0.01697   val_loss=0.01779   sm_loss=0.01710   sm_val_loss=0.01783   time=0.88s\n",
      "Epoch 12   loss=0.01680   val_loss=0.01762   sm_loss=0.01693   sm_val_loss=0.01770   time=0.86s\n",
      "Epoch 14   loss=0.01614   val_loss=0.01748   sm_loss=0.01629   sm_val_loss=0.01754   time=0.86s\n",
      "Epoch 15   loss=0.01586   val_loss=0.01731   sm_loss=0.01603   sm_val_loss=0.01740   time=0.86s\n",
      "Epoch 17   loss=0.01501   val_loss=0.01729   sm_loss=0.01521   sm_val_loss=0.01737   time=0.95s\n",
      "Epoch 18   loss=0.01451   val_loss=0.01727   sm_loss=0.01472   sm_val_loss=0.01735   time=0.98s\n",
      "Fold 6 log loss: 0.01739123392372002\n",
      "Fold 7\n",
      "Epoch 1   loss=0.41476   val_loss=0.02264   sm_loss=0.41472   sm_val_loss=0.02261   time=1.03s\n",
      "Epoch 2   loss=0.02016   val_loss=0.02121   sm_loss=0.02010   sm_val_loss=0.02122   time=0.85s\n",
      "Epoch 3   loss=0.01800   val_loss=0.01811   sm_loss=0.01805   sm_val_loss=0.01815   time=0.85s\n",
      "Epoch 5   loss=0.01732   val_loss=0.01804   sm_loss=0.01744   sm_val_loss=0.01812   time=0.84s\n",
      "Epoch 6   loss=0.01725   val_loss=0.01788   sm_loss=0.01737   sm_val_loss=0.01794   time=0.85s\n",
      "Epoch 9   loss=0.01712   val_loss=0.01770   sm_loss=0.01724   sm_val_loss=0.01778   time=0.85s\n",
      "Epoch 10   loss=0.01703   val_loss=0.01758   sm_loss=0.01715   sm_val_loss=0.01764   time=0.92s\n",
      "Epoch 12   loss=0.01669   val_loss=0.01755   sm_loss=0.01684   sm_val_loss=0.01762   time=0.83s\n",
      "Epoch 13   loss=0.01643   val_loss=0.01742   sm_loss=0.01659   sm_val_loss=0.01750   time=0.88s\n",
      "Epoch 14   loss=0.01614   val_loss=0.01733   sm_loss=0.01630   sm_val_loss=0.01741   time=0.84s\n",
      "Epoch 15   loss=0.01577   val_loss=0.01724   sm_loss=0.01595   sm_val_loss=0.01732   time=0.87s\n",
      "Epoch 16   loss=0.01533   val_loss=0.01712   sm_loss=0.01551   sm_val_loss=0.01719   time=0.83s\n",
      "Epoch 18   loss=0.01431   val_loss=0.01696   sm_loss=0.01453   sm_val_loss=0.01703   time=0.85s\n",
      "Epoch 20   loss=0.01365   val_loss=0.01694   sm_loss=0.01388   sm_val_loss=0.01700   time=1.01s\n",
      "Fold 7 log loss: 0.0170283998239103\n",
      "Seed 3\n",
      "Fold 1 log loss: 0.017092805907547262\n",
      "Fold 2 log loss: 0.01698894658302587\n",
      "Fold 3 log loss: 0.017394486786942165\n",
      "Fold 4 log loss: 0.01776287747948783\n",
      "Fold 5 log loss: 0.01718661359787841\n",
      "Fold 6 log loss: 0.01739123392372002\n",
      "Fold 7 log loss: 0.0170283998239103\n",
      "Std of log loss: 0.00025313771451620555\n",
      "Total log loss: 0.01726326222826054\n",
      "Fold 1\n",
      "Epoch 1   loss=0.41372   val_loss=0.02252   sm_loss=0.41364   sm_val_loss=0.02249   time=0.85s\n",
      "Epoch 2   loss=0.02008   val_loss=0.01912   sm_loss=0.02005   sm_val_loss=0.01906   time=0.85s\n",
      "Epoch 3   loss=0.01817   val_loss=0.01873   sm_loss=0.01821   sm_val_loss=0.01872   time=0.86s\n",
      "Epoch 4   loss=0.01756   val_loss=0.01801   sm_loss=0.01766   sm_val_loss=0.01802   time=0.85s\n",
      "Epoch 5   loss=0.01728   val_loss=0.01788   sm_loss=0.01741   sm_val_loss=0.01788   time=0.84s\n",
      "Epoch 6   loss=0.01730   val_loss=0.01772   sm_loss=0.01742   sm_val_loss=0.01776   time=0.85s\n",
      "Epoch 7   loss=0.01727   val_loss=0.01774   sm_loss=0.01740   sm_val_loss=0.01775   time=0.84s\n",
      "Epoch 10   loss=0.01703   val_loss=0.01764   sm_loss=0.01716   sm_val_loss=0.01766   time=1.48s\n",
      "Epoch 11   loss=0.01693   val_loss=0.01758   sm_loss=0.01706   sm_val_loss=0.01760   time=0.93s\n",
      "Epoch 12   loss=0.01677   val_loss=0.01751   sm_loss=0.01691   sm_val_loss=0.01754   time=0.90s\n",
      "Epoch 14   loss=0.01627   val_loss=0.01731   sm_loss=0.01643   sm_val_loss=0.01730   time=0.90s\n",
      "Epoch 15   loss=0.01585   val_loss=0.01718   sm_loss=0.01603   sm_val_loss=0.01720   time=1.11s\n",
      "Epoch 16   loss=0.01543   val_loss=0.01715   sm_loss=0.01562   sm_val_loss=0.01715   time=0.86s\n",
      "Epoch 18   loss=0.01449   val_loss=0.01711   sm_loss=0.01470   sm_val_loss=0.01712   time=0.84s\n",
      "Epoch 19   loss=0.01407   val_loss=0.01710   sm_loss=0.01429   sm_val_loss=0.01711   time=0.87s\n",
      "Fold 1 log loss: 0.017203526174472423\n",
      "Fold 2\n",
      "Epoch 1   loss=0.41271   val_loss=0.02214   sm_loss=0.41266   sm_val_loss=0.02213   time=0.87s\n",
      "Epoch 2   loss=0.02018   val_loss=0.01911   sm_loss=0.02012   sm_val_loss=0.01911   time=0.85s\n",
      "Epoch 3   loss=0.01856   val_loss=0.01775   sm_loss=0.01859   sm_val_loss=0.01781   time=0.84s\n",
      "Epoch 4   loss=0.01761   val_loss=0.01768   sm_loss=0.01770   sm_val_loss=0.01772   time=0.85s\n",
      "Epoch 5   loss=0.01748   val_loss=0.01764   sm_loss=0.01759   sm_val_loss=0.01767   time=0.85s\n",
      "Epoch 6   loss=0.01731   val_loss=0.01731   sm_loss=0.01744   sm_val_loss=0.01736   time=0.85s\n",
      "Epoch 12   loss=0.01675   val_loss=0.01721   sm_loss=0.01690   sm_val_loss=0.01723   time=0.85s\n",
      "Epoch 13   loss=0.01648   val_loss=0.01717   sm_loss=0.01664   sm_val_loss=0.01719   time=0.84s\n",
      "Epoch 14   loss=0.01621   val_loss=0.01706   sm_loss=0.01638   sm_val_loss=0.01708   time=0.84s\n",
      "Epoch 16   loss=0.01541   val_loss=0.01703   sm_loss=0.01561   sm_val_loss=0.01702   time=0.84s\n",
      "Epoch 17   loss=0.01495   val_loss=0.01695   sm_loss=0.01516   sm_val_loss=0.01697   time=0.86s\n",
      "Epoch 19   loss=0.01398   val_loss=0.01689   sm_loss=0.01421   sm_val_loss=0.01688   time=0.88s\n",
      "Fold 2 log loss: 0.017005420163620145\n",
      "Fold 3\n",
      "Epoch 1   loss=0.41427   val_loss=0.02251   sm_loss=0.41421   sm_val_loss=0.02250   time=1.09s\n",
      "Epoch 2   loss=0.02014   val_loss=0.01907   sm_loss=0.02009   sm_val_loss=0.01909   time=0.85s\n",
      "Epoch 3   loss=0.01807   val_loss=0.01847   sm_loss=0.01812   sm_val_loss=0.01850   time=0.85s\n",
      "Epoch 4   loss=0.01738   val_loss=0.01841   sm_loss=0.01749   sm_val_loss=0.01846   time=0.87s\n",
      "Epoch 5   loss=0.01728   val_loss=0.01824   sm_loss=0.01740   sm_val_loss=0.01822   time=0.86s\n",
      "Epoch 7   loss=0.01721   val_loss=0.01819   sm_loss=0.01733   sm_val_loss=0.01820   time=0.85s\n",
      "Epoch 9   loss=0.01712   val_loss=0.01804   sm_loss=0.01724   sm_val_loss=0.01804   time=0.86s\n",
      "Epoch 10   loss=0.01695   val_loss=0.01799   sm_loss=0.01708   sm_val_loss=0.01800   time=0.93s\n",
      "Epoch 11   loss=0.01690   val_loss=0.01799   sm_loss=0.01703   sm_val_loss=0.01796   time=0.85s\n",
      "Epoch 12   loss=0.01667   val_loss=0.01794   sm_loss=0.01681   sm_val_loss=0.01795   time=0.89s\n",
      "Epoch 13   loss=0.01641   val_loss=0.01774   sm_loss=0.01656   sm_val_loss=0.01774   time=1.03s\n",
      "Epoch 15   loss=0.01574   val_loss=0.01769   sm_loss=0.01592   sm_val_loss=0.01769   time=0.86s\n",
      "Epoch 16   loss=0.01530   val_loss=0.01765   sm_loss=0.01549   sm_val_loss=0.01768   time=0.85s\n",
      "Epoch 17   loss=0.01481   val_loss=0.01753   sm_loss=0.01502   sm_val_loss=0.01756   time=0.84s\n",
      "Epoch 18   loss=0.01431   val_loss=0.01747   sm_loss=0.01452   sm_val_loss=0.01750   time=0.84s\n",
      "Fold 3 log loss: 0.017452128499175785\n",
      "Fold 4\n",
      "Epoch 1   loss=0.41359   val_loss=0.02283   sm_loss=0.41354   sm_val_loss=0.02278   time=0.86s\n",
      "Epoch 2   loss=0.01993   val_loss=0.02031   sm_loss=0.01992   sm_val_loss=0.02001   time=0.92s\n",
      "Epoch 3   loss=0.01796   val_loss=0.01869   sm_loss=0.01804   sm_val_loss=0.01856   time=1.12s\n",
      "Epoch 4   loss=0.01726   val_loss=0.01854   sm_loss=0.01739   sm_val_loss=0.01842   time=1.07s\n",
      "Epoch 6   loss=0.01726   val_loss=0.01840   sm_loss=0.01738   sm_val_loss=0.01832   time=0.84s\n",
      "Epoch 10   loss=0.01688   val_loss=0.01817   sm_loss=0.01702   sm_val_loss=0.01818   time=1.37s\n",
      "Epoch 12   loss=0.01655   val_loss=0.01785   sm_loss=0.01670   sm_val_loss=0.01782   time=0.87s\n",
      "Epoch 15   loss=0.01572   val_loss=0.01772   sm_loss=0.01590   sm_val_loss=0.01773   time=0.95s\n",
      "Epoch 16   loss=0.01527   val_loss=0.01773   sm_loss=0.01547   sm_val_loss=0.01772   time=1.22s\n",
      "Epoch 17   loss=0.01478   val_loss=0.01770   sm_loss=0.01499   sm_val_loss=0.01770   time=0.91s\n",
      "Epoch 18   loss=0.01432   val_loss=0.01770   sm_loss=0.01454   sm_val_loss=0.01770   time=0.89s\n",
      "Fold 4 log loss: 0.017797412107419638\n",
      "Fold 5\n",
      "Epoch 1   loss=0.41451   val_loss=0.02276   sm_loss=0.41441   sm_val_loss=0.02273   time=0.90s\n",
      "Epoch 2   loss=0.02025   val_loss=0.01878   sm_loss=0.02018   sm_val_loss=0.01881   time=0.87s\n",
      "Epoch 3   loss=0.01812   val_loss=0.01806   sm_loss=0.01818   sm_val_loss=0.01805   time=0.88s\n",
      "Epoch 4   loss=0.01741   val_loss=0.01794   sm_loss=0.01753   sm_val_loss=0.01796   time=0.88s\n",
      "Epoch 6   loss=0.01730   val_loss=0.01793   sm_loss=0.01742   sm_val_loss=0.01792   time=0.88s\n",
      "Epoch 7   loss=0.01727   val_loss=0.01777   sm_loss=0.01739   sm_val_loss=0.01777   time=0.85s\n",
      "Epoch 9   loss=0.01716   val_loss=0.01769   sm_loss=0.01728   sm_val_loss=0.01767   time=0.85s\n",
      "Epoch 11   loss=0.01686   val_loss=0.01761   sm_loss=0.01699   sm_val_loss=0.01761   time=0.83s\n",
      "Epoch 12   loss=0.01676   val_loss=0.01756   sm_loss=0.01690   sm_val_loss=0.01756   time=0.85s\n",
      "Epoch 13   loss=0.01648   val_loss=0.01751   sm_loss=0.01663   sm_val_loss=0.01752   time=0.84s\n",
      "Epoch 14   loss=0.01617   val_loss=0.01734   sm_loss=0.01634   sm_val_loss=0.01733   time=0.95s\n",
      "Epoch 15   loss=0.01579   val_loss=0.01731   sm_loss=0.01597   sm_val_loss=0.01727   time=1.12s\n",
      "Epoch 16   loss=0.01543   val_loss=0.01711   sm_loss=0.01562   sm_val_loss=0.01711   time=0.88s\n",
      "Epoch 17   loss=0.01492   val_loss=0.01704   sm_loss=0.01513   sm_val_loss=0.01703   time=1.08s\n",
      "Epoch 19   loss=0.01403   val_loss=0.01705   sm_loss=0.01426   sm_val_loss=0.01702   time=0.87s\n",
      "Fold 5 log loss: 0.017272101312611608\n",
      "Fold 6\n",
      "Epoch 1   loss=0.41357   val_loss=0.02239   sm_loss=0.41349   sm_val_loss=0.02238   time=0.87s\n",
      "Epoch 3   loss=0.01845   val_loss=0.01869   sm_loss=0.01846   sm_val_loss=0.01871   time=0.85s\n",
      "Epoch 5   loss=0.01736   val_loss=0.01814   sm_loss=0.01747   sm_val_loss=0.01821   time=0.87s\n",
      "Epoch 8   loss=0.01730   val_loss=0.01792   sm_loss=0.01741   sm_val_loss=0.01802   time=1.11s\n",
      "Epoch 11   loss=0.01708   val_loss=0.01782   sm_loss=0.01720   sm_val_loss=0.01788   time=0.92s\n",
      "Epoch 13   loss=0.01656   val_loss=0.01767   sm_loss=0.01670   sm_val_loss=0.01774   time=0.86s\n",
      "Epoch 14   loss=0.01623   val_loss=0.01733   sm_loss=0.01638   sm_val_loss=0.01743   time=0.86s\n",
      "Epoch 16   loss=0.01548   val_loss=0.01734   sm_loss=0.01566   sm_val_loss=0.01741   time=0.85s\n",
      "Epoch 17   loss=0.01507   val_loss=0.01716   sm_loss=0.01526   sm_val_loss=0.01725   time=0.86s\n",
      "Fold 6 log loss: 0.017283391752804102\n",
      "Fold 7\n",
      "Epoch 1   loss=0.41579   val_loss=0.02286   sm_loss=0.41577   sm_val_loss=0.02285   time=0.86s\n",
      "Epoch 2   loss=0.02003   val_loss=0.01899   sm_loss=0.02000   sm_val_loss=0.01901   time=0.86s\n",
      "Epoch 3   loss=0.01816   val_loss=0.01798   sm_loss=0.01816   sm_val_loss=0.01804   time=0.85s\n",
      "Epoch 4   loss=0.01745   val_loss=0.01795   sm_loss=0.01756   sm_val_loss=0.01803   time=0.86s\n",
      "Epoch 6   loss=0.01732   val_loss=0.01791   sm_loss=0.01744   sm_val_loss=0.01794   time=1.01s\n",
      "Epoch 7   loss=0.01731   val_loss=0.01782   sm_loss=0.01743   sm_val_loss=0.01788   time=0.86s\n",
      "Epoch 8   loss=0.01714   val_loss=0.01782   sm_loss=0.01726   sm_val_loss=0.01787   time=0.85s\n",
      "Epoch 9   loss=0.01714   val_loss=0.01763   sm_loss=0.01726   sm_val_loss=0.01770   time=1.32s\n",
      "Epoch 10   loss=0.01699   val_loss=0.01752   sm_loss=0.01712   sm_val_loss=0.01758   time=1.04s\n",
      "Epoch 11   loss=0.01691   val_loss=0.01742   sm_loss=0.01704   sm_val_loss=0.01748   time=0.89s\n",
      "Epoch 13   loss=0.01639   val_loss=0.01736   sm_loss=0.01654   sm_val_loss=0.01744   time=0.88s\n",
      "Epoch 14   loss=0.01614   val_loss=0.01732   sm_loss=0.01630   sm_val_loss=0.01739   time=1.13s\n",
      "Epoch 15   loss=0.01577   val_loss=0.01702   sm_loss=0.01594   sm_val_loss=0.01710   time=0.86s\n",
      "Epoch 17   loss=0.01483   val_loss=0.01695   sm_loss=0.01503   sm_val_loss=0.01704   time=0.86s\n",
      "Epoch 18   loss=0.01432   val_loss=0.01688   sm_loss=0.01453   sm_val_loss=0.01695   time=0.85s\n",
      "Epoch 19   loss=0.01386   val_loss=0.01684   sm_loss=0.01408   sm_val_loss=0.01692   time=0.94s\n",
      "Fold 7 log loss: 0.01694442399801203\n",
      "Seed 4\n",
      "Fold 1 log loss: 0.017203526174472423\n",
      "Fold 2 log loss: 0.017005420163620145\n",
      "Fold 3 log loss: 0.017452128499175785\n",
      "Fold 4 log loss: 0.017797412107419638\n",
      "Fold 5 log loss: 0.017272101312611608\n",
      "Fold 6 log loss: 0.017283391752804102\n",
      "Fold 7 log loss: 0.01694442399801203\n",
      "Std of log loss: 0.0002649179452870058\n",
      "Total log loss: 0.017279747980985118\n",
      "Total log loss in targets: 0.01704757983026383\n"
     ]
    }
   ],
   "source": [
    "seeds = [0,1,2,3,4] \n",
    "target_oof = np.zeros([len(fn_train),fn_targets.shape[1]])\n",
    "target_pred = np.zeros([len(fn_test),fn_targets.shape[1]])\n",
    "\n",
    "for seed_ in seeds:\n",
    "    oof, oof_targets, pytorch_pred = modelling_torch(fn_train, fn_targets, fn_test, seed_, fn_train.shape[1]-1, fn_targets.shape[1], 20)\n",
    "    target_oof += oof / len(seeds)\n",
    "    target_pred += pytorch_pred / len(seeds)\n",
    "\n",
    "print(\"Total log loss in targets: {}\".format(mean_log_loss(oof_targets, target_oof)))"
   ]
  },
  {
   "cell_type": "markdown",
   "metadata": {
    "papermill": {
     "duration": 0.190007,
     "end_time": "2020-11-09T10:14:52.131811",
     "exception": false,
     "start_time": "2020-11-09T10:14:51.941804",
     "status": "completed"
    },
    "tags": []
   },
   "source": [
    "Total log loss in targets: 0.01704757983026383"
   ]
  },
  {
   "cell_type": "code",
   "execution_count": 20,
   "metadata": {
    "execution": {
     "iopub.execute_input": "2020-11-09T10:14:52.524030Z",
     "iopub.status.busy": "2020-11-09T10:14:52.523079Z",
     "iopub.status.idle": "2020-11-09T10:14:53.639675Z",
     "shell.execute_reply": "2020-11-09T10:14:53.640277Z"
    },
    "papermill": {
     "duration": 1.314778,
     "end_time": "2020-11-09T10:14:53.640422",
     "exception": false,
     "start_time": "2020-11-09T10:14:52.325644",
     "status": "completed"
    },
    "tags": []
   },
   "outputs": [
    {
     "name": "stdout",
     "output_type": "stream",
     "text": [
      "Overall AUC : 0.6453442217103501\n"
     ]
    }
   ],
   "source": [
    "aucs = []\n",
    "for task_id in range(targets.shape[1]-1):\n",
    "    aucs.append(roc_auc_score(y_true=targets.iloc[:, task_id+1].values,\n",
    "                              y_score=target_oof[:, task_id]))\n",
    "print(f\"Overall AUC : {np.mean(aucs)}\")"
   ]
  },
  {
   "cell_type": "code",
   "execution_count": 21,
   "metadata": {
    "execution": {
     "iopub.execute_input": "2020-11-09T10:14:54.031308Z",
     "iopub.status.busy": "2020-11-09T10:14:54.030403Z",
     "iopub.status.idle": "2020-11-09T10:15:00.024382Z",
     "shell.execute_reply": "2020-11-09T10:15:00.022543Z"
    },
    "papermill": {
     "duration": 6.194509,
     "end_time": "2020-11-09T10:15:00.024535",
     "exception": false,
     "start_time": "2020-11-09T10:14:53.830026",
     "status": "completed"
    },
    "tags": []
   },
   "outputs": [
    {
     "name": "stdout",
     "output_type": "stream",
     "text": [
      "OOF log loss:  0.01571177803454405\n"
     ]
    }
   ],
   "source": [
    "t = pd.read_csv(DATA_DIR + 'train_targets_scored.csv')\n",
    "train_checkscore = t.copy()\n",
    "train_checkscore.loc[train_checkscore.index.isin(cons_train_index),target_feats] = target_oof\n",
    "train_checkscore.loc[train_checkscore.index.isin(noncons_train_index),target_feats] = 0\n",
    "t.drop(\"sig_id\", axis=1, inplace=True)\n",
    "print('OOF log loss: ', log_loss(np.ravel(t), np.ravel(np.array(train_checkscore.iloc[:,1:]))))"
   ]
  },
  {
   "cell_type": "code",
   "execution_count": 22,
   "metadata": {
    "execution": {
     "iopub.execute_input": "2020-11-09T10:15:00.444109Z",
     "iopub.status.busy": "2020-11-09T10:15:00.442784Z",
     "iopub.status.idle": "2020-11-09T10:15:02.856289Z",
     "shell.execute_reply": "2020-11-09T10:15:02.855397Z"
    },
    "papermill": {
     "duration": 2.617444,
     "end_time": "2020-11-09T10:15:02.856414",
     "exception": false,
     "start_time": "2020-11-09T10:15:00.238970",
     "status": "completed"
    },
    "tags": []
   },
   "outputs": [],
   "source": [
    "sub.loc[cons_test_index,target_feats] = target_pred\n",
    "sub.loc[noncons_test_index,target_feats] = 0\n",
    "sub.to_csv('submission.csv', index=False)"
   ]
  }
 ],
 "metadata": {
  "kernelspec": {
   "display_name": "Python 3",
   "language": "python",
   "name": "python3"
  },
  "language_info": {
   "codemirror_mode": {
    "name": "ipython",
    "version": 3
   },
   "file_extension": ".py",
   "mimetype": "text/x-python",
   "name": "python",
   "nbconvert_exporter": "python",
   "pygments_lexer": "ipython3",
   "version": "3.7.6"
  },
  "papermill": {
   "duration": 760.980724,
   "end_time": "2020-11-09T10:15:03.555976",
   "environment_variables": {},
   "exception": null,
   "input_path": "__notebook__.ipynb",
   "output_path": "__notebook__.ipynb",
   "parameters": {},
   "start_time": "2020-11-09T10:02:22.575252",
   "version": "2.1.0"
  }
 },
 "nbformat": 4,
 "nbformat_minor": 4
}
