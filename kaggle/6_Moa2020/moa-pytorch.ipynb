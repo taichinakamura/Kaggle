{
 "cells": [
  {
   "cell_type": "markdown",
   "metadata": {
    "papermill": {
     "duration": 0.018286,
     "end_time": "2020-10-12T13:08:02.113159",
     "exception": false,
     "start_time": "2020-10-12T13:08:02.094873",
     "status": "completed"
    },
    "tags": []
   },
   "source": [
    "- cancel sum of moa\n",
    "- incorporate new features\n",
    "- try robust scaler standadization"
   ]
  },
  {
   "cell_type": "code",
   "execution_count": 1,
   "metadata": {
    "_cell_guid": "b1076dfc-b9ad-4769-8c92-a6c4dae69d19",
    "_uuid": "8f2839f25d086af736a60e9eeb907d3b93b6e0e5",
    "execution": {
     "iopub.execute_input": "2020-10-12T13:08:02.158310Z",
     "iopub.status.busy": "2020-10-12T13:08:02.157487Z",
     "iopub.status.idle": "2020-10-12T13:08:10.884064Z",
     "shell.execute_reply": "2020-10-12T13:08:10.882926Z"
    },
    "papermill": {
     "duration": 8.753281,
     "end_time": "2020-10-12T13:08:10.884236",
     "exception": false,
     "start_time": "2020-10-12T13:08:02.130955",
     "status": "completed"
    },
    "tags": []
   },
   "outputs": [],
   "source": [
    "import os\n",
    "import sys\n",
    "import random\n",
    "import warnings\n",
    "import numpy as np\n",
    "import pandas as pd \n",
    "from sklearn import preprocessing\n",
    "from sklearn.metrics import log_loss, mean_squared_error\n",
    "from sklearn.decomposition import PCA\n",
    "from tqdm import tqdm_notebook as tqdm\n",
    "from sklearn.multioutput import MultiOutputClassifier\n",
    "from sklearn.feature_selection import VarianceThreshold\n",
    "\n",
    "sys.path.append('../input/multilabelstraifier/')\n",
    "sys.path.append('../input/lookahead/')\n",
    "from ml_stratifiers import MultilabelStratifiedKFold\n",
    "from lookahead import Lookahead\n",
    "warnings.filterwarnings('ignore')\n",
    "\n",
    "import time\n",
    "import torch\n",
    "import torch.nn as nn\n",
    "import torch.optim as optim\n",
    "import torch.nn.functional as F\n",
    "import tensorflow as tf"
   ]
  },
  {
   "cell_type": "code",
   "execution_count": 2,
   "metadata": {
    "execution": {
     "iopub.execute_input": "2020-10-12T13:08:10.930765Z",
     "iopub.status.busy": "2020-10-12T13:08:10.929471Z",
     "iopub.status.idle": "2020-10-12T13:08:16.765622Z",
     "shell.execute_reply": "2020-10-12T13:08:16.764558Z"
    },
    "papermill": {
     "duration": 5.863069,
     "end_time": "2020-10-12T13:08:16.765747",
     "exception": false,
     "start_time": "2020-10-12T13:08:10.902678",
     "status": "completed"
    },
    "tags": []
   },
   "outputs": [],
   "source": [
    "DATA_DIR = '/kaggle/input/lish-moa/'\n",
    "train = pd.read_csv(DATA_DIR + 'train_features.csv')\n",
    "targets = pd.read_csv(DATA_DIR + 'train_targets_scored.csv')\n",
    "non_targets = pd.read_csv(DATA_DIR + 'train_targets_nonscored.csv')\n",
    "test = pd.read_csv(DATA_DIR + 'test_features.csv')\n",
    "sub = pd.read_csv(DATA_DIR + 'sample_submission.csv')"
   ]
  },
  {
   "cell_type": "code",
   "execution_count": 3,
   "metadata": {
    "execution": {
     "iopub.execute_input": "2020-10-12T13:08:16.809690Z",
     "iopub.status.busy": "2020-10-12T13:08:16.808919Z",
     "iopub.status.idle": "2020-10-12T13:08:16.812821Z",
     "shell.execute_reply": "2020-10-12T13:08:16.812354Z"
    },
    "papermill": {
     "duration": 0.029072,
     "end_time": "2020-10-12T13:08:16.812922",
     "exception": false,
     "start_time": "2020-10-12T13:08:16.783850",
     "status": "completed"
    },
    "tags": []
   },
   "outputs": [],
   "source": [
    "target_feats = [ i for i in targets.columns if i != \"sig_id\"]\n",
    "g_feats = [i for i in train.columns if \"g-\" in i]\n",
    "c_feats = [i for i in train.columns if \"c-\" in i]"
   ]
  },
  {
   "cell_type": "code",
   "execution_count": 4,
   "metadata": {
    "execution": {
     "iopub.execute_input": "2020-10-12T13:08:16.856788Z",
     "iopub.status.busy": "2020-10-12T13:08:16.856143Z",
     "iopub.status.idle": "2020-10-12T13:08:16.958266Z",
     "shell.execute_reply": "2020-10-12T13:08:16.957710Z"
    },
    "papermill": {
     "duration": 0.127703,
     "end_time": "2020-10-12T13:08:16.958390",
     "exception": false,
     "start_time": "2020-10-12T13:08:16.830687",
     "status": "completed"
    },
    "tags": []
   },
   "outputs": [],
   "source": [
    "noncons_train_index = train[train.cp_type==\"ctl_vehicle\"].index\n",
    "cons_train_index = train[train.cp_type!=\"ctl_vehicle\"].index\n",
    "noncons_test_index = test[test.cp_type==\"ctl_vehicle\"].index\n",
    "cons_test_index = test[test.cp_type!=\"ctl_vehicle\"].index"
   ]
  },
  {
   "cell_type": "markdown",
   "metadata": {
    "papermill": {
     "duration": 0.01806,
     "end_time": "2020-10-12T13:08:16.994247",
     "exception": false,
     "start_time": "2020-10-12T13:08:16.976187",
     "status": "completed"
    },
    "tags": []
   },
   "source": [
    "# preprocess"
   ]
  },
  {
   "cell_type": "code",
   "execution_count": 5,
   "metadata": {
    "execution": {
     "iopub.execute_input": "2020-10-12T13:08:17.045352Z",
     "iopub.status.busy": "2020-10-12T13:08:17.039711Z",
     "iopub.status.idle": "2020-10-12T13:08:17.401692Z",
     "shell.execute_reply": "2020-10-12T13:08:17.402429Z"
    },
    "papermill": {
     "duration": 0.390087,
     "end_time": "2020-10-12T13:08:17.402632",
     "exception": false,
     "start_time": "2020-10-12T13:08:17.012545",
     "status": "completed"
    },
    "tags": []
   },
   "outputs": [],
   "source": [
    "train = train[train.index.isin(cons_train_index)].copy().reset_index(drop=True)\n",
    "targets = targets[targets.index.isin(cons_train_index)].copy().reset_index(drop=True)\n",
    "non_targets = non_targets[non_targets.index.isin(cons_train_index)].copy().reset_index(drop=True)"
   ]
  },
  {
   "cell_type": "code",
   "execution_count": 6,
   "metadata": {
    "execution": {
     "iopub.execute_input": "2020-10-12T13:08:17.514531Z",
     "iopub.status.busy": "2020-10-12T13:08:17.511563Z",
     "iopub.status.idle": "2020-10-12T13:08:17.530316Z",
     "shell.execute_reply": "2020-10-12T13:08:17.530840Z"
    },
    "papermill": {
     "duration": 0.083503,
     "end_time": "2020-10-12T13:08:17.530972",
     "exception": false,
     "start_time": "2020-10-12T13:08:17.447469",
     "status": "completed"
    },
    "tags": []
   },
   "outputs": [],
   "source": [
    "non_target_feats = [i for i in non_targets.columns if i != \"sig_id\"]\n",
    "nontarget_dists = pd.DataFrame(np.sum(non_targets[non_target_feats])).reset_index(drop=False)\n",
    "nontarget_dists.columns = [\"target\", \"number\"]\n",
    "nontarget_dists = nontarget_dists.sort_values(\"number\", ascending=False).reset_index(drop=True)"
   ]
  },
  {
   "cell_type": "code",
   "execution_count": 7,
   "metadata": {
    "execution": {
     "iopub.execute_input": "2020-10-12T13:08:17.588896Z",
     "iopub.status.busy": "2020-10-12T13:08:17.588010Z",
     "iopub.status.idle": "2020-10-12T13:08:17.640637Z",
     "shell.execute_reply": "2020-10-12T13:08:17.641928Z"
    },
    "papermill": {
     "duration": 0.085957,
     "end_time": "2020-10-12T13:08:17.642132",
     "exception": false,
     "start_time": "2020-10-12T13:08:17.556175",
     "status": "completed"
    },
    "tags": []
   },
   "outputs": [
    {
     "name": "stdout",
     "output_type": "stream",
     "text": [
      "first drop 71\n",
      "shape after 1st drop: (21948, 332)\n"
     ]
    }
   ],
   "source": [
    "drop_list1 = list(nontarget_dists[nontarget_dists.number==0][\"target\"].values)\n",
    "print(\"first drop\", len(drop_list1))\n",
    "non_targets.drop(drop_list1, axis=1, inplace=True)\n",
    "print(\"shape after 1st drop:\", non_targets.shape)\n",
    "#drop_list2 = list(nontarget_dists[(nontarget_dists.number>0) & (nontarget_dists.number<=6)][\"target\"].values)[:-1]\n",
    "#print(\"second drop\", len(drop_list2))\n",
    "#non_targets.drop(drop_list2, axis=1, inplace=True)\n",
    "#print(\"shape after 2nd drop:\", non_targets.shape)"
   ]
  },
  {
   "cell_type": "code",
   "execution_count": 8,
   "metadata": {
    "execution": {
     "iopub.execute_input": "2020-10-12T13:08:17.706850Z",
     "iopub.status.busy": "2020-10-12T13:08:17.705724Z",
     "iopub.status.idle": "2020-10-12T13:08:17.708418Z",
     "shell.execute_reply": "2020-10-12T13:08:17.707677Z"
    },
    "papermill": {
     "duration": 0.036911,
     "end_time": "2020-10-12T13:08:17.708537",
     "exception": false,
     "start_time": "2020-10-12T13:08:17.671626",
     "status": "completed"
    },
    "tags": []
   },
   "outputs": [],
   "source": [
    "#X = train[g_feats].copy().values\n",
    "#select = VarianceThreshold(threshold=1)\n",
    "#X_new = select.fit_transform(X)\n",
    "#drop_g_feats = list(np.array(g_feats)[select.get_support()==False])\n",
    "#len(drop_g_feats)"
   ]
  },
  {
   "cell_type": "markdown",
   "metadata": {
    "papermill": {
     "duration": 0.027597,
     "end_time": "2020-10-12T13:08:17.763808",
     "exception": false,
     "start_time": "2020-10-12T13:08:17.736211",
     "status": "completed"
    },
    "tags": []
   },
   "source": [
    "# Feature engineering "
   ]
  },
  {
   "cell_type": "code",
   "execution_count": 9,
   "metadata": {
    "execution": {
     "iopub.execute_input": "2020-10-12T13:08:17.836317Z",
     "iopub.status.busy": "2020-10-12T13:08:17.835345Z",
     "iopub.status.idle": "2020-10-12T13:08:17.837898Z",
     "shell.execute_reply": "2020-10-12T13:08:17.837107Z"
    },
    "papermill": {
     "duration": 0.047189,
     "end_time": "2020-10-12T13:08:17.838036",
     "exception": false,
     "start_time": "2020-10-12T13:08:17.790847",
     "status": "completed"
    },
    "tags": []
   },
   "outputs": [],
   "source": [
    "#num = 10\n",
    "#pca_c_cols = [\"pca-c\"+str(i+1) for i in range(num)]\n",
    "#pca = PCA(n_components=num)\n",
    "#tmp_train = pca.fit_transform(train[c_feats])\n",
    "#tmp_test = pca.transform(test[c_feats])\n",
    "#tmp_train = pd.DataFrame(tmp_train, columns=pca_c_cols)\n",
    "#tmp_test = pd.DataFrame(tmp_test, columns=pca_c_cols)\n",
    "\n",
    "#train = pd.concat([train, tmp_train],axis=1)\n",
    "#test = pd.concat([test, tmp_test],axis=1)"
   ]
  },
  {
   "cell_type": "code",
   "execution_count": 10,
   "metadata": {
    "execution": {
     "iopub.execute_input": "2020-10-12T13:08:17.968564Z",
     "iopub.status.busy": "2020-10-12T13:08:17.967699Z",
     "iopub.status.idle": "2020-10-12T13:08:22.793069Z",
     "shell.execute_reply": "2020-10-12T13:08:22.793596Z"
    },
    "papermill": {
     "duration": 4.925137,
     "end_time": "2020-10-12T13:08:22.793773",
     "exception": false,
     "start_time": "2020-10-12T13:08:17.868636",
     "status": "completed"
    },
    "tags": []
   },
   "outputs": [
    {
     "name": "stdout",
     "output_type": "stream",
     "text": [
      "(21948, 874) (3982, 874)\n"
     ]
    }
   ],
   "source": [
    "def fe(df):\n",
    "    tmp = df.copy()\n",
    "    df['g_sum'] = df[g_feats].sum(axis = 1)\n",
    "    df['g_mean'] = df[g_feats].mean(axis = 1)\n",
    "    df['g_std'] = df[g_feats].std(axis = 1)\n",
    "    df['g_kurt'] = df[g_feats].kurtosis(axis = 1)\n",
    "    df['g_skew'] = df[g_feats].skew(axis = 1)\n",
    "    df['c_sum'] = df[c_feats].sum(axis = 1)\n",
    "    df['c_mean'] = df[c_feats].mean(axis = 1)\n",
    "    df['c_std'] = df[c_feats].std(axis = 1)\n",
    "    df['c_kurt'] = df[c_feats].kurtosis(axis = 1)\n",
    "    df['c_skew'] = df[c_feats].skew(axis = 1)\n",
    "    df['gc_sum'] = df[c_feats + g_feats].sum(axis = 1)\n",
    "    df['gc_mean'] = df[c_feats + g_feats].mean(axis = 1)\n",
    "    df['gc_std'] = df[c_feats + g_feats].std(axis = 1)\n",
    "    df['gc_kurt'] = df[c_feats + g_feats].kurtosis(axis = 1)\n",
    "    df['gc_skew'] = df[c_feats + g_feats].skew(axis = 1)\n",
    "    tmp.loc[:, 'cp_type'] = tmp.loc[:, 'cp_type'].map({'trt_cp': 0, 'ctl_vehicle': 1})\n",
    "    tmp.loc[:, 'cp_dose'] = tmp.loc[:, 'cp_dose'].map({'D1': 0, 'D2': 1})\n",
    "        \n",
    "    tmp.drop([\"cp_type\", \"sig_id\"], axis=1, inplace=True)\n",
    "    return tmp\n",
    "\n",
    "f_train = fe(train)\n",
    "f_test = fe(test)\n",
    "\n",
    "print(f_train.shape, f_test.shape)"
   ]
  },
  {
   "cell_type": "markdown",
   "metadata": {
    "papermill": {
     "duration": 0.019903,
     "end_time": "2020-10-12T13:08:22.834134",
     "exception": false,
     "start_time": "2020-10-12T13:08:22.814231",
     "status": "completed"
    },
    "tags": []
   },
   "source": [
    "# modelling"
   ]
  },
  {
   "cell_type": "code",
   "execution_count": 11,
   "metadata": {
    "execution": {
     "iopub.execute_input": "2020-10-12T13:08:23.236017Z",
     "iopub.status.busy": "2020-10-12T13:08:22.885928Z",
     "iopub.status.idle": "2020-10-12T13:08:23.241289Z",
     "shell.execute_reply": "2020-10-12T13:08:23.241948Z"
    },
    "papermill": {
     "duration": 0.38882,
     "end_time": "2020-10-12T13:08:23.242146",
     "exception": false,
     "start_time": "2020-10-12T13:08:22.853326",
     "status": "completed"
    },
    "tags": []
   },
   "outputs": [
    {
     "name": "stdout",
     "output_type": "stream",
     "text": [
      "cuda\n"
     ]
    }
   ],
   "source": [
    "device = \"cuda\" if torch.cuda.is_available() else \"cpu\"\n",
    "print(device)\n",
    "def mean_log_loss(y_true, y_pred):\n",
    "    metrics = []\n",
    "    for i, target in enumerate(target_feats):\n",
    "        metrics.append(log_loss(y_true[:, i], y_pred[:, i].astype(float), labels=[0,1]))\n",
    "    return np.mean(metrics)\n",
    "\n",
    "def seed_everything(seed=1234): \n",
    "    random.seed(seed)\n",
    "    os.environ['PYTHONHASHSEED'] = str(seed)\n",
    "    tf.random.set_seed(seed)\n",
    "    np.random.seed(seed)\n",
    "    torch.manual_seed(seed)\n",
    "    torch.cuda.manual_seed(seed)\n",
    "    torch.backends.cudnn.deterministic = True\n",
    "\n",
    "class MoaModel(nn.Module):\n",
    "    def __init__(self, num_columns, last_num):\n",
    "        super(MoaModel, self).__init__()\n",
    "        self.batch_norm1 = nn.BatchNorm1d(num_columns)\n",
    "        self.dropout1 = nn.Dropout(0.2)\n",
    "        self.dense1 = nn.utils.weight_norm(nn.Linear(num_columns, 2048))\n",
    "        \n",
    "        self.batch_norm2 = nn.BatchNorm1d(2048)\n",
    "        self.dropout2 = nn.Dropout(0.6)\n",
    "        self.dense2 = nn.utils.weight_norm(nn.Linear(2048,1048))\n",
    "        \n",
    "        self.batch_norm3 = nn.BatchNorm1d(1048)\n",
    "        self.dropout3 = nn.Dropout(0.6)\n",
    "        self.dense3 = nn.utils.weight_norm(nn.Linear(1048, last_num))\n",
    "    \n",
    "    def forward(self, x):\n",
    "        x = self.batch_norm1(x)\n",
    "        x = self.dropout1(x)\n",
    "        x = F.relu(self.dense1(x))\n",
    "        \n",
    "        x = self.batch_norm2(x)\n",
    "        x = self.dropout2(x)\n",
    "        x = F.relu(self.dense2(x))\n",
    "        \n",
    "        x = self.batch_norm3(x)\n",
    "        x = self.dropout3(x)\n",
    "        x = self.dense3(x)\n",
    "        \n",
    "        return x"
   ]
  },
  {
   "cell_type": "markdown",
   "metadata": {
    "papermill": {
     "duration": 0.022405,
     "end_time": "2020-10-12T13:08:23.284926",
     "exception": false,
     "start_time": "2020-10-12T13:08:23.262521",
     "status": "completed"
    },
    "tags": []
   },
   "source": [
    "# predict non-targets, targets separately"
   ]
  },
  {
   "cell_type": "code",
   "execution_count": 12,
   "metadata": {
    "execution": {
     "iopub.execute_input": "2020-10-12T13:08:23.369484Z",
     "iopub.status.busy": "2020-10-12T13:08:23.342682Z",
     "iopub.status.idle": "2020-10-12T13:08:23.372371Z",
     "shell.execute_reply": "2020-10-12T13:08:23.371809Z"
    },
    "papermill": {
     "duration": 0.064085,
     "end_time": "2020-10-12T13:08:23.372478",
     "exception": false,
     "start_time": "2020-10-12T13:08:23.308393",
     "status": "completed"
    },
    "tags": []
   },
   "outputs": [],
   "source": [
    "batch_size = 128\n",
    "train_epochs = 5\n",
    "n_folds=5\n",
    "\n",
    "def first_learning(tr, target, sample_seed, init_num):\n",
    "    seed_everything(seed=sample_seed) \n",
    "    X_train = tr.copy()\n",
    "    y_train = target.copy()\n",
    "\n",
    "    mskf=MultilabelStratifiedKFold(n_splits = n_folds, shuffle=True, random_state=2)\n",
    "    files = []\n",
    "        \n",
    "    oof = np.zeros([len(X_train),y_train.shape[1]])\n",
    "    oof_targets = np.zeros([len(X_train),y_train.shape[1]])\n",
    "    scores = []\n",
    "    for fold, (train_index, valid_index) in enumerate(mskf.split(X_train, y_train)):\n",
    "        print(\"Fold \"+str(fold+1))\n",
    "        X_train2 = torch.tensor(X_train[train_index,:], dtype=torch.float32)\n",
    "        y_train2 = torch.tensor(y_train[train_index], dtype=torch.float32)\n",
    "\n",
    "        X_valid2 = torch.tensor(X_train[valid_index,:], dtype=torch.float32)\n",
    "        y_valid2 = torch.tensor(y_train[valid_index], dtype=torch.float32)\n",
    "            \n",
    "        clf = MoaModel(init_num)\n",
    "        loss_fn = torch.nn.BCEWithLogitsLoss() \n",
    "        optimizer = optim.Adam(clf.parameters(), lr = 0.001, weight_decay=1e-5) \n",
    "        scheduler = optim.lr_scheduler.ReduceLROnPlateau(optimizer, mode='min', factor=0.1, patience=3, eps=1e-4, verbose=True)\n",
    "        \n",
    "        train = torch.utils.data.TensorDataset(X_train2, y_train2)\n",
    "        valid = torch.utils.data.TensorDataset(X_valid2, y_valid2)\n",
    "        \n",
    "        clf.to(device)\n",
    "        \n",
    "        train_loader = torch.utils.data.DataLoader(train, batch_size=batch_size, shuffle=True) \n",
    "        valid_loader = torch.utils.data.DataLoader(valid, batch_size=batch_size, shuffle=False)\n",
    "        \n",
    "        best_val_loss = np.inf\n",
    "        stop_counts = 0\n",
    "        for epoch in range(train_epochs):\n",
    "            start_time = time.time()\n",
    "            clf.train()\n",
    "            avg_loss = 0.\n",
    "            for x_batch, y_batch in tqdm(train_loader, disable=True):\n",
    "                x_batch = x_batch.to(device)\n",
    "                y_batch = y_batch.to(device)\n",
    "                y_pred = clf(x_batch) \n",
    "                loss = loss_fn(y_pred, y_batch)\n",
    "                optimizer.zero_grad()\n",
    "                loss.backward()\n",
    "                optimizer.step()\n",
    "                avg_loss += loss.item() / len(train_loader)        \n",
    "            \n",
    "            clf.eval()\n",
    "            avg_val_loss = 0.\n",
    "            for i, (x_batch, y_batch) in enumerate(valid_loader): \n",
    "                x_batch = x_batch.to(device)\n",
    "                y_batch = y_batch.to(device)\n",
    "                y_pred = clf(x_batch).detach()\n",
    "                avg_val_loss += loss_fn(y_pred, y_batch).item() / len(valid_loader)\n",
    "        \n",
    "            elapsed_time = time.time() - start_time \n",
    "            scheduler.step(avg_val_loss)\n",
    "                    \n",
    "            if avg_val_loss < best_val_loss:\n",
    "                stop_counts = 0\n",
    "                best_val_loss = avg_val_loss\n",
    "                print('Best model: Epoch {} \\t loss={:.6f} \\t val_loss={:.6f} \\t time={:.2f}s'.format(\n",
    "                    epoch + 1, avg_loss, avg_val_loss, elapsed_time))\n",
    "                torch.save(clf.state_dict(), 'parameters'+str(fold+1)+'.pt')\n",
    "            else:\n",
    "                stop_counts += 1\n",
    "         \n",
    "        files.append('parameters'+str(fold+1)+'.pt')\n",
    "        pred_model = MoaModel(init_num)\n",
    "        pred_model.load_state_dict(torch.load('parameters'+str(fold+1)+'.pt'))\n",
    "        pred_model.eval()\n",
    "        \n",
    "        # validation check ----------------\n",
    "        oof_epoch = np.zeros([X_valid2.size(0), y_train.shape[1]])\n",
    "        target_epoch = np.zeros([X_valid2.size(0), y_train.shape[1]])\n",
    "        for i, (x_batch, y_batch) in enumerate(valid_loader): \n",
    "                y_pred = pred_model(x_batch).sigmoid().detach()\n",
    "                oof_epoch[i * batch_size:(i+1) * batch_size,:] = y_pred.cpu().numpy()\n",
    "                target_epoch[i * batch_size:(i+1) * batch_size,:] = y_batch.cpu().numpy()\n",
    "        print(\"Fold {} log loss: {}\".format(fold+1, mean_log_loss(target_epoch, oof_epoch)))\n",
    "        scores.append(mean_log_loss(target_epoch, oof_epoch))\n",
    "        oof[valid_index,:] = oof_epoch\n",
    "        oof_targets[valid_index,:] = target_epoch\n",
    "        #-----------------------------------\n",
    "        \n",
    "    print(\"Seed {}\".format(seed_))\n",
    "    for i, ele in enumerate(scores):\n",
    "        print(\"Fold {} log loss: {}\".format(i+1, scores[i]))\n",
    "    print(\"Std of log loss: {}\".format(np.std(scores)))\n",
    "    print(\"Total log loss: {}\".format(mean_log_loss(oof_targets, oof)))\n",
    "    \n",
    "    return files"
   ]
  },
  {
   "cell_type": "code",
   "execution_count": 13,
   "metadata": {
    "execution": {
     "iopub.execute_input": "2020-10-12T13:08:23.419925Z",
     "iopub.status.busy": "2020-10-12T13:08:23.418660Z",
     "iopub.status.idle": "2020-10-12T13:08:24.860053Z",
     "shell.execute_reply": "2020-10-12T13:08:24.859522Z"
    },
    "papermill": {
     "duration": 1.467536,
     "end_time": "2020-10-12T13:08:24.860201",
     "exception": false,
     "start_time": "2020-10-12T13:08:23.392665",
     "status": "completed"
    },
    "tags": []
   },
   "outputs": [],
   "source": [
    "fn_train = f_train.copy().to_numpy()\n",
    "fn_test = f_test.copy().to_numpy()\n",
    "\n",
    "ss = preprocessing.RobustScaler()\n",
    "#ss = preprocessing.StandardScaler()\n",
    "fn_train= ss.fit_transform(fn_train)\n",
    "fn_test = ss.transform(fn_test)\n",
    "\n",
    "fn_nontargets = non_targets.drop(\"sig_id\", axis=1).copy().to_numpy()\n",
    "fn_targets = targets.drop(\"sig_id\", axis=1).copy().to_numpy()\n",
    "\n",
    "#seeds = [0]\n",
    "#for seed_ in seeds:\n",
    "#    files = first_learning(fn_train, fn_nontargets, seed_, fn_train.shape[1])"
   ]
  },
  {
   "cell_type": "markdown",
   "metadata": {
    "papermill": {
     "duration": 0.019462,
     "end_time": "2020-10-12T13:08:24.900516",
     "exception": false,
     "start_time": "2020-10-12T13:08:24.881054",
     "status": "completed"
    },
    "tags": []
   },
   "source": [
    "# train by targets"
   ]
  },
  {
   "cell_type": "code",
   "execution_count": 14,
   "metadata": {
    "execution": {
     "iopub.execute_input": "2020-10-12T13:08:24.964152Z",
     "iopub.status.busy": "2020-10-12T13:08:24.953598Z",
     "iopub.status.idle": "2020-10-12T13:08:24.986649Z",
     "shell.execute_reply": "2020-10-12T13:08:24.986156Z"
    },
    "papermill": {
     "duration": 0.066035,
     "end_time": "2020-10-12T13:08:24.986757",
     "exception": false,
     "start_time": "2020-10-12T13:08:24.920722",
     "status": "completed"
    },
    "tags": []
   },
   "outputs": [],
   "source": [
    "batch_size = 128\n",
    "train_epochs = 40\n",
    "n_folds=5\n",
    "EARLY_STOPPING_STEPS = 10\n",
    "\n",
    "def modelling_torch(tr, target, te, sample_seed, init_num, last_num, files):\n",
    "    seed_everything(seed=sample_seed) \n",
    "    X_train = tr.copy()\n",
    "    y_train = target.copy()\n",
    "    X_test = te.copy()\n",
    "    test_len = X_test.shape[0]\n",
    "\n",
    "    mskf=MultilabelStratifiedKFold(n_splits = n_folds, shuffle=True, random_state=2)\n",
    "    models = []\n",
    "    \n",
    "    X_test = torch.tensor(X_test, dtype=torch.float32)\n",
    "    X_test = torch.utils.data.TensorDataset(X_test) \n",
    "    test_loader = torch.utils.data.DataLoader(X_test, batch_size=batch_size, shuffle=False)\n",
    "    \n",
    "    oof = np.zeros([len(X_train),y_train.shape[1]])\n",
    "    oof_targets = np.zeros([len(X_train),y_train.shape[1]])\n",
    "    pred_value = np.zeros([test_len, y_train.shape[1]])\n",
    "    scores = []\n",
    "    for fold, (train_index, valid_index) in enumerate(mskf.split(X_train, y_train)):\n",
    "        print(\"Fold \"+str(fold+1))\n",
    "        X_train2 = torch.tensor(X_train[train_index,:], dtype=torch.float32)\n",
    "        y_train2 = torch.tensor(y_train[train_index], dtype=torch.float32)\n",
    "\n",
    "        X_valid2 = torch.tensor(X_train[valid_index,:], dtype=torch.float32)\n",
    "        y_valid2 = torch.tensor(y_train[valid_index], dtype=torch.float32)\n",
    "            \n",
    "        clf = MoaModel(init_num, last_num)\n",
    "        if files != []:\n",
    "            clf.load_state_dict(torch.load(files[fold]))\n",
    "        loss_fn = torch.nn.BCEWithLogitsLoss() \n",
    "        optimizer = optim.Adam(clf.parameters(), lr = 0.001, weight_decay=1e-5) \n",
    "        #lookahead = Lookahead(optimizer, k=10, alpha=0.6) #lookahead\n",
    "        scheduler = optim.lr_scheduler.ReduceLROnPlateau(optimizer, mode='min', factor=0.1, patience=3, eps=1e-4, verbose=True)\n",
    "        \n",
    "        train = torch.utils.data.TensorDataset(X_train2, y_train2)\n",
    "        valid = torch.utils.data.TensorDataset(X_valid2, y_valid2)\n",
    "        \n",
    "        clf.to(device)\n",
    "        \n",
    "        train_loader = torch.utils.data.DataLoader(train, batch_size=batch_size, shuffle=True) \n",
    "        valid_loader = torch.utils.data.DataLoader(valid, batch_size=batch_size, shuffle=False)\n",
    "        \n",
    "        best_val_loss = np.inf\n",
    "        stop_counts = 0\n",
    "        for epoch in range(train_epochs):\n",
    "            start_time = time.time()\n",
    "            clf.train()\n",
    "            avg_loss = 0.\n",
    "            for x_batch, y_batch in tqdm(train_loader, disable=True):\n",
    "                x_batch = x_batch.to(device)\n",
    "                y_batch = y_batch.to(device)\n",
    "                y_pred = clf(x_batch) \n",
    "                loss = loss_fn(y_pred, y_batch)\n",
    "                optimizer.zero_grad()\n",
    "                loss.backward()\n",
    "                optimizer.step()\n",
    "                avg_loss += loss.item() / len(train_loader)        \n",
    "            \n",
    "            clf.eval()\n",
    "            avg_val_loss = 0.\n",
    "            for i, (x_batch, y_batch) in enumerate(valid_loader): \n",
    "                x_batch = x_batch.to(device)\n",
    "                y_batch = y_batch.to(device)\n",
    "                y_pred = clf(x_batch).detach()\n",
    "                avg_val_loss += loss_fn(y_pred, y_batch).item() / len(valid_loader)\n",
    "        \n",
    "            elapsed_time = time.time() - start_time \n",
    "            scheduler.step(avg_val_loss)\n",
    "                    \n",
    "            if avg_val_loss < best_val_loss:\n",
    "                stop_counts = 0\n",
    "                best_val_loss = avg_val_loss\n",
    "                print('Best model: Epoch {} \\t loss={:.6f} \\t val_loss={:.6f} \\t time={:.2f}s'.format(\n",
    "                    epoch + 1, avg_loss, avg_val_loss, elapsed_time))\n",
    "                torch.save(clf.state_dict(), 'best-model-parameters.pt')\n",
    "            else:\n",
    "                stop_counts += 1\n",
    "        \n",
    "            #if stop_counts >= EARLY_STOPPING_STEPS: \n",
    "            #    break\n",
    "         \n",
    "        pred_model = MoaModel(init_num, last_num)\n",
    "        pred_model.load_state_dict(torch.load('best-model-parameters.pt'))\n",
    "        pred_model.eval()\n",
    "        \n",
    "        # validation check ----------------\n",
    "        oof_epoch = np.zeros([X_valid2.size(0), y_train.shape[1]])\n",
    "        target_epoch = np.zeros([X_valid2.size(0), y_train.shape[1]])\n",
    "        for i, (x_batch, y_batch) in enumerate(valid_loader): \n",
    "                y_pred = pred_model(x_batch).sigmoid().detach()\n",
    "                oof_epoch[i * batch_size:(i+1) * batch_size,:] = y_pred.cpu().numpy()\n",
    "                target_epoch[i * batch_size:(i+1) * batch_size,:] = y_batch.cpu().numpy()\n",
    "        print(\"Fold {} log loss: {}\".format(fold+1, mean_log_loss(target_epoch, oof_epoch)))\n",
    "        scores.append(mean_log_loss(target_epoch, oof_epoch))\n",
    "        oof[valid_index,:] = oof_epoch\n",
    "        oof_targets[valid_index,:] = target_epoch\n",
    "        #-----------------------------------\n",
    "        \n",
    "        # test predcition --------------\n",
    "        test_preds = np.zeros([test_len, y_train.shape[1]])\n",
    "        for i, (x_batch,) in enumerate(test_loader): \n",
    "            y_pred = pred_model(x_batch).sigmoid().detach()\n",
    "            test_preds[i * batch_size:(i+1) * batch_size, :] = y_pred.cpu().numpy()\n",
    "        pred_value += test_preds / n_folds\n",
    "        # ------------------------------\n",
    "        \n",
    "    print(\"Seed {}\".format(seed_))\n",
    "    for i, ele in enumerate(scores):\n",
    "        print(\"Fold {} log loss: {}\".format(i+1, scores[i]))\n",
    "    print(\"Std of log loss: {}\".format(np.std(scores)))\n",
    "    print(\"Total log loss: {}\".format(mean_log_loss(oof_targets, oof)))\n",
    "    \n",
    "    return oof, oof_targets, pred_value"
   ]
  },
  {
   "cell_type": "code",
   "execution_count": 15,
   "metadata": {
    "execution": {
     "iopub.execute_input": "2020-10-12T13:08:25.036702Z",
     "iopub.status.busy": "2020-10-12T13:08:25.034553Z",
     "iopub.status.idle": "2020-10-12T13:15:00.113864Z",
     "shell.execute_reply": "2020-10-12T13:15:00.112960Z"
    },
    "papermill": {
     "duration": 395.106702,
     "end_time": "2020-10-12T13:15:00.113996",
     "exception": false,
     "start_time": "2020-10-12T13:08:25.007294",
     "status": "completed"
    },
    "tags": []
   },
   "outputs": [
    {
     "name": "stdout",
     "output_type": "stream",
     "text": [
      "Fold 1\n",
      "Best model: Epoch 1 \t loss=0.413603 \t val_loss=0.078834 \t time=1.64s\n",
      "Best model: Epoch 2 \t loss=0.050227 \t val_loss=0.028559 \t time=0.78s\n",
      "Best model: Epoch 3 \t loss=0.027391 \t val_loss=0.024384 \t time=0.81s\n",
      "Best model: Epoch 4 \t loss=0.023389 \t val_loss=0.021819 \t time=0.79s\n",
      "Best model: Epoch 5 \t loss=0.021638 \t val_loss=0.019830 \t time=1.17s\n",
      "Best model: Epoch 6 \t loss=0.020547 \t val_loss=0.019478 \t time=1.01s\n",
      "Best model: Epoch 7 \t loss=0.019945 \t val_loss=0.019452 \t time=0.80s\n",
      "Best model: Epoch 8 \t loss=0.019363 \t val_loss=0.018561 \t time=0.83s\n",
      "Best model: Epoch 9 \t loss=0.019013 \t val_loss=0.018222 \t time=0.83s\n",
      "Best model: Epoch 10 \t loss=0.019142 \t val_loss=0.018069 \t time=0.80s\n",
      "Best model: Epoch 11 \t loss=0.018262 \t val_loss=0.017786 \t time=0.80s\n",
      "Best model: Epoch 12 \t loss=0.018067 \t val_loss=0.017680 \t time=0.79s\n",
      "Best model: Epoch 13 \t loss=0.017696 \t val_loss=0.017531 \t time=0.79s\n",
      "Best model: Epoch 14 \t loss=0.017550 \t val_loss=0.017182 \t time=0.83s\n",
      "Best model: Epoch 15 \t loss=0.017269 \t val_loss=0.017096 \t time=0.78s\n",
      "Best model: Epoch 16 \t loss=0.017075 \t val_loss=0.016962 \t time=0.79s\n",
      "Best model: Epoch 17 \t loss=0.016744 \t val_loss=0.016883 \t time=0.97s\n",
      "Best model: Epoch 18 \t loss=0.016519 \t val_loss=0.016823 \t time=0.84s\n",
      "Best model: Epoch 19 \t loss=0.016458 \t val_loss=0.016662 \t time=0.78s\n",
      "Best model: Epoch 21 \t loss=0.016173 \t val_loss=0.016641 \t time=0.79s\n",
      "Best model: Epoch 22 \t loss=0.016075 \t val_loss=0.016506 \t time=0.82s\n",
      "Best model: Epoch 23 \t loss=0.015931 \t val_loss=0.016491 \t time=0.85s\n",
      "Best model: Epoch 24 \t loss=0.015831 \t val_loss=0.016475 \t time=0.83s\n",
      "Best model: Epoch 25 \t loss=0.015673 \t val_loss=0.016438 \t time=0.82s\n",
      "Best model: Epoch 26 \t loss=0.015593 \t val_loss=0.016396 \t time=0.85s\n",
      "Best model: Epoch 27 \t loss=0.015468 \t val_loss=0.016377 \t time=0.84s\n",
      "Best model: Epoch 28 \t loss=0.015426 \t val_loss=0.016304 \t time=0.84s\n",
      "Epoch    32: reducing learning rate of group 0 to 1.0000e-04.\n",
      "Best model: Epoch 33 \t loss=0.014513 \t val_loss=0.016130 \t time=0.83s\n",
      "Best model: Epoch 34 \t loss=0.014232 \t val_loss=0.016104 \t time=0.82s\n",
      "Best model: Epoch 35 \t loss=0.014042 \t val_loss=0.016072 \t time=0.78s\n",
      "Best model: Epoch 36 \t loss=0.013969 \t val_loss=0.016046 \t time=0.80s\n",
      "Best model: Epoch 38 \t loss=0.013598 \t val_loss=0.016014 \t time=0.83s\n",
      "Best model: Epoch 40 \t loss=0.013397 \t val_loss=0.016012 \t time=0.88s\n",
      "Fold 1 log loss: 0.016111288390842683\n",
      "Fold 2\n",
      "Best model: Epoch 1 \t loss=0.414451 \t val_loss=0.083378 \t time=0.88s\n",
      "Best model: Epoch 2 \t loss=0.048900 \t val_loss=0.029431 \t time=0.83s\n",
      "Best model: Epoch 3 \t loss=0.027525 \t val_loss=0.023313 \t time=0.83s\n",
      "Best model: Epoch 4 \t loss=0.023346 \t val_loss=0.021381 \t time=0.83s\n",
      "Best model: Epoch 5 \t loss=0.021612 \t val_loss=0.019990 \t time=0.81s\n",
      "Best model: Epoch 6 \t loss=0.020802 \t val_loss=0.019482 \t time=0.81s\n",
      "Best model: Epoch 7 \t loss=0.019961 \t val_loss=0.018896 \t time=0.82s\n",
      "Best model: Epoch 8 \t loss=0.019413 \t val_loss=0.018583 \t time=0.80s\n",
      "Best model: Epoch 9 \t loss=0.019037 \t val_loss=0.018328 \t time=0.84s\n",
      "Best model: Epoch 10 \t loss=0.018600 \t val_loss=0.017882 \t time=1.08s\n",
      "Best model: Epoch 11 \t loss=0.018330 \t val_loss=0.017673 \t time=1.35s\n",
      "Best model: Epoch 12 \t loss=0.017985 \t val_loss=0.017409 \t time=1.01s\n",
      "Best model: Epoch 13 \t loss=0.017887 \t val_loss=0.017319 \t time=0.91s\n",
      "Best model: Epoch 14 \t loss=0.017594 \t val_loss=0.017109 \t time=0.91s\n",
      "Best model: Epoch 15 \t loss=0.017397 \t val_loss=0.017049 \t time=0.84s\n",
      "Best model: Epoch 16 \t loss=0.017156 \t val_loss=0.017028 \t time=0.89s\n",
      "Best model: Epoch 17 \t loss=0.016940 \t val_loss=0.016837 \t time=1.01s\n",
      "Best model: Epoch 18 \t loss=0.016718 \t val_loss=0.016675 \t time=0.91s\n",
      "Best model: Epoch 20 \t loss=0.016518 \t val_loss=0.016629 \t time=0.83s\n",
      "Best model: Epoch 21 \t loss=0.016206 \t val_loss=0.016506 \t time=1.09s\n",
      "Best model: Epoch 22 \t loss=0.016045 \t val_loss=0.016416 \t time=0.84s\n",
      "Best model: Epoch 25 \t loss=0.015771 \t val_loss=0.016375 \t time=0.78s\n",
      "Best model: Epoch 26 \t loss=0.015722 \t val_loss=0.016337 \t time=0.79s\n",
      "Best model: Epoch 28 \t loss=0.015575 \t val_loss=0.016333 \t time=0.78s\n",
      "Best model: Epoch 29 \t loss=0.015480 \t val_loss=0.016324 \t time=0.79s\n",
      "Best model: Epoch 30 \t loss=0.015380 \t val_loss=0.016320 \t time=0.77s\n",
      "Best model: Epoch 31 \t loss=0.015316 \t val_loss=0.016310 \t time=0.82s\n",
      "Best model: Epoch 32 \t loss=0.015308 \t val_loss=0.016278 \t time=0.80s\n",
      "Best model: Epoch 36 \t loss=0.015144 \t val_loss=0.016272 \t time=0.79s\n",
      "Epoch    40: reducing learning rate of group 0 to 1.0000e-04.\n",
      "Fold 2 log loss: 0.01633535254104672\n",
      "Fold 3\n",
      "Best model: Epoch 1 \t loss=0.412408 \t val_loss=0.082438 \t time=0.78s\n",
      "Best model: Epoch 2 \t loss=0.049262 \t val_loss=0.027559 \t time=0.82s\n",
      "Best model: Epoch 3 \t loss=0.027491 \t val_loss=0.023080 \t time=1.02s\n",
      "Best model: Epoch 4 \t loss=0.023238 \t val_loss=0.021240 \t time=0.85s\n",
      "Best model: Epoch 5 \t loss=0.021460 \t val_loss=0.019724 \t time=0.81s\n",
      "Best model: Epoch 6 \t loss=0.020911 \t val_loss=0.019390 \t time=0.82s\n",
      "Best model: Epoch 7 \t loss=0.019983 \t val_loss=0.019296 \t time=0.79s\n",
      "Best model: Epoch 8 \t loss=0.019473 \t val_loss=0.018534 \t time=0.83s\n",
      "Best model: Epoch 9 \t loss=0.019181 \t val_loss=0.018197 \t time=0.79s\n",
      "Best model: Epoch 12 \t loss=0.018275 \t val_loss=0.017480 \t time=0.80s\n",
      "Best model: Epoch 13 \t loss=0.017917 \t val_loss=0.017249 \t time=0.79s\n",
      "Best model: Epoch 15 \t loss=0.017430 \t val_loss=0.017072 \t time=0.79s\n",
      "Best model: Epoch 16 \t loss=0.017166 \t val_loss=0.016872 \t time=1.01s\n",
      "Best model: Epoch 17 \t loss=0.016941 \t val_loss=0.016766 \t time=0.81s\n",
      "Best model: Epoch 18 \t loss=0.016705 \t val_loss=0.016733 \t time=0.80s\n",
      "Best model: Epoch 20 \t loss=0.016490 \t val_loss=0.016630 \t time=0.78s\n",
      "Best model: Epoch 21 \t loss=0.016389 \t val_loss=0.016404 \t time=0.79s\n",
      "Epoch    25: reducing learning rate of group 0 to 1.0000e-04.\n",
      "Best model: Epoch 26 \t loss=0.015240 \t val_loss=0.016269 \t time=0.79s\n",
      "Best model: Epoch 27 \t loss=0.015024 \t val_loss=0.016129 \t time=1.05s\n",
      "Best model: Epoch 28 \t loss=0.014861 \t val_loss=0.016127 \t time=0.91s\n",
      "Best model: Epoch 29 \t loss=0.014695 \t val_loss=0.016016 \t time=0.96s\n",
      "Best model: Epoch 30 \t loss=0.014544 \t val_loss=0.016015 \t time=0.79s\n",
      "Best model: Epoch 31 \t loss=0.014486 \t val_loss=0.016002 \t time=0.80s\n",
      "Best model: Epoch 33 \t loss=0.014218 \t val_loss=0.015996 \t time=0.82s\n",
      "Best model: Epoch 34 \t loss=0.014132 \t val_loss=0.015949 \t time=0.80s\n",
      "Fold 3 log loss: 0.01594209416675916\n",
      "Fold 4\n",
      "Best model: Epoch 1 \t loss=0.409868 \t val_loss=0.077973 \t time=0.83s\n",
      "Best model: Epoch 2 \t loss=0.049028 \t val_loss=0.027984 \t time=0.82s\n",
      "Best model: Epoch 3 \t loss=0.027368 \t val_loss=0.022438 \t time=0.84s\n",
      "Best model: Epoch 4 \t loss=0.023506 \t val_loss=0.020988 \t time=0.79s\n",
      "Best model: Epoch 5 \t loss=0.021719 \t val_loss=0.020566 \t time=0.80s\n",
      "Best model: Epoch 6 \t loss=0.020832 \t val_loss=0.019090 \t time=0.78s\n",
      "Best model: Epoch 7 \t loss=0.020162 \t val_loss=0.018760 \t time=0.79s\n",
      "Best model: Epoch 8 \t loss=0.019411 \t val_loss=0.018224 \t time=0.80s\n",
      "Best model: Epoch 9 \t loss=0.019006 \t val_loss=0.018124 \t time=0.81s\n",
      "Best model: Epoch 10 \t loss=0.018969 \t val_loss=0.017873 \t time=0.99s\n",
      "Best model: Epoch 11 \t loss=0.018397 \t val_loss=0.017557 \t time=0.87s\n",
      "Best model: Epoch 12 \t loss=0.018146 \t val_loss=0.017397 \t time=0.80s\n",
      "Best model: Epoch 13 \t loss=0.017768 \t val_loss=0.017041 \t time=0.80s\n",
      "Best model: Epoch 14 \t loss=0.017553 \t val_loss=0.016900 \t time=0.80s\n",
      "Best model: Epoch 15 \t loss=0.017236 \t val_loss=0.016818 \t time=0.80s\n",
      "Best model: Epoch 16 \t loss=0.017077 \t val_loss=0.016675 \t time=0.84s\n",
      "Best model: Epoch 17 \t loss=0.016869 \t val_loss=0.016581 \t time=0.79s\n",
      "Best model: Epoch 18 \t loss=0.016683 \t val_loss=0.016543 \t time=0.83s\n",
      "Best model: Epoch 19 \t loss=0.016500 \t val_loss=0.016508 \t time=0.79s\n",
      "Best model: Epoch 20 \t loss=0.016338 \t val_loss=0.016362 \t time=0.92s\n",
      "Best model: Epoch 22 \t loss=0.016163 \t val_loss=0.016323 \t time=0.81s\n",
      "Best model: Epoch 24 \t loss=0.015886 \t val_loss=0.016292 \t time=0.81s\n",
      "Best model: Epoch 27 \t loss=0.015562 \t val_loss=0.016243 \t time=0.79s\n",
      "Best model: Epoch 29 \t loss=0.015466 \t val_loss=0.016229 \t time=0.80s\n",
      "Best model: Epoch 30 \t loss=0.015348 \t val_loss=0.016180 \t time=0.81s\n",
      "Best model: Epoch 32 \t loss=0.015351 \t val_loss=0.016171 \t time=0.79s\n",
      "Best model: Epoch 34 \t loss=0.015137 \t val_loss=0.016129 \t time=0.79s\n",
      "Epoch    38: reducing learning rate of group 0 to 1.0000e-04.\n",
      "Best model: Epoch 39 \t loss=0.014333 \t val_loss=0.015993 \t time=0.79s\n",
      "Best model: Epoch 40 \t loss=0.014060 \t val_loss=0.015944 \t time=0.79s\n",
      "Fold 4 log loss: 0.01600056938358541\n",
      "Fold 5\n",
      "Best model: Epoch 1 \t loss=0.409403 \t val_loss=0.079369 \t time=0.79s\n",
      "Best model: Epoch 2 \t loss=0.049505 \t val_loss=0.028569 \t time=0.79s\n",
      "Best model: Epoch 3 \t loss=0.027956 \t val_loss=0.022296 \t time=0.79s\n",
      "Best model: Epoch 4 \t loss=0.023232 \t val_loss=0.020788 \t time=0.79s\n",
      "Best model: Epoch 5 \t loss=0.021639 \t val_loss=0.020124 \t time=0.79s\n",
      "Best model: Epoch 6 \t loss=0.020461 \t val_loss=0.019335 \t time=0.99s\n",
      "Best model: Epoch 7 \t loss=0.019870 \t val_loss=0.018850 \t time=0.81s\n",
      "Best model: Epoch 8 \t loss=0.019490 \t val_loss=0.018735 \t time=0.79s\n",
      "Best model: Epoch 9 \t loss=0.019212 \t val_loss=0.018281 \t time=0.80s\n",
      "Best model: Epoch 10 \t loss=0.018615 \t val_loss=0.018048 \t time=0.83s\n",
      "Best model: Epoch 11 \t loss=0.018473 \t val_loss=0.017701 \t time=0.79s\n",
      "Best model: Epoch 12 \t loss=0.018183 \t val_loss=0.017570 \t time=0.81s\n",
      "Best model: Epoch 13 \t loss=0.017972 \t val_loss=0.017386 \t time=0.79s\n",
      "Best model: Epoch 15 \t loss=0.017357 \t val_loss=0.017112 \t time=1.12s\n",
      "Best model: Epoch 16 \t loss=0.017039 \t val_loss=0.016982 \t time=0.86s\n",
      "Best model: Epoch 17 \t loss=0.016778 \t val_loss=0.016884 \t time=0.81s\n",
      "Best model: Epoch 19 \t loss=0.016615 \t val_loss=0.016719 \t time=1.26s\n",
      "Best model: Epoch 20 \t loss=0.016370 \t val_loss=0.016706 \t time=1.01s\n",
      "Best model: Epoch 21 \t loss=0.016241 \t val_loss=0.016678 \t time=0.90s\n",
      "Best model: Epoch 23 \t loss=0.015922 \t val_loss=0.016635 \t time=0.82s\n",
      "Best model: Epoch 24 \t loss=0.015847 \t val_loss=0.016568 \t time=0.85s\n",
      "Best model: Epoch 25 \t loss=0.015753 \t val_loss=0.016469 \t time=0.81s\n",
      "Best model: Epoch 26 \t loss=0.015655 \t val_loss=0.016397 \t time=0.93s\n",
      "Epoch    30: reducing learning rate of group 0 to 1.0000e-04.\n",
      "Best model: Epoch 31 \t loss=0.014741 \t val_loss=0.016242 \t time=0.81s\n",
      "Best model: Epoch 32 \t loss=0.014377 \t val_loss=0.016181 \t time=0.82s\n",
      "Best model: Epoch 33 \t loss=0.014255 \t val_loss=0.016152 \t time=0.78s\n",
      "Best model: Epoch 34 \t loss=0.014149 \t val_loss=0.016131 \t time=0.79s\n",
      "Best model: Epoch 37 \t loss=0.013686 \t val_loss=0.016120 \t time=0.78s\n",
      "Best model: Epoch 38 \t loss=0.013626 \t val_loss=0.016110 \t time=0.79s\n",
      "Fold 5 log loss: 0.016114571045746994\n",
      "Seed 10\n",
      "Fold 1 log loss: 0.016111288390842683\n",
      "Fold 2 log loss: 0.01633535254104672\n",
      "Fold 3 log loss: 0.01594209416675916\n",
      "Fold 4 log loss: 0.01600056938358541\n",
      "Fold 5 log loss: 0.016114571045746994\n",
      "Std of log loss: 0.0001345721051539056\n",
      "Total log loss: 0.016100763789149337\n",
      "Fold 1\n",
      "Best model: Epoch 1 \t loss=0.413392 \t val_loss=0.080964 \t time=0.79s\n",
      "Best model: Epoch 2 \t loss=0.048116 \t val_loss=0.027902 \t time=0.80s\n",
      "Best model: Epoch 3 \t loss=0.028026 \t val_loss=0.022410 \t time=0.80s\n",
      "Best model: Epoch 4 \t loss=0.023019 \t val_loss=0.021255 \t time=1.01s\n",
      "Best model: Epoch 5 \t loss=0.021274 \t val_loss=0.020146 \t time=0.93s\n",
      "Best model: Epoch 6 \t loss=0.020771 \t val_loss=0.019314 \t time=0.80s\n",
      "Best model: Epoch 7 \t loss=0.019953 \t val_loss=0.018880 \t time=0.78s\n",
      "Best model: Epoch 8 \t loss=0.019200 \t val_loss=0.018503 \t time=0.81s\n",
      "Best model: Epoch 9 \t loss=0.018881 \t val_loss=0.018294 \t time=0.98s\n",
      "Best model: Epoch 10 \t loss=0.018684 \t val_loss=0.018043 \t time=0.84s\n",
      "Best model: Epoch 11 \t loss=0.018248 \t val_loss=0.017678 \t time=0.84s\n",
      "Best model: Epoch 12 \t loss=0.017794 \t val_loss=0.017570 \t time=0.82s\n",
      "Best model: Epoch 13 \t loss=0.017621 \t val_loss=0.017367 \t time=0.81s\n",
      "Best model: Epoch 15 \t loss=0.017311 \t val_loss=0.017104 \t time=0.80s\n",
      "Best model: Epoch 16 \t loss=0.017128 \t val_loss=0.016916 \t time=0.84s\n",
      "Best model: Epoch 18 \t loss=0.016891 \t val_loss=0.016801 \t time=0.79s\n",
      "Best model: Epoch 19 \t loss=0.016550 \t val_loss=0.016677 \t time=0.79s\n",
      "Best model: Epoch 20 \t loss=0.016299 \t val_loss=0.016618 \t time=0.82s\n",
      "Best model: Epoch 21 \t loss=0.016137 \t val_loss=0.016561 \t time=0.81s\n",
      "Best model: Epoch 23 \t loss=0.015980 \t val_loss=0.016530 \t time=0.79s\n",
      "Best model: Epoch 25 \t loss=0.015747 \t val_loss=0.016448 \t time=0.81s\n",
      "Best model: Epoch 27 \t loss=0.015649 \t val_loss=0.016414 \t time=0.79s\n",
      "Best model: Epoch 28 \t loss=0.015542 \t val_loss=0.016372 \t time=0.85s\n",
      "Best model: Epoch 29 \t loss=0.015472 \t val_loss=0.016317 \t time=0.82s\n",
      "Epoch    33: reducing learning rate of group 0 to 1.0000e-04.\n",
      "Best model: Epoch 34 \t loss=0.014613 \t val_loss=0.016153 \t time=0.81s\n",
      "Best model: Epoch 35 \t loss=0.014302 \t val_loss=0.016144 \t time=1.00s\n",
      "Best model: Epoch 36 \t loss=0.014136 \t val_loss=0.016061 \t time=0.80s\n",
      "Best model: Epoch 38 \t loss=0.013844 \t val_loss=0.016054 \t time=0.81s\n",
      "Best model: Epoch 39 \t loss=0.013732 \t val_loss=0.016026 \t time=0.80s\n",
      "Fold 1 log loss: 0.016120868082387305\n",
      "Fold 2\n",
      "Best model: Epoch 1 \t loss=0.412985 \t val_loss=0.074356 \t time=0.89s\n",
      "Best model: Epoch 2 \t loss=0.050643 \t val_loss=0.029775 \t time=0.83s\n",
      "Best model: Epoch 3 \t loss=0.027377 \t val_loss=0.022940 \t time=1.37s\n",
      "Best model: Epoch 4 \t loss=0.023534 \t val_loss=0.020950 \t time=0.86s\n",
      "Best model: Epoch 5 \t loss=0.021576 \t val_loss=0.019941 \t time=0.86s\n",
      "Best model: Epoch 6 \t loss=0.020512 \t val_loss=0.019119 \t time=0.82s\n",
      "Best model: Epoch 7 \t loss=0.020113 \t val_loss=0.018774 \t time=0.98s\n",
      "Best model: Epoch 8 \t loss=0.019460 \t val_loss=0.018422 \t time=0.82s\n",
      "Best model: Epoch 9 \t loss=0.019088 \t val_loss=0.018059 \t time=0.84s\n",
      "Best model: Epoch 11 \t loss=0.018284 \t val_loss=0.017621 \t time=0.78s\n",
      "Best model: Epoch 12 \t loss=0.018161 \t val_loss=0.017551 \t time=0.80s\n",
      "Best model: Epoch 13 \t loss=0.017655 \t val_loss=0.017234 \t time=0.83s\n",
      "Best model: Epoch 15 \t loss=0.017308 \t val_loss=0.016938 \t time=0.93s\n",
      "Best model: Epoch 16 \t loss=0.017049 \t val_loss=0.016924 \t time=0.86s\n",
      "Best model: Epoch 17 \t loss=0.016875 \t val_loss=0.016845 \t time=0.79s\n",
      "Best model: Epoch 18 \t loss=0.016569 \t val_loss=0.016774 \t time=0.79s\n",
      "Best model: Epoch 19 \t loss=0.016512 \t val_loss=0.016622 \t time=0.81s\n",
      "Best model: Epoch 20 \t loss=0.016287 \t val_loss=0.016590 \t time=0.80s\n",
      "Best model: Epoch 21 \t loss=0.016131 \t val_loss=0.016510 \t time=0.79s\n",
      "Best model: Epoch 23 \t loss=0.016075 \t val_loss=0.016434 \t time=0.79s\n",
      "Best model: Epoch 25 \t loss=0.015735 \t val_loss=0.016363 \t time=0.81s\n",
      "Best model: Epoch 26 \t loss=0.015594 \t val_loss=0.016334 \t time=0.79s\n",
      "Best model: Epoch 28 \t loss=0.015456 \t val_loss=0.016332 \t time=0.95s\n",
      "Best model: Epoch 30 \t loss=0.015236 \t val_loss=0.016319 \t time=0.82s\n",
      "Best model: Epoch 34 \t loss=0.015132 \t val_loss=0.016253 \t time=0.82s\n",
      "Epoch    38: reducing learning rate of group 0 to 1.0000e-04.\n",
      "Best model: Epoch 39 \t loss=0.014306 \t val_loss=0.016132 \t time=0.80s\n",
      "Best model: Epoch 40 \t loss=0.014023 \t val_loss=0.016095 \t time=0.81s\n",
      "Fold 2 log loss: 0.01615611143141169\n",
      "Fold 3\n",
      "Best model: Epoch 1 \t loss=0.419625 \t val_loss=0.083536 \t time=0.80s\n",
      "Best model: Epoch 2 \t loss=0.048973 \t val_loss=0.030983 \t time=0.81s\n",
      "Best model: Epoch 3 \t loss=0.027298 \t val_loss=0.022691 \t time=0.78s\n",
      "Best model: Epoch 4 \t loss=0.023196 \t val_loss=0.021085 \t time=0.79s\n",
      "Best model: Epoch 5 \t loss=0.021624 \t val_loss=0.019686 \t time=0.79s\n",
      "Best model: Epoch 6 \t loss=0.020329 \t val_loss=0.019199 \t time=0.81s\n",
      "Best model: Epoch 7 \t loss=0.019965 \t val_loss=0.019186 \t time=0.79s\n",
      "Best model: Epoch 8 \t loss=0.019575 \t val_loss=0.018633 \t time=0.79s\n",
      "Best model: Epoch 9 \t loss=0.019075 \t val_loss=0.018138 \t time=0.80s\n",
      "Best model: Epoch 10 \t loss=0.018690 \t val_loss=0.017944 \t time=0.94s\n",
      "Best model: Epoch 11 \t loss=0.018562 \t val_loss=0.017618 \t time=0.90s\n",
      "Best model: Epoch 12 \t loss=0.018123 \t val_loss=0.017462 \t time=0.78s\n",
      "Best model: Epoch 13 \t loss=0.017787 \t val_loss=0.017241 \t time=0.84s\n",
      "Best model: Epoch 14 \t loss=0.017526 \t val_loss=0.017140 \t time=0.83s\n",
      "Best model: Epoch 15 \t loss=0.017312 \t val_loss=0.016962 \t time=0.81s\n",
      "Best model: Epoch 16 \t loss=0.017130 \t val_loss=0.016849 \t time=0.82s\n",
      "Best model: Epoch 17 \t loss=0.016889 \t val_loss=0.016779 \t time=0.82s\n",
      "Best model: Epoch 18 \t loss=0.016617 \t val_loss=0.016768 \t time=0.80s\n",
      "Best model: Epoch 19 \t loss=0.016547 \t val_loss=0.016561 \t time=0.80s\n",
      "Best model: Epoch 20 \t loss=0.016434 \t val_loss=0.016560 \t time=0.80s\n",
      "Best model: Epoch 21 \t loss=0.016237 \t val_loss=0.016461 \t time=0.81s\n",
      "Best model: Epoch 23 \t loss=0.016047 \t val_loss=0.016449 \t time=1.11s\n",
      "Best model: Epoch 25 \t loss=0.015829 \t val_loss=0.016323 \t time=0.89s\n",
      "Best model: Epoch 28 \t loss=0.015576 \t val_loss=0.016319 \t time=1.04s\n",
      "Best model: Epoch 29 \t loss=0.015473 \t val_loss=0.016285 \t time=0.82s\n",
      "Best model: Epoch 31 \t loss=0.015356 \t val_loss=0.016229 \t time=0.80s\n",
      "Best model: Epoch 35 \t loss=0.015223 \t val_loss=0.016214 \t time=0.90s\n",
      "Epoch    39: reducing learning rate of group 0 to 1.0000e-04.\n",
      "Best model: Epoch 40 \t loss=0.014335 \t val_loss=0.016034 \t time=0.78s\n",
      "Fold 3 log loss: 0.016025396140417338\n",
      "Fold 4\n",
      "Best model: Epoch 1 \t loss=0.411420 \t val_loss=0.083609 \t time=0.78s\n",
      "Best model: Epoch 2 \t loss=0.049550 \t val_loss=0.028195 \t time=0.78s\n",
      "Best model: Epoch 3 \t loss=0.027389 \t val_loss=0.022869 \t time=0.81s\n",
      "Best model: Epoch 4 \t loss=0.023346 \t val_loss=0.020732 \t time=0.87s\n",
      "Best model: Epoch 5 \t loss=0.021702 \t val_loss=0.019864 \t time=0.95s\n",
      "Best model: Epoch 6 \t loss=0.021276 \t val_loss=0.019261 \t time=0.80s\n",
      "Best model: Epoch 7 \t loss=0.020157 \t val_loss=0.018775 \t time=0.78s\n",
      "Best model: Epoch 8 \t loss=0.019444 \t val_loss=0.018200 \t time=0.79s\n",
      "Best model: Epoch 9 \t loss=0.019076 \t val_loss=0.017933 \t time=0.79s\n",
      "Best model: Epoch 10 \t loss=0.018616 \t val_loss=0.017606 \t time=0.77s\n",
      "Best model: Epoch 11 \t loss=0.018199 \t val_loss=0.017364 \t time=0.77s\n",
      "Best model: Epoch 12 \t loss=0.018037 \t val_loss=0.017245 \t time=0.80s\n",
      "Best model: Epoch 13 \t loss=0.017732 \t val_loss=0.017109 \t time=0.79s\n",
      "Best model: Epoch 14 \t loss=0.017454 \t val_loss=0.016877 \t time=0.82s\n",
      "Best model: Epoch 16 \t loss=0.017141 \t val_loss=0.016695 \t time=0.78s\n",
      "Best model: Epoch 17 \t loss=0.016956 \t val_loss=0.016681 \t time=0.91s\n",
      "Best model: Epoch 18 \t loss=0.016783 \t val_loss=0.016592 \t time=0.87s\n",
      "Best model: Epoch 20 \t loss=0.016423 \t val_loss=0.016407 \t time=0.83s\n",
      "Best model: Epoch 22 \t loss=0.016277 \t val_loss=0.016333 \t time=0.86s\n",
      "Best model: Epoch 24 \t loss=0.016006 \t val_loss=0.016311 \t time=0.81s\n",
      "Best model: Epoch 25 \t loss=0.015817 \t val_loss=0.016241 \t time=0.78s\n",
      "Best model: Epoch 26 \t loss=0.015732 \t val_loss=0.016236 \t time=0.81s\n",
      "Epoch    30: reducing learning rate of group 0 to 1.0000e-04.\n",
      "Best model: Epoch 31 \t loss=0.014801 \t val_loss=0.016006 \t time=0.88s\n",
      "Best model: Epoch 32 \t loss=0.014594 \t val_loss=0.015977 \t time=0.78s\n",
      "Best model: Epoch 33 \t loss=0.014372 \t val_loss=0.015926 \t time=0.80s\n",
      "Best model: Epoch 34 \t loss=0.014199 \t val_loss=0.015917 \t time=0.79s\n",
      "Best model: Epoch 35 \t loss=0.014085 \t val_loss=0.015866 \t time=0.85s\n",
      "Fold 4 log loss: 0.01592254083463893\n",
      "Fold 5\n",
      "Best model: Epoch 1 \t loss=0.414133 \t val_loss=0.076331 \t time=0.78s\n",
      "Best model: Epoch 2 \t loss=0.048389 \t val_loss=0.029112 \t time=0.78s\n",
      "Best model: Epoch 3 \t loss=0.027882 \t val_loss=0.023935 \t time=0.77s\n",
      "Best model: Epoch 4 \t loss=0.023329 \t val_loss=0.021314 \t time=0.89s\n",
      "Best model: Epoch 5 \t loss=0.021326 \t val_loss=0.019818 \t time=1.05s\n",
      "Best model: Epoch 6 \t loss=0.020831 \t val_loss=0.019589 \t time=1.05s\n",
      "Best model: Epoch 7 \t loss=0.020043 \t val_loss=0.019463 \t time=0.79s\n",
      "Best model: Epoch 8 \t loss=0.019570 \t val_loss=0.018556 \t time=0.79s\n",
      "Best model: Epoch 9 \t loss=0.018937 \t val_loss=0.018218 \t time=0.81s\n",
      "Best model: Epoch 10 \t loss=0.018587 \t val_loss=0.017993 \t time=0.83s\n",
      "Best model: Epoch 11 \t loss=0.018308 \t val_loss=0.017556 \t time=0.82s\n",
      "Best model: Epoch 12 \t loss=0.018048 \t val_loss=0.017499 \t time=1.11s\n",
      "Best model: Epoch 13 \t loss=0.018197 \t val_loss=0.017426 \t time=0.85s\n",
      "Best model: Epoch 14 \t loss=0.017545 \t val_loss=0.017238 \t time=0.96s\n",
      "Best model: Epoch 15 \t loss=0.017309 \t val_loss=0.017089 \t time=0.99s\n",
      "Best model: Epoch 16 \t loss=0.016957 \t val_loss=0.016944 \t time=0.79s\n",
      "Best model: Epoch 17 \t loss=0.016900 \t val_loss=0.016928 \t time=0.79s\n",
      "Best model: Epoch 18 \t loss=0.016709 \t val_loss=0.016871 \t time=0.78s\n",
      "Best model: Epoch 19 \t loss=0.016372 \t val_loss=0.016704 \t time=0.81s\n",
      "Best model: Epoch 20 \t loss=0.016282 \t val_loss=0.016668 \t time=0.79s\n",
      "Best model: Epoch 21 \t loss=0.016211 \t val_loss=0.016647 \t time=0.80s\n",
      "Best model: Epoch 22 \t loss=0.016050 \t val_loss=0.016569 \t time=0.85s\n",
      "Best model: Epoch 23 \t loss=0.015957 \t val_loss=0.016502 \t time=0.86s\n",
      "Best model: Epoch 26 \t loss=0.015502 \t val_loss=0.016447 \t time=0.80s\n",
      "Best model: Epoch 27 \t loss=0.015550 \t val_loss=0.016396 \t time=0.78s\n",
      "Epoch    31: reducing learning rate of group 0 to 1.0000e-04.\n",
      "Best model: Epoch 32 \t loss=0.014676 \t val_loss=0.016204 \t time=0.79s\n",
      "Best model: Epoch 33 \t loss=0.014430 \t val_loss=0.016166 \t time=0.78s\n",
      "Best model: Epoch 34 \t loss=0.014175 \t val_loss=0.016137 \t time=0.78s\n",
      "Best model: Epoch 35 \t loss=0.013987 \t val_loss=0.016110 \t time=0.79s\n",
      "Best model: Epoch 39 \t loss=0.013567 \t val_loss=0.016079 \t time=0.80s\n",
      "Fold 5 log loss: 0.016076834932234777\n",
      "Seed 40\n",
      "Fold 1 log loss: 0.016120868082387305\n",
      "Fold 2 log loss: 0.01615611143141169\n",
      "Fold 3 log loss: 0.016025396140417338\n",
      "Fold 4 log loss: 0.01592254083463893\n",
      "Fold 5 log loss: 0.016076834932234777\n",
      "Std of log loss: 8.16303637006141e-05\n",
      "Total log loss: 0.01606034517004837\n",
      "Total log loss in targets: 0.015987102348513332\n"
     ]
    }
   ],
   "source": [
    "seeds = [10,40]\n",
    "#seeds = [0,1,2,3]\n",
    "\n",
    "target_oof = np.zeros([len(fn_train),fn_targets.shape[1]])\n",
    "target_pred = np.zeros([len(fn_test),fn_targets.shape[1]])\n",
    "\n",
    "nontarget_oof = np.zeros([len(fn_train),fn_nontargets.shape[1]])\n",
    "nontarget_pred = np.zeros([len(fn_test),fn_nontargets.shape[1]])\n",
    "\n",
    "for seed_ in seeds:\n",
    "    oof, oof_targets, pytorch_pred = modelling_torch(fn_train, fn_targets, fn_test, seed_, fn_train.shape[1], fn_targets.shape[1],[])\n",
    "    target_oof += oof / len(seeds)\n",
    "    target_pred += pytorch_pred / len(seeds)\n",
    "print(\"Total log loss in targets: {}\".format(mean_log_loss(oof_targets, target_oof)))\n",
    "\n",
    "#for seed_ in seeds:\n",
    "#    oof, oof_targets, pytorch_pred = modelling_torch(fn_train, fn_nontargets, fn_test, seed_, fn_train.shape[1], fn_nontargets.shape[1],[])\n",
    "#    nontarget_oof += oof / len(seeds)\n",
    "#    nontarget_pred += pytorch_pred / len(seeds)\n",
    "#print(\"Total log loss in Non targets: {}\".format(mean_log_loss(oof_targets, nontarget_oof)))"
   ]
  },
  {
   "cell_type": "code",
   "execution_count": 16,
   "metadata": {
    "execution": {
     "iopub.execute_input": "2020-10-12T13:15:00.392506Z",
     "iopub.status.busy": "2020-10-12T13:15:00.391533Z",
     "iopub.status.idle": "2020-10-12T13:15:00.395665Z",
     "shell.execute_reply": "2020-10-12T13:15:00.395144Z"
    },
    "papermill": {
     "duration": 0.144219,
     "end_time": "2020-10-12T13:15:00.395786",
     "exception": false,
     "start_time": "2020-10-12T13:15:00.251567",
     "status": "completed"
    },
    "tags": []
   },
   "outputs": [],
   "source": [
    "#n_train = f_train.copy()\n",
    "#n_test = f_test.copy()\n",
    "\n",
    "#n_train[\"target_sum\"] = target_oof.sum(axis=1)\n",
    "#n_train[\"nontarget_sum\"] = nontarget_oof.sum(axis=1)\n",
    "#n_test[\"target_sum\"] = target_pred.sum(axis=1)\n",
    "#n_test.loc[noncons_test_index, \"target_sum\"] = 0\n",
    "#n_test[\"nontarget_sum\"] = nontarget_pred.sum(axis=1)\n",
    "#n_test.loc[noncons_test_index, \"nontarget_sum\"] = 0\n",
    "\n",
    "#print(np.sqrt(mean_squared_error(n_train[\"target_sum\"],targets[target_feats].sum(axis=1))))\n",
    "\n",
    "#n_train = n_train.to_numpy()\n",
    "#n_test = n_test.to_numpy()"
   ]
  },
  {
   "cell_type": "code",
   "execution_count": 17,
   "metadata": {
    "execution": {
     "iopub.execute_input": "2020-10-12T13:15:00.657727Z",
     "iopub.status.busy": "2020-10-12T13:15:00.656803Z",
     "iopub.status.idle": "2020-10-12T13:15:00.659459Z",
     "shell.execute_reply": "2020-10-12T13:15:00.659941Z"
    },
    "papermill": {
     "duration": 0.137376,
     "end_time": "2020-10-12T13:15:00.660074",
     "exception": false,
     "start_time": "2020-10-12T13:15:00.522698",
     "status": "completed"
    },
    "tags": []
   },
   "outputs": [],
   "source": [
    "#oof_final = np.zeros([len(n_train),fn_targets.shape[1]])\n",
    "#pred_final = np.zeros([len(n_test),fn_targets.shape[1]])\n",
    "\n",
    "#seeds = [10,40]\n",
    "#for seed_ in seeds:\n",
    "#    oof, oof_targets, pytorch_pred = modelling_torch(n_train, fn_targets, n_test, seed_, n_train.shape[1], fn_targets.shape[1], [])\n",
    "#    oof_final += oof / len(seeds)\n",
    "#    pred_final += pytorch_pred / len(seeds)\n",
    "#print(\"Total log loss: {}\".format(mean_log_loss(oof_targets, oof_final)))"
   ]
  },
  {
   "cell_type": "code",
   "execution_count": 18,
   "metadata": {
    "execution": {
     "iopub.execute_input": "2020-10-12T13:15:00.931036Z",
     "iopub.status.busy": "2020-10-12T13:15:00.930143Z",
     "iopub.status.idle": "2020-10-12T13:15:07.250220Z",
     "shell.execute_reply": "2020-10-12T13:15:07.250886Z"
    },
    "papermill": {
     "duration": 6.462503,
     "end_time": "2020-10-12T13:15:07.251025",
     "exception": false,
     "start_time": "2020-10-12T13:15:00.788522",
     "status": "completed"
    },
    "tags": []
   },
   "outputs": [
    {
     "name": "stdout",
     "output_type": "stream",
     "text": [
      "OOF log loss:  0.014734396671922934\n"
     ]
    }
   ],
   "source": [
    "t = pd.read_csv(DATA_DIR + 'train_targets_scored.csv')\n",
    "train_checkscore = t.copy()\n",
    "train_checkscore.loc[train_checkscore.index.isin(cons_train_index),target_feats] = target_oof\n",
    "train_checkscore.loc[train_checkscore.index.isin(noncons_train_index),target_feats] = 0\n",
    "t.drop(\"sig_id\", axis=1, inplace=True)\n",
    "print('OOF log loss: ', log_loss(np.ravel(t), np.ravel(np.array(train_checkscore.iloc[:,1:]))))"
   ]
  },
  {
   "cell_type": "code",
   "execution_count": 19,
   "metadata": {
    "execution": {
     "iopub.execute_input": "2020-10-12T13:15:07.520318Z",
     "iopub.status.busy": "2020-10-12T13:15:07.519418Z",
     "iopub.status.idle": "2020-10-12T13:15:10.004283Z",
     "shell.execute_reply": "2020-10-12T13:15:10.003688Z"
    },
    "papermill": {
     "duration": 2.621723,
     "end_time": "2020-10-12T13:15:10.004410",
     "exception": false,
     "start_time": "2020-10-12T13:15:07.382687",
     "status": "completed"
    },
    "tags": []
   },
   "outputs": [],
   "source": [
    "sub[target_feats] = target_pred\n",
    "sub.loc[noncons_test_index,target_feats] = 0\n",
    "sub.to_csv('submission.csv', index=False)"
   ]
  },
  {
   "cell_type": "code",
   "execution_count": null,
   "metadata": {
    "papermill": {
     "duration": 0.132289,
     "end_time": "2020-10-12T13:15:10.267846",
     "exception": false,
     "start_time": "2020-10-12T13:15:10.135557",
     "status": "completed"
    },
    "tags": []
   },
   "outputs": [],
   "source": []
  }
 ],
 "metadata": {
  "kernelspec": {
   "display_name": "Python 3",
   "language": "python",
   "name": "python3"
  },
  "language_info": {
   "codemirror_mode": {
    "name": "ipython",
    "version": 3
   },
   "file_extension": ".py",
   "mimetype": "text/x-python",
   "name": "python",
   "nbconvert_exporter": "python",
   "pygments_lexer": "ipython3",
   "version": "3.7.6"
  },
  "papermill": {
   "duration": 434.050309,
   "end_time": "2020-10-12T13:15:11.728671",
   "environment_variables": {},
   "exception": null,
   "input_path": "__notebook__.ipynb",
   "output_path": "__notebook__.ipynb",
   "parameters": {},
   "start_time": "2020-10-12T13:07:57.678362",
   "version": "2.1.0"
  }
 },
 "nbformat": 4,
 "nbformat_minor": 4
}
