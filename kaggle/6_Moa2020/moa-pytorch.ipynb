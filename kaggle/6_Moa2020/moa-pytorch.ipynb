{
 "cells": [
  {
   "cell_type": "markdown",
   "metadata": {
    "papermill": {
     "duration": 0.019362,
     "end_time": "2020-11-02T11:26:50.862063",
     "exception": false,
     "start_time": "2020-11-02T11:26:50.842701",
     "status": "completed"
    },
    "tags": []
   },
   "source": [
    "- remove stats features"
   ]
  },
  {
   "cell_type": "code",
   "execution_count": 1,
   "metadata": {
    "_cell_guid": "b1076dfc-b9ad-4769-8c92-a6c4dae69d19",
    "_uuid": "8f2839f25d086af736a60e9eeb907d3b93b6e0e5",
    "execution": {
     "iopub.execute_input": "2020-11-02T11:26:50.908114Z",
     "iopub.status.busy": "2020-11-02T11:26:50.907276Z",
     "iopub.status.idle": "2020-11-02T11:27:00.715091Z",
     "shell.execute_reply": "2020-11-02T11:27:00.713799Z"
    },
    "papermill": {
     "duration": 9.835574,
     "end_time": "2020-11-02T11:27:00.715236",
     "exception": false,
     "start_time": "2020-11-02T11:26:50.879662",
     "status": "completed"
    },
    "tags": []
   },
   "outputs": [],
   "source": [
    "import os\n",
    "import sys\n",
    "import random\n",
    "import warnings\n",
    "import numpy as np\n",
    "import pandas as pd \n",
    "from umap import UMAP\n",
    "from sklearn import preprocessing\n",
    "from sklearn.metrics import log_loss,roc_auc_score\n",
    "from sklearn.decomposition import PCA\n",
    "from tqdm import tqdm_notebook as tqdm\n",
    "from sklearn.cluster import KMeans\n",
    "from sklearn.multioutput import MultiOutputClassifier\n",
    "from sklearn.feature_selection import VarianceThreshold\n",
    "\n",
    "sys.path.append('../input/multilabelstraifier/')\n",
    "from ml_stratifiers import MultilabelStratifiedKFold\n",
    "warnings.filterwarnings('ignore')\n",
    "\n",
    "import time\n",
    "import torch\n",
    "import torch.nn as nn\n",
    "import torch.optim as optim\n",
    "import torch.nn.functional as F\n",
    "import tensorflow as tf\n",
    "from torch.nn.modules.loss import _WeightedLoss"
   ]
  },
  {
   "cell_type": "code",
   "execution_count": 2,
   "metadata": {
    "execution": {
     "iopub.execute_input": "2020-11-02T11:27:00.759245Z",
     "iopub.status.busy": "2020-11-02T11:27:00.758184Z",
     "iopub.status.idle": "2020-11-02T11:27:07.506330Z",
     "shell.execute_reply": "2020-11-02T11:27:07.505293Z"
    },
    "papermill": {
     "duration": 6.773382,
     "end_time": "2020-11-02T11:27:07.506499",
     "exception": false,
     "start_time": "2020-11-02T11:27:00.733117",
     "status": "completed"
    },
    "tags": []
   },
   "outputs": [],
   "source": [
    "DATA_DIR = '/kaggle/input/lish-moa/'\n",
    "train = pd.read_csv(DATA_DIR + 'train_features.csv')\n",
    "targets = pd.read_csv(DATA_DIR + 'train_targets_scored.csv')\n",
    "non_targets = pd.read_csv(DATA_DIR + 'train_targets_nonscored.csv')\n",
    "test = pd.read_csv(DATA_DIR + 'test_features.csv')\n",
    "sub = pd.read_csv(DATA_DIR + 'sample_submission.csv')"
   ]
  },
  {
   "cell_type": "code",
   "execution_count": 3,
   "metadata": {
    "execution": {
     "iopub.execute_input": "2020-11-02T11:27:07.548777Z",
     "iopub.status.busy": "2020-11-02T11:27:07.548108Z",
     "iopub.status.idle": "2020-11-02T11:27:07.552443Z",
     "shell.execute_reply": "2020-11-02T11:27:07.551967Z"
    },
    "papermill": {
     "duration": 0.02862,
     "end_time": "2020-11-02T11:27:07.552545",
     "exception": false,
     "start_time": "2020-11-02T11:27:07.523925",
     "status": "completed"
    },
    "tags": []
   },
   "outputs": [],
   "source": [
    "target_feats = [ i for i in targets.columns if i != \"sig_id\"]\n",
    "g_feats = [i for i in train.columns if \"g-\" in i]\n",
    "c_feats = [i for i in train.columns if \"c-\" in i]"
   ]
  },
  {
   "cell_type": "code",
   "execution_count": 4,
   "metadata": {
    "execution": {
     "iopub.execute_input": "2020-11-02T11:27:07.595936Z",
     "iopub.status.busy": "2020-11-02T11:27:07.595010Z",
     "iopub.status.idle": "2020-11-02T11:27:07.696861Z",
     "shell.execute_reply": "2020-11-02T11:27:07.696257Z"
    },
    "papermill": {
     "duration": 0.127297,
     "end_time": "2020-11-02T11:27:07.696983",
     "exception": false,
     "start_time": "2020-11-02T11:27:07.569686",
     "status": "completed"
    },
    "tags": []
   },
   "outputs": [],
   "source": [
    "noncons_train_index = train[train.cp_type==\"ctl_vehicle\"].index\n",
    "cons_train_index = train[train.cp_type!=\"ctl_vehicle\"].index\n",
    "noncons_test_index = test[test.cp_type==\"ctl_vehicle\"].index\n",
    "cons_test_index = test[test.cp_type!=\"ctl_vehicle\"].index"
   ]
  },
  {
   "cell_type": "markdown",
   "metadata": {
    "papermill": {
     "duration": 0.016633,
     "end_time": "2020-11-02T11:27:07.731384",
     "exception": false,
     "start_time": "2020-11-02T11:27:07.714751",
     "status": "completed"
    },
    "tags": []
   },
   "source": [
    "# preprocess"
   ]
  },
  {
   "cell_type": "code",
   "execution_count": 5,
   "metadata": {
    "execution": {
     "iopub.execute_input": "2020-11-02T11:27:07.781577Z",
     "iopub.status.busy": "2020-11-02T11:27:07.780474Z",
     "iopub.status.idle": "2020-11-02T11:27:08.110171Z",
     "shell.execute_reply": "2020-11-02T11:27:08.109522Z"
    },
    "papermill": {
     "duration": 0.361928,
     "end_time": "2020-11-02T11:27:08.110288",
     "exception": false,
     "start_time": "2020-11-02T11:27:07.748360",
     "status": "completed"
    },
    "tags": []
   },
   "outputs": [],
   "source": [
    "train = train[train.index.isin(cons_train_index)].copy().reset_index(drop=True)\n",
    "test = test[test.index.isin(cons_test_index)].copy().reset_index(drop=True)\n",
    "targets = targets[targets.index.isin(cons_train_index)].copy().reset_index(drop=True)\n",
    "non_targets = non_targets[non_targets.index.isin(cons_train_index)].copy().reset_index(drop=True)"
   ]
  },
  {
   "cell_type": "markdown",
   "metadata": {
    "papermill": {
     "duration": 0.01755,
     "end_time": "2020-11-02T11:27:08.148269",
     "exception": false,
     "start_time": "2020-11-02T11:27:08.130719",
     "status": "completed"
    },
    "tags": []
   },
   "source": [
    "# Feature engineering "
   ]
  },
  {
   "cell_type": "code",
   "execution_count": 6,
   "metadata": {
    "execution": {
     "iopub.execute_input": "2020-11-02T11:27:08.240469Z",
     "iopub.status.busy": "2020-11-02T11:27:08.239004Z",
     "iopub.status.idle": "2020-11-02T11:27:08.621523Z",
     "shell.execute_reply": "2020-11-02T11:27:08.620936Z"
    },
    "papermill": {
     "duration": 0.455917,
     "end_time": "2020-11-02T11:27:08.621652",
     "exception": false,
     "start_time": "2020-11-02T11:27:08.165735",
     "status": "completed"
    },
    "tags": []
   },
   "outputs": [],
   "source": [
    "X = train.iloc[:,4:].copy().values\n",
    "select = VarianceThreshold(threshold=0.7)\n",
    "X_new = select.fit_transform(X)\n",
    "drop_feats = list(np.array(train.iloc[:,4:].columns)[select.get_support()==False])\n",
    "len(drop_feats)\n",
    "\n",
    "train.drop(drop_feats, axis=1, inplace=True)\n",
    "test.drop(drop_feats, axis=1, inplace=True)"
   ]
  },
  {
   "cell_type": "code",
   "execution_count": 7,
   "metadata": {
    "execution": {
     "iopub.execute_input": "2020-11-02T11:27:08.663163Z",
     "iopub.status.busy": "2020-11-02T11:27:08.662403Z",
     "iopub.status.idle": "2020-11-02T11:27:08.665871Z",
     "shell.execute_reply": "2020-11-02T11:27:08.666392Z"
    },
    "papermill": {
     "duration": 0.026794,
     "end_time": "2020-11-02T11:27:08.666522",
     "exception": false,
     "start_time": "2020-11-02T11:27:08.639728",
     "status": "completed"
    },
    "tags": []
   },
   "outputs": [],
   "source": [
    "g_feats = [i for i in train.columns if \"g-\" in i]\n",
    "c_feats = [i for i in train.columns if \"c-\" in i]"
   ]
  },
  {
   "cell_type": "code",
   "execution_count": 8,
   "metadata": {
    "execution": {
     "iopub.execute_input": "2020-11-02T11:27:08.710470Z",
     "iopub.status.busy": "2020-11-02T11:27:08.709397Z",
     "iopub.status.idle": "2020-11-02T11:27:19.746383Z",
     "shell.execute_reply": "2020-11-02T11:27:19.747609Z"
    },
    "papermill": {
     "duration": 11.063324,
     "end_time": "2020-11-02T11:27:19.747800",
     "exception": false,
     "start_time": "2020-11-02T11:27:08.684476",
     "status": "completed"
    },
    "tags": []
   },
   "outputs": [],
   "source": [
    "# rank gauss\n",
    "for i in c_feats + g_feats:\n",
    "    ss = preprocessing.QuantileTransformer(n_quantiles=1000, random_state=0, output_distribution=\"normal\")\n",
    "    ss.fit(train[i].values.reshape(-1,1))\n",
    "    train[i] = ss.transform(train[i].values.reshape(-1,1))\n",
    "    test[i] = ss.transform(test[i].values.reshape(-1,1))"
   ]
  },
  {
   "cell_type": "code",
   "execution_count": 9,
   "metadata": {
    "execution": {
     "iopub.execute_input": "2020-11-02T11:27:19.810061Z",
     "iopub.status.busy": "2020-11-02T11:27:19.809185Z",
     "iopub.status.idle": "2020-11-02T11:27:22.029342Z",
     "shell.execute_reply": "2020-11-02T11:27:22.028483Z"
    },
    "papermill": {
     "duration": 2.255291,
     "end_time": "2020-11-02T11:27:22.029471",
     "exception": false,
     "start_time": "2020-11-02T11:27:19.774180",
     "status": "completed"
    },
    "tags": []
   },
   "outputs": [],
   "source": [
    "c_num = 10\n",
    "pca_c_cols = [\"pca-c\"+str(i+1) for i in range(c_num)]\n",
    "pca = PCA(n_components=c_num,random_state=42)\n",
    "c_train = pca.fit_transform(train[c_feats])\n",
    "c_test = pca.transform(test[c_feats])\n",
    "c_train = pd.DataFrame(c_train, columns=pca_c_cols)\n",
    "c_test = pd.DataFrame(c_test, columns=pca_c_cols)\n",
    "\n",
    "g_num = 60\n",
    "pca_g_cols = [\"pca-g\"+str(i+1) for i in range(g_num)]\n",
    "pca = PCA(n_components=g_num, random_state=42)\n",
    "g_train = pca.fit_transform(train[g_feats])\n",
    "g_test = pca.transform(test[g_feats])\n",
    "g_train = pd.DataFrame(g_train, columns=pca_g_cols)\n",
    "g_test = pd.DataFrame(g_test, columns=pca_g_cols)\n",
    "\n",
    "train = pd.concat([train, c_train],axis=1)\n",
    "test = pd.concat([test, c_test],axis=1)\n",
    "train = pd.concat([train, g_train],axis=1)\n",
    "test = pd.concat([test, g_test],axis=1)"
   ]
  },
  {
   "cell_type": "code",
   "execution_count": 10,
   "metadata": {
    "execution": {
     "iopub.execute_input": "2020-11-02T11:27:22.077015Z",
     "iopub.status.busy": "2020-11-02T11:27:22.075981Z",
     "iopub.status.idle": "2020-11-02T11:27:22.078106Z",
     "shell.execute_reply": "2020-11-02T11:27:22.078693Z"
    },
    "papermill": {
     "duration": 0.029958,
     "end_time": "2020-11-02T11:27:22.078839",
     "exception": false,
     "start_time": "2020-11-02T11:27:22.048881",
     "status": "completed"
    },
    "tags": []
   },
   "outputs": [],
   "source": [
    "#uc_num = 1\n",
    "#um = UMAP(n_neighbors=30, n_components=uc_num, random_state=42)\n",
    "#um_c_cols = [\"um-c\"+str(i+1) for i in range(uc_num)]\n",
    "#uc_train = um.fit_transform(train[c_feats])\n",
    "#uc_test = um.transform(test[c_feats])\n",
    "#uc_train = pd.DataFrame(uc_train, columns=um_c_cols)\n",
    "#uc_test = pd.DataFrame(uc_test, columns=um_c_cols)\n",
    "\n",
    "#ug_num = 5\n",
    "#um = UMAP(n_neighbors=30, n_components=ug_num, random_state=42)\n",
    "#um_g_cols = [\"um-g\"+str(i+1) for i in range(ug_num)]\n",
    "#ug_train = um.fit_transform(train[g_feats])\n",
    "#ug_test = um.transform(test[g_feats])\n",
    "#ug_train = pd.DataFrame(ug_train, columns=um_g_cols)\n",
    "#ug_test = pd.DataFrame(ug_test, columns=um_g_cols)\n",
    "\n",
    "#train = pd.concat([train, uc_train],axis=1)\n",
    "#test = pd.concat([test, uc_test],axis=1)\n",
    "#train = pd.concat([train, ug_train],axis=1)\n",
    "#test = pd.concat([test, ug_test],axis=1)"
   ]
  },
  {
   "cell_type": "code",
   "execution_count": 11,
   "metadata": {
    "execution": {
     "iopub.execute_input": "2020-11-02T11:27:22.131409Z",
     "iopub.status.busy": "2020-11-02T11:27:22.130071Z",
     "iopub.status.idle": "2020-11-02T11:27:22.518033Z",
     "shell.execute_reply": "2020-11-02T11:27:22.517388Z"
    },
    "papermill": {
     "duration": 0.416999,
     "end_time": "2020-11-02T11:27:22.518152",
     "exception": false,
     "start_time": "2020-11-02T11:27:22.101153",
     "status": "completed"
    },
    "tags": []
   },
   "outputs": [
    {
     "name": "stdout",
     "output_type": "stream",
     "text": [
      "(21948, 914) (3624, 914)\n"
     ]
    }
   ],
   "source": [
    "def fe(df):\n",
    "    tmp = df.copy()\n",
    "    #tmp['g_sum'] = tmp[g_feats].sum(axis = 1)\n",
    "    #tmp['g_mean'] = tmp[g_feats].mean(axis = 1)\n",
    "    #tmp['g_std'] = tmp[g_feats].std(axis = 1)\n",
    "    #tmp['g_kurt'] = tmp[g_feats].kurtosis(axis = 1)\n",
    "    #tmp['g_skew'] = tmp[g_feats].skew(axis = 1)\n",
    "    #tmp['c_sum'] = tmp[c_feats].sum(axis = 1)\n",
    "    #tmp['c_mean'] = tmp[c_feats].mean(axis = 1)\n",
    "    #tmp['c_std'] = tmp[c_feats].std(axis = 1)\n",
    "    #tmp['c_kurt'] = tmp[c_feats].kurtosis(axis = 1)\n",
    "    #tmp['c_skew'] = tmp[c_feats].skew(axis = 1)\n",
    "    #tmp['gc_sum'] = tmp[c_feats + g_feats].sum(axis = 1)\n",
    "    #tmp['gc_mean'] = tmp[c_feats + g_feats].mean(axis = 1)\n",
    "    #tmp['gc_std'] = tmp[c_feats + g_feats].std(axis = 1)\n",
    "    #tmp['gc_kurt'] = tmp[c_feats + g_feats].kurtosis(axis = 1)\n",
    "    #tmp['gc_skew'] = tmp[c_feats + g_feats].skew(axis = 1)\n",
    "    tmp = pd.get_dummies(tmp, columns=['cp_time','cp_dose'])\n",
    "    tmp.drop([\"cp_type\", \"sig_id\"], axis=1, inplace=True) \n",
    "    return tmp\n",
    "\n",
    "train = fe(train)\n",
    "test = fe(test)\n",
    "\n",
    "print(train.shape, test.shape)"
   ]
  },
  {
   "cell_type": "code",
   "execution_count": 12,
   "metadata": {
    "execution": {
     "iopub.execute_input": "2020-11-02T11:27:22.562709Z",
     "iopub.status.busy": "2020-11-02T11:27:22.561441Z",
     "iopub.status.idle": "2020-11-02T11:27:22.780564Z",
     "shell.execute_reply": "2020-11-02T11:27:22.779966Z"
    },
    "papermill": {
     "duration": 0.243673,
     "end_time": "2020-11-02T11:27:22.780705",
     "exception": false,
     "start_time": "2020-11-02T11:27:22.537032",
     "status": "completed"
    },
    "tags": []
   },
   "outputs": [],
   "source": [
    "fn_train = train.copy().to_numpy()\n",
    "fn_test = test.copy().to_numpy()\n",
    "\n",
    "fn_non_targets = non_targets.drop(\"sig_id\", axis=1).copy().to_numpy()\n",
    "fn_targets = targets.drop(\"sig_id\", axis=1).copy().to_numpy()"
   ]
  },
  {
   "cell_type": "markdown",
   "metadata": {
    "papermill": {
     "duration": 0.019652,
     "end_time": "2020-11-02T11:27:22.819540",
     "exception": false,
     "start_time": "2020-11-02T11:27:22.799888",
     "status": "completed"
    },
    "tags": []
   },
   "source": [
    "# modelling"
   ]
  },
  {
   "cell_type": "code",
   "execution_count": 13,
   "metadata": {
    "execution": {
     "iopub.execute_input": "2020-11-02T11:27:22.869756Z",
     "iopub.status.busy": "2020-11-02T11:27:22.869039Z",
     "iopub.status.idle": "2020-11-02T11:27:22.871804Z",
     "shell.execute_reply": "2020-11-02T11:27:22.872245Z"
    },
    "papermill": {
     "duration": 0.033105,
     "end_time": "2020-11-02T11:27:22.872385",
     "exception": false,
     "start_time": "2020-11-02T11:27:22.839280",
     "status": "completed"
    },
    "tags": []
   },
   "outputs": [],
   "source": [
    "class SmoothCrossEntropyLoss(_WeightedLoss):\n",
    "    def __init__(self, weight=None, reduction='mean', smoothing=0.0):\n",
    "        super().__init__(weight=weight, reduction=reduction)\n",
    "        self.smoothing = smoothing\n",
    "        self.weight = weight\n",
    "        self.reduction = reduction\n",
    "\n",
    "    @staticmethod\n",
    "    def _smooth(targets, n_classes, smoothing=0.0):\n",
    "        assert 0 <= smoothing <= 1\n",
    "        with torch.no_grad():\n",
    "            targets = targets * (1 - smoothing) + torch.ones_like(targets).to(device) * smoothing / n_classes\n",
    "        return targets\n",
    "\n",
    "    def forward(self, inputs, targets):\n",
    "        targets = SmoothCrossEntropyLoss()._smooth(targets, inputs.shape[1], self.smoothing)\n",
    "\n",
    "        if self.weight is not None:\n",
    "            inputs = inputs * self.weight.unsqueeze(0)\n",
    "\n",
    "        loss = F.binary_cross_entropy_with_logits(inputs, targets)\n",
    "\n",
    "        return loss"
   ]
  },
  {
   "cell_type": "code",
   "execution_count": 14,
   "metadata": {
    "execution": {
     "iopub.execute_input": "2020-11-02T11:27:22.930067Z",
     "iopub.status.busy": "2020-11-02T11:27:22.919167Z",
     "iopub.status.idle": "2020-11-02T11:27:23.311622Z",
     "shell.execute_reply": "2020-11-02T11:27:23.312970Z"
    },
    "papermill": {
     "duration": 0.421457,
     "end_time": "2020-11-02T11:27:23.313124",
     "exception": false,
     "start_time": "2020-11-02T11:27:22.891667",
     "status": "completed"
    },
    "tags": []
   },
   "outputs": [
    {
     "name": "stdout",
     "output_type": "stream",
     "text": [
      "cuda\n"
     ]
    }
   ],
   "source": [
    "device = \"cuda\" if torch.cuda.is_available() else \"cpu\"\n",
    "\n",
    "print(device)\n",
    "def mean_log_loss(y_true, y_pred):\n",
    "    metrics = []\n",
    "    for i, target in enumerate(target_feats):\n",
    "        metrics.append(log_loss(y_true[:, i], y_pred[:, i].astype(float), labels=[0,1]))\n",
    "    return np.mean(metrics)\n",
    "\n",
    "def seed_everything(seed=42): \n",
    "    random.seed(seed)\n",
    "    os.environ['PYTHONHASHSEED'] = str(seed)\n",
    "    tf.random.set_seed(seed)\n",
    "    np.random.seed(seed)\n",
    "    torch.manual_seed(seed)\n",
    "    torch.cuda.manual_seed(seed)\n",
    "    torch.backends.cudnn.deterministic = True\n",
    "\n",
    "class MoaModel(nn.Module):\n",
    "    def __init__(self, num_columns, last_num):\n",
    "        super(MoaModel, self).__init__()\n",
    "        self.batch_norm1 = nn.BatchNorm1d(num_columns)\n",
    "        self.dropout1 = nn.Dropout(0.1)\n",
    "        self.dense1 = nn.utils.weight_norm(nn.Linear(num_columns, 1024))\n",
    "        self.relu1 = nn.LeakyReLU()\n",
    "        \n",
    "        self.batch_norm2 = nn.BatchNorm1d(1024)\n",
    "        self.dropout2 = nn.Dropout(0.1)\n",
    "        self.dense2 = nn.utils.weight_norm(nn.Linear(1024, 1024))\n",
    "        self.relu2 = nn.LeakyReLU()\n",
    "        \n",
    "        self.batch_norm3 = nn.BatchNorm1d(1024)\n",
    "        self.dropout3 = nn.Dropout(0.1)\n",
    "        self.dense3 = nn.utils.weight_norm(nn.Linear(1024, last_num))\n",
    "    \n",
    "    def forward(self, x):\n",
    "        x = self.batch_norm1(x)\n",
    "        x = self.dropout1(x)\n",
    "        x = self.relu1(self.dense1(x))\n",
    "        \n",
    "        x = self.batch_norm2(x)\n",
    "        x = self.dropout2(x)\n",
    "        x = self.relu2(self.dense2(x))\n",
    "        \n",
    "        x = self.batch_norm3(x)\n",
    "        x = self.dropout3(x)\n",
    "        x = self.dense3(x)\n",
    "        \n",
    "        return x"
   ]
  },
  {
   "cell_type": "markdown",
   "metadata": {
    "papermill": {
     "duration": 0.019174,
     "end_time": "2020-11-02T11:27:23.352964",
     "exception": false,
     "start_time": "2020-11-02T11:27:23.333790",
     "status": "completed"
    },
    "tags": []
   },
   "source": [
    "# modelling"
   ]
  },
  {
   "cell_type": "code",
   "execution_count": 15,
   "metadata": {
    "execution": {
     "iopub.execute_input": "2020-11-02T11:27:23.422017Z",
     "iopub.status.busy": "2020-11-02T11:27:23.406300Z",
     "iopub.status.idle": "2020-11-02T11:27:23.443810Z",
     "shell.execute_reply": "2020-11-02T11:27:23.443321Z"
    },
    "papermill": {
     "duration": 0.071031,
     "end_time": "2020-11-02T11:27:23.443910",
     "exception": false,
     "start_time": "2020-11-02T11:27:23.372879",
     "status": "completed"
    },
    "tags": []
   },
   "outputs": [],
   "source": [
    "batch_size = 128\n",
    "n_folds=7\n",
    "EARLY_STOPPING_STEPS = 10\n",
    "smoothing = 0.001\n",
    "p_min = smoothing\n",
    "p_max = 1 - smoothing\n",
    "\n",
    "def modelling_torch(tr, target, te, sample_seed, last_num, train_epochs):\n",
    "    seed_everything(seed=sample_seed) \n",
    "    X_train = tr.copy()\n",
    "    y_train = target.copy()\n",
    "    X_test = te.copy()\n",
    "    test_len = X_test.shape[0]\n",
    "    \n",
    "    mskf=MultilabelStratifiedKFold(n_splits = n_folds, shuffle=True, random_state=224)\n",
    "    metric = lambda inputs, targets : F.binary_cross_entropy((torch.clamp(torch.sigmoid(inputs), p_min, p_max)), targets)\n",
    "\n",
    "    models = []\n",
    "    \n",
    "    X_test2 = torch.tensor(X_test, dtype=torch.float32)\n",
    "    test = torch.utils.data.TensorDataset(X_test2) \n",
    "    test_loader = torch.utils.data.DataLoader(test, batch_size=batch_size, shuffle=False)\n",
    "    \n",
    "    oof = np.zeros([len(X_train),y_train.shape[1]])\n",
    "    oof_targets = np.zeros([len(X_train),y_train.shape[1]])\n",
    "    pred_value = np.zeros([test_len, y_train.shape[1]])\n",
    "    scores = []\n",
    "    for fold, (train_index, valid_index) in enumerate(mskf.split(X_train, y_train)):\n",
    "        print(\"Fold \"+str(fold+1))\n",
    "        X_train2 = torch.tensor(X_train[train_index,:], dtype=torch.float32)\n",
    "        X_valid2 = torch.tensor(X_train[valid_index,:], dtype=torch.float32)\n",
    "\n",
    "        y_train2 = torch.tensor(y_train[train_index], dtype=torch.float32)\n",
    "        y_valid2 = torch.tensor(y_train[valid_index], dtype=torch.float32)\n",
    "        \n",
    "        train = torch.utils.data.TensorDataset(X_train2, y_train2)\n",
    "        valid = torch.utils.data.TensorDataset(X_valid2, y_valid2)\n",
    "        \n",
    "        train_loader = torch.utils.data.DataLoader(train, batch_size=batch_size, shuffle=True) \n",
    "        valid_loader = torch.utils.data.DataLoader(valid, batch_size=batch_size, shuffle=False)\n",
    "            \n",
    "        clf = MoaModel(fn_train.shape[1], last_num)\n",
    "        loss_fn = SmoothCrossEntropyLoss(smoothing=smoothing)\n",
    "\n",
    "        optimizer = optim.Adam(clf.parameters(), lr = 0.001, weight_decay=1e-5) \n",
    "        scheduler = optim.lr_scheduler.OneCycleLR(optimizer=optimizer, pct_start=0.1, div_factor=1e3, \n",
    "                                              max_lr=1e-2, epochs=train_epochs, steps_per_epoch=len(train_loader))\n",
    "        \n",
    "        clf.to(device)\n",
    "        \n",
    "        best_val_loss = np.inf\n",
    "        stop_counts = 0\n",
    "        for epoch in range(train_epochs):\n",
    "            start_time = time.time()\n",
    "            clf.train()\n",
    "            avg_loss = 0.\n",
    "            sm_avg_loss = 0.\n",
    "            for x_batch, y_batch in tqdm(train_loader, disable=True):\n",
    "                x_batch = x_batch.to(device)\n",
    "                y_batch = y_batch.to(device)\n",
    "                y_pred = clf(x_batch) \n",
    "                loss = loss_fn(y_pred, y_batch)\n",
    "                optimizer.zero_grad()\n",
    "                loss.backward()\n",
    "                optimizer.step()\n",
    "                scheduler.step()\n",
    "                avg_loss += loss.item() / len(train_loader)  \n",
    "                sm_avg_loss += metric(y_pred, y_batch) / len(train_loader) \n",
    "                \n",
    "            clf.eval()\n",
    "            avg_val_loss = 0.\n",
    "            sm_avg_val_loss = 0.\n",
    "            for i, (x_batch, y_batch) in enumerate(valid_loader): \n",
    "                x_batch = x_batch.to(device)\n",
    "                y_batch = y_batch.to(device)\n",
    "                y_pred = clf(x_batch).detach()\n",
    "                avg_val_loss += loss_fn(y_pred, y_batch).item() / len(valid_loader)\n",
    "                sm_avg_val_loss += metric(y_pred, y_batch) / len(valid_loader)\n",
    "        \n",
    "            elapsed_time = time.time() - start_time \n",
    "            #scheduler.step() #avg_val_loss # maybe mistake\n",
    "                    \n",
    "            if sm_avg_val_loss < best_val_loss:\n",
    "                best_val_loss = sm_avg_val_loss\n",
    "                print('Best: Epoch {} \\t loss={:.5f} \\t val_loss={:.5f} \\t sm_loss={:.5f} \\t sm_val_loss={:.5f} \\t time={:.2f}s'.format(\n",
    "                    epoch + 1, avg_loss, avg_val_loss, sm_avg_loss, sm_avg_val_loss, elapsed_time))\n",
    "                torch.save(clf.state_dict(), 'best-model-parameters.pt')\n",
    "            else:\n",
    "                stop_counts += 1\n",
    "        \n",
    "            #if stop_counts >= EARLY_STOPPING_STEPS: \n",
    "            #    break\n",
    "        pred_model = MoaModel(fn_train.shape[1], last_num)\n",
    "        pred_model.load_state_dict(torch.load('best-model-parameters.pt'))         \n",
    "        pred_model.eval()\n",
    "        \n",
    "        # validation check ----------------\n",
    "        oof_epoch = np.zeros([X_valid2.size(0), y_train.shape[1]])\n",
    "        target_epoch = np.zeros([X_valid2.size(0), y_train.shape[1]])\n",
    "        for i, (x_batch, y_batch) in enumerate(valid_loader): \n",
    "                y_pred = pred_model(x_batch).detach()\n",
    "                oof_epoch[i * batch_size:(i+1) * batch_size,:] = torch.clamp(torch.sigmoid(y_pred.cpu()), p_min, p_max)\n",
    "                target_epoch[i * batch_size:(i+1) * batch_size,:] = y_batch.cpu().numpy()\n",
    "        print(\"Fold {} log loss: {}\".format(fold+1, mean_log_loss(target_epoch, oof_epoch)))\n",
    "        scores.append(mean_log_loss(target_epoch, oof_epoch))\n",
    "        oof[valid_index,:] = oof_epoch\n",
    "        oof_targets[valid_index,:] = target_epoch\n",
    "        #-----------------------------------\n",
    "        \n",
    "        # test predcition --------------\n",
    "        test_preds = np.zeros([test_len, y_train.shape[1]])\n",
    "        for i, (x_batch,) in enumerate(test_loader): \n",
    "            y_pred = pred_model(x_batch).detach()\n",
    "            test_preds[i * batch_size:(i+1) * batch_size, :] = torch.clamp(torch.sigmoid(y_pred.cpu()), p_min, p_max)\n",
    "        pred_value += test_preds / n_folds\n",
    "        # ------------------------------\n",
    "        \n",
    "    print(\"Seed {}\".format(seed_))\n",
    "    for i, ele in enumerate(scores):\n",
    "        print(\"Fold {} log loss: {}\".format(i+1, scores[i]))\n",
    "    print(\"Std of log loss: {}\".format(np.std(scores)))\n",
    "    print(\"Total log loss: {}\".format(mean_log_loss(oof_targets, oof)))\n",
    "    \n",
    "    return oof, oof_targets, pred_value"
   ]
  },
  {
   "cell_type": "code",
   "execution_count": 16,
   "metadata": {
    "execution": {
     "iopub.execute_input": "2020-11-02T11:27:23.490340Z",
     "iopub.status.busy": "2020-11-02T11:27:23.489675Z",
     "iopub.status.idle": "2020-11-02T11:30:01.996617Z",
     "shell.execute_reply": "2020-11-02T11:30:01.995797Z"
    },
    "papermill": {
     "duration": 158.53342,
     "end_time": "2020-11-02T11:30:01.996814",
     "exception": false,
     "start_time": "2020-11-02T11:27:23.463394",
     "status": "completed"
    },
    "tags": []
   },
   "outputs": [
    {
     "name": "stdout",
     "output_type": "stream",
     "text": [
      "Fold 1\n",
      "Best: Epoch 1 \t loss=0.41526 \t val_loss=0.02254 \t sm_loss=0.41522 \t sm_val_loss=0.02254 \t time=1.54s\n",
      "Best: Epoch 2 \t loss=0.02007 \t val_loss=0.01865 \t sm_loss=0.02004 \t sm_val_loss=0.01861 \t time=1.26s\n",
      "Best: Epoch 3 \t loss=0.01828 \t val_loss=0.01799 \t sm_loss=0.01827 \t sm_val_loss=0.01808 \t time=1.02s\n",
      "Best: Epoch 4 \t loss=0.01769 \t val_loss=0.01768 \t sm_loss=0.01777 \t sm_val_loss=0.01780 \t time=0.91s\n",
      "Best: Epoch 5 \t loss=0.01739 \t val_loss=0.01745 \t sm_loss=0.01750 \t sm_val_loss=0.01757 \t time=0.94s\n",
      "Best: Epoch 7 \t loss=0.01730 \t val_loss=0.01730 \t sm_loss=0.01741 \t sm_val_loss=0.01740 \t time=0.92s\n",
      "Best: Epoch 9 \t loss=0.01723 \t val_loss=0.01717 \t sm_loss=0.01734 \t sm_val_loss=0.01728 \t time=1.21s\n",
      "Best: Epoch 10 \t loss=0.01704 \t val_loss=0.01716 \t sm_loss=0.01716 \t sm_val_loss=0.01728 \t time=0.97s\n",
      "Best: Epoch 11 \t loss=0.01686 \t val_loss=0.01711 \t sm_loss=0.01699 \t sm_val_loss=0.01723 \t time=1.01s\n",
      "Best: Epoch 12 \t loss=0.01674 \t val_loss=0.01678 \t sm_loss=0.01688 \t sm_val_loss=0.01691 \t time=1.03s\n",
      "Best: Epoch 13 \t loss=0.01655 \t val_loss=0.01661 \t sm_loss=0.01669 \t sm_val_loss=0.01675 \t time=1.02s\n",
      "Best: Epoch 14 \t loss=0.01625 \t val_loss=0.01648 \t sm_loss=0.01641 \t sm_val_loss=0.01664 \t time=0.93s\n",
      "Best: Epoch 15 \t loss=0.01590 \t val_loss=0.01629 \t sm_loss=0.01607 \t sm_val_loss=0.01643 \t time=0.89s\n",
      "Best: Epoch 16 \t loss=0.01549 \t val_loss=0.01604 \t sm_loss=0.01567 \t sm_val_loss=0.01620 \t time=0.93s\n",
      "Best: Epoch 17 \t loss=0.01500 \t val_loss=0.01597 \t sm_loss=0.01520 \t sm_val_loss=0.01614 \t time=0.90s\n",
      "Best: Epoch 18 \t loss=0.01455 \t val_loss=0.01587 \t sm_loss=0.01476 \t sm_val_loss=0.01603 \t time=0.92s\n",
      "Best: Epoch 19 \t loss=0.01415 \t val_loss=0.01582 \t sm_loss=0.01436 \t sm_val_loss=0.01599 \t time=1.31s\n",
      "Fold 1 log loss: 0.016052877654805012\n",
      "Fold 2\n",
      "Best: Epoch 1 \t loss=0.41354 \t val_loss=0.02239 \t sm_loss=0.41348 \t sm_val_loss=0.02238 \t time=0.94s\n",
      "Best: Epoch 3 \t loss=0.01800 \t val_loss=0.01751 \t sm_loss=0.01803 \t sm_val_loss=0.01762 \t time=0.92s\n",
      "Best: Epoch 6 \t loss=0.01730 \t val_loss=0.01733 \t sm_loss=0.01741 \t sm_val_loss=0.01745 \t time=0.93s\n",
      "Best: Epoch 7 \t loss=0.01731 \t val_loss=0.01731 \t sm_loss=0.01742 \t sm_val_loss=0.01742 \t time=0.92s\n",
      "Best: Epoch 9 \t loss=0.01718 \t val_loss=0.01716 \t sm_loss=0.01729 \t sm_val_loss=0.01726 \t time=1.07s\n",
      "Best: Epoch 11 \t loss=0.01692 \t val_loss=0.01701 \t sm_loss=0.01705 \t sm_val_loss=0.01713 \t time=0.92s\n",
      "Best: Epoch 12 \t loss=0.01666 \t val_loss=0.01691 \t sm_loss=0.01679 \t sm_val_loss=0.01704 \t time=0.92s\n",
      "Best: Epoch 13 \t loss=0.01652 \t val_loss=0.01670 \t sm_loss=0.01667 \t sm_val_loss=0.01683 \t time=0.92s\n",
      "Best: Epoch 14 \t loss=0.01620 \t val_loss=0.01663 \t sm_loss=0.01635 \t sm_val_loss=0.01677 \t time=0.93s\n",
      "Best: Epoch 15 \t loss=0.01582 \t val_loss=0.01643 \t sm_loss=0.01599 \t sm_val_loss=0.01658 \t time=0.91s\n",
      "Best: Epoch 16 \t loss=0.01547 \t val_loss=0.01626 \t sm_loss=0.01566 \t sm_val_loss=0.01642 \t time=0.92s\n",
      "Best: Epoch 17 \t loss=0.01494 \t val_loss=0.01613 \t sm_loss=0.01513 \t sm_val_loss=0.01630 \t time=0.90s\n",
      "Best: Epoch 18 \t loss=0.01448 \t val_loss=0.01601 \t sm_loss=0.01468 \t sm_val_loss=0.01617 \t time=0.89s\n",
      "Best: Epoch 19 \t loss=0.01408 \t val_loss=0.01599 \t sm_loss=0.01429 \t sm_val_loss=0.01616 \t time=0.89s\n",
      "Fold 2 log loss: 0.016173625912727918\n",
      "Fold 3\n",
      "Best: Epoch 1 \t loss=0.41386 \t val_loss=0.02223 \t sm_loss=0.41380 \t sm_val_loss=0.02222 \t time=0.90s\n",
      "Best: Epoch 2 \t loss=0.02020 \t val_loss=0.01840 \t sm_loss=0.02016 \t sm_val_loss=0.01843 \t time=0.90s\n",
      "Best: Epoch 3 \t loss=0.01805 \t val_loss=0.01747 \t sm_loss=0.01808 \t sm_val_loss=0.01757 \t time=0.90s\n",
      "Best: Epoch 4 \t loss=0.01758 \t val_loss=0.01714 \t sm_loss=0.01767 \t sm_val_loss=0.01727 \t time=0.91s\n",
      "Best: Epoch 7 \t loss=0.01733 \t val_loss=0.01710 \t sm_loss=0.01745 \t sm_val_loss=0.01722 \t time=0.91s\n",
      "Best: Epoch 9 \t loss=0.01724 \t val_loss=0.01691 \t sm_loss=0.01736 \t sm_val_loss=0.01703 \t time=0.90s\n",
      "Best: Epoch 10 \t loss=0.01713 \t val_loss=0.01683 \t sm_loss=0.01725 \t sm_val_loss=0.01696 \t time=1.66s\n",
      "Best: Epoch 11 \t loss=0.01703 \t val_loss=0.01674 \t sm_loss=0.01716 \t sm_val_loss=0.01686 \t time=0.92s\n",
      "Best: Epoch 12 \t loss=0.01678 \t val_loss=0.01651 \t sm_loss=0.01692 \t sm_val_loss=0.01664 \t time=0.91s\n",
      "Best: Epoch 13 \t loss=0.01653 \t val_loss=0.01629 \t sm_loss=0.01667 \t sm_val_loss=0.01644 \t time=0.90s\n",
      "Best: Epoch 14 \t loss=0.01625 \t val_loss=0.01614 \t sm_loss=0.01641 \t sm_val_loss=0.01628 \t time=0.90s\n",
      "Best: Epoch 15 \t loss=0.01595 \t val_loss=0.01612 \t sm_loss=0.01612 \t sm_val_loss=0.01626 \t time=0.90s\n",
      "Best: Epoch 16 \t loss=0.01553 \t val_loss=0.01580 \t sm_loss=0.01571 \t sm_val_loss=0.01597 \t time=0.90s\n",
      "Best: Epoch 17 \t loss=0.01501 \t val_loss=0.01570 \t sm_loss=0.01521 \t sm_val_loss=0.01586 \t time=0.91s\n",
      "Best: Epoch 18 \t loss=0.01455 \t val_loss=0.01562 \t sm_loss=0.01476 \t sm_val_loss=0.01579 \t time=0.93s\n",
      "Best: Epoch 19 \t loss=0.01412 \t val_loss=0.01557 \t sm_loss=0.01433 \t sm_val_loss=0.01574 \t time=0.92s\n",
      "Fold 3 log loss: 0.015798295120664194\n",
      "Fold 4\n",
      "Best: Epoch 1 \t loss=0.41467 \t val_loss=0.02292 \t sm_loss=0.41462 \t sm_val_loss=0.02290 \t time=0.90s\n",
      "Best: Epoch 2 \t loss=0.02007 \t val_loss=0.01964 \t sm_loss=0.02002 \t sm_val_loss=0.01949 \t time=0.97s\n",
      "Best: Epoch 3 \t loss=0.01798 \t val_loss=0.01858 \t sm_loss=0.01804 \t sm_val_loss=0.01858 \t time=1.11s\n",
      "Best: Epoch 4 \t loss=0.01741 \t val_loss=0.01772 \t sm_loss=0.01751 \t sm_val_loss=0.01780 \t time=0.89s\n",
      "Best: Epoch 5 \t loss=0.01734 \t val_loss=0.01744 \t sm_loss=0.01745 \t sm_val_loss=0.01754 \t time=0.92s\n",
      "Best: Epoch 9 \t loss=0.01713 \t val_loss=0.01740 \t sm_loss=0.01724 \t sm_val_loss=0.01750 \t time=0.91s\n",
      "Best: Epoch 10 \t loss=0.01699 \t val_loss=0.01725 \t sm_loss=0.01711 \t sm_val_loss=0.01737 \t time=1.15s\n",
      "Best: Epoch 12 \t loss=0.01668 \t val_loss=0.01710 \t sm_loss=0.01682 \t sm_val_loss=0.01722 \t time=0.90s\n",
      "Best: Epoch 13 \t loss=0.01648 \t val_loss=0.01686 \t sm_loss=0.01663 \t sm_val_loss=0.01695 \t time=0.91s\n",
      "Best: Epoch 14 \t loss=0.01625 \t val_loss=0.01661 \t sm_loss=0.01640 \t sm_val_loss=0.01675 \t time=0.96s\n",
      "Best: Epoch 15 \t loss=0.01586 \t val_loss=0.01652 \t sm_loss=0.01603 \t sm_val_loss=0.01666 \t time=0.90s\n",
      "Best: Epoch 16 \t loss=0.01547 \t val_loss=0.01628 \t sm_loss=0.01565 \t sm_val_loss=0.01643 \t time=0.92s\n",
      "Best: Epoch 17 \t loss=0.01500 \t val_loss=0.01616 \t sm_loss=0.01520 \t sm_val_loss=0.01631 \t time=0.91s\n",
      "Best: Epoch 18 \t loss=0.01457 \t val_loss=0.01608 \t sm_loss=0.01477 \t sm_val_loss=0.01624 \t time=0.92s\n",
      "Best: Epoch 19 \t loss=0.01418 \t val_loss=0.01607 \t sm_loss=0.01440 \t sm_val_loss=0.01622 \t time=0.90s\n",
      "Best: Epoch 20 \t loss=0.01397 \t val_loss=0.01601 \t sm_loss=0.01419 \t sm_val_loss=0.01617 \t time=0.90s\n",
      "Fold 4 log loss: 0.01623473978856487\n",
      "Fold 5\n",
      "Best: Epoch 1 \t loss=0.41526 \t val_loss=0.02292 \t sm_loss=0.41520 \t sm_val_loss=0.02287 \t time=0.90s\n",
      "Best: Epoch 2 \t loss=0.02011 \t val_loss=0.01862 \t sm_loss=0.02008 \t sm_val_loss=0.01857 \t time=0.92s\n",
      "Best: Epoch 3 \t loss=0.01806 \t val_loss=0.01805 \t sm_loss=0.01808 \t sm_val_loss=0.01813 \t time=0.90s\n",
      "Best: Epoch 4 \t loss=0.01740 \t val_loss=0.01760 \t sm_loss=0.01749 \t sm_val_loss=0.01772 \t time=0.90s\n",
      "Best: Epoch 7 \t loss=0.01728 \t val_loss=0.01752 \t sm_loss=0.01739 \t sm_val_loss=0.01762 \t time=0.90s\n",
      "Best: Epoch 8 \t loss=0.01722 \t val_loss=0.01741 \t sm_loss=0.01733 \t sm_val_loss=0.01753 \t time=0.93s\n",
      "Best: Epoch 10 \t loss=0.01703 \t val_loss=0.01726 \t sm_loss=0.01716 \t sm_val_loss=0.01737 \t time=0.90s\n",
      "Best: Epoch 11 \t loss=0.01687 \t val_loss=0.01714 \t sm_loss=0.01700 \t sm_val_loss=0.01726 \t time=1.13s\n",
      "Best: Epoch 12 \t loss=0.01665 \t val_loss=0.01712 \t sm_loss=0.01679 \t sm_val_loss=0.01724 \t time=0.93s\n",
      "Best: Epoch 13 \t loss=0.01650 \t val_loss=0.01692 \t sm_loss=0.01665 \t sm_val_loss=0.01707 \t time=0.94s\n",
      "Best: Epoch 14 \t loss=0.01620 \t val_loss=0.01684 \t sm_loss=0.01636 \t sm_val_loss=0.01698 \t time=0.91s\n",
      "Best: Epoch 15 \t loss=0.01585 \t val_loss=0.01652 \t sm_loss=0.01602 \t sm_val_loss=0.01667 \t time=0.89s\n",
      "Best: Epoch 16 \t loss=0.01543 \t val_loss=0.01645 \t sm_loss=0.01562 \t sm_val_loss=0.01662 \t time=0.89s\n",
      "Best: Epoch 17 \t loss=0.01493 \t val_loss=0.01622 \t sm_loss=0.01513 \t sm_val_loss=0.01639 \t time=0.92s\n",
      "Best: Epoch 18 \t loss=0.01446 \t val_loss=0.01619 \t sm_loss=0.01466 \t sm_val_loss=0.01636 \t time=0.90s\n",
      "Best: Epoch 19 \t loss=0.01404 \t val_loss=0.01616 \t sm_loss=0.01426 \t sm_val_loss=0.01633 \t time=0.90s\n",
      "Fold 5 log loss: 0.016368193119412185\n",
      "Fold 6\n",
      "Best: Epoch 1 \t loss=0.41580 \t val_loss=0.02210 \t sm_loss=0.41572 \t sm_val_loss=0.02208 \t time=1.14s\n",
      "Best: Epoch 2 \t loss=0.02030 \t val_loss=0.01917 \t sm_loss=0.02022 \t sm_val_loss=0.01903 \t time=0.96s\n",
      "Best: Epoch 3 \t loss=0.01815 \t val_loss=0.01737 \t sm_loss=0.01819 \t sm_val_loss=0.01748 \t time=0.95s\n",
      "Best: Epoch 5 \t loss=0.01736 \t val_loss=0.01727 \t sm_loss=0.01748 \t sm_val_loss=0.01739 \t time=0.93s\n",
      "Best: Epoch 7 \t loss=0.01733 \t val_loss=0.01725 \t sm_loss=0.01744 \t sm_val_loss=0.01736 \t time=0.90s\n",
      "Best: Epoch 8 \t loss=0.01733 \t val_loss=0.01710 \t sm_loss=0.01744 \t sm_val_loss=0.01722 \t time=0.88s\n",
      "Best: Epoch 9 \t loss=0.01724 \t val_loss=0.01706 \t sm_loss=0.01736 \t sm_val_loss=0.01718 \t time=0.93s\n",
      "Best: Epoch 10 \t loss=0.01712 \t val_loss=0.01696 \t sm_loss=0.01724 \t sm_val_loss=0.01708 \t time=0.90s\n",
      "Best: Epoch 11 \t loss=0.01699 \t val_loss=0.01685 \t sm_loss=0.01711 \t sm_val_loss=0.01697 \t time=0.88s\n",
      "Best: Epoch 12 \t loss=0.01677 \t val_loss=0.01679 \t sm_loss=0.01691 \t sm_val_loss=0.01692 \t time=1.21s\n",
      "Best: Epoch 13 \t loss=0.01653 \t val_loss=0.01653 \t sm_loss=0.01668 \t sm_val_loss=0.01666 \t time=1.22s\n",
      "Best: Epoch 14 \t loss=0.01628 \t val_loss=0.01647 \t sm_loss=0.01644 \t sm_val_loss=0.01661 \t time=0.91s\n",
      "Best: Epoch 15 \t loss=0.01592 \t val_loss=0.01608 \t sm_loss=0.01609 \t sm_val_loss=0.01623 \t time=0.89s\n",
      "Best: Epoch 16 \t loss=0.01552 \t val_loss=0.01587 \t sm_loss=0.01570 \t sm_val_loss=0.01604 \t time=1.31s\n",
      "Best: Epoch 17 \t loss=0.01501 \t val_loss=0.01576 \t sm_loss=0.01520 \t sm_val_loss=0.01593 \t time=0.88s\n",
      "Best: Epoch 18 \t loss=0.01450 \t val_loss=0.01569 \t sm_loss=0.01471 \t sm_val_loss=0.01585 \t time=0.91s\n",
      "Best: Epoch 19 \t loss=0.01411 \t val_loss=0.01564 \t sm_loss=0.01432 \t sm_val_loss=0.01581 \t time=0.90s\n",
      "Best: Epoch 20 \t loss=0.01388 \t val_loss=0.01562 \t sm_loss=0.01409 \t sm_val_loss=0.01579 \t time=0.92s\n",
      "Fold 6 log loss: 0.015791649885834168\n",
      "Fold 7\n",
      "Best: Epoch 1 \t loss=0.41499 \t val_loss=0.02227 \t sm_loss=0.41492 \t sm_val_loss=0.02226 \t time=0.92s\n",
      "Best: Epoch 2 \t loss=0.02017 \t val_loss=0.01850 \t sm_loss=0.02012 \t sm_val_loss=0.01844 \t time=1.14s\n",
      "Best: Epoch 3 \t loss=0.01818 \t val_loss=0.01772 \t sm_loss=0.01818 \t sm_val_loss=0.01775 \t time=1.00s\n",
      "Best: Epoch 4 \t loss=0.01748 \t val_loss=0.01732 \t sm_loss=0.01756 \t sm_val_loss=0.01744 \t time=1.02s\n",
      "Best: Epoch 6 \t loss=0.01734 \t val_loss=0.01724 \t sm_loss=0.01746 \t sm_val_loss=0.01736 \t time=0.90s\n",
      "Best: Epoch 7 \t loss=0.01727 \t val_loss=0.01708 \t sm_loss=0.01738 \t sm_val_loss=0.01720 \t time=0.94s\n",
      "Best: Epoch 10 \t loss=0.01704 \t val_loss=0.01692 \t sm_loss=0.01717 \t sm_val_loss=0.01704 \t time=0.92s\n",
      "Best: Epoch 12 \t loss=0.01677 \t val_loss=0.01678 \t sm_loss=0.01691 \t sm_val_loss=0.01693 \t time=0.93s\n",
      "Best: Epoch 13 \t loss=0.01648 \t val_loss=0.01672 \t sm_loss=0.01663 \t sm_val_loss=0.01686 \t time=1.11s\n",
      "Best: Epoch 14 \t loss=0.01623 \t val_loss=0.01649 \t sm_loss=0.01639 \t sm_val_loss=0.01664 \t time=0.92s\n",
      "Best: Epoch 15 \t loss=0.01588 \t val_loss=0.01639 \t sm_loss=0.01604 \t sm_val_loss=0.01655 \t time=0.89s\n",
      "Best: Epoch 16 \t loss=0.01543 \t val_loss=0.01607 \t sm_loss=0.01562 \t sm_val_loss=0.01624 \t time=0.91s\n",
      "Best: Epoch 17 \t loss=0.01499 \t val_loss=0.01598 \t sm_loss=0.01519 \t sm_val_loss=0.01616 \t time=0.89s\n",
      "Best: Epoch 18 \t loss=0.01445 \t val_loss=0.01583 \t sm_loss=0.01466 \t sm_val_loss=0.01600 \t time=0.93s\n",
      "Best: Epoch 19 \t loss=0.01409 \t val_loss=0.01581 \t sm_loss=0.01430 \t sm_val_loss=0.01599 \t time=0.91s\n",
      "Best: Epoch 20 \t loss=0.01385 \t val_loss=0.01578 \t sm_loss=0.01407 \t sm_val_loss=0.01595 \t time=0.92s\n",
      "Fold 7 log loss: 0.01591340300945705\n",
      "Seed 4\n",
      "Fold 1 log loss: 0.016052877654805012\n",
      "Fold 2 log loss: 0.016173625912727918\n",
      "Fold 3 log loss: 0.015798295120664194\n",
      "Fold 4 log loss: 0.01623473978856487\n",
      "Fold 5 log loss: 0.016368193119412185\n",
      "Fold 6 log loss: 0.015791649885834168\n",
      "Fold 7 log loss: 0.01591340300945705\n",
      "Std of log loss: 0.0002068069577465584\n",
      "Total log loss: 0.016047554884398834\n"
     ]
    },
    {
     "ename": "NameError",
     "evalue": "name 'target_oof' is not defined",
     "output_type": "error",
     "traceback": [
      "\u001b[0;31m---------------------------------------------------------------------------\u001b[0m",
      "\u001b[0;31mNameError\u001b[0m                                 Traceback (most recent call last)",
      "\u001b[0;32m<ipython-input-16-b6719d0cccca>\u001b[0m in \u001b[0;36m<module>\u001b[0;34m\u001b[0m\n\u001b[1;32m      5\u001b[0m \u001b[0;32mfor\u001b[0m \u001b[0mseed_\u001b[0m \u001b[0;32min\u001b[0m \u001b[0mseeds\u001b[0m\u001b[0;34m:\u001b[0m\u001b[0;34m\u001b[0m\u001b[0;34m\u001b[0m\u001b[0m\n\u001b[1;32m      6\u001b[0m     \u001b[0moof\u001b[0m\u001b[0;34m,\u001b[0m \u001b[0moof_targets\u001b[0m\u001b[0;34m,\u001b[0m \u001b[0mpytorch_pred\u001b[0m \u001b[0;34m=\u001b[0m \u001b[0mmodelling_torch\u001b[0m\u001b[0;34m(\u001b[0m\u001b[0mfn_train\u001b[0m\u001b[0;34m,\u001b[0m \u001b[0mfn_targets\u001b[0m\u001b[0;34m,\u001b[0m \u001b[0mfn_test\u001b[0m\u001b[0;34m,\u001b[0m \u001b[0mseed_\u001b[0m\u001b[0;34m,\u001b[0m \u001b[0mfn_targets\u001b[0m\u001b[0;34m.\u001b[0m\u001b[0mshape\u001b[0m\u001b[0;34m[\u001b[0m\u001b[0;36m1\u001b[0m\u001b[0;34m]\u001b[0m\u001b[0;34m,\u001b[0m \u001b[0;36m20\u001b[0m\u001b[0;34m)\u001b[0m\u001b[0;34m\u001b[0m\u001b[0;34m\u001b[0m\u001b[0m\n\u001b[0;32m----> 7\u001b[0;31m     \u001b[0mtarget_oof\u001b[0m \u001b[0;34m+=\u001b[0m \u001b[0moof\u001b[0m \u001b[0;31m#/ len(seeds)\u001b[0m\u001b[0;34m\u001b[0m\u001b[0;34m\u001b[0m\u001b[0m\n\u001b[0m\u001b[1;32m      8\u001b[0m     \u001b[0mtarget_pred\u001b[0m \u001b[0;34m+=\u001b[0m \u001b[0mpytorch_pred\u001b[0m \u001b[0;31m#/ len(seeds)\u001b[0m\u001b[0;34m\u001b[0m\u001b[0;34m\u001b[0m\u001b[0m\n\u001b[1;32m      9\u001b[0m \u001b[0;34m\u001b[0m\u001b[0m\n",
      "\u001b[0;31mNameError\u001b[0m: name 'target_oof' is not defined"
     ]
    }
   ],
   "source": [
    "seeds = [4] #0,1,2,3,\n",
    "#target_oof = np.zeros([len(fn_train),fn_targets.shape[1]])\n",
    "#target_pred = np.zeros([len(fn_test),fn_targets.shape[1]])\n",
    "\n",
    "for seed_ in seeds:\n",
    "    oof, oof_targets, pytorch_pred = modelling_torch(fn_train, fn_targets, fn_test, seed_, fn_targets.shape[1], 20)\n",
    "    target_oof += oof #/ len(seeds)\n",
    "    target_pred += pytorch_pred #/ len(seeds)\n",
    "    \n",
    "target_oof /=5\n",
    "target_pred /= 5\n",
    "print(\"Total log loss in targets: {}\".format(mean_log_loss(oof_targets, target_oof)))"
   ]
  },
  {
   "cell_type": "markdown",
   "metadata": {
    "papermill": {
     "duration": 0.125397,
     "end_time": "2020-11-02T11:30:02.224822",
     "exception": false,
     "start_time": "2020-11-02T11:30:02.099425",
     "status": "completed"
    },
    "tags": []
   },
   "source": [
    "- 7fold, 3seed: oof logloss: 0.01587\n",
    "- 7fold, 5seed: oof logloss: 0.01583"
   ]
  },
  {
   "cell_type": "code",
   "execution_count": 17,
   "metadata": {
    "execution": {
     "iopub.execute_input": "2020-11-02T11:30:02.514130Z",
     "iopub.status.busy": "2020-11-02T11:30:02.513065Z",
     "iopub.status.idle": "2020-11-02T11:30:02.591724Z",
     "shell.execute_reply": "2020-11-02T11:30:02.592464Z"
    },
    "papermill": {
     "duration": 0.22824,
     "end_time": "2020-11-02T11:30:02.592684",
     "exception": false,
     "start_time": "2020-11-02T11:30:02.364444",
     "status": "completed"
    },
    "tags": []
   },
   "outputs": [
    {
     "ename": "NameError",
     "evalue": "name 'target_oof' is not defined",
     "output_type": "error",
     "traceback": [
      "\u001b[0;31m---------------------------------------------------------------------------\u001b[0m",
      "\u001b[0;31mNameError\u001b[0m                                 Traceback (most recent call last)",
      "\u001b[0;32m<ipython-input-17-eebced14dc09>\u001b[0m in \u001b[0;36m<module>\u001b[0;34m\u001b[0m\n\u001b[1;32m      2\u001b[0m \u001b[0;32mfor\u001b[0m \u001b[0mtask_id\u001b[0m \u001b[0;32min\u001b[0m \u001b[0mrange\u001b[0m\u001b[0;34m(\u001b[0m\u001b[0mtargets\u001b[0m\u001b[0;34m.\u001b[0m\u001b[0mshape\u001b[0m\u001b[0;34m[\u001b[0m\u001b[0;36m1\u001b[0m\u001b[0;34m]\u001b[0m\u001b[0;34m-\u001b[0m\u001b[0;36m1\u001b[0m\u001b[0;34m)\u001b[0m\u001b[0;34m:\u001b[0m\u001b[0;34m\u001b[0m\u001b[0;34m\u001b[0m\u001b[0m\n\u001b[1;32m      3\u001b[0m     aucs.append(roc_auc_score(y_true=targets.iloc[:, task_id+1].values,\n\u001b[0;32m----> 4\u001b[0;31m                               y_score=target_oof[:, task_id]))\n\u001b[0m\u001b[1;32m      5\u001b[0m \u001b[0mprint\u001b[0m\u001b[0;34m(\u001b[0m\u001b[0;34mf\"Overall AUC : {np.mean(aucs)}\"\u001b[0m\u001b[0;34m)\u001b[0m\u001b[0;34m\u001b[0m\u001b[0;34m\u001b[0m\u001b[0m\n",
      "\u001b[0;31mNameError\u001b[0m: name 'target_oof' is not defined"
     ]
    }
   ],
   "source": [
    "aucs = []\n",
    "for task_id in range(targets.shape[1]-1):\n",
    "    aucs.append(roc_auc_score(y_true=targets.iloc[:, task_id+1].values,\n",
    "                              y_score=target_oof[:, task_id]))\n",
    "print(f\"Overall AUC : {np.mean(aucs)}\")"
   ]
  },
  {
   "cell_type": "code",
   "execution_count": 18,
   "metadata": {
    "execution": {
     "iopub.execute_input": "2020-11-02T11:30:02.945838Z",
     "iopub.status.busy": "2020-11-02T11:30:02.944815Z",
     "iopub.status.idle": "2020-11-02T11:30:03.569698Z",
     "shell.execute_reply": "2020-11-02T11:30:03.568759Z"
    },
    "papermill": {
     "duration": 0.835283,
     "end_time": "2020-11-02T11:30:03.569832",
     "exception": false,
     "start_time": "2020-11-02T11:30:02.734549",
     "status": "completed"
    },
    "tags": []
   },
   "outputs": [
    {
     "ename": "NameError",
     "evalue": "name 'target_oof' is not defined",
     "output_type": "error",
     "traceback": [
      "\u001b[0;31m---------------------------------------------------------------------------\u001b[0m",
      "\u001b[0;31mNameError\u001b[0m                                 Traceback (most recent call last)",
      "\u001b[0;32m<ipython-input-18-0a6c3589736f>\u001b[0m in \u001b[0;36m<module>\u001b[0;34m\u001b[0m\n\u001b[1;32m      1\u001b[0m \u001b[0mt\u001b[0m \u001b[0;34m=\u001b[0m \u001b[0mpd\u001b[0m\u001b[0;34m.\u001b[0m\u001b[0mread_csv\u001b[0m\u001b[0;34m(\u001b[0m\u001b[0mDATA_DIR\u001b[0m \u001b[0;34m+\u001b[0m \u001b[0;34m'train_targets_scored.csv'\u001b[0m\u001b[0;34m)\u001b[0m\u001b[0;34m\u001b[0m\u001b[0;34m\u001b[0m\u001b[0m\n\u001b[1;32m      2\u001b[0m \u001b[0mtrain_checkscore\u001b[0m \u001b[0;34m=\u001b[0m \u001b[0mt\u001b[0m\u001b[0;34m.\u001b[0m\u001b[0mcopy\u001b[0m\u001b[0;34m(\u001b[0m\u001b[0;34m)\u001b[0m\u001b[0;34m\u001b[0m\u001b[0;34m\u001b[0m\u001b[0m\n\u001b[0;32m----> 3\u001b[0;31m \u001b[0mtrain_checkscore\u001b[0m\u001b[0;34m.\u001b[0m\u001b[0mloc\u001b[0m\u001b[0;34m[\u001b[0m\u001b[0mtrain_checkscore\u001b[0m\u001b[0;34m.\u001b[0m\u001b[0mindex\u001b[0m\u001b[0;34m.\u001b[0m\u001b[0misin\u001b[0m\u001b[0;34m(\u001b[0m\u001b[0mcons_train_index\u001b[0m\u001b[0;34m)\u001b[0m\u001b[0;34m,\u001b[0m\u001b[0mtarget_feats\u001b[0m\u001b[0;34m]\u001b[0m \u001b[0;34m=\u001b[0m \u001b[0mtarget_oof\u001b[0m\u001b[0;34m\u001b[0m\u001b[0;34m\u001b[0m\u001b[0m\n\u001b[0m\u001b[1;32m      4\u001b[0m \u001b[0mtrain_checkscore\u001b[0m\u001b[0;34m.\u001b[0m\u001b[0mloc\u001b[0m\u001b[0;34m[\u001b[0m\u001b[0mtrain_checkscore\u001b[0m\u001b[0;34m.\u001b[0m\u001b[0mindex\u001b[0m\u001b[0;34m.\u001b[0m\u001b[0misin\u001b[0m\u001b[0;34m(\u001b[0m\u001b[0mnoncons_train_index\u001b[0m\u001b[0;34m)\u001b[0m\u001b[0;34m,\u001b[0m\u001b[0mtarget_feats\u001b[0m\u001b[0;34m]\u001b[0m \u001b[0;34m=\u001b[0m \u001b[0;36m0\u001b[0m\u001b[0;34m\u001b[0m\u001b[0;34m\u001b[0m\u001b[0m\n\u001b[1;32m      5\u001b[0m \u001b[0mt\u001b[0m\u001b[0;34m.\u001b[0m\u001b[0mdrop\u001b[0m\u001b[0;34m(\u001b[0m\u001b[0;34m\"sig_id\"\u001b[0m\u001b[0;34m,\u001b[0m \u001b[0maxis\u001b[0m\u001b[0;34m=\u001b[0m\u001b[0;36m1\u001b[0m\u001b[0;34m,\u001b[0m \u001b[0minplace\u001b[0m\u001b[0;34m=\u001b[0m\u001b[0;32mTrue\u001b[0m\u001b[0;34m)\u001b[0m\u001b[0;34m\u001b[0m\u001b[0;34m\u001b[0m\u001b[0m\n",
      "\u001b[0;31mNameError\u001b[0m: name 'target_oof' is not defined"
     ]
    }
   ],
   "source": [
    "t = pd.read_csv(DATA_DIR + 'train_targets_scored.csv')\n",
    "train_checkscore = t.copy()\n",
    "train_checkscore.loc[train_checkscore.index.isin(cons_train_index),target_feats] = target_oof\n",
    "train_checkscore.loc[train_checkscore.index.isin(noncons_train_index),target_feats] = 0\n",
    "t.drop(\"sig_id\", axis=1, inplace=True)\n",
    "print('OOF log loss: ', log_loss(np.ravel(t), np.ravel(np.array(train_checkscore.iloc[:,1:]))))"
   ]
  },
  {
   "cell_type": "code",
   "execution_count": 19,
   "metadata": {
    "execution": {
     "iopub.execute_input": "2020-11-02T11:30:03.738537Z",
     "iopub.status.busy": "2020-11-02T11:30:03.725411Z",
     "iopub.status.idle": "2020-11-02T11:30:03.745771Z",
     "shell.execute_reply": "2020-11-02T11:30:03.745161Z"
    },
    "papermill": {
     "duration": 0.102917,
     "end_time": "2020-11-02T11:30:03.745884",
     "exception": false,
     "start_time": "2020-11-02T11:30:03.642967",
     "status": "completed"
    },
    "tags": []
   },
   "outputs": [
    {
     "ename": "NameError",
     "evalue": "name 'target_pred' is not defined",
     "output_type": "error",
     "traceback": [
      "\u001b[0;31m---------------------------------------------------------------------------\u001b[0m",
      "\u001b[0;31mNameError\u001b[0m                                 Traceback (most recent call last)",
      "\u001b[0;32m<ipython-input-19-ae44d2f02278>\u001b[0m in \u001b[0;36m<module>\u001b[0;34m\u001b[0m\n\u001b[0;32m----> 1\u001b[0;31m \u001b[0msub\u001b[0m\u001b[0;34m.\u001b[0m\u001b[0mloc\u001b[0m\u001b[0;34m[\u001b[0m\u001b[0mcons_test_index\u001b[0m\u001b[0;34m,\u001b[0m\u001b[0mtarget_feats\u001b[0m\u001b[0;34m]\u001b[0m \u001b[0;34m=\u001b[0m \u001b[0mtarget_pred\u001b[0m\u001b[0;34m\u001b[0m\u001b[0;34m\u001b[0m\u001b[0m\n\u001b[0m\u001b[1;32m      2\u001b[0m \u001b[0msub\u001b[0m\u001b[0;34m.\u001b[0m\u001b[0mloc\u001b[0m\u001b[0;34m[\u001b[0m\u001b[0mnoncons_test_index\u001b[0m\u001b[0;34m,\u001b[0m\u001b[0mtarget_feats\u001b[0m\u001b[0;34m]\u001b[0m \u001b[0;34m=\u001b[0m \u001b[0;36m0\u001b[0m\u001b[0;34m\u001b[0m\u001b[0;34m\u001b[0m\u001b[0m\n\u001b[1;32m      3\u001b[0m \u001b[0msub\u001b[0m\u001b[0;34m.\u001b[0m\u001b[0mto_csv\u001b[0m\u001b[0;34m(\u001b[0m\u001b[0;34m'submission.csv'\u001b[0m\u001b[0;34m,\u001b[0m \u001b[0mindex\u001b[0m\u001b[0;34m=\u001b[0m\u001b[0;32mFalse\u001b[0m\u001b[0;34m)\u001b[0m\u001b[0;34m\u001b[0m\u001b[0;34m\u001b[0m\u001b[0m\n",
      "\u001b[0;31mNameError\u001b[0m: name 'target_pred' is not defined"
     ]
    }
   ],
   "source": [
    "sub.loc[cons_test_index,target_feats] = target_pred\n",
    "sub.loc[noncons_test_index,target_feats] = 0\n",
    "sub.to_csv('submission.csv', index=False)"
   ]
  }
 ],
 "metadata": {
  "kernelspec": {
   "display_name": "Python 3",
   "language": "python",
   "name": "python3"
  },
  "language_info": {
   "codemirror_mode": {
    "name": "ipython",
    "version": 3
   },
   "file_extension": ".py",
   "mimetype": "text/x-python",
   "name": "python",
   "nbconvert_exporter": "python",
   "pygments_lexer": "ipython3",
   "version": "3.7.6"
  },
  "papermill": {
   "duration": 198.896723,
   "end_time": "2020-11-02T11:30:05.380435",
   "environment_variables": {},
   "exception": null,
   "input_path": "__notebook__.ipynb",
   "output_path": "__notebook__.ipynb",
   "parameters": {},
   "start_time": "2020-11-02T11:26:46.483712",
   "version": "2.1.0"
  }
 },
 "nbformat": 4,
 "nbformat_minor": 4
}
