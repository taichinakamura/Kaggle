{
 "cells": [
  {
   "cell_type": "markdown",
   "metadata": {
    "papermill": {
     "duration": 0.019615,
     "end_time": "2020-11-02T14:18:58.200436",
     "exception": false,
     "start_time": "2020-11-02T14:18:58.180821",
     "status": "completed"
    },
    "tags": []
   },
   "source": [
    "- try transfer learning (consider only fold 5 file)"
   ]
  },
  {
   "cell_type": "code",
   "execution_count": 1,
   "metadata": {
    "_cell_guid": "b1076dfc-b9ad-4769-8c92-a6c4dae69d19",
    "_uuid": "8f2839f25d086af736a60e9eeb907d3b93b6e0e5",
    "execution": {
     "iopub.execute_input": "2020-11-02T14:18:58.246336Z",
     "iopub.status.busy": "2020-11-02T14:18:58.245572Z",
     "iopub.status.idle": "2020-11-02T14:19:07.853554Z",
     "shell.execute_reply": "2020-11-02T14:19:07.852393Z"
    },
    "papermill": {
     "duration": 9.634793,
     "end_time": "2020-11-02T14:19:07.853686",
     "exception": false,
     "start_time": "2020-11-02T14:18:58.218893",
     "status": "completed"
    },
    "tags": []
   },
   "outputs": [],
   "source": [
    "import os\n",
    "import sys\n",
    "import random\n",
    "import warnings\n",
    "import numpy as np\n",
    "import pandas as pd \n",
    "from umap import UMAP\n",
    "from sklearn import preprocessing\n",
    "from sklearn.metrics import log_loss,roc_auc_score\n",
    "from sklearn.decomposition import PCA\n",
    "from tqdm import tqdm_notebook as tqdm\n",
    "from sklearn.cluster import KMeans\n",
    "from sklearn.multioutput import MultiOutputClassifier\n",
    "from sklearn.feature_selection import VarianceThreshold\n",
    "\n",
    "sys.path.append('../input/multilabelstraifier/')\n",
    "from ml_stratifiers import MultilabelStratifiedKFold\n",
    "warnings.filterwarnings('ignore')\n",
    "\n",
    "import time\n",
    "import torch\n",
    "import torch.nn as nn\n",
    "import torch.optim as optim\n",
    "import torch.nn.functional as F\n",
    "import tensorflow as tf\n",
    "from torch.nn.modules.loss import _WeightedLoss"
   ]
  },
  {
   "cell_type": "code",
   "execution_count": 2,
   "metadata": {
    "execution": {
     "iopub.execute_input": "2020-11-02T14:19:07.898882Z",
     "iopub.status.busy": "2020-11-02T14:19:07.898189Z",
     "iopub.status.idle": "2020-11-02T14:19:14.601376Z",
     "shell.execute_reply": "2020-11-02T14:19:14.600129Z"
    },
    "papermill": {
     "duration": 6.728784,
     "end_time": "2020-11-02T14:19:14.601544",
     "exception": false,
     "start_time": "2020-11-02T14:19:07.872760",
     "status": "completed"
    },
    "tags": []
   },
   "outputs": [],
   "source": [
    "DATA_DIR = '/kaggle/input/lish-moa/'\n",
    "train = pd.read_csv(DATA_DIR + 'train_features.csv')\n",
    "targets = pd.read_csv(DATA_DIR + 'train_targets_scored.csv')\n",
    "non_targets = pd.read_csv(DATA_DIR + 'train_targets_nonscored.csv')\n",
    "test = pd.read_csv(DATA_DIR + 'test_features.csv')\n",
    "sub = pd.read_csv(DATA_DIR + 'sample_submission.csv')"
   ]
  },
  {
   "cell_type": "code",
   "execution_count": 3,
   "metadata": {
    "execution": {
     "iopub.execute_input": "2020-11-02T14:19:14.647025Z",
     "iopub.status.busy": "2020-11-02T14:19:14.645296Z",
     "iopub.status.idle": "2020-11-02T14:19:14.647708Z",
     "shell.execute_reply": "2020-11-02T14:19:14.648188Z"
    },
    "papermill": {
     "duration": 0.028654,
     "end_time": "2020-11-02T14:19:14.648305",
     "exception": false,
     "start_time": "2020-11-02T14:19:14.619651",
     "status": "completed"
    },
    "tags": []
   },
   "outputs": [],
   "source": [
    "target_feats = [ i for i in targets.columns if i != \"sig_id\"]\n",
    "g_feats = [i for i in train.columns if \"g-\" in i]\n",
    "c_feats = [i for i in train.columns if \"c-\" in i]"
   ]
  },
  {
   "cell_type": "code",
   "execution_count": 4,
   "metadata": {
    "execution": {
     "iopub.execute_input": "2020-11-02T14:19:14.693161Z",
     "iopub.status.busy": "2020-11-02T14:19:14.692287Z",
     "iopub.status.idle": "2020-11-02T14:19:14.792331Z",
     "shell.execute_reply": "2020-11-02T14:19:14.791696Z"
    },
    "papermill": {
     "duration": 0.126458,
     "end_time": "2020-11-02T14:19:14.792470",
     "exception": false,
     "start_time": "2020-11-02T14:19:14.666012",
     "status": "completed"
    },
    "tags": []
   },
   "outputs": [],
   "source": [
    "noncons_train_index = train[train.cp_type==\"ctl_vehicle\"].index\n",
    "cons_train_index = train[train.cp_type!=\"ctl_vehicle\"].index\n",
    "noncons_test_index = test[test.cp_type==\"ctl_vehicle\"].index\n",
    "cons_test_index = test[test.cp_type!=\"ctl_vehicle\"].index"
   ]
  },
  {
   "cell_type": "markdown",
   "metadata": {
    "papermill": {
     "duration": 0.018192,
     "end_time": "2020-11-02T14:19:14.828954",
     "exception": false,
     "start_time": "2020-11-02T14:19:14.810762",
     "status": "completed"
    },
    "tags": []
   },
   "source": [
    "# preprocess"
   ]
  },
  {
   "cell_type": "code",
   "execution_count": 5,
   "metadata": {
    "execution": {
     "iopub.execute_input": "2020-11-02T14:19:14.882605Z",
     "iopub.status.busy": "2020-11-02T14:19:14.881605Z",
     "iopub.status.idle": "2020-11-02T14:19:15.304485Z",
     "shell.execute_reply": "2020-11-02T14:19:15.306003Z"
    },
    "papermill": {
     "duration": 0.458396,
     "end_time": "2020-11-02T14:19:15.306267",
     "exception": false,
     "start_time": "2020-11-02T14:19:14.847871",
     "status": "completed"
    },
    "tags": []
   },
   "outputs": [],
   "source": [
    "train = train[train.index.isin(cons_train_index)].copy().reset_index(drop=True)\n",
    "test = test[test.index.isin(cons_test_index)].copy().reset_index(drop=True)\n",
    "targets = targets[targets.index.isin(cons_train_index)].copy().reset_index(drop=True)\n",
    "non_targets = non_targets[non_targets.index.isin(cons_train_index)].copy().reset_index(drop=True)"
   ]
  },
  {
   "cell_type": "code",
   "execution_count": 6,
   "metadata": {
    "execution": {
     "iopub.execute_input": "2020-11-02T14:19:15.380618Z",
     "iopub.status.busy": "2020-11-02T14:19:15.377074Z",
     "iopub.status.idle": "2020-11-02T14:19:15.483530Z",
     "shell.execute_reply": "2020-11-02T14:19:15.484348Z"
    },
    "papermill": {
     "duration": 0.145011,
     "end_time": "2020-11-02T14:19:15.484564",
     "exception": false,
     "start_time": "2020-11-02T14:19:15.339553",
     "status": "completed"
    },
    "tags": []
   },
   "outputs": [
    {
     "name": "stdout",
     "output_type": "stream",
     "text": [
      "first drop 71\n",
      "shape after 1st drop: (21948, 332)\n",
      "331\n"
     ]
    }
   ],
   "source": [
    "non_target_feats = [i for i in non_targets.columns if i != \"sig_id\"]\n",
    "nontarget_dists = pd.DataFrame(np.sum(non_targets[non_target_feats])).reset_index(drop=False)\n",
    "nontarget_dists.columns = [\"target\", \"number\"]\n",
    "nontarget_dists = nontarget_dists.sort_values(\"number\", ascending=False).reset_index(drop=True)\n",
    "drop_list1 = list(nontarget_dists[nontarget_dists.number==0][\"target\"].values)\n",
    "print(\"first drop\", len(drop_list1))\n",
    "non_targets.drop(drop_list1, axis=1, inplace=True)\n",
    "print(\"shape after 1st drop:\", non_targets.shape)\n",
    "non_target_feats = [i for i in non_targets.columns if i != \"sig_id\"]\n",
    "print(len(non_target_feats))"
   ]
  },
  {
   "cell_type": "code",
   "execution_count": 7,
   "metadata": {
    "execution": {
     "iopub.execute_input": "2020-11-02T14:19:15.545921Z",
     "iopub.status.busy": "2020-11-02T14:19:15.544609Z",
     "iopub.status.idle": "2020-11-02T14:19:15.587179Z",
     "shell.execute_reply": "2020-11-02T14:19:15.587999Z"
    },
    "papermill": {
     "duration": 0.076469,
     "end_time": "2020-11-02T14:19:15.588184",
     "exception": false,
     "start_time": "2020-11-02T14:19:15.511715",
     "status": "completed"
    },
    "tags": []
   },
   "outputs": [],
   "source": [
    "all_targets = pd.concat([targets, non_targets], axis=1)"
   ]
  },
  {
   "cell_type": "markdown",
   "metadata": {
    "papermill": {
     "duration": 0.026704,
     "end_time": "2020-11-02T14:19:15.646690",
     "exception": false,
     "start_time": "2020-11-02T14:19:15.619986",
     "status": "completed"
    },
    "tags": []
   },
   "source": [
    "# Feature engineering "
   ]
  },
  {
   "cell_type": "code",
   "execution_count": 8,
   "metadata": {
    "execution": {
     "iopub.execute_input": "2020-11-02T14:19:15.712388Z",
     "iopub.status.busy": "2020-11-02T14:19:15.711036Z",
     "iopub.status.idle": "2020-11-02T14:19:16.229253Z",
     "shell.execute_reply": "2020-11-02T14:19:16.229966Z"
    },
    "papermill": {
     "duration": 0.556651,
     "end_time": "2020-11-02T14:19:16.230180",
     "exception": false,
     "start_time": "2020-11-02T14:19:15.673529",
     "status": "completed"
    },
    "tags": []
   },
   "outputs": [],
   "source": [
    "X = train.iloc[:,4:].copy().values\n",
    "select = VarianceThreshold(threshold=0.7)\n",
    "X_new = select.fit_transform(X)\n",
    "drop_feats = list(np.array(train.iloc[:,4:].columns)[select.get_support()==False])\n",
    "len(drop_feats)\n",
    "\n",
    "train.drop(drop_feats, axis=1, inplace=True)\n",
    "test.drop(drop_feats, axis=1, inplace=True)"
   ]
  },
  {
   "cell_type": "code",
   "execution_count": 9,
   "metadata": {
    "execution": {
     "iopub.execute_input": "2020-11-02T14:19:16.290929Z",
     "iopub.status.busy": "2020-11-02T14:19:16.290128Z",
     "iopub.status.idle": "2020-11-02T14:19:16.293725Z",
     "shell.execute_reply": "2020-11-02T14:19:16.294341Z"
    },
    "papermill": {
     "duration": 0.037387,
     "end_time": "2020-11-02T14:19:16.294504",
     "exception": false,
     "start_time": "2020-11-02T14:19:16.257117",
     "status": "completed"
    },
    "tags": []
   },
   "outputs": [],
   "source": [
    "g_feats = [i for i in train.columns if \"g-\" in i]\n",
    "c_feats = [i for i in train.columns if \"c-\" in i]"
   ]
  },
  {
   "cell_type": "code",
   "execution_count": 10,
   "metadata": {
    "execution": {
     "iopub.execute_input": "2020-11-02T14:19:16.354442Z",
     "iopub.status.busy": "2020-11-02T14:19:16.353669Z",
     "iopub.status.idle": "2020-11-02T14:19:27.393706Z",
     "shell.execute_reply": "2020-11-02T14:19:27.392502Z"
    },
    "papermill": {
     "duration": 11.073931,
     "end_time": "2020-11-02T14:19:27.393850",
     "exception": false,
     "start_time": "2020-11-02T14:19:16.319919",
     "status": "completed"
    },
    "tags": []
   },
   "outputs": [],
   "source": [
    "# rank gauss\n",
    "for i in c_feats + g_feats:\n",
    "    ss = preprocessing.QuantileTransformer(n_quantiles=1000, random_state=0, output_distribution=\"normal\")\n",
    "    ss.fit(train[i].values.reshape(-1,1))\n",
    "    train[i] = ss.transform(train[i].values.reshape(-1,1))\n",
    "    test[i] = ss.transform(test[i].values.reshape(-1,1))"
   ]
  },
  {
   "cell_type": "code",
   "execution_count": 11,
   "metadata": {
    "execution": {
     "iopub.execute_input": "2020-11-02T14:19:27.458018Z",
     "iopub.status.busy": "2020-11-02T14:19:27.456033Z",
     "iopub.status.idle": "2020-11-02T14:19:29.643935Z",
     "shell.execute_reply": "2020-11-02T14:19:29.643317Z"
    },
    "papermill": {
     "duration": 2.228964,
     "end_time": "2020-11-02T14:19:29.644047",
     "exception": false,
     "start_time": "2020-11-02T14:19:27.415083",
     "status": "completed"
    },
    "tags": []
   },
   "outputs": [],
   "source": [
    "c_num = 10\n",
    "pca_c_cols = [\"pca-c\"+str(i+1) for i in range(c_num)]\n",
    "pca = PCA(n_components=c_num,random_state=42)\n",
    "c_train = pca.fit_transform(train[c_feats])\n",
    "c_test = pca.transform(test[c_feats])\n",
    "c_train = pd.DataFrame(c_train, columns=pca_c_cols)\n",
    "c_test = pd.DataFrame(c_test, columns=pca_c_cols)\n",
    "\n",
    "g_num = 60\n",
    "pca_g_cols = [\"pca-g\"+str(i+1) for i in range(g_num)]\n",
    "pca = PCA(n_components=g_num, random_state=42)\n",
    "g_train = pca.fit_transform(train[g_feats])\n",
    "g_test = pca.transform(test[g_feats])\n",
    "g_train = pd.DataFrame(g_train, columns=pca_g_cols)\n",
    "g_test = pd.DataFrame(g_test, columns=pca_g_cols)\n",
    "\n",
    "train = pd.concat([train, c_train],axis=1)\n",
    "test = pd.concat([test, c_test],axis=1)\n",
    "train = pd.concat([train, g_train],axis=1)\n",
    "test = pd.concat([test, g_test],axis=1)"
   ]
  },
  {
   "cell_type": "code",
   "execution_count": 12,
   "metadata": {
    "execution": {
     "iopub.execute_input": "2020-11-02T14:19:29.688212Z",
     "iopub.status.busy": "2020-11-02T14:19:29.687439Z",
     "iopub.status.idle": "2020-11-02T14:19:29.690571Z",
     "shell.execute_reply": "2020-11-02T14:19:29.691028Z"
    },
    "papermill": {
     "duration": 0.027411,
     "end_time": "2020-11-02T14:19:29.691184",
     "exception": false,
     "start_time": "2020-11-02T14:19:29.663773",
     "status": "completed"
    },
    "tags": []
   },
   "outputs": [],
   "source": [
    "#uc_num = 1\n",
    "#um = UMAP(n_neighbors=30, n_components=uc_num, random_state=42)\n",
    "#um_c_cols = [\"um-c\"+str(i+1) for i in range(uc_num)]\n",
    "#uc_train = um.fit_transform(train[c_feats])\n",
    "#uc_test = um.transform(test[c_feats])\n",
    "#uc_train = pd.DataFrame(uc_train, columns=um_c_cols)\n",
    "#uc_test = pd.DataFrame(uc_test, columns=um_c_cols)\n",
    "\n",
    "#ug_num = 5\n",
    "#um = UMAP(n_neighbors=30, n_components=ug_num, random_state=42)\n",
    "#um_g_cols = [\"um-g\"+str(i+1) for i in range(ug_num)]\n",
    "#ug_train = um.fit_transform(train[g_feats])\n",
    "#ug_test = um.transform(test[g_feats])\n",
    "#ug_train = pd.DataFrame(ug_train, columns=um_g_cols)\n",
    "#ug_test = pd.DataFrame(ug_test, columns=um_g_cols)\n",
    "\n",
    "#train = pd.concat([train, uc_train],axis=1)\n",
    "#test = pd.concat([test, uc_test],axis=1)\n",
    "#train = pd.concat([train, ug_train],axis=1)\n",
    "#test = pd.concat([test, ug_test],axis=1)"
   ]
  },
  {
   "cell_type": "code",
   "execution_count": 13,
   "metadata": {
    "execution": {
     "iopub.execute_input": "2020-11-02T14:19:29.740329Z",
     "iopub.status.busy": "2020-11-02T14:19:29.739112Z",
     "iopub.status.idle": "2020-11-02T14:19:30.126208Z",
     "shell.execute_reply": "2020-11-02T14:19:30.126704Z"
    },
    "papermill": {
     "duration": 0.415229,
     "end_time": "2020-11-02T14:19:30.126839",
     "exception": false,
     "start_time": "2020-11-02T14:19:29.711610",
     "status": "completed"
    },
    "tags": []
   },
   "outputs": [
    {
     "name": "stdout",
     "output_type": "stream",
     "text": [
      "(21948, 914) (3624, 914)\n"
     ]
    }
   ],
   "source": [
    "def fe(df):\n",
    "    tmp = df.copy()\n",
    "    tmp = pd.get_dummies(tmp, columns=['cp_time','cp_dose'])\n",
    "    tmp.drop([\"cp_type\", \"sig_id\"], axis=1, inplace=True) \n",
    "    return tmp\n",
    "\n",
    "train = fe(train)\n",
    "test = fe(test)\n",
    "\n",
    "print(train.shape, test.shape)"
   ]
  },
  {
   "cell_type": "code",
   "execution_count": 14,
   "metadata": {
    "execution": {
     "iopub.execute_input": "2020-11-02T14:19:30.176312Z",
     "iopub.status.busy": "2020-11-02T14:19:30.174919Z",
     "iopub.status.idle": "2020-11-02T14:19:30.479543Z",
     "shell.execute_reply": "2020-11-02T14:19:30.478794Z"
    },
    "papermill": {
     "duration": 0.332057,
     "end_time": "2020-11-02T14:19:30.479667",
     "exception": false,
     "start_time": "2020-11-02T14:19:30.147610",
     "status": "completed"
    },
    "tags": []
   },
   "outputs": [],
   "source": [
    "fn_train = train.copy().to_numpy()\n",
    "fn_test = test.copy().to_numpy()\n",
    "\n",
    "fn_targets = targets.drop(\"sig_id\", axis=1).copy().to_numpy()\n",
    "fn_all_targets = all_targets.drop(\"sig_id\", axis=1).copy().to_numpy()"
   ]
  },
  {
   "cell_type": "markdown",
   "metadata": {
    "papermill": {
     "duration": 0.020225,
     "end_time": "2020-11-02T14:19:30.520685",
     "exception": false,
     "start_time": "2020-11-02T14:19:30.500460",
     "status": "completed"
    },
    "tags": []
   },
   "source": [
    "# modelling"
   ]
  },
  {
   "cell_type": "code",
   "execution_count": 15,
   "metadata": {
    "execution": {
     "iopub.execute_input": "2020-11-02T14:19:30.573991Z",
     "iopub.status.busy": "2020-11-02T14:19:30.573082Z",
     "iopub.status.idle": "2020-11-02T14:19:30.577347Z",
     "shell.execute_reply": "2020-11-02T14:19:30.576825Z"
    },
    "papermill": {
     "duration": 0.035571,
     "end_time": "2020-11-02T14:19:30.577459",
     "exception": false,
     "start_time": "2020-11-02T14:19:30.541888",
     "status": "completed"
    },
    "tags": []
   },
   "outputs": [],
   "source": [
    "class SmoothCrossEntropyLoss(_WeightedLoss):\n",
    "    def __init__(self, weight=None, reduction='mean', smoothing=0.0):\n",
    "        super().__init__(weight=weight, reduction=reduction)\n",
    "        self.smoothing = smoothing\n",
    "        self.weight = weight\n",
    "        self.reduction = reduction\n",
    "\n",
    "    @staticmethod\n",
    "    def _smooth(targets, n_classes, smoothing=0.0):\n",
    "        assert 0 <= smoothing <= 1\n",
    "        with torch.no_grad():\n",
    "            targets = targets * (1 - smoothing) + torch.ones_like(targets).to(device) * smoothing / n_classes\n",
    "        return targets\n",
    "\n",
    "    def forward(self, inputs, targets):\n",
    "        targets = SmoothCrossEntropyLoss()._smooth(targets, inputs.shape[1], self.smoothing)\n",
    "\n",
    "        if self.weight is not None:\n",
    "            inputs = inputs * self.weight.unsqueeze(0)\n",
    "\n",
    "        loss = F.binary_cross_entropy_with_logits(inputs, targets)\n",
    "\n",
    "        return loss"
   ]
  },
  {
   "cell_type": "code",
   "execution_count": 16,
   "metadata": {
    "execution": {
     "iopub.execute_input": "2020-11-02T14:19:31.013365Z",
     "iopub.status.busy": "2020-11-02T14:19:30.631427Z",
     "iopub.status.idle": "2020-11-02T14:19:31.019391Z",
     "shell.execute_reply": "2020-11-02T14:19:31.018520Z"
    },
    "papermill": {
     "duration": 0.421956,
     "end_time": "2020-11-02T14:19:31.019506",
     "exception": false,
     "start_time": "2020-11-02T14:19:30.597550",
     "status": "completed"
    },
    "tags": []
   },
   "outputs": [
    {
     "name": "stdout",
     "output_type": "stream",
     "text": [
      "cuda\n"
     ]
    }
   ],
   "source": [
    "device = \"cuda\" if torch.cuda.is_available() else \"cpu\"\n",
    "\n",
    "print(device)\n",
    "def mean_log_loss(y_true, y_pred):\n",
    "    metrics = []\n",
    "    for i, target in enumerate(target_feats):\n",
    "        metrics.append(log_loss(y_true[:, i], y_pred[:, i].astype(float), labels=[0,1]))\n",
    "    return np.mean(metrics)\n",
    "\n",
    "def seed_everything(seed=42): \n",
    "    random.seed(seed)\n",
    "    os.environ['PYTHONHASHSEED'] = str(seed)\n",
    "    tf.random.set_seed(seed)\n",
    "    np.random.seed(seed)\n",
    "    torch.manual_seed(seed)\n",
    "    torch.cuda.manual_seed(seed)\n",
    "    torch.backends.cudnn.deterministic = True\n",
    "\n",
    "class MoaModel(nn.Module):\n",
    "    def __init__(self, num_columns, last_num):\n",
    "        super(MoaModel, self).__init__()\n",
    "        self.batch_norm1 = nn.BatchNorm1d(num_columns)\n",
    "        self.dropout1 = nn.Dropout(0.1)\n",
    "        self.dense1 = nn.utils.weight_norm(nn.Linear(num_columns, 1024))\n",
    "        self.relu1 = nn.LeakyReLU()\n",
    "        \n",
    "        self.batch_norm2 = nn.BatchNorm1d(1024)\n",
    "        self.dropout2 = nn.Dropout(0.1)\n",
    "        self.dense2 = nn.utils.weight_norm(nn.Linear(1024, 1024))\n",
    "        self.relu2 = nn.LeakyReLU()\n",
    "        \n",
    "        self.batch_norm3 = nn.BatchNorm1d(1024)\n",
    "        self.dropout3 = nn.Dropout(0.1)\n",
    "        self.dense3 = nn.utils.weight_norm(nn.Linear(1024, last_num))\n",
    "    \n",
    "    def forward(self, x):\n",
    "        x = self.batch_norm1(x)\n",
    "        x = self.dropout1(x)\n",
    "        x = self.relu1(self.dense1(x))\n",
    "        \n",
    "        x = self.batch_norm2(x)\n",
    "        x = self.dropout2(x)\n",
    "        x = self.relu2(self.dense2(x))\n",
    "        \n",
    "        x = self.batch_norm3(x)\n",
    "        x = self.dropout3(x)\n",
    "        x = self.dense3(x)\n",
    "        \n",
    "        return x"
   ]
  },
  {
   "cell_type": "markdown",
   "metadata": {
    "papermill": {
     "duration": 0.022342,
     "end_time": "2020-11-02T14:19:31.063263",
     "exception": false,
     "start_time": "2020-11-02T14:19:31.040921",
     "status": "completed"
    },
    "tags": []
   },
   "source": [
    "# modelling"
   ]
  },
  {
   "cell_type": "code",
   "execution_count": 17,
   "metadata": {
    "execution": {
     "iopub.execute_input": "2020-11-02T14:19:31.130821Z",
     "iopub.status.busy": "2020-11-02T14:19:31.125555Z",
     "iopub.status.idle": "2020-11-02T14:19:31.168986Z",
     "shell.execute_reply": "2020-11-02T14:19:31.168479Z"
    },
    "papermill": {
     "duration": 0.084713,
     "end_time": "2020-11-02T14:19:31.169081",
     "exception": false,
     "start_time": "2020-11-02T14:19:31.084368",
     "status": "completed"
    },
    "tags": []
   },
   "outputs": [],
   "source": [
    "batch_size = 128\n",
    "n_folds=5\n",
    "EARLY_STOPPING_STEPS = 10\n",
    "smoothing = 0.001\n",
    "p_min = smoothing\n",
    "p_max = 1 - smoothing\n",
    "\n",
    "def torch_tl(tr, target, te, sample_seed, init_num, files):\n",
    "    seed_everything(seed=sample_seed) \n",
    "    X_train = tr.copy()\n",
    "    y_train = target.copy()\n",
    "    X_test = te.copy()\n",
    "    test_len = X_test.shape[0]\n",
    "    \n",
    "    if files == []:\n",
    "        train_epochs = 10\n",
    "        mskf=MultilabelStratifiedKFold(n_splits = n_folds, shuffle=True, random_state=224)\n",
    "        ans = []\n",
    "    else:\n",
    "        train_epochs = 20\n",
    "        mskf=MultilabelStratifiedKFold(n_splits = n_folds, shuffle=True, random_state=2)\n",
    "        \n",
    "    metric = lambda inputs, targets : F.binary_cross_entropy((torch.clamp(torch.sigmoid(inputs), p_min, p_max)), targets)\n",
    "    models = []\n",
    "    \n",
    "    X_test = torch.tensor(X_test, dtype=torch.float32)\n",
    "    X_test = torch.utils.data.TensorDataset(X_test) \n",
    "    test_loader = torch.utils.data.DataLoader(X_test, batch_size=batch_size, shuffle=False)\n",
    "    \n",
    "    oof = np.zeros([len(X_train),y_train.shape[1]])\n",
    "    oof_targets = np.zeros([len(X_train),y_train.shape[1]])\n",
    "    pred_value = np.zeros([test_len, y_train.shape[1]])\n",
    "    scores = []\n",
    "    for fold, (train_index, valid_index) in enumerate(mskf.split(X_train, y_train)):\n",
    "        print(\"Fold \"+str(fold+1))\n",
    "        X_train2 = torch.tensor(X_train[train_index,:], dtype=torch.float32)\n",
    "        y_train2 = torch.tensor(y_train[train_index], dtype=torch.float32)\n",
    "\n",
    "        X_valid2 = torch.tensor(X_train[valid_index,:], dtype=torch.float32)\n",
    "        y_valid2 = torch.tensor(y_train[valid_index], dtype=torch.float32)\n",
    "        \n",
    "        train = torch.utils.data.TensorDataset(X_train2, y_train2)\n",
    "        valid = torch.utils.data.TensorDataset(X_valid2, y_valid2)\n",
    "                \n",
    "        train_loader = torch.utils.data.DataLoader(train, batch_size=batch_size, shuffle=True) \n",
    "        valid_loader = torch.utils.data.DataLoader(valid, batch_size=batch_size, shuffle=False)\n",
    "            \n",
    "        clf = MoaModel(init_num, len(non_target_feats)+len(target_feats))\n",
    "\n",
    "        loss_fn = SmoothCrossEntropyLoss(smoothing=smoothing)\n",
    "        if files != []:\n",
    "            clf.load_state_dict(torch.load(files[0]))\n",
    "            for param in clf.parameters():\n",
    "                param.requires_grad = False\n",
    "            # reinitialze\n",
    "            clf.dense3 = nn.utils.weight_norm(nn.Linear(1024, len(target_feats)))\n",
    "            for param in clf.dense3.parameters():\n",
    "                param.requires_grad = True\n",
    "            optimizer = optim.Adam(clf.parameters(), lr = 0.001, weight_decay=1e-5) \n",
    "            scheduler = optim.lr_scheduler.OneCycleLR(optimizer=optimizer, pct_start=0.1, div_factor=1e3, \n",
    "                                              max_lr=1e-2, epochs=train_epochs, steps_per_epoch=len(train_loader))\n",
    "        else:\n",
    "            optimizer = optim.Adam(clf.parameters(), lr = 0.001, weight_decay=1e-5) \n",
    "            scheduler = optim.lr_scheduler.OneCycleLR(optimizer=optimizer, pct_start=0.1, div_factor=1e3, \n",
    "                                              max_lr=1e-2, epochs=train_epochs, steps_per_epoch=len(train_loader))\n",
    "        \n",
    "        clf.to(device)\n",
    "        best_val_loss = np.inf\n",
    "        stop_counts = 0\n",
    "        \n",
    "        for epoch in range(train_epochs):\n",
    "            start_time = time.time()\n",
    "            clf.train()\n",
    "            avg_loss = 0.\n",
    "            sm_avg_loss = 0.\n",
    "            for x_batch, y_batch in tqdm(train_loader, disable=True):\n",
    "                x_batch = x_batch.to(device)\n",
    "                y_batch = y_batch.to(device)\n",
    "                y_pred = clf(x_batch) \n",
    "                loss = loss_fn(y_pred, y_batch)\n",
    "                optimizer.zero_grad()\n",
    "                loss.backward()\n",
    "                optimizer.step()\n",
    "                scheduler.step()\n",
    "                avg_loss += loss.item() / len(train_loader)  \n",
    "                sm_avg_loss += metric(y_pred, y_batch) / len(train_loader)      \n",
    "            \n",
    "            clf.eval()\n",
    "            avg_val_loss = 0.\n",
    "            sm_avg_val_loss = 0.\n",
    "\n",
    "            for i, (x_batch, y_batch) in enumerate(valid_loader): \n",
    "                x_batch = x_batch.to(device)\n",
    "                y_batch = y_batch.to(device)\n",
    "                y_pred = clf(x_batch).detach()\n",
    "                avg_val_loss += loss_fn(y_pred, y_batch).item() / len(valid_loader)\n",
    "                sm_avg_val_loss += metric(y_pred, y_batch) / len(valid_loader)\n",
    "                \n",
    "            elapsed_time = time.time() - start_time \n",
    "                    \n",
    "            if sm_avg_val_loss < best_val_loss:\n",
    "                stop_counts = 0\n",
    "                best_val_loss = sm_avg_val_loss\n",
    "                print('Best: Epoch {} \\t loss={:.5f} \\t val_loss={:.5f} \\t sm_loss={:.5f} \\t sm_val_loss={:.5f} \\t time={:.2f}s'.format(\n",
    "                    epoch + 1, avg_loss, avg_val_loss, sm_avg_loss, sm_avg_val_loss, elapsed_time))\n",
    "                if files == []:\n",
    "                    torch.save(clf.state_dict(), 'parameters'+str(fold+1)+'.pt')\n",
    "                else:    \n",
    "                    torch.save(clf.state_dict(), 'best-model-parameters.pt')\n",
    "            else:\n",
    "                stop_counts += 1\n",
    "           \n",
    "        if files == []:\n",
    "            pred_model = MoaModel(init_num, len(non_target_feats)+len(target_feats))\n",
    "            pred_model.load_state_dict(torch.load('parameters'+str(fold+1)+'.pt'))\n",
    "            if fold == 4:\n",
    "                ans.append('parameters.pt')\n",
    "        else:\n",
    "            pred_model = MoaModel(init_num, len(target_feats))\n",
    "            pred_model.load_state_dict(torch.load('best-model-parameters.pt'))         \n",
    "        pred_model.eval()\n",
    "        \n",
    "        # validation check ----------------\n",
    "        oof_epoch = np.zeros([X_valid2.size(0), y_train.shape[1]])\n",
    "        target_epoch = np.zeros([X_valid2.size(0), y_train.shape[1]])\n",
    "        for i, (x_batch, y_batch) in enumerate(valid_loader): \n",
    "                y_pred = pred_model(x_batch).detach()\n",
    "                oof_epoch[i * batch_size:(i+1) * batch_size,:] = torch.clamp(torch.sigmoid(y_pred.cpu()), p_min, p_max)\n",
    "                target_epoch[i * batch_size:(i+1) * batch_size,:] = y_batch.cpu().numpy()\n",
    "        print(\"Fold {} log loss: {}\".format(fold+1, mean_log_loss(target_epoch, oof_epoch)))\n",
    "        scores.append(mean_log_loss(target_epoch, oof_epoch))\n",
    "        oof[valid_index,:] = oof_epoch\n",
    "        oof_targets[valid_index,:] = target_epoch\n",
    "        #-----------------------------------\n",
    "        \n",
    "        if files != []:\n",
    "            # test predcition --------------\n",
    "            test_preds = np.zeros([test_len, y_train.shape[1]])\n",
    "            for i, (x_batch,) in enumerate(test_loader): \n",
    "                y_pred = pred_model(x_batch).detach()\n",
    "                test_preds[i * batch_size:(i+1) * batch_size, :] = torch.clamp(torch.sigmoid(y_pred.cpu()), p_min, p_max)\n",
    "            pred_value += test_preds / n_folds\n",
    "            # ------------------------------\n",
    "        \n",
    "    print(\"Seed {}\".format(sample_seed))\n",
    "    for i, ele in enumerate(scores):\n",
    "        print(\"Fold {} log loss: {}\".format(i+1, scores[i]))\n",
    "    print(\"Std of log loss: {}\".format(np.std(scores)))\n",
    "    print(\"Total log loss: {}\".format(mean_log_loss(oof_targets, oof)))\n",
    "    \n",
    "    if files != []:\n",
    "        return oof, oof_targets, pred_value\n",
    "    else:\n",
    "        return ans"
   ]
  },
  {
   "cell_type": "code",
   "execution_count": 18,
   "metadata": {
    "execution": {
     "iopub.execute_input": "2020-11-02T14:19:31.222074Z",
     "iopub.status.busy": "2020-11-02T14:19:31.220770Z",
     "iopub.status.idle": "2020-11-02T14:20:44.330775Z",
     "shell.execute_reply": "2020-11-02T14:20:44.331412Z"
    },
    "papermill": {
     "duration": 73.140722,
     "end_time": "2020-11-02T14:20:44.331586",
     "exception": false,
     "start_time": "2020-11-02T14:19:31.190864",
     "status": "completed"
    },
    "tags": []
   },
   "outputs": [
    {
     "name": "stdout",
     "output_type": "stream",
     "text": [
      "Fold 1\n",
      "Best: Epoch 1 \t loss=0.28681 \t val_loss=0.01191 \t sm_loss=0.28679 \t sm_val_loss=0.01189 \t time=1.47s\n",
      "Best: Epoch 2 \t loss=0.01107 \t val_loss=0.01091 \t sm_loss=0.01110 \t sm_val_loss=0.01086 \t time=0.91s\n",
      "Best: Epoch 3 \t loss=0.01058 \t val_loss=0.01026 \t sm_loss=0.01068 \t sm_val_loss=0.01041 \t time=0.90s\n",
      "Best: Epoch 5 \t loss=0.01020 \t val_loss=0.01014 \t sm_loss=0.01036 \t sm_val_loss=0.01032 \t time=1.14s\n",
      "Best: Epoch 6 \t loss=0.01007 \t val_loss=0.01001 \t sm_loss=0.01024 \t sm_val_loss=0.01020 \t time=0.90s\n",
      "Best: Epoch 7 \t loss=0.00994 \t val_loss=0.00985 \t sm_loss=0.01011 \t sm_val_loss=0.01004 \t time=0.93s\n",
      "Best: Epoch 8 \t loss=0.00973 \t val_loss=0.00966 \t sm_loss=0.00991 \t sm_val_loss=0.00985 \t time=0.91s\n",
      "Best: Epoch 9 \t loss=0.00944 \t val_loss=0.00950 \t sm_loss=0.00963 \t sm_val_loss=0.00969 \t time=0.93s\n",
      "Best: Epoch 10 \t loss=0.00920 \t val_loss=0.00945 \t sm_loss=0.00941 \t sm_val_loss=0.00964 \t time=0.90s\n",
      "Fold 1 log loss: 0.01662170138916034\n",
      "Fold 2\n",
      "Best: Epoch 1 \t loss=0.28617 \t val_loss=0.01215 \t sm_loss=0.28614 \t sm_val_loss=0.01215 \t time=0.90s\n",
      "Best: Epoch 2 \t loss=0.01128 \t val_loss=0.01057 \t sm_loss=0.01128 \t sm_val_loss=0.01067 \t time=0.91s\n",
      "Best: Epoch 3 \t loss=0.01043 \t val_loss=0.01032 \t sm_loss=0.01055 \t sm_val_loss=0.01049 \t time=0.90s\n",
      "Best: Epoch 4 \t loss=0.01047 \t val_loss=0.01013 \t sm_loss=0.01060 \t sm_val_loss=0.01032 \t time=0.96s\n",
      "Best: Epoch 5 \t loss=0.01023 \t val_loss=0.00999 \t sm_loss=0.01039 \t sm_val_loss=0.01018 \t time=1.21s\n",
      "Best: Epoch 6 \t loss=0.01009 \t val_loss=0.00991 \t sm_loss=0.01026 \t sm_val_loss=0.01010 \t time=0.95s\n",
      "Best: Epoch 7 \t loss=0.00992 \t val_loss=0.00978 \t sm_loss=0.01009 \t sm_val_loss=0.00996 \t time=0.93s\n",
      "Best: Epoch 8 \t loss=0.00973 \t val_loss=0.00958 \t sm_loss=0.00991 \t sm_val_loss=0.00977 \t time=0.92s\n",
      "Best: Epoch 9 \t loss=0.00947 \t val_loss=0.00942 \t sm_loss=0.00966 \t sm_val_loss=0.00962 \t time=0.91s\n",
      "Best: Epoch 10 \t loss=0.00922 \t val_loss=0.00939 \t sm_loss=0.00944 \t sm_val_loss=0.00959 \t time=0.90s\n",
      "Fold 2 log loss: 0.0165247633721942\n",
      "Fold 3\n",
      "Best: Epoch 1 \t loss=0.28672 \t val_loss=0.01180 \t sm_loss=0.28670 \t sm_val_loss=0.01180 \t time=1.19s\n",
      "Best: Epoch 2 \t loss=0.01122 \t val_loss=0.01044 \t sm_loss=0.01123 \t sm_val_loss=0.01057 \t time=0.88s\n",
      "Best: Epoch 3 \t loss=0.01051 \t val_loss=0.01034 \t sm_loss=0.01064 \t sm_val_loss=0.01050 \t time=0.90s\n",
      "Best: Epoch 4 \t loss=0.01027 \t val_loss=0.01017 \t sm_loss=0.01042 \t sm_val_loss=0.01034 \t time=1.13s\n",
      "Best: Epoch 5 \t loss=0.01019 \t val_loss=0.01012 \t sm_loss=0.01034 \t sm_val_loss=0.01030 \t time=0.91s\n",
      "Best: Epoch 6 \t loss=0.01009 \t val_loss=0.00995 \t sm_loss=0.01025 \t sm_val_loss=0.01012 \t time=1.07s\n",
      "Best: Epoch 7 \t loss=0.00992 \t val_loss=0.00981 \t sm_loss=0.01008 \t sm_val_loss=0.00998 \t time=1.11s\n",
      "Best: Epoch 8 \t loss=0.00971 \t val_loss=0.00961 \t sm_loss=0.00989 \t sm_val_loss=0.00981 \t time=0.90s\n",
      "Best: Epoch 9 \t loss=0.00943 \t val_loss=0.00946 \t sm_loss=0.00962 \t sm_val_loss=0.00966 \t time=0.94s\n",
      "Best: Epoch 10 \t loss=0.00919 \t val_loss=0.00940 \t sm_loss=0.00939 \t sm_val_loss=0.00960 \t time=1.21s\n",
      "Fold 3 log loss: 0.016521083941555933\n",
      "Fold 4\n",
      "Best: Epoch 1 \t loss=0.28665 \t val_loss=0.01182 \t sm_loss=0.28664 \t sm_val_loss=0.01181 \t time=0.93s\n",
      "Best: Epoch 2 \t loss=0.01112 \t val_loss=0.01070 \t sm_loss=0.01114 \t sm_val_loss=0.01078 \t time=0.89s\n",
      "Best: Epoch 3 \t loss=0.01044 \t val_loss=0.01028 \t sm_loss=0.01056 \t sm_val_loss=0.01045 \t time=0.93s\n",
      "Best: Epoch 4 \t loss=0.01023 \t val_loss=0.01027 \t sm_loss=0.01039 \t sm_val_loss=0.01043 \t time=1.18s\n",
      "Best: Epoch 5 \t loss=0.01018 \t val_loss=0.01008 \t sm_loss=0.01034 \t sm_val_loss=0.01026 \t time=0.90s\n",
      "Best: Epoch 6 \t loss=0.01008 \t val_loss=0.00995 \t sm_loss=0.01024 \t sm_val_loss=0.01013 \t time=0.90s\n",
      "Best: Epoch 7 \t loss=0.00994 \t val_loss=0.00988 \t sm_loss=0.01010 \t sm_val_loss=0.01006 \t time=0.91s\n",
      "Best: Epoch 8 \t loss=0.00971 \t val_loss=0.00971 \t sm_loss=0.00989 \t sm_val_loss=0.00988 \t time=0.89s\n",
      "Best: Epoch 9 \t loss=0.00944 \t val_loss=0.00954 \t sm_loss=0.00964 \t sm_val_loss=0.00973 \t time=0.91s\n",
      "Best: Epoch 10 \t loss=0.00922 \t val_loss=0.00950 \t sm_loss=0.00943 \t sm_val_loss=0.00970 \t time=0.90s\n",
      "Fold 4 log loss: 0.01664419558550897\n",
      "Fold 5\n",
      "Best: Epoch 1 \t loss=0.28605 \t val_loss=0.01218 \t sm_loss=0.28602 \t sm_val_loss=0.01217 \t time=0.87s\n",
      "Best: Epoch 2 \t loss=0.01166 \t val_loss=0.01114 \t sm_loss=0.01163 \t sm_val_loss=0.01122 \t time=0.91s\n",
      "Best: Epoch 3 \t loss=0.01062 \t val_loss=0.01029 \t sm_loss=0.01075 \t sm_val_loss=0.01046 \t time=1.15s\n",
      "Best: Epoch 4 \t loss=0.01032 \t val_loss=0.01020 \t sm_loss=0.01048 \t sm_val_loss=0.01038 \t time=0.92s\n",
      "Best: Epoch 6 \t loss=0.01007 \t val_loss=0.00996 \t sm_loss=0.01024 \t sm_val_loss=0.01014 \t time=0.87s\n",
      "Best: Epoch 7 \t loss=0.00990 \t val_loss=0.00985 \t sm_loss=0.01007 \t sm_val_loss=0.01003 \t time=0.89s\n",
      "Best: Epoch 8 \t loss=0.00967 \t val_loss=0.00960 \t sm_loss=0.00985 \t sm_val_loss=0.00979 \t time=0.91s\n",
      "Best: Epoch 9 \t loss=0.00938 \t val_loss=0.00942 \t sm_loss=0.00958 \t sm_val_loss=0.00962 \t time=0.96s\n",
      "Best: Epoch 10 \t loss=0.00911 \t val_loss=0.00941 \t sm_loss=0.00933 \t sm_val_loss=0.00960 \t time=1.23s\n",
      "Fold 5 log loss: 0.01649330410221096\n",
      "Seed 0\n",
      "Fold 1 log loss: 0.01662170138916034\n",
      "Fold 2 log loss: 0.0165247633721942\n",
      "Fold 3 log loss: 0.016521083941555933\n",
      "Fold 4 log loss: 0.01664419558550897\n",
      "Fold 5 log loss: 0.01649330410221096\n",
      "Std of log loss: 6.0158595594903e-05\n",
      "Total log loss: 0.016561008564338713\n",
      "1\n",
      "Fold 1\n"
     ]
    },
    {
     "ename": "FileNotFoundError",
     "evalue": "[Errno 2] No such file or directory: 'parameters.pt'",
     "output_type": "error",
     "traceback": [
      "\u001b[0;31m---------------------------------------------------------------------------\u001b[0m",
      "\u001b[0;31mFileNotFoundError\u001b[0m                         Traceback (most recent call last)",
      "\u001b[0;32m<ipython-input-18-02aadd0a5ff0>\u001b[0m in \u001b[0;36m<module>\u001b[0;34m\u001b[0m\n\u001b[1;32m      6\u001b[0m \u001b[0;34m\u001b[0m\u001b[0m\n\u001b[1;32m      7\u001b[0m \u001b[0;32mfor\u001b[0m \u001b[0mseed_\u001b[0m \u001b[0;32min\u001b[0m \u001b[0mseeds\u001b[0m\u001b[0;34m:\u001b[0m\u001b[0;34m\u001b[0m\u001b[0;34m\u001b[0m\u001b[0m\n\u001b[0;32m----> 8\u001b[0;31m     \u001b[0moof\u001b[0m\u001b[0;34m,\u001b[0m \u001b[0moof_targets\u001b[0m\u001b[0;34m,\u001b[0m \u001b[0mpytorch_pred\u001b[0m \u001b[0;34m=\u001b[0m \u001b[0mtorch_tl\u001b[0m\u001b[0;34m(\u001b[0m\u001b[0mfn_train\u001b[0m\u001b[0;34m,\u001b[0m \u001b[0mfn_targets\u001b[0m\u001b[0;34m,\u001b[0m \u001b[0mfn_test\u001b[0m\u001b[0;34m,\u001b[0m \u001b[0mseed_\u001b[0m\u001b[0;34m,\u001b[0m \u001b[0mfn_train\u001b[0m\u001b[0;34m.\u001b[0m\u001b[0mshape\u001b[0m\u001b[0;34m[\u001b[0m\u001b[0;36m1\u001b[0m\u001b[0;34m]\u001b[0m\u001b[0;34m,\u001b[0m \u001b[0mfiles\u001b[0m\u001b[0;34m)\u001b[0m\u001b[0;34m\u001b[0m\u001b[0;34m\u001b[0m\u001b[0m\n\u001b[0m\u001b[1;32m      9\u001b[0m     \u001b[0mtarget_oof\u001b[0m \u001b[0;34m+=\u001b[0m \u001b[0moof\u001b[0m \u001b[0;34m/\u001b[0m \u001b[0mlen\u001b[0m\u001b[0;34m(\u001b[0m\u001b[0mseeds\u001b[0m\u001b[0;34m)\u001b[0m\u001b[0;34m\u001b[0m\u001b[0;34m\u001b[0m\u001b[0m\n\u001b[1;32m     10\u001b[0m     \u001b[0mtarget_pred\u001b[0m \u001b[0;34m+=\u001b[0m \u001b[0mpytorch_pred\u001b[0m \u001b[0;34m/\u001b[0m \u001b[0mlen\u001b[0m\u001b[0;34m(\u001b[0m\u001b[0mseeds\u001b[0m\u001b[0;34m)\u001b[0m\u001b[0;34m\u001b[0m\u001b[0;34m\u001b[0m\u001b[0m\n",
      "\u001b[0;32m<ipython-input-17-a2d578585731>\u001b[0m in \u001b[0;36mtorch_tl\u001b[0;34m(tr, target, te, sample_seed, init_num, files)\u001b[0m\n\u001b[1;32m     50\u001b[0m         \u001b[0mloss_fn\u001b[0m \u001b[0;34m=\u001b[0m \u001b[0mSmoothCrossEntropyLoss\u001b[0m\u001b[0;34m(\u001b[0m\u001b[0msmoothing\u001b[0m\u001b[0;34m=\u001b[0m\u001b[0msmoothing\u001b[0m\u001b[0;34m)\u001b[0m\u001b[0;34m\u001b[0m\u001b[0;34m\u001b[0m\u001b[0m\n\u001b[1;32m     51\u001b[0m         \u001b[0;32mif\u001b[0m \u001b[0mfiles\u001b[0m \u001b[0;34m!=\u001b[0m \u001b[0;34m[\u001b[0m\u001b[0;34m]\u001b[0m\u001b[0;34m:\u001b[0m\u001b[0;34m\u001b[0m\u001b[0;34m\u001b[0m\u001b[0m\n\u001b[0;32m---> 52\u001b[0;31m             \u001b[0mclf\u001b[0m\u001b[0;34m.\u001b[0m\u001b[0mload_state_dict\u001b[0m\u001b[0;34m(\u001b[0m\u001b[0mtorch\u001b[0m\u001b[0;34m.\u001b[0m\u001b[0mload\u001b[0m\u001b[0;34m(\u001b[0m\u001b[0mfiles\u001b[0m\u001b[0;34m[\u001b[0m\u001b[0;36m0\u001b[0m\u001b[0;34m]\u001b[0m\u001b[0;34m)\u001b[0m\u001b[0;34m)\u001b[0m\u001b[0;34m\u001b[0m\u001b[0;34m\u001b[0m\u001b[0m\n\u001b[0m\u001b[1;32m     53\u001b[0m             \u001b[0;32mfor\u001b[0m \u001b[0mparam\u001b[0m \u001b[0;32min\u001b[0m \u001b[0mclf\u001b[0m\u001b[0;34m.\u001b[0m\u001b[0mparameters\u001b[0m\u001b[0;34m(\u001b[0m\u001b[0;34m)\u001b[0m\u001b[0;34m:\u001b[0m\u001b[0;34m\u001b[0m\u001b[0;34m\u001b[0m\u001b[0m\n\u001b[1;32m     54\u001b[0m                 \u001b[0mparam\u001b[0m\u001b[0;34m.\u001b[0m\u001b[0mrequires_grad\u001b[0m \u001b[0;34m=\u001b[0m \u001b[0;32mFalse\u001b[0m\u001b[0;34m\u001b[0m\u001b[0;34m\u001b[0m\u001b[0m\n",
      "\u001b[0;32m/opt/conda/lib/python3.7/site-packages/torch/serialization.py\u001b[0m in \u001b[0;36mload\u001b[0;34m(f, map_location, pickle_module, **pickle_load_args)\u001b[0m\n\u001b[1;32m    569\u001b[0m         \u001b[0mpickle_load_args\u001b[0m\u001b[0;34m[\u001b[0m\u001b[0;34m'encoding'\u001b[0m\u001b[0;34m]\u001b[0m \u001b[0;34m=\u001b[0m \u001b[0;34m'utf-8'\u001b[0m\u001b[0;34m\u001b[0m\u001b[0;34m\u001b[0m\u001b[0m\n\u001b[1;32m    570\u001b[0m \u001b[0;34m\u001b[0m\u001b[0m\n\u001b[0;32m--> 571\u001b[0;31m     \u001b[0;32mwith\u001b[0m \u001b[0m_open_file_like\u001b[0m\u001b[0;34m(\u001b[0m\u001b[0mf\u001b[0m\u001b[0;34m,\u001b[0m \u001b[0;34m'rb'\u001b[0m\u001b[0;34m)\u001b[0m \u001b[0;32mas\u001b[0m \u001b[0mopened_file\u001b[0m\u001b[0;34m:\u001b[0m\u001b[0;34m\u001b[0m\u001b[0;34m\u001b[0m\u001b[0m\n\u001b[0m\u001b[1;32m    572\u001b[0m         \u001b[0;32mif\u001b[0m \u001b[0m_is_zipfile\u001b[0m\u001b[0;34m(\u001b[0m\u001b[0mopened_file\u001b[0m\u001b[0;34m)\u001b[0m\u001b[0;34m:\u001b[0m\u001b[0;34m\u001b[0m\u001b[0;34m\u001b[0m\u001b[0m\n\u001b[1;32m    573\u001b[0m             \u001b[0;31m# The zipfile reader is going to advance the current file position.\u001b[0m\u001b[0;34m\u001b[0m\u001b[0;34m\u001b[0m\u001b[0;34m\u001b[0m\u001b[0m\n",
      "\u001b[0;32m/opt/conda/lib/python3.7/site-packages/torch/serialization.py\u001b[0m in \u001b[0;36m_open_file_like\u001b[0;34m(name_or_buffer, mode)\u001b[0m\n\u001b[1;32m    227\u001b[0m \u001b[0;32mdef\u001b[0m \u001b[0m_open_file_like\u001b[0m\u001b[0;34m(\u001b[0m\u001b[0mname_or_buffer\u001b[0m\u001b[0;34m,\u001b[0m \u001b[0mmode\u001b[0m\u001b[0;34m)\u001b[0m\u001b[0;34m:\u001b[0m\u001b[0;34m\u001b[0m\u001b[0;34m\u001b[0m\u001b[0m\n\u001b[1;32m    228\u001b[0m     \u001b[0;32mif\u001b[0m \u001b[0m_is_path\u001b[0m\u001b[0;34m(\u001b[0m\u001b[0mname_or_buffer\u001b[0m\u001b[0;34m)\u001b[0m\u001b[0;34m:\u001b[0m\u001b[0;34m\u001b[0m\u001b[0;34m\u001b[0m\u001b[0m\n\u001b[0;32m--> 229\u001b[0;31m         \u001b[0;32mreturn\u001b[0m \u001b[0m_open_file\u001b[0m\u001b[0;34m(\u001b[0m\u001b[0mname_or_buffer\u001b[0m\u001b[0;34m,\u001b[0m \u001b[0mmode\u001b[0m\u001b[0;34m)\u001b[0m\u001b[0;34m\u001b[0m\u001b[0;34m\u001b[0m\u001b[0m\n\u001b[0m\u001b[1;32m    230\u001b[0m     \u001b[0;32melse\u001b[0m\u001b[0;34m:\u001b[0m\u001b[0;34m\u001b[0m\u001b[0;34m\u001b[0m\u001b[0m\n\u001b[1;32m    231\u001b[0m         \u001b[0;32mif\u001b[0m \u001b[0;34m'w'\u001b[0m \u001b[0;32min\u001b[0m \u001b[0mmode\u001b[0m\u001b[0;34m:\u001b[0m\u001b[0;34m\u001b[0m\u001b[0;34m\u001b[0m\u001b[0m\n",
      "\u001b[0;32m/opt/conda/lib/python3.7/site-packages/torch/serialization.py\u001b[0m in \u001b[0;36m__init__\u001b[0;34m(self, name, mode)\u001b[0m\n\u001b[1;32m    208\u001b[0m \u001b[0;32mclass\u001b[0m \u001b[0m_open_file\u001b[0m\u001b[0;34m(\u001b[0m\u001b[0m_opener\u001b[0m\u001b[0;34m)\u001b[0m\u001b[0;34m:\u001b[0m\u001b[0;34m\u001b[0m\u001b[0;34m\u001b[0m\u001b[0m\n\u001b[1;32m    209\u001b[0m     \u001b[0;32mdef\u001b[0m \u001b[0m__init__\u001b[0m\u001b[0;34m(\u001b[0m\u001b[0mself\u001b[0m\u001b[0;34m,\u001b[0m \u001b[0mname\u001b[0m\u001b[0;34m,\u001b[0m \u001b[0mmode\u001b[0m\u001b[0;34m)\u001b[0m\u001b[0;34m:\u001b[0m\u001b[0;34m\u001b[0m\u001b[0;34m\u001b[0m\u001b[0m\n\u001b[0;32m--> 210\u001b[0;31m         \u001b[0msuper\u001b[0m\u001b[0;34m(\u001b[0m\u001b[0m_open_file\u001b[0m\u001b[0;34m,\u001b[0m \u001b[0mself\u001b[0m\u001b[0;34m)\u001b[0m\u001b[0;34m.\u001b[0m\u001b[0m__init__\u001b[0m\u001b[0;34m(\u001b[0m\u001b[0mopen\u001b[0m\u001b[0;34m(\u001b[0m\u001b[0mname\u001b[0m\u001b[0;34m,\u001b[0m \u001b[0mmode\u001b[0m\u001b[0;34m)\u001b[0m\u001b[0;34m)\u001b[0m\u001b[0;34m\u001b[0m\u001b[0;34m\u001b[0m\u001b[0m\n\u001b[0m\u001b[1;32m    211\u001b[0m \u001b[0;34m\u001b[0m\u001b[0m\n\u001b[1;32m    212\u001b[0m     \u001b[0;32mdef\u001b[0m \u001b[0m__exit__\u001b[0m\u001b[0;34m(\u001b[0m\u001b[0mself\u001b[0m\u001b[0;34m,\u001b[0m \u001b[0;34m*\u001b[0m\u001b[0margs\u001b[0m\u001b[0;34m)\u001b[0m\u001b[0;34m:\u001b[0m\u001b[0;34m\u001b[0m\u001b[0;34m\u001b[0m\u001b[0m\n",
      "\u001b[0;31mFileNotFoundError\u001b[0m: [Errno 2] No such file or directory: 'parameters.pt'"
     ]
    }
   ],
   "source": [
    "files = torch_tl(fn_train, fn_all_targets, fn_test, 0, fn_train.shape[1], [])\n",
    "print(len(files))\n",
    "seeds = [0,1,2,3] \n",
    "target_oof = np.zeros([len(fn_train),fn_targets.shape[1]])\n",
    "target_pred = np.zeros([len(fn_test),fn_targets.shape[1]])\n",
    "    \n",
    "for seed_ in seeds:\n",
    "    oof, oof_targets, pytorch_pred = torch_tl(fn_train, fn_targets, fn_test, seed_, fn_train.shape[1], files)\n",
    "    target_oof += oof / len(seeds)\n",
    "    target_pred += pytorch_pred / len(seeds)\n",
    "\n",
    "print(\"Total log loss in targets: {}\".format(mean_log_loss(oof_targets, target_oof)))"
   ]
  },
  {
   "cell_type": "code",
   "execution_count": 19,
   "metadata": {
    "execution": {
     "iopub.execute_input": "2020-11-02T14:20:44.427718Z",
     "iopub.status.busy": "2020-11-02T14:20:44.426733Z",
     "iopub.status.idle": "2020-11-02T14:20:45.244391Z",
     "shell.execute_reply": "2020-11-02T14:20:45.244905Z"
    },
    "papermill": {
     "duration": 0.86852,
     "end_time": "2020-11-02T14:20:45.245080",
     "exception": false,
     "start_time": "2020-11-02T14:20:44.376560",
     "status": "completed"
    },
    "tags": []
   },
   "outputs": [
    {
     "name": "stdout",
     "output_type": "stream",
     "text": [
      "Overall AUC : 0.5\n"
     ]
    }
   ],
   "source": [
    "aucs = []\n",
    "for task_id in range(targets.shape[1]-1):\n",
    "    aucs.append(roc_auc_score(y_true=targets.iloc[:, task_id+1].values,\n",
    "                              y_score=target_oof[:, task_id]))\n",
    "print(f\"Overall AUC : {np.mean(aucs)}\")"
   ]
  },
  {
   "cell_type": "code",
   "execution_count": 20,
   "metadata": {
    "execution": {
     "iopub.execute_input": "2020-11-02T14:20:45.344967Z",
     "iopub.status.busy": "2020-11-02T14:20:45.343935Z",
     "iopub.status.idle": "2020-11-02T14:20:51.454799Z",
     "shell.execute_reply": "2020-11-02T14:20:51.455420Z"
    },
    "papermill": {
     "duration": 6.164968,
     "end_time": "2020-11-02T14:20:51.455589",
     "exception": false,
     "start_time": "2020-11-02T14:20:45.290621",
     "status": "completed"
    },
    "tags": []
   },
   "outputs": [
    {
     "name": "stdout",
     "output_type": "stream",
     "text": [
      "OOF log loss:  0.11859124020134244\n"
     ]
    }
   ],
   "source": [
    "t = pd.read_csv(DATA_DIR + 'train_targets_scored.csv')\n",
    "train_checkscore = t.copy()\n",
    "train_checkscore.loc[train_checkscore.index.isin(cons_train_index),target_feats] = target_oof\n",
    "train_checkscore.loc[train_checkscore.index.isin(noncons_train_index),target_feats] = 0\n",
    "t.drop(\"sig_id\", axis=1, inplace=True)\n",
    "print('OOF log loss: ', log_loss(np.ravel(t), np.ravel(np.array(train_checkscore.iloc[:,1:]))))"
   ]
  },
  {
   "cell_type": "code",
   "execution_count": 21,
   "metadata": {
    "execution": {
     "iopub.execute_input": "2020-11-02T14:20:51.577161Z",
     "iopub.status.busy": "2020-11-02T14:20:51.575835Z",
     "iopub.status.idle": "2020-11-02T14:20:53.133947Z",
     "shell.execute_reply": "2020-11-02T14:20:53.132729Z"
    },
    "papermill": {
     "duration": 1.613904,
     "end_time": "2020-11-02T14:20:53.134064",
     "exception": false,
     "start_time": "2020-11-02T14:20:51.520160",
     "status": "completed"
    },
    "tags": []
   },
   "outputs": [],
   "source": [
    "sub.loc[cons_test_index,target_feats] = target_pred\n",
    "sub.loc[noncons_test_index,target_feats] = 0\n",
    "sub.to_csv('submission.csv', index=False)"
   ]
  }
 ],
 "metadata": {
  "kernelspec": {
   "display_name": "Python 3",
   "language": "python",
   "name": "python3"
  },
  "language_info": {
   "codemirror_mode": {
    "name": "ipython",
    "version": 3
   },
   "file_extension": ".py",
   "mimetype": "text/x-python",
   "name": "python",
   "nbconvert_exporter": "python",
   "pygments_lexer": "ipython3",
   "version": "3.7.6"
  },
  "papermill": {
   "duration": 119.467291,
   "end_time": "2020-11-02T14:20:53.795026",
   "environment_variables": {},
   "exception": null,
   "input_path": "__notebook__.ipynb",
   "output_path": "__notebook__.ipynb",
   "parameters": {},
   "start_time": "2020-11-02T14:18:54.327735",
   "version": "2.1.0"
  }
 },
 "nbformat": 4,
 "nbformat_minor": 4
}
