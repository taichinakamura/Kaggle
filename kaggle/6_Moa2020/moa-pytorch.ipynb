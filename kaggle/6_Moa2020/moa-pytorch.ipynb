{
 "cells": [
  {
   "cell_type": "markdown",
   "metadata": {
    "papermill": {
     "duration": 0.010032,
     "end_time": "2020-10-04T03:36:26.855745",
     "exception": false,
     "start_time": "2020-10-04T03:36:26.845713",
     "status": "completed"
    },
    "tags": []
   },
   "source": [
    "- make ensemble by different seeds\n",
    "- remove non cons training example\n",
    "- change model architecture"
   ]
  },
  {
   "cell_type": "code",
   "execution_count": 1,
   "metadata": {
    "_cell_guid": "b1076dfc-b9ad-4769-8c92-a6c4dae69d19",
    "_uuid": "8f2839f25d086af736a60e9eeb907d3b93b6e0e5",
    "execution": {
     "iopub.execute_input": "2020-10-04T03:36:26.882503Z",
     "iopub.status.busy": "2020-10-04T03:36:26.881753Z",
     "iopub.status.idle": "2020-10-04T03:36:34.294878Z",
     "shell.execute_reply": "2020-10-04T03:36:34.294241Z"
    },
    "papermill": {
     "duration": 7.429874,
     "end_time": "2020-10-04T03:36:34.295015",
     "exception": false,
     "start_time": "2020-10-04T03:36:26.865141",
     "status": "completed"
    },
    "tags": []
   },
   "outputs": [],
   "source": [
    "import os\n",
    "import sys\n",
    "import random\n",
    "import warnings\n",
    "import numpy as np\n",
    "import pandas as pd \n",
    "import matplotlib.pyplot as plt\n",
    "from category_encoders import CountEncoder\n",
    "from sklearn.pipeline import Pipeline\n",
    "from sklearn.metrics import log_loss\n",
    "from sklearn import preprocessing\n",
    "from tqdm import tqdm_notebook as tqdm\n",
    "from sklearn.multioutput import MultiOutputClassifier\n",
    "\n",
    "sys.path.append('../input/multilabelstraifier/')\n",
    "from ml_stratifiers import MultilabelStratifiedKFold\n",
    "warnings.filterwarnings('ignore')\n",
    "\n",
    "import time\n",
    "import torch\n",
    "import torch.nn as nn\n",
    "import torch.optim as optim\n",
    "import torch.nn.functional as F\n",
    "import tensorflow as tf"
   ]
  },
  {
   "cell_type": "code",
   "execution_count": 2,
   "metadata": {
    "execution": {
     "iopub.execute_input": "2020-10-04T03:36:34.323744Z",
     "iopub.status.busy": "2020-10-04T03:36:34.322736Z",
     "iopub.status.idle": "2020-10-04T03:36:39.171221Z",
     "shell.execute_reply": "2020-10-04T03:36:39.170065Z"
    },
    "papermill": {
     "duration": 4.86648,
     "end_time": "2020-10-04T03:36:39.171342",
     "exception": false,
     "start_time": "2020-10-04T03:36:34.304862",
     "status": "completed"
    },
    "tags": []
   },
   "outputs": [],
   "source": [
    "DATA_DIR = '/kaggle/input/lish-moa/'\n",
    "train = pd.read_csv(DATA_DIR + 'train_features.csv')\n",
    "targets = pd.read_csv(DATA_DIR + 'train_targets_scored.csv')\n",
    "#non_targets = pd.read_csv(DATA_DIR + 'train_targets_scored.csv')\n",
    "test = pd.read_csv(DATA_DIR + 'test_features.csv')\n",
    "sub = pd.read_csv(DATA_DIR + 'sample_submission.csv')"
   ]
  },
  {
   "cell_type": "code",
   "execution_count": 3,
   "metadata": {
    "execution": {
     "iopub.execute_input": "2020-10-04T03:36:39.196473Z",
     "iopub.status.busy": "2020-10-04T03:36:39.195848Z",
     "iopub.status.idle": "2020-10-04T03:36:39.200066Z",
     "shell.execute_reply": "2020-10-04T03:36:39.199459Z"
    },
    "papermill": {
     "duration": 0.019031,
     "end_time": "2020-10-04T03:36:39.200173",
     "exception": false,
     "start_time": "2020-10-04T03:36:39.181142",
     "status": "completed"
    },
    "tags": []
   },
   "outputs": [],
   "source": [
    "target_feats = [ i for i in targets.columns if i != \"sig_id\"]\n",
    "g_feats = [i for i in train.columns if \"g-\" in i]\n",
    "c_feats = [i for i in train.columns if \"c-\" in i]"
   ]
  },
  {
   "cell_type": "code",
   "execution_count": 4,
   "metadata": {
    "execution": {
     "iopub.execute_input": "2020-10-04T03:36:39.230732Z",
     "iopub.status.busy": "2020-10-04T03:36:39.226553Z",
     "iopub.status.idle": "2020-10-04T03:36:39.324195Z",
     "shell.execute_reply": "2020-10-04T03:36:39.325389Z"
    },
    "papermill": {
     "duration": 0.115737,
     "end_time": "2020-10-04T03:36:39.325607",
     "exception": false,
     "start_time": "2020-10-04T03:36:39.209870",
     "status": "completed"
    },
    "tags": []
   },
   "outputs": [],
   "source": [
    "noncons_train_index = train[train.cp_type==\"ctl_vehicle\"].index\n",
    "cons_train_index = train[train.cp_type!=\"ctl_vehicle\"].index\n",
    "noncons_test_index = test[test.cp_type==\"ctl_vehicle\"].index\n",
    "cons_test_index = test[test.cp_type!=\"ctl_vehicle\"].index"
   ]
  },
  {
   "cell_type": "markdown",
   "metadata": {
    "papermill": {
     "duration": 0.010308,
     "end_time": "2020-10-04T03:36:39.348228",
     "exception": false,
     "start_time": "2020-10-04T03:36:39.337920",
     "status": "completed"
    },
    "tags": []
   },
   "source": [
    "# preprocess"
   ]
  },
  {
   "cell_type": "code",
   "execution_count": 5,
   "metadata": {
    "execution": {
     "iopub.execute_input": "2020-10-04T03:36:39.379654Z",
     "iopub.status.busy": "2020-10-04T03:36:39.378711Z",
     "iopub.status.idle": "2020-10-04T03:36:41.418444Z",
     "shell.execute_reply": "2020-10-04T03:36:41.417898Z"
    },
    "papermill": {
     "duration": 2.060633,
     "end_time": "2020-10-04T03:36:41.418562",
     "exception": false,
     "start_time": "2020-10-04T03:36:39.357929",
     "status": "completed"
    },
    "tags": []
   },
   "outputs": [],
   "source": [
    "# normalization by ctl group\n",
    "train_ctl = train[train.index.isin(noncons_train_index)].copy().reset_index(drop=True)\n",
    "test_ctl = test[test.index.isin(noncons_test_index)].copy().reset_index(drop=True)\n",
    "ctl_df = pd.concat([train_ctl, test_ctl])\n",
    "\n",
    "ctl_group_data = ctl_df.groupby([\"cp_dose\", \"cp_time\"]).agg({\"mean\"}).reset_index()\n",
    "mean_g_feats = [\"mean-\" + i for i in g_feats]\n",
    "mean_c_feats = [\"mean-\" + i for i in c_feats]\n",
    "columns = [\"cp_dose\", \"cp_time\"] + mean_g_feats + mean_c_feats\n",
    "ctl_group_data.columns = columns\n",
    "\n",
    "train = train[train.index.isin(cons_train_index)].copy().reset_index(drop=True)\n",
    "targets = targets[targets.index.isin(cons_train_index)].copy().reset_index(drop=True)\n",
    "#non_targets = non_targets[non_targets.index.isin(cons_train_index)].copy().reset_index(drop=True)"
   ]
  },
  {
   "cell_type": "markdown",
   "metadata": {
    "papermill": {
     "duration": 0.011232,
     "end_time": "2020-10-04T03:36:41.440134",
     "exception": false,
     "start_time": "2020-10-04T03:36:41.428902",
     "status": "completed"
    },
    "tags": []
   },
   "source": [
    "# Feature engineering "
   ]
  },
  {
   "cell_type": "code",
   "execution_count": 6,
   "metadata": {
    "execution": {
     "iopub.execute_input": "2020-10-04T03:36:41.474107Z",
     "iopub.status.busy": "2020-10-04T03:36:41.473098Z",
     "iopub.status.idle": "2020-10-04T03:36:46.687122Z",
     "shell.execute_reply": "2020-10-04T03:36:46.687802Z"
    },
    "papermill": {
     "duration": 5.237816,
     "end_time": "2020-10-04T03:36:46.687979",
     "exception": false,
     "start_time": "2020-10-04T03:36:41.450163",
     "status": "completed"
    },
    "tags": []
   },
   "outputs": [
    {
     "name": "stdout",
     "output_type": "stream",
     "text": [
      "(21948, 874) (3982, 874)\n"
     ]
    }
   ],
   "source": [
    "def fe(df, remove_features):\n",
    "    df = pd.merge(df, ctl_group_data, on=[\"cp_time\", \"cp_dose\"], how=\"left\")\n",
    "    for i in range(len(g_feats)):\n",
    "        df[\"diff-g-\"+str(i)] = df[\"g-\"+str(i)] - df[\"mean-g-\"+str(i)]\n",
    "    for i in range(len(c_feats)):\n",
    "        df[\"diff-c-\"+str(i)] = df[\"c-\"+str(i)] - df[\"mean-c-\"+str(i)]\n",
    "    \n",
    "    df.loc[:, 'cp_type'] = df.loc[:, 'cp_type'].map({'trt_cp': 0, 'ctl_vehicle': 1})\n",
    "    df.loc[:, 'cp_dose'] = df.loc[:, 'cp_dose'].map({'D1': 0, 'D2': 1})\n",
    "        \n",
    "    df.drop(remove_features, axis=1, inplace=True)\n",
    "    return df\n",
    "\n",
    "remove_features = [\"cp_type\" , \"sig_id\"] + mean_g_feats + mean_c_feats + g_feats + c_feats \n",
    "\n",
    "train = fe(train, remove_features)\n",
    "test = fe(test, remove_features)\n",
    "\n",
    "print(train.shape, test.shape)"
   ]
  },
  {
   "cell_type": "markdown",
   "metadata": {
    "papermill": {
     "duration": 0.01025,
     "end_time": "2020-10-04T03:36:46.709731",
     "exception": false,
     "start_time": "2020-10-04T03:36:46.699481",
     "status": "completed"
    },
    "tags": []
   },
   "source": [
    "# modelling"
   ]
  },
  {
   "cell_type": "code",
   "execution_count": 7,
   "metadata": {
    "execution": {
     "iopub.execute_input": "2020-10-04T03:36:46.770091Z",
     "iopub.status.busy": "2020-10-04T03:36:46.749254Z",
     "iopub.status.idle": "2020-10-04T03:36:47.136544Z",
     "shell.execute_reply": "2020-10-04T03:36:47.137222Z"
    },
    "papermill": {
     "duration": 0.417267,
     "end_time": "2020-10-04T03:36:47.137454",
     "exception": false,
     "start_time": "2020-10-04T03:36:46.720187",
     "status": "completed"
    },
    "tags": []
   },
   "outputs": [
    {
     "name": "stdout",
     "output_type": "stream",
     "text": [
      "cuda\n"
     ]
    }
   ],
   "source": [
    "device = \"cuda\" if torch.cuda.is_available() else \"cpu\"\n",
    "print(device)\n",
    "batch_size = 64\n",
    "train_epochs = 30\n",
    "n_folds=7\n",
    "\n",
    "def mean_log_loss(y_true, y_pred):\n",
    "    metrics = []\n",
    "    for i, target in enumerate(target_feats):\n",
    "        metrics.append(log_loss(y_true[:, i], y_pred[:, i].astype(float), labels=[0,1]))\n",
    "    return np.mean(metrics)\n",
    "\n",
    "def seed_everything(seed=1234): \n",
    "    random.seed(seed)\n",
    "    os.environ['PYTHONHASHSEED'] = str(seed)\n",
    "    tf.random.set_seed(seed)\n",
    "    np.random.seed(seed)\n",
    "    torch.manual_seed(seed)\n",
    "    torch.cuda.manual_seed(seed)\n",
    "    torch.backends.cudnn.deterministic = True\n",
    "\n",
    "class MoaModel(nn.Module):\n",
    "    def __init__(self, num_columns):\n",
    "        super(MoaModel, self).__init__()\n",
    "        self.batch_norm1 = nn.BatchNorm1d(num_columns)\n",
    "        self.dropout1 = nn.Dropout(0.3)\n",
    "        self.dense1 = nn.utils.weight_norm(nn.Linear(num_columns, 2048))\n",
    "        \n",
    "        self.batch_norm2 = nn.BatchNorm1d(2048)\n",
    "        self.dropout2 = nn.Dropout(0.6)\n",
    "        self.dense2 = nn.utils.weight_norm(nn.Linear(2048, 1048))\n",
    "        \n",
    "        self.batch_norm3 = nn.BatchNorm1d(1048)\n",
    "        self.dropout3 = nn.Dropout(0.6)\n",
    "        self.dense3 = nn.utils.weight_norm(nn.Linear(1048, 206))\n",
    "    \n",
    "    def forward(self, x):\n",
    "        x = self.batch_norm1(x)\n",
    "        x = self.dropout1(x)\n",
    "        x = F.relu(self.dense1(x))\n",
    "        \n",
    "        x = self.batch_norm2(x)\n",
    "        x = self.dropout2(x)\n",
    "        x = F.relu(self.dense2(x))\n",
    "        \n",
    "        x = self.batch_norm3(x)\n",
    "        x = self.dropout3(x)\n",
    "        x = F.sigmoid(self.dense3(x))\n",
    "        \n",
    "        return x\n",
    "    \n",
    "def modelling_torch(tr, target, te, sample_seed, init_num):\n",
    "    seed_everything(seed=sample_seed) \n",
    "    X_train = tr.copy()\n",
    "    y_train = target.copy()\n",
    "    X_test = te.copy()\n",
    "    test_len = X_test.shape[0]\n",
    "\n",
    "    mskf=MultilabelStratifiedKFold(n_splits = n_folds, shuffle=True, random_state=2)\n",
    "    models = []\n",
    "    \n",
    "    X_test = torch.tensor(X_test, dtype=torch.float32)\n",
    "    X_test = torch.utils.data.TensorDataset(X_test) \n",
    "    test_loader = torch.utils.data.DataLoader(X_test, batch_size=batch_size, shuffle=False)\n",
    "    \n",
    "    oof = np.zeros([len(X_train),y_train.shape[1]])\n",
    "    oof_targets = np.zeros([len(X_train),y_train.shape[1]])\n",
    "    pred_value = np.zeros([test_len, y_train.shape[1]])\n",
    "    scores = []\n",
    "    for fold, (train_index, valid_index) in enumerate(mskf.split(X_train, y_train)):\n",
    "        print(\"Fold \"+str(fold+1))\n",
    "        X_train2 = torch.tensor(X_train[train_index,:], dtype=torch.float32)\n",
    "        y_train2 = torch.tensor(y_train[train_index], dtype=torch.float32)\n",
    "\n",
    "        X_valid2 = torch.tensor(X_train[valid_index,:], dtype=torch.float32)\n",
    "        y_valid2 = torch.tensor(y_train[valid_index], dtype=torch.float32)\n",
    "            \n",
    "        clf = MoaModel(num_columns=init_num)\n",
    "        loss_fn = torch.nn.BCELoss()\n",
    "        optimizer = optim.Adam(clf.parameters(), lr = 0.001) #, weight_decay=1e-5\n",
    "        scheduler = optim.lr_scheduler.ReduceLROnPlateau(optimizer, mode='min', factor=0.1, patience=3, eps=1e-4, verbose=True)\n",
    "        \n",
    "        train = torch.utils.data.TensorDataset(X_train2, y_train2)\n",
    "        valid = torch.utils.data.TensorDataset(X_valid2, y_valid2)\n",
    "        \n",
    "        clf.to(device)\n",
    "        \n",
    "        train_loader = torch.utils.data.DataLoader(train, batch_size=batch_size, shuffle=True) \n",
    "        valid_loader = torch.utils.data.DataLoader(valid, batch_size=batch_size, shuffle=False)\n",
    "        \n",
    "        for epoch in range(train_epochs):\n",
    "            best_val_loss = np.inf\n",
    "            start_time = time.time()\n",
    "            clf.train()\n",
    "            avg_loss = 0.\n",
    "            for x_batch, y_batch in tqdm(train_loader, disable=True):\n",
    "                x_batch = x_batch.to(device)\n",
    "                y_batch = y_batch.to(device)\n",
    "                y_pred = clf(x_batch) \n",
    "                loss = loss_fn(y_pred, y_batch)\n",
    "                optimizer.zero_grad()\n",
    "                loss.backward()\n",
    "                optimizer.step()\n",
    "                avg_loss += loss.item() / len(train_loader)        \n",
    "            \n",
    "            clf.eval()\n",
    "            avg_val_loss = 0.\n",
    "            for i, (x_batch, y_batch) in enumerate(valid_loader): \n",
    "                x_batch = x_batch.to(device)\n",
    "                y_batch = y_batch.to(device)\n",
    "                y_pred = clf(x_batch).detach() \n",
    "                avg_val_loss += loss_fn(y_pred, y_batch).item() / len(valid_loader)\n",
    "        \n",
    "            elapsed_time = time.time() - start_time \n",
    "            #print('Epoch {}/{} \\t loss={:.4f} \\t val_loss={:.4f} \\t time={:.2f}s'.format(\n",
    "            #    epoch + 1, train_epochs, avg_loss, avg_val_loss, elapsed_time))\n",
    "            scheduler.step(avg_val_loss)\n",
    "            #print('Epoch-{0} lr: {1}'.format(epoch, optimizer.param_groups[0]['lr']))\n",
    "                    \n",
    "            if avg_val_loss < best_val_loss:\n",
    "                best_val_loss = avg_val_loss\n",
    "                torch.save(clf.state_dict(), 'best-model-parameters.pt')\n",
    "     \n",
    "        pred_model = MoaModel(num_columns=init_num)\n",
    "        pred_model.load_state_dict(torch.load('best-model-parameters.pt'))\n",
    "        pred_model.eval()\n",
    "        \n",
    "        # validation check ----------------\n",
    "        oof_epoch = np.zeros([X_valid2.size(0), y_train.shape[1]])\n",
    "        target_epoch = np.zeros([X_valid2.size(0), y_train.shape[1]])\n",
    "        for i, (x_batch, y_batch) in enumerate(valid_loader): \n",
    "                y_pred = pred_model(x_batch).detach()\n",
    "                oof_epoch[i * batch_size:(i+1) * batch_size,:] = y_pred.cpu().numpy()\n",
    "                target_epoch[i * batch_size:(i+1) * batch_size,:] = y_batch.cpu().numpy()\n",
    "        print(\"Fold {} log loss: {}\".format(fold+1, mean_log_loss(target_epoch, oof_epoch)))\n",
    "        scores.append(mean_log_loss(target_epoch, oof_epoch))\n",
    "        oof[valid_index,:] = oof_epoch\n",
    "        oof_targets[valid_index,:] = target_epoch\n",
    "        #-----------------------------------\n",
    "        \n",
    "        # test predcition --------------\n",
    "        test_preds = np.zeros([test_len, y_train.shape[1]])\n",
    "        for i, (x_batch,) in enumerate(test_loader): \n",
    "            y_pred = pred_model(x_batch).detach() \n",
    "            test_preds[i * batch_size:(i+1) * batch_size, :] = y_pred.cpu().numpy()\n",
    "        pred_value += test_preds / n_folds\n",
    "        # ------------------------------\n",
    "        \n",
    "    for i, ele in enumerate(scores):\n",
    "        print(\"Fold {} log loss: {}\".format(i+1, scores[i]))\n",
    "    print(\"Std of log loss: {}\".format(np.std(scores)))\n",
    "    print(\"Total log loss: {}\".format(mean_log_loss(oof_targets, oof)))\n",
    "    \n",
    "    return oof, oof_targets, pred_value"
   ]
  },
  {
   "cell_type": "code",
   "execution_count": 8,
   "metadata": {
    "execution": {
     "iopub.execute_input": "2020-10-04T03:36:47.173853Z",
     "iopub.status.busy": "2020-10-04T03:36:47.172383Z",
     "iopub.status.idle": "2020-10-04T04:15:34.871868Z",
     "shell.execute_reply": "2020-10-04T04:15:34.872378Z"
    },
    "papermill": {
     "duration": 2327.722248,
     "end_time": "2020-10-04T04:15:34.872562",
     "exception": false,
     "start_time": "2020-10-04T03:36:47.150314",
     "status": "completed"
    },
    "tags": []
   },
   "outputs": [
    {
     "name": "stdout",
     "output_type": "stream",
     "text": [
      "(21948, 874) (21948, 206) (3982, 874)\n",
      "Fold 1\n",
      "Epoch    26: reducing learning rate of group 0 to 1.0000e-04.\n",
      "Fold 1 log loss: 0.016085076967198724\n",
      "Fold 2\n",
      "Epoch    28: reducing learning rate of group 0 to 1.0000e-04.\n",
      "Fold 2 log loss: 0.015852419719398766\n",
      "Fold 3\n",
      "Epoch    29: reducing learning rate of group 0 to 1.0000e-04.\n",
      "Fold 3 log loss: 0.016198089372553175\n",
      "Fold 4\n",
      "Epoch    27: reducing learning rate of group 0 to 1.0000e-04.\n",
      "Fold 4 log loss: 0.016173718881122654\n",
      "Fold 5\n",
      "Epoch    29: reducing learning rate of group 0 to 1.0000e-04.\n",
      "Fold 5 log loss: 0.016164800437843786\n",
      "Fold 6\n",
      "Epoch    27: reducing learning rate of group 0 to 1.0000e-04.\n",
      "Fold 6 log loss: 0.016399937904037497\n",
      "Fold 7\n",
      "Fold 7 log loss: 0.015916406485596092\n",
      "Fold 1 log loss: 0.016085076967198724\n",
      "Fold 2 log loss: 0.015852419719398766\n",
      "Fold 3 log loss: 0.016198089372553175\n",
      "Fold 4 log loss: 0.016173718881122654\n",
      "Fold 5 log loss: 0.016164800437843786\n",
      "Fold 6 log loss: 0.016399937904037497\n",
      "Fold 7 log loss: 0.015916406485596092\n",
      "Std of log loss: 0.0001704089094897702\n",
      "Total log loss: 0.01611292496719335\n",
      "Fold 1\n",
      "Fold 1 log loss: 0.016216911710320542\n",
      "Fold 2\n",
      "Epoch    27: reducing learning rate of group 0 to 1.0000e-04.\n",
      "Fold 2 log loss: 0.015756963496921326\n",
      "Fold 3\n",
      "Epoch    24: reducing learning rate of group 0 to 1.0000e-04.\n",
      "Fold 3 log loss: 0.016041790895279677\n",
      "Fold 4\n",
      "Epoch    24: reducing learning rate of group 0 to 1.0000e-04.\n",
      "Fold 4 log loss: 0.01613251189911385\n",
      "Fold 5\n",
      "Epoch    29: reducing learning rate of group 0 to 1.0000e-04.\n",
      "Fold 5 log loss: 0.016179734239629706\n",
      "Fold 6\n",
      "Epoch    30: reducing learning rate of group 0 to 1.0000e-04.\n",
      "Fold 6 log loss: 0.01655000737246013\n",
      "Fold 7\n",
      "Epoch    29: reducing learning rate of group 0 to 1.0000e-04.\n",
      "Fold 7 log loss: 0.015847569677064487\n",
      "Fold 1 log loss: 0.016216911710320542\n",
      "Fold 2 log loss: 0.015756963496921326\n",
      "Fold 3 log loss: 0.016041790895279677\n",
      "Fold 4 log loss: 0.01613251189911385\n",
      "Fold 5 log loss: 0.016179734239629706\n",
      "Fold 6 log loss: 0.01655000737246013\n",
      "Fold 7 log loss: 0.015847569677064487\n",
      "Std of log loss: 0.00024150721705770313\n",
      "Total log loss: 0.016103649336237234\n",
      "Fold 1\n",
      "Epoch    26: reducing learning rate of group 0 to 1.0000e-04.\n",
      "Fold 1 log loss: 0.016041392083583118\n",
      "Fold 2\n",
      "Epoch    28: reducing learning rate of group 0 to 1.0000e-04.\n",
      "Fold 2 log loss: 0.015826158493173766\n",
      "Fold 3\n",
      "Fold 3 log loss: 0.01626960794407124\n",
      "Fold 4\n",
      "Fold 4 log loss: 0.01631458928675777\n",
      "Fold 5\n",
      "Fold 5 log loss: 0.016291965803801666\n",
      "Fold 6\n",
      "Epoch    30: reducing learning rate of group 0 to 1.0000e-04.\n",
      "Fold 6 log loss: 0.01655601690548544\n",
      "Fold 7\n",
      "Epoch    28: reducing learning rate of group 0 to 1.0000e-04.\n",
      "Fold 7 log loss: 0.01581193936339624\n",
      "Fold 1 log loss: 0.016041392083583118\n",
      "Fold 2 log loss: 0.015826158493173766\n",
      "Fold 3 log loss: 0.01626960794407124\n",
      "Fold 4 log loss: 0.01631458928675777\n",
      "Fold 5 log loss: 0.016291965803801666\n",
      "Fold 6 log loss: 0.01655601690548544\n",
      "Fold 7 log loss: 0.01581193936339624\n",
      "Std of log loss: 0.00025545768312465087\n",
      "Total log loss: 0.01615881899106281\n",
      "Fold 1\n",
      "Fold 1 log loss: 0.01622345750801926\n",
      "Fold 2\n",
      "Epoch    27: reducing learning rate of group 0 to 1.0000e-04.\n",
      "Fold 2 log loss: 0.015721267422706114\n",
      "Fold 3\n",
      "Epoch    25: reducing learning rate of group 0 to 1.0000e-04.\n",
      "Fold 3 log loss: 0.01602616457658175\n",
      "Fold 4\n",
      "Fold 4 log loss: 0.016394841062527827\n",
      "Fold 5\n",
      "Epoch    28: reducing learning rate of group 0 to 1.0000e-04.\n",
      "Fold 5 log loss: 0.016033105065411064\n",
      "Fold 6\n",
      "Epoch    25: reducing learning rate of group 0 to 1.0000e-04.\n",
      "Fold 6 log loss: 0.016409214167387\n",
      "Fold 7\n",
      "Epoch    28: reducing learning rate of group 0 to 1.0000e-04.\n",
      "Fold 7 log loss: 0.015809694432841633\n",
      "Fold 1 log loss: 0.01622345750801926\n",
      "Fold 2 log loss: 0.015721267422706114\n",
      "Fold 3 log loss: 0.01602616457658175\n",
      "Fold 4 log loss: 0.016394841062527827\n",
      "Fold 5 log loss: 0.016033105065411064\n",
      "Fold 6 log loss: 0.016409214167387\n",
      "Fold 7 log loss: 0.015809694432841633\n",
      "Std of log loss: 0.0002491305240896902\n",
      "Total log loss: 0.01608824456738056\n",
      "Fold 1\n",
      "Epoch    27: reducing learning rate of group 0 to 1.0000e-04.\n",
      "Fold 1 log loss: 0.016138076883875817\n",
      "Fold 2\n",
      "Fold 2 log loss: 0.016084625161124806\n",
      "Fold 3\n",
      "Epoch    27: reducing learning rate of group 0 to 1.0000e-04.\n",
      "Fold 3 log loss: 0.01617429580535218\n",
      "Fold 4\n",
      "Epoch    26: reducing learning rate of group 0 to 1.0000e-04.\n",
      "Fold 4 log loss: 0.016118387743647634\n",
      "Fold 5\n",
      "Epoch    28: reducing learning rate of group 0 to 1.0000e-04.\n",
      "Fold 5 log loss: 0.016029208968730425\n",
      "Fold 6\n",
      "Fold 6 log loss: 0.016532213357817453\n",
      "Fold 7\n",
      "Epoch    30: reducing learning rate of group 0 to 1.0000e-04.\n",
      "Fold 7 log loss: 0.01597536482548587\n",
      "Fold 1 log loss: 0.016138076883875817\n",
      "Fold 2 log loss: 0.016084625161124806\n",
      "Fold 3 log loss: 0.01617429580535218\n",
      "Fold 4 log loss: 0.016118387743647634\n",
      "Fold 5 log loss: 0.016029208968730425\n",
      "Fold 6 log loss: 0.016532213357817453\n",
      "Fold 7 log loss: 0.01597536482548587\n",
      "Std of log loss: 0.0001678349295624761\n",
      "Total log loss: 0.016150319282226395\n",
      "Fold 1\n",
      "Epoch    30: reducing learning rate of group 0 to 1.0000e-04.\n",
      "Fold 1 log loss: 0.016232922114940106\n",
      "Fold 2\n",
      "Epoch    24: reducing learning rate of group 0 to 1.0000e-04.\n",
      "Fold 2 log loss: 0.015691007305152865\n",
      "Fold 3\n",
      "Fold 3 log loss: 0.01633711566209067\n",
      "Fold 4\n",
      "Epoch    28: reducing learning rate of group 0 to 1.0000e-04.\n",
      "Fold 4 log loss: 0.01618587169599904\n",
      "Fold 5\n",
      "Fold 5 log loss: 0.016234919393367745\n",
      "Fold 6\n",
      "Fold 6 log loss: 0.01653687189857912\n",
      "Fold 7\n",
      "Epoch    29: reducing learning rate of group 0 to 1.0000e-04.\n",
      "Fold 7 log loss: 0.01581841533429983\n",
      "Fold 1 log loss: 0.016232922114940106\n",
      "Fold 2 log loss: 0.015691007305152865\n",
      "Fold 3 log loss: 0.01633711566209067\n",
      "Fold 4 log loss: 0.01618587169599904\n",
      "Fold 5 log loss: 0.016234919393367745\n",
      "Fold 6 log loss: 0.01653687189857912\n",
      "Fold 7 log loss: 0.01581841533429983\n",
      "Std of log loss: 0.00027272573711041885\n",
      "Total log loss: 0.016148161320916857\n",
      "Fold 1\n",
      "Epoch    27: reducing learning rate of group 0 to 1.0000e-04.\n",
      "Fold 1 log loss: 0.01607239522922221\n",
      "Fold 2\n",
      "Epoch    29: reducing learning rate of group 0 to 1.0000e-04.\n",
      "Fold 2 log loss: 0.01585049346630738\n",
      "Fold 3\n",
      "Epoch    29: reducing learning rate of group 0 to 1.0000e-04.\n",
      "Fold 3 log loss: 0.016240642980395258\n",
      "Fold 4\n",
      "Epoch    27: reducing learning rate of group 0 to 1.0000e-04.\n",
      "Fold 4 log loss: 0.01626711973075507\n",
      "Fold 5\n",
      "Fold 5 log loss: 0.016320229969374517\n",
      "Fold 6\n",
      "Epoch    27: reducing learning rate of group 0 to 1.0000e-04.\n",
      "Fold 6 log loss: 0.016341691112249087\n",
      "Fold 7\n",
      "Epoch    30: reducing learning rate of group 0 to 1.0000e-04.\n",
      "Fold 7 log loss: 0.015960929161031846\n",
      "Fold 1 log loss: 0.01607239522922221\n",
      "Fold 2 log loss: 0.01585049346630738\n",
      "Fold 3 log loss: 0.016240642980395258\n",
      "Fold 4 log loss: 0.01626711973075507\n",
      "Fold 5 log loss: 0.016320229969374517\n",
      "Fold 6 log loss: 0.016341691112249087\n",
      "Fold 7 log loss: 0.015960929161031846\n",
      "Std of log loss: 0.00017693001073308085\n",
      "Total log loss: 0.016150503010990264\n",
      "Total log loss: 0.015811393905036282\n"
     ]
    }
   ],
   "source": [
    "seeds = [0,1,2,3,4,5,13]\n",
    "nn_train = train.copy().to_numpy()\n",
    "nn_targets = targets.drop(\"sig_id\", axis=1).copy().to_numpy()\n",
    "nn_test = test.copy().to_numpy()\n",
    "print(nn_train.shape, nn_targets.shape, nn_test.shape)\n",
    "oof_final = np.zeros([len(train),nn_targets.shape[1]])\n",
    "pred_final = np.zeros([len(test),nn_targets.shape[1]])\n",
    "for seed_ in seeds:\n",
    "    oof, oof_targets, pytorch_pred = modelling_torch(nn_train, nn_targets, nn_test, sample_seed = seed_, init_num = nn_train.shape[1])\n",
    "    oof_final += oof / len(seeds)\n",
    "    pred_final += pytorch_pred / len(seeds)\n",
    "print(\"Total log loss: {}\".format(mean_log_loss(oof_targets, oof_final)))"
   ]
  },
  {
   "cell_type": "code",
   "execution_count": 9,
   "metadata": {
    "execution": {
     "iopub.execute_input": "2020-10-04T04:15:35.002119Z",
     "iopub.status.busy": "2020-10-04T04:15:35.001229Z",
     "iopub.status.idle": "2020-10-04T04:15:37.554964Z",
     "shell.execute_reply": "2020-10-04T04:15:37.554003Z"
    },
    "papermill": {
     "duration": 2.621258,
     "end_time": "2020-10-04T04:15:37.555097",
     "exception": false,
     "start_time": "2020-10-04T04:15:34.933839",
     "status": "completed"
    },
    "tags": []
   },
   "outputs": [],
   "source": [
    "sub[target_feats] = pred_final\n",
    "sub.loc[noncons_test_index,target_feats] = 0\n",
    "sub.to_csv('submission.csv', index=False)"
   ]
  },
  {
   "cell_type": "code",
   "execution_count": null,
   "metadata": {
    "papermill": {
     "duration": 0.06159,
     "end_time": "2020-10-04T04:15:37.679112",
     "exception": false,
     "start_time": "2020-10-04T04:15:37.617522",
     "status": "completed"
    },
    "tags": []
   },
   "outputs": [],
   "source": []
  }
 ],
 "metadata": {
  "kernelspec": {
   "display_name": "Python 3",
   "language": "python",
   "name": "python3"
  },
  "language_info": {
   "codemirror_mode": {
    "name": "ipython",
    "version": 3
   },
   "file_extension": ".py",
   "mimetype": "text/x-python",
   "name": "python",
   "nbconvert_exporter": "python",
   "pygments_lexer": "ipython3",
   "version": "3.7.6"
  },
  "papermill": {
   "duration": 2355.418741,
   "end_time": "2020-10-04T04:15:38.248778",
   "environment_variables": {},
   "exception": null,
   "input_path": "__notebook__.ipynb",
   "output_path": "__notebook__.ipynb",
   "parameters": {},
   "start_time": "2020-10-04T03:36:22.830037",
   "version": "2.1.0"
  }
 },
 "nbformat": 4,
 "nbformat_minor": 4
}
