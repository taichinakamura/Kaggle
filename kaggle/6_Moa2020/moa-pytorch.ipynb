{
 "cells": [
  {
   "cell_type": "markdown",
   "metadata": {
    "papermill": {
     "duration": 0.018603,
     "end_time": "2020-11-02T14:30:00.143815",
     "exception": false,
     "start_time": "2020-11-02T14:30:00.125212",
     "status": "completed"
    },
    "tags": []
   },
   "source": [
    "- try transfer learning (consider only fold 5 file)"
   ]
  },
  {
   "cell_type": "code",
   "execution_count": 1,
   "metadata": {
    "_cell_guid": "b1076dfc-b9ad-4769-8c92-a6c4dae69d19",
    "_uuid": "8f2839f25d086af736a60e9eeb907d3b93b6e0e5",
    "execution": {
     "iopub.execute_input": "2020-11-02T14:30:00.187583Z",
     "iopub.status.busy": "2020-11-02T14:30:00.186856Z",
     "iopub.status.idle": "2020-11-02T14:30:11.669517Z",
     "shell.execute_reply": "2020-11-02T14:30:11.668030Z"
    },
    "papermill": {
     "duration": 11.508645,
     "end_time": "2020-11-02T14:30:11.669669",
     "exception": false,
     "start_time": "2020-11-02T14:30:00.161024",
     "status": "completed"
    },
    "tags": []
   },
   "outputs": [],
   "source": [
    "import os\n",
    "import sys\n",
    "import random\n",
    "import warnings\n",
    "import numpy as np\n",
    "import pandas as pd \n",
    "from umap import UMAP\n",
    "from sklearn import preprocessing\n",
    "from sklearn.metrics import log_loss,roc_auc_score\n",
    "from sklearn.decomposition import PCA\n",
    "from tqdm import tqdm_notebook as tqdm\n",
    "from sklearn.cluster import KMeans\n",
    "from sklearn.multioutput import MultiOutputClassifier\n",
    "from sklearn.feature_selection import VarianceThreshold\n",
    "\n",
    "sys.path.append('../input/multilabelstraifier/')\n",
    "from ml_stratifiers import MultilabelStratifiedKFold\n",
    "warnings.filterwarnings('ignore')\n",
    "\n",
    "import time\n",
    "import torch\n",
    "import torch.nn as nn\n",
    "import torch.optim as optim\n",
    "import torch.nn.functional as F\n",
    "import tensorflow as tf\n",
    "from torch.nn.modules.loss import _WeightedLoss"
   ]
  },
  {
   "cell_type": "code",
   "execution_count": 2,
   "metadata": {
    "execution": {
     "iopub.execute_input": "2020-11-02T14:30:11.716393Z",
     "iopub.status.busy": "2020-11-02T14:30:11.715357Z",
     "iopub.status.idle": "2020-11-02T14:30:18.832555Z",
     "shell.execute_reply": "2020-11-02T14:30:18.831378Z"
    },
    "papermill": {
     "duration": 7.1438,
     "end_time": "2020-11-02T14:30:18.832720",
     "exception": false,
     "start_time": "2020-11-02T14:30:11.688920",
     "status": "completed"
    },
    "tags": []
   },
   "outputs": [],
   "source": [
    "DATA_DIR = '/kaggle/input/lish-moa/'\n",
    "train = pd.read_csv(DATA_DIR + 'train_features.csv')\n",
    "targets = pd.read_csv(DATA_DIR + 'train_targets_scored.csv')\n",
    "non_targets = pd.read_csv(DATA_DIR + 'train_targets_nonscored.csv')\n",
    "test = pd.read_csv(DATA_DIR + 'test_features.csv')\n",
    "sub = pd.read_csv(DATA_DIR + 'sample_submission.csv')"
   ]
  },
  {
   "cell_type": "code",
   "execution_count": 3,
   "metadata": {
    "execution": {
     "iopub.execute_input": "2020-11-02T14:30:18.880837Z",
     "iopub.status.busy": "2020-11-02T14:30:18.878761Z",
     "iopub.status.idle": "2020-11-02T14:30:18.881619Z",
     "shell.execute_reply": "2020-11-02T14:30:18.882223Z"
    },
    "papermill": {
     "duration": 0.030651,
     "end_time": "2020-11-02T14:30:18.882352",
     "exception": false,
     "start_time": "2020-11-02T14:30:18.851701",
     "status": "completed"
    },
    "tags": []
   },
   "outputs": [],
   "source": [
    "target_feats = [ i for i in targets.columns if i != \"sig_id\"]\n",
    "g_feats = [i for i in train.columns if \"g-\" in i]\n",
    "c_feats = [i for i in train.columns if \"c-\" in i]"
   ]
  },
  {
   "cell_type": "code",
   "execution_count": 4,
   "metadata": {
    "execution": {
     "iopub.execute_input": "2020-11-02T14:30:18.927013Z",
     "iopub.status.busy": "2020-11-02T14:30:18.926377Z",
     "iopub.status.idle": "2020-11-02T14:30:19.028007Z",
     "shell.execute_reply": "2020-11-02T14:30:19.027434Z"
    },
    "papermill": {
     "duration": 0.12786,
     "end_time": "2020-11-02T14:30:19.028120",
     "exception": false,
     "start_time": "2020-11-02T14:30:18.900260",
     "status": "completed"
    },
    "tags": []
   },
   "outputs": [],
   "source": [
    "noncons_train_index = train[train.cp_type==\"ctl_vehicle\"].index\n",
    "cons_train_index = train[train.cp_type!=\"ctl_vehicle\"].index\n",
    "noncons_test_index = test[test.cp_type==\"ctl_vehicle\"].index\n",
    "cons_test_index = test[test.cp_type!=\"ctl_vehicle\"].index"
   ]
  },
  {
   "cell_type": "markdown",
   "metadata": {
    "papermill": {
     "duration": 0.018563,
     "end_time": "2020-11-02T14:30:19.064943",
     "exception": false,
     "start_time": "2020-11-02T14:30:19.046380",
     "status": "completed"
    },
    "tags": []
   },
   "source": [
    "# preprocess"
   ]
  },
  {
   "cell_type": "code",
   "execution_count": 5,
   "metadata": {
    "execution": {
     "iopub.execute_input": "2020-11-02T14:30:19.120689Z",
     "iopub.status.busy": "2020-11-02T14:30:19.119522Z",
     "iopub.status.idle": "2020-11-02T14:30:19.456676Z",
     "shell.execute_reply": "2020-11-02T14:30:19.456035Z"
    },
    "papermill": {
     "duration": 0.372122,
     "end_time": "2020-11-02T14:30:19.456803",
     "exception": false,
     "start_time": "2020-11-02T14:30:19.084681",
     "status": "completed"
    },
    "tags": []
   },
   "outputs": [],
   "source": [
    "train = train[train.index.isin(cons_train_index)].copy().reset_index(drop=True)\n",
    "test = test[test.index.isin(cons_test_index)].copy().reset_index(drop=True)\n",
    "targets = targets[targets.index.isin(cons_train_index)].copy().reset_index(drop=True)\n",
    "non_targets = non_targets[non_targets.index.isin(cons_train_index)].copy().reset_index(drop=True)"
   ]
  },
  {
   "cell_type": "code",
   "execution_count": 6,
   "metadata": {
    "execution": {
     "iopub.execute_input": "2020-11-02T14:30:19.532478Z",
     "iopub.status.busy": "2020-11-02T14:30:19.531393Z",
     "iopub.status.idle": "2020-11-02T14:30:19.586260Z",
     "shell.execute_reply": "2020-11-02T14:30:19.585288Z"
    },
    "papermill": {
     "duration": 0.110733,
     "end_time": "2020-11-02T14:30:19.586404",
     "exception": false,
     "start_time": "2020-11-02T14:30:19.475671",
     "status": "completed"
    },
    "tags": []
   },
   "outputs": [
    {
     "name": "stdout",
     "output_type": "stream",
     "text": [
      "first drop 71\n",
      "shape after 1st drop: (21948, 332)\n",
      "331\n"
     ]
    }
   ],
   "source": [
    "non_target_feats = [i for i in non_targets.columns if i != \"sig_id\"]\n",
    "nontarget_dists = pd.DataFrame(np.sum(non_targets[non_target_feats])).reset_index(drop=False)\n",
    "nontarget_dists.columns = [\"target\", \"number\"]\n",
    "nontarget_dists = nontarget_dists.sort_values(\"number\", ascending=False).reset_index(drop=True)\n",
    "drop_list1 = list(nontarget_dists[nontarget_dists.number==0][\"target\"].values)\n",
    "print(\"first drop\", len(drop_list1))\n",
    "non_targets.drop(drop_list1, axis=1, inplace=True)\n",
    "print(\"shape after 1st drop:\", non_targets.shape)\n",
    "non_target_feats = [i for i in non_targets.columns if i != \"sig_id\"]\n",
    "print(len(non_target_feats))"
   ]
  },
  {
   "cell_type": "code",
   "execution_count": 7,
   "metadata": {
    "execution": {
     "iopub.execute_input": "2020-11-02T14:30:19.632203Z",
     "iopub.status.busy": "2020-11-02T14:30:19.631021Z",
     "iopub.status.idle": "2020-11-02T14:30:19.670939Z",
     "shell.execute_reply": "2020-11-02T14:30:19.670323Z"
    },
    "papermill": {
     "duration": 0.064486,
     "end_time": "2020-11-02T14:30:19.671054",
     "exception": false,
     "start_time": "2020-11-02T14:30:19.606568",
     "status": "completed"
    },
    "tags": []
   },
   "outputs": [],
   "source": [
    "all_targets = pd.concat([targets, non_targets], axis=1)"
   ]
  },
  {
   "cell_type": "markdown",
   "metadata": {
    "papermill": {
     "duration": 0.018865,
     "end_time": "2020-11-02T14:30:19.709667",
     "exception": false,
     "start_time": "2020-11-02T14:30:19.690802",
     "status": "completed"
    },
    "tags": []
   },
   "source": [
    "# Feature engineering "
   ]
  },
  {
   "cell_type": "code",
   "execution_count": 8,
   "metadata": {
    "execution": {
     "iopub.execute_input": "2020-11-02T14:30:19.803836Z",
     "iopub.status.busy": "2020-11-02T14:30:19.802277Z",
     "iopub.status.idle": "2020-11-02T14:30:20.180426Z",
     "shell.execute_reply": "2020-11-02T14:30:20.179826Z"
    },
    "papermill": {
     "duration": 0.451978,
     "end_time": "2020-11-02T14:30:20.180541",
     "exception": false,
     "start_time": "2020-11-02T14:30:19.728563",
     "status": "completed"
    },
    "tags": []
   },
   "outputs": [],
   "source": [
    "X = train.iloc[:,4:].copy().values\n",
    "select = VarianceThreshold(threshold=0.7)\n",
    "X_new = select.fit_transform(X)\n",
    "drop_feats = list(np.array(train.iloc[:,4:].columns)[select.get_support()==False])\n",
    "len(drop_feats)\n",
    "\n",
    "train.drop(drop_feats, axis=1, inplace=True)\n",
    "test.drop(drop_feats, axis=1, inplace=True)"
   ]
  },
  {
   "cell_type": "code",
   "execution_count": 9,
   "metadata": {
    "execution": {
     "iopub.execute_input": "2020-11-02T14:30:20.226094Z",
     "iopub.status.busy": "2020-11-02T14:30:20.225305Z",
     "iopub.status.idle": "2020-11-02T14:30:20.228853Z",
     "shell.execute_reply": "2020-11-02T14:30:20.229292Z"
    },
    "papermill": {
     "duration": 0.029113,
     "end_time": "2020-11-02T14:30:20.229423",
     "exception": false,
     "start_time": "2020-11-02T14:30:20.200310",
     "status": "completed"
    },
    "tags": []
   },
   "outputs": [],
   "source": [
    "g_feats = [i for i in train.columns if \"g-\" in i]\n",
    "c_feats = [i for i in train.columns if \"c-\" in i]"
   ]
  },
  {
   "cell_type": "code",
   "execution_count": 10,
   "metadata": {
    "execution": {
     "iopub.execute_input": "2020-11-02T14:30:20.278423Z",
     "iopub.status.busy": "2020-11-02T14:30:20.277443Z",
     "iopub.status.idle": "2020-11-02T14:30:31.199500Z",
     "shell.execute_reply": "2020-11-02T14:30:31.198949Z"
    },
    "papermill": {
     "duration": 10.950284,
     "end_time": "2020-11-02T14:30:31.199620",
     "exception": false,
     "start_time": "2020-11-02T14:30:20.249336",
     "status": "completed"
    },
    "tags": []
   },
   "outputs": [],
   "source": [
    "# rank gauss\n",
    "for i in c_feats + g_feats:\n",
    "    ss = preprocessing.QuantileTransformer(n_quantiles=1000, random_state=0, output_distribution=\"normal\")\n",
    "    ss.fit(train[i].values.reshape(-1,1))\n",
    "    train[i] = ss.transform(train[i].values.reshape(-1,1))\n",
    "    test[i] = ss.transform(test[i].values.reshape(-1,1))"
   ]
  },
  {
   "cell_type": "code",
   "execution_count": 11,
   "metadata": {
    "execution": {
     "iopub.execute_input": "2020-11-02T14:30:31.260357Z",
     "iopub.status.busy": "2020-11-02T14:30:31.259229Z",
     "iopub.status.idle": "2020-11-02T14:30:33.534152Z",
     "shell.execute_reply": "2020-11-02T14:30:33.533018Z"
    },
    "papermill": {
     "duration": 2.315305,
     "end_time": "2020-11-02T14:30:33.534275",
     "exception": false,
     "start_time": "2020-11-02T14:30:31.218970",
     "status": "completed"
    },
    "tags": []
   },
   "outputs": [],
   "source": [
    "c_num = 10\n",
    "pca_c_cols = [\"pca-c\"+str(i+1) for i in range(c_num)]\n",
    "pca = PCA(n_components=c_num,random_state=42)\n",
    "c_train = pca.fit_transform(train[c_feats])\n",
    "c_test = pca.transform(test[c_feats])\n",
    "c_train = pd.DataFrame(c_train, columns=pca_c_cols)\n",
    "c_test = pd.DataFrame(c_test, columns=pca_c_cols)\n",
    "\n",
    "g_num = 60\n",
    "pca_g_cols = [\"pca-g\"+str(i+1) for i in range(g_num)]\n",
    "pca = PCA(n_components=g_num, random_state=42)\n",
    "g_train = pca.fit_transform(train[g_feats])\n",
    "g_test = pca.transform(test[g_feats])\n",
    "g_train = pd.DataFrame(g_train, columns=pca_g_cols)\n",
    "g_test = pd.DataFrame(g_test, columns=pca_g_cols)\n",
    "\n",
    "train = pd.concat([train, c_train],axis=1)\n",
    "test = pd.concat([test, c_test],axis=1)\n",
    "train = pd.concat([train, g_train],axis=1)\n",
    "test = pd.concat([test, g_test],axis=1)"
   ]
  },
  {
   "cell_type": "code",
   "execution_count": 12,
   "metadata": {
    "execution": {
     "iopub.execute_input": "2020-11-02T14:30:33.579696Z",
     "iopub.status.busy": "2020-11-02T14:30:33.577882Z",
     "iopub.status.idle": "2020-11-02T14:30:33.580388Z",
     "shell.execute_reply": "2020-11-02T14:30:33.580912Z"
    },
    "papermill": {
     "duration": 0.026782,
     "end_time": "2020-11-02T14:30:33.581063",
     "exception": false,
     "start_time": "2020-11-02T14:30:33.554281",
     "status": "completed"
    },
    "tags": []
   },
   "outputs": [],
   "source": [
    "#uc_num = 1\n",
    "#um = UMAP(n_neighbors=30, n_components=uc_num, random_state=42)\n",
    "#um_c_cols = [\"um-c\"+str(i+1) for i in range(uc_num)]\n",
    "#uc_train = um.fit_transform(train[c_feats])\n",
    "#uc_test = um.transform(test[c_feats])\n",
    "#uc_train = pd.DataFrame(uc_train, columns=um_c_cols)\n",
    "#uc_test = pd.DataFrame(uc_test, columns=um_c_cols)\n",
    "\n",
    "#ug_num = 5\n",
    "#um = UMAP(n_neighbors=30, n_components=ug_num, random_state=42)\n",
    "#um_g_cols = [\"um-g\"+str(i+1) for i in range(ug_num)]\n",
    "#ug_train = um.fit_transform(train[g_feats])\n",
    "#ug_test = um.transform(test[g_feats])\n",
    "#ug_train = pd.DataFrame(ug_train, columns=um_g_cols)\n",
    "#ug_test = pd.DataFrame(ug_test, columns=um_g_cols)\n",
    "\n",
    "#train = pd.concat([train, uc_train],axis=1)\n",
    "#test = pd.concat([test, uc_test],axis=1)\n",
    "#train = pd.concat([train, ug_train],axis=1)\n",
    "#test = pd.concat([test, ug_test],axis=1)"
   ]
  },
  {
   "cell_type": "code",
   "execution_count": 13,
   "metadata": {
    "execution": {
     "iopub.execute_input": "2020-11-02T14:30:33.630105Z",
     "iopub.status.busy": "2020-11-02T14:30:33.628923Z",
     "iopub.status.idle": "2020-11-02T14:30:34.026357Z",
     "shell.execute_reply": "2020-11-02T14:30:34.027039Z"
    },
    "papermill": {
     "duration": 0.425761,
     "end_time": "2020-11-02T14:30:34.027223",
     "exception": false,
     "start_time": "2020-11-02T14:30:33.601462",
     "status": "completed"
    },
    "tags": []
   },
   "outputs": [
    {
     "name": "stdout",
     "output_type": "stream",
     "text": [
      "(21948, 914) (3624, 914)\n"
     ]
    }
   ],
   "source": [
    "def fe(df):\n",
    "    tmp = df.copy()\n",
    "    tmp = pd.get_dummies(tmp, columns=['cp_time','cp_dose'])\n",
    "    tmp.drop([\"cp_type\", \"sig_id\"], axis=1, inplace=True) \n",
    "    return tmp\n",
    "\n",
    "train = fe(train)\n",
    "test = fe(test)\n",
    "\n",
    "print(train.shape, test.shape)"
   ]
  },
  {
   "cell_type": "code",
   "execution_count": 14,
   "metadata": {
    "execution": {
     "iopub.execute_input": "2020-11-02T14:30:34.082876Z",
     "iopub.status.busy": "2020-11-02T14:30:34.081485Z",
     "iopub.status.idle": "2020-11-02T14:30:34.381632Z",
     "shell.execute_reply": "2020-11-02T14:30:34.382198Z"
    },
    "papermill": {
     "duration": 0.329822,
     "end_time": "2020-11-02T14:30:34.382362",
     "exception": false,
     "start_time": "2020-11-02T14:30:34.052540",
     "status": "completed"
    },
    "tags": []
   },
   "outputs": [],
   "source": [
    "fn_train = train.copy().to_numpy()\n",
    "fn_test = test.copy().to_numpy()\n",
    "\n",
    "fn_targets = targets.drop(\"sig_id\", axis=1).copy().to_numpy()\n",
    "fn_all_targets = all_targets.drop(\"sig_id\", axis=1).copy().to_numpy()"
   ]
  },
  {
   "cell_type": "markdown",
   "metadata": {
    "papermill": {
     "duration": 0.033795,
     "end_time": "2020-11-02T14:30:34.453540",
     "exception": false,
     "start_time": "2020-11-02T14:30:34.419745",
     "status": "completed"
    },
    "tags": []
   },
   "source": [
    "# modelling"
   ]
  },
  {
   "cell_type": "code",
   "execution_count": 15,
   "metadata": {
    "execution": {
     "iopub.execute_input": "2020-11-02T14:30:34.510453Z",
     "iopub.status.busy": "2020-11-02T14:30:34.509574Z",
     "iopub.status.idle": "2020-11-02T14:30:34.516442Z",
     "shell.execute_reply": "2020-11-02T14:30:34.517734Z"
    },
    "papermill": {
     "duration": 0.041027,
     "end_time": "2020-11-02T14:30:34.517910",
     "exception": false,
     "start_time": "2020-11-02T14:30:34.476883",
     "status": "completed"
    },
    "tags": []
   },
   "outputs": [],
   "source": [
    "class SmoothCrossEntropyLoss(_WeightedLoss):\n",
    "    def __init__(self, weight=None, reduction='mean', smoothing=0.0):\n",
    "        super().__init__(weight=weight, reduction=reduction)\n",
    "        self.smoothing = smoothing\n",
    "        self.weight = weight\n",
    "        self.reduction = reduction\n",
    "\n",
    "    @staticmethod\n",
    "    def _smooth(targets, n_classes, smoothing=0.0):\n",
    "        assert 0 <= smoothing <= 1\n",
    "        with torch.no_grad():\n",
    "            targets = targets * (1 - smoothing) + torch.ones_like(targets).to(device) * smoothing / n_classes\n",
    "        return targets\n",
    "\n",
    "    def forward(self, inputs, targets):\n",
    "        targets = SmoothCrossEntropyLoss()._smooth(targets, inputs.shape[1], self.smoothing)\n",
    "\n",
    "        if self.weight is not None:\n",
    "            inputs = inputs * self.weight.unsqueeze(0)\n",
    "\n",
    "        loss = F.binary_cross_entropy_with_logits(inputs, targets)\n",
    "\n",
    "        return loss"
   ]
  },
  {
   "cell_type": "code",
   "execution_count": 16,
   "metadata": {
    "execution": {
     "iopub.execute_input": "2020-11-02T14:30:34.586433Z",
     "iopub.status.busy": "2020-11-02T14:30:34.585571Z",
     "iopub.status.idle": "2020-11-02T14:30:35.029809Z",
     "shell.execute_reply": "2020-11-02T14:30:35.028895Z"
    },
    "papermill": {
     "duration": 0.483119,
     "end_time": "2020-11-02T14:30:35.029972",
     "exception": false,
     "start_time": "2020-11-02T14:30:34.546853",
     "status": "completed"
    },
    "tags": []
   },
   "outputs": [
    {
     "name": "stdout",
     "output_type": "stream",
     "text": [
      "cuda\n"
     ]
    }
   ],
   "source": [
    "device = \"cuda\" if torch.cuda.is_available() else \"cpu\"\n",
    "\n",
    "print(device)\n",
    "def mean_log_loss(y_true, y_pred):\n",
    "    metrics = []\n",
    "    for i, target in enumerate(target_feats):\n",
    "        metrics.append(log_loss(y_true[:, i], y_pred[:, i].astype(float), labels=[0,1]))\n",
    "    return np.mean(metrics)\n",
    "\n",
    "def seed_everything(seed=42): \n",
    "    random.seed(seed)\n",
    "    os.environ['PYTHONHASHSEED'] = str(seed)\n",
    "    tf.random.set_seed(seed)\n",
    "    np.random.seed(seed)\n",
    "    torch.manual_seed(seed)\n",
    "    torch.cuda.manual_seed(seed)\n",
    "    torch.backends.cudnn.deterministic = True\n",
    "\n",
    "class MoaModel(nn.Module):\n",
    "    def __init__(self, num_columns, last_num):\n",
    "        super(MoaModel, self).__init__()\n",
    "        self.batch_norm1 = nn.BatchNorm1d(num_columns)\n",
    "        self.dropout1 = nn.Dropout(0.1)\n",
    "        self.dense1 = nn.utils.weight_norm(nn.Linear(num_columns, 1024))\n",
    "        self.relu1 = nn.LeakyReLU()\n",
    "        \n",
    "        self.batch_norm2 = nn.BatchNorm1d(1024)\n",
    "        self.dropout2 = nn.Dropout(0.1)\n",
    "        self.dense2 = nn.utils.weight_norm(nn.Linear(1024, 1024))\n",
    "        self.relu2 = nn.LeakyReLU()\n",
    "        \n",
    "        self.batch_norm3 = nn.BatchNorm1d(1024)\n",
    "        self.dropout3 = nn.Dropout(0.1)\n",
    "        self.dense3 = nn.utils.weight_norm(nn.Linear(1024, last_num))\n",
    "    \n",
    "    def forward(self, x):\n",
    "        x = self.batch_norm1(x)\n",
    "        x = self.dropout1(x)\n",
    "        x = self.relu1(self.dense1(x))\n",
    "        \n",
    "        x = self.batch_norm2(x)\n",
    "        x = self.dropout2(x)\n",
    "        x = self.relu2(self.dense2(x))\n",
    "        \n",
    "        x = self.batch_norm3(x)\n",
    "        x = self.dropout3(x)\n",
    "        x = self.dense3(x)\n",
    "        \n",
    "        return x"
   ]
  },
  {
   "cell_type": "markdown",
   "metadata": {
    "papermill": {
     "duration": 0.035228,
     "end_time": "2020-11-02T14:30:35.108204",
     "exception": false,
     "start_time": "2020-11-02T14:30:35.072976",
     "status": "completed"
    },
    "tags": []
   },
   "source": [
    "# modelling"
   ]
  },
  {
   "cell_type": "code",
   "execution_count": 17,
   "metadata": {
    "execution": {
     "iopub.execute_input": "2020-11-02T14:30:35.235765Z",
     "iopub.status.busy": "2020-11-02T14:30:35.211553Z",
     "iopub.status.idle": "2020-11-02T14:30:35.255206Z",
     "shell.execute_reply": "2020-11-02T14:30:35.255757Z"
    },
    "papermill": {
     "duration": 0.119267,
     "end_time": "2020-11-02T14:30:35.255900",
     "exception": false,
     "start_time": "2020-11-02T14:30:35.136633",
     "status": "completed"
    },
    "tags": []
   },
   "outputs": [],
   "source": [
    "batch_size = 128\n",
    "n_folds=5\n",
    "EARLY_STOPPING_STEPS = 10\n",
    "smoothing = 0.001\n",
    "p_min = smoothing\n",
    "p_max = 1 - smoothing\n",
    "\n",
    "def torch_tl(tr, target, te, sample_seed, init_num, files):\n",
    "    seed_everything(seed=sample_seed) \n",
    "    X_train = tr.copy()\n",
    "    y_train = target.copy()\n",
    "    X_test = te.copy()\n",
    "    test_len = X_test.shape[0]\n",
    "    \n",
    "    if files == []:\n",
    "        train_epochs = 10\n",
    "        mskf=MultilabelStratifiedKFold(n_splits = n_folds, shuffle=True, random_state=224)\n",
    "        ans = []\n",
    "    else:\n",
    "        train_epochs = 20\n",
    "        mskf=MultilabelStratifiedKFold(n_splits = n_folds, shuffle=True, random_state=2)\n",
    "        \n",
    "    metric = lambda inputs, targets : F.binary_cross_entropy((torch.clamp(torch.sigmoid(inputs), p_min, p_max)), targets)\n",
    "    models = []\n",
    "    \n",
    "    X_test = torch.tensor(X_test, dtype=torch.float32)\n",
    "    X_test = torch.utils.data.TensorDataset(X_test) \n",
    "    test_loader = torch.utils.data.DataLoader(X_test, batch_size=batch_size, shuffle=False)\n",
    "    \n",
    "    oof = np.zeros([len(X_train),y_train.shape[1]])\n",
    "    oof_targets = np.zeros([len(X_train),y_train.shape[1]])\n",
    "    pred_value = np.zeros([test_len, y_train.shape[1]])\n",
    "    scores = []\n",
    "    for fold, (train_index, valid_index) in enumerate(mskf.split(X_train, y_train)):\n",
    "        print(\"Fold \"+str(fold+1))\n",
    "        X_train2 = torch.tensor(X_train[train_index,:], dtype=torch.float32)\n",
    "        y_train2 = torch.tensor(y_train[train_index], dtype=torch.float32)\n",
    "\n",
    "        X_valid2 = torch.tensor(X_train[valid_index,:], dtype=torch.float32)\n",
    "        y_valid2 = torch.tensor(y_train[valid_index], dtype=torch.float32)\n",
    "        \n",
    "        train = torch.utils.data.TensorDataset(X_train2, y_train2)\n",
    "        valid = torch.utils.data.TensorDataset(X_valid2, y_valid2)\n",
    "                \n",
    "        train_loader = torch.utils.data.DataLoader(train, batch_size=batch_size, shuffle=True) \n",
    "        valid_loader = torch.utils.data.DataLoader(valid, batch_size=batch_size, shuffle=False)\n",
    "            \n",
    "        clf = MoaModel(init_num, len(non_target_feats)+len(target_feats))\n",
    "\n",
    "        loss_fn = SmoothCrossEntropyLoss(smoothing=smoothing)\n",
    "        if files != []:\n",
    "            clf.load_state_dict(torch.load(files[0]))\n",
    "            for param in clf.parameters():\n",
    "                param.requires_grad = False\n",
    "            # reinitialze\n",
    "            clf.dense3 = nn.utils.weight_norm(nn.Linear(1024, len(target_feats)))\n",
    "            for param in clf.dense3.parameters():\n",
    "                param.requires_grad = True\n",
    "            optimizer = optim.Adam(clf.parameters(), lr = 0.001, weight_decay=1e-5) \n",
    "            scheduler = optim.lr_scheduler.OneCycleLR(optimizer=optimizer, pct_start=0.1, div_factor=1e3, \n",
    "                                              max_lr=1e-2, epochs=train_epochs, steps_per_epoch=len(train_loader))\n",
    "        else:\n",
    "            optimizer = optim.Adam(clf.parameters(), lr = 0.001, weight_decay=1e-5) \n",
    "            scheduler = optim.lr_scheduler.OneCycleLR(optimizer=optimizer, pct_start=0.1, div_factor=1e3, \n",
    "                                              max_lr=1e-2, epochs=train_epochs, steps_per_epoch=len(train_loader))\n",
    "        \n",
    "        clf.to(device)\n",
    "        best_val_loss = np.inf\n",
    "        stop_counts = 0\n",
    "        \n",
    "        for epoch in range(train_epochs):\n",
    "            start_time = time.time()\n",
    "            clf.train()\n",
    "            avg_loss = 0.\n",
    "            sm_avg_loss = 0.\n",
    "            for x_batch, y_batch in tqdm(train_loader, disable=True):\n",
    "                x_batch = x_batch.to(device)\n",
    "                y_batch = y_batch.to(device)\n",
    "                y_pred = clf(x_batch) \n",
    "                loss = loss_fn(y_pred, y_batch)\n",
    "                optimizer.zero_grad()\n",
    "                loss.backward()\n",
    "                optimizer.step()\n",
    "                scheduler.step()\n",
    "                avg_loss += loss.item() / len(train_loader)  \n",
    "                sm_avg_loss += metric(y_pred, y_batch) / len(train_loader)      \n",
    "            \n",
    "            clf.eval()\n",
    "            avg_val_loss = 0.\n",
    "            sm_avg_val_loss = 0.\n",
    "\n",
    "            for i, (x_batch, y_batch) in enumerate(valid_loader): \n",
    "                x_batch = x_batch.to(device)\n",
    "                y_batch = y_batch.to(device)\n",
    "                y_pred = clf(x_batch).detach()\n",
    "                avg_val_loss += loss_fn(y_pred, y_batch).item() / len(valid_loader)\n",
    "                sm_avg_val_loss += metric(y_pred, y_batch) / len(valid_loader)\n",
    "                \n",
    "            elapsed_time = time.time() - start_time \n",
    "                    \n",
    "            if sm_avg_val_loss < best_val_loss:\n",
    "                stop_counts = 0\n",
    "                best_val_loss = sm_avg_val_loss\n",
    "                print('Best: Epoch {} \\t loss={:.5f} \\t val_loss={:.5f} \\t sm_loss={:.5f} \\t sm_val_loss={:.5f} \\t time={:.2f}s'.format(\n",
    "                    epoch + 1, avg_loss, avg_val_loss, sm_avg_loss, sm_avg_val_loss, elapsed_time))\n",
    "                if files == []:\n",
    "                    torch.save(clf.state_dict(), 'parameters'+str(fold+1)+'.pt')\n",
    "                else:    \n",
    "                    torch.save(clf.state_dict(), 'best-model-parameters.pt')\n",
    "            else:\n",
    "                stop_counts += 1\n",
    "           \n",
    "        if files == []:\n",
    "            pred_model = MoaModel(init_num, len(non_target_feats)+len(target_feats))\n",
    "            pred_model.load_state_dict(torch.load('parameters'+str(fold+1)+'.pt'))\n",
    "            if fold == 4:\n",
    "                ans.append('parameters'+str(fold+1)+'.pt')\n",
    "        else:\n",
    "            pred_model = MoaModel(init_num, len(target_feats))\n",
    "            pred_model.load_state_dict(torch.load('best-model-parameters.pt'))         \n",
    "        pred_model.eval()\n",
    "        \n",
    "        # validation check ----------------\n",
    "        oof_epoch = np.zeros([X_valid2.size(0), y_train.shape[1]])\n",
    "        target_epoch = np.zeros([X_valid2.size(0), y_train.shape[1]])\n",
    "        for i, (x_batch, y_batch) in enumerate(valid_loader): \n",
    "                y_pred = pred_model(x_batch).detach()\n",
    "                oof_epoch[i * batch_size:(i+1) * batch_size,:] = torch.clamp(torch.sigmoid(y_pred.cpu()), p_min, p_max)\n",
    "                target_epoch[i * batch_size:(i+1) * batch_size,:] = y_batch.cpu().numpy()\n",
    "        print(\"Fold {} log loss: {}\".format(fold+1, mean_log_loss(target_epoch, oof_epoch)))\n",
    "        scores.append(mean_log_loss(target_epoch, oof_epoch))\n",
    "        oof[valid_index,:] = oof_epoch\n",
    "        oof_targets[valid_index,:] = target_epoch\n",
    "        #-----------------------------------\n",
    "        \n",
    "        if files != []:\n",
    "            # test predcition --------------\n",
    "            test_preds = np.zeros([test_len, y_train.shape[1]])\n",
    "            for i, (x_batch,) in enumerate(test_loader): \n",
    "                y_pred = pred_model(x_batch).detach()\n",
    "                test_preds[i * batch_size:(i+1) * batch_size, :] = torch.clamp(torch.sigmoid(y_pred.cpu()), p_min, p_max)\n",
    "            pred_value += test_preds / n_folds\n",
    "            # ------------------------------\n",
    "        \n",
    "    print(\"Seed {}\".format(sample_seed))\n",
    "    for i, ele in enumerate(scores):\n",
    "        print(\"Fold {} log loss: {}\".format(i+1, scores[i]))\n",
    "    print(\"Std of log loss: {}\".format(np.std(scores)))\n",
    "    print(\"Total log loss: {}\".format(mean_log_loss(oof_targets, oof)))\n",
    "    \n",
    "    if files != []:\n",
    "        return oof, oof_targets, pred_value\n",
    "    else:\n",
    "        return ans"
   ]
  },
  {
   "cell_type": "code",
   "execution_count": 18,
   "metadata": {
    "execution": {
     "iopub.execute_input": "2020-11-02T14:30:35.312119Z",
     "iopub.status.busy": "2020-11-02T14:30:35.311223Z",
     "iopub.status.idle": "2020-11-02T14:37:15.646058Z",
     "shell.execute_reply": "2020-11-02T14:37:15.646556Z"
    },
    "papermill": {
     "duration": 400.367323,
     "end_time": "2020-11-02T14:37:15.646785",
     "exception": false,
     "start_time": "2020-11-02T14:30:35.279462",
     "status": "completed"
    },
    "tags": []
   },
   "outputs": [
    {
     "name": "stdout",
     "output_type": "stream",
     "text": [
      "Fold 1\n",
      "Best: Epoch 1 \t loss=0.28681 \t val_loss=0.01191 \t sm_loss=0.28679 \t sm_val_loss=0.01189 \t time=1.80s\n",
      "Best: Epoch 2 \t loss=0.01107 \t val_loss=0.01091 \t sm_loss=0.01110 \t sm_val_loss=0.01086 \t time=0.94s\n",
      "Best: Epoch 3 \t loss=0.01058 \t val_loss=0.01026 \t sm_loss=0.01068 \t sm_val_loss=0.01041 \t time=0.97s\n",
      "Best: Epoch 5 \t loss=0.01020 \t val_loss=0.01014 \t sm_loss=0.01036 \t sm_val_loss=0.01032 \t time=0.94s\n",
      "Best: Epoch 6 \t loss=0.01007 \t val_loss=0.01001 \t sm_loss=0.01024 \t sm_val_loss=0.01020 \t time=0.94s\n",
      "Best: Epoch 7 \t loss=0.00994 \t val_loss=0.00985 \t sm_loss=0.01011 \t sm_val_loss=0.01004 \t time=0.96s\n",
      "Best: Epoch 8 \t loss=0.00973 \t val_loss=0.00966 \t sm_loss=0.00991 \t sm_val_loss=0.00985 \t time=0.94s\n",
      "Best: Epoch 9 \t loss=0.00944 \t val_loss=0.00950 \t sm_loss=0.00963 \t sm_val_loss=0.00969 \t time=0.94s\n",
      "Best: Epoch 10 \t loss=0.00920 \t val_loss=0.00945 \t sm_loss=0.00941 \t sm_val_loss=0.00964 \t time=1.15s\n",
      "Fold 1 log loss: 0.01662170138916034\n",
      "Fold 2\n",
      "Best: Epoch 1 \t loss=0.28617 \t val_loss=0.01215 \t sm_loss=0.28614 \t sm_val_loss=0.01215 \t time=0.95s\n",
      "Best: Epoch 2 \t loss=0.01128 \t val_loss=0.01057 \t sm_loss=0.01128 \t sm_val_loss=0.01067 \t time=0.96s\n",
      "Best: Epoch 3 \t loss=0.01043 \t val_loss=0.01032 \t sm_loss=0.01055 \t sm_val_loss=0.01049 \t time=0.95s\n",
      "Best: Epoch 4 \t loss=0.01047 \t val_loss=0.01013 \t sm_loss=0.01060 \t sm_val_loss=0.01032 \t time=0.94s\n",
      "Best: Epoch 5 \t loss=0.01023 \t val_loss=0.00999 \t sm_loss=0.01039 \t sm_val_loss=0.01018 \t time=0.95s\n",
      "Best: Epoch 6 \t loss=0.01009 \t val_loss=0.00991 \t sm_loss=0.01026 \t sm_val_loss=0.01010 \t time=0.96s\n",
      "Best: Epoch 7 \t loss=0.00992 \t val_loss=0.00978 \t sm_loss=0.01009 \t sm_val_loss=0.00996 \t time=0.95s\n",
      "Best: Epoch 8 \t loss=0.00973 \t val_loss=0.00958 \t sm_loss=0.00991 \t sm_val_loss=0.00977 \t time=0.96s\n",
      "Best: Epoch 9 \t loss=0.00947 \t val_loss=0.00942 \t sm_loss=0.00966 \t sm_val_loss=0.00962 \t time=1.02s\n",
      "Best: Epoch 10 \t loss=0.00922 \t val_loss=0.00939 \t sm_loss=0.00944 \t sm_val_loss=0.00959 \t time=1.11s\n",
      "Fold 2 log loss: 0.0165247633721942\n",
      "Fold 3\n",
      "Best: Epoch 1 \t loss=0.28672 \t val_loss=0.01180 \t sm_loss=0.28670 \t sm_val_loss=0.01180 \t time=0.96s\n",
      "Best: Epoch 2 \t loss=0.01122 \t val_loss=0.01044 \t sm_loss=0.01123 \t sm_val_loss=0.01057 \t time=0.98s\n",
      "Best: Epoch 3 \t loss=0.01051 \t val_loss=0.01034 \t sm_loss=0.01064 \t sm_val_loss=0.01050 \t time=1.07s\n",
      "Best: Epoch 4 \t loss=0.01027 \t val_loss=0.01017 \t sm_loss=0.01042 \t sm_val_loss=0.01034 \t time=1.23s\n",
      "Best: Epoch 5 \t loss=0.01019 \t val_loss=0.01012 \t sm_loss=0.01034 \t sm_val_loss=0.01030 \t time=0.99s\n",
      "Best: Epoch 6 \t loss=0.01009 \t val_loss=0.00995 \t sm_loss=0.01025 \t sm_val_loss=0.01012 \t time=0.97s\n",
      "Best: Epoch 7 \t loss=0.00992 \t val_loss=0.00981 \t sm_loss=0.01008 \t sm_val_loss=0.00998 \t time=0.96s\n",
      "Best: Epoch 8 \t loss=0.00971 \t val_loss=0.00961 \t sm_loss=0.00989 \t sm_val_loss=0.00981 \t time=1.11s\n",
      "Best: Epoch 9 \t loss=0.00943 \t val_loss=0.00946 \t sm_loss=0.00962 \t sm_val_loss=0.00966 \t time=1.07s\n",
      "Best: Epoch 10 \t loss=0.00919 \t val_loss=0.00940 \t sm_loss=0.00939 \t sm_val_loss=0.00960 \t time=0.97s\n",
      "Fold 3 log loss: 0.016521083941555933\n",
      "Fold 4\n",
      "Best: Epoch 1 \t loss=0.28665 \t val_loss=0.01182 \t sm_loss=0.28664 \t sm_val_loss=0.01181 \t time=0.96s\n",
      "Best: Epoch 2 \t loss=0.01112 \t val_loss=0.01070 \t sm_loss=0.01114 \t sm_val_loss=0.01078 \t time=0.93s\n",
      "Best: Epoch 3 \t loss=0.01044 \t val_loss=0.01028 \t sm_loss=0.01056 \t sm_val_loss=0.01045 \t time=0.94s\n",
      "Best: Epoch 4 \t loss=0.01023 \t val_loss=0.01027 \t sm_loss=0.01039 \t sm_val_loss=0.01043 \t time=0.93s\n",
      "Best: Epoch 5 \t loss=0.01018 \t val_loss=0.01008 \t sm_loss=0.01034 \t sm_val_loss=0.01026 \t time=1.06s\n",
      "Best: Epoch 6 \t loss=0.01008 \t val_loss=0.00995 \t sm_loss=0.01024 \t sm_val_loss=0.01013 \t time=1.31s\n",
      "Best: Epoch 7 \t loss=0.00994 \t val_loss=0.00988 \t sm_loss=0.01010 \t sm_val_loss=0.01006 \t time=1.61s\n",
      "Best: Epoch 8 \t loss=0.00971 \t val_loss=0.00971 \t sm_loss=0.00989 \t sm_val_loss=0.00988 \t time=1.01s\n",
      "Best: Epoch 9 \t loss=0.00944 \t val_loss=0.00954 \t sm_loss=0.00964 \t sm_val_loss=0.00973 \t time=1.00s\n",
      "Best: Epoch 10 \t loss=0.00922 \t val_loss=0.00950 \t sm_loss=0.00943 \t sm_val_loss=0.00970 \t time=0.97s\n",
      "Fold 4 log loss: 0.01664419558550897\n",
      "Fold 5\n",
      "Best: Epoch 1 \t loss=0.28605 \t val_loss=0.01218 \t sm_loss=0.28602 \t sm_val_loss=0.01217 \t time=0.94s\n",
      "Best: Epoch 2 \t loss=0.01166 \t val_loss=0.01114 \t sm_loss=0.01163 \t sm_val_loss=0.01122 \t time=0.96s\n",
      "Best: Epoch 3 \t loss=0.01062 \t val_loss=0.01029 \t sm_loss=0.01075 \t sm_val_loss=0.01046 \t time=0.93s\n",
      "Best: Epoch 4 \t loss=0.01032 \t val_loss=0.01020 \t sm_loss=0.01048 \t sm_val_loss=0.01038 \t time=0.94s\n",
      "Best: Epoch 6 \t loss=0.01007 \t val_loss=0.00996 \t sm_loss=0.01024 \t sm_val_loss=0.01014 \t time=1.19s\n",
      "Best: Epoch 7 \t loss=0.00990 \t val_loss=0.00985 \t sm_loss=0.01007 \t sm_val_loss=0.01003 \t time=0.94s\n",
      "Best: Epoch 8 \t loss=0.00967 \t val_loss=0.00960 \t sm_loss=0.00985 \t sm_val_loss=0.00979 \t time=0.97s\n",
      "Best: Epoch 9 \t loss=0.00938 \t val_loss=0.00942 \t sm_loss=0.00958 \t sm_val_loss=0.00962 \t time=0.94s\n",
      "Best: Epoch 10 \t loss=0.00911 \t val_loss=0.00941 \t sm_loss=0.00933 \t sm_val_loss=0.00960 \t time=0.94s\n",
      "Fold 5 log loss: 0.01649330410221096\n",
      "Seed 0\n",
      "Fold 1 log loss: 0.01662170138916034\n",
      "Fold 2 log loss: 0.0165247633721942\n",
      "Fold 3 log loss: 0.016521083941555933\n",
      "Fold 4 log loss: 0.01664419558550897\n",
      "Fold 5 log loss: 0.01649330410221096\n",
      "Std of log loss: 6.0158595594903e-05\n",
      "Total log loss: 0.016561008564338713\n",
      "Fold 1\n",
      "Best: Epoch 1 \t loss=0.16989 \t val_loss=0.02012 \t sm_loss=0.16988 \t sm_val_loss=0.02011 \t time=0.63s\n",
      "Best: Epoch 2 \t loss=0.01830 \t val_loss=0.01677 \t sm_loss=0.01830 \t sm_val_loss=0.01680 \t time=0.62s\n",
      "Best: Epoch 3 \t loss=0.01665 \t val_loss=0.01610 \t sm_loss=0.01670 \t sm_val_loss=0.01617 \t time=0.86s\n",
      "Best: Epoch 4 \t loss=0.01618 \t val_loss=0.01587 \t sm_loss=0.01627 \t sm_val_loss=0.01597 \t time=0.63s\n",
      "Best: Epoch 5 \t loss=0.01598 \t val_loss=0.01575 \t sm_loss=0.01610 \t sm_val_loss=0.01588 \t time=0.63s\n",
      "Best: Epoch 6 \t loss=0.01592 \t val_loss=0.01567 \t sm_loss=0.01605 \t sm_val_loss=0.01582 \t time=0.62s\n",
      "Best: Epoch 9 \t loss=0.01576 \t val_loss=0.01561 \t sm_loss=0.01592 \t sm_val_loss=0.01578 \t time=0.63s\n",
      "Best: Epoch 10 \t loss=0.01571 \t val_loss=0.01561 \t sm_loss=0.01588 \t sm_val_loss=0.01577 \t time=0.62s\n",
      "Best: Epoch 11 \t loss=0.01566 \t val_loss=0.01555 \t sm_loss=0.01584 \t sm_val_loss=0.01572 \t time=0.63s\n",
      "Best: Epoch 12 \t loss=0.01566 \t val_loss=0.01552 \t sm_loss=0.01584 \t sm_val_loss=0.01569 \t time=0.62s\n",
      "Best: Epoch 13 \t loss=0.01559 \t val_loss=0.01550 \t sm_loss=0.01576 \t sm_val_loss=0.01567 \t time=0.64s\n",
      "Best: Epoch 14 \t loss=0.01551 \t val_loss=0.01549 \t sm_loss=0.01568 \t sm_val_loss=0.01566 \t time=0.62s\n",
      "Best: Epoch 15 \t loss=0.01542 \t val_loss=0.01540 \t sm_loss=0.01560 \t sm_val_loss=0.01557 \t time=0.63s\n",
      "Best: Epoch 16 \t loss=0.01536 \t val_loss=0.01538 \t sm_loss=0.01554 \t sm_val_loss=0.01555 \t time=0.62s\n",
      "Best: Epoch 17 \t loss=0.01536 \t val_loss=0.01535 \t sm_loss=0.01555 \t sm_val_loss=0.01552 \t time=0.62s\n",
      "Best: Epoch 18 \t loss=0.01530 \t val_loss=0.01531 \t sm_loss=0.01548 \t sm_val_loss=0.01549 \t time=0.65s\n",
      "Best: Epoch 19 \t loss=0.01527 \t val_loss=0.01531 \t sm_loss=0.01545 \t sm_val_loss=0.01548 \t time=0.67s\n",
      "Best: Epoch 20 \t loss=0.01519 \t val_loss=0.01531 \t sm_loss=0.01537 \t sm_val_loss=0.01548 \t time=0.83s\n",
      "Fold 1 log loss: 0.01557881195209194\n",
      "Fold 2\n",
      "Best: Epoch 1 \t loss=0.16937 \t val_loss=0.02010 \t sm_loss=0.16937 \t sm_val_loss=0.02009 \t time=0.65s\n",
      "Best: Epoch 2 \t loss=0.01841 \t val_loss=0.01673 \t sm_loss=0.01841 \t sm_val_loss=0.01676 \t time=0.62s\n",
      "Best: Epoch 3 \t loss=0.01668 \t val_loss=0.01610 \t sm_loss=0.01672 \t sm_val_loss=0.01617 \t time=0.64s\n",
      "Best: Epoch 4 \t loss=0.01622 \t val_loss=0.01584 \t sm_loss=0.01631 \t sm_val_loss=0.01594 \t time=0.63s\n",
      "Best: Epoch 5 \t loss=0.01602 \t val_loss=0.01572 \t sm_loss=0.01613 \t sm_val_loss=0.01586 \t time=0.62s\n",
      "Best: Epoch 7 \t loss=0.01587 \t val_loss=0.01564 \t sm_loss=0.01602 \t sm_val_loss=0.01579 \t time=0.62s\n",
      "Best: Epoch 8 \t loss=0.01578 \t val_loss=0.01562 \t sm_loss=0.01594 \t sm_val_loss=0.01577 \t time=0.62s\n",
      "Best: Epoch 9 \t loss=0.01575 \t val_loss=0.01555 \t sm_loss=0.01591 \t sm_val_loss=0.01571 \t time=0.62s\n",
      "Best: Epoch 12 \t loss=0.01565 \t val_loss=0.01553 \t sm_loss=0.01582 \t sm_val_loss=0.01570 \t time=0.62s\n",
      "Best: Epoch 13 \t loss=0.01565 \t val_loss=0.01546 \t sm_loss=0.01583 \t sm_val_loss=0.01564 \t time=0.75s\n",
      "Best: Epoch 14 \t loss=0.01554 \t val_loss=0.01545 \t sm_loss=0.01572 \t sm_val_loss=0.01562 \t time=0.75s\n",
      "Best: Epoch 15 \t loss=0.01550 \t val_loss=0.01538 \t sm_loss=0.01568 \t sm_val_loss=0.01554 \t time=0.64s\n",
      "Best: Epoch 16 \t loss=0.01541 \t val_loss=0.01535 \t sm_loss=0.01559 \t sm_val_loss=0.01552 \t time=0.63s\n",
      "Best: Epoch 17 \t loss=0.01534 \t val_loss=0.01534 \t sm_loss=0.01552 \t sm_val_loss=0.01551 \t time=0.66s\n",
      "Best: Epoch 18 \t loss=0.01526 \t val_loss=0.01529 \t sm_loss=0.01544 \t sm_val_loss=0.01546 \t time=0.63s\n",
      "Best: Epoch 19 \t loss=0.01529 \t val_loss=0.01526 \t sm_loss=0.01547 \t sm_val_loss=0.01544 \t time=0.64s\n",
      "Fold 2 log loss: 0.015489556571737898\n",
      "Fold 3\n",
      "Best: Epoch 1 \t loss=0.16675 \t val_loss=0.02005 \t sm_loss=0.16675 \t sm_val_loss=0.02004 \t time=0.63s\n",
      "Best: Epoch 2 \t loss=0.01834 \t val_loss=0.01678 \t sm_loss=0.01834 \t sm_val_loss=0.01680 \t time=0.63s\n",
      "Best: Epoch 3 \t loss=0.01673 \t val_loss=0.01597 \t sm_loss=0.01678 \t sm_val_loss=0.01605 \t time=0.63s\n",
      "Best: Epoch 4 \t loss=0.01624 \t val_loss=0.01577 \t sm_loss=0.01632 \t sm_val_loss=0.01587 \t time=0.62s\n",
      "Best: Epoch 5 \t loss=0.01605 \t val_loss=0.01565 \t sm_loss=0.01617 \t sm_val_loss=0.01578 \t time=0.63s\n",
      "Best: Epoch 6 \t loss=0.01594 \t val_loss=0.01555 \t sm_loss=0.01607 \t sm_val_loss=0.01569 \t time=0.66s\n",
      "Best: Epoch 7 \t loss=0.01590 \t val_loss=0.01548 \t sm_loss=0.01605 \t sm_val_loss=0.01562 \t time=0.82s\n",
      "Best: Epoch 10 \t loss=0.01580 \t val_loss=0.01545 \t sm_loss=0.01597 \t sm_val_loss=0.01561 \t time=0.64s\n",
      "Best: Epoch 12 \t loss=0.01571 \t val_loss=0.01531 \t sm_loss=0.01588 \t sm_val_loss=0.01547 \t time=0.67s\n",
      "Best: Epoch 14 \t loss=0.01558 \t val_loss=0.01527 \t sm_loss=0.01576 \t sm_val_loss=0.01545 \t time=0.63s\n",
      "Best: Epoch 15 \t loss=0.01554 \t val_loss=0.01525 \t sm_loss=0.01572 \t sm_val_loss=0.01543 \t time=0.66s\n",
      "Best: Epoch 16 \t loss=0.01552 \t val_loss=0.01518 \t sm_loss=0.01570 \t sm_val_loss=0.01536 \t time=0.63s\n",
      "Best: Epoch 18 \t loss=0.01538 \t val_loss=0.01515 \t sm_loss=0.01556 \t sm_val_loss=0.01532 \t time=0.67s\n",
      "Best: Epoch 19 \t loss=0.01529 \t val_loss=0.01513 \t sm_loss=0.01547 \t sm_val_loss=0.01530 \t time=0.90s\n",
      "Best: Epoch 20 \t loss=0.01524 \t val_loss=0.01512 \t sm_loss=0.01542 \t sm_val_loss=0.01530 \t time=0.67s\n",
      "Fold 3 log loss: 0.01529462326172643\n",
      "Fold 4\n",
      "Best: Epoch 1 \t loss=0.16758 \t val_loss=0.02003 \t sm_loss=0.16757 \t sm_val_loss=0.02002 \t time=0.63s\n",
      "Best: Epoch 2 \t loss=0.01846 \t val_loss=0.01664 \t sm_loss=0.01846 \t sm_val_loss=0.01667 \t time=0.62s\n",
      "Best: Epoch 3 \t loss=0.01671 \t val_loss=0.01599 \t sm_loss=0.01676 \t sm_val_loss=0.01606 \t time=0.67s\n",
      "Best: Epoch 4 \t loss=0.01619 \t val_loss=0.01574 \t sm_loss=0.01628 \t sm_val_loss=0.01584 \t time=0.63s\n",
      "Best: Epoch 5 \t loss=0.01605 \t val_loss=0.01561 \t sm_loss=0.01616 \t sm_val_loss=0.01573 \t time=0.63s\n",
      "Best: Epoch 6 \t loss=0.01593 \t val_loss=0.01557 \t sm_loss=0.01606 \t sm_val_loss=0.01571 \t time=0.63s\n",
      "Best: Epoch 7 \t loss=0.01582 \t val_loss=0.01555 \t sm_loss=0.01596 \t sm_val_loss=0.01570 \t time=0.62s\n",
      "Best: Epoch 10 \t loss=0.01579 \t val_loss=0.01554 \t sm_loss=0.01596 \t sm_val_loss=0.01569 \t time=0.63s\n",
      "Best: Epoch 11 \t loss=0.01573 \t val_loss=0.01553 \t sm_loss=0.01590 \t sm_val_loss=0.01569 \t time=0.63s\n",
      "Best: Epoch 12 \t loss=0.01572 \t val_loss=0.01544 \t sm_loss=0.01588 \t sm_val_loss=0.01562 \t time=0.63s\n",
      "Best: Epoch 14 \t loss=0.01558 \t val_loss=0.01535 \t sm_loss=0.01575 \t sm_val_loss=0.01552 \t time=0.63s\n",
      "Best: Epoch 15 \t loss=0.01550 \t val_loss=0.01530 \t sm_loss=0.01567 \t sm_val_loss=0.01548 \t time=0.64s\n",
      "Best: Epoch 16 \t loss=0.01546 \t val_loss=0.01528 \t sm_loss=0.01563 \t sm_val_loss=0.01546 \t time=0.83s\n",
      "Best: Epoch 17 \t loss=0.01537 \t val_loss=0.01522 \t sm_loss=0.01555 \t sm_val_loss=0.01540 \t time=0.65s\n",
      "Best: Epoch 18 \t loss=0.01533 \t val_loss=0.01520 \t sm_loss=0.01552 \t sm_val_loss=0.01538 \t time=0.63s\n",
      "Fold 4 log loss: 0.015433513981290945\n",
      "Fold 5\n",
      "Best: Epoch 1 \t loss=0.16921 \t val_loss=0.02031 \t sm_loss=0.16920 \t sm_val_loss=0.02030 \t time=0.63s\n",
      "Best: Epoch 2 \t loss=0.01835 \t val_loss=0.01688 \t sm_loss=0.01835 \t sm_val_loss=0.01691 \t time=0.62s\n",
      "Best: Epoch 3 \t loss=0.01665 \t val_loss=0.01624 \t sm_loss=0.01669 \t sm_val_loss=0.01631 \t time=0.63s\n",
      "Best: Epoch 4 \t loss=0.01621 \t val_loss=0.01592 \t sm_loss=0.01630 \t sm_val_loss=0.01603 \t time=0.63s\n",
      "Best: Epoch 5 \t loss=0.01603 \t val_loss=0.01588 \t sm_loss=0.01615 \t sm_val_loss=0.01601 \t time=0.62s\n",
      "Best: Epoch 6 \t loss=0.01584 \t val_loss=0.01577 \t sm_loss=0.01597 \t sm_val_loss=0.01591 \t time=0.63s\n",
      "Best: Epoch 7 \t loss=0.01581 \t val_loss=0.01574 \t sm_loss=0.01596 \t sm_val_loss=0.01590 \t time=0.64s\n",
      "Best: Epoch 8 \t loss=0.01580 \t val_loss=0.01572 \t sm_loss=0.01596 \t sm_val_loss=0.01587 \t time=0.63s\n",
      "Best: Epoch 9 \t loss=0.01576 \t val_loss=0.01569 \t sm_loss=0.01592 \t sm_val_loss=0.01586 \t time=0.84s\n",
      "Best: Epoch 11 \t loss=0.01564 \t val_loss=0.01566 \t sm_loss=0.01581 \t sm_val_loss=0.01583 \t time=0.64s\n",
      "Best: Epoch 12 \t loss=0.01563 \t val_loss=0.01564 \t sm_loss=0.01581 \t sm_val_loss=0.01580 \t time=0.63s\n",
      "Best: Epoch 13 \t loss=0.01560 \t val_loss=0.01557 \t sm_loss=0.01577 \t sm_val_loss=0.01575 \t time=0.63s\n",
      "Best: Epoch 14 \t loss=0.01554 \t val_loss=0.01555 \t sm_loss=0.01572 \t sm_val_loss=0.01571 \t time=0.62s\n",
      "Best: Epoch 15 \t loss=0.01547 \t val_loss=0.01549 \t sm_loss=0.01564 \t sm_val_loss=0.01566 \t time=0.62s\n",
      "Best: Epoch 16 \t loss=0.01542 \t val_loss=0.01544 \t sm_loss=0.01560 \t sm_val_loss=0.01562 \t time=0.63s\n",
      "Best: Epoch 17 \t loss=0.01534 \t val_loss=0.01544 \t sm_loss=0.01553 \t sm_val_loss=0.01561 \t time=0.63s\n",
      "Best: Epoch 18 \t loss=0.01529 \t val_loss=0.01539 \t sm_loss=0.01547 \t sm_val_loss=0.01556 \t time=0.64s\n",
      "Best: Epoch 19 \t loss=0.01523 \t val_loss=0.01539 \t sm_loss=0.01541 \t sm_val_loss=0.01556 \t time=0.63s\n",
      "Fold 5 log loss: 0.015564292849675995\n",
      "Seed 0\n",
      "Fold 1 log loss: 0.01557881195209194\n",
      "Fold 2 log loss: 0.015489556571737898\n",
      "Fold 3 log loss: 0.01529462326172643\n",
      "Fold 4 log loss: 0.015433513981290945\n",
      "Fold 5 log loss: 0.015564292849675995\n",
      "Std of log loss: 0.0001031295784740424\n",
      "Total log loss: 0.01547215473287386\n",
      "Fold 1\n",
      "Best: Epoch 1 \t loss=0.16712 \t val_loss=0.02016 \t sm_loss=0.16711 \t sm_val_loss=0.02015 \t time=0.65s\n",
      "Best: Epoch 2 \t loss=0.01831 \t val_loss=0.01682 \t sm_loss=0.01831 \t sm_val_loss=0.01684 \t time=0.65s\n",
      "Best: Epoch 3 \t loss=0.01662 \t val_loss=0.01611 \t sm_loss=0.01667 \t sm_val_loss=0.01618 \t time=0.67s\n",
      "Best: Epoch 4 \t loss=0.01621 \t val_loss=0.01582 \t sm_loss=0.01630 \t sm_val_loss=0.01592 \t time=0.65s\n",
      "Best: Epoch 5 \t loss=0.01601 \t val_loss=0.01577 \t sm_loss=0.01613 \t sm_val_loss=0.01590 \t time=0.66s\n",
      "Best: Epoch 6 \t loss=0.01583 \t val_loss=0.01569 \t sm_loss=0.01597 \t sm_val_loss=0.01583 \t time=0.62s\n",
      "Best: Epoch 7 \t loss=0.01582 \t val_loss=0.01565 \t sm_loss=0.01597 \t sm_val_loss=0.01580 \t time=0.62s\n",
      "Best: Epoch 11 \t loss=0.01566 \t val_loss=0.01561 \t sm_loss=0.01583 \t sm_val_loss=0.01577 \t time=0.63s\n",
      "Best: Epoch 13 \t loss=0.01558 \t val_loss=0.01547 \t sm_loss=0.01576 \t sm_val_loss=0.01565 \t time=0.63s\n",
      "Best: Epoch 15 \t loss=0.01547 \t val_loss=0.01543 \t sm_loss=0.01565 \t sm_val_loss=0.01560 \t time=0.93s\n",
      "Best: Epoch 16 \t loss=0.01543 \t val_loss=0.01540 \t sm_loss=0.01561 \t sm_val_loss=0.01557 \t time=0.62s\n",
      "Best: Epoch 17 \t loss=0.01537 \t val_loss=0.01535 \t sm_loss=0.01556 \t sm_val_loss=0.01552 \t time=0.62s\n",
      "Best: Epoch 18 \t loss=0.01525 \t val_loss=0.01533 \t sm_loss=0.01544 \t sm_val_loss=0.01551 \t time=0.78s\n",
      "Best: Epoch 19 \t loss=0.01520 \t val_loss=0.01534 \t sm_loss=0.01538 \t sm_val_loss=0.01550 \t time=0.78s\n",
      "Fold 1 log loss: 0.01560051274460089\n",
      "Fold 2\n",
      "Best: Epoch 1 \t loss=0.17126 \t val_loss=0.01999 \t sm_loss=0.17126 \t sm_val_loss=0.01998 \t time=0.63s\n",
      "Best: Epoch 2 \t loss=0.01841 \t val_loss=0.01675 \t sm_loss=0.01841 \t sm_val_loss=0.01678 \t time=0.62s\n",
      "Best: Epoch 3 \t loss=0.01667 \t val_loss=0.01614 \t sm_loss=0.01671 \t sm_val_loss=0.01621 \t time=0.80s\n",
      "Best: Epoch 4 \t loss=0.01623 \t val_loss=0.01581 \t sm_loss=0.01632 \t sm_val_loss=0.01591 \t time=0.80s\n",
      "Best: Epoch 5 \t loss=0.01605 \t val_loss=0.01571 \t sm_loss=0.01616 \t sm_val_loss=0.01585 \t time=0.64s\n",
      "Best: Epoch 6 \t loss=0.01593 \t val_loss=0.01565 \t sm_loss=0.01606 \t sm_val_loss=0.01580 \t time=0.66s\n",
      "Best: Epoch 10 \t loss=0.01571 \t val_loss=0.01555 \t sm_loss=0.01587 \t sm_val_loss=0.01572 \t time=0.65s\n",
      "Best: Epoch 12 \t loss=0.01561 \t val_loss=0.01549 \t sm_loss=0.01578 \t sm_val_loss=0.01566 \t time=0.63s\n",
      "Best: Epoch 13 \t loss=0.01559 \t val_loss=0.01547 \t sm_loss=0.01576 \t sm_val_loss=0.01564 \t time=0.66s\n",
      "Best: Epoch 14 \t loss=0.01555 \t val_loss=0.01546 \t sm_loss=0.01572 \t sm_val_loss=0.01562 \t time=0.63s\n",
      "Best: Epoch 15 \t loss=0.01550 \t val_loss=0.01540 \t sm_loss=0.01567 \t sm_val_loss=0.01557 \t time=0.67s\n",
      "Best: Epoch 16 \t loss=0.01544 \t val_loss=0.01536 \t sm_loss=0.01562 \t sm_val_loss=0.01554 \t time=0.69s\n",
      "Best: Epoch 17 \t loss=0.01535 \t val_loss=0.01534 \t sm_loss=0.01553 \t sm_val_loss=0.01551 \t time=0.63s\n",
      "Best: Epoch 18 \t loss=0.01528 \t val_loss=0.01531 \t sm_loss=0.01546 \t sm_val_loss=0.01548 \t time=0.63s\n",
      "Best: Epoch 19 \t loss=0.01524 \t val_loss=0.01529 \t sm_loss=0.01542 \t sm_val_loss=0.01546 \t time=0.63s\n",
      "Best: Epoch 20 \t loss=0.01521 \t val_loss=0.01528 \t sm_loss=0.01540 \t sm_val_loss=0.01545 \t time=0.64s\n",
      "Fold 2 log loss: 0.015502867985608926\n",
      "Fold 3\n",
      "Best: Epoch 1 \t loss=0.17074 \t val_loss=0.02011 \t sm_loss=0.17074 \t sm_val_loss=0.02011 \t time=0.81s\n",
      "Best: Epoch 2 \t loss=0.01841 \t val_loss=0.01675 \t sm_loss=0.01842 \t sm_val_loss=0.01678 \t time=0.63s\n",
      "Best: Epoch 3 \t loss=0.01677 \t val_loss=0.01593 \t sm_loss=0.01682 \t sm_val_loss=0.01601 \t time=0.64s\n",
      "Best: Epoch 4 \t loss=0.01629 \t val_loss=0.01571 \t sm_loss=0.01637 \t sm_val_loss=0.01582 \t time=0.64s\n",
      "Best: Epoch 5 \t loss=0.01608 \t val_loss=0.01564 \t sm_loss=0.01619 \t sm_val_loss=0.01577 \t time=0.63s\n",
      "Best: Epoch 6 \t loss=0.01596 \t val_loss=0.01555 \t sm_loss=0.01609 \t sm_val_loss=0.01569 \t time=0.62s\n",
      "Best: Epoch 7 \t loss=0.01589 \t val_loss=0.01546 \t sm_loss=0.01603 \t sm_val_loss=0.01561 \t time=0.62s\n",
      "Best: Epoch 8 \t loss=0.01584 \t val_loss=0.01543 \t sm_loss=0.01600 \t sm_val_loss=0.01559 \t time=0.63s\n",
      "Best: Epoch 11 \t loss=0.01575 \t val_loss=0.01536 \t sm_loss=0.01592 \t sm_val_loss=0.01552 \t time=0.62s\n",
      "Best: Epoch 14 \t loss=0.01559 \t val_loss=0.01530 \t sm_loss=0.01577 \t sm_val_loss=0.01546 \t time=0.62s\n",
      "Best: Epoch 15 \t loss=0.01553 \t val_loss=0.01521 \t sm_loss=0.01570 \t sm_val_loss=0.01539 \t time=0.62s\n",
      "Best: Epoch 16 \t loss=0.01549 \t val_loss=0.01519 \t sm_loss=0.01566 \t sm_val_loss=0.01537 \t time=0.63s\n",
      "Best: Epoch 17 \t loss=0.01544 \t val_loss=0.01516 \t sm_loss=0.01562 \t sm_val_loss=0.01534 \t time=0.81s\n",
      "Best: Epoch 18 \t loss=0.01534 \t val_loss=0.01515 \t sm_loss=0.01552 \t sm_val_loss=0.01533 \t time=0.72s\n",
      "Best: Epoch 19 \t loss=0.01531 \t val_loss=0.01515 \t sm_loss=0.01550 \t sm_val_loss=0.01532 \t time=0.87s\n",
      "Fold 3 log loss: 0.015320762762877685\n",
      "Fold 4\n",
      "Best: Epoch 1 \t loss=0.17184 \t val_loss=0.01999 \t sm_loss=0.17184 \t sm_val_loss=0.01998 \t time=0.64s\n",
      "Best: Epoch 2 \t loss=0.01834 \t val_loss=0.01666 \t sm_loss=0.01835 \t sm_val_loss=0.01669 \t time=0.62s\n",
      "Best: Epoch 3 \t loss=0.01668 \t val_loss=0.01596 \t sm_loss=0.01673 \t sm_val_loss=0.01604 \t time=0.63s\n",
      "Best: Epoch 4 \t loss=0.01627 \t val_loss=0.01585 \t sm_loss=0.01636 \t sm_val_loss=0.01595 \t time=0.63s\n",
      "Best: Epoch 5 \t loss=0.01602 \t val_loss=0.01566 \t sm_loss=0.01614 \t sm_val_loss=0.01579 \t time=0.62s\n",
      "Best: Epoch 6 \t loss=0.01585 \t val_loss=0.01561 \t sm_loss=0.01598 \t sm_val_loss=0.01575 \t time=0.63s\n",
      "Best: Epoch 7 \t loss=0.01585 \t val_loss=0.01559 \t sm_loss=0.01600 \t sm_val_loss=0.01574 \t time=0.63s\n",
      "Best: Epoch 8 \t loss=0.01579 \t val_loss=0.01555 \t sm_loss=0.01595 \t sm_val_loss=0.01571 \t time=0.62s\n",
      "Best: Epoch 9 \t loss=0.01582 \t val_loss=0.01551 \t sm_loss=0.01598 \t sm_val_loss=0.01569 \t time=0.63s\n",
      "Best: Epoch 10 \t loss=0.01577 \t val_loss=0.01547 \t sm_loss=0.01593 \t sm_val_loss=0.01564 \t time=0.72s\n",
      "Best: Epoch 13 \t loss=0.01563 \t val_loss=0.01543 \t sm_loss=0.01579 \t sm_val_loss=0.01560 \t time=0.64s\n",
      "Best: Epoch 14 \t loss=0.01558 \t val_loss=0.01534 \t sm_loss=0.01576 \t sm_val_loss=0.01551 \t time=0.65s\n",
      "Best: Epoch 15 \t loss=0.01550 \t val_loss=0.01532 \t sm_loss=0.01568 \t sm_val_loss=0.01549 \t time=0.65s\n",
      "Best: Epoch 16 \t loss=0.01539 \t val_loss=0.01525 \t sm_loss=0.01557 \t sm_val_loss=0.01543 \t time=0.70s\n",
      "Best: Epoch 17 \t loss=0.01533 \t val_loss=0.01524 \t sm_loss=0.01551 \t sm_val_loss=0.01541 \t time=0.63s\n",
      "Best: Epoch 18 \t loss=0.01535 \t val_loss=0.01523 \t sm_loss=0.01553 \t sm_val_loss=0.01540 \t time=0.64s\n",
      "Best: Epoch 19 \t loss=0.01523 \t val_loss=0.01519 \t sm_loss=0.01542 \t sm_val_loss=0.01537 \t time=0.63s\n",
      "Best: Epoch 20 \t loss=0.01526 \t val_loss=0.01519 \t sm_loss=0.01545 \t sm_val_loss=0.01536 \t time=0.62s\n",
      "Fold 4 log loss: 0.015420412355311093\n",
      "Fold 5\n",
      "Best: Epoch 1 \t loss=0.16966 \t val_loss=0.02041 \t sm_loss=0.16965 \t sm_val_loss=0.02040 \t time=0.62s\n",
      "Best: Epoch 2 \t loss=0.01840 \t val_loss=0.01688 \t sm_loss=0.01841 \t sm_val_loss=0.01691 \t time=0.65s\n",
      "Best: Epoch 3 \t loss=0.01668 \t val_loss=0.01620 \t sm_loss=0.01673 \t sm_val_loss=0.01628 \t time=0.63s\n",
      "Best: Epoch 4 \t loss=0.01619 \t val_loss=0.01597 \t sm_loss=0.01627 \t sm_val_loss=0.01607 \t time=0.82s\n",
      "Best: Epoch 5 \t loss=0.01600 \t val_loss=0.01587 \t sm_loss=0.01612 \t sm_val_loss=0.01600 \t time=0.65s\n",
      "Best: Epoch 6 \t loss=0.01589 \t val_loss=0.01575 \t sm_loss=0.01602 \t sm_val_loss=0.01589 \t time=0.62s\n",
      "Best: Epoch 8 \t loss=0.01578 \t val_loss=0.01571 \t sm_loss=0.01594 \t sm_val_loss=0.01587 \t time=0.62s\n",
      "Best: Epoch 10 \t loss=0.01567 \t val_loss=0.01566 \t sm_loss=0.01584 \t sm_val_loss=0.01583 \t time=0.66s\n",
      "Best: Epoch 12 \t loss=0.01564 \t val_loss=0.01564 \t sm_loss=0.01581 \t sm_val_loss=0.01580 \t time=0.65s\n",
      "Best: Epoch 13 \t loss=0.01560 \t val_loss=0.01558 \t sm_loss=0.01578 \t sm_val_loss=0.01575 \t time=0.73s\n",
      "Best: Epoch 14 \t loss=0.01555 \t val_loss=0.01554 \t sm_loss=0.01573 \t sm_val_loss=0.01570 \t time=0.79s\n",
      "Best: Epoch 15 \t loss=0.01547 \t val_loss=0.01552 \t sm_loss=0.01565 \t sm_val_loss=0.01568 \t time=0.74s\n",
      "Best: Epoch 16 \t loss=0.01540 \t val_loss=0.01544 \t sm_loss=0.01558 \t sm_val_loss=0.01562 \t time=0.63s\n",
      "Best: Epoch 17 \t loss=0.01531 \t val_loss=0.01541 \t sm_loss=0.01549 \t sm_val_loss=0.01559 \t time=0.67s\n",
      "Best: Epoch 18 \t loss=0.01530 \t val_loss=0.01538 \t sm_loss=0.01548 \t sm_val_loss=0.01556 \t time=0.70s\n",
      "Best: Epoch 20 \t loss=0.01521 \t val_loss=0.01538 \t sm_loss=0.01539 \t sm_val_loss=0.01555 \t time=1.31s\n",
      "Fold 5 log loss: 0.015557088412021853\n",
      "Seed 1\n",
      "Fold 1 log loss: 0.01560051274460089\n",
      "Fold 2 log loss: 0.015502867985608926\n",
      "Fold 3 log loss: 0.015320762762877685\n",
      "Fold 4 log loss: 0.015420412355311093\n",
      "Fold 5 log loss: 0.015557088412021853\n",
      "Std of log loss: 9.989547938976442e-05\n",
      "Total log loss: 0.015480324327813383\n",
      "Fold 1\n",
      "Best: Epoch 1 \t loss=0.17127 \t val_loss=0.02008 \t sm_loss=0.17127 \t sm_val_loss=0.02007 \t time=0.75s\n",
      "Best: Epoch 2 \t loss=0.01835 \t val_loss=0.01686 \t sm_loss=0.01836 \t sm_val_loss=0.01688 \t time=0.72s\n",
      "Best: Epoch 3 \t loss=0.01666 \t val_loss=0.01615 \t sm_loss=0.01671 \t sm_val_loss=0.01622 \t time=0.75s\n",
      "Best: Epoch 4 \t loss=0.01622 \t val_loss=0.01593 \t sm_loss=0.01631 \t sm_val_loss=0.01603 \t time=0.74s\n",
      "Best: Epoch 5 \t loss=0.01600 \t val_loss=0.01576 \t sm_loss=0.01611 \t sm_val_loss=0.01588 \t time=0.72s\n",
      "Best: Epoch 6 \t loss=0.01589 \t val_loss=0.01574 \t sm_loss=0.01603 \t sm_val_loss=0.01587 \t time=0.84s\n",
      "Best: Epoch 7 \t loss=0.01580 \t val_loss=0.01566 \t sm_loss=0.01595 \t sm_val_loss=0.01580 \t time=0.71s\n",
      "Best: Epoch 9 \t loss=0.01573 \t val_loss=0.01556 \t sm_loss=0.01590 \t sm_val_loss=0.01573 \t time=0.65s\n",
      "Best: Epoch 11 \t loss=0.01565 \t val_loss=0.01551 \t sm_loss=0.01582 \t sm_val_loss=0.01568 \t time=0.80s\n",
      "Best: Epoch 13 \t loss=0.01564 \t val_loss=0.01549 \t sm_loss=0.01582 \t sm_val_loss=0.01565 \t time=0.64s\n",
      "Best: Epoch 15 \t loss=0.01548 \t val_loss=0.01541 \t sm_loss=0.01566 \t sm_val_loss=0.01559 \t time=0.63s\n",
      "Best: Epoch 16 \t loss=0.01537 \t val_loss=0.01538 \t sm_loss=0.01555 \t sm_val_loss=0.01555 \t time=0.63s\n",
      "Best: Epoch 17 \t loss=0.01535 \t val_loss=0.01537 \t sm_loss=0.01553 \t sm_val_loss=0.01554 \t time=0.64s\n",
      "Best: Epoch 18 \t loss=0.01528 \t val_loss=0.01533 \t sm_loss=0.01546 \t sm_val_loss=0.01550 \t time=0.65s\n",
      "Best: Epoch 19 \t loss=0.01522 \t val_loss=0.01529 \t sm_loss=0.01541 \t sm_val_loss=0.01547 \t time=0.63s\n",
      "Fold 1 log loss: 0.015571409640866545\n",
      "Fold 2\n",
      "Best: Epoch 1 \t loss=0.16861 \t val_loss=0.02016 \t sm_loss=0.16861 \t sm_val_loss=0.02016 \t time=0.67s\n",
      "Best: Epoch 2 \t loss=0.01839 \t val_loss=0.01675 \t sm_loss=0.01840 \t sm_val_loss=0.01678 \t time=0.64s\n",
      "Best: Epoch 3 \t loss=0.01666 \t val_loss=0.01605 \t sm_loss=0.01671 \t sm_val_loss=0.01613 \t time=0.63s\n",
      "Best: Epoch 4 \t loss=0.01621 \t val_loss=0.01583 \t sm_loss=0.01630 \t sm_val_loss=0.01593 \t time=0.62s\n",
      "Best: Epoch 5 \t loss=0.01599 \t val_loss=0.01579 \t sm_loss=0.01610 \t sm_val_loss=0.01592 \t time=0.63s\n",
      "Best: Epoch 6 \t loss=0.01588 \t val_loss=0.01574 \t sm_loss=0.01602 \t sm_val_loss=0.01588 \t time=0.63s\n",
      "Best: Epoch 7 \t loss=0.01582 \t val_loss=0.01561 \t sm_loss=0.01597 \t sm_val_loss=0.01576 \t time=0.63s\n",
      "Best: Epoch 9 \t loss=0.01581 \t val_loss=0.01561 \t sm_loss=0.01597 \t sm_val_loss=0.01576 \t time=0.62s\n",
      "Best: Epoch 10 \t loss=0.01570 \t val_loss=0.01552 \t sm_loss=0.01587 \t sm_val_loss=0.01568 \t time=0.63s\n",
      "Best: Epoch 13 \t loss=0.01559 \t val_loss=0.01548 \t sm_loss=0.01577 \t sm_val_loss=0.01565 \t time=0.63s\n",
      "Best: Epoch 14 \t loss=0.01556 \t val_loss=0.01547 \t sm_loss=0.01573 \t sm_val_loss=0.01564 \t time=0.85s\n",
      "Best: Epoch 15 \t loss=0.01548 \t val_loss=0.01540 \t sm_loss=0.01566 \t sm_val_loss=0.01556 \t time=1.08s\n",
      "Best: Epoch 16 \t loss=0.01544 \t val_loss=0.01535 \t sm_loss=0.01562 \t sm_val_loss=0.01552 \t time=0.63s\n",
      "Best: Epoch 17 \t loss=0.01536 \t val_loss=0.01532 \t sm_loss=0.01554 \t sm_val_loss=0.01549 \t time=0.64s\n",
      "Best: Epoch 18 \t loss=0.01529 \t val_loss=0.01531 \t sm_loss=0.01547 \t sm_val_loss=0.01548 \t time=0.63s\n",
      "Best: Epoch 19 \t loss=0.01525 \t val_loss=0.01528 \t sm_loss=0.01543 \t sm_val_loss=0.01545 \t time=0.63s\n",
      "Fold 2 log loss: 0.015501404864430869\n",
      "Fold 3\n",
      "Best: Epoch 1 \t loss=0.16864 \t val_loss=0.02022 \t sm_loss=0.16863 \t sm_val_loss=0.02021 \t time=0.63s\n",
      "Best: Epoch 2 \t loss=0.01843 \t val_loss=0.01682 \t sm_loss=0.01844 \t sm_val_loss=0.01684 \t time=0.64s\n",
      "Best: Epoch 3 \t loss=0.01671 \t val_loss=0.01604 \t sm_loss=0.01676 \t sm_val_loss=0.01611 \t time=0.62s\n",
      "Best: Epoch 4 \t loss=0.01625 \t val_loss=0.01579 \t sm_loss=0.01634 \t sm_val_loss=0.01589 \t time=0.64s\n",
      "Best: Epoch 5 \t loss=0.01608 \t val_loss=0.01560 \t sm_loss=0.01620 \t sm_val_loss=0.01573 \t time=0.63s\n",
      "Best: Epoch 6 \t loss=0.01594 \t val_loss=0.01555 \t sm_loss=0.01607 \t sm_val_loss=0.01569 \t time=0.69s\n",
      "Best: Epoch 9 \t loss=0.01583 \t val_loss=0.01550 \t sm_loss=0.01598 \t sm_val_loss=0.01568 \t time=0.61s\n",
      "Best: Epoch 10 \t loss=0.01576 \t val_loss=0.01542 \t sm_loss=0.01593 \t sm_val_loss=0.01560 \t time=0.62s\n",
      "Best: Epoch 11 \t loss=0.01574 \t val_loss=0.01541 \t sm_loss=0.01591 \t sm_val_loss=0.01557 \t time=0.65s\n",
      "Best: Epoch 12 \t loss=0.01569 \t val_loss=0.01534 \t sm_loss=0.01586 \t sm_val_loss=0.01551 \t time=0.61s\n",
      "Best: Epoch 14 \t loss=0.01565 \t val_loss=0.01529 \t sm_loss=0.01582 \t sm_val_loss=0.01547 \t time=0.62s\n",
      "Best: Epoch 15 \t loss=0.01560 \t val_loss=0.01528 \t sm_loss=0.01577 \t sm_val_loss=0.01545 \t time=0.62s\n",
      "Best: Epoch 16 \t loss=0.01552 \t val_loss=0.01525 \t sm_loss=0.01570 \t sm_val_loss=0.01543 \t time=0.63s\n",
      "Best: Epoch 17 \t loss=0.01538 \t val_loss=0.01519 \t sm_loss=0.01556 \t sm_val_loss=0.01536 \t time=0.62s\n",
      "Best: Epoch 18 \t loss=0.01535 \t val_loss=0.01512 \t sm_loss=0.01553 \t sm_val_loss=0.01530 \t time=0.62s\n",
      "Best: Epoch 19 \t loss=0.01533 \t val_loss=0.01513 \t sm_loss=0.01551 \t sm_val_loss=0.01530 \t time=0.65s\n",
      "Fold 3 log loss: 0.015297710389699378\n",
      "Fold 4\n",
      "Best: Epoch 1 \t loss=0.17035 \t val_loss=0.02001 \t sm_loss=0.17034 \t sm_val_loss=0.02000 \t time=0.62s\n",
      "Best: Epoch 2 \t loss=0.01843 \t val_loss=0.01670 \t sm_loss=0.01843 \t sm_val_loss=0.01672 \t time=0.87s\n",
      "Best: Epoch 3 \t loss=0.01671 \t val_loss=0.01596 \t sm_loss=0.01676 \t sm_val_loss=0.01603 \t time=0.62s\n",
      "Best: Epoch 4 \t loss=0.01627 \t val_loss=0.01573 \t sm_loss=0.01636 \t sm_val_loss=0.01583 \t time=0.63s\n",
      "Best: Epoch 6 \t loss=0.01591 \t val_loss=0.01563 \t sm_loss=0.01604 \t sm_val_loss=0.01576 \t time=0.61s\n",
      "Best: Epoch 7 \t loss=0.01582 \t val_loss=0.01558 \t sm_loss=0.01596 \t sm_val_loss=0.01572 \t time=0.63s\n",
      "Best: Epoch 8 \t loss=0.01579 \t val_loss=0.01551 \t sm_loss=0.01595 \t sm_val_loss=0.01567 \t time=0.62s\n",
      "Best: Epoch 10 \t loss=0.01572 \t val_loss=0.01548 \t sm_loss=0.01589 \t sm_val_loss=0.01565 \t time=0.61s\n",
      "Best: Epoch 11 \t loss=0.01574 \t val_loss=0.01545 \t sm_loss=0.01591 \t sm_val_loss=0.01562 \t time=0.61s\n",
      "Best: Epoch 14 \t loss=0.01554 \t val_loss=0.01534 \t sm_loss=0.01572 \t sm_val_loss=0.01552 \t time=0.62s\n",
      "Best: Epoch 15 \t loss=0.01549 \t val_loss=0.01533 \t sm_loss=0.01566 \t sm_val_loss=0.01551 \t time=0.79s\n",
      "Best: Epoch 16 \t loss=0.01544 \t val_loss=0.01531 \t sm_loss=0.01562 \t sm_val_loss=0.01548 \t time=1.26s\n",
      "Best: Epoch 17 \t loss=0.01535 \t val_loss=0.01524 \t sm_loss=0.01553 \t sm_val_loss=0.01542 \t time=0.90s\n",
      "Best: Epoch 18 \t loss=0.01532 \t val_loss=0.01519 \t sm_loss=0.01550 \t sm_val_loss=0.01537 \t time=0.67s\n",
      "Best: Epoch 20 \t loss=0.01525 \t val_loss=0.01519 \t sm_loss=0.01544 \t sm_val_loss=0.01536 \t time=0.67s\n",
      "Fold 4 log loss: 0.015424361484083911\n",
      "Fold 5\n",
      "Best: Epoch 1 \t loss=0.16785 \t val_loss=0.02025 \t sm_loss=0.16784 \t sm_val_loss=0.02024 \t time=0.64s\n",
      "Best: Epoch 2 \t loss=0.01834 \t val_loss=0.01690 \t sm_loss=0.01835 \t sm_val_loss=0.01693 \t time=0.62s\n",
      "Best: Epoch 3 \t loss=0.01666 \t val_loss=0.01621 \t sm_loss=0.01671 \t sm_val_loss=0.01629 \t time=0.63s\n",
      "Best: Epoch 4 \t loss=0.01618 \t val_loss=0.01596 \t sm_loss=0.01626 \t sm_val_loss=0.01607 \t time=0.69s\n",
      "Best: Epoch 5 \t loss=0.01597 \t val_loss=0.01582 \t sm_loss=0.01609 \t sm_val_loss=0.01595 \t time=0.63s\n",
      "Best: Epoch 6 \t loss=0.01588 \t val_loss=0.01581 \t sm_loss=0.01601 \t sm_val_loss=0.01595 \t time=0.62s\n",
      "Best: Epoch 7 \t loss=0.01580 \t val_loss=0.01576 \t sm_loss=0.01595 \t sm_val_loss=0.01591 \t time=0.62s\n",
      "Best: Epoch 9 \t loss=0.01574 \t val_loss=0.01573 \t sm_loss=0.01590 \t sm_val_loss=0.01590 \t time=0.61s\n",
      "Best: Epoch 11 \t loss=0.01569 \t val_loss=0.01564 \t sm_loss=0.01585 \t sm_val_loss=0.01581 \t time=0.62s\n",
      "Best: Epoch 12 \t loss=0.01560 \t val_loss=0.01563 \t sm_loss=0.01577 \t sm_val_loss=0.01580 \t time=0.63s\n",
      "Best: Epoch 13 \t loss=0.01563 \t val_loss=0.01557 \t sm_loss=0.01581 \t sm_val_loss=0.01575 \t time=0.62s\n",
      "Best: Epoch 14 \t loss=0.01555 \t val_loss=0.01555 \t sm_loss=0.01572 \t sm_val_loss=0.01571 \t time=0.63s\n",
      "Best: Epoch 16 \t loss=0.01545 \t val_loss=0.01548 \t sm_loss=0.01563 \t sm_val_loss=0.01566 \t time=0.62s\n",
      "Best: Epoch 17 \t loss=0.01535 \t val_loss=0.01542 \t sm_loss=0.01553 \t sm_val_loss=0.01559 \t time=0.62s\n",
      "Best: Epoch 18 \t loss=0.01529 \t val_loss=0.01538 \t sm_loss=0.01547 \t sm_val_loss=0.01556 \t time=0.62s\n",
      "Best: Epoch 20 \t loss=0.01517 \t val_loss=0.01537 \t sm_loss=0.01536 \t sm_val_loss=0.01554 \t time=0.64s\n",
      "Fold 5 log loss: 0.015547119681466796\n",
      "Seed 2\n",
      "Fold 1 log loss: 0.015571409640866545\n",
      "Fold 2 log loss: 0.015501404864430869\n",
      "Fold 3 log loss: 0.015297710389699378\n",
      "Fold 4 log loss: 0.015424361484083911\n",
      "Fold 5 log loss: 0.015547119681466796\n",
      "Std of log loss: 9.896608447252254e-05\n",
      "Total log loss: 0.0154683961217996\n",
      "Fold 1\n",
      "Best: Epoch 1 \t loss=0.16843 \t val_loss=0.02020 \t sm_loss=0.16842 \t sm_val_loss=0.02019 \t time=0.62s\n",
      "Best: Epoch 2 \t loss=0.01842 \t val_loss=0.01674 \t sm_loss=0.01842 \t sm_val_loss=0.01677 \t time=0.62s\n",
      "Best: Epoch 3 \t loss=0.01669 \t val_loss=0.01608 \t sm_loss=0.01674 \t sm_val_loss=0.01616 \t time=0.61s\n",
      "Best: Epoch 4 \t loss=0.01619 \t val_loss=0.01586 \t sm_loss=0.01627 \t sm_val_loss=0.01597 \t time=0.62s\n",
      "Best: Epoch 5 \t loss=0.01598 \t val_loss=0.01579 \t sm_loss=0.01609 \t sm_val_loss=0.01592 \t time=0.62s\n",
      "Best: Epoch 6 \t loss=0.01588 \t val_loss=0.01570 \t sm_loss=0.01602 \t sm_val_loss=0.01584 \t time=0.62s\n",
      "Best: Epoch 7 \t loss=0.01582 \t val_loss=0.01566 \t sm_loss=0.01597 \t sm_val_loss=0.01582 \t time=0.63s\n",
      "Best: Epoch 8 \t loss=0.01579 \t val_loss=0.01564 \t sm_loss=0.01595 \t sm_val_loss=0.01580 \t time=0.64s\n",
      "Best: Epoch 10 \t loss=0.01573 \t val_loss=0.01559 \t sm_loss=0.01590 \t sm_val_loss=0.01576 \t time=0.62s\n",
      "Best: Epoch 11 \t loss=0.01567 \t val_loss=0.01552 \t sm_loss=0.01584 \t sm_val_loss=0.01570 \t time=0.65s\n",
      "Best: Epoch 14 \t loss=0.01551 \t val_loss=0.01543 \t sm_loss=0.01569 \t sm_val_loss=0.01560 \t time=0.62s\n",
      "Best: Epoch 15 \t loss=0.01547 \t val_loss=0.01543 \t sm_loss=0.01565 \t sm_val_loss=0.01560 \t time=0.62s\n",
      "Best: Epoch 16 \t loss=0.01545 \t val_loss=0.01534 \t sm_loss=0.01564 \t sm_val_loss=0.01552 \t time=0.85s\n",
      "Best: Epoch 18 \t loss=0.01531 \t val_loss=0.01532 \t sm_loss=0.01550 \t sm_val_loss=0.01549 \t time=0.64s\n",
      "Best: Epoch 19 \t loss=0.01524 \t val_loss=0.01530 \t sm_loss=0.01542 \t sm_val_loss=0.01548 \t time=0.63s\n",
      "Best: Epoch 20 \t loss=0.01521 \t val_loss=0.01529 \t sm_loss=0.01540 \t sm_val_loss=0.01546 \t time=0.63s\n",
      "Fold 1 log loss: 0.015562696167075145\n",
      "Fold 2\n",
      "Best: Epoch 1 \t loss=0.16901 \t val_loss=0.02006 \t sm_loss=0.16901 \t sm_val_loss=0.02005 \t time=0.62s\n",
      "Best: Epoch 2 \t loss=0.01838 \t val_loss=0.01684 \t sm_loss=0.01839 \t sm_val_loss=0.01687 \t time=0.61s\n",
      "Best: Epoch 3 \t loss=0.01669 \t val_loss=0.01608 \t sm_loss=0.01674 \t sm_val_loss=0.01615 \t time=0.62s\n",
      "Best: Epoch 4 \t loss=0.01626 \t val_loss=0.01592 \t sm_loss=0.01635 \t sm_val_loss=0.01602 \t time=0.64s\n",
      "Best: Epoch 5 \t loss=0.01599 \t val_loss=0.01578 \t sm_loss=0.01610 \t sm_val_loss=0.01590 \t time=0.63s\n",
      "Best: Epoch 6 \t loss=0.01589 \t val_loss=0.01567 \t sm_loss=0.01603 \t sm_val_loss=0.01581 \t time=0.64s\n",
      "Best: Epoch 9 \t loss=0.01578 \t val_loss=0.01561 \t sm_loss=0.01594 \t sm_val_loss=0.01577 \t time=0.66s\n",
      "Best: Epoch 10 \t loss=0.01572 \t val_loss=0.01558 \t sm_loss=0.01589 \t sm_val_loss=0.01575 \t time=0.81s\n",
      "Best: Epoch 11 \t loss=0.01569 \t val_loss=0.01552 \t sm_loss=0.01586 \t sm_val_loss=0.01568 \t time=0.65s\n",
      "Best: Epoch 12 \t loss=0.01567 \t val_loss=0.01547 \t sm_loss=0.01584 \t sm_val_loss=0.01564 \t time=0.63s\n",
      "Best: Epoch 14 \t loss=0.01555 \t val_loss=0.01543 \t sm_loss=0.01573 \t sm_val_loss=0.01560 \t time=0.62s\n",
      "Best: Epoch 15 \t loss=0.01550 \t val_loss=0.01538 \t sm_loss=0.01568 \t sm_val_loss=0.01555 \t time=0.67s\n",
      "Best: Epoch 16 \t loss=0.01547 \t val_loss=0.01534 \t sm_loss=0.01565 \t sm_val_loss=0.01551 \t time=0.64s\n",
      "Best: Epoch 17 \t loss=0.01535 \t val_loss=0.01532 \t sm_loss=0.01552 \t sm_val_loss=0.01549 \t time=0.64s\n",
      "Best: Epoch 18 \t loss=0.01530 \t val_loss=0.01527 \t sm_loss=0.01548 \t sm_val_loss=0.01544 \t time=0.65s\n",
      "Fold 2 log loss: 0.015485825039143036\n",
      "Fold 3\n",
      "Best: Epoch 1 \t loss=0.16715 \t val_loss=0.02018 \t sm_loss=0.16715 \t sm_val_loss=0.02017 \t time=0.62s\n",
      "Best: Epoch 2 \t loss=0.01844 \t val_loss=0.01673 \t sm_loss=0.01845 \t sm_val_loss=0.01675 \t time=0.62s\n",
      "Best: Epoch 3 \t loss=0.01672 \t val_loss=0.01601 \t sm_loss=0.01677 \t sm_val_loss=0.01608 \t time=0.74s\n",
      "Best: Epoch 4 \t loss=0.01624 \t val_loss=0.01577 \t sm_loss=0.01633 \t sm_val_loss=0.01587 \t time=0.93s\n",
      "Best: Epoch 5 \t loss=0.01607 \t val_loss=0.01564 \t sm_loss=0.01618 \t sm_val_loss=0.01577 \t time=0.83s\n",
      "Best: Epoch 6 \t loss=0.01598 \t val_loss=0.01554 \t sm_loss=0.01612 \t sm_val_loss=0.01568 \t time=0.62s\n",
      "Best: Epoch 7 \t loss=0.01594 \t val_loss=0.01544 \t sm_loss=0.01608 \t sm_val_loss=0.01560 \t time=0.65s\n",
      "Best: Epoch 9 \t loss=0.01581 \t val_loss=0.01542 \t sm_loss=0.01598 \t sm_val_loss=0.01559 \t time=0.65s\n",
      "Best: Epoch 11 \t loss=0.01573 \t val_loss=0.01541 \t sm_loss=0.01590 \t sm_val_loss=0.01558 \t time=0.65s\n",
      "Best: Epoch 12 \t loss=0.01567 \t val_loss=0.01536 \t sm_loss=0.01584 \t sm_val_loss=0.01554 \t time=0.66s\n",
      "Best: Epoch 13 \t loss=0.01567 \t val_loss=0.01535 \t sm_loss=0.01585 \t sm_val_loss=0.01552 \t time=0.77s\n",
      "Best: Epoch 14 \t loss=0.01559 \t val_loss=0.01530 \t sm_loss=0.01576 \t sm_val_loss=0.01546 \t time=0.83s\n",
      "Best: Epoch 15 \t loss=0.01551 \t val_loss=0.01522 \t sm_loss=0.01569 \t sm_val_loss=0.01539 \t time=0.63s\n",
      "Best: Epoch 17 \t loss=0.01547 \t val_loss=0.01518 \t sm_loss=0.01565 \t sm_val_loss=0.01535 \t time=0.65s\n",
      "Best: Epoch 18 \t loss=0.01540 \t val_loss=0.01513 \t sm_loss=0.01558 \t sm_val_loss=0.01531 \t time=0.74s\n",
      "Best: Epoch 19 \t loss=0.01532 \t val_loss=0.01513 \t sm_loss=0.01550 \t sm_val_loss=0.01530 \t time=0.73s\n",
      "Best: Epoch 20 \t loss=0.01525 \t val_loss=0.01512 \t sm_loss=0.01544 \t sm_val_loss=0.01529 \t time=0.62s\n",
      "Fold 3 log loss: 0.015294200875328495\n",
      "Fold 4\n",
      "Best: Epoch 1 \t loss=0.16853 \t val_loss=0.01999 \t sm_loss=0.16853 \t sm_val_loss=0.01998 \t time=0.63s\n",
      "Best: Epoch 2 \t loss=0.01838 \t val_loss=0.01667 \t sm_loss=0.01838 \t sm_val_loss=0.01670 \t time=0.62s\n",
      "Best: Epoch 3 \t loss=0.01666 \t val_loss=0.01597 \t sm_loss=0.01671 \t sm_val_loss=0.01605 \t time=0.64s\n",
      "Best: Epoch 4 \t loss=0.01622 \t val_loss=0.01573 \t sm_loss=0.01631 \t sm_val_loss=0.01583 \t time=0.62s\n",
      "Best: Epoch 5 \t loss=0.01603 \t val_loss=0.01568 \t sm_loss=0.01614 \t sm_val_loss=0.01580 \t time=0.62s\n",
      "Best: Epoch 6 \t loss=0.01586 \t val_loss=0.01556 \t sm_loss=0.01600 \t sm_val_loss=0.01570 \t time=0.62s\n",
      "Best: Epoch 7 \t loss=0.01584 \t val_loss=0.01552 \t sm_loss=0.01599 \t sm_val_loss=0.01568 \t time=0.64s\n",
      "Best: Epoch 8 \t loss=0.01578 \t val_loss=0.01550 \t sm_loss=0.01594 \t sm_val_loss=0.01565 \t time=0.62s\n",
      "Best: Epoch 9 \t loss=0.01575 \t val_loss=0.01546 \t sm_loss=0.01591 \t sm_val_loss=0.01563 \t time=0.63s\n",
      "Best: Epoch 10 \t loss=0.01573 \t val_loss=0.01544 \t sm_loss=0.01589 \t sm_val_loss=0.01560 \t time=0.62s\n",
      "Best: Epoch 13 \t loss=0.01559 \t val_loss=0.01538 \t sm_loss=0.01576 \t sm_val_loss=0.01556 \t time=0.71s\n",
      "Best: Epoch 14 \t loss=0.01558 \t val_loss=0.01536 \t sm_loss=0.01576 \t sm_val_loss=0.01554 \t time=0.63s\n",
      "Best: Epoch 15 \t loss=0.01556 \t val_loss=0.01534 \t sm_loss=0.01573 \t sm_val_loss=0.01551 \t time=0.63s\n",
      "Best: Epoch 16 \t loss=0.01544 \t val_loss=0.01525 \t sm_loss=0.01562 \t sm_val_loss=0.01543 \t time=0.63s\n",
      "Best: Epoch 17 \t loss=0.01538 \t val_loss=0.01525 \t sm_loss=0.01556 \t sm_val_loss=0.01543 \t time=0.62s\n",
      "Best: Epoch 18 \t loss=0.01528 \t val_loss=0.01519 \t sm_loss=0.01546 \t sm_val_loss=0.01536 \t time=0.65s\n",
      "Fold 4 log loss: 0.01542310979521136\n",
      "Fold 5\n",
      "Best: Epoch 1 \t loss=0.16941 \t val_loss=0.02030 \t sm_loss=0.16940 \t sm_val_loss=0.02030 \t time=0.62s\n",
      "Best: Epoch 2 \t loss=0.01837 \t val_loss=0.01692 \t sm_loss=0.01838 \t sm_val_loss=0.01695 \t time=0.62s\n",
      "Best: Epoch 3 \t loss=0.01661 \t val_loss=0.01618 \t sm_loss=0.01665 \t sm_val_loss=0.01625 \t time=0.63s\n",
      "Best: Epoch 4 \t loss=0.01618 \t val_loss=0.01595 \t sm_loss=0.01627 \t sm_val_loss=0.01605 \t time=0.62s\n",
      "Best: Epoch 5 \t loss=0.01596 \t val_loss=0.01581 \t sm_loss=0.01608 \t sm_val_loss=0.01593 \t time=0.64s\n",
      "Best: Epoch 7 \t loss=0.01582 \t val_loss=0.01575 \t sm_loss=0.01597 \t sm_val_loss=0.01590 \t time=0.68s\n",
      "Best: Epoch 8 \t loss=0.01584 \t val_loss=0.01567 \t sm_loss=0.01599 \t sm_val_loss=0.01585 \t time=0.62s\n",
      "Best: Epoch 10 \t loss=0.01571 \t val_loss=0.01566 \t sm_loss=0.01588 \t sm_val_loss=0.01583 \t time=0.62s\n",
      "Best: Epoch 11 \t loss=0.01569 \t val_loss=0.01565 \t sm_loss=0.01586 \t sm_val_loss=0.01582 \t time=0.62s\n",
      "Best: Epoch 12 \t loss=0.01564 \t val_loss=0.01562 \t sm_loss=0.01581 \t sm_val_loss=0.01578 \t time=0.62s\n",
      "Best: Epoch 13 \t loss=0.01558 \t val_loss=0.01558 \t sm_loss=0.01576 \t sm_val_loss=0.01575 \t time=0.64s\n",
      "Best: Epoch 14 \t loss=0.01558 \t val_loss=0.01556 \t sm_loss=0.01575 \t sm_val_loss=0.01574 \t time=0.63s\n",
      "Best: Epoch 15 \t loss=0.01547 \t val_loss=0.01549 \t sm_loss=0.01564 \t sm_val_loss=0.01567 \t time=0.69s\n",
      "Best: Epoch 16 \t loss=0.01541 \t val_loss=0.01547 \t sm_loss=0.01559 \t sm_val_loss=0.01565 \t time=0.88s\n",
      "Best: Epoch 17 \t loss=0.01534 \t val_loss=0.01541 \t sm_loss=0.01552 \t sm_val_loss=0.01558 \t time=0.65s\n",
      "Best: Epoch 19 \t loss=0.01527 \t val_loss=0.01538 \t sm_loss=0.01546 \t sm_val_loss=0.01556 \t time=0.63s\n",
      "Best: Epoch 20 \t loss=0.01517 \t val_loss=0.01538 \t sm_loss=0.01535 \t sm_val_loss=0.01555 \t time=0.65s\n",
      "Fold 5 log loss: 0.015561157727627657\n",
      "Seed 3\n",
      "Fold 1 log loss: 0.015562696167075145\n",
      "Fold 2 log loss: 0.015485825039143036\n",
      "Fold 3 log loss: 0.015294200875328495\n",
      "Fold 4 log loss: 0.01542310979521136\n",
      "Fold 5 log loss: 0.015561157727627657\n",
      "Std of log loss: 0.00010015075680159643\n",
      "Total log loss: 0.015465392627140806\n",
      "Total log loss in targets: 0.01545789367645394\n"
     ]
    }
   ],
   "source": [
    "files = torch_tl(fn_train, fn_all_targets, fn_test, 0, fn_train.shape[1], [])\n",
    "seeds = [0,1,2,3] \n",
    "target_oof = np.zeros([len(fn_train),fn_targets.shape[1]])\n",
    "target_pred = np.zeros([len(fn_test),fn_targets.shape[1]])\n",
    "    \n",
    "for seed_ in seeds:\n",
    "    oof, oof_targets, pytorch_pred = torch_tl(fn_train, fn_targets, fn_test, seed_, fn_train.shape[1], files)\n",
    "    target_oof += oof / len(seeds)\n",
    "    target_pred += pytorch_pred / len(seeds)\n",
    "\n",
    "print(\"Total log loss in targets: {}\".format(mean_log_loss(oof_targets, target_oof)))"
   ]
  },
  {
   "cell_type": "code",
   "execution_count": 19,
   "metadata": {
    "execution": {
     "iopub.execute_input": "2020-11-02T14:37:16.011749Z",
     "iopub.status.busy": "2020-11-02T14:37:16.010684Z",
     "iopub.status.idle": "2020-11-02T14:37:17.124506Z",
     "shell.execute_reply": "2020-11-02T14:37:17.123977Z"
    },
    "papermill": {
     "duration": 1.299772,
     "end_time": "2020-11-02T14:37:17.124621",
     "exception": false,
     "start_time": "2020-11-02T14:37:15.824849",
     "status": "completed"
    },
    "tags": []
   },
   "outputs": [
    {
     "name": "stdout",
     "output_type": "stream",
     "text": [
      "Overall AUC : 0.8005119041161539\n"
     ]
    }
   ],
   "source": [
    "aucs = []\n",
    "for task_id in range(targets.shape[1]-1):\n",
    "    aucs.append(roc_auc_score(y_true=targets.iloc[:, task_id+1].values,\n",
    "                              y_score=target_oof[:, task_id]))\n",
    "print(f\"Overall AUC : {np.mean(aucs)}\")"
   ]
  },
  {
   "cell_type": "code",
   "execution_count": 20,
   "metadata": {
    "execution": {
     "iopub.execute_input": "2020-11-02T14:37:17.486183Z",
     "iopub.status.busy": "2020-11-02T14:37:17.485313Z",
     "iopub.status.idle": "2020-11-02T14:37:23.647204Z",
     "shell.execute_reply": "2020-11-02T14:37:23.648452Z"
    },
    "papermill": {
     "duration": 6.349642,
     "end_time": "2020-11-02T14:37:23.648749",
     "exception": false,
     "start_time": "2020-11-02T14:37:17.299107",
     "status": "completed"
    },
    "tags": []
   },
   "outputs": [
    {
     "name": "stdout",
     "output_type": "stream",
     "text": [
      "OOF log loss:  0.014246655346049112\n"
     ]
    }
   ],
   "source": [
    "t = pd.read_csv(DATA_DIR + 'train_targets_scored.csv')\n",
    "train_checkscore = t.copy()\n",
    "train_checkscore.loc[train_checkscore.index.isin(cons_train_index),target_feats] = target_oof\n",
    "train_checkscore.loc[train_checkscore.index.isin(noncons_train_index),target_feats] = 0\n",
    "t.drop(\"sig_id\", axis=1, inplace=True)\n",
    "print('OOF log loss: ', log_loss(np.ravel(t), np.ravel(np.array(train_checkscore.iloc[:,1:]))))"
   ]
  },
  {
   "cell_type": "code",
   "execution_count": 21,
   "metadata": {
    "execution": {
     "iopub.execute_input": "2020-11-02T14:37:24.157342Z",
     "iopub.status.busy": "2020-11-02T14:37:24.156166Z",
     "iopub.status.idle": "2020-11-02T14:37:26.779493Z",
     "shell.execute_reply": "2020-11-02T14:37:26.778307Z"
    },
    "papermill": {
     "duration": 2.867322,
     "end_time": "2020-11-02T14:37:26.779627",
     "exception": false,
     "start_time": "2020-11-02T14:37:23.912305",
     "status": "completed"
    },
    "tags": []
   },
   "outputs": [],
   "source": [
    "sub.loc[cons_test_index,target_feats] = target_pred\n",
    "sub.loc[noncons_test_index,target_feats] = 0\n",
    "sub.to_csv('submission.csv', index=False)"
   ]
  }
 ],
 "metadata": {
  "kernelspec": {
   "display_name": "Python 3",
   "language": "python",
   "name": "python3"
  },
  "language_info": {
   "codemirror_mode": {
    "name": "ipython",
    "version": 3
   },
   "file_extension": ".py",
   "mimetype": "text/x-python",
   "name": "python",
   "nbconvert_exporter": "python",
   "pygments_lexer": "ipython3",
   "version": "3.7.6"
  },
  "papermill": {
   "duration": 451.926077,
   "end_time": "2020-11-02T14:37:27.568179",
   "environment_variables": {},
   "exception": null,
   "input_path": "__notebook__.ipynb",
   "output_path": "__notebook__.ipynb",
   "parameters": {},
   "start_time": "2020-11-02T14:29:55.642102",
   "version": "2.1.0"
  }
 },
 "nbformat": 4,
 "nbformat_minor": 4
}
