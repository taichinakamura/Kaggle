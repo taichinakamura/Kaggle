{
 "cells": [
  {
   "cell_type": "markdown",
   "metadata": {
    "papermill": {
     "duration": 0.021589,
     "end_time": "2020-11-11T00:09:50.706772",
     "exception": false,
     "start_time": "2020-11-11T00:09:50.685183",
     "status": "completed"
    },
    "tags": []
   },
   "source": [
    "- add ctl diff information"
   ]
  },
  {
   "cell_type": "code",
   "execution_count": 1,
   "metadata": {
    "_cell_guid": "b1076dfc-b9ad-4769-8c92-a6c4dae69d19",
    "_uuid": "8f2839f25d086af736a60e9eeb907d3b93b6e0e5",
    "execution": {
     "iopub.execute_input": "2020-11-11T00:09:50.757948Z",
     "iopub.status.busy": "2020-11-11T00:09:50.757179Z",
     "iopub.status.idle": "2020-11-11T00:10:01.154348Z",
     "shell.execute_reply": "2020-11-11T00:10:01.153225Z"
    },
    "papermill": {
     "duration": 10.426938,
     "end_time": "2020-11-11T00:10:01.154481",
     "exception": false,
     "start_time": "2020-11-11T00:09:50.727543",
     "status": "completed"
    },
    "tags": []
   },
   "outputs": [],
   "source": [
    "import os\n",
    "import sys\n",
    "import random\n",
    "import warnings\n",
    "import numpy as np\n",
    "import pandas as pd \n",
    "from umap import UMAP\n",
    "from scipy import stats\n",
    "import networkx as nx\n",
    "from sklearn import preprocessing\n",
    "from sklearn.metrics import log_loss,roc_auc_score\n",
    "from sklearn.decomposition import PCA\n",
    "from tqdm import tqdm_notebook as tqdm\n",
    "from sklearn.cluster import KMeans\n",
    "from sklearn.multioutput import MultiOutputClassifier\n",
    "from sklearn.feature_selection import VarianceThreshold\n",
    "\n",
    "sys.path.append('../input/multilabelstraifier/')\n",
    "from ml_stratifiers import MultilabelStratifiedKFold\n",
    "warnings.filterwarnings('ignore')\n",
    "\n",
    "import time\n",
    "import torch\n",
    "import torch.nn as nn\n",
    "import torch.optim as optim\n",
    "import torch.nn.functional as F\n",
    "import tensorflow as tf\n",
    "from torch.nn.modules.loss import _WeightedLoss"
   ]
  },
  {
   "cell_type": "code",
   "execution_count": 2,
   "metadata": {
    "execution": {
     "iopub.execute_input": "2020-11-11T00:10:01.207025Z",
     "iopub.status.busy": "2020-11-11T00:10:01.205818Z",
     "iopub.status.idle": "2020-11-11T00:10:08.057310Z",
     "shell.execute_reply": "2020-11-11T00:10:08.056615Z"
    },
    "papermill": {
     "duration": 6.882038,
     "end_time": "2020-11-11T00:10:08.057425",
     "exception": false,
     "start_time": "2020-11-11T00:10:01.175387",
     "status": "completed"
    },
    "tags": []
   },
   "outputs": [],
   "source": [
    "DATA_DIR = '/kaggle/input/lish-moa/'\n",
    "train = pd.read_csv(DATA_DIR + 'train_features.csv')\n",
    "targets = pd.read_csv(DATA_DIR + 'train_targets_scored.csv')\n",
    "non_targets = pd.read_csv(DATA_DIR + 'train_targets_nonscored.csv')\n",
    "test = pd.read_csv(DATA_DIR + 'test_features.csv')\n",
    "sub = pd.read_csv(DATA_DIR + 'sample_submission.csv')\n",
    "drug = pd.read_csv(DATA_DIR + 'train_drug.csv')"
   ]
  },
  {
   "cell_type": "code",
   "execution_count": 3,
   "metadata": {
    "execution": {
     "iopub.execute_input": "2020-11-11T00:10:08.106255Z",
     "iopub.status.busy": "2020-11-11T00:10:08.105553Z",
     "iopub.status.idle": "2020-11-11T00:10:08.110096Z",
     "shell.execute_reply": "2020-11-11T00:10:08.109408Z"
    },
    "papermill": {
     "duration": 0.032036,
     "end_time": "2020-11-11T00:10:08.110200",
     "exception": false,
     "start_time": "2020-11-11T00:10:08.078164",
     "status": "completed"
    },
    "tags": []
   },
   "outputs": [],
   "source": [
    "target_feats = [ i for i in targets.columns if i != \"sig_id\"]\n",
    "g_feats = [i for i in train.columns if \"g-\" in i]\n",
    "c_feats = [i for i in train.columns if \"c-\" in i]"
   ]
  },
  {
   "cell_type": "code",
   "execution_count": 4,
   "metadata": {
    "execution": {
     "iopub.execute_input": "2020-11-11T00:10:08.160721Z",
     "iopub.status.busy": "2020-11-11T00:10:08.159817Z",
     "iopub.status.idle": "2020-11-11T00:10:08.277966Z",
     "shell.execute_reply": "2020-11-11T00:10:08.278744Z"
    },
    "papermill": {
     "duration": 0.147696,
     "end_time": "2020-11-11T00:10:08.278927",
     "exception": false,
     "start_time": "2020-11-11T00:10:08.131231",
     "status": "completed"
    },
    "tags": []
   },
   "outputs": [],
   "source": [
    "noncons_train_index = train[train.cp_type==\"ctl_vehicle\"].index\n",
    "cons_train_index = train[train.cp_type!=\"ctl_vehicle\"].index\n",
    "noncons_test_index = test[test.cp_type==\"ctl_vehicle\"].index\n",
    "cons_test_index = test[test.cp_type!=\"ctl_vehicle\"].index"
   ]
  },
  {
   "cell_type": "markdown",
   "metadata": {
    "papermill": {
     "duration": 0.021462,
     "end_time": "2020-11-11T00:10:08.325369",
     "exception": false,
     "start_time": "2020-11-11T00:10:08.303907",
     "status": "completed"
    },
    "tags": []
   },
   "source": [
    "# preprocess"
   ]
  },
  {
   "cell_type": "code",
   "execution_count": 5,
   "metadata": {
    "execution": {
     "iopub.execute_input": "2020-11-11T00:10:08.379805Z",
     "iopub.status.busy": "2020-11-11T00:10:08.378859Z",
     "iopub.status.idle": "2020-11-11T00:10:10.696792Z",
     "shell.execute_reply": "2020-11-11T00:10:10.695703Z"
    },
    "papermill": {
     "duration": 2.349533,
     "end_time": "2020-11-11T00:10:10.696921",
     "exception": false,
     "start_time": "2020-11-11T00:10:08.347388",
     "status": "completed"
    },
    "tags": []
   },
   "outputs": [],
   "source": [
    "# normalization by ctl group\n",
    "train_ctl = train[train.index.isin(noncons_train_index)].copy().reset_index(drop=True)\n",
    "test_ctl = test[test.index.isin(noncons_test_index)].copy().reset_index(drop=True)\n",
    "ctl_df = pd.concat([train_ctl, test_ctl])\n",
    "\n",
    "ctl_group_data = ctl_df.groupby([\"cp_dose\", \"cp_time\"]).agg({\"mean\"}).reset_index()\n",
    "mean_g_feats = [\"mean-\" + i for i in g_feats]\n",
    "mean_c_feats = [\"mean-\" + i for i in c_feats]\n",
    "columns = [\"cp_dose\", \"cp_time\"] + mean_g_feats + mean_c_feats\n",
    "ctl_group_data.columns = columns"
   ]
  },
  {
   "cell_type": "code",
   "execution_count": 6,
   "metadata": {
    "execution": {
     "iopub.execute_input": "2020-11-11T00:10:10.758207Z",
     "iopub.status.busy": "2020-11-11T00:10:10.756964Z",
     "iopub.status.idle": "2020-11-11T00:10:11.010238Z",
     "shell.execute_reply": "2020-11-11T00:10:11.009545Z"
    },
    "papermill": {
     "duration": 0.290437,
     "end_time": "2020-11-11T00:10:11.010390",
     "exception": false,
     "start_time": "2020-11-11T00:10:10.719953",
     "status": "completed"
    },
    "tags": []
   },
   "outputs": [],
   "source": [
    "train = train[train.index.isin(cons_train_index)].copy().reset_index(drop=True)\n",
    "test = test[test.index.isin(cons_test_index)].copy().reset_index(drop=True)\n",
    "targets = targets[targets.index.isin(cons_train_index)].copy().reset_index(drop=True)\n",
    "#non_targets = non_targets[non_targets.index.isin(cons_train_index)].copy().reset_index(drop=True)"
   ]
  },
  {
   "cell_type": "code",
   "execution_count": 7,
   "metadata": {
    "execution": {
     "iopub.execute_input": "2020-11-11T00:10:11.070526Z",
     "iopub.status.busy": "2020-11-11T00:10:11.069643Z",
     "iopub.status.idle": "2020-11-11T00:10:12.047569Z",
     "shell.execute_reply": "2020-11-11T00:10:12.046524Z"
    },
    "papermill": {
     "duration": 1.012715,
     "end_time": "2020-11-11T00:10:12.047701",
     "exception": false,
     "start_time": "2020-11-11T00:10:11.034986",
     "status": "completed"
    },
    "tags": []
   },
   "outputs": [],
   "source": [
    "train = pd.merge(train, ctl_group_data, on=[\"cp_time\", \"cp_dose\"], how=\"left\")\n",
    "test = pd.merge(test, ctl_group_data, on=[\"cp_time\", \"cp_dose\"], how=\"left\")\n",
    "\n",
    "for i in range(len(g_feats)):\n",
    "    train[\"mean-g-\"+str(i)] = train[\"g-\"+str(i)] - train[\"mean-g-\"+str(i)]\n",
    "    test[\"mean-g-\"+str(i)] = test[\"g-\"+str(i)] - test[\"mean-g-\"+str(i)]\n",
    "    \n",
    "for i in range(len(c_feats)):\n",
    "    train[\"mean-c-\"+str(i)] = train[\"c-\"+str(i)] - train[\"mean-c-\"+str(i)]\n",
    "    test[\"mean-c-\"+str(i)] = test[\"c-\"+str(i)] - test[\"mean-c-\"+str(i)]"
   ]
  },
  {
   "cell_type": "code",
   "execution_count": 8,
   "metadata": {
    "execution": {
     "iopub.execute_input": "2020-11-11T00:10:12.123485Z",
     "iopub.status.busy": "2020-11-11T00:10:12.104500Z",
     "iopub.status.idle": "2020-11-11T00:10:12.626619Z",
     "shell.execute_reply": "2020-11-11T00:10:12.627121Z"
    },
    "papermill": {
     "duration": 0.557824,
     "end_time": "2020-11-11T00:10:12.627260",
     "exception": false,
     "start_time": "2020-11-11T00:10:12.069436",
     "status": "completed"
    },
    "tags": []
   },
   "outputs": [
    {
     "data": {
      "text/plain": [
       "array([[1, 4, 5, ..., 4, 4, 5]], dtype=int8)"
      ]
     },
     "execution_count": 8,
     "metadata": {},
     "output_type": "execute_result"
    }
   ],
   "source": [
    "# https://www.kaggle.com/c/lish-moa/discussion/195195\n",
    "NB_SPLITS = 7\n",
    "seed = 34\n",
    "\n",
    "folds = []\n",
    "    \n",
    "# LOAD FILES\n",
    "train_score = targets.merge(drug, on='sig_id', how='left') \n",
    "\n",
    "# LOCATE DRUGS\n",
    "vc = train_score.drug_id.value_counts()\n",
    "vc1 = vc.loc[vc <= 19].index.sort_values()\n",
    "vc2 = vc.loc[vc > 19].index.sort_values()\n",
    "    \n",
    "# STRATIFY DRUGS 18X OR LESS\n",
    "dct1 = {}; dct2 = {}\n",
    "skf = MultilabelStratifiedKFold(n_splits = NB_SPLITS, shuffle = True, random_state = seed)\n",
    "tmp = train_score.groupby('drug_id')[target_feats].mean().loc[vc1]\n",
    "for fold,(idxT,idxV) in enumerate(skf.split(tmp,tmp[target_feats])):\n",
    "    dd = {k:fold for k in tmp.index[idxV].values}\n",
    "    dct1.update(dd)\n",
    "\n",
    "# STRATIFY DRUGS MORE THAN 18X\n",
    "skf = MultilabelStratifiedKFold(n_splits = NB_SPLITS, shuffle = True, random_state = seed)\n",
    "tmp = train_score.loc[train_score.drug_id.isin(vc2)].reset_index(drop = True)\n",
    "for fold,(idxT,idxV) in enumerate(skf.split(tmp,tmp[target_feats])):\n",
    "    dd = {k:fold for k in tmp.sig_id[idxV].values}\n",
    "    dct2.update(dd)\n",
    "\n",
    "# ASSIGN FOLDS\n",
    "train_score['fold'] = train_score.drug_id.map(dct1)\n",
    "train_score.loc[train_score.fold.isna(),'fold'] = train_score.loc[train_score.fold.isna(),'sig_id'].map(dct2)\n",
    "train_score.fold = train_score.fold.astype('int8')\n",
    "folds.append(train_score.fold.values)\n",
    "    \n",
    "np.array(folds)"
   ]
  },
  {
   "cell_type": "markdown",
   "metadata": {
    "papermill": {
     "duration": 0.02197,
     "end_time": "2020-11-11T00:10:12.671698",
     "exception": false,
     "start_time": "2020-11-11T00:10:12.649728",
     "status": "completed"
    },
    "tags": []
   },
   "source": [
    "# Feature engineering "
   ]
  },
  {
   "cell_type": "code",
   "execution_count": 9,
   "metadata": {
    "execution": {
     "iopub.execute_input": "2020-11-11T00:10:12.816924Z",
     "iopub.status.busy": "2020-11-11T00:10:12.815513Z",
     "iopub.status.idle": "2020-11-11T00:10:13.683654Z",
     "shell.execute_reply": "2020-11-11T00:10:13.684264Z"
    },
    "papermill": {
     "duration": 0.989821,
     "end_time": "2020-11-11T00:10:13.684439",
     "exception": false,
     "start_time": "2020-11-11T00:10:12.694618",
     "status": "completed"
    },
    "tags": []
   },
   "outputs": [
    {
     "name": "stdout",
     "output_type": "stream",
     "text": [
      "62\n"
     ]
    }
   ],
   "source": [
    "X = train.iloc[:,4:].copy().values\n",
    "select = VarianceThreshold(threshold=0.7)\n",
    "X_new = select.fit_transform(X)\n",
    "drop_feats = list(np.array(train.iloc[:,4:].columns)[select.get_support()==False])\n",
    "print(len(drop_feats))"
   ]
  },
  {
   "cell_type": "code",
   "execution_count": 10,
   "metadata": {
    "execution": {
     "iopub.execute_input": "2020-11-11T00:10:13.737610Z",
     "iopub.status.busy": "2020-11-11T00:10:13.736189Z",
     "iopub.status.idle": "2020-11-11T00:10:13.738786Z",
     "shell.execute_reply": "2020-11-11T00:10:13.739275Z"
    },
    "papermill": {
     "duration": 0.030887,
     "end_time": "2020-11-11T00:10:13.739384",
     "exception": false,
     "start_time": "2020-11-11T00:10:13.708497",
     "status": "completed"
    },
    "tags": []
   },
   "outputs": [],
   "source": [
    "#correlations = train[c_feats].corr().abs()\n",
    "#correlations = (correlations.where(np.triu(np.ones(correlations.shape), k=1).astype(np.bool)).stack().sort_values(ascending=False))\n",
    "#pairs_df = (1-correlations).reset_index()\n",
    "#G = nx.from_pandas_edgelist(pairs_df[:20], source='level_0', target='level_1', edge_attr=0)\n",
    "#c_group = list(nx.algorithms.community.modularity_max.greedy_modularity_communities(G))\n",
    "\n",
    "#drop_c_feats = []\n",
    "#for i in range(len(c_group)):\n",
    "#    for j in list(c_group[i])[1:]:\n",
    "#        drop_c_feats.append(j)\n",
    "#en(drop_c_feats)"
   ]
  },
  {
   "cell_type": "code",
   "execution_count": 11,
   "metadata": {
    "execution": {
     "iopub.execute_input": "2020-11-11T00:10:13.795012Z",
     "iopub.status.busy": "2020-11-11T00:10:13.793688Z",
     "iopub.status.idle": "2020-11-11T00:10:14.141643Z",
     "shell.execute_reply": "2020-11-11T00:10:14.141020Z"
    },
    "papermill": {
     "duration": 0.379333,
     "end_time": "2020-11-11T00:10:14.141770",
     "exception": false,
     "start_time": "2020-11-11T00:10:13.762437",
     "status": "completed"
    },
    "tags": []
   },
   "outputs": [],
   "source": [
    "train.drop(drop_feats, axis=1, inplace=True)\n",
    "test.drop(drop_feats, axis=1, inplace=True)\n",
    "\n",
    "#train.drop(drop_c_feats, axis=1, inplace=True)\n",
    "#test.drop(drop_c_feats, axis=1, inplace=True)\n",
    "\n",
    "g_feats = [i for i in train.columns if \"g-\" in i]\n",
    "c_feats = [i for i in train.columns if \"c-\" in i]\n",
    "mean_g_feats = [i for i in train.columns if \"mean-g-\" in i]\n",
    "mean_c_feats = [i for i in train.columns if \"mean-c-\" in i]"
   ]
  },
  {
   "cell_type": "code",
   "execution_count": 12,
   "metadata": {
    "execution": {
     "iopub.execute_input": "2020-11-11T00:10:14.197569Z",
     "iopub.status.busy": "2020-11-11T00:10:14.196749Z",
     "iopub.status.idle": "2020-11-11T00:10:46.727547Z",
     "shell.execute_reply": "2020-11-11T00:10:46.726566Z"
    },
    "papermill": {
     "duration": 32.561826,
     "end_time": "2020-11-11T00:10:46.727670",
     "exception": false,
     "start_time": "2020-11-11T00:10:14.165844",
     "status": "completed"
    },
    "tags": []
   },
   "outputs": [],
   "source": [
    "# rank gauss\n",
    "for i in c_feats + g_feats + mean_g_feats + mean_c_feats:\n",
    "    ss = preprocessing.QuantileTransformer(n_quantiles=1000, random_state=0, output_distribution=\"normal\")\n",
    "    ss.fit(train[i].values.reshape(-1,1))\n",
    "    train[i] = ss.transform(train[i].values.reshape(-1,1))\n",
    "    test[i] = ss.transform(test[i].values.reshape(-1,1))"
   ]
  },
  {
   "cell_type": "code",
   "execution_count": 13,
   "metadata": {
    "execution": {
     "iopub.execute_input": "2020-11-11T00:10:46.802773Z",
     "iopub.status.busy": "2020-11-11T00:10:46.801600Z",
     "iopub.status.idle": "2020-11-11T00:10:50.822931Z",
     "shell.execute_reply": "2020-11-11T00:10:50.824332Z"
    },
    "papermill": {
     "duration": 4.07428,
     "end_time": "2020-11-11T00:10:50.824523",
     "exception": false,
     "start_time": "2020-11-11T00:10:46.750243",
     "status": "completed"
    },
    "tags": []
   },
   "outputs": [],
   "source": [
    "c_num = 10\n",
    "pca_c_cols = [\"pca-c\"+str(i+1) for i in range(c_num)]\n",
    "pca = PCA(n_components=c_num,random_state=42)\n",
    "c_train = pca.fit_transform(train[c_feats])\n",
    "c_test = pca.transform(test[c_feats])\n",
    "c_train = pd.DataFrame(c_train, columns=pca_c_cols)\n",
    "c_test = pd.DataFrame(c_test, columns=pca_c_cols)\n",
    "\n",
    "g_num = 60\n",
    "pca_g_cols = [\"pca-g\"+str(i+1) for i in range(g_num)]\n",
    "pca = PCA(n_components=g_num, random_state=42)\n",
    "g_train = pca.fit_transform(train[g_feats])\n",
    "g_test = pca.transform(test[g_feats])\n",
    "g_train = pd.DataFrame(g_train, columns=pca_g_cols)\n",
    "g_test = pd.DataFrame(g_test, columns=pca_g_cols)\n",
    "\n",
    "train = pd.concat([train, c_train],axis=1)\n",
    "test = pd.concat([test, c_test],axis=1)\n",
    "train = pd.concat([train, g_train],axis=1)\n",
    "test = pd.concat([test, g_test],axis=1)"
   ]
  },
  {
   "cell_type": "code",
   "execution_count": 14,
   "metadata": {
    "execution": {
     "iopub.execute_input": "2020-11-11T00:10:50.910932Z",
     "iopub.status.busy": "2020-11-11T00:10:50.909820Z",
     "iopub.status.idle": "2020-11-11T00:10:50.912866Z",
     "shell.execute_reply": "2020-11-11T00:10:50.912013Z"
    },
    "papermill": {
     "duration": 0.049381,
     "end_time": "2020-11-11T00:10:50.913006",
     "exception": false,
     "start_time": "2020-11-11T00:10:50.863625",
     "status": "completed"
    },
    "tags": []
   },
   "outputs": [],
   "source": [
    "#uc_num = 1\n",
    "#um = UMAP(n_neighbors=20, n_components=uc_num, random_state=42)\n",
    "#um_c_cols = [\"um-c\"+str(i+1) for i in range(uc_num)]\n",
    "#uc_train = um.fit_transform(train[c_feats])\n",
    "#uc_test = um.transform(test[c_feats])\n",
    "#uc_train = pd.DataFrame(uc_train, columns=um_c_cols)\n",
    "#uc_test = pd.DataFrame(uc_test, columns=um_c_cols)\n",
    "\n",
    "#ug_num = 5\n",
    "#um = UMAP(n_neighbors=20, n_components=ug_num, random_state=42)\n",
    "#um_g_cols = [\"um-g\"+str(i+1) for i in range(ug_num)]\n",
    "#ug_train = um.fit_transform(train[g_feats])\n",
    "#ug_test = um.transform(test[g_feats])\n",
    "#ug_train = pd.DataFrame(ug_train, columns=um_g_cols)\n",
    "#ug_test = pd.DataFrame(ug_test, columns=um_g_cols)\n",
    "\n",
    "#train = pd.concat([train, uc_train],axis=1)\n",
    "#test = pd.concat([test, uc_test],axis=1)\n",
    "#train = pd.concat([train, ug_train],axis=1)\n",
    "#test = pd.concat([test, ug_test],axis=1)"
   ]
  },
  {
   "cell_type": "code",
   "execution_count": 15,
   "metadata": {
    "execution": {
     "iopub.execute_input": "2020-11-11T00:10:51.004582Z",
     "iopub.status.busy": "2020-11-11T00:10:51.003626Z",
     "iopub.status.idle": "2020-11-11T00:10:54.911100Z",
     "shell.execute_reply": "2020-11-11T00:10:54.910012Z"
    },
    "papermill": {
     "duration": 3.957365,
     "end_time": "2020-11-11T00:10:54.911250",
     "exception": false,
     "start_time": "2020-11-11T00:10:50.953885",
     "status": "completed"
    },
    "tags": []
   },
   "outputs": [
    {
     "name": "stdout",
     "output_type": "stream",
     "text": [
      "(21948, 1761) (3624, 1761)\n"
     ]
    }
   ],
   "source": [
    "def fe(df):\n",
    "    tmp = df.copy()\n",
    "    tmp['g_kurt'] = tmp[g_feats].kurtosis(axis = 1)\n",
    "    tmp['g_skew'] = tmp[g_feats].skew(axis = 1)\n",
    "    tmp['c_kurt'] = tmp[c_feats].kurtosis(axis = 1)\n",
    "    tmp['c_skew'] = tmp[c_feats].skew(axis = 1)\n",
    "    tmp = pd.get_dummies(tmp, columns=['cp_time','cp_dose'])\n",
    "    tmp.drop([\"cp_type\", \"sig_id\"], axis=1, inplace=True) \n",
    "    return tmp\n",
    "\n",
    "train = fe(train)\n",
    "test = fe(test)\n",
    "\n",
    "print(train.shape, test.shape)"
   ]
  },
  {
   "cell_type": "code",
   "execution_count": 16,
   "metadata": {
    "execution": {
     "iopub.execute_input": "2020-11-11T00:10:54.971489Z",
     "iopub.status.busy": "2020-11-11T00:10:54.969829Z",
     "iopub.status.idle": "2020-11-11T00:10:54.972221Z",
     "shell.execute_reply": "2020-11-11T00:10:54.972720Z"
    },
    "papermill": {
     "duration": 0.034446,
     "end_time": "2020-11-11T00:10:54.972854",
     "exception": false,
     "start_time": "2020-11-11T00:10:54.938408",
     "status": "completed"
    },
    "tags": []
   },
   "outputs": [],
   "source": [
    "train[\"fold\"] = np.array(folds).reshape(-1,1)"
   ]
  },
  {
   "cell_type": "code",
   "execution_count": 17,
   "metadata": {
    "execution": {
     "iopub.execute_input": "2020-11-11T00:10:55.026774Z",
     "iopub.status.busy": "2020-11-11T00:10:55.025470Z",
     "iopub.status.idle": "2020-11-11T00:10:55.324675Z",
     "shell.execute_reply": "2020-11-11T00:10:55.324064Z"
    },
    "papermill": {
     "duration": 0.328047,
     "end_time": "2020-11-11T00:10:55.324791",
     "exception": false,
     "start_time": "2020-11-11T00:10:54.996744",
     "status": "completed"
    },
    "tags": []
   },
   "outputs": [],
   "source": [
    "fn_train = train.copy().to_numpy()\n",
    "fn_test = test.copy().to_numpy()\n",
    "\n",
    "fn_targets = targets.drop(\"sig_id\", axis=1).copy().to_numpy()"
   ]
  },
  {
   "cell_type": "markdown",
   "metadata": {
    "papermill": {
     "duration": 0.023387,
     "end_time": "2020-11-11T00:10:55.373993",
     "exception": false,
     "start_time": "2020-11-11T00:10:55.350606",
     "status": "completed"
    },
    "tags": []
   },
   "source": [
    "# modelling"
   ]
  },
  {
   "cell_type": "code",
   "execution_count": 18,
   "metadata": {
    "execution": {
     "iopub.execute_input": "2020-11-11T00:10:55.814363Z",
     "iopub.status.busy": "2020-11-11T00:10:55.813353Z",
     "iopub.status.idle": "2020-11-11T00:10:55.816617Z",
     "shell.execute_reply": "2020-11-11T00:10:55.815884Z"
    },
    "papermill": {
     "duration": 0.416685,
     "end_time": "2020-11-11T00:10:55.816736",
     "exception": false,
     "start_time": "2020-11-11T00:10:55.400051",
     "status": "completed"
    },
    "tags": []
   },
   "outputs": [],
   "source": [
    "device = \"cuda\" if torch.cuda.is_available() else \"cpu\""
   ]
  },
  {
   "cell_type": "code",
   "execution_count": 19,
   "metadata": {
    "execution": {
     "iopub.execute_input": "2020-11-11T00:10:55.877020Z",
     "iopub.status.busy": "2020-11-11T00:10:55.875600Z",
     "iopub.status.idle": "2020-11-11T00:10:55.878180Z",
     "shell.execute_reply": "2020-11-11T00:10:55.878692Z"
    },
    "papermill": {
     "duration": 0.038169,
     "end_time": "2020-11-11T00:10:55.878803",
     "exception": false,
     "start_time": "2020-11-11T00:10:55.840634",
     "status": "completed"
    },
    "tags": []
   },
   "outputs": [],
   "source": [
    "class SmoothCrossEntropyLoss(_WeightedLoss):\n",
    "    def __init__(self, weight=None, reduction='mean', smoothing=0.0):\n",
    "        super().__init__(weight=weight, reduction=reduction)\n",
    "        self.smoothing = smoothing\n",
    "        self.weight = weight\n",
    "        self.reduction = reduction\n",
    "\n",
    "    @staticmethod\n",
    "    def _smooth(targets, n_classes, smoothing=0.0):\n",
    "        assert 0 <= smoothing <= 1\n",
    "        with torch.no_grad():\n",
    "            targets = targets * (1 - smoothing) + torch.ones_like(targets).to(device) * smoothing / n_classes\n",
    "        return targets\n",
    "\n",
    "    def forward(self, inputs, targets):\n",
    "        targets = SmoothCrossEntropyLoss()._smooth(targets, inputs.shape[1], self.smoothing)\n",
    "\n",
    "        if self.weight is not None:\n",
    "            inputs = inputs * self.weight.unsqueeze(0)\n",
    "\n",
    "        loss = F.binary_cross_entropy_with_logits(inputs, targets)\n",
    "\n",
    "        return loss"
   ]
  },
  {
   "cell_type": "code",
   "execution_count": 20,
   "metadata": {
    "execution": {
     "iopub.execute_input": "2020-11-11T00:10:55.944010Z",
     "iopub.status.busy": "2020-11-11T00:10:55.943268Z",
     "iopub.status.idle": "2020-11-11T00:10:55.948136Z",
     "shell.execute_reply": "2020-11-11T00:10:55.947623Z"
    },
    "papermill": {
     "duration": 0.045233,
     "end_time": "2020-11-11T00:10:55.948227",
     "exception": false,
     "start_time": "2020-11-11T00:10:55.902994",
     "status": "completed"
    },
    "tags": []
   },
   "outputs": [
    {
     "name": "stdout",
     "output_type": "stream",
     "text": [
      "cuda\n"
     ]
    }
   ],
   "source": [
    "print(device)\n",
    "def seed_everything(seed=42): \n",
    "    random.seed(seed)\n",
    "    os.environ['PYTHONHASHSEED'] = str(seed)\n",
    "    tf.random.set_seed(seed)\n",
    "    np.random.seed(seed)\n",
    "    torch.manual_seed(seed)\n",
    "    torch.cuda.manual_seed(seed)\n",
    "    torch.backends.cudnn.deterministic = True\n",
    "\n",
    "class MoaModel(nn.Module):\n",
    "    def __init__(self, num_columns, last_num):\n",
    "        super(MoaModel, self).__init__()\n",
    "        self.batch_norm1 = nn.BatchNorm1d(num_columns)\n",
    "        self.dropout1 = nn.Dropout(0.1)\n",
    "        self.dense1 = nn.utils.weight_norm(nn.Linear(num_columns, 1024))\n",
    "        self.relu1 = nn.LeakyReLU()\n",
    "        \n",
    "        self.batch_norm2 = nn.BatchNorm1d(1024)\n",
    "        self.dropout2 = nn.Dropout(0.1)\n",
    "        self.dense2 = nn.utils.weight_norm(nn.Linear(1024, 1024))\n",
    "        self.relu2 = nn.LeakyReLU()\n",
    "        \n",
    "        self.batch_norm3 = nn.BatchNorm1d(1024)\n",
    "        self.dropout3 = nn.Dropout(0.1)\n",
    "        self.dense3 = nn.utils.weight_norm(nn.Linear(1024, last_num))\n",
    "    \n",
    "    def forward(self, x):\n",
    "        x = self.batch_norm1(x)\n",
    "        x = self.dropout1(x)\n",
    "        x = self.relu1(self.dense1(x))\n",
    "        \n",
    "        x = self.batch_norm2(x)\n",
    "        x = self.dropout2(x)\n",
    "        x = self.relu2(self.dense2(x))\n",
    "        \n",
    "        x = self.batch_norm3(x)\n",
    "        x = self.dropout3(x)\n",
    "        x = self.dense3(x)\n",
    "        \n",
    "        return x"
   ]
  },
  {
   "cell_type": "markdown",
   "metadata": {
    "papermill": {
     "duration": 0.024857,
     "end_time": "2020-11-11T00:10:55.997156",
     "exception": false,
     "start_time": "2020-11-11T00:10:55.972299",
     "status": "completed"
    },
    "tags": []
   },
   "source": [
    "# modelling"
   ]
  },
  {
   "cell_type": "code",
   "execution_count": 21,
   "metadata": {
    "execution": {
     "iopub.execute_input": "2020-11-11T00:10:56.065437Z",
     "iopub.status.busy": "2020-11-11T00:10:56.059931Z",
     "iopub.status.idle": "2020-11-11T00:10:56.099465Z",
     "shell.execute_reply": "2020-11-11T00:10:56.098985Z"
    },
    "papermill": {
     "duration": 0.07804,
     "end_time": "2020-11-11T00:10:56.099560",
     "exception": false,
     "start_time": "2020-11-11T00:10:56.021520",
     "status": "completed"
    },
    "tags": []
   },
   "outputs": [],
   "source": [
    "batch_size = 128\n",
    "n_folds=7\n",
    "EARLY_STOPPING_STEPS = 10\n",
    "smoothing = 0.001\n",
    "p_min = smoothing\n",
    "p_max = 1 - smoothing\n",
    "\n",
    "def mean_log_loss(y_true, y_pred):\n",
    "    metrics = []\n",
    "    for i, target in enumerate(target_feats):\n",
    "        metrics.append(log_loss(y_true[:, i], y_pred[:, i].astype(float), labels=[0,1]))\n",
    "    return np.mean(metrics)\n",
    "\n",
    "def modelling_torch(tr, target, te, sample_seed, init_num, last_num, train_epochs):\n",
    "    seed_everything(seed=sample_seed) \n",
    "    X_train = tr.copy()\n",
    "    y_train = target.copy()\n",
    "    X_test = te.copy()\n",
    "    test_len = X_test.shape[0]\n",
    "    \n",
    "    mskf=MultilabelStratifiedKFold(n_splits = n_folds, shuffle=True, random_state=224)\n",
    "    metric = lambda inputs, targets : F.binary_cross_entropy((torch.clamp(torch.sigmoid(inputs), p_min, p_max)), targets)\n",
    "\n",
    "    models = []\n",
    "    \n",
    "    X_test2 = torch.tensor(X_test, dtype=torch.float32)\n",
    "    test = torch.utils.data.TensorDataset(X_test2) \n",
    "    test_loader = torch.utils.data.DataLoader(test, batch_size=batch_size, shuffle=False)\n",
    "    \n",
    "    oof = np.zeros([len(X_train),y_train.shape[1]])\n",
    "    oof_targets = np.zeros([len(X_train),y_train.shape[1]])\n",
    "    pred_value = np.zeros([test_len, y_train.shape[1]])\n",
    "    scores = []\n",
    "    for fold in range(n_folds):\n",
    "        valid_index = X_train[:,-1] == fold\n",
    "        train_index = X_train[:,-1] != fold\n",
    "        print(\"Fold \"+str(fold+1))\n",
    "        X_train2 = torch.tensor(X_train[train_index,:], dtype=torch.float32)\n",
    "        X_valid2 = torch.tensor(X_train[valid_index,:], dtype=torch.float32)\n",
    "        X_train2 = X_train2[:,:-1]\n",
    "        X_valid2 = X_valid2[:,:-1]\n",
    "        \n",
    "        y_train2 = torch.tensor(y_train[train_index], dtype=torch.float32)\n",
    "        y_valid2 = torch.tensor(y_train[valid_index], dtype=torch.float32)\n",
    "        \n",
    "        train = torch.utils.data.TensorDataset(X_train2, y_train2)\n",
    "        valid = torch.utils.data.TensorDataset(X_valid2, y_valid2)\n",
    "        \n",
    "        train_loader = torch.utils.data.DataLoader(train, batch_size=batch_size, shuffle=True) \n",
    "        valid_loader = torch.utils.data.DataLoader(valid, batch_size=batch_size, shuffle=False)\n",
    "            \n",
    "        clf = MoaModel(init_num, last_num)\n",
    "        loss_fn = SmoothCrossEntropyLoss(smoothing=smoothing)\n",
    "\n",
    "        optimizer = optim.Adam(clf.parameters(), lr = 0.001, weight_decay=1e-5) \n",
    "        scheduler = optim.lr_scheduler.OneCycleLR(optimizer=optimizer, pct_start=0.1, div_factor=1e3, \n",
    "                                              max_lr=1e-2, epochs=train_epochs, steps_per_epoch=len(train_loader))\n",
    "        \n",
    "        clf.to(device)\n",
    "        \n",
    "        best_val_loss = np.inf\n",
    "        stop_counts = 0\n",
    "        for epoch in range(train_epochs):\n",
    "            start_time = time.time()\n",
    "            clf.train()\n",
    "            avg_loss = 0.\n",
    "            sm_avg_loss = 0.\n",
    "            for x_batch, y_batch in tqdm(train_loader, disable=True):\n",
    "                x_batch = x_batch.to(device)\n",
    "                y_batch = y_batch.to(device)\n",
    "                y_pred = clf(x_batch) \n",
    "                loss = loss_fn(y_pred, y_batch)\n",
    "                optimizer.zero_grad()\n",
    "                loss.backward()\n",
    "                optimizer.step()\n",
    "                scheduler.step()\n",
    "                avg_loss += loss.item() / len(train_loader)  \n",
    "                sm_avg_loss += metric(y_pred, y_batch) / len(train_loader) \n",
    "                \n",
    "            clf.eval()\n",
    "            avg_val_loss = 0.\n",
    "            sm_avg_val_loss = 0.\n",
    "            for i, (x_batch, y_batch) in enumerate(valid_loader): \n",
    "                x_batch = x_batch.to(device)\n",
    "                y_batch = y_batch.to(device)\n",
    "                y_pred = clf(x_batch).detach()\n",
    "                avg_val_loss += loss_fn(y_pred, y_batch).item() / len(valid_loader)\n",
    "                sm_avg_val_loss += metric(y_pred, y_batch) / len(valid_loader)\n",
    "        \n",
    "            elapsed_time = time.time() - start_time \n",
    "            #scheduler.step() #avg_val_loss # maybe mistake\n",
    "                    \n",
    "            if sm_avg_val_loss < best_val_loss:\n",
    "                best_val_loss = sm_avg_val_loss\n",
    "                print('Epoch {}   loss={:.5f}   val_loss={:.5f}   sm_loss={:.5f}   sm_val_loss={:.5f}   time={:.2f}s'.format(\n",
    "                    epoch + 1, avg_loss, avg_val_loss, sm_avg_loss, sm_avg_val_loss, elapsed_time))\n",
    "                torch.save(clf.state_dict(), 'best-model-parameters.pt')\n",
    "            else:\n",
    "                stop_counts += 1\n",
    "        \n",
    "        pred_model = MoaModel(init_num, last_num)\n",
    "        pred_model.load_state_dict(torch.load('best-model-parameters.pt'))         \n",
    "        pred_model.eval()\n",
    "        \n",
    "        # validation check ----------------\n",
    "        oof_epoch = np.zeros([X_valid2.size(0), y_train.shape[1]])\n",
    "        target_epoch = np.zeros([X_valid2.size(0), y_train.shape[1]])\n",
    "        for i, (x_batch, y_batch) in enumerate(valid_loader): \n",
    "                y_pred = pred_model(x_batch).detach()\n",
    "                oof_epoch[i * batch_size:(i+1) * batch_size,:] = torch.clamp(torch.sigmoid(y_pred.cpu()), p_min, p_max)\n",
    "                target_epoch[i * batch_size:(i+1) * batch_size,:] = y_batch.cpu().numpy()\n",
    "        print(\"Fold {} log loss: {}\".format(fold+1, mean_log_loss(target_epoch, oof_epoch)))\n",
    "        scores.append(mean_log_loss(target_epoch, oof_epoch))\n",
    "        oof[valid_index,:] = oof_epoch\n",
    "        oof_targets[valid_index,:] = target_epoch\n",
    "        #-----------------------------------\n",
    "        \n",
    "        # test predcition --------------\n",
    "        test_preds = np.zeros([test_len, y_train.shape[1]])\n",
    "        for i, (x_batch,) in enumerate(test_loader): \n",
    "            y_pred = pred_model(x_batch).detach()\n",
    "            test_preds[i * batch_size:(i+1) * batch_size, :] = torch.clamp(torch.sigmoid(y_pred.cpu()), p_min, p_max)\n",
    "        pred_value += test_preds / n_folds\n",
    "        # ------------------------------\n",
    "        \n",
    "    print(\"Seed {}\".format(seed_))\n",
    "    for i, ele in enumerate(scores):\n",
    "        print(\"Fold {} log loss: {}\".format(i+1, scores[i]))\n",
    "    print(\"Std of log loss: {}\".format(np.std(scores)))\n",
    "    print(\"Total log loss: {}\".format(mean_log_loss(oof_targets, oof)))\n",
    "    \n",
    "    return oof, oof_targets, pred_value"
   ]
  },
  {
   "cell_type": "code",
   "execution_count": 22,
   "metadata": {
    "execution": {
     "iopub.execute_input": "2020-11-11T00:10:56.167121Z",
     "iopub.status.busy": "2020-11-11T00:10:56.166451Z",
     "iopub.status.idle": "2020-11-11T00:23:54.913882Z",
     "shell.execute_reply": "2020-11-11T00:23:54.913310Z"
    },
    "papermill": {
     "duration": 778.78267,
     "end_time": "2020-11-11T00:23:54.913994",
     "exception": false,
     "start_time": "2020-11-11T00:10:56.131324",
     "status": "completed"
    },
    "tags": []
   },
   "outputs": [
    {
     "name": "stdout",
     "output_type": "stream",
     "text": [
      "Fold 1\n",
      "Epoch 1   loss=0.41404   val_loss=0.02299   sm_loss=0.41400   sm_val_loss=0.02295   time=1.62s\n",
      "Epoch 2   loss=0.02007   val_loss=0.01876   sm_loss=0.02005   sm_val_loss=0.01875   time=0.89s\n",
      "Epoch 3   loss=0.01836   val_loss=0.01809   sm_loss=0.01836   sm_val_loss=0.01810   time=0.90s\n",
      "Epoch 4   loss=0.01758   val_loss=0.01800   sm_loss=0.01767   sm_val_loss=0.01800   time=0.89s\n",
      "Epoch 6   loss=0.01742   val_loss=0.01795   sm_loss=0.01753   sm_val_loss=0.01799   time=0.89s\n",
      "Epoch 10   loss=0.01712   val_loss=0.01782   sm_loss=0.01725   sm_val_loss=0.01781   time=0.88s\n",
      "Epoch 11   loss=0.01703   val_loss=0.01764   sm_loss=0.01716   sm_val_loss=0.01765   time=1.39s\n",
      "Epoch 12   loss=0.01680   val_loss=0.01744   sm_loss=0.01693   sm_val_loss=0.01744   time=1.09s\n",
      "Epoch 13   loss=0.01660   val_loss=0.01726   sm_loss=0.01676   sm_val_loss=0.01727   time=0.89s\n",
      "Epoch 16   loss=0.01557   val_loss=0.01711   sm_loss=0.01576   sm_val_loss=0.01711   time=0.94s\n",
      "Epoch 17   loss=0.01513   val_loss=0.01710   sm_loss=0.01533   sm_val_loss=0.01708   time=0.98s\n",
      "Epoch 18   loss=0.01465   val_loss=0.01697   sm_loss=0.01485   sm_val_loss=0.01697   time=1.22s\n",
      "Epoch 19   loss=0.01427   val_loss=0.01693   sm_loss=0.01449   sm_val_loss=0.01693   time=0.97s\n",
      "Fold 1 log loss: 0.017029602308233315\n",
      "Fold 2\n",
      "Epoch 1   loss=0.41223   val_loss=0.02254   sm_loss=0.41219   sm_val_loss=0.02254   time=0.98s\n",
      "Epoch 2   loss=0.02137   val_loss=0.01939   sm_loss=0.02124   sm_val_loss=0.01935   time=0.99s\n",
      "Epoch 3   loss=0.01865   val_loss=0.01797   sm_loss=0.01868   sm_val_loss=0.01803   time=0.97s\n",
      "Epoch 4   loss=0.01781   val_loss=0.01799   sm_loss=0.01791   sm_val_loss=0.01800   time=0.94s\n",
      "Epoch 6   loss=0.01740   val_loss=0.01802   sm_loss=0.01753   sm_val_loss=0.01800   time=0.89s\n",
      "Epoch 7   loss=0.01739   val_loss=0.01753   sm_loss=0.01751   sm_val_loss=0.01753   time=0.93s\n",
      "Epoch 8   loss=0.01728   val_loss=0.01750   sm_loss=0.01741   sm_val_loss=0.01749   time=0.92s\n",
      "Epoch 10   loss=0.01715   val_loss=0.01735   sm_loss=0.01728   sm_val_loss=0.01735   time=1.09s\n",
      "Epoch 14   loss=0.01631   val_loss=0.01713   sm_loss=0.01648   sm_val_loss=0.01717   time=0.91s\n",
      "Epoch 15   loss=0.01591   val_loss=0.01704   sm_loss=0.01609   sm_val_loss=0.01706   time=0.90s\n",
      "Epoch 16   loss=0.01560   val_loss=0.01682   sm_loss=0.01579   sm_val_loss=0.01686   time=0.90s\n",
      "Fold 2 log loss: 0.01697650538650232\n",
      "Fold 3\n",
      "Epoch 1   loss=0.41298   val_loss=0.02314   sm_loss=0.41291   sm_val_loss=0.02311   time=0.89s\n",
      "Epoch 2   loss=0.02020   val_loss=0.01947   sm_loss=0.02011   sm_val_loss=0.01924   time=0.91s\n",
      "Epoch 3   loss=0.01817   val_loss=0.01836   sm_loss=0.01820   sm_val_loss=0.01836   time=0.90s\n",
      "Epoch 7   loss=0.01722   val_loss=0.01828   sm_loss=0.01735   sm_val_loss=0.01829   time=0.90s\n",
      "Epoch 8   loss=0.01722   val_loss=0.01823   sm_loss=0.01734   sm_val_loss=0.01825   time=0.91s\n",
      "Epoch 9   loss=0.01723   val_loss=0.01808   sm_loss=0.01734   sm_val_loss=0.01811   time=0.93s\n",
      "Epoch 11   loss=0.01685   val_loss=0.01785   sm_loss=0.01698   sm_val_loss=0.01787   time=1.15s\n",
      "Epoch 13   loss=0.01644   val_loss=0.01772   sm_loss=0.01659   sm_val_loss=0.01774   time=0.91s\n",
      "Epoch 15   loss=0.01584   val_loss=0.01773   sm_loss=0.01601   sm_val_loss=0.01770   time=0.92s\n",
      "Epoch 16   loss=0.01540   val_loss=0.01760   sm_loss=0.01559   sm_val_loss=0.01760   time=0.93s\n",
      "Epoch 18   loss=0.01442   val_loss=0.01752   sm_loss=0.01463   sm_val_loss=0.01751   time=0.90s\n",
      "Epoch 19   loss=0.01403   val_loss=0.01747   sm_loss=0.01425   sm_val_loss=0.01748   time=0.90s\n",
      "Fold 3 log loss: 0.017429721850307518\n",
      "Fold 4\n",
      "Epoch 1   loss=0.41318   val_loss=0.02318   sm_loss=0.41315   sm_val_loss=0.02312   time=1.06s\n",
      "Epoch 2   loss=0.01998   val_loss=0.01897   sm_loss=0.01995   sm_val_loss=0.01894   time=0.90s\n",
      "Epoch 3   loss=0.01787   val_loss=0.01875   sm_loss=0.01794   sm_val_loss=0.01881   time=0.91s\n",
      "Epoch 4   loss=0.01734   val_loss=0.01876   sm_loss=0.01746   sm_val_loss=0.01865   time=0.90s\n",
      "Epoch 5   loss=0.01723   val_loss=0.01824   sm_loss=0.01736   sm_val_loss=0.01821   time=0.90s\n",
      "Epoch 6   loss=0.01731   val_loss=0.01821   sm_loss=0.01744   sm_val_loss=0.01814   time=0.91s\n",
      "Epoch 10   loss=0.01694   val_loss=0.01805   sm_loss=0.01707   sm_val_loss=0.01802   time=1.33s\n",
      "Epoch 12   loss=0.01662   val_loss=0.01795   sm_loss=0.01677   sm_val_loss=0.01797   time=1.31s\n",
      "Epoch 13   loss=0.01639   val_loss=0.01775   sm_loss=0.01654   sm_val_loss=0.01776   time=0.97s\n",
      "Epoch 16   loss=0.01536   val_loss=0.01764   sm_loss=0.01555   sm_val_loss=0.01763   time=1.03s\n",
      "Epoch 17   loss=0.01489   val_loss=0.01759   sm_loss=0.01509   sm_val_loss=0.01760   time=0.90s\n",
      "Epoch 18   loss=0.01440   val_loss=0.01761   sm_loss=0.01461   sm_val_loss=0.01760   time=0.95s\n",
      "Fold 4 log loss: 0.017682014616460608\n",
      "Fold 5\n",
      "Epoch 1   loss=0.41366   val_loss=0.02219   sm_loss=0.41363   sm_val_loss=0.02219   time=0.93s\n",
      "Epoch 3   loss=0.01847   val_loss=0.01834   sm_loss=0.01847   sm_val_loss=0.01834   time=1.05s\n",
      "Epoch 5   loss=0.01746   val_loss=0.01792   sm_loss=0.01758   sm_val_loss=0.01789   time=0.95s\n",
      "Epoch 9   loss=0.01718   val_loss=0.01766   sm_loss=0.01730   sm_val_loss=0.01768   time=0.93s\n",
      "Epoch 11   loss=0.01688   val_loss=0.01749   sm_loss=0.01702   sm_val_loss=0.01750   time=1.17s\n",
      "Epoch 13   loss=0.01656   val_loss=0.01743   sm_loss=0.01672   sm_val_loss=0.01744   time=0.97s\n",
      "Epoch 14   loss=0.01621   val_loss=0.01728   sm_loss=0.01637   sm_val_loss=0.01733   time=0.98s\n",
      "Epoch 15   loss=0.01587   val_loss=0.01726   sm_loss=0.01605   sm_val_loss=0.01726   time=0.95s\n",
      "Epoch 17   loss=0.01499   val_loss=0.01714   sm_loss=0.01519   sm_val_loss=0.01715   time=0.94s\n",
      "Epoch 18   loss=0.01448   val_loss=0.01702   sm_loss=0.01470   sm_val_loss=0.01704   time=0.95s\n",
      "Epoch 19   loss=0.01410   val_loss=0.01702   sm_loss=0.01432   sm_val_loss=0.01703   time=0.95s\n",
      "Epoch 20   loss=0.01387   val_loss=0.01702   sm_loss=0.01410   sm_val_loss=0.01702   time=1.29s\n",
      "Fold 5 log loss: 0.017228749083296864\n",
      "Fold 6\n",
      "Epoch 1   loss=0.41258   val_loss=0.02235   sm_loss=0.41253   sm_val_loss=0.02233   time=0.95s\n",
      "Epoch 3   loss=0.01825   val_loss=0.01828   sm_loss=0.01829   sm_val_loss=0.01832   time=0.96s\n",
      "Epoch 4   loss=0.01761   val_loss=0.01800   sm_loss=0.01771   sm_val_loss=0.01807   time=0.94s\n",
      "Epoch 9   loss=0.01722   val_loss=0.01787   sm_loss=0.01734   sm_val_loss=0.01793   time=0.97s\n",
      "Epoch 10   loss=0.01706   val_loss=0.01761   sm_loss=0.01718   sm_val_loss=0.01770   time=1.17s\n",
      "Epoch 13   loss=0.01654   val_loss=0.01748   sm_loss=0.01669   sm_val_loss=0.01757   time=1.01s\n",
      "Epoch 15   loss=0.01598   val_loss=0.01719   sm_loss=0.01615   sm_val_loss=0.01727   time=0.96s\n",
      "Epoch 19   loss=0.01439   val_loss=0.01718   sm_loss=0.01460   sm_val_loss=0.01726   time=0.96s\n",
      "Fold 6 log loss: 0.017292442434229068\n",
      "Fold 7\n",
      "Epoch 1   loss=0.41279   val_loss=0.02251   sm_loss=0.41275   sm_val_loss=0.02250   time=0.94s\n",
      "Epoch 2   loss=0.02026   val_loss=0.02060   sm_loss=0.02020   sm_val_loss=0.02021   time=1.37s\n",
      "Epoch 3   loss=0.01837   val_loss=0.01851   sm_loss=0.01836   sm_val_loss=0.01858   time=1.01s\n",
      "Epoch 4   loss=0.01745   val_loss=0.01781   sm_loss=0.01757   sm_val_loss=0.01789   time=1.01s\n",
      "Epoch 7   loss=0.01734   val_loss=0.01778   sm_loss=0.01746   sm_val_loss=0.01785   time=1.34s\n",
      "Epoch 8   loss=0.01727   val_loss=0.01762   sm_loss=0.01739   sm_val_loss=0.01766   time=1.02s\n",
      "Epoch 11   loss=0.01696   val_loss=0.01750   sm_loss=0.01709   sm_val_loss=0.01758   time=0.94s\n",
      "Epoch 13   loss=0.01653   val_loss=0.01726   sm_loss=0.01668   sm_val_loss=0.01732   time=0.94s\n",
      "Epoch 14   loss=0.01627   val_loss=0.01712   sm_loss=0.01643   sm_val_loss=0.01719   time=0.95s\n",
      "Epoch 16   loss=0.01544   val_loss=0.01689   sm_loss=0.01563   sm_val_loss=0.01696   time=0.93s\n",
      "Epoch 18   loss=0.01448   val_loss=0.01686   sm_loss=0.01469   sm_val_loss=0.01692   time=0.96s\n",
      "Fold 7 log loss: 0.016947835167107364\n",
      "Seed 0\n",
      "Fold 1 log loss: 0.017029602308233315\n",
      "Fold 2 log loss: 0.01697650538650232\n",
      "Fold 3 log loss: 0.017429721850307518\n",
      "Fold 4 log loss: 0.017682014616460608\n",
      "Fold 5 log loss: 0.017228749083296864\n",
      "Fold 6 log loss: 0.017292442434229068\n",
      "Fold 7 log loss: 0.016947835167107364\n",
      "Std of log loss: 0.0002484425710275644\n",
      "Total log loss: 0.017226660624374335\n",
      "Fold 1\n",
      "Epoch 1   loss=0.41392   val_loss=0.02254   sm_loss=0.41388   sm_val_loss=0.02251   time=0.90s\n",
      "Epoch 2   loss=0.02014   val_loss=0.01878   sm_loss=0.02011   sm_val_loss=0.01880   time=0.91s\n",
      "Epoch 3   loss=0.01805   val_loss=0.01821   sm_loss=0.01808   sm_val_loss=0.01823   time=0.93s\n",
      "Epoch 4   loss=0.01745   val_loss=0.01803   sm_loss=0.01756   sm_val_loss=0.01803   time=0.92s\n",
      "Epoch 5   loss=0.01733   val_loss=0.01790   sm_loss=0.01746   sm_val_loss=0.01791   time=0.93s\n",
      "Epoch 7   loss=0.01726   val_loss=0.01780   sm_loss=0.01738   sm_val_loss=0.01780   time=0.94s\n",
      "Epoch 9   loss=0.01717   val_loss=0.01765   sm_loss=0.01730   sm_val_loss=0.01766   time=0.97s\n",
      "Epoch 12   loss=0.01675   val_loss=0.01744   sm_loss=0.01689   sm_val_loss=0.01744   time=0.97s\n",
      "Epoch 13   loss=0.01654   val_loss=0.01739   sm_loss=0.01669   sm_val_loss=0.01742   time=0.98s\n",
      "Epoch 14   loss=0.01620   val_loss=0.01728   sm_loss=0.01636   sm_val_loss=0.01730   time=0.98s\n",
      "Epoch 15   loss=0.01591   val_loss=0.01728   sm_loss=0.01608   sm_val_loss=0.01729   time=1.26s\n",
      "Epoch 16   loss=0.01547   val_loss=0.01710   sm_loss=0.01565   sm_val_loss=0.01710   time=0.95s\n",
      "Epoch 17   loss=0.01502   val_loss=0.01708   sm_loss=0.01522   sm_val_loss=0.01708   time=0.91s\n",
      "Epoch 19   loss=0.01408   val_loss=0.01708   sm_loss=0.01430   sm_val_loss=0.01706   time=0.94s\n",
      "Epoch 20   loss=0.01386   val_loss=0.01705   sm_loss=0.01408   sm_val_loss=0.01703   time=0.92s\n",
      "Fold 1 log loss: 0.01712884351622945\n",
      "Fold 2\n",
      "Epoch 1   loss=0.41180   val_loss=0.02181   sm_loss=0.41177   sm_val_loss=0.02181   time=0.95s\n",
      "Epoch 2   loss=0.02017   val_loss=0.01903   sm_loss=0.02015   sm_val_loss=0.01907   time=1.03s\n",
      "Epoch 3   loss=0.01835   val_loss=0.01811   sm_loss=0.01836   sm_val_loss=0.01805   time=0.99s\n",
      "Epoch 4   loss=0.01764   val_loss=0.01765   sm_loss=0.01774   sm_val_loss=0.01768   time=0.97s\n",
      "Epoch 5   loss=0.01744   val_loss=0.01750   sm_loss=0.01755   sm_val_loss=0.01753   time=0.93s\n",
      "Epoch 6   loss=0.01738   val_loss=0.01729   sm_loss=0.01751   sm_val_loss=0.01731   time=0.92s\n",
      "Epoch 13   loss=0.01646   val_loss=0.01702   sm_loss=0.01661   sm_val_loss=0.01706   time=0.96s\n",
      "Epoch 16   loss=0.01548   val_loss=0.01695   sm_loss=0.01568   sm_val_loss=0.01700   time=1.23s\n",
      "Epoch 17   loss=0.01504   val_loss=0.01693   sm_loss=0.01525   sm_val_loss=0.01695   time=0.91s\n",
      "Epoch 18   loss=0.01453   val_loss=0.01685   sm_loss=0.01475   sm_val_loss=0.01686   time=1.04s\n",
      "Epoch 20   loss=0.01393   val_loss=0.01685   sm_loss=0.01415   sm_val_loss=0.01686   time=0.93s\n",
      "Fold 2 log loss: 0.016978836999604126\n",
      "Fold 3\n",
      "Epoch 1   loss=0.41263   val_loss=0.02327   sm_loss=0.41259   sm_val_loss=0.02323   time=0.90s\n",
      "Epoch 2   loss=0.02009   val_loss=0.01882   sm_loss=0.02002   sm_val_loss=0.01886   time=1.12s\n",
      "Epoch 3   loss=0.01787   val_loss=0.01835   sm_loss=0.01793   sm_val_loss=0.01839   time=1.13s\n",
      "Epoch 4   loss=0.01744   val_loss=0.01841   sm_loss=0.01754   sm_val_loss=0.01834   time=0.89s\n",
      "Epoch 5   loss=0.01730   val_loss=0.01819   sm_loss=0.01743   sm_val_loss=0.01823   time=0.93s\n",
      "Epoch 8   loss=0.01716   val_loss=0.01813   sm_loss=0.01729   sm_val_loss=0.01815   time=0.93s\n",
      "Epoch 9   loss=0.01713   val_loss=0.01812   sm_loss=0.01726   sm_val_loss=0.01814   time=0.90s\n",
      "Epoch 12   loss=0.01672   val_loss=0.01807   sm_loss=0.01686   sm_val_loss=0.01807   time=0.93s\n",
      "Epoch 13   loss=0.01647   val_loss=0.01771   sm_loss=0.01662   sm_val_loss=0.01773   time=0.94s\n",
      "Epoch 15   loss=0.01581   val_loss=0.01771   sm_loss=0.01598   sm_val_loss=0.01770   time=0.92s\n",
      "Epoch 17   loss=0.01498   val_loss=0.01767   sm_loss=0.01518   sm_val_loss=0.01767   time=0.90s\n",
      "Epoch 18   loss=0.01447   val_loss=0.01750   sm_loss=0.01468   sm_val_loss=0.01750   time=1.01s\n",
      "Epoch 20   loss=0.01387   val_loss=0.01748   sm_loss=0.01409   sm_val_loss=0.01748   time=0.91s\n",
      "Fold 3 log loss: 0.017428191233810283\n",
      "Fold 4\n",
      "Epoch 1   loss=0.41222   val_loss=0.02276   sm_loss=0.41218   sm_val_loss=0.02274   time=0.90s\n",
      "Epoch 2   loss=0.02011   val_loss=0.02146   sm_loss=0.02009   sm_val_loss=0.02009   time=0.93s\n",
      "Epoch 3   loss=0.01800   val_loss=0.01905   sm_loss=0.01807   sm_val_loss=0.01892   time=1.06s\n",
      "Epoch 4   loss=0.01749   val_loss=0.01847   sm_loss=0.01760   sm_val_loss=0.01844   time=0.89s\n",
      "Epoch 5   loss=0.01727   val_loss=0.01839   sm_loss=0.01740   sm_val_loss=0.01834   time=0.89s\n",
      "Epoch 9   loss=0.01711   val_loss=0.01829   sm_loss=0.01724   sm_val_loss=0.01825   time=0.91s\n",
      "Epoch 10   loss=0.01698   val_loss=0.01812   sm_loss=0.01712   sm_val_loss=0.01811   time=0.90s\n",
      "Epoch 11   loss=0.01681   val_loss=0.01801   sm_loss=0.01694   sm_val_loss=0.01801   time=0.91s\n",
      "Epoch 12   loss=0.01665   val_loss=0.01800   sm_loss=0.01679   sm_val_loss=0.01800   time=0.90s\n",
      "Epoch 13   loss=0.01643   val_loss=0.01776   sm_loss=0.01659   sm_val_loss=0.01775   time=1.01s\n",
      "Epoch 14   loss=0.01618   val_loss=0.01765   sm_loss=0.01635   sm_val_loss=0.01767   time=1.11s\n",
      "Epoch 17   loss=0.01493   val_loss=0.01763   sm_loss=0.01514   sm_val_loss=0.01763   time=0.90s\n",
      "Epoch 18   loss=0.01448   val_loss=0.01755   sm_loss=0.01470   sm_val_loss=0.01756   time=0.91s\n",
      "Fold 4 log loss: 0.017655560941294102\n",
      "Fold 5\n",
      "Epoch 1   loss=0.41420   val_loss=0.02248   sm_loss=0.41414   sm_val_loss=0.02247   time=0.89s\n",
      "Epoch 2   loss=0.02027   val_loss=0.01905   sm_loss=0.02020   sm_val_loss=0.01908   time=0.89s\n",
      "Epoch 3   loss=0.01810   val_loss=0.01827   sm_loss=0.01812   sm_val_loss=0.01826   time=0.89s\n",
      "Epoch 5   loss=0.01739   val_loss=0.01787   sm_loss=0.01750   sm_val_loss=0.01786   time=0.89s\n",
      "Epoch 9   loss=0.01719   val_loss=0.01785   sm_loss=0.01731   sm_val_loss=0.01785   time=1.14s\n",
      "Epoch 10   loss=0.01709   val_loss=0.01777   sm_loss=0.01723   sm_val_loss=0.01775   time=0.93s\n",
      "Epoch 11   loss=0.01692   val_loss=0.01773   sm_loss=0.01706   sm_val_loss=0.01773   time=1.18s\n",
      "Epoch 12   loss=0.01681   val_loss=0.01743   sm_loss=0.01695   sm_val_loss=0.01744   time=0.92s\n",
      "Epoch 13   loss=0.01650   val_loss=0.01739   sm_loss=0.01665   sm_val_loss=0.01742   time=0.94s\n",
      "Epoch 15   loss=0.01589   val_loss=0.01728   sm_loss=0.01606   sm_val_loss=0.01732   time=0.95s\n",
      "Epoch 16   loss=0.01551   val_loss=0.01707   sm_loss=0.01570   sm_val_loss=0.01710   time=0.92s\n",
      "Epoch 17   loss=0.01510   val_loss=0.01701   sm_loss=0.01530   sm_val_loss=0.01703   time=0.95s\n",
      "Epoch 18   loss=0.01462   val_loss=0.01698   sm_loss=0.01483   sm_val_loss=0.01699   time=0.93s\n",
      "Epoch 19   loss=0.01421   val_loss=0.01696   sm_loss=0.01443   sm_val_loss=0.01696   time=1.18s\n",
      "Fold 5 log loss: 0.017182991646556935\n",
      "Fold 6\n",
      "Epoch 1   loss=0.41139   val_loss=0.02258   sm_loss=0.41134   sm_val_loss=0.02254   time=1.15s\n",
      "Epoch 2   loss=0.02026   val_loss=0.02061   sm_loss=0.02018   sm_val_loss=0.02046   time=1.02s\n",
      "Epoch 3   loss=0.01830   val_loss=0.01893   sm_loss=0.01834   sm_val_loss=0.01894   time=0.91s\n",
      "Epoch 4   loss=0.01755   val_loss=0.01806   sm_loss=0.01765   sm_val_loss=0.01813   time=0.91s\n",
      "Epoch 7   loss=0.01750   val_loss=0.01792   sm_loss=0.01761   sm_val_loss=0.01799   time=0.90s\n",
      "Epoch 10   loss=0.01718   val_loss=0.01787   sm_loss=0.01730   sm_val_loss=0.01794   time=0.92s\n",
      "Epoch 11   loss=0.01697   val_loss=0.01771   sm_loss=0.01709   sm_val_loss=0.01780   time=0.95s\n",
      "Epoch 12   loss=0.01680   val_loss=0.01767   sm_loss=0.01694   sm_val_loss=0.01774   time=0.90s\n",
      "Epoch 13   loss=0.01661   val_loss=0.01757   sm_loss=0.01675   sm_val_loss=0.01765   time=0.89s\n",
      "Epoch 14   loss=0.01625   val_loss=0.01736   sm_loss=0.01640   sm_val_loss=0.01744   time=0.90s\n",
      "Epoch 17   loss=0.01511   val_loss=0.01718   sm_loss=0.01531   sm_val_loss=0.01726   time=0.89s\n",
      "Epoch 18   loss=0.01471   val_loss=0.01718   sm_loss=0.01491   sm_val_loss=0.01725   time=0.90s\n",
      "Epoch 19   loss=0.01437   val_loss=0.01715   sm_loss=0.01458   sm_val_loss=0.01724   time=0.91s\n",
      "Fold 6 log loss: 0.01726619742611034\n",
      "Fold 7\n",
      "Epoch 1   loss=0.41297   val_loss=0.02242   sm_loss=0.41293   sm_val_loss=0.02241   time=0.90s\n",
      "Epoch 2   loss=0.02016   val_loss=0.02040   sm_loss=0.02012   sm_val_loss=0.02041   time=0.89s\n",
      "Epoch 3   loss=0.01809   val_loss=0.01830   sm_loss=0.01812   sm_val_loss=0.01837   time=0.89s\n",
      "Epoch 4   loss=0.01761   val_loss=0.01793   sm_loss=0.01769   sm_val_loss=0.01795   time=0.90s\n",
      "Epoch 5   loss=0.01736   val_loss=0.01781   sm_loss=0.01748   sm_val_loss=0.01787   time=0.90s\n",
      "Epoch 8   loss=0.01729   val_loss=0.01783   sm_loss=0.01741   sm_val_loss=0.01786   time=0.92s\n",
      "Epoch 9   loss=0.01720   val_loss=0.01739   sm_loss=0.01732   sm_val_loss=0.01746   time=0.92s\n",
      "Epoch 12   loss=0.01675   val_loss=0.01732   sm_loss=0.01689   sm_val_loss=0.01738   time=0.90s\n",
      "Epoch 14   loss=0.01622   val_loss=0.01713   sm_loss=0.01638   sm_val_loss=0.01721   time=0.95s\n",
      "Epoch 15   loss=0.01588   val_loss=0.01709   sm_loss=0.01606   sm_val_loss=0.01717   time=0.92s\n",
      "Epoch 16   loss=0.01542   val_loss=0.01688   sm_loss=0.01561   sm_val_loss=0.01697   time=0.91s\n",
      "Epoch 17   loss=0.01496   val_loss=0.01686   sm_loss=0.01516   sm_val_loss=0.01693   time=0.92s\n",
      "Epoch 20   loss=0.01385   val_loss=0.01684   sm_loss=0.01407   sm_val_loss=0.01692   time=0.94s\n",
      "Fold 7 log loss: 0.016949311199626785\n",
      "Seed 1\n",
      "Fold 1 log loss: 0.01712884351622945\n",
      "Fold 2 log loss: 0.016978836999604126\n",
      "Fold 3 log loss: 0.017428191233810283\n",
      "Fold 4 log loss: 0.017655560941294102\n",
      "Fold 5 log loss: 0.017182991646556935\n",
      "Fold 6 log loss: 0.01726619742611034\n",
      "Fold 7 log loss: 0.016949311199626785\n",
      "Std of log loss: 0.00023174680824741898\n",
      "Total log loss: 0.017226995438028588\n",
      "Fold 1\n",
      "Epoch 1   loss=0.41315   val_loss=0.02330   sm_loss=0.41307   sm_val_loss=0.02327   time=0.90s\n",
      "Epoch 2   loss=0.02020   val_loss=0.01924   sm_loss=0.02012   sm_val_loss=0.01913   time=0.89s\n",
      "Epoch 3   loss=0.01805   val_loss=0.01863   sm_loss=0.01809   sm_val_loss=0.01868   time=0.90s\n",
      "Epoch 4   loss=0.01749   val_loss=0.01812   sm_loss=0.01758   sm_val_loss=0.01814   time=1.07s\n",
      "Epoch 5   loss=0.01737   val_loss=0.01789   sm_loss=0.01749   sm_val_loss=0.01793   time=1.11s\n",
      "Epoch 6   loss=0.01729   val_loss=0.01777   sm_loss=0.01741   sm_val_loss=0.01777   time=0.90s\n",
      "Epoch 11   loss=0.01697   val_loss=0.01761   sm_loss=0.01710   sm_val_loss=0.01760   time=0.93s\n",
      "Epoch 12   loss=0.01678   val_loss=0.01745   sm_loss=0.01691   sm_val_loss=0.01747   time=0.90s\n",
      "Epoch 14   loss=0.01626   val_loss=0.01718   sm_loss=0.01642   sm_val_loss=0.01721   time=0.91s\n",
      "Epoch 16   loss=0.01546   val_loss=0.01709   sm_loss=0.01565   sm_val_loss=0.01711   time=0.88s\n",
      "Epoch 17   loss=0.01501   val_loss=0.01706   sm_loss=0.01521   sm_val_loss=0.01707   time=0.89s\n",
      "Epoch 18   loss=0.01450   val_loss=0.01705   sm_loss=0.01472   sm_val_loss=0.01706   time=0.90s\n",
      "Epoch 19   loss=0.01414   val_loss=0.01696   sm_loss=0.01436   sm_val_loss=0.01697   time=0.93s\n",
      "Fold 1 log loss: 0.01706996192452462\n",
      "Fold 2\n",
      "Epoch 1   loss=0.41208   val_loss=0.02169   sm_loss=0.41207   sm_val_loss=0.02169   time=1.18s\n",
      "Epoch 3   loss=0.01831   val_loss=0.01812   sm_loss=0.01832   sm_val_loss=0.01814   time=0.89s\n",
      "Epoch 4   loss=0.01763   val_loss=0.01771   sm_loss=0.01773   sm_val_loss=0.01768   time=0.92s\n",
      "Epoch 8   loss=0.01731   val_loss=0.01765   sm_loss=0.01743   sm_val_loss=0.01764   time=0.96s\n",
      "Epoch 9   loss=0.01719   val_loss=0.01722   sm_loss=0.01732   sm_val_loss=0.01729   time=1.27s\n",
      "Epoch 12   loss=0.01671   val_loss=0.01715   sm_loss=0.01685   sm_val_loss=0.01719   time=0.90s\n",
      "Epoch 13   loss=0.01656   val_loss=0.01703   sm_loss=0.01671   sm_val_loss=0.01705   time=0.90s\n",
      "Epoch 16   loss=0.01547   val_loss=0.01692   sm_loss=0.01567   sm_val_loss=0.01696   time=0.90s\n",
      "Epoch 17   loss=0.01501   val_loss=0.01686   sm_loss=0.01522   sm_val_loss=0.01689   time=0.91s\n",
      "Fold 2 log loss: 0.016999762312948957\n",
      "Fold 3\n",
      "Epoch 1   loss=0.41192   val_loss=0.02264   sm_loss=0.41186   sm_val_loss=0.02258   time=0.88s\n",
      "Epoch 2   loss=0.02015   val_loss=0.02041   sm_loss=0.02009   sm_val_loss=0.02039   time=0.90s\n",
      "Epoch 3   loss=0.01797   val_loss=0.01839   sm_loss=0.01803   sm_val_loss=0.01843   time=0.89s\n",
      "Epoch 4   loss=0.01744   val_loss=0.01834   sm_loss=0.01755   sm_val_loss=0.01836   time=0.89s\n",
      "Epoch 5   loss=0.01735   val_loss=0.01813   sm_loss=0.01747   sm_val_loss=0.01815   time=0.91s\n",
      "Epoch 10   loss=0.01710   val_loss=0.01797   sm_loss=0.01722   sm_val_loss=0.01798   time=1.16s\n",
      "Epoch 12   loss=0.01669   val_loss=0.01786   sm_loss=0.01683   sm_val_loss=0.01788   time=1.07s\n",
      "Epoch 13   loss=0.01646   val_loss=0.01779   sm_loss=0.01660   sm_val_loss=0.01776   time=0.93s\n",
      "Epoch 15   loss=0.01583   val_loss=0.01771   sm_loss=0.01601   sm_val_loss=0.01770   time=0.91s\n",
      "Epoch 16   loss=0.01545   val_loss=0.01766   sm_loss=0.01564   sm_val_loss=0.01765   time=0.89s\n",
      "Epoch 17   loss=0.01494   val_loss=0.01751   sm_loss=0.01514   sm_val_loss=0.01750   time=0.89s\n",
      "Epoch 18   loss=0.01449   val_loss=0.01747   sm_loss=0.01470   sm_val_loss=0.01745   time=0.89s\n",
      "Epoch 19   loss=0.01410   val_loss=0.01746   sm_loss=0.01432   sm_val_loss=0.01744   time=0.99s\n",
      "Fold 3 log loss: 0.017398033971938943\n",
      "Fold 4\n",
      "Epoch 1   loss=0.41198   val_loss=0.02299   sm_loss=0.41192   sm_val_loss=0.02291   time=0.91s\n",
      "Epoch 2   loss=0.02001   val_loss=0.02061   sm_loss=0.01999   sm_val_loss=0.01974   time=0.89s\n",
      "Epoch 3   loss=0.01803   val_loss=0.01965   sm_loss=0.01809   sm_val_loss=0.01962   time=0.94s\n",
      "Epoch 4   loss=0.01760   val_loss=0.01893   sm_loss=0.01770   sm_val_loss=0.01893   time=0.91s\n",
      "Epoch 5   loss=0.01732   val_loss=0.01852   sm_loss=0.01745   sm_val_loss=0.01845   time=1.25s\n",
      "Epoch 6   loss=0.01730   val_loss=0.01841   sm_loss=0.01742   sm_val_loss=0.01837   time=0.93s\n",
      "Epoch 7   loss=0.01722   val_loss=0.01832   sm_loss=0.01735   sm_val_loss=0.01830   time=0.93s\n",
      "Epoch 9   loss=0.01709   val_loss=0.01829   sm_loss=0.01722   sm_val_loss=0.01828   time=0.92s\n",
      "Epoch 10   loss=0.01702   val_loss=0.01824   sm_loss=0.01715   sm_val_loss=0.01826   time=1.18s\n",
      "Epoch 11   loss=0.01685   val_loss=0.01801   sm_loss=0.01698   sm_val_loss=0.01801   time=0.90s\n",
      "Epoch 13   loss=0.01647   val_loss=0.01793   sm_loss=0.01663   sm_val_loss=0.01791   time=0.89s\n",
      "Epoch 14   loss=0.01609   val_loss=0.01775   sm_loss=0.01626   sm_val_loss=0.01779   time=0.91s\n",
      "Epoch 15   loss=0.01579   val_loss=0.01772   sm_loss=0.01597   sm_val_loss=0.01773   time=0.92s\n",
      "Epoch 16   loss=0.01534   val_loss=0.01771   sm_loss=0.01554   sm_val_loss=0.01770   time=0.91s\n",
      "Epoch 18   loss=0.01443   val_loss=0.01768   sm_loss=0.01465   sm_val_loss=0.01768   time=0.92s\n",
      "Epoch 19   loss=0.01400   val_loss=0.01766   sm_loss=0.01422   sm_val_loss=0.01766   time=0.93s\n",
      "Epoch 20   loss=0.01384   val_loss=0.01761   sm_loss=0.01406   sm_val_loss=0.01761   time=0.92s\n",
      "Fold 4 log loss: 0.01770503924398334\n",
      "Fold 5\n",
      "Epoch 1   loss=0.41386   val_loss=0.02252   sm_loss=0.41383   sm_val_loss=0.02250   time=0.91s\n",
      "Epoch 2   loss=0.02021   val_loss=0.01974   sm_loss=0.02017   sm_val_loss=0.01963   time=0.94s\n",
      "Epoch 3   loss=0.01811   val_loss=0.01805   sm_loss=0.01812   sm_val_loss=0.01806   time=0.90s\n",
      "Epoch 4   loss=0.01745   val_loss=0.01795   sm_loss=0.01756   sm_val_loss=0.01795   time=0.91s\n",
      "Epoch 6   loss=0.01733   val_loss=0.01791   sm_loss=0.01745   sm_val_loss=0.01787   time=0.88s\n",
      "Epoch 10   loss=0.01704   val_loss=0.01754   sm_loss=0.01717   sm_val_loss=0.01755   time=1.10s\n",
      "Epoch 12   loss=0.01666   val_loss=0.01743   sm_loss=0.01680   sm_val_loss=0.01744   time=0.89s\n",
      "Epoch 13   loss=0.01639   val_loss=0.01739   sm_loss=0.01655   sm_val_loss=0.01738   time=0.91s\n",
      "Epoch 14   loss=0.01616   val_loss=0.01732   sm_loss=0.01633   sm_val_loss=0.01734   time=0.90s\n",
      "Epoch 15   loss=0.01583   val_loss=0.01715   sm_loss=0.01601   sm_val_loss=0.01714   time=0.90s\n",
      "Epoch 16   loss=0.01544   val_loss=0.01713   sm_loss=0.01564   sm_val_loss=0.01711   time=0.89s\n",
      "Epoch 17   loss=0.01498   val_loss=0.01705   sm_loss=0.01518   sm_val_loss=0.01702   time=0.90s\n",
      "Epoch 18   loss=0.01449   val_loss=0.01694   sm_loss=0.01470   sm_val_loss=0.01691   time=0.89s\n",
      "Fold 5 log loss: 0.01715258688616834\n",
      "Fold 6\n",
      "Epoch 1   loss=0.41313   val_loss=0.02244   sm_loss=0.41307   sm_val_loss=0.02243   time=0.95s\n",
      "Epoch 2   loss=0.02007   val_loss=0.02184   sm_loss=0.02005   sm_val_loss=0.02150   time=0.94s\n",
      "Epoch 3   loss=0.01813   val_loss=0.02016   sm_loss=0.01814   sm_val_loss=0.02019   time=0.92s\n",
      "Epoch 4   loss=0.01745   val_loss=0.01820   sm_loss=0.01757   sm_val_loss=0.01827   time=0.91s\n",
      "Epoch 5   loss=0.01748   val_loss=0.01813   sm_loss=0.01759   sm_val_loss=0.01821   time=0.90s\n",
      "Epoch 8   loss=0.01733   val_loss=0.01788   sm_loss=0.01744   sm_val_loss=0.01793   time=0.94s\n",
      "Epoch 11   loss=0.01700   val_loss=0.01781   sm_loss=0.01712   sm_val_loss=0.01790   time=1.30s\n",
      "Epoch 12   loss=0.01677   val_loss=0.01774   sm_loss=0.01690   sm_val_loss=0.01780   time=0.91s\n",
      "Epoch 13   loss=0.01660   val_loss=0.01753   sm_loss=0.01675   sm_val_loss=0.01761   time=0.92s\n",
      "Epoch 14   loss=0.01626   val_loss=0.01735   sm_loss=0.01642   sm_val_loss=0.01743   time=0.89s\n",
      "Epoch 16   loss=0.01554   val_loss=0.01723   sm_loss=0.01572   sm_val_loss=0.01733   time=0.97s\n",
      "Epoch 17   loss=0.01504   val_loss=0.01720   sm_loss=0.01523   sm_val_loss=0.01729   time=1.16s\n",
      "Epoch 18   loss=0.01461   val_loss=0.01720   sm_loss=0.01481   sm_val_loss=0.01729   time=0.91s\n",
      "Epoch 19   loss=0.01422   val_loss=0.01719   sm_loss=0.01443   sm_val_loss=0.01728   time=0.92s\n",
      "Epoch 20   loss=0.01401   val_loss=0.01715   sm_loss=0.01423   sm_val_loss=0.01725   time=0.91s\n",
      "Fold 6 log loss: 0.017277066773698536\n",
      "Fold 7\n",
      "Epoch 1   loss=0.41333   val_loss=0.02233   sm_loss=0.41329   sm_val_loss=0.02232   time=0.93s\n",
      "Epoch 2   loss=0.02014   val_loss=0.02102   sm_loss=0.02011   sm_val_loss=0.02074   time=0.92s\n",
      "Epoch 3   loss=0.01839   val_loss=0.01813   sm_loss=0.01837   sm_val_loss=0.01817   time=0.92s\n",
      "Epoch 4   loss=0.01756   val_loss=0.01787   sm_loss=0.01766   sm_val_loss=0.01792   time=0.97s\n",
      "Epoch 5   loss=0.01736   val_loss=0.01782   sm_loss=0.01748   sm_val_loss=0.01788   time=0.90s\n",
      "Epoch 9   loss=0.01724   val_loss=0.01756   sm_loss=0.01736   sm_val_loss=0.01763   time=0.89s\n",
      "Epoch 12   loss=0.01681   val_loss=0.01736   sm_loss=0.01695   sm_val_loss=0.01743   time=0.90s\n",
      "Epoch 13   loss=0.01649   val_loss=0.01727   sm_loss=0.01664   sm_val_loss=0.01734   time=0.89s\n",
      "Epoch 15   loss=0.01587   val_loss=0.01710   sm_loss=0.01604   sm_val_loss=0.01718   time=0.88s\n",
      "Epoch 16   loss=0.01546   val_loss=0.01692   sm_loss=0.01564   sm_val_loss=0.01699   time=0.90s\n",
      "Epoch 17   loss=0.01503   val_loss=0.01682   sm_loss=0.01523   sm_val_loss=0.01690   time=0.89s\n",
      "Epoch 18   loss=0.01453   val_loss=0.01680   sm_loss=0.01474   sm_val_loss=0.01686   time=0.91s\n",
      "Epoch 19   loss=0.01413   val_loss=0.01679   sm_loss=0.01435   sm_val_loss=0.01686   time=0.89s\n",
      "Epoch 20   loss=0.01392   val_loss=0.01678   sm_loss=0.01414   sm_val_loss=0.01684   time=1.22s\n",
      "Fold 7 log loss: 0.016867889909711976\n",
      "Seed 2\n",
      "Fold 1 log loss: 0.01706996192452462\n",
      "Fold 2 log loss: 0.016999762312948957\n",
      "Fold 3 log loss: 0.017398033971938943\n",
      "Fold 4 log loss: 0.01770503924398334\n",
      "Fold 5 log loss: 0.01715258688616834\n",
      "Fold 6 log loss: 0.017277066773698536\n",
      "Fold 7 log loss: 0.016867889909711976\n",
      "Std of log loss: 0.00025886143297232513\n",
      "Total log loss: 0.01720970727233516\n",
      "Fold 1\n",
      "Epoch 1   loss=0.41312   val_loss=0.02273   sm_loss=0.41305   sm_val_loss=0.02270   time=0.91s\n",
      "Epoch 2   loss=0.02017   val_loss=0.02121   sm_loss=0.02012   sm_val_loss=0.02093   time=0.92s\n",
      "Epoch 3   loss=0.01816   val_loss=0.01821   sm_loss=0.01817   sm_val_loss=0.01822   time=0.89s\n",
      "Epoch 4   loss=0.01754   val_loss=0.01793   sm_loss=0.01764   sm_val_loss=0.01794   time=0.88s\n",
      "Epoch 8   loss=0.01723   val_loss=0.01788   sm_loss=0.01736   sm_val_loss=0.01785   time=0.89s\n",
      "Epoch 9   loss=0.01719   val_loss=0.01775   sm_loss=0.01731   sm_val_loss=0.01776   time=0.90s\n",
      "Epoch 12   loss=0.01678   val_loss=0.01753   sm_loss=0.01692   sm_val_loss=0.01756   time=0.88s\n",
      "Epoch 13   loss=0.01647   val_loss=0.01747   sm_loss=0.01662   sm_val_loss=0.01748   time=0.88s\n",
      "Epoch 14   loss=0.01625   val_loss=0.01747   sm_loss=0.01641   sm_val_loss=0.01746   time=0.90s\n",
      "Epoch 15   loss=0.01590   val_loss=0.01730   sm_loss=0.01608   sm_val_loss=0.01731   time=0.90s\n",
      "Epoch 16   loss=0.01550   val_loss=0.01718   sm_loss=0.01569   sm_val_loss=0.01718   time=0.89s\n",
      "Epoch 17   loss=0.01507   val_loss=0.01717   sm_loss=0.01526   sm_val_loss=0.01716   time=0.89s\n",
      "Epoch 18   loss=0.01457   val_loss=0.01714   sm_loss=0.01478   sm_val_loss=0.01713   time=0.89s\n",
      "Epoch 19   loss=0.01411   val_loss=0.01709   sm_loss=0.01433   sm_val_loss=0.01709   time=0.90s\n",
      "Fold 1 log loss: 0.017201570665984975\n",
      "Fold 2\n",
      "Epoch 1   loss=0.41246   val_loss=0.02183   sm_loss=0.41243   sm_val_loss=0.02182   time=0.89s\n",
      "Epoch 2   loss=0.02026   val_loss=0.01858   sm_loss=0.02020   sm_val_loss=0.01861   time=0.89s\n",
      "Epoch 4   loss=0.01770   val_loss=0.01770   sm_loss=0.01780   sm_val_loss=0.01772   time=0.90s\n",
      "Epoch 6   loss=0.01740   val_loss=0.01764   sm_loss=0.01753   sm_val_loss=0.01769   time=0.91s\n",
      "Epoch 7   loss=0.01736   val_loss=0.01755   sm_loss=0.01748   sm_val_loss=0.01759   time=0.90s\n",
      "Epoch 8   loss=0.01732   val_loss=0.01733   sm_loss=0.01744   sm_val_loss=0.01737   time=1.26s\n",
      "Epoch 12   loss=0.01674   val_loss=0.01721   sm_loss=0.01689   sm_val_loss=0.01723   time=0.91s\n",
      "Epoch 13   loss=0.01659   val_loss=0.01712   sm_loss=0.01673   sm_val_loss=0.01715   time=1.00s\n",
      "Epoch 14   loss=0.01625   val_loss=0.01698   sm_loss=0.01641   sm_val_loss=0.01702   time=0.89s\n",
      "Epoch 15   loss=0.01595   val_loss=0.01699   sm_loss=0.01613   sm_val_loss=0.01701   time=1.20s\n",
      "Epoch 16   loss=0.01552   val_loss=0.01687   sm_loss=0.01571   sm_val_loss=0.01692   time=0.91s\n",
      "Epoch 17   loss=0.01506   val_loss=0.01688   sm_loss=0.01526   sm_val_loss=0.01691   time=0.98s\n",
      "Epoch 18   loss=0.01462   val_loss=0.01677   sm_loss=0.01483   sm_val_loss=0.01681   time=0.93s\n",
      "Epoch 19   loss=0.01423   val_loss=0.01677   sm_loss=0.01445   sm_val_loss=0.01680   time=0.95s\n",
      "Fold 2 log loss: 0.016931918673503084\n",
      "Fold 3\n",
      "Epoch 1   loss=0.41230   val_loss=0.02290   sm_loss=0.41226   sm_val_loss=0.02289   time=0.92s\n",
      "Epoch 2   loss=0.02001   val_loss=0.02023   sm_loss=0.01996   sm_val_loss=0.02020   time=0.93s\n",
      "Epoch 3   loss=0.01843   val_loss=0.01834   sm_loss=0.01842   sm_val_loss=0.01840   time=0.93s\n",
      "Epoch 5   loss=0.01734   val_loss=0.01832   sm_loss=0.01746   sm_val_loss=0.01836   time=0.91s\n",
      "Epoch 7   loss=0.01732   val_loss=0.01816   sm_loss=0.01744   sm_val_loss=0.01821   time=0.90s\n",
      "Epoch 11   loss=0.01693   val_loss=0.01780   sm_loss=0.01706   sm_val_loss=0.01784   time=0.91s\n",
      "Epoch 14   loss=0.01622   val_loss=0.01768   sm_loss=0.01638   sm_val_loss=0.01770   time=0.90s\n",
      "Epoch 15   loss=0.01582   val_loss=0.01768   sm_loss=0.01599   sm_val_loss=0.01767   time=0.94s\n",
      "Epoch 16   loss=0.01541   val_loss=0.01743   sm_loss=0.01560   sm_val_loss=0.01746   time=0.90s\n",
      "Epoch 18   loss=0.01448   val_loss=0.01742   sm_loss=0.01469   sm_val_loss=0.01742   time=1.20s\n",
      "Fold 3 log loss: 0.017379504065392428\n",
      "Fold 4\n",
      "Epoch 1   loss=0.41294   val_loss=0.02292   sm_loss=0.41290   sm_val_loss=0.02291   time=0.90s\n",
      "Epoch 3   loss=0.01795   val_loss=0.01920   sm_loss=0.01800   sm_val_loss=0.01887   time=0.90s\n",
      "Epoch 5   loss=0.01725   val_loss=0.01851   sm_loss=0.01738   sm_val_loss=0.01845   time=0.91s\n",
      "Epoch 7   loss=0.01719   val_loss=0.01834   sm_loss=0.01732   sm_val_loss=0.01830   time=0.88s\n",
      "Epoch 8   loss=0.01720   val_loss=0.01807   sm_loss=0.01732   sm_val_loss=0.01808   time=0.89s\n",
      "Epoch 12   loss=0.01664   val_loss=0.01792   sm_loss=0.01678   sm_val_loss=0.01791   time=0.97s\n",
      "Epoch 13   loss=0.01636   val_loss=0.01790   sm_loss=0.01651   sm_val_loss=0.01788   time=0.89s\n",
      "Epoch 14   loss=0.01617   val_loss=0.01780   sm_loss=0.01634   sm_val_loss=0.01780   time=0.90s\n",
      "Epoch 16   loss=0.01541   val_loss=0.01774   sm_loss=0.01560   sm_val_loss=0.01775   time=0.87s\n",
      "Epoch 17   loss=0.01493   val_loss=0.01773   sm_loss=0.01514   sm_val_loss=0.01771   time=0.88s\n",
      "Epoch 18   loss=0.01448   val_loss=0.01761   sm_loss=0.01469   sm_val_loss=0.01761   time=0.92s\n",
      "Epoch 20   loss=0.01387   val_loss=0.01761   sm_loss=0.01409   sm_val_loss=0.01760   time=0.87s\n",
      "Fold 4 log loss: 0.017693669536575772\n",
      "Fold 5\n",
      "Epoch 1   loss=0.41331   val_loss=0.02233   sm_loss=0.41326   sm_val_loss=0.02232   time=1.09s\n",
      "Epoch 3   loss=0.01831   val_loss=0.01809   sm_loss=0.01829   sm_val_loss=0.01808   time=0.92s\n",
      "Epoch 4   loss=0.01754   val_loss=0.01797   sm_loss=0.01765   sm_val_loss=0.01796   time=0.89s\n",
      "Epoch 8   loss=0.01723   val_loss=0.01781   sm_loss=0.01735   sm_val_loss=0.01784   time=1.05s\n",
      "Epoch 10   loss=0.01703   val_loss=0.01780   sm_loss=0.01716   sm_val_loss=0.01778   time=0.92s\n",
      "Epoch 11   loss=0.01684   val_loss=0.01770   sm_loss=0.01697   sm_val_loss=0.01769   time=1.26s\n",
      "Epoch 12   loss=0.01676   val_loss=0.01756   sm_loss=0.01690   sm_val_loss=0.01758   time=0.99s\n",
      "Epoch 13   loss=0.01641   val_loss=0.01743   sm_loss=0.01656   sm_val_loss=0.01744   time=0.92s\n",
      "Epoch 15   loss=0.01588   val_loss=0.01725   sm_loss=0.01606   sm_val_loss=0.01725   time=0.89s\n",
      "Epoch 16   loss=0.01548   val_loss=0.01709   sm_loss=0.01567   sm_val_loss=0.01708   time=0.88s\n",
      "Epoch 17   loss=0.01505   val_loss=0.01704   sm_loss=0.01525   sm_val_loss=0.01702   time=0.95s\n",
      "Epoch 20   loss=0.01397   val_loss=0.01698   sm_loss=0.01419   sm_val_loss=0.01697   time=0.95s\n",
      "Fold 5 log loss: 0.017197338230509902\n",
      "Fold 6\n",
      "Epoch 1   loss=0.41308   val_loss=0.02237   sm_loss=0.41303   sm_val_loss=0.02236   time=1.04s\n",
      "Epoch 2   loss=0.02005   val_loss=0.02149   sm_loss=0.02001   sm_val_loss=0.02058   time=0.93s\n",
      "Epoch 4   loss=0.01747   val_loss=0.01817   sm_loss=0.01756   sm_val_loss=0.01824   time=0.92s\n",
      "Epoch 8   loss=0.01729   val_loss=0.01814   sm_loss=0.01740   sm_val_loss=0.01820   time=0.91s\n",
      "Epoch 9   loss=0.01719   val_loss=0.01791   sm_loss=0.01730   sm_val_loss=0.01799   time=0.93s\n",
      "Epoch 10   loss=0.01710   val_loss=0.01782   sm_loss=0.01722   sm_val_loss=0.01789   time=0.94s\n",
      "Epoch 11   loss=0.01694   val_loss=0.01777   sm_loss=0.01706   sm_val_loss=0.01785   time=0.93s\n",
      "Epoch 12   loss=0.01677   val_loss=0.01744   sm_loss=0.01690   sm_val_loss=0.01754   time=1.16s\n",
      "Epoch 14   loss=0.01630   val_loss=0.01738   sm_loss=0.01645   sm_val_loss=0.01747   time=1.00s\n",
      "Epoch 15   loss=0.01600   val_loss=0.01724   sm_loss=0.01616   sm_val_loss=0.01732   time=0.96s\n",
      "Epoch 17   loss=0.01523   val_loss=0.01708   sm_loss=0.01543   sm_val_loss=0.01717   time=1.17s\n",
      "Epoch 19   loss=0.01437   val_loss=0.01707   sm_loss=0.01458   sm_val_loss=0.01716   time=0.95s\n",
      "Fold 6 log loss: 0.017200852242273544\n",
      "Fold 7\n",
      "Epoch 1   loss=0.41276   val_loss=0.02304   sm_loss=0.41271   sm_val_loss=0.02303   time=0.96s\n",
      "Epoch 2   loss=0.02017   val_loss=0.02093   sm_loss=0.02012   sm_val_loss=0.02091   time=0.95s\n",
      "Epoch 3   loss=0.01817   val_loss=0.01817   sm_loss=0.01818   sm_val_loss=0.01822   time=0.96s\n",
      "Epoch 4   loss=0.01750   val_loss=0.01794   sm_loss=0.01762   sm_val_loss=0.01802   time=0.93s\n",
      "Epoch 7   loss=0.01736   val_loss=0.01784   sm_loss=0.01747   sm_val_loss=0.01790   time=0.93s\n",
      "Epoch 10   loss=0.01709   val_loss=0.01762   sm_loss=0.01721   sm_val_loss=0.01766   time=0.95s\n",
      "Epoch 11   loss=0.01696   val_loss=0.01744   sm_loss=0.01709   sm_val_loss=0.01750   time=1.11s\n",
      "Epoch 12   loss=0.01681   val_loss=0.01737   sm_loss=0.01695   sm_val_loss=0.01743   time=0.97s\n",
      "Epoch 13   loss=0.01656   val_loss=0.01726   sm_loss=0.01671   sm_val_loss=0.01733   time=0.94s\n",
      "Epoch 14   loss=0.01627   val_loss=0.01715   sm_loss=0.01642   sm_val_loss=0.01723   time=0.94s\n",
      "Epoch 15   loss=0.01592   val_loss=0.01708   sm_loss=0.01609   sm_val_loss=0.01715   time=0.94s\n",
      "Epoch 16   loss=0.01551   val_loss=0.01700   sm_loss=0.01569   sm_val_loss=0.01708   time=0.96s\n",
      "Epoch 17   loss=0.01503   val_loss=0.01696   sm_loss=0.01523   sm_val_loss=0.01703   time=0.97s\n",
      "Epoch 18   loss=0.01456   val_loss=0.01691   sm_loss=0.01477   sm_val_loss=0.01697   time=0.99s\n",
      "Epoch 19   loss=0.01413   val_loss=0.01690   sm_loss=0.01435   sm_val_loss=0.01697   time=0.97s\n",
      "Epoch 20   loss=0.01393   val_loss=0.01687   sm_loss=0.01415   sm_val_loss=0.01693   time=0.97s\n",
      "Fold 7 log loss: 0.01696052305494046\n",
      "Seed 3\n",
      "Fold 1 log loss: 0.017201570665984975\n",
      "Fold 2 log loss: 0.016931918673503084\n",
      "Fold 3 log loss: 0.017379504065392428\n",
      "Fold 4 log loss: 0.017693669536575772\n",
      "Fold 5 log loss: 0.017197338230509902\n",
      "Fold 6 log loss: 0.017200852242273544\n",
      "Fold 7 log loss: 0.01696052305494046\n",
      "Std of log loss: 0.00023941934227806214\n",
      "Total log loss: 0.01722363271908993\n",
      "Fold 1\n",
      "Epoch 1   loss=0.41386   val_loss=0.02247   sm_loss=0.41383   sm_val_loss=0.02244   time=0.97s\n",
      "Epoch 2   loss=0.02043   val_loss=0.01932   sm_loss=0.02034   sm_val_loss=0.01933   time=1.47s\n",
      "Epoch 3   loss=0.01811   val_loss=0.01826   sm_loss=0.01816   sm_val_loss=0.01827   time=1.41s\n",
      "Epoch 4   loss=0.01749   val_loss=0.01808   sm_loss=0.01761   sm_val_loss=0.01808   time=0.91s\n",
      "Epoch 5   loss=0.01734   val_loss=0.01796   sm_loss=0.01746   sm_val_loss=0.01798   time=0.93s\n",
      "Epoch 8   loss=0.01729   val_loss=0.01785   sm_loss=0.01740   sm_val_loss=0.01784   time=0.97s\n",
      "Epoch 9   loss=0.01723   val_loss=0.01775   sm_loss=0.01735   sm_val_loss=0.01778   time=1.10s\n",
      "Epoch 10   loss=0.01719   val_loss=0.01764   sm_loss=0.01731   sm_val_loss=0.01768   time=0.97s\n",
      "Epoch 13   loss=0.01658   val_loss=0.01739   sm_loss=0.01672   sm_val_loss=0.01742   time=0.90s\n",
      "Epoch 15   loss=0.01594   val_loss=0.01725   sm_loss=0.01611   sm_val_loss=0.01727   time=0.93s\n",
      "Epoch 16   loss=0.01552   val_loss=0.01720   sm_loss=0.01570   sm_val_loss=0.01719   time=0.95s\n",
      "Epoch 17   loss=0.01505   val_loss=0.01709   sm_loss=0.01525   sm_val_loss=0.01708   time=0.98s\n",
      "Epoch 18   loss=0.01455   val_loss=0.01707   sm_loss=0.01476   sm_val_loss=0.01705   time=0.98s\n",
      "Epoch 19   loss=0.01416   val_loss=0.01699   sm_loss=0.01437   sm_val_loss=0.01697   time=0.99s\n",
      "Epoch 20   loss=0.01392   val_loss=0.01699   sm_loss=0.01414   sm_val_loss=0.01697   time=1.19s\n",
      "Fold 1 log loss: 0.017070385098531753\n",
      "Fold 2\n",
      "Epoch 1   loss=0.41203   val_loss=0.02185   sm_loss=0.41200   sm_val_loss=0.02184   time=0.94s\n",
      "Epoch 2   loss=0.02025   val_loss=0.01924   sm_loss=0.02019   sm_val_loss=0.01926   time=0.91s\n",
      "Epoch 3   loss=0.01826   val_loss=0.01770   sm_loss=0.01827   sm_val_loss=0.01777   time=0.90s\n",
      "Epoch 5   loss=0.01743   val_loss=0.01761   sm_loss=0.01755   sm_val_loss=0.01763   time=0.95s\n",
      "Epoch 7   loss=0.01734   val_loss=0.01731   sm_loss=0.01746   sm_val_loss=0.01736   time=0.95s\n",
      "Epoch 10   loss=0.01714   val_loss=0.01728   sm_loss=0.01727   sm_val_loss=0.01732   time=0.95s\n",
      "Epoch 13   loss=0.01648   val_loss=0.01696   sm_loss=0.01663   sm_val_loss=0.01699   time=1.00s\n",
      "Epoch 15   loss=0.01587   val_loss=0.01687   sm_loss=0.01605   sm_val_loss=0.01691   time=0.91s\n",
      "Epoch 17   loss=0.01502   val_loss=0.01678   sm_loss=0.01523   sm_val_loss=0.01683   time=0.90s\n",
      "Epoch 19   loss=0.01405   val_loss=0.01679   sm_loss=0.01427   sm_val_loss=0.01681   time=0.93s\n",
      "Fold 2 log loss: 0.0169300684676076\n",
      "Fold 3\n",
      "Epoch 1   loss=0.41303   val_loss=0.02262   sm_loss=0.41300   sm_val_loss=0.02257   time=0.91s\n",
      "Epoch 2   loss=0.02023   val_loss=0.02000   sm_loss=0.02016   sm_val_loss=0.01959   time=0.90s\n",
      "Epoch 3   loss=0.01821   val_loss=0.01862   sm_loss=0.01823   sm_val_loss=0.01863   time=0.91s\n",
      "Epoch 4   loss=0.01772   val_loss=0.01840   sm_loss=0.01779   sm_val_loss=0.01842   time=0.90s\n",
      "Epoch 9   loss=0.01711   val_loss=0.01814   sm_loss=0.01724   sm_val_loss=0.01816   time=1.13s\n",
      "Epoch 10   loss=0.01697   val_loss=0.01802   sm_loss=0.01710   sm_val_loss=0.01804   time=0.99s\n",
      "Epoch 12   loss=0.01670   val_loss=0.01798   sm_loss=0.01684   sm_val_loss=0.01800   time=0.93s\n",
      "Epoch 14   loss=0.01620   val_loss=0.01772   sm_loss=0.01636   sm_val_loss=0.01771   time=0.94s\n",
      "Epoch 16   loss=0.01547   val_loss=0.01757   sm_loss=0.01565   sm_val_loss=0.01757   time=1.19s\n",
      "Epoch 17   loss=0.01500   val_loss=0.01753   sm_loss=0.01520   sm_val_loss=0.01755   time=0.93s\n",
      "Epoch 18   loss=0.01451   val_loss=0.01754   sm_loss=0.01472   sm_val_loss=0.01752   time=0.89s\n",
      "Fold 3 log loss: 0.017443304823971145\n",
      "Fold 4\n",
      "Epoch 1   loss=0.41170   val_loss=0.02330   sm_loss=0.41166   sm_val_loss=0.02327   time=0.96s\n",
      "Epoch 2   loss=0.01998   val_loss=0.02111   sm_loss=0.01997   sm_val_loss=0.02089   time=0.91s\n",
      "Epoch 3   loss=0.01802   val_loss=0.01904   sm_loss=0.01808   sm_val_loss=0.01889   time=0.95s\n",
      "Epoch 4   loss=0.01744   val_loss=0.01838   sm_loss=0.01756   sm_val_loss=0.01837   time=0.91s\n",
      "Epoch 7   loss=0.01724   val_loss=0.01830   sm_loss=0.01737   sm_val_loss=0.01832   time=0.90s\n",
      "Epoch 11   loss=0.01680   val_loss=0.01823   sm_loss=0.01694   sm_val_loss=0.01821   time=0.90s\n",
      "Epoch 12   loss=0.01659   val_loss=0.01781   sm_loss=0.01673   sm_val_loss=0.01784   time=0.90s\n",
      "Epoch 14   loss=0.01610   val_loss=0.01773   sm_loss=0.01626   sm_val_loss=0.01774   time=1.00s\n",
      "Epoch 15   loss=0.01573   val_loss=0.01769   sm_loss=0.01591   sm_val_loss=0.01771   time=0.91s\n",
      "Epoch 16   loss=0.01531   val_loss=0.01773   sm_loss=0.01551   sm_val_loss=0.01771   time=0.89s\n",
      "Epoch 17   loss=0.01487   val_loss=0.01761   sm_loss=0.01508   sm_val_loss=0.01760   time=0.90s\n",
      "Fold 4 log loss: 0.017699188533469884\n",
      "Fold 5\n",
      "Epoch 1   loss=0.41204   val_loss=0.02252   sm_loss=0.41198   sm_val_loss=0.02251   time=0.90s\n",
      "Epoch 2   loss=0.02017   val_loss=0.01941   sm_loss=0.02011   sm_val_loss=0.01935   time=0.90s\n",
      "Epoch 3   loss=0.01796   val_loss=0.01880   sm_loss=0.01802   sm_val_loss=0.01885   time=0.91s\n",
      "Epoch 4   loss=0.01756   val_loss=0.01784   sm_loss=0.01766   sm_val_loss=0.01786   time=0.90s\n",
      "Epoch 9   loss=0.01713   val_loss=0.01782   sm_loss=0.01726   sm_val_loss=0.01781   time=0.92s\n",
      "Epoch 11   loss=0.01688   val_loss=0.01754   sm_loss=0.01701   sm_val_loss=0.01757   time=1.22s\n",
      "Epoch 12   loss=0.01666   val_loss=0.01749   sm_loss=0.01681   sm_val_loss=0.01746   time=1.04s\n",
      "Epoch 14   loss=0.01623   val_loss=0.01716   sm_loss=0.01640   sm_val_loss=0.01717   time=0.89s\n",
      "Epoch 17   loss=0.01498   val_loss=0.01702   sm_loss=0.01519   sm_val_loss=0.01701   time=0.88s\n",
      "Epoch 18   loss=0.01456   val_loss=0.01695   sm_loss=0.01477   sm_val_loss=0.01695   time=0.89s\n",
      "Epoch 19   loss=0.01413   val_loss=0.01693   sm_loss=0.01435   sm_val_loss=0.01692   time=0.89s\n",
      "Epoch 20   loss=0.01394   val_loss=0.01692   sm_loss=0.01417   sm_val_loss=0.01691   time=0.90s\n",
      "Fold 5 log loss: 0.01717805639120857\n",
      "Fold 6\n",
      "Epoch 1   loss=0.41272   val_loss=0.02334   sm_loss=0.41266   sm_val_loss=0.02332   time=0.94s\n",
      "Epoch 2   loss=0.02032   val_loss=0.01994   sm_loss=0.02024   sm_val_loss=0.01993   time=0.93s\n",
      "Epoch 3   loss=0.01828   val_loss=0.01881   sm_loss=0.01833   sm_val_loss=0.01888   time=0.89s\n",
      "Epoch 4   loss=0.01765   val_loss=0.01822   sm_loss=0.01774   sm_val_loss=0.01827   time=0.92s\n",
      "Epoch 6   loss=0.01738   val_loss=0.01798   sm_loss=0.01750   sm_val_loss=0.01805   time=0.89s\n",
      "Epoch 9   loss=0.01723   val_loss=0.01787   sm_loss=0.01735   sm_val_loss=0.01793   time=0.94s\n",
      "Epoch 10   loss=0.01710   val_loss=0.01784   sm_loss=0.01722   sm_val_loss=0.01792   time=1.35s\n",
      "Epoch 11   loss=0.01692   val_loss=0.01778   sm_loss=0.01704   sm_val_loss=0.01783   time=0.95s\n",
      "Epoch 12   loss=0.01670   val_loss=0.01772   sm_loss=0.01684   sm_val_loss=0.01778   time=0.94s\n",
      "Epoch 13   loss=0.01656   val_loss=0.01741   sm_loss=0.01670   sm_val_loss=0.01749   time=0.92s\n",
      "Epoch 14   loss=0.01624   val_loss=0.01737   sm_loss=0.01639   sm_val_loss=0.01746   time=0.93s\n",
      "Epoch 15   loss=0.01590   val_loss=0.01737   sm_loss=0.01606   sm_val_loss=0.01744   time=0.94s\n",
      "Epoch 16   loss=0.01547   val_loss=0.01730   sm_loss=0.01566   sm_val_loss=0.01738   time=1.00s\n",
      "Epoch 17   loss=0.01505   val_loss=0.01719   sm_loss=0.01525   sm_val_loss=0.01728   time=0.93s\n",
      "Epoch 18   loss=0.01468   val_loss=0.01712   sm_loss=0.01488   sm_val_loss=0.01721   time=0.92s\n",
      "Fold 6 log loss: 0.017232845456489784\n",
      "Fold 7\n",
      "Epoch 1   loss=0.41394   val_loss=0.02253   sm_loss=0.41390   sm_val_loss=0.02252   time=0.91s\n",
      "Epoch 2   loss=0.02023   val_loss=0.01920   sm_loss=0.02019   sm_val_loss=0.01918   time=0.92s\n",
      "Epoch 3   loss=0.01855   val_loss=0.01800   sm_loss=0.01851   sm_val_loss=0.01806   time=0.91s\n",
      "Epoch 5   loss=0.01740   val_loss=0.01799   sm_loss=0.01751   sm_val_loss=0.01805   time=0.90s\n",
      "Epoch 7   loss=0.01731   val_loss=0.01760   sm_loss=0.01743   sm_val_loss=0.01765   time=0.90s\n",
      "Epoch 11   loss=0.01690   val_loss=0.01753   sm_loss=0.01703   sm_val_loss=0.01758   time=0.89s\n",
      "Epoch 12   loss=0.01673   val_loss=0.01733   sm_loss=0.01687   sm_val_loss=0.01740   time=0.92s\n",
      "Epoch 13   loss=0.01647   val_loss=0.01735   sm_loss=0.01662   sm_val_loss=0.01740   time=0.89s\n",
      "Epoch 14   loss=0.01621   val_loss=0.01721   sm_loss=0.01637   sm_val_loss=0.01728   time=0.90s\n",
      "Epoch 15   loss=0.01582   val_loss=0.01706   sm_loss=0.01599   sm_val_loss=0.01714   time=0.90s\n",
      "Epoch 17   loss=0.01494   val_loss=0.01698   sm_loss=0.01513   sm_val_loss=0.01705   time=0.89s\n",
      "Epoch 18   loss=0.01442   val_loss=0.01695   sm_loss=0.01463   sm_val_loss=0.01702   time=0.90s\n",
      "Epoch 19   loss=0.01399   val_loss=0.01690   sm_loss=0.01421   sm_val_loss=0.01697   time=0.90s\n",
      "Epoch 20   loss=0.01375   val_loss=0.01688   sm_loss=0.01397   sm_val_loss=0.01695   time=0.88s\n",
      "Fold 7 log loss: 0.01697557678146386\n",
      "Seed 4\n",
      "Fold 1 log loss: 0.017070385098531753\n",
      "Fold 2 log loss: 0.0169300684676076\n",
      "Fold 3 log loss: 0.017443304823971145\n",
      "Fold 4 log loss: 0.017699188533469884\n",
      "Fold 5 log loss: 0.01717805639120857\n",
      "Fold 6 log loss: 0.017232845456489784\n",
      "Fold 7 log loss: 0.01697557678146386\n",
      "Std of log loss: 0.0002528643382559853\n",
      "Total log loss: 0.01721838695818771\n",
      "Total log loss in targets: 0.017017360211096573\n"
     ]
    }
   ],
   "source": [
    "seeds = [0,1,2,3,4] \n",
    "target_oof = np.zeros([len(fn_train),fn_targets.shape[1]])\n",
    "target_pred = np.zeros([len(fn_test),fn_targets.shape[1]])\n",
    "\n",
    "for seed_ in seeds:\n",
    "    oof, oof_targets, pytorch_pred = modelling_torch(fn_train, fn_targets, fn_test, seed_, fn_train.shape[1]-1, fn_targets.shape[1], 20)\n",
    "    target_oof += oof / len(seeds)\n",
    "    target_pred += pytorch_pred / len(seeds)\n",
    "\n",
    "print(\"Total log loss in targets: {}\".format(mean_log_loss(oof_targets, target_oof)))"
   ]
  },
  {
   "cell_type": "code",
   "execution_count": 23,
   "metadata": {
    "execution": {
     "iopub.execute_input": "2020-11-11T00:23:55.329559Z",
     "iopub.status.busy": "2020-11-11T00:23:55.328582Z",
     "iopub.status.idle": "2020-11-11T00:23:56.451563Z",
     "shell.execute_reply": "2020-11-11T00:23:56.451006Z"
    },
    "papermill": {
     "duration": 1.332823,
     "end_time": "2020-11-11T00:23:56.451676",
     "exception": false,
     "start_time": "2020-11-11T00:23:55.118853",
     "status": "completed"
    },
    "tags": []
   },
   "outputs": [
    {
     "name": "stdout",
     "output_type": "stream",
     "text": [
      "Overall AUC : 0.6484945860306494\n"
     ]
    }
   ],
   "source": [
    "aucs = []\n",
    "for task_id in range(targets.shape[1]-1):\n",
    "    aucs.append(roc_auc_score(y_true=targets.iloc[:, task_id+1].values,\n",
    "                              y_score=target_oof[:, task_id]))\n",
    "print(f\"Overall AUC : {np.mean(aucs)}\")"
   ]
  },
  {
   "cell_type": "code",
   "execution_count": 24,
   "metadata": {
    "execution": {
     "iopub.execute_input": "2020-11-11T00:23:56.875929Z",
     "iopub.status.busy": "2020-11-11T00:23:56.874972Z",
     "iopub.status.idle": "2020-11-11T00:24:03.389203Z",
     "shell.execute_reply": "2020-11-11T00:24:03.389929Z"
    },
    "papermill": {
     "duration": 6.729899,
     "end_time": "2020-11-11T00:24:03.390093",
     "exception": false,
     "start_time": "2020-11-11T00:23:56.660194",
     "status": "completed"
    },
    "tags": []
   },
   "outputs": [
    {
     "name": "stdout",
     "output_type": "stream",
     "text": [
      "OOF log loss:  0.01568392634219994\n"
     ]
    }
   ],
   "source": [
    "t = pd.read_csv(DATA_DIR + 'train_targets_scored.csv')\n",
    "train_checkscore = t.copy()\n",
    "train_checkscore.loc[train_checkscore.index.isin(cons_train_index),target_feats] = target_oof\n",
    "train_checkscore.loc[train_checkscore.index.isin(noncons_train_index),target_feats] = 0\n",
    "t.drop(\"sig_id\", axis=1, inplace=True)\n",
    "print('OOF log loss: ', log_loss(np.ravel(t), np.ravel(np.array(train_checkscore.iloc[:,1:]))))"
   ]
  },
  {
   "cell_type": "code",
   "execution_count": 25,
   "metadata": {
    "execution": {
     "iopub.execute_input": "2020-11-11T00:24:03.823996Z",
     "iopub.status.busy": "2020-11-11T00:24:03.822737Z",
     "iopub.status.idle": "2020-11-11T00:24:06.324260Z",
     "shell.execute_reply": "2020-11-11T00:24:06.323576Z"
    },
    "papermill": {
     "duration": 2.715724,
     "end_time": "2020-11-11T00:24:06.324383",
     "exception": false,
     "start_time": "2020-11-11T00:24:03.608659",
     "status": "completed"
    },
    "tags": []
   },
   "outputs": [],
   "source": [
    "sub.loc[cons_test_index,target_feats] = target_pred\n",
    "sub.loc[noncons_test_index,target_feats] = 0\n",
    "sub.to_csv('submission.csv', index=False)"
   ]
  },
  {
   "cell_type": "code",
   "execution_count": null,
   "metadata": {
    "papermill": {
     "duration": 0.209232,
     "end_time": "2020-11-11T00:24:06.738378",
     "exception": false,
     "start_time": "2020-11-11T00:24:06.529146",
     "status": "completed"
    },
    "tags": []
   },
   "outputs": [],
   "source": []
  }
 ],
 "metadata": {
  "kernelspec": {
   "display_name": "Python 3",
   "language": "python",
   "name": "python3"
  },
  "language_info": {
   "codemirror_mode": {
    "name": "ipython",
    "version": 3
   },
   "file_extension": ".py",
   "mimetype": "text/x-python",
   "name": "python",
   "nbconvert_exporter": "python",
   "pygments_lexer": "ipython3",
   "version": "3.7.6"
  },
  "papermill": {
   "duration": 860.905278,
   "end_time": "2020-11-11T00:24:07.551870",
   "environment_variables": {},
   "exception": null,
   "input_path": "__notebook__.ipynb",
   "output_path": "__notebook__.ipynb",
   "parameters": {},
   "start_time": "2020-11-11T00:09:46.646592",
   "version": "2.1.0"
  }
 },
 "nbformat": 4,
 "nbformat_minor": 4
}
