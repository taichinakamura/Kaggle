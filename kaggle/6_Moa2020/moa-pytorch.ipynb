{
 "cells": [
  {
   "cell_type": "markdown",
   "metadata": {
    "papermill": {
     "duration": 0.020884,
     "end_time": "2020-11-10T12:21:28.837724",
     "exception": false,
     "start_time": "2020-11-10T12:21:28.816840",
     "status": "completed"
    },
    "tags": []
   },
   "source": [
    "- drop c feats"
   ]
  },
  {
   "cell_type": "code",
   "execution_count": 1,
   "metadata": {
    "_cell_guid": "b1076dfc-b9ad-4769-8c92-a6c4dae69d19",
    "_uuid": "8f2839f25d086af736a60e9eeb907d3b93b6e0e5",
    "execution": {
     "iopub.execute_input": "2020-11-10T12:21:28.887897Z",
     "iopub.status.busy": "2020-11-10T12:21:28.887169Z",
     "iopub.status.idle": "2020-11-10T12:21:40.106410Z",
     "shell.execute_reply": "2020-11-10T12:21:40.104917Z"
    },
    "papermill": {
     "duration": 11.248698,
     "end_time": "2020-11-10T12:21:40.106591",
     "exception": false,
     "start_time": "2020-11-10T12:21:28.857893",
     "status": "completed"
    },
    "tags": []
   },
   "outputs": [],
   "source": [
    "import os\n",
    "import sys\n",
    "import random\n",
    "import warnings\n",
    "import numpy as np\n",
    "import pandas as pd \n",
    "from umap import UMAP\n",
    "from scipy import stats\n",
    "import networkx as nx\n",
    "from sklearn import preprocessing\n",
    "from sklearn.metrics import log_loss,roc_auc_score\n",
    "from sklearn.decomposition import PCA\n",
    "from tqdm import tqdm_notebook as tqdm\n",
    "from sklearn.cluster import KMeans\n",
    "from sklearn.multioutput import MultiOutputClassifier\n",
    "from sklearn.feature_selection import VarianceThreshold\n",
    "\n",
    "sys.path.append('../input/multilabelstraifier/')\n",
    "from ml_stratifiers import MultilabelStratifiedKFold\n",
    "warnings.filterwarnings('ignore')\n",
    "\n",
    "import time\n",
    "import torch\n",
    "import torch.nn as nn\n",
    "import torch.optim as optim\n",
    "import torch.nn.functional as F\n",
    "import tensorflow as tf\n",
    "from torch.nn.modules.loss import _WeightedLoss"
   ]
  },
  {
   "cell_type": "code",
   "execution_count": 2,
   "metadata": {
    "execution": {
     "iopub.execute_input": "2020-11-10T12:21:40.158401Z",
     "iopub.status.busy": "2020-11-10T12:21:40.157262Z",
     "iopub.status.idle": "2020-11-10T12:21:46.635664Z",
     "shell.execute_reply": "2020-11-10T12:21:46.636266Z"
    },
    "papermill": {
     "duration": 6.509315,
     "end_time": "2020-11-10T12:21:46.636475",
     "exception": false,
     "start_time": "2020-11-10T12:21:40.127160",
     "status": "completed"
    },
    "tags": []
   },
   "outputs": [],
   "source": [
    "DATA_DIR = '/kaggle/input/lish-moa/'\n",
    "train = pd.read_csv(DATA_DIR + 'train_features.csv')\n",
    "targets = pd.read_csv(DATA_DIR + 'train_targets_scored.csv')\n",
    "non_targets = pd.read_csv(DATA_DIR + 'train_targets_nonscored.csv')\n",
    "test = pd.read_csv(DATA_DIR + 'test_features.csv')\n",
    "sub = pd.read_csv(DATA_DIR + 'sample_submission.csv')\n",
    "drug = pd.read_csv(DATA_DIR + 'train_drug.csv')"
   ]
  },
  {
   "cell_type": "code",
   "execution_count": 3,
   "metadata": {
    "execution": {
     "iopub.execute_input": "2020-11-10T12:21:46.697118Z",
     "iopub.status.busy": "2020-11-10T12:21:46.695765Z",
     "iopub.status.idle": "2020-11-10T12:21:46.700016Z",
     "shell.execute_reply": "2020-11-10T12:21:46.700593Z"
    },
    "papermill": {
     "duration": 0.039184,
     "end_time": "2020-11-10T12:21:46.700738",
     "exception": false,
     "start_time": "2020-11-10T12:21:46.661554",
     "status": "completed"
    },
    "tags": []
   },
   "outputs": [],
   "source": [
    "target_feats = [ i for i in targets.columns if i != \"sig_id\"]\n",
    "g_feats = [i for i in train.columns if \"g-\" in i]\n",
    "c_feats = [i for i in train.columns if \"c-\" in i]"
   ]
  },
  {
   "cell_type": "code",
   "execution_count": 4,
   "metadata": {
    "execution": {
     "iopub.execute_input": "2020-11-10T12:21:46.766061Z",
     "iopub.status.busy": "2020-11-10T12:21:46.761257Z",
     "iopub.status.idle": "2020-11-10T12:21:46.926046Z",
     "shell.execute_reply": "2020-11-10T12:21:46.925129Z"
    },
    "papermill": {
     "duration": 0.199599,
     "end_time": "2020-11-10T12:21:46.926163",
     "exception": false,
     "start_time": "2020-11-10T12:21:46.726564",
     "status": "completed"
    },
    "tags": []
   },
   "outputs": [],
   "source": [
    "noncons_train_index = train[train.cp_type==\"ctl_vehicle\"].index\n",
    "cons_train_index = train[train.cp_type!=\"ctl_vehicle\"].index\n",
    "noncons_test_index = test[test.cp_type==\"ctl_vehicle\"].index\n",
    "cons_test_index = test[test.cp_type!=\"ctl_vehicle\"].index"
   ]
  },
  {
   "cell_type": "markdown",
   "metadata": {
    "papermill": {
     "duration": 0.027266,
     "end_time": "2020-11-10T12:21:46.982176",
     "exception": false,
     "start_time": "2020-11-10T12:21:46.954910",
     "status": "completed"
    },
    "tags": []
   },
   "source": [
    "# preprocess"
   ]
  },
  {
   "cell_type": "code",
   "execution_count": 5,
   "metadata": {
    "execution": {
     "iopub.execute_input": "2020-11-10T12:21:47.058309Z",
     "iopub.status.busy": "2020-11-10T12:21:47.057513Z",
     "iopub.status.idle": "2020-11-10T12:21:47.346701Z",
     "shell.execute_reply": "2020-11-10T12:21:47.346080Z"
    },
    "papermill": {
     "duration": 0.336978,
     "end_time": "2020-11-10T12:21:47.346827",
     "exception": false,
     "start_time": "2020-11-10T12:21:47.009849",
     "status": "completed"
    },
    "tags": []
   },
   "outputs": [],
   "source": [
    "train = train[train.index.isin(cons_train_index)].copy().reset_index(drop=True)\n",
    "test = test[test.index.isin(cons_test_index)].copy().reset_index(drop=True)\n",
    "targets = targets[targets.index.isin(cons_train_index)].copy().reset_index(drop=True)\n",
    "#non_targets = non_targets[non_targets.index.isin(cons_train_index)].copy().reset_index(drop=True)"
   ]
  },
  {
   "cell_type": "code",
   "execution_count": 6,
   "metadata": {
    "execution": {
     "iopub.execute_input": "2020-11-10T12:21:47.407667Z",
     "iopub.status.busy": "2020-11-10T12:21:47.401432Z",
     "iopub.status.idle": "2020-11-10T12:21:47.951058Z",
     "shell.execute_reply": "2020-11-10T12:21:47.950130Z"
    },
    "papermill": {
     "duration": 0.583609,
     "end_time": "2020-11-10T12:21:47.951174",
     "exception": false,
     "start_time": "2020-11-10T12:21:47.367565",
     "status": "completed"
    },
    "tags": []
   },
   "outputs": [
    {
     "data": {
      "text/plain": [
       "array([[1, 4, 5, ..., 4, 4, 5]], dtype=int8)"
      ]
     },
     "execution_count": 6,
     "metadata": {},
     "output_type": "execute_result"
    }
   ],
   "source": [
    "# https://www.kaggle.com/c/lish-moa/discussion/195195\n",
    "NB_SPLITS = 7\n",
    "seed = 34\n",
    "\n",
    "folds = []\n",
    "    \n",
    "# LOAD FILES\n",
    "train_score = targets.merge(drug, on='sig_id', how='left') \n",
    "\n",
    "# LOCATE DRUGS\n",
    "vc = train_score.drug_id.value_counts()\n",
    "vc1 = vc.loc[vc <= 19].index.sort_values()\n",
    "vc2 = vc.loc[vc > 19].index.sort_values()\n",
    "    \n",
    "# STRATIFY DRUGS 18X OR LESS\n",
    "dct1 = {}; dct2 = {}\n",
    "skf = MultilabelStratifiedKFold(n_splits = NB_SPLITS, shuffle = True, random_state = seed)\n",
    "tmp = train_score.groupby('drug_id')[target_feats].mean().loc[vc1]\n",
    "for fold,(idxT,idxV) in enumerate(skf.split(tmp,tmp[target_feats])):\n",
    "    dd = {k:fold for k in tmp.index[idxV].values}\n",
    "    dct1.update(dd)\n",
    "\n",
    "# STRATIFY DRUGS MORE THAN 18X\n",
    "skf = MultilabelStratifiedKFold(n_splits = NB_SPLITS, shuffle = True, random_state = seed)\n",
    "tmp = train_score.loc[train_score.drug_id.isin(vc2)].reset_index(drop = True)\n",
    "for fold,(idxT,idxV) in enumerate(skf.split(tmp,tmp[target_feats])):\n",
    "    dd = {k:fold for k in tmp.sig_id[idxV].values}\n",
    "    dct2.update(dd)\n",
    "\n",
    "# ASSIGN FOLDS\n",
    "train_score['fold'] = train_score.drug_id.map(dct1)\n",
    "train_score.loc[train_score.fold.isna(),'fold'] = train_score.loc[train_score.fold.isna(),'sig_id'].map(dct2)\n",
    "train_score.fold = train_score.fold.astype('int8')\n",
    "folds.append(train_score.fold.values)\n",
    "    \n",
    "np.array(folds)"
   ]
  },
  {
   "cell_type": "markdown",
   "metadata": {
    "papermill": {
     "duration": 0.020244,
     "end_time": "2020-11-10T12:21:47.992812",
     "exception": false,
     "start_time": "2020-11-10T12:21:47.972568",
     "status": "completed"
    },
    "tags": []
   },
   "source": [
    "# Feature engineering "
   ]
  },
  {
   "cell_type": "code",
   "execution_count": 7,
   "metadata": {
    "execution": {
     "iopub.execute_input": "2020-11-10T12:21:48.088607Z",
     "iopub.status.busy": "2020-11-10T12:21:48.087179Z",
     "iopub.status.idle": "2020-11-10T12:21:48.414055Z",
     "shell.execute_reply": "2020-11-10T12:21:48.413419Z"
    },
    "papermill": {
     "duration": 0.400752,
     "end_time": "2020-11-10T12:21:48.414179",
     "exception": false,
     "start_time": "2020-11-10T12:21:48.013427",
     "status": "completed"
    },
    "tags": []
   },
   "outputs": [
    {
     "name": "stdout",
     "output_type": "stream",
     "text": [
      "33\n"
     ]
    }
   ],
   "source": [
    "X = train.iloc[:,4:].copy().values\n",
    "select = VarianceThreshold(threshold=0.7)\n",
    "X_new = select.fit_transform(X)\n",
    "drop_feats = list(np.array(train.iloc[:,4:].columns)[select.get_support()==False])\n",
    "print(len(drop_feats))"
   ]
  },
  {
   "cell_type": "code",
   "execution_count": 8,
   "metadata": {
    "execution": {
     "iopub.execute_input": "2020-11-10T12:21:48.475418Z",
     "iopub.status.busy": "2020-11-10T12:21:48.473748Z",
     "iopub.status.idle": "2020-11-10T12:21:48.876355Z",
     "shell.execute_reply": "2020-11-10T12:21:48.876942Z"
    },
    "papermill": {
     "duration": 0.440487,
     "end_time": "2020-11-10T12:21:48.877085",
     "exception": false,
     "start_time": "2020-11-10T12:21:48.436598",
     "status": "completed"
    },
    "tags": []
   },
   "outputs": [
    {
     "data": {
      "text/plain": [
       "14"
      ]
     },
     "execution_count": 8,
     "metadata": {},
     "output_type": "execute_result"
    }
   ],
   "source": [
    "correlations = train[c_feats].corr().abs()\n",
    "correlations = (correlations.where(np.triu(np.ones(correlations.shape), k=1).astype(np.bool)).stack().sort_values(ascending=False))\n",
    "\n",
    "pairs_df = (1-correlations).reset_index()\n",
    "G = nx.from_pandas_edgelist(pairs_df[:20], source='level_0', target='level_1', edge_attr=0)\n",
    "c_group = list(nx.algorithms.community.modularity_max.greedy_modularity_communities(G))\n",
    "\n",
    "drop_c_feats = []\n",
    "for i in range(len(c_group)):\n",
    "    for j in list(c_group[i])[1:]:\n",
    "        drop_c_feats.append(j)\n",
    "len(drop_c_feats)"
   ]
  },
  {
   "cell_type": "code",
   "execution_count": 9,
   "metadata": {
    "execution": {
     "iopub.execute_input": "2020-11-10T12:21:48.987963Z",
     "iopub.status.busy": "2020-11-10T12:21:48.982582Z",
     "iopub.status.idle": "2020-11-10T12:21:48.993366Z",
     "shell.execute_reply": "2020-11-10T12:21:48.993830Z"
    },
    "papermill": {
     "duration": 0.092286,
     "end_time": "2020-11-10T12:21:48.994121",
     "exception": false,
     "start_time": "2020-11-10T12:21:48.901835",
     "status": "completed"
    },
    "tags": []
   },
   "outputs": [],
   "source": [
    "train.drop(drop_feats, axis=1, inplace=True)\n",
    "test.drop(drop_feats, axis=1, inplace=True)\n",
    "\n",
    "g_feats = [i for i in train.columns if \"g-\" in i]\n",
    "c_feats = [i for i in train.columns if \"c-\" in i]"
   ]
  },
  {
   "cell_type": "code",
   "execution_count": 10,
   "metadata": {
    "execution": {
     "iopub.execute_input": "2020-11-10T12:21:49.047633Z",
     "iopub.status.busy": "2020-11-10T12:21:49.046912Z",
     "iopub.status.idle": "2020-11-10T12:21:59.347666Z",
     "shell.execute_reply": "2020-11-10T12:21:59.348157Z"
    },
    "papermill": {
     "duration": 10.331664,
     "end_time": "2020-11-10T12:21:59.348304",
     "exception": false,
     "start_time": "2020-11-10T12:21:49.016640",
     "status": "completed"
    },
    "tags": []
   },
   "outputs": [],
   "source": [
    "# rank gauss\n",
    "for i in c_feats + g_feats:\n",
    "    ss = preprocessing.QuantileTransformer(n_quantiles=1000, random_state=0, output_distribution=\"normal\")\n",
    "    ss.fit(train[i].values.reshape(-1,1))\n",
    "    train[i] = ss.transform(train[i].values.reshape(-1,1))\n",
    "    test[i] = ss.transform(test[i].values.reshape(-1,1))"
   ]
  },
  {
   "cell_type": "code",
   "execution_count": 11,
   "metadata": {
    "execution": {
     "iopub.execute_input": "2020-11-10T12:21:59.414935Z",
     "iopub.status.busy": "2020-11-10T12:21:59.413188Z",
     "iopub.status.idle": "2020-11-10T12:22:01.566574Z",
     "shell.execute_reply": "2020-11-10T12:22:01.565968Z"
    },
    "papermill": {
     "duration": 2.194718,
     "end_time": "2020-11-10T12:22:01.566691",
     "exception": false,
     "start_time": "2020-11-10T12:21:59.371973",
     "status": "completed"
    },
    "tags": []
   },
   "outputs": [],
   "source": [
    "c_num = 10\n",
    "pca_c_cols = [\"pca-c\"+str(i+1) for i in range(c_num)]\n",
    "pca = PCA(n_components=c_num,random_state=42)\n",
    "c_train = pca.fit_transform(train[c_feats])\n",
    "c_test = pca.transform(test[c_feats])\n",
    "c_train = pd.DataFrame(c_train, columns=pca_c_cols)\n",
    "c_test = pd.DataFrame(c_test, columns=pca_c_cols)\n",
    "\n",
    "g_num = 60\n",
    "pca_g_cols = [\"pca-g\"+str(i+1) for i in range(g_num)]\n",
    "pca = PCA(n_components=g_num, random_state=42)\n",
    "g_train = pca.fit_transform(train[g_feats])\n",
    "g_test = pca.transform(test[g_feats])\n",
    "g_train = pd.DataFrame(g_train, columns=pca_g_cols)\n",
    "g_test = pd.DataFrame(g_test, columns=pca_g_cols)\n",
    "\n",
    "train = pd.concat([train, c_train],axis=1)\n",
    "test = pd.concat([test, c_test],axis=1)\n",
    "train = pd.concat([train, g_train],axis=1)\n",
    "test = pd.concat([test, g_test],axis=1)"
   ]
  },
  {
   "cell_type": "code",
   "execution_count": 12,
   "metadata": {
    "execution": {
     "iopub.execute_input": "2020-11-10T12:22:01.617162Z",
     "iopub.status.busy": "2020-11-10T12:22:01.616043Z",
     "iopub.status.idle": "2020-11-10T12:22:01.619724Z",
     "shell.execute_reply": "2020-11-10T12:22:01.619115Z"
    },
    "papermill": {
     "duration": 0.030061,
     "end_time": "2020-11-10T12:22:01.619823",
     "exception": false,
     "start_time": "2020-11-10T12:22:01.589762",
     "status": "completed"
    },
    "tags": []
   },
   "outputs": [],
   "source": [
    "#uc_num = 1\n",
    "#um = UMAP(n_neighbors=20, n_components=uc_num, random_state=42)\n",
    "#um_c_cols = [\"um-c\"+str(i+1) for i in range(uc_num)]\n",
    "#uc_train = um.fit_transform(train[c_feats])\n",
    "#uc_test = um.transform(test[c_feats])\n",
    "#uc_train = pd.DataFrame(uc_train, columns=um_c_cols)\n",
    "#uc_test = pd.DataFrame(uc_test, columns=um_c_cols)\n",
    "\n",
    "#ug_num = 5\n",
    "#um = UMAP(n_neighbors=20, n_components=ug_num, random_state=42)\n",
    "#um_g_cols = [\"um-g\"+str(i+1) for i in range(ug_num)]\n",
    "#ug_train = um.fit_transform(train[g_feats])\n",
    "#ug_test = um.transform(test[g_feats])\n",
    "#ug_train = pd.DataFrame(ug_train, columns=um_g_cols)\n",
    "#ug_test = pd.DataFrame(ug_test, columns=um_g_cols)\n",
    "\n",
    "#train = pd.concat([train, uc_train],axis=1)\n",
    "#test = pd.concat([test, uc_test],axis=1)\n",
    "#train = pd.concat([train, ug_train],axis=1)\n",
    "#test = pd.concat([test, ug_test],axis=1)"
   ]
  },
  {
   "cell_type": "code",
   "execution_count": 13,
   "metadata": {
    "execution": {
     "iopub.execute_input": "2020-11-10T12:22:01.673713Z",
     "iopub.status.busy": "2020-11-10T12:22:01.672647Z",
     "iopub.status.idle": "2020-11-10T12:22:03.551385Z",
     "shell.execute_reply": "2020-11-10T12:22:03.550199Z"
    },
    "papermill": {
     "duration": 1.909487,
     "end_time": "2020-11-10T12:22:03.551542",
     "exception": false,
     "start_time": "2020-11-10T12:22:01.642055",
     "status": "completed"
    },
    "tags": []
   },
   "outputs": [],
   "source": [
    "def fe(df):\n",
    "    tmp = df.copy()\n",
    "    tmp['g_kurt'] = tmp[g_feats].kurtosis(axis = 1)\n",
    "    tmp['g_skew'] = tmp[g_feats].skew(axis = 1)\n",
    "    tmp['c_kurt'] = tmp[c_feats].kurtosis(axis = 1)\n",
    "    tmp['c_skew'] = tmp[c_feats].skew(axis = 1)\n",
    "    tmp = pd.get_dummies(tmp, columns=['cp_time','cp_dose'])\n",
    "    tmp.drop([\"cp_type\", \"sig_id\"], axis=1, inplace=True) \n",
    "    return tmp\n",
    "\n",
    "train = fe(train)\n",
    "test = fe(test)"
   ]
  },
  {
   "cell_type": "code",
   "execution_count": 14,
   "metadata": {
    "execution": {
     "iopub.execute_input": "2020-11-10T12:22:03.668675Z",
     "iopub.status.busy": "2020-11-10T12:22:03.657123Z",
     "iopub.status.idle": "2020-11-10T12:22:03.673769Z",
     "shell.execute_reply": "2020-11-10T12:22:03.672910Z"
    },
    "papermill": {
     "duration": 0.095532,
     "end_time": "2020-11-10T12:22:03.673940",
     "exception": false,
     "start_time": "2020-11-10T12:22:03.578408",
     "status": "completed"
    },
    "tags": []
   },
   "outputs": [
    {
     "name": "stdout",
     "output_type": "stream",
     "text": [
      "(21948, 904) (3624, 904)\n"
     ]
    }
   ],
   "source": [
    "train.drop(drop_c_feats, axis=1, inplace=True)\n",
    "test.drop(drop_c_feats, axis=1, inplace=True)\n",
    "\n",
    "g_feats = [i for i in train.columns if \"g-\" in i]\n",
    "c_feats = [i for i in train.columns if \"c-\" in i]\n",
    "print(train.shape, test.shape)"
   ]
  },
  {
   "cell_type": "code",
   "execution_count": 15,
   "metadata": {
    "execution": {
     "iopub.execute_input": "2020-11-10T12:22:03.728783Z",
     "iopub.status.busy": "2020-11-10T12:22:03.728036Z",
     "iopub.status.idle": "2020-11-10T12:22:03.731700Z",
     "shell.execute_reply": "2020-11-10T12:22:03.731182Z"
    },
    "papermill": {
     "duration": 0.032931,
     "end_time": "2020-11-10T12:22:03.731800",
     "exception": false,
     "start_time": "2020-11-10T12:22:03.698869",
     "status": "completed"
    },
    "tags": []
   },
   "outputs": [],
   "source": [
    "train[\"fold\"] = np.array(folds).reshape(-1,1)"
   ]
  },
  {
   "cell_type": "code",
   "execution_count": 16,
   "metadata": {
    "execution": {
     "iopub.execute_input": "2020-11-10T12:22:03.785275Z",
     "iopub.status.busy": "2020-11-10T12:22:03.783940Z",
     "iopub.status.idle": "2020-11-10T12:22:03.946486Z",
     "shell.execute_reply": "2020-11-10T12:22:03.945836Z"
    },
    "papermill": {
     "duration": 0.190999,
     "end_time": "2020-11-10T12:22:03.946608",
     "exception": false,
     "start_time": "2020-11-10T12:22:03.755609",
     "status": "completed"
    },
    "tags": []
   },
   "outputs": [],
   "source": [
    "fn_train = train.copy().to_numpy()\n",
    "fn_test = test.copy().to_numpy()\n",
    "\n",
    "fn_targets = targets.drop(\"sig_id\", axis=1).copy().to_numpy()"
   ]
  },
  {
   "cell_type": "markdown",
   "metadata": {
    "papermill": {
     "duration": 0.026247,
     "end_time": "2020-11-10T12:22:03.999502",
     "exception": false,
     "start_time": "2020-11-10T12:22:03.973255",
     "status": "completed"
    },
    "tags": []
   },
   "source": [
    "# modelling"
   ]
  },
  {
   "cell_type": "code",
   "execution_count": 17,
   "metadata": {
    "execution": {
     "iopub.execute_input": "2020-11-10T12:22:04.415809Z",
     "iopub.status.busy": "2020-11-10T12:22:04.414902Z",
     "iopub.status.idle": "2020-11-10T12:22:04.419263Z",
     "shell.execute_reply": "2020-11-10T12:22:04.418108Z"
    },
    "papermill": {
     "duration": 0.394952,
     "end_time": "2020-11-10T12:22:04.419377",
     "exception": false,
     "start_time": "2020-11-10T12:22:04.024425",
     "status": "completed"
    },
    "tags": []
   },
   "outputs": [],
   "source": [
    "device = \"cuda\" if torch.cuda.is_available() else \"cpu\""
   ]
  },
  {
   "cell_type": "code",
   "execution_count": 18,
   "metadata": {
    "execution": {
     "iopub.execute_input": "2020-11-10T12:22:04.479000Z",
     "iopub.status.busy": "2020-11-10T12:22:04.478268Z",
     "iopub.status.idle": "2020-11-10T12:22:04.481302Z",
     "shell.execute_reply": "2020-11-10T12:22:04.481898Z"
    },
    "papermill": {
     "duration": 0.038599,
     "end_time": "2020-11-10T12:22:04.482019",
     "exception": false,
     "start_time": "2020-11-10T12:22:04.443420",
     "status": "completed"
    },
    "tags": []
   },
   "outputs": [],
   "source": [
    "class SmoothCrossEntropyLoss(_WeightedLoss):\n",
    "    def __init__(self, weight=None, reduction='mean', smoothing=0.0):\n",
    "        super().__init__(weight=weight, reduction=reduction)\n",
    "        self.smoothing = smoothing\n",
    "        self.weight = weight\n",
    "        self.reduction = reduction\n",
    "\n",
    "    @staticmethod\n",
    "    def _smooth(targets, n_classes, smoothing=0.0):\n",
    "        assert 0 <= smoothing <= 1\n",
    "        with torch.no_grad():\n",
    "            targets = targets * (1 - smoothing) + torch.ones_like(targets).to(device) * smoothing / n_classes\n",
    "        return targets\n",
    "\n",
    "    def forward(self, inputs, targets):\n",
    "        targets = SmoothCrossEntropyLoss()._smooth(targets, inputs.shape[1], self.smoothing)\n",
    "\n",
    "        if self.weight is not None:\n",
    "            inputs = inputs * self.weight.unsqueeze(0)\n",
    "\n",
    "        loss = F.binary_cross_entropy_with_logits(inputs, targets)\n",
    "\n",
    "        return loss"
   ]
  },
  {
   "cell_type": "code",
   "execution_count": 19,
   "metadata": {
    "execution": {
     "iopub.execute_input": "2020-11-10T12:22:04.544998Z",
     "iopub.status.busy": "2020-11-10T12:22:04.541271Z",
     "iopub.status.idle": "2020-11-10T12:22:04.548167Z",
     "shell.execute_reply": "2020-11-10T12:22:04.548839Z"
    },
    "papermill": {
     "duration": 0.043993,
     "end_time": "2020-11-10T12:22:04.548972",
     "exception": false,
     "start_time": "2020-11-10T12:22:04.504979",
     "status": "completed"
    },
    "tags": []
   },
   "outputs": [
    {
     "name": "stdout",
     "output_type": "stream",
     "text": [
      "cuda\n"
     ]
    }
   ],
   "source": [
    "print(device)\n",
    "def seed_everything(seed=42): \n",
    "    random.seed(seed)\n",
    "    os.environ['PYTHONHASHSEED'] = str(seed)\n",
    "    tf.random.set_seed(seed)\n",
    "    np.random.seed(seed)\n",
    "    torch.manual_seed(seed)\n",
    "    torch.cuda.manual_seed(seed)\n",
    "    torch.backends.cudnn.deterministic = True\n",
    "\n",
    "class MoaModel(nn.Module):\n",
    "    def __init__(self, num_columns, last_num):\n",
    "        super(MoaModel, self).__init__()\n",
    "        self.batch_norm1 = nn.BatchNorm1d(num_columns)\n",
    "        self.dropout1 = nn.Dropout(0.1)\n",
    "        self.dense1 = nn.utils.weight_norm(nn.Linear(num_columns, 1024))\n",
    "        self.relu1 = nn.LeakyReLU()\n",
    "        \n",
    "        self.batch_norm2 = nn.BatchNorm1d(1024)\n",
    "        self.dropout2 = nn.Dropout(0.1)\n",
    "        self.dense2 = nn.utils.weight_norm(nn.Linear(1024, 1024))\n",
    "        self.relu2 = nn.LeakyReLU()\n",
    "        \n",
    "        self.batch_norm3 = nn.BatchNorm1d(1024)\n",
    "        self.dropout3 = nn.Dropout(0.1)\n",
    "        self.dense3 = nn.utils.weight_norm(nn.Linear(1024, last_num))\n",
    "    \n",
    "    def forward(self, x):\n",
    "        x = self.batch_norm1(x)\n",
    "        x = self.dropout1(x)\n",
    "        x = self.relu1(self.dense1(x))\n",
    "        \n",
    "        x = self.batch_norm2(x)\n",
    "        x = self.dropout2(x)\n",
    "        x = self.relu2(self.dense2(x))\n",
    "        \n",
    "        x = self.batch_norm3(x)\n",
    "        x = self.dropout3(x)\n",
    "        x = self.dense3(x)\n",
    "        \n",
    "        return x"
   ]
  },
  {
   "cell_type": "markdown",
   "metadata": {
    "papermill": {
     "duration": 0.023735,
     "end_time": "2020-11-10T12:22:04.597947",
     "exception": false,
     "start_time": "2020-11-10T12:22:04.574212",
     "status": "completed"
    },
    "tags": []
   },
   "source": [
    "# modelling"
   ]
  },
  {
   "cell_type": "code",
   "execution_count": 20,
   "metadata": {
    "execution": {
     "iopub.execute_input": "2020-11-10T12:22:04.685370Z",
     "iopub.status.busy": "2020-11-10T12:22:04.664719Z",
     "iopub.status.idle": "2020-11-10T12:22:04.698962Z",
     "shell.execute_reply": "2020-11-10T12:22:04.699456Z"
    },
    "papermill": {
     "duration": 0.077655,
     "end_time": "2020-11-10T12:22:04.699585",
     "exception": false,
     "start_time": "2020-11-10T12:22:04.621930",
     "status": "completed"
    },
    "tags": []
   },
   "outputs": [],
   "source": [
    "batch_size = 128\n",
    "n_folds=7\n",
    "EARLY_STOPPING_STEPS = 10\n",
    "smoothing = 0.001\n",
    "p_min = smoothing\n",
    "p_max = 1 - smoothing\n",
    "\n",
    "def mean_log_loss(y_true, y_pred):\n",
    "    metrics = []\n",
    "    for i, target in enumerate(target_feats):\n",
    "        metrics.append(log_loss(y_true[:, i], y_pred[:, i].astype(float), labels=[0,1]))\n",
    "    return np.mean(metrics)\n",
    "\n",
    "def modelling_torch(tr, target, te, sample_seed, init_num, last_num, train_epochs):\n",
    "    seed_everything(seed=sample_seed) \n",
    "    X_train = tr.copy()\n",
    "    y_train = target.copy()\n",
    "    X_test = te.copy()\n",
    "    test_len = X_test.shape[0]\n",
    "    \n",
    "    mskf=MultilabelStratifiedKFold(n_splits = n_folds, shuffle=True, random_state=224)\n",
    "    metric = lambda inputs, targets : F.binary_cross_entropy((torch.clamp(torch.sigmoid(inputs), p_min, p_max)), targets)\n",
    "\n",
    "    models = []\n",
    "    \n",
    "    X_test2 = torch.tensor(X_test, dtype=torch.float32)\n",
    "    test = torch.utils.data.TensorDataset(X_test2) \n",
    "    test_loader = torch.utils.data.DataLoader(test, batch_size=batch_size, shuffle=False)\n",
    "    \n",
    "    oof = np.zeros([len(X_train),y_train.shape[1]])\n",
    "    oof_targets = np.zeros([len(X_train),y_train.shape[1]])\n",
    "    pred_value = np.zeros([test_len, y_train.shape[1]])\n",
    "    scores = []\n",
    "    for fold in range(n_folds):\n",
    "        valid_index = X_train[:,-1] == fold\n",
    "        train_index = X_train[:,-1] != fold\n",
    "        print(\"Fold \"+str(fold+1))\n",
    "        X_train2 = torch.tensor(X_train[train_index,:], dtype=torch.float32)\n",
    "        X_valid2 = torch.tensor(X_train[valid_index,:], dtype=torch.float32)\n",
    "        X_train2 = X_train2[:,:-1]\n",
    "        X_valid2 = X_valid2[:,:-1]\n",
    "        \n",
    "        y_train2 = torch.tensor(y_train[train_index], dtype=torch.float32)\n",
    "        y_valid2 = torch.tensor(y_train[valid_index], dtype=torch.float32)\n",
    "        \n",
    "        train = torch.utils.data.TensorDataset(X_train2, y_train2)\n",
    "        valid = torch.utils.data.TensorDataset(X_valid2, y_valid2)\n",
    "        \n",
    "        train_loader = torch.utils.data.DataLoader(train, batch_size=batch_size, shuffle=True) \n",
    "        valid_loader = torch.utils.data.DataLoader(valid, batch_size=batch_size, shuffle=False)\n",
    "            \n",
    "        clf = MoaModel(init_num, last_num)\n",
    "        loss_fn = SmoothCrossEntropyLoss(smoothing=smoothing)\n",
    "\n",
    "        optimizer = optim.Adam(clf.parameters(), lr = 0.001, weight_decay=1e-5) \n",
    "        scheduler = optim.lr_scheduler.OneCycleLR(optimizer=optimizer, pct_start=0.1, div_factor=1e3, \n",
    "                                              max_lr=1e-2, epochs=train_epochs, steps_per_epoch=len(train_loader))\n",
    "        \n",
    "        clf.to(device)\n",
    "        \n",
    "        best_val_loss = np.inf\n",
    "        stop_counts = 0\n",
    "        for epoch in range(train_epochs):\n",
    "            start_time = time.time()\n",
    "            clf.train()\n",
    "            avg_loss = 0.\n",
    "            sm_avg_loss = 0.\n",
    "            for x_batch, y_batch in tqdm(train_loader, disable=True):\n",
    "                x_batch = x_batch.to(device)\n",
    "                y_batch = y_batch.to(device)\n",
    "                y_pred = clf(x_batch) \n",
    "                loss = loss_fn(y_pred, y_batch)\n",
    "                optimizer.zero_grad()\n",
    "                loss.backward()\n",
    "                optimizer.step()\n",
    "                scheduler.step()\n",
    "                avg_loss += loss.item() / len(train_loader)  \n",
    "                sm_avg_loss += metric(y_pred, y_batch) / len(train_loader) \n",
    "                \n",
    "            clf.eval()\n",
    "            avg_val_loss = 0.\n",
    "            sm_avg_val_loss = 0.\n",
    "            for i, (x_batch, y_batch) in enumerate(valid_loader): \n",
    "                x_batch = x_batch.to(device)\n",
    "                y_batch = y_batch.to(device)\n",
    "                y_pred = clf(x_batch).detach()\n",
    "                avg_val_loss += loss_fn(y_pred, y_batch).item() / len(valid_loader)\n",
    "                sm_avg_val_loss += metric(y_pred, y_batch) / len(valid_loader)\n",
    "        \n",
    "            elapsed_time = time.time() - start_time \n",
    "            #scheduler.step() #avg_val_loss # maybe mistake\n",
    "                    \n",
    "            if sm_avg_val_loss < best_val_loss:\n",
    "                best_val_loss = sm_avg_val_loss\n",
    "                print('Epoch {}   loss={:.5f}   val_loss={:.5f}   sm_loss={:.5f}   sm_val_loss={:.5f}   time={:.2f}s'.format(\n",
    "                    epoch + 1, avg_loss, avg_val_loss, sm_avg_loss, sm_avg_val_loss, elapsed_time))\n",
    "                torch.save(clf.state_dict(), 'best-model-parameters.pt')\n",
    "            else:\n",
    "                stop_counts += 1\n",
    "        \n",
    "        pred_model = MoaModel(init_num, last_num)\n",
    "        pred_model.load_state_dict(torch.load('best-model-parameters.pt'))         \n",
    "        pred_model.eval()\n",
    "        \n",
    "        # validation check ----------------\n",
    "        oof_epoch = np.zeros([X_valid2.size(0), y_train.shape[1]])\n",
    "        target_epoch = np.zeros([X_valid2.size(0), y_train.shape[1]])\n",
    "        for i, (x_batch, y_batch) in enumerate(valid_loader): \n",
    "                y_pred = pred_model(x_batch).detach()\n",
    "                oof_epoch[i * batch_size:(i+1) * batch_size,:] = torch.clamp(torch.sigmoid(y_pred.cpu()), p_min, p_max)\n",
    "                target_epoch[i * batch_size:(i+1) * batch_size,:] = y_batch.cpu().numpy()\n",
    "        print(\"Fold {} log loss: {}\".format(fold+1, mean_log_loss(target_epoch, oof_epoch)))\n",
    "        scores.append(mean_log_loss(target_epoch, oof_epoch))\n",
    "        oof[valid_index,:] = oof_epoch\n",
    "        oof_targets[valid_index,:] = target_epoch\n",
    "        #-----------------------------------\n",
    "        \n",
    "        # test predcition --------------\n",
    "        test_preds = np.zeros([test_len, y_train.shape[1]])\n",
    "        for i, (x_batch,) in enumerate(test_loader): \n",
    "            y_pred = pred_model(x_batch).detach()\n",
    "            test_preds[i * batch_size:(i+1) * batch_size, :] = torch.clamp(torch.sigmoid(y_pred.cpu()), p_min, p_max)\n",
    "        pred_value += test_preds / n_folds\n",
    "        # ------------------------------\n",
    "        \n",
    "    print(\"Seed {}\".format(seed_))\n",
    "    for i, ele in enumerate(scores):\n",
    "        print(\"Fold {} log loss: {}\".format(i+1, scores[i]))\n",
    "    print(\"Std of log loss: {}\".format(np.std(scores)))\n",
    "    print(\"Total log loss: {}\".format(mean_log_loss(oof_targets, oof)))\n",
    "    \n",
    "    return oof, oof_targets, pred_value"
   ]
  },
  {
   "cell_type": "code",
   "execution_count": 21,
   "metadata": {
    "execution": {
     "iopub.execute_input": "2020-11-10T12:22:04.757097Z",
     "iopub.status.busy": "2020-11-10T12:22:04.755636Z",
     "iopub.status.idle": "2020-11-10T12:34:22.072949Z",
     "shell.execute_reply": "2020-11-10T12:34:22.072297Z"
    },
    "papermill": {
     "duration": 737.349272,
     "end_time": "2020-11-10T12:34:22.073074",
     "exception": false,
     "start_time": "2020-11-10T12:22:04.723802",
     "status": "completed"
    },
    "tags": []
   },
   "outputs": [
    {
     "name": "stdout",
     "output_type": "stream",
     "text": [
      "Fold 1\n",
      "Epoch 1   loss=0.41443   val_loss=0.02267   sm_loss=0.41437   sm_val_loss=0.02264   time=1.55s\n",
      "Epoch 2   loss=0.02008   val_loss=0.02004   sm_loss=0.02002   sm_val_loss=0.01995   time=0.87s\n",
      "Epoch 3   loss=0.01841   val_loss=0.01787   sm_loss=0.01839   sm_val_loss=0.01790   time=0.90s\n",
      "Epoch 8   loss=0.01718   val_loss=0.01784   sm_loss=0.01731   sm_val_loss=0.01785   time=0.88s\n",
      "Epoch 11   loss=0.01689   val_loss=0.01776   sm_loss=0.01702   sm_val_loss=0.01779   time=0.88s\n",
      "Epoch 12   loss=0.01669   val_loss=0.01763   sm_loss=0.01683   sm_val_loss=0.01759   time=0.95s\n",
      "Epoch 14   loss=0.01619   val_loss=0.01734   sm_loss=0.01635   sm_val_loss=0.01736   time=0.90s\n",
      "Epoch 15   loss=0.01580   val_loss=0.01716   sm_loss=0.01597   sm_val_loss=0.01717   time=0.88s\n",
      "Epoch 16   loss=0.01540   val_loss=0.01716   sm_loss=0.01559   sm_val_loss=0.01715   time=0.91s\n",
      "Epoch 18   loss=0.01443   val_loss=0.01705   sm_loss=0.01464   sm_val_loss=0.01707   time=0.85s\n",
      "Epoch 19   loss=0.01398   val_loss=0.01703   sm_loss=0.01420   sm_val_loss=0.01704   time=0.86s\n",
      "Fold 1 log loss: 0.017143645142014406\n",
      "Fold 2\n",
      "Epoch 1   loss=0.41390   val_loss=0.02205   sm_loss=0.41383   sm_val_loss=0.02204   time=0.96s\n",
      "Epoch 2   loss=0.02028   val_loss=0.01896   sm_loss=0.02022   sm_val_loss=0.01899   time=0.99s\n",
      "Epoch 3   loss=0.01811   val_loss=0.01740   sm_loss=0.01816   sm_val_loss=0.01745   time=0.95s\n",
      "Epoch 11   loss=0.01698   val_loss=0.01732   sm_loss=0.01711   sm_val_loss=0.01736   time=0.96s\n",
      "Epoch 12   loss=0.01671   val_loss=0.01720   sm_loss=0.01685   sm_val_loss=0.01724   time=0.87s\n",
      "Epoch 14   loss=0.01624   val_loss=0.01712   sm_loss=0.01640   sm_val_loss=0.01714   time=0.87s\n",
      "Epoch 15   loss=0.01587   val_loss=0.01710   sm_loss=0.01605   sm_val_loss=0.01713   time=0.89s\n",
      "Epoch 16   loss=0.01546   val_loss=0.01704   sm_loss=0.01566   sm_val_loss=0.01704   time=0.87s\n",
      "Epoch 18   loss=0.01451   val_loss=0.01695   sm_loss=0.01473   sm_val_loss=0.01697   time=0.89s\n",
      "Epoch 20   loss=0.01389   val_loss=0.01695   sm_loss=0.01412   sm_val_loss=0.01697   time=0.86s\n",
      "Fold 2 log loss: 0.017096059314996862\n",
      "Fold 3\n",
      "Epoch 1   loss=0.41450   val_loss=0.02234   sm_loss=0.41445   sm_val_loss=0.02232   time=1.04s\n",
      "Epoch 2   loss=0.01986   val_loss=0.01893   sm_loss=0.01983   sm_val_loss=0.01896   time=0.87s\n",
      "Epoch 3   loss=0.01870   val_loss=0.01854   sm_loss=0.01864   sm_val_loss=0.01855   time=0.87s\n",
      "Epoch 4   loss=0.01747   val_loss=0.01822   sm_loss=0.01758   sm_val_loss=0.01820   time=0.87s\n",
      "Epoch 5   loss=0.01726   val_loss=0.01814   sm_loss=0.01739   sm_val_loss=0.01817   time=0.86s\n",
      "Epoch 7   loss=0.01715   val_loss=0.01816   sm_loss=0.01728   sm_val_loss=0.01816   time=0.87s\n",
      "Epoch 8   loss=0.01711   val_loss=0.01811   sm_loss=0.01724   sm_val_loss=0.01812   time=0.88s\n",
      "Epoch 9   loss=0.01701   val_loss=0.01792   sm_loss=0.01714   sm_val_loss=0.01795   time=0.87s\n",
      "Epoch 12   loss=0.01663   val_loss=0.01771   sm_loss=0.01677   sm_val_loss=0.01771   time=1.03s\n",
      "Epoch 15   loss=0.01570   val_loss=0.01763   sm_loss=0.01588   sm_val_loss=0.01762   time=0.87s\n",
      "Epoch 17   loss=0.01481   val_loss=0.01749   sm_loss=0.01502   sm_val_loss=0.01751   time=0.86s\n",
      "Epoch 19   loss=0.01384   val_loss=0.01750   sm_loss=0.01407   sm_val_loss=0.01750   time=0.88s\n",
      "Fold 3 log loss: 0.01745369679625291\n",
      "Fold 4\n",
      "Epoch 1   loss=0.41257   val_loss=0.02314   sm_loss=0.41250   sm_val_loss=0.02312   time=1.10s\n",
      "Epoch 2   loss=0.01991   val_loss=0.01936   sm_loss=0.01987   sm_val_loss=0.01908   time=1.22s\n",
      "Epoch 3   loss=0.01779   val_loss=0.01880   sm_loss=0.01786   sm_val_loss=0.01881   time=0.93s\n",
      "Epoch 5   loss=0.01724   val_loss=0.01846   sm_loss=0.01737   sm_val_loss=0.01845   time=0.88s\n",
      "Epoch 7   loss=0.01721   val_loss=0.01816   sm_loss=0.01734   sm_val_loss=0.01815   time=0.89s\n",
      "Epoch 9   loss=0.01701   val_loss=0.01813   sm_loss=0.01713   sm_val_loss=0.01811   time=0.86s\n",
      "Epoch 11   loss=0.01678   val_loss=0.01801   sm_loss=0.01692   sm_val_loss=0.01799   time=0.86s\n",
      "Epoch 12   loss=0.01659   val_loss=0.01792   sm_loss=0.01675   sm_val_loss=0.01790   time=0.92s\n",
      "Epoch 14   loss=0.01596   val_loss=0.01768   sm_loss=0.01614   sm_val_loss=0.01769   time=1.09s\n",
      "Epoch 17   loss=0.01482   val_loss=0.01767   sm_loss=0.01503   sm_val_loss=0.01767   time=0.87s\n",
      "Fold 4 log loss: 0.017766951226837992\n",
      "Fold 5\n",
      "Epoch 1   loss=0.41536   val_loss=0.02226   sm_loss=0.41529   sm_val_loss=0.02225   time=0.90s\n",
      "Epoch 2   loss=0.02012   val_loss=0.02090   sm_loss=0.02005   sm_val_loss=0.02047   time=1.16s\n",
      "Epoch 3   loss=0.01802   val_loss=0.01804   sm_loss=0.01806   sm_val_loss=0.01808   time=0.90s\n",
      "Epoch 4   loss=0.01742   val_loss=0.01795   sm_loss=0.01751   sm_val_loss=0.01799   time=1.14s\n",
      "Epoch 6   loss=0.01725   val_loss=0.01789   sm_loss=0.01737   sm_val_loss=0.01788   time=1.03s\n",
      "Epoch 7   loss=0.01722   val_loss=0.01782   sm_loss=0.01735   sm_val_loss=0.01783   time=0.94s\n",
      "Epoch 9   loss=0.01710   val_loss=0.01763   sm_loss=0.01723   sm_val_loss=0.01762   time=0.88s\n",
      "Epoch 10   loss=0.01703   val_loss=0.01758   sm_loss=0.01716   sm_val_loss=0.01757   time=0.89s\n",
      "Epoch 12   loss=0.01661   val_loss=0.01737   sm_loss=0.01676   sm_val_loss=0.01739   time=0.88s\n",
      "Epoch 14   loss=0.01611   val_loss=0.01725   sm_loss=0.01627   sm_val_loss=0.01727   time=0.92s\n",
      "Epoch 15   loss=0.01575   val_loss=0.01702   sm_loss=0.01593   sm_val_loss=0.01702   time=1.11s\n",
      "Epoch 17   loss=0.01489   val_loss=0.01701   sm_loss=0.01510   sm_val_loss=0.01702   time=0.86s\n",
      "Epoch 18   loss=0.01439   val_loss=0.01699   sm_loss=0.01461   sm_val_loss=0.01701   time=0.90s\n",
      "Epoch 20   loss=0.01380   val_loss=0.01698   sm_loss=0.01403   sm_val_loss=0.01700   time=0.87s\n",
      "Fold 5 log loss: 0.017234471449203755\n",
      "Fold 6\n",
      "Epoch 1   loss=0.41354   val_loss=0.02231   sm_loss=0.41350   sm_val_loss=0.02229   time=0.87s\n",
      "Epoch 3   loss=0.01812   val_loss=0.01831   sm_loss=0.01813   sm_val_loss=0.01838   time=0.87s\n",
      "Epoch 4   loss=0.01734   val_loss=0.01811   sm_loss=0.01745   sm_val_loss=0.01818   time=0.88s\n",
      "Epoch 6   loss=0.01735   val_loss=0.01802   sm_loss=0.01747   sm_val_loss=0.01807   time=0.91s\n",
      "Epoch 8   loss=0.01725   val_loss=0.01796   sm_loss=0.01737   sm_val_loss=0.01801   time=0.87s\n",
      "Epoch 9   loss=0.01707   val_loss=0.01782   sm_loss=0.01719   sm_val_loss=0.01790   time=0.89s\n",
      "Epoch 10   loss=0.01709   val_loss=0.01761   sm_loss=0.01721   sm_val_loss=0.01772   time=0.88s\n",
      "Epoch 11   loss=0.01697   val_loss=0.01760   sm_loss=0.01710   sm_val_loss=0.01765   time=0.88s\n",
      "Epoch 13   loss=0.01649   val_loss=0.01751   sm_loss=0.01663   sm_val_loss=0.01759   time=0.89s\n",
      "Epoch 14   loss=0.01610   val_loss=0.01742   sm_loss=0.01626   sm_val_loss=0.01749   time=0.86s\n",
      "Epoch 15   loss=0.01578   val_loss=0.01738   sm_loss=0.01595   sm_val_loss=0.01745   time=0.89s\n",
      "Epoch 16   loss=0.01532   val_loss=0.01726   sm_loss=0.01551   sm_val_loss=0.01735   time=0.89s\n",
      "Epoch 17   loss=0.01485   val_loss=0.01725   sm_loss=0.01505   sm_val_loss=0.01733   time=1.10s\n",
      "Fold 6 log loss: 0.01736985514831441\n",
      "Fold 7\n",
      "Epoch 1   loss=0.41432   val_loss=0.02269   sm_loss=0.41428   sm_val_loss=0.02267   time=0.88s\n",
      "Epoch 2   loss=0.02029   val_loss=0.01888   sm_loss=0.02020   sm_val_loss=0.01884   time=0.89s\n",
      "Epoch 3   loss=0.01794   val_loss=0.01810   sm_loss=0.01799   sm_val_loss=0.01814   time=0.90s\n",
      "Epoch 5   loss=0.01726   val_loss=0.01785   sm_loss=0.01740   sm_val_loss=0.01791   time=0.91s\n",
      "Epoch 6   loss=0.01717   val_loss=0.01762   sm_loss=0.01729   sm_val_loss=0.01770   time=0.89s\n",
      "Epoch 8   loss=0.01718   val_loss=0.01752   sm_loss=0.01731   sm_val_loss=0.01758   time=0.89s\n",
      "Epoch 12   loss=0.01666   val_loss=0.01743   sm_loss=0.01680   sm_val_loss=0.01747   time=0.84s\n",
      "Epoch 14   loss=0.01609   val_loss=0.01727   sm_loss=0.01625   sm_val_loss=0.01736   time=0.84s\n",
      "Epoch 15   loss=0.01570   val_loss=0.01702   sm_loss=0.01587   sm_val_loss=0.01710   time=0.86s\n",
      "Epoch 16   loss=0.01529   val_loss=0.01695   sm_loss=0.01548   sm_val_loss=0.01701   time=0.86s\n",
      "Epoch 18   loss=0.01425   val_loss=0.01688   sm_loss=0.01447   sm_val_loss=0.01696   time=0.99s\n",
      "Epoch 19   loss=0.01379   val_loss=0.01685   sm_loss=0.01401   sm_val_loss=0.01692   time=1.11s\n",
      "Epoch 20   loss=0.01354   val_loss=0.01684   sm_loss=0.01377   sm_val_loss=0.01691   time=0.88s\n",
      "Fold 7 log loss: 0.016935497480944015\n",
      "Seed 0\n",
      "Fold 1 log loss: 0.017143645142014406\n",
      "Fold 2 log loss: 0.017096059314996862\n",
      "Fold 3 log loss: 0.01745369679625291\n",
      "Fold 4 log loss: 0.017766951226837992\n",
      "Fold 5 log loss: 0.017234471449203755\n",
      "Fold 6 log loss: 0.01736985514831441\n",
      "Fold 7 log loss: 0.016935497480944015\n",
      "Std of log loss: 0.0002530717249548507\n",
      "Total log loss: 0.01728538468523383\n",
      "Fold 1\n",
      "Epoch 1   loss=0.41474   val_loss=0.02308   sm_loss=0.41468   sm_val_loss=0.02304   time=0.91s\n",
      "Epoch 2   loss=0.02023   val_loss=0.01910   sm_loss=0.02016   sm_val_loss=0.01901   time=0.94s\n",
      "Epoch 3   loss=0.01802   val_loss=0.01785   sm_loss=0.01804   sm_val_loss=0.01791   time=0.97s\n",
      "Epoch 6   loss=0.01726   val_loss=0.01786   sm_loss=0.01738   sm_val_loss=0.01788   time=1.05s\n",
      "Epoch 11   loss=0.01691   val_loss=0.01744   sm_loss=0.01704   sm_val_loss=0.01746   time=0.87s\n",
      "Epoch 13   loss=0.01644   val_loss=0.01736   sm_loss=0.01660   sm_val_loss=0.01736   time=0.87s\n",
      "Epoch 14   loss=0.01618   val_loss=0.01734   sm_loss=0.01634   sm_val_loss=0.01734   time=1.08s\n",
      "Epoch 15   loss=0.01577   val_loss=0.01729   sm_loss=0.01594   sm_val_loss=0.01728   time=1.01s\n",
      "Epoch 16   loss=0.01536   val_loss=0.01719   sm_loss=0.01556   sm_val_loss=0.01719   time=0.87s\n",
      "Epoch 17   loss=0.01489   val_loss=0.01701   sm_loss=0.01510   sm_val_loss=0.01703   time=0.87s\n",
      "Fold 1 log loss: 0.01713709909155632\n",
      "Fold 2\n",
      "Epoch 1   loss=0.41323   val_loss=0.02226   sm_loss=0.41321   sm_val_loss=0.02225   time=0.88s\n",
      "Epoch 2   loss=0.02004   val_loss=0.01839   sm_loss=0.02002   sm_val_loss=0.01841   time=0.89s\n",
      "Epoch 4   loss=0.01742   val_loss=0.01793   sm_loss=0.01754   sm_val_loss=0.01794   time=0.89s\n",
      "Epoch 5   loss=0.01733   val_loss=0.01760   sm_loss=0.01745   sm_val_loss=0.01755   time=0.87s\n",
      "Epoch 8   loss=0.01720   val_loss=0.01734   sm_loss=0.01733   sm_val_loss=0.01739   time=0.90s\n",
      "Epoch 12   loss=0.01668   val_loss=0.01718   sm_loss=0.01682   sm_val_loss=0.01720   time=0.90s\n",
      "Epoch 13   loss=0.01643   val_loss=0.01716   sm_loss=0.01658   sm_val_loss=0.01716   time=0.88s\n",
      "Epoch 15   loss=0.01587   val_loss=0.01701   sm_loss=0.01605   sm_val_loss=0.01704   time=0.89s\n",
      "Epoch 16   loss=0.01539   val_loss=0.01698   sm_loss=0.01559   sm_val_loss=0.01699   time=0.87s\n",
      "Epoch 17   loss=0.01487   val_loss=0.01696   sm_loss=0.01508   sm_val_loss=0.01697   time=0.86s\n",
      "Fold 2 log loss: 0.01708462502556901\n",
      "Fold 3\n",
      "Epoch 1   loss=0.41519   val_loss=0.02243   sm_loss=0.41514   sm_val_loss=0.02242   time=0.87s\n",
      "Epoch 2   loss=0.02001   val_loss=0.01942   sm_loss=0.01998   sm_val_loss=0.01945   time=0.89s\n",
      "Epoch 3   loss=0.01804   val_loss=0.01839   sm_loss=0.01808   sm_val_loss=0.01844   time=0.92s\n",
      "Epoch 4   loss=0.01739   val_loss=0.01825   sm_loss=0.01748   sm_val_loss=0.01827   time=0.89s\n",
      "Epoch 7   loss=0.01717   val_loss=0.01816   sm_loss=0.01729   sm_val_loss=0.01811   time=0.95s\n",
      "Epoch 11   loss=0.01681   val_loss=0.01796   sm_loss=0.01695   sm_val_loss=0.01797   time=1.09s\n",
      "Epoch 13   loss=0.01640   val_loss=0.01779   sm_loss=0.01655   sm_val_loss=0.01781   time=0.91s\n",
      "Epoch 14   loss=0.01612   val_loss=0.01774   sm_loss=0.01629   sm_val_loss=0.01775   time=1.27s\n",
      "Epoch 15   loss=0.01570   val_loss=0.01762   sm_loss=0.01588   sm_val_loss=0.01763   time=0.92s\n",
      "Epoch 17   loss=0.01478   val_loss=0.01748   sm_loss=0.01499   sm_val_loss=0.01747   time=1.17s\n",
      "Fold 3 log loss: 0.017432737886958687\n",
      "Fold 4\n",
      "Epoch 1   loss=0.41410   val_loss=0.02294   sm_loss=0.41404   sm_val_loss=0.02291   time=1.21s\n",
      "Epoch 2   loss=0.01982   val_loss=0.02078   sm_loss=0.01982   sm_val_loss=0.02070   time=0.97s\n",
      "Epoch 3   loss=0.01785   val_loss=0.01864   sm_loss=0.01791   sm_val_loss=0.01855   time=0.87s\n",
      "Epoch 4   loss=0.01726   val_loss=0.01842   sm_loss=0.01738   sm_val_loss=0.01833   time=0.87s\n",
      "Epoch 10   loss=0.01694   val_loss=0.01807   sm_loss=0.01707   sm_val_loss=0.01806   time=0.85s\n",
      "Epoch 11   loss=0.01673   val_loss=0.01804   sm_loss=0.01687   sm_val_loss=0.01803   time=0.89s\n",
      "Epoch 12   loss=0.01653   val_loss=0.01791   sm_loss=0.01668   sm_val_loss=0.01790   time=1.08s\n",
      "Epoch 13   loss=0.01636   val_loss=0.01780   sm_loss=0.01651   sm_val_loss=0.01779   time=0.89s\n",
      "Epoch 15   loss=0.01572   val_loss=0.01776   sm_loss=0.01590   sm_val_loss=0.01774   time=0.91s\n",
      "Epoch 16   loss=0.01524   val_loss=0.01764   sm_loss=0.01544   sm_val_loss=0.01765   time=0.87s\n",
      "Epoch 18   loss=0.01431   val_loss=0.01761   sm_loss=0.01453   sm_val_loss=0.01760   time=1.13s\n",
      "Fold 4 log loss: 0.01769559473864462\n",
      "Fold 5\n",
      "Epoch 1   loss=0.41490   val_loss=0.02240   sm_loss=0.41486   sm_val_loss=0.02239   time=0.89s\n",
      "Epoch 2   loss=0.02004   val_loss=0.02033   sm_loss=0.02001   sm_val_loss=0.02034   time=1.12s\n",
      "Epoch 4   loss=0.01746   val_loss=0.01799   sm_loss=0.01756   sm_val_loss=0.01801   time=0.89s\n",
      "Epoch 5   loss=0.01725   val_loss=0.01798   sm_loss=0.01737   sm_val_loss=0.01799   time=0.87s\n",
      "Epoch 7   loss=0.01722   val_loss=0.01793   sm_loss=0.01734   sm_val_loss=0.01792   time=0.91s\n",
      "Epoch 8   loss=0.01716   val_loss=0.01786   sm_loss=0.01729   sm_val_loss=0.01786   time=0.86s\n",
      "Epoch 9   loss=0.01715   val_loss=0.01772   sm_loss=0.01727   sm_val_loss=0.01774   time=0.87s\n",
      "Epoch 11   loss=0.01681   val_loss=0.01751   sm_loss=0.01695   sm_val_loss=0.01750   time=0.86s\n",
      "Epoch 13   loss=0.01646   val_loss=0.01735   sm_loss=0.01661   sm_val_loss=0.01736   time=0.86s\n",
      "Epoch 14   loss=0.01610   val_loss=0.01732   sm_loss=0.01626   sm_val_loss=0.01732   time=1.17s\n",
      "Epoch 15   loss=0.01574   val_loss=0.01732   sm_loss=0.01592   sm_val_loss=0.01732   time=0.87s\n",
      "Epoch 16   loss=0.01527   val_loss=0.01717   sm_loss=0.01547   sm_val_loss=0.01717   time=0.87s\n",
      "Epoch 17   loss=0.01480   val_loss=0.01711   sm_loss=0.01501   sm_val_loss=0.01712   time=0.89s\n",
      "Epoch 18   loss=0.01434   val_loss=0.01703   sm_loss=0.01456   sm_val_loss=0.01703   time=0.89s\n",
      "Epoch 19   loss=0.01393   val_loss=0.01703   sm_loss=0.01416   sm_val_loss=0.01703   time=0.86s\n",
      "Fold 5 log loss: 0.017279225639054416\n",
      "Fold 6\n",
      "Epoch 1   loss=0.41439   val_loss=0.02240   sm_loss=0.41432   sm_val_loss=0.02239   time=0.89s\n",
      "Epoch 2   loss=0.02008   val_loss=0.02091   sm_loss=0.01997   sm_val_loss=0.02071   time=0.89s\n",
      "Epoch 3   loss=0.01842   val_loss=0.01834   sm_loss=0.01839   sm_val_loss=0.01840   time=0.88s\n",
      "Epoch 4   loss=0.01754   val_loss=0.01822   sm_loss=0.01765   sm_val_loss=0.01828   time=1.12s\n",
      "Epoch 7   loss=0.01729   val_loss=0.01788   sm_loss=0.01741   sm_val_loss=0.01796   time=0.91s\n",
      "Epoch 9   loss=0.01719   val_loss=0.01781   sm_loss=0.01732   sm_val_loss=0.01789   time=0.89s\n",
      "Epoch 12   loss=0.01672   val_loss=0.01764   sm_loss=0.01686   sm_val_loss=0.01773   time=1.35s\n",
      "Epoch 13   loss=0.01643   val_loss=0.01755   sm_loss=0.01658   sm_val_loss=0.01762   time=0.97s\n",
      "Epoch 14   loss=0.01619   val_loss=0.01745   sm_loss=0.01635   sm_val_loss=0.01752   time=0.92s\n",
      "Epoch 16   loss=0.01541   val_loss=0.01720   sm_loss=0.01560   sm_val_loss=0.01728   time=0.88s\n",
      "Fold 6 log loss: 0.017319932373361584\n",
      "Fold 7\n",
      "Epoch 1   loss=0.41404   val_loss=0.02248   sm_loss=0.41400   sm_val_loss=0.02246   time=0.87s\n",
      "Epoch 2   loss=0.02009   val_loss=0.02014   sm_loss=0.02003   sm_val_loss=0.01996   time=0.96s\n",
      "Epoch 3   loss=0.01800   val_loss=0.01864   sm_loss=0.01807   sm_val_loss=0.01871   time=0.87s\n",
      "Epoch 4   loss=0.01739   val_loss=0.01833   sm_loss=0.01750   sm_val_loss=0.01839   time=1.08s\n",
      "Epoch 5   loss=0.01735   val_loss=0.01815   sm_loss=0.01747   sm_val_loss=0.01820   time=0.94s\n",
      "Epoch 6   loss=0.01731   val_loss=0.01787   sm_loss=0.01743   sm_val_loss=0.01795   time=0.87s\n",
      "Epoch 7   loss=0.01727   val_loss=0.01766   sm_loss=0.01739   sm_val_loss=0.01773   time=0.88s\n",
      "Epoch 10   loss=0.01704   val_loss=0.01760   sm_loss=0.01717   sm_val_loss=0.01765   time=0.86s\n",
      "Epoch 11   loss=0.01680   val_loss=0.01741   sm_loss=0.01694   sm_val_loss=0.01747   time=0.85s\n",
      "Epoch 14   loss=0.01615   val_loss=0.01706   sm_loss=0.01631   sm_val_loss=0.01714   time=0.85s\n",
      "Epoch 16   loss=0.01530   val_loss=0.01706   sm_loss=0.01549   sm_val_loss=0.01712   time=1.05s\n",
      "Epoch 17   loss=0.01478   val_loss=0.01705   sm_loss=0.01499   sm_val_loss=0.01711   time=0.94s\n",
      "Epoch 18   loss=0.01426   val_loss=0.01691   sm_loss=0.01447   sm_val_loss=0.01697   time=0.88s\n",
      "Fold 7 log loss: 0.017007700596021223\n",
      "Seed 1\n",
      "Fold 1 log loss: 0.01713709909155632\n",
      "Fold 2 log loss: 0.01708462502556901\n",
      "Fold 3 log loss: 0.017432737886958687\n",
      "Fold 4 log loss: 0.01769559473864462\n",
      "Fold 5 log loss: 0.017279225639054416\n",
      "Fold 6 log loss: 0.017319932373361584\n",
      "Fold 7 log loss: 0.017007700596021223\n",
      "Std of log loss: 0.00021724926413156052\n",
      "Total log loss: 0.017279476856079168\n",
      "Fold 1\n",
      "Epoch 1   loss=0.41479   val_loss=0.02270   sm_loss=0.41473   sm_val_loss=0.02268   time=0.85s\n",
      "Epoch 2   loss=0.02000   val_loss=0.01886   sm_loss=0.01996   sm_val_loss=0.01876   time=0.86s\n",
      "Epoch 3   loss=0.01804   val_loss=0.01806   sm_loss=0.01807   sm_val_loss=0.01805   time=0.89s\n",
      "Epoch 4   loss=0.01745   val_loss=0.01773   sm_loss=0.01754   sm_val_loss=0.01774   time=0.92s\n",
      "Epoch 11   loss=0.01693   val_loss=0.01756   sm_loss=0.01707   sm_val_loss=0.01755   time=0.85s\n",
      "Epoch 12   loss=0.01662   val_loss=0.01744   sm_loss=0.01676   sm_val_loss=0.01746   time=0.92s\n",
      "Epoch 14   loss=0.01618   val_loss=0.01738   sm_loss=0.01635   sm_val_loss=0.01740   time=0.87s\n",
      "Epoch 15   loss=0.01580   val_loss=0.01720   sm_loss=0.01598   sm_val_loss=0.01721   time=0.87s\n",
      "Epoch 16   loss=0.01538   val_loss=0.01714   sm_loss=0.01557   sm_val_loss=0.01716   time=0.85s\n",
      "Epoch 17   loss=0.01492   val_loss=0.01707   sm_loss=0.01512   sm_val_loss=0.01707   time=1.02s\n",
      "Epoch 19   loss=0.01404   val_loss=0.01706   sm_loss=0.01426   sm_val_loss=0.01706   time=0.86s\n",
      "Epoch 20   loss=0.01382   val_loss=0.01705   sm_loss=0.01405   sm_val_loss=0.01705   time=0.87s\n",
      "Fold 1 log loss: 0.01715334413836401\n",
      "Fold 2\n",
      "Epoch 1   loss=0.41242   val_loss=0.02348   sm_loss=0.41239   sm_val_loss=0.02348   time=0.89s\n",
      "Epoch 2   loss=0.02030   val_loss=0.01860   sm_loss=0.02024   sm_val_loss=0.01860   time=0.86s\n",
      "Epoch 3   loss=0.01811   val_loss=0.01794   sm_loss=0.01815   sm_val_loss=0.01796   time=0.93s\n",
      "Epoch 4   loss=0.01748   val_loss=0.01766   sm_loss=0.01760   sm_val_loss=0.01768   time=0.90s\n",
      "Epoch 5   loss=0.01733   val_loss=0.01761   sm_loss=0.01746   sm_val_loss=0.01765   time=0.87s\n",
      "Epoch 7   loss=0.01732   val_loss=0.01742   sm_loss=0.01744   sm_val_loss=0.01746   time=0.90s\n",
      "Epoch 10   loss=0.01705   val_loss=0.01738   sm_loss=0.01718   sm_val_loss=0.01739   time=1.27s\n",
      "Epoch 11   loss=0.01690   val_loss=0.01718   sm_loss=0.01704   sm_val_loss=0.01721   time=1.41s\n",
      "Epoch 12   loss=0.01673   val_loss=0.01716   sm_loss=0.01687   sm_val_loss=0.01720   time=0.90s\n",
      "Epoch 14   loss=0.01614   val_loss=0.01703   sm_loss=0.01630   sm_val_loss=0.01707   time=0.89s\n",
      "Epoch 15   loss=0.01580   val_loss=0.01695   sm_loss=0.01598   sm_val_loss=0.01698   time=0.92s\n",
      "Epoch 17   loss=0.01492   val_loss=0.01696   sm_loss=0.01513   sm_val_loss=0.01697   time=0.86s\n",
      "Epoch 18   loss=0.01443   val_loss=0.01688   sm_loss=0.01465   sm_val_loss=0.01689   time=1.03s\n",
      "Epoch 19   loss=0.01407   val_loss=0.01688   sm_loss=0.01430   sm_val_loss=0.01687   time=1.05s\n",
      "Fold 2 log loss: 0.017003545451730034\n",
      "Fold 3\n",
      "Epoch 1   loss=0.41406   val_loss=0.02257   sm_loss=0.41404   sm_val_loss=0.02254   time=0.87s\n",
      "Epoch 2   loss=0.01996   val_loss=0.01938   sm_loss=0.01990   sm_val_loss=0.01935   time=0.87s\n",
      "Epoch 3   loss=0.01843   val_loss=0.01874   sm_loss=0.01843   sm_val_loss=0.01877   time=0.86s\n",
      "Epoch 4   loss=0.01750   val_loss=0.01816   sm_loss=0.01761   sm_val_loss=0.01816   time=0.87s\n",
      "Epoch 11   loss=0.01679   val_loss=0.01797   sm_loss=0.01693   sm_val_loss=0.01797   time=0.87s\n",
      "Epoch 12   loss=0.01664   val_loss=0.01792   sm_loss=0.01678   sm_val_loss=0.01793   time=0.87s\n",
      "Epoch 13   loss=0.01640   val_loss=0.01772   sm_loss=0.01656   sm_val_loss=0.01777   time=0.88s\n",
      "Epoch 14   loss=0.01615   val_loss=0.01772   sm_loss=0.01631   sm_val_loss=0.01773   time=0.87s\n",
      "Epoch 15   loss=0.01570   val_loss=0.01752   sm_loss=0.01588   sm_val_loss=0.01754   time=0.85s\n",
      "Epoch 17   loss=0.01482   val_loss=0.01744   sm_loss=0.01503   sm_val_loss=0.01744   time=0.85s\n",
      "Fold 3 log loss: 0.017396903628685727\n",
      "Fold 4\n",
      "Epoch 1   loss=0.41348   val_loss=0.02329   sm_loss=0.41343   sm_val_loss=0.02323   time=0.91s\n",
      "Epoch 2   loss=0.01976   val_loss=0.01942   sm_loss=0.01975   sm_val_loss=0.01933   time=1.26s\n",
      "Epoch 3   loss=0.01795   val_loss=0.01881   sm_loss=0.01801   sm_val_loss=0.01861   time=0.90s\n",
      "Epoch 4   loss=0.01733   val_loss=0.01823   sm_loss=0.01745   sm_val_loss=0.01822   time=0.88s\n",
      "Epoch 10   loss=0.01686   val_loss=0.01809   sm_loss=0.01700   sm_val_loss=0.01807   time=0.92s\n",
      "Epoch 11   loss=0.01671   val_loss=0.01779   sm_loss=0.01686   sm_val_loss=0.01778   time=1.02s\n",
      "Epoch 13   loss=0.01623   val_loss=0.01774   sm_loss=0.01640   sm_val_loss=0.01775   time=0.89s\n",
      "Epoch 17   loss=0.01475   val_loss=0.01775   sm_loss=0.01496   sm_val_loss=0.01771   time=0.88s\n",
      "Epoch 18   loss=0.01424   val_loss=0.01772   sm_loss=0.01446   sm_val_loss=0.01770   time=0.89s\n",
      "Epoch 20   loss=0.01363   val_loss=0.01770   sm_loss=0.01386   sm_val_loss=0.01767   time=0.88s\n",
      "Fold 4 log loss: 0.017758363074358862\n",
      "Fold 5\n",
      "Epoch 1   loss=0.41603   val_loss=0.02218   sm_loss=0.41599   sm_val_loss=0.02218   time=1.11s\n",
      "Epoch 2   loss=0.01999   val_loss=0.01997   sm_loss=0.01995   sm_val_loss=0.01954   time=0.92s\n",
      "Epoch 3   loss=0.01805   val_loss=0.01851   sm_loss=0.01809   sm_val_loss=0.01853   time=0.88s\n",
      "Epoch 4   loss=0.01759   val_loss=0.01793   sm_loss=0.01767   sm_val_loss=0.01794   time=0.87s\n",
      "Epoch 8   loss=0.01716   val_loss=0.01771   sm_loss=0.01728   sm_val_loss=0.01768   time=1.08s\n",
      "Epoch 9   loss=0.01708   val_loss=0.01765   sm_loss=0.01721   sm_val_loss=0.01766   time=1.04s\n",
      "Epoch 12   loss=0.01665   val_loss=0.01750   sm_loss=0.01680   sm_val_loss=0.01749   time=0.99s\n",
      "Epoch 13   loss=0.01639   val_loss=0.01741   sm_loss=0.01654   sm_val_loss=0.01742   time=1.19s\n",
      "Epoch 14   loss=0.01613   val_loss=0.01739   sm_loss=0.01629   sm_val_loss=0.01738   time=1.51s\n",
      "Epoch 16   loss=0.01535   val_loss=0.01712   sm_loss=0.01555   sm_val_loss=0.01714   time=0.90s\n",
      "Epoch 18   loss=0.01438   val_loss=0.01710   sm_loss=0.01459   sm_val_loss=0.01711   time=0.96s\n",
      "Epoch 19   loss=0.01399   val_loss=0.01705   sm_loss=0.01422   sm_val_loss=0.01704   time=0.88s\n",
      "Fold 5 log loss: 0.017259336750801973\n",
      "Fold 6\n",
      "Epoch 1   loss=0.41467   val_loss=0.02263   sm_loss=0.41463   sm_val_loss=0.02258   time=1.03s\n",
      "Epoch 2   loss=0.02021   val_loss=0.01943   sm_loss=0.02016   sm_val_loss=0.01940   time=0.97s\n",
      "Epoch 3   loss=0.01811   val_loss=0.01860   sm_loss=0.01815   sm_val_loss=0.01867   time=0.89s\n",
      "Epoch 4   loss=0.01758   val_loss=0.01821   sm_loss=0.01766   sm_val_loss=0.01829   time=0.87s\n",
      "Epoch 5   loss=0.01745   val_loss=0.01817   sm_loss=0.01758   sm_val_loss=0.01825   time=0.88s\n",
      "Epoch 6   loss=0.01730   val_loss=0.01803   sm_loss=0.01742   sm_val_loss=0.01810   time=0.86s\n",
      "Epoch 8   loss=0.01722   val_loss=0.01795   sm_loss=0.01734   sm_val_loss=0.01804   time=0.87s\n",
      "Epoch 9   loss=0.01712   val_loss=0.01781   sm_loss=0.01724   sm_val_loss=0.01788   time=0.88s\n",
      "Epoch 11   loss=0.01687   val_loss=0.01753   sm_loss=0.01700   sm_val_loss=0.01762   time=0.90s\n",
      "Epoch 12   loss=0.01679   val_loss=0.01741   sm_loss=0.01693   sm_val_loss=0.01749   time=0.92s\n",
      "Epoch 16   loss=0.01553   val_loss=0.01730   sm_loss=0.01572   sm_val_loss=0.01738   time=0.87s\n",
      "Epoch 17   loss=0.01496   val_loss=0.01727   sm_loss=0.01516   sm_val_loss=0.01734   time=0.91s\n",
      "Epoch 18   loss=0.01450   val_loss=0.01726   sm_loss=0.01471   sm_val_loss=0.01734   time=0.90s\n",
      "Epoch 19   loss=0.01408   val_loss=0.01727   sm_loss=0.01429   sm_val_loss=0.01734   time=0.90s\n",
      "Fold 6 log loss: 0.017381028534703025\n",
      "Fold 7\n",
      "Epoch 1   loss=0.41452   val_loss=0.02232   sm_loss=0.41447   sm_val_loss=0.02231   time=0.88s\n",
      "Epoch 2   loss=0.01990   val_loss=0.02284   sm_loss=0.01988   sm_val_loss=0.02156   time=0.91s\n",
      "Epoch 3   loss=0.01792   val_loss=0.01803   sm_loss=0.01797   sm_val_loss=0.01808   time=1.08s\n",
      "Epoch 4   loss=0.01734   val_loss=0.01800   sm_loss=0.01746   sm_val_loss=0.01805   time=1.29s\n",
      "Epoch 7   loss=0.01727   val_loss=0.01772   sm_loss=0.01739   sm_val_loss=0.01779   time=0.88s\n",
      "Epoch 9   loss=0.01714   val_loss=0.01767   sm_loss=0.01727   sm_val_loss=0.01774   time=0.92s\n",
      "Epoch 11   loss=0.01686   val_loss=0.01721   sm_loss=0.01699   sm_val_loss=0.01730   time=0.96s\n",
      "Epoch 15   loss=0.01578   val_loss=0.01716   sm_loss=0.01596   sm_val_loss=0.01722   time=0.96s\n",
      "Epoch 16   loss=0.01531   val_loss=0.01699   sm_loss=0.01550   sm_val_loss=0.01705   time=0.88s\n",
      "Epoch 17   loss=0.01481   val_loss=0.01699   sm_loss=0.01502   sm_val_loss=0.01704   time=0.89s\n",
      "Epoch 19   loss=0.01389   val_loss=0.01695   sm_loss=0.01411   sm_val_loss=0.01701   time=0.92s\n",
      "Fold 7 log loss: 0.017036870198788825\n",
      "Seed 2\n",
      "Fold 1 log loss: 0.01715334413836401\n",
      "Fold 2 log loss: 0.017003545451730034\n",
      "Fold 3 log loss: 0.017396903628685727\n",
      "Fold 4 log loss: 0.017758363074358862\n",
      "Fold 5 log loss: 0.017259336750801973\n",
      "Fold 6 log loss: 0.017381028534703025\n",
      "Fold 7 log loss: 0.017036870198788825\n",
      "Std of log loss: 0.00024041301897372166\n",
      "Total log loss: 0.017284084661792036\n",
      "Fold 1\n",
      "Epoch 1   loss=0.41346   val_loss=0.02244   sm_loss=0.41341   sm_val_loss=0.02241   time=0.89s\n",
      "Epoch 2   loss=0.02005   val_loss=0.01917   sm_loss=0.02000   sm_val_loss=0.01914   time=0.88s\n",
      "Epoch 3   loss=0.01799   val_loss=0.01855   sm_loss=0.01800   sm_val_loss=0.01859   time=1.06s\n",
      "Epoch 4   loss=0.01743   val_loss=0.01795   sm_loss=0.01752   sm_val_loss=0.01795   time=1.33s\n",
      "Epoch 6   loss=0.01727   val_loss=0.01791   sm_loss=0.01740   sm_val_loss=0.01793   time=0.89s\n",
      "Epoch 7   loss=0.01721   val_loss=0.01787   sm_loss=0.01733   sm_val_loss=0.01789   time=0.97s\n",
      "Epoch 10   loss=0.01712   val_loss=0.01780   sm_loss=0.01724   sm_val_loss=0.01783   time=0.87s\n",
      "Epoch 11   loss=0.01688   val_loss=0.01763   sm_loss=0.01701   sm_val_loss=0.01765   time=0.97s\n",
      "Epoch 13   loss=0.01644   val_loss=0.01736   sm_loss=0.01659   sm_val_loss=0.01738   time=0.97s\n",
      "Epoch 15   loss=0.01581   val_loss=0.01720   sm_loss=0.01599   sm_val_loss=0.01719   time=0.89s\n",
      "Epoch 16   loss=0.01540   val_loss=0.01715   sm_loss=0.01559   sm_val_loss=0.01718   time=0.89s\n",
      "Epoch 17   loss=0.01489   val_loss=0.01714   sm_loss=0.01509   sm_val_loss=0.01714   time=0.89s\n",
      "Epoch 18   loss=0.01443   val_loss=0.01711   sm_loss=0.01464   sm_val_loss=0.01711   time=0.90s\n",
      "Fold 1 log loss: 0.01720971336207604\n",
      "Fold 2\n",
      "Epoch 1   loss=0.41315   val_loss=0.02260   sm_loss=0.41311   sm_val_loss=0.02259   time=0.90s\n",
      "Epoch 2   loss=0.02022   val_loss=0.01897   sm_loss=0.02017   sm_val_loss=0.01900   time=0.90s\n",
      "Epoch 3   loss=0.01823   val_loss=0.01830   sm_loss=0.01828   sm_val_loss=0.01833   time=1.15s\n",
      "Epoch 4   loss=0.01747   val_loss=0.01767   sm_loss=0.01758   sm_val_loss=0.01766   time=0.91s\n",
      "Epoch 5   loss=0.01727   val_loss=0.01734   sm_loss=0.01740   sm_val_loss=0.01737   time=0.91s\n",
      "Epoch 10   loss=0.01706   val_loss=0.01732   sm_loss=0.01719   sm_val_loss=0.01736   time=0.90s\n",
      "Epoch 12   loss=0.01675   val_loss=0.01726   sm_loss=0.01689   sm_val_loss=0.01727   time=0.87s\n",
      "Epoch 15   loss=0.01580   val_loss=0.01721   sm_loss=0.01599   sm_val_loss=0.01725   time=1.09s\n",
      "Epoch 16   loss=0.01536   val_loss=0.01709   sm_loss=0.01556   sm_val_loss=0.01711   time=0.91s\n",
      "Epoch 17   loss=0.01487   val_loss=0.01697   sm_loss=0.01508   sm_val_loss=0.01699   time=0.91s\n",
      "Fold 2 log loss: 0.017117289525579588\n",
      "Fold 3\n",
      "Epoch 1   loss=0.41479   val_loss=0.02246   sm_loss=0.41474   sm_val_loss=0.02244   time=0.88s\n",
      "Epoch 3   loss=0.01805   val_loss=0.01813   sm_loss=0.01808   sm_val_loss=0.01816   time=0.88s\n",
      "Epoch 9   loss=0.01716   val_loss=0.01804   sm_loss=0.01729   sm_val_loss=0.01808   time=0.89s\n",
      "Epoch 10   loss=0.01692   val_loss=0.01803   sm_loss=0.01705   sm_val_loss=0.01805   time=0.88s\n",
      "Epoch 11   loss=0.01678   val_loss=0.01782   sm_loss=0.01692   sm_val_loss=0.01786   time=0.97s\n",
      "Epoch 13   loss=0.01636   val_loss=0.01782   sm_loss=0.01652   sm_val_loss=0.01781   time=0.90s\n",
      "Epoch 14   loss=0.01612   val_loss=0.01774   sm_loss=0.01628   sm_val_loss=0.01774   time=0.92s\n",
      "Epoch 15   loss=0.01571   val_loss=0.01772   sm_loss=0.01589   sm_val_loss=0.01774   time=0.96s\n",
      "Epoch 16   loss=0.01531   val_loss=0.01761   sm_loss=0.01550   sm_val_loss=0.01759   time=1.10s\n",
      "Epoch 19   loss=0.01390   val_loss=0.01755   sm_loss=0.01413   sm_val_loss=0.01755   time=0.88s\n",
      "Fold 3 log loss: 0.017508563122269317\n",
      "Fold 4\n",
      "Epoch 1   loss=0.41358   val_loss=0.02283   sm_loss=0.41356   sm_val_loss=0.02280   time=1.27s\n",
      "Epoch 3   loss=0.01841   val_loss=0.01865   sm_loss=0.01843   sm_val_loss=0.01864   time=0.89s\n",
      "Epoch 4   loss=0.01741   val_loss=0.01842   sm_loss=0.01754   sm_val_loss=0.01835   time=0.95s\n",
      "Epoch 7   loss=0.01712   val_loss=0.01835   sm_loss=0.01725   sm_val_loss=0.01834   time=1.00s\n",
      "Epoch 8   loss=0.01710   val_loss=0.01814   sm_loss=0.01723   sm_val_loss=0.01814   time=0.92s\n",
      "Epoch 10   loss=0.01687   val_loss=0.01808   sm_loss=0.01701   sm_val_loss=0.01806   time=1.02s\n",
      "Epoch 11   loss=0.01678   val_loss=0.01806   sm_loss=0.01693   sm_val_loss=0.01802   time=0.94s\n",
      "Epoch 13   loss=0.01635   val_loss=0.01789   sm_loss=0.01651   sm_val_loss=0.01787   time=0.94s\n",
      "Epoch 14   loss=0.01609   val_loss=0.01776   sm_loss=0.01626   sm_val_loss=0.01775   time=0.94s\n",
      "Epoch 15   loss=0.01570   val_loss=0.01769   sm_loss=0.01588   sm_val_loss=0.01769   time=0.93s\n",
      "Epoch 18   loss=0.01432   val_loss=0.01769   sm_loss=0.01454   sm_val_loss=0.01769   time=0.93s\n",
      "Fold 4 log loss: 0.017792454380819243\n",
      "Fold 5\n",
      "Epoch 1   loss=0.41403   val_loss=0.02257   sm_loss=0.41398   sm_val_loss=0.02256   time=0.87s\n",
      "Epoch 2   loss=0.01996   val_loss=0.01925   sm_loss=0.01994   sm_val_loss=0.01922   time=0.88s\n",
      "Epoch 3   loss=0.01845   val_loss=0.01843   sm_loss=0.01842   sm_val_loss=0.01845   time=0.93s\n",
      "Epoch 4   loss=0.01744   val_loss=0.01795   sm_loss=0.01754   sm_val_loss=0.01799   time=0.89s\n",
      "Epoch 7   loss=0.01721   val_loss=0.01788   sm_loss=0.01733   sm_val_loss=0.01786   time=0.92s\n",
      "Epoch 10   loss=0.01697   val_loss=0.01774   sm_loss=0.01710   sm_val_loss=0.01773   time=0.91s\n",
      "Epoch 11   loss=0.01682   val_loss=0.01759   sm_loss=0.01695   sm_val_loss=0.01760   time=0.92s\n",
      "Epoch 13   loss=0.01643   val_loss=0.01754   sm_loss=0.01658   sm_val_loss=0.01753   time=0.93s\n",
      "Epoch 14   loss=0.01611   val_loss=0.01727   sm_loss=0.01628   sm_val_loss=0.01729   time=0.91s\n",
      "Epoch 15   loss=0.01575   val_loss=0.01722   sm_loss=0.01594   sm_val_loss=0.01723   time=0.88s\n",
      "Epoch 16   loss=0.01538   val_loss=0.01713   sm_loss=0.01558   sm_val_loss=0.01712   time=0.89s\n",
      "Epoch 17   loss=0.01491   val_loss=0.01709   sm_loss=0.01512   sm_val_loss=0.01709   time=0.95s\n",
      "Epoch 19   loss=0.01397   val_loss=0.01707   sm_loss=0.01420   sm_val_loss=0.01708   time=0.89s\n",
      "Epoch 20   loss=0.01376   val_loss=0.01704   sm_loss=0.01399   sm_val_loss=0.01705   time=0.89s\n",
      "Fold 5 log loss: 0.017314269051895228\n",
      "Fold 6\n",
      "Epoch 1   loss=0.41390   val_loss=0.02272   sm_loss=0.41383   sm_val_loss=0.02270   time=0.89s\n",
      "Epoch 3   loss=0.01990   val_loss=0.01862   sm_loss=0.01982   sm_val_loss=0.01868   time=0.90s\n",
      "Epoch 4   loss=0.01795   val_loss=0.01819   sm_loss=0.01803   sm_val_loss=0.01825   time=0.90s\n",
      "Epoch 5   loss=0.01754   val_loss=0.01819   sm_loss=0.01764   sm_val_loss=0.01824   time=0.89s\n",
      "Epoch 7   loss=0.01729   val_loss=0.01816   sm_loss=0.01740   sm_val_loss=0.01822   time=0.90s\n",
      "Epoch 8   loss=0.01733   val_loss=0.01799   sm_loss=0.01744   sm_val_loss=0.01807   time=1.61s\n",
      "Epoch 9   loss=0.01723   val_loss=0.01788   sm_loss=0.01734   sm_val_loss=0.01795   time=0.88s\n",
      "Epoch 10   loss=0.01702   val_loss=0.01782   sm_loss=0.01714   sm_val_loss=0.01790   time=0.96s\n",
      "Epoch 11   loss=0.01691   val_loss=0.01753   sm_loss=0.01704   sm_val_loss=0.01762   time=0.90s\n",
      "Epoch 13   loss=0.01654   val_loss=0.01744   sm_loss=0.01669   sm_val_loss=0.01752   time=0.89s\n",
      "Epoch 14   loss=0.01629   val_loss=0.01732   sm_loss=0.01644   sm_val_loss=0.01744   time=0.90s\n",
      "Epoch 16   loss=0.01546   val_loss=0.01727   sm_loss=0.01564   sm_val_loss=0.01737   time=0.87s\n",
      "Epoch 17   loss=0.01507   val_loss=0.01718   sm_loss=0.01526   sm_val_loss=0.01727   time=0.91s\n",
      "Fold 6 log loss: 0.01731515558821594\n",
      "Fold 7\n",
      "Epoch 1   loss=0.41343   val_loss=0.02253   sm_loss=0.41336   sm_val_loss=0.02253   time=0.95s\n",
      "Epoch 2   loss=0.02017   val_loss=0.01904   sm_loss=0.02011   sm_val_loss=0.01895   time=1.16s\n",
      "Epoch 3   loss=0.01802   val_loss=0.01820   sm_loss=0.01806   sm_val_loss=0.01821   time=0.94s\n",
      "Epoch 4   loss=0.01741   val_loss=0.01774   sm_loss=0.01751   sm_val_loss=0.01780   time=0.91s\n",
      "Epoch 10   loss=0.01698   val_loss=0.01760   sm_loss=0.01711   sm_val_loss=0.01765   time=0.87s\n",
      "Epoch 12   loss=0.01667   val_loss=0.01747   sm_loss=0.01681   sm_val_loss=0.01753   time=0.91s\n",
      "Epoch 13   loss=0.01642   val_loss=0.01745   sm_loss=0.01657   sm_val_loss=0.01753   time=0.90s\n",
      "Epoch 14   loss=0.01611   val_loss=0.01739   sm_loss=0.01627   sm_val_loss=0.01745   time=0.90s\n",
      "Epoch 15   loss=0.01572   val_loss=0.01730   sm_loss=0.01590   sm_val_loss=0.01736   time=0.89s\n",
      "Epoch 16   loss=0.01528   val_loss=0.01694   sm_loss=0.01547   sm_val_loss=0.01701   time=0.91s\n",
      "Epoch 17   loss=0.01474   val_loss=0.01693   sm_loss=0.01494   sm_val_loss=0.01700   time=0.90s\n",
      "Fold 7 log loss: 0.017017683282311638\n",
      "Seed 3\n",
      "Fold 1 log loss: 0.01720971336207604\n",
      "Fold 2 log loss: 0.017117289525579588\n",
      "Fold 3 log loss: 0.017508563122269317\n",
      "Fold 4 log loss: 0.017792454380819243\n",
      "Fold 5 log loss: 0.017314269051895228\n",
      "Fold 6 log loss: 0.01731515558821594\n",
      "Fold 7 log loss: 0.017017683282311638\n",
      "Std of log loss: 0.00024002955067522024\n",
      "Total log loss: 0.017324913372453225\n",
      "Fold 1\n",
      "Epoch 1   loss=0.41495   val_loss=0.02325   sm_loss=0.41487   sm_val_loss=0.02322   time=0.90s\n",
      "Epoch 2   loss=0.02003   val_loss=0.01864   sm_loss=0.02000   sm_val_loss=0.01858   time=1.07s\n",
      "Epoch 4   loss=0.01750   val_loss=0.01800   sm_loss=0.01760   sm_val_loss=0.01800   time=0.89s\n",
      "Epoch 6   loss=0.01728   val_loss=0.01803   sm_loss=0.01740   sm_val_loss=0.01799   time=0.91s\n",
      "Epoch 7   loss=0.01731   val_loss=0.01792   sm_loss=0.01742   sm_val_loss=0.01789   time=0.96s\n",
      "Epoch 8   loss=0.01717   val_loss=0.01779   sm_loss=0.01729   sm_val_loss=0.01779   time=1.15s\n",
      "Epoch 11   loss=0.01689   val_loss=0.01766   sm_loss=0.01703   sm_val_loss=0.01768   time=0.91s\n",
      "Epoch 12   loss=0.01677   val_loss=0.01754   sm_loss=0.01692   sm_val_loss=0.01754   time=0.88s\n",
      "Epoch 13   loss=0.01648   val_loss=0.01747   sm_loss=0.01663   sm_val_loss=0.01748   time=0.90s\n",
      "Epoch 14   loss=0.01622   val_loss=0.01733   sm_loss=0.01639   sm_val_loss=0.01736   time=0.91s\n",
      "Epoch 15   loss=0.01590   val_loss=0.01724   sm_loss=0.01607   sm_val_loss=0.01724   time=0.90s\n",
      "Epoch 17   loss=0.01496   val_loss=0.01709   sm_loss=0.01516   sm_val_loss=0.01711   time=0.90s\n",
      "Epoch 18   loss=0.01449   val_loss=0.01709   sm_loss=0.01470   sm_val_loss=0.01710   time=0.89s\n",
      "Epoch 19   loss=0.01410   val_loss=0.01703   sm_loss=0.01433   sm_val_loss=0.01704   time=1.08s\n",
      "Fold 1 log loss: 0.0171400790531583\n",
      "Fold 2\n",
      "Epoch 1   loss=0.41349   val_loss=0.02195   sm_loss=0.41344   sm_val_loss=0.02193   time=0.93s\n",
      "Epoch 2   loss=0.01997   val_loss=0.01826   sm_loss=0.01995   sm_val_loss=0.01829   time=0.90s\n",
      "Epoch 3   loss=0.01809   val_loss=0.01772   sm_loss=0.01814   sm_val_loss=0.01778   time=0.88s\n",
      "Epoch 4   loss=0.01744   val_loss=0.01748   sm_loss=0.01755   sm_val_loss=0.01753   time=0.89s\n",
      "Epoch 5   loss=0.01736   val_loss=0.01734   sm_loss=0.01749   sm_val_loss=0.01735   time=0.87s\n",
      "Epoch 13   loss=0.01644   val_loss=0.01696   sm_loss=0.01660   sm_val_loss=0.01701   time=0.87s\n",
      "Epoch 16   loss=0.01544   val_loss=0.01691   sm_loss=0.01564   sm_val_loss=0.01693   time=0.87s\n",
      "Epoch 17   loss=0.01500   val_loss=0.01690   sm_loss=0.01521   sm_val_loss=0.01691   time=0.89s\n",
      "Epoch 19   loss=0.01411   val_loss=0.01688   sm_loss=0.01434   sm_val_loss=0.01688   time=0.97s\n",
      "Epoch 20   loss=0.01388   val_loss=0.01687   sm_loss=0.01411   sm_val_loss=0.01687   time=1.58s\n",
      "Fold 2 log loss: 0.017002978646154666\n",
      "Fold 3\n",
      "Epoch 1   loss=0.41377   val_loss=0.02297   sm_loss=0.41373   sm_val_loss=0.02287   time=0.95s\n",
      "Epoch 2   loss=0.02003   val_loss=0.01887   sm_loss=0.01997   sm_val_loss=0.01886   time=0.89s\n",
      "Epoch 3   loss=0.01802   val_loss=0.01818   sm_loss=0.01805   sm_val_loss=0.01823   time=0.93s\n",
      "Epoch 6   loss=0.01722   val_loss=0.01820   sm_loss=0.01735   sm_val_loss=0.01820   time=0.88s\n",
      "Epoch 8   loss=0.01716   val_loss=0.01799   sm_loss=0.01729   sm_val_loss=0.01799   time=0.85s\n",
      "Epoch 10   loss=0.01697   val_loss=0.01790   sm_loss=0.01710   sm_val_loss=0.01789   time=1.10s\n",
      "Epoch 14   loss=0.01611   val_loss=0.01772   sm_loss=0.01628   sm_val_loss=0.01774   time=0.91s\n",
      "Epoch 15   loss=0.01571   val_loss=0.01767   sm_loss=0.01589   sm_val_loss=0.01765   time=0.90s\n",
      "Epoch 17   loss=0.01482   val_loss=0.01760   sm_loss=0.01503   sm_val_loss=0.01761   time=0.88s\n",
      "Epoch 18   loss=0.01427   val_loss=0.01758   sm_loss=0.01449   sm_val_loss=0.01756   time=0.92s\n",
      "Fold 3 log loss: 0.01751769216720904\n",
      "Fold 4\n",
      "Epoch 1   loss=0.41448   val_loss=0.02272   sm_loss=0.41444   sm_val_loss=0.02272   time=1.16s\n",
      "Epoch 2   loss=0.01988   val_loss=0.01973   sm_loss=0.01985   sm_val_loss=0.01949   time=1.01s\n",
      "Epoch 3   loss=0.01793   val_loss=0.01987   sm_loss=0.01799   sm_val_loss=0.01925   time=0.88s\n",
      "Epoch 4   loss=0.01741   val_loss=0.01843   sm_loss=0.01752   sm_val_loss=0.01843   time=0.90s\n",
      "Epoch 5   loss=0.01716   val_loss=0.01837   sm_loss=0.01729   sm_val_loss=0.01837   time=0.88s\n",
      "Epoch 8   loss=0.01720   val_loss=0.01838   sm_loss=0.01733   sm_val_loss=0.01831   time=0.92s\n",
      "Epoch 9   loss=0.01703   val_loss=0.01823   sm_loss=0.01716   sm_val_loss=0.01823   time=0.89s\n",
      "Epoch 10   loss=0.01695   val_loss=0.01802   sm_loss=0.01709   sm_val_loss=0.01801   time=0.88s\n",
      "Epoch 12   loss=0.01659   val_loss=0.01795   sm_loss=0.01674   sm_val_loss=0.01795   time=0.90s\n",
      "Epoch 13   loss=0.01638   val_loss=0.01787   sm_loss=0.01654   sm_val_loss=0.01787   time=0.89s\n",
      "Epoch 14   loss=0.01600   val_loss=0.01780   sm_loss=0.01617   sm_val_loss=0.01779   time=0.92s\n",
      "Epoch 16   loss=0.01528   val_loss=0.01759   sm_loss=0.01548   sm_val_loss=0.01762   time=0.91s\n",
      "Fold 4 log loss: 0.017710892075288746\n",
      "Fold 5\n",
      "Epoch 1   loss=0.41523   val_loss=0.02241   sm_loss=0.41519   sm_val_loss=0.02241   time=0.91s\n",
      "Epoch 2   loss=0.02012   val_loss=0.02072   sm_loss=0.02007   sm_val_loss=0.02031   time=1.05s\n",
      "Epoch 3   loss=0.01805   val_loss=0.01839   sm_loss=0.01808   sm_val_loss=0.01833   time=0.87s\n",
      "Epoch 4   loss=0.01827   val_loss=0.01821   sm_loss=0.01832   sm_val_loss=0.01819   time=0.89s\n",
      "Epoch 5   loss=0.01741   val_loss=0.01809   sm_loss=0.01754   sm_val_loss=0.01808   time=0.89s\n",
      "Epoch 6   loss=0.01734   val_loss=0.01778   sm_loss=0.01746   sm_val_loss=0.01779   time=0.91s\n",
      "Epoch 7   loss=0.01724   val_loss=0.01777   sm_loss=0.01736   sm_val_loss=0.01777   time=0.89s\n",
      "Epoch 9   loss=0.01712   val_loss=0.01768   sm_loss=0.01724   sm_val_loss=0.01769   time=0.88s\n",
      "Epoch 11   loss=0.01685   val_loss=0.01753   sm_loss=0.01699   sm_val_loss=0.01755   time=0.87s\n",
      "Epoch 12   loss=0.01669   val_loss=0.01743   sm_loss=0.01684   sm_val_loss=0.01746   time=1.13s\n",
      "Epoch 13   loss=0.01644   val_loss=0.01740   sm_loss=0.01660   sm_val_loss=0.01743   time=2.34s\n",
      "Epoch 14   loss=0.01615   val_loss=0.01736   sm_loss=0.01632   sm_val_loss=0.01736   time=0.88s\n",
      "Epoch 15   loss=0.01578   val_loss=0.01716   sm_loss=0.01596   sm_val_loss=0.01716   time=0.92s\n",
      "Epoch 16   loss=0.01539   val_loss=0.01708   sm_loss=0.01558   sm_val_loss=0.01710   time=0.86s\n",
      "Epoch 17   loss=0.01490   val_loss=0.01705   sm_loss=0.01510   sm_val_loss=0.01704   time=1.02s\n",
      "Epoch 18   loss=0.01442   val_loss=0.01703   sm_loss=0.01463   sm_val_loss=0.01701   time=0.89s\n",
      "Epoch 19   loss=0.01402   val_loss=0.01696   sm_loss=0.01424   sm_val_loss=0.01695   time=0.90s\n",
      "Fold 5 log loss: 0.017202294571724574\n",
      "Fold 6\n",
      "Epoch 1   loss=0.41352   val_loss=0.02285   sm_loss=0.41345   sm_val_loss=0.02284   time=0.95s\n",
      "Epoch 3   loss=0.01843   val_loss=0.01913   sm_loss=0.01844   sm_val_loss=0.01917   time=0.90s\n",
      "Epoch 4   loss=0.01776   val_loss=0.01872   sm_loss=0.01783   sm_val_loss=0.01881   time=0.90s\n",
      "Epoch 5   loss=0.01737   val_loss=0.01829   sm_loss=0.01748   sm_val_loss=0.01835   time=0.90s\n",
      "Epoch 7   loss=0.01740   val_loss=0.01811   sm_loss=0.01751   sm_val_loss=0.01815   time=0.87s\n",
      "Epoch 8   loss=0.01724   val_loss=0.01798   sm_loss=0.01736   sm_val_loss=0.01805   time=0.87s\n",
      "Epoch 9   loss=0.01711   val_loss=0.01768   sm_loss=0.01723   sm_val_loss=0.01774   time=0.86s\n",
      "Epoch 10   loss=0.01704   val_loss=0.01758   sm_loss=0.01716   sm_val_loss=0.01767   time=0.86s\n",
      "Epoch 12   loss=0.01671   val_loss=0.01735   sm_loss=0.01685   sm_val_loss=0.01744   time=0.87s\n",
      "Epoch 16   loss=0.01551   val_loss=0.01720   sm_loss=0.01569   sm_val_loss=0.01729   time=0.86s\n",
      "Fold 6 log loss: 0.017320735314764624\n",
      "Fold 7\n",
      "Epoch 1   loss=0.41427   val_loss=0.02278   sm_loss=0.41423   sm_val_loss=0.02277   time=0.88s\n",
      "Epoch 2   loss=0.02001   val_loss=0.01921   sm_loss=0.01997   sm_val_loss=0.01924   time=0.97s\n",
      "Epoch 3   loss=0.01807   val_loss=0.01827   sm_loss=0.01811   sm_val_loss=0.01830   time=0.86s\n",
      "Epoch 4   loss=0.01744   val_loss=0.01811   sm_loss=0.01755   sm_val_loss=0.01814   time=1.32s\n",
      "Epoch 5   loss=0.01732   val_loss=0.01804   sm_loss=0.01744   sm_val_loss=0.01807   time=1.10s\n",
      "Epoch 6   loss=0.01729   val_loss=0.01781   sm_loss=0.01741   sm_val_loss=0.01787   time=0.85s\n",
      "Epoch 8   loss=0.01727   val_loss=0.01771   sm_loss=0.01739   sm_val_loss=0.01776   time=0.88s\n",
      "Epoch 10   loss=0.01698   val_loss=0.01761   sm_loss=0.01711   sm_val_loss=0.01768   time=0.85s\n",
      "Epoch 11   loss=0.01692   val_loss=0.01748   sm_loss=0.01706   sm_val_loss=0.01754   time=0.88s\n",
      "Epoch 12   loss=0.01669   val_loss=0.01745   sm_loss=0.01683   sm_val_loss=0.01753   time=0.86s\n",
      "Epoch 13   loss=0.01643   val_loss=0.01736   sm_loss=0.01659   sm_val_loss=0.01745   time=0.87s\n",
      "Epoch 14   loss=0.01619   val_loss=0.01730   sm_loss=0.01635   sm_val_loss=0.01737   time=0.88s\n",
      "Epoch 15   loss=0.01577   val_loss=0.01722   sm_loss=0.01595   sm_val_loss=0.01730   time=0.91s\n",
      "Epoch 16   loss=0.01539   val_loss=0.01705   sm_loss=0.01558   sm_val_loss=0.01711   time=1.04s\n",
      "Epoch 17   loss=0.01489   val_loss=0.01695   sm_loss=0.01509   sm_val_loss=0.01702   time=0.88s\n",
      "Epoch 19   loss=0.01403   val_loss=0.01693   sm_loss=0.01425   sm_val_loss=0.01700   time=0.87s\n",
      "Epoch 20   loss=0.01380   val_loss=0.01693   sm_loss=0.01403   sm_val_loss=0.01700   time=0.88s\n",
      "Fold 7 log loss: 0.017017373588121228\n",
      "Seed 4\n",
      "Fold 1 log loss: 0.0171400790531583\n",
      "Fold 2 log loss: 0.017002978646154666\n",
      "Fold 3 log loss: 0.01751769216720904\n",
      "Fold 4 log loss: 0.017710892075288746\n",
      "Fold 5 log loss: 0.017202294571724574\n",
      "Fold 6 log loss: 0.017320735314764624\n",
      "Fold 7 log loss: 0.017017373588121228\n",
      "Std of log loss: 0.00024343548870323501\n",
      "Total log loss: 0.017272937064165363\n",
      "Total log loss in targets: 0.017061671271176138\n"
     ]
    }
   ],
   "source": [
    "seeds = [0,1,2,3,4] \n",
    "target_oof = np.zeros([len(fn_train),fn_targets.shape[1]])\n",
    "target_pred = np.zeros([len(fn_test),fn_targets.shape[1]])\n",
    "\n",
    "for seed_ in seeds:\n",
    "    oof, oof_targets, pytorch_pred = modelling_torch(fn_train, fn_targets, fn_test, seed_, fn_train.shape[1]-1, fn_targets.shape[1], 20)\n",
    "    target_oof += oof / len(seeds)\n",
    "    target_pred += pytorch_pred / len(seeds)\n",
    "\n",
    "print(\"Total log loss in targets: {}\".format(mean_log_loss(oof_targets, target_oof)))"
   ]
  },
  {
   "cell_type": "code",
   "execution_count": 22,
   "metadata": {
    "execution": {
     "iopub.execute_input": "2020-11-10T12:34:22.469626Z",
     "iopub.status.busy": "2020-11-10T12:34:22.468619Z",
     "iopub.status.idle": "2020-11-10T12:34:23.627652Z",
     "shell.execute_reply": "2020-11-10T12:34:23.627100Z"
    },
    "papermill": {
     "duration": 1.364119,
     "end_time": "2020-11-10T12:34:23.627763",
     "exception": false,
     "start_time": "2020-11-10T12:34:22.263644",
     "status": "completed"
    },
    "tags": []
   },
   "outputs": [
    {
     "name": "stdout",
     "output_type": "stream",
     "text": [
      "Overall AUC : 0.6455878784267058\n"
     ]
    }
   ],
   "source": [
    "aucs = []\n",
    "for task_id in range(targets.shape[1]-1):\n",
    "    aucs.append(roc_auc_score(y_true=targets.iloc[:, task_id+1].values,\n",
    "                              y_score=target_oof[:, task_id]))\n",
    "print(f\"Overall AUC : {np.mean(aucs)}\")"
   ]
  },
  {
   "cell_type": "code",
   "execution_count": 23,
   "metadata": {
    "execution": {
     "iopub.execute_input": "2020-11-10T12:34:24.035627Z",
     "iopub.status.busy": "2020-11-10T12:34:24.034766Z",
     "iopub.status.idle": "2020-11-10T12:34:30.350958Z",
     "shell.execute_reply": "2020-11-10T12:34:30.351507Z"
    },
    "papermill": {
     "duration": 6.530805,
     "end_time": "2020-11-10T12:34:30.351665",
     "exception": false,
     "start_time": "2020-11-10T12:34:23.820860",
     "status": "completed"
    },
    "tags": []
   },
   "outputs": [
    {
     "name": "stdout",
     "output_type": "stream",
     "text": [
      "OOF log loss:  0.015724765308632576\n"
     ]
    }
   ],
   "source": [
    "t = pd.read_csv(DATA_DIR + 'train_targets_scored.csv')\n",
    "train_checkscore = t.copy()\n",
    "train_checkscore.loc[train_checkscore.index.isin(cons_train_index),target_feats] = target_oof\n",
    "train_checkscore.loc[train_checkscore.index.isin(noncons_train_index),target_feats] = 0\n",
    "t.drop(\"sig_id\", axis=1, inplace=True)\n",
    "print('OOF log loss: ', log_loss(np.ravel(t), np.ravel(np.array(train_checkscore.iloc[:,1:]))))"
   ]
  },
  {
   "cell_type": "code",
   "execution_count": 24,
   "metadata": {
    "execution": {
     "iopub.execute_input": "2020-11-10T12:34:30.748953Z",
     "iopub.status.busy": "2020-11-10T12:34:30.747735Z",
     "iopub.status.idle": "2020-11-10T12:34:33.347986Z",
     "shell.execute_reply": "2020-11-10T12:34:33.346555Z"
    },
    "papermill": {
     "duration": 2.798943,
     "end_time": "2020-11-10T12:34:33.348145",
     "exception": false,
     "start_time": "2020-11-10T12:34:30.549202",
     "status": "completed"
    },
    "tags": []
   },
   "outputs": [],
   "source": [
    "sub.loc[cons_test_index,target_feats] = target_pred\n",
    "sub.loc[noncons_test_index,target_feats] = 0\n",
    "sub.to_csv('submission.csv', index=False)"
   ]
  },
  {
   "cell_type": "code",
   "execution_count": null,
   "metadata": {
    "papermill": {
     "duration": 0.194492,
     "end_time": "2020-11-10T12:34:33.739246",
     "exception": false,
     "start_time": "2020-11-10T12:34:33.544754",
     "status": "completed"
    },
    "tags": []
   },
   "outputs": [],
   "source": []
  }
 ],
 "metadata": {
  "kernelspec": {
   "display_name": "Python 3",
   "language": "python",
   "name": "python3"
  },
  "language_info": {
   "codemirror_mode": {
    "name": "ipython",
    "version": 3
   },
   "file_extension": ".py",
   "mimetype": "text/x-python",
   "name": "python",
   "nbconvert_exporter": "python",
   "pygments_lexer": "ipython3",
   "version": "3.7.6"
  },
  "papermill": {
   "duration": 789.621006,
   "end_time": "2020-11-10T12:34:34.447941",
   "environment_variables": {},
   "exception": null,
   "input_path": "__notebook__.ipynb",
   "output_path": "__notebook__.ipynb",
   "parameters": {},
   "start_time": "2020-11-10T12:21:24.826935",
   "version": "2.1.0"
  }
 },
 "nbformat": 4,
 "nbformat_minor": 4
}
