{
 "cells": [
  {
   "cell_type": "markdown",
   "metadata": {
    "papermill": {
     "duration": 0.014239,
     "end_time": "2020-10-07T09:49:39.556539",
     "exception": false,
     "start_time": "2020-10-07T09:49:39.542300",
     "status": "completed"
    },
    "tags": []
   },
   "source": [
    "- cancel sum of moa by taking axis=1\n",
    "- cancel 2nd layer\n",
    "- execute standadization\n",
    "- only consider target file"
   ]
  },
  {
   "cell_type": "code",
   "execution_count": 1,
   "metadata": {
    "_cell_guid": "b1076dfc-b9ad-4769-8c92-a6c4dae69d19",
    "_uuid": "8f2839f25d086af736a60e9eeb907d3b93b6e0e5",
    "execution": {
     "iopub.execute_input": "2020-10-07T09:49:39.591334Z",
     "iopub.status.busy": "2020-10-07T09:49:39.590501Z",
     "iopub.status.idle": "2020-10-07T09:49:48.078821Z",
     "shell.execute_reply": "2020-10-07T09:49:48.077678Z"
    },
    "papermill": {
     "duration": 8.509431,
     "end_time": "2020-10-07T09:49:48.078982",
     "exception": false,
     "start_time": "2020-10-07T09:49:39.569551",
     "status": "completed"
    },
    "tags": []
   },
   "outputs": [],
   "source": [
    "import os\n",
    "import sys\n",
    "import random\n",
    "import warnings\n",
    "import numpy as np\n",
    "import pandas as pd \n",
    "from sklearn.metrics import log_loss\n",
    "from sklearn import preprocessing\n",
    "from tqdm import tqdm_notebook as tqdm\n",
    "from sklearn.multioutput import MultiOutputClassifier\n",
    "\n",
    "sys.path.append('../input/multilabelstraifier/')\n",
    "from ml_stratifiers import MultilabelStratifiedKFold\n",
    "warnings.filterwarnings('ignore')\n",
    "\n",
    "import time\n",
    "import torch\n",
    "import torch.nn as nn\n",
    "import torch.optim as optim\n",
    "import torch.nn.functional as F\n",
    "import tensorflow as tf"
   ]
  },
  {
   "cell_type": "code",
   "execution_count": 2,
   "metadata": {
    "execution": {
     "iopub.execute_input": "2020-10-07T09:49:48.116741Z",
     "iopub.status.busy": "2020-10-07T09:49:48.115676Z",
     "iopub.status.idle": "2020-10-07T09:49:54.448511Z",
     "shell.execute_reply": "2020-10-07T09:49:54.449897Z"
    },
    "papermill": {
     "duration": 6.357759,
     "end_time": "2020-10-07T09:49:54.450107",
     "exception": false,
     "start_time": "2020-10-07T09:49:48.092348",
     "status": "completed"
    },
    "tags": []
   },
   "outputs": [],
   "source": [
    "DATA_DIR = '/kaggle/input/lish-moa/'\n",
    "train = pd.read_csv(DATA_DIR + 'train_features.csv')\n",
    "targets = pd.read_csv(DATA_DIR + 'train_targets_scored.csv')\n",
    "non_targets = pd.read_csv(DATA_DIR + 'train_targets_nonscored.csv')\n",
    "test = pd.read_csv(DATA_DIR + 'test_features.csv')\n",
    "sub = pd.read_csv(DATA_DIR + 'sample_submission.csv')"
   ]
  },
  {
   "cell_type": "code",
   "execution_count": 3,
   "metadata": {
    "execution": {
     "iopub.execute_input": "2020-10-07T09:49:54.499786Z",
     "iopub.status.busy": "2020-10-07T09:49:54.498380Z",
     "iopub.status.idle": "2020-10-07T09:49:54.503335Z",
     "shell.execute_reply": "2020-10-07T09:49:54.504066Z"
    },
    "papermill": {
     "duration": 0.034172,
     "end_time": "2020-10-07T09:49:54.504270",
     "exception": false,
     "start_time": "2020-10-07T09:49:54.470098",
     "status": "completed"
    },
    "tags": []
   },
   "outputs": [],
   "source": [
    "target_feats = [ i for i in targets.columns if i != \"sig_id\"]\n",
    "g_feats = [i for i in train.columns if \"g-\" in i]\n",
    "c_feats = [i for i in train.columns if \"c-\" in i]"
   ]
  },
  {
   "cell_type": "code",
   "execution_count": 4,
   "metadata": {
    "execution": {
     "iopub.execute_input": "2020-10-07T09:49:54.557581Z",
     "iopub.status.busy": "2020-10-07T09:49:54.556176Z",
     "iopub.status.idle": "2020-10-07T09:49:54.699711Z",
     "shell.execute_reply": "2020-10-07T09:49:54.700981Z"
    },
    "papermill": {
     "duration": 0.177474,
     "end_time": "2020-10-07T09:49:54.701190",
     "exception": false,
     "start_time": "2020-10-07T09:49:54.523716",
     "status": "completed"
    },
    "tags": []
   },
   "outputs": [],
   "source": [
    "noncons_train_index = train[train.cp_type==\"ctl_vehicle\"].index\n",
    "cons_train_index = train[train.cp_type!=\"ctl_vehicle\"].index\n",
    "noncons_test_index = test[test.cp_type==\"ctl_vehicle\"].index\n",
    "cons_test_index = test[test.cp_type!=\"ctl_vehicle\"].index"
   ]
  },
  {
   "cell_type": "markdown",
   "metadata": {
    "papermill": {
     "duration": 0.018258,
     "end_time": "2020-10-07T09:49:54.739083",
     "exception": false,
     "start_time": "2020-10-07T09:49:54.720825",
     "status": "completed"
    },
    "tags": []
   },
   "source": [
    "# preprocess"
   ]
  },
  {
   "cell_type": "code",
   "execution_count": 5,
   "metadata": {
    "execution": {
     "iopub.execute_input": "2020-10-07T09:49:54.794033Z",
     "iopub.status.busy": "2020-10-07T09:49:54.793054Z",
     "iopub.status.idle": "2020-10-07T09:49:57.366138Z",
     "shell.execute_reply": "2020-10-07T09:49:57.365025Z"
    },
    "papermill": {
     "duration": 2.606582,
     "end_time": "2020-10-07T09:49:57.366307",
     "exception": false,
     "start_time": "2020-10-07T09:49:54.759725",
     "status": "completed"
    },
    "tags": []
   },
   "outputs": [],
   "source": [
    "# normalization by ctl group\n",
    "train_ctl = train[train.index.isin(noncons_train_index)].copy().reset_index(drop=True)\n",
    "test_ctl = test[test.index.isin(noncons_test_index)].copy().reset_index(drop=True)\n",
    "ctl_df = pd.concat([train_ctl, test_ctl])\n",
    "\n",
    "ctl_group_data = ctl_df.groupby([\"cp_dose\", \"cp_time\"]).agg({\"mean\"}).reset_index()\n",
    "mean_g_feats = [\"mean-\" + i for i in g_feats]\n",
    "mean_c_feats = [\"mean-\" + i for i in c_feats]\n",
    "columns = [\"cp_dose\", \"cp_time\"] + mean_g_feats + mean_c_feats\n",
    "ctl_group_data.columns = columns\n",
    "\n",
    "train = train[train.index.isin(cons_train_index)].copy().reset_index(drop=True)\n",
    "targets = targets[targets.index.isin(cons_train_index)].copy().reset_index(drop=True)\n",
    "non_targets = non_targets[non_targets.index.isin(cons_train_index)].copy().reset_index(drop=True)"
   ]
  },
  {
   "cell_type": "markdown",
   "metadata": {
    "papermill": {
     "duration": 0.013612,
     "end_time": "2020-10-07T09:49:57.393959",
     "exception": false,
     "start_time": "2020-10-07T09:49:57.380347",
     "status": "completed"
    },
    "tags": []
   },
   "source": [
    "# Feature engineering "
   ]
  },
  {
   "cell_type": "code",
   "execution_count": 6,
   "metadata": {
    "execution": {
     "iopub.execute_input": "2020-10-07T09:49:57.439884Z",
     "iopub.status.busy": "2020-10-07T09:49:57.438448Z",
     "iopub.status.idle": "2020-10-07T09:50:02.822027Z",
     "shell.execute_reply": "2020-10-07T09:50:02.821165Z"
    },
    "papermill": {
     "duration": 5.414687,
     "end_time": "2020-10-07T09:50:02.822177",
     "exception": false,
     "start_time": "2020-10-07T09:49:57.407490",
     "status": "completed"
    },
    "tags": []
   },
   "outputs": [
    {
     "name": "stdout",
     "output_type": "stream",
     "text": [
      "(21948, 874) (3982, 874)\n",
      "(21948, 874) (3982, 874)\n"
     ]
    }
   ],
   "source": [
    "def fe(df, remove_features):\n",
    "    tmp = df.copy()\n",
    "    tmp = pd.merge(tmp, ctl_group_data, on=[\"cp_time\", \"cp_dose\"], how=\"left\")\n",
    "    for i in range(len(g_feats)):\n",
    "        tmp[\"diff-g-\"+str(i)] = tmp[\"g-\"+str(i)] - tmp[\"mean-g-\"+str(i)]\n",
    "    for i in range(len(c_feats)):\n",
    "        tmp[\"diff-c-\"+str(i)] = tmp[\"c-\"+str(i)] - tmp[\"mean-c-\"+str(i)]\n",
    "    \n",
    "    tmp.loc[:, 'cp_type'] = tmp.loc[:, 'cp_type'].map({'trt_cp': 0, 'ctl_vehicle': 1})\n",
    "    tmp.loc[:, 'cp_dose'] = tmp.loc[:, 'cp_dose'].map({'D1': 0, 'D2': 1})\n",
    "        \n",
    "    tmp.drop(remove_features, axis=1, inplace=True)\n",
    "    return tmp\n",
    "\n",
    "def fe2(df):\n",
    "    tmp = df.copy()\n",
    "    tmp.loc[:, 'cp_type'] = tmp.loc[:, 'cp_type'].map({'trt_cp': 0, 'ctl_vehicle': 1})\n",
    "    tmp.loc[:, 'cp_dose'] = tmp.loc[:, 'cp_dose'].map({'D1': 0, 'D2': 1})\n",
    "        \n",
    "    tmp.drop([\"cp_type\", \"sig_id\"], axis=1, inplace=True)\n",
    "    return tmp\n",
    "\n",
    "f_train = fe2(train)\n",
    "f_test = fe2(test)\n",
    "\n",
    "remove_features = [\"cp_type\" , \"sig_id\"] + mean_g_feats + mean_c_feats + g_feats + c_feats \n",
    "n_train = fe(train, remove_features)\n",
    "n_test = fe(test, remove_features)\n",
    "\n",
    "print(f_train.shape, f_test.shape)\n",
    "print(n_train.shape, n_test.shape)"
   ]
  },
  {
   "cell_type": "markdown",
   "metadata": {
    "papermill": {
     "duration": 0.013933,
     "end_time": "2020-10-07T09:50:02.850802",
     "exception": false,
     "start_time": "2020-10-07T09:50:02.836869",
     "status": "completed"
    },
    "tags": []
   },
   "source": [
    "# modelling"
   ]
  },
  {
   "cell_type": "code",
   "execution_count": 7,
   "metadata": {
    "execution": {
     "iopub.execute_input": "2020-10-07T09:50:02.914693Z",
     "iopub.status.busy": "2020-10-07T09:50:02.898189Z",
     "iopub.status.idle": "2020-10-07T09:50:03.313557Z",
     "shell.execute_reply": "2020-10-07T09:50:03.312586Z"
    },
    "papermill": {
     "duration": 0.448772,
     "end_time": "2020-10-07T09:50:03.313688",
     "exception": false,
     "start_time": "2020-10-07T09:50:02.864916",
     "status": "completed"
    },
    "tags": []
   },
   "outputs": [
    {
     "name": "stdout",
     "output_type": "stream",
     "text": [
      "cuda\n"
     ]
    }
   ],
   "source": [
    "device = \"cuda\" if torch.cuda.is_available() else \"cpu\"\n",
    "print(device)\n",
    "batch_size = 128\n",
    "train_epochs = 40\n",
    "n_folds=5\n",
    "EARLY_STOPPING_STEPS = 10\n",
    "\n",
    "def mean_log_loss(y_true, y_pred):\n",
    "    metrics = []\n",
    "    for i, target in enumerate(target_feats):\n",
    "        metrics.append(log_loss(y_true[:, i], y_pred[:, i].astype(float), labels=[0,1]))\n",
    "    return np.mean(metrics)\n",
    "\n",
    "def seed_everything(seed=1234): \n",
    "    random.seed(seed)\n",
    "    os.environ['PYTHONHASHSEED'] = str(seed)\n",
    "    tf.random.set_seed(seed)\n",
    "    np.random.seed(seed)\n",
    "    torch.manual_seed(seed)\n",
    "    torch.cuda.manual_seed(seed)\n",
    "    torch.backends.cudnn.deterministic = True\n",
    "\n",
    "class MoaModel(nn.Module):\n",
    "    def __init__(self, num_columns, last_columns_num):\n",
    "        super(MoaModel, self).__init__()\n",
    "        self.batch_norm1 = nn.BatchNorm1d(num_columns)\n",
    "        self.dropout1 = nn.Dropout(0.2)\n",
    "        self.dense1 = nn.utils.weight_norm(nn.Linear(num_columns, 2048))\n",
    "        \n",
    "        self.batch_norm2 = nn.BatchNorm1d(2048)\n",
    "        self.dropout2 = nn.Dropout(0.6)\n",
    "        self.dense2 = nn.utils.weight_norm(nn.Linear(2048, 1048))\n",
    "        \n",
    "        self.batch_norm3 = nn.BatchNorm1d(1048)\n",
    "        self.dropout3 = nn.Dropout(0.6)\n",
    "        self.dense3 = nn.utils.weight_norm(nn.Linear(1048, last_columns_num))\n",
    "    \n",
    "    def forward(self, x):\n",
    "        x = self.batch_norm1(x)\n",
    "        x = self.dropout1(x)\n",
    "        x = F.relu(self.dense1(x))\n",
    "        \n",
    "        x = self.batch_norm2(x)\n",
    "        x = self.dropout2(x)\n",
    "        x = F.relu(self.dense2(x))\n",
    "        \n",
    "        x = self.batch_norm3(x)\n",
    "        x = self.dropout3(x)\n",
    "        x = self.dense3(x)\n",
    "        \n",
    "        return x\n",
    "    \n",
    "class MoaModel2(nn.Module):\n",
    "    def __init__(self, num_columns, last_columns_num):\n",
    "        super(MoaModel2, self).__init__()\n",
    "        self.batch_norm1 = nn.BatchNorm1d(num_columns)\n",
    "        self.dropout1 = nn.Dropout(0.3)\n",
    "        self.dense1 = nn.utils.weight_norm(nn.Linear(num_columns, 2048))\n",
    "        \n",
    "        self.batch_norm2 = nn.BatchNorm1d(2048)\n",
    "        self.dropout2 = nn.Dropout(0.6)\n",
    "        self.dense2 = nn.utils.weight_norm(nn.Linear(2048, 1048))\n",
    "        \n",
    "        self.batch_norm3 = nn.BatchNorm1d(1048)\n",
    "        self.dropout3 = nn.Dropout(0.6)\n",
    "        self.dense3 = nn.utils.weight_norm(nn.Linear(1048, last_columns_num))\n",
    "    \n",
    "    def forward(self, x):\n",
    "        x = self.batch_norm1(x)\n",
    "        x = self.dropout1(x)\n",
    "        x = F.relu(self.dense1(x))\n",
    "        \n",
    "        x = self.batch_norm2(x)\n",
    "        x = self.dropout2(x)\n",
    "        x = F.relu(self.dense2(x))\n",
    "        \n",
    "        x = self.batch_norm3(x)\n",
    "        x = self.dropout3(x)\n",
    "        x = self.dense3(x)\n",
    "        \n",
    "        return x\n",
    "    \n",
    "def modelling_torch(tr, target, te, sample_seed, init_num, last_num, layer):\n",
    "    seed_everything(seed=sample_seed) \n",
    "    X_train = tr.copy()\n",
    "    y_train = target.copy()\n",
    "    X_test = te.copy()\n",
    "    test_len = X_test.shape[0]\n",
    "\n",
    "    mskf=MultilabelStratifiedKFold(n_splits = n_folds, shuffle=True, random_state=2)\n",
    "    models = []\n",
    "    \n",
    "    X_test = torch.tensor(X_test, dtype=torch.float32)\n",
    "    X_test = torch.utils.data.TensorDataset(X_test) \n",
    "    test_loader = torch.utils.data.DataLoader(X_test, batch_size=batch_size, shuffle=False)\n",
    "    \n",
    "    oof = np.zeros([len(X_train),y_train.shape[1]])\n",
    "    oof_targets = np.zeros([len(X_train),y_train.shape[1]])\n",
    "    pred_value = np.zeros([test_len, y_train.shape[1]])\n",
    "    scores = []\n",
    "    for fold, (train_index, valid_index) in enumerate(mskf.split(X_train, y_train)):\n",
    "        print(\"Fold \"+str(fold+1))\n",
    "        X_train2 = torch.tensor(X_train[train_index,:], dtype=torch.float32)\n",
    "        y_train2 = torch.tensor(y_train[train_index], dtype=torch.float32)\n",
    "\n",
    "        X_valid2 = torch.tensor(X_train[valid_index,:], dtype=torch.float32)\n",
    "        y_valid2 = torch.tensor(y_train[valid_index], dtype=torch.float32)\n",
    "            \n",
    "        if layer == 1:\n",
    "            clf = MoaModel(init_num, last_num)\n",
    "        else:\n",
    "            clf = MoaModel2(init_num, last_num)\n",
    "        loss_fn = torch.nn.BCEWithLogitsLoss() \n",
    "        optimizer = optim.Adam(clf.parameters(), lr = 0.001, weight_decay=1e-5) \n",
    "        scheduler = optim.lr_scheduler.ReduceLROnPlateau(optimizer, mode='min', factor=0.1, patience=3, eps=1e-4, verbose=True)\n",
    "        \n",
    "        train = torch.utils.data.TensorDataset(X_train2, y_train2)\n",
    "        valid = torch.utils.data.TensorDataset(X_valid2, y_valid2)\n",
    "        \n",
    "        clf.to(device)\n",
    "        \n",
    "        train_loader = torch.utils.data.DataLoader(train, batch_size=batch_size, shuffle=True) \n",
    "        valid_loader = torch.utils.data.DataLoader(valid, batch_size=batch_size, shuffle=False)\n",
    "        \n",
    "        best_val_loss = np.inf\n",
    "        stop_counts = 0\n",
    "        for epoch in range(train_epochs):\n",
    "            start_time = time.time()\n",
    "            clf.train()\n",
    "            avg_loss = 0.\n",
    "            for x_batch, y_batch in tqdm(train_loader, disable=True):\n",
    "                x_batch = x_batch.to(device)\n",
    "                y_batch = y_batch.to(device)\n",
    "                y_pred = clf(x_batch) \n",
    "                loss = loss_fn(y_pred, y_batch)\n",
    "                optimizer.zero_grad()\n",
    "                loss.backward()\n",
    "                optimizer.step()\n",
    "                avg_loss += loss.item() / len(train_loader)        \n",
    "            \n",
    "            clf.eval()\n",
    "            avg_val_loss = 0.\n",
    "            for i, (x_batch, y_batch) in enumerate(valid_loader): \n",
    "                x_batch = x_batch.to(device)\n",
    "                y_batch = y_batch.to(device)\n",
    "                y_pred = clf(x_batch).detach()\n",
    "                avg_val_loss += loss_fn(y_pred, y_batch).item() / len(valid_loader)\n",
    "        \n",
    "            elapsed_time = time.time() - start_time \n",
    "            scheduler.step(avg_val_loss)\n",
    "            #print('Epoch-{0} lr: {1}'.format(epoch, optimizer.param_groups[0]['lr']))\n",
    "                    \n",
    "            if avg_val_loss < best_val_loss:\n",
    "                stop_counts = 0\n",
    "                best_val_loss = avg_val_loss\n",
    "                #print('Best model: Epoch {} \\t loss={:.6f} \\t val_loss={:.6f} \\t time={:.2f}s'.format(\n",
    "                #    epoch + 1, avg_loss, avg_val_loss, elapsed_time))\n",
    "                torch.save(clf.state_dict(), 'best-model-parameters.pt')\n",
    "            else:\n",
    "                stop_counts += 1\n",
    "         \n",
    "        if layer == 1:\n",
    "            pred_model = MoaModel(init_num, last_num)\n",
    "        else:\n",
    "            pred_model = MoaModel2(init_num, last_num)\n",
    "        pred_model.load_state_dict(torch.load('best-model-parameters.pt'))\n",
    "        pred_model.eval()\n",
    "        \n",
    "        # validation check ----------------\n",
    "        oof_epoch = np.zeros([X_valid2.size(0), y_train.shape[1]])\n",
    "        target_epoch = np.zeros([X_valid2.size(0), y_train.shape[1]])\n",
    "        for i, (x_batch, y_batch) in enumerate(valid_loader): \n",
    "                y_pred = pred_model(x_batch).sigmoid().detach()\n",
    "                oof_epoch[i * batch_size:(i+1) * batch_size,:] = y_pred.cpu().numpy()\n",
    "                target_epoch[i * batch_size:(i+1) * batch_size,:] = y_batch.cpu().numpy()\n",
    "        print(\"Fold {} log loss: {}\".format(fold+1, mean_log_loss(target_epoch, oof_epoch)))\n",
    "        scores.append(mean_log_loss(target_epoch, oof_epoch))\n",
    "        oof[valid_index,:] = oof_epoch\n",
    "        oof_targets[valid_index,:] = target_epoch\n",
    "        #-----------------------------------\n",
    "        \n",
    "        # test predcition --------------\n",
    "        test_preds = np.zeros([test_len, y_train.shape[1]])\n",
    "        for i, (x_batch,) in enumerate(test_loader): \n",
    "            y_pred = pred_model(x_batch).sigmoid().detach()\n",
    "            test_preds[i * batch_size:(i+1) * batch_size, :] = y_pred.cpu().numpy()\n",
    "        pred_value += test_preds / n_folds\n",
    "        # ------------------------------\n",
    "        \n",
    "    print(\"Seed {}\".format(seed_))\n",
    "    for i, ele in enumerate(scores):\n",
    "        print(\"Fold {} log loss: {}\".format(i+1, scores[i]))\n",
    "    print(\"Std of log loss: {}\".format(np.std(scores)))\n",
    "    print(\"Total log loss: {}\".format(mean_log_loss(oof_targets, oof)))\n",
    "    \n",
    "    return oof, oof_targets, pred_value"
   ]
  },
  {
   "cell_type": "markdown",
   "metadata": {
    "papermill": {
     "duration": 0.015063,
     "end_time": "2020-10-07T09:50:03.343417",
     "exception": false,
     "start_time": "2020-10-07T09:50:03.328354",
     "status": "completed"
    },
    "tags": []
   },
   "source": [
    "# predict targets, non-targets separately"
   ]
  },
  {
   "cell_type": "code",
   "execution_count": 8,
   "metadata": {
    "execution": {
     "iopub.execute_input": "2020-10-07T09:50:03.386991Z",
     "iopub.status.busy": "2020-10-07T09:50:03.385695Z",
     "iopub.status.idle": "2020-10-07T10:05:55.906840Z",
     "shell.execute_reply": "2020-10-07T10:05:55.907462Z"
    },
    "papermill": {
     "duration": 952.549665,
     "end_time": "2020-10-07T10:05:55.907641",
     "exception": false,
     "start_time": "2020-10-07T09:50:03.357976",
     "status": "completed"
    },
    "tags": []
   },
   "outputs": [
    {
     "name": "stdout",
     "output_type": "stream",
     "text": [
      "Fold 1\n",
      "Epoch    35: reducing learning rate of group 0 to 1.0000e-04.\n",
      "Fold 1 log loss: 0.016144690589180097\n",
      "Fold 2\n",
      "Epoch    34: reducing learning rate of group 0 to 1.0000e-04.\n",
      "Fold 2 log loss: 0.016044396281569673\n",
      "Fold 3\n",
      "Epoch    34: reducing learning rate of group 0 to 1.0000e-04.\n",
      "Fold 3 log loss: 0.015932693904937074\n",
      "Fold 4\n",
      "Epoch    34: reducing learning rate of group 0 to 1.0000e-04.\n",
      "Fold 4 log loss: 0.01591978898403236\n",
      "Fold 5\n",
      "Epoch    31: reducing learning rate of group 0 to 1.0000e-04.\n",
      "Fold 5 log loss: 0.016124345038051664\n",
      "Seed 0\n",
      "Fold 1 log loss: 0.016144690589180097\n",
      "Fold 2 log loss: 0.016044396281569673\n",
      "Fold 3 log loss: 0.015932693904937074\n",
      "Fold 4 log loss: 0.01591978898403236\n",
      "Fold 5 log loss: 0.016124345038051664\n",
      "Std of log loss: 9.362313645021518e-05\n",
      "Total log loss: 0.016033178295101806\n",
      "Fold 1\n",
      "Epoch    28: reducing learning rate of group 0 to 1.0000e-04.\n",
      "Fold 1 log loss: 0.016079840868431054\n",
      "Fold 2\n",
      "Epoch    36: reducing learning rate of group 0 to 1.0000e-04.\n",
      "Fold 2 log loss: 0.016064742658142592\n",
      "Fold 3\n",
      "Epoch    33: reducing learning rate of group 0 to 1.0000e-04.\n",
      "Fold 3 log loss: 0.01592049020117655\n",
      "Fold 4\n",
      "Epoch    33: reducing learning rate of group 0 to 1.0000e-04.\n",
      "Fold 4 log loss: 0.01592111042134359\n",
      "Fold 5\n",
      "Epoch    33: reducing learning rate of group 0 to 1.0000e-04.\n",
      "Fold 5 log loss: 0.016063688369179374\n",
      "Seed 1\n",
      "Fold 1 log loss: 0.016079840868431054\n",
      "Fold 2 log loss: 0.016064742658142592\n",
      "Fold 3 log loss: 0.01592049020117655\n",
      "Fold 4 log loss: 0.01592111042134359\n",
      "Fold 5 log loss: 0.016063688369179374\n",
      "Std of log loss: 7.303465552417108e-05\n",
      "Total log loss: 0.01600996956097101\n",
      "Fold 1\n",
      "Epoch    39: reducing learning rate of group 0 to 1.0000e-04.\n",
      "Fold 1 log loss: 0.016280616069086786\n",
      "Fold 2\n",
      "Epoch    33: reducing learning rate of group 0 to 1.0000e-04.\n",
      "Fold 2 log loss: 0.0160819916597495\n",
      "Fold 3\n",
      "Epoch    37: reducing learning rate of group 0 to 1.0000e-04.\n",
      "Fold 3 log loss: 0.01598215567903187\n",
      "Fold 4\n",
      "Epoch    32: reducing learning rate of group 0 to 1.0000e-04.\n",
      "Fold 4 log loss: 0.015969970162948186\n",
      "Fold 5\n",
      "Epoch    31: reducing learning rate of group 0 to 1.0000e-04.\n",
      "Fold 5 log loss: 0.016105637577698048\n",
      "Seed 2\n",
      "Fold 1 log loss: 0.016280616069086786\n",
      "Fold 2 log loss: 0.0160819916597495\n",
      "Fold 3 log loss: 0.01598215567903187\n",
      "Fold 4 log loss: 0.015969970162948186\n",
      "Fold 5 log loss: 0.016105637577698048\n",
      "Std of log loss: 0.0001118079949946509\n",
      "Total log loss: 0.01608407334211503\n",
      "Fold 1\n",
      "Epoch    31: reducing learning rate of group 0 to 1.0000e-04.\n",
      "Fold 1 log loss: 0.01615919115850787\n",
      "Fold 2\n",
      "Epoch    39: reducing learning rate of group 0 to 1.0000e-04.\n",
      "Fold 2 log loss: 0.016131589753943455\n",
      "Fold 3\n",
      "Epoch    36: reducing learning rate of group 0 to 1.0000e-04.\n",
      "Fold 3 log loss: 0.015970096888850625\n",
      "Fold 4\n",
      "Epoch    29: reducing learning rate of group 0 to 1.0000e-04.\n",
      "Fold 4 log loss: 0.01593554139806171\n",
      "Fold 5\n",
      "Fold 5 log loss: 0.01637002395976194\n",
      "Seed 3\n",
      "Fold 1 log loss: 0.01615919115850787\n",
      "Fold 2 log loss: 0.016131589753943455\n",
      "Fold 3 log loss: 0.015970096888850625\n",
      "Fold 4 log loss: 0.01593554139806171\n",
      "Fold 5 log loss: 0.01637002395976194\n",
      "Std of log loss: 0.0001552114403026376\n",
      "Total log loss: 0.01611327610054892\n",
      "Fold 1\n",
      "Epoch    35: reducing learning rate of group 0 to 1.0000e-04.\n",
      "Fold 1 log loss: 0.016174484102574663\n",
      "Fold 2\n",
      "Epoch    31: reducing learning rate of group 0 to 1.0000e-04.\n",
      "Fold 2 log loss: 0.016047175759869827\n",
      "Fold 3\n",
      "Epoch    35: reducing learning rate of group 0 to 1.0000e-04.\n",
      "Fold 3 log loss: 0.015928155998706423\n",
      "Fold 4\n",
      "Epoch    39: reducing learning rate of group 0 to 1.0000e-04.\n",
      "Fold 4 log loss: 0.016093105821003578\n",
      "Fold 5\n",
      "Epoch    33: reducing learning rate of group 0 to 1.0000e-04.\n",
      "Fold 5 log loss: 0.016142314651801725\n",
      "Seed 4\n",
      "Fold 1 log loss: 0.016174484102574663\n",
      "Fold 2 log loss: 0.016047175759869827\n",
      "Fold 3 log loss: 0.015928155998706423\n",
      "Fold 4 log loss: 0.016093105821003578\n",
      "Fold 5 log loss: 0.016142314651801725\n",
      "Std of log loss: 8.610756333173562e-05\n",
      "Total log loss: 0.016077045654075823\n",
      "Total log loss in targets: 0.01591935423898582\n"
     ]
    }
   ],
   "source": [
    "seeds = [0,1,2,3,4]\n",
    "fn_train = f_train.copy().to_numpy()\n",
    "fn_test = f_test.copy().to_numpy()\n",
    "\n",
    "ss = preprocessing.StandardScaler()\n",
    "fn_train= ss.fit_transform(fn_train)\n",
    "fn_test = ss.transform(fn_test)\n",
    "\n",
    "fn_targets = targets.drop(\"sig_id\", axis=1).copy().to_numpy()\n",
    "fn_nontargets = non_targets.drop(\"sig_id\", axis=1).copy().to_numpy()\n",
    "\n",
    "target_oof = np.zeros([len(fn_train),fn_targets.shape[1]])\n",
    "target_pred = np.zeros([len(fn_test),fn_targets.shape[1]])\n",
    "\n",
    "nontarget_oof = np.zeros([len(fn_train),fn_nontargets.shape[1]])\n",
    "nontarget_pred = np.zeros([len(fn_test),fn_nontargets.shape[1]])\n",
    "\n",
    "for seed_ in seeds:\n",
    "    oof, oof_targets, pytorch_pred = modelling_torch(fn_train, fn_targets, fn_test, seed_, fn_train.shape[1], fn_targets.shape[1],1)\n",
    "    target_oof += oof / len(seeds)\n",
    "    target_pred += pytorch_pred / len(seeds)\n",
    "print(\"Total log loss in targets: {}\".format(mean_log_loss(oof_targets, target_oof)))\n",
    "\n",
    "#for seed_ in seeds:\n",
    "#    oof, oof_targets, pytorch_pred = modelling_torch(fn_train, fn_nontargets, fn_test, seed_, fn_train.shape[1], fn_nontargets.shape[1],1)\n",
    "#    nontarget_oof += oof / len(seeds)\n",
    "#    nontarget_pred += pytorch_pred / len(seeds)\n",
    "#print(\"Total log loss in Non targets: {}\".format(mean_log_loss(oof_targets, nontarget_oof)))\n",
    "\n",
    "#n_train[\"target_sum\"] = target_oof.sum(axis=1)\n",
    "#n_train[\"nontarget_sum\"] = nontarget_oof.sum(axis=1)\n",
    "#n_test[\"target_sum\"] = target_pred.sum(axis=1)\n",
    "#n_test.loc[noncons_test_index, \"target_sum\"] = 0\n",
    "#n_test[\"nontarget_sum\"] = nontarget_pred.sum(axis=1)\n",
    "#n_test.loc[noncons_test_index, \"nontarget_sum\"] = 0"
   ]
  },
  {
   "cell_type": "code",
   "execution_count": 9,
   "metadata": {
    "execution": {
     "iopub.execute_input": "2020-10-07T10:05:56.042193Z",
     "iopub.status.busy": "2020-10-07T10:05:55.998652Z",
     "iopub.status.idle": "2020-10-07T10:05:58.738704Z",
     "shell.execute_reply": "2020-10-07T10:05:58.737733Z"
    },
    "papermill": {
     "duration": 2.788607,
     "end_time": "2020-10-07T10:05:58.738842",
     "exception": false,
     "start_time": "2020-10-07T10:05:55.950235",
     "status": "completed"
    },
    "tags": []
   },
   "outputs": [],
   "source": [
    "sub[target_feats] = target_pred\n",
    "sub.loc[noncons_test_index,target_feats] = 0\n",
    "sub.to_csv('submission.csv', index=False)"
   ]
  },
  {
   "cell_type": "markdown",
   "metadata": {
    "papermill": {
     "duration": 0.046037,
     "end_time": "2020-10-07T10:05:58.831800",
     "exception": false,
     "start_time": "2020-10-07T10:05:58.785763",
     "status": "completed"
    },
    "tags": []
   },
   "source": [
    "# 2nd layer"
   ]
  },
  {
   "cell_type": "code",
   "execution_count": 10,
   "metadata": {
    "execution": {
     "iopub.execute_input": "2020-10-07T10:05:58.927834Z",
     "iopub.status.busy": "2020-10-07T10:05:58.927134Z",
     "iopub.status.idle": "2020-10-07T10:05:58.931241Z",
     "shell.execute_reply": "2020-10-07T10:05:58.931924Z"
    },
    "papermill": {
     "duration": 0.055837,
     "end_time": "2020-10-07T10:05:58.932061",
     "exception": false,
     "start_time": "2020-10-07T10:05:58.876224",
     "status": "completed"
    },
    "tags": []
   },
   "outputs": [],
   "source": [
    "#seeds = [0,1,2,3,4]  \n",
    "#nn_train = n_train.copy().to_numpy()\n",
    "#nn_test = n_test.copy().to_numpy()\n",
    "#nn_targets = targets.drop(\"sig_id\", axis=1).copy().to_numpy()\n",
    "\n",
    "#ss2 = preprocessing.StandardScaler()\n",
    "#nn_train= ss2.fit_transform(nn_train)\n",
    "#nn_test = ss2.transform(nn_test)\n",
    "\n",
    "#oof_final = np.zeros([len(n_train),nn_targets.shape[1]])\n",
    "#pred_final = np.zeros([len(n_test),nn_targets.shape[1]])\n",
    "\n",
    "#for seed_ in seeds:\n",
    "#    oof, oof_targets, pytorch_pred = modelling_torch(nn_train, nn_targets, nn_test, seed_, nn_train.shape[1], nn_targets.shape[1],2)\n",
    "#    oof_final += oof / len(seeds)\n",
    "#    pred_final += pytorch_pred / len(seeds)\n",
    "#print(\"Total log loss: {}\".format(mean_log_loss(oof_targets, oof_final)))"
   ]
  },
  {
   "cell_type": "code",
   "execution_count": 11,
   "metadata": {
    "execution": {
     "iopub.execute_input": "2020-10-07T10:05:59.032999Z",
     "iopub.status.busy": "2020-10-07T10:05:59.030896Z",
     "iopub.status.idle": "2020-10-07T10:05:59.033803Z",
     "shell.execute_reply": "2020-10-07T10:05:59.034385Z"
    },
    "papermill": {
     "duration": 0.056894,
     "end_time": "2020-10-07T10:05:59.034522",
     "exception": false,
     "start_time": "2020-10-07T10:05:58.977628",
     "status": "completed"
    },
    "tags": []
   },
   "outputs": [],
   "source": [
    "#sub[target_feats] = pred_final\n",
    "#sub.loc[noncons_test_index,target_feats] = 0\n",
    "#sub.to_csv('submission.csv', index=False)"
   ]
  },
  {
   "cell_type": "code",
   "execution_count": null,
   "metadata": {
    "papermill": {
     "duration": 0.046736,
     "end_time": "2020-10-07T10:05:59.128625",
     "exception": false,
     "start_time": "2020-10-07T10:05:59.081889",
     "status": "completed"
    },
    "tags": []
   },
   "outputs": [],
   "source": []
  }
 ],
 "metadata": {
  "kernelspec": {
   "display_name": "Python 3",
   "language": "python",
   "name": "python3"
  },
  "language_info": {
   "codemirror_mode": {
    "name": "ipython",
    "version": 3
   },
   "file_extension": ".py",
   "mimetype": "text/x-python",
   "name": "python",
   "nbconvert_exporter": "python",
   "pygments_lexer": "ipython3",
   "version": "3.7.6"
  },
  "papermill": {
   "duration": 985.166572,
   "end_time": "2020-10-07T10:06:00.205085",
   "environment_variables": {},
   "exception": null,
   "input_path": "__notebook__.ipynb",
   "output_path": "__notebook__.ipynb",
   "parameters": {},
   "start_time": "2020-10-07T09:49:35.038513",
   "version": "2.1.0"
  }
 },
 "nbformat": 4,
 "nbformat_minor": 4
}
