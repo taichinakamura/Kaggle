{
 "cells": [
  {
   "cell_type": "markdown",
   "metadata": {
    "papermill": {
     "duration": 0.019948,
     "end_time": "2020-11-08T09:35:03.212637",
     "exception": false,
     "start_time": "2020-11-08T09:35:03.192689",
     "status": "completed"
    },
    "tags": []
   },
   "source": [
    "- variance threshold 0.71"
   ]
  },
  {
   "cell_type": "code",
   "execution_count": 1,
   "metadata": {
    "_cell_guid": "b1076dfc-b9ad-4769-8c92-a6c4dae69d19",
    "_uuid": "8f2839f25d086af736a60e9eeb907d3b93b6e0e5",
    "execution": {
     "iopub.execute_input": "2020-11-08T09:35:03.262276Z",
     "iopub.status.busy": "2020-11-08T09:35:03.261474Z",
     "iopub.status.idle": "2020-11-08T09:35:13.496292Z",
     "shell.execute_reply": "2020-11-08T09:35:13.494656Z"
    },
    "papermill": {
     "duration": 10.265057,
     "end_time": "2020-11-08T09:35:13.496436",
     "exception": false,
     "start_time": "2020-11-08T09:35:03.231379",
     "status": "completed"
    },
    "tags": []
   },
   "outputs": [],
   "source": [
    "import os\n",
    "import sys\n",
    "import random\n",
    "import warnings\n",
    "import numpy as np\n",
    "import pandas as pd \n",
    "from umap import UMAP\n",
    "from scipy import stats\n",
    "from sklearn import preprocessing\n",
    "from sklearn.metrics import log_loss,roc_auc_score\n",
    "from sklearn.decomposition import PCA\n",
    "from tqdm import tqdm_notebook as tqdm\n",
    "from sklearn.cluster import KMeans\n",
    "from sklearn.multioutput import MultiOutputClassifier\n",
    "from sklearn.feature_selection import VarianceThreshold\n",
    "\n",
    "sys.path.append('../input/multilabelstraifier/')\n",
    "from ml_stratifiers import MultilabelStratifiedKFold\n",
    "warnings.filterwarnings('ignore')\n",
    "\n",
    "import time\n",
    "import torch\n",
    "import torch.nn as nn\n",
    "import torch.optim as optim\n",
    "import torch.nn.functional as F\n",
    "import tensorflow as tf\n",
    "from torch.nn.modules.loss import _WeightedLoss"
   ]
  },
  {
   "cell_type": "code",
   "execution_count": 2,
   "metadata": {
    "execution": {
     "iopub.execute_input": "2020-11-08T09:35:13.546047Z",
     "iopub.status.busy": "2020-11-08T09:35:13.545233Z",
     "iopub.status.idle": "2020-11-08T09:35:20.191743Z",
     "shell.execute_reply": "2020-11-08T09:35:20.192998Z"
    },
    "papermill": {
     "duration": 6.676072,
     "end_time": "2020-11-08T09:35:20.193212",
     "exception": false,
     "start_time": "2020-11-08T09:35:13.517140",
     "status": "completed"
    },
    "tags": []
   },
   "outputs": [],
   "source": [
    "DATA_DIR = '/kaggle/input/lish-moa/'\n",
    "train = pd.read_csv(DATA_DIR + 'train_features.csv')\n",
    "targets = pd.read_csv(DATA_DIR + 'train_targets_scored.csv')\n",
    "non_targets = pd.read_csv(DATA_DIR + 'train_targets_nonscored.csv')\n",
    "test = pd.read_csv(DATA_DIR + 'test_features.csv')\n",
    "sub = pd.read_csv(DATA_DIR + 'sample_submission.csv')\n",
    "drug = pd.read_csv(DATA_DIR + 'train_drug.csv')"
   ]
  },
  {
   "cell_type": "code",
   "execution_count": 3,
   "metadata": {
    "execution": {
     "iopub.execute_input": "2020-11-08T09:35:20.266637Z",
     "iopub.status.busy": "2020-11-08T09:35:20.264977Z",
     "iopub.status.idle": "2020-11-08T09:35:20.270528Z",
     "shell.execute_reply": "2020-11-08T09:35:20.271286Z"
    },
    "papermill": {
     "duration": 0.049127,
     "end_time": "2020-11-08T09:35:20.271509",
     "exception": false,
     "start_time": "2020-11-08T09:35:20.222382",
     "status": "completed"
    },
    "tags": []
   },
   "outputs": [],
   "source": [
    "target_feats = [ i for i in targets.columns if i != \"sig_id\"]\n",
    "g_feats = [i for i in train.columns if \"g-\" in i]\n",
    "c_feats = [i for i in train.columns if \"c-\" in i]"
   ]
  },
  {
   "cell_type": "code",
   "execution_count": 4,
   "metadata": {
    "execution": {
     "iopub.execute_input": "2020-11-08T09:35:20.344650Z",
     "iopub.status.busy": "2020-11-08T09:35:20.343650Z",
     "iopub.status.idle": "2020-11-08T09:35:20.483322Z",
     "shell.execute_reply": "2020-11-08T09:35:20.484538Z"
    },
    "papermill": {
     "duration": 0.182851,
     "end_time": "2020-11-08T09:35:20.484720",
     "exception": false,
     "start_time": "2020-11-08T09:35:20.301869",
     "status": "completed"
    },
    "tags": []
   },
   "outputs": [],
   "source": [
    "noncons_train_index = train[train.cp_type==\"ctl_vehicle\"].index\n",
    "cons_train_index = train[train.cp_type!=\"ctl_vehicle\"].index\n",
    "noncons_test_index = test[test.cp_type==\"ctl_vehicle\"].index\n",
    "cons_test_index = test[test.cp_type!=\"ctl_vehicle\"].index"
   ]
  },
  {
   "cell_type": "markdown",
   "metadata": {
    "papermill": {
     "duration": 0.030847,
     "end_time": "2020-11-08T09:35:20.549263",
     "exception": false,
     "start_time": "2020-11-08T09:35:20.518416",
     "status": "completed"
    },
    "tags": []
   },
   "source": [
    "# preprocess"
   ]
  },
  {
   "cell_type": "code",
   "execution_count": 5,
   "metadata": {
    "execution": {
     "iopub.execute_input": "2020-11-08T09:35:20.617044Z",
     "iopub.status.busy": "2020-11-08T09:35:20.616249Z",
     "iopub.status.idle": "2020-11-08T09:35:21.020778Z",
     "shell.execute_reply": "2020-11-08T09:35:21.021481Z"
    },
    "papermill": {
     "duration": 0.445387,
     "end_time": "2020-11-08T09:35:21.021677",
     "exception": false,
     "start_time": "2020-11-08T09:35:20.576290",
     "status": "completed"
    },
    "tags": []
   },
   "outputs": [],
   "source": [
    "train = train[train.index.isin(cons_train_index)].copy().reset_index(drop=True)\n",
    "test = test[test.index.isin(cons_test_index)].copy().reset_index(drop=True)\n",
    "targets = targets[targets.index.isin(cons_train_index)].copy().reset_index(drop=True)\n",
    "non_targets = non_targets[non_targets.index.isin(cons_train_index)].copy().reset_index(drop=True)"
   ]
  },
  {
   "cell_type": "code",
   "execution_count": 6,
   "metadata": {
    "execution": {
     "iopub.execute_input": "2020-11-08T09:35:21.091862Z",
     "iopub.status.busy": "2020-11-08T09:35:21.090903Z",
     "iopub.status.idle": "2020-11-08T09:35:22.007790Z",
     "shell.execute_reply": "2020-11-08T09:35:22.008891Z"
    },
    "papermill": {
     "duration": 0.960978,
     "end_time": "2020-11-08T09:35:22.009118",
     "exception": false,
     "start_time": "2020-11-08T09:35:21.048140",
     "status": "completed"
    },
    "tags": []
   },
   "outputs": [
    {
     "data": {
      "text/plain": [
       "array([[1, 4, 5, ..., 4, 4, 5]], dtype=int8)"
      ]
     },
     "execution_count": 6,
     "metadata": {},
     "output_type": "execute_result"
    }
   ],
   "source": [
    "# https://www.kaggle.com/c/lish-moa/discussion/195195\n",
    "NB_SPLITS = 7\n",
    "seed = 34\n",
    "\n",
    "folds = []\n",
    "    \n",
    "# LOAD FILES\n",
    "train_score = targets.merge(drug, on='sig_id', how='left') \n",
    "\n",
    "# LOCATE DRUGS\n",
    "vc = train_score.drug_id.value_counts()\n",
    "vc1 = vc.loc[vc <= 19].index.sort_values()\n",
    "vc2 = vc.loc[vc > 19].index.sort_values()\n",
    "    \n",
    "# STRATIFY DRUGS 18X OR LESS\n",
    "dct1 = {}; dct2 = {}\n",
    "skf = MultilabelStratifiedKFold(n_splits = NB_SPLITS, shuffle = True, random_state = seed)\n",
    "tmp = train_score.groupby('drug_id')[target_feats].mean().loc[vc1]\n",
    "for fold,(idxT,idxV) in enumerate(skf.split(tmp,tmp[target_feats])):\n",
    "    dd = {k:fold for k in tmp.index[idxV].values}\n",
    "    dct1.update(dd)\n",
    "\n",
    "# STRATIFY DRUGS MORE THAN 18X\n",
    "skf = MultilabelStratifiedKFold(n_splits = NB_SPLITS, shuffle = True, random_state = seed)\n",
    "tmp = train_score.loc[train_score.drug_id.isin(vc2)].reset_index(drop = True)\n",
    "for fold,(idxT,idxV) in enumerate(skf.split(tmp,tmp[target_feats])):\n",
    "    dd = {k:fold for k in tmp.sig_id[idxV].values}\n",
    "    dct2.update(dd)\n",
    "\n",
    "# ASSIGN FOLDS\n",
    "train_score['fold'] = train_score.drug_id.map(dct1)\n",
    "train_score.loc[train_score.fold.isna(),'fold'] = train_score.loc[train_score.fold.isna(),'sig_id'].map(dct2)\n",
    "train_score.fold = train_score.fold.astype('int8')\n",
    "folds.append(train_score.fold.values)\n",
    "    \n",
    "np.array(folds)"
   ]
  },
  {
   "cell_type": "markdown",
   "metadata": {
    "papermill": {
     "duration": 0.030316,
     "end_time": "2020-11-08T09:35:22.067855",
     "exception": false,
     "start_time": "2020-11-08T09:35:22.037539",
     "status": "completed"
    },
    "tags": []
   },
   "source": [
    "# Feature engineering "
   ]
  },
  {
   "cell_type": "code",
   "execution_count": 7,
   "metadata": {
    "execution": {
     "iopub.execute_input": "2020-11-08T09:35:22.139494Z",
     "iopub.status.busy": "2020-11-08T09:35:22.138019Z",
     "iopub.status.idle": "2020-11-08T09:35:22.597560Z",
     "shell.execute_reply": "2020-11-08T09:35:22.598689Z"
    },
    "papermill": {
     "duration": 0.500737,
     "end_time": "2020-11-08T09:35:22.598872",
     "exception": false,
     "start_time": "2020-11-08T09:35:22.098135",
     "status": "completed"
    },
    "tags": []
   },
   "outputs": [
    {
     "name": "stdout",
     "output_type": "stream",
     "text": [
      "37\n"
     ]
    }
   ],
   "source": [
    "X = train.iloc[:,4:].copy().values\n",
    "select = VarianceThreshold(threshold=0.71)\n",
    "X_new = select.fit_transform(X)\n",
    "drop_feats = list(np.array(train.iloc[:,4:].columns)[select.get_support()==False])\n",
    "print(len(drop_feats))"
   ]
  },
  {
   "cell_type": "code",
   "execution_count": 8,
   "metadata": {
    "execution": {
     "iopub.execute_input": "2020-11-08T09:35:22.667304Z",
     "iopub.status.busy": "2020-11-08T09:35:22.666351Z",
     "iopub.status.idle": "2020-11-08T09:35:22.745584Z",
     "shell.execute_reply": "2020-11-08T09:35:22.746537Z"
    },
    "papermill": {
     "duration": 0.120014,
     "end_time": "2020-11-08T09:35:22.746792",
     "exception": false,
     "start_time": "2020-11-08T09:35:22.626778",
     "status": "completed"
    },
    "tags": []
   },
   "outputs": [],
   "source": [
    "train.drop(drop_feats, axis=1, inplace=True)\n",
    "test.drop(drop_feats, axis=1, inplace=True)\n",
    "\n",
    "g_feats = [i for i in train.columns if \"g-\" in i]\n",
    "c_feats = [i for i in train.columns if \"c-\" in i]"
   ]
  },
  {
   "cell_type": "code",
   "execution_count": 9,
   "metadata": {
    "execution": {
     "iopub.execute_input": "2020-11-08T09:35:22.825302Z",
     "iopub.status.busy": "2020-11-08T09:35:22.823930Z",
     "iopub.status.idle": "2020-11-08T09:35:22.827229Z",
     "shell.execute_reply": "2020-11-08T09:35:22.826326Z"
    },
    "papermill": {
     "duration": 0.04578,
     "end_time": "2020-11-08T09:35:22.827420",
     "exception": false,
     "start_time": "2020-11-08T09:35:22.781640",
     "status": "completed"
    },
    "tags": []
   },
   "outputs": [],
   "source": [
    "#different_cols = []\n",
    "#for col in train.columns:\n",
    "#    if col in ['sig_id', 'cp_type', 'cp_time', 'cp_dose']:\n",
    "#        continue\n",
    "#    if stats.ttest_ind(train[col], test[col]).pvalue < 0.01:\n",
    "        #print(col, stats.ttest_ind(train[col], test[col]).pvalue)\n",
    "#        different_cols.append(col)\n",
    "#print(len(different_cols))"
   ]
  },
  {
   "cell_type": "code",
   "execution_count": 10,
   "metadata": {
    "execution": {
     "iopub.execute_input": "2020-11-08T09:35:22.903528Z",
     "iopub.status.busy": "2020-11-08T09:35:22.902472Z",
     "iopub.status.idle": "2020-11-08T09:35:34.095650Z",
     "shell.execute_reply": "2020-11-08T09:35:34.094429Z"
    },
    "papermill": {
     "duration": 11.237905,
     "end_time": "2020-11-08T09:35:34.095789",
     "exception": false,
     "start_time": "2020-11-08T09:35:22.857884",
     "status": "completed"
    },
    "tags": []
   },
   "outputs": [],
   "source": [
    "# rank gauss\n",
    "for i in c_feats + g_feats:\n",
    "    ss = preprocessing.QuantileTransformer(n_quantiles=1000, random_state=0, output_distribution=\"normal\")\n",
    "    ss.fit(train[i].values.reshape(-1,1))\n",
    "    train[i] = ss.transform(train[i].values.reshape(-1,1))\n",
    "    test[i] = ss.transform(test[i].values.reshape(-1,1))"
   ]
  },
  {
   "cell_type": "code",
   "execution_count": 11,
   "metadata": {
    "execution": {
     "iopub.execute_input": "2020-11-08T09:35:34.164334Z",
     "iopub.status.busy": "2020-11-08T09:35:34.162232Z",
     "iopub.status.idle": "2020-11-08T09:35:36.361479Z",
     "shell.execute_reply": "2020-11-08T09:35:36.360745Z"
    },
    "papermill": {
     "duration": 2.243332,
     "end_time": "2020-11-08T09:35:36.361611",
     "exception": false,
     "start_time": "2020-11-08T09:35:34.118279",
     "status": "completed"
    },
    "tags": []
   },
   "outputs": [],
   "source": [
    "c_num = 10\n",
    "pca_c_cols = [\"pca-c\"+str(i+1) for i in range(c_num)]\n",
    "pca = PCA(n_components=c_num,random_state=42)\n",
    "c_train = pca.fit_transform(train[c_feats])\n",
    "c_test = pca.transform(test[c_feats])\n",
    "c_train = pd.DataFrame(c_train, columns=pca_c_cols)\n",
    "c_test = pd.DataFrame(c_test, columns=pca_c_cols)\n",
    "\n",
    "g_num = 60\n",
    "pca_g_cols = [\"pca-g\"+str(i+1) for i in range(g_num)]\n",
    "pca = PCA(n_components=g_num, random_state=42)\n",
    "g_train = pca.fit_transform(train[g_feats])\n",
    "g_test = pca.transform(test[g_feats])\n",
    "g_train = pd.DataFrame(g_train, columns=pca_g_cols)\n",
    "g_test = pd.DataFrame(g_test, columns=pca_g_cols)\n",
    "\n",
    "train = pd.concat([train, c_train],axis=1)\n",
    "test = pd.concat([test, c_test],axis=1)\n",
    "train = pd.concat([train, g_train],axis=1)\n",
    "test = pd.concat([test, g_test],axis=1)"
   ]
  },
  {
   "cell_type": "code",
   "execution_count": 12,
   "metadata": {
    "execution": {
     "iopub.execute_input": "2020-11-08T09:35:36.411223Z",
     "iopub.status.busy": "2020-11-08T09:35:36.409271Z",
     "iopub.status.idle": "2020-11-08T09:35:36.411983Z",
     "shell.execute_reply": "2020-11-08T09:35:36.412515Z"
    },
    "papermill": {
     "duration": 0.029285,
     "end_time": "2020-11-08T09:35:36.412641",
     "exception": false,
     "start_time": "2020-11-08T09:35:36.383356",
     "status": "completed"
    },
    "tags": []
   },
   "outputs": [],
   "source": [
    "#uc_num = 1\n",
    "#um = UMAP(n_neighbors=20, n_components=uc_num, random_state=42)\n",
    "#um_c_cols = [\"um-c\"+str(i+1) for i in range(uc_num)]\n",
    "#uc_train = um.fit_transform(train[c_feats])\n",
    "#uc_test = um.transform(test[c_feats])\n",
    "#uc_train = pd.DataFrame(uc_train, columns=um_c_cols)\n",
    "#uc_test = pd.DataFrame(uc_test, columns=um_c_cols)\n",
    "\n",
    "#ug_num = 5\n",
    "#um = UMAP(n_neighbors=20, n_components=ug_num, random_state=42)\n",
    "#um_g_cols = [\"um-g\"+str(i+1) for i in range(ug_num)]\n",
    "#ug_train = um.fit_transform(train[g_feats])\n",
    "#ug_test = um.transform(test[g_feats])\n",
    "#ug_train = pd.DataFrame(ug_train, columns=um_g_cols)\n",
    "#ug_test = pd.DataFrame(ug_test, columns=um_g_cols)\n",
    "\n",
    "#train = pd.concat([train, uc_train],axis=1)\n",
    "#test = pd.concat([test, uc_test],axis=1)\n",
    "#train = pd.concat([train, ug_train],axis=1)\n",
    "#test = pd.concat([test, ug_test],axis=1)"
   ]
  },
  {
   "cell_type": "code",
   "execution_count": 13,
   "metadata": {
    "execution": {
     "iopub.execute_input": "2020-11-08T09:35:36.465146Z",
     "iopub.status.busy": "2020-11-08T09:35:36.463901Z",
     "iopub.status.idle": "2020-11-08T09:35:38.597018Z",
     "shell.execute_reply": "2020-11-08T09:35:38.597576Z"
    },
    "papermill": {
     "duration": 2.163686,
     "end_time": "2020-11-08T09:35:38.597756",
     "exception": false,
     "start_time": "2020-11-08T09:35:36.434070",
     "status": "completed"
    },
    "tags": []
   },
   "outputs": [
    {
     "name": "stdout",
     "output_type": "stream",
     "text": [
      "(21948, 914) (3624, 914)\n"
     ]
    }
   ],
   "source": [
    "def fe(df):\n",
    "    tmp = df.copy()\n",
    "    tmp['g_kurt'] = tmp[g_feats].kurtosis(axis = 1)\n",
    "    tmp['g_skew'] = tmp[g_feats].skew(axis = 1)\n",
    "    tmp['c_kurt'] = tmp[c_feats].kurtosis(axis = 1)\n",
    "    tmp['c_skew'] = tmp[c_feats].skew(axis = 1)\n",
    "    tmp = pd.get_dummies(tmp, columns=['cp_time','cp_dose'])\n",
    "    tmp.drop([\"cp_type\", \"sig_id\"], axis=1, inplace=True) \n",
    "    return tmp\n",
    "\n",
    "train = fe(train)\n",
    "test = fe(test)\n",
    "\n",
    "print(train.shape, test.shape)"
   ]
  },
  {
   "cell_type": "code",
   "execution_count": 14,
   "metadata": {
    "execution": {
     "iopub.execute_input": "2020-11-08T09:35:38.653653Z",
     "iopub.status.busy": "2020-11-08T09:35:38.651627Z",
     "iopub.status.idle": "2020-11-08T09:35:38.654453Z",
     "shell.execute_reply": "2020-11-08T09:35:38.654999Z"
    },
    "papermill": {
     "duration": 0.032299,
     "end_time": "2020-11-08T09:35:38.655134",
     "exception": false,
     "start_time": "2020-11-08T09:35:38.622835",
     "status": "completed"
    },
    "tags": []
   },
   "outputs": [],
   "source": [
    "train[\"fold\"] = np.array(folds).reshape(-1,1)"
   ]
  },
  {
   "cell_type": "code",
   "execution_count": 15,
   "metadata": {
    "execution": {
     "iopub.execute_input": "2020-11-08T09:35:38.709244Z",
     "iopub.status.busy": "2020-11-08T09:35:38.707817Z",
     "iopub.status.idle": "2020-11-08T09:35:38.874924Z",
     "shell.execute_reply": "2020-11-08T09:35:38.874340Z"
    },
    "papermill": {
     "duration": 0.196806,
     "end_time": "2020-11-08T09:35:38.875049",
     "exception": false,
     "start_time": "2020-11-08T09:35:38.678243",
     "status": "completed"
    },
    "tags": []
   },
   "outputs": [],
   "source": [
    "fn_train = train.copy().to_numpy()\n",
    "fn_test = test.copy().to_numpy()\n",
    "\n",
    "fn_targets = targets.drop(\"sig_id\", axis=1).copy().to_numpy()"
   ]
  },
  {
   "cell_type": "markdown",
   "metadata": {
    "papermill": {
     "duration": 0.022571,
     "end_time": "2020-11-08T09:35:38.919937",
     "exception": false,
     "start_time": "2020-11-08T09:35:38.897366",
     "status": "completed"
    },
    "tags": []
   },
   "source": [
    "# modelling"
   ]
  },
  {
   "cell_type": "code",
   "execution_count": 16,
   "metadata": {
    "execution": {
     "iopub.execute_input": "2020-11-08T09:35:38.979451Z",
     "iopub.status.busy": "2020-11-08T09:35:38.978428Z",
     "iopub.status.idle": "2020-11-08T09:35:38.981633Z",
     "shell.execute_reply": "2020-11-08T09:35:38.981096Z"
    },
    "papermill": {
     "duration": 0.037963,
     "end_time": "2020-11-08T09:35:38.981761",
     "exception": false,
     "start_time": "2020-11-08T09:35:38.943798",
     "status": "completed"
    },
    "tags": []
   },
   "outputs": [],
   "source": [
    "class SmoothCrossEntropyLoss(_WeightedLoss):\n",
    "    def __init__(self, weight=None, reduction='mean', smoothing=0.0):\n",
    "        super().__init__(weight=weight, reduction=reduction)\n",
    "        self.smoothing = smoothing\n",
    "        self.weight = weight\n",
    "        self.reduction = reduction\n",
    "\n",
    "    @staticmethod\n",
    "    def _smooth(targets, n_classes, smoothing=0.0):\n",
    "        assert 0 <= smoothing <= 1\n",
    "        with torch.no_grad():\n",
    "            targets = targets * (1 - smoothing) + torch.ones_like(targets).to(device) * smoothing / n_classes\n",
    "        return targets\n",
    "\n",
    "    def forward(self, inputs, targets):\n",
    "        targets = SmoothCrossEntropyLoss()._smooth(targets, inputs.shape[1], self.smoothing)\n",
    "\n",
    "        if self.weight is not None:\n",
    "            inputs = inputs * self.weight.unsqueeze(0)\n",
    "\n",
    "        loss = F.binary_cross_entropy_with_logits(inputs, targets)\n",
    "\n",
    "        return loss"
   ]
  },
  {
   "cell_type": "code",
   "execution_count": 17,
   "metadata": {
    "execution": {
     "iopub.execute_input": "2020-11-08T09:35:39.410414Z",
     "iopub.status.busy": "2020-11-08T09:35:39.041913Z",
     "iopub.status.idle": "2020-11-08T09:35:39.416545Z",
     "shell.execute_reply": "2020-11-08T09:35:39.417371Z"
    },
    "papermill": {
     "duration": 0.412598,
     "end_time": "2020-11-08T09:35:39.417516",
     "exception": false,
     "start_time": "2020-11-08T09:35:39.004918",
     "status": "completed"
    },
    "tags": []
   },
   "outputs": [
    {
     "name": "stdout",
     "output_type": "stream",
     "text": [
      "cuda\n"
     ]
    }
   ],
   "source": [
    "device = \"cuda\" if torch.cuda.is_available() else \"cpu\"\n",
    "\n",
    "print(device)\n",
    "def seed_everything(seed=42): \n",
    "    random.seed(seed)\n",
    "    os.environ['PYTHONHASHSEED'] = str(seed)\n",
    "    tf.random.set_seed(seed)\n",
    "    np.random.seed(seed)\n",
    "    torch.manual_seed(seed)\n",
    "    torch.cuda.manual_seed(seed)\n",
    "    torch.backends.cudnn.deterministic = True\n",
    "\n",
    "class MoaModel(nn.Module):\n",
    "    def __init__(self, num_columns, last_num):\n",
    "        super(MoaModel, self).__init__()\n",
    "        self.batch_norm1 = nn.BatchNorm1d(num_columns)\n",
    "        self.dropout1 = nn.Dropout(0.1)\n",
    "        self.dense1 = nn.utils.weight_norm(nn.Linear(num_columns, 1024))\n",
    "        self.relu1 = nn.LeakyReLU()\n",
    "        \n",
    "        self.batch_norm2 = nn.BatchNorm1d(1024)\n",
    "        self.dropout2 = nn.Dropout(0.1)\n",
    "        self.dense2 = nn.utils.weight_norm(nn.Linear(1024, 1024))\n",
    "        self.relu2 = nn.LeakyReLU()\n",
    "        \n",
    "        self.batch_norm3 = nn.BatchNorm1d(1024)\n",
    "        self.dropout3 = nn.Dropout(0.1)\n",
    "        self.dense3 = nn.utils.weight_norm(nn.Linear(1024, last_num))\n",
    "    \n",
    "    def forward(self, x):\n",
    "        x = self.batch_norm1(x)\n",
    "        x = self.dropout1(x)\n",
    "        x = self.relu1(self.dense1(x))\n",
    "        \n",
    "        x = self.batch_norm2(x)\n",
    "        x = self.dropout2(x)\n",
    "        x = self.relu2(self.dense2(x))\n",
    "        \n",
    "        x = self.batch_norm3(x)\n",
    "        x = self.dropout3(x)\n",
    "        x = self.dense3(x)\n",
    "        \n",
    "        return x"
   ]
  },
  {
   "cell_type": "markdown",
   "metadata": {
    "papermill": {
     "duration": 0.024076,
     "end_time": "2020-11-08T09:35:39.465100",
     "exception": false,
     "start_time": "2020-11-08T09:35:39.441024",
     "status": "completed"
    },
    "tags": []
   },
   "source": [
    "# modelling"
   ]
  },
  {
   "cell_type": "code",
   "execution_count": 18,
   "metadata": {
    "execution": {
     "iopub.execute_input": "2020-11-08T09:35:39.557499Z",
     "iopub.status.busy": "2020-11-08T09:35:39.541804Z",
     "iopub.status.idle": "2020-11-08T09:35:39.568782Z",
     "shell.execute_reply": "2020-11-08T09:35:39.569260Z"
    },
    "papermill": {
     "duration": 0.08099,
     "end_time": "2020-11-08T09:35:39.569392",
     "exception": false,
     "start_time": "2020-11-08T09:35:39.488402",
     "status": "completed"
    },
    "tags": []
   },
   "outputs": [],
   "source": [
    "batch_size = 128\n",
    "n_folds=7\n",
    "EARLY_STOPPING_STEPS = 10\n",
    "smoothing = 0.001\n",
    "p_min = smoothing\n",
    "p_max = 1 - smoothing\n",
    "\n",
    "def mean_log_loss(y_true, y_pred):\n",
    "    metrics = []\n",
    "    for i, target in enumerate(target_feats):\n",
    "        metrics.append(log_loss(y_true[:, i], y_pred[:, i].astype(float), labels=[0,1]))\n",
    "    return np.mean(metrics)\n",
    "\n",
    "def modelling_torch(tr, target, te, sample_seed, init_num, last_num, train_epochs):\n",
    "    seed_everything(seed=sample_seed) \n",
    "    X_train = tr.copy()\n",
    "    y_train = target.copy()\n",
    "    X_test = te.copy()\n",
    "    test_len = X_test.shape[0]\n",
    "    \n",
    "    mskf=MultilabelStratifiedKFold(n_splits = n_folds, shuffle=True, random_state=224)\n",
    "    metric = lambda inputs, targets : F.binary_cross_entropy((torch.clamp(torch.sigmoid(inputs), p_min, p_max)), targets)\n",
    "\n",
    "    models = []\n",
    "    \n",
    "    X_test2 = torch.tensor(X_test, dtype=torch.float32)\n",
    "    test = torch.utils.data.TensorDataset(X_test2) \n",
    "    test_loader = torch.utils.data.DataLoader(test, batch_size=batch_size, shuffle=False)\n",
    "    \n",
    "    oof = np.zeros([len(X_train),y_train.shape[1]])\n",
    "    oof_targets = np.zeros([len(X_train),y_train.shape[1]])\n",
    "    pred_value = np.zeros([test_len, y_train.shape[1]])\n",
    "    scores = []\n",
    "    for fold in range(n_folds):\n",
    "        valid_index = X_train[:,-1] == fold\n",
    "        train_index = X_train[:,-1] != fold\n",
    "        print(\"Fold \"+str(fold+1))\n",
    "        X_train2 = torch.tensor(X_train[train_index,:], dtype=torch.float32)\n",
    "        X_valid2 = torch.tensor(X_train[valid_index,:], dtype=torch.float32)\n",
    "        X_train2 = X_train2[:,:-1]\n",
    "        X_valid2 = X_valid2[:,:-1]\n",
    "        \n",
    "        y_train2 = torch.tensor(y_train[train_index], dtype=torch.float32)\n",
    "        y_valid2 = torch.tensor(y_train[valid_index], dtype=torch.float32)\n",
    "        \n",
    "        train = torch.utils.data.TensorDataset(X_train2, y_train2)\n",
    "        valid = torch.utils.data.TensorDataset(X_valid2, y_valid2)\n",
    "        \n",
    "        train_loader = torch.utils.data.DataLoader(train, batch_size=batch_size, shuffle=True) \n",
    "        valid_loader = torch.utils.data.DataLoader(valid, batch_size=batch_size, shuffle=False)\n",
    "            \n",
    "        clf = MoaModel(init_num, last_num)\n",
    "        loss_fn = SmoothCrossEntropyLoss(smoothing=smoothing)\n",
    "\n",
    "        optimizer = optim.Adam(clf.parameters(), lr = 0.001, weight_decay=1e-5) \n",
    "        scheduler = optim.lr_scheduler.OneCycleLR(optimizer=optimizer, pct_start=0.1, div_factor=1e3, \n",
    "                                              max_lr=1e-2, epochs=train_epochs, steps_per_epoch=len(train_loader))\n",
    "        \n",
    "        clf.to(device)\n",
    "        \n",
    "        best_val_loss = np.inf\n",
    "        stop_counts = 0\n",
    "        for epoch in range(train_epochs):\n",
    "            start_time = time.time()\n",
    "            clf.train()\n",
    "            avg_loss = 0.\n",
    "            sm_avg_loss = 0.\n",
    "            for x_batch, y_batch in tqdm(train_loader, disable=True):\n",
    "                x_batch = x_batch.to(device)\n",
    "                y_batch = y_batch.to(device)\n",
    "                y_pred = clf(x_batch) \n",
    "                loss = loss_fn(y_pred, y_batch)\n",
    "                optimizer.zero_grad()\n",
    "                loss.backward()\n",
    "                optimizer.step()\n",
    "                scheduler.step()\n",
    "                avg_loss += loss.item() / len(train_loader)  \n",
    "                sm_avg_loss += metric(y_pred, y_batch) / len(train_loader) \n",
    "                \n",
    "            clf.eval()\n",
    "            avg_val_loss = 0.\n",
    "            sm_avg_val_loss = 0.\n",
    "            for i, (x_batch, y_batch) in enumerate(valid_loader): \n",
    "                x_batch = x_batch.to(device)\n",
    "                y_batch = y_batch.to(device)\n",
    "                y_pred = clf(x_batch).detach()\n",
    "                avg_val_loss += loss_fn(y_pred, y_batch).item() / len(valid_loader)\n",
    "                sm_avg_val_loss += metric(y_pred, y_batch) / len(valid_loader)\n",
    "        \n",
    "            elapsed_time = time.time() - start_time \n",
    "            #scheduler.step() #avg_val_loss # maybe mistake\n",
    "                    \n",
    "            if sm_avg_val_loss < best_val_loss:\n",
    "                best_val_loss = sm_avg_val_loss\n",
    "                print('Best: Epoch {} \\t loss={:.5f} \\t val_loss={:.5f} \\t sm_loss={:.5f} \\t sm_val_loss={:.5f} \\t time={:.2f}s'.format(\n",
    "                    epoch + 1, avg_loss, avg_val_loss, sm_avg_loss, sm_avg_val_loss, elapsed_time))\n",
    "                torch.save(clf.state_dict(), 'best-model-parameters.pt')\n",
    "            else:\n",
    "                stop_counts += 1\n",
    "        \n",
    "        pred_model = MoaModel(init_num, last_num)\n",
    "        pred_model.load_state_dict(torch.load('best-model-parameters.pt'))         \n",
    "        pred_model.eval()\n",
    "        \n",
    "        # validation check ----------------\n",
    "        oof_epoch = np.zeros([X_valid2.size(0), y_train.shape[1]])\n",
    "        target_epoch = np.zeros([X_valid2.size(0), y_train.shape[1]])\n",
    "        for i, (x_batch, y_batch) in enumerate(valid_loader): \n",
    "                y_pred = pred_model(x_batch).detach()\n",
    "                oof_epoch[i * batch_size:(i+1) * batch_size,:] = torch.clamp(torch.sigmoid(y_pred.cpu()), p_min, p_max)\n",
    "                target_epoch[i * batch_size:(i+1) * batch_size,:] = y_batch.cpu().numpy()\n",
    "        print(\"Fold {} log loss: {}\".format(fold+1, mean_log_loss(target_epoch, oof_epoch)))\n",
    "        scores.append(mean_log_loss(target_epoch, oof_epoch))\n",
    "        oof[valid_index,:] = oof_epoch\n",
    "        oof_targets[valid_index,:] = target_epoch\n",
    "        #-----------------------------------\n",
    "        \n",
    "        # test predcition --------------\n",
    "        test_preds = np.zeros([test_len, y_train.shape[1]])\n",
    "        for i, (x_batch,) in enumerate(test_loader): \n",
    "            y_pred = pred_model(x_batch).detach()\n",
    "            test_preds[i * batch_size:(i+1) * batch_size, :] = torch.clamp(torch.sigmoid(y_pred.cpu()), p_min, p_max)\n",
    "        pred_value += test_preds / n_folds\n",
    "        # ------------------------------\n",
    "        \n",
    "    print(\"Seed {}\".format(seed_))\n",
    "    for i, ele in enumerate(scores):\n",
    "        print(\"Fold {} log loss: {}\".format(i+1, scores[i]))\n",
    "    print(\"Std of log loss: {}\".format(np.std(scores)))\n",
    "    print(\"Total log loss: {}\".format(mean_log_loss(oof_targets, oof)))\n",
    "    \n",
    "    return oof, oof_targets, pred_value"
   ]
  },
  {
   "cell_type": "code",
   "execution_count": 19,
   "metadata": {
    "execution": {
     "iopub.execute_input": "2020-11-08T09:35:39.628318Z",
     "iopub.status.busy": "2020-11-08T09:35:39.627472Z",
     "iopub.status.idle": "2020-11-08T09:48:28.228114Z",
     "shell.execute_reply": "2020-11-08T09:48:28.228694Z"
    },
    "papermill": {
     "duration": 768.635944,
     "end_time": "2020-11-08T09:48:28.228856",
     "exception": false,
     "start_time": "2020-11-08T09:35:39.592912",
     "status": "completed"
    },
    "tags": []
   },
   "outputs": [
    {
     "name": "stdout",
     "output_type": "stream",
     "text": [
      "Fold 1\n",
      "Best: Epoch 1 \t loss=0.41446 \t val_loss=0.02267 \t sm_loss=0.41440 \t sm_val_loss=0.02264 \t time=1.69s\n",
      "Best: Epoch 3 \t loss=0.01816 \t val_loss=0.01802 \t sm_loss=0.01820 \t sm_val_loss=0.01802 \t time=0.95s\n",
      "Best: Epoch 7 \t loss=0.01726 \t val_loss=0.01779 \t sm_loss=0.01739 \t sm_val_loss=0.01778 \t time=0.95s\n",
      "Best: Epoch 11 \t loss=0.01690 \t val_loss=0.01742 \t sm_loss=0.01703 \t sm_val_loss=0.01743 \t time=0.90s\n",
      "Best: Epoch 13 \t loss=0.01647 \t val_loss=0.01737 \t sm_loss=0.01662 \t sm_val_loss=0.01737 \t time=0.90s\n",
      "Best: Epoch 14 \t loss=0.01616 \t val_loss=0.01728 \t sm_loss=0.01632 \t sm_val_loss=0.01729 \t time=0.94s\n",
      "Best: Epoch 16 \t loss=0.01538 \t val_loss=0.01712 \t sm_loss=0.01557 \t sm_val_loss=0.01710 \t time=0.93s\n",
      "Best: Epoch 19 \t loss=0.01394 \t val_loss=0.01710 \t sm_loss=0.01417 \t sm_val_loss=0.01708 \t time=1.23s\n",
      "Fold 1 log loss: 0.017188349927484057\n",
      "Fold 2\n",
      "Best: Epoch 1 \t loss=0.41365 \t val_loss=0.02215 \t sm_loss=0.41359 \t sm_val_loss=0.02215 \t time=0.98s\n",
      "Best: Epoch 2 \t loss=0.02015 \t val_loss=0.01867 \t sm_loss=0.02007 \t sm_val_loss=0.01871 \t time=0.97s\n",
      "Best: Epoch 3 \t loss=0.01814 \t val_loss=0.01756 \t sm_loss=0.01817 \t sm_val_loss=0.01760 \t time=0.93s\n",
      "Best: Epoch 4 \t loss=0.01746 \t val_loss=0.01756 \t sm_loss=0.01756 \t sm_val_loss=0.01755 \t time=0.95s\n",
      "Best: Epoch 7 \t loss=0.01726 \t val_loss=0.01751 \t sm_loss=0.01738 \t sm_val_loss=0.01753 \t time=0.95s\n",
      "Best: Epoch 9 \t loss=0.01708 \t val_loss=0.01740 \t sm_loss=0.01721 \t sm_val_loss=0.01743 \t time=0.98s\n",
      "Best: Epoch 11 \t loss=0.01690 \t val_loss=0.01721 \t sm_loss=0.01704 \t sm_val_loss=0.01725 \t time=1.06s\n",
      "Best: Epoch 12 \t loss=0.01671 \t val_loss=0.01702 \t sm_loss=0.01685 \t sm_val_loss=0.01708 \t time=1.14s\n",
      "Best: Epoch 16 \t loss=0.01541 \t val_loss=0.01700 \t sm_loss=0.01561 \t sm_val_loss=0.01699 \t time=0.93s\n",
      "Best: Epoch 19 \t loss=0.01402 \t val_loss=0.01694 \t sm_loss=0.01425 \t sm_val_loss=0.01696 \t time=1.37s\n",
      "Fold 2 log loss: 0.017083141172427912\n",
      "Fold 3\n",
      "Best: Epoch 1 \t loss=0.41440 \t val_loss=0.02239 \t sm_loss=0.41433 \t sm_val_loss=0.02235 \t time=0.96s\n",
      "Best: Epoch 2 \t loss=0.01996 \t val_loss=0.01875 \t sm_loss=0.01992 \t sm_val_loss=0.01876 \t time=0.90s\n",
      "Best: Epoch 3 \t loss=0.01806 \t val_loss=0.01849 \t sm_loss=0.01809 \t sm_val_loss=0.01855 \t time=0.92s\n",
      "Best: Epoch 4 \t loss=0.01734 \t val_loss=0.01813 \t sm_loss=0.01746 \t sm_val_loss=0.01817 \t time=0.92s\n",
      "Best: Epoch 6 \t loss=0.01728 \t val_loss=0.01813 \t sm_loss=0.01740 \t sm_val_loss=0.01813 \t time=0.93s\n",
      "Best: Epoch 8 \t loss=0.01714 \t val_loss=0.01811 \t sm_loss=0.01727 \t sm_val_loss=0.01811 \t time=1.18s\n",
      "Best: Epoch 10 \t loss=0.01692 \t val_loss=0.01809 \t sm_loss=0.01705 \t sm_val_loss=0.01809 \t time=0.91s\n",
      "Best: Epoch 12 \t loss=0.01659 \t val_loss=0.01800 \t sm_loss=0.01673 \t sm_val_loss=0.01802 \t time=0.92s\n",
      "Best: Epoch 13 \t loss=0.01640 \t val_loss=0.01776 \t sm_loss=0.01656 \t sm_val_loss=0.01778 \t time=0.93s\n",
      "Best: Epoch 14 \t loss=0.01611 \t val_loss=0.01771 \t sm_loss=0.01627 \t sm_val_loss=0.01772 \t time=0.93s\n",
      "Best: Epoch 15 \t loss=0.01562 \t val_loss=0.01759 \t sm_loss=0.01580 \t sm_val_loss=0.01761 \t time=0.92s\n",
      "Best: Epoch 18 \t loss=0.01422 \t val_loss=0.01753 \t sm_loss=0.01444 \t sm_val_loss=0.01752 \t time=0.93s\n",
      "Fold 3 log loss: 0.017463930538642338\n",
      "Fold 4\n",
      "Best: Epoch 1 \t loss=0.41212 \t val_loss=0.02341 \t sm_loss=0.41208 \t sm_val_loss=0.02339 \t time=1.26s\n",
      "Best: Epoch 2 \t loss=0.02002 \t val_loss=0.02040 \t sm_loss=0.01999 \t sm_val_loss=0.02011 \t time=0.96s\n",
      "Best: Epoch 3 \t loss=0.01779 \t val_loss=0.01888 \t sm_loss=0.01788 \t sm_val_loss=0.01852 \t time=0.93s\n",
      "Best: Epoch 4 \t loss=0.01731 \t val_loss=0.01847 \t sm_loss=0.01743 \t sm_val_loss=0.01837 \t time=0.93s\n",
      "Best: Epoch 7 \t loss=0.01716 \t val_loss=0.01820 \t sm_loss=0.01729 \t sm_val_loss=0.01816 \t time=0.93s\n",
      "Best: Epoch 11 \t loss=0.01675 \t val_loss=0.01812 \t sm_loss=0.01689 \t sm_val_loss=0.01812 \t time=0.92s\n",
      "Best: Epoch 12 \t loss=0.01653 \t val_loss=0.01809 \t sm_loss=0.01668 \t sm_val_loss=0.01805 \t time=0.93s\n",
      "Best: Epoch 13 \t loss=0.01627 \t val_loss=0.01782 \t sm_loss=0.01643 \t sm_val_loss=0.01784 \t time=0.93s\n",
      "Best: Epoch 16 \t loss=0.01521 \t val_loss=0.01780 \t sm_loss=0.01540 \t sm_val_loss=0.01780 \t time=0.92s\n",
      "Best: Epoch 18 \t loss=0.01424 \t val_loss=0.01775 \t sm_loss=0.01445 \t sm_val_loss=0.01776 \t time=0.91s\n",
      "Best: Epoch 19 \t loss=0.01378 \t val_loss=0.01769 \t sm_loss=0.01401 \t sm_val_loss=0.01770 \t time=0.92s\n",
      "Fold 4 log loss: 0.01780079915962677\n",
      "Fold 5\n",
      "Best: Epoch 1 \t loss=0.41453 \t val_loss=0.02247 \t sm_loss=0.41448 \t sm_val_loss=0.02247 \t time=0.93s\n",
      "Best: Epoch 2 \t loss=0.01999 \t val_loss=0.01851 \t sm_loss=0.01996 \t sm_val_loss=0.01856 \t time=0.91s\n",
      "Best: Epoch 3 \t loss=0.01796 \t val_loss=0.01783 \t sm_loss=0.01800 \t sm_val_loss=0.01786 \t time=0.91s\n",
      "Best: Epoch 5 \t loss=0.01735 \t val_loss=0.01785 \t sm_loss=0.01747 \t sm_val_loss=0.01785 \t time=0.92s\n",
      "Best: Epoch 6 \t loss=0.01732 \t val_loss=0.01767 \t sm_loss=0.01744 \t sm_val_loss=0.01768 \t time=0.92s\n",
      "Best: Epoch 9 \t loss=0.01710 \t val_loss=0.01768 \t sm_loss=0.01723 \t sm_val_loss=0.01768 \t time=0.90s\n",
      "Best: Epoch 12 \t loss=0.01670 \t val_loss=0.01758 \t sm_loss=0.01684 \t sm_val_loss=0.01756 \t time=1.33s\n",
      "Best: Epoch 13 \t loss=0.01642 \t val_loss=0.01743 \t sm_loss=0.01658 \t sm_val_loss=0.01746 \t time=1.02s\n",
      "Best: Epoch 14 \t loss=0.01613 \t val_loss=0.01744 \t sm_loss=0.01629 \t sm_val_loss=0.01744 \t time=0.99s\n",
      "Best: Epoch 15 \t loss=0.01577 \t val_loss=0.01733 \t sm_loss=0.01595 \t sm_val_loss=0.01734 \t time=0.99s\n",
      "Best: Epoch 16 \t loss=0.01543 \t val_loss=0.01712 \t sm_loss=0.01562 \t sm_val_loss=0.01713 \t time=0.96s\n",
      "Best: Epoch 17 \t loss=0.01489 \t val_loss=0.01709 \t sm_loss=0.01510 \t sm_val_loss=0.01709 \t time=0.94s\n",
      "Best: Epoch 18 \t loss=0.01442 \t val_loss=0.01705 \t sm_loss=0.01463 \t sm_val_loss=0.01704 \t time=0.95s\n",
      "Best: Epoch 20 \t loss=0.01381 \t val_loss=0.01703 \t sm_loss=0.01404 \t sm_val_loss=0.01702 \t time=1.10s\n",
      "Fold 5 log loss: 0.017269950724745436\n",
      "Fold 6\n",
      "Best: Epoch 1 \t loss=0.41362 \t val_loss=0.02258 \t sm_loss=0.41355 \t sm_val_loss=0.02256 \t time=0.92s\n",
      "Best: Epoch 2 \t loss=0.02029 \t val_loss=0.01930 \t sm_loss=0.02023 \t sm_val_loss=0.01930 \t time=0.92s\n",
      "Best: Epoch 3 \t loss=0.01837 \t val_loss=0.01822 \t sm_loss=0.01836 \t sm_val_loss=0.01828 \t time=0.94s\n",
      "Best: Epoch 5 \t loss=0.01738 \t val_loss=0.01811 \t sm_loss=0.01748 \t sm_val_loss=0.01814 \t time=0.93s\n",
      "Best: Epoch 7 \t loss=0.01734 \t val_loss=0.01801 \t sm_loss=0.01745 \t sm_val_loss=0.01809 \t time=0.92s\n",
      "Best: Epoch 8 \t loss=0.01728 \t val_loss=0.01790 \t sm_loss=0.01740 \t sm_val_loss=0.01798 \t time=0.91s\n",
      "Best: Epoch 10 \t loss=0.01705 \t val_loss=0.01777 \t sm_loss=0.01718 \t sm_val_loss=0.01785 \t time=0.97s\n",
      "Best: Epoch 11 \t loss=0.01700 \t val_loss=0.01764 \t sm_loss=0.01713 \t sm_val_loss=0.01773 \t time=0.98s\n",
      "Best: Epoch 13 \t loss=0.01651 \t val_loss=0.01748 \t sm_loss=0.01666 \t sm_val_loss=0.01756 \t time=0.99s\n",
      "Best: Epoch 15 \t loss=0.01582 \t val_loss=0.01733 \t sm_loss=0.01599 \t sm_val_loss=0.01740 \t time=0.92s\n",
      "Best: Epoch 16 \t loss=0.01538 \t val_loss=0.01721 \t sm_loss=0.01556 \t sm_val_loss=0.01730 \t time=0.92s\n",
      "Best: Epoch 18 \t loss=0.01451 \t val_loss=0.01719 \t sm_loss=0.01471 \t sm_val_loss=0.01727 \t time=0.91s\n",
      "Fold 6 log loss: 0.01730857254851999\n",
      "Fold 7\n",
      "Best: Epoch 1 \t loss=0.41528 \t val_loss=0.02276 \t sm_loss=0.41523 \t sm_val_loss=0.02276 \t time=0.95s\n",
      "Best: Epoch 2 \t loss=0.02028 \t val_loss=0.02288 \t sm_loss=0.02020 \t sm_val_loss=0.02273 \t time=1.23s\n",
      "Best: Epoch 3 \t loss=0.01811 \t val_loss=0.01813 \t sm_loss=0.01816 \t sm_val_loss=0.01818 \t time=0.95s\n",
      "Best: Epoch 4 \t loss=0.01747 \t val_loss=0.01784 \t sm_loss=0.01758 \t sm_val_loss=0.01791 \t time=0.92s\n",
      "Best: Epoch 5 \t loss=0.01734 \t val_loss=0.01773 \t sm_loss=0.01746 \t sm_val_loss=0.01777 \t time=0.90s\n",
      "Best: Epoch 8 \t loss=0.01717 \t val_loss=0.01770 \t sm_loss=0.01729 \t sm_val_loss=0.01777 \t time=0.91s\n",
      "Best: Epoch 9 \t loss=0.01707 \t val_loss=0.01769 \t sm_loss=0.01720 \t sm_val_loss=0.01774 \t time=0.95s\n",
      "Best: Epoch 11 \t loss=0.01683 \t val_loss=0.01742 \t sm_loss=0.01697 \t sm_val_loss=0.01750 \t time=0.95s\n",
      "Best: Epoch 12 \t loss=0.01658 \t val_loss=0.01745 \t sm_loss=0.01673 \t sm_val_loss=0.01750 \t time=0.93s\n",
      "Best: Epoch 14 \t loss=0.01619 \t val_loss=0.01718 \t sm_loss=0.01636 \t sm_val_loss=0.01724 \t time=0.92s\n",
      "Best: Epoch 15 \t loss=0.01572 \t val_loss=0.01714 \t sm_loss=0.01590 \t sm_val_loss=0.01720 \t time=0.92s\n",
      "Best: Epoch 16 \t loss=0.01526 \t val_loss=0.01705 \t sm_loss=0.01545 \t sm_val_loss=0.01711 \t time=0.92s\n",
      "Best: Epoch 17 \t loss=0.01478 \t val_loss=0.01703 \t sm_loss=0.01498 \t sm_val_loss=0.01708 \t time=0.92s\n",
      "Best: Epoch 18 \t loss=0.01424 \t val_loss=0.01696 \t sm_loss=0.01445 \t sm_val_loss=0.01702 \t time=0.95s\n",
      "Best: Epoch 19 \t loss=0.01381 \t val_loss=0.01694 \t sm_loss=0.01403 \t sm_val_loss=0.01700 \t time=0.92s\n",
      "Fold 7 log loss: 0.017028100687039485\n",
      "Seed 0\n",
      "Fold 1 log loss: 0.017188349927484057\n",
      "Fold 2 log loss: 0.017083141172427912\n",
      "Fold 3 log loss: 0.017463930538642338\n",
      "Fold 4 log loss: 0.01780079915962677\n",
      "Fold 5 log loss: 0.017269950724745436\n",
      "Fold 6 log loss: 0.01730857254851999\n",
      "Fold 7 log loss: 0.017028100687039485\n",
      "Std of log loss: 0.00024254895071303213\n",
      "Total log loss: 0.017305911128081705\n",
      "Fold 1\n",
      "Best: Epoch 1 \t loss=0.41608 \t val_loss=0.02216 \t sm_loss=0.41603 \t sm_val_loss=0.02213 \t time=0.93s\n",
      "Best: Epoch 2 \t loss=0.02015 \t val_loss=0.01914 \t sm_loss=0.02010 \t sm_val_loss=0.01906 \t time=0.91s\n",
      "Best: Epoch 3 \t loss=0.01802 \t val_loss=0.01841 \t sm_loss=0.01806 \t sm_val_loss=0.01841 \t time=1.09s\n",
      "Best: Epoch 4 \t loss=0.01737 \t val_loss=0.01807 \t sm_loss=0.01748 \t sm_val_loss=0.01807 \t time=1.20s\n",
      "Best: Epoch 5 \t loss=0.01733 \t val_loss=0.01781 \t sm_loss=0.01745 \t sm_val_loss=0.01780 \t time=0.93s\n",
      "Best: Epoch 10 \t loss=0.01701 \t val_loss=0.01761 \t sm_loss=0.01715 \t sm_val_loss=0.01762 \t time=1.02s\n",
      "Best: Epoch 12 \t loss=0.01667 \t val_loss=0.01755 \t sm_loss=0.01681 \t sm_val_loss=0.01757 \t time=1.19s\n",
      "Best: Epoch 13 \t loss=0.01643 \t val_loss=0.01741 \t sm_loss=0.01658 \t sm_val_loss=0.01743 \t time=0.94s\n",
      "Best: Epoch 15 \t loss=0.01579 \t val_loss=0.01735 \t sm_loss=0.01596 \t sm_val_loss=0.01736 \t time=0.94s\n",
      "Best: Epoch 16 \t loss=0.01532 \t val_loss=0.01722 \t sm_loss=0.01551 \t sm_val_loss=0.01719 \t time=0.95s\n",
      "Best: Epoch 17 \t loss=0.01489 \t val_loss=0.01712 \t sm_loss=0.01510 \t sm_val_loss=0.01711 \t time=0.91s\n",
      "Best: Epoch 19 \t loss=0.01390 \t val_loss=0.01711 \t sm_loss=0.01412 \t sm_val_loss=0.01710 \t time=1.17s\n",
      "Fold 1 log loss: 0.0171996980522294\n",
      "Fold 2\n",
      "Best: Epoch 1 \t loss=0.41315 \t val_loss=0.02236 \t sm_loss=0.41311 \t sm_val_loss=0.02236 \t time=0.92s\n",
      "Best: Epoch 2 \t loss=0.02024 \t val_loss=0.01882 \t sm_loss=0.02017 \t sm_val_loss=0.01881 \t time=0.92s\n",
      "Best: Epoch 3 \t loss=0.01802 \t val_loss=0.01747 \t sm_loss=0.01807 \t sm_val_loss=0.01752 \t time=0.97s\n",
      "Best: Epoch 10 \t loss=0.01702 \t val_loss=0.01717 \t sm_loss=0.01715 \t sm_val_loss=0.01720 \t time=0.91s\n",
      "Best: Epoch 13 \t loss=0.01638 \t val_loss=0.01700 \t sm_loss=0.01654 \t sm_val_loss=0.01703 \t time=0.92s\n",
      "Best: Epoch 15 \t loss=0.01578 \t val_loss=0.01691 \t sm_loss=0.01596 \t sm_val_loss=0.01695 \t time=0.92s\n",
      "Fold 2 log loss: 0.017055019973599633\n",
      "Fold 3\n",
      "Best: Epoch 1 \t loss=0.41323 \t val_loss=0.02261 \t sm_loss=0.41319 \t sm_val_loss=0.02257 \t time=0.93s\n",
      "Best: Epoch 2 \t loss=0.02022 \t val_loss=0.01886 \t sm_loss=0.02015 \t sm_val_loss=0.01892 \t time=1.10s\n",
      "Best: Epoch 3 \t loss=0.01801 \t val_loss=0.01840 \t sm_loss=0.01805 \t sm_val_loss=0.01842 \t time=1.13s\n",
      "Best: Epoch 6 \t loss=0.01721 \t val_loss=0.01820 \t sm_loss=0.01733 \t sm_val_loss=0.01822 \t time=0.92s\n",
      "Best: Epoch 7 \t loss=0.01719 \t val_loss=0.01810 \t sm_loss=0.01731 \t sm_val_loss=0.01811 \t time=0.92s\n",
      "Best: Epoch 10 \t loss=0.01696 \t val_loss=0.01797 \t sm_loss=0.01709 \t sm_val_loss=0.01799 \t time=1.18s\n",
      "Best: Epoch 12 \t loss=0.01660 \t val_loss=0.01786 \t sm_loss=0.01674 \t sm_val_loss=0.01789 \t time=0.91s\n",
      "Best: Epoch 13 \t loss=0.01635 \t val_loss=0.01767 \t sm_loss=0.01651 \t sm_val_loss=0.01769 \t time=0.96s\n",
      "Best: Epoch 15 \t loss=0.01573 \t val_loss=0.01762 \t sm_loss=0.01591 \t sm_val_loss=0.01763 \t time=0.92s\n",
      "Best: Epoch 16 \t loss=0.01530 \t val_loss=0.01749 \t sm_loss=0.01549 \t sm_val_loss=0.01750 \t time=0.95s\n",
      "Best: Epoch 17 \t loss=0.01478 \t val_loss=0.01743 \t sm_loss=0.01499 \t sm_val_loss=0.01744 \t time=0.93s\n",
      "Fold 3 log loss: 0.01739707331652166\n",
      "Fold 4\n",
      "Best: Epoch 1 \t loss=0.41274 \t val_loss=0.02320 \t sm_loss=0.41268 \t sm_val_loss=0.02311 \t time=1.27s\n",
      "Best: Epoch 2 \t loss=0.01987 \t val_loss=0.01950 \t sm_loss=0.01984 \t sm_val_loss=0.01937 \t time=1.02s\n",
      "Best: Epoch 3 \t loss=0.01798 \t val_loss=0.01858 \t sm_loss=0.01802 \t sm_val_loss=0.01850 \t time=1.02s\n",
      "Best: Epoch 4 \t loss=0.01731 \t val_loss=0.01832 \t sm_loss=0.01743 \t sm_val_loss=0.01829 \t time=0.97s\n",
      "Best: Epoch 8 \t loss=0.01711 \t val_loss=0.01821 \t sm_loss=0.01724 \t sm_val_loss=0.01818 \t time=0.96s\n",
      "Best: Epoch 11 \t loss=0.01678 \t val_loss=0.01800 \t sm_loss=0.01692 \t sm_val_loss=0.01801 \t time=0.92s\n",
      "Best: Epoch 13 \t loss=0.01636 \t val_loss=0.01788 \t sm_loss=0.01653 \t sm_val_loss=0.01786 \t time=1.20s\n",
      "Best: Epoch 15 \t loss=0.01559 \t val_loss=0.01786 \t sm_loss=0.01577 \t sm_val_loss=0.01784 \t time=0.92s\n",
      "Best: Epoch 16 \t loss=0.01508 \t val_loss=0.01771 \t sm_loss=0.01528 \t sm_val_loss=0.01774 \t time=0.94s\n",
      "Best: Epoch 17 \t loss=0.01463 \t val_loss=0.01774 \t sm_loss=0.01484 \t sm_val_loss=0.01773 \t time=0.93s\n",
      "Best: Epoch 18 \t loss=0.01411 \t val_loss=0.01768 \t sm_loss=0.01433 \t sm_val_loss=0.01769 \t time=0.94s\n",
      "Best: Epoch 19 \t loss=0.01368 \t val_loss=0.01767 \t sm_loss=0.01391 \t sm_val_loss=0.01767 \t time=0.94s\n",
      "Fold 4 log loss: 0.017759254095945455\n",
      "Fold 5\n",
      "Best: Epoch 1 \t loss=0.41476 \t val_loss=0.02301 \t sm_loss=0.41471 \t sm_val_loss=0.02298 \t time=0.92s\n",
      "Best: Epoch 2 \t loss=0.02040 \t val_loss=0.01932 \t sm_loss=0.02031 \t sm_val_loss=0.01927 \t time=0.94s\n",
      "Best: Epoch 3 \t loss=0.01810 \t val_loss=0.01890 \t sm_loss=0.01815 \t sm_val_loss=0.01877 \t time=0.92s\n",
      "Best: Epoch 4 \t loss=0.01747 \t val_loss=0.01799 \t sm_loss=0.01758 \t sm_val_loss=0.01798 \t time=0.92s\n",
      "Best: Epoch 6 \t loss=0.01722 \t val_loss=0.01779 \t sm_loss=0.01736 \t sm_val_loss=0.01778 \t time=0.92s\n",
      "Best: Epoch 10 \t loss=0.01701 \t val_loss=0.01773 \t sm_loss=0.01715 \t sm_val_loss=0.01769 \t time=1.02s\n",
      "Best: Epoch 12 \t loss=0.01664 \t val_loss=0.01749 \t sm_loss=0.01678 \t sm_val_loss=0.01749 \t time=0.95s\n",
      "Best: Epoch 13 \t loss=0.01641 \t val_loss=0.01743 \t sm_loss=0.01656 \t sm_val_loss=0.01734 \t time=0.92s\n",
      "Best: Epoch 14 \t loss=0.01606 \t val_loss=0.01726 \t sm_loss=0.01623 \t sm_val_loss=0.01728 \t time=0.92s\n",
      "Best: Epoch 15 \t loss=0.01576 \t val_loss=0.01719 \t sm_loss=0.01594 \t sm_val_loss=0.01720 \t time=0.92s\n",
      "Best: Epoch 16 \t loss=0.01537 \t val_loss=0.01701 \t sm_loss=0.01557 \t sm_val_loss=0.01702 \t time=0.92s\n",
      "Fold 5 log loss: 0.01722072842555954\n",
      "Fold 6\n",
      "Best: Epoch 1 \t loss=0.41434 \t val_loss=0.02235 \t sm_loss=0.41429 \t sm_val_loss=0.02233 \t time=1.26s\n",
      "Best: Epoch 3 \t loss=0.01828 \t val_loss=0.01815 \t sm_loss=0.01831 \t sm_val_loss=0.01821 \t time=1.23s\n",
      "Best: Epoch 5 \t loss=0.01739 \t val_loss=0.01799 \t sm_loss=0.01751 \t sm_val_loss=0.01806 \t time=0.94s\n",
      "Best: Epoch 8 \t loss=0.01719 \t val_loss=0.01785 \t sm_loss=0.01730 \t sm_val_loss=0.01791 \t time=0.94s\n",
      "Best: Epoch 10 \t loss=0.01701 \t val_loss=0.01772 \t sm_loss=0.01714 \t sm_val_loss=0.01780 \t time=0.93s\n",
      "Best: Epoch 11 \t loss=0.01686 \t val_loss=0.01769 \t sm_loss=0.01700 \t sm_val_loss=0.01774 \t time=1.30s\n",
      "Best: Epoch 13 \t loss=0.01649 \t val_loss=0.01758 \t sm_loss=0.01664 \t sm_val_loss=0.01767 \t time=0.96s\n",
      "Best: Epoch 14 \t loss=0.01626 \t val_loss=0.01758 \t sm_loss=0.01641 \t sm_val_loss=0.01765 \t time=0.95s\n",
      "Best: Epoch 15 \t loss=0.01586 \t val_loss=0.01729 \t sm_loss=0.01603 \t sm_val_loss=0.01739 \t time=1.35s\n",
      "Best: Epoch 16 \t loss=0.01546 \t val_loss=0.01724 \t sm_loss=0.01564 \t sm_val_loss=0.01733 \t time=0.96s\n",
      "Best: Epoch 17 \t loss=0.01497 \t val_loss=0.01723 \t sm_loss=0.01516 \t sm_val_loss=0.01732 \t time=1.20s\n",
      "Best: Epoch 18 \t loss=0.01448 \t val_loss=0.01719 \t sm_loss=0.01468 \t sm_val_loss=0.01728 \t time=0.93s\n",
      "Fold 6 log loss: 0.017304457234383588\n",
      "Fold 7\n",
      "Best: Epoch 1 \t loss=0.41422 \t val_loss=0.02255 \t sm_loss=0.41416 \t sm_val_loss=0.02253 \t time=0.99s\n",
      "Best: Epoch 2 \t loss=0.02017 \t val_loss=0.02033 \t sm_loss=0.02010 \t sm_val_loss=0.02036 \t time=0.94s\n",
      "Best: Epoch 3 \t loss=0.01806 \t val_loss=0.01797 \t sm_loss=0.01810 \t sm_val_loss=0.01803 \t time=0.91s\n",
      "Best: Epoch 5 \t loss=0.01737 \t val_loss=0.01777 \t sm_loss=0.01748 \t sm_val_loss=0.01785 \t time=0.94s\n",
      "Best: Epoch 7 \t loss=0.01726 \t val_loss=0.01769 \t sm_loss=0.01738 \t sm_val_loss=0.01775 \t time=0.91s\n",
      "Best: Epoch 9 \t loss=0.01711 \t val_loss=0.01765 \t sm_loss=0.01723 \t sm_val_loss=0.01773 \t time=0.92s\n",
      "Best: Epoch 12 \t loss=0.01668 \t val_loss=0.01745 \t sm_loss=0.01682 \t sm_val_loss=0.01751 \t time=0.92s\n",
      "Best: Epoch 13 \t loss=0.01646 \t val_loss=0.01742 \t sm_loss=0.01661 \t sm_val_loss=0.01750 \t time=0.92s\n",
      "Best: Epoch 14 \t loss=0.01617 \t val_loss=0.01728 \t sm_loss=0.01633 \t sm_val_loss=0.01736 \t time=1.29s\n",
      "Best: Epoch 15 \t loss=0.01584 \t val_loss=0.01722 \t sm_loss=0.01601 \t sm_val_loss=0.01728 \t time=0.93s\n",
      "Best: Epoch 16 \t loss=0.01539 \t val_loss=0.01708 \t sm_loss=0.01558 \t sm_val_loss=0.01714 \t time=0.91s\n",
      "Best: Epoch 17 \t loss=0.01493 \t val_loss=0.01704 \t sm_loss=0.01513 \t sm_val_loss=0.01709 \t time=0.92s\n",
      "Best: Epoch 18 \t loss=0.01440 \t val_loss=0.01695 \t sm_loss=0.01461 \t sm_val_loss=0.01701 \t time=0.93s\n",
      "Best: Epoch 19 \t loss=0.01404 \t val_loss=0.01688 \t sm_loss=0.01425 \t sm_val_loss=0.01695 \t time=0.97s\n",
      "Fold 7 log loss: 0.01696662837696165\n",
      "Seed 1\n",
      "Fold 1 log loss: 0.0171996980522294\n",
      "Fold 2 log loss: 0.017055019973599633\n",
      "Fold 3 log loss: 0.01739707331652166\n",
      "Fold 4 log loss: 0.017759254095945455\n",
      "Fold 5 log loss: 0.01722072842555954\n",
      "Fold 6 log loss: 0.017304457234383588\n",
      "Fold 7 log loss: 0.01696662837696165\n",
      "Std of log loss: 0.00023973249400347112\n",
      "Total log loss: 0.017271561306397027\n",
      "Fold 1\n",
      "Best: Epoch 1 \t loss=0.41457 \t val_loss=0.02278 \t sm_loss=0.41454 \t sm_val_loss=0.02275 \t time=0.90s\n",
      "Best: Epoch 3 \t loss=0.01814 \t val_loss=0.01794 \t sm_loss=0.01819 \t sm_val_loss=0.01797 \t time=0.90s\n",
      "Best: Epoch 6 \t loss=0.01720 \t val_loss=0.01771 \t sm_loss=0.01732 \t sm_val_loss=0.01775 \t time=0.95s\n",
      "Best: Epoch 11 \t loss=0.01692 \t val_loss=0.01749 \t sm_loss=0.01705 \t sm_val_loss=0.01751 \t time=0.92s\n",
      "Best: Epoch 13 \t loss=0.01651 \t val_loss=0.01748 \t sm_loss=0.01666 \t sm_val_loss=0.01746 \t time=0.92s\n",
      "Best: Epoch 15 \t loss=0.01586 \t val_loss=0.01721 \t sm_loss=0.01604 \t sm_val_loss=0.01724 \t time=0.92s\n",
      "Best: Epoch 17 \t loss=0.01498 \t val_loss=0.01706 \t sm_loss=0.01518 \t sm_val_loss=0.01708 \t time=0.91s\n",
      "Best: Epoch 19 \t loss=0.01410 \t val_loss=0.01702 \t sm_loss=0.01432 \t sm_val_loss=0.01704 \t time=0.92s\n",
      "Best: Epoch 20 \t loss=0.01387 \t val_loss=0.01701 \t sm_loss=0.01409 \t sm_val_loss=0.01703 \t time=0.91s\n",
      "Fold 1 log loss: 0.01712792568290536\n",
      "Fold 2\n",
      "Best: Epoch 1 \t loss=0.41394 \t val_loss=0.02233 \t sm_loss=0.41386 \t sm_val_loss=0.02227 \t time=0.91s\n",
      "Best: Epoch 2 \t loss=0.02036 \t val_loss=0.01882 \t sm_loss=0.02025 \t sm_val_loss=0.01886 \t time=0.92s\n",
      "Best: Epoch 4 \t loss=0.01747 \t val_loss=0.01753 \t sm_loss=0.01758 \t sm_val_loss=0.01752 \t time=1.09s\n",
      "Best: Epoch 6 \t loss=0.01731 \t val_loss=0.01742 \t sm_loss=0.01743 \t sm_val_loss=0.01748 \t time=0.92s\n",
      "Best: Epoch 8 \t loss=0.01723 \t val_loss=0.01724 \t sm_loss=0.01736 \t sm_val_loss=0.01727 \t time=0.92s\n",
      "Best: Epoch 11 \t loss=0.01687 \t val_loss=0.01724 \t sm_loss=0.01701 \t sm_val_loss=0.01723 \t time=1.15s\n",
      "Best: Epoch 13 \t loss=0.01648 \t val_loss=0.01716 \t sm_loss=0.01664 \t sm_val_loss=0.01712 \t time=0.94s\n",
      "Best: Epoch 15 \t loss=0.01572 \t val_loss=0.01705 \t sm_loss=0.01590 \t sm_val_loss=0.01709 \t time=0.95s\n",
      "Best: Epoch 16 \t loss=0.01536 \t val_loss=0.01688 \t sm_loss=0.01555 \t sm_val_loss=0.01691 \t time=0.97s\n",
      "Fold 2 log loss: 0.0170276874226804\n",
      "Fold 3\n",
      "Best: Epoch 1 \t loss=0.41470 \t val_loss=0.02248 \t sm_loss=0.41466 \t sm_val_loss=0.02244 \t time=0.92s\n",
      "Best: Epoch 2 \t loss=0.02008 \t val_loss=0.01903 \t sm_loss=0.02004 \t sm_val_loss=0.01907 \t time=0.94s\n",
      "Best: Epoch 3 \t loss=0.01789 \t val_loss=0.01837 \t sm_loss=0.01796 \t sm_val_loss=0.01839 \t time=0.92s\n",
      "Best: Epoch 5 \t loss=0.01719 \t val_loss=0.01825 \t sm_loss=0.01732 \t sm_val_loss=0.01825 \t time=0.91s\n",
      "Best: Epoch 7 \t loss=0.01718 \t val_loss=0.01811 \t sm_loss=0.01731 \t sm_val_loss=0.01811 \t time=0.93s\n",
      "Best: Epoch 9 \t loss=0.01700 \t val_loss=0.01807 \t sm_loss=0.01713 \t sm_val_loss=0.01805 \t time=0.91s\n",
      "Best: Epoch 11 \t loss=0.01675 \t val_loss=0.01788 \t sm_loss=0.01689 \t sm_val_loss=0.01790 \t time=1.24s\n",
      "Best: Epoch 12 \t loss=0.01661 \t val_loss=0.01786 \t sm_loss=0.01676 \t sm_val_loss=0.01786 \t time=0.91s\n",
      "Best: Epoch 14 \t loss=0.01607 \t val_loss=0.01773 \t sm_loss=0.01623 \t sm_val_loss=0.01774 \t time=1.18s\n",
      "Best: Epoch 15 \t loss=0.01573 \t val_loss=0.01762 \t sm_loss=0.01591 \t sm_val_loss=0.01763 \t time=1.09s\n",
      "Best: Epoch 17 \t loss=0.01476 \t val_loss=0.01759 \t sm_loss=0.01497 \t sm_val_loss=0.01758 \t time=0.93s\n",
      "Best: Epoch 18 \t loss=0.01425 \t val_loss=0.01751 \t sm_loss=0.01447 \t sm_val_loss=0.01750 \t time=0.92s\n",
      "Fold 3 log loss: 0.017456709943677658\n",
      "Fold 4\n",
      "Best: Epoch 1 \t loss=0.41320 \t val_loss=0.02261 \t sm_loss=0.41315 \t sm_val_loss=0.02258 \t time=0.98s\n",
      "Best: Epoch 3 \t loss=0.01793 \t val_loss=0.01871 \t sm_loss=0.01800 \t sm_val_loss=0.01870 \t time=0.91s\n",
      "Best: Epoch 4 \t loss=0.01738 \t val_loss=0.01849 \t sm_loss=0.01749 \t sm_val_loss=0.01848 \t time=0.91s\n",
      "Best: Epoch 5 \t loss=0.01726 \t val_loss=0.01852 \t sm_loss=0.01738 \t sm_val_loss=0.01841 \t time=0.90s\n",
      "Best: Epoch 7 \t loss=0.01724 \t val_loss=0.01842 \t sm_loss=0.01736 \t sm_val_loss=0.01840 \t time=0.90s\n",
      "Best: Epoch 8 \t loss=0.01719 \t val_loss=0.01829 \t sm_loss=0.01731 \t sm_val_loss=0.01826 \t time=0.93s\n",
      "Best: Epoch 9 \t loss=0.01700 \t val_loss=0.01814 \t sm_loss=0.01713 \t sm_val_loss=0.01811 \t time=0.91s\n",
      "Best: Epoch 10 \t loss=0.01684 \t val_loss=0.01803 \t sm_loss=0.01698 \t sm_val_loss=0.01802 \t time=0.91s\n",
      "Best: Epoch 12 \t loss=0.01652 \t val_loss=0.01798 \t sm_loss=0.01667 \t sm_val_loss=0.01802 \t time=1.02s\n",
      "Best: Epoch 13 \t loss=0.01629 \t val_loss=0.01798 \t sm_loss=0.01646 \t sm_val_loss=0.01793 \t time=0.94s\n",
      "Best: Epoch 15 \t loss=0.01560 \t val_loss=0.01787 \t sm_loss=0.01578 \t sm_val_loss=0.01786 \t time=0.92s\n",
      "Best: Epoch 16 \t loss=0.01516 \t val_loss=0.01777 \t sm_loss=0.01536 \t sm_val_loss=0.01777 \t time=0.93s\n",
      "Best: Epoch 18 \t loss=0.01421 \t val_loss=0.01773 \t sm_loss=0.01443 \t sm_val_loss=0.01770 \t time=0.94s\n",
      "Fold 4 log loss: 0.017798229706202002\n",
      "Fold 5\n",
      "Best: Epoch 1 \t loss=0.41551 \t val_loss=0.02249 \t sm_loss=0.41542 \t sm_val_loss=0.02247 \t time=1.21s\n",
      "Best: Epoch 2 \t loss=0.02024 \t val_loss=0.01917 \t sm_loss=0.02015 \t sm_val_loss=0.01917 \t time=0.91s\n",
      "Best: Epoch 4 \t loss=0.01747 \t val_loss=0.01793 \t sm_loss=0.01757 \t sm_val_loss=0.01792 \t time=1.50s\n",
      "Best: Epoch 5 \t loss=0.01733 \t val_loss=0.01780 \t sm_loss=0.01745 \t sm_val_loss=0.01778 \t time=1.27s\n",
      "Best: Epoch 9 \t loss=0.01708 \t val_loss=0.01771 \t sm_loss=0.01721 \t sm_val_loss=0.01769 \t time=0.96s\n",
      "Best: Epoch 11 \t loss=0.01681 \t val_loss=0.01734 \t sm_loss=0.01695 \t sm_val_loss=0.01732 \t time=0.91s\n",
      "Best: Epoch 14 \t loss=0.01610 \t val_loss=0.01729 \t sm_loss=0.01627 \t sm_val_loss=0.01729 \t time=0.90s\n",
      "Best: Epoch 15 \t loss=0.01581 \t val_loss=0.01714 \t sm_loss=0.01599 \t sm_val_loss=0.01715 \t time=0.93s\n",
      "Best: Epoch 16 \t loss=0.01536 \t val_loss=0.01717 \t sm_loss=0.01556 \t sm_val_loss=0.01715 \t time=0.91s\n",
      "Best: Epoch 17 \t loss=0.01489 \t val_loss=0.01718 \t sm_loss=0.01509 \t sm_val_loss=0.01714 \t time=0.93s\n",
      "Best: Epoch 18 \t loss=0.01438 \t val_loss=0.01703 \t sm_loss=0.01460 \t sm_val_loss=0.01702 \t time=0.91s\n",
      "Best: Epoch 19 \t loss=0.01402 \t val_loss=0.01699 \t sm_loss=0.01424 \t sm_val_loss=0.01698 \t time=0.92s\n",
      "Fold 5 log loss: 0.017226386603515935\n",
      "Fold 6\n",
      "Best: Epoch 1 \t loss=0.41419 \t val_loss=0.02271 \t sm_loss=0.41414 \t sm_val_loss=0.02267 \t time=1.15s\n",
      "Best: Epoch 3 \t loss=0.01864 \t val_loss=0.01932 \t sm_loss=0.01864 \t sm_val_loss=0.01935 \t time=0.92s\n",
      "Best: Epoch 4 \t loss=0.01751 \t val_loss=0.01822 \t sm_loss=0.01762 \t sm_val_loss=0.01829 \t time=0.91s\n",
      "Best: Epoch 5 \t loss=0.01735 \t val_loss=0.01809 \t sm_loss=0.01747 \t sm_val_loss=0.01817 \t time=0.92s\n",
      "Best: Epoch 8 \t loss=0.01721 \t val_loss=0.01802 \t sm_loss=0.01733 \t sm_val_loss=0.01808 \t time=0.94s\n",
      "Best: Epoch 9 \t loss=0.01713 \t val_loss=0.01788 \t sm_loss=0.01725 \t sm_val_loss=0.01796 \t time=0.92s\n",
      "Best: Epoch 10 \t loss=0.01703 \t val_loss=0.01763 \t sm_loss=0.01716 \t sm_val_loss=0.01770 \t time=0.92s\n",
      "Best: Epoch 12 \t loss=0.01670 \t val_loss=0.01761 \t sm_loss=0.01684 \t sm_val_loss=0.01770 \t time=1.07s\n",
      "Best: Epoch 13 \t loss=0.01645 \t val_loss=0.01747 \t sm_loss=0.01660 \t sm_val_loss=0.01756 \t time=1.11s\n",
      "Best: Epoch 15 \t loss=0.01584 \t val_loss=0.01734 \t sm_loss=0.01602 \t sm_val_loss=0.01741 \t time=1.06s\n",
      "Best: Epoch 16 \t loss=0.01534 \t val_loss=0.01730 \t sm_loss=0.01553 \t sm_val_loss=0.01739 \t time=1.11s\n",
      "Best: Epoch 17 \t loss=0.01487 \t val_loss=0.01729 \t sm_loss=0.01507 \t sm_val_loss=0.01739 \t time=0.92s\n",
      "Best: Epoch 18 \t loss=0.01440 \t val_loss=0.01720 \t sm_loss=0.01461 \t sm_val_loss=0.01730 \t time=0.96s\n",
      "Fold 6 log loss: 0.017337387919442667\n",
      "Fold 7\n",
      "Best: Epoch 1 \t loss=0.41589 \t val_loss=0.02248 \t sm_loss=0.41583 \t sm_val_loss=0.02246 \t time=0.92s\n",
      "Best: Epoch 2 \t loss=0.02000 \t val_loss=0.01889 \t sm_loss=0.01997 \t sm_val_loss=0.01889 \t time=1.17s\n",
      "Best: Epoch 3 \t loss=0.01803 \t val_loss=0.01794 \t sm_loss=0.01807 \t sm_val_loss=0.01799 \t time=0.92s\n",
      "Best: Epoch 5 \t loss=0.01732 \t val_loss=0.01789 \t sm_loss=0.01745 \t sm_val_loss=0.01793 \t time=0.91s\n",
      "Best: Epoch 7 \t loss=0.01726 \t val_loss=0.01782 \t sm_loss=0.01738 \t sm_val_loss=0.01787 \t time=0.96s\n",
      "Best: Epoch 9 \t loss=0.01713 \t val_loss=0.01768 \t sm_loss=0.01725 \t sm_val_loss=0.01772 \t time=0.97s\n",
      "Best: Epoch 11 \t loss=0.01681 \t val_loss=0.01744 \t sm_loss=0.01695 \t sm_val_loss=0.01754 \t time=0.92s\n",
      "Best: Epoch 13 \t loss=0.01639 \t val_loss=0.01723 \t sm_loss=0.01654 \t sm_val_loss=0.01730 \t time=1.19s\n",
      "Best: Epoch 14 \t loss=0.01612 \t val_loss=0.01708 \t sm_loss=0.01629 \t sm_val_loss=0.01715 \t time=0.92s\n",
      "Best: Epoch 17 \t loss=0.01485 \t val_loss=0.01695 \t sm_loss=0.01506 \t sm_val_loss=0.01704 \t time=0.93s\n",
      "Best: Epoch 18 \t loss=0.01433 \t val_loss=0.01694 \t sm_loss=0.01455 \t sm_val_loss=0.01701 \t time=0.92s\n",
      "Best: Epoch 19 \t loss=0.01395 \t val_loss=0.01691 \t sm_loss=0.01417 \t sm_val_loss=0.01699 \t time=0.93s\n",
      "Fold 7 log loss: 0.017003615800389577\n",
      "Seed 2\n",
      "Fold 1 log loss: 0.01712792568290536\n",
      "Fold 2 log loss: 0.0170276874226804\n",
      "Fold 3 log loss: 0.017456709943677658\n",
      "Fold 4 log loss: 0.017798229706202002\n",
      "Fold 5 log loss: 0.017226386603515935\n",
      "Fold 6 log loss: 0.017337387919442667\n",
      "Fold 7 log loss: 0.017003615800389577\n",
      "Std of log loss: 0.0002588674975772707\n",
      "Total log loss: 0.01728228118210074\n",
      "Fold 1\n",
      "Best: Epoch 1 \t loss=0.41347 \t val_loss=0.02276 \t sm_loss=0.41341 \t sm_val_loss=0.02275 \t time=1.39s\n",
      "Best: Epoch 2 \t loss=0.02014 \t val_loss=0.01956 \t sm_loss=0.02010 \t sm_val_loss=0.01935 \t time=1.01s\n",
      "Best: Epoch 3 \t loss=0.01814 \t val_loss=0.01799 \t sm_loss=0.01814 \t sm_val_loss=0.01800 \t time=0.98s\n",
      "Best: Epoch 4 \t loss=0.01741 \t val_loss=0.01786 \t sm_loss=0.01751 \t sm_val_loss=0.01789 \t time=1.33s\n",
      "Best: Epoch 5 \t loss=0.01728 \t val_loss=0.01786 \t sm_loss=0.01739 \t sm_val_loss=0.01781 \t time=1.00s\n",
      "Best: Epoch 6 \t loss=0.01720 \t val_loss=0.01768 \t sm_loss=0.01733 \t sm_val_loss=0.01767 \t time=0.93s\n",
      "Best: Epoch 10 \t loss=0.01699 \t val_loss=0.01759 \t sm_loss=0.01712 \t sm_val_loss=0.01760 \t time=0.98s\n",
      "Best: Epoch 13 \t loss=0.01650 \t val_loss=0.01743 \t sm_loss=0.01665 \t sm_val_loss=0.01747 \t time=0.93s\n",
      "Best: Epoch 14 \t loss=0.01611 \t val_loss=0.01732 \t sm_loss=0.01627 \t sm_val_loss=0.01732 \t time=0.94s\n",
      "Best: Epoch 15 \t loss=0.01582 \t val_loss=0.01726 \t sm_loss=0.01599 \t sm_val_loss=0.01727 \t time=0.93s\n",
      "Best: Epoch 16 \t loss=0.01534 \t val_loss=0.01710 \t sm_loss=0.01553 \t sm_val_loss=0.01712 \t time=0.94s\n",
      "Best: Epoch 17 \t loss=0.01486 \t val_loss=0.01710 \t sm_loss=0.01507 \t sm_val_loss=0.01710 \t time=0.92s\n",
      "Best: Epoch 18 \t loss=0.01433 \t val_loss=0.01704 \t sm_loss=0.01455 \t sm_val_loss=0.01705 \t time=0.92s\n",
      "Best: Epoch 19 \t loss=0.01390 \t val_loss=0.01700 \t sm_loss=0.01413 \t sm_val_loss=0.01701 \t time=0.91s\n",
      "Fold 1 log loss: 0.01711172813255759\n",
      "Fold 2\n",
      "Best: Epoch 1 \t loss=0.41332 \t val_loss=0.02211 \t sm_loss=0.41328 \t sm_val_loss=0.02211 \t time=1.15s\n",
      "Best: Epoch 2 \t loss=0.02021 \t val_loss=0.01886 \t sm_loss=0.02015 \t sm_val_loss=0.01882 \t time=0.93s\n",
      "Best: Epoch 3 \t loss=0.01811 \t val_loss=0.01765 \t sm_loss=0.01817 \t sm_val_loss=0.01771 \t time=0.92s\n",
      "Best: Epoch 4 \t loss=0.01742 \t val_loss=0.01745 \t sm_loss=0.01754 \t sm_val_loss=0.01749 \t time=0.93s\n",
      "Best: Epoch 5 \t loss=0.01731 \t val_loss=0.01744 \t sm_loss=0.01743 \t sm_val_loss=0.01747 \t time=0.91s\n",
      "Best: Epoch 9 \t loss=0.01714 \t val_loss=0.01738 \t sm_loss=0.01727 \t sm_val_loss=0.01738 \t time=0.91s\n",
      "Best: Epoch 12 \t loss=0.01669 \t val_loss=0.01722 \t sm_loss=0.01684 \t sm_val_loss=0.01727 \t time=1.03s\n",
      "Best: Epoch 13 \t loss=0.01648 \t val_loss=0.01718 \t sm_loss=0.01663 \t sm_val_loss=0.01718 \t time=1.08s\n",
      "Best: Epoch 14 \t loss=0.01623 \t val_loss=0.01693 \t sm_loss=0.01638 \t sm_val_loss=0.01697 \t time=0.92s\n",
      "Best: Epoch 15 \t loss=0.01582 \t val_loss=0.01696 \t sm_loss=0.01600 \t sm_val_loss=0.01697 \t time=0.99s\n",
      "Best: Epoch 16 \t loss=0.01537 \t val_loss=0.01693 \t sm_loss=0.01556 \t sm_val_loss=0.01694 \t time=1.21s\n",
      "Best: Epoch 17 \t loss=0.01491 \t val_loss=0.01686 \t sm_loss=0.01511 \t sm_val_loss=0.01690 \t time=0.93s\n",
      "Best: Epoch 19 \t loss=0.01409 \t val_loss=0.01680 \t sm_loss=0.01432 \t sm_val_loss=0.01681 \t time=0.93s\n",
      "Fold 2 log loss: 0.016940450431488237\n",
      "Fold 3\n",
      "Best: Epoch 1 \t loss=0.41520 \t val_loss=0.02250 \t sm_loss=0.41516 \t sm_val_loss=0.02249 \t time=0.94s\n",
      "Best: Epoch 2 \t loss=0.02007 \t val_loss=0.01913 \t sm_loss=0.02003 \t sm_val_loss=0.01914 \t time=1.17s\n",
      "Best: Epoch 3 \t loss=0.01797 \t val_loss=0.01822 \t sm_loss=0.01801 \t sm_val_loss=0.01825 \t time=0.93s\n",
      "Best: Epoch 7 \t loss=0.01728 \t val_loss=0.01804 \t sm_loss=0.01740 \t sm_val_loss=0.01804 \t time=0.91s\n",
      "Best: Epoch 10 \t loss=0.01699 \t val_loss=0.01799 \t sm_loss=0.01712 \t sm_val_loss=0.01800 \t time=0.91s\n",
      "Best: Epoch 11 \t loss=0.01677 \t val_loss=0.01794 \t sm_loss=0.01691 \t sm_val_loss=0.01795 \t time=0.93s\n",
      "Best: Epoch 12 \t loss=0.01665 \t val_loss=0.01789 \t sm_loss=0.01679 \t sm_val_loss=0.01791 \t time=0.92s\n",
      "Best: Epoch 13 \t loss=0.01633 \t val_loss=0.01772 \t sm_loss=0.01648 \t sm_val_loss=0.01770 \t time=1.14s\n",
      "Best: Epoch 15 \t loss=0.01570 \t val_loss=0.01762 \t sm_loss=0.01588 \t sm_val_loss=0.01763 \t time=0.93s\n",
      "Best: Epoch 16 \t loss=0.01532 \t val_loss=0.01754 \t sm_loss=0.01551 \t sm_val_loss=0.01753 \t time=1.24s\n",
      "Best: Epoch 17 \t loss=0.01484 \t val_loss=0.01751 \t sm_loss=0.01504 \t sm_val_loss=0.01750 \t time=0.99s\n",
      "Best: Epoch 19 \t loss=0.01393 \t val_loss=0.01748 \t sm_loss=0.01415 \t sm_val_loss=0.01746 \t time=0.96s\n",
      "Fold 3 log loss: 0.01740765793787853\n",
      "Fold 4\n",
      "Best: Epoch 1 \t loss=0.41411 \t val_loss=0.02374 \t sm_loss=0.41406 \t sm_val_loss=0.02368 \t time=0.98s\n",
      "Best: Epoch 2 \t loss=0.01992 \t val_loss=0.02260 \t sm_loss=0.01990 \t sm_val_loss=0.02246 \t time=0.97s\n",
      "Best: Epoch 3 \t loss=0.01831 \t val_loss=0.01870 \t sm_loss=0.01835 \t sm_val_loss=0.01864 \t time=1.13s\n",
      "Best: Epoch 5 \t loss=0.01726 \t val_loss=0.01851 \t sm_loss=0.01739 \t sm_val_loss=0.01848 \t time=1.19s\n",
      "Best: Epoch 6 \t loss=0.01719 \t val_loss=0.01824 \t sm_loss=0.01733 \t sm_val_loss=0.01825 \t time=1.09s\n",
      "Best: Epoch 9 \t loss=0.01705 \t val_loss=0.01816 \t sm_loss=0.01718 \t sm_val_loss=0.01814 \t time=0.97s\n",
      "Best: Epoch 11 \t loss=0.01672 \t val_loss=0.01786 \t sm_loss=0.01687 \t sm_val_loss=0.01784 \t time=0.95s\n",
      "Best: Epoch 14 \t loss=0.01597 \t val_loss=0.01776 \t sm_loss=0.01615 \t sm_val_loss=0.01775 \t time=0.90s\n",
      "Best: Epoch 16 \t loss=0.01523 \t val_loss=0.01773 \t sm_loss=0.01542 \t sm_val_loss=0.01771 \t time=0.92s\n",
      "Fold 4 log loss: 0.017820707860637372\n",
      "Fold 5\n",
      "Best: Epoch 1 \t loss=0.41427 \t val_loss=0.02245 \t sm_loss=0.41423 \t sm_val_loss=0.02244 \t time=0.95s\n",
      "Best: Epoch 2 \t loss=0.02002 \t val_loss=0.01891 \t sm_loss=0.01997 \t sm_val_loss=0.01893 \t time=0.99s\n",
      "Best: Epoch 3 \t loss=0.01830 \t val_loss=0.01846 \t sm_loss=0.01828 \t sm_val_loss=0.01844 \t time=1.12s\n",
      "Best: Epoch 4 \t loss=0.01760 \t val_loss=0.01802 \t sm_loss=0.01770 \t sm_val_loss=0.01803 \t time=0.94s\n",
      "Best: Epoch 5 \t loss=0.01722 \t val_loss=0.01782 \t sm_loss=0.01735 \t sm_val_loss=0.01780 \t time=0.93s\n",
      "Best: Epoch 8 \t loss=0.01718 \t val_loss=0.01762 \t sm_loss=0.01730 \t sm_val_loss=0.01764 \t time=0.92s\n",
      "Best: Epoch 11 \t loss=0.01684 \t val_loss=0.01752 \t sm_loss=0.01698 \t sm_val_loss=0.01752 \t time=0.91s\n",
      "Best: Epoch 12 \t loss=0.01665 \t val_loss=0.01741 \t sm_loss=0.01680 \t sm_val_loss=0.01742 \t time=0.91s\n",
      "Best: Epoch 14 \t loss=0.01613 \t val_loss=0.01725 \t sm_loss=0.01630 \t sm_val_loss=0.01723 \t time=1.19s\n",
      "Best: Epoch 15 \t loss=0.01574 \t val_loss=0.01716 \t sm_loss=0.01592 \t sm_val_loss=0.01716 \t time=0.91s\n",
      "Best: Epoch 16 \t loss=0.01532 \t val_loss=0.01715 \t sm_loss=0.01552 \t sm_val_loss=0.01716 \t time=0.91s\n",
      "Best: Epoch 17 \t loss=0.01487 \t val_loss=0.01706 \t sm_loss=0.01507 \t sm_val_loss=0.01706 \t time=1.26s\n",
      "Best: Epoch 18 \t loss=0.01440 \t val_loss=0.01703 \t sm_loss=0.01462 \t sm_val_loss=0.01704 \t time=0.95s\n",
      "Best: Epoch 20 \t loss=0.01375 \t val_loss=0.01703 \t sm_loss=0.01398 \t sm_val_loss=0.01702 \t time=0.90s\n",
      "Fold 5 log loss: 0.01725900450075646\n",
      "Fold 6\n",
      "Best: Epoch 1 \t loss=0.41332 \t val_loss=0.02351 \t sm_loss=0.41327 \t sm_val_loss=0.02348 \t time=0.93s\n",
      "Best: Epoch 2 \t loss=0.02007 \t val_loss=0.02055 \t sm_loss=0.02003 \t sm_val_loss=0.02041 \t time=0.94s\n",
      "Best: Epoch 3 \t loss=0.01826 \t val_loss=0.01960 \t sm_loss=0.01825 \t sm_val_loss=0.01966 \t time=1.11s\n",
      "Best: Epoch 4 \t loss=0.01755 \t val_loss=0.01829 \t sm_loss=0.01766 \t sm_val_loss=0.01836 \t time=0.96s\n",
      "Best: Epoch 7 \t loss=0.01727 \t val_loss=0.01801 \t sm_loss=0.01739 \t sm_val_loss=0.01807 \t time=0.94s\n",
      "Best: Epoch 8 \t loss=0.01723 \t val_loss=0.01791 \t sm_loss=0.01735 \t sm_val_loss=0.01798 \t time=0.95s\n",
      "Best: Epoch 9 \t loss=0.01718 \t val_loss=0.01781 \t sm_loss=0.01729 \t sm_val_loss=0.01789 \t time=0.93s\n",
      "Best: Epoch 11 \t loss=0.01699 \t val_loss=0.01759 \t sm_loss=0.01711 \t sm_val_loss=0.01767 \t time=1.41s\n",
      "Best: Epoch 13 \t loss=0.01659 \t val_loss=0.01747 \t sm_loss=0.01673 \t sm_val_loss=0.01753 \t time=1.00s\n",
      "Best: Epoch 15 \t loss=0.01589 \t val_loss=0.01725 \t sm_loss=0.01607 \t sm_val_loss=0.01735 \t time=1.34s\n",
      "Best: Epoch 16 \t loss=0.01544 \t val_loss=0.01722 \t sm_loss=0.01563 \t sm_val_loss=0.01732 \t time=1.15s\n",
      "Fold 6 log loss: 0.017343777863800484\n",
      "Fold 7\n",
      "Best: Epoch 1 \t loss=0.41412 \t val_loss=0.02265 \t sm_loss=0.41407 \t sm_val_loss=0.02263 \t time=0.91s\n",
      "Best: Epoch 2 \t loss=0.01998 \t val_loss=0.01882 \t sm_loss=0.01996 \t sm_val_loss=0.01884 \t time=0.92s\n",
      "Best: Epoch 3 \t loss=0.01807 \t val_loss=0.01793 \t sm_loss=0.01810 \t sm_val_loss=0.01800 \t time=1.16s\n",
      "Best: Epoch 4 \t loss=0.01749 \t val_loss=0.01770 \t sm_loss=0.01759 \t sm_val_loss=0.01776 \t time=0.92s\n",
      "Best: Epoch 6 \t loss=0.01729 \t val_loss=0.01767 \t sm_loss=0.01742 \t sm_val_loss=0.01774 \t time=1.07s\n",
      "Best: Epoch 9 \t loss=0.01710 \t val_loss=0.01755 \t sm_loss=0.01723 \t sm_val_loss=0.01763 \t time=0.91s\n",
      "Best: Epoch 10 \t loss=0.01697 \t val_loss=0.01751 \t sm_loss=0.01710 \t sm_val_loss=0.01758 \t time=0.90s\n",
      "Best: Epoch 11 \t loss=0.01687 \t val_loss=0.01740 \t sm_loss=0.01700 \t sm_val_loss=0.01746 \t time=0.90s\n",
      "Best: Epoch 13 \t loss=0.01645 \t val_loss=0.01739 \t sm_loss=0.01660 \t sm_val_loss=0.01745 \t time=0.94s\n",
      "Best: Epoch 14 \t loss=0.01611 \t val_loss=0.01710 \t sm_loss=0.01627 \t sm_val_loss=0.01718 \t time=1.20s\n",
      "Best: Epoch 15 \t loss=0.01571 \t val_loss=0.01700 \t sm_loss=0.01589 \t sm_val_loss=0.01709 \t time=0.93s\n",
      "Best: Epoch 17 \t loss=0.01478 \t val_loss=0.01691 \t sm_loss=0.01499 \t sm_val_loss=0.01698 \t time=0.91s\n",
      "Fold 7 log loss: 0.017013387238288363\n",
      "Seed 3\n",
      "Fold 1 log loss: 0.01711172813255759\n",
      "Fold 2 log loss: 0.016940450431488237\n",
      "Fold 3 log loss: 0.01740765793787853\n",
      "Fold 4 log loss: 0.017820707860637372\n",
      "Fold 5 log loss: 0.01725900450075646\n",
      "Fold 6 log loss: 0.017343777863800484\n",
      "Fold 7 log loss: 0.017013387238288363\n",
      "Std of log loss: 0.0002744577776020578\n",
      "Total log loss: 0.017270915641819436\n",
      "Fold 1\n",
      "Best: Epoch 1 \t loss=0.41529 \t val_loss=0.02262 \t sm_loss=0.41524 \t sm_val_loss=0.02259 \t time=0.93s\n",
      "Best: Epoch 2 \t loss=0.01997 \t val_loss=0.02291 \t sm_loss=0.01992 \t sm_val_loss=0.02252 \t time=0.94s\n",
      "Best: Epoch 3 \t loss=0.01826 \t val_loss=0.01806 \t sm_loss=0.01825 \t sm_val_loss=0.01808 \t time=1.12s\n",
      "Best: Epoch 4 \t loss=0.01788 \t val_loss=0.01799 \t sm_loss=0.01796 \t sm_val_loss=0.01802 \t time=1.01s\n",
      "Best: Epoch 5 \t loss=0.01738 \t val_loss=0.01797 \t sm_loss=0.01749 \t sm_val_loss=0.01798 \t time=0.92s\n",
      "Best: Epoch 6 \t loss=0.01718 \t val_loss=0.01791 \t sm_loss=0.01731 \t sm_val_loss=0.01788 \t time=0.90s\n",
      "Best: Epoch 8 \t loss=0.01715 \t val_loss=0.01781 \t sm_loss=0.01729 \t sm_val_loss=0.01782 \t time=0.91s\n",
      "Best: Epoch 9 \t loss=0.01707 \t val_loss=0.01757 \t sm_loss=0.01720 \t sm_val_loss=0.01760 \t time=0.91s\n",
      "Best: Epoch 11 \t loss=0.01685 \t val_loss=0.01746 \t sm_loss=0.01699 \t sm_val_loss=0.01750 \t time=0.90s\n",
      "Best: Epoch 13 \t loss=0.01651 \t val_loss=0.01740 \t sm_loss=0.01666 \t sm_val_loss=0.01741 \t time=0.92s\n",
      "Best: Epoch 15 \t loss=0.01575 \t val_loss=0.01724 \t sm_loss=0.01593 \t sm_val_loss=0.01726 \t time=0.90s\n",
      "Best: Epoch 16 \t loss=0.01536 \t val_loss=0.01709 \t sm_loss=0.01555 \t sm_val_loss=0.01711 \t time=0.91s\n",
      "Best: Epoch 17 \t loss=0.01482 \t val_loss=0.01708 \t sm_loss=0.01503 \t sm_val_loss=0.01710 \t time=0.92s\n",
      "Fold 1 log loss: 0.017206151563315095\n",
      "Fold 2\n",
      "Best: Epoch 1 \t loss=0.41292 \t val_loss=0.02196 \t sm_loss=0.41286 \t sm_val_loss=0.02195 \t time=0.92s\n",
      "Best: Epoch 2 \t loss=0.02016 \t val_loss=0.02014 \t sm_loss=0.02010 \t sm_val_loss=0.02015 \t time=0.93s\n",
      "Best: Epoch 3 \t loss=0.01883 \t val_loss=0.01764 \t sm_loss=0.01880 \t sm_val_loss=0.01770 \t time=0.92s\n",
      "Best: Epoch 5 \t loss=0.01744 \t val_loss=0.01759 \t sm_loss=0.01757 \t sm_val_loss=0.01766 \t time=1.35s\n",
      "Best: Epoch 6 \t loss=0.01730 \t val_loss=0.01746 \t sm_loss=0.01743 \t sm_val_loss=0.01746 \t time=1.24s\n",
      "Best: Epoch 10 \t loss=0.01707 \t val_loss=0.01743 \t sm_loss=0.01720 \t sm_val_loss=0.01743 \t time=0.95s\n",
      "Best: Epoch 11 \t loss=0.01686 \t val_loss=0.01724 \t sm_loss=0.01700 \t sm_val_loss=0.01720 \t time=0.98s\n",
      "Best: Epoch 12 \t loss=0.01672 \t val_loss=0.01711 \t sm_loss=0.01687 \t sm_val_loss=0.01712 \t time=0.98s\n",
      "Best: Epoch 14 \t loss=0.01621 \t val_loss=0.01702 \t sm_loss=0.01638 \t sm_val_loss=0.01707 \t time=0.96s\n",
      "Best: Epoch 15 \t loss=0.01582 \t val_loss=0.01696 \t sm_loss=0.01600 \t sm_val_loss=0.01698 \t time=1.09s\n",
      "Best: Epoch 18 \t loss=0.01440 \t val_loss=0.01682 \t sm_loss=0.01463 \t sm_val_loss=0.01684 \t time=0.90s\n",
      "Fold 2 log loss: 0.01698112374903133\n",
      "Fold 3\n",
      "Best: Epoch 1 \t loss=0.41419 \t val_loss=0.02258 \t sm_loss=0.41414 \t sm_val_loss=0.02257 \t time=0.92s\n",
      "Best: Epoch 2 \t loss=0.02006 \t val_loss=0.01911 \t sm_loss=0.02000 \t sm_val_loss=0.01915 \t time=0.91s\n",
      "Best: Epoch 3 \t loss=0.01783 \t val_loss=0.01828 \t sm_loss=0.01790 \t sm_val_loss=0.01832 \t time=0.91s\n",
      "Best: Epoch 4 \t loss=0.01741 \t val_loss=0.01839 \t sm_loss=0.01751 \t sm_val_loss=0.01831 \t time=1.17s\n",
      "Best: Epoch 5 \t loss=0.01726 \t val_loss=0.01814 \t sm_loss=0.01739 \t sm_val_loss=0.01815 \t time=0.91s\n",
      "Best: Epoch 12 \t loss=0.01660 \t val_loss=0.01800 \t sm_loss=0.01674 \t sm_val_loss=0.01799 \t time=0.91s\n",
      "Best: Epoch 13 \t loss=0.01632 \t val_loss=0.01768 \t sm_loss=0.01648 \t sm_val_loss=0.01771 \t time=0.91s\n",
      "Best: Epoch 15 \t loss=0.01567 \t val_loss=0.01769 \t sm_loss=0.01585 \t sm_val_loss=0.01769 \t time=1.15s\n",
      "Best: Epoch 16 \t loss=0.01524 \t val_loss=0.01762 \t sm_loss=0.01544 \t sm_val_loss=0.01764 \t time=0.91s\n",
      "Best: Epoch 17 \t loss=0.01476 \t val_loss=0.01752 \t sm_loss=0.01496 \t sm_val_loss=0.01752 \t time=0.92s\n",
      "Fold 3 log loss: 0.017467068372082836\n",
      "Fold 4\n",
      "Best: Epoch 1 \t loss=0.41376 \t val_loss=0.02318 \t sm_loss=0.41371 \t sm_val_loss=0.02310 \t time=0.93s\n",
      "Best: Epoch 2 \t loss=0.02010 \t val_loss=0.02127 \t sm_loss=0.02007 \t sm_val_loss=0.02081 \t time=1.00s\n",
      "Best: Epoch 3 \t loss=0.01798 \t val_loss=0.01910 \t sm_loss=0.01804 \t sm_val_loss=0.01885 \t time=0.91s\n",
      "Best: Epoch 4 \t loss=0.01735 \t val_loss=0.01862 \t sm_loss=0.01747 \t sm_val_loss=0.01852 \t time=0.93s\n",
      "Best: Epoch 5 \t loss=0.01724 \t val_loss=0.01836 \t sm_loss=0.01736 \t sm_val_loss=0.01836 \t time=1.17s\n",
      "Best: Epoch 10 \t loss=0.01689 \t val_loss=0.01815 \t sm_loss=0.01702 \t sm_val_loss=0.01819 \t time=0.91s\n",
      "Best: Epoch 12 \t loss=0.01654 \t val_loss=0.01787 \t sm_loss=0.01669 \t sm_val_loss=0.01788 \t time=0.91s\n",
      "Best: Epoch 14 \t loss=0.01601 \t val_loss=0.01786 \t sm_loss=0.01618 \t sm_val_loss=0.01787 \t time=0.91s\n",
      "Best: Epoch 15 \t loss=0.01563 \t val_loss=0.01775 \t sm_loss=0.01581 \t sm_val_loss=0.01775 \t time=0.91s\n",
      "Best: Epoch 16 \t loss=0.01523 \t val_loss=0.01773 \t sm_loss=0.01542 \t sm_val_loss=0.01771 \t time=1.08s\n",
      "Fold 4 log loss: 0.017808994754718078\n",
      "Fold 5\n",
      "Best: Epoch 1 \t loss=0.41514 \t val_loss=0.02275 \t sm_loss=0.41507 \t sm_val_loss=0.02269 \t time=1.38s\n",
      "Best: Epoch 2 \t loss=0.02012 \t val_loss=0.01892 \t sm_loss=0.02008 \t sm_val_loss=0.01894 \t time=0.93s\n",
      "Best: Epoch 4 \t loss=0.01776 \t val_loss=0.01784 \t sm_loss=0.01780 \t sm_val_loss=0.01786 \t time=0.96s\n",
      "Best: Epoch 8 \t loss=0.01716 \t val_loss=0.01782 \t sm_loss=0.01728 \t sm_val_loss=0.01782 \t time=0.92s\n",
      "Best: Epoch 9 \t loss=0.01711 \t val_loss=0.01782 \t sm_loss=0.01724 \t sm_val_loss=0.01779 \t time=0.96s\n",
      "Best: Epoch 10 \t loss=0.01701 \t val_loss=0.01766 \t sm_loss=0.01715 \t sm_val_loss=0.01767 \t time=1.02s\n",
      "Best: Epoch 11 \t loss=0.01686 \t val_loss=0.01754 \t sm_loss=0.01700 \t sm_val_loss=0.01755 \t time=1.05s\n",
      "Best: Epoch 12 \t loss=0.01662 \t val_loss=0.01754 \t sm_loss=0.01677 \t sm_val_loss=0.01752 \t time=0.93s\n",
      "Best: Epoch 13 \t loss=0.01637 \t val_loss=0.01738 \t sm_loss=0.01652 \t sm_val_loss=0.01739 \t time=0.93s\n",
      "Best: Epoch 14 \t loss=0.01611 \t val_loss=0.01731 \t sm_loss=0.01628 \t sm_val_loss=0.01728 \t time=0.94s\n",
      "Best: Epoch 15 \t loss=0.01574 \t val_loss=0.01715 \t sm_loss=0.01593 \t sm_val_loss=0.01715 \t time=0.92s\n",
      "Best: Epoch 17 \t loss=0.01489 \t val_loss=0.01709 \t sm_loss=0.01510 \t sm_val_loss=0.01707 \t time=0.91s\n",
      "Best: Epoch 18 \t loss=0.01436 \t val_loss=0.01704 \t sm_loss=0.01459 \t sm_val_loss=0.01701 \t time=0.91s\n",
      "Best: Epoch 19 \t loss=0.01396 \t val_loss=0.01702 \t sm_loss=0.01419 \t sm_val_loss=0.01699 \t time=0.92s\n",
      "Fold 5 log loss: 0.017231949336735542\n",
      "Fold 6\n",
      "Best: Epoch 1 \t loss=0.41304 \t val_loss=0.02239 \t sm_loss=0.41298 \t sm_val_loss=0.02237 \t time=0.91s\n",
      "Best: Epoch 2 \t loss=0.02025 \t val_loss=0.02129 \t sm_loss=0.02019 \t sm_val_loss=0.02112 \t time=0.91s\n",
      "Best: Epoch 3 \t loss=0.01827 \t val_loss=0.01815 \t sm_loss=0.01831 \t sm_val_loss=0.01823 \t time=0.91s\n",
      "Best: Epoch 4 \t loss=0.01756 \t val_loss=0.01810 \t sm_loss=0.01766 \t sm_val_loss=0.01818 \t time=0.91s\n",
      "Best: Epoch 7 \t loss=0.01738 \t val_loss=0.01803 \t sm_loss=0.01749 \t sm_val_loss=0.01808 \t time=0.90s\n",
      "Best: Epoch 8 \t loss=0.01726 \t val_loss=0.01783 \t sm_loss=0.01738 \t sm_val_loss=0.01788 \t time=0.91s\n",
      "Best: Epoch 9 \t loss=0.01719 \t val_loss=0.01770 \t sm_loss=0.01731 \t sm_val_loss=0.01777 \t time=1.24s\n",
      "Best: Epoch 12 \t loss=0.01684 \t val_loss=0.01752 \t sm_loss=0.01697 \t sm_val_loss=0.01760 \t time=0.91s\n",
      "Best: Epoch 13 \t loss=0.01646 \t val_loss=0.01747 \t sm_loss=0.01660 \t sm_val_loss=0.01754 \t time=0.92s\n",
      "Best: Epoch 14 \t loss=0.01618 \t val_loss=0.01741 \t sm_loss=0.01634 \t sm_val_loss=0.01748 \t time=0.91s\n",
      "Best: Epoch 15 \t loss=0.01588 \t val_loss=0.01739 \t sm_loss=0.01605 \t sm_val_loss=0.01747 \t time=0.95s\n",
      "Best: Epoch 16 \t loss=0.01559 \t val_loss=0.01727 \t sm_loss=0.01577 \t sm_val_loss=0.01735 \t time=0.95s\n",
      "Best: Epoch 18 \t loss=0.01454 \t val_loss=0.01720 \t sm_loss=0.01474 \t sm_val_loss=0.01729 \t time=0.92s\n",
      "Fold 6 log loss: 0.017324238965999262\n",
      "Fold 7\n",
      "Best: Epoch 1 \t loss=0.41454 \t val_loss=0.02261 \t sm_loss=0.41449 \t sm_val_loss=0.02261 \t time=0.90s\n",
      "Best: Epoch 3 \t loss=0.01819 \t val_loss=0.01815 \t sm_loss=0.01823 \t sm_val_loss=0.01821 \t time=0.93s\n",
      "Best: Epoch 4 \t loss=0.01745 \t val_loss=0.01788 \t sm_loss=0.01757 \t sm_val_loss=0.01794 \t time=0.91s\n",
      "Best: Epoch 5 \t loss=0.01731 \t val_loss=0.01781 \t sm_loss=0.01743 \t sm_val_loss=0.01789 \t time=0.91s\n",
      "Best: Epoch 9 \t loss=0.01710 \t val_loss=0.01760 \t sm_loss=0.01723 \t sm_val_loss=0.01764 \t time=0.91s\n",
      "Best: Epoch 12 \t loss=0.01671 \t val_loss=0.01726 \t sm_loss=0.01685 \t sm_val_loss=0.01735 \t time=0.91s\n",
      "Best: Epoch 14 \t loss=0.01611 \t val_loss=0.01726 \t sm_loss=0.01628 \t sm_val_loss=0.01733 \t time=0.91s\n",
      "Best: Epoch 15 \t loss=0.01578 \t val_loss=0.01714 \t sm_loss=0.01596 \t sm_val_loss=0.01720 \t time=0.91s\n",
      "Best: Epoch 16 \t loss=0.01532 \t val_loss=0.01694 \t sm_loss=0.01551 \t sm_val_loss=0.01701 \t time=0.91s\n",
      "Best: Epoch 18 \t loss=0.01434 \t val_loss=0.01687 \t sm_loss=0.01455 \t sm_val_loss=0.01693 \t time=1.40s\n",
      "Best: Epoch 19 \t loss=0.01392 \t val_loss=0.01685 \t sm_loss=0.01414 \t sm_val_loss=0.01691 \t time=1.24s\n",
      "Fold 7 log loss: 0.01693578292753808\n",
      "Seed 4\n",
      "Fold 1 log loss: 0.017206151563315095\n",
      "Fold 2 log loss: 0.01698112374903133\n",
      "Fold 3 log loss: 0.017467068372082836\n",
      "Fold 4 log loss: 0.017808994754718078\n",
      "Fold 5 log loss: 0.017231949336735542\n",
      "Fold 6 log loss: 0.017324238965999262\n",
      "Fold 7 log loss: 0.01693578292753808\n",
      "Std of log loss: 0.00027577393276039723\n",
      "Total log loss: 0.0172791742360093\n",
      "Total log loss in targets: 0.017041987556200573\n"
     ]
    }
   ],
   "source": [
    "seeds = [0,1,2,3,4] \n",
    "target_oof = np.zeros([len(fn_train),fn_targets.shape[1]])\n",
    "target_pred = np.zeros([len(fn_test),fn_targets.shape[1]])\n",
    "\n",
    "for seed_ in seeds:\n",
    "    oof, oof_targets, pytorch_pred = modelling_torch(fn_train, fn_targets, fn_test, seed_, fn_train.shape[1]-1, fn_targets.shape[1], 20)\n",
    "    target_oof += oof / len(seeds)\n",
    "    target_pred += pytorch_pred / len(seeds)\n",
    "\n",
    "print(\"Total log loss in targets: {}\".format(mean_log_loss(oof_targets, target_oof)))"
   ]
  },
  {
   "cell_type": "code",
   "execution_count": 20,
   "metadata": {
    "execution": {
     "iopub.execute_input": "2020-11-08T09:48:28.647542Z",
     "iopub.status.busy": "2020-11-08T09:48:28.646505Z",
     "iopub.status.idle": "2020-11-08T09:48:29.896919Z",
     "shell.execute_reply": "2020-11-08T09:48:29.897736Z"
    },
    "papermill": {
     "duration": 1.459308,
     "end_time": "2020-11-08T09:48:29.897893",
     "exception": false,
     "start_time": "2020-11-08T09:48:28.438585",
     "status": "completed"
    },
    "tags": []
   },
   "outputs": [
    {
     "name": "stdout",
     "output_type": "stream",
     "text": [
      "Overall AUC : 0.6451994881916416\n"
     ]
    }
   ],
   "source": [
    "aucs = []\n",
    "for task_id in range(targets.shape[1]-1):\n",
    "    aucs.append(roc_auc_score(y_true=targets.iloc[:, task_id+1].values,\n",
    "                              y_score=target_oof[:, task_id]))\n",
    "print(f\"Overall AUC : {np.mean(aucs)}\")"
   ]
  },
  {
   "cell_type": "code",
   "execution_count": 21,
   "metadata": {
    "execution": {
     "iopub.execute_input": "2020-11-08T09:48:30.337294Z",
     "iopub.status.busy": "2020-11-08T09:48:30.336347Z",
     "iopub.status.idle": "2020-11-08T09:48:36.851863Z",
     "shell.execute_reply": "2020-11-08T09:48:36.850924Z"
    },
    "papermill": {
     "duration": 6.734557,
     "end_time": "2020-11-08T09:48:36.852013",
     "exception": false,
     "start_time": "2020-11-08T09:48:30.117456",
     "status": "completed"
    },
    "tags": []
   },
   "outputs": [
    {
     "name": "stdout",
     "output_type": "stream",
     "text": [
      "OOF log loss:  0.01570662395580294\n"
     ]
    }
   ],
   "source": [
    "t = pd.read_csv(DATA_DIR + 'train_targets_scored.csv')\n",
    "train_checkscore = t.copy()\n",
    "train_checkscore.loc[train_checkscore.index.isin(cons_train_index),target_feats] = target_oof\n",
    "train_checkscore.loc[train_checkscore.index.isin(noncons_train_index),target_feats] = 0\n",
    "t.drop(\"sig_id\", axis=1, inplace=True)\n",
    "print('OOF log loss: ', log_loss(np.ravel(t), np.ravel(np.array(train_checkscore.iloc[:,1:]))))"
   ]
  },
  {
   "cell_type": "code",
   "execution_count": 22,
   "metadata": {
    "execution": {
     "iopub.execute_input": "2020-11-08T09:48:37.269679Z",
     "iopub.status.busy": "2020-11-08T09:48:37.268288Z",
     "iopub.status.idle": "2020-11-08T09:48:39.917276Z",
     "shell.execute_reply": "2020-11-08T09:48:39.915919Z"
    },
    "papermill": {
     "duration": 2.861077,
     "end_time": "2020-11-08T09:48:39.917423",
     "exception": false,
     "start_time": "2020-11-08T09:48:37.056346",
     "status": "completed"
    },
    "tags": []
   },
   "outputs": [],
   "source": [
    "sub.loc[cons_test_index,target_feats] = target_pred\n",
    "sub.loc[noncons_test_index,target_feats] = 0\n",
    "sub.to_csv('submission.csv', index=False)"
   ]
  }
 ],
 "metadata": {
  "kernelspec": {
   "display_name": "Python 3",
   "language": "python",
   "name": "python3"
  },
  "language_info": {
   "codemirror_mode": {
    "name": "ipython",
    "version": 3
   },
   "file_extension": ".py",
   "mimetype": "text/x-python",
   "name": "python",
   "nbconvert_exporter": "python",
   "pygments_lexer": "ipython3",
   "version": "3.7.6"
  },
  "papermill": {
   "duration": 821.800249,
   "end_time": "2020-11-08T09:48:40.629511",
   "environment_variables": {},
   "exception": null,
   "input_path": "__notebook__.ipynb",
   "output_path": "__notebook__.ipynb",
   "parameters": {},
   "start_time": "2020-11-08T09:34:58.829262",
   "version": "2.1.0"
  }
 },
 "nbformat": 4,
 "nbformat_minor": 4
}
