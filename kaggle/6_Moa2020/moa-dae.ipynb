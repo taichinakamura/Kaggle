{
 "cells": [
  {
   "cell_type": "markdown",
   "metadata": {
    "papermill": {
     "duration": 0.02571,
     "end_time": "2020-11-15T06:57:07.461940",
     "exception": false,
     "start_time": "2020-11-15T06:57:07.436230",
     "status": "completed"
    },
    "tags": []
   },
   "source": [
    "- only consider dae features\n",
    "- increase to 3 seeds\n",
    "- incorporate chris validation scheme"
   ]
  },
  {
   "cell_type": "code",
   "execution_count": 1,
   "metadata": {
    "_cell_guid": "b1076dfc-b9ad-4769-8c92-a6c4dae69d19",
    "_uuid": "8f2839f25d086af736a60e9eeb907d3b93b6e0e5",
    "execution": {
     "iopub.execute_input": "2020-11-15T06:57:07.519729Z",
     "iopub.status.busy": "2020-11-15T06:57:07.519040Z",
     "iopub.status.idle": "2020-11-15T06:57:17.074186Z",
     "shell.execute_reply": "2020-11-15T06:57:17.072428Z"
    },
    "papermill": {
     "duration": 9.588509,
     "end_time": "2020-11-15T06:57:17.074325",
     "exception": false,
     "start_time": "2020-11-15T06:57:07.485816",
     "status": "completed"
    },
    "tags": []
   },
   "outputs": [],
   "source": [
    "import os\n",
    "import sys\n",
    "import random\n",
    "import warnings\n",
    "import numpy as np\n",
    "import pandas as pd \n",
    "from tqdm import tqdm_notebook as tqdm\n",
    "from sklearn import preprocessing\n",
    "from sklearn.metrics import log_loss,roc_auc_score\n",
    "from sklearn.decomposition import PCA\n",
    "from sklearn.cluster import KMeans\n",
    "from sklearn.multioutput import MultiOutputClassifier\n",
    "from sklearn.feature_selection import VarianceThreshold\n",
    "\n",
    "sys.path.append('../input/multilabelstraifier/')\n",
    "from ml_stratifiers import MultilabelStratifiedKFold\n",
    "warnings.filterwarnings('ignore')\n",
    "\n",
    "import time\n",
    "import torch\n",
    "import torch.nn as nn\n",
    "import torch.optim as optim\n",
    "import torch.nn.functional as F\n",
    "import tensorflow as tf\n",
    "from torch.nn.modules.loss import _WeightedLoss\n",
    "\n",
    "from sklearn.pipeline import make_pipeline,make_union\n",
    "from sklearn.compose import make_column_transformer,ColumnTransformer\n",
    "from sklearn.base import BaseEstimator,TransformerMixin"
   ]
  },
  {
   "cell_type": "markdown",
   "metadata": {
    "papermill": {
     "duration": 0.023774,
     "end_time": "2020-11-15T06:57:17.123010",
     "exception": false,
     "start_time": "2020-11-15T06:57:17.099236",
     "status": "completed"
    },
    "tags": []
   },
   "source": [
    "# functions"
   ]
  },
  {
   "cell_type": "code",
   "execution_count": 2,
   "metadata": {
    "execution": {
     "iopub.execute_input": "2020-11-15T06:57:17.188053Z",
     "iopub.status.busy": "2020-11-15T06:57:17.186018Z",
     "iopub.status.idle": "2020-11-15T06:57:17.188933Z",
     "shell.execute_reply": "2020-11-15T06:57:17.189485Z"
    },
    "papermill": {
     "duration": 0.043723,
     "end_time": "2020-11-15T06:57:17.189635",
     "exception": false,
     "start_time": "2020-11-15T06:57:17.145912",
     "status": "completed"
    },
    "tags": []
   },
   "outputs": [],
   "source": [
    "def train_short_form_loader(feature_file,target_file,extra_target_file=None):\n",
    "    '''takes the original target and features and creates a train dataset \n",
    "    in col long format'''\n",
    "    train_features = pd.read_csv(feature_file)\n",
    "    train_targets = pd.read_csv(target_file)\n",
    "\n",
    "    if extra_target_file is not None:\n",
    "        extra_targets = pd.read_csv(extra_target_file)\n",
    "        train_targets = pd.merge(train_targets,extra_targets,on ='sig_id')\n",
    "        del extra_targets\n",
    "\n",
    "    targets = train_targets.columns[1:]\n",
    "\n",
    "    train_melt=train_targets.merge(train_features,how=\"left\",on=\"sig_id\")\n",
    "\n",
    "    del train_features,train_targets\n",
    "    \n",
    "    train_melt.set_index(\"sig_id\",inplace=True)\n",
    "\n",
    "    train_melt[\"cp_type\"]= train_melt[\"cp_type\"].astype('category')\n",
    "    train_melt[\"cp_dose\"]= train_melt[\"cp_dose\"].astype('category')\n",
    "\n",
    "    return train_melt , targets.to_list()\n",
    "\n",
    "def test_short_form_loader(feature_file):\n",
    "    '''takes the original target and features and creates a train dataset \n",
    "    in col long format'''\n",
    "\n",
    "    train_features = pd.read_csv(feature_file)\n",
    "\n",
    "    train_melt =  train_features.copy()\n",
    "    del train_features\n",
    "\n",
    "    train_melt.set_index(\"sig_id\",inplace=True)\n",
    "    train_melt[\"cp_type\"]= train_melt[\"cp_type\"].astype('category')\n",
    "    train_melt[\"cp_dose\"]= train_melt[\"cp_dose\"].astype('category')\n",
    "\n",
    "    return train_melt "
   ]
  },
  {
   "cell_type": "code",
   "execution_count": 3,
   "metadata": {
    "execution": {
     "iopub.execute_input": "2020-11-15T06:57:17.268713Z",
     "iopub.status.busy": "2020-11-15T06:57:17.257829Z",
     "iopub.status.idle": "2020-11-15T06:57:17.271849Z",
     "shell.execute_reply": "2020-11-15T06:57:17.271318Z"
    },
    "papermill": {
     "duration": 0.056628,
     "end_time": "2020-11-15T06:57:17.271961",
     "exception": false,
     "start_time": "2020-11-15T06:57:17.215333",
     "status": "completed"
    },
    "tags": []
   },
   "outputs": [],
   "source": [
    "# feature selection transformer\n",
    "class CatIntMapper( BaseEstimator, TransformerMixin ):\n",
    "    #Class constructor method that takes in a list of values as its argument\n",
    "    def __init__(self ,col,dicti):\n",
    "        self.col = col\n",
    "        self.dicti = dicti\n",
    "        \n",
    "    def fit(self, X, y = None):\n",
    "        \n",
    "        return self\n",
    "    #Return self nothing else to do here\n",
    "    def fit_transform( self, X, y = None  ):\n",
    "        assert  X[self.col].isin(self.dicti.keys()).all() \n",
    "        return pd.concat([X.drop(self.col,axis=1),X[self.col].map(self.dicti).astype(int).rename(self.col)],axis=1) \n",
    "    \n",
    "    def transform( self, X):\n",
    "        assert  X[self.col].isin(self.dicti.keys()).all() \n",
    "        \n",
    "        return pd.concat([X.drop(self.col,axis=1),X[self.col].map(self.dicti).astype(int).rename(self.col)],axis=1) \n",
    "    \n",
    "class NamedOutTWrapper(BaseEstimator, TransformerMixin):\n",
    "    \n",
    "    def __init__(self,transformer,columns,inplace=False,prefix='_' ):\n",
    "        self.transformer = transformer\n",
    "        self.cols = columns\n",
    "        self.inplace =  inplace\n",
    "        self.prefix = prefix\n",
    "        self.transformer_name = self._get_transformer_name()\n",
    "        \n",
    "    def fit(self, X, y = None): \n",
    "        self.transformer =   self.transformer.fit(X[self.cols] , y )\n",
    "        return self\n",
    "    \n",
    "    #Return self nothing else to do here\n",
    "    def fit_transform( self, X, y = None  ): \n",
    "        transformed_columns = self.transformer.fit_transform(X[self.cols] , y )\n",
    "        out=pd.DataFrame(index=X.index)\n",
    "        \n",
    "        if self.inplace:\n",
    "            out = X[self.cols]\n",
    "            out[self.cols] = transformed_columns\n",
    "            return pd.concat([X.drop(self.cols,axis=1),out],axis=1)\n",
    "        else:\n",
    "            for i,values in enumerate(transformed_columns.transpose()):\n",
    "                out[ self.transformer_name + self.prefix + str(i)] = values\n",
    "            return   pd.concat([X,out],axis=1)\n",
    "        \n",
    "    def transform( self, X):\n",
    "        transformed_columns = self.transformer.transform(X[self.cols]  )\n",
    "        out=pd.DataFrame(index=X.index)\n",
    "        \n",
    "        if self.inplace:\n",
    "            out = X[self.cols]\n",
    "            out[self.cols] = transformed_columns\n",
    "            return pd.concat([X.drop(self.cols,axis=1),out],axis=1)\n",
    "        else:\n",
    "            for i,values in enumerate(transformed_columns.transpose()):\n",
    "                out[ self.transformer_name + self.prefix + str(i)] = values\n",
    "        return   pd.concat([X,out],axis=1)\n",
    "    \n",
    "    def _get_transformer_name(self):\n",
    "        return str(self.transformer.__class__).split('.')[-1][0:-2]"
   ]
  },
  {
   "cell_type": "code",
   "execution_count": 4,
   "metadata": {
    "execution": {
     "iopub.execute_input": "2020-11-15T06:57:17.327509Z",
     "iopub.status.busy": "2020-11-15T06:57:17.326675Z",
     "iopub.status.idle": "2020-11-15T06:57:17.329319Z",
     "shell.execute_reply": "2020-11-15T06:57:17.329809Z"
    },
    "papermill": {
     "duration": 0.03483,
     "end_time": "2020-11-15T06:57:17.329922",
     "exception": false,
     "start_time": "2020-11-15T06:57:17.295092",
     "status": "completed"
    },
    "tags": []
   },
   "outputs": [],
   "source": [
    "# cv folds\n",
    "def multifold_indexer(train,target_columns,n_splits=10,random_state=12347,**kwargs):\n",
    "    folds = train.copy()\n",
    "\n",
    "    mskf = MultilabelStratifiedKFold(n_splits=n_splits,random_state=random_state,**kwargs)\n",
    "    folds[ 'kfold']=0\n",
    "    for f, (t_idx, v_idx) in enumerate(mskf.split(X=train, y=train[target_columns])):\n",
    "        folds.iloc[v_idx,-1] = int(f)\n",
    "\n",
    "    folds['kfold'] = folds['kfold'].astype(int)\n",
    "    return folds"
   ]
  },
  {
   "cell_type": "code",
   "execution_count": 5,
   "metadata": {
    "execution": {
     "iopub.execute_input": "2020-11-15T06:57:17.391134Z",
     "iopub.status.busy": "2020-11-15T06:57:17.384790Z",
     "iopub.status.idle": "2020-11-15T06:57:17.394303Z",
     "shell.execute_reply": "2020-11-15T06:57:17.393744Z"
    },
    "papermill": {
     "duration": 0.041122,
     "end_time": "2020-11-15T06:57:17.394417",
     "exception": false,
     "start_time": "2020-11-15T06:57:17.353295",
     "status": "completed"
    },
    "tags": []
   },
   "outputs": [],
   "source": [
    "# dataset class\n",
    "class MoADataset:\n",
    "    def __init__(self, features, targets):\n",
    "        self.features = features\n",
    "        self.targets = targets\n",
    "        \n",
    "    def __len__(self):\n",
    "        return (self.features.shape[0])\n",
    "    \n",
    "    def __getitem__(self, idx):\n",
    "        dct = {\n",
    "            'x' : torch.tensor(self.features[idx, :], dtype=torch.float),\n",
    "            'y' : torch.tensor(self.targets[idx, :], dtype=torch.float)            \n",
    "        }\n",
    "        return dct\n",
    "    \n",
    "class TestDataset:\n",
    "    def __init__(self, features):\n",
    "        self.features = features\n",
    "        \n",
    "    def __len__(self):\n",
    "        return (self.features.shape[0])\n",
    "    \n",
    "    def __getitem__(self, idx):\n",
    "        dct = {\n",
    "            'x' : torch.tensor(self.features[idx, :], dtype=torch.float)\n",
    "        }\n",
    "        return dct\n",
    "    \n",
    "class ColumnDropper( BaseEstimator, TransformerMixin ):\n",
    "    #Class Constructor \n",
    "    def __init__( self, cols ):\n",
    "        self.cols=cols\n",
    "    #Return self nothing else to do here    \n",
    "    def fit( self, X, y = None ):\n",
    "        return self \n",
    "    \n",
    "    #Method that describes what we need this transformer to do\n",
    "    def transform( self, X, y = None ):\n",
    "        return X.drop(self.cols,axis=1)"
   ]
  },
  {
   "cell_type": "code",
   "execution_count": 6,
   "metadata": {
    "execution": {
     "iopub.execute_input": "2020-11-15T06:57:17.457976Z",
     "iopub.status.busy": "2020-11-15T06:57:17.457127Z",
     "iopub.status.idle": "2020-11-15T06:57:17.460342Z",
     "shell.execute_reply": "2020-11-15T06:57:17.459803Z"
    },
    "papermill": {
     "duration": 0.04217,
     "end_time": "2020-11-15T06:57:17.460439",
     "exception": false,
     "start_time": "2020-11-15T06:57:17.418269",
     "status": "completed"
    },
    "tags": []
   },
   "outputs": [],
   "source": [
    "# dae model\n",
    "def seed_everything(seed=42):\n",
    "    random.seed(seed)\n",
    "    os.environ['PYTHONHASHSEED'] = str(seed)\n",
    "    np.random.seed(seed)\n",
    "    torch.manual_seed(seed)\n",
    "    torch.cuda.manual_seed(seed)\n",
    "    torch.backends.cudnn.deterministic = True\n",
    "\n",
    "class DAE_Model(nn.Module):\n",
    "    def __init__(self, num_features, num_targets, hidden_size=1100,hidden_size2=1300):\n",
    "        super(DAE_Model, self).__init__()\n",
    "        self.batch_norm1 = nn.BatchNorm1d(num_features)\n",
    "        #self.dropout1 = nn.Dropout(drop_rate1)\n",
    "        self.dense1 = nn.utils.weight_norm(nn.Linear(num_features, hidden_size))\n",
    "        \n",
    "        self.batch_norm2 = nn.BatchNorm1d(hidden_size)\n",
    "        #self.dropout2 = nn.Dropout(drop_rate2)\n",
    "        self.dense2 = nn.utils.weight_norm(nn.Linear(hidden_size, hidden_size2))\n",
    "        \n",
    "        self.batch_norm3 = nn.BatchNorm1d(hidden_size2)\n",
    "        #self.dropout3 = nn.Dropout(drop_rate2)\n",
    "        self.dense3 = nn.utils.weight_norm(nn.Linear(hidden_size2, hidden_size))\n",
    "        \n",
    "        #self.batch_norm4 = nn.BatchNorm1d(hidden_size)\n",
    "        #self.dropout4 = nn.Dropout(drop_rate3)\n",
    "        self.dense4 = nn.utils.weight_norm(nn.Linear(hidden_size, num_features))\n",
    "        \n",
    "    def forward(self, x,mode='DAE'):\n",
    "        #x = self.batch_norm1(x)\n",
    "        #x1 = self.dropout1(x1)\n",
    "        x1 = F.relu(self.dense1(x))\n",
    "            \n",
    "        x2 = self.batch_norm2(x1)\n",
    "        #x = self.dropout2(x)\n",
    "        x2 = F.relu(self.dense2(x2))\n",
    "        \n",
    "        x3 = self.batch_norm3(x2)\n",
    "      \n",
    "        x3 = F.relu(self.dense3(x3))\n",
    "        \n",
    "        out = self.dense4(x3)\n",
    "        \n",
    "        if mode == 'DAE':\n",
    "            return out\n",
    "        else:\n",
    "            return x1,x2,x3"
   ]
  },
  {
   "cell_type": "code",
   "execution_count": 7,
   "metadata": {
    "execution": {
     "iopub.execute_input": "2020-11-15T06:57:17.525039Z",
     "iopub.status.busy": "2020-11-15T06:57:17.524048Z",
     "iopub.status.idle": "2020-11-15T06:57:17.526854Z",
     "shell.execute_reply": "2020-11-15T06:57:17.527373Z"
    },
    "papermill": {
     "duration": 0.042472,
     "end_time": "2020-11-15T06:57:17.527502",
     "exception": false,
     "start_time": "2020-11-15T06:57:17.485030",
     "status": "completed"
    },
    "tags": []
   },
   "outputs": [],
   "source": [
    "def infer_features_fn(model, dataloader, device):\n",
    "    model.eval()\n",
    "    preds = []\n",
    "    \n",
    "    for data in dataloader:\n",
    "        inputs = data['x'].to(device)\n",
    "\n",
    "        with torch.no_grad():\n",
    "            outputs = model(inputs,mode='get_features')\n",
    "        \n",
    "        preds.append(torch.cat(outputs,axis=1).detach().cpu().numpy())\n",
    "    preds = np.concatenate(preds)\n",
    "    \n",
    "    return preds\n",
    "\n",
    "def run_inference(X_train,y_train,X_valid,y_valid,X_test,fold, seed,inference_only=False,**kwargs):\n",
    "    seed_everything(seed)\n",
    "    if not  inference_only:\n",
    "        train_dataset = MoADataset(X_train, y_train)\n",
    "        valid_dataset = MoADataset(X_valid, y_valid)\n",
    "        trainloader = torch.utils.data.DataLoader(train_dataset, batch_size=BATCH_SIZE, shuffle=True)\n",
    "        validloader = torch.utils.data.DataLoader(valid_dataset, batch_size=BATCH_SIZE, shuffle=False)\n",
    "\n",
    "    testdataset = TestDataset(X_test)\n",
    "    testloader = torch.utils.data.DataLoader(testdataset, batch_size=BATCH_SIZE, shuffle=False)\n",
    "    \n",
    "    model = DAE_Model(\n",
    "        num_features= X_train.shape[1] ,\n",
    "        num_targets=  X_train.shape[1],\n",
    "       # hidden_size=hidden_size,\n",
    "        **kwargs\n",
    "    )\n",
    "\n",
    "    model.to(DEVICE)\n",
    "    \n",
    "    if not  inference_only:\n",
    "        oof = inference_infer_features_fn(model, validloader, DEVICE)    \n",
    "    else:\n",
    "        oof= 0\n",
    "    \n",
    "    predictions = infer_features_fn(model, testloader, DEVICE)\n",
    "    predictions = predictions\n",
    "    \n",
    "    return oof, predictions"
   ]
  },
  {
   "cell_type": "markdown",
   "metadata": {
    "papermill": {
     "duration": 0.023479,
     "end_time": "2020-11-15T06:57:17.573922",
     "exception": false,
     "start_time": "2020-11-15T06:57:17.550443",
     "status": "completed"
    },
    "tags": []
   },
   "source": [
    "# denosing auto encoder"
   ]
  },
  {
   "cell_type": "code",
   "execution_count": 8,
   "metadata": {
    "execution": {
     "iopub.execute_input": "2020-11-15T06:57:18.005349Z",
     "iopub.status.busy": "2020-11-15T06:57:18.003156Z",
     "iopub.status.idle": "2020-11-15T06:57:18.009147Z",
     "shell.execute_reply": "2020-11-15T06:57:18.008023Z"
    },
    "papermill": {
     "duration": 0.411944,
     "end_time": "2020-11-15T06:57:18.009259",
     "exception": false,
     "start_time": "2020-11-15T06:57:17.597315",
     "status": "completed"
    },
    "tags": []
   },
   "outputs": [],
   "source": [
    "DEVICE = ('cuda' if torch.cuda.is_available() else 'cpu')\n",
    "EPOCHS = 1000\n",
    "BATCH_SIZE = 640\n",
    "LEARNING_RATE = 4e-3\n",
    "WEIGHT_DECAY = 1e-8\n",
    "NFOLDS = 10\n",
    "EARLY_STOPPING_STEPS = 10\n",
    "EARLY_STOP = False\n",
    "hidden_size=1100\n",
    "hidden_size2=1300\n",
    "PATIENCE=10\n",
    "THRESHOLD = 5e-3"
   ]
  },
  {
   "cell_type": "code",
   "execution_count": 9,
   "metadata": {
    "execution": {
     "iopub.execute_input": "2020-11-15T06:57:18.084421Z",
     "iopub.status.busy": "2020-11-15T06:57:18.071293Z",
     "iopub.status.idle": "2020-11-15T06:57:55.535516Z",
     "shell.execute_reply": "2020-11-15T06:57:55.534888Z"
    },
    "papermill": {
     "duration": 37.502033,
     "end_time": "2020-11-15T06:57:55.535658",
     "exception": false,
     "start_time": "2020-11-15T06:57:18.033625",
     "status": "completed"
    },
    "tags": []
   },
   "outputs": [],
   "source": [
    "SEED = [0]\n",
    "train,target_cols = train_short_form_loader('../input/lish-moa/train_features.csv','../input/lish-moa/train_targets_scored.csv')\n",
    "test = test_short_form_loader(\"../input/lish-moa/test_features.csv\")\n",
    "\n",
    "train = pd.concat([train,test])\n",
    "train[target_cols]= train[target_cols].fillna(0)\n",
    "test = train.copy()\n",
    "\n",
    "GENES = [col for col in train.columns if col.startswith('g-')]\n",
    "CELLS = [col for col in train.columns if col.startswith('c-')]\n",
    "\n",
    "map_controls = CatIntMapper('cp_type',{'ctl_vehicle': 0, 'trt_cp': 1})    \n",
    "map_dose = CatIntMapper('cp_dose',{'D1': 1, 'D2': 0})    \n",
    "map_time = CatIntMapper('cp_time',{24: 0, 48: 1, 72: 2})  \n",
    "\n",
    "Rankg_g_tansform = NamedOutTWrapper(preprocessing.QuantileTransformer(n_quantiles=1000,random_state=0, output_distribution=\"normal\"),columns= GENES+CELLS,inplace=True)\n",
    "PCA_g_tansform =  NamedOutTWrapper(PCA(20),columns= GENES,prefix ='_g' )\n",
    "PCA_c_tansform =  NamedOutTWrapper(PCA(20),columns= CELLS,prefix ='_c' )\n",
    "\n",
    "CatDropper =ColumnDropper(cols=['cp_type','cp_time','cp_dose'])\n",
    "transformers_list=[map_controls,map_dose,map_time,Rankg_g_tansform,CatDropper]\n",
    "exp_name = 'test_DAE_0.2_all_together'\n",
    "\n",
    "oof = np.zeros((len(train), len(target_cols)))\n",
    "predictions = np.zeros((len(test), len(target_cols)))\n",
    "\n",
    "for seed in SEED:\n",
    "    \n",
    "    train = multifold_indexer(train,target_cols,n_splits=NFOLDS)\n",
    "    \n",
    "    for fold in range(NFOLDS):\n",
    "            \n",
    "        train_df = train[train['kfold'] != fold]\n",
    "        valid_df = train[train['kfold'] == fold]\n",
    "            \n",
    "        feature_cols = [col for col in train_df.columns if not (col in target_cols+['kfold'])]\n",
    "                \n",
    "        pipeline_val = make_pipeline(*transformers_list)\n",
    "        \n",
    "        X_train, y_train  = train_df[feature_cols], train_df[target_cols]\n",
    "        X_valid, y_valid =  valid_df[feature_cols], valid_df[target_cols].values\n",
    "        \n",
    "        X_train = pipeline_val.fit_transform(X_train)\n",
    "        X_train = X_train.values\n",
    "        X_valid = pipeline_val.transform(X_valid)\n",
    "        \n",
    "        valid_index = X_valid.index\n",
    "        X_valid = X_valid.values\n",
    "        \n",
    "        y_train = y_train.values\n",
    "        \n",
    "        X_test = test[feature_cols]\n",
    "        X_test = pipeline_val.transform(X_test).values\n",
    "        \n",
    "        pred_ = run_inference(X_train,y_train,X_valid,y_valid,X_test,fold, seed,inference_only=True)    \n",
    "        break\n",
    "        \n",
    "transformed_features = pd.DataFrame(pred_[1],index=test.index)"
   ]
  },
  {
   "cell_type": "code",
   "execution_count": 10,
   "metadata": {
    "execution": {
     "iopub.execute_input": "2020-11-15T06:57:55.592190Z",
     "iopub.status.busy": "2020-11-15T06:57:55.591078Z",
     "iopub.status.idle": "2020-11-15T06:57:57.537473Z",
     "shell.execute_reply": "2020-11-15T06:57:57.536730Z"
    },
    "papermill": {
     "duration": 1.978318,
     "end_time": "2020-11-15T06:57:57.537606",
     "exception": false,
     "start_time": "2020-11-15T06:57:55.559288",
     "status": "completed"
    },
    "tags": []
   },
   "outputs": [
    {
     "name": "stdout",
     "output_type": "stream",
     "text": [
      "(27796, 3500)\n"
     ]
    }
   ],
   "source": [
    "print(transformed_features.shape)\n",
    "transformed_features.columns = [str(i) for i in range(len(transformed_features.columns))]\n",
    "transformed_features.reset_index().to_feather('./features_0.2_altogether.fth')\n",
    "transformed_features = transformed_features.reset_index(drop=False)"
   ]
  },
  {
   "cell_type": "markdown",
   "metadata": {
    "papermill": {
     "duration": 0.023827,
     "end_time": "2020-11-15T06:57:57.586082",
     "exception": false,
     "start_time": "2020-11-15T06:57:57.562255",
     "status": "completed"
    },
    "tags": []
   },
   "source": [
    "# prediction"
   ]
  },
  {
   "cell_type": "code",
   "execution_count": 11,
   "metadata": {
    "execution": {
     "iopub.execute_input": "2020-11-15T06:57:57.648187Z",
     "iopub.status.busy": "2020-11-15T06:57:57.647173Z",
     "iopub.status.idle": "2020-11-15T06:58:03.331870Z",
     "shell.execute_reply": "2020-11-15T06:58:03.330617Z"
    },
    "papermill": {
     "duration": 5.720542,
     "end_time": "2020-11-15T06:58:03.331997",
     "exception": false,
     "start_time": "2020-11-15T06:57:57.611455",
     "status": "completed"
    },
    "tags": []
   },
   "outputs": [],
   "source": [
    "DATA_DIR = '/kaggle/input/lish-moa/'\n",
    "train = pd.read_csv(DATA_DIR + 'train_features.csv')\n",
    "targets = pd.read_csv(DATA_DIR + 'train_targets_scored.csv')\n",
    "test = pd.read_csv(DATA_DIR + 'test_features.csv')\n",
    "sub = pd.read_csv(DATA_DIR + 'sample_submission.csv')\n",
    "drug = pd.read_csv(DATA_DIR + 'train_drug.csv')\n",
    "\n",
    "noncons_train_index = train[train.cp_type==\"ctl_vehicle\"].index\n",
    "cons_train_index = train[train.cp_type!=\"ctl_vehicle\"].index\n",
    "noncons_test_index = test[test.cp_type==\"ctl_vehicle\"].index\n",
    "cons_test_index = test[test.cp_type!=\"ctl_vehicle\"].index\n",
    "\n",
    "train = train[train.index.isin(cons_train_index)].copy().reset_index(drop=True)\n",
    "test = test[test.index.isin(cons_test_index)].copy().reset_index(drop=True)\n",
    "targets = targets[targets.index.isin(cons_train_index)].copy().reset_index(drop=True)"
   ]
  },
  {
   "cell_type": "code",
   "execution_count": 12,
   "metadata": {
    "execution": {
     "iopub.execute_input": "2020-11-15T06:58:03.389837Z",
     "iopub.status.busy": "2020-11-15T06:58:03.387974Z",
     "iopub.status.idle": "2020-11-15T06:58:03.390681Z",
     "shell.execute_reply": "2020-11-15T06:58:03.391235Z"
    },
    "papermill": {
     "duration": 0.034708,
     "end_time": "2020-11-15T06:58:03.391358",
     "exception": false,
     "start_time": "2020-11-15T06:58:03.356650",
     "status": "completed"
    },
    "tags": []
   },
   "outputs": [],
   "source": [
    "target_feats = [ i for i in targets.columns if i != \"sig_id\"]\n",
    "g_feats = [i for i in train.columns if \"g-\" in i]\n",
    "c_feats = [i for i in train.columns if \"c-\" in i]"
   ]
  },
  {
   "cell_type": "code",
   "execution_count": 13,
   "metadata": {
    "execution": {
     "iopub.execute_input": "2020-11-15T06:58:03.474491Z",
     "iopub.status.busy": "2020-11-15T06:58:03.460754Z",
     "iopub.status.idle": "2020-11-15T06:58:04.138069Z",
     "shell.execute_reply": "2020-11-15T06:58:04.138666Z"
    },
    "papermill": {
     "duration": 0.721805,
     "end_time": "2020-11-15T06:58:04.138811",
     "exception": false,
     "start_time": "2020-11-15T06:58:03.417006",
     "status": "completed"
    },
    "tags": []
   },
   "outputs": [
    {
     "data": {
      "text/plain": [
       "array([[6, 4, 3, ..., 3, 3, 2]], dtype=int8)"
      ]
     },
     "execution_count": 13,
     "metadata": {},
     "output_type": "execute_result"
    }
   ],
   "source": [
    "NB_SPLITS = 7\n",
    "seed = 34\n",
    "\n",
    "folds = []\n",
    "    \n",
    "# LOAD FILES\n",
    "train_score = targets.merge(drug, on='sig_id', how='left') \n",
    "\n",
    "# LOCATE DRUGS\n",
    "vc = train_score.drug_id.value_counts()\n",
    "vc1 = vc.loc[(vc==6)|(vc==12)|(vc==18)].index.sort_values()\n",
    "vc2 = vc.loc[(vc!=6)&(vc!=12)&(vc!=18)].index.sort_values()\n",
    "    \n",
    "# STRATIFY DRUGS 18X OR LESS\n",
    "dct1 = {}; dct2 = {}\n",
    "skf = MultilabelStratifiedKFold(n_splits = NB_SPLITS, shuffle = True, random_state = seed)\n",
    "tmp = train_score.groupby('drug_id')[target_feats].mean().loc[vc1]\n",
    "for fold,(idxT,idxV) in enumerate(skf.split(tmp,tmp[target_feats])):\n",
    "    dd = {k:fold for k in tmp.index[idxV].values}\n",
    "    dct1.update(dd)\n",
    "    \n",
    "# STRATIFY DRUGS MORE THAN 18X\n",
    "skf = MultilabelStratifiedKFold(n_splits = NB_SPLITS, shuffle = True, random_state = seed)\n",
    "tmp = train_score.loc[train_score.drug_id.isin(vc2)].reset_index(drop = True)\n",
    "for fold,(idxT,idxV) in enumerate(skf.split(tmp,tmp[target_feats])):\n",
    "    dd = {k:fold for k in tmp.sig_id[idxV].values}\n",
    "    dct2.update(dd)\n",
    "\n",
    "# ASSIGN FOLDS\n",
    "train_score['fold'] = train_score.drug_id.map(dct1)\n",
    "train_score.loc[train_score.fold.isna(),'fold'] = train_score.loc[train_score.fold.isna(),'sig_id'].map(dct2)\n",
    "train_score.fold = train_score.fold.astype('int8')\n",
    "folds.append(train_score.fold.values)\n",
    "    \n",
    "np.array(folds)"
   ]
  },
  {
   "cell_type": "code",
   "execution_count": 14,
   "metadata": {
    "execution": {
     "iopub.execute_input": "2020-11-15T06:58:04.198451Z",
     "iopub.status.busy": "2020-11-15T06:58:04.197379Z",
     "iopub.status.idle": "2020-11-15T06:58:04.203617Z",
     "shell.execute_reply": "2020-11-15T06:58:04.204160Z"
    },
    "papermill": {
     "duration": 0.039006,
     "end_time": "2020-11-15T06:58:04.204303",
     "exception": false,
     "start_time": "2020-11-15T06:58:04.165297",
     "status": "completed"
    },
    "tags": []
   },
   "outputs": [],
   "source": [
    "train = train.drop(g_feats + c_feats + [\"cp_type\"], axis=1)\n",
    "test = test.drop(g_feats + c_feats + [\"cp_type\"], axis=1)"
   ]
  },
  {
   "cell_type": "code",
   "execution_count": 15,
   "metadata": {
    "execution": {
     "iopub.execute_input": "2020-11-15T06:58:04.267436Z",
     "iopub.status.busy": "2020-11-15T06:58:04.266104Z",
     "iopub.status.idle": "2020-11-15T06:58:04.974170Z",
     "shell.execute_reply": "2020-11-15T06:58:04.973639Z"
    },
    "papermill": {
     "duration": 0.744268,
     "end_time": "2020-11-15T06:58:04.974283",
     "exception": false,
     "start_time": "2020-11-15T06:58:04.230015",
     "status": "completed"
    },
    "tags": []
   },
   "outputs": [],
   "source": [
    "train = train.merge(transformed_features, on=\"sig_id\", how=\"left\")\n",
    "test = test.merge(transformed_features, on=\"sig_id\", how=\"left\")"
   ]
  },
  {
   "cell_type": "code",
   "execution_count": 16,
   "metadata": {
    "execution": {
     "iopub.execute_input": "2020-11-15T06:58:05.033125Z",
     "iopub.status.busy": "2020-11-15T06:58:05.031867Z",
     "iopub.status.idle": "2020-11-15T06:58:05.610220Z",
     "shell.execute_reply": "2020-11-15T06:58:05.609469Z"
    },
    "papermill": {
     "duration": 0.610588,
     "end_time": "2020-11-15T06:58:05.610368",
     "exception": false,
     "start_time": "2020-11-15T06:58:04.999780",
     "status": "completed"
    },
    "tags": []
   },
   "outputs": [],
   "source": [
    "def fe(df):\n",
    "    tmp = df.copy()\n",
    "    tmp = pd.get_dummies(tmp, columns=['cp_time','cp_dose'])\n",
    "    tmp.drop([\"sig_id\"], axis=1, inplace=True)\n",
    "    return tmp\n",
    "train = fe(train)\n",
    "test = fe(test)"
   ]
  },
  {
   "cell_type": "code",
   "execution_count": 17,
   "metadata": {
    "execution": {
     "iopub.execute_input": "2020-11-15T06:58:05.691655Z",
     "iopub.status.busy": "2020-11-15T06:58:05.690108Z",
     "iopub.status.idle": "2020-11-15T06:58:05.695708Z",
     "shell.execute_reply": "2020-11-15T06:58:05.696891Z"
    },
    "papermill": {
     "duration": 0.050506,
     "end_time": "2020-11-15T06:58:05.697091",
     "exception": false,
     "start_time": "2020-11-15T06:58:05.646585",
     "status": "completed"
    },
    "tags": []
   },
   "outputs": [],
   "source": [
    "train[\"fold\"] = np.array(folds).reshape(-1,1)"
   ]
  },
  {
   "cell_type": "code",
   "execution_count": 18,
   "metadata": {
    "execution": {
     "iopub.execute_input": "2020-11-15T06:58:05.787205Z",
     "iopub.status.busy": "2020-11-15T06:58:05.786251Z",
     "iopub.status.idle": "2020-11-15T06:58:06.339033Z",
     "shell.execute_reply": "2020-11-15T06:58:06.340193Z"
    },
    "papermill": {
     "duration": 0.603425,
     "end_time": "2020-11-15T06:58:06.340401",
     "exception": false,
     "start_time": "2020-11-15T06:58:05.736976",
     "status": "completed"
    },
    "tags": []
   },
   "outputs": [],
   "source": [
    "fn_train = train.copy().to_numpy()\n",
    "fn_test = test.copy().to_numpy()\n",
    "\n",
    "fn_targets = targets.drop(\"sig_id\", axis=1).copy().to_numpy()"
   ]
  },
  {
   "cell_type": "code",
   "execution_count": 19,
   "metadata": {
    "execution": {
     "iopub.execute_input": "2020-11-15T06:58:06.430411Z",
     "iopub.status.busy": "2020-11-15T06:58:06.429456Z",
     "iopub.status.idle": "2020-11-15T06:58:06.438757Z",
     "shell.execute_reply": "2020-11-15T06:58:06.439946Z"
    },
    "papermill": {
     "duration": 0.060558,
     "end_time": "2020-11-15T06:58:06.440141",
     "exception": false,
     "start_time": "2020-11-15T06:58:06.379583",
     "status": "completed"
    },
    "tags": []
   },
   "outputs": [],
   "source": [
    "class SmoothBCEwLogits(_WeightedLoss):\n",
    "    def __init__(self, weight=None, reduction='mean', smoothing=0.0):\n",
    "        super().__init__(weight=weight, reduction=reduction)\n",
    "        self.smoothing = smoothing\n",
    "        self.weight = weight\n",
    "        self.reduction = reduction\n",
    "\n",
    "    @staticmethod\n",
    "    def _smooth(targets:torch.Tensor, n_labels:int, smoothing=0.0):\n",
    "        assert 0 <= smoothing < 1\n",
    "        with torch.no_grad():\n",
    "            targets = targets * (1.0 - smoothing) + 0.5 * smoothing\n",
    "        return targets\n",
    "\n",
    "    def forward(self, inputs, targets):\n",
    "        targets = SmoothBCEwLogits._smooth(targets, inputs.size(-1),\n",
    "            self.smoothing)\n",
    "        loss = F.binary_cross_entropy_with_logits(inputs, targets,self.weight)\n",
    "\n",
    "        if  self.reduction == 'sum':\n",
    "            loss = loss.sum()\n",
    "        elif  self.reduction == 'mean':\n",
    "            loss = loss.mean()\n",
    "\n",
    "        return loss"
   ]
  },
  {
   "cell_type": "code",
   "execution_count": 20,
   "metadata": {
    "execution": {
     "iopub.execute_input": "2020-11-15T06:58:06.529196Z",
     "iopub.status.busy": "2020-11-15T06:58:06.528307Z",
     "iopub.status.idle": "2020-11-15T06:58:06.536279Z",
     "shell.execute_reply": "2020-11-15T06:58:06.537477Z"
    },
    "papermill": {
     "duration": 0.059765,
     "end_time": "2020-11-15T06:58:06.537680",
     "exception": false,
     "start_time": "2020-11-15T06:58:06.477915",
     "status": "completed"
    },
    "tags": []
   },
   "outputs": [],
   "source": [
    "class SmoothCrossEntropyLoss(_WeightedLoss):\n",
    "    def __init__(self, weight=None, reduction='mean', smoothing=0.0):\n",
    "        super().__init__(weight=weight, reduction=reduction)\n",
    "        self.smoothing = smoothing\n",
    "        self.weight = weight\n",
    "        self.reduction = reduction\n",
    "\n",
    "    @staticmethod\n",
    "    def _smooth(targets, n_classes, smoothing=0.0):\n",
    "        assert 0 <= smoothing <= 1\n",
    "        with torch.no_grad():\n",
    "            targets = targets * (1 - smoothing) + torch.ones_like(targets).to(device) * smoothing / n_classes\n",
    "        return targets\n",
    "\n",
    "    def forward(self, inputs, targets):\n",
    "        targets = SmoothCrossEntropyLoss()._smooth(targets, inputs.shape[1], self.smoothing)\n",
    "\n",
    "        if self.weight is not None:\n",
    "            inputs = inputs * self.weight.unsqueeze(0)\n",
    "\n",
    "        loss = F.binary_cross_entropy_with_logits(inputs, targets)\n",
    "\n",
    "        return loss"
   ]
  },
  {
   "cell_type": "code",
   "execution_count": 21,
   "metadata": {
    "execution": {
     "iopub.execute_input": "2020-11-15T06:58:06.627463Z",
     "iopub.status.busy": "2020-11-15T06:58:06.626425Z",
     "iopub.status.idle": "2020-11-15T06:58:06.638498Z",
     "shell.execute_reply": "2020-11-15T06:58:06.639730Z"
    },
    "papermill": {
     "duration": 0.064834,
     "end_time": "2020-11-15T06:58:06.639924",
     "exception": false,
     "start_time": "2020-11-15T06:58:06.575090",
     "status": "completed"
    },
    "tags": []
   },
   "outputs": [],
   "source": [
    "class Model(nn.Module):\n",
    "    def __init__(self, num_features, num_targets, hidden_size1=388,hidden_size2=512,drop_rate1=0.0,drop_rate2=0.3,drop_rate3=0.3):\n",
    "        super(Model, self).__init__()\n",
    "        self.batch_norm1 = nn.BatchNorm1d(num_features)\n",
    "        self.dropout1 = nn.Dropout(drop_rate1)\n",
    "        self.dense1 = nn.utils.weight_norm(nn.Linear(num_features, hidden_size1))\n",
    "\n",
    "        self.batch_norm2 = nn.BatchNorm1d(hidden_size1)\n",
    "        self.dropout2 = nn.Dropout(drop_rate2)\n",
    "        self.dense2 = nn.utils.weight_norm(nn.Linear(hidden_size1, hidden_size2))\n",
    "\n",
    "        self.batch_norm3 = nn.BatchNorm1d(hidden_size2)\n",
    "        self.dropout3 = nn.Dropout(drop_rate3)\n",
    "        self.dense3 = nn.utils.weight_norm(nn.Linear(hidden_size2, num_targets))\n",
    "        \n",
    "    def forward(self, x):\n",
    "        \n",
    "        x = self.batch_norm1(x)\n",
    "        x = self.dropout1(x)\n",
    "        x = F.relu(self.dense1(x))\n",
    "        \n",
    "        x = self.batch_norm2(x)\n",
    "        x = self.dropout2(x)\n",
    "        x = F.relu(self.dense2(x))\n",
    "        \n",
    "        x = self.batch_norm3(x)\n",
    "        x = self.dropout3(x)\n",
    "        x = self.dense3(x)\n",
    "        \n",
    "        return x"
   ]
  },
  {
   "cell_type": "code",
   "execution_count": 22,
   "metadata": {
    "execution": {
     "iopub.execute_input": "2020-11-15T06:58:06.728407Z",
     "iopub.status.busy": "2020-11-15T06:58:06.727385Z",
     "iopub.status.idle": "2020-11-15T06:58:06.789579Z",
     "shell.execute_reply": "2020-11-15T06:58:06.790785Z"
    },
    "papermill": {
     "duration": 0.11405,
     "end_time": "2020-11-15T06:58:06.790970",
     "exception": false,
     "start_time": "2020-11-15T06:58:06.676920",
     "status": "completed"
    },
    "tags": []
   },
   "outputs": [],
   "source": [
    "#params for one cycle schedule\n",
    "device = ('cuda' if torch.cuda.is_available() else 'cpu')\n",
    "train_epochs = 20\n",
    "batch_size = 256\n",
    "n_folds = 7\n",
    "\n",
    "smoothing = 0.001\n",
    "p_min = smoothing\n",
    "p_max = 1 - p_min\n",
    "\n",
    "def mean_log_loss(y_true, y_pred):\n",
    "    metrics = []\n",
    "    for i, target in enumerate(target_feats):\n",
    "        metrics.append(log_loss(y_true[:, i], y_pred[:, i].astype(float), labels=[0,1]))\n",
    "    return np.mean(metrics)\n",
    "\n",
    "def modelling_dae(tr, target, te, sample_seed, init_num, last_num):\n",
    "    seed_everything(seed=sample_seed) \n",
    "    X_train = tr.copy()\n",
    "    y_train = target.copy()\n",
    "    X_test = te.copy()\n",
    "    test_len = X_test.shape[0]\n",
    "    \n",
    "    mskf=MultilabelStratifiedKFold(n_splits = n_folds, shuffle=True, random_state=224)\n",
    "    metric = lambda inputs, targets : F.binary_cross_entropy((torch.clamp(torch.sigmoid(inputs), p_min, p_max)), targets)\n",
    "\n",
    "    models = []\n",
    "    \n",
    "    X_test2 = torch.tensor(X_test, dtype=torch.float32)\n",
    "    test = torch.utils.data.TensorDataset(X_test2) \n",
    "    test_loader = torch.utils.data.DataLoader(test, batch_size=batch_size, shuffle=False)\n",
    "    \n",
    "    oof = np.zeros([len(X_train),y_train.shape[1]])\n",
    "    oof_targets = np.zeros([len(X_train),y_train.shape[1]])\n",
    "    pred_value = np.zeros([test_len, y_train.shape[1]])\n",
    "    scores = []\n",
    "    for fold in range(n_folds):\n",
    "        valid_index = X_train[:,-1] == fold\n",
    "        train_index = X_train[:,-1] != fold\n",
    "        print(\"Fold \"+str(fold+1))\n",
    "        X_train2 = torch.tensor(X_train[train_index,:], dtype=torch.float32)\n",
    "        X_valid2 = torch.tensor(X_train[valid_index,:], dtype=torch.float32)\n",
    "        X_train2 = X_train2[:,:-1]\n",
    "        X_valid2 = X_valid2[:,:-1]\n",
    "\n",
    "        y_train2 = torch.tensor(y_train[train_index], dtype=torch.float32)\n",
    "        y_valid2 = torch.tensor(y_train[valid_index], dtype=torch.float32)\n",
    "        \n",
    "        train = torch.utils.data.TensorDataset(X_train2, y_train2)\n",
    "        valid = torch.utils.data.TensorDataset(X_valid2, y_valid2)\n",
    "        \n",
    "        train_loader = torch.utils.data.DataLoader(train, batch_size=batch_size, shuffle=True) \n",
    "        valid_loader = torch.utils.data.DataLoader(valid, batch_size=batch_size, shuffle=False)\n",
    "            \n",
    "        clf = Model(init_num, last_num)\n",
    "        loss_fn = SmoothCrossEntropyLoss(smoothing=smoothing)\n",
    "\n",
    "        optimizer = optim.Adam(clf.parameters(), lr = 5e-3, weight_decay=1e-5) \n",
    "        scheduler = optim.lr_scheduler.ReduceLROnPlateau(optimizer, patience=3, factor=0.1, eps=1e-4, verbose=True)                   \n",
    "        \n",
    "        clf.to(device)\n",
    "        \n",
    "        best_val_loss = np.inf\n",
    "        stop_counts = 0\n",
    "        for epoch in range(train_epochs):\n",
    "            start_time = time.time()\n",
    "            clf.train()\n",
    "            avg_loss = 0.\n",
    "            sm_avg_loss = 0.\n",
    "            for x_batch, y_batch in tqdm(train_loader, disable=True):\n",
    "                x_batch = x_batch.to(device)\n",
    "                y_batch = y_batch.to(device)\n",
    "                y_pred = clf(x_batch) \n",
    "                loss = loss_fn(y_pred, y_batch)\n",
    "                optimizer.zero_grad()\n",
    "                loss.backward()\n",
    "                optimizer.step()\n",
    "                avg_loss += loss.item() / len(train_loader)  \n",
    "                sm_avg_loss += metric(y_pred, y_batch) / len(train_loader) \n",
    "                \n",
    "            clf.eval()\n",
    "            avg_val_loss = 0.\n",
    "            sm_avg_val_loss = 0.\n",
    "            for i, (x_batch, y_batch) in enumerate(valid_loader): \n",
    "                x_batch = x_batch.to(device)\n",
    "                y_batch = y_batch.to(device)\n",
    "                y_pred = clf(x_batch).detach()\n",
    "                avg_val_loss += loss_fn(y_pred, y_batch).item() / len(valid_loader)\n",
    "                sm_avg_val_loss += metric(y_pred, y_batch) / len(valid_loader)\n",
    "        \n",
    "            elapsed_time = time.time() - start_time \n",
    "            scheduler.step(sm_avg_val_loss)\n",
    "                    \n",
    "            if sm_avg_val_loss < best_val_loss:\n",
    "                best_val_loss = sm_avg_val_loss\n",
    "                print('Epoch {}   loss={:.5f}   val_loss={:.5f}   sm_loss={:.5f}   sm_val_loss={:.5f}   time={:.2f}s'.format(\n",
    "                    epoch + 1, avg_loss, avg_val_loss, sm_avg_loss, sm_avg_val_loss, elapsed_time))\n",
    "                torch.save(clf.state_dict(), 'best-model-parameters.pt')\n",
    "            else:\n",
    "                stop_counts += 1\n",
    "        \n",
    "        pred_model = Model(init_num, last_num)\n",
    "        pred_model.load_state_dict(torch.load('best-model-parameters.pt'))         \n",
    "        pred_model.eval()\n",
    "        \n",
    "        # validation check ----------------\n",
    "        oof_epoch = np.zeros([X_valid2.size(0), y_train.shape[1]])\n",
    "        target_epoch = np.zeros([X_valid2.size(0), y_train.shape[1]])\n",
    "        for i, (x_batch, y_batch) in enumerate(valid_loader): \n",
    "                y_pred = pred_model(x_batch).detach()\n",
    "                oof_epoch[i * batch_size:(i+1) * batch_size,:] = torch.clamp(torch.sigmoid(y_pred.cpu()), p_min, p_max)\n",
    "                target_epoch[i * batch_size:(i+1) * batch_size,:] = y_batch.cpu().numpy()\n",
    "        print(\"Fold {} log loss: {}\".format(fold+1, mean_log_loss(target_epoch, oof_epoch)))\n",
    "        scores.append(mean_log_loss(target_epoch, oof_epoch))\n",
    "        oof[valid_index,:] = oof_epoch\n",
    "        oof_targets[valid_index,:] = target_epoch\n",
    "        #-----------------------------------\n",
    "        \n",
    "        # test predcition --------------\n",
    "        test_preds = np.zeros([test_len, y_train.shape[1]])\n",
    "        for i, (x_batch,) in enumerate(test_loader): \n",
    "            y_pred = pred_model(x_batch).detach()\n",
    "            test_preds[i * batch_size:(i+1) * batch_size, :] = torch.clamp(torch.sigmoid(y_pred.cpu()), p_min, p_max)\n",
    "        pred_value += test_preds / n_folds\n",
    "        # ------------------------------\n",
    "        \n",
    "    print(\"Seed {}\".format(seed_))\n",
    "    for i, ele in enumerate(scores):\n",
    "        print(\"Fold {} log loss: {}\".format(i+1, scores[i]))\n",
    "    print(\"Std of log loss: {}\".format(np.std(scores)))\n",
    "    print(\"Total log loss: {}\".format(mean_log_loss(oof_targets, oof)))\n",
    "    \n",
    "    return oof, oof_targets, pred_value"
   ]
  },
  {
   "cell_type": "code",
   "execution_count": 23,
   "metadata": {
    "execution": {
     "iopub.execute_input": "2020-11-15T06:58:06.889528Z",
     "iopub.status.busy": "2020-11-15T06:58:06.888345Z",
     "iopub.status.idle": "2020-11-15T07:03:22.682304Z",
     "shell.execute_reply": "2020-11-15T07:03:22.681711Z"
    },
    "papermill": {
     "duration": 315.851588,
     "end_time": "2020-11-15T07:03:22.682453",
     "exception": false,
     "start_time": "2020-11-15T06:58:06.830865",
     "status": "completed"
    },
    "tags": []
   },
   "outputs": [
    {
     "name": "stdout",
     "output_type": "stream",
     "text": [
      "Fold 1\n",
      "Epoch 1   loss=0.21954   val_loss=0.02600   sm_loss=0.21951   sm_val_loss=0.02599   time=0.67s\n",
      "Epoch 2   loss=0.02299   val_loss=0.02119   sm_loss=0.02295   sm_val_loss=0.02118   time=0.73s\n",
      "Epoch 3   loss=0.02010   val_loss=0.01922   sm_loss=0.02011   sm_val_loss=0.01923   time=0.92s\n",
      "Epoch 4   loss=0.01882   val_loss=0.01838   sm_loss=0.01886   sm_val_loss=0.01843   time=0.64s\n",
      "Epoch 5   loss=0.01801   val_loss=0.01812   sm_loss=0.01807   sm_val_loss=0.01816   time=0.85s\n",
      "Epoch 6   loss=0.01739   val_loss=0.01802   sm_loss=0.01748   sm_val_loss=0.01806   time=0.69s\n",
      "Epoch 7   loss=0.01705   val_loss=0.01804   sm_loss=0.01716   sm_val_loss=0.01803   time=0.64s\n",
      "Epoch 9   loss=0.01650   val_loss=0.01771   sm_loss=0.01665   sm_val_loss=0.01775   time=0.66s\n",
      "Epoch    13: reducing learning rate of group 0 to 5.0000e-04.\n",
      "Epoch 14   loss=0.01489   val_loss=0.01745   sm_loss=0.01509   sm_val_loss=0.01748   time=0.68s\n",
      "Epoch    18: reducing learning rate of group 0 to 5.0000e-05.\n",
      "Fold 1 log loss: 0.01765136781067914\n",
      "Fold 2\n",
      "Epoch 1   loss=0.22240   val_loss=0.02577   sm_loss=0.22237   sm_val_loss=0.02576   time=0.61s\n",
      "Epoch 2   loss=0.02273   val_loss=0.02130   sm_loss=0.02271   sm_val_loss=0.02129   time=0.61s\n",
      "Epoch 3   loss=0.02002   val_loss=0.01947   sm_loss=0.02002   sm_val_loss=0.01950   time=0.62s\n",
      "Epoch 4   loss=0.01896   val_loss=0.01878   sm_loss=0.01898   sm_val_loss=0.01884   time=0.61s\n",
      "Epoch 5   loss=0.01804   val_loss=0.01850   sm_loss=0.01809   sm_val_loss=0.01854   time=0.61s\n",
      "Epoch 6   loss=0.01738   val_loss=0.01834   sm_loss=0.01747   sm_val_loss=0.01840   time=0.64s\n",
      "Epoch    10: reducing learning rate of group 0 to 5.0000e-04.\n",
      "Epoch 11   loss=0.01508   val_loss=0.01790   sm_loss=0.01527   sm_val_loss=0.01798   time=0.61s\n",
      "Epoch 12   loss=0.01437   val_loss=0.01787   sm_loss=0.01457   sm_val_loss=0.01794   time=0.62s\n",
      "Epoch    16: reducing learning rate of group 0 to 5.0000e-05.\n",
      "Fold 2 log loss: 0.017994475194805938\n",
      "Fold 3\n",
      "Epoch 1   loss=0.22064   val_loss=0.02596   sm_loss=0.22062   sm_val_loss=0.02596   time=0.61s\n",
      "Epoch 2   loss=0.02285   val_loss=0.02100   sm_loss=0.02283   sm_val_loss=0.02099   time=0.77s\n",
      "Epoch 3   loss=0.02023   val_loss=0.01928   sm_loss=0.02023   sm_val_loss=0.01930   time=0.74s\n",
      "Epoch 4   loss=0.01889   val_loss=0.01859   sm_loss=0.01892   sm_val_loss=0.01862   time=0.61s\n",
      "Epoch 5   loss=0.01803   val_loss=0.01822   sm_loss=0.01809   sm_val_loss=0.01827   time=0.61s\n",
      "Epoch 6   loss=0.01736   val_loss=0.01821   sm_loss=0.01745   sm_val_loss=0.01826   time=0.68s\n",
      "Epoch 8   loss=0.01681   val_loss=0.01817   sm_loss=0.01693   sm_val_loss=0.01822   time=0.63s\n",
      "Epoch 9   loss=0.01653   val_loss=0.01815   sm_loss=0.01667   sm_val_loss=0.01819   time=0.62s\n",
      "Epoch 10   loss=0.01623   val_loss=0.01818   sm_loss=0.01639   sm_val_loss=0.01818   time=0.75s\n",
      "Epoch 11   loss=0.01611   val_loss=0.01811   sm_loss=0.01627   sm_val_loss=0.01815   time=0.62s\n",
      "Epoch    15: reducing learning rate of group 0 to 5.0000e-04.\n",
      "Epoch 16   loss=0.01467   val_loss=0.01775   sm_loss=0.01488   sm_val_loss=0.01778   time=0.61s\n",
      "Epoch    20: reducing learning rate of group 0 to 5.0000e-05.\n",
      "Fold 3 log loss: 0.01786456502320962\n",
      "Fold 4\n",
      "Epoch 1   loss=0.22023   val_loss=0.02549   sm_loss=0.22019   sm_val_loss=0.02548   time=0.61s\n",
      "Epoch 2   loss=0.02271   val_loss=0.02139   sm_loss=0.02270   sm_val_loss=0.02138   time=0.62s\n",
      "Epoch 3   loss=0.02007   val_loss=0.01967   sm_loss=0.02006   sm_val_loss=0.01968   time=0.61s\n",
      "Epoch 4   loss=0.01883   val_loss=0.01872   sm_loss=0.01886   sm_val_loss=0.01874   time=0.63s\n",
      "Epoch 6   loss=0.01767   val_loss=0.01839   sm_loss=0.01774   sm_val_loss=0.01843   time=0.64s\n",
      "Epoch 7   loss=0.01710   val_loss=0.01821   sm_loss=0.01721   sm_val_loss=0.01824   time=0.79s\n",
      "Epoch    11: reducing learning rate of group 0 to 5.0000e-04.\n",
      "Epoch 12   loss=0.01516   val_loss=0.01779   sm_loss=0.01534   sm_val_loss=0.01784   time=0.61s\n",
      "Epoch 13   loss=0.01449   val_loss=0.01778   sm_loss=0.01469   sm_val_loss=0.01783   time=0.78s\n",
      "Epoch    17: reducing learning rate of group 0 to 5.0000e-05.\n",
      "Fold 4 log loss: 0.01783720832365305\n",
      "Fold 5\n",
      "Epoch 1   loss=0.22190   val_loss=0.02593   sm_loss=0.22184   sm_val_loss=0.02590   time=0.73s\n",
      "Epoch 2   loss=0.02283   val_loss=0.02116   sm_loss=0.02282   sm_val_loss=0.02115   time=0.63s\n",
      "Epoch 3   loss=0.02019   val_loss=0.01959   sm_loss=0.02021   sm_val_loss=0.01958   time=0.61s\n",
      "Epoch 4   loss=0.01897   val_loss=0.01855   sm_loss=0.01901   sm_val_loss=0.01856   time=0.80s\n",
      "Epoch 5   loss=0.01807   val_loss=0.01858   sm_loss=0.01813   sm_val_loss=0.01854   time=0.61s\n",
      "Epoch 6   loss=0.01742   val_loss=0.01814   sm_loss=0.01751   sm_val_loss=0.01799   time=0.61s\n",
      "Epoch    10: reducing learning rate of group 0 to 5.0000e-04.\n",
      "Epoch 11   loss=0.01526   val_loss=0.01769   sm_loss=0.01544   sm_val_loss=0.01771   time=0.67s\n",
      "Epoch 12   loss=0.01462   val_loss=0.01766   sm_loss=0.01481   sm_val_loss=0.01768   time=0.70s\n",
      "Epoch    16: reducing learning rate of group 0 to 5.0000e-05.\n",
      "Fold 5 log loss: 0.017590193310581988\n",
      "Fold 6\n",
      "Epoch 1   loss=0.22754   val_loss=0.02504   sm_loss=0.22751   sm_val_loss=0.02503   time=0.97s\n",
      "Epoch 2   loss=0.02275   val_loss=0.02108   sm_loss=0.02273   sm_val_loss=0.02107   time=0.63s\n",
      "Epoch 3   loss=0.02013   val_loss=0.01944   sm_loss=0.02013   sm_val_loss=0.01944   time=0.62s\n",
      "Epoch 4   loss=0.01887   val_loss=0.01855   sm_loss=0.01890   sm_val_loss=0.01859   time=0.61s\n",
      "Epoch 5   loss=0.01795   val_loss=0.01830   sm_loss=0.01801   sm_val_loss=0.01834   time=0.62s\n",
      "Epoch 6   loss=0.01752   val_loss=0.01809   sm_loss=0.01761   sm_val_loss=0.01814   time=0.63s\n",
      "Epoch 10   loss=0.01630   val_loss=0.01807   sm_loss=0.01645   sm_val_loss=0.01808   time=0.64s\n",
      "Epoch    14: reducing learning rate of group 0 to 5.0000e-04.\n",
      "Epoch 15   loss=0.01478   val_loss=0.01776   sm_loss=0.01498   sm_val_loss=0.01779   time=0.61s\n",
      "Epoch    19: reducing learning rate of group 0 to 5.0000e-05.\n",
      "Fold 6 log loss: 0.018055015473594886\n",
      "Fold 7\n",
      "Epoch 1   loss=0.21807   val_loss=0.02477   sm_loss=0.21806   sm_val_loss=0.02476   time=0.62s\n",
      "Epoch 2   loss=0.02283   val_loss=0.02113   sm_loss=0.02282   sm_val_loss=0.02112   time=0.65s\n",
      "Epoch 3   loss=0.02025   val_loss=0.01935   sm_loss=0.02025   sm_val_loss=0.01938   time=0.62s\n",
      "Epoch 4   loss=0.01896   val_loss=0.01863   sm_loss=0.01899   sm_val_loss=0.01866   time=0.60s\n",
      "Epoch 5   loss=0.01808   val_loss=0.01829   sm_loss=0.01815   sm_val_loss=0.01832   time=0.62s\n",
      "Epoch 7   loss=0.01712   val_loss=0.01825   sm_loss=0.01723   sm_val_loss=0.01830   time=0.63s\n",
      "Epoch    11: reducing learning rate of group 0 to 5.0000e-04.\n",
      "Epoch 12   loss=0.01487   val_loss=0.01774   sm_loss=0.01506   sm_val_loss=0.01780   time=0.94s\n",
      "Epoch    16: reducing learning rate of group 0 to 5.0000e-05.\n",
      "Fold 7 log loss: 0.01796280184080204\n",
      "Seed 0\n",
      "Fold 1 log loss: 0.01765136781067914\n",
      "Fold 2 log loss: 0.017994475194805938\n",
      "Fold 3 log loss: 0.01786456502320962\n",
      "Fold 4 log loss: 0.01783720832365305\n",
      "Fold 5 log loss: 0.017590193310581988\n",
      "Fold 6 log loss: 0.018055015473594886\n",
      "Fold 7 log loss: 0.01796280184080204\n",
      "Std of log loss: 0.0001616672896209968\n",
      "Total log loss: 0.017850296452382453\n",
      "Fold 1\n",
      "Epoch 1   loss=0.22176   val_loss=0.02473   sm_loss=0.22174   sm_val_loss=0.02473   time=0.64s\n",
      "Epoch 2   loss=0.02268   val_loss=0.02088   sm_loss=0.02267   sm_val_loss=0.02087   time=0.62s\n",
      "Epoch 3   loss=0.02012   val_loss=0.02053   sm_loss=0.02012   sm_val_loss=0.02051   time=0.62s\n",
      "Epoch 4   loss=0.01891   val_loss=0.01828   sm_loss=0.01894   sm_val_loss=0.01832   time=0.87s\n",
      "Epoch 5   loss=0.01803   val_loss=0.01808   sm_loss=0.01809   sm_val_loss=0.01812   time=0.62s\n",
      "Epoch 6   loss=0.01746   val_loss=0.01795   sm_loss=0.01755   sm_val_loss=0.01800   time=0.62s\n",
      "Epoch 8   loss=0.01672   val_loss=0.01775   sm_loss=0.01686   sm_val_loss=0.01781   time=0.64s\n",
      "Epoch    12: reducing learning rate of group 0 to 5.0000e-04.\n",
      "Epoch 13   loss=0.01488   val_loss=0.01742   sm_loss=0.01508   sm_val_loss=0.01748   time=0.61s\n",
      "Epoch    17: reducing learning rate of group 0 to 5.0000e-05.\n",
      "Fold 1 log loss: 0.01764934134923341\n",
      "Fold 2\n",
      "Epoch 1   loss=0.22045   val_loss=0.02543   sm_loss=0.22042   sm_val_loss=0.02542   time=0.79s\n",
      "Epoch 2   loss=0.02272   val_loss=0.02137   sm_loss=0.02271   sm_val_loss=0.02136   time=0.65s\n",
      "Epoch 3   loss=0.02010   val_loss=0.01951   sm_loss=0.02011   sm_val_loss=0.01952   time=0.62s\n",
      "Epoch 4   loss=0.01874   val_loss=0.01911   sm_loss=0.01877   sm_val_loss=0.01913   time=0.60s\n",
      "Epoch 5   loss=0.01789   val_loss=0.01864   sm_loss=0.01796   sm_val_loss=0.01869   time=0.64s\n",
      "Epoch 6   loss=0.01735   val_loss=0.01826   sm_loss=0.01744   sm_val_loss=0.01832   time=0.61s\n",
      "Epoch    10: reducing learning rate of group 0 to 5.0000e-04.\n",
      "Epoch 11   loss=0.01519   val_loss=0.01791   sm_loss=0.01537   sm_val_loss=0.01798   time=0.65s\n",
      "Epoch 12   loss=0.01454   val_loss=0.01788   sm_loss=0.01473   sm_val_loss=0.01793   time=0.61s\n",
      "Epoch    16: reducing learning rate of group 0 to 5.0000e-05.\n",
      "Fold 2 log loss: 0.017968840297852555\n",
      "Fold 3\n",
      "Epoch 1   loss=0.22123   val_loss=0.02478   sm_loss=0.22121   sm_val_loss=0.02478   time=0.59s\n",
      "Epoch 2   loss=0.02266   val_loss=0.02095   sm_loss=0.02266   sm_val_loss=0.02094   time=0.60s\n",
      "Epoch 3   loss=0.02009   val_loss=0.01934   sm_loss=0.02009   sm_val_loss=0.01934   time=0.60s\n",
      "Epoch 4   loss=0.01888   val_loss=0.01846   sm_loss=0.01891   sm_val_loss=0.01850   time=0.60s\n",
      "Epoch 5   loss=0.01800   val_loss=0.01832   sm_loss=0.01805   sm_val_loss=0.01835   time=0.60s\n",
      "Epoch 6   loss=0.01748   val_loss=0.01806   sm_loss=0.01756   sm_val_loss=0.01812   time=0.73s\n",
      "Epoch    10: reducing learning rate of group 0 to 5.0000e-04.\n",
      "Epoch 11   loss=0.01509   val_loss=0.01767   sm_loss=0.01527   sm_val_loss=0.01771   time=0.60s\n",
      "Epoch    15: reducing learning rate of group 0 to 5.0000e-05.\n",
      "Fold 3 log loss: 0.017795203513685142\n",
      "Fold 4\n",
      "Epoch 1   loss=0.22065   val_loss=0.02551   sm_loss=0.22063   sm_val_loss=0.02551   time=0.59s\n",
      "Epoch 2   loss=0.02278   val_loss=0.02122   sm_loss=0.02278   sm_val_loss=0.02120   time=0.61s\n",
      "Epoch 3   loss=0.02007   val_loss=0.01967   sm_loss=0.02007   sm_val_loss=0.01966   time=0.78s\n",
      "Epoch 4   loss=0.01878   val_loss=0.01864   sm_loss=0.01881   sm_val_loss=0.01868   time=0.87s\n",
      "Epoch 5   loss=0.01796   val_loss=0.01845   sm_loss=0.01802   sm_val_loss=0.01849   time=0.64s\n",
      "Epoch 6   loss=0.01736   val_loss=0.01829   sm_loss=0.01745   sm_val_loss=0.01832   time=0.63s\n",
      "Epoch 7   loss=0.01693   val_loss=0.01827   sm_loss=0.01704   sm_val_loss=0.01832   time=0.62s\n",
      "Epoch 9   loss=0.01649   val_loss=0.01827   sm_loss=0.01664   sm_val_loss=0.01831   time=0.61s\n",
      "Epoch 10   loss=0.01633   val_loss=0.01827   sm_loss=0.01648   sm_val_loss=0.01829   time=0.62s\n",
      "Epoch    14: reducing learning rate of group 0 to 5.0000e-04.\n",
      "Epoch 15   loss=0.01473   val_loss=0.01787   sm_loss=0.01493   sm_val_loss=0.01789   time=0.60s\n",
      "Epoch    19: reducing learning rate of group 0 to 5.0000e-05.\n",
      "Fold 4 log loss: 0.01786267433122082\n",
      "Fold 5\n",
      "Epoch 1   loss=0.22140   val_loss=0.02636   sm_loss=0.22135   sm_val_loss=0.02635   time=0.61s\n",
      "Epoch 2   loss=0.02291   val_loss=0.02122   sm_loss=0.02291   sm_val_loss=0.02117   time=0.62s\n",
      "Epoch 3   loss=0.02015   val_loss=0.02007   sm_loss=0.02016   sm_val_loss=0.02000   time=0.61s\n",
      "Epoch 4   loss=0.01902   val_loss=0.01857   sm_loss=0.01905   sm_val_loss=0.01850   time=0.63s\n",
      "Epoch 5   loss=0.01796   val_loss=0.01816   sm_loss=0.01803   sm_val_loss=0.01813   time=0.60s\n",
      "Epoch     9: reducing learning rate of group 0 to 5.0000e-04.\n",
      "Epoch 10   loss=0.01538   val_loss=0.01767   sm_loss=0.01555   sm_val_loss=0.01768   time=0.64s\n",
      "Epoch    14: reducing learning rate of group 0 to 5.0000e-05.\n",
      "Fold 5 log loss: 0.017592022008369974\n",
      "Fold 6\n",
      "Epoch 1   loss=0.22188   val_loss=0.02572   sm_loss=0.22187   sm_val_loss=0.02572   time=0.87s\n",
      "Epoch 2   loss=0.02280   val_loss=0.02130   sm_loss=0.02278   sm_val_loss=0.02129   time=0.61s\n",
      "Epoch 3   loss=0.02008   val_loss=0.01926   sm_loss=0.02007   sm_val_loss=0.01927   time=0.61s\n",
      "Epoch 4   loss=0.01880   val_loss=0.01862   sm_loss=0.01883   sm_val_loss=0.01866   time=0.61s\n",
      "Epoch 5   loss=0.01816   val_loss=0.01842   sm_loss=0.01821   sm_val_loss=0.01846   time=0.67s\n",
      "Epoch 6   loss=0.01744   val_loss=0.01828   sm_loss=0.01753   sm_val_loss=0.01830   time=0.61s\n",
      "Epoch 7   loss=0.01711   val_loss=0.01812   sm_loss=0.01722   sm_val_loss=0.01815   time=0.60s\n",
      "Epoch    11: reducing learning rate of group 0 to 5.0000e-04.\n",
      "Epoch 12   loss=0.01512   val_loss=0.01780   sm_loss=0.01531   sm_val_loss=0.01784   time=0.62s\n",
      "Epoch 13   loss=0.01439   val_loss=0.01779   sm_loss=0.01459   sm_val_loss=0.01783   time=0.62s\n",
      "Epoch    17: reducing learning rate of group 0 to 5.0000e-05.\n",
      "Fold 6 log loss: 0.018060732064348505\n",
      "Fold 7\n",
      "Epoch 1   loss=0.22232   val_loss=0.02534   sm_loss=0.22230   sm_val_loss=0.02533   time=0.88s\n",
      "Epoch 2   loss=0.02281   val_loss=0.02132   sm_loss=0.02280   sm_val_loss=0.02131   time=0.72s\n",
      "Epoch 3   loss=0.02008   val_loss=0.01938   sm_loss=0.02006   sm_val_loss=0.01940   time=0.61s\n",
      "Epoch 4   loss=0.01884   val_loss=0.01854   sm_loss=0.01886   sm_val_loss=0.01856   time=0.86s\n",
      "Epoch 5   loss=0.01798   val_loss=0.01834   sm_loss=0.01803   sm_val_loss=0.01836   time=0.60s\n",
      "Epoch 6   loss=0.01735   val_loss=0.01821   sm_loss=0.01743   sm_val_loss=0.01828   time=0.60s\n",
      "Epoch 7   loss=0.01705   val_loss=0.01818   sm_loss=0.01716   sm_val_loss=0.01824   time=0.59s\n",
      "Epoch    11: reducing learning rate of group 0 to 5.0000e-04.\n",
      "Epoch 12   loss=0.01507   val_loss=0.01778   sm_loss=0.01526   sm_val_loss=0.01783   time=0.60s\n",
      "Epoch    16: reducing learning rate of group 0 to 5.0000e-05.\n",
      "Fold 7 log loss: 0.018002582644341805\n",
      "Seed 1\n",
      "Fold 1 log loss: 0.01764934134923341\n",
      "Fold 2 log loss: 0.017968840297852555\n",
      "Fold 3 log loss: 0.017795203513685142\n",
      "Fold 4 log loss: 0.01786267433122082\n",
      "Fold 5 log loss: 0.017592022008369974\n",
      "Fold 6 log loss: 0.018060732064348505\n",
      "Fold 7 log loss: 0.018002582644341805\n",
      "Std of log loss: 0.00016550479991507758\n",
      "Total log loss: 0.017846837647640425\n",
      "Fold 1\n",
      "Epoch 1   loss=0.21957   val_loss=0.02546   sm_loss=0.21954   sm_val_loss=0.02545   time=0.59s\n",
      "Epoch 2   loss=0.02300   val_loss=0.02081   sm_loss=0.02299   sm_val_loss=0.02081   time=0.60s\n",
      "Epoch 3   loss=0.02020   val_loss=0.01921   sm_loss=0.02021   sm_val_loss=0.01924   time=0.61s\n",
      "Epoch 4   loss=0.01893   val_loss=0.01837   sm_loss=0.01896   sm_val_loss=0.01839   time=0.61s\n",
      "Epoch 5   loss=0.01802   val_loss=0.01807   sm_loss=0.01808   sm_val_loss=0.01812   time=0.66s\n",
      "Epoch 6   loss=0.01745   val_loss=0.01797   sm_loss=0.01754   sm_val_loss=0.01802   time=0.61s\n",
      "Epoch 8   loss=0.01673   val_loss=0.01797   sm_loss=0.01687   sm_val_loss=0.01802   time=0.73s\n",
      "Epoch 10   loss=0.01635   val_loss=0.01795   sm_loss=0.01650   sm_val_loss=0.01800   time=0.60s\n",
      "Epoch 11   loss=0.01619   val_loss=0.01788   sm_loss=0.01635   sm_val_loss=0.01790   time=0.60s\n",
      "Epoch 12   loss=0.01616   val_loss=0.01788   sm_loss=0.01633   sm_val_loss=0.01790   time=0.60s\n",
      "Epoch    15: reducing learning rate of group 0 to 5.0000e-04.\n",
      "Epoch 16   loss=0.01478   val_loss=0.01745   sm_loss=0.01499   sm_val_loss=0.01749   time=0.64s\n",
      "Epoch    20: reducing learning rate of group 0 to 5.0000e-05.\n",
      "Fold 1 log loss: 0.01766615544386504\n",
      "Fold 2\n",
      "Epoch 1   loss=0.21844   val_loss=0.02547   sm_loss=0.21841   sm_val_loss=0.02546   time=0.61s\n",
      "Epoch 2   loss=0.02287   val_loss=0.02143   sm_loss=0.02285   sm_val_loss=0.02142   time=0.60s\n",
      "Epoch 3   loss=0.02026   val_loss=0.02004   sm_loss=0.02024   sm_val_loss=0.02005   time=0.60s\n",
      "Epoch 4   loss=0.01891   val_loss=0.01887   sm_loss=0.01894   sm_val_loss=0.01890   time=0.79s\n",
      "Epoch 5   loss=0.01800   val_loss=0.01839   sm_loss=0.01804   sm_val_loss=0.01846   time=0.86s\n",
      "Epoch 7   loss=0.01726   val_loss=0.01841   sm_loss=0.01736   sm_val_loss=0.01846   time=0.61s\n",
      "Epoch 8   loss=0.01692   val_loss=0.01839   sm_loss=0.01705   sm_val_loss=0.01846   time=0.71s\n",
      "Epoch 10   loss=0.01636   val_loss=0.01827   sm_loss=0.01652   sm_val_loss=0.01831   time=0.61s\n",
      "Epoch    14: reducing learning rate of group 0 to 5.0000e-04.\n",
      "Epoch 15   loss=0.01480   val_loss=0.01789   sm_loss=0.01501   sm_val_loss=0.01795   time=0.60s\n",
      "Epoch    19: reducing learning rate of group 0 to 5.0000e-05.\n",
      "Fold 2 log loss: 0.017993993855135712\n",
      "Fold 3\n",
      "Epoch 1   loss=0.21986   val_loss=0.02512   sm_loss=0.21984   sm_val_loss=0.02511   time=0.60s\n",
      "Epoch 2   loss=0.02280   val_loss=0.02088   sm_loss=0.02279   sm_val_loss=0.02088   time=1.09s\n",
      "Epoch 3   loss=0.02012   val_loss=0.01928   sm_loss=0.02013   sm_val_loss=0.01930   time=0.61s\n",
      "Epoch 4   loss=0.01880   val_loss=0.01856   sm_loss=0.01882   sm_val_loss=0.01858   time=0.78s\n",
      "Epoch 5   loss=0.01799   val_loss=0.01821   sm_loss=0.01805   sm_val_loss=0.01826   time=0.71s\n",
      "Epoch 6   loss=0.01738   val_loss=0.01816   sm_loss=0.01747   sm_val_loss=0.01821   time=0.63s\n",
      "Epoch 7   loss=0.01702   val_loss=0.01814   sm_loss=0.01712   sm_val_loss=0.01819   time=0.81s\n",
      "Epoch 9   loss=0.01648   val_loss=0.01810   sm_loss=0.01661   sm_val_loss=0.01815   time=0.60s\n",
      "Epoch 10   loss=0.01618   val_loss=0.01808   sm_loss=0.01633   sm_val_loss=0.01808   time=0.62s\n",
      "Epoch    14: reducing learning rate of group 0 to 5.0000e-04.\n",
      "Epoch 15   loss=0.01480   val_loss=0.01772   sm_loss=0.01500   sm_val_loss=0.01775   time=0.64s\n",
      "Epoch    19: reducing learning rate of group 0 to 5.0000e-05.\n",
      "Fold 3 log loss: 0.017835718689746725\n",
      "Fold 4\n",
      "Epoch 1   loss=0.22054   val_loss=0.02617   sm_loss=0.22053   sm_val_loss=0.02616   time=0.62s\n",
      "Epoch 2   loss=0.02268   val_loss=0.02127   sm_loss=0.02268   sm_val_loss=0.02126   time=0.64s\n",
      "Epoch 3   loss=0.02005   val_loss=0.01965   sm_loss=0.02006   sm_val_loss=0.01965   time=0.61s\n",
      "Epoch 4   loss=0.01877   val_loss=0.01879   sm_loss=0.01881   sm_val_loss=0.01881   time=0.62s\n",
      "Epoch 5   loss=0.01801   val_loss=0.01844   sm_loss=0.01806   sm_val_loss=0.01849   time=0.61s\n",
      "Epoch 9   loss=0.01650   val_loss=0.01828   sm_loss=0.01665   sm_val_loss=0.01832   time=0.71s\n",
      "Epoch    13: reducing learning rate of group 0 to 5.0000e-04.\n",
      "Epoch 14   loss=0.01488   val_loss=0.01776   sm_loss=0.01508   sm_val_loss=0.01781   time=0.89s\n",
      "Epoch 15   loss=0.01419   val_loss=0.01776   sm_loss=0.01440   sm_val_loss=0.01781   time=0.66s\n",
      "Epoch    19: reducing learning rate of group 0 to 5.0000e-05.\n",
      "Fold 4 log loss: 0.017809937858110254\n",
      "Fold 5\n",
      "Epoch 1   loss=0.22183   val_loss=0.02635   sm_loss=0.22180   sm_val_loss=0.02635   time=0.60s\n",
      "Epoch 2   loss=0.02289   val_loss=0.02137   sm_loss=0.02288   sm_val_loss=0.02136   time=0.62s\n",
      "Epoch 3   loss=0.02023   val_loss=0.01959   sm_loss=0.02024   sm_val_loss=0.01952   time=0.60s\n",
      "Epoch 4   loss=0.01891   val_loss=0.01854   sm_loss=0.01894   sm_val_loss=0.01853   time=0.60s\n",
      "Epoch 5   loss=0.01801   val_loss=0.01800   sm_loss=0.01808   sm_val_loss=0.01799   time=0.61s\n",
      "Epoch 6   loss=0.01749   val_loss=0.01796   sm_loss=0.01757   sm_val_loss=0.01798   time=0.60s\n",
      "Epoch 8   loss=0.01686   val_loss=0.01790   sm_loss=0.01699   sm_val_loss=0.01790   time=0.60s\n",
      "Epoch    12: reducing learning rate of group 0 to 5.0000e-04.\n",
      "Epoch 13   loss=0.01501   val_loss=0.01770   sm_loss=0.01520   sm_val_loss=0.01770   time=0.74s\n",
      "Epoch 14   loss=0.01436   val_loss=0.01770   sm_loss=0.01457   sm_val_loss=0.01770   time=0.62s\n",
      "Epoch    17: reducing learning rate of group 0 to 5.0000e-05.\n",
      "Fold 5 log loss: 0.017600476574832827\n",
      "Fold 6\n",
      "Epoch 1   loss=0.22159   val_loss=0.02532   sm_loss=0.22158   sm_val_loss=0.02531   time=0.63s\n",
      "Epoch 2   loss=0.02263   val_loss=0.02073   sm_loss=0.02262   sm_val_loss=0.02072   time=0.63s\n",
      "Epoch 3   loss=0.02013   val_loss=0.01938   sm_loss=0.02013   sm_val_loss=0.01940   time=0.79s\n",
      "Epoch 4   loss=0.01888   val_loss=0.01854   sm_loss=0.01891   sm_val_loss=0.01857   time=0.66s\n",
      "Epoch 5   loss=0.01791   val_loss=0.01837   sm_loss=0.01797   sm_val_loss=0.01839   time=0.62s\n",
      "Epoch 6   loss=0.01778   val_loss=0.01832   sm_loss=0.01784   sm_val_loss=0.01837   time=0.61s\n",
      "Epoch 7   loss=0.01715   val_loss=0.01826   sm_loss=0.01726   sm_val_loss=0.01830   time=0.63s\n",
      "Epoch 9   loss=0.01652   val_loss=0.01814   sm_loss=0.01666   sm_val_loss=0.01818   time=0.65s\n",
      "Epoch    13: reducing learning rate of group 0 to 5.0000e-04.\n",
      "Epoch 14   loss=0.01491   val_loss=0.01778   sm_loss=0.01511   sm_val_loss=0.01780   time=0.64s\n",
      "Epoch 15   loss=0.01419   val_loss=0.01775   sm_loss=0.01440   sm_val_loss=0.01778   time=0.63s\n",
      "Epoch    19: reducing learning rate of group 0 to 5.0000e-05.\n",
      "Fold 6 log loss: 0.01808317057505793\n",
      "Fold 7\n",
      "Epoch 1   loss=0.22119   val_loss=0.02532   sm_loss=0.22116   sm_val_loss=0.02531   time=0.62s\n",
      "Epoch 2   loss=0.02266   val_loss=0.02095   sm_loss=0.02266   sm_val_loss=0.02094   time=0.87s\n",
      "Epoch 3   loss=0.02028   val_loss=0.01945   sm_loss=0.02026   sm_val_loss=0.01947   time=0.78s\n",
      "Epoch 4   loss=0.01889   val_loss=0.01868   sm_loss=0.01891   sm_val_loss=0.01870   time=0.64s\n",
      "Epoch 5   loss=0.01792   val_loss=0.01826   sm_loss=0.01799   sm_val_loss=0.01831   time=0.65s\n",
      "Epoch 6   loss=0.01744   val_loss=0.01823   sm_loss=0.01753   sm_val_loss=0.01829   time=0.66s\n",
      "Epoch 8   loss=0.01687   val_loss=0.01806   sm_loss=0.01700   sm_val_loss=0.01810   time=0.63s\n",
      "Epoch    12: reducing learning rate of group 0 to 5.0000e-04.\n",
      "Epoch 13   loss=0.01489   val_loss=0.01792   sm_loss=0.01508   sm_val_loss=0.01794   time=0.93s\n",
      "Epoch    17: reducing learning rate of group 0 to 5.0000e-05.\n",
      "Fold 7 log loss: 0.018091973141273605\n",
      "Seed 2\n",
      "Fold 1 log loss: 0.01766615544386504\n",
      "Fold 2 log loss: 0.017993993855135712\n",
      "Fold 3 log loss: 0.017835718689746725\n",
      "Fold 4 log loss: 0.017809937858110254\n",
      "Fold 5 log loss: 0.017600476574832827\n",
      "Fold 6 log loss: 0.01808317057505793\n",
      "Fold 7 log loss: 0.018091973141273605\n",
      "Std of log loss: 0.0001808929805723948\n",
      "Total log loss: 0.01786824904996662\n",
      "Total log loss in targets: 0.017655316827113902\n"
     ]
    }
   ],
   "source": [
    "seeds = [0,1,2]\n",
    "target_oof = np.zeros([len(fn_train),fn_targets.shape[1]])\n",
    "target_pred = np.zeros([len(fn_test),fn_targets.shape[1]])\n",
    "\n",
    "for seed_ in seeds:\n",
    "    oof, oof_targets, pytorch_pred = modelling_dae(fn_train, fn_targets, fn_test, seed_, fn_train.shape[1]-1, fn_targets.shape[1])\n",
    "    target_oof += oof / len(seeds)\n",
    "    target_pred += pytorch_pred / len(seeds)\n",
    "\n",
    "print(\"Total log loss in targets: {}\".format(mean_log_loss(oof_targets, target_oof)))"
   ]
  },
  {
   "cell_type": "code",
   "execution_count": 24,
   "metadata": {
    "execution": {
     "iopub.execute_input": "2020-11-15T07:03:22.957706Z",
     "iopub.status.busy": "2020-11-15T07:03:22.956647Z",
     "iopub.status.idle": "2020-11-15T07:03:29.895941Z",
     "shell.execute_reply": "2020-11-15T07:03:29.897133Z"
    },
    "papermill": {
     "duration": 7.082693,
     "end_time": "2020-11-15T07:03:29.897327",
     "exception": false,
     "start_time": "2020-11-15T07:03:22.814634",
     "status": "completed"
    },
    "tags": []
   },
   "outputs": [
    {
     "name": "stdout",
     "output_type": "stream",
     "text": [
      "OOF log loss:  0.016271894420151912\n"
     ]
    }
   ],
   "source": [
    "t = pd.read_csv(DATA_DIR + 'train_targets_scored.csv')\n",
    "train_checkscore = t.copy()\n",
    "train_checkscore.loc[train_checkscore.index.isin(cons_train_index),target_feats] = target_oof\n",
    "train_checkscore.loc[train_checkscore.index.isin(noncons_train_index),target_feats] = 0\n",
    "t.drop(\"sig_id\", axis=1, inplace=True)\n",
    "print('OOF log loss: ', log_loss(np.ravel(t), np.ravel(np.array(train_checkscore.iloc[:,1:]))))"
   ]
  },
  {
   "cell_type": "markdown",
   "metadata": {
    "papermill": {
     "duration": 0.190073,
     "end_time": "2020-11-15T07:03:30.277740",
     "exception": false,
     "start_time": "2020-11-15T07:03:30.087667",
     "status": "completed"
    },
    "tags": []
   },
   "source": [
    "- OOF log loss:  0.016306207077664597"
   ]
  },
  {
   "cell_type": "code",
   "execution_count": 25,
   "metadata": {
    "execution": {
     "iopub.execute_input": "2020-11-15T07:03:30.632848Z",
     "iopub.status.busy": "2020-11-15T07:03:30.631852Z",
     "iopub.status.idle": "2020-11-15T07:03:43.202583Z",
     "shell.execute_reply": "2020-11-15T07:03:43.201374Z"
    },
    "papermill": {
     "duration": 12.719441,
     "end_time": "2020-11-15T07:03:43.202718",
     "exception": false,
     "start_time": "2020-11-15T07:03:30.483277",
     "status": "completed"
    },
    "tags": []
   },
   "outputs": [],
   "source": [
    "train_checkscore.to_csv(\"dae_oof.csv\")"
   ]
  },
  {
   "cell_type": "code",
   "execution_count": 26,
   "metadata": {
    "execution": {
     "iopub.execute_input": "2020-11-15T07:03:43.469117Z",
     "iopub.status.busy": "2020-11-15T07:03:43.467592Z",
     "iopub.status.idle": "2020-11-15T07:03:45.903431Z",
     "shell.execute_reply": "2020-11-15T07:03:45.902191Z"
    },
    "papermill": {
     "duration": 2.56953,
     "end_time": "2020-11-15T07:03:45.903607",
     "exception": false,
     "start_time": "2020-11-15T07:03:43.334077",
     "status": "completed"
    },
    "tags": []
   },
   "outputs": [],
   "source": [
    "sub.loc[cons_test_index, target_feats] = target_pred\n",
    "sub.loc[noncons_test_index,target_feats] = 0\n",
    "sub.to_csv('submission.csv', index=False)"
   ]
  },
  {
   "cell_type": "code",
   "execution_count": null,
   "metadata": {
    "papermill": {
     "duration": 0.126188,
     "end_time": "2020-11-15T07:03:46.157179",
     "exception": false,
     "start_time": "2020-11-15T07:03:46.030991",
     "status": "completed"
    },
    "tags": []
   },
   "outputs": [],
   "source": []
  }
 ],
 "metadata": {
  "kernelspec": {
   "display_name": "Python 3",
   "language": "python",
   "name": "python3"
  },
  "language_info": {
   "codemirror_mode": {
    "name": "ipython",
    "version": 3
   },
   "file_extension": ".py",
   "mimetype": "text/x-python",
   "name": "python",
   "nbconvert_exporter": "python",
   "pygments_lexer": "ipython3",
   "version": "3.7.6"
  },
  "papermill": {
   "duration": 405.051097,
   "end_time": "2020-11-15T07:03:47.456261",
   "environment_variables": {},
   "exception": null,
   "input_path": "__notebook__.ipynb",
   "output_path": "__notebook__.ipynb",
   "parameters": {},
   "start_time": "2020-11-15T06:57:02.405164",
   "version": "2.1.0"
  }
 },
 "nbformat": 4,
 "nbformat_minor": 4
}
