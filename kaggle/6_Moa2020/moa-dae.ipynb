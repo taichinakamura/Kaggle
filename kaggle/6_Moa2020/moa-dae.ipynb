{
 "cells": [
  {
   "cell_type": "markdown",
   "metadata": {
    "papermill": {
     "duration": 0.022697,
     "end_time": "2020-11-15T05:45:21.310914",
     "exception": false,
     "start_time": "2020-11-15T05:45:21.288217",
     "status": "completed"
    },
    "tags": []
   },
   "source": [
    "- only consider dae features"
   ]
  },
  {
   "cell_type": "code",
   "execution_count": 1,
   "metadata": {
    "_cell_guid": "b1076dfc-b9ad-4769-8c92-a6c4dae69d19",
    "_uuid": "8f2839f25d086af736a60e9eeb907d3b93b6e0e5",
    "execution": {
     "iopub.execute_input": "2020-11-15T05:45:21.361469Z",
     "iopub.status.busy": "2020-11-15T05:45:21.360593Z",
     "iopub.status.idle": "2020-11-15T05:45:28.371739Z",
     "shell.execute_reply": "2020-11-15T05:45:28.370591Z"
    },
    "papermill": {
     "duration": 7.041815,
     "end_time": "2020-11-15T05:45:28.371891",
     "exception": false,
     "start_time": "2020-11-15T05:45:21.330076",
     "status": "completed"
    },
    "tags": []
   },
   "outputs": [],
   "source": [
    "import os\n",
    "import sys\n",
    "import random\n",
    "import warnings\n",
    "import numpy as np\n",
    "import pandas as pd \n",
    "from tqdm import tqdm_notebook as tqdm\n",
    "from sklearn import preprocessing\n",
    "from sklearn.metrics import log_loss,roc_auc_score\n",
    "from sklearn.decomposition import PCA\n",
    "from sklearn.cluster import KMeans\n",
    "from sklearn.multioutput import MultiOutputClassifier\n",
    "from sklearn.feature_selection import VarianceThreshold\n",
    "\n",
    "sys.path.append('../input/multilabelstraifier/')\n",
    "from ml_stratifiers import MultilabelStratifiedKFold\n",
    "warnings.filterwarnings('ignore')\n",
    "\n",
    "import time\n",
    "import torch\n",
    "import torch.nn as nn\n",
    "import torch.optim as optim\n",
    "import torch.nn.functional as F\n",
    "import tensorflow as tf\n",
    "from torch.nn.modules.loss import _WeightedLoss\n",
    "\n",
    "from sklearn.pipeline import make_pipeline,make_union\n",
    "from sklearn.compose import make_column_transformer,ColumnTransformer\n",
    "from sklearn.base import BaseEstimator,TransformerMixin"
   ]
  },
  {
   "cell_type": "markdown",
   "metadata": {
    "papermill": {
     "duration": 0.018326,
     "end_time": "2020-11-15T05:45:28.410421",
     "exception": false,
     "start_time": "2020-11-15T05:45:28.392095",
     "status": "completed"
    },
    "tags": []
   },
   "source": [
    "# functions"
   ]
  },
  {
   "cell_type": "code",
   "execution_count": 2,
   "metadata": {
    "execution": {
     "iopub.execute_input": "2020-11-15T05:45:28.463072Z",
     "iopub.status.busy": "2020-11-15T05:45:28.462223Z",
     "iopub.status.idle": "2020-11-15T05:45:28.465513Z",
     "shell.execute_reply": "2020-11-15T05:45:28.465047Z"
    },
    "papermill": {
     "duration": 0.036389,
     "end_time": "2020-11-15T05:45:28.465613",
     "exception": false,
     "start_time": "2020-11-15T05:45:28.429224",
     "status": "completed"
    },
    "tags": []
   },
   "outputs": [],
   "source": [
    "def train_short_form_loader(feature_file,target_file,extra_target_file=None):\n",
    "    '''takes the original target and features and creates a train dataset \n",
    "    in col long format'''\n",
    "    train_features = pd.read_csv(feature_file)\n",
    "    train_targets = pd.read_csv(target_file)\n",
    "\n",
    "    if extra_target_file is not None:\n",
    "        extra_targets = pd.read_csv(extra_target_file)\n",
    "        train_targets = pd.merge(train_targets,extra_targets,on ='sig_id')\n",
    "        del extra_targets\n",
    "\n",
    "    targets = train_targets.columns[1:]\n",
    "\n",
    "    train_melt=train_targets.merge(train_features,how=\"left\",on=\"sig_id\")\n",
    "\n",
    "    del train_features,train_targets\n",
    "    \n",
    "    train_melt.set_index(\"sig_id\",inplace=True)\n",
    "\n",
    "    train_melt[\"cp_type\"]= train_melt[\"cp_type\"].astype('category')\n",
    "    train_melt[\"cp_dose\"]= train_melt[\"cp_dose\"].astype('category')\n",
    "\n",
    "    return train_melt , targets.to_list()\n",
    "\n",
    "def test_short_form_loader(feature_file):\n",
    "    '''takes the original target and features and creates a train dataset \n",
    "    in col long format'''\n",
    "\n",
    "    train_features = pd.read_csv(feature_file)\n",
    "\n",
    "    train_melt =  train_features.copy()\n",
    "    del train_features\n",
    "\n",
    "    train_melt.set_index(\"sig_id\",inplace=True)\n",
    "    train_melt[\"cp_type\"]= train_melt[\"cp_type\"].astype('category')\n",
    "    train_melt[\"cp_dose\"]= train_melt[\"cp_dose\"].astype('category')\n",
    "\n",
    "    return train_melt "
   ]
  },
  {
   "cell_type": "code",
   "execution_count": 3,
   "metadata": {
    "execution": {
     "iopub.execute_input": "2020-11-15T05:45:28.526630Z",
     "iopub.status.busy": "2020-11-15T05:45:28.516202Z",
     "iopub.status.idle": "2020-11-15T05:45:28.532538Z",
     "shell.execute_reply": "2020-11-15T05:45:28.531972Z"
    },
    "papermill": {
     "duration": 0.047932,
     "end_time": "2020-11-15T05:45:28.532628",
     "exception": false,
     "start_time": "2020-11-15T05:45:28.484696",
     "status": "completed"
    },
    "tags": []
   },
   "outputs": [],
   "source": [
    "# feature selection transformer\n",
    "class CatIntMapper( BaseEstimator, TransformerMixin ):\n",
    "    #Class constructor method that takes in a list of values as its argument\n",
    "    def __init__(self ,col,dicti):\n",
    "        self.col = col\n",
    "        self.dicti = dicti\n",
    "        \n",
    "    def fit(self, X, y = None):\n",
    "        \n",
    "        return self\n",
    "    #Return self nothing else to do here\n",
    "    def fit_transform( self, X, y = None  ):\n",
    "        assert  X[self.col].isin(self.dicti.keys()).all() \n",
    "        return pd.concat([X.drop(self.col,axis=1),X[self.col].map(self.dicti).astype(int).rename(self.col)],axis=1) \n",
    "    \n",
    "    def transform( self, X):\n",
    "        assert  X[self.col].isin(self.dicti.keys()).all() \n",
    "        \n",
    "        return pd.concat([X.drop(self.col,axis=1),X[self.col].map(self.dicti).astype(int).rename(self.col)],axis=1) \n",
    "    \n",
    "class NamedOutTWrapper(BaseEstimator, TransformerMixin):\n",
    "    \n",
    "    def __init__(self,transformer,columns,inplace=False,prefix='_' ):\n",
    "        self.transformer = transformer\n",
    "        self.cols = columns\n",
    "        self.inplace =  inplace\n",
    "        self.prefix = prefix\n",
    "        self.transformer_name = self._get_transformer_name()\n",
    "        \n",
    "    def fit(self, X, y = None): \n",
    "        self.transformer =   self.transformer.fit(X[self.cols] , y )\n",
    "        return self\n",
    "    \n",
    "    #Return self nothing else to do here\n",
    "    def fit_transform( self, X, y = None  ): \n",
    "        transformed_columns = self.transformer.fit_transform(X[self.cols] , y )\n",
    "        out=pd.DataFrame(index=X.index)\n",
    "        \n",
    "        if self.inplace:\n",
    "            out = X[self.cols]\n",
    "            out[self.cols] = transformed_columns\n",
    "            return pd.concat([X.drop(self.cols,axis=1),out],axis=1)\n",
    "        else:\n",
    "            for i,values in enumerate(transformed_columns.transpose()):\n",
    "                out[ self.transformer_name + self.prefix + str(i)] = values\n",
    "            return   pd.concat([X,out],axis=1)\n",
    "        \n",
    "    def transform( self, X):\n",
    "        transformed_columns = self.transformer.transform(X[self.cols]  )\n",
    "        out=pd.DataFrame(index=X.index)\n",
    "        \n",
    "        if self.inplace:\n",
    "            out = X[self.cols]\n",
    "            out[self.cols] = transformed_columns\n",
    "            return pd.concat([X.drop(self.cols,axis=1),out],axis=1)\n",
    "        else:\n",
    "            for i,values in enumerate(transformed_columns.transpose()):\n",
    "                out[ self.transformer_name + self.prefix + str(i)] = values\n",
    "        return   pd.concat([X,out],axis=1)\n",
    "    \n",
    "    def _get_transformer_name(self):\n",
    "        return str(self.transformer.__class__).split('.')[-1][0:-2]"
   ]
  },
  {
   "cell_type": "code",
   "execution_count": 4,
   "metadata": {
    "execution": {
     "iopub.execute_input": "2020-11-15T05:45:28.579533Z",
     "iopub.status.busy": "2020-11-15T05:45:28.577761Z",
     "iopub.status.idle": "2020-11-15T05:45:28.580215Z",
     "shell.execute_reply": "2020-11-15T05:45:28.580667Z"
    },
    "papermill": {
     "duration": 0.029357,
     "end_time": "2020-11-15T05:45:28.580781",
     "exception": false,
     "start_time": "2020-11-15T05:45:28.551424",
     "status": "completed"
    },
    "tags": []
   },
   "outputs": [],
   "source": [
    "# cv folds\n",
    "def multifold_indexer(train,target_columns,n_splits=10,random_state=12347,**kwargs):\n",
    "    folds = train.copy()\n",
    "\n",
    "    mskf = MultilabelStratifiedKFold(n_splits=n_splits,random_state=random_state,**kwargs)\n",
    "    folds[ 'kfold']=0\n",
    "    for f, (t_idx, v_idx) in enumerate(mskf.split(X=train, y=train[target_columns])):\n",
    "        folds.iloc[v_idx,-1] = int(f)\n",
    "\n",
    "    folds['kfold'] = folds['kfold'].astype(int)\n",
    "    return folds"
   ]
  },
  {
   "cell_type": "code",
   "execution_count": 5,
   "metadata": {
    "execution": {
     "iopub.execute_input": "2020-11-15T05:45:28.633487Z",
     "iopub.status.busy": "2020-11-15T05:45:28.631704Z",
     "iopub.status.idle": "2020-11-15T05:45:28.634211Z",
     "shell.execute_reply": "2020-11-15T05:45:28.634666Z"
    },
    "papermill": {
     "duration": 0.035,
     "end_time": "2020-11-15T05:45:28.634779",
     "exception": false,
     "start_time": "2020-11-15T05:45:28.599779",
     "status": "completed"
    },
    "tags": []
   },
   "outputs": [],
   "source": [
    "# dataset class\n",
    "class MoADataset:\n",
    "    def __init__(self, features, targets):\n",
    "        self.features = features\n",
    "        self.targets = targets\n",
    "        \n",
    "    def __len__(self):\n",
    "        return (self.features.shape[0])\n",
    "    \n",
    "    def __getitem__(self, idx):\n",
    "        dct = {\n",
    "            'x' : torch.tensor(self.features[idx, :], dtype=torch.float),\n",
    "            'y' : torch.tensor(self.targets[idx, :], dtype=torch.float)            \n",
    "        }\n",
    "        return dct\n",
    "    \n",
    "class TestDataset:\n",
    "    def __init__(self, features):\n",
    "        self.features = features\n",
    "        \n",
    "    def __len__(self):\n",
    "        return (self.features.shape[0])\n",
    "    \n",
    "    def __getitem__(self, idx):\n",
    "        dct = {\n",
    "            'x' : torch.tensor(self.features[idx, :], dtype=torch.float)\n",
    "        }\n",
    "        return dct\n",
    "    \n",
    "class ColumnDropper( BaseEstimator, TransformerMixin ):\n",
    "    #Class Constructor \n",
    "    def __init__( self, cols ):\n",
    "        self.cols=cols\n",
    "    #Return self nothing else to do here    \n",
    "    def fit( self, X, y = None ):\n",
    "        return self \n",
    "    \n",
    "    #Method that describes what we need this transformer to do\n",
    "    def transform( self, X, y = None ):\n",
    "        return X.drop(self.cols,axis=1)"
   ]
  },
  {
   "cell_type": "code",
   "execution_count": 6,
   "metadata": {
    "execution": {
     "iopub.execute_input": "2020-11-15T05:45:28.688963Z",
     "iopub.status.busy": "2020-11-15T05:45:28.687313Z",
     "iopub.status.idle": "2020-11-15T05:45:28.689846Z",
     "shell.execute_reply": "2020-11-15T05:45:28.690314Z"
    },
    "papermill": {
     "duration": 0.036331,
     "end_time": "2020-11-15T05:45:28.690417",
     "exception": false,
     "start_time": "2020-11-15T05:45:28.654086",
     "status": "completed"
    },
    "tags": []
   },
   "outputs": [],
   "source": [
    "# dae model\n",
    "def seed_everything(seed=42):\n",
    "    random.seed(seed)\n",
    "    os.environ['PYTHONHASHSEED'] = str(seed)\n",
    "    np.random.seed(seed)\n",
    "    torch.manual_seed(seed)\n",
    "    torch.cuda.manual_seed(seed)\n",
    "    torch.backends.cudnn.deterministic = True\n",
    "\n",
    "class DAE_Model(nn.Module):\n",
    "    def __init__(self, num_features, num_targets, hidden_size=1100,hidden_size2=1300):\n",
    "        super(DAE_Model, self).__init__()\n",
    "        self.batch_norm1 = nn.BatchNorm1d(num_features)\n",
    "        #self.dropout1 = nn.Dropout(drop_rate1)\n",
    "        self.dense1 = nn.utils.weight_norm(nn.Linear(num_features, hidden_size))\n",
    "        \n",
    "        self.batch_norm2 = nn.BatchNorm1d(hidden_size)\n",
    "        #self.dropout2 = nn.Dropout(drop_rate2)\n",
    "        self.dense2 = nn.utils.weight_norm(nn.Linear(hidden_size, hidden_size2))\n",
    "        \n",
    "        self.batch_norm3 = nn.BatchNorm1d(hidden_size2)\n",
    "        #self.dropout3 = nn.Dropout(drop_rate2)\n",
    "        self.dense3 = nn.utils.weight_norm(nn.Linear(hidden_size2, hidden_size))\n",
    "        \n",
    "        #self.batch_norm4 = nn.BatchNorm1d(hidden_size)\n",
    "        #self.dropout4 = nn.Dropout(drop_rate3)\n",
    "        self.dense4 = nn.utils.weight_norm(nn.Linear(hidden_size, num_features))\n",
    "        \n",
    "    def forward(self, x,mode='DAE'):\n",
    "        #x = self.batch_norm1(x)\n",
    "        #x1 = self.dropout1(x1)\n",
    "        x1 = F.relu(self.dense1(x))\n",
    "            \n",
    "        x2 = self.batch_norm2(x1)\n",
    "        #x = self.dropout2(x)\n",
    "        x2 = F.relu(self.dense2(x2))\n",
    "        \n",
    "        x3 = self.batch_norm3(x2)\n",
    "      \n",
    "        x3 = F.relu(self.dense3(x3))\n",
    "        \n",
    "        out = self.dense4(x3)\n",
    "        \n",
    "        if mode == 'DAE':\n",
    "            return out\n",
    "        else:\n",
    "            return x1,x2,x3"
   ]
  },
  {
   "cell_type": "code",
   "execution_count": 7,
   "metadata": {
    "execution": {
     "iopub.execute_input": "2020-11-15T05:45:28.744719Z",
     "iopub.status.busy": "2020-11-15T05:45:28.743291Z",
     "iopub.status.idle": "2020-11-15T05:45:28.745870Z",
     "shell.execute_reply": "2020-11-15T05:45:28.746339Z"
    },
    "papermill": {
     "duration": 0.036603,
     "end_time": "2020-11-15T05:45:28.746441",
     "exception": false,
     "start_time": "2020-11-15T05:45:28.709838",
     "status": "completed"
    },
    "tags": []
   },
   "outputs": [],
   "source": [
    "def infer_features_fn(model, dataloader, device):\n",
    "    model.eval()\n",
    "    preds = []\n",
    "    \n",
    "    for data in dataloader:\n",
    "        inputs = data['x'].to(device)\n",
    "\n",
    "        with torch.no_grad():\n",
    "            outputs = model(inputs,mode='get_features')\n",
    "        \n",
    "        preds.append(torch.cat(outputs,axis=1).detach().cpu().numpy())\n",
    "    preds = np.concatenate(preds)\n",
    "    \n",
    "    return preds\n",
    "\n",
    "def run_inference(X_train,y_train,X_valid,y_valid,X_test,fold, seed,inference_only=False,**kwargs):\n",
    "    seed_everything(seed)\n",
    "    if not  inference_only:\n",
    "        train_dataset = MoADataset(X_train, y_train)\n",
    "        valid_dataset = MoADataset(X_valid, y_valid)\n",
    "        trainloader = torch.utils.data.DataLoader(train_dataset, batch_size=BATCH_SIZE, shuffle=True)\n",
    "        validloader = torch.utils.data.DataLoader(valid_dataset, batch_size=BATCH_SIZE, shuffle=False)\n",
    "\n",
    "    testdataset = TestDataset(X_test)\n",
    "    testloader = torch.utils.data.DataLoader(testdataset, batch_size=BATCH_SIZE, shuffle=False)\n",
    "    \n",
    "    model = DAE_Model(\n",
    "        num_features= X_train.shape[1] ,\n",
    "        num_targets=  X_train.shape[1],\n",
    "       # hidden_size=hidden_size,\n",
    "        **kwargs\n",
    "    )\n",
    "\n",
    "    model.to(DEVICE)\n",
    "    \n",
    "    if not  inference_only:\n",
    "        oof = inference_infer_features_fn(model, validloader, DEVICE)    \n",
    "    else:\n",
    "        oof= 0\n",
    "    \n",
    "    predictions = infer_features_fn(model, testloader, DEVICE)\n",
    "    predictions = predictions\n",
    "    \n",
    "    return oof, predictions"
   ]
  },
  {
   "cell_type": "markdown",
   "metadata": {
    "papermill": {
     "duration": 0.019788,
     "end_time": "2020-11-15T05:45:28.785944",
     "exception": false,
     "start_time": "2020-11-15T05:45:28.766156",
     "status": "completed"
    },
    "tags": []
   },
   "source": [
    "# denosing auto encoder"
   ]
  },
  {
   "cell_type": "code",
   "execution_count": 8,
   "metadata": {
    "execution": {
     "iopub.execute_input": "2020-11-15T05:45:29.188359Z",
     "iopub.status.busy": "2020-11-15T05:45:29.186975Z",
     "iopub.status.idle": "2020-11-15T05:45:29.191622Z",
     "shell.execute_reply": "2020-11-15T05:45:29.192210Z"
    },
    "papermill": {
     "duration": 0.386698,
     "end_time": "2020-11-15T05:45:29.192347",
     "exception": false,
     "start_time": "2020-11-15T05:45:28.805649",
     "status": "completed"
    },
    "tags": []
   },
   "outputs": [],
   "source": [
    "DEVICE = ('cuda' if torch.cuda.is_available() else 'cpu')\n",
    "EPOCHS = 1000\n",
    "BATCH_SIZE = 640\n",
    "LEARNING_RATE = 4e-3\n",
    "WEIGHT_DECAY = 1e-8\n",
    "NFOLDS = 10\n",
    "EARLY_STOPPING_STEPS = 10\n",
    "EARLY_STOP = False\n",
    "hidden_size=1100\n",
    "hidden_size2=1300\n",
    "PATIENCE=10\n",
    "THRESHOLD = 5e-3"
   ]
  },
  {
   "cell_type": "code",
   "execution_count": 9,
   "metadata": {
    "execution": {
     "iopub.execute_input": "2020-11-15T05:45:29.259642Z",
     "iopub.status.busy": "2020-11-15T05:45:29.253127Z",
     "iopub.status.idle": "2020-11-15T05:46:04.053319Z",
     "shell.execute_reply": "2020-11-15T05:46:04.052699Z"
    },
    "papermill": {
     "duration": 34.839922,
     "end_time": "2020-11-15T05:46:04.053431",
     "exception": false,
     "start_time": "2020-11-15T05:45:29.213509",
     "status": "completed"
    },
    "tags": []
   },
   "outputs": [],
   "source": [
    "SEED = [0]\n",
    "train,target_cols = train_short_form_loader('../input/lish-moa/train_features.csv','../input/lish-moa/train_targets_scored.csv')\n",
    "test = test_short_form_loader(\"../input/lish-moa/test_features.csv\")\n",
    "\n",
    "train = pd.concat([train,test])\n",
    "train[target_cols]= train[target_cols].fillna(0)\n",
    "test = train.copy()\n",
    "\n",
    "GENES = [col for col in train.columns if col.startswith('g-')]\n",
    "CELLS = [col for col in train.columns if col.startswith('c-')]\n",
    "\n",
    "map_controls = CatIntMapper('cp_type',{'ctl_vehicle': 0, 'trt_cp': 1})    \n",
    "map_dose = CatIntMapper('cp_dose',{'D1': 1, 'D2': 0})    \n",
    "map_time = CatIntMapper('cp_time',{24: 0, 48: 1, 72: 2})  \n",
    "\n",
    "Rankg_g_tansform = NamedOutTWrapper(preprocessing.QuantileTransformer(n_quantiles=1000,random_state=0, output_distribution=\"normal\"),columns= GENES+CELLS,inplace=True)\n",
    "PCA_g_tansform =  NamedOutTWrapper(PCA(20),columns= GENES,prefix ='_g' )\n",
    "PCA_c_tansform =  NamedOutTWrapper(PCA(20),columns= CELLS,prefix ='_c' )\n",
    "\n",
    "CatDropper =ColumnDropper(cols=['cp_type','cp_time','cp_dose'])\n",
    "transformers_list=[map_controls,map_dose,map_time,Rankg_g_tansform,CatDropper]\n",
    "exp_name = 'test_DAE_0.2_all_together'\n",
    "\n",
    "oof = np.zeros((len(train), len(target_cols)))\n",
    "predictions = np.zeros((len(test), len(target_cols)))\n",
    "\n",
    "for seed in SEED:\n",
    "    \n",
    "    train = multifold_indexer(train,target_cols,n_splits=NFOLDS)\n",
    "    \n",
    "    for fold in range(NFOLDS):\n",
    "            \n",
    "        train_df = train[train['kfold'] != fold]\n",
    "        valid_df = train[train['kfold'] == fold]\n",
    "            \n",
    "        feature_cols = [col for col in train_df.columns if not (col in target_cols+['kfold'])]\n",
    "                \n",
    "        pipeline_val = make_pipeline(*transformers_list)\n",
    "        \n",
    "        X_train, y_train  = train_df[feature_cols], train_df[target_cols]\n",
    "        X_valid, y_valid =  valid_df[feature_cols], valid_df[target_cols].values\n",
    "        \n",
    "        X_train = pipeline_val.fit_transform(X_train)\n",
    "        X_train = X_train.values\n",
    "        X_valid = pipeline_val.transform(X_valid)\n",
    "        \n",
    "        valid_index = X_valid.index\n",
    "        X_valid = X_valid.values\n",
    "        \n",
    "        y_train = y_train.values\n",
    "        \n",
    "        X_test = test[feature_cols]\n",
    "        X_test = pipeline_val.transform(X_test).values\n",
    "        \n",
    "        pred_ = run_inference(X_train,y_train,X_valid,y_valid,X_test,fold, seed,inference_only=True)    \n",
    "        break\n",
    "        \n",
    "transformed_features = pd.DataFrame(pred_[1],index=test.index)"
   ]
  },
  {
   "cell_type": "code",
   "execution_count": 10,
   "metadata": {
    "execution": {
     "iopub.execute_input": "2020-11-15T05:46:04.102792Z",
     "iopub.status.busy": "2020-11-15T05:46:04.101743Z",
     "iopub.status.idle": "2020-11-15T05:46:06.098737Z",
     "shell.execute_reply": "2020-11-15T05:46:06.099913Z"
    },
    "papermill": {
     "duration": 2.025934,
     "end_time": "2020-11-15T05:46:06.100090",
     "exception": false,
     "start_time": "2020-11-15T05:46:04.074156",
     "status": "completed"
    },
    "tags": []
   },
   "outputs": [
    {
     "name": "stdout",
     "output_type": "stream",
     "text": [
      "(27796, 3500)\n"
     ]
    }
   ],
   "source": [
    "print(transformed_features.shape)\n",
    "transformed_features.columns = [str(i) for i in range(len(transformed_features.columns))]\n",
    "transformed_features.reset_index().to_feather('./features_0.2_altogether.fth')\n",
    "transformed_features = transformed_features.reset_index(drop=False)"
   ]
  },
  {
   "cell_type": "markdown",
   "metadata": {
    "papermill": {
     "duration": 0.03213,
     "end_time": "2020-11-15T05:46:06.165252",
     "exception": false,
     "start_time": "2020-11-15T05:46:06.133122",
     "status": "completed"
    },
    "tags": []
   },
   "source": [
    "# prediction"
   ]
  },
  {
   "cell_type": "code",
   "execution_count": 11,
   "metadata": {
    "execution": {
     "iopub.execute_input": "2020-11-15T05:46:06.243713Z",
     "iopub.status.busy": "2020-11-15T05:46:06.242847Z",
     "iopub.status.idle": "2020-11-15T05:46:11.947008Z",
     "shell.execute_reply": "2020-11-15T05:46:11.946341Z"
    },
    "papermill": {
     "duration": 5.747148,
     "end_time": "2020-11-15T05:46:11.947139",
     "exception": false,
     "start_time": "2020-11-15T05:46:06.199991",
     "status": "completed"
    },
    "tags": []
   },
   "outputs": [],
   "source": [
    "DATA_DIR = '/kaggle/input/lish-moa/'\n",
    "train = pd.read_csv(DATA_DIR + 'train_features.csv')\n",
    "targets = pd.read_csv(DATA_DIR + 'train_targets_scored.csv')\n",
    "test = pd.read_csv(DATA_DIR + 'test_features.csv')\n",
    "sub = pd.read_csv(DATA_DIR + 'sample_submission.csv')\n",
    "\n",
    "noncons_train_index = train[train.cp_type==\"ctl_vehicle\"].index\n",
    "cons_train_index = train[train.cp_type!=\"ctl_vehicle\"].index\n",
    "noncons_test_index = test[test.cp_type==\"ctl_vehicle\"].index\n",
    "cons_test_index = test[test.cp_type!=\"ctl_vehicle\"].index\n",
    "\n",
    "train = train[train.index.isin(cons_train_index)].copy().reset_index(drop=True)\n",
    "test = test[test.index.isin(cons_test_index)].copy().reset_index(drop=True)\n",
    "targets = targets[targets.index.isin(cons_train_index)].copy().reset_index(drop=True)"
   ]
  },
  {
   "cell_type": "code",
   "execution_count": 12,
   "metadata": {
    "execution": {
     "iopub.execute_input": "2020-11-15T05:46:12.003176Z",
     "iopub.status.busy": "2020-11-15T05:46:12.001068Z",
     "iopub.status.idle": "2020-11-15T05:46:12.003979Z",
     "shell.execute_reply": "2020-11-15T05:46:12.004490Z"
    },
    "papermill": {
     "duration": 0.033584,
     "end_time": "2020-11-15T05:46:12.004636",
     "exception": false,
     "start_time": "2020-11-15T05:46:11.971052",
     "status": "completed"
    },
    "tags": []
   },
   "outputs": [],
   "source": [
    "target_feats = [ i for i in targets.columns if i != \"sig_id\"]\n",
    "g_feats = [i for i in train.columns if \"g-\" in i]\n",
    "c_feats = [i for i in train.columns if \"c-\" in i]"
   ]
  },
  {
   "cell_type": "code",
   "execution_count": 13,
   "metadata": {
    "execution": {
     "iopub.execute_input": "2020-11-15T05:46:12.057426Z",
     "iopub.status.busy": "2020-11-15T05:46:12.056496Z",
     "iopub.status.idle": "2020-11-15T05:46:12.062434Z",
     "shell.execute_reply": "2020-11-15T05:46:12.062898Z"
    },
    "papermill": {
     "duration": 0.035191,
     "end_time": "2020-11-15T05:46:12.063047",
     "exception": false,
     "start_time": "2020-11-15T05:46:12.027856",
     "status": "completed"
    },
    "tags": []
   },
   "outputs": [],
   "source": [
    "train = train.drop(g_feats + c_feats + [\"cp_type\"], axis=1)\n",
    "test = test.drop(g_feats + c_feats + [\"cp_type\"], axis=1)"
   ]
  },
  {
   "cell_type": "code",
   "execution_count": 14,
   "metadata": {
    "execution": {
     "iopub.execute_input": "2020-11-15T05:46:12.113137Z",
     "iopub.status.busy": "2020-11-15T05:46:12.111902Z",
     "iopub.status.idle": "2020-11-15T05:46:12.810080Z",
     "shell.execute_reply": "2020-11-15T05:46:12.808597Z"
    },
    "papermill": {
     "duration": 0.725821,
     "end_time": "2020-11-15T05:46:12.810205",
     "exception": false,
     "start_time": "2020-11-15T05:46:12.084384",
     "status": "completed"
    },
    "tags": []
   },
   "outputs": [],
   "source": [
    "train = train.merge(transformed_features, on=\"sig_id\", how=\"left\")\n",
    "test = test.merge(transformed_features, on=\"sig_id\", how=\"left\")"
   ]
  },
  {
   "cell_type": "code",
   "execution_count": 15,
   "metadata": {
    "execution": {
     "iopub.execute_input": "2020-11-15T05:46:12.860735Z",
     "iopub.status.busy": "2020-11-15T05:46:12.859548Z",
     "iopub.status.idle": "2020-11-15T05:46:13.355803Z",
     "shell.execute_reply": "2020-11-15T05:46:13.355242Z"
    },
    "papermill": {
     "duration": 0.524182,
     "end_time": "2020-11-15T05:46:13.355938",
     "exception": false,
     "start_time": "2020-11-15T05:46:12.831756",
     "status": "completed"
    },
    "tags": []
   },
   "outputs": [],
   "source": [
    "def fe(df):\n",
    "    tmp = df.copy()\n",
    "    tmp = pd.get_dummies(tmp, columns=['cp_time','cp_dose'])\n",
    "    tmp.drop([\"sig_id\"], axis=1, inplace=True)\n",
    "    return tmp\n",
    "train = fe(train)\n",
    "test = fe(test)"
   ]
  },
  {
   "cell_type": "code",
   "execution_count": 16,
   "metadata": {
    "execution": {
     "iopub.execute_input": "2020-11-15T05:46:13.405518Z",
     "iopub.status.busy": "2020-11-15T05:46:13.404289Z",
     "iopub.status.idle": "2020-11-15T05:46:13.688851Z",
     "shell.execute_reply": "2020-11-15T05:46:13.688280Z"
    },
    "papermill": {
     "duration": 0.311317,
     "end_time": "2020-11-15T05:46:13.688996",
     "exception": false,
     "start_time": "2020-11-15T05:46:13.377679",
     "status": "completed"
    },
    "tags": []
   },
   "outputs": [],
   "source": [
    "fn_train = train.copy().to_numpy()\n",
    "fn_test = test.copy().to_numpy()\n",
    "\n",
    "fn_targets = targets.drop(\"sig_id\", axis=1).copy().to_numpy()"
   ]
  },
  {
   "cell_type": "code",
   "execution_count": 17,
   "metadata": {
    "execution": {
     "iopub.execute_input": "2020-11-15T05:46:13.743316Z",
     "iopub.status.busy": "2020-11-15T05:46:13.742571Z",
     "iopub.status.idle": "2020-11-15T05:46:13.746479Z",
     "shell.execute_reply": "2020-11-15T05:46:13.745986Z"
    },
    "papermill": {
     "duration": 0.035698,
     "end_time": "2020-11-15T05:46:13.746571",
     "exception": false,
     "start_time": "2020-11-15T05:46:13.710873",
     "status": "completed"
    },
    "tags": []
   },
   "outputs": [],
   "source": [
    "class SmoothBCEwLogits(_WeightedLoss):\n",
    "    def __init__(self, weight=None, reduction='mean', smoothing=0.0):\n",
    "        super().__init__(weight=weight, reduction=reduction)\n",
    "        self.smoothing = smoothing\n",
    "        self.weight = weight\n",
    "        self.reduction = reduction\n",
    "\n",
    "    @staticmethod\n",
    "    def _smooth(targets:torch.Tensor, n_labels:int, smoothing=0.0):\n",
    "        assert 0 <= smoothing < 1\n",
    "        with torch.no_grad():\n",
    "            targets = targets * (1.0 - smoothing) + 0.5 * smoothing\n",
    "        return targets\n",
    "\n",
    "    def forward(self, inputs, targets):\n",
    "        targets = SmoothBCEwLogits._smooth(targets, inputs.size(-1),\n",
    "            self.smoothing)\n",
    "        loss = F.binary_cross_entropy_with_logits(inputs, targets,self.weight)\n",
    "\n",
    "        if  self.reduction == 'sum':\n",
    "            loss = loss.sum()\n",
    "        elif  self.reduction == 'mean':\n",
    "            loss = loss.mean()\n",
    "\n",
    "        return loss"
   ]
  },
  {
   "cell_type": "code",
   "execution_count": 18,
   "metadata": {
    "execution": {
     "iopub.execute_input": "2020-11-15T05:46:13.799387Z",
     "iopub.status.busy": "2020-11-15T05:46:13.798672Z",
     "iopub.status.idle": "2020-11-15T05:46:13.802539Z",
     "shell.execute_reply": "2020-11-15T05:46:13.802039Z"
    },
    "papermill": {
     "duration": 0.034703,
     "end_time": "2020-11-15T05:46:13.802629",
     "exception": false,
     "start_time": "2020-11-15T05:46:13.767926",
     "status": "completed"
    },
    "tags": []
   },
   "outputs": [],
   "source": [
    "class SmoothCrossEntropyLoss(_WeightedLoss):\n",
    "    def __init__(self, weight=None, reduction='mean', smoothing=0.0):\n",
    "        super().__init__(weight=weight, reduction=reduction)\n",
    "        self.smoothing = smoothing\n",
    "        self.weight = weight\n",
    "        self.reduction = reduction\n",
    "\n",
    "    @staticmethod\n",
    "    def _smooth(targets, n_classes, smoothing=0.0):\n",
    "        assert 0 <= smoothing <= 1\n",
    "        with torch.no_grad():\n",
    "            targets = targets * (1 - smoothing) + torch.ones_like(targets).to(device) * smoothing / n_classes\n",
    "        return targets\n",
    "\n",
    "    def forward(self, inputs, targets):\n",
    "        targets = SmoothCrossEntropyLoss()._smooth(targets, inputs.shape[1], self.smoothing)\n",
    "\n",
    "        if self.weight is not None:\n",
    "            inputs = inputs * self.weight.unsqueeze(0)\n",
    "\n",
    "        loss = F.binary_cross_entropy_with_logits(inputs, targets)\n",
    "\n",
    "        return loss"
   ]
  },
  {
   "cell_type": "code",
   "execution_count": 19,
   "metadata": {
    "execution": {
     "iopub.execute_input": "2020-11-15T05:46:13.860228Z",
     "iopub.status.busy": "2020-11-15T05:46:13.858417Z",
     "iopub.status.idle": "2020-11-15T05:46:13.860978Z",
     "shell.execute_reply": "2020-11-15T05:46:13.861447Z"
    },
    "papermill": {
     "duration": 0.037266,
     "end_time": "2020-11-15T05:46:13.861552",
     "exception": false,
     "start_time": "2020-11-15T05:46:13.824286",
     "status": "completed"
    },
    "tags": []
   },
   "outputs": [],
   "source": [
    "class Model(nn.Module):\n",
    "    def __init__(self, num_features, num_targets, hidden_size1=388,hidden_size2=512,drop_rate1=0.0,drop_rate2=0.3,drop_rate3=0.3):\n",
    "        super(Model, self).__init__()\n",
    "        self.batch_norm1 = nn.BatchNorm1d(num_features)\n",
    "        self.dropout1 = nn.Dropout(drop_rate1)\n",
    "        self.dense1 = nn.utils.weight_norm(nn.Linear(num_features, hidden_size1))\n",
    "\n",
    "        self.batch_norm2 = nn.BatchNorm1d(hidden_size1)\n",
    "        self.dropout2 = nn.Dropout(drop_rate2)\n",
    "        self.dense2 = nn.utils.weight_norm(nn.Linear(hidden_size1, hidden_size2))\n",
    "\n",
    "        self.batch_norm3 = nn.BatchNorm1d(hidden_size2)\n",
    "        self.dropout3 = nn.Dropout(drop_rate3)\n",
    "        self.dense3 = nn.utils.weight_norm(nn.Linear(hidden_size2, num_targets))\n",
    "        \n",
    "    def forward(self, x):\n",
    "        \n",
    "        x = self.batch_norm1(x)\n",
    "        x = self.dropout1(x)\n",
    "        x = F.relu(self.dense1(x))\n",
    "        \n",
    "        x = self.batch_norm2(x)\n",
    "        x = self.dropout2(x)\n",
    "        x = F.relu(self.dense2(x))\n",
    "        \n",
    "        x = self.batch_norm3(x)\n",
    "        x = self.dropout3(x)\n",
    "        x = self.dense3(x)\n",
    "        \n",
    "        return x"
   ]
  },
  {
   "cell_type": "code",
   "execution_count": 20,
   "metadata": {
    "execution": {
     "iopub.execute_input": "2020-11-15T05:46:13.928825Z",
     "iopub.status.busy": "2020-11-15T05:46:13.913258Z",
     "iopub.status.idle": "2020-11-15T05:46:13.955446Z",
     "shell.execute_reply": "2020-11-15T05:46:13.954938Z"
    },
    "papermill": {
     "duration": 0.072466,
     "end_time": "2020-11-15T05:46:13.955537",
     "exception": false,
     "start_time": "2020-11-15T05:46:13.883071",
     "status": "completed"
    },
    "tags": []
   },
   "outputs": [],
   "source": [
    "#params for one cycle schedule\n",
    "device = ('cuda' if torch.cuda.is_available() else 'cpu')\n",
    "train_epochs = 40\n",
    "batch_size = 256\n",
    "n_folds = 7\n",
    "\n",
    "smoothing = 0.001\n",
    "p_min = smoothing\n",
    "p_max = 1 - p_min\n",
    "\n",
    "def mean_log_loss(y_true, y_pred):\n",
    "    metrics = []\n",
    "    for i, target in enumerate(target_feats):\n",
    "        metrics.append(log_loss(y_true[:, i], y_pred[:, i].astype(float), labels=[0,1]))\n",
    "    return np.mean(metrics)\n",
    "\n",
    "def modelling_dae(tr, target, te, sample_seed, init_num, last_num):\n",
    "    seed_everything(seed=sample_seed) \n",
    "    X_train = tr.copy()\n",
    "    y_train = target.copy()\n",
    "    X_test = te.copy()\n",
    "    test_len = X_test.shape[0]\n",
    "    \n",
    "    mskf=MultilabelStratifiedKFold(n_splits = n_folds, shuffle=True, random_state=224)\n",
    "    metric = lambda inputs, targets : F.binary_cross_entropy((torch.clamp(torch.sigmoid(inputs), p_min, p_max)), targets)\n",
    "\n",
    "    models = []\n",
    "    \n",
    "    X_test2 = torch.tensor(X_test, dtype=torch.float32)\n",
    "    test = torch.utils.data.TensorDataset(X_test2) \n",
    "    test_loader = torch.utils.data.DataLoader(test, batch_size=batch_size, shuffle=False)\n",
    "    \n",
    "    oof = np.zeros([len(X_train),y_train.shape[1]])\n",
    "    oof_targets = np.zeros([len(X_train),y_train.shape[1]])\n",
    "    pred_value = np.zeros([test_len, y_train.shape[1]])\n",
    "    scores = []\n",
    "    for fold, (train_index, valid_index) in enumerate(mskf.split(X_train, y_train)):\n",
    "        print(\"Fold \"+str(fold+1))\n",
    "        X_train2 = torch.tensor(X_train[train_index,:], dtype=torch.float32)\n",
    "        X_valid2 = torch.tensor(X_train[valid_index,:], dtype=torch.float32)\n",
    "\n",
    "        y_train2 = torch.tensor(y_train[train_index], dtype=torch.float32)\n",
    "        y_valid2 = torch.tensor(y_train[valid_index], dtype=torch.float32)\n",
    "        \n",
    "        train = torch.utils.data.TensorDataset(X_train2, y_train2)\n",
    "        valid = torch.utils.data.TensorDataset(X_valid2, y_valid2)\n",
    "        \n",
    "        train_loader = torch.utils.data.DataLoader(train, batch_size=batch_size, shuffle=True) \n",
    "        valid_loader = torch.utils.data.DataLoader(valid, batch_size=batch_size, shuffle=False)\n",
    "            \n",
    "        clf = Model(init_num, last_num)\n",
    "        loss_fn = SmoothCrossEntropyLoss(smoothing=smoothing)\n",
    "\n",
    "        optimizer = optim.Adam(clf.parameters(), lr = 5e-3, weight_decay=1e-5) \n",
    "        scheduler = optim.lr_scheduler.ReduceLROnPlateau(optimizer, patience=3, factor=0.1, eps=1e-4, verbose=True)                   \n",
    "        \n",
    "        clf.to(device)\n",
    "        \n",
    "        best_val_loss = np.inf\n",
    "        stop_counts = 0\n",
    "        for epoch in range(train_epochs):\n",
    "            start_time = time.time()\n",
    "            clf.train()\n",
    "            avg_loss = 0.\n",
    "            sm_avg_loss = 0.\n",
    "            for x_batch, y_batch in tqdm(train_loader, disable=True):\n",
    "                x_batch = x_batch.to(device)\n",
    "                y_batch = y_batch.to(device)\n",
    "                y_pred = clf(x_batch) \n",
    "                loss = loss_fn(y_pred, y_batch)\n",
    "                optimizer.zero_grad()\n",
    "                loss.backward()\n",
    "                optimizer.step()\n",
    "                avg_loss += loss.item() / len(train_loader)  \n",
    "                sm_avg_loss += metric(y_pred, y_batch) / len(train_loader) \n",
    "                \n",
    "            clf.eval()\n",
    "            avg_val_loss = 0.\n",
    "            sm_avg_val_loss = 0.\n",
    "            for i, (x_batch, y_batch) in enumerate(valid_loader): \n",
    "                x_batch = x_batch.to(device)\n",
    "                y_batch = y_batch.to(device)\n",
    "                y_pred = clf(x_batch).detach()\n",
    "                avg_val_loss += loss_fn(y_pred, y_batch).item() / len(valid_loader)\n",
    "                sm_avg_val_loss += metric(y_pred, y_batch) / len(valid_loader)\n",
    "        \n",
    "            elapsed_time = time.time() - start_time \n",
    "            scheduler.step(sm_avg_val_loss)\n",
    "                    \n",
    "            if sm_avg_val_loss < best_val_loss:\n",
    "                best_val_loss = sm_avg_val_loss\n",
    "                print('Epoch {}   loss={:.5f}   val_loss={:.5f}   sm_loss={:.5f}   sm_val_loss={:.5f}   time={:.2f}s'.format(\n",
    "                    epoch + 1, avg_loss, avg_val_loss, sm_avg_loss, sm_avg_val_loss, elapsed_time))\n",
    "                torch.save(clf.state_dict(), 'best-model-parameters.pt')\n",
    "            else:\n",
    "                stop_counts += 1\n",
    "        \n",
    "        pred_model = Model(init_num, last_num)\n",
    "        pred_model.load_state_dict(torch.load('best-model-parameters.pt'))         \n",
    "        pred_model.eval()\n",
    "        \n",
    "        # validation check ----------------\n",
    "        oof_epoch = np.zeros([X_valid2.size(0), y_train.shape[1]])\n",
    "        target_epoch = np.zeros([X_valid2.size(0), y_train.shape[1]])\n",
    "        for i, (x_batch, y_batch) in enumerate(valid_loader): \n",
    "                y_pred = pred_model(x_batch).detach()\n",
    "                oof_epoch[i * batch_size:(i+1) * batch_size,:] = torch.clamp(torch.sigmoid(y_pred.cpu()), p_min, p_max)\n",
    "                target_epoch[i * batch_size:(i+1) * batch_size,:] = y_batch.cpu().numpy()\n",
    "        print(\"Fold {} log loss: {}\".format(fold+1, mean_log_loss(target_epoch, oof_epoch)))\n",
    "        scores.append(mean_log_loss(target_epoch, oof_epoch))\n",
    "        oof[valid_index,:] = oof_epoch\n",
    "        oof_targets[valid_index,:] = target_epoch\n",
    "        #-----------------------------------\n",
    "        \n",
    "        # test predcition --------------\n",
    "        test_preds = np.zeros([test_len, y_train.shape[1]])\n",
    "        for i, (x_batch,) in enumerate(test_loader): \n",
    "            y_pred = pred_model(x_batch).detach()\n",
    "            test_preds[i * batch_size:(i+1) * batch_size, :] = torch.clamp(torch.sigmoid(y_pred.cpu()), p_min, p_max)\n",
    "        pred_value += test_preds / n_folds\n",
    "        # ------------------------------\n",
    "        \n",
    "    print(\"Seed {}\".format(seed_))\n",
    "    for i, ele in enumerate(scores):\n",
    "        print(\"Fold {} log loss: {}\".format(i+1, scores[i]))\n",
    "    print(\"Std of log loss: {}\".format(np.std(scores)))\n",
    "    print(\"Total log loss: {}\".format(mean_log_loss(oof_targets, oof)))\n",
    "    \n",
    "    return oof, oof_targets, pred_value"
   ]
  },
  {
   "cell_type": "code",
   "execution_count": 21,
   "metadata": {
    "execution": {
     "iopub.execute_input": "2020-11-15T05:46:14.009380Z",
     "iopub.status.busy": "2020-11-15T05:46:14.007800Z",
     "iopub.status.idle": "2020-11-15T05:49:23.637763Z",
     "shell.execute_reply": "2020-11-15T05:49:23.636791Z"
    },
    "papermill": {
     "duration": 189.659878,
     "end_time": "2020-11-15T05:49:23.637902",
     "exception": false,
     "start_time": "2020-11-15T05:46:13.978024",
     "status": "completed"
    },
    "tags": []
   },
   "outputs": [
    {
     "name": "stdout",
     "output_type": "stream",
     "text": [
      "Fold 1\n",
      "Epoch 1   loss=0.21784   val_loss=0.02529   sm_loss=0.21783   sm_val_loss=0.02529   time=0.66s\n",
      "Epoch 2   loss=0.02284   val_loss=0.02110   sm_loss=0.02282   sm_val_loss=0.02106   time=0.60s\n",
      "Epoch 3   loss=0.02018   val_loss=0.01922   sm_loss=0.02018   sm_val_loss=0.01924   time=0.61s\n",
      "Epoch 4   loss=0.01886   val_loss=0.01844   sm_loss=0.01890   sm_val_loss=0.01845   time=0.61s\n",
      "Epoch 5   loss=0.01805   val_loss=0.01799   sm_loss=0.01810   sm_val_loss=0.01804   time=0.59s\n",
      "Epoch 6   loss=0.01751   val_loss=0.01778   sm_loss=0.01759   sm_val_loss=0.01784   time=0.58s\n",
      "Epoch 7   loss=0.01730   val_loss=0.01775   sm_loss=0.01739   sm_val_loss=0.01783   time=0.63s\n",
      "Epoch 8   loss=0.01679   val_loss=0.01750   sm_loss=0.01691   sm_val_loss=0.01763   time=0.59s\n",
      "Epoch    12: reducing learning rate of group 0 to 5.0000e-04.\n",
      "Epoch 13   loss=0.01505   val_loss=0.01709   sm_loss=0.01524   sm_val_loss=0.01723   time=0.62s\n",
      "Epoch    17: reducing learning rate of group 0 to 5.0000e-05.\n",
      "Fold 1 log loss: 0.017434605999642454\n",
      "Fold 2\n",
      "Epoch 1   loss=0.22180   val_loss=0.02577   sm_loss=0.22178   sm_val_loss=0.02576   time=0.64s\n",
      "Epoch 2   loss=0.02268   val_loss=0.02083   sm_loss=0.02267   sm_val_loss=0.02082   time=0.83s\n",
      "Epoch 3   loss=0.02009   val_loss=0.01939   sm_loss=0.02009   sm_val_loss=0.01940   time=0.65s\n",
      "Epoch 4   loss=0.01880   val_loss=0.01856   sm_loss=0.01884   sm_val_loss=0.01859   time=0.60s\n",
      "Epoch 5   loss=0.01796   val_loss=0.01854   sm_loss=0.01803   sm_val_loss=0.01857   time=0.58s\n",
      "Epoch 6   loss=0.01740   val_loss=0.01821   sm_loss=0.01748   sm_val_loss=0.01827   time=0.58s\n",
      "Epoch 7   loss=0.01703   val_loss=0.01808   sm_loss=0.01714   sm_val_loss=0.01817   time=0.61s\n",
      "Epoch 8   loss=0.01679   val_loss=0.01778   sm_loss=0.01691   sm_val_loss=0.01788   time=0.59s\n",
      "Epoch 9   loss=0.01643   val_loss=0.01776   sm_loss=0.01657   sm_val_loss=0.01786   time=0.59s\n",
      "Epoch    13: reducing learning rate of group 0 to 5.0000e-04.\n",
      "Epoch 14   loss=0.01482   val_loss=0.01716   sm_loss=0.01502   sm_val_loss=0.01731   time=0.58s\n",
      "Epoch 15   loss=0.01410   val_loss=0.01715   sm_loss=0.01431   sm_val_loss=0.01730   time=0.61s\n",
      "Epoch    19: reducing learning rate of group 0 to 5.0000e-05.\n",
      "Fold 2 log loss: 0.01734163096013881\n",
      "Fold 3\n",
      "Epoch 1   loss=0.22052   val_loss=0.02527   sm_loss=0.22050   sm_val_loss=0.02526   time=0.79s\n",
      "Epoch 2   loss=0.02281   val_loss=0.02090   sm_loss=0.02280   sm_val_loss=0.02089   time=0.64s\n",
      "Epoch 3   loss=0.02016   val_loss=0.01897   sm_loss=0.02016   sm_val_loss=0.01897   time=0.58s\n",
      "Epoch 4   loss=0.01894   val_loss=0.01813   sm_loss=0.01897   sm_val_loss=0.01815   time=0.59s\n",
      "Epoch 5   loss=0.01808   val_loss=0.01774   sm_loss=0.01814   sm_val_loss=0.01780   time=0.59s\n",
      "Epoch 6   loss=0.01755   val_loss=0.01752   sm_loss=0.01763   sm_val_loss=0.01759   time=0.74s\n",
      "Epoch 7   loss=0.01715   val_loss=0.01732   sm_loss=0.01725   sm_val_loss=0.01743   time=0.59s\n",
      "Epoch 8   loss=0.01686   val_loss=0.01712   sm_loss=0.01698   sm_val_loss=0.01723   time=0.58s\n",
      "Epoch 10   loss=0.01651   val_loss=0.01710   sm_loss=0.01666   sm_val_loss=0.01722   time=0.60s\n",
      "Epoch 13   loss=0.01625   val_loss=0.01711   sm_loss=0.01639   sm_val_loss=0.01722   time=0.86s\n",
      "Epoch    17: reducing learning rate of group 0 to 5.0000e-04.\n",
      "Epoch 18   loss=0.01496   val_loss=0.01656   sm_loss=0.01516   sm_val_loss=0.01671   time=0.60s\n",
      "Epoch    22: reducing learning rate of group 0 to 5.0000e-05.\n",
      "Fold 3 log loss: 0.016930345525517743\n",
      "Fold 4\n",
      "Epoch 1   loss=0.22086   val_loss=0.02564   sm_loss=0.22085   sm_val_loss=0.02563   time=0.62s\n",
      "Epoch 2   loss=0.02306   val_loss=0.02080   sm_loss=0.02304   sm_val_loss=0.02080   time=0.60s\n",
      "Epoch 3   loss=0.02022   val_loss=0.01921   sm_loss=0.02021   sm_val_loss=0.01922   time=0.59s\n",
      "Epoch 4   loss=0.01892   val_loss=0.01847   sm_loss=0.01896   sm_val_loss=0.01849   time=0.62s\n",
      "Epoch 5   loss=0.01809   val_loss=0.01785   sm_loss=0.01815   sm_val_loss=0.01790   time=0.84s\n",
      "Epoch 9   loss=0.01671   val_loss=0.01758   sm_loss=0.01684   sm_val_loss=0.01767   time=0.80s\n",
      "Epoch 12   loss=0.01627   val_loss=0.01743   sm_loss=0.01642   sm_val_loss=0.01753   time=0.61s\n",
      "Epoch    16: reducing learning rate of group 0 to 5.0000e-04.\n",
      "Epoch 17   loss=0.01492   val_loss=0.01701   sm_loss=0.01512   sm_val_loss=0.01715   time=0.74s\n",
      "Epoch 18   loss=0.01424   val_loss=0.01700   sm_loss=0.01446   sm_val_loss=0.01713   time=0.60s\n",
      "Epoch    22: reducing learning rate of group 0 to 5.0000e-05.\n",
      "Fold 4 log loss: 0.017296111134760712\n",
      "Fold 5\n",
      "Epoch 1   loss=0.22154   val_loss=0.02537   sm_loss=0.22152   sm_val_loss=0.02536   time=0.60s\n",
      "Epoch 2   loss=0.02288   val_loss=0.02085   sm_loss=0.02285   sm_val_loss=0.02085   time=0.57s\n",
      "Epoch 3   loss=0.02019   val_loss=0.01945   sm_loss=0.02018   sm_val_loss=0.01945   time=0.58s\n",
      "Epoch 4   loss=0.01900   val_loss=0.01859   sm_loss=0.01902   sm_val_loss=0.01862   time=0.60s\n",
      "Epoch 5   loss=0.01809   val_loss=0.01814   sm_loss=0.01815   sm_val_loss=0.01817   time=0.57s\n",
      "Epoch 6   loss=0.01748   val_loss=0.01801   sm_loss=0.01757   sm_val_loss=0.01810   time=0.60s\n",
      "Epoch 7   loss=0.01711   val_loss=0.01787   sm_loss=0.01721   sm_val_loss=0.01794   time=0.57s\n",
      "Epoch 9   loss=0.01660   val_loss=0.01780   sm_loss=0.01674   sm_val_loss=0.01789   time=0.58s\n",
      "Epoch 10   loss=0.01636   val_loss=0.01767   sm_loss=0.01651   sm_val_loss=0.01780   time=0.58s\n",
      "Epoch    14: reducing learning rate of group 0 to 5.0000e-04.\n",
      "Epoch 15   loss=0.01491   val_loss=0.01718   sm_loss=0.01511   sm_val_loss=0.01732   time=0.59s\n",
      "Epoch    19: reducing learning rate of group 0 to 5.0000e-05.\n",
      "Fold 5 log loss: 0.01741703913384327\n",
      "Fold 6\n",
      "Epoch 1   loss=0.22298   val_loss=0.02564   sm_loss=0.22296   sm_val_loss=0.02563   time=0.61s\n",
      "Epoch 2   loss=0.02287   val_loss=0.02110   sm_loss=0.02285   sm_val_loss=0.02109   time=0.57s\n",
      "Epoch 3   loss=0.02026   val_loss=0.01923   sm_loss=0.02026   sm_val_loss=0.01923   time=0.59s\n",
      "Epoch 4   loss=0.01895   val_loss=0.01834   sm_loss=0.01897   sm_val_loss=0.01836   time=0.58s\n",
      "Epoch 5   loss=0.01808   val_loss=0.01789   sm_loss=0.01813   sm_val_loss=0.01793   time=0.57s\n",
      "Epoch 6   loss=0.01748   val_loss=0.01772   sm_loss=0.01757   sm_val_loss=0.01782   time=0.71s\n",
      "Epoch 7   loss=0.01716   val_loss=0.01762   sm_loss=0.01726   sm_val_loss=0.01772   time=0.61s\n",
      "Epoch 9   loss=0.01670   val_loss=0.01753   sm_loss=0.01683   sm_val_loss=0.01766   time=0.74s\n",
      "Epoch 10   loss=0.01641   val_loss=0.01753   sm_loss=0.01656   sm_val_loss=0.01764   time=0.60s\n",
      "Epoch    14: reducing learning rate of group 0 to 5.0000e-04.\n",
      "Epoch 15   loss=0.01479   val_loss=0.01695   sm_loss=0.01499   sm_val_loss=0.01709   time=0.79s\n",
      "Epoch    19: reducing learning rate of group 0 to 5.0000e-05.\n",
      "Fold 6 log loss: 0.017032685935564142\n",
      "Fold 7\n",
      "Epoch 1   loss=0.22402   val_loss=0.02542   sm_loss=0.22400   sm_val_loss=0.02541   time=0.80s\n",
      "Epoch 2   loss=0.02274   val_loss=0.02154   sm_loss=0.02273   sm_val_loss=0.02153   time=0.60s\n",
      "Epoch 3   loss=0.02013   val_loss=0.01933   sm_loss=0.02014   sm_val_loss=0.01935   time=0.61s\n",
      "Epoch 4   loss=0.01889   val_loss=0.01873   sm_loss=0.01892   sm_val_loss=0.01878   time=0.60s\n",
      "Epoch 5   loss=0.01803   val_loss=0.01786   sm_loss=0.01810   sm_val_loss=0.01793   time=0.62s\n",
      "Epoch 6   loss=0.01755   val_loss=0.01778   sm_loss=0.01763   sm_val_loss=0.01787   time=0.62s\n",
      "Epoch 8   loss=0.01687   val_loss=0.01769   sm_loss=0.01699   sm_val_loss=0.01779   time=0.58s\n",
      "Epoch 9   loss=0.01660   val_loss=0.01760   sm_loss=0.01674   sm_val_loss=0.01772   time=0.59s\n",
      "Epoch    13: reducing learning rate of group 0 to 5.0000e-04.\n",
      "Epoch 14   loss=0.01499   val_loss=0.01705   sm_loss=0.01518   sm_val_loss=0.01720   time=0.61s\n",
      "Epoch    18: reducing learning rate of group 0 to 5.0000e-05.\n",
      "Fold 7 log loss: 0.017127326629407753\n",
      "Seed 0\n",
      "Fold 1 log loss: 0.017434605999642454\n",
      "Fold 2 log loss: 0.01734163096013881\n",
      "Fold 3 log loss: 0.016930345525517743\n",
      "Fold 4 log loss: 0.017296111134760712\n",
      "Fold 5 log loss: 0.01741703913384327\n",
      "Fold 6 log loss: 0.017032685935564142\n",
      "Fold 7 log loss: 0.017127326629407753\n",
      "Std of log loss: 0.00018237171911623872\n",
      "Total log loss: 0.01722568742351905\n",
      "Total log loss in targets: 0.01722568742351905\n"
     ]
    }
   ],
   "source": [
    "seeds = [0]\n",
    "target_oof = np.zeros([len(fn_train),fn_targets.shape[1]])\n",
    "target_pred = np.zeros([len(fn_test),fn_targets.shape[1]])\n",
    "\n",
    "for seed_ in seeds:\n",
    "    oof, oof_targets, pytorch_pred = modelling_dae(fn_train, fn_targets, fn_test, seed_, fn_train.shape[1], fn_targets.shape[1])\n",
    "    target_oof += oof / len(seeds)\n",
    "    target_pred += pytorch_pred / len(seeds)\n",
    "\n",
    "print(\"Total log loss in targets: {}\".format(mean_log_loss(oof_targets, target_oof)))"
   ]
  },
  {
   "cell_type": "code",
   "execution_count": 22,
   "metadata": {
    "execution": {
     "iopub.execute_input": "2020-11-15T05:49:23.759000Z",
     "iopub.status.busy": "2020-11-15T05:49:23.758194Z",
     "iopub.status.idle": "2020-11-15T05:49:29.785664Z",
     "shell.execute_reply": "2020-11-15T05:49:29.785167Z"
    },
    "papermill": {
     "duration": 6.092127,
     "end_time": "2020-11-15T05:49:29.785775",
     "exception": false,
     "start_time": "2020-11-15T05:49:23.693648",
     "status": "completed"
    },
    "tags": []
   },
   "outputs": [
    {
     "name": "stdout",
     "output_type": "stream",
     "text": [
      "OOF log loss:  0.015875929603233318\n"
     ]
    }
   ],
   "source": [
    "t = pd.read_csv(DATA_DIR + 'train_targets_scored.csv')\n",
    "train_checkscore = t.copy()\n",
    "train_checkscore.loc[train_checkscore.index.isin(cons_train_index),target_feats] = target_oof\n",
    "train_checkscore.loc[train_checkscore.index.isin(noncons_train_index),target_feats] = 0\n",
    "t.drop(\"sig_id\", axis=1, inplace=True)\n",
    "print('OOF log loss: ', log_loss(np.ravel(t), np.ravel(np.array(train_checkscore.iloc[:,1:]))))"
   ]
  },
  {
   "cell_type": "code",
   "execution_count": 23,
   "metadata": {
    "execution": {
     "iopub.execute_input": "2020-11-15T05:49:29.902940Z",
     "iopub.status.busy": "2020-11-15T05:49:29.902225Z",
     "iopub.status.idle": "2020-11-15T05:49:41.561498Z",
     "shell.execute_reply": "2020-11-15T05:49:41.560363Z"
    },
    "papermill": {
     "duration": 11.719645,
     "end_time": "2020-11-15T05:49:41.561613",
     "exception": false,
     "start_time": "2020-11-15T05:49:29.841968",
     "status": "completed"
    },
    "tags": []
   },
   "outputs": [],
   "source": [
    "train_checkscore.to_csv(\"dae_oof.csv\")"
   ]
  },
  {
   "cell_type": "code",
   "execution_count": 24,
   "metadata": {
    "execution": {
     "iopub.execute_input": "2020-11-15T05:49:41.680217Z",
     "iopub.status.busy": "2020-11-15T05:49:41.679081Z",
     "iopub.status.idle": "2020-11-15T05:49:43.893724Z",
     "shell.execute_reply": "2020-11-15T05:49:43.892343Z"
    },
    "papermill": {
     "duration": 2.27576,
     "end_time": "2020-11-15T05:49:43.893864",
     "exception": false,
     "start_time": "2020-11-15T05:49:41.618104",
     "status": "completed"
    },
    "tags": []
   },
   "outputs": [],
   "source": [
    "sub.loc[cons_test_index, target_feats] = target_pred\n",
    "sub.loc[noncons_test_index,target_feats] = 0\n",
    "sub.to_csv('submission.csv', index=False)"
   ]
  },
  {
   "cell_type": "code",
   "execution_count": null,
   "metadata": {
    "papermill": {
     "duration": 0.056343,
     "end_time": "2020-11-15T05:49:44.006131",
     "exception": false,
     "start_time": "2020-11-15T05:49:43.949788",
     "status": "completed"
    },
    "tags": []
   },
   "outputs": [],
   "source": []
  }
 ],
 "metadata": {
  "kernelspec": {
   "display_name": "Python 3",
   "language": "python",
   "name": "python3"
  },
  "language_info": {
   "codemirror_mode": {
    "name": "ipython",
    "version": 3
   },
   "file_extension": ".py",
   "mimetype": "text/x-python",
   "name": "python",
   "nbconvert_exporter": "python",
   "pygments_lexer": "ipython3",
   "version": "3.7.6"
  },
  "papermill": {
   "duration": 267.281978,
   "end_time": "2020-11-15T05:49:44.573484",
   "environment_variables": {},
   "exception": null,
   "input_path": "__notebook__.ipynb",
   "output_path": "__notebook__.ipynb",
   "parameters": {},
   "start_time": "2020-11-15T05:45:17.291506",
   "version": "2.1.0"
  }
 },
 "nbformat": 4,
 "nbformat_minor": 4
}
