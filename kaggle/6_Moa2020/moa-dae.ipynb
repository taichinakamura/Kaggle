{
 "cells": [
  {
   "cell_type": "markdown",
   "metadata": {
    "papermill": {
     "duration": 0.031553,
     "end_time": "2020-11-11T03:16:04.726717",
     "exception": false,
     "start_time": "2020-11-11T03:16:04.695164",
     "status": "completed"
    },
    "tags": []
   },
   "source": [
    "- 1st denoising autoencoder"
   ]
  },
  {
   "cell_type": "code",
   "execution_count": 1,
   "metadata": {
    "_cell_guid": "b1076dfc-b9ad-4769-8c92-a6c4dae69d19",
    "_uuid": "8f2839f25d086af736a60e9eeb907d3b93b6e0e5",
    "execution": {
     "iopub.execute_input": "2020-11-11T03:16:04.799269Z",
     "iopub.status.busy": "2020-11-11T03:16:04.798426Z",
     "iopub.status.idle": "2020-11-11T03:16:14.758791Z",
     "shell.execute_reply": "2020-11-11T03:16:14.757142Z"
    },
    "papermill": {
     "duration": 10.002598,
     "end_time": "2020-11-11T03:16:14.758922",
     "exception": false,
     "start_time": "2020-11-11T03:16:04.756324",
     "status": "completed"
    },
    "tags": []
   },
   "outputs": [],
   "source": [
    "import os\n",
    "import sys\n",
    "import random\n",
    "import warnings\n",
    "import numpy as np\n",
    "import pandas as pd \n",
    "from umap import UMAP\n",
    "from scipy import stats\n",
    "import networkx as nx\n",
    "from sklearn import preprocessing\n",
    "from sklearn.metrics import log_loss,roc_auc_score\n",
    "from sklearn.decomposition import PCA\n",
    "from tqdm import tqdm_notebook as tqdm\n",
    "from sklearn.cluster import KMeans\n",
    "from sklearn.pipeline import make_pipeline,make_union\n",
    "from sklearn.multioutput import MultiOutputClassifier\n",
    "from sklearn.feature_selection import VarianceThreshold\n",
    "\n",
    "sys.path.append('../input/multilabelstraifier/')\n",
    "from ml_stratifiers import MultilabelStratifiedKFold\n",
    "warnings.filterwarnings('ignore')\n",
    "\n",
    "import time\n",
    "import torch\n",
    "import torch.nn as nn\n",
    "import torch.optim as optim\n",
    "import torch.nn.functional as F\n",
    "import tensorflow as tf\n",
    "from torch.nn.modules.loss import _WeightedLoss\n",
    "from sklearn.compose import make_column_transformer,ColumnTransformer\n",
    "from sklearn.base import BaseEstimator,TransformerMixin"
   ]
  },
  {
   "cell_type": "code",
   "execution_count": 2,
   "metadata": {
    "_cell_guid": "79c7e3d0-c299-4dcb-8224-4455121ee9b0",
    "_uuid": "d629ff2d2480ee46fbb7e2d37f6b5fab8052498a",
    "execution": {
     "iopub.execute_input": "2020-11-11T03:16:14.829859Z",
     "iopub.status.busy": "2020-11-11T03:16:14.828797Z",
     "iopub.status.idle": "2020-11-11T03:16:21.596296Z",
     "shell.execute_reply": "2020-11-11T03:16:21.595639Z"
    },
    "papermill": {
     "duration": 6.807667,
     "end_time": "2020-11-11T03:16:21.596435",
     "exception": false,
     "start_time": "2020-11-11T03:16:14.788768",
     "status": "completed"
    },
    "tags": []
   },
   "outputs": [],
   "source": [
    "DATA_DIR = '/kaggle/input/lish-moa/'\n",
    "train = pd.read_csv(DATA_DIR + 'train_features.csv')\n",
    "targets = pd.read_csv(DATA_DIR + 'train_targets_scored.csv')\n",
    "non_targets = pd.read_csv(DATA_DIR + 'train_targets_nonscored.csv')\n",
    "test = pd.read_csv(DATA_DIR + 'test_features.csv')\n",
    "sub = pd.read_csv(DATA_DIR + 'sample_submission.csv')\n",
    "drug = pd.read_csv(DATA_DIR + 'train_drug.csv')\n",
    "target_feats = [ i for i in targets.columns if i != \"sig_id\"]\n",
    "g_feats = [i for i in train.columns if \"g-\" in i]\n",
    "c_feats = [i for i in train.columns if \"c-\" in i]"
   ]
  },
  {
   "cell_type": "code",
   "execution_count": 3,
   "metadata": {
    "execution": {
     "iopub.execute_input": "2020-11-11T03:16:21.665314Z",
     "iopub.status.busy": "2020-11-11T03:16:21.664441Z",
     "iopub.status.idle": "2020-11-11T03:16:21.763324Z",
     "shell.execute_reply": "2020-11-11T03:16:21.762708Z"
    },
    "papermill": {
     "duration": 0.136915,
     "end_time": "2020-11-11T03:16:21.763455",
     "exception": false,
     "start_time": "2020-11-11T03:16:21.626540",
     "status": "completed"
    },
    "tags": []
   },
   "outputs": [],
   "source": [
    "noncons_train_index = train[train.cp_type==\"ctl_vehicle\"].index\n",
    "cons_train_index = train[train.cp_type!=\"ctl_vehicle\"].index\n",
    "noncons_test_index = test[test.cp_type==\"ctl_vehicle\"].index\n",
    "cons_test_index = test[test.cp_type!=\"ctl_vehicle\"].index"
   ]
  },
  {
   "cell_type": "code",
   "execution_count": 4,
   "metadata": {
    "execution": {
     "iopub.execute_input": "2020-11-11T03:16:21.827830Z",
     "iopub.status.busy": "2020-11-11T03:16:21.827143Z",
     "iopub.status.idle": "2020-11-11T03:16:21.831296Z",
     "shell.execute_reply": "2020-11-11T03:16:21.831845Z"
    },
    "papermill": {
     "duration": 0.039672,
     "end_time": "2020-11-11T03:16:21.831999",
     "exception": false,
     "start_time": "2020-11-11T03:16:21.792327",
     "status": "completed"
    },
    "tags": []
   },
   "outputs": [],
   "source": [
    "GENES = [col for col in train.columns if col.startswith('g-')]\n",
    "CELLS = [col for col in train.columns if col.startswith('c-')]"
   ]
  },
  {
   "cell_type": "markdown",
   "metadata": {
    "papermill": {
     "duration": 0.059707,
     "end_time": "2020-11-11T03:16:21.921383",
     "exception": false,
     "start_time": "2020-11-11T03:16:21.861676",
     "status": "completed"
    },
    "tags": []
   },
   "source": [
    "# feature selection transformer"
   ]
  },
  {
   "cell_type": "code",
   "execution_count": 5,
   "metadata": {
    "execution": {
     "iopub.execute_input": "2020-11-11T03:16:22.043727Z",
     "iopub.status.busy": "2020-11-11T03:16:22.042901Z",
     "iopub.status.idle": "2020-11-11T03:16:22.095482Z",
     "shell.execute_reply": "2020-11-11T03:16:22.098184Z"
    },
    "papermill": {
     "duration": 0.120217,
     "end_time": "2020-11-11T03:16:22.098404",
     "exception": false,
     "start_time": "2020-11-11T03:16:21.978187",
     "status": "completed"
    },
    "tags": []
   },
   "outputs": [],
   "source": [
    "class CatIntMapper( BaseEstimator, TransformerMixin ):\n",
    "    #Class constructor method that takes in a list of values as its argument\n",
    "    def __init__(self ,col,dicti):\n",
    "        self.col = col\n",
    "        self.dicti = dicti\n",
    "        \n",
    "    def fit(self, X, y = None):\n",
    "        \n",
    "        return self\n",
    "    #Return self nothing else to do here\n",
    "    def fit_transform( self, X, y = None  ):\n",
    "        assert  X[self.col].isin(self.dicti.keys()).all() \n",
    "        return pd.concat([X.drop(self.col,axis=1),X[self.col].map(self.dicti).astype(int).rename(self.col)],axis=1) \n",
    "    \n",
    "    def transform( self, X):\n",
    "        assert  X[self.col].isin(self.dicti.keys()).all() \n",
    "        \n",
    "        return pd.concat([X.drop(self.col,axis=1),X[self.col].map(self.dicti).astype(int).rename(self.col)],axis=1) \n",
    "    \n",
    "class NamedOutTWrapper(BaseEstimator, TransformerMixin):\n",
    "    \n",
    "    def __init__(self,transformer,columns,inplace=False,prefix='_' ):\n",
    "        self.transformer = transformer\n",
    "        self.cols = columns\n",
    "        self.inplace =  inplace\n",
    "        self.prefix = prefix\n",
    "        self.transformer_name = self._get_transformer_name()\n",
    "        \n",
    "    def fit(self, X, y = None): \n",
    "        self.transformer =   self.transformer.fit(X[self.cols] , y )\n",
    "        return self\n",
    "    \n",
    "    #Return self nothing else to do here\n",
    "    def fit_transform( self, X, y = None  ): \n",
    "        transformed_columns = self.transformer.fit_transform(X[self.cols] , y )\n",
    "        out=pd.DataFrame(index=X.index)\n",
    "        \n",
    "        if self.inplace:\n",
    "            out = X[self.cols]\n",
    "            out[self.cols] = transformed_columns\n",
    "            return pd.concat([X.drop(self.cols,axis=1),out],axis=1)\n",
    "        else:\n",
    "            for i,values in enumerate(transformed_columns.transpose()):\n",
    "                out[ self.transformer_name + self.prefix + str(i)] = values\n",
    "            return   pd.concat([X,out],axis=1)\n",
    "        \n",
    "    def transform( self, X):\n",
    "        transformed_columns = self.transformer.transform(X[self.cols]  )\n",
    "        out=pd.DataFrame(index=X.index)\n",
    "        \n",
    "        if self.inplace:\n",
    "            out = X[self.cols]\n",
    "            out[self.cols] = transformed_columns\n",
    "            return pd.concat([X.drop(self.cols,axis=1),out],axis=1)\n",
    "        else:\n",
    "            for i,values in enumerate(transformed_columns.transpose()):\n",
    "                out[ self.transformer_name + self.prefix + str(i)] = values\n",
    "        return   pd.concat([X,out],axis=1)\n",
    "    \n",
    "    def _get_transformer_name(self):\n",
    "        return str(self.transformer.__class__).split('.')[-1][0:-2]\n",
    "    \n",
    "class IdentityTransformer:\n",
    "    '''Duummy_tansformer as a filler'''\n",
    "    def __init__(self ):\n",
    "        pass\n",
    "    def fit(self, X, y = None):\n",
    "        return self\n",
    "    #Return self nothing else to do here\n",
    "    def fit_transform( self, X, y = None  ):\n",
    "        return  X\n",
    "      \n",
    "    def transform( self, X):\n",
    "        return  X    \n",
    "    \n",
    "class SuppressControls( BaseEstimator, TransformerMixin ):\n",
    "    #Class constructor method that takes in a list of values as its argument\n",
    "    def __init__(self ):\n",
    "        pass\n",
    "    def fit(self, X, y = None):\n",
    "        return self\n",
    "    #Return self nothing else to do here\n",
    "    def fit_transform( self, X, y = None  ):\n",
    "        return   X.loc[X['cp_type']!='ctl_vehicle'].drop('cp_type', axis=1) \n",
    "    \n",
    "    def transform( self, X):        \n",
    "        return    X.loc[X['cp_type']!='ctl_vehicle'].drop('cp_type', axis=1)"
   ]
  },
  {
   "cell_type": "markdown",
   "metadata": {
    "papermill": {
     "duration": 0.040687,
     "end_time": "2020-11-11T03:16:22.185218",
     "exception": false,
     "start_time": "2020-11-11T03:16:22.144531",
     "status": "completed"
    },
    "tags": []
   },
   "source": [
    "# cv folds"
   ]
  },
  {
   "cell_type": "code",
   "execution_count": 6,
   "metadata": {
    "execution": {
     "iopub.execute_input": "2020-11-11T03:16:22.330558Z",
     "iopub.status.busy": "2020-11-11T03:16:22.329540Z",
     "iopub.status.idle": "2020-11-11T03:16:22.335518Z",
     "shell.execute_reply": "2020-11-11T03:16:22.334185Z"
    },
    "papermill": {
     "duration": 0.109332,
     "end_time": "2020-11-11T03:16:22.335658",
     "exception": false,
     "start_time": "2020-11-11T03:16:22.226326",
     "status": "completed"
    },
    "tags": []
   },
   "outputs": [],
   "source": [
    "def multifold_indexer(train,target_columns,n_splits=10,random_state=12347,**kwargs):\n",
    "    folds = train.copy()\n",
    "\n",
    "    mskf = MultilabelStratifiedKFold(n_splits=n_splits,random_state=random_state,**kwargs)\n",
    "    folds[ 'kfold']=0\n",
    "    for f, (t_idx, v_idx) in enumerate(mskf.split(X=train, y=train[target_columns])):\n",
    "        folds.iloc[v_idx,-1] = int(f)\n",
    "\n",
    "    folds['kfold'] = folds['kfold'].astype(int)\n",
    "    return folds"
   ]
  },
  {
   "cell_type": "markdown",
   "metadata": {
    "papermill": {
     "duration": 0.057763,
     "end_time": "2020-11-11T03:16:22.439196",
     "exception": false,
     "start_time": "2020-11-11T03:16:22.381433",
     "status": "completed"
    },
    "tags": []
   },
   "source": [
    "# dataset class"
   ]
  },
  {
   "cell_type": "code",
   "execution_count": 7,
   "metadata": {
    "execution": {
     "iopub.execute_input": "2020-11-11T03:16:22.548093Z",
     "iopub.status.busy": "2020-11-11T03:16:22.547056Z",
     "iopub.status.idle": "2020-11-11T03:16:22.559460Z",
     "shell.execute_reply": "2020-11-11T03:16:22.560231Z"
    },
    "papermill": {
     "duration": 0.068902,
     "end_time": "2020-11-11T03:16:22.560412",
     "exception": false,
     "start_time": "2020-11-11T03:16:22.491510",
     "status": "completed"
    },
    "tags": []
   },
   "outputs": [],
   "source": [
    "class MoADataset:\n",
    "    def __init__(self, features, targets):\n",
    "        self.features = features\n",
    "        self.targets = targets\n",
    "        \n",
    "    def __len__(self):\n",
    "        return (self.features.shape[0])\n",
    "    \n",
    "    def __getitem__(self, idx):\n",
    "        dct = {\n",
    "            'x' : torch.tensor(self.features[idx, :], dtype=torch.float),\n",
    "            'y' : torch.tensor(self.targets[idx, :], dtype=torch.float)            \n",
    "        }\n",
    "        return dct\n",
    "    \n",
    "class TestDataset:\n",
    "    def __init__(self, features):\n",
    "        self.features = features\n",
    "        \n",
    "    def __len__(self):\n",
    "        return (self.features.shape[0])\n",
    "    \n",
    "    def __getitem__(self, idx):\n",
    "        dct = {\n",
    "            'x' : torch.tensor(self.features[idx, :], dtype=torch.float)\n",
    "        }\n",
    "        return dct"
   ]
  },
  {
   "cell_type": "markdown",
   "metadata": {
    "papermill": {
     "duration": 0.058093,
     "end_time": "2020-11-11T03:16:22.662273",
     "exception": false,
     "start_time": "2020-11-11T03:16:22.604180",
     "status": "completed"
    },
    "tags": []
   },
   "source": [
    "# model"
   ]
  },
  {
   "cell_type": "code",
   "execution_count": 8,
   "metadata": {
    "execution": {
     "iopub.execute_input": "2020-11-11T03:16:22.771562Z",
     "iopub.status.busy": "2020-11-11T03:16:22.770734Z",
     "iopub.status.idle": "2020-11-11T03:16:22.774603Z",
     "shell.execute_reply": "2020-11-11T03:16:22.775699Z"
    },
    "papermill": {
     "duration": 0.065078,
     "end_time": "2020-11-11T03:16:22.775877",
     "exception": false,
     "start_time": "2020-11-11T03:16:22.710799",
     "status": "completed"
    },
    "tags": []
   },
   "outputs": [],
   "source": [
    "class DAE_Model(nn.Module):\n",
    "    def __init__(self, num_features, num_targets, hidden_size=1100,hidden_size2=1300):\n",
    "        super(DAE_Model, self).__init__()\n",
    "        self.batch_norm1 = nn.BatchNorm1d(num_features)\n",
    "        #self.dropout1 = nn.Dropout(drop_rate1)\n",
    "        self.dense1 = nn.utils.weight_norm(nn.Linear(num_features, hidden_size))\n",
    "        \n",
    "        self.batch_norm2 = nn.BatchNorm1d(hidden_size)\n",
    "      #  self.dropout2 = nn.Dropout(drop_rate2)\n",
    "        self.dense2 = nn.utils.weight_norm(nn.Linear(hidden_size, hidden_size2))\n",
    "        \n",
    "        self.batch_norm3 = nn.BatchNorm1d(hidden_size2)\n",
    "        #self.dropout3 = nn.Dropout(drop_rate2)\n",
    "        self.dense3 = nn.utils.weight_norm(nn.Linear(hidden_size2, hidden_size))\n",
    "        \n",
    "      #  self.batch_norm4 = nn.BatchNorm1d(hidden_size)\n",
    "      #  self.dropout4 = nn.Dropout(drop_rate3)\n",
    "        self.dense4 = nn.utils.weight_norm(nn.Linear(hidden_size, num_features))\n",
    "        \n",
    "    def forward(self, x,mode='DAE'):\n",
    "      #  x = self.batch_norm1(x)\n",
    "       # x1 = self.dropout1(x1)\n",
    "        x1 = F.relu(self.dense1(x))\n",
    "            \n",
    "        x2 = self.batch_norm2(x1)\n",
    "      #  x = self.dropout2(x)\n",
    "        x2 = F.relu(self.dense2(x2))\n",
    "        \n",
    "        x3 = self.batch_norm3(x2)\n",
    "      \n",
    "        x3 = F.relu(self.dense3(x3))\n",
    "        \n",
    "        out = self.dense4(x3)\n",
    "        \n",
    "        if mode == 'DAE':\n",
    "            return out\n",
    "        else:\n",
    "            return x1,x2,x3"
   ]
  },
  {
   "cell_type": "code",
   "execution_count": 9,
   "metadata": {
    "execution": {
     "iopub.execute_input": "2020-11-11T03:16:22.863523Z",
     "iopub.status.busy": "2020-11-11T03:16:22.862679Z",
     "iopub.status.idle": "2020-11-11T03:16:22.864866Z",
     "shell.execute_reply": "2020-11-11T03:16:22.864211Z"
    },
    "papermill": {
     "duration": 0.048487,
     "end_time": "2020-11-11T03:16:22.865027",
     "exception": false,
     "start_time": "2020-11-11T03:16:22.816540",
     "status": "completed"
    },
    "tags": []
   },
   "outputs": [],
   "source": [
    "map_controls = CatIntMapper('cp_type',{'ctl_vehicle': 0, 'trt_cp': 1})    \n",
    "map_dose = CatIntMapper('cp_dose',{'D1': 1, 'D2': 0})    \n",
    "map_time = CatIntMapper('cp_time',{24: 0, 48: 1, 72: 2})  "
   ]
  },
  {
   "cell_type": "code",
   "execution_count": 10,
   "metadata": {
    "execution": {
     "iopub.execute_input": "2020-11-11T03:16:22.953784Z",
     "iopub.status.busy": "2020-11-11T03:16:22.951854Z",
     "iopub.status.idle": "2020-11-11T03:16:22.954444Z",
     "shell.execute_reply": "2020-11-11T03:16:22.954898Z"
    },
    "papermill": {
     "duration": 0.040343,
     "end_time": "2020-11-11T03:16:22.955027",
     "exception": false,
     "start_time": "2020-11-11T03:16:22.914684",
     "status": "completed"
    },
    "tags": []
   },
   "outputs": [],
   "source": [
    "Rankg_g_tansform = NamedOutTWrapper(preprocessing.QuantileTransformer(n_quantiles=100,random_state=0, output_distribution=\"normal\"),columns= GENES+CELLS,inplace=True)\n",
    "PCA_g_tansform =  NamedOutTWrapper(PCA(20),columns= GENES,prefix ='_g' )\n",
    "PCA_c_tansform =  NamedOutTWrapper(PCA(20),columns= CELLS,prefix ='_c' )"
   ]
  },
  {
   "cell_type": "code",
   "execution_count": 11,
   "metadata": {
    "execution": {
     "iopub.execute_input": "2020-11-11T03:16:23.045081Z",
     "iopub.status.busy": "2020-11-11T03:16:23.042479Z",
     "iopub.status.idle": "2020-11-11T03:16:23.046016Z",
     "shell.execute_reply": "2020-11-11T03:16:23.046747Z"
    },
    "papermill": {
     "duration": 0.055006,
     "end_time": "2020-11-11T03:16:23.046903",
     "exception": false,
     "start_time": "2020-11-11T03:16:22.991897",
     "status": "completed"
    },
    "tags": []
   },
   "outputs": [],
   "source": [
    "class ColumnDropper( BaseEstimator, TransformerMixin ):\n",
    "    #Class Constructor \n",
    "    def __init__( self, cols ):\n",
    "        self.cols=cols\n",
    "    #Return self nothing else to do here    \n",
    "    def fit( self, X, y = None ):\n",
    "        return self \n",
    "    \n",
    "    #Method that describes what we need this transformer to do\n",
    "    def transform( self, X, y = None ):\n",
    "        return X.drop(self.cols,axis=1)"
   ]
  },
  {
   "cell_type": "code",
   "execution_count": 12,
   "metadata": {
    "execution": {
     "iopub.execute_input": "2020-11-11T03:16:23.137483Z",
     "iopub.status.busy": "2020-11-11T03:16:23.136592Z",
     "iopub.status.idle": "2020-11-11T03:16:23.138886Z",
     "shell.execute_reply": "2020-11-11T03:16:23.138211Z"
    },
    "papermill": {
     "duration": 0.049902,
     "end_time": "2020-11-11T03:16:23.139026",
     "exception": false,
     "start_time": "2020-11-11T03:16:23.089124",
     "status": "completed"
    },
    "tags": []
   },
   "outputs": [],
   "source": [
    "CatDropper =ColumnDropper(cols=['cp_type','cp_time','cp_dose'])\n",
    "transformers_list=[map_controls,map_dose,map_time,Rankg_g_tansform,CatDropper]\n",
    "exp_name = 'test_DAE_0.2_all_together'"
   ]
  },
  {
   "cell_type": "code",
   "execution_count": 13,
   "metadata": {
    "execution": {
     "iopub.execute_input": "2020-11-11T03:16:23.228531Z",
     "iopub.status.busy": "2020-11-11T03:16:23.227658Z",
     "iopub.status.idle": "2020-11-11T03:16:23.243568Z",
     "shell.execute_reply": "2020-11-11T03:16:23.244609Z"
    },
    "papermill": {
     "duration": 0.065786,
     "end_time": "2020-11-11T03:16:23.244755",
     "exception": false,
     "start_time": "2020-11-11T03:16:23.178969",
     "status": "completed"
    },
    "tags": []
   },
   "outputs": [],
   "source": [
    "def run_inference(X_train,y_train,X_valid,y_valid,X_test,fold, seed,inference_only=False,**kwargs):\n",
    "    seed_everything(seed)\n",
    "    if not  inference_only:\n",
    "        train_dataset = MoADataset(X_train, y_train)\n",
    "        valid_dataset = MoADataset(X_valid, y_valid)\n",
    "        trainloader = torch.utils.data.DataLoader(train_dataset, batch_size=BATCH_SIZE, shuffle=True)\n",
    "        validloader = torch.utils.data.DataLoader(valid_dataset, batch_size=BATCH_SIZE, shuffle=False)\n",
    "\n",
    "    testdataset = TestDataset(X_test)\n",
    "    testloader = torch.utils.data.DataLoader(testdataset, batch_size=BATCH_SIZE, shuffle=False)\n",
    "    \n",
    "    model = DAE_Model(\n",
    "        num_features= X_train.shape[1] ,\n",
    "        num_targets=  X_train.shape[1],\n",
    "       # hidden_size=hidden_size,\n",
    "        **kwargs\n",
    "    )\n",
    "\n",
    "    #model.load_state_dict(torch.load( f\"../input/swap-dae-noise0-2/FOLD{fold}_{exp_name}.pth\",map_location=torch.device('cpu')))#map_location='cuda:0'))#,freeze_first_layer=True)\n",
    "    model.to(DEVICE)\n",
    "    \n",
    "    if not  inference_only:\n",
    "        oof = inference_infer_features_fn(model, validloader, DEVICE)    \n",
    "    else:\n",
    "        oof= 0\n",
    "    \n",
    "    predictions = infer_features_fn(model, testloader, DEVICE)\n",
    "    predictions = predictions\n",
    "    \n",
    "    return oof, predictions"
   ]
  },
  {
   "cell_type": "code",
   "execution_count": 14,
   "metadata": {
    "execution": {
     "iopub.execute_input": "2020-11-11T03:16:23.763724Z",
     "iopub.status.busy": "2020-11-11T03:16:23.762682Z",
     "iopub.status.idle": "2020-11-11T03:16:23.768658Z",
     "shell.execute_reply": "2020-11-11T03:16:23.769777Z"
    },
    "papermill": {
     "duration": 0.475602,
     "end_time": "2020-11-11T03:16:23.769971",
     "exception": false,
     "start_time": "2020-11-11T03:16:23.294369",
     "status": "completed"
    },
    "tags": []
   },
   "outputs": [],
   "source": [
    "DEVICE = ('cuda' if torch.cuda.is_available() else 'cpu')\n",
    "EPOCHS = 1000\n",
    "BATCH_SIZE = 640\n",
    "LEARNING_RATE = 2e-3\n",
    "WEIGHT_DECAY = 1e-8\n",
    "NFOLDS = 10\n",
    "EARLY_STOPPING_STEPS = 10\n",
    "EARLY_STOP = False\n",
    "GAMMA=0.5\n",
    "FACTOR=0.75\n",
    "#num_features=len(feature_cols)\n",
    "#num_targets=len(target_cols)\n",
    "hidden_size=1100\n",
    "hidden_size2=1300\n",
    "PATIENCE=10\n",
    "THRESHOLD = 5e-3"
   ]
  },
  {
   "cell_type": "code",
   "execution_count": 15,
   "metadata": {
    "execution": {
     "iopub.execute_input": "2020-11-11T03:16:23.873838Z",
     "iopub.status.busy": "2020-11-11T03:16:23.872856Z",
     "iopub.status.idle": "2020-11-11T03:16:23.898373Z",
     "shell.execute_reply": "2020-11-11T03:16:23.899423Z"
    },
    "papermill": {
     "duration": 0.083438,
     "end_time": "2020-11-11T03:16:23.899614",
     "exception": false,
     "start_time": "2020-11-11T03:16:23.816176",
     "status": "completed"
    },
    "tags": []
   },
   "outputs": [],
   "source": [
    "def train_fn(model, optimizer, scheduler, loss_fn, dataloader, device):\n",
    "    model.train()\n",
    "    final_loss = 0\n",
    "    \n",
    "    for data in dataloader:\n",
    "        optimizer.zero_grad()\n",
    "        inputs, targets = data['x'].to(device), data['y'].to(device)\n",
    "        outputs = model(inputs)\n",
    "        loss = loss_fn(outputs, targets)\n",
    "        loss.backward()\n",
    "        optimizer.step()\n",
    "        \n",
    "        if not  scheduler.__class__ ==  torch.optim.lr_scheduler.ReduceLROnPlateau:\n",
    "            scheduler.step()\n",
    "        \n",
    "        final_loss += loss.item()\n",
    "        \n",
    "    final_loss /= len(dataloader)\n",
    "    \n",
    "    return final_loss\n",
    "\n",
    "def valid_fn(model, scheduler, loss_fn, dataloader, device):\n",
    "    model.eval()\n",
    "    final_loss = 0\n",
    "    valid_preds = []\n",
    "    \n",
    "    for data in dataloader:\n",
    "        inputs, targets = data['x'].to(device), data['y'].to(device)\n",
    "        outputs = model(inputs)\n",
    "        loss = loss_fn(outputs, targets)\n",
    "        \n",
    "        final_loss += loss.item()\n",
    "        valid_preds.append(outputs.sigmoid().detach().cpu().numpy())\n",
    "        \n",
    "    final_loss /= len(dataloader)\n",
    "    valid_preds = np.concatenate(valid_preds)\n",
    "    \n",
    "    if scheduler.__class__ ==  torch.optim.lr_scheduler.ReduceLROnPlateau:\n",
    "        scheduler.step(final_loss)\n",
    "    \n",
    "    return final_loss, valid_preds\n",
    "\n",
    "def inference_fn(model, dataloader, device):\n",
    "    model.eval()\n",
    "    preds = []\n",
    "    \n",
    "    for data in dataloader:\n",
    "        inputs = data['x'].to(device)\n",
    "\n",
    "        with torch.no_grad():\n",
    "            outputs = model(inputs)\n",
    "        \n",
    "        preds.append(outputs.sigmoid().detach().cpu().numpy())\n",
    "        \n",
    "    preds = np.concatenate(preds)\n",
    "    \n",
    "    return preds\n",
    "\n",
    "def infer_features_fn(model, dataloader, device):\n",
    "    model.eval()\n",
    "    preds = []\n",
    "    \n",
    "    for data in dataloader:\n",
    "        inputs = data['x'].to(device)\n",
    "\n",
    "        with torch.no_grad():\n",
    "            outputs = model(inputs,mode='get_features')\n",
    "        \n",
    "#         print(len(outputs))\n",
    "#         for i in range(len(outputs)):\n",
    "#             print(outputs[i].shape)\n",
    "#         print(torch.cat(outputs,axis=1).shape)\n",
    "        \n",
    "        preds.append(torch.cat(outputs,axis=1).detach().cpu().numpy())\n",
    "    preds = np.concatenate(preds)\n",
    "    \n",
    "    return preds"
   ]
  },
  {
   "cell_type": "code",
   "execution_count": 16,
   "metadata": {
    "execution": {
     "iopub.execute_input": "2020-11-11T03:16:24.030397Z",
     "iopub.status.busy": "2020-11-11T03:16:24.029366Z",
     "iopub.status.idle": "2020-11-11T03:16:24.049402Z",
     "shell.execute_reply": "2020-11-11T03:16:24.050674Z"
    },
    "papermill": {
     "duration": 0.088742,
     "end_time": "2020-11-11T03:16:24.050867",
     "exception": false,
     "start_time": "2020-11-11T03:16:23.962125",
     "status": "completed"
    },
    "tags": []
   },
   "outputs": [],
   "source": [
    "def train_short_form_loader(feature_file,target_file,extra_target_file=None):\n",
    "    '''takes the original target and features and creates a train dataset \n",
    "    in col long format'''\n",
    "    train_features = pd.read_csv(feature_file)\n",
    "    train_targets = pd.read_csv(target_file)\n",
    "\n",
    "    if extra_target_file is not None:\n",
    "        extra_targets = pd.read_csv(extra_target_file)\n",
    "        train_targets = pd.merge(train_targets,extra_targets,on ='sig_id')\n",
    "        del extra_targets\n",
    "\n",
    "    targets = train_targets.columns[1:]\n",
    "\n",
    "    train_melt=train_targets.merge(train_features,how=\"left\",on=\"sig_id\")\n",
    "\n",
    "    del train_features,train_targets\n",
    "    \n",
    "    train_melt.set_index(\"sig_id\",inplace=True)\n",
    "\n",
    "    #train_melt[\"variable\"]= train_melt[\"variable\"].astype('category')\n",
    "    train_melt[\"cp_type\"]= train_melt[\"cp_type\"].astype('category')\n",
    "    train_melt[\"cp_dose\"]= train_melt[\"cp_dose\"].astype('category')\n",
    "\n",
    "    return train_melt , targets.to_list()\n",
    "\n",
    "def test_short_form_loader(feature_file):\n",
    "    '''takes the original target and features and creates a train dataset \n",
    "    in col long format'''\n",
    "\n",
    "    train_features = pd.read_csv(feature_file)\n",
    "\n",
    "    train_melt =  train_features.copy()\n",
    "    del train_features\n",
    "\n",
    "    train_melt.set_index(\"sig_id\",inplace=True)\n",
    "\n",
    "    train_melt[\"cp_type\"]= train_melt[\"cp_type\"].astype('category')\n",
    "    train_melt[\"cp_dose\"]= train_melt[\"cp_dose\"].astype('category')\n",
    "\n",
    "    return train_melt "
   ]
  },
  {
   "cell_type": "code",
   "execution_count": 17,
   "metadata": {
    "execution": {
     "iopub.execute_input": "2020-11-11T03:16:24.190017Z",
     "iopub.status.busy": "2020-11-11T03:16:24.189032Z",
     "iopub.status.idle": "2020-11-11T03:16:30.095905Z",
     "shell.execute_reply": "2020-11-11T03:16:30.094786Z"
    },
    "papermill": {
     "duration": 5.976289,
     "end_time": "2020-11-11T03:16:30.096082",
     "exception": false,
     "start_time": "2020-11-11T03:16:24.119793",
     "status": "completed"
    },
    "tags": []
   },
   "outputs": [],
   "source": [
    "SEED = [0]\n",
    "train,target_cols = train_short_form_loader('../input/lish-moa/train_features.csv','../input/lish-moa/train_targets_scored.csv')\n",
    "test = test_short_form_loader(\"../input/lish-moa/test_features.csv\")\n",
    "\n",
    "train = pd.concat([train,test])\n",
    "train[target_cols]= train[target_cols].fillna(0)\n",
    "test = train.copy()\n",
    "#pipeline_test = make_pipeline(*transformers_list)\n",
    "#pipeline_test.fit(train)\n",
    "#test = pipeline_test.transform(test)"
   ]
  },
  {
   "cell_type": "code",
   "execution_count": 18,
   "metadata": {
    "execution": {
     "iopub.execute_input": "2020-11-11T03:16:30.165709Z",
     "iopub.status.busy": "2020-11-11T03:16:30.163853Z",
     "iopub.status.idle": "2020-11-11T03:16:30.166391Z",
     "shell.execute_reply": "2020-11-11T03:16:30.166960Z"
    },
    "papermill": {
     "duration": 0.039736,
     "end_time": "2020-11-11T03:16:30.167096",
     "exception": false,
     "start_time": "2020-11-11T03:16:30.127360",
     "status": "completed"
    },
    "tags": []
   },
   "outputs": [],
   "source": [
    "def seed_everything(seed=42):\n",
    "    random.seed(seed)\n",
    "    #os.environ['PYTHONHASHSEED'] = str(seed)\n",
    "    np.random.seed(seed)\n",
    "    torch.manual_seed(seed)\n",
    "    torch.cuda.manual_seed(seed)\n",
    "    torch.backends.cudnn.deterministic = True"
   ]
  },
  {
   "cell_type": "code",
   "execution_count": 19,
   "metadata": {
    "execution": {
     "iopub.execute_input": "2020-11-11T03:16:30.244831Z",
     "iopub.status.busy": "2020-11-11T03:16:30.243450Z",
     "iopub.status.idle": "2020-11-11T03:16:56.252877Z",
     "shell.execute_reply": "2020-11-11T03:16:56.251604Z"
    },
    "papermill": {
     "duration": 26.054153,
     "end_time": "2020-11-11T03:16:56.253023",
     "exception": false,
     "start_time": "2020-11-11T03:16:30.198870",
     "status": "completed"
    },
    "tags": []
   },
   "outputs": [],
   "source": [
    "oof = np.zeros((len(train), len(target_cols)))\n",
    "predictions = np.zeros((len(test), len(target_cols)))\n",
    "\n",
    "for seed in SEED:\n",
    "    \n",
    "    train = multifold_indexer(train,target_cols,n_splits=NFOLDS)\n",
    "    \n",
    "    #print(test_.head())\n",
    "    for fold in range(NFOLDS):\n",
    "\n",
    "        #pipeline_val = pk.load(open(f\"../input/tmultiv5rnkgpcag50smth1e3unpropertrafo/preprocessing_SEED{seed}_FOLD{fold}.pth\",'rb'))\n",
    "            \n",
    "        train_df = train[train['kfold'] != fold]#.reset_index(drop=True)\n",
    "        valid_df = train[train['kfold'] == fold]#.reset_index(drop=True)\n",
    "            \n",
    "        feature_cols = [col  for col in train_df.columns if not (col in target_cols+['kfold'])]\n",
    "        \n",
    "        #print(feature_cols)\n",
    "        \n",
    "        pipeline_val = make_pipeline(*transformers_list)\n",
    "        \n",
    "        X_train, y_train  = train_df[feature_cols], train_df[target_cols]\n",
    "        X_valid, y_valid =  valid_df[feature_cols], valid_df[target_cols].values\n",
    "        \n",
    "        X_train = pipeline_val.fit_transform(X_train)\n",
    "        X_train = X_train.values\n",
    "        X_valid = pipeline_val.transform(X_valid)\n",
    "        \n",
    "        valid_index = X_valid.index\n",
    "        X_valid = X_valid.values\n",
    "        \n",
    "        y_train = y_train.values\n",
    "        \n",
    "        X_test = test[feature_cols]\n",
    "        X_test = pipeline_val.transform(X_test).values\n",
    "        \n",
    "        pred_ = run_inference(X_train,y_train,X_valid,y_valid,X_test,fold, seed,inference_only=True)    \n",
    "        \n",
    "        break"
   ]
  },
  {
   "cell_type": "code",
   "execution_count": 20,
   "metadata": {
    "execution": {
     "iopub.execute_input": "2020-11-11T03:16:56.325017Z",
     "iopub.status.busy": "2020-11-11T03:16:56.324334Z",
     "iopub.status.idle": "2020-11-11T03:16:56.328072Z",
     "shell.execute_reply": "2020-11-11T03:16:56.328647Z"
    },
    "papermill": {
     "duration": 0.041558,
     "end_time": "2020-11-11T03:16:56.328795",
     "exception": false,
     "start_time": "2020-11-11T03:16:56.287237",
     "status": "completed"
    },
    "tags": []
   },
   "outputs": [],
   "source": [
    "transformed_features = pd.DataFrame(pred_[1],index=test.index)"
   ]
  },
  {
   "cell_type": "code",
   "execution_count": 21,
   "metadata": {
    "execution": {
     "iopub.execute_input": "2020-11-11T03:16:56.400636Z",
     "iopub.status.busy": "2020-11-11T03:16:56.399503Z",
     "iopub.status.idle": "2020-11-11T03:16:57.956308Z",
     "shell.execute_reply": "2020-11-11T03:16:57.955051Z"
    },
    "papermill": {
     "duration": 1.59656,
     "end_time": "2020-11-11T03:16:57.956470",
     "exception": false,
     "start_time": "2020-11-11T03:16:56.359910",
     "status": "completed"
    },
    "tags": []
   },
   "outputs": [
    {
     "name": "stdout",
     "output_type": "stream",
     "text": [
      "(27796, 3500)\n"
     ]
    }
   ],
   "source": [
    "print(transformed_features.shape)\n",
    "transformed_features.columns = [str(i) for i in range(len(transformed_features.columns))]\n",
    "transformed_features.reset_index().to_feather('./features_0.2_altogether.fth')"
   ]
  },
  {
   "cell_type": "markdown",
   "metadata": {
    "papermill": {
     "duration": 0.032937,
     "end_time": "2020-11-11T03:16:58.022961",
     "exception": false,
     "start_time": "2020-11-11T03:16:57.990024",
     "status": "completed"
    },
    "tags": []
   },
   "source": [
    "# model"
   ]
  },
  {
   "cell_type": "code",
   "execution_count": 22,
   "metadata": {
    "execution": {
     "iopub.execute_input": "2020-11-11T03:16:58.101145Z",
     "iopub.status.busy": "2020-11-11T03:16:58.099083Z",
     "iopub.status.idle": "2020-11-11T03:16:58.101996Z",
     "shell.execute_reply": "2020-11-11T03:16:58.102681Z"
    },
    "papermill": {
     "duration": 0.047578,
     "end_time": "2020-11-11T03:16:58.102820",
     "exception": false,
     "start_time": "2020-11-11T03:16:58.055242",
     "status": "completed"
    },
    "tags": []
   },
   "outputs": [],
   "source": [
    "class DaeAdder( BaseEstimator, TransformerMixin ):\n",
    "    def __init__(self,filename):\n",
    "        self.filename=filename\n",
    "    \n",
    "    def fit(self,X,y=None):\n",
    "        return self\n",
    "    \n",
    "    def fit_transform(self,X,y=None):\n",
    "        Dae_features = pd.read_feather(self.filename).set_index('sig_id')\n",
    "        return X.merge(Dae_features,how='left', on='sig_id')\n",
    "        \n",
    "    def transform(self,X):\n",
    "        Dae_features = pd.read_feather(self.filename).set_index('sig_id')\n",
    "        return X.merge(Dae_features,how='left', on='sig_id')"
   ]
  },
  {
   "cell_type": "code",
   "execution_count": 23,
   "metadata": {
    "execution": {
     "iopub.execute_input": "2020-11-11T03:16:58.195990Z",
     "iopub.status.busy": "2020-11-11T03:16:58.195120Z",
     "iopub.status.idle": "2020-11-11T03:17:02.789364Z",
     "shell.execute_reply": "2020-11-11T03:17:02.788260Z"
    },
    "papermill": {
     "duration": 4.652414,
     "end_time": "2020-11-11T03:17:02.789492",
     "exception": false,
     "start_time": "2020-11-11T03:16:58.137078",
     "status": "completed"
    },
    "tags": []
   },
   "outputs": [],
   "source": [
    "train,target_cols = train_short_form_loader('../input/lish-moa/train_features.csv','../input/lish-moa/train_targets_scored.csv')\n",
    "Dae0_2 =DaeAdder(filename='features_0.2_altogether.fth')"
   ]
  },
  {
   "cell_type": "code",
   "execution_count": 24,
   "metadata": {
    "execution": {
     "iopub.execute_input": "2020-11-11T03:17:02.857701Z",
     "iopub.status.busy": "2020-11-11T03:17:02.856973Z",
     "iopub.status.idle": "2020-11-11T03:17:03.669070Z",
     "shell.execute_reply": "2020-11-11T03:17:03.668335Z"
    },
    "papermill": {
     "duration": 0.847524,
     "end_time": "2020-11-11T03:17:03.669200",
     "exception": false,
     "start_time": "2020-11-11T03:17:02.821676",
     "status": "completed"
    },
    "tags": []
   },
   "outputs": [],
   "source": [
    "res = Dae0_2.fit_transform(train)"
   ]
  },
  {
   "cell_type": "code",
   "execution_count": 25,
   "metadata": {
    "execution": {
     "iopub.execute_input": "2020-11-11T03:17:03.740562Z",
     "iopub.status.busy": "2020-11-11T03:17:03.739754Z",
     "iopub.status.idle": "2020-11-11T03:17:03.742978Z",
     "shell.execute_reply": "2020-11-11T03:17:03.742416Z"
    },
    "papermill": {
     "duration": 0.040233,
     "end_time": "2020-11-11T03:17:03.743092",
     "exception": false,
     "start_time": "2020-11-11T03:17:03.702859",
     "status": "completed"
    },
    "tags": []
   },
   "outputs": [],
   "source": [
    "map_controls = CatIntMapper('cp_type',{'ctl_vehicle': 0, 'trt_cp': 1})    \n",
    "\n",
    "map_dose = CatIntMapper('cp_dose',{'D1': 1, 'D2': 0})    \n",
    "map_time = CatIntMapper('cp_time',{24: 0, 48: 1, 72: 2})"
   ]
  },
  {
   "cell_type": "code",
   "execution_count": 26,
   "metadata": {
    "execution": {
     "iopub.execute_input": "2020-11-11T03:17:03.820894Z",
     "iopub.status.busy": "2020-11-11T03:17:03.820106Z",
     "iopub.status.idle": "2020-11-11T03:17:03.823901Z",
     "shell.execute_reply": "2020-11-11T03:17:03.823343Z"
    },
    "papermill": {
     "duration": 0.047918,
     "end_time": "2020-11-11T03:17:03.824016",
     "exception": false,
     "start_time": "2020-11-11T03:17:03.776098",
     "status": "completed"
    },
    "tags": []
   },
   "outputs": [],
   "source": [
    "class SmoothBCEwLogits(_WeightedLoss):\n",
    "    def __init__(self, weight=None, reduction='mean', smoothing=0.0):\n",
    "        super().__init__(weight=weight, reduction=reduction)\n",
    "        self.smoothing = smoothing\n",
    "        self.weight = weight\n",
    "        self.reduction = reduction\n",
    "\n",
    "    @staticmethod\n",
    "    def _smooth(targets:torch.Tensor, n_labels:int, smoothing=0.0):\n",
    "        assert 0 <= smoothing < 1\n",
    "        with torch.no_grad():\n",
    "            targets = targets * (1.0 - smoothing) + 0.5 * smoothing\n",
    "        return targets\n",
    "\n",
    "    def forward(self, inputs, targets):\n",
    "        targets = SmoothBCEwLogits._smooth(targets, inputs.size(-1),\n",
    "            self.smoothing)\n",
    "        loss = F.binary_cross_entropy_with_logits(inputs, targets,self.weight)\n",
    "\n",
    "        if  self.reduction == 'sum':\n",
    "            loss = loss.sum()\n",
    "        elif  self.reduction == 'mean':\n",
    "            loss = loss.mean()\n",
    "\n",
    "        return loss"
   ]
  },
  {
   "cell_type": "code",
   "execution_count": 27,
   "metadata": {
    "execution": {
     "iopub.execute_input": "2020-11-11T03:17:03.900998Z",
     "iopub.status.busy": "2020-11-11T03:17:03.900356Z",
     "iopub.status.idle": "2020-11-11T03:17:03.904525Z",
     "shell.execute_reply": "2020-11-11T03:17:03.903862Z"
    },
    "papermill": {
     "duration": 0.04957,
     "end_time": "2020-11-11T03:17:03.904634",
     "exception": false,
     "start_time": "2020-11-11T03:17:03.855064",
     "status": "completed"
    },
    "tags": []
   },
   "outputs": [],
   "source": [
    "class Model(nn.Module):\n",
    "    def __init__(self, num_features, num_targets, hidden_size1=388,hidden_size2=512,drop_rate1=0.0,drop_rate2=0.3,drop_rate3=0.3):\n",
    "        super(Model, self).__init__()\n",
    "        self.batch_norm1 = nn.BatchNorm1d(num_features)\n",
    "        self.dropout1 = nn.Dropout(drop_rate1)\n",
    "        self.dense1 = nn.utils.weight_norm(nn.Linear(num_features, hidden_size1))\n",
    "\n",
    "        self.batch_norm2 = nn.BatchNorm1d(hidden_size1)\n",
    "        self.dropout2 = nn.Dropout(drop_rate2)\n",
    "        self.dense2 = nn.utils.weight_norm(nn.Linear(hidden_size1, hidden_size2))\n",
    "\n",
    "        self.batch_norm3 = nn.BatchNorm1d(hidden_size2)\n",
    "        self.dropout3 = nn.Dropout(drop_rate3)\n",
    "        self.dense3 = nn.utils.weight_norm(nn.Linear(hidden_size2, num_targets))\n",
    "\n",
    "\n",
    "    def forward(self, x):\n",
    "        \n",
    "        x = self.batch_norm1(x)\n",
    "        x = self.dropout1(x)\n",
    "        x = F.relu(self.dense1(x))\n",
    "        \n",
    "        x = self.batch_norm2(x)\n",
    "        x = self.dropout2(x)\n",
    "        x = F.relu(self.dense2(x))\n",
    "        \n",
    "        x = self.batch_norm3(x)\n",
    "        x = self.dropout3(x)\n",
    "        x = self.dense3(x)\n",
    "        \n",
    "        return x"
   ]
  },
  {
   "cell_type": "code",
   "execution_count": 28,
   "metadata": {
    "execution": {
     "iopub.execute_input": "2020-11-11T03:17:03.978724Z",
     "iopub.status.busy": "2020-11-11T03:17:03.977929Z",
     "iopub.status.idle": "2020-11-11T03:17:03.981751Z",
     "shell.execute_reply": "2020-11-11T03:17:03.981231Z"
    },
    "papermill": {
     "duration": 0.044418,
     "end_time": "2020-11-11T03:17:03.981886",
     "exception": false,
     "start_time": "2020-11-11T03:17:03.937468",
     "status": "completed"
    },
    "tags": []
   },
   "outputs": [],
   "source": [
    "#params for one cycle schedule\n",
    "DEVICE =  torch.device('cuda:0')\n",
    "EPOCHS = 40\n",
    "BATCH_SIZE = 512\n",
    "LEARNING_RATE = 4e-3\n",
    "WEIGHT_DECAY = 1e-5\n",
    "NFOLDS = 7\n",
    "EARLY_STOPPING_STEPS = 10\n",
    "EARLY_STOP = False\n",
    "\n",
    "hidden_size1=2048\n",
    "\n",
    "hidden_size2=2048\n",
    "\n",
    "def apply_pipe_together(pipeline,train,test):\n",
    "    #@add warning when intesection is not the whole\n",
    "    data = pd.concat([train,test])\n",
    "\n",
    "    data = pipeline.fit_transform(data)\n",
    "    \n",
    "    train = data.loc[data.index.intersection(train.index)]\n",
    "    test = data.loc[data.index.intersection(test.index)]\n",
    "    \n",
    "    return pipeline,train,test"
   ]
  },
  {
   "cell_type": "code",
   "execution_count": 29,
   "metadata": {
    "execution": {
     "iopub.execute_input": "2020-11-11T03:17:04.052537Z",
     "iopub.status.busy": "2020-11-11T03:17:04.051860Z",
     "iopub.status.idle": "2020-11-11T03:17:04.055878Z",
     "shell.execute_reply": "2020-11-11T03:17:04.055406Z"
    },
    "papermill": {
     "duration": 0.040651,
     "end_time": "2020-11-11T03:17:04.056016",
     "exception": false,
     "start_time": "2020-11-11T03:17:04.015365",
     "status": "completed"
    },
    "tags": []
   },
   "outputs": [],
   "source": [
    "transformers_list=[map_dose,map_time,Dae0_2,SuppressControls()]"
   ]
  },
  {
   "cell_type": "code",
   "execution_count": 30,
   "metadata": {
    "execution": {
     "iopub.execute_input": "2020-11-11T03:17:04.138390Z",
     "iopub.status.busy": "2020-11-11T03:17:04.137595Z",
     "iopub.status.idle": "2020-11-11T03:17:04.143818Z",
     "shell.execute_reply": "2020-11-11T03:17:04.142807Z"
    },
    "papermill": {
     "duration": 0.054745,
     "end_time": "2020-11-11T03:17:04.143926",
     "exception": false,
     "start_time": "2020-11-11T03:17:04.089181",
     "status": "completed"
    },
    "tags": []
   },
   "outputs": [],
   "source": [
    "def run_training(X_train,y_train,X_valid,y_valid,X_test,fold, seed,verbose=False,**kwargs):\n",
    "    \n",
    "    seed_everything(seed)\n",
    "    \n",
    "    train_dataset = MoADataset(X_train, y_train)\n",
    "    valid_dataset = MoADataset(X_valid, y_valid)\n",
    "    trainloader = torch.utils.data.DataLoader(train_dataset, batch_size=BATCH_SIZE, shuffle=True)\n",
    "    validloader = torch.utils.data.DataLoader(valid_dataset, batch_size=BATCH_SIZE, shuffle=False)\n",
    "    \n",
    "    model = Model(\n",
    "        num_features= X_train.shape[1] ,\n",
    "        num_targets=  y_train.shape[1],hidden_size1=hidden_size1,hidden_size2=hidden_size2,\n",
    "       **kwargs\n",
    "    )\n",
    "    \n",
    "    model.to(DEVICE)\n",
    "    \n",
    "    #initialize_from_past_model(model, f\"../results/original_torch_moa_smoothed_lrplateau_5_folds_AUX_SEED{seed}_FOLD{fold}.pth\")#,freeze_first_layer=True)\n",
    "    \n",
    "    \n",
    "    optimizer = torch.optim.Adam(model.parameters(), lr=LEARNING_RATE, weight_decay=WEIGHT_DECAY)\n",
    "    #scheduler = optim.lr_scheduler.OneCycleLR(optimizer, pct_start=0.1, div_factor=1e3, \n",
    "     #                                         max_lr=1e-2, epochs=EPOCHS, steps_per_epoch=len(trainloader))\n",
    "    \n",
    "    scheduler = optim.lr_scheduler.ReduceLROnPlateau(optimizer,patience=3)\n",
    "    \n",
    "    loss_val = nn.BCEWithLogitsLoss()\n",
    "    #loss_tr =  nn.BCEWithLogitsLoss()\n",
    "    loss_tr = SmoothBCEwLogits(smoothing =0.001)\n",
    "    \n",
    "    early_stopping_steps = EARLY_STOPPING_STEPS\n",
    "    early_step = 0\n",
    "    \n",
    "    #todo el guardado de los resultados se puede mover a kfold que si tiene info de los indices\n",
    "    #oof = np.zeros((len(train), target.iloc[:, 1:].shape[1]))\n",
    "    best_loss = np.inf\n",
    "    \n",
    "    for epoch in range(EPOCHS):\n",
    "        \n",
    "        train_loss = train_fn(model, optimizer,scheduler, loss_tr, trainloader, DEVICE)\n",
    "        valid_loss, valid_preds = valid_fn(model,scheduler, loss_val, validloader, DEVICE)\n",
    "        if verbose:\n",
    "            print(f\"FOLD: {fold}, EPOCH: {epoch}, train_loss: {train_loss}, valid_loss: {valid_loss}\")\n",
    "        \n",
    "        if valid_loss < best_loss:\n",
    "            \n",
    "            best_loss = valid_loss\n",
    "            oof = valid_preds\n",
    "                \n",
    "        elif(EARLY_STOP == True):\n",
    "            \n",
    "            early_step += 1\n",
    "            if (early_step >= early_stopping_steps):\n",
    "                break\n",
    "                \n",
    "    #--------------------- PREDICTION---------------------\n",
    "   \n",
    "    testdataset = TestDataset(X_test)\n",
    "    testloader = torch.utils.data.DataLoader(testdataset, batch_size=BATCH_SIZE, shuffle=False)\n",
    "    \n",
    "#     model = Model(\n",
    "#          num_features= X_train.shape[1] ,\n",
    "#         num_targets=  y_train.shape[1],\n",
    "#         hidden_size=hidden_size,**kwargs\n",
    "#     )\n",
    "    \n",
    "#     model.load_state_dict(torch.load(f\"../results/FOLD{fold}_{exp_name}.pth\"))\n",
    "   # model.to(DEVICE)\n",
    "    \n",
    "    #predictions = np.zeros((len(test_), target.iloc[:, 1:].shape[1]))\n",
    "    \n",
    "    predictions = inference_fn(model, testloader, DEVICE)\n",
    "    \n",
    "    return oof, predictions"
   ]
  },
  {
   "cell_type": "code",
   "execution_count": 31,
   "metadata": {
    "execution": {
     "iopub.execute_input": "2020-11-11T03:17:04.224539Z",
     "iopub.status.busy": "2020-11-11T03:17:04.221883Z",
     "iopub.status.idle": "2020-11-11T03:17:04.226980Z",
     "shell.execute_reply": "2020-11-11T03:17:04.227498Z"
    },
    "papermill": {
     "duration": 0.051274,
     "end_time": "2020-11-11T03:17:04.227612",
     "exception": false,
     "start_time": "2020-11-11T03:17:04.176338",
     "status": "completed"
    },
    "tags": []
   },
   "outputs": [],
   "source": [
    "def run_k_fold(folds,target_cols,test,transformers_list,NFOLDS, seed,verbose=False,**kwargs):\n",
    "    \n",
    "    \n",
    "    train = folds\n",
    "    test_ = test\n",
    "    \n",
    "    #oof = np.zeros((len(folds), len(target_cols)))\n",
    "    oof = train[target_cols].copy()\n",
    "    oof = oof*0\n",
    "    predictions = pd.DataFrame(0,columns=target_cols,index=test.index)\n",
    "    \n",
    "    #print(test_.head())\n",
    "    for fold in range(NFOLDS):\n",
    "            \n",
    "        train_df = train[train['kfold'] != fold]#.reset_index(drop=True)\n",
    "        valid_df = train[train['kfold'] == fold]#.reset_index(drop=True)\n",
    "        \n",
    "        feature_cols = [col  for col in train_df.columns if not (col in target_cols+['kfold'])]\n",
    "        \n",
    "        pipeline_val = make_pipeline(*transformers_list)\n",
    "        \n",
    "        X_train, y_train  = train_df[feature_cols], train_df[target_cols]\n",
    "        X_valid, y_valid =  valid_df[feature_cols], valid_df[target_cols].values\n",
    "        \n",
    "        X_train = pipeline_val.fit_transform(X_train,y_train)\n",
    "        feature_cols = [col  for col in X_train.columns if not (col in target_cols+['kfold'])]\n",
    "        \n",
    "        X_train = X_train.values\n",
    "        \n",
    "        X_valid = pipeline_val.transform(X_valid)\n",
    "        valid_index = X_valid.index\n",
    "        X_valid = X_valid.values\n",
    "        \n",
    "        y_train = y_train.values\n",
    "        \n",
    "        X_test = pipeline_val.transform(test_)\n",
    "        test_index = X_test.index\n",
    "        X_test = X_test[feature_cols].values\n",
    "            \n",
    "        oof_, pred_ = run_training(X_train,y_train,X_valid,y_valid,X_test,fold, seed,verbose,**kwargs)\n",
    "        \n",
    "        oof.loc[valid_index] = oof_\n",
    "        predictions.loc[test_index] += pred_ / NFOLDS\n",
    "        \n",
    "        \n",
    "    return oof, predictions"
   ]
  },
  {
   "cell_type": "code",
   "execution_count": 32,
   "metadata": {
    "execution": {
     "iopub.execute_input": "2020-11-11T03:17:04.304280Z",
     "iopub.status.busy": "2020-11-11T03:17:04.303416Z",
     "iopub.status.idle": "2020-11-11T03:27:43.612976Z",
     "shell.execute_reply": "2020-11-11T03:27:43.612188Z"
    },
    "papermill": {
     "duration": 639.352163,
     "end_time": "2020-11-11T03:27:43.613156",
     "exception": false,
     "start_time": "2020-11-11T03:17:04.260993",
     "status": "completed"
    },
    "tags": []
   },
   "outputs": [
    {
     "name": "stdout",
     "output_type": "stream",
     "text": [
      "FOLD: 0, EPOCH: 0, train_loss: 0.4194359861918398, valid_loss: 0.05704883486032486\n",
      "FOLD: 0, EPOCH: 1, train_loss: 0.03280015118621491, valid_loss: 0.022742184411202158\n",
      "FOLD: 0, EPOCH: 2, train_loss: 0.024483928104510177, valid_loss: 0.0209354715687888\n",
      "FOLD: 0, EPOCH: 3, train_loss: 0.02338922642976851, valid_loss: 0.020277188824755803\n",
      "FOLD: 0, EPOCH: 4, train_loss: 0.02241920996960756, valid_loss: 0.01964901973094259\n",
      "FOLD: 0, EPOCH: 5, train_loss: 0.021454858669155353, valid_loss: 0.019228234887123108\n",
      "FOLD: 0, EPOCH: 6, train_loss: 0.020903111510985607, valid_loss: 0.018297184258699417\n",
      "FOLD: 0, EPOCH: 7, train_loss: 0.020456469844321947, valid_loss: 0.018789757575307573\n",
      "FOLD: 0, EPOCH: 8, train_loss: 0.02006987396728348, valid_loss: 0.01815445987241609\n",
      "FOLD: 0, EPOCH: 9, train_loss: 0.01970954123582389, valid_loss: 0.01802694079067026\n",
      "FOLD: 0, EPOCH: 10, train_loss: 0.01932980739385695, valid_loss: 0.017532807109611376\n",
      "FOLD: 0, EPOCH: 11, train_loss: 0.018894281641051575, valid_loss: 0.017478506213852336\n",
      "FOLD: 0, EPOCH: 12, train_loss: 0.018597957350917765, valid_loss: 0.017569877739463533\n",
      "FOLD: 0, EPOCH: 13, train_loss: 0.018151201106406546, valid_loss: 0.017624187150171826\n",
      "FOLD: 0, EPOCH: 14, train_loss: 0.017835747500931896, valid_loss: 0.01764963460820062\n",
      "FOLD: 0, EPOCH: 15, train_loss: 0.017572649175653588, valid_loss: 0.017756288072892597\n",
      "FOLD: 0, EPOCH: 16, train_loss: 0.016040663335573028, valid_loss: 0.01700711702661855\n",
      "FOLD: 0, EPOCH: 17, train_loss: 0.01497341916468498, valid_loss: 0.017103477780308043\n",
      "FOLD: 0, EPOCH: 18, train_loss: 0.014186699925040876, valid_loss: 0.017165459426386014\n",
      "FOLD: 0, EPOCH: 19, train_loss: 0.0134817741911959, valid_loss: 0.017220452427864075\n",
      "FOLD: 0, EPOCH: 20, train_loss: 0.012815111946012522, valid_loss: 0.017309331468173435\n",
      "FOLD: 0, EPOCH: 21, train_loss: 0.012250513341781255, valid_loss: 0.017317118921450207\n",
      "FOLD: 0, EPOCH: 22, train_loss: 0.012105924329040823, valid_loss: 0.017331562670213834\n",
      "FOLD: 0, EPOCH: 23, train_loss: 0.012013825587928295, valid_loss: 0.017359131148883274\n",
      "FOLD: 0, EPOCH: 24, train_loss: 0.011923315255223093, valid_loss: 0.01733801806611674\n",
      "FOLD: 0, EPOCH: 25, train_loss: 0.011833914429754825, valid_loss: 0.01735727143074785\n",
      "FOLD: 0, EPOCH: 26, train_loss: 0.011791541543159936, valid_loss: 0.01736640664083617\n",
      "FOLD: 0, EPOCH: 27, train_loss: 0.011794258639015056, valid_loss: 0.01735027427119868\n",
      "FOLD: 0, EPOCH: 28, train_loss: 0.011785504609547756, valid_loss: 0.01735549925693444\n",
      "FOLD: 0, EPOCH: 29, train_loss: 0.011811556269389551, valid_loss: 0.017363300547003746\n",
      "FOLD: 0, EPOCH: 30, train_loss: 0.0117770973089579, valid_loss: 0.017363458605749265\n",
      "FOLD: 0, EPOCH: 31, train_loss: 0.011780021259108105, valid_loss: 0.01735121144780091\n",
      "FOLD: 0, EPOCH: 32, train_loss: 0.011774975756132925, valid_loss: 0.017345608611192023\n",
      "FOLD: 0, EPOCH: 33, train_loss: 0.011805011160873078, valid_loss: 0.017350305137889727\n",
      "FOLD: 0, EPOCH: 34, train_loss: 0.011808051979420957, valid_loss: 0.017365271491663798\n",
      "FOLD: 0, EPOCH: 35, train_loss: 0.011777738587477722, valid_loss: 0.017357712345463887\n",
      "FOLD: 0, EPOCH: 36, train_loss: 0.011767625909399343, valid_loss: 0.017360715195536613\n",
      "FOLD: 0, EPOCH: 37, train_loss: 0.011780911855198242, valid_loss: 0.01734022716326373\n",
      "FOLD: 0, EPOCH: 38, train_loss: 0.011779890345359171, valid_loss: 0.01735451471592699\n",
      "FOLD: 0, EPOCH: 39, train_loss: 0.011760344527460434, valid_loss: 0.017366920996989523\n",
      "FOLD: 1, EPOCH: 0, train_loss: 0.43120081460959203, valid_loss: 0.06057152098843029\n",
      "FOLD: 1, EPOCH: 1, train_loss: 0.033751266127502594, valid_loss: 0.022450088124190058\n",
      "FOLD: 1, EPOCH: 2, train_loss: 0.024415192672529736, valid_loss: 0.020870619852628027\n",
      "FOLD: 1, EPOCH: 3, train_loss: 0.023339568360431773, valid_loss: 0.020471724016325816\n",
      "FOLD: 1, EPOCH: 4, train_loss: 0.022339048971598212, valid_loss: 0.020129521510430744\n",
      "FOLD: 1, EPOCH: 5, train_loss: 0.021481655085006275, valid_loss: 0.018755938591701642\n",
      "FOLD: 1, EPOCH: 6, train_loss: 0.020719406371181075, valid_loss: 0.018230631415333067\n",
      "FOLD: 1, EPOCH: 7, train_loss: 0.02032913685449072, valid_loss: 0.01838003790804318\n",
      "FOLD: 1, EPOCH: 8, train_loss: 0.01998981672364312, valid_loss: 0.018574068056685582\n",
      "FOLD: 1, EPOCH: 9, train_loss: 0.01957561126029169, valid_loss: 0.01762751622923783\n",
      "FOLD: 1, EPOCH: 10, train_loss: 0.019124895334243774, valid_loss: 0.01788224865283285\n",
      "FOLD: 1, EPOCH: 11, train_loss: 0.018793799587198207, valid_loss: 0.017754531066332544\n",
      "FOLD: 1, EPOCH: 12, train_loss: 0.01832168851349805, valid_loss: 0.01766225429517882\n",
      "FOLD: 1, EPOCH: 13, train_loss: 0.01804151401125096, valid_loss: 0.017551728657313755\n",
      "FOLD: 1, EPOCH: 14, train_loss: 0.01770718682658028, valid_loss: 0.017870144652468816\n",
      "FOLD: 1, EPOCH: 15, train_loss: 0.01748724906025706, valid_loss: 0.017539298960140774\n",
      "FOLD: 1, EPOCH: 16, train_loss: 0.017084993573056685, valid_loss: 0.01750752462872437\n",
      "FOLD: 1, EPOCH: 17, train_loss: 0.01685871058017821, valid_loss: 0.018194928765296936\n",
      "FOLD: 1, EPOCH: 18, train_loss: 0.01663171693783354, valid_loss: 0.017556948321206228\n",
      "FOLD: 1, EPOCH: 19, train_loss: 0.01652078244935822, valid_loss: 0.017729794872658595\n",
      "FOLD: 1, EPOCH: 20, train_loss: 0.01615858083037106, valid_loss: 0.017676031483071192\n",
      "FOLD: 1, EPOCH: 21, train_loss: 0.01456579618860741, valid_loss: 0.01698780419038875\n",
      "FOLD: 1, EPOCH: 22, train_loss: 0.013428168421661531, valid_loss: 0.017076410885368074\n",
      "FOLD: 1, EPOCH: 23, train_loss: 0.012623957031079241, valid_loss: 0.01719342251973493\n",
      "FOLD: 1, EPOCH: 24, train_loss: 0.012052084621344064, valid_loss: 0.017251342002834593\n",
      "FOLD: 1, EPOCH: 25, train_loss: 0.011501146128048768, valid_loss: 0.01740888346518789\n",
      "FOLD: 1, EPOCH: 26, train_loss: 0.011002240677338999, valid_loss: 0.01736663973757199\n",
      "FOLD: 1, EPOCH: 27, train_loss: 0.010923750069294427, valid_loss: 0.01737138389476708\n",
      "FOLD: 1, EPOCH: 28, train_loss: 0.010829512180911528, valid_loss: 0.017374285895909582\n",
      "FOLD: 1, EPOCH: 29, train_loss: 0.01076652152413452, valid_loss: 0.01739364569740636\n",
      "FOLD: 1, EPOCH: 30, train_loss: 0.01066348369459848, valid_loss: 0.017370215750166347\n",
      "FOLD: 1, EPOCH: 31, train_loss: 0.010682474872147714, valid_loss: 0.017393638512917926\n",
      "FOLD: 1, EPOCH: 32, train_loss: 0.010663999269741613, valid_loss: 0.017380253012691225\n",
      "FOLD: 1, EPOCH: 33, train_loss: 0.010642816589490787, valid_loss: 0.01739151988710676\n",
      "FOLD: 1, EPOCH: 34, train_loss: 0.010627333376858686, valid_loss: 0.017385854784931456\n",
      "FOLD: 1, EPOCH: 35, train_loss: 0.010644961022646041, valid_loss: 0.017382461577653885\n",
      "FOLD: 1, EPOCH: 36, train_loss: 0.010653549150840656, valid_loss: 0.01738141876246248\n",
      "FOLD: 1, EPOCH: 37, train_loss: 0.010643106180469732, valid_loss: 0.017377926036715508\n",
      "FOLD: 1, EPOCH: 38, train_loss: 0.010689824945419221, valid_loss: 0.01736441840018545\n",
      "FOLD: 1, EPOCH: 39, train_loss: 0.01067650136915413, valid_loss: 0.017381268154297556\n",
      "FOLD: 2, EPOCH: 0, train_loss: 0.43611892876592845, valid_loss: 0.06359908836228508\n",
      "FOLD: 2, EPOCH: 1, train_loss: 0.03398757261803021, valid_loss: 0.02266561985015869\n",
      "FOLD: 2, EPOCH: 2, train_loss: 0.02442282045612464, valid_loss: 0.0208126748246806\n",
      "FOLD: 2, EPOCH: 3, train_loss: 0.023238606700623356, valid_loss: 0.020365000303302492\n",
      "FOLD: 2, EPOCH: 4, train_loss: 0.022372971364372485, valid_loss: 0.01960445461528642\n",
      "FOLD: 2, EPOCH: 5, train_loss: 0.021429157337626896, valid_loss: 0.018998225086501667\n",
      "FOLD: 2, EPOCH: 6, train_loss: 0.02080306415823666, valid_loss: 0.01822142888392721\n",
      "FOLD: 2, EPOCH: 7, train_loss: 0.020357035704561183, valid_loss: 0.018122939659016474\n",
      "FOLD: 2, EPOCH: 8, train_loss: 0.020216833548368635, valid_loss: 0.018450053142649785\n",
      "FOLD: 2, EPOCH: 9, train_loss: 0.019794406167961454, valid_loss: 0.01743235518889768\n",
      "FOLD: 2, EPOCH: 10, train_loss: 0.019200781511293875, valid_loss: 0.018023432897669927\n",
      "FOLD: 2, EPOCH: 11, train_loss: 0.01907267844354784, valid_loss: 0.01771693836365427\n",
      "FOLD: 2, EPOCH: 12, train_loss: 0.018601479411527917, valid_loss: 0.017422639897891452\n",
      "FOLD: 2, EPOCH: 13, train_loss: 0.01838319416384439, valid_loss: 0.017341666455779756\n",
      "FOLD: 2, EPOCH: 14, train_loss: 0.018012236098985415, valid_loss: 0.017279816259230887\n",
      "FOLD: 2, EPOCH: 15, train_loss: 0.017606381377255596, valid_loss: 0.01753122785261699\n",
      "FOLD: 2, EPOCH: 16, train_loss: 0.017478069642911088, valid_loss: 0.01747854665986129\n",
      "FOLD: 2, EPOCH: 17, train_loss: 0.017167301647163725, valid_loss: 0.017443576827645302\n",
      "FOLD: 2, EPOCH: 18, train_loss: 0.016990720369928592, valid_loss: 0.017325081995555332\n",
      "FOLD: 2, EPOCH: 19, train_loss: 0.015381234421117886, valid_loss: 0.016746547605310167\n",
      "FOLD: 2, EPOCH: 20, train_loss: 0.01428685777795476, valid_loss: 0.016799755128366605\n",
      "FOLD: 2, EPOCH: 21, train_loss: 0.013519702428901518, valid_loss: 0.016889777034521103\n",
      "FOLD: 2, EPOCH: 22, train_loss: 0.012906947072494674, valid_loss: 0.016962133614080294\n",
      "FOLD: 2, EPOCH: 23, train_loss: 0.012353037207110508, valid_loss: 0.017095622207437242\n",
      "FOLD: 2, EPOCH: 24, train_loss: 0.01178025738713709, valid_loss: 0.01707194692322186\n",
      "FOLD: 2, EPOCH: 25, train_loss: 0.011649192839458183, valid_loss: 0.017061074929577962\n",
      "FOLD: 2, EPOCH: 26, train_loss: 0.011573954913261774, valid_loss: 0.01706869767180511\n",
      "FOLD: 2, EPOCH: 27, train_loss: 0.011492818644320642, valid_loss: 0.017084729192512377\n",
      "FOLD: 2, EPOCH: 28, train_loss: 0.011382162873003934, valid_loss: 0.017090685133423125\n",
      "FOLD: 2, EPOCH: 29, train_loss: 0.01139055285602808, valid_loss: 0.017097777287874903\n",
      "FOLD: 2, EPOCH: 30, train_loss: 0.011367157655390533, valid_loss: 0.01710208851311888\n",
      "FOLD: 2, EPOCH: 31, train_loss: 0.011356716547664758, valid_loss: 0.0170906095632485\n",
      "FOLD: 2, EPOCH: 32, train_loss: 0.011364409397985484, valid_loss: 0.01709417626261711\n",
      "FOLD: 2, EPOCH: 33, train_loss: 0.01135012210422271, valid_loss: 0.017109345910804614\n",
      "FOLD: 2, EPOCH: 34, train_loss: 0.011348751549785202, valid_loss: 0.01709762348660401\n",
      "FOLD: 2, EPOCH: 35, train_loss: 0.011331803870160837, valid_loss: 0.017087727252926146\n",
      "FOLD: 2, EPOCH: 36, train_loss: 0.011349638068192714, valid_loss: 0.017084253153630664\n",
      "FOLD: 2, EPOCH: 37, train_loss: 0.01134386205592671, valid_loss: 0.017097643443516324\n",
      "FOLD: 2, EPOCH: 38, train_loss: 0.01135661463077004, valid_loss: 0.017097908205219677\n",
      "FOLD: 2, EPOCH: 39, train_loss: 0.011329684456860696, valid_loss: 0.017094932762639865\n",
      "FOLD: 3, EPOCH: 0, train_loss: 0.41472860647214427, valid_loss: 0.05305171332189015\n",
      "FOLD: 3, EPOCH: 1, train_loss: 0.03240066862388237, valid_loss: 0.02206364832818508\n",
      "FOLD: 3, EPOCH: 2, train_loss: 0.0243339961948427, valid_loss: 0.020434999306287085\n",
      "FOLD: 3, EPOCH: 3, train_loss: 0.023251990812855797, valid_loss: 0.019795581698417664\n",
      "FOLD: 3, EPOCH: 4, train_loss: 0.02227573051444582, valid_loss: 0.019653071516326497\n",
      "FOLD: 3, EPOCH: 5, train_loss: 0.021408338250743376, valid_loss: 0.018857098849756376\n",
      "FOLD: 3, EPOCH: 6, train_loss: 0.020747850674229698, valid_loss: 0.018101345747709274\n",
      "FOLD: 3, EPOCH: 7, train_loss: 0.020318297065190366, valid_loss: 0.017702513640480384\n",
      "FOLD: 3, EPOCH: 8, train_loss: 0.019936354528810526, valid_loss: 0.017427693786365644\n",
      "FOLD: 3, EPOCH: 9, train_loss: 0.01966803500781188, valid_loss: 0.017366987253938402\n",
      "FOLD: 3, EPOCH: 10, train_loss: 0.01911672582296101, valid_loss: 0.017174946809453622\n",
      "FOLD: 3, EPOCH: 11, train_loss: 0.018939507420401316, valid_loss: 0.01757895015180111\n",
      "FOLD: 3, EPOCH: 12, train_loss: 0.01857013693331061, valid_loss: 0.0172751909121871\n",
      "FOLD: 3, EPOCH: 13, train_loss: 0.018253982620867523, valid_loss: 0.01723602493958814\n",
      "FOLD: 3, EPOCH: 14, train_loss: 0.017833421862608678, valid_loss: 0.017815871962479184\n",
      "FOLD: 3, EPOCH: 15, train_loss: 0.016505923826952238, valid_loss: 0.016646711687956537\n",
      "FOLD: 3, EPOCH: 16, train_loss: 0.015366592117258021, valid_loss: 0.01666080964995282\n",
      "FOLD: 3, EPOCH: 17, train_loss: 0.014503321736245542, valid_loss: 0.01668651987399374\n",
      "FOLD: 3, EPOCH: 18, train_loss: 0.01378908529374245, valid_loss: 0.01674354901271207\n",
      "FOLD: 3, EPOCH: 19, train_loss: 0.01308808576416325, valid_loss: 0.016845013281064376\n",
      "FOLD: 3, EPOCH: 20, train_loss: 0.012437167552274626, valid_loss: 0.016796950516956195\n",
      "FOLD: 3, EPOCH: 21, train_loss: 0.012285083633016896, valid_loss: 0.016820675427360193\n",
      "FOLD: 3, EPOCH: 22, train_loss: 0.012157594432701936, valid_loss: 0.016816675529948304\n",
      "FOLD: 3, EPOCH: 23, train_loss: 0.012073780787554948, valid_loss: 0.016819986248654977\n",
      "FOLD: 3, EPOCH: 24, train_loss: 0.01197980611106834, valid_loss: 0.016809777888868536\n",
      "FOLD: 3, EPOCH: 25, train_loss: 0.011963455006480217, valid_loss: 0.016814997153622762\n",
      "FOLD: 3, EPOCH: 26, train_loss: 0.011963615999431224, valid_loss: 0.016823257053537027\n",
      "FOLD: 3, EPOCH: 27, train_loss: 0.011945277930715599, valid_loss: 0.01681609159069402\n",
      "FOLD: 3, EPOCH: 28, train_loss: 0.011969581120521636, valid_loss: 0.016831483425838605\n",
      "FOLD: 3, EPOCH: 29, train_loss: 0.011940747600149465, valid_loss: 0.01682962290942669\n",
      "FOLD: 3, EPOCH: 30, train_loss: 0.011946798579112903, valid_loss: 0.01682831732822316\n",
      "FOLD: 3, EPOCH: 31, train_loss: 0.011936095341838695, valid_loss: 0.016817425111574785\n",
      "FOLD: 3, EPOCH: 32, train_loss: 0.011939121611617707, valid_loss: 0.01682059214051281\n",
      "FOLD: 3, EPOCH: 33, train_loss: 0.011946225790558634, valid_loss: 0.016813757430229868\n",
      "FOLD: 3, EPOCH: 34, train_loss: 0.01194886165998272, valid_loss: 0.016814780155462877\n",
      "FOLD: 3, EPOCH: 35, train_loss: 0.011925739412372178, valid_loss: 0.01682348203446184\n",
      "FOLD: 3, EPOCH: 36, train_loss: 0.011920609184213588, valid_loss: 0.016821233156536306\n",
      "FOLD: 3, EPOCH: 37, train_loss: 0.011956361323796414, valid_loss: 0.016828222466366633\n",
      "FOLD: 3, EPOCH: 38, train_loss: 0.011913928027088577, valid_loss: 0.01682084838726691\n",
      "FOLD: 3, EPOCH: 39, train_loss: 0.011954709585454013, valid_loss: 0.016825799298073565\n",
      "FOLD: 4, EPOCH: 0, train_loss: 0.4188699176585352, valid_loss: 0.05777265876531601\n",
      "FOLD: 4, EPOCH: 1, train_loss: 0.03270118824533514, valid_loss: 0.02245196300957884\n",
      "FOLD: 4, EPOCH: 2, train_loss: 0.024322347061054128, valid_loss: 0.02111626443053995\n",
      "FOLD: 4, EPOCH: 3, train_loss: 0.023192780847485002, valid_loss: 0.020133608686072484\n",
      "FOLD: 4, EPOCH: 4, train_loss: 0.022281461974253524, valid_loss: 0.019811915765915598\n",
      "FOLD: 4, EPOCH: 5, train_loss: 0.021415292209870106, valid_loss: 0.01925507959510599\n",
      "FOLD: 4, EPOCH: 6, train_loss: 0.020755405814663785, valid_loss: 0.018320863002112935\n",
      "FOLD: 4, EPOCH: 7, train_loss: 0.020278681220637786, valid_loss: 0.01829000056854316\n",
      "FOLD: 4, EPOCH: 8, train_loss: 0.019907053308309736, valid_loss: 0.017850484965103015\n",
      "FOLD: 4, EPOCH: 9, train_loss: 0.01944169940779338, valid_loss: 0.017694667247789248\n",
      "FOLD: 4, EPOCH: 10, train_loss: 0.01905886365755184, valid_loss: 0.01799115724861622\n",
      "FOLD: 4, EPOCH: 11, train_loss: 0.019231020699481707, valid_loss: 0.01786355142082487\n",
      "FOLD: 4, EPOCH: 12, train_loss: 0.01852971254973798, valid_loss: 0.017583569245679036\n",
      "FOLD: 4, EPOCH: 13, train_loss: 0.01809235491059922, valid_loss: 0.017495584008949145\n",
      "FOLD: 4, EPOCH: 14, train_loss: 0.017751286410399386, valid_loss: 0.01761031842657498\n",
      "FOLD: 4, EPOCH: 15, train_loss: 0.017445029791545223, valid_loss: 0.017857163612331663\n",
      "FOLD: 4, EPOCH: 16, train_loss: 0.01719737994308407, valid_loss: 0.017663648618119105\n",
      "FOLD: 4, EPOCH: 17, train_loss: 0.016911663769467455, valid_loss: 0.017646237409540584\n",
      "FOLD: 4, EPOCH: 18, train_loss: 0.015351366755124685, valid_loss: 0.01700280380568334\n",
      "FOLD: 4, EPOCH: 19, train_loss: 0.014172852442071244, valid_loss: 0.01710316352546215\n",
      "FOLD: 4, EPOCH: 20, train_loss: 0.013373164208354178, valid_loss: 0.017122689900653704\n",
      "FOLD: 4, EPOCH: 21, train_loss: 0.012721095259326536, valid_loss: 0.017217830355678285\n",
      "FOLD: 4, EPOCH: 22, train_loss: 0.012162782830765119, valid_loss: 0.017359627676861628\n",
      "FOLD: 4, EPOCH: 23, train_loss: 0.011546592001576681, valid_loss: 0.017337015164749964\n",
      "FOLD: 4, EPOCH: 24, train_loss: 0.01144632916092067, valid_loss: 0.017348489058869227\n",
      "FOLD: 4, EPOCH: 25, train_loss: 0.011367145170633858, valid_loss: 0.017364337774259702\n",
      "FOLD: 4, EPOCH: 26, train_loss: 0.011264235788100475, valid_loss: 0.017366991245320866\n",
      "FOLD: 4, EPOCH: 27, train_loss: 0.011172518285142409, valid_loss: 0.017379270866513252\n",
      "FOLD: 4, EPOCH: 28, train_loss: 0.011173471732920891, valid_loss: 0.017383462882467678\n",
      "FOLD: 4, EPOCH: 29, train_loss: 0.011141199517894435, valid_loss: 0.017354965476053103\n",
      "FOLD: 4, EPOCH: 30, train_loss: 0.011167293414473534, valid_loss: 0.017385227605700493\n",
      "FOLD: 4, EPOCH: 31, train_loss: 0.011126927251147258, valid_loss: 0.017383151288543428\n",
      "FOLD: 4, EPOCH: 32, train_loss: 0.011146469998198587, valid_loss: 0.017382426453488215\n",
      "FOLD: 4, EPOCH: 33, train_loss: 0.01117236282978509, valid_loss: 0.017386309270347868\n",
      "FOLD: 4, EPOCH: 34, train_loss: 0.011141984522141315, valid_loss: 0.01740079665822642\n",
      "FOLD: 4, EPOCH: 35, train_loss: 0.011159288696944714, valid_loss: 0.01738192274102143\n",
      "FOLD: 4, EPOCH: 36, train_loss: 0.011132034951367893, valid_loss: 0.01738563791981765\n",
      "FOLD: 4, EPOCH: 37, train_loss: 0.011151954380644334, valid_loss: 0.01740443174328123\n",
      "FOLD: 4, EPOCH: 38, train_loss: 0.01116471186380934, valid_loss: 0.017374117991753986\n",
      "FOLD: 4, EPOCH: 39, train_loss: 0.011162469616612873, valid_loss: 0.01738809554704598\n",
      "FOLD: 5, EPOCH: 0, train_loss: 0.4433352329038285, valid_loss: 0.06454321316310338\n",
      "FOLD: 5, EPOCH: 1, train_loss: 0.03456059888609358, valid_loss: 0.02280117039169584\n",
      "FOLD: 5, EPOCH: 2, train_loss: 0.024503993776601715, valid_loss: 0.02107408988688673\n",
      "FOLD: 5, EPOCH: 3, train_loss: 0.02329305886618189, valid_loss: 0.02026654620255743\n",
      "FOLD: 5, EPOCH: 4, train_loss: 0.022294126451015472, valid_loss: 0.019732649571129253\n",
      "FOLD: 5, EPOCH: 5, train_loss: 0.021426811663282884, valid_loss: 0.01935261328305517\n",
      "FOLD: 5, EPOCH: 6, train_loss: 0.02076897508389241, valid_loss: 0.018074364002261843\n",
      "FOLD: 5, EPOCH: 7, train_loss: 0.020301848649978638, valid_loss: 0.019074033679706708\n",
      "FOLD: 5, EPOCH: 8, train_loss: 0.01987384244598247, valid_loss: 0.017738756590655873\n",
      "FOLD: 5, EPOCH: 9, train_loss: 0.019502158352249378, valid_loss: 0.017847615693296705\n",
      "FOLD: 5, EPOCH: 10, train_loss: 0.019150510379994237, valid_loss: 0.01750989497772285\n",
      "FOLD: 5, EPOCH: 11, train_loss: 0.0187478022700226, valid_loss: 0.017795026302337646\n",
      "FOLD: 5, EPOCH: 12, train_loss: 0.018432808486191003, valid_loss: 0.017299543800098554\n",
      "FOLD: 5, EPOCH: 13, train_loss: 0.01811109226499055, valid_loss: 0.01757818620119776\n",
      "FOLD: 5, EPOCH: 14, train_loss: 0.017850059965575062, valid_loss: 0.01726996206811496\n",
      "FOLD: 5, EPOCH: 15, train_loss: 0.01747987308614963, valid_loss: 0.017318139118807658\n",
      "FOLD: 5, EPOCH: 16, train_loss: 0.017302668099669186, valid_loss: 0.02057264425924846\n",
      "FOLD: 5, EPOCH: 17, train_loss: 0.017076375264976476, valid_loss: 0.01747347946677889\n",
      "FOLD: 5, EPOCH: 18, train_loss: 0.016621884814388043, valid_loss: 0.017440407403877804\n",
      "FOLD: 5, EPOCH: 19, train_loss: 0.01505180010320367, valid_loss: 0.016894533165863583\n",
      "FOLD: 5, EPOCH: 20, train_loss: 0.013886226441811872, valid_loss: 0.016844417633754865\n",
      "FOLD: 5, EPOCH: 21, train_loss: 0.013124940337965617, valid_loss: 0.01689919935805457\n",
      "FOLD: 5, EPOCH: 22, train_loss: 0.012456782262873006, valid_loss: 0.017017041199973652\n",
      "FOLD: 5, EPOCH: 23, train_loss: 0.01184789524287791, valid_loss: 0.017099841364792416\n",
      "FOLD: 5, EPOCH: 24, train_loss: 0.011378395169772007, valid_loss: 0.017190657822149142\n",
      "FOLD: 5, EPOCH: 25, train_loss: 0.0108645216536683, valid_loss: 0.017170455306768417\n",
      "FOLD: 5, EPOCH: 26, train_loss: 0.010765351959176966, valid_loss: 0.017179091327956746\n",
      "FOLD: 5, EPOCH: 27, train_loss: 0.010624995404804076, valid_loss: 0.017198761392916952\n",
      "FOLD: 5, EPOCH: 28, train_loss: 0.010578688863362815, valid_loss: 0.01720715021448476\n",
      "FOLD: 5, EPOCH: 29, train_loss: 0.010484443524399319, valid_loss: 0.017202981614640782\n",
      "FOLD: 5, EPOCH: 30, train_loss: 0.010495679629211491, valid_loss: 0.0172004939189979\n",
      "FOLD: 5, EPOCH: 31, train_loss: 0.010476314085158141, valid_loss: 0.017205237544008663\n",
      "FOLD: 5, EPOCH: 32, train_loss: 0.010464308330336132, valid_loss: 0.01719967062984194\n",
      "FOLD: 5, EPOCH: 33, train_loss: 0.010461328425318809, valid_loss: 0.01719993326280798\n",
      "FOLD: 5, EPOCH: 34, train_loss: 0.010460344269066243, valid_loss: 0.017209130206278393\n",
      "FOLD: 5, EPOCH: 35, train_loss: 0.010473808802261547, valid_loss: 0.01721119907285486\n",
      "FOLD: 5, EPOCH: 36, train_loss: 0.010469094950806451, valid_loss: 0.017207877710461617\n",
      "FOLD: 5, EPOCH: 37, train_loss: 0.010479359056901288, valid_loss: 0.017198878207377026\n",
      "FOLD: 5, EPOCH: 38, train_loss: 0.010461628965630725, valid_loss: 0.017177293609295572\n",
      "FOLD: 5, EPOCH: 39, train_loss: 0.010456758123394605, valid_loss: 0.017207320779561996\n",
      "FOLD: 6, EPOCH: 0, train_loss: 0.4114623156351012, valid_loss: 0.05423222801515034\n",
      "FOLD: 6, EPOCH: 1, train_loss: 0.03220769370327125, valid_loss: 0.02229211585862296\n",
      "FOLD: 6, EPOCH: 2, train_loss: 0.024319348856806755, valid_loss: 0.020756644862038747\n",
      "FOLD: 6, EPOCH: 3, train_loss: 0.023134069819305395, valid_loss: 0.020046460575291088\n",
      "FOLD: 6, EPOCH: 4, train_loss: 0.022174362949020154, valid_loss: 0.01956054674727576\n",
      "FOLD: 6, EPOCH: 5, train_loss: 0.0213278694128668, valid_loss: 0.019231829792261124\n",
      "FOLD: 6, EPOCH: 6, train_loss: 0.020667465554701316, valid_loss: 0.018005467419113432\n",
      "FOLD: 6, EPOCH: 7, train_loss: 0.020247190032859106, valid_loss: 0.017805973600064005\n",
      "FOLD: 6, EPOCH: 8, train_loss: 0.0198041583738617, valid_loss: 0.017546327518565313\n",
      "FOLD: 6, EPOCH: 9, train_loss: 0.019542848338951934, valid_loss: 0.01745608608637537\n",
      "FOLD: 6, EPOCH: 10, train_loss: 0.019056009682449134, valid_loss: 0.017293896260006086\n",
      "FOLD: 6, EPOCH: 11, train_loss: 0.018718762826677914, valid_loss: 0.017281120643019676\n",
      "FOLD: 6, EPOCH: 12, train_loss: 0.018365966508517396, valid_loss: 0.01728478553039687\n",
      "FOLD: 6, EPOCH: 13, train_loss: 0.0182340644501351, valid_loss: 0.017408027180603573\n",
      "FOLD: 6, EPOCH: 14, train_loss: 0.01774990261607879, valid_loss: 0.017421546525188854\n",
      "FOLD: 6, EPOCH: 15, train_loss: 0.01747692668357411, valid_loss: 0.017311106569000652\n",
      "FOLD: 6, EPOCH: 16, train_loss: 0.01596085915996416, valid_loss: 0.016726000234484673\n",
      "FOLD: 6, EPOCH: 17, train_loss: 0.014832321453738856, valid_loss: 0.016738001789365495\n",
      "FOLD: 6, EPOCH: 18, train_loss: 0.013965697279451666, valid_loss: 0.01688727656645434\n",
      "FOLD: 6, EPOCH: 19, train_loss: 0.013220688177121652, valid_loss: 0.01697596348822117\n",
      "FOLD: 6, EPOCH: 20, train_loss: 0.01260744672067262, valid_loss: 0.017088489340884343\n",
      "FOLD: 6, EPOCH: 21, train_loss: 0.011981932320506187, valid_loss: 0.017034861924392835\n",
      "FOLD: 6, EPOCH: 22, train_loss: 0.011835516405266684, valid_loss: 0.017055235004850795\n",
      "FOLD: 6, EPOCH: 23, train_loss: 0.011727170515302065, valid_loss: 0.01707903535238334\n",
      "FOLD: 6, EPOCH: 24, train_loss: 0.011617488378809916, valid_loss: 0.017078391143253872\n",
      "FOLD: 6, EPOCH: 25, train_loss: 0.011514297057245229, valid_loss: 0.017078720831445286\n",
      "FOLD: 6, EPOCH: 26, train_loss: 0.011518927039326849, valid_loss: 0.017089940341455594\n",
      "FOLD: 6, EPOCH: 27, train_loss: 0.011517245825883505, valid_loss: 0.017087398629103388\n",
      "FOLD: 6, EPOCH: 28, train_loss: 0.011485109105706215, valid_loss: 0.017074878194502423\n",
      "FOLD: 6, EPOCH: 29, train_loss: 0.011475747602211463, valid_loss: 0.017099474423698018\n",
      "FOLD: 6, EPOCH: 30, train_loss: 0.011458403581904399, valid_loss: 0.017083061060735157\n",
      "FOLD: 6, EPOCH: 31, train_loss: 0.011479141165477198, valid_loss: 0.01708977296948433\n",
      "FOLD: 6, EPOCH: 32, train_loss: 0.011482753841256773, valid_loss: 0.017080608223165785\n",
      "FOLD: 6, EPOCH: 33, train_loss: 0.011485805483283224, valid_loss: 0.017095119825431278\n",
      "FOLD: 6, EPOCH: 34, train_loss: 0.011486300720354996, valid_loss: 0.017087356320449283\n",
      "FOLD: 6, EPOCH: 35, train_loss: 0.011488031973508565, valid_loss: 0.01707961436893259\n",
      "FOLD: 6, EPOCH: 36, train_loss: 0.01149284968001617, valid_loss: 0.01709003879555634\n",
      "FOLD: 6, EPOCH: 37, train_loss: 0.011453762323268363, valid_loss: 0.017086814556803023\n",
      "FOLD: 6, EPOCH: 38, train_loss: 0.011484766907587245, valid_loss: 0.01709268960569586\n",
      "FOLD: 6, EPOCH: 39, train_loss: 0.011456663669967974, valid_loss: 0.01707864073770387\n"
     ]
    }
   ],
   "source": [
    "SEED = [0]\n",
    "params={}\n",
    "train,target_cols = train_short_form_loader('../input/lish-moa/train_features.csv','../input/lish-moa/train_targets_scored.csv')\n",
    "test = test_short_form_loader(\"../input/lish-moa/test_features.csv\")\n",
    "\n",
    "\n",
    "pipeline_test = make_pipeline(*transformers_list)\n",
    "pipeline_test,train , test = apply_pipe_together(pipeline_test,train,test)\n",
    "#pipeline_test.fit(train)\n",
    "#test = pipeline_test.transform(test)\n",
    "#suppresor = SupressControls()\n",
    "#train = suppresor.fit_transform(train)\n",
    "#test = suppresor.transform(test)\n",
    "transformers_list=[IdentityTransformer()]\n",
    "\n",
    "oof = np.zeros((len(train), len(target_cols)))\n",
    "predictions = np.zeros((len(test), len(target_cols)))\n",
    "\n",
    "for seed in SEED:\n",
    "    folds = multifold_indexer(train,target_cols,n_splits=NFOLDS)\n",
    "    oof_, predictions_ = run_k_fold(folds,target_cols,test,transformers_list,NFOLDS, seed,verbose=True,**params)\n",
    "    oof += oof_ / len(SEED)\n",
    "    predictions += predictions_ / len(SEED)\n",
    "\n",
    "#train[target_cols] = oof\n",
    "test[target_cols] = predictions"
   ]
  },
  {
   "cell_type": "code",
   "execution_count": 33,
   "metadata": {
    "execution": {
     "iopub.execute_input": "2020-11-11T03:27:43.934156Z",
     "iopub.status.busy": "2020-11-11T03:27:43.933317Z",
     "iopub.status.idle": "2020-11-11T03:27:49.015637Z",
     "shell.execute_reply": "2020-11-11T03:27:49.016163Z"
    },
    "papermill": {
     "duration": 5.218262,
     "end_time": "2020-11-11T03:27:49.016308",
     "exception": false,
     "start_time": "2020-11-11T03:27:43.798046",
     "status": "completed"
    },
    "tags": []
   },
   "outputs": [
    {
     "name": "stdout",
     "output_type": "stream",
     "text": [
      "OOF log loss:  0.015686236165123876\n"
     ]
    }
   ],
   "source": [
    "t = pd.read_csv(DATA_DIR + 'train_targets_scored.csv')\n",
    "train_checkscore = t.copy()\n",
    "train_checkscore.loc[cons_train_index,target_feats] = oof.values\n",
    "train_checkscore.loc[train_checkscore.index.isin(noncons_train_index),target_feats] = 0\n",
    "t.drop(\"sig_id\", axis=1, inplace=True)\n",
    "print('OOF log loss: ', log_loss(np.ravel(t), np.ravel(np.array(train_checkscore.iloc[:,1:]))))"
   ]
  },
  {
   "cell_type": "code",
   "execution_count": 34,
   "metadata": {
    "execution": {
     "iopub.execute_input": "2020-11-11T03:27:49.270436Z",
     "iopub.status.busy": "2020-11-11T03:27:49.269597Z",
     "iopub.status.idle": "2020-11-11T03:28:00.720471Z",
     "shell.execute_reply": "2020-11-11T03:28:00.719394Z"
    },
    "papermill": {
     "duration": 11.579925,
     "end_time": "2020-11-11T03:28:00.720608",
     "exception": false,
     "start_time": "2020-11-11T03:27:49.140683",
     "status": "completed"
    },
    "tags": []
   },
   "outputs": [],
   "source": [
    "train_checkscore.to_csv(\"dae_oof.csv\", index=False)"
   ]
  },
  {
   "cell_type": "code",
   "execution_count": 35,
   "metadata": {
    "execution": {
     "iopub.execute_input": "2020-11-11T03:28:00.981667Z",
     "iopub.status.busy": "2020-11-11T03:28:00.980828Z",
     "iopub.status.idle": "2020-11-11T03:28:03.472703Z",
     "shell.execute_reply": "2020-11-11T03:28:03.473213Z"
    },
    "papermill": {
     "duration": 2.629586,
     "end_time": "2020-11-11T03:28:03.473369",
     "exception": false,
     "start_time": "2020-11-11T03:28:00.843783",
     "status": "completed"
    },
    "tags": []
   },
   "outputs": [],
   "source": [
    "sample_submission = pd.read_csv('../input/lish-moa/sample_submission.csv')\n",
    "test_features = pd.read_csv('../input/lish-moa/test_features.csv')\n",
    "sample_submission.set_index('sig_id',inplace=True)\n",
    "test_features.set_index('sig_id',inplace=True)\n",
    "test_features = test_features.loc[sample_submission.index]\n",
    "\n",
    "sub = sample_submission.drop(columns=target_cols).merge(test[target_cols], on='sig_id', how='left').fillna(0)\n",
    "#sub.set_index('sig_id',inplace=True)\n",
    "sub.loc[test_features['cp_type']=='ctl_vehicle', target_cols] =0\n",
    "sub.to_csv('./submission.csv', index=True)"
   ]
  },
  {
   "cell_type": "code",
   "execution_count": null,
   "metadata": {
    "papermill": {
     "duration": 0.123947,
     "end_time": "2020-11-11T03:28:03.721149",
     "exception": false,
     "start_time": "2020-11-11T03:28:03.597202",
     "status": "completed"
    },
    "tags": []
   },
   "outputs": [],
   "source": []
  }
 ],
 "metadata": {
  "kernelspec": {
   "display_name": "Python 3",
   "language": "python",
   "name": "python3"
  },
  "language_info": {
   "codemirror_mode": {
    "name": "ipython",
    "version": 3
   },
   "file_extension": ".py",
   "mimetype": "text/x-python",
   "name": "python",
   "nbconvert_exporter": "python",
   "pygments_lexer": "ipython3",
   "version": "3.7.6"
  },
  "papermill": {
   "duration": 723.846513,
   "end_time": "2020-11-11T03:28:04.352105",
   "environment_variables": {},
   "exception": null,
   "input_path": "__notebook__.ipynb",
   "output_path": "__notebook__.ipynb",
   "parameters": {},
   "start_time": "2020-11-11T03:16:00.505592",
   "version": "2.1.0"
  }
 },
 "nbformat": 4,
 "nbformat_minor": 4
}
