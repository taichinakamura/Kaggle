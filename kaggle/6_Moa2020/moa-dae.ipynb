{
 "cells": [
  {
   "cell_type": "markdown",
   "metadata": {
    "papermill": {
     "duration": 0.027279,
     "end_time": "2020-11-15T13:13:00.252993",
     "exception": false,
     "start_time": "2020-11-15T13:13:00.225714",
     "status": "completed"
    },
    "tags": []
   },
   "source": [
    "- decrease to 1 models to check correlation\n",
    "- return model to version 2"
   ]
  },
  {
   "cell_type": "code",
   "execution_count": 1,
   "metadata": {
    "_cell_guid": "b1076dfc-b9ad-4769-8c92-a6c4dae69d19",
    "_uuid": "8f2839f25d086af736a60e9eeb907d3b93b6e0e5",
    "execution": {
     "iopub.execute_input": "2020-11-15T13:13:00.312583Z",
     "iopub.status.busy": "2020-11-15T13:13:00.311800Z",
     "iopub.status.idle": "2020-11-15T13:13:08.975482Z",
     "shell.execute_reply": "2020-11-15T13:13:08.974298Z"
    },
    "papermill": {
     "duration": 8.699024,
     "end_time": "2020-11-15T13:13:08.975622",
     "exception": false,
     "start_time": "2020-11-15T13:13:00.276598",
     "status": "completed"
    },
    "tags": []
   },
   "outputs": [],
   "source": [
    "import os\n",
    "import sys\n",
    "import random\n",
    "import warnings\n",
    "import numpy as np\n",
    "import pandas as pd \n",
    "from tqdm import tqdm_notebook as tqdm\n",
    "from sklearn import preprocessing\n",
    "from sklearn.metrics import log_loss,roc_auc_score\n",
    "from sklearn.decomposition import PCA\n",
    "from sklearn.cluster import KMeans\n",
    "from sklearn.multioutput import MultiOutputClassifier\n",
    "from sklearn.feature_selection import VarianceThreshold\n",
    "\n",
    "sys.path.append('../input/multilabelstraifier/')\n",
    "from ml_stratifiers import MultilabelStratifiedKFold\n",
    "warnings.filterwarnings('ignore')\n",
    "\n",
    "import time\n",
    "import torch\n",
    "import torch.nn as nn\n",
    "import torch.optim as optim\n",
    "import torch.nn.functional as F\n",
    "import tensorflow as tf\n",
    "from torch.nn.modules.loss import _WeightedLoss\n",
    "\n",
    "from sklearn.pipeline import make_pipeline,make_union\n",
    "from sklearn.compose import make_column_transformer,ColumnTransformer\n",
    "from sklearn.base import BaseEstimator,TransformerMixin"
   ]
  },
  {
   "cell_type": "markdown",
   "metadata": {
    "papermill": {
     "duration": 0.023799,
     "end_time": "2020-11-15T13:13:09.023557",
     "exception": false,
     "start_time": "2020-11-15T13:13:08.999758",
     "status": "completed"
    },
    "tags": []
   },
   "source": [
    "# functions"
   ]
  },
  {
   "cell_type": "code",
   "execution_count": 2,
   "metadata": {
    "execution": {
     "iopub.execute_input": "2020-11-15T13:13:09.085600Z",
     "iopub.status.busy": "2020-11-15T13:13:09.083344Z",
     "iopub.status.idle": "2020-11-15T13:13:09.087949Z",
     "shell.execute_reply": "2020-11-15T13:13:09.088639Z"
    },
    "papermill": {
     "duration": 0.042055,
     "end_time": "2020-11-15T13:13:09.088783",
     "exception": false,
     "start_time": "2020-11-15T13:13:09.046728",
     "status": "completed"
    },
    "tags": []
   },
   "outputs": [],
   "source": [
    "def train_short_form_loader(feature_file,target_file,extra_target_file=None):\n",
    "    '''takes the original target and features and creates a train dataset \n",
    "    in col long format'''\n",
    "    train_features = pd.read_csv(feature_file)\n",
    "    train_targets = pd.read_csv(target_file)\n",
    "\n",
    "    if extra_target_file is not None:\n",
    "        extra_targets = pd.read_csv(extra_target_file)\n",
    "        train_targets = pd.merge(train_targets,extra_targets,on ='sig_id')\n",
    "        del extra_targets\n",
    "\n",
    "    targets = train_targets.columns[1:]\n",
    "\n",
    "    train_melt=train_targets.merge(train_features,how=\"left\",on=\"sig_id\")\n",
    "\n",
    "    del train_features,train_targets\n",
    "    \n",
    "    train_melt.set_index(\"sig_id\",inplace=True)\n",
    "\n",
    "    train_melt[\"cp_type\"]= train_melt[\"cp_type\"].astype('category')\n",
    "    train_melt[\"cp_dose\"]= train_melt[\"cp_dose\"].astype('category')\n",
    "\n",
    "    return train_melt , targets.to_list()\n",
    "\n",
    "def test_short_form_loader(feature_file):\n",
    "    '''takes the original target and features and creates a train dataset \n",
    "    in col long format'''\n",
    "\n",
    "    train_features = pd.read_csv(feature_file)\n",
    "\n",
    "    train_melt =  train_features.copy()\n",
    "    del train_features\n",
    "\n",
    "    train_melt.set_index(\"sig_id\",inplace=True)\n",
    "    train_melt[\"cp_type\"]= train_melt[\"cp_type\"].astype('category')\n",
    "    train_melt[\"cp_dose\"]= train_melt[\"cp_dose\"].astype('category')\n",
    "\n",
    "    return train_melt "
   ]
  },
  {
   "cell_type": "code",
   "execution_count": 3,
   "metadata": {
    "execution": {
     "iopub.execute_input": "2020-11-15T13:13:09.159764Z",
     "iopub.status.busy": "2020-11-15T13:13:09.143705Z",
     "iopub.status.idle": "2020-11-15T13:13:09.167561Z",
     "shell.execute_reply": "2020-11-15T13:13:09.166871Z"
    },
    "papermill": {
     "duration": 0.055618,
     "end_time": "2020-11-15T13:13:09.167676",
     "exception": false,
     "start_time": "2020-11-15T13:13:09.112058",
     "status": "completed"
    },
    "tags": []
   },
   "outputs": [],
   "source": [
    "# feature selection transformer\n",
    "class CatIntMapper( BaseEstimator, TransformerMixin ):\n",
    "    #Class constructor method that takes in a list of values as its argument\n",
    "    def __init__(self ,col,dicti):\n",
    "        self.col = col\n",
    "        self.dicti = dicti\n",
    "        \n",
    "    def fit(self, X, y = None):\n",
    "        \n",
    "        return self\n",
    "    #Return self nothing else to do here\n",
    "    def fit_transform( self, X, y = None  ):\n",
    "        assert  X[self.col].isin(self.dicti.keys()).all() \n",
    "        return pd.concat([X.drop(self.col,axis=1),X[self.col].map(self.dicti).astype(int).rename(self.col)],axis=1) \n",
    "    \n",
    "    def transform( self, X):\n",
    "        assert  X[self.col].isin(self.dicti.keys()).all() \n",
    "        \n",
    "        return pd.concat([X.drop(self.col,axis=1),X[self.col].map(self.dicti).astype(int).rename(self.col)],axis=1) \n",
    "    \n",
    "class NamedOutTWrapper(BaseEstimator, TransformerMixin):\n",
    "    \n",
    "    def __init__(self,transformer,columns,inplace=False,prefix='_' ):\n",
    "        self.transformer = transformer\n",
    "        self.cols = columns\n",
    "        self.inplace =  inplace\n",
    "        self.prefix = prefix\n",
    "        self.transformer_name = self._get_transformer_name()\n",
    "        \n",
    "    def fit(self, X, y = None): \n",
    "        self.transformer =   self.transformer.fit(X[self.cols] , y )\n",
    "        return self\n",
    "    \n",
    "    #Return self nothing else to do here\n",
    "    def fit_transform( self, X, y = None  ): \n",
    "        transformed_columns = self.transformer.fit_transform(X[self.cols] , y )\n",
    "        out=pd.DataFrame(index=X.index)\n",
    "        \n",
    "        if self.inplace:\n",
    "            out = X[self.cols]\n",
    "            out[self.cols] = transformed_columns\n",
    "            return pd.concat([X.drop(self.cols,axis=1),out],axis=1)\n",
    "        else:\n",
    "            for i,values in enumerate(transformed_columns.transpose()):\n",
    "                out[ self.transformer_name + self.prefix + str(i)] = values\n",
    "            return   pd.concat([X,out],axis=1)\n",
    "        \n",
    "    def transform( self, X):\n",
    "        transformed_columns = self.transformer.transform(X[self.cols]  )\n",
    "        out=pd.DataFrame(index=X.index)\n",
    "        \n",
    "        if self.inplace:\n",
    "            out = X[self.cols]\n",
    "            out[self.cols] = transformed_columns\n",
    "            return pd.concat([X.drop(self.cols,axis=1),out],axis=1)\n",
    "        else:\n",
    "            for i,values in enumerate(transformed_columns.transpose()):\n",
    "                out[ self.transformer_name + self.prefix + str(i)] = values\n",
    "        return   pd.concat([X,out],axis=1)\n",
    "    \n",
    "    def _get_transformer_name(self):\n",
    "        return str(self.transformer.__class__).split('.')[-1][0:-2]"
   ]
  },
  {
   "cell_type": "code",
   "execution_count": 4,
   "metadata": {
    "execution": {
     "iopub.execute_input": "2020-11-15T13:13:09.222258Z",
     "iopub.status.busy": "2020-11-15T13:13:09.221352Z",
     "iopub.status.idle": "2020-11-15T13:13:09.224006Z",
     "shell.execute_reply": "2020-11-15T13:13:09.224548Z"
    },
    "papermill": {
     "duration": 0.03382,
     "end_time": "2020-11-15T13:13:09.224661",
     "exception": false,
     "start_time": "2020-11-15T13:13:09.190841",
     "status": "completed"
    },
    "tags": []
   },
   "outputs": [],
   "source": [
    "# cv folds\n",
    "def multifold_indexer(train,target_columns,n_splits=10,random_state=12347,**kwargs):\n",
    "    folds = train.copy()\n",
    "\n",
    "    mskf = MultilabelStratifiedKFold(n_splits=n_splits,random_state=random_state,**kwargs)\n",
    "    folds[ 'kfold']=0\n",
    "    for f, (t_idx, v_idx) in enumerate(mskf.split(X=train, y=train[target_columns])):\n",
    "        folds.iloc[v_idx,-1] = int(f)\n",
    "\n",
    "    folds['kfold'] = folds['kfold'].astype(int)\n",
    "    return folds"
   ]
  },
  {
   "cell_type": "code",
   "execution_count": 5,
   "metadata": {
    "execution": {
     "iopub.execute_input": "2020-11-15T13:13:09.288771Z",
     "iopub.status.busy": "2020-11-15T13:13:09.287906Z",
     "iopub.status.idle": "2020-11-15T13:13:09.292068Z",
     "shell.execute_reply": "2020-11-15T13:13:09.291435Z"
    },
    "papermill": {
     "duration": 0.040372,
     "end_time": "2020-11-15T13:13:09.292170",
     "exception": false,
     "start_time": "2020-11-15T13:13:09.251798",
     "status": "completed"
    },
    "tags": []
   },
   "outputs": [],
   "source": [
    "# dataset class\n",
    "class MoADataset:\n",
    "    def __init__(self, features, targets):\n",
    "        self.features = features\n",
    "        self.targets = targets\n",
    "        \n",
    "    def __len__(self):\n",
    "        return (self.features.shape[0])\n",
    "    \n",
    "    def __getitem__(self, idx):\n",
    "        dct = {\n",
    "            'x' : torch.tensor(self.features[idx, :], dtype=torch.float),\n",
    "            'y' : torch.tensor(self.targets[idx, :], dtype=torch.float)            \n",
    "        }\n",
    "        return dct\n",
    "    \n",
    "class TestDataset:\n",
    "    def __init__(self, features):\n",
    "        self.features = features\n",
    "        \n",
    "    def __len__(self):\n",
    "        return (self.features.shape[0])\n",
    "    \n",
    "    def __getitem__(self, idx):\n",
    "        dct = {\n",
    "            'x' : torch.tensor(self.features[idx, :], dtype=torch.float)\n",
    "        }\n",
    "        return dct\n",
    "    \n",
    "class ColumnDropper( BaseEstimator, TransformerMixin ):\n",
    "    #Class Constructor \n",
    "    def __init__( self, cols ):\n",
    "        self.cols=cols\n",
    "    #Return self nothing else to do here    \n",
    "    def fit( self, X, y = None ):\n",
    "        return self \n",
    "    \n",
    "    #Method that describes what we need this transformer to do\n",
    "    def transform( self, X, y = None ):\n",
    "        return X.drop(self.cols,axis=1)"
   ]
  },
  {
   "cell_type": "code",
   "execution_count": 6,
   "metadata": {
    "execution": {
     "iopub.execute_input": "2020-11-15T13:13:09.355267Z",
     "iopub.status.busy": "2020-11-15T13:13:09.352174Z",
     "iopub.status.idle": "2020-11-15T13:13:09.358240Z",
     "shell.execute_reply": "2020-11-15T13:13:09.357717Z"
    },
    "papermill": {
     "duration": 0.042827,
     "end_time": "2020-11-15T13:13:09.358366",
     "exception": false,
     "start_time": "2020-11-15T13:13:09.315539",
     "status": "completed"
    },
    "tags": []
   },
   "outputs": [],
   "source": [
    "# dae model\n",
    "def seed_everything(seed=42):\n",
    "    random.seed(seed)\n",
    "    os.environ['PYTHONHASHSEED'] = str(seed)\n",
    "    np.random.seed(seed)\n",
    "    torch.manual_seed(seed)\n",
    "    torch.cuda.manual_seed(seed)\n",
    "    torch.backends.cudnn.deterministic = True\n",
    "\n",
    "class DAE_Model(nn.Module):\n",
    "    def __init__(self, num_features, num_targets, hidden_size=1100,hidden_size2=1300):\n",
    "        super(DAE_Model, self).__init__()\n",
    "        self.batch_norm1 = nn.BatchNorm1d(num_features)\n",
    "        #self.dropout1 = nn.Dropout(drop_rate1)\n",
    "        self.dense1 = nn.utils.weight_norm(nn.Linear(num_features, hidden_size))\n",
    "        \n",
    "        self.batch_norm2 = nn.BatchNorm1d(hidden_size)\n",
    "        #self.dropout2 = nn.Dropout(drop_rate2)\n",
    "        self.dense2 = nn.utils.weight_norm(nn.Linear(hidden_size, hidden_size2))\n",
    "        \n",
    "        self.batch_norm3 = nn.BatchNorm1d(hidden_size2)\n",
    "        #self.dropout3 = nn.Dropout(drop_rate2)\n",
    "        self.dense3 = nn.utils.weight_norm(nn.Linear(hidden_size2, hidden_size))\n",
    "        \n",
    "        #self.batch_norm4 = nn.BatchNorm1d(hidden_size)\n",
    "        #self.dropout4 = nn.Dropout(drop_rate3)\n",
    "        self.dense4 = nn.utils.weight_norm(nn.Linear(hidden_size, num_features))\n",
    "        \n",
    "    def forward(self, x,mode='DAE'):\n",
    "        #x = self.batch_norm1(x)\n",
    "        #x1 = self.dropout1(x1)\n",
    "        x1 = F.relu(self.dense1(x))\n",
    "            \n",
    "        x2 = self.batch_norm2(x1)\n",
    "        #x = self.dropout2(x)\n",
    "        x2 = F.relu(self.dense2(x2))\n",
    "        \n",
    "        x3 = self.batch_norm3(x2)\n",
    "      \n",
    "        x3 = F.relu(self.dense3(x3))\n",
    "        \n",
    "        out = self.dense4(x3)\n",
    "        \n",
    "        if mode == 'DAE':\n",
    "            return out\n",
    "        else:\n",
    "            return x1,x2,x3"
   ]
  },
  {
   "cell_type": "code",
   "execution_count": 7,
   "metadata": {
    "execution": {
     "iopub.execute_input": "2020-11-15T13:13:09.423746Z",
     "iopub.status.busy": "2020-11-15T13:13:09.422719Z",
     "iopub.status.idle": "2020-11-15T13:13:09.425151Z",
     "shell.execute_reply": "2020-11-15T13:13:09.425856Z"
    },
    "papermill": {
     "duration": 0.042941,
     "end_time": "2020-11-15T13:13:09.425983",
     "exception": false,
     "start_time": "2020-11-15T13:13:09.383042",
     "status": "completed"
    },
    "tags": []
   },
   "outputs": [],
   "source": [
    "def infer_features_fn(model, dataloader, device):\n",
    "    model.eval()\n",
    "    preds = []\n",
    "    \n",
    "    for data in dataloader:\n",
    "        inputs = data['x'].to(device)\n",
    "\n",
    "        with torch.no_grad():\n",
    "            outputs = model(inputs,mode='get_features')\n",
    "        \n",
    "        preds.append(torch.cat(outputs,axis=1).detach().cpu().numpy())\n",
    "    preds = np.concatenate(preds)\n",
    "    \n",
    "    return preds\n",
    "\n",
    "def run_inference(X_train,y_train,X_valid,y_valid,X_test,fold, seed,inference_only=False,**kwargs):\n",
    "    seed_everything(seed)\n",
    "    if not  inference_only:\n",
    "        train_dataset = MoADataset(X_train, y_train)\n",
    "        valid_dataset = MoADataset(X_valid, y_valid)\n",
    "        trainloader = torch.utils.data.DataLoader(train_dataset, batch_size=BATCH_SIZE, shuffle=True)\n",
    "        validloader = torch.utils.data.DataLoader(valid_dataset, batch_size=BATCH_SIZE, shuffle=False)\n",
    "\n",
    "    testdataset = TestDataset(X_test)\n",
    "    testloader = torch.utils.data.DataLoader(testdataset, batch_size=BATCH_SIZE, shuffle=False)\n",
    "    \n",
    "    model = DAE_Model(\n",
    "        num_features= X_train.shape[1] ,\n",
    "        num_targets=  X_train.shape[1],\n",
    "       # hidden_size=hidden_size,\n",
    "        **kwargs\n",
    "    )\n",
    "\n",
    "    model.to(DEVICE)\n",
    "    \n",
    "    if not  inference_only:\n",
    "        oof = inference_infer_features_fn(model, validloader, DEVICE)    \n",
    "    else:\n",
    "        oof= 0\n",
    "    \n",
    "    predictions = infer_features_fn(model, testloader, DEVICE)\n",
    "    predictions = predictions\n",
    "    \n",
    "    return oof, predictions"
   ]
  },
  {
   "cell_type": "markdown",
   "metadata": {
    "papermill": {
     "duration": 0.023093,
     "end_time": "2020-11-15T13:13:09.473323",
     "exception": false,
     "start_time": "2020-11-15T13:13:09.450230",
     "status": "completed"
    },
    "tags": []
   },
   "source": [
    "# denosing auto encoder"
   ]
  },
  {
   "cell_type": "code",
   "execution_count": 8,
   "metadata": {
    "execution": {
     "iopub.execute_input": "2020-11-15T13:13:09.899770Z",
     "iopub.status.busy": "2020-11-15T13:13:09.898719Z",
     "iopub.status.idle": "2020-11-15T13:13:09.901992Z",
     "shell.execute_reply": "2020-11-15T13:13:09.901420Z"
    },
    "papermill": {
     "duration": 0.404366,
     "end_time": "2020-11-15T13:13:09.902123",
     "exception": false,
     "start_time": "2020-11-15T13:13:09.497757",
     "status": "completed"
    },
    "tags": []
   },
   "outputs": [],
   "source": [
    "DEVICE = ('cuda' if torch.cuda.is_available() else 'cpu')\n",
    "EPOCHS = 1000\n",
    "BATCH_SIZE = 640\n",
    "LEARNING_RATE = 2e-3\n",
    "WEIGHT_DECAY = 1e-8\n",
    "NFOLDS = 10\n",
    "EARLY_STOPPING_STEPS = 10\n",
    "EARLY_STOP = False\n",
    "hidden_size=1100\n",
    "hidden_size2=1300\n",
    "PATIENCE=10\n",
    "THRESHOLD = 5e-3"
   ]
  },
  {
   "cell_type": "code",
   "execution_count": 9,
   "metadata": {
    "execution": {
     "iopub.execute_input": "2020-11-15T13:13:09.969719Z",
     "iopub.status.busy": "2020-11-15T13:13:09.964418Z",
     "iopub.status.idle": "2020-11-15T13:13:48.854808Z",
     "shell.execute_reply": "2020-11-15T13:13:48.853312Z"
    },
    "papermill": {
     "duration": 38.928042,
     "end_time": "2020-11-15T13:13:48.854999",
     "exception": false,
     "start_time": "2020-11-15T13:13:09.926957",
     "status": "completed"
    },
    "tags": []
   },
   "outputs": [],
   "source": [
    "SEED = [0]\n",
    "train,target_cols = train_short_form_loader('../input/lish-moa/train_features.csv','../input/lish-moa/train_targets_scored.csv')\n",
    "test = test_short_form_loader(\"../input/lish-moa/test_features.csv\")\n",
    "\n",
    "train = pd.concat([train,test])\n",
    "train[target_cols]= train[target_cols].fillna(0)\n",
    "test = train.copy()\n",
    "\n",
    "GENES = [col for col in train.columns if col.startswith('g-')]\n",
    "CELLS = [col for col in train.columns if col.startswith('c-')]\n",
    "\n",
    "map_controls = CatIntMapper('cp_type',{'ctl_vehicle': 0, 'trt_cp': 1})    \n",
    "map_dose = CatIntMapper('cp_dose',{'D1': 1, 'D2': 0})    \n",
    "map_time = CatIntMapper('cp_time',{24: 0, 48: 1, 72: 2})  \n",
    "\n",
    "Rankg_g_tansform = NamedOutTWrapper(preprocessing.QuantileTransformer(n_quantiles=1000,random_state=0, output_distribution=\"normal\"),columns= GENES+CELLS,inplace=True)\n",
    "PCA_g_tansform =  NamedOutTWrapper(PCA(20),columns= GENES,prefix ='_g' )\n",
    "PCA_c_tansform =  NamedOutTWrapper(PCA(20),columns= CELLS,prefix ='_c' )\n",
    "\n",
    "CatDropper =ColumnDropper(cols=['cp_type','cp_time','cp_dose'])\n",
    "transformers_list=[map_controls,map_dose,map_time,Rankg_g_tansform,CatDropper]\n",
    "exp_name = 'test_DAE_0.2_all_together'\n",
    "\n",
    "oof = np.zeros((len(train), len(target_cols)))\n",
    "predictions = np.zeros((len(test), len(target_cols)))\n",
    "\n",
    "for seed in SEED:\n",
    "    \n",
    "    train = multifold_indexer(train,target_cols,n_splits=NFOLDS)\n",
    "    \n",
    "    for fold in range(NFOLDS):\n",
    "            \n",
    "        train_df = train[train['kfold'] != fold]\n",
    "        valid_df = train[train['kfold'] == fold]\n",
    "            \n",
    "        feature_cols = [col for col in train_df.columns if not (col in target_cols+['kfold'])]\n",
    "                \n",
    "        pipeline_val = make_pipeline(*transformers_list)\n",
    "        \n",
    "        X_train, y_train  = train_df[feature_cols], train_df[target_cols]\n",
    "        X_valid, y_valid =  valid_df[feature_cols], valid_df[target_cols].values\n",
    "        \n",
    "        X_train = pipeline_val.fit_transform(X_train)\n",
    "        X_train = X_train.values\n",
    "        X_valid = pipeline_val.transform(X_valid)\n",
    "        \n",
    "        valid_index = X_valid.index\n",
    "        X_valid = X_valid.values\n",
    "        \n",
    "        y_train = y_train.values\n",
    "        \n",
    "        X_test = test[feature_cols]\n",
    "        X_test = pipeline_val.transform(X_test).values\n",
    "        \n",
    "        pred_ = run_inference(X_train,y_train,X_valid,y_valid,X_test,fold, seed,inference_only=True)    \n",
    "        break\n",
    "        \n",
    "transformed_features = pd.DataFrame(pred_[1],index=test.index)"
   ]
  },
  {
   "cell_type": "code",
   "execution_count": 10,
   "metadata": {
    "execution": {
     "iopub.execute_input": "2020-11-15T13:13:48.937733Z",
     "iopub.status.busy": "2020-11-15T13:13:48.936481Z",
     "iopub.status.idle": "2020-11-15T13:13:52.454784Z",
     "shell.execute_reply": "2020-11-15T13:13:52.453977Z"
    },
    "papermill": {
     "duration": 3.554456,
     "end_time": "2020-11-15T13:13:52.454965",
     "exception": false,
     "start_time": "2020-11-15T13:13:48.900509",
     "status": "completed"
    },
    "tags": []
   },
   "outputs": [
    {
     "name": "stdout",
     "output_type": "stream",
     "text": [
      "(27796, 3500)\n"
     ]
    }
   ],
   "source": [
    "print(transformed_features.shape)\n",
    "transformed_features.columns = [str(i) for i in range(len(transformed_features.columns))]\n",
    "transformed_features.reset_index().to_feather('./features_0.2_altogether.fth')\n",
    "transformed_features = transformed_features.reset_index(drop=False)"
   ]
  },
  {
   "cell_type": "markdown",
   "metadata": {
    "papermill": {
     "duration": 0.034898,
     "end_time": "2020-11-15T13:13:52.526687",
     "exception": false,
     "start_time": "2020-11-15T13:13:52.491789",
     "status": "completed"
    },
    "tags": []
   },
   "source": [
    "# prediction"
   ]
  },
  {
   "cell_type": "code",
   "execution_count": 11,
   "metadata": {
    "execution": {
     "iopub.execute_input": "2020-11-15T13:13:52.612654Z",
     "iopub.status.busy": "2020-11-15T13:13:52.607776Z",
     "iopub.status.idle": "2020-11-15T13:13:58.470712Z",
     "shell.execute_reply": "2020-11-15T13:13:58.470014Z"
    },
    "papermill": {
     "duration": 5.910044,
     "end_time": "2020-11-15T13:13:58.470840",
     "exception": false,
     "start_time": "2020-11-15T13:13:52.560796",
     "status": "completed"
    },
    "tags": []
   },
   "outputs": [],
   "source": [
    "DATA_DIR = '/kaggle/input/lish-moa/'\n",
    "train = pd.read_csv(DATA_DIR + 'train_features.csv')\n",
    "targets = pd.read_csv(DATA_DIR + 'train_targets_scored.csv')\n",
    "test = pd.read_csv(DATA_DIR + 'test_features.csv')\n",
    "sub = pd.read_csv(DATA_DIR + 'sample_submission.csv')\n",
    "drug = pd.read_csv(DATA_DIR + 'train_drug.csv')\n",
    "\n",
    "noncons_train_index = train[train.cp_type==\"ctl_vehicle\"].index\n",
    "cons_train_index = train[train.cp_type!=\"ctl_vehicle\"].index\n",
    "noncons_test_index = test[test.cp_type==\"ctl_vehicle\"].index\n",
    "cons_test_index = test[test.cp_type!=\"ctl_vehicle\"].index\n",
    "\n",
    "train = train[train.index.isin(cons_train_index)].copy().reset_index(drop=True)\n",
    "test = test[test.index.isin(cons_test_index)].copy().reset_index(drop=True)\n",
    "targets = targets[targets.index.isin(cons_train_index)].copy().reset_index(drop=True)"
   ]
  },
  {
   "cell_type": "code",
   "execution_count": 12,
   "metadata": {
    "execution": {
     "iopub.execute_input": "2020-11-15T13:13:58.532972Z",
     "iopub.status.busy": "2020-11-15T13:13:58.531281Z",
     "iopub.status.idle": "2020-11-15T13:13:58.533770Z",
     "shell.execute_reply": "2020-11-15T13:13:58.534334Z"
    },
    "papermill": {
     "duration": 0.037159,
     "end_time": "2020-11-15T13:13:58.534487",
     "exception": false,
     "start_time": "2020-11-15T13:13:58.497328",
     "status": "completed"
    },
    "tags": []
   },
   "outputs": [],
   "source": [
    "target_feats = [ i for i in targets.columns if i != \"sig_id\"]\n",
    "g_feats = [i for i in train.columns if \"g-\" in i]\n",
    "c_feats = [i for i in train.columns if \"c-\" in i]"
   ]
  },
  {
   "cell_type": "code",
   "execution_count": 13,
   "metadata": {
    "execution": {
     "iopub.execute_input": "2020-11-15T13:13:58.619649Z",
     "iopub.status.busy": "2020-11-15T13:13:58.606058Z",
     "iopub.status.idle": "2020-11-15T13:13:59.590815Z",
     "shell.execute_reply": "2020-11-15T13:13:59.589666Z"
    },
    "papermill": {
     "duration": 1.029946,
     "end_time": "2020-11-15T13:13:59.590945",
     "exception": false,
     "start_time": "2020-11-15T13:13:58.560999",
     "status": "completed"
    },
    "tags": []
   },
   "outputs": [
    {
     "data": {
      "text/plain": [
       "array([[6, 4, 3, ..., 3, 3, 2]], dtype=int8)"
      ]
     },
     "execution_count": 13,
     "metadata": {},
     "output_type": "execute_result"
    }
   ],
   "source": [
    "NB_SPLITS = 7\n",
    "seed = 34\n",
    "\n",
    "folds = []\n",
    "    \n",
    "# LOAD FILES\n",
    "train_score = targets.merge(drug, on='sig_id', how='left') \n",
    "\n",
    "# LOCATE DRUGS\n",
    "vc = train_score.drug_id.value_counts()\n",
    "vc1 = vc.loc[(vc==6)|(vc==12)|(vc==18)].index.sort_values()\n",
    "vc2 = vc.loc[(vc!=6)&(vc!=12)&(vc!=18)].index.sort_values()\n",
    "    \n",
    "# STRATIFY DRUGS 18X OR LESS\n",
    "dct1 = {}; dct2 = {}\n",
    "skf = MultilabelStratifiedKFold(n_splits = NB_SPLITS, shuffle = True, random_state = seed)\n",
    "tmp = train_score.groupby('drug_id')[target_feats].mean().loc[vc1]\n",
    "for fold,(idxT,idxV) in enumerate(skf.split(tmp,tmp[target_feats])):\n",
    "    dd = {k:fold for k in tmp.index[idxV].values}\n",
    "    dct1.update(dd)\n",
    "    \n",
    "# STRATIFY DRUGS MORE THAN 18X\n",
    "skf = MultilabelStratifiedKFold(n_splits = NB_SPLITS, shuffle = True, random_state = seed)\n",
    "tmp = train_score.loc[train_score.drug_id.isin(vc2)].reset_index(drop = True)\n",
    "for fold,(idxT,idxV) in enumerate(skf.split(tmp,tmp[target_feats])):\n",
    "    dd = {k:fold for k in tmp.sig_id[idxV].values}\n",
    "    dct2.update(dd)\n",
    "\n",
    "# ASSIGN FOLDS\n",
    "train_score['fold'] = train_score.drug_id.map(dct1)\n",
    "train_score.loc[train_score.fold.isna(),'fold'] = train_score.loc[train_score.fold.isna(),'sig_id'].map(dct2)\n",
    "train_score.fold = train_score.fold.astype('int8')\n",
    "folds.append(train_score.fold.values)\n",
    "    \n",
    "np.array(folds)"
   ]
  },
  {
   "cell_type": "code",
   "execution_count": 14,
   "metadata": {
    "execution": {
     "iopub.execute_input": "2020-11-15T13:13:59.650771Z",
     "iopub.status.busy": "2020-11-15T13:13:59.649727Z",
     "iopub.status.idle": "2020-11-15T13:13:59.657237Z",
     "shell.execute_reply": "2020-11-15T13:13:59.656644Z"
    },
    "papermill": {
     "duration": 0.040168,
     "end_time": "2020-11-15T13:13:59.657342",
     "exception": false,
     "start_time": "2020-11-15T13:13:59.617174",
     "status": "completed"
    },
    "tags": []
   },
   "outputs": [],
   "source": [
    "train = train.drop(g_feats + c_feats + [\"cp_type\"], axis=1)\n",
    "test = test.drop(g_feats + c_feats + [\"cp_type\"], axis=1)"
   ]
  },
  {
   "cell_type": "code",
   "execution_count": 15,
   "metadata": {
    "execution": {
     "iopub.execute_input": "2020-11-15T13:13:59.716866Z",
     "iopub.status.busy": "2020-11-15T13:13:59.715518Z",
     "iopub.status.idle": "2020-11-15T13:14:00.433442Z",
     "shell.execute_reply": "2020-11-15T13:14:00.433975Z"
    },
    "papermill": {
     "duration": 0.751278,
     "end_time": "2020-11-15T13:14:00.434153",
     "exception": false,
     "start_time": "2020-11-15T13:13:59.682875",
     "status": "completed"
    },
    "tags": []
   },
   "outputs": [],
   "source": [
    "train = train.merge(transformed_features, on=\"sig_id\", how=\"left\")\n",
    "test = test.merge(transformed_features, on=\"sig_id\", how=\"left\")"
   ]
  },
  {
   "cell_type": "code",
   "execution_count": 16,
   "metadata": {
    "execution": {
     "iopub.execute_input": "2020-11-15T13:14:00.496917Z",
     "iopub.status.busy": "2020-11-15T13:14:00.495529Z",
     "iopub.status.idle": "2020-11-15T13:14:00.983711Z",
     "shell.execute_reply": "2020-11-15T13:14:00.982068Z"
    },
    "papermill": {
     "duration": 0.522658,
     "end_time": "2020-11-15T13:14:00.983848",
     "exception": false,
     "start_time": "2020-11-15T13:14:00.461190",
     "status": "completed"
    },
    "tags": []
   },
   "outputs": [],
   "source": [
    "def fe(df):\n",
    "    tmp = df.copy()\n",
    "    tmp = pd.get_dummies(tmp, columns=['cp_time','cp_dose'])\n",
    "    tmp.drop([\"sig_id\"], axis=1, inplace=True)\n",
    "    return tmp\n",
    "train = fe(train)\n",
    "test = fe(test)"
   ]
  },
  {
   "cell_type": "code",
   "execution_count": 17,
   "metadata": {
    "execution": {
     "iopub.execute_input": "2020-11-15T13:14:01.042067Z",
     "iopub.status.busy": "2020-11-15T13:14:01.040117Z",
     "iopub.status.idle": "2020-11-15T13:14:01.042787Z",
     "shell.execute_reply": "2020-11-15T13:14:01.043328Z"
    },
    "papermill": {
     "duration": 0.033616,
     "end_time": "2020-11-15T13:14:01.043487",
     "exception": false,
     "start_time": "2020-11-15T13:14:01.009871",
     "status": "completed"
    },
    "tags": []
   },
   "outputs": [],
   "source": [
    "#train[\"fold\"] = np.array(folds).reshape(-1,1)"
   ]
  },
  {
   "cell_type": "code",
   "execution_count": 18,
   "metadata": {
    "execution": {
     "iopub.execute_input": "2020-11-15T13:14:01.103233Z",
     "iopub.status.busy": "2020-11-15T13:14:01.101931Z",
     "iopub.status.idle": "2020-11-15T13:14:01.381027Z",
     "shell.execute_reply": "2020-11-15T13:14:01.380473Z"
    },
    "papermill": {
     "duration": 0.310906,
     "end_time": "2020-11-15T13:14:01.381167",
     "exception": false,
     "start_time": "2020-11-15T13:14:01.070261",
     "status": "completed"
    },
    "tags": []
   },
   "outputs": [],
   "source": [
    "fn_train = train.copy().to_numpy()\n",
    "fn_test = test.copy().to_numpy()\n",
    "\n",
    "fn_targets = targets.drop(\"sig_id\", axis=1).copy().to_numpy()"
   ]
  },
  {
   "cell_type": "code",
   "execution_count": 19,
   "metadata": {
    "execution": {
     "iopub.execute_input": "2020-11-15T13:14:01.446482Z",
     "iopub.status.busy": "2020-11-15T13:14:01.442673Z",
     "iopub.status.idle": "2020-11-15T13:14:01.448925Z",
     "shell.execute_reply": "2020-11-15T13:14:01.449498Z"
    },
    "papermill": {
     "duration": 0.04142,
     "end_time": "2020-11-15T13:14:01.449627",
     "exception": false,
     "start_time": "2020-11-15T13:14:01.408207",
     "status": "completed"
    },
    "tags": []
   },
   "outputs": [],
   "source": [
    "class SmoothCrossEntropyLoss(_WeightedLoss):\n",
    "    def __init__(self, weight=None, reduction='mean', smoothing=0.0):\n",
    "        super().__init__(weight=weight, reduction=reduction)\n",
    "        self.smoothing = smoothing\n",
    "        self.weight = weight\n",
    "        self.reduction = reduction\n",
    "\n",
    "    @staticmethod\n",
    "    def _smooth(targets, n_classes, smoothing=0.0):\n",
    "        assert 0 <= smoothing <= 1\n",
    "        with torch.no_grad():\n",
    "            targets = targets * (1 - smoothing) + torch.ones_like(targets).to(device) * smoothing / n_classes\n",
    "        return targets\n",
    "\n",
    "    def forward(self, inputs, targets):\n",
    "        targets = SmoothCrossEntropyLoss()._smooth(targets, inputs.shape[1], self.smoothing)\n",
    "\n",
    "        if self.weight is not None:\n",
    "            inputs = inputs * self.weight.unsqueeze(0)\n",
    "\n",
    "        loss = F.binary_cross_entropy_with_logits(inputs, targets)\n",
    "\n",
    "        return loss"
   ]
  },
  {
   "cell_type": "code",
   "execution_count": 20,
   "metadata": {
    "execution": {
     "iopub.execute_input": "2020-11-15T13:14:01.523721Z",
     "iopub.status.busy": "2020-11-15T13:14:01.522606Z",
     "iopub.status.idle": "2020-11-15T13:14:01.525906Z",
     "shell.execute_reply": "2020-11-15T13:14:01.525245Z"
    },
    "papermill": {
     "duration": 0.046741,
     "end_time": "2020-11-15T13:14:01.526016",
     "exception": false,
     "start_time": "2020-11-15T13:14:01.479275",
     "status": "completed"
    },
    "tags": []
   },
   "outputs": [],
   "source": [
    "class Model(nn.Module):\n",
    "    def __init__(self, num_features, num_targets, hidden_size1=388,hidden_size2=512,drop_rate1=0.0,drop_rate2=0.3,drop_rate3=0.3):\n",
    "        super(Model, self).__init__()\n",
    "        self.batch_norm1 = nn.BatchNorm1d(num_features)\n",
    "        self.dropout1 = nn.Dropout(drop_rate1)\n",
    "        self.dense1 = nn.utils.weight_norm(nn.Linear(num_features, hidden_size1))\n",
    "\n",
    "        self.batch_norm2 = nn.BatchNorm1d(hidden_size1)\n",
    "        self.dropout2 = nn.Dropout(drop_rate2)\n",
    "        self.dense2 = nn.utils.weight_norm(nn.Linear(hidden_size1, hidden_size2))\n",
    "\n",
    "        self.batch_norm3 = nn.BatchNorm1d(hidden_size2)\n",
    "        self.dropout3 = nn.Dropout(drop_rate3)\n",
    "        self.dense3 = nn.utils.weight_norm(nn.Linear(hidden_size2, num_targets))\n",
    "        \n",
    "    def forward(self, x):\n",
    "        \n",
    "        x = self.batch_norm1(x)\n",
    "        x = self.dropout1(x)\n",
    "        x = F.relu(self.dense1(x))\n",
    "        \n",
    "        x = self.batch_norm2(x)\n",
    "        x = self.dropout2(x)\n",
    "        x = F.relu(self.dense2(x))\n",
    "        \n",
    "        x = self.batch_norm3(x)\n",
    "        x = self.dropout3(x)\n",
    "        x = self.dense3(x)\n",
    "        \n",
    "        return x"
   ]
  },
  {
   "cell_type": "code",
   "execution_count": 21,
   "metadata": {
    "execution": {
     "iopub.execute_input": "2020-11-15T13:14:01.610144Z",
     "iopub.status.busy": "2020-11-15T13:14:01.604680Z",
     "iopub.status.idle": "2020-11-15T13:14:01.635770Z",
     "shell.execute_reply": "2020-11-15T13:14:01.635183Z"
    },
    "papermill": {
     "duration": 0.082903,
     "end_time": "2020-11-15T13:14:01.635891",
     "exception": false,
     "start_time": "2020-11-15T13:14:01.552988",
     "status": "completed"
    },
    "tags": []
   },
   "outputs": [],
   "source": [
    "#params for one cycle schedule\n",
    "device = ('cuda' if torch.cuda.is_available() else 'cpu')\n",
    "train_epochs = 30\n",
    "batch_size = 256\n",
    "n_folds = 7\n",
    "\n",
    "smoothing = 0.001\n",
    "p_min = smoothing\n",
    "p_max = 1 - p_min\n",
    "\n",
    "def mean_log_loss(y_true, y_pred):\n",
    "    metrics = []\n",
    "    for i, target in enumerate(target_feats):\n",
    "        metrics.append(log_loss(y_true[:, i], y_pred[:, i].astype(float), labels=[0,1]))\n",
    "    return np.mean(metrics)\n",
    "\n",
    "def modelling_dae(tr, target, te, sample_seed, init_num, last_num):\n",
    "    seed_everything(seed=sample_seed) \n",
    "    X_train = tr.copy()\n",
    "    y_train = target.copy()\n",
    "    X_test = te.copy()\n",
    "    test_len = X_test.shape[0]\n",
    "    \n",
    "    metric = lambda inputs, targets : F.binary_cross_entropy((torch.clamp(torch.sigmoid(inputs), p_min, p_max)), targets)\n",
    "\n",
    "    models = []\n",
    "    \n",
    "    X_test2 = torch.tensor(X_test, dtype=torch.float32)\n",
    "    test = torch.utils.data.TensorDataset(X_test2) \n",
    "    test_loader = torch.utils.data.DataLoader(test, batch_size=batch_size, shuffle=False)\n",
    "    \n",
    "    oof = np.zeros([len(X_train),y_train.shape[1]])\n",
    "    oof_targets = np.zeros([len(X_train),y_train.shape[1]])\n",
    "    pred_value = np.zeros([test_len, y_train.shape[1]])\n",
    "    scores = []\n",
    "    mskf=MultilabelStratifiedKFold(n_splits = n_folds, shuffle=True, random_state=224)\n",
    "    for fold, (train_index, valid_index) in enumerate(mskf.split(X_train, y_train)):\n",
    "        print(\"Fold \"+str(fold+1))\n",
    "        X_train2 = torch.tensor(X_train[train_index,:], dtype=torch.float32)\n",
    "        X_valid2 = torch.tensor(X_train[valid_index,:], dtype=torch.float32)\n",
    "\n",
    "        y_train2 = torch.tensor(y_train[train_index], dtype=torch.float32)\n",
    "        y_valid2 = torch.tensor(y_train[valid_index], dtype=torch.float32)\n",
    "        \n",
    "        train = torch.utils.data.TensorDataset(X_train2, y_train2)\n",
    "        valid = torch.utils.data.TensorDataset(X_valid2, y_valid2)\n",
    "        \n",
    "        train_loader = torch.utils.data.DataLoader(train, batch_size=batch_size, shuffle=True) \n",
    "        valid_loader = torch.utils.data.DataLoader(valid, batch_size=batch_size, shuffle=False)\n",
    "            \n",
    "        clf = Model(init_num, last_num)\n",
    "        loss_fn = SmoothCrossEntropyLoss(smoothing=smoothing)\n",
    "\n",
    "        optimizer = optim.Adam(clf.parameters(), lr = 5e-3, weight_decay=1e-5) \n",
    "        scheduler = optim.lr_scheduler.ReduceLROnPlateau(optimizer, patience=3, factor=0.1, eps=1e-4, verbose=True)                   \n",
    "        \n",
    "        clf.to(device)\n",
    "        \n",
    "        best_val_loss = np.inf\n",
    "        stop_counts = 0\n",
    "        for epoch in range(train_epochs):\n",
    "            start_time = time.time()\n",
    "            clf.train()\n",
    "            avg_loss = 0.\n",
    "            sm_avg_loss = 0.\n",
    "            for x_batch, y_batch in tqdm(train_loader, disable=True):\n",
    "                x_batch = x_batch.to(device)\n",
    "                y_batch = y_batch.to(device)\n",
    "                y_pred = clf(x_batch) \n",
    "                loss = loss_fn(y_pred, y_batch)\n",
    "                optimizer.zero_grad()\n",
    "                loss.backward()\n",
    "                optimizer.step()\n",
    "                avg_loss += loss.item() / len(train_loader)  \n",
    "                sm_avg_loss += metric(y_pred, y_batch) / len(train_loader) \n",
    "                \n",
    "            clf.eval()\n",
    "            avg_val_loss = 0.\n",
    "            sm_avg_val_loss = 0.\n",
    "            for i, (x_batch, y_batch) in enumerate(valid_loader): \n",
    "                x_batch = x_batch.to(device)\n",
    "                y_batch = y_batch.to(device)\n",
    "                y_pred = clf(x_batch).detach()\n",
    "                avg_val_loss += loss_fn(y_pred, y_batch).item() / len(valid_loader)\n",
    "                sm_avg_val_loss += metric(y_pred, y_batch) / len(valid_loader)\n",
    "        \n",
    "            elapsed_time = time.time() - start_time \n",
    "            scheduler.step(sm_avg_val_loss)\n",
    "                    \n",
    "            if sm_avg_val_loss < best_val_loss:\n",
    "                best_val_loss = sm_avg_val_loss\n",
    "                print('Epoch {}  loss={:.5f}  val_loss={:.5f}  sm_loss={:.5f}  sm_val_loss={:.5f}  time={:.2f}s'.format(\n",
    "                    epoch + 1, avg_loss, avg_val_loss, sm_avg_loss, sm_avg_val_loss, elapsed_time))\n",
    "                torch.save(clf.state_dict(), 'best-model-parameters.pt')\n",
    "            else:\n",
    "                stop_counts += 1\n",
    "        \n",
    "        pred_model = Model(init_num, last_num)\n",
    "        pred_model.load_state_dict(torch.load('best-model-parameters.pt'))         \n",
    "        pred_model.eval()\n",
    "        \n",
    "        # validation check ----------------\n",
    "        oof_epoch = np.zeros([X_valid2.size(0), y_train.shape[1]])\n",
    "        target_epoch = np.zeros([X_valid2.size(0), y_train.shape[1]])\n",
    "        for i, (x_batch, y_batch) in enumerate(valid_loader): \n",
    "                y_pred = pred_model(x_batch).detach()\n",
    "                oof_epoch[i * batch_size:(i+1) * batch_size,:] = torch.clamp(torch.sigmoid(y_pred.cpu()), p_min, p_max)\n",
    "                target_epoch[i * batch_size:(i+1) * batch_size,:] = y_batch.cpu().numpy()\n",
    "        print(\"Fold {} log loss: {}\".format(fold+1, mean_log_loss(target_epoch, oof_epoch)))\n",
    "        scores.append(mean_log_loss(target_epoch, oof_epoch))\n",
    "        oof[valid_index,:] = oof_epoch\n",
    "        oof_targets[valid_index,:] = target_epoch\n",
    "        #-----------------------------------\n",
    "        \n",
    "        # test predcition --------------\n",
    "        test_preds = np.zeros([test_len, y_train.shape[1]])\n",
    "        for i, (x_batch,) in enumerate(test_loader): \n",
    "            y_pred = pred_model(x_batch).detach()\n",
    "            test_preds[i * batch_size:(i+1) * batch_size, :] = torch.clamp(torch.sigmoid(y_pred.cpu()), p_min, p_max)\n",
    "        pred_value += test_preds / n_folds\n",
    "        # ------------------------------\n",
    "        \n",
    "    print(\"Seed {}\".format(seed_))\n",
    "    for i, ele in enumerate(scores):\n",
    "        print(\"Fold {} log loss: {}\".format(i+1, scores[i]))\n",
    "    print(\"Std of log loss: {}\".format(np.std(scores)))\n",
    "    print(\"Total log loss: {}\".format(mean_log_loss(oof_targets, oof)))\n",
    "    \n",
    "    return oof, oof_targets, pred_value"
   ]
  },
  {
   "cell_type": "code",
   "execution_count": 22,
   "metadata": {
    "execution": {
     "iopub.execute_input": "2020-11-15T13:14:01.695453Z",
     "iopub.status.busy": "2020-11-15T13:14:01.694498Z",
     "iopub.status.idle": "2020-11-15T13:14:01.696973Z",
     "shell.execute_reply": "2020-11-15T13:14:01.698438Z"
    },
    "papermill": {
     "duration": 0.034635,
     "end_time": "2020-11-15T13:14:01.698739",
     "exception": false,
     "start_time": "2020-11-15T13:14:01.664104",
     "status": "completed"
    },
    "tags": []
   },
   "outputs": [],
   "source": [
    "#    for fold in range(n_folds):\n",
    "#        valid_index = X_train[:,-1] == fold\n",
    "#        train_index = X_train[:,-1] != fold\n",
    "#        print(\"Fold \"+str(fold+1))\n",
    "#        X_train2 = torch.tensor(X_train[train_index,:], dtype=torch.float32)\n",
    "#        X_valid2 = torch.tensor(X_train[valid_index,:], dtype=torch.float32)\n",
    "#        X_train2 = X_train2[:,:-1]\n",
    "#        X_valid2 = X_valid2[:,:-1]"
   ]
  },
  {
   "cell_type": "code",
   "execution_count": 23,
   "metadata": {
    "execution": {
     "iopub.execute_input": "2020-11-15T13:14:01.771095Z",
     "iopub.status.busy": "2020-11-15T13:14:01.769724Z",
     "iopub.status.idle": "2020-11-15T13:16:40.526808Z",
     "shell.execute_reply": "2020-11-15T13:16:40.525958Z"
    },
    "papermill": {
     "duration": 158.792521,
     "end_time": "2020-11-15T13:16:40.526958",
     "exception": false,
     "start_time": "2020-11-15T13:14:01.734437",
     "status": "completed"
    },
    "tags": []
   },
   "outputs": [
    {
     "name": "stdout",
     "output_type": "stream",
     "text": [
      "Fold 1\n",
      "Epoch 1  loss=0.21784  val_loss=0.02529  sm_loss=0.21783  sm_val_loss=0.02529  time=0.74s\n",
      "Epoch 2  loss=0.02284  val_loss=0.02110  sm_loss=0.02282  sm_val_loss=0.02106  time=0.77s\n",
      "Epoch 3  loss=0.02018  val_loss=0.01922  sm_loss=0.02018  sm_val_loss=0.01924  time=0.85s\n",
      "Epoch 4  loss=0.01886  val_loss=0.01844  sm_loss=0.01890  sm_val_loss=0.01845  time=0.85s\n",
      "Epoch 5  loss=0.01805  val_loss=0.01799  sm_loss=0.01810  sm_val_loss=0.01804  time=0.68s\n",
      "Epoch 6  loss=0.01751  val_loss=0.01778  sm_loss=0.01759  sm_val_loss=0.01784  time=0.64s\n",
      "Epoch 7  loss=0.01730  val_loss=0.01775  sm_loss=0.01739  sm_val_loss=0.01783  time=0.65s\n",
      "Epoch 8  loss=0.01679  val_loss=0.01750  sm_loss=0.01691  sm_val_loss=0.01763  time=0.79s\n",
      "Epoch    12: reducing learning rate of group 0 to 5.0000e-04.\n",
      "Epoch 13  loss=0.01505  val_loss=0.01709  sm_loss=0.01524  sm_val_loss=0.01723  time=0.63s\n",
      "Epoch    17: reducing learning rate of group 0 to 5.0000e-05.\n",
      "Fold 1 log loss: 0.017434605999642454\n",
      "Fold 2\n",
      "Epoch 1  loss=0.22097  val_loss=0.02526  sm_loss=0.22096  sm_val_loss=0.02526  time=0.65s\n",
      "Epoch 2  loss=0.02295  val_loss=0.02113  sm_loss=0.02294  sm_val_loss=0.02112  time=0.63s\n",
      "Epoch 3  loss=0.02019  val_loss=0.01944  sm_loss=0.02018  sm_val_loss=0.01945  time=0.63s\n",
      "Epoch 4  loss=0.01893  val_loss=0.01861  sm_loss=0.01896  sm_val_loss=0.01864  time=0.76s\n",
      "Epoch 5  loss=0.01801  val_loss=0.01832  sm_loss=0.01807  sm_val_loss=0.01836  time=0.63s\n",
      "Epoch 6  loss=0.01759  val_loss=0.01788  sm_loss=0.01767  sm_val_loss=0.01796  time=0.64s\n",
      "Epoch 8  loss=0.01681  val_loss=0.01773  sm_loss=0.01693  sm_val_loss=0.01783  time=0.64s\n",
      "Epoch    12: reducing learning rate of group 0 to 5.0000e-04.\n",
      "Epoch 13  loss=0.01503  val_loss=0.01720  sm_loss=0.01522  sm_val_loss=0.01733  time=0.65s\n",
      "Epoch 14  loss=0.01439  val_loss=0.01716  sm_loss=0.01459  sm_val_loss=0.01729  time=0.65s\n",
      "Epoch    18: reducing learning rate of group 0 to 5.0000e-05.\n",
      "Fold 2 log loss: 0.017346329918411087\n",
      "Fold 3\n",
      "Epoch 1  loss=0.21909  val_loss=0.02540  sm_loss=0.21908  sm_val_loss=0.02539  time=0.63s\n",
      "Epoch 2  loss=0.02284  val_loss=0.02103  sm_loss=0.02283  sm_val_loss=0.02102  time=0.65s\n",
      "Epoch 3  loss=0.02027  val_loss=0.01910  sm_loss=0.02027  sm_val_loss=0.01912  time=0.68s\n",
      "Epoch 4  loss=0.01901  val_loss=0.01823  sm_loss=0.01902  sm_val_loss=0.01825  time=0.64s\n",
      "Epoch 5  loss=0.01812  val_loss=0.01766  sm_loss=0.01818  sm_val_loss=0.01772  time=0.67s\n",
      "Epoch 6  loss=0.01756  val_loss=0.01735  sm_loss=0.01765  sm_val_loss=0.01746  time=0.72s\n",
      "Epoch 8  loss=0.01695  val_loss=0.01722  sm_loss=0.01707  sm_val_loss=0.01733  time=0.78s\n",
      "Epoch 12  loss=0.01621  val_loss=0.01716  sm_loss=0.01637  sm_val_loss=0.01728  time=0.63s\n",
      "Epoch    16: reducing learning rate of group 0 to 5.0000e-04.\n",
      "Epoch 17  loss=0.01483  val_loss=0.01660  sm_loss=0.01503  sm_val_loss=0.01675  time=0.63s\n",
      "Epoch 18  loss=0.01416  val_loss=0.01659  sm_loss=0.01438  sm_val_loss=0.01674  time=0.64s\n",
      "Epoch    22: reducing learning rate of group 0 to 5.0000e-05.\n",
      "Fold 3 log loss: 0.016964474051925593\n",
      "Fold 4\n",
      "Epoch 1  loss=0.22072  val_loss=0.02622  sm_loss=0.22069  sm_val_loss=0.02622  time=0.76s\n",
      "Epoch 2  loss=0.02277  val_loss=0.02145  sm_loss=0.02276  sm_val_loss=0.02145  time=0.65s\n",
      "Epoch 3  loss=0.02011  val_loss=0.01916  sm_loss=0.02011  sm_val_loss=0.01915  time=0.64s\n",
      "Epoch 4  loss=0.01890  val_loss=0.01839  sm_loss=0.01893  sm_val_loss=0.01841  time=0.64s\n",
      "Epoch 5  loss=0.01799  val_loss=0.01785  sm_loss=0.01805  sm_val_loss=0.01789  time=0.64s\n",
      "Epoch 6  loss=0.01746  val_loss=0.01775  sm_loss=0.01754  sm_val_loss=0.01782  time=0.65s\n",
      "Epoch 8  loss=0.01680  val_loss=0.01763  sm_loss=0.01691  sm_val_loss=0.01771  time=0.80s\n",
      "Epoch 10  loss=0.01641  val_loss=0.01753  sm_loss=0.01656  sm_val_loss=0.01764  time=0.65s\n",
      "Epoch    14: reducing learning rate of group 0 to 5.0000e-04.\n",
      "Epoch 15  loss=0.01508  val_loss=0.01705  sm_loss=0.01528  sm_val_loss=0.01717  time=0.63s\n",
      "Epoch    19: reducing learning rate of group 0 to 5.0000e-05.\n",
      "Fold 4 log loss: 0.017336924925086507\n",
      "Fold 5\n",
      "Epoch 1  loss=0.21791  val_loss=0.02570  sm_loss=0.21789  sm_val_loss=0.02570  time=0.65s\n",
      "Epoch 2  loss=0.02278  val_loss=0.02121  sm_loss=0.02276  sm_val_loss=0.02121  time=0.65s\n",
      "Epoch 3  loss=0.02012  val_loss=0.01939  sm_loss=0.02012  sm_val_loss=0.01939  time=0.65s\n",
      "Epoch 4  loss=0.01890  val_loss=0.01862  sm_loss=0.01893  sm_val_loss=0.01866  time=0.65s\n",
      "Epoch 5  loss=0.01803  val_loss=0.01807  sm_loss=0.01809  sm_val_loss=0.01812  time=0.65s\n",
      "Epoch 7  loss=0.01707  val_loss=0.01800  sm_loss=0.01718  sm_val_loss=0.01806  time=0.63s\n",
      "Epoch 9  loss=0.01653  val_loss=0.01774  sm_loss=0.01666  sm_val_loss=0.01786  time=0.89s\n",
      "Epoch    13: reducing learning rate of group 0 to 5.0000e-04.\n",
      "Epoch 14  loss=0.01478  val_loss=0.01723  sm_loss=0.01497  sm_val_loss=0.01737  time=0.66s\n",
      "Epoch 15  loss=0.01408  val_loss=0.01722  sm_loss=0.01429  sm_val_loss=0.01735  time=0.65s\n",
      "Epoch    19: reducing learning rate of group 0 to 5.0000e-05.\n",
      "Fold 5 log loss: 0.01744450648995223\n",
      "Fold 6\n",
      "Epoch 1  loss=0.21972  val_loss=0.02569  sm_loss=0.21969  sm_val_loss=0.02569  time=0.63s\n",
      "Epoch 2  loss=0.02284  val_loss=0.02136  sm_loss=0.02283  sm_val_loss=0.02135  time=0.63s\n",
      "Epoch 3  loss=0.02029  val_loss=0.01920  sm_loss=0.02028  sm_val_loss=0.01921  time=0.78s\n",
      "Epoch 4  loss=0.01900  val_loss=0.01851  sm_loss=0.01902  sm_val_loss=0.01854  time=0.66s\n",
      "Epoch 5  loss=0.01813  val_loss=0.01787  sm_loss=0.01819  sm_val_loss=0.01793  time=0.64s\n",
      "Epoch 6  loss=0.01750  val_loss=0.01756  sm_loss=0.01758  sm_val_loss=0.01764  time=0.64s\n",
      "Epoch    10: reducing learning rate of group 0 to 5.0000e-04.\n",
      "Epoch 11  loss=0.01525  val_loss=0.01691  sm_loss=0.01542  sm_val_loss=0.01704  time=0.65s\n",
      "Epoch 12  loss=0.01461  val_loss=0.01690  sm_loss=0.01480  sm_val_loss=0.01702  time=0.64s\n",
      "Epoch    16: reducing learning rate of group 0 to 5.0000e-05.\n",
      "Fold 6 log loss: 0.016994459533068086\n",
      "Fold 7\n",
      "Epoch 1  loss=0.21998  val_loss=0.02598  sm_loss=0.21995  sm_val_loss=0.02597  time=0.63s\n",
      "Epoch 2  loss=0.02300  val_loss=0.02159  sm_loss=0.02299  sm_val_loss=0.02155  time=0.63s\n",
      "Epoch 3  loss=0.02031  val_loss=0.01965  sm_loss=0.02031  sm_val_loss=0.01966  time=0.62s\n",
      "Epoch 4  loss=0.01894  val_loss=0.01837  sm_loss=0.01897  sm_val_loss=0.01837  time=0.62s\n",
      "Epoch 5  loss=0.01810  val_loss=0.01802  sm_loss=0.01815  sm_val_loss=0.01808  time=0.63s\n",
      "Epoch 6  loss=0.01745  val_loss=0.01790  sm_loss=0.01753  sm_val_loss=0.01797  time=0.68s\n",
      "Epoch 8  loss=0.01675  val_loss=0.01762  sm_loss=0.01687  sm_val_loss=0.01773  time=0.94s\n",
      "Epoch    12: reducing learning rate of group 0 to 5.0000e-04.\n",
      "Epoch 13  loss=0.01497  val_loss=0.01714  sm_loss=0.01516  sm_val_loss=0.01728  time=0.63s\n",
      "Epoch 14  loss=0.01430  val_loss=0.01709  sm_loss=0.01451  sm_val_loss=0.01723  time=0.65s\n",
      "Epoch    18: reducing learning rate of group 0 to 5.0000e-05.\n",
      "Fold 7 log loss: 0.017167390598073585\n",
      "Seed 0\n",
      "Fold 1 log loss: 0.017434605999642454\n",
      "Fold 2 log loss: 0.017346329918411087\n",
      "Fold 3 log loss: 0.016964474051925593\n",
      "Fold 4 log loss: 0.017336924925086507\n",
      "Fold 5 log loss: 0.01744450648995223\n",
      "Fold 6 log loss: 0.016994459533068086\n",
      "Fold 7 log loss: 0.017167390598073585\n",
      "Std of log loss: 0.00018588048949115033\n",
      "Total log loss: 0.01724125232960482\n",
      "Total log loss in targets: 0.01724125232960482\n"
     ]
    }
   ],
   "source": [
    "seeds = [0]\n",
    "target_oof = np.zeros([len(fn_train),fn_targets.shape[1]])\n",
    "target_pred = np.zeros([len(fn_test),fn_targets.shape[1]])\n",
    "\n",
    "for seed_ in seeds:\n",
    "    oof, oof_targets, pytorch_pred = modelling_dae(fn_train, fn_targets, fn_test, seed_, fn_train.shape[1], fn_targets.shape[1])\n",
    "    target_oof += oof / len(seeds)\n",
    "    target_pred += pytorch_pred / len(seeds)\n",
    "\n",
    "print(\"Total log loss in targets: {}\".format(mean_log_loss(oof_targets, target_oof)))"
   ]
  },
  {
   "cell_type": "code",
   "execution_count": 24,
   "metadata": {
    "execution": {
     "iopub.execute_input": "2020-11-15T13:16:40.665509Z",
     "iopub.status.busy": "2020-11-15T13:16:40.664201Z",
     "iopub.status.idle": "2020-11-15T13:16:47.757970Z",
     "shell.execute_reply": "2020-11-15T13:16:47.759247Z"
    },
    "papermill": {
     "duration": 7.168911,
     "end_time": "2020-11-15T13:16:47.759504",
     "exception": false,
     "start_time": "2020-11-15T13:16:40.590593",
     "status": "completed"
    },
    "tags": []
   },
   "outputs": [
    {
     "name": "stdout",
     "output_type": "stream",
     "text": [
      "OOF log loss:  0.01589027488578855\n"
     ]
    }
   ],
   "source": [
    "t = pd.read_csv(DATA_DIR + 'train_targets_scored.csv')\n",
    "train_checkscore = t.copy()\n",
    "train_checkscore.loc[train_checkscore.index.isin(cons_train_index),target_feats] = target_oof\n",
    "train_checkscore.loc[train_checkscore.index.isin(noncons_train_index),target_feats] = 0\n",
    "t.drop(\"sig_id\", axis=1, inplace=True)\n",
    "print('OOF log loss: ', log_loss(np.ravel(t), np.ravel(np.array(train_checkscore.iloc[:,1:]))))"
   ]
  },
  {
   "cell_type": "code",
   "execution_count": 25,
   "metadata": {
    "execution": {
     "iopub.execute_input": "2020-11-15T13:16:47.948441Z",
     "iopub.status.busy": "2020-11-15T13:16:47.947474Z",
     "iopub.status.idle": "2020-11-15T13:17:01.433930Z",
     "shell.execute_reply": "2020-11-15T13:17:01.432918Z"
    },
    "papermill": {
     "duration": 13.580708,
     "end_time": "2020-11-15T13:17:01.434065",
     "exception": false,
     "start_time": "2020-11-15T13:16:47.853357",
     "status": "completed"
    },
    "tags": []
   },
   "outputs": [],
   "source": [
    "train_checkscore.to_csv(\"dae_oof.csv\", index=False)"
   ]
  },
  {
   "cell_type": "code",
   "execution_count": 26,
   "metadata": {
    "execution": {
     "iopub.execute_input": "2020-11-15T13:17:01.572486Z",
     "iopub.status.busy": "2020-11-15T13:17:01.571309Z",
     "iopub.status.idle": "2020-11-15T13:17:04.061412Z",
     "shell.execute_reply": "2020-11-15T13:17:04.060335Z"
    },
    "papermill": {
     "duration": 2.562835,
     "end_time": "2020-11-15T13:17:04.061546",
     "exception": false,
     "start_time": "2020-11-15T13:17:01.498711",
     "status": "completed"
    },
    "tags": []
   },
   "outputs": [],
   "source": [
    "sub.loc[cons_test_index, target_feats] = target_pred\n",
    "sub.loc[noncons_test_index,target_feats] = 0\n",
    "sub.to_csv('submission.csv', index=False)"
   ]
  },
  {
   "cell_type": "code",
   "execution_count": null,
   "metadata": {
    "papermill": {
     "duration": 0.063579,
     "end_time": "2020-11-15T13:17:04.188544",
     "exception": false,
     "start_time": "2020-11-15T13:17:04.124965",
     "status": "completed"
    },
    "tags": []
   },
   "outputs": [],
   "source": []
  }
 ],
 "metadata": {
  "kernelspec": {
   "display_name": "Python 3",
   "language": "python",
   "name": "python3"
  },
  "language_info": {
   "codemirror_mode": {
    "name": "ipython",
    "version": 3
   },
   "file_extension": ".py",
   "mimetype": "text/x-python",
   "name": "python",
   "nbconvert_exporter": "python",
   "pygments_lexer": "ipython3",
   "version": "3.7.6"
  },
  "papermill": {
   "duration": 249.995409,
   "end_time": "2020-11-15T13:17:05.701625",
   "environment_variables": {},
   "exception": null,
   "input_path": "__notebook__.ipynb",
   "output_path": "__notebook__.ipynb",
   "parameters": {},
   "start_time": "2020-11-15T13:12:55.706216",
   "version": "2.1.0"
  }
 },
 "nbformat": 4,
 "nbformat_minor": 4
}
