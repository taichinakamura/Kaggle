{
 "cells": [
  {
   "cell_type": "markdown",
   "metadata": {
    "papermill": {
     "duration": 0.02316,
     "end_time": "2020-11-15T12:51:24.148375",
     "exception": false,
     "start_time": "2020-11-15T12:51:24.125215",
     "status": "completed"
    },
    "tags": []
   },
   "source": [
    "- decrease to 1 models to check correlation"
   ]
  },
  {
   "cell_type": "code",
   "execution_count": 1,
   "metadata": {
    "_cell_guid": "b1076dfc-b9ad-4769-8c92-a6c4dae69d19",
    "_uuid": "8f2839f25d086af736a60e9eeb907d3b93b6e0e5",
    "execution": {
     "iopub.execute_input": "2020-11-15T12:51:24.199562Z",
     "iopub.status.busy": "2020-11-15T12:51:24.198950Z",
     "iopub.status.idle": "2020-11-15T12:51:32.467298Z",
     "shell.execute_reply": "2020-11-15T12:51:32.466734Z"
    },
    "papermill": {
     "duration": 8.299044,
     "end_time": "2020-11-15T12:51:32.467439",
     "exception": false,
     "start_time": "2020-11-15T12:51:24.168395",
     "status": "completed"
    },
    "tags": []
   },
   "outputs": [],
   "source": [
    "import os\n",
    "import sys\n",
    "import random\n",
    "import warnings\n",
    "import numpy as np\n",
    "import pandas as pd \n",
    "from tqdm import tqdm_notebook as tqdm\n",
    "from sklearn import preprocessing\n",
    "from sklearn.metrics import log_loss,roc_auc_score\n",
    "from sklearn.decomposition import PCA\n",
    "from sklearn.cluster import KMeans\n",
    "from sklearn.multioutput import MultiOutputClassifier\n",
    "from sklearn.feature_selection import VarianceThreshold\n",
    "\n",
    "sys.path.append('../input/multilabelstraifier/')\n",
    "from ml_stratifiers import MultilabelStratifiedKFold\n",
    "warnings.filterwarnings('ignore')\n",
    "\n",
    "import time\n",
    "import torch\n",
    "import torch.nn as nn\n",
    "import torch.optim as optim\n",
    "import torch.nn.functional as F\n",
    "import tensorflow as tf\n",
    "from torch.nn.modules.loss import _WeightedLoss\n",
    "\n",
    "from sklearn.pipeline import make_pipeline,make_union\n",
    "from sklearn.compose import make_column_transformer,ColumnTransformer\n",
    "from sklearn.base import BaseEstimator,TransformerMixin"
   ]
  },
  {
   "cell_type": "markdown",
   "metadata": {
    "papermill": {
     "duration": 0.019674,
     "end_time": "2020-11-15T12:51:32.507538",
     "exception": false,
     "start_time": "2020-11-15T12:51:32.487864",
     "status": "completed"
    },
    "tags": []
   },
   "source": [
    "# functions"
   ]
  },
  {
   "cell_type": "code",
   "execution_count": 2,
   "metadata": {
    "execution": {
     "iopub.execute_input": "2020-11-15T12:51:32.562692Z",
     "iopub.status.busy": "2020-11-15T12:51:32.560922Z",
     "iopub.status.idle": "2020-11-15T12:51:32.563449Z",
     "shell.execute_reply": "2020-11-15T12:51:32.563921Z"
    },
    "papermill": {
     "duration": 0.036678,
     "end_time": "2020-11-15T12:51:32.564033",
     "exception": false,
     "start_time": "2020-11-15T12:51:32.527355",
     "status": "completed"
    },
    "tags": []
   },
   "outputs": [],
   "source": [
    "def train_short_form_loader(feature_file,target_file,extra_target_file=None):\n",
    "    '''takes the original target and features and creates a train dataset \n",
    "    in col long format'''\n",
    "    train_features = pd.read_csv(feature_file)\n",
    "    train_targets = pd.read_csv(target_file)\n",
    "\n",
    "    if extra_target_file is not None:\n",
    "        extra_targets = pd.read_csv(extra_target_file)\n",
    "        train_targets = pd.merge(train_targets,extra_targets,on ='sig_id')\n",
    "        del extra_targets\n",
    "\n",
    "    targets = train_targets.columns[1:]\n",
    "\n",
    "    train_melt=train_targets.merge(train_features,how=\"left\",on=\"sig_id\")\n",
    "\n",
    "    del train_features,train_targets\n",
    "    \n",
    "    train_melt.set_index(\"sig_id\",inplace=True)\n",
    "\n",
    "    train_melt[\"cp_type\"]= train_melt[\"cp_type\"].astype('category')\n",
    "    train_melt[\"cp_dose\"]= train_melt[\"cp_dose\"].astype('category')\n",
    "\n",
    "    return train_melt , targets.to_list()\n",
    "\n",
    "def test_short_form_loader(feature_file):\n",
    "    '''takes the original target and features and creates a train dataset \n",
    "    in col long format'''\n",
    "\n",
    "    train_features = pd.read_csv(feature_file)\n",
    "\n",
    "    train_melt =  train_features.copy()\n",
    "    del train_features\n",
    "\n",
    "    train_melt.set_index(\"sig_id\",inplace=True)\n",
    "    train_melt[\"cp_type\"]= train_melt[\"cp_type\"].astype('category')\n",
    "    train_melt[\"cp_dose\"]= train_melt[\"cp_dose\"].astype('category')\n",
    "\n",
    "    return train_melt "
   ]
  },
  {
   "cell_type": "code",
   "execution_count": 3,
   "metadata": {
    "execution": {
     "iopub.execute_input": "2020-11-15T12:51:32.631981Z",
     "iopub.status.busy": "2020-11-15T12:51:32.630650Z",
     "iopub.status.idle": "2020-11-15T12:51:32.633241Z",
     "shell.execute_reply": "2020-11-15T12:51:32.633737Z"
    },
    "papermill": {
     "duration": 0.04985,
     "end_time": "2020-11-15T12:51:32.633849",
     "exception": false,
     "start_time": "2020-11-15T12:51:32.583999",
     "status": "completed"
    },
    "tags": []
   },
   "outputs": [],
   "source": [
    "# feature selection transformer\n",
    "class CatIntMapper( BaseEstimator, TransformerMixin ):\n",
    "    #Class constructor method that takes in a list of values as its argument\n",
    "    def __init__(self ,col,dicti):\n",
    "        self.col = col\n",
    "        self.dicti = dicti\n",
    "        \n",
    "    def fit(self, X, y = None):\n",
    "        \n",
    "        return self\n",
    "    #Return self nothing else to do here\n",
    "    def fit_transform( self, X, y = None  ):\n",
    "        assert  X[self.col].isin(self.dicti.keys()).all() \n",
    "        return pd.concat([X.drop(self.col,axis=1),X[self.col].map(self.dicti).astype(int).rename(self.col)],axis=1) \n",
    "    \n",
    "    def transform( self, X):\n",
    "        assert  X[self.col].isin(self.dicti.keys()).all() \n",
    "        \n",
    "        return pd.concat([X.drop(self.col,axis=1),X[self.col].map(self.dicti).astype(int).rename(self.col)],axis=1) \n",
    "    \n",
    "class NamedOutTWrapper(BaseEstimator, TransformerMixin):\n",
    "    \n",
    "    def __init__(self,transformer,columns,inplace=False,prefix='_' ):\n",
    "        self.transformer = transformer\n",
    "        self.cols = columns\n",
    "        self.inplace =  inplace\n",
    "        self.prefix = prefix\n",
    "        self.transformer_name = self._get_transformer_name()\n",
    "        \n",
    "    def fit(self, X, y = None): \n",
    "        self.transformer =   self.transformer.fit(X[self.cols] , y )\n",
    "        return self\n",
    "    \n",
    "    #Return self nothing else to do here\n",
    "    def fit_transform( self, X, y = None  ): \n",
    "        transformed_columns = self.transformer.fit_transform(X[self.cols] , y )\n",
    "        out=pd.DataFrame(index=X.index)\n",
    "        \n",
    "        if self.inplace:\n",
    "            out = X[self.cols]\n",
    "            out[self.cols] = transformed_columns\n",
    "            return pd.concat([X.drop(self.cols,axis=1),out],axis=1)\n",
    "        else:\n",
    "            for i,values in enumerate(transformed_columns.transpose()):\n",
    "                out[ self.transformer_name + self.prefix + str(i)] = values\n",
    "            return   pd.concat([X,out],axis=1)\n",
    "        \n",
    "    def transform( self, X):\n",
    "        transformed_columns = self.transformer.transform(X[self.cols]  )\n",
    "        out=pd.DataFrame(index=X.index)\n",
    "        \n",
    "        if self.inplace:\n",
    "            out = X[self.cols]\n",
    "            out[self.cols] = transformed_columns\n",
    "            return pd.concat([X.drop(self.cols,axis=1),out],axis=1)\n",
    "        else:\n",
    "            for i,values in enumerate(transformed_columns.transpose()):\n",
    "                out[ self.transformer_name + self.prefix + str(i)] = values\n",
    "        return   pd.concat([X,out],axis=1)\n",
    "    \n",
    "    def _get_transformer_name(self):\n",
    "        return str(self.transformer.__class__).split('.')[-1][0:-2]"
   ]
  },
  {
   "cell_type": "code",
   "execution_count": 4,
   "metadata": {
    "execution": {
     "iopub.execute_input": "2020-11-15T12:51:32.681334Z",
     "iopub.status.busy": "2020-11-15T12:51:32.680718Z",
     "iopub.status.idle": "2020-11-15T12:51:32.683620Z",
     "shell.execute_reply": "2020-11-15T12:51:32.684040Z"
    },
    "papermill": {
     "duration": 0.03014,
     "end_time": "2020-11-15T12:51:32.684164",
     "exception": false,
     "start_time": "2020-11-15T12:51:32.654024",
     "status": "completed"
    },
    "tags": []
   },
   "outputs": [],
   "source": [
    "# cv folds\n",
    "def multifold_indexer(train,target_columns,n_splits=10,random_state=12347,**kwargs):\n",
    "    folds = train.copy()\n",
    "\n",
    "    mskf = MultilabelStratifiedKFold(n_splits=n_splits,random_state=random_state,**kwargs)\n",
    "    folds[ 'kfold']=0\n",
    "    for f, (t_idx, v_idx) in enumerate(mskf.split(X=train, y=train[target_columns])):\n",
    "        folds.iloc[v_idx,-1] = int(f)\n",
    "\n",
    "    folds['kfold'] = folds['kfold'].astype(int)\n",
    "    return folds"
   ]
  },
  {
   "cell_type": "code",
   "execution_count": 5,
   "metadata": {
    "execution": {
     "iopub.execute_input": "2020-11-15T12:51:32.737457Z",
     "iopub.status.busy": "2020-11-15T12:51:32.736855Z",
     "iopub.status.idle": "2020-11-15T12:51:32.741131Z",
     "shell.execute_reply": "2020-11-15T12:51:32.740399Z"
    },
    "papermill": {
     "duration": 0.036491,
     "end_time": "2020-11-15T12:51:32.741234",
     "exception": false,
     "start_time": "2020-11-15T12:51:32.704743",
     "status": "completed"
    },
    "tags": []
   },
   "outputs": [],
   "source": [
    "# dataset class\n",
    "class MoADataset:\n",
    "    def __init__(self, features, targets):\n",
    "        self.features = features\n",
    "        self.targets = targets\n",
    "        \n",
    "    def __len__(self):\n",
    "        return (self.features.shape[0])\n",
    "    \n",
    "    def __getitem__(self, idx):\n",
    "        dct = {\n",
    "            'x' : torch.tensor(self.features[idx, :], dtype=torch.float),\n",
    "            'y' : torch.tensor(self.targets[idx, :], dtype=torch.float)            \n",
    "        }\n",
    "        return dct\n",
    "    \n",
    "class TestDataset:\n",
    "    def __init__(self, features):\n",
    "        self.features = features\n",
    "        \n",
    "    def __len__(self):\n",
    "        return (self.features.shape[0])\n",
    "    \n",
    "    def __getitem__(self, idx):\n",
    "        dct = {\n",
    "            'x' : torch.tensor(self.features[idx, :], dtype=torch.float)\n",
    "        }\n",
    "        return dct\n",
    "    \n",
    "class ColumnDropper( BaseEstimator, TransformerMixin ):\n",
    "    #Class Constructor \n",
    "    def __init__( self, cols ):\n",
    "        self.cols=cols\n",
    "    #Return self nothing else to do here    \n",
    "    def fit( self, X, y = None ):\n",
    "        return self \n",
    "    \n",
    "    #Method that describes what we need this transformer to do\n",
    "    def transform( self, X, y = None ):\n",
    "        return X.drop(self.cols,axis=1)"
   ]
  },
  {
   "cell_type": "code",
   "execution_count": 6,
   "metadata": {
    "execution": {
     "iopub.execute_input": "2020-11-15T12:51:32.796881Z",
     "iopub.status.busy": "2020-11-15T12:51:32.795204Z",
     "iopub.status.idle": "2020-11-15T12:51:32.799616Z",
     "shell.execute_reply": "2020-11-15T12:51:32.799075Z"
    },
    "papermill": {
     "duration": 0.03776,
     "end_time": "2020-11-15T12:51:32.799708",
     "exception": false,
     "start_time": "2020-11-15T12:51:32.761948",
     "status": "completed"
    },
    "tags": []
   },
   "outputs": [],
   "source": [
    "# dae model\n",
    "def seed_everything(seed=42):\n",
    "    random.seed(seed)\n",
    "    os.environ['PYTHONHASHSEED'] = str(seed)\n",
    "    np.random.seed(seed)\n",
    "    torch.manual_seed(seed)\n",
    "    torch.cuda.manual_seed(seed)\n",
    "    torch.backends.cudnn.deterministic = True\n",
    "\n",
    "class DAE_Model(nn.Module):\n",
    "    def __init__(self, num_features, num_targets, hidden_size=1100,hidden_size2=1300):\n",
    "        super(DAE_Model, self).__init__()\n",
    "        self.batch_norm1 = nn.BatchNorm1d(num_features)\n",
    "        #self.dropout1 = nn.Dropout(drop_rate1)\n",
    "        self.dense1 = nn.utils.weight_norm(nn.Linear(num_features, hidden_size))\n",
    "        \n",
    "        self.batch_norm2 = nn.BatchNorm1d(hidden_size)\n",
    "        #self.dropout2 = nn.Dropout(drop_rate2)\n",
    "        self.dense2 = nn.utils.weight_norm(nn.Linear(hidden_size, hidden_size2))\n",
    "        \n",
    "        self.batch_norm3 = nn.BatchNorm1d(hidden_size2)\n",
    "        #self.dropout3 = nn.Dropout(drop_rate2)\n",
    "        self.dense3 = nn.utils.weight_norm(nn.Linear(hidden_size2, hidden_size))\n",
    "        \n",
    "        #self.batch_norm4 = nn.BatchNorm1d(hidden_size)\n",
    "        #self.dropout4 = nn.Dropout(drop_rate3)\n",
    "        self.dense4 = nn.utils.weight_norm(nn.Linear(hidden_size, num_features))\n",
    "        \n",
    "    def forward(self, x,mode='DAE'):\n",
    "        #x = self.batch_norm1(x)\n",
    "        #x1 = self.dropout1(x1)\n",
    "        x1 = F.relu(self.dense1(x))\n",
    "            \n",
    "        x2 = self.batch_norm2(x1)\n",
    "        #x = self.dropout2(x)\n",
    "        x2 = F.relu(self.dense2(x2))\n",
    "        \n",
    "        x3 = self.batch_norm3(x2)\n",
    "      \n",
    "        x3 = F.relu(self.dense3(x3))\n",
    "        \n",
    "        out = self.dense4(x3)\n",
    "        \n",
    "        if mode == 'DAE':\n",
    "            return out\n",
    "        else:\n",
    "            return x1,x2,x3"
   ]
  },
  {
   "cell_type": "code",
   "execution_count": 7,
   "metadata": {
    "execution": {
     "iopub.execute_input": "2020-11-15T12:51:32.854626Z",
     "iopub.status.busy": "2020-11-15T12:51:32.853949Z",
     "iopub.status.idle": "2020-11-15T12:51:32.857884Z",
     "shell.execute_reply": "2020-11-15T12:51:32.857372Z"
    },
    "papermill": {
     "duration": 0.037697,
     "end_time": "2020-11-15T12:51:32.857987",
     "exception": false,
     "start_time": "2020-11-15T12:51:32.820290",
     "status": "completed"
    },
    "tags": []
   },
   "outputs": [],
   "source": [
    "def infer_features_fn(model, dataloader, device):\n",
    "    model.eval()\n",
    "    preds = []\n",
    "    \n",
    "    for data in dataloader:\n",
    "        inputs = data['x'].to(device)\n",
    "\n",
    "        with torch.no_grad():\n",
    "            outputs = model(inputs,mode='get_features')\n",
    "        \n",
    "        preds.append(torch.cat(outputs,axis=1).detach().cpu().numpy())\n",
    "    preds = np.concatenate(preds)\n",
    "    \n",
    "    return preds\n",
    "\n",
    "def run_inference(X_train,y_train,X_valid,y_valid,X_test,fold, seed,inference_only=False,**kwargs):\n",
    "    seed_everything(seed)\n",
    "    if not  inference_only:\n",
    "        train_dataset = MoADataset(X_train, y_train)\n",
    "        valid_dataset = MoADataset(X_valid, y_valid)\n",
    "        trainloader = torch.utils.data.DataLoader(train_dataset, batch_size=BATCH_SIZE, shuffle=True)\n",
    "        validloader = torch.utils.data.DataLoader(valid_dataset, batch_size=BATCH_SIZE, shuffle=False)\n",
    "\n",
    "    testdataset = TestDataset(X_test)\n",
    "    testloader = torch.utils.data.DataLoader(testdataset, batch_size=BATCH_SIZE, shuffle=False)\n",
    "    \n",
    "    model = DAE_Model(\n",
    "        num_features= X_train.shape[1] ,\n",
    "        num_targets=  X_train.shape[1],\n",
    "       # hidden_size=hidden_size,\n",
    "        **kwargs\n",
    "    )\n",
    "\n",
    "    model.to(DEVICE)\n",
    "    \n",
    "    if not  inference_only:\n",
    "        oof = inference_infer_features_fn(model, validloader, DEVICE)    \n",
    "    else:\n",
    "        oof= 0\n",
    "    \n",
    "    predictions = infer_features_fn(model, testloader, DEVICE)\n",
    "    predictions = predictions\n",
    "    \n",
    "    return oof, predictions"
   ]
  },
  {
   "cell_type": "markdown",
   "metadata": {
    "papermill": {
     "duration": 0.020433,
     "end_time": "2020-11-15T12:51:32.899068",
     "exception": false,
     "start_time": "2020-11-15T12:51:32.878635",
     "status": "completed"
    },
    "tags": []
   },
   "source": [
    "# denosing auto encoder"
   ]
  },
  {
   "cell_type": "code",
   "execution_count": 8,
   "metadata": {
    "execution": {
     "iopub.execute_input": "2020-11-15T12:51:33.291547Z",
     "iopub.status.busy": "2020-11-15T12:51:33.290390Z",
     "iopub.status.idle": "2020-11-15T12:51:33.294806Z",
     "shell.execute_reply": "2020-11-15T12:51:33.295643Z"
    },
    "papermill": {
     "duration": 0.376155,
     "end_time": "2020-11-15T12:51:33.295786",
     "exception": false,
     "start_time": "2020-11-15T12:51:32.919631",
     "status": "completed"
    },
    "tags": []
   },
   "outputs": [],
   "source": [
    "DEVICE = ('cuda' if torch.cuda.is_available() else 'cpu')\n",
    "EPOCHS = 1000\n",
    "BATCH_SIZE = 640\n",
    "LEARNING_RATE = 4e-3\n",
    "WEIGHT_DECAY = 1e-8\n",
    "NFOLDS = 10\n",
    "EARLY_STOPPING_STEPS = 10\n",
    "EARLY_STOP = False\n",
    "hidden_size=1100\n",
    "hidden_size2=1300\n",
    "PATIENCE=10\n",
    "THRESHOLD = 5e-3"
   ]
  },
  {
   "cell_type": "code",
   "execution_count": 9,
   "metadata": {
    "execution": {
     "iopub.execute_input": "2020-11-15T12:51:33.360847Z",
     "iopub.status.busy": "2020-11-15T12:51:33.351926Z",
     "iopub.status.idle": "2020-11-15T12:52:07.490812Z",
     "shell.execute_reply": "2020-11-15T12:52:07.489809Z"
    },
    "papermill": {
     "duration": 34.173685,
     "end_time": "2020-11-15T12:52:07.490927",
     "exception": false,
     "start_time": "2020-11-15T12:51:33.317242",
     "status": "completed"
    },
    "tags": []
   },
   "outputs": [],
   "source": [
    "SEED = [0]\n",
    "train,target_cols = train_short_form_loader('../input/lish-moa/train_features.csv','../input/lish-moa/train_targets_scored.csv')\n",
    "test = test_short_form_loader(\"../input/lish-moa/test_features.csv\")\n",
    "\n",
    "train = pd.concat([train,test])\n",
    "train[target_cols]= train[target_cols].fillna(0)\n",
    "test = train.copy()\n",
    "\n",
    "GENES = [col for col in train.columns if col.startswith('g-')]\n",
    "CELLS = [col for col in train.columns if col.startswith('c-')]\n",
    "\n",
    "map_controls = CatIntMapper('cp_type',{'ctl_vehicle': 0, 'trt_cp': 1})    \n",
    "map_dose = CatIntMapper('cp_dose',{'D1': 1, 'D2': 0})    \n",
    "map_time = CatIntMapper('cp_time',{24: 0, 48: 1, 72: 2})  \n",
    "\n",
    "Rankg_g_tansform = NamedOutTWrapper(preprocessing.QuantileTransformer(n_quantiles=1000,random_state=0, output_distribution=\"normal\"),columns= GENES+CELLS,inplace=True)\n",
    "PCA_g_tansform =  NamedOutTWrapper(PCA(20),columns= GENES,prefix ='_g' )\n",
    "PCA_c_tansform =  NamedOutTWrapper(PCA(20),columns= CELLS,prefix ='_c' )\n",
    "\n",
    "CatDropper =ColumnDropper(cols=['cp_type','cp_time','cp_dose'])\n",
    "transformers_list=[map_controls,map_dose,map_time,Rankg_g_tansform,CatDropper]\n",
    "exp_name = 'test_DAE_0.2_all_together'\n",
    "\n",
    "oof = np.zeros((len(train), len(target_cols)))\n",
    "predictions = np.zeros((len(test), len(target_cols)))\n",
    "\n",
    "for seed in SEED:\n",
    "    \n",
    "    train = multifold_indexer(train,target_cols,n_splits=NFOLDS)\n",
    "    \n",
    "    for fold in range(NFOLDS):\n",
    "            \n",
    "        train_df = train[train['kfold'] != fold]\n",
    "        valid_df = train[train['kfold'] == fold]\n",
    "            \n",
    "        feature_cols = [col for col in train_df.columns if not (col in target_cols+['kfold'])]\n",
    "                \n",
    "        pipeline_val = make_pipeline(*transformers_list)\n",
    "        \n",
    "        X_train, y_train  = train_df[feature_cols], train_df[target_cols]\n",
    "        X_valid, y_valid =  valid_df[feature_cols], valid_df[target_cols].values\n",
    "        \n",
    "        X_train = pipeline_val.fit_transform(X_train)\n",
    "        X_train = X_train.values\n",
    "        X_valid = pipeline_val.transform(X_valid)\n",
    "        \n",
    "        valid_index = X_valid.index\n",
    "        X_valid = X_valid.values\n",
    "        \n",
    "        y_train = y_train.values\n",
    "        \n",
    "        X_test = test[feature_cols]\n",
    "        X_test = pipeline_val.transform(X_test).values\n",
    "        \n",
    "        pred_ = run_inference(X_train,y_train,X_valid,y_valid,X_test,fold, seed,inference_only=True)    \n",
    "        break\n",
    "        \n",
    "transformed_features = pd.DataFrame(pred_[1],index=test.index)"
   ]
  },
  {
   "cell_type": "code",
   "execution_count": 10,
   "metadata": {
    "execution": {
     "iopub.execute_input": "2020-11-15T12:52:07.542013Z",
     "iopub.status.busy": "2020-11-15T12:52:07.540954Z",
     "iopub.status.idle": "2020-11-15T12:52:10.419288Z",
     "shell.execute_reply": "2020-11-15T12:52:10.418356Z"
    },
    "papermill": {
     "duration": 2.907154,
     "end_time": "2020-11-15T12:52:10.419412",
     "exception": false,
     "start_time": "2020-11-15T12:52:07.512258",
     "status": "completed"
    },
    "tags": []
   },
   "outputs": [
    {
     "name": "stdout",
     "output_type": "stream",
     "text": [
      "(27796, 3500)\n"
     ]
    }
   ],
   "source": [
    "print(transformed_features.shape)\n",
    "transformed_features.columns = [str(i) for i in range(len(transformed_features.columns))]\n",
    "transformed_features.reset_index().to_feather('./features_0.2_altogether.fth')\n",
    "transformed_features = transformed_features.reset_index(drop=False)"
   ]
  },
  {
   "cell_type": "markdown",
   "metadata": {
    "papermill": {
     "duration": 0.021117,
     "end_time": "2020-11-15T12:52:10.462609",
     "exception": false,
     "start_time": "2020-11-15T12:52:10.441492",
     "status": "completed"
    },
    "tags": []
   },
   "source": [
    "# prediction"
   ]
  },
  {
   "cell_type": "code",
   "execution_count": 11,
   "metadata": {
    "execution": {
     "iopub.execute_input": "2020-11-15T12:52:10.519263Z",
     "iopub.status.busy": "2020-11-15T12:52:10.513628Z",
     "iopub.status.idle": "2020-11-15T12:52:16.206559Z",
     "shell.execute_reply": "2020-11-15T12:52:16.206018Z"
    },
    "papermill": {
     "duration": 5.722654,
     "end_time": "2020-11-15T12:52:16.206692",
     "exception": false,
     "start_time": "2020-11-15T12:52:10.484038",
     "status": "completed"
    },
    "tags": []
   },
   "outputs": [],
   "source": [
    "DATA_DIR = '/kaggle/input/lish-moa/'\n",
    "train = pd.read_csv(DATA_DIR + 'train_features.csv')\n",
    "targets = pd.read_csv(DATA_DIR + 'train_targets_scored.csv')\n",
    "test = pd.read_csv(DATA_DIR + 'test_features.csv')\n",
    "sub = pd.read_csv(DATA_DIR + 'sample_submission.csv')\n",
    "drug = pd.read_csv(DATA_DIR + 'train_drug.csv')\n",
    "\n",
    "noncons_train_index = train[train.cp_type==\"ctl_vehicle\"].index\n",
    "cons_train_index = train[train.cp_type!=\"ctl_vehicle\"].index\n",
    "noncons_test_index = test[test.cp_type==\"ctl_vehicle\"].index\n",
    "cons_test_index = test[test.cp_type!=\"ctl_vehicle\"].index\n",
    "\n",
    "train = train[train.index.isin(cons_train_index)].copy().reset_index(drop=True)\n",
    "test = test[test.index.isin(cons_test_index)].copy().reset_index(drop=True)\n",
    "targets = targets[targets.index.isin(cons_train_index)].copy().reset_index(drop=True)"
   ]
  },
  {
   "cell_type": "code",
   "execution_count": 12,
   "metadata": {
    "execution": {
     "iopub.execute_input": "2020-11-15T12:52:16.256879Z",
     "iopub.status.busy": "2020-11-15T12:52:16.256138Z",
     "iopub.status.idle": "2020-11-15T12:52:16.260249Z",
     "shell.execute_reply": "2020-11-15T12:52:16.259632Z"
    },
    "papermill": {
     "duration": 0.031574,
     "end_time": "2020-11-15T12:52:16.260348",
     "exception": false,
     "start_time": "2020-11-15T12:52:16.228774",
     "status": "completed"
    },
    "tags": []
   },
   "outputs": [],
   "source": [
    "target_feats = [ i for i in targets.columns if i != \"sig_id\"]\n",
    "g_feats = [i for i in train.columns if \"g-\" in i]\n",
    "c_feats = [i for i in train.columns if \"c-\" in i]"
   ]
  },
  {
   "cell_type": "code",
   "execution_count": 13,
   "metadata": {
    "execution": {
     "iopub.execute_input": "2020-11-15T12:52:16.324931Z",
     "iopub.status.busy": "2020-11-15T12:52:16.320629Z",
     "iopub.status.idle": "2020-11-15T12:52:16.963645Z",
     "shell.execute_reply": "2020-11-15T12:52:16.964081Z"
    },
    "papermill": {
     "duration": 0.67854,
     "end_time": "2020-11-15T12:52:16.964228",
     "exception": false,
     "start_time": "2020-11-15T12:52:16.285688",
     "status": "completed"
    },
    "tags": []
   },
   "outputs": [
    {
     "data": {
      "text/plain": [
       "array([[6, 4, 3, ..., 3, 3, 2]], dtype=int8)"
      ]
     },
     "execution_count": 13,
     "metadata": {},
     "output_type": "execute_result"
    }
   ],
   "source": [
    "NB_SPLITS = 7\n",
    "seed = 34\n",
    "\n",
    "folds = []\n",
    "    \n",
    "# LOAD FILES\n",
    "train_score = targets.merge(drug, on='sig_id', how='left') \n",
    "\n",
    "# LOCATE DRUGS\n",
    "vc = train_score.drug_id.value_counts()\n",
    "vc1 = vc.loc[(vc==6)|(vc==12)|(vc==18)].index.sort_values()\n",
    "vc2 = vc.loc[(vc!=6)&(vc!=12)&(vc!=18)].index.sort_values()\n",
    "    \n",
    "# STRATIFY DRUGS 18X OR LESS\n",
    "dct1 = {}; dct2 = {}\n",
    "skf = MultilabelStratifiedKFold(n_splits = NB_SPLITS, shuffle = True, random_state = seed)\n",
    "tmp = train_score.groupby('drug_id')[target_feats].mean().loc[vc1]\n",
    "for fold,(idxT,idxV) in enumerate(skf.split(tmp,tmp[target_feats])):\n",
    "    dd = {k:fold for k in tmp.index[idxV].values}\n",
    "    dct1.update(dd)\n",
    "    \n",
    "# STRATIFY DRUGS MORE THAN 18X\n",
    "skf = MultilabelStratifiedKFold(n_splits = NB_SPLITS, shuffle = True, random_state = seed)\n",
    "tmp = train_score.loc[train_score.drug_id.isin(vc2)].reset_index(drop = True)\n",
    "for fold,(idxT,idxV) in enumerate(skf.split(tmp,tmp[target_feats])):\n",
    "    dd = {k:fold for k in tmp.sig_id[idxV].values}\n",
    "    dct2.update(dd)\n",
    "\n",
    "# ASSIGN FOLDS\n",
    "train_score['fold'] = train_score.drug_id.map(dct1)\n",
    "train_score.loc[train_score.fold.isna(),'fold'] = train_score.loc[train_score.fold.isna(),'sig_id'].map(dct2)\n",
    "train_score.fold = train_score.fold.astype('int8')\n",
    "folds.append(train_score.fold.values)\n",
    "    \n",
    "np.array(folds)"
   ]
  },
  {
   "cell_type": "code",
   "execution_count": 14,
   "metadata": {
    "execution": {
     "iopub.execute_input": "2020-11-15T12:52:17.017834Z",
     "iopub.status.busy": "2020-11-15T12:52:17.016868Z",
     "iopub.status.idle": "2020-11-15T12:52:17.023303Z",
     "shell.execute_reply": "2020-11-15T12:52:17.022681Z"
    },
    "papermill": {
     "duration": 0.035296,
     "end_time": "2020-11-15T12:52:17.023399",
     "exception": false,
     "start_time": "2020-11-15T12:52:16.988103",
     "status": "completed"
    },
    "tags": []
   },
   "outputs": [],
   "source": [
    "train = train.drop(g_feats + c_feats + [\"cp_type\"], axis=1)\n",
    "test = test.drop(g_feats + c_feats + [\"cp_type\"], axis=1)"
   ]
  },
  {
   "cell_type": "code",
   "execution_count": 15,
   "metadata": {
    "execution": {
     "iopub.execute_input": "2020-11-15T12:52:17.078237Z",
     "iopub.status.busy": "2020-11-15T12:52:17.076874Z",
     "iopub.status.idle": "2020-11-15T12:52:17.802499Z",
     "shell.execute_reply": "2020-11-15T12:52:17.801959Z"
    },
    "papermill": {
     "duration": 0.756517,
     "end_time": "2020-11-15T12:52:17.802615",
     "exception": false,
     "start_time": "2020-11-15T12:52:17.046098",
     "status": "completed"
    },
    "tags": []
   },
   "outputs": [],
   "source": [
    "train = train.merge(transformed_features, on=\"sig_id\", how=\"left\")\n",
    "test = test.merge(transformed_features, on=\"sig_id\", how=\"left\")"
   ]
  },
  {
   "cell_type": "code",
   "execution_count": 16,
   "metadata": {
    "execution": {
     "iopub.execute_input": "2020-11-15T12:52:17.855281Z",
     "iopub.status.busy": "2020-11-15T12:52:17.854128Z",
     "iopub.status.idle": "2020-11-15T12:52:18.375772Z",
     "shell.execute_reply": "2020-11-15T12:52:18.374920Z"
    },
    "papermill": {
     "duration": 0.550273,
     "end_time": "2020-11-15T12:52:18.375945",
     "exception": false,
     "start_time": "2020-11-15T12:52:17.825672",
     "status": "completed"
    },
    "tags": []
   },
   "outputs": [],
   "source": [
    "def fe(df):\n",
    "    tmp = df.copy()\n",
    "    tmp = pd.get_dummies(tmp, columns=['cp_time','cp_dose'])\n",
    "    tmp.drop([\"sig_id\"], axis=1, inplace=True)\n",
    "    return tmp\n",
    "train = fe(train)\n",
    "test = fe(test)"
   ]
  },
  {
   "cell_type": "code",
   "execution_count": 17,
   "metadata": {
    "execution": {
     "iopub.execute_input": "2020-11-15T12:52:18.459396Z",
     "iopub.status.busy": "2020-11-15T12:52:18.458312Z",
     "iopub.status.idle": "2020-11-15T12:52:18.461767Z",
     "shell.execute_reply": "2020-11-15T12:52:18.460301Z"
    },
    "papermill": {
     "duration": 0.04689,
     "end_time": "2020-11-15T12:52:18.461925",
     "exception": false,
     "start_time": "2020-11-15T12:52:18.415035",
     "status": "completed"
    },
    "tags": []
   },
   "outputs": [],
   "source": [
    "#train[\"fold\"] = np.array(folds).reshape(-1,1)"
   ]
  },
  {
   "cell_type": "code",
   "execution_count": 18,
   "metadata": {
    "execution": {
     "iopub.execute_input": "2020-11-15T12:52:18.754040Z",
     "iopub.status.busy": "2020-11-15T12:52:18.752730Z",
     "iopub.status.idle": "2020-11-15T12:52:19.065019Z",
     "shell.execute_reply": "2020-11-15T12:52:19.066093Z"
    },
    "papermill": {
     "duration": 0.56716,
     "end_time": "2020-11-15T12:52:19.066282",
     "exception": false,
     "start_time": "2020-11-15T12:52:18.499122",
     "status": "completed"
    },
    "tags": []
   },
   "outputs": [],
   "source": [
    "fn_train = train.copy().to_numpy()\n",
    "fn_test = test.copy().to_numpy()\n",
    "\n",
    "fn_targets = targets.drop(\"sig_id\", axis=1).copy().to_numpy()"
   ]
  },
  {
   "cell_type": "code",
   "execution_count": 19,
   "metadata": {
    "execution": {
     "iopub.execute_input": "2020-11-15T12:52:19.307674Z",
     "iopub.status.busy": "2020-11-15T12:52:19.307022Z",
     "iopub.status.idle": "2020-11-15T12:52:19.311698Z",
     "shell.execute_reply": "2020-11-15T12:52:19.310869Z"
    },
    "papermill": {
     "duration": 0.067959,
     "end_time": "2020-11-15T12:52:19.311808",
     "exception": false,
     "start_time": "2020-11-15T12:52:19.243849",
     "status": "completed"
    },
    "tags": []
   },
   "outputs": [],
   "source": [
    "class SmoothCrossEntropyLoss(_WeightedLoss):\n",
    "    def __init__(self, weight=None, reduction='mean', smoothing=0.0):\n",
    "        super().__init__(weight=weight, reduction=reduction)\n",
    "        self.smoothing = smoothing\n",
    "        self.weight = weight\n",
    "        self.reduction = reduction\n",
    "\n",
    "    @staticmethod\n",
    "    def _smooth(targets, n_classes, smoothing=0.0):\n",
    "        assert 0 <= smoothing <= 1\n",
    "        with torch.no_grad():\n",
    "            targets = targets * (1 - smoothing) + torch.ones_like(targets).to(device) * smoothing / n_classes\n",
    "        return targets\n",
    "\n",
    "    def forward(self, inputs, targets):\n",
    "        targets = SmoothCrossEntropyLoss()._smooth(targets, inputs.shape[1], self.smoothing)\n",
    "\n",
    "        if self.weight is not None:\n",
    "            inputs = inputs * self.weight.unsqueeze(0)\n",
    "\n",
    "        loss = F.binary_cross_entropy_with_logits(inputs, targets)\n",
    "\n",
    "        return loss"
   ]
  },
  {
   "cell_type": "code",
   "execution_count": 20,
   "metadata": {
    "execution": {
     "iopub.execute_input": "2020-11-15T12:52:19.371972Z",
     "iopub.status.busy": "2020-11-15T12:52:19.371247Z",
     "iopub.status.idle": "2020-11-15T12:52:19.375023Z",
     "shell.execute_reply": "2020-11-15T12:52:19.374533Z"
    },
    "papermill": {
     "duration": 0.039911,
     "end_time": "2020-11-15T12:52:19.375136",
     "exception": false,
     "start_time": "2020-11-15T12:52:19.335225",
     "status": "completed"
    },
    "tags": []
   },
   "outputs": [],
   "source": [
    "class Model(nn.Module):\n",
    "    def __init__(self, num_features, num_targets, hidden_size1=1024,hidden_size2=1024,drop_rate1=0.1,drop_rate2=0.3,drop_rate3=0.3):\n",
    "        super(Model, self).__init__()\n",
    "        self.batch_norm1 = nn.BatchNorm1d(num_features)\n",
    "        self.dropout1 = nn.Dropout(drop_rate1)\n",
    "        self.dense1 = nn.utils.weight_norm(nn.Linear(num_features, hidden_size1))\n",
    "\n",
    "        self.batch_norm2 = nn.BatchNorm1d(hidden_size1)\n",
    "        self.dropout2 = nn.Dropout(drop_rate2)\n",
    "        self.dense2 = nn.utils.weight_norm(nn.Linear(hidden_size1, hidden_size2))\n",
    "\n",
    "        self.batch_norm3 = nn.BatchNorm1d(hidden_size2)\n",
    "        self.dropout3 = nn.Dropout(drop_rate3)\n",
    "        self.dense3 = nn.utils.weight_norm(nn.Linear(hidden_size2, num_targets))\n",
    "        \n",
    "    def forward(self, x):\n",
    "        \n",
    "        x = self.batch_norm1(x)\n",
    "        x = self.dropout1(x)\n",
    "        x = F.relu(self.dense1(x))\n",
    "        \n",
    "        x = self.batch_norm2(x)\n",
    "        x = self.dropout2(x)\n",
    "        x = F.relu(self.dense2(x))\n",
    "        \n",
    "        x = self.batch_norm3(x)\n",
    "        x = self.dropout3(x)\n",
    "        x = self.dense3(x)\n",
    "        \n",
    "        return x"
   ]
  },
  {
   "cell_type": "code",
   "execution_count": 21,
   "metadata": {
    "execution": {
     "iopub.execute_input": "2020-11-15T12:52:19.450342Z",
     "iopub.status.busy": "2020-11-15T12:52:19.434791Z",
     "iopub.status.idle": "2020-11-15T12:52:19.470933Z",
     "shell.execute_reply": "2020-11-15T12:52:19.470462Z"
    },
    "papermill": {
     "duration": 0.072681,
     "end_time": "2020-11-15T12:52:19.471040",
     "exception": false,
     "start_time": "2020-11-15T12:52:19.398359",
     "status": "completed"
    },
    "tags": []
   },
   "outputs": [],
   "source": [
    "#params for one cycle schedule\n",
    "device = ('cuda' if torch.cuda.is_available() else 'cpu')\n",
    "train_epochs = 30\n",
    "batch_size = 256\n",
    "n_folds = 7\n",
    "\n",
    "smoothing = 0.001\n",
    "p_min = smoothing\n",
    "p_max = 1 - p_min\n",
    "\n",
    "def mean_log_loss(y_true, y_pred):\n",
    "    metrics = []\n",
    "    for i, target in enumerate(target_feats):\n",
    "        metrics.append(log_loss(y_true[:, i], y_pred[:, i].astype(float), labels=[0,1]))\n",
    "    return np.mean(metrics)\n",
    "\n",
    "def modelling_dae(tr, target, te, sample_seed, init_num, last_num):\n",
    "    seed_everything(seed=sample_seed) \n",
    "    X_train = tr.copy()\n",
    "    y_train = target.copy()\n",
    "    X_test = te.copy()\n",
    "    test_len = X_test.shape[0]\n",
    "    \n",
    "    metric = lambda inputs, targets : F.binary_cross_entropy((torch.clamp(torch.sigmoid(inputs), p_min, p_max)), targets)\n",
    "\n",
    "    models = []\n",
    "    \n",
    "    X_test2 = torch.tensor(X_test, dtype=torch.float32)\n",
    "    test = torch.utils.data.TensorDataset(X_test2) \n",
    "    test_loader = torch.utils.data.DataLoader(test, batch_size=batch_size, shuffle=False)\n",
    "    \n",
    "    oof = np.zeros([len(X_train),y_train.shape[1]])\n",
    "    oof_targets = np.zeros([len(X_train),y_train.shape[1]])\n",
    "    pred_value = np.zeros([test_len, y_train.shape[1]])\n",
    "    scores = []\n",
    "    mskf=MultilabelStratifiedKFold(n_splits = n_folds, shuffle=True, random_state=224)\n",
    "    for fold, (train_index, valid_index) in enumerate(mskf.split(X_train, y_train)):\n",
    "        print(\"Fold \"+str(fold+1))\n",
    "        X_train2 = torch.tensor(X_train[train_index,:], dtype=torch.float32)\n",
    "        X_valid2 = torch.tensor(X_train[valid_index,:], dtype=torch.float32)\n",
    "\n",
    "        y_train2 = torch.tensor(y_train[train_index], dtype=torch.float32)\n",
    "        y_valid2 = torch.tensor(y_train[valid_index], dtype=torch.float32)\n",
    "        \n",
    "        train = torch.utils.data.TensorDataset(X_train2, y_train2)\n",
    "        valid = torch.utils.data.TensorDataset(X_valid2, y_valid2)\n",
    "        \n",
    "        train_loader = torch.utils.data.DataLoader(train, batch_size=batch_size, shuffle=True) \n",
    "        valid_loader = torch.utils.data.DataLoader(valid, batch_size=batch_size, shuffle=False)\n",
    "            \n",
    "        clf = Model(init_num, last_num)\n",
    "        loss_fn = SmoothCrossEntropyLoss(smoothing=smoothing)\n",
    "\n",
    "        optimizer = optim.Adam(clf.parameters(), lr = 5e-3, weight_decay=1e-5) \n",
    "        scheduler = optim.lr_scheduler.ReduceLROnPlateau(optimizer, patience=3, factor=0.1, eps=1e-4, verbose=True)                   \n",
    "        \n",
    "        clf.to(device)\n",
    "        \n",
    "        best_val_loss = np.inf\n",
    "        stop_counts = 0\n",
    "        for epoch in range(train_epochs):\n",
    "            start_time = time.time()\n",
    "            clf.train()\n",
    "            avg_loss = 0.\n",
    "            sm_avg_loss = 0.\n",
    "            for x_batch, y_batch in tqdm(train_loader, disable=True):\n",
    "                x_batch = x_batch.to(device)\n",
    "                y_batch = y_batch.to(device)\n",
    "                y_pred = clf(x_batch) \n",
    "                loss = loss_fn(y_pred, y_batch)\n",
    "                optimizer.zero_grad()\n",
    "                loss.backward()\n",
    "                optimizer.step()\n",
    "                avg_loss += loss.item() / len(train_loader)  \n",
    "                sm_avg_loss += metric(y_pred, y_batch) / len(train_loader) \n",
    "                \n",
    "            clf.eval()\n",
    "            avg_val_loss = 0.\n",
    "            sm_avg_val_loss = 0.\n",
    "            for i, (x_batch, y_batch) in enumerate(valid_loader): \n",
    "                x_batch = x_batch.to(device)\n",
    "                y_batch = y_batch.to(device)\n",
    "                y_pred = clf(x_batch).detach()\n",
    "                avg_val_loss += loss_fn(y_pred, y_batch).item() / len(valid_loader)\n",
    "                sm_avg_val_loss += metric(y_pred, y_batch) / len(valid_loader)\n",
    "        \n",
    "            elapsed_time = time.time() - start_time \n",
    "            scheduler.step(sm_avg_val_loss)\n",
    "                    \n",
    "            if sm_avg_val_loss < best_val_loss:\n",
    "                best_val_loss = sm_avg_val_loss\n",
    "                print('Epoch {}  loss={:.5f}  val_loss={:.5f}  sm_loss={:.5f}  sm_val_loss={:.5f}  time={:.2f}s'.format(\n",
    "                    epoch + 1, avg_loss, avg_val_loss, sm_avg_loss, sm_avg_val_loss, elapsed_time))\n",
    "                torch.save(clf.state_dict(), 'best-model-parameters.pt')\n",
    "            else:\n",
    "                stop_counts += 1\n",
    "        \n",
    "        pred_model = Model(init_num, last_num)\n",
    "        pred_model.load_state_dict(torch.load('best-model-parameters.pt'))         \n",
    "        pred_model.eval()\n",
    "        \n",
    "        # validation check ----------------\n",
    "        oof_epoch = np.zeros([X_valid2.size(0), y_train.shape[1]])\n",
    "        target_epoch = np.zeros([X_valid2.size(0), y_train.shape[1]])\n",
    "        for i, (x_batch, y_batch) in enumerate(valid_loader): \n",
    "                y_pred = pred_model(x_batch).detach()\n",
    "                oof_epoch[i * batch_size:(i+1) * batch_size,:] = torch.clamp(torch.sigmoid(y_pred.cpu()), p_min, p_max)\n",
    "                target_epoch[i * batch_size:(i+1) * batch_size,:] = y_batch.cpu().numpy()\n",
    "        print(\"Fold {} log loss: {}\".format(fold+1, mean_log_loss(target_epoch, oof_epoch)))\n",
    "        scores.append(mean_log_loss(target_epoch, oof_epoch))\n",
    "        oof[valid_index,:] = oof_epoch\n",
    "        oof_targets[valid_index,:] = target_epoch\n",
    "        #-----------------------------------\n",
    "        \n",
    "        # test predcition --------------\n",
    "        test_preds = np.zeros([test_len, y_train.shape[1]])\n",
    "        for i, (x_batch,) in enumerate(test_loader): \n",
    "            y_pred = pred_model(x_batch).detach()\n",
    "            test_preds[i * batch_size:(i+1) * batch_size, :] = torch.clamp(torch.sigmoid(y_pred.cpu()), p_min, p_max)\n",
    "        pred_value += test_preds / n_folds\n",
    "        # ------------------------------\n",
    "        \n",
    "    print(\"Seed {}\".format(seed_))\n",
    "    for i, ele in enumerate(scores):\n",
    "        print(\"Fold {} log loss: {}\".format(i+1, scores[i]))\n",
    "    print(\"Std of log loss: {}\".format(np.std(scores)))\n",
    "    print(\"Total log loss: {}\".format(mean_log_loss(oof_targets, oof)))\n",
    "    \n",
    "    return oof, oof_targets, pred_value"
   ]
  },
  {
   "cell_type": "code",
   "execution_count": 22,
   "metadata": {
    "execution": {
     "iopub.execute_input": "2020-11-15T12:52:19.530778Z",
     "iopub.status.busy": "2020-11-15T12:52:19.528934Z",
     "iopub.status.idle": "2020-11-15T12:52:19.531462Z",
     "shell.execute_reply": "2020-11-15T12:52:19.531947Z"
    },
    "papermill": {
     "duration": 0.037351,
     "end_time": "2020-11-15T12:52:19.532066",
     "exception": false,
     "start_time": "2020-11-15T12:52:19.494715",
     "status": "completed"
    },
    "tags": []
   },
   "outputs": [],
   "source": [
    "#    for fold in range(n_folds):\n",
    "#        valid_index = X_train[:,-1] == fold\n",
    "#        train_index = X_train[:,-1] != fold\n",
    "#        print(\"Fold \"+str(fold+1))\n",
    "#        X_train2 = torch.tensor(X_train[train_index,:], dtype=torch.float32)\n",
    "#        X_valid2 = torch.tensor(X_train[valid_index,:], dtype=torch.float32)\n",
    "#        X_train2 = X_train2[:,:-1]\n",
    "#        X_valid2 = X_valid2[:,:-1]"
   ]
  },
  {
   "cell_type": "code",
   "execution_count": 23,
   "metadata": {
    "execution": {
     "iopub.execute_input": "2020-11-15T12:52:19.596686Z",
     "iopub.status.busy": "2020-11-15T12:52:19.595605Z",
     "iopub.status.idle": "2020-11-15T12:54:58.481989Z",
     "shell.execute_reply": "2020-11-15T12:54:58.481294Z"
    },
    "papermill": {
     "duration": 158.925972,
     "end_time": "2020-11-15T12:54:58.482120",
     "exception": false,
     "start_time": "2020-11-15T12:52:19.556148",
     "status": "completed"
    },
    "tags": []
   },
   "outputs": [
    {
     "name": "stdout",
     "output_type": "stream",
     "text": [
      "Fold 1\n",
      "Epoch 1  loss=0.20983  val_loss=0.02300  sm_loss=0.20979  sm_val_loss=0.02299  time=0.69s\n",
      "Epoch 2  loss=0.02125  val_loss=0.02087  sm_loss=0.02124  sm_val_loss=0.02087  time=0.63s\n",
      "Epoch 3  loss=0.01950  val_loss=0.01886  sm_loss=0.01951  sm_val_loss=0.01886  time=0.81s\n",
      "Epoch 4  loss=0.01835  val_loss=0.01805  sm_loss=0.01840  sm_val_loss=0.01807  time=0.65s\n",
      "Epoch 5  loss=0.01762  val_loss=0.01801  sm_loss=0.01770  sm_val_loss=0.01804  time=0.62s\n",
      "Epoch 6  loss=0.01731  val_loss=0.01774  sm_loss=0.01741  sm_val_loss=0.01783  time=0.62s\n",
      "Epoch 7  loss=0.01692  val_loss=0.01774  sm_loss=0.01705  sm_val_loss=0.01782  time=0.60s\n",
      "Epoch 8  loss=0.01681  val_loss=0.01744  sm_loss=0.01694  sm_val_loss=0.01756  time=0.61s\n",
      "Epoch    12: reducing learning rate of group 0 to 5.0000e-04.\n",
      "Epoch 13  loss=0.01546  val_loss=0.01689  sm_loss=0.01564  sm_val_loss=0.01703  time=0.61s\n",
      "Epoch 14  loss=0.01480  val_loss=0.01687  sm_loss=0.01499  sm_val_loss=0.01701  time=0.60s\n",
      "Epoch    18: reducing learning rate of group 0 to 5.0000e-05.\n",
      "Fold 1 log loss: 0.01722277489838017\n",
      "Fold 2\n",
      "Epoch 1  loss=0.20586  val_loss=0.02240  sm_loss=0.20578  sm_val_loss=0.02240  time=0.63s\n",
      "Epoch 2  loss=0.02116  val_loss=0.02066  sm_loss=0.02114  sm_val_loss=0.02066  time=0.74s\n",
      "Epoch 3  loss=0.01934  val_loss=0.01905  sm_loss=0.01935  sm_val_loss=0.01907  time=0.70s\n",
      "Epoch 4  loss=0.01827  val_loss=0.01872  sm_loss=0.01832  sm_val_loss=0.01873  time=0.74s\n",
      "Epoch 5  loss=0.01760  val_loss=0.01810  sm_loss=0.01768  sm_val_loss=0.01816  time=0.62s\n",
      "Epoch 6  loss=0.01731  val_loss=0.01797  sm_loss=0.01740  sm_val_loss=0.01807  time=0.62s\n",
      "Epoch 7  loss=0.01698  val_loss=0.01759  sm_loss=0.01710  sm_val_loss=0.01770  time=0.62s\n",
      "Epoch 10  loss=0.01661  val_loss=0.01756  sm_loss=0.01676  sm_val_loss=0.01767  time=0.61s\n",
      "Epoch    14: reducing learning rate of group 0 to 5.0000e-04.\n",
      "Epoch 15  loss=0.01559  val_loss=0.01705  sm_loss=0.01576  sm_val_loss=0.01718  time=0.61s\n",
      "Epoch 16  loss=0.01496  val_loss=0.01697  sm_loss=0.01514  sm_val_loss=0.01710  time=0.63s\n",
      "Epoch    20: reducing learning rate of group 0 to 5.0000e-05.\n",
      "Fold 2 log loss: 0.017137349313961825\n",
      "Fold 3\n",
      "Epoch 1  loss=0.21037  val_loss=0.02240  sm_loss=0.21026  sm_val_loss=0.02239  time=0.63s\n",
      "Epoch 2  loss=0.02125  val_loss=0.02008  sm_loss=0.02125  sm_val_loss=0.02007  time=0.60s\n",
      "Epoch 3  loss=0.01945  val_loss=0.01837  sm_loss=0.01946  sm_val_loss=0.01839  time=0.81s\n",
      "Epoch 4  loss=0.01841  val_loss=0.01776  sm_loss=0.01847  sm_val_loss=0.01780  time=0.63s\n",
      "Epoch 5  loss=0.01771  val_loss=0.01744  sm_loss=0.01780  sm_val_loss=0.01753  time=0.61s\n",
      "Epoch 6  loss=0.01732  val_loss=0.01718  sm_loss=0.01743  sm_val_loss=0.01729  time=0.88s\n",
      "Epoch 9  loss=0.01670  val_loss=0.01711  sm_loss=0.01685  sm_val_loss=0.01725  time=0.61s\n",
      "Epoch 11  loss=0.01658  val_loss=0.01702  sm_loss=0.01674  sm_val_loss=0.01717  time=0.63s\n",
      "Epoch    15: reducing learning rate of group 0 to 5.0000e-04.\n",
      "Epoch 16  loss=0.01557  val_loss=0.01651  sm_loss=0.01574  sm_val_loss=0.01666  time=0.61s\n",
      "Epoch 17  loss=0.01490  val_loss=0.01647  sm_loss=0.01508  sm_val_loss=0.01661  time=0.62s\n",
      "Epoch    21: reducing learning rate of group 0 to 5.0000e-05.\n",
      "Fold 3 log loss: 0.01681132434371775\n",
      "Fold 4\n",
      "Epoch 1  loss=0.21550  val_loss=0.02257  sm_loss=0.21546  sm_val_loss=0.02256  time=0.60s\n",
      "Epoch 2  loss=0.02130  val_loss=0.02059  sm_loss=0.02129  sm_val_loss=0.02058  time=0.82s\n",
      "Epoch 3  loss=0.01944  val_loss=0.01897  sm_loss=0.01946  sm_val_loss=0.01898  time=0.65s\n",
      "Epoch 4  loss=0.01849  val_loss=0.01818  sm_loss=0.01853  sm_val_loss=0.01822  time=0.63s\n",
      "Epoch 5  loss=0.01776  val_loss=0.01799  sm_loss=0.01783  sm_val_loss=0.01807  time=0.66s\n",
      "Epoch 6  loss=0.01734  val_loss=0.01783  sm_loss=0.01745  sm_val_loss=0.01792  time=0.63s\n",
      "Epoch 7  loss=0.01707  val_loss=0.01751  sm_loss=0.01720  sm_val_loss=0.01764  time=0.64s\n",
      "Epoch 11  loss=0.01657  val_loss=0.01752  sm_loss=0.01673  sm_val_loss=0.01763  time=0.61s\n",
      "Epoch 13  loss=0.01646  val_loss=0.01741  sm_loss=0.01662  sm_val_loss=0.01753  time=0.60s\n",
      "Epoch    17: reducing learning rate of group 0 to 5.0000e-04.\n",
      "Epoch 18  loss=0.01568  val_loss=0.01694  sm_loss=0.01585  sm_val_loss=0.01707  time=0.84s\n",
      "Epoch 19  loss=0.01502  val_loss=0.01684  sm_loss=0.01521  sm_val_loss=0.01697  time=0.61s\n",
      "Epoch    23: reducing learning rate of group 0 to 5.0000e-05.\n",
      "Fold 4 log loss: 0.017142427195160008\n",
      "Fold 5\n",
      "Epoch 1  loss=0.20221  val_loss=0.02281  sm_loss=0.20217  sm_val_loss=0.02280  time=0.64s\n",
      "Epoch 2  loss=0.02125  val_loss=0.02087  sm_loss=0.02124  sm_val_loss=0.02086  time=0.74s\n",
      "Epoch 3  loss=0.01941  val_loss=0.01895  sm_loss=0.01943  sm_val_loss=0.01898  time=0.63s\n",
      "Epoch 4  loss=0.01834  val_loss=0.01870  sm_loss=0.01838  sm_val_loss=0.01872  time=0.60s\n",
      "Epoch 5  loss=0.01790  val_loss=0.01855  sm_loss=0.01796  sm_val_loss=0.01858  time=0.60s\n",
      "Epoch 6  loss=0.01727  val_loss=0.01778  sm_loss=0.01738  sm_val_loss=0.01787  time=0.63s\n",
      "Epoch 9  loss=0.01666  val_loss=0.01770  sm_loss=0.01680  sm_val_loss=0.01782  time=0.61s\n",
      "Epoch 10  loss=0.01661  val_loss=0.01766  sm_loss=0.01675  sm_val_loss=0.01779  time=0.61s\n",
      "Epoch    14: reducing learning rate of group 0 to 5.0000e-04.\n",
      "Epoch 15  loss=0.01553  val_loss=0.01725  sm_loss=0.01570  sm_val_loss=0.01737  time=0.65s\n",
      "Epoch 16  loss=0.01487  val_loss=0.01716  sm_loss=0.01505  sm_val_loss=0.01729  time=0.77s\n",
      "Epoch    20: reducing learning rate of group 0 to 5.0000e-05.\n",
      "Fold 5 log loss: 0.017364794232994904\n",
      "Fold 6\n",
      "Epoch 1  loss=0.19349  val_loss=0.02242  sm_loss=0.19347  sm_val_loss=0.02241  time=0.61s\n",
      "Epoch 2  loss=0.02115  val_loss=0.02044  sm_loss=0.02115  sm_val_loss=0.02043  time=0.63s\n",
      "Epoch 3  loss=0.01943  val_loss=0.01876  sm_loss=0.01944  sm_val_loss=0.01879  time=0.89s\n",
      "Epoch 4  loss=0.01847  val_loss=0.01814  sm_loss=0.01851  sm_val_loss=0.01820  time=0.63s\n",
      "Epoch 5  loss=0.01774  val_loss=0.01778  sm_loss=0.01781  sm_val_loss=0.01785  time=0.60s\n",
      "Epoch 6  loss=0.01720  val_loss=0.01771  sm_loss=0.01730  sm_val_loss=0.01780  time=1.45s\n",
      "Epoch 8  loss=0.01677  val_loss=0.01749  sm_loss=0.01692  sm_val_loss=0.01762  time=0.63s\n",
      "Epoch 10  loss=0.01663  val_loss=0.01735  sm_loss=0.01678  sm_val_loss=0.01748  time=0.69s\n",
      "Epoch 13  loss=0.01653  val_loss=0.01722  sm_loss=0.01668  sm_val_loss=0.01734  time=0.62s\n",
      "Epoch    17: reducing learning rate of group 0 to 5.0000e-04.\n",
      "Epoch 18  loss=0.01569  val_loss=0.01677  sm_loss=0.01586  sm_val_loss=0.01690  time=0.77s\n",
      "Epoch 19  loss=0.01504  val_loss=0.01673  sm_loss=0.01522  sm_val_loss=0.01687  time=0.64s\n",
      "Epoch 20  loss=0.01465  val_loss=0.01672  sm_loss=0.01484  sm_val_loss=0.01685  time=0.64s\n",
      "Epoch    24: reducing learning rate of group 0 to 5.0000e-05.\n",
      "Fold 6 log loss: 0.016824435988740852\n",
      "Fold 7\n",
      "Epoch 1  loss=0.22287  val_loss=0.02272  sm_loss=0.22275  sm_val_loss=0.02271  time=0.75s\n",
      "Epoch 2  loss=0.02121  val_loss=0.02062  sm_loss=0.02121  sm_val_loss=0.02061  time=0.75s\n",
      "Epoch 3  loss=0.01940  val_loss=0.01911  sm_loss=0.01942  sm_val_loss=0.01910  time=0.67s\n",
      "Epoch 4  loss=0.01839  val_loss=0.01814  sm_loss=0.01844  sm_val_loss=0.01816  time=0.65s\n",
      "Epoch 5  loss=0.01770  val_loss=0.01814  sm_loss=0.01778  sm_val_loss=0.01813  time=0.66s\n",
      "Epoch 6  loss=0.01734  val_loss=0.01776  sm_loss=0.01745  sm_val_loss=0.01786  time=0.64s\n",
      "Epoch 7  loss=0.01709  val_loss=0.01764  sm_loss=0.01721  sm_val_loss=0.01775  time=0.63s\n",
      "Epoch 8  loss=0.01689  val_loss=0.01753  sm_loss=0.01702  sm_val_loss=0.01765  time=0.76s\n",
      "Epoch 11  loss=0.01668  val_loss=0.01751  sm_loss=0.01683  sm_val_loss=0.01765  time=0.61s\n",
      "Epoch 12  loss=0.01667  val_loss=0.01749  sm_loss=0.01682  sm_val_loss=0.01763  time=0.62s\n",
      "Epoch    16: reducing learning rate of group 0 to 5.0000e-04.\n",
      "Epoch 17  loss=0.01579  val_loss=0.01693  sm_loss=0.01596  sm_val_loss=0.01707  time=0.72s\n",
      "Epoch 18  loss=0.01519  val_loss=0.01690  sm_loss=0.01537  sm_val_loss=0.01704  time=0.70s\n",
      "Epoch 19  loss=0.01487  val_loss=0.01689  sm_loss=0.01505  sm_val_loss=0.01703  time=0.62s\n",
      "Epoch    23: reducing learning rate of group 0 to 5.0000e-05.\n",
      "Fold 7 log loss: 0.016954252830765043\n",
      "Seed 0\n",
      "Fold 1 log loss: 0.01722277489838017\n",
      "Fold 2 log loss: 0.017137349313961825\n",
      "Fold 3 log loss: 0.01681132434371775\n",
      "Fold 4 log loss: 0.017142427195160008\n",
      "Fold 5 log loss: 0.017364794232994904\n",
      "Fold 6 log loss: 0.016824435988740852\n",
      "Fold 7 log loss: 0.016954252830765043\n",
      "Std of log loss: 0.00019290464603126452\n",
      "Total log loss: 0.017065348835704465\n",
      "Total log loss in targets: 0.017065348835704465\n"
     ]
    }
   ],
   "source": [
    "seeds = [0]\n",
    "target_oof = np.zeros([len(fn_train),fn_targets.shape[1]])\n",
    "target_pred = np.zeros([len(fn_test),fn_targets.shape[1]])\n",
    "\n",
    "for seed_ in seeds:\n",
    "    oof, oof_targets, pytorch_pred = modelling_dae(fn_train, fn_targets, fn_test, seed_, fn_train.shape[1], fn_targets.shape[1])\n",
    "    target_oof += oof / len(seeds)\n",
    "    target_pred += pytorch_pred / len(seeds)\n",
    "\n",
    "print(\"Total log loss in targets: {}\".format(mean_log_loss(oof_targets, target_oof)))"
   ]
  },
  {
   "cell_type": "code",
   "execution_count": 24,
   "metadata": {
    "execution": {
     "iopub.execute_input": "2020-11-15T12:54:58.612897Z",
     "iopub.status.busy": "2020-11-15T12:54:58.612072Z",
     "iopub.status.idle": "2020-11-15T12:55:04.396583Z",
     "shell.execute_reply": "2020-11-15T12:55:04.396031Z"
    },
    "papermill": {
     "duration": 5.855478,
     "end_time": "2020-11-15T12:55:04.396690",
     "exception": false,
     "start_time": "2020-11-15T12:54:58.541212",
     "status": "completed"
    },
    "tags": []
   },
   "outputs": [
    {
     "name": "stdout",
     "output_type": "stream",
     "text": [
      "OOF log loss:  0.015728154709248494\n"
     ]
    }
   ],
   "source": [
    "t = pd.read_csv(DATA_DIR + 'train_targets_scored.csv')\n",
    "train_checkscore = t.copy()\n",
    "train_checkscore.loc[train_checkscore.index.isin(cons_train_index),target_feats] = target_oof\n",
    "train_checkscore.loc[train_checkscore.index.isin(noncons_train_index),target_feats] = 0\n",
    "t.drop(\"sig_id\", axis=1, inplace=True)\n",
    "print('OOF log loss: ', log_loss(np.ravel(t), np.ravel(np.array(train_checkscore.iloc[:,1:]))))"
   ]
  },
  {
   "cell_type": "code",
   "execution_count": 25,
   "metadata": {
    "execution": {
     "iopub.execute_input": "2020-11-15T12:55:04.520946Z",
     "iopub.status.busy": "2020-11-15T12:55:04.520129Z",
     "iopub.status.idle": "2020-11-15T12:55:15.709446Z",
     "shell.execute_reply": "2020-11-15T12:55:15.707932Z"
    },
    "papermill": {
     "duration": 11.253134,
     "end_time": "2020-11-15T12:55:15.709574",
     "exception": false,
     "start_time": "2020-11-15T12:55:04.456440",
     "status": "completed"
    },
    "tags": []
   },
   "outputs": [],
   "source": [
    "train_checkscore.to_csv(\"dae_oof.csv\", index=False)"
   ]
  },
  {
   "cell_type": "code",
   "execution_count": 26,
   "metadata": {
    "execution": {
     "iopub.execute_input": "2020-11-15T12:55:15.860129Z",
     "iopub.status.busy": "2020-11-15T12:55:15.858894Z",
     "iopub.status.idle": "2020-11-15T12:55:18.101529Z",
     "shell.execute_reply": "2020-11-15T12:55:18.100944Z"
    },
    "papermill": {
     "duration": 2.313253,
     "end_time": "2020-11-15T12:55:18.101651",
     "exception": false,
     "start_time": "2020-11-15T12:55:15.788398",
     "status": "completed"
    },
    "tags": []
   },
   "outputs": [],
   "source": [
    "sub.loc[cons_test_index, target_feats] = target_pred\n",
    "sub.loc[noncons_test_index,target_feats] = 0\n",
    "sub.to_csv('submission.csv', index=False)"
   ]
  },
  {
   "cell_type": "code",
   "execution_count": null,
   "metadata": {
    "papermill": {
     "duration": 0.059383,
     "end_time": "2020-11-15T12:55:18.221361",
     "exception": false,
     "start_time": "2020-11-15T12:55:18.161978",
     "status": "completed"
    },
    "tags": []
   },
   "outputs": [],
   "source": []
  }
 ],
 "metadata": {
  "kernelspec": {
   "display_name": "Python 3",
   "language": "python",
   "name": "python3"
  },
  "language_info": {
   "codemirror_mode": {
    "name": "ipython",
    "version": 3
   },
   "file_extension": ".py",
   "mimetype": "text/x-python",
   "name": "python",
   "nbconvert_exporter": "python",
   "pygments_lexer": "ipython3",
   "version": "3.7.6"
  },
  "papermill": {
   "duration": 240.063872,
   "end_time": "2020-11-15T12:55:19.789941",
   "environment_variables": {},
   "exception": null,
   "input_path": "__notebook__.ipynb",
   "output_path": "__notebook__.ipynb",
   "parameters": {},
   "start_time": "2020-11-15T12:51:19.726069",
   "version": "2.1.0"
  }
 },
 "nbformat": 4,
 "nbformat_minor": 4
}
