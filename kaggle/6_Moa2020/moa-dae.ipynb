{
 "cells": [
  {
   "cell_type": "markdown",
   "metadata": {
    "papermill": {
     "duration": 0.029473,
     "end_time": "2020-11-11T04:23:56.545872",
     "exception": false,
     "start_time": "2020-11-11T04:23:56.516399",
     "status": "completed"
    },
    "tags": []
   },
   "source": [
    "- change learning rate"
   ]
  },
  {
   "cell_type": "code",
   "execution_count": 1,
   "metadata": {
    "_cell_guid": "b1076dfc-b9ad-4769-8c92-a6c4dae69d19",
    "_uuid": "8f2839f25d086af736a60e9eeb907d3b93b6e0e5",
    "execution": {
     "iopub.execute_input": "2020-11-11T04:23:56.616993Z",
     "iopub.status.busy": "2020-11-11T04:23:56.616106Z",
     "iopub.status.idle": "2020-11-11T04:24:06.512484Z",
     "shell.execute_reply": "2020-11-11T04:24:06.511653Z"
    },
    "papermill": {
     "duration": 9.937983,
     "end_time": "2020-11-11T04:24:06.512644",
     "exception": false,
     "start_time": "2020-11-11T04:23:56.574661",
     "status": "completed"
    },
    "tags": []
   },
   "outputs": [],
   "source": [
    "import os\n",
    "import sys\n",
    "import random\n",
    "import warnings\n",
    "import numpy as np\n",
    "import pandas as pd \n",
    "from umap import UMAP\n",
    "from scipy import stats\n",
    "import networkx as nx\n",
    "from sklearn import preprocessing\n",
    "from sklearn.metrics import log_loss,roc_auc_score\n",
    "from sklearn.decomposition import PCA\n",
    "from tqdm import tqdm_notebook as tqdm\n",
    "from sklearn.cluster import KMeans\n",
    "from sklearn.pipeline import make_pipeline,make_union\n",
    "from sklearn.multioutput import MultiOutputClassifier\n",
    "from sklearn.feature_selection import VarianceThreshold\n",
    "\n",
    "sys.path.append('../input/multilabelstraifier/')\n",
    "from ml_stratifiers import MultilabelStratifiedKFold\n",
    "warnings.filterwarnings('ignore')\n",
    "\n",
    "import time\n",
    "import torch\n",
    "import torch.nn as nn\n",
    "import torch.optim as optim\n",
    "import torch.nn.functional as F\n",
    "import tensorflow as tf\n",
    "from torch.nn.modules.loss import _WeightedLoss\n",
    "from sklearn.compose import make_column_transformer,ColumnTransformer\n",
    "from sklearn.base import BaseEstimator,TransformerMixin"
   ]
  },
  {
   "cell_type": "code",
   "execution_count": 2,
   "metadata": {
    "_cell_guid": "79c7e3d0-c299-4dcb-8224-4455121ee9b0",
    "_uuid": "d629ff2d2480ee46fbb7e2d37f6b5fab8052498a",
    "execution": {
     "iopub.execute_input": "2020-11-11T04:24:06.584224Z",
     "iopub.status.busy": "2020-11-11T04:24:06.582792Z",
     "iopub.status.idle": "2020-11-11T04:24:13.323540Z",
     "shell.execute_reply": "2020-11-11T04:24:13.322690Z"
    },
    "papermill": {
     "duration": 6.781561,
     "end_time": "2020-11-11T04:24:13.323715",
     "exception": false,
     "start_time": "2020-11-11T04:24:06.542154",
     "status": "completed"
    },
    "tags": []
   },
   "outputs": [],
   "source": [
    "DATA_DIR = '/kaggle/input/lish-moa/'\n",
    "train = pd.read_csv(DATA_DIR + 'train_features.csv')\n",
    "targets = pd.read_csv(DATA_DIR + 'train_targets_scored.csv')\n",
    "non_targets = pd.read_csv(DATA_DIR + 'train_targets_nonscored.csv')\n",
    "test = pd.read_csv(DATA_DIR + 'test_features.csv')\n",
    "sub = pd.read_csv(DATA_DIR + 'sample_submission.csv')\n",
    "drug = pd.read_csv(DATA_DIR + 'train_drug.csv')\n",
    "target_feats = [ i for i in targets.columns if i != \"sig_id\"]\n",
    "g_feats = [i for i in train.columns if \"g-\" in i]\n",
    "c_feats = [i for i in train.columns if \"c-\" in i]"
   ]
  },
  {
   "cell_type": "code",
   "execution_count": 3,
   "metadata": {
    "execution": {
     "iopub.execute_input": "2020-11-11T04:24:13.410039Z",
     "iopub.status.busy": "2020-11-11T04:24:13.409278Z",
     "iopub.status.idle": "2020-11-11T04:24:13.543080Z",
     "shell.execute_reply": "2020-11-11T04:24:13.543810Z"
    },
    "papermill": {
     "duration": 0.181343,
     "end_time": "2020-11-11T04:24:13.544018",
     "exception": false,
     "start_time": "2020-11-11T04:24:13.362675",
     "status": "completed"
    },
    "tags": []
   },
   "outputs": [],
   "source": [
    "noncons_train_index = train[train.cp_type==\"ctl_vehicle\"].index\n",
    "cons_train_index = train[train.cp_type!=\"ctl_vehicle\"].index\n",
    "noncons_test_index = test[test.cp_type==\"ctl_vehicle\"].index\n",
    "cons_test_index = test[test.cp_type!=\"ctl_vehicle\"].index"
   ]
  },
  {
   "cell_type": "code",
   "execution_count": 4,
   "metadata": {
    "execution": {
     "iopub.execute_input": "2020-11-11T04:24:13.631031Z",
     "iopub.status.busy": "2020-11-11T04:24:13.628392Z",
     "iopub.status.idle": "2020-11-11T04:24:13.631943Z",
     "shell.execute_reply": "2020-11-11T04:24:13.632559Z"
    },
    "papermill": {
     "duration": 0.047771,
     "end_time": "2020-11-11T04:24:13.632701",
     "exception": false,
     "start_time": "2020-11-11T04:24:13.584930",
     "status": "completed"
    },
    "tags": []
   },
   "outputs": [],
   "source": [
    "GENES = [col for col in train.columns if col.startswith('g-')]\n",
    "CELLS = [col for col in train.columns if col.startswith('c-')]"
   ]
  },
  {
   "cell_type": "markdown",
   "metadata": {
    "papermill": {
     "duration": 0.040177,
     "end_time": "2020-11-11T04:24:13.710444",
     "exception": false,
     "start_time": "2020-11-11T04:24:13.670267",
     "status": "completed"
    },
    "tags": []
   },
   "source": [
    "# feature selection transformer"
   ]
  },
  {
   "cell_type": "code",
   "execution_count": 5,
   "metadata": {
    "execution": {
     "iopub.execute_input": "2020-11-11T04:24:13.825661Z",
     "iopub.status.busy": "2020-11-11T04:24:13.815402Z",
     "iopub.status.idle": "2020-11-11T04:24:13.827135Z",
     "shell.execute_reply": "2020-11-11T04:24:13.826374Z"
    },
    "papermill": {
     "duration": 0.071346,
     "end_time": "2020-11-11T04:24:13.827274",
     "exception": false,
     "start_time": "2020-11-11T04:24:13.755928",
     "status": "completed"
    },
    "tags": []
   },
   "outputs": [],
   "source": [
    "class CatIntMapper( BaseEstimator, TransformerMixin ):\n",
    "    #Class constructor method that takes in a list of values as its argument\n",
    "    def __init__(self ,col,dicti):\n",
    "        self.col = col\n",
    "        self.dicti = dicti\n",
    "        \n",
    "    def fit(self, X, y = None):\n",
    "        \n",
    "        return self\n",
    "    #Return self nothing else to do here\n",
    "    def fit_transform( self, X, y = None  ):\n",
    "        assert  X[self.col].isin(self.dicti.keys()).all() \n",
    "        return pd.concat([X.drop(self.col,axis=1),X[self.col].map(self.dicti).astype(int).rename(self.col)],axis=1) \n",
    "    \n",
    "    def transform( self, X):\n",
    "        assert  X[self.col].isin(self.dicti.keys()).all() \n",
    "        \n",
    "        return pd.concat([X.drop(self.col,axis=1),X[self.col].map(self.dicti).astype(int).rename(self.col)],axis=1) \n",
    "    \n",
    "class NamedOutTWrapper(BaseEstimator, TransformerMixin):\n",
    "    \n",
    "    def __init__(self,transformer,columns,inplace=False,prefix='_' ):\n",
    "        self.transformer = transformer\n",
    "        self.cols = columns\n",
    "        self.inplace =  inplace\n",
    "        self.prefix = prefix\n",
    "        self.transformer_name = self._get_transformer_name()\n",
    "        \n",
    "    def fit(self, X, y = None): \n",
    "        self.transformer =   self.transformer.fit(X[self.cols] , y )\n",
    "        return self\n",
    "    \n",
    "    #Return self nothing else to do here\n",
    "    def fit_transform( self, X, y = None  ): \n",
    "        transformed_columns = self.transformer.fit_transform(X[self.cols] , y )\n",
    "        out=pd.DataFrame(index=X.index)\n",
    "        \n",
    "        if self.inplace:\n",
    "            out = X[self.cols]\n",
    "            out[self.cols] = transformed_columns\n",
    "            return pd.concat([X.drop(self.cols,axis=1),out],axis=1)\n",
    "        else:\n",
    "            for i,values in enumerate(transformed_columns.transpose()):\n",
    "                out[ self.transformer_name + self.prefix + str(i)] = values\n",
    "            return   pd.concat([X,out],axis=1)\n",
    "        \n",
    "    def transform( self, X):\n",
    "        transformed_columns = self.transformer.transform(X[self.cols]  )\n",
    "        out=pd.DataFrame(index=X.index)\n",
    "        \n",
    "        if self.inplace:\n",
    "            out = X[self.cols]\n",
    "            out[self.cols] = transformed_columns\n",
    "            return pd.concat([X.drop(self.cols,axis=1),out],axis=1)\n",
    "        else:\n",
    "            for i,values in enumerate(transformed_columns.transpose()):\n",
    "                out[ self.transformer_name + self.prefix + str(i)] = values\n",
    "        return   pd.concat([X,out],axis=1)\n",
    "    \n",
    "    def _get_transformer_name(self):\n",
    "        return str(self.transformer.__class__).split('.')[-1][0:-2]\n",
    "    \n",
    "class IdentityTransformer:\n",
    "    '''Duummy_tansformer as a filler'''\n",
    "    def __init__(self ):\n",
    "        pass\n",
    "    def fit(self, X, y = None):\n",
    "        return self\n",
    "    #Return self nothing else to do here\n",
    "    def fit_transform( self, X, y = None  ):\n",
    "        return  X\n",
    "      \n",
    "    def transform( self, X):\n",
    "        return  X    \n",
    "    \n",
    "class SuppressControls( BaseEstimator, TransformerMixin ):\n",
    "    #Class constructor method that takes in a list of values as its argument\n",
    "    def __init__(self ):\n",
    "        pass\n",
    "    def fit(self, X, y = None):\n",
    "        return self\n",
    "    #Return self nothing else to do here\n",
    "    def fit_transform( self, X, y = None  ):\n",
    "        return   X.loc[X['cp_type']!='ctl_vehicle'].drop('cp_type', axis=1) \n",
    "    \n",
    "    def transform( self, X):        \n",
    "        return    X.loc[X['cp_type']!='ctl_vehicle'].drop('cp_type', axis=1)"
   ]
  },
  {
   "cell_type": "markdown",
   "metadata": {
    "papermill": {
     "duration": 0.037613,
     "end_time": "2020-11-11T04:24:13.901438",
     "exception": false,
     "start_time": "2020-11-11T04:24:13.863825",
     "status": "completed"
    },
    "tags": []
   },
   "source": [
    "# cv folds"
   ]
  },
  {
   "cell_type": "code",
   "execution_count": 6,
   "metadata": {
    "execution": {
     "iopub.execute_input": "2020-11-11T04:24:13.998612Z",
     "iopub.status.busy": "2020-11-11T04:24:13.997805Z",
     "iopub.status.idle": "2020-11-11T04:24:14.003194Z",
     "shell.execute_reply": "2020-11-11T04:24:14.004194Z"
    },
    "papermill": {
     "duration": 0.057625,
     "end_time": "2020-11-11T04:24:14.004336",
     "exception": false,
     "start_time": "2020-11-11T04:24:13.946711",
     "status": "completed"
    },
    "tags": []
   },
   "outputs": [],
   "source": [
    "def multifold_indexer(train,target_columns,n_splits=10,random_state=12347,**kwargs):\n",
    "    folds = train.copy()\n",
    "\n",
    "    mskf = MultilabelStratifiedKFold(n_splits=n_splits,random_state=random_state,**kwargs)\n",
    "    folds[ 'kfold']=0\n",
    "    for f, (t_idx, v_idx) in enumerate(mskf.split(X=train, y=train[target_columns])):\n",
    "        folds.iloc[v_idx,-1] = int(f)\n",
    "\n",
    "    folds['kfold'] = folds['kfold'].astype(int)\n",
    "    return folds"
   ]
  },
  {
   "cell_type": "markdown",
   "metadata": {
    "papermill": {
     "duration": 0.036845,
     "end_time": "2020-11-11T04:24:14.078022",
     "exception": false,
     "start_time": "2020-11-11T04:24:14.041177",
     "status": "completed"
    },
    "tags": []
   },
   "source": [
    "# dataset class"
   ]
  },
  {
   "cell_type": "code",
   "execution_count": 7,
   "metadata": {
    "execution": {
     "iopub.execute_input": "2020-11-11T04:24:14.174427Z",
     "iopub.status.busy": "2020-11-11T04:24:14.173673Z",
     "iopub.status.idle": "2020-11-11T04:24:14.177450Z",
     "shell.execute_reply": "2020-11-11T04:24:14.176969Z"
    },
    "papermill": {
     "duration": 0.048159,
     "end_time": "2020-11-11T04:24:14.177548",
     "exception": false,
     "start_time": "2020-11-11T04:24:14.129389",
     "status": "completed"
    },
    "tags": []
   },
   "outputs": [],
   "source": [
    "class MoADataset:\n",
    "    def __init__(self, features, targets):\n",
    "        self.features = features\n",
    "        self.targets = targets\n",
    "        \n",
    "    def __len__(self):\n",
    "        return (self.features.shape[0])\n",
    "    \n",
    "    def __getitem__(self, idx):\n",
    "        dct = {\n",
    "            'x' : torch.tensor(self.features[idx, :], dtype=torch.float),\n",
    "            'y' : torch.tensor(self.targets[idx, :], dtype=torch.float)            \n",
    "        }\n",
    "        return dct\n",
    "    \n",
    "class TestDataset:\n",
    "    def __init__(self, features):\n",
    "        self.features = features\n",
    "        \n",
    "    def __len__(self):\n",
    "        return (self.features.shape[0])\n",
    "    \n",
    "    def __getitem__(self, idx):\n",
    "        dct = {\n",
    "            'x' : torch.tensor(self.features[idx, :], dtype=torch.float)\n",
    "        }\n",
    "        return dct"
   ]
  },
  {
   "cell_type": "markdown",
   "metadata": {
    "papermill": {
     "duration": 0.028234,
     "end_time": "2020-11-11T04:24:14.233376",
     "exception": false,
     "start_time": "2020-11-11T04:24:14.205142",
     "status": "completed"
    },
    "tags": []
   },
   "source": [
    "# model"
   ]
  },
  {
   "cell_type": "code",
   "execution_count": 8,
   "metadata": {
    "execution": {
     "iopub.execute_input": "2020-11-11T04:24:14.304380Z",
     "iopub.status.busy": "2020-11-11T04:24:14.303653Z",
     "iopub.status.idle": "2020-11-11T04:24:14.307278Z",
     "shell.execute_reply": "2020-11-11T04:24:14.306800Z"
    },
    "papermill": {
     "duration": 0.045556,
     "end_time": "2020-11-11T04:24:14.307373",
     "exception": false,
     "start_time": "2020-11-11T04:24:14.261817",
     "status": "completed"
    },
    "tags": []
   },
   "outputs": [],
   "source": [
    "class DAE_Model(nn.Module):\n",
    "    def __init__(self, num_features, num_targets, hidden_size=1100,hidden_size2=1300):\n",
    "        super(DAE_Model, self).__init__()\n",
    "        self.batch_norm1 = nn.BatchNorm1d(num_features)\n",
    "        #self.dropout1 = nn.Dropout(drop_rate1)\n",
    "        self.dense1 = nn.utils.weight_norm(nn.Linear(num_features, hidden_size))\n",
    "        \n",
    "        self.batch_norm2 = nn.BatchNorm1d(hidden_size)\n",
    "      #  self.dropout2 = nn.Dropout(drop_rate2)\n",
    "        self.dense2 = nn.utils.weight_norm(nn.Linear(hidden_size, hidden_size2))\n",
    "        \n",
    "        self.batch_norm3 = nn.BatchNorm1d(hidden_size2)\n",
    "        #self.dropout3 = nn.Dropout(drop_rate2)\n",
    "        self.dense3 = nn.utils.weight_norm(nn.Linear(hidden_size2, hidden_size))\n",
    "        \n",
    "      #  self.batch_norm4 = nn.BatchNorm1d(hidden_size)\n",
    "      #  self.dropout4 = nn.Dropout(drop_rate3)\n",
    "        self.dense4 = nn.utils.weight_norm(nn.Linear(hidden_size, num_features))\n",
    "        \n",
    "    def forward(self, x,mode='DAE'):\n",
    "      #  x = self.batch_norm1(x)\n",
    "       # x1 = self.dropout1(x1)\n",
    "        x1 = F.relu(self.dense1(x))\n",
    "            \n",
    "        x2 = self.batch_norm2(x1)\n",
    "      #  x = self.dropout2(x)\n",
    "        x2 = F.relu(self.dense2(x2))\n",
    "        \n",
    "        x3 = self.batch_norm3(x2)\n",
    "      \n",
    "        x3 = F.relu(self.dense3(x3))\n",
    "        \n",
    "        out = self.dense4(x3)\n",
    "        \n",
    "        if mode == 'DAE':\n",
    "            return out\n",
    "        else:\n",
    "            return x1,x2,x3"
   ]
  },
  {
   "cell_type": "code",
   "execution_count": 9,
   "metadata": {
    "execution": {
     "iopub.execute_input": "2020-11-11T04:24:14.368537Z",
     "iopub.status.busy": "2020-11-11T04:24:14.367952Z",
     "iopub.status.idle": "2020-11-11T04:24:14.372284Z",
     "shell.execute_reply": "2020-11-11T04:24:14.371781Z"
    },
    "papermill": {
     "duration": 0.037023,
     "end_time": "2020-11-11T04:24:14.372373",
     "exception": false,
     "start_time": "2020-11-11T04:24:14.335350",
     "status": "completed"
    },
    "tags": []
   },
   "outputs": [],
   "source": [
    "map_controls = CatIntMapper('cp_type',{'ctl_vehicle': 0, 'trt_cp': 1})    \n",
    "map_dose = CatIntMapper('cp_dose',{'D1': 1, 'D2': 0})    \n",
    "map_time = CatIntMapper('cp_time',{24: 0, 48: 1, 72: 2})  "
   ]
  },
  {
   "cell_type": "code",
   "execution_count": 10,
   "metadata": {
    "execution": {
     "iopub.execute_input": "2020-11-11T04:24:14.434635Z",
     "iopub.status.busy": "2020-11-11T04:24:14.434013Z",
     "iopub.status.idle": "2020-11-11T04:24:14.436886Z",
     "shell.execute_reply": "2020-11-11T04:24:14.437415Z"
    },
    "papermill": {
     "duration": 0.036411,
     "end_time": "2020-11-11T04:24:14.437558",
     "exception": false,
     "start_time": "2020-11-11T04:24:14.401147",
     "status": "completed"
    },
    "tags": []
   },
   "outputs": [],
   "source": [
    "Rankg_g_tansform = NamedOutTWrapper(preprocessing.QuantileTransformer(n_quantiles=100,random_state=0, output_distribution=\"normal\"),columns= GENES+CELLS,inplace=True)\n",
    "PCA_g_tansform =  NamedOutTWrapper(PCA(20),columns= GENES,prefix ='_g' )\n",
    "PCA_c_tansform =  NamedOutTWrapper(PCA(20),columns= CELLS,prefix ='_c' )"
   ]
  },
  {
   "cell_type": "code",
   "execution_count": 11,
   "metadata": {
    "execution": {
     "iopub.execute_input": "2020-11-11T04:24:14.500976Z",
     "iopub.status.busy": "2020-11-11T04:24:14.499596Z",
     "iopub.status.idle": "2020-11-11T04:24:14.502696Z",
     "shell.execute_reply": "2020-11-11T04:24:14.502170Z"
    },
    "papermill": {
     "duration": 0.037417,
     "end_time": "2020-11-11T04:24:14.502812",
     "exception": false,
     "start_time": "2020-11-11T04:24:14.465395",
     "status": "completed"
    },
    "tags": []
   },
   "outputs": [],
   "source": [
    "class ColumnDropper( BaseEstimator, TransformerMixin ):\n",
    "    #Class Constructor \n",
    "    def __init__( self, cols ):\n",
    "        self.cols=cols\n",
    "    #Return self nothing else to do here    \n",
    "    def fit( self, X, y = None ):\n",
    "        return self \n",
    "    \n",
    "    #Method that describes what we need this transformer to do\n",
    "    def transform( self, X, y = None ):\n",
    "        return X.drop(self.cols,axis=1)"
   ]
  },
  {
   "cell_type": "code",
   "execution_count": 12,
   "metadata": {
    "execution": {
     "iopub.execute_input": "2020-11-11T04:24:14.564099Z",
     "iopub.status.busy": "2020-11-11T04:24:14.563303Z",
     "iopub.status.idle": "2020-11-11T04:24:14.567592Z",
     "shell.execute_reply": "2020-11-11T04:24:14.567037Z"
    },
    "papermill": {
     "duration": 0.037127,
     "end_time": "2020-11-11T04:24:14.567689",
     "exception": false,
     "start_time": "2020-11-11T04:24:14.530562",
     "status": "completed"
    },
    "tags": []
   },
   "outputs": [],
   "source": [
    "CatDropper =ColumnDropper(cols=['cp_type','cp_time','cp_dose'])\n",
    "transformers_list=[map_controls,map_dose,map_time,Rankg_g_tansform,CatDropper]\n",
    "exp_name = 'test_DAE_0.2_all_together'"
   ]
  },
  {
   "cell_type": "code",
   "execution_count": 13,
   "metadata": {
    "execution": {
     "iopub.execute_input": "2020-11-11T04:24:14.637334Z",
     "iopub.status.busy": "2020-11-11T04:24:14.636563Z",
     "iopub.status.idle": "2020-11-11T04:24:14.640614Z",
     "shell.execute_reply": "2020-11-11T04:24:14.640090Z"
    },
    "papermill": {
     "duration": 0.044208,
     "end_time": "2020-11-11T04:24:14.640737",
     "exception": false,
     "start_time": "2020-11-11T04:24:14.596529",
     "status": "completed"
    },
    "tags": []
   },
   "outputs": [],
   "source": [
    "def run_inference(X_train,y_train,X_valid,y_valid,X_test,fold, seed,inference_only=False,**kwargs):\n",
    "    seed_everything(seed)\n",
    "    if not  inference_only:\n",
    "        train_dataset = MoADataset(X_train, y_train)\n",
    "        valid_dataset = MoADataset(X_valid, y_valid)\n",
    "        trainloader = torch.utils.data.DataLoader(train_dataset, batch_size=BATCH_SIZE, shuffle=True)\n",
    "        validloader = torch.utils.data.DataLoader(valid_dataset, batch_size=BATCH_SIZE, shuffle=False)\n",
    "\n",
    "    testdataset = TestDataset(X_test)\n",
    "    testloader = torch.utils.data.DataLoader(testdataset, batch_size=BATCH_SIZE, shuffle=False)\n",
    "    \n",
    "    model = DAE_Model(\n",
    "        num_features= X_train.shape[1] ,\n",
    "        num_targets=  X_train.shape[1],\n",
    "       # hidden_size=hidden_size,\n",
    "        **kwargs\n",
    "    )\n",
    "\n",
    "    #model.load_state_dict(torch.load( f\"../input/swap-dae-noise0-2/FOLD{fold}_{exp_name}.pth\",map_location=torch.device('cpu')))#map_location='cuda:0'))#,freeze_first_layer=True)\n",
    "    model.to(DEVICE)\n",
    "    \n",
    "    if not  inference_only:\n",
    "        oof = inference_infer_features_fn(model, validloader, DEVICE)    \n",
    "    else:\n",
    "        oof= 0\n",
    "    \n",
    "    predictions = infer_features_fn(model, testloader, DEVICE)\n",
    "    predictions = predictions\n",
    "    \n",
    "    return oof, predictions"
   ]
  },
  {
   "cell_type": "code",
   "execution_count": 14,
   "metadata": {
    "execution": {
     "iopub.execute_input": "2020-11-11T04:24:15.060246Z",
     "iopub.status.busy": "2020-11-11T04:24:15.059169Z",
     "iopub.status.idle": "2020-11-11T04:24:15.062648Z",
     "shell.execute_reply": "2020-11-11T04:24:15.062150Z"
    },
    "papermill": {
     "duration": 0.393846,
     "end_time": "2020-11-11T04:24:15.062773",
     "exception": false,
     "start_time": "2020-11-11T04:24:14.668927",
     "status": "completed"
    },
    "tags": []
   },
   "outputs": [],
   "source": [
    "DEVICE = ('cuda' if torch.cuda.is_available() else 'cpu')\n",
    "EPOCHS = 1000\n",
    "BATCH_SIZE = 640\n",
    "LEARNING_RATE = 2e-3\n",
    "WEIGHT_DECAY = 1e-8\n",
    "NFOLDS = 10\n",
    "EARLY_STOPPING_STEPS = 10\n",
    "EARLY_STOP = False\n",
    "GAMMA=0.5\n",
    "FACTOR=0.75\n",
    "#num_features=len(feature_cols)\n",
    "#num_targets=len(target_cols)\n",
    "hidden_size=1100\n",
    "hidden_size2=1300\n",
    "PATIENCE=10\n",
    "THRESHOLD = 5e-3"
   ]
  },
  {
   "cell_type": "code",
   "execution_count": 15,
   "metadata": {
    "execution": {
     "iopub.execute_input": "2020-11-11T04:24:15.145066Z",
     "iopub.status.busy": "2020-11-11T04:24:15.143288Z",
     "iopub.status.idle": "2020-11-11T04:24:15.145734Z",
     "shell.execute_reply": "2020-11-11T04:24:15.146213Z"
    },
    "papermill": {
     "duration": 0.054495,
     "end_time": "2020-11-11T04:24:15.146338",
     "exception": false,
     "start_time": "2020-11-11T04:24:15.091843",
     "status": "completed"
    },
    "tags": []
   },
   "outputs": [],
   "source": [
    "def train_fn(model, optimizer, scheduler, loss_fn, dataloader, device):\n",
    "    model.train()\n",
    "    final_loss = 0\n",
    "    \n",
    "    for data in dataloader:\n",
    "        optimizer.zero_grad()\n",
    "        inputs, targets = data['x'].to(device), data['y'].to(device)\n",
    "        outputs = model(inputs)\n",
    "        loss = loss_fn(outputs, targets)\n",
    "        loss.backward()\n",
    "        optimizer.step()\n",
    "        \n",
    "        if not  scheduler.__class__ ==  torch.optim.lr_scheduler.ReduceLROnPlateau:\n",
    "            scheduler.step()\n",
    "        \n",
    "        final_loss += loss.item()\n",
    "        \n",
    "    final_loss /= len(dataloader)\n",
    "    \n",
    "    return final_loss\n",
    "\n",
    "def valid_fn(model, scheduler, loss_fn, dataloader, device):\n",
    "    model.eval()\n",
    "    final_loss = 0\n",
    "    valid_preds = []\n",
    "    \n",
    "    for data in dataloader:\n",
    "        inputs, targets = data['x'].to(device), data['y'].to(device)\n",
    "        outputs = model(inputs)\n",
    "        loss = loss_fn(outputs, targets)\n",
    "        \n",
    "        final_loss += loss.item()\n",
    "        valid_preds.append(outputs.sigmoid().detach().cpu().numpy())\n",
    "        \n",
    "    final_loss /= len(dataloader)\n",
    "    valid_preds = np.concatenate(valid_preds)\n",
    "    \n",
    "    if scheduler.__class__ ==  torch.optim.lr_scheduler.ReduceLROnPlateau:\n",
    "        scheduler.step(final_loss)\n",
    "    \n",
    "    return final_loss, valid_preds\n",
    "\n",
    "def inference_fn(model, dataloader, device):\n",
    "    model.eval()\n",
    "    preds = []\n",
    "    \n",
    "    for data in dataloader:\n",
    "        inputs = data['x'].to(device)\n",
    "\n",
    "        with torch.no_grad():\n",
    "            outputs = model(inputs)\n",
    "        \n",
    "        preds.append(outputs.sigmoid().detach().cpu().numpy())\n",
    "        \n",
    "    preds = np.concatenate(preds)\n",
    "    \n",
    "    return preds\n",
    "\n",
    "def infer_features_fn(model, dataloader, device):\n",
    "    model.eval()\n",
    "    preds = []\n",
    "    \n",
    "    for data in dataloader:\n",
    "        inputs = data['x'].to(device)\n",
    "\n",
    "        with torch.no_grad():\n",
    "            outputs = model(inputs,mode='get_features')\n",
    "        \n",
    "#         print(len(outputs))\n",
    "#         for i in range(len(outputs)):\n",
    "#             print(outputs[i].shape)\n",
    "#         print(torch.cat(outputs,axis=1).shape)\n",
    "        \n",
    "        preds.append(torch.cat(outputs,axis=1).detach().cpu().numpy())\n",
    "    preds = np.concatenate(preds)\n",
    "    \n",
    "    return preds"
   ]
  },
  {
   "cell_type": "code",
   "execution_count": 16,
   "metadata": {
    "execution": {
     "iopub.execute_input": "2020-11-11T04:24:15.219600Z",
     "iopub.status.busy": "2020-11-11T04:24:15.214959Z",
     "iopub.status.idle": "2020-11-11T04:24:15.221946Z",
     "shell.execute_reply": "2020-11-11T04:24:15.222449Z"
    },
    "papermill": {
     "duration": 0.046423,
     "end_time": "2020-11-11T04:24:15.222567",
     "exception": false,
     "start_time": "2020-11-11T04:24:15.176144",
     "status": "completed"
    },
    "tags": []
   },
   "outputs": [],
   "source": [
    "def train_short_form_loader(feature_file,target_file,extra_target_file=None):\n",
    "    '''takes the original target and features and creates a train dataset \n",
    "    in col long format'''\n",
    "    train_features = pd.read_csv(feature_file)\n",
    "    train_targets = pd.read_csv(target_file)\n",
    "\n",
    "    if extra_target_file is not None:\n",
    "        extra_targets = pd.read_csv(extra_target_file)\n",
    "        train_targets = pd.merge(train_targets,extra_targets,on ='sig_id')\n",
    "        del extra_targets\n",
    "\n",
    "    targets = train_targets.columns[1:]\n",
    "\n",
    "    train_melt=train_targets.merge(train_features,how=\"left\",on=\"sig_id\")\n",
    "\n",
    "    del train_features,train_targets\n",
    "    \n",
    "    train_melt.set_index(\"sig_id\",inplace=True)\n",
    "\n",
    "    #train_melt[\"variable\"]= train_melt[\"variable\"].astype('category')\n",
    "    train_melt[\"cp_type\"]= train_melt[\"cp_type\"].astype('category')\n",
    "    train_melt[\"cp_dose\"]= train_melt[\"cp_dose\"].astype('category')\n",
    "\n",
    "    return train_melt , targets.to_list()\n",
    "\n",
    "def test_short_form_loader(feature_file):\n",
    "    '''takes the original target and features and creates a train dataset \n",
    "    in col long format'''\n",
    "\n",
    "    train_features = pd.read_csv(feature_file)\n",
    "\n",
    "    train_melt =  train_features.copy()\n",
    "    del train_features\n",
    "\n",
    "    train_melt.set_index(\"sig_id\",inplace=True)\n",
    "\n",
    "    train_melt[\"cp_type\"]= train_melt[\"cp_type\"].astype('category')\n",
    "    train_melt[\"cp_dose\"]= train_melt[\"cp_dose\"].astype('category')\n",
    "\n",
    "    return train_melt "
   ]
  },
  {
   "cell_type": "code",
   "execution_count": 17,
   "metadata": {
    "execution": {
     "iopub.execute_input": "2020-11-11T04:24:15.291427Z",
     "iopub.status.busy": "2020-11-11T04:24:15.290491Z",
     "iopub.status.idle": "2020-11-11T04:24:20.527146Z",
     "shell.execute_reply": "2020-11-11T04:24:20.526544Z"
    },
    "papermill": {
     "duration": 5.274879,
     "end_time": "2020-11-11T04:24:20.527278",
     "exception": false,
     "start_time": "2020-11-11T04:24:15.252399",
     "status": "completed"
    },
    "tags": []
   },
   "outputs": [],
   "source": [
    "SEED = [0]\n",
    "train,target_cols = train_short_form_loader('../input/lish-moa/train_features.csv','../input/lish-moa/train_targets_scored.csv')\n",
    "test = test_short_form_loader(\"../input/lish-moa/test_features.csv\")\n",
    "\n",
    "train = pd.concat([train,test])\n",
    "train[target_cols]= train[target_cols].fillna(0)\n",
    "test = train.copy()\n",
    "#pipeline_test = make_pipeline(*transformers_list)\n",
    "#pipeline_test.fit(train)\n",
    "#test = pipeline_test.transform(test)"
   ]
  },
  {
   "cell_type": "code",
   "execution_count": 18,
   "metadata": {
    "execution": {
     "iopub.execute_input": "2020-11-11T04:24:20.594048Z",
     "iopub.status.busy": "2020-11-11T04:24:20.593271Z",
     "iopub.status.idle": "2020-11-11T04:24:20.597776Z",
     "shell.execute_reply": "2020-11-11T04:24:20.597169Z"
    },
    "papermill": {
     "duration": 0.040791,
     "end_time": "2020-11-11T04:24:20.597878",
     "exception": false,
     "start_time": "2020-11-11T04:24:20.557087",
     "status": "completed"
    },
    "tags": []
   },
   "outputs": [],
   "source": [
    "def seed_everything(seed=42):\n",
    "    random.seed(seed)\n",
    "    #os.environ['PYTHONHASHSEED'] = str(seed)\n",
    "    np.random.seed(seed)\n",
    "    torch.manual_seed(seed)\n",
    "    torch.cuda.manual_seed(seed)\n",
    "    torch.backends.cudnn.deterministic = True"
   ]
  },
  {
   "cell_type": "code",
   "execution_count": 19,
   "metadata": {
    "execution": {
     "iopub.execute_input": "2020-11-11T04:24:20.674457Z",
     "iopub.status.busy": "2020-11-11T04:24:20.673122Z",
     "iopub.status.idle": "2020-11-11T04:24:46.771527Z",
     "shell.execute_reply": "2020-11-11T04:24:46.770251Z"
    },
    "papermill": {
     "duration": 26.14123,
     "end_time": "2020-11-11T04:24:46.771782",
     "exception": false,
     "start_time": "2020-11-11T04:24:20.630552",
     "status": "completed"
    },
    "tags": []
   },
   "outputs": [],
   "source": [
    "oof = np.zeros((len(train), len(target_cols)))\n",
    "predictions = np.zeros((len(test), len(target_cols)))\n",
    "\n",
    "for seed in SEED:\n",
    "    \n",
    "    train = multifold_indexer(train,target_cols,n_splits=NFOLDS)\n",
    "    \n",
    "    #print(test_.head())\n",
    "    for fold in range(NFOLDS):\n",
    "\n",
    "        #pipeline_val = pk.load(open(f\"../input/tmultiv5rnkgpcag50smth1e3unpropertrafo/preprocessing_SEED{seed}_FOLD{fold}.pth\",'rb'))\n",
    "            \n",
    "        train_df = train[train['kfold'] != fold]#.reset_index(drop=True)\n",
    "        valid_df = train[train['kfold'] == fold]#.reset_index(drop=True)\n",
    "            \n",
    "        feature_cols = [col  for col in train_df.columns if not (col in target_cols+['kfold'])]\n",
    "        \n",
    "        #print(feature_cols)\n",
    "        \n",
    "        pipeline_val = make_pipeline(*transformers_list)\n",
    "        \n",
    "        X_train, y_train  = train_df[feature_cols], train_df[target_cols]\n",
    "        X_valid, y_valid =  valid_df[feature_cols], valid_df[target_cols].values\n",
    "        \n",
    "        X_train = pipeline_val.fit_transform(X_train)\n",
    "        X_train = X_train.values\n",
    "        X_valid = pipeline_val.transform(X_valid)\n",
    "        \n",
    "        valid_index = X_valid.index\n",
    "        X_valid = X_valid.values\n",
    "        \n",
    "        y_train = y_train.values\n",
    "        \n",
    "        X_test = test[feature_cols]\n",
    "        X_test = pipeline_val.transform(X_test).values\n",
    "        \n",
    "        pred_ = run_inference(X_train,y_train,X_valid,y_valid,X_test,fold, seed,inference_only=True)    \n",
    "        \n",
    "        break"
   ]
  },
  {
   "cell_type": "code",
   "execution_count": 20,
   "metadata": {
    "execution": {
     "iopub.execute_input": "2020-11-11T04:24:46.838992Z",
     "iopub.status.busy": "2020-11-11T04:24:46.836931Z",
     "iopub.status.idle": "2020-11-11T04:24:46.839763Z",
     "shell.execute_reply": "2020-11-11T04:24:46.840296Z"
    },
    "papermill": {
     "duration": 0.038778,
     "end_time": "2020-11-11T04:24:46.840415",
     "exception": false,
     "start_time": "2020-11-11T04:24:46.801637",
     "status": "completed"
    },
    "tags": []
   },
   "outputs": [],
   "source": [
    "transformed_features = pd.DataFrame(pred_[1],index=test.index)"
   ]
  },
  {
   "cell_type": "code",
   "execution_count": 21,
   "metadata": {
    "execution": {
     "iopub.execute_input": "2020-11-11T04:24:46.908911Z",
     "iopub.status.busy": "2020-11-11T04:24:46.907814Z",
     "iopub.status.idle": "2020-11-11T04:24:48.393529Z",
     "shell.execute_reply": "2020-11-11T04:24:48.392953Z"
    },
    "papermill": {
     "duration": 1.522851,
     "end_time": "2020-11-11T04:24:48.393647",
     "exception": false,
     "start_time": "2020-11-11T04:24:46.870796",
     "status": "completed"
    },
    "tags": []
   },
   "outputs": [
    {
     "name": "stdout",
     "output_type": "stream",
     "text": [
      "(27796, 3500)\n"
     ]
    }
   ],
   "source": [
    "print(transformed_features.shape)\n",
    "transformed_features.columns = [str(i) for i in range(len(transformed_features.columns))]\n",
    "transformed_features.reset_index().to_feather('./features_0.2_altogether.fth')"
   ]
  },
  {
   "cell_type": "markdown",
   "metadata": {
    "papermill": {
     "duration": 0.032161,
     "end_time": "2020-11-11T04:24:48.458948",
     "exception": false,
     "start_time": "2020-11-11T04:24:48.426787",
     "status": "completed"
    },
    "tags": []
   },
   "source": [
    "# model"
   ]
  },
  {
   "cell_type": "code",
   "execution_count": 22,
   "metadata": {
    "execution": {
     "iopub.execute_input": "2020-11-11T04:24:48.528272Z",
     "iopub.status.busy": "2020-11-11T04:24:48.527505Z",
     "iopub.status.idle": "2020-11-11T04:24:48.530932Z",
     "shell.execute_reply": "2020-11-11T04:24:48.531363Z"
    },
    "papermill": {
     "duration": 0.042374,
     "end_time": "2020-11-11T04:24:48.531479",
     "exception": false,
     "start_time": "2020-11-11T04:24:48.489105",
     "status": "completed"
    },
    "tags": []
   },
   "outputs": [],
   "source": [
    "class DaeAdder( BaseEstimator, TransformerMixin ):\n",
    "    def __init__(self,filename):\n",
    "        self.filename=filename\n",
    "    \n",
    "    def fit(self,X,y=None):\n",
    "        return self\n",
    "    \n",
    "    def fit_transform(self,X,y=None):\n",
    "        Dae_features = pd.read_feather(self.filename).set_index('sig_id')\n",
    "        return X.merge(Dae_features,how='left', on='sig_id')\n",
    "        \n",
    "    def transform(self,X):\n",
    "        Dae_features = pd.read_feather(self.filename).set_index('sig_id')\n",
    "        return X.merge(Dae_features,how='left', on='sig_id')"
   ]
  },
  {
   "cell_type": "code",
   "execution_count": 23,
   "metadata": {
    "execution": {
     "iopub.execute_input": "2020-11-11T04:24:48.598991Z",
     "iopub.status.busy": "2020-11-11T04:24:48.598116Z",
     "iopub.status.idle": "2020-11-11T04:24:53.050356Z",
     "shell.execute_reply": "2020-11-11T04:24:53.049180Z"
    },
    "papermill": {
     "duration": 4.488183,
     "end_time": "2020-11-11T04:24:53.050489",
     "exception": false,
     "start_time": "2020-11-11T04:24:48.562306",
     "status": "completed"
    },
    "tags": []
   },
   "outputs": [],
   "source": [
    "train,target_cols = train_short_form_loader('../input/lish-moa/train_features.csv','../input/lish-moa/train_targets_scored.csv')\n",
    "Dae0_2 =DaeAdder(filename='features_0.2_altogether.fth')"
   ]
  },
  {
   "cell_type": "code",
   "execution_count": 24,
   "metadata": {
    "execution": {
     "iopub.execute_input": "2020-11-11T04:24:53.117541Z",
     "iopub.status.busy": "2020-11-11T04:24:53.116711Z",
     "iopub.status.idle": "2020-11-11T04:24:53.919346Z",
     "shell.execute_reply": "2020-11-11T04:24:53.918361Z"
    },
    "papermill": {
     "duration": 0.837254,
     "end_time": "2020-11-11T04:24:53.919474",
     "exception": false,
     "start_time": "2020-11-11T04:24:53.082220",
     "status": "completed"
    },
    "tags": []
   },
   "outputs": [],
   "source": [
    "res = Dae0_2.fit_transform(train)"
   ]
  },
  {
   "cell_type": "code",
   "execution_count": 25,
   "metadata": {
    "execution": {
     "iopub.execute_input": "2020-11-11T04:24:53.991214Z",
     "iopub.status.busy": "2020-11-11T04:24:53.989349Z",
     "iopub.status.idle": "2020-11-11T04:24:53.991999Z",
     "shell.execute_reply": "2020-11-11T04:24:53.992510Z"
    },
    "papermill": {
     "duration": 0.040776,
     "end_time": "2020-11-11T04:24:53.992628",
     "exception": false,
     "start_time": "2020-11-11T04:24:53.951852",
     "status": "completed"
    },
    "tags": []
   },
   "outputs": [],
   "source": [
    "map_controls = CatIntMapper('cp_type',{'ctl_vehicle': 0, 'trt_cp': 1})    \n",
    "\n",
    "map_dose = CatIntMapper('cp_dose',{'D1': 1, 'D2': 0})    \n",
    "map_time = CatIntMapper('cp_time',{24: 0, 48: 1, 72: 2})"
   ]
  },
  {
   "cell_type": "code",
   "execution_count": 26,
   "metadata": {
    "execution": {
     "iopub.execute_input": "2020-11-11T04:24:54.069455Z",
     "iopub.status.busy": "2020-11-11T04:24:54.068658Z",
     "iopub.status.idle": "2020-11-11T04:24:54.072568Z",
     "shell.execute_reply": "2020-11-11T04:24:54.072070Z"
    },
    "papermill": {
     "duration": 0.047694,
     "end_time": "2020-11-11T04:24:54.072665",
     "exception": false,
     "start_time": "2020-11-11T04:24:54.024971",
     "status": "completed"
    },
    "tags": []
   },
   "outputs": [],
   "source": [
    "class SmoothBCEwLogits(_WeightedLoss):\n",
    "    def __init__(self, weight=None, reduction='mean', smoothing=0.0):\n",
    "        super().__init__(weight=weight, reduction=reduction)\n",
    "        self.smoothing = smoothing\n",
    "        self.weight = weight\n",
    "        self.reduction = reduction\n",
    "\n",
    "    @staticmethod\n",
    "    def _smooth(targets:torch.Tensor, n_labels:int, smoothing=0.0):\n",
    "        assert 0 <= smoothing < 1\n",
    "        with torch.no_grad():\n",
    "            targets = targets * (1.0 - smoothing) + 0.5 * smoothing\n",
    "        return targets\n",
    "\n",
    "    def forward(self, inputs, targets):\n",
    "        targets = SmoothBCEwLogits._smooth(targets, inputs.size(-1),\n",
    "            self.smoothing)\n",
    "        loss = F.binary_cross_entropy_with_logits(inputs, targets,self.weight)\n",
    "\n",
    "        if  self.reduction == 'sum':\n",
    "            loss = loss.sum()\n",
    "        elif  self.reduction == 'mean':\n",
    "            loss = loss.mean()\n",
    "\n",
    "        return loss"
   ]
  },
  {
   "cell_type": "code",
   "execution_count": 27,
   "metadata": {
    "execution": {
     "iopub.execute_input": "2020-11-11T04:24:54.149762Z",
     "iopub.status.busy": "2020-11-11T04:24:54.148537Z",
     "iopub.status.idle": "2020-11-11T04:24:54.151615Z",
     "shell.execute_reply": "2020-11-11T04:24:54.151127Z"
    },
    "papermill": {
     "duration": 0.047521,
     "end_time": "2020-11-11T04:24:54.151744",
     "exception": false,
     "start_time": "2020-11-11T04:24:54.104223",
     "status": "completed"
    },
    "tags": []
   },
   "outputs": [],
   "source": [
    "class Model(nn.Module):\n",
    "    def __init__(self, num_features, num_targets, hidden_size1=388,hidden_size2=512,drop_rate1=0.0,drop_rate2=0.3,drop_rate3=0.3):\n",
    "        super(Model, self).__init__()\n",
    "        self.batch_norm1 = nn.BatchNorm1d(num_features)\n",
    "        self.dropout1 = nn.Dropout(drop_rate1)\n",
    "        self.dense1 = nn.utils.weight_norm(nn.Linear(num_features, hidden_size1))\n",
    "\n",
    "        self.batch_norm2 = nn.BatchNorm1d(hidden_size1)\n",
    "        self.dropout2 = nn.Dropout(drop_rate2)\n",
    "        self.dense2 = nn.utils.weight_norm(nn.Linear(hidden_size1, hidden_size2))\n",
    "\n",
    "        self.batch_norm3 = nn.BatchNorm1d(hidden_size2)\n",
    "        self.dropout3 = nn.Dropout(drop_rate3)\n",
    "        self.dense3 = nn.utils.weight_norm(nn.Linear(hidden_size2, num_targets))\n",
    "\n",
    "\n",
    "    def forward(self, x):\n",
    "        \n",
    "        x = self.batch_norm1(x)\n",
    "        x = self.dropout1(x)\n",
    "        x = F.relu(self.dense1(x))\n",
    "        \n",
    "        x = self.batch_norm2(x)\n",
    "        x = self.dropout2(x)\n",
    "        x = F.relu(self.dense2(x))\n",
    "        \n",
    "        x = self.batch_norm3(x)\n",
    "        x = self.dropout3(x)\n",
    "        x = self.dense3(x)\n",
    "        \n",
    "        return x"
   ]
  },
  {
   "cell_type": "code",
   "execution_count": 28,
   "metadata": {
    "execution": {
     "iopub.execute_input": "2020-11-11T04:24:54.221356Z",
     "iopub.status.busy": "2020-11-11T04:24:54.220578Z",
     "iopub.status.idle": "2020-11-11T04:24:54.222998Z",
     "shell.execute_reply": "2020-11-11T04:24:54.223513Z"
    },
    "papermill": {
     "duration": 0.041214,
     "end_time": "2020-11-11T04:24:54.223619",
     "exception": false,
     "start_time": "2020-11-11T04:24:54.182405",
     "status": "completed"
    },
    "tags": []
   },
   "outputs": [],
   "source": [
    "#params for one cycle schedule\n",
    "DEVICE =  torch.device('cuda:0')\n",
    "EPOCHS = 40\n",
    "BATCH_SIZE = 512\n",
    "LEARNING_RATE = 5e-3\n",
    "WEIGHT_DECAY = 1e-5\n",
    "NFOLDS = 7\n",
    "EARLY_STOPPING_STEPS = 10\n",
    "EARLY_STOP = False\n",
    "\n",
    "hidden_size1=2048\n",
    "\n",
    "hidden_size2=2048\n",
    "\n",
    "def apply_pipe_together(pipeline,train,test):\n",
    "    #@add warning when intesection is not the whole\n",
    "    data = pd.concat([train,test])\n",
    "\n",
    "    data = pipeline.fit_transform(data)\n",
    "    \n",
    "    train = data.loc[data.index.intersection(train.index)]\n",
    "    test = data.loc[data.index.intersection(test.index)]\n",
    "    \n",
    "    return pipeline,train,test"
   ]
  },
  {
   "cell_type": "code",
   "execution_count": 29,
   "metadata": {
    "execution": {
     "iopub.execute_input": "2020-11-11T04:24:54.296338Z",
     "iopub.status.busy": "2020-11-11T04:24:54.295508Z",
     "iopub.status.idle": "2020-11-11T04:24:54.297909Z",
     "shell.execute_reply": "2020-11-11T04:24:54.298540Z"
    },
    "papermill": {
     "duration": 0.044195,
     "end_time": "2020-11-11T04:24:54.298674",
     "exception": false,
     "start_time": "2020-11-11T04:24:54.254479",
     "status": "completed"
    },
    "tags": []
   },
   "outputs": [],
   "source": [
    "transformers_list=[map_dose,map_time,Dae0_2,SuppressControls()]"
   ]
  },
  {
   "cell_type": "code",
   "execution_count": 30,
   "metadata": {
    "execution": {
     "iopub.execute_input": "2020-11-11T04:24:54.374059Z",
     "iopub.status.busy": "2020-11-11T04:24:54.368832Z",
     "iopub.status.idle": "2020-11-11T04:24:54.380786Z",
     "shell.execute_reply": "2020-11-11T04:24:54.380255Z"
    },
    "papermill": {
     "duration": 0.050533,
     "end_time": "2020-11-11T04:24:54.380892",
     "exception": false,
     "start_time": "2020-11-11T04:24:54.330359",
     "status": "completed"
    },
    "tags": []
   },
   "outputs": [],
   "source": [
    "def run_training(X_train,y_train,X_valid,y_valid,X_test,fold, seed,verbose=False,**kwargs):\n",
    "    \n",
    "    seed_everything(seed)\n",
    "    \n",
    "    train_dataset = MoADataset(X_train, y_train)\n",
    "    valid_dataset = MoADataset(X_valid, y_valid)\n",
    "    trainloader = torch.utils.data.DataLoader(train_dataset, batch_size=BATCH_SIZE, shuffle=True)\n",
    "    validloader = torch.utils.data.DataLoader(valid_dataset, batch_size=BATCH_SIZE, shuffle=False)\n",
    "    \n",
    "    model = Model(\n",
    "        num_features= X_train.shape[1] ,\n",
    "        num_targets=  y_train.shape[1],hidden_size1=hidden_size1,hidden_size2=hidden_size2,\n",
    "       **kwargs\n",
    "    )\n",
    "    \n",
    "    model.to(DEVICE)\n",
    "    \n",
    "    #initialize_from_past_model(model, f\"../results/original_torch_moa_smoothed_lrplateau_5_folds_AUX_SEED{seed}_FOLD{fold}.pth\")#,freeze_first_layer=True)\n",
    "    \n",
    "    \n",
    "    optimizer = torch.optim.Adam(model.parameters(), lr=LEARNING_RATE, weight_decay=WEIGHT_DECAY)\n",
    "    #scheduler = optim.lr_scheduler.OneCycleLR(optimizer, pct_start=0.1, div_factor=1e3, \n",
    "     #                                         max_lr=1e-2, epochs=EPOCHS, steps_per_epoch=len(trainloader))\n",
    "    \n",
    "    scheduler = optim.lr_scheduler.ReduceLROnPlateau(optimizer,patience=3)\n",
    "    \n",
    "    loss_val = nn.BCEWithLogitsLoss()\n",
    "    #loss_tr =  nn.BCEWithLogitsLoss()\n",
    "    loss_tr = SmoothBCEwLogits(smoothing =0.001)\n",
    "    \n",
    "    early_stopping_steps = EARLY_STOPPING_STEPS\n",
    "    early_step = 0\n",
    "    \n",
    "    #todo el guardado de los resultados se puede mover a kfold que si tiene info de los indices\n",
    "    #oof = np.zeros((len(train), target.iloc[:, 1:].shape[1]))\n",
    "    best_loss = np.inf\n",
    "    \n",
    "    for epoch in range(EPOCHS):\n",
    "        \n",
    "        train_loss = train_fn(model, optimizer,scheduler, loss_tr, trainloader, DEVICE)\n",
    "        valid_loss, valid_preds = valid_fn(model,scheduler, loss_val, validloader, DEVICE)\n",
    "        if verbose:\n",
    "            print(f\"FOLD: {fold}, EPOCH: {epoch}, train_loss: {train_loss}, valid_loss: {valid_loss}\")\n",
    "        \n",
    "        if valid_loss < best_loss:\n",
    "            \n",
    "            best_loss = valid_loss\n",
    "            oof = valid_preds\n",
    "                \n",
    "        elif(EARLY_STOP == True):\n",
    "            \n",
    "            early_step += 1\n",
    "            if (early_step >= early_stopping_steps):\n",
    "                break\n",
    "                \n",
    "    #--------------------- PREDICTION---------------------\n",
    "   \n",
    "    testdataset = TestDataset(X_test)\n",
    "    testloader = torch.utils.data.DataLoader(testdataset, batch_size=BATCH_SIZE, shuffle=False)\n",
    "    \n",
    "#     model = Model(\n",
    "#          num_features= X_train.shape[1] ,\n",
    "#         num_targets=  y_train.shape[1],\n",
    "#         hidden_size=hidden_size,**kwargs\n",
    "#     )\n",
    "    \n",
    "#     model.load_state_dict(torch.load(f\"../results/FOLD{fold}_{exp_name}.pth\"))\n",
    "   # model.to(DEVICE)\n",
    "    \n",
    "    #predictions = np.zeros((len(test_), target.iloc[:, 1:].shape[1]))\n",
    "    \n",
    "    predictions = inference_fn(model, testloader, DEVICE)\n",
    "    \n",
    "    return oof, predictions"
   ]
  },
  {
   "cell_type": "code",
   "execution_count": 31,
   "metadata": {
    "execution": {
     "iopub.execute_input": "2020-11-11T04:24:54.463404Z",
     "iopub.status.busy": "2020-11-11T04:24:54.461978Z",
     "iopub.status.idle": "2020-11-11T04:24:54.466267Z",
     "shell.execute_reply": "2020-11-11T04:24:54.465778Z"
    },
    "papermill": {
     "duration": 0.054445,
     "end_time": "2020-11-11T04:24:54.466361",
     "exception": false,
     "start_time": "2020-11-11T04:24:54.411916",
     "status": "completed"
    },
    "tags": []
   },
   "outputs": [],
   "source": [
    "def run_k_fold(folds,target_cols,test,transformers_list,NFOLDS, seed,verbose=False,**kwargs):\n",
    "    \n",
    "    \n",
    "    train = folds\n",
    "    test_ = test\n",
    "    \n",
    "    oof = train[target_cols].copy()\n",
    "    oof = oof*0\n",
    "    predictions = pd.DataFrame(0,columns=target_cols,index=test.index)\n",
    "    \n",
    "    for fold in range(NFOLDS):\n",
    "            \n",
    "        train_df = train[train['kfold'] != fold]#.reset_index(drop=True)\n",
    "        valid_df = train[train['kfold'] == fold]#.reset_index(drop=True)\n",
    "        \n",
    "        feature_cols = [col  for col in train_df.columns if not (col in target_cols+['kfold'])]\n",
    "        \n",
    "        pipeline_val = make_pipeline(*transformers_list)\n",
    "        \n",
    "        X_train, y_train  = train_df[feature_cols], train_df[target_cols]\n",
    "        X_valid, y_valid =  valid_df[feature_cols], valid_df[target_cols].values\n",
    "        \n",
    "        X_train = pipeline_val.fit_transform(X_train,y_train)\n",
    "        feature_cols = [col  for col in X_train.columns if not (col in target_cols+['kfold'])]\n",
    "        \n",
    "        X_train = X_train.values\n",
    "        \n",
    "        X_valid = pipeline_val.transform(X_valid)\n",
    "        valid_index = X_valid.index\n",
    "        X_valid = X_valid.values\n",
    "        \n",
    "        y_train = y_train.values\n",
    "        \n",
    "        X_test = pipeline_val.transform(test_)\n",
    "        test_index = X_test.index\n",
    "        X_test = X_test[feature_cols].values\n",
    "            \n",
    "        oof_, pred_ = run_training(X_train,y_train,X_valid,y_valid,X_test,fold, seed,verbose,**kwargs)\n",
    "        \n",
    "        oof.loc[valid_index] = oof_\n",
    "        predictions.loc[test_index] += pred_ / NFOLDS\n",
    "        \n",
    "        \n",
    "    return oof, predictions"
   ]
  },
  {
   "cell_type": "code",
   "execution_count": 32,
   "metadata": {
    "execution": {
     "iopub.execute_input": "2020-11-11T04:24:54.538637Z",
     "iopub.status.busy": "2020-11-11T04:24:54.537692Z",
     "iopub.status.idle": "2020-11-11T04:35:42.764535Z",
     "shell.execute_reply": "2020-11-11T04:35:42.763664Z"
    },
    "papermill": {
     "duration": 648.266599,
     "end_time": "2020-11-11T04:35:42.764653",
     "exception": false,
     "start_time": "2020-11-11T04:24:54.498054",
     "status": "completed"
    },
    "tags": []
   },
   "outputs": [
    {
     "name": "stdout",
     "output_type": "stream",
     "text": [
      "FOLD: 0, EPOCH: 0, train_loss: 0.41058441352199865, valid_loss: 0.04626544511743954\n",
      "FOLD: 0, EPOCH: 1, train_loss: 0.029532996987974323, valid_loss: 0.02200918218919209\n",
      "FOLD: 0, EPOCH: 2, train_loss: 0.02407199763567061, valid_loss: 0.020932710862585475\n",
      "FOLD: 0, EPOCH: 3, train_loss: 0.023228990467819007, valid_loss: 0.02076569918010916\n",
      "FOLD: 0, EPOCH: 4, train_loss: 0.02238514551238434, valid_loss: 0.020151399608169283\n",
      "FOLD: 0, EPOCH: 5, train_loss: 0.021492700570741215, valid_loss: 0.019314279513699666\n",
      "FOLD: 0, EPOCH: 6, train_loss: 0.02102279245249323, valid_loss: 0.018174984625407627\n",
      "FOLD: 0, EPOCH: 7, train_loss: 0.02051747509756604, valid_loss: 0.018036719943795885\n",
      "FOLD: 0, EPOCH: 8, train_loss: 0.020284118080461346, valid_loss: 0.018450760415622165\n",
      "FOLD: 0, EPOCH: 9, train_loss: 0.019929745813479293, valid_loss: 0.017856195036854063\n",
      "FOLD: 0, EPOCH: 10, train_loss: 0.019534135035969114, valid_loss: 0.01752603825713907\n",
      "FOLD: 0, EPOCH: 11, train_loss: 0.019221570896538528, valid_loss: 0.017419185489416122\n",
      "FOLD: 0, EPOCH: 12, train_loss: 0.019111097815471725, valid_loss: 0.017807241529226303\n",
      "FOLD: 0, EPOCH: 13, train_loss: 0.01888914139488259, valid_loss: 0.017475137753146037\n",
      "FOLD: 0, EPOCH: 14, train_loss: 0.018578820736021608, valid_loss: 0.01737673926566328\n",
      "FOLD: 0, EPOCH: 15, train_loss: 0.018456180605131225, valid_loss: 0.018151276877948215\n",
      "FOLD: 0, EPOCH: 16, train_loss: 0.018393945502671035, valid_loss: 0.017257003911903927\n",
      "FOLD: 0, EPOCH: 17, train_loss: 0.018071074844212144, valid_loss: 0.017361215448805263\n",
      "FOLD: 0, EPOCH: 18, train_loss: 0.018045148485012957, valid_loss: 0.01744648308626243\n",
      "FOLD: 0, EPOCH: 19, train_loss: 0.017822584640738125, valid_loss: 0.017519452209983553\n",
      "FOLD: 0, EPOCH: 20, train_loss: 0.017758345634147927, valid_loss: 0.017257593039955412\n",
      "FOLD: 0, EPOCH: 21, train_loss: 0.016513865944501514, valid_loss: 0.016758794763258526\n",
      "FOLD: 0, EPOCH: 22, train_loss: 0.0155915689931528, valid_loss: 0.016791657810764655\n",
      "FOLD: 0, EPOCH: 23, train_loss: 0.01484704835692773, valid_loss: 0.016868985258042812\n",
      "FOLD: 0, EPOCH: 24, train_loss: 0.014219415575467251, valid_loss: 0.016945659316011837\n",
      "FOLD: 0, EPOCH: 25, train_loss: 0.013614646662530061, valid_loss: 0.01712017586188657\n",
      "FOLD: 0, EPOCH: 26, train_loss: 0.012937497347593307, valid_loss: 0.017077885834234103\n",
      "FOLD: 0, EPOCH: 27, train_loss: 0.012787516178512896, valid_loss: 0.01707281358540058\n",
      "FOLD: 0, EPOCH: 28, train_loss: 0.012698893989058765, valid_loss: 0.017100300107683455\n",
      "FOLD: 0, EPOCH: 29, train_loss: 0.012593888174239043, valid_loss: 0.017105167465550557\n",
      "FOLD: 0, EPOCH: 30, train_loss: 0.012488929026231572, valid_loss: 0.017120089648025378\n",
      "FOLD: 0, EPOCH: 31, train_loss: 0.012450306323935857, valid_loss: 0.01709731003003461\n",
      "FOLD: 0, EPOCH: 32, train_loss: 0.012477066896453098, valid_loss: 0.0170925927481481\n",
      "FOLD: 0, EPOCH: 33, train_loss: 0.012429332385796148, valid_loss: 0.017101512689675604\n",
      "FOLD: 0, EPOCH: 34, train_loss: 0.012466120986721, valid_loss: 0.017110457377774373\n",
      "FOLD: 0, EPOCH: 35, train_loss: 0.012468376020724708, valid_loss: 0.017113887571862767\n",
      "FOLD: 0, EPOCH: 36, train_loss: 0.012425877304898726, valid_loss: 0.01710102308009352\n",
      "FOLD: 0, EPOCH: 37, train_loss: 0.012446142884122359, valid_loss: 0.017101275069372996\n",
      "FOLD: 0, EPOCH: 38, train_loss: 0.012429155434506971, valid_loss: 0.01710609027317592\n",
      "FOLD: 0, EPOCH: 39, train_loss: 0.01241492004309957, valid_loss: 0.017111907047884806\n",
      "FOLD: 1, EPOCH: 0, train_loss: 0.39542214270379095, valid_loss: 0.04318026772567204\n",
      "FOLD: 1, EPOCH: 1, train_loss: 0.028640027334158484, valid_loss: 0.0216262550758464\n",
      "FOLD: 1, EPOCH: 2, train_loss: 0.023852011390231753, valid_loss: 0.02070800507707255\n",
      "FOLD: 1, EPOCH: 3, train_loss: 0.0231437980625275, valid_loss: 0.020895388775638173\n",
      "FOLD: 1, EPOCH: 4, train_loss: 0.02220075431506376, valid_loss: 0.02060197134103094\n",
      "FOLD: 1, EPOCH: 5, train_loss: 0.02136494596866337, valid_loss: 0.01838302452649389\n",
      "FOLD: 1, EPOCH: 6, train_loss: 0.020750819730597572, valid_loss: 0.018018406948872974\n",
      "FOLD: 1, EPOCH: 7, train_loss: 0.02033491201094679, valid_loss: 0.01778585171060903\n",
      "FOLD: 1, EPOCH: 8, train_loss: 0.020006739358241495, valid_loss: 0.018916371411510875\n",
      "FOLD: 1, EPOCH: 9, train_loss: 0.01972572732012014, valid_loss: 0.01737481275839465\n",
      "FOLD: 1, EPOCH: 10, train_loss: 0.019395686383988406, valid_loss: 0.0175188420606511\n",
      "FOLD: 1, EPOCH: 11, train_loss: 0.01905999961938407, valid_loss: 0.017417600644486293\n",
      "FOLD: 1, EPOCH: 12, train_loss: 0.018877028412110097, valid_loss: 0.01735912955233029\n",
      "FOLD: 1, EPOCH: 13, train_loss: 0.018667393691233686, valid_loss: 0.018338028075439588\n",
      "FOLD: 1, EPOCH: 14, train_loss: 0.01845631511831606, valid_loss: 0.017486576523099626\n",
      "FOLD: 1, EPOCH: 15, train_loss: 0.01836290180280402, valid_loss: 0.017185952780502185\n",
      "FOLD: 1, EPOCH: 16, train_loss: 0.018149345408420305, valid_loss: 0.01755495129951409\n",
      "FOLD: 1, EPOCH: 17, train_loss: 0.018065588347412443, valid_loss: 0.017191016780478612\n",
      "FOLD: 1, EPOCH: 18, train_loss: 0.017952066116236353, valid_loss: 0.016992465859012946\n",
      "FOLD: 1, EPOCH: 19, train_loss: 0.017905094685989456, valid_loss: 0.017509689554572105\n",
      "FOLD: 1, EPOCH: 20, train_loss: 0.017685058652549178, valid_loss: 0.017046164721250534\n",
      "FOLD: 1, EPOCH: 21, train_loss: 0.017633893451577908, valid_loss: 0.01728142478636333\n",
      "FOLD: 1, EPOCH: 22, train_loss: 0.017492006054601154, valid_loss: 0.017398018123848096\n",
      "FOLD: 1, EPOCH: 23, train_loss: 0.0162349871888354, valid_loss: 0.016602433153561184\n",
      "FOLD: 1, EPOCH: 24, train_loss: 0.015192152051305448, valid_loss: 0.01665320553417717\n",
      "FOLD: 1, EPOCH: 25, train_loss: 0.014449097140616662, valid_loss: 0.016804334042327746\n",
      "FOLD: 1, EPOCH: 26, train_loss: 0.013825537410338182, valid_loss: 0.016913073137402534\n",
      "FOLD: 1, EPOCH: 27, train_loss: 0.013231327153138212, valid_loss: 0.016984024218150547\n",
      "FOLD: 1, EPOCH: 28, train_loss: 0.012635841135036302, valid_loss: 0.01697531608598573\n",
      "FOLD: 1, EPOCH: 29, train_loss: 0.012490549426827882, valid_loss: 0.017000053876212666\n",
      "FOLD: 1, EPOCH: 30, train_loss: 0.012405725724592403, valid_loss: 0.01699488210890974\n",
      "FOLD: 1, EPOCH: 31, train_loss: 0.012289733500094028, valid_loss: 0.017040387328181947\n",
      "FOLD: 1, EPOCH: 32, train_loss: 0.01219468646858995, valid_loss: 0.01701315040034907\n",
      "FOLD: 1, EPOCH: 33, train_loss: 0.012191410126114214, valid_loss: 0.01702238619327545\n",
      "FOLD: 1, EPOCH: 34, train_loss: 0.012162213540963224, valid_loss: 0.017032849469355175\n",
      "FOLD: 1, EPOCH: 35, train_loss: 0.01216883202259605, valid_loss: 0.017019460243838175\n",
      "FOLD: 1, EPOCH: 36, train_loss: 0.012171777795899558, valid_loss: 0.017028243946177617\n",
      "FOLD: 1, EPOCH: 37, train_loss: 0.01214157065024247, valid_loss: 0.01701598135488374\n",
      "FOLD: 1, EPOCH: 38, train_loss: 0.01217081760232513, valid_loss: 0.017016901235495294\n",
      "FOLD: 1, EPOCH: 39, train_loss: 0.012157237333421772, valid_loss: 0.017026675598961965\n",
      "FOLD: 2, EPOCH: 0, train_loss: 0.40149946863184105, valid_loss: 0.04430547995226724\n",
      "FOLD: 2, EPOCH: 1, train_loss: 0.02899472214080192, valid_loss: 0.021976355463266373\n",
      "FOLD: 2, EPOCH: 2, train_loss: 0.02394668783086377, valid_loss: 0.020653516852429936\n",
      "FOLD: 2, EPOCH: 3, train_loss: 0.02305409433068456, valid_loss: 0.02079982097659792\n",
      "FOLD: 2, EPOCH: 4, train_loss: 0.022184934366393735, valid_loss: 0.019964490618024553\n",
      "FOLD: 2, EPOCH: 5, train_loss: 0.021337205141380027, valid_loss: 0.018212402505534037\n",
      "FOLD: 2, EPOCH: 6, train_loss: 0.020857228419265232, valid_loss: 0.018196140815104758\n",
      "FOLD: 2, EPOCH: 7, train_loss: 0.020391353682891744, valid_loss: 0.01771171045090471\n",
      "FOLD: 2, EPOCH: 8, train_loss: 0.02010156516287778, valid_loss: 0.017471977642604282\n",
      "FOLD: 2, EPOCH: 9, train_loss: 0.019851515824730333, valid_loss: 0.01829510075705392\n",
      "FOLD: 2, EPOCH: 10, train_loss: 0.019515770411974675, valid_loss: 0.017546679824590683\n",
      "FOLD: 2, EPOCH: 11, train_loss: 0.019215271279618546, valid_loss: 0.01744621167225497\n",
      "FOLD: 2, EPOCH: 12, train_loss: 0.019116955784124298, valid_loss: 0.017540087923407555\n",
      "FOLD: 2, EPOCH: 13, train_loss: 0.01893554169785332, valid_loss: 0.017387824399130686\n",
      "FOLD: 2, EPOCH: 14, train_loss: 0.018825374392641557, valid_loss: 0.016850005569202558\n",
      "FOLD: 2, EPOCH: 15, train_loss: 0.018527053447591292, valid_loss: 0.017157816727246557\n",
      "FOLD: 2, EPOCH: 16, train_loss: 0.018378862758746017, valid_loss: 0.017080881499818394\n",
      "FOLD: 2, EPOCH: 17, train_loss: 0.018227610183325974, valid_loss: 0.01731976999768189\n",
      "FOLD: 2, EPOCH: 18, train_loss: 0.018156500533223152, valid_loss: 0.016955718398094177\n",
      "FOLD: 2, EPOCH: 19, train_loss: 0.016927969490958227, valid_loss: 0.01639020842100893\n",
      "FOLD: 2, EPOCH: 20, train_loss: 0.016042150859091733, valid_loss: 0.01641460441585098\n",
      "FOLD: 2, EPOCH: 21, train_loss: 0.015423165810470646, valid_loss: 0.016465297367955958\n",
      "FOLD: 2, EPOCH: 22, train_loss: 0.014756002337545962, valid_loss: 0.016551513357886245\n",
      "FOLD: 2, EPOCH: 23, train_loss: 0.014167006454757741, valid_loss: 0.016708081987287317\n",
      "FOLD: 2, EPOCH: 24, train_loss: 0.013460767430228155, valid_loss: 0.016690141122256006\n",
      "FOLD: 2, EPOCH: 25, train_loss: 0.013284473226883926, valid_loss: 0.01670735888183117\n",
      "FOLD: 2, EPOCH: 26, train_loss: 0.013181146083248628, valid_loss: 0.016708704243813242\n",
      "FOLD: 2, EPOCH: 27, train_loss: 0.01304574912363613, valid_loss: 0.016733772520508085\n",
      "FOLD: 2, EPOCH: 28, train_loss: 0.012950598841180673, valid_loss: 0.01674189804387944\n",
      "FOLD: 2, EPOCH: 29, train_loss: 0.012909763769523517, valid_loss: 0.01675224836383547\n",
      "FOLD: 2, EPOCH: 30, train_loss: 0.012903395813663263, valid_loss: 0.01675020038549389\n",
      "FOLD: 2, EPOCH: 31, train_loss: 0.01288567777924441, valid_loss: 0.016751127184501717\n",
      "FOLD: 2, EPOCH: 32, train_loss: 0.012884457293595816, valid_loss: 0.016753181016870906\n",
      "FOLD: 2, EPOCH: 33, train_loss: 0.012880030994278353, valid_loss: 0.016757019529385225\n",
      "FOLD: 2, EPOCH: 34, train_loss: 0.012913533964672604, valid_loss: 0.016748230771294663\n",
      "FOLD: 2, EPOCH: 35, train_loss: 0.012874459898149644, valid_loss: 0.01673851308545896\n",
      "FOLD: 2, EPOCH: 36, train_loss: 0.012924661079572665, valid_loss: 0.016740941043410982\n",
      "FOLD: 2, EPOCH: 37, train_loss: 0.012885715057318276, valid_loss: 0.016744107274072512\n",
      "FOLD: 2, EPOCH: 38, train_loss: 0.012889333044153612, valid_loss: 0.01674640883824655\n",
      "FOLD: 2, EPOCH: 39, train_loss: 0.01285444393854689, valid_loss: 0.016748994455805848\n",
      "FOLD: 3, EPOCH: 0, train_loss: 0.380658666225704, valid_loss: 0.03835924927677427\n",
      "FOLD: 3, EPOCH: 1, train_loss: 0.02801362460328115, valid_loss: 0.021315155550837517\n",
      "FOLD: 3, EPOCH: 2, train_loss: 0.02383109922143253, valid_loss: 0.020354283175298145\n",
      "FOLD: 3, EPOCH: 3, train_loss: 0.023078792703312798, valid_loss: 0.02024734259716102\n",
      "FOLD: 3, EPOCH: 4, train_loss: 0.022202271112316364, valid_loss: 0.020058319504771913\n",
      "FOLD: 3, EPOCH: 5, train_loss: 0.021433145512600203, valid_loss: 0.021060028778655187\n",
      "FOLD: 3, EPOCH: 6, train_loss: 0.020871916534127417, valid_loss: 0.017735424185437814\n",
      "FOLD: 3, EPOCH: 7, train_loss: 0.020316924597765948, valid_loss: 0.017713476371552263\n",
      "FOLD: 3, EPOCH: 8, train_loss: 0.019986931033231115, valid_loss: 0.0176983970616545\n",
      "FOLD: 3, EPOCH: 9, train_loss: 0.01973171204932638, valid_loss: 0.017242403035717353\n",
      "FOLD: 3, EPOCH: 10, train_loss: 0.01932477860434635, valid_loss: 0.01748071956847395\n",
      "FOLD: 3, EPOCH: 11, train_loss: 0.019244792795664555, valid_loss: 0.01775736574615751\n",
      "FOLD: 3, EPOCH: 12, train_loss: 0.018945288668210443, valid_loss: 0.017788403002279147\n",
      "FOLD: 3, EPOCH: 13, train_loss: 0.018686727243098052, valid_loss: 0.01720780919172934\n",
      "FOLD: 3, EPOCH: 14, train_loss: 0.018430493117586988, valid_loss: 0.017297940594809397\n",
      "FOLD: 3, EPOCH: 15, train_loss: 0.01836987031069962, valid_loss: 0.017047287364091192\n",
      "FOLD: 3, EPOCH: 16, train_loss: 0.018185642069658718, valid_loss: 0.016959219372698238\n",
      "FOLD: 3, EPOCH: 17, train_loss: 0.01801523193717003, valid_loss: 0.017400684633425305\n",
      "FOLD: 3, EPOCH: 18, train_loss: 0.01792673011486595, valid_loss: 0.017091897449323108\n",
      "FOLD: 3, EPOCH: 19, train_loss: 0.01784364043458088, valid_loss: 0.01700299046933651\n",
      "FOLD: 3, EPOCH: 20, train_loss: 0.01769924521244861, valid_loss: 0.017109399794467857\n",
      "FOLD: 3, EPOCH: 21, train_loss: 0.016403698186213907, valid_loss: 0.01643800243203129\n",
      "FOLD: 3, EPOCH: 22, train_loss: 0.015385135378990625, valid_loss: 0.016452481704098836\n",
      "FOLD: 3, EPOCH: 23, train_loss: 0.014705729393942936, valid_loss: 0.01651857460715941\n",
      "FOLD: 3, EPOCH: 24, train_loss: 0.014071828660530012, valid_loss: 0.01661404115813119\n",
      "FOLD: 3, EPOCH: 25, train_loss: 0.013439053065470746, valid_loss: 0.016692691083465303\n",
      "FOLD: 3, EPOCH: 26, train_loss: 0.012783046635622913, valid_loss: 0.016666976734995842\n",
      "FOLD: 3, EPOCH: 27, train_loss: 0.012625373195152025, valid_loss: 0.016673476568290165\n",
      "FOLD: 3, EPOCH: 28, train_loss: 0.01252543128322105, valid_loss: 0.016708257608115673\n",
      "FOLD: 3, EPOCH: 29, train_loss: 0.012450032062023072, valid_loss: 0.016716085906539644\n",
      "FOLD: 3, EPOCH: 30, train_loss: 0.012348034998049607, valid_loss: 0.016711095348000526\n",
      "FOLD: 3, EPOCH: 31, train_loss: 0.012330260329149864, valid_loss: 0.016706778534821103\n",
      "FOLD: 3, EPOCH: 32, train_loss: 0.012319457767581617, valid_loss: 0.016709505979503905\n",
      "FOLD: 3, EPOCH: 33, train_loss: 0.01229926895954319, valid_loss: 0.016710778698325157\n",
      "FOLD: 3, EPOCH: 34, train_loss: 0.012309141733960525, valid_loss: 0.016710931967411722\n",
      "FOLD: 3, EPOCH: 35, train_loss: 0.012325592112500925, valid_loss: 0.016718014808637754\n",
      "FOLD: 3, EPOCH: 36, train_loss: 0.012268229110820874, valid_loss: 0.01670734690768378\n",
      "FOLD: 3, EPOCH: 37, train_loss: 0.01229335823272531, valid_loss: 0.01671417895704508\n",
      "FOLD: 3, EPOCH: 38, train_loss: 0.012249777143871462, valid_loss: 0.016713750415614674\n",
      "FOLD: 3, EPOCH: 39, train_loss: 0.012295736780239118, valid_loss: 0.016725542156824043\n",
      "FOLD: 4, EPOCH: 0, train_loss: 0.379661981318448, valid_loss: 0.039189172110387256\n",
      "FOLD: 4, EPOCH: 1, train_loss: 0.027899304656563578, valid_loss: 0.021761367629681314\n",
      "FOLD: 4, EPOCH: 2, train_loss: 0.023762438093891013, valid_loss: 0.02121886211846556\n",
      "FOLD: 4, EPOCH: 3, train_loss: 0.023006662071959394, valid_loss: 0.02063288007463728\n",
      "FOLD: 4, EPOCH: 4, train_loss: 0.02216195365464365, valid_loss: 0.020034035401684896\n",
      "FOLD: 4, EPOCH: 5, train_loss: 0.021364681674419222, valid_loss: 0.018636921420693398\n",
      "FOLD: 4, EPOCH: 6, train_loss: 0.020788946465865987, valid_loss: 0.018416862402643477\n",
      "FOLD: 4, EPOCH: 7, train_loss: 0.020287143469259545, valid_loss: 0.01793389953672886\n",
      "FOLD: 4, EPOCH: 8, train_loss: 0.020031436019249865, valid_loss: 0.017569858314735547\n",
      "FOLD: 4, EPOCH: 9, train_loss: 0.019732255790684675, valid_loss: 0.01776787665273462\n",
      "FOLD: 4, EPOCH: 10, train_loss: 0.019269346737781086, valid_loss: 0.017453015249754702\n",
      "FOLD: 4, EPOCH: 11, train_loss: 0.019030216326181952, valid_loss: 0.017446151535425867\n",
      "FOLD: 4, EPOCH: 12, train_loss: 0.018707319036931604, valid_loss: 0.017291025391646793\n",
      "FOLD: 4, EPOCH: 13, train_loss: 0.01849049616705727, valid_loss: 0.017292797033275877\n",
      "FOLD: 4, EPOCH: 14, train_loss: 0.018346086043763806, valid_loss: 0.017504226150257245\n",
      "FOLD: 4, EPOCH: 15, train_loss: 0.01809486761890553, valid_loss: 0.017677480887089456\n",
      "FOLD: 4, EPOCH: 16, train_loss: 0.018024036107031075, valid_loss: 0.017755074692623957\n",
      "FOLD: 4, EPOCH: 17, train_loss: 0.016755407424391928, valid_loss: 0.01676129869052342\n",
      "FOLD: 4, EPOCH: 18, train_loss: 0.01573082769440638, valid_loss: 0.016781853245837346\n",
      "FOLD: 4, EPOCH: 19, train_loss: 0.014947387062617251, valid_loss: 0.016939357189195498\n",
      "FOLD: 4, EPOCH: 20, train_loss: 0.014267307605493712, valid_loss: 0.01700326587472643\n",
      "FOLD: 4, EPOCH: 21, train_loss: 0.013595661752530047, valid_loss: 0.017025929210441455\n",
      "FOLD: 4, EPOCH: 22, train_loss: 0.01285324537673512, valid_loss: 0.0170537709657635\n",
      "FOLD: 4, EPOCH: 23, train_loss: 0.012691809468575427, valid_loss: 0.017063282696264132\n",
      "FOLD: 4, EPOCH: 24, train_loss: 0.012548088951892144, valid_loss: 0.017079619956868037\n",
      "FOLD: 4, EPOCH: 25, train_loss: 0.012438829182773023, valid_loss: 0.01708183065056801\n",
      "FOLD: 4, EPOCH: 26, train_loss: 0.012327399104833603, valid_loss: 0.017080317118338177\n",
      "FOLD: 4, EPOCH: 27, train_loss: 0.012299992672696308, valid_loss: 0.01709288571562086\n",
      "FOLD: 4, EPOCH: 28, train_loss: 0.012299540251292087, valid_loss: 0.017102035826870372\n",
      "FOLD: 4, EPOCH: 29, train_loss: 0.012281659764011164, valid_loss: 0.01708023915333407\n",
      "FOLD: 4, EPOCH: 30, train_loss: 0.012272343366734079, valid_loss: 0.017104904034308026\n",
      "FOLD: 4, EPOCH: 31, train_loss: 0.012261755789655287, valid_loss: 0.017095903999039104\n",
      "FOLD: 4, EPOCH: 32, train_loss: 0.012271327847564543, valid_loss: 0.017090797690408572\n",
      "FOLD: 4, EPOCH: 33, train_loss: 0.012244563851807569, valid_loss: 0.01710391097835132\n",
      "FOLD: 4, EPOCH: 34, train_loss: 0.012260099193332968, valid_loss: 0.017107735787119185\n",
      "FOLD: 4, EPOCH: 35, train_loss: 0.012266479684291658, valid_loss: 0.017102901158588275\n",
      "FOLD: 4, EPOCH: 36, train_loss: 0.012265837902354228, valid_loss: 0.017102192022970746\n",
      "FOLD: 4, EPOCH: 37, train_loss: 0.012277789992859235, valid_loss: 0.017123077596936907\n",
      "FOLD: 4, EPOCH: 38, train_loss: 0.012271585446354505, valid_loss: 0.01708758356315749\n",
      "FOLD: 4, EPOCH: 39, train_loss: 0.012282608026588286, valid_loss: 0.017104217782616615\n",
      "FOLD: 5, EPOCH: 0, train_loss: 0.39626306647787224, valid_loss: 0.04338510760239193\n",
      "FOLD: 5, EPOCH: 1, train_loss: 0.02859233203973319, valid_loss: 0.021949033652033125\n",
      "FOLD: 5, EPOCH: 2, train_loss: 0.023941477257254963, valid_loss: 0.021082679075854167\n",
      "FOLD: 5, EPOCH: 3, train_loss: 0.023081423160997597, valid_loss: 0.02073566908282893\n",
      "FOLD: 5, EPOCH: 4, train_loss: 0.022201365363356228, valid_loss: 0.02029186620243958\n",
      "FOLD: 5, EPOCH: 5, train_loss: 0.02129674526686604, valid_loss: 0.01829034835100174\n",
      "FOLD: 5, EPOCH: 6, train_loss: 0.02072540026258778, valid_loss: 0.01834157614835671\n",
      "FOLD: 5, EPOCH: 7, train_loss: 0.020304245018475765, valid_loss: 0.018016132126961435\n",
      "FOLD: 5, EPOCH: 8, train_loss: 0.019998374017509254, valid_loss: 0.017921764669673785\n",
      "FOLD: 5, EPOCH: 9, train_loss: 0.019661581898863252, valid_loss: 0.01745348609983921\n",
      "FOLD: 5, EPOCH: 10, train_loss: 0.019369895595151024, valid_loss: 0.01756792196205684\n",
      "FOLD: 5, EPOCH: 11, train_loss: 0.019189582281821483, valid_loss: 0.01733226329088211\n",
      "FOLD: 5, EPOCH: 12, train_loss: 0.018926832422211364, valid_loss: 0.018759190504040037\n",
      "FOLD: 5, EPOCH: 13, train_loss: 0.01905538604871647, valid_loss: 0.016995042030300413\n",
      "FOLD: 5, EPOCH: 14, train_loss: 0.01865319595546336, valid_loss: 0.017003362998366356\n",
      "FOLD: 5, EPOCH: 15, train_loss: 0.018394784649481643, valid_loss: 0.01754409128001758\n",
      "FOLD: 5, EPOCH: 16, train_loss: 0.018308380769716727, valid_loss: 0.016995401786906377\n",
      "FOLD: 5, EPOCH: 17, train_loss: 0.018144999806945387, valid_loss: 0.0171996426901647\n",
      "FOLD: 5, EPOCH: 18, train_loss: 0.016945570606637646, valid_loss: 0.016487210855952332\n",
      "FOLD: 5, EPOCH: 19, train_loss: 0.016023049206548446, valid_loss: 0.01649294314639909\n",
      "FOLD: 5, EPOCH: 20, train_loss: 0.015340295116845015, valid_loss: 0.01658542374415057\n",
      "FOLD: 5, EPOCH: 21, train_loss: 0.014659828934315089, valid_loss: 0.016667515837720463\n",
      "FOLD: 5, EPOCH: 22, train_loss: 0.014011682464262924, valid_loss: 0.016837440697210177\n",
      "FOLD: 5, EPOCH: 23, train_loss: 0.01329968821861454, valid_loss: 0.016803294154150144\n",
      "FOLD: 5, EPOCH: 24, train_loss: 0.01314002602688364, valid_loss: 0.01681621266262872\n",
      "FOLD: 5, EPOCH: 25, train_loss: 0.013000118344820835, valid_loss: 0.016819317692092488\n",
      "FOLD: 5, EPOCH: 26, train_loss: 0.012880861306109943, valid_loss: 0.016841804342610494\n",
      "FOLD: 5, EPOCH: 27, train_loss: 0.012773871446984846, valid_loss: 0.016836629648293768\n",
      "FOLD: 5, EPOCH: 28, train_loss: 0.012741169414004765, valid_loss: 0.016833056030528887\n",
      "FOLD: 5, EPOCH: 29, train_loss: 0.01273333077394479, valid_loss: 0.0168416720948049\n",
      "FOLD: 5, EPOCH: 30, train_loss: 0.012717031647224684, valid_loss: 0.016851537195699557\n",
      "FOLD: 5, EPOCH: 31, train_loss: 0.01272929338990031, valid_loss: 0.016846488629068648\n",
      "FOLD: 5, EPOCH: 32, train_loss: 0.01272065275524919, valid_loss: 0.01684954602803503\n",
      "FOLD: 5, EPOCH: 33, train_loss: 0.012699090221242324, valid_loss: 0.016853186967117444\n",
      "FOLD: 5, EPOCH: 34, train_loss: 0.012715970115685786, valid_loss: 0.01685659055198942\n",
      "FOLD: 5, EPOCH: 35, train_loss: 0.012695081607514137, valid_loss: 0.016848609383617128\n",
      "FOLD: 5, EPOCH: 36, train_loss: 0.012711636394866416, valid_loss: 0.01685186502124582\n",
      "FOLD: 5, EPOCH: 37, train_loss: 0.012710202661519116, valid_loss: 0.01684299430676869\n",
      "FOLD: 5, EPOCH: 38, train_loss: 0.012689516653080244, valid_loss: 0.01682938528912408\n",
      "FOLD: 5, EPOCH: 39, train_loss: 0.012697458242041033, valid_loss: 0.016853144924555506\n",
      "FOLD: 6, EPOCH: 0, train_loss: 0.37230337904514493, valid_loss: 0.036560513611350744\n",
      "FOLD: 6, EPOCH: 1, train_loss: 0.027667928537404216, valid_loss: 0.021519275116068975\n",
      "FOLD: 6, EPOCH: 2, train_loss: 0.023831929055017395, valid_loss: 0.020765751600265503\n",
      "FOLD: 6, EPOCH: 3, train_loss: 0.022939760590324532, valid_loss: 0.020612294120447978\n",
      "FOLD: 6, EPOCH: 4, train_loss: 0.022007314035215893, valid_loss: 0.019897734746336937\n",
      "FOLD: 6, EPOCH: 5, train_loss: 0.0212407989075055, valid_loss: 0.018214131838509014\n",
      "FOLD: 6, EPOCH: 6, train_loss: 0.02066135738749762, valid_loss: 0.017698347302419797\n",
      "FOLD: 6, EPOCH: 7, train_loss: 0.020248450288498723, valid_loss: 0.017857111990451813\n",
      "FOLD: 6, EPOCH: 8, train_loss: 0.019927199728585577, valid_loss: 0.017561687688742365\n",
      "FOLD: 6, EPOCH: 9, train_loss: 0.019581640844006796, valid_loss: 0.017606841134173528\n",
      "FOLD: 6, EPOCH: 10, train_loss: 0.01923820245507601, valid_loss: 0.017329813912510872\n",
      "FOLD: 6, EPOCH: 11, train_loss: 0.01913369250660007, valid_loss: 0.017282114763345038\n",
      "FOLD: 6, EPOCH: 12, train_loss: 0.018964405448452848, valid_loss: 0.017406555158751353\n",
      "FOLD: 6, EPOCH: 13, train_loss: 0.018746357964905532, valid_loss: 0.017208443422402655\n",
      "FOLD: 6, EPOCH: 14, train_loss: 0.018569739686476218, valid_loss: 0.01676427253655025\n",
      "FOLD: 6, EPOCH: 15, train_loss: 0.018433054103641898, valid_loss: 0.017219987298761095\n",
      "FOLD: 6, EPOCH: 16, train_loss: 0.018283516369961405, valid_loss: 0.017097762120621546\n",
      "FOLD: 6, EPOCH: 17, train_loss: 0.018224273833471374, valid_loss: 0.017030682414770126\n",
      "FOLD: 6, EPOCH: 18, train_loss: 0.018129801276970555, valid_loss: 0.016852407583168576\n",
      "FOLD: 6, EPOCH: 19, train_loss: 0.01687272859586252, valid_loss: 0.016396911814808846\n",
      "FOLD: 6, EPOCH: 20, train_loss: 0.015968908530634804, valid_loss: 0.01644968560763768\n",
      "FOLD: 6, EPOCH: 21, train_loss: 0.015282612872888913, valid_loss: 0.016567013625587736\n",
      "FOLD: 6, EPOCH: 22, train_loss: 0.014630853097785163, valid_loss: 0.016590598970651627\n",
      "FOLD: 6, EPOCH: 23, train_loss: 0.01398721495894967, valid_loss: 0.016741922391312464\n",
      "FOLD: 6, EPOCH: 24, train_loss: 0.013309493509901536, valid_loss: 0.01669285260140896\n",
      "FOLD: 6, EPOCH: 25, train_loss: 0.013146667262992344, valid_loss: 0.01669638098350593\n",
      "FOLD: 6, EPOCH: 26, train_loss: 0.01299786605444309, valid_loss: 0.016730898459042822\n",
      "FOLD: 6, EPOCH: 27, train_loss: 0.012850252206663828, valid_loss: 0.016734320670366287\n",
      "FOLD: 6, EPOCH: 28, train_loss: 0.012777236718181017, valid_loss: 0.01673968881368637\n",
      "FOLD: 6, EPOCH: 29, train_loss: 0.012751898199722573, valid_loss: 0.01675950177013874\n",
      "FOLD: 6, EPOCH: 30, train_loss: 0.012762728801651581, valid_loss: 0.01674663115824972\n",
      "FOLD: 6, EPOCH: 31, train_loss: 0.012737045870036693, valid_loss: 0.01674608699977398\n",
      "FOLD: 6, EPOCH: 32, train_loss: 0.01271804656229309, valid_loss: 0.01674508862197399\n",
      "FOLD: 6, EPOCH: 33, train_loss: 0.012724751052824227, valid_loss: 0.016759172348039492\n",
      "FOLD: 6, EPOCH: 34, train_loss: 0.012733810228874555, valid_loss: 0.016740209023867334\n",
      "FOLD: 6, EPOCH: 35, train_loss: 0.012727749382926, valid_loss: 0.016739487381918088\n",
      "FOLD: 6, EPOCH: 36, train_loss: 0.012714716656183874, valid_loss: 0.01675508144710745\n",
      "FOLD: 6, EPOCH: 37, train_loss: 0.012711695848485909, valid_loss: 0.01674972607621125\n",
      "FOLD: 6, EPOCH: 38, train_loss: 0.01272838849675011, valid_loss: 0.01675699624632086\n",
      "FOLD: 6, EPOCH: 39, train_loss: 0.012714559388523167, valid_loss: 0.01673757684017931\n"
     ]
    }
   ],
   "source": [
    "SEED = [0]\n",
    "params={}\n",
    "train,target_cols = train_short_form_loader('../input/lish-moa/train_features.csv','../input/lish-moa/train_targets_scored.csv')\n",
    "test = test_short_form_loader(\"../input/lish-moa/test_features.csv\")\n",
    "\n",
    "pipeline_test = make_pipeline(*transformers_list)\n",
    "pipeline_test,train , test = apply_pipe_together(pipeline_test,train,test)\n",
    "#pipeline_test.fit(train)\n",
    "#test = pipeline_test.transform(test)\n",
    "#suppresor = SupressControls()\n",
    "#train = suppresor.fit_transform(train)\n",
    "#test = suppresor.transform(test)\n",
    "transformers_list=[IdentityTransformer()]\n",
    "\n",
    "oof = np.zeros((len(train), len(target_cols)))\n",
    "predictions = np.zeros((len(test), len(target_cols)))\n",
    "\n",
    "for seed in SEED:\n",
    "    folds = multifold_indexer(train,target_cols,n_splits=NFOLDS)\n",
    "    oof_, predictions_ = run_k_fold(folds,target_cols,test,transformers_list,NFOLDS, seed,verbose=True,**params)\n",
    "    oof += oof_ / len(SEED)\n",
    "    predictions += predictions_ / len(SEED)\n",
    "\n",
    "test[target_cols] = predictions"
   ]
  },
  {
   "cell_type": "code",
   "execution_count": 33,
   "metadata": {
    "execution": {
     "iopub.execute_input": "2020-11-11T04:35:43.029466Z",
     "iopub.status.busy": "2020-11-11T04:35:43.028534Z",
     "iopub.status.idle": "2020-11-11T04:35:48.555845Z",
     "shell.execute_reply": "2020-11-11T04:35:48.554987Z"
    },
    "papermill": {
     "duration": 5.665309,
     "end_time": "2020-11-11T04:35:48.555968",
     "exception": false,
     "start_time": "2020-11-11T04:35:42.890659",
     "status": "completed"
    },
    "tags": []
   },
   "outputs": [
    {
     "name": "stdout",
     "output_type": "stream",
     "text": [
      "OOF log loss:  0.015407736861453731\n"
     ]
    }
   ],
   "source": [
    "t = pd.read_csv(DATA_DIR + 'train_targets_scored.csv')\n",
    "train_checkscore = t.copy()\n",
    "train_checkscore.loc[cons_train_index,target_feats] = oof.values\n",
    "train_checkscore.loc[train_checkscore.index.isin(noncons_train_index),target_feats] = 0\n",
    "t.drop(\"sig_id\", axis=1, inplace=True)\n",
    "print('OOF log loss: ', log_loss(np.ravel(t), np.ravel(np.array(train_checkscore.iloc[:,1:]))))"
   ]
  },
  {
   "cell_type": "code",
   "execution_count": 34,
   "metadata": {
    "execution": {
     "iopub.execute_input": "2020-11-11T04:35:48.823817Z",
     "iopub.status.busy": "2020-11-11T04:35:48.823019Z",
     "iopub.status.idle": "2020-11-11T04:36:01.209900Z",
     "shell.execute_reply": "2020-11-11T04:36:01.208777Z"
    },
    "papermill": {
     "duration": 12.521073,
     "end_time": "2020-11-11T04:36:01.210055",
     "exception": false,
     "start_time": "2020-11-11T04:35:48.688982",
     "status": "completed"
    },
    "tags": []
   },
   "outputs": [],
   "source": [
    "train_checkscore.to_csv(\"dae_oof.csv\", index=False)"
   ]
  },
  {
   "cell_type": "code",
   "execution_count": 35,
   "metadata": {
    "execution": {
     "iopub.execute_input": "2020-11-11T04:36:01.489174Z",
     "iopub.status.busy": "2020-11-11T04:36:01.488205Z",
     "iopub.status.idle": "2020-11-11T04:36:04.125065Z",
     "shell.execute_reply": "2020-11-11T04:36:04.124269Z"
    },
    "papermill": {
     "duration": 2.786972,
     "end_time": "2020-11-11T04:36:04.125181",
     "exception": false,
     "start_time": "2020-11-11T04:36:01.338209",
     "status": "completed"
    },
    "tags": []
   },
   "outputs": [],
   "source": [
    "sample_submission = pd.read_csv('../input/lish-moa/sample_submission.csv')\n",
    "test_features = pd.read_csv('../input/lish-moa/test_features.csv')\n",
    "sample_submission.set_index('sig_id',inplace=True)\n",
    "test_features.set_index('sig_id',inplace=True)\n",
    "test_features = test_features.loc[sample_submission.index]\n",
    "\n",
    "sub = sample_submission.drop(columns=target_cols).merge(test[target_cols], on='sig_id', how='left').fillna(0)\n",
    "#sub.set_index('sig_id',inplace=True)\n",
    "sub.loc[test_features['cp_type']=='ctl_vehicle', target_cols] =0\n",
    "sub.to_csv('./submission.csv', index=True)"
   ]
  },
  {
   "cell_type": "code",
   "execution_count": null,
   "metadata": {
    "papermill": {
     "duration": 0.132786,
     "end_time": "2020-11-11T04:36:04.385585",
     "exception": false,
     "start_time": "2020-11-11T04:36:04.252799",
     "status": "completed"
    },
    "tags": []
   },
   "outputs": [],
   "source": []
  }
 ],
 "metadata": {
  "kernelspec": {
   "display_name": "Python 3",
   "language": "python",
   "name": "python3"
  },
  "language_info": {
   "codemirror_mode": {
    "name": "ipython",
    "version": 3
   },
   "file_extension": ".py",
   "mimetype": "text/x-python",
   "name": "python",
   "nbconvert_exporter": "python",
   "pygments_lexer": "ipython3",
   "version": "3.7.6"
  },
  "papermill": {
   "duration": 732.799715,
   "end_time": "2020-11-11T04:36:05.022504",
   "environment_variables": {},
   "exception": null,
   "input_path": "__notebook__.ipynb",
   "output_path": "__notebook__.ipynb",
   "parameters": {},
   "start_time": "2020-11-11T04:23:52.222789",
   "version": "2.1.0"
  }
 },
 "nbformat": 4,
 "nbformat_minor": 4
}
