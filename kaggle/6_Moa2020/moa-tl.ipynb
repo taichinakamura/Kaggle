{
 "cells": [
  {
   "cell_type": "markdown",
   "metadata": {
    "papermill": {
     "duration": 0.020149,
     "end_time": "2020-11-04T12:21:08.171832",
     "exception": false,
     "start_time": "2020-11-04T12:21:08.151683",
     "status": "completed"
    },
    "tags": []
   },
   "source": [
    "- change validation method"
   ]
  },
  {
   "cell_type": "code",
   "execution_count": 1,
   "metadata": {
    "_cell_guid": "b1076dfc-b9ad-4769-8c92-a6c4dae69d19",
    "_uuid": "8f2839f25d086af736a60e9eeb907d3b93b6e0e5",
    "execution": {
     "iopub.execute_input": "2020-11-04T12:21:08.221485Z",
     "iopub.status.busy": "2020-11-04T12:21:08.220551Z",
     "iopub.status.idle": "2020-11-04T12:21:17.565702Z",
     "shell.execute_reply": "2020-11-04T12:21:17.564086Z"
    },
    "papermill": {
     "duration": 9.375089,
     "end_time": "2020-11-04T12:21:17.565849",
     "exception": false,
     "start_time": "2020-11-04T12:21:08.190760",
     "status": "completed"
    },
    "tags": []
   },
   "outputs": [],
   "source": [
    "import os\n",
    "import sys\n",
    "import random\n",
    "import warnings\n",
    "import numpy as np\n",
    "import pandas as pd \n",
    "from umap import UMAP\n",
    "from sklearn import preprocessing\n",
    "from sklearn.metrics import log_loss,roc_auc_score\n",
    "from sklearn.decomposition import PCA\n",
    "from tqdm import tqdm_notebook as tqdm\n",
    "from sklearn.cluster import KMeans\n",
    "from sklearn.multioutput import MultiOutputClassifier\n",
    "from sklearn.feature_selection import VarianceThreshold\n",
    "\n",
    "sys.path.append('../input/multilabelstraifier/')\n",
    "from ml_stratifiers import MultilabelStratifiedKFold\n",
    "warnings.filterwarnings('ignore')\n",
    "\n",
    "import time\n",
    "import torch\n",
    "import torch.nn as nn\n",
    "import torch.optim as optim\n",
    "import torch.nn.functional as F\n",
    "import tensorflow as tf\n",
    "from torch.nn.modules.loss import _WeightedLoss"
   ]
  },
  {
   "cell_type": "code",
   "execution_count": 2,
   "metadata": {
    "_cell_guid": "79c7e3d0-c299-4dcb-8224-4455121ee9b0",
    "_uuid": "d629ff2d2480ee46fbb7e2d37f6b5fab8052498a",
    "execution": {
     "iopub.execute_input": "2020-11-04T12:21:17.615491Z",
     "iopub.status.busy": "2020-11-04T12:21:17.614417Z",
     "iopub.status.idle": "2020-11-04T12:21:24.434588Z",
     "shell.execute_reply": "2020-11-04T12:21:24.433436Z"
    },
    "papermill": {
     "duration": 6.848879,
     "end_time": "2020-11-04T12:21:24.434709",
     "exception": false,
     "start_time": "2020-11-04T12:21:17.585830",
     "status": "completed"
    },
    "tags": []
   },
   "outputs": [],
   "source": [
    "DATA_DIR = '/kaggle/input/lish-moa/'\n",
    "train = pd.read_csv(DATA_DIR + 'train_features.csv')\n",
    "targets = pd.read_csv(DATA_DIR + 'train_targets_scored.csv')\n",
    "non_targets = pd.read_csv(DATA_DIR + 'train_targets_nonscored.csv')\n",
    "test = pd.read_csv(DATA_DIR + 'test_features.csv')\n",
    "sub = pd.read_csv(DATA_DIR + 'sample_submission.csv')\n",
    "drug = pd.read_csv(DATA_DIR + 'train_drug.csv')"
   ]
  },
  {
   "cell_type": "code",
   "execution_count": 3,
   "metadata": {
    "execution": {
     "iopub.execute_input": "2020-11-04T12:21:24.478153Z",
     "iopub.status.busy": "2020-11-04T12:21:24.477400Z",
     "iopub.status.idle": "2020-11-04T12:21:24.481436Z",
     "shell.execute_reply": "2020-11-04T12:21:24.480832Z"
    },
    "papermill": {
     "duration": 0.028436,
     "end_time": "2020-11-04T12:21:24.481534",
     "exception": false,
     "start_time": "2020-11-04T12:21:24.453098",
     "status": "completed"
    },
    "tags": []
   },
   "outputs": [],
   "source": [
    "target_feats = [ i for i in targets.columns if i != \"sig_id\"]\n",
    "g_feats = [i for i in train.columns if \"g-\" in i]\n",
    "c_feats = [i for i in train.columns if \"c-\" in i]"
   ]
  },
  {
   "cell_type": "code",
   "execution_count": 4,
   "metadata": {
    "execution": {
     "iopub.execute_input": "2020-11-04T12:21:24.527980Z",
     "iopub.status.busy": "2020-11-04T12:21:24.527112Z",
     "iopub.status.idle": "2020-11-04T12:21:24.623811Z",
     "shell.execute_reply": "2020-11-04T12:21:24.623181Z"
    },
    "papermill": {
     "duration": 0.1234,
     "end_time": "2020-11-04T12:21:24.623934",
     "exception": false,
     "start_time": "2020-11-04T12:21:24.500534",
     "status": "completed"
    },
    "tags": []
   },
   "outputs": [],
   "source": [
    "noncons_train_index = train[train.cp_type==\"ctl_vehicle\"].index\n",
    "cons_train_index = train[train.cp_type!=\"ctl_vehicle\"].index\n",
    "noncons_test_index = test[test.cp_type==\"ctl_vehicle\"].index\n",
    "cons_test_index = test[test.cp_type!=\"ctl_vehicle\"].index"
   ]
  },
  {
   "cell_type": "markdown",
   "metadata": {
    "papermill": {
     "duration": 0.039686,
     "end_time": "2020-11-04T12:21:24.690440",
     "exception": false,
     "start_time": "2020-11-04T12:21:24.650754",
     "status": "completed"
    },
    "tags": []
   },
   "source": [
    "# preprocess"
   ]
  },
  {
   "cell_type": "code",
   "execution_count": 5,
   "metadata": {
    "execution": {
     "iopub.execute_input": "2020-11-04T12:21:24.788154Z",
     "iopub.status.busy": "2020-11-04T12:21:24.786578Z",
     "iopub.status.idle": "2020-11-04T12:21:25.233315Z",
     "shell.execute_reply": "2020-11-04T12:21:25.231849Z"
    },
    "papermill": {
     "duration": 0.503712,
     "end_time": "2020-11-04T12:21:25.233479",
     "exception": false,
     "start_time": "2020-11-04T12:21:24.729767",
     "status": "completed"
    },
    "tags": []
   },
   "outputs": [],
   "source": [
    "train = train[train.index.isin(cons_train_index)].copy().reset_index(drop=True)\n",
    "test = test[test.index.isin(cons_test_index)].copy().reset_index(drop=True)\n",
    "targets = targets[targets.index.isin(cons_train_index)].copy().reset_index(drop=True)\n",
    "non_targets = non_targets[non_targets.index.isin(cons_train_index)].copy().reset_index(drop=True)\n",
    "drug = drug[drug.index.isin(cons_train_index)].copy().reset_index(drop=True)"
   ]
  },
  {
   "cell_type": "code",
   "execution_count": 6,
   "metadata": {
    "execution": {
     "iopub.execute_input": "2020-11-04T12:21:25.634831Z",
     "iopub.status.busy": "2020-11-04T12:21:25.633872Z",
     "iopub.status.idle": "2020-11-04T12:21:26.355636Z",
     "shell.execute_reply": "2020-11-04T12:21:26.354699Z"
    },
    "papermill": {
     "duration": 1.092205,
     "end_time": "2020-11-04T12:21:26.355778",
     "exception": false,
     "start_time": "2020-11-04T12:21:25.263573",
     "status": "completed"
    },
    "tags": []
   },
   "outputs": [
    {
     "data": {
      "text/plain": [
       "array([[1, 1, 4, ..., 1, 0, 1]], dtype=int8)"
      ]
     },
     "execution_count": 6,
     "metadata": {},
     "output_type": "execute_result"
    }
   ],
   "source": [
    "# https://www.kaggle.com/c/lish-moa/discussion/195195\n",
    "NB_SPLITS = 5\n",
    "seed = 34\n",
    "\n",
    "folds = []\n",
    "    \n",
    "# LOAD FILES\n",
    "train_score = targets.merge(drug, on='sig_id', how='left') \n",
    "\n",
    "# LOCATE DRUGS\n",
    "vc = train_score.drug_id.value_counts()\n",
    "vc1 = vc.loc[vc <= 18].index.sort_values()\n",
    "vc2 = vc.loc[vc > 18].index.sort_values()\n",
    "\n",
    "# STRATIFY DRUGS 18X OR LESS\n",
    "dct1 = {}; dct2 = {}\n",
    "skf = MultilabelStratifiedKFold(n_splits = NB_SPLITS, shuffle = True, random_state = seed)\n",
    "tmp = train_score.groupby('drug_id')[target_feats].mean().loc[vc1]\n",
    "for fold,(idxT,idxV) in enumerate(skf.split(tmp,tmp[target_feats])):\n",
    "    dd = {k:fold for k in tmp.index[idxV].values}\n",
    "    dct1.update(dd)\n",
    "\n",
    "# STRATIFY DRUGS MORE THAN 18X\n",
    "skf = MultilabelStratifiedKFold(n_splits = NB_SPLITS, shuffle = True, random_state = seed)\n",
    "tmp = train_score.loc[train_score.drug_id.isin(vc2)].reset_index(drop = True)\n",
    "for fold,(idxT,idxV) in enumerate(skf.split(tmp,tmp[target_feats])):\n",
    "    dd = {k:fold for k in tmp.sig_id[idxV].values}\n",
    "    dct2.update(dd)\n",
    "\n",
    "# ASSIGN FOLDS\n",
    "train_score['fold'] = train_score.drug_id.map(dct1)\n",
    "train_score.loc[train_score.fold.isna(),'fold'] = train_score.loc[train_score.fold.isna(),'sig_id'].map(dct2)\n",
    "train_score.fold = train_score.fold.astype('int8')\n",
    "folds.append(train_score.fold.values)\n",
    "    \n",
    "np.array(folds)"
   ]
  },
  {
   "cell_type": "code",
   "execution_count": 7,
   "metadata": {
    "execution": {
     "iopub.execute_input": "2020-11-04T12:21:26.430998Z",
     "iopub.status.busy": "2020-11-04T12:21:26.429851Z",
     "iopub.status.idle": "2020-11-04T12:21:26.468020Z",
     "shell.execute_reply": "2020-11-04T12:21:26.467387Z"
    },
    "papermill": {
     "duration": 0.092323,
     "end_time": "2020-11-04T12:21:26.468138",
     "exception": false,
     "start_time": "2020-11-04T12:21:26.375815",
     "status": "completed"
    },
    "tags": []
   },
   "outputs": [
    {
     "name": "stdout",
     "output_type": "stream",
     "text": [
      "first drop 71\n",
      "shape after 1st drop: (21948, 332)\n",
      "331\n"
     ]
    }
   ],
   "source": [
    "non_target_feats = [i for i in non_targets.columns if i != \"sig_id\"]\n",
    "nontarget_dists = pd.DataFrame(np.sum(non_targets[non_target_feats])).reset_index(drop=False)\n",
    "nontarget_dists.columns = [\"target\", \"number\"]\n",
    "nontarget_dists = nontarget_dists.sort_values(\"number\", ascending=False).reset_index(drop=True)\n",
    "drop_list1 = list(nontarget_dists[nontarget_dists.number==0][\"target\"].values)\n",
    "print(\"first drop\", len(drop_list1))\n",
    "non_targets.drop(drop_list1, axis=1, inplace=True)\n",
    "print(\"shape after 1st drop:\", non_targets.shape)\n",
    "non_target_feats = [i for i in non_targets.columns if i != \"sig_id\"]\n",
    "print(len(non_target_feats))"
   ]
  },
  {
   "cell_type": "code",
   "execution_count": 8,
   "metadata": {
    "execution": {
     "iopub.execute_input": "2020-11-04T12:21:26.517767Z",
     "iopub.status.busy": "2020-11-04T12:21:26.516295Z",
     "iopub.status.idle": "2020-11-04T12:21:26.561634Z",
     "shell.execute_reply": "2020-11-04T12:21:26.560031Z"
    },
    "papermill": {
     "duration": 0.072148,
     "end_time": "2020-11-04T12:21:26.561762",
     "exception": false,
     "start_time": "2020-11-04T12:21:26.489614",
     "status": "completed"
    },
    "tags": []
   },
   "outputs": [],
   "source": [
    "all_targets = pd.concat([targets, non_targets], axis=1)"
   ]
  },
  {
   "cell_type": "markdown",
   "metadata": {
    "papermill": {
     "duration": 0.020086,
     "end_time": "2020-11-04T12:21:26.602867",
     "exception": false,
     "start_time": "2020-11-04T12:21:26.582781",
     "status": "completed"
    },
    "tags": []
   },
   "source": [
    "# Feature enginnering"
   ]
  },
  {
   "cell_type": "code",
   "execution_count": 9,
   "metadata": {
    "execution": {
     "iopub.execute_input": "2020-11-04T12:21:26.702767Z",
     "iopub.status.busy": "2020-11-04T12:21:26.701330Z",
     "iopub.status.idle": "2020-11-04T12:21:27.083994Z",
     "shell.execute_reply": "2020-11-04T12:21:27.083434Z"
    },
    "papermill": {
     "duration": 0.460546,
     "end_time": "2020-11-04T12:21:27.084120",
     "exception": false,
     "start_time": "2020-11-04T12:21:26.623574",
     "status": "completed"
    },
    "tags": []
   },
   "outputs": [],
   "source": [
    "X = train.iloc[:,4:].copy().values\n",
    "select = VarianceThreshold(threshold=0.7)\n",
    "X_new = select.fit_transform(X)\n",
    "drop_feats = list(np.array(train.iloc[:,4:].columns)[select.get_support()==False])\n",
    "len(drop_feats)\n",
    "\n",
    "train.drop(drop_feats, axis=1, inplace=True)\n",
    "test.drop(drop_feats, axis=1, inplace=True)"
   ]
  },
  {
   "cell_type": "code",
   "execution_count": 10,
   "metadata": {
    "execution": {
     "iopub.execute_input": "2020-11-04T12:21:27.132059Z",
     "iopub.status.busy": "2020-11-04T12:21:27.131279Z",
     "iopub.status.idle": "2020-11-04T12:21:27.134458Z",
     "shell.execute_reply": "2020-11-04T12:21:27.134912Z"
    },
    "papermill": {
     "duration": 0.028995,
     "end_time": "2020-11-04T12:21:27.135047",
     "exception": false,
     "start_time": "2020-11-04T12:21:27.106052",
     "status": "completed"
    },
    "tags": []
   },
   "outputs": [],
   "source": [
    "g_feats = [i for i in train.columns if \"g-\" in i]\n",
    "c_feats = [i for i in train.columns if \"c-\" in i]"
   ]
  },
  {
   "cell_type": "code",
   "execution_count": 11,
   "metadata": {
    "execution": {
     "iopub.execute_input": "2020-11-04T12:21:27.187366Z",
     "iopub.status.busy": "2020-11-04T12:21:27.186456Z",
     "iopub.status.idle": "2020-11-04T12:21:39.108523Z",
     "shell.execute_reply": "2020-11-04T12:21:39.107105Z"
    },
    "papermill": {
     "duration": 11.953222,
     "end_time": "2020-11-04T12:21:39.108661",
     "exception": false,
     "start_time": "2020-11-04T12:21:27.155439",
     "status": "completed"
    },
    "tags": []
   },
   "outputs": [],
   "source": [
    "# rank gauss\n",
    "for i in c_feats + g_feats:\n",
    "    ss = preprocessing.QuantileTransformer(n_quantiles=1000, random_state=0, output_distribution=\"normal\")\n",
    "    ss.fit(train[i].values.reshape(-1,1))\n",
    "    train[i] = ss.transform(train[i].values.reshape(-1,1))\n",
    "    test[i] = ss.transform(test[i].values.reshape(-1,1))"
   ]
  },
  {
   "cell_type": "code",
   "execution_count": 12,
   "metadata": {
    "execution": {
     "iopub.execute_input": "2020-11-04T12:21:39.172419Z",
     "iopub.status.busy": "2020-11-04T12:21:39.170519Z",
     "iopub.status.idle": "2020-11-04T12:21:41.336502Z",
     "shell.execute_reply": "2020-11-04T12:21:41.335852Z"
    },
    "papermill": {
     "duration": 2.206983,
     "end_time": "2020-11-04T12:21:41.336624",
     "exception": false,
     "start_time": "2020-11-04T12:21:39.129641",
     "status": "completed"
    },
    "tags": []
   },
   "outputs": [],
   "source": [
    "c_num = 10\n",
    "pca_c_cols = [\"pca-c\"+str(i+1) for i in range(c_num)]\n",
    "pca = PCA(n_components=c_num,random_state=42)\n",
    "c_train = pca.fit_transform(train[c_feats])\n",
    "c_test = pca.transform(test[c_feats])\n",
    "c_train = pd.DataFrame(c_train, columns=pca_c_cols)\n",
    "c_test = pd.DataFrame(c_test, columns=pca_c_cols)\n",
    "\n",
    "g_num = 60\n",
    "pca_g_cols = [\"pca-g\"+str(i+1) for i in range(g_num)]\n",
    "pca = PCA(n_components=g_num, random_state=42)\n",
    "g_train = pca.fit_transform(train[g_feats])\n",
    "g_test = pca.transform(test[g_feats])\n",
    "g_train = pd.DataFrame(g_train, columns=pca_g_cols)\n",
    "g_test = pd.DataFrame(g_test, columns=pca_g_cols)\n",
    "\n",
    "train = pd.concat([train, c_train],axis=1)\n",
    "test = pd.concat([test, c_test],axis=1)\n",
    "train = pd.concat([train, g_train],axis=1)\n",
    "test = pd.concat([test, g_test],axis=1)"
   ]
  },
  {
   "cell_type": "code",
   "execution_count": 13,
   "metadata": {
    "execution": {
     "iopub.execute_input": "2020-11-04T12:21:41.387949Z",
     "iopub.status.busy": "2020-11-04T12:21:41.386699Z",
     "iopub.status.idle": "2020-11-04T12:21:41.784609Z",
     "shell.execute_reply": "2020-11-04T12:21:41.785129Z"
    },
    "papermill": {
     "duration": 0.427099,
     "end_time": "2020-11-04T12:21:41.785277",
     "exception": false,
     "start_time": "2020-11-04T12:21:41.358178",
     "status": "completed"
    },
    "tags": []
   },
   "outputs": [
    {
     "name": "stdout",
     "output_type": "stream",
     "text": [
      "(21948, 914) (3624, 914)\n"
     ]
    }
   ],
   "source": [
    "def fe(df):\n",
    "    tmp = df.copy()\n",
    "    tmp = pd.get_dummies(tmp, columns=['cp_time','cp_dose'])\n",
    "    tmp.drop([\"cp_type\", \"sig_id\"], axis=1, inplace=True) \n",
    "    return tmp\n",
    "\n",
    "train = fe(train)\n",
    "test = fe(test)\n",
    "\n",
    "print(train.shape, test.shape)"
   ]
  },
  {
   "cell_type": "code",
   "execution_count": 14,
   "metadata": {
    "execution": {
     "iopub.execute_input": "2020-11-04T12:21:41.835090Z",
     "iopub.status.busy": "2020-11-04T12:21:41.834277Z",
     "iopub.status.idle": "2020-11-04T12:21:41.837346Z",
     "shell.execute_reply": "2020-11-04T12:21:41.836862Z"
    },
    "papermill": {
     "duration": 0.030462,
     "end_time": "2020-11-04T12:21:41.837446",
     "exception": false,
     "start_time": "2020-11-04T12:21:41.806984",
     "status": "completed"
    },
    "tags": []
   },
   "outputs": [],
   "source": [
    "train[\"fold\"] = np.array(folds).reshape(-1,1)"
   ]
  },
  {
   "cell_type": "code",
   "execution_count": 15,
   "metadata": {
    "execution": {
     "iopub.execute_input": "2020-11-04T12:21:41.888690Z",
     "iopub.status.busy": "2020-11-04T12:21:41.887322Z",
     "iopub.status.idle": "2020-11-04T12:21:42.181045Z",
     "shell.execute_reply": "2020-11-04T12:21:42.180417Z"
    },
    "papermill": {
     "duration": 0.321887,
     "end_time": "2020-11-04T12:21:42.181172",
     "exception": false,
     "start_time": "2020-11-04T12:21:41.859285",
     "status": "completed"
    },
    "tags": []
   },
   "outputs": [],
   "source": [
    "fn_train = train.copy().to_numpy()\n",
    "fn_test = test.copy().to_numpy()\n",
    "\n",
    "fn_targets = targets.drop(\"sig_id\", axis=1).copy().to_numpy()\n",
    "fn_all_targets = all_targets.drop(\"sig_id\", axis=1).copy().to_numpy()"
   ]
  },
  {
   "cell_type": "markdown",
   "metadata": {
    "papermill": {
     "duration": 0.021545,
     "end_time": "2020-11-04T12:21:42.225425",
     "exception": false,
     "start_time": "2020-11-04T12:21:42.203880",
     "status": "completed"
    },
    "tags": []
   },
   "source": [
    "# modelling"
   ]
  },
  {
   "cell_type": "code",
   "execution_count": 16,
   "metadata": {
    "execution": {
     "iopub.execute_input": "2020-11-04T12:21:42.283079Z",
     "iopub.status.busy": "2020-11-04T12:21:42.282003Z",
     "iopub.status.idle": "2020-11-04T12:21:42.284324Z",
     "shell.execute_reply": "2020-11-04T12:21:42.284850Z"
    },
    "papermill": {
     "duration": 0.037796,
     "end_time": "2020-11-04T12:21:42.284978",
     "exception": false,
     "start_time": "2020-11-04T12:21:42.247182",
     "status": "completed"
    },
    "tags": []
   },
   "outputs": [],
   "source": [
    "class SmoothCrossEntropyLoss(_WeightedLoss):\n",
    "    def __init__(self, weight=None, reduction='mean', smoothing=0.0):\n",
    "        super().__init__(weight=weight, reduction=reduction)\n",
    "        self.smoothing = smoothing\n",
    "        self.weight = weight\n",
    "        self.reduction = reduction\n",
    "\n",
    "    @staticmethod\n",
    "    def _smooth(targets, n_classes, smoothing=0.0):\n",
    "        assert 0 <= smoothing <= 1\n",
    "        with torch.no_grad():\n",
    "            targets = targets * (1 - smoothing) + torch.ones_like(targets).to(device) * smoothing / n_classes\n",
    "        return targets\n",
    "\n",
    "    def forward(self, inputs, targets):\n",
    "        targets = SmoothCrossEntropyLoss()._smooth(targets, inputs.shape[1], self.smoothing)\n",
    "\n",
    "        if self.weight is not None:\n",
    "            inputs = inputs * self.weight.unsqueeze(0)\n",
    "\n",
    "        loss = F.binary_cross_entropy_with_logits(inputs, targets)\n",
    "\n",
    "        return loss"
   ]
  },
  {
   "cell_type": "code",
   "execution_count": 17,
   "metadata": {
    "execution": {
     "iopub.execute_input": "2020-11-04T12:21:42.721728Z",
     "iopub.status.busy": "2020-11-04T12:21:42.720227Z",
     "iopub.status.idle": "2020-11-04T12:21:42.727311Z",
     "shell.execute_reply": "2020-11-04T12:21:42.728047Z"
    },
    "papermill": {
     "duration": 0.421207,
     "end_time": "2020-11-04T12:21:42.728200",
     "exception": false,
     "start_time": "2020-11-04T12:21:42.306993",
     "status": "completed"
    },
    "tags": []
   },
   "outputs": [
    {
     "name": "stdout",
     "output_type": "stream",
     "text": [
      "cuda\n"
     ]
    }
   ],
   "source": [
    "device = \"cuda\" if torch.cuda.is_available() else \"cpu\"\n",
    "\n",
    "print(device)\n",
    "def mean_log_loss(y_true, y_pred):\n",
    "    metrics = []\n",
    "    for i, target in enumerate(target_feats):\n",
    "        metrics.append(log_loss(y_true[:, i], y_pred[:, i].astype(float), labels=[0,1]))\n",
    "    return np.mean(metrics)\n",
    "\n",
    "def seed_everything(seed=42): \n",
    "    random.seed(seed)\n",
    "    os.environ['PYTHONHASHSEED'] = str(seed)\n",
    "    tf.random.set_seed(seed)\n",
    "    np.random.seed(seed)\n",
    "    torch.manual_seed(seed)\n",
    "    torch.cuda.manual_seed(seed)\n",
    "    torch.backends.cudnn.deterministic = True\n",
    "\n",
    "class MoaModel(nn.Module):\n",
    "    def __init__(self, num_columns, last_num):\n",
    "        super(MoaModel, self).__init__()\n",
    "        self.batch_norm1 = nn.BatchNorm1d(num_columns)\n",
    "        self.dropout1 = nn.Dropout(0.1)\n",
    "        self.dense1 = nn.utils.weight_norm(nn.Linear(num_columns, 1024))\n",
    "        self.relu1 = nn.LeakyReLU()\n",
    "        \n",
    "        self.batch_norm2 = nn.BatchNorm1d(1024)\n",
    "        self.dropout2 = nn.Dropout(0.1)\n",
    "        self.dense2 = nn.utils.weight_norm(nn.Linear(1024, 1024))\n",
    "        self.relu2 = nn.LeakyReLU()\n",
    "        \n",
    "        self.batch_norm3 = nn.BatchNorm1d(1024)\n",
    "        self.dropout3 = nn.Dropout(0.1)\n",
    "        self.dense3 = nn.utils.weight_norm(nn.Linear(1024, last_num))\n",
    "    \n",
    "    def forward(self, x):\n",
    "        x = self.batch_norm1(x)\n",
    "        x = self.dropout1(x)\n",
    "        x = self.relu1(self.dense1(x))\n",
    "        \n",
    "        x = self.batch_norm2(x)\n",
    "        x = self.dropout2(x)\n",
    "        x = self.relu2(self.dense2(x))\n",
    "        \n",
    "        x = self.batch_norm3(x)\n",
    "        x = self.dropout3(x)\n",
    "        x = self.dense3(x)\n",
    "        \n",
    "        return x"
   ]
  },
  {
   "cell_type": "code",
   "execution_count": 18,
   "metadata": {
    "execution": {
     "iopub.execute_input": "2020-11-04T12:21:42.802377Z",
     "iopub.status.busy": "2020-11-04T12:21:42.786789Z",
     "iopub.status.idle": "2020-11-04T12:21:42.837570Z",
     "shell.execute_reply": "2020-11-04T12:21:42.838052Z"
    },
    "papermill": {
     "duration": 0.087693,
     "end_time": "2020-11-04T12:21:42.838199",
     "exception": false,
     "start_time": "2020-11-04T12:21:42.750506",
     "status": "completed"
    },
    "tags": []
   },
   "outputs": [],
   "source": [
    "batch_size = 128\n",
    "n_folds=5\n",
    "EARLY_STOPPING_STEPS = 10\n",
    "smoothing = 0.001\n",
    "p_min = smoothing\n",
    "p_max = 1 - smoothing\n",
    "\n",
    "def torch_tl(tr, target, te, sample_seed, init_num, files):\n",
    "    seed_everything(seed=sample_seed) \n",
    "    X_train = tr.copy()\n",
    "    y_train = target.copy()\n",
    "    X_test = te.copy()\n",
    "    test_len = X_test.shape[0]\n",
    "    \n",
    "    if files == []:\n",
    "        train_epochs = 10\n",
    "        ans = []\n",
    "    else:\n",
    "        train_epochs = 20\n",
    "        \n",
    "    metric = lambda inputs, targets : F.binary_cross_entropy((torch.clamp(torch.sigmoid(inputs), p_min, p_max)), targets)\n",
    "    models = []\n",
    "    \n",
    "    X_test = torch.tensor(X_test, dtype=torch.float32)\n",
    "    X_test = torch.utils.data.TensorDataset(X_test) \n",
    "    test_loader = torch.utils.data.DataLoader(X_test, batch_size=batch_size, shuffle=False)\n",
    "    \n",
    "    oof = np.zeros([len(X_train),y_train.shape[1]])\n",
    "    oof_targets = np.zeros([len(X_train),y_train.shape[1]])\n",
    "    pred_value = np.zeros([test_len, y_train.shape[1]])\n",
    "    scores = []\n",
    "    for fold in range(n_folds):\n",
    "        valid_index = X_train[:,-1] == fold\n",
    "        train_index = X_train[:,-1] != fold\n",
    "        print(\"Fold \"+str(fold+1))\n",
    "        X_train2 = torch.tensor(X_train[train_index,:], dtype=torch.float32)\n",
    "        y_train2 = torch.tensor(y_train[train_index], dtype=torch.float32)\n",
    "\n",
    "        X_valid2 = torch.tensor(X_train[valid_index,:], dtype=torch.float32)\n",
    "        y_valid2 = torch.tensor(y_train[valid_index], dtype=torch.float32)\n",
    "        \n",
    "        X_train2 = X_train2[:,:-1]\n",
    "        X_valid2 = X_valid2[:,:-1]\n",
    "        \n",
    "        train = torch.utils.data.TensorDataset(X_train2, y_train2)\n",
    "        valid = torch.utils.data.TensorDataset(X_valid2, y_valid2)\n",
    "        \n",
    "        train_loader = torch.utils.data.DataLoader(train, batch_size=batch_size, shuffle=True) \n",
    "        valid_loader = torch.utils.data.DataLoader(valid, batch_size=batch_size, shuffle=False)\n",
    "            \n",
    "        clf = MoaModel(init_num, len(non_target_feats)+len(target_feats))\n",
    "\n",
    "        loss_fn = SmoothCrossEntropyLoss(smoothing=smoothing)\n",
    "        if files != []:\n",
    "            clf.load_state_dict(torch.load(files[fold]))\n",
    "            for param in clf.parameters():\n",
    "                param.requires_grad = False\n",
    "            # reinitialze\n",
    "            clf.dense3 = nn.utils.weight_norm(nn.Linear(1024, len(target_feats)))\n",
    "            for param in clf.dense3.parameters():\n",
    "                param.requires_grad = True\n",
    "            optimizer = optim.Adam(clf.parameters(), lr = 0.001, weight_decay=1e-5) \n",
    "            scheduler = optim.lr_scheduler.OneCycleLR(optimizer=optimizer, pct_start=0.1, div_factor=1e3, \n",
    "                                              max_lr=1e-2, epochs=train_epochs, steps_per_epoch=len(train_loader))\n",
    "            \n",
    "        else:\n",
    "            optimizer = optim.Adam(clf.parameters(), lr = 0.001, weight_decay=1e-5) \n",
    "            scheduler = optim.lr_scheduler.OneCycleLR(optimizer=optimizer, pct_start=0.1, div_factor=1e3, \n",
    "                                              max_lr=1e-2, epochs=train_epochs, steps_per_epoch=len(train_loader))\n",
    "        \n",
    "        clf.to(device)\n",
    "        best_val_loss = np.inf\n",
    "        stop_counts = 0\n",
    "        \n",
    "        for epoch in range(train_epochs):\n",
    "            start_time = time.time()\n",
    "            clf.train()\n",
    "            avg_loss = 0.\n",
    "            sm_avg_loss = 0.\n",
    "            for x_batch, y_batch in tqdm(train_loader, disable=True):\n",
    "                x_batch = x_batch.to(device)\n",
    "                y_batch = y_batch.to(device)\n",
    "                y_pred = clf(x_batch) \n",
    "                loss = loss_fn(y_pred, y_batch)\n",
    "                optimizer.zero_grad()\n",
    "                loss.backward()\n",
    "                optimizer.step()\n",
    "                scheduler.step()\n",
    "                avg_loss += loss.item() / len(train_loader)  \n",
    "                sm_avg_loss += metric(y_pred, y_batch) / len(train_loader)      \n",
    "            \n",
    "            clf.eval()\n",
    "            avg_val_loss = 0.\n",
    "            sm_avg_val_loss = 0.\n",
    "            \n",
    "            for i, (x_batch, y_batch) in enumerate(valid_loader): \n",
    "                x_batch = x_batch.to(device)\n",
    "                y_batch = y_batch.to(device)\n",
    "                y_pred = clf(x_batch).detach()\n",
    "                avg_val_loss += loss_fn(y_pred, y_batch).item() / len(valid_loader)\n",
    "                sm_avg_val_loss += metric(y_pred, y_batch) / len(valid_loader)\n",
    "                \n",
    "            elapsed_time = time.time() - start_time \n",
    "                    \n",
    "            if sm_avg_val_loss < best_val_loss:\n",
    "                stop_counts = 0\n",
    "                best_val_loss = sm_avg_val_loss\n",
    "                print('Best: Epoch {} \\t loss={:.5f} \\t val_loss={:.5f} \\t sm_loss={:.5f} \\t sm_val_loss={:.5f} \\t time={:.2f}s'.format(\n",
    "                    epoch + 1, avg_loss, avg_val_loss, sm_avg_loss, sm_avg_val_loss, elapsed_time))\n",
    "                if files == []:\n",
    "                    torch.save(clf.state_dict(), 'parameters'+str(fold+1)+'.pt')\n",
    "                else:    \n",
    "                    torch.save(clf.state_dict(), 'best-model-parameters.pt')\n",
    "            else:\n",
    "                stop_counts += 1\n",
    "                \n",
    "        if files == []:\n",
    "            pred_model = MoaModel(init_num, len(non_target_feats)+len(target_feats))\n",
    "            ans.append('parameters'+str(fold+1)+'.pt')\n",
    "            pred_model.load_state_dict(torch.load('parameters'+str(fold+1)+'.pt'))\n",
    "        else:\n",
    "            pred_model = MoaModel(init_num, len(target_feats))\n",
    "            pred_model.load_state_dict(torch.load('best-model-parameters.pt'))         \n",
    "        pred_model.eval()\n",
    "        \n",
    "        # validation check ----------------\n",
    "        oof_epoch = np.zeros([X_valid2.size(0), y_train.shape[1]])\n",
    "        target_epoch = np.zeros([X_valid2.size(0), y_train.shape[1]])\n",
    "        for i, (x_batch, y_batch) in enumerate(valid_loader): \n",
    "                y_pred = pred_model(x_batch).detach()\n",
    "                oof_epoch[i * batch_size:(i+1) * batch_size,:] = torch.clamp(torch.sigmoid(y_pred.cpu()), p_min, p_max)\n",
    "                target_epoch[i * batch_size:(i+1) * batch_size,:] = y_batch.cpu().numpy()\n",
    "        print(\"Fold {} log loss: {}\".format(fold+1, mean_log_loss(target_epoch, oof_epoch)))\n",
    "        scores.append(mean_log_loss(target_epoch, oof_epoch))\n",
    "        oof[valid_index,:] = oof_epoch\n",
    "        oof_targets[valid_index,:] = target_epoch\n",
    "        #-----------------------------------\n",
    "        \n",
    "        if files != []:\n",
    "            # test predcition --------------\n",
    "            test_preds = np.zeros([test_len, y_train.shape[1]])\n",
    "            for i, (x_batch,) in enumerate(test_loader): \n",
    "                y_pred = pred_model(x_batch).detach()\n",
    "                test_preds[i * batch_size:(i+1) * batch_size, :] = torch.clamp(torch.sigmoid(y_pred.cpu()), p_min, p_max)\n",
    "            pred_value += test_preds / n_folds\n",
    "            # ------------------------------\n",
    "        \n",
    "    print(\"Seed {}\".format(sample_seed))\n",
    "    for i, ele in enumerate(scores):\n",
    "        print(\"Fold {} log loss: {}\".format(i+1, scores[i]))\n",
    "    print(\"Std of log loss: {}\".format(np.std(scores)))\n",
    "    print(\"Total log loss: {}\".format(mean_log_loss(oof_targets, oof)))\n",
    "    \n",
    "    if files != []:\n",
    "        return oof, oof_targets, pred_value\n",
    "    else:\n",
    "        return ans"
   ]
  },
  {
   "cell_type": "code",
   "execution_count": 19,
   "metadata": {
    "execution": {
     "iopub.execute_input": "2020-11-04T12:21:42.893572Z",
     "iopub.status.busy": "2020-11-04T12:21:42.892681Z",
     "iopub.status.idle": "2020-11-04T12:28:57.682569Z",
     "shell.execute_reply": "2020-11-04T12:28:57.681966Z"
    },
    "papermill": {
     "duration": 434.82203,
     "end_time": "2020-11-04T12:28:57.682693",
     "exception": false,
     "start_time": "2020-11-04T12:21:42.860663",
     "status": "completed"
    },
    "tags": []
   },
   "outputs": [
    {
     "name": "stdout",
     "output_type": "stream",
     "text": [
      "Fold 1\n",
      "Best: Epoch 1 \t loss=0.28543 \t val_loss=0.01192 \t sm_loss=0.28542 \t sm_val_loss=0.01192 \t time=1.61s\n",
      "Best: Epoch 2 \t loss=0.01101 \t val_loss=0.01089 \t sm_loss=0.01107 \t sm_val_loss=0.01092 \t time=0.90s\n",
      "Best: Epoch 3 \t loss=0.01034 \t val_loss=0.01086 \t sm_loss=0.01048 \t sm_val_loss=0.01083 \t time=0.89s\n",
      "Best: Epoch 4 \t loss=0.01017 \t val_loss=0.01052 \t sm_loss=0.01035 \t sm_val_loss=0.01056 \t time=0.89s\n",
      "Best: Epoch 5 \t loss=0.01010 \t val_loss=0.01047 \t sm_loss=0.01028 \t sm_val_loss=0.01050 \t time=0.87s\n",
      "Best: Epoch 6 \t loss=0.00997 \t val_loss=0.01044 \t sm_loss=0.01016 \t sm_val_loss=0.01046 \t time=0.88s\n",
      "Best: Epoch 7 \t loss=0.00980 \t val_loss=0.01036 \t sm_loss=0.00999 \t sm_val_loss=0.01041 \t time=0.89s\n",
      "Best: Epoch 8 \t loss=0.00955 \t val_loss=0.01018 \t sm_loss=0.00976 \t sm_val_loss=0.01023 \t time=0.97s\n",
      "Best: Epoch 9 \t loss=0.00926 \t val_loss=0.01007 \t sm_loss=0.00948 \t sm_val_loss=0.01013 \t time=1.07s\n",
      "Best: Epoch 10 \t loss=0.00900 \t val_loss=0.01006 \t sm_loss=0.00923 \t sm_val_loss=0.01012 \t time=0.95s\n",
      "Fold 1 log loss: 0.01727928620863886\n",
      "Fold 2\n",
      "Best: Epoch 1 \t loss=0.28592 \t val_loss=0.01272 \t sm_loss=0.28590 \t sm_val_loss=0.01272 \t time=1.10s\n",
      "Best: Epoch 2 \t loss=0.01090 \t val_loss=0.01298 \t sm_loss=0.01094 \t sm_val_loss=0.01238 \t time=1.17s\n",
      "Best: Epoch 3 \t loss=0.01041 \t val_loss=0.01151 \t sm_loss=0.01054 \t sm_val_loss=0.01151 \t time=0.92s\n",
      "Best: Epoch 4 \t loss=0.01006 \t val_loss=0.01139 \t sm_loss=0.01025 \t sm_val_loss=0.01137 \t time=0.91s\n",
      "Best: Epoch 5 \t loss=0.00992 \t val_loss=0.01132 \t sm_loss=0.01012 \t sm_val_loss=0.01130 \t time=0.90s\n",
      "Best: Epoch 6 \t loss=0.00984 \t val_loss=0.01117 \t sm_loss=0.01004 \t sm_val_loss=0.01116 \t time=0.89s\n",
      "Best: Epoch 7 \t loss=0.00966 \t val_loss=0.01108 \t sm_loss=0.00987 \t sm_val_loss=0.01107 \t time=0.88s\n",
      "Best: Epoch 8 \t loss=0.00945 \t val_loss=0.01098 \t sm_loss=0.00967 \t sm_val_loss=0.01097 \t time=1.11s\n",
      "Best: Epoch 9 \t loss=0.00919 \t val_loss=0.01084 \t sm_loss=0.00942 \t sm_val_loss=0.01084 \t time=0.90s\n",
      "Best: Epoch 10 \t loss=0.00894 \t val_loss=0.01083 \t sm_loss=0.00918 \t sm_val_loss=0.01083 \t time=0.89s\n",
      "Fold 2 log loss: 0.017785893684189265\n",
      "Fold 3\n",
      "Best: Epoch 1 \t loss=0.28775 \t val_loss=0.01208 \t sm_loss=0.28771 \t sm_val_loss=0.01208 \t time=0.91s\n",
      "Best: Epoch 3 \t loss=0.01075 \t val_loss=0.01044 \t sm_loss=0.01082 \t sm_val_loss=0.01044 \t time=0.88s\n",
      "Best: Epoch 5 \t loss=0.01027 \t val_loss=0.01024 \t sm_loss=0.01046 \t sm_val_loss=0.01027 \t time=0.91s\n",
      "Best: Epoch 7 \t loss=0.00990 \t val_loss=0.01007 \t sm_loss=0.01010 \t sm_val_loss=0.01011 \t time=0.91s\n",
      "Best: Epoch 8 \t loss=0.00972 \t val_loss=0.00990 \t sm_loss=0.00993 \t sm_val_loss=0.00996 \t time=1.11s\n",
      "Best: Epoch 9 \t loss=0.00945 \t val_loss=0.00985 \t sm_loss=0.00967 \t sm_val_loss=0.00990 \t time=0.93s\n",
      "Best: Epoch 10 \t loss=0.00917 \t val_loss=0.00983 \t sm_loss=0.00940 \t sm_val_loss=0.00989 \t time=0.91s\n",
      "Fold 3 log loss: 0.016962944824758998\n",
      "Fold 4\n",
      "Best: Epoch 1 \t loss=0.28668 \t val_loss=0.01193 \t sm_loss=0.28666 \t sm_val_loss=0.01193 \t time=0.93s\n",
      "Best: Epoch 2 \t loss=0.01117 \t val_loss=0.01094 \t sm_loss=0.01119 \t sm_val_loss=0.01096 \t time=0.89s\n",
      "Best: Epoch 3 \t loss=0.01038 \t val_loss=0.01036 \t sm_loss=0.01053 \t sm_val_loss=0.01043 \t time=0.88s\n",
      "Best: Epoch 6 \t loss=0.01002 \t val_loss=0.01033 \t sm_loss=0.01021 \t sm_val_loss=0.01039 \t time=0.89s\n",
      "Best: Epoch 7 \t loss=0.00984 \t val_loss=0.01013 \t sm_loss=0.01003 \t sm_val_loss=0.01021 \t time=1.12s\n",
      "Best: Epoch 8 \t loss=0.00961 \t val_loss=0.01001 \t sm_loss=0.00981 \t sm_val_loss=0.01008 \t time=0.92s\n",
      "Best: Epoch 9 \t loss=0.00929 \t val_loss=0.00993 \t sm_loss=0.00950 \t sm_val_loss=0.01000 \t time=0.88s\n",
      "Fold 4 log loss: 0.017194239628986713\n",
      "Fold 5\n",
      "Best: Epoch 1 \t loss=0.28697 \t val_loss=0.01175 \t sm_loss=0.28694 \t sm_val_loss=0.01176 \t time=0.99s\n",
      "Best: Epoch 2 \t loss=0.01117 \t val_loss=0.01051 \t sm_loss=0.01119 \t sm_val_loss=0.01057 \t time=0.92s\n",
      "Best: Epoch 3 \t loss=0.01040 \t val_loss=0.01030 \t sm_loss=0.01054 \t sm_val_loss=0.01036 \t time=0.88s\n",
      "Best: Epoch 4 \t loss=0.01023 \t val_loss=0.01025 \t sm_loss=0.01041 \t sm_val_loss=0.01030 \t time=0.88s\n",
      "Best: Epoch 5 \t loss=0.01015 \t val_loss=0.01026 \t sm_loss=0.01034 \t sm_val_loss=0.01030 \t time=0.89s\n",
      "Best: Epoch 6 \t loss=0.00999 \t val_loss=0.01005 \t sm_loss=0.01018 \t sm_val_loss=0.01011 \t time=0.92s\n",
      "Best: Epoch 7 \t loss=0.00984 \t val_loss=0.00990 \t sm_loss=0.01003 \t sm_val_loss=0.00997 \t time=1.05s\n",
      "Best: Epoch 8 \t loss=0.00960 \t val_loss=0.00984 \t sm_loss=0.00981 \t sm_val_loss=0.00989 \t time=0.89s\n",
      "Best: Epoch 9 \t loss=0.00929 \t val_loss=0.00977 \t sm_loss=0.00951 \t sm_val_loss=0.00983 \t time=0.87s\n",
      "Best: Epoch 10 \t loss=0.00902 \t val_loss=0.00974 \t sm_loss=0.00925 \t sm_val_loss=0.00980 \t time=0.90s\n",
      "Fold 5 log loss: 0.017159850810484115\n",
      "Seed 0\n",
      "Fold 1 log loss: 0.01727928620863886\n",
      "Fold 2 log loss: 0.017785893684189265\n",
      "Fold 3 log loss: 0.016962944824758998\n",
      "Fold 4 log loss: 0.017194239628986713\n",
      "Fold 5 log loss: 0.017159850810484115\n",
      "Std of log loss: 0.00027502011642705827\n",
      "Total log loss: 0.017276306582747678\n",
      "Fold 1\n",
      "Best: Epoch 1 \t loss=0.16944 \t val_loss=0.02071 \t sm_loss=0.16943 \t sm_val_loss=0.02070 \t time=0.59s\n",
      "Best: Epoch 2 \t loss=0.01831 \t val_loss=0.01774 \t sm_loss=0.01832 \t sm_val_loss=0.01776 \t time=0.58s\n",
      "Best: Epoch 3 \t loss=0.01642 \t val_loss=0.01735 \t sm_loss=0.01647 \t sm_val_loss=0.01739 \t time=0.59s\n",
      "Best: Epoch 4 \t loss=0.01592 \t val_loss=0.01733 \t sm_loss=0.01601 \t sm_val_loss=0.01738 \t time=0.59s\n",
      "Best: Epoch 17 \t loss=0.01498 \t val_loss=0.01732 \t sm_loss=0.01518 \t sm_val_loss=0.01737 \t time=0.58s\n",
      "Best: Epoch 18 \t loss=0.01491 \t val_loss=0.01732 \t sm_loss=0.01511 \t sm_val_loss=0.01736 \t time=0.58s\n",
      "Best: Epoch 20 \t loss=0.01481 \t val_loss=0.01729 \t sm_loss=0.01501 \t sm_val_loss=0.01733 \t time=0.58s\n",
      "Fold 1 log loss: 0.017311540950402864\n",
      "Fold 2\n",
      "Best: Epoch 1 \t loss=0.16781 \t val_loss=0.02080 \t sm_loss=0.16781 \t sm_val_loss=0.02080 \t time=0.59s\n",
      "Best: Epoch 2 \t loss=0.01824 \t val_loss=0.01815 \t sm_loss=0.01824 \t sm_val_loss=0.01817 \t time=0.66s\n",
      "Best: Epoch 3 \t loss=0.01650 \t val_loss=0.01789 \t sm_loss=0.01655 \t sm_val_loss=0.01792 \t time=0.74s\n",
      "Best: Epoch 4 \t loss=0.01606 \t val_loss=0.01782 \t sm_loss=0.01615 \t sm_val_loss=0.01786 \t time=0.60s\n",
      "Best: Epoch 9 \t loss=0.01554 \t val_loss=0.01780 \t sm_loss=0.01573 \t sm_val_loss=0.01781 \t time=0.58s\n",
      "Best: Epoch 13 \t loss=0.01535 \t val_loss=0.01776 \t sm_loss=0.01554 \t sm_val_loss=0.01778 \t time=0.59s\n",
      "Best: Epoch 15 \t loss=0.01523 \t val_loss=0.01773 \t sm_loss=0.01544 \t sm_val_loss=0.01776 \t time=0.60s\n",
      "Best: Epoch 17 \t loss=0.01511 \t val_loss=0.01771 \t sm_loss=0.01531 \t sm_val_loss=0.01774 \t time=0.59s\n",
      "Best: Epoch 18 \t loss=0.01508 \t val_loss=0.01764 \t sm_loss=0.01528 \t sm_val_loss=0.01769 \t time=0.60s\n",
      "Best: Epoch 19 \t loss=0.01500 \t val_loss=0.01763 \t sm_loss=0.01520 \t sm_val_loss=0.01767 \t time=0.68s\n",
      "Fold 2 log loss: 0.01773283257758361\n",
      "Fold 3\n",
      "Best: Epoch 1 \t loss=0.16816 \t val_loss=0.02016 \t sm_loss=0.16815 \t sm_val_loss=0.02016 \t time=0.59s\n",
      "Best: Epoch 2 \t loss=0.01854 \t val_loss=0.01729 \t sm_loss=0.01855 \t sm_val_loss=0.01732 \t time=0.59s\n",
      "Best: Epoch 3 \t loss=0.01676 \t val_loss=0.01700 \t sm_loss=0.01681 \t sm_val_loss=0.01704 \t time=0.73s\n",
      "Best: Epoch 4 \t loss=0.01626 \t val_loss=0.01687 \t sm_loss=0.01635 \t sm_val_loss=0.01691 \t time=0.69s\n",
      "Best: Epoch 17 \t loss=0.01538 \t val_loss=0.01686 \t sm_loss=0.01558 \t sm_val_loss=0.01688 \t time=0.60s\n",
      "Best: Epoch 18 \t loss=0.01520 \t val_loss=0.01685 \t sm_loss=0.01540 \t sm_val_loss=0.01687 \t time=0.59s\n",
      "Best: Epoch 20 \t loss=0.01527 \t val_loss=0.01682 \t sm_loss=0.01547 \t sm_val_loss=0.01685 \t time=0.59s\n",
      "Fold 3 log loss: 0.016861383942179658\n",
      "Fold 4\n",
      "Best: Epoch 1 \t loss=0.16949 \t val_loss=0.02064 \t sm_loss=0.16948 \t sm_val_loss=0.02063 \t time=0.60s\n",
      "Best: Epoch 2 \t loss=0.01839 \t val_loss=0.01766 \t sm_loss=0.01839 \t sm_val_loss=0.01768 \t time=0.59s\n",
      "Best: Epoch 3 \t loss=0.01656 \t val_loss=0.01727 \t sm_loss=0.01661 \t sm_val_loss=0.01729 \t time=0.59s\n",
      "Best: Epoch 4 \t loss=0.01603 \t val_loss=0.01727 \t sm_loss=0.01612 \t sm_val_loss=0.01729 \t time=0.61s\n",
      "Best: Epoch 12 \t loss=0.01539 \t val_loss=0.01727 \t sm_loss=0.01558 \t sm_val_loss=0.01729 \t time=0.60s\n",
      "Best: Epoch 14 \t loss=0.01528 \t val_loss=0.01723 \t sm_loss=0.01548 \t sm_val_loss=0.01726 \t time=0.59s\n",
      "Best: Epoch 15 \t loss=0.01521 \t val_loss=0.01721 \t sm_loss=0.01541 \t sm_val_loss=0.01725 \t time=0.80s\n",
      "Best: Epoch 16 \t loss=0.01513 \t val_loss=0.01720 \t sm_loss=0.01533 \t sm_val_loss=0.01722 \t time=0.74s\n",
      "Best: Epoch 17 \t loss=0.01506 \t val_loss=0.01714 \t sm_loss=0.01526 \t sm_val_loss=0.01716 \t time=0.59s\n",
      "Best: Epoch 18 \t loss=0.01503 \t val_loss=0.01712 \t sm_loss=0.01523 \t sm_val_loss=0.01716 \t time=0.60s\n",
      "Best: Epoch 19 \t loss=0.01498 \t val_loss=0.01712 \t sm_loss=0.01518 \t sm_val_loss=0.01716 \t time=0.59s\n",
      "Fold 4 log loss: 0.017156664514405406\n",
      "Fold 5\n",
      "Best: Epoch 1 \t loss=0.17013 \t val_loss=0.02045 \t sm_loss=0.17012 \t sm_val_loss=0.02044 \t time=0.58s\n",
      "Best: Epoch 2 \t loss=0.01832 \t val_loss=0.01769 \t sm_loss=0.01832 \t sm_val_loss=0.01771 \t time=0.84s\n",
      "Best: Epoch 3 \t loss=0.01648 \t val_loss=0.01726 \t sm_loss=0.01653 \t sm_val_loss=0.01730 \t time=0.60s\n",
      "Best: Epoch 4 \t loss=0.01589 \t val_loss=0.01718 \t sm_loss=0.01599 \t sm_val_loss=0.01722 \t time=0.58s\n",
      "Best: Epoch 13 \t loss=0.01516 \t val_loss=0.01717 \t sm_loss=0.01537 \t sm_val_loss=0.01721 \t time=0.58s\n",
      "Best: Epoch 15 \t loss=0.01506 \t val_loss=0.01715 \t sm_loss=0.01527 \t sm_val_loss=0.01718 \t time=0.57s\n",
      "Best: Epoch 16 \t loss=0.01496 \t val_loss=0.01712 \t sm_loss=0.01517 \t sm_val_loss=0.01715 \t time=0.58s\n",
      "Best: Epoch 18 \t loss=0.01484 \t val_loss=0.01706 \t sm_loss=0.01506 \t sm_val_loss=0.01709 \t time=0.58s\n",
      "Best: Epoch 19 \t loss=0.01477 \t val_loss=0.01705 \t sm_loss=0.01498 \t sm_val_loss=0.01709 \t time=0.58s\n",
      "Best: Epoch 20 \t loss=0.01477 \t val_loss=0.01705 \t sm_loss=0.01498 \t sm_val_loss=0.01708 \t time=0.80s\n",
      "Fold 5 log loss: 0.017093142947054312\n",
      "Seed 0\n",
      "Fold 1 log loss: 0.017311540950402864\n",
      "Fold 2 log loss: 0.01773283257758361\n",
      "Fold 3 log loss: 0.016861383942179658\n",
      "Fold 4 log loss: 0.017156664514405406\n",
      "Fold 5 log loss: 0.017093142947054312\n",
      "Std of log loss: 0.0002896442916580829\n",
      "Total log loss: 0.01723076528655429\n",
      "Fold 1\n",
      "Best: Epoch 1 \t loss=0.16941 \t val_loss=0.02073 \t sm_loss=0.16941 \t sm_val_loss=0.02072 \t time=0.61s\n",
      "Best: Epoch 2 \t loss=0.01834 \t val_loss=0.01773 \t sm_loss=0.01835 \t sm_val_loss=0.01775 \t time=0.61s\n",
      "Best: Epoch 3 \t loss=0.01645 \t val_loss=0.01737 \t sm_loss=0.01650 \t sm_val_loss=0.01741 \t time=0.61s\n",
      "Best: Epoch 4 \t loss=0.01592 \t val_loss=0.01732 \t sm_loss=0.01602 \t sm_val_loss=0.01737 \t time=0.62s\n",
      "Best: Epoch 19 \t loss=0.01487 \t val_loss=0.01732 \t sm_loss=0.01507 \t sm_val_loss=0.01736 \t time=0.73s\n",
      "Fold 1 log loss: 0.017331171636277787\n",
      "Fold 2\n",
      "Best: Epoch 1 \t loss=0.17044 \t val_loss=0.02099 \t sm_loss=0.17043 \t sm_val_loss=0.02098 \t time=0.63s\n",
      "Best: Epoch 2 \t loss=0.01835 \t val_loss=0.01814 \t sm_loss=0.01835 \t sm_val_loss=0.01817 \t time=0.61s\n",
      "Best: Epoch 3 \t loss=0.01647 \t val_loss=0.01790 \t sm_loss=0.01653 \t sm_val_loss=0.01794 \t time=0.75s\n",
      "Best: Epoch 4 \t loss=0.01598 \t val_loss=0.01773 \t sm_loss=0.01608 \t sm_val_loss=0.01778 \t time=0.71s\n",
      "Best: Epoch 15 \t loss=0.01526 \t val_loss=0.01774 \t sm_loss=0.01546 \t sm_val_loss=0.01777 \t time=0.58s\n",
      "Best: Epoch 16 \t loss=0.01519 \t val_loss=0.01772 \t sm_loss=0.01539 \t sm_val_loss=0.01775 \t time=0.64s\n",
      "Best: Epoch 17 \t loss=0.01514 \t val_loss=0.01768 \t sm_loss=0.01534 \t sm_val_loss=0.01772 \t time=0.60s\n",
      "Best: Epoch 18 \t loss=0.01502 \t val_loss=0.01765 \t sm_loss=0.01523 \t sm_val_loss=0.01767 \t time=0.66s\n",
      "Fold 2 log loss: 0.017741835654875387\n",
      "Fold 3\n",
      "Best: Epoch 1 \t loss=0.17092 \t val_loss=0.02013 \t sm_loss=0.17091 \t sm_val_loss=0.02012 \t time=0.61s\n",
      "Best: Epoch 2 \t loss=0.01863 \t val_loss=0.01758 \t sm_loss=0.01863 \t sm_val_loss=0.01760 \t time=0.60s\n",
      "Best: Epoch 3 \t loss=0.01681 \t val_loss=0.01733 \t sm_loss=0.01686 \t sm_val_loss=0.01737 \t time=0.61s\n",
      "Best: Epoch 4 \t loss=0.01637 \t val_loss=0.01701 \t sm_loss=0.01646 \t sm_val_loss=0.01707 \t time=0.61s\n",
      "Best: Epoch 8 \t loss=0.01586 \t val_loss=0.01696 \t sm_loss=0.01604 \t sm_val_loss=0.01699 \t time=0.60s\n",
      "Best: Epoch 13 \t loss=0.01563 \t val_loss=0.01694 \t sm_loss=0.01583 \t sm_val_loss=0.01696 \t time=0.59s\n",
      "Best: Epoch 14 \t loss=0.01564 \t val_loss=0.01691 \t sm_loss=0.01583 \t sm_val_loss=0.01694 \t time=0.60s\n",
      "Best: Epoch 16 \t loss=0.01536 \t val_loss=0.01681 \t sm_loss=0.01556 \t sm_val_loss=0.01684 \t time=0.68s\n",
      "Best: Epoch 18 \t loss=0.01531 \t val_loss=0.01681 \t sm_loss=0.01552 \t sm_val_loss=0.01684 \t time=0.61s\n",
      "Best: Epoch 19 \t loss=0.01516 \t val_loss=0.01679 \t sm_loss=0.01536 \t sm_val_loss=0.01681 \t time=0.61s\n",
      "Best: Epoch 20 \t loss=0.01511 \t val_loss=0.01678 \t sm_loss=0.01532 \t sm_val_loss=0.01681 \t time=0.58s\n",
      "Fold 3 log loss: 0.016826349717051152\n",
      "Fold 4\n",
      "Best: Epoch 1 \t loss=0.17187 \t val_loss=0.02051 \t sm_loss=0.17186 \t sm_val_loss=0.02050 \t time=0.88s\n",
      "Best: Epoch 2 \t loss=0.01839 \t val_loss=0.01766 \t sm_loss=0.01839 \t sm_val_loss=0.01767 \t time=0.69s\n",
      "Best: Epoch 3 \t loss=0.01659 \t val_loss=0.01730 \t sm_loss=0.01664 \t sm_val_loss=0.01733 \t time=0.59s\n",
      "Best: Epoch 4 \t loss=0.01601 \t val_loss=0.01726 \t sm_loss=0.01610 \t sm_val_loss=0.01728 \t time=0.59s\n",
      "Best: Epoch 5 \t loss=0.01580 \t val_loss=0.01724 \t sm_loss=0.01592 \t sm_val_loss=0.01727 \t time=0.60s\n",
      "Best: Epoch 14 \t loss=0.01527 \t val_loss=0.01722 \t sm_loss=0.01547 \t sm_val_loss=0.01725 \t time=0.59s\n",
      "Best: Epoch 15 \t loss=0.01526 \t val_loss=0.01718 \t sm_loss=0.01546 \t sm_val_loss=0.01721 \t time=0.59s\n",
      "Best: Epoch 16 \t loss=0.01513 \t val_loss=0.01715 \t sm_loss=0.01533 \t sm_val_loss=0.01718 \t time=0.60s\n",
      "Best: Epoch 18 \t loss=0.01503 \t val_loss=0.01715 \t sm_loss=0.01523 \t sm_val_loss=0.01718 \t time=0.60s\n",
      "Best: Epoch 19 \t loss=0.01496 \t val_loss=0.01714 \t sm_loss=0.01516 \t sm_val_loss=0.01717 \t time=0.59s\n",
      "Best: Epoch 20 \t loss=0.01493 \t val_loss=0.01714 \t sm_loss=0.01513 \t sm_val_loss=0.01717 \t time=0.59s\n",
      "Fold 4 log loss: 0.01717186889410121\n",
      "Fold 5\n",
      "Best: Epoch 1 \t loss=0.16908 \t val_loss=0.02054 \t sm_loss=0.16907 \t sm_val_loss=0.02053 \t time=0.60s\n",
      "Best: Epoch 2 \t loss=0.01832 \t val_loss=0.01763 \t sm_loss=0.01832 \t sm_val_loss=0.01764 \t time=0.59s\n",
      "Best: Epoch 3 \t loss=0.01642 \t val_loss=0.01725 \t sm_loss=0.01647 \t sm_val_loss=0.01729 \t time=0.58s\n",
      "Best: Epoch 4 \t loss=0.01585 \t val_loss=0.01724 \t sm_loss=0.01595 \t sm_val_loss=0.01729 \t time=0.60s\n",
      "Best: Epoch 5 \t loss=0.01561 \t val_loss=0.01720 \t sm_loss=0.01574 \t sm_val_loss=0.01725 \t time=0.70s\n",
      "Best: Epoch 10 \t loss=0.01529 \t val_loss=0.01720 \t sm_loss=0.01548 \t sm_val_loss=0.01722 \t time=0.60s\n",
      "Best: Epoch 14 \t loss=0.01509 \t val_loss=0.01714 \t sm_loss=0.01530 \t sm_val_loss=0.01716 \t time=0.58s\n",
      "Best: Epoch 15 \t loss=0.01505 \t val_loss=0.01711 \t sm_loss=0.01526 \t sm_val_loss=0.01714 \t time=0.60s\n",
      "Best: Epoch 18 \t loss=0.01482 \t val_loss=0.01707 \t sm_loss=0.01503 \t sm_val_loss=0.01710 \t time=0.59s\n",
      "Best: Epoch 19 \t loss=0.01478 \t val_loss=0.01706 \t sm_loss=0.01500 \t sm_val_loss=0.01709 \t time=0.60s\n",
      "Best: Epoch 20 \t loss=0.01475 \t val_loss=0.01705 \t sm_loss=0.01496 \t sm_val_loss=0.01709 \t time=0.62s\n",
      "Fold 5 log loss: 0.017097234882964437\n",
      "Seed 1\n",
      "Fold 1 log loss: 0.017331171636277787\n",
      "Fold 2 log loss: 0.017741835654875387\n",
      "Fold 3 log loss: 0.016826349717051152\n",
      "Fold 4 log loss: 0.01717186889410121\n",
      "Fold 5 log loss: 0.017097234882964437\n",
      "Std of log loss: 0.00030202073775469556\n",
      "Total log loss: 0.017233269694376004\n",
      "Fold 1\n",
      "Best: Epoch 1 \t loss=0.16922 \t val_loss=0.02071 \t sm_loss=0.16921 \t sm_val_loss=0.02070 \t time=0.62s\n",
      "Best: Epoch 2 \t loss=0.01837 \t val_loss=0.01774 \t sm_loss=0.01837 \t sm_val_loss=0.01776 \t time=0.59s\n",
      "Best: Epoch 3 \t loss=0.01648 \t val_loss=0.01739 \t sm_loss=0.01653 \t sm_val_loss=0.01743 \t time=0.60s\n",
      "Best: Epoch 4 \t loss=0.01590 \t val_loss=0.01735 \t sm_loss=0.01599 \t sm_val_loss=0.01739 \t time=0.63s\n",
      "Best: Epoch 17 \t loss=0.01496 \t val_loss=0.01732 \t sm_loss=0.01516 \t sm_val_loss=0.01736 \t time=0.59s\n",
      "Fold 1 log loss: 0.01733952075899006\n",
      "Fold 2\n",
      "Best: Epoch 1 \t loss=0.17175 \t val_loss=0.02096 \t sm_loss=0.17175 \t sm_val_loss=0.02095 \t time=0.59s\n",
      "Best: Epoch 2 \t loss=0.01827 \t val_loss=0.01818 \t sm_loss=0.01828 \t sm_val_loss=0.01820 \t time=0.59s\n",
      "Best: Epoch 3 \t loss=0.01650 \t val_loss=0.01779 \t sm_loss=0.01655 \t sm_val_loss=0.01782 \t time=0.59s\n",
      "Best: Epoch 4 \t loss=0.01605 \t val_loss=0.01774 \t sm_loss=0.01614 \t sm_val_loss=0.01779 \t time=0.60s\n",
      "Best: Epoch 14 \t loss=0.01527 \t val_loss=0.01775 \t sm_loss=0.01546 \t sm_val_loss=0.01779 \t time=0.58s\n",
      "Best: Epoch 15 \t loss=0.01522 \t val_loss=0.01771 \t sm_loss=0.01542 \t sm_val_loss=0.01774 \t time=0.58s\n",
      "Best: Epoch 17 \t loss=0.01508 \t val_loss=0.01767 \t sm_loss=0.01528 \t sm_val_loss=0.01770 \t time=0.59s\n",
      "Best: Epoch 18 \t loss=0.01500 \t val_loss=0.01766 \t sm_loss=0.01520 \t sm_val_loss=0.01769 \t time=0.59s\n",
      "Best: Epoch 19 \t loss=0.01499 \t val_loss=0.01764 \t sm_loss=0.01520 \t sm_val_loss=0.01767 \t time=0.59s\n",
      "Fold 2 log loss: 0.017743564280305074\n",
      "Fold 3\n",
      "Best: Epoch 1 \t loss=0.17100 \t val_loss=0.02004 \t sm_loss=0.17099 \t sm_val_loss=0.02003 \t time=0.61s\n",
      "Best: Epoch 2 \t loss=0.01885 \t val_loss=0.01740 \t sm_loss=0.01885 \t sm_val_loss=0.01742 \t time=0.59s\n",
      "Best: Epoch 3 \t loss=0.01689 \t val_loss=0.01714 \t sm_loss=0.01694 \t sm_val_loss=0.01718 \t time=0.63s\n",
      "Best: Epoch 5 \t loss=0.01608 \t val_loss=0.01703 \t sm_loss=0.01621 \t sm_val_loss=0.01707 \t time=0.60s\n",
      "Best: Epoch 6 \t loss=0.01581 \t val_loss=0.01699 \t sm_loss=0.01596 \t sm_val_loss=0.01702 \t time=0.61s\n",
      "Best: Epoch 12 \t loss=0.01560 \t val_loss=0.01698 \t sm_loss=0.01579 \t sm_val_loss=0.01700 \t time=0.59s\n",
      "Best: Epoch 13 \t loss=0.01562 \t val_loss=0.01696 \t sm_loss=0.01581 \t sm_val_loss=0.01699 \t time=0.82s\n",
      "Best: Epoch 14 \t loss=0.01562 \t val_loss=0.01693 \t sm_loss=0.01581 \t sm_val_loss=0.01695 \t time=0.69s\n",
      "Best: Epoch 15 \t loss=0.01550 \t val_loss=0.01691 \t sm_loss=0.01569 \t sm_val_loss=0.01693 \t time=0.58s\n",
      "Best: Epoch 16 \t loss=0.01538 \t val_loss=0.01689 \t sm_loss=0.01558 \t sm_val_loss=0.01691 \t time=0.58s\n",
      "Best: Epoch 17 \t loss=0.01541 \t val_loss=0.01685 \t sm_loss=0.01559 \t sm_val_loss=0.01688 \t time=0.59s\n",
      "Best: Epoch 18 \t loss=0.01535 \t val_loss=0.01683 \t sm_loss=0.01555 \t sm_val_loss=0.01686 \t time=0.58s\n",
      "Best: Epoch 20 \t loss=0.01506 \t val_loss=0.01679 \t sm_loss=0.01527 \t sm_val_loss=0.01682 \t time=0.57s\n",
      "Fold 3 log loss: 0.016838024322609252\n",
      "Fold 4\n",
      "Best: Epoch 1 \t loss=0.17037 \t val_loss=0.02055 \t sm_loss=0.17037 \t sm_val_loss=0.02054 \t time=0.64s\n",
      "Best: Epoch 2 \t loss=0.01842 \t val_loss=0.01764 \t sm_loss=0.01843 \t sm_val_loss=0.01766 \t time=0.62s\n",
      "Best: Epoch 3 \t loss=0.01655 \t val_loss=0.01728 \t sm_loss=0.01660 \t sm_val_loss=0.01731 \t time=0.61s\n",
      "Best: Epoch 7 \t loss=0.01559 \t val_loss=0.01727 \t sm_loss=0.01575 \t sm_val_loss=0.01730 \t time=0.59s\n",
      "Best: Epoch 13 \t loss=0.01534 \t val_loss=0.01731 \t sm_loss=0.01553 \t sm_val_loss=0.01730 \t time=0.58s\n",
      "Best: Epoch 14 \t loss=0.01525 \t val_loss=0.01728 \t sm_loss=0.01545 \t sm_val_loss=0.01730 \t time=0.59s\n",
      "Best: Epoch 15 \t loss=0.01523 \t val_loss=0.01725 \t sm_loss=0.01542 \t sm_val_loss=0.01726 \t time=0.59s\n",
      "Best: Epoch 16 \t loss=0.01512 \t val_loss=0.01720 \t sm_loss=0.01532 \t sm_val_loss=0.01723 \t time=0.81s\n",
      "Best: Epoch 17 \t loss=0.01504 \t val_loss=0.01716 \t sm_loss=0.01524 \t sm_val_loss=0.01718 \t time=0.63s\n",
      "Best: Epoch 18 \t loss=0.01502 \t val_loss=0.01712 \t sm_loss=0.01522 \t sm_val_loss=0.01716 \t time=0.59s\n",
      "Fold 4 log loss: 0.01715633587311304\n",
      "Fold 5\n",
      "Best: Epoch 1 \t loss=0.17186 \t val_loss=0.02059 \t sm_loss=0.17185 \t sm_val_loss=0.02058 \t time=0.59s\n",
      "Best: Epoch 2 \t loss=0.01836 \t val_loss=0.01772 \t sm_loss=0.01836 \t sm_val_loss=0.01774 \t time=0.81s\n",
      "Best: Epoch 3 \t loss=0.01645 \t val_loss=0.01721 \t sm_loss=0.01650 \t sm_val_loss=0.01724 \t time=0.81s\n",
      "Best: Epoch 4 \t loss=0.01588 \t val_loss=0.01720 \t sm_loss=0.01597 \t sm_val_loss=0.01724 \t time=0.59s\n",
      "Best: Epoch 11 \t loss=0.01523 \t val_loss=0.01720 \t sm_loss=0.01543 \t sm_val_loss=0.01721 \t time=0.78s\n",
      "Best: Epoch 14 \t loss=0.01510 \t val_loss=0.01715 \t sm_loss=0.01531 \t sm_val_loss=0.01718 \t time=0.59s\n",
      "Best: Epoch 15 \t loss=0.01503 \t val_loss=0.01711 \t sm_loss=0.01524 \t sm_val_loss=0.01713 \t time=0.59s\n",
      "Best: Epoch 17 \t loss=0.01486 \t val_loss=0.01704 \t sm_loss=0.01507 \t sm_val_loss=0.01707 \t time=0.87s\n",
      "Fold 5 log loss: 0.017084872944625056\n",
      "Seed 2\n",
      "Fold 1 log loss: 0.01733952075899006\n",
      "Fold 2 log loss: 0.017743564280305074\n",
      "Fold 3 log loss: 0.016838024322609252\n",
      "Fold 4 log loss: 0.01715633587311304\n",
      "Fold 5 log loss: 0.017084872944625056\n",
      "Std of log loss: 0.00030194235098867555\n",
      "Total log loss: 0.017232047194445054\n",
      "Fold 1\n",
      "Best: Epoch 1 \t loss=0.17158 \t val_loss=0.02073 \t sm_loss=0.17158 \t sm_val_loss=0.02072 \t time=0.58s\n",
      "Best: Epoch 2 \t loss=0.01834 \t val_loss=0.01773 \t sm_loss=0.01834 \t sm_val_loss=0.01775 \t time=0.86s\n",
      "Best: Epoch 3 \t loss=0.01647 \t val_loss=0.01738 \t sm_loss=0.01652 \t sm_val_loss=0.01742 \t time=0.60s\n",
      "Best: Epoch 15 \t loss=0.01511 \t val_loss=0.01736 \t sm_loss=0.01530 \t sm_val_loss=0.01738 \t time=0.57s\n",
      "Best: Epoch 17 \t loss=0.01498 \t val_loss=0.01729 \t sm_loss=0.01518 \t sm_val_loss=0.01733 \t time=0.59s\n",
      "Fold 1 log loss: 0.017313348878040872\n",
      "Fold 2\n",
      "Best: Epoch 1 \t loss=0.16635 \t val_loss=0.02085 \t sm_loss=0.16634 \t sm_val_loss=0.02084 \t time=0.59s\n",
      "Best: Epoch 2 \t loss=0.01831 \t val_loss=0.01816 \t sm_loss=0.01832 \t sm_val_loss=0.01818 \t time=0.60s\n",
      "Best: Epoch 3 \t loss=0.01648 \t val_loss=0.01780 \t sm_loss=0.01653 \t sm_val_loss=0.01784 \t time=0.59s\n",
      "Best: Epoch 4 \t loss=0.01598 \t val_loss=0.01780 \t sm_loss=0.01608 \t sm_val_loss=0.01784 \t time=0.59s\n",
      "Best: Epoch 12 \t loss=0.01543 \t val_loss=0.01780 \t sm_loss=0.01562 \t sm_val_loss=0.01782 \t time=0.59s\n",
      "Best: Epoch 14 \t loss=0.01530 \t val_loss=0.01778 \t sm_loss=0.01550 \t sm_val_loss=0.01782 \t time=0.59s\n",
      "Best: Epoch 15 \t loss=0.01526 \t val_loss=0.01772 \t sm_loss=0.01545 \t sm_val_loss=0.01775 \t time=0.82s\n",
      "Best: Epoch 17 \t loss=0.01507 \t val_loss=0.01767 \t sm_loss=0.01527 \t sm_val_loss=0.01771 \t time=0.60s\n",
      "Best: Epoch 18 \t loss=0.01505 \t val_loss=0.01764 \t sm_loss=0.01525 \t sm_val_loss=0.01768 \t time=0.59s\n",
      "Fold 2 log loss: 0.017745894137614546\n",
      "Fold 3\n",
      "Best: Epoch 1 \t loss=0.17055 \t val_loss=0.02000 \t sm_loss=0.17054 \t sm_val_loss=0.01999 \t time=0.60s\n",
      "Best: Epoch 2 \t loss=0.01836 \t val_loss=0.01741 \t sm_loss=0.01836 \t sm_val_loss=0.01743 \t time=0.61s\n",
      "Best: Epoch 3 \t loss=0.01670 \t val_loss=0.01695 \t sm_loss=0.01675 \t sm_val_loss=0.01697 \t time=0.60s\n",
      "Best: Epoch 14 \t loss=0.01557 \t val_loss=0.01696 \t sm_loss=0.01577 \t sm_val_loss=0.01697 \t time=0.58s\n",
      "Best: Epoch 16 \t loss=0.01542 \t val_loss=0.01685 \t sm_loss=0.01562 \t sm_val_loss=0.01686 \t time=0.58s\n",
      "Best: Epoch 17 \t loss=0.01538 \t val_loss=0.01683 \t sm_loss=0.01558 \t sm_val_loss=0.01686 \t time=0.59s\n",
      "Fold 3 log loss: 0.01687257784483641\n",
      "Fold 4\n",
      "Best: Epoch 1 \t loss=0.17045 \t val_loss=0.02050 \t sm_loss=0.17044 \t sm_val_loss=0.02050 \t time=0.60s\n",
      "Best: Epoch 2 \t loss=0.01835 \t val_loss=0.01764 \t sm_loss=0.01836 \t sm_val_loss=0.01766 \t time=0.59s\n",
      "Best: Epoch 3 \t loss=0.01654 \t val_loss=0.01727 \t sm_loss=0.01660 \t sm_val_loss=0.01731 \t time=0.59s\n",
      "Best: Epoch 7 \t loss=0.01558 \t val_loss=0.01725 \t sm_loss=0.01575 \t sm_val_loss=0.01728 \t time=0.60s\n",
      "Best: Epoch 12 \t loss=0.01537 \t val_loss=0.01725 \t sm_loss=0.01556 \t sm_val_loss=0.01727 \t time=0.65s\n",
      "Best: Epoch 16 \t loss=0.01513 \t val_loss=0.01715 \t sm_loss=0.01533 \t sm_val_loss=0.01719 \t time=0.59s\n",
      "Best: Epoch 19 \t loss=0.01496 \t val_loss=0.01713 \t sm_loss=0.01516 \t sm_val_loss=0.01716 \t time=0.62s\n",
      "Fold 4 log loss: 0.017161624904272466\n",
      "Fold 5\n",
      "Best: Epoch 1 \t loss=0.16877 \t val_loss=0.02065 \t sm_loss=0.16876 \t sm_val_loss=0.02064 \t time=0.57s\n",
      "Best: Epoch 2 \t loss=0.01833 \t val_loss=0.01765 \t sm_loss=0.01833 \t sm_val_loss=0.01766 \t time=0.57s\n",
      "Best: Epoch 3 \t loss=0.01645 \t val_loss=0.01721 \t sm_loss=0.01650 \t sm_val_loss=0.01725 \t time=0.59s\n",
      "Best: Epoch 4 \t loss=0.01588 \t val_loss=0.01715 \t sm_loss=0.01597 \t sm_val_loss=0.01719 \t time=0.59s\n",
      "Best: Epoch 11 \t loss=0.01525 \t val_loss=0.01714 \t sm_loss=0.01545 \t sm_val_loss=0.01715 \t time=0.57s\n",
      "Best: Epoch 17 \t loss=0.01488 \t val_loss=0.01708 \t sm_loss=0.01510 \t sm_val_loss=0.01711 \t time=0.58s\n",
      "Best: Epoch 18 \t loss=0.01485 \t val_loss=0.01705 \t sm_loss=0.01506 \t sm_val_loss=0.01708 \t time=0.58s\n",
      "Fold 5 log loss: 0.017095632416259013\n",
      "Seed 3\n",
      "Fold 1 log loss: 0.017313348878040872\n",
      "Fold 2 log loss: 0.017745894137614546\n",
      "Fold 3 log loss: 0.01687257784483641\n",
      "Fold 4 log loss: 0.017161624904272466\n",
      "Fold 5 log loss: 0.017095632416259013\n",
      "Std of log loss: 0.00029095318321930674\n",
      "Total log loss: 0.017237477128350536\n",
      "Fold 1\n",
      "Best: Epoch 1 \t loss=0.17109 \t val_loss=0.02081 \t sm_loss=0.17109 \t sm_val_loss=0.02080 \t time=0.57s\n",
      "Best: Epoch 2 \t loss=0.01838 \t val_loss=0.01770 \t sm_loss=0.01838 \t sm_val_loss=0.01772 \t time=0.58s\n",
      "Best: Epoch 3 \t loss=0.01645 \t val_loss=0.01740 \t sm_loss=0.01650 \t sm_val_loss=0.01744 \t time=0.57s\n",
      "Best: Epoch 4 \t loss=0.01590 \t val_loss=0.01735 \t sm_loss=0.01599 \t sm_val_loss=0.01740 \t time=0.58s\n",
      "Best: Epoch 5 \t loss=0.01566 \t val_loss=0.01733 \t sm_loss=0.01578 \t sm_val_loss=0.01738 \t time=0.58s\n",
      "Best: Epoch 18 \t loss=0.01489 \t val_loss=0.01731 \t sm_loss=0.01509 \t sm_val_loss=0.01734 \t time=0.58s\n",
      "Fold 1 log loss: 0.017318502745041875\n",
      "Fold 2\n",
      "Best: Epoch 1 \t loss=0.16778 \t val_loss=0.02094 \t sm_loss=0.16778 \t sm_val_loss=0.02094 \t time=0.57s\n",
      "Best: Epoch 2 \t loss=0.01829 \t val_loss=0.01816 \t sm_loss=0.01829 \t sm_val_loss=0.01818 \t time=0.58s\n",
      "Best: Epoch 3 \t loss=0.01652 \t val_loss=0.01792 \t sm_loss=0.01657 \t sm_val_loss=0.01795 \t time=0.68s\n",
      "Best: Epoch 4 \t loss=0.01602 \t val_loss=0.01774 \t sm_loss=0.01611 \t sm_val_loss=0.01779 \t time=0.71s\n",
      "Best: Epoch 15 \t loss=0.01529 \t val_loss=0.01770 \t sm_loss=0.01549 \t sm_val_loss=0.01774 \t time=0.63s\n",
      "Best: Epoch 16 \t loss=0.01519 \t val_loss=0.01770 \t sm_loss=0.01539 \t sm_val_loss=0.01773 \t time=0.61s\n",
      "Best: Epoch 17 \t loss=0.01511 \t val_loss=0.01765 \t sm_loss=0.01531 \t sm_val_loss=0.01770 \t time=0.61s\n",
      "Best: Epoch 20 \t loss=0.01501 \t val_loss=0.01764 \t sm_loss=0.01522 \t sm_val_loss=0.01768 \t time=0.57s\n",
      "Fold 2 log loss: 0.01774433215452208\n",
      "Fold 3\n",
      "Best: Epoch 1 \t loss=0.17082 \t val_loss=0.02018 \t sm_loss=0.17082 \t sm_val_loss=0.02017 \t time=0.59s\n",
      "Best: Epoch 2 \t loss=0.01836 \t val_loss=0.01731 \t sm_loss=0.01837 \t sm_val_loss=0.01734 \t time=0.58s\n",
      "Best: Epoch 3 \t loss=0.01671 \t val_loss=0.01705 \t sm_loss=0.01677 \t sm_val_loss=0.01710 \t time=0.59s\n",
      "Best: Epoch 5 \t loss=0.01623 \t val_loss=0.01700 \t sm_loss=0.01636 \t sm_val_loss=0.01703 \t time=0.65s\n",
      "Best: Epoch 7 \t loss=0.01582 \t val_loss=0.01699 \t sm_loss=0.01599 \t sm_val_loss=0.01701 \t time=0.61s\n",
      "Best: Epoch 13 \t loss=0.01555 \t val_loss=0.01697 \t sm_loss=0.01575 \t sm_val_loss=0.01698 \t time=0.75s\n",
      "Best: Epoch 14 \t loss=0.01556 \t val_loss=0.01691 \t sm_loss=0.01576 \t sm_val_loss=0.01692 \t time=0.71s\n",
      "Best: Epoch 15 \t loss=0.01553 \t val_loss=0.01687 \t sm_loss=0.01573 \t sm_val_loss=0.01691 \t time=0.58s\n",
      "Best: Epoch 16 \t loss=0.01529 \t val_loss=0.01681 \t sm_loss=0.01549 \t sm_val_loss=0.01684 \t time=0.84s\n",
      "Best: Epoch 17 \t loss=0.01534 \t val_loss=0.01680 \t sm_loss=0.01554 \t sm_val_loss=0.01683 \t time=0.63s\n",
      "Best: Epoch 20 \t loss=0.01514 \t val_loss=0.01679 \t sm_loss=0.01535 \t sm_val_loss=0.01683 \t time=0.61s\n",
      "Fold 3 log loss: 0.016838935617500928\n",
      "Fold 4\n",
      "Best: Epoch 1 \t loss=0.16957 \t val_loss=0.02050 \t sm_loss=0.16956 \t sm_val_loss=0.02049 \t time=0.58s\n",
      "Best: Epoch 2 \t loss=0.01841 \t val_loss=0.01764 \t sm_loss=0.01841 \t sm_val_loss=0.01766 \t time=0.57s\n",
      "Best: Epoch 3 \t loss=0.01656 \t val_loss=0.01730 \t sm_loss=0.01662 \t sm_val_loss=0.01733 \t time=0.57s\n",
      "Best: Epoch 4 \t loss=0.01600 \t val_loss=0.01725 \t sm_loss=0.01609 \t sm_val_loss=0.01728 \t time=0.57s\n",
      "Best: Epoch 14 \t loss=0.01527 \t val_loss=0.01724 \t sm_loss=0.01547 \t sm_val_loss=0.01727 \t time=0.57s\n",
      "Best: Epoch 15 \t loss=0.01522 \t val_loss=0.01717 \t sm_loss=0.01541 \t sm_val_loss=0.01722 \t time=0.58s\n",
      "Best: Epoch 17 \t loss=0.01506 \t val_loss=0.01719 \t sm_loss=0.01526 \t sm_val_loss=0.01721 \t time=0.70s\n",
      "Best: Epoch 18 \t loss=0.01499 \t val_loss=0.01715 \t sm_loss=0.01519 \t sm_val_loss=0.01718 \t time=0.77s\n",
      "Best: Epoch 19 \t loss=0.01497 \t val_loss=0.01713 \t sm_loss=0.01517 \t sm_val_loss=0.01716 \t time=0.58s\n",
      "Fold 4 log loss: 0.01716452825616739\n",
      "Fold 5\n",
      "Best: Epoch 1 \t loss=0.16817 \t val_loss=0.02059 \t sm_loss=0.16817 \t sm_val_loss=0.02058 \t time=0.59s\n",
      "Best: Epoch 2 \t loss=0.01833 \t val_loss=0.01765 \t sm_loss=0.01833 \t sm_val_loss=0.01766 \t time=0.59s\n",
      "Best: Epoch 3 \t loss=0.01644 \t val_loss=0.01725 \t sm_loss=0.01649 \t sm_val_loss=0.01728 \t time=0.57s\n",
      "Best: Epoch 4 \t loss=0.01590 \t val_loss=0.01722 \t sm_loss=0.01599 \t sm_val_loss=0.01726 \t time=0.71s\n",
      "Best: Epoch 5 \t loss=0.01562 \t val_loss=0.01721 \t sm_loss=0.01575 \t sm_val_loss=0.01724 \t time=0.65s\n",
      "Best: Epoch 6 \t loss=0.01550 \t val_loss=0.01719 \t sm_loss=0.01566 \t sm_val_loss=0.01723 \t time=0.57s\n",
      "Best: Epoch 12 \t loss=0.01521 \t val_loss=0.01720 \t sm_loss=0.01541 \t sm_val_loss=0.01721 \t time=0.57s\n",
      "Best: Epoch 13 \t loss=0.01514 \t val_loss=0.01719 \t sm_loss=0.01535 \t sm_val_loss=0.01721 \t time=0.58s\n",
      "Best: Epoch 15 \t loss=0.01507 \t val_loss=0.01718 \t sm_loss=0.01527 \t sm_val_loss=0.01720 \t time=0.57s\n",
      "Best: Epoch 16 \t loss=0.01497 \t val_loss=0.01714 \t sm_loss=0.01518 \t sm_val_loss=0.01717 \t time=0.59s\n",
      "Best: Epoch 17 \t loss=0.01487 \t val_loss=0.01706 \t sm_loss=0.01508 \t sm_val_loss=0.01709 \t time=0.57s\n",
      "Best: Epoch 19 \t loss=0.01478 \t val_loss=0.01706 \t sm_loss=0.01499 \t sm_val_loss=0.01709 \t time=0.58s\n",
      "Fold 5 log loss: 0.01710209627385553\n",
      "Seed 4\n",
      "Fold 1 log loss: 0.017318502745041875\n",
      "Fold 2 log loss: 0.01774433215452208\n",
      "Fold 3 log loss: 0.016838935617500928\n",
      "Fold 4 log loss: 0.01716452825616739\n",
      "Fold 5 log loss: 0.01710209627385553\n",
      "Std of log loss: 0.00029862347167136844\n",
      "Total log loss: 0.01723330781540554\n",
      "Total log loss in targets: 0.017207770459945596\n"
     ]
    }
   ],
   "source": [
    "files = torch_tl(fn_train, fn_all_targets, fn_test, 0, fn_train.shape[1]-1, [])\n",
    "\n",
    "seeds = [0,1,2,3,4] \n",
    "target_oof = np.zeros([len(fn_train),fn_targets.shape[1]])\n",
    "target_pred = np.zeros([len(fn_test),fn_targets.shape[1]])\n",
    "    \n",
    "for seed_ in seeds:\n",
    "    oof, oof_targets, pytorch_pred = torch_tl(fn_train, fn_targets, fn_test, seed_, fn_train.shape[1]-1, files)\n",
    "    target_oof += oof / len(seeds)\n",
    "    target_pred += pytorch_pred / len(seeds)\n",
    "\n",
    "print(\"Total log loss in targets: {}\".format(mean_log_loss(oof_targets, target_oof)))"
   ]
  },
  {
   "cell_type": "code",
   "execution_count": 20,
   "metadata": {
    "execution": {
     "iopub.execute_input": "2020-11-04T12:28:57.972724Z",
     "iopub.status.busy": "2020-11-04T12:28:57.971711Z",
     "iopub.status.idle": "2020-11-04T12:28:59.128108Z",
     "shell.execute_reply": "2020-11-04T12:28:59.127514Z"
    },
    "papermill": {
     "duration": 1.304772,
     "end_time": "2020-11-04T12:28:59.128240",
     "exception": false,
     "start_time": "2020-11-04T12:28:57.823468",
     "status": "completed"
    },
    "tags": []
   },
   "outputs": [
    {
     "name": "stdout",
     "output_type": "stream",
     "text": [
      "Overall AUC : 0.6482471013333281\n"
     ]
    }
   ],
   "source": [
    "aucs = []\n",
    "for task_id in range(targets.shape[1]-1):\n",
    "    aucs.append(roc_auc_score(y_true=targets.iloc[:, task_id+1].values,\n",
    "                              y_score=target_oof[:, task_id]))\n",
    "print(f\"Overall AUC : {np.mean(aucs)}\")"
   ]
  },
  {
   "cell_type": "code",
   "execution_count": 21,
   "metadata": {
    "execution": {
     "iopub.execute_input": "2020-11-04T12:28:59.427243Z",
     "iopub.status.busy": "2020-11-04T12:28:59.426315Z",
     "iopub.status.idle": "2020-11-04T12:29:05.478412Z",
     "shell.execute_reply": "2020-11-04T12:29:05.477734Z"
    },
    "papermill": {
     "duration": 6.20587,
     "end_time": "2020-11-04T12:29:05.478531",
     "exception": false,
     "start_time": "2020-11-04T12:28:59.272661",
     "status": "completed"
    },
    "tags": []
   },
   "outputs": [
    {
     "name": "stdout",
     "output_type": "stream",
     "text": [
      "OOF log loss:  0.015859416563991254\n"
     ]
    }
   ],
   "source": [
    "t = pd.read_csv(DATA_DIR + 'train_targets_scored.csv')\n",
    "train_checkscore = t.copy()\n",
    "train_checkscore.loc[train_checkscore.index.isin(cons_train_index),target_feats] = target_oof\n",
    "train_checkscore.loc[train_checkscore.index.isin(noncons_train_index),target_feats] = 0\n",
    "t.drop(\"sig_id\", axis=1, inplace=True)\n",
    "print('OOF log loss: ', log_loss(np.ravel(t), np.ravel(np.array(train_checkscore.iloc[:,1:]))))"
   ]
  },
  {
   "cell_type": "code",
   "execution_count": 22,
   "metadata": {
    "execution": {
     "iopub.execute_input": "2020-11-04T12:29:05.796248Z",
     "iopub.status.busy": "2020-11-04T12:29:05.794513Z",
     "iopub.status.idle": "2020-11-04T12:29:08.551514Z",
     "shell.execute_reply": "2020-11-04T12:29:08.550730Z"
    },
    "papermill": {
     "duration": 2.935909,
     "end_time": "2020-11-04T12:29:08.551630",
     "exception": false,
     "start_time": "2020-11-04T12:29:05.615721",
     "status": "completed"
    },
    "tags": []
   },
   "outputs": [],
   "source": [
    "sub.loc[cons_test_index,target_feats] = target_pred\n",
    "sub.loc[noncons_test_index,target_feats] = 0\n",
    "sub.to_csv('submission.csv', index=False)"
   ]
  }
 ],
 "metadata": {
  "kernelspec": {
   "display_name": "Python 3",
   "language": "python",
   "name": "python3"
  },
  "language_info": {
   "codemirror_mode": {
    "name": "ipython",
    "version": 3
   },
   "file_extension": ".py",
   "mimetype": "text/x-python",
   "name": "python",
   "nbconvert_exporter": "python",
   "pygments_lexer": "ipython3",
   "version": "3.7.6"
  },
  "papermill": {
   "duration": 485.979244,
   "end_time": "2020-11-04T12:29:09.943824",
   "environment_variables": {},
   "exception": null,
   "input_path": "__notebook__.ipynb",
   "output_path": "__notebook__.ipynb",
   "parameters": {},
   "start_time": "2020-11-04T12:21:03.964580",
   "version": "2.1.0"
  }
 },
 "nbformat": 4,
 "nbformat_minor": 4
}
