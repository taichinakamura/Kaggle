{
 "cells": [
  {
   "cell_type": "markdown",
   "metadata": {
    "papermill": {
     "duration": 0.014437,
     "end_time": "2020-10-21T12:38:33.141763",
     "exception": false,
     "start_time": "2020-10-21T12:38:33.127326",
     "status": "completed"
    },
    "tags": []
   },
   "source": [
    "- try fold 7"
   ]
  },
  {
   "cell_type": "code",
   "execution_count": 1,
   "metadata": {
    "_cell_guid": "b1076dfc-b9ad-4769-8c92-a6c4dae69d19",
    "_uuid": "8f2839f25d086af736a60e9eeb907d3b93b6e0e5",
    "execution": {
     "iopub.execute_input": "2020-10-21T12:38:33.188865Z",
     "iopub.status.busy": "2020-10-21T12:38:33.187765Z",
     "iopub.status.idle": "2020-10-21T12:38:41.127262Z",
     "shell.execute_reply": "2020-10-21T12:38:41.126372Z"
    },
    "papermill": {
     "duration": 7.971928,
     "end_time": "2020-10-21T12:38:41.127375",
     "exception": false,
     "start_time": "2020-10-21T12:38:33.155447",
     "status": "completed"
    },
    "tags": []
   },
   "outputs": [],
   "source": [
    "import os\n",
    "import sys\n",
    "import random\n",
    "import warnings\n",
    "import numpy as np\n",
    "import pandas as pd \n",
    "from sklearn import preprocessing\n",
    "from sklearn.metrics import log_loss, mean_squared_error\n",
    "from sklearn.decomposition import PCA\n",
    "from tqdm import tqdm_notebook as tqdm\n",
    "from sklearn.multioutput import MultiOutputClassifier\n",
    "from sklearn.feature_selection import VarianceThreshold\n",
    "\n",
    "sys.path.append('../input/multilabelstraifier/')\n",
    "sys.path.append('../input/lookahead/')\n",
    "from ml_stratifiers import MultilabelStratifiedKFold\n",
    "from lookahead import Lookahead\n",
    "warnings.filterwarnings('ignore')\n",
    "\n",
    "import time\n",
    "import torch\n",
    "import torch.nn as nn\n",
    "import torch.optim as optim\n",
    "import torch.nn.functional as F\n",
    "import tensorflow as tf"
   ]
  },
  {
   "cell_type": "code",
   "execution_count": 2,
   "metadata": {
    "_cell_guid": "79c7e3d0-c299-4dcb-8224-4455121ee9b0",
    "_uuid": "d629ff2d2480ee46fbb7e2d37f6b5fab8052498a",
    "execution": {
     "iopub.execute_input": "2020-10-21T12:38:41.162993Z",
     "iopub.status.busy": "2020-10-21T12:38:41.162111Z",
     "iopub.status.idle": "2020-10-21T12:38:47.507928Z",
     "shell.execute_reply": "2020-10-21T12:38:47.507040Z"
    },
    "papermill": {
     "duration": 6.366812,
     "end_time": "2020-10-21T12:38:47.508049",
     "exception": false,
     "start_time": "2020-10-21T12:38:41.141237",
     "status": "completed"
    },
    "tags": []
   },
   "outputs": [],
   "source": [
    "DATA_DIR = '/kaggle/input/lish-moa/'\n",
    "train = pd.read_csv(DATA_DIR + 'train_features.csv')\n",
    "targets = pd.read_csv(DATA_DIR + 'train_targets_scored.csv')\n",
    "non_targets = pd.read_csv(DATA_DIR + 'train_targets_nonscored.csv')\n",
    "test = pd.read_csv(DATA_DIR + 'test_features.csv')\n",
    "sub = pd.read_csv(DATA_DIR + 'sample_submission.csv')"
   ]
  },
  {
   "cell_type": "code",
   "execution_count": 3,
   "metadata": {
    "execution": {
     "iopub.execute_input": "2020-10-21T12:38:47.558164Z",
     "iopub.status.busy": "2020-10-21T12:38:47.557316Z",
     "iopub.status.idle": "2020-10-21T12:38:47.561731Z",
     "shell.execute_reply": "2020-10-21T12:38:47.561021Z"
    },
    "papermill": {
     "duration": 0.034116,
     "end_time": "2020-10-21T12:38:47.561871",
     "exception": false,
     "start_time": "2020-10-21T12:38:47.527755",
     "status": "completed"
    },
    "tags": []
   },
   "outputs": [],
   "source": [
    "target_feats = [ i for i in targets.columns if i != \"sig_id\"]\n",
    "g_feats = [i for i in train.columns if \"g-\" in i]\n",
    "c_feats = [i for i in train.columns if \"c-\" in i]"
   ]
  },
  {
   "cell_type": "code",
   "execution_count": 4,
   "metadata": {
    "execution": {
     "iopub.execute_input": "2020-10-21T12:38:47.608059Z",
     "iopub.status.busy": "2020-10-21T12:38:47.606969Z",
     "iopub.status.idle": "2020-10-21T12:38:47.609719Z",
     "shell.execute_reply": "2020-10-21T12:38:47.608937Z"
    },
    "papermill": {
     "duration": 0.02821,
     "end_time": "2020-10-21T12:38:47.609861",
     "exception": false,
     "start_time": "2020-10-21T12:38:47.581651",
     "status": "completed"
    },
    "tags": []
   },
   "outputs": [],
   "source": [
    "# to remove outlier paienr\n",
    "# original_remove_index = [16674] # remove_index = [15361]"
   ]
  },
  {
   "cell_type": "code",
   "execution_count": 5,
   "metadata": {
    "execution": {
     "iopub.execute_input": "2020-10-21T12:38:47.660695Z",
     "iopub.status.busy": "2020-10-21T12:38:47.659702Z",
     "iopub.status.idle": "2020-10-21T12:38:47.790550Z",
     "shell.execute_reply": "2020-10-21T12:38:47.791836Z"
    },
    "papermill": {
     "duration": 0.163201,
     "end_time": "2020-10-21T12:38:47.792026",
     "exception": false,
     "start_time": "2020-10-21T12:38:47.628825",
     "status": "completed"
    },
    "tags": []
   },
   "outputs": [],
   "source": [
    "noncons_train_index = train[train.cp_type==\"ctl_vehicle\"].index\n",
    "cons_train_index = train[train.cp_type!=\"ctl_vehicle\"].index\n",
    "noncons_test_index = test[test.cp_type==\"ctl_vehicle\"].index\n",
    "cons_test_index = test[test.cp_type!=\"ctl_vehicle\"].index"
   ]
  },
  {
   "cell_type": "markdown",
   "metadata": {
    "papermill": {
     "duration": 0.019999,
     "end_time": "2020-10-21T12:38:47.833297",
     "exception": false,
     "start_time": "2020-10-21T12:38:47.813298",
     "status": "completed"
    },
    "tags": []
   },
   "source": [
    "# preprocess"
   ]
  },
  {
   "cell_type": "code",
   "execution_count": 6,
   "metadata": {
    "execution": {
     "iopub.execute_input": "2020-10-21T12:38:47.887452Z",
     "iopub.status.busy": "2020-10-21T12:38:47.886560Z",
     "iopub.status.idle": "2020-10-21T12:38:48.313260Z",
     "shell.execute_reply": "2020-10-21T12:38:48.314329Z"
    },
    "papermill": {
     "duration": 0.460594,
     "end_time": "2020-10-21T12:38:48.314520",
     "exception": false,
     "start_time": "2020-10-21T12:38:47.853926",
     "status": "completed"
    },
    "tags": []
   },
   "outputs": [],
   "source": [
    "train = train[train.index.isin(cons_train_index)].copy().reset_index(drop=True)\n",
    "targets = targets[targets.index.isin(cons_train_index)].copy().reset_index(drop=True)\n",
    "non_targets = non_targets[non_targets.index.isin(cons_train_index)].copy().reset_index(drop=True)"
   ]
  },
  {
   "cell_type": "code",
   "execution_count": 7,
   "metadata": {
    "execution": {
     "iopub.execute_input": "2020-10-21T12:38:48.356901Z",
     "iopub.status.busy": "2020-10-21T12:38:48.356044Z",
     "iopub.status.idle": "2020-10-21T12:38:48.358249Z",
     "shell.execute_reply": "2020-10-21T12:38:48.357614Z"
    },
    "papermill": {
     "duration": 0.025718,
     "end_time": "2020-10-21T12:38:48.358360",
     "exception": false,
     "start_time": "2020-10-21T12:38:48.332642",
     "status": "completed"
    },
    "tags": []
   },
   "outputs": [],
   "source": [
    "#tmp = train.iloc[15361, :].copy().drop([\"sig_id\", \"cp_type\", \"cp_time\", \"cp_dose\"])\n",
    "#tmp1 = np.array(tmp)\n",
    "#np.sum(tmp1 == 10), np.sum(tmp1==-10)"
   ]
  },
  {
   "cell_type": "code",
   "execution_count": 8,
   "metadata": {
    "execution": {
     "iopub.execute_input": "2020-10-21T12:38:48.406626Z",
     "iopub.status.busy": "2020-10-21T12:38:48.405876Z",
     "iopub.status.idle": "2020-10-21T12:38:48.495835Z",
     "shell.execute_reply": "2020-10-21T12:38:48.496923Z"
    },
    "papermill": {
     "duration": 0.120017,
     "end_time": "2020-10-21T12:38:48.497104",
     "exception": false,
     "start_time": "2020-10-21T12:38:48.377087",
     "status": "completed"
    },
    "tags": []
   },
   "outputs": [
    {
     "name": "stdout",
     "output_type": "stream",
     "text": [
      "first drop 71\n",
      "shape after 1st drop: (21948, 332)\n",
      "331\n"
     ]
    }
   ],
   "source": [
    "non_target_feats = [i for i in non_targets.columns if i != \"sig_id\"]\n",
    "nontarget_dists = pd.DataFrame(np.sum(non_targets[non_target_feats])).reset_index(drop=False)\n",
    "nontarget_dists.columns = [\"target\", \"number\"]\n",
    "nontarget_dists = nontarget_dists.sort_values(\"number\", ascending=False).reset_index(drop=True)\n",
    "drop_list1 = list(nontarget_dists[nontarget_dists.number==0][\"target\"].values)\n",
    "print(\"first drop\", len(drop_list1))\n",
    "non_targets.drop(drop_list1, axis=1, inplace=True)\n",
    "print(\"shape after 1st drop:\", non_targets.shape)\n",
    "non_target_feats = [i for i in non_targets.columns if i != \"sig_id\"]\n",
    "print(len(non_target_feats))"
   ]
  },
  {
   "cell_type": "markdown",
   "metadata": {
    "papermill": {
     "duration": 0.018749,
     "end_time": "2020-10-21T12:38:48.536040",
     "exception": false,
     "start_time": "2020-10-21T12:38:48.517291",
     "status": "completed"
    },
    "tags": []
   },
   "source": [
    "# feature engineering"
   ]
  },
  {
   "cell_type": "code",
   "execution_count": 9,
   "metadata": {
    "execution": {
     "iopub.execute_input": "2020-10-21T12:38:48.592793Z",
     "iopub.status.busy": "2020-10-21T12:38:48.591743Z",
     "iopub.status.idle": "2020-10-21T12:38:48.739801Z",
     "shell.execute_reply": "2020-10-21T12:38:48.739029Z"
    },
    "papermill": {
     "duration": 0.182137,
     "end_time": "2020-10-21T12:38:48.739960",
     "exception": false,
     "start_time": "2020-10-21T12:38:48.557823",
     "status": "completed"
    },
    "tags": []
   },
   "outputs": [
    {
     "name": "stdout",
     "output_type": "stream",
     "text": [
      "(21948, 872) (3982, 872)\n"
     ]
    }
   ],
   "source": [
    "def fe(df):\n",
    "    tmp = df.copy()\n",
    "    #tmp['g_sum'] = tmp[g_feats].sum(axis = 1)\n",
    "    #tmp['g_mean'] = tmp[g_feats].mean(axis = 1)\n",
    "    #tmp['g_std'] = tmp[g_feats].std(axis = 1)\n",
    "    #tmp['g_kurt'] = tmp[g_feats].kurtosis(axis = 1)\n",
    "    #tmp['g_skew'] = tmp[g_feats].skew(axis = 1)\n",
    "    #tmp['c_sum'] = tmp[c_feats].sum(axis = 1)\n",
    "    #tmp['c_mean'] = tmp[c_feats].mean(axis = 1)\n",
    "    #tmp['c_std'] = tmp[c_feats].std(axis = 1)\n",
    "    #tmp['c_kurt'] = tmp[c_feats].kurtosis(axis = 1)\n",
    "    #tmp['c_skew'] = tmp[c_feats].skew(axis = 1)\n",
    "    #tmp['gc_sum'] = tmp[c_feats + g_feats].sum(axis = 1)\n",
    "    #tmp['gc_mean'] = tmp[c_feats + g_feats].mean(axis = 1)\n",
    "    #tmp['gc_std'] = tmp[c_feats + g_feats].std(axis = 1)\n",
    "    #tmp['gc_kurt'] = tmp[c_feats + g_feats].kurtosis(axis = 1)\n",
    "    #tmp['gc_skew'] = tmp[c_feats + g_feats].skew(axis = 1)\n",
    "    #tmp.loc[:, 'cp_dose'] = tmp.loc[:, 'cp_dose'].map({'D1': 0, 'D2': 1})        \n",
    "    tmp.drop([\"cp_type\", \"sig_id\", \"cp_dose\", \"cp_time\"], axis=1, inplace=True)\n",
    "    #col = list(tmp.columns)\n",
    "    #col = col[1:] + col[:1]\n",
    "    #tmp = tmp[col]\n",
    "    return tmp\n",
    "\n",
    "f_train = fe(train)\n",
    "f_test = fe(test)\n",
    "\n",
    "print(f_train.shape, f_test.shape)"
   ]
  },
  {
   "cell_type": "code",
   "execution_count": 10,
   "metadata": {
    "execution": {
     "iopub.execute_input": "2020-10-21T12:38:48.782902Z",
     "iopub.status.busy": "2020-10-21T12:38:48.781619Z",
     "iopub.status.idle": "2020-10-21T12:38:49.838822Z",
     "shell.execute_reply": "2020-10-21T12:38:49.838272Z"
    },
    "papermill": {
     "duration": 1.081139,
     "end_time": "2020-10-21T12:38:49.838939",
     "exception": false,
     "start_time": "2020-10-21T12:38:48.757800",
     "status": "completed"
    },
    "tags": []
   },
   "outputs": [],
   "source": [
    "fn_train = f_train.copy().to_numpy()\n",
    "fn_test = f_test.copy().to_numpy()\n",
    "\n",
    "ss = preprocessing.RobustScaler()\n",
    "fn_train= ss.fit_transform(fn_train)\n",
    "fn_test = ss.transform(fn_test)\n",
    "\n",
    "#fn_nontargets = non_targets.drop(\"sig_id\", axis=1).copy().to_numpy()\n",
    "fn_targets = targets.drop(\"sig_id\", axis=1).copy().to_numpy()"
   ]
  },
  {
   "cell_type": "code",
   "execution_count": 11,
   "metadata": {
    "execution": {
     "iopub.execute_input": "2020-10-21T12:38:49.884511Z",
     "iopub.status.busy": "2020-10-21T12:38:49.883887Z",
     "iopub.status.idle": "2020-10-21T12:38:49.888520Z",
     "shell.execute_reply": "2020-10-21T12:38:49.887347Z"
    },
    "papermill": {
     "duration": 0.034739,
     "end_time": "2020-10-21T12:38:49.888621",
     "exception": false,
     "start_time": "2020-10-21T12:38:49.853882",
     "status": "completed"
    },
    "tags": []
   },
   "outputs": [],
   "source": [
    "class myLSTM(nn.Module):\n",
    "    def __init__(self, last_num):\n",
    "        super().__init__()\n",
    "\n",
    "        self.lstm_hidden_size = 772\n",
    "        self.c_lstm_hidden_size = 100\n",
    "        self.g_layer_num = 1\n",
    "        self.c_layer_num = 1\n",
    "        \n",
    "        self.hidden_dim = 512\n",
    "        self.hidden_dim_c = 10\n",
    "        \n",
    "        self.lstm = nn.LSTM(self.lstm_hidden_size, self.hidden_dim, batch_first=True, bidirectional=True, num_layers=self.g_layer_num)\n",
    "        self.c_lstm = nn.LSTM(self.c_lstm_hidden_size, self.hidden_dim_c, batch_first=True, bidirectional=True, num_layers=self.c_layer_num)\n",
    "\n",
    "        self.dropout = nn.Dropout(0.1)\n",
    "        self.out = nn.utils.weight_norm(nn.Linear((self.hidden_dim+self.hidden_dim_c) * 2 , last_num))\n",
    "        self.batch_norm = nn.BatchNorm1d((self.hidden_dim+self.hidden_dim_c) * 2)\n",
    "\n",
    "    def forward(self, cont_g, cont_c): \n",
    "        cont_g = torch.unsqueeze(cont_g, 1)\n",
    "        h_lstm, lstm_out = self.lstm(cont_g) # h_lstm: 256 * 1 * (2 * 512)\n",
    "        conc_g = h_lstm.view(-1, self.hidden_dim * 2)\n",
    "        \n",
    "        cont_c = torch.unsqueeze(cont_c, 1)\n",
    "        h_lstm_c, lstm_out_c = self.c_lstm(cont_c) # h_lstm: 256 * 1 * (2 * 5)\n",
    "        conc_c = h_lstm_c.view(-1, self.hidden_dim_c * 2)\n",
    "        \n",
    "        conc = torch.cat((conc_g, conc_c),1)\n",
    "        conc = self.batch_norm(conc)\n",
    "        \n",
    "        dropped = self.dropout(conc)\n",
    "        out = self.out(dropped)\n",
    "        return out"
   ]
  },
  {
   "cell_type": "code",
   "execution_count": 12,
   "metadata": {
    "execution": {
     "iopub.execute_input": "2020-10-21T12:38:49.942158Z",
     "iopub.status.busy": "2020-10-21T12:38:49.926863Z",
     "iopub.status.idle": "2020-10-21T12:38:50.431399Z",
     "shell.execute_reply": "2020-10-21T12:38:50.432620Z"
    },
    "papermill": {
     "duration": 0.529426,
     "end_time": "2020-10-21T12:38:50.432820",
     "exception": false,
     "start_time": "2020-10-21T12:38:49.903394",
     "status": "completed"
    },
    "tags": []
   },
   "outputs": [
    {
     "name": "stdout",
     "output_type": "stream",
     "text": [
      "cuda\n"
     ]
    }
   ],
   "source": [
    "batch_size = 256\n",
    "train_epochs = 30\n",
    "n_folds=7\n",
    "EARLY_STOPPING_STEPS = 10\n",
    "\n",
    "device = \"cuda\" if torch.cuda.is_available() else \"cpu\"\n",
    "print(device)\n",
    "def mean_log_loss(y_true, y_pred):\n",
    "    metrics = []\n",
    "    for i, target in enumerate(target_feats):\n",
    "        metrics.append(log_loss(y_true[:, i], y_pred[:, i].astype(float), labels=[0,1]))\n",
    "    return np.mean(metrics)\n",
    "\n",
    "def seed_everything(seed=1234): \n",
    "    random.seed(seed)\n",
    "    os.environ['PYTHONHASHSEED'] = str(seed)\n",
    "    tf.random.set_seed(seed)\n",
    "    np.random.seed(seed)\n",
    "    torch.manual_seed(seed)\n",
    "    torch.cuda.manual_seed(seed)\n",
    "    torch.backends.cudnn.deterministic = True\n",
    "\n",
    "def modelling_lstm(tr, target, te, sample_seed, last_num):\n",
    "    \n",
    "    mskf=MultilabelStratifiedKFold(n_splits = n_folds, shuffle=True, random_state=2)\n",
    "    \n",
    "    seed_everything(seed=sample_seed) \n",
    "    X_train = tr.copy()\n",
    "    y_train = target.copy()\n",
    "    X_test = te.copy()\n",
    "    test_len = X_test.shape[0]\n",
    "    \n",
    "    models = []\n",
    "    \n",
    "    X_test_g = torch.tensor(X_test[:,:772], dtype=torch.float32)\n",
    "    X_test_c = torch.tensor(X_test[:,772:872], dtype=torch.float32)\n",
    "\n",
    "    X_test = torch.utils.data.TensorDataset(X_test_g, X_test_c) \n",
    "    test_loader = torch.utils.data.DataLoader(X_test, batch_size=batch_size, shuffle=False)\n",
    "    \n",
    "    oof = np.zeros([len(X_train),y_train.shape[1]])\n",
    "    oof_targets = np.zeros([len(X_train),y_train.shape[1]])\n",
    "    pred_value = np.zeros([test_len, y_train.shape[1]])\n",
    "    scores = []\n",
    "    \n",
    "    for fold, (train_index, valid_index) in enumerate(mskf.split(X_train, y_train)):\n",
    "        print(\"Fold \"+str(fold+1))\n",
    "        X_train2_g = torch.tensor(X_train[train_index,:772], dtype=torch.float32)\n",
    "        X_valid2_g = torch.tensor(X_train[valid_index,:772], dtype=torch.float32)\n",
    "        X_train2_c = torch.tensor(X_train[train_index,772:872], dtype=torch.float32)\n",
    "        X_valid2_c = torch.tensor(X_train[valid_index,772:872], dtype=torch.float32)\n",
    "        \n",
    "        y_train2 = torch.tensor(y_train[train_index], dtype=torch.float32)\n",
    "        y_valid2 = torch.tensor(y_train[valid_index], dtype=torch.float32)\n",
    "            \n",
    "        clf = myLSTM(last_num)\n",
    "        loss_fn = torch.nn.BCEWithLogitsLoss() \n",
    "\n",
    "        optimizer = optim.Adam(clf.parameters(), lr = 0.01, weight_decay=1e-5) \n",
    "        #lookahead = Lookahead(optimizer, k=10, alpha=0.6) #lookahead\n",
    "        scheduler = optim.lr_scheduler.ReduceLROnPlateau(optimizer, mode='min', factor=0.1, patience=3, eps=1e-4, verbose=True)\n",
    "        \n",
    "        train = torch.utils.data.TensorDataset(X_train2_g, X_train2_c, y_train2)\n",
    "        valid = torch.utils.data.TensorDataset(X_valid2_g, X_valid2_c, y_valid2)\n",
    "        \n",
    "        clf.to(device)\n",
    "        \n",
    "        train_loader = torch.utils.data.DataLoader(train, batch_size=batch_size, shuffle=True) \n",
    "        valid_loader = torch.utils.data.DataLoader(valid, batch_size=batch_size, shuffle=False)\n",
    "        \n",
    "        best_val_loss = np.inf\n",
    "        stop_counts = 0\n",
    "        for epoch in range(train_epochs):\n",
    "            start_time = time.time()\n",
    "            clf.train()\n",
    "            avg_loss = 0.\n",
    "            for x_batch_g, x_batch_c, y_batch in tqdm(train_loader, disable=True):\n",
    "                x_batch_g = x_batch_g.to(device)\n",
    "                x_batch_c = x_batch_c.to(device)\n",
    "                y_batch = y_batch.to(device)\n",
    "                y_pred = clf(x_batch_g, x_batch_c) \n",
    "                loss = loss_fn(y_pred, y_batch)\n",
    "                optimizer.zero_grad()\n",
    "                loss.backward()\n",
    "                optimizer.step()\n",
    "                avg_loss += loss.item() / len(train_loader)        \n",
    "            \n",
    "            clf.eval()\n",
    "            avg_val_loss = 0.\n",
    "            for i, (x_batch_g, x_batch_c, y_batch) in enumerate(valid_loader): \n",
    "                x_batch_g = x_batch_g.to(device)\n",
    "                x_batch_c = x_batch_c.to(device)\n",
    "                y_batch = y_batch.to(device)\n",
    "                y_pred = clf(x_batch_g, x_batch_c).detach()\n",
    "                avg_val_loss += loss_fn(y_pred, y_batch).item() / len(valid_loader)\n",
    "                \n",
    "            elapsed_time = time.time() - start_time \n",
    "            scheduler.step(avg_val_loss)\n",
    "                    \n",
    "            if avg_val_loss < best_val_loss:\n",
    "                stop_counts = 0\n",
    "                best_val_loss = avg_val_loss\n",
    "                print('Best model: Epoch {} \\t loss={:.6f} \\t val_loss={:.6f} \\t time={:.2f}s'.format(\n",
    "                    epoch + 1, avg_loss, avg_val_loss, elapsed_time))\n",
    "                torch.save(clf.state_dict(), 'best-model-parameters.pt')\n",
    "\n",
    "            else:\n",
    "                stop_counts += 1\n",
    "        \n",
    "            #if stop_counts >= EARLY_STOPPING_STEPS: \n",
    "            #    break\n",
    "         \n",
    "        pred_model = myLSTM(last_num)\n",
    "        pred_model.load_state_dict(torch.load('best-model-parameters.pt'))\n",
    "        pred_model.eval()\n",
    "        \n",
    "        # validation check ----------------\n",
    "        oof_epoch = np.zeros([X_valid2_g.size(0), y_train.shape[1]])\n",
    "        target_epoch = np.zeros([X_valid2_g.size(0), y_train.shape[1]])\n",
    "        for i, (x_batch_g, x_batch_c, y_batch) in enumerate(valid_loader): \n",
    "                y_pred = pred_model(x_batch_g, x_batch_c).sigmoid().detach()\n",
    "                oof_epoch[i * batch_size:(i+1) * batch_size,:] = y_pred.cpu().numpy()\n",
    "                target_epoch[i * batch_size:(i+1) * batch_size,:] = y_batch.cpu().numpy()\n",
    "        print(\"Fold {} log loss: {}\".format(fold+1, mean_log_loss(target_epoch, oof_epoch)))\n",
    "        scores.append(mean_log_loss(target_epoch, oof_epoch))\n",
    "        oof[valid_index,:] = oof_epoch\n",
    "        oof_targets[valid_index,:] = target_epoch\n",
    "        #-----------------------------------\n",
    "        \n",
    "        # test predcition --------------\n",
    "        test_preds = np.zeros([test_len, y_train.shape[1]])\n",
    "        for i, (x_batch_g, x_batch_c, ) in enumerate(test_loader): \n",
    "            y_pred = pred_model(x_batch_g, x_batch_c).sigmoid().detach()\n",
    "            test_preds[i * batch_size:(i+1) * batch_size, :] = y_pred.cpu().numpy()\n",
    "        pred_value += test_preds / n_folds\n",
    "        # ------------------------------\n",
    "        \n",
    "    print(\"Seed {}\".format(seed_))\n",
    "    for i, ele in enumerate(scores):\n",
    "        print(\"Fold {} log loss: {}\".format(i+1, scores[i]))\n",
    "    print(\"Std of log loss: {}\".format(np.std(scores)))\n",
    "    print(\"Total log loss: {}\".format(mean_log_loss(oof_targets, oof)))\n",
    "\n",
    "    return oof, oof_targets, pred_value"
   ]
  },
  {
   "cell_type": "code",
   "execution_count": 13,
   "metadata": {
    "execution": {
     "iopub.execute_input": "2020-10-21T12:38:50.490562Z",
     "iopub.status.busy": "2020-10-21T12:38:50.489765Z",
     "iopub.status.idle": "2020-10-21T12:48:22.537023Z",
     "shell.execute_reply": "2020-10-21T12:48:22.535710Z"
    },
    "papermill": {
     "duration": 572.079364,
     "end_time": "2020-10-21T12:48:22.537175",
     "exception": false,
     "start_time": "2020-10-21T12:38:50.457811",
     "status": "completed"
    },
    "tags": []
   },
   "outputs": [
    {
     "name": "stdout",
     "output_type": "stream",
     "text": [
      "Final prediction\n",
      "Fold 1\n",
      "Best model: Epoch 1 \t loss=0.135719 \t val_loss=0.019513 \t time=0.88s\n",
      "Best model: Epoch 2 \t loss=0.018417 \t val_loss=0.018191 \t time=0.72s\n",
      "Best model: Epoch 3 \t loss=0.017330 \t val_loss=0.017870 \t time=0.74s\n",
      "Best model: Epoch 4 \t loss=0.016946 \t val_loss=0.017520 \t time=0.72s\n",
      "Best model: Epoch 5 \t loss=0.016662 \t val_loss=0.017308 \t time=0.72s\n",
      "Best model: Epoch 6 \t loss=0.016509 \t val_loss=0.017236 \t time=0.74s\n",
      "Best model: Epoch 7 \t loss=0.016423 \t val_loss=0.017228 \t time=0.73s\n",
      "Epoch    11: reducing learning rate of group 0 to 1.0000e-03.\n",
      "Best model: Epoch 12 \t loss=0.014612 \t val_loss=0.016319 \t time=0.75s\n",
      "Best model: Epoch 13 \t loss=0.013275 \t val_loss=0.016228 \t time=0.95s\n",
      "Epoch    17: reducing learning rate of group 0 to 1.0000e-04.\n",
      "Fold 1 log loss: 0.01641108022170241\n",
      "Fold 2\n",
      "Best model: Epoch 1 \t loss=0.139104 \t val_loss=0.019464 \t time=0.71s\n",
      "Best model: Epoch 2 \t loss=0.018421 \t val_loss=0.017866 \t time=1.07s\n",
      "Best model: Epoch 3 \t loss=0.017428 \t val_loss=0.017489 \t time=0.73s\n",
      "Best model: Epoch 4 \t loss=0.017050 \t val_loss=0.017236 \t time=0.74s\n",
      "Best model: Epoch 7 \t loss=0.016420 \t val_loss=0.017137 \t time=0.75s\n",
      "Best model: Epoch 8 \t loss=0.016423 \t val_loss=0.017083 \t time=1.17s\n",
      "Epoch    12: reducing learning rate of group 0 to 1.0000e-03.\n",
      "Best model: Epoch 13 \t loss=0.014713 \t val_loss=0.016118 \t time=0.77s\n",
      "Best model: Epoch 14 \t loss=0.013414 \t val_loss=0.015953 \t time=0.74s\n",
      "Epoch    18: reducing learning rate of group 0 to 1.0000e-04.\n",
      "Fold 2 log loss: 0.01613246749394157\n",
      "Fold 3\n",
      "Best model: Epoch 1 \t loss=0.137341 \t val_loss=0.019635 \t time=0.77s\n",
      "Best model: Epoch 2 \t loss=0.018411 \t val_loss=0.018300 \t time=0.73s\n",
      "Best model: Epoch 3 \t loss=0.017468 \t val_loss=0.017950 \t time=1.42s\n",
      "Best model: Epoch 4 \t loss=0.017054 \t val_loss=0.017499 \t time=0.80s\n",
      "Best model: Epoch 5 \t loss=0.016767 \t val_loss=0.017352 \t time=0.75s\n",
      "Best model: Epoch 6 \t loss=0.016525 \t val_loss=0.017244 \t time=0.73s\n",
      "Epoch    10: reducing learning rate of group 0 to 1.0000e-03.\n",
      "Best model: Epoch 11 \t loss=0.014668 \t val_loss=0.016362 \t time=0.74s\n",
      "Best model: Epoch 12 \t loss=0.013426 \t val_loss=0.016253 \t time=0.75s\n",
      "Epoch    16: reducing learning rate of group 0 to 1.0000e-04.\n",
      "Fold 3 log loss: 0.016338481154736642\n",
      "Fold 4\n",
      "Best model: Epoch 1 \t loss=0.137423 \t val_loss=0.019480 \t time=0.73s\n",
      "Best model: Epoch 2 \t loss=0.018499 \t val_loss=0.018105 \t time=0.88s\n",
      "Best model: Epoch 3 \t loss=0.017450 \t val_loss=0.017910 \t time=0.75s\n",
      "Best model: Epoch 4 \t loss=0.017141 \t val_loss=0.017566 \t time=0.73s\n",
      "Best model: Epoch 6 \t loss=0.016489 \t val_loss=0.017291 \t time=0.72s\n",
      "Epoch    10: reducing learning rate of group 0 to 1.0000e-03.\n",
      "Best model: Epoch 11 \t loss=0.014606 \t val_loss=0.016458 \t time=0.92s\n",
      "Best model: Epoch 12 \t loss=0.013408 \t val_loss=0.016321 \t time=1.72s\n",
      "Epoch    16: reducing learning rate of group 0 to 1.0000e-04.\n",
      "Fold 4 log loss: 0.01643298917140214\n",
      "Fold 5\n",
      "Best model: Epoch 1 \t loss=0.135945 \t val_loss=0.019801 \t time=0.73s\n",
      "Best model: Epoch 2 \t loss=0.018371 \t val_loss=0.018349 \t time=0.73s\n",
      "Best model: Epoch 3 \t loss=0.017458 \t val_loss=0.018042 \t time=0.76s\n",
      "Best model: Epoch 4 \t loss=0.017003 \t val_loss=0.017669 \t time=0.74s\n",
      "Best model: Epoch 5 \t loss=0.016676 \t val_loss=0.017662 \t time=0.75s\n",
      "Best model: Epoch 6 \t loss=0.016462 \t val_loss=0.017425 \t time=1.16s\n",
      "Best model: Epoch 7 \t loss=0.016409 \t val_loss=0.017422 \t time=0.80s\n",
      "Best model: Epoch 10 \t loss=0.016351 \t val_loss=0.017394 \t time=0.76s\n",
      "Epoch    14: reducing learning rate of group 0 to 1.0000e-03.\n",
      "Best model: Epoch 15 \t loss=0.014742 \t val_loss=0.016602 \t time=0.77s\n",
      "Best model: Epoch 16 \t loss=0.013437 \t val_loss=0.016408 \t time=0.73s\n",
      "Best model: Epoch 17 \t loss=0.012610 \t val_loss=0.016388 \t time=0.74s\n",
      "Epoch    21: reducing learning rate of group 0 to 1.0000e-04.\n",
      "Fold 5 log loss: 0.01637972038839258\n",
      "Fold 6\n",
      "Best model: Epoch 1 \t loss=0.134925 \t val_loss=0.019545 \t time=0.99s\n",
      "Best model: Epoch 2 \t loss=0.018279 \t val_loss=0.018350 \t time=0.75s\n",
      "Best model: Epoch 3 \t loss=0.017341 \t val_loss=0.017887 \t time=0.72s\n",
      "Best model: Epoch 4 \t loss=0.016880 \t val_loss=0.017843 \t time=0.73s\n",
      "Best model: Epoch 5 \t loss=0.016677 \t val_loss=0.017541 \t time=0.75s\n",
      "Best model: Epoch 7 \t loss=0.016517 \t val_loss=0.017498 \t time=0.71s\n",
      "Best model: Epoch 8 \t loss=0.016478 \t val_loss=0.017498 \t time=0.74s\n",
      "Epoch    11: reducing learning rate of group 0 to 1.0000e-03.\n",
      "Best model: Epoch 12 \t loss=0.014903 \t val_loss=0.016651 \t time=0.75s\n",
      "Best model: Epoch 13 \t loss=0.013612 \t val_loss=0.016461 \t time=0.74s\n",
      "Epoch    17: reducing learning rate of group 0 to 1.0000e-04.\n",
      "Fold 6 log loss: 0.01657700412368524\n",
      "Fold 7\n",
      "Best model: Epoch 1 \t loss=0.137066 \t val_loss=0.019493 \t time=0.74s\n",
      "Best model: Epoch 2 \t loss=0.018397 \t val_loss=0.018203 \t time=0.74s\n",
      "Best model: Epoch 3 \t loss=0.017440 \t val_loss=0.017658 \t time=0.77s\n",
      "Best model: Epoch 4 \t loss=0.016951 \t val_loss=0.017328 \t time=0.74s\n",
      "Best model: Epoch 6 \t loss=0.016490 \t val_loss=0.017279 \t time=0.73s\n",
      "Best model: Epoch 10 \t loss=0.016431 \t val_loss=0.017244 \t time=0.81s\n",
      "Best model: Epoch 11 \t loss=0.016490 \t val_loss=0.017228 \t time=0.85s\n",
      "Epoch    15: reducing learning rate of group 0 to 1.0000e-03.\n",
      "Best model: Epoch 16 \t loss=0.014821 \t val_loss=0.016400 \t time=0.77s\n",
      "Best model: Epoch 17 \t loss=0.013513 \t val_loss=0.016277 \t time=0.74s\n",
      "Epoch    21: reducing learning rate of group 0 to 1.0000e-04.\n",
      "Fold 7 log loss: 0.016149118636795044\n",
      "Seed 0\n",
      "Fold 1 log loss: 0.01641108022170241\n",
      "Fold 2 log loss: 0.01613246749394157\n",
      "Fold 3 log loss: 0.016338481154736642\n",
      "Fold 4 log loss: 0.01643298917140214\n",
      "Fold 5 log loss: 0.01637972038839258\n",
      "Fold 6 log loss: 0.01657700412368524\n",
      "Fold 7 log loss: 0.016149118636795044\n",
      "Std of log loss: 0.00014673458596906738\n",
      "Total log loss: 0.016345839667610326\n",
      "Fold 1\n",
      "Best model: Epoch 1 \t loss=0.139156 \t val_loss=0.019483 \t time=0.80s\n",
      "Best model: Epoch 2 \t loss=0.018348 \t val_loss=0.018213 \t time=0.77s\n",
      "Best model: Epoch 3 \t loss=0.017369 \t val_loss=0.017851 \t time=0.75s\n",
      "Best model: Epoch 4 \t loss=0.016923 \t val_loss=0.017566 \t time=0.76s\n",
      "Best model: Epoch 5 \t loss=0.016612 \t val_loss=0.017332 \t time=0.79s\n",
      "Best model: Epoch 6 \t loss=0.016489 \t val_loss=0.017237 \t time=0.81s\n",
      "Best model: Epoch 7 \t loss=0.016421 \t val_loss=0.017230 \t time=0.84s\n",
      "Epoch    11: reducing learning rate of group 0 to 1.0000e-03.\n",
      "Best model: Epoch 12 \t loss=0.014554 \t val_loss=0.016334 \t time=1.00s\n",
      "Best model: Epoch 13 \t loss=0.013266 \t val_loss=0.016229 \t time=0.77s\n",
      "Best model: Epoch 14 \t loss=0.012503 \t val_loss=0.016196 \t time=0.82s\n",
      "Epoch    18: reducing learning rate of group 0 to 1.0000e-04.\n",
      "Fold 1 log loss: 0.016364082014250523\n",
      "Fold 2\n",
      "Best model: Epoch 1 \t loss=0.136989 \t val_loss=0.019574 \t time=0.82s\n",
      "Best model: Epoch 2 \t loss=0.018535 \t val_loss=0.018085 \t time=0.83s\n",
      "Best model: Epoch 3 \t loss=0.017703 \t val_loss=0.017743 \t time=1.03s\n",
      "Best model: Epoch 4 \t loss=0.017124 \t val_loss=0.017125 \t time=1.10s\n",
      "Best model: Epoch 6 \t loss=0.016593 \t val_loss=0.017092 \t time=0.77s\n",
      "Best model: Epoch 9 \t loss=0.016492 \t val_loss=0.016938 \t time=0.74s\n",
      "Epoch    13: reducing learning rate of group 0 to 1.0000e-03.\n",
      "Best model: Epoch 14 \t loss=0.014838 \t val_loss=0.016138 \t time=0.74s\n",
      "Best model: Epoch 15 \t loss=0.013563 \t val_loss=0.015976 \t time=0.72s\n",
      "Best model: Epoch 16 \t loss=0.012802 \t val_loss=0.015975 \t time=0.73s\n",
      "Epoch    19: reducing learning rate of group 0 to 1.0000e-04.\n",
      "Fold 2 log loss: 0.01614693944236887\n",
      "Fold 3\n",
      "Best model: Epoch 1 \t loss=0.138931 \t val_loss=0.019617 \t time=0.74s\n",
      "Best model: Epoch 2 \t loss=0.018431 \t val_loss=0.018216 \t time=0.76s\n",
      "Best model: Epoch 3 \t loss=0.018169 \t val_loss=0.017671 \t time=0.72s\n",
      "Best model: Epoch 5 \t loss=0.016677 \t val_loss=0.017395 \t time=0.75s\n",
      "Best model: Epoch 6 \t loss=0.016513 \t val_loss=0.017280 \t time=1.02s\n",
      "Epoch    10: reducing learning rate of group 0 to 1.0000e-03.\n",
      "Best model: Epoch 11 \t loss=0.014551 \t val_loss=0.016349 \t time=0.88s\n",
      "Best model: Epoch 12 \t loss=0.013288 \t val_loss=0.016214 \t time=0.92s\n",
      "Epoch    16: reducing learning rate of group 0 to 1.0000e-04.\n",
      "Fold 3 log loss: 0.016291574683568972\n",
      "Fold 4\n",
      "Best model: Epoch 1 \t loss=0.138915 \t val_loss=0.019633 \t time=1.00s\n",
      "Best model: Epoch 2 \t loss=0.018538 \t val_loss=0.018280 \t time=0.76s\n",
      "Best model: Epoch 3 \t loss=0.017473 \t val_loss=0.017816 \t time=0.77s\n",
      "Best model: Epoch 4 \t loss=0.016949 \t val_loss=0.017632 \t time=0.74s\n",
      "Best model: Epoch 5 \t loss=0.016632 \t val_loss=0.017524 \t time=0.79s\n",
      "Best model: Epoch 6 \t loss=0.016485 \t val_loss=0.017297 \t time=0.80s\n",
      "Epoch    10: reducing learning rate of group 0 to 1.0000e-03.\n",
      "Best model: Epoch 11 \t loss=0.014588 \t val_loss=0.016394 \t time=0.78s\n",
      "Best model: Epoch 12 \t loss=0.013306 \t val_loss=0.016282 \t time=1.02s\n",
      "Epoch    16: reducing learning rate of group 0 to 1.0000e-04.\n",
      "Fold 4 log loss: 0.01639350740375544\n",
      "Fold 5\n",
      "Best model: Epoch 1 \t loss=0.138203 \t val_loss=0.019806 \t time=1.02s\n",
      "Best model: Epoch 2 \t loss=0.018461 \t val_loss=0.018368 \t time=0.72s\n",
      "Best model: Epoch 3 \t loss=0.017484 \t val_loss=0.017867 \t time=0.72s\n",
      "Best model: Epoch 4 \t loss=0.016971 \t val_loss=0.017612 \t time=0.74s\n",
      "Best model: Epoch 5 \t loss=0.016641 \t val_loss=0.017566 \t time=0.74s\n",
      "Best model: Epoch 7 \t loss=0.016444 \t val_loss=0.017518 \t time=0.71s\n",
      "Best model: Epoch 8 \t loss=0.016481 \t val_loss=0.017488 \t time=0.72s\n",
      "Best model: Epoch 9 \t loss=0.016423 \t val_loss=0.017474 \t time=0.73s\n",
      "Epoch    13: reducing learning rate of group 0 to 1.0000e-03.\n",
      "Best model: Epoch 14 \t loss=0.014777 \t val_loss=0.016482 \t time=1.06s\n",
      "Best model: Epoch 15 \t loss=0.013484 \t val_loss=0.016357 \t time=0.74s\n",
      "Best model: Epoch 16 \t loss=0.012736 \t val_loss=0.016334 \t time=0.76s\n",
      "Epoch    20: reducing learning rate of group 0 to 1.0000e-04.\n",
      "Fold 5 log loss: 0.016348168433590347\n",
      "Fold 6\n",
      "Best model: Epoch 1 \t loss=0.134532 \t val_loss=0.019701 \t time=0.85s\n",
      "Best model: Epoch 2 \t loss=0.018340 \t val_loss=0.018423 \t time=0.73s\n",
      "Best model: Epoch 3 \t loss=0.017400 \t val_loss=0.017958 \t time=0.73s\n",
      "Best model: Epoch 4 \t loss=0.017051 \t val_loss=0.017668 \t time=0.78s\n",
      "Best model: Epoch 7 \t loss=0.016491 \t val_loss=0.017580 \t time=1.05s\n",
      "Best model: Epoch 8 \t loss=0.016481 \t val_loss=0.017577 \t time=0.72s\n",
      "Best model: Epoch 9 \t loss=0.016483 \t val_loss=0.017436 \t time=0.72s\n",
      "Best model: Epoch 11 \t loss=0.016511 \t val_loss=0.017431 \t time=0.98s\n",
      "Epoch    15: reducing learning rate of group 0 to 1.0000e-03.\n",
      "Best model: Epoch 16 \t loss=0.014890 \t val_loss=0.016554 \t time=0.72s\n",
      "Best model: Epoch 17 \t loss=0.013645 \t val_loss=0.016401 \t time=0.76s\n",
      "Epoch    21: reducing learning rate of group 0 to 1.0000e-04.\n",
      "Fold 6 log loss: 0.01653138222525303\n",
      "Fold 7\n",
      "Best model: Epoch 1 \t loss=0.142755 \t val_loss=0.019713 \t time=0.73s\n",
      "Best model: Epoch 2 \t loss=0.018566 \t val_loss=0.018645 \t time=0.72s\n",
      "Best model: Epoch 3 \t loss=0.017555 \t val_loss=0.017877 \t time=0.73s\n",
      "Best model: Epoch 4 \t loss=0.017008 \t val_loss=0.017475 \t time=1.12s\n",
      "Best model: Epoch 5 \t loss=0.016731 \t val_loss=0.017432 \t time=0.73s\n",
      "Best model: Epoch 6 \t loss=0.016566 \t val_loss=0.017229 \t time=0.74s\n",
      "Best model: Epoch 8 \t loss=0.016378 \t val_loss=0.017198 \t time=0.72s\n",
      "Best model: Epoch 11 \t loss=0.016396 \t val_loss=0.017111 \t time=0.76s\n",
      "Epoch    15: reducing learning rate of group 0 to 1.0000e-03.\n",
      "Best model: Epoch 16 \t loss=0.014768 \t val_loss=0.016333 \t time=0.73s\n",
      "Best model: Epoch 17 \t loss=0.013493 \t val_loss=0.016222 \t time=0.74s\n",
      "Best model: Epoch 18 \t loss=0.012751 \t val_loss=0.016188 \t time=1.02s\n",
      "Epoch    22: reducing learning rate of group 0 to 1.0000e-04.\n",
      "Fold 7 log loss: 0.01606744015038156\n",
      "Seed 10\n",
      "Fold 1 log loss: 0.016364082014250523\n",
      "Fold 2 log loss: 0.01614693944236887\n",
      "Fold 3 log loss: 0.016291574683568972\n",
      "Fold 4 log loss: 0.01639350740375544\n",
      "Fold 5 log loss: 0.016348168433590347\n",
      "Fold 6 log loss: 0.01653138222525303\n",
      "Fold 7 log loss: 0.01606744015038156\n",
      "Std of log loss: 0.00014443257045315566\n",
      "Total log loss: 0.0163061612578497\n",
      "Fold 1\n",
      "Best model: Epoch 1 \t loss=0.136943 \t val_loss=0.019498 \t time=0.74s\n",
      "Best model: Epoch 2 \t loss=0.018310 \t val_loss=0.018159 \t time=0.73s\n",
      "Best model: Epoch 3 \t loss=0.017593 \t val_loss=0.017720 \t time=0.77s\n",
      "Best model: Epoch 4 \t loss=0.016981 \t val_loss=0.017367 \t time=0.74s\n",
      "Best model: Epoch 5 \t loss=0.016655 \t val_loss=0.017333 \t time=0.72s\n",
      "Best model: Epoch 6 \t loss=0.016532 \t val_loss=0.017165 \t time=0.73s\n",
      "Epoch    10: reducing learning rate of group 0 to 1.0000e-03.\n",
      "Best model: Epoch 11 \t loss=0.014625 \t val_loss=0.016270 \t time=0.75s\n",
      "Best model: Epoch 12 \t loss=0.013321 \t val_loss=0.016179 \t time=1.19s\n",
      "Best model: Epoch 13 \t loss=0.012602 \t val_loss=0.016162 \t time=0.76s\n",
      "Epoch    17: reducing learning rate of group 0 to 1.0000e-04.\n",
      "Fold 1 log loss: 0.016348102941000954\n",
      "Fold 2\n",
      "Best model: Epoch 1 \t loss=0.137345 \t val_loss=0.019516 \t time=0.77s\n",
      "Best model: Epoch 2 \t loss=0.018557 \t val_loss=0.018232 \t time=0.75s\n",
      "Best model: Epoch 3 \t loss=0.017478 \t val_loss=0.017451 \t time=0.89s\n",
      "Best model: Epoch 4 \t loss=0.017012 \t val_loss=0.017311 \t time=0.99s\n",
      "Best model: Epoch 5 \t loss=0.016701 \t val_loss=0.017013 \t time=0.82s\n",
      "Epoch     9: reducing learning rate of group 0 to 1.0000e-03.\n",
      "Best model: Epoch 10 \t loss=0.014669 \t val_loss=0.016006 \t time=0.74s\n",
      "Best model: Epoch 11 \t loss=0.013464 \t val_loss=0.015873 \t time=0.75s\n",
      "Epoch    15: reducing learning rate of group 0 to 1.0000e-04.\n",
      "Fold 2 log loss: 0.016057234237619598\n",
      "Fold 3\n",
      "Best model: Epoch 1 \t loss=0.135961 \t val_loss=0.019621 \t time=0.74s\n",
      "Best model: Epoch 2 \t loss=0.018343 \t val_loss=0.018100 \t time=0.72s\n",
      "Best model: Epoch 3 \t loss=0.017576 \t val_loss=0.017643 \t time=0.73s\n",
      "Best model: Epoch 4 \t loss=0.017021 \t val_loss=0.017422 \t time=0.72s\n",
      "Best model: Epoch 5 \t loss=0.016683 \t val_loss=0.017289 \t time=0.73s\n",
      "Epoch     9: reducing learning rate of group 0 to 1.0000e-03.\n",
      "Best model: Epoch 10 \t loss=0.014787 \t val_loss=0.016370 \t time=0.72s\n",
      "Best model: Epoch 11 \t loss=0.013539 \t val_loss=0.016191 \t time=0.74s\n",
      "Epoch    15: reducing learning rate of group 0 to 1.0000e-04.\n",
      "Fold 3 log loss: 0.016288702168384475\n",
      "Fold 4\n",
      "Best model: Epoch 1 \t loss=0.140791 \t val_loss=0.019762 \t time=0.73s\n",
      "Best model: Epoch 2 \t loss=0.018578 \t val_loss=0.018277 \t time=0.86s\n",
      "Best model: Epoch 3 \t loss=0.017386 \t val_loss=0.017828 \t time=0.80s\n",
      "Best model: Epoch 4 \t loss=0.017135 \t val_loss=0.017788 \t time=0.73s\n",
      "Best model: Epoch 5 \t loss=0.016731 \t val_loss=0.017442 \t time=0.77s\n",
      "Best model: Epoch 6 \t loss=0.016489 \t val_loss=0.017355 \t time=0.90s\n",
      "Best model: Epoch 7 \t loss=0.016443 \t val_loss=0.017295 \t time=0.77s\n",
      "Epoch    11: reducing learning rate of group 0 to 1.0000e-03.\n",
      "Best model: Epoch 12 \t loss=0.014617 \t val_loss=0.016396 \t time=0.80s\n",
      "Best model: Epoch 13 \t loss=0.013311 \t val_loss=0.016332 \t time=0.76s\n",
      "Epoch    17: reducing learning rate of group 0 to 1.0000e-04.\n",
      "Fold 4 log loss: 0.016442231035876245\n",
      "Fold 5\n",
      "Best model: Epoch 1 \t loss=0.138613 \t val_loss=0.019833 \t time=0.72s\n",
      "Best model: Epoch 2 \t loss=0.018525 \t val_loss=0.018453 \t time=0.96s\n",
      "Best model: Epoch 3 \t loss=0.017571 \t val_loss=0.017865 \t time=0.77s\n",
      "Best model: Epoch 4 \t loss=0.017032 \t val_loss=0.017577 \t time=0.75s\n",
      "Best model: Epoch 5 \t loss=0.016717 \t val_loss=0.017353 \t time=0.77s\n",
      "Epoch     9: reducing learning rate of group 0 to 1.0000e-03.\n",
      "Best model: Epoch 10 \t loss=0.014629 \t val_loss=0.016480 \t time=0.73s\n",
      "Best model: Epoch 11 \t loss=0.013454 \t val_loss=0.016342 \t time=0.75s\n",
      "Epoch    15: reducing learning rate of group 0 to 1.0000e-04.\n",
      "Fold 5 log loss: 0.016341155466373655\n",
      "Fold 6\n",
      "Best model: Epoch 1 \t loss=0.137154 \t val_loss=0.019621 \t time=1.06s\n",
      "Best model: Epoch 2 \t loss=0.018361 \t val_loss=0.018209 \t time=0.74s\n",
      "Best model: Epoch 3 \t loss=0.017387 \t val_loss=0.017933 \t time=0.74s\n",
      "Best model: Epoch 4 \t loss=0.016960 \t val_loss=0.017900 \t time=0.81s\n",
      "Best model: Epoch 5 \t loss=0.016692 \t val_loss=0.017591 \t time=0.74s\n",
      "Best model: Epoch 6 \t loss=0.016447 \t val_loss=0.017573 \t time=0.81s\n",
      "Best model: Epoch 7 \t loss=0.016343 \t val_loss=0.017484 \t time=0.75s\n",
      "Best model: Epoch 8 \t loss=0.016422 \t val_loss=0.017391 \t time=0.74s\n",
      "Epoch    12: reducing learning rate of group 0 to 1.0000e-03.\n",
      "Best model: Epoch 13 \t loss=0.014686 \t val_loss=0.016592 \t time=0.77s\n",
      "Best model: Epoch 14 \t loss=0.013349 \t val_loss=0.016434 \t time=0.73s\n",
      "Epoch    18: reducing learning rate of group 0 to 1.0000e-04.\n",
      "Fold 6 log loss: 0.01656570834491359\n",
      "Fold 7\n",
      "Best model: Epoch 1 \t loss=0.139134 \t val_loss=0.019635 \t time=0.78s\n",
      "Best model: Epoch 2 \t loss=0.018546 \t val_loss=0.018094 \t time=0.73s\n",
      "Best model: Epoch 3 \t loss=0.017584 \t val_loss=0.017802 \t time=0.74s\n",
      "Best model: Epoch 4 \t loss=0.017107 \t val_loss=0.017607 \t time=1.35s\n",
      "Best model: Epoch 5 \t loss=0.016710 \t val_loss=0.017454 \t time=0.85s\n",
      "Best model: Epoch 6 \t loss=0.016644 \t val_loss=0.017266 \t time=0.74s\n",
      "Best model: Epoch 9 \t loss=0.016562 \t val_loss=0.017233 \t time=0.73s\n",
      "Epoch    13: reducing learning rate of group 0 to 1.0000e-03.\n",
      "Best model: Epoch 14 \t loss=0.014898 \t val_loss=0.016276 \t time=0.74s\n",
      "Best model: Epoch 15 \t loss=0.013606 \t val_loss=0.016166 \t time=0.73s\n",
      "Epoch    19: reducing learning rate of group 0 to 1.0000e-04.\n",
      "Fold 7 log loss: 0.016037791556937735\n",
      "Seed 40\n",
      "Fold 1 log loss: 0.016348102941000954\n",
      "Fold 2 log loss: 0.016057234237619598\n",
      "Fold 3 log loss: 0.016288702168384475\n",
      "Fold 4 log loss: 0.016442231035876245\n",
      "Fold 5 log loss: 0.016341155466373655\n",
      "Fold 6 log loss: 0.01656570834491359\n",
      "Fold 7 log loss: 0.016037791556937735\n",
      "Std of log loss: 0.00017832650879915236\n",
      "Total log loss: 0.016297278400208084\n",
      "Total log loss in targets: 0.01615659855332056\n"
     ]
    }
   ],
   "source": [
    "#print(\"Transfer learning\")\n",
    "#for seed_ in [0]:\n",
    "#    files = modelling_lstm(fn_train, fn_all_targets, fn_test, seed_,  fn_non_targets.shape[1])\n",
    "\n",
    "target_oof = np.zeros([len(fn_train),fn_targets.shape[1]])\n",
    "target_pred = np.zeros([len(fn_test),fn_targets.shape[1]])\n",
    "\n",
    "seeds = [0, 10, 40]\n",
    "\n",
    "print(\"Final prediction\")\n",
    "for seed_ in seeds:\n",
    "    oof, oof_targets, pytorch_pred = modelling_lstm(fn_train, fn_targets, fn_test, seed_, fn_targets.shape[1])\n",
    "    target_oof += oof / len(seeds)\n",
    "    target_pred += pytorch_pred / len(seeds)\n",
    "print(\"Total log loss in targets: {}\".format(mean_log_loss(oof_targets, target_oof)))"
   ]
  },
  {
   "cell_type": "code",
   "execution_count": 14,
   "metadata": {
    "execution": {
     "iopub.execute_input": "2020-10-21T12:48:22.776434Z",
     "iopub.status.busy": "2020-10-21T12:48:22.775586Z",
     "iopub.status.idle": "2020-10-21T12:48:28.919424Z",
     "shell.execute_reply": "2020-10-21T12:48:28.918575Z"
    },
    "papermill": {
     "duration": 6.271878,
     "end_time": "2020-10-21T12:48:28.919668",
     "exception": false,
     "start_time": "2020-10-21T12:48:22.647790",
     "status": "completed"
    },
    "tags": []
   },
   "outputs": [
    {
     "name": "stdout",
     "output_type": "stream",
     "text": [
      "OOF log loss:  0.014890611617043806\n"
     ]
    }
   ],
   "source": [
    "t = pd.read_csv(DATA_DIR + 'train_targets_scored.csv')\n",
    "train_checkscore = t.copy()\n",
    "train_checkscore.loc[train_checkscore.index.isin(cons_train_index),target_feats] = target_oof\n",
    "train_checkscore.loc[train_checkscore.index.isin(noncons_train_index),target_feats] = 0\n",
    "\n",
    "t.drop(\"sig_id\", axis=1, inplace=True)\n",
    "\n",
    "print('OOF log loss: ', log_loss(np.ravel(t), np.ravel(np.array(train_checkscore.iloc[:,1:]))))"
   ]
  },
  {
   "cell_type": "code",
   "execution_count": 15,
   "metadata": {
    "execution": {
     "iopub.execute_input": "2020-10-21T12:48:29.154078Z",
     "iopub.status.busy": "2020-10-21T12:48:29.153200Z",
     "iopub.status.idle": "2020-10-21T12:48:32.597158Z",
     "shell.execute_reply": "2020-10-21T12:48:32.595555Z"
    },
    "papermill": {
     "duration": 3.561663,
     "end_time": "2020-10-21T12:48:32.597279",
     "exception": false,
     "start_time": "2020-10-21T12:48:29.035616",
     "status": "completed"
    },
    "tags": []
   },
   "outputs": [],
   "source": [
    "sub[target_feats] = target_pred\n",
    "sub.loc[noncons_test_index,target_feats] = 0\n",
    "sub.to_csv('submission.csv', index=False)"
   ]
  },
  {
   "cell_type": "code",
   "execution_count": null,
   "metadata": {
    "papermill": {
     "duration": 0.112003,
     "end_time": "2020-10-21T12:48:32.822717",
     "exception": false,
     "start_time": "2020-10-21T12:48:32.710714",
     "status": "completed"
    },
    "tags": []
   },
   "outputs": [],
   "source": []
  }
 ],
 "metadata": {
  "kernelspec": {
   "display_name": "Python 3",
   "language": "python",
   "name": "python3"
  },
  "language_info": {
   "codemirror_mode": {
    "name": "ipython",
    "version": 3
   },
   "file_extension": ".py",
   "mimetype": "text/x-python",
   "name": "python",
   "nbconvert_exporter": "python",
   "pygments_lexer": "ipython3",
   "version": "3.7.6"
  },
  "papermill": {
   "duration": 604.767173,
   "end_time": "2020-10-21T12:48:33.558768",
   "environment_variables": {},
   "exception": null,
   "input_path": "__notebook__.ipynb",
   "output_path": "__notebook__.ipynb",
   "parameters": {},
   "start_time": "2020-10-21T12:38:28.791595",
   "version": "2.1.0"
  }
 },
 "nbformat": 4,
 "nbformat_minor": 4
}
