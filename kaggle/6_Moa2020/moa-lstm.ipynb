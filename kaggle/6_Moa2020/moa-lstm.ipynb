{
 "cells": [
  {
   "cell_type": "markdown",
   "metadata": {
    "papermill": {
     "duration": 0.01215,
     "end_time": "2020-10-14T09:42:06.784065",
     "exception": false,
     "start_time": "2020-10-14T09:42:06.771915",
     "status": "completed"
    },
    "tags": []
   },
   "source": [
    "- modify lstm structure"
   ]
  },
  {
   "cell_type": "code",
   "execution_count": 1,
   "metadata": {
    "_cell_guid": "b1076dfc-b9ad-4769-8c92-a6c4dae69d19",
    "_uuid": "8f2839f25d086af736a60e9eeb907d3b93b6e0e5",
    "execution": {
     "iopub.execute_input": "2020-10-14T09:42:06.817291Z",
     "iopub.status.busy": "2020-10-14T09:42:06.816423Z",
     "iopub.status.idle": "2020-10-14T09:42:13.636957Z",
     "shell.execute_reply": "2020-10-14T09:42:13.635842Z"
    },
    "papermill": {
     "duration": 6.841418,
     "end_time": "2020-10-14T09:42:13.637122",
     "exception": false,
     "start_time": "2020-10-14T09:42:06.795704",
     "status": "completed"
    },
    "tags": []
   },
   "outputs": [],
   "source": [
    "import os\n",
    "import sys\n",
    "import random\n",
    "import warnings\n",
    "import numpy as np\n",
    "import pandas as pd \n",
    "from sklearn import preprocessing\n",
    "from sklearn.metrics import log_loss, mean_squared_error\n",
    "from sklearn.decomposition import PCA\n",
    "from tqdm import tqdm_notebook as tqdm\n",
    "from sklearn.multioutput import MultiOutputClassifier\n",
    "from sklearn.feature_selection import VarianceThreshold\n",
    "\n",
    "sys.path.append('../input/multilabelstraifier/')\n",
    "sys.path.append('../input/lookahead/')\n",
    "from ml_stratifiers import MultilabelStratifiedKFold\n",
    "from lookahead import Lookahead\n",
    "warnings.filterwarnings('ignore')\n",
    "\n",
    "import time\n",
    "import torch\n",
    "import torch.nn as nn\n",
    "import torch.optim as optim\n",
    "import torch.nn.functional as F\n",
    "import tensorflow as tf"
   ]
  },
  {
   "cell_type": "code",
   "execution_count": 2,
   "metadata": {
    "_cell_guid": "79c7e3d0-c299-4dcb-8224-4455121ee9b0",
    "_uuid": "d629ff2d2480ee46fbb7e2d37f6b5fab8052498a",
    "execution": {
     "iopub.execute_input": "2020-10-14T09:42:13.669193Z",
     "iopub.status.busy": "2020-10-14T09:42:13.668504Z",
     "iopub.status.idle": "2020-10-14T09:42:20.207386Z",
     "shell.execute_reply": "2020-10-14T09:42:20.206096Z"
    },
    "papermill": {
     "duration": 6.558068,
     "end_time": "2020-10-14T09:42:20.207531",
     "exception": false,
     "start_time": "2020-10-14T09:42:13.649463",
     "status": "completed"
    },
    "tags": []
   },
   "outputs": [],
   "source": [
    "DATA_DIR = '/kaggle/input/lish-moa/'\n",
    "train = pd.read_csv(DATA_DIR + 'train_features.csv')\n",
    "targets = pd.read_csv(DATA_DIR + 'train_targets_scored.csv')\n",
    "non_targets = pd.read_csv(DATA_DIR + 'train_targets_nonscored.csv')\n",
    "test = pd.read_csv(DATA_DIR + 'test_features.csv')\n",
    "sub = pd.read_csv(DATA_DIR + 'sample_submission.csv')"
   ]
  },
  {
   "cell_type": "code",
   "execution_count": 3,
   "metadata": {
    "execution": {
     "iopub.execute_input": "2020-10-14T09:42:20.238776Z",
     "iopub.status.busy": "2020-10-14T09:42:20.236799Z",
     "iopub.status.idle": "2020-10-14T09:42:20.239508Z",
     "shell.execute_reply": "2020-10-14T09:42:20.240001Z"
    },
    "papermill": {
     "duration": 0.021161,
     "end_time": "2020-10-14T09:42:20.240119",
     "exception": false,
     "start_time": "2020-10-14T09:42:20.218958",
     "status": "completed"
    },
    "tags": []
   },
   "outputs": [],
   "source": [
    "target_feats = [ i for i in targets.columns if i != \"sig_id\"]\n",
    "g_feats = [i for i in train.columns if \"g-\" in i]\n",
    "c_feats = [i for i in train.columns if \"c-\" in i]"
   ]
  },
  {
   "cell_type": "code",
   "execution_count": 4,
   "metadata": {
    "execution": {
     "iopub.execute_input": "2020-10-14T09:42:20.274197Z",
     "iopub.status.busy": "2020-10-14T09:42:20.273391Z",
     "iopub.status.idle": "2020-10-14T09:42:20.373078Z",
     "shell.execute_reply": "2020-10-14T09:42:20.372500Z"
    },
    "papermill": {
     "duration": 0.119733,
     "end_time": "2020-10-14T09:42:20.373225",
     "exception": false,
     "start_time": "2020-10-14T09:42:20.253492",
     "status": "completed"
    },
    "tags": []
   },
   "outputs": [],
   "source": [
    "noncons_train_index = train[train.cp_type==\"ctl_vehicle\"].index\n",
    "cons_train_index = train[train.cp_type!=\"ctl_vehicle\"].index\n",
    "noncons_test_index = test[test.cp_type==\"ctl_vehicle\"].index\n",
    "cons_test_index = test[test.cp_type!=\"ctl_vehicle\"].index"
   ]
  },
  {
   "cell_type": "markdown",
   "metadata": {
    "papermill": {
     "duration": 0.011538,
     "end_time": "2020-10-14T09:42:20.397011",
     "exception": false,
     "start_time": "2020-10-14T09:42:20.385473",
     "status": "completed"
    },
    "tags": []
   },
   "source": [
    "# preprocess"
   ]
  },
  {
   "cell_type": "code",
   "execution_count": 5,
   "metadata": {
    "execution": {
     "iopub.execute_input": "2020-10-14T09:42:20.435937Z",
     "iopub.status.busy": "2020-10-14T09:42:20.434792Z",
     "iopub.status.idle": "2020-10-14T09:42:20.764926Z",
     "shell.execute_reply": "2020-10-14T09:42:20.764349Z"
    },
    "papermill": {
     "duration": 0.356458,
     "end_time": "2020-10-14T09:42:20.765050",
     "exception": false,
     "start_time": "2020-10-14T09:42:20.408592",
     "status": "completed"
    },
    "tags": []
   },
   "outputs": [],
   "source": [
    "train = train[train.index.isin(cons_train_index)].copy().reset_index(drop=True)\n",
    "targets = targets[targets.index.isin(cons_train_index)].copy().reset_index(drop=True)\n",
    "non_targets = non_targets[non_targets.index.isin(cons_train_index)].copy().reset_index(drop=True)"
   ]
  },
  {
   "cell_type": "markdown",
   "metadata": {
    "papermill": {
     "duration": 0.012388,
     "end_time": "2020-10-14T09:42:20.789765",
     "exception": false,
     "start_time": "2020-10-14T09:42:20.777377",
     "status": "completed"
    },
    "tags": []
   },
   "source": [
    "# feature engineering"
   ]
  },
  {
   "cell_type": "code",
   "execution_count": 6,
   "metadata": {
    "execution": {
     "iopub.execute_input": "2020-10-14T09:42:20.823930Z",
     "iopub.status.busy": "2020-10-14T09:42:20.822633Z",
     "iopub.status.idle": "2020-10-14T09:42:20.961440Z",
     "shell.execute_reply": "2020-10-14T09:42:20.962213Z"
    },
    "papermill": {
     "duration": 0.160516,
     "end_time": "2020-10-14T09:42:20.962421",
     "exception": false,
     "start_time": "2020-10-14T09:42:20.801905",
     "status": "completed"
    },
    "tags": []
   },
   "outputs": [
    {
     "name": "stdout",
     "output_type": "stream",
     "text": [
      "(21948, 872) (3982, 872)\n"
     ]
    }
   ],
   "source": [
    "def fe(df):\n",
    "    tmp = df.copy()\n",
    "    #tmp['g_sum'] = tmp[g_feats].sum(axis = 1)\n",
    "    #tmp['g_mean'] = tmp[g_feats].mean(axis = 1)\n",
    "    #tmp['g_std'] = tmp[g_feats].std(axis = 1)\n",
    "    #tmp['g_kurt'] = tmp[g_feats].kurtosis(axis = 1)\n",
    "    #tmp['g_skew'] = tmp[g_feats].skew(axis = 1)\n",
    "    #tmp['c_sum'] = tmp[c_feats].sum(axis = 1)\n",
    "    #tmp['c_mean'] = tmp[c_feats].mean(axis = 1)\n",
    "    #tmp['c_std'] = tmp[c_feats].std(axis = 1)\n",
    "    #tmp['c_kurt'] = tmp[c_feats].kurtosis(axis = 1)\n",
    "    #tmp['c_skew'] = tmp[c_feats].skew(axis = 1)\n",
    "    #tmp['gc_sum'] = tmp[c_feats + g_feats].sum(axis = 1)\n",
    "    #tmp['gc_mean'] = tmp[c_feats + g_feats].mean(axis = 1)\n",
    "    #tmp['gc_std'] = tmp[c_feats + g_feats].std(axis = 1)\n",
    "    #tmp['gc_kurt'] = tmp[c_feats + g_feats].kurtosis(axis = 1)\n",
    "    #tmp['gc_skew'] = tmp[c_feats + g_feats].skew(axis = 1)\n",
    "    tmp.loc[:, 'cp_dose'] = tmp.loc[:, 'cp_dose'].map({'D1': 0, 'D2': 1})\n",
    "        \n",
    "    tmp.drop([\"cp_type\", \"sig_id\", \"cp_time\", \"cp_dose\"], axis=1, inplace=True)\n",
    "    return tmp\n",
    "\n",
    "f_train = fe(train)\n",
    "f_test = fe(test)\n",
    "\n",
    "print(f_train.shape, f_test.shape)"
   ]
  },
  {
   "cell_type": "code",
   "execution_count": 7,
   "metadata": {
    "execution": {
     "iopub.execute_input": "2020-10-14T09:42:20.997351Z",
     "iopub.status.busy": "2020-10-14T09:42:20.996120Z",
     "iopub.status.idle": "2020-10-14T09:42:22.207681Z",
     "shell.execute_reply": "2020-10-14T09:42:22.207042Z"
    },
    "papermill": {
     "duration": 1.231625,
     "end_time": "2020-10-14T09:42:22.207810",
     "exception": false,
     "start_time": "2020-10-14T09:42:20.976185",
     "status": "completed"
    },
    "tags": []
   },
   "outputs": [],
   "source": [
    "fn_train = f_train.copy().to_numpy()\n",
    "fn_test = f_test.copy().to_numpy()\n",
    "\n",
    "ss = preprocessing.RobustScaler()\n",
    "fn_train= ss.fit_transform(fn_train)\n",
    "fn_test = ss.transform(fn_test)\n",
    "\n",
    "fn_nontargets = non_targets.drop(\"sig_id\", axis=1).copy().to_numpy()\n",
    "fn_targets = targets.drop(\"sig_id\", axis=1).copy().to_numpy()"
   ]
  },
  {
   "cell_type": "code",
   "execution_count": 8,
   "metadata": {
    "execution": {
     "iopub.execute_input": "2020-10-14T09:42:22.250481Z",
     "iopub.status.busy": "2020-10-14T09:42:22.246624Z",
     "iopub.status.idle": "2020-10-14T09:42:22.253089Z",
     "shell.execute_reply": "2020-10-14T09:42:22.252594Z"
    },
    "papermill": {
     "duration": 0.032372,
     "end_time": "2020-10-14T09:42:22.253220",
     "exception": false,
     "start_time": "2020-10-14T09:42:22.220848",
     "status": "completed"
    },
    "tags": []
   },
   "outputs": [],
   "source": [
    "class myLSTM(nn.Module):\n",
    "    def __init__(self):\n",
    "        super().__init__()\n",
    "\n",
    "        self.lstm_hidden_size = 772\n",
    "        self.c_lstm_hidden_size = 100\n",
    "        self.g_layer_num = 1\n",
    "        self.c_layer_num = 1\n",
    "        \n",
    "        self.hidden_dim = 512\n",
    "        self.hidden_dim_c = 10\n",
    "        self.target_length = 206\n",
    "        \n",
    "        self.lstm = nn.LSTM(self.lstm_hidden_size, self.hidden_dim, batch_first=True, bidirectional=True, num_layers=self.g_layer_num)\n",
    "        self.c_lstm = nn.LSTM(self.c_lstm_hidden_size, self.hidden_dim_c, batch_first=True, bidirectional=True, num_layers=self.c_layer_num)\n",
    "\n",
    "        self.dropout = nn.Dropout(0.1)\n",
    "        self.out = nn.utils.weight_norm(nn.Linear((self.hidden_dim+self.hidden_dim_c) * 2 , self.target_length))\n",
    "        self.batch_norm = nn.BatchNorm1d((self.hidden_dim+self.hidden_dim_c) * 2)\n",
    "\n",
    "    def forward(self, cont_g, cont_c): \n",
    "        cont_g = torch.unsqueeze(cont_g, 1)\n",
    "        h_lstm, lstm_out = self.lstm(cont_g) # h_lstm: 256 * 1 * (2 * 512)\n",
    "        conc_g = h_lstm.view(-1, self.hidden_dim * 2)\n",
    "        \n",
    "        cont_c = torch.unsqueeze(cont_c, 1)\n",
    "        h_lstm_c, lstm_out_c = self.c_lstm(cont_c) # h_lstm: 256 * 1 * (2 * 5)\n",
    "        conc_c = h_lstm_c.view(-1, self.hidden_dim_c * 2)\n",
    "        \n",
    "        conc = torch.cat((conc_g, conc_c),1)\n",
    "        conc = self.batch_norm(conc)\n",
    "        \n",
    "        dropped = self.dropout(conc)\n",
    "        out = self.out(dropped)\n",
    "        return out"
   ]
  },
  {
   "cell_type": "code",
   "execution_count": 9,
   "metadata": {
    "execution": {
     "iopub.execute_input": "2020-10-14T09:42:22.303356Z",
     "iopub.status.busy": "2020-10-14T09:42:22.287669Z",
     "iopub.status.idle": "2020-10-14T09:42:22.713981Z",
     "shell.execute_reply": "2020-10-14T09:42:22.715211Z"
    },
    "papermill": {
     "duration": 0.449065,
     "end_time": "2020-10-14T09:42:22.715402",
     "exception": false,
     "start_time": "2020-10-14T09:42:22.266337",
     "status": "completed"
    },
    "tags": []
   },
   "outputs": [
    {
     "name": "stdout",
     "output_type": "stream",
     "text": [
      "cuda\n"
     ]
    }
   ],
   "source": [
    "batch_size = 256\n",
    "train_epochs = 30\n",
    "n_folds=5\n",
    "EARLY_STOPPING_STEPS = 10\n",
    "\n",
    "device = \"cuda\" if torch.cuda.is_available() else \"cpu\"\n",
    "print(device)\n",
    "def mean_log_loss(y_true, y_pred):\n",
    "    metrics = []\n",
    "    for i, target in enumerate(target_feats):\n",
    "        metrics.append(log_loss(y_true[:, i], y_pred[:, i].astype(float), labels=[0,1]))\n",
    "    return np.mean(metrics)\n",
    "\n",
    "def seed_everything(seed=1234): \n",
    "    random.seed(seed)\n",
    "    os.environ['PYTHONHASHSEED'] = str(seed)\n",
    "    tf.random.set_seed(seed)\n",
    "    np.random.seed(seed)\n",
    "    torch.manual_seed(seed)\n",
    "    torch.cuda.manual_seed(seed)\n",
    "    torch.backends.cudnn.deterministic = True\n",
    "\n",
    "def modelling_lstm(tr, target, te, sample_seed, init_num, last_num, files):\n",
    "    seed_everything(seed=sample_seed) \n",
    "    X_train = tr.copy()\n",
    "    y_train = target.copy()\n",
    "    X_test = te.copy()\n",
    "    test_len = X_test.shape[0]\n",
    "\n",
    "    mskf=MultilabelStratifiedKFold(n_splits = n_folds, shuffle=True, random_state=2)\n",
    "    models = []\n",
    "    \n",
    "    X_test_g = torch.tensor(X_test[:,:772], dtype=torch.float32)\n",
    "    X_test_c = torch.tensor(X_test[:,772:], dtype=torch.float32)\n",
    "    X_test = torch.utils.data.TensorDataset(X_test_g, X_test_c) \n",
    "    test_loader = torch.utils.data.DataLoader(X_test, batch_size=batch_size, shuffle=False)\n",
    "    \n",
    "    oof = np.zeros([len(X_train),y_train.shape[1]])\n",
    "    oof_targets = np.zeros([len(X_train),y_train.shape[1]])\n",
    "    pred_value = np.zeros([test_len, y_train.shape[1]])\n",
    "    scores = []\n",
    "    \n",
    "    for fold, (train_index, valid_index) in enumerate(mskf.split(X_train, y_train)):\n",
    "        print(\"Fold \"+str(fold+1))\n",
    "        X_train2_g = torch.tensor(X_train[train_index,:772], dtype=torch.float32)\n",
    "        X_valid2_g = torch.tensor(X_train[valid_index,:772], dtype=torch.float32)\n",
    "        X_train2_c = torch.tensor(X_train[train_index,772:], dtype=torch.float32)\n",
    "        X_valid2_c = torch.tensor(X_train[valid_index,772:], dtype=torch.float32)\n",
    "        \n",
    "        y_train2 = torch.tensor(y_train[train_index], dtype=torch.float32)\n",
    "        y_valid2 = torch.tensor(y_train[valid_index], dtype=torch.float32)\n",
    "            \n",
    "        clf = myLSTM()\n",
    "        if files != []:\n",
    "            clf.load_state_dict(torch.load(files[fold]))\n",
    "        loss_fn = torch.nn.BCEWithLogitsLoss() \n",
    "        optimizer = optim.Adam(clf.parameters(), lr = 0.01, weight_decay=1e-5) \n",
    "        #lookahead = Lookahead(optimizer, k=10, alpha=0.6) #lookahead\n",
    "        scheduler = optim.lr_scheduler.ReduceLROnPlateau(optimizer, mode='min', factor=0.1, patience=3, eps=1e-4, verbose=True)\n",
    "        \n",
    "        train = torch.utils.data.TensorDataset(X_train2_g, X_train2_c, y_train2)\n",
    "        valid = torch.utils.data.TensorDataset(X_valid2_g, X_valid2_c, y_valid2)\n",
    "        \n",
    "        clf.to(device)\n",
    "        \n",
    "        train_loader = torch.utils.data.DataLoader(train, batch_size=batch_size, shuffle=True) \n",
    "        valid_loader = torch.utils.data.DataLoader(valid, batch_size=batch_size, shuffle=False)\n",
    "        \n",
    "        best_val_loss = np.inf\n",
    "        stop_counts = 0\n",
    "        for epoch in range(train_epochs):\n",
    "            start_time = time.time()\n",
    "            clf.train()\n",
    "            avg_loss = 0.\n",
    "            for x_batch_g, x_batch_c, y_batch in tqdm(train_loader, disable=True):\n",
    "                x_batch_g = x_batch_g.to(device)\n",
    "                x_batch_c = x_batch_c.to(device)\n",
    "                y_batch = y_batch.to(device)\n",
    "                y_pred = clf(x_batch_g, x_batch_c) \n",
    "                loss = loss_fn(y_pred, y_batch)\n",
    "                optimizer.zero_grad()\n",
    "                loss.backward()\n",
    "                optimizer.step()\n",
    "                avg_loss += loss.item() / len(train_loader)        \n",
    "            \n",
    "            clf.eval()\n",
    "            avg_val_loss = 0.\n",
    "            for i, (x_batch_g, x_batch_c, y_batch) in enumerate(valid_loader): \n",
    "                x_batch_g = x_batch_g.to(device)\n",
    "                x_batch_c = x_batch_c.to(device)\n",
    "                y_batch = y_batch.to(device)\n",
    "                y_pred = clf(x_batch_g, x_batch_c) .detach()\n",
    "                avg_val_loss += loss_fn(y_pred, y_batch).item() / len(valid_loader)\n",
    "                \n",
    "            elapsed_time = time.time() - start_time \n",
    "            scheduler.step(avg_val_loss)\n",
    "                    \n",
    "            if avg_val_loss < best_val_loss:\n",
    "                stop_counts = 0\n",
    "                best_val_loss = avg_val_loss\n",
    "                print('Best model: Epoch {} \\t loss={:.6f} \\t val_loss={:.6f} \\t time={:.2f}s'.format(\n",
    "                    epoch + 1, avg_loss, avg_val_loss, elapsed_time))\n",
    "                torch.save(clf.state_dict(), 'best-model-parameters.pt')\n",
    "            else:\n",
    "                stop_counts += 1\n",
    "        \n",
    "            #if stop_counts >= EARLY_STOPPING_STEPS: \n",
    "            #    break\n",
    "         \n",
    "        pred_model = myLSTM()\n",
    "        pred_model.load_state_dict(torch.load('best-model-parameters.pt'))\n",
    "        pred_model.eval()\n",
    "        \n",
    "        # validation check ----------------\n",
    "        oof_epoch = np.zeros([X_valid2_g.size(0), y_train.shape[1]])\n",
    "        target_epoch = np.zeros([X_valid2_g.size(0), y_train.shape[1]])\n",
    "        for i, (x_batch_g, x_batch_c, y_batch) in enumerate(valid_loader): \n",
    "                y_pred = pred_model(x_batch_g, x_batch_c).sigmoid().detach()\n",
    "                oof_epoch[i * batch_size:(i+1) * batch_size,:] = y_pred.cpu().numpy()\n",
    "                target_epoch[i * batch_size:(i+1) * batch_size,:] = y_batch.cpu().numpy()\n",
    "        print(\"Fold {} log loss: {}\".format(fold+1, mean_log_loss(target_epoch, oof_epoch)))\n",
    "        scores.append(mean_log_loss(target_epoch, oof_epoch))\n",
    "        oof[valid_index,:] = oof_epoch\n",
    "        oof_targets[valid_index,:] = target_epoch\n",
    "        #-----------------------------------\n",
    "        \n",
    "        # test predcition --------------\n",
    "        test_preds = np.zeros([test_len, y_train.shape[1]])\n",
    "        for i, (x_batch_g,x_batch_c, ) in enumerate(test_loader): \n",
    "            y_pred = pred_model(x_batch_g,x_batch_c).sigmoid().detach()\n",
    "            test_preds[i * batch_size:(i+1) * batch_size, :] = y_pred.cpu().numpy()\n",
    "        pred_value += test_preds / n_folds\n",
    "        # ------------------------------\n",
    "        \n",
    "    print(\"Seed {}\".format(seed_))\n",
    "    for i, ele in enumerate(scores):\n",
    "        print(\"Fold {} log loss: {}\".format(i+1, scores[i]))\n",
    "    print(\"Std of log loss: {}\".format(np.std(scores)))\n",
    "    print(\"Total log loss: {}\".format(mean_log_loss(oof_targets, oof)))\n",
    "\n",
    "    return oof, oof_targets, pred_value"
   ]
  },
  {
   "cell_type": "code",
   "execution_count": 10,
   "metadata": {
    "execution": {
     "iopub.execute_input": "2020-10-14T09:42:22.756229Z",
     "iopub.status.busy": "2020-10-14T09:42:22.754764Z",
     "iopub.status.idle": "2020-10-14T09:47:08.237674Z",
     "shell.execute_reply": "2020-10-14T09:47:08.236498Z"
    },
    "papermill": {
     "duration": 285.507989,
     "end_time": "2020-10-14T09:47:08.237804",
     "exception": false,
     "start_time": "2020-10-14T09:42:22.729815",
     "status": "completed"
    },
    "tags": []
   },
   "outputs": [
    {
     "name": "stdout",
     "output_type": "stream",
     "text": [
      "Fold 1\n",
      "Best model: Epoch 1 \t loss=0.145957 \t val_loss=0.019897 \t time=0.92s\n",
      "Best model: Epoch 2 \t loss=0.018568 \t val_loss=0.018214 \t time=0.95s\n",
      "Best model: Epoch 3 \t loss=0.017518 \t val_loss=0.017930 \t time=0.77s\n",
      "Best model: Epoch 4 \t loss=0.016935 \t val_loss=0.017534 \t time=0.93s\n",
      "Best model: Epoch 5 \t loss=0.016532 \t val_loss=0.017377 \t time=0.77s\n",
      "Best model: Epoch 6 \t loss=0.016378 \t val_loss=0.017345 \t time=0.77s\n",
      "Best model: Epoch 8 \t loss=0.016089 \t val_loss=0.017256 \t time=0.88s\n",
      "Epoch    12: reducing learning rate of group 0 to 1.0000e-03.\n",
      "Best model: Epoch 13 \t loss=0.014131 \t val_loss=0.016382 \t time=0.76s\n",
      "Best model: Epoch 14 \t loss=0.012732 \t val_loss=0.016288 \t time=0.74s\n",
      "Epoch    18: reducing learning rate of group 0 to 1.0000e-04.\n",
      "Fold 1 log loss: 0.01652593477216859\n",
      "Fold 2\n",
      "Best model: Epoch 1 \t loss=0.145150 \t val_loss=0.019626 \t time=0.77s\n",
      "Best model: Epoch 2 \t loss=0.018464 \t val_loss=0.018176 \t time=0.76s\n",
      "Best model: Epoch 3 \t loss=0.017529 \t val_loss=0.017742 \t time=0.75s\n",
      "Best model: Epoch 4 \t loss=0.016996 \t val_loss=0.017482 \t time=0.76s\n",
      "Best model: Epoch 5 \t loss=0.016662 \t val_loss=0.017345 \t time=0.76s\n",
      "Best model: Epoch 6 \t loss=0.016490 \t val_loss=0.017254 \t time=0.75s\n",
      "Best model: Epoch 8 \t loss=0.016288 \t val_loss=0.017243 \t time=0.74s\n",
      "Epoch    12: reducing learning rate of group 0 to 1.0000e-03.\n",
      "Best model: Epoch 13 \t loss=0.014570 \t val_loss=0.016336 \t time=0.76s\n",
      "Best model: Epoch 14 \t loss=0.013134 \t val_loss=0.016179 \t time=0.78s\n",
      "Epoch    18: reducing learning rate of group 0 to 1.0000e-04.\n",
      "Fold 2 log loss: 0.016319594759951428\n",
      "Fold 3\n",
      "Best model: Epoch 1 \t loss=0.147113 \t val_loss=0.019849 \t time=0.76s\n",
      "Best model: Epoch 2 \t loss=0.018566 \t val_loss=0.018189 \t time=0.76s\n",
      "Best model: Epoch 3 \t loss=0.017666 \t val_loss=0.017719 \t time=1.19s\n",
      "Best model: Epoch 4 \t loss=0.017066 \t val_loss=0.017500 \t time=1.39s\n",
      "Best model: Epoch 5 \t loss=0.016706 \t val_loss=0.017260 \t time=1.40s\n",
      "Epoch     9: reducing learning rate of group 0 to 1.0000e-03.\n",
      "Best model: Epoch 10 \t loss=0.014459 \t val_loss=0.016377 \t time=0.74s\n",
      "Best model: Epoch 11 \t loss=0.013180 \t val_loss=0.016252 \t time=0.81s\n",
      "Epoch    15: reducing learning rate of group 0 to 1.0000e-04.\n",
      "Fold 3 log loss: 0.01626107249741901\n",
      "Fold 4\n",
      "Best model: Epoch 1 \t loss=0.140598 \t val_loss=0.019388 \t time=0.77s\n",
      "Best model: Epoch 2 \t loss=0.018412 \t val_loss=0.018037 \t time=0.75s\n",
      "Best model: Epoch 3 \t loss=0.017555 \t val_loss=0.017790 \t time=0.76s\n",
      "Best model: Epoch 4 \t loss=0.016955 \t val_loss=0.017445 \t time=0.74s\n",
      "Best model: Epoch 6 \t loss=0.016442 \t val_loss=0.017200 \t time=0.76s\n",
      "Best model: Epoch 7 \t loss=0.016377 \t val_loss=0.017161 \t time=0.83s\n",
      "Best model: Epoch 8 \t loss=0.016335 \t val_loss=0.017107 \t time=0.75s\n",
      "Epoch    12: reducing learning rate of group 0 to 1.0000e-03.\n",
      "Best model: Epoch 13 \t loss=0.014488 \t val_loss=0.016354 \t time=0.77s\n",
      "Best model: Epoch 14 \t loss=0.013047 \t val_loss=0.016208 \t time=0.77s\n",
      "Best model: Epoch 15 \t loss=0.012148 \t val_loss=0.016193 \t time=0.78s\n",
      "Epoch    19: reducing learning rate of group 0 to 1.0000e-04.\n",
      "Fold 4 log loss: 0.01632013293834674\n",
      "Fold 5\n",
      "Best model: Epoch 1 \t loss=0.146053 \t val_loss=0.019990 \t time=0.74s\n",
      "Best model: Epoch 2 \t loss=0.018577 \t val_loss=0.018612 \t time=0.74s\n",
      "Best model: Epoch 3 \t loss=0.017494 \t val_loss=0.018041 \t time=0.73s\n",
      "Best model: Epoch 4 \t loss=0.016958 \t val_loss=0.017696 \t time=1.15s\n",
      "Best model: Epoch 5 \t loss=0.016640 \t val_loss=0.017485 \t time=0.77s\n",
      "Best model: Epoch 7 \t loss=0.016284 \t val_loss=0.017401 \t time=0.74s\n",
      "Best model: Epoch 11 \t loss=0.016180 \t val_loss=0.017359 \t time=1.01s\n",
      "Epoch    15: reducing learning rate of group 0 to 1.0000e-03.\n",
      "Best model: Epoch 16 \t loss=0.014504 \t val_loss=0.016659 \t time=0.85s\n",
      "Best model: Epoch 17 \t loss=0.013082 \t val_loss=0.016423 \t time=1.22s\n",
      "Epoch    21: reducing learning rate of group 0 to 1.0000e-04.\n",
      "Fold 5 log loss: 0.01644855667815872\n",
      "Seed 10\n",
      "Fold 1 log loss: 0.01652593477216859\n",
      "Fold 2 log loss: 0.016319594759951428\n",
      "Fold 3 log loss: 0.01626107249741901\n",
      "Fold 4 log loss: 0.01632013293834674\n",
      "Fold 5 log loss: 0.01644855667815872\n",
      "Std of log loss: 9.721263730965224e-05\n",
      "Total log loss: 0.016375057507503975\n",
      "Fold 1\n",
      "Best model: Epoch 1 \t loss=0.144728 \t val_loss=0.019737 \t time=0.74s\n",
      "Best model: Epoch 2 \t loss=0.018476 \t val_loss=0.018263 \t time=0.74s\n",
      "Best model: Epoch 3 \t loss=0.017511 \t val_loss=0.017922 \t time=0.74s\n",
      "Best model: Epoch 4 \t loss=0.016944 \t val_loss=0.017489 \t time=0.74s\n",
      "Best model: Epoch 5 \t loss=0.016551 \t val_loss=0.017463 \t time=0.73s\n",
      "Best model: Epoch 6 \t loss=0.016355 \t val_loss=0.017362 \t time=0.76s\n",
      "Best model: Epoch 8 \t loss=0.016214 \t val_loss=0.017277 \t time=0.76s\n",
      "Best model: Epoch 9 \t loss=0.016205 \t val_loss=0.017192 \t time=0.78s\n",
      "Epoch    13: reducing learning rate of group 0 to 1.0000e-03.\n",
      "Best model: Epoch 14 \t loss=0.014278 \t val_loss=0.016418 \t time=0.77s\n",
      "Best model: Epoch 15 \t loss=0.012821 \t val_loss=0.016291 \t time=0.74s\n",
      "Epoch    19: reducing learning rate of group 0 to 1.0000e-04.\n",
      "Fold 1 log loss: 0.016514097753799306\n",
      "Fold 2\n",
      "Best model: Epoch 1 \t loss=0.146895 \t val_loss=0.019857 \t time=0.86s\n",
      "Best model: Epoch 2 \t loss=0.018641 \t val_loss=0.018342 \t time=0.83s\n",
      "Best model: Epoch 3 \t loss=0.017506 \t val_loss=0.017833 \t time=0.79s\n",
      "Best model: Epoch 4 \t loss=0.016943 \t val_loss=0.017558 \t time=0.76s\n",
      "Best model: Epoch 5 \t loss=0.016615 \t val_loss=0.017375 \t time=0.77s\n",
      "Best model: Epoch 6 \t loss=0.016271 \t val_loss=0.017172 \t time=0.75s\n",
      "Epoch    10: reducing learning rate of group 0 to 1.0000e-03.\n",
      "Best model: Epoch 11 \t loss=0.014257 \t val_loss=0.016264 \t time=0.94s\n",
      "Best model: Epoch 12 \t loss=0.012871 \t val_loss=0.016213 \t time=0.97s\n",
      "Epoch    16: reducing learning rate of group 0 to 1.0000e-04.\n",
      "Fold 2 log loss: 0.016358428932094764\n",
      "Fold 3\n",
      "Best model: Epoch 1 \t loss=0.146573 \t val_loss=0.019807 \t time=0.75s\n",
      "Best model: Epoch 2 \t loss=0.018561 \t val_loss=0.018199 \t time=0.74s\n",
      "Best model: Epoch 3 \t loss=0.017524 \t val_loss=0.017813 \t time=0.77s\n",
      "Best model: Epoch 4 \t loss=0.017036 \t val_loss=0.017550 \t time=0.75s\n",
      "Best model: Epoch 5 \t loss=0.016636 \t val_loss=0.017436 \t time=0.79s\n",
      "Best model: Epoch 6 \t loss=0.016422 \t val_loss=0.017434 \t time=0.78s\n",
      "Best model: Epoch 7 \t loss=0.016298 \t val_loss=0.017339 \t time=0.75s\n",
      "Best model: Epoch 8 \t loss=0.016271 \t val_loss=0.017219 \t time=0.97s\n",
      "Epoch    12: reducing learning rate of group 0 to 1.0000e-03.\n",
      "Best model: Epoch 13 \t loss=0.014352 \t val_loss=0.016332 \t time=0.89s\n",
      "Best model: Epoch 14 \t loss=0.012954 \t val_loss=0.016250 \t time=0.75s\n",
      "Epoch    18: reducing learning rate of group 0 to 1.0000e-04.\n",
      "Fold 3 log loss: 0.016255698805292994\n",
      "Fold 4\n",
      "Best model: Epoch 1 \t loss=0.146765 \t val_loss=0.019625 \t time=0.79s\n",
      "Best model: Epoch 2 \t loss=0.018510 \t val_loss=0.018142 \t time=0.76s\n",
      "Best model: Epoch 3 \t loss=0.017632 \t val_loss=0.017743 \t time=1.18s\n",
      "Best model: Epoch 4 \t loss=0.017164 \t val_loss=0.017434 \t time=1.00s\n",
      "Best model: Epoch 5 \t loss=0.016704 \t val_loss=0.017279 \t time=0.75s\n",
      "Best model: Epoch 6 \t loss=0.016464 \t val_loss=0.017226 \t time=0.74s\n",
      "Best model: Epoch 7 \t loss=0.016328 \t val_loss=0.017086 \t time=0.73s\n",
      "Epoch    11: reducing learning rate of group 0 to 1.0000e-03.\n",
      "Best model: Epoch 12 \t loss=0.014301 \t val_loss=0.016281 \t time=0.76s\n",
      "Best model: Epoch 13 \t loss=0.012917 \t val_loss=0.016174 \t time=0.74s\n",
      "Epoch    17: reducing learning rate of group 0 to 1.0000e-04.\n",
      "Fold 4 log loss: 0.016312314969478214\n",
      "Fold 5\n",
      "Best model: Epoch 1 \t loss=0.150203 \t val_loss=0.020014 \t time=0.79s\n",
      "Best model: Epoch 2 \t loss=0.018536 \t val_loss=0.018474 \t time=0.77s\n",
      "Best model: Epoch 3 \t loss=0.017406 \t val_loss=0.018081 \t time=0.89s\n",
      "Best model: Epoch 4 \t loss=0.016925 \t val_loss=0.018014 \t time=0.74s\n",
      "Best model: Epoch 5 \t loss=0.016574 \t val_loss=0.017588 \t time=0.77s\n",
      "Best model: Epoch 6 \t loss=0.016369 \t val_loss=0.017493 \t time=0.78s\n",
      "Best model: Epoch 7 \t loss=0.016242 \t val_loss=0.017346 \t time=0.76s\n",
      "Epoch    11: reducing learning rate of group 0 to 1.0000e-03.\n",
      "Best model: Epoch 12 \t loss=0.014068 \t val_loss=0.016510 \t time=0.79s\n",
      "Best model: Epoch 13 \t loss=0.012686 \t val_loss=0.016401 \t time=0.75s\n",
      "Epoch    17: reducing learning rate of group 0 to 1.0000e-04.\n",
      "Fold 5 log loss: 0.016424298827423234\n",
      "Seed 40\n",
      "Fold 1 log loss: 0.016514097753799306\n",
      "Fold 2 log loss: 0.016358428932094764\n",
      "Fold 3 log loss: 0.016255698805292994\n",
      "Fold 4 log loss: 0.016312314969478214\n",
      "Fold 5 log loss: 0.016424298827423234\n",
      "Std of log loss: 8.966013594186057e-05\n",
      "Total log loss: 0.016372966181289823\n",
      "Total log loss in targets: 0.01625296558140362\n"
     ]
    }
   ],
   "source": [
    "seeds = [10,40]\n",
    "#seeds = [0,1,2,3]\n",
    "\n",
    "target_oof = np.zeros([len(fn_train),fn_targets.shape[1]])\n",
    "target_pred = np.zeros([len(fn_test),fn_targets.shape[1]])\n",
    "\n",
    "nontarget_oof = np.zeros([len(fn_train),fn_nontargets.shape[1]])\n",
    "nontarget_pred = np.zeros([len(fn_test),fn_nontargets.shape[1]])\n",
    "\n",
    "for seed_ in seeds:\n",
    "    oof, oof_targets, pytorch_pred = modelling_lstm(fn_train, fn_targets, fn_test, seed_, fn_train.shape[1], fn_targets.shape[1],[])\n",
    "    target_oof += oof / len(seeds)\n",
    "    target_pred += pytorch_pred / len(seeds)\n",
    "print(\"Total log loss in targets: {}\".format(mean_log_loss(oof_targets, target_oof)))\n",
    "\n",
    "#for seed_ in seeds:\n",
    "#    oof, oof_targets, pytorch_pred = modelling_lstm(fn_train, fn_nontargets, fn_test, seed_, fn_train.shape[1], fn_nontargets.shape[1],[])\n",
    "#    nontarget_oof += oof / len(seeds)\n",
    "#    nontarget_pred += pytorch_pred / len(seeds)\n",
    "#print(\"Total log loss in Non targets: {}\".format(mean_log_loss(oof_targets, nontarget_oof)))"
   ]
  },
  {
   "cell_type": "code",
   "execution_count": 11,
   "metadata": {
    "execution": {
     "iopub.execute_input": "2020-10-14T09:47:08.376398Z",
     "iopub.status.busy": "2020-10-14T09:47:08.375535Z",
     "iopub.status.idle": "2020-10-14T09:47:14.788831Z",
     "shell.execute_reply": "2020-10-14T09:47:14.789373Z"
    },
    "papermill": {
     "duration": 6.48708,
     "end_time": "2020-10-14T09:47:14.789527",
     "exception": false,
     "start_time": "2020-10-14T09:47:08.302447",
     "status": "completed"
    },
    "tags": []
   },
   "outputs": [
    {
     "name": "stdout",
     "output_type": "stream",
     "text": [
      "OOF log loss:  0.01497942758800069\n"
     ]
    }
   ],
   "source": [
    "t = pd.read_csv(DATA_DIR + 'train_targets_scored.csv')\n",
    "train_checkscore = t.copy()\n",
    "train_checkscore.loc[train_checkscore.index.isin(cons_train_index),target_feats] = target_oof\n",
    "train_checkscore.loc[train_checkscore.index.isin(noncons_train_index),target_feats] = 0\n",
    "t.drop(\"sig_id\", axis=1, inplace=True)\n",
    "print('OOF log loss: ', log_loss(np.ravel(t), np.ravel(np.array(train_checkscore.iloc[:,1:]))))"
   ]
  },
  {
   "cell_type": "code",
   "execution_count": 12,
   "metadata": {
    "execution": {
     "iopub.execute_input": "2020-10-14T09:47:14.925044Z",
     "iopub.status.busy": "2020-10-14T09:47:14.924070Z",
     "iopub.status.idle": "2020-10-14T09:47:17.515974Z",
     "shell.execute_reply": "2020-10-14T09:47:17.514853Z"
    },
    "papermill": {
     "duration": 2.662538,
     "end_time": "2020-10-14T09:47:17.516099",
     "exception": false,
     "start_time": "2020-10-14T09:47:14.853561",
     "status": "completed"
    },
    "tags": []
   },
   "outputs": [],
   "source": [
    "sub[target_feats] = target_pred\n",
    "sub.loc[noncons_test_index,target_feats] = 0\n",
    "sub.to_csv('submission.csv', index=False)"
   ]
  }
 ],
 "metadata": {
  "kernelspec": {
   "display_name": "Python 3",
   "language": "python",
   "name": "python3"
  },
  "language_info": {
   "codemirror_mode": {
    "name": "ipython",
    "version": 3
   },
   "file_extension": ".py",
   "mimetype": "text/x-python",
   "name": "python",
   "nbconvert_exporter": "python",
   "pygments_lexer": "ipython3",
   "version": "3.7.6"
  },
  "papermill": {
   "duration": 315.445952,
   "end_time": "2020-10-14T09:47:18.189267",
   "environment_variables": {},
   "exception": null,
   "input_path": "__notebook__.ipynb",
   "output_path": "__notebook__.ipynb",
   "parameters": {},
   "start_time": "2020-10-14T09:42:02.743315",
   "version": "2.1.0"
  }
 },
 "nbformat": 4,
 "nbformat_minor": 4
}
