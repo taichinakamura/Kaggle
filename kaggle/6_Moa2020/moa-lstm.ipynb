{
 "cells": [
  {
   "cell_type": "markdown",
   "metadata": {
    "papermill": {
     "duration": 0.012098,
     "end_time": "2020-10-14T06:58:26.535535",
     "exception": false,
     "start_time": "2020-10-14T06:58:26.523437",
     "status": "completed"
    },
    "tags": []
   },
   "source": [
    "- modify lstm structure"
   ]
  },
  {
   "cell_type": "code",
   "execution_count": 1,
   "metadata": {
    "_cell_guid": "b1076dfc-b9ad-4769-8c92-a6c4dae69d19",
    "_uuid": "8f2839f25d086af736a60e9eeb907d3b93b6e0e5",
    "execution": {
     "iopub.execute_input": "2020-10-14T06:58:26.571230Z",
     "iopub.status.busy": "2020-10-14T06:58:26.570371Z",
     "iopub.status.idle": "2020-10-14T06:58:33.651714Z",
     "shell.execute_reply": "2020-10-14T06:58:33.650282Z"
    },
    "papermill": {
     "duration": 7.105155,
     "end_time": "2020-10-14T06:58:33.651858",
     "exception": false,
     "start_time": "2020-10-14T06:58:26.546703",
     "status": "completed"
    },
    "tags": []
   },
   "outputs": [],
   "source": [
    "import os\n",
    "import sys\n",
    "import random\n",
    "import warnings\n",
    "import numpy as np\n",
    "import pandas as pd \n",
    "from sklearn import preprocessing\n",
    "from sklearn.metrics import log_loss, mean_squared_error\n",
    "from sklearn.decomposition import PCA\n",
    "from tqdm import tqdm_notebook as tqdm\n",
    "from sklearn.multioutput import MultiOutputClassifier\n",
    "from sklearn.feature_selection import VarianceThreshold\n",
    "\n",
    "sys.path.append('../input/multilabelstraifier/')\n",
    "sys.path.append('../input/lookahead/')\n",
    "from ml_stratifiers import MultilabelStratifiedKFold\n",
    "from lookahead import Lookahead\n",
    "warnings.filterwarnings('ignore')\n",
    "\n",
    "import time\n",
    "import torch\n",
    "import torch.nn as nn\n",
    "import torch.optim as optim\n",
    "import torch.nn.functional as F\n",
    "import tensorflow as tf"
   ]
  },
  {
   "cell_type": "code",
   "execution_count": 2,
   "metadata": {
    "_cell_guid": "79c7e3d0-c299-4dcb-8224-4455121ee9b0",
    "_uuid": "d629ff2d2480ee46fbb7e2d37f6b5fab8052498a",
    "execution": {
     "iopub.execute_input": "2020-10-14T06:58:33.684018Z",
     "iopub.status.busy": "2020-10-14T06:58:33.682961Z",
     "iopub.status.idle": "2020-10-14T06:58:39.546211Z",
     "shell.execute_reply": "2020-10-14T06:58:39.546732Z"
    },
    "papermill": {
     "duration": 5.883792,
     "end_time": "2020-10-14T06:58:39.546908",
     "exception": false,
     "start_time": "2020-10-14T06:58:33.663116",
     "status": "completed"
    },
    "tags": []
   },
   "outputs": [],
   "source": [
    "DATA_DIR = '/kaggle/input/lish-moa/'\n",
    "train = pd.read_csv(DATA_DIR + 'train_features.csv')\n",
    "targets = pd.read_csv(DATA_DIR + 'train_targets_scored.csv')\n",
    "non_targets = pd.read_csv(DATA_DIR + 'train_targets_nonscored.csv')\n",
    "test = pd.read_csv(DATA_DIR + 'test_features.csv')\n",
    "sub = pd.read_csv(DATA_DIR + 'sample_submission.csv')"
   ]
  },
  {
   "cell_type": "code",
   "execution_count": 3,
   "metadata": {
    "execution": {
     "iopub.execute_input": "2020-10-14T06:58:39.577206Z",
     "iopub.status.busy": "2020-10-14T06:58:39.576559Z",
     "iopub.status.idle": "2020-10-14T06:58:39.580145Z",
     "shell.execute_reply": "2020-10-14T06:58:39.580598Z"
    },
    "papermill": {
     "duration": 0.02233,
     "end_time": "2020-10-14T06:58:39.580727",
     "exception": false,
     "start_time": "2020-10-14T06:58:39.558397",
     "status": "completed"
    },
    "tags": []
   },
   "outputs": [],
   "source": [
    "target_feats = [ i for i in targets.columns if i != \"sig_id\"]\n",
    "g_feats = [i for i in train.columns if \"g-\" in i]\n",
    "c_feats = [i for i in train.columns if \"c-\" in i]"
   ]
  },
  {
   "cell_type": "code",
   "execution_count": 4,
   "metadata": {
    "execution": {
     "iopub.execute_input": "2020-10-14T06:58:39.608390Z",
     "iopub.status.busy": "2020-10-14T06:58:39.607788Z",
     "iopub.status.idle": "2020-10-14T06:58:39.613592Z",
     "shell.execute_reply": "2020-10-14T06:58:39.614032Z"
    },
    "papermill": {
     "duration": 0.022153,
     "end_time": "2020-10-14T06:58:39.614143",
     "exception": false,
     "start_time": "2020-10-14T06:58:39.591990",
     "status": "completed"
    },
    "tags": []
   },
   "outputs": [
    {
     "data": {
      "text/plain": [
       "772"
      ]
     },
     "execution_count": 4,
     "metadata": {},
     "output_type": "execute_result"
    }
   ],
   "source": [
    "len(g_feats)"
   ]
  },
  {
   "cell_type": "code",
   "execution_count": 5,
   "metadata": {
    "execution": {
     "iopub.execute_input": "2020-10-14T06:58:39.647014Z",
     "iopub.status.busy": "2020-10-14T06:58:39.646428Z",
     "iopub.status.idle": "2020-10-14T06:58:39.738079Z",
     "shell.execute_reply": "2020-10-14T06:58:39.737520Z"
    },
    "papermill": {
     "duration": 0.111944,
     "end_time": "2020-10-14T06:58:39.738196",
     "exception": false,
     "start_time": "2020-10-14T06:58:39.626252",
     "status": "completed"
    },
    "tags": []
   },
   "outputs": [],
   "source": [
    "noncons_train_index = train[train.cp_type==\"ctl_vehicle\"].index\n",
    "cons_train_index = train[train.cp_type!=\"ctl_vehicle\"].index\n",
    "noncons_test_index = test[test.cp_type==\"ctl_vehicle\"].index\n",
    "cons_test_index = test[test.cp_type!=\"ctl_vehicle\"].index"
   ]
  },
  {
   "cell_type": "markdown",
   "metadata": {
    "papermill": {
     "duration": 0.011622,
     "end_time": "2020-10-14T06:58:39.762990",
     "exception": false,
     "start_time": "2020-10-14T06:58:39.751368",
     "status": "completed"
    },
    "tags": []
   },
   "source": [
    "# preprocess"
   ]
  },
  {
   "cell_type": "code",
   "execution_count": 6,
   "metadata": {
    "execution": {
     "iopub.execute_input": "2020-10-14T06:58:39.799398Z",
     "iopub.status.busy": "2020-10-14T06:58:39.798435Z",
     "iopub.status.idle": "2020-10-14T06:58:40.097160Z",
     "shell.execute_reply": "2020-10-14T06:58:40.096595Z"
    },
    "papermill": {
     "duration": 0.322703,
     "end_time": "2020-10-14T06:58:40.097276",
     "exception": false,
     "start_time": "2020-10-14T06:58:39.774573",
     "status": "completed"
    },
    "tags": []
   },
   "outputs": [],
   "source": [
    "train = train[train.index.isin(cons_train_index)].copy().reset_index(drop=True)\n",
    "targets = targets[targets.index.isin(cons_train_index)].copy().reset_index(drop=True)\n",
    "non_targets = non_targets[non_targets.index.isin(cons_train_index)].copy().reset_index(drop=True)"
   ]
  },
  {
   "cell_type": "markdown",
   "metadata": {
    "papermill": {
     "duration": 0.011668,
     "end_time": "2020-10-14T06:58:40.121108",
     "exception": false,
     "start_time": "2020-10-14T06:58:40.109440",
     "status": "completed"
    },
    "tags": []
   },
   "source": [
    "# feature engineering"
   ]
  },
  {
   "cell_type": "code",
   "execution_count": 7,
   "metadata": {
    "execution": {
     "iopub.execute_input": "2020-10-14T06:58:40.153570Z",
     "iopub.status.busy": "2020-10-14T06:58:40.152328Z",
     "iopub.status.idle": "2020-10-14T06:58:40.280851Z",
     "shell.execute_reply": "2020-10-14T06:58:40.281379Z"
    },
    "papermill": {
     "duration": 0.148512,
     "end_time": "2020-10-14T06:58:40.281514",
     "exception": false,
     "start_time": "2020-10-14T06:58:40.133002",
     "status": "completed"
    },
    "tags": []
   },
   "outputs": [
    {
     "name": "stdout",
     "output_type": "stream",
     "text": [
      "(21948, 872) (3982, 872)\n"
     ]
    }
   ],
   "source": [
    "def fe(df):\n",
    "    tmp = df.copy()\n",
    "    #tmp['g_sum'] = tmp[g_feats].sum(axis = 1)\n",
    "    #tmp['g_mean'] = tmp[g_feats].mean(axis = 1)\n",
    "    #tmp['g_std'] = tmp[g_feats].std(axis = 1)\n",
    "    #tmp['g_kurt'] = tmp[g_feats].kurtosis(axis = 1)\n",
    "    #tmp['g_skew'] = tmp[g_feats].skew(axis = 1)\n",
    "    #tmp['c_sum'] = tmp[c_feats].sum(axis = 1)\n",
    "    #tmp['c_mean'] = tmp[c_feats].mean(axis = 1)\n",
    "    #tmp['c_std'] = tmp[c_feats].std(axis = 1)\n",
    "    #tmp['c_kurt'] = tmp[c_feats].kurtosis(axis = 1)\n",
    "    #tmp['c_skew'] = tmp[c_feats].skew(axis = 1)\n",
    "    #tmp['gc_sum'] = tmp[c_feats + g_feats].sum(axis = 1)\n",
    "    #tmp['gc_mean'] = tmp[c_feats + g_feats].mean(axis = 1)\n",
    "    #tmp['gc_std'] = tmp[c_feats + g_feats].std(axis = 1)\n",
    "    #tmp['gc_kurt'] = tmp[c_feats + g_feats].kurtosis(axis = 1)\n",
    "    #tmp['gc_skew'] = tmp[c_feats + g_feats].skew(axis = 1)\n",
    "    tmp.loc[:, 'cp_dose'] = tmp.loc[:, 'cp_dose'].map({'D1': 0, 'D2': 1})\n",
    "        \n",
    "    tmp.drop([\"cp_type\", \"sig_id\", \"cp_time\", \"cp_dose\"], axis=1, inplace=True)\n",
    "    return tmp\n",
    "\n",
    "f_train = fe(train)\n",
    "f_test = fe(test)\n",
    "\n",
    "print(f_train.shape, f_test.shape)"
   ]
  },
  {
   "cell_type": "code",
   "execution_count": 8,
   "metadata": {
    "execution": {
     "iopub.execute_input": "2020-10-14T06:58:40.314077Z",
     "iopub.status.busy": "2020-10-14T06:58:40.312973Z",
     "iopub.status.idle": "2020-10-14T06:58:41.336744Z",
     "shell.execute_reply": "2020-10-14T06:58:41.336188Z"
    },
    "papermill": {
     "duration": 1.042814,
     "end_time": "2020-10-14T06:58:41.336869",
     "exception": false,
     "start_time": "2020-10-14T06:58:40.294055",
     "status": "completed"
    },
    "tags": []
   },
   "outputs": [],
   "source": [
    "fn_train = f_train.copy().to_numpy()\n",
    "fn_test = f_test.copy().to_numpy()\n",
    "\n",
    "ss = preprocessing.RobustScaler()\n",
    "fn_train= ss.fit_transform(fn_train)\n",
    "fn_test = ss.transform(fn_test)\n",
    "\n",
    "fn_nontargets = non_targets.drop(\"sig_id\", axis=1).copy().to_numpy()\n",
    "fn_targets = targets.drop(\"sig_id\", axis=1).copy().to_numpy()"
   ]
  },
  {
   "cell_type": "code",
   "execution_count": 9,
   "metadata": {
    "execution": {
     "iopub.execute_input": "2020-10-14T06:58:41.379375Z",
     "iopub.status.busy": "2020-10-14T06:58:41.377447Z",
     "iopub.status.idle": "2020-10-14T06:58:41.380041Z",
     "shell.execute_reply": "2020-10-14T06:58:41.380525Z"
    },
    "papermill": {
     "duration": 0.031062,
     "end_time": "2020-10-14T06:58:41.380639",
     "exception": false,
     "start_time": "2020-10-14T06:58:41.349577",
     "status": "completed"
    },
    "tags": []
   },
   "outputs": [],
   "source": [
    "class CFG:\n",
    "    max_grad_norm = 1000\n",
    "    gradient_accumulation_steps = 1\n",
    "    hidden_size = 1024\n",
    "    dropout = 0.5\n",
    "    lr = 1e-2\n",
    "    weight_decay = 1e-6\n",
    "    batch_size = 256\n",
    "    epochs = 20\n",
    "    # total_cate_size=5\n",
    "    # emb_size=4\n",
    "    #num_features = num_features\n",
    "    #cat_features = cat_features\n",
    "    #target_cols = target_cols\n",
    "    target_length = 206\n",
    "\n",
    "class myLSTM(nn.Module):\n",
    "    def __init__(self, cfg):\n",
    "        super().__init__()\n",
    "\n",
    "        self.gru_hidden_size = 64\n",
    "        self.lstm_hidden_size = 772\n",
    "        self.c_lstm_hidden_size = 100\n",
    "        self.layer_num = 1\n",
    "        \n",
    "        self.hidden_dim = 256\n",
    "        self.hidden_dim_c = 5\n",
    "        \n",
    "        self.lstm = nn.LSTM(self.lstm_hidden_size, self.hidden_dim, batch_first=True, bidirectional=True, num_layers=self.layer_num)\n",
    "        self.c_lstm = nn.LSTM(self.c_lstm_hidden_size, self.hidden_dim_c, batch_first=True, bidirectional=True, num_layers=self.layer_num)\n",
    "        \n",
    "        self.dropout = nn.Dropout(0.1)\n",
    "        self.out = nn.Linear((self.hidden_dim+self.hidden_dim_c) * 2 , cfg.target_length)\n",
    "\n",
    "    def forward(self, cont_g, cont_c): \n",
    "        cont_g = torch.unsqueeze(cont_g, 1)\n",
    "        h_lstm, lstm_out = self.lstm(cont_g) # h_lstm: 128 * 1 * (2 * 256)\n",
    "        conc_g = h_lstm.view(-1, self.hidden_dim * self.layer_num * 2)\n",
    "        \n",
    "        cont_c = torch.unsqueeze(cont_c, 1)\n",
    "        h_lstm_c, lstm_out_c = self.c_lstm(cont_c) # h_lstm: 128 * 1 * (2 * 5)\n",
    "        conc_c = h_lstm_c.view(-1, self.hidden_dim_c * self.layer_num * 2)\n",
    "        \n",
    "        conc = torch.cat((conc_g, conc_c),1)\n",
    "        \n",
    "        dropped = self.dropout(conc)\n",
    "        out = self.out(dropped)\n",
    "        return out"
   ]
  },
  {
   "cell_type": "code",
   "execution_count": 10,
   "metadata": {
    "execution": {
     "iopub.execute_input": "2020-10-14T06:58:41.419096Z",
     "iopub.status.busy": "2020-10-14T06:58:41.408528Z",
     "iopub.status.idle": "2020-10-14T06:58:41.825305Z",
     "shell.execute_reply": "2020-10-14T06:58:41.824633Z"
    },
    "papermill": {
     "duration": 0.432382,
     "end_time": "2020-10-14T06:58:41.825451",
     "exception": false,
     "start_time": "2020-10-14T06:58:41.393069",
     "status": "completed"
    },
    "tags": []
   },
   "outputs": [
    {
     "name": "stdout",
     "output_type": "stream",
     "text": [
      "cuda\n"
     ]
    }
   ],
   "source": [
    "batch_size = 256\n",
    "train_epochs = 30\n",
    "n_folds=5\n",
    "EARLY_STOPPING_STEPS = 10\n",
    "\n",
    "device = \"cuda\" if torch.cuda.is_available() else \"cpu\"\n",
    "print(device)\n",
    "def mean_log_loss(y_true, y_pred):\n",
    "    metrics = []\n",
    "    for i, target in enumerate(target_feats):\n",
    "        metrics.append(log_loss(y_true[:, i], y_pred[:, i].astype(float), labels=[0,1]))\n",
    "    return np.mean(metrics)\n",
    "\n",
    "def seed_everything(seed=1234): \n",
    "    random.seed(seed)\n",
    "    os.environ['PYTHONHASHSEED'] = str(seed)\n",
    "    tf.random.set_seed(seed)\n",
    "    np.random.seed(seed)\n",
    "    torch.manual_seed(seed)\n",
    "    torch.cuda.manual_seed(seed)\n",
    "    torch.backends.cudnn.deterministic = True\n",
    "\n",
    "def modelling_lstm(tr, target, te, sample_seed, init_num, last_num, files):\n",
    "    seed_everything(seed=sample_seed) \n",
    "    X_train = tr.copy()\n",
    "    y_train = target.copy()\n",
    "    X_test = te.copy()\n",
    "    test_len = X_test.shape[0]\n",
    "\n",
    "    mskf=MultilabelStratifiedKFold(n_splits = n_folds, shuffle=True, random_state=2)\n",
    "    models = []\n",
    "    \n",
    "    X_test_g = torch.tensor(X_test[:,:772], dtype=torch.float32)\n",
    "    X_test_c = torch.tensor(X_test[:,772:], dtype=torch.float32)\n",
    "    X_test = torch.utils.data.TensorDataset(X_test_g, X_test_c) \n",
    "    test_loader = torch.utils.data.DataLoader(X_test, batch_size=batch_size, shuffle=False)\n",
    "    \n",
    "    oof = np.zeros([len(X_train),y_train.shape[1]])\n",
    "    oof_targets = np.zeros([len(X_train),y_train.shape[1]])\n",
    "    pred_value = np.zeros([test_len, y_train.shape[1]])\n",
    "    scores = []\n",
    "    \n",
    "    for fold, (train_index, valid_index) in enumerate(mskf.split(X_train, y_train)):\n",
    "        print(\"Fold \"+str(fold+1))\n",
    "        X_train2_g = torch.tensor(X_train[train_index,:772], dtype=torch.float32)\n",
    "        X_valid2_g = torch.tensor(X_train[valid_index,:772], dtype=torch.float32)\n",
    "        X_train2_c = torch.tensor(X_train[train_index,772:], dtype=torch.float32)\n",
    "        X_valid2_c = torch.tensor(X_train[valid_index,772:], dtype=torch.float32)\n",
    "        \n",
    "        y_train2 = torch.tensor(y_train[train_index], dtype=torch.float32)\n",
    "        y_valid2 = torch.tensor(y_train[valid_index], dtype=torch.float32)\n",
    "            \n",
    "        clf = myLSTM(CFG)\n",
    "        if files != []:\n",
    "            clf.load_state_dict(torch.load(files[fold]))\n",
    "        loss_fn = torch.nn.BCEWithLogitsLoss() \n",
    "        optimizer = optim.Adam(clf.parameters(), lr = 0.01, weight_decay=1e-5) \n",
    "        #lookahead = Lookahead(optimizer, k=10, alpha=0.6) #lookahead\n",
    "        scheduler = optim.lr_scheduler.ReduceLROnPlateau(optimizer, mode='min', factor=0.1, patience=3, eps=1e-4, verbose=True)\n",
    "        \n",
    "        train = torch.utils.data.TensorDataset(X_train2_g, X_train2_c, y_train2)\n",
    "        valid = torch.utils.data.TensorDataset(X_valid2_g, X_valid2_c, y_valid2)\n",
    "        \n",
    "        clf.to(device)\n",
    "        \n",
    "        train_loader = torch.utils.data.DataLoader(train, batch_size=batch_size, shuffle=True) \n",
    "        valid_loader = torch.utils.data.DataLoader(valid, batch_size=batch_size, shuffle=False)\n",
    "        \n",
    "        best_val_loss = np.inf\n",
    "        stop_counts = 0\n",
    "        for epoch in range(train_epochs):\n",
    "            start_time = time.time()\n",
    "            clf.train()\n",
    "            avg_loss = 0.\n",
    "            for x_batch_g, x_batch_c, y_batch in tqdm(train_loader, disable=True):\n",
    "                x_batch_g = x_batch_g.to(device)\n",
    "                x_batch_c = x_batch_c.to(device)\n",
    "                y_batch = y_batch.to(device)\n",
    "                y_pred = clf(x_batch_g, x_batch_c) \n",
    "                loss = loss_fn(y_pred, y_batch)\n",
    "                optimizer.zero_grad()\n",
    "                loss.backward()\n",
    "                optimizer.step()\n",
    "                avg_loss += loss.item() / len(train_loader)        \n",
    "            \n",
    "            clf.eval()\n",
    "            avg_val_loss = 0.\n",
    "            for i, (x_batch_g, x_batch_c, y_batch) in enumerate(valid_loader): \n",
    "                x_batch_g = x_batch_g.to(device)\n",
    "                x_batch_c = x_batch_c.to(device)\n",
    "                y_batch = y_batch.to(device)\n",
    "                y_pred = clf(x_batch_g, x_batch_c) .detach()\n",
    "                avg_val_loss += loss_fn(y_pred, y_batch).item() / len(valid_loader)\n",
    "                \n",
    "            elapsed_time = time.time() - start_time \n",
    "            scheduler.step(avg_val_loss)\n",
    "                    \n",
    "            if avg_val_loss < best_val_loss:\n",
    "                stop_counts = 0\n",
    "                best_val_loss = avg_val_loss\n",
    "                print('Best model: Epoch {} \\t loss={:.6f} \\t val_loss={:.6f} \\t time={:.2f}s'.format(\n",
    "                    epoch + 1, avg_loss, avg_val_loss, elapsed_time))\n",
    "                torch.save(clf.state_dict(), 'best-model-parameters.pt')\n",
    "            else:\n",
    "                stop_counts += 1\n",
    "        \n",
    "            #if stop_counts >= EARLY_STOPPING_STEPS: \n",
    "            #    break\n",
    "         \n",
    "        pred_model = myLSTM(CFG)\n",
    "        pred_model.load_state_dict(torch.load('best-model-parameters.pt'))\n",
    "        pred_model.eval()\n",
    "        \n",
    "        # validation check ----------------\n",
    "        oof_epoch = np.zeros([X_valid2_g.size(0), y_train.shape[1]])\n",
    "        target_epoch = np.zeros([X_valid2_g.size(0), y_train.shape[1]])\n",
    "        for i, (x_batch_g, x_batch_c, y_batch) in enumerate(valid_loader): \n",
    "                y_pred = pred_model(x_batch_g, x_batch_c).sigmoid().detach()\n",
    "                oof_epoch[i * batch_size:(i+1) * batch_size,:] = y_pred.cpu().numpy()\n",
    "                target_epoch[i * batch_size:(i+1) * batch_size,:] = y_batch.cpu().numpy()\n",
    "        print(\"Fold {} log loss: {}\".format(fold+1, mean_log_loss(target_epoch, oof_epoch)))\n",
    "        scores.append(mean_log_loss(target_epoch, oof_epoch))\n",
    "        oof[valid_index,:] = oof_epoch\n",
    "        oof_targets[valid_index,:] = target_epoch\n",
    "        #-----------------------------------\n",
    "        \n",
    "        # test predcition --------------\n",
    "        test_preds = np.zeros([test_len, y_train.shape[1]])\n",
    "        for i, (x_batch_g,x_batch_c, ) in enumerate(test_loader): \n",
    "            y_pred = pred_model(x_batch_g,x_batch_c).sigmoid().detach()\n",
    "            test_preds[i * batch_size:(i+1) * batch_size, :] = y_pred.cpu().numpy()\n",
    "        pred_value += test_preds / n_folds\n",
    "        # ------------------------------\n",
    "        \n",
    "    print(\"Seed {}\".format(seed_))\n",
    "    for i, ele in enumerate(scores):\n",
    "        print(\"Fold {} log loss: {}\".format(i+1, scores[i]))\n",
    "    print(\"Std of log loss: {}\".format(np.std(scores)))\n",
    "    print(\"Total log loss: {}\".format(mean_log_loss(oof_targets, oof)))\n",
    "\n",
    "    return oof, oof_targets, pred_value"
   ]
  },
  {
   "cell_type": "code",
   "execution_count": 11,
   "metadata": {
    "execution": {
     "iopub.execute_input": "2020-10-14T06:58:41.863318Z",
     "iopub.status.busy": "2020-10-14T06:58:41.861896Z",
     "iopub.status.idle": "2020-10-14T07:03:52.929603Z",
     "shell.execute_reply": "2020-10-14T07:03:52.929111Z"
    },
    "papermill": {
     "duration": 311.090502,
     "end_time": "2020-10-14T07:03:52.929724",
     "exception": false,
     "start_time": "2020-10-14T06:58:41.839222",
     "status": "completed"
    },
    "tags": []
   },
   "outputs": [
    {
     "name": "stdout",
     "output_type": "stream",
     "text": [
      "Fold 1\n",
      "Best model: Epoch 1 \t loss=0.051476 \t val_loss=0.019840 \t time=0.76s\n",
      "Best model: Epoch 2 \t loss=0.019007 \t val_loss=0.018575 \t time=0.64s\n",
      "Best model: Epoch 3 \t loss=0.018192 \t val_loss=0.018334 \t time=0.62s\n",
      "Best model: Epoch 4 \t loss=0.017827 \t val_loss=0.018202 \t time=0.62s\n",
      "Best model: Epoch 5 \t loss=0.017660 \t val_loss=0.017967 \t time=0.63s\n",
      "Best model: Epoch 6 \t loss=0.017569 \t val_loss=0.017924 \t time=0.85s\n",
      "Best model: Epoch 7 \t loss=0.017545 \t val_loss=0.017842 \t time=0.67s\n",
      "Epoch    11: reducing learning rate of group 0 to 1.0000e-03.\n",
      "Best model: Epoch 12 \t loss=0.016290 \t val_loss=0.016928 \t time=0.66s\n",
      "Best model: Epoch 13 \t loss=0.015492 \t val_loss=0.016796 \t time=0.62s\n",
      "Best model: Epoch 14 \t loss=0.015137 \t val_loss=0.016715 \t time=0.63s\n",
      "Best model: Epoch 15 \t loss=0.014856 \t val_loss=0.016693 \t time=0.63s\n",
      "Best model: Epoch 16 \t loss=0.014577 \t val_loss=0.016656 \t time=0.61s\n",
      "Best model: Epoch 17 \t loss=0.014346 \t val_loss=0.016650 \t time=0.63s\n",
      "Epoch    21: reducing learning rate of group 0 to 1.0000e-04.\n",
      "Best model: Epoch 22 \t loss=0.012685 \t val_loss=0.016609 \t time=0.79s\n",
      "Best model: Epoch 23 \t loss=0.012564 \t val_loss=0.016604 \t time=0.67s\n",
      "Best model: Epoch 25 \t loss=0.012457 \t val_loss=0.016603 \t time=0.74s\n",
      "Fold 1 log loss: 0.016846300605476754\n",
      "Fold 2\n",
      "Best model: Epoch 1 \t loss=0.051093 \t val_loss=0.019622 \t time=0.61s\n",
      "Best model: Epoch 2 \t loss=0.018912 \t val_loss=0.018816 \t time=0.98s\n",
      "Best model: Epoch 3 \t loss=0.018153 \t val_loss=0.018465 \t time=0.67s\n",
      "Best model: Epoch 4 \t loss=0.017867 \t val_loss=0.018078 \t time=0.62s\n",
      "Best model: Epoch 5 \t loss=0.017671 \t val_loss=0.017995 \t time=0.64s\n",
      "Best model: Epoch 6 \t loss=0.017637 \t val_loss=0.017956 \t time=0.65s\n",
      "Best model: Epoch 8 \t loss=0.017578 \t val_loss=0.017925 \t time=0.92s\n",
      "Epoch    12: reducing learning rate of group 0 to 1.0000e-03.\n",
      "Best model: Epoch 13 \t loss=0.016359 \t val_loss=0.016942 \t time=0.62s\n",
      "Best model: Epoch 14 \t loss=0.015563 \t val_loss=0.016832 \t time=0.64s\n",
      "Best model: Epoch 15 \t loss=0.015243 \t val_loss=0.016774 \t time=0.68s\n",
      "Best model: Epoch 16 \t loss=0.014935 \t val_loss=0.016730 \t time=0.62s\n",
      "Best model: Epoch 18 \t loss=0.014420 \t val_loss=0.016722 \t time=0.61s\n",
      "Best model: Epoch 19 \t loss=0.014162 \t val_loss=0.016699 \t time=0.62s\n",
      "Epoch    23: reducing learning rate of group 0 to 1.0000e-04.\n",
      "Best model: Epoch 25 \t loss=0.012383 \t val_loss=0.016694 \t time=0.62s\n",
      "Best model: Epoch 27 \t loss=0.012299 \t val_loss=0.016693 \t time=0.61s\n",
      "Fold 2 log loss: 0.016828274748050407\n",
      "Fold 3\n",
      "Best model: Epoch 1 \t loss=0.052515 \t val_loss=0.020967 \t time=0.62s\n",
      "Best model: Epoch 2 \t loss=0.019141 \t val_loss=0.019265 \t time=0.61s\n",
      "Best model: Epoch 3 \t loss=0.018279 \t val_loss=0.018624 \t time=0.64s\n",
      "Best model: Epoch 4 \t loss=0.017846 \t val_loss=0.018373 \t time=0.61s\n",
      "Best model: Epoch 5 \t loss=0.017693 \t val_loss=0.018110 \t time=0.61s\n",
      "Best model: Epoch 6 \t loss=0.017554 \t val_loss=0.018045 \t time=0.62s\n",
      "Best model: Epoch 7 \t loss=0.017595 \t val_loss=0.018030 \t time=0.64s\n",
      "Epoch    11: reducing learning rate of group 0 to 1.0000e-03.\n",
      "Best model: Epoch 12 \t loss=0.016320 \t val_loss=0.017031 \t time=0.84s\n",
      "Best model: Epoch 13 \t loss=0.015519 \t val_loss=0.016874 \t time=0.62s\n",
      "Best model: Epoch 14 \t loss=0.015190 \t val_loss=0.016794 \t time=0.74s\n",
      "Best model: Epoch 15 \t loss=0.014883 \t val_loss=0.016750 \t time=0.61s\n",
      "Best model: Epoch 16 \t loss=0.014647 \t val_loss=0.016739 \t time=0.64s\n",
      "Epoch    20: reducing learning rate of group 0 to 1.0000e-04.\n",
      "Best model: Epoch 21 \t loss=0.013004 \t val_loss=0.016664 \t time=0.62s\n",
      "Best model: Epoch 22 \t loss=0.012904 \t val_loss=0.016651 \t time=0.64s\n",
      "Fold 3 log loss: 0.016664683989331484\n",
      "Fold 4\n",
      "Best model: Epoch 1 \t loss=0.050915 \t val_loss=0.019871 \t time=1.01s\n",
      "Best model: Epoch 2 \t loss=0.019116 \t val_loss=0.018876 \t time=1.06s\n",
      "Best model: Epoch 3 \t loss=0.018286 \t val_loss=0.018206 \t time=0.66s\n",
      "Best model: Epoch 4 \t loss=0.017853 \t val_loss=0.018123 \t time=0.65s\n",
      "Best model: Epoch 5 \t loss=0.017643 \t val_loss=0.017968 \t time=0.66s\n",
      "Best model: Epoch 6 \t loss=0.017589 \t val_loss=0.017875 \t time=0.63s\n",
      "Best model: Epoch 7 \t loss=0.017506 \t val_loss=0.017760 \t time=0.64s\n",
      "Best model: Epoch 9 \t loss=0.017570 \t val_loss=0.017720 \t time=0.67s\n",
      "Best model: Epoch 12 \t loss=0.017571 \t val_loss=0.017642 \t time=0.61s\n",
      "Epoch    16: reducing learning rate of group 0 to 1.0000e-03.\n",
      "Best model: Epoch 17 \t loss=0.016221 \t val_loss=0.016875 \t time=0.92s\n",
      "Best model: Epoch 18 \t loss=0.015393 \t val_loss=0.016703 \t time=0.75s\n",
      "Best model: Epoch 19 \t loss=0.015012 \t val_loss=0.016672 \t time=0.62s\n",
      "Best model: Epoch 20 \t loss=0.014729 \t val_loss=0.016625 \t time=0.62s\n",
      "Best model: Epoch 21 \t loss=0.014461 \t val_loss=0.016619 \t time=0.62s\n",
      "Best model: Epoch 22 \t loss=0.014231 \t val_loss=0.016600 \t time=0.62s\n",
      "Best model: Epoch 23 \t loss=0.013987 \t val_loss=0.016588 \t time=0.62s\n",
      "Epoch    27: reducing learning rate of group 0 to 1.0000e-04.\n",
      "Fold 4 log loss: 0.016751789815067347\n",
      "Fold 5\n",
      "Best model: Epoch 1 \t loss=0.052072 \t val_loss=0.020274 \t time=0.86s\n",
      "Best model: Epoch 2 \t loss=0.018879 \t val_loss=0.019060 \t time=0.62s\n",
      "Best model: Epoch 3 \t loss=0.018160 \t val_loss=0.018629 \t time=0.63s\n",
      "Best model: Epoch 4 \t loss=0.017817 \t val_loss=0.018564 \t time=0.76s\n",
      "Best model: Epoch 5 \t loss=0.017689 \t val_loss=0.018194 \t time=0.62s\n",
      "Best model: Epoch 7 \t loss=0.017530 \t val_loss=0.018060 \t time=0.62s\n",
      "Epoch    11: reducing learning rate of group 0 to 1.0000e-03.\n",
      "Best model: Epoch 12 \t loss=0.016317 \t val_loss=0.017236 \t time=0.62s\n",
      "Best model: Epoch 13 \t loss=0.015550 \t val_loss=0.017074 \t time=0.63s\n",
      "Best model: Epoch 14 \t loss=0.015209 \t val_loss=0.016998 \t time=0.66s\n",
      "Best model: Epoch 15 \t loss=0.014917 \t val_loss=0.016956 \t time=0.62s\n",
      "Best model: Epoch 16 \t loss=0.014638 \t val_loss=0.016929 \t time=0.62s\n",
      "Best model: Epoch 19 \t loss=0.013936 \t val_loss=0.016928 \t time=0.60s\n",
      "Epoch    20: reducing learning rate of group 0 to 1.0000e-04.\n",
      "Best model: Epoch 21 \t loss=0.012993 \t val_loss=0.016853 \t time=0.74s\n",
      "Best model: Epoch 22 \t loss=0.012877 \t val_loss=0.016849 \t time=0.64s\n",
      "Fold 5 log loss: 0.01683612991801923\n",
      "Seed 10\n",
      "Fold 1 log loss: 0.016846300605476754\n",
      "Fold 2 log loss: 0.016828274748050407\n",
      "Fold 3 log loss: 0.016664683989331484\n",
      "Fold 4 log loss: 0.016751789815067347\n",
      "Fold 5 log loss: 0.01683612991801923\n",
      "Std of log loss: 6.902556873992162e-05\n",
      "Total log loss: 0.016785431553614612\n",
      "Fold 1\n",
      "Best model: Epoch 1 \t loss=0.051593 \t val_loss=0.020112 \t time=0.68s\n",
      "Best model: Epoch 2 \t loss=0.019174 \t val_loss=0.018727 \t time=0.63s\n",
      "Best model: Epoch 3 \t loss=0.018226 \t val_loss=0.018346 \t time=0.63s\n",
      "Best model: Epoch 4 \t loss=0.017862 \t val_loss=0.018101 \t time=0.76s\n",
      "Best model: Epoch 5 \t loss=0.017662 \t val_loss=0.017864 \t time=1.08s\n",
      "Epoch     9: reducing learning rate of group 0 to 1.0000e-03.\n",
      "Best model: Epoch 10 \t loss=0.016225 \t val_loss=0.016984 \t time=0.63s\n",
      "Best model: Epoch 11 \t loss=0.015455 \t val_loss=0.016799 \t time=0.67s\n",
      "Best model: Epoch 12 \t loss=0.015115 \t val_loss=0.016766 \t time=0.62s\n",
      "Best model: Epoch 13 \t loss=0.014836 \t val_loss=0.016716 \t time=0.64s\n",
      "Best model: Epoch 15 \t loss=0.014361 \t val_loss=0.016656 \t time=0.63s\n",
      "Epoch    19: reducing learning rate of group 0 to 1.0000e-04.\n",
      "Best model: Epoch 20 \t loss=0.012783 \t val_loss=0.016604 \t time=0.92s\n",
      "Best model: Epoch 21 \t loss=0.012678 \t val_loss=0.016589 \t time=0.64s\n",
      "Best model: Epoch 23 \t loss=0.012577 \t val_loss=0.016589 \t time=0.64s\n",
      "Fold 1 log loss: 0.01684003837061918\n",
      "Fold 2\n",
      "Best model: Epoch 1 \t loss=0.052491 \t val_loss=0.019980 \t time=0.64s\n",
      "Best model: Epoch 2 \t loss=0.018990 \t val_loss=0.018749 \t time=0.62s\n",
      "Best model: Epoch 3 \t loss=0.018204 \t val_loss=0.018289 \t time=0.64s\n",
      "Best model: Epoch 4 \t loss=0.017831 \t val_loss=0.018193 \t time=0.64s\n",
      "Best model: Epoch 5 \t loss=0.017641 \t val_loss=0.018063 \t time=0.89s\n",
      "Best model: Epoch 6 \t loss=0.017641 \t val_loss=0.017966 \t time=0.66s\n",
      "Best model: Epoch 8 \t loss=0.017527 \t val_loss=0.017885 \t time=0.65s\n",
      "Epoch    12: reducing learning rate of group 0 to 1.0000e-03.\n",
      "Best model: Epoch 13 \t loss=0.016308 \t val_loss=0.017027 \t time=0.63s\n",
      "Best model: Epoch 14 \t loss=0.015525 \t val_loss=0.016866 \t time=0.63s\n",
      "Best model: Epoch 15 \t loss=0.015159 \t val_loss=0.016789 \t time=0.63s\n",
      "Best model: Epoch 16 \t loss=0.014887 \t val_loss=0.016764 \t time=0.62s\n",
      "Best model: Epoch 17 \t loss=0.014626 \t val_loss=0.016763 \t time=0.64s\n",
      "Best model: Epoch 18 \t loss=0.014379 \t val_loss=0.016735 \t time=0.63s\n",
      "Best model: Epoch 20 \t loss=0.013919 \t val_loss=0.016732 \t time=0.91s\n",
      "Best model: Epoch 21 \t loss=0.013655 \t val_loss=0.016718 \t time=0.89s\n",
      "Epoch    25: reducing learning rate of group 0 to 1.0000e-04.\n",
      "Fold 2 log loss: 0.016861935345842807\n",
      "Fold 3\n",
      "Best model: Epoch 1 \t loss=0.051740 \t val_loss=0.019873 \t time=0.66s\n",
      "Best model: Epoch 2 \t loss=0.018887 \t val_loss=0.019129 \t time=0.62s\n",
      "Best model: Epoch 3 \t loss=0.018227 \t val_loss=0.018437 \t time=0.63s\n",
      "Best model: Epoch 4 \t loss=0.017929 \t val_loss=0.018417 \t time=0.63s\n",
      "Best model: Epoch 5 \t loss=0.017704 \t val_loss=0.018009 \t time=0.92s\n",
      "Epoch     9: reducing learning rate of group 0 to 1.0000e-03.\n",
      "Best model: Epoch 10 \t loss=0.016240 \t val_loss=0.017021 \t time=0.67s\n",
      "Best model: Epoch 11 \t loss=0.015498 \t val_loss=0.016885 \t time=0.84s\n",
      "Best model: Epoch 12 \t loss=0.015184 \t val_loss=0.016815 \t time=0.66s\n",
      "Best model: Epoch 13 \t loss=0.014922 \t val_loss=0.016804 \t time=0.69s\n",
      "Best model: Epoch 14 \t loss=0.014662 \t val_loss=0.016781 \t time=0.76s\n",
      "Best model: Epoch 15 \t loss=0.014448 \t val_loss=0.016746 \t time=0.65s\n",
      "Best model: Epoch 17 \t loss=0.013978 \t val_loss=0.016739 \t time=0.61s\n",
      "Epoch    21: reducing learning rate of group 0 to 1.0000e-04.\n",
      "Best model: Epoch 22 \t loss=0.012363 \t val_loss=0.016716 \t time=0.62s\n",
      "Best model: Epoch 23 \t loss=0.012251 \t val_loss=0.016699 \t time=0.62s\n",
      "Best model: Epoch 24 \t loss=0.012178 \t val_loss=0.016696 \t time=0.62s\n",
      "Best model: Epoch 25 \t loss=0.012133 \t val_loss=0.016695 \t time=0.66s\n",
      "Fold 3 log loss: 0.016700609593275385\n",
      "Fold 4\n",
      "Best model: Epoch 1 \t loss=0.052716 \t val_loss=0.019738 \t time=0.75s\n",
      "Best model: Epoch 2 \t loss=0.019003 \t val_loss=0.018770 \t time=0.63s\n",
      "Best model: Epoch 3 \t loss=0.018287 \t val_loss=0.018209 \t time=0.63s\n",
      "Best model: Epoch 4 \t loss=0.017857 \t val_loss=0.018057 \t time=0.63s\n",
      "Best model: Epoch 5 \t loss=0.017693 \t val_loss=0.017919 \t time=0.62s\n",
      "Best model: Epoch 6 \t loss=0.017623 \t val_loss=0.017804 \t time=0.89s\n",
      "Best model: Epoch 7 \t loss=0.017592 \t val_loss=0.017745 \t time=0.63s\n",
      "Best model: Epoch 10 \t loss=0.017599 \t val_loss=0.017665 \t time=0.62s\n",
      "Epoch    14: reducing learning rate of group 0 to 1.0000e-03.\n",
      "Best model: Epoch 15 \t loss=0.016289 \t val_loss=0.016889 \t time=0.64s\n",
      "Best model: Epoch 16 \t loss=0.015481 \t val_loss=0.016734 \t time=0.61s\n",
      "Best model: Epoch 17 \t loss=0.015075 \t val_loss=0.016684 \t time=0.62s\n",
      "Best model: Epoch 18 \t loss=0.014772 \t val_loss=0.016652 \t time=0.75s\n",
      "Best model: Epoch 19 \t loss=0.014515 \t val_loss=0.016630 \t time=0.63s\n",
      "Best model: Epoch 21 \t loss=0.014006 \t val_loss=0.016624 \t time=0.62s\n",
      "Best model: Epoch 22 \t loss=0.013761 \t val_loss=0.016608 \t time=0.73s\n",
      "Epoch    26: reducing learning rate of group 0 to 1.0000e-04.\n",
      "Fold 4 log loss: 0.016765550781773997\n",
      "Fold 5\n",
      "Best model: Epoch 1 \t loss=0.052495 \t val_loss=0.020342 \t time=0.62s\n",
      "Best model: Epoch 2 \t loss=0.019112 \t val_loss=0.019244 \t time=0.65s\n",
      "Best model: Epoch 3 \t loss=0.018316 \t val_loss=0.018845 \t time=0.61s\n",
      "Best model: Epoch 4 \t loss=0.017956 \t val_loss=0.018381 \t time=0.75s\n",
      "Best model: Epoch 6 \t loss=0.017570 \t val_loss=0.018126 \t time=0.62s\n",
      "Best model: Epoch 9 \t loss=0.017583 \t val_loss=0.018078 \t time=0.70s\n",
      "Best model: Epoch 12 \t loss=0.017598 \t val_loss=0.018078 \t time=0.63s\n",
      "Epoch    13: reducing learning rate of group 0 to 1.0000e-03.\n",
      "Best model: Epoch 14 \t loss=0.016252 \t val_loss=0.017229 \t time=0.64s\n",
      "Best model: Epoch 15 \t loss=0.015487 \t val_loss=0.017081 \t time=0.76s\n",
      "Best model: Epoch 16 \t loss=0.015140 \t val_loss=0.017027 \t time=0.81s\n",
      "Best model: Epoch 17 \t loss=0.014872 \t val_loss=0.016985 \t time=0.63s\n",
      "Best model: Epoch 18 \t loss=0.014609 \t val_loss=0.016958 \t time=0.68s\n",
      "Best model: Epoch 19 \t loss=0.014348 \t val_loss=0.016917 \t time=0.65s\n",
      "Epoch    23: reducing learning rate of group 0 to 1.0000e-04.\n",
      "Best model: Epoch 24 \t loss=0.012725 \t val_loss=0.016879 \t time=0.62s\n",
      "Best model: Epoch 25 \t loss=0.012606 \t val_loss=0.016870 \t time=0.62s\n",
      "Fold 5 log loss: 0.01684611300361911\n",
      "Seed 40\n",
      "Fold 1 log loss: 0.01684003837061918\n",
      "Fold 2 log loss: 0.016861935345842807\n",
      "Fold 3 log loss: 0.016700609593275385\n",
      "Fold 4 log loss: 0.016765550781773997\n",
      "Fold 5 log loss: 0.01684611300361911\n",
      "Std of log loss: 6.097552448420399e-05\n",
      "Total log loss: 0.016802844755753294\n",
      "Total log loss in targets: 0.016738686374509457\n"
     ]
    }
   ],
   "source": [
    "seeds = [10,40]\n",
    "#seeds = [0,1,2,3]\n",
    "\n",
    "target_oof = np.zeros([len(fn_train),fn_targets.shape[1]])\n",
    "target_pred = np.zeros([len(fn_test),fn_targets.shape[1]])\n",
    "\n",
    "nontarget_oof = np.zeros([len(fn_train),fn_nontargets.shape[1]])\n",
    "nontarget_pred = np.zeros([len(fn_test),fn_nontargets.shape[1]])\n",
    "\n",
    "for seed_ in seeds:\n",
    "    oof, oof_targets, pytorch_pred = modelling_lstm(fn_train, fn_targets, fn_test, seed_, fn_train.shape[1], fn_targets.shape[1],[])\n",
    "    target_oof += oof / len(seeds)\n",
    "    target_pred += pytorch_pred / len(seeds)\n",
    "print(\"Total log loss in targets: {}\".format(mean_log_loss(oof_targets, target_oof)))\n",
    "\n",
    "#for seed_ in seeds:\n",
    "#    oof, oof_targets, pytorch_pred = modelling_lstm(fn_train, fn_nontargets, fn_test, seed_, fn_train.shape[1], fn_nontargets.shape[1],[])\n",
    "#    nontarget_oof += oof / len(seeds)\n",
    "#    nontarget_pred += pytorch_pred / len(seeds)\n",
    "#print(\"Total log loss in Non targets: {}\".format(mean_log_loss(oof_targets, nontarget_oof)))"
   ]
  },
  {
   "cell_type": "code",
   "execution_count": 12,
   "metadata": {
    "execution": {
     "iopub.execute_input": "2020-10-14T07:03:53.093473Z",
     "iopub.status.busy": "2020-10-14T07:03:53.092625Z",
     "iopub.status.idle": "2020-10-14T07:03:58.781993Z",
     "shell.execute_reply": "2020-10-14T07:03:58.781158Z"
    },
    "papermill": {
     "duration": 5.775116,
     "end_time": "2020-10-14T07:03:58.782105",
     "exception": false,
     "start_time": "2020-10-14T07:03:53.006989",
     "status": "completed"
    },
    "tags": []
   },
   "outputs": [
    {
     "name": "stdout",
     "output_type": "stream",
     "text": [
      "OOF log loss:  0.015427088626343143\n"
     ]
    }
   ],
   "source": [
    "t = pd.read_csv(DATA_DIR + 'train_targets_scored.csv')\n",
    "train_checkscore = t.copy()\n",
    "train_checkscore.loc[train_checkscore.index.isin(cons_train_index),target_feats] = target_oof\n",
    "train_checkscore.loc[train_checkscore.index.isin(noncons_train_index),target_feats] = 0\n",
    "t.drop(\"sig_id\", axis=1, inplace=True)\n",
    "print('OOF log loss: ', log_loss(np.ravel(t), np.ravel(np.array(train_checkscore.iloc[:,1:]))))"
   ]
  },
  {
   "cell_type": "code",
   "execution_count": 13,
   "metadata": {
    "execution": {
     "iopub.execute_input": "2020-10-14T07:03:58.944511Z",
     "iopub.status.busy": "2020-10-14T07:03:58.943668Z",
     "iopub.status.idle": "2020-10-14T07:04:01.254177Z",
     "shell.execute_reply": "2020-10-14T07:04:01.253034Z"
    },
    "papermill": {
     "duration": 2.394708,
     "end_time": "2020-10-14T07:04:01.254303",
     "exception": false,
     "start_time": "2020-10-14T07:03:58.859595",
     "status": "completed"
    },
    "tags": []
   },
   "outputs": [],
   "source": [
    "sub[target_feats] = target_pred\n",
    "sub.loc[noncons_test_index,target_feats] = 0\n",
    "sub.to_csv('submission.csv', index=False)"
   ]
  }
 ],
 "metadata": {
  "kernelspec": {
   "display_name": "Python 3",
   "language": "python",
   "name": "python3"
  },
  "language_info": {
   "codemirror_mode": {
    "name": "ipython",
    "version": 3
   },
   "file_extension": ".py",
   "mimetype": "text/x-python",
   "name": "python",
   "nbconvert_exporter": "python",
   "pygments_lexer": "ipython3",
   "version": "3.7.6"
  },
  "papermill": {
   "duration": 340.871194,
   "end_time": "2020-10-14T07:04:02.714314",
   "environment_variables": {},
   "exception": null,
   "input_path": "__notebook__.ipynb",
   "output_path": "__notebook__.ipynb",
   "parameters": {},
   "start_time": "2020-10-14T06:58:21.843120",
   "version": "2.1.0"
  }
 },
 "nbformat": 4,
 "nbformat_minor": 4
}
