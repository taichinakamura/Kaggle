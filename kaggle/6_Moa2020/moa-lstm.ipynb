{
 "cells": [
  {
   "cell_type": "markdown",
   "metadata": {
    "papermill": {
     "duration": 0.012021,
     "end_time": "2020-10-14T08:08:44.581659",
     "exception": false,
     "start_time": "2020-10-14T08:08:44.569638",
     "status": "completed"
    },
    "tags": []
   },
   "source": [
    "- modify lstm structure"
   ]
  },
  {
   "cell_type": "code",
   "execution_count": 1,
   "metadata": {
    "_cell_guid": "b1076dfc-b9ad-4769-8c92-a6c4dae69d19",
    "_uuid": "8f2839f25d086af736a60e9eeb907d3b93b6e0e5",
    "execution": {
     "iopub.execute_input": "2020-10-14T08:08:44.613001Z",
     "iopub.status.busy": "2020-10-14T08:08:44.612183Z",
     "iopub.status.idle": "2020-10-14T08:08:50.764724Z",
     "shell.execute_reply": "2020-10-14T08:08:50.763583Z"
    },
    "papermill": {
     "duration": 6.172206,
     "end_time": "2020-10-14T08:08:50.764849",
     "exception": false,
     "start_time": "2020-10-14T08:08:44.592643",
     "status": "completed"
    },
    "tags": []
   },
   "outputs": [],
   "source": [
    "import os\n",
    "import sys\n",
    "import random\n",
    "import warnings\n",
    "import numpy as np\n",
    "import pandas as pd \n",
    "from sklearn import preprocessing\n",
    "from sklearn.metrics import log_loss, mean_squared_error\n",
    "from sklearn.decomposition import PCA\n",
    "from tqdm import tqdm_notebook as tqdm\n",
    "from sklearn.multioutput import MultiOutputClassifier\n",
    "from sklearn.feature_selection import VarianceThreshold\n",
    "\n",
    "sys.path.append('../input/multilabelstraifier/')\n",
    "sys.path.append('../input/lookahead/')\n",
    "from ml_stratifiers import MultilabelStratifiedKFold\n",
    "from lookahead import Lookahead\n",
    "warnings.filterwarnings('ignore')\n",
    "\n",
    "import time\n",
    "import torch\n",
    "import torch.nn as nn\n",
    "import torch.optim as optim\n",
    "import torch.nn.functional as F\n",
    "import tensorflow as tf"
   ]
  },
  {
   "cell_type": "code",
   "execution_count": 2,
   "metadata": {
    "_cell_guid": "79c7e3d0-c299-4dcb-8224-4455121ee9b0",
    "_uuid": "d629ff2d2480ee46fbb7e2d37f6b5fab8052498a",
    "execution": {
     "iopub.execute_input": "2020-10-14T08:08:50.799995Z",
     "iopub.status.busy": "2020-10-14T08:08:50.799116Z",
     "iopub.status.idle": "2020-10-14T08:08:57.491555Z",
     "shell.execute_reply": "2020-10-14T08:08:57.490050Z"
    },
    "papermill": {
     "duration": 6.715501,
     "end_time": "2020-10-14T08:08:57.491679",
     "exception": false,
     "start_time": "2020-10-14T08:08:50.776178",
     "status": "completed"
    },
    "tags": []
   },
   "outputs": [],
   "source": [
    "DATA_DIR = '/kaggle/input/lish-moa/'\n",
    "train = pd.read_csv(DATA_DIR + 'train_features.csv')\n",
    "targets = pd.read_csv(DATA_DIR + 'train_targets_scored.csv')\n",
    "non_targets = pd.read_csv(DATA_DIR + 'train_targets_nonscored.csv')\n",
    "test = pd.read_csv(DATA_DIR + 'test_features.csv')\n",
    "sub = pd.read_csv(DATA_DIR + 'sample_submission.csv')"
   ]
  },
  {
   "cell_type": "code",
   "execution_count": 3,
   "metadata": {
    "execution": {
     "iopub.execute_input": "2020-10-14T08:08:57.521723Z",
     "iopub.status.busy": "2020-10-14T08:08:57.519950Z",
     "iopub.status.idle": "2020-10-14T08:08:57.522482Z",
     "shell.execute_reply": "2020-10-14T08:08:57.523040Z"
    },
    "papermill": {
     "duration": 0.020558,
     "end_time": "2020-10-14T08:08:57.523167",
     "exception": false,
     "start_time": "2020-10-14T08:08:57.502609",
     "status": "completed"
    },
    "tags": []
   },
   "outputs": [],
   "source": [
    "target_feats = [ i for i in targets.columns if i != \"sig_id\"]\n",
    "g_feats = [i for i in train.columns if \"g-\" in i]\n",
    "c_feats = [i for i in train.columns if \"c-\" in i]"
   ]
  },
  {
   "cell_type": "code",
   "execution_count": 4,
   "metadata": {
    "execution": {
     "iopub.execute_input": "2020-10-14T08:08:57.557783Z",
     "iopub.status.busy": "2020-10-14T08:08:57.556951Z",
     "iopub.status.idle": "2020-10-14T08:08:57.649626Z",
     "shell.execute_reply": "2020-10-14T08:08:57.649055Z"
    },
    "papermill": {
     "duration": 0.113259,
     "end_time": "2020-10-14T08:08:57.649743",
     "exception": false,
     "start_time": "2020-10-14T08:08:57.536484",
     "status": "completed"
    },
    "tags": []
   },
   "outputs": [],
   "source": [
    "noncons_train_index = train[train.cp_type==\"ctl_vehicle\"].index\n",
    "cons_train_index = train[train.cp_type!=\"ctl_vehicle\"].index\n",
    "noncons_test_index = test[test.cp_type==\"ctl_vehicle\"].index\n",
    "cons_test_index = test[test.cp_type!=\"ctl_vehicle\"].index"
   ]
  },
  {
   "cell_type": "markdown",
   "metadata": {
    "papermill": {
     "duration": 0.010924,
     "end_time": "2020-10-14T08:08:57.671644",
     "exception": false,
     "start_time": "2020-10-14T08:08:57.660720",
     "status": "completed"
    },
    "tags": []
   },
   "source": [
    "# preprocess"
   ]
  },
  {
   "cell_type": "code",
   "execution_count": 5,
   "metadata": {
    "execution": {
     "iopub.execute_input": "2020-10-14T08:08:57.706125Z",
     "iopub.status.busy": "2020-10-14T08:08:57.705100Z",
     "iopub.status.idle": "2020-10-14T08:08:58.003179Z",
     "shell.execute_reply": "2020-10-14T08:08:58.002670Z"
    },
    "papermill": {
     "duration": 0.320954,
     "end_time": "2020-10-14T08:08:58.003308",
     "exception": false,
     "start_time": "2020-10-14T08:08:57.682354",
     "status": "completed"
    },
    "tags": []
   },
   "outputs": [],
   "source": [
    "train = train[train.index.isin(cons_train_index)].copy().reset_index(drop=True)\n",
    "targets = targets[targets.index.isin(cons_train_index)].copy().reset_index(drop=True)\n",
    "non_targets = non_targets[non_targets.index.isin(cons_train_index)].copy().reset_index(drop=True)"
   ]
  },
  {
   "cell_type": "markdown",
   "metadata": {
    "papermill": {
     "duration": 0.010877,
     "end_time": "2020-10-14T08:08:58.025579",
     "exception": false,
     "start_time": "2020-10-14T08:08:58.014702",
     "status": "completed"
    },
    "tags": []
   },
   "source": [
    "# feature engineering"
   ]
  },
  {
   "cell_type": "code",
   "execution_count": 6,
   "metadata": {
    "execution": {
     "iopub.execute_input": "2020-10-14T08:08:58.057540Z",
     "iopub.status.busy": "2020-10-14T08:08:58.056226Z",
     "iopub.status.idle": "2020-10-14T08:08:58.190777Z",
     "shell.execute_reply": "2020-10-14T08:08:58.191269Z"
    },
    "papermill": {
     "duration": 0.154393,
     "end_time": "2020-10-14T08:08:58.191440",
     "exception": false,
     "start_time": "2020-10-14T08:08:58.037047",
     "status": "completed"
    },
    "tags": []
   },
   "outputs": [
    {
     "name": "stdout",
     "output_type": "stream",
     "text": [
      "(21948, 872) (3982, 872)\n"
     ]
    }
   ],
   "source": [
    "def fe(df):\n",
    "    tmp = df.copy()\n",
    "    #tmp['g_sum'] = tmp[g_feats].sum(axis = 1)\n",
    "    #tmp['g_mean'] = tmp[g_feats].mean(axis = 1)\n",
    "    #tmp['g_std'] = tmp[g_feats].std(axis = 1)\n",
    "    #tmp['g_kurt'] = tmp[g_feats].kurtosis(axis = 1)\n",
    "    #tmp['g_skew'] = tmp[g_feats].skew(axis = 1)\n",
    "    #tmp['c_sum'] = tmp[c_feats].sum(axis = 1)\n",
    "    #tmp['c_mean'] = tmp[c_feats].mean(axis = 1)\n",
    "    #tmp['c_std'] = tmp[c_feats].std(axis = 1)\n",
    "    #tmp['c_kurt'] = tmp[c_feats].kurtosis(axis = 1)\n",
    "    #tmp['c_skew'] = tmp[c_feats].skew(axis = 1)\n",
    "    #tmp['gc_sum'] = tmp[c_feats + g_feats].sum(axis = 1)\n",
    "    #tmp['gc_mean'] = tmp[c_feats + g_feats].mean(axis = 1)\n",
    "    #tmp['gc_std'] = tmp[c_feats + g_feats].std(axis = 1)\n",
    "    #tmp['gc_kurt'] = tmp[c_feats + g_feats].kurtosis(axis = 1)\n",
    "    #tmp['gc_skew'] = tmp[c_feats + g_feats].skew(axis = 1)\n",
    "    tmp.loc[:, 'cp_dose'] = tmp.loc[:, 'cp_dose'].map({'D1': 0, 'D2': 1})\n",
    "        \n",
    "    tmp.drop([\"cp_type\", \"sig_id\", \"cp_time\", \"cp_dose\"], axis=1, inplace=True)\n",
    "    return tmp\n",
    "\n",
    "f_train = fe(train)\n",
    "f_test = fe(test)\n",
    "\n",
    "print(f_train.shape, f_test.shape)"
   ]
  },
  {
   "cell_type": "code",
   "execution_count": 7,
   "metadata": {
    "execution": {
     "iopub.execute_input": "2020-10-14T08:08:58.223374Z",
     "iopub.status.busy": "2020-10-14T08:08:58.222143Z",
     "iopub.status.idle": "2020-10-14T08:08:59.318389Z",
     "shell.execute_reply": "2020-10-14T08:08:59.317815Z"
    },
    "papermill": {
     "duration": 1.114817,
     "end_time": "2020-10-14T08:08:59.318500",
     "exception": false,
     "start_time": "2020-10-14T08:08:58.203683",
     "status": "completed"
    },
    "tags": []
   },
   "outputs": [],
   "source": [
    "fn_train = f_train.copy().to_numpy()\n",
    "fn_test = f_test.copy().to_numpy()\n",
    "\n",
    "ss = preprocessing.RobustScaler()\n",
    "fn_train= ss.fit_transform(fn_train)\n",
    "fn_test = ss.transform(fn_test)\n",
    "\n",
    "fn_nontargets = non_targets.drop(\"sig_id\", axis=1).copy().to_numpy()\n",
    "fn_targets = targets.drop(\"sig_id\", axis=1).copy().to_numpy()"
   ]
  },
  {
   "cell_type": "code",
   "execution_count": 8,
   "metadata": {
    "execution": {
     "iopub.execute_input": "2020-10-14T08:08:59.359532Z",
     "iopub.status.busy": "2020-10-14T08:08:59.357640Z",
     "iopub.status.idle": "2020-10-14T08:08:59.360247Z",
     "shell.execute_reply": "2020-10-14T08:08:59.360728Z"
    },
    "papermill": {
     "duration": 0.030467,
     "end_time": "2020-10-14T08:08:59.360837",
     "exception": false,
     "start_time": "2020-10-14T08:08:59.330370",
     "status": "completed"
    },
    "tags": []
   },
   "outputs": [],
   "source": [
    "class CFG:\n",
    "    max_grad_norm = 1000\n",
    "    gradient_accumulation_steps = 1\n",
    "    hidden_size = 1024\n",
    "    dropout = 0.5\n",
    "    lr = 1e-2\n",
    "    weight_decay = 1e-6\n",
    "    batch_size = 256\n",
    "    epochs = 20\n",
    "    # total_cate_size=5\n",
    "    # emb_size=4\n",
    "    #num_features = num_features\n",
    "    #cat_features = cat_features\n",
    "    #target_cols = target_cols\n",
    "    target_length = 206\n",
    "\n",
    "class myLSTM(nn.Module):\n",
    "    def __init__(self, cfg):\n",
    "        super().__init__()\n",
    "\n",
    "        self.gru_hidden_size = 64\n",
    "        self.lstm_hidden_size = 772\n",
    "        self.c_lstm_hidden_size = 100\n",
    "        self.layer_num = 1\n",
    "        \n",
    "        self.hidden_dim = 512\n",
    "        self.hidden_dim_c = 5\n",
    "        \n",
    "        self.lstm = nn.LSTM(self.lstm_hidden_size, self.hidden_dim, batch_first=True, bidirectional=True, num_layers=self.layer_num)\n",
    "        self.c_lstm = nn.LSTM(self.c_lstm_hidden_size, self.hidden_dim_c, batch_first=True, bidirectional=True, num_layers=self.layer_num)\n",
    "        \n",
    "        self.dropout = nn.Dropout(0.1)\n",
    "        self.out = nn.Linear((self.hidden_dim+self.hidden_dim_c) * 2 , cfg.target_length)\n",
    "\n",
    "    def forward(self, cont_g, cont_c): \n",
    "        cont_g = torch.unsqueeze(cont_g, 1)\n",
    "        h_lstm, lstm_out = self.lstm(cont_g) # h_lstm: 128 * 1 * (2 * 256)\n",
    "        conc_g = h_lstm.view(-1, self.hidden_dim * self.layer_num * 2)\n",
    "        \n",
    "        cont_c = torch.unsqueeze(cont_c, 1)\n",
    "        h_lstm_c, lstm_out_c = self.c_lstm(cont_c) # h_lstm: 128 * 1 * (2 * 5)\n",
    "        conc_c = h_lstm_c.view(-1, self.hidden_dim_c * self.layer_num * 2)\n",
    "        \n",
    "        conc = torch.cat((conc_g, conc_c),1)\n",
    "        \n",
    "        dropped = self.dropout(conc)\n",
    "        out = self.out(dropped)\n",
    "        return out"
   ]
  },
  {
   "cell_type": "code",
   "execution_count": 9,
   "metadata": {
    "execution": {
     "iopub.execute_input": "2020-10-14T08:08:59.409527Z",
     "iopub.status.busy": "2020-10-14T08:08:59.398198Z",
     "iopub.status.idle": "2020-10-14T08:08:59.787056Z",
     "shell.execute_reply": "2020-10-14T08:08:59.786125Z"
    },
    "papermill": {
     "duration": 0.414225,
     "end_time": "2020-10-14T08:08:59.787191",
     "exception": false,
     "start_time": "2020-10-14T08:08:59.372966",
     "status": "completed"
    },
    "tags": []
   },
   "outputs": [
    {
     "name": "stdout",
     "output_type": "stream",
     "text": [
      "cuda\n"
     ]
    }
   ],
   "source": [
    "batch_size = 256\n",
    "train_epochs = 30\n",
    "n_folds=5\n",
    "EARLY_STOPPING_STEPS = 10\n",
    "\n",
    "device = \"cuda\" if torch.cuda.is_available() else \"cpu\"\n",
    "print(device)\n",
    "def mean_log_loss(y_true, y_pred):\n",
    "    metrics = []\n",
    "    for i, target in enumerate(target_feats):\n",
    "        metrics.append(log_loss(y_true[:, i], y_pred[:, i].astype(float), labels=[0,1]))\n",
    "    return np.mean(metrics)\n",
    "\n",
    "def seed_everything(seed=1234): \n",
    "    random.seed(seed)\n",
    "    os.environ['PYTHONHASHSEED'] = str(seed)\n",
    "    tf.random.set_seed(seed)\n",
    "    np.random.seed(seed)\n",
    "    torch.manual_seed(seed)\n",
    "    torch.cuda.manual_seed(seed)\n",
    "    torch.backends.cudnn.deterministic = True\n",
    "\n",
    "def modelling_lstm(tr, target, te, sample_seed, init_num, last_num, files):\n",
    "    seed_everything(seed=sample_seed) \n",
    "    X_train = tr.copy()\n",
    "    y_train = target.copy()\n",
    "    X_test = te.copy()\n",
    "    test_len = X_test.shape[0]\n",
    "\n",
    "    mskf=MultilabelStratifiedKFold(n_splits = n_folds, shuffle=True, random_state=2)\n",
    "    models = []\n",
    "    \n",
    "    X_test_g = torch.tensor(X_test[:,:772], dtype=torch.float32)\n",
    "    X_test_c = torch.tensor(X_test[:,772:], dtype=torch.float32)\n",
    "    X_test = torch.utils.data.TensorDataset(X_test_g, X_test_c) \n",
    "    test_loader = torch.utils.data.DataLoader(X_test, batch_size=batch_size, shuffle=False)\n",
    "    \n",
    "    oof = np.zeros([len(X_train),y_train.shape[1]])\n",
    "    oof_targets = np.zeros([len(X_train),y_train.shape[1]])\n",
    "    pred_value = np.zeros([test_len, y_train.shape[1]])\n",
    "    scores = []\n",
    "    \n",
    "    for fold, (train_index, valid_index) in enumerate(mskf.split(X_train, y_train)):\n",
    "        print(\"Fold \"+str(fold+1))\n",
    "        X_train2_g = torch.tensor(X_train[train_index,:772], dtype=torch.float32)\n",
    "        X_valid2_g = torch.tensor(X_train[valid_index,:772], dtype=torch.float32)\n",
    "        X_train2_c = torch.tensor(X_train[train_index,772:], dtype=torch.float32)\n",
    "        X_valid2_c = torch.tensor(X_train[valid_index,772:], dtype=torch.float32)\n",
    "        \n",
    "        y_train2 = torch.tensor(y_train[train_index], dtype=torch.float32)\n",
    "        y_valid2 = torch.tensor(y_train[valid_index], dtype=torch.float32)\n",
    "            \n",
    "        clf = myLSTM(CFG)\n",
    "        if files != []:\n",
    "            clf.load_state_dict(torch.load(files[fold]))\n",
    "        loss_fn = torch.nn.BCEWithLogitsLoss() \n",
    "        optimizer = optim.Adam(clf.parameters(), lr = 0.01, weight_decay=1e-5) \n",
    "        #lookahead = Lookahead(optimizer, k=10, alpha=0.6) #lookahead\n",
    "        scheduler = optim.lr_scheduler.ReduceLROnPlateau(optimizer, mode='min', factor=0.1, patience=3, eps=1e-4, verbose=True)\n",
    "        \n",
    "        train = torch.utils.data.TensorDataset(X_train2_g, X_train2_c, y_train2)\n",
    "        valid = torch.utils.data.TensorDataset(X_valid2_g, X_valid2_c, y_valid2)\n",
    "        \n",
    "        clf.to(device)\n",
    "        \n",
    "        train_loader = torch.utils.data.DataLoader(train, batch_size=batch_size, shuffle=True) \n",
    "        valid_loader = torch.utils.data.DataLoader(valid, batch_size=batch_size, shuffle=False)\n",
    "        \n",
    "        best_val_loss = np.inf\n",
    "        stop_counts = 0\n",
    "        for epoch in range(train_epochs):\n",
    "            start_time = time.time()\n",
    "            clf.train()\n",
    "            avg_loss = 0.\n",
    "            for x_batch_g, x_batch_c, y_batch in tqdm(train_loader, disable=True):\n",
    "                x_batch_g = x_batch_g.to(device)\n",
    "                x_batch_c = x_batch_c.to(device)\n",
    "                y_batch = y_batch.to(device)\n",
    "                y_pred = clf(x_batch_g, x_batch_c) \n",
    "                loss = loss_fn(y_pred, y_batch)\n",
    "                optimizer.zero_grad()\n",
    "                loss.backward()\n",
    "                optimizer.step()\n",
    "                avg_loss += loss.item() / len(train_loader)        \n",
    "            \n",
    "            clf.eval()\n",
    "            avg_val_loss = 0.\n",
    "            for i, (x_batch_g, x_batch_c, y_batch) in enumerate(valid_loader): \n",
    "                x_batch_g = x_batch_g.to(device)\n",
    "                x_batch_c = x_batch_c.to(device)\n",
    "                y_batch = y_batch.to(device)\n",
    "                y_pred = clf(x_batch_g, x_batch_c) .detach()\n",
    "                avg_val_loss += loss_fn(y_pred, y_batch).item() / len(valid_loader)\n",
    "                \n",
    "            elapsed_time = time.time() - start_time \n",
    "            scheduler.step(avg_val_loss)\n",
    "                    \n",
    "            if avg_val_loss < best_val_loss:\n",
    "                stop_counts = 0\n",
    "                best_val_loss = avg_val_loss\n",
    "                print('Best model: Epoch {} \\t loss={:.6f} \\t val_loss={:.6f} \\t time={:.2f}s'.format(\n",
    "                    epoch + 1, avg_loss, avg_val_loss, elapsed_time))\n",
    "                torch.save(clf.state_dict(), 'best-model-parameters.pt')\n",
    "            else:\n",
    "                stop_counts += 1\n",
    "        \n",
    "            #if stop_counts >= EARLY_STOPPING_STEPS: \n",
    "            #    break\n",
    "         \n",
    "        pred_model = myLSTM(CFG)\n",
    "        pred_model.load_state_dict(torch.load('best-model-parameters.pt'))\n",
    "        pred_model.eval()\n",
    "        \n",
    "        # validation check ----------------\n",
    "        oof_epoch = np.zeros([X_valid2_g.size(0), y_train.shape[1]])\n",
    "        target_epoch = np.zeros([X_valid2_g.size(0), y_train.shape[1]])\n",
    "        for i, (x_batch_g, x_batch_c, y_batch) in enumerate(valid_loader): \n",
    "                y_pred = pred_model(x_batch_g, x_batch_c).sigmoid().detach()\n",
    "                oof_epoch[i * batch_size:(i+1) * batch_size,:] = y_pred.cpu().numpy()\n",
    "                target_epoch[i * batch_size:(i+1) * batch_size,:] = y_batch.cpu().numpy()\n",
    "        print(\"Fold {} log loss: {}\".format(fold+1, mean_log_loss(target_epoch, oof_epoch)))\n",
    "        scores.append(mean_log_loss(target_epoch, oof_epoch))\n",
    "        oof[valid_index,:] = oof_epoch\n",
    "        oof_targets[valid_index,:] = target_epoch\n",
    "        #-----------------------------------\n",
    "        \n",
    "        # test predcition --------------\n",
    "        test_preds = np.zeros([test_len, y_train.shape[1]])\n",
    "        for i, (x_batch_g,x_batch_c, ) in enumerate(test_loader): \n",
    "            y_pred = pred_model(x_batch_g,x_batch_c).sigmoid().detach()\n",
    "            test_preds[i * batch_size:(i+1) * batch_size, :] = y_pred.cpu().numpy()\n",
    "        pred_value += test_preds / n_folds\n",
    "        # ------------------------------\n",
    "        \n",
    "    print(\"Seed {}\".format(seed_))\n",
    "    for i, ele in enumerate(scores):\n",
    "        print(\"Fold {} log loss: {}\".format(i+1, scores[i]))\n",
    "    print(\"Std of log loss: {}\".format(np.std(scores)))\n",
    "    print(\"Total log loss: {}\".format(mean_log_loss(oof_targets, oof)))\n",
    "\n",
    "    return oof, oof_targets, pred_value"
   ]
  },
  {
   "cell_type": "code",
   "execution_count": 10,
   "metadata": {
    "execution": {
     "iopub.execute_input": "2020-10-14T08:08:59.823234Z",
     "iopub.status.busy": "2020-10-14T08:08:59.821879Z",
     "iopub.status.idle": "2020-10-14T08:16:30.462133Z",
     "shell.execute_reply": "2020-10-14T08:16:30.462956Z"
    },
    "papermill": {
     "duration": 450.662955,
     "end_time": "2020-10-14T08:16:30.463103",
     "exception": false,
     "start_time": "2020-10-14T08:08:59.800148",
     "status": "completed"
    },
    "tags": []
   },
   "outputs": [
    {
     "name": "stdout",
     "output_type": "stream",
     "text": [
      "Fold 1\n",
      "Best model: Epoch 1 \t loss=0.046884 \t val_loss=0.019841 \t time=0.77s\n",
      "Best model: Epoch 2 \t loss=0.018874 \t val_loss=0.018919 \t time=0.67s\n",
      "Best model: Epoch 3 \t loss=0.018093 \t val_loss=0.018408 \t time=0.67s\n",
      "Best model: Epoch 4 \t loss=0.017726 \t val_loss=0.018062 \t time=0.68s\n",
      "Best model: Epoch 7 \t loss=0.017673 \t val_loss=0.018046 \t time=0.65s\n",
      "Epoch    11: reducing learning rate of group 0 to 1.0000e-03.\n",
      "Best model: Epoch 12 \t loss=0.016053 \t val_loss=0.016843 \t time=0.65s\n",
      "Best model: Epoch 13 \t loss=0.015154 \t val_loss=0.016700 \t time=0.65s\n",
      "Best model: Epoch 14 \t loss=0.014767 \t val_loss=0.016630 \t time=0.66s\n",
      "Best model: Epoch 16 \t loss=0.014193 \t val_loss=0.016583 \t time=0.67s\n",
      "Epoch    20: reducing learning rate of group 0 to 1.0000e-04.\n",
      "Best model: Epoch 21 \t loss=0.012330 \t val_loss=0.016533 \t time=0.66s\n",
      "Best model: Epoch 22 \t loss=0.012166 \t val_loss=0.016517 \t time=0.64s\n",
      "Best model: Epoch 23 \t loss=0.012085 \t val_loss=0.016514 \t time=0.64s\n",
      "Fold 1 log loss: 0.0167510880077185\n",
      "Fold 2\n",
      "Best model: Epoch 1 \t loss=0.045969 \t val_loss=0.019904 \t time=0.69s\n",
      "Best model: Epoch 2 \t loss=0.018818 \t val_loss=0.018805 \t time=0.86s\n",
      "Best model: Epoch 3 \t loss=0.018102 \t val_loss=0.018545 \t time=0.73s\n",
      "Best model: Epoch 4 \t loss=0.017754 \t val_loss=0.018168 \t time=1.22s\n",
      "Best model: Epoch 5 \t loss=0.017600 \t val_loss=0.018087 \t time=0.79s\n",
      "Best model: Epoch 8 \t loss=0.017642 \t val_loss=0.017997 \t time=0.66s\n",
      "Epoch    12: reducing learning rate of group 0 to 1.0000e-03.\n",
      "Best model: Epoch 13 \t loss=0.016123 \t val_loss=0.016906 \t time=0.68s\n",
      "Best model: Epoch 14 \t loss=0.015175 \t val_loss=0.016768 \t time=0.88s\n",
      "Best model: Epoch 15 \t loss=0.014747 \t val_loss=0.016676 \t time=0.77s\n",
      "Best model: Epoch 16 \t loss=0.014449 \t val_loss=0.016655 \t time=0.65s\n",
      "Epoch    20: reducing learning rate of group 0 to 1.0000e-04.\n",
      "Best model: Epoch 21 \t loss=0.012541 \t val_loss=0.016579 \t time=0.65s\n",
      "Best model: Epoch 22 \t loss=0.012383 \t val_loss=0.016555 \t time=0.64s\n",
      "Fold 2 log loss: 0.016686092290233157\n",
      "Fold 3\n",
      "Best model: Epoch 1 \t loss=0.046027 \t val_loss=0.020300 \t time=0.65s\n",
      "Best model: Epoch 2 \t loss=0.019042 \t val_loss=0.019413 \t time=0.64s\n",
      "Best model: Epoch 3 \t loss=0.018342 \t val_loss=0.018593 \t time=0.64s\n",
      "Best model: Epoch 4 \t loss=0.017870 \t val_loss=0.018330 \t time=0.66s\n",
      "Best model: Epoch 5 \t loss=0.017774 \t val_loss=0.018306 \t time=0.66s\n",
      "Best model: Epoch 6 \t loss=0.017784 \t val_loss=0.018203 \t time=0.64s\n",
      "Epoch    10: reducing learning rate of group 0 to 1.0000e-03.\n",
      "Best model: Epoch 11 \t loss=0.016181 \t val_loss=0.016943 \t time=0.65s\n",
      "Best model: Epoch 12 \t loss=0.015330 \t val_loss=0.016790 \t time=0.65s\n",
      "Best model: Epoch 13 \t loss=0.014915 \t val_loss=0.016713 \t time=0.66s\n",
      "Best model: Epoch 14 \t loss=0.014619 \t val_loss=0.016686 \t time=0.83s\n",
      "Best model: Epoch 15 \t loss=0.014359 \t val_loss=0.016662 \t time=0.82s\n",
      "Best model: Epoch 16 \t loss=0.014084 \t val_loss=0.016661 \t time=0.66s\n",
      "Best model: Epoch 17 \t loss=0.013830 \t val_loss=0.016619 \t time=0.66s\n",
      "Epoch    21: reducing learning rate of group 0 to 1.0000e-04.\n",
      "Best model: Epoch 23 \t loss=0.011667 \t val_loss=0.016585 \t time=0.64s\n",
      "Fold 3 log loss: 0.01659187478285596\n",
      "Fold 4\n",
      "Best model: Epoch 1 \t loss=0.046277 \t val_loss=0.020100 \t time=0.79s\n",
      "Best model: Epoch 2 \t loss=0.018954 \t val_loss=0.018700 \t time=0.67s\n",
      "Best model: Epoch 3 \t loss=0.018074 \t val_loss=0.018221 \t time=0.65s\n",
      "Best model: Epoch 4 \t loss=0.017798 \t val_loss=0.017989 \t time=0.66s\n",
      "Best model: Epoch 6 \t loss=0.017653 \t val_loss=0.017986 \t time=0.93s\n",
      "Best model: Epoch 7 \t loss=0.017678 \t val_loss=0.017924 \t time=0.72s\n",
      "Epoch    11: reducing learning rate of group 0 to 1.0000e-03.\n",
      "Best model: Epoch 12 \t loss=0.016132 \t val_loss=0.016789 \t time=0.65s\n",
      "Best model: Epoch 13 \t loss=0.015187 \t val_loss=0.016639 \t time=0.65s\n",
      "Best model: Epoch 14 \t loss=0.014816 \t val_loss=0.016594 \t time=0.65s\n",
      "Best model: Epoch 15 \t loss=0.014482 \t val_loss=0.016592 \t time=0.66s\n",
      "Best model: Epoch 16 \t loss=0.014179 \t val_loss=0.016580 \t time=0.65s\n",
      "Best model: Epoch 17 \t loss=0.013927 \t val_loss=0.016580 \t time=0.66s\n",
      "Epoch    20: reducing learning rate of group 0 to 1.0000e-04.\n",
      "Best model: Epoch 21 \t loss=0.012263 \t val_loss=0.016529 \t time=0.65s\n",
      "Best model: Epoch 22 \t loss=0.012120 \t val_loss=0.016511 \t time=0.70s\n",
      "Fold 4 log loss: 0.016670963692561915\n",
      "Fold 5\n",
      "Best model: Epoch 1 \t loss=0.046628 \t val_loss=0.020210 \t time=0.66s\n",
      "Best model: Epoch 2 \t loss=0.018976 \t val_loss=0.019172 \t time=0.66s\n",
      "Best model: Epoch 3 \t loss=0.018069 \t val_loss=0.018614 \t time=0.67s\n",
      "Best model: Epoch 4 \t loss=0.017729 \t val_loss=0.018303 \t time=0.99s\n",
      "Best model: Epoch 5 \t loss=0.017687 \t val_loss=0.018283 \t time=0.66s\n",
      "Best model: Epoch 6 \t loss=0.017548 \t val_loss=0.018118 \t time=0.65s\n",
      "Epoch    10: reducing learning rate of group 0 to 1.0000e-03.\n",
      "Best model: Epoch 11 \t loss=0.016028 \t val_loss=0.017105 \t time=0.64s\n",
      "Best model: Epoch 12 \t loss=0.015154 \t val_loss=0.016963 \t time=0.64s\n",
      "Best model: Epoch 13 \t loss=0.014769 \t val_loss=0.016915 \t time=0.64s\n",
      "Best model: Epoch 14 \t loss=0.014473 \t val_loss=0.016873 \t time=0.64s\n",
      "Best model: Epoch 15 \t loss=0.014190 \t val_loss=0.016822 \t time=0.66s\n",
      "Epoch    19: reducing learning rate of group 0 to 1.0000e-04.\n",
      "Best model: Epoch 20 \t loss=0.012347 \t val_loss=0.016793 \t time=0.92s\n",
      "Best model: Epoch 21 \t loss=0.012191 \t val_loss=0.016779 \t time=0.78s\n",
      "Best model: Epoch 22 \t loss=0.012111 \t val_loss=0.016776 \t time=0.66s\n",
      "Best model: Epoch 23 \t loss=0.012050 \t val_loss=0.016770 \t time=0.65s\n",
      "Fold 5 log loss: 0.016766152582996845\n",
      "Seed 10\n",
      "Fold 1 log loss: 0.0167510880077185\n",
      "Fold 2 log loss: 0.016686092290233157\n",
      "Fold 3 log loss: 0.01659187478285596\n",
      "Fold 4 log loss: 0.016670963692561915\n",
      "Fold 5 log loss: 0.016766152582996845\n",
      "Std of log loss: 6.242574383509638e-05\n",
      "Total log loss: 0.01669323127435644\n",
      "Fold 1\n",
      "Best model: Epoch 1 \t loss=0.046040 \t val_loss=0.019889 \t time=0.64s\n",
      "Best model: Epoch 2 \t loss=0.018992 \t val_loss=0.018844 \t time=0.68s\n",
      "Best model: Epoch 3 \t loss=0.018150 \t val_loss=0.018344 \t time=0.64s\n",
      "Best model: Epoch 5 \t loss=0.017617 \t val_loss=0.018143 \t time=0.63s\n",
      "Best model: Epoch 6 \t loss=0.017622 \t val_loss=0.018013 \t time=0.65s\n",
      "Best model: Epoch 7 \t loss=0.017624 \t val_loss=0.017919 \t time=0.98s\n",
      "Epoch    11: reducing learning rate of group 0 to 1.0000e-03.\n",
      "Best model: Epoch 12 \t loss=0.016131 \t val_loss=0.016837 \t time=0.65s\n",
      "Best model: Epoch 13 \t loss=0.015183 \t val_loss=0.016653 \t time=0.65s\n",
      "Best model: Epoch 14 \t loss=0.014790 \t val_loss=0.016594 \t time=0.65s\n",
      "Best model: Epoch 15 \t loss=0.014505 \t val_loss=0.016579 \t time=0.65s\n",
      "Best model: Epoch 17 \t loss=0.013925 \t val_loss=0.016572 \t time=0.65s\n",
      "Epoch    21: reducing learning rate of group 0 to 1.0000e-04.\n",
      "Best model: Epoch 22 \t loss=0.012046 \t val_loss=0.016553 \t time=0.68s\n",
      "Best model: Epoch 23 \t loss=0.011908 \t val_loss=0.016531 \t time=0.84s\n",
      "Fold 1 log loss: 0.016753871106879252\n",
      "Fold 2\n",
      "Best model: Epoch 1 \t loss=0.046010 \t val_loss=0.020038 \t time=0.91s\n",
      "Best model: Epoch 2 \t loss=0.018927 \t val_loss=0.018904 \t time=0.94s\n",
      "Best model: Epoch 3 \t loss=0.018132 \t val_loss=0.018499 \t time=0.73s\n",
      "Best model: Epoch 4 \t loss=0.017778 \t val_loss=0.018155 \t time=0.65s\n",
      "Best model: Epoch 5 \t loss=0.017645 \t val_loss=0.018080 \t time=0.66s\n",
      "Best model: Epoch 8 \t loss=0.017781 \t val_loss=0.017960 \t time=0.80s\n",
      "Epoch    12: reducing learning rate of group 0 to 1.0000e-03.\n",
      "Best model: Epoch 13 \t loss=0.016148 \t val_loss=0.016916 \t time=0.65s\n",
      "Best model: Epoch 14 \t loss=0.015221 \t val_loss=0.016785 \t time=0.73s\n",
      "Best model: Epoch 15 \t loss=0.014850 \t val_loss=0.016714 \t time=0.66s\n",
      "Best model: Epoch 16 \t loss=0.014516 \t val_loss=0.016689 \t time=0.78s\n",
      "Best model: Epoch 17 \t loss=0.014266 \t val_loss=0.016646 \t time=0.64s\n",
      "Epoch    21: reducing learning rate of group 0 to 1.0000e-04.\n",
      "Best model: Epoch 22 \t loss=0.012364 \t val_loss=0.016578 \t time=0.64s\n",
      "Best model: Epoch 23 \t loss=0.012199 \t val_loss=0.016575 \t time=0.65s\n",
      "Fold 2 log loss: 0.01671474926153245\n",
      "Fold 3\n",
      "Best model: Epoch 1 \t loss=0.047117 \t val_loss=0.020417 \t time=0.65s\n",
      "Best model: Epoch 2 \t loss=0.019047 \t val_loss=0.019409 \t time=0.65s\n",
      "Best model: Epoch 3 \t loss=0.018129 \t val_loss=0.018643 \t time=0.65s\n",
      "Best model: Epoch 4 \t loss=0.017789 \t val_loss=0.018500 \t time=0.64s\n",
      "Best model: Epoch 5 \t loss=0.017754 \t val_loss=0.018121 \t time=0.79s\n",
      "Epoch     9: reducing learning rate of group 0 to 1.0000e-03.\n",
      "Best model: Epoch 10 \t loss=0.016099 \t val_loss=0.016930 \t time=0.65s\n",
      "Best model: Epoch 11 \t loss=0.015199 \t val_loss=0.016755 \t time=0.64s\n",
      "Best model: Epoch 12 \t loss=0.014807 \t val_loss=0.016712 \t time=0.64s\n",
      "Best model: Epoch 13 \t loss=0.014505 \t val_loss=0.016681 \t time=0.64s\n",
      "Best model: Epoch 14 \t loss=0.014246 \t val_loss=0.016668 \t time=0.76s\n",
      "Best model: Epoch 15 \t loss=0.013980 \t val_loss=0.016651 \t time=0.65s\n",
      "Best model: Epoch 16 \t loss=0.013728 \t val_loss=0.016635 \t time=0.84s\n",
      "Epoch    20: reducing learning rate of group 0 to 1.0000e-04.\n",
      "Best model: Epoch 21 \t loss=0.011787 \t val_loss=0.016614 \t time=0.68s\n",
      "Fold 3 log loss: 0.01661670044586325\n",
      "Fold 4\n",
      "Best model: Epoch 1 \t loss=0.046974 \t val_loss=0.019941 \t time=0.64s\n",
      "Best model: Epoch 2 \t loss=0.019015 \t val_loss=0.018808 \t time=0.64s\n",
      "Best model: Epoch 3 \t loss=0.018026 \t val_loss=0.018157 \t time=0.64s\n",
      "Best model: Epoch 4 \t loss=0.017629 \t val_loss=0.017941 \t time=0.87s\n",
      "Best model: Epoch 5 \t loss=0.017529 \t val_loss=0.017933 \t time=0.66s\n",
      "Best model: Epoch 7 \t loss=0.017529 \t val_loss=0.017923 \t time=0.64s\n",
      "Best model: Epoch 8 \t loss=0.017491 \t val_loss=0.017872 \t time=0.65s\n",
      "Epoch    12: reducing learning rate of group 0 to 1.0000e-03.\n",
      "Best model: Epoch 13 \t loss=0.015940 \t val_loss=0.016752 \t time=0.64s\n",
      "Best model: Epoch 14 \t loss=0.015002 \t val_loss=0.016658 \t time=0.64s\n",
      "Best model: Epoch 15 \t loss=0.014591 \t val_loss=0.016584 \t time=0.85s\n",
      "Best model: Epoch 16 \t loss=0.014276 \t val_loss=0.016529 \t time=0.79s\n",
      "Epoch    20: reducing learning rate of group 0 to 1.0000e-04.\n",
      "Best model: Epoch 21 \t loss=0.012389 \t val_loss=0.016513 \t time=0.66s\n",
      "Best model: Epoch 22 \t loss=0.012259 \t val_loss=0.016488 \t time=0.66s\n",
      "Best model: Epoch 23 \t loss=0.012189 \t val_loss=0.016486 \t time=0.65s\n",
      "Best model: Epoch 24 \t loss=0.012127 \t val_loss=0.016482 \t time=0.65s\n",
      "Fold 4 log loss: 0.016629063947630408\n",
      "Fold 5\n",
      "Best model: Epoch 1 \t loss=0.046650 \t val_loss=0.020072 \t time=0.67s\n",
      "Best model: Epoch 2 \t loss=0.018911 \t val_loss=0.018988 \t time=0.71s\n",
      "Best model: Epoch 3 \t loss=0.018117 \t val_loss=0.018628 \t time=0.69s\n",
      "Best model: Epoch 4 \t loss=0.017857 \t val_loss=0.018549 \t time=0.84s\n",
      "Best model: Epoch 5 \t loss=0.017729 \t val_loss=0.018262 \t time=0.74s\n",
      "Best model: Epoch 6 \t loss=0.017670 \t val_loss=0.018194 \t time=0.69s\n",
      "Epoch    10: reducing learning rate of group 0 to 1.0000e-03.\n",
      "Best model: Epoch 11 \t loss=0.016158 \t val_loss=0.017157 \t time=0.80s\n",
      "Best model: Epoch 12 \t loss=0.015240 \t val_loss=0.016999 \t time=0.69s\n",
      "Best model: Epoch 13 \t loss=0.014866 \t val_loss=0.016922 \t time=0.65s\n",
      "Best model: Epoch 14 \t loss=0.014540 \t val_loss=0.016854 \t time=0.71s\n",
      "Epoch    18: reducing learning rate of group 0 to 1.0000e-04.\n",
      "Best model: Epoch 19 \t loss=0.012658 \t val_loss=0.016770 \t time=0.63s\n",
      "Best model: Epoch 20 \t loss=0.012512 \t val_loss=0.016749 \t time=0.77s\n",
      "Best model: Epoch 21 \t loss=0.012446 \t val_loss=0.016748 \t time=0.64s\n",
      "Fold 5 log loss: 0.016733423062012455\n",
      "Seed 40\n",
      "Fold 1 log loss: 0.016753871106879252\n",
      "Fold 2 log loss: 0.01671474926153245\n",
      "Fold 3 log loss: 0.01661670044586325\n",
      "Fold 4 log loss: 0.016629063947630408\n",
      "Fold 5 log loss: 0.016733423062012455\n",
      "Std of log loss: 5.596904955912831e-05\n",
      "Total log loss: 0.01668955841874775\n",
      "Total log loss in targets: 0.016656022845107192\n"
     ]
    }
   ],
   "source": [
    "seeds = [10,40]\n",
    "#seeds = [0,1,2,3]\n",
    "\n",
    "target_oof = np.zeros([len(fn_train),fn_targets.shape[1]])\n",
    "target_pred = np.zeros([len(fn_test),fn_targets.shape[1]])\n",
    "\n",
    "nontarget_oof = np.zeros([len(fn_train),fn_nontargets.shape[1]])\n",
    "nontarget_pred = np.zeros([len(fn_test),fn_nontargets.shape[1]])\n",
    "\n",
    "for seed_ in seeds:\n",
    "    oof, oof_targets, pytorch_pred = modelling_lstm(fn_train, fn_targets, fn_test, seed_, fn_train.shape[1], fn_targets.shape[1],[])\n",
    "    target_oof += oof / len(seeds)\n",
    "    target_pred += pytorch_pred / len(seeds)\n",
    "print(\"Total log loss in targets: {}\".format(mean_log_loss(oof_targets, target_oof)))\n",
    "\n",
    "#for seed_ in seeds:\n",
    "#    oof, oof_targets, pytorch_pred = modelling_lstm(fn_train, fn_nontargets, fn_test, seed_, fn_train.shape[1], fn_nontargets.shape[1],[])\n",
    "#    nontarget_oof += oof / len(seeds)\n",
    "#    nontarget_pred += pytorch_pred / len(seeds)\n",
    "#print(\"Total log loss in Non targets: {}\".format(mean_log_loss(oof_targets, nontarget_oof)))"
   ]
  },
  {
   "cell_type": "code",
   "execution_count": 11,
   "metadata": {
    "execution": {
     "iopub.execute_input": "2020-10-14T08:16:30.628530Z",
     "iopub.status.busy": "2020-10-14T08:16:30.627554Z",
     "iopub.status.idle": "2020-10-14T08:16:36.556359Z",
     "shell.execute_reply": "2020-10-14T08:16:36.555713Z"
    },
    "papermill": {
     "duration": 6.016829,
     "end_time": "2020-10-14T08:16:36.556466",
     "exception": false,
     "start_time": "2020-10-14T08:16:30.539637",
     "status": "completed"
    },
    "tags": []
   },
   "outputs": [
    {
     "name": "stdout",
     "output_type": "stream",
     "text": [
      "OOF log loss:  0.015350902385336975\n"
     ]
    }
   ],
   "source": [
    "t = pd.read_csv(DATA_DIR + 'train_targets_scored.csv')\n",
    "train_checkscore = t.copy()\n",
    "train_checkscore.loc[train_checkscore.index.isin(cons_train_index),target_feats] = target_oof\n",
    "train_checkscore.loc[train_checkscore.index.isin(noncons_train_index),target_feats] = 0\n",
    "t.drop(\"sig_id\", axis=1, inplace=True)\n",
    "print('OOF log loss: ', log_loss(np.ravel(t), np.ravel(np.array(train_checkscore.iloc[:,1:]))))"
   ]
  },
  {
   "cell_type": "code",
   "execution_count": 12,
   "metadata": {
    "execution": {
     "iopub.execute_input": "2020-10-14T08:16:36.707599Z",
     "iopub.status.busy": "2020-10-14T08:16:36.706739Z",
     "iopub.status.idle": "2020-10-14T08:16:39.038877Z",
     "shell.execute_reply": "2020-10-14T08:16:39.038088Z"
    },
    "papermill": {
     "duration": 2.410432,
     "end_time": "2020-10-14T08:16:39.038991",
     "exception": false,
     "start_time": "2020-10-14T08:16:36.628559",
     "status": "completed"
    },
    "tags": []
   },
   "outputs": [],
   "source": [
    "sub[target_feats] = target_pred\n",
    "sub.loc[noncons_test_index,target_feats] = 0\n",
    "sub.to_csv('submission.csv', index=False)"
   ]
  }
 ],
 "metadata": {
  "kernelspec": {
   "display_name": "Python 3",
   "language": "python",
   "name": "python3"
  },
  "language_info": {
   "codemirror_mode": {
    "name": "ipython",
    "version": 3
   },
   "file_extension": ".py",
   "mimetype": "text/x-python",
   "name": "python",
   "nbconvert_exporter": "python",
   "pygments_lexer": "ipython3",
   "version": "3.7.6"
  },
  "papermill": {
   "duration": 479.82019,
   "end_time": "2020-10-14T08:16:40.651226",
   "environment_variables": {},
   "exception": null,
   "input_path": "__notebook__.ipynb",
   "output_path": "__notebook__.ipynb",
   "parameters": {},
   "start_time": "2020-10-14T08:08:40.831036",
   "version": "2.1.0"
  }
 },
 "nbformat": 4,
 "nbformat_minor": 4
}
