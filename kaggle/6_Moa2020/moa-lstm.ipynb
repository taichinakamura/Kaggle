{
 "cells": [
  {
   "cell_type": "markdown",
   "metadata": {
    "papermill": {
     "duration": 0.012003,
     "end_time": "2020-10-14T01:37:13.833906",
     "exception": false,
     "start_time": "2020-10-14T01:37:13.821903",
     "status": "completed"
    },
    "tags": []
   },
   "source": [
    "- 1st lstm"
   ]
  },
  {
   "cell_type": "code",
   "execution_count": 1,
   "metadata": {
    "_cell_guid": "b1076dfc-b9ad-4769-8c92-a6c4dae69d19",
    "_uuid": "8f2839f25d086af736a60e9eeb907d3b93b6e0e5",
    "execution": {
     "iopub.execute_input": "2020-10-14T01:37:13.866542Z",
     "iopub.status.busy": "2020-10-14T01:37:13.865705Z",
     "iopub.status.idle": "2020-10-14T01:37:20.770286Z",
     "shell.execute_reply": "2020-10-14T01:37:20.769616Z"
    },
    "papermill": {
     "duration": 6.925217,
     "end_time": "2020-10-14T01:37:20.770415",
     "exception": false,
     "start_time": "2020-10-14T01:37:13.845198",
     "status": "completed"
    },
    "tags": []
   },
   "outputs": [],
   "source": [
    "import os\n",
    "import sys\n",
    "import random\n",
    "import warnings\n",
    "import numpy as np\n",
    "import pandas as pd \n",
    "from sklearn import preprocessing\n",
    "from sklearn.metrics import log_loss, mean_squared_error\n",
    "from sklearn.decomposition import PCA\n",
    "from tqdm import tqdm_notebook as tqdm\n",
    "from sklearn.multioutput import MultiOutputClassifier\n",
    "from sklearn.feature_selection import VarianceThreshold\n",
    "\n",
    "sys.path.append('../input/multilabelstraifier/')\n",
    "sys.path.append('../input/lookahead/')\n",
    "from ml_stratifiers import MultilabelStratifiedKFold\n",
    "from lookahead import Lookahead\n",
    "warnings.filterwarnings('ignore')\n",
    "\n",
    "import time\n",
    "import torch\n",
    "import torch.nn as nn\n",
    "import torch.optim as optim\n",
    "import torch.nn.functional as F\n",
    "import tensorflow as tf"
   ]
  },
  {
   "cell_type": "code",
   "execution_count": 2,
   "metadata": {
    "_cell_guid": "79c7e3d0-c299-4dcb-8224-4455121ee9b0",
    "_uuid": "d629ff2d2480ee46fbb7e2d37f6b5fab8052498a",
    "execution": {
     "iopub.execute_input": "2020-10-14T01:37:20.800356Z",
     "iopub.status.busy": "2020-10-14T01:37:20.798930Z",
     "iopub.status.idle": "2020-10-14T01:37:26.873989Z",
     "shell.execute_reply": "2020-10-14T01:37:26.872934Z"
    },
    "papermill": {
     "duration": 6.092846,
     "end_time": "2020-10-14T01:37:26.874109",
     "exception": false,
     "start_time": "2020-10-14T01:37:20.781263",
     "status": "completed"
    },
    "tags": []
   },
   "outputs": [],
   "source": [
    "DATA_DIR = '/kaggle/input/lish-moa/'\n",
    "train = pd.read_csv(DATA_DIR + 'train_features.csv')\n",
    "targets = pd.read_csv(DATA_DIR + 'train_targets_scored.csv')\n",
    "non_targets = pd.read_csv(DATA_DIR + 'train_targets_nonscored.csv')\n",
    "test = pd.read_csv(DATA_DIR + 'test_features.csv')\n",
    "sub = pd.read_csv(DATA_DIR + 'sample_submission.csv')"
   ]
  },
  {
   "cell_type": "code",
   "execution_count": 3,
   "metadata": {
    "execution": {
     "iopub.execute_input": "2020-10-14T01:37:26.903009Z",
     "iopub.status.busy": "2020-10-14T01:37:26.901193Z",
     "iopub.status.idle": "2020-10-14T01:37:26.903657Z",
     "shell.execute_reply": "2020-10-14T01:37:26.904138Z"
    },
    "papermill": {
     "duration": 0.019395,
     "end_time": "2020-10-14T01:37:26.904264",
     "exception": false,
     "start_time": "2020-10-14T01:37:26.884869",
     "status": "completed"
    },
    "tags": []
   },
   "outputs": [],
   "source": [
    "target_feats = [ i for i in targets.columns if i != \"sig_id\"]\n",
    "g_feats = [i for i in train.columns if \"g-\" in i]\n",
    "c_feats = [i for i in train.columns if \"c-\" in i]"
   ]
  },
  {
   "cell_type": "code",
   "execution_count": 4,
   "metadata": {
    "execution": {
     "iopub.execute_input": "2020-10-14T01:37:26.935099Z",
     "iopub.status.busy": "2020-10-14T01:37:26.934264Z",
     "iopub.status.idle": "2020-10-14T01:37:27.030611Z",
     "shell.execute_reply": "2020-10-14T01:37:27.030081Z"
    },
    "papermill": {
     "duration": 0.114637,
     "end_time": "2020-10-14T01:37:27.030726",
     "exception": false,
     "start_time": "2020-10-14T01:37:26.916089",
     "status": "completed"
    },
    "tags": []
   },
   "outputs": [],
   "source": [
    "noncons_train_index = train[train.cp_type==\"ctl_vehicle\"].index\n",
    "cons_train_index = train[train.cp_type!=\"ctl_vehicle\"].index\n",
    "noncons_test_index = test[test.cp_type==\"ctl_vehicle\"].index\n",
    "cons_test_index = test[test.cp_type!=\"ctl_vehicle\"].index"
   ]
  },
  {
   "cell_type": "markdown",
   "metadata": {
    "papermill": {
     "duration": 0.010543,
     "end_time": "2020-10-14T01:37:27.052336",
     "exception": false,
     "start_time": "2020-10-14T01:37:27.041793",
     "status": "completed"
    },
    "tags": []
   },
   "source": [
    "# preprocess"
   ]
  },
  {
   "cell_type": "code",
   "execution_count": 5,
   "metadata": {
    "execution": {
     "iopub.execute_input": "2020-10-14T01:37:27.088848Z",
     "iopub.status.busy": "2020-10-14T01:37:27.087422Z",
     "iopub.status.idle": "2020-10-14T01:37:27.399429Z",
     "shell.execute_reply": "2020-10-14T01:37:27.399911Z"
    },
    "papermill": {
     "duration": 0.336881,
     "end_time": "2020-10-14T01:37:27.400064",
     "exception": false,
     "start_time": "2020-10-14T01:37:27.063183",
     "status": "completed"
    },
    "tags": []
   },
   "outputs": [],
   "source": [
    "train = train[train.index.isin(cons_train_index)].copy().reset_index(drop=True)\n",
    "targets = targets[targets.index.isin(cons_train_index)].copy().reset_index(drop=True)\n",
    "non_targets = non_targets[non_targets.index.isin(cons_train_index)].copy().reset_index(drop=True)"
   ]
  },
  {
   "cell_type": "markdown",
   "metadata": {
    "papermill": {
     "duration": 0.010546,
     "end_time": "2020-10-14T01:37:27.421604",
     "exception": false,
     "start_time": "2020-10-14T01:37:27.411058",
     "status": "completed"
    },
    "tags": []
   },
   "source": [
    "# feature engineering"
   ]
  },
  {
   "cell_type": "code",
   "execution_count": 6,
   "metadata": {
    "execution": {
     "iopub.execute_input": "2020-10-14T01:37:27.452241Z",
     "iopub.status.busy": "2020-10-14T01:37:27.451011Z",
     "iopub.status.idle": "2020-10-14T01:37:27.584877Z",
     "shell.execute_reply": "2020-10-14T01:37:27.585668Z"
    },
    "papermill": {
     "duration": 0.15359,
     "end_time": "2020-10-14T01:37:27.585867",
     "exception": false,
     "start_time": "2020-10-14T01:37:27.432277",
     "status": "completed"
    },
    "tags": []
   },
   "outputs": [
    {
     "name": "stdout",
     "output_type": "stream",
     "text": [
      "(21948, 873) (3982, 873)\n"
     ]
    }
   ],
   "source": [
    "def fe(df):\n",
    "    tmp = df.copy()\n",
    "    #tmp['g_sum'] = tmp[g_feats].sum(axis = 1)\n",
    "    #tmp['g_mean'] = tmp[g_feats].mean(axis = 1)\n",
    "    #tmp['g_std'] = tmp[g_feats].std(axis = 1)\n",
    "    #tmp['g_kurt'] = tmp[g_feats].kurtosis(axis = 1)\n",
    "    #tmp['g_skew'] = tmp[g_feats].skew(axis = 1)\n",
    "    #tmp['c_sum'] = tmp[c_feats].sum(axis = 1)\n",
    "    #tmp['c_mean'] = tmp[c_feats].mean(axis = 1)\n",
    "    #tmp['c_std'] = tmp[c_feats].std(axis = 1)\n",
    "    #tmp['c_kurt'] = tmp[c_feats].kurtosis(axis = 1)\n",
    "    #tmp['c_skew'] = tmp[c_feats].skew(axis = 1)\n",
    "    #tmp['gc_sum'] = tmp[c_feats + g_feats].sum(axis = 1)\n",
    "    #tmp['gc_mean'] = tmp[c_feats + g_feats].mean(axis = 1)\n",
    "    #tmp['gc_std'] = tmp[c_feats + g_feats].std(axis = 1)\n",
    "    #tmp['gc_kurt'] = tmp[c_feats + g_feats].kurtosis(axis = 1)\n",
    "    #tmp['gc_skew'] = tmp[c_feats + g_feats].skew(axis = 1)\n",
    "    tmp.loc[:, 'cp_dose'] = tmp.loc[:, 'cp_dose'].map({'D1': 0, 'D2': 1})\n",
    "        \n",
    "    tmp.drop([\"cp_type\", \"sig_id\", \"cp_time\"], axis=1, inplace=True)\n",
    "    return tmp\n",
    "\n",
    "f_train = fe(train)\n",
    "f_test = fe(test)\n",
    "\n",
    "print(f_train.shape, f_test.shape)"
   ]
  },
  {
   "cell_type": "code",
   "execution_count": 7,
   "metadata": {
    "execution": {
     "iopub.execute_input": "2020-10-14T01:37:27.617450Z",
     "iopub.status.busy": "2020-10-14T01:37:27.616286Z",
     "iopub.status.idle": "2020-10-14T01:37:28.790500Z",
     "shell.execute_reply": "2020-10-14T01:37:28.789902Z"
    },
    "papermill": {
     "duration": 1.19228,
     "end_time": "2020-10-14T01:37:28.790609",
     "exception": false,
     "start_time": "2020-10-14T01:37:27.598329",
     "status": "completed"
    },
    "tags": []
   },
   "outputs": [],
   "source": [
    "fn_train = f_train.copy().to_numpy()\n",
    "fn_test = f_test.copy().to_numpy()\n",
    "\n",
    "ss = preprocessing.RobustScaler()\n",
    "fn_train= ss.fit_transform(fn_train)\n",
    "fn_test = ss.transform(fn_test)\n",
    "\n",
    "fn_nontargets = non_targets.drop(\"sig_id\", axis=1).copy().to_numpy()\n",
    "fn_targets = targets.drop(\"sig_id\", axis=1).copy().to_numpy()"
   ]
  },
  {
   "cell_type": "code",
   "execution_count": 8,
   "metadata": {
    "execution": {
     "iopub.execute_input": "2020-10-14T01:37:28.831532Z",
     "iopub.status.busy": "2020-10-14T01:37:28.829707Z",
     "iopub.status.idle": "2020-10-14T01:37:28.832284Z",
     "shell.execute_reply": "2020-10-14T01:37:28.832744Z"
    },
    "papermill": {
     "duration": 0.030457,
     "end_time": "2020-10-14T01:37:28.832880",
     "exception": false,
     "start_time": "2020-10-14T01:37:28.802423",
     "status": "completed"
    },
    "tags": []
   },
   "outputs": [],
   "source": [
    "class CFG:\n",
    "    max_grad_norm = 1000\n",
    "    gradient_accumulation_steps = 1\n",
    "    hidden_size = 1024\n",
    "    hidden_dim = 256\n",
    "    dropout = 0.5\n",
    "    lr = 1e-2\n",
    "    weight_decay = 1e-6\n",
    "    batch_size = 256\n",
    "    epochs = 20\n",
    "    # total_cate_size=5\n",
    "    # emb_size=4\n",
    "    #num_features = num_features\n",
    "    #cat_features = cat_features\n",
    "    #target_cols = target_cols\n",
    "    target_length = 206\n",
    "\n",
    "\n",
    "class LSTMClassifier(nn.Module):\n",
    "    def __init__(self, cfg):\n",
    "        super().__init__()\n",
    "\n",
    "        self.gru_hidden_size = 64\n",
    "        self.lstm_hidden_size = 873\n",
    "\n",
    "        self.embedding_dropout = nn.Dropout2d(0.2)\n",
    "        self.lstm = nn.LSTM(self.lstm_hidden_size, cfg.hidden_dim, batch_first=True, bidirectional=True)\n",
    "\n",
    "        self.gru = nn.GRU(cfg.hidden_dim * 2, self.gru_hidden_size, bidirectional=True, batch_first=True)\n",
    "        self.linear = nn.Linear(384, self.gru_hidden_size * 6)\n",
    "        self.cls = nn.Linear(cfg.hidden_dim, cfg.target_length)\n",
    "\n",
    "        self.relu = nn.ReLU()\n",
    "        self.dropout = nn.Dropout(0.2)\n",
    "        self.out = nn.Linear(self.gru_hidden_size * 6, cfg.target_length)\n",
    "        \n",
    "    def forward(self, cont_x):\n",
    "        cont_x = torch.unsqueeze(cont_x, 1)\n",
    "        h_lstm, lstm_out = self.lstm(cont_x)\n",
    "        h_gru, hh_gru = self.gru(h_lstm)\n",
    "        hh_gru = hh_gru.view(-1, self.gru_hidden_size * 2)\n",
    "\n",
    "        avg_pool = torch.mean(h_gru, 1)\n",
    "        max_pool, _ = torch.max(h_gru, 1)\n",
    "        conc = torch.cat((hh_gru, avg_pool, max_pool), 1)\n",
    "\n",
    "        dropped = self.dropout(conc)\n",
    "        out = self.out(dropped)\n",
    "        return out"
   ]
  },
  {
   "cell_type": "code",
   "execution_count": 9,
   "metadata": {
    "execution": {
     "iopub.execute_input": "2020-10-14T01:37:28.884744Z",
     "iopub.status.busy": "2020-10-14T01:37:28.858820Z",
     "iopub.status.idle": "2020-10-14T01:37:29.293517Z",
     "shell.execute_reply": "2020-10-14T01:37:29.294192Z"
    },
    "papermill": {
     "duration": 0.449813,
     "end_time": "2020-10-14T01:37:29.294411",
     "exception": false,
     "start_time": "2020-10-14T01:37:28.844598",
     "status": "completed"
    },
    "tags": []
   },
   "outputs": [
    {
     "name": "stdout",
     "output_type": "stream",
     "text": [
      "cuda\n"
     ]
    }
   ],
   "source": [
    "batch_size = 128\n",
    "train_epochs = 30\n",
    "n_folds=5\n",
    "EARLY_STOPPING_STEPS = 10\n",
    "\n",
    "device = \"cuda\" if torch.cuda.is_available() else \"cpu\"\n",
    "print(device)\n",
    "def mean_log_loss(y_true, y_pred):\n",
    "    metrics = []\n",
    "    for i, target in enumerate(target_feats):\n",
    "        metrics.append(log_loss(y_true[:, i], y_pred[:, i].astype(float), labels=[0,1]))\n",
    "    return np.mean(metrics)\n",
    "\n",
    "def seed_everything(seed=1234): \n",
    "    random.seed(seed)\n",
    "    os.environ['PYTHONHASHSEED'] = str(seed)\n",
    "    tf.random.set_seed(seed)\n",
    "    np.random.seed(seed)\n",
    "    torch.manual_seed(seed)\n",
    "    torch.cuda.manual_seed(seed)\n",
    "    torch.backends.cudnn.deterministic = True\n",
    "\n",
    "def modelling_lstm(tr, target, te, sample_seed, init_num, last_num, files):\n",
    "    seed_everything(seed=sample_seed) \n",
    "    X_train = tr.copy()\n",
    "    y_train = target.copy()\n",
    "    X_test = te.copy()\n",
    "    test_len = X_test.shape[0]\n",
    "\n",
    "    mskf=MultilabelStratifiedKFold(n_splits = n_folds, shuffle=True, random_state=2)\n",
    "    models = []\n",
    "    \n",
    "    X_test = torch.tensor(X_test, dtype=torch.float32)\n",
    "    X_test = torch.utils.data.TensorDataset(X_test) \n",
    "    test_loader = torch.utils.data.DataLoader(X_test, batch_size=batch_size, shuffle=False)\n",
    "    \n",
    "    oof = np.zeros([len(X_train),y_train.shape[1]])\n",
    "    oof_targets = np.zeros([len(X_train),y_train.shape[1]])\n",
    "    pred_value = np.zeros([test_len, y_train.shape[1]])\n",
    "    scores = []\n",
    "    \n",
    "    for fold, (train_index, valid_index) in enumerate(mskf.split(X_train, y_train)):\n",
    "        print(\"Fold \"+str(fold+1))\n",
    "        X_train2 = torch.tensor(X_train[train_index,:], dtype=torch.float32)\n",
    "        y_train2 = torch.tensor(y_train[train_index], dtype=torch.float32)\n",
    "\n",
    "        X_valid2 = torch.tensor(X_train[valid_index,:], dtype=torch.float32)\n",
    "        y_valid2 = torch.tensor(y_train[valid_index], dtype=torch.float32)\n",
    "            \n",
    "        clf = LSTMClassifier(CFG)\n",
    "        if files != []:\n",
    "            clf.load_state_dict(torch.load(files[fold]))\n",
    "        loss_fn = torch.nn.BCEWithLogitsLoss() \n",
    "        optimizer = optim.Adam(clf.parameters(), lr = 0.001, weight_decay=1e-5) \n",
    "        #lookahead = Lookahead(optimizer, k=10, alpha=0.6) #lookahead\n",
    "        scheduler = optim.lr_scheduler.ReduceLROnPlateau(optimizer, mode='min', factor=0.1, patience=3, eps=1e-4, verbose=True)\n",
    "        \n",
    "        train = torch.utils.data.TensorDataset(X_train2, y_train2)\n",
    "        valid = torch.utils.data.TensorDataset(X_valid2, y_valid2)\n",
    "        \n",
    "        clf.to(device)\n",
    "        \n",
    "        train_loader = torch.utils.data.DataLoader(train, batch_size=batch_size, shuffle=True) \n",
    "        valid_loader = torch.utils.data.DataLoader(valid, batch_size=batch_size, shuffle=False)\n",
    "        \n",
    "        best_val_loss = np.inf\n",
    "        stop_counts = 0\n",
    "        for epoch in range(train_epochs):\n",
    "            start_time = time.time()\n",
    "            clf.train()\n",
    "            avg_loss = 0.\n",
    "            for x_batch, y_batch in tqdm(train_loader, disable=True):\n",
    "                x_batch = x_batch.to(device)\n",
    "                y_batch = y_batch.to(device)\n",
    "                y_pred = clf(x_batch) \n",
    "                loss = loss_fn(y_pred, y_batch)\n",
    "                optimizer.zero_grad()\n",
    "                loss.backward()\n",
    "                optimizer.step()\n",
    "                avg_loss += loss.item() / len(train_loader)        \n",
    "            \n",
    "            clf.eval()\n",
    "            avg_val_loss = 0.\n",
    "            for i, (x_batch, y_batch) in enumerate(valid_loader): \n",
    "                x_batch = x_batch.to(device)\n",
    "                y_batch = y_batch.to(device)\n",
    "                y_pred = clf(x_batch).detach()\n",
    "                avg_val_loss += loss_fn(y_pred, y_batch).item() / len(valid_loader)\n",
    "                \n",
    "            elapsed_time = time.time() - start_time \n",
    "            scheduler.step(avg_val_loss)\n",
    "                    \n",
    "            if avg_val_loss < best_val_loss:\n",
    "                stop_counts = 0\n",
    "                best_val_loss = avg_val_loss\n",
    "                print('Best model: Epoch {} \\t loss={:.6f} \\t val_loss={:.6f} \\t time={:.2f}s'.format(\n",
    "                    epoch + 1, avg_loss, avg_val_loss, elapsed_time))\n",
    "                torch.save(clf.state_dict(), 'best-model-parameters.pt')\n",
    "            else:\n",
    "                stop_counts += 1\n",
    "        \n",
    "            #if stop_counts >= EARLY_STOPPING_STEPS: \n",
    "            #    break\n",
    "         \n",
    "        pred_model = LSTMClassifier(CFG)\n",
    "        pred_model.load_state_dict(torch.load('best-model-parameters.pt'))\n",
    "        pred_model.eval()\n",
    "        \n",
    "        # validation check ----------------\n",
    "        oof_epoch = np.zeros([X_valid2.size(0), y_train.shape[1]])\n",
    "        target_epoch = np.zeros([X_valid2.size(0), y_train.shape[1]])\n",
    "        for i, (x_batch, y_batch) in enumerate(valid_loader): \n",
    "                y_pred = pred_model(x_batch).sigmoid().detach()\n",
    "                oof_epoch[i * batch_size:(i+1) * batch_size,:] = y_pred.cpu().numpy()\n",
    "                target_epoch[i * batch_size:(i+1) * batch_size,:] = y_batch.cpu().numpy()\n",
    "        print(\"Fold {} log loss: {}\".format(fold+1, mean_log_loss(target_epoch, oof_epoch)))\n",
    "        scores.append(mean_log_loss(target_epoch, oof_epoch))\n",
    "        oof[valid_index,:] = oof_epoch\n",
    "        oof_targets[valid_index,:] = target_epoch\n",
    "        #-----------------------------------\n",
    "        \n",
    "        # test predcition --------------\n",
    "        test_preds = np.zeros([test_len, y_train.shape[1]])\n",
    "        for i, (x_batch,) in enumerate(test_loader): \n",
    "            y_pred = pred_model(x_batch).sigmoid().detach()\n",
    "            test_preds[i * batch_size:(i+1) * batch_size, :] = y_pred.cpu().numpy()\n",
    "        pred_value += test_preds / n_folds\n",
    "        # ------------------------------\n",
    "        \n",
    "    print(\"Seed {}\".format(seed_))\n",
    "    for i, ele in enumerate(scores):\n",
    "        print(\"Fold {} log loss: {}\".format(i+1, scores[i]))\n",
    "    print(\"Std of log loss: {}\".format(np.std(scores)))\n",
    "    print(\"Total log loss: {}\".format(mean_log_loss(oof_targets, oof)))\n",
    "\n",
    "    return oof, oof_targets, pred_value"
   ]
  },
  {
   "cell_type": "code",
   "execution_count": 10,
   "metadata": {
    "execution": {
     "iopub.execute_input": "2020-10-14T01:37:29.346639Z",
     "iopub.status.busy": "2020-10-14T01:37:29.345912Z",
     "iopub.status.idle": "2020-10-14T01:45:09.559101Z",
     "shell.execute_reply": "2020-10-14T01:45:09.559573Z"
    },
    "papermill": {
     "duration": 460.242735,
     "end_time": "2020-10-14T01:45:09.559745",
     "exception": false,
     "start_time": "2020-10-14T01:37:29.317010",
     "status": "completed"
    },
    "tags": []
   },
   "outputs": [
    {
     "name": "stdout",
     "output_type": "stream",
     "text": [
      "Fold 1\n",
      "Best model: Epoch 1 \t loss=0.076298 \t val_loss=0.021729 \t time=1.11s\n",
      "Best model: Epoch 2 \t loss=0.021409 \t val_loss=0.020980 \t time=0.93s\n",
      "Best model: Epoch 3 \t loss=0.020804 \t val_loss=0.020529 \t time=1.14s\n",
      "Best model: Epoch 4 \t loss=0.020367 \t val_loss=0.020025 \t time=0.94s\n",
      "Best model: Epoch 5 \t loss=0.019787 \t val_loss=0.019520 \t time=0.93s\n",
      "Best model: Epoch 6 \t loss=0.019163 \t val_loss=0.019026 \t time=1.04s\n",
      "Best model: Epoch 7 \t loss=0.018694 \t val_loss=0.018681 \t time=0.96s\n",
      "Best model: Epoch 8 \t loss=0.018319 \t val_loss=0.018489 \t time=1.04s\n",
      "Best model: Epoch 9 \t loss=0.017975 \t val_loss=0.018239 \t time=0.97s\n",
      "Best model: Epoch 10 \t loss=0.017668 \t val_loss=0.018077 \t time=0.94s\n",
      "Best model: Epoch 11 \t loss=0.017424 \t val_loss=0.017945 \t time=0.93s\n",
      "Best model: Epoch 13 \t loss=0.016890 \t val_loss=0.017737 \t time=0.94s\n",
      "Best model: Epoch 15 \t loss=0.016328 \t val_loss=0.017559 \t time=0.95s\n",
      "Best model: Epoch 18 \t loss=0.015533 \t val_loss=0.017555 \t time=0.92s\n",
      "Best model: Epoch 20 \t loss=0.014888 \t val_loss=0.017533 \t time=0.99s\n",
      "Epoch    24: reducing learning rate of group 0 to 1.0000e-04.\n",
      "Fold 1 log loss: 0.017643710839695664\n",
      "Fold 2\n",
      "Best model: Epoch 1 \t loss=0.076804 \t val_loss=0.021744 \t time=1.08s\n",
      "Best model: Epoch 2 \t loss=0.021475 \t val_loss=0.020894 \t time=1.03s\n",
      "Best model: Epoch 3 \t loss=0.020862 \t val_loss=0.020385 \t time=1.00s\n",
      "Best model: Epoch 4 \t loss=0.020211 \t val_loss=0.019861 \t time=1.03s\n",
      "Best model: Epoch 5 \t loss=0.019621 \t val_loss=0.019235 \t time=1.05s\n",
      "Best model: Epoch 6 \t loss=0.019029 \t val_loss=0.018840 \t time=1.02s\n",
      "Best model: Epoch 7 \t loss=0.018589 \t val_loss=0.018424 \t time=1.10s\n",
      "Best model: Epoch 8 \t loss=0.018128 \t val_loss=0.018120 \t time=0.99s\n",
      "Best model: Epoch 9 \t loss=0.017800 \t val_loss=0.017912 \t time=0.94s\n",
      "Best model: Epoch 10 \t loss=0.017541 \t val_loss=0.017740 \t time=0.93s\n",
      "Best model: Epoch 11 \t loss=0.017261 \t val_loss=0.017637 \t time=1.08s\n",
      "Best model: Epoch 12 \t loss=0.017068 \t val_loss=0.017571 \t time=1.19s\n",
      "Best model: Epoch 13 \t loss=0.016812 \t val_loss=0.017379 \t time=1.16s\n",
      "Best model: Epoch 15 \t loss=0.016339 \t val_loss=0.017280 \t time=0.94s\n",
      "Epoch    19: reducing learning rate of group 0 to 1.0000e-04.\n",
      "Best model: Epoch 20 \t loss=0.014396 \t val_loss=0.017110 \t time=0.93s\n",
      "Best model: Epoch 21 \t loss=0.014122 \t val_loss=0.017090 \t time=0.94s\n",
      "Fold 2 log loss: 0.017152380638316665\n",
      "Fold 3\n",
      "Best model: Epoch 1 \t loss=0.075879 \t val_loss=0.021729 \t time=1.13s\n",
      "Best model: Epoch 2 \t loss=0.021443 \t val_loss=0.020902 \t time=1.06s\n",
      "Best model: Epoch 3 \t loss=0.020879 \t val_loss=0.020517 \t time=0.98s\n",
      "Best model: Epoch 4 \t loss=0.020433 \t val_loss=0.020118 \t time=1.34s\n",
      "Best model: Epoch 5 \t loss=0.019826 \t val_loss=0.019445 \t time=1.37s\n",
      "Best model: Epoch 6 \t loss=0.019149 \t val_loss=0.018970 \t time=0.95s\n",
      "Best model: Epoch 7 \t loss=0.018683 \t val_loss=0.018565 \t time=0.97s\n",
      "Best model: Epoch 8 \t loss=0.018337 \t val_loss=0.018446 \t time=1.01s\n",
      "Best model: Epoch 9 \t loss=0.018042 \t val_loss=0.018101 \t time=0.93s\n",
      "Best model: Epoch 10 \t loss=0.017646 \t val_loss=0.017984 \t time=0.93s\n",
      "Best model: Epoch 11 \t loss=0.017411 \t val_loss=0.017740 \t time=1.20s\n",
      "Best model: Epoch 12 \t loss=0.017177 \t val_loss=0.017736 \t time=0.95s\n",
      "Best model: Epoch 14 \t loss=0.016684 \t val_loss=0.017583 \t time=1.05s\n",
      "Best model: Epoch 15 \t loss=0.016417 \t val_loss=0.017465 \t time=0.98s\n",
      "Best model: Epoch 17 \t loss=0.015940 \t val_loss=0.017386 \t time=0.98s\n",
      "Epoch    21: reducing learning rate of group 0 to 1.0000e-04.\n",
      "Best model: Epoch 22 \t loss=0.013727 \t val_loss=0.017333 \t time=1.16s\n",
      "Best model: Epoch 23 \t loss=0.013453 \t val_loss=0.017323 \t time=0.93s\n",
      "Fold 3 log loss: 0.01731892612609299\n",
      "Fold 4\n",
      "Best model: Epoch 1 \t loss=0.077292 \t val_loss=0.021733 \t time=1.01s\n",
      "Best model: Epoch 2 \t loss=0.021501 \t val_loss=0.020808 \t time=1.09s\n",
      "Best model: Epoch 3 \t loss=0.020811 \t val_loss=0.020328 \t time=0.98s\n",
      "Best model: Epoch 4 \t loss=0.020339 \t val_loss=0.019746 \t time=0.97s\n",
      "Best model: Epoch 5 \t loss=0.019748 \t val_loss=0.019268 \t time=1.05s\n",
      "Best model: Epoch 6 \t loss=0.019234 \t val_loss=0.018860 \t time=1.06s\n",
      "Best model: Epoch 7 \t loss=0.018807 \t val_loss=0.018619 \t time=0.97s\n",
      "Best model: Epoch 8 \t loss=0.018404 \t val_loss=0.018289 \t time=0.97s\n",
      "Best model: Epoch 9 \t loss=0.018105 \t val_loss=0.018028 \t time=0.94s\n",
      "Best model: Epoch 10 \t loss=0.017738 \t val_loss=0.017932 \t time=1.12s\n",
      "Best model: Epoch 11 \t loss=0.017496 \t val_loss=0.017726 \t time=0.94s\n",
      "Best model: Epoch 13 \t loss=0.017068 \t val_loss=0.017596 \t time=1.24s\n",
      "Best model: Epoch 14 \t loss=0.016866 \t val_loss=0.017433 \t time=1.14s\n",
      "Best model: Epoch 15 \t loss=0.016557 \t val_loss=0.017370 \t time=1.27s\n",
      "Best model: Epoch 17 \t loss=0.016109 \t val_loss=0.017241 \t time=0.97s\n",
      "Best model: Epoch 18 \t loss=0.015825 \t val_loss=0.017227 \t time=0.94s\n",
      "Epoch    22: reducing learning rate of group 0 to 1.0000e-04.\n",
      "Best model: Epoch 23 \t loss=0.013612 \t val_loss=0.017207 \t time=0.95s\n",
      "Best model: Epoch 24 \t loss=0.013294 \t val_loss=0.017195 \t time=1.24s\n",
      "Fold 4 log loss: 0.017263462097697312\n",
      "Fold 5\n",
      "Best model: Epoch 1 \t loss=0.076280 \t val_loss=0.021953 \t time=0.92s\n",
      "Best model: Epoch 2 \t loss=0.021507 \t val_loss=0.021147 \t time=0.93s\n",
      "Best model: Epoch 3 \t loss=0.020934 \t val_loss=0.020780 \t time=0.94s\n",
      "Best model: Epoch 4 \t loss=0.020479 \t val_loss=0.020277 \t time=0.94s\n",
      "Best model: Epoch 5 \t loss=0.019876 \t val_loss=0.019711 \t time=0.97s\n",
      "Best model: Epoch 6 \t loss=0.019315 \t val_loss=0.019310 \t time=0.94s\n",
      "Best model: Epoch 7 \t loss=0.018810 \t val_loss=0.018942 \t time=0.94s\n",
      "Best model: Epoch 8 \t loss=0.018416 \t val_loss=0.018644 \t time=0.95s\n",
      "Best model: Epoch 9 \t loss=0.018041 \t val_loss=0.018361 \t time=1.14s\n",
      "Best model: Epoch 10 \t loss=0.017727 \t val_loss=0.018164 \t time=1.07s\n",
      "Best model: Epoch 11 \t loss=0.017475 \t val_loss=0.018019 \t time=0.94s\n",
      "Best model: Epoch 12 \t loss=0.017219 \t val_loss=0.017938 \t time=0.94s\n",
      "Best model: Epoch 13 \t loss=0.017070 \t val_loss=0.017890 \t time=1.14s\n",
      "Best model: Epoch 14 \t loss=0.016765 \t val_loss=0.017703 \t time=1.13s\n",
      "Best model: Epoch 15 \t loss=0.016514 \t val_loss=0.017640 \t time=0.97s\n",
      "Best model: Epoch 17 \t loss=0.015991 \t val_loss=0.017527 \t time=0.92s\n",
      "Best model: Epoch 18 \t loss=0.015713 \t val_loss=0.017452 \t time=1.13s\n",
      "Epoch    22: reducing learning rate of group 0 to 1.0000e-04.\n",
      "Best model: Epoch 23 \t loss=0.013556 \t val_loss=0.017428 \t time=1.03s\n",
      "Fold 5 log loss: 0.01742319186135483\n",
      "Seed 10\n",
      "Fold 1 log loss: 0.017643710839695664\n",
      "Fold 2 log loss: 0.017152380638316665\n",
      "Fold 3 log loss: 0.01731892612609299\n",
      "Fold 4 log loss: 0.017263462097697312\n",
      "Fold 5 log loss: 0.01742319186135483\n",
      "Std of log loss: 0.00016649139444557267\n",
      "Total log loss: 0.0173603409235357\n",
      "Fold 1\n",
      "Best model: Epoch 1 \t loss=0.075846 \t val_loss=0.021860 \t time=0.94s\n",
      "Best model: Epoch 2 \t loss=0.021517 \t val_loss=0.021055 \t time=0.93s\n",
      "Best model: Epoch 3 \t loss=0.020900 \t val_loss=0.020582 \t time=0.93s\n",
      "Best model: Epoch 4 \t loss=0.020372 \t val_loss=0.020048 \t time=1.17s\n",
      "Best model: Epoch 5 \t loss=0.019773 \t val_loss=0.019495 \t time=1.29s\n",
      "Best model: Epoch 6 \t loss=0.019172 \t val_loss=0.018930 \t time=0.98s\n",
      "Best model: Epoch 7 \t loss=0.018676 \t val_loss=0.018717 \t time=0.95s\n",
      "Best model: Epoch 8 \t loss=0.018312 \t val_loss=0.018452 \t time=0.97s\n",
      "Best model: Epoch 9 \t loss=0.017968 \t val_loss=0.018195 \t time=0.98s\n",
      "Best model: Epoch 10 \t loss=0.017670 \t val_loss=0.018080 \t time=0.95s\n",
      "Best model: Epoch 11 \t loss=0.017393 \t val_loss=0.017930 \t time=0.94s\n",
      "Best model: Epoch 12 \t loss=0.017164 \t val_loss=0.017802 \t time=0.93s\n",
      "Best model: Epoch 13 \t loss=0.016950 \t val_loss=0.017720 \t time=1.01s\n",
      "Best model: Epoch 14 \t loss=0.016626 \t val_loss=0.017637 \t time=1.05s\n",
      "Best model: Epoch 16 \t loss=0.016182 \t val_loss=0.017515 \t time=1.10s\n",
      "Epoch    20: reducing learning rate of group 0 to 1.0000e-04.\n",
      "Best model: Epoch 21 \t loss=0.014115 \t val_loss=0.017361 \t time=0.93s\n",
      "Best model: Epoch 22 \t loss=0.013841 \t val_loss=0.017338 \t time=0.93s\n",
      "Fold 1 log loss: 0.01744171324096608\n",
      "Fold 2\n",
      "Best model: Epoch 1 \t loss=0.076986 \t val_loss=0.021739 \t time=1.09s\n",
      "Best model: Epoch 2 \t loss=0.021374 \t val_loss=0.020824 \t time=1.11s\n",
      "Best model: Epoch 3 \t loss=0.020728 \t val_loss=0.020306 \t time=0.93s\n",
      "Best model: Epoch 4 \t loss=0.020191 \t val_loss=0.019779 \t time=0.98s\n",
      "Best model: Epoch 5 \t loss=0.019541 \t val_loss=0.019234 \t time=0.97s\n",
      "Best model: Epoch 6 \t loss=0.019035 \t val_loss=0.018805 \t time=1.19s\n",
      "Best model: Epoch 7 \t loss=0.018582 \t val_loss=0.018617 \t time=0.99s\n",
      "Best model: Epoch 8 \t loss=0.018250 \t val_loss=0.018318 \t time=0.93s\n",
      "Best model: Epoch 9 \t loss=0.017896 \t val_loss=0.018070 \t time=0.93s\n",
      "Best model: Epoch 10 \t loss=0.017628 \t val_loss=0.017873 \t time=0.93s\n",
      "Best model: Epoch 11 \t loss=0.017317 \t val_loss=0.017850 \t time=0.93s\n",
      "Best model: Epoch 12 \t loss=0.017053 \t val_loss=0.017555 \t time=0.94s\n",
      "Best model: Epoch 13 \t loss=0.016806 \t val_loss=0.017386 \t time=1.01s\n",
      "Best model: Epoch 14 \t loss=0.016523 \t val_loss=0.017339 \t time=0.93s\n",
      "Best model: Epoch 15 \t loss=0.016231 \t val_loss=0.017298 \t time=0.94s\n",
      "Best model: Epoch 16 \t loss=0.016008 \t val_loss=0.017247 \t time=1.23s\n",
      "Epoch    20: reducing learning rate of group 0 to 1.0000e-04.\n",
      "Best model: Epoch 21 \t loss=0.013832 \t val_loss=0.017135 \t time=1.38s\n",
      "Fold 2 log loss: 0.017201255630514226\n",
      "Fold 3\n",
      "Best model: Epoch 1 \t loss=0.076123 \t val_loss=0.021944 \t time=0.95s\n",
      "Best model: Epoch 2 \t loss=0.021521 \t val_loss=0.020993 \t time=0.97s\n",
      "Best model: Epoch 3 \t loss=0.020968 \t val_loss=0.020558 \t time=0.93s\n",
      "Best model: Epoch 4 \t loss=0.020468 \t val_loss=0.020099 \t time=0.93s\n",
      "Best model: Epoch 5 \t loss=0.019861 \t val_loss=0.019468 \t time=1.09s\n",
      "Best model: Epoch 6 \t loss=0.019246 \t val_loss=0.019000 \t time=1.02s\n",
      "Best model: Epoch 7 \t loss=0.018765 \t val_loss=0.018654 \t time=0.98s\n",
      "Best model: Epoch 8 \t loss=0.018465 \t val_loss=0.018450 \t time=0.93s\n",
      "Best model: Epoch 9 \t loss=0.018089 \t val_loss=0.018168 \t time=1.17s\n",
      "Best model: Epoch 10 \t loss=0.017665 \t val_loss=0.017979 \t time=1.19s\n",
      "Best model: Epoch 11 \t loss=0.017460 \t val_loss=0.017821 \t time=0.94s\n",
      "Best model: Epoch 12 \t loss=0.017191 \t val_loss=0.017673 \t time=1.28s\n",
      "Best model: Epoch 13 \t loss=0.016956 \t val_loss=0.017601 \t time=1.01s\n",
      "Best model: Epoch 14 \t loss=0.016686 \t val_loss=0.017519 \t time=0.96s\n",
      "Best model: Epoch 16 \t loss=0.016334 \t val_loss=0.017412 \t time=1.64s\n",
      "Best model: Epoch 18 \t loss=0.015735 \t val_loss=0.017339 \t time=1.01s\n",
      "Best model: Epoch 19 \t loss=0.015549 \t val_loss=0.017335 \t time=0.96s\n",
      "Epoch    23: reducing learning rate of group 0 to 1.0000e-04.\n",
      "Best model: Epoch 24 \t loss=0.013184 \t val_loss=0.017293 \t time=0.96s\n",
      "Fold 3 log loss: 0.01727835350670865\n",
      "Fold 4\n",
      "Best model: Epoch 1 \t loss=0.076318 \t val_loss=0.021549 \t time=0.93s\n",
      "Best model: Epoch 2 \t loss=0.021433 \t val_loss=0.020818 \t time=1.08s\n",
      "Best model: Epoch 3 \t loss=0.020935 \t val_loss=0.020420 \t time=0.94s\n",
      "Best model: Epoch 4 \t loss=0.020436 \t val_loss=0.019933 \t time=1.16s\n",
      "Best model: Epoch 5 \t loss=0.019795 \t val_loss=0.019243 \t time=0.99s\n",
      "Best model: Epoch 6 \t loss=0.019077 \t val_loss=0.018634 \t time=0.94s\n",
      "Best model: Epoch 7 \t loss=0.018531 \t val_loss=0.018248 \t time=0.95s\n",
      "Best model: Epoch 8 \t loss=0.018102 \t val_loss=0.018101 \t time=1.00s\n",
      "Best model: Epoch 9 \t loss=0.017837 \t val_loss=0.017908 \t time=1.03s\n",
      "Best model: Epoch 10 \t loss=0.017555 \t val_loss=0.017711 \t time=0.94s\n",
      "Best model: Epoch 11 \t loss=0.017301 \t val_loss=0.017665 \t time=0.97s\n",
      "Best model: Epoch 12 \t loss=0.017056 \t val_loss=0.017545 \t time=0.95s\n",
      "Best model: Epoch 13 \t loss=0.016744 \t val_loss=0.017424 \t time=0.93s\n",
      "Best model: Epoch 14 \t loss=0.016627 \t val_loss=0.017403 \t time=0.93s\n",
      "Best model: Epoch 15 \t loss=0.016313 \t val_loss=0.017306 \t time=1.07s\n",
      "Epoch    19: reducing learning rate of group 0 to 1.0000e-04.\n",
      "Best model: Epoch 20 \t loss=0.014351 \t val_loss=0.017118 \t time=0.92s\n",
      "Best model: Epoch 21 \t loss=0.014097 \t val_loss=0.017113 \t time=0.93s\n",
      "Fold 4 log loss: 0.017177580601060012\n",
      "Fold 5\n",
      "Best model: Epoch 1 \t loss=0.075864 \t val_loss=0.021740 \t time=1.14s\n",
      "Best model: Epoch 2 \t loss=0.021313 \t val_loss=0.020937 \t time=0.94s\n",
      "Best model: Epoch 3 \t loss=0.020675 \t val_loss=0.020501 \t time=0.93s\n",
      "Best model: Epoch 4 \t loss=0.020050 \t val_loss=0.019890 \t time=1.06s\n",
      "Best model: Epoch 5 \t loss=0.019410 \t val_loss=0.019311 \t time=1.17s\n",
      "Best model: Epoch 6 \t loss=0.018931 \t val_loss=0.019046 \t time=0.97s\n",
      "Best model: Epoch 7 \t loss=0.018474 \t val_loss=0.018631 \t time=0.94s\n",
      "Best model: Epoch 8 \t loss=0.018186 \t val_loss=0.018494 \t time=1.02s\n",
      "Best model: Epoch 9 \t loss=0.017862 \t val_loss=0.018336 \t time=1.02s\n",
      "Best model: Epoch 10 \t loss=0.017633 \t val_loss=0.018151 \t time=0.94s\n",
      "Best model: Epoch 11 \t loss=0.017360 \t val_loss=0.017919 \t time=0.94s\n",
      "Best model: Epoch 13 \t loss=0.016853 \t val_loss=0.017708 \t time=0.95s\n",
      "Best model: Epoch 14 \t loss=0.016547 \t val_loss=0.017590 \t time=0.95s\n",
      "Best model: Epoch 15 \t loss=0.016331 \t val_loss=0.017564 \t time=1.13s\n",
      "Best model: Epoch 16 \t loss=0.016084 \t val_loss=0.017539 \t time=0.99s\n",
      "Best model: Epoch 17 \t loss=0.015762 \t val_loss=0.017490 \t time=0.94s\n",
      "Epoch    21: reducing learning rate of group 0 to 1.0000e-04.\n",
      "Fold 5 log loss: 0.017493627556043168\n",
      "Seed 40\n",
      "Fold 1 log loss: 0.01744171324096608\n",
      "Fold 2 log loss: 0.017201255630514226\n",
      "Fold 3 log loss: 0.01727835350670865\n",
      "Fold 4 log loss: 0.017177580601060012\n",
      "Fold 5 log loss: 0.017493627556043168\n",
      "Std of log loss: 0.0001273321825351738\n",
      "Total log loss: 0.017318503470327404\n",
      "Total log loss in targets: 0.017113751182681863\n"
     ]
    }
   ],
   "source": [
    "seeds = [10,40]\n",
    "#seeds = [0,1,2,3]\n",
    "\n",
    "target_oof = np.zeros([len(fn_train),fn_targets.shape[1]])\n",
    "target_pred = np.zeros([len(fn_test),fn_targets.shape[1]])\n",
    "\n",
    "nontarget_oof = np.zeros([len(fn_train),fn_nontargets.shape[1]])\n",
    "nontarget_pred = np.zeros([len(fn_test),fn_nontargets.shape[1]])\n",
    "\n",
    "for seed_ in seeds:\n",
    "    oof, oof_targets, pytorch_pred = modelling_lstm(fn_train, fn_targets, fn_test, seed_, fn_train.shape[1], fn_targets.shape[1],[])\n",
    "    target_oof += oof / len(seeds)\n",
    "    target_pred += pytorch_pred / len(seeds)\n",
    "print(\"Total log loss in targets: {}\".format(mean_log_loss(oof_targets, target_oof)))\n",
    "\n",
    "#for seed_ in seeds:\n",
    "#    oof, oof_targets, pytorch_pred = modelling_lstm(fn_train, fn_nontargets, fn_test, seed_, fn_train.shape[1], fn_nontargets.shape[1],[])\n",
    "#    nontarget_oof += oof / len(seeds)\n",
    "#    nontarget_pred += pytorch_pred / len(seeds)\n",
    "#print(\"Total log loss in Non targets: {}\".format(mean_log_loss(oof_targets, nontarget_oof)))"
   ]
  },
  {
   "cell_type": "code",
   "execution_count": 11,
   "metadata": {
    "execution": {
     "iopub.execute_input": "2020-10-14T01:45:09.762069Z",
     "iopub.status.busy": "2020-10-14T01:45:09.761173Z",
     "iopub.status.idle": "2020-10-14T01:45:16.551380Z",
     "shell.execute_reply": "2020-10-14T01:45:16.552040Z"
    },
    "papermill": {
     "duration": 6.911371,
     "end_time": "2020-10-14T01:45:16.552228",
     "exception": false,
     "start_time": "2020-10-14T01:45:09.640857",
     "status": "completed"
    },
    "tags": []
   },
   "outputs": [
    {
     "name": "stdout",
     "output_type": "stream",
     "text": [
      "OOF log loss:  0.015772764380511603\n"
     ]
    }
   ],
   "source": [
    "t = pd.read_csv(DATA_DIR + 'train_targets_scored.csv')\n",
    "train_checkscore = t.copy()\n",
    "train_checkscore.loc[train_checkscore.index.isin(cons_train_index),target_feats] = target_oof\n",
    "train_checkscore.loc[train_checkscore.index.isin(noncons_train_index),target_feats] = 0\n",
    "t.drop(\"sig_id\", axis=1, inplace=True)\n",
    "print('OOF log loss: ', log_loss(np.ravel(t), np.ravel(np.array(train_checkscore.iloc[:,1:]))))"
   ]
  },
  {
   "cell_type": "code",
   "execution_count": 12,
   "metadata": {
    "execution": {
     "iopub.execute_input": "2020-10-14T01:45:16.773845Z",
     "iopub.status.busy": "2020-10-14T01:45:16.772936Z",
     "iopub.status.idle": "2020-10-14T01:45:19.121962Z",
     "shell.execute_reply": "2020-10-14T01:45:19.120466Z"
    },
    "papermill": {
     "duration": 2.455827,
     "end_time": "2020-10-14T01:45:19.122091",
     "exception": false,
     "start_time": "2020-10-14T01:45:16.666264",
     "status": "completed"
    },
    "tags": []
   },
   "outputs": [],
   "source": [
    "sub[target_feats] = target_pred\n",
    "sub.loc[noncons_test_index,target_feats] = 0\n",
    "sub.to_csv('submission.csv', index=False)"
   ]
  }
 ],
 "metadata": {
  "kernelspec": {
   "display_name": "Python 3",
   "language": "python",
   "name": "python3"
  },
  "language_info": {
   "codemirror_mode": {
    "name": "ipython",
    "version": 3
   },
   "file_extension": ".py",
   "mimetype": "text/x-python",
   "name": "python",
   "nbconvert_exporter": "python",
   "pygments_lexer": "ipython3",
   "version": "3.7.6"
  },
  "papermill": {
   "duration": 491.052257,
   "end_time": "2020-10-14T01:45:20.481982",
   "environment_variables": {},
   "exception": null,
   "input_path": "__notebook__.ipynb",
   "output_path": "__notebook__.ipynb",
   "parameters": {},
   "start_time": "2020-10-14T01:37:09.429725",
   "version": "2.1.0"
  }
 },
 "nbformat": 4,
 "nbformat_minor": 4
}
