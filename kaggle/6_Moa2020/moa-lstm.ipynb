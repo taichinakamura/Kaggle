{
 "cells": [
  {
   "cell_type": "markdown",
   "metadata": {
    "papermill": {
     "duration": 0.024183,
     "end_time": "2020-10-15T23:14:30.288311",
     "exception": false,
     "start_time": "2020-10-15T23:14:30.264128",
     "status": "completed"
    },
    "tags": []
   },
   "source": [
    "- implement correct tranfer learning\n",
    "- remove outlier patient in terms of g_unique_num"
   ]
  },
  {
   "cell_type": "code",
   "execution_count": 1,
   "metadata": {
    "_cell_guid": "b1076dfc-b9ad-4769-8c92-a6c4dae69d19",
    "_uuid": "8f2839f25d086af736a60e9eeb907d3b93b6e0e5",
    "execution": {
     "iopub.execute_input": "2020-10-15T23:14:30.335137Z",
     "iopub.status.busy": "2020-10-15T23:14:30.334313Z",
     "iopub.status.idle": "2020-10-15T23:14:38.445840Z",
     "shell.execute_reply": "2020-10-15T23:14:38.444938Z"
    },
    "papermill": {
     "duration": 8.141065,
     "end_time": "2020-10-15T23:14:38.445984",
     "exception": false,
     "start_time": "2020-10-15T23:14:30.304919",
     "status": "completed"
    },
    "tags": []
   },
   "outputs": [],
   "source": [
    "import os\n",
    "import sys\n",
    "import random\n",
    "import warnings\n",
    "import numpy as np\n",
    "import pandas as pd \n",
    "from sklearn import preprocessing\n",
    "from sklearn.metrics import log_loss, mean_squared_error\n",
    "from sklearn.decomposition import PCA\n",
    "from tqdm import tqdm_notebook as tqdm\n",
    "from sklearn.multioutput import MultiOutputClassifier\n",
    "from sklearn.feature_selection import VarianceThreshold\n",
    "\n",
    "sys.path.append('../input/multilabelstraifier/')\n",
    "sys.path.append('../input/lookahead/')\n",
    "from ml_stratifiers import MultilabelStratifiedKFold\n",
    "from lookahead import Lookahead\n",
    "warnings.filterwarnings('ignore')\n",
    "\n",
    "import time\n",
    "import torch\n",
    "import torch.nn as nn\n",
    "import torch.optim as optim\n",
    "import torch.nn.functional as F\n",
    "import tensorflow as tf"
   ]
  },
  {
   "cell_type": "code",
   "execution_count": 2,
   "metadata": {
    "_cell_guid": "79c7e3d0-c299-4dcb-8224-4455121ee9b0",
    "_uuid": "d629ff2d2480ee46fbb7e2d37f6b5fab8052498a",
    "execution": {
     "iopub.execute_input": "2020-10-15T23:14:38.492694Z",
     "iopub.status.busy": "2020-10-15T23:14:38.491708Z",
     "iopub.status.idle": "2020-10-15T23:14:45.798703Z",
     "shell.execute_reply": "2020-10-15T23:14:45.797922Z"
    },
    "papermill": {
     "duration": 7.336286,
     "end_time": "2020-10-15T23:14:45.798835",
     "exception": false,
     "start_time": "2020-10-15T23:14:38.462549",
     "status": "completed"
    },
    "tags": []
   },
   "outputs": [],
   "source": [
    "DATA_DIR = '/kaggle/input/lish-moa/'\n",
    "train = pd.read_csv(DATA_DIR + 'train_features.csv')\n",
    "targets = pd.read_csv(DATA_DIR + 'train_targets_scored.csv')\n",
    "non_targets = pd.read_csv(DATA_DIR + 'train_targets_nonscored.csv')\n",
    "test = pd.read_csv(DATA_DIR + 'test_features.csv')\n",
    "sub = pd.read_csv(DATA_DIR + 'sample_submission.csv')"
   ]
  },
  {
   "cell_type": "code",
   "execution_count": 3,
   "metadata": {
    "execution": {
     "iopub.execute_input": "2020-10-15T23:14:45.839046Z",
     "iopub.status.busy": "2020-10-15T23:14:45.838283Z",
     "iopub.status.idle": "2020-10-15T23:14:45.841273Z",
     "shell.execute_reply": "2020-10-15T23:14:45.840638Z"
    },
    "papermill": {
     "duration": 0.026067,
     "end_time": "2020-10-15T23:14:45.841425",
     "exception": false,
     "start_time": "2020-10-15T23:14:45.815358",
     "status": "completed"
    },
    "tags": []
   },
   "outputs": [],
   "source": [
    "target_feats = [ i for i in targets.columns if i != \"sig_id\"]\n",
    "g_feats = [i for i in train.columns if \"g-\" in i]\n",
    "c_feats = [i for i in train.columns if \"c-\" in i]"
   ]
  },
  {
   "cell_type": "code",
   "execution_count": 4,
   "metadata": {
    "execution": {
     "iopub.execute_input": "2020-10-15T23:14:45.881021Z",
     "iopub.status.busy": "2020-10-15T23:14:45.880093Z",
     "iopub.status.idle": "2020-10-15T23:14:45.883244Z",
     "shell.execute_reply": "2020-10-15T23:14:45.882462Z"
    },
    "papermill": {
     "duration": 0.025135,
     "end_time": "2020-10-15T23:14:45.883376",
     "exception": false,
     "start_time": "2020-10-15T23:14:45.858241",
     "status": "completed"
    },
    "tags": []
   },
   "outputs": [],
   "source": [
    "# to remove outlier paienr\n",
    "original_remove_index = [16674] # remove_index = [15361]"
   ]
  },
  {
   "cell_type": "code",
   "execution_count": 5,
   "metadata": {
    "execution": {
     "iopub.execute_input": "2020-10-15T23:14:45.932274Z",
     "iopub.status.busy": "2020-10-15T23:14:45.931398Z",
     "iopub.status.idle": "2020-10-15T23:14:46.066757Z",
     "shell.execute_reply": "2020-10-15T23:14:46.065906Z"
    },
    "papermill": {
     "duration": 0.166254,
     "end_time": "2020-10-15T23:14:46.066902",
     "exception": false,
     "start_time": "2020-10-15T23:14:45.900648",
     "status": "completed"
    },
    "tags": []
   },
   "outputs": [],
   "source": [
    "noncons_train_index = train[train.cp_type==\"ctl_vehicle\"].index\n",
    "noncons_train_index = list(noncons_train_index) + original_remove_index\n",
    "cons_train_index = train[~train.index.isin(noncons_train_index)].index\n",
    "noncons_test_index = test[test.cp_type==\"ctl_vehicle\"].index\n",
    "cons_test_index = test[test.cp_type!=\"ctl_vehicle\"].index"
   ]
  },
  {
   "cell_type": "markdown",
   "metadata": {
    "papermill": {
     "duration": 0.017031,
     "end_time": "2020-10-15T23:14:46.101005",
     "exception": false,
     "start_time": "2020-10-15T23:14:46.083974",
     "status": "completed"
    },
    "tags": []
   },
   "source": [
    "# preprocess"
   ]
  },
  {
   "cell_type": "code",
   "execution_count": 6,
   "metadata": {
    "execution": {
     "iopub.execute_input": "2020-10-15T23:14:46.151910Z",
     "iopub.status.busy": "2020-10-15T23:14:46.151055Z",
     "iopub.status.idle": "2020-10-15T23:14:46.518297Z",
     "shell.execute_reply": "2020-10-15T23:14:46.517460Z"
    },
    "papermill": {
     "duration": 0.400152,
     "end_time": "2020-10-15T23:14:46.518428",
     "exception": false,
     "start_time": "2020-10-15T23:14:46.118276",
     "status": "completed"
    },
    "tags": []
   },
   "outputs": [],
   "source": [
    "train = train[train.index.isin(cons_train_index)].copy().reset_index(drop=True)\n",
    "targets = targets[targets.index.isin(cons_train_index)].copy().reset_index(drop=True)\n",
    "non_targets = non_targets[non_targets.index.isin(cons_train_index)].copy().reset_index(drop=True)"
   ]
  },
  {
   "cell_type": "code",
   "execution_count": 7,
   "metadata": {
    "execution": {
     "iopub.execute_input": "2020-10-15T23:14:46.569638Z",
     "iopub.status.busy": "2020-10-15T23:14:46.568300Z",
     "iopub.status.idle": "2020-10-15T23:14:46.574377Z",
     "shell.execute_reply": "2020-10-15T23:14:46.573719Z"
    },
    "papermill": {
     "duration": 0.03167,
     "end_time": "2020-10-15T23:14:46.574511",
     "exception": false,
     "start_time": "2020-10-15T23:14:46.542841",
     "status": "completed"
    },
    "tags": []
   },
   "outputs": [],
   "source": [
    "#tmp = train.iloc[15361, :].copy().drop([\"sig_id\", \"cp_type\", \"cp_time\", \"cp_dose\"])\n",
    "#tmp1 = np.array(tmp)\n",
    "#np.sum(tmp1 == 10), np.sum(tmp1==-10)"
   ]
  },
  {
   "cell_type": "code",
   "execution_count": 8,
   "metadata": {
    "execution": {
     "iopub.execute_input": "2020-10-15T23:14:46.650395Z",
     "iopub.status.busy": "2020-10-15T23:14:46.647493Z",
     "iopub.status.idle": "2020-10-15T23:14:46.707519Z",
     "shell.execute_reply": "2020-10-15T23:14:46.708137Z"
    },
    "papermill": {
     "duration": 0.115643,
     "end_time": "2020-10-15T23:14:46.708312",
     "exception": false,
     "start_time": "2020-10-15T23:14:46.592669",
     "status": "completed"
    },
    "tags": []
   },
   "outputs": [
    {
     "name": "stdout",
     "output_type": "stream",
     "text": [
      "first drop 71\n",
      "shape after 1st drop: (21947, 332)\n",
      "331\n"
     ]
    }
   ],
   "source": [
    "non_target_feats = [i for i in non_targets.columns if i != \"sig_id\"]\n",
    "nontarget_dists = pd.DataFrame(np.sum(non_targets[non_target_feats])).reset_index(drop=False)\n",
    "nontarget_dists.columns = [\"target\", \"number\"]\n",
    "nontarget_dists = nontarget_dists.sort_values(\"number\", ascending=False).reset_index(drop=True)\n",
    "drop_list1 = list(nontarget_dists[nontarget_dists.number==0][\"target\"].values)\n",
    "print(\"first drop\", len(drop_list1))\n",
    "non_targets.drop(drop_list1, axis=1, inplace=True)\n",
    "print(\"shape after 1st drop:\", non_targets.shape)\n",
    "non_target_feats = [i for i in non_targets.columns if i != \"sig_id\"]\n",
    "print(len(non_target_feats))"
   ]
  },
  {
   "cell_type": "code",
   "execution_count": 9,
   "metadata": {
    "execution": {
     "iopub.execute_input": "2020-10-15T23:14:46.752249Z",
     "iopub.status.busy": "2020-10-15T23:14:46.751435Z",
     "iopub.status.idle": "2020-10-15T23:14:46.789882Z",
     "shell.execute_reply": "2020-10-15T23:14:46.789037Z"
    },
    "papermill": {
     "duration": 0.063323,
     "end_time": "2020-10-15T23:14:46.790022",
     "exception": false,
     "start_time": "2020-10-15T23:14:46.726699",
     "status": "completed"
    },
    "tags": []
   },
   "outputs": [],
   "source": [
    "all_targets = pd.concat([targets, non_targets], axis=1)"
   ]
  },
  {
   "cell_type": "markdown",
   "metadata": {
    "papermill": {
     "duration": 0.017924,
     "end_time": "2020-10-15T23:14:46.826151",
     "exception": false,
     "start_time": "2020-10-15T23:14:46.808227",
     "status": "completed"
    },
    "tags": []
   },
   "source": [
    "# feature engineering"
   ]
  },
  {
   "cell_type": "code",
   "execution_count": 10,
   "metadata": {
    "execution": {
     "iopub.execute_input": "2020-10-15T23:14:46.871680Z",
     "iopub.status.busy": "2020-10-15T23:14:46.870860Z",
     "iopub.status.idle": "2020-10-15T23:14:47.015970Z",
     "shell.execute_reply": "2020-10-15T23:14:47.014750Z"
    },
    "papermill": {
     "duration": 0.171793,
     "end_time": "2020-10-15T23:14:47.016173",
     "exception": false,
     "start_time": "2020-10-15T23:14:46.844380",
     "status": "completed"
    },
    "tags": []
   },
   "outputs": [
    {
     "name": "stdout",
     "output_type": "stream",
     "text": [
      "(21947, 872) (3982, 872)\n"
     ]
    }
   ],
   "source": [
    "def fe(df):\n",
    "    tmp = df.copy()\n",
    "    #tmp['g_sum'] = tmp[g_feats].sum(axis = 1)\n",
    "    #tmp['g_mean'] = tmp[g_feats].mean(axis = 1)\n",
    "    #tmp['g_std'] = tmp[g_feats].std(axis = 1)\n",
    "    #tmp['g_kurt'] = tmp[g_feats].kurtosis(axis = 1)\n",
    "    #tmp['g_skew'] = tmp[g_feats].skew(axis = 1)\n",
    "    #tmp['c_sum'] = tmp[c_feats].sum(axis = 1)\n",
    "    #tmp['c_mean'] = tmp[c_feats].mean(axis = 1)\n",
    "    #tmp['c_std'] = tmp[c_feats].std(axis = 1)\n",
    "    #tmp['c_kurt'] = tmp[c_feats].kurtosis(axis = 1)\n",
    "    #tmp['c_skew'] = tmp[c_feats].skew(axis = 1)\n",
    "    #tmp['gc_sum'] = tmp[c_feats + g_feats].sum(axis = 1)\n",
    "    #tmp['gc_mean'] = tmp[c_feats + g_feats].mean(axis = 1)\n",
    "    #tmp['gc_std'] = tmp[c_feats + g_feats].std(axis = 1)\n",
    "    #tmp['gc_kurt'] = tmp[c_feats + g_feats].kurtosis(axis = 1)\n",
    "    #tmp['gc_skew'] = tmp[c_feats + g_feats].skew(axis = 1)\n",
    "    #tmp.loc[:, 'cp_dose'] = tmp.loc[:, 'cp_dose'].map({'D1': 0, 'D2': 1})        \n",
    "    tmp.drop([\"cp_type\", \"sig_id\", \"cp_dose\", \"cp_time\"], axis=1, inplace=True)\n",
    "    #col = list(tmp.columns)\n",
    "    #col = col[1:] + col[:1]\n",
    "    #tmp = tmp[col]\n",
    "    return tmp\n",
    "\n",
    "f_train = fe(train)\n",
    "f_test = fe(test)\n",
    "\n",
    "print(f_train.shape, f_test.shape)"
   ]
  },
  {
   "cell_type": "code",
   "execution_count": 11,
   "metadata": {
    "execution": {
     "iopub.execute_input": "2020-10-15T23:14:47.070142Z",
     "iopub.status.busy": "2020-10-15T23:14:47.069314Z",
     "iopub.status.idle": "2020-10-15T23:14:48.413958Z",
     "shell.execute_reply": "2020-10-15T23:14:48.413183Z"
    },
    "papermill": {
     "duration": 1.373589,
     "end_time": "2020-10-15T23:14:48.414091",
     "exception": false,
     "start_time": "2020-10-15T23:14:47.040502",
     "status": "completed"
    },
    "tags": []
   },
   "outputs": [],
   "source": [
    "fn_train = f_train.copy().to_numpy()\n",
    "fn_test = f_test.copy().to_numpy()\n",
    "\n",
    "ss = preprocessing.RobustScaler()\n",
    "fn_train= ss.fit_transform(fn_train)\n",
    "fn_test = ss.transform(fn_test)\n",
    "\n",
    "#fn_nontargets = non_targets.drop(\"sig_id\", axis=1).copy().to_numpy()\n",
    "fn_targets = targets.drop(\"sig_id\", axis=1).copy().to_numpy()\n",
    "fn_all_targets = all_targets.drop(\"sig_id\", axis=1).copy().to_numpy()"
   ]
  },
  {
   "cell_type": "code",
   "execution_count": 12,
   "metadata": {
    "execution": {
     "iopub.execute_input": "2020-10-15T23:14:48.471546Z",
     "iopub.status.busy": "2020-10-15T23:14:48.466370Z",
     "iopub.status.idle": "2020-10-15T23:14:48.476369Z",
     "shell.execute_reply": "2020-10-15T23:14:48.475567Z"
    },
    "papermill": {
     "duration": 0.043268,
     "end_time": "2020-10-15T23:14:48.476505",
     "exception": false,
     "start_time": "2020-10-15T23:14:48.433237",
     "status": "completed"
    },
    "tags": []
   },
   "outputs": [],
   "source": [
    "class myLSTM(nn.Module):\n",
    "    def __init__(self,target_length):\n",
    "        super().__init__()\n",
    "\n",
    "        self.lstm_hidden_size = 772\n",
    "        self.c_lstm_hidden_size = 100\n",
    "        self.g_layer_num = 1\n",
    "        self.c_layer_num = 1\n",
    "        \n",
    "        self.hidden_dim = 512\n",
    "        self.hidden_dim_c = 10\n",
    "        \n",
    "        self.lstm = nn.LSTM(self.lstm_hidden_size, self.hidden_dim, batch_first=True, bidirectional=True, num_layers=self.g_layer_num)\n",
    "        self.c_lstm = nn.LSTM(self.c_lstm_hidden_size, self.hidden_dim_c, batch_first=True, bidirectional=True, num_layers=self.c_layer_num)\n",
    "        \n",
    "        #self.hidden_dim_gc = 512        \n",
    "        #self.gc_layer_num = 1\n",
    "        #self.hidden_dim_fgc = 64\n",
    "        #self.hidden_dim_gfc = 256\n",
    "        #self.hidden_dim_fgfc = 256\n",
    "        #self.gc_lstm = nn.LSTM(self.lstm_hidden_size + self.c_lstm_hidden_size, self.hidden_dim_gc, batch_first=True,\n",
    "        #                      bidirectional=True, num_layers=self.gc_layer_num)\n",
    "        #self.fgc_lstm = nn.LSTM(self.lstm_hidden_size + self.c_lstm_hidden_size, self.hidden_dim_fgc, batch_first=True,\n",
    "        #                      bidirectional=True, num_layers=self.gc_layer_num)\n",
    "        #self.gfc_lstm = nn.LSTM(self.lstm_hidden_size + self.c_lstm_hidden_size, self.hidden_dim_gfc, batch_first=True,\n",
    "        #                      bidirectional=True, num_layers=self.gc_layer_num)\n",
    "        #self.fgfc_lstm = nn.LSTM(self.lstm_hidden_size + self.c_lstm_hidden_size, self.hidden_dim_fgfc, batch_first=True,\n",
    "        #                      bidirectional=True, num_layers=self.gc_layer_num)\n",
    "        \n",
    "        self.dropout = nn.Dropout(0.1)\n",
    "        self.lr1 = nn.utils.weight_norm(nn.Linear((self.hidden_dim + self.hidden_dim_c) * 2 , target_length))\n",
    "        self.batch_norm1 = nn.BatchNorm1d((self.hidden_dim + self.hidden_dim_c) * 2) \n",
    "\n",
    "    def forward(self, cont_g, cont_c): \n",
    "        cont_g = torch.unsqueeze(cont_g, 1)\n",
    "        h_lstm, lstm_out = self.lstm(cont_g) # h_lstm: 256 * 1 * (2 * 512)\n",
    "        conc_g = h_lstm.view(-1, self.hidden_dim * 2)\n",
    "        \n",
    "        cont_c = torch.unsqueeze(cont_c, 1)\n",
    "        h_lstm_c, lstm_out_c = self.c_lstm(cont_c) # h_lstm: 256 * 1 * (2 * 5)\n",
    "        conc_c = h_lstm_c.view(-1, self.hidden_dim_c * 2)\n",
    "        \n",
    "        #cont_gc = torch.cat((cont_g, cont_c), 2)        \n",
    "        #h_lstm_gc, lstm_out_gc = self.gc_lstm(cont_gc) # h_lstm: 256 * 1 * (2 * 5)\n",
    "        #conc_gc = h_lstm_gc.view(-1, self.hidden_dim_gc * 2)\n",
    "        \n",
    "        #flip_g = torch.fliplr(cont_g)\n",
    "        #cont_fgc = torch.cat((flip_g, cont_c), 2)        \n",
    "        #h_lstm_fgc, lstm_out_fgc = self.fgc_lstm(cont_fgc) \n",
    "        #conc_fgc = h_lstm_fgc.view(-1, self.hidden_dim_fgc * 2)\n",
    "        \n",
    "        #flip_c = torch.fliplr(cont_c)\n",
    "        #cont_gfc = torch.cat((cont_g, flip_c), 2)        \n",
    "        #h_lstm_gfc, lstm_out_gfc = self.gfc_lstm(cont_gfc) # h_lstm: 256 * 1 * (2 * 5)\n",
    "        #conc_gfc = h_lstm_gfc.view(-1, self.hidden_dim_gfc * 2)\n",
    "        \n",
    "        #cont_fgfc = torch.cat((flip_g, flip_c), 2)        \n",
    "        #h_lstm_fgfc, lstm_out_fgfc = self.fgfc_lstm(cont_fgfc) # h_lstm: 256 * 1 * (2 * 5)\n",
    "        #conc_fgfc = h_lstm_fgfc.view(-1, self.hidden_dim_fgfc * 2)\n",
    "        \n",
    "        conc = torch.cat((conc_g, conc_c),1)\n",
    "        conc = self.batch_norm1(conc)\n",
    "                \n",
    "        dropped = self.dropout(conc)\n",
    "        \n",
    "        out = self.lr1(dropped)\n",
    "        return out"
   ]
  },
  {
   "cell_type": "code",
   "execution_count": 13,
   "metadata": {
    "execution": {
     "iopub.execute_input": "2020-10-15T23:14:48.590488Z",
     "iopub.status.busy": "2020-10-15T23:14:48.546694Z",
     "iopub.status.idle": "2020-10-15T23:14:48.595096Z",
     "shell.execute_reply": "2020-10-15T23:14:48.594260Z"
    },
    "papermill": {
     "duration": 0.099461,
     "end_time": "2020-10-15T23:14:48.595235",
     "exception": false,
     "start_time": "2020-10-15T23:14:48.495774",
     "status": "completed"
    },
    "tags": []
   },
   "outputs": [
    {
     "name": "stdout",
     "output_type": "stream",
     "text": [
      "cpu\n"
     ]
    }
   ],
   "source": [
    "batch_size = 256\n",
    "n_folds=5\n",
    "EARLY_STOPPING_STEPS = 10\n",
    "\n",
    "device = \"cuda\" if torch.cuda.is_available() else \"cpu\"\n",
    "print(device)\n",
    "def mean_log_loss(y_true, y_pred):\n",
    "    metrics = []\n",
    "    for i, target in enumerate(target_feats):\n",
    "        metrics.append(log_loss(y_true[:, i], y_pred[:, i].astype(float), labels=[0,1]))\n",
    "    return np.mean(metrics)\n",
    "\n",
    "def seed_everything(seed=1234): \n",
    "    random.seed(seed)\n",
    "    os.environ['PYTHONHASHSEED'] = str(seed)\n",
    "    tf.random.set_seed(seed)\n",
    "    np.random.seed(seed)\n",
    "    torch.manual_seed(seed)\n",
    "    torch.cuda.manual_seed(seed)\n",
    "    torch.backends.cudnn.deterministic = True\n",
    "\n",
    "def modelling_lstm(tr, target, te, sample_seed, init_num, last_num, files):\n",
    "    if files == []:\n",
    "        train_epochs = 20\n",
    "        mskf=MultilabelStratifiedKFold(n_splits = n_folds, shuffle=True, random_state=224)\n",
    "        ans = []\n",
    "    else:\n",
    "        train_epochs = 5\n",
    "        mskf=MultilabelStratifiedKFold(n_splits = n_folds, shuffle=True, random_state=2)\n",
    "    \n",
    "    seed_everything(seed=sample_seed) \n",
    "    X_train = tr.copy()\n",
    "    y_train = target.copy()\n",
    "    X_test = te.copy()\n",
    "    test_len = X_test.shape[0]\n",
    "    \n",
    "\n",
    "    models = []\n",
    "    \n",
    "    X_test_g = torch.tensor(X_test[:,:772], dtype=torch.float32)\n",
    "    X_test_c = torch.tensor(X_test[:,772:872], dtype=torch.float32)\n",
    "    #X_test_num = torch.tensor(X_test[:,872], dtype=torch.float32)\n",
    "\n",
    "    X_test = torch.utils.data.TensorDataset(X_test_g, X_test_c) \n",
    "    test_loader = torch.utils.data.DataLoader(X_test, batch_size=batch_size, shuffle=False)\n",
    "    \n",
    "    oof = np.zeros([len(X_train),y_train.shape[1]])\n",
    "    oof_targets = np.zeros([len(X_train),y_train.shape[1]])\n",
    "    pred_value = np.zeros([test_len, y_train.shape[1]])\n",
    "    scores = []\n",
    "    \n",
    "    for fold, (train_index, valid_index) in enumerate(mskf.split(X_train, y_train)):\n",
    "        print(\"Fold \"+str(fold+1))\n",
    "        X_train2_g = torch.tensor(X_train[train_index,:772], dtype=torch.float32)\n",
    "        X_valid2_g = torch.tensor(X_train[valid_index,:772], dtype=torch.float32)\n",
    "        X_train2_c = torch.tensor(X_train[train_index,772:872], dtype=torch.float32)\n",
    "        X_valid2_c = torch.tensor(X_train[valid_index,772:872], dtype=torch.float32)\n",
    "        #X_train2 = torch.tensor(X_train[train_index,872], dtype=torch.float32)\n",
    "        #X_valid2 = torch.tensor(X_train[valid_index,872], dtype=torch.float32)\n",
    "        \n",
    "        y_train2 = torch.tensor(y_train[train_index], dtype=torch.float32)\n",
    "        y_valid2 = torch.tensor(y_train[valid_index], dtype=torch.float32)\n",
    "            \n",
    "        clf = myLSTM(len(non_target_feats)+len(target_feats))\n",
    "        loss_fn = torch.nn.BCEWithLogitsLoss() \n",
    "        if files != []:\n",
    "            clf.load_state_dict(torch.load(files[fold]))\n",
    "            for param in clf.parameters():\n",
    "                param.requires_grad = False\n",
    "            # reinitialze\n",
    "            clf.lr1 = nn.utils.weight_norm(nn.Linear((512 + 10) * 2, len(target_feats)))\n",
    "            for param in clf.lr1.parameters():\n",
    "                param.requires_grad = True\n",
    "            optimizer = optim.Adam(clf.parameters(), lr = 0.01, weight_decay=1e-5) \n",
    "            #lookahead = Lookahead(optimizer, k=10, alpha=0.6) #lookahead\n",
    "            scheduler = optim.lr_scheduler.ReduceLROnPlateau(optimizer, mode='min', factor=0.1, patience=3, eps=1e-3, verbose=True)\n",
    "        else:\n",
    "            optimizer = optim.Adam(clf.parameters(), lr = 0.01, weight_decay=1e-5) \n",
    "            #lookahead = Lookahead(optimizer, k=10, alpha=0.6) #lookahead\n",
    "            scheduler = optim.lr_scheduler.ReduceLROnPlateau(optimizer, mode='min', factor=0.1, patience=3, eps=1e-3, verbose=True)\n",
    "        \n",
    "        train = torch.utils.data.TensorDataset(X_train2_g, X_train2_c, y_train2)\n",
    "        valid = torch.utils.data.TensorDataset(X_valid2_g, X_valid2_c, y_valid2)\n",
    "        \n",
    "        clf.to(device)\n",
    "        \n",
    "        train_loader = torch.utils.data.DataLoader(train, batch_size=batch_size, shuffle=True) \n",
    "        valid_loader = torch.utils.data.DataLoader(valid, batch_size=batch_size, shuffle=False)\n",
    "        \n",
    "        best_val_loss = np.inf\n",
    "        stop_counts = 0\n",
    "        for epoch in range(train_epochs):\n",
    "            start_time = time.time()\n",
    "            clf.train()\n",
    "            avg_loss = 0.\n",
    "            for x_batch_g, x_batch_c, y_batch in tqdm(train_loader, disable=True):\n",
    "                x_batch_g = x_batch_g.to(device)\n",
    "                x_batch_c = x_batch_c.to(device)\n",
    "                #x_batch = x_batch.to(device)\n",
    "                y_batch = y_batch.to(device)\n",
    "                y_pred = clf(x_batch_g, x_batch_c) \n",
    "                loss = loss_fn(y_pred, y_batch)\n",
    "                optimizer.zero_grad()\n",
    "                loss.backward()\n",
    "                optimizer.step()\n",
    "                avg_loss += loss.item() / len(train_loader)        \n",
    "            \n",
    "            clf.eval()\n",
    "            avg_val_loss = 0.\n",
    "            for i, (x_batch_g, x_batch_c, y_batch) in enumerate(valid_loader): \n",
    "                x_batch_g = x_batch_g.to(device)\n",
    "                x_batch_c = x_batch_c.to(device)\n",
    "                #x_batch = x_batch.to(device)\n",
    "                y_batch = y_batch.to(device)\n",
    "                y_pred = clf(x_batch_g, x_batch_c).detach()\n",
    "                avg_val_loss += loss_fn(y_pred, y_batch).item() / len(valid_loader)\n",
    "                \n",
    "            elapsed_time = time.time() - start_time \n",
    "            scheduler.step(avg_val_loss)\n",
    "                    \n",
    "            if avg_val_loss < best_val_loss:\n",
    "                stop_counts = 0\n",
    "                best_val_loss = avg_val_loss\n",
    "                print('Best model: Epoch {} \\t loss={:.6f} \\t val_loss={:.6f} \\t time={:.2f}s'.format(\n",
    "                    epoch + 1, avg_loss, avg_val_loss, elapsed_time))\n",
    "                if files == []:\n",
    "                    torch.save(clf.state_dict(), 'parameters'+str(fold+1)+'.pt')\n",
    "                else:    \n",
    "                    torch.save(clf.state_dict(), 'best-model-parameters.pt')\n",
    "\n",
    "            else:\n",
    "                stop_counts += 1\n",
    "        \n",
    "            #if stop_counts >= EARLY_STOPPING_STEPS: \n",
    "            #    break\n",
    "         \n",
    "        if files == []:\n",
    "            pred_model = myLSTM(len(non_target_feats)+len(target_feats))\n",
    "            ans.append('parameters'+str(fold+1)+'.pt')\n",
    "            pred_model.load_state_dict(torch.load('parameters'+str(fold+1)+'.pt'))\n",
    "        else:\n",
    "            pred_model = myLSTM(len(target_feats))\n",
    "            pred_model.load_state_dict(torch.load('best-model-parameters.pt'))\n",
    "        pred_model.eval()\n",
    "        \n",
    "        # validation check ----------------\n",
    "        oof_epoch = np.zeros([X_valid2_g.size(0), y_train.shape[1]])\n",
    "        target_epoch = np.zeros([X_valid2_g.size(0), y_train.shape[1]])\n",
    "        for i, (x_batch_g, x_batch_c, y_batch) in enumerate(valid_loader): \n",
    "                y_pred = pred_model(x_batch_g, x_batch_c).sigmoid().detach()\n",
    "                oof_epoch[i * batch_size:(i+1) * batch_size,:] = y_pred.cpu().numpy()\n",
    "                target_epoch[i * batch_size:(i+1) * batch_size,:] = y_batch.cpu().numpy()\n",
    "        print(\"Fold {} log loss: {}\".format(fold+1, mean_log_loss(target_epoch, oof_epoch)))\n",
    "        scores.append(mean_log_loss(target_epoch, oof_epoch))\n",
    "        oof[valid_index,:] = oof_epoch\n",
    "        oof_targets[valid_index,:] = target_epoch\n",
    "        #-----------------------------------\n",
    "        \n",
    "        if files != []:\n",
    "            # test predcition --------------\n",
    "            test_preds = np.zeros([test_len, y_train.shape[1]])\n",
    "            for i, (x_batch_g, x_batch_c, ) in enumerate(test_loader): \n",
    "                y_pred = pred_model(x_batch_g, x_batch_c).sigmoid().detach()\n",
    "                test_preds[i * batch_size:(i+1) * batch_size, :] = y_pred.cpu().numpy()\n",
    "            pred_value += test_preds / n_folds\n",
    "            # ------------------------------\n",
    "        \n",
    "    print(\"Seed {}\".format(seed_))\n",
    "    for i, ele in enumerate(scores):\n",
    "        print(\"Fold {} log loss: {}\".format(i+1, scores[i]))\n",
    "    print(\"Std of log loss: {}\".format(np.std(scores)))\n",
    "    print(\"Total log loss: {}\".format(mean_log_loss(oof_targets, oof)))\n",
    "\n",
    "    if files != []:\n",
    "        return oof, oof_targets, pred_value\n",
    "    else:\n",
    "        return ans"
   ]
  },
  {
   "cell_type": "code",
   "execution_count": 14,
   "metadata": {
    "execution": {
     "iopub.execute_input": "2020-10-15T23:14:48.648849Z",
     "iopub.status.busy": "2020-10-15T23:14:48.647792Z",
     "iopub.status.idle": "2020-10-15T23:34:47.281628Z",
     "shell.execute_reply": "2020-10-15T23:34:47.280877Z"
    },
    "papermill": {
     "duration": 1198.665622,
     "end_time": "2020-10-15T23:34:47.281767",
     "exception": false,
     "start_time": "2020-10-15T23:14:48.616145",
     "status": "completed"
    },
    "tags": []
   },
   "outputs": [
    {
     "name": "stdout",
     "output_type": "stream",
     "text": [
      "Transfer learning\n",
      "Fold 1\n",
      "Best model: Epoch 1 \t loss=0.140592 \t val_loss=0.011316 \t time=8.62s\n",
      "Best model: Epoch 2 \t loss=0.010741 \t val_loss=0.010440 \t time=7.75s\n",
      "Best model: Epoch 3 \t loss=0.010137 \t val_loss=0.010240 \t time=7.71s\n",
      "Best model: Epoch 4 \t loss=0.009989 \t val_loss=0.010113 \t time=7.62s\n",
      "Best model: Epoch 5 \t loss=0.009888 \t val_loss=0.010073 \t time=8.07s\n",
      "Best model: Epoch 6 \t loss=0.009802 \t val_loss=0.009994 \t time=8.40s\n",
      "Best model: Epoch 7 \t loss=0.009765 \t val_loss=0.009938 \t time=7.90s\n",
      "Best model: Epoch 8 \t loss=0.009784 \t val_loss=0.009902 \t time=7.70s\n",
      "Epoch    12: reducing learning rate of group 0 to 1.0000e-03.\n",
      "Best model: Epoch 13 \t loss=0.009324 \t val_loss=0.009510 \t time=8.51s\n",
      "Best model: Epoch 14 \t loss=0.008938 \t val_loss=0.009430 \t time=8.72s\n",
      "Best model: Epoch 15 \t loss=0.008785 \t val_loss=0.009388 \t time=7.80s\n",
      "Best model: Epoch 17 \t loss=0.008639 \t val_loss=0.009369 \t time=8.46s\n",
      "Best model: Epoch 18 \t loss=0.008589 \t val_loss=0.009363 \t time=11.77s\n",
      "Fold 1 log loss: 0.01652003888647349\n",
      "Fold 2\n",
      "Best model: Epoch 1 \t loss=0.138484 \t val_loss=0.011320 \t time=8.09s\n",
      "Best model: Epoch 2 \t loss=0.010654 \t val_loss=0.010514 \t time=7.74s\n",
      "Best model: Epoch 3 \t loss=0.010134 \t val_loss=0.010381 \t time=7.67s\n",
      "Best model: Epoch 4 \t loss=0.009995 \t val_loss=0.010349 \t time=7.97s\n",
      "Best model: Epoch 5 \t loss=0.009907 \t val_loss=0.010141 \t time=7.61s\n",
      "Best model: Epoch 7 \t loss=0.009799 \t val_loss=0.010065 \t time=7.78s\n",
      "Best model: Epoch 8 \t loss=0.009799 \t val_loss=0.010027 \t time=7.96s\n",
      "Epoch    12: reducing learning rate of group 0 to 1.0000e-03.\n",
      "Best model: Epoch 13 \t loss=0.009367 \t val_loss=0.009609 \t time=8.22s\n",
      "Best model: Epoch 14 \t loss=0.008975 \t val_loss=0.009514 \t time=8.22s\n",
      "Best model: Epoch 15 \t loss=0.008829 \t val_loss=0.009501 \t time=7.63s\n",
      "Best model: Epoch 16 \t loss=0.008724 \t val_loss=0.009491 \t time=7.98s\n",
      "Fold 2 log loss: 0.016577843930315996\n",
      "Fold 3\n",
      "Best model: Epoch 1 \t loss=0.138479 \t val_loss=0.011219 \t time=7.97s\n",
      "Best model: Epoch 2 \t loss=0.010621 \t val_loss=0.010469 \t time=8.09s\n",
      "Best model: Epoch 3 \t loss=0.010155 \t val_loss=0.010416 \t time=7.66s\n",
      "Best model: Epoch 4 \t loss=0.010792 \t val_loss=0.010331 \t time=7.58s\n",
      "Best model: Epoch 5 \t loss=0.010031 \t val_loss=0.010258 \t time=7.71s\n",
      "Best model: Epoch 6 \t loss=0.009893 \t val_loss=0.010105 \t time=8.40s\n",
      "Best model: Epoch 7 \t loss=0.009854 \t val_loss=0.010092 \t time=8.07s\n",
      "Best model: Epoch 9 \t loss=0.009874 \t val_loss=0.010012 \t time=7.83s\n",
      "Epoch    13: reducing learning rate of group 0 to 1.0000e-03.\n",
      "Best model: Epoch 14 \t loss=0.009384 \t val_loss=0.009609 \t time=8.89s\n",
      "Best model: Epoch 15 \t loss=0.009030 \t val_loss=0.009539 \t time=7.70s\n",
      "Best model: Epoch 16 \t loss=0.008885 \t val_loss=0.009522 \t time=7.62s\n",
      "Best model: Epoch 17 \t loss=0.008793 \t val_loss=0.009510 \t time=8.58s\n",
      "Fold 3 log loss: 0.01660496719824384\n",
      "Fold 4\n",
      "Best model: Epoch 1 \t loss=0.139605 \t val_loss=0.011185 \t time=8.01s\n",
      "Best model: Epoch 2 \t loss=0.010728 \t val_loss=0.010347 \t time=7.70s\n",
      "Best model: Epoch 4 \t loss=0.010051 \t val_loss=0.010002 \t time=8.04s\n",
      "Best model: Epoch 6 \t loss=0.009840 \t val_loss=0.009865 \t time=7.67s\n",
      "Best model: Epoch 9 \t loss=0.009839 \t val_loss=0.009863 \t time=7.66s\n",
      "Epoch    13: reducing learning rate of group 0 to 1.0000e-03.\n",
      "Best model: Epoch 14 \t loss=0.009396 \t val_loss=0.009428 \t time=8.35s\n",
      "Best model: Epoch 15 \t loss=0.009004 \t val_loss=0.009341 \t time=8.16s\n",
      "Best model: Epoch 16 \t loss=0.008864 \t val_loss=0.009328 \t time=8.17s\n",
      "Best model: Epoch 17 \t loss=0.008775 \t val_loss=0.009325 \t time=8.54s\n",
      "Fold 4 log loss: 0.01632692896555786\n",
      "Fold 5\n",
      "Best model: Epoch 1 \t loss=0.134481 \t val_loss=0.011144 \t time=8.13s\n",
      "Best model: Epoch 2 \t loss=0.010567 \t val_loss=0.010432 \t time=8.17s\n",
      "Best model: Epoch 3 \t loss=0.010085 \t val_loss=0.010359 \t time=7.80s\n",
      "Best model: Epoch 4 \t loss=0.009992 \t val_loss=0.010125 \t time=7.65s\n",
      "Best model: Epoch 5 \t loss=0.009900 \t val_loss=0.010105 \t time=7.57s\n",
      "Best model: Epoch 6 \t loss=0.009823 \t val_loss=0.010024 \t time=7.95s\n",
      "Best model: Epoch 7 \t loss=0.009809 \t val_loss=0.009990 \t time=8.12s\n",
      "Best model: Epoch 9 \t loss=0.009877 \t val_loss=0.009970 \t time=7.66s\n",
      "Epoch    13: reducing learning rate of group 0 to 1.0000e-03.\n",
      "Best model: Epoch 14 \t loss=0.009435 \t val_loss=0.009562 \t time=8.14s\n",
      "Best model: Epoch 15 \t loss=0.009067 \t val_loss=0.009491 \t time=8.22s\n",
      "Best model: Epoch 16 \t loss=0.008923 \t val_loss=0.009448 \t time=7.84s\n",
      "Best model: Epoch 17 \t loss=0.008831 \t val_loss=0.009439 \t time=8.42s\n",
      "Fold 5 log loss: 0.016597789164527803\n",
      "Seed 0\n",
      "Fold 1 log loss: 0.01652003888647349\n",
      "Fold 2 log loss: 0.016577843930315996\n",
      "Fold 3 log loss: 0.01660496719824384\n",
      "Fold 4 log loss: 0.01632692896555786\n",
      "Fold 5 log loss: 0.016597789164527803\n",
      "Std of log loss: 0.00010367345320514673\n",
      "Total log loss: 0.016525506965044113\n",
      "Final prediction\n",
      "Fold 1\n",
      "Best model: Epoch 1 \t loss=0.032200 \t val_loss=0.020169 \t time=3.40s\n",
      "Best model: Epoch 2 \t loss=0.019383 \t val_loss=0.018235 \t time=3.41s\n",
      "Best model: Epoch 3 \t loss=0.017578 \t val_loss=0.016831 \t time=3.31s\n",
      "Best model: Epoch 4 \t loss=0.016480 \t val_loss=0.015989 \t time=3.29s\n",
      "Best model: Epoch 5 \t loss=0.015675 \t val_loss=0.015312 \t time=3.38s\n",
      "Fold 1 log loss: 0.015341977179625193\n",
      "Fold 2\n",
      "Best model: Epoch 1 \t loss=0.032369 \t val_loss=0.020086 \t time=3.28s\n",
      "Best model: Epoch 2 \t loss=0.019297 \t val_loss=0.018073 \t time=3.85s\n",
      "Best model: Epoch 3 \t loss=0.017582 \t val_loss=0.016821 \t time=3.51s\n",
      "Best model: Epoch 4 \t loss=0.016544 \t val_loss=0.015988 \t time=3.37s\n",
      "Best model: Epoch 5 \t loss=0.015802 \t val_loss=0.015383 \t time=3.29s\n",
      "Fold 2 log loss: 0.01566130957042897\n",
      "Fold 3\n",
      "Best model: Epoch 1 \t loss=0.032357 \t val_loss=0.019873 \t time=3.36s\n",
      "Best model: Epoch 2 \t loss=0.019238 \t val_loss=0.017915 \t time=3.34s\n",
      "Best model: Epoch 3 \t loss=0.017625 \t val_loss=0.016704 \t time=3.31s\n",
      "Best model: Epoch 4 \t loss=0.016641 \t val_loss=0.015840 \t time=3.39s\n",
      "Best model: Epoch 5 \t loss=0.015909 \t val_loss=0.015259 \t time=3.64s\n",
      "Fold 3 log loss: 0.015510631596511629\n",
      "Fold 4\n",
      "Best model: Epoch 1 \t loss=0.032259 \t val_loss=0.019985 \t time=3.39s\n",
      "Best model: Epoch 2 \t loss=0.019293 \t val_loss=0.018007 \t time=3.40s\n",
      "Best model: Epoch 3 \t loss=0.017641 \t val_loss=0.016826 \t time=3.45s\n",
      "Best model: Epoch 4 \t loss=0.016676 \t val_loss=0.016000 \t time=3.41s\n",
      "Best model: Epoch 5 \t loss=0.015967 \t val_loss=0.015391 \t time=3.30s\n",
      "Fold 4 log loss: 0.01553360844607485\n",
      "Fold 5\n",
      "Best model: Epoch 1 \t loss=0.032165 \t val_loss=0.020080 \t time=3.29s\n",
      "Best model: Epoch 2 \t loss=0.019291 \t val_loss=0.018242 \t time=3.49s\n",
      "Best model: Epoch 3 \t loss=0.017593 \t val_loss=0.017022 \t time=3.30s\n",
      "Best model: Epoch 4 \t loss=0.016562 \t val_loss=0.016290 \t time=3.79s\n",
      "Best model: Epoch 5 \t loss=0.015877 \t val_loss=0.015711 \t time=3.39s\n",
      "Fold 5 log loss: 0.015683149337513226\n",
      "Seed 0\n",
      "Fold 1 log loss: 0.015341977179625193\n",
      "Fold 2 log loss: 0.01566130957042897\n",
      "Fold 3 log loss: 0.015510631596511629\n",
      "Fold 4 log loss: 0.01553360844607485\n",
      "Fold 5 log loss: 0.015683149337513226\n",
      "Std of log loss: 0.0001225854250636023\n",
      "Total log loss: 0.01554614671682477\n",
      "Fold 1\n",
      "Best model: Epoch 1 \t loss=0.032288 \t val_loss=0.020175 \t time=3.34s\n",
      "Best model: Epoch 2 \t loss=0.019292 \t val_loss=0.018069 \t time=3.41s\n",
      "Best model: Epoch 3 \t loss=0.017526 \t val_loss=0.016771 \t time=3.33s\n",
      "Best model: Epoch 4 \t loss=0.016437 \t val_loss=0.015937 \t time=3.68s\n",
      "Best model: Epoch 5 \t loss=0.015649 \t val_loss=0.015301 \t time=3.71s\n",
      "Fold 1 log loss: 0.015333298753319277\n",
      "Fold 2\n",
      "Best model: Epoch 1 \t loss=0.032441 \t val_loss=0.020147 \t time=3.77s\n",
      "Best model: Epoch 2 \t loss=0.019367 \t val_loss=0.018105 \t time=3.46s\n",
      "Best model: Epoch 3 \t loss=0.017618 \t val_loss=0.016823 \t time=3.41s\n",
      "Best model: Epoch 4 \t loss=0.016523 \t val_loss=0.015997 \t time=3.42s\n",
      "Best model: Epoch 5 \t loss=0.015777 \t val_loss=0.015369 \t time=3.41s\n",
      "Fold 2 log loss: 0.015648204194727438\n",
      "Fold 3\n",
      "Best model: Epoch 1 \t loss=0.032317 \t val_loss=0.019955 \t time=3.35s\n",
      "Best model: Epoch 2 \t loss=0.019292 \t val_loss=0.017951 \t time=3.34s\n",
      "Best model: Epoch 3 \t loss=0.017672 \t val_loss=0.016739 \t time=3.70s\n",
      "Best model: Epoch 4 \t loss=0.016700 \t val_loss=0.015914 \t time=3.87s\n",
      "Best model: Epoch 5 \t loss=0.015956 \t val_loss=0.015294 \t time=3.42s\n",
      "Fold 3 log loss: 0.015553989944480193\n",
      "Fold 4\n",
      "Best model: Epoch 1 \t loss=0.032431 \t val_loss=0.020099 \t time=3.45s\n",
      "Best model: Epoch 2 \t loss=0.019434 \t val_loss=0.018222 \t time=3.53s\n",
      "Best model: Epoch 3 \t loss=0.017735 \t val_loss=0.016887 \t time=3.41s\n",
      "Best model: Epoch 4 \t loss=0.016702 \t val_loss=0.016015 \t time=3.80s\n",
      "Best model: Epoch 5 \t loss=0.015959 \t val_loss=0.015419 \t time=3.40s\n",
      "Fold 4 log loss: 0.015545015207525796\n",
      "Fold 5\n",
      "Best model: Epoch 1 \t loss=0.032153 \t val_loss=0.020175 \t time=3.64s\n",
      "Best model: Epoch 2 \t loss=0.019377 \t val_loss=0.018322 \t time=3.72s\n",
      "Best model: Epoch 3 \t loss=0.017619 \t val_loss=0.017062 \t time=3.35s\n",
      "Best model: Epoch 4 \t loss=0.016572 \t val_loss=0.016252 \t time=3.39s\n",
      "Best model: Epoch 5 \t loss=0.015846 \t val_loss=0.015680 \t time=3.33s\n",
      "Fold 5 log loss: 0.015656515486322235\n",
      "Seed 10\n",
      "Fold 1 log loss: 0.015333298753319277\n",
      "Fold 2 log loss: 0.015648204194727438\n",
      "Fold 3 log loss: 0.015553989944480193\n",
      "Fold 4 log loss: 0.015545015207525796\n",
      "Fold 5 log loss: 0.015656515486322235\n",
      "Std of log loss: 0.0001165814164885283\n",
      "Total log loss: 0.015547414281691376\n",
      "Fold 1\n",
      "Best model: Epoch 1 \t loss=0.032250 \t val_loss=0.020160 \t time=3.50s\n",
      "Best model: Epoch 2 \t loss=0.019334 \t val_loss=0.018170 \t time=3.37s\n",
      "Best model: Epoch 3 \t loss=0.017574 \t val_loss=0.016822 \t time=3.35s\n",
      "Best model: Epoch 4 \t loss=0.016502 \t val_loss=0.015990 \t time=3.95s\n",
      "Best model: Epoch 5 \t loss=0.015671 \t val_loss=0.015384 \t time=3.41s\n",
      "Fold 1 log loss: 0.015385419103509098\n",
      "Fold 2\n",
      "Best model: Epoch 1 \t loss=0.032321 \t val_loss=0.020139 \t time=3.44s\n",
      "Best model: Epoch 2 \t loss=0.019332 \t val_loss=0.018076 \t time=3.34s\n",
      "Best model: Epoch 3 \t loss=0.017566 \t val_loss=0.016787 \t time=3.35s\n",
      "Best model: Epoch 4 \t loss=0.016497 \t val_loss=0.015943 \t time=3.91s\n",
      "Best model: Epoch 5 \t loss=0.015728 \t val_loss=0.015407 \t time=3.44s\n",
      "Fold 2 log loss: 0.015669875048126013\n",
      "Fold 3\n",
      "Best model: Epoch 1 \t loss=0.032088 \t val_loss=0.019873 \t time=3.42s\n",
      "Best model: Epoch 2 \t loss=0.019338 \t val_loss=0.018009 \t time=3.85s\n",
      "Best model: Epoch 3 \t loss=0.017678 \t val_loss=0.016695 \t time=3.50s\n",
      "Best model: Epoch 4 \t loss=0.016618 \t val_loss=0.015831 \t time=3.33s\n",
      "Best model: Epoch 5 \t loss=0.015918 \t val_loss=0.015266 \t time=3.45s\n",
      "Fold 3 log loss: 0.015528350815945571\n",
      "Fold 4\n",
      "Best model: Epoch 1 \t loss=0.032394 \t val_loss=0.020040 \t time=3.40s\n",
      "Best model: Epoch 2 \t loss=0.019378 \t val_loss=0.018118 \t time=3.38s\n",
      "Best model: Epoch 3 \t loss=0.017733 \t val_loss=0.016850 \t time=3.45s\n",
      "Best model: Epoch 4 \t loss=0.016707 \t val_loss=0.016019 \t time=3.58s\n",
      "Best model: Epoch 5 \t loss=0.015982 \t val_loss=0.015423 \t time=3.55s\n",
      "Fold 4 log loss: 0.01555942817249808\n",
      "Fold 5\n",
      "Best model: Epoch 1 \t loss=0.032663 \t val_loss=0.020227 \t time=3.53s\n",
      "Best model: Epoch 2 \t loss=0.019440 \t val_loss=0.018406 \t time=3.37s\n",
      "Best model: Epoch 3 \t loss=0.017696 \t val_loss=0.017154 \t time=3.43s\n",
      "Best model: Epoch 4 \t loss=0.016662 \t val_loss=0.016314 \t time=3.89s\n",
      "Best model: Epoch 5 \t loss=0.015927 \t val_loss=0.015734 \t time=3.37s\n",
      "Fold 5 log loss: 0.01571284996883867\n",
      "Seed 40\n",
      "Fold 1 log loss: 0.015385419103509098\n",
      "Fold 2 log loss: 0.015669875048126013\n",
      "Fold 3 log loss: 0.015528350815945571\n",
      "Fold 4 log loss: 0.01555942817249808\n",
      "Fold 5 log loss: 0.01571284996883867\n",
      "Std of log loss: 0.00011514395130448497\n",
      "Total log loss: 0.015571195573429427\n",
      "Total log loss in targets: 0.015492202301822786\n"
     ]
    }
   ],
   "source": [
    "print(\"Transfer learning\")\n",
    "for seed_ in [0]:\n",
    "    files = modelling_lstm(fn_train, fn_all_targets, fn_test, seed_, fn_train.shape[1], fn_all_targets.shape[1],[])\n",
    "\n",
    "target_oof = np.zeros([len(fn_train),fn_targets.shape[1]])\n",
    "target_pred = np.zeros([len(fn_test),fn_targets.shape[1]])\n",
    "\n",
    "seeds = [0,10,40]\n",
    "#seeds = [0,1,2,3]\n",
    "\n",
    "print(\"Final prediction\")\n",
    "for seed_ in seeds:\n",
    "    oof, oof_targets, pytorch_pred = modelling_lstm(fn_train, fn_targets, fn_test, seed_, fn_train.shape[1], fn_targets.shape[1],files)\n",
    "    target_oof += oof / len(seeds)\n",
    "    target_pred += pytorch_pred / len(seeds)\n",
    "print(\"Total log loss in targets: {}\".format(mean_log_loss(oof_targets, target_oof)))"
   ]
  },
  {
   "cell_type": "code",
   "execution_count": 15,
   "metadata": {
    "execution": {
     "iopub.execute_input": "2020-10-15T23:34:47.484164Z",
     "iopub.status.busy": "2020-10-15T23:34:47.483132Z",
     "iopub.status.idle": "2020-10-15T23:34:54.605401Z",
     "shell.execute_reply": "2020-10-15T23:34:54.606554Z"
    },
    "papermill": {
     "duration": 7.229755,
     "end_time": "2020-10-15T23:34:54.606815",
     "exception": false,
     "start_time": "2020-10-15T23:34:47.377060",
     "status": "completed"
    },
    "tags": []
   },
   "outputs": [
    {
     "name": "stdout",
     "output_type": "stream",
     "text": [
      "OOF log loss:  0.01427822466375956\n"
     ]
    }
   ],
   "source": [
    "t = pd.read_csv(DATA_DIR + 'train_targets_scored.csv')\n",
    "train_checkscore = t.copy()\n",
    "train_checkscore.loc[train_checkscore.index.isin(cons_train_index),target_feats] = target_oof\n",
    "train_checkscore.loc[train_checkscore.index.isin(noncons_train_index),target_feats] = 0\n",
    "\n",
    "train_checkscore.drop(original_remove_index, inplace=True)\n",
    "t.drop(original_remove_index, inplace=True)\n",
    "t.drop(\"sig_id\", axis=1, inplace=True)\n",
    "\n",
    "print('OOF log loss: ', log_loss(np.ravel(t), np.ravel(np.array(train_checkscore.iloc[:,1:]))))"
   ]
  },
  {
   "cell_type": "code",
   "execution_count": 16,
   "metadata": {
    "execution": {
     "iopub.execute_input": "2020-10-15T23:34:54.813955Z",
     "iopub.status.busy": "2020-10-15T23:34:54.812850Z",
     "iopub.status.idle": "2020-10-15T23:34:57.683435Z",
     "shell.execute_reply": "2020-10-15T23:34:57.682672Z"
    },
    "papermill": {
     "duration": 2.980849,
     "end_time": "2020-10-15T23:34:57.683560",
     "exception": false,
     "start_time": "2020-10-15T23:34:54.702711",
     "status": "completed"
    },
    "tags": []
   },
   "outputs": [],
   "source": [
    "sub[target_feats] = target_pred\n",
    "sub.loc[noncons_test_index,target_feats] = 0\n",
    "sub.to_csv('submission.csv', index=False)"
   ]
  },
  {
   "cell_type": "code",
   "execution_count": null,
   "metadata": {
    "papermill": {
     "duration": 0.094666,
     "end_time": "2020-10-15T23:34:57.872966",
     "exception": false,
     "start_time": "2020-10-15T23:34:57.778300",
     "status": "completed"
    },
    "tags": []
   },
   "outputs": [],
   "source": []
  }
 ],
 "metadata": {
  "kernelspec": {
   "display_name": "Python 3",
   "language": "python",
   "name": "python3"
  },
  "language_info": {
   "codemirror_mode": {
    "name": "ipython",
    "version": 3
   },
   "file_extension": ".py",
   "mimetype": "text/x-python",
   "name": "python",
   "nbconvert_exporter": "python",
   "pygments_lexer": "ipython3",
   "version": "3.7.6"
  },
  "papermill": {
   "duration": 1232.629637,
   "end_time": "2020-10-15T23:34:58.077367",
   "environment_variables": {},
   "exception": null,
   "input_path": "__notebook__.ipynb",
   "output_path": "__notebook__.ipynb",
   "parameters": {},
   "start_time": "2020-10-15T23:14:25.447730",
   "version": "2.1.0"
  }
 },
 "nbformat": 4,
 "nbformat_minor": 4
}
