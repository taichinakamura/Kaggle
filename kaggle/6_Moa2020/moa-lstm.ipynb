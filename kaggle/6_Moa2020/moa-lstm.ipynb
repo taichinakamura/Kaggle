{
 "cells": [
  {
   "cell_type": "markdown",
   "metadata": {
    "papermill": {
     "duration": 0.011197,
     "end_time": "2020-10-14T11:39:47.009453",
     "exception": false,
     "start_time": "2020-10-14T11:39:46.998256",
     "status": "completed"
    },
    "tags": []
   },
   "source": [
    "- modify lstm structure (try g+c_feats)"
   ]
  },
  {
   "cell_type": "code",
   "execution_count": 1,
   "metadata": {
    "_cell_guid": "b1076dfc-b9ad-4769-8c92-a6c4dae69d19",
    "_uuid": "8f2839f25d086af736a60e9eeb907d3b93b6e0e5",
    "execution": {
     "iopub.execute_input": "2020-10-14T11:39:47.039352Z",
     "iopub.status.busy": "2020-10-14T11:39:47.038762Z",
     "iopub.status.idle": "2020-10-14T11:39:54.390181Z",
     "shell.execute_reply": "2020-10-14T11:39:54.388989Z"
    },
    "papermill": {
     "duration": 7.370271,
     "end_time": "2020-10-14T11:39:54.390299",
     "exception": false,
     "start_time": "2020-10-14T11:39:47.020028",
     "status": "completed"
    },
    "tags": []
   },
   "outputs": [],
   "source": [
    "import os\n",
    "import sys\n",
    "import random\n",
    "import warnings\n",
    "import numpy as np\n",
    "import pandas as pd \n",
    "from sklearn import preprocessing\n",
    "from sklearn.metrics import log_loss, mean_squared_error\n",
    "from sklearn.decomposition import PCA\n",
    "from tqdm import tqdm_notebook as tqdm\n",
    "from sklearn.multioutput import MultiOutputClassifier\n",
    "from sklearn.feature_selection import VarianceThreshold\n",
    "\n",
    "sys.path.append('../input/multilabelstraifier/')\n",
    "sys.path.append('../input/lookahead/')\n",
    "from ml_stratifiers import MultilabelStratifiedKFold\n",
    "from lookahead import Lookahead\n",
    "warnings.filterwarnings('ignore')\n",
    "\n",
    "import time\n",
    "import torch\n",
    "import torch.nn as nn\n",
    "import torch.optim as optim\n",
    "import torch.nn.functional as F\n",
    "import tensorflow as tf"
   ]
  },
  {
   "cell_type": "code",
   "execution_count": 2,
   "metadata": {
    "_cell_guid": "79c7e3d0-c299-4dcb-8224-4455121ee9b0",
    "_uuid": "d629ff2d2480ee46fbb7e2d37f6b5fab8052498a",
    "execution": {
     "iopub.execute_input": "2020-10-14T11:39:54.420897Z",
     "iopub.status.busy": "2020-10-14T11:39:54.419981Z",
     "iopub.status.idle": "2020-10-14T11:40:00.567014Z",
     "shell.execute_reply": "2020-10-14T11:40:00.565822Z"
    },
    "papermill": {
     "duration": 6.165705,
     "end_time": "2020-10-14T11:40:00.567131",
     "exception": false,
     "start_time": "2020-10-14T11:39:54.401426",
     "status": "completed"
    },
    "tags": []
   },
   "outputs": [],
   "source": [
    "DATA_DIR = '/kaggle/input/lish-moa/'\n",
    "train = pd.read_csv(DATA_DIR + 'train_features.csv')\n",
    "targets = pd.read_csv(DATA_DIR + 'train_targets_scored.csv')\n",
    "non_targets = pd.read_csv(DATA_DIR + 'train_targets_nonscored.csv')\n",
    "test = pd.read_csv(DATA_DIR + 'test_features.csv')\n",
    "sub = pd.read_csv(DATA_DIR + 'sample_submission.csv')"
   ]
  },
  {
   "cell_type": "code",
   "execution_count": 3,
   "metadata": {
    "execution": {
     "iopub.execute_input": "2020-10-14T11:40:00.596486Z",
     "iopub.status.busy": "2020-10-14T11:40:00.594722Z",
     "iopub.status.idle": "2020-10-14T11:40:00.597119Z",
     "shell.execute_reply": "2020-10-14T11:40:00.597599Z"
    },
    "papermill": {
     "duration": 0.019413,
     "end_time": "2020-10-14T11:40:00.597716",
     "exception": false,
     "start_time": "2020-10-14T11:40:00.578303",
     "status": "completed"
    },
    "tags": []
   },
   "outputs": [],
   "source": [
    "target_feats = [ i for i in targets.columns if i != \"sig_id\"]\n",
    "g_feats = [i for i in train.columns if \"g-\" in i]\n",
    "c_feats = [i for i in train.columns if \"c-\" in i]"
   ]
  },
  {
   "cell_type": "code",
   "execution_count": 4,
   "metadata": {
    "execution": {
     "iopub.execute_input": "2020-10-14T11:40:00.629907Z",
     "iopub.status.busy": "2020-10-14T11:40:00.629120Z",
     "iopub.status.idle": "2020-10-14T11:40:00.726162Z",
     "shell.execute_reply": "2020-10-14T11:40:00.725627Z"
    },
    "papermill": {
     "duration": 0.116287,
     "end_time": "2020-10-14T11:40:00.726277",
     "exception": false,
     "start_time": "2020-10-14T11:40:00.609990",
     "status": "completed"
    },
    "tags": []
   },
   "outputs": [],
   "source": [
    "noncons_train_index = train[train.cp_type==\"ctl_vehicle\"].index\n",
    "cons_train_index = train[train.cp_type!=\"ctl_vehicle\"].index\n",
    "noncons_test_index = test[test.cp_type==\"ctl_vehicle\"].index\n",
    "cons_test_index = test[test.cp_type!=\"ctl_vehicle\"].index"
   ]
  },
  {
   "cell_type": "markdown",
   "metadata": {
    "papermill": {
     "duration": 0.010504,
     "end_time": "2020-10-14T11:40:00.748174",
     "exception": false,
     "start_time": "2020-10-14T11:40:00.737670",
     "status": "completed"
    },
    "tags": []
   },
   "source": [
    "# preprocess"
   ]
  },
  {
   "cell_type": "code",
   "execution_count": 5,
   "metadata": {
    "execution": {
     "iopub.execute_input": "2020-10-14T11:40:00.783763Z",
     "iopub.status.busy": "2020-10-14T11:40:00.782781Z",
     "iopub.status.idle": "2020-10-14T11:40:01.086244Z",
     "shell.execute_reply": "2020-10-14T11:40:01.085663Z"
    },
    "papermill": {
     "duration": 0.326889,
     "end_time": "2020-10-14T11:40:01.086399",
     "exception": false,
     "start_time": "2020-10-14T11:40:00.759510",
     "status": "completed"
    },
    "tags": []
   },
   "outputs": [],
   "source": [
    "train = train[train.index.isin(cons_train_index)].copy().reset_index(drop=True)\n",
    "targets = targets[targets.index.isin(cons_train_index)].copy().reset_index(drop=True)\n",
    "non_targets = non_targets[non_targets.index.isin(cons_train_index)].copy().reset_index(drop=True)"
   ]
  },
  {
   "cell_type": "markdown",
   "metadata": {
    "papermill": {
     "duration": 0.011996,
     "end_time": "2020-10-14T11:40:01.110901",
     "exception": false,
     "start_time": "2020-10-14T11:40:01.098905",
     "status": "completed"
    },
    "tags": []
   },
   "source": [
    "# feature engineering"
   ]
  },
  {
   "cell_type": "code",
   "execution_count": 6,
   "metadata": {
    "execution": {
     "iopub.execute_input": "2020-10-14T11:40:01.144065Z",
     "iopub.status.busy": "2020-10-14T11:40:01.142794Z",
     "iopub.status.idle": "2020-10-14T11:40:01.277812Z",
     "shell.execute_reply": "2020-10-14T11:40:01.278508Z"
    },
    "papermill": {
     "duration": 0.15578,
     "end_time": "2020-10-14T11:40:01.278687",
     "exception": false,
     "start_time": "2020-10-14T11:40:01.122907",
     "status": "completed"
    },
    "tags": []
   },
   "outputs": [
    {
     "name": "stdout",
     "output_type": "stream",
     "text": [
      "(21948, 872) (3982, 872)\n"
     ]
    }
   ],
   "source": [
    "def fe(df):\n",
    "    tmp = df.copy()\n",
    "    #tmp['g_sum'] = tmp[g_feats].sum(axis = 1)\n",
    "    #tmp['g_mean'] = tmp[g_feats].mean(axis = 1)\n",
    "    #tmp['g_std'] = tmp[g_feats].std(axis = 1)\n",
    "    #tmp['g_kurt'] = tmp[g_feats].kurtosis(axis = 1)\n",
    "    #tmp['g_skew'] = tmp[g_feats].skew(axis = 1)\n",
    "    #tmp['c_sum'] = tmp[c_feats].sum(axis = 1)\n",
    "    #tmp['c_mean'] = tmp[c_feats].mean(axis = 1)\n",
    "    #tmp['c_std'] = tmp[c_feats].std(axis = 1)\n",
    "    #tmp['c_kurt'] = tmp[c_feats].kurtosis(axis = 1)\n",
    "    #tmp['c_skew'] = tmp[c_feats].skew(axis = 1)\n",
    "    #tmp['gc_sum'] = tmp[c_feats + g_feats].sum(axis = 1)\n",
    "    #tmp['gc_mean'] = tmp[c_feats + g_feats].mean(axis = 1)\n",
    "    #tmp['gc_std'] = tmp[c_feats + g_feats].std(axis = 1)\n",
    "    #tmp['gc_kurt'] = tmp[c_feats + g_feats].kurtosis(axis = 1)\n",
    "    #tmp['gc_skew'] = tmp[c_feats + g_feats].skew(axis = 1)\n",
    "    tmp.loc[:, 'cp_dose'] = tmp.loc[:, 'cp_dose'].map({'D1': 0, 'D2': 1})\n",
    "        \n",
    "    tmp.drop([\"cp_type\", \"sig_id\", \"cp_time\", \"cp_dose\"], axis=1, inplace=True)\n",
    "    return tmp\n",
    "\n",
    "f_train = fe(train)\n",
    "f_test = fe(test)\n",
    "\n",
    "print(f_train.shape, f_test.shape)"
   ]
  },
  {
   "cell_type": "code",
   "execution_count": 7,
   "metadata": {
    "execution": {
     "iopub.execute_input": "2020-10-14T11:40:01.311541Z",
     "iopub.status.busy": "2020-10-14T11:40:01.310362Z",
     "iopub.status.idle": "2020-10-14T11:40:02.437571Z",
     "shell.execute_reply": "2020-10-14T11:40:02.438732Z"
    },
    "papermill": {
     "duration": 1.147184,
     "end_time": "2020-10-14T11:40:02.438919",
     "exception": false,
     "start_time": "2020-10-14T11:40:01.291735",
     "status": "completed"
    },
    "tags": []
   },
   "outputs": [],
   "source": [
    "fn_train = f_train.copy().to_numpy()\n",
    "fn_test = f_test.copy().to_numpy()\n",
    "\n",
    "ss = preprocessing.RobustScaler()\n",
    "fn_train= ss.fit_transform(fn_train)\n",
    "fn_test = ss.transform(fn_test)\n",
    "\n",
    "fn_nontargets = non_targets.drop(\"sig_id\", axis=1).copy().to_numpy()\n",
    "fn_targets = targets.drop(\"sig_id\", axis=1).copy().to_numpy()"
   ]
  },
  {
   "cell_type": "code",
   "execution_count": 8,
   "metadata": {
    "execution": {
     "iopub.execute_input": "2020-10-14T11:40:02.482242Z",
     "iopub.status.busy": "2020-10-14T11:40:02.481391Z",
     "iopub.status.idle": "2020-10-14T11:40:02.501623Z",
     "shell.execute_reply": "2020-10-14T11:40:02.502672Z"
    },
    "papermill": {
     "duration": 0.046701,
     "end_time": "2020-10-14T11:40:02.502861",
     "exception": false,
     "start_time": "2020-10-14T11:40:02.456160",
     "status": "completed"
    },
    "tags": []
   },
   "outputs": [],
   "source": [
    "class myLSTM(nn.Module):\n",
    "    def __init__(self):\n",
    "        super().__init__()\n",
    "\n",
    "        self.lstm_hidden_size = 772\n",
    "        self.c_lstm_hidden_size = 100\n",
    "        self.g_layer_num = 1\n",
    "        self.c_layer_num = 1\n",
    "        self.gc_layer_num = 1\n",
    "        \n",
    "        self.hidden_dim = 512\n",
    "        self.hidden_dim_c = 10\n",
    "        self.hidden_dim_gc = 550\n",
    "\n",
    "        self.target_length = 206\n",
    "        self.num_feats = 6\n",
    "        \n",
    "        self.lstm = nn.LSTM(self.lstm_hidden_size, self.hidden_dim, batch_first=True, bidirectional=True, num_layers=self.g_layer_num)\n",
    "        self.c_lstm = nn.LSTM(self.c_lstm_hidden_size, self.hidden_dim_c, batch_first=True, bidirectional=True, num_layers=self.c_layer_num)\n",
    "        self.gc_lstm = nn.LSTM(self.lstm_hidden_size + self.c_lstm_hidden_size, self.hidden_dim_gc, batch_first=True,\n",
    "                              bidirectional=True, num_layers=self.gc_layer_num)\n",
    "\n",
    "        self.dropout = nn.Dropout(0.1)\n",
    "        self.out = nn.utils.weight_norm(nn.Linear((self.hidden_dim + self.hidden_dim_c + self.hidden_dim_gc) * 2 , self.target_length))\n",
    "        self.batch_norm = nn.BatchNorm1d((self.hidden_dim + self.hidden_dim_c + self.hidden_dim_gc) * 2) \n",
    "\n",
    "    def forward(self, cont_g, cont_c, cont_gc): \n",
    "        cont_g = torch.unsqueeze(cont_g, 1)\n",
    "        h_lstm, lstm_out = self.lstm(cont_g) # h_lstm: 256 * 1 * (2 * 512)\n",
    "        conc_g = h_lstm.view(-1, self.hidden_dim * 2)\n",
    "        \n",
    "        cont_c = torch.unsqueeze(cont_c, 1)\n",
    "        h_lstm_c, lstm_out_c = self.c_lstm(cont_c) # h_lstm: 256 * 1 * (2 * 5)\n",
    "        conc_c = h_lstm_c.view(-1, self.hidden_dim_c * 2)\n",
    "        \n",
    "        cont_gc = torch.unsqueeze(cont_gc, 1)\n",
    "        h_lstm_gc, lstm_out_gc = self.gc_lstm(cont_gc) # h_lstm: 256 * 1 * (2 * 5)\n",
    "        conc_gc = h_lstm_gc.view(-1, self.hidden_dim_gc * 2)\n",
    "        \n",
    "        conc = torch.cat((conc_g, conc_c, conc_gc),1)\n",
    "        conc = self.batch_norm(conc)\n",
    "        \n",
    "        dropped = self.dropout(conc)\n",
    "        out = self.out(dropped)\n",
    "        return out"
   ]
  },
  {
   "cell_type": "code",
   "execution_count": 9,
   "metadata": {
    "execution": {
     "iopub.execute_input": "2020-10-14T11:40:02.546700Z",
     "iopub.status.busy": "2020-10-14T11:40:02.545819Z",
     "iopub.status.idle": "2020-10-14T11:40:03.043154Z",
     "shell.execute_reply": "2020-10-14T11:40:03.044559Z"
    },
    "papermill": {
     "duration": 0.52467,
     "end_time": "2020-10-14T11:40:03.044724",
     "exception": false,
     "start_time": "2020-10-14T11:40:02.520054",
     "status": "completed"
    },
    "tags": []
   },
   "outputs": [
    {
     "name": "stdout",
     "output_type": "stream",
     "text": [
      "cuda\n"
     ]
    }
   ],
   "source": [
    "batch_size = 256\n",
    "train_epochs = 30\n",
    "n_folds=5\n",
    "EARLY_STOPPING_STEPS = 10\n",
    "\n",
    "device = \"cuda\" if torch.cuda.is_available() else \"cpu\"\n",
    "print(device)\n",
    "def mean_log_loss(y_true, y_pred):\n",
    "    metrics = []\n",
    "    for i, target in enumerate(target_feats):\n",
    "        metrics.append(log_loss(y_true[:, i], y_pred[:, i].astype(float), labels=[0,1]))\n",
    "    return np.mean(metrics)\n",
    "\n",
    "def seed_everything(seed=1234): \n",
    "    random.seed(seed)\n",
    "    os.environ['PYTHONHASHSEED'] = str(seed)\n",
    "    tf.random.set_seed(seed)\n",
    "    np.random.seed(seed)\n",
    "    torch.manual_seed(seed)\n",
    "    torch.cuda.manual_seed(seed)\n",
    "    torch.backends.cudnn.deterministic = True\n",
    "\n",
    "def modelling_lstm(tr, target, te, sample_seed, init_num, last_num, files):\n",
    "    seed_everything(seed=sample_seed) \n",
    "    X_train = tr.copy()\n",
    "    y_train = target.copy()\n",
    "    X_test = te.copy()\n",
    "    test_len = X_test.shape[0]\n",
    "\n",
    "    mskf=MultilabelStratifiedKFold(n_splits = n_folds, shuffle=True, random_state=2)\n",
    "    models = []\n",
    "    \n",
    "    X_test_g = torch.tensor(X_test[:,:772], dtype=torch.float32)\n",
    "    X_test_c = torch.tensor(X_test[:,772:872], dtype=torch.float32)\n",
    "    X_test_num = torch.tensor(X_test[:,:872], dtype=torch.float32)\n",
    "\n",
    "    X_test = torch.utils.data.TensorDataset(X_test_g, X_test_c, X_test_num) \n",
    "    test_loader = torch.utils.data.DataLoader(X_test, batch_size=batch_size, shuffle=False)\n",
    "    \n",
    "    oof = np.zeros([len(X_train),y_train.shape[1]])\n",
    "    oof_targets = np.zeros([len(X_train),y_train.shape[1]])\n",
    "    pred_value = np.zeros([test_len, y_train.shape[1]])\n",
    "    scores = []\n",
    "    \n",
    "    for fold, (train_index, valid_index) in enumerate(mskf.split(X_train, y_train)):\n",
    "        print(\"Fold \"+str(fold+1))\n",
    "        X_train2_g = torch.tensor(X_train[train_index,:772], dtype=torch.float32)\n",
    "        X_valid2_g = torch.tensor(X_train[valid_index,:772], dtype=torch.float32)\n",
    "        X_train2_c = torch.tensor(X_train[train_index,772:872], dtype=torch.float32)\n",
    "        X_valid2_c = torch.tensor(X_train[valid_index,772:872], dtype=torch.float32)\n",
    "        X_train2 = torch.tensor(X_train[train_index,:872], dtype=torch.float32)\n",
    "        X_valid2 = torch.tensor(X_train[valid_index,:872], dtype=torch.float32)\n",
    "        \n",
    "        y_train2 = torch.tensor(y_train[train_index], dtype=torch.float32)\n",
    "        y_valid2 = torch.tensor(y_train[valid_index], dtype=torch.float32)\n",
    "            \n",
    "        clf = myLSTM()\n",
    "        if files != []:\n",
    "            clf.load_state_dict(torch.load(files[fold]))\n",
    "        loss_fn = torch.nn.BCEWithLogitsLoss() \n",
    "        optimizer = optim.Adam(clf.parameters(), lr = 0.01, weight_decay=1e-5) \n",
    "        #lookahead = Lookahead(optimizer, k=10, alpha=0.6) #lookahead\n",
    "        scheduler = optim.lr_scheduler.ReduceLROnPlateau(optimizer, mode='min', factor=0.1, patience=3, eps=1e-4, verbose=True)\n",
    "        \n",
    "        train = torch.utils.data.TensorDataset(X_train2_g, X_train2_c, X_train2, y_train2)\n",
    "        valid = torch.utils.data.TensorDataset(X_valid2_g, X_valid2_c, X_valid2, y_valid2)\n",
    "        \n",
    "        clf.to(device)\n",
    "        \n",
    "        train_loader = torch.utils.data.DataLoader(train, batch_size=batch_size, shuffle=True) \n",
    "        valid_loader = torch.utils.data.DataLoader(valid, batch_size=batch_size, shuffle=False)\n",
    "        \n",
    "        best_val_loss = np.inf\n",
    "        stop_counts = 0\n",
    "        for epoch in range(train_epochs):\n",
    "            start_time = time.time()\n",
    "            clf.train()\n",
    "            avg_loss = 0.\n",
    "            for x_batch_g, x_batch_c, x_batch, y_batch in tqdm(train_loader, disable=True):\n",
    "                x_batch_g = x_batch_g.to(device)\n",
    "                x_batch_c = x_batch_c.to(device)\n",
    "                x_batch = x_batch.to(device)\n",
    "                y_batch = y_batch.to(device)\n",
    "                y_pred = clf(x_batch_g, x_batch_c, x_batch) \n",
    "                loss = loss_fn(y_pred, y_batch)\n",
    "                optimizer.zero_grad()\n",
    "                loss.backward()\n",
    "                optimizer.step()\n",
    "                avg_loss += loss.item() / len(train_loader)        \n",
    "            \n",
    "            clf.eval()\n",
    "            avg_val_loss = 0.\n",
    "            for i, (x_batch_g, x_batch_c, x_batch, y_batch) in enumerate(valid_loader): \n",
    "                x_batch_g = x_batch_g.to(device)\n",
    "                x_batch_c = x_batch_c.to(device)\n",
    "                x_batch = x_batch.to(device)\n",
    "                y_batch = y_batch.to(device)\n",
    "                y_pred = clf(x_batch_g, x_batch_c, x_batch).detach()\n",
    "                avg_val_loss += loss_fn(y_pred, y_batch).item() / len(valid_loader)\n",
    "                \n",
    "            elapsed_time = time.time() - start_time \n",
    "            scheduler.step(avg_val_loss)\n",
    "                    \n",
    "            if avg_val_loss < best_val_loss:\n",
    "                stop_counts = 0\n",
    "                best_val_loss = avg_val_loss\n",
    "                print('Best model: Epoch {} \\t loss={:.6f} \\t val_loss={:.6f} \\t time={:.2f}s'.format(\n",
    "                    epoch + 1, avg_loss, avg_val_loss, elapsed_time))\n",
    "                torch.save(clf.state_dict(), 'best-model-parameters.pt')\n",
    "            else:\n",
    "                stop_counts += 1\n",
    "        \n",
    "            #if stop_counts >= EARLY_STOPPING_STEPS: \n",
    "            #    break\n",
    "         \n",
    "        pred_model = myLSTM()\n",
    "        pred_model.load_state_dict(torch.load('best-model-parameters.pt'))\n",
    "        pred_model.eval()\n",
    "        \n",
    "        # validation check ----------------\n",
    "        oof_epoch = np.zeros([X_valid2_g.size(0), y_train.shape[1]])\n",
    "        target_epoch = np.zeros([X_valid2_g.size(0), y_train.shape[1]])\n",
    "        for i, (x_batch_g, x_batch_c, x_batch, y_batch) in enumerate(valid_loader): \n",
    "                y_pred = pred_model(x_batch_g, x_batch_c, x_batch).sigmoid().detach()\n",
    "                oof_epoch[i * batch_size:(i+1) * batch_size,:] = y_pred.cpu().numpy()\n",
    "                target_epoch[i * batch_size:(i+1) * batch_size,:] = y_batch.cpu().numpy()\n",
    "        print(\"Fold {} log loss: {}\".format(fold+1, mean_log_loss(target_epoch, oof_epoch)))\n",
    "        scores.append(mean_log_loss(target_epoch, oof_epoch))\n",
    "        oof[valid_index,:] = oof_epoch\n",
    "        oof_targets[valid_index,:] = target_epoch\n",
    "        #-----------------------------------\n",
    "        \n",
    "        # test predcition --------------\n",
    "        test_preds = np.zeros([test_len, y_train.shape[1]])\n",
    "        for i, (x_batch_g, x_batch_c, x_batch, ) in enumerate(test_loader): \n",
    "            y_pred = pred_model(x_batch_g, x_batch_c, x_batch).sigmoid().detach()\n",
    "            test_preds[i * batch_size:(i+1) * batch_size, :] = y_pred.cpu().numpy()\n",
    "        pred_value += test_preds / n_folds\n",
    "        # ------------------------------\n",
    "        \n",
    "    print(\"Seed {}\".format(seed_))\n",
    "    for i, ele in enumerate(scores):\n",
    "        print(\"Fold {} log loss: {}\".format(i+1, scores[i]))\n",
    "    print(\"Std of log loss: {}\".format(np.std(scores)))\n",
    "    print(\"Total log loss: {}\".format(mean_log_loss(oof_targets, oof)))\n",
    "\n",
    "    return oof, oof_targets, pred_value"
   ]
  },
  {
   "cell_type": "code",
   "execution_count": 10,
   "metadata": {
    "execution": {
     "iopub.execute_input": "2020-10-14T11:40:03.086753Z",
     "iopub.status.busy": "2020-10-14T11:40:03.085150Z",
     "iopub.status.idle": "2020-10-14T11:49:27.854849Z",
     "shell.execute_reply": "2020-10-14T11:49:27.854228Z"
    },
    "papermill": {
     "duration": 564.795268,
     "end_time": "2020-10-14T11:49:27.854966",
     "exception": false,
     "start_time": "2020-10-14T11:40:03.059698",
     "status": "completed"
    },
    "tags": []
   },
   "outputs": [
    {
     "name": "stdout",
     "output_type": "stream",
     "text": [
      "Fold 1\n",
      "Best model: Epoch 1 \t loss=0.153611 \t val_loss=0.019691 \t time=1.34s\n",
      "Best model: Epoch 2 \t loss=0.018362 \t val_loss=0.018355 \t time=1.21s\n",
      "Best model: Epoch 3 \t loss=0.017352 \t val_loss=0.018010 \t time=1.11s\n",
      "Best model: Epoch 4 \t loss=0.016957 \t val_loss=0.017632 \t time=1.00s\n",
      "Best model: Epoch 5 \t loss=0.016670 \t val_loss=0.017272 \t time=1.00s\n",
      "Best model: Epoch 9 \t loss=0.016347 \t val_loss=0.017264 \t time=0.94s\n",
      "Best model: Epoch 11 \t loss=0.016366 \t val_loss=0.017235 \t time=1.76s\n",
      "Epoch    15: reducing learning rate of group 0 to 1.0000e-03.\n",
      "Best model: Epoch 16 \t loss=0.015021 \t val_loss=0.016439 \t time=0.95s\n",
      "Best model: Epoch 17 \t loss=0.013726 \t val_loss=0.016247 \t time=0.95s\n",
      "Epoch    21: reducing learning rate of group 0 to 1.0000e-04.\n",
      "Fold 1 log loss: 0.016475578767147152\n",
      "Fold 2\n",
      "Best model: Epoch 1 \t loss=0.149627 \t val_loss=0.019608 \t time=1.14s\n",
      "Best model: Epoch 2 \t loss=0.018469 \t val_loss=0.018466 \t time=1.04s\n",
      "Best model: Epoch 3 \t loss=0.017397 \t val_loss=0.017743 \t time=0.96s\n",
      "Best model: Epoch 4 \t loss=0.016953 \t val_loss=0.017580 \t time=1.11s\n",
      "Best model: Epoch 5 \t loss=0.016602 \t val_loss=0.017408 \t time=0.93s\n",
      "Best model: Epoch 6 \t loss=0.016459 \t val_loss=0.017184 \t time=1.16s\n",
      "Epoch    10: reducing learning rate of group 0 to 1.0000e-03.\n",
      "Best model: Epoch 11 \t loss=0.014459 \t val_loss=0.016316 \t time=0.99s\n",
      "Best model: Epoch 12 \t loss=0.013226 \t val_loss=0.016202 \t time=1.15s\n",
      "Epoch    16: reducing learning rate of group 0 to 1.0000e-04.\n",
      "Fold 2 log loss: 0.016328148783088796\n",
      "Fold 3\n",
      "Best model: Epoch 1 \t loss=0.154202 \t val_loss=0.019732 \t time=0.93s\n",
      "Best model: Epoch 2 \t loss=0.018450 \t val_loss=0.018452 \t time=1.13s\n",
      "Best model: Epoch 3 \t loss=0.017463 \t val_loss=0.017912 \t time=1.30s\n",
      "Best model: Epoch 4 \t loss=0.017447 \t val_loss=0.017633 \t time=1.11s\n",
      "Best model: Epoch 5 \t loss=0.016644 \t val_loss=0.017491 \t time=0.93s\n",
      "Best model: Epoch 6 \t loss=0.016517 \t val_loss=0.017162 \t time=0.96s\n",
      "Epoch    10: reducing learning rate of group 0 to 1.0000e-03.\n",
      "Best model: Epoch 11 \t loss=0.014571 \t val_loss=0.016332 \t time=0.96s\n",
      "Best model: Epoch 12 \t loss=0.013345 \t val_loss=0.016200 \t time=0.93s\n",
      "Epoch    16: reducing learning rate of group 0 to 1.0000e-04.\n",
      "Fold 3 log loss: 0.0161963373541443\n",
      "Fold 4\n",
      "Best model: Epoch 1 \t loss=0.156612 \t val_loss=0.019665 \t time=1.32s\n",
      "Best model: Epoch 2 \t loss=0.018505 \t val_loss=0.018171 \t time=1.10s\n",
      "Best model: Epoch 3 \t loss=0.017778 \t val_loss=0.017530 \t time=1.01s\n",
      "Best model: Epoch 5 \t loss=0.016705 \t val_loss=0.017361 \t time=1.04s\n",
      "Best model: Epoch 6 \t loss=0.016515 \t val_loss=0.017121 \t time=1.02s\n",
      "Best model: Epoch 9 \t loss=0.016306 \t val_loss=0.017059 \t time=0.94s\n",
      "Best model: Epoch 12 \t loss=0.016420 \t val_loss=0.016997 \t time=0.99s\n",
      "Epoch    16: reducing learning rate of group 0 to 1.0000e-03.\n",
      "Best model: Epoch 17 \t loss=0.014975 \t val_loss=0.016301 \t time=0.98s\n",
      "Best model: Epoch 18 \t loss=0.013738 \t val_loss=0.016079 \t time=0.94s\n",
      "Epoch    22: reducing learning rate of group 0 to 1.0000e-04.\n",
      "Fold 4 log loss: 0.016240277246192404\n",
      "Fold 5\n",
      "Best model: Epoch 1 \t loss=0.153987 \t val_loss=0.019938 \t time=1.07s\n",
      "Best model: Epoch 2 \t loss=0.018477 \t val_loss=0.018477 \t time=0.98s\n",
      "Best model: Epoch 3 \t loss=0.017404 \t val_loss=0.018224 \t time=1.03s\n",
      "Best model: Epoch 4 \t loss=0.016972 \t val_loss=0.018111 \t time=0.99s\n",
      "Best model: Epoch 5 \t loss=0.016587 \t val_loss=0.017597 \t time=1.08s\n",
      "Best model: Epoch 6 \t loss=0.016395 \t val_loss=0.017559 \t time=1.09s\n",
      "Best model: Epoch 7 \t loss=0.016323 \t val_loss=0.017383 \t time=1.45s\n",
      "Best model: Epoch 8 \t loss=0.016245 \t val_loss=0.017344 \t time=0.99s\n",
      "Best model: Epoch 10 \t loss=0.016322 \t val_loss=0.017280 \t time=0.93s\n",
      "Epoch    14: reducing learning rate of group 0 to 1.0000e-03.\n",
      "Best model: Epoch 15 \t loss=0.014836 \t val_loss=0.016452 \t time=1.10s\n",
      "Best model: Epoch 16 \t loss=0.013623 \t val_loss=0.016357 \t time=0.94s\n",
      "Epoch    20: reducing learning rate of group 0 to 1.0000e-04.\n",
      "Fold 5 log loss: 0.016367682517268025\n",
      "Seed 0\n",
      "Fold 1 log loss: 0.016475578767147152\n",
      "Fold 2 log loss: 0.016328148783088796\n",
      "Fold 3 log loss: 0.0161963373541443\n",
      "Fold 4 log loss: 0.016240277246192404\n",
      "Fold 5 log loss: 0.016367682517268025\n",
      "Std of log loss: 9.816319707688835e-05\n",
      "Total log loss: 0.01632160253601787\n",
      "Fold 1\n",
      "Best model: Epoch 1 \t loss=0.166233 \t val_loss=0.020087 \t time=1.28s\n",
      "Best model: Epoch 2 \t loss=0.018654 \t val_loss=0.018322 \t time=0.94s\n",
      "Best model: Epoch 3 \t loss=0.017535 \t val_loss=0.017836 \t time=0.99s\n",
      "Best model: Epoch 4 \t loss=0.016970 \t val_loss=0.017565 \t time=1.00s\n",
      "Best model: Epoch 6 \t loss=0.016369 \t val_loss=0.017374 \t time=1.01s\n",
      "Best model: Epoch 7 \t loss=0.016117 \t val_loss=0.017206 \t time=0.97s\n",
      "Epoch    11: reducing learning rate of group 0 to 1.0000e-03.\n",
      "Best model: Epoch 12 \t loss=0.014300 \t val_loss=0.016307 \t time=0.95s\n",
      "Best model: Epoch 13 \t loss=0.013041 \t val_loss=0.016204 \t time=1.01s\n",
      "Epoch    17: reducing learning rate of group 0 to 1.0000e-04.\n",
      "Fold 1 log loss: 0.016448848204021246\n",
      "Fold 2\n",
      "Best model: Epoch 1 \t loss=0.156656 \t val_loss=0.019716 \t time=0.95s\n",
      "Best model: Epoch 2 \t loss=0.018481 \t val_loss=0.018226 \t time=1.07s\n",
      "Best model: Epoch 3 \t loss=0.017359 \t val_loss=0.017882 \t time=0.94s\n",
      "Best model: Epoch 4 \t loss=0.017004 \t val_loss=0.017751 \t time=0.94s\n",
      "Best model: Epoch 5 \t loss=0.016547 \t val_loss=0.017369 \t time=0.94s\n",
      "Best model: Epoch 7 \t loss=0.016295 \t val_loss=0.017252 \t time=1.03s\n",
      "Best model: Epoch 8 \t loss=0.016169 \t val_loss=0.017186 \t time=1.34s\n",
      "Best model: Epoch 12 \t loss=0.016393 \t val_loss=0.017146 \t time=0.96s\n",
      "Epoch    16: reducing learning rate of group 0 to 1.0000e-03.\n",
      "Best model: Epoch 17 \t loss=0.014823 \t val_loss=0.016253 \t time=0.94s\n",
      "Best model: Epoch 18 \t loss=0.013569 \t val_loss=0.016157 \t time=1.10s\n",
      "Best model: Epoch 19 \t loss=0.012894 \t val_loss=0.016111 \t time=1.12s\n",
      "Epoch    23: reducing learning rate of group 0 to 1.0000e-04.\n",
      "Fold 2 log loss: 0.01624807312109255\n",
      "Fold 3\n",
      "Best model: Epoch 1 \t loss=0.159913 \t val_loss=0.019878 \t time=0.96s\n",
      "Best model: Epoch 2 \t loss=0.018549 \t val_loss=0.018353 \t time=0.97s\n",
      "Best model: Epoch 3 \t loss=0.017395 \t val_loss=0.017838 \t time=1.09s\n",
      "Best model: Epoch 4 \t loss=0.016981 \t val_loss=0.017690 \t time=0.95s\n",
      "Best model: Epoch 5 \t loss=0.016633 \t val_loss=0.017484 \t time=1.22s\n",
      "Best model: Epoch 6 \t loss=0.016489 \t val_loss=0.017190 \t time=1.09s\n",
      "Epoch    10: reducing learning rate of group 0 to 1.0000e-03.\n",
      "Best model: Epoch 11 \t loss=0.014329 \t val_loss=0.016286 \t time=0.95s\n",
      "Best model: Epoch 12 \t loss=0.013096 \t val_loss=0.016176 \t time=1.07s\n",
      "Epoch    16: reducing learning rate of group 0 to 1.0000e-04.\n",
      "Fold 3 log loss: 0.01618579799673444\n",
      "Fold 4\n",
      "Best model: Epoch 1 \t loss=0.155235 \t val_loss=0.019708 \t time=0.97s\n",
      "Best model: Epoch 2 \t loss=0.018576 \t val_loss=0.018105 \t time=1.01s\n",
      "Best model: Epoch 3 \t loss=0.017494 \t val_loss=0.017680 \t time=1.24s\n",
      "Best model: Epoch 5 \t loss=0.016764 \t val_loss=0.017655 \t time=1.00s\n",
      "Best model: Epoch 6 \t loss=0.016400 \t val_loss=0.017144 \t time=1.13s\n",
      "Best model: Epoch 7 \t loss=0.016291 \t val_loss=0.017005 \t time=1.03s\n",
      "Best model: Epoch 11 \t loss=0.016370 \t val_loss=0.016913 \t time=0.98s\n",
      "Epoch    15: reducing learning rate of group 0 to 1.0000e-03.\n",
      "Best model: Epoch 16 \t loss=0.014815 \t val_loss=0.016213 \t time=1.09s\n",
      "Best model: Epoch 17 \t loss=0.013550 \t val_loss=0.016109 \t time=0.94s\n",
      "Epoch    21: reducing learning rate of group 0 to 1.0000e-04.\n",
      "Fold 4 log loss: 0.01625555460009464\n",
      "Fold 5\n",
      "Best model: Epoch 1 \t loss=0.160228 \t val_loss=0.020004 \t time=1.47s\n",
      "Best model: Epoch 2 \t loss=0.018513 \t val_loss=0.018644 \t time=1.07s\n",
      "Best model: Epoch 3 \t loss=0.017337 \t val_loss=0.018010 \t time=0.93s\n",
      "Best model: Epoch 4 \t loss=0.017091 \t val_loss=0.017833 \t time=1.01s\n",
      "Best model: Epoch 5 \t loss=0.016566 \t val_loss=0.017669 \t time=1.15s\n",
      "Best model: Epoch 6 \t loss=0.016445 \t val_loss=0.017495 \t time=0.94s\n",
      "Best model: Epoch 7 \t loss=0.016279 \t val_loss=0.017443 \t time=1.10s\n",
      "Best model: Epoch 9 \t loss=0.016260 \t val_loss=0.017331 \t time=1.32s\n",
      "Epoch    13: reducing learning rate of group 0 to 1.0000e-03.\n",
      "Best model: Epoch 14 \t loss=0.014709 \t val_loss=0.016444 \t time=1.13s\n",
      "Best model: Epoch 15 \t loss=0.013478 \t val_loss=0.016336 \t time=0.93s\n",
      "Epoch    19: reducing learning rate of group 0 to 1.0000e-04.\n",
      "Fold 5 log loss: 0.016353511649444683\n",
      "Seed 10\n",
      "Fold 1 log loss: 0.016448848204021246\n",
      "Fold 2 log loss: 0.01624807312109255\n",
      "Fold 3 log loss: 0.01618579799673444\n",
      "Fold 4 log loss: 0.01625555460009464\n",
      "Fold 5 log loss: 0.016353511649444683\n",
      "Std of log loss: 9.24334149264635e-05\n",
      "Total log loss: 0.01629835689236472\n",
      "Fold 1\n",
      "Best model: Epoch 1 \t loss=0.157668 \t val_loss=0.019795 \t time=1.20s\n",
      "Best model: Epoch 2 \t loss=0.018458 \t val_loss=0.018306 \t time=0.98s\n",
      "Best model: Epoch 3 \t loss=0.017401 \t val_loss=0.017836 \t time=0.98s\n",
      "Best model: Epoch 4 \t loss=0.016907 \t val_loss=0.017528 \t time=1.16s\n",
      "Best model: Epoch 6 \t loss=0.016427 \t val_loss=0.017304 \t time=0.95s\n",
      "Best model: Epoch 8 \t loss=0.016145 \t val_loss=0.017287 \t time=1.05s\n",
      "Best model: Epoch 9 \t loss=0.016152 \t val_loss=0.017260 \t time=0.92s\n",
      "Best model: Epoch 10 \t loss=0.016266 \t val_loss=0.017249 \t time=0.99s\n",
      "Best model: Epoch 11 \t loss=0.016242 \t val_loss=0.017242 \t time=1.12s\n",
      "Epoch    15: reducing learning rate of group 0 to 1.0000e-03.\n",
      "Best model: Epoch 16 \t loss=0.014676 \t val_loss=0.016306 \t time=0.92s\n",
      "Best model: Epoch 17 \t loss=0.013375 \t val_loss=0.016203 \t time=0.93s\n",
      "Epoch    21: reducing learning rate of group 0 to 1.0000e-04.\n",
      "Fold 1 log loss: 0.016452320528131316\n",
      "Fold 2\n",
      "Best model: Epoch 1 \t loss=0.158434 \t val_loss=0.019712 \t time=1.04s\n",
      "Best model: Epoch 2 \t loss=0.018438 \t val_loss=0.018176 \t time=0.98s\n",
      "Best model: Epoch 3 \t loss=0.017339 \t val_loss=0.017808 \t time=0.94s\n",
      "Best model: Epoch 4 \t loss=0.016996 \t val_loss=0.017596 \t time=0.97s\n",
      "Best model: Epoch 5 \t loss=0.016579 \t val_loss=0.017366 \t time=1.20s\n",
      "Best model: Epoch 6 \t loss=0.016326 \t val_loss=0.017220 \t time=0.96s\n",
      "Best model: Epoch 7 \t loss=0.016249 \t val_loss=0.017134 \t time=0.95s\n",
      "Epoch    11: reducing learning rate of group 0 to 1.0000e-03.\n",
      "Best model: Epoch 12 \t loss=0.014384 \t val_loss=0.016257 \t time=0.96s\n",
      "Best model: Epoch 13 \t loss=0.013066 \t val_loss=0.016131 \t time=1.01s\n",
      "Epoch    17: reducing learning rate of group 0 to 1.0000e-04.\n",
      "Fold 2 log loss: 0.01627246524932021\n",
      "Fold 3\n",
      "Best model: Epoch 1 \t loss=0.163847 \t val_loss=0.019907 \t time=0.92s\n",
      "Best model: Epoch 2 \t loss=0.018629 \t val_loss=0.018441 \t time=1.01s\n",
      "Best model: Epoch 3 \t loss=0.017514 \t val_loss=0.017847 \t time=1.08s\n",
      "Best model: Epoch 4 \t loss=0.017007 \t val_loss=0.017736 \t time=0.95s\n",
      "Best model: Epoch 5 \t loss=0.016744 \t val_loss=0.017650 \t time=0.92s\n",
      "Best model: Epoch 6 \t loss=0.016447 \t val_loss=0.017532 \t time=0.94s\n",
      "Best model: Epoch 7 \t loss=0.016331 \t val_loss=0.017412 \t time=1.22s\n",
      "Epoch    11: reducing learning rate of group 0 to 1.0000e-03.\n",
      "Best model: Epoch 12 \t loss=0.014509 \t val_loss=0.016319 \t time=0.95s\n",
      "Best model: Epoch 13 \t loss=0.013215 \t val_loss=0.016307 \t time=0.95s\n",
      "Best model: Epoch 15 \t loss=0.012172 \t val_loss=0.016290 \t time=0.92s\n",
      "Epoch    19: reducing learning rate of group 0 to 1.0000e-04.\n",
      "Fold 3 log loss: 0.016294619496894747\n",
      "Fold 4\n",
      "Best model: Epoch 1 \t loss=0.156195 \t val_loss=0.019580 \t time=1.05s\n",
      "Best model: Epoch 2 \t loss=0.018451 \t val_loss=0.018227 \t time=0.94s\n",
      "Best model: Epoch 3 \t loss=0.017482 \t val_loss=0.017916 \t time=0.98s\n",
      "Best model: Epoch 4 \t loss=0.016879 \t val_loss=0.017749 \t time=1.10s\n",
      "Best model: Epoch 5 \t loss=0.016543 \t val_loss=0.017358 \t time=1.18s\n",
      "Best model: Epoch 6 \t loss=0.016424 \t val_loss=0.017009 \t time=1.03s\n",
      "Epoch    10: reducing learning rate of group 0 to 1.0000e-03.\n",
      "Best model: Epoch 11 \t loss=0.014476 \t val_loss=0.016243 \t time=0.93s\n",
      "Best model: Epoch 12 \t loss=0.013190 \t val_loss=0.016155 \t time=1.11s\n",
      "Epoch    16: reducing learning rate of group 0 to 1.0000e-04.\n",
      "Fold 4 log loss: 0.01630163617879079\n",
      "Fold 5\n",
      "Best model: Epoch 1 \t loss=0.155562 \t val_loss=0.020076 \t time=0.93s\n",
      "Best model: Epoch 2 \t loss=0.018506 \t val_loss=0.018500 \t time=1.11s\n",
      "Best model: Epoch 3 \t loss=0.017486 \t val_loss=0.018255 \t time=0.94s\n",
      "Best model: Epoch 4 \t loss=0.016953 \t val_loss=0.017863 \t time=0.95s\n",
      "Best model: Epoch 5 \t loss=0.016604 \t val_loss=0.017637 \t time=1.38s\n",
      "Best model: Epoch 6 \t loss=0.016345 \t val_loss=0.017530 \t time=0.97s\n",
      "Best model: Epoch 7 \t loss=0.016323 \t val_loss=0.017375 \t time=0.97s\n",
      "Best model: Epoch 10 \t loss=0.016317 \t val_loss=0.017330 \t time=0.92s\n",
      "Best model: Epoch 11 \t loss=0.016311 \t val_loss=0.017305 \t time=1.17s\n",
      "Epoch    15: reducing learning rate of group 0 to 1.0000e-03.\n",
      "Best model: Epoch 16 \t loss=0.014784 \t val_loss=0.016446 \t time=0.92s\n",
      "Best model: Epoch 17 \t loss=0.013508 \t val_loss=0.016372 \t time=1.06s\n",
      "Best model: Epoch 18 \t loss=0.012870 \t val_loss=0.016371 \t time=0.93s\n",
      "Epoch    21: reducing learning rate of group 0 to 1.0000e-04.\n",
      "Fold 5 log loss: 0.01638549459139016\n",
      "Seed 40\n",
      "Fold 1 log loss: 0.016452320528131316\n",
      "Fold 2 log loss: 0.01627246524932021\n",
      "Fold 3 log loss: 0.016294619496894747\n",
      "Fold 4 log loss: 0.01630163617879079\n",
      "Fold 5 log loss: 0.01638549459139016\n",
      "Std of log loss: 6.748219068625805e-05\n",
      "Total log loss: 0.016341308332223154\n",
      "Total log loss in targets: 0.016197655649833873\n"
     ]
    }
   ],
   "source": [
    "seeds = [0,10,40]\n",
    "#seeds = [0,1,2,3]\n",
    "\n",
    "target_oof = np.zeros([len(fn_train),fn_targets.shape[1]])\n",
    "target_pred = np.zeros([len(fn_test),fn_targets.shape[1]])\n",
    "\n",
    "nontarget_oof = np.zeros([len(fn_train),fn_nontargets.shape[1]])\n",
    "nontarget_pred = np.zeros([len(fn_test),fn_nontargets.shape[1]])\n",
    "\n",
    "for seed_ in seeds:\n",
    "    oof, oof_targets, pytorch_pred = modelling_lstm(fn_train, fn_targets, fn_test, seed_, fn_train.shape[1], fn_targets.shape[1],[])\n",
    "    target_oof += oof / len(seeds)\n",
    "    target_pred += pytorch_pred / len(seeds)\n",
    "print(\"Total log loss in targets: {}\".format(mean_log_loss(oof_targets, target_oof)))\n",
    "\n",
    "#for seed_ in seeds:\n",
    "#    oof, oof_targets, pytorch_pred = modelling_lstm(fn_train, fn_nontargets, fn_test, seed_, fn_train.shape[1], fn_nontargets.shape[1],[])\n",
    "#    nontarget_oof += oof / len(seeds)\n",
    "#    nontarget_pred += pytorch_pred / len(seeds)\n",
    "#print(\"Total log loss in Non targets: {}\".format(mean_log_loss(oof_targets, nontarget_oof)))"
   ]
  },
  {
   "cell_type": "code",
   "execution_count": 11,
   "metadata": {
    "execution": {
     "iopub.execute_input": "2020-10-14T11:49:28.031298Z",
     "iopub.status.busy": "2020-10-14T11:49:28.030520Z",
     "iopub.status.idle": "2020-10-14T11:49:33.704790Z",
     "shell.execute_reply": "2020-10-14T11:49:33.703778Z"
    },
    "papermill": {
     "duration": 5.768511,
     "end_time": "2020-10-14T11:49:33.704945",
     "exception": false,
     "start_time": "2020-10-14T11:49:27.936434",
     "status": "completed"
    },
    "tags": []
   },
   "outputs": [
    {
     "name": "stdout",
     "output_type": "stream",
     "text": [
      "OOF log loss:  0.014928451591608112\n"
     ]
    }
   ],
   "source": [
    "t = pd.read_csv(DATA_DIR + 'train_targets_scored.csv')\n",
    "train_checkscore = t.copy()\n",
    "train_checkscore.loc[train_checkscore.index.isin(cons_train_index),target_feats] = target_oof\n",
    "train_checkscore.loc[train_checkscore.index.isin(noncons_train_index),target_feats] = 0\n",
    "t.drop(\"sig_id\", axis=1, inplace=True)\n",
    "print('OOF log loss: ', log_loss(np.ravel(t), np.ravel(np.array(train_checkscore.iloc[:,1:]))))"
   ]
  },
  {
   "cell_type": "code",
   "execution_count": 12,
   "metadata": {
    "execution": {
     "iopub.execute_input": "2020-10-14T11:49:33.879207Z",
     "iopub.status.busy": "2020-10-14T11:49:33.878230Z",
     "iopub.status.idle": "2020-10-14T11:49:36.463264Z",
     "shell.execute_reply": "2020-10-14T11:49:36.462009Z"
    },
    "papermill": {
     "duration": 2.674819,
     "end_time": "2020-10-14T11:49:36.463417",
     "exception": false,
     "start_time": "2020-10-14T11:49:33.788598",
     "status": "completed"
    },
    "tags": []
   },
   "outputs": [],
   "source": [
    "sub[target_feats] = target_pred\n",
    "sub.loc[noncons_test_index,target_feats] = 0\n",
    "sub.to_csv('submission.csv', index=False)"
   ]
  }
 ],
 "metadata": {
  "kernelspec": {
   "display_name": "Python 3",
   "language": "python",
   "name": "python3"
  },
  "language_info": {
   "codemirror_mode": {
    "name": "ipython",
    "version": 3
   },
   "file_extension": ".py",
   "mimetype": "text/x-python",
   "name": "python",
   "nbconvert_exporter": "python",
   "pygments_lexer": "ipython3",
   "version": "3.7.6"
  },
  "papermill": {
   "duration": 595.042257,
   "end_time": "2020-10-14T11:49:37.865077",
   "environment_variables": {},
   "exception": null,
   "input_path": "__notebook__.ipynb",
   "output_path": "__notebook__.ipynb",
   "parameters": {},
   "start_time": "2020-10-14T11:39:42.822820",
   "version": "2.1.0"
  }
 },
 "nbformat": 4,
 "nbformat_minor": 4
}
